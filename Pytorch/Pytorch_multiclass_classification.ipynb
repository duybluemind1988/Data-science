{
  "nbformat": 4,
  "nbformat_minor": 0,
  "metadata": {
    "colab": {
      "name": "Pytorch multiclass classification.ipynb",
      "provenance": [],
      "collapsed_sections": [],
      "mount_file_id": "1GZpOpD3cE3szNnnk3youcKmAMb7FpFQ7",
      "authorship_tag": "ABX9TyNOSMRSo0/Ct2/4h/7papZJ",
      "include_colab_link": true
    },
    "kernelspec": {
      "name": "python3",
      "display_name": "Python 3"
    },
    "widgets": {
      "application/vnd.jupyter.widget-state+json": {
        "761ba962e3fb4e14906bb0eab465acc0": {
          "model_module": "@jupyter-widgets/controls",
          "model_name": "HBoxModel",
          "state": {
            "_view_name": "HBoxView",
            "_dom_classes": [],
            "_model_name": "HBoxModel",
            "_view_module": "@jupyter-widgets/controls",
            "_model_module_version": "1.5.0",
            "_view_count": null,
            "_view_module_version": "1.5.0",
            "box_style": "",
            "layout": "IPY_MODEL_8d7a84565ccf42159e75be70ab71d04d",
            "_model_module": "@jupyter-widgets/controls",
            "children": [
              "IPY_MODEL_5a59967fccfd4fbc93212666a5651b31",
              "IPY_MODEL_0e4870378c7945b083741586af6eddff"
            ]
          }
        },
        "8d7a84565ccf42159e75be70ab71d04d": {
          "model_module": "@jupyter-widgets/base",
          "model_name": "LayoutModel",
          "state": {
            "_view_name": "LayoutView",
            "grid_template_rows": null,
            "right": null,
            "justify_content": null,
            "_view_module": "@jupyter-widgets/base",
            "overflow": null,
            "_model_module_version": "1.2.0",
            "_view_count": null,
            "flex_flow": null,
            "width": null,
            "min_width": null,
            "border": null,
            "align_items": null,
            "bottom": null,
            "_model_module": "@jupyter-widgets/base",
            "top": null,
            "grid_column": null,
            "overflow_y": null,
            "overflow_x": null,
            "grid_auto_flow": null,
            "grid_area": null,
            "grid_template_columns": null,
            "flex": null,
            "_model_name": "LayoutModel",
            "justify_items": null,
            "grid_row": null,
            "max_height": null,
            "align_content": null,
            "visibility": null,
            "align_self": null,
            "height": null,
            "min_height": null,
            "padding": null,
            "grid_auto_rows": null,
            "grid_gap": null,
            "max_width": null,
            "order": null,
            "_view_module_version": "1.2.0",
            "grid_template_areas": null,
            "object_position": null,
            "object_fit": null,
            "grid_auto_columns": null,
            "margin": null,
            "display": null,
            "left": null
          }
        },
        "5a59967fccfd4fbc93212666a5651b31": {
          "model_module": "@jupyter-widgets/controls",
          "model_name": "FloatProgressModel",
          "state": {
            "_view_name": "ProgressView",
            "style": "IPY_MODEL_31c130f118a342cfb9e79252a4411299",
            "_dom_classes": [],
            "description": "100%",
            "_model_name": "FloatProgressModel",
            "bar_style": "success",
            "max": 300,
            "_view_module": "@jupyter-widgets/controls",
            "_model_module_version": "1.5.0",
            "value": 300,
            "_view_count": null,
            "_view_module_version": "1.5.0",
            "orientation": "horizontal",
            "min": 0,
            "description_tooltip": null,
            "_model_module": "@jupyter-widgets/controls",
            "layout": "IPY_MODEL_cb6feed25e6b4c57b202dcad864c83f3"
          }
        },
        "0e4870378c7945b083741586af6eddff": {
          "model_module": "@jupyter-widgets/controls",
          "model_name": "HTMLModel",
          "state": {
            "_view_name": "HTMLView",
            "style": "IPY_MODEL_910025adc39d481c8ae026ab4211748a",
            "_dom_classes": [],
            "description": "",
            "_model_name": "HTMLModel",
            "placeholder": "​",
            "_view_module": "@jupyter-widgets/controls",
            "_model_module_version": "1.5.0",
            "value": " 300/300 [03:13&lt;00:00,  1.55it/s]",
            "_view_count": null,
            "_view_module_version": "1.5.0",
            "description_tooltip": null,
            "_model_module": "@jupyter-widgets/controls",
            "layout": "IPY_MODEL_cd4e8c833b514b588714d1de58a35b73"
          }
        },
        "31c130f118a342cfb9e79252a4411299": {
          "model_module": "@jupyter-widgets/controls",
          "model_name": "ProgressStyleModel",
          "state": {
            "_view_name": "StyleView",
            "_model_name": "ProgressStyleModel",
            "description_width": "initial",
            "_view_module": "@jupyter-widgets/base",
            "_model_module_version": "1.5.0",
            "_view_count": null,
            "_view_module_version": "1.2.0",
            "bar_color": null,
            "_model_module": "@jupyter-widgets/controls"
          }
        },
        "cb6feed25e6b4c57b202dcad864c83f3": {
          "model_module": "@jupyter-widgets/base",
          "model_name": "LayoutModel",
          "state": {
            "_view_name": "LayoutView",
            "grid_template_rows": null,
            "right": null,
            "justify_content": null,
            "_view_module": "@jupyter-widgets/base",
            "overflow": null,
            "_model_module_version": "1.2.0",
            "_view_count": null,
            "flex_flow": null,
            "width": null,
            "min_width": null,
            "border": null,
            "align_items": null,
            "bottom": null,
            "_model_module": "@jupyter-widgets/base",
            "top": null,
            "grid_column": null,
            "overflow_y": null,
            "overflow_x": null,
            "grid_auto_flow": null,
            "grid_area": null,
            "grid_template_columns": null,
            "flex": null,
            "_model_name": "LayoutModel",
            "justify_items": null,
            "grid_row": null,
            "max_height": null,
            "align_content": null,
            "visibility": null,
            "align_self": null,
            "height": null,
            "min_height": null,
            "padding": null,
            "grid_auto_rows": null,
            "grid_gap": null,
            "max_width": null,
            "order": null,
            "_view_module_version": "1.2.0",
            "grid_template_areas": null,
            "object_position": null,
            "object_fit": null,
            "grid_auto_columns": null,
            "margin": null,
            "display": null,
            "left": null
          }
        },
        "910025adc39d481c8ae026ab4211748a": {
          "model_module": "@jupyter-widgets/controls",
          "model_name": "DescriptionStyleModel",
          "state": {
            "_view_name": "StyleView",
            "_model_name": "DescriptionStyleModel",
            "description_width": "",
            "_view_module": "@jupyter-widgets/base",
            "_model_module_version": "1.5.0",
            "_view_count": null,
            "_view_module_version": "1.2.0",
            "_model_module": "@jupyter-widgets/controls"
          }
        },
        "cd4e8c833b514b588714d1de58a35b73": {
          "model_module": "@jupyter-widgets/base",
          "model_name": "LayoutModel",
          "state": {
            "_view_name": "LayoutView",
            "grid_template_rows": null,
            "right": null,
            "justify_content": null,
            "_view_module": "@jupyter-widgets/base",
            "overflow": null,
            "_model_module_version": "1.2.0",
            "_view_count": null,
            "flex_flow": null,
            "width": null,
            "min_width": null,
            "border": null,
            "align_items": null,
            "bottom": null,
            "_model_module": "@jupyter-widgets/base",
            "top": null,
            "grid_column": null,
            "overflow_y": null,
            "overflow_x": null,
            "grid_auto_flow": null,
            "grid_area": null,
            "grid_template_columns": null,
            "flex": null,
            "_model_name": "LayoutModel",
            "justify_items": null,
            "grid_row": null,
            "max_height": null,
            "align_content": null,
            "visibility": null,
            "align_self": null,
            "height": null,
            "min_height": null,
            "padding": null,
            "grid_auto_rows": null,
            "grid_gap": null,
            "max_width": null,
            "order": null,
            "_view_module_version": "1.2.0",
            "grid_template_areas": null,
            "object_position": null,
            "object_fit": null,
            "grid_auto_columns": null,
            "margin": null,
            "display": null,
            "left": null
          }
        }
      }
    }
  },
  "cells": [
    {
      "cell_type": "markdown",
      "metadata": {
        "id": "view-in-github",
        "colab_type": "text"
      },
      "source": [
        "<a href=\"https://colab.research.google.com/github/duybluemind1988/Data-science/blob/master/Pytorch/Pytorch_multiclass_classification.ipynb\" target=\"_parent\"><img src=\"https://colab.research.google.com/assets/colab-badge.svg\" alt=\"Open In Colab\"/></a>"
      ]
    },
    {
      "cell_type": "markdown",
      "metadata": {
        "id": "C7q48lQ3jzT1"
      },
      "source": [
        "# Winequality-red"
      ]
    },
    {
      "cell_type": "markdown",
      "metadata": {
        "id": "WID0kgCVjw6U"
      },
      "source": [
        "https://towardsdatascience.com/pytorch-tabular-multiclass-classification-9f8211a123ab"
      ]
    },
    {
      "cell_type": "code",
      "metadata": {
        "id": "FjylLVZYjxMY"
      },
      "source": [
        "import numpy as np\n",
        "import pandas as pd\n",
        "import seaborn as sns\n",
        "from tqdm.notebook import tqdm\n",
        "import matplotlib.pyplot as plt\n",
        "\n",
        "import torch\n",
        "import torch.nn as nn\n",
        "import torch.optim as optim\n",
        "from torch.utils.data import Dataset, DataLoader, WeightedRandomSampler\n",
        "\n",
        "from sklearn.preprocessing import MinMaxScaler    \n",
        "from sklearn.model_selection import train_test_split\n",
        "from sklearn.metrics import confusion_matrix, classification_report"
      ],
      "execution_count": null,
      "outputs": []
    },
    {
      "cell_type": "markdown",
      "metadata": {
        "id": "DOOmb7GmnMjx"
      },
      "source": [
        "## Prepare data"
      ]
    },
    {
      "cell_type": "code",
      "metadata": {
        "id": "oVw9mH7Rj4aK",
        "outputId": "ffaeaf37-4793-40b2-d6d8-7db86c9d60c7",
        "colab": {
          "base_uri": "https://localhost:8080/",
          "height": 275
        }
      },
      "source": [
        "df = pd.read_csv(\"/content/drive/My Drive/Data/winequality-red.csv\")\n",
        "print(df.shape)\n",
        "df.head()"
      ],
      "execution_count": null,
      "outputs": [
        {
          "output_type": "stream",
          "text": [
            "(1599, 12)\n"
          ],
          "name": "stdout"
        },
        {
          "output_type": "execute_result",
          "data": {
            "text/html": [
              "<div>\n",
              "<style scoped>\n",
              "    .dataframe tbody tr th:only-of-type {\n",
              "        vertical-align: middle;\n",
              "    }\n",
              "\n",
              "    .dataframe tbody tr th {\n",
              "        vertical-align: top;\n",
              "    }\n",
              "\n",
              "    .dataframe thead th {\n",
              "        text-align: right;\n",
              "    }\n",
              "</style>\n",
              "<table border=\"1\" class=\"dataframe\">\n",
              "  <thead>\n",
              "    <tr style=\"text-align: right;\">\n",
              "      <th></th>\n",
              "      <th>fixed acidity</th>\n",
              "      <th>volatile acidity</th>\n",
              "      <th>citric acid</th>\n",
              "      <th>residual sugar</th>\n",
              "      <th>chlorides</th>\n",
              "      <th>free sulfur dioxide</th>\n",
              "      <th>total sulfur dioxide</th>\n",
              "      <th>density</th>\n",
              "      <th>pH</th>\n",
              "      <th>sulphates</th>\n",
              "      <th>alcohol</th>\n",
              "      <th>quality</th>\n",
              "    </tr>\n",
              "  </thead>\n",
              "  <tbody>\n",
              "    <tr>\n",
              "      <th>0</th>\n",
              "      <td>7.4</td>\n",
              "      <td>0.70</td>\n",
              "      <td>0.00</td>\n",
              "      <td>1.9</td>\n",
              "      <td>0.076</td>\n",
              "      <td>11.0</td>\n",
              "      <td>34.0</td>\n",
              "      <td>0.9978</td>\n",
              "      <td>3.51</td>\n",
              "      <td>0.56</td>\n",
              "      <td>9.4</td>\n",
              "      <td>5</td>\n",
              "    </tr>\n",
              "    <tr>\n",
              "      <th>1</th>\n",
              "      <td>7.8</td>\n",
              "      <td>0.88</td>\n",
              "      <td>0.00</td>\n",
              "      <td>2.6</td>\n",
              "      <td>0.098</td>\n",
              "      <td>25.0</td>\n",
              "      <td>67.0</td>\n",
              "      <td>0.9968</td>\n",
              "      <td>3.20</td>\n",
              "      <td>0.68</td>\n",
              "      <td>9.8</td>\n",
              "      <td>5</td>\n",
              "    </tr>\n",
              "    <tr>\n",
              "      <th>2</th>\n",
              "      <td>7.8</td>\n",
              "      <td>0.76</td>\n",
              "      <td>0.04</td>\n",
              "      <td>2.3</td>\n",
              "      <td>0.092</td>\n",
              "      <td>15.0</td>\n",
              "      <td>54.0</td>\n",
              "      <td>0.9970</td>\n",
              "      <td>3.26</td>\n",
              "      <td>0.65</td>\n",
              "      <td>9.8</td>\n",
              "      <td>5</td>\n",
              "    </tr>\n",
              "    <tr>\n",
              "      <th>3</th>\n",
              "      <td>11.2</td>\n",
              "      <td>0.28</td>\n",
              "      <td>0.56</td>\n",
              "      <td>1.9</td>\n",
              "      <td>0.075</td>\n",
              "      <td>17.0</td>\n",
              "      <td>60.0</td>\n",
              "      <td>0.9980</td>\n",
              "      <td>3.16</td>\n",
              "      <td>0.58</td>\n",
              "      <td>9.8</td>\n",
              "      <td>6</td>\n",
              "    </tr>\n",
              "    <tr>\n",
              "      <th>4</th>\n",
              "      <td>7.4</td>\n",
              "      <td>0.70</td>\n",
              "      <td>0.00</td>\n",
              "      <td>1.9</td>\n",
              "      <td>0.076</td>\n",
              "      <td>11.0</td>\n",
              "      <td>34.0</td>\n",
              "      <td>0.9978</td>\n",
              "      <td>3.51</td>\n",
              "      <td>0.56</td>\n",
              "      <td>9.4</td>\n",
              "      <td>5</td>\n",
              "    </tr>\n",
              "  </tbody>\n",
              "</table>\n",
              "</div>"
            ],
            "text/plain": [
              "   fixed acidity  volatile acidity  citric acid  ...  sulphates  alcohol  quality\n",
              "0            7.4              0.70         0.00  ...       0.56      9.4        5\n",
              "1            7.8              0.88         0.00  ...       0.68      9.8        5\n",
              "2            7.8              0.76         0.04  ...       0.65      9.8        5\n",
              "3           11.2              0.28         0.56  ...       0.58      9.8        6\n",
              "4            7.4              0.70         0.00  ...       0.56      9.4        5\n",
              "\n",
              "[5 rows x 12 columns]"
            ]
          },
          "metadata": {
            "tags": []
          },
          "execution_count": 15
        }
      ]
    },
    {
      "cell_type": "code",
      "metadata": {
        "id": "eHUqdQFDmThs",
        "outputId": "28f78220-498b-4af6-e634-e8df712a6985",
        "colab": {
          "base_uri": "https://localhost:8080/",
          "height": 296
        }
      },
      "source": [
        "sns.countplot(x = 'quality', data=df)"
      ],
      "execution_count": null,
      "outputs": [
        {
          "output_type": "execute_result",
          "data": {
            "text/plain": [
              "<matplotlib.axes._subplots.AxesSubplot at 0x7fab1a80e668>"
            ]
          },
          "metadata": {
            "tags": []
          },
          "execution_count": 3
        },
        {
          "output_type": "display_data",
          "data": {
            "image/png": "[encoded data removed]",
            "text/plain": [
              "<Figure size 432x288 with 1 Axes>"
            ]
          },
          "metadata": {
            "tags": [],
            "needs_background": "light"
          }
        }
      ]
    },
    {
      "cell_type": "code",
      "metadata": {
        "id": "0i_yGcaQm4Rv"
      },
      "source": [
        "class2idx = {\n",
        "    3:0,\n",
        "    4:1,\n",
        "    5:2,\n",
        "    6:3,\n",
        "    7:4,\n",
        "    8:5\n",
        "}\n",
        "\n",
        "idx2class = {v: k for k, v in class2idx.items()}\n",
        "\n",
        "df['quality'].replace(class2idx, inplace=True)"
      ],
      "execution_count": null,
      "outputs": []
    },
    {
      "cell_type": "code",
      "metadata": {
        "id": "wJG7dFzfm8q-"
      },
      "source": [
        "X = df.iloc[:, 0:-1]\n",
        "y = df.iloc[:, -1]"
      ],
      "execution_count": null,
      "outputs": []
    },
    {
      "cell_type": "code",
      "metadata": {
        "id": "Evbwm0VYm-G0"
      },
      "source": [
        "# Split into train+val and test\n",
        "X_trainval, X_test, y_trainval, y_test = train_test_split(X, y, test_size=0.2, stratify=y, random_state=69)\n",
        "\n",
        "# Split train into train-val\n",
        "X_train, X_val, y_train, y_val = train_test_split(X_trainval, y_trainval, test_size=0.1, stratify=y_trainval, random_state=21)\n",
        "\n",
        "scaler = MinMaxScaler()\n",
        "X_train = scaler.fit_transform(X_train)\n",
        "X_val = scaler.transform(X_val)\n",
        "X_test = scaler.transform(X_test)\n",
        "\n",
        "X_train, y_train = np.array(X_train), np.array(y_train)\n",
        "X_val, y_val = np.array(X_val), np.array(y_val)\n",
        "X_test, y_test = np.array(X_test), np.array(y_test)"
      ],
      "execution_count": null,
      "outputs": []
    },
    {
      "cell_type": "code",
      "metadata": {
        "id": "uCe6djWYnDW9"
      },
      "source": [
        "def get_class_distribution(obj):\n",
        "    count_dict = {\n",
        "        \"rating_3\": 0,\n",
        "        \"rating_4\": 0,\n",
        "        \"rating_5\": 0,\n",
        "        \"rating_6\": 0,\n",
        "        \"rating_7\": 0,\n",
        "        \"rating_8\": 0,\n",
        "    }\n",
        "    \n",
        "    for i in obj:\n",
        "        if i == 0: \n",
        "            count_dict['rating_3'] += 1\n",
        "        elif i == 1: \n",
        "            count_dict['rating_4'] += 1\n",
        "        elif i == 2: \n",
        "            count_dict['rating_5'] += 1\n",
        "        elif i == 3: \n",
        "            count_dict['rating_6'] += 1\n",
        "        elif i == 4: \n",
        "            count_dict['rating_7'] += 1  \n",
        "        elif i == 5: \n",
        "            count_dict['rating_8'] += 1              \n",
        "        else:\n",
        "            print(\"Check classes.\")\n",
        "            \n",
        "    return count_dict"
      ],
      "execution_count": null,
      "outputs": []
    },
    {
      "cell_type": "code",
      "metadata": {
        "id": "ckSnB476nIV8",
        "outputId": "54ceab4a-37ae-4bb1-dbaa-ffa1aaf947ef",
        "colab": {
          "base_uri": "https://localhost:8080/",
          "height": 274
        }
      },
      "source": [
        "fig, axes = plt.subplots(nrows=1, ncols=3, figsize=(25,7))\n",
        "# Train\n",
        "sns.barplot(data = pd.DataFrame.from_dict([get_class_distribution(y_train)]).melt(), x = \"variable\", y=\"value\", hue=\"variable\",  ax=axes[0]).set_title('Class Distribution in Train Set')\n",
        "# Validation\n",
        "sns.barplot(data = pd.DataFrame.from_dict([get_class_distribution(y_val)]).melt(), x = \"variable\", y=\"value\", hue=\"variable\",  ax=axes[1]).set_title('Class Distribution in Val Set')\n",
        "# Test\n",
        "sns.barplot(data = pd.DataFrame.from_dict([get_class_distribution(y_test)]).melt(), x = \"variable\", y=\"value\", hue=\"variable\",  ax=axes[2]).set_title('Class Distribution in Test Set')"
      ],
      "execution_count": null,
      "outputs": [
        {
          "output_type": "execute_result",
          "data": {
            "text/plain": [
              "Text(0.5, 1.0, 'Class Distribution in Test Set')"
            ]
          },
          "metadata": {
            "tags": []
          },
          "execution_count": 8
        },
        {
          "output_type": "display_data",
          "data": {
            "image/png": "[encoded data removed]",
            "text/plain": [
              "<Figure size 1800x504 with 3 Axes>"
            ]
          },
          "metadata": {
            "tags": [],
            "needs_background": "light"
          }
        }
      ]
    },
    {
      "cell_type": "markdown",
      "metadata": {
        "id": "PrizjvMZnOIA"
      },
      "source": [
        "## Neural Network"
      ]
    },
    {
      "cell_type": "code",
      "metadata": {
        "id": "2vew0U_TnJis"
      },
      "source": [
        "class ClassifierDataset(Dataset):\n",
        "    \n",
        "    def __init__(self, X_data, y_data):\n",
        "        self.X_data = X_data\n",
        "        self.y_data = y_data\n",
        "        \n",
        "    def __getitem__(self, index):\n",
        "        return self.X_data[index], self.y_data[index]\n",
        "        \n",
        "    def __len__ (self):\n",
        "        return len(self.X_data)\n",
        "\n",
        "train_dataset = ClassifierDataset(torch.from_numpy(X_train).float(), torch.from_numpy(y_train).long())\n",
        "val_dataset = ClassifierDataset(torch.from_numpy(X_val).float(), torch.from_numpy(y_val).long())\n",
        "test_dataset = ClassifierDataset(torch.from_numpy(X_test).float(), torch.from_numpy(y_test).long())"
      ],
      "execution_count": null,
      "outputs": []
    },
    {
      "cell_type": "markdown",
      "metadata": {
        "id": "90rDoXlSpMYL"
      },
      "source": [
        "Weighted Sampling\n",
        "\n",
        "Because there’s a class imbalance, we use stratified split to create our train, validation, and test sets.\n",
        "\n",
        "While it helps, it still does not ensure that each mini-batch of our model see’s all our classes. We need to over-sample the classes with less number of values. To do that, we use the WeightedRandomSampler.\n",
        "\n",
        "First, we obtain a list called target_list which contains all our outputs. This list is then converted to a tensor and shuffled."
      ]
    },
    {
      "cell_type": "code",
      "metadata": {
        "id": "10ay22ionQhw",
        "outputId": "467a9d39-8d9f-4d86-f340-0e557428b77f",
        "colab": {
          "base_uri": "https://localhost:8080/",
          "height": 51
        }
      },
      "source": [
        "target_list = []\n",
        "for _, t in train_dataset:\n",
        "    target_list.append(t)\n",
        "    \n",
        "target_list = torch.tensor(target_list)\n",
        "target_list = target_list[torch.randperm(len(target_list))]\n",
        "print(target_list.shape)\n",
        "target_list"
      ],
      "execution_count": null,
      "outputs": [
        {
          "output_type": "stream",
          "text": [
            "torch.Size([1151])\n"
          ],
          "name": "stdout"
        },
        {
          "output_type": "execute_result",
          "data": {
            "text/plain": [
              "tensor([0, 3, 3,  ..., 4, 5, 3])"
            ]
          },
          "metadata": {
            "tags": []
          },
          "execution_count": 14
        }
      ]
    },
    {
      "cell_type": "markdown",
      "metadata": {
        "id": "vH1Uv4kxrnuL"
      },
      "source": [
        "Then, we obtain the count of all classes in our training set. We use the reciprocal of each count to obtain it’s weight. Now that we’ve calculated the weights for each class, we can proceed."
      ]
    },
    {
      "cell_type": "code",
      "metadata": {
        "id": "NKwOOUAVu7NH",
        "outputId": "ffa2d9d4-5d24-43a9-cdac-e07bac18036f",
        "colab": {
          "base_uri": "https://localhost:8080/",
          "height": 34
        }
      },
      "source": [
        "get_class_distribution(y_train).values()"
      ],
      "execution_count": null,
      "outputs": [
        {
          "output_type": "execute_result",
          "data": {
            "text/plain": [
              "dict_values([7, 38, 490, 459, 143, 14])"
            ]
          },
          "metadata": {
            "tags": []
          },
          "execution_count": 12
        }
      ]
    },
    {
      "cell_type": "code",
      "metadata": {
        "id": "XWUC2jHspSnE",
        "outputId": "4adaf8d8-3473-43e5-8679-4773a7e903f4",
        "colab": {
          "base_uri": "https://localhost:8080/",
          "height": 34
        }
      },
      "source": [
        "class_count = [i for i in get_class_distribution(y_train).values()]\n",
        "class_weights = 1./torch.tensor(class_count, dtype=torch.float) \n",
        "print(class_weights)"
      ],
      "execution_count": null,
      "outputs": [
        {
          "output_type": "stream",
          "text": [
            "tensor([0.1429, 0.0263, 0.0020, 0.0022, 0.0070, 0.0714])\n"
          ],
          "name": "stdout"
        }
      ]
    },
    {
      "cell_type": "markdown",
      "metadata": {
        "id": "--wuuceDvNkQ"
      },
      "source": [
        "WeightedRandomSampler expects a weight for each sample. We do that using as follows."
      ]
    },
    {
      "cell_type": "code",
      "metadata": {
        "id": "_V8pvrFZroz5",
        "outputId": "abc89ef3-f548-4481-8bf1-a99029353ff9",
        "colab": {
          "base_uri": "https://localhost:8080/",
          "height": 51
        }
      },
      "source": [
        "class_weights_all = class_weights[target_list]\n",
        "print(class_weights_all.shape)\n",
        "class_weights_all"
      ],
      "execution_count": null,
      "outputs": [
        {
          "output_type": "stream",
          "text": [
            "torch.Size([1151])\n"
          ],
          "name": "stdout"
        },
        {
          "output_type": "execute_result",
          "data": {
            "text/plain": [
              "tensor([0.1429, 0.0022, 0.0022,  ..., 0.0070, 0.0714, 0.0022])"
            ]
          },
          "metadata": {
            "tags": []
          },
          "execution_count": 18
        }
      ]
    },
    {
      "cell_type": "markdown",
      "metadata": {
        "id": "MP_OLuvswgaX"
      },
      "source": [
        "Finally, let’s initialize our WeightedRandomSampler. We’ll call this in our dataloader below."
      ]
    },
    {
      "cell_type": "code",
      "metadata": {
        "id": "YTSodURMvOkT",
        "outputId": "d1ade3c9-5169-45b0-9fcb-727ac81f814e",
        "colab": {
          "base_uri": "https://localhost:8080/",
          "height": 34
        }
      },
      "source": [
        "weighted_sampler = WeightedRandomSampler(\n",
        "    weights=class_weights_all,\n",
        "    num_samples=len(class_weights_all),\n",
        "    replacement=True\n",
        ")\n",
        "weighted_sampler"
      ],
      "execution_count": null,
      "outputs": [
        {
          "output_type": "execute_result",
          "data": {
            "text/plain": [
              "<torch.utils.data.sampler.WeightedRandomSampler at 0x7fab19c3f518>"
            ]
          },
          "metadata": {
            "tags": []
          },
          "execution_count": 20
        }
      ]
    },
    {
      "cell_type": "markdown",
      "metadata": {
        "id": "PvmnpEWKwkX6"
      },
      "source": [
        "Model Parameters\n",
        "\n",
        "Before we proceed any further, let’s define a few parameters that we’ll use down the line."
      ]
    },
    {
      "cell_type": "code",
      "metadata": {
        "id": "YpTzPgLCwhcY"
      },
      "source": [
        "EPOCHS = 300\n",
        "BATCH_SIZE = 16\n",
        "LEARNING_RATE = 0.0007\n",
        "NUM_FEATURES = len(X.columns)\n",
        "NUM_CLASSES = 6"
      ],
      "execution_count": null,
      "outputs": []
    },
    {
      "cell_type": "markdown",
      "metadata": {
        "id": "bpdacYZ4wo7S"
      },
      "source": [
        "Dataloader\n",
        "\n",
        "Let’s now initialize our dataloaders.\n",
        "\n",
        "For train_dataloader we’ll use batch_size = 64 and pass our sampler to it. Note that we’re not using shuffle=True in our train_dataloader because we’re already using a sampler. These two are mutually exclusive.\n",
        "\n",
        "For test_dataloader and val_dataloader we’ll use batch_size = 1 ."
      ]
    },
    {
      "cell_type": "code",
      "metadata": {
        "id": "M83RUzNVwnGH"
      },
      "source": [
        "train_loader = DataLoader(dataset=train_dataset,\n",
        "                          batch_size=BATCH_SIZE,\n",
        "                          sampler=weighted_sampler\n",
        ")\n",
        "val_loader = DataLoader(dataset=val_dataset, batch_size=1)\n",
        "test_loader = DataLoader(dataset=test_dataset, batch_size=1)"
      ],
      "execution_count": null,
      "outputs": []
    },
    {
      "cell_type": "markdown",
      "metadata": {
        "id": "PaU7JfgUwsHa"
      },
      "source": [
        "Define Neural Net Architecture\n",
        "\n",
        "Let’s define a simple 3-layer feed-forward network with dropout and batch-norm."
      ]
    },
    {
      "cell_type": "code",
      "metadata": {
        "id": "G60D1yMYwrQ9"
      },
      "source": [
        "class MulticlassClassification(nn.Module):\n",
        "    def __init__(self, num_feature, num_class):\n",
        "        super(MulticlassClassification, self).__init__()\n",
        "        \n",
        "        self.layer_1 = nn.Linear(num_feature, 512)\n",
        "        self.layer_2 = nn.Linear(512, 128)\n",
        "        self.layer_3 = nn.Linear(128, 64)\n",
        "        self.layer_out = nn.Linear(64, num_class) \n",
        "        \n",
        "        self.relu = nn.ReLU()\n",
        "        self.dropout = nn.Dropout(p=0.2)\n",
        "        self.batchnorm1 = nn.BatchNorm1d(512)\n",
        "        self.batchnorm2 = nn.BatchNorm1d(128)\n",
        "        self.batchnorm3 = nn.BatchNorm1d(64)\n",
        "        \n",
        "    def forward(self, x):\n",
        "        x = self.layer_1(x)\n",
        "        x = self.batchnorm1(x)\n",
        "        x = self.relu(x)\n",
        "        \n",
        "        x = self.layer_2(x)\n",
        "        x = self.batchnorm2(x)\n",
        "        x = self.relu(x)\n",
        "        x = self.dropout(x)\n",
        "        \n",
        "        x = self.layer_3(x)\n",
        "        x = self.batchnorm3(x)\n",
        "        x = self.relu(x)\n",
        "        x = self.dropout(x)\n",
        "        \n",
        "        x = self.layer_out(x)\n",
        "        \n",
        "        return x"
      ],
      "execution_count": null,
      "outputs": []
    },
    {
      "cell_type": "code",
      "metadata": {
        "id": "nuoS2uOLwvFa",
        "outputId": "0e1050be-7324-4bf8-a6aa-32caa1896a43",
        "colab": {
          "base_uri": "https://localhost:8080/",
          "height": 34
        }
      },
      "source": [
        "device = torch.device(\"cuda:0\" if torch.cuda.is_available() else \"cpu\")\n",
        "print(device)"
      ],
      "execution_count": null,
      "outputs": [
        {
          "output_type": "stream",
          "text": [
            "cpu\n"
          ],
          "name": "stdout"
        }
      ]
    },
    {
      "cell_type": "markdown",
      "metadata": {
        "id": "VS7YzdS4w02k"
      },
      "source": [
        "Initialize the model, optimizer, and loss function. Transfer the model to GPU. We’re using the nn.CrossEntropyLoss because this is a multiclass classification problem. We don’t have to manually apply a log_softmax layer after our final layer because nn.CrossEntropyLoss does that for us. However, we need to apply log_softmax for our validation and testing."
      ]
    },
    {
      "cell_type": "code",
      "metadata": {
        "id": "97uelA8Jwv5Y",
        "outputId": "88a86bb7-6313-40a7-c537-474484f5ae09",
        "colab": {
          "base_uri": "https://localhost:8080/",
          "height": 204
        }
      },
      "source": [
        "model = MulticlassClassification(num_feature = NUM_FEATURES, num_class=NUM_CLASSES)\n",
        "model.to(device)\n",
        "\n",
        "criterion = nn.CrossEntropyLoss(weight=class_weights.to(device))\n",
        "optimizer = optim.Adam(model.parameters(), lr=LEARNING_RATE)\n",
        "print(model)"
      ],
      "execution_count": null,
      "outputs": [
        {
          "output_type": "stream",
          "text": [
            "MulticlassClassification(\n",
            "  (layer_1): Linear(in_features=11, out_features=512, bias=True)\n",
            "  (layer_2): Linear(in_features=512, out_features=128, bias=True)\n",
            "  (layer_3): Linear(in_features=128, out_features=64, bias=True)\n",
            "  (layer_out): Linear(in_features=64, out_features=6, bias=True)\n",
            "  (relu): ReLU()\n",
            "  (dropout): Dropout(p=0.2, inplace=False)\n",
            "  (batchnorm1): BatchNorm1d(512, eps=1e-05, momentum=0.1, affine=True, track_running_stats=True)\n",
            "  (batchnorm2): BatchNorm1d(128, eps=1e-05, momentum=0.1, affine=True, track_running_stats=True)\n",
            "  (batchnorm3): BatchNorm1d(64, eps=1e-05, momentum=0.1, affine=True, track_running_stats=True)\n",
            ")\n"
          ],
          "name": "stdout"
        }
      ]
    },
    {
      "cell_type": "markdown",
      "metadata": {
        "id": "gMyyenhlw8Zu"
      },
      "source": [
        "Train the model\n",
        "\n",
        "Before we start our training, let’s define a function to calculate accuracy per epoch.\n",
        "This function takes y_pred and y_test as input arguments. We then apply log_softmax to y_pred and extract the class which has a higher probability.\n",
        "After that, we compare the the predicted classes and the actual classes to calculate the accuracy."
      ]
    },
    {
      "cell_type": "code",
      "metadata": {
        "id": "3XK-2NjRw5JI"
      },
      "source": [
        "def multi_acc(y_pred, y_test):\n",
        "    y_pred_softmax = torch.log_softmax(y_pred, dim = 1)\n",
        "    _, y_pred_tags = torch.max(y_pred_softmax, dim = 1)    \n",
        "    \n",
        "    correct_pred = (y_pred_tags == y_test).float()\n",
        "    acc = correct_pred.sum() / len(correct_pred)\n",
        "    \n",
        "    acc = torch.round(acc) * 100\n",
        "    \n",
        "    return acc"
      ],
      "execution_count": null,
      "outputs": []
    },
    {
      "cell_type": "markdown",
      "metadata": {
        "id": "nOBCXmuRxEM0"
      },
      "source": [
        "We’ll also define 2 dictionaries which will store the accuracy/epoch and loss/epoch for both train and validation sets."
      ]
    },
    {
      "cell_type": "code",
      "metadata": {
        "id": "5Dlr0RZdw_Yq"
      },
      "source": [
        "accuracy_stats = {\n",
        "    'train': [],\n",
        "    \"val\": []\n",
        "}\n",
        "loss_stats = {\n",
        "    'train': [],\n",
        "    \"val\": []\n",
        "}"
      ],
      "execution_count": null,
      "outputs": []
    },
    {
      "cell_type": "code",
      "metadata": {
        "id": "bMjgP1iJxBD6",
        "outputId": "46594ddb-836d-4fdb-fecc-51a10d1931dd",
        "colab": {
          "base_uri": "https://localhost:8080/",
          "height": 1000,
          "referenced_widgets": [
            "761ba962e3fb4e14906bb0eab465acc0",
            "8d7a84565ccf42159e75be70ab71d04d",
            "5a59967fccfd4fbc93212666a5651b31",
            "0e4870378c7945b083741586af6eddff",
            "31c130f118a342cfb9e79252a4411299",
            "cb6feed25e6b4c57b202dcad864c83f3",
            "910025adc39d481c8ae026ab4211748a",
            "cd4e8c833b514b588714d1de58a35b73"
          ]
        }
      },
      "source": [
        "print(\"Begin training.\")\n",
        "for e in tqdm(range(1, EPOCHS+1)):\n",
        "    \n",
        "    # TRAINING\n",
        "    train_epoch_loss = 0\n",
        "    train_epoch_acc = 0\n",
        "    model.train()\n",
        "    for X_train_batch, y_train_batch in train_loader:\n",
        "        X_train_batch, y_train_batch = X_train_batch.to(device), y_train_batch.to(device)\n",
        "        optimizer.zero_grad()\n",
        "        \n",
        "        y_train_pred = model(X_train_batch)\n",
        "        \n",
        "        train_loss = criterion(y_train_pred, y_train_batch)\n",
        "        train_acc = multi_acc(y_train_pred, y_train_batch)\n",
        "        \n",
        "        train_loss.backward()\n",
        "        optimizer.step()\n",
        "        \n",
        "        train_epoch_loss += train_loss.item()\n",
        "        train_epoch_acc += train_acc.item()\n",
        "        \n",
        "        \n",
        "    # VALIDATION    \n",
        "    with torch.no_grad():\n",
        "        \n",
        "        val_epoch_loss = 0\n",
        "        val_epoch_acc = 0\n",
        "        \n",
        "        model.eval()\n",
        "        for X_val_batch, y_val_batch in val_loader:\n",
        "            X_val_batch, y_val_batch = X_val_batch.to(device), y_val_batch.to(device)\n",
        "            \n",
        "            y_val_pred = model(X_val_batch)\n",
        "                        \n",
        "            val_loss = criterion(y_val_pred, y_val_batch)\n",
        "            val_acc = multi_acc(y_val_pred, y_val_batch)\n",
        "            \n",
        "            val_epoch_loss += val_loss.item()\n",
        "            val_epoch_acc += val_acc.item()\n",
        "    loss_stats['train'].append(train_epoch_loss/len(train_loader))\n",
        "    loss_stats['val'].append(val_epoch_loss/len(val_loader))\n",
        "    accuracy_stats['train'].append(train_epoch_acc/len(train_loader))\n",
        "    accuracy_stats['val'].append(val_epoch_acc/len(val_loader))\n",
        "                              \n",
        "    \n",
        "    print(f'Epoch {e+0:03}: | Train Loss: {train_epoch_loss/len(train_loader):.5f} | Val Loss: {val_epoch_loss/len(val_loader):.5f} | Train Acc: {train_epoch_acc/len(train_loader):.3f}| Val Acc: {val_epoch_acc/len(val_loader):.3f}')"
      ],
      "execution_count": null,
      "outputs": [
        {
          "output_type": "stream",
          "text": [
            "Begin training.\n"
          ],
          "name": "stdout"
        },
        {
          "output_type": "display_data",
          "data": {
            "application/vnd.jupyter.widget-view+json": {
              "model_id": "761ba962e3fb4e14906bb0eab465acc0",
              "version_minor": 0,
              "version_major": 2
            },
            "text/plain": [
              "HBox(children=(FloatProgress(value=0.0, max=300.0), HTML(value='')))"
            ]
          },
          "metadata": {
            "tags": []
          }
        },
        {
          "output_type": "stream",
          "text": [
            "Epoch 001: | Train Loss: 1.57527 | Val Loss: 1.39722 | Train Acc: 26.389| Val Acc: 49.219\n",
            "Epoch 002: | Train Loss: 1.15340 | Val Loss: 1.34056 | Train Acc: 48.611| Val Acc: 46.875\n",
            "Epoch 003: | Train Loss: 1.19870 | Val Loss: 1.43364 | Train Acc: 66.667| Val Acc: 41.406\n",
            "Epoch 004: | Train Loss: 1.10224 | Val Loss: 1.29152 | Train Acc: 65.278| Val Acc: 47.656\n",
            "Epoch 005: | Train Loss: 0.96598 | Val Loss: 1.24683 | Train Acc: 69.444| Val Acc: 47.656\n",
            "Epoch 006: | Train Loss: 0.91571 | Val Loss: 1.33470 | Train Acc: 86.111| Val Acc: 49.219\n",
            "Epoch 007: | Train Loss: 0.87877 | Val Loss: 1.31213 | Train Acc: 83.333| Val Acc: 46.875\n",
            "Epoch 008: | Train Loss: 0.89386 | Val Loss: 1.34821 | Train Acc: 79.167| Val Acc: 43.750\n",
            "Epoch 009: | Train Loss: 0.90446 | Val Loss: 1.24698 | Train Acc: 86.111| Val Acc: 51.562\n",
            "Epoch 010: | Train Loss: 0.81936 | Val Loss: 1.30515 | Train Acc: 86.111| Val Acc: 43.750\n",
            "Epoch 011: | Train Loss: 0.74114 | Val Loss: 1.23156 | Train Acc: 86.111| Val Acc: 50.781\n",
            "Epoch 012: | Train Loss: 0.84928 | Val Loss: 1.30657 | Train Acc: 88.889| Val Acc: 45.312\n",
            "Epoch 013: | Train Loss: 0.80580 | Val Loss: 1.25220 | Train Acc: 90.278| Val Acc: 48.438\n",
            "Epoch 014: | Train Loss: 0.77720 | Val Loss: 1.22744 | Train Acc: 80.556| Val Acc: 49.219\n",
            "Epoch 015: | Train Loss: 0.69776 | Val Loss: 1.27428 | Train Acc: 87.500| Val Acc: 43.750\n",
            "Epoch 016: | Train Loss: 0.77257 | Val Loss: 1.31423 | Train Acc: 87.500| Val Acc: 45.312\n",
            "Epoch 017: | Train Loss: 0.79004 | Val Loss: 1.26483 | Train Acc: 81.944| Val Acc: 50.000\n",
            "Epoch 018: | Train Loss: 0.69712 | Val Loss: 1.26473 | Train Acc: 90.278| Val Acc: 49.219\n",
            "Epoch 019: | Train Loss: 0.68632 | Val Loss: 1.29291 | Train Acc: 91.667| Val Acc: 51.562\n",
            "Epoch 020: | Train Loss: 0.74937 | Val Loss: 1.30522 | Train Acc: 93.056| Val Acc: 46.094\n",
            "Epoch 021: | Train Loss: 0.67259 | Val Loss: 1.20838 | Train Acc: 97.222| Val Acc: 50.000\n",
            "Epoch 022: | Train Loss: 0.71508 | Val Loss: 1.19390 | Train Acc: 88.889| Val Acc: 50.781\n",
            "Epoch 023: | Train Loss: 0.69752 | Val Loss: 1.33958 | Train Acc: 97.222| Val Acc: 46.094\n",
            "Epoch 024: | Train Loss: 0.65232 | Val Loss: 1.24538 | Train Acc: 97.222| Val Acc: 51.562\n",
            "Epoch 025: | Train Loss: 0.69062 | Val Loss: 1.24951 | Train Acc: 94.444| Val Acc: 48.438\n",
            "Epoch 026: | Train Loss: 0.67547 | Val Loss: 1.23181 | Train Acc: 95.833| Val Acc: 49.219\n",
            "Epoch 027: | Train Loss: 0.64057 | Val Loss: 1.32686 | Train Acc: 94.444| Val Acc: 50.000\n",
            "Epoch 028: | Train Loss: 0.69049 | Val Loss: 1.24065 | Train Acc: 91.667| Val Acc: 52.344\n",
            "Epoch 029: | Train Loss: 0.59938 | Val Loss: 1.29980 | Train Acc: 94.444| Val Acc: 50.781\n",
            "Epoch 030: | Train Loss: 0.59744 | Val Loss: 1.14053 | Train Acc: 91.667| Val Acc: 59.375\n",
            "Epoch 031: | Train Loss: 0.60458 | Val Loss: 1.24489 | Train Acc: 95.833| Val Acc: 50.781\n",
            "Epoch 032: | Train Loss: 0.65649 | Val Loss: 1.22874 | Train Acc: 97.222| Val Acc: 53.906\n",
            "Epoch 033: | Train Loss: 0.68612 | Val Loss: 1.18278 | Train Acc: 94.444| Val Acc: 53.906\n",
            "Epoch 034: | Train Loss: 0.60327 | Val Loss: 1.24906 | Train Acc: 95.833| Val Acc: 50.781\n",
            "Epoch 035: | Train Loss: 0.63093 | Val Loss: 1.20893 | Train Acc: 98.611| Val Acc: 51.562\n",
            "Epoch 036: | Train Loss: 0.62673 | Val Loss: 1.21689 | Train Acc: 90.278| Val Acc: 53.125\n",
            "Epoch 037: | Train Loss: 0.56227 | Val Loss: 1.17093 | Train Acc: 98.611| Val Acc: 50.781\n",
            "Epoch 038: | Train Loss: 0.61877 | Val Loss: 1.30554 | Train Acc: 91.667| Val Acc: 50.000\n",
            "Epoch 039: | Train Loss: 0.62164 | Val Loss: 1.17502 | Train Acc: 90.278| Val Acc: 52.344\n",
            "Epoch 040: | Train Loss: 0.60640 | Val Loss: 1.22322 | Train Acc: 95.833| Val Acc: 50.781\n",
            "Epoch 041: | Train Loss: 0.51491 | Val Loss: 1.15611 | Train Acc: 97.222| Val Acc: 53.906\n",
            "Epoch 042: | Train Loss: 0.55316 | Val Loss: 1.22170 | Train Acc: 94.444| Val Acc: 51.562\n",
            "Epoch 043: | Train Loss: 0.50507 | Val Loss: 1.29144 | Train Acc: 97.222| Val Acc: 48.438\n",
            "Epoch 044: | Train Loss: 0.57810 | Val Loss: 1.28620 | Train Acc: 97.222| Val Acc: 51.562\n",
            "Epoch 045: | Train Loss: 0.68307 | Val Loss: 1.19330 | Train Acc: 93.056| Val Acc: 50.781\n",
            "Epoch 046: | Train Loss: 0.54949 | Val Loss: 1.20363 | Train Acc: 98.611| Val Acc: 53.125\n",
            "Epoch 047: | Train Loss: 0.52240 | Val Loss: 1.31101 | Train Acc: 95.833| Val Acc: 49.219\n",
            "Epoch 048: | Train Loss: 0.61163 | Val Loss: 1.22339 | Train Acc: 97.222| Val Acc: 52.344\n",
            "Epoch 049: | Train Loss: 0.55684 | Val Loss: 1.12303 | Train Acc: 97.222| Val Acc: 56.250\n",
            "Epoch 050: | Train Loss: 0.50278 | Val Loss: 1.18911 | Train Acc: 100.000| Val Acc: 49.219\n",
            "Epoch 051: | Train Loss: 0.48083 | Val Loss: 1.17055 | Train Acc: 93.056| Val Acc: 60.156\n",
            "Epoch 052: | Train Loss: 0.55103 | Val Loss: 1.21766 | Train Acc: 97.222| Val Acc: 53.125\n",
            "Epoch 053: | Train Loss: 0.49432 | Val Loss: 1.30557 | Train Acc: 97.222| Val Acc: 52.344\n",
            "Epoch 054: | Train Loss: 0.54568 | Val Loss: 1.20003 | Train Acc: 100.000| Val Acc: 57.031\n",
            "Epoch 055: | Train Loss: 0.52859 | Val Loss: 1.32254 | Train Acc: 93.056| Val Acc: 53.906\n",
            "Epoch 056: | Train Loss: 0.57977 | Val Loss: 1.19824 | Train Acc: 94.444| Val Acc: 53.906\n",
            "Epoch 057: | Train Loss: 0.54040 | Val Loss: 1.31694 | Train Acc: 98.611| Val Acc: 49.219\n",
            "Epoch 058: | Train Loss: 0.49909 | Val Loss: 1.27130 | Train Acc: 98.611| Val Acc: 52.344\n",
            "Epoch 059: | Train Loss: 0.52549 | Val Loss: 1.21567 | Train Acc: 94.444| Val Acc: 53.125\n",
            "Epoch 060: | Train Loss: 0.60653 | Val Loss: 1.21320 | Train Acc: 91.667| Val Acc: 49.219\n",
            "Epoch 061: | Train Loss: 0.56566 | Val Loss: 1.21575 | Train Acc: 97.222| Val Acc: 54.688\n",
            "Epoch 062: | Train Loss: 0.49372 | Val Loss: 1.20521 | Train Acc: 98.611| Val Acc: 53.125\n",
            "Epoch 063: | Train Loss: 0.41975 | Val Loss: 1.18610 | Train Acc: 100.000| Val Acc: 51.562\n",
            "Epoch 064: | Train Loss: 0.49075 | Val Loss: 1.20196 | Train Acc: 97.222| Val Acc: 53.125\n",
            "Epoch 065: | Train Loss: 0.53137 | Val Loss: 1.23028 | Train Acc: 95.833| Val Acc: 52.344\n",
            "Epoch 066: | Train Loss: 0.47312 | Val Loss: 1.27982 | Train Acc: 98.611| Val Acc: 46.875\n",
            "Epoch 067: | Train Loss: 0.41302 | Val Loss: 1.25148 | Train Acc: 98.611| Val Acc: 53.906\n",
            "Epoch 068: | Train Loss: 0.43082 | Val Loss: 1.39974 | Train Acc: 100.000| Val Acc: 41.406\n",
            "Epoch 069: | Train Loss: 0.54506 | Val Loss: 1.33975 | Train Acc: 97.222| Val Acc: 44.531\n",
            "Epoch 070: | Train Loss: 0.49590 | Val Loss: 1.21784 | Train Acc: 95.833| Val Acc: 48.438\n",
            "Epoch 071: | Train Loss: 0.62361 | Val Loss: 1.22997 | Train Acc: 98.611| Val Acc: 53.906\n",
            "Epoch 072: | Train Loss: 0.47093 | Val Loss: 1.23217 | Train Acc: 98.611| Val Acc: 47.656\n",
            "Epoch 073: | Train Loss: 0.50602 | Val Loss: 1.13390 | Train Acc: 100.000| Val Acc: 53.906\n",
            "Epoch 074: | Train Loss: 0.45169 | Val Loss: 1.28804 | Train Acc: 97.222| Val Acc: 50.000\n",
            "Epoch 075: | Train Loss: 0.51219 | Val Loss: 1.29762 | Train Acc: 95.833| Val Acc: 42.969\n",
            "Epoch 076: | Train Loss: 0.57941 | Val Loss: 1.30268 | Train Acc: 97.222| Val Acc: 50.000\n",
            "Epoch 077: | Train Loss: 0.48147 | Val Loss: 1.32289 | Train Acc: 98.611| Val Acc: 45.312\n",
            "Epoch 078: | Train Loss: 0.45286 | Val Loss: 1.22853 | Train Acc: 95.833| Val Acc: 49.219\n",
            "Epoch 079: | Train Loss: 0.46313 | Val Loss: 1.17400 | Train Acc: 94.444| Val Acc: 49.219\n",
            "Epoch 080: | Train Loss: 0.49188 | Val Loss: 1.28646 | Train Acc: 98.611| Val Acc: 45.312\n",
            "Epoch 081: | Train Loss: 0.46004 | Val Loss: 1.27845 | Train Acc: 98.611| Val Acc: 46.094\n",
            "Epoch 082: | Train Loss: 0.49736 | Val Loss: 1.22244 | Train Acc: 97.222| Val Acc: 48.438\n",
            "Epoch 083: | Train Loss: 0.47413 | Val Loss: 1.24375 | Train Acc: 97.222| Val Acc: 52.344\n",
            "Epoch 084: | Train Loss: 0.44412 | Val Loss: 1.16142 | Train Acc: 100.000| Val Acc: 53.125\n",
            "Epoch 085: | Train Loss: 0.44266 | Val Loss: 1.23904 | Train Acc: 100.000| Val Acc: 49.219\n",
            "Epoch 086: | Train Loss: 0.42820 | Val Loss: 1.23203 | Train Acc: 100.000| Val Acc: 53.125\n",
            "Epoch 087: | Train Loss: 0.49422 | Val Loss: 1.19821 | Train Acc: 100.000| Val Acc: 57.812\n",
            "Epoch 088: | Train Loss: 0.46891 | Val Loss: 1.22823 | Train Acc: 98.611| Val Acc: 49.219\n",
            "Epoch 089: | Train Loss: 0.45197 | Val Loss: 1.19810 | Train Acc: 97.222| Val Acc: 57.812\n",
            "Epoch 090: | Train Loss: 0.45768 | Val Loss: 1.30647 | Train Acc: 98.611| Val Acc: 48.438\n",
            "Epoch 091: | Train Loss: 0.50386 | Val Loss: 1.15699 | Train Acc: 100.000| Val Acc: 56.250\n",
            "Epoch 092: | Train Loss: 0.49688 | Val Loss: 1.24445 | Train Acc: 98.611| Val Acc: 48.438\n",
            "Epoch 093: | Train Loss: 0.43201 | Val Loss: 1.14862 | Train Acc: 97.222| Val Acc: 53.906\n",
            "Epoch 094: | Train Loss: 0.39760 | Val Loss: 1.19568 | Train Acc: 98.611| Val Acc: 55.469\n",
            "Epoch 095: | Train Loss: 0.50210 | Val Loss: 1.20075 | Train Acc: 100.000| Val Acc: 54.688\n",
            "Epoch 096: | Train Loss: 0.45611 | Val Loss: 1.16883 | Train Acc: 100.000| Val Acc: 54.688\n",
            "Epoch 097: | Train Loss: 0.46478 | Val Loss: 1.22000 | Train Acc: 100.000| Val Acc: 51.562\n",
            "Epoch 098: | Train Loss: 0.40592 | Val Loss: 1.17890 | Train Acc: 100.000| Val Acc: 54.688\n",
            "Epoch 099: | Train Loss: 0.39111 | Val Loss: 1.22676 | Train Acc: 98.611| Val Acc: 56.250\n",
            "Epoch 100: | Train Loss: 0.56141 | Val Loss: 1.21546 | Train Acc: 98.611| Val Acc: 57.031\n",
            "Epoch 101: | Train Loss: 0.42856 | Val Loss: 1.23011 | Train Acc: 100.000| Val Acc: 51.562\n",
            "Epoch 102: | Train Loss: 0.42693 | Val Loss: 1.18996 | Train Acc: 100.000| Val Acc: 50.781\n",
            "Epoch 103: | Train Loss: 0.44126 | Val Loss: 1.23945 | Train Acc: 98.611| Val Acc: 53.906\n",
            "Epoch 104: | Train Loss: 0.41501 | Val Loss: 1.21441 | Train Acc: 98.611| Val Acc: 51.562\n",
            "Epoch 105: | Train Loss: 0.41820 | Val Loss: 1.22505 | Train Acc: 98.611| Val Acc: 52.344\n",
            "Epoch 106: | Train Loss: 0.35079 | Val Loss: 1.20251 | Train Acc: 97.222| Val Acc: 53.125\n",
            "Epoch 107: | Train Loss: 0.50693 | Val Loss: 1.23985 | Train Acc: 98.611| Val Acc: 46.875\n",
            "Epoch 108: | Train Loss: 0.44659 | Val Loss: 1.24382 | Train Acc: 98.611| Val Acc: 53.125\n",
            "Epoch 109: | Train Loss: 0.36315 | Val Loss: 1.21989 | Train Acc: 98.611| Val Acc: 56.250\n",
            "Epoch 110: | Train Loss: 0.46100 | Val Loss: 1.17696 | Train Acc: 100.000| Val Acc: 60.156\n",
            "Epoch 111: | Train Loss: 0.43237 | Val Loss: 1.25550 | Train Acc: 97.222| Val Acc: 50.000\n",
            "Epoch 112: | Train Loss: 0.46187 | Val Loss: 1.24116 | Train Acc: 95.833| Val Acc: 54.688\n",
            "Epoch 113: | Train Loss: 0.38919 | Val Loss: 1.22109 | Train Acc: 98.611| Val Acc: 56.250\n",
            "Epoch 114: | Train Loss: 0.39781 | Val Loss: 1.26667 | Train Acc: 100.000| Val Acc: 51.562\n",
            "Epoch 115: | Train Loss: 0.36614 | Val Loss: 1.19142 | Train Acc: 98.611| Val Acc: 57.031\n",
            "Epoch 116: | Train Loss: 0.39814 | Val Loss: 1.21398 | Train Acc: 98.611| Val Acc: 60.156\n",
            "Epoch 117: | Train Loss: 0.43263 | Val Loss: 1.27032 | Train Acc: 100.000| Val Acc: 55.469\n",
            "Epoch 118: | Train Loss: 0.43735 | Val Loss: 1.17212 | Train Acc: 98.611| Val Acc: 56.250\n",
            "Epoch 119: | Train Loss: 0.39965 | Val Loss: 1.36554 | Train Acc: 97.222| Val Acc: 49.219\n",
            "Epoch 120: | Train Loss: 0.39529 | Val Loss: 1.26109 | Train Acc: 100.000| Val Acc: 53.125\n",
            "Epoch 121: | Train Loss: 0.43024 | Val Loss: 1.22088 | Train Acc: 97.222| Val Acc: 54.688\n",
            "Epoch 122: | Train Loss: 0.44778 | Val Loss: 1.23558 | Train Acc: 97.222| Val Acc: 53.906\n",
            "Epoch 123: | Train Loss: 0.41645 | Val Loss: 1.26385 | Train Acc: 100.000| Val Acc: 57.031\n",
            "Epoch 124: | Train Loss: 0.35742 | Val Loss: 1.24157 | Train Acc: 100.000| Val Acc: 52.344\n",
            "Epoch 125: | Train Loss: 0.36545 | Val Loss: 1.30158 | Train Acc: 100.000| Val Acc: 53.906\n",
            "Epoch 126: | Train Loss: 0.40399 | Val Loss: 1.26989 | Train Acc: 100.000| Val Acc: 54.688\n",
            "Epoch 127: | Train Loss: 0.42045 | Val Loss: 1.27215 | Train Acc: 97.222| Val Acc: 54.688\n",
            "Epoch 128: | Train Loss: 0.33005 | Val Loss: 1.22643 | Train Acc: 100.000| Val Acc: 57.812\n",
            "Epoch 129: | Train Loss: 0.42474 | Val Loss: 1.36358 | Train Acc: 98.611| Val Acc: 52.344\n",
            "Epoch 130: | Train Loss: 0.37749 | Val Loss: 1.30421 | Train Acc: 100.000| Val Acc: 56.250\n",
            "Epoch 131: | Train Loss: 0.40355 | Val Loss: 1.24502 | Train Acc: 100.000| Val Acc: 54.688\n",
            "Epoch 132: | Train Loss: 0.35563 | Val Loss: 1.23368 | Train Acc: 100.000| Val Acc: 57.031\n",
            "Epoch 133: | Train Loss: 0.37806 | Val Loss: 1.26138 | Train Acc: 98.611| Val Acc: 58.594\n",
            "Epoch 134: | Train Loss: 0.46097 | Val Loss: 1.31854 | Train Acc: 98.611| Val Acc: 55.469\n",
            "Epoch 135: | Train Loss: 0.38029 | Val Loss: 1.25995 | Train Acc: 100.000| Val Acc: 54.688\n",
            "Epoch 136: | Train Loss: 0.38989 | Val Loss: 1.19209 | Train Acc: 100.000| Val Acc: 58.594\n",
            "Epoch 137: | Train Loss: 0.34998 | Val Loss: 1.16789 | Train Acc: 100.000| Val Acc: 59.375\n",
            "Epoch 138: | Train Loss: 0.43342 | Val Loss: 1.25291 | Train Acc: 98.611| Val Acc: 53.906\n",
            "Epoch 139: | Train Loss: 0.37801 | Val Loss: 1.28756 | Train Acc: 98.611| Val Acc: 57.031\n",
            "Epoch 140: | Train Loss: 0.38906 | Val Loss: 1.27510 | Train Acc: 100.000| Val Acc: 49.219\n",
            "Epoch 141: | Train Loss: 0.38930 | Val Loss: 1.36708 | Train Acc: 100.000| Val Acc: 53.906\n",
            "Epoch 142: | Train Loss: 0.36958 | Val Loss: 1.23325 | Train Acc: 98.611| Val Acc: 52.344\n",
            "Epoch 143: | Train Loss: 0.46353 | Val Loss: 1.28619 | Train Acc: 100.000| Val Acc: 52.344\n",
            "Epoch 144: | Train Loss: 0.34379 | Val Loss: 1.30284 | Train Acc: 100.000| Val Acc: 54.688\n",
            "Epoch 145: | Train Loss: 0.39989 | Val Loss: 1.25807 | Train Acc: 98.611| Val Acc: 58.594\n",
            "Epoch 146: | Train Loss: 0.37522 | Val Loss: 1.21742 | Train Acc: 98.611| Val Acc: 57.031\n",
            "Epoch 147: | Train Loss: 0.39643 | Val Loss: 1.23971 | Train Acc: 100.000| Val Acc: 56.250\n",
            "Epoch 148: | Train Loss: 0.38571 | Val Loss: 1.22205 | Train Acc: 100.000| Val Acc: 57.031\n",
            "Epoch 149: | Train Loss: 0.37999 | Val Loss: 1.18119 | Train Acc: 98.611| Val Acc: 59.375\n",
            "Epoch 150: | Train Loss: 0.33900 | Val Loss: 1.20981 | Train Acc: 100.000| Val Acc: 54.688\n",
            "Epoch 151: | Train Loss: 0.37409 | Val Loss: 1.25590 | Train Acc: 98.611| Val Acc: 60.938\n",
            "Epoch 152: | Train Loss: 0.37377 | Val Loss: 1.26027 | Train Acc: 97.222| Val Acc: 57.031\n",
            "Epoch 153: | Train Loss: 0.35493 | Val Loss: 1.42588 | Train Acc: 98.611| Val Acc: 53.125\n",
            "Epoch 154: | Train Loss: 0.34241 | Val Loss: 1.32895 | Train Acc: 100.000| Val Acc: 54.688\n",
            "Epoch 155: | Train Loss: 0.33250 | Val Loss: 1.27578 | Train Acc: 97.222| Val Acc: 53.906\n",
            "Epoch 156: | Train Loss: 0.36302 | Val Loss: 1.22900 | Train Acc: 100.000| Val Acc: 57.812\n",
            "Epoch 157: | Train Loss: 0.34361 | Val Loss: 1.31494 | Train Acc: 100.000| Val Acc: 54.688\n",
            "Epoch 158: | Train Loss: 0.36797 | Val Loss: 1.39983 | Train Acc: 98.611| Val Acc: 54.688\n",
            "Epoch 159: | Train Loss: 0.33689 | Val Loss: 1.38887 | Train Acc: 100.000| Val Acc: 48.438\n",
            "Epoch 160: | Train Loss: 0.37347 | Val Loss: 1.32183 | Train Acc: 100.000| Val Acc: 53.125\n",
            "Epoch 161: | Train Loss: 0.33568 | Val Loss: 1.36439 | Train Acc: 100.000| Val Acc: 53.125\n",
            "Epoch 162: | Train Loss: 0.36391 | Val Loss: 1.32493 | Train Acc: 100.000| Val Acc: 57.812\n",
            "Epoch 163: | Train Loss: 0.32637 | Val Loss: 1.29963 | Train Acc: 100.000| Val Acc: 56.250\n",
            "Epoch 164: | Train Loss: 0.32153 | Val Loss: 1.33813 | Train Acc: 98.611| Val Acc: 58.594\n",
            "Epoch 165: | Train Loss: 0.37619 | Val Loss: 1.28402 | Train Acc: 100.000| Val Acc: 56.250\n",
            "Epoch 166: | Train Loss: 0.36885 | Val Loss: 1.27151 | Train Acc: 100.000| Val Acc: 54.688\n",
            "Epoch 167: | Train Loss: 0.34682 | Val Loss: 1.18975 | Train Acc: 100.000| Val Acc: 53.125\n",
            "Epoch 168: | Train Loss: 0.34436 | Val Loss: 1.27599 | Train Acc: 98.611| Val Acc: 53.125\n",
            "Epoch 169: | Train Loss: 0.30133 | Val Loss: 1.27990 | Train Acc: 100.000| Val Acc: 57.812\n",
            "Epoch 170: | Train Loss: 0.38942 | Val Loss: 1.26378 | Train Acc: 100.000| Val Acc: 51.562\n",
            "Epoch 171: | Train Loss: 0.37992 | Val Loss: 1.24996 | Train Acc: 100.000| Val Acc: 53.125\n",
            "Epoch 172: | Train Loss: 0.36570 | Val Loss: 1.17905 | Train Acc: 98.611| Val Acc: 57.812\n",
            "Epoch 173: | Train Loss: 0.34221 | Val Loss: 1.31069 | Train Acc: 100.000| Val Acc: 57.812\n",
            "Epoch 174: | Train Loss: 0.35549 | Val Loss: 1.27183 | Train Acc: 100.000| Val Acc: 53.125\n",
            "Epoch 175: | Train Loss: 0.39521 | Val Loss: 1.25686 | Train Acc: 100.000| Val Acc: 57.031\n",
            "Epoch 176: | Train Loss: 0.35644 | Val Loss: 1.25262 | Train Acc: 98.611| Val Acc: 55.469\n",
            "Epoch 177: | Train Loss: 0.33973 | Val Loss: 1.32451 | Train Acc: 100.000| Val Acc: 57.031\n",
            "Epoch 178: | Train Loss: 0.29056 | Val Loss: 1.33459 | Train Acc: 100.000| Val Acc: 52.344\n",
            "Epoch 179: | Train Loss: 0.31371 | Val Loss: 1.35545 | Train Acc: 98.611| Val Acc: 57.812\n",
            "Epoch 180: | Train Loss: 0.36169 | Val Loss: 1.25289 | Train Acc: 100.000| Val Acc: 53.906\n",
            "Epoch 181: | Train Loss: 0.34537 | Val Loss: 1.34118 | Train Acc: 98.611| Val Acc: 52.344\n",
            "Epoch 182: | Train Loss: 0.34221 | Val Loss: 1.42053 | Train Acc: 100.000| Val Acc: 56.250\n",
            "Epoch 183: | Train Loss: 0.30533 | Val Loss: 1.40023 | Train Acc: 100.000| Val Acc: 55.469\n",
            "Epoch 184: | Train Loss: 0.30269 | Val Loss: 1.38951 | Train Acc: 100.000| Val Acc: 53.906\n",
            "Epoch 185: | Train Loss: 0.31114 | Val Loss: 1.31563 | Train Acc: 100.000| Val Acc: 58.594\n",
            "Epoch 186: | Train Loss: 0.36807 | Val Loss: 1.39672 | Train Acc: 100.000| Val Acc: 57.031\n",
            "Epoch 187: | Train Loss: 0.36139 | Val Loss: 1.36032 | Train Acc: 100.000| Val Acc: 62.500\n",
            "Epoch 188: | Train Loss: 0.35197 | Val Loss: 1.32127 | Train Acc: 98.611| Val Acc: 60.156\n",
            "Epoch 189: | Train Loss: 0.34204 | Val Loss: 1.35549 | Train Acc: 100.000| Val Acc: 53.125\n",
            "Epoch 190: | Train Loss: 0.31013 | Val Loss: 1.32287 | Train Acc: 100.000| Val Acc: 53.125\n",
            "Epoch 191: | Train Loss: 0.38174 | Val Loss: 1.36065 | Train Acc: 98.611| Val Acc: 54.688\n",
            "Epoch 192: | Train Loss: 0.40618 | Val Loss: 1.42966 | Train Acc: 100.000| Val Acc: 47.656\n",
            "Epoch 193: | Train Loss: 0.34052 | Val Loss: 1.41782 | Train Acc: 98.611| Val Acc: 53.125\n",
            "Epoch 194: | Train Loss: 0.33958 | Val Loss: 1.44003 | Train Acc: 100.000| Val Acc: 52.344\n",
            "Epoch 195: | Train Loss: 0.37595 | Val Loss: 1.34155 | Train Acc: 100.000| Val Acc: 53.906\n",
            "Epoch 196: | Train Loss: 0.36124 | Val Loss: 1.44247 | Train Acc: 97.222| Val Acc: 46.875\n",
            "Epoch 197: | Train Loss: 0.35651 | Val Loss: 1.25585 | Train Acc: 98.611| Val Acc: 54.688\n",
            "Epoch 198: | Train Loss: 0.38530 | Val Loss: 1.25424 | Train Acc: 98.611| Val Acc: 57.031\n",
            "Epoch 199: | Train Loss: 0.31333 | Val Loss: 1.24503 | Train Acc: 100.000| Val Acc: 52.344\n",
            "Epoch 200: | Train Loss: 0.40998 | Val Loss: 1.27537 | Train Acc: 98.611| Val Acc: 54.688\n",
            "Epoch 201: | Train Loss: 0.35113 | Val Loss: 1.40371 | Train Acc: 100.000| Val Acc: 53.906\n",
            "Epoch 202: | Train Loss: 0.35168 | Val Loss: 1.36520 | Train Acc: 100.000| Val Acc: 56.250\n",
            "Epoch 203: | Train Loss: 0.38826 | Val Loss: 1.29932 | Train Acc: 98.611| Val Acc: 58.594\n",
            "Epoch 204: | Train Loss: 0.33181 | Val Loss: 1.31262 | Train Acc: 97.222| Val Acc: 57.031\n",
            "Epoch 205: | Train Loss: 0.30307 | Val Loss: 1.21808 | Train Acc: 100.000| Val Acc: 55.469\n",
            "Epoch 206: | Train Loss: 0.33606 | Val Loss: 1.23269 | Train Acc: 100.000| Val Acc: 56.250\n",
            "Epoch 207: | Train Loss: 0.29355 | Val Loss: 1.25286 | Train Acc: 100.000| Val Acc: 58.594\n",
            "Epoch 208: | Train Loss: 0.39491 | Val Loss: 1.34591 | Train Acc: 100.000| Val Acc: 53.125\n",
            "Epoch 209: | Train Loss: 0.34524 | Val Loss: 1.31428 | Train Acc: 100.000| Val Acc: 57.031\n",
            "Epoch 210: | Train Loss: 0.37027 | Val Loss: 1.30482 | Train Acc: 100.000| Val Acc: 52.344\n",
            "Epoch 211: | Train Loss: 0.33505 | Val Loss: 1.32574 | Train Acc: 100.000| Val Acc: 57.031\n",
            "Epoch 212: | Train Loss: 0.34682 | Val Loss: 1.28255 | Train Acc: 98.611| Val Acc: 56.250\n",
            "Epoch 213: | Train Loss: 0.26937 | Val Loss: 1.33749 | Train Acc: 100.000| Val Acc: 55.469\n",
            "Epoch 214: | Train Loss: 0.30176 | Val Loss: 1.42533 | Train Acc: 100.000| Val Acc: 52.344\n",
            "Epoch 215: | Train Loss: 0.32180 | Val Loss: 1.38715 | Train Acc: 98.611| Val Acc: 53.125\n",
            "Epoch 216: | Train Loss: 0.33853 | Val Loss: 1.43612 | Train Acc: 98.611| Val Acc: 53.906\n",
            "Epoch 217: | Train Loss: 0.31369 | Val Loss: 1.36656 | Train Acc: 98.611| Val Acc: 55.469\n",
            "Epoch 218: | Train Loss: 0.29686 | Val Loss: 1.39252 | Train Acc: 98.611| Val Acc: 54.688\n",
            "Epoch 219: | Train Loss: 0.29555 | Val Loss: 1.34359 | Train Acc: 100.000| Val Acc: 57.812\n",
            "Epoch 220: | Train Loss: 0.34628 | Val Loss: 1.39452 | Train Acc: 100.000| Val Acc: 57.031\n",
            "Epoch 221: | Train Loss: 0.31427 | Val Loss: 1.34947 | Train Acc: 100.000| Val Acc: 57.031\n",
            "Epoch 222: | Train Loss: 0.33596 | Val Loss: 1.46231 | Train Acc: 100.000| Val Acc: 54.688\n",
            "Epoch 223: | Train Loss: 0.26897 | Val Loss: 1.39124 | Train Acc: 100.000| Val Acc: 54.688\n",
            "Epoch 224: | Train Loss: 0.30228 | Val Loss: 1.41630 | Train Acc: 98.611| Val Acc: 54.688\n",
            "Epoch 225: | Train Loss: 0.32838 | Val Loss: 1.42797 | Train Acc: 100.000| Val Acc: 52.344\n",
            "Epoch 226: | Train Loss: 0.34443 | Val Loss: 1.45720 | Train Acc: 100.000| Val Acc: 56.250\n",
            "Epoch 227: | Train Loss: 0.37180 | Val Loss: 1.29195 | Train Acc: 100.000| Val Acc: 55.469\n",
            "Epoch 228: | Train Loss: 0.37004 | Val Loss: 1.30337 | Train Acc: 100.000| Val Acc: 58.594\n",
            "Epoch 229: | Train Loss: 0.30813 | Val Loss: 1.28963 | Train Acc: 98.611| Val Acc: 58.594\n",
            "Epoch 230: | Train Loss: 0.33081 | Val Loss: 1.34378 | Train Acc: 100.000| Val Acc: 57.031\n",
            "Epoch 231: | Train Loss: 0.29450 | Val Loss: 1.32985 | Train Acc: 100.000| Val Acc: 55.469\n",
            "Epoch 232: | Train Loss: 0.30510 | Val Loss: 1.33666 | Train Acc: 100.000| Val Acc: 57.031\n",
            "Epoch 233: | Train Loss: 0.34417 | Val Loss: 1.25196 | Train Acc: 100.000| Val Acc: 58.594\n",
            "Epoch 234: | Train Loss: 0.39848 | Val Loss: 1.26641 | Train Acc: 100.000| Val Acc: 56.250\n",
            "Epoch 235: | Train Loss: 0.33263 | Val Loss: 1.19045 | Train Acc: 97.222| Val Acc: 54.688\n",
            "Epoch 236: | Train Loss: 0.30425 | Val Loss: 1.18872 | Train Acc: 100.000| Val Acc: 57.031\n",
            "Epoch 237: | Train Loss: 0.30577 | Val Loss: 1.31329 | Train Acc: 98.611| Val Acc: 53.906\n",
            "Epoch 238: | Train Loss: 0.36940 | Val Loss: 1.30414 | Train Acc: 98.611| Val Acc: 56.250\n",
            "Epoch 239: | Train Loss: 0.29470 | Val Loss: 1.25783 | Train Acc: 100.000| Val Acc: 59.375\n",
            "Epoch 240: | Train Loss: 0.30807 | Val Loss: 1.31057 | Train Acc: 100.000| Val Acc: 55.469\n",
            "Epoch 241: | Train Loss: 0.28422 | Val Loss: 1.36079 | Train Acc: 100.000| Val Acc: 59.375\n",
            "Epoch 242: | Train Loss: 0.27207 | Val Loss: 1.44137 | Train Acc: 100.000| Val Acc: 57.812\n",
            "Epoch 243: | Train Loss: 0.33780 | Val Loss: 1.46181 | Train Acc: 100.000| Val Acc: 60.938\n",
            "Epoch 244: | Train Loss: 0.32074 | Val Loss: 1.41476 | Train Acc: 97.222| Val Acc: 57.031\n",
            "Epoch 245: | Train Loss: 0.34987 | Val Loss: 1.38720 | Train Acc: 100.000| Val Acc: 56.250\n",
            "Epoch 246: | Train Loss: 0.34352 | Val Loss: 1.32907 | Train Acc: 100.000| Val Acc: 59.375\n",
            "Epoch 247: | Train Loss: 0.33938 | Val Loss: 1.34173 | Train Acc: 100.000| Val Acc: 53.906\n",
            "Epoch 248: | Train Loss: 0.32585 | Val Loss: 1.30448 | Train Acc: 100.000| Val Acc: 57.812\n",
            "Epoch 249: | Train Loss: 0.41937 | Val Loss: 1.35968 | Train Acc: 100.000| Val Acc: 60.156\n",
            "Epoch 250: | Train Loss: 0.29009 | Val Loss: 1.47019 | Train Acc: 100.000| Val Acc: 56.250\n",
            "Epoch 251: | Train Loss: 0.37293 | Val Loss: 1.49067 | Train Acc: 100.000| Val Acc: 56.250\n",
            "Epoch 252: | Train Loss: 0.25502 | Val Loss: 1.41917 | Train Acc: 98.611| Val Acc: 56.250\n",
            "Epoch 253: | Train Loss: 0.30157 | Val Loss: 1.41427 | Train Acc: 100.000| Val Acc: 55.469\n",
            "Epoch 254: | Train Loss: 0.28470 | Val Loss: 1.35111 | Train Acc: 100.000| Val Acc: 59.375\n",
            "Epoch 255: | Train Loss: 0.28020 | Val Loss: 1.31819 | Train Acc: 100.000| Val Acc: 60.156\n",
            "Epoch 256: | Train Loss: 0.31505 | Val Loss: 1.34920 | Train Acc: 100.000| Val Acc: 57.031\n",
            "Epoch 257: | Train Loss: 0.28433 | Val Loss: 1.29454 | Train Acc: 100.000| Val Acc: 57.812\n",
            "Epoch 258: | Train Loss: 0.28179 | Val Loss: 1.22826 | Train Acc: 100.000| Val Acc: 57.812\n",
            "Epoch 259: | Train Loss: 0.21916 | Val Loss: 1.23969 | Train Acc: 100.000| Val Acc: 56.250\n",
            "Epoch 260: | Train Loss: 0.32894 | Val Loss: 1.35920 | Train Acc: 98.611| Val Acc: 55.469\n",
            "Epoch 261: | Train Loss: 0.35945 | Val Loss: 1.34190 | Train Acc: 98.611| Val Acc: 54.688\n",
            "Epoch 262: | Train Loss: 0.24810 | Val Loss: 1.28416 | Train Acc: 100.000| Val Acc: 55.469\n",
            "Epoch 263: | Train Loss: 0.34488 | Val Loss: 1.33122 | Train Acc: 100.000| Val Acc: 57.031\n",
            "Epoch 264: | Train Loss: 0.28036 | Val Loss: 1.33626 | Train Acc: 100.000| Val Acc: 60.156\n",
            "Epoch 265: | Train Loss: 0.25831 | Val Loss: 1.26851 | Train Acc: 98.611| Val Acc: 62.500\n",
            "Epoch 266: | Train Loss: 0.26803 | Val Loss: 1.26296 | Train Acc: 100.000| Val Acc: 60.938\n",
            "Epoch 267: | Train Loss: 0.33335 | Val Loss: 1.30884 | Train Acc: 100.000| Val Acc: 59.375\n",
            "Epoch 268: | Train Loss: 0.30719 | Val Loss: 1.29602 | Train Acc: 100.000| Val Acc: 58.594\n",
            "Epoch 269: | Train Loss: 0.32710 | Val Loss: 1.32671 | Train Acc: 98.611| Val Acc: 58.594\n",
            "Epoch 270: | Train Loss: 0.28530 | Val Loss: 1.31600 | Train Acc: 100.000| Val Acc: 59.375\n",
            "Epoch 271: | Train Loss: 0.36979 | Val Loss: 1.27645 | Train Acc: 98.611| Val Acc: 59.375\n",
            "Epoch 272: | Train Loss: 0.26331 | Val Loss: 1.36192 | Train Acc: 100.000| Val Acc: 57.031\n",
            "Epoch 273: | Train Loss: 0.31961 | Val Loss: 1.27206 | Train Acc: 100.000| Val Acc: 57.812\n",
            "Epoch 274: | Train Loss: 0.28688 | Val Loss: 1.37218 | Train Acc: 100.000| Val Acc: 56.250\n",
            "Epoch 275: | Train Loss: 0.33502 | Val Loss: 1.38538 | Train Acc: 100.000| Val Acc: 53.125\n",
            "Epoch 276: | Train Loss: 0.32638 | Val Loss: 1.38734 | Train Acc: 100.000| Val Acc: 60.938\n",
            "Epoch 277: | Train Loss: 0.32331 | Val Loss: 1.32756 | Train Acc: 100.000| Val Acc: 53.906\n",
            "Epoch 278: | Train Loss: 0.31188 | Val Loss: 1.26210 | Train Acc: 98.611| Val Acc: 60.156\n",
            "Epoch 279: | Train Loss: 0.26455 | Val Loss: 1.34794 | Train Acc: 100.000| Val Acc: 57.812\n",
            "Epoch 280: | Train Loss: 0.24487 | Val Loss: 1.40563 | Train Acc: 100.000| Val Acc: 56.250\n",
            "Epoch 281: | Train Loss: 0.33546 | Val Loss: 1.33759 | Train Acc: 100.000| Val Acc: 54.688\n",
            "Epoch 282: | Train Loss: 0.32664 | Val Loss: 1.43273 | Train Acc: 100.000| Val Acc: 57.812\n",
            "Epoch 283: | Train Loss: 0.27021 | Val Loss: 1.42535 | Train Acc: 100.000| Val Acc: 55.469\n",
            "Epoch 284: | Train Loss: 0.24224 | Val Loss: 1.36870 | Train Acc: 98.611| Val Acc: 57.812\n",
            "Epoch 285: | Train Loss: 0.47092 | Val Loss: 1.44698 | Train Acc: 100.000| Val Acc: 57.031\n",
            "Epoch 286: | Train Loss: 0.36635 | Val Loss: 1.44818 | Train Acc: 98.611| Val Acc: 54.688\n",
            "Epoch 287: | Train Loss: 0.25911 | Val Loss: 1.37262 | Train Acc: 100.000| Val Acc: 57.031\n",
            "Epoch 288: | Train Loss: 0.27825 | Val Loss: 1.39415 | Train Acc: 100.000| Val Acc: 56.250\n",
            "Epoch 289: | Train Loss: 0.27702 | Val Loss: 1.45347 | Train Acc: 100.000| Val Acc: 55.469\n",
            "Epoch 290: | Train Loss: 0.25185 | Val Loss: 1.36882 | Train Acc: 100.000| Val Acc: 53.906\n",
            "Epoch 291: | Train Loss: 0.27655 | Val Loss: 1.39832 | Train Acc: 100.000| Val Acc: 56.250\n",
            "Epoch 292: | Train Loss: 0.27033 | Val Loss: 1.42600 | Train Acc: 100.000| Val Acc: 58.594\n",
            "Epoch 293: | Train Loss: 0.29763 | Val Loss: 1.40822 | Train Acc: 100.000| Val Acc: 57.031\n",
            "Epoch 294: | Train Loss: 0.24512 | Val Loss: 1.42603 | Train Acc: 100.000| Val Acc: 60.156\n",
            "Epoch 295: | Train Loss: 0.28124 | Val Loss: 1.39106 | Train Acc: 98.611| Val Acc: 58.594\n",
            "Epoch 296: | Train Loss: 0.27999 | Val Loss: 1.41325 | Train Acc: 100.000| Val Acc: 58.594\n",
            "Epoch 297: | Train Loss: 0.28902 | Val Loss: 1.37672 | Train Acc: 100.000| Val Acc: 58.594\n",
            "Epoch 298: | Train Loss: 0.26289 | Val Loss: 1.41878 | Train Acc: 100.000| Val Acc: 54.688\n",
            "Epoch 299: | Train Loss: 0.28469 | Val Loss: 1.42663 | Train Acc: 98.611| Val Acc: 53.906\n",
            "Epoch 300: | Train Loss: 0.26889 | Val Loss: 1.42968 | Train Acc: 100.000| Val Acc: 57.812\n",
            "\n"
          ],
          "name": "stdout"
        }
      ]
    },
    {
      "cell_type": "markdown",
      "metadata": {
        "id": "EK-D9slixQns"
      },
      "source": [
        "You can see we’ve put a model.train() at the before the loop. model.train() tells PyTorch that you’re in training mode.\n",
        "\n",
        "Well, why do we need to do that? If you’re using layers such as Dropout or BatchNorm which behave differently during training and evaluation (for example; not use dropout during evaluation), you need to tell PyTorch to act accordingly.\n",
        "\n",
        "Similarly, we’ll call model.eval() when we test our model. We’ll see that below.\n",
        "\n",
        "Back to training; we start a for-loop. At the top of this for-loop, we initialize our loss and accuracy per epoch to 0. After every epoch, we’ll print out the loss/accuracy and reset it back to 0.\n",
        "Then we have another for-loop. This for-loop is used to get our data in batches from the train_loader.\n",
        "\n",
        "We do optimizer.zero_grad() before we make any predictions. Since the backward() function accumulates gradients, we need to set it to 0 manually per mini-batch.\n",
        "\n",
        "From our defined model, we then obtain a prediction, get the loss(and accuracy) for that mini-batch, perform back-propagation using loss.backward() and optimizer.step() .\n",
        "\n",
        "Finally, we add all the mini-batch losses (and accuracies) to obtain the average loss (and accuracy) for that epoch. We add up all the losses/accuracies for each mini-batch and finally divide it by the number of mini-batches ie. length of train_loader to obtain the average loss/accuracy per epoch.\n",
        "\n",
        "The procedure we follow for training is the exact same for validation except for the fact that we wrap it up in torch.no_grad and not perform any back-propagation. torch.no_grad() tells PyTorch that we do not want to perform back-propagation, which reduces memory usage and speeds up computation."
      ]
    },
    {
      "cell_type": "markdown",
      "metadata": {
        "id": "QA635MV9xUet"
      },
      "source": [
        "Visualize Loss and Accuracy\n",
        "\n",
        "To plot the loss and accuracy line plots, we again create a dataframe from the accuracy_stats and loss_stats dictionaries."
      ]
    },
    {
      "cell_type": "code",
      "metadata": {
        "id": "7cqaS4lyxGVn",
        "outputId": "d6c87252-7afa-49e7-b31c-9a8ceeb94fca",
        "colab": {
          "base_uri": "https://localhost:8080/",
          "height": 331
        }
      },
      "source": [
        "# Create dataframes\n",
        "train_val_acc_df = pd.DataFrame.from_dict(accuracy_stats).reset_index().melt(id_vars=['index']).rename(columns={\"index\":\"epochs\"})\n",
        "train_val_loss_df = pd.DataFrame.from_dict(loss_stats).reset_index().melt(id_vars=['index']).rename(columns={\"index\":\"epochs\"})\n",
        "# Plot the dataframes\n",
        "fig, axes = plt.subplots(nrows=1, ncols=2, figsize=(20,7))\n",
        "sns.lineplot(data=train_val_acc_df, x = \"epochs\", y=\"value\", hue=\"variable\",  ax=axes[0]).set_title('Train-Val Accuracy/Epoch')\n",
        "sns.lineplot(data=train_val_loss_df, x = \"epochs\", y=\"value\", hue=\"variable\", ax=axes[1]).set_title('Train-Val Loss/Epoch')"
      ],
      "execution_count": null,
      "outputs": [
        {
          "output_type": "execute_result",
          "data": {
            "text/plain": [
              "Text(0.5, 1.0, 'Train-Val Loss/Epoch')"
            ]
          },
          "metadata": {
            "tags": []
          },
          "execution_count": 31
        },
        {
          "output_type": "display_data",
          "data": {
            "image/png": "[encoded data removed]",
            "text/plain": [
              "<Figure size 1440x504 with 2 Axes>"
            ]
          },
          "metadata": {
            "tags": [],
            "needs_background": "light"
          }
        }
      ]
    },
    {
      "cell_type": "markdown",
      "metadata": {
        "id": "eHgNmLsDxZNk"
      },
      "source": [
        "Test the model\n",
        "\n",
        "After training is done, we need to test how our model fared. Note that we’ve used model.eval() before we run our testing code. To tell PyTorch that we do not want to perform back-propagation during inference, we use torch.no_grad(), just like we did it for the validation loop above.\n",
        "We start by defining a list that will hold our predictions. Then we loop through our batches using the test_loader. For each batch —\n",
        "- We move our input mini-batch to GPU.\n",
        "- We make the predictions using our trained model.\n",
        "- Apply log_softmax activation to the predictions and pick the index of highest probability.\n",
        "- Move the batch to the GPU from the CPU.\n",
        "- Convert the tensor to a numpy object and append it to our list.\n",
        "- Flatten out the list so that we can use it as an input to confusion_matrix and classification_report.\n",
        "\n",
        "`\n"
      ]
    },
    {
      "cell_type": "code",
      "metadata": {
        "id": "iw3JcL4hxWZd"
      },
      "source": [
        "y_pred_list = []\n",
        "with torch.no_grad():\n",
        "    model.eval()\n",
        "    for X_batch, _ in test_loader:\n",
        "        X_batch = X_batch.to(device)\n",
        "        y_test_pred = model(X_batch)\n",
        "        y_pred_softmax = torch.log_softmax(y_test_pred, dim = 1)\n",
        "        _, y_pred_tags = torch.max(y_pred_softmax, dim = 1)\n",
        "        y_pred_list.append(y_pred_tags.cpu().numpy())\n",
        "y_pred_list = [a.squeeze().tolist() for a in y_pred_list]"
      ],
      "execution_count": null,
      "outputs": []
    },
    {
      "cell_type": "code",
      "metadata": {
        "id": "anx17VmJxjno",
        "outputId": "82374746-2f09-4423-fb8a-55e20c31db7e",
        "colab": {
          "base_uri": "https://localhost:8080/",
          "height": 282
        }
      },
      "source": [
        "confusion_matrix_df = pd.DataFrame(confusion_matrix(y_test, y_pred_list)).rename(columns=idx2class, index=idx2class)\n",
        "\n",
        "sns.heatmap(confusion_matrix_df, annot=True)"
      ],
      "execution_count": null,
      "outputs": [
        {
          "output_type": "execute_result",
          "data": {
            "text/plain": [
              "<matplotlib.axes._subplots.AxesSubplot at 0x7fab18b1e0b8>"
            ]
          },
          "metadata": {
            "tags": []
          },
          "execution_count": 33
        },
        {
          "output_type": "display_data",
          "data": {
            "image/png": "[encoded data removed]",
            "text/plain": [
              "<Figure size 432x288 with 2 Axes>"
            ]
          },
          "metadata": {
            "tags": [],
            "needs_background": "light"
          }
        }
      ]
    },
    {
      "cell_type": "code",
      "metadata": {
        "id": "IIbzfp5NxlL1",
        "outputId": "eeaef63d-044f-4585-96c1-99a2499eebfd",
        "colab": {
          "base_uri": "https://localhost:8080/",
          "height": 238
        }
      },
      "source": [
        "print(classification_report(y_test, y_pred_list))\n"
      ],
      "execution_count": null,
      "outputs": [
        {
          "output_type": "stream",
          "text": [
            "              precision    recall  f1-score   support\n",
            "\n",
            "           0       0.00      0.00      0.00         2\n",
            "           1       0.14      0.27      0.19        11\n",
            "           2       0.73      0.67      0.70       136\n",
            "           3       0.67      0.59      0.62       128\n",
            "           4       0.43      0.65      0.52        40\n",
            "           5       0.00      0.00      0.00         3\n",
            "\n",
            "    accuracy                           0.61       320\n",
            "   macro avg       0.33      0.36      0.34       320\n",
            "weighted avg       0.64      0.61      0.62       320\n",
            "\n"
          ],
          "name": "stdout"
        }
      ]
    },
    {
      "cell_type": "code",
      "metadata": {
        "id": "-bmrZosOxlOb"
      },
      "source": [
        ""
      ],
      "execution_count": null,
      "outputs": []
    }
  ]
}