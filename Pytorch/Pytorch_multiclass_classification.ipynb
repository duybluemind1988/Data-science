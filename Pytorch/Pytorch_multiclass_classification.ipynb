{
  "nbformat": 4,
  "nbformat_minor": 0,
  "metadata": {
    "colab": {
      "name": "Pytorch multiclass classification.ipynb",
      "provenance": [],
      "collapsed_sections": [],
      "mount_file_id": "https://github.com/duybluemind1988/Data-science/blob/master/Pytorch/Pytorch_multiclass_classification.ipynb",
      "authorship_tag": "ABX9TyOqkSw3FVDf6kDL885oziYM",
      "include_colab_link": true
    },
    "kernelspec": {
      "name": "python3",
      "display_name": "Python 3"
    },
    "widgets": {
      "application/vnd.jupyter.widget-state+json": {
        "761ba962e3fb4e14906bb0eab465acc0": {
          "model_module": "@jupyter-widgets/controls",
          "model_name": "HBoxModel",
          "state": {
            "_view_name": "HBoxView",
            "_dom_classes": [],
            "_model_name": "HBoxModel",
            "_view_module": "@jupyter-widgets/controls",
            "_model_module_version": "1.5.0",
            "_view_count": null,
            "_view_module_version": "1.5.0",
            "box_style": "",
            "layout": "IPY_MODEL_8d7a84565ccf42159e75be70ab71d04d",
            "_model_module": "@jupyter-widgets/controls",
            "children": [
              "IPY_MODEL_5a59967fccfd4fbc93212666a5651b31",
              "IPY_MODEL_0e4870378c7945b083741586af6eddff"
            ]
          }
        },
        "8d7a84565ccf42159e75be70ab71d04d": {
          "model_module": "@jupyter-widgets/base",
          "model_name": "LayoutModel",
          "state": {
            "_view_name": "LayoutView",
            "grid_template_rows": null,
            "right": null,
            "justify_content": null,
            "_view_module": "@jupyter-widgets/base",
            "overflow": null,
            "_model_module_version": "1.2.0",
            "_view_count": null,
            "flex_flow": null,
            "width": null,
            "min_width": null,
            "border": null,
            "align_items": null,
            "bottom": null,
            "_model_module": "@jupyter-widgets/base",
            "top": null,
            "grid_column": null,
            "overflow_y": null,
            "overflow_x": null,
            "grid_auto_flow": null,
            "grid_area": null,
            "grid_template_columns": null,
            "flex": null,
            "_model_name": "LayoutModel",
            "justify_items": null,
            "grid_row": null,
            "max_height": null,
            "align_content": null,
            "visibility": null,
            "align_self": null,
            "height": null,
            "min_height": null,
            "padding": null,
            "grid_auto_rows": null,
            "grid_gap": null,
            "max_width": null,
            "order": null,
            "_view_module_version": "1.2.0",
            "grid_template_areas": null,
            "object_position": null,
            "object_fit": null,
            "grid_auto_columns": null,
            "margin": null,
            "display": null,
            "left": null
          }
        },
        "5a59967fccfd4fbc93212666a5651b31": {
          "model_module": "@jupyter-widgets/controls",
          "model_name": "FloatProgressModel",
          "state": {
            "_view_name": "ProgressView",
            "style": "IPY_MODEL_31c130f118a342cfb9e79252a4411299",
            "_dom_classes": [],
            "description": "100%",
            "_model_name": "FloatProgressModel",
            "bar_style": "success",
            "max": 300,
            "_view_module": "@jupyter-widgets/controls",
            "_model_module_version": "1.5.0",
            "value": 300,
            "_view_count": null,
            "_view_module_version": "1.5.0",
            "orientation": "horizontal",
            "min": 0,
            "description_tooltip": null,
            "_model_module": "@jupyter-widgets/controls",
            "layout": "IPY_MODEL_cb6feed25e6b4c57b202dcad864c83f3"
          }
        },
        "0e4870378c7945b083741586af6eddff": {
          "model_module": "@jupyter-widgets/controls",
          "model_name": "HTMLModel",
          "state": {
            "_view_name": "HTMLView",
            "style": "IPY_MODEL_910025adc39d481c8ae026ab4211748a",
            "_dom_classes": [],
            "description": "",
            "_model_name": "HTMLModel",
            "placeholder": "​",
            "_view_module": "@jupyter-widgets/controls",
            "_model_module_version": "1.5.0",
            "value": " 300/300 [03:13&lt;00:00,  1.55it/s]",
            "_view_count": null,
            "_view_module_version": "1.5.0",
            "description_tooltip": null,
            "_model_module": "@jupyter-widgets/controls",
            "layout": "IPY_MODEL_cd4e8c833b514b588714d1de58a35b73"
          }
        },
        "31c130f118a342cfb9e79252a4411299": {
          "model_module": "@jupyter-widgets/controls",
          "model_name": "ProgressStyleModel",
          "state": {
            "_view_name": "StyleView",
            "_model_name": "ProgressStyleModel",
            "description_width": "initial",
            "_view_module": "@jupyter-widgets/base",
            "_model_module_version": "1.5.0",
            "_view_count": null,
            "_view_module_version": "1.2.0",
            "bar_color": null,
            "_model_module": "@jupyter-widgets/controls"
          }
        },
        "cb6feed25e6b4c57b202dcad864c83f3": {
          "model_module": "@jupyter-widgets/base",
          "model_name": "LayoutModel",
          "state": {
            "_view_name": "LayoutView",
            "grid_template_rows": null,
            "right": null,
            "justify_content": null,
            "_view_module": "@jupyter-widgets/base",
            "overflow": null,
            "_model_module_version": "1.2.0",
            "_view_count": null,
            "flex_flow": null,
            "width": null,
            "min_width": null,
            "border": null,
            "align_items": null,
            "bottom": null,
            "_model_module": "@jupyter-widgets/base",
            "top": null,
            "grid_column": null,
            "overflow_y": null,
            "overflow_x": null,
            "grid_auto_flow": null,
            "grid_area": null,
            "grid_template_columns": null,
            "flex": null,
            "_model_name": "LayoutModel",
            "justify_items": null,
            "grid_row": null,
            "max_height": null,
            "align_content": null,
            "visibility": null,
            "align_self": null,
            "height": null,
            "min_height": null,
            "padding": null,
            "grid_auto_rows": null,
            "grid_gap": null,
            "max_width": null,
            "order": null,
            "_view_module_version": "1.2.0",
            "grid_template_areas": null,
            "object_position": null,
            "object_fit": null,
            "grid_auto_columns": null,
            "margin": null,
            "display": null,
            "left": null
          }
        },
        "910025adc39d481c8ae026ab4211748a": {
          "model_module": "@jupyter-widgets/controls",
          "model_name": "DescriptionStyleModel",
          "state": {
            "_view_name": "StyleView",
            "_model_name": "DescriptionStyleModel",
            "description_width": "",
            "_view_module": "@jupyter-widgets/base",
            "_model_module_version": "1.5.0",
            "_view_count": null,
            "_view_module_version": "1.2.0",
            "_model_module": "@jupyter-widgets/controls"
          }
        },
        "cd4e8c833b514b588714d1de58a35b73": {
          "model_module": "@jupyter-widgets/base",
          "model_name": "LayoutModel",
          "state": {
            "_view_name": "LayoutView",
            "grid_template_rows": null,
            "right": null,
            "justify_content": null,
            "_view_module": "@jupyter-widgets/base",
            "overflow": null,
            "_model_module_version": "1.2.0",
            "_view_count": null,
            "flex_flow": null,
            "width": null,
            "min_width": null,
            "border": null,
            "align_items": null,
            "bottom": null,
            "_model_module": "@jupyter-widgets/base",
            "top": null,
            "grid_column": null,
            "overflow_y": null,
            "overflow_x": null,
            "grid_auto_flow": null,
            "grid_area": null,
            "grid_template_columns": null,
            "flex": null,
            "_model_name": "LayoutModel",
            "justify_items": null,
            "grid_row": null,
            "max_height": null,
            "align_content": null,
            "visibility": null,
            "align_self": null,
            "height": null,
            "min_height": null,
            "padding": null,
            "grid_auto_rows": null,
            "grid_gap": null,
            "max_width": null,
            "order": null,
            "_view_module_version": "1.2.0",
            "grid_template_areas": null,
            "object_position": null,
            "object_fit": null,
            "grid_auto_columns": null,
            "margin": null,
            "display": null,
            "left": null
          }
        },
        "166b6e41193342eeb677c6953dd1d1a2": {
          "model_module": "@jupyter-widgets/controls",
          "model_name": "HBoxModel",
          "state": {
            "_view_name": "HBoxView",
            "_dom_classes": [],
            "_model_name": "HBoxModel",
            "_view_module": "@jupyter-widgets/controls",
            "_model_module_version": "1.5.0",
            "_view_count": null,
            "_view_module_version": "1.5.0",
            "box_style": "",
            "layout": "IPY_MODEL_b1bc1f1336d344bf94188a9d97db28e7",
            "_model_module": "@jupyter-widgets/controls",
            "children": [
              "IPY_MODEL_6ad94e73c42d4b92a785688bdddef5e4",
              "IPY_MODEL_6d241c94db214232ab108013c9431693"
            ]
          }
        },
        "b1bc1f1336d344bf94188a9d97db28e7": {
          "model_module": "@jupyter-widgets/base",
          "model_name": "LayoutModel",
          "state": {
            "_view_name": "LayoutView",
            "grid_template_rows": null,
            "right": null,
            "justify_content": null,
            "_view_module": "@jupyter-widgets/base",
            "overflow": null,
            "_model_module_version": "1.2.0",
            "_view_count": null,
            "flex_flow": null,
            "width": null,
            "min_width": null,
            "border": null,
            "align_items": null,
            "bottom": null,
            "_model_module": "@jupyter-widgets/base",
            "top": null,
            "grid_column": null,
            "overflow_y": null,
            "overflow_x": null,
            "grid_auto_flow": null,
            "grid_area": null,
            "grid_template_columns": null,
            "flex": null,
            "_model_name": "LayoutModel",
            "justify_items": null,
            "grid_row": null,
            "max_height": null,
            "align_content": null,
            "visibility": null,
            "align_self": null,
            "height": null,
            "min_height": null,
            "padding": null,
            "grid_auto_rows": null,
            "grid_gap": null,
            "max_width": null,
            "order": null,
            "_view_module_version": "1.2.0",
            "grid_template_areas": null,
            "object_position": null,
            "object_fit": null,
            "grid_auto_columns": null,
            "margin": null,
            "display": null,
            "left": null
          }
        },
        "6ad94e73c42d4b92a785688bdddef5e4": {
          "model_module": "@jupyter-widgets/controls",
          "model_name": "FloatProgressModel",
          "state": {
            "_view_name": "ProgressView",
            "style": "IPY_MODEL_bf3d16462949420e8548a7ac0eac7683",
            "_dom_classes": [],
            "description": "100%",
            "_model_name": "FloatProgressModel",
            "bar_style": "success",
            "max": 25,
            "_view_module": "@jupyter-widgets/controls",
            "_model_module_version": "1.5.0",
            "value": 25,
            "_view_count": null,
            "_view_module_version": "1.5.0",
            "orientation": "horizontal",
            "min": 0,
            "description_tooltip": null,
            "_model_module": "@jupyter-widgets/controls",
            "layout": "IPY_MODEL_e9e34a38c7264492accb21e9f56206b8"
          }
        },
        "6d241c94db214232ab108013c9431693": {
          "model_module": "@jupyter-widgets/controls",
          "model_name": "HTMLModel",
          "state": {
            "_view_name": "HTMLView",
            "style": "IPY_MODEL_e55fae765e954c2e8c44d7aa40161310",
            "_dom_classes": [],
            "description": "",
            "_model_name": "HTMLModel",
            "placeholder": "​",
            "_view_module": "@jupyter-widgets/controls",
            "_model_module_version": "1.5.0",
            "value": " 25/25 [10:19&lt;00:00, 24.78s/it]",
            "_view_count": null,
            "_view_module_version": "1.5.0",
            "description_tooltip": null,
            "_model_module": "@jupyter-widgets/controls",
            "layout": "IPY_MODEL_cb174a151d7b43cd90a99abe2092ad8e"
          }
        },
        "bf3d16462949420e8548a7ac0eac7683": {
          "model_module": "@jupyter-widgets/controls",
          "model_name": "ProgressStyleModel",
          "state": {
            "_view_name": "StyleView",
            "_model_name": "ProgressStyleModel",
            "description_width": "initial",
            "_view_module": "@jupyter-widgets/base",
            "_model_module_version": "1.5.0",
            "_view_count": null,
            "_view_module_version": "1.2.0",
            "bar_color": null,
            "_model_module": "@jupyter-widgets/controls"
          }
        },
        "e9e34a38c7264492accb21e9f56206b8": {
          "model_module": "@jupyter-widgets/base",
          "model_name": "LayoutModel",
          "state": {
            "_view_name": "LayoutView",
            "grid_template_rows": null,
            "right": null,
            "justify_content": null,
            "_view_module": "@jupyter-widgets/base",
            "overflow": null,
            "_model_module_version": "1.2.0",
            "_view_count": null,
            "flex_flow": null,
            "width": null,
            "min_width": null,
            "border": null,
            "align_items": null,
            "bottom": null,
            "_model_module": "@jupyter-widgets/base",
            "top": null,
            "grid_column": null,
            "overflow_y": null,
            "overflow_x": null,
            "grid_auto_flow": null,
            "grid_area": null,
            "grid_template_columns": null,
            "flex": null,
            "_model_name": "LayoutModel",
            "justify_items": null,
            "grid_row": null,
            "max_height": null,
            "align_content": null,
            "visibility": null,
            "align_self": null,
            "height": null,
            "min_height": null,
            "padding": null,
            "grid_auto_rows": null,
            "grid_gap": null,
            "max_width": null,
            "order": null,
            "_view_module_version": "1.2.0",
            "grid_template_areas": null,
            "object_position": null,
            "object_fit": null,
            "grid_auto_columns": null,
            "margin": null,
            "display": null,
            "left": null
          }
        },
        "e55fae765e954c2e8c44d7aa40161310": {
          "model_module": "@jupyter-widgets/controls",
          "model_name": "DescriptionStyleModel",
          "state": {
            "_view_name": "StyleView",
            "_model_name": "DescriptionStyleModel",
            "description_width": "",
            "_view_module": "@jupyter-widgets/base",
            "_model_module_version": "1.5.0",
            "_view_count": null,
            "_view_module_version": "1.2.0",
            "_model_module": "@jupyter-widgets/controls"
          }
        },
        "cb174a151d7b43cd90a99abe2092ad8e": {
          "model_module": "@jupyter-widgets/base",
          "model_name": "LayoutModel",
          "state": {
            "_view_name": "LayoutView",
            "grid_template_rows": null,
            "right": null,
            "justify_content": null,
            "_view_module": "@jupyter-widgets/base",
            "overflow": null,
            "_model_module_version": "1.2.0",
            "_view_count": null,
            "flex_flow": null,
            "width": null,
            "min_width": null,
            "border": null,
            "align_items": null,
            "bottom": null,
            "_model_module": "@jupyter-widgets/base",
            "top": null,
            "grid_column": null,
            "overflow_y": null,
            "overflow_x": null,
            "grid_auto_flow": null,
            "grid_area": null,
            "grid_template_columns": null,
            "flex": null,
            "_model_name": "LayoutModel",
            "justify_items": null,
            "grid_row": null,
            "max_height": null,
            "align_content": null,
            "visibility": null,
            "align_self": null,
            "height": null,
            "min_height": null,
            "padding": null,
            "grid_auto_rows": null,
            "grid_gap": null,
            "max_width": null,
            "order": null,
            "_view_module_version": "1.2.0",
            "grid_template_areas": null,
            "object_position": null,
            "object_fit": null,
            "grid_auto_columns": null,
            "margin": null,
            "display": null,
            "left": null
          }
        },
        "3efe0a23ac3742228fc378210e19f8e1": {
          "model_module": "@jupyter-widgets/controls",
          "model_name": "HBoxModel",
          "state": {
            "_view_name": "HBoxView",
            "_dom_classes": [],
            "_model_name": "HBoxModel",
            "_view_module": "@jupyter-widgets/controls",
            "_model_module_version": "1.5.0",
            "_view_count": null,
            "_view_module_version": "1.5.0",
            "box_style": "",
            "layout": "IPY_MODEL_cb7ba0c7f83a41de87554bf50922ac84",
            "_model_module": "@jupyter-widgets/controls",
            "children": [
              "IPY_MODEL_324bf5aadd8f4a87b408a2f8b466c90a",
              "IPY_MODEL_b51516b740ca45939fa8889751c8ec1b"
            ]
          }
        },
        "cb7ba0c7f83a41de87554bf50922ac84": {
          "model_module": "@jupyter-widgets/base",
          "model_name": "LayoutModel",
          "state": {
            "_view_name": "LayoutView",
            "grid_template_rows": null,
            "right": null,
            "justify_content": null,
            "_view_module": "@jupyter-widgets/base",
            "overflow": null,
            "_model_module_version": "1.2.0",
            "_view_count": null,
            "flex_flow": null,
            "width": null,
            "min_width": null,
            "border": null,
            "align_items": null,
            "bottom": null,
            "_model_module": "@jupyter-widgets/base",
            "top": null,
            "grid_column": null,
            "overflow_y": null,
            "overflow_x": null,
            "grid_auto_flow": null,
            "grid_area": null,
            "grid_template_columns": null,
            "flex": null,
            "_model_name": "LayoutModel",
            "justify_items": null,
            "grid_row": null,
            "max_height": null,
            "align_content": null,
            "visibility": null,
            "align_self": null,
            "height": null,
            "min_height": null,
            "padding": null,
            "grid_auto_rows": null,
            "grid_gap": null,
            "max_width": null,
            "order": null,
            "_view_module_version": "1.2.0",
            "grid_template_areas": null,
            "object_position": null,
            "object_fit": null,
            "grid_auto_columns": null,
            "margin": null,
            "display": null,
            "left": null
          }
        },
        "324bf5aadd8f4a87b408a2f8b466c90a": {
          "model_module": "@jupyter-widgets/controls",
          "model_name": "FloatProgressModel",
          "state": {
            "_view_name": "ProgressView",
            "style": "IPY_MODEL_453a3085f7c54b7e9a2040fd8e072185",
            "_dom_classes": [],
            "description": "100%",
            "_model_name": "FloatProgressModel",
            "bar_style": "success",
            "max": 100,
            "_view_module": "@jupyter-widgets/controls",
            "_model_module_version": "1.5.0",
            "value": 100,
            "_view_count": null,
            "_view_module_version": "1.5.0",
            "orientation": "horizontal",
            "min": 0,
            "description_tooltip": null,
            "_model_module": "@jupyter-widgets/controls",
            "layout": "IPY_MODEL_a71e9e551ce0489f9746fd4044e2499b"
          }
        },
        "b51516b740ca45939fa8889751c8ec1b": {
          "model_module": "@jupyter-widgets/controls",
          "model_name": "HTMLModel",
          "state": {
            "_view_name": "HTMLView",
            "style": "IPY_MODEL_ec30fcced44e47cb9fe5e1683f7d5493",
            "_dom_classes": [],
            "description": "",
            "_model_name": "HTMLModel",
            "placeholder": "​",
            "_view_module": "@jupyter-widgets/controls",
            "_model_module_version": "1.5.0",
            "value": " 100/100 [02:11&lt;00:00,  1.32s/it]",
            "_view_count": null,
            "_view_module_version": "1.5.0",
            "description_tooltip": null,
            "_model_module": "@jupyter-widgets/controls",
            "layout": "IPY_MODEL_3c523303f958483bb2e71cc111dd7665"
          }
        },
        "453a3085f7c54b7e9a2040fd8e072185": {
          "model_module": "@jupyter-widgets/controls",
          "model_name": "ProgressStyleModel",
          "state": {
            "_view_name": "StyleView",
            "_model_name": "ProgressStyleModel",
            "description_width": "initial",
            "_view_module": "@jupyter-widgets/base",
            "_model_module_version": "1.5.0",
            "_view_count": null,
            "_view_module_version": "1.2.0",
            "bar_color": null,
            "_model_module": "@jupyter-widgets/controls"
          }
        },
        "a71e9e551ce0489f9746fd4044e2499b": {
          "model_module": "@jupyter-widgets/base",
          "model_name": "LayoutModel",
          "state": {
            "_view_name": "LayoutView",
            "grid_template_rows": null,
            "right": null,
            "justify_content": null,
            "_view_module": "@jupyter-widgets/base",
            "overflow": null,
            "_model_module_version": "1.2.0",
            "_view_count": null,
            "flex_flow": null,
            "width": null,
            "min_width": null,
            "border": null,
            "align_items": null,
            "bottom": null,
            "_model_module": "@jupyter-widgets/base",
            "top": null,
            "grid_column": null,
            "overflow_y": null,
            "overflow_x": null,
            "grid_auto_flow": null,
            "grid_area": null,
            "grid_template_columns": null,
            "flex": null,
            "_model_name": "LayoutModel",
            "justify_items": null,
            "grid_row": null,
            "max_height": null,
            "align_content": null,
            "visibility": null,
            "align_self": null,
            "height": null,
            "min_height": null,
            "padding": null,
            "grid_auto_rows": null,
            "grid_gap": null,
            "max_width": null,
            "order": null,
            "_view_module_version": "1.2.0",
            "grid_template_areas": null,
            "object_position": null,
            "object_fit": null,
            "grid_auto_columns": null,
            "margin": null,
            "display": null,
            "left": null
          }
        },
        "ec30fcced44e47cb9fe5e1683f7d5493": {
          "model_module": "@jupyter-widgets/controls",
          "model_name": "DescriptionStyleModel",
          "state": {
            "_view_name": "StyleView",
            "_model_name": "DescriptionStyleModel",
            "description_width": "",
            "_view_module": "@jupyter-widgets/base",
            "_model_module_version": "1.5.0",
            "_view_count": null,
            "_view_module_version": "1.2.0",
            "_model_module": "@jupyter-widgets/controls"
          }
        },
        "3c523303f958483bb2e71cc111dd7665": {
          "model_module": "@jupyter-widgets/base",
          "model_name": "LayoutModel",
          "state": {
            "_view_name": "LayoutView",
            "grid_template_rows": null,
            "right": null,
            "justify_content": null,
            "_view_module": "@jupyter-widgets/base",
            "overflow": null,
            "_model_module_version": "1.2.0",
            "_view_count": null,
            "flex_flow": null,
            "width": null,
            "min_width": null,
            "border": null,
            "align_items": null,
            "bottom": null,
            "_model_module": "@jupyter-widgets/base",
            "top": null,
            "grid_column": null,
            "overflow_y": null,
            "overflow_x": null,
            "grid_auto_flow": null,
            "grid_area": null,
            "grid_template_columns": null,
            "flex": null,
            "_model_name": "LayoutModel",
            "justify_items": null,
            "grid_row": null,
            "max_height": null,
            "align_content": null,
            "visibility": null,
            "align_self": null,
            "height": null,
            "min_height": null,
            "padding": null,
            "grid_auto_rows": null,
            "grid_gap": null,
            "max_width": null,
            "order": null,
            "_view_module_version": "1.2.0",
            "grid_template_areas": null,
            "object_position": null,
            "object_fit": null,
            "grid_auto_columns": null,
            "margin": null,
            "display": null,
            "left": null
          }
        }
      }
    }
  },
  "cells": [
    {
      "cell_type": "markdown",
      "metadata": {
        "id": "view-in-github",
        "colab_type": "text"
      },
      "source": [
        "<a href=\"https://colab.research.google.com/github/duybluemind1988/Data-science/blob/master/Pytorch/Pytorch_multiclass_classification.ipynb\" target=\"_parent\"><img src=\"https://colab.research.google.com/assets/colab-badge.svg\" alt=\"Open In Colab\"/></a>"
      ]
    },
    {
      "cell_type": "markdown",
      "metadata": {
        "id": "C7q48lQ3jzT1"
      },
      "source": [
        "# Winequality-red"
      ]
    },
    {
      "cell_type": "markdown",
      "metadata": {
        "id": "WID0kgCVjw6U"
      },
      "source": [
        "https://towardsdatascience.com/pytorch-tabular-multiclass-classification-9f8211a123ab"
      ]
    },
    {
      "cell_type": "code",
      "metadata": {
        "id": "FjylLVZYjxMY"
      },
      "source": [
        "import numpy as np\n",
        "import pandas as pd\n",
        "import seaborn as sns\n",
        "from tqdm.notebook import tqdm\n",
        "import matplotlib.pyplot as plt\n",
        "\n",
        "import torch\n",
        "import torch.nn as nn\n",
        "import torch.optim as optim\n",
        "from torch.utils.data import Dataset, DataLoader, WeightedRandomSampler\n",
        "\n",
        "from sklearn.preprocessing import MinMaxScaler,StandardScaler    \n",
        "from sklearn.model_selection import train_test_split\n",
        "from sklearn.metrics import confusion_matrix, classification_report"
      ],
      "execution_count": null,
      "outputs": []
    },
    {
      "cell_type": "markdown",
      "metadata": {
        "id": "DOOmb7GmnMjx"
      },
      "source": [
        "## Prepare data"
      ]
    },
    {
      "cell_type": "code",
      "metadata": {
        "id": "oVw9mH7Rj4aK",
        "outputId": "ffaeaf37-4793-40b2-d6d8-7db86c9d60c7",
        "colab": {
          "base_uri": "https://localhost:8080/",
          "height": 275
        }
      },
      "source": [
        "df = pd.read_csv(\"/content/drive/My Drive/Data/winequality-red.csv\")\n",
        "print(df.shape)\n",
        "df.head()"
      ],
      "execution_count": null,
      "outputs": [
        {
          "output_type": "stream",
          "text": [
            "(1599, 12)\n"
          ],
          "name": "stdout"
        },
        {
          "output_type": "execute_result",
          "data": {
            "text/html": [
              "<div>\n",
              "<style scoped>\n",
              "    .dataframe tbody tr th:only-of-type {\n",
              "        vertical-align: middle;\n",
              "    }\n",
              "\n",
              "    .dataframe tbody tr th {\n",
              "        vertical-align: top;\n",
              "    }\n",
              "\n",
              "    .dataframe thead th {\n",
              "        text-align: right;\n",
              "    }\n",
              "</style>\n",
              "<table border=\"1\" class=\"dataframe\">\n",
              "  <thead>\n",
              "    <tr style=\"text-align: right;\">\n",
              "      <th></th>\n",
              "      <th>fixed acidity</th>\n",
              "      <th>volatile acidity</th>\n",
              "      <th>citric acid</th>\n",
              "      <th>residual sugar</th>\n",
              "      <th>chlorides</th>\n",
              "      <th>free sulfur dioxide</th>\n",
              "      <th>total sulfur dioxide</th>\n",
              "      <th>density</th>\n",
              "      <th>pH</th>\n",
              "      <th>sulphates</th>\n",
              "      <th>alcohol</th>\n",
              "      <th>quality</th>\n",
              "    </tr>\n",
              "  </thead>\n",
              "  <tbody>\n",
              "    <tr>\n",
              "      <th>0</th>\n",
              "      <td>7.4</td>\n",
              "      <td>0.70</td>\n",
              "      <td>0.00</td>\n",
              "      <td>1.9</td>\n",
              "      <td>0.076</td>\n",
              "      <td>11.0</td>\n",
              "      <td>34.0</td>\n",
              "      <td>0.9978</td>\n",
              "      <td>3.51</td>\n",
              "      <td>0.56</td>\n",
              "      <td>9.4</td>\n",
              "      <td>5</td>\n",
              "    </tr>\n",
              "    <tr>\n",
              "      <th>1</th>\n",
              "      <td>7.8</td>\n",
              "      <td>0.88</td>\n",
              "      <td>0.00</td>\n",
              "      <td>2.6</td>\n",
              "      <td>0.098</td>\n",
              "      <td>25.0</td>\n",
              "      <td>67.0</td>\n",
              "      <td>0.9968</td>\n",
              "      <td>3.20</td>\n",
              "      <td>0.68</td>\n",
              "      <td>9.8</td>\n",
              "      <td>5</td>\n",
              "    </tr>\n",
              "    <tr>\n",
              "      <th>2</th>\n",
              "      <td>7.8</td>\n",
              "      <td>0.76</td>\n",
              "      <td>0.04</td>\n",
              "      <td>2.3</td>\n",
              "      <td>0.092</td>\n",
              "      <td>15.0</td>\n",
              "      <td>54.0</td>\n",
              "      <td>0.9970</td>\n",
              "      <td>3.26</td>\n",
              "      <td>0.65</td>\n",
              "      <td>9.8</td>\n",
              "      <td>5</td>\n",
              "    </tr>\n",
              "    <tr>\n",
              "      <th>3</th>\n",
              "      <td>11.2</td>\n",
              "      <td>0.28</td>\n",
              "      <td>0.56</td>\n",
              "      <td>1.9</td>\n",
              "      <td>0.075</td>\n",
              "      <td>17.0</td>\n",
              "      <td>60.0</td>\n",
              "      <td>0.9980</td>\n",
              "      <td>3.16</td>\n",
              "      <td>0.58</td>\n",
              "      <td>9.8</td>\n",
              "      <td>6</td>\n",
              "    </tr>\n",
              "    <tr>\n",
              "      <th>4</th>\n",
              "      <td>7.4</td>\n",
              "      <td>0.70</td>\n",
              "      <td>0.00</td>\n",
              "      <td>1.9</td>\n",
              "      <td>0.076</td>\n",
              "      <td>11.0</td>\n",
              "      <td>34.0</td>\n",
              "      <td>0.9978</td>\n",
              "      <td>3.51</td>\n",
              "      <td>0.56</td>\n",
              "      <td>9.4</td>\n",
              "      <td>5</td>\n",
              "    </tr>\n",
              "  </tbody>\n",
              "</table>\n",
              "</div>"
            ],
            "text/plain": [
              "   fixed acidity  volatile acidity  citric acid  ...  sulphates  alcohol  quality\n",
              "0            7.4              0.70         0.00  ...       0.56      9.4        5\n",
              "1            7.8              0.88         0.00  ...       0.68      9.8        5\n",
              "2            7.8              0.76         0.04  ...       0.65      9.8        5\n",
              "3           11.2              0.28         0.56  ...       0.58      9.8        6\n",
              "4            7.4              0.70         0.00  ...       0.56      9.4        5\n",
              "\n",
              "[5 rows x 12 columns]"
            ]
          },
          "metadata": {
            "tags": []
          },
          "execution_count": 15
        }
      ]
    },
    {
      "cell_type": "code",
      "metadata": {
        "id": "eHUqdQFDmThs",
        "outputId": "28f78220-498b-4af6-e634-e8df712a6985",
        "colab": {
          "base_uri": "https://localhost:8080/",
          "height": 296
        }
      },
      "source": [
        "sns.countplot(x = 'quality', data=df)"
      ],
      "execution_count": null,
      "outputs": [
        {
          "output_type": "execute_result",
          "data": {
            "text/plain": [
              "<matplotlib.axes._subplots.AxesSubplot at 0x7fab1a80e668>"
            ]
          },
          "metadata": {
            "tags": []
          },
          "execution_count": 3
        },
        {
          "output_type": "display_data",
          "data": {
            "image/png": "[encoded data removed]",
            "text/plain": [
              "<Figure size 432x288 with 1 Axes>"
            ]
          },
          "metadata": {
            "tags": [],
            "needs_background": "light"
          }
        }
      ]
    },
    {
      "cell_type": "code",
      "metadata": {
        "id": "0i_yGcaQm4Rv"
      },
      "source": [
        "class2idx = {\n",
        "    3:0,\n",
        "    4:1,\n",
        "    5:2,\n",
        "    6:3,\n",
        "    7:4,\n",
        "    8:5\n",
        "}\n",
        "\n",
        "idx2class = {v: k for k, v in class2idx.items()}\n",
        "\n",
        "df['quality'].replace(class2idx, inplace=True)"
      ],
      "execution_count": null,
      "outputs": []
    },
    {
      "cell_type": "code",
      "metadata": {
        "id": "wJG7dFzfm8q-"
      },
      "source": [
        "X = df.iloc[:, 0:-1]\n",
        "y = df.iloc[:, -1]"
      ],
      "execution_count": null,
      "outputs": []
    },
    {
      "cell_type": "code",
      "metadata": {
        "id": "Evbwm0VYm-G0"
      },
      "source": [
        "# Split into train+val and test\n",
        "X_trainval, X_test, y_trainval, y_test = train_test_split(X, y, test_size=0.2, stratify=y, random_state=69)\n",
        "\n",
        "# Split train into train-val\n",
        "X_train, X_val, y_train, y_val = train_test_split(X_trainval, y_trainval, test_size=0.1, stratify=y_trainval, random_state=21)\n",
        "\n",
        "scaler = MinMaxScaler()\n",
        "X_train = scaler.fit_transform(X_train)\n",
        "X_val = scaler.transform(X_val)\n",
        "X_test = scaler.transform(X_test)\n",
        "\n",
        "X_train, y_train = np.array(X_train), np.array(y_train)\n",
        "X_val, y_val = np.array(X_val), np.array(y_val)\n",
        "X_test, y_test = np.array(X_test), np.array(y_test)"
      ],
      "execution_count": null,
      "outputs": []
    },
    {
      "cell_type": "code",
      "metadata": {
        "id": "uCe6djWYnDW9"
      },
      "source": [
        "def get_class_distribution(obj):\n",
        "    count_dict = {\n",
        "        \"rating_3\": 0,\n",
        "        \"rating_4\": 0,\n",
        "        \"rating_5\": 0,\n",
        "        \"rating_6\": 0,\n",
        "        \"rating_7\": 0,\n",
        "        \"rating_8\": 0,\n",
        "    }\n",
        "    \n",
        "    for i in obj:\n",
        "        if i == 0: \n",
        "            count_dict['rating_3'] += 1\n",
        "        elif i == 1: \n",
        "            count_dict['rating_4'] += 1\n",
        "        elif i == 2: \n",
        "            count_dict['rating_5'] += 1\n",
        "        elif i == 3: \n",
        "            count_dict['rating_6'] += 1\n",
        "        elif i == 4: \n",
        "            count_dict['rating_7'] += 1  \n",
        "        elif i == 5: \n",
        "            count_dict['rating_8'] += 1              \n",
        "        else:\n",
        "            print(\"Check classes.\")\n",
        "            \n",
        "    return count_dict"
      ],
      "execution_count": null,
      "outputs": []
    },
    {
      "cell_type": "code",
      "metadata": {
        "id": "ckSnB476nIV8",
        "outputId": "54ceab4a-37ae-4bb1-dbaa-ffa1aaf947ef",
        "colab": {
          "base_uri": "https://localhost:8080/",
          "height": 274
        }
      },
      "source": [
        "fig, axes = plt.subplots(nrows=1, ncols=3, figsize=(25,7))\n",
        "# Train\n",
        "sns.barplot(data = pd.DataFrame.from_dict([get_class_distribution(y_train)]).melt(), x = \"variable\", y=\"value\", hue=\"variable\",  ax=axes[0]).set_title('Class Distribution in Train Set')\n",
        "# Validation\n",
        "sns.barplot(data = pd.DataFrame.from_dict([get_class_distribution(y_val)]).melt(), x = \"variable\", y=\"value\", hue=\"variable\",  ax=axes[1]).set_title('Class Distribution in Val Set')\n",
        "# Test\n",
        "sns.barplot(data = pd.DataFrame.from_dict([get_class_distribution(y_test)]).melt(), x = \"variable\", y=\"value\", hue=\"variable\",  ax=axes[2]).set_title('Class Distribution in Test Set')"
      ],
      "execution_count": null,
      "outputs": [
        {
          "output_type": "execute_result",
          "data": {
            "text/plain": [
              "Text(0.5, 1.0, 'Class Distribution in Test Set')"
            ]
          },
          "metadata": {
            "tags": []
          },
          "execution_count": 8
        },
        {
          "output_type": "display_data",
          "data": {
            "image/png": "[encoded data removed]",
            "text/plain": [
              "<Figure size 1800x504 with 3 Axes>"
            ]
          },
          "metadata": {
            "tags": [],
            "needs_background": "light"
          }
        }
      ]
    },
    {
      "cell_type": "markdown",
      "metadata": {
        "id": "PrizjvMZnOIA"
      },
      "source": [
        "## Neural Network"
      ]
    },
    {
      "cell_type": "code",
      "metadata": {
        "id": "2vew0U_TnJis"
      },
      "source": [
        "class ClassifierDataset(Dataset):\n",
        "    \n",
        "    def __init__(self, X_data, y_data):\n",
        "        self.X_data = X_data\n",
        "        self.y_data = y_data\n",
        "        \n",
        "    def __getitem__(self, index):\n",
        "        return self.X_data[index], self.y_data[index]\n",
        "        \n",
        "    def __len__ (self):\n",
        "        return len(self.X_data)\n",
        "\n",
        "train_dataset = ClassifierDataset(torch.from_numpy(X_train).float(), torch.from_numpy(y_train).long())\n",
        "val_dataset = ClassifierDataset(torch.from_numpy(X_val).float(), torch.from_numpy(y_val).long())\n",
        "test_dataset = ClassifierDataset(torch.from_numpy(X_test).float(), torch.from_numpy(y_test).long())"
      ],
      "execution_count": null,
      "outputs": []
    },
    {
      "cell_type": "markdown",
      "metadata": {
        "id": "90rDoXlSpMYL"
      },
      "source": [
        "Weighted Sampling\n",
        "\n",
        "Because there’s a class imbalance, we use stratified split to create our train, validation, and test sets.\n",
        "\n",
        "While it helps, it still does not ensure that each mini-batch of our model see’s all our classes. We need to over-sample the classes with less number of values. To do that, we use the WeightedRandomSampler.\n",
        "\n",
        "First, we obtain a list called target_list which contains all our outputs. This list is then converted to a tensor and shuffled."
      ]
    },
    {
      "cell_type": "code",
      "metadata": {
        "id": "10ay22ionQhw",
        "outputId": "467a9d39-8d9f-4d86-f340-0e557428b77f",
        "colab": {
          "base_uri": "https://localhost:8080/",
          "height": 51
        }
      },
      "source": [
        "target_list = []\n",
        "for _, t in train_dataset:\n",
        "    target_list.append(t)\n",
        "    \n",
        "target_list = torch.tensor(target_list)\n",
        "target_list = target_list[torch.randperm(len(target_list))]\n",
        "print(target_list.shape)\n",
        "target_list"
      ],
      "execution_count": null,
      "outputs": [
        {
          "output_type": "stream",
          "text": [
            "torch.Size([1151])\n"
          ],
          "name": "stdout"
        },
        {
          "output_type": "execute_result",
          "data": {
            "text/plain": [
              "tensor([0, 3, 3,  ..., 4, 5, 3])"
            ]
          },
          "metadata": {
            "tags": []
          },
          "execution_count": 14
        }
      ]
    },
    {
      "cell_type": "markdown",
      "metadata": {
        "id": "vH1Uv4kxrnuL"
      },
      "source": [
        "Then, we obtain the count of all classes in our training set. We use the reciprocal of each count to obtain it’s weight. Now that we’ve calculated the weights for each class, we can proceed."
      ]
    },
    {
      "cell_type": "code",
      "metadata": {
        "id": "NKwOOUAVu7NH",
        "outputId": "ffa2d9d4-5d24-43a9-cdac-e07bac18036f",
        "colab": {
          "base_uri": "https://localhost:8080/",
          "height": 34
        }
      },
      "source": [
        "get_class_distribution(y_train).values()"
      ],
      "execution_count": null,
      "outputs": [
        {
          "output_type": "execute_result",
          "data": {
            "text/plain": [
              "dict_values([7, 38, 490, 459, 143, 14])"
            ]
          },
          "metadata": {
            "tags": []
          },
          "execution_count": 12
        }
      ]
    },
    {
      "cell_type": "code",
      "metadata": {
        "id": "XWUC2jHspSnE",
        "outputId": "4adaf8d8-3473-43e5-8679-4773a7e903f4",
        "colab": {
          "base_uri": "https://localhost:8080/",
          "height": 34
        }
      },
      "source": [
        "class_count = [i for i in get_class_distribution(y_train).values()]\n",
        "class_weights = 1./torch.tensor(class_count, dtype=torch.float) \n",
        "print(class_weights)"
      ],
      "execution_count": null,
      "outputs": [
        {
          "output_type": "stream",
          "text": [
            "tensor([0.1429, 0.0263, 0.0020, 0.0022, 0.0070, 0.0714])\n"
          ],
          "name": "stdout"
        }
      ]
    },
    {
      "cell_type": "markdown",
      "metadata": {
        "id": "--wuuceDvNkQ"
      },
      "source": [
        "WeightedRandomSampler expects a weight for each sample. We do that using as follows."
      ]
    },
    {
      "cell_type": "code",
      "metadata": {
        "id": "_V8pvrFZroz5",
        "outputId": "abc89ef3-f548-4481-8bf1-a99029353ff9",
        "colab": {
          "base_uri": "https://localhost:8080/",
          "height": 51
        }
      },
      "source": [
        "class_weights_all = class_weights[target_list]\n",
        "print(class_weights_all.shape)\n",
        "class_weights_all"
      ],
      "execution_count": null,
      "outputs": [
        {
          "output_type": "stream",
          "text": [
            "torch.Size([1151])\n"
          ],
          "name": "stdout"
        },
        {
          "output_type": "execute_result",
          "data": {
            "text/plain": [
              "tensor([0.1429, 0.0022, 0.0022,  ..., 0.0070, 0.0714, 0.0022])"
            ]
          },
          "metadata": {
            "tags": []
          },
          "execution_count": 18
        }
      ]
    },
    {
      "cell_type": "markdown",
      "metadata": {
        "id": "MP_OLuvswgaX"
      },
      "source": [
        "Finally, let’s initialize our WeightedRandomSampler. We’ll call this in our dataloader below."
      ]
    },
    {
      "cell_type": "code",
      "metadata": {
        "id": "YTSodURMvOkT",
        "outputId": "d1ade3c9-5169-45b0-9fcb-727ac81f814e",
        "colab": {
          "base_uri": "https://localhost:8080/",
          "height": 34
        }
      },
      "source": [
        "weighted_sampler = WeightedRandomSampler(\n",
        "    weights=class_weights_all,\n",
        "    num_samples=len(class_weights_all),\n",
        "    replacement=True\n",
        ")\n",
        "weighted_sampler"
      ],
      "execution_count": null,
      "outputs": [
        {
          "output_type": "execute_result",
          "data": {
            "text/plain": [
              "<torch.utils.data.sampler.WeightedRandomSampler at 0x7fab19c3f518>"
            ]
          },
          "metadata": {
            "tags": []
          },
          "execution_count": 20
        }
      ]
    },
    {
      "cell_type": "markdown",
      "metadata": {
        "id": "PvmnpEWKwkX6"
      },
      "source": [
        "Model Parameters\n",
        "\n",
        "Before we proceed any further, let’s define a few parameters that we’ll use down the line."
      ]
    },
    {
      "cell_type": "code",
      "metadata": {
        "id": "YpTzPgLCwhcY"
      },
      "source": [
        "EPOCHS = 300\n",
        "BATCH_SIZE = 16\n",
        "LEARNING_RATE = 0.0007\n",
        "NUM_FEATURES = len(X.columns)\n",
        "NUM_CLASSES = 6"
      ],
      "execution_count": null,
      "outputs": []
    },
    {
      "cell_type": "markdown",
      "metadata": {
        "id": "bpdacYZ4wo7S"
      },
      "source": [
        "Dataloader\n",
        "\n",
        "Let’s now initialize our dataloaders.\n",
        "\n",
        "For train_dataloader we’ll use batch_size = 64 and pass our sampler to it. Note that we’re not using shuffle=True in our train_dataloader because we’re already using a sampler. These two are mutually exclusive.\n",
        "\n",
        "For test_dataloader and val_dataloader we’ll use batch_size = 1 ."
      ]
    },
    {
      "cell_type": "code",
      "metadata": {
        "id": "M83RUzNVwnGH"
      },
      "source": [
        "train_loader = DataLoader(dataset=train_dataset,\n",
        "                          batch_size=BATCH_SIZE,\n",
        "                          sampler=weighted_sampler\n",
        ")\n",
        "val_loader = DataLoader(dataset=val_dataset, batch_size=1)\n",
        "test_loader = DataLoader(dataset=test_dataset, batch_size=1)"
      ],
      "execution_count": null,
      "outputs": []
    },
    {
      "cell_type": "markdown",
      "metadata": {
        "id": "PaU7JfgUwsHa"
      },
      "source": [
        "Define Neural Net Architecture\n",
        "\n",
        "Let’s define a simple 3-layer feed-forward network with dropout and batch-norm."
      ]
    },
    {
      "cell_type": "code",
      "metadata": {
        "id": "G60D1yMYwrQ9"
      },
      "source": [
        "class MulticlassClassification(nn.Module):\n",
        "    def __init__(self, num_feature, num_class):\n",
        "        super(MulticlassClassification, self).__init__()\n",
        "        \n",
        "        self.layer_1 = nn.Linear(num_feature, 512)\n",
        "        self.layer_2 = nn.Linear(512, 128)\n",
        "        self.layer_3 = nn.Linear(128, 64)\n",
        "        self.layer_out = nn.Linear(64, num_class) \n",
        "        \n",
        "        self.relu = nn.ReLU()\n",
        "        self.dropout = nn.Dropout(p=0.2)\n",
        "        self.batchnorm1 = nn.BatchNorm1d(512)\n",
        "        self.batchnorm2 = nn.BatchNorm1d(128)\n",
        "        self.batchnorm3 = nn.BatchNorm1d(64)\n",
        "        \n",
        "    def forward(self, x):\n",
        "        x = self.layer_1(x)\n",
        "        x = self.batchnorm1(x)\n",
        "        x = self.relu(x)\n",
        "        \n",
        "        x = self.layer_2(x)\n",
        "        x = self.batchnorm2(x)\n",
        "        x = self.relu(x)\n",
        "        x = self.dropout(x)\n",
        "        \n",
        "        x = self.layer_3(x)\n",
        "        x = self.batchnorm3(x)\n",
        "        x = self.relu(x)\n",
        "        x = self.dropout(x)\n",
        "        \n",
        "        x = self.layer_out(x)\n",
        "        \n",
        "        return x"
      ],
      "execution_count": null,
      "outputs": []
    },
    {
      "cell_type": "code",
      "metadata": {
        "id": "nuoS2uOLwvFa",
        "outputId": "0e1050be-7324-4bf8-a6aa-32caa1896a43",
        "colab": {
          "base_uri": "https://localhost:8080/",
          "height": 34
        }
      },
      "source": [
        "device = torch.device(\"cuda:0\" if torch.cuda.is_available() else \"cpu\")\n",
        "print(device)"
      ],
      "execution_count": null,
      "outputs": [
        {
          "output_type": "stream",
          "text": [
            "cpu\n"
          ],
          "name": "stdout"
        }
      ]
    },
    {
      "cell_type": "markdown",
      "metadata": {
        "id": "VS7YzdS4w02k"
      },
      "source": [
        "Initialize the model, optimizer, and loss function. Transfer the model to GPU. We’re using the nn.CrossEntropyLoss because this is a multiclass classification problem. We don’t have to manually apply a log_softmax layer after our final layer because nn.CrossEntropyLoss does that for us. However, we need to apply log_softmax for our validation and testing."
      ]
    },
    {
      "cell_type": "code",
      "metadata": {
        "id": "97uelA8Jwv5Y",
        "outputId": "88a86bb7-6313-40a7-c537-474484f5ae09",
        "colab": {
          "base_uri": "https://localhost:8080/",
          "height": 204
        }
      },
      "source": [
        "model = MulticlassClassification(num_feature = NUM_FEATURES, num_class=NUM_CLASSES)\n",
        "model.to(device)\n",
        "\n",
        "criterion = nn.CrossEntropyLoss(weight=class_weights.to(device))\n",
        "optimizer = optim.Adam(model.parameters(), lr=LEARNING_RATE)\n",
        "print(model)"
      ],
      "execution_count": null,
      "outputs": [
        {
          "output_type": "stream",
          "text": [
            "MulticlassClassification(\n",
            "  (layer_1): Linear(in_features=11, out_features=512, bias=True)\n",
            "  (layer_2): Linear(in_features=512, out_features=128, bias=True)\n",
            "  (layer_3): Linear(in_features=128, out_features=64, bias=True)\n",
            "  (layer_out): Linear(in_features=64, out_features=6, bias=True)\n",
            "  (relu): ReLU()\n",
            "  (dropout): Dropout(p=0.2, inplace=False)\n",
            "  (batchnorm1): BatchNorm1d(512, eps=1e-05, momentum=0.1, affine=True, track_running_stats=True)\n",
            "  (batchnorm2): BatchNorm1d(128, eps=1e-05, momentum=0.1, affine=True, track_running_stats=True)\n",
            "  (batchnorm3): BatchNorm1d(64, eps=1e-05, momentum=0.1, affine=True, track_running_stats=True)\n",
            ")\n"
          ],
          "name": "stdout"
        }
      ]
    },
    {
      "cell_type": "markdown",
      "metadata": {
        "id": "gMyyenhlw8Zu"
      },
      "source": [
        "Train the model\n",
        "\n",
        "Before we start our training, let’s define a function to calculate accuracy per epoch.\n",
        "This function takes y_pred and y_test as input arguments. We then apply log_softmax to y_pred and extract the class which has a higher probability.\n",
        "After that, we compare the the predicted classes and the actual classes to calculate the accuracy."
      ]
    },
    {
      "cell_type": "code",
      "metadata": {
        "id": "3XK-2NjRw5JI"
      },
      "source": [
        "def multi_acc(y_pred, y_test):\n",
        "    y_pred_softmax = torch.log_softmax(y_pred, dim = 1)\n",
        "    _, y_pred_tags = torch.max(y_pred_softmax, dim = 1)    \n",
        "    \n",
        "    correct_pred = (y_pred_tags == y_test).float()\n",
        "    acc = correct_pred.sum() / len(correct_pred)\n",
        "    \n",
        "    acc = torch.round(acc) * 100\n",
        "    \n",
        "    return acc"
      ],
      "execution_count": null,
      "outputs": []
    },
    {
      "cell_type": "markdown",
      "metadata": {
        "id": "nOBCXmuRxEM0"
      },
      "source": [
        "We’ll also define 2 dictionaries which will store the accuracy/epoch and loss/epoch for both train and validation sets."
      ]
    },
    {
      "cell_type": "code",
      "metadata": {
        "id": "5Dlr0RZdw_Yq"
      },
      "source": [
        "accuracy_stats = {\n",
        "    'train': [],\n",
        "    \"val\": []\n",
        "}\n",
        "loss_stats = {\n",
        "    'train': [],\n",
        "    \"val\": []\n",
        "}"
      ],
      "execution_count": null,
      "outputs": []
    },
    {
      "cell_type": "code",
      "metadata": {
        "id": "bMjgP1iJxBD6",
        "outputId": "46594ddb-836d-4fdb-fecc-51a10d1931dd",
        "colab": {
          "base_uri": "https://localhost:8080/",
          "height": 1000,
          "referenced_widgets": [
            "761ba962e3fb4e14906bb0eab465acc0",
            "8d7a84565ccf42159e75be70ab71d04d",
            "5a59967fccfd4fbc93212666a5651b31",
            "0e4870378c7945b083741586af6eddff",
            "31c130f118a342cfb9e79252a4411299",
            "cb6feed25e6b4c57b202dcad864c83f3",
            "910025adc39d481c8ae026ab4211748a",
            "cd4e8c833b514b588714d1de58a35b73"
          ]
        }
      },
      "source": [
        "print(\"Begin training.\")\n",
        "for e in tqdm(range(1, EPOCHS+1)):\n",
        "    \n",
        "    # TRAINING\n",
        "    train_epoch_loss = 0\n",
        "    train_epoch_acc = 0\n",
        "    model.train()\n",
        "    for X_train_batch, y_train_batch in train_loader:\n",
        "        X_train_batch, y_train_batch = X_train_batch.to(device), y_train_batch.to(device)\n",
        "        optimizer.zero_grad()\n",
        "        \n",
        "        y_train_pred = model(X_train_batch)\n",
        "        \n",
        "        train_loss = criterion(y_train_pred, y_train_batch)\n",
        "        train_acc = multi_acc(y_train_pred, y_train_batch)\n",
        "        \n",
        "        train_loss.backward()\n",
        "        optimizer.step()\n",
        "        \n",
        "        train_epoch_loss += train_loss.item()\n",
        "        train_epoch_acc += train_acc.item()\n",
        "        \n",
        "        \n",
        "    # VALIDATION    \n",
        "    with torch.no_grad():\n",
        "        \n",
        "        val_epoch_loss = 0\n",
        "        val_epoch_acc = 0\n",
        "        \n",
        "        model.eval()\n",
        "        for X_val_batch, y_val_batch in val_loader:\n",
        "            X_val_batch, y_val_batch = X_val_batch.to(device), y_val_batch.to(device)\n",
        "            \n",
        "            y_val_pred = model(X_val_batch)\n",
        "                        \n",
        "            val_loss = criterion(y_val_pred, y_val_batch)\n",
        "            val_acc = multi_acc(y_val_pred, y_val_batch)\n",
        "            \n",
        "            val_epoch_loss += val_loss.item()\n",
        "            val_epoch_acc += val_acc.item()\n",
        "    loss_stats['train'].append(train_epoch_loss/len(train_loader))\n",
        "    loss_stats['val'].append(val_epoch_loss/len(val_loader))\n",
        "    accuracy_stats['train'].append(train_epoch_acc/len(train_loader))\n",
        "    accuracy_stats['val'].append(val_epoch_acc/len(val_loader))\n",
        "                              \n",
        "    \n",
        "    print(f'Epoch {e+0:03}: | Train Loss: {train_epoch_loss/len(train_loader):.5f} | Val Loss: {val_epoch_loss/len(val_loader):.5f} | Train Acc: {train_epoch_acc/len(train_loader):.3f}| Val Acc: {val_epoch_acc/len(val_loader):.3f}')"
      ],
      "execution_count": null,
      "outputs": [
        {
          "output_type": "stream",
          "text": [
            "Begin training.\n"
          ],
          "name": "stdout"
        },
        {
          "output_type": "display_data",
          "data": {
            "application/vnd.jupyter.widget-view+json": {
              "model_id": "761ba962e3fb4e14906bb0eab465acc0",
              "version_minor": 0,
              "version_major": 2
            },
            "text/plain": [
              "HBox(children=(FloatProgress(value=0.0, max=300.0), HTML(value='')))"
            ]
          },
          "metadata": {
            "tags": []
          }
        },
        {
          "output_type": "stream",
          "text": [
            "Epoch 001: | Train Loss: 1.57527 | Val Loss: 1.39722 | Train Acc: 26.389| Val Acc: 49.219\n",
            "Epoch 002: | Train Loss: 1.15340 | Val Loss: 1.34056 | Train Acc: 48.611| Val Acc: 46.875\n",
            "Epoch 003: | Train Loss: 1.19870 | Val Loss: 1.43364 | Train Acc: 66.667| Val Acc: 41.406\n",
            "Epoch 004: | Train Loss: 1.10224 | Val Loss: 1.29152 | Train Acc: 65.278| Val Acc: 47.656\n",
            "Epoch 005: | Train Loss: 0.96598 | Val Loss: 1.24683 | Train Acc: 69.444| Val Acc: 47.656\n",
            "Epoch 006: | Train Loss: 0.91571 | Val Loss: 1.33470 | Train Acc: 86.111| Val Acc: 49.219\n",
            "Epoch 007: | Train Loss: 0.87877 | Val Loss: 1.31213 | Train Acc: 83.333| Val Acc: 46.875\n",
            "Epoch 008: | Train Loss: 0.89386 | Val Loss: 1.34821 | Train Acc: 79.167| Val Acc: 43.750\n",
            "Epoch 009: | Train Loss: 0.90446 | Val Loss: 1.24698 | Train Acc: 86.111| Val Acc: 51.562\n",
            "Epoch 010: | Train Loss: 0.81936 | Val Loss: 1.30515 | Train Acc: 86.111| Val Acc: 43.750\n",
            "Epoch 011: | Train Loss: 0.74114 | Val Loss: 1.23156 | Train Acc: 86.111| Val Acc: 50.781\n",
            "Epoch 012: | Train Loss: 0.84928 | Val Loss: 1.30657 | Train Acc: 88.889| Val Acc: 45.312\n",
            "Epoch 013: | Train Loss: 0.80580 | Val Loss: 1.25220 | Train Acc: 90.278| Val Acc: 48.438\n",
            "Epoch 014: | Train Loss: 0.77720 | Val Loss: 1.22744 | Train Acc: 80.556| Val Acc: 49.219\n",
            "Epoch 015: | Train Loss: 0.69776 | Val Loss: 1.27428 | Train Acc: 87.500| Val Acc: 43.750\n",
            "Epoch 016: | Train Loss: 0.77257 | Val Loss: 1.31423 | Train Acc: 87.500| Val Acc: 45.312\n",
            "Epoch 017: | Train Loss: 0.79004 | Val Loss: 1.26483 | Train Acc: 81.944| Val Acc: 50.000\n",
            "Epoch 018: | Train Loss: 0.69712 | Val Loss: 1.26473 | Train Acc: 90.278| Val Acc: 49.219\n",
            "Epoch 019: | Train Loss: 0.68632 | Val Loss: 1.29291 | Train Acc: 91.667| Val Acc: 51.562\n",
            "Epoch 020: | Train Loss: 0.74937 | Val Loss: 1.30522 | Train Acc: 93.056| Val Acc: 46.094\n",
            "Epoch 021: | Train Loss: 0.67259 | Val Loss: 1.20838 | Train Acc: 97.222| Val Acc: 50.000\n",
            "Epoch 022: | Train Loss: 0.71508 | Val Loss: 1.19390 | Train Acc: 88.889| Val Acc: 50.781\n",
            "Epoch 023: | Train Loss: 0.69752 | Val Loss: 1.33958 | Train Acc: 97.222| Val Acc: 46.094\n",
            "Epoch 024: | Train Loss: 0.65232 | Val Loss: 1.24538 | Train Acc: 97.222| Val Acc: 51.562\n",
            "Epoch 025: | Train Loss: 0.69062 | Val Loss: 1.24951 | Train Acc: 94.444| Val Acc: 48.438\n",
            "Epoch 026: | Train Loss: 0.67547 | Val Loss: 1.23181 | Train Acc: 95.833| Val Acc: 49.219\n",
            "Epoch 027: | Train Loss: 0.64057 | Val Loss: 1.32686 | Train Acc: 94.444| Val Acc: 50.000\n",
            "Epoch 028: | Train Loss: 0.69049 | Val Loss: 1.24065 | Train Acc: 91.667| Val Acc: 52.344\n",
            "Epoch 029: | Train Loss: 0.59938 | Val Loss: 1.29980 | Train Acc: 94.444| Val Acc: 50.781\n",
            "Epoch 030: | Train Loss: 0.59744 | Val Loss: 1.14053 | Train Acc: 91.667| Val Acc: 59.375\n",
            "Epoch 031: | Train Loss: 0.60458 | Val Loss: 1.24489 | Train Acc: 95.833| Val Acc: 50.781\n",
            "Epoch 032: | Train Loss: 0.65649 | Val Loss: 1.22874 | Train Acc: 97.222| Val Acc: 53.906\n",
            "Epoch 033: | Train Loss: 0.68612 | Val Loss: 1.18278 | Train Acc: 94.444| Val Acc: 53.906\n",
            "Epoch 034: | Train Loss: 0.60327 | Val Loss: 1.24906 | Train Acc: 95.833| Val Acc: 50.781\n",
            "Epoch 035: | Train Loss: 0.63093 | Val Loss: 1.20893 | Train Acc: 98.611| Val Acc: 51.562\n",
            "Epoch 036: | Train Loss: 0.62673 | Val Loss: 1.21689 | Train Acc: 90.278| Val Acc: 53.125\n",
            "Epoch 037: | Train Loss: 0.56227 | Val Loss: 1.17093 | Train Acc: 98.611| Val Acc: 50.781\n",
            "Epoch 038: | Train Loss: 0.61877 | Val Loss: 1.30554 | Train Acc: 91.667| Val Acc: 50.000\n",
            "Epoch 039: | Train Loss: 0.62164 | Val Loss: 1.17502 | Train Acc: 90.278| Val Acc: 52.344\n",
            "Epoch 040: | Train Loss: 0.60640 | Val Loss: 1.22322 | Train Acc: 95.833| Val Acc: 50.781\n",
            "Epoch 041: | Train Loss: 0.51491 | Val Loss: 1.15611 | Train Acc: 97.222| Val Acc: 53.906\n",
            "Epoch 042: | Train Loss: 0.55316 | Val Loss: 1.22170 | Train Acc: 94.444| Val Acc: 51.562\n",
            "Epoch 043: | Train Loss: 0.50507 | Val Loss: 1.29144 | Train Acc: 97.222| Val Acc: 48.438\n",
            "Epoch 044: | Train Loss: 0.57810 | Val Loss: 1.28620 | Train Acc: 97.222| Val Acc: 51.562\n",
            "Epoch 045: | Train Loss: 0.68307 | Val Loss: 1.19330 | Train Acc: 93.056| Val Acc: 50.781\n",
            "Epoch 046: | Train Loss: 0.54949 | Val Loss: 1.20363 | Train Acc: 98.611| Val Acc: 53.125\n",
            "Epoch 047: | Train Loss: 0.52240 | Val Loss: 1.31101 | Train Acc: 95.833| Val Acc: 49.219\n",
            "Epoch 048: | Train Loss: 0.61163 | Val Loss: 1.22339 | Train Acc: 97.222| Val Acc: 52.344\n",
            "Epoch 049: | Train Loss: 0.55684 | Val Loss: 1.12303 | Train Acc: 97.222| Val Acc: 56.250\n",
            "Epoch 050: | Train Loss: 0.50278 | Val Loss: 1.18911 | Train Acc: 100.000| Val Acc: 49.219\n",
            "Epoch 051: | Train Loss: 0.48083 | Val Loss: 1.17055 | Train Acc: 93.056| Val Acc: 60.156\n",
            "Epoch 052: | Train Loss: 0.55103 | Val Loss: 1.21766 | Train Acc: 97.222| Val Acc: 53.125\n",
            "Epoch 053: | Train Loss: 0.49432 | Val Loss: 1.30557 | Train Acc: 97.222| Val Acc: 52.344\n",
            "Epoch 054: | Train Loss: 0.54568 | Val Loss: 1.20003 | Train Acc: 100.000| Val Acc: 57.031\n",
            "Epoch 055: | Train Loss: 0.52859 | Val Loss: 1.32254 | Train Acc: 93.056| Val Acc: 53.906\n",
            "Epoch 056: | Train Loss: 0.57977 | Val Loss: 1.19824 | Train Acc: 94.444| Val Acc: 53.906\n",
            "Epoch 057: | Train Loss: 0.54040 | Val Loss: 1.31694 | Train Acc: 98.611| Val Acc: 49.219\n",
            "Epoch 058: | Train Loss: 0.49909 | Val Loss: 1.27130 | Train Acc: 98.611| Val Acc: 52.344\n",
            "Epoch 059: | Train Loss: 0.52549 | Val Loss: 1.21567 | Train Acc: 94.444| Val Acc: 53.125\n",
            "Epoch 060: | Train Loss: 0.60653 | Val Loss: 1.21320 | Train Acc: 91.667| Val Acc: 49.219\n",
            "Epoch 061: | Train Loss: 0.56566 | Val Loss: 1.21575 | Train Acc: 97.222| Val Acc: 54.688\n",
            "Epoch 062: | Train Loss: 0.49372 | Val Loss: 1.20521 | Train Acc: 98.611| Val Acc: 53.125\n",
            "Epoch 063: | Train Loss: 0.41975 | Val Loss: 1.18610 | Train Acc: 100.000| Val Acc: 51.562\n",
            "Epoch 064: | Train Loss: 0.49075 | Val Loss: 1.20196 | Train Acc: 97.222| Val Acc: 53.125\n",
            "Epoch 065: | Train Loss: 0.53137 | Val Loss: 1.23028 | Train Acc: 95.833| Val Acc: 52.344\n",
            "Epoch 066: | Train Loss: 0.47312 | Val Loss: 1.27982 | Train Acc: 98.611| Val Acc: 46.875\n",
            "Epoch 067: | Train Loss: 0.41302 | Val Loss: 1.25148 | Train Acc: 98.611| Val Acc: 53.906\n",
            "Epoch 068: | Train Loss: 0.43082 | Val Loss: 1.39974 | Train Acc: 100.000| Val Acc: 41.406\n",
            "Epoch 069: | Train Loss: 0.54506 | Val Loss: 1.33975 | Train Acc: 97.222| Val Acc: 44.531\n",
            "Epoch 070: | Train Loss: 0.49590 | Val Loss: 1.21784 | Train Acc: 95.833| Val Acc: 48.438\n",
            "Epoch 071: | Train Loss: 0.62361 | Val Loss: 1.22997 | Train Acc: 98.611| Val Acc: 53.906\n",
            "Epoch 072: | Train Loss: 0.47093 | Val Loss: 1.23217 | Train Acc: 98.611| Val Acc: 47.656\n",
            "Epoch 073: | Train Loss: 0.50602 | Val Loss: 1.13390 | Train Acc: 100.000| Val Acc: 53.906\n",
            "Epoch 074: | Train Loss: 0.45169 | Val Loss: 1.28804 | Train Acc: 97.222| Val Acc: 50.000\n",
            "Epoch 075: | Train Loss: 0.51219 | Val Loss: 1.29762 | Train Acc: 95.833| Val Acc: 42.969\n",
            "Epoch 076: | Train Loss: 0.57941 | Val Loss: 1.30268 | Train Acc: 97.222| Val Acc: 50.000\n",
            "Epoch 077: | Train Loss: 0.48147 | Val Loss: 1.32289 | Train Acc: 98.611| Val Acc: 45.312\n",
            "Epoch 078: | Train Loss: 0.45286 | Val Loss: 1.22853 | Train Acc: 95.833| Val Acc: 49.219\n",
            "Epoch 079: | Train Loss: 0.46313 | Val Loss: 1.17400 | Train Acc: 94.444| Val Acc: 49.219\n",
            "Epoch 080: | Train Loss: 0.49188 | Val Loss: 1.28646 | Train Acc: 98.611| Val Acc: 45.312\n",
            "Epoch 081: | Train Loss: 0.46004 | Val Loss: 1.27845 | Train Acc: 98.611| Val Acc: 46.094\n",
            "Epoch 082: | Train Loss: 0.49736 | Val Loss: 1.22244 | Train Acc: 97.222| Val Acc: 48.438\n",
            "Epoch 083: | Train Loss: 0.47413 | Val Loss: 1.24375 | Train Acc: 97.222| Val Acc: 52.344\n",
            "Epoch 084: | Train Loss: 0.44412 | Val Loss: 1.16142 | Train Acc: 100.000| Val Acc: 53.125\n",
            "Epoch 085: | Train Loss: 0.44266 | Val Loss: 1.23904 | Train Acc: 100.000| Val Acc: 49.219\n",
            "Epoch 086: | Train Loss: 0.42820 | Val Loss: 1.23203 | Train Acc: 100.000| Val Acc: 53.125\n",
            "Epoch 087: | Train Loss: 0.49422 | Val Loss: 1.19821 | Train Acc: 100.000| Val Acc: 57.812\n",
            "Epoch 088: | Train Loss: 0.46891 | Val Loss: 1.22823 | Train Acc: 98.611| Val Acc: 49.219\n",
            "Epoch 089: | Train Loss: 0.45197 | Val Loss: 1.19810 | Train Acc: 97.222| Val Acc: 57.812\n",
            "Epoch 090: | Train Loss: 0.45768 | Val Loss: 1.30647 | Train Acc: 98.611| Val Acc: 48.438\n",
            "Epoch 091: | Train Loss: 0.50386 | Val Loss: 1.15699 | Train Acc: 100.000| Val Acc: 56.250\n",
            "Epoch 092: | Train Loss: 0.49688 | Val Loss: 1.24445 | Train Acc: 98.611| Val Acc: 48.438\n",
            "Epoch 093: | Train Loss: 0.43201 | Val Loss: 1.14862 | Train Acc: 97.222| Val Acc: 53.906\n",
            "Epoch 094: | Train Loss: 0.39760 | Val Loss: 1.19568 | Train Acc: 98.611| Val Acc: 55.469\n",
            "Epoch 095: | Train Loss: 0.50210 | Val Loss: 1.20075 | Train Acc: 100.000| Val Acc: 54.688\n",
            "Epoch 096: | Train Loss: 0.45611 | Val Loss: 1.16883 | Train Acc: 100.000| Val Acc: 54.688\n",
            "Epoch 097: | Train Loss: 0.46478 | Val Loss: 1.22000 | Train Acc: 100.000| Val Acc: 51.562\n",
            "Epoch 098: | Train Loss: 0.40592 | Val Loss: 1.17890 | Train Acc: 100.000| Val Acc: 54.688\n",
            "Epoch 099: | Train Loss: 0.39111 | Val Loss: 1.22676 | Train Acc: 98.611| Val Acc: 56.250\n",
            "Epoch 100: | Train Loss: 0.56141 | Val Loss: 1.21546 | Train Acc: 98.611| Val Acc: 57.031\n",
            "Epoch 101: | Train Loss: 0.42856 | Val Loss: 1.23011 | Train Acc: 100.000| Val Acc: 51.562\n",
            "Epoch 102: | Train Loss: 0.42693 | Val Loss: 1.18996 | Train Acc: 100.000| Val Acc: 50.781\n",
            "Epoch 103: | Train Loss: 0.44126 | Val Loss: 1.23945 | Train Acc: 98.611| Val Acc: 53.906\n",
            "Epoch 104: | Train Loss: 0.41501 | Val Loss: 1.21441 | Train Acc: 98.611| Val Acc: 51.562\n",
            "Epoch 105: | Train Loss: 0.41820 | Val Loss: 1.22505 | Train Acc: 98.611| Val Acc: 52.344\n",
            "Epoch 106: | Train Loss: 0.35079 | Val Loss: 1.20251 | Train Acc: 97.222| Val Acc: 53.125\n",
            "Epoch 107: | Train Loss: 0.50693 | Val Loss: 1.23985 | Train Acc: 98.611| Val Acc: 46.875\n",
            "Epoch 108: | Train Loss: 0.44659 | Val Loss: 1.24382 | Train Acc: 98.611| Val Acc: 53.125\n",
            "Epoch 109: | Train Loss: 0.36315 | Val Loss: 1.21989 | Train Acc: 98.611| Val Acc: 56.250\n",
            "Epoch 110: | Train Loss: 0.46100 | Val Loss: 1.17696 | Train Acc: 100.000| Val Acc: 60.156\n",
            "Epoch 111: | Train Loss: 0.43237 | Val Loss: 1.25550 | Train Acc: 97.222| Val Acc: 50.000\n",
            "Epoch 112: | Train Loss: 0.46187 | Val Loss: 1.24116 | Train Acc: 95.833| Val Acc: 54.688\n",
            "Epoch 113: | Train Loss: 0.38919 | Val Loss: 1.22109 | Train Acc: 98.611| Val Acc: 56.250\n",
            "Epoch 114: | Train Loss: 0.39781 | Val Loss: 1.26667 | Train Acc: 100.000| Val Acc: 51.562\n",
            "Epoch 115: | Train Loss: 0.36614 | Val Loss: 1.19142 | Train Acc: 98.611| Val Acc: 57.031\n",
            "Epoch 116: | Train Loss: 0.39814 | Val Loss: 1.21398 | Train Acc: 98.611| Val Acc: 60.156\n",
            "Epoch 117: | Train Loss: 0.43263 | Val Loss: 1.27032 | Train Acc: 100.000| Val Acc: 55.469\n",
            "Epoch 118: | Train Loss: 0.43735 | Val Loss: 1.17212 | Train Acc: 98.611| Val Acc: 56.250\n",
            "Epoch 119: | Train Loss: 0.39965 | Val Loss: 1.36554 | Train Acc: 97.222| Val Acc: 49.219\n",
            "Epoch 120: | Train Loss: 0.39529 | Val Loss: 1.26109 | Train Acc: 100.000| Val Acc: 53.125\n",
            "Epoch 121: | Train Loss: 0.43024 | Val Loss: 1.22088 | Train Acc: 97.222| Val Acc: 54.688\n",
            "Epoch 122: | Train Loss: 0.44778 | Val Loss: 1.23558 | Train Acc: 97.222| Val Acc: 53.906\n",
            "Epoch 123: | Train Loss: 0.41645 | Val Loss: 1.26385 | Train Acc: 100.000| Val Acc: 57.031\n",
            "Epoch 124: | Train Loss: 0.35742 | Val Loss: 1.24157 | Train Acc: 100.000| Val Acc: 52.344\n",
            "Epoch 125: | Train Loss: 0.36545 | Val Loss: 1.30158 | Train Acc: 100.000| Val Acc: 53.906\n",
            "Epoch 126: | Train Loss: 0.40399 | Val Loss: 1.26989 | Train Acc: 100.000| Val Acc: 54.688\n",
            "Epoch 127: | Train Loss: 0.42045 | Val Loss: 1.27215 | Train Acc: 97.222| Val Acc: 54.688\n",
            "Epoch 128: | Train Loss: 0.33005 | Val Loss: 1.22643 | Train Acc: 100.000| Val Acc: 57.812\n",
            "Epoch 129: | Train Loss: 0.42474 | Val Loss: 1.36358 | Train Acc: 98.611| Val Acc: 52.344\n",
            "Epoch 130: | Train Loss: 0.37749 | Val Loss: 1.30421 | Train Acc: 100.000| Val Acc: 56.250\n",
            "Epoch 131: | Train Loss: 0.40355 | Val Loss: 1.24502 | Train Acc: 100.000| Val Acc: 54.688\n",
            "Epoch 132: | Train Loss: 0.35563 | Val Loss: 1.23368 | Train Acc: 100.000| Val Acc: 57.031\n",
            "Epoch 133: | Train Loss: 0.37806 | Val Loss: 1.26138 | Train Acc: 98.611| Val Acc: 58.594\n",
            "Epoch 134: | Train Loss: 0.46097 | Val Loss: 1.31854 | Train Acc: 98.611| Val Acc: 55.469\n",
            "Epoch 135: | Train Loss: 0.38029 | Val Loss: 1.25995 | Train Acc: 100.000| Val Acc: 54.688\n",
            "Epoch 136: | Train Loss: 0.38989 | Val Loss: 1.19209 | Train Acc: 100.000| Val Acc: 58.594\n",
            "Epoch 137: | Train Loss: 0.34998 | Val Loss: 1.16789 | Train Acc: 100.000| Val Acc: 59.375\n",
            "Epoch 138: | Train Loss: 0.43342 | Val Loss: 1.25291 | Train Acc: 98.611| Val Acc: 53.906\n",
            "Epoch 139: | Train Loss: 0.37801 | Val Loss: 1.28756 | Train Acc: 98.611| Val Acc: 57.031\n",
            "Epoch 140: | Train Loss: 0.38906 | Val Loss: 1.27510 | Train Acc: 100.000| Val Acc: 49.219\n",
            "Epoch 141: | Train Loss: 0.38930 | Val Loss: 1.36708 | Train Acc: 100.000| Val Acc: 53.906\n",
            "Epoch 142: | Train Loss: 0.36958 | Val Loss: 1.23325 | Train Acc: 98.611| Val Acc: 52.344\n",
            "Epoch 143: | Train Loss: 0.46353 | Val Loss: 1.28619 | Train Acc: 100.000| Val Acc: 52.344\n",
            "Epoch 144: | Train Loss: 0.34379 | Val Loss: 1.30284 | Train Acc: 100.000| Val Acc: 54.688\n",
            "Epoch 145: | Train Loss: 0.39989 | Val Loss: 1.25807 | Train Acc: 98.611| Val Acc: 58.594\n",
            "Epoch 146: | Train Loss: 0.37522 | Val Loss: 1.21742 | Train Acc: 98.611| Val Acc: 57.031\n",
            "Epoch 147: | Train Loss: 0.39643 | Val Loss: 1.23971 | Train Acc: 100.000| Val Acc: 56.250\n",
            "Epoch 148: | Train Loss: 0.38571 | Val Loss: 1.22205 | Train Acc: 100.000| Val Acc: 57.031\n",
            "Epoch 149: | Train Loss: 0.37999 | Val Loss: 1.18119 | Train Acc: 98.611| Val Acc: 59.375\n",
            "Epoch 150: | Train Loss: 0.33900 | Val Loss: 1.20981 | Train Acc: 100.000| Val Acc: 54.688\n",
            "Epoch 151: | Train Loss: 0.37409 | Val Loss: 1.25590 | Train Acc: 98.611| Val Acc: 60.938\n",
            "Epoch 152: | Train Loss: 0.37377 | Val Loss: 1.26027 | Train Acc: 97.222| Val Acc: 57.031\n",
            "Epoch 153: | Train Loss: 0.35493 | Val Loss: 1.42588 | Train Acc: 98.611| Val Acc: 53.125\n",
            "Epoch 154: | Train Loss: 0.34241 | Val Loss: 1.32895 | Train Acc: 100.000| Val Acc: 54.688\n",
            "Epoch 155: | Train Loss: 0.33250 | Val Loss: 1.27578 | Train Acc: 97.222| Val Acc: 53.906\n",
            "Epoch 156: | Train Loss: 0.36302 | Val Loss: 1.22900 | Train Acc: 100.000| Val Acc: 57.812\n",
            "Epoch 157: | Train Loss: 0.34361 | Val Loss: 1.31494 | Train Acc: 100.000| Val Acc: 54.688\n",
            "Epoch 158: | Train Loss: 0.36797 | Val Loss: 1.39983 | Train Acc: 98.611| Val Acc: 54.688\n",
            "Epoch 159: | Train Loss: 0.33689 | Val Loss: 1.38887 | Train Acc: 100.000| Val Acc: 48.438\n",
            "Epoch 160: | Train Loss: 0.37347 | Val Loss: 1.32183 | Train Acc: 100.000| Val Acc: 53.125\n",
            "Epoch 161: | Train Loss: 0.33568 | Val Loss: 1.36439 | Train Acc: 100.000| Val Acc: 53.125\n",
            "Epoch 162: | Train Loss: 0.36391 | Val Loss: 1.32493 | Train Acc: 100.000| Val Acc: 57.812\n",
            "Epoch 163: | Train Loss: 0.32637 | Val Loss: 1.29963 | Train Acc: 100.000| Val Acc: 56.250\n",
            "Epoch 164: | Train Loss: 0.32153 | Val Loss: 1.33813 | Train Acc: 98.611| Val Acc: 58.594\n",
            "Epoch 165: | Train Loss: 0.37619 | Val Loss: 1.28402 | Train Acc: 100.000| Val Acc: 56.250\n",
            "Epoch 166: | Train Loss: 0.36885 | Val Loss: 1.27151 | Train Acc: 100.000| Val Acc: 54.688\n",
            "Epoch 167: | Train Loss: 0.34682 | Val Loss: 1.18975 | Train Acc: 100.000| Val Acc: 53.125\n",
            "Epoch 168: | Train Loss: 0.34436 | Val Loss: 1.27599 | Train Acc: 98.611| Val Acc: 53.125\n",
            "Epoch 169: | Train Loss: 0.30133 | Val Loss: 1.27990 | Train Acc: 100.000| Val Acc: 57.812\n",
            "Epoch 170: | Train Loss: 0.38942 | Val Loss: 1.26378 | Train Acc: 100.000| Val Acc: 51.562\n",
            "Epoch 171: | Train Loss: 0.37992 | Val Loss: 1.24996 | Train Acc: 100.000| Val Acc: 53.125\n",
            "Epoch 172: | Train Loss: 0.36570 | Val Loss: 1.17905 | Train Acc: 98.611| Val Acc: 57.812\n",
            "Epoch 173: | Train Loss: 0.34221 | Val Loss: 1.31069 | Train Acc: 100.000| Val Acc: 57.812\n",
            "Epoch 174: | Train Loss: 0.35549 | Val Loss: 1.27183 | Train Acc: 100.000| Val Acc: 53.125\n",
            "Epoch 175: | Train Loss: 0.39521 | Val Loss: 1.25686 | Train Acc: 100.000| Val Acc: 57.031\n",
            "Epoch 176: | Train Loss: 0.35644 | Val Loss: 1.25262 | Train Acc: 98.611| Val Acc: 55.469\n",
            "Epoch 177: | Train Loss: 0.33973 | Val Loss: 1.32451 | Train Acc: 100.000| Val Acc: 57.031\n",
            "Epoch 178: | Train Loss: 0.29056 | Val Loss: 1.33459 | Train Acc: 100.000| Val Acc: 52.344\n",
            "Epoch 179: | Train Loss: 0.31371 | Val Loss: 1.35545 | Train Acc: 98.611| Val Acc: 57.812\n",
            "Epoch 180: | Train Loss: 0.36169 | Val Loss: 1.25289 | Train Acc: 100.000| Val Acc: 53.906\n",
            "Epoch 181: | Train Loss: 0.34537 | Val Loss: 1.34118 | Train Acc: 98.611| Val Acc: 52.344\n",
            "Epoch 182: | Train Loss: 0.34221 | Val Loss: 1.42053 | Train Acc: 100.000| Val Acc: 56.250\n",
            "Epoch 183: | Train Loss: 0.30533 | Val Loss: 1.40023 | Train Acc: 100.000| Val Acc: 55.469\n",
            "Epoch 184: | Train Loss: 0.30269 | Val Loss: 1.38951 | Train Acc: 100.000| Val Acc: 53.906\n",
            "Epoch 185: | Train Loss: 0.31114 | Val Loss: 1.31563 | Train Acc: 100.000| Val Acc: 58.594\n",
            "Epoch 186: | Train Loss: 0.36807 | Val Loss: 1.39672 | Train Acc: 100.000| Val Acc: 57.031\n",
            "Epoch 187: | Train Loss: 0.36139 | Val Loss: 1.36032 | Train Acc: 100.000| Val Acc: 62.500\n",
            "Epoch 188: | Train Loss: 0.35197 | Val Loss: 1.32127 | Train Acc: 98.611| Val Acc: 60.156\n",
            "Epoch 189: | Train Loss: 0.34204 | Val Loss: 1.35549 | Train Acc: 100.000| Val Acc: 53.125\n",
            "Epoch 190: | Train Loss: 0.31013 | Val Loss: 1.32287 | Train Acc: 100.000| Val Acc: 53.125\n",
            "Epoch 191: | Train Loss: 0.38174 | Val Loss: 1.36065 | Train Acc: 98.611| Val Acc: 54.688\n",
            "Epoch 192: | Train Loss: 0.40618 | Val Loss: 1.42966 | Train Acc: 100.000| Val Acc: 47.656\n",
            "Epoch 193: | Train Loss: 0.34052 | Val Loss: 1.41782 | Train Acc: 98.611| Val Acc: 53.125\n",
            "Epoch 194: | Train Loss: 0.33958 | Val Loss: 1.44003 | Train Acc: 100.000| Val Acc: 52.344\n",
            "Epoch 195: | Train Loss: 0.37595 | Val Loss: 1.34155 | Train Acc: 100.000| Val Acc: 53.906\n",
            "Epoch 196: | Train Loss: 0.36124 | Val Loss: 1.44247 | Train Acc: 97.222| Val Acc: 46.875\n",
            "Epoch 197: | Train Loss: 0.35651 | Val Loss: 1.25585 | Train Acc: 98.611| Val Acc: 54.688\n",
            "Epoch 198: | Train Loss: 0.38530 | Val Loss: 1.25424 | Train Acc: 98.611| Val Acc: 57.031\n",
            "Epoch 199: | Train Loss: 0.31333 | Val Loss: 1.24503 | Train Acc: 100.000| Val Acc: 52.344\n",
            "Epoch 200: | Train Loss: 0.40998 | Val Loss: 1.27537 | Train Acc: 98.611| Val Acc: 54.688\n",
            "Epoch 201: | Train Loss: 0.35113 | Val Loss: 1.40371 | Train Acc: 100.000| Val Acc: 53.906\n",
            "Epoch 202: | Train Loss: 0.35168 | Val Loss: 1.36520 | Train Acc: 100.000| Val Acc: 56.250\n",
            "Epoch 203: | Train Loss: 0.38826 | Val Loss: 1.29932 | Train Acc: 98.611| Val Acc: 58.594\n",
            "Epoch 204: | Train Loss: 0.33181 | Val Loss: 1.31262 | Train Acc: 97.222| Val Acc: 57.031\n",
            "Epoch 205: | Train Loss: 0.30307 | Val Loss: 1.21808 | Train Acc: 100.000| Val Acc: 55.469\n",
            "Epoch 206: | Train Loss: 0.33606 | Val Loss: 1.23269 | Train Acc: 100.000| Val Acc: 56.250\n",
            "Epoch 207: | Train Loss: 0.29355 | Val Loss: 1.25286 | Train Acc: 100.000| Val Acc: 58.594\n",
            "Epoch 208: | Train Loss: 0.39491 | Val Loss: 1.34591 | Train Acc: 100.000| Val Acc: 53.125\n",
            "Epoch 209: | Train Loss: 0.34524 | Val Loss: 1.31428 | Train Acc: 100.000| Val Acc: 57.031\n",
            "Epoch 210: | Train Loss: 0.37027 | Val Loss: 1.30482 | Train Acc: 100.000| Val Acc: 52.344\n",
            "Epoch 211: | Train Loss: 0.33505 | Val Loss: 1.32574 | Train Acc: 100.000| Val Acc: 57.031\n",
            "Epoch 212: | Train Loss: 0.34682 | Val Loss: 1.28255 | Train Acc: 98.611| Val Acc: 56.250\n",
            "Epoch 213: | Train Loss: 0.26937 | Val Loss: 1.33749 | Train Acc: 100.000| Val Acc: 55.469\n",
            "Epoch 214: | Train Loss: 0.30176 | Val Loss: 1.42533 | Train Acc: 100.000| Val Acc: 52.344\n",
            "Epoch 215: | Train Loss: 0.32180 | Val Loss: 1.38715 | Train Acc: 98.611| Val Acc: 53.125\n",
            "Epoch 216: | Train Loss: 0.33853 | Val Loss: 1.43612 | Train Acc: 98.611| Val Acc: 53.906\n",
            "Epoch 217: | Train Loss: 0.31369 | Val Loss: 1.36656 | Train Acc: 98.611| Val Acc: 55.469\n",
            "Epoch 218: | Train Loss: 0.29686 | Val Loss: 1.39252 | Train Acc: 98.611| Val Acc: 54.688\n",
            "Epoch 219: | Train Loss: 0.29555 | Val Loss: 1.34359 | Train Acc: 100.000| Val Acc: 57.812\n",
            "Epoch 220: | Train Loss: 0.34628 | Val Loss: 1.39452 | Train Acc: 100.000| Val Acc: 57.031\n",
            "Epoch 221: | Train Loss: 0.31427 | Val Loss: 1.34947 | Train Acc: 100.000| Val Acc: 57.031\n",
            "Epoch 222: | Train Loss: 0.33596 | Val Loss: 1.46231 | Train Acc: 100.000| Val Acc: 54.688\n",
            "Epoch 223: | Train Loss: 0.26897 | Val Loss: 1.39124 | Train Acc: 100.000| Val Acc: 54.688\n",
            "Epoch 224: | Train Loss: 0.30228 | Val Loss: 1.41630 | Train Acc: 98.611| Val Acc: 54.688\n",
            "Epoch 225: | Train Loss: 0.32838 | Val Loss: 1.42797 | Train Acc: 100.000| Val Acc: 52.344\n",
            "Epoch 226: | Train Loss: 0.34443 | Val Loss: 1.45720 | Train Acc: 100.000| Val Acc: 56.250\n",
            "Epoch 227: | Train Loss: 0.37180 | Val Loss: 1.29195 | Train Acc: 100.000| Val Acc: 55.469\n",
            "Epoch 228: | Train Loss: 0.37004 | Val Loss: 1.30337 | Train Acc: 100.000| Val Acc: 58.594\n",
            "Epoch 229: | Train Loss: 0.30813 | Val Loss: 1.28963 | Train Acc: 98.611| Val Acc: 58.594\n",
            "Epoch 230: | Train Loss: 0.33081 | Val Loss: 1.34378 | Train Acc: 100.000| Val Acc: 57.031\n",
            "Epoch 231: | Train Loss: 0.29450 | Val Loss: 1.32985 | Train Acc: 100.000| Val Acc: 55.469\n",
            "Epoch 232: | Train Loss: 0.30510 | Val Loss: 1.33666 | Train Acc: 100.000| Val Acc: 57.031\n",
            "Epoch 233: | Train Loss: 0.34417 | Val Loss: 1.25196 | Train Acc: 100.000| Val Acc: 58.594\n",
            "Epoch 234: | Train Loss: 0.39848 | Val Loss: 1.26641 | Train Acc: 100.000| Val Acc: 56.250\n",
            "Epoch 235: | Train Loss: 0.33263 | Val Loss: 1.19045 | Train Acc: 97.222| Val Acc: 54.688\n",
            "Epoch 236: | Train Loss: 0.30425 | Val Loss: 1.18872 | Train Acc: 100.000| Val Acc: 57.031\n",
            "Epoch 237: | Train Loss: 0.30577 | Val Loss: 1.31329 | Train Acc: 98.611| Val Acc: 53.906\n",
            "Epoch 238: | Train Loss: 0.36940 | Val Loss: 1.30414 | Train Acc: 98.611| Val Acc: 56.250\n",
            "Epoch 239: | Train Loss: 0.29470 | Val Loss: 1.25783 | Train Acc: 100.000| Val Acc: 59.375\n",
            "Epoch 240: | Train Loss: 0.30807 | Val Loss: 1.31057 | Train Acc: 100.000| Val Acc: 55.469\n",
            "Epoch 241: | Train Loss: 0.28422 | Val Loss: 1.36079 | Train Acc: 100.000| Val Acc: 59.375\n",
            "Epoch 242: | Train Loss: 0.27207 | Val Loss: 1.44137 | Train Acc: 100.000| Val Acc: 57.812\n",
            "Epoch 243: | Train Loss: 0.33780 | Val Loss: 1.46181 | Train Acc: 100.000| Val Acc: 60.938\n",
            "Epoch 244: | Train Loss: 0.32074 | Val Loss: 1.41476 | Train Acc: 97.222| Val Acc: 57.031\n",
            "Epoch 245: | Train Loss: 0.34987 | Val Loss: 1.38720 | Train Acc: 100.000| Val Acc: 56.250\n",
            "Epoch 246: | Train Loss: 0.34352 | Val Loss: 1.32907 | Train Acc: 100.000| Val Acc: 59.375\n",
            "Epoch 247: | Train Loss: 0.33938 | Val Loss: 1.34173 | Train Acc: 100.000| Val Acc: 53.906\n",
            "Epoch 248: | Train Loss: 0.32585 | Val Loss: 1.30448 | Train Acc: 100.000| Val Acc: 57.812\n",
            "Epoch 249: | Train Loss: 0.41937 | Val Loss: 1.35968 | Train Acc: 100.000| Val Acc: 60.156\n",
            "Epoch 250: | Train Loss: 0.29009 | Val Loss: 1.47019 | Train Acc: 100.000| Val Acc: 56.250\n",
            "Epoch 251: | Train Loss: 0.37293 | Val Loss: 1.49067 | Train Acc: 100.000| Val Acc: 56.250\n",
            "Epoch 252: | Train Loss: 0.25502 | Val Loss: 1.41917 | Train Acc: 98.611| Val Acc: 56.250\n",
            "Epoch 253: | Train Loss: 0.30157 | Val Loss: 1.41427 | Train Acc: 100.000| Val Acc: 55.469\n",
            "Epoch 254: | Train Loss: 0.28470 | Val Loss: 1.35111 | Train Acc: 100.000| Val Acc: 59.375\n",
            "Epoch 255: | Train Loss: 0.28020 | Val Loss: 1.31819 | Train Acc: 100.000| Val Acc: 60.156\n",
            "Epoch 256: | Train Loss: 0.31505 | Val Loss: 1.34920 | Train Acc: 100.000| Val Acc: 57.031\n",
            "Epoch 257: | Train Loss: 0.28433 | Val Loss: 1.29454 | Train Acc: 100.000| Val Acc: 57.812\n",
            "Epoch 258: | Train Loss: 0.28179 | Val Loss: 1.22826 | Train Acc: 100.000| Val Acc: 57.812\n",
            "Epoch 259: | Train Loss: 0.21916 | Val Loss: 1.23969 | Train Acc: 100.000| Val Acc: 56.250\n",
            "Epoch 260: | Train Loss: 0.32894 | Val Loss: 1.35920 | Train Acc: 98.611| Val Acc: 55.469\n",
            "Epoch 261: | Train Loss: 0.35945 | Val Loss: 1.34190 | Train Acc: 98.611| Val Acc: 54.688\n",
            "Epoch 262: | Train Loss: 0.24810 | Val Loss: 1.28416 | Train Acc: 100.000| Val Acc: 55.469\n",
            "Epoch 263: | Train Loss: 0.34488 | Val Loss: 1.33122 | Train Acc: 100.000| Val Acc: 57.031\n",
            "Epoch 264: | Train Loss: 0.28036 | Val Loss: 1.33626 | Train Acc: 100.000| Val Acc: 60.156\n",
            "Epoch 265: | Train Loss: 0.25831 | Val Loss: 1.26851 | Train Acc: 98.611| Val Acc: 62.500\n",
            "Epoch 266: | Train Loss: 0.26803 | Val Loss: 1.26296 | Train Acc: 100.000| Val Acc: 60.938\n",
            "Epoch 267: | Train Loss: 0.33335 | Val Loss: 1.30884 | Train Acc: 100.000| Val Acc: 59.375\n",
            "Epoch 268: | Train Loss: 0.30719 | Val Loss: 1.29602 | Train Acc: 100.000| Val Acc: 58.594\n",
            "Epoch 269: | Train Loss: 0.32710 | Val Loss: 1.32671 | Train Acc: 98.611| Val Acc: 58.594\n",
            "Epoch 270: | Train Loss: 0.28530 | Val Loss: 1.31600 | Train Acc: 100.000| Val Acc: 59.375\n",
            "Epoch 271: | Train Loss: 0.36979 | Val Loss: 1.27645 | Train Acc: 98.611| Val Acc: 59.375\n",
            "Epoch 272: | Train Loss: 0.26331 | Val Loss: 1.36192 | Train Acc: 100.000| Val Acc: 57.031\n",
            "Epoch 273: | Train Loss: 0.31961 | Val Loss: 1.27206 | Train Acc: 100.000| Val Acc: 57.812\n",
            "Epoch 274: | Train Loss: 0.28688 | Val Loss: 1.37218 | Train Acc: 100.000| Val Acc: 56.250\n",
            "Epoch 275: | Train Loss: 0.33502 | Val Loss: 1.38538 | Train Acc: 100.000| Val Acc: 53.125\n",
            "Epoch 276: | Train Loss: 0.32638 | Val Loss: 1.38734 | Train Acc: 100.000| Val Acc: 60.938\n",
            "Epoch 277: | Train Loss: 0.32331 | Val Loss: 1.32756 | Train Acc: 100.000| Val Acc: 53.906\n",
            "Epoch 278: | Train Loss: 0.31188 | Val Loss: 1.26210 | Train Acc: 98.611| Val Acc: 60.156\n",
            "Epoch 279: | Train Loss: 0.26455 | Val Loss: 1.34794 | Train Acc: 100.000| Val Acc: 57.812\n",
            "Epoch 280: | Train Loss: 0.24487 | Val Loss: 1.40563 | Train Acc: 100.000| Val Acc: 56.250\n",
            "Epoch 281: | Train Loss: 0.33546 | Val Loss: 1.33759 | Train Acc: 100.000| Val Acc: 54.688\n",
            "Epoch 282: | Train Loss: 0.32664 | Val Loss: 1.43273 | Train Acc: 100.000| Val Acc: 57.812\n",
            "Epoch 283: | Train Loss: 0.27021 | Val Loss: 1.42535 | Train Acc: 100.000| Val Acc: 55.469\n",
            "Epoch 284: | Train Loss: 0.24224 | Val Loss: 1.36870 | Train Acc: 98.611| Val Acc: 57.812\n",
            "Epoch 285: | Train Loss: 0.47092 | Val Loss: 1.44698 | Train Acc: 100.000| Val Acc: 57.031\n",
            "Epoch 286: | Train Loss: 0.36635 | Val Loss: 1.44818 | Train Acc: 98.611| Val Acc: 54.688\n",
            "Epoch 287: | Train Loss: 0.25911 | Val Loss: 1.37262 | Train Acc: 100.000| Val Acc: 57.031\n",
            "Epoch 288: | Train Loss: 0.27825 | Val Loss: 1.39415 | Train Acc: 100.000| Val Acc: 56.250\n",
            "Epoch 289: | Train Loss: 0.27702 | Val Loss: 1.45347 | Train Acc: 100.000| Val Acc: 55.469\n",
            "Epoch 290: | Train Loss: 0.25185 | Val Loss: 1.36882 | Train Acc: 100.000| Val Acc: 53.906\n",
            "Epoch 291: | Train Loss: 0.27655 | Val Loss: 1.39832 | Train Acc: 100.000| Val Acc: 56.250\n",
            "Epoch 292: | Train Loss: 0.27033 | Val Loss: 1.42600 | Train Acc: 100.000| Val Acc: 58.594\n",
            "Epoch 293: | Train Loss: 0.29763 | Val Loss: 1.40822 | Train Acc: 100.000| Val Acc: 57.031\n",
            "Epoch 294: | Train Loss: 0.24512 | Val Loss: 1.42603 | Train Acc: 100.000| Val Acc: 60.156\n",
            "Epoch 295: | Train Loss: 0.28124 | Val Loss: 1.39106 | Train Acc: 98.611| Val Acc: 58.594\n",
            "Epoch 296: | Train Loss: 0.27999 | Val Loss: 1.41325 | Train Acc: 100.000| Val Acc: 58.594\n",
            "Epoch 297: | Train Loss: 0.28902 | Val Loss: 1.37672 | Train Acc: 100.000| Val Acc: 58.594\n",
            "Epoch 298: | Train Loss: 0.26289 | Val Loss: 1.41878 | Train Acc: 100.000| Val Acc: 54.688\n",
            "Epoch 299: | Train Loss: 0.28469 | Val Loss: 1.42663 | Train Acc: 98.611| Val Acc: 53.906\n",
            "Epoch 300: | Train Loss: 0.26889 | Val Loss: 1.42968 | Train Acc: 100.000| Val Acc: 57.812\n",
            "\n"
          ],
          "name": "stdout"
        }
      ]
    },
    {
      "cell_type": "markdown",
      "metadata": {
        "id": "EK-D9slixQns"
      },
      "source": [
        "You can see we’ve put a model.train() at the before the loop. model.train() tells PyTorch that you’re in training mode.\n",
        "\n",
        "Well, why do we need to do that? If you’re using layers such as Dropout or BatchNorm which behave differently during training and evaluation (for example; not use dropout during evaluation), you need to tell PyTorch to act accordingly.\n",
        "\n",
        "Similarly, we’ll call model.eval() when we test our model. We’ll see that below.\n",
        "\n",
        "Back to training; we start a for-loop. At the top of this for-loop, we initialize our loss and accuracy per epoch to 0. After every epoch, we’ll print out the loss/accuracy and reset it back to 0.\n",
        "Then we have another for-loop. This for-loop is used to get our data in batches from the train_loader.\n",
        "\n",
        "We do optimizer.zero_grad() before we make any predictions. Since the backward() function accumulates gradients, we need to set it to 0 manually per mini-batch.\n",
        "\n",
        "From our defined model, we then obtain a prediction, get the loss(and accuracy) for that mini-batch, perform back-propagation using loss.backward() and optimizer.step() .\n",
        "\n",
        "Finally, we add all the mini-batch losses (and accuracies) to obtain the average loss (and accuracy) for that epoch. We add up all the losses/accuracies for each mini-batch and finally divide it by the number of mini-batches ie. length of train_loader to obtain the average loss/accuracy per epoch.\n",
        "\n",
        "The procedure we follow for training is the exact same for validation except for the fact that we wrap it up in torch.no_grad and not perform any back-propagation. torch.no_grad() tells PyTorch that we do not want to perform back-propagation, which reduces memory usage and speeds up computation."
      ]
    },
    {
      "cell_type": "markdown",
      "metadata": {
        "id": "QA635MV9xUet"
      },
      "source": [
        "Visualize Loss and Accuracy\n",
        "\n",
        "To plot the loss and accuracy line plots, we again create a dataframe from the accuracy_stats and loss_stats dictionaries."
      ]
    },
    {
      "cell_type": "code",
      "metadata": {
        "id": "7cqaS4lyxGVn",
        "outputId": "d6c87252-7afa-49e7-b31c-9a8ceeb94fca",
        "colab": {
          "base_uri": "https://localhost:8080/",
          "height": 331
        }
      },
      "source": [
        "# Create dataframes\n",
        "train_val_acc_df = pd.DataFrame.from_dict(accuracy_stats).reset_index().melt(id_vars=['index']).rename(columns={\"index\":\"epochs\"})\n",
        "train_val_loss_df = pd.DataFrame.from_dict(loss_stats).reset_index().melt(id_vars=['index']).rename(columns={\"index\":\"epochs\"})\n",
        "# Plot the dataframes\n",
        "fig, axes = plt.subplots(nrows=1, ncols=2, figsize=(20,7))\n",
        "sns.lineplot(data=train_val_acc_df, x = \"epochs\", y=\"value\", hue=\"variable\",  ax=axes[0]).set_title('Train-Val Accuracy/Epoch')\n",
        "sns.lineplot(data=train_val_loss_df, x = \"epochs\", y=\"value\", hue=\"variable\", ax=axes[1]).set_title('Train-Val Loss/Epoch')"
      ],
      "execution_count": null,
      "outputs": [
        {
          "output_type": "execute_result",
          "data": {
            "text/plain": [
              "Text(0.5, 1.0, 'Train-Val Loss/Epoch')"
            ]
          },
          "metadata": {
            "tags": []
          },
          "execution_count": 31
        },
        {
          "output_type": "display_data",
          "data": {
            "image/png": "[encoded data removed]",
            "text/plain": [
              "<Figure size 1440x504 with 2 Axes>"
            ]
          },
          "metadata": {
            "tags": [],
            "needs_background": "light"
          }
        }
      ]
    },
    {
      "cell_type": "markdown",
      "metadata": {
        "id": "eHgNmLsDxZNk"
      },
      "source": [
        "Test the model\n",
        "\n",
        "After training is done, we need to test how our model fared. Note that we’ve used model.eval() before we run our testing code. To tell PyTorch that we do not want to perform back-propagation during inference, we use torch.no_grad(), just like we did it for the validation loop above.\n",
        "We start by defining a list that will hold our predictions. Then we loop through our batches using the test_loader. For each batch —\n",
        "- We move our input mini-batch to GPU.\n",
        "- We make the predictions using our trained model.\n",
        "- Apply log_softmax activation to the predictions and pick the index of highest probability.\n",
        "- Move the batch to the GPU from the CPU.\n",
        "- Convert the tensor to a numpy object and append it to our list.\n",
        "- Flatten out the list so that we can use it as an input to confusion_matrix and classification_report.\n",
        "\n",
        "`\n"
      ]
    },
    {
      "cell_type": "code",
      "metadata": {
        "id": "iw3JcL4hxWZd"
      },
      "source": [
        "y_pred_list = []\n",
        "with torch.no_grad():\n",
        "    model.eval()\n",
        "    for X_batch, _ in test_loader:\n",
        "        X_batch = X_batch.to(device)\n",
        "        y_test_pred = model(X_batch)\n",
        "        y_pred_softmax = torch.log_softmax(y_test_pred, dim = 1)\n",
        "        _, y_pred_tags = torch.max(y_pred_softmax, dim = 1)\n",
        "        y_pred_list.append(y_pred_tags.cpu().numpy())\n",
        "y_pred_list = [a.squeeze().tolist() for a in y_pred_list]"
      ],
      "execution_count": null,
      "outputs": []
    },
    {
      "cell_type": "code",
      "metadata": {
        "id": "anx17VmJxjno",
        "outputId": "82374746-2f09-4423-fb8a-55e20c31db7e",
        "colab": {
          "base_uri": "https://localhost:8080/",
          "height": 282
        }
      },
      "source": [
        "confusion_matrix_df = pd.DataFrame(confusion_matrix(y_test, y_pred_list)).rename(columns=idx2class, index=idx2class)\n",
        "\n",
        "sns.heatmap(confusion_matrix_df, annot=True)"
      ],
      "execution_count": null,
      "outputs": [
        {
          "output_type": "execute_result",
          "data": {
            "text/plain": [
              "<matplotlib.axes._subplots.AxesSubplot at 0x7fab18b1e0b8>"
            ]
          },
          "metadata": {
            "tags": []
          },
          "execution_count": 33
        },
        {
          "output_type": "display_data",
          "data": {
            "image/png": "[encoded data removed]",
            "text/plain": [
              "<Figure size 432x288 with 2 Axes>"
            ]
          },
          "metadata": {
            "tags": [],
            "needs_background": "light"
          }
        }
      ]
    },
    {
      "cell_type": "code",
      "metadata": {
        "id": "IIbzfp5NxlL1",
        "outputId": "eeaef63d-044f-4585-96c1-99a2499eebfd",
        "colab": {
          "base_uri": "https://localhost:8080/",
          "height": 238
        }
      },
      "source": [
        "print(classification_report(y_test, y_pred_list))\n"
      ],
      "execution_count": null,
      "outputs": [
        {
          "output_type": "stream",
          "text": [
            "              precision    recall  f1-score   support\n",
            "\n",
            "           0       0.00      0.00      0.00         2\n",
            "           1       0.14      0.27      0.19        11\n",
            "           2       0.73      0.67      0.70       136\n",
            "           3       0.67      0.59      0.62       128\n",
            "           4       0.43      0.65      0.52        40\n",
            "           5       0.00      0.00      0.00         3\n",
            "\n",
            "    accuracy                           0.61       320\n",
            "   macro avg       0.33      0.36      0.34       320\n",
            "weighted avg       0.64      0.61      0.62       320\n",
            "\n"
          ],
          "name": "stdout"
        }
      ]
    },
    {
      "cell_type": "markdown",
      "metadata": {
        "id": "qXo8dxU1d1up"
      },
      "source": [
        "## Bench mark"
      ]
    },
    {
      "cell_type": "code",
      "metadata": {
        "id": "GV88xUVeefM_"
      },
      "source": [
        "import numpy as np\n",
        "import pandas as pd\n",
        "import seaborn as sns\n",
        "from tqdm.notebook import tqdm\n",
        "import matplotlib.pyplot as plt\n",
        "\n",
        "import torch\n",
        "import torch.nn as nn\n",
        "import torch.optim as optim\n",
        "from torch.utils.data import Dataset, DataLoader, WeightedRandomSampler\n",
        "\n",
        "from sklearn.multiclass import OneVsOneClassifier,OneVsRestClassifier\n",
        "from sklearn.preprocessing import MinMaxScaler,StandardScaler   \n",
        "from sklearn.model_selection import train_test_split\n",
        "from sklearn.metrics import confusion_matrix, classification_report\n",
        "from sklearn.metrics import balanced_accuracy_score,matthews_corrcoef\n",
        "\n",
        "from sklearn.svm import SVC\n",
        "from xgboost import XGBClassifier\n",
        "from lightgbm import LGBMClassifier"
      ],
      "execution_count": null,
      "outputs": []
    },
    {
      "cell_type": "code",
      "metadata": {
        "id": "-bmrZosOxlOb",
        "outputId": "142b5f9e-9d0f-4012-f453-ff4002ebcbdd",
        "colab": {
          "base_uri": "https://localhost:8080/",
          "height": 275
        }
      },
      "source": [
        "df = pd.read_csv(\"/content/drive/My Drive/Data/winequality-red.csv\")\n",
        "print(df.shape)\n",
        "df.head()"
      ],
      "execution_count": null,
      "outputs": [
        {
          "output_type": "stream",
          "text": [
            "(1599, 12)\n"
          ],
          "name": "stdout"
        },
        {
          "output_type": "execute_result",
          "data": {
            "text/html": [
              "<div>\n",
              "<style scoped>\n",
              "    .dataframe tbody tr th:only-of-type {\n",
              "        vertical-align: middle;\n",
              "    }\n",
              "\n",
              "    .dataframe tbody tr th {\n",
              "        vertical-align: top;\n",
              "    }\n",
              "\n",
              "    .dataframe thead th {\n",
              "        text-align: right;\n",
              "    }\n",
              "</style>\n",
              "<table border=\"1\" class=\"dataframe\">\n",
              "  <thead>\n",
              "    <tr style=\"text-align: right;\">\n",
              "      <th></th>\n",
              "      <th>fixed acidity</th>\n",
              "      <th>volatile acidity</th>\n",
              "      <th>citric acid</th>\n",
              "      <th>residual sugar</th>\n",
              "      <th>chlorides</th>\n",
              "      <th>free sulfur dioxide</th>\n",
              "      <th>total sulfur dioxide</th>\n",
              "      <th>density</th>\n",
              "      <th>pH</th>\n",
              "      <th>sulphates</th>\n",
              "      <th>alcohol</th>\n",
              "      <th>quality</th>\n",
              "    </tr>\n",
              "  </thead>\n",
              "  <tbody>\n",
              "    <tr>\n",
              "      <th>0</th>\n",
              "      <td>7.4</td>\n",
              "      <td>0.70</td>\n",
              "      <td>0.00</td>\n",
              "      <td>1.9</td>\n",
              "      <td>0.076</td>\n",
              "      <td>11.0</td>\n",
              "      <td>34.0</td>\n",
              "      <td>0.9978</td>\n",
              "      <td>3.51</td>\n",
              "      <td>0.56</td>\n",
              "      <td>9.4</td>\n",
              "      <td>5</td>\n",
              "    </tr>\n",
              "    <tr>\n",
              "      <th>1</th>\n",
              "      <td>7.8</td>\n",
              "      <td>0.88</td>\n",
              "      <td>0.00</td>\n",
              "      <td>2.6</td>\n",
              "      <td>0.098</td>\n",
              "      <td>25.0</td>\n",
              "      <td>67.0</td>\n",
              "      <td>0.9968</td>\n",
              "      <td>3.20</td>\n",
              "      <td>0.68</td>\n",
              "      <td>9.8</td>\n",
              "      <td>5</td>\n",
              "    </tr>\n",
              "    <tr>\n",
              "      <th>2</th>\n",
              "      <td>7.8</td>\n",
              "      <td>0.76</td>\n",
              "      <td>0.04</td>\n",
              "      <td>2.3</td>\n",
              "      <td>0.092</td>\n",
              "      <td>15.0</td>\n",
              "      <td>54.0</td>\n",
              "      <td>0.9970</td>\n",
              "      <td>3.26</td>\n",
              "      <td>0.65</td>\n",
              "      <td>9.8</td>\n",
              "      <td>5</td>\n",
              "    </tr>\n",
              "    <tr>\n",
              "      <th>3</th>\n",
              "      <td>11.2</td>\n",
              "      <td>0.28</td>\n",
              "      <td>0.56</td>\n",
              "      <td>1.9</td>\n",
              "      <td>0.075</td>\n",
              "      <td>17.0</td>\n",
              "      <td>60.0</td>\n",
              "      <td>0.9980</td>\n",
              "      <td>3.16</td>\n",
              "      <td>0.58</td>\n",
              "      <td>9.8</td>\n",
              "      <td>6</td>\n",
              "    </tr>\n",
              "    <tr>\n",
              "      <th>4</th>\n",
              "      <td>7.4</td>\n",
              "      <td>0.70</td>\n",
              "      <td>0.00</td>\n",
              "      <td>1.9</td>\n",
              "      <td>0.076</td>\n",
              "      <td>11.0</td>\n",
              "      <td>34.0</td>\n",
              "      <td>0.9978</td>\n",
              "      <td>3.51</td>\n",
              "      <td>0.56</td>\n",
              "      <td>9.4</td>\n",
              "      <td>5</td>\n",
              "    </tr>\n",
              "  </tbody>\n",
              "</table>\n",
              "</div>"
            ],
            "text/plain": [
              "   fixed acidity  volatile acidity  citric acid  ...  sulphates  alcohol  quality\n",
              "0            7.4              0.70         0.00  ...       0.56      9.4        5\n",
              "1            7.8              0.88         0.00  ...       0.68      9.8        5\n",
              "2            7.8              0.76         0.04  ...       0.65      9.8        5\n",
              "3           11.2              0.28         0.56  ...       0.58      9.8        6\n",
              "4            7.4              0.70         0.00  ...       0.56      9.4        5\n",
              "\n",
              "[5 rows x 12 columns]"
            ]
          },
          "metadata": {
            "tags": []
          },
          "execution_count": 6
        }
      ]
    },
    {
      "cell_type": "code",
      "metadata": {
        "id": "GfDKHATzeWH0"
      },
      "source": [
        "class2idx = {\n",
        "    3:0,\n",
        "    4:1,\n",
        "    5:2,\n",
        "    6:3,\n",
        "    7:4,\n",
        "    8:5\n",
        "}\n",
        "\n",
        "idx2class = {v: k for k, v in class2idx.items()}\n",
        "\n",
        "df['quality'].replace(class2idx, inplace=True)"
      ],
      "execution_count": null,
      "outputs": []
    },
    {
      "cell_type": "code",
      "metadata": {
        "id": "uTywMNLNejRq"
      },
      "source": [
        "X = df.iloc[:, 0:-1]\n",
        "y = df.iloc[:, -1]\n",
        "# Split into train+val and test\n",
        "X_trainval, X_test, y_trainval, y_test = train_test_split(X, y, test_size=0.2, stratify=y, random_state=69)\n",
        "\n",
        "# Split train into train-val\n",
        "X_train, X_val, y_train, y_val = train_test_split(X_trainval, y_trainval, test_size=0.1, stratify=y_trainval, random_state=21)\n",
        "\n",
        "scaler = StandardScaler()\n",
        "X_train = scaler.fit_transform(X_train)\n",
        "X_val = scaler.transform(X_val)\n",
        "X_test = scaler.transform(X_test)"
      ],
      "execution_count": null,
      "outputs": []
    },
    {
      "cell_type": "code",
      "metadata": {
        "id": "uyktLkcFeldS",
        "outputId": "2ed440cb-539b-4ad7-ecfa-eafa807c4a76",
        "colab": {
          "base_uri": "https://localhost:8080/",
          "height": 462
        }
      },
      "source": [
        "model=SVC() \n",
        "model.fit(X_train, y_train)\n",
        "# estimate accuracy on validation dataset\n",
        "y_predict = model.predict(X_test)\n",
        "#y_pred_probs = model.predict_proba(X_test_tran)\n",
        "confmat = confusion_matrix(y_test,y_predict)\n",
        "print('balanced_accuracy_score: \\n',balanced_accuracy_score(y_test, y_predict))\n",
        "print('confusion_matrix \\n',confmat)\n",
        "print('classification_report \\n',classification_report(y_test, y_predict))"
      ],
      "execution_count": null,
      "outputs": [
        {
          "output_type": "stream",
          "text": [
            "balanced_accuracy_score: \n",
            " 0.2709405637254902\n",
            "confusion_matrix \n",
            " [[  0   0   1   1   0   0]\n",
            " [  0   0   9   2   0   0]\n",
            " [  0   0 104  32   0   0]\n",
            " [  0   0  47  75   6   0]\n",
            " [  0   0   4  25  11   0]\n",
            " [  0   0   0   3   0   0]]\n",
            "classification_report \n",
            "               precision    recall  f1-score   support\n",
            "\n",
            "           0       0.00      0.00      0.00         2\n",
            "           1       0.00      0.00      0.00        11\n",
            "           2       0.63      0.76      0.69       136\n",
            "           3       0.54      0.59      0.56       128\n",
            "           4       0.65      0.28      0.39        40\n",
            "           5       0.00      0.00      0.00         3\n",
            "\n",
            "    accuracy                           0.59       320\n",
            "   macro avg       0.30      0.27      0.27       320\n",
            "weighted avg       0.57      0.59      0.57       320\n",
            "\n"
          ],
          "name": "stdout"
        },
        {
          "output_type": "stream",
          "text": [
            "/usr/local/lib/python3.6/dist-packages/sklearn/metrics/_classification.py:1272: UndefinedMetricWarning: Precision and F-score are ill-defined and being set to 0.0 in labels with no predicted samples. Use `zero_division` parameter to control this behavior.\n",
            "  _warn_prf(average, modifier, msg_start, len(result))\n"
          ],
          "name": "stderr"
        }
      ]
    },
    {
      "cell_type": "code",
      "metadata": {
        "id": "2k-2cClwfeCf",
        "outputId": "5f3ad807-afea-431b-90bd-4b206d56dd29",
        "colab": {
          "base_uri": "https://localhost:8080/",
          "height": 462
        }
      },
      "source": [
        "model=OneVsOneClassifier(SVC() )\n",
        "model.fit(X_train, y_train)\n",
        "# estimate accuracy on validation dataset\n",
        "y_predict = model.predict(X_test)\n",
        "#y_pred_probs = model.predict_proba(X_test_tran)\n",
        "confmat = confusion_matrix(y_test,y_predict)\n",
        "print('balanced_accuracy_score: \\n',balanced_accuracy_score(y_test, y_predict))\n",
        "print('confusion_matrix \\n',confmat)\n",
        "print('classification_report \\n',classification_report(y_test, y_predict))"
      ],
      "execution_count": null,
      "outputs": [
        {
          "output_type": "stream",
          "text": [
            "balanced_accuracy_score: \n",
            " 0.2723192401960784\n",
            "confusion_matrix \n",
            " [[  0   0   1   1   0   0]\n",
            " [  0   0   9   2   0   0]\n",
            " [  0   0 103  33   0   0]\n",
            " [  0   0  45  77   6   0]\n",
            " [  0   0   4  25  11   0]\n",
            " [  0   0   0   3   0   0]]\n",
            "classification_report \n",
            "               precision    recall  f1-score   support\n",
            "\n",
            "           0       0.00      0.00      0.00         2\n",
            "           1       0.00      0.00      0.00        11\n",
            "           2       0.64      0.76      0.69       136\n",
            "           3       0.55      0.60      0.57       128\n",
            "           4       0.65      0.28      0.39        40\n",
            "           5       0.00      0.00      0.00         3\n",
            "\n",
            "    accuracy                           0.60       320\n",
            "   macro avg       0.30      0.27      0.27       320\n",
            "weighted avg       0.57      0.60      0.57       320\n",
            "\n"
          ],
          "name": "stdout"
        },
        {
          "output_type": "stream",
          "text": [
            "/usr/local/lib/python3.6/dist-packages/sklearn/metrics/_classification.py:1272: UndefinedMetricWarning: Precision and F-score are ill-defined and being set to 0.0 in labels with no predicted samples. Use `zero_division` parameter to control this behavior.\n",
            "  _warn_prf(average, modifier, msg_start, len(result))\n"
          ],
          "name": "stderr"
        }
      ]
    },
    {
      "cell_type": "code",
      "metadata": {
        "id": "rD8lrnPkfod9",
        "outputId": "4c2487bd-05b0-4619-ebf3-5952870854b6",
        "colab": {
          "base_uri": "https://localhost:8080/",
          "height": 408
        }
      },
      "source": [
        "model=XGBClassifier(random_state=42)\n",
        "model.fit(X_train, y_train)\n",
        "# estimate accuracy on validation dataset\n",
        "y_predict = model.predict(X_test)\n",
        "#y_pred_probs = model.predict_proba(X_test_tran)\n",
        "confmat = confusion_matrix(y_test,y_predict)\n",
        "print('balanced_accuracy_score: \\n',balanced_accuracy_score(y_test, y_predict))\n",
        "print('confusion_matrix \\n',confmat)\n",
        "print('classification_report \\n',classification_report(y_test, y_predict))"
      ],
      "execution_count": null,
      "outputs": [
        {
          "output_type": "stream",
          "text": [
            "balanced_accuracy_score: \n",
            " 0.2939491421568628\n",
            "confusion_matrix \n",
            " [[ 0  0  1  1  0  0]\n",
            " [ 1  0  9  1  0  0]\n",
            " [ 0  1 96 37  2  0]\n",
            " [ 0  2 35 81  9  1]\n",
            " [ 0  0  2 21 17  0]\n",
            " [ 0  0  0  3  0  0]]\n",
            "classification_report \n",
            "               precision    recall  f1-score   support\n",
            "\n",
            "           0       0.00      0.00      0.00         2\n",
            "           1       0.00      0.00      0.00        11\n",
            "           2       0.67      0.71      0.69       136\n",
            "           3       0.56      0.63      0.60       128\n",
            "           4       0.61      0.42      0.50        40\n",
            "           5       0.00      0.00      0.00         3\n",
            "\n",
            "    accuracy                           0.61       320\n",
            "   macro avg       0.31      0.29      0.30       320\n",
            "weighted avg       0.59      0.61      0.59       320\n",
            "\n"
          ],
          "name": "stdout"
        }
      ]
    },
    {
      "cell_type": "code",
      "metadata": {
        "id": "pxCQvNIHfyDY",
        "outputId": "8c4443ca-a25c-4830-f805-07df9dafdb0b",
        "colab": {
          "base_uri": "https://localhost:8080/",
          "height": 462
        }
      },
      "source": [
        "model=LGBMClassifier(random_state=42)\n",
        "model.fit(X_train, y_train)\n",
        "# estimate accuracy on validation dataset\n",
        "y_predict = model.predict(X_test)\n",
        "#y_pred_probs = model.predict_proba(X_test_tran)\n",
        "confmat = confusion_matrix(y_test,y_predict)\n",
        "print('balanced_accuracy_score: \\n',balanced_accuracy_score(y_test, y_predict))\n",
        "print('confusion_matrix \\n',confmat)\n",
        "print('classification_report \\n',classification_report(y_test, y_predict))"
      ],
      "execution_count": null,
      "outputs": [
        {
          "output_type": "stream",
          "text": [
            "balanced_accuracy_score: \n",
            " 0.3153186274509804\n",
            "confusion_matrix \n",
            " [[  0   0   1   1   0   0]\n",
            " [  0   0   7   4   0   0]\n",
            " [  0   0 106  30   0   0]\n",
            " [  0   2  30  88   8   0]\n",
            " [  0   0   5  17  17   1]\n",
            " [  0   0   0   3   0   0]]\n",
            "classification_report \n",
            "               precision    recall  f1-score   support\n",
            "\n",
            "           0       0.00      0.00      0.00         2\n",
            "           1       0.00      0.00      0.00        11\n",
            "           2       0.71      0.78      0.74       136\n",
            "           3       0.62      0.69      0.65       128\n",
            "           4       0.68      0.42      0.52        40\n",
            "           5       0.00      0.00      0.00         3\n",
            "\n",
            "    accuracy                           0.66       320\n",
            "   macro avg       0.33      0.32      0.32       320\n",
            "weighted avg       0.63      0.66      0.64       320\n",
            "\n"
          ],
          "name": "stdout"
        },
        {
          "output_type": "stream",
          "text": [
            "/usr/local/lib/python3.6/dist-packages/sklearn/metrics/_classification.py:1272: UndefinedMetricWarning: Precision and F-score are ill-defined and being set to 0.0 in labels with no predicted samples. Use `zero_division` parameter to control this behavior.\n",
            "  _warn_prf(average, modifier, msg_start, len(result))\n"
          ],
          "name": "stderr"
        }
      ]
    },
    {
      "cell_type": "markdown",
      "metadata": {
        "id": "g8RflnurPA6S"
      },
      "source": [
        "# Lending club classification"
      ]
    },
    {
      "cell_type": "code",
      "metadata": {
        "id": "OOReekrVf5id"
      },
      "source": [
        "import re\n",
        "import numpy as np\n",
        "import pandas as pd\n",
        "import seaborn as sns\n",
        "from tqdm.notebook import tqdm\n",
        "import matplotlib.pyplot as plt\n",
        "\n",
        "import torch\n",
        "import torch.nn as nn\n",
        "import torch.optim as optim\n",
        "from torch.utils.data import Dataset, DataLoader, WeightedRandomSampler\n",
        "\n",
        "from sklearn.preprocessing import StandardScaler,LabelEncoder,OneHotEncoder     \n",
        "from sklearn.model_selection import train_test_split\n",
        "from sklearn.metrics import confusion_matrix, classification_report,balanced_accuracy_score\n",
        "from xgboost import XGBClassifier\n",
        "from lightgbm import LGBMClassifier"
      ],
      "execution_count": 1,
      "outputs": []
    },
    {
      "cell_type": "code",
      "metadata": {
        "id": "K2X1gZisPEHw",
        "outputId": "f785864f-711e-4225-a858-03a0c2cc11c7",
        "colab": {
          "base_uri": "https://localhost:8080/",
          "height": 415
        }
      },
      "source": [
        "link='https://raw.githubusercontent.com/aapatel09/handson-unsupervised-learning/master/datasets/lending_club_data/LoanStats3a.csv'\n",
        "data_a=pd.read_csv(link)\n",
        "print(data_a.shape)\n",
        "data_a.head(2)"
      ],
      "execution_count": 2,
      "outputs": [
        {
          "output_type": "stream",
          "text": [
            "/usr/local/lib/python3.6/dist-packages/IPython/core/interactiveshell.py:2718: DtypeWarning: Columns (0,47) have mixed types.Specify dtype option on import or set low_memory=False.\n",
            "  interactivity=interactivity, compiler=compiler, result=result)\n"
          ],
          "name": "stderr"
        },
        {
          "output_type": "stream",
          "text": [
            "(42542, 145)\n"
          ],
          "name": "stdout"
        },
        {
          "output_type": "execute_result",
          "data": {
            "text/html": [
              "<div>\n",
              "<style scoped>\n",
              "    .dataframe tbody tr th:only-of-type {\n",
              "        vertical-align: middle;\n",
              "    }\n",
              "\n",
              "    .dataframe tbody tr th {\n",
              "        vertical-align: top;\n",
              "    }\n",
              "\n",
              "    .dataframe thead th {\n",
              "        text-align: right;\n",
              "    }\n",
              "</style>\n",
              "<table border=\"1\" class=\"dataframe\">\n",
              "  <thead>\n",
              "    <tr style=\"text-align: right;\">\n",
              "      <th></th>\n",
              "      <th>id</th>\n",
              "      <th>member_id</th>\n",
              "      <th>loan_amnt</th>\n",
              "      <th>funded_amnt</th>\n",
              "      <th>funded_amnt_inv</th>\n",
              "      <th>term</th>\n",
              "      <th>int_rate</th>\n",
              "      <th>installment</th>\n",
              "      <th>grade</th>\n",
              "      <th>sub_grade</th>\n",
              "      <th>emp_title</th>\n",
              "      <th>emp_length</th>\n",
              "      <th>home_ownership</th>\n",
              "      <th>annual_inc</th>\n",
              "      <th>verification_status</th>\n",
              "      <th>issue_d</th>\n",
              "      <th>loan_status</th>\n",
              "      <th>pymnt_plan</th>\n",
              "      <th>url</th>\n",
              "      <th>desc</th>\n",
              "      <th>purpose</th>\n",
              "      <th>title</th>\n",
              "      <th>zip_code</th>\n",
              "      <th>addr_state</th>\n",
              "      <th>dti</th>\n",
              "      <th>delinq_2yrs</th>\n",
              "      <th>earliest_cr_line</th>\n",
              "      <th>inq_last_6mths</th>\n",
              "      <th>mths_since_last_delinq</th>\n",
              "      <th>mths_since_last_record</th>\n",
              "      <th>open_acc</th>\n",
              "      <th>pub_rec</th>\n",
              "      <th>revol_bal</th>\n",
              "      <th>revol_util</th>\n",
              "      <th>total_acc</th>\n",
              "      <th>initial_list_status</th>\n",
              "      <th>out_prncp</th>\n",
              "      <th>out_prncp_inv</th>\n",
              "      <th>total_pymnt</th>\n",
              "      <th>total_pymnt_inv</th>\n",
              "      <th>...</th>\n",
              "      <th>pub_rec_bankruptcies</th>\n",
              "      <th>tax_liens</th>\n",
              "      <th>tot_hi_cred_lim</th>\n",
              "      <th>total_bal_ex_mort</th>\n",
              "      <th>total_bc_limit</th>\n",
              "      <th>total_il_high_credit_limit</th>\n",
              "      <th>revol_bal_joint</th>\n",
              "      <th>sec_app_earliest_cr_line</th>\n",
              "      <th>sec_app_inq_last_6mths</th>\n",
              "      <th>sec_app_mort_acc</th>\n",
              "      <th>sec_app_open_acc</th>\n",
              "      <th>sec_app_revol_util</th>\n",
              "      <th>sec_app_open_act_il</th>\n",
              "      <th>sec_app_num_rev_accts</th>\n",
              "      <th>sec_app_chargeoff_within_12_mths</th>\n",
              "      <th>sec_app_collections_12_mths_ex_med</th>\n",
              "      <th>sec_app_mths_since_last_major_derog</th>\n",
              "      <th>hardship_flag</th>\n",
              "      <th>hardship_type</th>\n",
              "      <th>hardship_reason</th>\n",
              "      <th>hardship_status</th>\n",
              "      <th>deferral_term</th>\n",
              "      <th>hardship_amount</th>\n",
              "      <th>hardship_start_date</th>\n",
              "      <th>hardship_end_date</th>\n",
              "      <th>payment_plan_start_date</th>\n",
              "      <th>hardship_length</th>\n",
              "      <th>hardship_dpd</th>\n",
              "      <th>hardship_loan_status</th>\n",
              "      <th>orig_projected_additional_accrued_interest</th>\n",
              "      <th>hardship_payoff_balance_amount</th>\n",
              "      <th>hardship_last_payment_amount</th>\n",
              "      <th>disbursement_method</th>\n",
              "      <th>debt_settlement_flag</th>\n",
              "      <th>debt_settlement_flag_date</th>\n",
              "      <th>settlement_status</th>\n",
              "      <th>settlement_date</th>\n",
              "      <th>settlement_amount</th>\n",
              "      <th>settlement_percentage</th>\n",
              "      <th>settlement_term</th>\n",
              "    </tr>\n",
              "  </thead>\n",
              "  <tbody>\n",
              "    <tr>\n",
              "      <th>0</th>\n",
              "      <td>NaN</td>\n",
              "      <td>NaN</td>\n",
              "      <td>5000.0</td>\n",
              "      <td>5000.0</td>\n",
              "      <td>4975.0</td>\n",
              "      <td>36 months</td>\n",
              "      <td>10.65%</td>\n",
              "      <td>162.87</td>\n",
              "      <td>B</td>\n",
              "      <td>B2</td>\n",
              "      <td>NaN</td>\n",
              "      <td>10+ years</td>\n",
              "      <td>RENT</td>\n",
              "      <td>24000.0</td>\n",
              "      <td>Verified</td>\n",
              "      <td>Dec-11</td>\n",
              "      <td>Fully Paid</td>\n",
              "      <td>n</td>\n",
              "      <td>NaN</td>\n",
              "      <td>Borrower added on 12/22/11 &gt; I need to upgra...</td>\n",
              "      <td>credit_card</td>\n",
              "      <td>Computer</td>\n",
              "      <td>860xx</td>\n",
              "      <td>AZ</td>\n",
              "      <td>27.65</td>\n",
              "      <td>0.0</td>\n",
              "      <td>Jan-85</td>\n",
              "      <td>1.0</td>\n",
              "      <td>NaN</td>\n",
              "      <td>NaN</td>\n",
              "      <td>3.0</td>\n",
              "      <td>0.0</td>\n",
              "      <td>13648.0</td>\n",
              "      <td>83.70%</td>\n",
              "      <td>9.0</td>\n",
              "      <td>f</td>\n",
              "      <td>0.0</td>\n",
              "      <td>0.0</td>\n",
              "      <td>5863.155187</td>\n",
              "      <td>5833.84</td>\n",
              "      <td>...</td>\n",
              "      <td>0.0</td>\n",
              "      <td>0.0</td>\n",
              "      <td>NaN</td>\n",
              "      <td>NaN</td>\n",
              "      <td>NaN</td>\n",
              "      <td>NaN</td>\n",
              "      <td>NaN</td>\n",
              "      <td>NaN</td>\n",
              "      <td>NaN</td>\n",
              "      <td>NaN</td>\n",
              "      <td>NaN</td>\n",
              "      <td>NaN</td>\n",
              "      <td>NaN</td>\n",
              "      <td>NaN</td>\n",
              "      <td>NaN</td>\n",
              "      <td>NaN</td>\n",
              "      <td>NaN</td>\n",
              "      <td>N</td>\n",
              "      <td>NaN</td>\n",
              "      <td>NaN</td>\n",
              "      <td>NaN</td>\n",
              "      <td>NaN</td>\n",
              "      <td>NaN</td>\n",
              "      <td>NaN</td>\n",
              "      <td>NaN</td>\n",
              "      <td>NaN</td>\n",
              "      <td>NaN</td>\n",
              "      <td>NaN</td>\n",
              "      <td>NaN</td>\n",
              "      <td>NaN</td>\n",
              "      <td>NaN</td>\n",
              "      <td>NaN</td>\n",
              "      <td>Cash</td>\n",
              "      <td>N</td>\n",
              "      <td>NaN</td>\n",
              "      <td>NaN</td>\n",
              "      <td>NaN</td>\n",
              "      <td>NaN</td>\n",
              "      <td>NaN</td>\n",
              "      <td>NaN</td>\n",
              "    </tr>\n",
              "    <tr>\n",
              "      <th>1</th>\n",
              "      <td>NaN</td>\n",
              "      <td>NaN</td>\n",
              "      <td>2500.0</td>\n",
              "      <td>2500.0</td>\n",
              "      <td>2500.0</td>\n",
              "      <td>60 months</td>\n",
              "      <td>15.27%</td>\n",
              "      <td>59.83</td>\n",
              "      <td>C</td>\n",
              "      <td>C4</td>\n",
              "      <td>Ryder</td>\n",
              "      <td>&lt; 1 year</td>\n",
              "      <td>RENT</td>\n",
              "      <td>30000.0</td>\n",
              "      <td>Source Verified</td>\n",
              "      <td>Dec-11</td>\n",
              "      <td>Charged Off</td>\n",
              "      <td>n</td>\n",
              "      <td>NaN</td>\n",
              "      <td>Borrower added on 12/22/11 &gt; I plan to use t...</td>\n",
              "      <td>car</td>\n",
              "      <td>bike</td>\n",
              "      <td>309xx</td>\n",
              "      <td>GA</td>\n",
              "      <td>1.00</td>\n",
              "      <td>0.0</td>\n",
              "      <td>Apr-99</td>\n",
              "      <td>5.0</td>\n",
              "      <td>NaN</td>\n",
              "      <td>NaN</td>\n",
              "      <td>3.0</td>\n",
              "      <td>0.0</td>\n",
              "      <td>1687.0</td>\n",
              "      <td>9.40%</td>\n",
              "      <td>4.0</td>\n",
              "      <td>f</td>\n",
              "      <td>0.0</td>\n",
              "      <td>0.0</td>\n",
              "      <td>1014.530000</td>\n",
              "      <td>1014.53</td>\n",
              "      <td>...</td>\n",
              "      <td>0.0</td>\n",
              "      <td>0.0</td>\n",
              "      <td>NaN</td>\n",
              "      <td>NaN</td>\n",
              "      <td>NaN</td>\n",
              "      <td>NaN</td>\n",
              "      <td>NaN</td>\n",
              "      <td>NaN</td>\n",
              "      <td>NaN</td>\n",
              "      <td>NaN</td>\n",
              "      <td>NaN</td>\n",
              "      <td>NaN</td>\n",
              "      <td>NaN</td>\n",
              "      <td>NaN</td>\n",
              "      <td>NaN</td>\n",
              "      <td>NaN</td>\n",
              "      <td>NaN</td>\n",
              "      <td>N</td>\n",
              "      <td>NaN</td>\n",
              "      <td>NaN</td>\n",
              "      <td>NaN</td>\n",
              "      <td>NaN</td>\n",
              "      <td>NaN</td>\n",
              "      <td>NaN</td>\n",
              "      <td>NaN</td>\n",
              "      <td>NaN</td>\n",
              "      <td>NaN</td>\n",
              "      <td>NaN</td>\n",
              "      <td>NaN</td>\n",
              "      <td>NaN</td>\n",
              "      <td>NaN</td>\n",
              "      <td>NaN</td>\n",
              "      <td>Cash</td>\n",
              "      <td>N</td>\n",
              "      <td>NaN</td>\n",
              "      <td>NaN</td>\n",
              "      <td>NaN</td>\n",
              "      <td>NaN</td>\n",
              "      <td>NaN</td>\n",
              "      <td>NaN</td>\n",
              "    </tr>\n",
              "  </tbody>\n",
              "</table>\n",
              "<p>2 rows × 145 columns</p>\n",
              "</div>"
            ],
            "text/plain": [
              "    id  member_id  ...  settlement_percentage  settlement_term\n",
              "0  NaN        NaN  ...                    NaN              NaN\n",
              "1  NaN        NaN  ...                    NaN              NaN\n",
              "\n",
              "[2 rows x 145 columns]"
            ]
          },
          "metadata": {
            "tags": []
          },
          "execution_count": 2
        }
      ]
    },
    {
      "cell_type": "code",
      "metadata": {
        "id": "5rsHpm-JUXRq",
        "outputId": "73cb2581-9254-4064-b6b8-01368c143818",
        "colab": {
          "base_uri": "https://localhost:8080/",
          "height": 153
        }
      },
      "source": [
        "data_a.grade.value_counts()"
      ],
      "execution_count": 13,
      "outputs": [
        {
          "output_type": "execute_result",
          "data": {
            "text/plain": [
              "B    12389\n",
              "A    10183\n",
              "C     8740\n",
              "D     6016\n",
              "E     3394\n",
              "F     1301\n",
              "G      512\n",
              "Name: grade, dtype: int64"
            ]
          },
          "metadata": {
            "tags": []
          },
          "execution_count": 13
        }
      ]
    },
    {
      "cell_type": "code",
      "metadata": {
        "id": "5OpBKqLLPIP7",
        "outputId": "613ea2e8-82a6-466f-f766-a729b4ded83e",
        "colab": {
          "base_uri": "https://localhost:8080/",
          "height": 153
        }
      },
      "source": [
        "columnsToKeep = ['loan_amnt','funded_amnt','funded_amnt_inv','term', \\\n",
        "'int_rate','installment', \\\n",
        "'emp_length','home_ownership','annual_inc', \\\n",
        "'verification_status','pymnt_plan','purpose', \\\n",
        "'addr_state','dti','delinq_2yrs','earliest_cr_line', \\\n",
        "'mths_since_last_delinq','mths_since_last_record', \\\n",
        "'open_acc','pub_rec','revol_bal','revol_util', \\\n",
        "'total_acc','initial_list_status','out_prncp', \\\n",
        "'out_prncp_inv','total_pymnt','total_pymnt_inv', \\\n",
        "'total_rec_prncp','total_rec_int','total_rec_late_fee',\n",
        "\\\n",
        "'recoveries','collection_recovery_fee','last_pymnt_d', \\\n",
        "'last_pymnt_amnt','loan_status','grade','sub_grade']\n",
        "data = data_a.loc[:,columnsToKeep]\n",
        "print(data.shape)\n",
        "# Transform features from string to numeric\n",
        "for i in [\"term\",\"int_rate\",\"emp_length\",\"revol_util\"]:\n",
        "  data.loc[:,i] = data.loc[:,i].apply(lambda x: re.sub(\"[^0-9]\", \"\", str(x)))\n",
        "  data.loc[:,i] = pd.to_numeric(data.loc[:,i])\n",
        "print(data['last_pymnt_d'].head())\n",
        "data.drop(columns='last_pymnt_d',inplace=True) \n",
        "# drop due to format is hard to change: jun-15\n",
        "data.drop(columns=['mths_since_last_delinq','mths_since_last_record'],inplace=True)\n",
        "# drop due to very large null\n",
        "data.dropna(inplace=True)\n",
        "# drop others due to small, no need to impute\n",
        "data.drop(columns='earliest_cr_line',inplace=True) \n",
        "# drop due to format is hard to change: jun-15\n",
        "X=data.drop(columns='grade')\n",
        "y=data['grade']\n",
        "print(X.shape,y.shape)"
      ],
      "execution_count": 3,
      "outputs": [
        {
          "output_type": "stream",
          "text": [
            "(42542, 38)\n",
            "0    Jan-15\n",
            "1    Apr-13\n",
            "2    Jun-14\n",
            "3    Jan-15\n",
            "4    Jan-17\n",
            "Name: last_pymnt_d, dtype: object\n",
            "(41336, 33) (41336,)\n"
          ],
          "name": "stdout"
        }
      ]
    },
    {
      "cell_type": "code",
      "metadata": {
        "id": "UrW4QPDaPWGT"
      },
      "source": [
        "X.drop(columns=['pymnt_plan','initial_list_status'],inplace=True)\n",
        "# drop due to only 1 value\n",
        "X.drop(columns='sub_grade',inplace=True)\n",
        "one_hot_encoder=X.select_dtypes(include='object').columns\n",
        "data_dummy=pd.get_dummies(X.loc[:,one_hot_encoder])\n",
        "data_dummy=data_dummy.astype('int64')\n",
        "X.drop(columns=one_hot_encoder,inplace=True)\n",
        "X=pd.concat([data_dummy,X,],axis=1)\n",
        "lab=LabelEncoder()\n",
        "y=lab.fit_transform(y)"
      ],
      "execution_count": 4,
      "outputs": []
    },
    {
      "cell_type": "code",
      "metadata": {
        "id": "exJ9sjoVPuQD"
      },
      "source": [
        "# Split into train+val and test\n",
        "X_trainval, X_test, y_trainval, y_test = train_test_split(X, y, test_size=0.2, stratify=y, random_state=69)\n",
        "\n",
        "# Split train into train-val\n",
        "X_train, X_val, y_train, y_val = train_test_split(X_trainval, y_trainval, test_size=0.1, stratify=y_trainval, random_state=21)\n",
        "\n",
        "scaler = StandardScaler()\n",
        "X_train = scaler.fit_transform(X_train)\n",
        "X_val = scaler.transform(X_val)\n",
        "X_test = scaler.transform(X_test)\n",
        "\n",
        "X_train, y_train = np.array(X_train), np.array(y_train)\n",
        "X_val, y_val = np.array(X_val), np.array(y_val)\n",
        "X_test, y_test = np.array(X_test), np.array(y_test)"
      ],
      "execution_count": 5,
      "outputs": []
    },
    {
      "cell_type": "code",
      "metadata": {
        "id": "fc8bYJfLQy-q",
        "outputId": "9ce41408-245c-4596-f222-7f2e5bca7f33",
        "colab": {
          "base_uri": "https://localhost:8080/",
          "height": 34
        }
      },
      "source": [
        "X_train.shape,y_train.shape"
      ],
      "execution_count": 6,
      "outputs": [
        {
          "output_type": "execute_result",
          "data": {
            "text/plain": [
              "((29761, 101), (29761,))"
            ]
          },
          "metadata": {
            "tags": []
          },
          "execution_count": 6
        }
      ]
    },
    {
      "cell_type": "markdown",
      "metadata": {
        "id": "Dh2qj1ErQvcH"
      },
      "source": [
        "## Benchmark"
      ]
    },
    {
      "cell_type": "code",
      "metadata": {
        "id": "QodSfCwCQM30",
        "outputId": "cd54a4ab-bbb6-415a-d17b-7021f2027ca3",
        "colab": {
          "base_uri": "https://localhost:8080/",
          "height": 340
        }
      },
      "source": [
        "%%time\n",
        "model=XGBClassifier(random_state=42)\n",
        "model.fit(X_train, y_train)\n",
        "# estimate accuracy on validation dataset\n",
        "y_predict = model.predict(X_test)\n",
        "#y_pred_probs = model.predict_proba(X_test_tran)\n",
        "print('balanced_accuracy_score: \\n',balanced_accuracy_score(y_test, y_predict))\n",
        "print('classification_report \\n',classification_report(y_test, y_predict))"
      ],
      "execution_count": 38,
      "outputs": [
        {
          "output_type": "stream",
          "text": [
            "balanced_accuracy_score: \n",
            " 0.8439090855471865\n",
            "classification_report \n",
            "               precision    recall  f1-score   support\n",
            "\n",
            "           0       0.99      0.99      0.99      1956\n",
            "           1       0.96      0.99      0.98      2407\n",
            "           2       0.93      0.95      0.94      1708\n",
            "           3       0.85      0.91      0.88      1175\n",
            "           4       0.86      0.74      0.80       666\n",
            "           5       0.87      0.63      0.73       255\n",
            "           6       0.92      0.69      0.79       101\n",
            "\n",
            "    accuracy                           0.94      8268\n",
            "   macro avg       0.91      0.84      0.87      8268\n",
            "weighted avg       0.94      0.94      0.93      8268\n",
            "\n",
            "CPU times: user 49.2 s, sys: 32.3 ms, total: 49.2 s\n",
            "Wall time: 49.3 s\n"
          ],
          "name": "stdout"
        }
      ]
    },
    {
      "cell_type": "code",
      "metadata": {
        "id": "B6R51l2TTIHc",
        "outputId": "04d1bbc9-52fb-4949-d703-c679d756f3da",
        "colab": {
          "base_uri": "https://localhost:8080/",
          "height": 340
        }
      },
      "source": [
        "%%time\n",
        "model=LGBMClassifier(random_state=42)\n",
        "model.fit(X_train, y_train)\n",
        "# estimate accuracy on validation dataset\n",
        "y_predict = model.predict(X_test)\n",
        "#y_pred_probs = model.predict_proba(X_test_tran)\n",
        "print('balanced_accuracy_score: \\n',balanced_accuracy_score(y_test, y_predict))\n",
        "print('classification_report \\n',classification_report(y_test, y_predict))"
      ],
      "execution_count": 39,
      "outputs": [
        {
          "output_type": "stream",
          "text": [
            "balanced_accuracy_score: \n",
            " 0.9121630575810187\n",
            "classification_report \n",
            "               precision    recall  f1-score   support\n",
            "\n",
            "           0       1.00      0.99      0.99      1956\n",
            "           1       0.99      0.99      0.99      2407\n",
            "           2       0.98      0.98      0.98      1708\n",
            "           3       0.91      0.95      0.93      1175\n",
            "           4       0.90      0.86      0.88       666\n",
            "           5       0.88      0.79      0.83       255\n",
            "           6       0.95      0.81      0.88       101\n",
            "\n",
            "    accuracy                           0.97      8268\n",
            "   macro avg       0.94      0.91      0.93      8268\n",
            "weighted avg       0.97      0.97      0.97      8268\n",
            "\n",
            "CPU times: user 14.7 s, sys: 69.8 ms, total: 14.7 s\n",
            "Wall time: 14.8 s\n"
          ],
          "name": "stdout"
        }
      ]
    },
    {
      "cell_type": "markdown",
      "metadata": {
        "id": "fCiyml56TP4D"
      },
      "source": [
        "## Neural net"
      ]
    },
    {
      "cell_type": "code",
      "metadata": {
        "id": "KaHTcAk-RTQN"
      },
      "source": [
        "class ClassifierDataset(Dataset):\n",
        "    \n",
        "    def __init__(self, X_data, y_data):\n",
        "        self.X_data = X_data\n",
        "        self.y_data = y_data\n",
        "        \n",
        "    def __getitem__(self, index):\n",
        "        return self.X_data[index], self.y_data[index]\n",
        "        \n",
        "    def __len__ (self):\n",
        "        return len(self.X_data)\n",
        "\n",
        "train_dataset = ClassifierDataset(torch.from_numpy(X_train).float(), torch.from_numpy(y_train).long())\n",
        "val_dataset = ClassifierDataset(torch.from_numpy(X_val).float(), torch.from_numpy(y_val).long())\n",
        "test_dataset = ClassifierDataset(torch.from_numpy(X_test).float(), torch.from_numpy(y_test).long())"
      ],
      "execution_count": 10,
      "outputs": []
    },
    {
      "cell_type": "code",
      "metadata": {
        "id": "feEg3gG5Teti",
        "outputId": "f89c7587-ec11-4f21-995c-77631ff55f75",
        "colab": {
          "base_uri": "https://localhost:8080/",
          "height": 51
        }
      },
      "source": [
        "#First, we obtain a list called target_list which contains all our outputs.\n",
        "#This list is then converted to a tensor and shuffled.\n",
        "target_list = []\n",
        "for _, t in train_dataset:\n",
        "    target_list.append(t)\n",
        "    \n",
        "target_list = torch.tensor(target_list)\n",
        "target_list = target_list[torch.randperm(len(target_list))]\n",
        "print(target_list.shape)\n",
        "target_list"
      ],
      "execution_count": 11,
      "outputs": [
        {
          "output_type": "stream",
          "text": [
            "torch.Size([29761])\n"
          ],
          "name": "stdout"
        },
        {
          "output_type": "execute_result",
          "data": {
            "text/plain": [
              "tensor([2, 1, 1,  ..., 2, 0, 1])"
            ]
          },
          "metadata": {
            "tags": []
          },
          "execution_count": 11
        }
      ]
    },
    {
      "cell_type": "code",
      "metadata": {
        "id": "hwG16d0wVFTz",
        "outputId": "1f2154b6-fe18-4a7c-f168-c648e76eca48",
        "colab": {
          "base_uri": "https://localhost:8080/",
          "height": 34
        }
      },
      "source": [
        "list(lab.classes_)"
      ],
      "execution_count": 21,
      "outputs": [
        {
          "output_type": "execute_result",
          "data": {
            "text/plain": [
              "['A', 'B', 'C', 'D', 'E', 'F', 'G']"
            ]
          },
          "metadata": {
            "tags": []
          },
          "execution_count": 21
        }
      ]
    },
    {
      "cell_type": "code",
      "metadata": {
        "id": "9IS3NqIiVRHN",
        "outputId": "225bb2fa-ece8-442c-d7c5-893e3e03d155",
        "colab": {
          "base_uri": "https://localhost:8080/",
          "height": 34
        }
      },
      "source": [
        "list(lab.inverse_transform([2, 2, 1]))"
      ],
      "execution_count": 23,
      "outputs": [
        {
          "output_type": "execute_result",
          "data": {
            "text/plain": [
              "['C', 'C', 'B']"
            ]
          },
          "metadata": {
            "tags": []
          },
          "execution_count": 23
        }
      ]
    },
    {
      "cell_type": "code",
      "metadata": {
        "id": "Q2IU0FHlTp7C",
        "outputId": "40d7b6a8-4897-4e6e-fdd0-831f2ad951da",
        "colab": {
          "base_uri": "https://localhost:8080/",
          "height": 34
        }
      },
      "source": [
        "class_count=list(pd.Series(y_train).value_counts().sort_index())\n",
        "class_count"
      ],
      "execution_count": 26,
      "outputs": [
        {
          "output_type": "execute_result",
          "data": {
            "text/plain": [
              "[7040, 8662, 6148, 4231, 2399, 916, 365]"
            ]
          },
          "metadata": {
            "tags": []
          },
          "execution_count": 26
        }
      ]
    },
    {
      "cell_type": "code",
      "metadata": {
        "id": "lEURuMszUswB",
        "outputId": "6246a29a-d102-4f48-a1f1-51e7e679aa8b",
        "colab": {
          "base_uri": "https://localhost:8080/",
          "height": 34
        }
      },
      "source": [
        "class_weights = 1./torch.tensor(class_count, dtype=torch.float) \n",
        "print(class_weights)"
      ],
      "execution_count": 27,
      "outputs": [
        {
          "output_type": "stream",
          "text": [
            "tensor([0.0001, 0.0001, 0.0002, 0.0002, 0.0004, 0.0011, 0.0027])\n"
          ],
          "name": "stdout"
        }
      ]
    },
    {
      "cell_type": "code",
      "metadata": {
        "id": "y7eHzEK8Vvfq",
        "outputId": "9ffcbda2-458e-4840-cf29-74738443c69c",
        "colab": {
          "base_uri": "https://localhost:8080/",
          "height": 51
        }
      },
      "source": [
        "#WeightedRandomSampler expects a weight for each sample. We do that using as follows.\n",
        "class_weights_all = class_weights[target_list]\n",
        "print(class_weights_all.shape)\n",
        "class_weights_all"
      ],
      "execution_count": 28,
      "outputs": [
        {
          "output_type": "stream",
          "text": [
            "torch.Size([29761])\n"
          ],
          "name": "stdout"
        },
        {
          "output_type": "execute_result",
          "data": {
            "text/plain": [
              "tensor([0.0002, 0.0001, 0.0001,  ..., 0.0002, 0.0001, 0.0001])"
            ]
          },
          "metadata": {
            "tags": []
          },
          "execution_count": 28
        }
      ]
    },
    {
      "cell_type": "code",
      "metadata": {
        "id": "IUWYcvXtWGm4",
        "outputId": "f4e4b346-0895-4390-9508-9c400dd35795",
        "colab": {
          "base_uri": "https://localhost:8080/",
          "height": 34
        }
      },
      "source": [
        "weighted_sampler = WeightedRandomSampler(\n",
        "    weights=class_weights_all,\n",
        "    num_samples=len(class_weights_all),\n",
        "    replacement=True\n",
        ")\n",
        "weighted_sampler"
      ],
      "execution_count": 29,
      "outputs": [
        {
          "output_type": "execute_result",
          "data": {
            "text/plain": [
              "<torch.utils.data.sampler.WeightedRandomSampler at 0x7f5ed414a940>"
            ]
          },
          "metadata": {
            "tags": []
          },
          "execution_count": 29
        }
      ]
    },
    {
      "cell_type": "code",
      "metadata": {
        "id": "dOwdl_HxWVik"
      },
      "source": [
        "EPOCHS = 25\n",
        "BATCH_SIZE = 300\n",
        "LEARNING_RATE = 0.0007\n",
        "NUM_FEATURES = len(X.columns)\n",
        "NUM_CLASSES = len(class_count)"
      ],
      "execution_count": 49,
      "outputs": []
    },
    {
      "cell_type": "code",
      "metadata": {
        "id": "fXs81xz-Wap6"
      },
      "source": [
        "train_loader = DataLoader(dataset=train_dataset,\n",
        "                          batch_size=BATCH_SIZE,\n",
        "                          sampler=weighted_sampler\n",
        "                          )\n",
        "val_loader = DataLoader(dataset=val_dataset, batch_size=1)\n",
        "test_loader = DataLoader(dataset=test_dataset, batch_size=1)"
      ],
      "execution_count": 50,
      "outputs": []
    },
    {
      "cell_type": "code",
      "metadata": {
        "id": "4u2lBXAJWcqV"
      },
      "source": [
        "class MulticlassClassification(nn.Module):\n",
        "    def __init__(self, num_feature, num_class):\n",
        "        super(MulticlassClassification, self).__init__()\n",
        "        \n",
        "        self.layer_1 = nn.Linear(num_feature, 512)\n",
        "        self.layer_2 = nn.Linear(512, 128)\n",
        "        self.layer_3 = nn.Linear(128, 64)\n",
        "        self.layer_out = nn.Linear(64, num_class) \n",
        "        \n",
        "        self.relu = nn.ReLU()\n",
        "        self.dropout = nn.Dropout(p=0.2)\n",
        "        self.batchnorm1 = nn.BatchNorm1d(512)\n",
        "        self.batchnorm2 = nn.BatchNorm1d(128)\n",
        "        self.batchnorm3 = nn.BatchNorm1d(64)\n",
        "        \n",
        "    def forward(self, x):\n",
        "        x = self.layer_1(x)\n",
        "        x = self.batchnorm1(x)\n",
        "        x = self.relu(x)\n",
        "        \n",
        "        x = self.layer_2(x)\n",
        "        x = self.batchnorm2(x)\n",
        "        x = self.relu(x)\n",
        "        x = self.dropout(x)\n",
        "        \n",
        "        x = self.layer_3(x)\n",
        "        x = self.batchnorm3(x)\n",
        "        x = self.relu(x)\n",
        "        x = self.dropout(x)\n",
        "        \n",
        "        x = self.layer_out(x)\n",
        "        \n",
        "        return x"
      ],
      "execution_count": 51,
      "outputs": []
    },
    {
      "cell_type": "code",
      "metadata": {
        "id": "lumXJRr3WiCD",
        "outputId": "7e63454d-cdc4-4908-80de-a3c5cb70efe1",
        "colab": {
          "base_uri": "https://localhost:8080/",
          "height": 241
        }
      },
      "source": [
        "device = torch.device(\"cuda:0\" if torch.cuda.is_available() else \"cpu\")\n",
        "print(device)\n",
        "model = MulticlassClassification(num_feature = NUM_FEATURES, num_class=NUM_CLASSES)\n",
        "model.to(device)\n",
        "\n",
        "criterion = nn.CrossEntropyLoss(weight=class_weights.to(device))\n",
        "optimizer = optim.Adam(model.parameters(), lr=LEARNING_RATE)\n",
        "print(model)"
      ],
      "execution_count": 52,
      "outputs": [
        {
          "output_type": "stream",
          "text": [
            "cpu\n",
            "MulticlassClassification(\n",
            "  (layer_1): Linear(in_features=101, out_features=512, bias=True)\n",
            "  (layer_2): Linear(in_features=512, out_features=128, bias=True)\n",
            "  (layer_3): Linear(in_features=128, out_features=64, bias=True)\n",
            "  (layer_out): Linear(in_features=64, out_features=7, bias=True)\n",
            "  (relu): ReLU()\n",
            "  (dropout): Dropout(p=0.2, inplace=False)\n",
            "  (batchnorm1): BatchNorm1d(512, eps=1e-05, momentum=0.1, affine=True, track_running_stats=True)\n",
            "  (batchnorm2): BatchNorm1d(128, eps=1e-05, momentum=0.1, affine=True, track_running_stats=True)\n",
            "  (batchnorm3): BatchNorm1d(64, eps=1e-05, momentum=0.1, affine=True, track_running_stats=True)\n",
            ")\n"
          ],
          "name": "stdout"
        }
      ]
    },
    {
      "cell_type": "code",
      "metadata": {
        "id": "EER7QN7lWic2"
      },
      "source": [
        "def multi_acc(y_pred, y_test):\n",
        "    y_pred_softmax = torch.log_softmax(y_pred, dim = 1)\n",
        "    _, y_pred_tags = torch.max(y_pred_softmax, dim = 1)    \n",
        "    \n",
        "    correct_pred = (y_pred_tags == y_test).float()\n",
        "    acc = correct_pred.sum() / len(correct_pred)\n",
        "    \n",
        "    acc = torch.round(acc) * 100\n",
        "    \n",
        "    return acc"
      ],
      "execution_count": 53,
      "outputs": []
    },
    {
      "cell_type": "code",
      "metadata": {
        "id": "MFvXJ3oZWuhl"
      },
      "source": [
        "accuracy_stats = {\n",
        "    'train': [],\n",
        "    \"val\": []\n",
        "}\n",
        "loss_stats = {\n",
        "    'train': [],\n",
        "    \"val\": []\n",
        "}"
      ],
      "execution_count": 54,
      "outputs": []
    },
    {
      "cell_type": "code",
      "metadata": {
        "id": "8yZ-OXHEWvSE",
        "outputId": "2c9fe7b8-758a-442b-c848-bd80005184be",
        "colab": {
          "base_uri": "https://localhost:8080/",
          "height": 508,
          "referenced_widgets": [
            "166b6e41193342eeb677c6953dd1d1a2",
            "b1bc1f1336d344bf94188a9d97db28e7",
            "6ad94e73c42d4b92a785688bdddef5e4",
            "6d241c94db214232ab108013c9431693",
            "bf3d16462949420e8548a7ac0eac7683",
            "e9e34a38c7264492accb21e9f56206b8",
            "e55fae765e954c2e8c44d7aa40161310",
            "cb174a151d7b43cd90a99abe2092ad8e"
          ]
        }
      },
      "source": [
        "print(\"Begin training.\")\n",
        "for e in tqdm(range(1, EPOCHS+1)):\n",
        "    \n",
        "    # TRAINING\n",
        "    train_epoch_loss = 0\n",
        "    train_epoch_acc = 0\n",
        "    model.train()\n",
        "    for X_train_batch, y_train_batch in train_loader:\n",
        "        X_train_batch, y_train_batch = X_train_batch.to(device), y_train_batch.to(device)\n",
        "        optimizer.zero_grad()\n",
        "        \n",
        "        y_train_pred = model(X_train_batch)\n",
        "        \n",
        "        train_loss = criterion(y_train_pred, y_train_batch)\n",
        "        train_acc = multi_acc(y_train_pred, y_train_batch)\n",
        "        \n",
        "        train_loss.backward()\n",
        "        optimizer.step()\n",
        "        \n",
        "        train_epoch_loss += train_loss.item()\n",
        "        train_epoch_acc += train_acc.item()\n",
        "        \n",
        "        \n",
        "    # VALIDATION    \n",
        "    with torch.no_grad():\n",
        "        \n",
        "        val_epoch_loss = 0\n",
        "        val_epoch_acc = 0\n",
        "        \n",
        "        model.eval()\n",
        "        for X_val_batch, y_val_batch in val_loader:\n",
        "            X_val_batch, y_val_batch = X_val_batch.to(device), y_val_batch.to(device)\n",
        "            \n",
        "            y_val_pred = model(X_val_batch)\n",
        "                        \n",
        "            val_loss = criterion(y_val_pred, y_val_batch)\n",
        "            val_acc = multi_acc(y_val_pred, y_val_batch)\n",
        "            \n",
        "            val_epoch_loss += val_loss.item()\n",
        "            val_epoch_acc += val_acc.item()\n",
        "    loss_stats['train'].append(train_epoch_loss/len(train_loader))\n",
        "    loss_stats['val'].append(val_epoch_loss/len(val_loader))\n",
        "    accuracy_stats['train'].append(train_epoch_acc/len(train_loader))\n",
        "    accuracy_stats['val'].append(val_epoch_acc/len(val_loader))\n",
        "                              \n",
        "    \n",
        "    print(f'Epoch {e+0:03}: | Train Loss: {train_epoch_loss/len(train_loader):.5f} | Val Loss: {val_epoch_loss/len(val_loader):.5f} | Train Acc: {train_epoch_acc/len(train_loader):.3f}| Val Acc: {val_epoch_acc/len(val_loader):.3f}')"
      ],
      "execution_count": 55,
      "outputs": [
        {
          "output_type": "stream",
          "text": [
            "Begin training.\n"
          ],
          "name": "stdout"
        },
        {
          "output_type": "display_data",
          "data": {
            "application/vnd.jupyter.widget-view+json": {
              "model_id": "166b6e41193342eeb677c6953dd1d1a2",
              "version_minor": 0,
              "version_major": 2
            },
            "text/plain": [
              "HBox(children=(FloatProgress(value=0.0, max=25.0), HTML(value='')))"
            ]
          },
          "metadata": {
            "tags": []
          }
        },
        {
          "output_type": "stream",
          "text": [
            "Epoch 001: | Train Loss: 1.43908 | Val Loss: 1.11576 | Train Acc: 33.000| Val Acc: 57.877\n",
            "Epoch 002: | Train Loss: 0.94785 | Val Loss: 0.71228 | Train Acc: 100.000| Val Acc: 74.660\n",
            "Epoch 003: | Train Loss: 0.73251 | Val Loss: 0.59339 | Train Acc: 100.000| Val Acc: 76.807\n",
            "Epoch 004: | Train Loss: 0.64243 | Val Loss: 0.51184 | Train Acc: 100.000| Val Acc: 79.044\n",
            "Epoch 005: | Train Loss: 0.56760 | Val Loss: 0.49298 | Train Acc: 100.000| Val Acc: 78.984\n",
            "Epoch 006: | Train Loss: 0.53025 | Val Loss: 0.47512 | Train Acc: 100.000| Val Acc: 79.952\n",
            "Epoch 007: | Train Loss: 0.49988 | Val Loss: 0.46647 | Train Acc: 100.000| Val Acc: 79.831\n",
            "Epoch 008: | Train Loss: 0.49482 | Val Loss: 0.46758 | Train Acc: 100.000| Val Acc: 79.528\n",
            "Epoch 009: | Train Loss: 0.44624 | Val Loss: 0.45539 | Train Acc: 100.000| Val Acc: 79.800\n",
            "Epoch 010: | Train Loss: 0.43492 | Val Loss: 0.48577 | Train Acc: 100.000| Val Acc: 79.468\n",
            "Epoch 011: | Train Loss: 0.42731 | Val Loss: 0.46458 | Train Acc: 100.000| Val Acc: 79.649\n",
            "Epoch 012: | Train Loss: 0.41471 | Val Loss: 0.45154 | Train Acc: 100.000| Val Acc: 80.647\n",
            "Epoch 013: | Train Loss: 0.39344 | Val Loss: 0.46506 | Train Acc: 100.000| Val Acc: 80.980\n",
            "Epoch 014: | Train Loss: 0.37679 | Val Loss: 0.49391 | Train Acc: 100.000| Val Acc: 79.740\n",
            "Epoch 015: | Train Loss: 0.36130 | Val Loss: 0.50492 | Train Acc: 100.000| Val Acc: 78.803\n",
            "Epoch 016: | Train Loss: 0.35920 | Val Loss: 0.46776 | Train Acc: 99.000| Val Acc: 81.040\n",
            "Epoch 017: | Train Loss: 0.34581 | Val Loss: 0.47844 | Train Acc: 100.000| Val Acc: 80.768\n",
            "Epoch 018: | Train Loss: 0.33418 | Val Loss: 0.48524 | Train Acc: 100.000| Val Acc: 80.435\n",
            "Epoch 019: | Train Loss: 0.32972 | Val Loss: 0.50001 | Train Acc: 100.000| Val Acc: 79.952\n",
            "Epoch 020: | Train Loss: 0.31424 | Val Loss: 0.48716 | Train Acc: 100.000| Val Acc: 81.040\n",
            "Epoch 021: | Train Loss: 0.30667 | Val Loss: 0.48727 | Train Acc: 100.000| Val Acc: 81.222\n",
            "Epoch 022: | Train Loss: 0.28473 | Val Loss: 0.49941 | Train Acc: 100.000| Val Acc: 80.617\n",
            "Epoch 023: | Train Loss: 0.29135 | Val Loss: 0.51773 | Train Acc: 100.000| Val Acc: 80.224\n",
            "Epoch 024: | Train Loss: 0.28567 | Val Loss: 0.51388 | Train Acc: 100.000| Val Acc: 80.163\n",
            "Epoch 025: | Train Loss: 0.27504 | Val Loss: 0.50906 | Train Acc: 100.000| Val Acc: 80.405\n",
            "\n"
          ],
          "name": "stdout"
        }
      ]
    },
    {
      "cell_type": "code",
      "metadata": {
        "id": "CszVBrV0WwwS",
        "outputId": "e4901dd9-73c3-4d3a-8393-4aa149d2a11c",
        "colab": {
          "base_uri": "https://localhost:8080/",
          "height": 335
        }
      },
      "source": [
        "# Create dataframes\n",
        "train_val_acc_df = pd.DataFrame.from_dict(accuracy_stats).reset_index().melt(id_vars=['index']).rename(columns={\"index\":\"epochs\"})\n",
        "train_val_loss_df = pd.DataFrame.from_dict(loss_stats).reset_index().melt(id_vars=['index']).rename(columns={\"index\":\"epochs\"})\n",
        "# Plot the dataframes\n",
        "fig, axes = plt.subplots(nrows=1, ncols=2, figsize=(20,7))\n",
        "sns.lineplot(data=train_val_acc_df, x = \"epochs\", y=\"value\", hue=\"variable\",  ax=axes[0]).set_title('Train-Val Accuracy/Epoch')\n",
        "sns.lineplot(data=train_val_loss_df, x = \"epochs\", y=\"value\", hue=\"variable\", ax=axes[1]).set_title('Train-Val Loss/Epoch')"
      ],
      "execution_count": 56,
      "outputs": [
        {
          "output_type": "execute_result",
          "data": {
            "text/plain": [
              "Text(0.5, 1.0, 'Train-Val Loss/Epoch')"
            ]
          },
          "metadata": {
            "tags": []
          },
          "execution_count": 56
        },
        {
          "output_type": "display_data",
          "data": {
            "image/png": "[encoded data removed]",
            "text/plain": [
              "<Figure size 1440x504 with 2 Axes>"
            ]
          },
          "metadata": {
            "tags": [],
            "needs_background": "light"
          }
        }
      ]
    },
    {
      "cell_type": "code",
      "metadata": {
        "id": "b73EvpHlZjWM"
      },
      "source": [
        "y_pred_list = []\n",
        "with torch.no_grad():\n",
        "    model.eval()\n",
        "    for X_batch, _ in test_loader:\n",
        "        X_batch = X_batch.to(device)\n",
        "        y_test_pred = model(X_batch)\n",
        "        y_pred_softmax = torch.log_softmax(y_test_pred, dim = 1)\n",
        "        _, y_pred_tags = torch.max(y_pred_softmax, dim = 1)\n",
        "        y_pred_list.append(y_pred_tags.cpu().numpy())\n",
        "y_pred_list = [a.squeeze().tolist() for a in y_pred_list]"
      ],
      "execution_count": 57,
      "outputs": []
    },
    {
      "cell_type": "code",
      "metadata": {
        "id": "kwrW0SfEZe1-",
        "outputId": "7da31981-1c9c-44ca-ceed-3f2d3545e7c0",
        "colab": {
          "base_uri": "https://localhost:8080/",
          "height": 306
        }
      },
      "source": [
        "print('balanced_accuracy_score: \\n',balanced_accuracy_score(y_test, y_pred_list))\n",
        "print('classification_report \\n',classification_report(y_test, y_pred_list))"
      ],
      "execution_count": 58,
      "outputs": [
        {
          "output_type": "stream",
          "text": [
            "balanced_accuracy_score: \n",
            " 0.6810666049430488\n",
            "classification_report \n",
            "               precision    recall  f1-score   support\n",
            "\n",
            "           0       0.97      0.96      0.96      1956\n",
            "           1       0.92      0.89      0.91      2407\n",
            "           2       0.79      0.81      0.80      1708\n",
            "           3       0.67      0.69      0.68      1175\n",
            "           4       0.54      0.54      0.54       666\n",
            "           5       0.39      0.44      0.41       255\n",
            "           6       0.52      0.44      0.48       101\n",
            "\n",
            "    accuracy                           0.82      8268\n",
            "   macro avg       0.69      0.68      0.68      8268\n",
            "weighted avg       0.82      0.82      0.82      8268\n",
            "\n"
          ],
          "name": "stdout"
        }
      ]
    },
    {
      "cell_type": "markdown",
      "metadata": {
        "id": "UmX2C7yBat2H"
      },
      "source": [
        "## Neural net 2"
      ]
    },
    {
      "cell_type": "code",
      "metadata": {
        "id": "pblMSy5Dbu99"
      },
      "source": [
        "EPOCHS = 100\n",
        "BATCH_SIZE = 300\n",
        "LEARNING_RATE = 0.0007\n",
        "NUM_FEATURES = len(X.columns)\n",
        "NUM_CLASSES = len(class_count)"
      ],
      "execution_count": 63,
      "outputs": []
    },
    {
      "cell_type": "code",
      "metadata": {
        "id": "r73h7Wx-bBbV",
        "outputId": "4e1b5d03-7063-40e2-94d0-43a7eddd1e41",
        "colab": {
          "base_uri": "https://localhost:8080/",
          "height": 173
        }
      },
      "source": [
        "class MulticlassClassification(nn.Module):\n",
        "    def __init__(self, num_feature, num_class):\n",
        "        super(MulticlassClassification, self).__init__()\n",
        "        \n",
        "        self.layer_1 = nn.Linear(num_feature, 20)\n",
        "        self.layer_out = nn.Linear(20, num_class) \n",
        "        \n",
        "        self.relu = nn.ReLU()\n",
        "        self.dropout = nn.Dropout(p=0.2)\n",
        "        self.batchnorm1 = nn.BatchNorm1d(20)\n",
        "\n",
        "        \n",
        "    def forward(self, x):\n",
        "        x = self.layer_1(x)\n",
        "        x = self.batchnorm1(x)\n",
        "        x = self.relu(x)\n",
        "        x = self.dropout(x)\n",
        "        x = self.layer_out(x)\n",
        "        \n",
        "        return x\n",
        "\n",
        "device = torch.device(\"cuda:0\" if torch.cuda.is_available() else \"cpu\")\n",
        "print(device)\n",
        "model = MulticlassClassification(num_feature = NUM_FEATURES, num_class=NUM_CLASSES)\n",
        "model.to(device)\n",
        "\n",
        "criterion = nn.CrossEntropyLoss(weight=class_weights.to(device))\n",
        "optimizer = optim.Adam(model.parameters(), lr=LEARNING_RATE)\n",
        "print(model)\n",
        "\n",
        "def multi_acc(y_pred, y_test):\n",
        "    y_pred_softmax = torch.log_softmax(y_pred, dim = 1)\n",
        "    _, y_pred_tags = torch.max(y_pred_softmax, dim = 1)    \n",
        "    \n",
        "    correct_pred = (y_pred_tags == y_test).float()\n",
        "    acc = correct_pred.sum() / len(correct_pred)\n",
        "    \n",
        "    acc = torch.round(acc) * 100\n",
        "    \n",
        "    return acc"
      ],
      "execution_count": 64,
      "outputs": [
        {
          "output_type": "stream",
          "text": [
            "cpu\n",
            "MulticlassClassification(\n",
            "  (layer_1): Linear(in_features=101, out_features=20, bias=True)\n",
            "  (layer_out): Linear(in_features=20, out_features=7, bias=True)\n",
            "  (relu): ReLU()\n",
            "  (dropout): Dropout(p=0.2, inplace=False)\n",
            "  (batchnorm1): BatchNorm1d(20, eps=1e-05, momentum=0.1, affine=True, track_running_stats=True)\n",
            ")\n"
          ],
          "name": "stdout"
        }
      ]
    },
    {
      "cell_type": "code",
      "metadata": {
        "id": "adK51xYlbIsW",
        "outputId": "40319392-67f1-4c66-e825-fcc15f6af9c4",
        "colab": {
          "base_uri": "https://localhost:8080/",
          "height": 1000,
          "referenced_widgets": [
            "3efe0a23ac3742228fc378210e19f8e1",
            "cb7ba0c7f83a41de87554bf50922ac84",
            "324bf5aadd8f4a87b408a2f8b466c90a",
            "b51516b740ca45939fa8889751c8ec1b",
            "453a3085f7c54b7e9a2040fd8e072185",
            "a71e9e551ce0489f9746fd4044e2499b",
            "ec30fcced44e47cb9fe5e1683f7d5493",
            "3c523303f958483bb2e71cc111dd7665"
          ]
        }
      },
      "source": [
        "accuracy_stats = {\n",
        "    'train': [],\n",
        "    \"val\": []\n",
        "}\n",
        "loss_stats = {\n",
        "    'train': [],\n",
        "    \"val\": []\n",
        "}\n",
        "print(\"Begin training.\")\n",
        "for e in tqdm(range(1, EPOCHS+1)):\n",
        "    \n",
        "    # TRAINING\n",
        "    train_epoch_loss = 0\n",
        "    train_epoch_acc = 0\n",
        "    model.train()\n",
        "    for X_train_batch, y_train_batch in train_loader:\n",
        "        X_train_batch, y_train_batch = X_train_batch.to(device), y_train_batch.to(device)\n",
        "        optimizer.zero_grad()\n",
        "        \n",
        "        y_train_pred = model(X_train_batch)\n",
        "        \n",
        "        train_loss = criterion(y_train_pred, y_train_batch)\n",
        "        train_acc = multi_acc(y_train_pred, y_train_batch)\n",
        "        \n",
        "        train_loss.backward()\n",
        "        optimizer.step()\n",
        "        \n",
        "        train_epoch_loss += train_loss.item()\n",
        "        train_epoch_acc += train_acc.item()\n",
        "        \n",
        "        \n",
        "    # VALIDATION    \n",
        "    with torch.no_grad():\n",
        "        \n",
        "        val_epoch_loss = 0\n",
        "        val_epoch_acc = 0\n",
        "        \n",
        "        model.eval()\n",
        "        for X_val_batch, y_val_batch in val_loader:\n",
        "            X_val_batch, y_val_batch = X_val_batch.to(device), y_val_batch.to(device)\n",
        "            \n",
        "            y_val_pred = model(X_val_batch)\n",
        "                        \n",
        "            val_loss = criterion(y_val_pred, y_val_batch)\n",
        "            val_acc = multi_acc(y_val_pred, y_val_batch)\n",
        "            \n",
        "            val_epoch_loss += val_loss.item()\n",
        "            val_epoch_acc += val_acc.item()\n",
        "    loss_stats['train'].append(train_epoch_loss/len(train_loader))\n",
        "    loss_stats['val'].append(val_epoch_loss/len(val_loader))\n",
        "    accuracy_stats['train'].append(train_epoch_acc/len(train_loader))\n",
        "    accuracy_stats['val'].append(val_epoch_acc/len(val_loader))\n",
        "                              \n",
        "    \n",
        "    print(f'Epoch {e+0:03}: | Train Loss: {train_epoch_loss/len(train_loader):.5f} | Val Loss: {val_epoch_loss/len(val_loader):.5f} | Train Acc: {train_epoch_acc/len(train_loader):.3f}| Val Acc: {val_epoch_acc/len(val_loader):.3f}')"
      ],
      "execution_count": 65,
      "outputs": [
        {
          "output_type": "stream",
          "text": [
            "Begin training.\n"
          ],
          "name": "stdout"
        },
        {
          "output_type": "display_data",
          "data": {
            "application/vnd.jupyter.widget-view+json": {
              "model_id": "3efe0a23ac3742228fc378210e19f8e1",
              "version_minor": 0,
              "version_major": 2
            },
            "text/plain": [
              "HBox(children=(FloatProgress(value=0.0), HTML(value='')))"
            ]
          },
          "metadata": {
            "tags": []
          }
        },
        {
          "output_type": "stream",
          "text": [
            "Epoch 001: | Train Loss: 1.89642 | Val Loss: 1.80272 | Train Acc: 0.000| Val Acc: 31.055\n",
            "Epoch 002: | Train Loss: 1.66952 | Val Loss: 1.58718 | Train Acc: 0.000| Val Acc: 40.187\n",
            "Epoch 003: | Train Loss: 1.48184 | Val Loss: 1.37425 | Train Acc: 1.000| Val Acc: 47.626\n",
            "Epoch 004: | Train Loss: 1.33006 | Val Loss: 1.21748 | Train Acc: 51.000| Val Acc: 55.670\n",
            "Epoch 005: | Train Loss: 1.22555 | Val Loss: 1.09915 | Train Acc: 98.000| Val Acc: 62.292\n",
            "Epoch 006: | Train Loss: 1.15542 | Val Loss: 1.00331 | Train Acc: 100.000| Val Acc: 67.221\n",
            "Epoch 007: | Train Loss: 1.08465 | Val Loss: 0.93401 | Train Acc: 100.000| Val Acc: 69.035\n",
            "Epoch 008: | Train Loss: 1.04164 | Val Loss: 0.86861 | Train Acc: 100.000| Val Acc: 72.815\n",
            "Epoch 009: | Train Loss: 0.99395 | Val Loss: 0.81778 | Train Acc: 100.000| Val Acc: 74.902\n",
            "Epoch 010: | Train Loss: 0.95437 | Val Loss: 0.77690 | Train Acc: 100.000| Val Acc: 75.023\n",
            "Epoch 011: | Train Loss: 0.93458 | Val Loss: 0.74568 | Train Acc: 100.000| Val Acc: 75.627\n",
            "Epoch 012: | Train Loss: 0.90750 | Val Loss: 0.72625 | Train Acc: 100.000| Val Acc: 75.930\n",
            "Epoch 013: | Train Loss: 0.87980 | Val Loss: 0.69069 | Train Acc: 100.000| Val Acc: 76.867\n",
            "Epoch 014: | Train Loss: 0.84766 | Val Loss: 0.66203 | Train Acc: 100.000| Val Acc: 78.349\n",
            "Epoch 015: | Train Loss: 0.83467 | Val Loss: 0.65858 | Train Acc: 100.000| Val Acc: 77.049\n",
            "Epoch 016: | Train Loss: 0.83342 | Val Loss: 0.61761 | Train Acc: 100.000| Val Acc: 79.165\n",
            "Epoch 017: | Train Loss: 0.81142 | Val Loss: 0.60390 | Train Acc: 100.000| Val Acc: 79.286\n",
            "Epoch 018: | Train Loss: 0.79699 | Val Loss: 0.58489 | Train Acc: 100.000| Val Acc: 79.528\n",
            "Epoch 019: | Train Loss: 0.78162 | Val Loss: 0.58034 | Train Acc: 100.000| Val Acc: 78.893\n",
            "Epoch 020: | Train Loss: 0.76915 | Val Loss: 0.56077 | Train Acc: 100.000| Val Acc: 79.861\n",
            "Epoch 021: | Train Loss: 0.76280 | Val Loss: 0.55277 | Train Acc: 100.000| Val Acc: 79.740\n",
            "Epoch 022: | Train Loss: 0.75443 | Val Loss: 0.54588 | Train Acc: 100.000| Val Acc: 79.982\n",
            "Epoch 023: | Train Loss: 0.73486 | Val Loss: 0.53975 | Train Acc: 100.000| Val Acc: 79.468\n",
            "Epoch 024: | Train Loss: 0.74187 | Val Loss: 0.53105 | Train Acc: 100.000| Val Acc: 79.135\n",
            "Epoch 025: | Train Loss: 0.72186 | Val Loss: 0.52021 | Train Acc: 100.000| Val Acc: 80.224\n",
            "Epoch 026: | Train Loss: 0.72587 | Val Loss: 0.51696 | Train Acc: 100.000| Val Acc: 80.526\n",
            "Epoch 027: | Train Loss: 0.71106 | Val Loss: 0.52678 | Train Acc: 100.000| Val Acc: 79.196\n",
            "Epoch 028: | Train Loss: 0.69502 | Val Loss: 0.51101 | Train Acc: 100.000| Val Acc: 80.466\n",
            "Epoch 029: | Train Loss: 0.69043 | Val Loss: 0.50476 | Train Acc: 100.000| Val Acc: 80.284\n",
            "Epoch 030: | Train Loss: 0.69722 | Val Loss: 0.49968 | Train Acc: 100.000| Val Acc: 80.617\n",
            "Epoch 031: | Train Loss: 0.68037 | Val Loss: 0.49637 | Train Acc: 100.000| Val Acc: 80.042\n",
            "Epoch 032: | Train Loss: 0.68409 | Val Loss: 0.50089 | Train Acc: 100.000| Val Acc: 80.163\n",
            "Epoch 033: | Train Loss: 0.66747 | Val Loss: 0.49097 | Train Acc: 100.000| Val Acc: 80.466\n",
            "Epoch 034: | Train Loss: 0.67610 | Val Loss: 0.47789 | Train Acc: 100.000| Val Acc: 80.919\n",
            "Epoch 035: | Train Loss: 0.66123 | Val Loss: 0.48968 | Train Acc: 100.000| Val Acc: 80.012\n",
            "Epoch 036: | Train Loss: 0.67327 | Val Loss: 0.49583 | Train Acc: 100.000| Val Acc: 79.528\n",
            "Epoch 037: | Train Loss: 0.65494 | Val Loss: 0.47062 | Train Acc: 100.000| Val Acc: 81.554\n",
            "Epoch 038: | Train Loss: 0.65078 | Val Loss: 0.47050 | Train Acc: 100.000| Val Acc: 81.222\n",
            "Epoch 039: | Train Loss: 0.65907 | Val Loss: 0.46565 | Train Acc: 100.000| Val Acc: 80.738\n",
            "Epoch 040: | Train Loss: 0.65161 | Val Loss: 0.46376 | Train Acc: 100.000| Val Acc: 81.222\n",
            "Epoch 041: | Train Loss: 0.64100 | Val Loss: 0.46599 | Train Acc: 100.000| Val Acc: 81.464\n",
            "Epoch 042: | Train Loss: 0.64753 | Val Loss: 0.47816 | Train Acc: 100.000| Val Acc: 80.194\n",
            "Epoch 043: | Train Loss: 0.64310 | Val Loss: 0.46314 | Train Acc: 100.000| Val Acc: 81.101\n",
            "Epoch 044: | Train Loss: 0.62593 | Val Loss: 0.46661 | Train Acc: 100.000| Val Acc: 80.798\n",
            "Epoch 045: | Train Loss: 0.63434 | Val Loss: 0.45191 | Train Acc: 100.000| Val Acc: 81.040\n",
            "Epoch 046: | Train Loss: 0.63857 | Val Loss: 0.47066 | Train Acc: 100.000| Val Acc: 80.708\n",
            "Epoch 047: | Train Loss: 0.62636 | Val Loss: 0.46687 | Train Acc: 100.000| Val Acc: 80.919\n",
            "Epoch 048: | Train Loss: 0.62878 | Val Loss: 0.45586 | Train Acc: 100.000| Val Acc: 80.829\n",
            "Epoch 049: | Train Loss: 0.62913 | Val Loss: 0.45060 | Train Acc: 100.000| Val Acc: 81.040\n",
            "Epoch 050: | Train Loss: 0.61929 | Val Loss: 0.46202 | Train Acc: 100.000| Val Acc: 81.343\n",
            "Epoch 051: | Train Loss: 0.62495 | Val Loss: 0.46599 | Train Acc: 100.000| Val Acc: 81.070\n",
            "Epoch 052: | Train Loss: 0.62271 | Val Loss: 0.44613 | Train Acc: 100.000| Val Acc: 80.798\n",
            "Epoch 053: | Train Loss: 0.62701 | Val Loss: 0.46521 | Train Acc: 100.000| Val Acc: 80.889\n",
            "Epoch 054: | Train Loss: 0.61525 | Val Loss: 0.46109 | Train Acc: 100.000| Val Acc: 80.889\n",
            "Epoch 055: | Train Loss: 0.61362 | Val Loss: 0.44740 | Train Acc: 100.000| Val Acc: 81.524\n",
            "Epoch 056: | Train Loss: 0.62255 | Val Loss: 0.44209 | Train Acc: 100.000| Val Acc: 81.343\n",
            "Epoch 057: | Train Loss: 0.60532 | Val Loss: 0.45622 | Train Acc: 100.000| Val Acc: 80.919\n",
            "Epoch 058: | Train Loss: 0.61890 | Val Loss: 0.43942 | Train Acc: 100.000| Val Acc: 81.191\n",
            "Epoch 059: | Train Loss: 0.61914 | Val Loss: 0.45219 | Train Acc: 100.000| Val Acc: 81.161\n",
            "Epoch 060: | Train Loss: 0.61988 | Val Loss: 0.44299 | Train Acc: 100.000| Val Acc: 81.433\n",
            "Epoch 061: | Train Loss: 0.60260 | Val Loss: 0.45132 | Train Acc: 100.000| Val Acc: 81.857\n",
            "Epoch 062: | Train Loss: 0.59459 | Val Loss: 0.45056 | Train Acc: 100.000| Val Acc: 81.312\n",
            "Epoch 063: | Train Loss: 0.61092 | Val Loss: 0.45726 | Train Acc: 100.000| Val Acc: 80.980\n",
            "Epoch 064: | Train Loss: 0.60000 | Val Loss: 0.44833 | Train Acc: 100.000| Val Acc: 81.161\n",
            "Epoch 065: | Train Loss: 0.60146 | Val Loss: 0.43332 | Train Acc: 100.000| Val Acc: 81.343\n",
            "Epoch 066: | Train Loss: 0.60097 | Val Loss: 0.44603 | Train Acc: 100.000| Val Acc: 81.101\n",
            "Epoch 067: | Train Loss: 0.60486 | Val Loss: 0.44460 | Train Acc: 100.000| Val Acc: 81.070\n",
            "Epoch 068: | Train Loss: 0.59343 | Val Loss: 0.44098 | Train Acc: 100.000| Val Acc: 81.705\n",
            "Epoch 069: | Train Loss: 0.59734 | Val Loss: 0.45519 | Train Acc: 100.000| Val Acc: 80.708\n",
            "Epoch 070: | Train Loss: 0.58941 | Val Loss: 0.43603 | Train Acc: 100.000| Val Acc: 81.343\n",
            "Epoch 071: | Train Loss: 0.60825 | Val Loss: 0.43707 | Train Acc: 100.000| Val Acc: 81.675\n",
            "Epoch 072: | Train Loss: 0.59033 | Val Loss: 0.44449 | Train Acc: 100.000| Val Acc: 81.101\n",
            "Epoch 073: | Train Loss: 0.57192 | Val Loss: 0.44995 | Train Acc: 100.000| Val Acc: 80.708\n",
            "Epoch 074: | Train Loss: 0.59000 | Val Loss: 0.44871 | Train Acc: 100.000| Val Acc: 80.466\n",
            "Epoch 075: | Train Loss: 0.58633 | Val Loss: 0.46073 | Train Acc: 100.000| Val Acc: 81.191\n",
            "Epoch 076: | Train Loss: 0.59365 | Val Loss: 0.43810 | Train Acc: 100.000| Val Acc: 81.343\n",
            "Epoch 077: | Train Loss: 0.56942 | Val Loss: 0.43061 | Train Acc: 100.000| Val Acc: 82.099\n",
            "Epoch 078: | Train Loss: 0.58902 | Val Loss: 0.43121 | Train Acc: 100.000| Val Acc: 81.524\n",
            "Epoch 079: | Train Loss: 0.57406 | Val Loss: 0.43306 | Train Acc: 100.000| Val Acc: 81.343\n",
            "Epoch 080: | Train Loss: 0.59271 | Val Loss: 0.43765 | Train Acc: 100.000| Val Acc: 81.373\n",
            "Epoch 081: | Train Loss: 0.58432 | Val Loss: 0.43811 | Train Acc: 100.000| Val Acc: 81.312\n",
            "Epoch 082: | Train Loss: 0.58320 | Val Loss: 0.43338 | Train Acc: 100.000| Val Acc: 81.645\n",
            "Epoch 083: | Train Loss: 0.57886 | Val Loss: 0.43474 | Train Acc: 100.000| Val Acc: 81.524\n",
            "Epoch 084: | Train Loss: 0.58072 | Val Loss: 0.44592 | Train Acc: 100.000| Val Acc: 82.159\n",
            "Epoch 085: | Train Loss: 0.58045 | Val Loss: 0.44237 | Train Acc: 100.000| Val Acc: 81.645\n",
            "Epoch 086: | Train Loss: 0.58048 | Val Loss: 0.42996 | Train Acc: 100.000| Val Acc: 82.280\n",
            "Epoch 087: | Train Loss: 0.58084 | Val Loss: 0.45314 | Train Acc: 100.000| Val Acc: 81.282\n",
            "Epoch 088: | Train Loss: 0.58353 | Val Loss: 0.42711 | Train Acc: 100.000| Val Acc: 82.099\n",
            "Epoch 089: | Train Loss: 0.57814 | Val Loss: 0.43184 | Train Acc: 100.000| Val Acc: 81.494\n",
            "Epoch 090: | Train Loss: 0.58517 | Val Loss: 0.44221 | Train Acc: 100.000| Val Acc: 81.131\n",
            "Epoch 091: | Train Loss: 0.58880 | Val Loss: 0.43526 | Train Acc: 100.000| Val Acc: 81.675\n",
            "Epoch 092: | Train Loss: 0.56338 | Val Loss: 0.43658 | Train Acc: 100.000| Val Acc: 81.736\n",
            "Epoch 093: | Train Loss: 0.57369 | Val Loss: 0.43711 | Train Acc: 100.000| Val Acc: 81.585\n",
            "Epoch 094: | Train Loss: 0.56497 | Val Loss: 0.43680 | Train Acc: 100.000| Val Acc: 81.705\n",
            "Epoch 095: | Train Loss: 0.57310 | Val Loss: 0.44298 | Train Acc: 100.000| Val Acc: 81.312\n",
            "Epoch 096: | Train Loss: 0.56641 | Val Loss: 0.43132 | Train Acc: 100.000| Val Acc: 81.796\n",
            "Epoch 097: | Train Loss: 0.57486 | Val Loss: 0.43990 | Train Acc: 100.000| Val Acc: 81.464\n",
            "Epoch 098: | Train Loss: 0.56038 | Val Loss: 0.44394 | Train Acc: 100.000| Val Acc: 81.312\n",
            "Epoch 099: | Train Loss: 0.57657 | Val Loss: 0.44300 | Train Acc: 100.000| Val Acc: 81.282\n",
            "Epoch 100: | Train Loss: 0.56546 | Val Loss: 0.42738 | Train Acc: 100.000| Val Acc: 81.978\n",
            "\n"
          ],
          "name": "stdout"
        }
      ]
    },
    {
      "cell_type": "code",
      "metadata": {
        "id": "1_WuAPurbcrn",
        "outputId": "3c201a5f-d2f3-4829-c675-0c083b2d7e27",
        "colab": {
          "base_uri": "https://localhost:8080/",
          "height": 336
        }
      },
      "source": [
        "# Create dataframes\n",
        "train_val_acc_df = pd.DataFrame.from_dict(accuracy_stats).reset_index().melt(id_vars=['index']).rename(columns={\"index\":\"epochs\"})\n",
        "train_val_loss_df = pd.DataFrame.from_dict(loss_stats).reset_index().melt(id_vars=['index']).rename(columns={\"index\":\"epochs\"})\n",
        "# Plot the dataframes\n",
        "fig, axes = plt.subplots(nrows=1, ncols=2, figsize=(20,7))\n",
        "sns.lineplot(data=train_val_acc_df, x = \"epochs\", y=\"value\", hue=\"variable\",  ax=axes[0]).set_title('Train-Val Accuracy/Epoch')\n",
        "sns.lineplot(data=train_val_loss_df, x = \"epochs\", y=\"value\", hue=\"variable\", ax=axes[1]).set_title('Train-Val Loss/Epoch')"
      ],
      "execution_count": 66,
      "outputs": [
        {
          "output_type": "execute_result",
          "data": {
            "text/plain": [
              "Text(0.5, 1.0, 'Train-Val Loss/Epoch')"
            ]
          },
          "metadata": {
            "tags": []
          },
          "execution_count": 66
        },
        {
          "output_type": "display_data",
          "data": {
            "image/png": "[encoded data removed]",
            "text/plain": [
              "<Figure size 1440x504 with 2 Axes>"
            ]
          },
          "metadata": {
            "tags": [],
            "needs_background": "light"
          }
        }
      ]
    },
    {
      "cell_type": "code",
      "metadata": {
        "id": "XTQmGTmiblr9",
        "outputId": "1900dfc8-245e-4614-f60f-64291b43ba04",
        "colab": {
          "base_uri": "https://localhost:8080/",
          "height": 306
        }
      },
      "source": [
        "y_pred_list = []\n",
        "with torch.no_grad():\n",
        "    model.eval()\n",
        "    for X_batch, _ in test_loader:\n",
        "        X_batch = X_batch.to(device)\n",
        "        y_test_pred = model(X_batch)\n",
        "        y_pred_softmax = torch.log_softmax(y_test_pred, dim = 1)\n",
        "        _, y_pred_tags = torch.max(y_pred_softmax, dim = 1)\n",
        "        y_pred_list.append(y_pred_tags.cpu().numpy())\n",
        "y_pred_list = [a.squeeze().tolist() for a in y_pred_list]\n",
        "print('balanced_accuracy_score: \\n',balanced_accuracy_score(y_test, y_pred_list))\n",
        "print('classification_report \\n',classification_report(y_test, y_pred_list))"
      ],
      "execution_count": 67,
      "outputs": [
        {
          "output_type": "stream",
          "text": [
            "balanced_accuracy_score: \n",
            " 0.7112947804523608\n",
            "classification_report \n",
            "               precision    recall  f1-score   support\n",
            "\n",
            "           0       0.97      0.98      0.97      1956\n",
            "           1       0.94      0.92      0.93      2407\n",
            "           2       0.82      0.84      0.83      1708\n",
            "           3       0.69      0.68      0.68      1175\n",
            "           4       0.56      0.50      0.53       666\n",
            "           5       0.40      0.52      0.46       255\n",
            "           6       0.46      0.54      0.50       101\n",
            "\n",
            "    accuracy                           0.83      8268\n",
            "   macro avg       0.69      0.71      0.70      8268\n",
            "weighted avg       0.83      0.83      0.83      8268\n",
            "\n"
          ],
          "name": "stdout"
        }
      ]
    },
    {
      "cell_type": "code",
      "metadata": {
        "id": "EJKrNjanbny9"
      },
      "source": [
        ""
      ],
      "execution_count": null,
      "outputs": []
    }
  ]
}