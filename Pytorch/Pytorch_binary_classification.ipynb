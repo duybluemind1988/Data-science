{
  "nbformat": 4,
  "nbformat_minor": 0,
  "metadata": {
    "colab": {
      "name": "Pytorch binary classification.ipynb",
      "provenance": [],
      "collapsed_sections": [],
      "mount_file_id": "https://github.com/duybluemind1988/Data-science/blob/master/Pytorch/Pytorch_binary_classification.ipynb",
      "authorship_tag": "ABX9TyNzyDzhKzkiOz5rd5j7Yx4X",
      "include_colab_link": true
    },
    "kernelspec": {
      "name": "python3",
      "display_name": "Python 3"
    },
    "widgets": {
      "application/vnd.jupyter.widget-state+json": {
        "bb7a208db3a944b29350d92ddabbd196": {
          "model_module": "@jupyter-widgets/controls",
          "model_name": "HBoxModel",
          "state": {
            "_view_name": "HBoxView",
            "_dom_classes": [],
            "_model_name": "HBoxModel",
            "_view_module": "@jupyter-widgets/controls",
            "_model_module_version": "1.5.0",
            "_view_count": null,
            "_view_module_version": "1.5.0",
            "box_style": "",
            "layout": "IPY_MODEL_f20fb842b0134a268ca130d7c154cb65",
            "_model_module": "@jupyter-widgets/controls",
            "children": [
              "IPY_MODEL_22bcec5e6e24426dba4fd6c860637d47",
              "IPY_MODEL_314d9d0e4e1f47e1a0b0b6e9c489780e"
            ]
          }
        },
        "f20fb842b0134a268ca130d7c154cb65": {
          "model_module": "@jupyter-widgets/base",
          "model_name": "LayoutModel",
          "state": {
            "_view_name": "LayoutView",
            "grid_template_rows": null,
            "right": null,
            "justify_content": null,
            "_view_module": "@jupyter-widgets/base",
            "overflow": null,
            "_model_module_version": "1.2.0",
            "_view_count": null,
            "flex_flow": null,
            "width": null,
            "min_width": null,
            "border": null,
            "align_items": null,
            "bottom": null,
            "_model_module": "@jupyter-widgets/base",
            "top": null,
            "grid_column": null,
            "overflow_y": null,
            "overflow_x": null,
            "grid_auto_flow": null,
            "grid_area": null,
            "grid_template_columns": null,
            "flex": null,
            "_model_name": "LayoutModel",
            "justify_items": null,
            "grid_row": null,
            "max_height": null,
            "align_content": null,
            "visibility": null,
            "align_self": null,
            "height": null,
            "min_height": null,
            "padding": null,
            "grid_auto_rows": null,
            "grid_gap": null,
            "max_width": null,
            "order": null,
            "_view_module_version": "1.2.0",
            "grid_template_areas": null,
            "object_position": null,
            "object_fit": null,
            "grid_auto_columns": null,
            "margin": null,
            "display": null,
            "left": null
          }
        },
        "22bcec5e6e24426dba4fd6c860637d47": {
          "model_module": "@jupyter-widgets/controls",
          "model_name": "FloatProgressModel",
          "state": {
            "_view_name": "ProgressView",
            "style": "IPY_MODEL_e6bef63215b446b4b1b13336ecf95484",
            "_dom_classes": [],
            "description": "100%",
            "_model_name": "FloatProgressModel",
            "bar_style": "success",
            "max": 50,
            "_view_module": "@jupyter-widgets/controls",
            "_model_module_version": "1.5.0",
            "value": 50,
            "_view_count": null,
            "_view_module_version": "1.5.0",
            "orientation": "horizontal",
            "min": 0,
            "description_tooltip": null,
            "_model_module": "@jupyter-widgets/controls",
            "layout": "IPY_MODEL_962d96610cc44125a369f8c0264b41f8"
          }
        },
        "314d9d0e4e1f47e1a0b0b6e9c489780e": {
          "model_module": "@jupyter-widgets/controls",
          "model_name": "HTMLModel",
          "state": {
            "_view_name": "HTMLView",
            "style": "IPY_MODEL_c228cedece5a48f68da676122cc050ca",
            "_dom_classes": [],
            "description": "",
            "_model_name": "HTMLModel",
            "placeholder": "​",
            "_view_module": "@jupyter-widgets/controls",
            "_model_module_version": "1.5.0",
            "value": " 50/50 [00:31&lt;00:00,  1.58it/s]",
            "_view_count": null,
            "_view_module_version": "1.5.0",
            "description_tooltip": null,
            "_model_module": "@jupyter-widgets/controls",
            "layout": "IPY_MODEL_3818352aa2a94cd5994cbfb015bde267"
          }
        },
        "e6bef63215b446b4b1b13336ecf95484": {
          "model_module": "@jupyter-widgets/controls",
          "model_name": "ProgressStyleModel",
          "state": {
            "_view_name": "StyleView",
            "_model_name": "ProgressStyleModel",
            "description_width": "initial",
            "_view_module": "@jupyter-widgets/base",
            "_model_module_version": "1.5.0",
            "_view_count": null,
            "_view_module_version": "1.2.0",
            "bar_color": null,
            "_model_module": "@jupyter-widgets/controls"
          }
        },
        "962d96610cc44125a369f8c0264b41f8": {
          "model_module": "@jupyter-widgets/base",
          "model_name": "LayoutModel",
          "state": {
            "_view_name": "LayoutView",
            "grid_template_rows": null,
            "right": null,
            "justify_content": null,
            "_view_module": "@jupyter-widgets/base",
            "overflow": null,
            "_model_module_version": "1.2.0",
            "_view_count": null,
            "flex_flow": null,
            "width": null,
            "min_width": null,
            "border": null,
            "align_items": null,
            "bottom": null,
            "_model_module": "@jupyter-widgets/base",
            "top": null,
            "grid_column": null,
            "overflow_y": null,
            "overflow_x": null,
            "grid_auto_flow": null,
            "grid_area": null,
            "grid_template_columns": null,
            "flex": null,
            "_model_name": "LayoutModel",
            "justify_items": null,
            "grid_row": null,
            "max_height": null,
            "align_content": null,
            "visibility": null,
            "align_self": null,
            "height": null,
            "min_height": null,
            "padding": null,
            "grid_auto_rows": null,
            "grid_gap": null,
            "max_width": null,
            "order": null,
            "_view_module_version": "1.2.0",
            "grid_template_areas": null,
            "object_position": null,
            "object_fit": null,
            "grid_auto_columns": null,
            "margin": null,
            "display": null,
            "left": null
          }
        },
        "c228cedece5a48f68da676122cc050ca": {
          "model_module": "@jupyter-widgets/controls",
          "model_name": "DescriptionStyleModel",
          "state": {
            "_view_name": "StyleView",
            "_model_name": "DescriptionStyleModel",
            "description_width": "",
            "_view_module": "@jupyter-widgets/base",
            "_model_module_version": "1.5.0",
            "_view_count": null,
            "_view_module_version": "1.2.0",
            "_model_module": "@jupyter-widgets/controls"
          }
        },
        "3818352aa2a94cd5994cbfb015bde267": {
          "model_module": "@jupyter-widgets/base",
          "model_name": "LayoutModel",
          "state": {
            "_view_name": "LayoutView",
            "grid_template_rows": null,
            "right": null,
            "justify_content": null,
            "_view_module": "@jupyter-widgets/base",
            "overflow": null,
            "_model_module_version": "1.2.0",
            "_view_count": null,
            "flex_flow": null,
            "width": null,
            "min_width": null,
            "border": null,
            "align_items": null,
            "bottom": null,
            "_model_module": "@jupyter-widgets/base",
            "top": null,
            "grid_column": null,
            "overflow_y": null,
            "overflow_x": null,
            "grid_auto_flow": null,
            "grid_area": null,
            "grid_template_columns": null,
            "flex": null,
            "_model_name": "LayoutModel",
            "justify_items": null,
            "grid_row": null,
            "max_height": null,
            "align_content": null,
            "visibility": null,
            "align_self": null,
            "height": null,
            "min_height": null,
            "padding": null,
            "grid_auto_rows": null,
            "grid_gap": null,
            "max_width": null,
            "order": null,
            "_view_module_version": "1.2.0",
            "grid_template_areas": null,
            "object_position": null,
            "object_fit": null,
            "grid_auto_columns": null,
            "margin": null,
            "display": null,
            "left": null
          }
        },
        "f68f22557cba47399056210512279865": {
          "model_module": "@jupyter-widgets/controls",
          "model_name": "HBoxModel",
          "state": {
            "_view_name": "HBoxView",
            "_dom_classes": [],
            "_model_name": "HBoxModel",
            "_view_module": "@jupyter-widgets/controls",
            "_model_module_version": "1.5.0",
            "_view_count": null,
            "_view_module_version": "1.5.0",
            "box_style": "",
            "layout": "IPY_MODEL_5b23a04758a24715932df6681e397afa",
            "_model_module": "@jupyter-widgets/controls",
            "children": [
              "IPY_MODEL_8a7f919f56954afbacde34c7a1db613e",
              "IPY_MODEL_c7133e2ea6524aeabe9fbbace78153f3"
            ]
          }
        },
        "5b23a04758a24715932df6681e397afa": {
          "model_module": "@jupyter-widgets/base",
          "model_name": "LayoutModel",
          "state": {
            "_view_name": "LayoutView",
            "grid_template_rows": null,
            "right": null,
            "justify_content": null,
            "_view_module": "@jupyter-widgets/base",
            "overflow": null,
            "_model_module_version": "1.2.0",
            "_view_count": null,
            "flex_flow": "row wrap",
            "width": "100%",
            "min_width": null,
            "border": null,
            "align_items": null,
            "bottom": null,
            "_model_module": "@jupyter-widgets/base",
            "top": null,
            "grid_column": null,
            "overflow_y": null,
            "overflow_x": null,
            "grid_auto_flow": null,
            "grid_area": null,
            "grid_template_columns": null,
            "flex": null,
            "_model_name": "LayoutModel",
            "justify_items": null,
            "grid_row": null,
            "max_height": null,
            "align_content": null,
            "visibility": null,
            "align_self": null,
            "height": null,
            "min_height": null,
            "padding": null,
            "grid_auto_rows": null,
            "grid_gap": null,
            "max_width": null,
            "order": null,
            "_view_module_version": "1.2.0",
            "grid_template_areas": null,
            "object_position": null,
            "object_fit": null,
            "grid_auto_columns": null,
            "margin": null,
            "display": "inline-flex",
            "left": null
          }
        },
        "8a7f919f56954afbacde34c7a1db613e": {
          "model_module": "@jupyter-widgets/controls",
          "model_name": "FloatProgressModel",
          "state": {
            "_view_name": "ProgressView",
            "style": "IPY_MODEL_82537b488a9d4349a3776f1aad4b2db1",
            "_dom_classes": [],
            "description": "Validation sanity check:   0%",
            "_model_name": "FloatProgressModel",
            "bar_style": "danger",
            "max": 1,
            "_view_module": "@jupyter-widgets/controls",
            "_model_module_version": "1.5.0",
            "value": 0,
            "_view_count": null,
            "_view_module_version": "1.5.0",
            "orientation": "horizontal",
            "min": 0,
            "description_tooltip": null,
            "_model_module": "@jupyter-widgets/controls",
            "layout": "IPY_MODEL_86fdd8f0b0ec43d6aaf1573e53d99007"
          }
        },
        "c7133e2ea6524aeabe9fbbace78153f3": {
          "model_module": "@jupyter-widgets/controls",
          "model_name": "HTMLModel",
          "state": {
            "_view_name": "HTMLView",
            "style": "IPY_MODEL_d8a6de5e3b32465e9b7bfaa7ac373346",
            "_dom_classes": [],
            "description": "",
            "_model_name": "HTMLModel",
            "placeholder": "​",
            "_view_module": "@jupyter-widgets/controls",
            "_model_module_version": "1.5.0",
            "value": " 0/1.0 [00:00&lt;?, ?it/s]",
            "_view_count": null,
            "_view_module_version": "1.5.0",
            "description_tooltip": null,
            "_model_module": "@jupyter-widgets/controls",
            "layout": "IPY_MODEL_11d54c07363d42ea8c2d9a16ab89567e"
          }
        },
        "82537b488a9d4349a3776f1aad4b2db1": {
          "model_module": "@jupyter-widgets/controls",
          "model_name": "ProgressStyleModel",
          "state": {
            "_view_name": "StyleView",
            "_model_name": "ProgressStyleModel",
            "description_width": "initial",
            "_view_module": "@jupyter-widgets/base",
            "_model_module_version": "1.5.0",
            "_view_count": null,
            "_view_module_version": "1.2.0",
            "bar_color": null,
            "_model_module": "@jupyter-widgets/controls"
          }
        },
        "86fdd8f0b0ec43d6aaf1573e53d99007": {
          "model_module": "@jupyter-widgets/base",
          "model_name": "LayoutModel",
          "state": {
            "_view_name": "LayoutView",
            "grid_template_rows": null,
            "right": null,
            "justify_content": null,
            "_view_module": "@jupyter-widgets/base",
            "overflow": null,
            "_model_module_version": "1.2.0",
            "_view_count": null,
            "flex_flow": null,
            "width": null,
            "min_width": null,
            "border": null,
            "align_items": null,
            "bottom": null,
            "_model_module": "@jupyter-widgets/base",
            "top": null,
            "grid_column": null,
            "overflow_y": null,
            "overflow_x": null,
            "grid_auto_flow": null,
            "grid_area": null,
            "grid_template_columns": null,
            "flex": "2",
            "_model_name": "LayoutModel",
            "justify_items": null,
            "grid_row": null,
            "max_height": null,
            "align_content": null,
            "visibility": null,
            "align_self": null,
            "height": null,
            "min_height": null,
            "padding": null,
            "grid_auto_rows": null,
            "grid_gap": null,
            "max_width": null,
            "order": null,
            "_view_module_version": "1.2.0",
            "grid_template_areas": null,
            "object_position": null,
            "object_fit": null,
            "grid_auto_columns": null,
            "margin": null,
            "display": null,
            "left": null
          }
        },
        "d8a6de5e3b32465e9b7bfaa7ac373346": {
          "model_module": "@jupyter-widgets/controls",
          "model_name": "DescriptionStyleModel",
          "state": {
            "_view_name": "StyleView",
            "_model_name": "DescriptionStyleModel",
            "description_width": "",
            "_view_module": "@jupyter-widgets/base",
            "_model_module_version": "1.5.0",
            "_view_count": null,
            "_view_module_version": "1.2.0",
            "_model_module": "@jupyter-widgets/controls"
          }
        },
        "11d54c07363d42ea8c2d9a16ab89567e": {
          "model_module": "@jupyter-widgets/base",
          "model_name": "LayoutModel",
          "state": {
            "_view_name": "LayoutView",
            "grid_template_rows": null,
            "right": null,
            "justify_content": null,
            "_view_module": "@jupyter-widgets/base",
            "overflow": null,
            "_model_module_version": "1.2.0",
            "_view_count": null,
            "flex_flow": null,
            "width": null,
            "min_width": null,
            "border": null,
            "align_items": null,
            "bottom": null,
            "_model_module": "@jupyter-widgets/base",
            "top": null,
            "grid_column": null,
            "overflow_y": null,
            "overflow_x": null,
            "grid_auto_flow": null,
            "grid_area": null,
            "grid_template_columns": null,
            "flex": null,
            "_model_name": "LayoutModel",
            "justify_items": null,
            "grid_row": null,
            "max_height": null,
            "align_content": null,
            "visibility": null,
            "align_self": null,
            "height": null,
            "min_height": null,
            "padding": null,
            "grid_auto_rows": null,
            "grid_gap": null,
            "max_width": null,
            "order": null,
            "_view_module_version": "1.2.0",
            "grid_template_areas": null,
            "object_position": null,
            "object_fit": null,
            "grid_auto_columns": null,
            "margin": null,
            "display": null,
            "left": null
          }
        },
        "b5c14735181e48979067e800b674f883": {
          "model_module": "@jupyter-widgets/controls",
          "model_name": "HBoxModel",
          "state": {
            "_view_name": "HBoxView",
            "_dom_classes": [],
            "_model_name": "HBoxModel",
            "_view_module": "@jupyter-widgets/controls",
            "_model_module_version": "1.5.0",
            "_view_count": null,
            "_view_module_version": "1.5.0",
            "box_style": "",
            "layout": "IPY_MODEL_59461167c03443c190dbfb3c32aa98b5",
            "_model_module": "@jupyter-widgets/controls",
            "children": [
              "IPY_MODEL_32bac58223d441c6aa8342562fa34214",
              "IPY_MODEL_13ea8b887e6f4ddc8b9a57190da972b8"
            ]
          }
        },
        "59461167c03443c190dbfb3c32aa98b5": {
          "model_module": "@jupyter-widgets/base",
          "model_name": "LayoutModel",
          "state": {
            "_view_name": "LayoutView",
            "grid_template_rows": null,
            "right": null,
            "justify_content": null,
            "_view_module": "@jupyter-widgets/base",
            "overflow": null,
            "_model_module_version": "1.2.0",
            "_view_count": null,
            "flex_flow": "row wrap",
            "width": "100%",
            "min_width": null,
            "border": null,
            "align_items": null,
            "bottom": null,
            "_model_module": "@jupyter-widgets/base",
            "top": null,
            "grid_column": null,
            "overflow_y": null,
            "overflow_x": null,
            "grid_auto_flow": null,
            "grid_area": null,
            "grid_template_columns": null,
            "flex": null,
            "_model_name": "LayoutModel",
            "justify_items": null,
            "grid_row": null,
            "max_height": null,
            "align_content": null,
            "visibility": null,
            "align_self": null,
            "height": null,
            "min_height": null,
            "padding": null,
            "grid_auto_rows": null,
            "grid_gap": null,
            "max_width": null,
            "order": null,
            "_view_module_version": "1.2.0",
            "grid_template_areas": null,
            "object_position": null,
            "object_fit": null,
            "grid_auto_columns": null,
            "margin": null,
            "display": "inline-flex",
            "left": null
          }
        },
        "32bac58223d441c6aa8342562fa34214": {
          "model_module": "@jupyter-widgets/controls",
          "model_name": "FloatProgressModel",
          "state": {
            "_view_name": "ProgressView",
            "style": "IPY_MODEL_267be635b71648558f946ae37cbba943",
            "_dom_classes": [],
            "description": "Epoch 1:  80%",
            "_model_name": "FloatProgressModel",
            "bar_style": "danger",
            "max": 88,
            "_view_module": "@jupyter-widgets/controls",
            "_model_module_version": "1.5.0",
            "value": 70,
            "_view_count": null,
            "_view_module_version": "1.5.0",
            "orientation": "horizontal",
            "min": 0,
            "description_tooltip": null,
            "_model_module": "@jupyter-widgets/controls",
            "layout": "IPY_MODEL_a9448bc3e3c040d5a75009b6783d19b1"
          }
        },
        "13ea8b887e6f4ddc8b9a57190da972b8": {
          "model_module": "@jupyter-widgets/controls",
          "model_name": "HTMLModel",
          "state": {
            "_view_name": "HTMLView",
            "style": "IPY_MODEL_251870d1ea4944518f72d862f6d2c0a7",
            "_dom_classes": [],
            "description": "",
            "_model_name": "HTMLModel",
            "placeholder": "​",
            "_view_module": "@jupyter-widgets/controls",
            "_model_module_version": "1.5.0",
            "value": " 70/88 [01:34&lt;00:24,  1.35s/it, loss=0.328, v_num=0, val_loss=0.471]",
            "_view_count": null,
            "_view_module_version": "1.5.0",
            "description_tooltip": null,
            "_model_module": "@jupyter-widgets/controls",
            "layout": "IPY_MODEL_1f0005e10aa54b788731b9d06825dd44"
          }
        },
        "267be635b71648558f946ae37cbba943": {
          "model_module": "@jupyter-widgets/controls",
          "model_name": "ProgressStyleModel",
          "state": {
            "_view_name": "StyleView",
            "_model_name": "ProgressStyleModel",
            "description_width": "initial",
            "_view_module": "@jupyter-widgets/base",
            "_model_module_version": "1.5.0",
            "_view_count": null,
            "_view_module_version": "1.2.0",
            "bar_color": null,
            "_model_module": "@jupyter-widgets/controls"
          }
        },
        "a9448bc3e3c040d5a75009b6783d19b1": {
          "model_module": "@jupyter-widgets/base",
          "model_name": "LayoutModel",
          "state": {
            "_view_name": "LayoutView",
            "grid_template_rows": null,
            "right": null,
            "justify_content": null,
            "_view_module": "@jupyter-widgets/base",
            "overflow": null,
            "_model_module_version": "1.2.0",
            "_view_count": null,
            "flex_flow": null,
            "width": null,
            "min_width": null,
            "border": null,
            "align_items": null,
            "bottom": null,
            "_model_module": "@jupyter-widgets/base",
            "top": null,
            "grid_column": null,
            "overflow_y": null,
            "overflow_x": null,
            "grid_auto_flow": null,
            "grid_area": null,
            "grid_template_columns": null,
            "flex": "2",
            "_model_name": "LayoutModel",
            "justify_items": null,
            "grid_row": null,
            "max_height": null,
            "align_content": null,
            "visibility": null,
            "align_self": null,
            "height": null,
            "min_height": null,
            "padding": null,
            "grid_auto_rows": null,
            "grid_gap": null,
            "max_width": null,
            "order": null,
            "_view_module_version": "1.2.0",
            "grid_template_areas": null,
            "object_position": null,
            "object_fit": null,
            "grid_auto_columns": null,
            "margin": null,
            "display": null,
            "left": null
          }
        },
        "251870d1ea4944518f72d862f6d2c0a7": {
          "model_module": "@jupyter-widgets/controls",
          "model_name": "DescriptionStyleModel",
          "state": {
            "_view_name": "StyleView",
            "_model_name": "DescriptionStyleModel",
            "description_width": "",
            "_view_module": "@jupyter-widgets/base",
            "_model_module_version": "1.5.0",
            "_view_count": null,
            "_view_module_version": "1.2.0",
            "_model_module": "@jupyter-widgets/controls"
          }
        },
        "1f0005e10aa54b788731b9d06825dd44": {
          "model_module": "@jupyter-widgets/base",
          "model_name": "LayoutModel",
          "state": {
            "_view_name": "LayoutView",
            "grid_template_rows": null,
            "right": null,
            "justify_content": null,
            "_view_module": "@jupyter-widgets/base",
            "overflow": null,
            "_model_module_version": "1.2.0",
            "_view_count": null,
            "flex_flow": null,
            "width": null,
            "min_width": null,
            "border": null,
            "align_items": null,
            "bottom": null,
            "_model_module": "@jupyter-widgets/base",
            "top": null,
            "grid_column": null,
            "overflow_y": null,
            "overflow_x": null,
            "grid_auto_flow": null,
            "grid_area": null,
            "grid_template_columns": null,
            "flex": null,
            "_model_name": "LayoutModel",
            "justify_items": null,
            "grid_row": null,
            "max_height": null,
            "align_content": null,
            "visibility": null,
            "align_self": null,
            "height": null,
            "min_height": null,
            "padding": null,
            "grid_auto_rows": null,
            "grid_gap": null,
            "max_width": null,
            "order": null,
            "_view_module_version": "1.2.0",
            "grid_template_areas": null,
            "object_position": null,
            "object_fit": null,
            "grid_auto_columns": null,
            "margin": null,
            "display": null,
            "left": null
          }
        },
        "43755e73bc2745d2b9168ed3f75846f0": {
          "model_module": "@jupyter-widgets/controls",
          "model_name": "HBoxModel",
          "state": {
            "_view_name": "HBoxView",
            "_dom_classes": [],
            "_model_name": "HBoxModel",
            "_view_module": "@jupyter-widgets/controls",
            "_model_module_version": "1.5.0",
            "_view_count": null,
            "_view_module_version": "1.5.0",
            "box_style": "",
            "layout": "IPY_MODEL_3b3dd8496c604ae1aac9ad98ee2b636a",
            "_model_module": "@jupyter-widgets/controls",
            "children": [
              "IPY_MODEL_e770c9ed71844a18bf89692b9e0a8a92",
              "IPY_MODEL_f576983eab334f90b4eba4f76a709c7a"
            ]
          }
        },
        "3b3dd8496c604ae1aac9ad98ee2b636a": {
          "model_module": "@jupyter-widgets/base",
          "model_name": "LayoutModel",
          "state": {
            "_view_name": "LayoutView",
            "grid_template_rows": null,
            "right": null,
            "justify_content": null,
            "_view_module": "@jupyter-widgets/base",
            "overflow": null,
            "_model_module_version": "1.2.0",
            "_view_count": null,
            "flex_flow": "row wrap",
            "width": "100%",
            "min_width": null,
            "border": null,
            "align_items": null,
            "bottom": null,
            "_model_module": "@jupyter-widgets/base",
            "top": null,
            "grid_column": null,
            "overflow_y": null,
            "overflow_x": null,
            "grid_auto_flow": null,
            "grid_area": null,
            "grid_template_columns": null,
            "flex": null,
            "_model_name": "LayoutModel",
            "justify_items": null,
            "grid_row": null,
            "max_height": null,
            "align_content": null,
            "visibility": null,
            "align_self": null,
            "height": null,
            "min_height": null,
            "padding": null,
            "grid_auto_rows": null,
            "grid_gap": null,
            "max_width": null,
            "order": null,
            "_view_module_version": "1.2.0",
            "grid_template_areas": null,
            "object_position": null,
            "object_fit": null,
            "grid_auto_columns": null,
            "margin": null,
            "display": "inline-flex",
            "left": null
          }
        },
        "e770c9ed71844a18bf89692b9e0a8a92": {
          "model_module": "@jupyter-widgets/controls",
          "model_name": "FloatProgressModel",
          "state": {
            "_view_name": "ProgressView",
            "style": "IPY_MODEL_4ff774070dbf4b378bdff586d2c8a011",
            "_dom_classes": [],
            "description": "Validating:   0%",
            "_model_name": "FloatProgressModel",
            "bar_style": "danger",
            "max": 1,
            "_view_module": "@jupyter-widgets/controls",
            "_model_module_version": "1.5.0",
            "value": 0,
            "_view_count": null,
            "_view_module_version": "1.5.0",
            "orientation": "horizontal",
            "min": 0,
            "description_tooltip": null,
            "_model_module": "@jupyter-widgets/controls",
            "layout": "IPY_MODEL_29480a21acc14f0aa484e25157293079"
          }
        },
        "f576983eab334f90b4eba4f76a709c7a": {
          "model_module": "@jupyter-widgets/controls",
          "model_name": "HTMLModel",
          "state": {
            "_view_name": "HTMLView",
            "style": "IPY_MODEL_2454cd54735a48179d32571a6b9c9571",
            "_dom_classes": [],
            "description": "",
            "_model_name": "HTMLModel",
            "placeholder": "​",
            "_view_module": "@jupyter-widgets/controls",
            "_model_module_version": "1.5.0",
            "value": " 0/3 [00:03&lt;?, ?it/s]",
            "_view_count": null,
            "_view_module_version": "1.5.0",
            "description_tooltip": null,
            "_model_module": "@jupyter-widgets/controls",
            "layout": "IPY_MODEL_f8323d8f08994c02b17203b015d0a275"
          }
        },
        "4ff774070dbf4b378bdff586d2c8a011": {
          "model_module": "@jupyter-widgets/controls",
          "model_name": "ProgressStyleModel",
          "state": {
            "_view_name": "StyleView",
            "_model_name": "ProgressStyleModel",
            "description_width": "initial",
            "_view_module": "@jupyter-widgets/base",
            "_model_module_version": "1.5.0",
            "_view_count": null,
            "_view_module_version": "1.2.0",
            "bar_color": null,
            "_model_module": "@jupyter-widgets/controls"
          }
        },
        "29480a21acc14f0aa484e25157293079": {
          "model_module": "@jupyter-widgets/base",
          "model_name": "LayoutModel",
          "state": {
            "_view_name": "LayoutView",
            "grid_template_rows": null,
            "right": null,
            "justify_content": null,
            "_view_module": "@jupyter-widgets/base",
            "overflow": null,
            "_model_module_version": "1.2.0",
            "_view_count": null,
            "flex_flow": null,
            "width": null,
            "min_width": null,
            "border": null,
            "align_items": null,
            "bottom": null,
            "_model_module": "@jupyter-widgets/base",
            "top": null,
            "grid_column": null,
            "overflow_y": null,
            "overflow_x": null,
            "grid_auto_flow": null,
            "grid_area": null,
            "grid_template_columns": null,
            "flex": "2",
            "_model_name": "LayoutModel",
            "justify_items": null,
            "grid_row": null,
            "max_height": null,
            "align_content": null,
            "visibility": null,
            "align_self": null,
            "height": null,
            "min_height": null,
            "padding": null,
            "grid_auto_rows": null,
            "grid_gap": null,
            "max_width": null,
            "order": null,
            "_view_module_version": "1.2.0",
            "grid_template_areas": null,
            "object_position": null,
            "object_fit": null,
            "grid_auto_columns": null,
            "margin": null,
            "display": null,
            "left": null
          }
        },
        "2454cd54735a48179d32571a6b9c9571": {
          "model_module": "@jupyter-widgets/controls",
          "model_name": "DescriptionStyleModel",
          "state": {
            "_view_name": "StyleView",
            "_model_name": "DescriptionStyleModel",
            "description_width": "",
            "_view_module": "@jupyter-widgets/base",
            "_model_module_version": "1.5.0",
            "_view_count": null,
            "_view_module_version": "1.2.0",
            "_model_module": "@jupyter-widgets/controls"
          }
        },
        "f8323d8f08994c02b17203b015d0a275": {
          "model_module": "@jupyter-widgets/base",
          "model_name": "LayoutModel",
          "state": {
            "_view_name": "LayoutView",
            "grid_template_rows": null,
            "right": null,
            "justify_content": null,
            "_view_module": "@jupyter-widgets/base",
            "overflow": null,
            "_model_module_version": "1.2.0",
            "_view_count": null,
            "flex_flow": null,
            "width": null,
            "min_width": null,
            "border": null,
            "align_items": null,
            "bottom": null,
            "_model_module": "@jupyter-widgets/base",
            "top": null,
            "grid_column": null,
            "overflow_y": null,
            "overflow_x": null,
            "grid_auto_flow": null,
            "grid_area": null,
            "grid_template_columns": null,
            "flex": null,
            "_model_name": "LayoutModel",
            "justify_items": null,
            "grid_row": null,
            "max_height": null,
            "align_content": null,
            "visibility": null,
            "align_self": null,
            "height": null,
            "min_height": null,
            "padding": null,
            "grid_auto_rows": null,
            "grid_gap": null,
            "max_width": null,
            "order": null,
            "_view_module_version": "1.2.0",
            "grid_template_areas": null,
            "object_position": null,
            "object_fit": null,
            "grid_auto_columns": null,
            "margin": null,
            "display": null,
            "left": null
          }
        }
      }
    }
  },
  "cells": [
    {
      "cell_type": "markdown",
      "metadata": {
        "id": "view-in-github",
        "colab_type": "text"
      },
      "source": [
        "<a href=\"https://colab.research.google.com/github/duybluemind1988/Data-science/blob/master/Pytorch/Pytorch_binary_classification.ipynb\" target=\"_parent\"><img src=\"https://colab.research.google.com/assets/colab-badge.svg\" alt=\"Open In Colab\"/></a>"
      ]
    },
    {
      "cell_type": "markdown",
      "metadata": {
        "id": "TXyCEd0qMl2D"
      },
      "source": [
        "# Lower back pain symptoms"
      ]
    },
    {
      "cell_type": "markdown",
      "metadata": {
        "id": "tPIjOS5JCzap"
      },
      "source": [
        "https://towardsdatascience.com/pytorch-tabular-binary-classification-a0368da5bb89"
      ]
    },
    {
      "cell_type": "markdown",
      "metadata": {
        "id": "QtfJ2VUyEJ5d"
      },
      "source": [
        "https://www.kaggle.com/sammy123/lower-back-pain-symptoms-dataset"
      ]
    },
    {
      "cell_type": "markdown",
      "metadata": {
        "id": "HJ1bIqoHMpHy"
      },
      "source": [
        "# Get Data"
      ]
    },
    {
      "cell_type": "code",
      "metadata": {
        "id": "a1_cq20eB-y0",
        "outputId": "0c0e4839-8828-45de-de3d-a2b347813c51",
        "colab": {
          "base_uri": "https://localhost:8080/",
          "height": 71
        }
      },
      "source": [
        "import numpy as np\n",
        "import pandas as pd\n",
        "import seaborn as sns\n",
        "import matplotlib.pyplot as plt\n",
        "\n",
        "import torch\n",
        "import torch.nn as nn\n",
        "import torch.optim as optim\n",
        "from torch.utils.data import Dataset, DataLoader\n",
        "\n",
        "from sklearn.preprocessing import StandardScaler    \n",
        "from sklearn.model_selection import train_test_split\n",
        "from sklearn.metrics import confusion_matrix, classification_report\n",
        "from sklearn.metrics import balanced_accuracy_score,matthews_corrcoef"
      ],
      "execution_count": null,
      "outputs": [
        {
          "output_type": "stream",
          "text": [
            "/usr/local/lib/python3.6/dist-packages/statsmodels/tools/_testing.py:19: FutureWarning: pandas.util.testing is deprecated. Use the functions in the public API at pandas.testing instead.\n",
            "  import pandas.util.testing as tm\n"
          ],
          "name": "stderr"
        }
      ]
    },
    {
      "cell_type": "markdown",
      "metadata": {
        "id": "sorKOe-HDevD"
      },
      "source": [
        "310 Observations, 13 Attributes (12 Numeric Predictors, 1 Binary Class Attribute - No Demographics)\n",
        "\n",
        "Lower back pain can be caused by a variety of problems with any parts of the complex, interconnected network of spinal muscles, nerves, bones, discs or tendons in the lumbar spine. Typical sources of low back pain include:\n",
        "\n",
        "- The large nerve roots in the low back that go to the legs may be irritated\n",
        "- The smaller nerves that supply the low back may be irritated\n",
        "- The large paired lower back muscles (erector spinae) may be strained\n",
        "- The bones, ligaments or joints may be damaged\n",
        "- An intervertebral disc may be degenerating\n",
        "\n",
        "An irritation or problem with any of these structures can cause lower back pain and/or pain that radiates or is referred to other parts of the body. Many lower back problems also cause back muscle spasms, which don't sound like much but can cause severe pain and disability.\n",
        "\n",
        "While lower back pain is extremely common, the symptoms and severity of lower back pain vary greatly. A simple lower back muscle strain might be excruciating enough to necessitate an emergency room visit, while a degenerating disc might cause only mild, intermittent discomfort.\n",
        "\n",
        "This data set is about to identify a person is abnormal or normal using collected physical spine details/data."
      ]
    },
    {
      "cell_type": "code",
      "metadata": {
        "id": "-iBwviBKC1R_",
        "outputId": "0a03444a-b11b-4b68-9a64-b82f5dfe4397",
        "colab": {
          "base_uri": "https://localhost:8080/",
          "height": 241
        }
      },
      "source": [
        "df = pd.read_csv(\"/content/drive/My Drive/Data/Dataset_spine.csv\")\n",
        "df=df.iloc[:,:-1]\n",
        "print(df.shape)\n",
        "df.head()"
      ],
      "execution_count": null,
      "outputs": [
        {
          "output_type": "stream",
          "text": [
            "(310, 13)\n"
          ],
          "name": "stdout"
        },
        {
          "output_type": "execute_result",
          "data": {
            "text/html": [
              "<div>\n",
              "<style scoped>\n",
              "    .dataframe tbody tr th:only-of-type {\n",
              "        vertical-align: middle;\n",
              "    }\n",
              "\n",
              "    .dataframe tbody tr th {\n",
              "        vertical-align: top;\n",
              "    }\n",
              "\n",
              "    .dataframe thead th {\n",
              "        text-align: right;\n",
              "    }\n",
              "</style>\n",
              "<table border=\"1\" class=\"dataframe\">\n",
              "  <thead>\n",
              "    <tr style=\"text-align: right;\">\n",
              "      <th></th>\n",
              "      <th>Col1</th>\n",
              "      <th>Col2</th>\n",
              "      <th>Col3</th>\n",
              "      <th>Col4</th>\n",
              "      <th>Col5</th>\n",
              "      <th>Col6</th>\n",
              "      <th>Col7</th>\n",
              "      <th>Col8</th>\n",
              "      <th>Col9</th>\n",
              "      <th>Col10</th>\n",
              "      <th>Col11</th>\n",
              "      <th>Col12</th>\n",
              "      <th>Class_att</th>\n",
              "    </tr>\n",
              "  </thead>\n",
              "  <tbody>\n",
              "    <tr>\n",
              "      <th>0</th>\n",
              "      <td>63.027818</td>\n",
              "      <td>22.552586</td>\n",
              "      <td>39.609117</td>\n",
              "      <td>40.475232</td>\n",
              "      <td>98.672917</td>\n",
              "      <td>-0.254400</td>\n",
              "      <td>0.744503</td>\n",
              "      <td>12.5661</td>\n",
              "      <td>14.5386</td>\n",
              "      <td>15.30468</td>\n",
              "      <td>-28.658501</td>\n",
              "      <td>43.5123</td>\n",
              "      <td>Abnormal</td>\n",
              "    </tr>\n",
              "    <tr>\n",
              "      <th>1</th>\n",
              "      <td>39.056951</td>\n",
              "      <td>10.060991</td>\n",
              "      <td>25.015378</td>\n",
              "      <td>28.995960</td>\n",
              "      <td>114.405425</td>\n",
              "      <td>4.564259</td>\n",
              "      <td>0.415186</td>\n",
              "      <td>12.8874</td>\n",
              "      <td>17.5323</td>\n",
              "      <td>16.78486</td>\n",
              "      <td>-25.530607</td>\n",
              "      <td>16.1102</td>\n",
              "      <td>Abnormal</td>\n",
              "    </tr>\n",
              "    <tr>\n",
              "      <th>2</th>\n",
              "      <td>68.832021</td>\n",
              "      <td>22.218482</td>\n",
              "      <td>50.092194</td>\n",
              "      <td>46.613539</td>\n",
              "      <td>105.985135</td>\n",
              "      <td>-3.530317</td>\n",
              "      <td>0.474889</td>\n",
              "      <td>26.8343</td>\n",
              "      <td>17.4861</td>\n",
              "      <td>16.65897</td>\n",
              "      <td>-29.031888</td>\n",
              "      <td>19.2221</td>\n",
              "      <td>Abnormal</td>\n",
              "    </tr>\n",
              "    <tr>\n",
              "      <th>3</th>\n",
              "      <td>69.297008</td>\n",
              "      <td>24.652878</td>\n",
              "      <td>44.311238</td>\n",
              "      <td>44.644130</td>\n",
              "      <td>101.868495</td>\n",
              "      <td>11.211523</td>\n",
              "      <td>0.369345</td>\n",
              "      <td>23.5603</td>\n",
              "      <td>12.7074</td>\n",
              "      <td>11.42447</td>\n",
              "      <td>-30.470246</td>\n",
              "      <td>18.8329</td>\n",
              "      <td>Abnormal</td>\n",
              "    </tr>\n",
              "    <tr>\n",
              "      <th>4</th>\n",
              "      <td>49.712859</td>\n",
              "      <td>9.652075</td>\n",
              "      <td>28.317406</td>\n",
              "      <td>40.060784</td>\n",
              "      <td>108.168725</td>\n",
              "      <td>7.918501</td>\n",
              "      <td>0.543360</td>\n",
              "      <td>35.4940</td>\n",
              "      <td>15.9546</td>\n",
              "      <td>8.87237</td>\n",
              "      <td>-16.378376</td>\n",
              "      <td>24.9171</td>\n",
              "      <td>Abnormal</td>\n",
              "    </tr>\n",
              "  </tbody>\n",
              "</table>\n",
              "</div>"
            ],
            "text/plain": [
              "        Col1       Col2       Col3  ...      Col11    Col12  Class_att\n",
              "0  63.027818  22.552586  39.609117  ... -28.658501  43.5123   Abnormal\n",
              "1  39.056951  10.060991  25.015378  ... -25.530607  16.1102   Abnormal\n",
              "2  68.832021  22.218482  50.092194  ... -29.031888  19.2221   Abnormal\n",
              "3  69.297008  24.652878  44.311238  ... -30.470246  18.8329   Abnormal\n",
              "4  49.712859   9.652075  28.317406  ... -16.378376  24.9171   Abnormal\n",
              "\n",
              "[5 rows x 13 columns]"
            ]
          },
          "metadata": {
            "tags": []
          },
          "execution_count": 2
        }
      ]
    },
    {
      "cell_type": "code",
      "metadata": {
        "id": "wUHKizrGDJQv",
        "outputId": "6c86eec0-c7ad-4888-8bc1-96231b6b83e7",
        "colab": {
          "base_uri": "https://localhost:8080/",
          "height": 297
        }
      },
      "source": [
        "sns.countplot(x = 'Class_att', data=df)"
      ],
      "execution_count": null,
      "outputs": [
        {
          "output_type": "execute_result",
          "data": {
            "text/plain": [
              "<matplotlib.axes._subplots.AxesSubplot at 0x7fa87da24588>"
            ]
          },
          "metadata": {
            "tags": []
          },
          "execution_count": 3
        },
        {
          "output_type": "display_data",
          "data": {
            "image/png": "[encoded data removed]",
            "text/plain": [
              "<Figure size 432x288 with 1 Axes>"
            ]
          },
          "metadata": {
            "tags": [],
            "needs_background": "light"
          }
        }
      ]
    },
    {
      "cell_type": "code",
      "metadata": {
        "id": "8MjsODTHK9Hl"
      },
      "source": [
        "df['Class_att'] = df['Class_att'].astype('category')\n",
        "encode_map = {\n",
        "    'Abnormal': 1,\n",
        "    'Normal': 0\n",
        "}\n",
        "\n",
        "df['Class_att'].replace(encode_map, inplace=True)"
      ],
      "execution_count": null,
      "outputs": []
    },
    {
      "cell_type": "code",
      "metadata": {
        "id": "SjJZ02ORK_lv"
      },
      "source": [
        "X = df.iloc[:, 0:-1]\n",
        "y = df.iloc[:, -1]"
      ],
      "execution_count": null,
      "outputs": []
    },
    {
      "cell_type": "code",
      "metadata": {
        "id": "RxcfmxhOLB1t"
      },
      "source": [
        "X_train, X_test, y_train, y_test = train_test_split(X, y, test_size=0.2, random_state=69)"
      ],
      "execution_count": null,
      "outputs": []
    },
    {
      "cell_type": "code",
      "metadata": {
        "id": "y-aBJGJ5LCzs"
      },
      "source": [
        "scaler = StandardScaler()\n",
        "X_train = scaler.fit_transform(X_train)\n",
        "X_test = scaler.fit_transform(X_test)\n"
      ],
      "execution_count": null,
      "outputs": []
    },
    {
      "cell_type": "markdown",
      "metadata": {
        "id": "R2tOTnWrM0PL"
      },
      "source": [
        "## Define Custom Dataloaders"
      ]
    },
    {
      "cell_type": "code",
      "metadata": {
        "id": "Sr9BTe2YLGXK"
      },
      "source": [
        "EPOCHS = 50\n",
        "BATCH_SIZE = 64\n",
        "LEARNING_RATE = 0.001"
      ],
      "execution_count": null,
      "outputs": []
    },
    {
      "cell_type": "code",
      "metadata": {
        "id": "FRsYdQzGLHUr"
      },
      "source": [
        "## train data\n",
        "class trainData(Dataset):\n",
        "    \n",
        "    def __init__(self, X_data, y_data):\n",
        "        self.X_data = X_data\n",
        "        self.y_data = y_data\n",
        "        \n",
        "    def __getitem__(self, index):\n",
        "        return self.X_data[index], self.y_data[index]\n",
        "        \n",
        "    def __len__ (self):\n",
        "        return len(self.X_data)\n",
        "\n",
        "\n",
        "train_data = trainData(torch.FloatTensor(X_train), \n",
        "                       torch.FloatTensor(y_train))\n",
        "## test data    \n",
        "class testData(Dataset):\n",
        "    \n",
        "    def __init__(self, X_data):\n",
        "        self.X_data = X_data\n",
        "        \n",
        "    def __getitem__(self, index):\n",
        "        return self.X_data[index]\n",
        "        \n",
        "    def __len__ (self):\n",
        "        return len(self.X_data)\n",
        "    \n",
        "\n",
        "test_data = testData(torch.FloatTensor(X_test))"
      ],
      "execution_count": null,
      "outputs": []
    },
    {
      "cell_type": "code",
      "metadata": {
        "id": "tBKD9y9QLKI8"
      },
      "source": [
        "train_loader = DataLoader(dataset=train_data, batch_size=BATCH_SIZE, shuffle=True)\n",
        "test_loader = DataLoader(dataset=test_data, batch_size=1)"
      ],
      "execution_count": null,
      "outputs": []
    },
    {
      "cell_type": "markdown",
      "metadata": {
        "id": "NBvCk4XgMvnL"
      },
      "source": [
        "## Define Neural network"
      ]
    },
    {
      "cell_type": "markdown",
      "metadata": {
        "id": "c5qEajHgMOIt"
      },
      "source": [
        "Once we’ve defined all these layers, it’s time to use them. In the forward() function, we take variable inputs as our input. We pass this input through the different layers we initialized.\n",
        "\n",
        "The first line of the forward() functions takes the input, passes it through our first linear layer and then applies the ReLU activation on it. Then we apply BatchNorm on the output. Look at the following code to understand it better."
      ]
    },
    {
      "cell_type": "code",
      "metadata": {
        "id": "U7UY7l_ELN4L"
      },
      "source": [
        "class binaryClassification(nn.Module):\n",
        "    def __init__(self):\n",
        "        super(binaryClassification, self).__init__()\n",
        "        # Number of input features is 12.\n",
        "        self.layer_1 = nn.Linear(X.shape[1], 64) \n",
        "        self.layer_2 = nn.Linear(64, 64)\n",
        "        self.layer_out = nn.Linear(64, 1) \n",
        "        \n",
        "        self.relu = nn.ReLU()\n",
        "        self.dropout = nn.Dropout(p=0.1)\n",
        "        self.batchnorm1 = nn.BatchNorm1d(64)\n",
        "        self.batchnorm2 = nn.BatchNorm1d(64)\n",
        "        \n",
        "    def forward(self, inputs):\n",
        "        x = self.relu(self.layer_1(inputs))\n",
        "        x = self.batchnorm1(x)\n",
        "        x = self.relu(self.layer_2(x))\n",
        "        x = self.batchnorm2(x)\n",
        "        x = self.dropout(x)\n",
        "        x = self.layer_out(x)\n",
        "        \n",
        "        return x"
      ],
      "execution_count": null,
      "outputs": []
    },
    {
      "cell_type": "markdown",
      "metadata": {
        "id": "JtIn5w8AMMC1"
      },
      "source": [
        "Once, we’ve defined our architecture, we check if our GPU is active. The amazing thing about PyTorch is that it’s super easy to use the GPU.\n",
        "The variable device will either say cuda:0 if we have the GPU. If not, it’ll say cpu . You can follow along this tutorial even if you do not have a GPU without any change in code."
      ]
    },
    {
      "cell_type": "code",
      "metadata": {
        "id": "kSY9ILZlL7nz",
        "outputId": "1fd91046-6b3f-4a8a-c218-a7c3fe365654",
        "colab": {
          "base_uri": "https://localhost:8080/",
          "height": 34
        }
      },
      "source": [
        "device = torch.device(\"cuda:0\" if torch.cuda.is_available() else \"cpu\")\n",
        "print(device)"
      ],
      "execution_count": null,
      "outputs": [
        {
          "output_type": "stream",
          "text": [
            "cpu\n"
          ],
          "name": "stdout"
        }
      ]
    },
    {
      "cell_type": "markdown",
      "metadata": {
        "id": "dTBFld7NMG6j"
      },
      "source": [
        "Note that we did not use the Sigmoid activation in our final layer during training. That’s because, we use the nn.BCEWithLogitsLoss() loss function which automatically applies the the Sigmoid activation. We however, need to use Sigmoid manually during inference."
      ]
    },
    {
      "cell_type": "markdown",
      "metadata": {
        "id": "f5JyXyZcMYxb"
      },
      "source": [
        "Next, we need to initialize our model. After initializing it, we move it to device . Now, this device is a GPU if you have one or it’s CPU if you don’t. The network we’ve used is fairly small. So, it will not take a lot of time to train on a CPU."
      ]
    },
    {
      "cell_type": "code",
      "metadata": {
        "id": "Z3oFa9dAL7xV",
        "outputId": "2c2b23f7-26cb-449b-b48d-f2f1bf6a3f19",
        "colab": {
          "base_uri": "https://localhost:8080/",
          "height": 190
        }
      },
      "source": [
        "model = binaryClassification()\n",
        "model.to(device)\n",
        "print(model)\n",
        "criterion = nn.BCEWithLogitsLoss()\n",
        "optimizer = optim.Adam(model.parameters(), lr=LEARNING_RATE)"
      ],
      "execution_count": null,
      "outputs": [
        {
          "output_type": "stream",
          "text": [
            "binaryClassification(\n",
            "  (layer_1): Linear(in_features=12, out_features=64, bias=True)\n",
            "  (layer_2): Linear(in_features=64, out_features=64, bias=True)\n",
            "  (layer_out): Linear(in_features=64, out_features=1, bias=True)\n",
            "  (relu): ReLU()\n",
            "  (dropout): Dropout(p=0.1, inplace=False)\n",
            "  (batchnorm1): BatchNorm1d(64, eps=1e-05, momentum=0.1, affine=True, track_running_stats=True)\n",
            "  (batchnorm2): BatchNorm1d(64, eps=1e-05, momentum=0.1, affine=True, track_running_stats=True)\n",
            ")\n"
          ],
          "name": "stdout"
        }
      ]
    },
    {
      "cell_type": "markdown",
      "metadata": {
        "id": "yGISxMIxMr-H"
      },
      "source": [
        "## Train model"
      ]
    },
    {
      "cell_type": "markdown",
      "metadata": {
        "id": "ihGl7H0ZM8bh"
      },
      "source": [
        "Before we start the actual training, let’s define a function to calculate accuracy.\n",
        "\n",
        "In the function below, we take the predicted and actual output as the input. The predicted value(a probability) is rounded off to convert it into either a 0 or a 1.\n",
        "\n",
        "Once that is done, we simply compare the number of 1/0 we predicted to the number of 1/0 actually present and calculate the accuracy.\n",
        "\n",
        "Note that the inputs y_pred and y_test are for a batch. Our batch_size was 64. So, this accuracy is being calculated for 64 predictions(tensors) at a time."
      ]
    },
    {
      "cell_type": "code",
      "metadata": {
        "id": "6blbm9EwMERh"
      },
      "source": [
        "def binary_acc(y_pred, y_test):\n",
        "    y_pred_tag = torch.round(torch.sigmoid(y_pred))\n",
        "\n",
        "    correct_results_sum = (y_pred_tag == y_test).sum().float()\n",
        "    acc = correct_results_sum/y_test.shape[0]\n",
        "    acc = torch.round(acc * 100)\n",
        "    \n",
        "    return acc"
      ],
      "execution_count": null,
      "outputs": []
    },
    {
      "cell_type": "markdown",
      "metadata": {
        "id": "QUpK6ivKNwbp"
      },
      "source": [
        "You can see we’ve put a model.train() at the before the loop. model.train() tells PyTorch that you’re in training mode.\n",
        "\n",
        "Well, why do we need to do that? If you’re using layers such as Dropout or BatchNorm which behave differently during training and evaluation, you need to tell PyTorch to act accordingly. While the default mode in PyTorch is the train, so, you don’t explicitly have to write that. But it’s good practice.\n",
        "\n",
        "Similarly, we’ll call model.eval() when we test our model. We’ll see that below.\n",
        "\n",
        "Back to training; we start a for-loop. At the top of this for-loop, we initialize our loss and accuracy per epoch to 0. After every epoch, we’ll print out the loss/accuracy and reset it back to 0.\n",
        "\n",
        "Then we have another for-loop. This for-loop is used to get our data in batches from the train_loader.\n",
        "\n",
        "We do optimizer.zero_grad() before we make any predictions. Since the backward() function accumulates gradients, we need to set it to 0 manually per mini-batch.\n",
        "\n",
        "From our defined model, we then obtain a prediction, get the loss(and accuracy) for that mini-batch, perform backpropagation using loss.backward() and optimizer.step() . Finally, we add all the mini-batch losses (and accuracies) to obtain the average loss (and accuracy) for that epoch.\n",
        "\n",
        "This loss and accuracy is printed out in the outer for loop."
      ]
    },
    {
      "cell_type": "code",
      "metadata": {
        "id": "AZGxYSnAMEUD",
        "outputId": "246a41ba-c0e4-4323-9690-5411b1da7be7",
        "colab": {
          "base_uri": "https://localhost:8080/",
          "height": 867
        }
      },
      "source": [
        "model.train()\n",
        "for e in range(1, EPOCHS+1):\n",
        "    epoch_loss = 0\n",
        "    epoch_acc = 0\n",
        "    for X_batch, y_batch in train_loader:\n",
        "        #Get the input, data is a list of [inputs, labels], transfer to GPU\n",
        "        X_batch, y_batch = X_batch.to(device), y_batch.to(device)\n",
        "        #1. Initialise gradients \n",
        "        optimizer.zero_grad()\n",
        "        #2 Forward pass\n",
        "        y_pred = model(X_batch)\n",
        "        loss = criterion(y_pred, y_batch.unsqueeze(1))\n",
        "        acc = binary_acc(y_pred, y_batch.unsqueeze(1))\n",
        "        #3 Backward\n",
        "        loss.backward()\n",
        "        #4 Copute the loss and update the weights\n",
        "        optimizer.step()\n",
        "        \n",
        "        epoch_loss += loss.item() # Loss each batch\n",
        "        epoch_acc += acc.item() # acc each batch\n",
        "        \n",
        "    # Loss and acc per each Eposhs\n",
        "    print(f'Epoch {e+0:03}: | Loss: {epoch_loss/len(train_loader):.5f} | Acc: {epoch_acc/len(train_loader):.3f}')"
      ],
      "execution_count": null,
      "outputs": [
        {
          "output_type": "stream",
          "text": [
            "Epoch 001: | Loss: 0.73404 | Acc: 49.500\n",
            "Epoch 002: | Loss: 0.62179 | Acc: 65.500\n",
            "Epoch 003: | Loss: 0.56483 | Acc: 74.750\n",
            "Epoch 004: | Loss: 0.51332 | Acc: 80.000\n",
            "Epoch 005: | Loss: 0.50564 | Acc: 79.250\n",
            "Epoch 006: | Loss: 0.48180 | Acc: 83.250\n",
            "Epoch 007: | Loss: 0.45540 | Acc: 82.750\n",
            "Epoch 008: | Loss: 0.44128 | Acc: 81.000\n",
            "Epoch 009: | Loss: 0.42676 | Acc: 85.500\n",
            "Epoch 010: | Loss: 0.40659 | Acc: 86.500\n",
            "Epoch 011: | Loss: 0.40709 | Acc: 83.250\n",
            "Epoch 012: | Loss: 0.40034 | Acc: 86.000\n",
            "Epoch 013: | Loss: 0.36650 | Acc: 86.250\n",
            "Epoch 014: | Loss: 0.35865 | Acc: 88.000\n",
            "Epoch 015: | Loss: 0.35159 | Acc: 88.250\n",
            "Epoch 016: | Loss: 0.34127 | Acc: 88.000\n",
            "Epoch 017: | Loss: 0.32761 | Acc: 88.500\n",
            "Epoch 018: | Loss: 0.31594 | Acc: 91.250\n",
            "Epoch 019: | Loss: 0.30948 | Acc: 90.000\n",
            "Epoch 020: | Loss: 0.30402 | Acc: 90.250\n",
            "Epoch 021: | Loss: 0.28991 | Acc: 89.250\n",
            "Epoch 022: | Loss: 0.27839 | Acc: 92.000\n",
            "Epoch 023: | Loss: 0.25964 | Acc: 91.750\n",
            "Epoch 024: | Loss: 0.24015 | Acc: 92.500\n",
            "Epoch 025: | Loss: 0.24978 | Acc: 92.000\n",
            "Epoch 026: | Loss: 0.23495 | Acc: 92.000\n",
            "Epoch 027: | Loss: 0.22540 | Acc: 93.750\n",
            "Epoch 028: | Loss: 0.21602 | Acc: 95.750\n",
            "Epoch 029: | Loss: 0.20996 | Acc: 94.500\n",
            "Epoch 030: | Loss: 0.19583 | Acc: 94.500\n",
            "Epoch 031: | Loss: 0.17723 | Acc: 96.750\n",
            "Epoch 032: | Loss: 0.16939 | Acc: 96.750\n",
            "Epoch 033: | Loss: 0.16099 | Acc: 95.250\n",
            "Epoch 034: | Loss: 0.14242 | Acc: 97.250\n",
            "Epoch 035: | Loss: 0.12721 | Acc: 98.750\n",
            "Epoch 036: | Loss: 0.13416 | Acc: 96.500\n",
            "Epoch 037: | Loss: 0.13513 | Acc: 96.750\n",
            "Epoch 038: | Loss: 0.13897 | Acc: 95.750\n",
            "Epoch 039: | Loss: 0.11559 | Acc: 98.000\n",
            "Epoch 040: | Loss: 0.10481 | Acc: 97.750\n",
            "Epoch 041: | Loss: 0.10964 | Acc: 98.500\n",
            "Epoch 042: | Loss: 0.11238 | Acc: 98.250\n",
            "Epoch 043: | Loss: 0.10858 | Acc: 98.000\n",
            "Epoch 044: | Loss: 0.08821 | Acc: 99.500\n",
            "Epoch 045: | Loss: 0.08937 | Acc: 99.000\n",
            "Epoch 046: | Loss: 0.09734 | Acc: 97.500\n",
            "Epoch 047: | Loss: 0.08090 | Acc: 99.500\n",
            "Epoch 048: | Loss: 0.07229 | Acc: 98.250\n",
            "Epoch 049: | Loss: 0.07549 | Acc: 99.250\n",
            "Epoch 050: | Loss: 0.07319 | Acc: 99.250\n"
          ],
          "name": "stdout"
        }
      ]
    },
    {
      "cell_type": "markdown",
      "metadata": {
        "id": "Q0bN3LynOnCw"
      },
      "source": [
        "After training is done, we need to test how our model fared. Note that we’ve used model.eval() before we run our testing code. To tell PyTorch that we do not want to perform back-propagation during inference, we use torch.no_grad() which reduces memory usage and speeds up computation.\n",
        "\n",
        "We start by defining a list that will hold our predictions. Then we loop through our batches using the test_loader. For each batch —\n",
        "\n",
        "- We make the predictions using our trained model.\n",
        "- Round off the probabilities to 1 or 0.\n",
        "- Move the batch to the GPU from the CPU.\n",
        "- Convert the tensor to a numpy object and append it to our list.\n",
        "- Flatten out the list so that we can use it as an input to confusion_matrix and classification_report ."
      ]
    },
    {
      "cell_type": "code",
      "metadata": {
        "id": "N-xHPNZaMEWn"
      },
      "source": [
        "y_pred_list = []\n",
        "model.eval()\n",
        "with torch.no_grad():\n",
        "    for X_batch in test_loader:\n",
        "        X_batch = X_batch.to(device)\n",
        "        y_test_pred = model(X_batch) # make predictions\n",
        "        y_test_pred = torch.sigmoid(y_test_pred) # convert to propability 0-1\n",
        "        y_pred_tag = torch.round(y_test_pred) # round to 0,1\n",
        "        y_pred_list.append(y_pred_tag.cpu().numpy())# move batch to GPU, convert to numpy object and append to list\n",
        "\n",
        "y_pred_list = [a.squeeze().tolist() for a in y_pred_list] #Flatten out the list for confusion matrix and classification report"
      ],
      "execution_count": null,
      "outputs": []
    },
    {
      "cell_type": "code",
      "metadata": {
        "id": "WWHh77-vNoLH",
        "outputId": "aa62f375-2bc4-4c70-8f79-e262531c3a9d",
        "colab": {
          "base_uri": "https://localhost:8080/",
          "height": 238
        }
      },
      "source": [
        "print(confusion_matrix(y_test, y_pred_list))\n",
        "print('balanced_accuracy_score: ',balanced_accuracy_score(y_test, y_pred_list))\n",
        "print('matthews_corrcoef: ',matthews_corrcoef(y_test, y_pred_list))\n",
        "print(classification_report(y_test, y_pred_list))"
      ],
      "execution_count": null,
      "outputs": [
        {
          "output_type": "stream",
          "text": [
            "[[12  6]\n",
            " [ 7 37]]\n",
            "balanced_accuracy_score:  0.7537878787878788\n",
            "matthews_corrcoef:  0.49974957565417644\n",
            "              precision    recall  f1-score   support\n",
            "\n",
            "           0       0.63      0.67      0.65        18\n",
            "           1       0.86      0.84      0.85        44\n",
            "\n",
            "    accuracy                           0.79        62\n",
            "   macro avg       0.75      0.75      0.75        62\n",
            "weighted avg       0.79      0.79      0.79        62\n",
            "\n"
          ],
          "name": "stdout"
        }
      ]
    },
    {
      "cell_type": "code",
      "metadata": {
        "id": "U1GMAiaxvEVk",
        "outputId": "6279da30-cbb6-4fe1-8136-a3771753a2e5",
        "colab": {
          "base_uri": "https://localhost:8080/",
          "height": 204
        }
      },
      "source": [
        "from xgboost import XGBClassifier\n",
        "model=XGBClassifier()\n",
        "model.fit(X_train, y_train)\n",
        "y_pred = model.predict(X_test)\n",
        "print('Balanced accuracy score:',balanced_accuracy_score(y_test,y_pred))\n",
        "print('Matthews_corrcoef accuracy score:',matthews_corrcoef(y_test,y_pred))\n",
        "print(classification_report(y_test,y_pred))"
      ],
      "execution_count": null,
      "outputs": [
        {
          "output_type": "stream",
          "text": [
            "Balanced accuracy score: 0.7424242424242424\n",
            "Matthews_corrcoef accuracy score: 0.47079190906919977\n",
            "              precision    recall  f1-score   support\n",
            "\n",
            "           0       0.60      0.67      0.63        18\n",
            "           1       0.86      0.82      0.84        44\n",
            "\n",
            "    accuracy                           0.77        62\n",
            "   macro avg       0.73      0.74      0.73        62\n",
            "weighted avg       0.78      0.77      0.78        62\n",
            "\n"
          ],
          "name": "stdout"
        }
      ]
    },
    {
      "cell_type": "markdown",
      "metadata": {
        "id": "VvO-08OWlRmT"
      },
      "source": [
        "# Churn prediction"
      ]
    },
    {
      "cell_type": "code",
      "metadata": {
        "id": "cR7CC_QOwJLQ"
      },
      "source": [
        "import json\n",
        "import numpy as np\n",
        "import pandas as pd\n",
        "import matplotlib.pyplot as plt\n",
        "import seaborn as sns ; sns.set()\n",
        "#pytorch\n",
        "import torch\n",
        "import torch.nn as nn\n",
        "import torch.optim as optim\n",
        "from torch.utils.data import Dataset, DataLoader\n",
        "\n",
        "#Load sklearn\n",
        "from sklearn.preprocessing import StandardScaler, RobustScaler\n",
        "from sklearn.model_selection import train_test_split\n",
        "from sklearn.metrics import classification_report ,balanced_accuracy_score,matthews_corrcoef\n",
        "\n",
        "#Special\n",
        "from xgboost import XGBClassifier\n",
        "from lightgbm import LGBMClassifier"
      ],
      "execution_count": 1,
      "outputs": []
    },
    {
      "cell_type": "markdown",
      "metadata": {
        "id": "xS-4tYHnwdt4"
      },
      "source": [
        "## Prepare data"
      ]
    },
    {
      "cell_type": "code",
      "metadata": {
        "id": "V4-7xUJ7NpJg",
        "outputId": "238f1eb3-1c08-4aad-81a0-2a83dff865ab",
        "colab": {
          "base_uri": "https://localhost:8080/",
          "height": 326
        }
      },
      "source": [
        "path='https://raw.githubusercontent.com/rstudio/keras-customer-churn/master/data/WA_Fn-UseC_-Telco-Customer-Churn.csv'\n",
        "df=pd.read_csv(path)\n",
        "print(df.shape)\n",
        "df.head()"
      ],
      "execution_count": 2,
      "outputs": [
        {
          "output_type": "stream",
          "text": [
            "(7043, 21)\n"
          ],
          "name": "stdout"
        },
        {
          "output_type": "execute_result",
          "data": {
            "text/html": [
              "<div>\n",
              "<style scoped>\n",
              "    .dataframe tbody tr th:only-of-type {\n",
              "        vertical-align: middle;\n",
              "    }\n",
              "\n",
              "    .dataframe tbody tr th {\n",
              "        vertical-align: top;\n",
              "    }\n",
              "\n",
              "    .dataframe thead th {\n",
              "        text-align: right;\n",
              "    }\n",
              "</style>\n",
              "<table border=\"1\" class=\"dataframe\">\n",
              "  <thead>\n",
              "    <tr style=\"text-align: right;\">\n",
              "      <th></th>\n",
              "      <th>customerID</th>\n",
              "      <th>gender</th>\n",
              "      <th>SeniorCitizen</th>\n",
              "      <th>Partner</th>\n",
              "      <th>Dependents</th>\n",
              "      <th>tenure</th>\n",
              "      <th>PhoneService</th>\n",
              "      <th>MultipleLines</th>\n",
              "      <th>InternetService</th>\n",
              "      <th>OnlineSecurity</th>\n",
              "      <th>OnlineBackup</th>\n",
              "      <th>DeviceProtection</th>\n",
              "      <th>TechSupport</th>\n",
              "      <th>StreamingTV</th>\n",
              "      <th>StreamingMovies</th>\n",
              "      <th>Contract</th>\n",
              "      <th>PaperlessBilling</th>\n",
              "      <th>PaymentMethod</th>\n",
              "      <th>MonthlyCharges</th>\n",
              "      <th>TotalCharges</th>\n",
              "      <th>Churn</th>\n",
              "    </tr>\n",
              "  </thead>\n",
              "  <tbody>\n",
              "    <tr>\n",
              "      <th>0</th>\n",
              "      <td>7590-VHVEG</td>\n",
              "      <td>Female</td>\n",
              "      <td>0</td>\n",
              "      <td>Yes</td>\n",
              "      <td>No</td>\n",
              "      <td>1</td>\n",
              "      <td>No</td>\n",
              "      <td>No phone service</td>\n",
              "      <td>DSL</td>\n",
              "      <td>No</td>\n",
              "      <td>Yes</td>\n",
              "      <td>No</td>\n",
              "      <td>No</td>\n",
              "      <td>No</td>\n",
              "      <td>No</td>\n",
              "      <td>Month-to-month</td>\n",
              "      <td>Yes</td>\n",
              "      <td>Electronic check</td>\n",
              "      <td>29.85</td>\n",
              "      <td>29.85</td>\n",
              "      <td>No</td>\n",
              "    </tr>\n",
              "    <tr>\n",
              "      <th>1</th>\n",
              "      <td>5575-GNVDE</td>\n",
              "      <td>Male</td>\n",
              "      <td>0</td>\n",
              "      <td>No</td>\n",
              "      <td>No</td>\n",
              "      <td>34</td>\n",
              "      <td>Yes</td>\n",
              "      <td>No</td>\n",
              "      <td>DSL</td>\n",
              "      <td>Yes</td>\n",
              "      <td>No</td>\n",
              "      <td>Yes</td>\n",
              "      <td>No</td>\n",
              "      <td>No</td>\n",
              "      <td>No</td>\n",
              "      <td>One year</td>\n",
              "      <td>No</td>\n",
              "      <td>Mailed check</td>\n",
              "      <td>56.95</td>\n",
              "      <td>1889.5</td>\n",
              "      <td>No</td>\n",
              "    </tr>\n",
              "    <tr>\n",
              "      <th>2</th>\n",
              "      <td>3668-QPYBK</td>\n",
              "      <td>Male</td>\n",
              "      <td>0</td>\n",
              "      <td>No</td>\n",
              "      <td>No</td>\n",
              "      <td>2</td>\n",
              "      <td>Yes</td>\n",
              "      <td>No</td>\n",
              "      <td>DSL</td>\n",
              "      <td>Yes</td>\n",
              "      <td>Yes</td>\n",
              "      <td>No</td>\n",
              "      <td>No</td>\n",
              "      <td>No</td>\n",
              "      <td>No</td>\n",
              "      <td>Month-to-month</td>\n",
              "      <td>Yes</td>\n",
              "      <td>Mailed check</td>\n",
              "      <td>53.85</td>\n",
              "      <td>108.15</td>\n",
              "      <td>Yes</td>\n",
              "    </tr>\n",
              "    <tr>\n",
              "      <th>3</th>\n",
              "      <td>7795-CFOCW</td>\n",
              "      <td>Male</td>\n",
              "      <td>0</td>\n",
              "      <td>No</td>\n",
              "      <td>No</td>\n",
              "      <td>45</td>\n",
              "      <td>No</td>\n",
              "      <td>No phone service</td>\n",
              "      <td>DSL</td>\n",
              "      <td>Yes</td>\n",
              "      <td>No</td>\n",
              "      <td>Yes</td>\n",
              "      <td>Yes</td>\n",
              "      <td>No</td>\n",
              "      <td>No</td>\n",
              "      <td>One year</td>\n",
              "      <td>No</td>\n",
              "      <td>Bank transfer (automatic)</td>\n",
              "      <td>42.30</td>\n",
              "      <td>1840.75</td>\n",
              "      <td>No</td>\n",
              "    </tr>\n",
              "    <tr>\n",
              "      <th>4</th>\n",
              "      <td>9237-HQITU</td>\n",
              "      <td>Female</td>\n",
              "      <td>0</td>\n",
              "      <td>No</td>\n",
              "      <td>No</td>\n",
              "      <td>2</td>\n",
              "      <td>Yes</td>\n",
              "      <td>No</td>\n",
              "      <td>Fiber optic</td>\n",
              "      <td>No</td>\n",
              "      <td>No</td>\n",
              "      <td>No</td>\n",
              "      <td>No</td>\n",
              "      <td>No</td>\n",
              "      <td>No</td>\n",
              "      <td>Month-to-month</td>\n",
              "      <td>Yes</td>\n",
              "      <td>Electronic check</td>\n",
              "      <td>70.70</td>\n",
              "      <td>151.65</td>\n",
              "      <td>Yes</td>\n",
              "    </tr>\n",
              "  </tbody>\n",
              "</table>\n",
              "</div>"
            ],
            "text/plain": [
              "   customerID  gender  SeniorCitizen  ... MonthlyCharges TotalCharges  Churn\n",
              "0  7590-VHVEG  Female              0  ...          29.85        29.85     No\n",
              "1  5575-GNVDE    Male              0  ...          56.95       1889.5     No\n",
              "2  3668-QPYBK    Male              0  ...          53.85       108.15    Yes\n",
              "3  7795-CFOCW    Male              0  ...          42.30      1840.75     No\n",
              "4  9237-HQITU  Female              0  ...          70.70       151.65    Yes\n",
              "\n",
              "[5 rows x 21 columns]"
            ]
          },
          "metadata": {
            "tags": []
          },
          "execution_count": 2
        }
      ]
    },
    {
      "cell_type": "code",
      "metadata": {
        "id": "upjFKnOgvSFQ",
        "outputId": "f0b6e0ea-ff19-4be4-c7b2-59902e7f4032",
        "colab": {
          "base_uri": "https://localhost:8080/",
          "height": 68
        }
      },
      "source": [
        "df['Churn'] = df['Churn'].apply(lambda x: 1 if x == 'Yes' else 0)\n",
        "df['Churn'].value_counts(normalize=True)"
      ],
      "execution_count": 3,
      "outputs": [
        {
          "output_type": "execute_result",
          "data": {
            "text/plain": [
              "0    0.73463\n",
              "1    0.26537\n",
              "Name: Churn, dtype: float64"
            ]
          },
          "metadata": {
            "tags": []
          },
          "execution_count": 3
        }
      ]
    },
    {
      "cell_type": "code",
      "metadata": {
        "id": "9ALkpC1_vSZP"
      },
      "source": [
        "df['TotalCharges'] = df['TotalCharges'].replace(' ', np.nan).astype(float)\n",
        "df = df.dropna()"
      ],
      "execution_count": 4,
      "outputs": []
    },
    {
      "cell_type": "code",
      "metadata": {
        "id": "g-xf0dgWv2Mf",
        "outputId": "292a96a2-e699-46e1-8623-ba7f93d49db0",
        "colab": {
          "base_uri": "https://localhost:8080/",
          "height": 413
        }
      },
      "source": [
        "#One hot encoding\n",
        "dummy_cols = []\n",
        "# column with value\n",
        "sample_set = df[['tenure', 'MonthlyCharges', 'TotalCharges', 'Churn']].copy(deep=True)\n",
        "# for other column with category, only one hot with column have nuique < 5\n",
        "for col in list(df.columns):\n",
        "    if col not in ['tenure', 'MonthlyCharges', 'TotalCharges', 'Churn'] and df[col].nunique() < 5:\n",
        "        dummy_vars = pd.get_dummies(df[col])\n",
        "        dummy_vars.columns = [col+str(x) for x in dummy_vars.columns]        \n",
        "        sample_set = pd.concat([sample_set, dummy_vars], axis=1)\n",
        "sample_set.head(10)"
      ],
      "execution_count": 5,
      "outputs": [
        {
          "output_type": "execute_result",
          "data": {
            "text/html": [
              "<div>\n",
              "<style scoped>\n",
              "    .dataframe tbody tr th:only-of-type {\n",
              "        vertical-align: middle;\n",
              "    }\n",
              "\n",
              "    .dataframe tbody tr th {\n",
              "        vertical-align: top;\n",
              "    }\n",
              "\n",
              "    .dataframe thead th {\n",
              "        text-align: right;\n",
              "    }\n",
              "</style>\n",
              "<table border=\"1\" class=\"dataframe\">\n",
              "  <thead>\n",
              "    <tr style=\"text-align: right;\">\n",
              "      <th></th>\n",
              "      <th>tenure</th>\n",
              "      <th>MonthlyCharges</th>\n",
              "      <th>TotalCharges</th>\n",
              "      <th>Churn</th>\n",
              "      <th>genderFemale</th>\n",
              "      <th>genderMale</th>\n",
              "      <th>SeniorCitizen0</th>\n",
              "      <th>SeniorCitizen1</th>\n",
              "      <th>PartnerNo</th>\n",
              "      <th>PartnerYes</th>\n",
              "      <th>DependentsNo</th>\n",
              "      <th>DependentsYes</th>\n",
              "      <th>PhoneServiceNo</th>\n",
              "      <th>PhoneServiceYes</th>\n",
              "      <th>MultipleLinesNo</th>\n",
              "      <th>MultipleLinesNo phone service</th>\n",
              "      <th>MultipleLinesYes</th>\n",
              "      <th>InternetServiceDSL</th>\n",
              "      <th>InternetServiceFiber optic</th>\n",
              "      <th>InternetServiceNo</th>\n",
              "      <th>OnlineSecurityNo</th>\n",
              "      <th>OnlineSecurityNo internet service</th>\n",
              "      <th>OnlineSecurityYes</th>\n",
              "      <th>OnlineBackupNo</th>\n",
              "      <th>OnlineBackupNo internet service</th>\n",
              "      <th>OnlineBackupYes</th>\n",
              "      <th>DeviceProtectionNo</th>\n",
              "      <th>DeviceProtectionNo internet service</th>\n",
              "      <th>DeviceProtectionYes</th>\n",
              "      <th>TechSupportNo</th>\n",
              "      <th>TechSupportNo internet service</th>\n",
              "      <th>TechSupportYes</th>\n",
              "      <th>StreamingTVNo</th>\n",
              "      <th>StreamingTVNo internet service</th>\n",
              "      <th>StreamingTVYes</th>\n",
              "      <th>StreamingMoviesNo</th>\n",
              "      <th>StreamingMoviesNo internet service</th>\n",
              "      <th>StreamingMoviesYes</th>\n",
              "      <th>ContractMonth-to-month</th>\n",
              "      <th>ContractOne year</th>\n",
              "      <th>ContractTwo year</th>\n",
              "      <th>PaperlessBillingNo</th>\n",
              "      <th>PaperlessBillingYes</th>\n",
              "      <th>PaymentMethodBank transfer (automatic)</th>\n",
              "      <th>PaymentMethodCredit card (automatic)</th>\n",
              "      <th>PaymentMethodElectronic check</th>\n",
              "      <th>PaymentMethodMailed check</th>\n",
              "    </tr>\n",
              "  </thead>\n",
              "  <tbody>\n",
              "    <tr>\n",
              "      <th>0</th>\n",
              "      <td>1</td>\n",
              "      <td>29.85</td>\n",
              "      <td>29.85</td>\n",
              "      <td>0</td>\n",
              "      <td>1</td>\n",
              "      <td>0</td>\n",
              "      <td>1</td>\n",
              "      <td>0</td>\n",
              "      <td>0</td>\n",
              "      <td>1</td>\n",
              "      <td>1</td>\n",
              "      <td>0</td>\n",
              "      <td>1</td>\n",
              "      <td>0</td>\n",
              "      <td>0</td>\n",
              "      <td>1</td>\n",
              "      <td>0</td>\n",
              "      <td>1</td>\n",
              "      <td>0</td>\n",
              "      <td>0</td>\n",
              "      <td>1</td>\n",
              "      <td>0</td>\n",
              "      <td>0</td>\n",
              "      <td>0</td>\n",
              "      <td>0</td>\n",
              "      <td>1</td>\n",
              "      <td>1</td>\n",
              "      <td>0</td>\n",
              "      <td>0</td>\n",
              "      <td>1</td>\n",
              "      <td>0</td>\n",
              "      <td>0</td>\n",
              "      <td>1</td>\n",
              "      <td>0</td>\n",
              "      <td>0</td>\n",
              "      <td>1</td>\n",
              "      <td>0</td>\n",
              "      <td>0</td>\n",
              "      <td>1</td>\n",
              "      <td>0</td>\n",
              "      <td>0</td>\n",
              "      <td>0</td>\n",
              "      <td>1</td>\n",
              "      <td>0</td>\n",
              "      <td>0</td>\n",
              "      <td>1</td>\n",
              "      <td>0</td>\n",
              "    </tr>\n",
              "    <tr>\n",
              "      <th>1</th>\n",
              "      <td>34</td>\n",
              "      <td>56.95</td>\n",
              "      <td>1889.50</td>\n",
              "      <td>0</td>\n",
              "      <td>0</td>\n",
              "      <td>1</td>\n",
              "      <td>1</td>\n",
              "      <td>0</td>\n",
              "      <td>1</td>\n",
              "      <td>0</td>\n",
              "      <td>1</td>\n",
              "      <td>0</td>\n",
              "      <td>0</td>\n",
              "      <td>1</td>\n",
              "      <td>1</td>\n",
              "      <td>0</td>\n",
              "      <td>0</td>\n",
              "      <td>1</td>\n",
              "      <td>0</td>\n",
              "      <td>0</td>\n",
              "      <td>0</td>\n",
              "      <td>0</td>\n",
              "      <td>1</td>\n",
              "      <td>1</td>\n",
              "      <td>0</td>\n",
              "      <td>0</td>\n",
              "      <td>0</td>\n",
              "      <td>0</td>\n",
              "      <td>1</td>\n",
              "      <td>1</td>\n",
              "      <td>0</td>\n",
              "      <td>0</td>\n",
              "      <td>1</td>\n",
              "      <td>0</td>\n",
              "      <td>0</td>\n",
              "      <td>1</td>\n",
              "      <td>0</td>\n",
              "      <td>0</td>\n",
              "      <td>0</td>\n",
              "      <td>1</td>\n",
              "      <td>0</td>\n",
              "      <td>1</td>\n",
              "      <td>0</td>\n",
              "      <td>0</td>\n",
              "      <td>0</td>\n",
              "      <td>0</td>\n",
              "      <td>1</td>\n",
              "    </tr>\n",
              "    <tr>\n",
              "      <th>2</th>\n",
              "      <td>2</td>\n",
              "      <td>53.85</td>\n",
              "      <td>108.15</td>\n",
              "      <td>1</td>\n",
              "      <td>0</td>\n",
              "      <td>1</td>\n",
              "      <td>1</td>\n",
              "      <td>0</td>\n",
              "      <td>1</td>\n",
              "      <td>0</td>\n",
              "      <td>1</td>\n",
              "      <td>0</td>\n",
              "      <td>0</td>\n",
              "      <td>1</td>\n",
              "      <td>1</td>\n",
              "      <td>0</td>\n",
              "      <td>0</td>\n",
              "      <td>1</td>\n",
              "      <td>0</td>\n",
              "      <td>0</td>\n",
              "      <td>0</td>\n",
              "      <td>0</td>\n",
              "      <td>1</td>\n",
              "      <td>0</td>\n",
              "      <td>0</td>\n",
              "      <td>1</td>\n",
              "      <td>1</td>\n",
              "      <td>0</td>\n",
              "      <td>0</td>\n",
              "      <td>1</td>\n",
              "      <td>0</td>\n",
              "      <td>0</td>\n",
              "      <td>1</td>\n",
              "      <td>0</td>\n",
              "      <td>0</td>\n",
              "      <td>1</td>\n",
              "      <td>0</td>\n",
              "      <td>0</td>\n",
              "      <td>1</td>\n",
              "      <td>0</td>\n",
              "      <td>0</td>\n",
              "      <td>0</td>\n",
              "      <td>1</td>\n",
              "      <td>0</td>\n",
              "      <td>0</td>\n",
              "      <td>0</td>\n",
              "      <td>1</td>\n",
              "    </tr>\n",
              "    <tr>\n",
              "      <th>3</th>\n",
              "      <td>45</td>\n",
              "      <td>42.30</td>\n",
              "      <td>1840.75</td>\n",
              "      <td>0</td>\n",
              "      <td>0</td>\n",
              "      <td>1</td>\n",
              "      <td>1</td>\n",
              "      <td>0</td>\n",
              "      <td>1</td>\n",
              "      <td>0</td>\n",
              "      <td>1</td>\n",
              "      <td>0</td>\n",
              "      <td>1</td>\n",
              "      <td>0</td>\n",
              "      <td>0</td>\n",
              "      <td>1</td>\n",
              "      <td>0</td>\n",
              "      <td>1</td>\n",
              "      <td>0</td>\n",
              "      <td>0</td>\n",
              "      <td>0</td>\n",
              "      <td>0</td>\n",
              "      <td>1</td>\n",
              "      <td>1</td>\n",
              "      <td>0</td>\n",
              "      <td>0</td>\n",
              "      <td>0</td>\n",
              "      <td>0</td>\n",
              "      <td>1</td>\n",
              "      <td>0</td>\n",
              "      <td>0</td>\n",
              "      <td>1</td>\n",
              "      <td>1</td>\n",
              "      <td>0</td>\n",
              "      <td>0</td>\n",
              "      <td>1</td>\n",
              "      <td>0</td>\n",
              "      <td>0</td>\n",
              "      <td>0</td>\n",
              "      <td>1</td>\n",
              "      <td>0</td>\n",
              "      <td>1</td>\n",
              "      <td>0</td>\n",
              "      <td>1</td>\n",
              "      <td>0</td>\n",
              "      <td>0</td>\n",
              "      <td>0</td>\n",
              "    </tr>\n",
              "    <tr>\n",
              "      <th>4</th>\n",
              "      <td>2</td>\n",
              "      <td>70.70</td>\n",
              "      <td>151.65</td>\n",
              "      <td>1</td>\n",
              "      <td>1</td>\n",
              "      <td>0</td>\n",
              "      <td>1</td>\n",
              "      <td>0</td>\n",
              "      <td>1</td>\n",
              "      <td>0</td>\n",
              "      <td>1</td>\n",
              "      <td>0</td>\n",
              "      <td>0</td>\n",
              "      <td>1</td>\n",
              "      <td>1</td>\n",
              "      <td>0</td>\n",
              "      <td>0</td>\n",
              "      <td>0</td>\n",
              "      <td>1</td>\n",
              "      <td>0</td>\n",
              "      <td>1</td>\n",
              "      <td>0</td>\n",
              "      <td>0</td>\n",
              "      <td>1</td>\n",
              "      <td>0</td>\n",
              "      <td>0</td>\n",
              "      <td>1</td>\n",
              "      <td>0</td>\n",
              "      <td>0</td>\n",
              "      <td>1</td>\n",
              "      <td>0</td>\n",
              "      <td>0</td>\n",
              "      <td>1</td>\n",
              "      <td>0</td>\n",
              "      <td>0</td>\n",
              "      <td>1</td>\n",
              "      <td>0</td>\n",
              "      <td>0</td>\n",
              "      <td>1</td>\n",
              "      <td>0</td>\n",
              "      <td>0</td>\n",
              "      <td>0</td>\n",
              "      <td>1</td>\n",
              "      <td>0</td>\n",
              "      <td>0</td>\n",
              "      <td>1</td>\n",
              "      <td>0</td>\n",
              "    </tr>\n",
              "    <tr>\n",
              "      <th>5</th>\n",
              "      <td>8</td>\n",
              "      <td>99.65</td>\n",
              "      <td>820.50</td>\n",
              "      <td>1</td>\n",
              "      <td>1</td>\n",
              "      <td>0</td>\n",
              "      <td>1</td>\n",
              "      <td>0</td>\n",
              "      <td>1</td>\n",
              "      <td>0</td>\n",
              "      <td>1</td>\n",
              "      <td>0</td>\n",
              "      <td>0</td>\n",
              "      <td>1</td>\n",
              "      <td>0</td>\n",
              "      <td>0</td>\n",
              "      <td>1</td>\n",
              "      <td>0</td>\n",
              "      <td>1</td>\n",
              "      <td>0</td>\n",
              "      <td>1</td>\n",
              "      <td>0</td>\n",
              "      <td>0</td>\n",
              "      <td>1</td>\n",
              "      <td>0</td>\n",
              "      <td>0</td>\n",
              "      <td>0</td>\n",
              "      <td>0</td>\n",
              "      <td>1</td>\n",
              "      <td>1</td>\n",
              "      <td>0</td>\n",
              "      <td>0</td>\n",
              "      <td>0</td>\n",
              "      <td>0</td>\n",
              "      <td>1</td>\n",
              "      <td>0</td>\n",
              "      <td>0</td>\n",
              "      <td>1</td>\n",
              "      <td>1</td>\n",
              "      <td>0</td>\n",
              "      <td>0</td>\n",
              "      <td>0</td>\n",
              "      <td>1</td>\n",
              "      <td>0</td>\n",
              "      <td>0</td>\n",
              "      <td>1</td>\n",
              "      <td>0</td>\n",
              "    </tr>\n",
              "    <tr>\n",
              "      <th>6</th>\n",
              "      <td>22</td>\n",
              "      <td>89.10</td>\n",
              "      <td>1949.40</td>\n",
              "      <td>0</td>\n",
              "      <td>0</td>\n",
              "      <td>1</td>\n",
              "      <td>1</td>\n",
              "      <td>0</td>\n",
              "      <td>1</td>\n",
              "      <td>0</td>\n",
              "      <td>0</td>\n",
              "      <td>1</td>\n",
              "      <td>0</td>\n",
              "      <td>1</td>\n",
              "      <td>0</td>\n",
              "      <td>0</td>\n",
              "      <td>1</td>\n",
              "      <td>0</td>\n",
              "      <td>1</td>\n",
              "      <td>0</td>\n",
              "      <td>1</td>\n",
              "      <td>0</td>\n",
              "      <td>0</td>\n",
              "      <td>0</td>\n",
              "      <td>0</td>\n",
              "      <td>1</td>\n",
              "      <td>1</td>\n",
              "      <td>0</td>\n",
              "      <td>0</td>\n",
              "      <td>1</td>\n",
              "      <td>0</td>\n",
              "      <td>0</td>\n",
              "      <td>0</td>\n",
              "      <td>0</td>\n",
              "      <td>1</td>\n",
              "      <td>1</td>\n",
              "      <td>0</td>\n",
              "      <td>0</td>\n",
              "      <td>1</td>\n",
              "      <td>0</td>\n",
              "      <td>0</td>\n",
              "      <td>0</td>\n",
              "      <td>1</td>\n",
              "      <td>0</td>\n",
              "      <td>1</td>\n",
              "      <td>0</td>\n",
              "      <td>0</td>\n",
              "    </tr>\n",
              "    <tr>\n",
              "      <th>7</th>\n",
              "      <td>10</td>\n",
              "      <td>29.75</td>\n",
              "      <td>301.90</td>\n",
              "      <td>0</td>\n",
              "      <td>1</td>\n",
              "      <td>0</td>\n",
              "      <td>1</td>\n",
              "      <td>0</td>\n",
              "      <td>1</td>\n",
              "      <td>0</td>\n",
              "      <td>1</td>\n",
              "      <td>0</td>\n",
              "      <td>1</td>\n",
              "      <td>0</td>\n",
              "      <td>0</td>\n",
              "      <td>1</td>\n",
              "      <td>0</td>\n",
              "      <td>1</td>\n",
              "      <td>0</td>\n",
              "      <td>0</td>\n",
              "      <td>0</td>\n",
              "      <td>0</td>\n",
              "      <td>1</td>\n",
              "      <td>1</td>\n",
              "      <td>0</td>\n",
              "      <td>0</td>\n",
              "      <td>1</td>\n",
              "      <td>0</td>\n",
              "      <td>0</td>\n",
              "      <td>1</td>\n",
              "      <td>0</td>\n",
              "      <td>0</td>\n",
              "      <td>1</td>\n",
              "      <td>0</td>\n",
              "      <td>0</td>\n",
              "      <td>1</td>\n",
              "      <td>0</td>\n",
              "      <td>0</td>\n",
              "      <td>1</td>\n",
              "      <td>0</td>\n",
              "      <td>0</td>\n",
              "      <td>1</td>\n",
              "      <td>0</td>\n",
              "      <td>0</td>\n",
              "      <td>0</td>\n",
              "      <td>0</td>\n",
              "      <td>1</td>\n",
              "    </tr>\n",
              "    <tr>\n",
              "      <th>8</th>\n",
              "      <td>28</td>\n",
              "      <td>104.80</td>\n",
              "      <td>3046.05</td>\n",
              "      <td>1</td>\n",
              "      <td>1</td>\n",
              "      <td>0</td>\n",
              "      <td>1</td>\n",
              "      <td>0</td>\n",
              "      <td>0</td>\n",
              "      <td>1</td>\n",
              "      <td>1</td>\n",
              "      <td>0</td>\n",
              "      <td>0</td>\n",
              "      <td>1</td>\n",
              "      <td>0</td>\n",
              "      <td>0</td>\n",
              "      <td>1</td>\n",
              "      <td>0</td>\n",
              "      <td>1</td>\n",
              "      <td>0</td>\n",
              "      <td>1</td>\n",
              "      <td>0</td>\n",
              "      <td>0</td>\n",
              "      <td>1</td>\n",
              "      <td>0</td>\n",
              "      <td>0</td>\n",
              "      <td>0</td>\n",
              "      <td>0</td>\n",
              "      <td>1</td>\n",
              "      <td>0</td>\n",
              "      <td>0</td>\n",
              "      <td>1</td>\n",
              "      <td>0</td>\n",
              "      <td>0</td>\n",
              "      <td>1</td>\n",
              "      <td>0</td>\n",
              "      <td>0</td>\n",
              "      <td>1</td>\n",
              "      <td>1</td>\n",
              "      <td>0</td>\n",
              "      <td>0</td>\n",
              "      <td>0</td>\n",
              "      <td>1</td>\n",
              "      <td>0</td>\n",
              "      <td>0</td>\n",
              "      <td>1</td>\n",
              "      <td>0</td>\n",
              "    </tr>\n",
              "    <tr>\n",
              "      <th>9</th>\n",
              "      <td>62</td>\n",
              "      <td>56.15</td>\n",
              "      <td>3487.95</td>\n",
              "      <td>0</td>\n",
              "      <td>0</td>\n",
              "      <td>1</td>\n",
              "      <td>1</td>\n",
              "      <td>0</td>\n",
              "      <td>1</td>\n",
              "      <td>0</td>\n",
              "      <td>0</td>\n",
              "      <td>1</td>\n",
              "      <td>0</td>\n",
              "      <td>1</td>\n",
              "      <td>1</td>\n",
              "      <td>0</td>\n",
              "      <td>0</td>\n",
              "      <td>1</td>\n",
              "      <td>0</td>\n",
              "      <td>0</td>\n",
              "      <td>0</td>\n",
              "      <td>0</td>\n",
              "      <td>1</td>\n",
              "      <td>0</td>\n",
              "      <td>0</td>\n",
              "      <td>1</td>\n",
              "      <td>1</td>\n",
              "      <td>0</td>\n",
              "      <td>0</td>\n",
              "      <td>1</td>\n",
              "      <td>0</td>\n",
              "      <td>0</td>\n",
              "      <td>1</td>\n",
              "      <td>0</td>\n",
              "      <td>0</td>\n",
              "      <td>1</td>\n",
              "      <td>0</td>\n",
              "      <td>0</td>\n",
              "      <td>0</td>\n",
              "      <td>1</td>\n",
              "      <td>0</td>\n",
              "      <td>1</td>\n",
              "      <td>0</td>\n",
              "      <td>1</td>\n",
              "      <td>0</td>\n",
              "      <td>0</td>\n",
              "      <td>0</td>\n",
              "    </tr>\n",
              "  </tbody>\n",
              "</table>\n",
              "</div>"
            ],
            "text/plain": [
              "   tenure  ...  PaymentMethodMailed check\n",
              "0       1  ...                          0\n",
              "1      34  ...                          1\n",
              "2       2  ...                          1\n",
              "3      45  ...                          0\n",
              "4       2  ...                          0\n",
              "5       8  ...                          0\n",
              "6      22  ...                          0\n",
              "7      10  ...                          1\n",
              "8      28  ...                          0\n",
              "9      62  ...                          0\n",
              "\n",
              "[10 rows x 47 columns]"
            ]
          },
          "metadata": {
            "tags": []
          },
          "execution_count": 5
        }
      ]
    },
    {
      "cell_type": "code",
      "metadata": {
        "id": "fWqdZzsev7Tm",
        "outputId": "27bdbf1a-11fc-4d95-f7e1-a93385c81ab1",
        "colab": {
          "base_uri": "https://localhost:8080/",
          "height": 85
        }
      },
      "source": [
        "X = sample_set.drop(columns='Churn')\n",
        "y= sample_set['Churn']\n",
        "print(X.shape)\n",
        "print(y.shape)\n",
        "X_train,  X_test, y_train, y_test = train_test_split(X,y, test_size = 0.2, \n",
        "                                                     random_state = 42,stratify=y)\n",
        "\n",
        "scaler = StandardScaler()\n",
        "X_train = scaler.fit_transform(X_train)\n",
        "X_test = scaler.fit_transform(X_test)\n",
        "\n",
        "print(X_train.shape,y_train.shape)\n",
        "print(X_test.shape,y_test.shape)"
      ],
      "execution_count": 6,
      "outputs": [
        {
          "output_type": "stream",
          "text": [
            "(7032, 46)\n",
            "(7032,)\n",
            "(5625, 46) (5625,)\n",
            "(1407, 46) (1407,)\n"
          ],
          "name": "stdout"
        }
      ]
    },
    {
      "cell_type": "code",
      "metadata": {
        "id": "aZ3sF1UZv-g-",
        "outputId": "575f2f24-7c27-4450-c166-379f0351ecb0",
        "colab": {
          "base_uri": "https://localhost:8080/",
          "height": 204
        }
      },
      "source": [
        "model=XGBClassifier()\n",
        "model.fit(X_train, y_train)\n",
        "y_pred = model.predict(X_test)\n",
        "print('Balanced accuracy score:',balanced_accuracy_score(y_test,y_pred))\n",
        "print('Matthews_corrcoef accuracy score:',matthews_corrcoef(y_test,y_pred))\n",
        "print(classification_report(y_test,y_pred))"
      ],
      "execution_count": 7,
      "outputs": [
        {
          "output_type": "stream",
          "text": [
            "Balanced accuracy score: 0.6944287703640816\n",
            "Matthews_corrcoef accuracy score: 0.4285486325890265\n",
            "              precision    recall  f1-score   support\n",
            "\n",
            "           0       0.83      0.90      0.86      1033\n",
            "           1       0.64      0.49      0.55       374\n",
            "\n",
            "    accuracy                           0.79      1407\n",
            "   macro avg       0.74      0.69      0.71      1407\n",
            "weighted avg       0.78      0.79      0.78      1407\n",
            "\n"
          ],
          "name": "stdout"
        }
      ]
    },
    {
      "cell_type": "markdown",
      "metadata": {
        "id": "DW2Qd65kwaym"
      },
      "source": [
        "## Pytorch model"
      ]
    },
    {
      "cell_type": "code",
      "metadata": {
        "id": "A59PA1RzwA4f"
      },
      "source": [
        "EPOCHS = 50\n",
        "BATCH_SIZE = 64\n",
        "LEARNING_RATE = 0.001"
      ],
      "execution_count": 8,
      "outputs": []
    },
    {
      "cell_type": "code",
      "metadata": {
        "id": "fb3mBh5Xw7qt"
      },
      "source": [
        "## train data\n",
        "class trainData(Dataset):\n",
        "    \n",
        "    def __init__(self, X_data, y_data):\n",
        "        self.X_data = X_data\n",
        "        self.y_data = y_data\n",
        "        \n",
        "    def __getitem__(self, index):\n",
        "        return self.X_data[index], self.y_data[index]\n",
        "        \n",
        "    def __len__ (self):\n",
        "        return len(self.X_data)\n",
        "## test data    \n",
        "class testData(Dataset):\n",
        "    \n",
        "    def __init__(self, X_data):\n",
        "        self.X_data = X_data\n",
        "        \n",
        "    def __getitem__(self, index):\n",
        "        return self.X_data[index]\n",
        "        \n",
        "    def __len__ (self):\n",
        "        return len(self.X_data)"
      ],
      "execution_count": 9,
      "outputs": []
    },
    {
      "cell_type": "code",
      "metadata": {
        "id": "PBaEf9rs48U7"
      },
      "source": [
        "train_data = trainData(torch.FloatTensor(X_train),torch.FloatTensor(y_train))\n",
        "test_data = testData(torch.FloatTensor(X_test))"
      ],
      "execution_count": null,
      "outputs": []
    },
    {
      "cell_type": "code",
      "metadata": {
        "id": "Yj7ss93q5Hl7",
        "outputId": "f6203411-00cd-4ce2-f8db-3302b4b85143",
        "colab": {
          "base_uri": "https://localhost:8080/",
          "height": 34
        }
      },
      "source": [
        "X.shape[1]"
      ],
      "execution_count": null,
      "outputs": [
        {
          "output_type": "execute_result",
          "data": {
            "text/plain": [
              "46"
            ]
          },
          "metadata": {
            "tags": []
          },
          "execution_count": 58
        }
      ]
    },
    {
      "cell_type": "code",
      "metadata": {
        "id": "Db9qkjhdw-nk"
      },
      "source": [
        "train_loader = DataLoader(dataset=train_data, batch_size=BATCH_SIZE, shuffle=True)\n",
        "test_loader = DataLoader(dataset=test_data, batch_size=1)"
      ],
      "execution_count": null,
      "outputs": []
    },
    {
      "cell_type": "code",
      "metadata": {
        "id": "VrAzDsSLw_13"
      },
      "source": [
        "class binaryClassification(nn.Module):\n",
        "    def __init__(self):\n",
        "        super(binaryClassification, self).__init__()\n",
        "        # Number of input features is 12.\n",
        "        self.layer_1 = nn.Linear(X.shape[1], 64) \n",
        "        self.layer_2 = nn.Linear(64, 64)\n",
        "        self.layer_out = nn.Linear(64, 1) \n",
        "        \n",
        "        self.relu = nn.ReLU()\n",
        "        self.dropout = nn.Dropout(p=0.1)\n",
        "        self.batchnorm1 = nn.BatchNorm1d(64)\n",
        "        self.batchnorm2 = nn.BatchNorm1d(64)\n",
        "        \n",
        "    def forward(self, inputs):\n",
        "        x = self.relu(self.layer_1(inputs))\n",
        "        x = self.batchnorm1(x)\n",
        "        x = self.relu(self.layer_2(x))\n",
        "        x = self.batchnorm2(x)\n",
        "        x = self.dropout(x)\n",
        "        x = self.layer_out(x)\n",
        "        \n",
        "        return x"
      ],
      "execution_count": null,
      "outputs": []
    },
    {
      "cell_type": "code",
      "metadata": {
        "id": "wIo7VY3rxBFM",
        "outputId": "92a26ff3-cb90-47cc-8250-298411212835",
        "colab": {
          "base_uri": "https://localhost:8080/",
          "height": 34
        }
      },
      "source": [
        "device = torch.device(\"cuda:0\" if torch.cuda.is_available() else \"cpu\")\n",
        "print(device)"
      ],
      "execution_count": null,
      "outputs": [
        {
          "output_type": "stream",
          "text": [
            "cpu\n"
          ],
          "name": "stdout"
        }
      ]
    },
    {
      "cell_type": "code",
      "metadata": {
        "id": "AtIw68fKxB07",
        "outputId": "53f4bf00-f6a6-4334-bdb1-080bd213462e",
        "colab": {
          "base_uri": "https://localhost:8080/",
          "height": 190
        }
      },
      "source": [
        "model = binaryClassification()\n",
        "model.to(device)\n",
        "print(model)\n",
        "criterion = nn.BCEWithLogitsLoss()\n",
        "optimizer = optim.Adam(model.parameters(), lr=LEARNING_RATE)"
      ],
      "execution_count": null,
      "outputs": [
        {
          "output_type": "stream",
          "text": [
            "binaryClassification(\n",
            "  (layer_1): Linear(in_features=46, out_features=64, bias=True)\n",
            "  (layer_2): Linear(in_features=64, out_features=64, bias=True)\n",
            "  (layer_out): Linear(in_features=64, out_features=1, bias=True)\n",
            "  (relu): ReLU()\n",
            "  (dropout): Dropout(p=0.1, inplace=False)\n",
            "  (batchnorm1): BatchNorm1d(64, eps=1e-05, momentum=0.1, affine=True, track_running_stats=True)\n",
            "  (batchnorm2): BatchNorm1d(64, eps=1e-05, momentum=0.1, affine=True, track_running_stats=True)\n",
            ")\n"
          ],
          "name": "stdout"
        }
      ]
    },
    {
      "cell_type": "code",
      "metadata": {
        "id": "kmKRMXA3xC7c"
      },
      "source": [
        "def binary_acc(y_pred, y_test):\n",
        "    y_pred_tag = torch.round(torch.sigmoid(y_pred))\n",
        "\n",
        "    correct_results_sum = (y_pred_tag == y_test).sum().float()\n",
        "    acc = correct_results_sum/y_test.shape[0]\n",
        "    acc = torch.round(acc * 100)\n",
        "    \n",
        "    return acc"
      ],
      "execution_count": null,
      "outputs": []
    },
    {
      "cell_type": "code",
      "metadata": {
        "id": "alSbk6EgxEZJ",
        "outputId": "227930a6-1608-4393-ed81-58f5f40bbabc",
        "colab": {
          "base_uri": "https://localhost:8080/",
          "height": 867
        }
      },
      "source": [
        "model.train()\n",
        "for e in range(1, EPOCHS+1):\n",
        "    epoch_loss = 0\n",
        "    epoch_acc = 0\n",
        "    for X_batch, y_batch in train_loader:\n",
        "        #Get the input, data is a list of [inputs, labels], transfer to GPU\n",
        "        X_batch, y_batch = X_batch.to(device), y_batch.to(device)\n",
        "        #1. Initialise gradients \n",
        "        optimizer.zero_grad()\n",
        "        #2 Forward pass\n",
        "        y_pred = model(X_batch)\n",
        "        loss = criterion(y_pred, y_batch.unsqueeze(1))\n",
        "        acc = binary_acc(y_pred, y_batch.unsqueeze(1))\n",
        "        #3 Backward\n",
        "        loss.backward()\n",
        "        #4 Copute the loss and update the weights\n",
        "        optimizer.step()\n",
        "        \n",
        "        epoch_loss += loss.item() # Loss each batch\n",
        "        epoch_acc += acc.item() # acc each batch\n",
        "        \n",
        "    # Loss and acc per each Eposhs\n",
        "    print(f'Epoch {e+0:03}: | Loss: {epoch_loss/len(train_loader):.5f} | Acc: {epoch_acc/len(train_loader):.3f}')"
      ],
      "execution_count": null,
      "outputs": [
        {
          "output_type": "stream",
          "text": [
            "Epoch 001: | Loss: 0.53652 | Acc: 75.205\n",
            "Epoch 002: | Loss: 0.45769 | Acc: 79.307\n",
            "Epoch 003: | Loss: 0.42025 | Acc: 80.341\n",
            "Epoch 004: | Loss: 0.40758 | Acc: 81.034\n",
            "Epoch 005: | Loss: 0.40132 | Acc: 81.045\n",
            "Epoch 006: | Loss: 0.39310 | Acc: 81.159\n",
            "Epoch 007: | Loss: 0.39445 | Acc: 81.375\n",
            "Epoch 008: | Loss: 0.39100 | Acc: 81.727\n",
            "Epoch 009: | Loss: 0.38122 | Acc: 82.398\n",
            "Epoch 010: | Loss: 0.38077 | Acc: 82.080\n",
            "Epoch 011: | Loss: 0.37267 | Acc: 82.466\n",
            "Epoch 012: | Loss: 0.37510 | Acc: 82.114\n",
            "Epoch 013: | Loss: 0.36919 | Acc: 82.568\n",
            "Epoch 014: | Loss: 0.36843 | Acc: 82.443\n",
            "Epoch 015: | Loss: 0.36131 | Acc: 83.239\n",
            "Epoch 016: | Loss: 0.35704 | Acc: 83.284\n",
            "Epoch 017: | Loss: 0.35807 | Acc: 83.091\n",
            "Epoch 018: | Loss: 0.35137 | Acc: 83.420\n",
            "Epoch 019: | Loss: 0.35336 | Acc: 83.432\n",
            "Epoch 020: | Loss: 0.34553 | Acc: 83.727\n",
            "Epoch 021: | Loss: 0.33794 | Acc: 84.420\n",
            "Epoch 022: | Loss: 0.34286 | Acc: 84.216\n",
            "Epoch 023: | Loss: 0.33959 | Acc: 84.500\n",
            "Epoch 024: | Loss: 0.33001 | Acc: 84.750\n",
            "Epoch 025: | Loss: 0.32645 | Acc: 84.898\n",
            "Epoch 026: | Loss: 0.32398 | Acc: 85.239\n",
            "Epoch 027: | Loss: 0.32881 | Acc: 84.682\n",
            "Epoch 028: | Loss: 0.31983 | Acc: 85.818\n",
            "Epoch 029: | Loss: 0.32362 | Acc: 84.761\n",
            "Epoch 030: | Loss: 0.31933 | Acc: 85.511\n",
            "Epoch 031: | Loss: 0.31400 | Acc: 85.636\n",
            "Epoch 032: | Loss: 0.31115 | Acc: 85.398\n",
            "Epoch 033: | Loss: 0.31174 | Acc: 85.807\n",
            "Epoch 034: | Loss: 0.30321 | Acc: 86.091\n",
            "Epoch 035: | Loss: 0.30104 | Acc: 86.295\n",
            "Epoch 036: | Loss: 0.30104 | Acc: 86.784\n",
            "Epoch 037: | Loss: 0.29706 | Acc: 86.273\n",
            "Epoch 038: | Loss: 0.30097 | Acc: 86.455\n",
            "Epoch 039: | Loss: 0.29094 | Acc: 86.864\n",
            "Epoch 040: | Loss: 0.28620 | Acc: 86.307\n",
            "Epoch 041: | Loss: 0.28658 | Acc: 87.034\n",
            "Epoch 042: | Loss: 0.28096 | Acc: 87.318\n",
            "Epoch 043: | Loss: 0.28593 | Acc: 87.125\n",
            "Epoch 044: | Loss: 0.27860 | Acc: 87.443\n",
            "Epoch 045: | Loss: 0.27651 | Acc: 87.739\n",
            "Epoch 046: | Loss: 0.27448 | Acc: 87.523\n",
            "Epoch 047: | Loss: 0.27788 | Acc: 87.466\n",
            "Epoch 048: | Loss: 0.27391 | Acc: 87.193\n",
            "Epoch 049: | Loss: 0.27142 | Acc: 87.818\n",
            "Epoch 050: | Loss: 0.26985 | Acc: 87.864\n"
          ],
          "name": "stdout"
        }
      ]
    },
    {
      "cell_type": "code",
      "metadata": {
        "id": "aHHpQBC4xFR6"
      },
      "source": [
        "y_pred_list = []\n",
        "model.eval()\n",
        "with torch.no_grad():\n",
        "    for X_batch in test_loader:\n",
        "        X_batch = X_batch.to(device)\n",
        "        y_test_pred = model(X_batch) # make predictions\n",
        "        y_test_pred = torch.sigmoid(y_test_pred) # convert to propability 0-1\n",
        "        y_pred_tag = torch.round(y_test_pred) # round to 0,1\n",
        "        y_pred_list.append(y_pred_tag.cpu().numpy())# move batch to GPU, convert to numpy object and append to list\n",
        "\n",
        "y_pred = [a.squeeze().tolist() for a in y_pred_list] #Flatten out the list for confusion matrix and classification report"
      ],
      "execution_count": null,
      "outputs": []
    },
    {
      "cell_type": "code",
      "metadata": {
        "id": "871fXYHdxIUI",
        "outputId": "a80922f8-ce99-4d83-fa6d-f39753a07f9a",
        "colab": {
          "base_uri": "https://localhost:8080/",
          "height": 204
        }
      },
      "source": [
        "print('balanced_accuracy_score: ',balanced_accuracy_score(y_test, y_pred))\n",
        "print('matthews_corrcoef: ',matthews_corrcoef(y_test, y_pred))\n",
        "print(classification_report(y_test, y_pred))"
      ],
      "execution_count": null,
      "outputs": [
        {
          "output_type": "stream",
          "text": [
            "balanced_accuracy_score:  0.6943834737098218\n",
            "matthews_corrcoef:  0.40448462897704845\n",
            "              precision    recall  f1-score   support\n",
            "\n",
            "           0       0.83      0.87      0.85      1033\n",
            "           1       0.59      0.52      0.55       374\n",
            "\n",
            "    accuracy                           0.78      1407\n",
            "   macro avg       0.71      0.69      0.70      1407\n",
            "weighted avg       0.77      0.78      0.77      1407\n",
            "\n"
          ],
          "name": "stdout"
        }
      ]
    },
    {
      "cell_type": "markdown",
      "metadata": {
        "id": "tL9FBNkl50H5"
      },
      "source": [
        "## Pytorch model 2 (with train,val and test), best model"
      ]
    },
    {
      "cell_type": "code",
      "metadata": {
        "id": "DU9C34Z1AVHF"
      },
      "source": [
        "import numpy as np\n",
        "import pandas as pd\n",
        "import matplotlib.pyplot as plt\n",
        "import seaborn as sns ; sns.set()\n",
        "#pytorch\n",
        "from tqdm.notebook import tqdm\n",
        "import torch\n",
        "import torch.nn as nn\n",
        "import torch.optim as optim\n",
        "import torch.nn.functional as F\n",
        "from torch.utils.data import Dataset, DataLoader\n",
        "\n",
        "#Load sklearn\n",
        "from sklearn.preprocessing import StandardScaler, RobustScaler\n",
        "from sklearn.model_selection import train_test_split\n",
        "from sklearn.metrics import classification_report ,balanced_accuracy_score,matthews_corrcoef\n"
      ],
      "execution_count": 77,
      "outputs": []
    },
    {
      "cell_type": "code",
      "metadata": {
        "id": "Mlb32obkB1Zu",
        "outputId": "689fe97d-54ac-486e-cfde-3a8102d9e9b8",
        "colab": {
          "base_uri": "https://localhost:8080/",
          "height": 34
        }
      },
      "source": [
        "path='https://raw.githubusercontent.com/rstudio/keras-customer-churn/master/data/WA_Fn-UseC_-Telco-Customer-Churn.csv'\n",
        "df=pd.read_csv(path)\n",
        "print(df.shape)\n",
        "df['Churn'] = df['Churn'].apply(lambda x: 1 if x == 'Yes' else 0)\n",
        "df['Churn'].value_counts(normalize=True)\n",
        "df['TotalCharges'] = df['TotalCharges'].replace(' ', np.nan).astype(float)\n",
        "df = df.dropna()\n",
        "#One hot encoding\n",
        "dummy_cols = []\n",
        "# column with value\n",
        "sample_set = df[['tenure', 'MonthlyCharges', 'TotalCharges', 'Churn']].copy(deep=True)\n",
        "# for other column with category, only one hot with column have nuique < 5\n",
        "for col in list(df.columns):\n",
        "    if col not in ['tenure', 'MonthlyCharges', 'TotalCharges', 'Churn'] and df[col].nunique() < 5:\n",
        "        dummy_vars = pd.get_dummies(df[col])\n",
        "        dummy_vars.columns = [col+str(x) for x in dummy_vars.columns]        \n",
        "        sample_set = pd.concat([sample_set, dummy_vars], axis=1)\n",
        "X = sample_set.drop(columns='Churn')\n",
        "y= sample_set['Churn']"
      ],
      "execution_count": 84,
      "outputs": [
        {
          "output_type": "stream",
          "text": [
            "(7043, 21)\n"
          ],
          "name": "stdout"
        }
      ]
    },
    {
      "cell_type": "code",
      "metadata": {
        "id": "cnHA1NUp6cj_",
        "outputId": "eff6f4b4-1677-48a4-cf9e-11c8b48bc944",
        "colab": {
          "base_uri": "https://localhost:8080/",
          "height": 85
        }
      },
      "source": [
        "# Train - Test\n",
        "X_trainval, X_test, y_trainval, y_test = train_test_split(X, y, test_size=0.2,stratify=y,\n",
        "                                                          random_state=2020)\n",
        "# Split train into train-val\n",
        "X_train, X_val, y_train, y_val = train_test_split(X_trainval, y_trainval, stratify=y_trainval,\n",
        "                                                  test_size=0.1, random_state=2020)\n",
        "X_train = scaler.fit_transform(X_train)\n",
        "X_val = scaler.fit_transform(X_val)\n",
        "X_test = scaler.fit_transform(X_test)\n",
        "\n",
        "print(X.shape, y.shape)\n",
        "print(X_train.shape, y_train.shape)\n",
        "print(X_val.shape, y_val.shape)\n",
        "print(X_test.shape, y_test.shape)"
      ],
      "execution_count": 85,
      "outputs": [
        {
          "output_type": "stream",
          "text": [
            "(7032, 46) (7032,)\n",
            "(5062, 46) (5062,)\n",
            "(563, 46) (563,)\n",
            "(1407, 46) (1407,)\n"
          ],
          "name": "stdout"
        }
      ]
    },
    {
      "cell_type": "code",
      "metadata": {
        "id": "i1WO4ssn5Tck"
      },
      "source": [
        "class BinaryData(Dataset):\n",
        "    \n",
        "    def __init__(self, X_data, y_data):\n",
        "        self.X_data = X_data\n",
        "        self.y_data = y_data\n",
        "        \n",
        "    def __getitem__(self, index):\n",
        "        return self.X_data[index], self.y_data[index]\n",
        "        \n",
        "    def __len__ (self):\n",
        "        return len(self.X_data)\n"
      ],
      "execution_count": 86,
      "outputs": []
    },
    {
      "cell_type": "code",
      "metadata": {
        "id": "M7CLHRS66Wk-",
        "outputId": "e5ef92f4-5dcf-4b07-af1c-9c5a64a88ab4",
        "colab": {
          "base_uri": "https://localhost:8080/",
          "height": 34
        }
      },
      "source": [
        "train_data = BinaryData(torch.FloatTensor(X_train),torch.FloatTensor(y_train.values))\n",
        "val_data   = BinaryData(torch.FloatTensor(X_val),torch.FloatTensor(y_val.values))\n",
        "test_data = BinaryData(torch.FloatTensor(X_test),torch.FloatTensor(y_test.values))\n",
        "print(train_data.X_data.shape,train_data.y_data.shape)"
      ],
      "execution_count": 87,
      "outputs": [
        {
          "output_type": "stream",
          "text": [
            "torch.Size([5062, 46]) torch.Size([5062])\n"
          ],
          "name": "stdout"
        }
      ]
    },
    {
      "cell_type": "code",
      "metadata": {
        "id": "qTt9Jsv98mDA"
      },
      "source": [
        "EPOCHS = 50\n",
        "BATCH_SIZE = 64\n",
        "LEARNING_RATE = 0.001"
      ],
      "execution_count": 88,
      "outputs": []
    },
    {
      "cell_type": "code",
      "metadata": {
        "id": "4QPzePeQ9wE9"
      },
      "source": [
        "train_loader = DataLoader(dataset=train_data, batch_size=BATCH_SIZE, shuffle=True)\n",
        "val_loader = DataLoader(dataset=val_data, batch_size=1)\n",
        "test_loader = DataLoader(dataset=test_data, batch_size=1)"
      ],
      "execution_count": 89,
      "outputs": []
    },
    {
      "cell_type": "code",
      "metadata": {
        "id": "6VX-GHFi9wPD"
      },
      "source": [
        "class binaryClassification(nn.Module):\n",
        "    def __init__(self):\n",
        "        super(binaryClassification, self).__init__()\n",
        "        # Number of input features is 12.\n",
        "        self.layer_1 = nn.Linear(X.shape[1], 64) \n",
        "        self.layer_2 = nn.Linear(64, 64)\n",
        "        self.layer_out = nn.Linear(64, 1) \n",
        "        \n",
        "        self.relu = nn.ReLU()\n",
        "        self.dropout = nn.Dropout(p=0.1)\n",
        "        self.batchnorm1 = nn.BatchNorm1d(64)\n",
        "        self.batchnorm2 = nn.BatchNorm1d(64)\n",
        "        \n",
        "    def forward(self, inputs):\n",
        "        x = self.relu(self.layer_1(inputs))\n",
        "        x = self.batchnorm1(x)\n",
        "        x = self.relu(self.layer_2(x))\n",
        "        x = self.batchnorm2(x)\n",
        "        x = self.dropout(x)\n",
        "        x = self.layer_out(x)\n",
        "        \n",
        "        return x"
      ],
      "execution_count": 90,
      "outputs": []
    },
    {
      "cell_type": "code",
      "metadata": {
        "id": "31G1GgrRA-0i"
      },
      "source": [
        "def binary_acc(y_pred, y_test):\n",
        "    y_pred_tag = torch.round(torch.sigmoid(y_pred))\n",
        "\n",
        "    correct_results_sum = (y_pred_tag == y_test).sum().float()\n",
        "    acc = correct_results_sum/y_test.shape[0]\n",
        "    acc = torch.round(acc * 100)\n",
        "    \n",
        "    return acc"
      ],
      "execution_count": 91,
      "outputs": []
    },
    {
      "cell_type": "code",
      "metadata": {
        "id": "HEIXZnPE9wTF",
        "outputId": "dc1b2330-238b-4f24-dcb5-dab846050af8",
        "colab": {
          "base_uri": "https://localhost:8080/",
          "height": 207
        }
      },
      "source": [
        "device = torch.device(\"cuda:0\" if torch.cuda.is_available() else \"cpu\")\n",
        "print(device)\n",
        "model = binaryClassification()\n",
        "model.to(device)\n",
        "print(model)\n",
        "criterion = nn.BCEWithLogitsLoss()\n",
        "optimizer = optim.Adam(model.parameters(), lr=LEARNING_RATE)"
      ],
      "execution_count": 92,
      "outputs": [
        {
          "output_type": "stream",
          "text": [
            "cpu\n",
            "binaryClassification(\n",
            "  (layer_1): Linear(in_features=46, out_features=64, bias=True)\n",
            "  (layer_2): Linear(in_features=64, out_features=64, bias=True)\n",
            "  (layer_out): Linear(in_features=64, out_features=1, bias=True)\n",
            "  (relu): ReLU()\n",
            "  (dropout): Dropout(p=0.1, inplace=False)\n",
            "  (batchnorm1): BatchNorm1d(64, eps=1e-05, momentum=0.1, affine=True, track_running_stats=True)\n",
            "  (batchnorm2): BatchNorm1d(64, eps=1e-05, momentum=0.1, affine=True, track_running_stats=True)\n",
            ")\n"
          ],
          "name": "stdout"
        }
      ]
    },
    {
      "cell_type": "code",
      "metadata": {
        "id": "AsGmzPUrBmOd"
      },
      "source": [
        "loss_stats = {'train': [],'val': []}\n",
        "acc_stats={'train': [], 'val': []}"
      ],
      "execution_count": 93,
      "outputs": []
    },
    {
      "cell_type": "code",
      "metadata": {
        "id": "9LXrpXGG9wM-",
        "outputId": "0e5de40b-3123-4908-cf6e-3b6016ac267d",
        "colab": {
          "base_uri": "https://localhost:8080/",
          "height": 916,
          "referenced_widgets": [
            "bb7a208db3a944b29350d92ddabbd196",
            "f20fb842b0134a268ca130d7c154cb65",
            "22bcec5e6e24426dba4fd6c860637d47",
            "314d9d0e4e1f47e1a0b0b6e9c489780e",
            "e6bef63215b446b4b1b13336ecf95484",
            "962d96610cc44125a369f8c0264b41f8",
            "c228cedece5a48f68da676122cc050ca",
            "3818352aa2a94cd5994cbfb015bde267"
          ]
        }
      },
      "source": [
        "model.train()\n",
        "for e in tqdm(range(1, EPOCHS+1)):\n",
        "  train_epoch_loss = 0\n",
        "  train_epoch_acc = 0\n",
        "  model.train() # model.train() tells PyTorch that you’re in training mode.\n",
        "  for X_batch, y_batch in train_loader:\n",
        "      #Get the input, data is a list of [inputs, labels], transfer to GPU\n",
        "      X_batch, y_batch = X_batch.to(device), y_batch.to(device)\n",
        "      #1. Initialise gradients \n",
        "      optimizer.zero_grad()\n",
        "      #2 Forward pass\n",
        "      y_pred = model(X_batch)\n",
        "      train_loss = criterion(y_pred, y_batch.unsqueeze(1))\n",
        "      train_acc = binary_acc(y_pred, y_batch.unsqueeze(1))\n",
        "      #3 Backward\n",
        "      train_loss.backward()\n",
        "      #4 Copute the loss and update the weights\n",
        "      optimizer.step()\n",
        "      \n",
        "      train_epoch_loss += train_loss.item() # Loss each batch\n",
        "      train_epoch_acc += train_acc.item() # acc each batch\n",
        "         \n",
        "  # VALIDATION \n",
        "  #tells PyTorch that we do not want to perform back-propagation, which reduces memory usage and speeds up computation.   \n",
        "  with torch.no_grad():\n",
        "\n",
        "      val_epoch_loss = 0\n",
        "      val_epoch_acc = 0\n",
        "      model.eval() # we’ll call model.eval() when we test our model\n",
        "      for X_val_batch, y_val_batch in val_loader:\n",
        "          X_val_batch, y_val_batch = X_val_batch.to(device), y_val_batch.to(device)\n",
        "          y_val_pred = model(X_val_batch)    \n",
        "          val_loss = criterion(y_val_pred, y_val_batch.unsqueeze(1))\n",
        "          val_acc = binary_acc(y_pred, y_batch.unsqueeze(1))\n",
        "\n",
        "          val_epoch_loss += val_loss.item()\n",
        "          val_epoch_acc += val_acc.item() # acc each batch\n",
        "\n",
        "  train_loss_final=train_epoch_loss/len(train_loader) # loss each epoch\n",
        "  train_acc_final =train_epoch_acc/len(train_loader) # acc each eopch\n",
        "  val_loss_final  =val_epoch_loss/len(val_loader)\n",
        "  val_acc_final   =val_epoch_acc/len(val_loader)\n",
        "\n",
        "  loss_stats['train'].append(train_loss_final) # list of lost each epoch\n",
        "  acc_stats['train'].append(train_acc_final)\n",
        "  loss_stats['val'].append(val_loss_final)    \n",
        "  acc_stats['val'].append(val_acc_final)     \n",
        "  # Loss and acc per each Eposhs\n",
        "  print(f'Epoch {e+0:03}: | Train Loss: {train_loss_final:.5f} | Train Acc: {train_acc_final:.3f}| Val Loss: {val_loss_final:.5f} | Val Acc: {val_acc_final:.3f}')"
      ],
      "execution_count": 94,
      "outputs": [
        {
          "output_type": "display_data",
          "data": {
            "application/vnd.jupyter.widget-view+json": {
              "model_id": "bb7a208db3a944b29350d92ddabbd196",
              "version_minor": 0,
              "version_major": 2
            },
            "text/plain": [
              "HBox(children=(FloatProgress(value=0.0, max=50.0), HTML(value='')))"
            ]
          },
          "metadata": {
            "tags": []
          }
        },
        {
          "output_type": "stream",
          "text": [
            "Epoch 001: | Train Loss: 0.57266 | Train Acc: 71.537| Val Loss: 0.49875 | Val Acc: 67.000\n",
            "Epoch 002: | Train Loss: 0.48131 | Train Acc: 77.737| Val Loss: 0.46871 | Val Acc: 83.000\n",
            "Epoch 003: | Train Loss: 0.43482 | Train Acc: 80.013| Val Loss: 0.45751 | Val Acc: 50.000\n",
            "Epoch 004: | Train Loss: 0.41402 | Train Acc: 79.900| Val Loss: 0.46189 | Val Acc: 50.000\n",
            "Epoch 005: | Train Loss: 0.40451 | Train Acc: 81.050| Val Loss: 0.45868 | Val Acc: 67.000\n",
            "Epoch 006: | Train Loss: 0.40402 | Train Acc: 81.225| Val Loss: 0.44966 | Val Acc: 83.000\n",
            "Epoch 007: | Train Loss: 0.39292 | Train Acc: 81.850| Val Loss: 0.44894 | Val Acc: 100.000\n",
            "Epoch 008: | Train Loss: 0.38970 | Train Acc: 81.400| Val Loss: 0.44939 | Val Acc: 67.000\n",
            "Epoch 009: | Train Loss: 0.37790 | Train Acc: 82.375| Val Loss: 0.44908 | Val Acc: 83.000\n",
            "Epoch 010: | Train Loss: 0.38334 | Train Acc: 81.388| Val Loss: 0.45576 | Val Acc: 67.000\n",
            "Epoch 011: | Train Loss: 0.37886 | Train Acc: 81.963| Val Loss: 0.45671 | Val Acc: 67.000\n",
            "Epoch 012: | Train Loss: 0.37481 | Train Acc: 81.750| Val Loss: 0.46578 | Val Acc: 100.000\n",
            "Epoch 013: | Train Loss: 0.38197 | Train Acc: 82.638| Val Loss: 0.47304 | Val Acc: 67.000\n",
            "Epoch 014: | Train Loss: 0.37043 | Train Acc: 82.338| Val Loss: 0.45654 | Val Acc: 83.000\n",
            "Epoch 015: | Train Loss: 0.35806 | Train Acc: 83.412| Val Loss: 0.44944 | Val Acc: 100.000\n",
            "Epoch 016: | Train Loss: 0.35879 | Train Acc: 83.138| Val Loss: 0.46495 | Val Acc: 83.000\n",
            "Epoch 017: | Train Loss: 0.35571 | Train Acc: 83.562| Val Loss: 0.48286 | Val Acc: 83.000\n",
            "Epoch 018: | Train Loss: 0.36962 | Train Acc: 82.725| Val Loss: 0.49062 | Val Acc: 67.000\n",
            "Epoch 019: | Train Loss: 0.36154 | Train Acc: 83.037| Val Loss: 0.47505 | Val Acc: 83.000\n",
            "Epoch 020: | Train Loss: 0.35527 | Train Acc: 83.075| Val Loss: 0.47789 | Val Acc: 67.000\n",
            "Epoch 021: | Train Loss: 0.35141 | Train Acc: 83.675| Val Loss: 0.48534 | Val Acc: 67.000\n",
            "Epoch 022: | Train Loss: 0.35093 | Train Acc: 83.250| Val Loss: 0.49009 | Val Acc: 67.000\n",
            "Epoch 023: | Train Loss: 0.34219 | Train Acc: 83.862| Val Loss: 0.49570 | Val Acc: 83.000\n",
            "Epoch 024: | Train Loss: 0.33513 | Train Acc: 84.625| Val Loss: 0.49031 | Val Acc: 100.000\n",
            "Epoch 025: | Train Loss: 0.33618 | Train Acc: 84.275| Val Loss: 0.50771 | Val Acc: 83.000\n",
            "Epoch 026: | Train Loss: 0.33679 | Train Acc: 84.463| Val Loss: 0.51528 | Val Acc: 83.000\n",
            "Epoch 027: | Train Loss: 0.32753 | Train Acc: 84.987| Val Loss: 0.52465 | Val Acc: 67.000\n",
            "Epoch 028: | Train Loss: 0.32918 | Train Acc: 84.463| Val Loss: 0.51153 | Val Acc: 100.000\n",
            "Epoch 029: | Train Loss: 0.32426 | Train Acc: 84.963| Val Loss: 0.53415 | Val Acc: 83.000\n",
            "Epoch 030: | Train Loss: 0.34695 | Train Acc: 83.600| Val Loss: 0.51646 | Val Acc: 67.000\n",
            "Epoch 031: | Train Loss: 0.33891 | Train Acc: 84.062| Val Loss: 0.53166 | Val Acc: 50.000\n",
            "Epoch 032: | Train Loss: 0.32520 | Train Acc: 84.850| Val Loss: 0.52273 | Val Acc: 83.000\n",
            "Epoch 033: | Train Loss: 0.33407 | Train Acc: 84.950| Val Loss: 0.53598 | Val Acc: 50.000\n",
            "Epoch 034: | Train Loss: 0.31595 | Train Acc: 85.425| Val Loss: 0.52847 | Val Acc: 83.000\n",
            "Epoch 035: | Train Loss: 0.31372 | Train Acc: 85.862| Val Loss: 0.54881 | Val Acc: 100.000\n",
            "Epoch 036: | Train Loss: 0.31977 | Train Acc: 85.338| Val Loss: 0.55415 | Val Acc: 50.000\n",
            "Epoch 037: | Train Loss: 0.30832 | Train Acc: 85.662| Val Loss: 0.54880 | Val Acc: 100.000\n",
            "Epoch 038: | Train Loss: 0.30274 | Train Acc: 85.750| Val Loss: 0.56059 | Val Acc: 100.000\n",
            "Epoch 039: | Train Loss: 0.31519 | Train Acc: 85.737| Val Loss: 0.55020 | Val Acc: 50.000\n",
            "Epoch 040: | Train Loss: 0.30783 | Train Acc: 86.062| Val Loss: 0.55850 | Val Acc: 100.000\n",
            "Epoch 041: | Train Loss: 0.30060 | Train Acc: 86.588| Val Loss: 0.55155 | Val Acc: 67.000\n",
            "Epoch 042: | Train Loss: 0.31216 | Train Acc: 85.650| Val Loss: 0.55721 | Val Acc: 50.000\n",
            "Epoch 043: | Train Loss: 0.30269 | Train Acc: 85.800| Val Loss: 0.58116 | Val Acc: 100.000\n",
            "Epoch 044: | Train Loss: 0.30311 | Train Acc: 86.388| Val Loss: 0.59526 | Val Acc: 83.000\n",
            "Epoch 045: | Train Loss: 0.29314 | Train Acc: 86.812| Val Loss: 0.58748 | Val Acc: 100.000\n",
            "Epoch 046: | Train Loss: 0.30111 | Train Acc: 86.362| Val Loss: 0.58455 | Val Acc: 83.000\n",
            "Epoch 047: | Train Loss: 0.28293 | Train Acc: 87.662| Val Loss: 0.59627 | Val Acc: 100.000\n",
            "Epoch 048: | Train Loss: 0.29755 | Train Acc: 86.362| Val Loss: 0.60843 | Val Acc: 33.000\n",
            "Epoch 049: | Train Loss: 0.29172 | Train Acc: 87.075| Val Loss: 0.59556 | Val Acc: 67.000\n",
            "Epoch 050: | Train Loss: 0.31250 | Train Acc: 85.375| Val Loss: 0.59422 | Val Acc: 83.000\n",
            "\n"
          ],
          "name": "stdout"
        }
      ]
    },
    {
      "cell_type": "code",
      "metadata": {
        "id": "xtYWDwrO9wK-",
        "outputId": "77ae76d2-efb5-49c5-9473-a328fc62759f",
        "colab": {
          "base_uri": "https://localhost:8080/",
          "height": 372
        }
      },
      "source": [
        "train_val_loss_df = pd.DataFrame.from_dict(loss_stats).reset_index().melt(id_vars=['index']).rename(columns={\"index\":\"epochs\"})\n",
        "plt.figure(figsize=(10,5))\n",
        "sns.lineplot(data=train_val_loss_df, x = \"epochs\", y=\"value\", hue=\"variable\").set_title('Train-Val Loss/Epoch')"
      ],
      "execution_count": 95,
      "outputs": [
        {
          "output_type": "execute_result",
          "data": {
            "text/plain": [
              "Text(0.5, 1.0, 'Train-Val Loss/Epoch')"
            ]
          },
          "metadata": {
            "tags": []
          },
          "execution_count": 95
        },
        {
          "output_type": "display_data",
          "data": {
            "image/png": "[encoded data removed]",
            "text/plain": [
              "<Figure size 720x360 with 1 Axes>"
            ]
          },
          "metadata": {
            "tags": []
          }
        }
      ]
    },
    {
      "cell_type": "code",
      "metadata": {
        "id": "CJg7lfBiBkp7",
        "outputId": "78452ffe-1c45-4a6f-d1ae-e03efd1269d8",
        "colab": {
          "base_uri": "https://localhost:8080/",
          "height": 372
        }
      },
      "source": [
        "train_val_loss_df = pd.DataFrame.from_dict(acc_stats).reset_index().melt(id_vars=['index']).rename(columns={\"index\":\"epochs\"})\n",
        "plt.figure(figsize=(10,5))\n",
        "sns.lineplot(data=train_val_loss_df, x = \"epochs\", y=\"value\", hue=\"variable\").set_title('Train-Val acc/Epoch')"
      ],
      "execution_count": 97,
      "outputs": [
        {
          "output_type": "execute_result",
          "data": {
            "text/plain": [
              "Text(0.5, 1.0, 'Train-Val acc/Epoch')"
            ]
          },
          "metadata": {
            "tags": []
          },
          "execution_count": 97
        },
        {
          "output_type": "display_data",
          "data": {
            "image/png": "[encoded data removed]",
            "text/plain": [
              "<Figure size 720x360 with 1 Axes>"
            ]
          },
          "metadata": {
            "tags": []
          }
        }
      ]
    },
    {
      "cell_type": "code",
      "metadata": {
        "id": "nKY0SNzS9wH9",
        "outputId": "6ea58387-9020-4d48-cf45-d9f36ddd7d64",
        "colab": {
          "base_uri": "https://localhost:8080/",
          "height": 204
        }
      },
      "source": [
        "y_pred_list = []\n",
        "model.eval()\n",
        "with torch.no_grad():\n",
        "  for X_batch,_ in test_loader:\n",
        "    X_batch = X_batch.to(device)\n",
        "    y_test_pred = model(X_batch) # make predictions\n",
        "    y_test_pred = torch.sigmoid(y_test_pred) # convert to propability 0-1\n",
        "    y_pred_tag = torch.round(y_test_pred) # round to 0,1\n",
        "    y_pred_list.append(y_pred_tag.cpu().numpy())# move batch to GPU, convert to numpy object and append to list\n",
        "\n",
        "y_pred = [a.squeeze().tolist() for a in y_pred_list] #Flatten out the list for confusion matrix and classification report\n",
        "print('balanced_accuracy_score: ',balanced_accuracy_score(y_test, y_pred))\n",
        "print('matthews_corrcoef: ',matthews_corrcoef(y_test, y_pred))\n",
        "print(classification_report(y_test, y_pred))"
      ],
      "execution_count": 98,
      "outputs": [
        {
          "output_type": "stream",
          "text": [
            "balanced_accuracy_score:  0.6963661729762749\n",
            "matthews_corrcoef:  0.3983395021551968\n",
            "              precision    recall  f1-score   support\n",
            "\n",
            "           0       0.84      0.85      0.84      1033\n",
            "           1       0.57      0.54      0.55       374\n",
            "\n",
            "    accuracy                           0.77      1407\n",
            "   macro avg       0.70      0.70      0.70      1407\n",
            "weighted avg       0.77      0.77      0.77      1407\n",
            "\n"
          ],
          "name": "stdout"
        }
      ]
    },
    {
      "cell_type": "markdown",
      "metadata": {
        "id": "ZsXmdNy9_YhP"
      },
      "source": [
        "## Pytorch model 3 (best accuracy model)"
      ]
    },
    {
      "cell_type": "code",
      "metadata": {
        "id": "Pr_PA5db_a0T"
      },
      "source": [
        "import numpy as np\n",
        "import pandas as pd\n",
        "import matplotlib.pyplot as plt\n",
        "import seaborn as sns ; sns.set()\n",
        "#pytorch\n",
        "from tqdm.notebook import tqdm\n",
        "import torch\n",
        "import torch.nn as nn\n",
        "import torch.optim as optim\n",
        "import torch.nn.functional as F\n",
        "from torch.utils.data import Dataset, DataLoader\n",
        "\n",
        "#Load sklearn\n",
        "from sklearn.preprocessing import StandardScaler, RobustScaler\n",
        "from sklearn.model_selection import train_test_split\n",
        "from sklearn.metrics import classification_report ,balanced_accuracy_score,matthews_corrcoef\n"
      ],
      "execution_count": 55,
      "outputs": []
    },
    {
      "cell_type": "code",
      "metadata": {
        "id": "AnInSnUn_xsv",
        "outputId": "0403efc3-9ae0-4673-eaed-753684d18196",
        "colab": {
          "base_uri": "https://localhost:8080/",
          "height": 34
        }
      },
      "source": [
        "path='https://raw.githubusercontent.com/rstudio/keras-customer-churn/master/data/WA_Fn-UseC_-Telco-Customer-Churn.csv'\n",
        "df=pd.read_csv(path)\n",
        "print(df.shape)\n",
        "df['Churn'] = df['Churn'].apply(lambda x: 1 if x == 'Yes' else 0)\n",
        "df['Churn'].value_counts(normalize=True)\n",
        "df['TotalCharges'] = df['TotalCharges'].replace(' ', np.nan).astype(float)\n",
        "df = df.dropna()\n",
        "#One hot encoding\n",
        "dummy_cols = []\n",
        "# column with value\n",
        "sample_set = df[['tenure', 'MonthlyCharges', 'TotalCharges', 'Churn']].copy(deep=True)\n",
        "# for other column with category, only one hot with column have nuique < 5\n",
        "for col in list(df.columns):\n",
        "    if col not in ['tenure', 'MonthlyCharges', 'TotalCharges', 'Churn'] and df[col].nunique() < 5:\n",
        "        dummy_vars = pd.get_dummies(df[col])\n",
        "        dummy_vars.columns = [col+str(x) for x in dummy_vars.columns]        \n",
        "        sample_set = pd.concat([sample_set, dummy_vars], axis=1)\n",
        "X = sample_set.drop(columns='Churn')\n",
        "y= sample_set['Churn']"
      ],
      "execution_count": 99,
      "outputs": [
        {
          "output_type": "stream",
          "text": [
            "(7043, 21)\n"
          ],
          "name": "stdout"
        }
      ]
    },
    {
      "cell_type": "code",
      "metadata": {
        "id": "Y4M75hkL_a41",
        "outputId": "84401bfb-c94f-47ee-ff18-0f2fc6a22204",
        "colab": {
          "base_uri": "https://localhost:8080/",
          "height": 85
        }
      },
      "source": [
        "# Train - Test\n",
        "X_trainval, X_test, y_trainval, y_test = train_test_split(X, y, test_size=0.2,stratify=y,\n",
        "                                                          random_state=2020)\n",
        "# Split train into train-val\n",
        "X_train, X_val, y_train, y_val = train_test_split(X_trainval, y_trainval, stratify=y_trainval,\n",
        "                                                  test_size=0.1, random_state=2020)\n",
        "X_train = scaler.fit_transform(X_train)\n",
        "X_val = scaler.fit_transform(X_val)\n",
        "X_test = scaler.fit_transform(X_test)\n",
        "\n",
        "print(X.shape, y.shape)\n",
        "print(X_train.shape, y_train.shape)\n",
        "print(X_val.shape, y_val.shape)\n",
        "print(X_test.shape, y_test.shape)"
      ],
      "execution_count": 100,
      "outputs": [
        {
          "output_type": "stream",
          "text": [
            "(7032, 46) (7032,)\n",
            "(5062, 46) (5062,)\n",
            "(563, 46) (563,)\n",
            "(1407, 46) (1407,)\n"
          ],
          "name": "stdout"
        }
      ]
    },
    {
      "cell_type": "code",
      "metadata": {
        "id": "kY8pM3Kn_a8E"
      },
      "source": [
        "#from_numpy takes a numpy element and returns torch.tensor\n",
        "X_train = torch.from_numpy(X_train).type(torch.FloatTensor)\n",
        "y_train = torch.from_numpy(y_train.values).type(torch.LongTensor)\n",
        "X_test = torch.from_numpy(X_test).type(torch.FloatTensor)\n",
        "y_test = torch.from_numpy(y_test.values).type(torch.LongTensor)"
      ],
      "execution_count": 101,
      "outputs": []
    },
    {
      "cell_type": "code",
      "metadata": {
        "id": "3x_Zia4VACG8"
      },
      "source": [
        "#our class must extend nn.Module\n",
        "class MyClassifier(nn.Module):\n",
        "    def __init__(self):\n",
        "        super(MyClassifier,self).__init__()\n",
        "        #Our network consists of 3 layers. 1 input, 1 hidden and 1 output layer\n",
        "        #This applies Linear transformation to input data. \n",
        "        self.fc1 = nn.Linear(X.shape[1],3)\n",
        "        \n",
        "        #This applies linear transformation to produce output data\n",
        "        self.fc2 = nn.Linear(3,2)\n",
        "        \n",
        "    #This must be implemented\n",
        "    def forward(self,x):\n",
        "        #Output of the first layer\n",
        "        x = self.fc1(x)\n",
        "        #Activation function is Relu. Feel free to experiment with this\n",
        "        x = torch.tanh(x)\n",
        "        #This produces output\n",
        "        x = self.fc2(x)\n",
        "        return x\n",
        "        \n",
        "    #This function takes an input and predicts the class, (0 or 1)        \n",
        "    def predict(self,x):\n",
        "        #Apply softmax to output. \n",
        "        pred = F.softmax(self.forward(x))\n",
        "        ans = []\n",
        "        #Pick the class with maximum weight\n",
        "        for t in pred:\n",
        "            if t[0]>t[1]:\n",
        "                ans.append(0)\n",
        "            else:\n",
        "                ans.append(1)\n",
        "        return torch.tensor(ans)"
      ],
      "execution_count": 102,
      "outputs": []
    },
    {
      "cell_type": "code",
      "metadata": {
        "id": "ANW4piUnACMW"
      },
      "source": [
        "#Initialize the model        \n",
        "model = MyClassifier()\n",
        "#Define loss criterion\n",
        "criterion = nn.CrossEntropyLoss()\n",
        "#Define the optimizer\n",
        "optimizer = torch.optim.Adam(model.parameters(), lr=0.01)"
      ],
      "execution_count": 103,
      "outputs": []
    },
    {
      "cell_type": "code",
      "metadata": {
        "id": "O_y9U8z0ACKU"
      },
      "source": [
        "#Number of epochs\n",
        "epochs = 100\n",
        "#List to store losses\n",
        "losses = []\n",
        "for i in range(epochs):\n",
        "    #Precit the output for Given input\n",
        "    y_pred = model.forward(X_train)\n",
        "    #Compute Cross entropy loss\n",
        "    loss = criterion(y_pred,y_train)\n",
        "    #Add loss to the list\n",
        "    losses.append(loss.item())\n",
        "    #Clear the previous gradients\n",
        "    optimizer.zero_grad()\n",
        "    #Compute gradients\n",
        "    loss.backward()\n",
        "    #Adjust weights\n",
        "    optimizer.step()"
      ],
      "execution_count": 104,
      "outputs": []
    },
    {
      "cell_type": "code",
      "metadata": {
        "id": "R5Ux_mULAbuT",
        "outputId": "ca1cabb5-a158-404d-befe-8b18f2c1703b",
        "colab": {
          "base_uri": "https://localhost:8080/",
          "height": 88
        }
      },
      "source": [
        "from sklearn.metrics import balanced_accuracy_score\n",
        "print(balanced_accuracy_score(model.predict(X_train),y_train))\n",
        "print(balanced_accuracy_score(model.predict(X_test),y_test))"
      ],
      "execution_count": 105,
      "outputs": [
        {
          "output_type": "stream",
          "text": [
            "0.7557564367573549\n",
            "0.7495662643163646\n"
          ],
          "name": "stdout"
        },
        {
          "output_type": "stream",
          "text": [
            "/usr/local/lib/python3.6/dist-packages/ipykernel_launcher.py:25: UserWarning: Implicit dimension choice for softmax has been deprecated. Change the call to include dim=X as an argument.\n"
          ],
          "name": "stderr"
        }
      ]
    },
    {
      "cell_type": "code",
      "metadata": {
        "id": "7-vLHfPJA6le"
      },
      "source": [
        ""
      ],
      "execution_count": null,
      "outputs": []
    },
    {
      "cell_type": "code",
      "metadata": {
        "id": "jeAjcBDLA6gZ"
      },
      "source": [
        ""
      ],
      "execution_count": null,
      "outputs": []
    },
    {
      "cell_type": "markdown",
      "metadata": {
        "id": "cWiJ5At6OYAX"
      },
      "source": [
        "## Pytorch model 4 (Early stopping) Fail"
      ]
    },
    {
      "cell_type": "markdown",
      "metadata": {
        "id": "Mbred8G46Z6C"
      },
      "source": [
        "### Torchsample"
      ]
    },
    {
      "cell_type": "code",
      "metadata": {
        "id": "p83wGI2K3mOh"
      },
      "source": [
        "import numpy as np\n",
        "import pandas as pd\n",
        "import matplotlib.pyplot as plt\n",
        "import seaborn as sns ; sns.set()\n",
        "#pytorch\n",
        "from tqdm.notebook import tqdm\n",
        "import torch\n",
        "import torch.nn as nn\n",
        "import torch.optim as optim\n",
        "import torch.nn.functional as F\n",
        "from torch.utils.data import Dataset, DataLoader\n",
        "\n",
        "#Load sklearn\n",
        "from sklearn.preprocessing import StandardScaler, RobustScaler\n",
        "from sklearn.model_selection import train_test_split\n",
        "from sklearn.metrics import classification_report ,balanced_accuracy_score,matthews_corrcoef\n"
      ],
      "execution_count": 27,
      "outputs": []
    },
    {
      "cell_type": "code",
      "metadata": {
        "id": "RZv6uZh5ZnPr",
        "outputId": "69681c98-db0c-4bdb-939a-ea5f7fbbbcb9",
        "colab": {
          "base_uri": "https://localhost:8080/",
          "height": 207
        }
      },
      "source": [
        "\n",
        "!pip install git+https://github.com/ncullen93/torchsample"
      ],
      "execution_count": 12,
      "outputs": [
        {
          "output_type": "stream",
          "text": [
            "Collecting git+https://github.com/ncullen93/torchsample\n",
            "  Cloning https://github.com/ncullen93/torchsample to /tmp/pip-req-build-zkjdc0cb\n",
            "  Running command git clone -q https://github.com/ncullen93/torchsample /tmp/pip-req-build-zkjdc0cb\n",
            "Building wheels for collected packages: torchsample\n",
            "  Building wheel for torchsample (setup.py) ... \u001b[?25l\u001b[?25hdone\n",
            "  Created wheel for torchsample: filename=torchsample-0.1.3-cp36-none-any.whl size=43417 sha256=c2b5d47b86d83feee0136882472d3701cf36210c888b7f5822b502b1e716acdb\n",
            "  Stored in directory: /tmp/pip-ephem-wheel-cache-z3ph_id6/wheels/88/c7/72/14cd9a173eed1e29d0b17d866e7d9ee511d31a834aedd27489\n",
            "Successfully built torchsample\n",
            "Installing collected packages: torchsample\n",
            "Successfully installed torchsample-0.1.3\n"
          ],
          "name": "stdout"
        }
      ]
    },
    {
      "cell_type": "code",
      "metadata": {
        "id": "vNkt1FVx1oFg",
        "outputId": "ead3e10a-19fe-4913-cad7-780f01707884",
        "colab": {
          "base_uri": "https://localhost:8080/",
          "height": 85
        }
      },
      "source": [
        "# Train - Test\n",
        "X_trainval, X_test, y_trainval, y_test = train_test_split(X, y, test_size=0.2,stratify=y,\n",
        "                                                          random_state=2020)\n",
        "# Split train into train-val\n",
        "X_train, X_val, y_train, y_val = train_test_split(X_trainval, y_trainval, stratify=y_trainval,\n",
        "                                                  test_size=0.1, random_state=2020)\n",
        "\n",
        "X_train = scaler.fit_transform(X_train)\n",
        "X_val = scaler.fit_transform(X_val)\n",
        "X_test = scaler.fit_transform(X_test)\n",
        "\n",
        "print(X.shape, y.shape)\n",
        "print(X_train.shape, y_train.shape)\n",
        "print(X_val.shape, y_val.shape)\n",
        "print(X_test.shape, y_test.shape)"
      ],
      "execution_count": 37,
      "outputs": [
        {
          "output_type": "stream",
          "text": [
            "(7032, 46) (7032,)\n",
            "(5062, 46) (5062,)\n",
            "(563, 46) (563,)\n",
            "(1407, 46) (1407,)\n"
          ],
          "name": "stdout"
        }
      ]
    },
    {
      "cell_type": "code",
      "metadata": {
        "id": "Dc-SP7RyaEeV"
      },
      "source": [
        "class binaryClassification(nn.Module):\n",
        "    def __init__(self):\n",
        "        super(binaryClassification, self).__init__()\n",
        "        # Number of input features is 12.\n",
        "        self.layer_1 = nn.Linear(X.shape[1], 64) \n",
        "        self.layer_2 = nn.Linear(64, 64)\n",
        "        self.layer_out = nn.Linear(64, 1) \n",
        "        \n",
        "        self.relu = nn.ReLU()\n",
        "        self.dropout = nn.Dropout(p=0.1)\n",
        "        self.batchnorm1 = nn.BatchNorm1d(64)\n",
        "        self.batchnorm2 = nn.BatchNorm1d(64)\n",
        "        \n",
        "    def forward(self, inputs):\n",
        "        x = self.relu(self.layer_1(inputs))\n",
        "        x = self.batchnorm1(x)\n",
        "        x = self.relu(self.layer_2(x))\n",
        "        x = self.batchnorm2(x)\n",
        "        x = self.dropout(x)\n",
        "        #x = self.layer_out(x)\n",
        "        \n",
        "        #return x\n",
        "        return F.log_softmax(x)"
      ],
      "execution_count": 41,
      "outputs": []
    },
    {
      "cell_type": "code",
      "metadata": {
        "id": "E_q4_j1xYiBY",
        "outputId": "4946ec5b-f478-4660-c829-b18b58d02dbe",
        "colab": {
          "base_uri": "https://localhost:8080/",
          "height": 455
        }
      },
      "source": [
        "from torchsample.modules import ModuleTrainer\n",
        "from torchsample.callbacks import EarlyStopping\n",
        "\n",
        "model = binaryClassification()\n",
        "callbacks = [EarlyStopping(patience=5)]\n",
        "\n",
        "\n",
        "trainer = ModuleTrainer(model)\n",
        "trainer.compile(loss='nll_loss',\n",
        "                optimizer='adadelta')\n",
        "trainer.set_callbacks(callbacks)\n",
        "trainer.fit(torch.FloatTensor(X_train), torch.LongTensor(y_train.values), \n",
        "            val_data=(torch.FloatTensor(X_val), torch.LongTensor(y_val.values)),\n",
        "            num_epoch=20, \n",
        "            batch_size=128,\n",
        "            verbose=1\n",
        "            )\n",
        "\n",
        "loss = model.evaluate(X_train, y_train)\n",
        "y_pred = model.predict(X_test)"
      ],
      "execution_count": 42,
      "outputs": [
        {
          "output_type": "stream",
          "text": [
            "Epoch 1/20:   0%|          | 0/40 [00:00<?, ? batches/s]/usr/local/lib/python3.6/dist-packages/ipykernel_launcher.py:23: UserWarning: Implicit dimension choice for log_softmax has been deprecated. Change the call to include dim=X as an argument.\n",
            "Epoch 1/20:   2%|▎         | 1/40 [00:00<00:02, 13.05 batches/s]\n"
          ],
          "name": "stderr"
        },
        {
          "output_type": "error",
          "ename": "IndexError",
          "evalue": "ignored",
          "traceback": [
            "\u001b[0;31m---------------------------------------------------------------------------\u001b[0m",
            "\u001b[0;31mIndexError\u001b[0m                                Traceback (most recent call last)",
            "\u001b[0;32m<ipython-input-42-85cb94725298>\u001b[0m in \u001b[0;36m<module>\u001b[0;34m()\u001b[0m\n\u001b[1;32m     14\u001b[0m             \u001b[0mnum_epoch\u001b[0m\u001b[0;34m=\u001b[0m\u001b[0;36m20\u001b[0m\u001b[0;34m,\u001b[0m\u001b[0;34m\u001b[0m\u001b[0;34m\u001b[0m\u001b[0m\n\u001b[1;32m     15\u001b[0m             \u001b[0mbatch_size\u001b[0m\u001b[0;34m=\u001b[0m\u001b[0;36m128\u001b[0m\u001b[0;34m,\u001b[0m\u001b[0;34m\u001b[0m\u001b[0;34m\u001b[0m\u001b[0m\n\u001b[0;32m---> 16\u001b[0;31m             \u001b[0mverbose\u001b[0m\u001b[0;34m=\u001b[0m\u001b[0;36m1\u001b[0m\u001b[0;34m\u001b[0m\u001b[0;34m\u001b[0m\u001b[0m\n\u001b[0m\u001b[1;32m     17\u001b[0m             )\n\u001b[1;32m     18\u001b[0m \u001b[0;34m\u001b[0m\u001b[0m\n",
            "\u001b[0;32m/usr/local/lib/python3.6/dist-packages/torchsample/modules/module_trainer.py\u001b[0m in \u001b[0;36mfit\u001b[0;34m(self, inputs, targets, val_data, initial_epoch, num_epoch, batch_size, shuffle, cuda_device, verbose)\u001b[0m\n\u001b[1;32m    278\u001b[0m                         \u001b[0mbatch_logs\u001b[0m\u001b[0;34m.\u001b[0m\u001b[0mupdate\u001b[0m\u001b[0;34m(\u001b[0m\u001b[0mmetrics_logs\u001b[0m\u001b[0;34m)\u001b[0m\u001b[0;34m\u001b[0m\u001b[0;34m\u001b[0m\u001b[0m\n\u001b[1;32m    279\u001b[0m \u001b[0;34m\u001b[0m\u001b[0m\n\u001b[0;32m--> 280\u001b[0;31m                     \u001b[0mbatch_logs\u001b[0m\u001b[0;34m[\u001b[0m\u001b[0;34m'loss'\u001b[0m\u001b[0;34m]\u001b[0m \u001b[0;34m=\u001b[0m \u001b[0mloss\u001b[0m\u001b[0;34m.\u001b[0m\u001b[0mdata\u001b[0m\u001b[0;34m[\u001b[0m\u001b[0;36m0\u001b[0m\u001b[0;34m]\u001b[0m\u001b[0;34m\u001b[0m\u001b[0;34m\u001b[0m\u001b[0m\n\u001b[0m\u001b[1;32m    281\u001b[0m                     \u001b[0mcallback_container\u001b[0m\u001b[0;34m.\u001b[0m\u001b[0mon_batch_end\u001b[0m\u001b[0;34m(\u001b[0m\u001b[0mbatch_idx\u001b[0m\u001b[0;34m,\u001b[0m \u001b[0mbatch_logs\u001b[0m\u001b[0;34m)\u001b[0m\u001b[0;34m\u001b[0m\u001b[0;34m\u001b[0m\u001b[0m\n\u001b[1;32m    282\u001b[0m \u001b[0;34m\u001b[0m\u001b[0m\n",
            "\u001b[0;31mIndexError\u001b[0m: invalid index of a 0-dim tensor. Use `tensor.item()` in Python or `tensor.item<T>()` in C++ to convert a 0-dim tensor to a number"
          ]
        }
      ]
    },
    {
      "cell_type": "markdown",
      "metadata": {
        "id": "9J9dXLwM6ciP"
      },
      "source": [
        "### Pytorch lightning"
      ]
    },
    {
      "cell_type": "code",
      "metadata": {
        "id": "nEQ9W-8d8Juz",
        "outputId": "b161e1ad-9c6f-4509-eb42-db6fb6129ab8",
        "colab": {
          "base_uri": "https://localhost:8080/",
          "height": 1000
        }
      },
      "source": [
        "!pip install pytorch-lightning"
      ],
      "execution_count": 46,
      "outputs": [
        {
          "output_type": "stream",
          "text": [
            "Collecting pytorch-lightning\n",
            "\u001b[?25l  Downloading https://files.pythonhosted.org/packages/ed/af/2f10c8ee22d7a05fe8c9be58ad5c55b71ab4dd895b44f0156bfd5535a708/pytorch_lightning-0.9.0-py3-none-any.whl (408kB)\n",
            "\u001b[K     |████████████████████████████████| 409kB 4.9MB/s \n",
            "\u001b[?25hRequirement already satisfied: numpy>=1.16.4 in /usr/local/lib/python3.6/dist-packages (from pytorch-lightning) (1.18.5)\n",
            "Collecting tensorboard==2.2.0\n",
            "\u001b[?25l  Downloading https://files.pythonhosted.org/packages/54/f5/d75a6f7935e4a4870d85770bc9976b12e7024fbceb83a1a6bc50e6deb7c4/tensorboard-2.2.0-py3-none-any.whl (2.8MB)\n",
            "\u001b[K     |████████████████████████████████| 2.8MB 7.9MB/s \n",
            "\u001b[?25hRequirement already satisfied: packaging in /usr/local/lib/python3.6/dist-packages (from pytorch-lightning) (20.4)\n",
            "Collecting PyYAML>=5.1\n",
            "\u001b[?25l  Downloading https://files.pythonhosted.org/packages/64/c2/b80047c7ac2478f9501676c988a5411ed5572f35d1beff9cae07d321512c/PyYAML-5.3.1.tar.gz (269kB)\n",
            "\u001b[K     |████████████████████████████████| 276kB 43.2MB/s \n",
            "\u001b[?25hCollecting future>=0.17.1\n",
            "\u001b[?25l  Downloading https://files.pythonhosted.org/packages/45/0b/38b06fd9b92dc2b68d58b75f900e97884c45bedd2ff83203d933cf5851c9/future-0.18.2.tar.gz (829kB)\n",
            "\u001b[K     |████████████████████████████████| 829kB 40.0MB/s \n",
            "\u001b[?25hRequirement already satisfied: torch>=1.3 in /usr/local/lib/python3.6/dist-packages (from pytorch-lightning) (1.6.0+cu101)\n",
            "Requirement already satisfied: tqdm>=4.41.0 in /usr/local/lib/python3.6/dist-packages (from pytorch-lightning) (4.41.1)\n",
            "Requirement already satisfied: grpcio>=1.24.3 in /usr/local/lib/python3.6/dist-packages (from tensorboard==2.2.0->pytorch-lightning) (1.32.0)\n",
            "Requirement already satisfied: google-auth<2,>=1.6.3 in /usr/local/lib/python3.6/dist-packages (from tensorboard==2.2.0->pytorch-lightning) (1.17.2)\n",
            "Requirement already satisfied: absl-py>=0.4 in /usr/local/lib/python3.6/dist-packages (from tensorboard==2.2.0->pytorch-lightning) (0.10.0)\n",
            "Requirement already satisfied: google-auth-oauthlib<0.5,>=0.4.1 in /usr/local/lib/python3.6/dist-packages (from tensorboard==2.2.0->pytorch-lightning) (0.4.1)\n",
            "Requirement already satisfied: six>=1.10.0 in /usr/local/lib/python3.6/dist-packages (from tensorboard==2.2.0->pytorch-lightning) (1.15.0)\n",
            "Requirement already satisfied: werkzeug>=0.11.15 in /usr/local/lib/python3.6/dist-packages (from tensorboard==2.2.0->pytorch-lightning) (1.0.1)\n",
            "Requirement already satisfied: markdown>=2.6.8 in /usr/local/lib/python3.6/dist-packages (from tensorboard==2.2.0->pytorch-lightning) (3.2.2)\n",
            "Requirement already satisfied: requests<3,>=2.21.0 in /usr/local/lib/python3.6/dist-packages (from tensorboard==2.2.0->pytorch-lightning) (2.23.0)\n",
            "Requirement already satisfied: tensorboard-plugin-wit>=1.6.0 in /usr/local/lib/python3.6/dist-packages (from tensorboard==2.2.0->pytorch-lightning) (1.7.0)\n",
            "Requirement already satisfied: protobuf>=3.6.0 in /usr/local/lib/python3.6/dist-packages (from tensorboard==2.2.0->pytorch-lightning) (3.12.4)\n",
            "Requirement already satisfied: wheel>=0.26; python_version >= \"3\" in /usr/local/lib/python3.6/dist-packages (from tensorboard==2.2.0->pytorch-lightning) (0.35.1)\n",
            "Requirement already satisfied: setuptools>=41.0.0 in /usr/local/lib/python3.6/dist-packages (from tensorboard==2.2.0->pytorch-lightning) (50.3.0)\n",
            "Requirement already satisfied: pyparsing>=2.0.2 in /usr/local/lib/python3.6/dist-packages (from packaging->pytorch-lightning) (2.4.7)\n",
            "Requirement already satisfied: pyasn1-modules>=0.2.1 in /usr/local/lib/python3.6/dist-packages (from google-auth<2,>=1.6.3->tensorboard==2.2.0->pytorch-lightning) (0.2.8)\n",
            "Requirement already satisfied: rsa<5,>=3.1.4; python_version >= \"3\" in /usr/local/lib/python3.6/dist-packages (from google-auth<2,>=1.6.3->tensorboard==2.2.0->pytorch-lightning) (4.6)\n",
            "Requirement already satisfied: cachetools<5.0,>=2.0.0 in /usr/local/lib/python3.6/dist-packages (from google-auth<2,>=1.6.3->tensorboard==2.2.0->pytorch-lightning) (4.1.1)\n",
            "Requirement already satisfied: requests-oauthlib>=0.7.0 in /usr/local/lib/python3.6/dist-packages (from google-auth-oauthlib<0.5,>=0.4.1->tensorboard==2.2.0->pytorch-lightning) (1.3.0)\n",
            "Requirement already satisfied: importlib-metadata; python_version < \"3.8\" in /usr/local/lib/python3.6/dist-packages (from markdown>=2.6.8->tensorboard==2.2.0->pytorch-lightning) (2.0.0)\n",
            "Requirement already satisfied: chardet<4,>=3.0.2 in /usr/local/lib/python3.6/dist-packages (from requests<3,>=2.21.0->tensorboard==2.2.0->pytorch-lightning) (3.0.4)\n",
            "Requirement already satisfied: certifi>=2017.4.17 in /usr/local/lib/python3.6/dist-packages (from requests<3,>=2.21.0->tensorboard==2.2.0->pytorch-lightning) (2020.6.20)\n",
            "Requirement already satisfied: idna<3,>=2.5 in /usr/local/lib/python3.6/dist-packages (from requests<3,>=2.21.0->tensorboard==2.2.0->pytorch-lightning) (2.10)\n",
            "Requirement already satisfied: urllib3!=1.25.0,!=1.25.1,<1.26,>=1.21.1 in /usr/local/lib/python3.6/dist-packages (from requests<3,>=2.21.0->tensorboard==2.2.0->pytorch-lightning) (1.24.3)\n",
            "Requirement already satisfied: pyasn1<0.5.0,>=0.4.6 in /usr/local/lib/python3.6/dist-packages (from pyasn1-modules>=0.2.1->google-auth<2,>=1.6.3->tensorboard==2.2.0->pytorch-lightning) (0.4.8)\n",
            "Requirement already satisfied: oauthlib>=3.0.0 in /usr/local/lib/python3.6/dist-packages (from requests-oauthlib>=0.7.0->google-auth-oauthlib<0.5,>=0.4.1->tensorboard==2.2.0->pytorch-lightning) (3.1.0)\n",
            "Requirement already satisfied: zipp>=0.5 in /usr/local/lib/python3.6/dist-packages (from importlib-metadata; python_version < \"3.8\"->markdown>=2.6.8->tensorboard==2.2.0->pytorch-lightning) (3.2.0)\n",
            "Building wheels for collected packages: PyYAML, future\n",
            "  Building wheel for PyYAML (setup.py) ... \u001b[?25l\u001b[?25hdone\n",
            "  Created wheel for PyYAML: filename=PyYAML-5.3.1-cp36-cp36m-linux_x86_64.whl size=44619 sha256=e96fa4534551d21b7a96ec19c79369004182e4e0fd7cc5e6d8e257a51a34e0be\n",
            "  Stored in directory: /root/.cache/pip/wheels/a7/c1/ea/cf5bd31012e735dc1dfea3131a2d5eae7978b251083d6247bd\n",
            "  Building wheel for future (setup.py) ... \u001b[?25l\u001b[?25hdone\n",
            "  Created wheel for future: filename=future-0.18.2-cp36-none-any.whl size=491057 sha256=8d849da77401d35140b697fb79acd927e9929a0c43b8b054f1283cc94edc43cb\n",
            "  Stored in directory: /root/.cache/pip/wheels/8b/99/a0/81daf51dcd359a9377b110a8a886b3895921802d2fc1b2397e\n",
            "Successfully built PyYAML future\n",
            "\u001b[31mERROR: tensorflow 2.3.0 has requirement tensorboard<3,>=2.3.0, but you'll have tensorboard 2.2.0 which is incompatible.\u001b[0m\n",
            "Installing collected packages: tensorboard, PyYAML, future, pytorch-lightning\n",
            "  Found existing installation: tensorboard 2.3.0\n",
            "    Uninstalling tensorboard-2.3.0:\n",
            "      Successfully uninstalled tensorboard-2.3.0\n",
            "  Found existing installation: PyYAML 3.13\n",
            "    Uninstalling PyYAML-3.13:\n",
            "      Successfully uninstalled PyYAML-3.13\n",
            "  Found existing installation: future 0.16.0\n",
            "    Uninstalling future-0.16.0:\n",
            "      Successfully uninstalled future-0.16.0\n",
            "Successfully installed PyYAML-5.3.1 future-0.18.2 pytorch-lightning-0.9.0 tensorboard-2.2.0\n"
          ],
          "name": "stdout"
        }
      ]
    },
    {
      "cell_type": "code",
      "metadata": {
        "id": "YOEtk8zK81sQ"
      },
      "source": [
        "from pytorch_lightning.callbacks import EarlyStopping\n",
        "from torch import nn, optim, rand, sum as tsum, reshape, save\n",
        "import torch.nn.functional as F\n",
        "from pytorch_lightning import seed_everything, LightningModule, Trainer\n",
        "from torch.utils.data import DataLoader, Dataset"
      ],
      "execution_count": 51,
      "outputs": []
    },
    {
      "cell_type": "code",
      "metadata": {
        "id": "tbrXB95eX_pF",
        "outputId": "27eab509-759a-4023-92be-f8305729f94f",
        "colab": {
          "base_uri": "https://localhost:8080/",
          "height": 85
        }
      },
      "source": [
        "# Train - Test\n",
        "X_trainval, X_test, y_trainval, y_test = train_test_split(X, y, test_size=0.2,stratify=y,\n",
        "                                                          random_state=2020)\n",
        "# Split train into train-val\n",
        "X_train, X_val, y_train, y_val = train_test_split(X_trainval, y_trainval, stratify=y_trainval,\n",
        "                                                  test_size=0.1, random_state=2020)\n",
        "\n",
        "X_train = scaler.fit_transform(X_train)\n",
        "X_val = scaler.fit_transform(X_val)\n",
        "X_test = scaler.fit_transform(X_test)\n",
        "\n",
        "print(X.shape, y.shape)\n",
        "print(X_train.shape, y_train.shape)\n",
        "print(X_val.shape, y_val.shape)\n",
        "print(X_test.shape, y_test.shape)"
      ],
      "execution_count": 43,
      "outputs": [
        {
          "output_type": "stream",
          "text": [
            "(7032, 46) (7032,)\n",
            "(5062, 46) (5062,)\n",
            "(563, 46) (563,)\n",
            "(1407, 46) (1407,)\n"
          ],
          "name": "stdout"
        }
      ]
    },
    {
      "cell_type": "code",
      "metadata": {
        "id": "Aq0MItOpX_nB"
      },
      "source": [
        "SAMPLE_DIM = 21000\n",
        "class CustomDataset(Dataset):\n",
        "    def __init__(self, samples=42):\n",
        "        self.dataset = rand(samples, SAMPLE_DIM).cpu().float() * 2 - 1\n",
        "\n",
        "    def __getitem__(self, index):\n",
        "        return (self.dataset[index], (tsum(self.dataset[index]) > 0).cpu().float())\n",
        "\n",
        "    def __len__(self):\n",
        "        return self.dataset.size()[0]"
      ],
      "execution_count": 53,
      "outputs": []
    },
    {
      "cell_type": "code",
      "metadata": {
        "id": "8iFMa9ej7z8v"
      },
      "source": [
        "class OurModel(LightningModule):\n",
        "    def __init__(self):\n",
        "        super(OurModel, self).__init__()\n",
        "        # Network layers\n",
        "        self.linear = nn.Linear(SAMPLE_DIM, 2048)\n",
        "        self.linear2 = nn.Linear(2048, 1)\n",
        "        self.output = nn.Sigmoid()\n",
        "        # Hyper-parameters, that we will auto-tune using lightning!\n",
        "        self.lr = 0.001\n",
        "        self.batch_size = 512\n",
        "\n",
        "    def forward(self, x):\n",
        "        x = self.linear(x)\n",
        "        x = self.linear2(x)\n",
        "        output = self.output(x)\n",
        "        return reshape(output, (-1,))\n",
        "\n",
        "    def configure_optimizers(self):\n",
        "        return optim.Adam(self.parameters(), lr=self.lr)\n",
        "\n",
        "    def train_dataloader(self):\n",
        "        loader = DataLoader(CustomDataset(samples=43210), batch_size=self.batch_size, shuffle=True)\n",
        "        return loader\n",
        "\n",
        "    def training_step(self, batch, batch_nb):\n",
        "        x, y = batch\n",
        "        loss = F.binary_cross_entropy(self(x), y)\n",
        "        return {'loss': loss, 'log': {'train_loss': loss}}\n",
        "\n",
        "    def val_dataloader(self):\n",
        "        loader = DataLoader(CustomDataset(samples=1234), batch_size=self.batch_size, shuffle=False)\n",
        "        return loader\n",
        "\n",
        "    def validation_step(self, batch, batch_nb):\n",
        "        x, y = batch\n",
        "        loss = F.binary_cross_entropy(self(x), y)\n",
        "        return {'val_loss': loss, 'log': {'val_loss': loss}}\n",
        "\n",
        "    def validation_epoch_end(self, outputs):\n",
        "        val_loss_mean = sum([o['val_loss'] for o in outputs]) / len(outputs)\n",
        "        # show val_acc in progress bar but only log val_loss\n",
        "        results = {'progress_bar': {'val_loss': val_loss_mean.item()}, 'log': {'val_loss': val_loss_mean.item()},\n",
        "                   'val_loss': val_loss_mean.item()}\n",
        "        return results"
      ],
      "execution_count": 49,
      "outputs": []
    },
    {
      "cell_type": "code",
      "metadata": {
        "id": "eOkuaVb38HQQ",
        "outputId": "17b41004-5665-41da-e731-739d4d0c2e45",
        "colab": {
          "base_uri": "https://localhost:8080/",
          "height": 405,
          "referenced_widgets": [
            "f68f22557cba47399056210512279865",
            "5b23a04758a24715932df6681e397afa",
            "8a7f919f56954afbacde34c7a1db613e",
            "c7133e2ea6524aeabe9fbbace78153f3",
            "82537b488a9d4349a3776f1aad4b2db1",
            "86fdd8f0b0ec43d6aaf1573e53d99007",
            "d8a6de5e3b32465e9b7bfaa7ac373346",
            "11d54c07363d42ea8c2d9a16ab89567e",
            "b5c14735181e48979067e800b674f883",
            "59461167c03443c190dbfb3c32aa98b5",
            "32bac58223d441c6aa8342562fa34214",
            "13ea8b887e6f4ddc8b9a57190da972b8",
            "267be635b71648558f946ae37cbba943",
            "a9448bc3e3c040d5a75009b6783d19b1",
            "251870d1ea4944518f72d862f6d2c0a7",
            "1f0005e10aa54b788731b9d06825dd44",
            "43755e73bc2745d2b9168ed3f75846f0",
            "3b3dd8496c604ae1aac9ad98ee2b636a",
            "e770c9ed71844a18bf89692b9e0a8a92",
            "f576983eab334f90b4eba4f76a709c7a",
            "4ff774070dbf4b378bdff586d2c8a011",
            "29480a21acc14f0aa484e25157293079",
            "2454cd54735a48179d32571a6b9c9571",
            "f8323d8f08994c02b17203b015d0a275"
          ]
        }
      },
      "source": [
        "\n",
        "seed_everything(42)\n",
        "device = 'cpu'\n",
        "early_stop_callback = EarlyStopping(monitor='val_loss', min_delta=0.00, \n",
        "                                    patience=5, verbose=True, mode='auto')\n",
        "model = OurModel().to(device)\n",
        "trainer = Trainer(max_epochs=100, min_epochs=1, auto_lr_find=False, auto_scale_batch_size=False,\n",
        "                  progress_bar_refresh_rate=10, early_stop_callback=early_stop_callback)\n",
        "trainer.fit(model)\n",
        "save(model.state_dict(), 'Location of our saved model')"
      ],
      "execution_count": 54,
      "outputs": [
        {
          "output_type": "stream",
          "text": [
            "EarlyStopping mode auto is unknown, fallback to auto mode.\n",
            "EarlyStopping mode set to min for monitoring val_loss.\n",
            "GPU available: False, used: False\n",
            "TPU available: False, using: 0 TPU cores\n",
            "/usr/local/lib/python3.6/dist-packages/pytorch_lightning/utilities/distributed.py:37: UserWarning: Could not log computational graph since the `model.example_input_array` attribute is not set or `input_array` was not given\n",
            "  warnings.warn(*args, **kwargs)\n",
            "\n",
            "  | Name    | Type    | Params\n",
            "------------------------------------\n",
            "0 | linear  | Linear  | 43 M  \n",
            "1 | linear2 | Linear  | 2 K   \n",
            "2 | output  | Sigmoid | 0     \n"
          ],
          "name": "stderr"
        },
        {
          "output_type": "display_data",
          "data": {
            "application/vnd.jupyter.widget-view+json": {
              "model_id": "f68f22557cba47399056210512279865",
              "version_minor": 0,
              "version_major": 2
            },
            "text/plain": [
              "HBox(children=(FloatProgress(value=1.0, bar_style='info', description='Validation sanity check', layout=Layout…"
            ]
          },
          "metadata": {
            "tags": []
          }
        },
        {
          "output_type": "stream",
          "text": [
            "\r"
          ],
          "name": "stdout"
        },
        {
          "output_type": "display_data",
          "data": {
            "application/vnd.jupyter.widget-view+json": {
              "model_id": "b5c14735181e48979067e800b674f883",
              "version_minor": 0,
              "version_major": 2
            },
            "text/plain": [
              "HBox(children=(FloatProgress(value=1.0, bar_style='info', description='Training', layout=Layout(flex='2'), max…"
            ]
          },
          "metadata": {
            "tags": []
          }
        },
        {
          "output_type": "display_data",
          "data": {
            "application/vnd.jupyter.widget-view+json": {
              "model_id": "43755e73bc2745d2b9168ed3f75846f0",
              "version_minor": 0,
              "version_major": 2
            },
            "text/plain": [
              "HBox(children=(FloatProgress(value=1.0, bar_style='info', description='Validating', layout=Layout(flex='2'), m…"
            ]
          },
          "metadata": {
            "tags": []
          }
        },
        {
          "output_type": "stream",
          "text": [
            "/usr/local/lib/python3.6/dist-packages/pytorch_lightning/utilities/distributed.py:37: UserWarning: Detected KeyboardInterrupt, attempting graceful shutdown...\n",
            "  warnings.warn(*args, **kwargs)\n",
            "Saving latest checkpoint..\n"
          ],
          "name": "stderr"
        },
        {
          "output_type": "stream",
          "text": [
            "\n"
          ],
          "name": "stdout"
        }
      ]
    },
    {
      "cell_type": "code",
      "metadata": {
        "id": "yqmCNuE08t4-"
      },
      "source": [
        ""
      ],
      "execution_count": null,
      "outputs": []
    }
  ]
}