{
  "nbformat": 4,
  "nbformat_minor": 0,
  "metadata": {
    "colab": {
      "name": "Analyze_bigdata.ipynb",
      "provenance": [],
      "collapsed_sections": [],
      "mount_file_id": "1fV7YpvLHw0BZ74jiGt5ED3Xn6XC1i9Pi",
      "authorship_tag": "ABX9TyPH++iRnOJrdpIvev7YRktO",
      "include_colab_link": true
    },
    "kernelspec": {
      "name": "python3",
      "display_name": "Python 3"
    }
  },
  "cells": [
    {
      "cell_type": "markdown",
      "metadata": {
        "id": "view-in-github",
        "colab_type": "text"
      },
      "source": [
        "<a href=\"https://colab.research.google.com/github/duybluemind1988/Data-science/blob/master/Analyze_bigdata.ipynb\" target=\"_parent\"><img src=\"https://colab.research.google.com/assets/colab-badge.svg\" alt=\"Open In Colab\"/></a>"
      ]
    },
    {
      "cell_type": "code",
      "metadata": {
        "id": "r8QRRPq78IAU",
        "colab_type": "code",
        "colab": {}
      },
      "source": [
        "import pandas as pd\n",
        "import numpy as np"
      ],
      "execution_count": 1,
      "outputs": []
    },
    {
      "cell_type": "code",
      "metadata": {
        "id": "7Ax4zPkz8kol",
        "colab_type": "code",
        "colab": {}
      },
      "source": [
        "path1='/content/drive/My Drive/Data/Sonion/V04R-V04R-SQLData.dat' # 2gb\n",
        "path2='/content/drive/My Drive/Data/loan.csv' # 1gb\n",
        "path3='/content/drive/My Drive/Data/Instacart Market dataset/order_products__prior.csv' #500 mb"
      ],
      "execution_count": 2,
      "outputs": []
    },
    {
      "cell_type": "markdown",
      "metadata": {
        "id": "MZs5gnW7GJJM",
        "colab_type": "text"
      },
      "source": [
        "# Read csv by chunksize"
      ]
    },
    {
      "cell_type": "code",
      "metadata": {
        "id": "OjnSUY-UAI5O",
        "colab_type": "code",
        "colab": {
          "base_uri": "https://localhost:8080/",
          "height": 255
        },
        "outputId": "b557aa3d-9e4e-4b32-b121-10a5f9af9a83"
      },
      "source": [
        "import psutil\n",
        "import pandas as pd\n",
        "import csv\n",
        "\n",
        "svmem = psutil.virtual_memory()\n",
        "print (svmem.available)\n",
        "PATH = path2\n",
        "df_sample = pd.read_csv(PATH, nrows=10)\n",
        "df_sample_size = df_sample.memory_usage(index=True).sum()\n",
        "print ('df_sample_size: ',df_sample_size)\n",
        "print ('df_sample: ',df_sample)\n",
        "# define a chunksize that would occupy a maximum of 1Gb\n",
        "# we divide by 10 because we have selected 10 lines in our df_sample\n",
        "my_chunk = (1000000000 / df_sample_size)/10\n",
        "my_chunk = int(my_chunk//1) # we get the integer part\n",
        "print (my_chunk)\n",
        "# create the iterator\n",
        "iter_csv = pd.read_csv(\n",
        "    PATH,\n",
        "    iterator=True,\n",
        "    chunksize=my_chunk)\n"
      ],
      "execution_count": 15,
      "outputs": [
        {
          "output_type": "stream",
          "text": [
            "12695183360\n",
            "df_sample_size:  448\n",
            "df_sample:     order_id  product_id  add_to_cart_order  reordered\n",
            "0         2       33120                  1          1\n",
            "1         2       28985                  2          1\n",
            "2         2        9327                  3          0\n",
            "3         2       45918                  4          1\n",
            "4         2       30035                  5          0\n",
            "5         2       17794                  6          1\n",
            "6         2       40141                  7          1\n",
            "7         2        1819                  8          1\n",
            "8         2       43668                  9          0\n",
            "9         3       33754                  1          1\n",
            "223214\n"
          ],
          "name": "stdout"
        }
      ]
    },
    {
      "cell_type": "code",
      "metadata": {
        "id": "ZEXcoWDaA2-d",
        "colab_type": "code",
        "colab": {
          "base_uri": "https://localhost:8080/",
          "height": 34
        },
        "outputId": "cc2c009d-69d7-4c20-a487-6275ffa750fd"
      },
      "source": [
        "iter_csv"
      ],
      "execution_count": 16,
      "outputs": [
        {
          "output_type": "execute_result",
          "data": {
            "text/plain": [
              "<pandas.io.parsers.TextFileReader at 0x7fd2698562b0>"
            ]
          },
          "metadata": {
            "tags": []
          },
          "execution_count": 16
        }
      ]
    },
    {
      "cell_type": "code",
      "metadata": {
        "id": "0iTAywQyAYLz",
        "colab_type": "code",
        "colab": {
          "base_uri": "https://localhost:8080/",
          "height": 255
        },
        "outputId": "48504e52-9439-4ed5-f6b6-9774104b0957"
      },
      "source": [
        "# concatenate according to a filter to our result dataframe\n",
        "df_result = pd.concat( chunk for chunk in iter_csv)\n",
        "print (df_result)"
      ],
      "execution_count": 18,
      "outputs": [
        {
          "output_type": "stream",
          "text": [
            "          order_id  product_id  add_to_cart_order  reordered\n",
            "0                2       33120                  1          1\n",
            "1                2       28985                  2          1\n",
            "2                2        9327                  3          0\n",
            "3                2       45918                  4          1\n",
            "4                2       30035                  5          0\n",
            "...            ...         ...                ...        ...\n",
            "32434484   3421083       39678                  6          1\n",
            "32434485   3421083       11352                  7          0\n",
            "32434486   3421083        4600                  8          0\n",
            "32434487   3421083       24852                  9          1\n",
            "32434488   3421083        5020                 10          1\n",
            "\n",
            "[32434489 rows x 4 columns]\n"
          ],
          "name": "stdout"
        }
      ]
    },
    {
      "cell_type": "code",
      "metadata": {
        "id": "n5tTaKW3A6_m",
        "colab_type": "code",
        "colab": {
          "base_uri": "https://localhost:8080/",
          "height": 34
        },
        "outputId": "f121cd55-02ce-4e56-8fe3-10f16172a460"
      },
      "source": [
        "df_result.shape"
      ],
      "execution_count": 19,
      "outputs": [
        {
          "output_type": "execute_result",
          "data": {
            "text/plain": [
              "(32434489, 4)"
            ]
          },
          "metadata": {
            "tags": []
          },
          "execution_count": 19
        }
      ]
    },
    {
      "cell_type": "code",
      "metadata": {
        "id": "3K9djDjzBC_n",
        "colab_type": "code",
        "colab": {}
      },
      "source": [
        "def read_bigdata(path):\n",
        "  svmem = psutil.virtual_memory()\n",
        "  print (svmem.available)\n",
        "  PATH = path\n",
        "  df_sample = pd.read_csv(PATH, nrows=10)\n",
        "  df_sample_size = df_sample.memory_usage(index=True).sum()\n",
        "  print ('df_sample_size: ',df_sample_size)\n",
        "  print ('df_sample: ',df_sample)\n",
        "  # define a chunksize that would occupy a maximum of 1Gb\n",
        "  # we divide by 10 because we have selected 10 lines in our df_sample\n",
        "  my_chunk = (1000000000 / df_sample_size)/10\n",
        "  my_chunk = int(my_chunk//1) # we get the integer part\n",
        "  print ('my_chunk',my_chunk)\n",
        "  # create the iterator\n",
        "  iter_csv = pd.read_csv(PATH,iterator=True,chunksize=my_chunk)\n",
        "  df_result = pd.concat( chunk for chunk in iter_csv)\n",
        "  print(df_result.shape)\n",
        "  print(df_result)\n",
        "  return df_result"
      ],
      "execution_count": 24,
      "outputs": []
    },
    {
      "cell_type": "code",
      "metadata": {
        "id": "UitFm1VeDjP9",
        "colab_type": "code",
        "colab": {
          "base_uri": "https://localhost:8080/",
          "height": 1000
        },
        "outputId": "9d03ff9b-836a-456b-f040-649264fa3268"
      },
      "source": [
        "%time df_result=read_bigdata(path1)"
      ],
      "execution_count": 31,
      "outputs": [
        {
          "output_type": "stream",
          "text": [
            "9891028992\n",
            "df_sample_size:  11728\n",
            "df_sample:     id  member_id  ...  settlement_percentage  settlement_term\n",
            "0 NaN        NaN  ...                    NaN              NaN\n",
            "1 NaN        NaN  ...                    NaN              NaN\n",
            "2 NaN        NaN  ...                    NaN              NaN\n",
            "3 NaN        NaN  ...                    NaN              NaN\n",
            "4 NaN        NaN  ...                    NaN              NaN\n",
            "5 NaN        NaN  ...                    NaN              NaN\n",
            "6 NaN        NaN  ...                    NaN              NaN\n",
            "7 NaN        NaN  ...                    NaN              NaN\n",
            "8 NaN        NaN  ...                    NaN              NaN\n",
            "9 NaN        NaN  ...                    NaN              NaN\n",
            "\n",
            "[10 rows x 145 columns]\n",
            "my_chunk 8526\n"
          ],
          "name": "stdout"
        },
        {
          "output_type": "stream",
          "text": [
            "/usr/local/lib/python3.6/dist-packages/ipykernel_launcher.py:16: DtypeWarning: Columns (139,140,141) have mixed types.Specify dtype option on import or set low_memory=False.\n",
            "  app.launch_new_instance()\n",
            "/usr/local/lib/python3.6/dist-packages/ipykernel_launcher.py:16: DtypeWarning: Columns (123,124,125,128,129,130,133) have mixed types.Specify dtype option on import or set low_memory=False.\n",
            "  app.launch_new_instance()\n",
            "/usr/local/lib/python3.6/dist-packages/ipykernel_launcher.py:16: DtypeWarning: Columns (123,124,125,128,129,130,133,139,140,141) have mixed types.Specify dtype option on import or set low_memory=False.\n",
            "  app.launch_new_instance()\n",
            "/usr/local/lib/python3.6/dist-packages/ipykernel_launcher.py:16: DtypeWarning: Columns (112) have mixed types.Specify dtype option on import or set low_memory=False.\n",
            "  app.launch_new_instance()\n",
            "/usr/local/lib/python3.6/dist-packages/ipykernel_launcher.py:16: DtypeWarning: Columns (19) have mixed types.Specify dtype option on import or set low_memory=False.\n",
            "  app.launch_new_instance()\n",
            "/usr/local/lib/python3.6/dist-packages/ipykernel_launcher.py:16: DtypeWarning: Columns (19,55) have mixed types.Specify dtype option on import or set low_memory=False.\n",
            "  app.launch_new_instance()\n",
            "/usr/local/lib/python3.6/dist-packages/ipykernel_launcher.py:16: DtypeWarning: Columns (55) have mixed types.Specify dtype option on import or set low_memory=False.\n",
            "  app.launch_new_instance()\n",
            "/usr/local/lib/python3.6/dist-packages/ipykernel_launcher.py:16: DtypeWarning: Columns (19,123,124,125,128,129,130,133) have mixed types.Specify dtype option on import or set low_memory=False.\n",
            "  app.launch_new_instance()\n",
            "/usr/local/lib/python3.6/dist-packages/ipykernel_launcher.py:16: DtypeWarning: Columns (112,139,140,141) have mixed types.Specify dtype option on import or set low_memory=False.\n",
            "  app.launch_new_instance()\n",
            "/usr/local/lib/python3.6/dist-packages/ipykernel_launcher.py:16: DtypeWarning: Columns (19,47,55,112) have mixed types.Specify dtype option on import or set low_memory=False.\n",
            "  app.launch_new_instance()\n",
            "/usr/local/lib/python3.6/dist-packages/ipykernel_launcher.py:16: DtypeWarning: Columns (47,123,124,125,128,129,130,133) have mixed types.Specify dtype option on import or set low_memory=False.\n",
            "  app.launch_new_instance()\n",
            "/usr/local/lib/python3.6/dist-packages/ipykernel_launcher.py:16: DtypeWarning: Columns (47) have mixed types.Specify dtype option on import or set low_memory=False.\n",
            "  app.launch_new_instance()\n",
            "/usr/local/lib/python3.6/dist-packages/ipykernel_launcher.py:16: DtypeWarning: Columns (19,47,123,124,125,128,129,130,133) have mixed types.Specify dtype option on import or set low_memory=False.\n",
            "  app.launch_new_instance()\n",
            "/usr/local/lib/python3.6/dist-packages/ipykernel_launcher.py:16: DtypeWarning: Columns (47,139,140,141) have mixed types.Specify dtype option on import or set low_memory=False.\n",
            "  app.launch_new_instance()\n"
          ],
          "name": "stderr"
        },
        {
          "output_type": "stream",
          "text": [
            "(2260668, 145)\n",
            "         id  member_id  ...  settlement_percentage  settlement_term\n",
            "0       NaN        NaN  ...                    NaN              NaN\n",
            "1       NaN        NaN  ...                    NaN              NaN\n",
            "2       NaN        NaN  ...                    NaN              NaN\n",
            "3       NaN        NaN  ...                    NaN              NaN\n",
            "4       NaN        NaN  ...                    NaN              NaN\n",
            "...      ..        ...  ...                    ...              ...\n",
            "2260663 NaN        NaN  ...                    NaN              NaN\n",
            "2260664 NaN        NaN  ...                    NaN              NaN\n",
            "2260665 NaN        NaN  ...                    NaN              NaN\n",
            "2260666 NaN        NaN  ...                    NaN              NaN\n",
            "2260667 NaN        NaN  ...                    NaN              NaN\n",
            "\n",
            "[2260668 rows x 145 columns]\n",
            "CPU times: user 47.2 s, sys: 6.22 s, total: 53.4 s\n",
            "Wall time: 55.5 s\n"
          ],
          "name": "stdout"
        }
      ]
    },
    {
      "cell_type": "code",
      "metadata": {
        "id": "H3k2UFKrCifH",
        "colab_type": "code",
        "colab": {
          "base_uri": "https://localhost:8080/",
          "height": 544
        },
        "outputId": "1f58e25f-8c70-4af9-e964-63dee00bc3f5"
      },
      "source": [
        "%time df_result2=read_bigdata(path2)"
      ],
      "execution_count": 32,
      "outputs": [
        {
          "output_type": "stream",
          "text": [
            "6891581440\n",
            "df_sample_size:  448\n",
            "df_sample:     order_id  product_id  add_to_cart_order  reordered\n",
            "0         2       33120                  1          1\n",
            "1         2       28985                  2          1\n",
            "2         2        9327                  3          0\n",
            "3         2       45918                  4          1\n",
            "4         2       30035                  5          0\n",
            "5         2       17794                  6          1\n",
            "6         2       40141                  7          1\n",
            "7         2        1819                  8          1\n",
            "8         2       43668                  9          0\n",
            "9         3       33754                  1          1\n",
            "my_chunk 223214\n",
            "(32434489, 4)\n",
            "          order_id  product_id  add_to_cart_order  reordered\n",
            "0                2       33120                  1          1\n",
            "1                2       28985                  2          1\n",
            "2                2        9327                  3          0\n",
            "3                2       45918                  4          1\n",
            "4                2       30035                  5          0\n",
            "...            ...         ...                ...        ...\n",
            "32434484   3421083       39678                  6          1\n",
            "32434485   3421083       11352                  7          0\n",
            "32434486   3421083        4600                  8          0\n",
            "32434487   3421083       24852                  9          1\n",
            "32434488   3421083        5020                 10          1\n",
            "\n",
            "[32434489 rows x 4 columns]\n",
            "CPU times: user 9.31 s, sys: 1.08 s, total: 10.4 s\n",
            "Wall time: 11.8 s\n"
          ],
          "name": "stdout"
        }
      ]
    },
    {
      "cell_type": "code",
      "metadata": {
        "id": "_iQZ14enEyvq",
        "colab_type": "code",
        "colab": {
          "base_uri": "https://localhost:8080/",
          "height": 295
        },
        "outputId": "27f011c5-d093-44e8-ea30-78ac036a9ae7"
      },
      "source": [
        "df_result2.add_to_cart_order.plot()"
      ],
      "execution_count": 34,
      "outputs": [
        {
          "output_type": "execute_result",
          "data": {
            "text/plain": [
              "<matplotlib.axes._subplots.AxesSubplot at 0x7fd234e1a9b0>"
            ]
          },
          "metadata": {
            "tags": []
          },
          "execution_count": 34
        },
        {
          "output_type": "display_data",
          "data": {
            "image/png": "[encoded data removed]",
            "text/plain": [
              "<Figure size 432x288 with 1 Axes>"
            ]
          },
          "metadata": {
            "tags": [],
            "needs_background": "light"
          }
        }
      ]
    },
    {
      "cell_type": "markdown",
      "metadata": {
        "id": "bJNrhzyxGzPQ",
        "colab_type": "text"
      },
      "source": [
        "## ANOTHER SIMPLE WAY FOR CHUNK SIZE:"
      ]
    },
    {
      "cell_type": "code",
      "metadata": {
        "id": "6W9rypmJG3w1",
        "colab_type": "code",
        "colab": {}
      },
      "source": [
        "import pandas as pd\n",
        "\n",
        "def readbigfile(name): \n",
        "    return pd.concat( \n",
        "       df[df[\"street\"] == name] for df in \n",
        "       pd.read_csv(\"voters.csv\", chunksize=1000) \n",
        "    ) "
      ],
      "execution_count": 36,
      "outputs": []
    },
    {
      "cell_type": "markdown",
      "metadata": {
        "id": "-hmzruaqGE9e",
        "colab_type": "text"
      },
      "source": [
        "# Fast subsets of large datasets with Pandas and SQLite"
      ]
    },
    {
      "cell_type": "markdown",
      "metadata": {
        "id": "1JZC9SMQGWJ0",
        "colab_type": "text"
      },
      "source": [
        "Let’s say you have a large amount of data, too large to fit in memory, and you want to load part of it into Pandas. If you’re only going to load one specific subset a single time, you can use chunking.\n",
        "\n",
        "But what if you need to load different subsets of the data at different times? Loading the whole file each time will be slow.\n",
        "\n",
        "What you need is a searchable index, and one easy (and fast!) way to do that is with SQLite."
      ]
    },
    {
      "cell_type": "code",
      "metadata": {
        "id": "W9tCP4NvF6Fh",
        "colab_type": "code",
        "colab": {}
      },
      "source": [
        "import pandas as pd\n",
        "import numpy as np"
      ],
      "execution_count": 3,
      "outputs": []
    },
    {
      "cell_type": "code",
      "metadata": {
        "id": "RbScYNXGHIal",
        "colab_type": "code",
        "colab": {}
      },
      "source": [
        "path1='/content/drive/My Drive/Data/Sonion/V04R-V04R-SQLData.dat' # 2gb\n",
        "path2='/content/drive/My Drive/Data/loan.csv' # 1gb\n",
        "path3='/content/drive/My Drive/Data/Instacart Market dataset/order_products__prior.csv' #500 mb"
      ],
      "execution_count": 4,
      "outputs": []
    },
    {
      "cell_type": "code",
      "metadata": {
        "id": "UlZ1kgHFHIyO",
        "colab_type": "code",
        "colab": {}
      },
      "source": [
        "import sqlite3\n",
        "\n",
        "# Create a new database file:\n",
        "db = sqlite3.connect(\"voters.sqlite\")\n",
        "\n",
        "# Load the CSV in chunks:\n",
        "for c in pd.read_csv(path2, chunksize=1000): #10,000 to 200,000\n",
        "    # Append all rows to a new database table, which\n",
        "    # we name 'voters':\n",
        "    c.to_sql(\"voters\", db, if_exists=\"append\")"
      ],
      "execution_count": null,
      "outputs": []
    },
    {
      "cell_type": "code",
      "metadata": {
        "id": "a-T6WLFmPiA5",
        "colab_type": "code",
        "colab": {}
      },
      "source": [
        "# Add an index on the 'street' column:\n",
        "db.execute(\"CREATE INDEX street ON voters(street)\") \n",
        "db.close()"
      ],
      "execution_count": null,
      "outputs": []
    },
    {
      "cell_type": "code",
      "metadata": {
        "id": "6e8ql_hvQlJ1",
        "colab_type": "code",
        "colab": {}
      },
      "source": [
        "def get_voters_for_street(street_name):\n",
        "  conn = sqlite3.connect(\"voters.sqlite\")\n",
        "  q = \"SELECT * FROM voters WHERE street = ?\"\n",
        "  values = (street_name,)\n",
        "  return pd.read_sql_query(q, conn, values)"
      ],
      "execution_count": null,
      "outputs": []
    },
    {
      "cell_type": "markdown",
      "metadata": {
        "id": "mvoQnS4IQmcT",
        "colab_type": "text"
      },
      "source": [
        "When you run this function, SQLite will load only those rows that match the query, and pass them to Pandas to turn into a DataFrame."
      ]
    },
    {
      "cell_type": "markdown",
      "metadata": {
        "id": "ZUTRZQlbQnsU",
        "colab_type": "text"
      },
      "source": [
        "50x faster lookups\n",
        "\n",
        "You’ll recall that with a CSV with 70,000 rows, our original approach took 574ms to lookup the voters for a particular street. Using our re-implemented version based on SQLite, it only takes 10ms.\n",
        "\n",
        "That’s a 50× speed-up! That’s the benefit of only having to load only those rows we actually care about, instead of having to parse and filter every single row in the original CSV."
      ]
    },
    {
      "cell_type": "code",
      "metadata": {
        "id": "UWcLMSxrQmrF",
        "colab_type": "code",
        "colab": {}
      },
      "source": [
        ""
      ],
      "execution_count": null,
      "outputs": []
    }
  ]
}