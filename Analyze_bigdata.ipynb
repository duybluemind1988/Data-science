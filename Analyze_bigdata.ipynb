{
  "nbformat": 4,
  "nbformat_minor": 0,
  "metadata": {
    "colab": {
      "name": "Analyze_bigdata.ipynb",
      "provenance": [],
      "collapsed_sections": [],
      "mount_file_id": "1fV7YpvLHw0BZ74jiGt5ED3Xn6XC1i9Pi",
      "authorship_tag": "ABX9TyNstisyN7lfHBEcEFo9/Vne",
      "include_colab_link": true
    },
    "kernelspec": {
      "name": "python3",
      "display_name": "Python 3"
    }
  },
  "cells": [
    {
      "cell_type": "markdown",
      "metadata": {
        "id": "view-in-github",
        "colab_type": "text"
      },
      "source": [
        "<a href=\"https://colab.research.google.com/github/duybluemind1988/Data-science/blob/master/Analyze_bigdata.ipynb\" target=\"_parent\"><img src=\"https://colab.research.google.com/assets/colab-badge.svg\" alt=\"Open In Colab\"/></a>"
      ]
    },
    {
      "cell_type": "code",
      "metadata": {
        "id": "r8QRRPq78IAU",
        "colab_type": "code",
        "colab": {}
      },
      "source": [
        "import pandas as pd\n",
        "import numpy as np"
      ],
      "execution_count": 1,
      "outputs": []
    },
    {
      "cell_type": "code",
      "metadata": {
        "id": "7Ax4zPkz8kol",
        "colab_type": "code",
        "colab": {}
      },
      "source": [
        "path1='/content/drive/My Drive/Data/Sonion/V04R-V04R-SQLData.dat' # 2gb\n",
        "path2='/content/drive/My Drive/Data/loan.csv' # 1gb\n",
        "path3='/content/drive/My Drive/Data/Instacart Market dataset/order_products__prior.csv' #500 mb"
      ],
      "execution_count": 2,
      "outputs": []
    },
    {
      "cell_type": "markdown",
      "metadata": {
        "id": "MZs5gnW7GJJM",
        "colab_type": "text"
      },
      "source": [
        "# Read csv by chunksize"
      ]
    },
    {
      "cell_type": "markdown",
      "metadata": {
        "id": "SIEHtdnVTD3H",
        "colab_type": "text"
      },
      "source": [
        "1 000 000 000 bytes =\n",
        "1000 megabytes"
      ]
    },
    {
      "cell_type": "code",
      "metadata": {
        "id": "OjnSUY-UAI5O",
        "colab_type": "code",
        "colab": {
          "base_uri": "https://localhost:8080/",
          "height": 255
        },
        "outputId": "b557aa3d-9e4e-4b32-b121-10a5f9af9a83"
      },
      "source": [
        "import psutil\n",
        "import pandas as pd\n",
        "import csv\n",
        "\n",
        "svmem = psutil.virtual_memory()\n",
        "print (svmem.available)\n",
        "PATH = path2\n",
        "df_sample = pd.read_csv(PATH, nrows=10)\n",
        "df_sample_size = df_sample.memory_usage(index=True).sum()\n",
        "print ('df_sample_size: ',df_sample_size)\n",
        "print ('df_sample: ',df_sample)\n",
        "# define a chunksize that would occupy a maximum of 1Gb\n",
        "# we divide by 10 because we have selected 10 lines in our df_sample\n",
        "my_chunk = (1000000000 / df_sample_size)/10\n",
        "my_chunk = int(my_chunk//1) # we get the integer part ,  this is the chunk size of 1 line of data frame (bytes)\n",
        "print (my_chunk)\n",
        "# create the iterator\n",
        "iter_csv = pd.read_csv(\n",
        "    PATH,\n",
        "    iterator=True,\n",
        "    chunksize=my_chunk)\n"
      ],
      "execution_count": 15,
      "outputs": [
        {
          "output_type": "stream",
          "text": [
            "12695183360\n",
            "df_sample_size:  448\n",
            "df_sample:     order_id  product_id  add_to_cart_order  reordered\n",
            "0         2       33120                  1          1\n",
            "1         2       28985                  2          1\n",
            "2         2        9327                  3          0\n",
            "3         2       45918                  4          1\n",
            "4         2       30035                  5          0\n",
            "5         2       17794                  6          1\n",
            "6         2       40141                  7          1\n",
            "7         2        1819                  8          1\n",
            "8         2       43668                  9          0\n",
            "9         3       33754                  1          1\n",
            "223214\n"
          ],
          "name": "stdout"
        }
      ]
    },
    {
      "cell_type": "code",
      "metadata": {
        "id": "ZEXcoWDaA2-d",
        "colab_type": "code",
        "colab": {
          "base_uri": "https://localhost:8080/",
          "height": 34
        },
        "outputId": "cc2c009d-69d7-4c20-a487-6275ffa750fd"
      },
      "source": [
        "iter_csv"
      ],
      "execution_count": 16,
      "outputs": [
        {
          "output_type": "execute_result",
          "data": {
            "text/plain": [
              "<pandas.io.parsers.TextFileReader at 0x7fd2698562b0>"
            ]
          },
          "metadata": {
            "tags": []
          },
          "execution_count": 16
        }
      ]
    },
    {
      "cell_type": "code",
      "metadata": {
        "id": "0iTAywQyAYLz",
        "colab_type": "code",
        "colab": {
          "base_uri": "https://localhost:8080/",
          "height": 255
        },
        "outputId": "48504e52-9439-4ed5-f6b6-9774104b0957"
      },
      "source": [
        "# concatenate according to a filter to our result dataframe\n",
        "df_result = pd.concat( chunk for chunk in iter_csv)\n",
        "print (df_result)"
      ],
      "execution_count": 18,
      "outputs": [
        {
          "output_type": "stream",
          "text": [
            "          order_id  product_id  add_to_cart_order  reordered\n",
            "0                2       33120                  1          1\n",
            "1                2       28985                  2          1\n",
            "2                2        9327                  3          0\n",
            "3                2       45918                  4          1\n",
            "4                2       30035                  5          0\n",
            "...            ...         ...                ...        ...\n",
            "32434484   3421083       39678                  6          1\n",
            "32434485   3421083       11352                  7          0\n",
            "32434486   3421083        4600                  8          0\n",
            "32434487   3421083       24852                  9          1\n",
            "32434488   3421083        5020                 10          1\n",
            "\n",
            "[32434489 rows x 4 columns]\n"
          ],
          "name": "stdout"
        }
      ]
    },
    {
      "cell_type": "code",
      "metadata": {
        "id": "n5tTaKW3A6_m",
        "colab_type": "code",
        "colab": {
          "base_uri": "https://localhost:8080/",
          "height": 34
        },
        "outputId": "f121cd55-02ce-4e56-8fe3-10f16172a460"
      },
      "source": [
        "df_result.shape"
      ],
      "execution_count": 19,
      "outputs": [
        {
          "output_type": "execute_result",
          "data": {
            "text/plain": [
              "(32434489, 4)"
            ]
          },
          "metadata": {
            "tags": []
          },
          "execution_count": 19
        }
      ]
    },
    {
      "cell_type": "code",
      "metadata": {
        "id": "3K9djDjzBC_n",
        "colab_type": "code",
        "colab": {}
      },
      "source": [
        "def read_bigdata(path):\n",
        "  svmem = psutil.virtual_memory()\n",
        "  print (svmem.available)\n",
        "  PATH = path\n",
        "  df_sample = pd.read_csv(PATH, nrows=10)\n",
        "  df_sample_size = df_sample.memory_usage(index=True).sum()\n",
        "  print ('df_sample_size: ',df_sample_size)\n",
        "  print ('df_sample: ',df_sample)\n",
        "  # define a chunksize that would occupy a maximum of 1Gb\n",
        "  # we divide by 10 because we have selected 10 lines in our df_sample\n",
        "  my_chunk = (1000000000 / df_sample_size)/10\n",
        "  my_chunk = int(my_chunk//1) # we get the integer part\n",
        "  print ('my_chunk',my_chunk)\n",
        "  # create the iterator\n",
        "  iter_csv = pd.read_csv(PATH,iterator=True,chunksize=my_chunk)\n",
        "  df_result = pd.concat( chunk for chunk in iter_csv)\n",
        "  print(df_result.shape)\n",
        "  print(df_result)\n",
        "  return df_result"
      ],
      "execution_count": 24,
      "outputs": []
    },
    {
      "cell_type": "code",
      "metadata": {
        "id": "UitFm1VeDjP9",
        "colab_type": "code",
        "colab": {
          "base_uri": "https://localhost:8080/",
          "height": 1000
        },
        "outputId": "9d03ff9b-836a-456b-f040-649264fa3268"
      },
      "source": [
        "%time df_result=read_bigdata(path1)"
      ],
      "execution_count": 31,
      "outputs": [
        {
          "output_type": "stream",
          "text": [
            "9891028992\n",
            "df_sample_size:  11728\n",
            "df_sample:     id  member_id  ...  settlement_percentage  settlement_term\n",
            "0 NaN        NaN  ...                    NaN              NaN\n",
            "1 NaN        NaN  ...                    NaN              NaN\n",
            "2 NaN        NaN  ...                    NaN              NaN\n",
            "3 NaN        NaN  ...                    NaN              NaN\n",
            "4 NaN        NaN  ...                    NaN              NaN\n",
            "5 NaN        NaN  ...                    NaN              NaN\n",
            "6 NaN        NaN  ...                    NaN              NaN\n",
            "7 NaN        NaN  ...                    NaN              NaN\n",
            "8 NaN        NaN  ...                    NaN              NaN\n",
            "9 NaN        NaN  ...                    NaN              NaN\n",
            "\n",
            "[10 rows x 145 columns]\n",
            "my_chunk 8526\n"
          ],
          "name": "stdout"
        },
        {
          "output_type": "stream",
          "text": [
            "/usr/local/lib/python3.6/dist-packages/ipykernel_launcher.py:16: DtypeWarning: Columns (139,140,141) have mixed types.Specify dtype option on import or set low_memory=False.\n",
            "  app.launch_new_instance()\n",
            "/usr/local/lib/python3.6/dist-packages/ipykernel_launcher.py:16: DtypeWarning: Columns (123,124,125,128,129,130,133) have mixed types.Specify dtype option on import or set low_memory=False.\n",
            "  app.launch_new_instance()\n",
            "/usr/local/lib/python3.6/dist-packages/ipykernel_launcher.py:16: DtypeWarning: Columns (123,124,125,128,129,130,133,139,140,141) have mixed types.Specify dtype option on import or set low_memory=False.\n",
            "  app.launch_new_instance()\n",
            "/usr/local/lib/python3.6/dist-packages/ipykernel_launcher.py:16: DtypeWarning: Columns (112) have mixed types.Specify dtype option on import or set low_memory=False.\n",
            "  app.launch_new_instance()\n",
            "/usr/local/lib/python3.6/dist-packages/ipykernel_launcher.py:16: DtypeWarning: Columns (19) have mixed types.Specify dtype option on import or set low_memory=False.\n",
            "  app.launch_new_instance()\n",
            "/usr/local/lib/python3.6/dist-packages/ipykernel_launcher.py:16: DtypeWarning: Columns (19,55) have mixed types.Specify dtype option on import or set low_memory=False.\n",
            "  app.launch_new_instance()\n",
            "/usr/local/lib/python3.6/dist-packages/ipykernel_launcher.py:16: DtypeWarning: Columns (55) have mixed types.Specify dtype option on import or set low_memory=False.\n",
            "  app.launch_new_instance()\n",
            "/usr/local/lib/python3.6/dist-packages/ipykernel_launcher.py:16: DtypeWarning: Columns (19,123,124,125,128,129,130,133) have mixed types.Specify dtype option on import or set low_memory=False.\n",
            "  app.launch_new_instance()\n",
            "/usr/local/lib/python3.6/dist-packages/ipykernel_launcher.py:16: DtypeWarning: Columns (112,139,140,141) have mixed types.Specify dtype option on import or set low_memory=False.\n",
            "  app.launch_new_instance()\n",
            "/usr/local/lib/python3.6/dist-packages/ipykernel_launcher.py:16: DtypeWarning: Columns (19,47,55,112) have mixed types.Specify dtype option on import or set low_memory=False.\n",
            "  app.launch_new_instance()\n",
            "/usr/local/lib/python3.6/dist-packages/ipykernel_launcher.py:16: DtypeWarning: Columns (47,123,124,125,128,129,130,133) have mixed types.Specify dtype option on import or set low_memory=False.\n",
            "  app.launch_new_instance()\n",
            "/usr/local/lib/python3.6/dist-packages/ipykernel_launcher.py:16: DtypeWarning: Columns (47) have mixed types.Specify dtype option on import or set low_memory=False.\n",
            "  app.launch_new_instance()\n",
            "/usr/local/lib/python3.6/dist-packages/ipykernel_launcher.py:16: DtypeWarning: Columns (19,47,123,124,125,128,129,130,133) have mixed types.Specify dtype option on import or set low_memory=False.\n",
            "  app.launch_new_instance()\n",
            "/usr/local/lib/python3.6/dist-packages/ipykernel_launcher.py:16: DtypeWarning: Columns (47,139,140,141) have mixed types.Specify dtype option on import or set low_memory=False.\n",
            "  app.launch_new_instance()\n"
          ],
          "name": "stderr"
        },
        {
          "output_type": "stream",
          "text": [
            "(2260668, 145)\n",
            "         id  member_id  ...  settlement_percentage  settlement_term\n",
            "0       NaN        NaN  ...                    NaN              NaN\n",
            "1       NaN        NaN  ...                    NaN              NaN\n",
            "2       NaN        NaN  ...                    NaN              NaN\n",
            "3       NaN        NaN  ...                    NaN              NaN\n",
            "4       NaN        NaN  ...                    NaN              NaN\n",
            "...      ..        ...  ...                    ...              ...\n",
            "2260663 NaN        NaN  ...                    NaN              NaN\n",
            "2260664 NaN        NaN  ...                    NaN              NaN\n",
            "2260665 NaN        NaN  ...                    NaN              NaN\n",
            "2260666 NaN        NaN  ...                    NaN              NaN\n",
            "2260667 NaN        NaN  ...                    NaN              NaN\n",
            "\n",
            "[2260668 rows x 145 columns]\n",
            "CPU times: user 47.2 s, sys: 6.22 s, total: 53.4 s\n",
            "Wall time: 55.5 s\n"
          ],
          "name": "stdout"
        }
      ]
    },
    {
      "cell_type": "code",
      "metadata": {
        "id": "H3k2UFKrCifH",
        "colab_type": "code",
        "colab": {
          "base_uri": "https://localhost:8080/",
          "height": 544
        },
        "outputId": "1f58e25f-8c70-4af9-e964-63dee00bc3f5"
      },
      "source": [
        "%time df_result2=read_bigdata(path2)"
      ],
      "execution_count": 32,
      "outputs": [
        {
          "output_type": "stream",
          "text": [
            "6891581440\n",
            "df_sample_size:  448\n",
            "df_sample:     order_id  product_id  add_to_cart_order  reordered\n",
            "0         2       33120                  1          1\n",
            "1         2       28985                  2          1\n",
            "2         2        9327                  3          0\n",
            "3         2       45918                  4          1\n",
            "4         2       30035                  5          0\n",
            "5         2       17794                  6          1\n",
            "6         2       40141                  7          1\n",
            "7         2        1819                  8          1\n",
            "8         2       43668                  9          0\n",
            "9         3       33754                  1          1\n",
            "my_chunk 223214\n",
            "(32434489, 4)\n",
            "          order_id  product_id  add_to_cart_order  reordered\n",
            "0                2       33120                  1          1\n",
            "1                2       28985                  2          1\n",
            "2                2        9327                  3          0\n",
            "3                2       45918                  4          1\n",
            "4                2       30035                  5          0\n",
            "...            ...         ...                ...        ...\n",
            "32434484   3421083       39678                  6          1\n",
            "32434485   3421083       11352                  7          0\n",
            "32434486   3421083        4600                  8          0\n",
            "32434487   3421083       24852                  9          1\n",
            "32434488   3421083        5020                 10          1\n",
            "\n",
            "[32434489 rows x 4 columns]\n",
            "CPU times: user 9.31 s, sys: 1.08 s, total: 10.4 s\n",
            "Wall time: 11.8 s\n"
          ],
          "name": "stdout"
        }
      ]
    },
    {
      "cell_type": "code",
      "metadata": {
        "id": "_iQZ14enEyvq",
        "colab_type": "code",
        "colab": {
          "base_uri": "https://localhost:8080/",
          "height": 295
        },
        "outputId": "27f011c5-d093-44e8-ea30-78ac036a9ae7"
      },
      "source": [
        "df_result2.add_to_cart_order.plot()"
      ],
      "execution_count": 34,
      "outputs": [
        {
          "output_type": "execute_result",
          "data": {
            "text/plain": [
              "<matplotlib.axes._subplots.AxesSubplot at 0x7fd234e1a9b0>"
            ]
          },
          "metadata": {
            "tags": []
          },
          "execution_count": 34
        },
        {
          "output_type": "display_data",
          "data": {
            "image/png": "[encoded data removed]",
            "text/plain": [
              "<Figure size 432x288 with 1 Axes>"
            ]
          },
          "metadata": {
            "tags": [],
            "needs_background": "light"
          }
        }
      ]
    },
    {
      "cell_type": "markdown",
      "metadata": {
        "id": "bJNrhzyxGzPQ",
        "colab_type": "text"
      },
      "source": [
        "## ANOTHER SIMPLE WAY FOR CHUNK SIZE:"
      ]
    },
    {
      "cell_type": "code",
      "metadata": {
        "id": "6W9rypmJG3w1",
        "colab_type": "code",
        "colab": {}
      },
      "source": [
        "import pandas as pd\n",
        "\n",
        "def readbigfile(name): \n",
        "    return pd.concat( \n",
        "       df[df[\"street\"] == name] for df in \n",
        "       pd.read_csv(\"voters.csv\", chunksize=1000) \n",
        "    ) "
      ],
      "execution_count": 36,
      "outputs": []
    },
    {
      "cell_type": "markdown",
      "metadata": {
        "id": "-hmzruaqGE9e",
        "colab_type": "text"
      },
      "source": [
        "# Fast subsets of large datasets with Pandas and SQLite"
      ]
    },
    {
      "cell_type": "markdown",
      "metadata": {
        "id": "6fsJVuYpVtjs",
        "colab_type": "text"
      },
      "source": [
        "## Convert to SQLlite"
      ]
    },
    {
      "cell_type": "markdown",
      "metadata": {
        "id": "1JZC9SMQGWJ0",
        "colab_type": "text"
      },
      "source": [
        "Let’s say you have a large amount of data, too large to fit in memory, and you want to load part of it into Pandas. If you’re only going to load one specific subset a single time, you can use chunking.\n",
        "\n",
        "But what if you need to load different subsets of the data at different times? Loading the whole file each time will be slow.\n",
        "\n",
        "What you need is a searchable index, and one easy (and fast!) way to do that is with SQLite."
      ]
    },
    {
      "cell_type": "code",
      "metadata": {
        "id": "W9tCP4NvF6Fh",
        "colab_type": "code",
        "colab": {}
      },
      "source": [
        "import pandas as pd\n",
        "import numpy as np\n",
        "import sqlite3"
      ],
      "execution_count": 3,
      "outputs": []
    },
    {
      "cell_type": "code",
      "metadata": {
        "id": "RbScYNXGHIal",
        "colab_type": "code",
        "colab": {}
      },
      "source": [
        "path1='/content/drive/My Drive/Data/Sonion/V04R-V04R-SQLData.dat' # 2gb\n",
        "path2='/content/drive/My Drive/Data/loan.csv' # 1gb\n",
        "path3='/content/drive/My Drive/Data/Instacart Market dataset/order_products__prior.csv' #500 mb"
      ],
      "execution_count": 2,
      "outputs": []
    },
    {
      "cell_type": "code",
      "metadata": {
        "id": "UlZ1kgHFHIyO",
        "colab_type": "code",
        "colab": {}
      },
      "source": [
        "# Create a new database file:\n",
        "db = sqlite3.connect(\"voters.sqlite\")\n",
        "\n",
        "# Load the CSV in chunks:\n",
        "for c in pd.read_csv(path2, chunksize=1000): #10,000 to 200,000\n",
        "    # Append all rows to a new database table, which\n",
        "    # we name 'voters':\n",
        "    c.to_sql(\"voters\", db, if_exists=\"append\")"
      ],
      "execution_count": null,
      "outputs": []
    },
    {
      "cell_type": "code",
      "metadata": {
        "id": "a-T6WLFmPiA5",
        "colab_type": "code",
        "colab": {}
      },
      "source": [
        "# Add an index on the 'street' column:\n",
        "db.execute(\"CREATE INDEX street ON voters(street)\") \n",
        "db.close()"
      ],
      "execution_count": null,
      "outputs": []
    },
    {
      "cell_type": "code",
      "metadata": {
        "id": "6e8ql_hvQlJ1",
        "colab_type": "code",
        "colab": {}
      },
      "source": [
        "def get_voters_for_street(street_name):\n",
        "  conn = sqlite3.connect(\"voters.sqlite\")\n",
        "  q = \"SELECT * FROM voters WHERE street = ?\"\n",
        "  values = (street_name,)\n",
        "  return pd.read_sql_query(q, conn, values)"
      ],
      "execution_count": null,
      "outputs": []
    },
    {
      "cell_type": "markdown",
      "metadata": {
        "id": "mvoQnS4IQmcT",
        "colab_type": "text"
      },
      "source": [
        "When you run this function, SQLite will load only those rows that match the query, and pass them to Pandas to turn into a DataFrame."
      ]
    },
    {
      "cell_type": "markdown",
      "metadata": {
        "id": "ZUTRZQlbQnsU",
        "colab_type": "text"
      },
      "source": [
        "50x faster lookups\n",
        "\n",
        "You’ll recall that with a CSV with 70,000 rows, our original approach took 574ms to lookup the voters for a particular street. Using our re-implemented version based on SQLite, it only takes 10ms.\n",
        "\n",
        "That’s a 50× speed-up! That’s the benefit of only having to load only those rows we actually care about, instead of having to parse and filter every single row in the original CSV."
      ]
    },
    {
      "cell_type": "code",
      "metadata": {
        "id": "UWcLMSxrQmrF",
        "colab_type": "code",
        "colab": {}
      },
      "source": [
        "# try to read db with large chunksize\n",
        "db = sqlite3.connect(\"loan.sqlite\")\n",
        "\n",
        "# Load the CSV in chunks:\n",
        "for c in pd.read_csv(path2, chunksize=200000): #10,000 to 200,000 (cu tang 200 mb 1 lan quet)\n",
        "    # Append all rows to a new database table, which\n",
        "    # we name 'voters':\n",
        "    c.to_sql(\"loan\", db, if_exists=\"append\")"
      ],
      "execution_count": null,
      "outputs": []
    },
    {
      "cell_type": "markdown",
      "metadata": {
        "id": "m_A0_P3EWIMg",
        "colab_type": "text"
      },
      "source": [
        "## Read sqllite"
      ]
    },
    {
      "cell_type": "markdown",
      "metadata": {
        "id": "go04C6NWU-TI",
        "colab_type": "text"
      },
      "source": [
        "How to list tables in SQLite3 database in Python"
      ]
    },
    {
      "cell_type": "markdown",
      "metadata": {
        "id": "1a5ldn_tVbTM",
        "colab_type": "text"
      },
      "source": [
        "Method 1: fast"
      ]
    },
    {
      "cell_type": "code",
      "metadata": {
        "id": "rUUaWjBJRQSD",
        "colab_type": "code",
        "colab": {
          "base_uri": "https://localhost:8080/",
          "height": 34
        },
        "outputId": "40b38beb-e42f-44f4-e94f-aafcbd6079a0"
      },
      "source": [
        "import sqlite3\n",
        "\n",
        "conn = sqlite3.connect('loan.sqlite')\n",
        "cursor = conn.cursor()\n",
        "cursor.execute(\"SELECT name FROM sqlite_master WHERE type='table';\")\n",
        "print(cursor.fetchall())"
      ],
      "execution_count": 10,
      "outputs": [
        {
          "output_type": "stream",
          "text": [
            "[('loan',)]\n"
          ],
          "name": "stdout"
        }
      ]
    },
    {
      "cell_type": "markdown",
      "metadata": {
        "id": "F8wIy776Vd0S",
        "colab_type": "text"
      },
      "source": [
        "Method 2: low"
      ]
    },
    {
      "cell_type": "code",
      "metadata": {
        "id": "ZiaEjkZNUlLx",
        "colab_type": "code",
        "colab": {}
      },
      "source": [
        "def tables_in_sqlite_db(conn):\n",
        "    cursor = conn.execute(\"SELECT name FROM sqlite_master WHERE type='table';\")\n",
        "    tables = [\n",
        "        v[0] for v in cursor.fetchall()\n",
        "        if v[0] != \"sqlite_sequence\"\n",
        "    ]\n",
        "    cursor.close()\n",
        "    return tables"
      ],
      "execution_count": 4,
      "outputs": []
    },
    {
      "cell_type": "code",
      "metadata": {
        "id": "5nY4sPoOVKlz",
        "colab_type": "code",
        "colab": {
          "base_uri": "https://localhost:8080/",
          "height": 34
        },
        "outputId": "85de2f9d-d262-4655-f437-bcd274912426"
      },
      "source": [
        "#!/usr/bin/env python3\n",
        "import sqlite3\n",
        "# Open database\n",
        "conn = sqlite3.connect('/content/loan.sqlite')\n",
        "# List tables\n",
        "tables = tables_in_sqlite_db(conn)\n",
        "# Your code goes here!\n",
        "# Example:\n",
        "print(tables) # prints ['commands', 'packages']"
      ],
      "execution_count": 5,
      "outputs": [
        {
          "output_type": "stream",
          "text": [
            "['loan']\n"
          ],
          "name": "stdout"
        }
      ]
    },
    {
      "cell_type": "markdown",
      "metadata": {
        "id": "lEpyksgOZArR",
        "colab_type": "text"
      },
      "source": [
        "How to list column name in table"
      ]
    },
    {
      "cell_type": "code",
      "metadata": {
        "id": "eTwi0GPlVTbj",
        "colab_type": "code",
        "colab": {}
      },
      "source": [
        "import sqlite3\n",
        "connection = sqlite3.connect('/content/loan.sqlite')\n",
        "cursor = connection.execute('select * from loan') # table name from above\n",
        "names = list(map(lambda x: x[0], cursor.description))\n",
        "names"
      ],
      "execution_count": null,
      "outputs": []
    },
    {
      "cell_type": "markdown",
      "metadata": {
        "id": "9Ml6qhzvZtk2",
        "colab_type": "text"
      },
      "source": [
        "Alternatively you could use a list comprehension:"
      ]
    },
    {
      "cell_type": "code",
      "metadata": {
        "id": "Ljh0j1USZLgi",
        "colab_type": "code",
        "colab": {
          "base_uri": "https://localhost:8080/",
          "height": 1000
        },
        "outputId": "3d9b5905-0d9f-41c9-e496-80eae05e1b64"
      },
      "source": [
        "names = [description[0] for description in cursor.description]\n",
        "names"
      ],
      "execution_count": 20,
      "outputs": [
        {
          "output_type": "execute_result",
          "data": {
            "text/plain": [
              "['index',\n",
              " 'id',\n",
              " 'member_id',\n",
              " 'loan_amnt',\n",
              " 'funded_amnt',\n",
              " 'funded_amnt_inv',\n",
              " 'term',\n",
              " 'int_rate',\n",
              " 'installment',\n",
              " 'grade',\n",
              " 'sub_grade',\n",
              " 'emp_title',\n",
              " 'emp_length',\n",
              " 'home_ownership',\n",
              " 'annual_inc',\n",
              " 'verification_status',\n",
              " 'issue_d',\n",
              " 'loan_status',\n",
              " 'pymnt_plan',\n",
              " 'url',\n",
              " 'desc',\n",
              " 'purpose',\n",
              " 'title',\n",
              " 'zip_code',\n",
              " 'addr_state',\n",
              " 'dti',\n",
              " 'delinq_2yrs',\n",
              " 'earliest_cr_line',\n",
              " 'inq_last_6mths',\n",
              " 'mths_since_last_delinq',\n",
              " 'mths_since_last_record',\n",
              " 'open_acc',\n",
              " 'pub_rec',\n",
              " 'revol_bal',\n",
              " 'revol_util',\n",
              " 'total_acc',\n",
              " 'initial_list_status',\n",
              " 'out_prncp',\n",
              " 'out_prncp_inv',\n",
              " 'total_pymnt',\n",
              " 'total_pymnt_inv',\n",
              " 'total_rec_prncp',\n",
              " 'total_rec_int',\n",
              " 'total_rec_late_fee',\n",
              " 'recoveries',\n",
              " 'collection_recovery_fee',\n",
              " 'last_pymnt_d',\n",
              " 'last_pymnt_amnt',\n",
              " 'next_pymnt_d',\n",
              " 'last_credit_pull_d',\n",
              " 'collections_12_mths_ex_med',\n",
              " 'mths_since_last_major_derog',\n",
              " 'policy_code',\n",
              " 'application_type',\n",
              " 'annual_inc_joint',\n",
              " 'dti_joint',\n",
              " 'verification_status_joint',\n",
              " 'acc_now_delinq',\n",
              " 'tot_coll_amt',\n",
              " 'tot_cur_bal',\n",
              " 'open_acc_6m',\n",
              " 'open_act_il',\n",
              " 'open_il_12m',\n",
              " 'open_il_24m',\n",
              " 'mths_since_rcnt_il',\n",
              " 'total_bal_il',\n",
              " 'il_util',\n",
              " 'open_rv_12m',\n",
              " 'open_rv_24m',\n",
              " 'max_bal_bc',\n",
              " 'all_util',\n",
              " 'total_rev_hi_lim',\n",
              " 'inq_fi',\n",
              " 'total_cu_tl',\n",
              " 'inq_last_12m',\n",
              " 'acc_open_past_24mths',\n",
              " 'avg_cur_bal',\n",
              " 'bc_open_to_buy',\n",
              " 'bc_util',\n",
              " 'chargeoff_within_12_mths',\n",
              " 'delinq_amnt',\n",
              " 'mo_sin_old_il_acct',\n",
              " 'mo_sin_old_rev_tl_op',\n",
              " 'mo_sin_rcnt_rev_tl_op',\n",
              " 'mo_sin_rcnt_tl',\n",
              " 'mort_acc',\n",
              " 'mths_since_recent_bc',\n",
              " 'mths_since_recent_bc_dlq',\n",
              " 'mths_since_recent_inq',\n",
              " 'mths_since_recent_revol_delinq',\n",
              " 'num_accts_ever_120_pd',\n",
              " 'num_actv_bc_tl',\n",
              " 'num_actv_rev_tl',\n",
              " 'num_bc_sats',\n",
              " 'num_bc_tl',\n",
              " 'num_il_tl',\n",
              " 'num_op_rev_tl',\n",
              " 'num_rev_accts',\n",
              " 'num_rev_tl_bal_gt_0',\n",
              " 'num_sats',\n",
              " 'num_tl_120dpd_2m',\n",
              " 'num_tl_30dpd',\n",
              " 'num_tl_90g_dpd_24m',\n",
              " 'num_tl_op_past_12m',\n",
              " 'pct_tl_nvr_dlq',\n",
              " 'percent_bc_gt_75',\n",
              " 'pub_rec_bankruptcies',\n",
              " 'tax_liens',\n",
              " 'tot_hi_cred_lim',\n",
              " 'total_bal_ex_mort',\n",
              " 'total_bc_limit',\n",
              " 'total_il_high_credit_limit',\n",
              " 'revol_bal_joint',\n",
              " 'sec_app_earliest_cr_line',\n",
              " 'sec_app_inq_last_6mths',\n",
              " 'sec_app_mort_acc',\n",
              " 'sec_app_open_acc',\n",
              " 'sec_app_revol_util',\n",
              " 'sec_app_open_act_il',\n",
              " 'sec_app_num_rev_accts',\n",
              " 'sec_app_chargeoff_within_12_mths',\n",
              " 'sec_app_collections_12_mths_ex_med',\n",
              " 'sec_app_mths_since_last_major_derog',\n",
              " 'hardship_flag',\n",
              " 'hardship_type',\n",
              " 'hardship_reason',\n",
              " 'hardship_status',\n",
              " 'deferral_term',\n",
              " 'hardship_amount',\n",
              " 'hardship_start_date',\n",
              " 'hardship_end_date',\n",
              " 'payment_plan_start_date',\n",
              " 'hardship_length',\n",
              " 'hardship_dpd',\n",
              " 'hardship_loan_status',\n",
              " 'orig_projected_additional_accrued_interest',\n",
              " 'hardship_payoff_balance_amount',\n",
              " 'hardship_last_payment_amount',\n",
              " 'disbursement_method',\n",
              " 'debt_settlement_flag',\n",
              " 'debt_settlement_flag_date',\n",
              " 'settlement_status',\n",
              " 'settlement_date',\n",
              " 'settlement_amount',\n",
              " 'settlement_percentage',\n",
              " 'settlement_term']"
            ]
          },
          "metadata": {
            "tags": []
          },
          "execution_count": 20
        }
      ]
    },
    {
      "cell_type": "code",
      "metadata": {
        "id": "XHy7X00odt1h",
        "colab_type": "code",
        "colab": {
          "base_uri": "https://localhost:8080/",
          "height": 51
        },
        "outputId": "0086aa43-de22-4eee-89e9-cd8b8247950c"
      },
      "source": [
        "print(type(names)) # 1 dong\n",
        "print(len(names)) # 1 dong co 146 column"
      ],
      "execution_count": 24,
      "outputs": [
        {
          "output_type": "stream",
          "text": [
            "<class 'list'>\n",
            "146\n"
          ],
          "name": "stdout"
        }
      ]
    },
    {
      "cell_type": "markdown",
      "metadata": {
        "id": "DsNXxiwibzKy",
        "colab_type": "text"
      },
      "source": [
        "Query data from sqlite"
      ]
    },
    {
      "cell_type": "code",
      "metadata": {
        "id": "0Sgu730LcHzo",
        "colab_type": "code",
        "colab": {
          "base_uri": "https://localhost:8080/",
          "height": 377
        },
        "outputId": "4072307e-b10d-405a-afb4-63faac4d0baf"
      },
      "source": [
        "connection = sqlite3.connect('/content/loan.sqlite')\n",
        "cur=connection.cursor()\n",
        "cur.execute(\"SELECT * FROM loan LIMIT 20\")\n",
        "rows = cur.fetchall()\n",
        "for row in rows:\n",
        "  print(row)"
      ],
      "execution_count": 17,
      "outputs": [
        {
          "output_type": "stream",
          "text": [
            "(0, None, None, 2500, 2500, 2500.0, ' 36 months', 13.56, 84.92, 'C', 'C1', 'Chef', '10+ years', 'RENT', 55000.0, 'Not Verified', 'Dec-2018', 'Current', 'n', None, None, 'debt_consolidation', 'Debt consolidation', '109xx', 'NY', 18.24, 0, 'Apr-2001', 1, None, 45.0, 9, 1, 4341, 10.3, 34, 'w', 2386.02, 2386.02, 167.02, 167.02, 113.98, 53.04, 0.0, 0.0, 0.0, 'Feb-2019', 84.92, 'Mar-2019', 'Feb-2019', 0, None, 1, 'Individual', None, None, None, 0, 0, 16901, 2, 2, 1, 2, 2.0, 12560, 69.0, 2, 7, 2137, 28.0, 42000, 1, 11, 2, 9, 1878.0, 34360.0, 5.9, 0, 0, 140.0, 212, 1, 1, 0, 1.0, None, 2.0, None, 0, 2, 5, 3, 3, 16, 7, 18, 5, 9, 0.0, 0, 0, 3, 100.0, 0.0, 1, 0, 60124, 16901, 36500, 18124, None, None, None, None, None, None, None, None, None, None, None, 'N', None, None, None, None, None, None, None, None, None, None, None, None, None, None, 'Cash', 'N', None, None, None, None, None, None)\n",
            "(1, None, None, 30000, 30000, 30000.0, ' 60 months', 18.94, 777.23, 'D', 'D2', 'Postmaster ', '10+ years', 'MORTGAGE', 90000.0, 'Source Verified', 'Dec-2018', 'Current', 'n', None, None, 'debt_consolidation', 'Debt consolidation', '713xx', 'LA', 26.52, 0, 'Jun-1987', 0, 71.0, 75.0, 13, 1, 12315, 24.2, 44, 'w', 29387.75, 29387.75, 1507.11, 1507.11, 612.25, 894.86, 0.0, 0.0, 0.0, 'Feb-2019', 777.23, 'Mar-2019', 'Feb-2019', 0, None, 1, 'Individual', None, None, None, 0, 1208, 321915, 4, 4, 2, 3, 3.0, 87153, 88.0, 4, 5, 998, 57.0, 50800, 2, 15, 2, 10, 24763.0, 13761.0, 8.3, 0, 0, 163.0, 378, 4, 3, 3, 4.0, None, 4.0, None, 0, 2, 4, 4, 9, 27, 8, 14, 4, 13, 0.0, 0, 0, 6, 95.0, 0.0, 1, 0, 372872, 99468, 15000, 94072, None, None, None, None, None, None, None, None, None, None, None, 'N', None, None, None, None, None, None, None, None, None, None, None, None, None, None, 'Cash', 'N', None, None, None, None, None, None)\n",
            "(2, None, None, 5000, 5000, 5000.0, ' 36 months', 17.97, 180.69, 'D', 'D1', 'Administrative', '6 years', 'MORTGAGE', 59280.0, 'Source Verified', 'Dec-2018', 'Current', 'n', None, None, 'debt_consolidation', 'Debt consolidation', '490xx', 'MI', 10.51, 0, 'Apr-2011', 0, None, None, 8, 0, 4599, 19.1, 13, 'w', 4787.21, 4787.21, 353.89, 353.89, 212.79, 141.1, 0.0, 0.0, 0.0, 'Feb-2019', 180.69, 'Mar-2019', 'Feb-2019', 0, None, 1, 'Individual', None, None, None, 0, 0, 110299, 0, 1, 0, 2, 14.0, 7150, 72.0, 0, 2, 0, 35.0, 24100, 1, 5, 0, 4, 18383.0, 13800.0, 0.0, 0, 0, 87.0, 92, 15, 14, 2, 77.0, None, 14.0, None, 0, 0, 3, 3, 3, 4, 6, 7, 3, 8, 0.0, 0, 0, 0, 100.0, 0.0, 0, 0, 136927, 11749, 13800, 10000, None, None, None, None, None, None, None, None, None, None, None, 'N', None, None, None, None, None, None, None, None, None, None, None, None, None, None, 'Cash', 'N', None, None, None, None, None, None)\n",
            "(3, None, None, 4000, 4000, 4000.0, ' 36 months', 18.94, 146.51, 'D', 'D2', 'IT Supervisor', '10+ years', 'MORTGAGE', 92000.0, 'Source Verified', 'Dec-2018', 'Current', 'n', None, None, 'debt_consolidation', 'Debt consolidation', '985xx', 'WA', 16.74, 0, 'Feb-2006', 0, None, None, 10, 0, 5468, 78.1, 13, 'w', 3831.93, 3831.93, 286.71, 286.71, 168.07, 118.64, 0.0, 0.0, 0.0, 'Feb-2019', 146.51, 'Mar-2019', 'Feb-2019', 0, None, 1, 'Individual', None, None, None, 0, 686, 305049, 1, 5, 3, 5, 5.0, 30683, 68.0, 0, 0, 3761, 70.0, 7000, 2, 4, 3, 5, 30505.0, 1239.0, 75.2, 0, 0, 62.0, 154, 64, 5, 3, 64.0, None, 5.0, None, 0, 1, 2, 1, 2, 7, 2, 3, 2, 10, 0.0, 0, 0, 3, 100.0, 100.0, 0, 0, 385183, 36151, 5000, 44984, None, None, None, None, None, None, None, None, None, None, None, 'N', None, None, None, None, None, None, None, None, None, None, None, None, None, None, 'Cash', 'N', None, None, None, None, None, None)\n",
            "(4, None, None, 30000, 30000, 30000.0, ' 60 months', 16.14, 731.78, 'C', 'C4', 'Mechanic', '10+ years', 'MORTGAGE', 57250.0, 'Not Verified', 'Dec-2018', 'Current', 'n', None, None, 'debt_consolidation', 'Debt consolidation', '212xx', 'MD', 26.35, 0, 'Dec-2000', 0, None, None, 12, 0, 829, 3.6, 26, 'w', 29339.02, 29339.02, 1423.21, 1423.21, 660.98, 762.23, 0.0, 0.0, 0.0, 'Feb-2019', 731.78, 'Mar-2019', 'Feb-2019', 0, None, 1, 'Individual', None, None, None, 0, 0, 116007, 3, 5, 3, 5, 4.0, 28845, 89.0, 2, 4, 516, 54.0, 23100, 1, 0, 0, 9, 9667.0, 8471.0, 8.9, 0, 0, 53.0, 216, 2, 2, 2, 2.0, None, 13.0, None, 0, 2, 2, 3, 8, 9, 6, 15, 2, 12, 0.0, 0, 0, 5, 92.3, 0.0, 0, 0, 157548, 29674, 9300, 32332, None, None, None, None, None, None, None, None, None, None, None, 'N', None, None, None, None, None, None, None, None, None, None, None, None, None, None, 'Cash', 'N', None, None, None, None, None, None)\n",
            "(5, None, None, 5550, 5550, 5550.0, ' 36 months', 15.02, 192.45, 'C', 'C3', 'Director COE', '10+ years', 'MORTGAGE', 152500.0, 'Not Verified', 'Dec-2018', 'Current', 'n', None, None, 'credit_card', 'Credit card refinancing', '461xx', 'IN', 37.94, 0, 'Sep-2002', 3, None, None, 18, 0, 53854, 48.1, 44, 'w', 5302.5, 5302.5, 377.95, 377.95, 247.5, 130.45, 0.0, 0.0, 0.0, 'Feb-2019', 192.45, 'Mar-2019', 'Feb-2019', 0, None, 1, 'Individual', None, None, None, 0, 0, 685749, 1, 7, 2, 3, 4.0, 131524, 72.0, 1, 4, 17584, 58.0, 111900, 2, 4, 6, 8, 40338.0, 23746.0, 64.0, 0, 0, 195.0, 176, 10, 4, 6, 20.0, None, 3.0, None, 0, 4, 6, 6, 10, 23, 9, 15, 7, 18, 0.0, 0, 0, 4, 100.0, 60.0, 0, 0, 831687, 185378, 65900, 203159, None, None, None, None, None, None, None, None, None, None, None, 'N', None, None, None, None, None, None, None, None, None, None, None, None, None, None, 'Cash', 'N', None, None, None, None, None, None)\n",
            "(6, None, None, 2000, 2000, 2000.0, ' 36 months', 17.97, 72.28, 'D', 'D1', 'Account Manager', '4 years', 'RENT', 51000.0, 'Source Verified', 'Dec-2018', 'Current', 'n', None, None, 'debt_consolidation', 'Debt consolidation', '606xx', 'IL', 2.4, 0, 'Nov-2004', 1, None, None, 1, 0, 0, None, 9, 'w', 1914.71, 1914.71, 141.56, 141.56, 85.29, 56.27, 0.0, 0.0, 0.0, 'Feb-2019', 72.28, 'Mar-2019', 'Feb-2019', 0, None, 1, 'Individual', None, None, None, 0, 0, 854, 0, 0, 2, 3, 7.0, 0, None, 0, 1, 0, 100.0, 0, 0, 0, 1, 4, 854.0, None, None, 0, 0, 169.0, 40, 23, 7, 0, None, None, 1.0, None, 0, 0, 0, 0, 3, 5, 0, 3, 0, 1, 0.0, 0, 0, 2, 100.0, None, 0, 0, 854, 854, 0, 0, None, None, None, None, None, None, None, None, None, None, None, 'N', None, None, None, None, None, None, None, None, None, None, None, None, None, None, 'Cash', 'N', None, None, None, None, None, None)\n",
            "(7, None, None, 6000, 6000, 6000.0, ' 36 months', 13.56, 203.79, 'C', 'C1', 'Assistant Director', '10+ years', 'RENT', 65000.0, 'Source Verified', 'Dec-2018', 'Current', 'n', None, None, 'credit_card', 'Credit card refinancing', '460xx', 'IN', 30.1, 0, 'Nov-1997', 0, None, None, 19, 0, 38476, 69.3, 37, 'w', 5864.01, 5864.01, 201.53, 201.53, 135.99, 65.54, 0.0, 0.0, 0.0, 'Feb-2019', 208.31, 'Mar-2019', 'Feb-2019', 0, None, 1, 'Individual', None, None, None, 0, 0, 91535, 0, 5, 0, 1, 23.0, 53059, 87.0, 0, 2, 9413, 74.0, 55500, 1, 2, 0, 3, 5085.0, 3034.0, 90.8, 0, 0, 169.0, 253, 13, 13, 1, 14.0, None, 13.0, None, 0, 7, 12, 8, 10, 15, 14, 20, 12, 19, 0.0, 0, 0, 0, 100.0, 85.7, 0, 0, 117242, 91535, 33100, 61742, None, None, None, None, None, None, None, None, None, None, None, 'N', None, None, None, None, None, None, None, None, None, None, None, None, None, None, 'DirectPay', 'N', None, None, None, None, None, None)\n",
            "(8, None, None, 5000, 5000, 5000.0, ' 36 months', 17.97, 180.69, 'D', 'D1', 'Legal Assistant III', '10+ years', 'MORTGAGE', 53580.0, 'Source Verified', 'Dec-2018', 'Current', 'n', None, None, 'debt_consolidation', 'Debt consolidation', '327xx', 'FL', 21.16, 0, 'Aug-1998', 1, 32.0, None, 8, 0, 8018, 35.2, 38, 'w', 4786.79, 4786.79, 353.89, 353.89, 213.21, 140.68, 0.0, 0.0, 0.0, 'Feb-2019', 180.69, 'Mar-2019', 'Feb-2019', 0, 45.0, 1, 'Individual', None, None, None, 0, 0, 41882, 5, 2, 5, 5, 3.0, 33864, 98.0, 1, 6, 3132, 73.0, 22800, 2, 1, 4, 12, 5235.0, 13786.0, 35.9, 0, 0, 145.0, 244, 6, 3, 3, 6.0, 33.0, 2.0, 32.0, 2, 4, 5, 5, 10, 20, 6, 15, 5, 8, 0.0, 0, 0, 6, 78.9, 60.0, 0, 0, 57426, 41882, 21500, 34626, None, None, None, None, None, None, None, None, None, None, None, 'N', None, None, None, None, None, None, None, None, None, None, None, None, None, None, 'Cash', 'N', None, None, None, None, None, None)\n",
            "(9, None, None, 6000, 6000, 6000.0, ' 36 months', 14.47, 206.44, 'C', 'C2', None, '< 1 year', 'OWN', 300000.0, 'Not Verified', 'Dec-2018', 'Current', 'n', None, None, 'debt_consolidation', 'Debt consolidation', '068xx', 'CT', 17.43, 1, 'Apr-2002', 1, 17.0, None, 38, 0, 65950, 49.8, 58, 'w', 5730.2, 5730.2, 405.64, 405.64, 269.8, 135.84, 0.0, 0.0, 0.0, 'Feb-2019', 206.44, 'Mar-2019', 'Feb-2019', 0, None, 1, 'Individual', None, None, None, 0, 0, 349502, 1, 4, 1, 3, 7.0, 39961, 45.0, 1, 12, 15926, 48.0, 132500, 2, 2, 2, 15, 9197.0, 38683.0, 60.6, 0, 0, 166.0, 200, 4, 4, 1, 4.0, None, 4.0, 17.0, 0, 16, 20, 19, 26, 9, 33, 48, 20, 38, 0.0, 0, 0, 2, 100.0, 26.3, 0, 0, 477390, 105911, 98300, 89600, None, None, None, None, None, None, None, None, None, None, None, 'N', None, None, None, None, None, None, None, None, None, None, None, None, None, None, 'Cash', 'N', None, None, None, None, None, None)\n",
            "(10, None, None, 5500, 5500, 5500.0, ' 36 months', 22.35, 211.05, 'D', 'D5', None, '< 1 year', 'MORTGAGE', 50000.0, 'Not Verified', 'Dec-2018', 'Current', 'n', None, None, 'credit_card', 'Credit card refinancing', '711xx', 'LA', 15.94, 1, 'May-2007', 0, 22.0, None, 6, 0, 4529, 94.4, 13, 'w', 5280.75, 5280.75, 411.86, 411.86, 219.25, 192.61, 0.0, 0.0, 0.0, 'Feb-2019', 211.05, 'Mar-2019', 'Feb-2019', 0, 22.0, 1, 'Individual', None, None, None, 0, 0, 228151, 2, 2, 1, 2, 4.0, 13656, 87.0, 1, 1, 2837, 89.0, 4800, 2, 0, 0, 3, 38025.0, 271.0, 94.4, 0, 0, 139.0, 105, 5, 4, 3, 5.0, 22.0, 4.0, 22.0, 2, 3, 3, 3, 4, 5, 3, 5, 3, 6, 0.0, 0, 1, 2, 84.6, 100.0, 0, 0, 243452, 18185, 4800, 15649, None, None, None, None, None, None, None, None, None, None, None, 'N', None, None, None, None, None, None, None, None, None, None, None, None, None, None, 'Cash', 'N', None, None, None, None, None, None)\n",
            "(11, None, None, 28000, 28000, 28000.0, ' 60 months', 11.31, 613.13, 'B', 'B3', 'Consultant', '2 years', 'MORTGAGE', 70000.0, 'Not Verified', 'Dec-2018', 'Current', 'n', None, None, 'credit_card', 'Credit card refinancing', '300xx', 'GA', 22.01, 0, 'Dec-2003', 1, None, None, 10, 0, 56152, 55.9, 23, 'w', 27298.25, 27298.25, 1199.87, 1199.87, 701.75, 498.12, 0.0, 0.0, 0.0, 'Feb-2019', 613.13, 'Mar-2019', 'Feb-2019', 0, None, 1, 'Individual', None, None, None, 0, 0, 177406, 1, 1, 0, 0, 62.0, 9484, 54.0, 1, 2, 16284, 56.0, 100400, 1, 0, 1, 2, 17741.0, 44248.0, 55.9, 0, 0, 180.0, 165, 6, 6, 1, 6.0, None, 6.0, None, 0, 5, 5, 8, 9, 13, 8, 9, 5, 10, 0.0, 0, 0, 1, 100.0, 37.5, 0, 0, 259435, 65636, 100400, 17535, None, None, None, None, None, None, None, None, None, None, None, 'N', None, None, None, None, None, None, None, None, None, None, None, None, None, None, 'DirectPay', 'N', None, None, None, None, None, None)\n",
            "(12, None, None, 11200, 11200, 11200.0, ' 36 months', 8.19, 351.95, 'A', 'A4', 'Job Coach Supervisor', '10+ years', 'MORTGAGE', 65000.0, 'Not Verified', 'Dec-2018', 'Current', 'n', None, None, 'credit_card', 'Credit card refinancing', '840xx', 'UT', 23.6, 0, 'Jun-2003', 0, None, None, 20, 0, 8836, 16.6, 27, 'w', 10647.1, 10647.1, 696.26, 696.26, 552.9, 143.36, 0.0, 0.0, 0.0, 'Feb-2019', 351.95, 'Mar-2019', 'Feb-2019', 0, None, 1, 'Individual', None, None, None, 0, 0, 249643, 2, 8, 2, 3, 1.0, 69959, 68.0, 0, 0, 4603, 45.0, 53100, 3, 0, 3, 3, 12482.0, 26289.0, 24.7, 0, 0, 170.0, 186, 25, 1, 4, 65.0, None, 1.0, None, 0, 4, 5, 5, 5, 13, 10, 10, 5, 20, 0.0, 0, 0, 2, 100.0, 20.0, 0, 0, 345654, 78795, 34900, 114578, None, None, None, None, None, None, None, None, None, None, None, 'N', None, None, None, None, None, None, None, None, None, None, None, None, None, None, 'Cash', 'N', None, None, None, None, None, None)\n",
            "(13, None, None, 6500, 6500, 6500.0, ' 36 months', 17.97, 234.9, 'D', 'D1', 'Quality Field Engineer', '4 years', 'MORTGAGE', 154000.0, 'Source Verified', 'Dec-2018', 'Current', 'n', None, None, 'debt_consolidation', 'Debt consolidation', '278xx', 'NC', 28.78, 2, 'Oct-2008', 0, 6.0, None, 27, 0, 23754, 60.4, 41, 'w', 6222.82, 6222.82, 460.07, 460.07, 277.18, 182.89, 0.0, 0.0, 0.0, 'Feb-2019', 234.9, 'Mar-2019', 'Feb-2019', 0, 6.0, 1, 'Individual', None, None, None, 0, 0, 116747, 2, 8, 3, 5, 1.0, 92993, 78.0, 1, 6, 3943, 72.0, 39300, 3, 3, 3, 11, 4324.0, 4578.0, 62.8, 1, 0, 122.0, 74, 11, 1, 0, 13.0, None, 4.0, None, 1, 5, 19, 5, 8, 17, 19, 24, 19, 27, 0.0, 0, 1, 4, 90.2, 20.0, 0, 0, 169160, 116747, 12300, 129860, None, None, None, None, None, None, None, None, None, None, None, 'N', None, None, None, None, None, None, None, None, None, None, None, None, None, None, 'Cash', 'N', None, None, None, None, None, None)\n",
            "(14, None, None, 22000, 22000, 22000.0, ' 60 months', 12.98, 500.35, 'B', 'B5', 'Teller ', '10+ years', 'MORTGAGE', 65000.0, 'Source Verified', 'Dec-2018', 'Current', 'n', None, None, 'debt_consolidation', 'Debt consolidation', '413xx', 'KY', 11.19, 0, 'Jul-1990', 0, None, None, 8, 0, 134, 0.5, 16, 'w', 21472.4, 21472.4, 976.9, 976.9, 527.6, 449.3, 0.0, 0.0, 0.0, 'Feb-2019', 500.35, 'Mar-2019', 'Feb-2019', 0, None, 1, 'Individual', None, None, None, 0, 0, 22337, 1, 1, 0, 0, 36.0, 22127, None, 1, 2, 3, 1.0, 29500, 0, 0, 0, 2, 3191.0, 27197.0, 0.0, 0, 0, 162.0, 341, 4, 4, 1, 4.0, None, 15.0, None, 0, 1, 2, 3, 4, 6, 6, 8, 2, 8, 0.0, 0, 0, 1, 100.0, 0.0, 0, 0, 71932, 22337, 27200, 38535, None, None, None, None, None, None, None, None, None, None, None, 'N', None, None, None, None, None, None, None, None, None, None, None, None, None, None, 'Cash', 'N', None, None, None, None, None, None)\n",
            "(15, None, None, 3500, 3500, 3500.0, ' 36 months', 16.14, 123.3, 'C', 'C4', 'respritory therapist', '10+ years', 'MORTGAGE', 80000.0, 'Verified', 'Dec-2018', 'Current', 'n', None, None, 'debt_consolidation', 'Debt consolidation', '604xx', 'IL', 13.63, 0, 'Dec-1988', 0, 43.0, None, 7, 0, 8952, 58.5, 27, 'w', 3346.52, 3346.52, 218.36, 218.36, 153.48, 64.88, 0.0, 0.0, 0.0, 'Feb-2019', 123.3, 'Mar-2019', 'Feb-2019', 0, 48.0, 1, 'Joint App', 104424.0, 10.77, 'Verified', 0, 0, 16085, 2, 2, 0, 0, 57.0, 7133, 26.0, 3, 4, 3873, 38.0, 15300, 0, 0, 1, 4, 2298.0, 4127.0, 48.4, 0, 0, 144.0, 360, 4, 4, 2, 7.0, None, 7.0, 117.0, 7, 1, 3, 2, 3, 10, 5, 15, 3, 7, 0.0, 0, 0, 3, 76.0, 50.0, 0, 0, 42328, 16085, 8000, 27028, 10286.0, 'May-2002', 2.0, 3.0, 2.0, 44.1, 0.0, 6.0, 0.0, 0.0, None, 'N', None, None, None, None, None, None, None, None, None, None, None, None, None, None, 'Cash', 'N', None, None, None, None, None, None)\n",
            "(16, None, None, 7000, 7000, 7000.0, ' 36 months', 12.98, 235.8, 'B', 'B5', 'Worship Director', '4 years', 'MORTGAGE', 102500.0, 'Not Verified', 'Dec-2018', 'Current', 'n', None, None, 'house', 'Home buying', '436xx', 'OH', 15.2, 0, 'Dec-2002', 0, 38.0, None, 9, 0, 1057, 7.2, 21, 'w', 6678.1, 6678.1, 464.03, 464.03, 321.9, 142.13, 0.0, 0.0, 0.0, 'Feb-2019', 235.8, 'Mar-2019', 'Feb-2019', 0, 68.0, 1, 'Individual', None, None, None, 0, 0, 174891, 1, 4, 1, 1, 10.0, 75652, 78.0, 1, 2, 0, 69.0, 14700, 1, 0, 3, 3, 19432.0, 7200.0, 0.0, 0, 0, 182.0, 192, 6, 6, 4, 26.0, None, 10.0, None, 1, 0, 2, 2, 3, 8, 4, 9, 2, 9, 0.0, 0, 0, 2, 80.0, 0.0, 0, 0, 214624, 76709, 7200, 96826, None, None, None, None, None, None, None, None, None, None, None, 'N', None, None, None, None, None, None, None, None, None, None, None, None, None, None, 'Cash', 'N', None, None, None, None, None, None)\n",
            "(17, None, None, 25000, 25000, 25000.0, ' 60 months', 16.91, 620.11, 'C', 'C5', 'Processor ', '10+ years', 'MORTGAGE', 23878.0, 'Not Verified', 'Dec-2018', 'Current', 'n', None, None, 'debt_consolidation', 'Debt consolidation', '453xx', 'OH', 6.26, 0, 'Oct-2010', 0, None, None, 4, 0, 3044, 54.4, 8, 'w', 24460.59, 24460.59, 1204.99, 1204.99, 539.41, 665.58, 0.0, 0.0, 0.0, 'Feb-2019', 620.11, 'Mar-2019', 'Feb-2019', 0, None, 1, 'Joint App', 64793.0, 18.91, 'Not Verified', 0, 0, 79660, 0, 0, 0, 0, 47.0, 0, None, 0, 0, 1044, 54.0, 5600, 0, 0, 0, 0, 19915.0, 0.0, 104.4, 0, 0, 90.0, 98, 27, 27, 2, 84.0, None, None, None, 0, 1, 3, 1, 1, 2, 3, 4, 3, 4, 0.0, 0, 0, 0, 100.0, 100.0, 0, 0, 92334, 3044, 1000, 0, 24654.0, 'Aug-2003', 0.0, 2.0, 9.0, 78.9, 1.0, 12.0, 0.0, 0.0, None, 'N', None, None, None, None, None, None, None, None, None, None, None, None, None, None, 'Cash', 'N', None, None, None, None, None, None)\n",
            "(18, None, None, 16000, 16000, 16000.0, ' 60 months', 20.89, 431.87, 'D', 'D4', 'Neonatal Nurse Practitioner', '4 years', 'MORTGAGE', 120000.0, 'Not Verified', 'Dec-2018', 'Current', 'n', None, None, 'credit_card', 'Credit card refinancing', '720xx', 'AR', 27.57, 1, 'Jul-2005', 0, 8.0, None, 13, 0, 18826, 82.2, 37, 'w', 15690.66, 15690.66, 835.89, 835.89, 309.34, 526.55, 0.0, 0.0, 0.0, 'Feb-2019', 431.87, 'Mar-2019', 'Feb-2019', 0, 35.0, 1, 'Individual', None, None, None, 0, 0, 434239, 1, 6, 1, 4, 4.0, 247928, 90.0, 1, 1, 9439, 87.0, 22900, 6, 1, 2, 5, 33403.0, 430.0, 96.8, 0, 0, 136.0, 146, 12, 4, 2, 12.0, 48.0, 4.0, 8.0, 2, 2, 4, 2, 5, 24, 6, 10, 4, 13, 0.0, 0, 0, 2, 86.5, 100.0, 0, 0, 444217, 266754, 13500, 239338, None, None, None, None, None, None, None, None, None, None, None, 'N', None, None, None, None, None, None, None, None, None, None, None, None, None, None, 'Cash', 'N', None, None, None, None, None, None)\n",
            "(19, None, None, 13000, 13000, 13000.0, ' 60 months', 14.47, 305.67, 'C', 'C2', 'Stationary Engineer', '10+ years', 'MORTGAGE', 75000.0, 'Not Verified', 'Dec-2018', 'Current', 'n', None, None, 'debt_consolidation', 'Debt consolidation', '741xx', 'OK', 26.16, 0, 'Feb-2001', 1, None, None, 9, 0, 15551, 58.2, 13, 'w', 12700.38, 12700.38, 595.66, 595.66, 299.62, 296.04, 0.0, 0.0, 0.0, 'Feb-2019', 305.67, 'Mar-2019', 'Feb-2019', 0, None, 1, 'Individual', None, None, None, 0, 0, 131400, 0, 5, 1, 4, 10.0, 35369, 70.0, 0, 0, 13287, 66.0, 26700, 2, 0, 1, 4, 14600.0, 11149.0, 58.2, 0, 0, 159.0, 214, 81, 10, 1, 81.0, None, 5.0, None, 0, 3, 3, 3, 3, 8, 3, 4, 3, 9, 0.0, 0, 0, 1, 100.0, 33.3, 0, 0, 176598, 50920, 26700, 50898, None, None, None, None, None, None, None, None, None, None, None, 'N', None, None, None, None, None, None, None, None, None, None, None, None, None, None, 'Cash', 'N', None, None, None, None, None, None)\n"
          ],
          "name": "stdout"
        }
      ]
    },
    {
      "cell_type": "code",
      "metadata": {
        "id": "rnPpdkjEcSDS",
        "colab_type": "code",
        "colab": {
          "base_uri": "https://localhost:8080/",
          "height": 51
        },
        "outputId": "45c4de9b-57ed-4318-ef41-81faf8bc310e"
      },
      "source": [
        "print(type(row)) # 1 dong\n",
        "print(len(row)) # 1 dong co 146 column"
      ],
      "execution_count": 22,
      "outputs": [
        {
          "output_type": "stream",
          "text": [
            "<class 'tuple'>\n",
            "146\n"
          ],
          "name": "stdout"
        }
      ]
    },
    {
      "cell_type": "markdown",
      "metadata": {
        "id": "x_k-moUgfsaj",
        "colab_type": "text"
      },
      "source": [
        "Next we will print all rows from the cars table with their column names."
      ]
    },
    {
      "cell_type": "code",
      "metadata": {
        "id": "qQ7bqqjPfPyT",
        "colab_type": "code",
        "colab": {
          "base_uri": "https://localhost:8080/",
          "height": 224
        },
        "outputId": "37200510-a660-446f-886a-9555d181e54f"
      },
      "source": [
        "connection = sqlite3.connect('/content/loan.sqlite')\n",
        "cur = connection.cursor()\n",
        "cur.execute('SELECT * FROM loan LIMIT 10')\n",
        "col_names = [cn[0] for cn in cur.description]\n",
        "rows = cur.fetchall()\n",
        "print(col_names)\n",
        "#for name in col_names:\n",
        "#  print('{:3}'.format(name))\n",
        "for row in rows:\n",
        "    print(row)"
      ],
      "execution_count": 81,
      "outputs": [
        {
          "output_type": "stream",
          "text": [
            "['index', 'id', 'member_id', 'loan_amnt', 'funded_amnt', 'funded_amnt_inv', 'term', 'int_rate', 'installment', 'grade', 'sub_grade', 'emp_title', 'emp_length', 'home_ownership', 'annual_inc', 'verification_status', 'issue_d', 'loan_status', 'pymnt_plan', 'url', 'desc', 'purpose', 'title', 'zip_code', 'addr_state', 'dti', 'delinq_2yrs', 'earliest_cr_line', 'inq_last_6mths', 'mths_since_last_delinq', 'mths_since_last_record', 'open_acc', 'pub_rec', 'revol_bal', 'revol_util', 'total_acc', 'initial_list_status', 'out_prncp', 'out_prncp_inv', 'total_pymnt', 'total_pymnt_inv', 'total_rec_prncp', 'total_rec_int', 'total_rec_late_fee', 'recoveries', 'collection_recovery_fee', 'last_pymnt_d', 'last_pymnt_amnt', 'next_pymnt_d', 'last_credit_pull_d', 'collections_12_mths_ex_med', 'mths_since_last_major_derog', 'policy_code', 'application_type', 'annual_inc_joint', 'dti_joint', 'verification_status_joint', 'acc_now_delinq', 'tot_coll_amt', 'tot_cur_bal', 'open_acc_6m', 'open_act_il', 'open_il_12m', 'open_il_24m', 'mths_since_rcnt_il', 'total_bal_il', 'il_util', 'open_rv_12m', 'open_rv_24m', 'max_bal_bc', 'all_util', 'total_rev_hi_lim', 'inq_fi', 'total_cu_tl', 'inq_last_12m', 'acc_open_past_24mths', 'avg_cur_bal', 'bc_open_to_buy', 'bc_util', 'chargeoff_within_12_mths', 'delinq_amnt', 'mo_sin_old_il_acct', 'mo_sin_old_rev_tl_op', 'mo_sin_rcnt_rev_tl_op', 'mo_sin_rcnt_tl', 'mort_acc', 'mths_since_recent_bc', 'mths_since_recent_bc_dlq', 'mths_since_recent_inq', 'mths_since_recent_revol_delinq', 'num_accts_ever_120_pd', 'num_actv_bc_tl', 'num_actv_rev_tl', 'num_bc_sats', 'num_bc_tl', 'num_il_tl', 'num_op_rev_tl', 'num_rev_accts', 'num_rev_tl_bal_gt_0', 'num_sats', 'num_tl_120dpd_2m', 'num_tl_30dpd', 'num_tl_90g_dpd_24m', 'num_tl_op_past_12m', 'pct_tl_nvr_dlq', 'percent_bc_gt_75', 'pub_rec_bankruptcies', 'tax_liens', 'tot_hi_cred_lim', 'total_bal_ex_mort', 'total_bc_limit', 'total_il_high_credit_limit', 'revol_bal_joint', 'sec_app_earliest_cr_line', 'sec_app_inq_last_6mths', 'sec_app_mort_acc', 'sec_app_open_acc', 'sec_app_revol_util', 'sec_app_open_act_il', 'sec_app_num_rev_accts', 'sec_app_chargeoff_within_12_mths', 'sec_app_collections_12_mths_ex_med', 'sec_app_mths_since_last_major_derog', 'hardship_flag', 'hardship_type', 'hardship_reason', 'hardship_status', 'deferral_term', 'hardship_amount', 'hardship_start_date', 'hardship_end_date', 'payment_plan_start_date', 'hardship_length', 'hardship_dpd', 'hardship_loan_status', 'orig_projected_additional_accrued_interest', 'hardship_payoff_balance_amount', 'hardship_last_payment_amount', 'disbursement_method', 'debt_settlement_flag', 'debt_settlement_flag_date', 'settlement_status', 'settlement_date', 'settlement_amount', 'settlement_percentage', 'settlement_term']\n",
            "(0, None, None, 2500, 2500, 2500.0, ' 36 months', 13.56, 84.92, 'C', 'C1', 'Chef', '10+ years', 'RENT', 55000.0, 'Not Verified', 'Dec-2018', 'Current', 'n', None, None, 'debt_consolidation', 'Debt consolidation', '109xx', 'NY', 18.24, 0, 'Apr-2001', 1, None, 45.0, 9, 1, 4341, 10.3, 34, 'w', 2386.02, 2386.02, 167.02, 167.02, 113.98, 53.04, 0.0, 0.0, 0.0, 'Feb-2019', 84.92, 'Mar-2019', 'Feb-2019', 0, None, 1, 'Individual', None, None, None, 0, 0, 16901, 2, 2, 1, 2, 2.0, 12560, 69.0, 2, 7, 2137, 28.0, 42000, 1, 11, 2, 9, 1878.0, 34360.0, 5.9, 0, 0, 140.0, 212, 1, 1, 0, 1.0, None, 2.0, None, 0, 2, 5, 3, 3, 16, 7, 18, 5, 9, 0.0, 0, 0, 3, 100.0, 0.0, 1, 0, 60124, 16901, 36500, 18124, None, None, None, None, None, None, None, None, None, None, None, 'N', None, None, None, None, None, None, None, None, None, None, None, None, None, None, 'Cash', 'N', None, None, None, None, None, None)\n",
            "(1, None, None, 30000, 30000, 30000.0, ' 60 months', 18.94, 777.23, 'D', 'D2', 'Postmaster ', '10+ years', 'MORTGAGE', 90000.0, 'Source Verified', 'Dec-2018', 'Current', 'n', None, None, 'debt_consolidation', 'Debt consolidation', '713xx', 'LA', 26.52, 0, 'Jun-1987', 0, 71.0, 75.0, 13, 1, 12315, 24.2, 44, 'w', 29387.75, 29387.75, 1507.11, 1507.11, 612.25, 894.86, 0.0, 0.0, 0.0, 'Feb-2019', 777.23, 'Mar-2019', 'Feb-2019', 0, None, 1, 'Individual', None, None, None, 0, 1208, 321915, 4, 4, 2, 3, 3.0, 87153, 88.0, 4, 5, 998, 57.0, 50800, 2, 15, 2, 10, 24763.0, 13761.0, 8.3, 0, 0, 163.0, 378, 4, 3, 3, 4.0, None, 4.0, None, 0, 2, 4, 4, 9, 27, 8, 14, 4, 13, 0.0, 0, 0, 6, 95.0, 0.0, 1, 0, 372872, 99468, 15000, 94072, None, None, None, None, None, None, None, None, None, None, None, 'N', None, None, None, None, None, None, None, None, None, None, None, None, None, None, 'Cash', 'N', None, None, None, None, None, None)\n",
            "(2, None, None, 5000, 5000, 5000.0, ' 36 months', 17.97, 180.69, 'D', 'D1', 'Administrative', '6 years', 'MORTGAGE', 59280.0, 'Source Verified', 'Dec-2018', 'Current', 'n', None, None, 'debt_consolidation', 'Debt consolidation', '490xx', 'MI', 10.51, 0, 'Apr-2011', 0, None, None, 8, 0, 4599, 19.1, 13, 'w', 4787.21, 4787.21, 353.89, 353.89, 212.79, 141.1, 0.0, 0.0, 0.0, 'Feb-2019', 180.69, 'Mar-2019', 'Feb-2019', 0, None, 1, 'Individual', None, None, None, 0, 0, 110299, 0, 1, 0, 2, 14.0, 7150, 72.0, 0, 2, 0, 35.0, 24100, 1, 5, 0, 4, 18383.0, 13800.0, 0.0, 0, 0, 87.0, 92, 15, 14, 2, 77.0, None, 14.0, None, 0, 0, 3, 3, 3, 4, 6, 7, 3, 8, 0.0, 0, 0, 0, 100.0, 0.0, 0, 0, 136927, 11749, 13800, 10000, None, None, None, None, None, None, None, None, None, None, None, 'N', None, None, None, None, None, None, None, None, None, None, None, None, None, None, 'Cash', 'N', None, None, None, None, None, None)\n",
            "(3, None, None, 4000, 4000, 4000.0, ' 36 months', 18.94, 146.51, 'D', 'D2', 'IT Supervisor', '10+ years', 'MORTGAGE', 92000.0, 'Source Verified', 'Dec-2018', 'Current', 'n', None, None, 'debt_consolidation', 'Debt consolidation', '985xx', 'WA', 16.74, 0, 'Feb-2006', 0, None, None, 10, 0, 5468, 78.1, 13, 'w', 3831.93, 3831.93, 286.71, 286.71, 168.07, 118.64, 0.0, 0.0, 0.0, 'Feb-2019', 146.51, 'Mar-2019', 'Feb-2019', 0, None, 1, 'Individual', None, None, None, 0, 686, 305049, 1, 5, 3, 5, 5.0, 30683, 68.0, 0, 0, 3761, 70.0, 7000, 2, 4, 3, 5, 30505.0, 1239.0, 75.2, 0, 0, 62.0, 154, 64, 5, 3, 64.0, None, 5.0, None, 0, 1, 2, 1, 2, 7, 2, 3, 2, 10, 0.0, 0, 0, 3, 100.0, 100.0, 0, 0, 385183, 36151, 5000, 44984, None, None, None, None, None, None, None, None, None, None, None, 'N', None, None, None, None, None, None, None, None, None, None, None, None, None, None, 'Cash', 'N', None, None, None, None, None, None)\n",
            "(4, None, None, 30000, 30000, 30000.0, ' 60 months', 16.14, 731.78, 'C', 'C4', 'Mechanic', '10+ years', 'MORTGAGE', 57250.0, 'Not Verified', 'Dec-2018', 'Current', 'n', None, None, 'debt_consolidation', 'Debt consolidation', '212xx', 'MD', 26.35, 0, 'Dec-2000', 0, None, None, 12, 0, 829, 3.6, 26, 'w', 29339.02, 29339.02, 1423.21, 1423.21, 660.98, 762.23, 0.0, 0.0, 0.0, 'Feb-2019', 731.78, 'Mar-2019', 'Feb-2019', 0, None, 1, 'Individual', None, None, None, 0, 0, 116007, 3, 5, 3, 5, 4.0, 28845, 89.0, 2, 4, 516, 54.0, 23100, 1, 0, 0, 9, 9667.0, 8471.0, 8.9, 0, 0, 53.0, 216, 2, 2, 2, 2.0, None, 13.0, None, 0, 2, 2, 3, 8, 9, 6, 15, 2, 12, 0.0, 0, 0, 5, 92.3, 0.0, 0, 0, 157548, 29674, 9300, 32332, None, None, None, None, None, None, None, None, None, None, None, 'N', None, None, None, None, None, None, None, None, None, None, None, None, None, None, 'Cash', 'N', None, None, None, None, None, None)\n",
            "(5, None, None, 5550, 5550, 5550.0, ' 36 months', 15.02, 192.45, 'C', 'C3', 'Director COE', '10+ years', 'MORTGAGE', 152500.0, 'Not Verified', 'Dec-2018', 'Current', 'n', None, None, 'credit_card', 'Credit card refinancing', '461xx', 'IN', 37.94, 0, 'Sep-2002', 3, None, None, 18, 0, 53854, 48.1, 44, 'w', 5302.5, 5302.5, 377.95, 377.95, 247.5, 130.45, 0.0, 0.0, 0.0, 'Feb-2019', 192.45, 'Mar-2019', 'Feb-2019', 0, None, 1, 'Individual', None, None, None, 0, 0, 685749, 1, 7, 2, 3, 4.0, 131524, 72.0, 1, 4, 17584, 58.0, 111900, 2, 4, 6, 8, 40338.0, 23746.0, 64.0, 0, 0, 195.0, 176, 10, 4, 6, 20.0, None, 3.0, None, 0, 4, 6, 6, 10, 23, 9, 15, 7, 18, 0.0, 0, 0, 4, 100.0, 60.0, 0, 0, 831687, 185378, 65900, 203159, None, None, None, None, None, None, None, None, None, None, None, 'N', None, None, None, None, None, None, None, None, None, None, None, None, None, None, 'Cash', 'N', None, None, None, None, None, None)\n",
            "(6, None, None, 2000, 2000, 2000.0, ' 36 months', 17.97, 72.28, 'D', 'D1', 'Account Manager', '4 years', 'RENT', 51000.0, 'Source Verified', 'Dec-2018', 'Current', 'n', None, None, 'debt_consolidation', 'Debt consolidation', '606xx', 'IL', 2.4, 0, 'Nov-2004', 1, None, None, 1, 0, 0, None, 9, 'w', 1914.71, 1914.71, 141.56, 141.56, 85.29, 56.27, 0.0, 0.0, 0.0, 'Feb-2019', 72.28, 'Mar-2019', 'Feb-2019', 0, None, 1, 'Individual', None, None, None, 0, 0, 854, 0, 0, 2, 3, 7.0, 0, None, 0, 1, 0, 100.0, 0, 0, 0, 1, 4, 854.0, None, None, 0, 0, 169.0, 40, 23, 7, 0, None, None, 1.0, None, 0, 0, 0, 0, 3, 5, 0, 3, 0, 1, 0.0, 0, 0, 2, 100.0, None, 0, 0, 854, 854, 0, 0, None, None, None, None, None, None, None, None, None, None, None, 'N', None, None, None, None, None, None, None, None, None, None, None, None, None, None, 'Cash', 'N', None, None, None, None, None, None)\n",
            "(7, None, None, 6000, 6000, 6000.0, ' 36 months', 13.56, 203.79, 'C', 'C1', 'Assistant Director', '10+ years', 'RENT', 65000.0, 'Source Verified', 'Dec-2018', 'Current', 'n', None, None, 'credit_card', 'Credit card refinancing', '460xx', 'IN', 30.1, 0, 'Nov-1997', 0, None, None, 19, 0, 38476, 69.3, 37, 'w', 5864.01, 5864.01, 201.53, 201.53, 135.99, 65.54, 0.0, 0.0, 0.0, 'Feb-2019', 208.31, 'Mar-2019', 'Feb-2019', 0, None, 1, 'Individual', None, None, None, 0, 0, 91535, 0, 5, 0, 1, 23.0, 53059, 87.0, 0, 2, 9413, 74.0, 55500, 1, 2, 0, 3, 5085.0, 3034.0, 90.8, 0, 0, 169.0, 253, 13, 13, 1, 14.0, None, 13.0, None, 0, 7, 12, 8, 10, 15, 14, 20, 12, 19, 0.0, 0, 0, 0, 100.0, 85.7, 0, 0, 117242, 91535, 33100, 61742, None, None, None, None, None, None, None, None, None, None, None, 'N', None, None, None, None, None, None, None, None, None, None, None, None, None, None, 'DirectPay', 'N', None, None, None, None, None, None)\n",
            "(8, None, None, 5000, 5000, 5000.0, ' 36 months', 17.97, 180.69, 'D', 'D1', 'Legal Assistant III', '10+ years', 'MORTGAGE', 53580.0, 'Source Verified', 'Dec-2018', 'Current', 'n', None, None, 'debt_consolidation', 'Debt consolidation', '327xx', 'FL', 21.16, 0, 'Aug-1998', 1, 32.0, None, 8, 0, 8018, 35.2, 38, 'w', 4786.79, 4786.79, 353.89, 353.89, 213.21, 140.68, 0.0, 0.0, 0.0, 'Feb-2019', 180.69, 'Mar-2019', 'Feb-2019', 0, 45.0, 1, 'Individual', None, None, None, 0, 0, 41882, 5, 2, 5, 5, 3.0, 33864, 98.0, 1, 6, 3132, 73.0, 22800, 2, 1, 4, 12, 5235.0, 13786.0, 35.9, 0, 0, 145.0, 244, 6, 3, 3, 6.0, 33.0, 2.0, 32.0, 2, 4, 5, 5, 10, 20, 6, 15, 5, 8, 0.0, 0, 0, 6, 78.9, 60.0, 0, 0, 57426, 41882, 21500, 34626, None, None, None, None, None, None, None, None, None, None, None, 'N', None, None, None, None, None, None, None, None, None, None, None, None, None, None, 'Cash', 'N', None, None, None, None, None, None)\n",
            "(9, None, None, 6000, 6000, 6000.0, ' 36 months', 14.47, 206.44, 'C', 'C2', None, '< 1 year', 'OWN', 300000.0, 'Not Verified', 'Dec-2018', 'Current', 'n', None, None, 'debt_consolidation', 'Debt consolidation', '068xx', 'CT', 17.43, 1, 'Apr-2002', 1, 17.0, None, 38, 0, 65950, 49.8, 58, 'w', 5730.2, 5730.2, 405.64, 405.64, 269.8, 135.84, 0.0, 0.0, 0.0, 'Feb-2019', 206.44, 'Mar-2019', 'Feb-2019', 0, None, 1, 'Individual', None, None, None, 0, 0, 349502, 1, 4, 1, 3, 7.0, 39961, 45.0, 1, 12, 15926, 48.0, 132500, 2, 2, 2, 15, 9197.0, 38683.0, 60.6, 0, 0, 166.0, 200, 4, 4, 1, 4.0, None, 4.0, 17.0, 0, 16, 20, 19, 26, 9, 33, 48, 20, 38, 0.0, 0, 0, 2, 100.0, 26.3, 0, 0, 477390, 105911, 98300, 89600, None, None, None, None, None, None, None, None, None, None, None, 'N', None, None, None, None, None, None, None, None, None, None, None, None, None, None, 'Cash', 'N', None, None, None, None, None, None)\n"
          ],
          "name": "stdout"
        }
      ]
    },
    {
      "cell_type": "code",
      "metadata": {
        "id": "EXvQn6kaiZdJ",
        "colab_type": "code",
        "colab": {
          "base_uri": "https://localhost:8080/",
          "height": 54
        },
        "outputId": "5ac397d9-b7d7-427b-c41d-8852a6f5f9e6"
      },
      "source": [
        "for name in col_names:\n",
        "  print('{:3}'.format(name), sep='', end=' | ', flush=True) "
      ],
      "execution_count": 82,
      "outputs": [
        {
          "output_type": "stream",
          "text": [
            "index | id  | member_id | loan_amnt | funded_amnt | funded_amnt_inv | term | int_rate | installment | grade | sub_grade | emp_title | emp_length | home_ownership | annual_inc | verification_status | issue_d | loan_status | pymnt_plan | url | desc | purpose | title | zip_code | addr_state | dti | delinq_2yrs | earliest_cr_line | inq_last_6mths | mths_since_last_delinq | mths_since_last_record | open_acc | pub_rec | revol_bal | revol_util | total_acc | initial_list_status | out_prncp | out_prncp_inv | total_pymnt | total_pymnt_inv | total_rec_prncp | total_rec_int | total_rec_late_fee | recoveries | collection_recovery_fee | last_pymnt_d | last_pymnt_amnt | next_pymnt_d | last_credit_pull_d | collections_12_mths_ex_med | mths_since_last_major_derog | policy_code | application_type | annual_inc_joint | dti_joint | verification_status_joint | acc_now_delinq | tot_coll_amt | tot_cur_bal | open_acc_6m | open_act_il | open_il_12m | open_il_24m | mths_since_rcnt_il | total_bal_il | il_util | open_rv_12m | open_rv_24m | max_bal_bc | all_util | total_rev_hi_lim | inq_fi | total_cu_tl | inq_last_12m | acc_open_past_24mths | avg_cur_bal | bc_open_to_buy | bc_util | chargeoff_within_12_mths | delinq_amnt | mo_sin_old_il_acct | mo_sin_old_rev_tl_op | mo_sin_rcnt_rev_tl_op | mo_sin_rcnt_tl | mort_acc | mths_since_recent_bc | mths_since_recent_bc_dlq | mths_since_recent_inq | mths_since_recent_revol_delinq | num_accts_ever_120_pd | num_actv_bc_tl | num_actv_rev_tl | num_bc_sats | num_bc_tl | num_il_tl | num_op_rev_tl | num_rev_accts | num_rev_tl_bal_gt_0 | num_sats | num_tl_120dpd_2m | num_tl_30dpd | num_tl_90g_dpd_24m | num_tl_op_past_12m | pct_tl_nvr_dlq | percent_bc_gt_75 | pub_rec_bankruptcies | tax_liens | tot_hi_cred_lim | total_bal_ex_mort | total_bc_limit | total_il_high_credit_limit | revol_bal_joint | sec_app_earliest_cr_line | sec_app_inq_last_6mths | sec_app_mort_acc | sec_app_open_acc | sec_app_revol_util | sec_app_open_act_il | sec_app_num_rev_accts | sec_app_chargeoff_within_12_mths | sec_app_collections_12_mths_ex_med | sec_app_mths_since_last_major_derog | hardship_flag | hardship_type | hardship_reason | hardship_status | deferral_term | hardship_amount | hardship_start_date | hardship_end_date | payment_plan_start_date | hardship_length | hardship_dpd | hardship_loan_status | orig_projected_additional_accrued_interest | hardship_payoff_balance_amount | hardship_last_payment_amount | disbursement_method | debt_settlement_flag | debt_settlement_flag_date | settlement_status | settlement_date | settlement_amount | settlement_percentage | settlement_term | "
          ],
          "name": "stdout"
        }
      ]
    },
    {
      "cell_type": "code",
      "metadata": {
        "id": "OzmFoxIcifkp",
        "colab_type": "code",
        "colab": {
          "base_uri": "https://localhost:8080/",
          "height": 224
        },
        "outputId": "342783c7-43c3-4e8e-fedb-0d5216d3a189"
      },
      "source": [
        "for name in col_names:\n",
        "  print('{:10}'.format(name), sep='', end=' | ', flush=True) \n",
        "for row in rows:\n",
        "  print()\n",
        "  for name in row:\n",
        "    print('{:10}'.format(str(name)), sep='', end=' | ', flush=True) "
      ],
      "execution_count": 106,
      "outputs": [
        {
          "output_type": "stream",
          "text": [
            "index      | id         | member_id  | loan_amnt  | funded_amnt | funded_amnt_inv | term       | int_rate   | installment | grade      | sub_grade  | emp_title  | emp_length | home_ownership | annual_inc | verification_status | issue_d    | loan_status | pymnt_plan | url        | desc       | purpose    | title      | zip_code   | addr_state | dti        | delinq_2yrs | earliest_cr_line | inq_last_6mths | mths_since_last_delinq | mths_since_last_record | open_acc   | pub_rec    | revol_bal  | revol_util | total_acc  | initial_list_status | out_prncp  | out_prncp_inv | total_pymnt | total_pymnt_inv | total_rec_prncp | total_rec_int | total_rec_late_fee | recoveries | collection_recovery_fee | last_pymnt_d | last_pymnt_amnt | next_pymnt_d | last_credit_pull_d | collections_12_mths_ex_med | mths_since_last_major_derog | policy_code | application_type | annual_inc_joint | dti_joint  | verification_status_joint | acc_now_delinq | tot_coll_amt | tot_cur_bal | open_acc_6m | open_act_il | open_il_12m | open_il_24m | mths_since_rcnt_il | total_bal_il | il_util    | open_rv_12m | open_rv_24m | max_bal_bc | all_util   | total_rev_hi_lim | inq_fi     | total_cu_tl | inq_last_12m | acc_open_past_24mths | avg_cur_bal | bc_open_to_buy | bc_util    | chargeoff_within_12_mths | delinq_amnt | mo_sin_old_il_acct | mo_sin_old_rev_tl_op | mo_sin_rcnt_rev_tl_op | mo_sin_rcnt_tl | mort_acc   | mths_since_recent_bc | mths_since_recent_bc_dlq | mths_since_recent_inq | mths_since_recent_revol_delinq | num_accts_ever_120_pd | num_actv_bc_tl | num_actv_rev_tl | num_bc_sats | num_bc_tl  | num_il_tl  | num_op_rev_tl | num_rev_accts | num_rev_tl_bal_gt_0 | num_sats   | num_tl_120dpd_2m | num_tl_30dpd | num_tl_90g_dpd_24m | num_tl_op_past_12m | pct_tl_nvr_dlq | percent_bc_gt_75 | pub_rec_bankruptcies | tax_liens  | tot_hi_cred_lim | total_bal_ex_mort | total_bc_limit | total_il_high_credit_limit | revol_bal_joint | sec_app_earliest_cr_line | sec_app_inq_last_6mths | sec_app_mort_acc | sec_app_open_acc | sec_app_revol_util | sec_app_open_act_il | sec_app_num_rev_accts | sec_app_chargeoff_within_12_mths | sec_app_collections_12_mths_ex_med | sec_app_mths_since_last_major_derog | hardship_flag | hardship_type | hardship_reason | hardship_status | deferral_term | hardship_amount | hardship_start_date | hardship_end_date | payment_plan_start_date | hardship_length | hardship_dpd | hardship_loan_status | orig_projected_additional_accrued_interest | hardship_payoff_balance_amount | hardship_last_payment_amount | disbursement_method | debt_settlement_flag | debt_settlement_flag_date | settlement_status | settlement_date | settlement_amount | settlement_percentage | settlement_term | \n",
            "0          | None       | None       | 2500       | 2500       | 2500.0     |  36 months | 13.56      | 84.92      | C          | C1         | Chef       | 10+ years  | RENT       | 55000.0    | Not Verified | Dec-2018   | Current    | n          | None       | None       | debt_consolidation | Debt consolidation | 109xx      | NY         | 18.24      | 0          | Apr-2001   | 1          | None       | 45.0       | 9          | 1          | 4341       | 10.3       | 34         | w          | 2386.02    | 2386.02    | 167.02     | 167.02     | 113.98     | 53.04      | 0.0        | 0.0        | 0.0        | Feb-2019   | 84.92      | Mar-2019   | Feb-2019   | 0          | None       | 1          | Individual | None       | None       | None       | 0          | 0          | 16901      | 2          | 2          | 1          | 2          | 2.0        | 12560      | 69.0       | 2          | 7          | 2137       | 28.0       | 42000      | 1          | 11         | 2          | 9          | 1878.0     | 34360.0    | 5.9        | 0          | 0          | 140.0      | 212        | 1          | 1          | 0          | 1.0        | None       | 2.0        | None       | 0          | 2          | 5          | 3          | 3          | 16         | 7          | 18         | 5          | 9          | 0.0        | 0          | 0          | 3          | 100.0      | 0.0        | 1          | 0          | 60124      | 16901      | 36500      | 18124      | None       | None       | None       | None       | None       | None       | None       | None       | None       | None       | None       | N          | None       | None       | None       | None       | None       | None       | None       | None       | None       | None       | None       | None       | None       | None       | Cash       | N          | None       | None       | None       | None       | None       | None       | \n",
            "1          | None       | None       | 30000      | 30000      | 30000.0    |  60 months | 18.94      | 777.23     | D          | D2         | Postmaster  | 10+ years  | MORTGAGE   | 90000.0    | Source Verified | Dec-2018   | Current    | n          | None       | None       | debt_consolidation | Debt consolidation | 713xx      | LA         | 26.52      | 0          | Jun-1987   | 0          | 71.0       | 75.0       | 13         | 1          | 12315      | 24.2       | 44         | w          | 29387.75   | 29387.75   | 1507.11    | 1507.11    | 612.25     | 894.86     | 0.0        | 0.0        | 0.0        | Feb-2019   | 777.23     | Mar-2019   | Feb-2019   | 0          | None       | 1          | Individual | None       | None       | None       | 0          | 1208       | 321915     | 4          | 4          | 2          | 3          | 3.0        | 87153      | 88.0       | 4          | 5          | 998        | 57.0       | 50800      | 2          | 15         | 2          | 10         | 24763.0    | 13761.0    | 8.3        | 0          | 0          | 163.0      | 378        | 4          | 3          | 3          | 4.0        | None       | 4.0        | None       | 0          | 2          | 4          | 4          | 9          | 27         | 8          | 14         | 4          | 13         | 0.0        | 0          | 0          | 6          | 95.0       | 0.0        | 1          | 0          | 372872     | 99468      | 15000      | 94072      | None       | None       | None       | None       | None       | None       | None       | None       | None       | None       | None       | N          | None       | None       | None       | None       | None       | None       | None       | None       | None       | None       | None       | None       | None       | None       | Cash       | N          | None       | None       | None       | None       | None       | None       | \n",
            "2          | None       | None       | 5000       | 5000       | 5000.0     |  36 months | 17.97      | 180.69     | D          | D1         | Administrative | 6 years    | MORTGAGE   | 59280.0    | Source Verified | Dec-2018   | Current    | n          | None       | None       | debt_consolidation | Debt consolidation | 490xx      | MI         | 10.51      | 0          | Apr-2011   | 0          | None       | None       | 8          | 0          | 4599       | 19.1       | 13         | w          | 4787.21    | 4787.21    | 353.89     | 353.89     | 212.79     | 141.1      | 0.0        | 0.0        | 0.0        | Feb-2019   | 180.69     | Mar-2019   | Feb-2019   | 0          | None       | 1          | Individual | None       | None       | None       | 0          | 0          | 110299     | 0          | 1          | 0          | 2          | 14.0       | 7150       | 72.0       | 0          | 2          | 0          | 35.0       | 24100      | 1          | 5          | 0          | 4          | 18383.0    | 13800.0    | 0.0        | 0          | 0          | 87.0       | 92         | 15         | 14         | 2          | 77.0       | None       | 14.0       | None       | 0          | 0          | 3          | 3          | 3          | 4          | 6          | 7          | 3          | 8          | 0.0        | 0          | 0          | 0          | 100.0      | 0.0        | 0          | 0          | 136927     | 11749      | 13800      | 10000      | None       | None       | None       | None       | None       | None       | None       | None       | None       | None       | None       | N          | None       | None       | None       | None       | None       | None       | None       | None       | None       | None       | None       | None       | None       | None       | Cash       | N          | None       | None       | None       | None       | None       | None       | \n",
            "3          | None       | None       | 4000       | 4000       | 4000.0     |  36 months | 18.94      | 146.51     | D          | D2         | IT Supervisor | 10+ years  | MORTGAGE   | 92000.0    | Source Verified | Dec-2018   | Current    | n          | None       | None       | debt_consolidation | Debt consolidation | 985xx      | WA         | 16.74      | 0          | Feb-2006   | 0          | None       | None       | 10         | 0          | 5468       | 78.1       | 13         | w          | 3831.93    | 3831.93    | 286.71     | 286.71     | 168.07     | 118.64     | 0.0        | 0.0        | 0.0        | Feb-2019   | 146.51     | Mar-2019   | Feb-2019   | 0          | None       | 1          | Individual | None       | None       | None       | 0          | 686        | 305049     | 1          | 5          | 3          | 5          | 5.0        | 30683      | 68.0       | 0          | 0          | 3761       | 70.0       | 7000       | 2          | 4          | 3          | 5          | 30505.0    | 1239.0     | 75.2       | 0          | 0          | 62.0       | 154        | 64         | 5          | 3          | 64.0       | None       | 5.0        | None       | 0          | 1          | 2          | 1          | 2          | 7          | 2          | 3          | 2          | 10         | 0.0        | 0          | 0          | 3          | 100.0      | 100.0      | 0          | 0          | 385183     | 36151      | 5000       | 44984      | None       | None       | None       | None       | None       | None       | None       | None       | None       | None       | None       | N          | None       | None       | None       | None       | None       | None       | None       | None       | None       | None       | None       | None       | None       | None       | Cash       | N          | None       | None       | None       | None       | None       | None       | \n",
            "4          | None       | None       | 30000      | 30000      | 30000.0    |  60 months | 16.14      | 731.78     | C          | C4         | Mechanic   | 10+ years  | MORTGAGE   | 57250.0    | Not Verified | Dec-2018   | Current    | n          | None       | None       | debt_consolidation | Debt consolidation | 212xx      | MD         | 26.35      | 0          | Dec-2000   | 0          | None       | None       | 12         | 0          | 829        | 3.6        | 26         | w          | 29339.02   | 29339.02   | 1423.21    | 1423.21    | 660.98     | 762.23     | 0.0        | 0.0        | 0.0        | Feb-2019   | 731.78     | Mar-2019   | Feb-2019   | 0          | None       | 1          | Individual | None       | None       | None       | 0          | 0          | 116007     | 3          | 5          | 3          | 5          | 4.0        | 28845      | 89.0       | 2          | 4          | 516        | 54.0       | 23100      | 1          | 0          | 0          | 9          | 9667.0     | 8471.0     | 8.9        | 0          | 0          | 53.0       | 216        | 2          | 2          | 2          | 2.0        | None       | 13.0       | None       | 0          | 2          | 2          | 3          | 8          | 9          | 6          | 15         | 2          | 12         | 0.0        | 0          | 0          | 5          | 92.3       | 0.0        | 0          | 0          | 157548     | 29674      | 9300       | 32332      | None       | None       | None       | None       | None       | None       | None       | None       | None       | None       | None       | N          | None       | None       | None       | None       | None       | None       | None       | None       | None       | None       | None       | None       | None       | None       | Cash       | N          | None       | None       | None       | None       | None       | None       | \n",
            "5          | None       | None       | 5550       | 5550       | 5550.0     |  36 months | 15.02      | 192.45     | C          | C3         | Director COE | 10+ years  | MORTGAGE   | 152500.0   | Not Verified | Dec-2018   | Current    | n          | None       | None       | credit_card | Credit card refinancing | 461xx      | IN         | 37.94      | 0          | Sep-2002   | 3          | None       | None       | 18         | 0          | 53854      | 48.1       | 44         | w          | 5302.5     | 5302.5     | 377.95     | 377.95     | 247.5      | 130.45     | 0.0        | 0.0        | 0.0        | Feb-2019   | 192.45     | Mar-2019   | Feb-2019   | 0          | None       | 1          | Individual | None       | None       | None       | 0          | 0          | 685749     | 1          | 7          | 2          | 3          | 4.0        | 131524     | 72.0       | 1          | 4          | 17584      | 58.0       | 111900     | 2          | 4          | 6          | 8          | 40338.0    | 23746.0    | 64.0       | 0          | 0          | 195.0      | 176        | 10         | 4          | 6          | 20.0       | None       | 3.0        | None       | 0          | 4          | 6          | 6          | 10         | 23         | 9          | 15         | 7          | 18         | 0.0        | 0          | 0          | 4          | 100.0      | 60.0       | 0          | 0          | 831687     | 185378     | 65900      | 203159     | None       | None       | None       | None       | None       | None       | None       | None       | None       | None       | None       | N          | None       | None       | None       | None       | None       | None       | None       | None       | None       | None       | None       | None       | None       | None       | Cash       | N          | None       | None       | None       | None       | None       | None       | \n",
            "6          | None       | None       | 2000       | 2000       | 2000.0     |  36 months | 17.97      | 72.28      | D          | D1         | Account Manager | 4 years    | RENT       | 51000.0    | Source Verified | Dec-2018   | Current    | n          | None       | None       | debt_consolidation | Debt consolidation | 606xx      | IL         | 2.4        | 0          | Nov-2004   | 1          | None       | None       | 1          | 0          | 0          | None       | 9          | w          | 1914.71    | 1914.71    | 141.56     | 141.56     | 85.29      | 56.27      | 0.0        | 0.0        | 0.0        | Feb-2019   | 72.28      | Mar-2019   | Feb-2019   | 0          | None       | 1          | Individual | None       | None       | None       | 0          | 0          | 854        | 0          | 0          | 2          | 3          | 7.0        | 0          | None       | 0          | 1          | 0          | 100.0      | 0          | 0          | 0          | 1          | 4          | 854.0      | None       | None       | 0          | 0          | 169.0      | 40         | 23         | 7          | 0          | None       | None       | 1.0        | None       | 0          | 0          | 0          | 0          | 3          | 5          | 0          | 3          | 0          | 1          | 0.0        | 0          | 0          | 2          | 100.0      | None       | 0          | 0          | 854        | 854        | 0          | 0          | None       | None       | None       | None       | None       | None       | None       | None       | None       | None       | None       | N          | None       | None       | None       | None       | None       | None       | None       | None       | None       | None       | None       | None       | None       | None       | Cash       | N          | None       | None       | None       | None       | None       | None       | \n",
            "7          | None       | None       | 6000       | 6000       | 6000.0     |  36 months | 13.56      | 203.79     | C          | C1         | Assistant Director | 10+ years  | RENT       | 65000.0    | Source Verified | Dec-2018   | Current    | n          | None       | None       | credit_card | Credit card refinancing | 460xx      | IN         | 30.1       | 0          | Nov-1997   | 0          | None       | None       | 19         | 0          | 38476      | 69.3       | 37         | w          | 5864.01    | 5864.01    | 201.53     | 201.53     | 135.99     | 65.54      | 0.0        | 0.0        | 0.0        | Feb-2019   | 208.31     | Mar-2019   | Feb-2019   | 0          | None       | 1          | Individual | None       | None       | None       | 0          | 0          | 91535      | 0          | 5          | 0          | 1          | 23.0       | 53059      | 87.0       | 0          | 2          | 9413       | 74.0       | 55500      | 1          | 2          | 0          | 3          | 5085.0     | 3034.0     | 90.8       | 0          | 0          | 169.0      | 253        | 13         | 13         | 1          | 14.0       | None       | 13.0       | None       | 0          | 7          | 12         | 8          | 10         | 15         | 14         | 20         | 12         | 19         | 0.0        | 0          | 0          | 0          | 100.0      | 85.7       | 0          | 0          | 117242     | 91535      | 33100      | 61742      | None       | None       | None       | None       | None       | None       | None       | None       | None       | None       | None       | N          | None       | None       | None       | None       | None       | None       | None       | None       | None       | None       | None       | None       | None       | None       | DirectPay  | N          | None       | None       | None       | None       | None       | None       | \n",
            "8          | None       | None       | 5000       | 5000       | 5000.0     |  36 months | 17.97      | 180.69     | D          | D1         | Legal Assistant III | 10+ years  | MORTGAGE   | 53580.0    | Source Verified | Dec-2018   | Current    | n          | None       | None       | debt_consolidation | Debt consolidation | 327xx      | FL         | 21.16      | 0          | Aug-1998   | 1          | 32.0       | None       | 8          | 0          | 8018       | 35.2       | 38         | w          | 4786.79    | 4786.79    | 353.89     | 353.89     | 213.21     | 140.68     | 0.0        | 0.0        | 0.0        | Feb-2019   | 180.69     | Mar-2019   | Feb-2019   | 0          | 45.0       | 1          | Individual | None       | None       | None       | 0          | 0          | 41882      | 5          | 2          | 5          | 5          | 3.0        | 33864      | 98.0       | 1          | 6          | 3132       | 73.0       | 22800      | 2          | 1          | 4          | 12         | 5235.0     | 13786.0    | 35.9       | 0          | 0          | 145.0      | 244        | 6          | 3          | 3          | 6.0        | 33.0       | 2.0        | 32.0       | 2          | 4          | 5          | 5          | 10         | 20         | 6          | 15         | 5          | 8          | 0.0        | 0          | 0          | 6          | 78.9       | 60.0       | 0          | 0          | 57426      | 41882      | 21500      | 34626      | None       | None       | None       | None       | None       | None       | None       | None       | None       | None       | None       | N          | None       | None       | None       | None       | None       | None       | None       | None       | None       | None       | None       | None       | None       | None       | Cash       | N          | None       | None       | None       | None       | None       | None       | \n",
            "9          | None       | None       | 6000       | 6000       | 6000.0     |  36 months | 14.47      | 206.44     | C          | C2         | None       | < 1 year   | OWN        | 300000.0   | Not Verified | Dec-2018   | Current    | n          | None       | None       | debt_consolidation | Debt consolidation | 068xx      | CT         | 17.43      | 1          | Apr-2002   | 1          | 17.0       | None       | 38         | 0          | 65950      | 49.8       | 58         | w          | 5730.2     | 5730.2     | 405.64     | 405.64     | 269.8      | 135.84     | 0.0        | 0.0        | 0.0        | Feb-2019   | 206.44     | Mar-2019   | Feb-2019   | 0          | None       | 1          | Individual | None       | None       | None       | 0          | 0          | 349502     | 1          | 4          | 1          | 3          | 7.0        | 39961      | 45.0       | 1          | 12         | 15926      | 48.0       | 132500     | 2          | 2          | 2          | 15         | 9197.0     | 38683.0    | 60.6       | 0          | 0          | 166.0      | 200        | 4          | 4          | 1          | 4.0        | None       | 4.0        | 17.0       | 0          | 16         | 20         | 19         | 26         | 9          | 33         | 48         | 20         | 38         | 0.0        | 0          | 0          | 2          | 100.0      | 26.3       | 0          | 0          | 477390     | 105911     | 98300      | 89600      | None       | None       | None       | None       | None       | None       | None       | None       | None       | None       | None       | N          | None       | None       | None       | None       | None       | None       | None       | None       | None       | None       | None       | None       | None       | None       | Cash       | N          | None       | None       | None       | None       | None       | None       | "
          ],
          "name": "stdout"
        }
      ]
    },
    {
      "cell_type": "markdown",
      "metadata": {
        "id": "ebfwtcPGsiHQ",
        "colab_type": "text"
      },
      "source": [
        "# SQL to pandas Dataframe"
      ]
    },
    {
      "cell_type": "code",
      "metadata": {
        "id": "ofwi-xzTuLpm",
        "colab_type": "code",
        "colab": {}
      },
      "source": [
        "import pandas as pd\n",
        "import numpy as np\n",
        "import sqlite3"
      ],
      "execution_count": 1,
      "outputs": []
    },
    {
      "cell_type": "code",
      "metadata": {
        "id": "yU6GTi8Gs6fK",
        "colab_type": "code",
        "colab": {}
      },
      "source": [
        "connection = sqlite3.connect('/content/loan.sqlite')\n",
        "cur = connection.cursor()"
      ],
      "execution_count": 11,
      "outputs": []
    },
    {
      "cell_type": "code",
      "metadata": {
        "id": "6HXY2hmpvAoQ",
        "colab_type": "code",
        "colab": {}
      },
      "source": [
        "limit_num=20\n",
        "cur.execute('SELECT * FROM loan LIMIT 10000')\n",
        "df=pd.DataFrame(cur.fetchall())\n",
        "col_names = [cn[0] for cn in cur.description]\n",
        "df.columns=col_names\n",
        "df"
      ],
      "execution_count": null,
      "outputs": []
    },
    {
      "cell_type": "markdown",
      "metadata": {
        "id": "KmcCjKen16PH",
        "colab_type": "text"
      },
      "source": [
        "Read_sql is very good for this task"
      ]
    },
    {
      "cell_type": "code",
      "metadata": {
        "id": "5WqMh1AF32sP",
        "colab_type": "code",
        "colab": {}
      },
      "source": [
        "def tables_in_sqlite_db(conn):\n",
        "    cursor = conn.execute(\"SELECT name FROM sqlite_master WHERE type='table';\")\n",
        "    tables = [\n",
        "        v[0] for v in cursor.fetchall()\n",
        "        if v[0] != \"sqlite_sequence\"\n",
        "    ]\n",
        "    cursor.close()\n",
        "    return tables"
      ],
      "execution_count": 15,
      "outputs": []
    },
    {
      "cell_type": "markdown",
      "metadata": {
        "id": "KedFB2rv5Zqg",
        "colab_type": "text"
      },
      "source": [
        "For multy table name:"
      ]
    },
    {
      "cell_type": "code",
      "metadata": {
        "id": "A31jpoYQ3_mV",
        "colab_type": "code",
        "colab": {
          "base_uri": "https://localhost:8080/",
          "height": 34
        },
        "outputId": "46d82c56-70d8-4730-90a4-cd4434c73685"
      },
      "source": [
        "\n",
        "datapath='/content/loan.sqlite'\n",
        "conn = sqlite3.connect(datapath)\n",
        "# List tables\n",
        "tables = tables_in_sqlite_db(conn)\n",
        "# Your code goes here!\n",
        "# Example:\n",
        "print(tables) # prints ['commands', 'packages']"
      ],
      "execution_count": 16,
      "outputs": [
        {
          "output_type": "stream",
          "text": [
            "['loan']\n"
          ],
          "name": "stdout"
        }
      ]
    },
    {
      "cell_type": "markdown",
      "metadata": {
        "id": "txb3GWuc5a_6",
        "colab_type": "text"
      },
      "source": [
        "Best code"
      ]
    },
    {
      "cell_type": "code",
      "metadata": {
        "id": "kt4INzFa1g_A",
        "colab_type": "code",
        "colab": {
          "base_uri": "https://localhost:8080/",
          "height": 389
        },
        "outputId": "c228eda6-6447-472f-b82c-f517bd0b774a"
      },
      "source": [
        "datapath='/content/loan.sqlite'\n",
        "conn = sqlite3.connect(datapath)\n",
        "cursor = conn.cursor()\n",
        "\n",
        "cursor.execute(\"SELECT name FROM sqlite_master WHERE type='table';\")\n",
        "table_name=cursor.fetchall()\n",
        "table_name=table_name[0][0]\n",
        "print('table_name: ',table_name)\n",
        "\n",
        "cursor.execute(\"SELECT count(*) FROM %s\" %table_name)\n",
        "values = cursor.fetchone()\n",
        "print ('number of rows: ',values[0])\n",
        "\n",
        "limit=50\n",
        "df = pd.read_sql(\"SELECT * FROM %s LIMIT %s\" % (table_name,limit), conn)\n",
        "print(df.shape)\n",
        "df.head()"
      ],
      "execution_count": 38,
      "outputs": [
        {
          "output_type": "stream",
          "text": [
            "table_name:  loan\n",
            "number of rows:  2260668\n",
            "(50, 146)\n"
          ],
          "name": "stdout"
        },
        {
          "output_type": "execute_result",
          "data": {
            "text/html": [
              "<div>\n",
              "<style scoped>\n",
              "    .dataframe tbody tr th:only-of-type {\n",
              "        vertical-align: middle;\n",
              "    }\n",
              "\n",
              "    .dataframe tbody tr th {\n",
              "        vertical-align: top;\n",
              "    }\n",
              "\n",
              "    .dataframe thead th {\n",
              "        text-align: right;\n",
              "    }\n",
              "</style>\n",
              "<table border=\"1\" class=\"dataframe\">\n",
              "  <thead>\n",
              "    <tr style=\"text-align: right;\">\n",
              "      <th></th>\n",
              "      <th>index</th>\n",
              "      <th>id</th>\n",
              "      <th>member_id</th>\n",
              "      <th>loan_amnt</th>\n",
              "      <th>funded_amnt</th>\n",
              "      <th>funded_amnt_inv</th>\n",
              "      <th>term</th>\n",
              "      <th>int_rate</th>\n",
              "      <th>installment</th>\n",
              "      <th>grade</th>\n",
              "      <th>sub_grade</th>\n",
              "      <th>emp_title</th>\n",
              "      <th>emp_length</th>\n",
              "      <th>home_ownership</th>\n",
              "      <th>annual_inc</th>\n",
              "      <th>verification_status</th>\n",
              "      <th>issue_d</th>\n",
              "      <th>loan_status</th>\n",
              "      <th>pymnt_plan</th>\n",
              "      <th>url</th>\n",
              "      <th>desc</th>\n",
              "      <th>purpose</th>\n",
              "      <th>title</th>\n",
              "      <th>zip_code</th>\n",
              "      <th>addr_state</th>\n",
              "      <th>dti</th>\n",
              "      <th>delinq_2yrs</th>\n",
              "      <th>earliest_cr_line</th>\n",
              "      <th>inq_last_6mths</th>\n",
              "      <th>mths_since_last_delinq</th>\n",
              "      <th>mths_since_last_record</th>\n",
              "      <th>open_acc</th>\n",
              "      <th>pub_rec</th>\n",
              "      <th>revol_bal</th>\n",
              "      <th>revol_util</th>\n",
              "      <th>total_acc</th>\n",
              "      <th>initial_list_status</th>\n",
              "      <th>out_prncp</th>\n",
              "      <th>out_prncp_inv</th>\n",
              "      <th>total_pymnt</th>\n",
              "      <th>...</th>\n",
              "      <th>pub_rec_bankruptcies</th>\n",
              "      <th>tax_liens</th>\n",
              "      <th>tot_hi_cred_lim</th>\n",
              "      <th>total_bal_ex_mort</th>\n",
              "      <th>total_bc_limit</th>\n",
              "      <th>total_il_high_credit_limit</th>\n",
              "      <th>revol_bal_joint</th>\n",
              "      <th>sec_app_earliest_cr_line</th>\n",
              "      <th>sec_app_inq_last_6mths</th>\n",
              "      <th>sec_app_mort_acc</th>\n",
              "      <th>sec_app_open_acc</th>\n",
              "      <th>sec_app_revol_util</th>\n",
              "      <th>sec_app_open_act_il</th>\n",
              "      <th>sec_app_num_rev_accts</th>\n",
              "      <th>sec_app_chargeoff_within_12_mths</th>\n",
              "      <th>sec_app_collections_12_mths_ex_med</th>\n",
              "      <th>sec_app_mths_since_last_major_derog</th>\n",
              "      <th>hardship_flag</th>\n",
              "      <th>hardship_type</th>\n",
              "      <th>hardship_reason</th>\n",
              "      <th>hardship_status</th>\n",
              "      <th>deferral_term</th>\n",
              "      <th>hardship_amount</th>\n",
              "      <th>hardship_start_date</th>\n",
              "      <th>hardship_end_date</th>\n",
              "      <th>payment_plan_start_date</th>\n",
              "      <th>hardship_length</th>\n",
              "      <th>hardship_dpd</th>\n",
              "      <th>hardship_loan_status</th>\n",
              "      <th>orig_projected_additional_accrued_interest</th>\n",
              "      <th>hardship_payoff_balance_amount</th>\n",
              "      <th>hardship_last_payment_amount</th>\n",
              "      <th>disbursement_method</th>\n",
              "      <th>debt_settlement_flag</th>\n",
              "      <th>debt_settlement_flag_date</th>\n",
              "      <th>settlement_status</th>\n",
              "      <th>settlement_date</th>\n",
              "      <th>settlement_amount</th>\n",
              "      <th>settlement_percentage</th>\n",
              "      <th>settlement_term</th>\n",
              "    </tr>\n",
              "  </thead>\n",
              "  <tbody>\n",
              "    <tr>\n",
              "      <th>0</th>\n",
              "      <td>0</td>\n",
              "      <td>None</td>\n",
              "      <td>None</td>\n",
              "      <td>2500</td>\n",
              "      <td>2500</td>\n",
              "      <td>2500.0</td>\n",
              "      <td>36 months</td>\n",
              "      <td>13.56</td>\n",
              "      <td>84.92</td>\n",
              "      <td>C</td>\n",
              "      <td>C1</td>\n",
              "      <td>Chef</td>\n",
              "      <td>10+ years</td>\n",
              "      <td>RENT</td>\n",
              "      <td>55000.0</td>\n",
              "      <td>Not Verified</td>\n",
              "      <td>Dec-2018</td>\n",
              "      <td>Current</td>\n",
              "      <td>n</td>\n",
              "      <td>None</td>\n",
              "      <td>None</td>\n",
              "      <td>debt_consolidation</td>\n",
              "      <td>Debt consolidation</td>\n",
              "      <td>109xx</td>\n",
              "      <td>NY</td>\n",
              "      <td>18.24</td>\n",
              "      <td>0</td>\n",
              "      <td>Apr-2001</td>\n",
              "      <td>1</td>\n",
              "      <td>NaN</td>\n",
              "      <td>45.0</td>\n",
              "      <td>9</td>\n",
              "      <td>1</td>\n",
              "      <td>4341</td>\n",
              "      <td>10.3</td>\n",
              "      <td>34</td>\n",
              "      <td>w</td>\n",
              "      <td>2386.02</td>\n",
              "      <td>2386.02</td>\n",
              "      <td>167.02</td>\n",
              "      <td>...</td>\n",
              "      <td>1</td>\n",
              "      <td>0</td>\n",
              "      <td>60124</td>\n",
              "      <td>16901</td>\n",
              "      <td>36500</td>\n",
              "      <td>18124</td>\n",
              "      <td>NaN</td>\n",
              "      <td>None</td>\n",
              "      <td>NaN</td>\n",
              "      <td>NaN</td>\n",
              "      <td>NaN</td>\n",
              "      <td>NaN</td>\n",
              "      <td>NaN</td>\n",
              "      <td>NaN</td>\n",
              "      <td>NaN</td>\n",
              "      <td>NaN</td>\n",
              "      <td>NaN</td>\n",
              "      <td>N</td>\n",
              "      <td>None</td>\n",
              "      <td>None</td>\n",
              "      <td>None</td>\n",
              "      <td>None</td>\n",
              "      <td>None</td>\n",
              "      <td>None</td>\n",
              "      <td>None</td>\n",
              "      <td>None</td>\n",
              "      <td>None</td>\n",
              "      <td>None</td>\n",
              "      <td>None</td>\n",
              "      <td>None</td>\n",
              "      <td>None</td>\n",
              "      <td>None</td>\n",
              "      <td>Cash</td>\n",
              "      <td>N</td>\n",
              "      <td>None</td>\n",
              "      <td>None</td>\n",
              "      <td>None</td>\n",
              "      <td>None</td>\n",
              "      <td>None</td>\n",
              "      <td>None</td>\n",
              "    </tr>\n",
              "    <tr>\n",
              "      <th>1</th>\n",
              "      <td>1</td>\n",
              "      <td>None</td>\n",
              "      <td>None</td>\n",
              "      <td>30000</td>\n",
              "      <td>30000</td>\n",
              "      <td>30000.0</td>\n",
              "      <td>60 months</td>\n",
              "      <td>18.94</td>\n",
              "      <td>777.23</td>\n",
              "      <td>D</td>\n",
              "      <td>D2</td>\n",
              "      <td>Postmaster</td>\n",
              "      <td>10+ years</td>\n",
              "      <td>MORTGAGE</td>\n",
              "      <td>90000.0</td>\n",
              "      <td>Source Verified</td>\n",
              "      <td>Dec-2018</td>\n",
              "      <td>Current</td>\n",
              "      <td>n</td>\n",
              "      <td>None</td>\n",
              "      <td>None</td>\n",
              "      <td>debt_consolidation</td>\n",
              "      <td>Debt consolidation</td>\n",
              "      <td>713xx</td>\n",
              "      <td>LA</td>\n",
              "      <td>26.52</td>\n",
              "      <td>0</td>\n",
              "      <td>Jun-1987</td>\n",
              "      <td>0</td>\n",
              "      <td>71.0</td>\n",
              "      <td>75.0</td>\n",
              "      <td>13</td>\n",
              "      <td>1</td>\n",
              "      <td>12315</td>\n",
              "      <td>24.2</td>\n",
              "      <td>44</td>\n",
              "      <td>w</td>\n",
              "      <td>29387.75</td>\n",
              "      <td>29387.75</td>\n",
              "      <td>1507.11</td>\n",
              "      <td>...</td>\n",
              "      <td>1</td>\n",
              "      <td>0</td>\n",
              "      <td>372872</td>\n",
              "      <td>99468</td>\n",
              "      <td>15000</td>\n",
              "      <td>94072</td>\n",
              "      <td>NaN</td>\n",
              "      <td>None</td>\n",
              "      <td>NaN</td>\n",
              "      <td>NaN</td>\n",
              "      <td>NaN</td>\n",
              "      <td>NaN</td>\n",
              "      <td>NaN</td>\n",
              "      <td>NaN</td>\n",
              "      <td>NaN</td>\n",
              "      <td>NaN</td>\n",
              "      <td>NaN</td>\n",
              "      <td>N</td>\n",
              "      <td>None</td>\n",
              "      <td>None</td>\n",
              "      <td>None</td>\n",
              "      <td>None</td>\n",
              "      <td>None</td>\n",
              "      <td>None</td>\n",
              "      <td>None</td>\n",
              "      <td>None</td>\n",
              "      <td>None</td>\n",
              "      <td>None</td>\n",
              "      <td>None</td>\n",
              "      <td>None</td>\n",
              "      <td>None</td>\n",
              "      <td>None</td>\n",
              "      <td>Cash</td>\n",
              "      <td>N</td>\n",
              "      <td>None</td>\n",
              "      <td>None</td>\n",
              "      <td>None</td>\n",
              "      <td>None</td>\n",
              "      <td>None</td>\n",
              "      <td>None</td>\n",
              "    </tr>\n",
              "    <tr>\n",
              "      <th>2</th>\n",
              "      <td>2</td>\n",
              "      <td>None</td>\n",
              "      <td>None</td>\n",
              "      <td>5000</td>\n",
              "      <td>5000</td>\n",
              "      <td>5000.0</td>\n",
              "      <td>36 months</td>\n",
              "      <td>17.97</td>\n",
              "      <td>180.69</td>\n",
              "      <td>D</td>\n",
              "      <td>D1</td>\n",
              "      <td>Administrative</td>\n",
              "      <td>6 years</td>\n",
              "      <td>MORTGAGE</td>\n",
              "      <td>59280.0</td>\n",
              "      <td>Source Verified</td>\n",
              "      <td>Dec-2018</td>\n",
              "      <td>Current</td>\n",
              "      <td>n</td>\n",
              "      <td>None</td>\n",
              "      <td>None</td>\n",
              "      <td>debt_consolidation</td>\n",
              "      <td>Debt consolidation</td>\n",
              "      <td>490xx</td>\n",
              "      <td>MI</td>\n",
              "      <td>10.51</td>\n",
              "      <td>0</td>\n",
              "      <td>Apr-2011</td>\n",
              "      <td>0</td>\n",
              "      <td>NaN</td>\n",
              "      <td>NaN</td>\n",
              "      <td>8</td>\n",
              "      <td>0</td>\n",
              "      <td>4599</td>\n",
              "      <td>19.1</td>\n",
              "      <td>13</td>\n",
              "      <td>w</td>\n",
              "      <td>4787.21</td>\n",
              "      <td>4787.21</td>\n",
              "      <td>353.89</td>\n",
              "      <td>...</td>\n",
              "      <td>0</td>\n",
              "      <td>0</td>\n",
              "      <td>136927</td>\n",
              "      <td>11749</td>\n",
              "      <td>13800</td>\n",
              "      <td>10000</td>\n",
              "      <td>NaN</td>\n",
              "      <td>None</td>\n",
              "      <td>NaN</td>\n",
              "      <td>NaN</td>\n",
              "      <td>NaN</td>\n",
              "      <td>NaN</td>\n",
              "      <td>NaN</td>\n",
              "      <td>NaN</td>\n",
              "      <td>NaN</td>\n",
              "      <td>NaN</td>\n",
              "      <td>NaN</td>\n",
              "      <td>N</td>\n",
              "      <td>None</td>\n",
              "      <td>None</td>\n",
              "      <td>None</td>\n",
              "      <td>None</td>\n",
              "      <td>None</td>\n",
              "      <td>None</td>\n",
              "      <td>None</td>\n",
              "      <td>None</td>\n",
              "      <td>None</td>\n",
              "      <td>None</td>\n",
              "      <td>None</td>\n",
              "      <td>None</td>\n",
              "      <td>None</td>\n",
              "      <td>None</td>\n",
              "      <td>Cash</td>\n",
              "      <td>N</td>\n",
              "      <td>None</td>\n",
              "      <td>None</td>\n",
              "      <td>None</td>\n",
              "      <td>None</td>\n",
              "      <td>None</td>\n",
              "      <td>None</td>\n",
              "    </tr>\n",
              "    <tr>\n",
              "      <th>3</th>\n",
              "      <td>3</td>\n",
              "      <td>None</td>\n",
              "      <td>None</td>\n",
              "      <td>4000</td>\n",
              "      <td>4000</td>\n",
              "      <td>4000.0</td>\n",
              "      <td>36 months</td>\n",
              "      <td>18.94</td>\n",
              "      <td>146.51</td>\n",
              "      <td>D</td>\n",
              "      <td>D2</td>\n",
              "      <td>IT Supervisor</td>\n",
              "      <td>10+ years</td>\n",
              "      <td>MORTGAGE</td>\n",
              "      <td>92000.0</td>\n",
              "      <td>Source Verified</td>\n",
              "      <td>Dec-2018</td>\n",
              "      <td>Current</td>\n",
              "      <td>n</td>\n",
              "      <td>None</td>\n",
              "      <td>None</td>\n",
              "      <td>debt_consolidation</td>\n",
              "      <td>Debt consolidation</td>\n",
              "      <td>985xx</td>\n",
              "      <td>WA</td>\n",
              "      <td>16.74</td>\n",
              "      <td>0</td>\n",
              "      <td>Feb-2006</td>\n",
              "      <td>0</td>\n",
              "      <td>NaN</td>\n",
              "      <td>NaN</td>\n",
              "      <td>10</td>\n",
              "      <td>0</td>\n",
              "      <td>5468</td>\n",
              "      <td>78.1</td>\n",
              "      <td>13</td>\n",
              "      <td>w</td>\n",
              "      <td>3831.93</td>\n",
              "      <td>3831.93</td>\n",
              "      <td>286.71</td>\n",
              "      <td>...</td>\n",
              "      <td>0</td>\n",
              "      <td>0</td>\n",
              "      <td>385183</td>\n",
              "      <td>36151</td>\n",
              "      <td>5000</td>\n",
              "      <td>44984</td>\n",
              "      <td>NaN</td>\n",
              "      <td>None</td>\n",
              "      <td>NaN</td>\n",
              "      <td>NaN</td>\n",
              "      <td>NaN</td>\n",
              "      <td>NaN</td>\n",
              "      <td>NaN</td>\n",
              "      <td>NaN</td>\n",
              "      <td>NaN</td>\n",
              "      <td>NaN</td>\n",
              "      <td>NaN</td>\n",
              "      <td>N</td>\n",
              "      <td>None</td>\n",
              "      <td>None</td>\n",
              "      <td>None</td>\n",
              "      <td>None</td>\n",
              "      <td>None</td>\n",
              "      <td>None</td>\n",
              "      <td>None</td>\n",
              "      <td>None</td>\n",
              "      <td>None</td>\n",
              "      <td>None</td>\n",
              "      <td>None</td>\n",
              "      <td>None</td>\n",
              "      <td>None</td>\n",
              "      <td>None</td>\n",
              "      <td>Cash</td>\n",
              "      <td>N</td>\n",
              "      <td>None</td>\n",
              "      <td>None</td>\n",
              "      <td>None</td>\n",
              "      <td>None</td>\n",
              "      <td>None</td>\n",
              "      <td>None</td>\n",
              "    </tr>\n",
              "    <tr>\n",
              "      <th>4</th>\n",
              "      <td>4</td>\n",
              "      <td>None</td>\n",
              "      <td>None</td>\n",
              "      <td>30000</td>\n",
              "      <td>30000</td>\n",
              "      <td>30000.0</td>\n",
              "      <td>60 months</td>\n",
              "      <td>16.14</td>\n",
              "      <td>731.78</td>\n",
              "      <td>C</td>\n",
              "      <td>C4</td>\n",
              "      <td>Mechanic</td>\n",
              "      <td>10+ years</td>\n",
              "      <td>MORTGAGE</td>\n",
              "      <td>57250.0</td>\n",
              "      <td>Not Verified</td>\n",
              "      <td>Dec-2018</td>\n",
              "      <td>Current</td>\n",
              "      <td>n</td>\n",
              "      <td>None</td>\n",
              "      <td>None</td>\n",
              "      <td>debt_consolidation</td>\n",
              "      <td>Debt consolidation</td>\n",
              "      <td>212xx</td>\n",
              "      <td>MD</td>\n",
              "      <td>26.35</td>\n",
              "      <td>0</td>\n",
              "      <td>Dec-2000</td>\n",
              "      <td>0</td>\n",
              "      <td>NaN</td>\n",
              "      <td>NaN</td>\n",
              "      <td>12</td>\n",
              "      <td>0</td>\n",
              "      <td>829</td>\n",
              "      <td>3.6</td>\n",
              "      <td>26</td>\n",
              "      <td>w</td>\n",
              "      <td>29339.02</td>\n",
              "      <td>29339.02</td>\n",
              "      <td>1423.21</td>\n",
              "      <td>...</td>\n",
              "      <td>0</td>\n",
              "      <td>0</td>\n",
              "      <td>157548</td>\n",
              "      <td>29674</td>\n",
              "      <td>9300</td>\n",
              "      <td>32332</td>\n",
              "      <td>NaN</td>\n",
              "      <td>None</td>\n",
              "      <td>NaN</td>\n",
              "      <td>NaN</td>\n",
              "      <td>NaN</td>\n",
              "      <td>NaN</td>\n",
              "      <td>NaN</td>\n",
              "      <td>NaN</td>\n",
              "      <td>NaN</td>\n",
              "      <td>NaN</td>\n",
              "      <td>NaN</td>\n",
              "      <td>N</td>\n",
              "      <td>None</td>\n",
              "      <td>None</td>\n",
              "      <td>None</td>\n",
              "      <td>None</td>\n",
              "      <td>None</td>\n",
              "      <td>None</td>\n",
              "      <td>None</td>\n",
              "      <td>None</td>\n",
              "      <td>None</td>\n",
              "      <td>None</td>\n",
              "      <td>None</td>\n",
              "      <td>None</td>\n",
              "      <td>None</td>\n",
              "      <td>None</td>\n",
              "      <td>Cash</td>\n",
              "      <td>N</td>\n",
              "      <td>None</td>\n",
              "      <td>None</td>\n",
              "      <td>None</td>\n",
              "      <td>None</td>\n",
              "      <td>None</td>\n",
              "      <td>None</td>\n",
              "    </tr>\n",
              "  </tbody>\n",
              "</table>\n",
              "<p>5 rows × 146 columns</p>\n",
              "</div>"
            ],
            "text/plain": [
              "   index    id  ... settlement_percentage  settlement_term\n",
              "0      0  None  ...                  None             None\n",
              "1      1  None  ...                  None             None\n",
              "2      2  None  ...                  None             None\n",
              "3      3  None  ...                  None             None\n",
              "4      4  None  ...                  None             None\n",
              "\n",
              "[5 rows x 146 columns]"
            ]
          },
          "metadata": {
            "tags": []
          },
          "execution_count": 38
        }
      ]
    },
    {
      "cell_type": "code",
      "metadata": {
        "id": "qLN3Ewh75NM6",
        "colab_type": "code",
        "colab": {
          "base_uri": "https://localhost:8080/",
          "height": 153
        },
        "outputId": "21129631-160d-4157-cfe4-004fdb0cec99"
      },
      "source": [
        "df.columns"
      ],
      "execution_count": 27,
      "outputs": [
        {
          "output_type": "execute_result",
          "data": {
            "text/plain": [
              "Index(['index', 'id', 'member_id', 'loan_amnt', 'funded_amnt',\n",
              "       'funded_amnt_inv', 'term', 'int_rate', 'installment', 'grade',\n",
              "       ...\n",
              "       'hardship_payoff_balance_amount', 'hardship_last_payment_amount',\n",
              "       'disbursement_method', 'debt_settlement_flag',\n",
              "       'debt_settlement_flag_date', 'settlement_status', 'settlement_date',\n",
              "       'settlement_amount', 'settlement_percentage', 'settlement_term'],\n",
              "      dtype='object', length=146)"
            ]
          },
          "metadata": {
            "tags": []
          },
          "execution_count": 27
        }
      ]
    },
    {
      "cell_type": "code",
      "metadata": {
        "id": "LN_a8bwv10wP",
        "colab_type": "code",
        "colab": {
          "base_uri": "https://localhost:8080/",
          "height": 355
        },
        "outputId": "8c838fdd-bba0-4b25-b1be-3438c51b429a"
      },
      "source": [
        "limit=30000\n",
        "df = pd.read_sql(\"SELECT * FROM %s LIMIT %s\" % (table_name,limit), conn)\n",
        "print(df.shape)\n",
        "df.head()"
      ],
      "execution_count": 31,
      "outputs": [
        {
          "output_type": "stream",
          "text": [
            "(30000, 146)\n"
          ],
          "name": "stdout"
        },
        {
          "output_type": "execute_result",
          "data": {
            "text/html": [
              "<div>\n",
              "<style scoped>\n",
              "    .dataframe tbody tr th:only-of-type {\n",
              "        vertical-align: middle;\n",
              "    }\n",
              "\n",
              "    .dataframe tbody tr th {\n",
              "        vertical-align: top;\n",
              "    }\n",
              "\n",
              "    .dataframe thead th {\n",
              "        text-align: right;\n",
              "    }\n",
              "</style>\n",
              "<table border=\"1\" class=\"dataframe\">\n",
              "  <thead>\n",
              "    <tr style=\"text-align: right;\">\n",
              "      <th></th>\n",
              "      <th>index</th>\n",
              "      <th>id</th>\n",
              "      <th>member_id</th>\n",
              "      <th>loan_amnt</th>\n",
              "      <th>funded_amnt</th>\n",
              "      <th>funded_amnt_inv</th>\n",
              "      <th>term</th>\n",
              "      <th>int_rate</th>\n",
              "      <th>installment</th>\n",
              "      <th>grade</th>\n",
              "      <th>sub_grade</th>\n",
              "      <th>emp_title</th>\n",
              "      <th>emp_length</th>\n",
              "      <th>home_ownership</th>\n",
              "      <th>annual_inc</th>\n",
              "      <th>verification_status</th>\n",
              "      <th>issue_d</th>\n",
              "      <th>loan_status</th>\n",
              "      <th>pymnt_plan</th>\n",
              "      <th>url</th>\n",
              "      <th>desc</th>\n",
              "      <th>purpose</th>\n",
              "      <th>title</th>\n",
              "      <th>zip_code</th>\n",
              "      <th>addr_state</th>\n",
              "      <th>dti</th>\n",
              "      <th>delinq_2yrs</th>\n",
              "      <th>earliest_cr_line</th>\n",
              "      <th>inq_last_6mths</th>\n",
              "      <th>mths_since_last_delinq</th>\n",
              "      <th>mths_since_last_record</th>\n",
              "      <th>open_acc</th>\n",
              "      <th>pub_rec</th>\n",
              "      <th>revol_bal</th>\n",
              "      <th>revol_util</th>\n",
              "      <th>total_acc</th>\n",
              "      <th>initial_list_status</th>\n",
              "      <th>out_prncp</th>\n",
              "      <th>out_prncp_inv</th>\n",
              "      <th>total_pymnt</th>\n",
              "      <th>...</th>\n",
              "      <th>pub_rec_bankruptcies</th>\n",
              "      <th>tax_liens</th>\n",
              "      <th>tot_hi_cred_lim</th>\n",
              "      <th>total_bal_ex_mort</th>\n",
              "      <th>total_bc_limit</th>\n",
              "      <th>total_il_high_credit_limit</th>\n",
              "      <th>revol_bal_joint</th>\n",
              "      <th>sec_app_earliest_cr_line</th>\n",
              "      <th>sec_app_inq_last_6mths</th>\n",
              "      <th>sec_app_mort_acc</th>\n",
              "      <th>sec_app_open_acc</th>\n",
              "      <th>sec_app_revol_util</th>\n",
              "      <th>sec_app_open_act_il</th>\n",
              "      <th>sec_app_num_rev_accts</th>\n",
              "      <th>sec_app_chargeoff_within_12_mths</th>\n",
              "      <th>sec_app_collections_12_mths_ex_med</th>\n",
              "      <th>sec_app_mths_since_last_major_derog</th>\n",
              "      <th>hardship_flag</th>\n",
              "      <th>hardship_type</th>\n",
              "      <th>hardship_reason</th>\n",
              "      <th>hardship_status</th>\n",
              "      <th>deferral_term</th>\n",
              "      <th>hardship_amount</th>\n",
              "      <th>hardship_start_date</th>\n",
              "      <th>hardship_end_date</th>\n",
              "      <th>payment_plan_start_date</th>\n",
              "      <th>hardship_length</th>\n",
              "      <th>hardship_dpd</th>\n",
              "      <th>hardship_loan_status</th>\n",
              "      <th>orig_projected_additional_accrued_interest</th>\n",
              "      <th>hardship_payoff_balance_amount</th>\n",
              "      <th>hardship_last_payment_amount</th>\n",
              "      <th>disbursement_method</th>\n",
              "      <th>debt_settlement_flag</th>\n",
              "      <th>debt_settlement_flag_date</th>\n",
              "      <th>settlement_status</th>\n",
              "      <th>settlement_date</th>\n",
              "      <th>settlement_amount</th>\n",
              "      <th>settlement_percentage</th>\n",
              "      <th>settlement_term</th>\n",
              "    </tr>\n",
              "  </thead>\n",
              "  <tbody>\n",
              "    <tr>\n",
              "      <th>0</th>\n",
              "      <td>0</td>\n",
              "      <td>None</td>\n",
              "      <td>None</td>\n",
              "      <td>2500</td>\n",
              "      <td>2500</td>\n",
              "      <td>2500.0</td>\n",
              "      <td>36 months</td>\n",
              "      <td>13.56</td>\n",
              "      <td>84.92</td>\n",
              "      <td>C</td>\n",
              "      <td>C1</td>\n",
              "      <td>Chef</td>\n",
              "      <td>10+ years</td>\n",
              "      <td>RENT</td>\n",
              "      <td>55000.0</td>\n",
              "      <td>Not Verified</td>\n",
              "      <td>Dec-2018</td>\n",
              "      <td>Current</td>\n",
              "      <td>n</td>\n",
              "      <td>None</td>\n",
              "      <td>None</td>\n",
              "      <td>debt_consolidation</td>\n",
              "      <td>Debt consolidation</td>\n",
              "      <td>109xx</td>\n",
              "      <td>NY</td>\n",
              "      <td>18.24</td>\n",
              "      <td>0</td>\n",
              "      <td>Apr-2001</td>\n",
              "      <td>1</td>\n",
              "      <td>NaN</td>\n",
              "      <td>45.0</td>\n",
              "      <td>9</td>\n",
              "      <td>1</td>\n",
              "      <td>4341</td>\n",
              "      <td>10.3</td>\n",
              "      <td>34</td>\n",
              "      <td>w</td>\n",
              "      <td>2386.02</td>\n",
              "      <td>2386.02</td>\n",
              "      <td>167.02</td>\n",
              "      <td>...</td>\n",
              "      <td>1</td>\n",
              "      <td>0</td>\n",
              "      <td>60124</td>\n",
              "      <td>16901</td>\n",
              "      <td>36500</td>\n",
              "      <td>18124</td>\n",
              "      <td>NaN</td>\n",
              "      <td>None</td>\n",
              "      <td>NaN</td>\n",
              "      <td>NaN</td>\n",
              "      <td>NaN</td>\n",
              "      <td>NaN</td>\n",
              "      <td>NaN</td>\n",
              "      <td>NaN</td>\n",
              "      <td>NaN</td>\n",
              "      <td>NaN</td>\n",
              "      <td>NaN</td>\n",
              "      <td>N</td>\n",
              "      <td>None</td>\n",
              "      <td>None</td>\n",
              "      <td>None</td>\n",
              "      <td>None</td>\n",
              "      <td>None</td>\n",
              "      <td>None</td>\n",
              "      <td>None</td>\n",
              "      <td>None</td>\n",
              "      <td>None</td>\n",
              "      <td>None</td>\n",
              "      <td>None</td>\n",
              "      <td>None</td>\n",
              "      <td>None</td>\n",
              "      <td>None</td>\n",
              "      <td>Cash</td>\n",
              "      <td>N</td>\n",
              "      <td>None</td>\n",
              "      <td>None</td>\n",
              "      <td>None</td>\n",
              "      <td>None</td>\n",
              "      <td>None</td>\n",
              "      <td>None</td>\n",
              "    </tr>\n",
              "    <tr>\n",
              "      <th>1</th>\n",
              "      <td>1</td>\n",
              "      <td>None</td>\n",
              "      <td>None</td>\n",
              "      <td>30000</td>\n",
              "      <td>30000</td>\n",
              "      <td>30000.0</td>\n",
              "      <td>60 months</td>\n",
              "      <td>18.94</td>\n",
              "      <td>777.23</td>\n",
              "      <td>D</td>\n",
              "      <td>D2</td>\n",
              "      <td>Postmaster</td>\n",
              "      <td>10+ years</td>\n",
              "      <td>MORTGAGE</td>\n",
              "      <td>90000.0</td>\n",
              "      <td>Source Verified</td>\n",
              "      <td>Dec-2018</td>\n",
              "      <td>Current</td>\n",
              "      <td>n</td>\n",
              "      <td>None</td>\n",
              "      <td>None</td>\n",
              "      <td>debt_consolidation</td>\n",
              "      <td>Debt consolidation</td>\n",
              "      <td>713xx</td>\n",
              "      <td>LA</td>\n",
              "      <td>26.52</td>\n",
              "      <td>0</td>\n",
              "      <td>Jun-1987</td>\n",
              "      <td>0</td>\n",
              "      <td>71.0</td>\n",
              "      <td>75.0</td>\n",
              "      <td>13</td>\n",
              "      <td>1</td>\n",
              "      <td>12315</td>\n",
              "      <td>24.2</td>\n",
              "      <td>44</td>\n",
              "      <td>w</td>\n",
              "      <td>29387.75</td>\n",
              "      <td>29387.75</td>\n",
              "      <td>1507.11</td>\n",
              "      <td>...</td>\n",
              "      <td>1</td>\n",
              "      <td>0</td>\n",
              "      <td>372872</td>\n",
              "      <td>99468</td>\n",
              "      <td>15000</td>\n",
              "      <td>94072</td>\n",
              "      <td>NaN</td>\n",
              "      <td>None</td>\n",
              "      <td>NaN</td>\n",
              "      <td>NaN</td>\n",
              "      <td>NaN</td>\n",
              "      <td>NaN</td>\n",
              "      <td>NaN</td>\n",
              "      <td>NaN</td>\n",
              "      <td>NaN</td>\n",
              "      <td>NaN</td>\n",
              "      <td>NaN</td>\n",
              "      <td>N</td>\n",
              "      <td>None</td>\n",
              "      <td>None</td>\n",
              "      <td>None</td>\n",
              "      <td>None</td>\n",
              "      <td>None</td>\n",
              "      <td>None</td>\n",
              "      <td>None</td>\n",
              "      <td>None</td>\n",
              "      <td>None</td>\n",
              "      <td>None</td>\n",
              "      <td>None</td>\n",
              "      <td>None</td>\n",
              "      <td>None</td>\n",
              "      <td>None</td>\n",
              "      <td>Cash</td>\n",
              "      <td>N</td>\n",
              "      <td>None</td>\n",
              "      <td>None</td>\n",
              "      <td>None</td>\n",
              "      <td>None</td>\n",
              "      <td>None</td>\n",
              "      <td>None</td>\n",
              "    </tr>\n",
              "    <tr>\n",
              "      <th>2</th>\n",
              "      <td>2</td>\n",
              "      <td>None</td>\n",
              "      <td>None</td>\n",
              "      <td>5000</td>\n",
              "      <td>5000</td>\n",
              "      <td>5000.0</td>\n",
              "      <td>36 months</td>\n",
              "      <td>17.97</td>\n",
              "      <td>180.69</td>\n",
              "      <td>D</td>\n",
              "      <td>D1</td>\n",
              "      <td>Administrative</td>\n",
              "      <td>6 years</td>\n",
              "      <td>MORTGAGE</td>\n",
              "      <td>59280.0</td>\n",
              "      <td>Source Verified</td>\n",
              "      <td>Dec-2018</td>\n",
              "      <td>Current</td>\n",
              "      <td>n</td>\n",
              "      <td>None</td>\n",
              "      <td>None</td>\n",
              "      <td>debt_consolidation</td>\n",
              "      <td>Debt consolidation</td>\n",
              "      <td>490xx</td>\n",
              "      <td>MI</td>\n",
              "      <td>10.51</td>\n",
              "      <td>0</td>\n",
              "      <td>Apr-2011</td>\n",
              "      <td>0</td>\n",
              "      <td>NaN</td>\n",
              "      <td>NaN</td>\n",
              "      <td>8</td>\n",
              "      <td>0</td>\n",
              "      <td>4599</td>\n",
              "      <td>19.1</td>\n",
              "      <td>13</td>\n",
              "      <td>w</td>\n",
              "      <td>4787.21</td>\n",
              "      <td>4787.21</td>\n",
              "      <td>353.89</td>\n",
              "      <td>...</td>\n",
              "      <td>0</td>\n",
              "      <td>0</td>\n",
              "      <td>136927</td>\n",
              "      <td>11749</td>\n",
              "      <td>13800</td>\n",
              "      <td>10000</td>\n",
              "      <td>NaN</td>\n",
              "      <td>None</td>\n",
              "      <td>NaN</td>\n",
              "      <td>NaN</td>\n",
              "      <td>NaN</td>\n",
              "      <td>NaN</td>\n",
              "      <td>NaN</td>\n",
              "      <td>NaN</td>\n",
              "      <td>NaN</td>\n",
              "      <td>NaN</td>\n",
              "      <td>NaN</td>\n",
              "      <td>N</td>\n",
              "      <td>None</td>\n",
              "      <td>None</td>\n",
              "      <td>None</td>\n",
              "      <td>None</td>\n",
              "      <td>None</td>\n",
              "      <td>None</td>\n",
              "      <td>None</td>\n",
              "      <td>None</td>\n",
              "      <td>None</td>\n",
              "      <td>None</td>\n",
              "      <td>None</td>\n",
              "      <td>None</td>\n",
              "      <td>None</td>\n",
              "      <td>None</td>\n",
              "      <td>Cash</td>\n",
              "      <td>N</td>\n",
              "      <td>None</td>\n",
              "      <td>None</td>\n",
              "      <td>None</td>\n",
              "      <td>None</td>\n",
              "      <td>None</td>\n",
              "      <td>None</td>\n",
              "    </tr>\n",
              "    <tr>\n",
              "      <th>3</th>\n",
              "      <td>3</td>\n",
              "      <td>None</td>\n",
              "      <td>None</td>\n",
              "      <td>4000</td>\n",
              "      <td>4000</td>\n",
              "      <td>4000.0</td>\n",
              "      <td>36 months</td>\n",
              "      <td>18.94</td>\n",
              "      <td>146.51</td>\n",
              "      <td>D</td>\n",
              "      <td>D2</td>\n",
              "      <td>IT Supervisor</td>\n",
              "      <td>10+ years</td>\n",
              "      <td>MORTGAGE</td>\n",
              "      <td>92000.0</td>\n",
              "      <td>Source Verified</td>\n",
              "      <td>Dec-2018</td>\n",
              "      <td>Current</td>\n",
              "      <td>n</td>\n",
              "      <td>None</td>\n",
              "      <td>None</td>\n",
              "      <td>debt_consolidation</td>\n",
              "      <td>Debt consolidation</td>\n",
              "      <td>985xx</td>\n",
              "      <td>WA</td>\n",
              "      <td>16.74</td>\n",
              "      <td>0</td>\n",
              "      <td>Feb-2006</td>\n",
              "      <td>0</td>\n",
              "      <td>NaN</td>\n",
              "      <td>NaN</td>\n",
              "      <td>10</td>\n",
              "      <td>0</td>\n",
              "      <td>5468</td>\n",
              "      <td>78.1</td>\n",
              "      <td>13</td>\n",
              "      <td>w</td>\n",
              "      <td>3831.93</td>\n",
              "      <td>3831.93</td>\n",
              "      <td>286.71</td>\n",
              "      <td>...</td>\n",
              "      <td>0</td>\n",
              "      <td>0</td>\n",
              "      <td>385183</td>\n",
              "      <td>36151</td>\n",
              "      <td>5000</td>\n",
              "      <td>44984</td>\n",
              "      <td>NaN</td>\n",
              "      <td>None</td>\n",
              "      <td>NaN</td>\n",
              "      <td>NaN</td>\n",
              "      <td>NaN</td>\n",
              "      <td>NaN</td>\n",
              "      <td>NaN</td>\n",
              "      <td>NaN</td>\n",
              "      <td>NaN</td>\n",
              "      <td>NaN</td>\n",
              "      <td>NaN</td>\n",
              "      <td>N</td>\n",
              "      <td>None</td>\n",
              "      <td>None</td>\n",
              "      <td>None</td>\n",
              "      <td>None</td>\n",
              "      <td>None</td>\n",
              "      <td>None</td>\n",
              "      <td>None</td>\n",
              "      <td>None</td>\n",
              "      <td>None</td>\n",
              "      <td>None</td>\n",
              "      <td>None</td>\n",
              "      <td>None</td>\n",
              "      <td>None</td>\n",
              "      <td>None</td>\n",
              "      <td>Cash</td>\n",
              "      <td>N</td>\n",
              "      <td>None</td>\n",
              "      <td>None</td>\n",
              "      <td>None</td>\n",
              "      <td>None</td>\n",
              "      <td>None</td>\n",
              "      <td>None</td>\n",
              "    </tr>\n",
              "    <tr>\n",
              "      <th>4</th>\n",
              "      <td>4</td>\n",
              "      <td>None</td>\n",
              "      <td>None</td>\n",
              "      <td>30000</td>\n",
              "      <td>30000</td>\n",
              "      <td>30000.0</td>\n",
              "      <td>60 months</td>\n",
              "      <td>16.14</td>\n",
              "      <td>731.78</td>\n",
              "      <td>C</td>\n",
              "      <td>C4</td>\n",
              "      <td>Mechanic</td>\n",
              "      <td>10+ years</td>\n",
              "      <td>MORTGAGE</td>\n",
              "      <td>57250.0</td>\n",
              "      <td>Not Verified</td>\n",
              "      <td>Dec-2018</td>\n",
              "      <td>Current</td>\n",
              "      <td>n</td>\n",
              "      <td>None</td>\n",
              "      <td>None</td>\n",
              "      <td>debt_consolidation</td>\n",
              "      <td>Debt consolidation</td>\n",
              "      <td>212xx</td>\n",
              "      <td>MD</td>\n",
              "      <td>26.35</td>\n",
              "      <td>0</td>\n",
              "      <td>Dec-2000</td>\n",
              "      <td>0</td>\n",
              "      <td>NaN</td>\n",
              "      <td>NaN</td>\n",
              "      <td>12</td>\n",
              "      <td>0</td>\n",
              "      <td>829</td>\n",
              "      <td>3.6</td>\n",
              "      <td>26</td>\n",
              "      <td>w</td>\n",
              "      <td>29339.02</td>\n",
              "      <td>29339.02</td>\n",
              "      <td>1423.21</td>\n",
              "      <td>...</td>\n",
              "      <td>0</td>\n",
              "      <td>0</td>\n",
              "      <td>157548</td>\n",
              "      <td>29674</td>\n",
              "      <td>9300</td>\n",
              "      <td>32332</td>\n",
              "      <td>NaN</td>\n",
              "      <td>None</td>\n",
              "      <td>NaN</td>\n",
              "      <td>NaN</td>\n",
              "      <td>NaN</td>\n",
              "      <td>NaN</td>\n",
              "      <td>NaN</td>\n",
              "      <td>NaN</td>\n",
              "      <td>NaN</td>\n",
              "      <td>NaN</td>\n",
              "      <td>NaN</td>\n",
              "      <td>N</td>\n",
              "      <td>None</td>\n",
              "      <td>None</td>\n",
              "      <td>None</td>\n",
              "      <td>None</td>\n",
              "      <td>None</td>\n",
              "      <td>None</td>\n",
              "      <td>None</td>\n",
              "      <td>None</td>\n",
              "      <td>None</td>\n",
              "      <td>None</td>\n",
              "      <td>None</td>\n",
              "      <td>None</td>\n",
              "      <td>None</td>\n",
              "      <td>None</td>\n",
              "      <td>Cash</td>\n",
              "      <td>N</td>\n",
              "      <td>None</td>\n",
              "      <td>None</td>\n",
              "      <td>None</td>\n",
              "      <td>None</td>\n",
              "      <td>None</td>\n",
              "      <td>None</td>\n",
              "    </tr>\n",
              "  </tbody>\n",
              "</table>\n",
              "<p>5 rows × 146 columns</p>\n",
              "</div>"
            ],
            "text/plain": [
              "   index    id  ... settlement_percentage  settlement_term\n",
              "0      0  None  ...                  None             None\n",
              "1      1  None  ...                  None             None\n",
              "2      2  None  ...                  None             None\n",
              "3      3  None  ...                  None             None\n",
              "4      4  None  ...                  None             None\n",
              "\n",
              "[5 rows x 146 columns]"
            ]
          },
          "metadata": {
            "tags": []
          },
          "execution_count": 31
        }
      ]
    },
    {
      "cell_type": "code",
      "metadata": {
        "id": "pS_k4Ksn44Cf",
        "colab_type": "code",
        "colab": {
          "base_uri": "https://localhost:8080/",
          "height": 34
        },
        "outputId": "e2bed472-3803-4882-91d9-1a5a9fd5dec3"
      },
      "source": [
        ""
      ],
      "execution_count": 37,
      "outputs": [
        {
          "output_type": "stream",
          "text": [
            "number of rows:  2260668\n"
          ],
          "name": "stdout"
        }
      ]
    },
    {
      "cell_type": "code",
      "metadata": {
        "id": "2aVxjvjC6VW2",
        "colab_type": "code",
        "colab": {}
      },
      "source": [
        ""
      ],
      "execution_count": null,
      "outputs": []
    }
  ]
}