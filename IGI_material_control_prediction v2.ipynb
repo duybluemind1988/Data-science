{
  "nbformat": 4,
  "nbformat_minor": 0,
  "metadata": {
    "kernelspec": {
      "name": "python3",
      "display_name": "Python 3",
      "language": "python"
    },
    "language_info": {
      "mimetype": "text/x-python",
      "nbconvert_exporter": "python",
      "name": "python",
      "pygments_lexer": "ipython3",
      "version": "3.5.4",
      "file_extension": ".py",
      "codemirror_mode": {
        "version": 3,
        "name": "ipython"
      }
    },
    "colab": {
      "name": "IGI_material_control_prediction.ipynb",
      "provenance": [],
      "collapsed_sections": [],
      "include_colab_link": true
    }
  },
  "cells": [
    {
      "cell_type": "markdown",
      "metadata": {
        "id": "view-in-github",
        "colab_type": "text"
      },
      "source": [
        "<a href=\"https://colab.research.google.com/github/duybluemind1988/Data-science/blob/master/IGI_material_control_prediction%20v2.ipynb\" target=\"_parent\"><img src=\"https://colab.research.google.com/assets/colab-badge.svg\" alt=\"Open In Colab\"/></a>"
      ]
    },
    {
      "cell_type": "code",
      "metadata": {
        "id": "ZMhENEMc3g9y",
        "colab_type": "code",
        "colab": {}
      },
      "source": [
        ""
      ],
      "execution_count": 108,
      "outputs": []
    },
    {
      "cell_type": "code",
      "metadata": {
        "jupyter": {},
        "trusted": false,
        "id": "2TNQ3e-OZ7ll",
        "colab_type": "code",
        "colab": {}
      },
      "source": [
        "#!pip install altair_viewer #Need to install this package"
      ],
      "execution_count": 109,
      "outputs": []
    },
    {
      "cell_type": "code",
      "metadata": {
        "id": "N4f5Cj05oRin",
        "colab_type": "code",
        "colab": {}
      },
      "source": [
        "#!pip install jupyter altair vega #No need to install this package"
      ],
      "execution_count": 110,
      "outputs": []
    },
    {
      "cell_type": "code",
      "metadata": {
        "id": "aq4NBAoTZAV8",
        "colab_type": "code",
        "colab": {
          "base_uri": "https://localhost:8080/",
          "height": 68
        },
        "outputId": "d4d9b7d2-4c89-4acf-c105-2b04e50cf17d"
      },
      "source": [
        "# VERY IMPORTANT INFORMATION\n",
        "print('Please input number of feature')\n",
        "feature_num=5\n",
        "print('Please input number of sample inspection')\n",
        "sample_num=5\n",
        "print('Please input position of sample value')\n",
        "namefile='MMD2019'\n"
      ],
      "execution_count": 111,
      "outputs": [
        {
          "output_type": "stream",
          "text": [
            "Please input number of feature\n",
            "Please input number of sample inspection\n",
            "Please input position of sample value\n"
          ],
          "name": "stdout"
        }
      ]
    },
    {
      "cell_type": "code",
      "metadata": {
        "id": "4nSgR7tdm2RR",
        "colab_type": "code",
        "colab": {}
      },
      "source": [
        "import datetime\n",
        "import seaborn as sns; sns.set()\n",
        "import pandas as pd\n",
        "import numpy as np\n",
        "import matplotlib.pyplot as plt\n",
        "\n",
        "import plotly.graph_objects as go\n",
        "from plotly.subplots import make_subplots\n",
        "import plotly.express as px\n",
        "from plotly.offline import iplot\n",
        "import pandas as pd\n",
        "import re\n",
        "import altair as alt\n",
        "\n",
        "from statsmodels.tsa.arima_model import ARIMA\n",
        "import statsmodels.api as sm\n",
        "from statsmodels.graphics.tsaplots import plot_acf\n",
        "from statsmodels.stats.diagnostic import acorr_ljungbox\n",
        "import scipy.stats as scs\n",
        "from math import sqrt\n",
        "from sklearn.metrics import mean_squared_error,mean_absolute_error\n",
        "from sklearn.model_selection import train_test_split\n",
        "from sklearn.preprocessing import MinMaxScaler,StandardScaler"
      ],
      "execution_count": 112,
      "outputs": []
    },
    {
      "cell_type": "code",
      "metadata": {
        "id": "JygC8Ta5D3MP",
        "colab_type": "code",
        "colab": {}
      },
      "source": [
        "#alt.renderers.enable('notebook')\n",
        "#alt.renderers.enable('mimetype')"
      ],
      "execution_count": 113,
      "outputs": []
    },
    {
      "cell_type": "code",
      "metadata": {
        "jupyter": {},
        "scrolled": true,
        "trusted": false,
        "id": "VuwXOx_IZ7lx",
        "colab_type": "code",
        "colab": {
          "base_uri": "https://localhost:8080/",
          "height": 35
        },
        "outputId": "9a5e80f0-cf8c-4fbd-a94c-6f9fe8c818b7"
      },
      "source": [
        "import os\n",
        "os.getcwd()"
      ],
      "execution_count": 114,
      "outputs": [
        {
          "output_type": "execute_result",
          "data": {
            "application/vnd.google.colaboratory.intrinsic+json": {
              "type": "string"
            },
            "text/plain": [
              "'/content'"
            ]
          },
          "metadata": {
            "tags": []
          },
          "execution_count": 114
        }
      ]
    },
    {
      "cell_type": "code",
      "metadata": {
        "jupyter": {},
        "trusted": false,
        "id": "UpKpM4btZ7l8",
        "colab_type": "code",
        "colab": {}
      },
      "source": [
        "path='/content/drive/My Drive/Data/IGI material Membrane 2019/'\n",
        "#path='/content/drive/My Drive/Data science/Sonion project/IGI material Armature/'\n",
        "#path1='/content/drive/My Drive/Data/MMD 2019/'\n",
        "#path2='/content/drive/My Drive/Data/MMD 2018/'"
      ],
      "execution_count": 115,
      "outputs": []
    },
    {
      "cell_type": "code",
      "metadata": {
        "id": "CdGkiB912oHg",
        "colab_type": "code",
        "colab": {
          "base_uri": "https://localhost:8080/",
          "height": 54
        },
        "outputId": "8f73a278-6526-4a4d-c228-f842324006ac"
      },
      "source": [
        "from google.colab import drive\n",
        "drive.mount('/content/drive')"
      ],
      "execution_count": 116,
      "outputs": [
        {
          "output_type": "stream",
          "text": [
            "Drive already mounted at /content/drive; to attempt to forcibly remount, call drive.mount(\"/content/drive\", force_remount=True).\n"
          ],
          "name": "stdout"
        }
      ]
    },
    {
      "cell_type": "markdown",
      "metadata": {
        "id": "Y2HlTJydH52E",
        "colab_type": "text"
      },
      "source": [
        "### read all excel file and sort  by day"
      ]
    },
    {
      "cell_type": "code",
      "metadata": {
        "jupyter": {},
        "trusted": false,
        "id": "uy2s1BEDZ7mr",
        "colab_type": "code",
        "colab": {
          "base_uri": "https://localhost:8080/",
          "height": 34
        },
        "outputId": "50d2facc-cde9-4d42-936f-c649257e735d"
      },
      "source": [
        "import glob\n",
        "#print(path)\n",
        "all_files1=glob.glob(path + '*.xlsx')\n",
        "all_files2=glob.glob(path + '*.xlsm')\n",
        "all_files=all_files1+all_files2\n",
        "#sort file in directory by reverse:\n",
        "all_files = sorted(all_files, reverse = False)\n",
        "print('number of files: ',len(all_files))"
      ],
      "execution_count": 117,
      "outputs": [
        {
          "output_type": "stream",
          "text": [
            "number of files:  29\n"
          ],
          "name": "stdout"
        }
      ]
    },
    {
      "cell_type": "markdown",
      "metadata": {
        "id": "2f5dUwV1ISOF",
        "colab_type": "text"
      },
      "source": [
        "### Initial number of feature and sample:"
      ]
    },
    {
      "cell_type": "markdown",
      "metadata": {
        "id": "Katnq8DygEj0",
        "colab_type": "text"
      },
      "source": [
        "### add all dataframe to list of dataframe:"
      ]
    },
    {
      "cell_type": "code",
      "metadata": {
        "id": "CAyq344uIHIQ",
        "colab_type": "code",
        "colab": {
          "base_uri": "https://localhost:8080/",
          "height": 538
        },
        "outputId": "e1c8b11e-7720-453e-bc80-145f05f99a66"
      },
      "source": [
        "finaldf=pd.DataFrame()\n",
        "for filename in all_files:\n",
        "    df = pd.read_excel(filename, index_col = None, header = 0)\n",
        "    #Create data frame feature values(newdf)\n",
        "    newdf=pd.DataFrame()\n",
        "    for i in range(feature_num+1)[1:]:\n",
        "      df_feature= df['Unnamed: '+str(i)][19:(19+sample_num)] #must be = 19 + sample_num /24 la mac dinh\n",
        "      df_feature=df_feature.reset_index(drop=True)\n",
        "      newdf=pd.concat([newdf,df_feature],axis=1)\n",
        "    #print(newdf)  \n",
        "\n",
        "    #Date transform:\n",
        "    a=df[['Unnamed: 7']][3:4] #object type - normal is [2:3]\n",
        "    if a.isna().values:\n",
        "      a=df[['Unnamed: 7']][2:3]\n",
        "      date = a.values[0][0] #timestamp type\n",
        "    else:\n",
        "      date = a.values[0][0] #timestamp type\n",
        "    if isinstance(date, str):\n",
        "      continue\n",
        "    #Create series date column (row = number of value to record, default = 5)\n",
        "    date=pd.Series(date)\n",
        "    datedf=pd.DataFrame()\n",
        "    for i in range(sample_num):\n",
        "      datedf=pd.concat([datedf,date],axis=0)\n",
        "\n",
        "    datedf.reset_index(drop=True, inplace=True)\n",
        "    newdf.reset_index(drop=True, inplace=True)\n",
        "    df_combine=pd.concat([datedf,newdf],axis=1) # combine date and features\n",
        "\n",
        "    #combine all df each filename:\n",
        "    \n",
        "    finaldf=pd.concat([finaldf,df_combine],axis=0)\n",
        "print(finaldf.isnull().sum())\n",
        "finaldf.reset_index(drop=True,inplace=True)\n",
        "finaldf.sort_values(by=finaldf.columns[0])\n",
        "finaldf"
      ],
      "execution_count": 118,
      "outputs": [
        {
          "output_type": "stream",
          "text": [
            "0             0\n",
            "Unnamed: 1    0\n",
            "Unnamed: 2    0\n",
            "Unnamed: 3    0\n",
            "Unnamed: 4    0\n",
            "Unnamed: 5    0\n",
            "dtype: int64\n"
          ],
          "name": "stdout"
        },
        {
          "output_type": "execute_result",
          "data": {
            "text/html": [
              "<div>\n",
              "<style scoped>\n",
              "    .dataframe tbody tr th:only-of-type {\n",
              "        vertical-align: middle;\n",
              "    }\n",
              "\n",
              "    .dataframe tbody tr th {\n",
              "        vertical-align: top;\n",
              "    }\n",
              "\n",
              "    .dataframe thead th {\n",
              "        text-align: right;\n",
              "    }\n",
              "</style>\n",
              "<table border=\"1\" class=\"dataframe\">\n",
              "  <thead>\n",
              "    <tr style=\"text-align: right;\">\n",
              "      <th></th>\n",
              "      <th>0</th>\n",
              "      <th>Unnamed: 1</th>\n",
              "      <th>Unnamed: 2</th>\n",
              "      <th>Unnamed: 3</th>\n",
              "      <th>Unnamed: 4</th>\n",
              "      <th>Unnamed: 5</th>\n",
              "    </tr>\n",
              "  </thead>\n",
              "  <tbody>\n",
              "    <tr>\n",
              "      <th>0</th>\n",
              "      <td>2019-01-11</td>\n",
              "      <td>10.003</td>\n",
              "      <td>1.219</td>\n",
              "      <td>3.197</td>\n",
              "      <td>11.855</td>\n",
              "      <td>0.31</td>\n",
              "    </tr>\n",
              "    <tr>\n",
              "      <th>1</th>\n",
              "      <td>2019-01-11</td>\n",
              "      <td>10.005</td>\n",
              "      <td>1.219</td>\n",
              "      <td>3.19</td>\n",
              "      <td>11.855</td>\n",
              "      <td>0.31</td>\n",
              "    </tr>\n",
              "    <tr>\n",
              "      <th>2</th>\n",
              "      <td>2019-01-11</td>\n",
              "      <td>10.005</td>\n",
              "      <td>1.219</td>\n",
              "      <td>3.194</td>\n",
              "      <td>11.852</td>\n",
              "      <td>0.31</td>\n",
              "    </tr>\n",
              "    <tr>\n",
              "      <th>3</th>\n",
              "      <td>2019-01-11</td>\n",
              "      <td>10.002</td>\n",
              "      <td>1.218</td>\n",
              "      <td>3.198</td>\n",
              "      <td>11.855</td>\n",
              "      <td>0.311</td>\n",
              "    </tr>\n",
              "    <tr>\n",
              "      <th>4</th>\n",
              "      <td>2019-01-11</td>\n",
              "      <td>10.003</td>\n",
              "      <td>1.219</td>\n",
              "      <td>3.19</td>\n",
              "      <td>11.85</td>\n",
              "      <td>0.31</td>\n",
              "    </tr>\n",
              "    <tr>\n",
              "      <th>...</th>\n",
              "      <td>...</td>\n",
              "      <td>...</td>\n",
              "      <td>...</td>\n",
              "      <td>...</td>\n",
              "      <td>...</td>\n",
              "      <td>...</td>\n",
              "    </tr>\n",
              "    <tr>\n",
              "      <th>140</th>\n",
              "      <td>2019-12-31</td>\n",
              "      <td>9.991</td>\n",
              "      <td>1.218</td>\n",
              "      <td>3.199</td>\n",
              "      <td>11.85</td>\n",
              "      <td>0.313</td>\n",
              "    </tr>\n",
              "    <tr>\n",
              "      <th>141</th>\n",
              "      <td>2019-12-31</td>\n",
              "      <td>9.999</td>\n",
              "      <td>1.218</td>\n",
              "      <td>3.204</td>\n",
              "      <td>11.849</td>\n",
              "      <td>0.314</td>\n",
              "    </tr>\n",
              "    <tr>\n",
              "      <th>142</th>\n",
              "      <td>2019-12-31</td>\n",
              "      <td>10.003</td>\n",
              "      <td>1.219</td>\n",
              "      <td>3.202</td>\n",
              "      <td>11.847</td>\n",
              "      <td>0.313</td>\n",
              "    </tr>\n",
              "    <tr>\n",
              "      <th>143</th>\n",
              "      <td>2019-12-31</td>\n",
              "      <td>10.002</td>\n",
              "      <td>1.219</td>\n",
              "      <td>3.201</td>\n",
              "      <td>11.847</td>\n",
              "      <td>0.312</td>\n",
              "    </tr>\n",
              "    <tr>\n",
              "      <th>144</th>\n",
              "      <td>2019-12-31</td>\n",
              "      <td>10.002</td>\n",
              "      <td>1.218</td>\n",
              "      <td>3.201</td>\n",
              "      <td>11.848</td>\n",
              "      <td>0.312</td>\n",
              "    </tr>\n",
              "  </tbody>\n",
              "</table>\n",
              "<p>145 rows × 6 columns</p>\n",
              "</div>"
            ],
            "text/plain": [
              "             0 Unnamed: 1 Unnamed: 2 Unnamed: 3 Unnamed: 4 Unnamed: 5\n",
              "0   2019-01-11     10.003      1.219      3.197     11.855       0.31\n",
              "1   2019-01-11     10.005      1.219       3.19     11.855       0.31\n",
              "2   2019-01-11     10.005      1.219      3.194     11.852       0.31\n",
              "3   2019-01-11     10.002      1.218      3.198     11.855      0.311\n",
              "4   2019-01-11     10.003      1.219       3.19      11.85       0.31\n",
              "..         ...        ...        ...        ...        ...        ...\n",
              "140 2019-12-31      9.991      1.218      3.199      11.85      0.313\n",
              "141 2019-12-31      9.999      1.218      3.204     11.849      0.314\n",
              "142 2019-12-31     10.003      1.219      3.202     11.847      0.313\n",
              "143 2019-12-31     10.002      1.219      3.201     11.847      0.312\n",
              "144 2019-12-31     10.002      1.218      3.201     11.848      0.312\n",
              "\n",
              "[145 rows x 6 columns]"
            ]
          },
          "metadata": {
            "tags": []
          },
          "execution_count": 118
        }
      ]
    },
    {
      "cell_type": "code",
      "metadata": {
        "id": "Lc8OQM0qYowQ",
        "colab_type": "code",
        "colab": {}
      },
      "source": [
        "#finaldf.to_csv('finaldfMMD.csv')"
      ],
      "execution_count": 119,
      "outputs": []
    },
    {
      "cell_type": "code",
      "metadata": {
        "id": "QVnzsVsox9in",
        "colab_type": "code",
        "colab": {
          "base_uri": "https://localhost:8080/",
          "height": 419
        },
        "outputId": "d927547a-e0de-459f-93d4-e475d1a529eb"
      },
      "source": [
        "finaldf.dropna(inplace=True)\n",
        "finaldf  "
      ],
      "execution_count": 120,
      "outputs": [
        {
          "output_type": "execute_result",
          "data": {
            "text/html": [
              "<div>\n",
              "<style scoped>\n",
              "    .dataframe tbody tr th:only-of-type {\n",
              "        vertical-align: middle;\n",
              "    }\n",
              "\n",
              "    .dataframe tbody tr th {\n",
              "        vertical-align: top;\n",
              "    }\n",
              "\n",
              "    .dataframe thead th {\n",
              "        text-align: right;\n",
              "    }\n",
              "</style>\n",
              "<table border=\"1\" class=\"dataframe\">\n",
              "  <thead>\n",
              "    <tr style=\"text-align: right;\">\n",
              "      <th></th>\n",
              "      <th>0</th>\n",
              "      <th>Unnamed: 1</th>\n",
              "      <th>Unnamed: 2</th>\n",
              "      <th>Unnamed: 3</th>\n",
              "      <th>Unnamed: 4</th>\n",
              "      <th>Unnamed: 5</th>\n",
              "    </tr>\n",
              "  </thead>\n",
              "  <tbody>\n",
              "    <tr>\n",
              "      <th>0</th>\n",
              "      <td>2019-01-11</td>\n",
              "      <td>10.003</td>\n",
              "      <td>1.219</td>\n",
              "      <td>3.197</td>\n",
              "      <td>11.855</td>\n",
              "      <td>0.31</td>\n",
              "    </tr>\n",
              "    <tr>\n",
              "      <th>1</th>\n",
              "      <td>2019-01-11</td>\n",
              "      <td>10.005</td>\n",
              "      <td>1.219</td>\n",
              "      <td>3.19</td>\n",
              "      <td>11.855</td>\n",
              "      <td>0.31</td>\n",
              "    </tr>\n",
              "    <tr>\n",
              "      <th>2</th>\n",
              "      <td>2019-01-11</td>\n",
              "      <td>10.005</td>\n",
              "      <td>1.219</td>\n",
              "      <td>3.194</td>\n",
              "      <td>11.852</td>\n",
              "      <td>0.31</td>\n",
              "    </tr>\n",
              "    <tr>\n",
              "      <th>3</th>\n",
              "      <td>2019-01-11</td>\n",
              "      <td>10.002</td>\n",
              "      <td>1.218</td>\n",
              "      <td>3.198</td>\n",
              "      <td>11.855</td>\n",
              "      <td>0.311</td>\n",
              "    </tr>\n",
              "    <tr>\n",
              "      <th>4</th>\n",
              "      <td>2019-01-11</td>\n",
              "      <td>10.003</td>\n",
              "      <td>1.219</td>\n",
              "      <td>3.19</td>\n",
              "      <td>11.85</td>\n",
              "      <td>0.31</td>\n",
              "    </tr>\n",
              "    <tr>\n",
              "      <th>...</th>\n",
              "      <td>...</td>\n",
              "      <td>...</td>\n",
              "      <td>...</td>\n",
              "      <td>...</td>\n",
              "      <td>...</td>\n",
              "      <td>...</td>\n",
              "    </tr>\n",
              "    <tr>\n",
              "      <th>140</th>\n",
              "      <td>2019-12-31</td>\n",
              "      <td>9.991</td>\n",
              "      <td>1.218</td>\n",
              "      <td>3.199</td>\n",
              "      <td>11.85</td>\n",
              "      <td>0.313</td>\n",
              "    </tr>\n",
              "    <tr>\n",
              "      <th>141</th>\n",
              "      <td>2019-12-31</td>\n",
              "      <td>9.999</td>\n",
              "      <td>1.218</td>\n",
              "      <td>3.204</td>\n",
              "      <td>11.849</td>\n",
              "      <td>0.314</td>\n",
              "    </tr>\n",
              "    <tr>\n",
              "      <th>142</th>\n",
              "      <td>2019-12-31</td>\n",
              "      <td>10.003</td>\n",
              "      <td>1.219</td>\n",
              "      <td>3.202</td>\n",
              "      <td>11.847</td>\n",
              "      <td>0.313</td>\n",
              "    </tr>\n",
              "    <tr>\n",
              "      <th>143</th>\n",
              "      <td>2019-12-31</td>\n",
              "      <td>10.002</td>\n",
              "      <td>1.219</td>\n",
              "      <td>3.201</td>\n",
              "      <td>11.847</td>\n",
              "      <td>0.312</td>\n",
              "    </tr>\n",
              "    <tr>\n",
              "      <th>144</th>\n",
              "      <td>2019-12-31</td>\n",
              "      <td>10.002</td>\n",
              "      <td>1.218</td>\n",
              "      <td>3.201</td>\n",
              "      <td>11.848</td>\n",
              "      <td>0.312</td>\n",
              "    </tr>\n",
              "  </tbody>\n",
              "</table>\n",
              "<p>145 rows × 6 columns</p>\n",
              "</div>"
            ],
            "text/plain": [
              "             0 Unnamed: 1 Unnamed: 2 Unnamed: 3 Unnamed: 4 Unnamed: 5\n",
              "0   2019-01-11     10.003      1.219      3.197     11.855       0.31\n",
              "1   2019-01-11     10.005      1.219       3.19     11.855       0.31\n",
              "2   2019-01-11     10.005      1.219      3.194     11.852       0.31\n",
              "3   2019-01-11     10.002      1.218      3.198     11.855      0.311\n",
              "4   2019-01-11     10.003      1.219       3.19      11.85       0.31\n",
              "..         ...        ...        ...        ...        ...        ...\n",
              "140 2019-12-31      9.991      1.218      3.199      11.85      0.313\n",
              "141 2019-12-31      9.999      1.218      3.204     11.849      0.314\n",
              "142 2019-12-31     10.003      1.219      3.202     11.847      0.313\n",
              "143 2019-12-31     10.002      1.219      3.201     11.847      0.312\n",
              "144 2019-12-31     10.002      1.218      3.201     11.848      0.312\n",
              "\n",
              "[145 rows x 6 columns]"
            ]
          },
          "metadata": {
            "tags": []
          },
          "execution_count": 120
        }
      ]
    },
    {
      "cell_type": "code",
      "metadata": {
        "id": "MZt727wVQzH1",
        "colab_type": "code",
        "colab": {
          "base_uri": "https://localhost:8080/",
          "height": 142
        },
        "outputId": "ee6a4ca2-5bcb-4482-92ab-65747e915af1"
      },
      "source": [
        "finaldf.reset_index(drop=True,inplace=True)\n",
        "column_name=[]\n",
        "column_name.append('Datef')\n",
        "for i in range(feature_num+1)[1:]:\n",
        "  #print(df['Unnamed: '+str(i)][7])\n",
        "  namecolumn_temp=df['Unnamed: '+str(i)][7]\n",
        "  namecolumn_temp=namecolumn_temp.replace('.','')\n",
        "  column_name.append(namecolumn_temp)\n",
        "finaldf.columns=column_name\n",
        "finaldf.sort_values(by='Datef') #sort dated , not depend on file sorting\n",
        "for name in finaldf.columns[1:]:\n",
        "  try:\n",
        "    finaldf[name]=finaldf[name].astype(float)\n",
        "  except:\n",
        "    continue\n",
        "finaldf[:3] "
      ],
      "execution_count": 121,
      "outputs": [
        {
          "output_type": "execute_result",
          "data": {
            "text/html": [
              "<div>\n",
              "<style scoped>\n",
              "    .dataframe tbody tr th:only-of-type {\n",
              "        vertical-align: middle;\n",
              "    }\n",
              "\n",
              "    .dataframe tbody tr th {\n",
              "        vertical-align: top;\n",
              "    }\n",
              "\n",
              "    .dataframe thead th {\n",
              "        text-align: right;\n",
              "    }\n",
              "</style>\n",
              "<table border=\"1\" class=\"dataframe\">\n",
              "  <thead>\n",
              "    <tr style=\"text-align: right;\">\n",
              "      <th></th>\n",
              "      <th>Datef</th>\n",
              "      <th>C-Pitch</th>\n",
              "      <th>J</th>\n",
              "      <th>I</th>\n",
              "      <th>O</th>\n",
              "      <th>Z</th>\n",
              "    </tr>\n",
              "  </thead>\n",
              "  <tbody>\n",
              "    <tr>\n",
              "      <th>0</th>\n",
              "      <td>2019-01-11</td>\n",
              "      <td>10.003</td>\n",
              "      <td>1.219</td>\n",
              "      <td>3.197</td>\n",
              "      <td>11.855</td>\n",
              "      <td>0.31</td>\n",
              "    </tr>\n",
              "    <tr>\n",
              "      <th>1</th>\n",
              "      <td>2019-01-11</td>\n",
              "      <td>10.005</td>\n",
              "      <td>1.219</td>\n",
              "      <td>3.190</td>\n",
              "      <td>11.855</td>\n",
              "      <td>0.31</td>\n",
              "    </tr>\n",
              "    <tr>\n",
              "      <th>2</th>\n",
              "      <td>2019-01-11</td>\n",
              "      <td>10.005</td>\n",
              "      <td>1.219</td>\n",
              "      <td>3.194</td>\n",
              "      <td>11.852</td>\n",
              "      <td>0.31</td>\n",
              "    </tr>\n",
              "  </tbody>\n",
              "</table>\n",
              "</div>"
            ],
            "text/plain": [
              "       Datef  C-Pitch      J      I       O     Z\n",
              "0 2019-01-11   10.003  1.219  3.197  11.855  0.31\n",
              "1 2019-01-11   10.005  1.219  3.190  11.855  0.31\n",
              "2 2019-01-11   10.005  1.219  3.194  11.852  0.31"
            ]
          },
          "metadata": {
            "tags": []
          },
          "execution_count": 121
        }
      ]
    },
    {
      "cell_type": "code",
      "metadata": {
        "id": "cudGc6fCSeCJ",
        "colab_type": "code",
        "colab": {
          "base_uri": "https://localhost:8080/",
          "height": 136
        },
        "outputId": "cf7d8d7f-51da-4c78-9ed4-4adede0b8cb0"
      },
      "source": [
        "finaldf.dtypes"
      ],
      "execution_count": 122,
      "outputs": [
        {
          "output_type": "execute_result",
          "data": {
            "text/plain": [
              "Datef      datetime64[ns]\n",
              "C-Pitch           float64\n",
              "J                 float64\n",
              "I                 float64\n",
              "O                 float64\n",
              "Z                 float64\n",
              "dtype: object"
            ]
          },
          "metadata": {
            "tags": []
          },
          "execution_count": 122
        }
      ]
    },
    {
      "cell_type": "code",
      "metadata": {
        "id": "7f9gsVIkXDwx",
        "colab_type": "code",
        "colab": {
          "base_uri": "https://localhost:8080/",
          "height": 136
        },
        "outputId": "1b49c741-6613-46d9-aefd-cad4950ff864"
      },
      "source": [
        "finaldf = finaldf.select_dtypes(exclude=['object'])\n",
        "finaldf.dtypes"
      ],
      "execution_count": 123,
      "outputs": [
        {
          "output_type": "execute_result",
          "data": {
            "text/plain": [
              "Datef      datetime64[ns]\n",
              "C-Pitch           float64\n",
              "J                 float64\n",
              "I                 float64\n",
              "O                 float64\n",
              "Z                 float64\n",
              "dtype: object"
            ]
          },
          "metadata": {
            "tags": []
          },
          "execution_count": 123
        }
      ]
    },
    {
      "cell_type": "code",
      "metadata": {
        "id": "mVEboCYwBl3Y",
        "colab_type": "code",
        "colab": {
          "base_uri": "https://localhost:8080/",
          "height": 221
        },
        "outputId": "9defde06-b3d5-4c46-de91-d52834fc40e6"
      },
      "source": [
        "#Auto remove columns if non nummeris >10%, if non numberic < 10% remove row :\n",
        "newdf_test=finaldf.copy()\n",
        "max_row=len(newdf_test)\n",
        "print(max_row)\n",
        "for name in newdf_test.columns[1:]:\n",
        "    a=newdf_test[name]\n",
        "    non_numeric_column=pd.DataFrame(a)[~pd.DataFrame(a).applymap(np.isreal).all(1)]\n",
        "    num_row_nonnumeric=len(non_numeric_column)\n",
        "    print('number of non numeric row in column '+ name + ' before:'+ str(num_row_nonnumeric))\n",
        "    if num_row_nonnumeric < max_row*0.1:\n",
        "        list_to_exclude=non_numeric_column.index.values.tolist()\n",
        "        newdf_test=newdf_test[~newdf_test.index.isin(list_to_exclude)]\n",
        "        newdf_test[name]=newdf_test[name].astype(float)\n",
        "    else:\n",
        "        newdf_test.drop(columns=name,inplace=True)\n",
        "print('Check result after process')       \n",
        "for name in newdf_test.columns[1:]:\n",
        "    a=newdf_test[name]\n",
        "    non_numeric_column=pd.DataFrame(a)[~pd.DataFrame(a).applymap(np.isreal).all(1)]\n",
        "    num_row_nonnumeric=len(non_numeric_column)\n",
        "    print('number of non numeric row in column '+ name + ' after:'+ str(num_row_nonnumeric))\n",
        "finaldf = newdf_test"
      ],
      "execution_count": 124,
      "outputs": [
        {
          "output_type": "stream",
          "text": [
            "145\n",
            "number of non numeric row in column C-Pitch before:0\n",
            "number of non numeric row in column J before:0\n",
            "number of non numeric row in column I before:0\n",
            "number of non numeric row in column O before:0\n",
            "number of non numeric row in column Z before:0\n",
            "Check result after process\n",
            "number of non numeric row in column C-Pitch after:0\n",
            "number of non numeric row in column J after:0\n",
            "number of non numeric row in column I after:0\n",
            "number of non numeric row in column O after:0\n",
            "number of non numeric row in column Z after:0\n"
          ],
          "name": "stdout"
        }
      ]
    },
    {
      "cell_type": "markdown",
      "metadata": {
        "id": "okA0XAlqOOas",
        "colab_type": "text"
      },
      "source": [
        "### set up tolerance dict:USL,LSL,Nominal"
      ]
    },
    {
      "cell_type": "code",
      "metadata": {
        "jupyter": {},
        "trusted": false,
        "id": "MH1E6C7gZ7my",
        "colab_type": "code",
        "colab": {
          "base_uri": "https://localhost:8080/",
          "height": 102
        },
        "outputId": "a7bc37c5-74db-4c3a-ce1b-141afa765b39"
      },
      "source": [
        "#set up tolerance dict:USL,LSL,Nominal\n",
        "#Tolerance set up when not drop object type column, not reflect exactly tolerance vs data analysis\n",
        "tolerance={}\n",
        "for column in df.columns[1:(feature_num+1)]:\n",
        "    namecolumn_temp=df[column][7] #df: dataframe latest in for loop\n",
        "    namecolumn_temp=namecolumn_temp.replace('.','')\n",
        "    tolerance[namecolumn_temp] =[df[column][9],df[column][10],df[column][15]]\n",
        "tolerance"
      ],
      "execution_count": 125,
      "outputs": [
        {
          "output_type": "execute_result",
          "data": {
            "text/plain": [
              "{'C-Pitch': [10.01, 9.99, 10],\n",
              " 'I': [3.21, 3.1900000000000004, 3.2],\n",
              " 'J': [1.22, 1.21, 1.21],\n",
              " 'O': [11.86, 11.84, 11.85],\n",
              " 'Z': [0.32, 0.27999999999999997, 0.3]}"
            ]
          },
          "metadata": {
            "tags": []
          },
          "execution_count": 125
        }
      ]
    },
    {
      "cell_type": "code",
      "metadata": {
        "jupyter": {},
        "scrolled": true,
        "trusted": false,
        "id": "BFap3Cp4Z7m4",
        "colab_type": "code",
        "colab": {
          "base_uri": "https://localhost:8080/",
          "height": 102
        },
        "outputId": "821ee633-3e24-41db-b0e3-196c00971057"
      },
      "source": [
        "#Create list of dataframe, combine feature value and USL,LSL, Nominal\n",
        "DFdict={}\n",
        "for name in finaldf.columns[1:]:\n",
        "    print('Chart: ',name)\n",
        "        \n",
        "    #Create series USL:\n",
        "    USL = tolerance[name][0]\n",
        "    USL=pd.Series(USL)\n",
        "    s1=pd.DataFrame()\n",
        "    for i in range(len(finaldf)):\n",
        "      s1=pd.concat([s1,USL],axis=0)\n",
        "    s1.rename(columns={0:'USL'},inplace=True)\n",
        "    \n",
        "    #Create series LSL:\n",
        "    LSL = tolerance[name][1]\n",
        "    LSL=pd.Series(LSL)\n",
        "    s2=pd.DataFrame()\n",
        "    for i in range(len(finaldf)):\n",
        "      s2=pd.concat([s2,LSL],axis=0)\n",
        "    s2.rename(columns={0:'LSL'},inplace=True)\n",
        "    \n",
        "    #Create series nominal:\n",
        "    nominal = tolerance[name][2]\n",
        "    nominal=pd.Series(nominal)\n",
        "    s3=pd.DataFrame()\n",
        "    for i in range(len(finaldf)):\n",
        "      s3=pd.concat([s3,nominal],axis=0)\n",
        "    s3.rename(columns={0:'Nominal'},inplace=True)\n",
        "    \n",
        "    #combine Date,feature, LSL,USL,nominal to finaldataframe (for each feature):\n",
        "    finaldf['Datef'].reset_index(drop=True,inplace=True)\n",
        "    finaldf[name].reset_index(drop=True,inplace=True)\n",
        "    s1.reset_index(drop=True,inplace=True)\n",
        "    s2.reset_index(drop=True,inplace=True)\n",
        "    s3.reset_index(drop=True,inplace=True)\n",
        "    df_temp = pd.concat([finaldf['Datef'],finaldf[name],s1,s2,s3],axis=1)  \n",
        "\n",
        "    #Create dict of dataframe for each feature columns:\n",
        "    DFdict[name]=df_temp # Include Date, name, USL, LSL, nominal each parameter(J, I, O or Z...)\n",
        "    #print(DFdict[name][:3])\n",
        "    "
      ],
      "execution_count": 126,
      "outputs": [
        {
          "output_type": "stream",
          "text": [
            "Chart:  C-Pitch\n",
            "Chart:  J\n",
            "Chart:  I\n",
            "Chart:  O\n",
            "Chart:  Z\n"
          ],
          "name": "stdout"
        }
      ]
    },
    {
      "cell_type": "code",
      "metadata": {
        "id": "8NdFSyd1k3Yz",
        "colab_type": "code",
        "colab": {
          "base_uri": "https://localhost:8080/",
          "height": 459
        },
        "outputId": "0c7bf0ef-2470-4825-f56a-b8182049a48a"
      },
      "source": [
        "print(DFdict.keys())\n",
        "#df=DFdict['J']\n",
        "#print(df.columns)\n",
        "for name in DFdict.keys():\n",
        "  print(name)\n",
        "  print(DFdict[name][:3])"
      ],
      "execution_count": 127,
      "outputs": [
        {
          "output_type": "stream",
          "text": [
            "dict_keys(['C-Pitch', 'J', 'I', 'O', 'Z'])\n",
            "C-Pitch\n",
            "       Datef  C-Pitch    USL   LSL  Nominal\n",
            "0 2019-01-11   10.003  10.01  9.99     10.0\n",
            "1 2019-01-11   10.005  10.01  9.99     10.0\n",
            "2 2019-01-11   10.005  10.01  9.99     10.0\n",
            "J\n",
            "       Datef      J   USL   LSL  Nominal\n",
            "0 2019-01-11  1.219  1.22  1.21     1.21\n",
            "1 2019-01-11  1.219  1.22  1.21     1.21\n",
            "2 2019-01-11  1.219  1.22  1.21     1.21\n",
            "I\n",
            "       Datef      I   USL   LSL  Nominal\n",
            "0 2019-01-11  3.197  3.21  3.19      3.2\n",
            "1 2019-01-11  3.190  3.21  3.19      3.2\n",
            "2 2019-01-11  3.194  3.21  3.19      3.2\n",
            "O\n",
            "       Datef       O    USL    LSL  Nominal\n",
            "0 2019-01-11  11.855  11.86  11.84    11.85\n",
            "1 2019-01-11  11.855  11.86  11.84    11.85\n",
            "2 2019-01-11  11.852  11.86  11.84    11.85\n",
            "Z\n",
            "       Datef     Z   USL   LSL  Nominal\n",
            "0 2019-01-11  0.31  0.32  0.28      0.3\n",
            "1 2019-01-11  0.31  0.32  0.28      0.3\n",
            "2 2019-01-11  0.31  0.32  0.28      0.3\n"
          ],
          "name": "stdout"
        }
      ]
    },
    {
      "cell_type": "code",
      "metadata": {
        "id": "X_T2eWq0jvZy",
        "colab_type": "code",
        "colab": {}
      },
      "source": [
        "DFdict_final={}\n",
        "for name in DFdict.keys():\n",
        "  df=DFdict[name].copy()\n",
        "  df_group=df.groupby('Datef').mean() # mean value by Date\n",
        "  df_group.reset_index(inplace=True)\n",
        "\n",
        "  value_name=df_group.columns[1] #'C-Pitch', 'J', 'I', 'O', 'Z'\n",
        "  df_group[value_name] = df_group[value_name].round(decimals=3)\n",
        "  #---------------------------------------------------------------#\n",
        "\n",
        "  # Create a selection that chooses the nearest point & selects based on x-value\n",
        "  #UCL,LCL,nominal:\n",
        "  sigma=3\n",
        "  df_final = df_group.assign(\n",
        "                UCL=df_group[value_name].mean() + df_group[value_name].std()*sigma,\n",
        "                LCL=df_group[value_name].mean() - df_group[value_name].std()*sigma,\n",
        "                mean=df_group[value_name].mean())\n",
        "  DFdict_final[name]=df_final"
      ],
      "execution_count": 128,
      "outputs": []
    },
    {
      "cell_type": "code",
      "metadata": {
        "id": "wb397bvYnWuo",
        "colab_type": "code",
        "colab": {
          "base_uri": "https://localhost:8080/",
          "height": 459
        },
        "outputId": "65ac1fc0-daf2-4e20-cb67-d482277f46cb"
      },
      "source": [
        "print(DFdict_final.keys())\n",
        "#df=DFdict['J']\n",
        "#print(df.columns)\n",
        "for name in DFdict_final.keys():\n",
        "  print(name)\n",
        "  print(DFdict_final[name][:3])"
      ],
      "execution_count": 23,
      "outputs": [
        {
          "output_type": "stream",
          "text": [
            "dict_keys(['C-Pitch', 'J', 'I', 'O', 'Z'])\n",
            "C-Pitch\n",
            "       Datef  C-Pitch    USL   LSL  Nominal        UCL       LCL       mean\n",
            "0 2019-01-11   10.004  10.01  9.99     10.0  10.006001  9.997142  10.001571\n",
            "1 2019-01-22   10.001  10.01  9.99     10.0  10.006001  9.997142  10.001571\n",
            "2 2019-01-26   10.002  10.01  9.99     10.0  10.006001  9.997142  10.001571\n",
            "J\n",
            "       Datef      J   USL   LSL  Nominal       UCL       LCL      mean\n",
            "0 2019-01-11  1.219  1.22  1.21     1.21  1.222084  1.216344  1.219214\n",
            "1 2019-01-22  1.219  1.22  1.21     1.21  1.222084  1.216344  1.219214\n",
            "2 2019-01-26  1.220  1.22  1.21     1.21  1.222084  1.216344  1.219214\n",
            "I\n",
            "       Datef      I   USL   LSL  Nominal       UCL       LCL      mean\n",
            "0 2019-01-11  3.194  3.21  3.19      3.2  3.206102  3.191327  3.198714\n",
            "1 2019-01-22  3.199  3.21  3.19      3.2  3.206102  3.191327  3.198714\n",
            "2 2019-01-26  3.200  3.21  3.19      3.2  3.206102  3.191327  3.198714\n",
            "O\n",
            "       Datef       O    USL    LSL  Nominal        UCL        LCL       mean\n",
            "0 2019-01-11  11.853  11.86  11.84    11.85  11.862448  11.843409  11.852929\n",
            "1 2019-01-22  11.852  11.86  11.84    11.85  11.862448  11.843409  11.852929\n",
            "2 2019-01-26  11.853  11.86  11.84    11.85  11.862448  11.843409  11.852929\n",
            "Z\n",
            "       Datef      Z   USL   LSL  Nominal       UCL       LCL      mean\n",
            "0 2019-01-11  0.310  0.32  0.28      0.3  0.317891  0.306895  0.312393\n",
            "1 2019-01-22  0.311  0.32  0.28      0.3  0.317891  0.306895  0.312393\n",
            "2 2019-01-26  0.311  0.32  0.28      0.3  0.317891  0.306895  0.312393\n"
          ],
          "name": "stdout"
        }
      ]
    },
    {
      "cell_type": "markdown",
      "metadata": {
        "id": "SFfsyAvj9ksN",
        "colab_type": "text"
      },
      "source": [
        "### Line chart plotly"
      ]
    },
    {
      "cell_type": "code",
      "metadata": {
        "id": "HiJ1RZujQXqE",
        "colab_type": "code",
        "colab": {}
      },
      "source": [
        "i=1\n",
        "#Layout\n",
        "fig = make_subplots(\n",
        "    rows=len(DFdict_final), cols=1,\n",
        "    #shared_xaxes=True,\n",
        "    #vertical_spacing=0.03,\n",
        "    #column_widths=[0.8, 0.2],\n",
        "    #subplot_titles=(\"Line plot \"+name)\n",
        ")\n",
        "for name in DFdict_final.keys(): #also group\n",
        "  df=DFdict_final[name].copy()\n",
        "  df=df.sort_values(by=['Datef'])\n",
        "  for a in df.columns[1:]:\n",
        "    df[a] = df[a].round(decimals=3)\n",
        "\n",
        "  #Control chart 1 \n",
        "  fig.append_trace(go.Scatter(\n",
        "                          x=df['Datef'], y=df[name],\n",
        "                          mode='lines+markers',\n",
        "                          name='mean ' + name,line=dict( color='#4280F5')\n",
        "                          ),row=i, col=1\n",
        "                )\n",
        "  #USL, LSL\n",
        "  fig.append_trace(go.Scatter(x=df['Datef'], y=df['USL'],name='USL '+name, line=dict( color='#FF5733')),row=i, col=1)\n",
        "  fig.append_trace(go.Scatter(x=df['Datef'], y=df['LSL'],name='LSL '+name,line=dict( color='#FF5733')),row=i, col=1)\n",
        "  fig.append_trace(go.Scatter(x=df['Datef'], y=df['Nominal'],name='Nominal '+name,line=dict( color='#FF5733')),row=i, col=1)\n",
        "  # UCL, LCL\n",
        "  fig.append_trace(go.Scatter(x=df['Datef'], y=df['UCL'],name='UCL '+name, line=dict( color='#33C2FF')),row=i, col=1)\n",
        "  fig.append_trace(go.Scatter(x=df['Datef'], y=df['LCL'],name='LCL '+name, line=dict( color='#33C2FF')),row=i, col=1)\n",
        "  fig.append_trace(go.Scatter(x=df['Datef'], y=df['mean'],name='mean '+name, line=dict( color='#33C2FF')),row=i, col=1)\n",
        "\n",
        "  #Final layout:\n",
        "  #fig.update_layout(height=400, width=1400, title_text='Line chart'+name)\n",
        "  i=i+1\n",
        "  \n",
        "fig.update_layout(height=300*len(DFdict_final), width=1200, title_text='Line chart')\n",
        "fig.show()"
      ],
      "execution_count": null,
      "outputs": []
    },
    {
      "cell_type": "code",
      "metadata": {
        "id": "QRT3yBW3SVcy",
        "colab_type": "code",
        "colab": {}
      },
      "source": [
        "#fig.write_html('line_chart_combine_'+namefile+'.html')"
      ],
      "execution_count": null,
      "outputs": []
    },
    {
      "cell_type": "markdown",
      "metadata": {
        "id": "6VnP6zTJqRm_",
        "colab_type": "text"
      },
      "source": [
        "### Box chart altair"
      ]
    },
    {
      "cell_type": "code",
      "metadata": {
        "id": "QIU_FQBplXeW",
        "colab_type": "code",
        "colab": {}
      },
      "source": [
        "import json\n",
        "import datetime \n",
        "\n",
        "#Function convert datetime to json\n",
        "def defaulta(obj):\n",
        "      if isinstance(obj, (datetime.date, datetime.datetime)):\n",
        "          return obj.isoformat()"
      ],
      "execution_count": null,
      "outputs": []
    },
    {
      "cell_type": "code",
      "metadata": {
        "id": "ciC8wePyqftc",
        "colab_type": "code",
        "colab": {}
      },
      "source": [
        "\n",
        "#Set up width and hist for all chart\n",
        "width_main=800\n",
        "height_main=150\n",
        "width_hist=100\n",
        "\n",
        "list_chart1=[]\n",
        "for name in DFdict.keys():\n",
        "  df_box=DFdict[name].copy() #All values for each features\n",
        "  df_box['Datef']=df_box['Datef'].dt.date\n",
        "  value_name2=df_box.columns[1] #'C-Pitch', 'J', 'I', 'O', 'Z'\n",
        "  #Convert datetime to json\n",
        "  df_box['Datef']=df_box['Datef'].apply(lambda x: json.dumps(x, default = defaulta) )\n",
        "  base1 = alt.Chart(df_box).properties(width=width_main,height=height_main)\n",
        "\n",
        "  #Create box plot, USL, LSL, Nominal\n",
        "  box=base1.mark_boxplot().encode(\n",
        "      x=alt.X(\n",
        "          'Datef:O',scale=alt.Scale(),title=\"\",\n",
        "          ),\n",
        "      y=alt.Y(value_name2+':Q',scale=alt.Scale(zero=False),title=\"\")\n",
        "  ).properties(width=width_main,height=height_main)\n",
        "\n",
        "  line_USL=base1.mark_line(color='red').encode(\n",
        "      x=alt.X('Datef:O',scale=alt.Scale(zero=False)),\n",
        "      y=alt.Y('USL:Q',scale=alt.Scale(zero=False)),\n",
        "  )\n",
        "\n",
        "  line_LSL=base1.mark_line(color='red').encode(\n",
        "      x=alt.X('Datef:O',scale=alt.Scale(zero=False)),\n",
        "      y=alt.Y('LSL:Q',scale=alt.Scale(zero=False)),\n",
        "  )\n",
        "\n",
        "  line_Nominal=base1.mark_line(color='red').encode(\n",
        "      x=alt.X('Datef:O',scale=alt.Scale(zero=False)),\n",
        "      y=alt.Y('Nominal:Q',scale=alt.Scale(zero=False)),\n",
        "  )\n",
        "\n",
        "  chart=box + line_USL + line_LSL + line_Nominal\n",
        "\n",
        "  #Sub chart create (Histogram, USL, LSL, Nominal)\n",
        "  record_bar= alt.Chart(df_box).mark_bar().encode(\n",
        "      x='count()',\n",
        "      y=alt.Y(value_name2, bin=True,title=\"\")\n",
        "  ).properties(\n",
        "      height=height_main,\n",
        "      width=width_hist\n",
        "  )\n",
        "\n",
        "  USL_rule = alt.Chart(df_box).mark_rule(color='red').encode(\n",
        "      y=alt.Y('USL'),\n",
        "      size=alt.value(1)\n",
        "  )\n",
        "  LSL_rule = alt.Chart(df_box).mark_rule(color='red').encode(\n",
        "      y=alt.Y('LSL'),\n",
        "      size=alt.value(1)\n",
        "  )\n",
        "  Nominal_rule = alt.Chart(df_box).mark_rule(color='red').encode(\n",
        "      y=alt.Y('Nominal'),\n",
        "      size=alt.value(1)\n",
        "  )\n",
        "\n",
        "  sub_chart=record_bar + USL_rule + LSL_rule + Nominal_rule\n",
        "  boxchart= 'chart' + name\n",
        "  boxchart=alt.hconcat(chart,sub_chart).properties(title='Box Plot ' + value_name2)\n",
        "  list_chart1.append(boxchart)\n",
        "  boxchart\n",
        "  #altair_viewer.display(boxchart, inline=True)\n",
        "#boxchart_combine.save('boxchart_combine.html')\n"
      ],
      "execution_count": null,
      "outputs": []
    },
    {
      "cell_type": "code",
      "metadata": {
        "id": "FD5B2KXiLI8n",
        "colab_type": "code",
        "colab": {
          "base_uri": "https://localhost:8080/",
          "height": 35
        },
        "outputId": "b093f841-35a3-4d52-ba70-afeccc1b8613"
      },
      "source": [
        "path=os.getcwd()\n",
        "path"
      ],
      "execution_count": null,
      "outputs": [
        {
          "output_type": "execute_result",
          "data": {
            "application/vnd.google.colaboratory.intrinsic+json": {
              "type": "string"
            },
            "text/plain": [
              "'/content'"
            ]
          },
          "metadata": {
            "tags": []
          },
          "execution_count": 25
        }
      ]
    },
    {
      "cell_type": "code",
      "metadata": {
        "id": "98xtPvioLnLI",
        "colab_type": "code",
        "colab": {
          "base_uri": "https://localhost:8080/",
          "height": 35
        },
        "outputId": "a4ca2b57-157c-4d41-e661-d9781ff090fc"
      },
      "source": [
        "namefile"
      ],
      "execution_count": null,
      "outputs": [
        {
          "output_type": "execute_result",
          "data": {
            "application/vnd.google.colaboratory.intrinsic+json": {
              "type": "string"
            },
            "text/plain": [
              "'MMD2019'"
            ]
          },
          "metadata": {
            "tags": []
          },
          "execution_count": 26
        }
      ]
    },
    {
      "cell_type": "code",
      "metadata": {
        "id": "UzsJNqipqiJ8",
        "colab_type": "code",
        "colab": {
          "base_uri": "https://localhost:8080/",
          "height": 1000
        },
        "outputId": "d7533863-e3a8-4076-b51c-447c41678125"
      },
      "source": [
        "box_chart_combine=alt.vconcat(data=df_group)\n",
        "for chart in list_chart1:\n",
        "  box_chart_combine &= chart\n",
        "#box_chart_combine.save('box_chart_combine'+namefile+'.html')\n",
        "box_chart_combine"
      ],
      "execution_count": null,
      "outputs": [
        {
          "output_type": "execute_result",
          "data": {
            "text/plain": [
              "alt.VConcatChart(...)"
            ],
            "text/html": [
              "\n",
              "<div id=\"altair-viz-9dad72441ba44d00842c2ab9cc5ec89f\"></div>\n",
              "<script type=\"text/javascript\">\n",
              "  (function(spec, embedOpt){\n",
              "    let outputDiv = document.currentScript.previousElementSibling;\n",
              "    if (outputDiv.id !== \"altair-viz-9dad72441ba44d00842c2ab9cc5ec89f\") {\n",
              "      outputDiv = document.getElementById(\"altair-viz-9dad72441ba44d00842c2ab9cc5ec89f\");\n",
              "    }\n",
              "    const paths = {\n",
              "      \"vega\": \"https://cdn.jsdelivr.net/npm//vega@5?noext\",\n",
              "      \"vega-lib\": \"https://cdn.jsdelivr.net/npm//vega-lib?noext\",\n",
              "      \"vega-lite\": \"https://cdn.jsdelivr.net/npm//vega-lite@4.8.1?noext\",\n",
              "      \"vega-embed\": \"https://cdn.jsdelivr.net/npm//vega-embed@6?noext\",\n",
              "    };\n",
              "\n",
              "    function loadScript(lib) {\n",
              "      return new Promise(function(resolve, reject) {\n",
              "        var s = document.createElement('script');\n",
              "        s.src = paths[lib];\n",
              "        s.async = true;\n",
              "        s.onload = () => resolve(paths[lib]);\n",
              "        s.onerror = () => reject(`Error loading script: ${paths[lib]}`);\n",
              "        document.getElementsByTagName(\"head\")[0].appendChild(s);\n",
              "      });\n",
              "    }\n",
              "\n",
              "    function showError(err) {\n",
              "      outputDiv.innerHTML = `<div class=\"error\" style=\"color:red;\">${err}</div>`;\n",
              "      throw err;\n",
              "    }\n",
              "\n",
              "    function displayChart(vegaEmbed) {\n",
              "      vegaEmbed(outputDiv, spec, embedOpt)\n",
              "        .catch(err => showError(`Javascript Error: ${err.message}<br>This usually means there's a typo in your chart specification. See the javascript console for the full traceback.`));\n",
              "    }\n",
              "\n",
              "    if(typeof define === \"function\" && define.amd) {\n",
              "      requirejs.config({paths});\n",
              "      require([\"vega-embed\"], displayChart, err => showError(`Error loading script: ${err.message}`));\n",
              "    } else if (typeof vegaEmbed === \"function\") {\n",
              "      displayChart(vegaEmbed);\n",
              "    } else {\n",
              "      loadScript(\"vega\")\n",
              "        .then(() => loadScript(\"vega-lite\"))\n",
              "        .then(() => loadScript(\"vega-embed\"))\n",
              "        .catch(showError)\n",
              "        .then(() => displayChart(vegaEmbed));\n",
              "    }\n",
              "  })({\"config\": {\"view\": {\"continuousWidth\": 400, \"continuousHeight\": 300}}, \"vconcat\": [{\"hconcat\": [{\"layer\": [{\"mark\": \"boxplot\", \"encoding\": {\"x\": {\"type\": \"ordinal\", \"field\": \"Datef\", \"scale\": {}, \"title\": \"\"}, \"y\": {\"type\": \"quantitative\", \"field\": \"C-Pitch\", \"scale\": {\"zero\": false}, \"title\": \"\"}}, \"height\": 150, \"width\": 800}, {\"mark\": {\"type\": \"line\", \"color\": \"red\"}, \"encoding\": {\"x\": {\"type\": \"ordinal\", \"field\": \"Datef\", \"scale\": {\"zero\": false}}, \"y\": {\"type\": \"quantitative\", \"field\": \"USL\", \"scale\": {\"zero\": false}}}, \"height\": 150, \"width\": 800}, {\"mark\": {\"type\": \"line\", \"color\": \"red\"}, \"encoding\": {\"x\": {\"type\": \"ordinal\", \"field\": \"Datef\", \"scale\": {\"zero\": false}}, \"y\": {\"type\": \"quantitative\", \"field\": \"LSL\", \"scale\": {\"zero\": false}}}, \"height\": 150, \"width\": 800}, {\"mark\": {\"type\": \"line\", \"color\": \"red\"}, \"encoding\": {\"x\": {\"type\": \"ordinal\", \"field\": \"Datef\", \"scale\": {\"zero\": false}}, \"y\": {\"type\": \"quantitative\", \"field\": \"Nominal\", \"scale\": {\"zero\": false}}}, \"height\": 150, \"width\": 800}]}, {\"layer\": [{\"mark\": \"bar\", \"encoding\": {\"x\": {\"type\": \"quantitative\", \"aggregate\": \"count\"}, \"y\": {\"type\": \"quantitative\", \"bin\": true, \"field\": \"C-Pitch\", \"title\": \"\"}}, \"height\": 150, \"width\": 100}, {\"mark\": {\"type\": \"rule\", \"color\": \"red\"}, \"encoding\": {\"size\": {\"value\": 1}, \"y\": {\"type\": \"quantitative\", \"field\": \"USL\"}}}, {\"mark\": {\"type\": \"rule\", \"color\": \"red\"}, \"encoding\": {\"size\": {\"value\": 1}, \"y\": {\"type\": \"quantitative\", \"field\": \"LSL\"}}}, {\"mark\": {\"type\": \"rule\", \"color\": \"red\"}, \"encoding\": {\"size\": {\"value\": 1}, \"y\": {\"type\": \"quantitative\", \"field\": \"Nominal\"}}}]}], \"data\": {\"name\": \"data-e6676b181ec920b03930151172c0c4bc\"}, \"title\": \"Box Plot C-Pitch\"}, {\"hconcat\": [{\"layer\": [{\"mark\": \"boxplot\", \"encoding\": {\"x\": {\"type\": \"ordinal\", \"field\": \"Datef\", \"scale\": {}, \"title\": \"\"}, \"y\": {\"type\": \"quantitative\", \"field\": \"J\", \"scale\": {\"zero\": false}, \"title\": \"\"}}, \"height\": 150, \"width\": 800}, {\"mark\": {\"type\": \"line\", \"color\": \"red\"}, \"encoding\": {\"x\": {\"type\": \"ordinal\", \"field\": \"Datef\", \"scale\": {\"zero\": false}}, \"y\": {\"type\": \"quantitative\", \"field\": \"USL\", \"scale\": {\"zero\": false}}}, \"height\": 150, \"width\": 800}, {\"mark\": {\"type\": \"line\", \"color\": \"red\"}, \"encoding\": {\"x\": {\"type\": \"ordinal\", \"field\": \"Datef\", \"scale\": {\"zero\": false}}, \"y\": {\"type\": \"quantitative\", \"field\": \"LSL\", \"scale\": {\"zero\": false}}}, \"height\": 150, \"width\": 800}, {\"mark\": {\"type\": \"line\", \"color\": \"red\"}, \"encoding\": {\"x\": {\"type\": \"ordinal\", \"field\": \"Datef\", \"scale\": {\"zero\": false}}, \"y\": {\"type\": \"quantitative\", \"field\": \"Nominal\", \"scale\": {\"zero\": false}}}, \"height\": 150, \"width\": 800}]}, {\"layer\": [{\"mark\": \"bar\", \"encoding\": {\"x\": {\"type\": \"quantitative\", \"aggregate\": \"count\"}, \"y\": {\"type\": \"quantitative\", \"bin\": true, \"field\": \"J\", \"title\": \"\"}}, \"height\": 150, \"width\": 100}, {\"mark\": {\"type\": \"rule\", \"color\": \"red\"}, \"encoding\": {\"size\": {\"value\": 1}, \"y\": {\"type\": \"quantitative\", \"field\": \"USL\"}}}, {\"mark\": {\"type\": \"rule\", \"color\": \"red\"}, \"encoding\": {\"size\": {\"value\": 1}, \"y\": {\"type\": \"quantitative\", \"field\": \"LSL\"}}}, {\"mark\": {\"type\": \"rule\", \"color\": \"red\"}, \"encoding\": {\"size\": {\"value\": 1}, \"y\": {\"type\": \"quantitative\", \"field\": \"Nominal\"}}}]}], \"data\": {\"name\": \"data-376069c2ee378a3be8be401b3b03beff\"}, \"title\": \"Box Plot J\"}, {\"hconcat\": [{\"layer\": [{\"mark\": \"boxplot\", \"encoding\": {\"x\": {\"type\": \"ordinal\", \"field\": \"Datef\", \"scale\": {}, \"title\": \"\"}, \"y\": {\"type\": \"quantitative\", \"field\": \"I\", \"scale\": {\"zero\": false}, \"title\": \"\"}}, \"height\": 150, \"width\": 800}, {\"mark\": {\"type\": \"line\", \"color\": \"red\"}, \"encoding\": {\"x\": {\"type\": \"ordinal\", \"field\": \"Datef\", \"scale\": {\"zero\": false}}, \"y\": {\"type\": \"quantitative\", \"field\": \"USL\", \"scale\": {\"zero\": false}}}, \"height\": 150, \"width\": 800}, {\"mark\": {\"type\": \"line\", \"color\": \"red\"}, \"encoding\": {\"x\": {\"type\": \"ordinal\", \"field\": \"Datef\", \"scale\": {\"zero\": false}}, \"y\": {\"type\": \"quantitative\", \"field\": \"LSL\", \"scale\": {\"zero\": false}}}, \"height\": 150, \"width\": 800}, {\"mark\": {\"type\": \"line\", \"color\": \"red\"}, \"encoding\": {\"x\": {\"type\": \"ordinal\", \"field\": \"Datef\", \"scale\": {\"zero\": false}}, \"y\": {\"type\": \"quantitative\", \"field\": \"Nominal\", \"scale\": {\"zero\": false}}}, \"height\": 150, \"width\": 800}]}, {\"layer\": [{\"mark\": \"bar\", \"encoding\": {\"x\": {\"type\": \"quantitative\", \"aggregate\": \"count\"}, \"y\": {\"type\": \"quantitative\", \"bin\": true, \"field\": \"I\", \"title\": \"\"}}, \"height\": 150, \"width\": 100}, {\"mark\": {\"type\": \"rule\", \"color\": \"red\"}, \"encoding\": {\"size\": {\"value\": 1}, \"y\": {\"type\": \"quantitative\", \"field\": \"USL\"}}}, {\"mark\": {\"type\": \"rule\", \"color\": \"red\"}, \"encoding\": {\"size\": {\"value\": 1}, \"y\": {\"type\": \"quantitative\", \"field\": \"LSL\"}}}, {\"mark\": {\"type\": \"rule\", \"color\": \"red\"}, \"encoding\": {\"size\": {\"value\": 1}, \"y\": {\"type\": \"quantitative\", \"field\": \"Nominal\"}}}]}], \"data\": {\"name\": \"data-89a563b4fdb08ce29bd91819ea45bf24\"}, \"title\": \"Box Plot I\"}, {\"hconcat\": [{\"layer\": [{\"mark\": \"boxplot\", \"encoding\": {\"x\": {\"type\": \"ordinal\", \"field\": \"Datef\", \"scale\": {}, \"title\": \"\"}, \"y\": {\"type\": \"quantitative\", \"field\": \"O\", \"scale\": {\"zero\": false}, \"title\": \"\"}}, \"height\": 150, \"width\": 800}, {\"mark\": {\"type\": \"line\", \"color\": \"red\"}, \"encoding\": {\"x\": {\"type\": \"ordinal\", \"field\": \"Datef\", \"scale\": {\"zero\": false}}, \"y\": {\"type\": \"quantitative\", \"field\": \"USL\", \"scale\": {\"zero\": false}}}, \"height\": 150, \"width\": 800}, {\"mark\": {\"type\": \"line\", \"color\": \"red\"}, \"encoding\": {\"x\": {\"type\": \"ordinal\", \"field\": \"Datef\", \"scale\": {\"zero\": false}}, \"y\": {\"type\": \"quantitative\", \"field\": \"LSL\", \"scale\": {\"zero\": false}}}, \"height\": 150, \"width\": 800}, {\"mark\": {\"type\": \"line\", \"color\": \"red\"}, \"encoding\": {\"x\": {\"type\": \"ordinal\", \"field\": \"Datef\", \"scale\": {\"zero\": false}}, \"y\": {\"type\": \"quantitative\", \"field\": \"Nominal\", \"scale\": {\"zero\": false}}}, \"height\": 150, \"width\": 800}]}, {\"layer\": [{\"mark\": \"bar\", \"encoding\": {\"x\": {\"type\": \"quantitative\", \"aggregate\": \"count\"}, \"y\": {\"type\": \"quantitative\", \"bin\": true, \"field\": \"O\", \"title\": \"\"}}, \"height\": 150, \"width\": 100}, {\"mark\": {\"type\": \"rule\", \"color\": \"red\"}, \"encoding\": {\"size\": {\"value\": 1}, \"y\": {\"type\": \"quantitative\", \"field\": \"USL\"}}}, {\"mark\": {\"type\": \"rule\", \"color\": \"red\"}, \"encoding\": {\"size\": {\"value\": 1}, \"y\": {\"type\": \"quantitative\", \"field\": \"LSL\"}}}, {\"mark\": {\"type\": \"rule\", \"color\": \"red\"}, \"encoding\": {\"size\": {\"value\": 1}, \"y\": {\"type\": \"quantitative\", \"field\": \"Nominal\"}}}]}], \"data\": {\"name\": \"data-167a625bfc2ce63196d8fcf511d6c30d\"}, \"title\": \"Box Plot O\"}, {\"hconcat\": [{\"layer\": [{\"mark\": \"boxplot\", \"encoding\": {\"x\": {\"type\": \"ordinal\", \"field\": \"Datef\", \"scale\": {}, \"title\": \"\"}, \"y\": {\"type\": \"quantitative\", \"field\": \"Z\", \"scale\": {\"zero\": false}, \"title\": \"\"}}, \"height\": 150, \"width\": 800}, {\"mark\": {\"type\": \"line\", \"color\": \"red\"}, \"encoding\": {\"x\": {\"type\": \"ordinal\", \"field\": \"Datef\", \"scale\": {\"zero\": false}}, \"y\": {\"type\": \"quantitative\", \"field\": \"USL\", \"scale\": {\"zero\": false}}}, \"height\": 150, \"width\": 800}, {\"mark\": {\"type\": \"line\", \"color\": \"red\"}, \"encoding\": {\"x\": {\"type\": \"ordinal\", \"field\": \"Datef\", \"scale\": {\"zero\": false}}, \"y\": {\"type\": \"quantitative\", \"field\": \"LSL\", \"scale\": {\"zero\": false}}}, \"height\": 150, \"width\": 800}, {\"mark\": {\"type\": \"line\", \"color\": \"red\"}, \"encoding\": {\"x\": {\"type\": \"ordinal\", \"field\": \"Datef\", \"scale\": {\"zero\": false}}, \"y\": {\"type\": \"quantitative\", \"field\": \"Nominal\", \"scale\": {\"zero\": false}}}, \"height\": 150, \"width\": 800}]}, {\"layer\": [{\"mark\": \"bar\", \"encoding\": {\"x\": {\"type\": \"quantitative\", \"aggregate\": \"count\"}, \"y\": {\"type\": \"quantitative\", \"bin\": true, \"field\": \"Z\", \"title\": \"\"}}, \"height\": 150, \"width\": 100}, {\"mark\": {\"type\": \"rule\", \"color\": \"red\"}, \"encoding\": {\"size\": {\"value\": 1}, \"y\": {\"type\": \"quantitative\", \"field\": \"USL\"}}}, {\"mark\": {\"type\": \"rule\", \"color\": \"red\"}, \"encoding\": {\"size\": {\"value\": 1}, \"y\": {\"type\": \"quantitative\", \"field\": \"LSL\"}}}, {\"mark\": {\"type\": \"rule\", \"color\": \"red\"}, \"encoding\": {\"size\": {\"value\": 1}, \"y\": {\"type\": \"quantitative\", \"field\": \"Nominal\"}}}]}], \"data\": {\"name\": \"data-1c5f679b5333ab88874ec7ef37d3a5c8\"}, \"title\": \"Box Plot Z\"}], \"data\": {\"name\": \"data-47a814cf3ec57a3003be7397291d8b23\"}, \"$schema\": \"https://vega.github.io/schema/vega-lite/v4.8.1.json\", \"datasets\": {\"data-47a814cf3ec57a3003be7397291d8b23\": [{\"Datef\": \"2019-01-11T00:00:00\", \"Z\": 0.31, \"USL\": 0.32, \"LSL\": 0.27999999999999997, \"Nominal\": 0.3}, {\"Datef\": \"2019-01-22T00:00:00\", \"Z\": 0.311, \"USL\": 0.32, \"LSL\": 0.27999999999999997, \"Nominal\": 0.3}, {\"Datef\": \"2019-01-26T00:00:00\", \"Z\": 0.311, \"USL\": 0.32, \"LSL\": 0.27999999999999997, \"Nominal\": 0.3}, {\"Datef\": \"2019-01-31T00:00:00\", \"Z\": 0.311, \"USL\": 0.32, \"LSL\": 0.27999999999999997, \"Nominal\": 0.3}, {\"Datef\": \"2019-02-11T00:00:00\", \"Z\": 0.312, \"USL\": 0.32, \"LSL\": 0.27999999999999997, \"Nominal\": 0.3}, {\"Datef\": \"2019-02-22T00:00:00\", \"Z\": 0.312, \"USL\": 0.32, \"LSL\": 0.27999999999999997, \"Nominal\": 0.3}, {\"Datef\": \"2019-02-27T00:00:00\", \"Z\": 0.311, \"USL\": 0.32, \"LSL\": 0.27999999999999997, \"Nominal\": 0.3}, {\"Datef\": \"2019-03-07T00:00:00\", \"Z\": 0.311, \"USL\": 0.32, \"LSL\": 0.27999999999999997, \"Nominal\": 0.3}, {\"Datef\": \"2019-03-15T00:00:00\", \"Z\": 0.312, \"USL\": 0.32, \"LSL\": 0.27999999999999997, \"Nominal\": 0.3}, {\"Datef\": \"2019-04-05T00:00:00\", \"Z\": 0.311, \"USL\": 0.32, \"LSL\": 0.27999999999999997, \"Nominal\": 0.3}, {\"Datef\": \"2019-04-16T00:00:00\", \"Z\": 0.313, \"USL\": 0.31999999999999995, \"LSL\": 0.2799999999999999, \"Nominal\": 0.29999999999999993}, {\"Datef\": \"2019-05-27T00:00:00\", \"Z\": 0.313, \"USL\": 0.32, \"LSL\": 0.27999999999999997, \"Nominal\": 0.3}, {\"Datef\": \"2019-06-03T00:00:00\", \"Z\": 0.313, \"USL\": 0.32, \"LSL\": 0.27999999999999997, \"Nominal\": 0.3}, {\"Datef\": \"2019-06-10T00:00:00\", \"Z\": 0.311, \"USL\": 0.32, \"LSL\": 0.27999999999999997, \"Nominal\": 0.3}, {\"Datef\": \"2019-06-17T00:00:00\", \"Z\": 0.313, \"USL\": 0.32, \"LSL\": 0.27999999999999997, \"Nominal\": 0.3}, {\"Datef\": \"2019-06-25T00:00:00\", \"Z\": 0.316, \"USL\": 0.32, \"LSL\": 0.27999999999999997, \"Nominal\": 0.3}, {\"Datef\": \"2019-06-28T00:00:00\", \"Z\": 0.316, \"USL\": 0.32, \"LSL\": 0.27999999999999997, \"Nominal\": 0.3}, {\"Datef\": \"2019-08-07T00:00:00\", \"Z\": 0.313, \"USL\": 0.32, \"LSL\": 0.27999999999999997, \"Nominal\": 0.3}, {\"Datef\": \"2019-08-19T00:00:00\", \"Z\": 0.313, \"USL\": 0.32, \"LSL\": 0.27999999999999997, \"Nominal\": 0.3}, {\"Datef\": \"2019-08-26T00:00:00\", \"Z\": 0.313, \"USL\": 0.32, \"LSL\": 0.27999999999999997, \"Nominal\": 0.3}, {\"Datef\": \"2019-09-05T00:00:00\", \"Z\": 0.316, \"USL\": 0.32, \"LSL\": 0.27999999999999997, \"Nominal\": 0.3}, {\"Datef\": \"2019-10-17T00:00:00\", \"Z\": 0.313, \"USL\": 0.32, \"LSL\": 0.27999999999999997, \"Nominal\": 0.3}, {\"Datef\": \"2019-11-01T00:00:00\", \"Z\": 0.313, \"USL\": 0.32, \"LSL\": 0.27999999999999997, \"Nominal\": 0.3}, {\"Datef\": \"2019-11-13T00:00:00\", \"Z\": 0.315, \"USL\": 0.32, \"LSL\": 0.27999999999999997, \"Nominal\": 0.3}, {\"Datef\": \"2019-12-05T00:00:00\", \"Z\": 0.308, \"USL\": 0.32, \"LSL\": 0.27999999999999997, \"Nominal\": 0.3}, {\"Datef\": \"2019-12-10T00:00:00\", \"Z\": 0.311, \"USL\": 0.32, \"LSL\": 0.27999999999999997, \"Nominal\": 0.3}, {\"Datef\": \"2019-12-26T00:00:00\", \"Z\": 0.312, \"USL\": 0.32, \"LSL\": 0.27999999999999997, \"Nominal\": 0.3}, {\"Datef\": \"2019-12-31T00:00:00\", \"Z\": 0.313, \"USL\": 0.32, \"LSL\": 0.27999999999999997, \"Nominal\": 0.3}], \"data-e6676b181ec920b03930151172c0c4bc\": [{\"Datef\": \"\\\"2019-01-11\\\"\", \"C-Pitch\": 10.003, \"USL\": 10.01, \"LSL\": 9.99, \"Nominal\": 10.0}, {\"Datef\": \"\\\"2019-01-11\\\"\", \"C-Pitch\": 10.005, \"USL\": 10.01, \"LSL\": 9.99, \"Nominal\": 10.0}, {\"Datef\": \"\\\"2019-01-11\\\"\", \"C-Pitch\": 10.005, \"USL\": 10.01, \"LSL\": 9.99, \"Nominal\": 10.0}, {\"Datef\": \"\\\"2019-01-11\\\"\", \"C-Pitch\": 10.002, \"USL\": 10.01, \"LSL\": 9.99, \"Nominal\": 10.0}, {\"Datef\": \"\\\"2019-01-11\\\"\", \"C-Pitch\": 10.003, \"USL\": 10.01, \"LSL\": 9.99, \"Nominal\": 10.0}, {\"Datef\": \"\\\"2019-01-22\\\"\", \"C-Pitch\": 10.002, \"USL\": 10.01, \"LSL\": 9.99, \"Nominal\": 10.0}, {\"Datef\": \"\\\"2019-01-22\\\"\", \"C-Pitch\": 9.996, \"USL\": 10.01, \"LSL\": 9.99, \"Nominal\": 10.0}, {\"Datef\": \"\\\"2019-01-22\\\"\", \"C-Pitch\": 10.005, \"USL\": 10.01, \"LSL\": 9.99, \"Nominal\": 10.0}, {\"Datef\": \"\\\"2019-01-22\\\"\", \"C-Pitch\": 10.003, \"USL\": 10.01, \"LSL\": 9.99, \"Nominal\": 10.0}, {\"Datef\": \"\\\"2019-01-22\\\"\", \"C-Pitch\": 9.998, \"USL\": 10.01, \"LSL\": 9.99, \"Nominal\": 10.0}, {\"Datef\": \"\\\"2019-01-26\\\"\", \"C-Pitch\": 10.005, \"USL\": 10.01, \"LSL\": 9.99, \"Nominal\": 10.0}, {\"Datef\": \"\\\"2019-01-26\\\"\", \"C-Pitch\": 9.995, \"USL\": 10.01, \"LSL\": 9.99, \"Nominal\": 10.0}, {\"Datef\": \"\\\"2019-01-26\\\"\", \"C-Pitch\": 10.003, \"USL\": 10.01, \"LSL\": 9.99, \"Nominal\": 10.0}, {\"Datef\": \"\\\"2019-01-26\\\"\", \"C-Pitch\": 9.997, \"USL\": 10.01, \"LSL\": 9.99, \"Nominal\": 10.0}, {\"Datef\": \"\\\"2019-01-26\\\"\", \"C-Pitch\": 10.009, \"USL\": 10.01, \"LSL\": 9.99, \"Nominal\": 10.0}, {\"Datef\": \"\\\"2019-01-31\\\"\", \"C-Pitch\": 9.997, \"USL\": 10.01, \"LSL\": 9.99, \"Nominal\": 10.0}, {\"Datef\": \"\\\"2019-01-31\\\"\", \"C-Pitch\": 10.009, \"USL\": 10.01, \"LSL\": 9.99, \"Nominal\": 10.0}, {\"Datef\": \"\\\"2019-01-31\\\"\", \"C-Pitch\": 9.997, \"USL\": 10.01, \"LSL\": 9.99, \"Nominal\": 10.0}, {\"Datef\": \"\\\"2019-01-31\\\"\", \"C-Pitch\": 10.008, \"USL\": 10.01, \"LSL\": 9.99, \"Nominal\": 10.0}, {\"Datef\": \"\\\"2019-01-31\\\"\", \"C-Pitch\": 10.005, \"USL\": 10.01, \"LSL\": 9.99, \"Nominal\": 10.0}, {\"Datef\": \"\\\"2019-02-11\\\"\", \"C-Pitch\": 10.005, \"USL\": 10.01, \"LSL\": 9.99, \"Nominal\": 10.0}, {\"Datef\": \"\\\"2019-02-11\\\"\", \"C-Pitch\": 10.003, \"USL\": 10.01, \"LSL\": 9.99, \"Nominal\": 10.0}, {\"Datef\": \"\\\"2019-02-11\\\"\", \"C-Pitch\": 10.004, \"USL\": 10.01, \"LSL\": 9.99, \"Nominal\": 10.0}, {\"Datef\": \"\\\"2019-02-11\\\"\", \"C-Pitch\": 9.998, \"USL\": 10.01, \"LSL\": 9.99, \"Nominal\": 10.0}, {\"Datef\": \"\\\"2019-02-11\\\"\", \"C-Pitch\": 10.005, \"USL\": 10.01, \"LSL\": 9.99, \"Nominal\": 10.0}, {\"Datef\": \"\\\"2019-02-22\\\"\", \"C-Pitch\": 9.995, \"USL\": 10.01, \"LSL\": 9.99, \"Nominal\": 10.0}, {\"Datef\": \"\\\"2019-02-22\\\"\", \"C-Pitch\": 10.01, \"USL\": 10.01, \"LSL\": 9.99, \"Nominal\": 10.0}, {\"Datef\": \"\\\"2019-02-22\\\"\", \"C-Pitch\": 9.999, \"USL\": 10.01, \"LSL\": 9.99, \"Nominal\": 10.0}, {\"Datef\": \"\\\"2019-02-22\\\"\", \"C-Pitch\": 10.008, \"USL\": 10.01, \"LSL\": 9.99, \"Nominal\": 10.0}, {\"Datef\": \"\\\"2019-02-22\\\"\", \"C-Pitch\": 9.999, \"USL\": 10.01, \"LSL\": 9.99, \"Nominal\": 10.0}, {\"Datef\": \"\\\"2019-02-27\\\"\", \"C-Pitch\": 10.009, \"USL\": 10.01, \"LSL\": 9.99, \"Nominal\": 10.0}, {\"Datef\": \"\\\"2019-02-27\\\"\", \"C-Pitch\": 9.999, \"USL\": 10.01, \"LSL\": 9.99, \"Nominal\": 10.0}, {\"Datef\": \"\\\"2019-02-27\\\"\", \"C-Pitch\": 10.005, \"USL\": 10.01, \"LSL\": 9.99, \"Nominal\": 10.0}, {\"Datef\": \"\\\"2019-02-27\\\"\", \"C-Pitch\": 9.996, \"USL\": 10.01, \"LSL\": 9.99, \"Nominal\": 10.0}, {\"Datef\": \"\\\"2019-02-27\\\"\", \"C-Pitch\": 10.006, \"USL\": 10.01, \"LSL\": 9.99, \"Nominal\": 10.0}, {\"Datef\": \"\\\"2019-03-07\\\"\", \"C-Pitch\": 10.001, \"USL\": 10.01, \"LSL\": 9.99, \"Nominal\": 10.0}, {\"Datef\": \"\\\"2019-03-07\\\"\", \"C-Pitch\": 10.002, \"USL\": 10.01, \"LSL\": 9.99, \"Nominal\": 10.0}, {\"Datef\": \"\\\"2019-03-07\\\"\", \"C-Pitch\": 10.001, \"USL\": 10.01, \"LSL\": 9.99, \"Nominal\": 10.0}, {\"Datef\": \"\\\"2019-03-07\\\"\", \"C-Pitch\": 10.002, \"USL\": 10.01, \"LSL\": 9.99, \"Nominal\": 10.0}, {\"Datef\": \"\\\"2019-03-07\\\"\", \"C-Pitch\": 10.002, \"USL\": 10.01, \"LSL\": 9.99, \"Nominal\": 10.0}, {\"Datef\": \"\\\"2019-03-15\\\"\", \"C-Pitch\": 9.996, \"USL\": 10.01, \"LSL\": 9.99, \"Nominal\": 10.0}, {\"Datef\": \"\\\"2019-03-15\\\"\", \"C-Pitch\": 10.004, \"USL\": 10.01, \"LSL\": 9.99, \"Nominal\": 10.0}, {\"Datef\": \"\\\"2019-03-15\\\"\", \"C-Pitch\": 9.991, \"USL\": 10.01, \"LSL\": 9.99, \"Nominal\": 10.0}, {\"Datef\": \"\\\"2019-03-15\\\"\", \"C-Pitch\": 10.0, \"USL\": 10.01, \"LSL\": 9.99, \"Nominal\": 10.0}, {\"Datef\": \"\\\"2019-03-15\\\"\", \"C-Pitch\": 10.0, \"USL\": 10.01, \"LSL\": 9.99, \"Nominal\": 10.0}, {\"Datef\": \"\\\"2019-04-05\\\"\", \"C-Pitch\": 9.998, \"USL\": 10.01, \"LSL\": 9.99, \"Nominal\": 10.0}, {\"Datef\": \"\\\"2019-04-05\\\"\", \"C-Pitch\": 10.009, \"USL\": 10.01, \"LSL\": 9.99, \"Nominal\": 10.0}, {\"Datef\": \"\\\"2019-04-05\\\"\", \"C-Pitch\": 9.999, \"USL\": 10.01, \"LSL\": 9.99, \"Nominal\": 10.0}, {\"Datef\": \"\\\"2019-04-05\\\"\", \"C-Pitch\": 10.004, \"USL\": 10.01, \"LSL\": 9.99, \"Nominal\": 10.0}, {\"Datef\": \"\\\"2019-04-05\\\"\", \"C-Pitch\": 10.002, \"USL\": 10.01, \"LSL\": 9.99, \"Nominal\": 10.0}, {\"Datef\": \"\\\"2019-04-16\\\"\", \"C-Pitch\": 10.004, \"USL\": 10.01, \"LSL\": 9.99, \"Nominal\": 10.0}, {\"Datef\": \"\\\"2019-04-16\\\"\", \"C-Pitch\": 9.993, \"USL\": 10.01, \"LSL\": 9.99, \"Nominal\": 10.0}, {\"Datef\": \"\\\"2019-04-16\\\"\", \"C-Pitch\": 10.005, \"USL\": 10.01, \"LSL\": 9.99, \"Nominal\": 10.0}, {\"Datef\": \"\\\"2019-04-16\\\"\", \"C-Pitch\": 10.003, \"USL\": 10.01, \"LSL\": 9.99, \"Nominal\": 10.0}, {\"Datef\": \"\\\"2019-04-16\\\"\", \"C-Pitch\": 10.007, \"USL\": 10.01, \"LSL\": 9.99, \"Nominal\": 10.0}, {\"Datef\": \"\\\"2019-04-16\\\"\", \"C-Pitch\": 10.005, \"USL\": 10.01, \"LSL\": 9.99, \"Nominal\": 10.0}, {\"Datef\": \"\\\"2019-04-16\\\"\", \"C-Pitch\": 10.005, \"USL\": 10.01, \"LSL\": 9.99, \"Nominal\": 10.0}, {\"Datef\": \"\\\"2019-04-16\\\"\", \"C-Pitch\": 10.008, \"USL\": 10.01, \"LSL\": 9.99, \"Nominal\": 10.0}, {\"Datef\": \"\\\"2019-04-16\\\"\", \"C-Pitch\": 9.997, \"USL\": 10.01, \"LSL\": 9.99, \"Nominal\": 10.0}, {\"Datef\": \"\\\"2019-04-16\\\"\", \"C-Pitch\": 10.005, \"USL\": 10.01, \"LSL\": 9.99, \"Nominal\": 10.0}, {\"Datef\": \"\\\"2019-05-27\\\"\", \"C-Pitch\": 10.004, \"USL\": 10.01, \"LSL\": 9.99, \"Nominal\": 10.0}, {\"Datef\": \"\\\"2019-05-27\\\"\", \"C-Pitch\": 9.998, \"USL\": 10.01, \"LSL\": 9.99, \"Nominal\": 10.0}, {\"Datef\": \"\\\"2019-05-27\\\"\", \"C-Pitch\": 10.01, \"USL\": 10.01, \"LSL\": 9.99, \"Nominal\": 10.0}, {\"Datef\": \"\\\"2019-05-27\\\"\", \"C-Pitch\": 9.999, \"USL\": 10.01, \"LSL\": 9.99, \"Nominal\": 10.0}, {\"Datef\": \"\\\"2019-05-27\\\"\", \"C-Pitch\": 10.007, \"USL\": 10.01, \"LSL\": 9.99, \"Nominal\": 10.0}, {\"Datef\": \"\\\"2019-06-03\\\"\", \"C-Pitch\": 10.005, \"USL\": 10.01, \"LSL\": 9.99, \"Nominal\": 10.0}, {\"Datef\": \"\\\"2019-06-03\\\"\", \"C-Pitch\": 10.001, \"USL\": 10.01, \"LSL\": 9.99, \"Nominal\": 10.0}, {\"Datef\": \"\\\"2019-06-03\\\"\", \"C-Pitch\": 10.001, \"USL\": 10.01, \"LSL\": 9.99, \"Nominal\": 10.0}, {\"Datef\": \"\\\"2019-06-03\\\"\", \"C-Pitch\": 9.998, \"USL\": 10.01, \"LSL\": 9.99, \"Nominal\": 10.0}, {\"Datef\": \"\\\"2019-06-03\\\"\", \"C-Pitch\": 10.001, \"USL\": 10.01, \"LSL\": 9.99, \"Nominal\": 10.0}, {\"Datef\": \"\\\"2019-06-10\\\"\", \"C-Pitch\": 9.997, \"USL\": 10.01, \"LSL\": 9.99, \"Nominal\": 10.0}, {\"Datef\": \"\\\"2019-06-10\\\"\", \"C-Pitch\": 9.999, \"USL\": 10.01, \"LSL\": 9.99, \"Nominal\": 10.0}, {\"Datef\": \"\\\"2019-06-10\\\"\", \"C-Pitch\": 9.998, \"USL\": 10.01, \"LSL\": 9.99, \"Nominal\": 10.0}, {\"Datef\": \"\\\"2019-06-10\\\"\", \"C-Pitch\": 10.001, \"USL\": 10.01, \"LSL\": 9.99, \"Nominal\": 10.0}, {\"Datef\": \"\\\"2019-06-10\\\"\", \"C-Pitch\": 10.004, \"USL\": 10.01, \"LSL\": 9.99, \"Nominal\": 10.0}, {\"Datef\": \"\\\"2019-06-17\\\"\", \"C-Pitch\": 9.999, \"USL\": 10.01, \"LSL\": 9.99, \"Nominal\": 10.0}, {\"Datef\": \"\\\"2019-06-17\\\"\", \"C-Pitch\": 10.003, \"USL\": 10.01, \"LSL\": 9.99, \"Nominal\": 10.0}, {\"Datef\": \"\\\"2019-06-17\\\"\", \"C-Pitch\": 10.004, \"USL\": 10.01, \"LSL\": 9.99, \"Nominal\": 10.0}, {\"Datef\": \"\\\"2019-06-17\\\"\", \"C-Pitch\": 9.998, \"USL\": 10.01, \"LSL\": 9.99, \"Nominal\": 10.0}, {\"Datef\": \"\\\"2019-06-17\\\"\", \"C-Pitch\": 10.004, \"USL\": 10.01, \"LSL\": 9.99, \"Nominal\": 10.0}, {\"Datef\": \"\\\"2019-06-25\\\"\", \"C-Pitch\": 10.004, \"USL\": 10.01, \"LSL\": 9.99, \"Nominal\": 10.0}, {\"Datef\": \"\\\"2019-06-25\\\"\", \"C-Pitch\": 9.999, \"USL\": 10.01, \"LSL\": 9.99, \"Nominal\": 10.0}, {\"Datef\": \"\\\"2019-06-25\\\"\", \"C-Pitch\": 9.993, \"USL\": 10.01, \"LSL\": 9.99, \"Nominal\": 10.0}, {\"Datef\": \"\\\"2019-06-25\\\"\", \"C-Pitch\": 10.005, \"USL\": 10.01, \"LSL\": 9.99, \"Nominal\": 10.0}, {\"Datef\": \"\\\"2019-06-25\\\"\", \"C-Pitch\": 10.003, \"USL\": 10.01, \"LSL\": 9.99, \"Nominal\": 10.0}, {\"Datef\": \"\\\"2019-06-28\\\"\", \"C-Pitch\": 9.994, \"USL\": 10.01, \"LSL\": 9.99, \"Nominal\": 10.0}, {\"Datef\": \"\\\"2019-06-28\\\"\", \"C-Pitch\": 10.0, \"USL\": 10.01, \"LSL\": 9.99, \"Nominal\": 10.0}, {\"Datef\": \"\\\"2019-06-28\\\"\", \"C-Pitch\": 10.001, \"USL\": 10.01, \"LSL\": 9.99, \"Nominal\": 10.0}, {\"Datef\": \"\\\"2019-06-28\\\"\", \"C-Pitch\": 10.005, \"USL\": 10.01, \"LSL\": 9.99, \"Nominal\": 10.0}, {\"Datef\": \"\\\"2019-06-28\\\"\", \"C-Pitch\": 10.01, \"USL\": 10.01, \"LSL\": 9.99, \"Nominal\": 10.0}, {\"Datef\": \"\\\"2019-08-07\\\"\", \"C-Pitch\": 10.001, \"USL\": 10.01, \"LSL\": 9.99, \"Nominal\": 10.0}, {\"Datef\": \"\\\"2019-08-07\\\"\", \"C-Pitch\": 10.002, \"USL\": 10.01, \"LSL\": 9.99, \"Nominal\": 10.0}, {\"Datef\": \"\\\"2019-08-07\\\"\", \"C-Pitch\": 10.004, \"USL\": 10.01, \"LSL\": 9.99, \"Nominal\": 10.0}, {\"Datef\": \"\\\"2019-08-07\\\"\", \"C-Pitch\": 10.001, \"USL\": 10.01, \"LSL\": 9.99, \"Nominal\": 10.0}, {\"Datef\": \"\\\"2019-08-07\\\"\", \"C-Pitch\": 9.998, \"USL\": 10.01, \"LSL\": 9.99, \"Nominal\": 10.0}, {\"Datef\": \"\\\"2019-08-19\\\"\", \"C-Pitch\": 9.993, \"USL\": 10.01, \"LSL\": 9.99, \"Nominal\": 10.0}, {\"Datef\": \"\\\"2019-08-19\\\"\", \"C-Pitch\": 10.002, \"USL\": 10.01, \"LSL\": 9.99, \"Nominal\": 10.0}, {\"Datef\": \"\\\"2019-08-19\\\"\", \"C-Pitch\": 10.003, \"USL\": 10.01, \"LSL\": 9.99, \"Nominal\": 10.0}, {\"Datef\": \"\\\"2019-08-19\\\"\", \"C-Pitch\": 10.0, \"USL\": 10.01, \"LSL\": 9.99, \"Nominal\": 10.0}, {\"Datef\": \"\\\"2019-08-19\\\"\", \"C-Pitch\": 10.003, \"USL\": 10.01, \"LSL\": 9.99, \"Nominal\": 10.0}, {\"Datef\": \"\\\"2019-08-26\\\"\", \"C-Pitch\": 10.002, \"USL\": 10.01, \"LSL\": 9.99, \"Nominal\": 10.0}, {\"Datef\": \"\\\"2019-08-26\\\"\", \"C-Pitch\": 10.002, \"USL\": 10.01, \"LSL\": 9.99, \"Nominal\": 10.0}, {\"Datef\": \"\\\"2019-08-26\\\"\", \"C-Pitch\": 9.998, \"USL\": 10.01, \"LSL\": 9.99, \"Nominal\": 10.0}, {\"Datef\": \"\\\"2019-08-26\\\"\", \"C-Pitch\": 10.003, \"USL\": 10.01, \"LSL\": 9.99, \"Nominal\": 10.0}, {\"Datef\": \"\\\"2019-08-26\\\"\", \"C-Pitch\": 10.001, \"USL\": 10.01, \"LSL\": 9.99, \"Nominal\": 10.0}, {\"Datef\": \"\\\"2019-09-05\\\"\", \"C-Pitch\": 10.0, \"USL\": 10.01, \"LSL\": 9.99, \"Nominal\": 10.0}, {\"Datef\": \"\\\"2019-09-05\\\"\", \"C-Pitch\": 10.002, \"USL\": 10.01, \"LSL\": 9.99, \"Nominal\": 10.0}, {\"Datef\": \"\\\"2019-09-05\\\"\", \"C-Pitch\": 10.0, \"USL\": 10.01, \"LSL\": 9.99, \"Nominal\": 10.0}, {\"Datef\": \"\\\"2019-09-05\\\"\", \"C-Pitch\": 10.004, \"USL\": 10.01, \"LSL\": 9.99, \"Nominal\": 10.0}, {\"Datef\": \"\\\"2019-09-05\\\"\", \"C-Pitch\": 10.002, \"USL\": 10.01, \"LSL\": 9.99, \"Nominal\": 10.0}, {\"Datef\": \"\\\"2019-10-17\\\"\", \"C-Pitch\": 10.002, \"USL\": 10.01, \"LSL\": 9.99, \"Nominal\": 10.0}, {\"Datef\": \"\\\"2019-10-17\\\"\", \"C-Pitch\": 9.998, \"USL\": 10.01, \"LSL\": 9.99, \"Nominal\": 10.0}, {\"Datef\": \"\\\"2019-10-17\\\"\", \"C-Pitch\": 10.001, \"USL\": 10.01, \"LSL\": 9.99, \"Nominal\": 10.0}, {\"Datef\": \"\\\"2019-10-17\\\"\", \"C-Pitch\": 10.003, \"USL\": 10.01, \"LSL\": 9.99, \"Nominal\": 10.0}, {\"Datef\": \"\\\"2019-10-17\\\"\", \"C-Pitch\": 9.996, \"USL\": 10.01, \"LSL\": 9.99, \"Nominal\": 10.0}, {\"Datef\": \"\\\"2019-11-01\\\"\", \"C-Pitch\": 9.999, \"USL\": 10.01, \"LSL\": 9.99, \"Nominal\": 10.0}, {\"Datef\": \"\\\"2019-11-01\\\"\", \"C-Pitch\": 9.993, \"USL\": 10.01, \"LSL\": 9.99, \"Nominal\": 10.0}, {\"Datef\": \"\\\"2019-11-01\\\"\", \"C-Pitch\": 10.003, \"USL\": 10.01, \"LSL\": 9.99, \"Nominal\": 10.0}, {\"Datef\": \"\\\"2019-11-01\\\"\", \"C-Pitch\": 10.007, \"USL\": 10.01, \"LSL\": 9.99, \"Nominal\": 10.0}, {\"Datef\": \"\\\"2019-11-01\\\"\", \"C-Pitch\": 9.998, \"USL\": 10.01, \"LSL\": 9.99, \"Nominal\": 10.0}, {\"Datef\": \"\\\"2019-11-13\\\"\", \"C-Pitch\": 10.007, \"USL\": 10.01, \"LSL\": 9.99, \"Nominal\": 10.0}, {\"Datef\": \"\\\"2019-11-13\\\"\", \"C-Pitch\": 9.999, \"USL\": 10.01, \"LSL\": 9.99, \"Nominal\": 10.0}, {\"Datef\": \"\\\"2019-11-13\\\"\", \"C-Pitch\": 10.001, \"USL\": 10.01, \"LSL\": 9.99, \"Nominal\": 10.0}, {\"Datef\": \"\\\"2019-11-13\\\"\", \"C-Pitch\": 9.998, \"USL\": 10.01, \"LSL\": 9.99, \"Nominal\": 10.0}, {\"Datef\": \"\\\"2019-11-13\\\"\", \"C-Pitch\": 10.005, \"USL\": 10.01, \"LSL\": 9.99, \"Nominal\": 10.0}, {\"Datef\": \"\\\"2019-12-05\\\"\", \"C-Pitch\": 10.004, \"USL\": 10.01, \"LSL\": 9.99, \"Nominal\": 10.0}, {\"Datef\": \"\\\"2019-12-05\\\"\", \"C-Pitch\": 10.001, \"USL\": 10.01, \"LSL\": 9.99, \"Nominal\": 10.0}, {\"Datef\": \"\\\"2019-12-05\\\"\", \"C-Pitch\": 9.998, \"USL\": 10.01, \"LSL\": 9.99, \"Nominal\": 10.0}, {\"Datef\": \"\\\"2019-12-05\\\"\", \"C-Pitch\": 10.001, \"USL\": 10.01, \"LSL\": 9.99, \"Nominal\": 10.0}, {\"Datef\": \"\\\"2019-12-05\\\"\", \"C-Pitch\": 9.997, \"USL\": 10.01, \"LSL\": 9.99, \"Nominal\": 10.0}, {\"Datef\": \"\\\"2019-12-10\\\"\", \"C-Pitch\": 10.002, \"USL\": 10.01, \"LSL\": 9.99, \"Nominal\": 10.0}, {\"Datef\": \"\\\"2019-12-10\\\"\", \"C-Pitch\": 10.009, \"USL\": 10.01, \"LSL\": 9.99, \"Nominal\": 10.0}, {\"Datef\": \"\\\"2019-12-10\\\"\", \"C-Pitch\": 10.001, \"USL\": 10.01, \"LSL\": 9.99, \"Nominal\": 10.0}, {\"Datef\": \"\\\"2019-12-10\\\"\", \"C-Pitch\": 10.001, \"USL\": 10.01, \"LSL\": 9.99, \"Nominal\": 10.0}, {\"Datef\": \"\\\"2019-12-10\\\"\", \"C-Pitch\": 10.003, \"USL\": 10.01, \"LSL\": 9.99, \"Nominal\": 10.0}, {\"Datef\": \"\\\"2019-12-26\\\"\", \"C-Pitch\": 10.003, \"USL\": 10.01, \"LSL\": 9.99, \"Nominal\": 10.0}, {\"Datef\": \"\\\"2019-12-26\\\"\", \"C-Pitch\": 10.001, \"USL\": 10.01, \"LSL\": 9.99, \"Nominal\": 10.0}, {\"Datef\": \"\\\"2019-12-26\\\"\", \"C-Pitch\": 10.004, \"USL\": 10.01, \"LSL\": 9.99, \"Nominal\": 10.0}, {\"Datef\": \"\\\"2019-12-26\\\"\", \"C-Pitch\": 10.002, \"USL\": 10.01, \"LSL\": 9.99, \"Nominal\": 10.0}, {\"Datef\": \"\\\"2019-12-26\\\"\", \"C-Pitch\": 10.006, \"USL\": 10.01, \"LSL\": 9.99, \"Nominal\": 10.0}, {\"Datef\": \"\\\"2019-12-31\\\"\", \"C-Pitch\": 9.991, \"USL\": 10.01, \"LSL\": 9.99, \"Nominal\": 10.0}, {\"Datef\": \"\\\"2019-12-31\\\"\", \"C-Pitch\": 9.999, \"USL\": 10.01, \"LSL\": 9.99, \"Nominal\": 10.0}, {\"Datef\": \"\\\"2019-12-31\\\"\", \"C-Pitch\": 10.003, \"USL\": 10.01, \"LSL\": 9.99, \"Nominal\": 10.0}, {\"Datef\": \"\\\"2019-12-31\\\"\", \"C-Pitch\": 10.002, \"USL\": 10.01, \"LSL\": 9.99, \"Nominal\": 10.0}, {\"Datef\": \"\\\"2019-12-31\\\"\", \"C-Pitch\": 10.002, \"USL\": 10.01, \"LSL\": 9.99, \"Nominal\": 10.0}], \"data-376069c2ee378a3be8be401b3b03beff\": [{\"Datef\": \"\\\"2019-01-11\\\"\", \"J\": 1.219, \"USL\": 1.22, \"LSL\": 1.21, \"Nominal\": 1.21}, {\"Datef\": \"\\\"2019-01-11\\\"\", \"J\": 1.219, \"USL\": 1.22, \"LSL\": 1.21, \"Nominal\": 1.21}, {\"Datef\": \"\\\"2019-01-11\\\"\", \"J\": 1.219, \"USL\": 1.22, \"LSL\": 1.21, \"Nominal\": 1.21}, {\"Datef\": \"\\\"2019-01-11\\\"\", \"J\": 1.218, \"USL\": 1.22, \"LSL\": 1.21, \"Nominal\": 1.21}, {\"Datef\": \"\\\"2019-01-11\\\"\", \"J\": 1.219, \"USL\": 1.22, \"LSL\": 1.21, \"Nominal\": 1.21}, {\"Datef\": \"\\\"2019-01-22\\\"\", \"J\": 1.218, \"USL\": 1.22, \"LSL\": 1.21, \"Nominal\": 1.21}, {\"Datef\": \"\\\"2019-01-22\\\"\", \"J\": 1.218, \"USL\": 1.22, \"LSL\": 1.21, \"Nominal\": 1.21}, {\"Datef\": \"\\\"2019-01-22\\\"\", \"J\": 1.22, \"USL\": 1.22, \"LSL\": 1.21, \"Nominal\": 1.21}, {\"Datef\": \"\\\"2019-01-22\\\"\", \"J\": 1.22, \"USL\": 1.22, \"LSL\": 1.21, \"Nominal\": 1.21}, {\"Datef\": \"\\\"2019-01-22\\\"\", \"J\": 1.22, \"USL\": 1.22, \"LSL\": 1.21, \"Nominal\": 1.21}, {\"Datef\": \"\\\"2019-01-26\\\"\", \"J\": 1.22, \"USL\": 1.22, \"LSL\": 1.21, \"Nominal\": 1.21}, {\"Datef\": \"\\\"2019-01-26\\\"\", \"J\": 1.22, \"USL\": 1.22, \"LSL\": 1.21, \"Nominal\": 1.21}, {\"Datef\": \"\\\"2019-01-26\\\"\", \"J\": 1.22, \"USL\": 1.22, \"LSL\": 1.21, \"Nominal\": 1.21}, {\"Datef\": \"\\\"2019-01-26\\\"\", \"J\": 1.22, \"USL\": 1.22, \"LSL\": 1.21, \"Nominal\": 1.21}, {\"Datef\": \"\\\"2019-01-26\\\"\", \"J\": 1.22, \"USL\": 1.22, \"LSL\": 1.21, \"Nominal\": 1.21}, {\"Datef\": \"\\\"2019-01-31\\\"\", \"J\": 1.22, \"USL\": 1.22, \"LSL\": 1.21, \"Nominal\": 1.21}, {\"Datef\": \"\\\"2019-01-31\\\"\", \"J\": 1.22, \"USL\": 1.22, \"LSL\": 1.21, \"Nominal\": 1.21}, {\"Datef\": \"\\\"2019-01-31\\\"\", \"J\": 1.22, \"USL\": 1.22, \"LSL\": 1.21, \"Nominal\": 1.21}, {\"Datef\": \"\\\"2019-01-31\\\"\", \"J\": 1.22, \"USL\": 1.22, \"LSL\": 1.21, \"Nominal\": 1.21}, {\"Datef\": \"\\\"2019-01-31\\\"\", \"J\": 1.22, \"USL\": 1.22, \"LSL\": 1.21, \"Nominal\": 1.21}, {\"Datef\": \"\\\"2019-02-11\\\"\", \"J\": 1.22, \"USL\": 1.22, \"LSL\": 1.21, \"Nominal\": 1.21}, {\"Datef\": \"\\\"2019-02-11\\\"\", \"J\": 1.22, \"USL\": 1.22, \"LSL\": 1.21, \"Nominal\": 1.21}, {\"Datef\": \"\\\"2019-02-11\\\"\", \"J\": 1.22, \"USL\": 1.22, \"LSL\": 1.21, \"Nominal\": 1.21}, {\"Datef\": \"\\\"2019-02-11\\\"\", \"J\": 1.22, \"USL\": 1.22, \"LSL\": 1.21, \"Nominal\": 1.21}, {\"Datef\": \"\\\"2019-02-11\\\"\", \"J\": 1.22, \"USL\": 1.22, \"LSL\": 1.21, \"Nominal\": 1.21}, {\"Datef\": \"\\\"2019-02-22\\\"\", \"J\": 1.22, \"USL\": 1.22, \"LSL\": 1.21, \"Nominal\": 1.21}, {\"Datef\": \"\\\"2019-02-22\\\"\", \"J\": 1.219, \"USL\": 1.22, \"LSL\": 1.21, \"Nominal\": 1.21}, {\"Datef\": \"\\\"2019-02-22\\\"\", \"J\": 1.22, \"USL\": 1.22, \"LSL\": 1.21, \"Nominal\": 1.21}, {\"Datef\": \"\\\"2019-02-22\\\"\", \"J\": 1.22, \"USL\": 1.22, \"LSL\": 1.21, \"Nominal\": 1.21}, {\"Datef\": \"\\\"2019-02-22\\\"\", \"J\": 1.22, \"USL\": 1.22, \"LSL\": 1.21, \"Nominal\": 1.21}, {\"Datef\": \"\\\"2019-02-27\\\"\", \"J\": 1.22, \"USL\": 1.22, \"LSL\": 1.21, \"Nominal\": 1.21}, {\"Datef\": \"\\\"2019-02-27\\\"\", \"J\": 1.22, \"USL\": 1.22, \"LSL\": 1.21, \"Nominal\": 1.21}, {\"Datef\": \"\\\"2019-02-27\\\"\", \"J\": 1.22, \"USL\": 1.22, \"LSL\": 1.21, \"Nominal\": 1.21}, {\"Datef\": \"\\\"2019-02-27\\\"\", \"J\": 1.22, \"USL\": 1.22, \"LSL\": 1.21, \"Nominal\": 1.21}, {\"Datef\": \"\\\"2019-02-27\\\"\", \"J\": 1.22, \"USL\": 1.22, \"LSL\": 1.21, \"Nominal\": 1.21}, {\"Datef\": \"\\\"2019-03-07\\\"\", \"J\": 1.22, \"USL\": 1.22, \"LSL\": 1.21, \"Nominal\": 1.21}, {\"Datef\": \"\\\"2019-03-07\\\"\", \"J\": 1.22, \"USL\": 1.22, \"LSL\": 1.21, \"Nominal\": 1.21}, {\"Datef\": \"\\\"2019-03-07\\\"\", \"J\": 1.22, \"USL\": 1.22, \"LSL\": 1.21, \"Nominal\": 1.21}, {\"Datef\": \"\\\"2019-03-07\\\"\", \"J\": 1.22, \"USL\": 1.22, \"LSL\": 1.21, \"Nominal\": 1.21}, {\"Datef\": \"\\\"2019-03-07\\\"\", \"J\": 1.22, \"USL\": 1.22, \"LSL\": 1.21, \"Nominal\": 1.21}, {\"Datef\": \"\\\"2019-03-15\\\"\", \"J\": 1.219, \"USL\": 1.22, \"LSL\": 1.21, \"Nominal\": 1.21}, {\"Datef\": \"\\\"2019-03-15\\\"\", \"J\": 1.219, \"USL\": 1.22, \"LSL\": 1.21, \"Nominal\": 1.21}, {\"Datef\": \"\\\"2019-03-15\\\"\", \"J\": 1.219, \"USL\": 1.22, \"LSL\": 1.21, \"Nominal\": 1.21}, {\"Datef\": \"\\\"2019-03-15\\\"\", \"J\": 1.218, \"USL\": 1.22, \"LSL\": 1.21, \"Nominal\": 1.21}, {\"Datef\": \"\\\"2019-03-15\\\"\", \"J\": 1.22, \"USL\": 1.22, \"LSL\": 1.21, \"Nominal\": 1.21}, {\"Datef\": \"\\\"2019-04-05\\\"\", \"J\": 1.219, \"USL\": 1.22, \"LSL\": 1.21, \"Nominal\": 1.21}, {\"Datef\": \"\\\"2019-04-05\\\"\", \"J\": 1.22, \"USL\": 1.22, \"LSL\": 1.21, \"Nominal\": 1.21}, {\"Datef\": \"\\\"2019-04-05\\\"\", \"J\": 1.22, \"USL\": 1.22, \"LSL\": 1.21, \"Nominal\": 1.21}, {\"Datef\": \"\\\"2019-04-05\\\"\", \"J\": 1.22, \"USL\": 1.22, \"LSL\": 1.21, \"Nominal\": 1.21}, {\"Datef\": \"\\\"2019-04-05\\\"\", \"J\": 1.22, \"USL\": 1.22, \"LSL\": 1.21, \"Nominal\": 1.21}, {\"Datef\": \"\\\"2019-04-16\\\"\", \"J\": 1.219, \"USL\": 1.22, \"LSL\": 1.21, \"Nominal\": 1.21}, {\"Datef\": \"\\\"2019-04-16\\\"\", \"J\": 1.22, \"USL\": 1.22, \"LSL\": 1.21, \"Nominal\": 1.21}, {\"Datef\": \"\\\"2019-04-16\\\"\", \"J\": 1.219, \"USL\": 1.22, \"LSL\": 1.21, \"Nominal\": 1.21}, {\"Datef\": \"\\\"2019-04-16\\\"\", \"J\": 1.22, \"USL\": 1.22, \"LSL\": 1.21, \"Nominal\": 1.21}, {\"Datef\": \"\\\"2019-04-16\\\"\", \"J\": 1.219, \"USL\": 1.22, \"LSL\": 1.21, \"Nominal\": 1.21}, {\"Datef\": \"\\\"2019-04-16\\\"\", \"J\": 1.22, \"USL\": 1.22, \"LSL\": 1.21, \"Nominal\": 1.21}, {\"Datef\": \"\\\"2019-04-16\\\"\", \"J\": 1.22, \"USL\": 1.22, \"LSL\": 1.21, \"Nominal\": 1.21}, {\"Datef\": \"\\\"2019-04-16\\\"\", \"J\": 1.22, \"USL\": 1.22, \"LSL\": 1.21, \"Nominal\": 1.21}, {\"Datef\": \"\\\"2019-04-16\\\"\", \"J\": 1.22, \"USL\": 1.22, \"LSL\": 1.21, \"Nominal\": 1.21}, {\"Datef\": \"\\\"2019-04-16\\\"\", \"J\": 1.22, \"USL\": 1.22, \"LSL\": 1.21, \"Nominal\": 1.21}, {\"Datef\": \"\\\"2019-05-27\\\"\", \"J\": 1.219, \"USL\": 1.22, \"LSL\": 1.21, \"Nominal\": 1.21}, {\"Datef\": \"\\\"2019-05-27\\\"\", \"J\": 1.22, \"USL\": 1.22, \"LSL\": 1.21, \"Nominal\": 1.21}, {\"Datef\": \"\\\"2019-05-27\\\"\", \"J\": 1.22, \"USL\": 1.22, \"LSL\": 1.21, \"Nominal\": 1.21}, {\"Datef\": \"\\\"2019-05-27\\\"\", \"J\": 1.22, \"USL\": 1.22, \"LSL\": 1.21, \"Nominal\": 1.21}, {\"Datef\": \"\\\"2019-05-27\\\"\", \"J\": 1.219, \"USL\": 1.22, \"LSL\": 1.21, \"Nominal\": 1.21}, {\"Datef\": \"\\\"2019-06-03\\\"\", \"J\": 1.22, \"USL\": 1.22, \"LSL\": 1.21, \"Nominal\": 1.21}, {\"Datef\": \"\\\"2019-06-03\\\"\", \"J\": 1.22, \"USL\": 1.22, \"LSL\": 1.21, \"Nominal\": 1.21}, {\"Datef\": \"\\\"2019-06-03\\\"\", \"J\": 1.22, \"USL\": 1.22, \"LSL\": 1.21, \"Nominal\": 1.21}, {\"Datef\": \"\\\"2019-06-03\\\"\", \"J\": 1.22, \"USL\": 1.22, \"LSL\": 1.21, \"Nominal\": 1.21}, {\"Datef\": \"\\\"2019-06-03\\\"\", \"J\": 1.218, \"USL\": 1.22, \"LSL\": 1.21, \"Nominal\": 1.21}, {\"Datef\": \"\\\"2019-06-10\\\"\", \"J\": 1.22, \"USL\": 1.22, \"LSL\": 1.21, \"Nominal\": 1.21}, {\"Datef\": \"\\\"2019-06-10\\\"\", \"J\": 1.22, \"USL\": 1.22, \"LSL\": 1.21, \"Nominal\": 1.21}, {\"Datef\": \"\\\"2019-06-10\\\"\", \"J\": 1.22, \"USL\": 1.22, \"LSL\": 1.21, \"Nominal\": 1.21}, {\"Datef\": \"\\\"2019-06-10\\\"\", \"J\": 1.22, \"USL\": 1.22, \"LSL\": 1.21, \"Nominal\": 1.21}, {\"Datef\": \"\\\"2019-06-10\\\"\", \"J\": 1.22, \"USL\": 1.22, \"LSL\": 1.21, \"Nominal\": 1.21}, {\"Datef\": \"\\\"2019-06-17\\\"\", \"J\": 1.219, \"USL\": 1.22, \"LSL\": 1.21, \"Nominal\": 1.21}, {\"Datef\": \"\\\"2019-06-17\\\"\", \"J\": 1.217, \"USL\": 1.22, \"LSL\": 1.21, \"Nominal\": 1.21}, {\"Datef\": \"\\\"2019-06-17\\\"\", \"J\": 1.219, \"USL\": 1.22, \"LSL\": 1.21, \"Nominal\": 1.21}, {\"Datef\": \"\\\"2019-06-17\\\"\", \"J\": 1.218, \"USL\": 1.22, \"LSL\": 1.21, \"Nominal\": 1.21}, {\"Datef\": \"\\\"2019-06-17\\\"\", \"J\": 1.219, \"USL\": 1.22, \"LSL\": 1.21, \"Nominal\": 1.21}, {\"Datef\": \"\\\"2019-06-25\\\"\", \"J\": 1.219, \"USL\": 1.22, \"LSL\": 1.21, \"Nominal\": 1.21}, {\"Datef\": \"\\\"2019-06-25\\\"\", \"J\": 1.219, \"USL\": 1.22, \"LSL\": 1.21, \"Nominal\": 1.21}, {\"Datef\": \"\\\"2019-06-25\\\"\", \"J\": 1.219, \"USL\": 1.22, \"LSL\": 1.21, \"Nominal\": 1.21}, {\"Datef\": \"\\\"2019-06-25\\\"\", \"J\": 1.219, \"USL\": 1.22, \"LSL\": 1.21, \"Nominal\": 1.21}, {\"Datef\": \"\\\"2019-06-25\\\"\", \"J\": 1.219, \"USL\": 1.22, \"LSL\": 1.21, \"Nominal\": 1.21}, {\"Datef\": \"\\\"2019-06-28\\\"\", \"J\": 1.218, \"USL\": 1.22, \"LSL\": 1.21, \"Nominal\": 1.21}, {\"Datef\": \"\\\"2019-06-28\\\"\", \"J\": 1.218, \"USL\": 1.22, \"LSL\": 1.21, \"Nominal\": 1.21}, {\"Datef\": \"\\\"2019-06-28\\\"\", \"J\": 1.216, \"USL\": 1.22, \"LSL\": 1.21, \"Nominal\": 1.21}, {\"Datef\": \"\\\"2019-06-28\\\"\", \"J\": 1.218, \"USL\": 1.22, \"LSL\": 1.21, \"Nominal\": 1.21}, {\"Datef\": \"\\\"2019-06-28\\\"\", \"J\": 1.219, \"USL\": 1.22, \"LSL\": 1.21, \"Nominal\": 1.21}, {\"Datef\": \"\\\"2019-08-07\\\"\", \"J\": 1.218, \"USL\": 1.22, \"LSL\": 1.21, \"Nominal\": 1.21}, {\"Datef\": \"\\\"2019-08-07\\\"\", \"J\": 1.217, \"USL\": 1.22, \"LSL\": 1.21, \"Nominal\": 1.21}, {\"Datef\": \"\\\"2019-08-07\\\"\", \"J\": 1.217, \"USL\": 1.22, \"LSL\": 1.21, \"Nominal\": 1.21}, {\"Datef\": \"\\\"2019-08-07\\\"\", \"J\": 1.217, \"USL\": 1.22, \"LSL\": 1.21, \"Nominal\": 1.21}, {\"Datef\": \"\\\"2019-08-07\\\"\", \"J\": 1.218, \"USL\": 1.22, \"LSL\": 1.21, \"Nominal\": 1.21}, {\"Datef\": \"\\\"2019-08-19\\\"\", \"J\": 1.217, \"USL\": 1.22, \"LSL\": 1.21, \"Nominal\": 1.21}, {\"Datef\": \"\\\"2019-08-19\\\"\", \"J\": 1.217, \"USL\": 1.22, \"LSL\": 1.21, \"Nominal\": 1.21}, {\"Datef\": \"\\\"2019-08-19\\\"\", \"J\": 1.217, \"USL\": 1.22, \"LSL\": 1.21, \"Nominal\": 1.21}, {\"Datef\": \"\\\"2019-08-19\\\"\", \"J\": 1.218, \"USL\": 1.22, \"LSL\": 1.21, \"Nominal\": 1.21}, {\"Datef\": \"\\\"2019-08-19\\\"\", \"J\": 1.217, \"USL\": 1.22, \"LSL\": 1.21, \"Nominal\": 1.21}, {\"Datef\": \"\\\"2019-08-26\\\"\", \"J\": 1.219, \"USL\": 1.22, \"LSL\": 1.21, \"Nominal\": 1.21}, {\"Datef\": \"\\\"2019-08-26\\\"\", \"J\": 1.218, \"USL\": 1.22, \"LSL\": 1.21, \"Nominal\": 1.21}, {\"Datef\": \"\\\"2019-08-26\\\"\", \"J\": 1.219, \"USL\": 1.22, \"LSL\": 1.21, \"Nominal\": 1.21}, {\"Datef\": \"\\\"2019-08-26\\\"\", \"J\": 1.219, \"USL\": 1.22, \"LSL\": 1.21, \"Nominal\": 1.21}, {\"Datef\": \"\\\"2019-08-26\\\"\", \"J\": 1.219, \"USL\": 1.22, \"LSL\": 1.21, \"Nominal\": 1.21}, {\"Datef\": \"\\\"2019-09-05\\\"\", \"J\": 1.216, \"USL\": 1.22, \"LSL\": 1.21, \"Nominal\": 1.21}, {\"Datef\": \"\\\"2019-09-05\\\"\", \"J\": 1.218, \"USL\": 1.22, \"LSL\": 1.21, \"Nominal\": 1.21}, {\"Datef\": \"\\\"2019-09-05\\\"\", \"J\": 1.218, \"USL\": 1.22, \"LSL\": 1.21, \"Nominal\": 1.21}, {\"Datef\": \"\\\"2019-09-05\\\"\", \"J\": 1.218, \"USL\": 1.22, \"LSL\": 1.21, \"Nominal\": 1.21}, {\"Datef\": \"\\\"2019-09-05\\\"\", \"J\": 1.218, \"USL\": 1.22, \"LSL\": 1.21, \"Nominal\": 1.21}, {\"Datef\": \"\\\"2019-10-17\\\"\", \"J\": 1.22, \"USL\": 1.22, \"LSL\": 1.21, \"Nominal\": 1.21}, {\"Datef\": \"\\\"2019-10-17\\\"\", \"J\": 1.22, \"USL\": 1.22, \"LSL\": 1.21, \"Nominal\": 1.21}, {\"Datef\": \"\\\"2019-10-17\\\"\", \"J\": 1.22, \"USL\": 1.22, \"LSL\": 1.21, \"Nominal\": 1.21}, {\"Datef\": \"\\\"2019-10-17\\\"\", \"J\": 1.22, \"USL\": 1.22, \"LSL\": 1.21, \"Nominal\": 1.21}, {\"Datef\": \"\\\"2019-10-17\\\"\", \"J\": 1.22, \"USL\": 1.22, \"LSL\": 1.21, \"Nominal\": 1.21}, {\"Datef\": \"\\\"2019-11-01\\\"\", \"J\": 1.22, \"USL\": 1.22, \"LSL\": 1.21, \"Nominal\": 1.21}, {\"Datef\": \"\\\"2019-11-01\\\"\", \"J\": 1.22, \"USL\": 1.22, \"LSL\": 1.21, \"Nominal\": 1.21}, {\"Datef\": \"\\\"2019-11-01\\\"\", \"J\": 1.22, \"USL\": 1.22, \"LSL\": 1.21, \"Nominal\": 1.21}, {\"Datef\": \"\\\"2019-11-01\\\"\", \"J\": 1.22, \"USL\": 1.22, \"LSL\": 1.21, \"Nominal\": 1.21}, {\"Datef\": \"\\\"2019-11-01\\\"\", \"J\": 1.22, \"USL\": 1.22, \"LSL\": 1.21, \"Nominal\": 1.21}, {\"Datef\": \"\\\"2019-11-13\\\"\", \"J\": 1.219, \"USL\": 1.22, \"LSL\": 1.21, \"Nominal\": 1.21}, {\"Datef\": \"\\\"2019-11-13\\\"\", \"J\": 1.219, \"USL\": 1.22, \"LSL\": 1.21, \"Nominal\": 1.21}, {\"Datef\": \"\\\"2019-11-13\\\"\", \"J\": 1.219, \"USL\": 1.22, \"LSL\": 1.21, \"Nominal\": 1.21}, {\"Datef\": \"\\\"2019-11-13\\\"\", \"J\": 1.219, \"USL\": 1.22, \"LSL\": 1.21, \"Nominal\": 1.21}, {\"Datef\": \"\\\"2019-11-13\\\"\", \"J\": 1.219, \"USL\": 1.22, \"LSL\": 1.21, \"Nominal\": 1.21}, {\"Datef\": \"\\\"2019-12-05\\\"\", \"J\": 1.22, \"USL\": 1.22, \"LSL\": 1.21, \"Nominal\": 1.21}, {\"Datef\": \"\\\"2019-12-05\\\"\", \"J\": 1.219, \"USL\": 1.22, \"LSL\": 1.21, \"Nominal\": 1.21}, {\"Datef\": \"\\\"2019-12-05\\\"\", \"J\": 1.219, \"USL\": 1.22, \"LSL\": 1.21, \"Nominal\": 1.21}, {\"Datef\": \"\\\"2019-12-05\\\"\", \"J\": 1.22, \"USL\": 1.22, \"LSL\": 1.21, \"Nominal\": 1.21}, {\"Datef\": \"\\\"2019-12-05\\\"\", \"J\": 1.219, \"USL\": 1.22, \"LSL\": 1.21, \"Nominal\": 1.21}, {\"Datef\": \"\\\"2019-12-10\\\"\", \"J\": 1.22, \"USL\": 1.22, \"LSL\": 1.21, \"Nominal\": 1.21}, {\"Datef\": \"\\\"2019-12-10\\\"\", \"J\": 1.22, \"USL\": 1.22, \"LSL\": 1.21, \"Nominal\": 1.21}, {\"Datef\": \"\\\"2019-12-10\\\"\", \"J\": 1.22, \"USL\": 1.22, \"LSL\": 1.21, \"Nominal\": 1.21}, {\"Datef\": \"\\\"2019-12-10\\\"\", \"J\": 1.219, \"USL\": 1.22, \"LSL\": 1.21, \"Nominal\": 1.21}, {\"Datef\": \"\\\"2019-12-10\\\"\", \"J\": 1.22, \"USL\": 1.22, \"LSL\": 1.21, \"Nominal\": 1.21}, {\"Datef\": \"\\\"2019-12-26\\\"\", \"J\": 1.22, \"USL\": 1.22, \"LSL\": 1.21, \"Nominal\": 1.21}, {\"Datef\": \"\\\"2019-12-26\\\"\", \"J\": 1.219, \"USL\": 1.22, \"LSL\": 1.21, \"Nominal\": 1.21}, {\"Datef\": \"\\\"2019-12-26\\\"\", \"J\": 1.218, \"USL\": 1.22, \"LSL\": 1.21, \"Nominal\": 1.21}, {\"Datef\": \"\\\"2019-12-26\\\"\", \"J\": 1.22, \"USL\": 1.22, \"LSL\": 1.21, \"Nominal\": 1.21}, {\"Datef\": \"\\\"2019-12-26\\\"\", \"J\": 1.219, \"USL\": 1.22, \"LSL\": 1.21, \"Nominal\": 1.21}, {\"Datef\": \"\\\"2019-12-31\\\"\", \"J\": 1.218, \"USL\": 1.22, \"LSL\": 1.21, \"Nominal\": 1.21}, {\"Datef\": \"\\\"2019-12-31\\\"\", \"J\": 1.218, \"USL\": 1.22, \"LSL\": 1.21, \"Nominal\": 1.21}, {\"Datef\": \"\\\"2019-12-31\\\"\", \"J\": 1.219, \"USL\": 1.22, \"LSL\": 1.21, \"Nominal\": 1.21}, {\"Datef\": \"\\\"2019-12-31\\\"\", \"J\": 1.219, \"USL\": 1.22, \"LSL\": 1.21, \"Nominal\": 1.21}, {\"Datef\": \"\\\"2019-12-31\\\"\", \"J\": 1.218, \"USL\": 1.22, \"LSL\": 1.21, \"Nominal\": 1.21}], \"data-89a563b4fdb08ce29bd91819ea45bf24\": [{\"Datef\": \"\\\"2019-01-11\\\"\", \"I\": 3.197, \"USL\": 3.21, \"LSL\": 3.1900000000000004, \"Nominal\": 3.2}, {\"Datef\": \"\\\"2019-01-11\\\"\", \"I\": 3.19, \"USL\": 3.21, \"LSL\": 3.1900000000000004, \"Nominal\": 3.2}, {\"Datef\": \"\\\"2019-01-11\\\"\", \"I\": 3.194, \"USL\": 3.21, \"LSL\": 3.1900000000000004, \"Nominal\": 3.2}, {\"Datef\": \"\\\"2019-01-11\\\"\", \"I\": 3.198, \"USL\": 3.21, \"LSL\": 3.1900000000000004, \"Nominal\": 3.2}, {\"Datef\": \"\\\"2019-01-11\\\"\", \"I\": 3.19, \"USL\": 3.21, \"LSL\": 3.1900000000000004, \"Nominal\": 3.2}, {\"Datef\": \"\\\"2019-01-22\\\"\", \"I\": 3.201, \"USL\": 3.21, \"LSL\": 3.1900000000000004, \"Nominal\": 3.2}, {\"Datef\": \"\\\"2019-01-22\\\"\", \"I\": 3.205, \"USL\": 3.21, \"LSL\": 3.1900000000000004, \"Nominal\": 3.2}, {\"Datef\": \"\\\"2019-01-22\\\"\", \"I\": 3.192, \"USL\": 3.21, \"LSL\": 3.1900000000000004, \"Nominal\": 3.2}, {\"Datef\": \"\\\"2019-01-22\\\"\", \"I\": 3.195, \"USL\": 3.21, \"LSL\": 3.1900000000000004, \"Nominal\": 3.2}, {\"Datef\": \"\\\"2019-01-22\\\"\", \"I\": 3.2, \"USL\": 3.21, \"LSL\": 3.1900000000000004, \"Nominal\": 3.2}, {\"Datef\": \"\\\"2019-01-26\\\"\", \"I\": 3.195, \"USL\": 3.21, \"LSL\": 3.1900000000000004, \"Nominal\": 3.2}, {\"Datef\": \"\\\"2019-01-26\\\"\", \"I\": 3.209, \"USL\": 3.21, \"LSL\": 3.1900000000000004, \"Nominal\": 3.2}, {\"Datef\": \"\\\"2019-01-26\\\"\", \"I\": 3.202, \"USL\": 3.21, \"LSL\": 3.1900000000000004, \"Nominal\": 3.2}, {\"Datef\": \"\\\"2019-01-26\\\"\", \"I\": 3.205, \"USL\": 3.21, \"LSL\": 3.1900000000000004, \"Nominal\": 3.2}, {\"Datef\": \"\\\"2019-01-26\\\"\", \"I\": 3.19, \"USL\": 3.21, \"LSL\": 3.1900000000000004, \"Nominal\": 3.2}, {\"Datef\": \"\\\"2019-01-31\\\"\", \"I\": 3.203, \"USL\": 3.21, \"LSL\": 3.1900000000000004, \"Nominal\": 3.2}, {\"Datef\": \"\\\"2019-01-31\\\"\", \"I\": 3.195, \"USL\": 3.21, \"LSL\": 3.1900000000000004, \"Nominal\": 3.2}, {\"Datef\": \"\\\"2019-01-31\\\"\", \"I\": 3.199, \"USL\": 3.21, \"LSL\": 3.1900000000000004, \"Nominal\": 3.2}, {\"Datef\": \"\\\"2019-01-31\\\"\", \"I\": 3.193, \"USL\": 3.21, \"LSL\": 3.1900000000000004, \"Nominal\": 3.2}, {\"Datef\": \"\\\"2019-01-31\\\"\", \"I\": 3.19, \"USL\": 3.21, \"LSL\": 3.1900000000000004, \"Nominal\": 3.2}, {\"Datef\": \"\\\"2019-02-11\\\"\", \"I\": 3.192, \"USL\": 3.21, \"LSL\": 3.1900000000000004, \"Nominal\": 3.2}, {\"Datef\": \"\\\"2019-02-11\\\"\", \"I\": 3.198, \"USL\": 3.21, \"LSL\": 3.1900000000000004, \"Nominal\": 3.2}, {\"Datef\": \"\\\"2019-02-11\\\"\", \"I\": 3.19, \"USL\": 3.21, \"LSL\": 3.1900000000000004, \"Nominal\": 3.2}, {\"Datef\": \"\\\"2019-02-11\\\"\", \"I\": 3.201, \"USL\": 3.21, \"LSL\": 3.1900000000000004, \"Nominal\": 3.2}, {\"Datef\": \"\\\"2019-02-11\\\"\", \"I\": 3.192, \"USL\": 3.21, \"LSL\": 3.1900000000000004, \"Nominal\": 3.2}, {\"Datef\": \"\\\"2019-02-22\\\"\", \"I\": 3.205, \"USL\": 3.21, \"LSL\": 3.1900000000000004, \"Nominal\": 3.2}, {\"Datef\": \"\\\"2019-02-22\\\"\", \"I\": 3.19, \"USL\": 3.21, \"LSL\": 3.1900000000000004, \"Nominal\": 3.2}, {\"Datef\": \"\\\"2019-02-22\\\"\", \"I\": 3.204, \"USL\": 3.21, \"LSL\": 3.1900000000000004, \"Nominal\": 3.2}, {\"Datef\": \"\\\"2019-02-22\\\"\", \"I\": 3.19, \"USL\": 3.21, \"LSL\": 3.1900000000000004, \"Nominal\": 3.2}, {\"Datef\": \"\\\"2019-02-22\\\"\", \"I\": 3.201, \"USL\": 3.21, \"LSL\": 3.1900000000000004, \"Nominal\": 3.2}, {\"Datef\": \"\\\"2019-02-27\\\"\", \"I\": 3.19, \"USL\": 3.21, \"LSL\": 3.1900000000000004, \"Nominal\": 3.2}, {\"Datef\": \"\\\"2019-02-27\\\"\", \"I\": 3.202, \"USL\": 3.21, \"LSL\": 3.1900000000000004, \"Nominal\": 3.2}, {\"Datef\": \"\\\"2019-02-27\\\"\", \"I\": 3.192, \"USL\": 3.21, \"LSL\": 3.1900000000000004, \"Nominal\": 3.2}, {\"Datef\": \"\\\"2019-02-27\\\"\", \"I\": 3.2, \"USL\": 3.21, \"LSL\": 3.1900000000000004, \"Nominal\": 3.2}, {\"Datef\": \"\\\"2019-02-27\\\"\", \"I\": 3.192, \"USL\": 3.21, \"LSL\": 3.1900000000000004, \"Nominal\": 3.2}, {\"Datef\": \"\\\"2019-03-07\\\"\", \"I\": 3.194, \"USL\": 3.21, \"LSL\": 3.1900000000000004, \"Nominal\": 3.2}, {\"Datef\": \"\\\"2019-03-07\\\"\", \"I\": 3.195, \"USL\": 3.21, \"LSL\": 3.1900000000000004, \"Nominal\": 3.2}, {\"Datef\": \"\\\"2019-03-07\\\"\", \"I\": 3.195, \"USL\": 3.21, \"LSL\": 3.1900000000000004, \"Nominal\": 3.2}, {\"Datef\": \"\\\"2019-03-07\\\"\", \"I\": 3.196, \"USL\": 3.21, \"LSL\": 3.1900000000000004, \"Nominal\": 3.2}, {\"Datef\": \"\\\"2019-03-07\\\"\", \"I\": 3.193, \"USL\": 3.21, \"LSL\": 3.1900000000000004, \"Nominal\": 3.2}, {\"Datef\": \"\\\"2019-03-15\\\"\", \"I\": 3.21, \"USL\": 3.21, \"LSL\": 3.1900000000000004, \"Nominal\": 3.2}, {\"Datef\": \"\\\"2019-03-15\\\"\", \"I\": 3.197, \"USL\": 3.21, \"LSL\": 3.1900000000000004, \"Nominal\": 3.2}, {\"Datef\": \"\\\"2019-03-15\\\"\", \"I\": 3.204, \"USL\": 3.21, \"LSL\": 3.1900000000000004, \"Nominal\": 3.2}, {\"Datef\": \"\\\"2019-03-15\\\"\", \"I\": 3.196, \"USL\": 3.21, \"LSL\": 3.1900000000000004, \"Nominal\": 3.2}, {\"Datef\": \"\\\"2019-03-15\\\"\", \"I\": 3.19, \"USL\": 3.21, \"LSL\": 3.1900000000000004, \"Nominal\": 3.2}, {\"Datef\": \"\\\"2019-04-05\\\"\", \"I\": 3.203, \"USL\": 3.21, \"LSL\": 3.1900000000000004, \"Nominal\": 3.2}, {\"Datef\": \"\\\"2019-04-05\\\"\", \"I\": 3.2, \"USL\": 3.21, \"LSL\": 3.1900000000000004, \"Nominal\": 3.2}, {\"Datef\": \"\\\"2019-04-05\\\"\", \"I\": 3.2, \"USL\": 3.21, \"LSL\": 3.1900000000000004, \"Nominal\": 3.2}, {\"Datef\": \"\\\"2019-04-05\\\"\", \"I\": 3.198, \"USL\": 3.21, \"LSL\": 3.1900000000000004, \"Nominal\": 3.2}, {\"Datef\": \"\\\"2019-04-05\\\"\", \"I\": 3.2, \"USL\": 3.21, \"LSL\": 3.1900000000000004, \"Nominal\": 3.2}, {\"Datef\": \"\\\"2019-04-16\\\"\", \"I\": 3.209, \"USL\": 3.21, \"LSL\": 3.1900000000000004, \"Nominal\": 3.2}, {\"Datef\": \"\\\"2019-04-16\\\"\", \"I\": 3.2, \"USL\": 3.21, \"LSL\": 3.1900000000000004, \"Nominal\": 3.2}, {\"Datef\": \"\\\"2019-04-16\\\"\", \"I\": 3.207, \"USL\": 3.21, \"LSL\": 3.1900000000000004, \"Nominal\": 3.2}, {\"Datef\": \"\\\"2019-04-16\\\"\", \"I\": 3.191, \"USL\": 3.21, \"LSL\": 3.1900000000000004, \"Nominal\": 3.2}, {\"Datef\": \"\\\"2019-04-16\\\"\", \"I\": 3.199, \"USL\": 3.21, \"LSL\": 3.1900000000000004, \"Nominal\": 3.2}, {\"Datef\": \"\\\"2019-04-16\\\"\", \"I\": 3.197, \"USL\": 3.21, \"LSL\": 3.1900000000000004, \"Nominal\": 3.2}, {\"Datef\": \"\\\"2019-04-16\\\"\", \"I\": 3.205, \"USL\": 3.21, \"LSL\": 3.1900000000000004, \"Nominal\": 3.2}, {\"Datef\": \"\\\"2019-04-16\\\"\", \"I\": 3.194, \"USL\": 3.21, \"LSL\": 3.1900000000000004, \"Nominal\": 3.2}, {\"Datef\": \"\\\"2019-04-16\\\"\", \"I\": 3.203, \"USL\": 3.21, \"LSL\": 3.1900000000000004, \"Nominal\": 3.2}, {\"Datef\": \"\\\"2019-04-16\\\"\", \"I\": 3.193, \"USL\": 3.21, \"LSL\": 3.1900000000000004, \"Nominal\": 3.2}, {\"Datef\": \"\\\"2019-05-27\\\"\", \"I\": 3.198, \"USL\": 3.21, \"LSL\": 3.1900000000000004, \"Nominal\": 3.2}, {\"Datef\": \"\\\"2019-05-27\\\"\", \"I\": 3.206, \"USL\": 3.21, \"LSL\": 3.1900000000000004, \"Nominal\": 3.2}, {\"Datef\": \"\\\"2019-05-27\\\"\", \"I\": 3.194, \"USL\": 3.21, \"LSL\": 3.1900000000000004, \"Nominal\": 3.2}, {\"Datef\": \"\\\"2019-05-27\\\"\", \"I\": 3.204, \"USL\": 3.21, \"LSL\": 3.1900000000000004, \"Nominal\": 3.2}, {\"Datef\": \"\\\"2019-05-27\\\"\", \"I\": 3.193, \"USL\": 3.21, \"LSL\": 3.1900000000000004, \"Nominal\": 3.2}, {\"Datef\": \"\\\"2019-06-03\\\"\", \"I\": 3.196, \"USL\": 3.21, \"LSL\": 3.1900000000000004, \"Nominal\": 3.2}, {\"Datef\": \"\\\"2019-06-03\\\"\", \"I\": 3.196, \"USL\": 3.21, \"LSL\": 3.1900000000000004, \"Nominal\": 3.2}, {\"Datef\": \"\\\"2019-06-03\\\"\", \"I\": 3.204, \"USL\": 3.21, \"LSL\": 3.1900000000000004, \"Nominal\": 3.2}, {\"Datef\": \"\\\"2019-06-03\\\"\", \"I\": 3.201, \"USL\": 3.21, \"LSL\": 3.1900000000000004, \"Nominal\": 3.2}, {\"Datef\": \"\\\"2019-06-03\\\"\", \"I\": 3.203, \"USL\": 3.21, \"LSL\": 3.1900000000000004, \"Nominal\": 3.2}, {\"Datef\": \"\\\"2019-06-10\\\"\", \"I\": 3.207, \"USL\": 3.21, \"LSL\": 3.1900000000000004, \"Nominal\": 3.2}, {\"Datef\": \"\\\"2019-06-10\\\"\", \"I\": 3.207, \"USL\": 3.21, \"LSL\": 3.1900000000000004, \"Nominal\": 3.2}, {\"Datef\": \"\\\"2019-06-10\\\"\", \"I\": 3.2, \"USL\": 3.21, \"LSL\": 3.1900000000000004, \"Nominal\": 3.2}, {\"Datef\": \"\\\"2019-06-10\\\"\", \"I\": 3.207, \"USL\": 3.21, \"LSL\": 3.1900000000000004, \"Nominal\": 3.2}, {\"Datef\": \"\\\"2019-06-10\\\"\", \"I\": 3.198, \"USL\": 3.21, \"LSL\": 3.1900000000000004, \"Nominal\": 3.2}, {\"Datef\": \"\\\"2019-06-17\\\"\", \"I\": 3.202, \"USL\": 3.21, \"LSL\": 3.1900000000000004, \"Nominal\": 3.2}, {\"Datef\": \"\\\"2019-06-17\\\"\", \"I\": 3.196, \"USL\": 3.21, \"LSL\": 3.1900000000000004, \"Nominal\": 3.2}, {\"Datef\": \"\\\"2019-06-17\\\"\", \"I\": 3.194, \"USL\": 3.21, \"LSL\": 3.1900000000000004, \"Nominal\": 3.2}, {\"Datef\": \"\\\"2019-06-17\\\"\", \"I\": 3.203, \"USL\": 3.21, \"LSL\": 3.1900000000000004, \"Nominal\": 3.2}, {\"Datef\": \"\\\"2019-06-17\\\"\", \"I\": 3.19, \"USL\": 3.21, \"LSL\": 3.1900000000000004, \"Nominal\": 3.2}, {\"Datef\": \"\\\"2019-06-25\\\"\", \"I\": 3.199, \"USL\": 3.21, \"LSL\": 3.1900000000000004, \"Nominal\": 3.2}, {\"Datef\": \"\\\"2019-06-25\\\"\", \"I\": 3.19, \"USL\": 3.21, \"LSL\": 3.1900000000000004, \"Nominal\": 3.2}, {\"Datef\": \"\\\"2019-06-25\\\"\", \"I\": 3.2, \"USL\": 3.21, \"LSL\": 3.1900000000000004, \"Nominal\": 3.2}, {\"Datef\": \"\\\"2019-06-25\\\"\", \"I\": 3.196, \"USL\": 3.21, \"LSL\": 3.1900000000000004, \"Nominal\": 3.2}, {\"Datef\": \"\\\"2019-06-25\\\"\", \"I\": 3.192, \"USL\": 3.21, \"LSL\": 3.1900000000000004, \"Nominal\": 3.2}, {\"Datef\": \"\\\"2019-06-28\\\"\", \"I\": 3.203, \"USL\": 3.21, \"LSL\": 3.1900000000000004, \"Nominal\": 3.2}, {\"Datef\": \"\\\"2019-06-28\\\"\", \"I\": 3.203, \"USL\": 3.21, \"LSL\": 3.1900000000000004, \"Nominal\": 3.2}, {\"Datef\": \"\\\"2019-06-28\\\"\", \"I\": 3.205, \"USL\": 3.21, \"LSL\": 3.1900000000000004, \"Nominal\": 3.2}, {\"Datef\": \"\\\"2019-06-28\\\"\", \"I\": 3.195, \"USL\": 3.21, \"LSL\": 3.1900000000000004, \"Nominal\": 3.2}, {\"Datef\": \"\\\"2019-06-28\\\"\", \"I\": 3.194, \"USL\": 3.21, \"LSL\": 3.1900000000000004, \"Nominal\": 3.2}, {\"Datef\": \"\\\"2019-08-07\\\"\", \"I\": 3.201, \"USL\": 3.21, \"LSL\": 3.1900000000000004, \"Nominal\": 3.2}, {\"Datef\": \"\\\"2019-08-07\\\"\", \"I\": 3.201, \"USL\": 3.21, \"LSL\": 3.1900000000000004, \"Nominal\": 3.2}, {\"Datef\": \"\\\"2019-08-07\\\"\", \"I\": 3.202, \"USL\": 3.21, \"LSL\": 3.1900000000000004, \"Nominal\": 3.2}, {\"Datef\": \"\\\"2019-08-07\\\"\", \"I\": 3.203, \"USL\": 3.21, \"LSL\": 3.1900000000000004, \"Nominal\": 3.2}, {\"Datef\": \"\\\"2019-08-07\\\"\", \"I\": 3.199, \"USL\": 3.21, \"LSL\": 3.1900000000000004, \"Nominal\": 3.2}, {\"Datef\": \"\\\"2019-08-19\\\"\", \"I\": 3.202, \"USL\": 3.21, \"LSL\": 3.1900000000000004, \"Nominal\": 3.2}, {\"Datef\": \"\\\"2019-08-19\\\"\", \"I\": 3.202, \"USL\": 3.21, \"LSL\": 3.1900000000000004, \"Nominal\": 3.2}, {\"Datef\": \"\\\"2019-08-19\\\"\", \"I\": 3.201, \"USL\": 3.21, \"LSL\": 3.1900000000000004, \"Nominal\": 3.2}, {\"Datef\": \"\\\"2019-08-19\\\"\", \"I\": 3.199, \"USL\": 3.21, \"LSL\": 3.1900000000000004, \"Nominal\": 3.2}, {\"Datef\": \"\\\"2019-08-19\\\"\", \"I\": 3.2, \"USL\": 3.21, \"LSL\": 3.1900000000000004, \"Nominal\": 3.2}, {\"Datef\": \"\\\"2019-08-26\\\"\", \"I\": 3.201, \"USL\": 3.21, \"LSL\": 3.1900000000000004, \"Nominal\": 3.2}, {\"Datef\": \"\\\"2019-08-26\\\"\", \"I\": 3.202, \"USL\": 3.21, \"LSL\": 3.1900000000000004, \"Nominal\": 3.2}, {\"Datef\": \"\\\"2019-08-26\\\"\", \"I\": 3.199, \"USL\": 3.21, \"LSL\": 3.1900000000000004, \"Nominal\": 3.2}, {\"Datef\": \"\\\"2019-08-26\\\"\", \"I\": 3.199, \"USL\": 3.21, \"LSL\": 3.1900000000000004, \"Nominal\": 3.2}, {\"Datef\": \"\\\"2019-08-26\\\"\", \"I\": 3.201, \"USL\": 3.21, \"LSL\": 3.1900000000000004, \"Nominal\": 3.2}, {\"Datef\": \"\\\"2019-09-05\\\"\", \"I\": 3.2, \"USL\": 3.21, \"LSL\": 3.1900000000000004, \"Nominal\": 3.2}, {\"Datef\": \"\\\"2019-09-05\\\"\", \"I\": 3.199, \"USL\": 3.21, \"LSL\": 3.1900000000000004, \"Nominal\": 3.2}, {\"Datef\": \"\\\"2019-09-05\\\"\", \"I\": 3.202, \"USL\": 3.21, \"LSL\": 3.1900000000000004, \"Nominal\": 3.2}, {\"Datef\": \"\\\"2019-09-05\\\"\", \"I\": 3.202, \"USL\": 3.21, \"LSL\": 3.1900000000000004, \"Nominal\": 3.2}, {\"Datef\": \"\\\"2019-09-05\\\"\", \"I\": 3.203, \"USL\": 3.21, \"LSL\": 3.1900000000000004, \"Nominal\": 3.2}, {\"Datef\": \"\\\"2019-10-17\\\"\", \"I\": 3.198, \"USL\": 3.21, \"LSL\": 3.1900000000000004, \"Nominal\": 3.2}, {\"Datef\": \"\\\"2019-10-17\\\"\", \"I\": 3.197, \"USL\": 3.21, \"LSL\": 3.1900000000000004, \"Nominal\": 3.2}, {\"Datef\": \"\\\"2019-10-17\\\"\", \"I\": 3.197, \"USL\": 3.21, \"LSL\": 3.1900000000000004, \"Nominal\": 3.2}, {\"Datef\": \"\\\"2019-10-17\\\"\", \"I\": 3.198, \"USL\": 3.21, \"LSL\": 3.1900000000000004, \"Nominal\": 3.2}, {\"Datef\": \"\\\"2019-10-17\\\"\", \"I\": 3.198, \"USL\": 3.21, \"LSL\": 3.1900000000000004, \"Nominal\": 3.2}, {\"Datef\": \"\\\"2019-11-01\\\"\", \"I\": 3.197, \"USL\": 3.21, \"LSL\": 3.1900000000000004, \"Nominal\": 3.2}, {\"Datef\": \"\\\"2019-11-01\\\"\", \"I\": 3.197, \"USL\": 3.21, \"LSL\": 3.1900000000000004, \"Nominal\": 3.2}, {\"Datef\": \"\\\"2019-11-01\\\"\", \"I\": 3.196, \"USL\": 3.21, \"LSL\": 3.1900000000000004, \"Nominal\": 3.2}, {\"Datef\": \"\\\"2019-11-01\\\"\", \"I\": 3.2, \"USL\": 3.21, \"LSL\": 3.1900000000000004, \"Nominal\": 3.2}, {\"Datef\": \"\\\"2019-11-01\\\"\", \"I\": 3.198, \"USL\": 3.21, \"LSL\": 3.1900000000000004, \"Nominal\": 3.2}, {\"Datef\": \"\\\"2019-11-13\\\"\", \"I\": 3.199, \"USL\": 3.21, \"LSL\": 3.1900000000000004, \"Nominal\": 3.2}, {\"Datef\": \"\\\"2019-11-13\\\"\", \"I\": 3.193, \"USL\": 3.21, \"LSL\": 3.1900000000000004, \"Nominal\": 3.2}, {\"Datef\": \"\\\"2019-11-13\\\"\", \"I\": 3.198, \"USL\": 3.21, \"LSL\": 3.1900000000000004, \"Nominal\": 3.2}, {\"Datef\": \"\\\"2019-11-13\\\"\", \"I\": 3.198, \"USL\": 3.21, \"LSL\": 3.1900000000000004, \"Nominal\": 3.2}, {\"Datef\": \"\\\"2019-11-13\\\"\", \"I\": 3.196, \"USL\": 3.21, \"LSL\": 3.1900000000000004, \"Nominal\": 3.2}, {\"Datef\": \"\\\"2019-12-05\\\"\", \"I\": 3.198, \"USL\": 3.21, \"LSL\": 3.1900000000000004, \"Nominal\": 3.2}, {\"Datef\": \"\\\"2019-12-05\\\"\", \"I\": 3.199, \"USL\": 3.21, \"LSL\": 3.1900000000000004, \"Nominal\": 3.2}, {\"Datef\": \"\\\"2019-12-05\\\"\", \"I\": 3.198, \"USL\": 3.21, \"LSL\": 3.1900000000000004, \"Nominal\": 3.2}, {\"Datef\": \"\\\"2019-12-05\\\"\", \"I\": 3.199, \"USL\": 3.21, \"LSL\": 3.1900000000000004, \"Nominal\": 3.2}, {\"Datef\": \"\\\"2019-12-05\\\"\", \"I\": 3.199, \"USL\": 3.21, \"LSL\": 3.1900000000000004, \"Nominal\": 3.2}, {\"Datef\": \"\\\"2019-12-10\\\"\", \"I\": 3.201, \"USL\": 3.21, \"LSL\": 3.1900000000000004, \"Nominal\": 3.2}, {\"Datef\": \"\\\"2019-12-10\\\"\", \"I\": 3.203, \"USL\": 3.21, \"LSL\": 3.1900000000000004, \"Nominal\": 3.2}, {\"Datef\": \"\\\"2019-12-10\\\"\", \"I\": 3.199, \"USL\": 3.21, \"LSL\": 3.1900000000000004, \"Nominal\": 3.2}, {\"Datef\": \"\\\"2019-12-10\\\"\", \"I\": 3.197, \"USL\": 3.21, \"LSL\": 3.1900000000000004, \"Nominal\": 3.2}, {\"Datef\": \"\\\"2019-12-10\\\"\", \"I\": 3.198, \"USL\": 3.21, \"LSL\": 3.1900000000000004, \"Nominal\": 3.2}, {\"Datef\": \"\\\"2019-12-26\\\"\", \"I\": 3.201, \"USL\": 3.21, \"LSL\": 3.1900000000000004, \"Nominal\": 3.2}, {\"Datef\": \"\\\"2019-12-26\\\"\", \"I\": 3.204, \"USL\": 3.21, \"LSL\": 3.1900000000000004, \"Nominal\": 3.2}, {\"Datef\": \"\\\"2019-12-26\\\"\", \"I\": 3.203, \"USL\": 3.21, \"LSL\": 3.1900000000000004, \"Nominal\": 3.2}, {\"Datef\": \"\\\"2019-12-26\\\"\", \"I\": 3.2, \"USL\": 3.21, \"LSL\": 3.1900000000000004, \"Nominal\": 3.2}, {\"Datef\": \"\\\"2019-12-26\\\"\", \"I\": 3.204, \"USL\": 3.21, \"LSL\": 3.1900000000000004, \"Nominal\": 3.2}, {\"Datef\": \"\\\"2019-12-31\\\"\", \"I\": 3.199, \"USL\": 3.21, \"LSL\": 3.1900000000000004, \"Nominal\": 3.2}, {\"Datef\": \"\\\"2019-12-31\\\"\", \"I\": 3.204, \"USL\": 3.21, \"LSL\": 3.1900000000000004, \"Nominal\": 3.2}, {\"Datef\": \"\\\"2019-12-31\\\"\", \"I\": 3.202, \"USL\": 3.21, \"LSL\": 3.1900000000000004, \"Nominal\": 3.2}, {\"Datef\": \"\\\"2019-12-31\\\"\", \"I\": 3.201, \"USL\": 3.21, \"LSL\": 3.1900000000000004, \"Nominal\": 3.2}, {\"Datef\": \"\\\"2019-12-31\\\"\", \"I\": 3.201, \"USL\": 3.21, \"LSL\": 3.1900000000000004, \"Nominal\": 3.2}], \"data-167a625bfc2ce63196d8fcf511d6c30d\": [{\"Datef\": \"\\\"2019-01-11\\\"\", \"O\": 11.855, \"USL\": 11.86, \"LSL\": 11.84, \"Nominal\": 11.85}, {\"Datef\": \"\\\"2019-01-11\\\"\", \"O\": 11.855, \"USL\": 11.86, \"LSL\": 11.84, \"Nominal\": 11.85}, {\"Datef\": \"\\\"2019-01-11\\\"\", \"O\": 11.852, \"USL\": 11.86, \"LSL\": 11.84, \"Nominal\": 11.85}, {\"Datef\": \"\\\"2019-01-11\\\"\", \"O\": 11.855, \"USL\": 11.86, \"LSL\": 11.84, \"Nominal\": 11.85}, {\"Datef\": \"\\\"2019-01-11\\\"\", \"O\": 11.85, \"USL\": 11.86, \"LSL\": 11.84, \"Nominal\": 11.85}, {\"Datef\": \"\\\"2019-01-22\\\"\", \"O\": 11.854, \"USL\": 11.86, \"LSL\": 11.84, \"Nominal\": 11.85}, {\"Datef\": \"\\\"2019-01-22\\\"\", \"O\": 11.853, \"USL\": 11.86, \"LSL\": 11.84, \"Nominal\": 11.85}, {\"Datef\": \"\\\"2019-01-22\\\"\", \"O\": 11.856, \"USL\": 11.86, \"LSL\": 11.84, \"Nominal\": 11.85}, {\"Datef\": \"\\\"2019-01-22\\\"\", \"O\": 11.847, \"USL\": 11.86, \"LSL\": 11.84, \"Nominal\": 11.85}, {\"Datef\": \"\\\"2019-01-22\\\"\", \"O\": 11.852, \"USL\": 11.86, \"LSL\": 11.84, \"Nominal\": 11.85}, {\"Datef\": \"\\\"2019-01-26\\\"\", \"O\": 11.854, \"USL\": 11.86, \"LSL\": 11.84, \"Nominal\": 11.85}, {\"Datef\": \"\\\"2019-01-26\\\"\", \"O\": 11.853, \"USL\": 11.86, \"LSL\": 11.84, \"Nominal\": 11.85}, {\"Datef\": \"\\\"2019-01-26\\\"\", \"O\": 11.851, \"USL\": 11.86, \"LSL\": 11.84, \"Nominal\": 11.85}, {\"Datef\": \"\\\"2019-01-26\\\"\", \"O\": 11.85, \"USL\": 11.86, \"LSL\": 11.84, \"Nominal\": 11.85}, {\"Datef\": \"\\\"2019-01-26\\\"\", \"O\": 11.856, \"USL\": 11.86, \"LSL\": 11.84, \"Nominal\": 11.85}, {\"Datef\": \"\\\"2019-01-31\\\"\", \"O\": 11.857, \"USL\": 11.86, \"LSL\": 11.84, \"Nominal\": 11.85}, {\"Datef\": \"\\\"2019-01-31\\\"\", \"O\": 11.856, \"USL\": 11.86, \"LSL\": 11.84, \"Nominal\": 11.85}, {\"Datef\": \"\\\"2019-01-31\\\"\", \"O\": 11.853, \"USL\": 11.86, \"LSL\": 11.84, \"Nominal\": 11.85}, {\"Datef\": \"\\\"2019-01-31\\\"\", \"O\": 11.854, \"USL\": 11.86, \"LSL\": 11.84, \"Nominal\": 11.85}, {\"Datef\": \"\\\"2019-01-31\\\"\", \"O\": 11.853, \"USL\": 11.86, \"LSL\": 11.84, \"Nominal\": 11.85}, {\"Datef\": \"\\\"2019-02-11\\\"\", \"O\": 11.851, \"USL\": 11.86, \"LSL\": 11.84, \"Nominal\": 11.85}, {\"Datef\": \"\\\"2019-02-11\\\"\", \"O\": 11.854, \"USL\": 11.86, \"LSL\": 11.84, \"Nominal\": 11.85}, {\"Datef\": \"\\\"2019-02-11\\\"\", \"O\": 11.854, \"USL\": 11.86, \"LSL\": 11.84, \"Nominal\": 11.85}, {\"Datef\": \"\\\"2019-02-11\\\"\", \"O\": 11.859, \"USL\": 11.86, \"LSL\": 11.84, \"Nominal\": 11.85}, {\"Datef\": \"\\\"2019-02-11\\\"\", \"O\": 11.853, \"USL\": 11.86, \"LSL\": 11.84, \"Nominal\": 11.85}, {\"Datef\": \"\\\"2019-02-22\\\"\", \"O\": 11.853, \"USL\": 11.86, \"LSL\": 11.84, \"Nominal\": 11.85}, {\"Datef\": \"\\\"2019-02-22\\\"\", \"O\": 11.849, \"USL\": 11.86, \"LSL\": 11.84, \"Nominal\": 11.85}, {\"Datef\": \"\\\"2019-02-22\\\"\", \"O\": 11.853, \"USL\": 11.86, \"LSL\": 11.84, \"Nominal\": 11.85}, {\"Datef\": \"\\\"2019-02-22\\\"\", \"O\": 11.851, \"USL\": 11.86, \"LSL\": 11.84, \"Nominal\": 11.85}, {\"Datef\": \"\\\"2019-02-22\\\"\", \"O\": 11.854, \"USL\": 11.86, \"LSL\": 11.84, \"Nominal\": 11.85}, {\"Datef\": \"\\\"2019-02-27\\\"\", \"O\": 11.854, \"USL\": 11.86, \"LSL\": 11.84, \"Nominal\": 11.85}, {\"Datef\": \"\\\"2019-02-27\\\"\", \"O\": 11.853, \"USL\": 11.86, \"LSL\": 11.84, \"Nominal\": 11.85}, {\"Datef\": \"\\\"2019-02-27\\\"\", \"O\": 11.856, \"USL\": 11.86, \"LSL\": 11.84, \"Nominal\": 11.85}, {\"Datef\": \"\\\"2019-02-27\\\"\", \"O\": 11.851, \"USL\": 11.86, \"LSL\": 11.84, \"Nominal\": 11.85}, {\"Datef\": \"\\\"2019-02-27\\\"\", \"O\": 11.859, \"USL\": 11.86, \"LSL\": 11.84, \"Nominal\": 11.85}, {\"Datef\": \"\\\"2019-03-07\\\"\", \"O\": 11.858, \"USL\": 11.86, \"LSL\": 11.84, \"Nominal\": 11.85}, {\"Datef\": \"\\\"2019-03-07\\\"\", \"O\": 11.856, \"USL\": 11.86, \"LSL\": 11.84, \"Nominal\": 11.85}, {\"Datef\": \"\\\"2019-03-07\\\"\", \"O\": 11.856, \"USL\": 11.86, \"LSL\": 11.84, \"Nominal\": 11.85}, {\"Datef\": \"\\\"2019-03-07\\\"\", \"O\": 11.859, \"USL\": 11.86, \"LSL\": 11.84, \"Nominal\": 11.85}, {\"Datef\": \"\\\"2019-03-07\\\"\", \"O\": 11.858, \"USL\": 11.86, \"LSL\": 11.84, \"Nominal\": 11.85}, {\"Datef\": \"\\\"2019-03-15\\\"\", \"O\": 11.852, \"USL\": 11.86, \"LSL\": 11.84, \"Nominal\": 11.85}, {\"Datef\": \"\\\"2019-03-15\\\"\", \"O\": 11.849, \"USL\": 11.86, \"LSL\": 11.84, \"Nominal\": 11.85}, {\"Datef\": \"\\\"2019-03-15\\\"\", \"O\": 11.857, \"USL\": 11.86, \"LSL\": 11.84, \"Nominal\": 11.85}, {\"Datef\": \"\\\"2019-03-15\\\"\", \"O\": 11.851, \"USL\": 11.86, \"LSL\": 11.84, \"Nominal\": 11.85}, {\"Datef\": \"\\\"2019-03-15\\\"\", \"O\": 11.855, \"USL\": 11.86, \"LSL\": 11.84, \"Nominal\": 11.85}, {\"Datef\": \"\\\"2019-04-05\\\"\", \"O\": 11.851, \"USL\": 11.86, \"LSL\": 11.84, \"Nominal\": 11.85}, {\"Datef\": \"\\\"2019-04-05\\\"\", \"O\": 11.847, \"USL\": 11.86, \"LSL\": 11.84, \"Nominal\": 11.85}, {\"Datef\": \"\\\"2019-04-05\\\"\", \"O\": 11.86, \"USL\": 11.86, \"LSL\": 11.84, \"Nominal\": 11.85}, {\"Datef\": \"\\\"2019-04-05\\\"\", \"O\": 11.86, \"USL\": 11.86, \"LSL\": 11.84, \"Nominal\": 11.85}, {\"Datef\": \"\\\"2019-04-05\\\"\", \"O\": 11.86, \"USL\": 11.86, \"LSL\": 11.84, \"Nominal\": 11.85}, {\"Datef\": \"\\\"2019-04-16\\\"\", \"O\": 11.846, \"USL\": 11.86, \"LSL\": 11.84, \"Nominal\": 11.85}, {\"Datef\": \"\\\"2019-04-16\\\"\", \"O\": 11.847, \"USL\": 11.86, \"LSL\": 11.84, \"Nominal\": 11.85}, {\"Datef\": \"\\\"2019-04-16\\\"\", \"O\": 11.851, \"USL\": 11.86, \"LSL\": 11.84, \"Nominal\": 11.85}, {\"Datef\": \"\\\"2019-04-16\\\"\", \"O\": 11.853, \"USL\": 11.86, \"LSL\": 11.84, \"Nominal\": 11.85}, {\"Datef\": \"\\\"2019-04-16\\\"\", \"O\": 11.85, \"USL\": 11.86, \"LSL\": 11.84, \"Nominal\": 11.85}, {\"Datef\": \"\\\"2019-04-16\\\"\", \"O\": 11.856, \"USL\": 11.86, \"LSL\": 11.84, \"Nominal\": 11.85}, {\"Datef\": \"\\\"2019-04-16\\\"\", \"O\": 11.856, \"USL\": 11.86, \"LSL\": 11.84, \"Nominal\": 11.85}, {\"Datef\": \"\\\"2019-04-16\\\"\", \"O\": 11.859, \"USL\": 11.86, \"LSL\": 11.84, \"Nominal\": 11.85}, {\"Datef\": \"\\\"2019-04-16\\\"\", \"O\": 11.856, \"USL\": 11.86, \"LSL\": 11.84, \"Nominal\": 11.85}, {\"Datef\": \"\\\"2019-04-16\\\"\", \"O\": 11.858, \"USL\": 11.86, \"LSL\": 11.84, \"Nominal\": 11.85}, {\"Datef\": \"\\\"2019-05-27\\\"\", \"O\": 11.857, \"USL\": 11.86, \"LSL\": 11.84, \"Nominal\": 11.85}, {\"Datef\": \"\\\"2019-05-27\\\"\", \"O\": 11.851, \"USL\": 11.86, \"LSL\": 11.84, \"Nominal\": 11.85}, {\"Datef\": \"\\\"2019-05-27\\\"\", \"O\": 11.852, \"USL\": 11.86, \"LSL\": 11.84, \"Nominal\": 11.85}, {\"Datef\": \"\\\"2019-05-27\\\"\", \"O\": 11.854, \"USL\": 11.86, \"LSL\": 11.84, \"Nominal\": 11.85}, {\"Datef\": \"\\\"2019-05-27\\\"\", \"O\": 11.852, \"USL\": 11.86, \"LSL\": 11.84, \"Nominal\": 11.85}, {\"Datef\": \"\\\"2019-06-03\\\"\", \"O\": 11.847, \"USL\": 11.86, \"LSL\": 11.84, \"Nominal\": 11.85}, {\"Datef\": \"\\\"2019-06-03\\\"\", \"O\": 11.852, \"USL\": 11.86, \"LSL\": 11.84, \"Nominal\": 11.85}, {\"Datef\": \"\\\"2019-06-03\\\"\", \"O\": 11.855, \"USL\": 11.86, \"LSL\": 11.84, \"Nominal\": 11.85}, {\"Datef\": \"\\\"2019-06-03\\\"\", \"O\": 11.858, \"USL\": 11.86, \"LSL\": 11.84, \"Nominal\": 11.85}, {\"Datef\": \"\\\"2019-06-03\\\"\", \"O\": 11.85, \"USL\": 11.86, \"LSL\": 11.84, \"Nominal\": 11.85}, {\"Datef\": \"\\\"2019-06-10\\\"\", \"O\": 11.851, \"USL\": 11.86, \"LSL\": 11.84, \"Nominal\": 11.85}, {\"Datef\": \"\\\"2019-06-10\\\"\", \"O\": 11.858, \"USL\": 11.86, \"LSL\": 11.84, \"Nominal\": 11.85}, {\"Datef\": \"\\\"2019-06-10\\\"\", \"O\": 11.86, \"USL\": 11.86, \"LSL\": 11.84, \"Nominal\": 11.85}, {\"Datef\": \"\\\"2019-06-10\\\"\", \"O\": 11.853, \"USL\": 11.86, \"LSL\": 11.84, \"Nominal\": 11.85}, {\"Datef\": \"\\\"2019-06-10\\\"\", \"O\": 11.856, \"USL\": 11.86, \"LSL\": 11.84, \"Nominal\": 11.85}, {\"Datef\": \"\\\"2019-06-17\\\"\", \"O\": 11.86, \"USL\": 11.86, \"LSL\": 11.84, \"Nominal\": 11.85}, {\"Datef\": \"\\\"2019-06-17\\\"\", \"O\": 11.859, \"USL\": 11.86, \"LSL\": 11.84, \"Nominal\": 11.85}, {\"Datef\": \"\\\"2019-06-17\\\"\", \"O\": 11.858, \"USL\": 11.86, \"LSL\": 11.84, \"Nominal\": 11.85}, {\"Datef\": \"\\\"2019-06-17\\\"\", \"O\": 11.857, \"USL\": 11.86, \"LSL\": 11.84, \"Nominal\": 11.85}, {\"Datef\": \"\\\"2019-06-17\\\"\", \"O\": 11.86, \"USL\": 11.86, \"LSL\": 11.84, \"Nominal\": 11.85}, {\"Datef\": \"\\\"2019-06-25\\\"\", \"O\": 11.857, \"USL\": 11.86, \"LSL\": 11.84, \"Nominal\": 11.85}, {\"Datef\": \"\\\"2019-06-25\\\"\", \"O\": 11.858, \"USL\": 11.86, \"LSL\": 11.84, \"Nominal\": 11.85}, {\"Datef\": \"\\\"2019-06-25\\\"\", \"O\": 11.861, \"USL\": 11.86, \"LSL\": 11.84, \"Nominal\": 11.85}, {\"Datef\": \"\\\"2019-06-25\\\"\", \"O\": 11.862, \"USL\": 11.86, \"LSL\": 11.84, \"Nominal\": 11.85}, {\"Datef\": \"\\\"2019-06-25\\\"\", \"O\": 11.861, \"USL\": 11.86, \"LSL\": 11.84, \"Nominal\": 11.85}, {\"Datef\": \"\\\"2019-06-28\\\"\", \"O\": 11.855, \"USL\": 11.86, \"LSL\": 11.84, \"Nominal\": 11.85}, {\"Datef\": \"\\\"2019-06-28\\\"\", \"O\": 11.858, \"USL\": 11.86, \"LSL\": 11.84, \"Nominal\": 11.85}, {\"Datef\": \"\\\"2019-06-28\\\"\", \"O\": 11.854, \"USL\": 11.86, \"LSL\": 11.84, \"Nominal\": 11.85}, {\"Datef\": \"\\\"2019-06-28\\\"\", \"O\": 11.859, \"USL\": 11.86, \"LSL\": 11.84, \"Nominal\": 11.85}, {\"Datef\": \"\\\"2019-06-28\\\"\", \"O\": 11.852, \"USL\": 11.86, \"LSL\": 11.84, \"Nominal\": 11.85}, {\"Datef\": \"\\\"2019-08-07\\\"\", \"O\": 11.851, \"USL\": 11.86, \"LSL\": 11.84, \"Nominal\": 11.85}, {\"Datef\": \"\\\"2019-08-07\\\"\", \"O\": 11.851, \"USL\": 11.86, \"LSL\": 11.84, \"Nominal\": 11.85}, {\"Datef\": \"\\\"2019-08-07\\\"\", \"O\": 11.85, \"USL\": 11.86, \"LSL\": 11.84, \"Nominal\": 11.85}, {\"Datef\": \"\\\"2019-08-07\\\"\", \"O\": 11.85, \"USL\": 11.86, \"LSL\": 11.84, \"Nominal\": 11.85}, {\"Datef\": \"\\\"2019-08-07\\\"\", \"O\": 11.852, \"USL\": 11.86, \"LSL\": 11.84, \"Nominal\": 11.85}, {\"Datef\": \"\\\"2019-08-19\\\"\", \"O\": 11.848, \"USL\": 11.86, \"LSL\": 11.84, \"Nominal\": 11.85}, {\"Datef\": \"\\\"2019-08-19\\\"\", \"O\": 11.849, \"USL\": 11.86, \"LSL\": 11.84, \"Nominal\": 11.85}, {\"Datef\": \"\\\"2019-08-19\\\"\", \"O\": 11.848, \"USL\": 11.86, \"LSL\": 11.84, \"Nominal\": 11.85}, {\"Datef\": \"\\\"2019-08-19\\\"\", \"O\": 11.849, \"USL\": 11.86, \"LSL\": 11.84, \"Nominal\": 11.85}, {\"Datef\": \"\\\"2019-08-19\\\"\", \"O\": 11.849, \"USL\": 11.86, \"LSL\": 11.84, \"Nominal\": 11.85}, {\"Datef\": \"\\\"2019-08-26\\\"\", \"O\": 11.849, \"USL\": 11.86, \"LSL\": 11.84, \"Nominal\": 11.85}, {\"Datef\": \"\\\"2019-08-26\\\"\", \"O\": 11.85, \"USL\": 11.86, \"LSL\": 11.84, \"Nominal\": 11.85}, {\"Datef\": \"\\\"2019-08-26\\\"\", \"O\": 11.852, \"USL\": 11.86, \"LSL\": 11.84, \"Nominal\": 11.85}, {\"Datef\": \"\\\"2019-08-26\\\"\", \"O\": 11.849, \"USL\": 11.86, \"LSL\": 11.84, \"Nominal\": 11.85}, {\"Datef\": \"\\\"2019-08-26\\\"\", \"O\": 11.849, \"USL\": 11.86, \"LSL\": 11.84, \"Nominal\": 11.85}, {\"Datef\": \"\\\"2019-09-05\\\"\", \"O\": 11.855, \"USL\": 11.86, \"LSL\": 11.84, \"Nominal\": 11.85}, {\"Datef\": \"\\\"2019-09-05\\\"\", \"O\": 11.855, \"USL\": 11.86, \"LSL\": 11.84, \"Nominal\": 11.85}, {\"Datef\": \"\\\"2019-09-05\\\"\", \"O\": 11.856, \"USL\": 11.86, \"LSL\": 11.84, \"Nominal\": 11.85}, {\"Datef\": \"\\\"2019-09-05\\\"\", \"O\": 11.856, \"USL\": 11.86, \"LSL\": 11.84, \"Nominal\": 11.85}, {\"Datef\": \"\\\"2019-09-05\\\"\", \"O\": 11.857, \"USL\": 11.86, \"LSL\": 11.84, \"Nominal\": 11.85}, {\"Datef\": \"\\\"2019-10-17\\\"\", \"O\": 11.848, \"USL\": 11.86, \"LSL\": 11.84, \"Nominal\": 11.85}, {\"Datef\": \"\\\"2019-10-17\\\"\", \"O\": 11.849, \"USL\": 11.86, \"LSL\": 11.84, \"Nominal\": 11.85}, {\"Datef\": \"\\\"2019-10-17\\\"\", \"O\": 11.849, \"USL\": 11.86, \"LSL\": 11.84, \"Nominal\": 11.85}, {\"Datef\": \"\\\"2019-10-17\\\"\", \"O\": 11.849, \"USL\": 11.86, \"LSL\": 11.84, \"Nominal\": 11.85}, {\"Datef\": \"\\\"2019-10-17\\\"\", \"O\": 11.85, \"USL\": 11.86, \"LSL\": 11.84, \"Nominal\": 11.85}, {\"Datef\": \"\\\"2019-11-01\\\"\", \"O\": 11.848, \"USL\": 11.86, \"LSL\": 11.84, \"Nominal\": 11.85}, {\"Datef\": \"\\\"2019-11-01\\\"\", \"O\": 11.848, \"USL\": 11.86, \"LSL\": 11.84, \"Nominal\": 11.85}, {\"Datef\": \"\\\"2019-11-01\\\"\", \"O\": 11.851, \"USL\": 11.86, \"LSL\": 11.84, \"Nominal\": 11.85}, {\"Datef\": \"\\\"2019-11-01\\\"\", \"O\": 11.849, \"USL\": 11.86, \"LSL\": 11.84, \"Nominal\": 11.85}, {\"Datef\": \"\\\"2019-11-01\\\"\", \"O\": 11.849, \"USL\": 11.86, \"LSL\": 11.84, \"Nominal\": 11.85}, {\"Datef\": \"\\\"2019-11-13\\\"\", \"O\": 11.851, \"USL\": 11.86, \"LSL\": 11.84, \"Nominal\": 11.85}, {\"Datef\": \"\\\"2019-11-13\\\"\", \"O\": 11.851, \"USL\": 11.86, \"LSL\": 11.84, \"Nominal\": 11.85}, {\"Datef\": \"\\\"2019-11-13\\\"\", \"O\": 11.851, \"USL\": 11.86, \"LSL\": 11.84, \"Nominal\": 11.85}, {\"Datef\": \"\\\"2019-11-13\\\"\", \"O\": 11.85, \"USL\": 11.86, \"LSL\": 11.84, \"Nominal\": 11.85}, {\"Datef\": \"\\\"2019-11-13\\\"\", \"O\": 11.851, \"USL\": 11.86, \"LSL\": 11.84, \"Nominal\": 11.85}, {\"Datef\": \"\\\"2019-12-05\\\"\", \"O\": 11.848, \"USL\": 11.86, \"LSL\": 11.84, \"Nominal\": 11.85}, {\"Datef\": \"\\\"2019-12-05\\\"\", \"O\": 11.849, \"USL\": 11.86, \"LSL\": 11.84, \"Nominal\": 11.85}, {\"Datef\": \"\\\"2019-12-05\\\"\", \"O\": 11.85, \"USL\": 11.86, \"LSL\": 11.84, \"Nominal\": 11.85}, {\"Datef\": \"\\\"2019-12-05\\\"\", \"O\": 11.85, \"USL\": 11.86, \"LSL\": 11.84, \"Nominal\": 11.85}, {\"Datef\": \"\\\"2019-12-05\\\"\", \"O\": 11.849, \"USL\": 11.86, \"LSL\": 11.84, \"Nominal\": 11.85}, {\"Datef\": \"\\\"2019-12-10\\\"\", \"O\": 11.852, \"USL\": 11.86, \"LSL\": 11.84, \"Nominal\": 11.85}, {\"Datef\": \"\\\"2019-12-10\\\"\", \"O\": 11.851, \"USL\": 11.86, \"LSL\": 11.84, \"Nominal\": 11.85}, {\"Datef\": \"\\\"2019-12-10\\\"\", \"O\": 11.852, \"USL\": 11.86, \"LSL\": 11.84, \"Nominal\": 11.85}, {\"Datef\": \"\\\"2019-12-10\\\"\", \"O\": 11.852, \"USL\": 11.86, \"LSL\": 11.84, \"Nominal\": 11.85}, {\"Datef\": \"\\\"2019-12-10\\\"\", \"O\": 11.853, \"USL\": 11.86, \"LSL\": 11.84, \"Nominal\": 11.85}, {\"Datef\": \"\\\"2019-12-26\\\"\", \"O\": 11.85, \"USL\": 11.86, \"LSL\": 11.84, \"Nominal\": 11.85}, {\"Datef\": \"\\\"2019-12-26\\\"\", \"O\": 11.847, \"USL\": 11.86, \"LSL\": 11.84, \"Nominal\": 11.85}, {\"Datef\": \"\\\"2019-12-26\\\"\", \"O\": 11.848, \"USL\": 11.86, \"LSL\": 11.84, \"Nominal\": 11.85}, {\"Datef\": \"\\\"2019-12-26\\\"\", \"O\": 11.85, \"USL\": 11.86, \"LSL\": 11.84, \"Nominal\": 11.85}, {\"Datef\": \"\\\"2019-12-26\\\"\", \"O\": 11.848, \"USL\": 11.86, \"LSL\": 11.84, \"Nominal\": 11.85}, {\"Datef\": \"\\\"2019-12-31\\\"\", \"O\": 11.85, \"USL\": 11.86, \"LSL\": 11.84, \"Nominal\": 11.85}, {\"Datef\": \"\\\"2019-12-31\\\"\", \"O\": 11.849, \"USL\": 11.86, \"LSL\": 11.84, \"Nominal\": 11.85}, {\"Datef\": \"\\\"2019-12-31\\\"\", \"O\": 11.847, \"USL\": 11.86, \"LSL\": 11.84, \"Nominal\": 11.85}, {\"Datef\": \"\\\"2019-12-31\\\"\", \"O\": 11.847, \"USL\": 11.86, \"LSL\": 11.84, \"Nominal\": 11.85}, {\"Datef\": \"\\\"2019-12-31\\\"\", \"O\": 11.848, \"USL\": 11.86, \"LSL\": 11.84, \"Nominal\": 11.85}], \"data-1c5f679b5333ab88874ec7ef37d3a5c8\": [{\"Datef\": \"\\\"2019-01-11\\\"\", \"Z\": 0.31, \"USL\": 0.32, \"LSL\": 0.27999999999999997, \"Nominal\": 0.3}, {\"Datef\": \"\\\"2019-01-11\\\"\", \"Z\": 0.31, \"USL\": 0.32, \"LSL\": 0.27999999999999997, \"Nominal\": 0.3}, {\"Datef\": \"\\\"2019-01-11\\\"\", \"Z\": 0.31, \"USL\": 0.32, \"LSL\": 0.27999999999999997, \"Nominal\": 0.3}, {\"Datef\": \"\\\"2019-01-11\\\"\", \"Z\": 0.311, \"USL\": 0.32, \"LSL\": 0.27999999999999997, \"Nominal\": 0.3}, {\"Datef\": \"\\\"2019-01-11\\\"\", \"Z\": 0.31, \"USL\": 0.32, \"LSL\": 0.27999999999999997, \"Nominal\": 0.3}, {\"Datef\": \"\\\"2019-01-22\\\"\", \"Z\": 0.31, \"USL\": 0.32, \"LSL\": 0.27999999999999997, \"Nominal\": 0.3}, {\"Datef\": \"\\\"2019-01-22\\\"\", \"Z\": 0.311, \"USL\": 0.32, \"LSL\": 0.27999999999999997, \"Nominal\": 0.3}, {\"Datef\": \"\\\"2019-01-22\\\"\", \"Z\": 0.311, \"USL\": 0.32, \"LSL\": 0.27999999999999997, \"Nominal\": 0.3}, {\"Datef\": \"\\\"2019-01-22\\\"\", \"Z\": 0.311, \"USL\": 0.32, \"LSL\": 0.27999999999999997, \"Nominal\": 0.3}, {\"Datef\": \"\\\"2019-01-22\\\"\", \"Z\": 0.311, \"USL\": 0.32, \"LSL\": 0.27999999999999997, \"Nominal\": 0.3}, {\"Datef\": \"\\\"2019-01-26\\\"\", \"Z\": 0.311, \"USL\": 0.32, \"LSL\": 0.27999999999999997, \"Nominal\": 0.3}, {\"Datef\": \"\\\"2019-01-26\\\"\", \"Z\": 0.311, \"USL\": 0.32, \"LSL\": 0.27999999999999997, \"Nominal\": 0.3}, {\"Datef\": \"\\\"2019-01-26\\\"\", \"Z\": 0.311, \"USL\": 0.32, \"LSL\": 0.27999999999999997, \"Nominal\": 0.3}, {\"Datef\": \"\\\"2019-01-26\\\"\", \"Z\": 0.311, \"USL\": 0.32, \"LSL\": 0.27999999999999997, \"Nominal\": 0.3}, {\"Datef\": \"\\\"2019-01-26\\\"\", \"Z\": 0.312, \"USL\": 0.32, \"LSL\": 0.27999999999999997, \"Nominal\": 0.3}, {\"Datef\": \"\\\"2019-01-31\\\"\", \"Z\": 0.311, \"USL\": 0.32, \"LSL\": 0.27999999999999997, \"Nominal\": 0.3}, {\"Datef\": \"\\\"2019-01-31\\\"\", \"Z\": 0.311, \"USL\": 0.32, \"LSL\": 0.27999999999999997, \"Nominal\": 0.3}, {\"Datef\": \"\\\"2019-01-31\\\"\", \"Z\": 0.313, \"USL\": 0.32, \"LSL\": 0.27999999999999997, \"Nominal\": 0.3}, {\"Datef\": \"\\\"2019-01-31\\\"\", \"Z\": 0.311, \"USL\": 0.32, \"LSL\": 0.27999999999999997, \"Nominal\": 0.3}, {\"Datef\": \"\\\"2019-01-31\\\"\", \"Z\": 0.311, \"USL\": 0.32, \"LSL\": 0.27999999999999997, \"Nominal\": 0.3}, {\"Datef\": \"\\\"2019-02-11\\\"\", \"Z\": 0.311, \"USL\": 0.32, \"LSL\": 0.27999999999999997, \"Nominal\": 0.3}, {\"Datef\": \"\\\"2019-02-11\\\"\", \"Z\": 0.312, \"USL\": 0.32, \"LSL\": 0.27999999999999997, \"Nominal\": 0.3}, {\"Datef\": \"\\\"2019-02-11\\\"\", \"Z\": 0.311, \"USL\": 0.32, \"LSL\": 0.27999999999999997, \"Nominal\": 0.3}, {\"Datef\": \"\\\"2019-02-11\\\"\", \"Z\": 0.313, \"USL\": 0.32, \"LSL\": 0.27999999999999997, \"Nominal\": 0.3}, {\"Datef\": \"\\\"2019-02-11\\\"\", \"Z\": 0.312, \"USL\": 0.32, \"LSL\": 0.27999999999999997, \"Nominal\": 0.3}, {\"Datef\": \"\\\"2019-02-22\\\"\", \"Z\": 0.313, \"USL\": 0.32, \"LSL\": 0.27999999999999997, \"Nominal\": 0.3}, {\"Datef\": \"\\\"2019-02-22\\\"\", \"Z\": 0.313, \"USL\": 0.32, \"LSL\": 0.27999999999999997, \"Nominal\": 0.3}, {\"Datef\": \"\\\"2019-02-22\\\"\", \"Z\": 0.31, \"USL\": 0.32, \"LSL\": 0.27999999999999997, \"Nominal\": 0.3}, {\"Datef\": \"\\\"2019-02-22\\\"\", \"Z\": 0.312, \"USL\": 0.32, \"LSL\": 0.27999999999999997, \"Nominal\": 0.3}, {\"Datef\": \"\\\"2019-02-22\\\"\", \"Z\": 0.31, \"USL\": 0.32, \"LSL\": 0.27999999999999997, \"Nominal\": 0.3}, {\"Datef\": \"\\\"2019-02-27\\\"\", \"Z\": 0.311, \"USL\": 0.32, \"LSL\": 0.27999999999999997, \"Nominal\": 0.3}, {\"Datef\": \"\\\"2019-02-27\\\"\", \"Z\": 0.311, \"USL\": 0.32, \"LSL\": 0.27999999999999997, \"Nominal\": 0.3}, {\"Datef\": \"\\\"2019-02-27\\\"\", \"Z\": 0.311, \"USL\": 0.32, \"LSL\": 0.27999999999999997, \"Nominal\": 0.3}, {\"Datef\": \"\\\"2019-02-27\\\"\", \"Z\": 0.312, \"USL\": 0.32, \"LSL\": 0.27999999999999997, \"Nominal\": 0.3}, {\"Datef\": \"\\\"2019-02-27\\\"\", \"Z\": 0.312, \"USL\": 0.32, \"LSL\": 0.27999999999999997, \"Nominal\": 0.3}, {\"Datef\": \"\\\"2019-03-07\\\"\", \"Z\": 0.312, \"USL\": 0.32, \"LSL\": 0.27999999999999997, \"Nominal\": 0.3}, {\"Datef\": \"\\\"2019-03-07\\\"\", \"Z\": 0.311, \"USL\": 0.32, \"LSL\": 0.27999999999999997, \"Nominal\": 0.3}, {\"Datef\": \"\\\"2019-03-07\\\"\", \"Z\": 0.311, \"USL\": 0.32, \"LSL\": 0.27999999999999997, \"Nominal\": 0.3}, {\"Datef\": \"\\\"2019-03-07\\\"\", \"Z\": 0.312, \"USL\": 0.32, \"LSL\": 0.27999999999999997, \"Nominal\": 0.3}, {\"Datef\": \"\\\"2019-03-07\\\"\", \"Z\": 0.31, \"USL\": 0.32, \"LSL\": 0.27999999999999997, \"Nominal\": 0.3}, {\"Datef\": \"\\\"2019-03-15\\\"\", \"Z\": 0.311, \"USL\": 0.32, \"LSL\": 0.27999999999999997, \"Nominal\": 0.3}, {\"Datef\": \"\\\"2019-03-15\\\"\", \"Z\": 0.311, \"USL\": 0.32, \"LSL\": 0.27999999999999997, \"Nominal\": 0.3}, {\"Datef\": \"\\\"2019-03-15\\\"\", \"Z\": 0.311, \"USL\": 0.32, \"LSL\": 0.27999999999999997, \"Nominal\": 0.3}, {\"Datef\": \"\\\"2019-03-15\\\"\", \"Z\": 0.313, \"USL\": 0.32, \"LSL\": 0.27999999999999997, \"Nominal\": 0.3}, {\"Datef\": \"\\\"2019-03-15\\\"\", \"Z\": 0.313, \"USL\": 0.32, \"LSL\": 0.27999999999999997, \"Nominal\": 0.3}, {\"Datef\": \"\\\"2019-04-05\\\"\", \"Z\": 0.31, \"USL\": 0.32, \"LSL\": 0.27999999999999997, \"Nominal\": 0.3}, {\"Datef\": \"\\\"2019-04-05\\\"\", \"Z\": 0.313, \"USL\": 0.32, \"LSL\": 0.27999999999999997, \"Nominal\": 0.3}, {\"Datef\": \"\\\"2019-04-05\\\"\", \"Z\": 0.311, \"USL\": 0.32, \"LSL\": 0.27999999999999997, \"Nominal\": 0.3}, {\"Datef\": \"\\\"2019-04-05\\\"\", \"Z\": 0.31, \"USL\": 0.32, \"LSL\": 0.27999999999999997, \"Nominal\": 0.3}, {\"Datef\": \"\\\"2019-04-05\\\"\", \"Z\": 0.31, \"USL\": 0.32, \"LSL\": 0.27999999999999997, \"Nominal\": 0.3}, {\"Datef\": \"\\\"2019-04-16\\\"\", \"Z\": 0.314, \"USL\": 0.32, \"LSL\": 0.27999999999999997, \"Nominal\": 0.3}, {\"Datef\": \"\\\"2019-04-16\\\"\", \"Z\": 0.314, \"USL\": 0.32, \"LSL\": 0.27999999999999997, \"Nominal\": 0.3}, {\"Datef\": \"\\\"2019-04-16\\\"\", \"Z\": 0.311, \"USL\": 0.32, \"LSL\": 0.27999999999999997, \"Nominal\": 0.3}, {\"Datef\": \"\\\"2019-04-16\\\"\", \"Z\": 0.315, \"USL\": 0.32, \"LSL\": 0.27999999999999997, \"Nominal\": 0.3}, {\"Datef\": \"\\\"2019-04-16\\\"\", \"Z\": 0.313, \"USL\": 0.32, \"LSL\": 0.27999999999999997, \"Nominal\": 0.3}, {\"Datef\": \"\\\"2019-04-16\\\"\", \"Z\": 0.313, \"USL\": 0.32, \"LSL\": 0.27999999999999997, \"Nominal\": 0.3}, {\"Datef\": \"\\\"2019-04-16\\\"\", \"Z\": 0.31, \"USL\": 0.32, \"LSL\": 0.27999999999999997, \"Nominal\": 0.3}, {\"Datef\": \"\\\"2019-04-16\\\"\", \"Z\": 0.314, \"USL\": 0.32, \"LSL\": 0.27999999999999997, \"Nominal\": 0.3}, {\"Datef\": \"\\\"2019-04-16\\\"\", \"Z\": 0.312, \"USL\": 0.32, \"LSL\": 0.27999999999999997, \"Nominal\": 0.3}, {\"Datef\": \"\\\"2019-04-16\\\"\", \"Z\": 0.311, \"USL\": 0.32, \"LSL\": 0.27999999999999997, \"Nominal\": 0.3}, {\"Datef\": \"\\\"2019-05-27\\\"\", \"Z\": 0.313, \"USL\": 0.32, \"LSL\": 0.27999999999999997, \"Nominal\": 0.3}, {\"Datef\": \"\\\"2019-05-27\\\"\", \"Z\": 0.312, \"USL\": 0.32, \"LSL\": 0.27999999999999997, \"Nominal\": 0.3}, {\"Datef\": \"\\\"2019-05-27\\\"\", \"Z\": 0.311, \"USL\": 0.32, \"LSL\": 0.27999999999999997, \"Nominal\": 0.3}, {\"Datef\": \"\\\"2019-05-27\\\"\", \"Z\": 0.313, \"USL\": 0.32, \"LSL\": 0.27999999999999997, \"Nominal\": 0.3}, {\"Datef\": \"\\\"2019-05-27\\\"\", \"Z\": 0.316, \"USL\": 0.32, \"LSL\": 0.27999999999999997, \"Nominal\": 0.3}, {\"Datef\": \"\\\"2019-06-03\\\"\", \"Z\": 0.314, \"USL\": 0.32, \"LSL\": 0.27999999999999997, \"Nominal\": 0.3}, {\"Datef\": \"\\\"2019-06-03\\\"\", \"Z\": 0.315, \"USL\": 0.32, \"LSL\": 0.27999999999999997, \"Nominal\": 0.3}, {\"Datef\": \"\\\"2019-06-03\\\"\", \"Z\": 0.311, \"USL\": 0.32, \"LSL\": 0.27999999999999997, \"Nominal\": 0.3}, {\"Datef\": \"\\\"2019-06-03\\\"\", \"Z\": 0.31, \"USL\": 0.32, \"LSL\": 0.27999999999999997, \"Nominal\": 0.3}, {\"Datef\": \"\\\"2019-06-03\\\"\", \"Z\": 0.313, \"USL\": 0.32, \"LSL\": 0.27999999999999997, \"Nominal\": 0.3}, {\"Datef\": \"\\\"2019-06-10\\\"\", \"Z\": 0.311, \"USL\": 0.32, \"LSL\": 0.27999999999999997, \"Nominal\": 0.3}, {\"Datef\": \"\\\"2019-06-10\\\"\", \"Z\": 0.311, \"USL\": 0.32, \"LSL\": 0.27999999999999997, \"Nominal\": 0.3}, {\"Datef\": \"\\\"2019-06-10\\\"\", \"Z\": 0.312, \"USL\": 0.32, \"LSL\": 0.27999999999999997, \"Nominal\": 0.3}, {\"Datef\": \"\\\"2019-06-10\\\"\", \"Z\": 0.31, \"USL\": 0.32, \"LSL\": 0.27999999999999997, \"Nominal\": 0.3}, {\"Datef\": \"\\\"2019-06-10\\\"\", \"Z\": 0.312, \"USL\": 0.32, \"LSL\": 0.27999999999999997, \"Nominal\": 0.3}, {\"Datef\": \"\\\"2019-06-17\\\"\", \"Z\": 0.313, \"USL\": 0.32, \"LSL\": 0.27999999999999997, \"Nominal\": 0.3}, {\"Datef\": \"\\\"2019-06-17\\\"\", \"Z\": 0.31, \"USL\": 0.32, \"LSL\": 0.27999999999999997, \"Nominal\": 0.3}, {\"Datef\": \"\\\"2019-06-17\\\"\", \"Z\": 0.313, \"USL\": 0.32, \"LSL\": 0.27999999999999997, \"Nominal\": 0.3}, {\"Datef\": \"\\\"2019-06-17\\\"\", \"Z\": 0.314, \"USL\": 0.32, \"LSL\": 0.27999999999999997, \"Nominal\": 0.3}, {\"Datef\": \"\\\"2019-06-17\\\"\", \"Z\": 0.314, \"USL\": 0.32, \"LSL\": 0.27999999999999997, \"Nominal\": 0.3}, {\"Datef\": \"\\\"2019-06-25\\\"\", \"Z\": 0.315, \"USL\": 0.32, \"LSL\": 0.27999999999999997, \"Nominal\": 0.3}, {\"Datef\": \"\\\"2019-06-25\\\"\", \"Z\": 0.315, \"USL\": 0.32, \"LSL\": 0.27999999999999997, \"Nominal\": 0.3}, {\"Datef\": \"\\\"2019-06-25\\\"\", \"Z\": 0.318, \"USL\": 0.32, \"LSL\": 0.27999999999999997, \"Nominal\": 0.3}, {\"Datef\": \"\\\"2019-06-25\\\"\", \"Z\": 0.318, \"USL\": 0.32, \"LSL\": 0.27999999999999997, \"Nominal\": 0.3}, {\"Datef\": \"\\\"2019-06-25\\\"\", \"Z\": 0.316, \"USL\": 0.32, \"LSL\": 0.27999999999999997, \"Nominal\": 0.3}, {\"Datef\": \"\\\"2019-06-28\\\"\", \"Z\": 0.316, \"USL\": 0.32, \"LSL\": 0.27999999999999997, \"Nominal\": 0.3}, {\"Datef\": \"\\\"2019-06-28\\\"\", \"Z\": 0.316, \"USL\": 0.32, \"LSL\": 0.27999999999999997, \"Nominal\": 0.3}, {\"Datef\": \"\\\"2019-06-28\\\"\", \"Z\": 0.315, \"USL\": 0.32, \"LSL\": 0.27999999999999997, \"Nominal\": 0.3}, {\"Datef\": \"\\\"2019-06-28\\\"\", \"Z\": 0.312, \"USL\": 0.32, \"LSL\": 0.27999999999999997, \"Nominal\": 0.3}, {\"Datef\": \"\\\"2019-06-28\\\"\", \"Z\": 0.319, \"USL\": 0.32, \"LSL\": 0.27999999999999997, \"Nominal\": 0.3}, {\"Datef\": \"\\\"2019-08-07\\\"\", \"Z\": 0.312, \"USL\": 0.32, \"LSL\": 0.27999999999999997, \"Nominal\": 0.3}, {\"Datef\": \"\\\"2019-08-07\\\"\", \"Z\": 0.316, \"USL\": 0.32, \"LSL\": 0.27999999999999997, \"Nominal\": 0.3}, {\"Datef\": \"\\\"2019-08-07\\\"\", \"Z\": 0.312, \"USL\": 0.32, \"LSL\": 0.27999999999999997, \"Nominal\": 0.3}, {\"Datef\": \"\\\"2019-08-07\\\"\", \"Z\": 0.313, \"USL\": 0.32, \"LSL\": 0.27999999999999997, \"Nominal\": 0.3}, {\"Datef\": \"\\\"2019-08-07\\\"\", \"Z\": 0.314, \"USL\": 0.32, \"LSL\": 0.27999999999999997, \"Nominal\": 0.3}, {\"Datef\": \"\\\"2019-08-19\\\"\", \"Z\": 0.314, \"USL\": 0.32, \"LSL\": 0.27999999999999997, \"Nominal\": 0.3}, {\"Datef\": \"\\\"2019-08-19\\\"\", \"Z\": 0.314, \"USL\": 0.32, \"LSL\": 0.27999999999999997, \"Nominal\": 0.3}, {\"Datef\": \"\\\"2019-08-19\\\"\", \"Z\": 0.312, \"USL\": 0.32, \"LSL\": 0.27999999999999997, \"Nominal\": 0.3}, {\"Datef\": \"\\\"2019-08-19\\\"\", \"Z\": 0.313, \"USL\": 0.32, \"LSL\": 0.27999999999999997, \"Nominal\": 0.3}, {\"Datef\": \"\\\"2019-08-19\\\"\", \"Z\": 0.311, \"USL\": 0.32, \"LSL\": 0.27999999999999997, \"Nominal\": 0.3}, {\"Datef\": \"\\\"2019-08-26\\\"\", \"Z\": 0.311, \"USL\": 0.32, \"LSL\": 0.27999999999999997, \"Nominal\": 0.3}, {\"Datef\": \"\\\"2019-08-26\\\"\", \"Z\": 0.314, \"USL\": 0.32, \"LSL\": 0.27999999999999997, \"Nominal\": 0.3}, {\"Datef\": \"\\\"2019-08-26\\\"\", \"Z\": 0.313, \"USL\": 0.32, \"LSL\": 0.27999999999999997, \"Nominal\": 0.3}, {\"Datef\": \"\\\"2019-08-26\\\"\", \"Z\": 0.314, \"USL\": 0.32, \"LSL\": 0.27999999999999997, \"Nominal\": 0.3}, {\"Datef\": \"\\\"2019-08-26\\\"\", \"Z\": 0.312, \"USL\": 0.32, \"LSL\": 0.27999999999999997, \"Nominal\": 0.3}, {\"Datef\": \"\\\"2019-09-05\\\"\", \"Z\": 0.316, \"USL\": 0.32, \"LSL\": 0.27999999999999997, \"Nominal\": 0.3}, {\"Datef\": \"\\\"2019-09-05\\\"\", \"Z\": 0.316, \"USL\": 0.32, \"LSL\": 0.27999999999999997, \"Nominal\": 0.3}, {\"Datef\": \"\\\"2019-09-05\\\"\", \"Z\": 0.316, \"USL\": 0.32, \"LSL\": 0.27999999999999997, \"Nominal\": 0.3}, {\"Datef\": \"\\\"2019-09-05\\\"\", \"Z\": 0.316, \"USL\": 0.32, \"LSL\": 0.27999999999999997, \"Nominal\": 0.3}, {\"Datef\": \"\\\"2019-09-05\\\"\", \"Z\": 0.317, \"USL\": 0.32, \"LSL\": 0.27999999999999997, \"Nominal\": 0.3}, {\"Datef\": \"\\\"2019-10-17\\\"\", \"Z\": 0.311, \"USL\": 0.32, \"LSL\": 0.27999999999999997, \"Nominal\": 0.3}, {\"Datef\": \"\\\"2019-10-17\\\"\", \"Z\": 0.313, \"USL\": 0.32, \"LSL\": 0.27999999999999997, \"Nominal\": 0.3}, {\"Datef\": \"\\\"2019-10-17\\\"\", \"Z\": 0.312, \"USL\": 0.32, \"LSL\": 0.27999999999999997, \"Nominal\": 0.3}, {\"Datef\": \"\\\"2019-10-17\\\"\", \"Z\": 0.314, \"USL\": 0.32, \"LSL\": 0.27999999999999997, \"Nominal\": 0.3}, {\"Datef\": \"\\\"2019-10-17\\\"\", \"Z\": 0.314, \"USL\": 0.32, \"LSL\": 0.27999999999999997, \"Nominal\": 0.3}, {\"Datef\": \"\\\"2019-11-01\\\"\", \"Z\": 0.313, \"USL\": 0.32, \"LSL\": 0.27999999999999997, \"Nominal\": 0.3}, {\"Datef\": \"\\\"2019-11-01\\\"\", \"Z\": 0.314, \"USL\": 0.32, \"LSL\": 0.27999999999999997, \"Nominal\": 0.3}, {\"Datef\": \"\\\"2019-11-01\\\"\", \"Z\": 0.313, \"USL\": 0.32, \"LSL\": 0.27999999999999997, \"Nominal\": 0.3}, {\"Datef\": \"\\\"2019-11-01\\\"\", \"Z\": 0.313, \"USL\": 0.32, \"LSL\": 0.27999999999999997, \"Nominal\": 0.3}, {\"Datef\": \"\\\"2019-11-01\\\"\", \"Z\": 0.313, \"USL\": 0.32, \"LSL\": 0.27999999999999997, \"Nominal\": 0.3}, {\"Datef\": \"\\\"2019-11-13\\\"\", \"Z\": 0.316, \"USL\": 0.32, \"LSL\": 0.27999999999999997, \"Nominal\": 0.3}, {\"Datef\": \"\\\"2019-11-13\\\"\", \"Z\": 0.315, \"USL\": 0.32, \"LSL\": 0.27999999999999997, \"Nominal\": 0.3}, {\"Datef\": \"\\\"2019-11-13\\\"\", \"Z\": 0.315, \"USL\": 0.32, \"LSL\": 0.27999999999999997, \"Nominal\": 0.3}, {\"Datef\": \"\\\"2019-11-13\\\"\", \"Z\": 0.315, \"USL\": 0.32, \"LSL\": 0.27999999999999997, \"Nominal\": 0.3}, {\"Datef\": \"\\\"2019-11-13\\\"\", \"Z\": 0.315, \"USL\": 0.32, \"LSL\": 0.27999999999999997, \"Nominal\": 0.3}, {\"Datef\": \"\\\"2019-12-05\\\"\", \"Z\": 0.309, \"USL\": 0.32, \"LSL\": 0.27999999999999997, \"Nominal\": 0.3}, {\"Datef\": \"\\\"2019-12-05\\\"\", \"Z\": 0.308, \"USL\": 0.32, \"LSL\": 0.27999999999999997, \"Nominal\": 0.3}, {\"Datef\": \"\\\"2019-12-05\\\"\", \"Z\": 0.308, \"USL\": 0.32, \"LSL\": 0.27999999999999997, \"Nominal\": 0.3}, {\"Datef\": \"\\\"2019-12-05\\\"\", \"Z\": 0.307, \"USL\": 0.32, \"LSL\": 0.27999999999999997, \"Nominal\": 0.3}, {\"Datef\": \"\\\"2019-12-05\\\"\", \"Z\": 0.308, \"USL\": 0.32, \"LSL\": 0.27999999999999997, \"Nominal\": 0.3}, {\"Datef\": \"\\\"2019-12-10\\\"\", \"Z\": 0.311, \"USL\": 0.32, \"LSL\": 0.27999999999999997, \"Nominal\": 0.3}, {\"Datef\": \"\\\"2019-12-10\\\"\", \"Z\": 0.313, \"USL\": 0.32, \"LSL\": 0.27999999999999997, \"Nominal\": 0.3}, {\"Datef\": \"\\\"2019-12-10\\\"\", \"Z\": 0.31, \"USL\": 0.32, \"LSL\": 0.27999999999999997, \"Nominal\": 0.3}, {\"Datef\": \"\\\"2019-12-10\\\"\", \"Z\": 0.312, \"USL\": 0.32, \"LSL\": 0.27999999999999997, \"Nominal\": 0.3}, {\"Datef\": \"\\\"2019-12-10\\\"\", \"Z\": 0.311, \"USL\": 0.32, \"LSL\": 0.27999999999999997, \"Nominal\": 0.3}, {\"Datef\": \"\\\"2019-12-26\\\"\", \"Z\": 0.313, \"USL\": 0.32, \"LSL\": 0.27999999999999997, \"Nominal\": 0.3}, {\"Datef\": \"\\\"2019-12-26\\\"\", \"Z\": 0.312, \"USL\": 0.32, \"LSL\": 0.27999999999999997, \"Nominal\": 0.3}, {\"Datef\": \"\\\"2019-12-26\\\"\", \"Z\": 0.312, \"USL\": 0.32, \"LSL\": 0.27999999999999997, \"Nominal\": 0.3}, {\"Datef\": \"\\\"2019-12-26\\\"\", \"Z\": 0.313, \"USL\": 0.32, \"LSL\": 0.27999999999999997, \"Nominal\": 0.3}, {\"Datef\": \"\\\"2019-12-26\\\"\", \"Z\": 0.312, \"USL\": 0.32, \"LSL\": 0.27999999999999997, \"Nominal\": 0.3}, {\"Datef\": \"\\\"2019-12-31\\\"\", \"Z\": 0.313, \"USL\": 0.32, \"LSL\": 0.27999999999999997, \"Nominal\": 0.3}, {\"Datef\": \"\\\"2019-12-31\\\"\", \"Z\": 0.314, \"USL\": 0.32, \"LSL\": 0.27999999999999997, \"Nominal\": 0.3}, {\"Datef\": \"\\\"2019-12-31\\\"\", \"Z\": 0.313, \"USL\": 0.32, \"LSL\": 0.27999999999999997, \"Nominal\": 0.3}, {\"Datef\": \"\\\"2019-12-31\\\"\", \"Z\": 0.312, \"USL\": 0.32, \"LSL\": 0.27999999999999997, \"Nominal\": 0.3}, {\"Datef\": \"\\\"2019-12-31\\\"\", \"Z\": 0.312, \"USL\": 0.32, \"LSL\": 0.27999999999999997, \"Nominal\": 0.3}]}}, {\"mode\": \"vega-lite\"});\n",
              "</script>"
            ]
          },
          "metadata": {
            "tags": []
          },
          "execution_count": 27
        }
      ]
    },
    {
      "cell_type": "code",
      "metadata": {
        "id": "2s9G47HPLVew",
        "colab_type": "code",
        "colab": {}
      },
      "source": [
        "#box_chart_combine.save(namefile+'.html')"
      ],
      "execution_count": null,
      "outputs": []
    },
    {
      "cell_type": "code",
      "metadata": {
        "id": "flGKuIM5rLMb",
        "colab_type": "code",
        "colab": {
          "base_uri": "https://localhost:8080/",
          "height": 1000
        },
        "outputId": "a1674001-8dc2-4104-8a8c-97f3dba172e3"
      },
      "source": [
        "for name in DFdict.keys():\n",
        "  df_box=DFdict[name].copy() #All values for each features\n",
        "  df_box['Datef']=df_box['Datef'].dt.date\n",
        "  df_box_line=df_box.groupby('Datef').mean()#Group values for line chart\n",
        "  df_box_line.reset_index(inplace=True)\n",
        "\n",
        "  fig,ax=plt.subplots(figsize=(16,4))\n",
        "  sns.boxplot(x='Datef',y=name,data=df_box,ax=ax,color='cornflowerblue') \n",
        "  #df_box.boxplot(column='C-Pitch',by='Datef',ax=ax)#df_box: data with no group by date\n",
        "  df_box_line.plot(y='USL',kind='line',ax=ax,color='#FF5733') #df_box_line: data with group by date\n",
        "  df_box_line.plot(y='LSL',kind='line',ax=ax,color='#FF5733')\n",
        "  df_box_line.plot(y='Nominal',kind='line',ax=ax,color='#FF5733')\n",
        "\n",
        "  #plt.gca().set_xticks(df_box_line['Datef'])\n",
        "  plt.gca().set_xticklabels(df_box_line['Datef'],rotation=90)\n",
        "  plt.gca().set_title('Box plot '+name,fontsize=15)\n",
        "  plt.gca().legend(loc ='center left',bbox_to_anchor=(1.01, 0.5))\n",
        "\n",
        "  plt.xlabel('Time')\n",
        "  plt.ylabel('Values')"
      ],
      "execution_count": null,
      "outputs": [
        {
          "output_type": "display_data",
          "data": {
            "image/png": "[encoded data removed]",
            "text/plain": [
              "<Figure size 1152x288 with 1 Axes>"
            ]
          },
          "metadata": {
            "tags": []
          }
        },
        {
          "output_type": "display_data",
          "data": {
            "image/png": "[encoded data removed]",
            "text/plain": [
              "<Figure size 1152x288 with 1 Axes>"
            ]
          },
          "metadata": {
            "tags": []
          }
        },
        {
          "output_type": "display_data",
          "data": {
            "image/png": "[encoded data removed]",
            "text/plain": [
              "<Figure size 1152x288 with 1 Axes>"
            ]
          },
          "metadata": {
            "tags": []
          }
        },
        {
          "output_type": "display_data",
          "data": {
            "image/png": "[encoded data removed]",
            "text/plain": [
              "<Figure size 1152x288 with 1 Axes>"
            ]
          },
          "metadata": {
            "tags": []
          }
        },
        {
          "output_type": "display_data",
          "data": {
            "image/png": "[encoded data removed]",
            "text/plain": [
              "<Figure size 1152x288 with 1 Axes>"
            ]
          },
          "metadata": {
            "tags": []
          }
        }
      ]
    },
    {
      "cell_type": "code",
      "metadata": {
        "id": "0VE8WLzlHDAT",
        "colab_type": "code",
        "colab": {}
      },
      "source": [
        "def line_chart(DFdict_final):\n",
        "    i=1\n",
        "    #Layout\n",
        "    fig = make_subplots(\n",
        "        rows=len(DFdict_final), cols=1,\n",
        "        #shared_xaxes=True,\n",
        "        #vertical_spacing=0.03,\n",
        "        #column_widths=[0.8, 0.2],\n",
        "        subplot_titles=(list(DFdict_final.keys()))\n",
        "    )\n",
        "    for name in DFdict_final.keys(): #also group\n",
        "      df=DFdict_final[name].copy()\n",
        "      df=df.sort_values(by=['Datef'])\n",
        "      for a in df.columns[1:]:\n",
        "        df[a] = df[a].round(decimals=3)\n",
        "\n",
        "      #Control chart 1 \n",
        "      fig.add_trace(go.Scatter(\n",
        "                              x=df['Datef'], y=df[name],\n",
        "                              mode='lines+markers',\n",
        "                              name='mean ' + name,line=dict( color='#4280F5')\n",
        "                              ),row=i, col=1\n",
        "                    )\n",
        "      #USL, LSL\n",
        "      fig.add_trace(go.Scatter(x=df['Datef'], y=df['USL'],name='USL '+name, line=dict( color='#FF5733')),row=i, col=1)\n",
        "      fig.add_trace(go.Scatter(x=df['Datef'], y=df['LSL'],name='LSL '+name,line=dict( color='#FF5733')),row=i, col=1)\n",
        "      fig.add_trace(go.Scatter(x=df['Datef'], y=df['Nominal'],name='Nominal '+name,line=dict( color='#FF5733')),row=i, col=1)\n",
        "      # UCL, LCL\n",
        "      fig.add_trace(go.Scatter(x=df['Datef'], y=df['UCL'],name='UCL '+name, line=dict( color='#33C2FF')),row=i, col=1)\n",
        "      fig.add_trace(go.Scatter(x=df['Datef'], y=df['LCL'],name='LCL '+name, line=dict( color='#33C2FF')),row=i, col=1)\n",
        "      fig.add_trace(go.Scatter(x=df['Datef'], y=df['mean'],name='mean '+name, line=dict( color='#33C2FF')),row=i, col=1)\n",
        "\n",
        "      #Final layout:\n",
        "      #fig.update_layout(height=400, width=1400, title_text='Line chart'+name)\n",
        "      i=i+1\n",
        "\n",
        "    fig.update_layout(height=300*len(DFdict_final), width=1200, title_text='Line chart')\n",
        "    #fig.show()\n",
        "    return fig\n"
      ],
      "execution_count": null,
      "outputs": []
    },
    {
      "cell_type": "code",
      "metadata": {
        "id": "KyTHY_qAHF-F",
        "colab_type": "code",
        "colab": {
          "base_uri": "https://localhost:8080/",
          "height": 1000
        },
        "outputId": "0f56e676-68cb-47dc-ba04-fafc24a66418"
      },
      "source": [
        "fig_new=line_chart(DFdict_final) \n",
        "fig_new"
      ],
      "execution_count": null,
      "outputs": [
        {
          "output_type": "display_data",
          "data": {
            "text/html": [
              "<html>\n",
              "<head><meta charset=\"utf-8\" /></head>\n",
              "<body>\n",
              "    <div>\n",
              "            <script src=\"https://cdnjs.cloudflare.com/ajax/libs/mathjax/2.7.5/MathJax.js?config=TeX-AMS-MML_SVG\"></script><script type=\"text/javascript\">if (window.MathJax) {MathJax.Hub.Config({SVG: {font: \"STIX-Web\"}});}</script>\n",
              "                <script type=\"text/javascript\">window.PlotlyConfig = {MathJaxConfig: 'local'};</script>\n",
              "        <script src=\"https://cdn.plot.ly/plotly-latest.min.js\"></script>    \n",
              "            <div id=\"c6bc19e4-cadf-407f-b720-844c5e7982d2\" class=\"plotly-graph-div\" style=\"height:1500px; width:1200px;\"></div>\n",
              "            <script type=\"text/javascript\">\n",
              "                \n",
              "                    window.PLOTLYENV=window.PLOTLYENV || {};\n",
              "                    \n",
              "                if (document.getElementById(\"c6bc19e4-cadf-407f-b720-844c5e7982d2\")) {\n",
              "                    Plotly.newPlot(\n",
              "                        'c6bc19e4-cadf-407f-b720-844c5e7982d2',\n",
              "                        [{\"line\": {\"color\": \"#4280F5\"}, \"mode\": \"lines+markers\", \"name\": \"mean C-Pitch\", \"type\": \"scatter\", \"x\": [\"2019-01-11T00:00:00\", \"2019-01-22T00:00:00\", \"2019-01-26T00:00:00\", \"2019-01-31T00:00:00\", \"2019-02-11T00:00:00\", \"2019-02-22T00:00:00\", \"2019-02-27T00:00:00\", \"2019-03-07T00:00:00\", \"2019-03-15T00:00:00\", \"2019-04-05T00:00:00\", \"2019-04-16T00:00:00\", \"2019-05-27T00:00:00\", \"2019-06-03T00:00:00\", \"2019-06-10T00:00:00\", \"2019-06-17T00:00:00\", \"2019-06-25T00:00:00\", \"2019-06-28T00:00:00\", \"2019-08-07T00:00:00\", \"2019-08-19T00:00:00\", \"2019-08-26T00:00:00\", \"2019-09-05T00:00:00\", \"2019-10-17T00:00:00\", \"2019-11-01T00:00:00\", \"2019-11-13T00:00:00\", \"2019-12-05T00:00:00\", \"2019-12-10T00:00:00\", \"2019-12-26T00:00:00\", \"2019-12-31T00:00:00\"], \"xaxis\": \"x\", \"y\": [10.004, 10.001, 10.002, 10.003, 10.003, 10.002, 10.003, 10.002, 9.998, 10.002, 10.003, 10.004, 10.001, 10.0, 10.002, 10.001, 10.002, 10.001, 10.0, 10.001, 10.002, 10.0, 10.0, 10.002, 10.0, 10.003, 10.003, 9.999], \"yaxis\": \"y\"}, {\"line\": {\"color\": \"#FF5733\"}, \"name\": \"USL C-Pitch\", \"type\": \"scatter\", \"x\": [\"2019-01-11T00:00:00\", \"2019-01-22T00:00:00\", \"2019-01-26T00:00:00\", \"2019-01-31T00:00:00\", \"2019-02-11T00:00:00\", \"2019-02-22T00:00:00\", \"2019-02-27T00:00:00\", \"2019-03-07T00:00:00\", \"2019-03-15T00:00:00\", \"2019-04-05T00:00:00\", \"2019-04-16T00:00:00\", \"2019-05-27T00:00:00\", \"2019-06-03T00:00:00\", \"2019-06-10T00:00:00\", \"2019-06-17T00:00:00\", \"2019-06-25T00:00:00\", \"2019-06-28T00:00:00\", \"2019-08-07T00:00:00\", \"2019-08-19T00:00:00\", \"2019-08-26T00:00:00\", \"2019-09-05T00:00:00\", \"2019-10-17T00:00:00\", \"2019-11-01T00:00:00\", \"2019-11-13T00:00:00\", \"2019-12-05T00:00:00\", \"2019-12-10T00:00:00\", \"2019-12-26T00:00:00\", \"2019-12-31T00:00:00\"], \"xaxis\": \"x\", \"y\": [10.01, 10.01, 10.01, 10.01, 10.01, 10.01, 10.01, 10.01, 10.01, 10.01, 10.01, 10.01, 10.01, 10.01, 10.01, 10.01, 10.01, 10.01, 10.01, 10.01, 10.01, 10.01, 10.01, 10.01, 10.01, 10.01, 10.01, 10.01], \"yaxis\": \"y\"}, {\"line\": {\"color\": \"#FF5733\"}, \"name\": \"LSL C-Pitch\", \"type\": \"scatter\", \"x\": [\"2019-01-11T00:00:00\", \"2019-01-22T00:00:00\", \"2019-01-26T00:00:00\", \"2019-01-31T00:00:00\", \"2019-02-11T00:00:00\", \"2019-02-22T00:00:00\", \"2019-02-27T00:00:00\", \"2019-03-07T00:00:00\", \"2019-03-15T00:00:00\", \"2019-04-05T00:00:00\", \"2019-04-16T00:00:00\", \"2019-05-27T00:00:00\", \"2019-06-03T00:00:00\", \"2019-06-10T00:00:00\", \"2019-06-17T00:00:00\", \"2019-06-25T00:00:00\", \"2019-06-28T00:00:00\", \"2019-08-07T00:00:00\", \"2019-08-19T00:00:00\", \"2019-08-26T00:00:00\", \"2019-09-05T00:00:00\", \"2019-10-17T00:00:00\", \"2019-11-01T00:00:00\", \"2019-11-13T00:00:00\", \"2019-12-05T00:00:00\", \"2019-12-10T00:00:00\", \"2019-12-26T00:00:00\", \"2019-12-31T00:00:00\"], \"xaxis\": \"x\", \"y\": [9.99, 9.99, 9.99, 9.99, 9.99, 9.99, 9.99, 9.99, 9.99, 9.99, 9.99, 9.99, 9.99, 9.99, 9.99, 9.99, 9.99, 9.99, 9.99, 9.99, 9.99, 9.99, 9.99, 9.99, 9.99, 9.99, 9.99, 9.99], \"yaxis\": \"y\"}, {\"line\": {\"color\": \"#FF5733\"}, \"name\": \"Nominal C-Pitch\", \"type\": \"scatter\", \"x\": [\"2019-01-11T00:00:00\", \"2019-01-22T00:00:00\", \"2019-01-26T00:00:00\", \"2019-01-31T00:00:00\", \"2019-02-11T00:00:00\", \"2019-02-22T00:00:00\", \"2019-02-27T00:00:00\", \"2019-03-07T00:00:00\", \"2019-03-15T00:00:00\", \"2019-04-05T00:00:00\", \"2019-04-16T00:00:00\", \"2019-05-27T00:00:00\", \"2019-06-03T00:00:00\", \"2019-06-10T00:00:00\", \"2019-06-17T00:00:00\", \"2019-06-25T00:00:00\", \"2019-06-28T00:00:00\", \"2019-08-07T00:00:00\", \"2019-08-19T00:00:00\", \"2019-08-26T00:00:00\", \"2019-09-05T00:00:00\", \"2019-10-17T00:00:00\", \"2019-11-01T00:00:00\", \"2019-11-13T00:00:00\", \"2019-12-05T00:00:00\", \"2019-12-10T00:00:00\", \"2019-12-26T00:00:00\", \"2019-12-31T00:00:00\"], \"xaxis\": \"x\", \"y\": [10.0, 10.0, 10.0, 10.0, 10.0, 10.0, 10.0, 10.0, 10.0, 10.0, 10.0, 10.0, 10.0, 10.0, 10.0, 10.0, 10.0, 10.0, 10.0, 10.0, 10.0, 10.0, 10.0, 10.0, 10.0, 10.0, 10.0, 10.0], \"yaxis\": \"y\"}, {\"line\": {\"color\": \"#33C2FF\"}, \"name\": \"UCL C-Pitch\", \"type\": \"scatter\", \"x\": [\"2019-01-11T00:00:00\", \"2019-01-22T00:00:00\", \"2019-01-26T00:00:00\", \"2019-01-31T00:00:00\", \"2019-02-11T00:00:00\", \"2019-02-22T00:00:00\", \"2019-02-27T00:00:00\", \"2019-03-07T00:00:00\", \"2019-03-15T00:00:00\", \"2019-04-05T00:00:00\", \"2019-04-16T00:00:00\", \"2019-05-27T00:00:00\", \"2019-06-03T00:00:00\", \"2019-06-10T00:00:00\", \"2019-06-17T00:00:00\", \"2019-06-25T00:00:00\", \"2019-06-28T00:00:00\", \"2019-08-07T00:00:00\", \"2019-08-19T00:00:00\", \"2019-08-26T00:00:00\", \"2019-09-05T00:00:00\", \"2019-10-17T00:00:00\", \"2019-11-01T00:00:00\", \"2019-11-13T00:00:00\", \"2019-12-05T00:00:00\", \"2019-12-10T00:00:00\", \"2019-12-26T00:00:00\", \"2019-12-31T00:00:00\"], \"xaxis\": \"x\", \"y\": [10.006, 10.006, 10.006, 10.006, 10.006, 10.006, 10.006, 10.006, 10.006, 10.006, 10.006, 10.006, 10.006, 10.006, 10.006, 10.006, 10.006, 10.006, 10.006, 10.006, 10.006, 10.006, 10.006, 10.006, 10.006, 10.006, 10.006, 10.006], \"yaxis\": \"y\"}, {\"line\": {\"color\": \"#33C2FF\"}, \"name\": \"LCL C-Pitch\", \"type\": \"scatter\", \"x\": [\"2019-01-11T00:00:00\", \"2019-01-22T00:00:00\", \"2019-01-26T00:00:00\", \"2019-01-31T00:00:00\", \"2019-02-11T00:00:00\", \"2019-02-22T00:00:00\", \"2019-02-27T00:00:00\", \"2019-03-07T00:00:00\", \"2019-03-15T00:00:00\", \"2019-04-05T00:00:00\", \"2019-04-16T00:00:00\", \"2019-05-27T00:00:00\", \"2019-06-03T00:00:00\", \"2019-06-10T00:00:00\", \"2019-06-17T00:00:00\", \"2019-06-25T00:00:00\", \"2019-06-28T00:00:00\", \"2019-08-07T00:00:00\", \"2019-08-19T00:00:00\", \"2019-08-26T00:00:00\", \"2019-09-05T00:00:00\", \"2019-10-17T00:00:00\", \"2019-11-01T00:00:00\", \"2019-11-13T00:00:00\", \"2019-12-05T00:00:00\", \"2019-12-10T00:00:00\", \"2019-12-26T00:00:00\", \"2019-12-31T00:00:00\"], \"xaxis\": \"x\", \"y\": [9.997, 9.997, 9.997, 9.997, 9.997, 9.997, 9.997, 9.997, 9.997, 9.997, 9.997, 9.997, 9.997, 9.997, 9.997, 9.997, 9.997, 9.997, 9.997, 9.997, 9.997, 9.997, 9.997, 9.997, 9.997, 9.997, 9.997, 9.997], \"yaxis\": \"y\"}, {\"line\": {\"color\": \"#33C2FF\"}, \"name\": \"mean C-Pitch\", \"type\": \"scatter\", \"x\": [\"2019-01-11T00:00:00\", \"2019-01-22T00:00:00\", \"2019-01-26T00:00:00\", \"2019-01-31T00:00:00\", \"2019-02-11T00:00:00\", \"2019-02-22T00:00:00\", \"2019-02-27T00:00:00\", \"2019-03-07T00:00:00\", \"2019-03-15T00:00:00\", \"2019-04-05T00:00:00\", \"2019-04-16T00:00:00\", \"2019-05-27T00:00:00\", \"2019-06-03T00:00:00\", \"2019-06-10T00:00:00\", \"2019-06-17T00:00:00\", \"2019-06-25T00:00:00\", \"2019-06-28T00:00:00\", \"2019-08-07T00:00:00\", \"2019-08-19T00:00:00\", \"2019-08-26T00:00:00\", \"2019-09-05T00:00:00\", \"2019-10-17T00:00:00\", \"2019-11-01T00:00:00\", \"2019-11-13T00:00:00\", \"2019-12-05T00:00:00\", \"2019-12-10T00:00:00\", \"2019-12-26T00:00:00\", \"2019-12-31T00:00:00\"], \"xaxis\": \"x\", \"y\": [10.002, 10.002, 10.002, 10.002, 10.002, 10.002, 10.002, 10.002, 10.002, 10.002, 10.002, 10.002, 10.002, 10.002, 10.002, 10.002, 10.002, 10.002, 10.002, 10.002, 10.002, 10.002, 10.002, 10.002, 10.002, 10.002, 10.002, 10.002], \"yaxis\": \"y\"}, {\"line\": {\"color\": \"#4280F5\"}, \"mode\": \"lines+markers\", \"name\": \"mean J\", \"type\": \"scatter\", \"x\": [\"2019-01-11T00:00:00\", \"2019-01-22T00:00:00\", \"2019-01-26T00:00:00\", \"2019-01-31T00:00:00\", \"2019-02-11T00:00:00\", \"2019-02-22T00:00:00\", \"2019-02-27T00:00:00\", \"2019-03-07T00:00:00\", \"2019-03-15T00:00:00\", \"2019-04-05T00:00:00\", \"2019-04-16T00:00:00\", \"2019-05-27T00:00:00\", \"2019-06-03T00:00:00\", \"2019-06-10T00:00:00\", \"2019-06-17T00:00:00\", \"2019-06-25T00:00:00\", \"2019-06-28T00:00:00\", \"2019-08-07T00:00:00\", \"2019-08-19T00:00:00\", \"2019-08-26T00:00:00\", \"2019-09-05T00:00:00\", \"2019-10-17T00:00:00\", \"2019-11-01T00:00:00\", \"2019-11-13T00:00:00\", \"2019-12-05T00:00:00\", \"2019-12-10T00:00:00\", \"2019-12-26T00:00:00\", \"2019-12-31T00:00:00\"], \"xaxis\": \"x2\", \"y\": [1.219, 1.219, 1.22, 1.22, 1.22, 1.22, 1.22, 1.22, 1.219, 1.22, 1.22, 1.22, 1.22, 1.22, 1.218, 1.219, 1.218, 1.217, 1.217, 1.219, 1.218, 1.22, 1.22, 1.219, 1.219, 1.22, 1.219, 1.218], \"yaxis\": \"y2\"}, {\"line\": {\"color\": \"#FF5733\"}, \"name\": \"USL J\", \"type\": \"scatter\", \"x\": [\"2019-01-11T00:00:00\", \"2019-01-22T00:00:00\", \"2019-01-26T00:00:00\", \"2019-01-31T00:00:00\", \"2019-02-11T00:00:00\", \"2019-02-22T00:00:00\", \"2019-02-27T00:00:00\", \"2019-03-07T00:00:00\", \"2019-03-15T00:00:00\", \"2019-04-05T00:00:00\", \"2019-04-16T00:00:00\", \"2019-05-27T00:00:00\", \"2019-06-03T00:00:00\", \"2019-06-10T00:00:00\", \"2019-06-17T00:00:00\", \"2019-06-25T00:00:00\", \"2019-06-28T00:00:00\", \"2019-08-07T00:00:00\", \"2019-08-19T00:00:00\", \"2019-08-26T00:00:00\", \"2019-09-05T00:00:00\", \"2019-10-17T00:00:00\", \"2019-11-01T00:00:00\", \"2019-11-13T00:00:00\", \"2019-12-05T00:00:00\", \"2019-12-10T00:00:00\", \"2019-12-26T00:00:00\", \"2019-12-31T00:00:00\"], \"xaxis\": \"x2\", \"y\": [1.22, 1.22, 1.22, 1.22, 1.22, 1.22, 1.22, 1.22, 1.22, 1.22, 1.22, 1.22, 1.22, 1.22, 1.22, 1.22, 1.22, 1.22, 1.22, 1.22, 1.22, 1.22, 1.22, 1.22, 1.22, 1.22, 1.22, 1.22], \"yaxis\": \"y2\"}, {\"line\": {\"color\": \"#FF5733\"}, \"name\": \"LSL J\", \"type\": \"scatter\", \"x\": [\"2019-01-11T00:00:00\", \"2019-01-22T00:00:00\", \"2019-01-26T00:00:00\", \"2019-01-31T00:00:00\", \"2019-02-11T00:00:00\", \"2019-02-22T00:00:00\", \"2019-02-27T00:00:00\", \"2019-03-07T00:00:00\", \"2019-03-15T00:00:00\", \"2019-04-05T00:00:00\", \"2019-04-16T00:00:00\", \"2019-05-27T00:00:00\", \"2019-06-03T00:00:00\", \"2019-06-10T00:00:00\", \"2019-06-17T00:00:00\", \"2019-06-25T00:00:00\", \"2019-06-28T00:00:00\", \"2019-08-07T00:00:00\", \"2019-08-19T00:00:00\", \"2019-08-26T00:00:00\", \"2019-09-05T00:00:00\", \"2019-10-17T00:00:00\", \"2019-11-01T00:00:00\", \"2019-11-13T00:00:00\", \"2019-12-05T00:00:00\", \"2019-12-10T00:00:00\", \"2019-12-26T00:00:00\", \"2019-12-31T00:00:00\"], \"xaxis\": \"x2\", \"y\": [1.21, 1.21, 1.21, 1.21, 1.21, 1.21, 1.21, 1.21, 1.21, 1.21, 1.21, 1.21, 1.21, 1.21, 1.21, 1.21, 1.21, 1.21, 1.21, 1.21, 1.21, 1.21, 1.21, 1.21, 1.21, 1.21, 1.21, 1.21], \"yaxis\": \"y2\"}, {\"line\": {\"color\": \"#FF5733\"}, \"name\": \"Nominal J\", \"type\": \"scatter\", \"x\": [\"2019-01-11T00:00:00\", \"2019-01-22T00:00:00\", \"2019-01-26T00:00:00\", \"2019-01-31T00:00:00\", \"2019-02-11T00:00:00\", \"2019-02-22T00:00:00\", \"2019-02-27T00:00:00\", \"2019-03-07T00:00:00\", \"2019-03-15T00:00:00\", \"2019-04-05T00:00:00\", \"2019-04-16T00:00:00\", \"2019-05-27T00:00:00\", \"2019-06-03T00:00:00\", \"2019-06-10T00:00:00\", \"2019-06-17T00:00:00\", \"2019-06-25T00:00:00\", \"2019-06-28T00:00:00\", \"2019-08-07T00:00:00\", \"2019-08-19T00:00:00\", \"2019-08-26T00:00:00\", \"2019-09-05T00:00:00\", \"2019-10-17T00:00:00\", \"2019-11-01T00:00:00\", \"2019-11-13T00:00:00\", \"2019-12-05T00:00:00\", \"2019-12-10T00:00:00\", \"2019-12-26T00:00:00\", \"2019-12-31T00:00:00\"], \"xaxis\": \"x2\", \"y\": [1.21, 1.21, 1.21, 1.21, 1.21, 1.21, 1.21, 1.21, 1.21, 1.21, 1.21, 1.21, 1.21, 1.21, 1.21, 1.21, 1.21, 1.21, 1.21, 1.21, 1.21, 1.21, 1.21, 1.21, 1.21, 1.21, 1.21, 1.21], \"yaxis\": \"y2\"}, {\"line\": {\"color\": \"#33C2FF\"}, \"name\": \"UCL J\", \"type\": \"scatter\", \"x\": [\"2019-01-11T00:00:00\", \"2019-01-22T00:00:00\", \"2019-01-26T00:00:00\", \"2019-01-31T00:00:00\", \"2019-02-11T00:00:00\", \"2019-02-22T00:00:00\", \"2019-02-27T00:00:00\", \"2019-03-07T00:00:00\", \"2019-03-15T00:00:00\", \"2019-04-05T00:00:00\", \"2019-04-16T00:00:00\", \"2019-05-27T00:00:00\", \"2019-06-03T00:00:00\", \"2019-06-10T00:00:00\", \"2019-06-17T00:00:00\", \"2019-06-25T00:00:00\", \"2019-06-28T00:00:00\", \"2019-08-07T00:00:00\", \"2019-08-19T00:00:00\", \"2019-08-26T00:00:00\", \"2019-09-05T00:00:00\", \"2019-10-17T00:00:00\", \"2019-11-01T00:00:00\", \"2019-11-13T00:00:00\", \"2019-12-05T00:00:00\", \"2019-12-10T00:00:00\", \"2019-12-26T00:00:00\", \"2019-12-31T00:00:00\"], \"xaxis\": \"x2\", \"y\": [1.222, 1.222, 1.222, 1.222, 1.222, 1.222, 1.222, 1.222, 1.222, 1.222, 1.222, 1.222, 1.222, 1.222, 1.222, 1.222, 1.222, 1.222, 1.222, 1.222, 1.222, 1.222, 1.222, 1.222, 1.222, 1.222, 1.222, 1.222], \"yaxis\": \"y2\"}, {\"line\": {\"color\": \"#33C2FF\"}, \"name\": \"LCL J\", \"type\": \"scatter\", \"x\": [\"2019-01-11T00:00:00\", \"2019-01-22T00:00:00\", \"2019-01-26T00:00:00\", \"2019-01-31T00:00:00\", \"2019-02-11T00:00:00\", \"2019-02-22T00:00:00\", \"2019-02-27T00:00:00\", \"2019-03-07T00:00:00\", \"2019-03-15T00:00:00\", \"2019-04-05T00:00:00\", \"2019-04-16T00:00:00\", \"2019-05-27T00:00:00\", \"2019-06-03T00:00:00\", \"2019-06-10T00:00:00\", \"2019-06-17T00:00:00\", \"2019-06-25T00:00:00\", \"2019-06-28T00:00:00\", \"2019-08-07T00:00:00\", \"2019-08-19T00:00:00\", \"2019-08-26T00:00:00\", \"2019-09-05T00:00:00\", \"2019-10-17T00:00:00\", \"2019-11-01T00:00:00\", \"2019-11-13T00:00:00\", \"2019-12-05T00:00:00\", \"2019-12-10T00:00:00\", \"2019-12-26T00:00:00\", \"2019-12-31T00:00:00\"], \"xaxis\": \"x2\", \"y\": [1.216, 1.216, 1.216, 1.216, 1.216, 1.216, 1.216, 1.216, 1.216, 1.216, 1.216, 1.216, 1.216, 1.216, 1.216, 1.216, 1.216, 1.216, 1.216, 1.216, 1.216, 1.216, 1.216, 1.216, 1.216, 1.216, 1.216, 1.216], \"yaxis\": \"y2\"}, {\"line\": {\"color\": \"#33C2FF\"}, \"name\": \"mean J\", \"type\": \"scatter\", \"x\": [\"2019-01-11T00:00:00\", \"2019-01-22T00:00:00\", \"2019-01-26T00:00:00\", \"2019-01-31T00:00:00\", \"2019-02-11T00:00:00\", \"2019-02-22T00:00:00\", \"2019-02-27T00:00:00\", \"2019-03-07T00:00:00\", \"2019-03-15T00:00:00\", \"2019-04-05T00:00:00\", \"2019-04-16T00:00:00\", \"2019-05-27T00:00:00\", \"2019-06-03T00:00:00\", \"2019-06-10T00:00:00\", \"2019-06-17T00:00:00\", \"2019-06-25T00:00:00\", \"2019-06-28T00:00:00\", \"2019-08-07T00:00:00\", \"2019-08-19T00:00:00\", \"2019-08-26T00:00:00\", \"2019-09-05T00:00:00\", \"2019-10-17T00:00:00\", \"2019-11-01T00:00:00\", \"2019-11-13T00:00:00\", \"2019-12-05T00:00:00\", \"2019-12-10T00:00:00\", \"2019-12-26T00:00:00\", \"2019-12-31T00:00:00\"], \"xaxis\": \"x2\", \"y\": [1.219, 1.219, 1.219, 1.219, 1.219, 1.219, 1.219, 1.219, 1.219, 1.219, 1.219, 1.219, 1.219, 1.219, 1.219, 1.219, 1.219, 1.219, 1.219, 1.219, 1.219, 1.219, 1.219, 1.219, 1.219, 1.219, 1.219, 1.219], \"yaxis\": \"y2\"}, {\"line\": {\"color\": \"#4280F5\"}, \"mode\": \"lines+markers\", \"name\": \"mean I\", \"type\": \"scatter\", \"x\": [\"2019-01-11T00:00:00\", \"2019-01-22T00:00:00\", \"2019-01-26T00:00:00\", \"2019-01-31T00:00:00\", \"2019-02-11T00:00:00\", \"2019-02-22T00:00:00\", \"2019-02-27T00:00:00\", \"2019-03-07T00:00:00\", \"2019-03-15T00:00:00\", \"2019-04-05T00:00:00\", \"2019-04-16T00:00:00\", \"2019-05-27T00:00:00\", \"2019-06-03T00:00:00\", \"2019-06-10T00:00:00\", \"2019-06-17T00:00:00\", \"2019-06-25T00:00:00\", \"2019-06-28T00:00:00\", \"2019-08-07T00:00:00\", \"2019-08-19T00:00:00\", \"2019-08-26T00:00:00\", \"2019-09-05T00:00:00\", \"2019-10-17T00:00:00\", \"2019-11-01T00:00:00\", \"2019-11-13T00:00:00\", \"2019-12-05T00:00:00\", \"2019-12-10T00:00:00\", \"2019-12-26T00:00:00\", \"2019-12-31T00:00:00\"], \"xaxis\": \"x3\", \"y\": [3.194, 3.199, 3.2, 3.196, 3.195, 3.198, 3.195, 3.195, 3.199, 3.2, 3.2, 3.199, 3.2, 3.204, 3.197, 3.195, 3.2, 3.201, 3.201, 3.2, 3.201, 3.198, 3.198, 3.197, 3.199, 3.2, 3.202, 3.201], \"yaxis\": \"y3\"}, {\"line\": {\"color\": \"#FF5733\"}, \"name\": \"USL I\", \"type\": \"scatter\", \"x\": [\"2019-01-11T00:00:00\", \"2019-01-22T00:00:00\", \"2019-01-26T00:00:00\", \"2019-01-31T00:00:00\", \"2019-02-11T00:00:00\", \"2019-02-22T00:00:00\", \"2019-02-27T00:00:00\", \"2019-03-07T00:00:00\", \"2019-03-15T00:00:00\", \"2019-04-05T00:00:00\", \"2019-04-16T00:00:00\", \"2019-05-27T00:00:00\", \"2019-06-03T00:00:00\", \"2019-06-10T00:00:00\", \"2019-06-17T00:00:00\", \"2019-06-25T00:00:00\", \"2019-06-28T00:00:00\", \"2019-08-07T00:00:00\", \"2019-08-19T00:00:00\", \"2019-08-26T00:00:00\", \"2019-09-05T00:00:00\", \"2019-10-17T00:00:00\", \"2019-11-01T00:00:00\", \"2019-11-13T00:00:00\", \"2019-12-05T00:00:00\", \"2019-12-10T00:00:00\", \"2019-12-26T00:00:00\", \"2019-12-31T00:00:00\"], \"xaxis\": \"x3\", \"y\": [3.21, 3.21, 3.21, 3.21, 3.21, 3.21, 3.21, 3.21, 3.21, 3.21, 3.21, 3.21, 3.21, 3.21, 3.21, 3.21, 3.21, 3.21, 3.21, 3.21, 3.21, 3.21, 3.21, 3.21, 3.21, 3.21, 3.21, 3.21], \"yaxis\": \"y3\"}, {\"line\": {\"color\": \"#FF5733\"}, \"name\": \"LSL I\", \"type\": \"scatter\", \"x\": [\"2019-01-11T00:00:00\", \"2019-01-22T00:00:00\", \"2019-01-26T00:00:00\", \"2019-01-31T00:00:00\", \"2019-02-11T00:00:00\", \"2019-02-22T00:00:00\", \"2019-02-27T00:00:00\", \"2019-03-07T00:00:00\", \"2019-03-15T00:00:00\", \"2019-04-05T00:00:00\", \"2019-04-16T00:00:00\", \"2019-05-27T00:00:00\", \"2019-06-03T00:00:00\", \"2019-06-10T00:00:00\", \"2019-06-17T00:00:00\", \"2019-06-25T00:00:00\", \"2019-06-28T00:00:00\", \"2019-08-07T00:00:00\", \"2019-08-19T00:00:00\", \"2019-08-26T00:00:00\", \"2019-09-05T00:00:00\", \"2019-10-17T00:00:00\", \"2019-11-01T00:00:00\", \"2019-11-13T00:00:00\", \"2019-12-05T00:00:00\", \"2019-12-10T00:00:00\", \"2019-12-26T00:00:00\", \"2019-12-31T00:00:00\"], \"xaxis\": \"x3\", \"y\": [3.19, 3.19, 3.19, 3.19, 3.19, 3.19, 3.19, 3.19, 3.19, 3.19, 3.19, 3.19, 3.19, 3.19, 3.19, 3.19, 3.19, 3.19, 3.19, 3.19, 3.19, 3.19, 3.19, 3.19, 3.19, 3.19, 3.19, 3.19], \"yaxis\": \"y3\"}, {\"line\": {\"color\": \"#FF5733\"}, \"name\": \"Nominal I\", \"type\": \"scatter\", \"x\": [\"2019-01-11T00:00:00\", \"2019-01-22T00:00:00\", \"2019-01-26T00:00:00\", \"2019-01-31T00:00:00\", \"2019-02-11T00:00:00\", \"2019-02-22T00:00:00\", \"2019-02-27T00:00:00\", \"2019-03-07T00:00:00\", \"2019-03-15T00:00:00\", \"2019-04-05T00:00:00\", \"2019-04-16T00:00:00\", \"2019-05-27T00:00:00\", \"2019-06-03T00:00:00\", \"2019-06-10T00:00:00\", \"2019-06-17T00:00:00\", \"2019-06-25T00:00:00\", \"2019-06-28T00:00:00\", \"2019-08-07T00:00:00\", \"2019-08-19T00:00:00\", \"2019-08-26T00:00:00\", \"2019-09-05T00:00:00\", \"2019-10-17T00:00:00\", \"2019-11-01T00:00:00\", \"2019-11-13T00:00:00\", \"2019-12-05T00:00:00\", \"2019-12-10T00:00:00\", \"2019-12-26T00:00:00\", \"2019-12-31T00:00:00\"], \"xaxis\": \"x3\", \"y\": [3.2, 3.2, 3.2, 3.2, 3.2, 3.2, 3.2, 3.2, 3.2, 3.2, 3.2, 3.2, 3.2, 3.2, 3.2, 3.2, 3.2, 3.2, 3.2, 3.2, 3.2, 3.2, 3.2, 3.2, 3.2, 3.2, 3.2, 3.2], \"yaxis\": \"y3\"}, {\"line\": {\"color\": \"#33C2FF\"}, \"name\": \"UCL I\", \"type\": \"scatter\", \"x\": [\"2019-01-11T00:00:00\", \"2019-01-22T00:00:00\", \"2019-01-26T00:00:00\", \"2019-01-31T00:00:00\", \"2019-02-11T00:00:00\", \"2019-02-22T00:00:00\", \"2019-02-27T00:00:00\", \"2019-03-07T00:00:00\", \"2019-03-15T00:00:00\", \"2019-04-05T00:00:00\", \"2019-04-16T00:00:00\", \"2019-05-27T00:00:00\", \"2019-06-03T00:00:00\", \"2019-06-10T00:00:00\", \"2019-06-17T00:00:00\", \"2019-06-25T00:00:00\", \"2019-06-28T00:00:00\", \"2019-08-07T00:00:00\", \"2019-08-19T00:00:00\", \"2019-08-26T00:00:00\", \"2019-09-05T00:00:00\", \"2019-10-17T00:00:00\", \"2019-11-01T00:00:00\", \"2019-11-13T00:00:00\", \"2019-12-05T00:00:00\", \"2019-12-10T00:00:00\", \"2019-12-26T00:00:00\", \"2019-12-31T00:00:00\"], \"xaxis\": \"x3\", \"y\": [3.206, 3.206, 3.206, 3.206, 3.206, 3.206, 3.206, 3.206, 3.206, 3.206, 3.206, 3.206, 3.206, 3.206, 3.206, 3.206, 3.206, 3.206, 3.206, 3.206, 3.206, 3.206, 3.206, 3.206, 3.206, 3.206, 3.206, 3.206], \"yaxis\": \"y3\"}, {\"line\": {\"color\": \"#33C2FF\"}, \"name\": \"LCL I\", \"type\": \"scatter\", \"x\": [\"2019-01-11T00:00:00\", \"2019-01-22T00:00:00\", \"2019-01-26T00:00:00\", \"2019-01-31T00:00:00\", \"2019-02-11T00:00:00\", \"2019-02-22T00:00:00\", \"2019-02-27T00:00:00\", \"2019-03-07T00:00:00\", \"2019-03-15T00:00:00\", \"2019-04-05T00:00:00\", \"2019-04-16T00:00:00\", \"2019-05-27T00:00:00\", \"2019-06-03T00:00:00\", \"2019-06-10T00:00:00\", \"2019-06-17T00:00:00\", \"2019-06-25T00:00:00\", \"2019-06-28T00:00:00\", \"2019-08-07T00:00:00\", \"2019-08-19T00:00:00\", \"2019-08-26T00:00:00\", \"2019-09-05T00:00:00\", \"2019-10-17T00:00:00\", \"2019-11-01T00:00:00\", \"2019-11-13T00:00:00\", \"2019-12-05T00:00:00\", \"2019-12-10T00:00:00\", \"2019-12-26T00:00:00\", \"2019-12-31T00:00:00\"], \"xaxis\": \"x3\", \"y\": [3.191, 3.191, 3.191, 3.191, 3.191, 3.191, 3.191, 3.191, 3.191, 3.191, 3.191, 3.191, 3.191, 3.191, 3.191, 3.191, 3.191, 3.191, 3.191, 3.191, 3.191, 3.191, 3.191, 3.191, 3.191, 3.191, 3.191, 3.191], \"yaxis\": \"y3\"}, {\"line\": {\"color\": \"#33C2FF\"}, \"name\": \"mean I\", \"type\": \"scatter\", \"x\": [\"2019-01-11T00:00:00\", \"2019-01-22T00:00:00\", \"2019-01-26T00:00:00\", \"2019-01-31T00:00:00\", \"2019-02-11T00:00:00\", \"2019-02-22T00:00:00\", \"2019-02-27T00:00:00\", \"2019-03-07T00:00:00\", \"2019-03-15T00:00:00\", \"2019-04-05T00:00:00\", \"2019-04-16T00:00:00\", \"2019-05-27T00:00:00\", \"2019-06-03T00:00:00\", \"2019-06-10T00:00:00\", \"2019-06-17T00:00:00\", \"2019-06-25T00:00:00\", \"2019-06-28T00:00:00\", \"2019-08-07T00:00:00\", \"2019-08-19T00:00:00\", \"2019-08-26T00:00:00\", \"2019-09-05T00:00:00\", \"2019-10-17T00:00:00\", \"2019-11-01T00:00:00\", \"2019-11-13T00:00:00\", \"2019-12-05T00:00:00\", \"2019-12-10T00:00:00\", \"2019-12-26T00:00:00\", \"2019-12-31T00:00:00\"], \"xaxis\": \"x3\", \"y\": [3.199, 3.199, 3.199, 3.199, 3.199, 3.199, 3.199, 3.199, 3.199, 3.199, 3.199, 3.199, 3.199, 3.199, 3.199, 3.199, 3.199, 3.199, 3.199, 3.199, 3.199, 3.199, 3.199, 3.199, 3.199, 3.199, 3.199, 3.199], \"yaxis\": \"y3\"}, {\"line\": {\"color\": \"#4280F5\"}, \"mode\": \"lines+markers\", \"name\": \"mean O\", \"type\": \"scatter\", \"x\": [\"2019-01-11T00:00:00\", \"2019-01-22T00:00:00\", \"2019-01-26T00:00:00\", \"2019-01-31T00:00:00\", \"2019-02-11T00:00:00\", \"2019-02-22T00:00:00\", \"2019-02-27T00:00:00\", \"2019-03-07T00:00:00\", \"2019-03-15T00:00:00\", \"2019-04-05T00:00:00\", \"2019-04-16T00:00:00\", \"2019-05-27T00:00:00\", \"2019-06-03T00:00:00\", \"2019-06-10T00:00:00\", \"2019-06-17T00:00:00\", \"2019-06-25T00:00:00\", \"2019-06-28T00:00:00\", \"2019-08-07T00:00:00\", \"2019-08-19T00:00:00\", \"2019-08-26T00:00:00\", \"2019-09-05T00:00:00\", \"2019-10-17T00:00:00\", \"2019-11-01T00:00:00\", \"2019-11-13T00:00:00\", \"2019-12-05T00:00:00\", \"2019-12-10T00:00:00\", \"2019-12-26T00:00:00\", \"2019-12-31T00:00:00\"], \"xaxis\": \"x4\", \"y\": [11.853, 11.852, 11.853, 11.855, 11.854, 11.852, 11.855, 11.857, 11.853, 11.856, 11.853, 11.853, 11.852, 11.856, 11.859, 11.86, 11.856, 11.851, 11.849, 11.85, 11.856, 11.849, 11.849, 11.851, 11.849, 11.852, 11.849, 11.848], \"yaxis\": \"y4\"}, {\"line\": {\"color\": \"#FF5733\"}, \"name\": \"USL O\", \"type\": \"scatter\", \"x\": [\"2019-01-11T00:00:00\", \"2019-01-22T00:00:00\", \"2019-01-26T00:00:00\", \"2019-01-31T00:00:00\", \"2019-02-11T00:00:00\", \"2019-02-22T00:00:00\", \"2019-02-27T00:00:00\", \"2019-03-07T00:00:00\", \"2019-03-15T00:00:00\", \"2019-04-05T00:00:00\", \"2019-04-16T00:00:00\", \"2019-05-27T00:00:00\", \"2019-06-03T00:00:00\", \"2019-06-10T00:00:00\", \"2019-06-17T00:00:00\", \"2019-06-25T00:00:00\", \"2019-06-28T00:00:00\", \"2019-08-07T00:00:00\", \"2019-08-19T00:00:00\", \"2019-08-26T00:00:00\", \"2019-09-05T00:00:00\", \"2019-10-17T00:00:00\", \"2019-11-01T00:00:00\", \"2019-11-13T00:00:00\", \"2019-12-05T00:00:00\", \"2019-12-10T00:00:00\", \"2019-12-26T00:00:00\", \"2019-12-31T00:00:00\"], \"xaxis\": \"x4\", \"y\": [11.86, 11.86, 11.86, 11.86, 11.86, 11.86, 11.86, 11.86, 11.86, 11.86, 11.86, 11.86, 11.86, 11.86, 11.86, 11.86, 11.86, 11.86, 11.86, 11.86, 11.86, 11.86, 11.86, 11.86, 11.86, 11.86, 11.86, 11.86], \"yaxis\": \"y4\"}, {\"line\": {\"color\": \"#FF5733\"}, \"name\": \"LSL O\", \"type\": \"scatter\", \"x\": [\"2019-01-11T00:00:00\", \"2019-01-22T00:00:00\", \"2019-01-26T00:00:00\", \"2019-01-31T00:00:00\", \"2019-02-11T00:00:00\", \"2019-02-22T00:00:00\", \"2019-02-27T00:00:00\", \"2019-03-07T00:00:00\", \"2019-03-15T00:00:00\", \"2019-04-05T00:00:00\", \"2019-04-16T00:00:00\", \"2019-05-27T00:00:00\", \"2019-06-03T00:00:00\", \"2019-06-10T00:00:00\", \"2019-06-17T00:00:00\", \"2019-06-25T00:00:00\", \"2019-06-28T00:00:00\", \"2019-08-07T00:00:00\", \"2019-08-19T00:00:00\", \"2019-08-26T00:00:00\", \"2019-09-05T00:00:00\", \"2019-10-17T00:00:00\", \"2019-11-01T00:00:00\", \"2019-11-13T00:00:00\", \"2019-12-05T00:00:00\", \"2019-12-10T00:00:00\", \"2019-12-26T00:00:00\", \"2019-12-31T00:00:00\"], \"xaxis\": \"x4\", \"y\": [11.84, 11.84, 11.84, 11.84, 11.84, 11.84, 11.84, 11.84, 11.84, 11.84, 11.84, 11.84, 11.84, 11.84, 11.84, 11.84, 11.84, 11.84, 11.84, 11.84, 11.84, 11.84, 11.84, 11.84, 11.84, 11.84, 11.84, 11.84], \"yaxis\": \"y4\"}, {\"line\": {\"color\": \"#FF5733\"}, \"name\": \"Nominal O\", \"type\": \"scatter\", \"x\": [\"2019-01-11T00:00:00\", \"2019-01-22T00:00:00\", \"2019-01-26T00:00:00\", \"2019-01-31T00:00:00\", \"2019-02-11T00:00:00\", \"2019-02-22T00:00:00\", \"2019-02-27T00:00:00\", \"2019-03-07T00:00:00\", \"2019-03-15T00:00:00\", \"2019-04-05T00:00:00\", \"2019-04-16T00:00:00\", \"2019-05-27T00:00:00\", \"2019-06-03T00:00:00\", \"2019-06-10T00:00:00\", \"2019-06-17T00:00:00\", \"2019-06-25T00:00:00\", \"2019-06-28T00:00:00\", \"2019-08-07T00:00:00\", \"2019-08-19T00:00:00\", \"2019-08-26T00:00:00\", \"2019-09-05T00:00:00\", \"2019-10-17T00:00:00\", \"2019-11-01T00:00:00\", \"2019-11-13T00:00:00\", \"2019-12-05T00:00:00\", \"2019-12-10T00:00:00\", \"2019-12-26T00:00:00\", \"2019-12-31T00:00:00\"], \"xaxis\": \"x4\", \"y\": [11.85, 11.85, 11.85, 11.85, 11.85, 11.85, 11.85, 11.85, 11.85, 11.85, 11.85, 11.85, 11.85, 11.85, 11.85, 11.85, 11.85, 11.85, 11.85, 11.85, 11.85, 11.85, 11.85, 11.85, 11.85, 11.85, 11.85, 11.85], \"yaxis\": \"y4\"}, {\"line\": {\"color\": \"#33C2FF\"}, \"name\": \"UCL O\", \"type\": \"scatter\", \"x\": [\"2019-01-11T00:00:00\", \"2019-01-22T00:00:00\", \"2019-01-26T00:00:00\", \"2019-01-31T00:00:00\", \"2019-02-11T00:00:00\", \"2019-02-22T00:00:00\", \"2019-02-27T00:00:00\", \"2019-03-07T00:00:00\", \"2019-03-15T00:00:00\", \"2019-04-05T00:00:00\", \"2019-04-16T00:00:00\", \"2019-05-27T00:00:00\", \"2019-06-03T00:00:00\", \"2019-06-10T00:00:00\", \"2019-06-17T00:00:00\", \"2019-06-25T00:00:00\", \"2019-06-28T00:00:00\", \"2019-08-07T00:00:00\", \"2019-08-19T00:00:00\", \"2019-08-26T00:00:00\", \"2019-09-05T00:00:00\", \"2019-10-17T00:00:00\", \"2019-11-01T00:00:00\", \"2019-11-13T00:00:00\", \"2019-12-05T00:00:00\", \"2019-12-10T00:00:00\", \"2019-12-26T00:00:00\", \"2019-12-31T00:00:00\"], \"xaxis\": \"x4\", \"y\": [11.862, 11.862, 11.862, 11.862, 11.862, 11.862, 11.862, 11.862, 11.862, 11.862, 11.862, 11.862, 11.862, 11.862, 11.862, 11.862, 11.862, 11.862, 11.862, 11.862, 11.862, 11.862, 11.862, 11.862, 11.862, 11.862, 11.862, 11.862], \"yaxis\": \"y4\"}, {\"line\": {\"color\": \"#33C2FF\"}, \"name\": \"LCL O\", \"type\": \"scatter\", \"x\": [\"2019-01-11T00:00:00\", \"2019-01-22T00:00:00\", \"2019-01-26T00:00:00\", \"2019-01-31T00:00:00\", \"2019-02-11T00:00:00\", \"2019-02-22T00:00:00\", \"2019-02-27T00:00:00\", \"2019-03-07T00:00:00\", \"2019-03-15T00:00:00\", \"2019-04-05T00:00:00\", \"2019-04-16T00:00:00\", \"2019-05-27T00:00:00\", \"2019-06-03T00:00:00\", \"2019-06-10T00:00:00\", \"2019-06-17T00:00:00\", \"2019-06-25T00:00:00\", \"2019-06-28T00:00:00\", \"2019-08-07T00:00:00\", \"2019-08-19T00:00:00\", \"2019-08-26T00:00:00\", \"2019-09-05T00:00:00\", \"2019-10-17T00:00:00\", \"2019-11-01T00:00:00\", \"2019-11-13T00:00:00\", \"2019-12-05T00:00:00\", \"2019-12-10T00:00:00\", \"2019-12-26T00:00:00\", \"2019-12-31T00:00:00\"], \"xaxis\": \"x4\", \"y\": [11.843, 11.843, 11.843, 11.843, 11.843, 11.843, 11.843, 11.843, 11.843, 11.843, 11.843, 11.843, 11.843, 11.843, 11.843, 11.843, 11.843, 11.843, 11.843, 11.843, 11.843, 11.843, 11.843, 11.843, 11.843, 11.843, 11.843, 11.843], \"yaxis\": \"y4\"}, {\"line\": {\"color\": \"#33C2FF\"}, \"name\": \"mean O\", \"type\": \"scatter\", \"x\": [\"2019-01-11T00:00:00\", \"2019-01-22T00:00:00\", \"2019-01-26T00:00:00\", \"2019-01-31T00:00:00\", \"2019-02-11T00:00:00\", \"2019-02-22T00:00:00\", \"2019-02-27T00:00:00\", \"2019-03-07T00:00:00\", \"2019-03-15T00:00:00\", \"2019-04-05T00:00:00\", \"2019-04-16T00:00:00\", \"2019-05-27T00:00:00\", \"2019-06-03T00:00:00\", \"2019-06-10T00:00:00\", \"2019-06-17T00:00:00\", \"2019-06-25T00:00:00\", \"2019-06-28T00:00:00\", \"2019-08-07T00:00:00\", \"2019-08-19T00:00:00\", \"2019-08-26T00:00:00\", \"2019-09-05T00:00:00\", \"2019-10-17T00:00:00\", \"2019-11-01T00:00:00\", \"2019-11-13T00:00:00\", \"2019-12-05T00:00:00\", \"2019-12-10T00:00:00\", \"2019-12-26T00:00:00\", \"2019-12-31T00:00:00\"], \"xaxis\": \"x4\", \"y\": [11.853, 11.853, 11.853, 11.853, 11.853, 11.853, 11.853, 11.853, 11.853, 11.853, 11.853, 11.853, 11.853, 11.853, 11.853, 11.853, 11.853, 11.853, 11.853, 11.853, 11.853, 11.853, 11.853, 11.853, 11.853, 11.853, 11.853, 11.853], \"yaxis\": \"y4\"}, {\"line\": {\"color\": \"#4280F5\"}, \"mode\": \"lines+markers\", \"name\": \"mean Z\", \"type\": \"scatter\", \"x\": [\"2019-01-11T00:00:00\", \"2019-01-22T00:00:00\", \"2019-01-26T00:00:00\", \"2019-01-31T00:00:00\", \"2019-02-11T00:00:00\", \"2019-02-22T00:00:00\", \"2019-02-27T00:00:00\", \"2019-03-07T00:00:00\", \"2019-03-15T00:00:00\", \"2019-04-05T00:00:00\", \"2019-04-16T00:00:00\", \"2019-05-27T00:00:00\", \"2019-06-03T00:00:00\", \"2019-06-10T00:00:00\", \"2019-06-17T00:00:00\", \"2019-06-25T00:00:00\", \"2019-06-28T00:00:00\", \"2019-08-07T00:00:00\", \"2019-08-19T00:00:00\", \"2019-08-26T00:00:00\", \"2019-09-05T00:00:00\", \"2019-10-17T00:00:00\", \"2019-11-01T00:00:00\", \"2019-11-13T00:00:00\", \"2019-12-05T00:00:00\", \"2019-12-10T00:00:00\", \"2019-12-26T00:00:00\", \"2019-12-31T00:00:00\"], \"xaxis\": \"x5\", \"y\": [0.31, 0.311, 0.311, 0.311, 0.312, 0.312, 0.311, 0.311, 0.312, 0.311, 0.313, 0.313, 0.313, 0.311, 0.313, 0.316, 0.316, 0.313, 0.313, 0.313, 0.316, 0.313, 0.313, 0.315, 0.308, 0.311, 0.312, 0.313], \"yaxis\": \"y5\"}, {\"line\": {\"color\": \"#FF5733\"}, \"name\": \"USL Z\", \"type\": \"scatter\", \"x\": [\"2019-01-11T00:00:00\", \"2019-01-22T00:00:00\", \"2019-01-26T00:00:00\", \"2019-01-31T00:00:00\", \"2019-02-11T00:00:00\", \"2019-02-22T00:00:00\", \"2019-02-27T00:00:00\", \"2019-03-07T00:00:00\", \"2019-03-15T00:00:00\", \"2019-04-05T00:00:00\", \"2019-04-16T00:00:00\", \"2019-05-27T00:00:00\", \"2019-06-03T00:00:00\", \"2019-06-10T00:00:00\", \"2019-06-17T00:00:00\", \"2019-06-25T00:00:00\", \"2019-06-28T00:00:00\", \"2019-08-07T00:00:00\", \"2019-08-19T00:00:00\", \"2019-08-26T00:00:00\", \"2019-09-05T00:00:00\", \"2019-10-17T00:00:00\", \"2019-11-01T00:00:00\", \"2019-11-13T00:00:00\", \"2019-12-05T00:00:00\", \"2019-12-10T00:00:00\", \"2019-12-26T00:00:00\", \"2019-12-31T00:00:00\"], \"xaxis\": \"x5\", \"y\": [0.32, 0.32, 0.32, 0.32, 0.32, 0.32, 0.32, 0.32, 0.32, 0.32, 0.32, 0.32, 0.32, 0.32, 0.32, 0.32, 0.32, 0.32, 0.32, 0.32, 0.32, 0.32, 0.32, 0.32, 0.32, 0.32, 0.32, 0.32], \"yaxis\": \"y5\"}, {\"line\": {\"color\": \"#FF5733\"}, \"name\": \"LSL Z\", \"type\": \"scatter\", \"x\": [\"2019-01-11T00:00:00\", \"2019-01-22T00:00:00\", \"2019-01-26T00:00:00\", \"2019-01-31T00:00:00\", \"2019-02-11T00:00:00\", \"2019-02-22T00:00:00\", \"2019-02-27T00:00:00\", \"2019-03-07T00:00:00\", \"2019-03-15T00:00:00\", \"2019-04-05T00:00:00\", \"2019-04-16T00:00:00\", \"2019-05-27T00:00:00\", \"2019-06-03T00:00:00\", \"2019-06-10T00:00:00\", \"2019-06-17T00:00:00\", \"2019-06-25T00:00:00\", \"2019-06-28T00:00:00\", \"2019-08-07T00:00:00\", \"2019-08-19T00:00:00\", \"2019-08-26T00:00:00\", \"2019-09-05T00:00:00\", \"2019-10-17T00:00:00\", \"2019-11-01T00:00:00\", \"2019-11-13T00:00:00\", \"2019-12-05T00:00:00\", \"2019-12-10T00:00:00\", \"2019-12-26T00:00:00\", \"2019-12-31T00:00:00\"], \"xaxis\": \"x5\", \"y\": [0.28, 0.28, 0.28, 0.28, 0.28, 0.28, 0.28, 0.28, 0.28, 0.28, 0.28, 0.28, 0.28, 0.28, 0.28, 0.28, 0.28, 0.28, 0.28, 0.28, 0.28, 0.28, 0.28, 0.28, 0.28, 0.28, 0.28, 0.28], \"yaxis\": \"y5\"}, {\"line\": {\"color\": \"#FF5733\"}, \"name\": \"Nominal Z\", \"type\": \"scatter\", \"x\": [\"2019-01-11T00:00:00\", \"2019-01-22T00:00:00\", \"2019-01-26T00:00:00\", \"2019-01-31T00:00:00\", \"2019-02-11T00:00:00\", \"2019-02-22T00:00:00\", \"2019-02-27T00:00:00\", \"2019-03-07T00:00:00\", \"2019-03-15T00:00:00\", \"2019-04-05T00:00:00\", \"2019-04-16T00:00:00\", \"2019-05-27T00:00:00\", \"2019-06-03T00:00:00\", \"2019-06-10T00:00:00\", \"2019-06-17T00:00:00\", \"2019-06-25T00:00:00\", \"2019-06-28T00:00:00\", \"2019-08-07T00:00:00\", \"2019-08-19T00:00:00\", \"2019-08-26T00:00:00\", \"2019-09-05T00:00:00\", \"2019-10-17T00:00:00\", \"2019-11-01T00:00:00\", \"2019-11-13T00:00:00\", \"2019-12-05T00:00:00\", \"2019-12-10T00:00:00\", \"2019-12-26T00:00:00\", \"2019-12-31T00:00:00\"], \"xaxis\": \"x5\", \"y\": [0.3, 0.3, 0.3, 0.3, 0.3, 0.3, 0.3, 0.3, 0.3, 0.3, 0.3, 0.3, 0.3, 0.3, 0.3, 0.3, 0.3, 0.3, 0.3, 0.3, 0.3, 0.3, 0.3, 0.3, 0.3, 0.3, 0.3, 0.3], \"yaxis\": \"y5\"}, {\"line\": {\"color\": \"#33C2FF\"}, \"name\": \"UCL Z\", \"type\": \"scatter\", \"x\": [\"2019-01-11T00:00:00\", \"2019-01-22T00:00:00\", \"2019-01-26T00:00:00\", \"2019-01-31T00:00:00\", \"2019-02-11T00:00:00\", \"2019-02-22T00:00:00\", \"2019-02-27T00:00:00\", \"2019-03-07T00:00:00\", \"2019-03-15T00:00:00\", \"2019-04-05T00:00:00\", \"2019-04-16T00:00:00\", \"2019-05-27T00:00:00\", \"2019-06-03T00:00:00\", \"2019-06-10T00:00:00\", \"2019-06-17T00:00:00\", \"2019-06-25T00:00:00\", \"2019-06-28T00:00:00\", \"2019-08-07T00:00:00\", \"2019-08-19T00:00:00\", \"2019-08-26T00:00:00\", \"2019-09-05T00:00:00\", \"2019-10-17T00:00:00\", \"2019-11-01T00:00:00\", \"2019-11-13T00:00:00\", \"2019-12-05T00:00:00\", \"2019-12-10T00:00:00\", \"2019-12-26T00:00:00\", \"2019-12-31T00:00:00\"], \"xaxis\": \"x5\", \"y\": [0.318, 0.318, 0.318, 0.318, 0.318, 0.318, 0.318, 0.318, 0.318, 0.318, 0.318, 0.318, 0.318, 0.318, 0.318, 0.318, 0.318, 0.318, 0.318, 0.318, 0.318, 0.318, 0.318, 0.318, 0.318, 0.318, 0.318, 0.318], \"yaxis\": \"y5\"}, {\"line\": {\"color\": \"#33C2FF\"}, \"name\": \"LCL Z\", \"type\": \"scatter\", \"x\": [\"2019-01-11T00:00:00\", \"2019-01-22T00:00:00\", \"2019-01-26T00:00:00\", \"2019-01-31T00:00:00\", \"2019-02-11T00:00:00\", \"2019-02-22T00:00:00\", \"2019-02-27T00:00:00\", \"2019-03-07T00:00:00\", \"2019-03-15T00:00:00\", \"2019-04-05T00:00:00\", \"2019-04-16T00:00:00\", \"2019-05-27T00:00:00\", \"2019-06-03T00:00:00\", \"2019-06-10T00:00:00\", \"2019-06-17T00:00:00\", \"2019-06-25T00:00:00\", \"2019-06-28T00:00:00\", \"2019-08-07T00:00:00\", \"2019-08-19T00:00:00\", \"2019-08-26T00:00:00\", \"2019-09-05T00:00:00\", \"2019-10-17T00:00:00\", \"2019-11-01T00:00:00\", \"2019-11-13T00:00:00\", \"2019-12-05T00:00:00\", \"2019-12-10T00:00:00\", \"2019-12-26T00:00:00\", \"2019-12-31T00:00:00\"], \"xaxis\": \"x5\", \"y\": [0.307, 0.307, 0.307, 0.307, 0.307, 0.307, 0.307, 0.307, 0.307, 0.307, 0.307, 0.307, 0.307, 0.307, 0.307, 0.307, 0.307, 0.307, 0.307, 0.307, 0.307, 0.307, 0.307, 0.307, 0.307, 0.307, 0.307, 0.307], \"yaxis\": \"y5\"}, {\"line\": {\"color\": \"#33C2FF\"}, \"name\": \"mean Z\", \"type\": \"scatter\", \"x\": [\"2019-01-11T00:00:00\", \"2019-01-22T00:00:00\", \"2019-01-26T00:00:00\", \"2019-01-31T00:00:00\", \"2019-02-11T00:00:00\", \"2019-02-22T00:00:00\", \"2019-02-27T00:00:00\", \"2019-03-07T00:00:00\", \"2019-03-15T00:00:00\", \"2019-04-05T00:00:00\", \"2019-04-16T00:00:00\", \"2019-05-27T00:00:00\", \"2019-06-03T00:00:00\", \"2019-06-10T00:00:00\", \"2019-06-17T00:00:00\", \"2019-06-25T00:00:00\", \"2019-06-28T00:00:00\", \"2019-08-07T00:00:00\", \"2019-08-19T00:00:00\", \"2019-08-26T00:00:00\", \"2019-09-05T00:00:00\", \"2019-10-17T00:00:00\", \"2019-11-01T00:00:00\", \"2019-11-13T00:00:00\", \"2019-12-05T00:00:00\", \"2019-12-10T00:00:00\", \"2019-12-26T00:00:00\", \"2019-12-31T00:00:00\"], \"xaxis\": \"x5\", \"y\": [0.312, 0.312, 0.312, 0.312, 0.312, 0.312, 0.312, 0.312, 0.312, 0.312, 0.312, 0.312, 0.312, 0.312, 0.312, 0.312, 0.312, 0.312, 0.312, 0.312, 0.312, 0.312, 0.312, 0.312, 0.312, 0.312, 0.312, 0.312], \"yaxis\": \"y5\"}],\n",
              "                        {\"annotations\": [{\"font\": {\"size\": 16}, \"showarrow\": false, \"text\": \"C-Pitch\", \"x\": 0.5, \"xanchor\": \"center\", \"xref\": \"paper\", \"y\": 1.0, \"yanchor\": \"bottom\", \"yref\": \"paper\"}, {\"font\": {\"size\": 16}, \"showarrow\": false, \"text\": \"J\", \"x\": 0.5, \"xanchor\": \"center\", \"xref\": \"paper\", \"y\": 0.78, \"yanchor\": \"bottom\", \"yref\": \"paper\"}, {\"font\": {\"size\": 16}, \"showarrow\": false, \"text\": \"I\", \"x\": 0.5, \"xanchor\": \"center\", \"xref\": \"paper\", \"y\": 0.56, \"yanchor\": \"bottom\", \"yref\": \"paper\"}, {\"font\": {\"size\": 16}, \"showarrow\": false, \"text\": \"O\", \"x\": 0.5, \"xanchor\": \"center\", \"xref\": \"paper\", \"y\": 0.33999999999999997, \"yanchor\": \"bottom\", \"yref\": \"paper\"}, {\"font\": {\"size\": 16}, \"showarrow\": false, \"text\": \"Z\", \"x\": 0.5, \"xanchor\": \"center\", \"xref\": \"paper\", \"y\": 0.12, \"yanchor\": \"bottom\", \"yref\": \"paper\"}], \"height\": 1500, \"template\": {\"data\": {\"bar\": [{\"error_x\": {\"color\": \"#2a3f5f\"}, \"error_y\": {\"color\": \"#2a3f5f\"}, \"marker\": {\"line\": {\"color\": \"#E5ECF6\", \"width\": 0.5}}, \"type\": \"bar\"}], \"barpolar\": [{\"marker\": {\"line\": {\"color\": \"#E5ECF6\", \"width\": 0.5}}, \"type\": \"barpolar\"}], \"carpet\": [{\"aaxis\": {\"endlinecolor\": \"#2a3f5f\", \"gridcolor\": \"white\", \"linecolor\": \"white\", \"minorgridcolor\": \"white\", \"startlinecolor\": \"#2a3f5f\"}, \"baxis\": {\"endlinecolor\": \"#2a3f5f\", \"gridcolor\": \"white\", \"linecolor\": \"white\", \"minorgridcolor\": \"white\", \"startlinecolor\": \"#2a3f5f\"}, \"type\": \"carpet\"}], \"choropleth\": [{\"colorbar\": {\"outlinewidth\": 0, \"ticks\": \"\"}, \"type\": \"choropleth\"}], \"contour\": [{\"colorbar\": {\"outlinewidth\": 0, \"ticks\": \"\"}, \"colorscale\": [[0.0, \"#0d0887\"], [0.1111111111111111, \"#46039f\"], [0.2222222222222222, \"#7201a8\"], [0.3333333333333333, \"#9c179e\"], [0.4444444444444444, \"#bd3786\"], [0.5555555555555556, \"#d8576b\"], [0.6666666666666666, \"#ed7953\"], [0.7777777777777778, \"#fb9f3a\"], [0.8888888888888888, \"#fdca26\"], [1.0, \"#f0f921\"]], \"type\": \"contour\"}], \"contourcarpet\": [{\"colorbar\": {\"outlinewidth\": 0, \"ticks\": \"\"}, \"type\": \"contourcarpet\"}], \"heatmap\": [{\"colorbar\": {\"outlinewidth\": 0, \"ticks\": \"\"}, \"colorscale\": [[0.0, \"#0d0887\"], [0.1111111111111111, \"#46039f\"], [0.2222222222222222, \"#7201a8\"], [0.3333333333333333, \"#9c179e\"], [0.4444444444444444, \"#bd3786\"], [0.5555555555555556, \"#d8576b\"], [0.6666666666666666, \"#ed7953\"], [0.7777777777777778, \"#fb9f3a\"], [0.8888888888888888, \"#fdca26\"], [1.0, \"#f0f921\"]], \"type\": \"heatmap\"}], \"heatmapgl\": [{\"colorbar\": {\"outlinewidth\": 0, \"ticks\": \"\"}, \"colorscale\": [[0.0, \"#0d0887\"], [0.1111111111111111, \"#46039f\"], [0.2222222222222222, \"#7201a8\"], [0.3333333333333333, \"#9c179e\"], [0.4444444444444444, \"#bd3786\"], [0.5555555555555556, \"#d8576b\"], [0.6666666666666666, \"#ed7953\"], [0.7777777777777778, \"#fb9f3a\"], [0.8888888888888888, \"#fdca26\"], [1.0, \"#f0f921\"]], \"type\": \"heatmapgl\"}], \"histogram\": [{\"marker\": {\"colorbar\": {\"outlinewidth\": 0, \"ticks\": \"\"}}, \"type\": \"histogram\"}], \"histogram2d\": [{\"colorbar\": {\"outlinewidth\": 0, \"ticks\": \"\"}, \"colorscale\": [[0.0, \"#0d0887\"], [0.1111111111111111, \"#46039f\"], [0.2222222222222222, \"#7201a8\"], [0.3333333333333333, \"#9c179e\"], [0.4444444444444444, \"#bd3786\"], [0.5555555555555556, \"#d8576b\"], [0.6666666666666666, \"#ed7953\"], [0.7777777777777778, \"#fb9f3a\"], [0.8888888888888888, \"#fdca26\"], [1.0, \"#f0f921\"]], \"type\": \"histogram2d\"}], \"histogram2dcontour\": [{\"colorbar\": {\"outlinewidth\": 0, \"ticks\": \"\"}, \"colorscale\": [[0.0, \"#0d0887\"], [0.1111111111111111, \"#46039f\"], [0.2222222222222222, \"#7201a8\"], [0.3333333333333333, \"#9c179e\"], [0.4444444444444444, \"#bd3786\"], [0.5555555555555556, \"#d8576b\"], [0.6666666666666666, \"#ed7953\"], [0.7777777777777778, \"#fb9f3a\"], [0.8888888888888888, \"#fdca26\"], [1.0, \"#f0f921\"]], \"type\": \"histogram2dcontour\"}], \"mesh3d\": [{\"colorbar\": {\"outlinewidth\": 0, \"ticks\": \"\"}, \"type\": \"mesh3d\"}], \"parcoords\": [{\"line\": {\"colorbar\": {\"outlinewidth\": 0, \"ticks\": \"\"}}, \"type\": \"parcoords\"}], \"pie\": [{\"automargin\": true, \"type\": \"pie\"}], \"scatter\": [{\"marker\": {\"colorbar\": {\"outlinewidth\": 0, \"ticks\": \"\"}}, \"type\": \"scatter\"}], \"scatter3d\": [{\"line\": {\"colorbar\": {\"outlinewidth\": 0, \"ticks\": \"\"}}, \"marker\": {\"colorbar\": {\"outlinewidth\": 0, \"ticks\": \"\"}}, \"type\": \"scatter3d\"}], \"scattercarpet\": [{\"marker\": {\"colorbar\": {\"outlinewidth\": 0, \"ticks\": \"\"}}, \"type\": \"scattercarpet\"}], \"scattergeo\": [{\"marker\": {\"colorbar\": {\"outlinewidth\": 0, \"ticks\": \"\"}}, \"type\": \"scattergeo\"}], \"scattergl\": [{\"marker\": {\"colorbar\": {\"outlinewidth\": 0, \"ticks\": \"\"}}, \"type\": \"scattergl\"}], \"scattermapbox\": [{\"marker\": {\"colorbar\": {\"outlinewidth\": 0, \"ticks\": \"\"}}, \"type\": \"scattermapbox\"}], \"scatterpolar\": [{\"marker\": {\"colorbar\": {\"outlinewidth\": 0, \"ticks\": \"\"}}, \"type\": \"scatterpolar\"}], \"scatterpolargl\": [{\"marker\": {\"colorbar\": {\"outlinewidth\": 0, \"ticks\": \"\"}}, \"type\": \"scatterpolargl\"}], \"scatterternary\": [{\"marker\": {\"colorbar\": {\"outlinewidth\": 0, \"ticks\": \"\"}}, \"type\": \"scatterternary\"}], \"surface\": [{\"colorbar\": {\"outlinewidth\": 0, \"ticks\": \"\"}, \"colorscale\": [[0.0, \"#0d0887\"], [0.1111111111111111, \"#46039f\"], [0.2222222222222222, \"#7201a8\"], [0.3333333333333333, \"#9c179e\"], [0.4444444444444444, \"#bd3786\"], [0.5555555555555556, \"#d8576b\"], [0.6666666666666666, \"#ed7953\"], [0.7777777777777778, \"#fb9f3a\"], [0.8888888888888888, \"#fdca26\"], [1.0, \"#f0f921\"]], \"type\": \"surface\"}], \"table\": [{\"cells\": {\"fill\": {\"color\": \"#EBF0F8\"}, \"line\": {\"color\": \"white\"}}, \"header\": {\"fill\": {\"color\": \"#C8D4E3\"}, \"line\": {\"color\": \"white\"}}, \"type\": \"table\"}]}, \"layout\": {\"annotationdefaults\": {\"arrowcolor\": \"#2a3f5f\", \"arrowhead\": 0, \"arrowwidth\": 1}, \"coloraxis\": {\"colorbar\": {\"outlinewidth\": 0, \"ticks\": \"\"}}, \"colorscale\": {\"diverging\": [[0, \"#8e0152\"], [0.1, \"#c51b7d\"], [0.2, \"#de77ae\"], [0.3, \"#f1b6da\"], [0.4, \"#fde0ef\"], [0.5, \"#f7f7f7\"], [0.6, \"#e6f5d0\"], [0.7, \"#b8e186\"], [0.8, \"#7fbc41\"], [0.9, \"#4d9221\"], [1, \"#276419\"]], \"sequential\": [[0.0, \"#0d0887\"], [0.1111111111111111, \"#46039f\"], [0.2222222222222222, \"#7201a8\"], [0.3333333333333333, \"#9c179e\"], [0.4444444444444444, \"#bd3786\"], [0.5555555555555556, \"#d8576b\"], [0.6666666666666666, \"#ed7953\"], [0.7777777777777778, \"#fb9f3a\"], [0.8888888888888888, \"#fdca26\"], [1.0, \"#f0f921\"]], \"sequentialminus\": [[0.0, \"#0d0887\"], [0.1111111111111111, \"#46039f\"], [0.2222222222222222, \"#7201a8\"], [0.3333333333333333, \"#9c179e\"], [0.4444444444444444, \"#bd3786\"], [0.5555555555555556, \"#d8576b\"], [0.6666666666666666, \"#ed7953\"], [0.7777777777777778, \"#fb9f3a\"], [0.8888888888888888, \"#fdca26\"], [1.0, \"#f0f921\"]]}, \"colorway\": [\"#636efa\", \"#EF553B\", \"#00cc96\", \"#ab63fa\", \"#FFA15A\", \"#19d3f3\", \"#FF6692\", \"#B6E880\", \"#FF97FF\", \"#FECB52\"], \"font\": {\"color\": \"#2a3f5f\"}, \"geo\": {\"bgcolor\": \"white\", \"lakecolor\": \"white\", \"landcolor\": \"#E5ECF6\", \"showlakes\": true, \"showland\": true, \"subunitcolor\": \"white\"}, \"hoverlabel\": {\"align\": \"left\"}, \"hovermode\": \"closest\", \"mapbox\": {\"style\": \"light\"}, \"paper_bgcolor\": \"white\", \"plot_bgcolor\": \"#E5ECF6\", \"polar\": {\"angularaxis\": {\"gridcolor\": \"white\", \"linecolor\": \"white\", \"ticks\": \"\"}, \"bgcolor\": \"#E5ECF6\", \"radialaxis\": {\"gridcolor\": \"white\", \"linecolor\": \"white\", \"ticks\": \"\"}}, \"scene\": {\"xaxis\": {\"backgroundcolor\": \"#E5ECF6\", \"gridcolor\": \"white\", \"gridwidth\": 2, \"linecolor\": \"white\", \"showbackground\": true, \"ticks\": \"\", \"zerolinecolor\": \"white\"}, \"yaxis\": {\"backgroundcolor\": \"#E5ECF6\", \"gridcolor\": \"white\", \"gridwidth\": 2, \"linecolor\": \"white\", \"showbackground\": true, \"ticks\": \"\", \"zerolinecolor\": \"white\"}, \"zaxis\": {\"backgroundcolor\": \"#E5ECF6\", \"gridcolor\": \"white\", \"gridwidth\": 2, \"linecolor\": \"white\", \"showbackground\": true, \"ticks\": \"\", \"zerolinecolor\": \"white\"}}, \"shapedefaults\": {\"line\": {\"color\": \"#2a3f5f\"}}, \"ternary\": {\"aaxis\": {\"gridcolor\": \"white\", \"linecolor\": \"white\", \"ticks\": \"\"}, \"baxis\": {\"gridcolor\": \"white\", \"linecolor\": \"white\", \"ticks\": \"\"}, \"bgcolor\": \"#E5ECF6\", \"caxis\": {\"gridcolor\": \"white\", \"linecolor\": \"white\", \"ticks\": \"\"}}, \"title\": {\"x\": 0.05}, \"xaxis\": {\"automargin\": true, \"gridcolor\": \"white\", \"linecolor\": \"white\", \"ticks\": \"\", \"title\": {\"standoff\": 15}, \"zerolinecolor\": \"white\", \"zerolinewidth\": 2}, \"yaxis\": {\"automargin\": true, \"gridcolor\": \"white\", \"linecolor\": \"white\", \"ticks\": \"\", \"title\": {\"standoff\": 15}, \"zerolinecolor\": \"white\", \"zerolinewidth\": 2}}}, \"title\": {\"text\": \"Line chart\"}, \"width\": 1200, \"xaxis\": {\"anchor\": \"y\", \"domain\": [0.0, 1.0]}, \"xaxis2\": {\"anchor\": \"y2\", \"domain\": [0.0, 1.0]}, \"xaxis3\": {\"anchor\": \"y3\", \"domain\": [0.0, 1.0]}, \"xaxis4\": {\"anchor\": \"y4\", \"domain\": [0.0, 1.0]}, \"xaxis5\": {\"anchor\": \"y5\", \"domain\": [0.0, 1.0]}, \"yaxis\": {\"anchor\": \"x\", \"domain\": [0.88, 1.0]}, \"yaxis2\": {\"anchor\": \"x2\", \"domain\": [0.66, 0.78]}, \"yaxis3\": {\"anchor\": \"x3\", \"domain\": [0.44, 0.56]}, \"yaxis4\": {\"anchor\": \"x4\", \"domain\": [0.22, 0.33999999999999997]}, \"yaxis5\": {\"anchor\": \"x5\", \"domain\": [0.0, 0.12]}},\n",
              "                        {\"responsive\": true}\n",
              "                    ).then(function(){\n",
              "                            \n",
              "var gd = document.getElementById('c6bc19e4-cadf-407f-b720-844c5e7982d2');\n",
              "var x = new MutationObserver(function (mutations, observer) {{\n",
              "        var display = window.getComputedStyle(gd).display;\n",
              "        if (!display || display === 'none') {{\n",
              "            console.log([gd, 'removed!']);\n",
              "            Plotly.purge(gd);\n",
              "            observer.disconnect();\n",
              "        }}\n",
              "}});\n",
              "\n",
              "// Listen for the removal of the full notebook cells\n",
              "var notebookContainer = gd.closest('#notebook-container');\n",
              "if (notebookContainer) {{\n",
              "    x.observe(notebookContainer, {childList: true});\n",
              "}}\n",
              "\n",
              "// Listen for the clearing of the current output cell\n",
              "var outputEl = gd.closest('.output');\n",
              "if (outputEl) {{\n",
              "    x.observe(outputEl, {childList: true});\n",
              "}}\n",
              "\n",
              "                        })\n",
              "                };\n",
              "                \n",
              "            </script>\n",
              "        </div>\n",
              "</body>\n",
              "</html>"
            ]
          },
          "metadata": {
            "tags": []
          }
        }
      ]
    },
    {
      "cell_type": "markdown",
      "metadata": {
        "id": "L3ZfbsXtU0Wo",
        "colab_type": "text"
      },
      "source": [
        "# Forecast"
      ]
    },
    {
      "cell_type": "markdown",
      "metadata": {
        "id": "mUav2SJaYRzr",
        "colab_type": "text"
      },
      "source": [
        "## Prepare data"
      ]
    },
    {
      "cell_type": "markdown",
      "metadata": {
        "id": "1BfktcCsIn65",
        "colab_type": "text"
      },
      "source": [
        "## FBprophet"
      ]
    },
    {
      "cell_type": "code",
      "metadata": {
        "id": "XPXURraHyjbd",
        "colab_type": "code",
        "colab": {}
      },
      "source": [
        "from fbprophet import Prophet"
      ],
      "execution_count": null,
      "outputs": []
    },
    {
      "cell_type": "code",
      "metadata": {
        "id": "220wChOEV5G2",
        "colab_type": "code",
        "colab": {}
      },
      "source": [
        "#num_predict=st.number_input(\"Please input number of week for prediction\",value=5)\n",
        "#num_predict=int(num_predict)\n",
        "predict_future=5 # week"
      ],
      "execution_count": null,
      "outputs": []
    },
    {
      "cell_type": "code",
      "metadata": {
        "id": "OfK4GnYBse84",
        "colab_type": "code",
        "colab": {
          "base_uri": "https://localhost:8080/",
          "height": 1000
        },
        "outputId": "421d6ec4-4aad-480d-b487-5620432eada8"
      },
      "source": [
        "\n",
        "#@st.cache(suppress_st_warning=True)\n",
        "def predict_prophet(DFdict_final):\n",
        "  DF_predict_final_={} # only contail predict\n",
        "  #DF_predict_all_final={} # contain predict and past value\n",
        "  for name in DFdict_final.keys(): #also group\n",
        "    print(name)\n",
        "    df_temp_2=DFdict_final[name].copy() # gia tri mean thong thuong\n",
        "    df_predict=df_temp_2.set_index(df_temp_2.columns[0]).copy()\n",
        "    df_predict=df_predict.resample('1W').ffill() # gia tri mean da resample\n",
        "    df_fb=df_predict.reset_index()#\n",
        "    df_fb=df_fb[[df_fb.columns[0],df_fb.columns[1]]]\n",
        "    df_fb.columns=['ds','y']\n",
        "\n",
        "    # Prophet will by default fit weekly and yearly seasonalities,\n",
        "    model = Prophet( #yearly_seasonality=True\n",
        "                  ) #instantiate Prophet with only yearly seasonality as our data is monthly \n",
        "    model.fit(df_fb) #fit the model with your dataframe\n",
        "\n",
        "    # predict for five months in the furure and MS - month start is the frequency\n",
        "    future = model.make_future_dataframe(periods = predict_future, freq = 'W')  \n",
        "    # now lets make the forecasts\n",
        "    forecast = model.predict(future)\n",
        "    new_forecast=forecast[['ds', 'yhat', 'yhat_lower', 'yhat_upper']]\n",
        "    new_forecast['USL']=df_temp_2['USL'][0]\n",
        "    new_forecast['LSL']=df_temp_2['LSL'][0]\n",
        "    new_forecast['Nominal']=df_temp_2['Nominal'][0]\n",
        "    new_forecast['UCL']=df_temp_2['UCL'][0]\n",
        "    new_forecast['LCL']=df_temp_2['LCL'][0]\n",
        "    new_forecast['mean']=df_temp_2['mean'][0]\n",
        "    DF_predict_final_[name]=new_forecast \n",
        "  return DF_predict_final_\n",
        "  \n",
        "DF_predict_final=predict_prophet(DFdict_final)"
      ],
      "execution_count": null,
      "outputs": [
        {
          "output_type": "stream",
          "text": [
            "C-Pitch\n"
          ],
          "name": "stdout"
        },
        {
          "output_type": "stream",
          "text": [
            "INFO:fbprophet:Disabling yearly seasonality. Run prophet with yearly_seasonality=True to override this.\n",
            "INFO:fbprophet:Disabling weekly seasonality. Run prophet with weekly_seasonality=True to override this.\n",
            "INFO:fbprophet:Disabling daily seasonality. Run prophet with daily_seasonality=True to override this.\n",
            "/usr/local/lib/python3.6/dist-packages/ipykernel_launcher.py:25: SettingWithCopyWarning:\n",
            "\n",
            "\n",
            "A value is trying to be set on a copy of a slice from a DataFrame.\n",
            "Try using .loc[row_indexer,col_indexer] = value instead\n",
            "\n",
            "See the caveats in the documentation: https://pandas.pydata.org/pandas-docs/stable/user_guide/indexing.html#returning-a-view-versus-a-copy\n",
            "\n",
            "/usr/local/lib/python3.6/dist-packages/ipykernel_launcher.py:26: SettingWithCopyWarning:\n",
            "\n",
            "\n",
            "A value is trying to be set on a copy of a slice from a DataFrame.\n",
            "Try using .loc[row_indexer,col_indexer] = value instead\n",
            "\n",
            "See the caveats in the documentation: https://pandas.pydata.org/pandas-docs/stable/user_guide/indexing.html#returning-a-view-versus-a-copy\n",
            "\n",
            "/usr/local/lib/python3.6/dist-packages/ipykernel_launcher.py:27: SettingWithCopyWarning:\n",
            "\n",
            "\n",
            "A value is trying to be set on a copy of a slice from a DataFrame.\n",
            "Try using .loc[row_indexer,col_indexer] = value instead\n",
            "\n",
            "See the caveats in the documentation: https://pandas.pydata.org/pandas-docs/stable/user_guide/indexing.html#returning-a-view-versus-a-copy\n",
            "\n",
            "/usr/local/lib/python3.6/dist-packages/ipykernel_launcher.py:28: SettingWithCopyWarning:\n",
            "\n",
            "\n",
            "A value is trying to be set on a copy of a slice from a DataFrame.\n",
            "Try using .loc[row_indexer,col_indexer] = value instead\n",
            "\n",
            "See the caveats in the documentation: https://pandas.pydata.org/pandas-docs/stable/user_guide/indexing.html#returning-a-view-versus-a-copy\n",
            "\n",
            "/usr/local/lib/python3.6/dist-packages/ipykernel_launcher.py:29: SettingWithCopyWarning:\n",
            "\n",
            "\n",
            "A value is trying to be set on a copy of a slice from a DataFrame.\n",
            "Try using .loc[row_indexer,col_indexer] = value instead\n",
            "\n",
            "See the caveats in the documentation: https://pandas.pydata.org/pandas-docs/stable/user_guide/indexing.html#returning-a-view-versus-a-copy\n",
            "\n",
            "/usr/local/lib/python3.6/dist-packages/ipykernel_launcher.py:30: SettingWithCopyWarning:\n",
            "\n",
            "\n",
            "A value is trying to be set on a copy of a slice from a DataFrame.\n",
            "Try using .loc[row_indexer,col_indexer] = value instead\n",
            "\n",
            "See the caveats in the documentation: https://pandas.pydata.org/pandas-docs/stable/user_guide/indexing.html#returning-a-view-versus-a-copy\n",
            "\n",
            "INFO:fbprophet:Disabling yearly seasonality. Run prophet with yearly_seasonality=True to override this.\n",
            "INFO:fbprophet:Disabling weekly seasonality. Run prophet with weekly_seasonality=True to override this.\n",
            "INFO:fbprophet:Disabling daily seasonality. Run prophet with daily_seasonality=True to override this.\n"
          ],
          "name": "stderr"
        },
        {
          "output_type": "stream",
          "text": [
            "J\n"
          ],
          "name": "stdout"
        },
        {
          "output_type": "stream",
          "text": [
            "INFO:fbprophet:Disabling yearly seasonality. Run prophet with yearly_seasonality=True to override this.\n",
            "INFO:fbprophet:Disabling weekly seasonality. Run prophet with weekly_seasonality=True to override this.\n",
            "INFO:fbprophet:Disabling daily seasonality. Run prophet with daily_seasonality=True to override this.\n"
          ],
          "name": "stderr"
        },
        {
          "output_type": "stream",
          "text": [
            "I\n"
          ],
          "name": "stdout"
        },
        {
          "output_type": "stream",
          "text": [
            "INFO:fbprophet:Disabling yearly seasonality. Run prophet with yearly_seasonality=True to override this.\n",
            "INFO:fbprophet:Disabling weekly seasonality. Run prophet with weekly_seasonality=True to override this.\n",
            "INFO:fbprophet:Disabling daily seasonality. Run prophet with daily_seasonality=True to override this.\n"
          ],
          "name": "stderr"
        },
        {
          "output_type": "stream",
          "text": [
            "O\n"
          ],
          "name": "stdout"
        },
        {
          "output_type": "stream",
          "text": [
            "INFO:fbprophet:Disabling yearly seasonality. Run prophet with yearly_seasonality=True to override this.\n",
            "INFO:fbprophet:Disabling weekly seasonality. Run prophet with weekly_seasonality=True to override this.\n",
            "INFO:fbprophet:Disabling daily seasonality. Run prophet with daily_seasonality=True to override this.\n"
          ],
          "name": "stderr"
        },
        {
          "output_type": "stream",
          "text": [
            "Z\n"
          ],
          "name": "stdout"
        }
      ]
    },
    {
      "cell_type": "code",
      "metadata": {
        "id": "h0MnCTHH6aR-",
        "colab_type": "code",
        "colab": {
          "base_uri": "https://localhost:8080/",
          "height": 1000
        },
        "outputId": "b6b67635-b2a9-4bd7-fbb0-000b56450846"
      },
      "source": [
        "#@st.cache(suppress_st_warning=True,allow_output_mutation=True)\n",
        "def line_chart_prophet(DFdict_final,DF_predict_final):\n",
        "\n",
        "  i=1\n",
        "  #Layout\n",
        "  fig = make_subplots(\n",
        "      rows=len(DFdict_final), cols=1,\n",
        "      #shared_xaxes=True,\n",
        "      #vertical_spacing=0.03,\n",
        "      #column_widths=[0.8, 0.2],\n",
        "      subplot_titles=(list(DFdict_final.keys()))\n",
        "  )\n",
        "  for name in DFdict_final.keys(): #also group\n",
        "    df=DFdict_final[name].copy()\n",
        "    df=df.sort_values(by=['Datef'])\n",
        "    for a in df.columns[1:]:\n",
        "      df[a] = df[a].round(decimals=3)\n",
        "\n",
        "    #Control chart 1 \n",
        "    fig.append_trace(go.Scatter(\n",
        "                            x=df['Datef'], y=df[name],\n",
        "                            mode='lines+markers',\n",
        "                            name='mean ' + name,line=dict( color='#4280F5')\n",
        "                            ),row=i, col=1\n",
        "                  )\n",
        "    #Predict:\n",
        "    df_predict=DF_predict_final[name].copy()\n",
        "    fig.append_trace(go.Scatter(\n",
        "                        x=df_predict['ds'], y=df_predict['yhat'],\n",
        "                        mode='lines+markers',\n",
        "                        name='mean predict ' + name,line=dict( color='#060891')\n",
        "                        ),row=i, col=1\n",
        "              )\n",
        "\n",
        "    #USL, LSL\n",
        "    fig.append_trace(go.Scatter(x=df_predict['ds'], y=df_predict['USL'],name='USL '+name, line=dict( color='#FF5733')),row=i, col=1)\n",
        "    fig.append_trace(go.Scatter(x=df_predict['ds'], y=df_predict['LSL'],name='LSL '+name,line=dict( color='#FF5733')),row=i, col=1)\n",
        "    fig.append_trace(go.Scatter(x=df_predict['ds'], y=df_predict['Nominal'],name='Nominal '+name,line=dict( color='#FF5733')),row=i, col=1)\n",
        "    # UCL, LCL\n",
        "    fig.append_trace(go.Scatter(x=df_predict['ds'], y=df_predict['UCL'],name='UCL '+name, line=dict( color='#33C2FF')),row=i, col=1)\n",
        "    fig.append_trace(go.Scatter(x=df_predict['ds'], y=df_predict['LCL'],name='LCL '+name, line=dict( color='#33C2FF')),row=i, col=1)\n",
        "    fig.append_trace(go.Scatter(x=df_predict['ds'], y=df_predict['mean'],name='mean '+name, line=dict( color='#33C2FF')),row=i, col=1)\n",
        "    # Fill between:\n",
        "    fig.append_trace(go.Scatter(x=df_predict['ds'], y=df_predict['yhat_upper'],name='yhat_upper '+name, line=dict( color='#9FA0F8'),fill=None),row=i, col=1)\n",
        "    fig.append_trace(go.Scatter(x=df_predict['ds'], y=df_predict['yhat_lower'],name='yhat_lower '+name, line=dict( color='#9FA0F8'), fill='tonexty'),row=i, col=1)\n",
        "\n",
        "\n",
        "    #Final layout:\n",
        "    #fig.update_layout(height=400, width=1400, title_text='Line chart'+name)\n",
        "    i=i+1\n",
        "    \n",
        "  fig.update_layout(height=300*len(DFdict_final), width=1200, title_text='Line chart')\n",
        "  #fig.show()\n",
        "  return fig\n",
        "fig_new_2=line_chart_prophet(DFdict_final,DF_predict_final)\n",
        "fig_new_2.show()\n",
        "#st.plotly_chart(fig_new)"
      ],
      "execution_count": null,
      "outputs": [
        {
          "output_type": "display_data",
          "data": {
            "text/html": [
              "<html>\n",
              "<head><meta charset=\"utf-8\" /></head>\n",
              "<body>\n",
              "    <div>\n",
              "            <script src=\"https://cdnjs.cloudflare.com/ajax/libs/mathjax/2.7.5/MathJax.js?config=TeX-AMS-MML_SVG\"></script><script type=\"text/javascript\">if (window.MathJax) {MathJax.Hub.Config({SVG: {font: \"STIX-Web\"}});}</script>\n",
              "                <script type=\"text/javascript\">window.PlotlyConfig = {MathJaxConfig: 'local'};</script>\n",
              "        <script src=\"https://cdn.plot.ly/plotly-latest.min.js\"></script>    \n",
              "            <div id=\"2099a6dc-2498-43d0-85c4-39f9b6c26b6d\" class=\"plotly-graph-div\" style=\"height:1500px; width:1200px;\"></div>\n",
              "            <script type=\"text/javascript\">\n",
              "                \n",
              "                    window.PLOTLYENV=window.PLOTLYENV || {};\n",
              "                    \n",
              "                if (document.getElementById(\"2099a6dc-2498-43d0-85c4-39f9b6c26b6d\")) {\n",
              "                    Plotly.newPlot(\n",
              "                        '2099a6dc-2498-43d0-85c4-39f9b6c26b6d',\n",
              "                        [{\"line\": {\"color\": \"#4280F5\"}, \"mode\": \"lines+markers\", \"name\": \"mean C-Pitch\", \"type\": \"scatter\", \"x\": [\"2019-01-11T00:00:00\", \"2019-01-22T00:00:00\", \"2019-01-26T00:00:00\", \"2019-01-31T00:00:00\", \"2019-02-11T00:00:00\", \"2019-02-22T00:00:00\", \"2019-02-27T00:00:00\", \"2019-03-07T00:00:00\", \"2019-03-15T00:00:00\", \"2019-04-05T00:00:00\", \"2019-04-16T00:00:00\", \"2019-05-27T00:00:00\", \"2019-06-03T00:00:00\", \"2019-06-10T00:00:00\", \"2019-06-17T00:00:00\", \"2019-06-25T00:00:00\", \"2019-06-28T00:00:00\", \"2019-08-07T00:00:00\", \"2019-08-19T00:00:00\", \"2019-08-26T00:00:00\", \"2019-09-05T00:00:00\", \"2019-10-17T00:00:00\", \"2019-11-01T00:00:00\", \"2019-11-13T00:00:00\", \"2019-12-05T00:00:00\", \"2019-12-10T00:00:00\", \"2019-12-26T00:00:00\", \"2019-12-31T00:00:00\"], \"xaxis\": \"x\", \"y\": [10.004, 10.001, 10.002, 10.003, 10.003, 10.002, 10.003, 10.002, 9.998, 10.002, 10.003, 10.004, 10.001, 10.0, 10.002, 10.001, 10.002, 10.001, 10.0, 10.001, 10.002, 10.0, 10.0, 10.002, 10.0, 10.003, 10.003, 9.999], \"yaxis\": \"y\"}, {\"line\": {\"color\": \"#060891\"}, \"mode\": \"lines+markers\", \"name\": \"mean predict C-Pitch\", \"type\": \"scatter\", \"x\": [\"2019-01-13T00:00:00\", \"2019-01-20T00:00:00\", \"2019-01-27T00:00:00\", \"2019-02-03T00:00:00\", \"2019-02-10T00:00:00\", \"2019-02-17T00:00:00\", \"2019-02-24T00:00:00\", \"2019-03-03T00:00:00\", \"2019-03-10T00:00:00\", \"2019-03-17T00:00:00\", \"2019-03-24T00:00:00\", \"2019-03-31T00:00:00\", \"2019-04-07T00:00:00\", \"2019-04-14T00:00:00\", \"2019-04-21T00:00:00\", \"2019-04-28T00:00:00\", \"2019-05-05T00:00:00\", \"2019-05-12T00:00:00\", \"2019-05-19T00:00:00\", \"2019-05-26T00:00:00\", \"2019-06-02T00:00:00\", \"2019-06-09T00:00:00\", \"2019-06-16T00:00:00\", \"2019-06-23T00:00:00\", \"2019-06-30T00:00:00\", \"2019-07-07T00:00:00\", \"2019-07-14T00:00:00\", \"2019-07-21T00:00:00\", \"2019-07-28T00:00:00\", \"2019-08-04T00:00:00\", \"2019-08-11T00:00:00\", \"2019-08-18T00:00:00\", \"2019-08-25T00:00:00\", \"2019-09-01T00:00:00\", \"2019-09-08T00:00:00\", \"2019-09-15T00:00:00\", \"2019-09-22T00:00:00\", \"2019-09-29T00:00:00\", \"2019-10-06T00:00:00\", \"2019-10-13T00:00:00\", \"2019-10-20T00:00:00\", \"2019-10-27T00:00:00\", \"2019-11-03T00:00:00\", \"2019-11-10T00:00:00\", \"2019-11-17T00:00:00\", \"2019-11-24T00:00:00\", \"2019-12-01T00:00:00\", \"2019-12-08T00:00:00\", \"2019-12-15T00:00:00\", \"2019-12-22T00:00:00\", \"2019-12-29T00:00:00\", \"2020-01-05T00:00:00\", \"2020-01-12T00:00:00\", \"2020-01-19T00:00:00\", \"2020-01-26T00:00:00\", \"2020-02-02T00:00:00\", \"2020-02-09T00:00:00\"], \"xaxis\": \"x\", \"y\": [10.004281875417197, 10.003374496558514, 10.002467117699831, 10.002905161097347, 10.002942692894857, 10.002980224692367, 10.002531378244125, 10.002082531606343, 10.001633684968558, 9.999478172799241, 9.997322660629925, 9.998728384700774, 10.000666724783533, 10.002605064866293, 10.002953882038222, 10.002986710128345, 10.003019538218465, 10.003060906919734, 10.003102275621, 10.003583741444013, 10.00258464011946, 10.00158553879491, 10.000514638731628, 10.001339400862088, 10.002164162992548, 10.002108178854572, 10.002052194716596, 10.001996210706842, 10.001940226731424, 10.001884242756008, 10.00126217350851, 10.000722166377708, 10.000182159246908, 10.001037167481698, 10.00189217571649, 10.001972744214997, 10.002041121464902, 10.002109498714807, 10.002192718198483, 10.001299328035248, 10.000405937872014, 10.000550495890206, 10.000695053908396, 10.000839611926589, 10.00098416994478, 10.001128727962971, 10.001273285981162, 10.001417843999354, 10.001562402017546, 10.001706960035737, 10.001851518053929, 10.00199607607212, 10.002140634090312, 10.002285192108502, 10.002429750126694, 10.002574308144887, 10.002718866163077], \"yaxis\": \"y\"}, {\"line\": {\"color\": \"#FF5733\"}, \"name\": \"USL C-Pitch\", \"type\": \"scatter\", \"x\": [\"2019-01-13T00:00:00\", \"2019-01-20T00:00:00\", \"2019-01-27T00:00:00\", \"2019-02-03T00:00:00\", \"2019-02-10T00:00:00\", \"2019-02-17T00:00:00\", \"2019-02-24T00:00:00\", \"2019-03-03T00:00:00\", \"2019-03-10T00:00:00\", \"2019-03-17T00:00:00\", \"2019-03-24T00:00:00\", \"2019-03-31T00:00:00\", \"2019-04-07T00:00:00\", \"2019-04-14T00:00:00\", \"2019-04-21T00:00:00\", \"2019-04-28T00:00:00\", \"2019-05-05T00:00:00\", \"2019-05-12T00:00:00\", \"2019-05-19T00:00:00\", \"2019-05-26T00:00:00\", \"2019-06-02T00:00:00\", \"2019-06-09T00:00:00\", \"2019-06-16T00:00:00\", \"2019-06-23T00:00:00\", \"2019-06-30T00:00:00\", \"2019-07-07T00:00:00\", \"2019-07-14T00:00:00\", \"2019-07-21T00:00:00\", \"2019-07-28T00:00:00\", \"2019-08-04T00:00:00\", \"2019-08-11T00:00:00\", \"2019-08-18T00:00:00\", \"2019-08-25T00:00:00\", \"2019-09-01T00:00:00\", \"2019-09-08T00:00:00\", \"2019-09-15T00:00:00\", \"2019-09-22T00:00:00\", \"2019-09-29T00:00:00\", \"2019-10-06T00:00:00\", \"2019-10-13T00:00:00\", \"2019-10-20T00:00:00\", \"2019-10-27T00:00:00\", \"2019-11-03T00:00:00\", \"2019-11-10T00:00:00\", \"2019-11-17T00:00:00\", \"2019-11-24T00:00:00\", \"2019-12-01T00:00:00\", \"2019-12-08T00:00:00\", \"2019-12-15T00:00:00\", \"2019-12-22T00:00:00\", \"2019-12-29T00:00:00\", \"2020-01-05T00:00:00\", \"2020-01-12T00:00:00\", \"2020-01-19T00:00:00\", \"2020-01-26T00:00:00\", \"2020-02-02T00:00:00\", \"2020-02-09T00:00:00\"], \"xaxis\": \"x\", \"y\": [10.01, 10.01, 10.01, 10.01, 10.01, 10.01, 10.01, 10.01, 10.01, 10.01, 10.01, 10.01, 10.01, 10.01, 10.01, 10.01, 10.01, 10.01, 10.01, 10.01, 10.01, 10.01, 10.01, 10.01, 10.01, 10.01, 10.01, 10.01, 10.01, 10.01, 10.01, 10.01, 10.01, 10.01, 10.01, 10.01, 10.01, 10.01, 10.01, 10.01, 10.01, 10.01, 10.01, 10.01, 10.01, 10.01, 10.01, 10.01, 10.01, 10.01, 10.01, 10.01, 10.01, 10.01, 10.01, 10.01, 10.01], \"yaxis\": \"y\"}, {\"line\": {\"color\": \"#FF5733\"}, \"name\": \"LSL C-Pitch\", \"type\": \"scatter\", \"x\": [\"2019-01-13T00:00:00\", \"2019-01-20T00:00:00\", \"2019-01-27T00:00:00\", \"2019-02-03T00:00:00\", \"2019-02-10T00:00:00\", \"2019-02-17T00:00:00\", \"2019-02-24T00:00:00\", \"2019-03-03T00:00:00\", \"2019-03-10T00:00:00\", \"2019-03-17T00:00:00\", \"2019-03-24T00:00:00\", \"2019-03-31T00:00:00\", \"2019-04-07T00:00:00\", \"2019-04-14T00:00:00\", \"2019-04-21T00:00:00\", \"2019-04-28T00:00:00\", \"2019-05-05T00:00:00\", \"2019-05-12T00:00:00\", \"2019-05-19T00:00:00\", \"2019-05-26T00:00:00\", \"2019-06-02T00:00:00\", \"2019-06-09T00:00:00\", \"2019-06-16T00:00:00\", \"2019-06-23T00:00:00\", \"2019-06-30T00:00:00\", \"2019-07-07T00:00:00\", \"2019-07-14T00:00:00\", \"2019-07-21T00:00:00\", \"2019-07-28T00:00:00\", \"2019-08-04T00:00:00\", \"2019-08-11T00:00:00\", \"2019-08-18T00:00:00\", \"2019-08-25T00:00:00\", \"2019-09-01T00:00:00\", \"2019-09-08T00:00:00\", \"2019-09-15T00:00:00\", \"2019-09-22T00:00:00\", \"2019-09-29T00:00:00\", \"2019-10-06T00:00:00\", \"2019-10-13T00:00:00\", \"2019-10-20T00:00:00\", \"2019-10-27T00:00:00\", \"2019-11-03T00:00:00\", \"2019-11-10T00:00:00\", \"2019-11-17T00:00:00\", \"2019-11-24T00:00:00\", \"2019-12-01T00:00:00\", \"2019-12-08T00:00:00\", \"2019-12-15T00:00:00\", \"2019-12-22T00:00:00\", \"2019-12-29T00:00:00\", \"2020-01-05T00:00:00\", \"2020-01-12T00:00:00\", \"2020-01-19T00:00:00\", \"2020-01-26T00:00:00\", \"2020-02-02T00:00:00\", \"2020-02-09T00:00:00\"], \"xaxis\": \"x\", \"y\": [9.99, 9.99, 9.99, 9.99, 9.99, 9.99, 9.99, 9.99, 9.99, 9.99, 9.99, 9.99, 9.99, 9.99, 9.99, 9.99, 9.99, 9.99, 9.99, 9.99, 9.99, 9.99, 9.99, 9.99, 9.99, 9.99, 9.99, 9.99, 9.99, 9.99, 9.99, 9.99, 9.99, 9.99, 9.99, 9.99, 9.99, 9.99, 9.99, 9.99, 9.99, 9.99, 9.99, 9.99, 9.99, 9.99, 9.99, 9.99, 9.99, 9.99, 9.99, 9.99, 9.99, 9.99, 9.99, 9.99, 9.99], \"yaxis\": \"y\"}, {\"line\": {\"color\": \"#FF5733\"}, \"name\": \"Nominal C-Pitch\", \"type\": \"scatter\", \"x\": [\"2019-01-13T00:00:00\", \"2019-01-20T00:00:00\", \"2019-01-27T00:00:00\", \"2019-02-03T00:00:00\", \"2019-02-10T00:00:00\", \"2019-02-17T00:00:00\", \"2019-02-24T00:00:00\", \"2019-03-03T00:00:00\", \"2019-03-10T00:00:00\", \"2019-03-17T00:00:00\", \"2019-03-24T00:00:00\", \"2019-03-31T00:00:00\", \"2019-04-07T00:00:00\", \"2019-04-14T00:00:00\", \"2019-04-21T00:00:00\", \"2019-04-28T00:00:00\", \"2019-05-05T00:00:00\", \"2019-05-12T00:00:00\", \"2019-05-19T00:00:00\", \"2019-05-26T00:00:00\", \"2019-06-02T00:00:00\", \"2019-06-09T00:00:00\", \"2019-06-16T00:00:00\", \"2019-06-23T00:00:00\", \"2019-06-30T00:00:00\", \"2019-07-07T00:00:00\", \"2019-07-14T00:00:00\", \"2019-07-21T00:00:00\", \"2019-07-28T00:00:00\", \"2019-08-04T00:00:00\", \"2019-08-11T00:00:00\", \"2019-08-18T00:00:00\", \"2019-08-25T00:00:00\", \"2019-09-01T00:00:00\", \"2019-09-08T00:00:00\", \"2019-09-15T00:00:00\", \"2019-09-22T00:00:00\", \"2019-09-29T00:00:00\", \"2019-10-06T00:00:00\", \"2019-10-13T00:00:00\", \"2019-10-20T00:00:00\", \"2019-10-27T00:00:00\", \"2019-11-03T00:00:00\", \"2019-11-10T00:00:00\", \"2019-11-17T00:00:00\", \"2019-11-24T00:00:00\", \"2019-12-01T00:00:00\", \"2019-12-08T00:00:00\", \"2019-12-15T00:00:00\", \"2019-12-22T00:00:00\", \"2019-12-29T00:00:00\", \"2020-01-05T00:00:00\", \"2020-01-12T00:00:00\", \"2020-01-19T00:00:00\", \"2020-01-26T00:00:00\", \"2020-02-02T00:00:00\", \"2020-02-09T00:00:00\"], \"xaxis\": \"x\", \"y\": [10.0, 10.0, 10.0, 10.0, 10.0, 10.0, 10.0, 10.0, 10.0, 10.0, 10.0, 10.0, 10.0, 10.0, 10.0, 10.0, 10.0, 10.0, 10.0, 10.0, 10.0, 10.0, 10.0, 10.0, 10.0, 10.0, 10.0, 10.0, 10.0, 10.0, 10.0, 10.0, 10.0, 10.0, 10.0, 10.0, 10.0, 10.0, 10.0, 10.0, 10.0, 10.0, 10.0, 10.0, 10.0, 10.0, 10.0, 10.0, 10.0, 10.0, 10.0, 10.0, 10.0, 10.0, 10.0, 10.0, 10.0], \"yaxis\": \"y\"}, {\"line\": {\"color\": \"#33C2FF\"}, \"name\": \"UCL C-Pitch\", \"type\": \"scatter\", \"x\": [\"2019-01-13T00:00:00\", \"2019-01-20T00:00:00\", \"2019-01-27T00:00:00\", \"2019-02-03T00:00:00\", \"2019-02-10T00:00:00\", \"2019-02-17T00:00:00\", \"2019-02-24T00:00:00\", \"2019-03-03T00:00:00\", \"2019-03-10T00:00:00\", \"2019-03-17T00:00:00\", \"2019-03-24T00:00:00\", \"2019-03-31T00:00:00\", \"2019-04-07T00:00:00\", \"2019-04-14T00:00:00\", \"2019-04-21T00:00:00\", \"2019-04-28T00:00:00\", \"2019-05-05T00:00:00\", \"2019-05-12T00:00:00\", \"2019-05-19T00:00:00\", \"2019-05-26T00:00:00\", \"2019-06-02T00:00:00\", \"2019-06-09T00:00:00\", \"2019-06-16T00:00:00\", \"2019-06-23T00:00:00\", \"2019-06-30T00:00:00\", \"2019-07-07T00:00:00\", \"2019-07-14T00:00:00\", \"2019-07-21T00:00:00\", \"2019-07-28T00:00:00\", \"2019-08-04T00:00:00\", \"2019-08-11T00:00:00\", \"2019-08-18T00:00:00\", \"2019-08-25T00:00:00\", \"2019-09-01T00:00:00\", \"2019-09-08T00:00:00\", \"2019-09-15T00:00:00\", \"2019-09-22T00:00:00\", \"2019-09-29T00:00:00\", \"2019-10-06T00:00:00\", \"2019-10-13T00:00:00\", \"2019-10-20T00:00:00\", \"2019-10-27T00:00:00\", \"2019-11-03T00:00:00\", \"2019-11-10T00:00:00\", \"2019-11-17T00:00:00\", \"2019-11-24T00:00:00\", \"2019-12-01T00:00:00\", \"2019-12-08T00:00:00\", \"2019-12-15T00:00:00\", \"2019-12-22T00:00:00\", \"2019-12-29T00:00:00\", \"2020-01-05T00:00:00\", \"2020-01-12T00:00:00\", \"2020-01-19T00:00:00\", \"2020-01-26T00:00:00\", \"2020-02-02T00:00:00\", \"2020-02-09T00:00:00\"], \"xaxis\": \"x\", \"y\": [10.006000767982567, 10.006000767982567, 10.006000767982567, 10.006000767982567, 10.006000767982567, 10.006000767982567, 10.006000767982567, 10.006000767982567, 10.006000767982567, 10.006000767982567, 10.006000767982567, 10.006000767982567, 10.006000767982567, 10.006000767982567, 10.006000767982567, 10.006000767982567, 10.006000767982567, 10.006000767982567, 10.006000767982567, 10.006000767982567, 10.006000767982567, 10.006000767982567, 10.006000767982567, 10.006000767982567, 10.006000767982567, 10.006000767982567, 10.006000767982567, 10.006000767982567, 10.006000767982567, 10.006000767982567, 10.006000767982567, 10.006000767982567, 10.006000767982567, 10.006000767982567, 10.006000767982567, 10.006000767982567, 10.006000767982567, 10.006000767982567, 10.006000767982567, 10.006000767982567, 10.006000767982567, 10.006000767982567, 10.006000767982567, 10.006000767982567, 10.006000767982567, 10.006000767982567, 10.006000767982567, 10.006000767982567, 10.006000767982567, 10.006000767982567, 10.006000767982567, 10.006000767982567, 10.006000767982567, 10.006000767982567, 10.006000767982567, 10.006000767982567, 10.006000767982567], \"yaxis\": \"y\"}, {\"line\": {\"color\": \"#33C2FF\"}, \"name\": \"LCL C-Pitch\", \"type\": \"scatter\", \"x\": [\"2019-01-13T00:00:00\", \"2019-01-20T00:00:00\", \"2019-01-27T00:00:00\", \"2019-02-03T00:00:00\", \"2019-02-10T00:00:00\", \"2019-02-17T00:00:00\", \"2019-02-24T00:00:00\", \"2019-03-03T00:00:00\", \"2019-03-10T00:00:00\", \"2019-03-17T00:00:00\", \"2019-03-24T00:00:00\", \"2019-03-31T00:00:00\", \"2019-04-07T00:00:00\", \"2019-04-14T00:00:00\", \"2019-04-21T00:00:00\", \"2019-04-28T00:00:00\", \"2019-05-05T00:00:00\", \"2019-05-12T00:00:00\", \"2019-05-19T00:00:00\", \"2019-05-26T00:00:00\", \"2019-06-02T00:00:00\", \"2019-06-09T00:00:00\", \"2019-06-16T00:00:00\", \"2019-06-23T00:00:00\", \"2019-06-30T00:00:00\", \"2019-07-07T00:00:00\", \"2019-07-14T00:00:00\", \"2019-07-21T00:00:00\", \"2019-07-28T00:00:00\", \"2019-08-04T00:00:00\", \"2019-08-11T00:00:00\", \"2019-08-18T00:00:00\", \"2019-08-25T00:00:00\", \"2019-09-01T00:00:00\", \"2019-09-08T00:00:00\", \"2019-09-15T00:00:00\", \"2019-09-22T00:00:00\", \"2019-09-29T00:00:00\", \"2019-10-06T00:00:00\", \"2019-10-13T00:00:00\", \"2019-10-20T00:00:00\", \"2019-10-27T00:00:00\", \"2019-11-03T00:00:00\", \"2019-11-10T00:00:00\", \"2019-11-17T00:00:00\", \"2019-11-24T00:00:00\", \"2019-12-01T00:00:00\", \"2019-12-08T00:00:00\", \"2019-12-15T00:00:00\", \"2019-12-22T00:00:00\", \"2019-12-29T00:00:00\", \"2020-01-05T00:00:00\", \"2020-01-12T00:00:00\", \"2020-01-19T00:00:00\", \"2020-01-26T00:00:00\", \"2020-02-02T00:00:00\", \"2020-02-09T00:00:00\"], \"xaxis\": \"x\", \"y\": [9.997142089160292, 9.997142089160292, 9.997142089160292, 9.997142089160292, 9.997142089160292, 9.997142089160292, 9.997142089160292, 9.997142089160292, 9.997142089160292, 9.997142089160292, 9.997142089160292, 9.997142089160292, 9.997142089160292, 9.997142089160292, 9.997142089160292, 9.997142089160292, 9.997142089160292, 9.997142089160292, 9.997142089160292, 9.997142089160292, 9.997142089160292, 9.997142089160292, 9.997142089160292, 9.997142089160292, 9.997142089160292, 9.997142089160292, 9.997142089160292, 9.997142089160292, 9.997142089160292, 9.997142089160292, 9.997142089160292, 9.997142089160292, 9.997142089160292, 9.997142089160292, 9.997142089160292, 9.997142089160292, 9.997142089160292, 9.997142089160292, 9.997142089160292, 9.997142089160292, 9.997142089160292, 9.997142089160292, 9.997142089160292, 9.997142089160292, 9.997142089160292, 9.997142089160292, 9.997142089160292, 9.997142089160292, 9.997142089160292, 9.997142089160292, 9.997142089160292, 9.997142089160292, 9.997142089160292, 9.997142089160292, 9.997142089160292, 9.997142089160292, 9.997142089160292], \"yaxis\": \"y\"}, {\"line\": {\"color\": \"#33C2FF\"}, \"name\": \"mean C-Pitch\", \"type\": \"scatter\", \"x\": [\"2019-01-13T00:00:00\", \"2019-01-20T00:00:00\", \"2019-01-27T00:00:00\", \"2019-02-03T00:00:00\", \"2019-02-10T00:00:00\", \"2019-02-17T00:00:00\", \"2019-02-24T00:00:00\", \"2019-03-03T00:00:00\", \"2019-03-10T00:00:00\", \"2019-03-17T00:00:00\", \"2019-03-24T00:00:00\", \"2019-03-31T00:00:00\", \"2019-04-07T00:00:00\", \"2019-04-14T00:00:00\", \"2019-04-21T00:00:00\", \"2019-04-28T00:00:00\", \"2019-05-05T00:00:00\", \"2019-05-12T00:00:00\", \"2019-05-19T00:00:00\", \"2019-05-26T00:00:00\", \"2019-06-02T00:00:00\", \"2019-06-09T00:00:00\", \"2019-06-16T00:00:00\", \"2019-06-23T00:00:00\", \"2019-06-30T00:00:00\", \"2019-07-07T00:00:00\", \"2019-07-14T00:00:00\", \"2019-07-21T00:00:00\", \"2019-07-28T00:00:00\", \"2019-08-04T00:00:00\", \"2019-08-11T00:00:00\", \"2019-08-18T00:00:00\", \"2019-08-25T00:00:00\", \"2019-09-01T00:00:00\", \"2019-09-08T00:00:00\", \"2019-09-15T00:00:00\", \"2019-09-22T00:00:00\", \"2019-09-29T00:00:00\", \"2019-10-06T00:00:00\", \"2019-10-13T00:00:00\", \"2019-10-20T00:00:00\", \"2019-10-27T00:00:00\", \"2019-11-03T00:00:00\", \"2019-11-10T00:00:00\", \"2019-11-17T00:00:00\", \"2019-11-24T00:00:00\", \"2019-12-01T00:00:00\", \"2019-12-08T00:00:00\", \"2019-12-15T00:00:00\", \"2019-12-22T00:00:00\", \"2019-12-29T00:00:00\", \"2020-01-05T00:00:00\", \"2020-01-12T00:00:00\", \"2020-01-19T00:00:00\", \"2020-01-26T00:00:00\", \"2020-02-02T00:00:00\", \"2020-02-09T00:00:00\"], \"xaxis\": \"x\", \"y\": [10.00157142857143, 10.00157142857143, 10.00157142857143, 10.00157142857143, 10.00157142857143, 10.00157142857143, 10.00157142857143, 10.00157142857143, 10.00157142857143, 10.00157142857143, 10.00157142857143, 10.00157142857143, 10.00157142857143, 10.00157142857143, 10.00157142857143, 10.00157142857143, 10.00157142857143, 10.00157142857143, 10.00157142857143, 10.00157142857143, 10.00157142857143, 10.00157142857143, 10.00157142857143, 10.00157142857143, 10.00157142857143, 10.00157142857143, 10.00157142857143, 10.00157142857143, 10.00157142857143, 10.00157142857143, 10.00157142857143, 10.00157142857143, 10.00157142857143, 10.00157142857143, 10.00157142857143, 10.00157142857143, 10.00157142857143, 10.00157142857143, 10.00157142857143, 10.00157142857143, 10.00157142857143, 10.00157142857143, 10.00157142857143, 10.00157142857143, 10.00157142857143, 10.00157142857143, 10.00157142857143, 10.00157142857143, 10.00157142857143, 10.00157142857143, 10.00157142857143, 10.00157142857143, 10.00157142857143, 10.00157142857143, 10.00157142857143, 10.00157142857143, 10.00157142857143], \"yaxis\": \"y\"}, {\"line\": {\"color\": \"#9FA0F8\"}, \"name\": \"yhat_upper C-Pitch\", \"type\": \"scatter\", \"x\": [\"2019-01-13T00:00:00\", \"2019-01-20T00:00:00\", \"2019-01-27T00:00:00\", \"2019-02-03T00:00:00\", \"2019-02-10T00:00:00\", \"2019-02-17T00:00:00\", \"2019-02-24T00:00:00\", \"2019-03-03T00:00:00\", \"2019-03-10T00:00:00\", \"2019-03-17T00:00:00\", \"2019-03-24T00:00:00\", \"2019-03-31T00:00:00\", \"2019-04-07T00:00:00\", \"2019-04-14T00:00:00\", \"2019-04-21T00:00:00\", \"2019-04-28T00:00:00\", \"2019-05-05T00:00:00\", \"2019-05-12T00:00:00\", \"2019-05-19T00:00:00\", \"2019-05-26T00:00:00\", \"2019-06-02T00:00:00\", \"2019-06-09T00:00:00\", \"2019-06-16T00:00:00\", \"2019-06-23T00:00:00\", \"2019-06-30T00:00:00\", \"2019-07-07T00:00:00\", \"2019-07-14T00:00:00\", \"2019-07-21T00:00:00\", \"2019-07-28T00:00:00\", \"2019-08-04T00:00:00\", \"2019-08-11T00:00:00\", \"2019-08-18T00:00:00\", \"2019-08-25T00:00:00\", \"2019-09-01T00:00:00\", \"2019-09-08T00:00:00\", \"2019-09-15T00:00:00\", \"2019-09-22T00:00:00\", \"2019-09-29T00:00:00\", \"2019-10-06T00:00:00\", \"2019-10-13T00:00:00\", \"2019-10-20T00:00:00\", \"2019-10-27T00:00:00\", \"2019-11-03T00:00:00\", \"2019-11-10T00:00:00\", \"2019-11-17T00:00:00\", \"2019-11-24T00:00:00\", \"2019-12-01T00:00:00\", \"2019-12-08T00:00:00\", \"2019-12-15T00:00:00\", \"2019-12-22T00:00:00\", \"2019-12-29T00:00:00\", \"2020-01-05T00:00:00\", \"2020-01-12T00:00:00\", \"2020-01-19T00:00:00\", \"2020-01-26T00:00:00\", \"2020-02-02T00:00:00\", \"2020-02-09T00:00:00\"], \"xaxis\": \"x\", \"y\": [10.005204877622106, 10.004350937683295, 10.00339060768243, 10.003938330990872, 10.003931454486175, 10.003917978969547, 10.003465461870324, 10.003088283239286, 10.002641811256652, 10.000472784606817, 9.998246855035449, 9.999725553628627, 10.0016209043243, 10.00356019872023, 10.003871559733454, 10.003940386232664, 10.004005172385547, 10.004036919760482, 10.004092589955022, 10.004614790732138, 10.003547283073143, 10.002600737834955, 10.00149918752775, 10.002325074606112, 10.003153472506439, 10.003125999990177, 10.003020639836748, 10.002989610024958, 10.00294151885851, 10.002897530369234, 10.002205415750602, 10.001700741427692, 10.00120419848993, 10.002065340920929, 10.002947830000608, 10.002840545694273, 10.003063500633864, 10.003100347438782, 10.003125308454724, 10.0023162242547, 10.001381464829652, 10.001561292853598, 10.001706902237334, 10.001836976644285, 10.00203512006284, 10.002072982834113, 10.002221377070383, 10.00237690402352, 10.002583383648581, 10.002628762884914, 10.002823179238927, 10.00298060385295, 10.003285396966604, 10.003770887854305, 10.004586377530945, 10.0062653010122, 10.008147590129], \"yaxis\": \"y\"}, {\"fill\": \"tonexty\", \"line\": {\"color\": \"#9FA0F8\"}, \"name\": \"yhat_lower C-Pitch\", \"type\": \"scatter\", \"x\": [\"2019-01-13T00:00:00\", \"2019-01-20T00:00:00\", \"2019-01-27T00:00:00\", \"2019-02-03T00:00:00\", \"2019-02-10T00:00:00\", \"2019-02-17T00:00:00\", \"2019-02-24T00:00:00\", \"2019-03-03T00:00:00\", \"2019-03-10T00:00:00\", \"2019-03-17T00:00:00\", \"2019-03-24T00:00:00\", \"2019-03-31T00:00:00\", \"2019-04-07T00:00:00\", \"2019-04-14T00:00:00\", \"2019-04-21T00:00:00\", \"2019-04-28T00:00:00\", \"2019-05-05T00:00:00\", \"2019-05-12T00:00:00\", \"2019-05-19T00:00:00\", \"2019-05-26T00:00:00\", \"2019-06-02T00:00:00\", \"2019-06-09T00:00:00\", \"2019-06-16T00:00:00\", \"2019-06-23T00:00:00\", \"2019-06-30T00:00:00\", \"2019-07-07T00:00:00\", \"2019-07-14T00:00:00\", \"2019-07-21T00:00:00\", \"2019-07-28T00:00:00\", \"2019-08-04T00:00:00\", \"2019-08-11T00:00:00\", \"2019-08-18T00:00:00\", \"2019-08-25T00:00:00\", \"2019-09-01T00:00:00\", \"2019-09-08T00:00:00\", \"2019-09-15T00:00:00\", \"2019-09-22T00:00:00\", \"2019-09-29T00:00:00\", \"2019-10-06T00:00:00\", \"2019-10-13T00:00:00\", \"2019-10-20T00:00:00\", \"2019-10-27T00:00:00\", \"2019-11-03T00:00:00\", \"2019-11-10T00:00:00\", \"2019-11-17T00:00:00\", \"2019-11-24T00:00:00\", \"2019-12-01T00:00:00\", \"2019-12-08T00:00:00\", \"2019-12-15T00:00:00\", \"2019-12-22T00:00:00\", \"2019-12-29T00:00:00\", \"2020-01-05T00:00:00\", \"2020-01-12T00:00:00\", \"2020-01-19T00:00:00\", \"2020-01-26T00:00:00\", \"2020-02-02T00:00:00\", \"2020-02-09T00:00:00\"], \"xaxis\": \"x\", \"y\": [10.003263118253917, 10.002387625914697, 10.001437938262834, 10.001875666366239, 10.001964977487255, 10.001965335137704, 10.001555220048692, 10.00111166402345, 10.000664567098081, 9.998486836570951, 9.996281992052973, 9.997769139976835, 9.999740042393029, 10.001600197512676, 10.001925219961839, 10.002012288491951, 10.002055303818105, 10.002030358626154, 10.002090086572382, 10.002607805793259, 10.00159511810176, 10.000597384402612, 9.999577054855722, 10.000333537902407, 10.001151162210858, 10.001065942933835, 10.00100242916111, 10.000974945602213, 10.000956308043222, 10.00078080774155, 10.000381489575982, 9.999689229344785, 9.999194709690224, 10.000062181582091, 10.000896046408652, 10.001009512181614, 10.001021874839141, 10.001107133675657, 10.001162467262462, 10.000286710826433, 9.999399400773486, 9.99957573578771, 9.99976005949988, 9.999727951940901, 9.99999016332617, 10.00007906042071, 10.000313804039408, 10.000468364881682, 10.000555947308909, 10.000610958628844, 10.000852289808385, 10.001057095709795, 10.001041254583717, 10.000881895679843, 9.999827072415872, 9.998674544733515, 9.99687496841661], \"yaxis\": \"y\"}, {\"line\": {\"color\": \"#4280F5\"}, \"mode\": \"lines+markers\", \"name\": \"mean J\", \"type\": \"scatter\", \"x\": [\"2019-01-11T00:00:00\", \"2019-01-22T00:00:00\", \"2019-01-26T00:00:00\", \"2019-01-31T00:00:00\", \"2019-02-11T00:00:00\", \"2019-02-22T00:00:00\", \"2019-02-27T00:00:00\", \"2019-03-07T00:00:00\", \"2019-03-15T00:00:00\", \"2019-04-05T00:00:00\", \"2019-04-16T00:00:00\", \"2019-05-27T00:00:00\", \"2019-06-03T00:00:00\", \"2019-06-10T00:00:00\", \"2019-06-17T00:00:00\", \"2019-06-25T00:00:00\", \"2019-06-28T00:00:00\", \"2019-08-07T00:00:00\", \"2019-08-19T00:00:00\", \"2019-08-26T00:00:00\", \"2019-09-05T00:00:00\", \"2019-10-17T00:00:00\", \"2019-11-01T00:00:00\", \"2019-11-13T00:00:00\", \"2019-12-05T00:00:00\", \"2019-12-10T00:00:00\", \"2019-12-26T00:00:00\", \"2019-12-31T00:00:00\"], \"xaxis\": \"x2\", \"y\": [1.219, 1.219, 1.22, 1.22, 1.22, 1.22, 1.22, 1.22, 1.219, 1.22, 1.22, 1.22, 1.22, 1.22, 1.218, 1.219, 1.218, 1.217, 1.217, 1.219, 1.218, 1.22, 1.22, 1.219, 1.219, 1.22, 1.219, 1.218], \"yaxis\": \"y2\"}, {\"line\": {\"color\": \"#060891\"}, \"mode\": \"lines+markers\", \"name\": \"mean predict J\", \"type\": \"scatter\", \"x\": [\"2019-01-13T00:00:00\", \"2019-01-20T00:00:00\", \"2019-01-27T00:00:00\", \"2019-02-03T00:00:00\", \"2019-02-10T00:00:00\", \"2019-02-17T00:00:00\", \"2019-02-24T00:00:00\", \"2019-03-03T00:00:00\", \"2019-03-10T00:00:00\", \"2019-03-17T00:00:00\", \"2019-03-24T00:00:00\", \"2019-03-31T00:00:00\", \"2019-04-07T00:00:00\", \"2019-04-14T00:00:00\", \"2019-04-21T00:00:00\", \"2019-04-28T00:00:00\", \"2019-05-05T00:00:00\", \"2019-05-12T00:00:00\", \"2019-05-19T00:00:00\", \"2019-05-26T00:00:00\", \"2019-06-02T00:00:00\", \"2019-06-09T00:00:00\", \"2019-06-16T00:00:00\", \"2019-06-23T00:00:00\", \"2019-06-30T00:00:00\", \"2019-07-07T00:00:00\", \"2019-07-14T00:00:00\", \"2019-07-21T00:00:00\", \"2019-07-28T00:00:00\", \"2019-08-04T00:00:00\", \"2019-08-11T00:00:00\", \"2019-08-18T00:00:00\", \"2019-08-25T00:00:00\", \"2019-09-01T00:00:00\", \"2019-09-08T00:00:00\", \"2019-09-15T00:00:00\", \"2019-09-22T00:00:00\", \"2019-09-29T00:00:00\", \"2019-10-06T00:00:00\", \"2019-10-13T00:00:00\", \"2019-10-20T00:00:00\", \"2019-10-27T00:00:00\", \"2019-11-03T00:00:00\", \"2019-11-10T00:00:00\", \"2019-11-17T00:00:00\", \"2019-11-24T00:00:00\", \"2019-12-01T00:00:00\", \"2019-12-08T00:00:00\", \"2019-12-15T00:00:00\", \"2019-12-22T00:00:00\", \"2019-12-29T00:00:00\", \"2020-01-05T00:00:00\", \"2020-01-12T00:00:00\", \"2020-01-19T00:00:00\", \"2020-01-26T00:00:00\", \"2020-02-02T00:00:00\", \"2020-02-09T00:00:00\"], \"xaxis\": \"x2\", \"y\": [1.218889643189248, 1.219333443129896, 1.2197772430705445, 1.2199892832670332, 1.2200049135667, 1.2200205438663667, 1.2200358690044122, 1.2198988013527143, 1.2197617337010163, 1.2193498296496132, 1.21893792559821, 1.2192880378537865, 1.21965342193853, 1.2200188060232737, 1.2200182821754348, 1.2200150041935554, 1.2200117262116756, 1.2200084477270157, 1.2200051692423557, 1.2200018903618168, 1.2199940391114483, 1.21998618786108, 1.2195306377321997, 1.2187104809128062, 1.2178903240934127, 1.217930465733705, 1.217970607373997, 1.2180107486663938, 1.2179129278671672, 1.2178151070679406, 1.2170794853047375, 1.2172979789078464, 1.2175164725109555, 1.2178964142334807, 1.2182763559560064, 1.2181524323091595, 1.2180285086551221, 1.217904585001085, 1.2177806617055114, 1.2188175579803089, 1.2198544542551066, 1.2197669424177446, 1.2196794305803829, 1.2195919187430206, 1.2195044069056589, 1.2194168950682969, 1.2193293832309349, 1.219241871393573, 1.219154359556211, 1.2190668477188493, 1.2189793358814873, 1.2188918240441253, 1.2188043122067633, 1.2187168003694013, 1.2186292885320396, 1.2185417766946776, 1.2184542648573156], \"yaxis\": \"y2\"}, {\"line\": {\"color\": \"#FF5733\"}, \"name\": \"USL J\", \"type\": \"scatter\", \"x\": [\"2019-01-13T00:00:00\", \"2019-01-20T00:00:00\", \"2019-01-27T00:00:00\", \"2019-02-03T00:00:00\", \"2019-02-10T00:00:00\", \"2019-02-17T00:00:00\", \"2019-02-24T00:00:00\", \"2019-03-03T00:00:00\", \"2019-03-10T00:00:00\", \"2019-03-17T00:00:00\", \"2019-03-24T00:00:00\", \"2019-03-31T00:00:00\", \"2019-04-07T00:00:00\", \"2019-04-14T00:00:00\", \"2019-04-21T00:00:00\", \"2019-04-28T00:00:00\", \"2019-05-05T00:00:00\", \"2019-05-12T00:00:00\", \"2019-05-19T00:00:00\", \"2019-05-26T00:00:00\", \"2019-06-02T00:00:00\", \"2019-06-09T00:00:00\", \"2019-06-16T00:00:00\", \"2019-06-23T00:00:00\", \"2019-06-30T00:00:00\", \"2019-07-07T00:00:00\", \"2019-07-14T00:00:00\", \"2019-07-21T00:00:00\", \"2019-07-28T00:00:00\", \"2019-08-04T00:00:00\", \"2019-08-11T00:00:00\", \"2019-08-18T00:00:00\", \"2019-08-25T00:00:00\", \"2019-09-01T00:00:00\", \"2019-09-08T00:00:00\", \"2019-09-15T00:00:00\", \"2019-09-22T00:00:00\", \"2019-09-29T00:00:00\", \"2019-10-06T00:00:00\", \"2019-10-13T00:00:00\", \"2019-10-20T00:00:00\", \"2019-10-27T00:00:00\", \"2019-11-03T00:00:00\", \"2019-11-10T00:00:00\", \"2019-11-17T00:00:00\", \"2019-11-24T00:00:00\", \"2019-12-01T00:00:00\", \"2019-12-08T00:00:00\", \"2019-12-15T00:00:00\", \"2019-12-22T00:00:00\", \"2019-12-29T00:00:00\", \"2020-01-05T00:00:00\", \"2020-01-12T00:00:00\", \"2020-01-19T00:00:00\", \"2020-01-26T00:00:00\", \"2020-02-02T00:00:00\", \"2020-02-09T00:00:00\"], \"xaxis\": \"x2\", \"y\": [1.22, 1.22, 1.22, 1.22, 1.22, 1.22, 1.22, 1.22, 1.22, 1.22, 1.22, 1.22, 1.22, 1.22, 1.22, 1.22, 1.22, 1.22, 1.22, 1.22, 1.22, 1.22, 1.22, 1.22, 1.22, 1.22, 1.22, 1.22, 1.22, 1.22, 1.22, 1.22, 1.22, 1.22, 1.22, 1.22, 1.22, 1.22, 1.22, 1.22, 1.22, 1.22, 1.22, 1.22, 1.22, 1.22, 1.22, 1.22, 1.22, 1.22, 1.22, 1.22, 1.22, 1.22, 1.22, 1.22, 1.22], \"yaxis\": \"y2\"}, {\"line\": {\"color\": \"#FF5733\"}, \"name\": \"LSL J\", \"type\": \"scatter\", \"x\": [\"2019-01-13T00:00:00\", \"2019-01-20T00:00:00\", \"2019-01-27T00:00:00\", \"2019-02-03T00:00:00\", \"2019-02-10T00:00:00\", \"2019-02-17T00:00:00\", \"2019-02-24T00:00:00\", \"2019-03-03T00:00:00\", \"2019-03-10T00:00:00\", \"2019-03-17T00:00:00\", \"2019-03-24T00:00:00\", \"2019-03-31T00:00:00\", \"2019-04-07T00:00:00\", \"2019-04-14T00:00:00\", \"2019-04-21T00:00:00\", \"2019-04-28T00:00:00\", \"2019-05-05T00:00:00\", \"2019-05-12T00:00:00\", \"2019-05-19T00:00:00\", \"2019-05-26T00:00:00\", \"2019-06-02T00:00:00\", \"2019-06-09T00:00:00\", \"2019-06-16T00:00:00\", \"2019-06-23T00:00:00\", \"2019-06-30T00:00:00\", \"2019-07-07T00:00:00\", \"2019-07-14T00:00:00\", \"2019-07-21T00:00:00\", \"2019-07-28T00:00:00\", \"2019-08-04T00:00:00\", \"2019-08-11T00:00:00\", \"2019-08-18T00:00:00\", \"2019-08-25T00:00:00\", \"2019-09-01T00:00:00\", \"2019-09-08T00:00:00\", \"2019-09-15T00:00:00\", \"2019-09-22T00:00:00\", \"2019-09-29T00:00:00\", \"2019-10-06T00:00:00\", \"2019-10-13T00:00:00\", \"2019-10-20T00:00:00\", \"2019-10-27T00:00:00\", \"2019-11-03T00:00:00\", \"2019-11-10T00:00:00\", \"2019-11-17T00:00:00\", \"2019-11-24T00:00:00\", \"2019-12-01T00:00:00\", \"2019-12-08T00:00:00\", \"2019-12-15T00:00:00\", \"2019-12-22T00:00:00\", \"2019-12-29T00:00:00\", \"2020-01-05T00:00:00\", \"2020-01-12T00:00:00\", \"2020-01-19T00:00:00\", \"2020-01-26T00:00:00\", \"2020-02-02T00:00:00\", \"2020-02-09T00:00:00\"], \"xaxis\": \"x2\", \"y\": [1.21, 1.21, 1.21, 1.21, 1.21, 1.21, 1.21, 1.21, 1.21, 1.21, 1.21, 1.21, 1.21, 1.21, 1.21, 1.21, 1.21, 1.21, 1.21, 1.21, 1.21, 1.21, 1.21, 1.21, 1.21, 1.21, 1.21, 1.21, 1.21, 1.21, 1.21, 1.21, 1.21, 1.21, 1.21, 1.21, 1.21, 1.21, 1.21, 1.21, 1.21, 1.21, 1.21, 1.21, 1.21, 1.21, 1.21, 1.21, 1.21, 1.21, 1.21, 1.21, 1.21, 1.21, 1.21, 1.21, 1.21], \"yaxis\": \"y2\"}, {\"line\": {\"color\": \"#FF5733\"}, \"name\": \"Nominal J\", \"type\": \"scatter\", \"x\": [\"2019-01-13T00:00:00\", \"2019-01-20T00:00:00\", \"2019-01-27T00:00:00\", \"2019-02-03T00:00:00\", \"2019-02-10T00:00:00\", \"2019-02-17T00:00:00\", \"2019-02-24T00:00:00\", \"2019-03-03T00:00:00\", \"2019-03-10T00:00:00\", \"2019-03-17T00:00:00\", \"2019-03-24T00:00:00\", \"2019-03-31T00:00:00\", \"2019-04-07T00:00:00\", \"2019-04-14T00:00:00\", \"2019-04-21T00:00:00\", \"2019-04-28T00:00:00\", \"2019-05-05T00:00:00\", \"2019-05-12T00:00:00\", \"2019-05-19T00:00:00\", \"2019-05-26T00:00:00\", \"2019-06-02T00:00:00\", \"2019-06-09T00:00:00\", \"2019-06-16T00:00:00\", \"2019-06-23T00:00:00\", \"2019-06-30T00:00:00\", \"2019-07-07T00:00:00\", \"2019-07-14T00:00:00\", \"2019-07-21T00:00:00\", \"2019-07-28T00:00:00\", \"2019-08-04T00:00:00\", \"2019-08-11T00:00:00\", \"2019-08-18T00:00:00\", \"2019-08-25T00:00:00\", \"2019-09-01T00:00:00\", \"2019-09-08T00:00:00\", \"2019-09-15T00:00:00\", \"2019-09-22T00:00:00\", \"2019-09-29T00:00:00\", \"2019-10-06T00:00:00\", \"2019-10-13T00:00:00\", \"2019-10-20T00:00:00\", \"2019-10-27T00:00:00\", \"2019-11-03T00:00:00\", \"2019-11-10T00:00:00\", \"2019-11-17T00:00:00\", \"2019-11-24T00:00:00\", \"2019-12-01T00:00:00\", \"2019-12-08T00:00:00\", \"2019-12-15T00:00:00\", \"2019-12-22T00:00:00\", \"2019-12-29T00:00:00\", \"2020-01-05T00:00:00\", \"2020-01-12T00:00:00\", \"2020-01-19T00:00:00\", \"2020-01-26T00:00:00\", \"2020-02-02T00:00:00\", \"2020-02-09T00:00:00\"], \"xaxis\": \"x2\", \"y\": [1.21, 1.21, 1.21, 1.21, 1.21, 1.21, 1.21, 1.21, 1.21, 1.21, 1.21, 1.21, 1.21, 1.21, 1.21, 1.21, 1.21, 1.21, 1.21, 1.21, 1.21, 1.21, 1.21, 1.21, 1.21, 1.21, 1.21, 1.21, 1.21, 1.21, 1.21, 1.21, 1.21, 1.21, 1.21, 1.21, 1.21, 1.21, 1.21, 1.21, 1.21, 1.21, 1.21, 1.21, 1.21, 1.21, 1.21, 1.21, 1.21, 1.21, 1.21, 1.21, 1.21, 1.21, 1.21, 1.21, 1.21], \"yaxis\": \"y2\"}, {\"line\": {\"color\": \"#33C2FF\"}, \"name\": \"UCL J\", \"type\": \"scatter\", \"x\": [\"2019-01-13T00:00:00\", \"2019-01-20T00:00:00\", \"2019-01-27T00:00:00\", \"2019-02-03T00:00:00\", \"2019-02-10T00:00:00\", \"2019-02-17T00:00:00\", \"2019-02-24T00:00:00\", \"2019-03-03T00:00:00\", \"2019-03-10T00:00:00\", \"2019-03-17T00:00:00\", \"2019-03-24T00:00:00\", \"2019-03-31T00:00:00\", \"2019-04-07T00:00:00\", \"2019-04-14T00:00:00\", \"2019-04-21T00:00:00\", \"2019-04-28T00:00:00\", \"2019-05-05T00:00:00\", \"2019-05-12T00:00:00\", \"2019-05-19T00:00:00\", \"2019-05-26T00:00:00\", \"2019-06-02T00:00:00\", \"2019-06-09T00:00:00\", \"2019-06-16T00:00:00\", \"2019-06-23T00:00:00\", \"2019-06-30T00:00:00\", \"2019-07-07T00:00:00\", \"2019-07-14T00:00:00\", \"2019-07-21T00:00:00\", \"2019-07-28T00:00:00\", \"2019-08-04T00:00:00\", \"2019-08-11T00:00:00\", \"2019-08-18T00:00:00\", \"2019-08-25T00:00:00\", \"2019-09-01T00:00:00\", \"2019-09-08T00:00:00\", \"2019-09-15T00:00:00\", \"2019-09-22T00:00:00\", \"2019-09-29T00:00:00\", \"2019-10-06T00:00:00\", \"2019-10-13T00:00:00\", \"2019-10-20T00:00:00\", \"2019-10-27T00:00:00\", \"2019-11-03T00:00:00\", \"2019-11-10T00:00:00\", \"2019-11-17T00:00:00\", \"2019-11-24T00:00:00\", \"2019-12-01T00:00:00\", \"2019-12-08T00:00:00\", \"2019-12-15T00:00:00\", \"2019-12-22T00:00:00\", \"2019-12-29T00:00:00\", \"2020-01-05T00:00:00\", \"2020-01-12T00:00:00\", \"2020-01-19T00:00:00\", \"2020-01-26T00:00:00\", \"2020-02-02T00:00:00\", \"2020-02-09T00:00:00\"], \"xaxis\": \"x2\", \"y\": [1.2220844939363658, 1.2220844939363658, 1.2220844939363658, 1.2220844939363658, 1.2220844939363658, 1.2220844939363658, 1.2220844939363658, 1.2220844939363658, 1.2220844939363658, 1.2220844939363658, 1.2220844939363658, 1.2220844939363658, 1.2220844939363658, 1.2220844939363658, 1.2220844939363658, 1.2220844939363658, 1.2220844939363658, 1.2220844939363658, 1.2220844939363658, 1.2220844939363658, 1.2220844939363658, 1.2220844939363658, 1.2220844939363658, 1.2220844939363658, 1.2220844939363658, 1.2220844939363658, 1.2220844939363658, 1.2220844939363658, 1.2220844939363658, 1.2220844939363658, 1.2220844939363658, 1.2220844939363658, 1.2220844939363658, 1.2220844939363658, 1.2220844939363658, 1.2220844939363658, 1.2220844939363658, 1.2220844939363658, 1.2220844939363658, 1.2220844939363658, 1.2220844939363658, 1.2220844939363658, 1.2220844939363658, 1.2220844939363658, 1.2220844939363658, 1.2220844939363658, 1.2220844939363658, 1.2220844939363658, 1.2220844939363658, 1.2220844939363658, 1.2220844939363658, 1.2220844939363658, 1.2220844939363658, 1.2220844939363658, 1.2220844939363658, 1.2220844939363658, 1.2220844939363658], \"yaxis\": \"y2\"}, {\"line\": {\"color\": \"#33C2FF\"}, \"name\": \"LCL J\", \"type\": \"scatter\", \"x\": [\"2019-01-13T00:00:00\", \"2019-01-20T00:00:00\", \"2019-01-27T00:00:00\", \"2019-02-03T00:00:00\", \"2019-02-10T00:00:00\", \"2019-02-17T00:00:00\", \"2019-02-24T00:00:00\", \"2019-03-03T00:00:00\", \"2019-03-10T00:00:00\", \"2019-03-17T00:00:00\", \"2019-03-24T00:00:00\", \"2019-03-31T00:00:00\", \"2019-04-07T00:00:00\", \"2019-04-14T00:00:00\", \"2019-04-21T00:00:00\", \"2019-04-28T00:00:00\", \"2019-05-05T00:00:00\", \"2019-05-12T00:00:00\", \"2019-05-19T00:00:00\", \"2019-05-26T00:00:00\", \"2019-06-02T00:00:00\", \"2019-06-09T00:00:00\", \"2019-06-16T00:00:00\", \"2019-06-23T00:00:00\", \"2019-06-30T00:00:00\", \"2019-07-07T00:00:00\", \"2019-07-14T00:00:00\", \"2019-07-21T00:00:00\", \"2019-07-28T00:00:00\", \"2019-08-04T00:00:00\", \"2019-08-11T00:00:00\", \"2019-08-18T00:00:00\", \"2019-08-25T00:00:00\", \"2019-09-01T00:00:00\", \"2019-09-08T00:00:00\", \"2019-09-15T00:00:00\", \"2019-09-22T00:00:00\", \"2019-09-29T00:00:00\", \"2019-10-06T00:00:00\", \"2019-10-13T00:00:00\", \"2019-10-20T00:00:00\", \"2019-10-27T00:00:00\", \"2019-11-03T00:00:00\", \"2019-11-10T00:00:00\", \"2019-11-17T00:00:00\", \"2019-11-24T00:00:00\", \"2019-12-01T00:00:00\", \"2019-12-08T00:00:00\", \"2019-12-15T00:00:00\", \"2019-12-22T00:00:00\", \"2019-12-29T00:00:00\", \"2020-01-05T00:00:00\", \"2020-01-12T00:00:00\", \"2020-01-19T00:00:00\", \"2020-01-26T00:00:00\", \"2020-02-02T00:00:00\", \"2020-02-09T00:00:00\"], \"xaxis\": \"x2\", \"y\": [1.2163440774922059, 1.2163440774922059, 1.2163440774922059, 1.2163440774922059, 1.2163440774922059, 1.2163440774922059, 1.2163440774922059, 1.2163440774922059, 1.2163440774922059, 1.2163440774922059, 1.2163440774922059, 1.2163440774922059, 1.2163440774922059, 1.2163440774922059, 1.2163440774922059, 1.2163440774922059, 1.2163440774922059, 1.2163440774922059, 1.2163440774922059, 1.2163440774922059, 1.2163440774922059, 1.2163440774922059, 1.2163440774922059, 1.2163440774922059, 1.2163440774922059, 1.2163440774922059, 1.2163440774922059, 1.2163440774922059, 1.2163440774922059, 1.2163440774922059, 1.2163440774922059, 1.2163440774922059, 1.2163440774922059, 1.2163440774922059, 1.2163440774922059, 1.2163440774922059, 1.2163440774922059, 1.2163440774922059, 1.2163440774922059, 1.2163440774922059, 1.2163440774922059, 1.2163440774922059, 1.2163440774922059, 1.2163440774922059, 1.2163440774922059, 1.2163440774922059, 1.2163440774922059, 1.2163440774922059, 1.2163440774922059, 1.2163440774922059, 1.2163440774922059, 1.2163440774922059, 1.2163440774922059, 1.2163440774922059, 1.2163440774922059, 1.2163440774922059, 1.2163440774922059], \"yaxis\": \"y2\"}, {\"line\": {\"color\": \"#33C2FF\"}, \"name\": \"mean J\", \"type\": \"scatter\", \"x\": [\"2019-01-13T00:00:00\", \"2019-01-20T00:00:00\", \"2019-01-27T00:00:00\", \"2019-02-03T00:00:00\", \"2019-02-10T00:00:00\", \"2019-02-17T00:00:00\", \"2019-02-24T00:00:00\", \"2019-03-03T00:00:00\", \"2019-03-10T00:00:00\", \"2019-03-17T00:00:00\", \"2019-03-24T00:00:00\", \"2019-03-31T00:00:00\", \"2019-04-07T00:00:00\", \"2019-04-14T00:00:00\", \"2019-04-21T00:00:00\", \"2019-04-28T00:00:00\", \"2019-05-05T00:00:00\", \"2019-05-12T00:00:00\", \"2019-05-19T00:00:00\", \"2019-05-26T00:00:00\", \"2019-06-02T00:00:00\", \"2019-06-09T00:00:00\", \"2019-06-16T00:00:00\", \"2019-06-23T00:00:00\", \"2019-06-30T00:00:00\", \"2019-07-07T00:00:00\", \"2019-07-14T00:00:00\", \"2019-07-21T00:00:00\", \"2019-07-28T00:00:00\", \"2019-08-04T00:00:00\", \"2019-08-11T00:00:00\", \"2019-08-18T00:00:00\", \"2019-08-25T00:00:00\", \"2019-09-01T00:00:00\", \"2019-09-08T00:00:00\", \"2019-09-15T00:00:00\", \"2019-09-22T00:00:00\", \"2019-09-29T00:00:00\", \"2019-10-06T00:00:00\", \"2019-10-13T00:00:00\", \"2019-10-20T00:00:00\", \"2019-10-27T00:00:00\", \"2019-11-03T00:00:00\", \"2019-11-10T00:00:00\", \"2019-11-17T00:00:00\", \"2019-11-24T00:00:00\", \"2019-12-01T00:00:00\", \"2019-12-08T00:00:00\", \"2019-12-15T00:00:00\", \"2019-12-22T00:00:00\", \"2019-12-29T00:00:00\", \"2020-01-05T00:00:00\", \"2020-01-12T00:00:00\", \"2020-01-19T00:00:00\", \"2020-01-26T00:00:00\", \"2020-02-02T00:00:00\", \"2020-02-09T00:00:00\"], \"xaxis\": \"x2\", \"y\": [1.2192142857142858, 1.2192142857142858, 1.2192142857142858, 1.2192142857142858, 1.2192142857142858, 1.2192142857142858, 1.2192142857142858, 1.2192142857142858, 1.2192142857142858, 1.2192142857142858, 1.2192142857142858, 1.2192142857142858, 1.2192142857142858, 1.2192142857142858, 1.2192142857142858, 1.2192142857142858, 1.2192142857142858, 1.2192142857142858, 1.2192142857142858, 1.2192142857142858, 1.2192142857142858, 1.2192142857142858, 1.2192142857142858, 1.2192142857142858, 1.2192142857142858, 1.2192142857142858, 1.2192142857142858, 1.2192142857142858, 1.2192142857142858, 1.2192142857142858, 1.2192142857142858, 1.2192142857142858, 1.2192142857142858, 1.2192142857142858, 1.2192142857142858, 1.2192142857142858, 1.2192142857142858, 1.2192142857142858, 1.2192142857142858, 1.2192142857142858, 1.2192142857142858, 1.2192142857142858, 1.2192142857142858, 1.2192142857142858, 1.2192142857142858, 1.2192142857142858, 1.2192142857142858, 1.2192142857142858, 1.2192142857142858, 1.2192142857142858, 1.2192142857142858, 1.2192142857142858, 1.2192142857142858, 1.2192142857142858, 1.2192142857142858, 1.2192142857142858, 1.2192142857142858], \"yaxis\": \"y2\"}, {\"line\": {\"color\": \"#9FA0F8\"}, \"name\": \"yhat_upper J\", \"type\": \"scatter\", \"x\": [\"2019-01-13T00:00:00\", \"2019-01-20T00:00:00\", \"2019-01-27T00:00:00\", \"2019-02-03T00:00:00\", \"2019-02-10T00:00:00\", \"2019-02-17T00:00:00\", \"2019-02-24T00:00:00\", \"2019-03-03T00:00:00\", \"2019-03-10T00:00:00\", \"2019-03-17T00:00:00\", \"2019-03-24T00:00:00\", \"2019-03-31T00:00:00\", \"2019-04-07T00:00:00\", \"2019-04-14T00:00:00\", \"2019-04-21T00:00:00\", \"2019-04-28T00:00:00\", \"2019-05-05T00:00:00\", \"2019-05-12T00:00:00\", \"2019-05-19T00:00:00\", \"2019-05-26T00:00:00\", \"2019-06-02T00:00:00\", \"2019-06-09T00:00:00\", \"2019-06-16T00:00:00\", \"2019-06-23T00:00:00\", \"2019-06-30T00:00:00\", \"2019-07-07T00:00:00\", \"2019-07-14T00:00:00\", \"2019-07-21T00:00:00\", \"2019-07-28T00:00:00\", \"2019-08-04T00:00:00\", \"2019-08-11T00:00:00\", \"2019-08-18T00:00:00\", \"2019-08-25T00:00:00\", \"2019-09-01T00:00:00\", \"2019-09-08T00:00:00\", \"2019-09-15T00:00:00\", \"2019-09-22T00:00:00\", \"2019-09-29T00:00:00\", \"2019-10-06T00:00:00\", \"2019-10-13T00:00:00\", \"2019-10-20T00:00:00\", \"2019-10-27T00:00:00\", \"2019-11-03T00:00:00\", \"2019-11-10T00:00:00\", \"2019-11-17T00:00:00\", \"2019-11-24T00:00:00\", \"2019-12-01T00:00:00\", \"2019-12-08T00:00:00\", \"2019-12-15T00:00:00\", \"2019-12-22T00:00:00\", \"2019-12-29T00:00:00\", \"2020-01-05T00:00:00\", \"2020-01-12T00:00:00\", \"2020-01-19T00:00:00\", \"2020-01-26T00:00:00\", \"2020-02-02T00:00:00\", \"2020-02-09T00:00:00\"], \"xaxis\": \"x2\", \"y\": [1.219351176860373, 1.2198150158504686, 1.2202542817877038, 1.2204483808991886, 1.2204918263872104, 1.2204962764310683, 1.2204848849024048, 1.2203460570592723, 1.2202808462000592, 1.219836520819209, 1.2194201018361444, 1.2197599106625332, 1.2201592925915727, 1.2204972993391385, 1.2204867507895327, 1.2204711617875998, 1.2204638255085396, 1.2204799454281268, 1.2205126536270572, 1.2204741813944544, 1.2204317043319586, 1.2204603533313823, 1.220010217401294, 1.2191802106417022, 1.21841243089056, 1.2184044594327317, 1.2184261194416939, 1.2184840946062885, 1.2183877983586502, 1.2183147145753297, 1.2175377839265438, 1.2177784181453173, 1.2179850401302876, 1.2183542105552108, 1.2187573259546973, 1.218618627919843, 1.218498755831659, 1.2183956250426125, 1.218288099723854, 1.2192948886730282, 1.2203532734645957, 1.220218095170233, 1.2201527908639422, 1.2200687139164774, 1.2199502794480028, 1.2198758053032293, 1.21980113528101, 1.2197076344483315, 1.219646386125583, 1.219544342701528, 1.2194447624063036, 1.2193726008430492, 1.2193495091998412, 1.219428526858727, 1.219812772151711, 1.2203557525021893, 1.2210978811185647], \"yaxis\": \"y2\"}, {\"fill\": \"tonexty\", \"line\": {\"color\": \"#9FA0F8\"}, \"name\": \"yhat_lower J\", \"type\": \"scatter\", \"x\": [\"2019-01-13T00:00:00\", \"2019-01-20T00:00:00\", \"2019-01-27T00:00:00\", \"2019-02-03T00:00:00\", \"2019-02-10T00:00:00\", \"2019-02-17T00:00:00\", \"2019-02-24T00:00:00\", \"2019-03-03T00:00:00\", \"2019-03-10T00:00:00\", \"2019-03-17T00:00:00\", \"2019-03-24T00:00:00\", \"2019-03-31T00:00:00\", \"2019-04-07T00:00:00\", \"2019-04-14T00:00:00\", \"2019-04-21T00:00:00\", \"2019-04-28T00:00:00\", \"2019-05-05T00:00:00\", \"2019-05-12T00:00:00\", \"2019-05-19T00:00:00\", \"2019-05-26T00:00:00\", \"2019-06-02T00:00:00\", \"2019-06-09T00:00:00\", \"2019-06-16T00:00:00\", \"2019-06-23T00:00:00\", \"2019-06-30T00:00:00\", \"2019-07-07T00:00:00\", \"2019-07-14T00:00:00\", \"2019-07-21T00:00:00\", \"2019-07-28T00:00:00\", \"2019-08-04T00:00:00\", \"2019-08-11T00:00:00\", \"2019-08-18T00:00:00\", \"2019-08-25T00:00:00\", \"2019-09-01T00:00:00\", \"2019-09-08T00:00:00\", \"2019-09-15T00:00:00\", \"2019-09-22T00:00:00\", \"2019-09-29T00:00:00\", \"2019-10-06T00:00:00\", \"2019-10-13T00:00:00\", \"2019-10-20T00:00:00\", \"2019-10-27T00:00:00\", \"2019-11-03T00:00:00\", \"2019-11-10T00:00:00\", \"2019-11-17T00:00:00\", \"2019-11-24T00:00:00\", \"2019-12-01T00:00:00\", \"2019-12-08T00:00:00\", \"2019-12-15T00:00:00\", \"2019-12-22T00:00:00\", \"2019-12-29T00:00:00\", \"2020-01-05T00:00:00\", \"2020-01-12T00:00:00\", \"2020-01-19T00:00:00\", \"2020-01-26T00:00:00\", \"2020-02-02T00:00:00\", \"2020-02-09T00:00:00\"], \"xaxis\": \"x2\", \"y\": [1.2184065056781679, 1.2188807864542244, 1.2193034402583152, 1.2194578074757427, 1.2195546193819526, 1.2195991519766318, 1.2195661579668269, 1.2194242613146489, 1.2192865093934675, 1.2188820824428217, 1.2184887441904562, 1.2188107009649656, 1.2191571456463222, 1.219564702411714, 1.2195325365748426, 1.2195360969908948, 1.2195169374623767, 1.2195392321164769, 1.2195514682735311, 1.2195701165147665, 1.2194762916620259, 1.219519456320929, 1.2190499869651878, 1.218203322010538, 1.2174237990486034, 1.2174678693436132, 1.2174801159904471, 1.2175480898895654, 1.217408056054091, 1.2173615513310256, 1.216619490547686, 1.2168407489166924, 1.2170434650215947, 1.2174474453874737, 1.2177879941451226, 1.217728047259053, 1.2175198545183519, 1.217440675890238, 1.2173014363225532, 1.2183427428428015, 1.2193641014438599, 1.2192789400427644, 1.2192200827784296, 1.2191291541002034, 1.2190363942451543, 1.2189223163438312, 1.2188359729277614, 1.2187589428239738, 1.2187233477439445, 1.2186006945589143, 1.2185214823510786, 1.2183987628148898, 1.218306607058902, 1.2180334044803445, 1.2174870150582258, 1.2168315294334557, 1.216039022233443], \"yaxis\": \"y2\"}, {\"line\": {\"color\": \"#4280F5\"}, \"mode\": \"lines+markers\", \"name\": \"mean I\", \"type\": \"scatter\", \"x\": [\"2019-01-11T00:00:00\", \"2019-01-22T00:00:00\", \"2019-01-26T00:00:00\", \"2019-01-31T00:00:00\", \"2019-02-11T00:00:00\", \"2019-02-22T00:00:00\", \"2019-02-27T00:00:00\", \"2019-03-07T00:00:00\", \"2019-03-15T00:00:00\", \"2019-04-05T00:00:00\", \"2019-04-16T00:00:00\", \"2019-05-27T00:00:00\", \"2019-06-03T00:00:00\", \"2019-06-10T00:00:00\", \"2019-06-17T00:00:00\", \"2019-06-25T00:00:00\", \"2019-06-28T00:00:00\", \"2019-08-07T00:00:00\", \"2019-08-19T00:00:00\", \"2019-08-26T00:00:00\", \"2019-09-05T00:00:00\", \"2019-10-17T00:00:00\", \"2019-11-01T00:00:00\", \"2019-11-13T00:00:00\", \"2019-12-05T00:00:00\", \"2019-12-10T00:00:00\", \"2019-12-26T00:00:00\", \"2019-12-31T00:00:00\"], \"xaxis\": \"x3\", \"y\": [3.194, 3.199, 3.2, 3.196, 3.195, 3.198, 3.195, 3.195, 3.199, 3.2, 3.2, 3.199, 3.2, 3.204, 3.197, 3.195, 3.2, 3.201, 3.201, 3.2, 3.201, 3.198, 3.198, 3.197, 3.199, 3.2, 3.202, 3.201], \"yaxis\": \"y3\"}, {\"line\": {\"color\": \"#060891\"}, \"mode\": \"lines+markers\", \"name\": \"mean predict I\", \"type\": \"scatter\", \"x\": [\"2019-01-13T00:00:00\", \"2019-01-20T00:00:00\", \"2019-01-27T00:00:00\", \"2019-02-03T00:00:00\", \"2019-02-10T00:00:00\", \"2019-02-17T00:00:00\", \"2019-02-24T00:00:00\", \"2019-03-03T00:00:00\", \"2019-03-10T00:00:00\", \"2019-03-17T00:00:00\", \"2019-03-24T00:00:00\", \"2019-03-31T00:00:00\", \"2019-04-07T00:00:00\", \"2019-04-14T00:00:00\", \"2019-04-21T00:00:00\", \"2019-04-28T00:00:00\", \"2019-05-05T00:00:00\", \"2019-05-12T00:00:00\", \"2019-05-19T00:00:00\", \"2019-05-26T00:00:00\", \"2019-06-02T00:00:00\", \"2019-06-09T00:00:00\", \"2019-06-16T00:00:00\", \"2019-06-23T00:00:00\", \"2019-06-30T00:00:00\", \"2019-07-07T00:00:00\", \"2019-07-14T00:00:00\", \"2019-07-21T00:00:00\", \"2019-07-28T00:00:00\", \"2019-08-04T00:00:00\", \"2019-08-11T00:00:00\", \"2019-08-18T00:00:00\", \"2019-08-25T00:00:00\", \"2019-09-01T00:00:00\", \"2019-09-08T00:00:00\", \"2019-09-15T00:00:00\", \"2019-09-22T00:00:00\", \"2019-09-29T00:00:00\", \"2019-10-06T00:00:00\", \"2019-10-13T00:00:00\", \"2019-10-20T00:00:00\", \"2019-10-27T00:00:00\", \"2019-11-03T00:00:00\", \"2019-11-10T00:00:00\", \"2019-11-17T00:00:00\", \"2019-11-24T00:00:00\", \"2019-12-01T00:00:00\", \"2019-12-08T00:00:00\", \"2019-12-15T00:00:00\", \"2019-12-22T00:00:00\", \"2019-12-29T00:00:00\", \"2020-01-05T00:00:00\", \"2020-01-12T00:00:00\", \"2020-01-19T00:00:00\", \"2020-01-26T00:00:00\", \"2020-02-02T00:00:00\", \"2020-02-09T00:00:00\"], \"xaxis\": \"x3\", \"y\": [3.1932642573162218, 3.195788591351114, 3.198312925386006, 3.196589465831351, 3.1960894907098596, 3.195589515588368, 3.196477536789486, 3.196142309406131, 3.1958070820227764, 3.197510087754175, 3.199213093485573, 3.1994764769009136, 3.199739860311283, 3.200003243721653, 3.1999947468828056, 3.19996374964657, 3.1999327524103345, 3.1999012251298034, 3.199869697849272, 3.1998381705829475, 3.1999895329977517, 3.2001408954125554, 3.2013906847667815, 3.2003149033769263, 3.1992391219870715, 3.1994948370960654, 3.19975055220506, 3.1999681671282083, 3.2001857820536737, 3.200403396979139, 3.2006210118736447, 3.200683509751729, 3.2007460076298133, 3.200808505515301, 3.200871003400789, 3.200966247337307, 3.2010641963846487, 3.2011621454319905, 3.2012600945060594, 3.1992360125309576, 3.1972119305558566, 3.197509747718821, 3.1978075648817854, 3.19810538204475, 3.198403199207714, 3.198701016370679, 3.1989988335336434, 3.199296650696608, 3.1995944678595727, 3.1998922850225373, 3.200190102185502, 3.200487919348466, 3.2007857365114307, 3.2010835536743953, 3.20138137083736, 3.2016791880003246, 3.201977005163289], \"yaxis\": \"y3\"}, {\"line\": {\"color\": \"#FF5733\"}, \"name\": \"USL I\", \"type\": \"scatter\", \"x\": [\"2019-01-13T00:00:00\", \"2019-01-20T00:00:00\", \"2019-01-27T00:00:00\", \"2019-02-03T00:00:00\", \"2019-02-10T00:00:00\", \"2019-02-17T00:00:00\", \"2019-02-24T00:00:00\", \"2019-03-03T00:00:00\", \"2019-03-10T00:00:00\", \"2019-03-17T00:00:00\", \"2019-03-24T00:00:00\", \"2019-03-31T00:00:00\", \"2019-04-07T00:00:00\", \"2019-04-14T00:00:00\", \"2019-04-21T00:00:00\", \"2019-04-28T00:00:00\", \"2019-05-05T00:00:00\", \"2019-05-12T00:00:00\", \"2019-05-19T00:00:00\", \"2019-05-26T00:00:00\", \"2019-06-02T00:00:00\", \"2019-06-09T00:00:00\", \"2019-06-16T00:00:00\", \"2019-06-23T00:00:00\", \"2019-06-30T00:00:00\", \"2019-07-07T00:00:00\", \"2019-07-14T00:00:00\", \"2019-07-21T00:00:00\", \"2019-07-28T00:00:00\", \"2019-08-04T00:00:00\", \"2019-08-11T00:00:00\", \"2019-08-18T00:00:00\", \"2019-08-25T00:00:00\", \"2019-09-01T00:00:00\", \"2019-09-08T00:00:00\", \"2019-09-15T00:00:00\", \"2019-09-22T00:00:00\", \"2019-09-29T00:00:00\", \"2019-10-06T00:00:00\", \"2019-10-13T00:00:00\", \"2019-10-20T00:00:00\", \"2019-10-27T00:00:00\", \"2019-11-03T00:00:00\", \"2019-11-10T00:00:00\", \"2019-11-17T00:00:00\", \"2019-11-24T00:00:00\", \"2019-12-01T00:00:00\", \"2019-12-08T00:00:00\", \"2019-12-15T00:00:00\", \"2019-12-22T00:00:00\", \"2019-12-29T00:00:00\", \"2020-01-05T00:00:00\", \"2020-01-12T00:00:00\", \"2020-01-19T00:00:00\", \"2020-01-26T00:00:00\", \"2020-02-02T00:00:00\", \"2020-02-09T00:00:00\"], \"xaxis\": \"x3\", \"y\": [3.21, 3.21, 3.21, 3.21, 3.21, 3.21, 3.21, 3.21, 3.21, 3.21, 3.21, 3.21, 3.21, 3.21, 3.21, 3.21, 3.21, 3.21, 3.21, 3.21, 3.21, 3.21, 3.21, 3.21, 3.21, 3.21, 3.21, 3.21, 3.21, 3.21, 3.21, 3.21, 3.21, 3.21, 3.21, 3.21, 3.21, 3.21, 3.21, 3.21, 3.21, 3.21, 3.21, 3.21, 3.21, 3.21, 3.21, 3.21, 3.21, 3.21, 3.21, 3.21, 3.21, 3.21, 3.21, 3.21, 3.21], \"yaxis\": \"y3\"}, {\"line\": {\"color\": \"#FF5733\"}, \"name\": \"LSL I\", \"type\": \"scatter\", \"x\": [\"2019-01-13T00:00:00\", \"2019-01-20T00:00:00\", \"2019-01-27T00:00:00\", \"2019-02-03T00:00:00\", \"2019-02-10T00:00:00\", \"2019-02-17T00:00:00\", \"2019-02-24T00:00:00\", \"2019-03-03T00:00:00\", \"2019-03-10T00:00:00\", \"2019-03-17T00:00:00\", \"2019-03-24T00:00:00\", \"2019-03-31T00:00:00\", \"2019-04-07T00:00:00\", \"2019-04-14T00:00:00\", \"2019-04-21T00:00:00\", \"2019-04-28T00:00:00\", \"2019-05-05T00:00:00\", \"2019-05-12T00:00:00\", \"2019-05-19T00:00:00\", \"2019-05-26T00:00:00\", \"2019-06-02T00:00:00\", \"2019-06-09T00:00:00\", \"2019-06-16T00:00:00\", \"2019-06-23T00:00:00\", \"2019-06-30T00:00:00\", \"2019-07-07T00:00:00\", \"2019-07-14T00:00:00\", \"2019-07-21T00:00:00\", \"2019-07-28T00:00:00\", \"2019-08-04T00:00:00\", \"2019-08-11T00:00:00\", \"2019-08-18T00:00:00\", \"2019-08-25T00:00:00\", \"2019-09-01T00:00:00\", \"2019-09-08T00:00:00\", \"2019-09-15T00:00:00\", \"2019-09-22T00:00:00\", \"2019-09-29T00:00:00\", \"2019-10-06T00:00:00\", \"2019-10-13T00:00:00\", \"2019-10-20T00:00:00\", \"2019-10-27T00:00:00\", \"2019-11-03T00:00:00\", \"2019-11-10T00:00:00\", \"2019-11-17T00:00:00\", \"2019-11-24T00:00:00\", \"2019-12-01T00:00:00\", \"2019-12-08T00:00:00\", \"2019-12-15T00:00:00\", \"2019-12-22T00:00:00\", \"2019-12-29T00:00:00\", \"2020-01-05T00:00:00\", \"2020-01-12T00:00:00\", \"2020-01-19T00:00:00\", \"2020-01-26T00:00:00\", \"2020-02-02T00:00:00\", \"2020-02-09T00:00:00\"], \"xaxis\": \"x3\", \"y\": [3.1900000000000004, 3.1900000000000004, 3.1900000000000004, 3.1900000000000004, 3.1900000000000004, 3.1900000000000004, 3.1900000000000004, 3.1900000000000004, 3.1900000000000004, 3.1900000000000004, 3.1900000000000004, 3.1900000000000004, 3.1900000000000004, 3.1900000000000004, 3.1900000000000004, 3.1900000000000004, 3.1900000000000004, 3.1900000000000004, 3.1900000000000004, 3.1900000000000004, 3.1900000000000004, 3.1900000000000004, 3.1900000000000004, 3.1900000000000004, 3.1900000000000004, 3.1900000000000004, 3.1900000000000004, 3.1900000000000004, 3.1900000000000004, 3.1900000000000004, 3.1900000000000004, 3.1900000000000004, 3.1900000000000004, 3.1900000000000004, 3.1900000000000004, 3.1900000000000004, 3.1900000000000004, 3.1900000000000004, 3.1900000000000004, 3.1900000000000004, 3.1900000000000004, 3.1900000000000004, 3.1900000000000004, 3.1900000000000004, 3.1900000000000004, 3.1900000000000004, 3.1900000000000004, 3.1900000000000004, 3.1900000000000004, 3.1900000000000004, 3.1900000000000004, 3.1900000000000004, 3.1900000000000004, 3.1900000000000004, 3.1900000000000004, 3.1900000000000004, 3.1900000000000004], \"yaxis\": \"y3\"}, {\"line\": {\"color\": \"#FF5733\"}, \"name\": \"Nominal I\", \"type\": \"scatter\", \"x\": [\"2019-01-13T00:00:00\", \"2019-01-20T00:00:00\", \"2019-01-27T00:00:00\", \"2019-02-03T00:00:00\", \"2019-02-10T00:00:00\", \"2019-02-17T00:00:00\", \"2019-02-24T00:00:00\", \"2019-03-03T00:00:00\", \"2019-03-10T00:00:00\", \"2019-03-17T00:00:00\", \"2019-03-24T00:00:00\", \"2019-03-31T00:00:00\", \"2019-04-07T00:00:00\", \"2019-04-14T00:00:00\", \"2019-04-21T00:00:00\", \"2019-04-28T00:00:00\", \"2019-05-05T00:00:00\", \"2019-05-12T00:00:00\", \"2019-05-19T00:00:00\", \"2019-05-26T00:00:00\", \"2019-06-02T00:00:00\", \"2019-06-09T00:00:00\", \"2019-06-16T00:00:00\", \"2019-06-23T00:00:00\", \"2019-06-30T00:00:00\", \"2019-07-07T00:00:00\", \"2019-07-14T00:00:00\", \"2019-07-21T00:00:00\", \"2019-07-28T00:00:00\", \"2019-08-04T00:00:00\", \"2019-08-11T00:00:00\", \"2019-08-18T00:00:00\", \"2019-08-25T00:00:00\", \"2019-09-01T00:00:00\", \"2019-09-08T00:00:00\", \"2019-09-15T00:00:00\", \"2019-09-22T00:00:00\", \"2019-09-29T00:00:00\", \"2019-10-06T00:00:00\", \"2019-10-13T00:00:00\", \"2019-10-20T00:00:00\", \"2019-10-27T00:00:00\", \"2019-11-03T00:00:00\", \"2019-11-10T00:00:00\", \"2019-11-17T00:00:00\", \"2019-11-24T00:00:00\", \"2019-12-01T00:00:00\", \"2019-12-08T00:00:00\", \"2019-12-15T00:00:00\", \"2019-12-22T00:00:00\", \"2019-12-29T00:00:00\", \"2020-01-05T00:00:00\", \"2020-01-12T00:00:00\", \"2020-01-19T00:00:00\", \"2020-01-26T00:00:00\", \"2020-02-02T00:00:00\", \"2020-02-09T00:00:00\"], \"xaxis\": \"x3\", \"y\": [3.2, 3.2, 3.2, 3.2, 3.2, 3.2, 3.2, 3.2, 3.2, 3.2, 3.2, 3.2, 3.2, 3.2, 3.2, 3.2, 3.2, 3.2, 3.2, 3.2, 3.2, 3.2, 3.2, 3.2, 3.2, 3.2, 3.2, 3.2, 3.2, 3.2, 3.2, 3.2, 3.2, 3.2, 3.2, 3.2, 3.2, 3.2, 3.2, 3.2, 3.2, 3.2, 3.2, 3.2, 3.2, 3.2, 3.2, 3.2, 3.2, 3.2, 3.2, 3.2, 3.2, 3.2, 3.2, 3.2, 3.2], \"yaxis\": \"y3\"}, {\"line\": {\"color\": \"#33C2FF\"}, \"name\": \"UCL I\", \"type\": \"scatter\", \"x\": [\"2019-01-13T00:00:00\", \"2019-01-20T00:00:00\", \"2019-01-27T00:00:00\", \"2019-02-03T00:00:00\", \"2019-02-10T00:00:00\", \"2019-02-17T00:00:00\", \"2019-02-24T00:00:00\", \"2019-03-03T00:00:00\", \"2019-03-10T00:00:00\", \"2019-03-17T00:00:00\", \"2019-03-24T00:00:00\", \"2019-03-31T00:00:00\", \"2019-04-07T00:00:00\", \"2019-04-14T00:00:00\", \"2019-04-21T00:00:00\", \"2019-04-28T00:00:00\", \"2019-05-05T00:00:00\", \"2019-05-12T00:00:00\", \"2019-05-19T00:00:00\", \"2019-05-26T00:00:00\", \"2019-06-02T00:00:00\", \"2019-06-09T00:00:00\", \"2019-06-16T00:00:00\", \"2019-06-23T00:00:00\", \"2019-06-30T00:00:00\", \"2019-07-07T00:00:00\", \"2019-07-14T00:00:00\", \"2019-07-21T00:00:00\", \"2019-07-28T00:00:00\", \"2019-08-04T00:00:00\", \"2019-08-11T00:00:00\", \"2019-08-18T00:00:00\", \"2019-08-25T00:00:00\", \"2019-09-01T00:00:00\", \"2019-09-08T00:00:00\", \"2019-09-15T00:00:00\", \"2019-09-22T00:00:00\", \"2019-09-29T00:00:00\", \"2019-10-06T00:00:00\", \"2019-10-13T00:00:00\", \"2019-10-20T00:00:00\", \"2019-10-27T00:00:00\", \"2019-11-03T00:00:00\", \"2019-11-10T00:00:00\", \"2019-11-17T00:00:00\", \"2019-11-24T00:00:00\", \"2019-12-01T00:00:00\", \"2019-12-08T00:00:00\", \"2019-12-15T00:00:00\", \"2019-12-22T00:00:00\", \"2019-12-29T00:00:00\", \"2020-01-05T00:00:00\", \"2020-01-12T00:00:00\", \"2020-01-19T00:00:00\", \"2020-01-26T00:00:00\", \"2020-02-02T00:00:00\", \"2020-02-09T00:00:00\"], \"xaxis\": \"x3\", \"y\": [3.2061015334136274, 3.2061015334136274, 3.2061015334136274, 3.2061015334136274, 3.2061015334136274, 3.2061015334136274, 3.2061015334136274, 3.2061015334136274, 3.2061015334136274, 3.2061015334136274, 3.2061015334136274, 3.2061015334136274, 3.2061015334136274, 3.2061015334136274, 3.2061015334136274, 3.2061015334136274, 3.2061015334136274, 3.2061015334136274, 3.2061015334136274, 3.2061015334136274, 3.2061015334136274, 3.2061015334136274, 3.2061015334136274, 3.2061015334136274, 3.2061015334136274, 3.2061015334136274, 3.2061015334136274, 3.2061015334136274, 3.2061015334136274, 3.2061015334136274, 3.2061015334136274, 3.2061015334136274, 3.2061015334136274, 3.2061015334136274, 3.2061015334136274, 3.2061015334136274, 3.2061015334136274, 3.2061015334136274, 3.2061015334136274, 3.2061015334136274, 3.2061015334136274, 3.2061015334136274, 3.2061015334136274, 3.2061015334136274, 3.2061015334136274, 3.2061015334136274, 3.2061015334136274, 3.2061015334136274, 3.2061015334136274, 3.2061015334136274, 3.2061015334136274, 3.2061015334136274, 3.2061015334136274, 3.2061015334136274, 3.2061015334136274, 3.2061015334136274, 3.2061015334136274], \"yaxis\": \"y3\"}, {\"line\": {\"color\": \"#33C2FF\"}, \"name\": \"LCL I\", \"type\": \"scatter\", \"x\": [\"2019-01-13T00:00:00\", \"2019-01-20T00:00:00\", \"2019-01-27T00:00:00\", \"2019-02-03T00:00:00\", \"2019-02-10T00:00:00\", \"2019-02-17T00:00:00\", \"2019-02-24T00:00:00\", \"2019-03-03T00:00:00\", \"2019-03-10T00:00:00\", \"2019-03-17T00:00:00\", \"2019-03-24T00:00:00\", \"2019-03-31T00:00:00\", \"2019-04-07T00:00:00\", \"2019-04-14T00:00:00\", \"2019-04-21T00:00:00\", \"2019-04-28T00:00:00\", \"2019-05-05T00:00:00\", \"2019-05-12T00:00:00\", \"2019-05-19T00:00:00\", \"2019-05-26T00:00:00\", \"2019-06-02T00:00:00\", \"2019-06-09T00:00:00\", \"2019-06-16T00:00:00\", \"2019-06-23T00:00:00\", \"2019-06-30T00:00:00\", \"2019-07-07T00:00:00\", \"2019-07-14T00:00:00\", \"2019-07-21T00:00:00\", \"2019-07-28T00:00:00\", \"2019-08-04T00:00:00\", \"2019-08-11T00:00:00\", \"2019-08-18T00:00:00\", \"2019-08-25T00:00:00\", \"2019-09-01T00:00:00\", \"2019-09-08T00:00:00\", \"2019-09-15T00:00:00\", \"2019-09-22T00:00:00\", \"2019-09-29T00:00:00\", \"2019-10-06T00:00:00\", \"2019-10-13T00:00:00\", \"2019-10-20T00:00:00\", \"2019-10-27T00:00:00\", \"2019-11-03T00:00:00\", \"2019-11-10T00:00:00\", \"2019-11-17T00:00:00\", \"2019-11-24T00:00:00\", \"2019-12-01T00:00:00\", \"2019-12-08T00:00:00\", \"2019-12-15T00:00:00\", \"2019-12-22T00:00:00\", \"2019-12-29T00:00:00\", \"2020-01-05T00:00:00\", \"2020-01-12T00:00:00\", \"2020-01-19T00:00:00\", \"2020-01-26T00:00:00\", \"2020-02-02T00:00:00\", \"2020-02-09T00:00:00\"], \"xaxis\": \"x3\", \"y\": [3.1913270380149434, 3.1913270380149434, 3.1913270380149434, 3.1913270380149434, 3.1913270380149434, 3.1913270380149434, 3.1913270380149434, 3.1913270380149434, 3.1913270380149434, 3.1913270380149434, 3.1913270380149434, 3.1913270380149434, 3.1913270380149434, 3.1913270380149434, 3.1913270380149434, 3.1913270380149434, 3.1913270380149434, 3.1913270380149434, 3.1913270380149434, 3.1913270380149434, 3.1913270380149434, 3.1913270380149434, 3.1913270380149434, 3.1913270380149434, 3.1913270380149434, 3.1913270380149434, 3.1913270380149434, 3.1913270380149434, 3.1913270380149434, 3.1913270380149434, 3.1913270380149434, 3.1913270380149434, 3.1913270380149434, 3.1913270380149434, 3.1913270380149434, 3.1913270380149434, 3.1913270380149434, 3.1913270380149434, 3.1913270380149434, 3.1913270380149434, 3.1913270380149434, 3.1913270380149434, 3.1913270380149434, 3.1913270380149434, 3.1913270380149434, 3.1913270380149434, 3.1913270380149434, 3.1913270380149434, 3.1913270380149434, 3.1913270380149434, 3.1913270380149434, 3.1913270380149434, 3.1913270380149434, 3.1913270380149434, 3.1913270380149434, 3.1913270380149434, 3.1913270380149434], \"yaxis\": \"y3\"}, {\"line\": {\"color\": \"#33C2FF\"}, \"name\": \"mean I\", \"type\": \"scatter\", \"x\": [\"2019-01-13T00:00:00\", \"2019-01-20T00:00:00\", \"2019-01-27T00:00:00\", \"2019-02-03T00:00:00\", \"2019-02-10T00:00:00\", \"2019-02-17T00:00:00\", \"2019-02-24T00:00:00\", \"2019-03-03T00:00:00\", \"2019-03-10T00:00:00\", \"2019-03-17T00:00:00\", \"2019-03-24T00:00:00\", \"2019-03-31T00:00:00\", \"2019-04-07T00:00:00\", \"2019-04-14T00:00:00\", \"2019-04-21T00:00:00\", \"2019-04-28T00:00:00\", \"2019-05-05T00:00:00\", \"2019-05-12T00:00:00\", \"2019-05-19T00:00:00\", \"2019-05-26T00:00:00\", \"2019-06-02T00:00:00\", \"2019-06-09T00:00:00\", \"2019-06-16T00:00:00\", \"2019-06-23T00:00:00\", \"2019-06-30T00:00:00\", \"2019-07-07T00:00:00\", \"2019-07-14T00:00:00\", \"2019-07-21T00:00:00\", \"2019-07-28T00:00:00\", \"2019-08-04T00:00:00\", \"2019-08-11T00:00:00\", \"2019-08-18T00:00:00\", \"2019-08-25T00:00:00\", \"2019-09-01T00:00:00\", \"2019-09-08T00:00:00\", \"2019-09-15T00:00:00\", \"2019-09-22T00:00:00\", \"2019-09-29T00:00:00\", \"2019-10-06T00:00:00\", \"2019-10-13T00:00:00\", \"2019-10-20T00:00:00\", \"2019-10-27T00:00:00\", \"2019-11-03T00:00:00\", \"2019-11-10T00:00:00\", \"2019-11-17T00:00:00\", \"2019-11-24T00:00:00\", \"2019-12-01T00:00:00\", \"2019-12-08T00:00:00\", \"2019-12-15T00:00:00\", \"2019-12-22T00:00:00\", \"2019-12-29T00:00:00\", \"2020-01-05T00:00:00\", \"2020-01-12T00:00:00\", \"2020-01-19T00:00:00\", \"2020-01-26T00:00:00\", \"2020-02-02T00:00:00\", \"2020-02-09T00:00:00\"], \"xaxis\": \"x3\", \"y\": [3.1987142857142854, 3.1987142857142854, 3.1987142857142854, 3.1987142857142854, 3.1987142857142854, 3.1987142857142854, 3.1987142857142854, 3.1987142857142854, 3.1987142857142854, 3.1987142857142854, 3.1987142857142854, 3.1987142857142854, 3.1987142857142854, 3.1987142857142854, 3.1987142857142854, 3.1987142857142854, 3.1987142857142854, 3.1987142857142854, 3.1987142857142854, 3.1987142857142854, 3.1987142857142854, 3.1987142857142854, 3.1987142857142854, 3.1987142857142854, 3.1987142857142854, 3.1987142857142854, 3.1987142857142854, 3.1987142857142854, 3.1987142857142854, 3.1987142857142854, 3.1987142857142854, 3.1987142857142854, 3.1987142857142854, 3.1987142857142854, 3.1987142857142854, 3.1987142857142854, 3.1987142857142854, 3.1987142857142854, 3.1987142857142854, 3.1987142857142854, 3.1987142857142854, 3.1987142857142854, 3.1987142857142854, 3.1987142857142854, 3.1987142857142854, 3.1987142857142854, 3.1987142857142854, 3.1987142857142854, 3.1987142857142854, 3.1987142857142854, 3.1987142857142854, 3.1987142857142854, 3.1987142857142854, 3.1987142857142854, 3.1987142857142854, 3.1987142857142854, 3.1987142857142854], \"yaxis\": \"y3\"}, {\"line\": {\"color\": \"#9FA0F8\"}, \"name\": \"yhat_upper I\", \"type\": \"scatter\", \"x\": [\"2019-01-13T00:00:00\", \"2019-01-20T00:00:00\", \"2019-01-27T00:00:00\", \"2019-02-03T00:00:00\", \"2019-02-10T00:00:00\", \"2019-02-17T00:00:00\", \"2019-02-24T00:00:00\", \"2019-03-03T00:00:00\", \"2019-03-10T00:00:00\", \"2019-03-17T00:00:00\", \"2019-03-24T00:00:00\", \"2019-03-31T00:00:00\", \"2019-04-07T00:00:00\", \"2019-04-14T00:00:00\", \"2019-04-21T00:00:00\", \"2019-04-28T00:00:00\", \"2019-05-05T00:00:00\", \"2019-05-12T00:00:00\", \"2019-05-19T00:00:00\", \"2019-05-26T00:00:00\", \"2019-06-02T00:00:00\", \"2019-06-09T00:00:00\", \"2019-06-16T00:00:00\", \"2019-06-23T00:00:00\", \"2019-06-30T00:00:00\", \"2019-07-07T00:00:00\", \"2019-07-14T00:00:00\", \"2019-07-21T00:00:00\", \"2019-07-28T00:00:00\", \"2019-08-04T00:00:00\", \"2019-08-11T00:00:00\", \"2019-08-18T00:00:00\", \"2019-08-25T00:00:00\", \"2019-09-01T00:00:00\", \"2019-09-08T00:00:00\", \"2019-09-15T00:00:00\", \"2019-09-22T00:00:00\", \"2019-09-29T00:00:00\", \"2019-10-06T00:00:00\", \"2019-10-13T00:00:00\", \"2019-10-20T00:00:00\", \"2019-10-27T00:00:00\", \"2019-11-03T00:00:00\", \"2019-11-10T00:00:00\", \"2019-11-17T00:00:00\", \"2019-11-24T00:00:00\", \"2019-12-01T00:00:00\", \"2019-12-08T00:00:00\", \"2019-12-15T00:00:00\", \"2019-12-22T00:00:00\", \"2019-12-29T00:00:00\", \"2020-01-05T00:00:00\", \"2020-01-12T00:00:00\", \"2020-01-19T00:00:00\", \"2020-01-26T00:00:00\", \"2020-02-02T00:00:00\", \"2020-02-09T00:00:00\"], \"xaxis\": \"x3\", \"y\": [3.1945793592164313, 3.196993583982223, 3.199675091562863, 3.19784230799981, 3.1974038766399238, 3.1968908485042364, 3.197685091504688, 3.1973954853396513, 3.1971773876744978, 3.198789015495253, 3.2005541614143875, 3.200782558378823, 3.20102681899256, 3.2013485631849385, 3.20122211917551, 3.2012718539446174, 3.2012630198270005, 3.201171368640984, 3.2011460073647613, 3.201103450484973, 3.201294833539432, 3.201426892398333, 3.2026365591048096, 3.2015895563140764, 3.2005295830805545, 3.2008429276907764, 3.201085628183499, 3.201182966015933, 3.201448010815313, 3.2016736219937343, 3.201819132657616, 3.2020609558910045, 3.202024521316968, 3.2020030114597104, 3.2021819420187567, 3.202247167958073, 3.2022960549602475, 3.202464328270294, 3.202548508615595, 3.2005348550799004, 3.198443212986724, 3.1988083474385065, 3.1990088348946215, 3.199418459984207, 3.1996112915698784, 3.1998863606855648, 3.2003307592367873, 3.200604102113841, 3.2008355625281406, 3.201084560271318, 3.2015284250736205, 3.201735979040273, 3.2021530185373046, 3.2029810869449946, 3.204267693389739, 3.206134516348749, 3.208113349727325], \"yaxis\": \"y3\"}, {\"fill\": \"tonexty\", \"line\": {\"color\": \"#9FA0F8\"}, \"name\": \"yhat_lower I\", \"type\": \"scatter\", \"x\": [\"2019-01-13T00:00:00\", \"2019-01-20T00:00:00\", \"2019-01-27T00:00:00\", \"2019-02-03T00:00:00\", \"2019-02-10T00:00:00\", \"2019-02-17T00:00:00\", \"2019-02-24T00:00:00\", \"2019-03-03T00:00:00\", \"2019-03-10T00:00:00\", \"2019-03-17T00:00:00\", \"2019-03-24T00:00:00\", \"2019-03-31T00:00:00\", \"2019-04-07T00:00:00\", \"2019-04-14T00:00:00\", \"2019-04-21T00:00:00\", \"2019-04-28T00:00:00\", \"2019-05-05T00:00:00\", \"2019-05-12T00:00:00\", \"2019-05-19T00:00:00\", \"2019-05-26T00:00:00\", \"2019-06-02T00:00:00\", \"2019-06-09T00:00:00\", \"2019-06-16T00:00:00\", \"2019-06-23T00:00:00\", \"2019-06-30T00:00:00\", \"2019-07-07T00:00:00\", \"2019-07-14T00:00:00\", \"2019-07-21T00:00:00\", \"2019-07-28T00:00:00\", \"2019-08-04T00:00:00\", \"2019-08-11T00:00:00\", \"2019-08-18T00:00:00\", \"2019-08-25T00:00:00\", \"2019-09-01T00:00:00\", \"2019-09-08T00:00:00\", \"2019-09-15T00:00:00\", \"2019-09-22T00:00:00\", \"2019-09-29T00:00:00\", \"2019-10-06T00:00:00\", \"2019-10-13T00:00:00\", \"2019-10-20T00:00:00\", \"2019-10-27T00:00:00\", \"2019-11-03T00:00:00\", \"2019-11-10T00:00:00\", \"2019-11-17T00:00:00\", \"2019-11-24T00:00:00\", \"2019-12-01T00:00:00\", \"2019-12-08T00:00:00\", \"2019-12-15T00:00:00\", \"2019-12-22T00:00:00\", \"2019-12-29T00:00:00\", \"2020-01-05T00:00:00\", \"2020-01-12T00:00:00\", \"2020-01-19T00:00:00\", \"2020-01-26T00:00:00\", \"2020-02-02T00:00:00\", \"2020-02-09T00:00:00\"], \"xaxis\": \"x3\", \"y\": [3.1920203238217058, 3.194522619988133, 3.1970824141104353, 3.1952425599746177, 3.194808106940961, 3.1943263307643854, 3.1951843376935183, 3.1949015139361228, 3.194576523997804, 3.1962064304867415, 3.1979693464256655, 3.198307193299967, 3.1984866945276886, 3.1986919493215478, 3.1987094994782725, 3.1986493187550247, 3.198679830665392, 3.19859834544191, 3.1985445733029185, 3.198539020024373, 3.1987303614199036, 3.198849697594801, 3.200147147118041, 3.1989507031996056, 3.1979743913607477, 3.1982370071110053, 3.198439232104569, 3.198768487234211, 3.198903108072626, 3.1990589820462225, 3.1993358237429987, 3.1995130951601998, 3.199418126641139, 3.1995785022075696, 3.1996333202149416, 3.1996674354164787, 3.1997668243383894, 3.1998481022362673, 3.2000507775027716, 3.1979804061016113, 3.1959648288908205, 3.1961941886270453, 3.196487631102289, 3.1969630123556056, 3.197092358429418, 3.197370625652984, 3.1976877907933265, 3.198126400806874, 3.1983736424861258, 3.1985724626689507, 3.1989651166548096, 3.1993234340586802, 3.199404975584261, 3.199131300488328, 3.198354404669565, 3.197341110895253, 3.1954700857373513], \"yaxis\": \"y3\"}, {\"line\": {\"color\": \"#4280F5\"}, \"mode\": \"lines+markers\", \"name\": \"mean O\", \"type\": \"scatter\", \"x\": [\"2019-01-11T00:00:00\", \"2019-01-22T00:00:00\", \"2019-01-26T00:00:00\", \"2019-01-31T00:00:00\", \"2019-02-11T00:00:00\", \"2019-02-22T00:00:00\", \"2019-02-27T00:00:00\", \"2019-03-07T00:00:00\", \"2019-03-15T00:00:00\", \"2019-04-05T00:00:00\", \"2019-04-16T00:00:00\", \"2019-05-27T00:00:00\", \"2019-06-03T00:00:00\", \"2019-06-10T00:00:00\", \"2019-06-17T00:00:00\", \"2019-06-25T00:00:00\", \"2019-06-28T00:00:00\", \"2019-08-07T00:00:00\", \"2019-08-19T00:00:00\", \"2019-08-26T00:00:00\", \"2019-09-05T00:00:00\", \"2019-10-17T00:00:00\", \"2019-11-01T00:00:00\", \"2019-11-13T00:00:00\", \"2019-12-05T00:00:00\", \"2019-12-10T00:00:00\", \"2019-12-26T00:00:00\", \"2019-12-31T00:00:00\"], \"xaxis\": \"x4\", \"y\": [11.853, 11.852, 11.853, 11.855, 11.854, 11.852, 11.855, 11.857, 11.853, 11.856, 11.853, 11.853, 11.852, 11.856, 11.859, 11.86, 11.856, 11.851, 11.849, 11.85, 11.856, 11.849, 11.849, 11.851, 11.849, 11.852, 11.849, 11.848], \"yaxis\": \"y4\"}, {\"line\": {\"color\": \"#060891\"}, \"mode\": \"lines+markers\", \"name\": \"mean predict O\", \"type\": \"scatter\", \"x\": [\"2019-01-13T00:00:00\", \"2019-01-20T00:00:00\", \"2019-01-27T00:00:00\", \"2019-02-03T00:00:00\", \"2019-02-10T00:00:00\", \"2019-02-17T00:00:00\", \"2019-02-24T00:00:00\", \"2019-03-03T00:00:00\", \"2019-03-10T00:00:00\", \"2019-03-17T00:00:00\", \"2019-03-24T00:00:00\", \"2019-03-31T00:00:00\", \"2019-04-07T00:00:00\", \"2019-04-14T00:00:00\", \"2019-04-21T00:00:00\", \"2019-04-28T00:00:00\", \"2019-05-05T00:00:00\", \"2019-05-12T00:00:00\", \"2019-05-19T00:00:00\", \"2019-05-26T00:00:00\", \"2019-06-02T00:00:00\", \"2019-06-09T00:00:00\", \"2019-06-16T00:00:00\", \"2019-06-23T00:00:00\", \"2019-06-30T00:00:00\", \"2019-07-07T00:00:00\", \"2019-07-14T00:00:00\", \"2019-07-21T00:00:00\", \"2019-07-28T00:00:00\", \"2019-08-04T00:00:00\", \"2019-08-11T00:00:00\", \"2019-08-18T00:00:00\", \"2019-08-25T00:00:00\", \"2019-09-01T00:00:00\", \"2019-09-08T00:00:00\", \"2019-09-15T00:00:00\", \"2019-09-22T00:00:00\", \"2019-09-29T00:00:00\", \"2019-10-06T00:00:00\", \"2019-10-13T00:00:00\", \"2019-10-20T00:00:00\", \"2019-10-27T00:00:00\", \"2019-11-03T00:00:00\", \"2019-11-10T00:00:00\", \"2019-11-17T00:00:00\", \"2019-11-24T00:00:00\", \"2019-12-01T00:00:00\", \"2019-12-08T00:00:00\", \"2019-12-15T00:00:00\", \"2019-12-22T00:00:00\", \"2019-12-29T00:00:00\", \"2020-01-05T00:00:00\", \"2020-01-12T00:00:00\", \"2020-01-19T00:00:00\", \"2020-01-26T00:00:00\", \"2020-02-02T00:00:00\", \"2020-02-09T00:00:00\"], \"xaxis\": \"x4\", \"y\": [11.8529373225488, 11.853050115685129, 11.853162908821455, 11.855066481791441, 11.854566446187931, 11.854066410584423, 11.85249612402853, 11.8544586185571, 11.85642111308567, 11.854398688863098, 11.85237626464053, 11.853599493486314, 11.854949753157088, 11.856300012827864, 11.853118285185573, 11.853064671102436, 11.853011057019298, 11.853010129721978, 11.853009202424662, 11.853008275012783, 11.852695650154388, 11.852383025295994, 11.856920268802492, 11.85685947922319, 11.856798689643888, 11.85639389111245, 11.855989092581012, 11.855950904625942, 11.855912712921329, 11.855874521216716, 11.85159747978195, 11.850105862427826, 11.848614245073703, 11.85181565498777, 11.855017064901837, 11.855899852999555, 11.856050108169564, 11.856200363339571, 11.857030382764624, 11.853488483770747, 11.84994658477687, 11.849961308200104, 11.849976031623338, 11.849990755046573, 11.850005478469809, 11.850020201893043, 11.85003492531628, 11.850049648739512, 11.850064372162748, 11.850079095585983, 11.850093819009219, 11.850108542432453, 11.850123265855688, 11.850137989278922, 11.850152712702158, 11.850167436125393, 11.850182159548629], \"yaxis\": \"y4\"}, {\"line\": {\"color\": \"#FF5733\"}, \"name\": \"USL O\", \"type\": \"scatter\", \"x\": [\"2019-01-13T00:00:00\", \"2019-01-20T00:00:00\", \"2019-01-27T00:00:00\", \"2019-02-03T00:00:00\", \"2019-02-10T00:00:00\", \"2019-02-17T00:00:00\", \"2019-02-24T00:00:00\", \"2019-03-03T00:00:00\", \"2019-03-10T00:00:00\", \"2019-03-17T00:00:00\", \"2019-03-24T00:00:00\", \"2019-03-31T00:00:00\", \"2019-04-07T00:00:00\", \"2019-04-14T00:00:00\", \"2019-04-21T00:00:00\", \"2019-04-28T00:00:00\", \"2019-05-05T00:00:00\", \"2019-05-12T00:00:00\", \"2019-05-19T00:00:00\", \"2019-05-26T00:00:00\", \"2019-06-02T00:00:00\", \"2019-06-09T00:00:00\", \"2019-06-16T00:00:00\", \"2019-06-23T00:00:00\", \"2019-06-30T00:00:00\", \"2019-07-07T00:00:00\", \"2019-07-14T00:00:00\", \"2019-07-21T00:00:00\", \"2019-07-28T00:00:00\", \"2019-08-04T00:00:00\", \"2019-08-11T00:00:00\", \"2019-08-18T00:00:00\", \"2019-08-25T00:00:00\", \"2019-09-01T00:00:00\", \"2019-09-08T00:00:00\", \"2019-09-15T00:00:00\", \"2019-09-22T00:00:00\", \"2019-09-29T00:00:00\", \"2019-10-06T00:00:00\", \"2019-10-13T00:00:00\", \"2019-10-20T00:00:00\", \"2019-10-27T00:00:00\", \"2019-11-03T00:00:00\", \"2019-11-10T00:00:00\", \"2019-11-17T00:00:00\", \"2019-11-24T00:00:00\", \"2019-12-01T00:00:00\", \"2019-12-08T00:00:00\", \"2019-12-15T00:00:00\", \"2019-12-22T00:00:00\", \"2019-12-29T00:00:00\", \"2020-01-05T00:00:00\", \"2020-01-12T00:00:00\", \"2020-01-19T00:00:00\", \"2020-01-26T00:00:00\", \"2020-02-02T00:00:00\", \"2020-02-09T00:00:00\"], \"xaxis\": \"x4\", \"y\": [11.86, 11.86, 11.86, 11.86, 11.86, 11.86, 11.86, 11.86, 11.86, 11.86, 11.86, 11.86, 11.86, 11.86, 11.86, 11.86, 11.86, 11.86, 11.86, 11.86, 11.86, 11.86, 11.86, 11.86, 11.86, 11.86, 11.86, 11.86, 11.86, 11.86, 11.86, 11.86, 11.86, 11.86, 11.86, 11.86, 11.86, 11.86, 11.86, 11.86, 11.86, 11.86, 11.86, 11.86, 11.86, 11.86, 11.86, 11.86, 11.86, 11.86, 11.86, 11.86, 11.86, 11.86, 11.86, 11.86, 11.86], \"yaxis\": \"y4\"}, {\"line\": {\"color\": \"#FF5733\"}, \"name\": \"LSL O\", \"type\": \"scatter\", \"x\": [\"2019-01-13T00:00:00\", \"2019-01-20T00:00:00\", \"2019-01-27T00:00:00\", \"2019-02-03T00:00:00\", \"2019-02-10T00:00:00\", \"2019-02-17T00:00:00\", \"2019-02-24T00:00:00\", \"2019-03-03T00:00:00\", \"2019-03-10T00:00:00\", \"2019-03-17T00:00:00\", \"2019-03-24T00:00:00\", \"2019-03-31T00:00:00\", \"2019-04-07T00:00:00\", \"2019-04-14T00:00:00\", \"2019-04-21T00:00:00\", \"2019-04-28T00:00:00\", \"2019-05-05T00:00:00\", \"2019-05-12T00:00:00\", \"2019-05-19T00:00:00\", \"2019-05-26T00:00:00\", \"2019-06-02T00:00:00\", \"2019-06-09T00:00:00\", \"2019-06-16T00:00:00\", \"2019-06-23T00:00:00\", \"2019-06-30T00:00:00\", \"2019-07-07T00:00:00\", \"2019-07-14T00:00:00\", \"2019-07-21T00:00:00\", \"2019-07-28T00:00:00\", \"2019-08-04T00:00:00\", \"2019-08-11T00:00:00\", \"2019-08-18T00:00:00\", \"2019-08-25T00:00:00\", \"2019-09-01T00:00:00\", \"2019-09-08T00:00:00\", \"2019-09-15T00:00:00\", \"2019-09-22T00:00:00\", \"2019-09-29T00:00:00\", \"2019-10-06T00:00:00\", \"2019-10-13T00:00:00\", \"2019-10-20T00:00:00\", \"2019-10-27T00:00:00\", \"2019-11-03T00:00:00\", \"2019-11-10T00:00:00\", \"2019-11-17T00:00:00\", \"2019-11-24T00:00:00\", \"2019-12-01T00:00:00\", \"2019-12-08T00:00:00\", \"2019-12-15T00:00:00\", \"2019-12-22T00:00:00\", \"2019-12-29T00:00:00\", \"2020-01-05T00:00:00\", \"2020-01-12T00:00:00\", \"2020-01-19T00:00:00\", \"2020-01-26T00:00:00\", \"2020-02-02T00:00:00\", \"2020-02-09T00:00:00\"], \"xaxis\": \"x4\", \"y\": [11.84, 11.84, 11.84, 11.84, 11.84, 11.84, 11.84, 11.84, 11.84, 11.84, 11.84, 11.84, 11.84, 11.84, 11.84, 11.84, 11.84, 11.84, 11.84, 11.84, 11.84, 11.84, 11.84, 11.84, 11.84, 11.84, 11.84, 11.84, 11.84, 11.84, 11.84, 11.84, 11.84, 11.84, 11.84, 11.84, 11.84, 11.84, 11.84, 11.84, 11.84, 11.84, 11.84, 11.84, 11.84, 11.84, 11.84, 11.84, 11.84, 11.84, 11.84, 11.84, 11.84, 11.84, 11.84, 11.84, 11.84], \"yaxis\": \"y4\"}, {\"line\": {\"color\": \"#FF5733\"}, \"name\": \"Nominal O\", \"type\": \"scatter\", \"x\": [\"2019-01-13T00:00:00\", \"2019-01-20T00:00:00\", \"2019-01-27T00:00:00\", \"2019-02-03T00:00:00\", \"2019-02-10T00:00:00\", \"2019-02-17T00:00:00\", \"2019-02-24T00:00:00\", \"2019-03-03T00:00:00\", \"2019-03-10T00:00:00\", \"2019-03-17T00:00:00\", \"2019-03-24T00:00:00\", \"2019-03-31T00:00:00\", \"2019-04-07T00:00:00\", \"2019-04-14T00:00:00\", \"2019-04-21T00:00:00\", \"2019-04-28T00:00:00\", \"2019-05-05T00:00:00\", \"2019-05-12T00:00:00\", \"2019-05-19T00:00:00\", \"2019-05-26T00:00:00\", \"2019-06-02T00:00:00\", \"2019-06-09T00:00:00\", \"2019-06-16T00:00:00\", \"2019-06-23T00:00:00\", \"2019-06-30T00:00:00\", \"2019-07-07T00:00:00\", \"2019-07-14T00:00:00\", \"2019-07-21T00:00:00\", \"2019-07-28T00:00:00\", \"2019-08-04T00:00:00\", \"2019-08-11T00:00:00\", \"2019-08-18T00:00:00\", \"2019-08-25T00:00:00\", \"2019-09-01T00:00:00\", \"2019-09-08T00:00:00\", \"2019-09-15T00:00:00\", \"2019-09-22T00:00:00\", \"2019-09-29T00:00:00\", \"2019-10-06T00:00:00\", \"2019-10-13T00:00:00\", \"2019-10-20T00:00:00\", \"2019-10-27T00:00:00\", \"2019-11-03T00:00:00\", \"2019-11-10T00:00:00\", \"2019-11-17T00:00:00\", \"2019-11-24T00:00:00\", \"2019-12-01T00:00:00\", \"2019-12-08T00:00:00\", \"2019-12-15T00:00:00\", \"2019-12-22T00:00:00\", \"2019-12-29T00:00:00\", \"2020-01-05T00:00:00\", \"2020-01-12T00:00:00\", \"2020-01-19T00:00:00\", \"2020-01-26T00:00:00\", \"2020-02-02T00:00:00\", \"2020-02-09T00:00:00\"], \"xaxis\": \"x4\", \"y\": [11.85, 11.85, 11.85, 11.85, 11.85, 11.85, 11.85, 11.85, 11.85, 11.85, 11.85, 11.85, 11.85, 11.85, 11.85, 11.85, 11.85, 11.85, 11.85, 11.85, 11.85, 11.85, 11.85, 11.85, 11.85, 11.85, 11.85, 11.85, 11.85, 11.85, 11.85, 11.85, 11.85, 11.85, 11.85, 11.85, 11.85, 11.85, 11.85, 11.85, 11.85, 11.85, 11.85, 11.85, 11.85, 11.85, 11.85, 11.85, 11.85, 11.85, 11.85, 11.85, 11.85, 11.85, 11.85, 11.85, 11.85], \"yaxis\": \"y4\"}, {\"line\": {\"color\": \"#33C2FF\"}, \"name\": \"UCL O\", \"type\": \"scatter\", \"x\": [\"2019-01-13T00:00:00\", \"2019-01-20T00:00:00\", \"2019-01-27T00:00:00\", \"2019-02-03T00:00:00\", \"2019-02-10T00:00:00\", \"2019-02-17T00:00:00\", \"2019-02-24T00:00:00\", \"2019-03-03T00:00:00\", \"2019-03-10T00:00:00\", \"2019-03-17T00:00:00\", \"2019-03-24T00:00:00\", \"2019-03-31T00:00:00\", \"2019-04-07T00:00:00\", \"2019-04-14T00:00:00\", \"2019-04-21T00:00:00\", \"2019-04-28T00:00:00\", \"2019-05-05T00:00:00\", \"2019-05-12T00:00:00\", \"2019-05-19T00:00:00\", \"2019-05-26T00:00:00\", \"2019-06-02T00:00:00\", \"2019-06-09T00:00:00\", \"2019-06-16T00:00:00\", \"2019-06-23T00:00:00\", \"2019-06-30T00:00:00\", \"2019-07-07T00:00:00\", \"2019-07-14T00:00:00\", \"2019-07-21T00:00:00\", \"2019-07-28T00:00:00\", \"2019-08-04T00:00:00\", \"2019-08-11T00:00:00\", \"2019-08-18T00:00:00\", \"2019-08-25T00:00:00\", \"2019-09-01T00:00:00\", \"2019-09-08T00:00:00\", \"2019-09-15T00:00:00\", \"2019-09-22T00:00:00\", \"2019-09-29T00:00:00\", \"2019-10-06T00:00:00\", \"2019-10-13T00:00:00\", \"2019-10-20T00:00:00\", \"2019-10-27T00:00:00\", \"2019-11-03T00:00:00\", \"2019-11-10T00:00:00\", \"2019-11-17T00:00:00\", \"2019-11-24T00:00:00\", \"2019-12-01T00:00:00\", \"2019-12-08T00:00:00\", \"2019-12-15T00:00:00\", \"2019-12-22T00:00:00\", \"2019-12-29T00:00:00\", \"2020-01-05T00:00:00\", \"2020-01-12T00:00:00\", \"2020-01-19T00:00:00\", \"2020-01-26T00:00:00\", \"2020-02-02T00:00:00\", \"2020-02-09T00:00:00\"], \"xaxis\": \"x4\", \"y\": [11.862447975171401, 11.862447975171401, 11.862447975171401, 11.862447975171401, 11.862447975171401, 11.862447975171401, 11.862447975171401, 11.862447975171401, 11.862447975171401, 11.862447975171401, 11.862447975171401, 11.862447975171401, 11.862447975171401, 11.862447975171401, 11.862447975171401, 11.862447975171401, 11.862447975171401, 11.862447975171401, 11.862447975171401, 11.862447975171401, 11.862447975171401, 11.862447975171401, 11.862447975171401, 11.862447975171401, 11.862447975171401, 11.862447975171401, 11.862447975171401, 11.862447975171401, 11.862447975171401, 11.862447975171401, 11.862447975171401, 11.862447975171401, 11.862447975171401, 11.862447975171401, 11.862447975171401, 11.862447975171401, 11.862447975171401, 11.862447975171401, 11.862447975171401, 11.862447975171401, 11.862447975171401, 11.862447975171401, 11.862447975171401, 11.862447975171401, 11.862447975171401, 11.862447975171401, 11.862447975171401, 11.862447975171401, 11.862447975171401, 11.862447975171401, 11.862447975171401, 11.862447975171401, 11.862447975171401, 11.862447975171401, 11.862447975171401, 11.862447975171401, 11.862447975171401], \"yaxis\": \"y4\"}, {\"line\": {\"color\": \"#33C2FF\"}, \"name\": \"LCL O\", \"type\": \"scatter\", \"x\": [\"2019-01-13T00:00:00\", \"2019-01-20T00:00:00\", \"2019-01-27T00:00:00\", \"2019-02-03T00:00:00\", \"2019-02-10T00:00:00\", \"2019-02-17T00:00:00\", \"2019-02-24T00:00:00\", \"2019-03-03T00:00:00\", \"2019-03-10T00:00:00\", \"2019-03-17T00:00:00\", \"2019-03-24T00:00:00\", \"2019-03-31T00:00:00\", \"2019-04-07T00:00:00\", \"2019-04-14T00:00:00\", \"2019-04-21T00:00:00\", \"2019-04-28T00:00:00\", \"2019-05-05T00:00:00\", \"2019-05-12T00:00:00\", \"2019-05-19T00:00:00\", \"2019-05-26T00:00:00\", \"2019-06-02T00:00:00\", \"2019-06-09T00:00:00\", \"2019-06-16T00:00:00\", \"2019-06-23T00:00:00\", \"2019-06-30T00:00:00\", \"2019-07-07T00:00:00\", \"2019-07-14T00:00:00\", \"2019-07-21T00:00:00\", \"2019-07-28T00:00:00\", \"2019-08-04T00:00:00\", \"2019-08-11T00:00:00\", \"2019-08-18T00:00:00\", \"2019-08-25T00:00:00\", \"2019-09-01T00:00:00\", \"2019-09-08T00:00:00\", \"2019-09-15T00:00:00\", \"2019-09-22T00:00:00\", \"2019-09-29T00:00:00\", \"2019-10-06T00:00:00\", \"2019-10-13T00:00:00\", \"2019-10-20T00:00:00\", \"2019-10-27T00:00:00\", \"2019-11-03T00:00:00\", \"2019-11-10T00:00:00\", \"2019-11-17T00:00:00\", \"2019-11-24T00:00:00\", \"2019-12-01T00:00:00\", \"2019-12-08T00:00:00\", \"2019-12-15T00:00:00\", \"2019-12-22T00:00:00\", \"2019-12-29T00:00:00\", \"2020-01-05T00:00:00\", \"2020-01-12T00:00:00\", \"2020-01-19T00:00:00\", \"2020-01-26T00:00:00\", \"2020-02-02T00:00:00\", \"2020-02-09T00:00:00\"], \"xaxis\": \"x4\", \"y\": [11.843409167685737, 11.843409167685737, 11.843409167685737, 11.843409167685737, 11.843409167685737, 11.843409167685737, 11.843409167685737, 11.843409167685737, 11.843409167685737, 11.843409167685737, 11.843409167685737, 11.843409167685737, 11.843409167685737, 11.843409167685737, 11.843409167685737, 11.843409167685737, 11.843409167685737, 11.843409167685737, 11.843409167685737, 11.843409167685737, 11.843409167685737, 11.843409167685737, 11.843409167685737, 11.843409167685737, 11.843409167685737, 11.843409167685737, 11.843409167685737, 11.843409167685737, 11.843409167685737, 11.843409167685737, 11.843409167685737, 11.843409167685737, 11.843409167685737, 11.843409167685737, 11.843409167685737, 11.843409167685737, 11.843409167685737, 11.843409167685737, 11.843409167685737, 11.843409167685737, 11.843409167685737, 11.843409167685737, 11.843409167685737, 11.843409167685737, 11.843409167685737, 11.843409167685737, 11.843409167685737, 11.843409167685737, 11.843409167685737, 11.843409167685737, 11.843409167685737, 11.843409167685737, 11.843409167685737, 11.843409167685737, 11.843409167685737, 11.843409167685737, 11.843409167685737], \"yaxis\": \"y4\"}, {\"line\": {\"color\": \"#33C2FF\"}, \"name\": \"mean O\", \"type\": \"scatter\", \"x\": [\"2019-01-13T00:00:00\", \"2019-01-20T00:00:00\", \"2019-01-27T00:00:00\", \"2019-02-03T00:00:00\", \"2019-02-10T00:00:00\", \"2019-02-17T00:00:00\", \"2019-02-24T00:00:00\", \"2019-03-03T00:00:00\", \"2019-03-10T00:00:00\", \"2019-03-17T00:00:00\", \"2019-03-24T00:00:00\", \"2019-03-31T00:00:00\", \"2019-04-07T00:00:00\", \"2019-04-14T00:00:00\", \"2019-04-21T00:00:00\", \"2019-04-28T00:00:00\", \"2019-05-05T00:00:00\", \"2019-05-12T00:00:00\", \"2019-05-19T00:00:00\", \"2019-05-26T00:00:00\", \"2019-06-02T00:00:00\", \"2019-06-09T00:00:00\", \"2019-06-16T00:00:00\", \"2019-06-23T00:00:00\", \"2019-06-30T00:00:00\", \"2019-07-07T00:00:00\", \"2019-07-14T00:00:00\", \"2019-07-21T00:00:00\", \"2019-07-28T00:00:00\", \"2019-08-04T00:00:00\", \"2019-08-11T00:00:00\", \"2019-08-18T00:00:00\", \"2019-08-25T00:00:00\", \"2019-09-01T00:00:00\", \"2019-09-08T00:00:00\", \"2019-09-15T00:00:00\", \"2019-09-22T00:00:00\", \"2019-09-29T00:00:00\", \"2019-10-06T00:00:00\", \"2019-10-13T00:00:00\", \"2019-10-20T00:00:00\", \"2019-10-27T00:00:00\", \"2019-11-03T00:00:00\", \"2019-11-10T00:00:00\", \"2019-11-17T00:00:00\", \"2019-11-24T00:00:00\", \"2019-12-01T00:00:00\", \"2019-12-08T00:00:00\", \"2019-12-15T00:00:00\", \"2019-12-22T00:00:00\", \"2019-12-29T00:00:00\", \"2020-01-05T00:00:00\", \"2020-01-12T00:00:00\", \"2020-01-19T00:00:00\", \"2020-01-26T00:00:00\", \"2020-02-02T00:00:00\", \"2020-02-09T00:00:00\"], \"xaxis\": \"x4\", \"y\": [11.852928571428569, 11.852928571428569, 11.852928571428569, 11.852928571428569, 11.852928571428569, 11.852928571428569, 11.852928571428569, 11.852928571428569, 11.852928571428569, 11.852928571428569, 11.852928571428569, 11.852928571428569, 11.852928571428569, 11.852928571428569, 11.852928571428569, 11.852928571428569, 11.852928571428569, 11.852928571428569, 11.852928571428569, 11.852928571428569, 11.852928571428569, 11.852928571428569, 11.852928571428569, 11.852928571428569, 11.852928571428569, 11.852928571428569, 11.852928571428569, 11.852928571428569, 11.852928571428569, 11.852928571428569, 11.852928571428569, 11.852928571428569, 11.852928571428569, 11.852928571428569, 11.852928571428569, 11.852928571428569, 11.852928571428569, 11.852928571428569, 11.852928571428569, 11.852928571428569, 11.852928571428569, 11.852928571428569, 11.852928571428569, 11.852928571428569, 11.852928571428569, 11.852928571428569, 11.852928571428569, 11.852928571428569, 11.852928571428569, 11.852928571428569, 11.852928571428569, 11.852928571428569, 11.852928571428569, 11.852928571428569, 11.852928571428569, 11.852928571428569, 11.852928571428569], \"yaxis\": \"y4\"}, {\"line\": {\"color\": \"#9FA0F8\"}, \"name\": \"yhat_upper O\", \"type\": \"scatter\", \"x\": [\"2019-01-13T00:00:00\", \"2019-01-20T00:00:00\", \"2019-01-27T00:00:00\", \"2019-02-03T00:00:00\", \"2019-02-10T00:00:00\", \"2019-02-17T00:00:00\", \"2019-02-24T00:00:00\", \"2019-03-03T00:00:00\", \"2019-03-10T00:00:00\", \"2019-03-17T00:00:00\", \"2019-03-24T00:00:00\", \"2019-03-31T00:00:00\", \"2019-04-07T00:00:00\", \"2019-04-14T00:00:00\", \"2019-04-21T00:00:00\", \"2019-04-28T00:00:00\", \"2019-05-05T00:00:00\", \"2019-05-12T00:00:00\", \"2019-05-19T00:00:00\", \"2019-05-26T00:00:00\", \"2019-06-02T00:00:00\", \"2019-06-09T00:00:00\", \"2019-06-16T00:00:00\", \"2019-06-23T00:00:00\", \"2019-06-30T00:00:00\", \"2019-07-07T00:00:00\", \"2019-07-14T00:00:00\", \"2019-07-21T00:00:00\", \"2019-07-28T00:00:00\", \"2019-08-04T00:00:00\", \"2019-08-11T00:00:00\", \"2019-08-18T00:00:00\", \"2019-08-25T00:00:00\", \"2019-09-01T00:00:00\", \"2019-09-08T00:00:00\", \"2019-09-15T00:00:00\", \"2019-09-22T00:00:00\", \"2019-09-29T00:00:00\", \"2019-10-06T00:00:00\", \"2019-10-13T00:00:00\", \"2019-10-20T00:00:00\", \"2019-10-27T00:00:00\", \"2019-11-03T00:00:00\", \"2019-11-10T00:00:00\", \"2019-11-17T00:00:00\", \"2019-11-24T00:00:00\", \"2019-12-01T00:00:00\", \"2019-12-08T00:00:00\", \"2019-12-15T00:00:00\", \"2019-12-22T00:00:00\", \"2019-12-29T00:00:00\", \"2020-01-05T00:00:00\", \"2020-01-12T00:00:00\", \"2020-01-19T00:00:00\", \"2020-01-26T00:00:00\", \"2020-02-02T00:00:00\", \"2020-02-09T00:00:00\"], \"xaxis\": \"x4\", \"y\": [11.85414286038503, 11.85426702337975, 11.854265690833099, 11.856329519739532, 11.85576402821755, 11.855280773784418, 11.853654974275885, 11.855683396614962, 11.85751178784725, 11.8556050377376, 11.853470159145232, 11.854827697276043, 11.856062916876935, 11.857443848949316, 11.854330914937755, 11.854225284885702, 11.854218795861945, 11.854175629690577, 11.854323132108957, 11.854330825611212, 11.853896855164953, 11.853636413910621, 11.85813378045173, 11.858037837756942, 11.857971964093748, 11.857635783464305, 11.857110639638812, 11.857123949276343, 11.857190925616669, 11.857118453420389, 11.852803991271289, 11.851301197679255, 11.849786989135255, 11.852968208336751, 11.856309547662082, 11.857008377188457, 11.85722797399512, 11.85740394770884, 11.858252523416068, 11.854668988133488, 11.851136900486049, 11.851140914013913, 11.851199646276928, 11.851138047106433, 11.85124296697904, 11.851235510760173, 11.851181717735873, 11.851230166773444, 11.851132335733954, 11.851293766340447, 11.851239703249082, 11.851305576869345, 11.851782950405342, 11.854578995277413, 11.858489591926007, 11.862868678198542, 11.868332378037376], \"yaxis\": \"y4\"}, {\"fill\": \"tonexty\", \"line\": {\"color\": \"#9FA0F8\"}, \"name\": \"yhat_lower O\", \"type\": \"scatter\", \"x\": [\"2019-01-13T00:00:00\", \"2019-01-20T00:00:00\", \"2019-01-27T00:00:00\", \"2019-02-03T00:00:00\", \"2019-02-10T00:00:00\", \"2019-02-17T00:00:00\", \"2019-02-24T00:00:00\", \"2019-03-03T00:00:00\", \"2019-03-10T00:00:00\", \"2019-03-17T00:00:00\", \"2019-03-24T00:00:00\", \"2019-03-31T00:00:00\", \"2019-04-07T00:00:00\", \"2019-04-14T00:00:00\", \"2019-04-21T00:00:00\", \"2019-04-28T00:00:00\", \"2019-05-05T00:00:00\", \"2019-05-12T00:00:00\", \"2019-05-19T00:00:00\", \"2019-05-26T00:00:00\", \"2019-06-02T00:00:00\", \"2019-06-09T00:00:00\", \"2019-06-16T00:00:00\", \"2019-06-23T00:00:00\", \"2019-06-30T00:00:00\", \"2019-07-07T00:00:00\", \"2019-07-14T00:00:00\", \"2019-07-21T00:00:00\", \"2019-07-28T00:00:00\", \"2019-08-04T00:00:00\", \"2019-08-11T00:00:00\", \"2019-08-18T00:00:00\", \"2019-08-25T00:00:00\", \"2019-09-01T00:00:00\", \"2019-09-08T00:00:00\", \"2019-09-15T00:00:00\", \"2019-09-22T00:00:00\", \"2019-09-29T00:00:00\", \"2019-10-06T00:00:00\", \"2019-10-13T00:00:00\", \"2019-10-20T00:00:00\", \"2019-10-27T00:00:00\", \"2019-11-03T00:00:00\", \"2019-11-10T00:00:00\", \"2019-11-17T00:00:00\", \"2019-11-24T00:00:00\", \"2019-12-01T00:00:00\", \"2019-12-08T00:00:00\", \"2019-12-15T00:00:00\", \"2019-12-22T00:00:00\", \"2019-12-29T00:00:00\", \"2020-01-05T00:00:00\", \"2020-01-12T00:00:00\", \"2020-01-19T00:00:00\", \"2020-01-26T00:00:00\", \"2020-02-02T00:00:00\", \"2020-02-09T00:00:00\"], \"xaxis\": \"x4\", \"y\": [11.851718676935372, 11.851901340048205, 11.851976392871446, 11.853823084649767, 11.853385787984923, 11.852808190335338, 11.851317571969993, 11.85329805999957, 11.85518858324837, 11.85320898277315, 11.851077784063328, 11.852434331189627, 11.853778638371887, 11.85514801583125, 11.851988908457319, 11.851820040124316, 11.851862176779182, 11.851759885443904, 11.851758877702888, 11.851746026765227, 11.851511507654685, 11.851194495046668, 11.855704200584476, 11.855653965883919, 11.855568263952982, 11.855172691421297, 11.854764025502115, 11.854793583645652, 11.854653958927779, 11.854728348866974, 11.850366262234543, 11.848938118578914, 11.847488333924554, 11.850609411611957, 11.853797874485561, 11.854641653412106, 11.854758728286725, 11.855011881597857, 11.855831245463207, 11.8522542790745, 11.84862051317904, 11.848622501201998, 11.848756232368258, 11.848784347551648, 11.848863747882328, 11.848826801226986, 11.848796882707633, 11.848842987051778, 11.848865886727772, 11.848912749718814, 11.84897094388259, 11.848874881106603, 11.84867955062237, 11.847359235690284, 11.844288664193858, 11.840094916964956, 11.835002048587464], \"yaxis\": \"y4\"}, {\"line\": {\"color\": \"#4280F5\"}, \"mode\": \"lines+markers\", \"name\": \"mean Z\", \"type\": \"scatter\", \"x\": [\"2019-01-11T00:00:00\", \"2019-01-22T00:00:00\", \"2019-01-26T00:00:00\", \"2019-01-31T00:00:00\", \"2019-02-11T00:00:00\", \"2019-02-22T00:00:00\", \"2019-02-27T00:00:00\", \"2019-03-07T00:00:00\", \"2019-03-15T00:00:00\", \"2019-04-05T00:00:00\", \"2019-04-16T00:00:00\", \"2019-05-27T00:00:00\", \"2019-06-03T00:00:00\", \"2019-06-10T00:00:00\", \"2019-06-17T00:00:00\", \"2019-06-25T00:00:00\", \"2019-06-28T00:00:00\", \"2019-08-07T00:00:00\", \"2019-08-19T00:00:00\", \"2019-08-26T00:00:00\", \"2019-09-05T00:00:00\", \"2019-10-17T00:00:00\", \"2019-11-01T00:00:00\", \"2019-11-13T00:00:00\", \"2019-12-05T00:00:00\", \"2019-12-10T00:00:00\", \"2019-12-26T00:00:00\", \"2019-12-31T00:00:00\"], \"xaxis\": \"x5\", \"y\": [0.31, 0.311, 0.311, 0.311, 0.312, 0.312, 0.311, 0.311, 0.312, 0.311, 0.313, 0.313, 0.313, 0.311, 0.313, 0.316, 0.316, 0.313, 0.313, 0.313, 0.316, 0.313, 0.313, 0.315, 0.308, 0.311, 0.312, 0.313], \"yaxis\": \"y5\"}, {\"line\": {\"color\": \"#060891\"}, \"mode\": \"lines+markers\", \"name\": \"mean predict Z\", \"type\": \"scatter\", \"x\": [\"2019-01-13T00:00:00\", \"2019-01-20T00:00:00\", \"2019-01-27T00:00:00\", \"2019-02-03T00:00:00\", \"2019-02-10T00:00:00\", \"2019-02-17T00:00:00\", \"2019-02-24T00:00:00\", \"2019-03-03T00:00:00\", \"2019-03-10T00:00:00\", \"2019-03-17T00:00:00\", \"2019-03-24T00:00:00\", \"2019-03-31T00:00:00\", \"2019-04-07T00:00:00\", \"2019-04-14T00:00:00\", \"2019-04-21T00:00:00\", \"2019-04-28T00:00:00\", \"2019-05-05T00:00:00\", \"2019-05-12T00:00:00\", \"2019-05-19T00:00:00\", \"2019-05-26T00:00:00\", \"2019-06-02T00:00:00\", \"2019-06-09T00:00:00\", \"2019-06-16T00:00:00\", \"2019-06-23T00:00:00\", \"2019-06-30T00:00:00\", \"2019-07-07T00:00:00\", \"2019-07-14T00:00:00\", \"2019-07-21T00:00:00\", \"2019-07-28T00:00:00\", \"2019-08-04T00:00:00\", \"2019-08-11T00:00:00\", \"2019-08-18T00:00:00\", \"2019-08-25T00:00:00\", \"2019-09-01T00:00:00\", \"2019-09-08T00:00:00\", \"2019-09-15T00:00:00\", \"2019-09-22T00:00:00\", \"2019-09-29T00:00:00\", \"2019-10-06T00:00:00\", \"2019-10-13T00:00:00\", \"2019-10-20T00:00:00\", \"2019-10-27T00:00:00\", \"2019-11-03T00:00:00\", \"2019-11-10T00:00:00\", \"2019-11-17T00:00:00\", \"2019-11-24T00:00:00\", \"2019-12-01T00:00:00\", \"2019-12-08T00:00:00\", \"2019-12-15T00:00:00\", \"2019-12-22T00:00:00\", \"2019-12-29T00:00:00\", \"2020-01-05T00:00:00\", \"2020-01-12T00:00:00\", \"2020-01-19T00:00:00\", \"2020-01-26T00:00:00\", \"2020-02-02T00:00:00\", \"2020-02-09T00:00:00\"], \"xaxis\": \"x5\", \"y\": [0.3103327927956349, 0.31047909902311666, 0.3106254052505984, 0.31077171147167926, 0.3109180176976262, 0.3110643239235732, 0.31121063014825595, 0.31135693636514183, 0.31150324258202766, 0.31164954879996176, 0.3117958550178959, 0.31194403871347104, 0.3120924524938603, 0.3122408662742496, 0.31239504630867987, 0.3125501189239608, 0.31270519153924176, 0.3128603774855712, 0.3130155634319006, 0.31317588234839905, 0.3133417240732248, 0.3135075657980506, 0.31368192836427783, 0.31394340330567627, 0.3142048782470746, 0.31446635318464455, 0.3147278281222145, 0.3147659357193058, 0.3147997937222157, 0.3148336517251258, 0.31486750972114136, 0.31490185718151326, 0.31493620464188515, 0.31497243720911866, 0.31500866977635217, 0.3150449023341136, 0.3150811348419262, 0.3151173673497388, 0.3148990496500591, 0.3146283931277081, 0.3143577366053571, 0.3140870800726543, 0.3138164235399515, 0.3135457670072487, 0.31327511047454587, 0.31300445394184306, 0.3127337974091402, 0.31246314087643745, 0.3121924843437346, 0.31192182781103184, 0.311651171278329, 0.31138051474562617, 0.31110985821292336, 0.31083920168022056, 0.31056854514751775, 0.31029788861481494, 0.31002723208211214], \"yaxis\": \"y5\"}, {\"line\": {\"color\": \"#FF5733\"}, \"name\": \"USL Z\", \"type\": \"scatter\", \"x\": [\"2019-01-13T00:00:00\", \"2019-01-20T00:00:00\", \"2019-01-27T00:00:00\", \"2019-02-03T00:00:00\", \"2019-02-10T00:00:00\", \"2019-02-17T00:00:00\", \"2019-02-24T00:00:00\", \"2019-03-03T00:00:00\", \"2019-03-10T00:00:00\", \"2019-03-17T00:00:00\", \"2019-03-24T00:00:00\", \"2019-03-31T00:00:00\", \"2019-04-07T00:00:00\", \"2019-04-14T00:00:00\", \"2019-04-21T00:00:00\", \"2019-04-28T00:00:00\", \"2019-05-05T00:00:00\", \"2019-05-12T00:00:00\", \"2019-05-19T00:00:00\", \"2019-05-26T00:00:00\", \"2019-06-02T00:00:00\", \"2019-06-09T00:00:00\", \"2019-06-16T00:00:00\", \"2019-06-23T00:00:00\", \"2019-06-30T00:00:00\", \"2019-07-07T00:00:00\", \"2019-07-14T00:00:00\", \"2019-07-21T00:00:00\", \"2019-07-28T00:00:00\", \"2019-08-04T00:00:00\", \"2019-08-11T00:00:00\", \"2019-08-18T00:00:00\", \"2019-08-25T00:00:00\", \"2019-09-01T00:00:00\", \"2019-09-08T00:00:00\", \"2019-09-15T00:00:00\", \"2019-09-22T00:00:00\", \"2019-09-29T00:00:00\", \"2019-10-06T00:00:00\", \"2019-10-13T00:00:00\", \"2019-10-20T00:00:00\", \"2019-10-27T00:00:00\", \"2019-11-03T00:00:00\", \"2019-11-10T00:00:00\", \"2019-11-17T00:00:00\", \"2019-11-24T00:00:00\", \"2019-12-01T00:00:00\", \"2019-12-08T00:00:00\", \"2019-12-15T00:00:00\", \"2019-12-22T00:00:00\", \"2019-12-29T00:00:00\", \"2020-01-05T00:00:00\", \"2020-01-12T00:00:00\", \"2020-01-19T00:00:00\", \"2020-01-26T00:00:00\", \"2020-02-02T00:00:00\", \"2020-02-09T00:00:00\"], \"xaxis\": \"x5\", \"y\": [0.32, 0.32, 0.32, 0.32, 0.32, 0.32, 0.32, 0.32, 0.32, 0.32, 0.32, 0.32, 0.32, 0.32, 0.32, 0.32, 0.32, 0.32, 0.32, 0.32, 0.32, 0.32, 0.32, 0.32, 0.32, 0.32, 0.32, 0.32, 0.32, 0.32, 0.32, 0.32, 0.32, 0.32, 0.32, 0.32, 0.32, 0.32, 0.32, 0.32, 0.32, 0.32, 0.32, 0.32, 0.32, 0.32, 0.32, 0.32, 0.32, 0.32, 0.32, 0.32, 0.32, 0.32, 0.32, 0.32, 0.32], \"yaxis\": \"y5\"}, {\"line\": {\"color\": \"#FF5733\"}, \"name\": \"LSL Z\", \"type\": \"scatter\", \"x\": [\"2019-01-13T00:00:00\", \"2019-01-20T00:00:00\", \"2019-01-27T00:00:00\", \"2019-02-03T00:00:00\", \"2019-02-10T00:00:00\", \"2019-02-17T00:00:00\", \"2019-02-24T00:00:00\", \"2019-03-03T00:00:00\", \"2019-03-10T00:00:00\", \"2019-03-17T00:00:00\", \"2019-03-24T00:00:00\", \"2019-03-31T00:00:00\", \"2019-04-07T00:00:00\", \"2019-04-14T00:00:00\", \"2019-04-21T00:00:00\", \"2019-04-28T00:00:00\", \"2019-05-05T00:00:00\", \"2019-05-12T00:00:00\", \"2019-05-19T00:00:00\", \"2019-05-26T00:00:00\", \"2019-06-02T00:00:00\", \"2019-06-09T00:00:00\", \"2019-06-16T00:00:00\", \"2019-06-23T00:00:00\", \"2019-06-30T00:00:00\", \"2019-07-07T00:00:00\", \"2019-07-14T00:00:00\", \"2019-07-21T00:00:00\", \"2019-07-28T00:00:00\", \"2019-08-04T00:00:00\", \"2019-08-11T00:00:00\", \"2019-08-18T00:00:00\", \"2019-08-25T00:00:00\", \"2019-09-01T00:00:00\", \"2019-09-08T00:00:00\", \"2019-09-15T00:00:00\", \"2019-09-22T00:00:00\", \"2019-09-29T00:00:00\", \"2019-10-06T00:00:00\", \"2019-10-13T00:00:00\", \"2019-10-20T00:00:00\", \"2019-10-27T00:00:00\", \"2019-11-03T00:00:00\", \"2019-11-10T00:00:00\", \"2019-11-17T00:00:00\", \"2019-11-24T00:00:00\", \"2019-12-01T00:00:00\", \"2019-12-08T00:00:00\", \"2019-12-15T00:00:00\", \"2019-12-22T00:00:00\", \"2019-12-29T00:00:00\", \"2020-01-05T00:00:00\", \"2020-01-12T00:00:00\", \"2020-01-19T00:00:00\", \"2020-01-26T00:00:00\", \"2020-02-02T00:00:00\", \"2020-02-09T00:00:00\"], \"xaxis\": \"x5\", \"y\": [0.27999999999999997, 0.27999999999999997, 0.27999999999999997, 0.27999999999999997, 0.27999999999999997, 0.27999999999999997, 0.27999999999999997, 0.27999999999999997, 0.27999999999999997, 0.27999999999999997, 0.27999999999999997, 0.27999999999999997, 0.27999999999999997, 0.27999999999999997, 0.27999999999999997, 0.27999999999999997, 0.27999999999999997, 0.27999999999999997, 0.27999999999999997, 0.27999999999999997, 0.27999999999999997, 0.27999999999999997, 0.27999999999999997, 0.27999999999999997, 0.27999999999999997, 0.27999999999999997, 0.27999999999999997, 0.27999999999999997, 0.27999999999999997, 0.27999999999999997, 0.27999999999999997, 0.27999999999999997, 0.27999999999999997, 0.27999999999999997, 0.27999999999999997, 0.27999999999999997, 0.27999999999999997, 0.27999999999999997, 0.27999999999999997, 0.27999999999999997, 0.27999999999999997, 0.27999999999999997, 0.27999999999999997, 0.27999999999999997, 0.27999999999999997, 0.27999999999999997, 0.27999999999999997, 0.27999999999999997, 0.27999999999999997, 0.27999999999999997, 0.27999999999999997, 0.27999999999999997, 0.27999999999999997, 0.27999999999999997, 0.27999999999999997, 0.27999999999999997, 0.27999999999999997], \"yaxis\": \"y5\"}, {\"line\": {\"color\": \"#FF5733\"}, \"name\": \"Nominal Z\", \"type\": \"scatter\", \"x\": [\"2019-01-13T00:00:00\", \"2019-01-20T00:00:00\", \"2019-01-27T00:00:00\", \"2019-02-03T00:00:00\", \"2019-02-10T00:00:00\", \"2019-02-17T00:00:00\", \"2019-02-24T00:00:00\", \"2019-03-03T00:00:00\", \"2019-03-10T00:00:00\", \"2019-03-17T00:00:00\", \"2019-03-24T00:00:00\", \"2019-03-31T00:00:00\", \"2019-04-07T00:00:00\", \"2019-04-14T00:00:00\", \"2019-04-21T00:00:00\", \"2019-04-28T00:00:00\", \"2019-05-05T00:00:00\", \"2019-05-12T00:00:00\", \"2019-05-19T00:00:00\", \"2019-05-26T00:00:00\", \"2019-06-02T00:00:00\", \"2019-06-09T00:00:00\", \"2019-06-16T00:00:00\", \"2019-06-23T00:00:00\", \"2019-06-30T00:00:00\", \"2019-07-07T00:00:00\", \"2019-07-14T00:00:00\", \"2019-07-21T00:00:00\", \"2019-07-28T00:00:00\", \"2019-08-04T00:00:00\", \"2019-08-11T00:00:00\", \"2019-08-18T00:00:00\", \"2019-08-25T00:00:00\", \"2019-09-01T00:00:00\", \"2019-09-08T00:00:00\", \"2019-09-15T00:00:00\", \"2019-09-22T00:00:00\", \"2019-09-29T00:00:00\", \"2019-10-06T00:00:00\", \"2019-10-13T00:00:00\", \"2019-10-20T00:00:00\", \"2019-10-27T00:00:00\", \"2019-11-03T00:00:00\", \"2019-11-10T00:00:00\", \"2019-11-17T00:00:00\", \"2019-11-24T00:00:00\", \"2019-12-01T00:00:00\", \"2019-12-08T00:00:00\", \"2019-12-15T00:00:00\", \"2019-12-22T00:00:00\", \"2019-12-29T00:00:00\", \"2020-01-05T00:00:00\", \"2020-01-12T00:00:00\", \"2020-01-19T00:00:00\", \"2020-01-26T00:00:00\", \"2020-02-02T00:00:00\", \"2020-02-09T00:00:00\"], \"xaxis\": \"x5\", \"y\": [0.3, 0.3, 0.3, 0.3, 0.3, 0.3, 0.3, 0.3, 0.3, 0.3, 0.3, 0.3, 0.3, 0.3, 0.3, 0.3, 0.3, 0.3, 0.3, 0.3, 0.3, 0.3, 0.3, 0.3, 0.3, 0.3, 0.3, 0.3, 0.3, 0.3, 0.3, 0.3, 0.3, 0.3, 0.3, 0.3, 0.3, 0.3, 0.3, 0.3, 0.3, 0.3, 0.3, 0.3, 0.3, 0.3, 0.3, 0.3, 0.3, 0.3, 0.3, 0.3, 0.3, 0.3, 0.3, 0.3, 0.3], \"yaxis\": \"y5\"}, {\"line\": {\"color\": \"#33C2FF\"}, \"name\": \"UCL Z\", \"type\": \"scatter\", \"x\": [\"2019-01-13T00:00:00\", \"2019-01-20T00:00:00\", \"2019-01-27T00:00:00\", \"2019-02-03T00:00:00\", \"2019-02-10T00:00:00\", \"2019-02-17T00:00:00\", \"2019-02-24T00:00:00\", \"2019-03-03T00:00:00\", \"2019-03-10T00:00:00\", \"2019-03-17T00:00:00\", \"2019-03-24T00:00:00\", \"2019-03-31T00:00:00\", \"2019-04-07T00:00:00\", \"2019-04-14T00:00:00\", \"2019-04-21T00:00:00\", \"2019-04-28T00:00:00\", \"2019-05-05T00:00:00\", \"2019-05-12T00:00:00\", \"2019-05-19T00:00:00\", \"2019-05-26T00:00:00\", \"2019-06-02T00:00:00\", \"2019-06-09T00:00:00\", \"2019-06-16T00:00:00\", \"2019-06-23T00:00:00\", \"2019-06-30T00:00:00\", \"2019-07-07T00:00:00\", \"2019-07-14T00:00:00\", \"2019-07-21T00:00:00\", \"2019-07-28T00:00:00\", \"2019-08-04T00:00:00\", \"2019-08-11T00:00:00\", \"2019-08-18T00:00:00\", \"2019-08-25T00:00:00\", \"2019-09-01T00:00:00\", \"2019-09-08T00:00:00\", \"2019-09-15T00:00:00\", \"2019-09-22T00:00:00\", \"2019-09-29T00:00:00\", \"2019-10-06T00:00:00\", \"2019-10-13T00:00:00\", \"2019-10-20T00:00:00\", \"2019-10-27T00:00:00\", \"2019-11-03T00:00:00\", \"2019-11-10T00:00:00\", \"2019-11-17T00:00:00\", \"2019-11-24T00:00:00\", \"2019-12-01T00:00:00\", \"2019-12-08T00:00:00\", \"2019-12-15T00:00:00\", \"2019-12-22T00:00:00\", \"2019-12-29T00:00:00\", \"2020-01-05T00:00:00\", \"2020-01-12T00:00:00\", \"2020-01-19T00:00:00\", \"2020-01-26T00:00:00\", \"2020-02-02T00:00:00\", \"2020-02-09T00:00:00\"], \"xaxis\": \"x5\", \"y\": [0.31789069221460947, 0.31789069221460947, 0.31789069221460947, 0.31789069221460947, 0.31789069221460947, 0.31789069221460947, 0.31789069221460947, 0.31789069221460947, 0.31789069221460947, 0.31789069221460947, 0.31789069221460947, 0.31789069221460947, 0.31789069221460947, 0.31789069221460947, 0.31789069221460947, 0.31789069221460947, 0.31789069221460947, 0.31789069221460947, 0.31789069221460947, 0.31789069221460947, 0.31789069221460947, 0.31789069221460947, 0.31789069221460947, 0.31789069221460947, 0.31789069221460947, 0.31789069221460947, 0.31789069221460947, 0.31789069221460947, 0.31789069221460947, 0.31789069221460947, 0.31789069221460947, 0.31789069221460947, 0.31789069221460947, 0.31789069221460947, 0.31789069221460947, 0.31789069221460947, 0.31789069221460947, 0.31789069221460947, 0.31789069221460947, 0.31789069221460947, 0.31789069221460947, 0.31789069221460947, 0.31789069221460947, 0.31789069221460947, 0.31789069221460947, 0.31789069221460947, 0.31789069221460947, 0.31789069221460947, 0.31789069221460947, 0.31789069221460947, 0.31789069221460947, 0.31789069221460947, 0.31789069221460947, 0.31789069221460947, 0.31789069221460947, 0.31789069221460947, 0.31789069221460947], \"yaxis\": \"y5\"}, {\"line\": {\"color\": \"#33C2FF\"}, \"name\": \"LCL Z\", \"type\": \"scatter\", \"x\": [\"2019-01-13T00:00:00\", \"2019-01-20T00:00:00\", \"2019-01-27T00:00:00\", \"2019-02-03T00:00:00\", \"2019-02-10T00:00:00\", \"2019-02-17T00:00:00\", \"2019-02-24T00:00:00\", \"2019-03-03T00:00:00\", \"2019-03-10T00:00:00\", \"2019-03-17T00:00:00\", \"2019-03-24T00:00:00\", \"2019-03-31T00:00:00\", \"2019-04-07T00:00:00\", \"2019-04-14T00:00:00\", \"2019-04-21T00:00:00\", \"2019-04-28T00:00:00\", \"2019-05-05T00:00:00\", \"2019-05-12T00:00:00\", \"2019-05-19T00:00:00\", \"2019-05-26T00:00:00\", \"2019-06-02T00:00:00\", \"2019-06-09T00:00:00\", \"2019-06-16T00:00:00\", \"2019-06-23T00:00:00\", \"2019-06-30T00:00:00\", \"2019-07-07T00:00:00\", \"2019-07-14T00:00:00\", \"2019-07-21T00:00:00\", \"2019-07-28T00:00:00\", \"2019-08-04T00:00:00\", \"2019-08-11T00:00:00\", \"2019-08-18T00:00:00\", \"2019-08-25T00:00:00\", \"2019-09-01T00:00:00\", \"2019-09-08T00:00:00\", \"2019-09-15T00:00:00\", \"2019-09-22T00:00:00\", \"2019-09-29T00:00:00\", \"2019-10-06T00:00:00\", \"2019-10-13T00:00:00\", \"2019-10-20T00:00:00\", \"2019-10-27T00:00:00\", \"2019-11-03T00:00:00\", \"2019-11-10T00:00:00\", \"2019-11-17T00:00:00\", \"2019-11-24T00:00:00\", \"2019-12-01T00:00:00\", \"2019-12-08T00:00:00\", \"2019-12-15T00:00:00\", \"2019-12-22T00:00:00\", \"2019-12-29T00:00:00\", \"2020-01-05T00:00:00\", \"2020-01-12T00:00:00\", \"2020-01-19T00:00:00\", \"2020-01-26T00:00:00\", \"2020-02-02T00:00:00\", \"2020-02-09T00:00:00\"], \"xaxis\": \"x5\", \"y\": [0.3068950220711047, 0.3068950220711047, 0.3068950220711047, 0.3068950220711047, 0.3068950220711047, 0.3068950220711047, 0.3068950220711047, 0.3068950220711047, 0.3068950220711047, 0.3068950220711047, 0.3068950220711047, 0.3068950220711047, 0.3068950220711047, 0.3068950220711047, 0.3068950220711047, 0.3068950220711047, 0.3068950220711047, 0.3068950220711047, 0.3068950220711047, 0.3068950220711047, 0.3068950220711047, 0.3068950220711047, 0.3068950220711047, 0.3068950220711047, 0.3068950220711047, 0.3068950220711047, 0.3068950220711047, 0.3068950220711047, 0.3068950220711047, 0.3068950220711047, 0.3068950220711047, 0.3068950220711047, 0.3068950220711047, 0.3068950220711047, 0.3068950220711047, 0.3068950220711047, 0.3068950220711047, 0.3068950220711047, 0.3068950220711047, 0.3068950220711047, 0.3068950220711047, 0.3068950220711047, 0.3068950220711047, 0.3068950220711047, 0.3068950220711047, 0.3068950220711047, 0.3068950220711047, 0.3068950220711047, 0.3068950220711047, 0.3068950220711047, 0.3068950220711047, 0.3068950220711047, 0.3068950220711047, 0.3068950220711047, 0.3068950220711047, 0.3068950220711047, 0.3068950220711047], \"yaxis\": \"y5\"}, {\"line\": {\"color\": \"#33C2FF\"}, \"name\": \"mean Z\", \"type\": \"scatter\", \"x\": [\"2019-01-13T00:00:00\", \"2019-01-20T00:00:00\", \"2019-01-27T00:00:00\", \"2019-02-03T00:00:00\", \"2019-02-10T00:00:00\", \"2019-02-17T00:00:00\", \"2019-02-24T00:00:00\", \"2019-03-03T00:00:00\", \"2019-03-10T00:00:00\", \"2019-03-17T00:00:00\", \"2019-03-24T00:00:00\", \"2019-03-31T00:00:00\", \"2019-04-07T00:00:00\", \"2019-04-14T00:00:00\", \"2019-04-21T00:00:00\", \"2019-04-28T00:00:00\", \"2019-05-05T00:00:00\", \"2019-05-12T00:00:00\", \"2019-05-19T00:00:00\", \"2019-05-26T00:00:00\", \"2019-06-02T00:00:00\", \"2019-06-09T00:00:00\", \"2019-06-16T00:00:00\", \"2019-06-23T00:00:00\", \"2019-06-30T00:00:00\", \"2019-07-07T00:00:00\", \"2019-07-14T00:00:00\", \"2019-07-21T00:00:00\", \"2019-07-28T00:00:00\", \"2019-08-04T00:00:00\", \"2019-08-11T00:00:00\", \"2019-08-18T00:00:00\", \"2019-08-25T00:00:00\", \"2019-09-01T00:00:00\", \"2019-09-08T00:00:00\", \"2019-09-15T00:00:00\", \"2019-09-22T00:00:00\", \"2019-09-29T00:00:00\", \"2019-10-06T00:00:00\", \"2019-10-13T00:00:00\", \"2019-10-20T00:00:00\", \"2019-10-27T00:00:00\", \"2019-11-03T00:00:00\", \"2019-11-10T00:00:00\", \"2019-11-17T00:00:00\", \"2019-11-24T00:00:00\", \"2019-12-01T00:00:00\", \"2019-12-08T00:00:00\", \"2019-12-15T00:00:00\", \"2019-12-22T00:00:00\", \"2019-12-29T00:00:00\", \"2020-01-05T00:00:00\", \"2020-01-12T00:00:00\", \"2020-01-19T00:00:00\", \"2020-01-26T00:00:00\", \"2020-02-02T00:00:00\", \"2020-02-09T00:00:00\"], \"xaxis\": \"x5\", \"y\": [0.3123928571428571, 0.3123928571428571, 0.3123928571428571, 0.3123928571428571, 0.3123928571428571, 0.3123928571428571, 0.3123928571428571, 0.3123928571428571, 0.3123928571428571, 0.3123928571428571, 0.3123928571428571, 0.3123928571428571, 0.3123928571428571, 0.3123928571428571, 0.3123928571428571, 0.3123928571428571, 0.3123928571428571, 0.3123928571428571, 0.3123928571428571, 0.3123928571428571, 0.3123928571428571, 0.3123928571428571, 0.3123928571428571, 0.3123928571428571, 0.3123928571428571, 0.3123928571428571, 0.3123928571428571, 0.3123928571428571, 0.3123928571428571, 0.3123928571428571, 0.3123928571428571, 0.3123928571428571, 0.3123928571428571, 0.3123928571428571, 0.3123928571428571, 0.3123928571428571, 0.3123928571428571, 0.3123928571428571, 0.3123928571428571, 0.3123928571428571, 0.3123928571428571, 0.3123928571428571, 0.3123928571428571, 0.3123928571428571, 0.3123928571428571, 0.3123928571428571, 0.3123928571428571, 0.3123928571428571, 0.3123928571428571, 0.3123928571428571, 0.3123928571428571, 0.3123928571428571, 0.3123928571428571, 0.3123928571428571, 0.3123928571428571, 0.3123928571428571, 0.3123928571428571], \"yaxis\": \"y5\"}, {\"line\": {\"color\": \"#9FA0F8\"}, \"name\": \"yhat_upper Z\", \"type\": \"scatter\", \"x\": [\"2019-01-13T00:00:00\", \"2019-01-20T00:00:00\", \"2019-01-27T00:00:00\", \"2019-02-03T00:00:00\", \"2019-02-10T00:00:00\", \"2019-02-17T00:00:00\", \"2019-02-24T00:00:00\", \"2019-03-03T00:00:00\", \"2019-03-10T00:00:00\", \"2019-03-17T00:00:00\", \"2019-03-24T00:00:00\", \"2019-03-31T00:00:00\", \"2019-04-07T00:00:00\", \"2019-04-14T00:00:00\", \"2019-04-21T00:00:00\", \"2019-04-28T00:00:00\", \"2019-05-05T00:00:00\", \"2019-05-12T00:00:00\", \"2019-05-19T00:00:00\", \"2019-05-26T00:00:00\", \"2019-06-02T00:00:00\", \"2019-06-09T00:00:00\", \"2019-06-16T00:00:00\", \"2019-06-23T00:00:00\", \"2019-06-30T00:00:00\", \"2019-07-07T00:00:00\", \"2019-07-14T00:00:00\", \"2019-07-21T00:00:00\", \"2019-07-28T00:00:00\", \"2019-08-04T00:00:00\", \"2019-08-11T00:00:00\", \"2019-08-18T00:00:00\", \"2019-08-25T00:00:00\", \"2019-09-01T00:00:00\", \"2019-09-08T00:00:00\", \"2019-09-15T00:00:00\", \"2019-09-22T00:00:00\", \"2019-09-29T00:00:00\", \"2019-10-06T00:00:00\", \"2019-10-13T00:00:00\", \"2019-10-20T00:00:00\", \"2019-10-27T00:00:00\", \"2019-11-03T00:00:00\", \"2019-11-10T00:00:00\", \"2019-11-17T00:00:00\", \"2019-11-24T00:00:00\", \"2019-12-01T00:00:00\", \"2019-12-08T00:00:00\", \"2019-12-15T00:00:00\", \"2019-12-22T00:00:00\", \"2019-12-29T00:00:00\", \"2020-01-05T00:00:00\", \"2020-01-12T00:00:00\", \"2020-01-19T00:00:00\", \"2020-01-26T00:00:00\", \"2020-02-02T00:00:00\", \"2020-02-09T00:00:00\"], \"xaxis\": \"x5\", \"y\": [0.31209793972603517, 0.31225468610461277, 0.3122634725534109, 0.3125543080417157, 0.3126079609284617, 0.31269168121888136, 0.31281513879203293, 0.3130996538800433, 0.3132362392023606, 0.31340599863161556, 0.31350939482485396, 0.3134084735035956, 0.31383573549987365, 0.3139414134725216, 0.31399377635115017, 0.3140941603547342, 0.31440119104220104, 0.3145317404834814, 0.314604222060382, 0.31483667805617643, 0.31494489483821037, 0.31516354110007716, 0.31525595033366394, 0.3157109810651902, 0.3159023001838825, 0.31620716844301283, 0.3164118365128631, 0.3163698240948266, 0.31644771501657865, 0.3165429993670769, 0.31651696874725077, 0.31677378591337063, 0.31656714933435287, 0.31662907190882594, 0.3166201844850883, 0.3166596843193623, 0.3168246266573738, 0.3166845060292181, 0.3165661531495746, 0.3163033716842075, 0.3161509529141952, 0.315633337697953, 0.3153673958652834, 0.3152774579283109, 0.31492215068649054, 0.31477127969384766, 0.3142988434714561, 0.31415229649433496, 0.31381605066974594, 0.3135523521503731, 0.31344653911927756, 0.31305462481325896, 0.31282997720961847, 0.31243527706707336, 0.31214658946630075, 0.3119162779439577, 0.31160614299726275], \"yaxis\": \"y5\"}, {\"fill\": \"tonexty\", \"line\": {\"color\": \"#9FA0F8\"}, \"name\": \"yhat_lower Z\", \"type\": \"scatter\", \"x\": [\"2019-01-13T00:00:00\", \"2019-01-20T00:00:00\", \"2019-01-27T00:00:00\", \"2019-02-03T00:00:00\", \"2019-02-10T00:00:00\", \"2019-02-17T00:00:00\", \"2019-02-24T00:00:00\", \"2019-03-03T00:00:00\", \"2019-03-10T00:00:00\", \"2019-03-17T00:00:00\", \"2019-03-24T00:00:00\", \"2019-03-31T00:00:00\", \"2019-04-07T00:00:00\", \"2019-04-14T00:00:00\", \"2019-04-21T00:00:00\", \"2019-04-28T00:00:00\", \"2019-05-05T00:00:00\", \"2019-05-12T00:00:00\", \"2019-05-19T00:00:00\", \"2019-05-26T00:00:00\", \"2019-06-02T00:00:00\", \"2019-06-09T00:00:00\", \"2019-06-16T00:00:00\", \"2019-06-23T00:00:00\", \"2019-06-30T00:00:00\", \"2019-07-07T00:00:00\", \"2019-07-14T00:00:00\", \"2019-07-21T00:00:00\", \"2019-07-28T00:00:00\", \"2019-08-04T00:00:00\", \"2019-08-11T00:00:00\", \"2019-08-18T00:00:00\", \"2019-08-25T00:00:00\", \"2019-09-01T00:00:00\", \"2019-09-08T00:00:00\", \"2019-09-15T00:00:00\", \"2019-09-22T00:00:00\", \"2019-09-29T00:00:00\", \"2019-10-06T00:00:00\", \"2019-10-13T00:00:00\", \"2019-10-20T00:00:00\", \"2019-10-27T00:00:00\", \"2019-11-03T00:00:00\", \"2019-11-10T00:00:00\", \"2019-11-17T00:00:00\", \"2019-11-24T00:00:00\", \"2019-12-01T00:00:00\", \"2019-12-08T00:00:00\", \"2019-12-15T00:00:00\", \"2019-12-22T00:00:00\", \"2019-12-29T00:00:00\", \"2020-01-05T00:00:00\", \"2020-01-12T00:00:00\", \"2020-01-19T00:00:00\", \"2020-01-26T00:00:00\", \"2020-02-02T00:00:00\", \"2020-02-09T00:00:00\"], \"xaxis\": \"x5\", \"y\": [0.30876160134529806, 0.30885113729762415, 0.30901946930759794, 0.30916772211995897, 0.30919941059854006, 0.30949768387202226, 0.309568643352975, 0.30974666322162286, 0.3099090249758613, 0.30998238208250656, 0.31010409935298444, 0.31021294741667893, 0.3104724440734053, 0.3106709254191673, 0.3106106418054582, 0.31089262245449356, 0.31089177830306314, 0.31133131221657656, 0.3112733380937716, 0.3115817589925594, 0.31171463753301115, 0.31188606507653027, 0.311986235805881, 0.3123603343507625, 0.312606815474924, 0.3128255915219249, 0.3130289910980486, 0.31328424188527376, 0.313249675129852, 0.31320437593984696, 0.31312526370304555, 0.3132023462489759, 0.3133433610192842, 0.3133034281399889, 0.31332082347723117, 0.31338599477136986, 0.3134012637787948, 0.31354773841726497, 0.3132477345543163, 0.31286605056627537, 0.31262678769050833, 0.31245689936618365, 0.3122168003240573, 0.31180069527909376, 0.3117402586076945, 0.31140164905862167, 0.31084302017628507, 0.31077376778013277, 0.31052107959785186, 0.31023016094624906, 0.30993918173277013, 0.3096922835423799, 0.3094226898278937, 0.30900698479255884, 0.30870449653393994, 0.3087412546534766, 0.30836442710588524], \"yaxis\": \"y5\"}],\n",
              "                        {\"annotations\": [{\"font\": {\"size\": 16}, \"showarrow\": false, \"text\": \"C-Pitch\", \"x\": 0.5, \"xanchor\": \"center\", \"xref\": \"paper\", \"y\": 1.0, \"yanchor\": \"bottom\", \"yref\": \"paper\"}, {\"font\": {\"size\": 16}, \"showarrow\": false, \"text\": \"J\", \"x\": 0.5, \"xanchor\": \"center\", \"xref\": \"paper\", \"y\": 0.78, \"yanchor\": \"bottom\", \"yref\": \"paper\"}, {\"font\": {\"size\": 16}, \"showarrow\": false, \"text\": \"I\", \"x\": 0.5, \"xanchor\": \"center\", \"xref\": \"paper\", \"y\": 0.56, \"yanchor\": \"bottom\", \"yref\": \"paper\"}, {\"font\": {\"size\": 16}, \"showarrow\": false, \"text\": \"O\", \"x\": 0.5, \"xanchor\": \"center\", \"xref\": \"paper\", \"y\": 0.33999999999999997, \"yanchor\": \"bottom\", \"yref\": \"paper\"}, {\"font\": {\"size\": 16}, \"showarrow\": false, \"text\": \"Z\", \"x\": 0.5, \"xanchor\": \"center\", \"xref\": \"paper\", \"y\": 0.12, \"yanchor\": \"bottom\", \"yref\": \"paper\"}], \"height\": 1500, \"template\": {\"data\": {\"bar\": [{\"error_x\": {\"color\": \"#2a3f5f\"}, \"error_y\": {\"color\": \"#2a3f5f\"}, \"marker\": {\"line\": {\"color\": \"#E5ECF6\", \"width\": 0.5}}, \"type\": \"bar\"}], \"barpolar\": [{\"marker\": {\"line\": {\"color\": \"#E5ECF6\", \"width\": 0.5}}, \"type\": \"barpolar\"}], \"carpet\": [{\"aaxis\": {\"endlinecolor\": \"#2a3f5f\", \"gridcolor\": \"white\", \"linecolor\": \"white\", \"minorgridcolor\": \"white\", \"startlinecolor\": \"#2a3f5f\"}, \"baxis\": {\"endlinecolor\": \"#2a3f5f\", \"gridcolor\": \"white\", \"linecolor\": \"white\", \"minorgridcolor\": \"white\", \"startlinecolor\": \"#2a3f5f\"}, \"type\": \"carpet\"}], \"choropleth\": [{\"colorbar\": {\"outlinewidth\": 0, \"ticks\": \"\"}, \"type\": \"choropleth\"}], \"contour\": [{\"colorbar\": {\"outlinewidth\": 0, \"ticks\": \"\"}, \"colorscale\": [[0.0, \"#0d0887\"], [0.1111111111111111, \"#46039f\"], [0.2222222222222222, \"#7201a8\"], [0.3333333333333333, \"#9c179e\"], [0.4444444444444444, \"#bd3786\"], [0.5555555555555556, \"#d8576b\"], [0.6666666666666666, \"#ed7953\"], [0.7777777777777778, \"#fb9f3a\"], [0.8888888888888888, \"#fdca26\"], [1.0, \"#f0f921\"]], \"type\": \"contour\"}], \"contourcarpet\": [{\"colorbar\": {\"outlinewidth\": 0, \"ticks\": \"\"}, \"type\": \"contourcarpet\"}], \"heatmap\": [{\"colorbar\": {\"outlinewidth\": 0, \"ticks\": \"\"}, \"colorscale\": [[0.0, \"#0d0887\"], [0.1111111111111111, \"#46039f\"], [0.2222222222222222, \"#7201a8\"], [0.3333333333333333, \"#9c179e\"], [0.4444444444444444, \"#bd3786\"], [0.5555555555555556, \"#d8576b\"], [0.6666666666666666, \"#ed7953\"], [0.7777777777777778, \"#fb9f3a\"], [0.8888888888888888, \"#fdca26\"], [1.0, \"#f0f921\"]], \"type\": \"heatmap\"}], \"heatmapgl\": [{\"colorbar\": {\"outlinewidth\": 0, \"ticks\": \"\"}, \"colorscale\": [[0.0, \"#0d0887\"], [0.1111111111111111, \"#46039f\"], [0.2222222222222222, \"#7201a8\"], [0.3333333333333333, \"#9c179e\"], [0.4444444444444444, \"#bd3786\"], [0.5555555555555556, \"#d8576b\"], [0.6666666666666666, \"#ed7953\"], [0.7777777777777778, \"#fb9f3a\"], [0.8888888888888888, \"#fdca26\"], [1.0, \"#f0f921\"]], \"type\": \"heatmapgl\"}], \"histogram\": [{\"marker\": {\"colorbar\": {\"outlinewidth\": 0, \"ticks\": \"\"}}, \"type\": \"histogram\"}], \"histogram2d\": [{\"colorbar\": {\"outlinewidth\": 0, \"ticks\": \"\"}, \"colorscale\": [[0.0, \"#0d0887\"], [0.1111111111111111, \"#46039f\"], [0.2222222222222222, \"#7201a8\"], [0.3333333333333333, \"#9c179e\"], [0.4444444444444444, \"#bd3786\"], [0.5555555555555556, \"#d8576b\"], [0.6666666666666666, \"#ed7953\"], [0.7777777777777778, \"#fb9f3a\"], [0.8888888888888888, \"#fdca26\"], [1.0, \"#f0f921\"]], \"type\": \"histogram2d\"}], \"histogram2dcontour\": [{\"colorbar\": {\"outlinewidth\": 0, \"ticks\": \"\"}, \"colorscale\": [[0.0, \"#0d0887\"], [0.1111111111111111, \"#46039f\"], [0.2222222222222222, \"#7201a8\"], [0.3333333333333333, \"#9c179e\"], [0.4444444444444444, \"#bd3786\"], [0.5555555555555556, \"#d8576b\"], [0.6666666666666666, \"#ed7953\"], [0.7777777777777778, \"#fb9f3a\"], [0.8888888888888888, \"#fdca26\"], [1.0, \"#f0f921\"]], \"type\": \"histogram2dcontour\"}], \"mesh3d\": [{\"colorbar\": {\"outlinewidth\": 0, \"ticks\": \"\"}, \"type\": \"mesh3d\"}], \"parcoords\": [{\"line\": {\"colorbar\": {\"outlinewidth\": 0, \"ticks\": \"\"}}, \"type\": \"parcoords\"}], \"pie\": [{\"automargin\": true, \"type\": \"pie\"}], \"scatter\": [{\"marker\": {\"colorbar\": {\"outlinewidth\": 0, \"ticks\": \"\"}}, \"type\": \"scatter\"}], \"scatter3d\": [{\"line\": {\"colorbar\": {\"outlinewidth\": 0, \"ticks\": \"\"}}, \"marker\": {\"colorbar\": {\"outlinewidth\": 0, \"ticks\": \"\"}}, \"type\": \"scatter3d\"}], \"scattercarpet\": [{\"marker\": {\"colorbar\": {\"outlinewidth\": 0, \"ticks\": \"\"}}, \"type\": \"scattercarpet\"}], \"scattergeo\": [{\"marker\": {\"colorbar\": {\"outlinewidth\": 0, \"ticks\": \"\"}}, \"type\": \"scattergeo\"}], \"scattergl\": [{\"marker\": {\"colorbar\": {\"outlinewidth\": 0, \"ticks\": \"\"}}, \"type\": \"scattergl\"}], \"scattermapbox\": [{\"marker\": {\"colorbar\": {\"outlinewidth\": 0, \"ticks\": \"\"}}, \"type\": \"scattermapbox\"}], \"scatterpolar\": [{\"marker\": {\"colorbar\": {\"outlinewidth\": 0, \"ticks\": \"\"}}, \"type\": \"scatterpolar\"}], \"scatterpolargl\": [{\"marker\": {\"colorbar\": {\"outlinewidth\": 0, \"ticks\": \"\"}}, \"type\": \"scatterpolargl\"}], \"scatterternary\": [{\"marker\": {\"colorbar\": {\"outlinewidth\": 0, \"ticks\": \"\"}}, \"type\": \"scatterternary\"}], \"surface\": [{\"colorbar\": {\"outlinewidth\": 0, \"ticks\": \"\"}, \"colorscale\": [[0.0, \"#0d0887\"], [0.1111111111111111, \"#46039f\"], [0.2222222222222222, \"#7201a8\"], [0.3333333333333333, \"#9c179e\"], [0.4444444444444444, \"#bd3786\"], [0.5555555555555556, \"#d8576b\"], [0.6666666666666666, \"#ed7953\"], [0.7777777777777778, \"#fb9f3a\"], [0.8888888888888888, \"#fdca26\"], [1.0, \"#f0f921\"]], \"type\": \"surface\"}], \"table\": [{\"cells\": {\"fill\": {\"color\": \"#EBF0F8\"}, \"line\": {\"color\": \"white\"}}, \"header\": {\"fill\": {\"color\": \"#C8D4E3\"}, \"line\": {\"color\": \"white\"}}, \"type\": \"table\"}]}, \"layout\": {\"annotationdefaults\": {\"arrowcolor\": \"#2a3f5f\", \"arrowhead\": 0, \"arrowwidth\": 1}, \"coloraxis\": {\"colorbar\": {\"outlinewidth\": 0, \"ticks\": \"\"}}, \"colorscale\": {\"diverging\": [[0, \"#8e0152\"], [0.1, \"#c51b7d\"], [0.2, \"#de77ae\"], [0.3, \"#f1b6da\"], [0.4, \"#fde0ef\"], [0.5, \"#f7f7f7\"], [0.6, \"#e6f5d0\"], [0.7, \"#b8e186\"], [0.8, \"#7fbc41\"], [0.9, \"#4d9221\"], [1, \"#276419\"]], \"sequential\": [[0.0, \"#0d0887\"], [0.1111111111111111, \"#46039f\"], [0.2222222222222222, \"#7201a8\"], [0.3333333333333333, \"#9c179e\"], [0.4444444444444444, \"#bd3786\"], [0.5555555555555556, \"#d8576b\"], [0.6666666666666666, \"#ed7953\"], [0.7777777777777778, \"#fb9f3a\"], [0.8888888888888888, \"#fdca26\"], [1.0, \"#f0f921\"]], \"sequentialminus\": [[0.0, \"#0d0887\"], [0.1111111111111111, \"#46039f\"], [0.2222222222222222, \"#7201a8\"], [0.3333333333333333, \"#9c179e\"], [0.4444444444444444, \"#bd3786\"], [0.5555555555555556, \"#d8576b\"], [0.6666666666666666, \"#ed7953\"], [0.7777777777777778, \"#fb9f3a\"], [0.8888888888888888, \"#fdca26\"], [1.0, \"#f0f921\"]]}, \"colorway\": [\"#636efa\", \"#EF553B\", \"#00cc96\", \"#ab63fa\", \"#FFA15A\", \"#19d3f3\", \"#FF6692\", \"#B6E880\", \"#FF97FF\", \"#FECB52\"], \"font\": {\"color\": \"#2a3f5f\"}, \"geo\": {\"bgcolor\": \"white\", \"lakecolor\": \"white\", \"landcolor\": \"#E5ECF6\", \"showlakes\": true, \"showland\": true, \"subunitcolor\": \"white\"}, \"hoverlabel\": {\"align\": \"left\"}, \"hovermode\": \"closest\", \"mapbox\": {\"style\": \"light\"}, \"paper_bgcolor\": \"white\", \"plot_bgcolor\": \"#E5ECF6\", \"polar\": {\"angularaxis\": {\"gridcolor\": \"white\", \"linecolor\": \"white\", \"ticks\": \"\"}, \"bgcolor\": \"#E5ECF6\", \"radialaxis\": {\"gridcolor\": \"white\", \"linecolor\": \"white\", \"ticks\": \"\"}}, \"scene\": {\"xaxis\": {\"backgroundcolor\": \"#E5ECF6\", \"gridcolor\": \"white\", \"gridwidth\": 2, \"linecolor\": \"white\", \"showbackground\": true, \"ticks\": \"\", \"zerolinecolor\": \"white\"}, \"yaxis\": {\"backgroundcolor\": \"#E5ECF6\", \"gridcolor\": \"white\", \"gridwidth\": 2, \"linecolor\": \"white\", \"showbackground\": true, \"ticks\": \"\", \"zerolinecolor\": \"white\"}, \"zaxis\": {\"backgroundcolor\": \"#E5ECF6\", \"gridcolor\": \"white\", \"gridwidth\": 2, \"linecolor\": \"white\", \"showbackground\": true, \"ticks\": \"\", \"zerolinecolor\": \"white\"}}, \"shapedefaults\": {\"line\": {\"color\": \"#2a3f5f\"}}, \"ternary\": {\"aaxis\": {\"gridcolor\": \"white\", \"linecolor\": \"white\", \"ticks\": \"\"}, \"baxis\": {\"gridcolor\": \"white\", \"linecolor\": \"white\", \"ticks\": \"\"}, \"bgcolor\": \"#E5ECF6\", \"caxis\": {\"gridcolor\": \"white\", \"linecolor\": \"white\", \"ticks\": \"\"}}, \"title\": {\"x\": 0.05}, \"xaxis\": {\"automargin\": true, \"gridcolor\": \"white\", \"linecolor\": \"white\", \"ticks\": \"\", \"title\": {\"standoff\": 15}, \"zerolinecolor\": \"white\", \"zerolinewidth\": 2}, \"yaxis\": {\"automargin\": true, \"gridcolor\": \"white\", \"linecolor\": \"white\", \"ticks\": \"\", \"title\": {\"standoff\": 15}, \"zerolinecolor\": \"white\", \"zerolinewidth\": 2}}}, \"title\": {\"text\": \"Line chart\"}, \"width\": 1200, \"xaxis\": {\"anchor\": \"y\", \"domain\": [0.0, 1.0]}, \"xaxis2\": {\"anchor\": \"y2\", \"domain\": [0.0, 1.0]}, \"xaxis3\": {\"anchor\": \"y3\", \"domain\": [0.0, 1.0]}, \"xaxis4\": {\"anchor\": \"y4\", \"domain\": [0.0, 1.0]}, \"xaxis5\": {\"anchor\": \"y5\", \"domain\": [0.0, 1.0]}, \"yaxis\": {\"anchor\": \"x\", \"domain\": [0.88, 1.0]}, \"yaxis2\": {\"anchor\": \"x2\", \"domain\": [0.66, 0.78]}, \"yaxis3\": {\"anchor\": \"x3\", \"domain\": [0.44, 0.56]}, \"yaxis4\": {\"anchor\": \"x4\", \"domain\": [0.22, 0.33999999999999997]}, \"yaxis5\": {\"anchor\": \"x5\", \"domain\": [0.0, 0.12]}},\n",
              "                        {\"responsive\": true}\n",
              "                    ).then(function(){\n",
              "                            \n",
              "var gd = document.getElementById('2099a6dc-2498-43d0-85c4-39f9b6c26b6d');\n",
              "var x = new MutationObserver(function (mutations, observer) {{\n",
              "        var display = window.getComputedStyle(gd).display;\n",
              "        if (!display || display === 'none') {{\n",
              "            console.log([gd, 'removed!']);\n",
              "            Plotly.purge(gd);\n",
              "            observer.disconnect();\n",
              "        }}\n",
              "}});\n",
              "\n",
              "// Listen for the removal of the full notebook cells\n",
              "var notebookContainer = gd.closest('#notebook-container');\n",
              "if (notebookContainer) {{\n",
              "    x.observe(notebookContainer, {childList: true});\n",
              "}}\n",
              "\n",
              "// Listen for the clearing of the current output cell\n",
              "var outputEl = gd.closest('.output');\n",
              "if (outputEl) {{\n",
              "    x.observe(outputEl, {childList: true});\n",
              "}}\n",
              "\n",
              "                        })\n",
              "                };\n",
              "                \n",
              "            </script>\n",
              "        </div>\n",
              "</body>\n",
              "</html>"
            ]
          },
          "metadata": {
            "tags": []
          }
        }
      ]
    },
    {
      "cell_type": "code",
      "metadata": {
        "id": "vaasJ85ENhja",
        "colab_type": "code",
        "colab": {}
      },
      "source": [
        "#------------------Save Line chart plotly-----------------------------------------#\n",
        "\n",
        "\n",
        "#if st.checkbox('Save predict Line chart'):\n",
        "#if st.button(\"Save Line chart\"):\n",
        "#    fig_new_2.write_html(path3+namefile+'_predict_line.html')\n",
        "#    st.write('Path file: ',path3+namefile+'_predict_line.html')\n",
        "#----------------------------Box chart altair----------------------------------------#"
      ],
      "execution_count": null,
      "outputs": []
    },
    {
      "cell_type": "markdown",
      "metadata": {
        "id": "eXUhRbB9Nh0Y",
        "colab_type": "text"
      },
      "source": [
        "### Validate Prophet"
      ]
    },
    {
      "cell_type": "code",
      "metadata": {
        "id": "GRZdk3UmRLSn",
        "colab_type": "code",
        "colab": {}
      },
      "source": [
        "# Python\n",
        "from fbprophet import Prophet\n",
        "from fbprophet.plot import plot_plotly\n",
        "import plotly.offline as py\n",
        "#py.init_notebook_mode()"
      ],
      "execution_count": null,
      "outputs": []
    },
    {
      "cell_type": "code",
      "metadata": {
        "id": "QIy6BPrDacmt",
        "colab_type": "code",
        "colab": {}
      },
      "source": [
        "DF_predict_all_final={} # only contain predict test with y predict and y_true\n",
        "for name in DFdict_final.keys(): #also group\n",
        "  print(name)\n",
        "  df_temp_2=DFdict_final[name].copy() # gia tri mean thong thuong\n",
        "  df_predict=df_temp_2.set_index(df_temp_2.columns[0]).copy()\n",
        "  df_predict=df_predict.resample('1W').ffill() # gia tri mean da resample\n",
        "  df_fb=df_predict.reset_index()#\n",
        "  df_fb=df_fb[[df_fb.columns[0],df_fb.columns[1]]]\n",
        "  df_fb.columns=['ds','y']\n",
        "  # split train and test set\n",
        "  split=int(len(df_fb) * 0.80)\n",
        "  training_set=df_fb[:split]\n",
        "  test_set=df_fb[split:]\n",
        "  #define predict future (test_set)\n",
        "  predict_future=len(test_set)\n",
        "  # Prophet will by default fit weekly and yearly seasonalities,\n",
        "  model = Prophet( #yearly_seasonality=True\n",
        "                ) #instantiate Prophet with only yearly seasonality as our data is monthly \n",
        "  model.fit(training_set) #fit the model with your dataframe\n",
        "\n",
        "  # predict for five months in the furure and MS - month start is the frequency\n",
        "  future = model.make_future_dataframe(periods = predict_future, freq = 'W')  \n",
        "  # now lets make the forecasts\n",
        "  forecast = model.predict(future)\n",
        "  new_forecast=forecast[['ds', 'yhat', 'yhat_lower', 'yhat_upper']]\n",
        "  new_forecast['USL']=df_temp_2['USL'][0]\n",
        "  new_forecast['LSL']=df_temp_2['LSL'][0]\n",
        "  new_forecast['Nominal']=df_temp_2['Nominal'][0]\n",
        "  new_forecast['UCL']=df_temp_2['UCL'][0]\n",
        "  new_forecast['LCL']=df_temp_2['LCL'][0]\n",
        "  new_forecast['mean']=df_temp_2['mean'][0]\n",
        "  new_forecast=new_forecast[split:]\n",
        "  join_data=pd.merge(new_forecast,test_set,how='inner',left_on='ds',right_on='ds')\n",
        "  DF_predict_final_[name]=join_data #only contain predict test with y predict and y_true\n"
      ],
      "execution_count": null,
      "outputs": []
    },
    {
      "cell_type": "code",
      "metadata": {
        "id": "D8fQrKAnyVfI",
        "colab_type": "code",
        "colab": {
          "base_uri": "https://localhost:8080/",
          "height": 1000
        },
        "outputId": "40b8160d-e9bb-4164-a9ef-54ab929cddcf"
      },
      "source": [
        "i=1\n",
        "#Layout\n",
        "fig = make_subplots(\n",
        "    rows=len(DF_predict_final_), cols=1,\n",
        "    subplot_titles=(list(DFdict_final.keys()))\n",
        ")\n",
        "for name in DF_predict_final_.keys(): #also group\n",
        "\n",
        "  df=DF_predict_final_[name].copy()\n",
        "  df=df.sort_values(by=['ds'])\n",
        "  for a in df.columns[1:]:\n",
        "    df[a] = df[a].round(decimals=3)\n",
        "  print(name)\n",
        "  print('test rmse:', np.sqrt(mean_squared_error(df['y'], df['yhat'])))\n",
        "  print('test mae:', np.sqrt(mean_absolute_error(df['y'], df['yhat'])))\n",
        "\n",
        "  #Control chart 1 and predict is the same dataframe\n",
        "  fig.append_trace(go.Scatter(\n",
        "                          x=df['ds'], y=df['y'],\n",
        "                          mode='lines+markers',\n",
        "                          name='mean ' + name,line=dict( color='#000000')\n",
        "                          ),row=i, col=1\n",
        "                )\n",
        "  #Predict:\n",
        "  df_predict=df\n",
        "  fig.append_trace(go.Scatter(\n",
        "                      x=df_predict['ds'], y=df_predict['yhat'],\n",
        "                      mode='lines+markers',\n",
        "                      name='mean predict ' + name,line=dict( color='#ff25e2')\n",
        "                      ),row=i, col=1\n",
        "            )\n",
        "\n",
        "  #USL, LSL\n",
        "  fig.append_trace(go.Scatter(x=df_predict['ds'], y=df_predict['USL'],name='USL '+name, line=dict( color='#FF5733'),mode='lines'),row=i, col=1)\n",
        "  fig.append_trace(go.Scatter(x=df_predict['ds'], y=df_predict['LSL'],name='LSL '+name,line=dict( color='#FF5733'),mode='lines'),row=i, col=1)\n",
        "  #fig.append_trace(go.Scatter(x=df_predict['ds'], y=df_predict['Nominal'],name='Nominal '+name,line=dict( color='#FF5733'),mode='lines'),row=i, col=1)\n",
        "  # UCL, LCL\n",
        "  #fig.append_trace(go.Scatter(x=df_predict['ds'], y=df_predict['UCL'],name='UCL '+name, line=dict( color='#33C2FF'),mode='lines'),row=i, col=1)\n",
        "  #fig.append_trace(go.Scatter(x=df_predict['ds'], y=df_predict['LCL'],name='LCL '+name, line=dict( color='#33C2FF'),mode='lines'),row=i, col=1)\n",
        "  #fig.append_trace(go.Scatter(x=df_predict['ds'], y=df_predict['mean'],name='mean '+name, line=dict( color='#33C2FF'),mode='lines'),row=i, col=1)\n",
        "  # Fill between:\n",
        "  fig.append_trace(go.Scatter(x=df_predict['ds'], y=df_predict['yhat_upper'],name='yhat_upper '+name, line=dict( color='#9FA0F8'),fill=None,mode='lines'),row=i, col=1)\n",
        "  fig.append_trace(go.Scatter(x=df_predict['ds'], y=df_predict['yhat_lower'],name='yhat_lower '+name, line=dict( color='#9FA0F8'), fill='tonexty',mode='lines'),row=i, col=1)\n",
        "  i+=1\n",
        "fig.update_layout(height=300*len(DFdict_final), width=1200, title_text='Line chart')\n",
        "fig.show()"
      ],
      "execution_count": null,
      "outputs": [
        {
          "output_type": "stream",
          "text": [
            "C-Pitch\n",
            "test rmse: 0.0015954480704351605\n",
            "test mae: 0.03567530340063522\n",
            "J\n",
            "test rmse: 0.0013483997249264556\n",
            "test mae: 0.033028912953789916\n",
            "I\n",
            "test rmse: 0.002000000000000103\n",
            "test mae: 0.042640143271123525\n",
            "O\n",
            "test rmse: 0.007639609699692028\n",
            "test mae: 0.08633970960424221\n",
            "Z\n",
            "test rmse: 0.004512608598542134\n",
            "test mae: 0.061791438065332494\n"
          ],
          "name": "stdout"
        },
        {
          "output_type": "display_data",
          "data": {
            "text/html": [
              "<html>\n",
              "<head><meta charset=\"utf-8\" /></head>\n",
              "<body>\n",
              "    <div>\n",
              "            <script src=\"https://cdnjs.cloudflare.com/ajax/libs/mathjax/2.7.5/MathJax.js?config=TeX-AMS-MML_SVG\"></script><script type=\"text/javascript\">if (window.MathJax) {MathJax.Hub.Config({SVG: {font: \"STIX-Web\"}});}</script>\n",
              "                <script type=\"text/javascript\">window.PlotlyConfig = {MathJaxConfig: 'local'};</script>\n",
              "        <script src=\"https://cdn.plot.ly/plotly-latest.min.js\"></script>    \n",
              "            <div id=\"51a84d2d-9417-4429-a790-0bf9d060e93f\" class=\"plotly-graph-div\" style=\"height:1500px; width:1200px;\"></div>\n",
              "            <script type=\"text/javascript\">\n",
              "                \n",
              "                    window.PLOTLYENV=window.PLOTLYENV || {};\n",
              "                    \n",
              "                if (document.getElementById(\"51a84d2d-9417-4429-a790-0bf9d060e93f\")) {\n",
              "                    Plotly.newPlot(\n",
              "                        '51a84d2d-9417-4429-a790-0bf9d060e93f',\n",
              "                        [{\"line\": {\"color\": \"#000000\"}, \"mode\": \"lines+markers\", \"name\": \"mean C-Pitch\", \"type\": \"scatter\", \"x\": [\"2019-10-27T00:00:00\", \"2019-11-03T00:00:00\", \"2019-11-10T00:00:00\", \"2019-11-17T00:00:00\", \"2019-11-24T00:00:00\", \"2019-12-01T00:00:00\", \"2019-12-08T00:00:00\", \"2019-12-15T00:00:00\", \"2019-12-22T00:00:00\", \"2019-12-29T00:00:00\", \"2020-01-05T00:00:00\"], \"xaxis\": \"x\", \"y\": [10.0, 10.0, 10.0, 10.002, 10.002, 10.002, 10.0, 10.003, 10.003, 10.003, 9.999], \"yaxis\": \"y\"}, {\"line\": {\"color\": \"#ff25e2\"}, \"mode\": \"lines+markers\", \"name\": \"mean predict C-Pitch\", \"type\": \"scatter\", \"x\": [\"2019-10-27T00:00:00\", \"2019-11-03T00:00:00\", \"2019-11-10T00:00:00\", \"2019-11-17T00:00:00\", \"2019-11-24T00:00:00\", \"2019-12-01T00:00:00\", \"2019-12-08T00:00:00\", \"2019-12-15T00:00:00\", \"2019-12-22T00:00:00\", \"2019-12-29T00:00:00\", \"2020-01-05T00:00:00\"], \"xaxis\": \"x\", \"y\": [10.002, 10.002, 10.002, 10.002, 10.002, 10.002, 10.002, 10.002, 10.002, 10.002, 10.002], \"yaxis\": \"y\"}, {\"line\": {\"color\": \"#FF5733\"}, \"mode\": \"lines\", \"name\": \"USL C-Pitch\", \"type\": \"scatter\", \"x\": [\"2019-10-27T00:00:00\", \"2019-11-03T00:00:00\", \"2019-11-10T00:00:00\", \"2019-11-17T00:00:00\", \"2019-11-24T00:00:00\", \"2019-12-01T00:00:00\", \"2019-12-08T00:00:00\", \"2019-12-15T00:00:00\", \"2019-12-22T00:00:00\", \"2019-12-29T00:00:00\", \"2020-01-05T00:00:00\"], \"xaxis\": \"x\", \"y\": [10.01, 10.01, 10.01, 10.01, 10.01, 10.01, 10.01, 10.01, 10.01, 10.01, 10.01], \"yaxis\": \"y\"}, {\"line\": {\"color\": \"#FF5733\"}, \"mode\": \"lines\", \"name\": \"LSL C-Pitch\", \"type\": \"scatter\", \"x\": [\"2019-10-27T00:00:00\", \"2019-11-03T00:00:00\", \"2019-11-10T00:00:00\", \"2019-11-17T00:00:00\", \"2019-11-24T00:00:00\", \"2019-12-01T00:00:00\", \"2019-12-08T00:00:00\", \"2019-12-15T00:00:00\", \"2019-12-22T00:00:00\", \"2019-12-29T00:00:00\", \"2020-01-05T00:00:00\"], \"xaxis\": \"x\", \"y\": [9.99, 9.99, 9.99, 9.99, 9.99, 9.99, 9.99, 9.99, 9.99, 9.99, 9.99], \"yaxis\": \"y\"}, {\"line\": {\"color\": \"#9FA0F8\"}, \"mode\": \"lines\", \"name\": \"yhat_upper C-Pitch\", \"type\": \"scatter\", \"x\": [\"2019-10-27T00:00:00\", \"2019-11-03T00:00:00\", \"2019-11-10T00:00:00\", \"2019-11-17T00:00:00\", \"2019-11-24T00:00:00\", \"2019-12-01T00:00:00\", \"2019-12-08T00:00:00\", \"2019-12-15T00:00:00\", \"2019-12-22T00:00:00\", \"2019-12-29T00:00:00\", \"2020-01-05T00:00:00\"], \"xaxis\": \"x\", \"y\": [10.003, 10.004, 10.007, 10.01, 10.013, 10.017, 10.021, 10.026, 10.03, 10.035, 10.04], \"yaxis\": \"y\"}, {\"fill\": \"tonexty\", \"line\": {\"color\": \"#9FA0F8\"}, \"mode\": \"lines\", \"name\": \"yhat_lower C-Pitch\", \"type\": \"scatter\", \"x\": [\"2019-10-27T00:00:00\", \"2019-11-03T00:00:00\", \"2019-11-10T00:00:00\", \"2019-11-17T00:00:00\", \"2019-11-24T00:00:00\", \"2019-12-01T00:00:00\", \"2019-12-08T00:00:00\", \"2019-12-15T00:00:00\", \"2019-12-22T00:00:00\", \"2019-12-29T00:00:00\", \"2020-01-05T00:00:00\"], \"xaxis\": \"x\", \"y\": [10.001, 9.999, 9.997, 9.994, 9.991, 9.987, 9.983, 9.979, 9.975, 9.97, 9.963], \"yaxis\": \"y\"}, {\"line\": {\"color\": \"#000000\"}, \"mode\": \"lines+markers\", \"name\": \"mean J\", \"type\": \"scatter\", \"x\": [\"2019-10-27T00:00:00\", \"2019-11-03T00:00:00\", \"2019-11-10T00:00:00\", \"2019-11-17T00:00:00\", \"2019-11-24T00:00:00\", \"2019-12-01T00:00:00\", \"2019-12-08T00:00:00\", \"2019-12-15T00:00:00\", \"2019-12-22T00:00:00\", \"2019-12-29T00:00:00\", \"2020-01-05T00:00:00\"], \"xaxis\": \"x2\", \"y\": [1.22, 1.22, 1.22, 1.219, 1.219, 1.219, 1.219, 1.22, 1.22, 1.219, 1.218], \"yaxis\": \"y2\"}, {\"line\": {\"color\": \"#ff25e2\"}, \"mode\": \"lines+markers\", \"name\": \"mean predict J\", \"type\": \"scatter\", \"x\": [\"2019-10-27T00:00:00\", \"2019-11-03T00:00:00\", \"2019-11-10T00:00:00\", \"2019-11-17T00:00:00\", \"2019-11-24T00:00:00\", \"2019-12-01T00:00:00\", \"2019-12-08T00:00:00\", \"2019-12-15T00:00:00\", \"2019-12-22T00:00:00\", \"2019-12-29T00:00:00\", \"2020-01-05T00:00:00\"], \"xaxis\": \"x2\", \"y\": [1.219, 1.219, 1.219, 1.22, 1.22, 1.22, 1.22, 1.22, 1.22, 1.221, 1.221], \"yaxis\": \"y2\"}, {\"line\": {\"color\": \"#FF5733\"}, \"mode\": \"lines\", \"name\": \"USL J\", \"type\": \"scatter\", \"x\": [\"2019-10-27T00:00:00\", \"2019-11-03T00:00:00\", \"2019-11-10T00:00:00\", \"2019-11-17T00:00:00\", \"2019-11-24T00:00:00\", \"2019-12-01T00:00:00\", \"2019-12-08T00:00:00\", \"2019-12-15T00:00:00\", \"2019-12-22T00:00:00\", \"2019-12-29T00:00:00\", \"2020-01-05T00:00:00\"], \"xaxis\": \"x2\", \"y\": [1.22, 1.22, 1.22, 1.22, 1.22, 1.22, 1.22, 1.22, 1.22, 1.22, 1.22], \"yaxis\": \"y2\"}, {\"line\": {\"color\": \"#FF5733\"}, \"mode\": \"lines\", \"name\": \"LSL J\", \"type\": \"scatter\", \"x\": [\"2019-10-27T00:00:00\", \"2019-11-03T00:00:00\", \"2019-11-10T00:00:00\", \"2019-11-17T00:00:00\", \"2019-11-24T00:00:00\", \"2019-12-01T00:00:00\", \"2019-12-08T00:00:00\", \"2019-12-15T00:00:00\", \"2019-12-22T00:00:00\", \"2019-12-29T00:00:00\", \"2020-01-05T00:00:00\"], \"xaxis\": \"x2\", \"y\": [1.21, 1.21, 1.21, 1.21, 1.21, 1.21, 1.21, 1.21, 1.21, 1.21, 1.21], \"yaxis\": \"y2\"}, {\"line\": {\"color\": \"#9FA0F8\"}, \"mode\": \"lines\", \"name\": \"yhat_upper J\", \"type\": \"scatter\", \"x\": [\"2019-10-27T00:00:00\", \"2019-11-03T00:00:00\", \"2019-11-10T00:00:00\", \"2019-11-17T00:00:00\", \"2019-11-24T00:00:00\", \"2019-12-01T00:00:00\", \"2019-12-08T00:00:00\", \"2019-12-15T00:00:00\", \"2019-12-22T00:00:00\", \"2019-12-29T00:00:00\", \"2020-01-05T00:00:00\"], \"xaxis\": \"x2\", \"y\": [1.22, 1.22, 1.22, 1.221, 1.222, 1.223, 1.224, 1.225, 1.226, 1.226, 1.227], \"yaxis\": \"y2\"}, {\"fill\": \"tonexty\", \"line\": {\"color\": \"#9FA0F8\"}, \"mode\": \"lines\", \"name\": \"yhat_lower J\", \"type\": \"scatter\", \"x\": [\"2019-10-27T00:00:00\", \"2019-11-03T00:00:00\", \"2019-11-10T00:00:00\", \"2019-11-17T00:00:00\", \"2019-11-24T00:00:00\", \"2019-12-01T00:00:00\", \"2019-12-08T00:00:00\", \"2019-12-15T00:00:00\", \"2019-12-22T00:00:00\", \"2019-12-29T00:00:00\", \"2020-01-05T00:00:00\"], \"xaxis\": \"x2\", \"y\": [1.219, 1.219, 1.218, 1.218, 1.217, 1.217, 1.216, 1.215, 1.215, 1.214, 1.213], \"yaxis\": \"y2\"}, {\"line\": {\"color\": \"#000000\"}, \"mode\": \"lines+markers\", \"name\": \"mean I\", \"type\": \"scatter\", \"x\": [\"2019-10-27T00:00:00\", \"2019-11-03T00:00:00\", \"2019-11-10T00:00:00\", \"2019-11-17T00:00:00\", \"2019-11-24T00:00:00\", \"2019-12-01T00:00:00\", \"2019-12-08T00:00:00\", \"2019-12-15T00:00:00\", \"2019-12-22T00:00:00\", \"2019-12-29T00:00:00\", \"2020-01-05T00:00:00\"], \"xaxis\": \"x3\", \"y\": [3.198, 3.198, 3.198, 3.197, 3.197, 3.197, 3.199, 3.2, 3.2, 3.202, 3.201], \"yaxis\": \"y3\"}, {\"line\": {\"color\": \"#ff25e2\"}, \"mode\": \"lines+markers\", \"name\": \"mean predict I\", \"type\": \"scatter\", \"x\": [\"2019-10-27T00:00:00\", \"2019-11-03T00:00:00\", \"2019-11-10T00:00:00\", \"2019-11-17T00:00:00\", \"2019-11-24T00:00:00\", \"2019-12-01T00:00:00\", \"2019-12-08T00:00:00\", \"2019-12-15T00:00:00\", \"2019-12-22T00:00:00\", \"2019-12-29T00:00:00\", \"2020-01-05T00:00:00\"], \"xaxis\": \"x3\", \"y\": [3.2, 3.2, 3.2, 3.2, 3.199, 3.199, 3.199, 3.199, 3.199, 3.199, 3.199], \"yaxis\": \"y3\"}, {\"line\": {\"color\": \"#FF5733\"}, \"mode\": \"lines\", \"name\": \"USL I\", \"type\": \"scatter\", \"x\": [\"2019-10-27T00:00:00\", \"2019-11-03T00:00:00\", \"2019-11-10T00:00:00\", \"2019-11-17T00:00:00\", \"2019-11-24T00:00:00\", \"2019-12-01T00:00:00\", \"2019-12-08T00:00:00\", \"2019-12-15T00:00:00\", \"2019-12-22T00:00:00\", \"2019-12-29T00:00:00\", \"2020-01-05T00:00:00\"], \"xaxis\": \"x3\", \"y\": [3.21, 3.21, 3.21, 3.21, 3.21, 3.21, 3.21, 3.21, 3.21, 3.21, 3.21], \"yaxis\": \"y3\"}, {\"line\": {\"color\": \"#FF5733\"}, \"mode\": \"lines\", \"name\": \"LSL I\", \"type\": \"scatter\", \"x\": [\"2019-10-27T00:00:00\", \"2019-11-03T00:00:00\", \"2019-11-10T00:00:00\", \"2019-11-17T00:00:00\", \"2019-11-24T00:00:00\", \"2019-12-01T00:00:00\", \"2019-12-08T00:00:00\", \"2019-12-15T00:00:00\", \"2019-12-22T00:00:00\", \"2019-12-29T00:00:00\", \"2020-01-05T00:00:00\"], \"xaxis\": \"x3\", \"y\": [3.19, 3.19, 3.19, 3.19, 3.19, 3.19, 3.19, 3.19, 3.19, 3.19, 3.19], \"yaxis\": \"y3\"}, {\"line\": {\"color\": \"#9FA0F8\"}, \"mode\": \"lines\", \"name\": \"yhat_upper I\", \"type\": \"scatter\", \"x\": [\"2019-10-27T00:00:00\", \"2019-11-03T00:00:00\", \"2019-11-10T00:00:00\", \"2019-11-17T00:00:00\", \"2019-11-24T00:00:00\", \"2019-12-01T00:00:00\", \"2019-12-08T00:00:00\", \"2019-12-15T00:00:00\", \"2019-12-22T00:00:00\", \"2019-12-29T00:00:00\", \"2020-01-05T00:00:00\"], \"xaxis\": \"x3\", \"y\": [3.201, 3.202, 3.204, 3.207, 3.21, 3.214, 3.218, 3.222, 3.227, 3.231, 3.236], \"yaxis\": \"y3\"}, {\"fill\": \"tonexty\", \"line\": {\"color\": \"#9FA0F8\"}, \"mode\": \"lines\", \"name\": \"yhat_lower I\", \"type\": \"scatter\", \"x\": [\"2019-10-27T00:00:00\", \"2019-11-03T00:00:00\", \"2019-11-10T00:00:00\", \"2019-11-17T00:00:00\", \"2019-11-24T00:00:00\", \"2019-12-01T00:00:00\", \"2019-12-08T00:00:00\", \"2019-12-15T00:00:00\", \"2019-12-22T00:00:00\", \"2019-12-29T00:00:00\", \"2020-01-05T00:00:00\"], \"xaxis\": \"x3\", \"y\": [3.199, 3.197, 3.195, 3.192, 3.188, 3.185, 3.181, 3.177, 3.172, 3.168, 3.163], \"yaxis\": \"y3\"}, {\"line\": {\"color\": \"#000000\"}, \"mode\": \"lines+markers\", \"name\": \"mean O\", \"type\": \"scatter\", \"x\": [\"2019-10-27T00:00:00\", \"2019-11-03T00:00:00\", \"2019-11-10T00:00:00\", \"2019-11-17T00:00:00\", \"2019-11-24T00:00:00\", \"2019-12-01T00:00:00\", \"2019-12-08T00:00:00\", \"2019-12-15T00:00:00\", \"2019-12-22T00:00:00\", \"2019-12-29T00:00:00\", \"2020-01-05T00:00:00\"], \"xaxis\": \"x4\", \"y\": [11.849, 11.849, 11.849, 11.851, 11.851, 11.851, 11.849, 11.852, 11.852, 11.849, 11.848], \"yaxis\": \"y4\"}, {\"line\": {\"color\": \"#ff25e2\"}, \"mode\": \"lines+markers\", \"name\": \"mean predict O\", \"type\": \"scatter\", \"x\": [\"2019-10-27T00:00:00\", \"2019-11-03T00:00:00\", \"2019-11-10T00:00:00\", \"2019-11-17T00:00:00\", \"2019-11-24T00:00:00\", \"2019-12-01T00:00:00\", \"2019-12-08T00:00:00\", \"2019-12-15T00:00:00\", \"2019-12-22T00:00:00\", \"2019-12-29T00:00:00\", \"2020-01-05T00:00:00\"], \"xaxis\": \"x4\", \"y\": [11.856, 11.856, 11.856, 11.857, 11.857, 11.857, 11.858, 11.858, 11.859, 11.859, 11.859], \"yaxis\": \"y4\"}, {\"line\": {\"color\": \"#FF5733\"}, \"mode\": \"lines\", \"name\": \"USL O\", \"type\": \"scatter\", \"x\": [\"2019-10-27T00:00:00\", \"2019-11-03T00:00:00\", \"2019-11-10T00:00:00\", \"2019-11-17T00:00:00\", \"2019-11-24T00:00:00\", \"2019-12-01T00:00:00\", \"2019-12-08T00:00:00\", \"2019-12-15T00:00:00\", \"2019-12-22T00:00:00\", \"2019-12-29T00:00:00\", \"2020-01-05T00:00:00\"], \"xaxis\": \"x4\", \"y\": [11.86, 11.86, 11.86, 11.86, 11.86, 11.86, 11.86, 11.86, 11.86, 11.86, 11.86], \"yaxis\": \"y4\"}, {\"line\": {\"color\": \"#FF5733\"}, \"mode\": \"lines\", \"name\": \"LSL O\", \"type\": \"scatter\", \"x\": [\"2019-10-27T00:00:00\", \"2019-11-03T00:00:00\", \"2019-11-10T00:00:00\", \"2019-11-17T00:00:00\", \"2019-11-24T00:00:00\", \"2019-12-01T00:00:00\", \"2019-12-08T00:00:00\", \"2019-12-15T00:00:00\", \"2019-12-22T00:00:00\", \"2019-12-29T00:00:00\", \"2020-01-05T00:00:00\"], \"xaxis\": \"x4\", \"y\": [11.84, 11.84, 11.84, 11.84, 11.84, 11.84, 11.84, 11.84, 11.84, 11.84, 11.84], \"yaxis\": \"y4\"}, {\"line\": {\"color\": \"#9FA0F8\"}, \"mode\": \"lines\", \"name\": \"yhat_upper O\", \"type\": \"scatter\", \"x\": [\"2019-10-27T00:00:00\", \"2019-11-03T00:00:00\", \"2019-11-10T00:00:00\", \"2019-11-17T00:00:00\", \"2019-11-24T00:00:00\", \"2019-12-01T00:00:00\", \"2019-12-08T00:00:00\", \"2019-12-15T00:00:00\", \"2019-12-22T00:00:00\", \"2019-12-29T00:00:00\", \"2020-01-05T00:00:00\"], \"xaxis\": \"x4\", \"y\": [11.858, 11.859, 11.862, 11.865, 11.87, 11.875, 11.879, 11.886, 11.891, 11.897, 11.904], \"yaxis\": \"y4\"}, {\"fill\": \"tonexty\", \"line\": {\"color\": \"#9FA0F8\"}, \"mode\": \"lines\", \"name\": \"yhat_lower O\", \"type\": \"scatter\", \"x\": [\"2019-10-27T00:00:00\", \"2019-11-03T00:00:00\", \"2019-11-10T00:00:00\", \"2019-11-17T00:00:00\", \"2019-11-24T00:00:00\", \"2019-12-01T00:00:00\", \"2019-12-08T00:00:00\", \"2019-12-15T00:00:00\", \"2019-12-22T00:00:00\", \"2019-12-29T00:00:00\", \"2020-01-05T00:00:00\"], \"xaxis\": \"x4\", \"y\": [11.853, 11.853, 11.85, 11.847, 11.844, 11.84, 11.837, 11.831, 11.826, 11.82, 11.813], \"yaxis\": \"y4\"}, {\"line\": {\"color\": \"#000000\"}, \"mode\": \"lines+markers\", \"name\": \"mean Z\", \"type\": \"scatter\", \"x\": [\"2019-10-27T00:00:00\", \"2019-11-03T00:00:00\", \"2019-11-10T00:00:00\", \"2019-11-17T00:00:00\", \"2019-11-24T00:00:00\", \"2019-12-01T00:00:00\", \"2019-12-08T00:00:00\", \"2019-12-15T00:00:00\", \"2019-12-22T00:00:00\", \"2019-12-29T00:00:00\", \"2020-01-05T00:00:00\"], \"xaxis\": \"x5\", \"y\": [0.313, 0.313, 0.313, 0.315, 0.315, 0.315, 0.308, 0.311, 0.311, 0.312, 0.313], \"yaxis\": \"y5\"}, {\"line\": {\"color\": \"#ff25e2\"}, \"mode\": \"lines+markers\", \"name\": \"mean predict Z\", \"type\": \"scatter\", \"x\": [\"2019-10-27T00:00:00\", \"2019-11-03T00:00:00\", \"2019-11-10T00:00:00\", \"2019-11-17T00:00:00\", \"2019-11-24T00:00:00\", \"2019-12-01T00:00:00\", \"2019-12-08T00:00:00\", \"2019-12-15T00:00:00\", \"2019-12-22T00:00:00\", \"2019-12-29T00:00:00\", \"2020-01-05T00:00:00\"], \"xaxis\": \"x5\", \"y\": [0.316, 0.316, 0.316, 0.316, 0.316, 0.316, 0.317, 0.317, 0.317, 0.317, 0.317], \"yaxis\": \"y5\"}, {\"line\": {\"color\": \"#FF5733\"}, \"mode\": \"lines\", \"name\": \"USL Z\", \"type\": \"scatter\", \"x\": [\"2019-10-27T00:00:00\", \"2019-11-03T00:00:00\", \"2019-11-10T00:00:00\", \"2019-11-17T00:00:00\", \"2019-11-24T00:00:00\", \"2019-12-01T00:00:00\", \"2019-12-08T00:00:00\", \"2019-12-15T00:00:00\", \"2019-12-22T00:00:00\", \"2019-12-29T00:00:00\", \"2020-01-05T00:00:00\"], \"xaxis\": \"x5\", \"y\": [0.32, 0.32, 0.32, 0.32, 0.32, 0.32, 0.32, 0.32, 0.32, 0.32, 0.32], \"yaxis\": \"y5\"}, {\"line\": {\"color\": \"#FF5733\"}, \"mode\": \"lines\", \"name\": \"LSL Z\", \"type\": \"scatter\", \"x\": [\"2019-10-27T00:00:00\", \"2019-11-03T00:00:00\", \"2019-11-10T00:00:00\", \"2019-11-17T00:00:00\", \"2019-11-24T00:00:00\", \"2019-12-01T00:00:00\", \"2019-12-08T00:00:00\", \"2019-12-15T00:00:00\", \"2019-12-22T00:00:00\", \"2019-12-29T00:00:00\", \"2020-01-05T00:00:00\"], \"xaxis\": \"x5\", \"y\": [0.28, 0.28, 0.28, 0.28, 0.28, 0.28, 0.28, 0.28, 0.28, 0.28, 0.28], \"yaxis\": \"y5\"}, {\"line\": {\"color\": \"#9FA0F8\"}, \"mode\": \"lines\", \"name\": \"yhat_upper Z\", \"type\": \"scatter\", \"x\": [\"2019-10-27T00:00:00\", \"2019-11-03T00:00:00\", \"2019-11-10T00:00:00\", \"2019-11-17T00:00:00\", \"2019-11-24T00:00:00\", \"2019-12-01T00:00:00\", \"2019-12-08T00:00:00\", \"2019-12-15T00:00:00\", \"2019-12-22T00:00:00\", \"2019-12-29T00:00:00\", \"2020-01-05T00:00:00\"], \"xaxis\": \"x5\", \"y\": [0.317, 0.317, 0.317, 0.317, 0.318, 0.318, 0.318, 0.319, 0.319, 0.32, 0.32], \"yaxis\": \"y5\"}, {\"fill\": \"tonexty\", \"line\": {\"color\": \"#9FA0F8\"}, \"mode\": \"lines\", \"name\": \"yhat_lower Z\", \"type\": \"scatter\", \"x\": [\"2019-10-27T00:00:00\", \"2019-11-03T00:00:00\", \"2019-11-10T00:00:00\", \"2019-11-17T00:00:00\", \"2019-11-24T00:00:00\", \"2019-12-01T00:00:00\", \"2019-12-08T00:00:00\", \"2019-12-15T00:00:00\", \"2019-12-22T00:00:00\", \"2019-12-29T00:00:00\", \"2020-01-05T00:00:00\"], \"xaxis\": \"x5\", \"y\": [0.314, 0.315, 0.315, 0.315, 0.315, 0.315, 0.315, 0.315, 0.315, 0.315, 0.315], \"yaxis\": \"y5\"}],\n",
              "                        {\"annotations\": [{\"font\": {\"size\": 16}, \"showarrow\": false, \"text\": \"C-Pitch\", \"x\": 0.5, \"xanchor\": \"center\", \"xref\": \"paper\", \"y\": 1.0, \"yanchor\": \"bottom\", \"yref\": \"paper\"}, {\"font\": {\"size\": 16}, \"showarrow\": false, \"text\": \"J\", \"x\": 0.5, \"xanchor\": \"center\", \"xref\": \"paper\", \"y\": 0.78, \"yanchor\": \"bottom\", \"yref\": \"paper\"}, {\"font\": {\"size\": 16}, \"showarrow\": false, \"text\": \"I\", \"x\": 0.5, \"xanchor\": \"center\", \"xref\": \"paper\", \"y\": 0.56, \"yanchor\": \"bottom\", \"yref\": \"paper\"}, {\"font\": {\"size\": 16}, \"showarrow\": false, \"text\": \"O\", \"x\": 0.5, \"xanchor\": \"center\", \"xref\": \"paper\", \"y\": 0.33999999999999997, \"yanchor\": \"bottom\", \"yref\": \"paper\"}, {\"font\": {\"size\": 16}, \"showarrow\": false, \"text\": \"Z\", \"x\": 0.5, \"xanchor\": \"center\", \"xref\": \"paper\", \"y\": 0.12, \"yanchor\": \"bottom\", \"yref\": \"paper\"}], \"height\": 1500, \"template\": {\"data\": {\"bar\": [{\"error_x\": {\"color\": \"#2a3f5f\"}, \"error_y\": {\"color\": \"#2a3f5f\"}, \"marker\": {\"line\": {\"color\": \"#E5ECF6\", \"width\": 0.5}}, \"type\": \"bar\"}], \"barpolar\": [{\"marker\": {\"line\": {\"color\": \"#E5ECF6\", \"width\": 0.5}}, \"type\": \"barpolar\"}], \"carpet\": [{\"aaxis\": {\"endlinecolor\": \"#2a3f5f\", \"gridcolor\": \"white\", \"linecolor\": \"white\", \"minorgridcolor\": \"white\", \"startlinecolor\": \"#2a3f5f\"}, \"baxis\": {\"endlinecolor\": \"#2a3f5f\", \"gridcolor\": \"white\", \"linecolor\": \"white\", \"minorgridcolor\": \"white\", \"startlinecolor\": \"#2a3f5f\"}, \"type\": \"carpet\"}], \"choropleth\": [{\"colorbar\": {\"outlinewidth\": 0, \"ticks\": \"\"}, \"type\": \"choropleth\"}], \"contour\": [{\"colorbar\": {\"outlinewidth\": 0, \"ticks\": \"\"}, \"colorscale\": [[0.0, \"#0d0887\"], [0.1111111111111111, \"#46039f\"], [0.2222222222222222, \"#7201a8\"], [0.3333333333333333, \"#9c179e\"], [0.4444444444444444, \"#bd3786\"], [0.5555555555555556, \"#d8576b\"], [0.6666666666666666, \"#ed7953\"], [0.7777777777777778, \"#fb9f3a\"], [0.8888888888888888, \"#fdca26\"], [1.0, \"#f0f921\"]], \"type\": \"contour\"}], \"contourcarpet\": [{\"colorbar\": {\"outlinewidth\": 0, \"ticks\": \"\"}, \"type\": \"contourcarpet\"}], \"heatmap\": [{\"colorbar\": {\"outlinewidth\": 0, \"ticks\": \"\"}, \"colorscale\": [[0.0, \"#0d0887\"], [0.1111111111111111, \"#46039f\"], [0.2222222222222222, \"#7201a8\"], [0.3333333333333333, \"#9c179e\"], [0.4444444444444444, \"#bd3786\"], [0.5555555555555556, \"#d8576b\"], [0.6666666666666666, \"#ed7953\"], [0.7777777777777778, \"#fb9f3a\"], [0.8888888888888888, \"#fdca26\"], [1.0, \"#f0f921\"]], \"type\": \"heatmap\"}], \"heatmapgl\": [{\"colorbar\": {\"outlinewidth\": 0, \"ticks\": \"\"}, \"colorscale\": [[0.0, \"#0d0887\"], [0.1111111111111111, \"#46039f\"], [0.2222222222222222, \"#7201a8\"], [0.3333333333333333, \"#9c179e\"], [0.4444444444444444, \"#bd3786\"], [0.5555555555555556, \"#d8576b\"], [0.6666666666666666, \"#ed7953\"], [0.7777777777777778, \"#fb9f3a\"], [0.8888888888888888, \"#fdca26\"], [1.0, \"#f0f921\"]], \"type\": \"heatmapgl\"}], \"histogram\": [{\"marker\": {\"colorbar\": {\"outlinewidth\": 0, \"ticks\": \"\"}}, \"type\": \"histogram\"}], \"histogram2d\": [{\"colorbar\": {\"outlinewidth\": 0, \"ticks\": \"\"}, \"colorscale\": [[0.0, \"#0d0887\"], [0.1111111111111111, \"#46039f\"], [0.2222222222222222, \"#7201a8\"], [0.3333333333333333, \"#9c179e\"], [0.4444444444444444, \"#bd3786\"], [0.5555555555555556, \"#d8576b\"], [0.6666666666666666, \"#ed7953\"], [0.7777777777777778, \"#fb9f3a\"], [0.8888888888888888, \"#fdca26\"], [1.0, \"#f0f921\"]], \"type\": \"histogram2d\"}], \"histogram2dcontour\": [{\"colorbar\": {\"outlinewidth\": 0, \"ticks\": \"\"}, \"colorscale\": [[0.0, \"#0d0887\"], [0.1111111111111111, \"#46039f\"], [0.2222222222222222, \"#7201a8\"], [0.3333333333333333, \"#9c179e\"], [0.4444444444444444, \"#bd3786\"], [0.5555555555555556, \"#d8576b\"], [0.6666666666666666, \"#ed7953\"], [0.7777777777777778, \"#fb9f3a\"], [0.8888888888888888, \"#fdca26\"], [1.0, \"#f0f921\"]], \"type\": \"histogram2dcontour\"}], \"mesh3d\": [{\"colorbar\": {\"outlinewidth\": 0, \"ticks\": \"\"}, \"type\": \"mesh3d\"}], \"parcoords\": [{\"line\": {\"colorbar\": {\"outlinewidth\": 0, \"ticks\": \"\"}}, \"type\": \"parcoords\"}], \"pie\": [{\"automargin\": true, \"type\": \"pie\"}], \"scatter\": [{\"marker\": {\"colorbar\": {\"outlinewidth\": 0, \"ticks\": \"\"}}, \"type\": \"scatter\"}], \"scatter3d\": [{\"line\": {\"colorbar\": {\"outlinewidth\": 0, \"ticks\": \"\"}}, \"marker\": {\"colorbar\": {\"outlinewidth\": 0, \"ticks\": \"\"}}, \"type\": \"scatter3d\"}], \"scattercarpet\": [{\"marker\": {\"colorbar\": {\"outlinewidth\": 0, \"ticks\": \"\"}}, \"type\": \"scattercarpet\"}], \"scattergeo\": [{\"marker\": {\"colorbar\": {\"outlinewidth\": 0, \"ticks\": \"\"}}, \"type\": \"scattergeo\"}], \"scattergl\": [{\"marker\": {\"colorbar\": {\"outlinewidth\": 0, \"ticks\": \"\"}}, \"type\": \"scattergl\"}], \"scattermapbox\": [{\"marker\": {\"colorbar\": {\"outlinewidth\": 0, \"ticks\": \"\"}}, \"type\": \"scattermapbox\"}], \"scatterpolar\": [{\"marker\": {\"colorbar\": {\"outlinewidth\": 0, \"ticks\": \"\"}}, \"type\": \"scatterpolar\"}], \"scatterpolargl\": [{\"marker\": {\"colorbar\": {\"outlinewidth\": 0, \"ticks\": \"\"}}, \"type\": \"scatterpolargl\"}], \"scatterternary\": [{\"marker\": {\"colorbar\": {\"outlinewidth\": 0, \"ticks\": \"\"}}, \"type\": \"scatterternary\"}], \"surface\": [{\"colorbar\": {\"outlinewidth\": 0, \"ticks\": \"\"}, \"colorscale\": [[0.0, \"#0d0887\"], [0.1111111111111111, \"#46039f\"], [0.2222222222222222, \"#7201a8\"], [0.3333333333333333, \"#9c179e\"], [0.4444444444444444, \"#bd3786\"], [0.5555555555555556, \"#d8576b\"], [0.6666666666666666, \"#ed7953\"], [0.7777777777777778, \"#fb9f3a\"], [0.8888888888888888, \"#fdca26\"], [1.0, \"#f0f921\"]], \"type\": \"surface\"}], \"table\": [{\"cells\": {\"fill\": {\"color\": \"#EBF0F8\"}, \"line\": {\"color\": \"white\"}}, \"header\": {\"fill\": {\"color\": \"#C8D4E3\"}, \"line\": {\"color\": \"white\"}}, \"type\": \"table\"}]}, \"layout\": {\"annotationdefaults\": {\"arrowcolor\": \"#2a3f5f\", \"arrowhead\": 0, \"arrowwidth\": 1}, \"coloraxis\": {\"colorbar\": {\"outlinewidth\": 0, \"ticks\": \"\"}}, \"colorscale\": {\"diverging\": [[0, \"#8e0152\"], [0.1, \"#c51b7d\"], [0.2, \"#de77ae\"], [0.3, \"#f1b6da\"], [0.4, \"#fde0ef\"], [0.5, \"#f7f7f7\"], [0.6, \"#e6f5d0\"], [0.7, \"#b8e186\"], [0.8, \"#7fbc41\"], [0.9, \"#4d9221\"], [1, \"#276419\"]], \"sequential\": [[0.0, \"#0d0887\"], [0.1111111111111111, \"#46039f\"], [0.2222222222222222, \"#7201a8\"], [0.3333333333333333, \"#9c179e\"], [0.4444444444444444, \"#bd3786\"], [0.5555555555555556, \"#d8576b\"], [0.6666666666666666, \"#ed7953\"], [0.7777777777777778, \"#fb9f3a\"], [0.8888888888888888, \"#fdca26\"], [1.0, \"#f0f921\"]], \"sequentialminus\": [[0.0, \"#0d0887\"], [0.1111111111111111, \"#46039f\"], [0.2222222222222222, \"#7201a8\"], [0.3333333333333333, \"#9c179e\"], [0.4444444444444444, \"#bd3786\"], [0.5555555555555556, \"#d8576b\"], [0.6666666666666666, \"#ed7953\"], [0.7777777777777778, \"#fb9f3a\"], [0.8888888888888888, \"#fdca26\"], [1.0, \"#f0f921\"]]}, \"colorway\": [\"#636efa\", \"#EF553B\", \"#00cc96\", \"#ab63fa\", \"#FFA15A\", \"#19d3f3\", \"#FF6692\", \"#B6E880\", \"#FF97FF\", \"#FECB52\"], \"font\": {\"color\": \"#2a3f5f\"}, \"geo\": {\"bgcolor\": \"white\", \"lakecolor\": \"white\", \"landcolor\": \"#E5ECF6\", \"showlakes\": true, \"showland\": true, \"subunitcolor\": \"white\"}, \"hoverlabel\": {\"align\": \"left\"}, \"hovermode\": \"closest\", \"mapbox\": {\"style\": \"light\"}, \"paper_bgcolor\": \"white\", \"plot_bgcolor\": \"#E5ECF6\", \"polar\": {\"angularaxis\": {\"gridcolor\": \"white\", \"linecolor\": \"white\", \"ticks\": \"\"}, \"bgcolor\": \"#E5ECF6\", \"radialaxis\": {\"gridcolor\": \"white\", \"linecolor\": \"white\", \"ticks\": \"\"}}, \"scene\": {\"xaxis\": {\"backgroundcolor\": \"#E5ECF6\", \"gridcolor\": \"white\", \"gridwidth\": 2, \"linecolor\": \"white\", \"showbackground\": true, \"ticks\": \"\", \"zerolinecolor\": \"white\"}, \"yaxis\": {\"backgroundcolor\": \"#E5ECF6\", \"gridcolor\": \"white\", \"gridwidth\": 2, \"linecolor\": \"white\", \"showbackground\": true, \"ticks\": \"\", \"zerolinecolor\": \"white\"}, \"zaxis\": {\"backgroundcolor\": \"#E5ECF6\", \"gridcolor\": \"white\", \"gridwidth\": 2, \"linecolor\": \"white\", \"showbackground\": true, \"ticks\": \"\", \"zerolinecolor\": \"white\"}}, \"shapedefaults\": {\"line\": {\"color\": \"#2a3f5f\"}}, \"ternary\": {\"aaxis\": {\"gridcolor\": \"white\", \"linecolor\": \"white\", \"ticks\": \"\"}, \"baxis\": {\"gridcolor\": \"white\", \"linecolor\": \"white\", \"ticks\": \"\"}, \"bgcolor\": \"#E5ECF6\", \"caxis\": {\"gridcolor\": \"white\", \"linecolor\": \"white\", \"ticks\": \"\"}}, \"title\": {\"x\": 0.05}, \"xaxis\": {\"automargin\": true, \"gridcolor\": \"white\", \"linecolor\": \"white\", \"ticks\": \"\", \"title\": {\"standoff\": 15}, \"zerolinecolor\": \"white\", \"zerolinewidth\": 2}, \"yaxis\": {\"automargin\": true, \"gridcolor\": \"white\", \"linecolor\": \"white\", \"ticks\": \"\", \"title\": {\"standoff\": 15}, \"zerolinecolor\": \"white\", \"zerolinewidth\": 2}}}, \"title\": {\"text\": \"Line chart\"}, \"width\": 1200, \"xaxis\": {\"anchor\": \"y\", \"domain\": [0.0, 1.0]}, \"xaxis2\": {\"anchor\": \"y2\", \"domain\": [0.0, 1.0]}, \"xaxis3\": {\"anchor\": \"y3\", \"domain\": [0.0, 1.0]}, \"xaxis4\": {\"anchor\": \"y4\", \"domain\": [0.0, 1.0]}, \"xaxis5\": {\"anchor\": \"y5\", \"domain\": [0.0, 1.0]}, \"yaxis\": {\"anchor\": \"x\", \"domain\": [0.88, 1.0]}, \"yaxis2\": {\"anchor\": \"x2\", \"domain\": [0.66, 0.78]}, \"yaxis3\": {\"anchor\": \"x3\", \"domain\": [0.44, 0.56]}, \"yaxis4\": {\"anchor\": \"x4\", \"domain\": [0.22, 0.33999999999999997]}, \"yaxis5\": {\"anchor\": \"x5\", \"domain\": [0.0, 0.12]}},\n",
              "                        {\"responsive\": true}\n",
              "                    ).then(function(){\n",
              "                            \n",
              "var gd = document.getElementById('51a84d2d-9417-4429-a790-0bf9d060e93f');\n",
              "var x = new MutationObserver(function (mutations, observer) {{\n",
              "        var display = window.getComputedStyle(gd).display;\n",
              "        if (!display || display === 'none') {{\n",
              "            console.log([gd, 'removed!']);\n",
              "            Plotly.purge(gd);\n",
              "            observer.disconnect();\n",
              "        }}\n",
              "}});\n",
              "\n",
              "// Listen for the removal of the full notebook cells\n",
              "var notebookContainer = gd.closest('#notebook-container');\n",
              "if (notebookContainer) {{\n",
              "    x.observe(notebookContainer, {childList: true});\n",
              "}}\n",
              "\n",
              "// Listen for the clearing of the current output cell\n",
              "var outputEl = gd.closest('.output');\n",
              "if (outputEl) {{\n",
              "    x.observe(outputEl, {childList: true});\n",
              "}}\n",
              "\n",
              "                        })\n",
              "                };\n",
              "                \n",
              "            </script>\n",
              "        </div>\n",
              "</body>\n",
              "</html>"
            ]
          },
          "metadata": {
            "tags": []
          }
        }
      ]
    },
    {
      "cell_type": "markdown",
      "metadata": {
        "id": "TwAaXmvqn936",
        "colab_type": "text"
      },
      "source": [
        "## ARIMA"
      ]
    },
    {
      "cell_type": "code",
      "metadata": {
        "id": "WgXV9EFg_5zN",
        "colab_type": "code",
        "colab": {}
      },
      "source": [
        "from statsmodels.tsa.arima_model import ARIMA\n",
        "import statsmodels.api as sm\n",
        "from statsmodels.graphics.tsaplots import plot_acf\n",
        "from statsmodels.stats.diagnostic import acorr_ljungbox\n",
        "import scipy.stats as scs\n",
        "from math import sqrt\n",
        "from sklearn.metrics import mean_squared_error,mean_absolute_error\n",
        "from sklearn.model_selection import train_test_split\n",
        "from sklearn.preprocessing import MinMaxScaler,StandardScaler"
      ],
      "execution_count": null,
      "outputs": []
    },
    {
      "cell_type": "code",
      "metadata": {
        "id": "70ZKSo-FoCmH",
        "colab_type": "code",
        "colab": {}
      },
      "source": [
        "for name in DFdict_final.keys(): #also group\n",
        "  print(name)\n",
        "  df_temp_2=DFdict_final[name].copy() # gia tri mean thong thuong\n",
        "  df_predict=df_temp_2.set_index(df_temp_2.columns[0]).copy()\n",
        "  df_predict=df_predict.resample('1W').ffill() # gia tri mean da resample\n",
        "  df_original=df_predict.reset_index()#\n",
        "  #df_lstm=df_lstm[[df_lstm.columns[0],df_lstm.columns[1]]]\n",
        "  #df_fb.columns=['ds','y']\n",
        "  break\n",
        "df=df_original[[df_original.columns[0],df_original.columns[1]]].\\\n",
        "    set_index(df_original.columns[0])\n",
        "df.head()"
      ],
      "execution_count": null,
      "outputs": []
    },
    {
      "cell_type": "markdown",
      "metadata": {
        "id": "6oROr7KEpEuc",
        "colab_type": "text"
      },
      "source": [
        "By setting the parameters of the ARIMA model, we can obtain some\n",
        "special cases:\n",
        "- ARIMA (0,0,0): White noise\n",
        "- ARIMA (0,1,0) without constant: Random walk\n",
        "- ARIMA (p,0,q): ARMA(p, q)\n",
        "- ARIMA (p, 0, 0): AR(p) model\n",
        "- ARIMA (0, 0, q): MA(q) model\n",
        "- ARIMA (0,1,2): Damped Holt's model\n",
        "- ARIMA (0,1,1) without constant: SES model\n",
        "- ARIMA (0,2,2): Holt's linear method with additive errors"
      ]
    },
    {
      "cell_type": "code",
      "metadata": {
        "id": "P6KrXRCSrdSb",
        "colab_type": "code",
        "colab": {}
      },
      "source": [
        "order=(0,1,1)"
      ],
      "execution_count": null,
      "outputs": []
    },
    {
      "cell_type": "code",
      "metadata": {
        "id": "hKsoxVDpoHRP",
        "colab_type": "code",
        "colab": {}
      },
      "source": [
        "# Define important value\n",
        "split=int(len(df) * 0.80)\n",
        "training_set=df[:split][df.columns[0]] \n",
        "test_set=df[split:][df.columns[0]] \n",
        "y_test=test_set # y test\n",
        "print(training_set.shape)\n",
        "print(test_set.shape)"
      ],
      "execution_count": null,
      "outputs": []
    },
    {
      "cell_type": "code",
      "metadata": {
        "id": "rzWWVCm_pxVP",
        "colab_type": "code",
        "colab": {}
      },
      "source": [
        "history = [x for x in training_set]\n",
        "predictions = list()\n",
        "for i in range(len(test_set)):\n",
        "  # predict\n",
        "  model = ARIMA(history, order=order)\n",
        "  model_fit = model.fit(disp=0)\n",
        "  yhat = model_fit.forecast()[0]\n",
        "  predictions.append(yhat)\n",
        "  # observation\n",
        "  obs = test_set[i]\n",
        "  history.append(obs)\n",
        "  #print('>Predicted=%.3f, Expected=%.3f' % (yhat, obs))\n",
        "# report performance\n",
        "rmse = sqrt(mean_squared_error(test_set, predictions))\n",
        "predictions_series=pd.Series((v[0] for v in predictions))\n",
        "mae=mean_absolute_error(test_set,predictions_series)\n",
        "\n",
        "print('RMSE: %.3f' % rmse)\n",
        "print('MAE: %.3f' % mae)"
      ],
      "execution_count": null,
      "outputs": []
    },
    {
      "cell_type": "code",
      "metadata": {
        "id": "ivRkVE5mtdTM",
        "colab_type": "code",
        "colab": {}
      },
      "source": [
        "predictions_frame=predictions_series.to_frame()\n",
        "predictions_frame.index=test_set.to_frame().index\n",
        "test_set_frame=test_set.to_frame()\n",
        "plt.plot(test_set_frame,label='test')\n",
        "plt.plot(predictions_frame, color='red',label='prediction')\n",
        "plt.legend()\n",
        "plt.show()"
      ],
      "execution_count": null,
      "outputs": []
    },
    {
      "cell_type": "markdown",
      "metadata": {
        "id": "Me4LVvG0xk6L",
        "colab_type": "text"
      },
      "source": [
        "### Combine to one"
      ]
    },
    {
      "cell_type": "code",
      "metadata": {
        "id": "iPAiUB_sxD03",
        "colab_type": "code",
        "colab": {}
      },
      "source": [
        "#num_predict=st.number_input(\"Please input number of week for prediction\",value=5)\n",
        "#num_predict=int(num_predict)\n",
        "n_forecasts=10 # week"
      ],
      "execution_count": null,
      "outputs": []
    },
    {
      "cell_type": "code",
      "metadata": {
        "id": "XPVamdkgxuoJ",
        "colab_type": "code",
        "colab": {
          "base_uri": "https://localhost:8080/",
          "height": 782
        },
        "outputId": "dfb27319-3a61-4efa-a3a3-07e697de5878"
      },
      "source": [
        "\n",
        "n_forecasts=10 # week\n",
        "#@st.cache(suppress_st_warning=True)\n",
        "def predict_prophet(DFdict_final):\n",
        "  DF_predict_final_={} # only contail predict\n",
        "  #DF_predict_all_final={} # contain predict and past value\n",
        "  for name in DFdict_final.keys(): #also group\n",
        "    print(name)\n",
        "    df_temp_2=DFdict_final[name].copy() # gia tri mean thong thuong\n",
        "    df_temp_2=df_temp_2.set_index(df_temp_2.columns[0]).copy()\n",
        "    df_temp_2=df_temp_2.resample('1W').ffill() # gia tri mean da resample\n",
        "    df_original=df_temp_2.reset_index()#\n",
        "\n",
        "    df=df_original[[df_original.columns[0],df_original.columns[1]]].\\\n",
        "      set_index(df_original.columns[0])\n",
        "\n",
        "    # Prophet will by default fit weekly and yearly seasonalities,\n",
        "    arima = ARIMA(df, order=(0, 1, 1)).fit(disp=0)\n",
        "   \n",
        "    arima_pred = arima.forecast(n_forecasts) # arima manual select \n",
        "\n",
        "    arima_pred = pd.concat([pd.DataFrame(arima_pred[0], columns=['prediction']),\n",
        "                          pd.DataFrame(arima_pred[2], columns=['ci_lower','ci_upper'])],axis=1)\n",
        "    x=df[-1:].index.astype(np.int64) // 10 ** 9\n",
        "    timestamp = datetime.datetime.fromtimestamp(x.values)\n",
        "    a=timestamp.strftime('%Y-%m-%d')\n",
        "    didx = pd.date_range(start =a, freq ='W',periods = n_forecasts) \n",
        "    arima_pred.index=didx\n",
        "    arima_pred['USL']=df_original['USL'][0]\n",
        "    arima_pred['LSL']=df_original['LSL'][0]\n",
        "    arima_pred['Nominal']=df_original['Nominal'][0]\n",
        "    arima_pred['UCL']=df_original['UCL'][0]\n",
        "    arima_pred['LCL']=df_original['LCL'][0]\n",
        "    arima_pred['mean']=df_original['mean'][0]\n",
        "    DF_predict_final_[name]=arima_pred \n",
        "  return DF_predict_final_\n",
        "  \n",
        "DF_predict_final=predict_prophet(DFdict_final)"
      ],
      "execution_count": null,
      "outputs": [
        {
          "output_type": "stream",
          "text": [
            "C-Pitch\n",
            "J\n",
            "I\n",
            "O\n"
          ],
          "name": "stdout"
        },
        {
          "output_type": "stream",
          "text": [
            "/usr/local/lib/python3.6/dist-packages/statsmodels/tsa/base/tsa_model.py:165: ValueWarning:\n",
            "\n",
            "No frequency information was provided, so inferred frequency W-SUN will be used.\n",
            "\n",
            "/usr/local/lib/python3.6/dist-packages/statsmodels/tsa/base/tsa_model.py:165: ValueWarning:\n",
            "\n",
            "No frequency information was provided, so inferred frequency W-SUN will be used.\n",
            "\n",
            "/usr/local/lib/python3.6/dist-packages/statsmodels/tsa/base/tsa_model.py:165: ValueWarning:\n",
            "\n",
            "No frequency information was provided, so inferred frequency W-SUN will be used.\n",
            "\n",
            "/usr/local/lib/python3.6/dist-packages/statsmodels/tsa/base/tsa_model.py:165: ValueWarning:\n",
            "\n",
            "No frequency information was provided, so inferred frequency W-SUN will be used.\n",
            "\n",
            "/usr/local/lib/python3.6/dist-packages/statsmodels/tsa/base/tsa_model.py:165: ValueWarning:\n",
            "\n",
            "No frequency information was provided, so inferred frequency W-SUN will be used.\n",
            "\n",
            "/usr/local/lib/python3.6/dist-packages/statsmodels/tsa/base/tsa_model.py:165: ValueWarning:\n",
            "\n",
            "No frequency information was provided, so inferred frequency W-SUN will be used.\n",
            "\n"
          ],
          "name": "stderr"
        },
        {
          "output_type": "stream",
          "text": [
            "Z\n"
          ],
          "name": "stdout"
        },
        {
          "output_type": "stream",
          "text": [
            "/usr/local/lib/python3.6/dist-packages/statsmodels/tsa/base/tsa_model.py:165: ValueWarning:\n",
            "\n",
            "No frequency information was provided, so inferred frequency W-SUN will be used.\n",
            "\n",
            "/usr/local/lib/python3.6/dist-packages/statsmodels/tsa/base/tsa_model.py:165: ValueWarning:\n",
            "\n",
            "No frequency information was provided, so inferred frequency W-SUN will be used.\n",
            "\n",
            "/usr/local/lib/python3.6/dist-packages/statsmodels/tsa/base/tsa_model.py:165: ValueWarning:\n",
            "\n",
            "No frequency information was provided, so inferred frequency W-SUN will be used.\n",
            "\n",
            "/usr/local/lib/python3.6/dist-packages/statsmodels/tsa/base/tsa_model.py:165: ValueWarning:\n",
            "\n",
            "No frequency information was provided, so inferred frequency W-SUN will be used.\n",
            "\n"
          ],
          "name": "stderr"
        }
      ]
    },
    {
      "cell_type": "code",
      "metadata": {
        "id": "ctNaidZpxxRf",
        "colab_type": "code",
        "colab": {
          "base_uri": "https://localhost:8080/",
          "height": 1000
        },
        "outputId": "4845b40b-cb20-4ad7-e189-3f63fb04beb3"
      },
      "source": [
        "#@st.cache(suppress_st_warning=True,allow_output_mutation=True)\n",
        "def line_chart_prophet(DFdict_final,DF_predict_final):\n",
        "\n",
        "  i=1\n",
        "  #Layout\n",
        "  fig = make_subplots(\n",
        "      rows=len(DFdict_final), cols=1,\n",
        "      #shared_xaxes=True,\n",
        "      #vertical_spacing=0.03,\n",
        "      #column_widths=[0.8, 0.2],\n",
        "      subplot_titles=(list(DFdict_final.keys()))\n",
        "  )\n",
        "  for name in DFdict_final.keys(): #also group\n",
        "    df=DFdict_final[name].copy()\n",
        "    df=df.sort_values(by=['Datef'])\n",
        "    for a in df.columns[1:]:\n",
        "      df[a] = df[a].round(decimals=3)\n",
        "\n",
        "    #Control chart 1 \n",
        "    fig.append_trace(go.Scatter(\n",
        "                            x=df['Datef'], y=df[name],\n",
        "                            mode='lines+markers',\n",
        "                            name='mean ' + name,line=dict( color='#4280F5')\n",
        "                            ),row=i, col=1\n",
        "                  )\n",
        "    #USL, LSL\n",
        "    fig.append_trace(go.Scatter(x=df['Datef'], y=df['USL'],name='USL '+name, line=dict( color='#FF5733')),row=i, col=1)\n",
        "    fig.append_trace(go.Scatter(x=df['Datef'], y=df['LSL'],name='LSL '+name,line=dict( color='#FF5733')),row=i, col=1)\n",
        "    fig.append_trace(go.Scatter(x=df['Datef'], y=df['Nominal'],name='Nominal '+name,line=dict( color='#FF5733')),row=i, col=1)\n",
        "    # UCL, LCL\n",
        "    fig.append_trace(go.Scatter(x=df['Datef'], y=df['UCL'],name='UCL '+name, line=dict( color='#33C2FF')),row=i, col=1)\n",
        "    fig.append_trace(go.Scatter(x=df['Datef'], y=df['LCL'],name='LCL '+name, line=dict( color='#33C2FF')),row=i, col=1)\n",
        "    fig.append_trace(go.Scatter(x=df['Datef'], y=df['mean'],name='mean '+name, line=dict( color='#33C2FF')),row=i, col=1)\n",
        "\n",
        "    #Predict:\n",
        "    df_predict=DF_predict_final[name].copy()\n",
        "    fig.append_trace(go.Scatter(\n",
        "                        x=df_predict.index, y=df_predict.prediction,\n",
        "                        mode='lines+markers',\n",
        "                        name='mean predict ' + name,line=dict( color='#060891')\n",
        "                        ),row=i, col=1\n",
        "              )\n",
        "\n",
        "    #USL, LSL\n",
        "    fig.append_trace(go.Scatter(x=df_predict.index, y=df_predict['USL'],name='USL '+name, line=dict( color='#FF5733'),mode='lines'),row=i, col=1)\n",
        "    fig.append_trace(go.Scatter(x=df_predict.index, y=df_predict['LSL'],name='LSL '+name,line=dict( color='#FF5733'),mode='lines'),row=i, col=1)\n",
        "    fig.append_trace(go.Scatter(x=df_predict.index, y=df_predict['Nominal'],name='Nominal '+name,line=dict( color='#FF5733'),mode='lines'),row=i, col=1)\n",
        "    # UCL, LCL\n",
        "    fig.append_trace(go.Scatter(x=df_predict.index, y=df_predict['UCL'],name='UCL '+name, line=dict( color='#33C2FF'),mode='lines'),row=i, col=1)\n",
        "    fig.append_trace(go.Scatter(x=df_predict.index, y=df_predict['LCL'],name='LCL '+name, line=dict( color='#33C2FF'),mode='lines'),row=i, col=1)\n",
        "    fig.append_trace(go.Scatter(x=df_predict.index, y=df_predict['mean'],name='mean '+name, line=dict( color='#33C2FF'),mode='lines'),row=i, col=1)\n",
        "    # Fill between:\n",
        "    fig.append_trace(go.Scatter(x=df_predict.index, y=df_predict['ci_upper'],name='yhat_upper '+name, line=dict( color='#9FA0F8'),fill=None,mode='lines'),row=i, col=1)\n",
        "    fig.append_trace(go.Scatter(x=df_predict.index, y=df_predict['ci_lower'],name='yhat_lower '+name, line=dict( color='#9FA0F8'), fill='tonexty',mode='lines'),row=i, col=1)\n",
        "\n",
        "\n",
        "    #Final layout:\n",
        "    #fig.update_layout(height=400, width=1400, title_text='Line chart'+name)\n",
        "    i=i+1\n",
        "    \n",
        "  fig.update_layout(height=300*len(DFdict_final), width=1200, title_text='Line chart')\n",
        "  #fig.show()\n",
        "  return fig\n",
        "fig_new_2=line_chart_prophet(DFdict_final,DF_predict_final)\n",
        "fig_new_2.show()\n",
        "#st.plotly_chart(fig_new)"
      ],
      "execution_count": null,
      "outputs": [
        {
          "output_type": "display_data",
          "data": {
            "text/html": [
              "<html>\n",
              "<head><meta charset=\"utf-8\" /></head>\n",
              "<body>\n",
              "    <div>\n",
              "            <script src=\"https://cdnjs.cloudflare.com/ajax/libs/mathjax/2.7.5/MathJax.js?config=TeX-AMS-MML_SVG\"></script><script type=\"text/javascript\">if (window.MathJax) {MathJax.Hub.Config({SVG: {font: \"STIX-Web\"}});}</script>\n",
              "                <script type=\"text/javascript\">window.PlotlyConfig = {MathJaxConfig: 'local'};</script>\n",
              "        <script src=\"https://cdn.plot.ly/plotly-latest.min.js\"></script>    \n",
              "            <div id=\"afeeb408-20fa-468b-8a7c-93e437593161\" class=\"plotly-graph-div\" style=\"height:1500px; width:1200px;\"></div>\n",
              "            <script type=\"text/javascript\">\n",
              "                \n",
              "                    window.PLOTLYENV=window.PLOTLYENV || {};\n",
              "                    \n",
              "                if (document.getElementById(\"afeeb408-20fa-468b-8a7c-93e437593161\")) {\n",
              "                    Plotly.newPlot(\n",
              "                        'afeeb408-20fa-468b-8a7c-93e437593161',\n",
              "                        [{\"line\": {\"color\": \"#4280F5\"}, \"mode\": \"lines+markers\", \"name\": \"mean C-Pitch\", \"type\": \"scatter\", \"x\": [\"2019-01-11T00:00:00\", \"2019-01-22T00:00:00\", \"2019-01-26T00:00:00\", \"2019-01-31T00:00:00\", \"2019-02-11T00:00:00\", \"2019-02-22T00:00:00\", \"2019-02-27T00:00:00\", \"2019-03-07T00:00:00\", \"2019-03-15T00:00:00\", \"2019-04-05T00:00:00\", \"2019-04-16T00:00:00\", \"2019-05-27T00:00:00\", \"2019-06-03T00:00:00\", \"2019-06-10T00:00:00\", \"2019-06-17T00:00:00\", \"2019-06-25T00:00:00\", \"2019-06-28T00:00:00\", \"2019-08-07T00:00:00\", \"2019-08-19T00:00:00\", \"2019-08-26T00:00:00\", \"2019-09-05T00:00:00\", \"2019-10-17T00:00:00\", \"2019-11-01T00:00:00\", \"2019-11-13T00:00:00\", \"2019-12-05T00:00:00\", \"2019-12-10T00:00:00\", \"2019-12-26T00:00:00\", \"2019-12-31T00:00:00\"], \"xaxis\": \"x\", \"y\": [10.004, 10.001, 10.002, 10.003, 10.003, 10.002, 10.003, 10.002, 9.998, 10.002, 10.003, 10.004, 10.001, 10.0, 10.002, 10.001, 10.002, 10.001, 10.0, 10.001, 10.002, 10.0, 10.0, 10.002, 10.0, 10.003, 10.003, 9.999], \"yaxis\": \"y\"}, {\"line\": {\"color\": \"#FF5733\"}, \"name\": \"USL C-Pitch\", \"type\": \"scatter\", \"x\": [\"2019-01-11T00:00:00\", \"2019-01-22T00:00:00\", \"2019-01-26T00:00:00\", \"2019-01-31T00:00:00\", \"2019-02-11T00:00:00\", \"2019-02-22T00:00:00\", \"2019-02-27T00:00:00\", \"2019-03-07T00:00:00\", \"2019-03-15T00:00:00\", \"2019-04-05T00:00:00\", \"2019-04-16T00:00:00\", \"2019-05-27T00:00:00\", \"2019-06-03T00:00:00\", \"2019-06-10T00:00:00\", \"2019-06-17T00:00:00\", \"2019-06-25T00:00:00\", \"2019-06-28T00:00:00\", \"2019-08-07T00:00:00\", \"2019-08-19T00:00:00\", \"2019-08-26T00:00:00\", \"2019-09-05T00:00:00\", \"2019-10-17T00:00:00\", \"2019-11-01T00:00:00\", \"2019-11-13T00:00:00\", \"2019-12-05T00:00:00\", \"2019-12-10T00:00:00\", \"2019-12-26T00:00:00\", \"2019-12-31T00:00:00\"], \"xaxis\": \"x\", \"y\": [10.01, 10.01, 10.01, 10.01, 10.01, 10.01, 10.01, 10.01, 10.01, 10.01, 10.01, 10.01, 10.01, 10.01, 10.01, 10.01, 10.01, 10.01, 10.01, 10.01, 10.01, 10.01, 10.01, 10.01, 10.01, 10.01, 10.01, 10.01], \"yaxis\": \"y\"}, {\"line\": {\"color\": \"#FF5733\"}, \"name\": \"LSL C-Pitch\", \"type\": \"scatter\", \"x\": [\"2019-01-11T00:00:00\", \"2019-01-22T00:00:00\", \"2019-01-26T00:00:00\", \"2019-01-31T00:00:00\", \"2019-02-11T00:00:00\", \"2019-02-22T00:00:00\", \"2019-02-27T00:00:00\", \"2019-03-07T00:00:00\", \"2019-03-15T00:00:00\", \"2019-04-05T00:00:00\", \"2019-04-16T00:00:00\", \"2019-05-27T00:00:00\", \"2019-06-03T00:00:00\", \"2019-06-10T00:00:00\", \"2019-06-17T00:00:00\", \"2019-06-25T00:00:00\", \"2019-06-28T00:00:00\", \"2019-08-07T00:00:00\", \"2019-08-19T00:00:00\", \"2019-08-26T00:00:00\", \"2019-09-05T00:00:00\", \"2019-10-17T00:00:00\", \"2019-11-01T00:00:00\", \"2019-11-13T00:00:00\", \"2019-12-05T00:00:00\", \"2019-12-10T00:00:00\", \"2019-12-26T00:00:00\", \"2019-12-31T00:00:00\"], \"xaxis\": \"x\", \"y\": [9.99, 9.99, 9.99, 9.99, 9.99, 9.99, 9.99, 9.99, 9.99, 9.99, 9.99, 9.99, 9.99, 9.99, 9.99, 9.99, 9.99, 9.99, 9.99, 9.99, 9.99, 9.99, 9.99, 9.99, 9.99, 9.99, 9.99, 9.99], \"yaxis\": \"y\"}, {\"line\": {\"color\": \"#FF5733\"}, \"name\": \"Nominal C-Pitch\", \"type\": \"scatter\", \"x\": [\"2019-01-11T00:00:00\", \"2019-01-22T00:00:00\", \"2019-01-26T00:00:00\", \"2019-01-31T00:00:00\", \"2019-02-11T00:00:00\", \"2019-02-22T00:00:00\", \"2019-02-27T00:00:00\", \"2019-03-07T00:00:00\", \"2019-03-15T00:00:00\", \"2019-04-05T00:00:00\", \"2019-04-16T00:00:00\", \"2019-05-27T00:00:00\", \"2019-06-03T00:00:00\", \"2019-06-10T00:00:00\", \"2019-06-17T00:00:00\", \"2019-06-25T00:00:00\", \"2019-06-28T00:00:00\", \"2019-08-07T00:00:00\", \"2019-08-19T00:00:00\", \"2019-08-26T00:00:00\", \"2019-09-05T00:00:00\", \"2019-10-17T00:00:00\", \"2019-11-01T00:00:00\", \"2019-11-13T00:00:00\", \"2019-12-05T00:00:00\", \"2019-12-10T00:00:00\", \"2019-12-26T00:00:00\", \"2019-12-31T00:00:00\"], \"xaxis\": \"x\", \"y\": [10.0, 10.0, 10.0, 10.0, 10.0, 10.0, 10.0, 10.0, 10.0, 10.0, 10.0, 10.0, 10.0, 10.0, 10.0, 10.0, 10.0, 10.0, 10.0, 10.0, 10.0, 10.0, 10.0, 10.0, 10.0, 10.0, 10.0, 10.0], \"yaxis\": \"y\"}, {\"line\": {\"color\": \"#33C2FF\"}, \"name\": \"UCL C-Pitch\", \"type\": \"scatter\", \"x\": [\"2019-01-11T00:00:00\", \"2019-01-22T00:00:00\", \"2019-01-26T00:00:00\", \"2019-01-31T00:00:00\", \"2019-02-11T00:00:00\", \"2019-02-22T00:00:00\", \"2019-02-27T00:00:00\", \"2019-03-07T00:00:00\", \"2019-03-15T00:00:00\", \"2019-04-05T00:00:00\", \"2019-04-16T00:00:00\", \"2019-05-27T00:00:00\", \"2019-06-03T00:00:00\", \"2019-06-10T00:00:00\", \"2019-06-17T00:00:00\", \"2019-06-25T00:00:00\", \"2019-06-28T00:00:00\", \"2019-08-07T00:00:00\", \"2019-08-19T00:00:00\", \"2019-08-26T00:00:00\", \"2019-09-05T00:00:00\", \"2019-10-17T00:00:00\", \"2019-11-01T00:00:00\", \"2019-11-13T00:00:00\", \"2019-12-05T00:00:00\", \"2019-12-10T00:00:00\", \"2019-12-26T00:00:00\", \"2019-12-31T00:00:00\"], \"xaxis\": \"x\", \"y\": [10.006, 10.006, 10.006, 10.006, 10.006, 10.006, 10.006, 10.006, 10.006, 10.006, 10.006, 10.006, 10.006, 10.006, 10.006, 10.006, 10.006, 10.006, 10.006, 10.006, 10.006, 10.006, 10.006, 10.006, 10.006, 10.006, 10.006, 10.006], \"yaxis\": \"y\"}, {\"line\": {\"color\": \"#33C2FF\"}, \"name\": \"LCL C-Pitch\", \"type\": \"scatter\", \"x\": [\"2019-01-11T00:00:00\", \"2019-01-22T00:00:00\", \"2019-01-26T00:00:00\", \"2019-01-31T00:00:00\", \"2019-02-11T00:00:00\", \"2019-02-22T00:00:00\", \"2019-02-27T00:00:00\", \"2019-03-07T00:00:00\", \"2019-03-15T00:00:00\", \"2019-04-05T00:00:00\", \"2019-04-16T00:00:00\", \"2019-05-27T00:00:00\", \"2019-06-03T00:00:00\", \"2019-06-10T00:00:00\", \"2019-06-17T00:00:00\", \"2019-06-25T00:00:00\", \"2019-06-28T00:00:00\", \"2019-08-07T00:00:00\", \"2019-08-19T00:00:00\", \"2019-08-26T00:00:00\", \"2019-09-05T00:00:00\", \"2019-10-17T00:00:00\", \"2019-11-01T00:00:00\", \"2019-11-13T00:00:00\", \"2019-12-05T00:00:00\", \"2019-12-10T00:00:00\", \"2019-12-26T00:00:00\", \"2019-12-31T00:00:00\"], \"xaxis\": \"x\", \"y\": [9.997, 9.997, 9.997, 9.997, 9.997, 9.997, 9.997, 9.997, 9.997, 9.997, 9.997, 9.997, 9.997, 9.997, 9.997, 9.997, 9.997, 9.997, 9.997, 9.997, 9.997, 9.997, 9.997, 9.997, 9.997, 9.997, 9.997, 9.997], \"yaxis\": \"y\"}, {\"line\": {\"color\": \"#33C2FF\"}, \"name\": \"mean C-Pitch\", \"type\": \"scatter\", \"x\": [\"2019-01-11T00:00:00\", \"2019-01-22T00:00:00\", \"2019-01-26T00:00:00\", \"2019-01-31T00:00:00\", \"2019-02-11T00:00:00\", \"2019-02-22T00:00:00\", \"2019-02-27T00:00:00\", \"2019-03-07T00:00:00\", \"2019-03-15T00:00:00\", \"2019-04-05T00:00:00\", \"2019-04-16T00:00:00\", \"2019-05-27T00:00:00\", \"2019-06-03T00:00:00\", \"2019-06-10T00:00:00\", \"2019-06-17T00:00:00\", \"2019-06-25T00:00:00\", \"2019-06-28T00:00:00\", \"2019-08-07T00:00:00\", \"2019-08-19T00:00:00\", \"2019-08-26T00:00:00\", \"2019-09-05T00:00:00\", \"2019-10-17T00:00:00\", \"2019-11-01T00:00:00\", \"2019-11-13T00:00:00\", \"2019-12-05T00:00:00\", \"2019-12-10T00:00:00\", \"2019-12-26T00:00:00\", \"2019-12-31T00:00:00\"], \"xaxis\": \"x\", \"y\": [10.002, 10.002, 10.002, 10.002, 10.002, 10.002, 10.002, 10.002, 10.002, 10.002, 10.002, 10.002, 10.002, 10.002, 10.002, 10.002, 10.002, 10.002, 10.002, 10.002, 10.002, 10.002, 10.002, 10.002, 10.002, 10.002, 10.002, 10.002], \"yaxis\": \"y\"}, {\"line\": {\"color\": \"#060891\"}, \"mode\": \"lines+markers\", \"name\": \"mean predict C-Pitch\", \"type\": \"scatter\", \"x\": [\"2020-01-05T00:00:00\", \"2020-01-12T00:00:00\", \"2020-01-19T00:00:00\", \"2020-01-26T00:00:00\", \"2020-02-02T00:00:00\", \"2020-02-09T00:00:00\", \"2020-02-16T00:00:00\", \"2020-02-23T00:00:00\", \"2020-03-01T00:00:00\", \"2020-03-08T00:00:00\"], \"xaxis\": \"x\", \"y\": [9.999448005877156, 9.999360872820306, 9.999273739763456, 9.999186606706607, 9.999099473649757, 9.999012340592907, 9.998925207536058, 9.998838074479208, 9.998750941422358, 9.998663808365508], \"yaxis\": \"y\"}, {\"line\": {\"color\": \"#FF5733\"}, \"mode\": \"lines\", \"name\": \"USL C-Pitch\", \"type\": \"scatter\", \"x\": [\"2020-01-05T00:00:00\", \"2020-01-12T00:00:00\", \"2020-01-19T00:00:00\", \"2020-01-26T00:00:00\", \"2020-02-02T00:00:00\", \"2020-02-09T00:00:00\", \"2020-02-16T00:00:00\", \"2020-02-23T00:00:00\", \"2020-03-01T00:00:00\", \"2020-03-08T00:00:00\"], \"xaxis\": \"x\", \"y\": [10.01, 10.01, 10.01, 10.01, 10.01, 10.01, 10.01, 10.01, 10.01, 10.01], \"yaxis\": \"y\"}, {\"line\": {\"color\": \"#FF5733\"}, \"mode\": \"lines\", \"name\": \"LSL C-Pitch\", \"type\": \"scatter\", \"x\": [\"2020-01-05T00:00:00\", \"2020-01-12T00:00:00\", \"2020-01-19T00:00:00\", \"2020-01-26T00:00:00\", \"2020-02-02T00:00:00\", \"2020-02-09T00:00:00\", \"2020-02-16T00:00:00\", \"2020-02-23T00:00:00\", \"2020-03-01T00:00:00\", \"2020-03-08T00:00:00\"], \"xaxis\": \"x\", \"y\": [9.99, 9.99, 9.99, 9.99, 9.99, 9.99, 9.99, 9.99, 9.99, 9.99], \"yaxis\": \"y\"}, {\"line\": {\"color\": \"#FF5733\"}, \"mode\": \"lines\", \"name\": \"Nominal C-Pitch\", \"type\": \"scatter\", \"x\": [\"2020-01-05T00:00:00\", \"2020-01-12T00:00:00\", \"2020-01-19T00:00:00\", \"2020-01-26T00:00:00\", \"2020-02-02T00:00:00\", \"2020-02-09T00:00:00\", \"2020-02-16T00:00:00\", \"2020-02-23T00:00:00\", \"2020-03-01T00:00:00\", \"2020-03-08T00:00:00\"], \"xaxis\": \"x\", \"y\": [10.0, 10.0, 10.0, 10.0, 10.0, 10.0, 10.0, 10.0, 10.0, 10.0], \"yaxis\": \"y\"}, {\"line\": {\"color\": \"#33C2FF\"}, \"mode\": \"lines\", \"name\": \"UCL C-Pitch\", \"type\": \"scatter\", \"x\": [\"2020-01-05T00:00:00\", \"2020-01-12T00:00:00\", \"2020-01-19T00:00:00\", \"2020-01-26T00:00:00\", \"2020-02-02T00:00:00\", \"2020-02-09T00:00:00\", \"2020-02-16T00:00:00\", \"2020-02-23T00:00:00\", \"2020-03-01T00:00:00\", \"2020-03-08T00:00:00\"], \"xaxis\": \"x\", \"y\": [10.006000767982567, 10.006000767982567, 10.006000767982567, 10.006000767982567, 10.006000767982567, 10.006000767982567, 10.006000767982567, 10.006000767982567, 10.006000767982567, 10.006000767982567], \"yaxis\": \"y\"}, {\"line\": {\"color\": \"#33C2FF\"}, \"mode\": \"lines\", \"name\": \"LCL C-Pitch\", \"type\": \"scatter\", \"x\": [\"2020-01-05T00:00:00\", \"2020-01-12T00:00:00\", \"2020-01-19T00:00:00\", \"2020-01-26T00:00:00\", \"2020-02-02T00:00:00\", \"2020-02-09T00:00:00\", \"2020-02-16T00:00:00\", \"2020-02-23T00:00:00\", \"2020-03-01T00:00:00\", \"2020-03-08T00:00:00\"], \"xaxis\": \"x\", \"y\": [9.997142089160292, 9.997142089160292, 9.997142089160292, 9.997142089160292, 9.997142089160292, 9.997142089160292, 9.997142089160292, 9.997142089160292, 9.997142089160292, 9.997142089160292], \"yaxis\": \"y\"}, {\"line\": {\"color\": \"#33C2FF\"}, \"mode\": \"lines\", \"name\": \"mean C-Pitch\", \"type\": \"scatter\", \"x\": [\"2020-01-05T00:00:00\", \"2020-01-12T00:00:00\", \"2020-01-19T00:00:00\", \"2020-01-26T00:00:00\", \"2020-02-02T00:00:00\", \"2020-02-09T00:00:00\", \"2020-02-16T00:00:00\", \"2020-02-23T00:00:00\", \"2020-03-01T00:00:00\", \"2020-03-08T00:00:00\"], \"xaxis\": \"x\", \"y\": [10.00157142857143, 10.00157142857143, 10.00157142857143, 10.00157142857143, 10.00157142857143, 10.00157142857143, 10.00157142857143, 10.00157142857143, 10.00157142857143, 10.00157142857143], \"yaxis\": \"y\"}, {\"line\": {\"color\": \"#9FA0F8\"}, \"mode\": \"lines\", \"name\": \"yhat_upper C-Pitch\", \"type\": \"scatter\", \"x\": [\"2020-01-05T00:00:00\", \"2020-01-12T00:00:00\", \"2020-01-19T00:00:00\", \"2020-01-26T00:00:00\", \"2020-02-02T00:00:00\", \"2020-02-09T00:00:00\", \"2020-02-16T00:00:00\", \"2020-02-23T00:00:00\", \"2020-03-01T00:00:00\", \"2020-03-08T00:00:00\"], \"xaxis\": \"x\", \"y\": [10.002129016412605, 10.002901334224868, 10.003502441269026, 10.004006250457882, 10.004445127525123, 10.004836691614372, 10.0051917946684, 10.005517682533073, 10.005819478273734, 10.006100962571606], \"yaxis\": \"y\"}, {\"fill\": \"tonexty\", \"line\": {\"color\": \"#9FA0F8\"}, \"mode\": \"lines\", \"name\": \"yhat_lower C-Pitch\", \"type\": \"scatter\", \"x\": [\"2020-01-05T00:00:00\", \"2020-01-12T00:00:00\", \"2020-01-19T00:00:00\", \"2020-01-26T00:00:00\", \"2020-02-02T00:00:00\", \"2020-02-09T00:00:00\", \"2020-02-16T00:00:00\", \"2020-02-23T00:00:00\", \"2020-03-01T00:00:00\", \"2020-03-08T00:00:00\"], \"xaxis\": \"x\", \"y\": [9.996766995341707, 9.995820411415744, 9.995045038257887, 9.994366962955331, 9.99375381977439, 9.993187989571442, 9.992658620403715, 9.992158466425343, 9.991682404570982, 9.99122665415941], \"yaxis\": \"y\"}, {\"line\": {\"color\": \"#4280F5\"}, \"mode\": \"lines+markers\", \"name\": \"mean J\", \"type\": \"scatter\", \"x\": [\"2019-01-11T00:00:00\", \"2019-01-22T00:00:00\", \"2019-01-26T00:00:00\", \"2019-01-31T00:00:00\", \"2019-02-11T00:00:00\", \"2019-02-22T00:00:00\", \"2019-02-27T00:00:00\", \"2019-03-07T00:00:00\", \"2019-03-15T00:00:00\", \"2019-04-05T00:00:00\", \"2019-04-16T00:00:00\", \"2019-05-27T00:00:00\", \"2019-06-03T00:00:00\", \"2019-06-10T00:00:00\", \"2019-06-17T00:00:00\", \"2019-06-25T00:00:00\", \"2019-06-28T00:00:00\", \"2019-08-07T00:00:00\", \"2019-08-19T00:00:00\", \"2019-08-26T00:00:00\", \"2019-09-05T00:00:00\", \"2019-10-17T00:00:00\", \"2019-11-01T00:00:00\", \"2019-11-13T00:00:00\", \"2019-12-05T00:00:00\", \"2019-12-10T00:00:00\", \"2019-12-26T00:00:00\", \"2019-12-31T00:00:00\"], \"xaxis\": \"x2\", \"y\": [1.219, 1.219, 1.22, 1.22, 1.22, 1.22, 1.22, 1.22, 1.219, 1.22, 1.22, 1.22, 1.22, 1.22, 1.218, 1.219, 1.218, 1.217, 1.217, 1.219, 1.218, 1.22, 1.22, 1.219, 1.219, 1.22, 1.219, 1.218], \"yaxis\": \"y2\"}, {\"line\": {\"color\": \"#FF5733\"}, \"name\": \"USL J\", \"type\": \"scatter\", \"x\": [\"2019-01-11T00:00:00\", \"2019-01-22T00:00:00\", \"2019-01-26T00:00:00\", \"2019-01-31T00:00:00\", \"2019-02-11T00:00:00\", \"2019-02-22T00:00:00\", \"2019-02-27T00:00:00\", \"2019-03-07T00:00:00\", \"2019-03-15T00:00:00\", \"2019-04-05T00:00:00\", \"2019-04-16T00:00:00\", \"2019-05-27T00:00:00\", \"2019-06-03T00:00:00\", \"2019-06-10T00:00:00\", \"2019-06-17T00:00:00\", \"2019-06-25T00:00:00\", \"2019-06-28T00:00:00\", \"2019-08-07T00:00:00\", \"2019-08-19T00:00:00\", \"2019-08-26T00:00:00\", \"2019-09-05T00:00:00\", \"2019-10-17T00:00:00\", \"2019-11-01T00:00:00\", \"2019-11-13T00:00:00\", \"2019-12-05T00:00:00\", \"2019-12-10T00:00:00\", \"2019-12-26T00:00:00\", \"2019-12-31T00:00:00\"], \"xaxis\": \"x2\", \"y\": [1.22, 1.22, 1.22, 1.22, 1.22, 1.22, 1.22, 1.22, 1.22, 1.22, 1.22, 1.22, 1.22, 1.22, 1.22, 1.22, 1.22, 1.22, 1.22, 1.22, 1.22, 1.22, 1.22, 1.22, 1.22, 1.22, 1.22, 1.22], \"yaxis\": \"y2\"}, {\"line\": {\"color\": \"#FF5733\"}, \"name\": \"LSL J\", \"type\": \"scatter\", \"x\": [\"2019-01-11T00:00:00\", \"2019-01-22T00:00:00\", \"2019-01-26T00:00:00\", \"2019-01-31T00:00:00\", \"2019-02-11T00:00:00\", \"2019-02-22T00:00:00\", \"2019-02-27T00:00:00\", \"2019-03-07T00:00:00\", \"2019-03-15T00:00:00\", \"2019-04-05T00:00:00\", \"2019-04-16T00:00:00\", \"2019-05-27T00:00:00\", \"2019-06-03T00:00:00\", \"2019-06-10T00:00:00\", \"2019-06-17T00:00:00\", \"2019-06-25T00:00:00\", \"2019-06-28T00:00:00\", \"2019-08-07T00:00:00\", \"2019-08-19T00:00:00\", \"2019-08-26T00:00:00\", \"2019-09-05T00:00:00\", \"2019-10-17T00:00:00\", \"2019-11-01T00:00:00\", \"2019-11-13T00:00:00\", \"2019-12-05T00:00:00\", \"2019-12-10T00:00:00\", \"2019-12-26T00:00:00\", \"2019-12-31T00:00:00\"], \"xaxis\": \"x2\", \"y\": [1.21, 1.21, 1.21, 1.21, 1.21, 1.21, 1.21, 1.21, 1.21, 1.21, 1.21, 1.21, 1.21, 1.21, 1.21, 1.21, 1.21, 1.21, 1.21, 1.21, 1.21, 1.21, 1.21, 1.21, 1.21, 1.21, 1.21, 1.21], \"yaxis\": \"y2\"}, {\"line\": {\"color\": \"#FF5733\"}, \"name\": \"Nominal J\", \"type\": \"scatter\", \"x\": [\"2019-01-11T00:00:00\", \"2019-01-22T00:00:00\", \"2019-01-26T00:00:00\", \"2019-01-31T00:00:00\", \"2019-02-11T00:00:00\", \"2019-02-22T00:00:00\", \"2019-02-27T00:00:00\", \"2019-03-07T00:00:00\", \"2019-03-15T00:00:00\", \"2019-04-05T00:00:00\", \"2019-04-16T00:00:00\", \"2019-05-27T00:00:00\", \"2019-06-03T00:00:00\", \"2019-06-10T00:00:00\", \"2019-06-17T00:00:00\", \"2019-06-25T00:00:00\", \"2019-06-28T00:00:00\", \"2019-08-07T00:00:00\", \"2019-08-19T00:00:00\", \"2019-08-26T00:00:00\", \"2019-09-05T00:00:00\", \"2019-10-17T00:00:00\", \"2019-11-01T00:00:00\", \"2019-11-13T00:00:00\", \"2019-12-05T00:00:00\", \"2019-12-10T00:00:00\", \"2019-12-26T00:00:00\", \"2019-12-31T00:00:00\"], \"xaxis\": \"x2\", \"y\": [1.21, 1.21, 1.21, 1.21, 1.21, 1.21, 1.21, 1.21, 1.21, 1.21, 1.21, 1.21, 1.21, 1.21, 1.21, 1.21, 1.21, 1.21, 1.21, 1.21, 1.21, 1.21, 1.21, 1.21, 1.21, 1.21, 1.21, 1.21], \"yaxis\": \"y2\"}, {\"line\": {\"color\": \"#33C2FF\"}, \"name\": \"UCL J\", \"type\": \"scatter\", \"x\": [\"2019-01-11T00:00:00\", \"2019-01-22T00:00:00\", \"2019-01-26T00:00:00\", \"2019-01-31T00:00:00\", \"2019-02-11T00:00:00\", \"2019-02-22T00:00:00\", \"2019-02-27T00:00:00\", \"2019-03-07T00:00:00\", \"2019-03-15T00:00:00\", \"2019-04-05T00:00:00\", \"2019-04-16T00:00:00\", \"2019-05-27T00:00:00\", \"2019-06-03T00:00:00\", \"2019-06-10T00:00:00\", \"2019-06-17T00:00:00\", \"2019-06-25T00:00:00\", \"2019-06-28T00:00:00\", \"2019-08-07T00:00:00\", \"2019-08-19T00:00:00\", \"2019-08-26T00:00:00\", \"2019-09-05T00:00:00\", \"2019-10-17T00:00:00\", \"2019-11-01T00:00:00\", \"2019-11-13T00:00:00\", \"2019-12-05T00:00:00\", \"2019-12-10T00:00:00\", \"2019-12-26T00:00:00\", \"2019-12-31T00:00:00\"], \"xaxis\": \"x2\", \"y\": [1.222, 1.222, 1.222, 1.222, 1.222, 1.222, 1.222, 1.222, 1.222, 1.222, 1.222, 1.222, 1.222, 1.222, 1.222, 1.222, 1.222, 1.222, 1.222, 1.222, 1.222, 1.222, 1.222, 1.222, 1.222, 1.222, 1.222, 1.222], \"yaxis\": \"y2\"}, {\"line\": {\"color\": \"#33C2FF\"}, \"name\": \"LCL J\", \"type\": \"scatter\", \"x\": [\"2019-01-11T00:00:00\", \"2019-01-22T00:00:00\", \"2019-01-26T00:00:00\", \"2019-01-31T00:00:00\", \"2019-02-11T00:00:00\", \"2019-02-22T00:00:00\", \"2019-02-27T00:00:00\", \"2019-03-07T00:00:00\", \"2019-03-15T00:00:00\", \"2019-04-05T00:00:00\", \"2019-04-16T00:00:00\", \"2019-05-27T00:00:00\", \"2019-06-03T00:00:00\", \"2019-06-10T00:00:00\", \"2019-06-17T00:00:00\", \"2019-06-25T00:00:00\", \"2019-06-28T00:00:00\", \"2019-08-07T00:00:00\", \"2019-08-19T00:00:00\", \"2019-08-26T00:00:00\", \"2019-09-05T00:00:00\", \"2019-10-17T00:00:00\", \"2019-11-01T00:00:00\", \"2019-11-13T00:00:00\", \"2019-12-05T00:00:00\", \"2019-12-10T00:00:00\", \"2019-12-26T00:00:00\", \"2019-12-31T00:00:00\"], \"xaxis\": \"x2\", \"y\": [1.216, 1.216, 1.216, 1.216, 1.216, 1.216, 1.216, 1.216, 1.216, 1.216, 1.216, 1.216, 1.216, 1.216, 1.216, 1.216, 1.216, 1.216, 1.216, 1.216, 1.216, 1.216, 1.216, 1.216, 1.216, 1.216, 1.216, 1.216], \"yaxis\": \"y2\"}, {\"line\": {\"color\": \"#33C2FF\"}, \"name\": \"mean J\", \"type\": \"scatter\", \"x\": [\"2019-01-11T00:00:00\", \"2019-01-22T00:00:00\", \"2019-01-26T00:00:00\", \"2019-01-31T00:00:00\", \"2019-02-11T00:00:00\", \"2019-02-22T00:00:00\", \"2019-02-27T00:00:00\", \"2019-03-07T00:00:00\", \"2019-03-15T00:00:00\", \"2019-04-05T00:00:00\", \"2019-04-16T00:00:00\", \"2019-05-27T00:00:00\", \"2019-06-03T00:00:00\", \"2019-06-10T00:00:00\", \"2019-06-17T00:00:00\", \"2019-06-25T00:00:00\", \"2019-06-28T00:00:00\", \"2019-08-07T00:00:00\", \"2019-08-19T00:00:00\", \"2019-08-26T00:00:00\", \"2019-09-05T00:00:00\", \"2019-10-17T00:00:00\", \"2019-11-01T00:00:00\", \"2019-11-13T00:00:00\", \"2019-12-05T00:00:00\", \"2019-12-10T00:00:00\", \"2019-12-26T00:00:00\", \"2019-12-31T00:00:00\"], \"xaxis\": \"x2\", \"y\": [1.219, 1.219, 1.219, 1.219, 1.219, 1.219, 1.219, 1.219, 1.219, 1.219, 1.219, 1.219, 1.219, 1.219, 1.219, 1.219, 1.219, 1.219, 1.219, 1.219, 1.219, 1.219, 1.219, 1.219, 1.219, 1.219, 1.219, 1.219], \"yaxis\": \"y2\"}, {\"line\": {\"color\": \"#060891\"}, \"mode\": \"lines+markers\", \"name\": \"mean predict J\", \"type\": \"scatter\", \"x\": [\"2020-01-05T00:00:00\", \"2020-01-12T00:00:00\", \"2020-01-19T00:00:00\", \"2020-01-26T00:00:00\", \"2020-02-02T00:00:00\", \"2020-02-09T00:00:00\", \"2020-02-16T00:00:00\", \"2020-02-23T00:00:00\", \"2020-03-01T00:00:00\", \"2020-03-08T00:00:00\"], \"xaxis\": \"x2\", \"y\": [1.218042522639181, 1.218024021024906, 1.2180055194106312, 1.2179870177963563, 1.2179685161820815, 1.2179500145678066, 1.2179315129535317, 1.217913011339257, 1.217894509724982, 1.2178760081107072], \"yaxis\": \"y2\"}, {\"line\": {\"color\": \"#FF5733\"}, \"mode\": \"lines\", \"name\": \"USL J\", \"type\": \"scatter\", \"x\": [\"2020-01-05T00:00:00\", \"2020-01-12T00:00:00\", \"2020-01-19T00:00:00\", \"2020-01-26T00:00:00\", \"2020-02-02T00:00:00\", \"2020-02-09T00:00:00\", \"2020-02-16T00:00:00\", \"2020-02-23T00:00:00\", \"2020-03-01T00:00:00\", \"2020-03-08T00:00:00\"], \"xaxis\": \"x2\", \"y\": [1.22, 1.22, 1.22, 1.22, 1.22, 1.22, 1.22, 1.22, 1.22, 1.22], \"yaxis\": \"y2\"}, {\"line\": {\"color\": \"#FF5733\"}, \"mode\": \"lines\", \"name\": \"LSL J\", \"type\": \"scatter\", \"x\": [\"2020-01-05T00:00:00\", \"2020-01-12T00:00:00\", \"2020-01-19T00:00:00\", \"2020-01-26T00:00:00\", \"2020-02-02T00:00:00\", \"2020-02-09T00:00:00\", \"2020-02-16T00:00:00\", \"2020-02-23T00:00:00\", \"2020-03-01T00:00:00\", \"2020-03-08T00:00:00\"], \"xaxis\": \"x2\", \"y\": [1.21, 1.21, 1.21, 1.21, 1.21, 1.21, 1.21, 1.21, 1.21, 1.21], \"yaxis\": \"y2\"}, {\"line\": {\"color\": \"#FF5733\"}, \"mode\": \"lines\", \"name\": \"Nominal J\", \"type\": \"scatter\", \"x\": [\"2020-01-05T00:00:00\", \"2020-01-12T00:00:00\", \"2020-01-19T00:00:00\", \"2020-01-26T00:00:00\", \"2020-02-02T00:00:00\", \"2020-02-09T00:00:00\", \"2020-02-16T00:00:00\", \"2020-02-23T00:00:00\", \"2020-03-01T00:00:00\", \"2020-03-08T00:00:00\"], \"xaxis\": \"x2\", \"y\": [1.21, 1.21, 1.21, 1.21, 1.21, 1.21, 1.21, 1.21, 1.21, 1.21], \"yaxis\": \"y2\"}, {\"line\": {\"color\": \"#33C2FF\"}, \"mode\": \"lines\", \"name\": \"UCL J\", \"type\": \"scatter\", \"x\": [\"2020-01-05T00:00:00\", \"2020-01-12T00:00:00\", \"2020-01-19T00:00:00\", \"2020-01-26T00:00:00\", \"2020-02-02T00:00:00\", \"2020-02-09T00:00:00\", \"2020-02-16T00:00:00\", \"2020-02-23T00:00:00\", \"2020-03-01T00:00:00\", \"2020-03-08T00:00:00\"], \"xaxis\": \"x2\", \"y\": [1.2220844939363658, 1.2220844939363658, 1.2220844939363658, 1.2220844939363658, 1.2220844939363658, 1.2220844939363658, 1.2220844939363658, 1.2220844939363658, 1.2220844939363658, 1.2220844939363658], \"yaxis\": \"y2\"}, {\"line\": {\"color\": \"#33C2FF\"}, \"mode\": \"lines\", \"name\": \"LCL J\", \"type\": \"scatter\", \"x\": [\"2020-01-05T00:00:00\", \"2020-01-12T00:00:00\", \"2020-01-19T00:00:00\", \"2020-01-26T00:00:00\", \"2020-02-02T00:00:00\", \"2020-02-09T00:00:00\", \"2020-02-16T00:00:00\", \"2020-02-23T00:00:00\", \"2020-03-01T00:00:00\", \"2020-03-08T00:00:00\"], \"xaxis\": \"x2\", \"y\": [1.2163440774922059, 1.2163440774922059, 1.2163440774922059, 1.2163440774922059, 1.2163440774922059, 1.2163440774922059, 1.2163440774922059, 1.2163440774922059, 1.2163440774922059, 1.2163440774922059], \"yaxis\": \"y2\"}, {\"line\": {\"color\": \"#33C2FF\"}, \"mode\": \"lines\", \"name\": \"mean J\", \"type\": \"scatter\", \"x\": [\"2020-01-05T00:00:00\", \"2020-01-12T00:00:00\", \"2020-01-19T00:00:00\", \"2020-01-26T00:00:00\", \"2020-02-02T00:00:00\", \"2020-02-09T00:00:00\", \"2020-02-16T00:00:00\", \"2020-02-23T00:00:00\", \"2020-03-01T00:00:00\", \"2020-03-08T00:00:00\"], \"xaxis\": \"x2\", \"y\": [1.2192142857142858, 1.2192142857142858, 1.2192142857142858, 1.2192142857142858, 1.2192142857142858, 1.2192142857142858, 1.2192142857142858, 1.2192142857142858, 1.2192142857142858, 1.2192142857142858], \"yaxis\": \"y2\"}, {\"line\": {\"color\": \"#9FA0F8\"}, \"mode\": \"lines\", \"name\": \"yhat_upper J\", \"type\": \"scatter\", \"x\": [\"2020-01-05T00:00:00\", \"2020-01-12T00:00:00\", \"2020-01-19T00:00:00\", \"2020-01-26T00:00:00\", \"2020-02-02T00:00:00\", \"2020-02-09T00:00:00\", \"2020-02-16T00:00:00\", \"2020-02-23T00:00:00\", \"2020-03-01T00:00:00\", \"2020-03-08T00:00:00\"], \"xaxis\": \"x2\", \"y\": [1.2192978922326947, 1.219748027788914, 1.2200956021430536, 1.2203879951670111, 1.2206445092389524, 1.220875281281535, 1.2210864189509385, 1.221281939708709, 1.2214646532605453, 1.2216366159565946], \"yaxis\": \"y2\"}, {\"fill\": \"tonexty\", \"line\": {\"color\": \"#9FA0F8\"}, \"mode\": \"lines\", \"name\": \"yhat_lower J\", \"type\": \"scatter\", \"x\": [\"2020-01-05T00:00:00\", \"2020-01-12T00:00:00\", \"2020-01-19T00:00:00\", \"2020-01-26T00:00:00\", \"2020-02-02T00:00:00\", \"2020-02-09T00:00:00\", \"2020-02-16T00:00:00\", \"2020-02-23T00:00:00\", \"2020-03-01T00:00:00\", \"2020-03-08T00:00:00\"], \"xaxis\": \"x2\", \"y\": [1.216787153045667, 1.2163000142608982, 1.2159154366782088, 1.2155860404257015, 1.2152925231252105, 1.215024747854078, 1.214776606956125, 1.2145440829698049, 1.2143243661894187, 1.2141154002648198], \"yaxis\": \"y2\"}, {\"line\": {\"color\": \"#4280F5\"}, \"mode\": \"lines+markers\", \"name\": \"mean I\", \"type\": \"scatter\", \"x\": [\"2019-01-11T00:00:00\", \"2019-01-22T00:00:00\", \"2019-01-26T00:00:00\", \"2019-01-31T00:00:00\", \"2019-02-11T00:00:00\", \"2019-02-22T00:00:00\", \"2019-02-27T00:00:00\", \"2019-03-07T00:00:00\", \"2019-03-15T00:00:00\", \"2019-04-05T00:00:00\", \"2019-04-16T00:00:00\", \"2019-05-27T00:00:00\", \"2019-06-03T00:00:00\", \"2019-06-10T00:00:00\", \"2019-06-17T00:00:00\", \"2019-06-25T00:00:00\", \"2019-06-28T00:00:00\", \"2019-08-07T00:00:00\", \"2019-08-19T00:00:00\", \"2019-08-26T00:00:00\", \"2019-09-05T00:00:00\", \"2019-10-17T00:00:00\", \"2019-11-01T00:00:00\", \"2019-11-13T00:00:00\", \"2019-12-05T00:00:00\", \"2019-12-10T00:00:00\", \"2019-12-26T00:00:00\", \"2019-12-31T00:00:00\"], \"xaxis\": \"x3\", \"y\": [3.194, 3.199, 3.2, 3.196, 3.195, 3.198, 3.195, 3.195, 3.199, 3.2, 3.2, 3.199, 3.2, 3.204, 3.197, 3.195, 3.2, 3.201, 3.201, 3.2, 3.201, 3.198, 3.198, 3.197, 3.199, 3.2, 3.202, 3.201], \"yaxis\": \"y3\"}, {\"line\": {\"color\": \"#FF5733\"}, \"name\": \"USL I\", \"type\": \"scatter\", \"x\": [\"2019-01-11T00:00:00\", \"2019-01-22T00:00:00\", \"2019-01-26T00:00:00\", \"2019-01-31T00:00:00\", \"2019-02-11T00:00:00\", \"2019-02-22T00:00:00\", \"2019-02-27T00:00:00\", \"2019-03-07T00:00:00\", \"2019-03-15T00:00:00\", \"2019-04-05T00:00:00\", \"2019-04-16T00:00:00\", \"2019-05-27T00:00:00\", \"2019-06-03T00:00:00\", \"2019-06-10T00:00:00\", \"2019-06-17T00:00:00\", \"2019-06-25T00:00:00\", \"2019-06-28T00:00:00\", \"2019-08-07T00:00:00\", \"2019-08-19T00:00:00\", \"2019-08-26T00:00:00\", \"2019-09-05T00:00:00\", \"2019-10-17T00:00:00\", \"2019-11-01T00:00:00\", \"2019-11-13T00:00:00\", \"2019-12-05T00:00:00\", \"2019-12-10T00:00:00\", \"2019-12-26T00:00:00\", \"2019-12-31T00:00:00\"], \"xaxis\": \"x3\", \"y\": [3.21, 3.21, 3.21, 3.21, 3.21, 3.21, 3.21, 3.21, 3.21, 3.21, 3.21, 3.21, 3.21, 3.21, 3.21, 3.21, 3.21, 3.21, 3.21, 3.21, 3.21, 3.21, 3.21, 3.21, 3.21, 3.21, 3.21, 3.21], \"yaxis\": \"y3\"}, {\"line\": {\"color\": \"#FF5733\"}, \"name\": \"LSL I\", \"type\": \"scatter\", \"x\": [\"2019-01-11T00:00:00\", \"2019-01-22T00:00:00\", \"2019-01-26T00:00:00\", \"2019-01-31T00:00:00\", \"2019-02-11T00:00:00\", \"2019-02-22T00:00:00\", \"2019-02-27T00:00:00\", \"2019-03-07T00:00:00\", \"2019-03-15T00:00:00\", \"2019-04-05T00:00:00\", \"2019-04-16T00:00:00\", \"2019-05-27T00:00:00\", \"2019-06-03T00:00:00\", \"2019-06-10T00:00:00\", \"2019-06-17T00:00:00\", \"2019-06-25T00:00:00\", \"2019-06-28T00:00:00\", \"2019-08-07T00:00:00\", \"2019-08-19T00:00:00\", \"2019-08-26T00:00:00\", \"2019-09-05T00:00:00\", \"2019-10-17T00:00:00\", \"2019-11-01T00:00:00\", \"2019-11-13T00:00:00\", \"2019-12-05T00:00:00\", \"2019-12-10T00:00:00\", \"2019-12-26T00:00:00\", \"2019-12-31T00:00:00\"], \"xaxis\": \"x3\", \"y\": [3.19, 3.19, 3.19, 3.19, 3.19, 3.19, 3.19, 3.19, 3.19, 3.19, 3.19, 3.19, 3.19, 3.19, 3.19, 3.19, 3.19, 3.19, 3.19, 3.19, 3.19, 3.19, 3.19, 3.19, 3.19, 3.19, 3.19, 3.19], \"yaxis\": \"y3\"}, {\"line\": {\"color\": \"#FF5733\"}, \"name\": \"Nominal I\", \"type\": \"scatter\", \"x\": [\"2019-01-11T00:00:00\", \"2019-01-22T00:00:00\", \"2019-01-26T00:00:00\", \"2019-01-31T00:00:00\", \"2019-02-11T00:00:00\", \"2019-02-22T00:00:00\", \"2019-02-27T00:00:00\", \"2019-03-07T00:00:00\", \"2019-03-15T00:00:00\", \"2019-04-05T00:00:00\", \"2019-04-16T00:00:00\", \"2019-05-27T00:00:00\", \"2019-06-03T00:00:00\", \"2019-06-10T00:00:00\", \"2019-06-17T00:00:00\", \"2019-06-25T00:00:00\", \"2019-06-28T00:00:00\", \"2019-08-07T00:00:00\", \"2019-08-19T00:00:00\", \"2019-08-26T00:00:00\", \"2019-09-05T00:00:00\", \"2019-10-17T00:00:00\", \"2019-11-01T00:00:00\", \"2019-11-13T00:00:00\", \"2019-12-05T00:00:00\", \"2019-12-10T00:00:00\", \"2019-12-26T00:00:00\", \"2019-12-31T00:00:00\"], \"xaxis\": \"x3\", \"y\": [3.2, 3.2, 3.2, 3.2, 3.2, 3.2, 3.2, 3.2, 3.2, 3.2, 3.2, 3.2, 3.2, 3.2, 3.2, 3.2, 3.2, 3.2, 3.2, 3.2, 3.2, 3.2, 3.2, 3.2, 3.2, 3.2, 3.2, 3.2], \"yaxis\": \"y3\"}, {\"line\": {\"color\": \"#33C2FF\"}, \"name\": \"UCL I\", \"type\": \"scatter\", \"x\": [\"2019-01-11T00:00:00\", \"2019-01-22T00:00:00\", \"2019-01-26T00:00:00\", \"2019-01-31T00:00:00\", \"2019-02-11T00:00:00\", \"2019-02-22T00:00:00\", \"2019-02-27T00:00:00\", \"2019-03-07T00:00:00\", \"2019-03-15T00:00:00\", \"2019-04-05T00:00:00\", \"2019-04-16T00:00:00\", \"2019-05-27T00:00:00\", \"2019-06-03T00:00:00\", \"2019-06-10T00:00:00\", \"2019-06-17T00:00:00\", \"2019-06-25T00:00:00\", \"2019-06-28T00:00:00\", \"2019-08-07T00:00:00\", \"2019-08-19T00:00:00\", \"2019-08-26T00:00:00\", \"2019-09-05T00:00:00\", \"2019-10-17T00:00:00\", \"2019-11-01T00:00:00\", \"2019-11-13T00:00:00\", \"2019-12-05T00:00:00\", \"2019-12-10T00:00:00\", \"2019-12-26T00:00:00\", \"2019-12-31T00:00:00\"], \"xaxis\": \"x3\", \"y\": [3.206, 3.206, 3.206, 3.206, 3.206, 3.206, 3.206, 3.206, 3.206, 3.206, 3.206, 3.206, 3.206, 3.206, 3.206, 3.206, 3.206, 3.206, 3.206, 3.206, 3.206, 3.206, 3.206, 3.206, 3.206, 3.206, 3.206, 3.206], \"yaxis\": \"y3\"}, {\"line\": {\"color\": \"#33C2FF\"}, \"name\": \"LCL I\", \"type\": \"scatter\", \"x\": [\"2019-01-11T00:00:00\", \"2019-01-22T00:00:00\", \"2019-01-26T00:00:00\", \"2019-01-31T00:00:00\", \"2019-02-11T00:00:00\", \"2019-02-22T00:00:00\", \"2019-02-27T00:00:00\", \"2019-03-07T00:00:00\", \"2019-03-15T00:00:00\", \"2019-04-05T00:00:00\", \"2019-04-16T00:00:00\", \"2019-05-27T00:00:00\", \"2019-06-03T00:00:00\", \"2019-06-10T00:00:00\", \"2019-06-17T00:00:00\", \"2019-06-25T00:00:00\", \"2019-06-28T00:00:00\", \"2019-08-07T00:00:00\", \"2019-08-19T00:00:00\", \"2019-08-26T00:00:00\", \"2019-09-05T00:00:00\", \"2019-10-17T00:00:00\", \"2019-11-01T00:00:00\", \"2019-11-13T00:00:00\", \"2019-12-05T00:00:00\", \"2019-12-10T00:00:00\", \"2019-12-26T00:00:00\", \"2019-12-31T00:00:00\"], \"xaxis\": \"x3\", \"y\": [3.191, 3.191, 3.191, 3.191, 3.191, 3.191, 3.191, 3.191, 3.191, 3.191, 3.191, 3.191, 3.191, 3.191, 3.191, 3.191, 3.191, 3.191, 3.191, 3.191, 3.191, 3.191, 3.191, 3.191, 3.191, 3.191, 3.191, 3.191], \"yaxis\": \"y3\"}, {\"line\": {\"color\": \"#33C2FF\"}, \"name\": \"mean I\", \"type\": \"scatter\", \"x\": [\"2019-01-11T00:00:00\", \"2019-01-22T00:00:00\", \"2019-01-26T00:00:00\", \"2019-01-31T00:00:00\", \"2019-02-11T00:00:00\", \"2019-02-22T00:00:00\", \"2019-02-27T00:00:00\", \"2019-03-07T00:00:00\", \"2019-03-15T00:00:00\", \"2019-04-05T00:00:00\", \"2019-04-16T00:00:00\", \"2019-05-27T00:00:00\", \"2019-06-03T00:00:00\", \"2019-06-10T00:00:00\", \"2019-06-17T00:00:00\", \"2019-06-25T00:00:00\", \"2019-06-28T00:00:00\", \"2019-08-07T00:00:00\", \"2019-08-19T00:00:00\", \"2019-08-26T00:00:00\", \"2019-09-05T00:00:00\", \"2019-10-17T00:00:00\", \"2019-11-01T00:00:00\", \"2019-11-13T00:00:00\", \"2019-12-05T00:00:00\", \"2019-12-10T00:00:00\", \"2019-12-26T00:00:00\", \"2019-12-31T00:00:00\"], \"xaxis\": \"x3\", \"y\": [3.199, 3.199, 3.199, 3.199, 3.199, 3.199, 3.199, 3.199, 3.199, 3.199, 3.199, 3.199, 3.199, 3.199, 3.199, 3.199, 3.199, 3.199, 3.199, 3.199, 3.199, 3.199, 3.199, 3.199, 3.199, 3.199, 3.199, 3.199], \"yaxis\": \"y3\"}, {\"line\": {\"color\": \"#060891\"}, \"mode\": \"lines+markers\", \"name\": \"mean predict I\", \"type\": \"scatter\", \"x\": [\"2020-01-05T00:00:00\", \"2020-01-12T00:00:00\", \"2020-01-19T00:00:00\", \"2020-01-26T00:00:00\", \"2020-02-02T00:00:00\", \"2020-02-09T00:00:00\", \"2020-02-16T00:00:00\", \"2020-02-23T00:00:00\", \"2020-03-01T00:00:00\", \"2020-03-08T00:00:00\"], \"xaxis\": \"x3\", \"y\": [3.2009798271475933, 3.201093642700094, 3.201207458252595, 3.201321273805096, 3.201435089357597, 3.201548904910098, 3.2016627204625987, 3.2017765360150996, 3.2018903515676005, 3.2020041671201014], \"yaxis\": \"y3\"}, {\"line\": {\"color\": \"#FF5733\"}, \"mode\": \"lines\", \"name\": \"USL I\", \"type\": \"scatter\", \"x\": [\"2020-01-05T00:00:00\", \"2020-01-12T00:00:00\", \"2020-01-19T00:00:00\", \"2020-01-26T00:00:00\", \"2020-02-02T00:00:00\", \"2020-02-09T00:00:00\", \"2020-02-16T00:00:00\", \"2020-02-23T00:00:00\", \"2020-03-01T00:00:00\", \"2020-03-08T00:00:00\"], \"xaxis\": \"x3\", \"y\": [3.21, 3.21, 3.21, 3.21, 3.21, 3.21, 3.21, 3.21, 3.21, 3.21], \"yaxis\": \"y3\"}, {\"line\": {\"color\": \"#FF5733\"}, \"mode\": \"lines\", \"name\": \"LSL I\", \"type\": \"scatter\", \"x\": [\"2020-01-05T00:00:00\", \"2020-01-12T00:00:00\", \"2020-01-19T00:00:00\", \"2020-01-26T00:00:00\", \"2020-02-02T00:00:00\", \"2020-02-09T00:00:00\", \"2020-02-16T00:00:00\", \"2020-02-23T00:00:00\", \"2020-03-01T00:00:00\", \"2020-03-08T00:00:00\"], \"xaxis\": \"x3\", \"y\": [3.1900000000000004, 3.1900000000000004, 3.1900000000000004, 3.1900000000000004, 3.1900000000000004, 3.1900000000000004, 3.1900000000000004, 3.1900000000000004, 3.1900000000000004, 3.1900000000000004], \"yaxis\": \"y3\"}, {\"line\": {\"color\": \"#FF5733\"}, \"mode\": \"lines\", \"name\": \"Nominal I\", \"type\": \"scatter\", \"x\": [\"2020-01-05T00:00:00\", \"2020-01-12T00:00:00\", \"2020-01-19T00:00:00\", \"2020-01-26T00:00:00\", \"2020-02-02T00:00:00\", \"2020-02-09T00:00:00\", \"2020-02-16T00:00:00\", \"2020-02-23T00:00:00\", \"2020-03-01T00:00:00\", \"2020-03-08T00:00:00\"], \"xaxis\": \"x3\", \"y\": [3.2, 3.2, 3.2, 3.2, 3.2, 3.2, 3.2, 3.2, 3.2, 3.2], \"yaxis\": \"y3\"}, {\"line\": {\"color\": \"#33C2FF\"}, \"mode\": \"lines\", \"name\": \"UCL I\", \"type\": \"scatter\", \"x\": [\"2020-01-05T00:00:00\", \"2020-01-12T00:00:00\", \"2020-01-19T00:00:00\", \"2020-01-26T00:00:00\", \"2020-02-02T00:00:00\", \"2020-02-09T00:00:00\", \"2020-02-16T00:00:00\", \"2020-02-23T00:00:00\", \"2020-03-01T00:00:00\", \"2020-03-08T00:00:00\"], \"xaxis\": \"x3\", \"y\": [3.2061015334136274, 3.2061015334136274, 3.2061015334136274, 3.2061015334136274, 3.2061015334136274, 3.2061015334136274, 3.2061015334136274, 3.2061015334136274, 3.2061015334136274, 3.2061015334136274], \"yaxis\": \"y3\"}, {\"line\": {\"color\": \"#33C2FF\"}, \"mode\": \"lines\", \"name\": \"LCL I\", \"type\": \"scatter\", \"x\": [\"2020-01-05T00:00:00\", \"2020-01-12T00:00:00\", \"2020-01-19T00:00:00\", \"2020-01-26T00:00:00\", \"2020-02-02T00:00:00\", \"2020-02-09T00:00:00\", \"2020-02-16T00:00:00\", \"2020-02-23T00:00:00\", \"2020-03-01T00:00:00\", \"2020-03-08T00:00:00\"], \"xaxis\": \"x3\", \"y\": [3.1913270380149434, 3.1913270380149434, 3.1913270380149434, 3.1913270380149434, 3.1913270380149434, 3.1913270380149434, 3.1913270380149434, 3.1913270380149434, 3.1913270380149434, 3.1913270380149434], \"yaxis\": \"y3\"}, {\"line\": {\"color\": \"#33C2FF\"}, \"mode\": \"lines\", \"name\": \"mean I\", \"type\": \"scatter\", \"x\": [\"2020-01-05T00:00:00\", \"2020-01-12T00:00:00\", \"2020-01-19T00:00:00\", \"2020-01-26T00:00:00\", \"2020-02-02T00:00:00\", \"2020-02-09T00:00:00\", \"2020-02-16T00:00:00\", \"2020-02-23T00:00:00\", \"2020-03-01T00:00:00\", \"2020-03-08T00:00:00\"], \"xaxis\": \"x3\", \"y\": [3.1987142857142854, 3.1987142857142854, 3.1987142857142854, 3.1987142857142854, 3.1987142857142854, 3.1987142857142854, 3.1987142857142854, 3.1987142857142854, 3.1987142857142854, 3.1987142857142854], \"yaxis\": \"y3\"}, {\"line\": {\"color\": \"#9FA0F8\"}, \"mode\": \"lines\", \"name\": \"yhat_upper I\", \"type\": \"scatter\", \"x\": [\"2020-01-05T00:00:00\", \"2020-01-12T00:00:00\", \"2020-01-19T00:00:00\", \"2020-01-26T00:00:00\", \"2020-02-02T00:00:00\", \"2020-02-09T00:00:00\", \"2020-02-16T00:00:00\", \"2020-02-23T00:00:00\", \"2020-03-01T00:00:00\", \"2020-03-08T00:00:00\"], \"xaxis\": \"x3\", \"y\": [3.204187535249926, 3.204588877635244, 3.2049683016731603, 3.205330166322504, 3.2056775526984223, 3.206012734116101, 3.2063374447499218, 3.2066530432840996, 3.206960617746681, 3.2072610554686256], \"yaxis\": \"y3\"}, {\"fill\": \"tonexty\", \"line\": {\"color\": \"#9FA0F8\"}, \"mode\": \"lines\", \"name\": \"yhat_lower I\", \"type\": \"scatter\", \"x\": [\"2020-01-05T00:00:00\", \"2020-01-12T00:00:00\", \"2020-01-19T00:00:00\", \"2020-01-26T00:00:00\", \"2020-02-02T00:00:00\", \"2020-02-09T00:00:00\", \"2020-02-16T00:00:00\", \"2020-02-23T00:00:00\", \"2020-03-01T00:00:00\", \"2020-03-08T00:00:00\"], \"xaxis\": \"x3\", \"y\": [3.197772119045261, 3.1975984077649446, 3.19744661483203, 3.1973123812876882, 3.1971926260167716, 3.1970850757040945, 3.1969879961752756, 3.1969000287460996, 3.19682008538852, 3.196747278771577], \"yaxis\": \"y3\"}, {\"line\": {\"color\": \"#4280F5\"}, \"mode\": \"lines+markers\", \"name\": \"mean O\", \"type\": \"scatter\", \"x\": [\"2019-01-11T00:00:00\", \"2019-01-22T00:00:00\", \"2019-01-26T00:00:00\", \"2019-01-31T00:00:00\", \"2019-02-11T00:00:00\", \"2019-02-22T00:00:00\", \"2019-02-27T00:00:00\", \"2019-03-07T00:00:00\", \"2019-03-15T00:00:00\", \"2019-04-05T00:00:00\", \"2019-04-16T00:00:00\", \"2019-05-27T00:00:00\", \"2019-06-03T00:00:00\", \"2019-06-10T00:00:00\", \"2019-06-17T00:00:00\", \"2019-06-25T00:00:00\", \"2019-06-28T00:00:00\", \"2019-08-07T00:00:00\", \"2019-08-19T00:00:00\", \"2019-08-26T00:00:00\", \"2019-09-05T00:00:00\", \"2019-10-17T00:00:00\", \"2019-11-01T00:00:00\", \"2019-11-13T00:00:00\", \"2019-12-05T00:00:00\", \"2019-12-10T00:00:00\", \"2019-12-26T00:00:00\", \"2019-12-31T00:00:00\"], \"xaxis\": \"x4\", \"y\": [11.853, 11.852, 11.853, 11.855, 11.854, 11.852, 11.855, 11.857, 11.853, 11.856, 11.853, 11.853, 11.852, 11.856, 11.859, 11.86, 11.856, 11.851, 11.849, 11.85, 11.856, 11.849, 11.849, 11.851, 11.849, 11.852, 11.849, 11.848], \"yaxis\": \"y4\"}, {\"line\": {\"color\": \"#FF5733\"}, \"name\": \"USL O\", \"type\": \"scatter\", \"x\": [\"2019-01-11T00:00:00\", \"2019-01-22T00:00:00\", \"2019-01-26T00:00:00\", \"2019-01-31T00:00:00\", \"2019-02-11T00:00:00\", \"2019-02-22T00:00:00\", \"2019-02-27T00:00:00\", \"2019-03-07T00:00:00\", \"2019-03-15T00:00:00\", \"2019-04-05T00:00:00\", \"2019-04-16T00:00:00\", \"2019-05-27T00:00:00\", \"2019-06-03T00:00:00\", \"2019-06-10T00:00:00\", \"2019-06-17T00:00:00\", \"2019-06-25T00:00:00\", \"2019-06-28T00:00:00\", \"2019-08-07T00:00:00\", \"2019-08-19T00:00:00\", \"2019-08-26T00:00:00\", \"2019-09-05T00:00:00\", \"2019-10-17T00:00:00\", \"2019-11-01T00:00:00\", \"2019-11-13T00:00:00\", \"2019-12-05T00:00:00\", \"2019-12-10T00:00:00\", \"2019-12-26T00:00:00\", \"2019-12-31T00:00:00\"], \"xaxis\": \"x4\", \"y\": [11.86, 11.86, 11.86, 11.86, 11.86, 11.86, 11.86, 11.86, 11.86, 11.86, 11.86, 11.86, 11.86, 11.86, 11.86, 11.86, 11.86, 11.86, 11.86, 11.86, 11.86, 11.86, 11.86, 11.86, 11.86, 11.86, 11.86, 11.86], \"yaxis\": \"y4\"}, {\"line\": {\"color\": \"#FF5733\"}, \"name\": \"LSL O\", \"type\": \"scatter\", \"x\": [\"2019-01-11T00:00:00\", \"2019-01-22T00:00:00\", \"2019-01-26T00:00:00\", \"2019-01-31T00:00:00\", \"2019-02-11T00:00:00\", \"2019-02-22T00:00:00\", \"2019-02-27T00:00:00\", \"2019-03-07T00:00:00\", \"2019-03-15T00:00:00\", \"2019-04-05T00:00:00\", \"2019-04-16T00:00:00\", \"2019-05-27T00:00:00\", \"2019-06-03T00:00:00\", \"2019-06-10T00:00:00\", \"2019-06-17T00:00:00\", \"2019-06-25T00:00:00\", \"2019-06-28T00:00:00\", \"2019-08-07T00:00:00\", \"2019-08-19T00:00:00\", \"2019-08-26T00:00:00\", \"2019-09-05T00:00:00\", \"2019-10-17T00:00:00\", \"2019-11-01T00:00:00\", \"2019-11-13T00:00:00\", \"2019-12-05T00:00:00\", \"2019-12-10T00:00:00\", \"2019-12-26T00:00:00\", \"2019-12-31T00:00:00\"], \"xaxis\": \"x4\", \"y\": [11.84, 11.84, 11.84, 11.84, 11.84, 11.84, 11.84, 11.84, 11.84, 11.84, 11.84, 11.84, 11.84, 11.84, 11.84, 11.84, 11.84, 11.84, 11.84, 11.84, 11.84, 11.84, 11.84, 11.84, 11.84, 11.84, 11.84, 11.84], \"yaxis\": \"y4\"}, {\"line\": {\"color\": \"#FF5733\"}, \"name\": \"Nominal O\", \"type\": \"scatter\", \"x\": [\"2019-01-11T00:00:00\", \"2019-01-22T00:00:00\", \"2019-01-26T00:00:00\", \"2019-01-31T00:00:00\", \"2019-02-11T00:00:00\", \"2019-02-22T00:00:00\", \"2019-02-27T00:00:00\", \"2019-03-07T00:00:00\", \"2019-03-15T00:00:00\", \"2019-04-05T00:00:00\", \"2019-04-16T00:00:00\", \"2019-05-27T00:00:00\", \"2019-06-03T00:00:00\", \"2019-06-10T00:00:00\", \"2019-06-17T00:00:00\", \"2019-06-25T00:00:00\", \"2019-06-28T00:00:00\", \"2019-08-07T00:00:00\", \"2019-08-19T00:00:00\", \"2019-08-26T00:00:00\", \"2019-09-05T00:00:00\", \"2019-10-17T00:00:00\", \"2019-11-01T00:00:00\", \"2019-11-13T00:00:00\", \"2019-12-05T00:00:00\", \"2019-12-10T00:00:00\", \"2019-12-26T00:00:00\", \"2019-12-31T00:00:00\"], \"xaxis\": \"x4\", \"y\": [11.85, 11.85, 11.85, 11.85, 11.85, 11.85, 11.85, 11.85, 11.85, 11.85, 11.85, 11.85, 11.85, 11.85, 11.85, 11.85, 11.85, 11.85, 11.85, 11.85, 11.85, 11.85, 11.85, 11.85, 11.85, 11.85, 11.85, 11.85], \"yaxis\": \"y4\"}, {\"line\": {\"color\": \"#33C2FF\"}, \"name\": \"UCL O\", \"type\": \"scatter\", \"x\": [\"2019-01-11T00:00:00\", \"2019-01-22T00:00:00\", \"2019-01-26T00:00:00\", \"2019-01-31T00:00:00\", \"2019-02-11T00:00:00\", \"2019-02-22T00:00:00\", \"2019-02-27T00:00:00\", \"2019-03-07T00:00:00\", \"2019-03-15T00:00:00\", \"2019-04-05T00:00:00\", \"2019-04-16T00:00:00\", \"2019-05-27T00:00:00\", \"2019-06-03T00:00:00\", \"2019-06-10T00:00:00\", \"2019-06-17T00:00:00\", \"2019-06-25T00:00:00\", \"2019-06-28T00:00:00\", \"2019-08-07T00:00:00\", \"2019-08-19T00:00:00\", \"2019-08-26T00:00:00\", \"2019-09-05T00:00:00\", \"2019-10-17T00:00:00\", \"2019-11-01T00:00:00\", \"2019-11-13T00:00:00\", \"2019-12-05T00:00:00\", \"2019-12-10T00:00:00\", \"2019-12-26T00:00:00\", \"2019-12-31T00:00:00\"], \"xaxis\": \"x4\", \"y\": [11.862, 11.862, 11.862, 11.862, 11.862, 11.862, 11.862, 11.862, 11.862, 11.862, 11.862, 11.862, 11.862, 11.862, 11.862, 11.862, 11.862, 11.862, 11.862, 11.862, 11.862, 11.862, 11.862, 11.862, 11.862, 11.862, 11.862, 11.862], \"yaxis\": \"y4\"}, {\"line\": {\"color\": \"#33C2FF\"}, \"name\": \"LCL O\", \"type\": \"scatter\", \"x\": [\"2019-01-11T00:00:00\", \"2019-01-22T00:00:00\", \"2019-01-26T00:00:00\", \"2019-01-31T00:00:00\", \"2019-02-11T00:00:00\", \"2019-02-22T00:00:00\", \"2019-02-27T00:00:00\", \"2019-03-07T00:00:00\", \"2019-03-15T00:00:00\", \"2019-04-05T00:00:00\", \"2019-04-16T00:00:00\", \"2019-05-27T00:00:00\", \"2019-06-03T00:00:00\", \"2019-06-10T00:00:00\", \"2019-06-17T00:00:00\", \"2019-06-25T00:00:00\", \"2019-06-28T00:00:00\", \"2019-08-07T00:00:00\", \"2019-08-19T00:00:00\", \"2019-08-26T00:00:00\", \"2019-09-05T00:00:00\", \"2019-10-17T00:00:00\", \"2019-11-01T00:00:00\", \"2019-11-13T00:00:00\", \"2019-12-05T00:00:00\", \"2019-12-10T00:00:00\", \"2019-12-26T00:00:00\", \"2019-12-31T00:00:00\"], \"xaxis\": \"x4\", \"y\": [11.843, 11.843, 11.843, 11.843, 11.843, 11.843, 11.843, 11.843, 11.843, 11.843, 11.843, 11.843, 11.843, 11.843, 11.843, 11.843, 11.843, 11.843, 11.843, 11.843, 11.843, 11.843, 11.843, 11.843, 11.843, 11.843, 11.843, 11.843], \"yaxis\": \"y4\"}, {\"line\": {\"color\": \"#33C2FF\"}, \"name\": \"mean O\", \"type\": \"scatter\", \"x\": [\"2019-01-11T00:00:00\", \"2019-01-22T00:00:00\", \"2019-01-26T00:00:00\", \"2019-01-31T00:00:00\", \"2019-02-11T00:00:00\", \"2019-02-22T00:00:00\", \"2019-02-27T00:00:00\", \"2019-03-07T00:00:00\", \"2019-03-15T00:00:00\", \"2019-04-05T00:00:00\", \"2019-04-16T00:00:00\", \"2019-05-27T00:00:00\", \"2019-06-03T00:00:00\", \"2019-06-10T00:00:00\", \"2019-06-17T00:00:00\", \"2019-06-25T00:00:00\", \"2019-06-28T00:00:00\", \"2019-08-07T00:00:00\", \"2019-08-19T00:00:00\", \"2019-08-26T00:00:00\", \"2019-09-05T00:00:00\", \"2019-10-17T00:00:00\", \"2019-11-01T00:00:00\", \"2019-11-13T00:00:00\", \"2019-12-05T00:00:00\", \"2019-12-10T00:00:00\", \"2019-12-26T00:00:00\", \"2019-12-31T00:00:00\"], \"xaxis\": \"x4\", \"y\": [11.853, 11.853, 11.853, 11.853, 11.853, 11.853, 11.853, 11.853, 11.853, 11.853, 11.853, 11.853, 11.853, 11.853, 11.853, 11.853, 11.853, 11.853, 11.853, 11.853, 11.853, 11.853, 11.853, 11.853, 11.853, 11.853, 11.853, 11.853], \"yaxis\": \"y4\"}, {\"line\": {\"color\": \"#060891\"}, \"mode\": \"lines+markers\", \"name\": \"mean predict O\", \"type\": \"scatter\", \"x\": [\"2020-01-05T00:00:00\", \"2020-01-12T00:00:00\", \"2020-01-19T00:00:00\", \"2020-01-26T00:00:00\", \"2020-02-02T00:00:00\", \"2020-02-09T00:00:00\", \"2020-02-16T00:00:00\", \"2020-02-23T00:00:00\", \"2020-03-01T00:00:00\", \"2020-03-08T00:00:00\"], \"xaxis\": \"x4\", \"y\": [11.84796151139884, 11.847864491524085, 11.84776747164933, 11.847670451774576, 11.847573431899821, 11.847476412025067, 11.847379392150312, 11.847282372275558, 11.847185352400803, 11.847088332526049], \"yaxis\": \"y4\"}, {\"line\": {\"color\": \"#FF5733\"}, \"mode\": \"lines\", \"name\": \"USL O\", \"type\": \"scatter\", \"x\": [\"2020-01-05T00:00:00\", \"2020-01-12T00:00:00\", \"2020-01-19T00:00:00\", \"2020-01-26T00:00:00\", \"2020-02-02T00:00:00\", \"2020-02-09T00:00:00\", \"2020-02-16T00:00:00\", \"2020-02-23T00:00:00\", \"2020-03-01T00:00:00\", \"2020-03-08T00:00:00\"], \"xaxis\": \"x4\", \"y\": [11.86, 11.86, 11.86, 11.86, 11.86, 11.86, 11.86, 11.86, 11.86, 11.86], \"yaxis\": \"y4\"}, {\"line\": {\"color\": \"#FF5733\"}, \"mode\": \"lines\", \"name\": \"LSL O\", \"type\": \"scatter\", \"x\": [\"2020-01-05T00:00:00\", \"2020-01-12T00:00:00\", \"2020-01-19T00:00:00\", \"2020-01-26T00:00:00\", \"2020-02-02T00:00:00\", \"2020-02-09T00:00:00\", \"2020-02-16T00:00:00\", \"2020-02-23T00:00:00\", \"2020-03-01T00:00:00\", \"2020-03-08T00:00:00\"], \"xaxis\": \"x4\", \"y\": [11.84, 11.84, 11.84, 11.84, 11.84, 11.84, 11.84, 11.84, 11.84, 11.84], \"yaxis\": \"y4\"}, {\"line\": {\"color\": \"#FF5733\"}, \"mode\": \"lines\", \"name\": \"Nominal O\", \"type\": \"scatter\", \"x\": [\"2020-01-05T00:00:00\", \"2020-01-12T00:00:00\", \"2020-01-19T00:00:00\", \"2020-01-26T00:00:00\", \"2020-02-02T00:00:00\", \"2020-02-09T00:00:00\", \"2020-02-16T00:00:00\", \"2020-02-23T00:00:00\", \"2020-03-01T00:00:00\", \"2020-03-08T00:00:00\"], \"xaxis\": \"x4\", \"y\": [11.85, 11.85, 11.85, 11.85, 11.85, 11.85, 11.85, 11.85, 11.85, 11.85], \"yaxis\": \"y4\"}, {\"line\": {\"color\": \"#33C2FF\"}, \"mode\": \"lines\", \"name\": \"UCL O\", \"type\": \"scatter\", \"x\": [\"2020-01-05T00:00:00\", \"2020-01-12T00:00:00\", \"2020-01-19T00:00:00\", \"2020-01-26T00:00:00\", \"2020-02-02T00:00:00\", \"2020-02-09T00:00:00\", \"2020-02-16T00:00:00\", \"2020-02-23T00:00:00\", \"2020-03-01T00:00:00\", \"2020-03-08T00:00:00\"], \"xaxis\": \"x4\", \"y\": [11.862447975171401, 11.862447975171401, 11.862447975171401, 11.862447975171401, 11.862447975171401, 11.862447975171401, 11.862447975171401, 11.862447975171401, 11.862447975171401, 11.862447975171401], \"yaxis\": \"y4\"}, {\"line\": {\"color\": \"#33C2FF\"}, \"mode\": \"lines\", \"name\": \"LCL O\", \"type\": \"scatter\", \"x\": [\"2020-01-05T00:00:00\", \"2020-01-12T00:00:00\", \"2020-01-19T00:00:00\", \"2020-01-26T00:00:00\", \"2020-02-02T00:00:00\", \"2020-02-09T00:00:00\", \"2020-02-16T00:00:00\", \"2020-02-23T00:00:00\", \"2020-03-01T00:00:00\", \"2020-03-08T00:00:00\"], \"xaxis\": \"x4\", \"y\": [11.843409167685737, 11.843409167685737, 11.843409167685737, 11.843409167685737, 11.843409167685737, 11.843409167685737, 11.843409167685737, 11.843409167685737, 11.843409167685737, 11.843409167685737], \"yaxis\": \"y4\"}, {\"line\": {\"color\": \"#33C2FF\"}, \"mode\": \"lines\", \"name\": \"mean O\", \"type\": \"scatter\", \"x\": [\"2020-01-05T00:00:00\", \"2020-01-12T00:00:00\", \"2020-01-19T00:00:00\", \"2020-01-26T00:00:00\", \"2020-02-02T00:00:00\", \"2020-02-09T00:00:00\", \"2020-02-16T00:00:00\", \"2020-02-23T00:00:00\", \"2020-03-01T00:00:00\", \"2020-03-08T00:00:00\"], \"xaxis\": \"x4\", \"y\": [11.852928571428569, 11.852928571428569, 11.852928571428569, 11.852928571428569, 11.852928571428569, 11.852928571428569, 11.852928571428569, 11.852928571428569, 11.852928571428569, 11.852928571428569], \"yaxis\": \"y4\"}, {\"line\": {\"color\": \"#9FA0F8\"}, \"mode\": \"lines\", \"name\": \"yhat_upper O\", \"type\": \"scatter\", \"x\": [\"2020-01-05T00:00:00\", \"2020-01-12T00:00:00\", \"2020-01-19T00:00:00\", \"2020-01-26T00:00:00\", \"2020-02-02T00:00:00\", \"2020-02-09T00:00:00\", \"2020-02-16T00:00:00\", \"2020-02-23T00:00:00\", \"2020-03-01T00:00:00\", \"2020-03-08T00:00:00\"], \"xaxis\": \"x4\", \"y\": [11.852143249097708, 11.853617724578834, 11.854746902212232, 11.855690751730469, 11.856514235654664, 11.857251417507559, 11.857922802062806, 11.858541868400296, 11.859118039163771, 11.859658208173135], \"yaxis\": \"y4\"}, {\"fill\": \"tonexty\", \"line\": {\"color\": \"#9FA0F8\"}, \"mode\": \"lines\", \"name\": \"yhat_lower O\", \"type\": \"scatter\", \"x\": [\"2020-01-05T00:00:00\", \"2020-01-12T00:00:00\", \"2020-01-19T00:00:00\", \"2020-01-26T00:00:00\", \"2020-02-02T00:00:00\", \"2020-02-09T00:00:00\", \"2020-02-16T00:00:00\", \"2020-02-23T00:00:00\", \"2020-03-01T00:00:00\", \"2020-03-08T00:00:00\"], \"xaxis\": \"x4\", \"y\": [11.843779773699971, 11.842111258469336, 11.840788041086428, 11.839650151818683, 11.838632628144978, 11.837701406542575, 11.836835982237819, 11.83602287615082, 11.835252665637835, 11.834518456878962], \"yaxis\": \"y4\"}, {\"line\": {\"color\": \"#4280F5\"}, \"mode\": \"lines+markers\", \"name\": \"mean Z\", \"type\": \"scatter\", \"x\": [\"2019-01-11T00:00:00\", \"2019-01-22T00:00:00\", \"2019-01-26T00:00:00\", \"2019-01-31T00:00:00\", \"2019-02-11T00:00:00\", \"2019-02-22T00:00:00\", \"2019-02-27T00:00:00\", \"2019-03-07T00:00:00\", \"2019-03-15T00:00:00\", \"2019-04-05T00:00:00\", \"2019-04-16T00:00:00\", \"2019-05-27T00:00:00\", \"2019-06-03T00:00:00\", \"2019-06-10T00:00:00\", \"2019-06-17T00:00:00\", \"2019-06-25T00:00:00\", \"2019-06-28T00:00:00\", \"2019-08-07T00:00:00\", \"2019-08-19T00:00:00\", \"2019-08-26T00:00:00\", \"2019-09-05T00:00:00\", \"2019-10-17T00:00:00\", \"2019-11-01T00:00:00\", \"2019-11-13T00:00:00\", \"2019-12-05T00:00:00\", \"2019-12-10T00:00:00\", \"2019-12-26T00:00:00\", \"2019-12-31T00:00:00\"], \"xaxis\": \"x5\", \"y\": [0.31, 0.311, 0.311, 0.311, 0.312, 0.312, 0.311, 0.311, 0.312, 0.311, 0.313, 0.313, 0.313, 0.311, 0.313, 0.316, 0.316, 0.313, 0.313, 0.313, 0.316, 0.313, 0.313, 0.315, 0.308, 0.311, 0.312, 0.313], \"yaxis\": \"y5\"}, {\"line\": {\"color\": \"#FF5733\"}, \"name\": \"USL Z\", \"type\": \"scatter\", \"x\": [\"2019-01-11T00:00:00\", \"2019-01-22T00:00:00\", \"2019-01-26T00:00:00\", \"2019-01-31T00:00:00\", \"2019-02-11T00:00:00\", \"2019-02-22T00:00:00\", \"2019-02-27T00:00:00\", \"2019-03-07T00:00:00\", \"2019-03-15T00:00:00\", \"2019-04-05T00:00:00\", \"2019-04-16T00:00:00\", \"2019-05-27T00:00:00\", \"2019-06-03T00:00:00\", \"2019-06-10T00:00:00\", \"2019-06-17T00:00:00\", \"2019-06-25T00:00:00\", \"2019-06-28T00:00:00\", \"2019-08-07T00:00:00\", \"2019-08-19T00:00:00\", \"2019-08-26T00:00:00\", \"2019-09-05T00:00:00\", \"2019-10-17T00:00:00\", \"2019-11-01T00:00:00\", \"2019-11-13T00:00:00\", \"2019-12-05T00:00:00\", \"2019-12-10T00:00:00\", \"2019-12-26T00:00:00\", \"2019-12-31T00:00:00\"], \"xaxis\": \"x5\", \"y\": [0.32, 0.32, 0.32, 0.32, 0.32, 0.32, 0.32, 0.32, 0.32, 0.32, 0.32, 0.32, 0.32, 0.32, 0.32, 0.32, 0.32, 0.32, 0.32, 0.32, 0.32, 0.32, 0.32, 0.32, 0.32, 0.32, 0.32, 0.32], \"yaxis\": \"y5\"}, {\"line\": {\"color\": \"#FF5733\"}, \"name\": \"LSL Z\", \"type\": \"scatter\", \"x\": [\"2019-01-11T00:00:00\", \"2019-01-22T00:00:00\", \"2019-01-26T00:00:00\", \"2019-01-31T00:00:00\", \"2019-02-11T00:00:00\", \"2019-02-22T00:00:00\", \"2019-02-27T00:00:00\", \"2019-03-07T00:00:00\", \"2019-03-15T00:00:00\", \"2019-04-05T00:00:00\", \"2019-04-16T00:00:00\", \"2019-05-27T00:00:00\", \"2019-06-03T00:00:00\", \"2019-06-10T00:00:00\", \"2019-06-17T00:00:00\", \"2019-06-25T00:00:00\", \"2019-06-28T00:00:00\", \"2019-08-07T00:00:00\", \"2019-08-19T00:00:00\", \"2019-08-26T00:00:00\", \"2019-09-05T00:00:00\", \"2019-10-17T00:00:00\", \"2019-11-01T00:00:00\", \"2019-11-13T00:00:00\", \"2019-12-05T00:00:00\", \"2019-12-10T00:00:00\", \"2019-12-26T00:00:00\", \"2019-12-31T00:00:00\"], \"xaxis\": \"x5\", \"y\": [0.28, 0.28, 0.28, 0.28, 0.28, 0.28, 0.28, 0.28, 0.28, 0.28, 0.28, 0.28, 0.28, 0.28, 0.28, 0.28, 0.28, 0.28, 0.28, 0.28, 0.28, 0.28, 0.28, 0.28, 0.28, 0.28, 0.28, 0.28], \"yaxis\": \"y5\"}, {\"line\": {\"color\": \"#FF5733\"}, \"name\": \"Nominal Z\", \"type\": \"scatter\", \"x\": [\"2019-01-11T00:00:00\", \"2019-01-22T00:00:00\", \"2019-01-26T00:00:00\", \"2019-01-31T00:00:00\", \"2019-02-11T00:00:00\", \"2019-02-22T00:00:00\", \"2019-02-27T00:00:00\", \"2019-03-07T00:00:00\", \"2019-03-15T00:00:00\", \"2019-04-05T00:00:00\", \"2019-04-16T00:00:00\", \"2019-05-27T00:00:00\", \"2019-06-03T00:00:00\", \"2019-06-10T00:00:00\", \"2019-06-17T00:00:00\", \"2019-06-25T00:00:00\", \"2019-06-28T00:00:00\", \"2019-08-07T00:00:00\", \"2019-08-19T00:00:00\", \"2019-08-26T00:00:00\", \"2019-09-05T00:00:00\", \"2019-10-17T00:00:00\", \"2019-11-01T00:00:00\", \"2019-11-13T00:00:00\", \"2019-12-05T00:00:00\", \"2019-12-10T00:00:00\", \"2019-12-26T00:00:00\", \"2019-12-31T00:00:00\"], \"xaxis\": \"x5\", \"y\": [0.3, 0.3, 0.3, 0.3, 0.3, 0.3, 0.3, 0.3, 0.3, 0.3, 0.3, 0.3, 0.3, 0.3, 0.3, 0.3, 0.3, 0.3, 0.3, 0.3, 0.3, 0.3, 0.3, 0.3, 0.3, 0.3, 0.3, 0.3], \"yaxis\": \"y5\"}, {\"line\": {\"color\": \"#33C2FF\"}, \"name\": \"UCL Z\", \"type\": \"scatter\", \"x\": [\"2019-01-11T00:00:00\", \"2019-01-22T00:00:00\", \"2019-01-26T00:00:00\", \"2019-01-31T00:00:00\", \"2019-02-11T00:00:00\", \"2019-02-22T00:00:00\", \"2019-02-27T00:00:00\", \"2019-03-07T00:00:00\", \"2019-03-15T00:00:00\", \"2019-04-05T00:00:00\", \"2019-04-16T00:00:00\", \"2019-05-27T00:00:00\", \"2019-06-03T00:00:00\", \"2019-06-10T00:00:00\", \"2019-06-17T00:00:00\", \"2019-06-25T00:00:00\", \"2019-06-28T00:00:00\", \"2019-08-07T00:00:00\", \"2019-08-19T00:00:00\", \"2019-08-26T00:00:00\", \"2019-09-05T00:00:00\", \"2019-10-17T00:00:00\", \"2019-11-01T00:00:00\", \"2019-11-13T00:00:00\", \"2019-12-05T00:00:00\", \"2019-12-10T00:00:00\", \"2019-12-26T00:00:00\", \"2019-12-31T00:00:00\"], \"xaxis\": \"x5\", \"y\": [0.318, 0.318, 0.318, 0.318, 0.318, 0.318, 0.318, 0.318, 0.318, 0.318, 0.318, 0.318, 0.318, 0.318, 0.318, 0.318, 0.318, 0.318, 0.318, 0.318, 0.318, 0.318, 0.318, 0.318, 0.318, 0.318, 0.318, 0.318], \"yaxis\": \"y5\"}, {\"line\": {\"color\": \"#33C2FF\"}, \"name\": \"LCL Z\", \"type\": \"scatter\", \"x\": [\"2019-01-11T00:00:00\", \"2019-01-22T00:00:00\", \"2019-01-26T00:00:00\", \"2019-01-31T00:00:00\", \"2019-02-11T00:00:00\", \"2019-02-22T00:00:00\", \"2019-02-27T00:00:00\", \"2019-03-07T00:00:00\", \"2019-03-15T00:00:00\", \"2019-04-05T00:00:00\", \"2019-04-16T00:00:00\", \"2019-05-27T00:00:00\", \"2019-06-03T00:00:00\", \"2019-06-10T00:00:00\", \"2019-06-17T00:00:00\", \"2019-06-25T00:00:00\", \"2019-06-28T00:00:00\", \"2019-08-07T00:00:00\", \"2019-08-19T00:00:00\", \"2019-08-26T00:00:00\", \"2019-09-05T00:00:00\", \"2019-10-17T00:00:00\", \"2019-11-01T00:00:00\", \"2019-11-13T00:00:00\", \"2019-12-05T00:00:00\", \"2019-12-10T00:00:00\", \"2019-12-26T00:00:00\", \"2019-12-31T00:00:00\"], \"xaxis\": \"x5\", \"y\": [0.307, 0.307, 0.307, 0.307, 0.307, 0.307, 0.307, 0.307, 0.307, 0.307, 0.307, 0.307, 0.307, 0.307, 0.307, 0.307, 0.307, 0.307, 0.307, 0.307, 0.307, 0.307, 0.307, 0.307, 0.307, 0.307, 0.307, 0.307], \"yaxis\": \"y5\"}, {\"line\": {\"color\": \"#33C2FF\"}, \"name\": \"mean Z\", \"type\": \"scatter\", \"x\": [\"2019-01-11T00:00:00\", \"2019-01-22T00:00:00\", \"2019-01-26T00:00:00\", \"2019-01-31T00:00:00\", \"2019-02-11T00:00:00\", \"2019-02-22T00:00:00\", \"2019-02-27T00:00:00\", \"2019-03-07T00:00:00\", \"2019-03-15T00:00:00\", \"2019-04-05T00:00:00\", \"2019-04-16T00:00:00\", \"2019-05-27T00:00:00\", \"2019-06-03T00:00:00\", \"2019-06-10T00:00:00\", \"2019-06-17T00:00:00\", \"2019-06-25T00:00:00\", \"2019-06-28T00:00:00\", \"2019-08-07T00:00:00\", \"2019-08-19T00:00:00\", \"2019-08-26T00:00:00\", \"2019-09-05T00:00:00\", \"2019-10-17T00:00:00\", \"2019-11-01T00:00:00\", \"2019-11-13T00:00:00\", \"2019-12-05T00:00:00\", \"2019-12-10T00:00:00\", \"2019-12-26T00:00:00\", \"2019-12-31T00:00:00\"], \"xaxis\": \"x5\", \"y\": [0.312, 0.312, 0.312, 0.312, 0.312, 0.312, 0.312, 0.312, 0.312, 0.312, 0.312, 0.312, 0.312, 0.312, 0.312, 0.312, 0.312, 0.312, 0.312, 0.312, 0.312, 0.312, 0.312, 0.312, 0.312, 0.312, 0.312, 0.312], \"yaxis\": \"y5\"}, {\"line\": {\"color\": \"#060891\"}, \"mode\": \"lines+markers\", \"name\": \"mean predict Z\", \"type\": \"scatter\", \"x\": [\"2020-01-05T00:00:00\", \"2020-01-12T00:00:00\", \"2020-01-19T00:00:00\", \"2020-01-26T00:00:00\", \"2020-02-02T00:00:00\", \"2020-02-09T00:00:00\", \"2020-02-16T00:00:00\", \"2020-02-23T00:00:00\", \"2020-03-01T00:00:00\", \"2020-03-08T00:00:00\"], \"xaxis\": \"x5\", \"y\": [0.31280754835971847, 0.3128609379361474, 0.3129143275125763, 0.3129677170890052, 0.31302110666543415, 0.31307449624186307, 0.313127885818292, 0.3131812753947209, 0.3132346649711498, 0.31328805454757874], \"yaxis\": \"y5\"}, {\"line\": {\"color\": \"#FF5733\"}, \"mode\": \"lines\", \"name\": \"USL Z\", \"type\": \"scatter\", \"x\": [\"2020-01-05T00:00:00\", \"2020-01-12T00:00:00\", \"2020-01-19T00:00:00\", \"2020-01-26T00:00:00\", \"2020-02-02T00:00:00\", \"2020-02-09T00:00:00\", \"2020-02-16T00:00:00\", \"2020-02-23T00:00:00\", \"2020-03-01T00:00:00\", \"2020-03-08T00:00:00\"], \"xaxis\": \"x5\", \"y\": [0.32, 0.32, 0.32, 0.32, 0.32, 0.32, 0.32, 0.32, 0.32, 0.32], \"yaxis\": \"y5\"}, {\"line\": {\"color\": \"#FF5733\"}, \"mode\": \"lines\", \"name\": \"LSL Z\", \"type\": \"scatter\", \"x\": [\"2020-01-05T00:00:00\", \"2020-01-12T00:00:00\", \"2020-01-19T00:00:00\", \"2020-01-26T00:00:00\", \"2020-02-02T00:00:00\", \"2020-02-09T00:00:00\", \"2020-02-16T00:00:00\", \"2020-02-23T00:00:00\", \"2020-03-01T00:00:00\", \"2020-03-08T00:00:00\"], \"xaxis\": \"x5\", \"y\": [0.27999999999999997, 0.27999999999999997, 0.27999999999999997, 0.27999999999999997, 0.27999999999999997, 0.27999999999999997, 0.27999999999999997, 0.27999999999999997, 0.27999999999999997, 0.27999999999999997], \"yaxis\": \"y5\"}, {\"line\": {\"color\": \"#FF5733\"}, \"mode\": \"lines\", \"name\": \"Nominal Z\", \"type\": \"scatter\", \"x\": [\"2020-01-05T00:00:00\", \"2020-01-12T00:00:00\", \"2020-01-19T00:00:00\", \"2020-01-26T00:00:00\", \"2020-02-02T00:00:00\", \"2020-02-09T00:00:00\", \"2020-02-16T00:00:00\", \"2020-02-23T00:00:00\", \"2020-03-01T00:00:00\", \"2020-03-08T00:00:00\"], \"xaxis\": \"x5\", \"y\": [0.3, 0.3, 0.3, 0.3, 0.3, 0.3, 0.3, 0.3, 0.3, 0.3], \"yaxis\": \"y5\"}, {\"line\": {\"color\": \"#33C2FF\"}, \"mode\": \"lines\", \"name\": \"UCL Z\", \"type\": \"scatter\", \"x\": [\"2020-01-05T00:00:00\", \"2020-01-12T00:00:00\", \"2020-01-19T00:00:00\", \"2020-01-26T00:00:00\", \"2020-02-02T00:00:00\", \"2020-02-09T00:00:00\", \"2020-02-16T00:00:00\", \"2020-02-23T00:00:00\", \"2020-03-01T00:00:00\", \"2020-03-08T00:00:00\"], \"xaxis\": \"x5\", \"y\": [0.31789069221460947, 0.31789069221460947, 0.31789069221460947, 0.31789069221460947, 0.31789069221460947, 0.31789069221460947, 0.31789069221460947, 0.31789069221460947, 0.31789069221460947, 0.31789069221460947], \"yaxis\": \"y5\"}, {\"line\": {\"color\": \"#33C2FF\"}, \"mode\": \"lines\", \"name\": \"LCL Z\", \"type\": \"scatter\", \"x\": [\"2020-01-05T00:00:00\", \"2020-01-12T00:00:00\", \"2020-01-19T00:00:00\", \"2020-01-26T00:00:00\", \"2020-02-02T00:00:00\", \"2020-02-09T00:00:00\", \"2020-02-16T00:00:00\", \"2020-02-23T00:00:00\", \"2020-03-01T00:00:00\", \"2020-03-08T00:00:00\"], \"xaxis\": \"x5\", \"y\": [0.3068950220711047, 0.3068950220711047, 0.3068950220711047, 0.3068950220711047, 0.3068950220711047, 0.3068950220711047, 0.3068950220711047, 0.3068950220711047, 0.3068950220711047, 0.3068950220711047], \"yaxis\": \"y5\"}, {\"line\": {\"color\": \"#33C2FF\"}, \"mode\": \"lines\", \"name\": \"mean Z\", \"type\": \"scatter\", \"x\": [\"2020-01-05T00:00:00\", \"2020-01-12T00:00:00\", \"2020-01-19T00:00:00\", \"2020-01-26T00:00:00\", \"2020-02-02T00:00:00\", \"2020-02-09T00:00:00\", \"2020-02-16T00:00:00\", \"2020-02-23T00:00:00\", \"2020-03-01T00:00:00\", \"2020-03-08T00:00:00\"], \"xaxis\": \"x5\", \"y\": [0.3123928571428571, 0.3123928571428571, 0.3123928571428571, 0.3123928571428571, 0.3123928571428571, 0.3123928571428571, 0.3123928571428571, 0.3123928571428571, 0.3123928571428571, 0.3123928571428571], \"yaxis\": \"y5\"}, {\"line\": {\"color\": \"#9FA0F8\"}, \"mode\": \"lines\", \"name\": \"yhat_upper Z\", \"type\": \"scatter\", \"x\": [\"2020-01-05T00:00:00\", \"2020-01-12T00:00:00\", \"2020-01-19T00:00:00\", \"2020-01-26T00:00:00\", \"2020-02-02T00:00:00\", \"2020-02-09T00:00:00\", \"2020-02-16T00:00:00\", \"2020-02-23T00:00:00\", \"2020-03-01T00:00:00\", \"2020-03-08T00:00:00\"], \"xaxis\": \"x5\", \"y\": [0.3157266399816902, 0.3165771683299416, 0.31728464109194954, 0.31790623034952686, 0.31846887553595743, 0.31898782509361284, 0.3194727050080901, 0.3199300532836075, 0.3203645510456828, 0.3207796864043983], \"yaxis\": \"y5\"}, {\"fill\": \"tonexty\", \"line\": {\"color\": \"#9FA0F8\"}, \"mode\": \"lines\", \"name\": \"yhat_lower Z\", \"type\": \"scatter\", \"x\": [\"2020-01-05T00:00:00\", \"2020-01-12T00:00:00\", \"2020-01-19T00:00:00\", \"2020-01-26T00:00:00\", \"2020-02-02T00:00:00\", \"2020-02-09T00:00:00\", \"2020-02-16T00:00:00\", \"2020-02-23T00:00:00\", \"2020-03-01T00:00:00\", \"2020-03-08T00:00:00\"], \"xaxis\": \"x5\", \"y\": [0.30988845673774673, 0.3091447075423532, 0.3085440139332031, 0.3080292038284836, 0.30757333779491086, 0.3071611673901133, 0.30678306662849386, 0.3064324975058343, 0.30610477889661686, 0.3057964226907592], \"yaxis\": \"y5\"}],\n",
              "                        {\"annotations\": [{\"font\": {\"size\": 16}, \"showarrow\": false, \"text\": \"C-Pitch\", \"x\": 0.5, \"xanchor\": \"center\", \"xref\": \"paper\", \"y\": 1.0, \"yanchor\": \"bottom\", \"yref\": \"paper\"}, {\"font\": {\"size\": 16}, \"showarrow\": false, \"text\": \"J\", \"x\": 0.5, \"xanchor\": \"center\", \"xref\": \"paper\", \"y\": 0.78, \"yanchor\": \"bottom\", \"yref\": \"paper\"}, {\"font\": {\"size\": 16}, \"showarrow\": false, \"text\": \"I\", \"x\": 0.5, \"xanchor\": \"center\", \"xref\": \"paper\", \"y\": 0.56, \"yanchor\": \"bottom\", \"yref\": \"paper\"}, {\"font\": {\"size\": 16}, \"showarrow\": false, \"text\": \"O\", \"x\": 0.5, \"xanchor\": \"center\", \"xref\": \"paper\", \"y\": 0.33999999999999997, \"yanchor\": \"bottom\", \"yref\": \"paper\"}, {\"font\": {\"size\": 16}, \"showarrow\": false, \"text\": \"Z\", \"x\": 0.5, \"xanchor\": \"center\", \"xref\": \"paper\", \"y\": 0.12, \"yanchor\": \"bottom\", \"yref\": \"paper\"}], \"height\": 1500, \"template\": {\"data\": {\"bar\": [{\"error_x\": {\"color\": \"#2a3f5f\"}, \"error_y\": {\"color\": \"#2a3f5f\"}, \"marker\": {\"line\": {\"color\": \"#E5ECF6\", \"width\": 0.5}}, \"type\": \"bar\"}], \"barpolar\": [{\"marker\": {\"line\": {\"color\": \"#E5ECF6\", \"width\": 0.5}}, \"type\": \"barpolar\"}], \"carpet\": [{\"aaxis\": {\"endlinecolor\": \"#2a3f5f\", \"gridcolor\": \"white\", \"linecolor\": \"white\", \"minorgridcolor\": \"white\", \"startlinecolor\": \"#2a3f5f\"}, \"baxis\": {\"endlinecolor\": \"#2a3f5f\", \"gridcolor\": \"white\", \"linecolor\": \"white\", \"minorgridcolor\": \"white\", \"startlinecolor\": \"#2a3f5f\"}, \"type\": \"carpet\"}], \"choropleth\": [{\"colorbar\": {\"outlinewidth\": 0, \"ticks\": \"\"}, \"type\": \"choropleth\"}], \"contour\": [{\"colorbar\": {\"outlinewidth\": 0, \"ticks\": \"\"}, \"colorscale\": [[0.0, \"#0d0887\"], [0.1111111111111111, \"#46039f\"], [0.2222222222222222, \"#7201a8\"], [0.3333333333333333, \"#9c179e\"], [0.4444444444444444, \"#bd3786\"], [0.5555555555555556, \"#d8576b\"], [0.6666666666666666, \"#ed7953\"], [0.7777777777777778, \"#fb9f3a\"], [0.8888888888888888, \"#fdca26\"], [1.0, \"#f0f921\"]], \"type\": \"contour\"}], \"contourcarpet\": [{\"colorbar\": {\"outlinewidth\": 0, \"ticks\": \"\"}, \"type\": \"contourcarpet\"}], \"heatmap\": [{\"colorbar\": {\"outlinewidth\": 0, \"ticks\": \"\"}, \"colorscale\": [[0.0, \"#0d0887\"], [0.1111111111111111, \"#46039f\"], [0.2222222222222222, \"#7201a8\"], [0.3333333333333333, \"#9c179e\"], [0.4444444444444444, \"#bd3786\"], [0.5555555555555556, \"#d8576b\"], [0.6666666666666666, \"#ed7953\"], [0.7777777777777778, \"#fb9f3a\"], [0.8888888888888888, \"#fdca26\"], [1.0, \"#f0f921\"]], \"type\": \"heatmap\"}], \"heatmapgl\": [{\"colorbar\": {\"outlinewidth\": 0, \"ticks\": \"\"}, \"colorscale\": [[0.0, \"#0d0887\"], [0.1111111111111111, \"#46039f\"], [0.2222222222222222, \"#7201a8\"], [0.3333333333333333, \"#9c179e\"], [0.4444444444444444, \"#bd3786\"], [0.5555555555555556, \"#d8576b\"], [0.6666666666666666, \"#ed7953\"], [0.7777777777777778, \"#fb9f3a\"], [0.8888888888888888, \"#fdca26\"], [1.0, \"#f0f921\"]], \"type\": \"heatmapgl\"}], \"histogram\": [{\"marker\": {\"colorbar\": {\"outlinewidth\": 0, \"ticks\": \"\"}}, \"type\": \"histogram\"}], \"histogram2d\": [{\"colorbar\": {\"outlinewidth\": 0, \"ticks\": \"\"}, \"colorscale\": [[0.0, \"#0d0887\"], [0.1111111111111111, \"#46039f\"], [0.2222222222222222, \"#7201a8\"], [0.3333333333333333, \"#9c179e\"], [0.4444444444444444, \"#bd3786\"], [0.5555555555555556, \"#d8576b\"], [0.6666666666666666, \"#ed7953\"], [0.7777777777777778, \"#fb9f3a\"], [0.8888888888888888, \"#fdca26\"], [1.0, \"#f0f921\"]], \"type\": \"histogram2d\"}], \"histogram2dcontour\": [{\"colorbar\": {\"outlinewidth\": 0, \"ticks\": \"\"}, \"colorscale\": [[0.0, \"#0d0887\"], [0.1111111111111111, \"#46039f\"], [0.2222222222222222, \"#7201a8\"], [0.3333333333333333, \"#9c179e\"], [0.4444444444444444, \"#bd3786\"], [0.5555555555555556, \"#d8576b\"], [0.6666666666666666, \"#ed7953\"], [0.7777777777777778, \"#fb9f3a\"], [0.8888888888888888, \"#fdca26\"], [1.0, \"#f0f921\"]], \"type\": \"histogram2dcontour\"}], \"mesh3d\": [{\"colorbar\": {\"outlinewidth\": 0, \"ticks\": \"\"}, \"type\": \"mesh3d\"}], \"parcoords\": [{\"line\": {\"colorbar\": {\"outlinewidth\": 0, \"ticks\": \"\"}}, \"type\": \"parcoords\"}], \"pie\": [{\"automargin\": true, \"type\": \"pie\"}], \"scatter\": [{\"marker\": {\"colorbar\": {\"outlinewidth\": 0, \"ticks\": \"\"}}, \"type\": \"scatter\"}], \"scatter3d\": [{\"line\": {\"colorbar\": {\"outlinewidth\": 0, \"ticks\": \"\"}}, \"marker\": {\"colorbar\": {\"outlinewidth\": 0, \"ticks\": \"\"}}, \"type\": \"scatter3d\"}], \"scattercarpet\": [{\"marker\": {\"colorbar\": {\"outlinewidth\": 0, \"ticks\": \"\"}}, \"type\": \"scattercarpet\"}], \"scattergeo\": [{\"marker\": {\"colorbar\": {\"outlinewidth\": 0, \"ticks\": \"\"}}, \"type\": \"scattergeo\"}], \"scattergl\": [{\"marker\": {\"colorbar\": {\"outlinewidth\": 0, \"ticks\": \"\"}}, \"type\": \"scattergl\"}], \"scattermapbox\": [{\"marker\": {\"colorbar\": {\"outlinewidth\": 0, \"ticks\": \"\"}}, \"type\": \"scattermapbox\"}], \"scatterpolar\": [{\"marker\": {\"colorbar\": {\"outlinewidth\": 0, \"ticks\": \"\"}}, \"type\": \"scatterpolar\"}], \"scatterpolargl\": [{\"marker\": {\"colorbar\": {\"outlinewidth\": 0, \"ticks\": \"\"}}, \"type\": \"scatterpolargl\"}], \"scatterternary\": [{\"marker\": {\"colorbar\": {\"outlinewidth\": 0, \"ticks\": \"\"}}, \"type\": \"scatterternary\"}], \"surface\": [{\"colorbar\": {\"outlinewidth\": 0, \"ticks\": \"\"}, \"colorscale\": [[0.0, \"#0d0887\"], [0.1111111111111111, \"#46039f\"], [0.2222222222222222, \"#7201a8\"], [0.3333333333333333, \"#9c179e\"], [0.4444444444444444, \"#bd3786\"], [0.5555555555555556, \"#d8576b\"], [0.6666666666666666, \"#ed7953\"], [0.7777777777777778, \"#fb9f3a\"], [0.8888888888888888, \"#fdca26\"], [1.0, \"#f0f921\"]], \"type\": \"surface\"}], \"table\": [{\"cells\": {\"fill\": {\"color\": \"#EBF0F8\"}, \"line\": {\"color\": \"white\"}}, \"header\": {\"fill\": {\"color\": \"#C8D4E3\"}, \"line\": {\"color\": \"white\"}}, \"type\": \"table\"}]}, \"layout\": {\"annotationdefaults\": {\"arrowcolor\": \"#2a3f5f\", \"arrowhead\": 0, \"arrowwidth\": 1}, \"coloraxis\": {\"colorbar\": {\"outlinewidth\": 0, \"ticks\": \"\"}}, \"colorscale\": {\"diverging\": [[0, \"#8e0152\"], [0.1, \"#c51b7d\"], [0.2, \"#de77ae\"], [0.3, \"#f1b6da\"], [0.4, \"#fde0ef\"], [0.5, \"#f7f7f7\"], [0.6, \"#e6f5d0\"], [0.7, \"#b8e186\"], [0.8, \"#7fbc41\"], [0.9, \"#4d9221\"], [1, \"#276419\"]], \"sequential\": [[0.0, \"#0d0887\"], [0.1111111111111111, \"#46039f\"], [0.2222222222222222, \"#7201a8\"], [0.3333333333333333, \"#9c179e\"], [0.4444444444444444, \"#bd3786\"], [0.5555555555555556, \"#d8576b\"], [0.6666666666666666, \"#ed7953\"], [0.7777777777777778, \"#fb9f3a\"], [0.8888888888888888, \"#fdca26\"], [1.0, \"#f0f921\"]], \"sequentialminus\": [[0.0, \"#0d0887\"], [0.1111111111111111, \"#46039f\"], [0.2222222222222222, \"#7201a8\"], [0.3333333333333333, \"#9c179e\"], [0.4444444444444444, \"#bd3786\"], [0.5555555555555556, \"#d8576b\"], [0.6666666666666666, \"#ed7953\"], [0.7777777777777778, \"#fb9f3a\"], [0.8888888888888888, \"#fdca26\"], [1.0, \"#f0f921\"]]}, \"colorway\": [\"#636efa\", \"#EF553B\", \"#00cc96\", \"#ab63fa\", \"#FFA15A\", \"#19d3f3\", \"#FF6692\", \"#B6E880\", \"#FF97FF\", \"#FECB52\"], \"font\": {\"color\": \"#2a3f5f\"}, \"geo\": {\"bgcolor\": \"white\", \"lakecolor\": \"white\", \"landcolor\": \"#E5ECF6\", \"showlakes\": true, \"showland\": true, \"subunitcolor\": \"white\"}, \"hoverlabel\": {\"align\": \"left\"}, \"hovermode\": \"closest\", \"mapbox\": {\"style\": \"light\"}, \"paper_bgcolor\": \"white\", \"plot_bgcolor\": \"#E5ECF6\", \"polar\": {\"angularaxis\": {\"gridcolor\": \"white\", \"linecolor\": \"white\", \"ticks\": \"\"}, \"bgcolor\": \"#E5ECF6\", \"radialaxis\": {\"gridcolor\": \"white\", \"linecolor\": \"white\", \"ticks\": \"\"}}, \"scene\": {\"xaxis\": {\"backgroundcolor\": \"#E5ECF6\", \"gridcolor\": \"white\", \"gridwidth\": 2, \"linecolor\": \"white\", \"showbackground\": true, \"ticks\": \"\", \"zerolinecolor\": \"white\"}, \"yaxis\": {\"backgroundcolor\": \"#E5ECF6\", \"gridcolor\": \"white\", \"gridwidth\": 2, \"linecolor\": \"white\", \"showbackground\": true, \"ticks\": \"\", \"zerolinecolor\": \"white\"}, \"zaxis\": {\"backgroundcolor\": \"#E5ECF6\", \"gridcolor\": \"white\", \"gridwidth\": 2, \"linecolor\": \"white\", \"showbackground\": true, \"ticks\": \"\", \"zerolinecolor\": \"white\"}}, \"shapedefaults\": {\"line\": {\"color\": \"#2a3f5f\"}}, \"ternary\": {\"aaxis\": {\"gridcolor\": \"white\", \"linecolor\": \"white\", \"ticks\": \"\"}, \"baxis\": {\"gridcolor\": \"white\", \"linecolor\": \"white\", \"ticks\": \"\"}, \"bgcolor\": \"#E5ECF6\", \"caxis\": {\"gridcolor\": \"white\", \"linecolor\": \"white\", \"ticks\": \"\"}}, \"title\": {\"x\": 0.05}, \"xaxis\": {\"automargin\": true, \"gridcolor\": \"white\", \"linecolor\": \"white\", \"ticks\": \"\", \"title\": {\"standoff\": 15}, \"zerolinecolor\": \"white\", \"zerolinewidth\": 2}, \"yaxis\": {\"automargin\": true, \"gridcolor\": \"white\", \"linecolor\": \"white\", \"ticks\": \"\", \"title\": {\"standoff\": 15}, \"zerolinecolor\": \"white\", \"zerolinewidth\": 2}}}, \"title\": {\"text\": \"Line chart\"}, \"width\": 1200, \"xaxis\": {\"anchor\": \"y\", \"domain\": [0.0, 1.0]}, \"xaxis2\": {\"anchor\": \"y2\", \"domain\": [0.0, 1.0]}, \"xaxis3\": {\"anchor\": \"y3\", \"domain\": [0.0, 1.0]}, \"xaxis4\": {\"anchor\": \"y4\", \"domain\": [0.0, 1.0]}, \"xaxis5\": {\"anchor\": \"y5\", \"domain\": [0.0, 1.0]}, \"yaxis\": {\"anchor\": \"x\", \"domain\": [0.88, 1.0]}, \"yaxis2\": {\"anchor\": \"x2\", \"domain\": [0.66, 0.78]}, \"yaxis3\": {\"anchor\": \"x3\", \"domain\": [0.44, 0.56]}, \"yaxis4\": {\"anchor\": \"x4\", \"domain\": [0.22, 0.33999999999999997]}, \"yaxis5\": {\"anchor\": \"x5\", \"domain\": [0.0, 0.12]}},\n",
              "                        {\"responsive\": true}\n",
              "                    ).then(function(){\n",
              "                            \n",
              "var gd = document.getElementById('afeeb408-20fa-468b-8a7c-93e437593161');\n",
              "var x = new MutationObserver(function (mutations, observer) {{\n",
              "        var display = window.getComputedStyle(gd).display;\n",
              "        if (!display || display === 'none') {{\n",
              "            console.log([gd, 'removed!']);\n",
              "            Plotly.purge(gd);\n",
              "            observer.disconnect();\n",
              "        }}\n",
              "}});\n",
              "\n",
              "// Listen for the removal of the full notebook cells\n",
              "var notebookContainer = gd.closest('#notebook-container');\n",
              "if (notebookContainer) {{\n",
              "    x.observe(notebookContainer, {childList: true});\n",
              "}}\n",
              "\n",
              "// Listen for the clearing of the current output cell\n",
              "var outputEl = gd.closest('.output');\n",
              "if (outputEl) {{\n",
              "    x.observe(outputEl, {childList: true});\n",
              "}}\n",
              "\n",
              "                        })\n",
              "                };\n",
              "                \n",
              "            </script>\n",
              "        </div>\n",
              "</body>\n",
              "</html>"
            ]
          },
          "metadata": {
            "tags": []
          }
        }
      ]
    },
    {
      "cell_type": "code",
      "metadata": {
        "id": "YGoRjQaVx0rH",
        "colab_type": "code",
        "colab": {}
      },
      "source": [
        "#------------------Save Line chart plotly-----------------------------------------#\n",
        "\n",
        "\n",
        "#if st.checkbox('Save predict Line chart'):\n",
        "#if st.button(\"Save Line chart\"):\n",
        "#    fig_new_2.write_html(path3+namefile+'_predict_line.html')\n",
        "#    st.write('Path file: ',path3+namefile+'_predict_line.html')\n",
        "#----------------------------Box chart altair----------------------------------------#"
      ],
      "execution_count": null,
      "outputs": []
    },
    {
      "cell_type": "code",
      "metadata": {
        "id": "8BBgM866qExd",
        "colab_type": "code",
        "colab": {}
      },
      "source": [
        ""
      ],
      "execution_count": null,
      "outputs": []
    },
    {
      "cell_type": "markdown",
      "metadata": {
        "id": "vfYkI1nlqWT4",
        "colab_type": "text"
      },
      "source": [
        "### ARIMA validate"
      ]
    },
    {
      "cell_type": "code",
      "metadata": {
        "id": "zrT_mYfoqZM6",
        "colab_type": "code",
        "colab": {}
      },
      "source": [
        "\n",
        "DF_predict_final_={} # only contail predict\n",
        "#DF_predict_all_final={} # contain predict and past value\n",
        "for name in DFdict_final.keys(): #also group\n",
        "  #print(name)\n",
        "  df_temp_2=DFdict_final[name].copy() # gia tri mean thong thuong\n",
        "  df_temp_2=df_temp_2.set_index(df_temp_2.columns[0]).copy()\n",
        "  df_temp_2=df_temp_2.resample('1W').ffill() # gia tri mean da resample\n",
        "  df_original=df_temp_2.reset_index()#\n",
        "\n",
        "  df=df_original[[df_original.columns[0],df_original.columns[1]]].\\\n",
        "    set_index(df_original.columns[0])\n",
        "  split=int(len(df) * 0.80)\n",
        "  training_set=df[:split]\n",
        "  test_set=df[split:]\n",
        "  predict_future=len(test_set)\n",
        "\n",
        "  arima = ARIMA(training_set, order=(0, 1, 1)).fit(disp=0)   \n",
        "  arima_pred = arima.forecast(predict_future) # arima manual select \n",
        "  arima_pred = pd.concat([pd.DataFrame(arima_pred[0], columns=['prediction']),\n",
        "                        pd.DataFrame(arima_pred[2], columns=['ci_lower','ci_upper'])],axis=1)\n",
        "  x=test_set[:1].index.astype(np.int64) // 10 ** 9\n",
        "  timestamp = datetime.datetime.fromtimestamp(x.values)\n",
        "  a=timestamp.strftime('%Y-%m-%d')\n",
        "  didx = pd.date_range(start =a, freq ='W',periods = predict_future) \n",
        "  arima_pred.index=didx\n",
        "  arima_pred['USL']=df_original['USL'][0]\n",
        "  arima_pred['LSL']=df_original['LSL'][0]\n",
        "  arima_pred['Nominal']=df_original['Nominal'][0]\n",
        "  arima_pred['UCL']=df_original['UCL'][0]\n",
        "  arima_pred['LCL']=df_original['LCL'][0]\n",
        "  arima_pred['mean']=df_original['mean'][0]\n",
        "  arima_pred=arima_pred.reset_index()\n",
        "  test_set=test_set.reset_index()\n",
        "  join_data=pd.merge(arima_pred,test_set,how='inner',left_on='index',right_on='Datef')\n",
        "  join_data=join_data.drop(columns='Datef')\n",
        "  DF_predict_final_[name]=join_data\n",
        "#DF_predict_final_\n"
      ],
      "execution_count": null,
      "outputs": []
    },
    {
      "cell_type": "code",
      "metadata": {
        "id": "k_1A3cUf_P-2",
        "colab_type": "code",
        "colab": {
          "base_uri": "https://localhost:8080/",
          "height": 204
        },
        "outputId": "f2c3e0c0-1a2d-482d-fe38-3cfcb54cdc49"
      },
      "source": [
        "join_data.head()"
      ],
      "execution_count": 86,
      "outputs": [
        {
          "output_type": "execute_result",
          "data": {
            "text/html": [
              "<div>\n",
              "<style scoped>\n",
              "    .dataframe tbody tr th:only-of-type {\n",
              "        vertical-align: middle;\n",
              "    }\n",
              "\n",
              "    .dataframe tbody tr th {\n",
              "        vertical-align: top;\n",
              "    }\n",
              "\n",
              "    .dataframe thead th {\n",
              "        text-align: right;\n",
              "    }\n",
              "</style>\n",
              "<table border=\"1\" class=\"dataframe\">\n",
              "  <thead>\n",
              "    <tr style=\"text-align: right;\">\n",
              "      <th></th>\n",
              "      <th>index</th>\n",
              "      <th>prediction</th>\n",
              "      <th>ci_lower</th>\n",
              "      <th>ci_upper</th>\n",
              "      <th>USL</th>\n",
              "      <th>LSL</th>\n",
              "      <th>Nominal</th>\n",
              "      <th>UCL</th>\n",
              "      <th>LCL</th>\n",
              "      <th>mean</th>\n",
              "      <th>Z</th>\n",
              "    </tr>\n",
              "  </thead>\n",
              "  <tbody>\n",
              "    <tr>\n",
              "      <th>0</th>\n",
              "      <td>2019-10-27</td>\n",
              "      <td>0.312868</td>\n",
              "      <td>0.310619</td>\n",
              "      <td>0.315117</td>\n",
              "      <td>0.32</td>\n",
              "      <td>0.28</td>\n",
              "      <td>0.3</td>\n",
              "      <td>0.317891</td>\n",
              "      <td>0.306895</td>\n",
              "      <td>0.312393</td>\n",
              "      <td>0.313</td>\n",
              "    </tr>\n",
              "    <tr>\n",
              "      <th>1</th>\n",
              "      <td>2019-11-03</td>\n",
              "      <td>0.312938</td>\n",
              "      <td>0.309651</td>\n",
              "      <td>0.316225</td>\n",
              "      <td>0.32</td>\n",
              "      <td>0.28</td>\n",
              "      <td>0.3</td>\n",
              "      <td>0.317891</td>\n",
              "      <td>0.306895</td>\n",
              "      <td>0.312393</td>\n",
              "      <td>0.313</td>\n",
              "    </tr>\n",
              "    <tr>\n",
              "      <th>2</th>\n",
              "      <td>2019-11-10</td>\n",
              "      <td>0.313008</td>\n",
              "      <td>0.308940</td>\n",
              "      <td>0.317076</td>\n",
              "      <td>0.32</td>\n",
              "      <td>0.28</td>\n",
              "      <td>0.3</td>\n",
              "      <td>0.317891</td>\n",
              "      <td>0.306895</td>\n",
              "      <td>0.312393</td>\n",
              "      <td>0.313</td>\n",
              "    </tr>\n",
              "    <tr>\n",
              "      <th>3</th>\n",
              "      <td>2019-11-17</td>\n",
              "      <td>0.313077</td>\n",
              "      <td>0.308356</td>\n",
              "      <td>0.317799</td>\n",
              "      <td>0.32</td>\n",
              "      <td>0.28</td>\n",
              "      <td>0.3</td>\n",
              "      <td>0.317891</td>\n",
              "      <td>0.306895</td>\n",
              "      <td>0.312393</td>\n",
              "      <td>0.315</td>\n",
              "    </tr>\n",
              "    <tr>\n",
              "      <th>4</th>\n",
              "      <td>2019-11-24</td>\n",
              "      <td>0.313147</td>\n",
              "      <td>0.307852</td>\n",
              "      <td>0.318442</td>\n",
              "      <td>0.32</td>\n",
              "      <td>0.28</td>\n",
              "      <td>0.3</td>\n",
              "      <td>0.317891</td>\n",
              "      <td>0.306895</td>\n",
              "      <td>0.312393</td>\n",
              "      <td>0.315</td>\n",
              "    </tr>\n",
              "  </tbody>\n",
              "</table>\n",
              "</div>"
            ],
            "text/plain": [
              "       index  prediction  ci_lower  ...       LCL      mean      Z\n",
              "0 2019-10-27    0.312868  0.310619  ...  0.306895  0.312393  0.313\n",
              "1 2019-11-03    0.312938  0.309651  ...  0.306895  0.312393  0.313\n",
              "2 2019-11-10    0.313008  0.308940  ...  0.306895  0.312393  0.313\n",
              "3 2019-11-17    0.313077  0.308356  ...  0.306895  0.312393  0.315\n",
              "4 2019-11-24    0.313147  0.307852  ...  0.306895  0.312393  0.315\n",
              "\n",
              "[5 rows x 11 columns]"
            ]
          },
          "metadata": {
            "tags": []
          },
          "execution_count": 86
        }
      ]
    },
    {
      "cell_type": "code",
      "metadata": {
        "id": "PUP_GKZr8dG7",
        "colab_type": "code",
        "colab": {
          "base_uri": "https://localhost:8080/",
          "height": 1000
        },
        "outputId": "768e5ec1-1172-4bd3-e874-2bdfcb7dbd3a"
      },
      "source": [
        "i=1\n",
        "#Layout\n",
        "fig = make_subplots(\n",
        "    rows=len(DF_predict_final_), cols=1,\n",
        "    subplot_titles=(list(DFdict_final.keys()))\n",
        ")\n",
        "for name in DF_predict_final_.keys(): #also group\n",
        "\n",
        "  df=DF_predict_final_[name].copy()\n",
        "  df=df.sort_values(by=['index'])\n",
        "  for a in df.columns[1:]:\n",
        "    df[a] = df[a].round(decimals=3)\n",
        "  print(name)\n",
        "  print('test rmse:', np.sqrt(mean_squared_error(df[name], df['prediction'])))\n",
        "  print('test mae:', np.sqrt(mean_absolute_error(df[name], df['prediction'])))\n",
        "\n",
        "  #Control chart 1 and predict is the same dataframe\n",
        "  fig.append_trace(go.Scatter(\n",
        "                          x=df['index'], y=df[name],\n",
        "                          mode='lines+markers',\n",
        "                          name='mean ' + name,line=dict( color='#000000')\n",
        "                          ),row=i, col=1\n",
        "                )\n",
        "  #Predict:\n",
        "  df_predict=df\n",
        "  fig.append_trace(go.Scatter(\n",
        "                      x=df_predict['index'], y=df_predict['prediction'],\n",
        "                      mode='lines+markers',\n",
        "                      name='mean predict ' + name,line=dict( color='#ff25e2')\n",
        "                      ),row=i, col=1\n",
        "            )\n",
        "\n",
        "  #USL, LSL\n",
        "  fig.append_trace(go.Scatter(x=df_predict['index'], y=df_predict['USL'],name='USL '+name, line=dict( color='#FF5733'),mode='lines'),row=i, col=1)\n",
        "  fig.append_trace(go.Scatter(x=df_predict['index'], y=df_predict['LSL'],name='LSL '+name,line=dict( color='#FF5733'),mode='lines'),row=i, col=1)\n",
        "  #fig.append_trace(go.Scatter(x=df_predict['ds'], y=df_predict['Nominal'],name='Nominal '+name,line=dict( color='#FF5733'),mode='lines'),row=i, col=1)\n",
        "  # UCL, LCL\n",
        "  #fig.append_trace(go.Scatter(x=df_predict['ds'], y=df_predict['UCL'],name='UCL '+name, line=dict( color='#33C2FF'),mode='lines'),row=i, col=1)\n",
        "  #fig.append_trace(go.Scatter(x=df_predict['ds'], y=df_predict['LCL'],name='LCL '+name, line=dict( color='#33C2FF'),mode='lines'),row=i, col=1)\n",
        "  #fig.append_trace(go.Scatter(x=df_predict['ds'], y=df_predict['mean'],name='mean '+name, line=dict( color='#33C2FF'),mode='lines'),row=i, col=1)\n",
        "  # Fill between:\n",
        "  fig.append_trace(go.Scatter(x=df_predict['index'], y=df_predict['ci_upper'],name='ci_upper '+name, line=dict( color='#9FA0F8'),fill=None,mode='lines'),row=i, col=1)\n",
        "  fig.append_trace(go.Scatter(x=df_predict['index'], y=df_predict['ci_lower'],name='ci_lower '+name, line=dict( color='#9FA0F8'), fill='tonexty',mode='lines'),row=i, col=1)\n",
        "  i+=1\n",
        "fig.update_layout(height=300*len(DFdict_final), width=1200, title_text='Line chart')\n",
        "fig.show()"
      ],
      "execution_count": 88,
      "outputs": [
        {
          "output_type": "stream",
          "text": [
            "C-Pitch\n",
            "test rmse: 0.0023548788812705872\n",
            "test mae: 0.04156047072968182\n",
            "J\n",
            "test rmse: 0.0009045340337332358\n",
            "test mae: 0.02522624895547466\n",
            "I\n",
            "test rmse: 0.002828427124746207\n",
            "test mae: 0.05045249791095133\n",
            "O\n",
            "test rmse: 0.0018586407545692696\n",
            "test mae: 0.03567530340063522\n",
            "Z\n",
            "test rmse: 0.0020670576365276515\n",
            "test mae: 0.039312269655344845\n"
          ],
          "name": "stdout"
        },
        {
          "output_type": "display_data",
          "data": {
            "text/html": [
              "<html>\n",
              "<head><meta charset=\"utf-8\" /></head>\n",
              "<body>\n",
              "    <div>\n",
              "            <script src=\"https://cdnjs.cloudflare.com/ajax/libs/mathjax/2.7.5/MathJax.js?config=TeX-AMS-MML_SVG\"></script><script type=\"text/javascript\">if (window.MathJax) {MathJax.Hub.Config({SVG: {font: \"STIX-Web\"}});}</script>\n",
              "                <script type=\"text/javascript\">window.PlotlyConfig = {MathJaxConfig: 'local'};</script>\n",
              "        <script src=\"https://cdn.plot.ly/plotly-latest.min.js\"></script>    \n",
              "            <div id=\"7b2e8295-a571-4229-a69b-8da20e6c6d29\" class=\"plotly-graph-div\" style=\"height:1500px; width:1200px;\"></div>\n",
              "            <script type=\"text/javascript\">\n",
              "                \n",
              "                    window.PLOTLYENV=window.PLOTLYENV || {};\n",
              "                    \n",
              "                if (document.getElementById(\"7b2e8295-a571-4229-a69b-8da20e6c6d29\")) {\n",
              "                    Plotly.newPlot(\n",
              "                        '7b2e8295-a571-4229-a69b-8da20e6c6d29',\n",
              "                        [{\"line\": {\"color\": \"#000000\"}, \"mode\": \"lines+markers\", \"name\": \"mean C-Pitch\", \"type\": \"scatter\", \"x\": [\"2019-10-27T00:00:00\", \"2019-11-03T00:00:00\", \"2019-11-10T00:00:00\", \"2019-11-17T00:00:00\", \"2019-11-24T00:00:00\", \"2019-12-01T00:00:00\", \"2019-12-08T00:00:00\", \"2019-12-15T00:00:00\", \"2019-12-22T00:00:00\", \"2019-12-29T00:00:00\", \"2020-01-05T00:00:00\"], \"xaxis\": \"x\", \"y\": [10.0, 10.0, 10.0, 10.002, 10.002, 10.002, 10.0, 10.003, 10.003, 10.003, 9.999], \"yaxis\": \"y\"}, {\"line\": {\"color\": \"#ff25e2\"}, \"mode\": \"lines+markers\", \"name\": \"mean predict C-Pitch\", \"type\": \"scatter\", \"x\": [\"2019-10-27T00:00:00\", \"2019-11-03T00:00:00\", \"2019-11-10T00:00:00\", \"2019-11-17T00:00:00\", \"2019-11-24T00:00:00\", \"2019-12-01T00:00:00\", \"2019-12-08T00:00:00\", \"2019-12-15T00:00:00\", \"2019-12-22T00:00:00\", \"2019-12-29T00:00:00\", \"2020-01-05T00:00:00\"], \"xaxis\": \"x\", \"y\": [10.0, 10.0, 10.0, 10.0, 10.0, 10.0, 9.999, 9.999, 9.999, 9.999, 9.999], \"yaxis\": \"y\"}, {\"line\": {\"color\": \"#FF5733\"}, \"mode\": \"lines\", \"name\": \"USL C-Pitch\", \"type\": \"scatter\", \"x\": [\"2019-10-27T00:00:00\", \"2019-11-03T00:00:00\", \"2019-11-10T00:00:00\", \"2019-11-17T00:00:00\", \"2019-11-24T00:00:00\", \"2019-12-01T00:00:00\", \"2019-12-08T00:00:00\", \"2019-12-15T00:00:00\", \"2019-12-22T00:00:00\", \"2019-12-29T00:00:00\", \"2020-01-05T00:00:00\"], \"xaxis\": \"x\", \"y\": [10.01, 10.01, 10.01, 10.01, 10.01, 10.01, 10.01, 10.01, 10.01, 10.01, 10.01], \"yaxis\": \"y\"}, {\"line\": {\"color\": \"#FF5733\"}, \"mode\": \"lines\", \"name\": \"LSL C-Pitch\", \"type\": \"scatter\", \"x\": [\"2019-10-27T00:00:00\", \"2019-11-03T00:00:00\", \"2019-11-10T00:00:00\", \"2019-11-17T00:00:00\", \"2019-11-24T00:00:00\", \"2019-12-01T00:00:00\", \"2019-12-08T00:00:00\", \"2019-12-15T00:00:00\", \"2019-12-22T00:00:00\", \"2019-12-29T00:00:00\", \"2020-01-05T00:00:00\"], \"xaxis\": \"x\", \"y\": [9.99, 9.99, 9.99, 9.99, 9.99, 9.99, 9.99, 9.99, 9.99, 9.99, 9.99], \"yaxis\": \"y\"}, {\"line\": {\"color\": \"#9FA0F8\"}, \"mode\": \"lines\", \"name\": \"ci_upper C-Pitch\", \"type\": \"scatter\", \"x\": [\"2019-10-27T00:00:00\", \"2019-11-03T00:00:00\", \"2019-11-10T00:00:00\", \"2019-11-17T00:00:00\", \"2019-11-24T00:00:00\", \"2019-12-01T00:00:00\", \"2019-12-08T00:00:00\", \"2019-12-15T00:00:00\", \"2019-12-22T00:00:00\", \"2019-12-29T00:00:00\", \"2020-01-05T00:00:00\"], \"xaxis\": \"x\", \"y\": [10.002, 10.003, 10.004, 10.004, 10.005, 10.005, 10.006, 10.006, 10.006, 10.007, 10.007], \"yaxis\": \"y\"}, {\"fill\": \"tonexty\", \"line\": {\"color\": \"#9FA0F8\"}, \"mode\": \"lines\", \"name\": \"ci_lower C-Pitch\", \"type\": \"scatter\", \"x\": [\"2019-10-27T00:00:00\", \"2019-11-03T00:00:00\", \"2019-11-10T00:00:00\", \"2019-11-17T00:00:00\", \"2019-11-24T00:00:00\", \"2019-12-01T00:00:00\", \"2019-12-08T00:00:00\", \"2019-12-15T00:00:00\", \"2019-12-22T00:00:00\", \"2019-12-29T00:00:00\", \"2020-01-05T00:00:00\"], \"xaxis\": \"x\", \"y\": [9.998, 9.996, 9.996, 9.995, 9.994, 9.994, 9.993, 9.993, 9.992, 9.992, 9.991], \"yaxis\": \"y\"}, {\"line\": {\"color\": \"#000000\"}, \"mode\": \"lines+markers\", \"name\": \"mean J\", \"type\": \"scatter\", \"x\": [\"2019-10-27T00:00:00\", \"2019-11-03T00:00:00\", \"2019-11-10T00:00:00\", \"2019-11-17T00:00:00\", \"2019-11-24T00:00:00\", \"2019-12-01T00:00:00\", \"2019-12-08T00:00:00\", \"2019-12-15T00:00:00\", \"2019-12-22T00:00:00\", \"2019-12-29T00:00:00\", \"2020-01-05T00:00:00\"], \"xaxis\": \"x2\", \"y\": [1.22, 1.22, 1.22, 1.219, 1.219, 1.219, 1.219, 1.22, 1.22, 1.219, 1.218], \"yaxis\": \"y2\"}, {\"line\": {\"color\": \"#ff25e2\"}, \"mode\": \"lines+markers\", \"name\": \"mean predict J\", \"type\": \"scatter\", \"x\": [\"2019-10-27T00:00:00\", \"2019-11-03T00:00:00\", \"2019-11-10T00:00:00\", \"2019-11-17T00:00:00\", \"2019-11-24T00:00:00\", \"2019-12-01T00:00:00\", \"2019-12-08T00:00:00\", \"2019-12-15T00:00:00\", \"2019-12-22T00:00:00\", \"2019-12-29T00:00:00\", \"2020-01-05T00:00:00\"], \"xaxis\": \"x2\", \"y\": [1.22, 1.22, 1.22, 1.22, 1.22, 1.22, 1.22, 1.22, 1.22, 1.22, 1.22], \"yaxis\": \"y2\"}, {\"line\": {\"color\": \"#FF5733\"}, \"mode\": \"lines\", \"name\": \"USL J\", \"type\": \"scatter\", \"x\": [\"2019-10-27T00:00:00\", \"2019-11-03T00:00:00\", \"2019-11-10T00:00:00\", \"2019-11-17T00:00:00\", \"2019-11-24T00:00:00\", \"2019-12-01T00:00:00\", \"2019-12-08T00:00:00\", \"2019-12-15T00:00:00\", \"2019-12-22T00:00:00\", \"2019-12-29T00:00:00\", \"2020-01-05T00:00:00\"], \"xaxis\": \"x2\", \"y\": [1.22, 1.22, 1.22, 1.22, 1.22, 1.22, 1.22, 1.22, 1.22, 1.22, 1.22], \"yaxis\": \"y2\"}, {\"line\": {\"color\": \"#FF5733\"}, \"mode\": \"lines\", \"name\": \"LSL J\", \"type\": \"scatter\", \"x\": [\"2019-10-27T00:00:00\", \"2019-11-03T00:00:00\", \"2019-11-10T00:00:00\", \"2019-11-17T00:00:00\", \"2019-11-24T00:00:00\", \"2019-12-01T00:00:00\", \"2019-12-08T00:00:00\", \"2019-12-15T00:00:00\", \"2019-12-22T00:00:00\", \"2019-12-29T00:00:00\", \"2020-01-05T00:00:00\"], \"xaxis\": \"x2\", \"y\": [1.21, 1.21, 1.21, 1.21, 1.21, 1.21, 1.21, 1.21, 1.21, 1.21, 1.21], \"yaxis\": \"y2\"}, {\"line\": {\"color\": \"#9FA0F8\"}, \"mode\": \"lines\", \"name\": \"ci_upper J\", \"type\": \"scatter\", \"x\": [\"2019-10-27T00:00:00\", \"2019-11-03T00:00:00\", \"2019-11-10T00:00:00\", \"2019-11-17T00:00:00\", \"2019-11-24T00:00:00\", \"2019-12-01T00:00:00\", \"2019-12-08T00:00:00\", \"2019-12-15T00:00:00\", \"2019-12-22T00:00:00\", \"2019-12-29T00:00:00\", \"2020-01-05T00:00:00\"], \"xaxis\": \"x2\", \"y\": [1.221, 1.221, 1.222, 1.222, 1.222, 1.222, 1.223, 1.223, 1.223, 1.223, 1.223], \"yaxis\": \"y2\"}, {\"fill\": \"tonexty\", \"line\": {\"color\": \"#9FA0F8\"}, \"mode\": \"lines\", \"name\": \"ci_lower J\", \"type\": \"scatter\", \"x\": [\"2019-10-27T00:00:00\", \"2019-11-03T00:00:00\", \"2019-11-10T00:00:00\", \"2019-11-17T00:00:00\", \"2019-11-24T00:00:00\", \"2019-12-01T00:00:00\", \"2019-12-08T00:00:00\", \"2019-12-15T00:00:00\", \"2019-12-22T00:00:00\", \"2019-12-29T00:00:00\", \"2020-01-05T00:00:00\"], \"xaxis\": \"x2\", \"y\": [1.218, 1.218, 1.218, 1.218, 1.217, 1.217, 1.217, 1.217, 1.217, 1.216, 1.216], \"yaxis\": \"y2\"}, {\"line\": {\"color\": \"#000000\"}, \"mode\": \"lines+markers\", \"name\": \"mean I\", \"type\": \"scatter\", \"x\": [\"2019-10-27T00:00:00\", \"2019-11-03T00:00:00\", \"2019-11-10T00:00:00\", \"2019-11-17T00:00:00\", \"2019-11-24T00:00:00\", \"2019-12-01T00:00:00\", \"2019-12-08T00:00:00\", \"2019-12-15T00:00:00\", \"2019-12-22T00:00:00\", \"2019-12-29T00:00:00\", \"2020-01-05T00:00:00\"], \"xaxis\": \"x3\", \"y\": [3.198, 3.198, 3.198, 3.197, 3.197, 3.197, 3.199, 3.2, 3.2, 3.202, 3.201], \"yaxis\": \"y3\"}, {\"line\": {\"color\": \"#ff25e2\"}, \"mode\": \"lines+markers\", \"name\": \"mean predict I\", \"type\": \"scatter\", \"x\": [\"2019-10-27T00:00:00\", \"2019-11-03T00:00:00\", \"2019-11-10T00:00:00\", \"2019-11-17T00:00:00\", \"2019-11-24T00:00:00\", \"2019-12-01T00:00:00\", \"2019-12-08T00:00:00\", \"2019-12-15T00:00:00\", \"2019-12-22T00:00:00\", \"2019-12-29T00:00:00\", \"2020-01-05T00:00:00\"], \"xaxis\": \"x3\", \"y\": [3.201, 3.201, 3.201, 3.201, 3.201, 3.201, 3.201, 3.202, 3.202, 3.202, 3.202], \"yaxis\": \"y3\"}, {\"line\": {\"color\": \"#FF5733\"}, \"mode\": \"lines\", \"name\": \"USL I\", \"type\": \"scatter\", \"x\": [\"2019-10-27T00:00:00\", \"2019-11-03T00:00:00\", \"2019-11-10T00:00:00\", \"2019-11-17T00:00:00\", \"2019-11-24T00:00:00\", \"2019-12-01T00:00:00\", \"2019-12-08T00:00:00\", \"2019-12-15T00:00:00\", \"2019-12-22T00:00:00\", \"2019-12-29T00:00:00\", \"2020-01-05T00:00:00\"], \"xaxis\": \"x3\", \"y\": [3.21, 3.21, 3.21, 3.21, 3.21, 3.21, 3.21, 3.21, 3.21, 3.21, 3.21], \"yaxis\": \"y3\"}, {\"line\": {\"color\": \"#FF5733\"}, \"mode\": \"lines\", \"name\": \"LSL I\", \"type\": \"scatter\", \"x\": [\"2019-10-27T00:00:00\", \"2019-11-03T00:00:00\", \"2019-11-10T00:00:00\", \"2019-11-17T00:00:00\", \"2019-11-24T00:00:00\", \"2019-12-01T00:00:00\", \"2019-12-08T00:00:00\", \"2019-12-15T00:00:00\", \"2019-12-22T00:00:00\", \"2019-12-29T00:00:00\", \"2020-01-05T00:00:00\"], \"xaxis\": \"x3\", \"y\": [3.19, 3.19, 3.19, 3.19, 3.19, 3.19, 3.19, 3.19, 3.19, 3.19, 3.19], \"yaxis\": \"y3\"}, {\"line\": {\"color\": \"#9FA0F8\"}, \"mode\": \"lines\", \"name\": \"ci_upper I\", \"type\": \"scatter\", \"x\": [\"2019-10-27T00:00:00\", \"2019-11-03T00:00:00\", \"2019-11-10T00:00:00\", \"2019-11-17T00:00:00\", \"2019-11-24T00:00:00\", \"2019-12-01T00:00:00\", \"2019-12-08T00:00:00\", \"2019-12-15T00:00:00\", \"2019-12-22T00:00:00\", \"2019-12-29T00:00:00\", \"2020-01-05T00:00:00\"], \"xaxis\": \"x3\", \"y\": [3.204, 3.204, 3.204, 3.205, 3.205, 3.205, 3.205, 3.205, 3.206, 3.206, 3.206], \"yaxis\": \"y3\"}, {\"fill\": \"tonexty\", \"line\": {\"color\": \"#9FA0F8\"}, \"mode\": \"lines\", \"name\": \"ci_lower I\", \"type\": \"scatter\", \"x\": [\"2019-10-27T00:00:00\", \"2019-11-03T00:00:00\", \"2019-11-10T00:00:00\", \"2019-11-17T00:00:00\", \"2019-11-24T00:00:00\", \"2019-12-01T00:00:00\", \"2019-12-08T00:00:00\", \"2019-12-15T00:00:00\", \"2019-12-22T00:00:00\", \"2019-12-29T00:00:00\", \"2020-01-05T00:00:00\"], \"xaxis\": \"x3\", \"y\": [3.198, 3.198, 3.198, 3.198, 3.198, 3.198, 3.198, 3.198, 3.198, 3.198, 3.198], \"yaxis\": \"y3\"}, {\"line\": {\"color\": \"#000000\"}, \"mode\": \"lines+markers\", \"name\": \"mean O\", \"type\": \"scatter\", \"x\": [\"2019-10-27T00:00:00\", \"2019-11-03T00:00:00\", \"2019-11-10T00:00:00\", \"2019-11-17T00:00:00\", \"2019-11-24T00:00:00\", \"2019-12-01T00:00:00\", \"2019-12-08T00:00:00\", \"2019-12-15T00:00:00\", \"2019-12-22T00:00:00\", \"2019-12-29T00:00:00\", \"2020-01-05T00:00:00\"], \"xaxis\": \"x4\", \"y\": [11.849, 11.849, 11.849, 11.851, 11.851, 11.851, 11.849, 11.852, 11.852, 11.849, 11.848], \"yaxis\": \"y4\"}, {\"line\": {\"color\": \"#ff25e2\"}, \"mode\": \"lines+markers\", \"name\": \"mean predict O\", \"type\": \"scatter\", \"x\": [\"2019-10-27T00:00:00\", \"2019-11-03T00:00:00\", \"2019-11-10T00:00:00\", \"2019-11-17T00:00:00\", \"2019-11-24T00:00:00\", \"2019-12-01T00:00:00\", \"2019-12-08T00:00:00\", \"2019-12-15T00:00:00\", \"2019-12-22T00:00:00\", \"2019-12-29T00:00:00\", \"2020-01-05T00:00:00\"], \"xaxis\": \"x4\", \"y\": [11.849, 11.849, 11.849, 11.849, 11.849, 11.849, 11.849, 11.849, 11.848, 11.848, 11.848], \"yaxis\": \"y4\"}, {\"line\": {\"color\": \"#FF5733\"}, \"mode\": \"lines\", \"name\": \"USL O\", \"type\": \"scatter\", \"x\": [\"2019-10-27T00:00:00\", \"2019-11-03T00:00:00\", \"2019-11-10T00:00:00\", \"2019-11-17T00:00:00\", \"2019-11-24T00:00:00\", \"2019-12-01T00:00:00\", \"2019-12-08T00:00:00\", \"2019-12-15T00:00:00\", \"2019-12-22T00:00:00\", \"2019-12-29T00:00:00\", \"2020-01-05T00:00:00\"], \"xaxis\": \"x4\", \"y\": [11.86, 11.86, 11.86, 11.86, 11.86, 11.86, 11.86, 11.86, 11.86, 11.86, 11.86], \"yaxis\": \"y4\"}, {\"line\": {\"color\": \"#FF5733\"}, \"mode\": \"lines\", \"name\": \"LSL O\", \"type\": \"scatter\", \"x\": [\"2019-10-27T00:00:00\", \"2019-11-03T00:00:00\", \"2019-11-10T00:00:00\", \"2019-11-17T00:00:00\", \"2019-11-24T00:00:00\", \"2019-12-01T00:00:00\", \"2019-12-08T00:00:00\", \"2019-12-15T00:00:00\", \"2019-12-22T00:00:00\", \"2019-12-29T00:00:00\", \"2020-01-05T00:00:00\"], \"xaxis\": \"x4\", \"y\": [11.84, 11.84, 11.84, 11.84, 11.84, 11.84, 11.84, 11.84, 11.84, 11.84, 11.84], \"yaxis\": \"y4\"}, {\"line\": {\"color\": \"#9FA0F8\"}, \"mode\": \"lines\", \"name\": \"ci_upper O\", \"type\": \"scatter\", \"x\": [\"2019-10-27T00:00:00\", \"2019-11-03T00:00:00\", \"2019-11-10T00:00:00\", \"2019-11-17T00:00:00\", \"2019-11-24T00:00:00\", \"2019-12-01T00:00:00\", \"2019-12-08T00:00:00\", \"2019-12-15T00:00:00\", \"2019-12-22T00:00:00\", \"2019-12-29T00:00:00\", \"2020-01-05T00:00:00\"], \"xaxis\": \"x4\", \"y\": [11.854, 11.855, 11.856, 11.858, 11.858, 11.859, 11.86, 11.861, 11.861, 11.862, 11.862], \"yaxis\": \"y4\"}, {\"fill\": \"tonexty\", \"line\": {\"color\": \"#9FA0F8\"}, \"mode\": \"lines\", \"name\": \"ci_lower O\", \"type\": \"scatter\", \"x\": [\"2019-10-27T00:00:00\", \"2019-11-03T00:00:00\", \"2019-11-10T00:00:00\", \"2019-11-17T00:00:00\", \"2019-11-24T00:00:00\", \"2019-12-01T00:00:00\", \"2019-12-08T00:00:00\", \"2019-12-15T00:00:00\", \"2019-12-22T00:00:00\", \"2019-12-29T00:00:00\", \"2020-01-05T00:00:00\"], \"xaxis\": \"x4\", \"y\": [11.845, 11.843, 11.842, 11.84, 11.839, 11.838, 11.837, 11.836, 11.836, 11.835, 11.834], \"yaxis\": \"y4\"}, {\"line\": {\"color\": \"#000000\"}, \"mode\": \"lines+markers\", \"name\": \"mean Z\", \"type\": \"scatter\", \"x\": [\"2019-10-27T00:00:00\", \"2019-11-03T00:00:00\", \"2019-11-10T00:00:00\", \"2019-11-17T00:00:00\", \"2019-11-24T00:00:00\", \"2019-12-01T00:00:00\", \"2019-12-08T00:00:00\", \"2019-12-15T00:00:00\", \"2019-12-22T00:00:00\", \"2019-12-29T00:00:00\", \"2020-01-05T00:00:00\"], \"xaxis\": \"x5\", \"y\": [0.313, 0.313, 0.313, 0.315, 0.315, 0.315, 0.308, 0.311, 0.311, 0.312, 0.313], \"yaxis\": \"y5\"}, {\"line\": {\"color\": \"#ff25e2\"}, \"mode\": \"lines+markers\", \"name\": \"mean predict Z\", \"type\": \"scatter\", \"x\": [\"2019-10-27T00:00:00\", \"2019-11-03T00:00:00\", \"2019-11-10T00:00:00\", \"2019-11-17T00:00:00\", \"2019-11-24T00:00:00\", \"2019-12-01T00:00:00\", \"2019-12-08T00:00:00\", \"2019-12-15T00:00:00\", \"2019-12-22T00:00:00\", \"2019-12-29T00:00:00\", \"2020-01-05T00:00:00\"], \"xaxis\": \"x5\", \"y\": [0.313, 0.313, 0.313, 0.313, 0.313, 0.313, 0.313, 0.313, 0.313, 0.313, 0.314], \"yaxis\": \"y5\"}, {\"line\": {\"color\": \"#FF5733\"}, \"mode\": \"lines\", \"name\": \"USL Z\", \"type\": \"scatter\", \"x\": [\"2019-10-27T00:00:00\", \"2019-11-03T00:00:00\", \"2019-11-10T00:00:00\", \"2019-11-17T00:00:00\", \"2019-11-24T00:00:00\", \"2019-12-01T00:00:00\", \"2019-12-08T00:00:00\", \"2019-12-15T00:00:00\", \"2019-12-22T00:00:00\", \"2019-12-29T00:00:00\", \"2020-01-05T00:00:00\"], \"xaxis\": \"x5\", \"y\": [0.32, 0.32, 0.32, 0.32, 0.32, 0.32, 0.32, 0.32, 0.32, 0.32, 0.32], \"yaxis\": \"y5\"}, {\"line\": {\"color\": \"#FF5733\"}, \"mode\": \"lines\", \"name\": \"LSL Z\", \"type\": \"scatter\", \"x\": [\"2019-10-27T00:00:00\", \"2019-11-03T00:00:00\", \"2019-11-10T00:00:00\", \"2019-11-17T00:00:00\", \"2019-11-24T00:00:00\", \"2019-12-01T00:00:00\", \"2019-12-08T00:00:00\", \"2019-12-15T00:00:00\", \"2019-12-22T00:00:00\", \"2019-12-29T00:00:00\", \"2020-01-05T00:00:00\"], \"xaxis\": \"x5\", \"y\": [0.28, 0.28, 0.28, 0.28, 0.28, 0.28, 0.28, 0.28, 0.28, 0.28, 0.28], \"yaxis\": \"y5\"}, {\"line\": {\"color\": \"#9FA0F8\"}, \"mode\": \"lines\", \"name\": \"ci_upper Z\", \"type\": \"scatter\", \"x\": [\"2019-10-27T00:00:00\", \"2019-11-03T00:00:00\", \"2019-11-10T00:00:00\", \"2019-11-17T00:00:00\", \"2019-11-24T00:00:00\", \"2019-12-01T00:00:00\", \"2019-12-08T00:00:00\", \"2019-12-15T00:00:00\", \"2019-12-22T00:00:00\", \"2019-12-29T00:00:00\", \"2020-01-05T00:00:00\"], \"xaxis\": \"x5\", \"y\": [0.315, 0.316, 0.317, 0.318, 0.318, 0.319, 0.32, 0.32, 0.321, 0.321, 0.321], \"yaxis\": \"y5\"}, {\"fill\": \"tonexty\", \"line\": {\"color\": \"#9FA0F8\"}, \"mode\": \"lines\", \"name\": \"ci_lower Z\", \"type\": \"scatter\", \"x\": [\"2019-10-27T00:00:00\", \"2019-11-03T00:00:00\", \"2019-11-10T00:00:00\", \"2019-11-17T00:00:00\", \"2019-11-24T00:00:00\", \"2019-12-01T00:00:00\", \"2019-12-08T00:00:00\", \"2019-12-15T00:00:00\", \"2019-12-22T00:00:00\", \"2019-12-29T00:00:00\", \"2020-01-05T00:00:00\"], \"xaxis\": \"x5\", \"y\": [0.311, 0.31, 0.309, 0.308, 0.308, 0.307, 0.307, 0.307, 0.306, 0.306, 0.306], \"yaxis\": \"y5\"}],\n",
              "                        {\"annotations\": [{\"font\": {\"size\": 16}, \"showarrow\": false, \"text\": \"C-Pitch\", \"x\": 0.5, \"xanchor\": \"center\", \"xref\": \"paper\", \"y\": 1.0, \"yanchor\": \"bottom\", \"yref\": \"paper\"}, {\"font\": {\"size\": 16}, \"showarrow\": false, \"text\": \"J\", \"x\": 0.5, \"xanchor\": \"center\", \"xref\": \"paper\", \"y\": 0.78, \"yanchor\": \"bottom\", \"yref\": \"paper\"}, {\"font\": {\"size\": 16}, \"showarrow\": false, \"text\": \"I\", \"x\": 0.5, \"xanchor\": \"center\", \"xref\": \"paper\", \"y\": 0.56, \"yanchor\": \"bottom\", \"yref\": \"paper\"}, {\"font\": {\"size\": 16}, \"showarrow\": false, \"text\": \"O\", \"x\": 0.5, \"xanchor\": \"center\", \"xref\": \"paper\", \"y\": 0.33999999999999997, \"yanchor\": \"bottom\", \"yref\": \"paper\"}, {\"font\": {\"size\": 16}, \"showarrow\": false, \"text\": \"Z\", \"x\": 0.5, \"xanchor\": \"center\", \"xref\": \"paper\", \"y\": 0.12, \"yanchor\": \"bottom\", \"yref\": \"paper\"}], \"height\": 1500, \"template\": {\"data\": {\"bar\": [{\"error_x\": {\"color\": \"#2a3f5f\"}, \"error_y\": {\"color\": \"#2a3f5f\"}, \"marker\": {\"line\": {\"color\": \"#E5ECF6\", \"width\": 0.5}}, \"type\": \"bar\"}], \"barpolar\": [{\"marker\": {\"line\": {\"color\": \"#E5ECF6\", \"width\": 0.5}}, \"type\": \"barpolar\"}], \"carpet\": [{\"aaxis\": {\"endlinecolor\": \"#2a3f5f\", \"gridcolor\": \"white\", \"linecolor\": \"white\", \"minorgridcolor\": \"white\", \"startlinecolor\": \"#2a3f5f\"}, \"baxis\": {\"endlinecolor\": \"#2a3f5f\", \"gridcolor\": \"white\", \"linecolor\": \"white\", \"minorgridcolor\": \"white\", \"startlinecolor\": \"#2a3f5f\"}, \"type\": \"carpet\"}], \"choropleth\": [{\"colorbar\": {\"outlinewidth\": 0, \"ticks\": \"\"}, \"type\": \"choropleth\"}], \"contour\": [{\"colorbar\": {\"outlinewidth\": 0, \"ticks\": \"\"}, \"colorscale\": [[0.0, \"#0d0887\"], [0.1111111111111111, \"#46039f\"], [0.2222222222222222, \"#7201a8\"], [0.3333333333333333, \"#9c179e\"], [0.4444444444444444, \"#bd3786\"], [0.5555555555555556, \"#d8576b\"], [0.6666666666666666, \"#ed7953\"], [0.7777777777777778, \"#fb9f3a\"], [0.8888888888888888, \"#fdca26\"], [1.0, \"#f0f921\"]], \"type\": \"contour\"}], \"contourcarpet\": [{\"colorbar\": {\"outlinewidth\": 0, \"ticks\": \"\"}, \"type\": \"contourcarpet\"}], \"heatmap\": [{\"colorbar\": {\"outlinewidth\": 0, \"ticks\": \"\"}, \"colorscale\": [[0.0, \"#0d0887\"], [0.1111111111111111, \"#46039f\"], [0.2222222222222222, \"#7201a8\"], [0.3333333333333333, \"#9c179e\"], [0.4444444444444444, \"#bd3786\"], [0.5555555555555556, \"#d8576b\"], [0.6666666666666666, \"#ed7953\"], [0.7777777777777778, \"#fb9f3a\"], [0.8888888888888888, \"#fdca26\"], [1.0, \"#f0f921\"]], \"type\": \"heatmap\"}], \"heatmapgl\": [{\"colorbar\": {\"outlinewidth\": 0, \"ticks\": \"\"}, \"colorscale\": [[0.0, \"#0d0887\"], [0.1111111111111111, \"#46039f\"], [0.2222222222222222, \"#7201a8\"], [0.3333333333333333, \"#9c179e\"], [0.4444444444444444, \"#bd3786\"], [0.5555555555555556, \"#d8576b\"], [0.6666666666666666, \"#ed7953\"], [0.7777777777777778, \"#fb9f3a\"], [0.8888888888888888, \"#fdca26\"], [1.0, \"#f0f921\"]], \"type\": \"heatmapgl\"}], \"histogram\": [{\"marker\": {\"colorbar\": {\"outlinewidth\": 0, \"ticks\": \"\"}}, \"type\": \"histogram\"}], \"histogram2d\": [{\"colorbar\": {\"outlinewidth\": 0, \"ticks\": \"\"}, \"colorscale\": [[0.0, \"#0d0887\"], [0.1111111111111111, \"#46039f\"], [0.2222222222222222, \"#7201a8\"], [0.3333333333333333, \"#9c179e\"], [0.4444444444444444, \"#bd3786\"], [0.5555555555555556, \"#d8576b\"], [0.6666666666666666, \"#ed7953\"], [0.7777777777777778, \"#fb9f3a\"], [0.8888888888888888, \"#fdca26\"], [1.0, \"#f0f921\"]], \"type\": \"histogram2d\"}], \"histogram2dcontour\": [{\"colorbar\": {\"outlinewidth\": 0, \"ticks\": \"\"}, \"colorscale\": [[0.0, \"#0d0887\"], [0.1111111111111111, \"#46039f\"], [0.2222222222222222, \"#7201a8\"], [0.3333333333333333, \"#9c179e\"], [0.4444444444444444, \"#bd3786\"], [0.5555555555555556, \"#d8576b\"], [0.6666666666666666, \"#ed7953\"], [0.7777777777777778, \"#fb9f3a\"], [0.8888888888888888, \"#fdca26\"], [1.0, \"#f0f921\"]], \"type\": \"histogram2dcontour\"}], \"mesh3d\": [{\"colorbar\": {\"outlinewidth\": 0, \"ticks\": \"\"}, \"type\": \"mesh3d\"}], \"parcoords\": [{\"line\": {\"colorbar\": {\"outlinewidth\": 0, \"ticks\": \"\"}}, \"type\": \"parcoords\"}], \"pie\": [{\"automargin\": true, \"type\": \"pie\"}], \"scatter\": [{\"marker\": {\"colorbar\": {\"outlinewidth\": 0, \"ticks\": \"\"}}, \"type\": \"scatter\"}], \"scatter3d\": [{\"line\": {\"colorbar\": {\"outlinewidth\": 0, \"ticks\": \"\"}}, \"marker\": {\"colorbar\": {\"outlinewidth\": 0, \"ticks\": \"\"}}, \"type\": \"scatter3d\"}], \"scattercarpet\": [{\"marker\": {\"colorbar\": {\"outlinewidth\": 0, \"ticks\": \"\"}}, \"type\": \"scattercarpet\"}], \"scattergeo\": [{\"marker\": {\"colorbar\": {\"outlinewidth\": 0, \"ticks\": \"\"}}, \"type\": \"scattergeo\"}], \"scattergl\": [{\"marker\": {\"colorbar\": {\"outlinewidth\": 0, \"ticks\": \"\"}}, \"type\": \"scattergl\"}], \"scattermapbox\": [{\"marker\": {\"colorbar\": {\"outlinewidth\": 0, \"ticks\": \"\"}}, \"type\": \"scattermapbox\"}], \"scatterpolar\": [{\"marker\": {\"colorbar\": {\"outlinewidth\": 0, \"ticks\": \"\"}}, \"type\": \"scatterpolar\"}], \"scatterpolargl\": [{\"marker\": {\"colorbar\": {\"outlinewidth\": 0, \"ticks\": \"\"}}, \"type\": \"scatterpolargl\"}], \"scatterternary\": [{\"marker\": {\"colorbar\": {\"outlinewidth\": 0, \"ticks\": \"\"}}, \"type\": \"scatterternary\"}], \"surface\": [{\"colorbar\": {\"outlinewidth\": 0, \"ticks\": \"\"}, \"colorscale\": [[0.0, \"#0d0887\"], [0.1111111111111111, \"#46039f\"], [0.2222222222222222, \"#7201a8\"], [0.3333333333333333, \"#9c179e\"], [0.4444444444444444, \"#bd3786\"], [0.5555555555555556, \"#d8576b\"], [0.6666666666666666, \"#ed7953\"], [0.7777777777777778, \"#fb9f3a\"], [0.8888888888888888, \"#fdca26\"], [1.0, \"#f0f921\"]], \"type\": \"surface\"}], \"table\": [{\"cells\": {\"fill\": {\"color\": \"#EBF0F8\"}, \"line\": {\"color\": \"white\"}}, \"header\": {\"fill\": {\"color\": \"#C8D4E3\"}, \"line\": {\"color\": \"white\"}}, \"type\": \"table\"}]}, \"layout\": {\"annotationdefaults\": {\"arrowcolor\": \"#2a3f5f\", \"arrowhead\": 0, \"arrowwidth\": 1}, \"coloraxis\": {\"colorbar\": {\"outlinewidth\": 0, \"ticks\": \"\"}}, \"colorscale\": {\"diverging\": [[0, \"#8e0152\"], [0.1, \"#c51b7d\"], [0.2, \"#de77ae\"], [0.3, \"#f1b6da\"], [0.4, \"#fde0ef\"], [0.5, \"#f7f7f7\"], [0.6, \"#e6f5d0\"], [0.7, \"#b8e186\"], [0.8, \"#7fbc41\"], [0.9, \"#4d9221\"], [1, \"#276419\"]], \"sequential\": [[0.0, \"#0d0887\"], [0.1111111111111111, \"#46039f\"], [0.2222222222222222, \"#7201a8\"], [0.3333333333333333, \"#9c179e\"], [0.4444444444444444, \"#bd3786\"], [0.5555555555555556, \"#d8576b\"], [0.6666666666666666, \"#ed7953\"], [0.7777777777777778, \"#fb9f3a\"], [0.8888888888888888, \"#fdca26\"], [1.0, \"#f0f921\"]], \"sequentialminus\": [[0.0, \"#0d0887\"], [0.1111111111111111, \"#46039f\"], [0.2222222222222222, \"#7201a8\"], [0.3333333333333333, \"#9c179e\"], [0.4444444444444444, \"#bd3786\"], [0.5555555555555556, \"#d8576b\"], [0.6666666666666666, \"#ed7953\"], [0.7777777777777778, \"#fb9f3a\"], [0.8888888888888888, \"#fdca26\"], [1.0, \"#f0f921\"]]}, \"colorway\": [\"#636efa\", \"#EF553B\", \"#00cc96\", \"#ab63fa\", \"#FFA15A\", \"#19d3f3\", \"#FF6692\", \"#B6E880\", \"#FF97FF\", \"#FECB52\"], \"font\": {\"color\": \"#2a3f5f\"}, \"geo\": {\"bgcolor\": \"white\", \"lakecolor\": \"white\", \"landcolor\": \"#E5ECF6\", \"showlakes\": true, \"showland\": true, \"subunitcolor\": \"white\"}, \"hoverlabel\": {\"align\": \"left\"}, \"hovermode\": \"closest\", \"mapbox\": {\"style\": \"light\"}, \"paper_bgcolor\": \"white\", \"plot_bgcolor\": \"#E5ECF6\", \"polar\": {\"angularaxis\": {\"gridcolor\": \"white\", \"linecolor\": \"white\", \"ticks\": \"\"}, \"bgcolor\": \"#E5ECF6\", \"radialaxis\": {\"gridcolor\": \"white\", \"linecolor\": \"white\", \"ticks\": \"\"}}, \"scene\": {\"xaxis\": {\"backgroundcolor\": \"#E5ECF6\", \"gridcolor\": \"white\", \"gridwidth\": 2, \"linecolor\": \"white\", \"showbackground\": true, \"ticks\": \"\", \"zerolinecolor\": \"white\"}, \"yaxis\": {\"backgroundcolor\": \"#E5ECF6\", \"gridcolor\": \"white\", \"gridwidth\": 2, \"linecolor\": \"white\", \"showbackground\": true, \"ticks\": \"\", \"zerolinecolor\": \"white\"}, \"zaxis\": {\"backgroundcolor\": \"#E5ECF6\", \"gridcolor\": \"white\", \"gridwidth\": 2, \"linecolor\": \"white\", \"showbackground\": true, \"ticks\": \"\", \"zerolinecolor\": \"white\"}}, \"shapedefaults\": {\"line\": {\"color\": \"#2a3f5f\"}}, \"ternary\": {\"aaxis\": {\"gridcolor\": \"white\", \"linecolor\": \"white\", \"ticks\": \"\"}, \"baxis\": {\"gridcolor\": \"white\", \"linecolor\": \"white\", \"ticks\": \"\"}, \"bgcolor\": \"#E5ECF6\", \"caxis\": {\"gridcolor\": \"white\", \"linecolor\": \"white\", \"ticks\": \"\"}}, \"title\": {\"x\": 0.05}, \"xaxis\": {\"automargin\": true, \"gridcolor\": \"white\", \"linecolor\": \"white\", \"ticks\": \"\", \"title\": {\"standoff\": 15}, \"zerolinecolor\": \"white\", \"zerolinewidth\": 2}, \"yaxis\": {\"automargin\": true, \"gridcolor\": \"white\", \"linecolor\": \"white\", \"ticks\": \"\", \"title\": {\"standoff\": 15}, \"zerolinecolor\": \"white\", \"zerolinewidth\": 2}}}, \"title\": {\"text\": \"Line chart\"}, \"width\": 1200, \"xaxis\": {\"anchor\": \"y\", \"domain\": [0.0, 1.0]}, \"xaxis2\": {\"anchor\": \"y2\", \"domain\": [0.0, 1.0]}, \"xaxis3\": {\"anchor\": \"y3\", \"domain\": [0.0, 1.0]}, \"xaxis4\": {\"anchor\": \"y4\", \"domain\": [0.0, 1.0]}, \"xaxis5\": {\"anchor\": \"y5\", \"domain\": [0.0, 1.0]}, \"yaxis\": {\"anchor\": \"x\", \"domain\": [0.88, 1.0]}, \"yaxis2\": {\"anchor\": \"x2\", \"domain\": [0.66, 0.78]}, \"yaxis3\": {\"anchor\": \"x3\", \"domain\": [0.44, 0.56]}, \"yaxis4\": {\"anchor\": \"x4\", \"domain\": [0.22, 0.33999999999999997]}, \"yaxis5\": {\"anchor\": \"x5\", \"domain\": [0.0, 0.12]}},\n",
              "                        {\"responsive\": true}\n",
              "                    ).then(function(){\n",
              "                            \n",
              "var gd = document.getElementById('7b2e8295-a571-4229-a69b-8da20e6c6d29');\n",
              "var x = new MutationObserver(function (mutations, observer) {{\n",
              "        var display = window.getComputedStyle(gd).display;\n",
              "        if (!display || display === 'none') {{\n",
              "            console.log([gd, 'removed!']);\n",
              "            Plotly.purge(gd);\n",
              "            observer.disconnect();\n",
              "        }}\n",
              "}});\n",
              "\n",
              "// Listen for the removal of the full notebook cells\n",
              "var notebookContainer = gd.closest('#notebook-container');\n",
              "if (notebookContainer) {{\n",
              "    x.observe(notebookContainer, {childList: true});\n",
              "}}\n",
              "\n",
              "// Listen for the clearing of the current output cell\n",
              "var outputEl = gd.closest('.output');\n",
              "if (outputEl) {{\n",
              "    x.observe(outputEl, {childList: true});\n",
              "}}\n",
              "\n",
              "                        })\n",
              "                };\n",
              "                \n",
              "            </script>\n",
              "        </div>\n",
              "</body>\n",
              "</html>"
            ]
          },
          "metadata": {
            "tags": []
          }
        }
      ]
    },
    {
      "cell_type": "markdown",
      "metadata": {
        "id": "DGAiSzVvX3js",
        "colab_type": "text"
      },
      "source": [
        "## LSTM predict"
      ]
    },
    {
      "cell_type": "code",
      "metadata": {
        "id": "SDpPP4HdY1sP",
        "colab_type": "code",
        "colab": {}
      },
      "source": [
        "# univariate mlp example\n",
        "import warnings\n",
        "from numpy import array\n",
        "import matplotlib.pyplot as plt\n",
        "from keras import optimizers\n",
        "from keras.utils import plot_model\n",
        "from keras.models import Sequential, Model\n",
        "from keras.layers.convolutional import Conv1D, MaxPooling1D\n",
        "from keras.layers import Dense, LSTM, RepeatVector, TimeDistributed, Flatten\n",
        "from keras.layers import RepeatVector,TimeDistributed # For LSTM\n",
        "from keras.optimizers import Adam\n",
        "from keras import regularizers\n",
        "from keras.callbacks import EarlyStopping, ModelCheckpoint\n",
        "from keras.wrappers.scikit_learn import KerasClassifier\n",
        "from keras.regularizers import l1\n",
        "from keras.regularizers import l2\n",
        "from keras.regularizers import l1_l2\n",
        "from keras.layers import Dropout\n",
        "from keras.layers import Activation\n",
        "from keras.layers import Dense\n",
        "from keras.metrics import categorical_crossentropy\n",
        "\n",
        "from sklearn.metrics import mean_squared_error,mean_absolute_error\n",
        "from sklearn.model_selection import train_test_split\n",
        "from sklearn.preprocessing import MinMaxScaler,StandardScaler"
      ],
      "execution_count": 89,
      "outputs": []
    },
    {
      "cell_type": "markdown",
      "metadata": {
        "colab_type": "text",
        "id": "gpv11e8V1Zqh"
      },
      "source": [
        "### Many to many (split train/test)"
      ]
    },
    {
      "cell_type": "code",
      "metadata": {
        "id": "KCzxckWtgouN",
        "colab_type": "code",
        "colab": {}
      },
      "source": [
        "# Some functions to help out with\n",
        "def plot_predictions(test,predicted):\n",
        "    plt.plot(test, color='red',label='Real IBM Stock Price')\n",
        "    plt.plot(predicted, color='blue',label='Predicted IBM Stock Price')\n",
        "    plt.title('IBM Stock Price Prediction')\n",
        "    plt.xlabel('Time')\n",
        "    plt.ylabel('IBM Stock Price')\n",
        "    plt.legend()\n",
        "    plt.show()"
      ],
      "execution_count": 90,
      "outputs": []
    },
    {
      "cell_type": "code",
      "metadata": {
        "id": "POo8HZ7PJlRJ",
        "colab_type": "code",
        "colab": {}
      },
      "source": [
        "# split a univariate sequence into samples\n",
        "def split_sequence(sequence, n_steps_in, n_steps_out):\n",
        "\tX, y = list(), list()\n",
        "\tfor i in range(len(sequence)):\n",
        "\t\t# find the end of this pattern\n",
        "\t\tend_ix = i + n_steps_in\n",
        "\t\tout_end_ix = end_ix + n_steps_out\n",
        "\t\t# check if we are beyond the sequence\n",
        "\t\tif out_end_ix > len(sequence):\n",
        "\t\t\tbreak\n",
        "\t\t# gather input and output parts of the pattern\n",
        "\t\tseq_x, seq_y = sequence[i:end_ix], sequence[end_ix:out_end_ix]\n",
        "\t\tX.append(seq_x)\n",
        "\t\ty.append(seq_y)\n",
        "\treturn array(X), array(y)"
      ],
      "execution_count": 91,
      "outputs": []
    },
    {
      "cell_type": "code",
      "metadata": {
        "id": "DAs-pRq8_xpE",
        "colab_type": "code",
        "colab": {}
      },
      "source": [
        "for name in DFdict_final.keys(): #also group\n",
        "  print(name)\n",
        "  df_temp_2=DFdict_final[name].copy() # gia tri mean thong thuong\n",
        "  df_temp_2=df_temp_2.set_index(df_temp_2.columns[0]).copy()\n",
        "  df_temp_2=df_temp_2.resample('1W').ffill() # gia tri mean da resample\n",
        "  df_original=df_temp_2.reset_index()#\n",
        "  df=df_original[[df_original.columns[0],df_original.columns[1]]].\\\n",
        "                              set_index(df_original.columns[0])\n",
        "  # Define important value\n",
        "  split=int(len(df) * 0.80)\n",
        "  # choose a number of time steps\n",
        "  n_steps_in  = 5\n",
        "  n_steps_out = 3\n",
        "  split=int(len(df) * 0.80)\n",
        "  training_set=df[:split]\n",
        "  test_set=df[split:]\n",
        "  predict_future=len(test_set)\n",
        "  #prepare training set\n",
        "  X_train, y_train = split_sequence(training_set, n_steps_in, n_steps_out)\n",
        "  n_features = 1\n",
        "  X_train = X_train.reshape((X_train.shape[0], X_train.shape[1], n_features))\n",
        "  print(X_train.shape)\n",
        "  print(y_train.shape)\n",
        "  #prepare test set\n",
        "  inputs=df[df.columns[0]][len(df)-len(test_set) - n_steps_in:]\n",
        "  X_test, y_test = split_sequence(inputs, n_steps_in, n_steps_out)\n",
        "  print(X_test.shape)\n",
        "  print(y_test.shape)\n",
        "\n",
        "\n"
      ],
      "execution_count": null,
      "outputs": []
    },
    {
      "cell_type": "code",
      "metadata": {
        "id": "x64Qq8jGGXwO",
        "colab_type": "code",
        "colab": {}
      },
      "source": [
        ""
      ],
      "execution_count": null,
      "outputs": []
    },
    {
      "cell_type": "code",
      "metadata": {
        "id": "uWQln9MZGXtz",
        "colab_type": "code",
        "colab": {}
      },
      "source": [
        ""
      ],
      "execution_count": null,
      "outputs": []
    },
    {
      "cell_type": "code",
      "metadata": {
        "id": "TwEU0hibi90a",
        "colab_type": "code",
        "colab": {
          "base_uri": "https://localhost:8080/",
          "height": 204
        },
        "outputId": "52e3275f-8b7f-4942-892c-bb8530fe4973"
      },
      "source": [
        "df_original.head()"
      ],
      "execution_count": 95,
      "outputs": [
        {
          "output_type": "execute_result",
          "data": {
            "text/html": [
              "<div>\n",
              "<style scoped>\n",
              "    .dataframe tbody tr th:only-of-type {\n",
              "        vertical-align: middle;\n",
              "    }\n",
              "\n",
              "    .dataframe tbody tr th {\n",
              "        vertical-align: top;\n",
              "    }\n",
              "\n",
              "    .dataframe thead th {\n",
              "        text-align: right;\n",
              "    }\n",
              "</style>\n",
              "<table border=\"1\" class=\"dataframe\">\n",
              "  <thead>\n",
              "    <tr style=\"text-align: right;\">\n",
              "      <th></th>\n",
              "      <th>Datef</th>\n",
              "      <th>C-Pitch</th>\n",
              "      <th>USL</th>\n",
              "      <th>LSL</th>\n",
              "      <th>Nominal</th>\n",
              "      <th>UCL</th>\n",
              "      <th>LCL</th>\n",
              "      <th>mean</th>\n",
              "    </tr>\n",
              "  </thead>\n",
              "  <tbody>\n",
              "    <tr>\n",
              "      <th>0</th>\n",
              "      <td>2019-01-13</td>\n",
              "      <td>10.004</td>\n",
              "      <td>10.01</td>\n",
              "      <td>9.99</td>\n",
              "      <td>10.0</td>\n",
              "      <td>10.006001</td>\n",
              "      <td>9.997142</td>\n",
              "      <td>10.001571</td>\n",
              "    </tr>\n",
              "    <tr>\n",
              "      <th>1</th>\n",
              "      <td>2019-01-20</td>\n",
              "      <td>10.004</td>\n",
              "      <td>10.01</td>\n",
              "      <td>9.99</td>\n",
              "      <td>10.0</td>\n",
              "      <td>10.006001</td>\n",
              "      <td>9.997142</td>\n",
              "      <td>10.001571</td>\n",
              "    </tr>\n",
              "    <tr>\n",
              "      <th>2</th>\n",
              "      <td>2019-01-27</td>\n",
              "      <td>10.002</td>\n",
              "      <td>10.01</td>\n",
              "      <td>9.99</td>\n",
              "      <td>10.0</td>\n",
              "      <td>10.006001</td>\n",
              "      <td>9.997142</td>\n",
              "      <td>10.001571</td>\n",
              "    </tr>\n",
              "    <tr>\n",
              "      <th>3</th>\n",
              "      <td>2019-02-03</td>\n",
              "      <td>10.003</td>\n",
              "      <td>10.01</td>\n",
              "      <td>9.99</td>\n",
              "      <td>10.0</td>\n",
              "      <td>10.006001</td>\n",
              "      <td>9.997142</td>\n",
              "      <td>10.001571</td>\n",
              "    </tr>\n",
              "    <tr>\n",
              "      <th>4</th>\n",
              "      <td>2019-02-10</td>\n",
              "      <td>10.003</td>\n",
              "      <td>10.01</td>\n",
              "      <td>9.99</td>\n",
              "      <td>10.0</td>\n",
              "      <td>10.006001</td>\n",
              "      <td>9.997142</td>\n",
              "      <td>10.001571</td>\n",
              "    </tr>\n",
              "  </tbody>\n",
              "</table>\n",
              "</div>"
            ],
            "text/plain": [
              "       Datef  C-Pitch    USL   LSL  Nominal        UCL       LCL       mean\n",
              "0 2019-01-13   10.004  10.01  9.99     10.0  10.006001  9.997142  10.001571\n",
              "1 2019-01-20   10.004  10.01  9.99     10.0  10.006001  9.997142  10.001571\n",
              "2 2019-01-27   10.002  10.01  9.99     10.0  10.006001  9.997142  10.001571\n",
              "3 2019-02-03   10.003  10.01  9.99     10.0  10.006001  9.997142  10.001571\n",
              "4 2019-02-10   10.003  10.01  9.99     10.0  10.006001  9.997142  10.001571"
            ]
          },
          "metadata": {
            "tags": []
          },
          "execution_count": 95
        }
      ]
    },
    {
      "cell_type": "code",
      "metadata": {
        "id": "PwzZWgCK-x57",
        "colab_type": "code",
        "colab": {}
      },
      "source": [
        "# Define important value\n",
        "split=int(len(df) * 0.80)\n",
        "column=0\n",
        "# choose a number of time steps\n",
        "n_steps_in  = 5\n",
        "n_steps_out = 1"
      ],
      "execution_count": 96,
      "outputs": []
    },
    {
      "cell_type": "code",
      "metadata": {
        "id": "mQgklHWaCIRK",
        "colab_type": "code",
        "colab": {
          "base_uri": "https://localhost:8080/",
          "height": 51
        },
        "outputId": "4e23505c-264f-426d-eb49-616d10815627"
      },
      "source": [
        "training_set=df[:split][df.columns[0]] \n",
        "test_set=df[split:][df.columns[0]] \n",
        "y_test=test_set # y test\n",
        "print(training_set.shape)\n",
        "print(test_set.shape)"
      ],
      "execution_count": 97,
      "outputs": [
        {
          "output_type": "stream",
          "text": [
            "(41,)\n",
            "(11,)\n"
          ],
          "name": "stdout"
        }
      ]
    },
    {
      "cell_type": "markdown",
      "metadata": {
        "id": "U80hk5q7D1Hm",
        "colab_type": "text"
      },
      "source": [
        "Prepare training set"
      ]
    },
    {
      "cell_type": "code",
      "metadata": {
        "colab_type": "code",
        "id": "jSbts0uk1Zqr",
        "colab": {}
      },
      "source": [
        "sequence=training_set\n",
        "# split into samples\n",
        "X_train, y_train = split_sequence(sequence, n_steps_in, n_steps_out)\n",
        "# summarize the data\n",
        "#for i in range(len(X_train)):\n",
        "\t#print(X_train[i], y_train[i])"
      ],
      "execution_count": 98,
      "outputs": []
    },
    {
      "cell_type": "code",
      "metadata": {
        "colab_type": "code",
        "id": "1MvpDEmA1Zqv",
        "colab": {
          "base_uri": "https://localhost:8080/",
          "height": 51
        },
        "outputId": "7c06a0cc-e0f8-48a1-9d30-b6bddb1101db"
      },
      "source": [
        "# reshape from [samples, timesteps] into [samples, timesteps, features]\n",
        "n_features = 1\n",
        "X_train = X_train.reshape((X_train.shape[0], X_train.shape[1], n_features))\n",
        "print(X_train.shape)\n",
        "print(y_train.shape)"
      ],
      "execution_count": 99,
      "outputs": [
        {
          "output_type": "stream",
          "text": [
            "(36, 5, 1)\n",
            "(36, 1)\n"
          ],
          "name": "stdout"
        }
      ]
    },
    {
      "cell_type": "markdown",
      "metadata": {
        "id": "JOAkVCLxD3uM",
        "colab_type": "text"
      },
      "source": [
        "Prepare test set"
      ]
    },
    {
      "cell_type": "code",
      "metadata": {
        "id": "0ZzDp5iuFNJT",
        "colab_type": "code",
        "colab": {
          "base_uri": "https://localhost:8080/",
          "height": 34
        },
        "outputId": "a5be89d7-b093-473b-9c39-02c40712c983"
      },
      "source": [
        "inputs=df[df.columns[column]][len(df)-len(test_set) - n_steps_in:]\n",
        "i#nputs"
      ],
      "execution_count": 100,
      "outputs": [
        {
          "output_type": "execute_result",
          "data": {
            "text/plain": [
              "6"
            ]
          },
          "metadata": {
            "tags": []
          },
          "execution_count": 100
        }
      ]
    },
    {
      "cell_type": "code",
      "metadata": {
        "id": "G79YrG9AD5JD",
        "colab_type": "code",
        "colab": {
          "base_uri": "https://localhost:8080/",
          "height": 204
        },
        "outputId": "4ded871e-af31-43fb-e5f2-95e409df05a3"
      },
      "source": [
        "sequence=inputs\n",
        "# split into samples\n",
        "X_test, y_test = split_sequence(sequence, n_steps_in, n_steps_out)\n",
        "# summarize the data\n",
        "for i in range(len(X_test)):\n",
        "\tprint(X_test[i], y_test[i])"
      ],
      "execution_count": 101,
      "outputs": [
        {
          "output_type": "stream",
          "text": [
            "[10.002 10.002 10.002 10.002 10.   ] [10.]\n",
            "[10.002 10.002 10.002 10.    10.   ] [10.]\n",
            "[10.002 10.002 10.    10.    10.   ] [10.]\n",
            "[10.002 10.    10.    10.    10.   ] [10.002]\n",
            "[10.    10.    10.    10.    10.002] [10.002]\n",
            "[10.    10.    10.    10.002 10.002] [10.002]\n",
            "[10.    10.    10.002 10.002 10.002] [10.]\n",
            "[10.    10.002 10.002 10.002 10.   ] [10.003]\n",
            "[10.002 10.002 10.002 10.    10.003] [10.003]\n",
            "[10.002 10.002 10.    10.003 10.003] [10.003]\n",
            "[10.002 10.    10.003 10.003 10.003] [9.999]\n"
          ],
          "name": "stdout"
        }
      ]
    },
    {
      "cell_type": "code",
      "metadata": {
        "id": "zj_8ZoZOEeXC",
        "colab_type": "code",
        "colab": {
          "base_uri": "https://localhost:8080/",
          "height": 51
        },
        "outputId": "73bead52-2f58-428f-d10e-52966d1d8f3f"
      },
      "source": [
        "# reshape from [samples, timesteps] into [samples, timesteps, features]\n",
        "n_features = 1\n",
        "X_test = X_test.reshape((X_test.shape[0], X_test.shape[1], n_features))\n",
        "print(X_test.shape)\n",
        "print(y_test.shape)"
      ],
      "execution_count": 102,
      "outputs": [
        {
          "output_type": "stream",
          "text": [
            "(11, 5, 1)\n",
            "(11, 1)\n"
          ],
          "name": "stdout"
        }
      ]
    },
    {
      "cell_type": "markdown",
      "metadata": {
        "colab_type": "text",
        "id": "194Gyt4s1Zqy"
      },
      "source": [
        "- Mean Squared Error: mean_squared_error, MSE or mse\n",
        "- Mean Absolute Error: mean_absolute_error, MAE, mae\n",
        "- Mean Absolute Percentage Error: mean_absolute_percentage_error, MAPE, mape"
      ]
    },
    {
      "cell_type": "code",
      "metadata": {
        "colab_type": "code",
        "id": "jZShe4dw1Zqy",
        "colab": {
          "base_uri": "https://localhost:8080/",
          "height": 255
        },
        "outputId": "4dfa28c8-fb47-493c-f236-0e525dc6c57e"
      },
      "source": [
        "from keras import backend\n",
        " \n",
        "def rmse(y_true, y_pred):\n",
        "\treturn backend.sqrt(backend.mean(backend.square(y_pred - y_true), axis=-1))\n",
        "# define model\n",
        "model = Sequential()\n",
        "model.add(LSTM(100, activation='relu', return_sequences=True, input_shape=(n_steps_in, n_features)))\n",
        "model.add(LSTM(100, activation='relu'))\n",
        "model.add(Dense(n_steps_out))\n",
        "model.compile(optimizer='adam', loss='mse',metrics=['mse','mae','mape',rmse])\n",
        "model.summary()\n",
        "# Fitting to the training set\n",
        "callbacks = [EarlyStopping(monitor=\"val_loss\", patience=3, \n",
        "                           mode='min',restore_best_weights=True),\n",
        "            #ModelCheckpoint(filepath=\"best_model.h5\",monitor=\"val_loss\",\n",
        "             #               save_best_only=True)\n",
        "            ]"
      ],
      "execution_count": 103,
      "outputs": [
        {
          "output_type": "stream",
          "text": [
            "Model: \"sequential\"\n",
            "_________________________________________________________________\n",
            "Layer (type)                 Output Shape              Param #   \n",
            "=================================================================\n",
            "lstm (LSTM)                  (None, 5, 100)            40800     \n",
            "_________________________________________________________________\n",
            "lstm_1 (LSTM)                (None, 100)               80400     \n",
            "_________________________________________________________________\n",
            "dense (Dense)                (None, 1)                 101       \n",
            "=================================================================\n",
            "Total params: 121,301\n",
            "Trainable params: 121,301\n",
            "Non-trainable params: 0\n",
            "_________________________________________________________________\n"
          ],
          "name": "stdout"
        }
      ]
    },
    {
      "cell_type": "code",
      "metadata": {
        "colab_type": "code",
        "id": "cAkqiYbL1Zq0",
        "colab": {}
      },
      "source": [
        "history=model.fit(X_train,y_train,validation_split=0.2,epochs=100,verbose=0)"
      ],
      "execution_count": 104,
      "outputs": []
    },
    {
      "cell_type": "code",
      "metadata": {
        "colab_type": "code",
        "id": "4DzeAGOB1Zq9",
        "colab": {
          "base_uri": "https://localhost:8080/",
          "height": 85
        },
        "outputId": "4f9aa39b-1e75-4f71-94e4-267592eb072a"
      },
      "source": [
        "y_train_pred=model.predict(X_train)\n",
        "y_test_pred=model.predict(X_test)\n",
        "print('train rmse:', np.sqrt(mean_squared_error(y_train, y_train_pred)))\n",
        "print('test rmse:', np.sqrt(mean_squared_error(y_test, y_test_pred)))\n",
        "print('train mae:', np.sqrt(mean_absolute_error(y_train, y_train_pred)))\n",
        "print('test mae:', np.sqrt(mean_absolute_error(y_test, y_test_pred)))"
      ],
      "execution_count": 106,
      "outputs": [
        {
          "output_type": "stream",
          "text": [
            "train rmse: 0.05039442442254768\n",
            "test rmse: 0.049381224833602445\n",
            "train mae: 0.2243108084122303\n",
            "test mae: 0.22211356062990786\n"
          ],
          "name": "stdout"
        }
      ]
    },
    {
      "cell_type": "code",
      "metadata": {
        "id": "5zqsOYn_G-LV",
        "colab_type": "code",
        "colab": {
          "base_uri": "https://localhost:8080/",
          "height": 386
        },
        "outputId": "9c4e0ea1-f06c-4135-a63c-fed870ea66e2"
      },
      "source": [
        "plt.plot(y_test, color='red',label='Real IBM Stock Price')\n",
        "plt.plot(y_test_pred, color='blue',label='Predicted IBM Stock Price')\n",
        "plt.title('IBM Stock Price Prediction')\n",
        "plt.xlabel('Time')\n",
        "plt.ylabel('IBM Stock Price')\n",
        "plt.legend()\n",
        "plt.show()"
      ],
      "execution_count": 107,
      "outputs": [
        {
          "output_type": "display_data",
          "data": {
            "image/png": "[encoded data removed]",
            "text/plain": [
              "<Figure size 1296x576 with 1 Axes>"
            ]
          },
          "metadata": {
            "tags": []
          }
        }
      ]
    },
    {
      "cell_type": "code",
      "metadata": {
        "id": "aC_lW4KbKF9k",
        "colab_type": "code",
        "colab": {
          "base_uri": "https://localhost:8080/",
          "height": 204
        },
        "outputId": "e751937e-f457-4b46-a78c-07a546622f23"
      },
      "source": [
        "df_original.head()"
      ],
      "execution_count": 108,
      "outputs": [
        {
          "output_type": "execute_result",
          "data": {
            "text/html": [
              "<div>\n",
              "<style scoped>\n",
              "    .dataframe tbody tr th:only-of-type {\n",
              "        vertical-align: middle;\n",
              "    }\n",
              "\n",
              "    .dataframe tbody tr th {\n",
              "        vertical-align: top;\n",
              "    }\n",
              "\n",
              "    .dataframe thead th {\n",
              "        text-align: right;\n",
              "    }\n",
              "</style>\n",
              "<table border=\"1\" class=\"dataframe\">\n",
              "  <thead>\n",
              "    <tr style=\"text-align: right;\">\n",
              "      <th></th>\n",
              "      <th>Datef</th>\n",
              "      <th>C-Pitch</th>\n",
              "      <th>USL</th>\n",
              "      <th>LSL</th>\n",
              "      <th>Nominal</th>\n",
              "      <th>UCL</th>\n",
              "      <th>LCL</th>\n",
              "      <th>mean</th>\n",
              "    </tr>\n",
              "  </thead>\n",
              "  <tbody>\n",
              "    <tr>\n",
              "      <th>0</th>\n",
              "      <td>2019-01-13</td>\n",
              "      <td>10.004</td>\n",
              "      <td>10.01</td>\n",
              "      <td>9.99</td>\n",
              "      <td>10.0</td>\n",
              "      <td>10.006001</td>\n",
              "      <td>9.997142</td>\n",
              "      <td>10.001571</td>\n",
              "    </tr>\n",
              "    <tr>\n",
              "      <th>1</th>\n",
              "      <td>2019-01-20</td>\n",
              "      <td>10.004</td>\n",
              "      <td>10.01</td>\n",
              "      <td>9.99</td>\n",
              "      <td>10.0</td>\n",
              "      <td>10.006001</td>\n",
              "      <td>9.997142</td>\n",
              "      <td>10.001571</td>\n",
              "    </tr>\n",
              "    <tr>\n",
              "      <th>2</th>\n",
              "      <td>2019-01-27</td>\n",
              "      <td>10.002</td>\n",
              "      <td>10.01</td>\n",
              "      <td>9.99</td>\n",
              "      <td>10.0</td>\n",
              "      <td>10.006001</td>\n",
              "      <td>9.997142</td>\n",
              "      <td>10.001571</td>\n",
              "    </tr>\n",
              "    <tr>\n",
              "      <th>3</th>\n",
              "      <td>2019-02-03</td>\n",
              "      <td>10.003</td>\n",
              "      <td>10.01</td>\n",
              "      <td>9.99</td>\n",
              "      <td>10.0</td>\n",
              "      <td>10.006001</td>\n",
              "      <td>9.997142</td>\n",
              "      <td>10.001571</td>\n",
              "    </tr>\n",
              "    <tr>\n",
              "      <th>4</th>\n",
              "      <td>2019-02-10</td>\n",
              "      <td>10.003</td>\n",
              "      <td>10.01</td>\n",
              "      <td>9.99</td>\n",
              "      <td>10.0</td>\n",
              "      <td>10.006001</td>\n",
              "      <td>9.997142</td>\n",
              "      <td>10.001571</td>\n",
              "    </tr>\n",
              "  </tbody>\n",
              "</table>\n",
              "</div>"
            ],
            "text/plain": [
              "       Datef  C-Pitch    USL   LSL  Nominal        UCL       LCL       mean\n",
              "0 2019-01-13   10.004  10.01  9.99     10.0  10.006001  9.997142  10.001571\n",
              "1 2019-01-20   10.004  10.01  9.99     10.0  10.006001  9.997142  10.001571\n",
              "2 2019-01-27   10.002  10.01  9.99     10.0  10.006001  9.997142  10.001571\n",
              "3 2019-02-03   10.003  10.01  9.99     10.0  10.006001  9.997142  10.001571\n",
              "4 2019-02-10   10.003  10.01  9.99     10.0  10.006001  9.997142  10.001571"
            ]
          },
          "metadata": {
            "tags": []
          },
          "execution_count": 108
        }
      ]
    },
    {
      "cell_type": "markdown",
      "metadata": {
        "id": "rkhP23Z2lSN6",
        "colab_type": "text"
      },
      "source": [
        "## SARIMA"
      ]
    },
    {
      "cell_type": "code",
      "metadata": {
        "id": "ShdRWQo_hzZ8",
        "colab_type": "code",
        "colab": {}
      },
      "source": [
        "import itertools    \n",
        "import warnings\n",
        "from statsmodels.tsa.statespace.sarimax import SARIMAX\n",
        "\n",
        "warnings.filterwarnings(\"ignore\")\n",
        "\n",
        "def arima_grid_search(dataframe, s):\n",
        "    df=dataframe\n",
        "    p = d = q = range(2)\n",
        "    param_combinations = list(itertools.product(p, d, q))\n",
        "\n",
        "    lowest_aic, pdq, pdqs = None, None, None\n",
        "\n",
        "    total_iterations = 0\n",
        "    for order in param_combinations:    \n",
        "        for (p, q, d) in param_combinations:\n",
        "            seasonal_order = (p, q, d, s)\n",
        "            total_iterations += 1\n",
        "            try:\n",
        "                model = SARIMAX(df, order=order, \n",
        "                    seasonal_order=seasonal_order, \n",
        "                    enforce_stationarity=False,\n",
        "                    enforce_invertibility=False,\n",
        "                    disp=False\n",
        "                )\n",
        "                model_result = model.fit(maxiter=200, disp=False)\n",
        "\n",
        "                if not lowest_aic or model_result.aic < lowest_aic:\n",
        "                    lowest_aic = model_result.aic\n",
        "                    pdq, pdqs = order, seasonal_order\n",
        "\n",
        "            except Exception as ex:\n",
        "                continue\n",
        "\n",
        "    return lowest_aic, pdq, pdqs "
      ],
      "execution_count": null,
      "outputs": []
    },
    {
      "cell_type": "code",
      "metadata": {
        "id": "pIjZy5SflguX",
        "colab_type": "code",
        "colab": {}
      },
      "source": [
        "for name in DFdict_final.keys(): #also group\n",
        "  print(name)\n",
        "  df_temp_2=DFdict_final[name].copy() # gia tri mean thong thuong\n",
        "  df_predict=df_temp_2.set_index(df_temp_2.columns[0]).copy()\n",
        "  df_predict=df_predict.resample('1W').ffill() # gia tri mean da resample\n",
        "  df_original=df_predict.reset_index()#\n",
        "  #df_lstm=df_lstm[[df_lstm.columns[0],df_lstm.columns[1]]]\n",
        "  #df_fb.columns=['ds','y']\n",
        "  break\n",
        "df=df_original[[df_original.columns[0],df_original.columns[1]]].\\\n",
        "    set_index(df_original.columns[0])\n",
        "df.head()"
      ],
      "execution_count": null,
      "outputs": []
    },
    {
      "cell_type": "code",
      "metadata": {
        "id": "AUyMAFq0lisM",
        "colab_type": "code",
        "colab": {}
      },
      "source": [
        "df_sarima=df[df.columns[0]].copy()\n",
        "df_sarima"
      ],
      "execution_count": null,
      "outputs": []
    },
    {
      "cell_type": "code",
      "metadata": {
        "id": "WLJayySRl8PP",
        "colab_type": "code",
        "colab": {}
      },
      "source": [
        "lowest_aic, order, seasonal_order = arima_grid_search(df_sarima, 12)\n",
        "print('ARIMA{}x{}'.format(order, seasonal_order))\n",
        "print('Lowest AIC: %.3f'%lowest_aic)"
      ],
      "execution_count": null,
      "outputs": []
    },
    {
      "cell_type": "code",
      "metadata": {
        "id": "Yy1RGRJxmCww",
        "colab_type": "code",
        "colab": {}
      },
      "source": [
        "model = SARIMAX(\n",
        "    df_sarima,\n",
        "    order=order,\n",
        "    seasonal_order=seasonal_order,\n",
        "    enforce_stationarity=False,\n",
        "    enforce_invertibility=False,\n",
        "    disp=False\n",
        ")\n",
        "\n",
        "model_results = model.fit(maxiter=200, disp=False)"
      ],
      "execution_count": null,
      "outputs": []
    },
    {
      "cell_type": "code",
      "metadata": {
        "id": "_Srn1A8DmLDd",
        "colab_type": "code",
        "colab": {}
      },
      "source": [
        "print(model_results.summary())"
      ],
      "execution_count": null,
      "outputs": []
    },
    {
      "cell_type": "code",
      "metadata": {
        "id": "it1s7ryMmMYr",
        "colab_type": "code",
        "colab": {}
      },
      "source": [
        "model_results.plot_diagnostics(figsize=(12, 8));"
      ],
      "execution_count": null,
      "outputs": []
    },
    {
      "cell_type": "code",
      "metadata": {
        "id": "ZfSfrZsfmOiC",
        "colab_type": "code",
        "colab": {}
      },
      "source": [
        "model_results.resid.describe()"
      ],
      "execution_count": null,
      "outputs": []
    },
    {
      "cell_type": "code",
      "metadata": {
        "id": "CNvqEWi6mezz",
        "colab_type": "code",
        "colab": {}
      },
      "source": [
        "n = len(df_sarima.index)\n",
        "n"
      ],
      "execution_count": null,
      "outputs": []
    },
    {
      "cell_type": "code",
      "metadata": {
        "id": "PVR6PjRvnfbs",
        "colab_type": "code",
        "colab": {}
      },
      "source": [
        "num_predict=5"
      ],
      "execution_count": null,
      "outputs": []
    },
    {
      "cell_type": "code",
      "metadata": {
        "id": "_lkucDWXmUIO",
        "colab_type": "code",
        "colab": {}
      },
      "source": [
        "prediction = model_results.get_prediction(\n",
        "    start=n-num_predict, \n",
        "    end=n+num_predict\n",
        ")\n",
        "prediction_ci = prediction.conf_int()"
      ],
      "execution_count": null,
      "outputs": []
    },
    {
      "cell_type": "code",
      "metadata": {
        "id": "-EkJs3NlmjHv",
        "colab_type": "code",
        "colab": {}
      },
      "source": [
        "prediction_ci.head()"
      ],
      "execution_count": null,
      "outputs": []
    },
    {
      "cell_type": "code",
      "metadata": {
        "id": "ZFWnVb6nm8pf",
        "colab_type": "code",
        "colab": {}
      },
      "source": [
        "df_sarima.head()"
      ],
      "execution_count": null,
      "outputs": []
    },
    {
      "cell_type": "code",
      "metadata": {
        "id": "dyssqeMLmltv",
        "colab_type": "code",
        "colab": {}
      },
      "source": [
        "plt.figure(figsize=(12, 6))\n",
        "\n",
        "ax = df_sarima.plot(label='actual')\n",
        "\n",
        "prediction_ci.plot(\n",
        "    ax=ax, style=['--', '--'],\n",
        "    label='predicted/forecasted')\n",
        "\n",
        "prediction.predicted_mean.plot(\n",
        "    ax=ax, style=['--'],\n",
        "    label='predicted')\n",
        "\n",
        "ci_index = prediction_ci.index\n",
        "lower_ci = prediction_ci.iloc[:, 0]\n",
        "upper_ci = prediction_ci.iloc[:, 1]\n",
        "\n",
        "ax.fill_between(ci_index, lower_ci, upper_ci,\n",
        "    color='r', alpha=.1)\n",
        "\n",
        "ax.set_xlabel('Time (years)')\n",
        "ax.set_ylabel('Prices')\n",
        "\n",
        "plt.legend()\n",
        "plt.show()"
      ],
      "execution_count": null,
      "outputs": []
    }
  ]
}