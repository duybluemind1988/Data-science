{
  "nbformat": 4,
  "nbformat_minor": 0,
  "metadata": {
    "kernelspec": {
      "name": "python3",
      "display_name": "Python 3",
      "language": "python"
    },
    "language_info": {
      "mimetype": "text/x-python",
      "nbconvert_exporter": "python",
      "name": "python",
      "pygments_lexer": "ipython3",
      "version": "3.5.4",
      "file_extension": ".py",
      "codemirror_mode": {
        "version": 3,
        "name": "ipython"
      }
    },
    "colab": {
      "name": "IGI_material_control_prediction.ipynb",
      "provenance": [],
      "collapsed_sections": [],
      "include_colab_link": true
    }
  },
  "cells": [
    {
      "cell_type": "markdown",
      "metadata": {
        "id": "view-in-github",
        "colab_type": "text"
      },
      "source": [
        "<a href=\"https://colab.research.google.com/github/duybluemind1988/Data-science/blob/master/IGI_material_control_prediction%20v2.ipynb\" target=\"_parent\"><img src=\"https://colab.research.google.com/assets/colab-badge.svg\" alt=\"Open In Colab\"/></a>"
      ]
    },
    {
      "cell_type": "code",
      "metadata": {
        "jupyter": {},
        "trusted": false,
        "id": "2TNQ3e-OZ7ll",
        "colab_type": "code",
        "colab": {}
      },
      "source": [
        "#!pip install altair_viewer #Need to install this package"
      ],
      "execution_count": 2,
      "outputs": []
    },
    {
      "cell_type": "code",
      "metadata": {
        "id": "N4f5Cj05oRin",
        "colab_type": "code",
        "colab": {}
      },
      "source": [
        "#!pip install jupyter altair vega #No need to install this package"
      ],
      "execution_count": 3,
      "outputs": []
    },
    {
      "cell_type": "code",
      "metadata": {
        "id": "aq4NBAoTZAV8",
        "colab_type": "code",
        "colab": {
          "base_uri": "https://localhost:8080/",
          "height": 68
        },
        "outputId": "12aaf6a0-b92d-4a1b-ccbc-51988eafd02e"
      },
      "source": [
        "# VERY IMPORTANT INFORMATION\n",
        "print('Please input number of feature')\n",
        "feature_num=5\n",
        "print('Please input number of sample inspection')\n",
        "sample_num=5\n",
        "print('Please input position of sample value')\n",
        "namefile='MMD2019'\n"
      ],
      "execution_count": 4,
      "outputs": [
        {
          "output_type": "stream",
          "text": [
            "Please input number of feature\n",
            "Please input number of sample inspection\n",
            "Please input position of sample value\n"
          ],
          "name": "stdout"
        }
      ]
    },
    {
      "cell_type": "code",
      "metadata": {
        "id": "4nSgR7tdm2RR",
        "colab_type": "code",
        "colab": {
          "base_uri": "https://localhost:8080/",
          "height": 71
        },
        "outputId": "f3ed9526-35f2-4f21-a4e7-af6b33f8d6d5"
      },
      "source": [
        "import seaborn as sns; sns.set()\n",
        "import pandas as pd\n",
        "import numpy as np\n",
        "import matplotlib.pyplot as plt\n",
        "\n",
        "import plotly.graph_objects as go\n",
        "from plotly.subplots import make_subplots\n",
        "import plotly.express as px\n",
        "from plotly.offline import iplot\n",
        "import pandas as pd\n",
        "import re\n",
        "import altair as alt"
      ],
      "execution_count": 5,
      "outputs": [
        {
          "output_type": "stream",
          "text": [
            "/usr/local/lib/python3.6/dist-packages/statsmodels/tools/_testing.py:19: FutureWarning: pandas.util.testing is deprecated. Use the functions in the public API at pandas.testing instead.\n",
            "  import pandas.util.testing as tm\n"
          ],
          "name": "stderr"
        }
      ]
    },
    {
      "cell_type": "code",
      "metadata": {
        "id": "JygC8Ta5D3MP",
        "colab_type": "code",
        "colab": {}
      },
      "source": [
        "#alt.renderers.enable('notebook')\n",
        "#alt.renderers.enable('mimetype')"
      ],
      "execution_count": 6,
      "outputs": []
    },
    {
      "cell_type": "code",
      "metadata": {
        "jupyter": {},
        "scrolled": true,
        "trusted": false,
        "id": "VuwXOx_IZ7lx",
        "colab_type": "code",
        "colab": {
          "base_uri": "https://localhost:8080/",
          "height": 35
        },
        "outputId": "7f02f2a9-907e-4e5d-f9e1-dce266ce9b30"
      },
      "source": [
        "import os\n",
        "os.getcwd()"
      ],
      "execution_count": 7,
      "outputs": [
        {
          "output_type": "execute_result",
          "data": {
            "application/vnd.google.colaboratory.intrinsic+json": {
              "type": "string"
            },
            "text/plain": [
              "'/content'"
            ]
          },
          "metadata": {
            "tags": []
          },
          "execution_count": 7
        }
      ]
    },
    {
      "cell_type": "code",
      "metadata": {
        "jupyter": {},
        "trusted": false,
        "id": "UpKpM4btZ7l8",
        "colab_type": "code",
        "colab": {}
      },
      "source": [
        "path='/content/drive/My Drive/Data/IGI material Membrane 2019/'\n",
        "#path='/content/drive/My Drive/Data science/Sonion project/IGI material Armature/'\n",
        "#path1='/content/drive/My Drive/Data/MMD 2019/'\n",
        "#path2='/content/drive/My Drive/Data/MMD 2018/'"
      ],
      "execution_count": 8,
      "outputs": []
    },
    {
      "cell_type": "markdown",
      "metadata": {
        "id": "Y2HlTJydH52E",
        "colab_type": "text"
      },
      "source": [
        "### read all excel file and sort  by day"
      ]
    },
    {
      "cell_type": "code",
      "metadata": {
        "jupyter": {},
        "trusted": false,
        "id": "uy2s1BEDZ7mr",
        "colab_type": "code",
        "colab": {
          "base_uri": "https://localhost:8080/",
          "height": 34
        },
        "outputId": "f43ee759-dcd2-40f4-80c3-a1d011988026"
      },
      "source": [
        "import glob\n",
        "#print(path)\n",
        "all_files=glob.glob(path + '*.xlsx')\n",
        "#sort file in directory by reverse:\n",
        "all_files = sorted(all_files, reverse = False)\n",
        "print('number of files: ',len(all_files))"
      ],
      "execution_count": 9,
      "outputs": [
        {
          "output_type": "stream",
          "text": [
            "number of files:  29\n"
          ],
          "name": "stdout"
        }
      ]
    },
    {
      "cell_type": "markdown",
      "metadata": {
        "id": "2f5dUwV1ISOF",
        "colab_type": "text"
      },
      "source": [
        "### Initial number of feature and sample:"
      ]
    },
    {
      "cell_type": "markdown",
      "metadata": {
        "id": "Katnq8DygEj0",
        "colab_type": "text"
      },
      "source": [
        "### add all dataframe to list of dataframe:"
      ]
    },
    {
      "cell_type": "code",
      "metadata": {
        "id": "CAyq344uIHIQ",
        "colab_type": "code",
        "colab": {
          "base_uri": "https://localhost:8080/",
          "height": 538
        },
        "outputId": "713e45c3-3d75-49f5-bcde-79efd54e8fe8"
      },
      "source": [
        "finaldf=pd.DataFrame()\n",
        "for filename in all_files:\n",
        "    df = pd.read_excel(filename, index_col = None, header = 0)\n",
        "    #Create data frame feature values(newdf)\n",
        "    newdf=pd.DataFrame()\n",
        "    for i in range(feature_num+1)[1:]:\n",
        "      df_feature= df['Unnamed: '+str(i)][19:(19+sample_num)] #must be = 19 + sample_num /24 la mac dinh\n",
        "      df_feature=df_feature.reset_index(drop=True)\n",
        "      newdf=pd.concat([newdf,df_feature],axis=1)\n",
        "    #print(newdf)  \n",
        "\n",
        "    #Date transform:\n",
        "    a=df[['Unnamed: 7']][3:4] #object type - normal is [2:3]\n",
        "    if a.isna().values:\n",
        "      a=df[['Unnamed: 7']][2:3]\n",
        "      date = a.values[0][0] #timestamp type\n",
        "    else:\n",
        "      date = a.values[0][0] #timestamp type\n",
        "    if isinstance(date, str):\n",
        "      continue\n",
        "    #Create series date column (row = number of value to record, default = 5)\n",
        "    date=pd.Series(date)\n",
        "    datedf=pd.DataFrame()\n",
        "    for i in range(sample_num):\n",
        "      datedf=pd.concat([datedf,date],axis=0)\n",
        "\n",
        "    datedf.reset_index(drop=True, inplace=True)\n",
        "    newdf.reset_index(drop=True, inplace=True)\n",
        "    df_combine=pd.concat([datedf,newdf],axis=1) # combine date and features\n",
        "\n",
        "    #combine all df each filename:\n",
        "    \n",
        "    finaldf=pd.concat([finaldf,df_combine],axis=0)\n",
        "print(finaldf.isnull().sum())\n",
        "finaldf.reset_index(drop=True,inplace=True)\n",
        "finaldf.sort_values(by=finaldf.columns[0])\n",
        "finaldf"
      ],
      "execution_count": 10,
      "outputs": [
        {
          "output_type": "stream",
          "text": [
            "0             0\n",
            "Unnamed: 1    0\n",
            "Unnamed: 2    0\n",
            "Unnamed: 3    0\n",
            "Unnamed: 4    0\n",
            "Unnamed: 5    0\n",
            "dtype: int64\n"
          ],
          "name": "stdout"
        },
        {
          "output_type": "execute_result",
          "data": {
            "text/html": [
              "<div>\n",
              "<style scoped>\n",
              "    .dataframe tbody tr th:only-of-type {\n",
              "        vertical-align: middle;\n",
              "    }\n",
              "\n",
              "    .dataframe tbody tr th {\n",
              "        vertical-align: top;\n",
              "    }\n",
              "\n",
              "    .dataframe thead th {\n",
              "        text-align: right;\n",
              "    }\n",
              "</style>\n",
              "<table border=\"1\" class=\"dataframe\">\n",
              "  <thead>\n",
              "    <tr style=\"text-align: right;\">\n",
              "      <th></th>\n",
              "      <th>0</th>\n",
              "      <th>Unnamed: 1</th>\n",
              "      <th>Unnamed: 2</th>\n",
              "      <th>Unnamed: 3</th>\n",
              "      <th>Unnamed: 4</th>\n",
              "      <th>Unnamed: 5</th>\n",
              "    </tr>\n",
              "  </thead>\n",
              "  <tbody>\n",
              "    <tr>\n",
              "      <th>0</th>\n",
              "      <td>2019-01-11</td>\n",
              "      <td>10.003</td>\n",
              "      <td>1.219</td>\n",
              "      <td>3.197</td>\n",
              "      <td>11.855</td>\n",
              "      <td>0.31</td>\n",
              "    </tr>\n",
              "    <tr>\n",
              "      <th>1</th>\n",
              "      <td>2019-01-11</td>\n",
              "      <td>10.005</td>\n",
              "      <td>1.219</td>\n",
              "      <td>3.19</td>\n",
              "      <td>11.855</td>\n",
              "      <td>0.31</td>\n",
              "    </tr>\n",
              "    <tr>\n",
              "      <th>2</th>\n",
              "      <td>2019-01-11</td>\n",
              "      <td>10.005</td>\n",
              "      <td>1.219</td>\n",
              "      <td>3.194</td>\n",
              "      <td>11.852</td>\n",
              "      <td>0.31</td>\n",
              "    </tr>\n",
              "    <tr>\n",
              "      <th>3</th>\n",
              "      <td>2019-01-11</td>\n",
              "      <td>10.002</td>\n",
              "      <td>1.218</td>\n",
              "      <td>3.198</td>\n",
              "      <td>11.855</td>\n",
              "      <td>0.311</td>\n",
              "    </tr>\n",
              "    <tr>\n",
              "      <th>4</th>\n",
              "      <td>2019-01-11</td>\n",
              "      <td>10.003</td>\n",
              "      <td>1.219</td>\n",
              "      <td>3.19</td>\n",
              "      <td>11.85</td>\n",
              "      <td>0.31</td>\n",
              "    </tr>\n",
              "    <tr>\n",
              "      <th>...</th>\n",
              "      <td>...</td>\n",
              "      <td>...</td>\n",
              "      <td>...</td>\n",
              "      <td>...</td>\n",
              "      <td>...</td>\n",
              "      <td>...</td>\n",
              "    </tr>\n",
              "    <tr>\n",
              "      <th>140</th>\n",
              "      <td>2019-12-31</td>\n",
              "      <td>9.991</td>\n",
              "      <td>1.218</td>\n",
              "      <td>3.199</td>\n",
              "      <td>11.85</td>\n",
              "      <td>0.313</td>\n",
              "    </tr>\n",
              "    <tr>\n",
              "      <th>141</th>\n",
              "      <td>2019-12-31</td>\n",
              "      <td>9.999</td>\n",
              "      <td>1.218</td>\n",
              "      <td>3.204</td>\n",
              "      <td>11.849</td>\n",
              "      <td>0.314</td>\n",
              "    </tr>\n",
              "    <tr>\n",
              "      <th>142</th>\n",
              "      <td>2019-12-31</td>\n",
              "      <td>10.003</td>\n",
              "      <td>1.219</td>\n",
              "      <td>3.202</td>\n",
              "      <td>11.847</td>\n",
              "      <td>0.313</td>\n",
              "    </tr>\n",
              "    <tr>\n",
              "      <th>143</th>\n",
              "      <td>2019-12-31</td>\n",
              "      <td>10.002</td>\n",
              "      <td>1.219</td>\n",
              "      <td>3.201</td>\n",
              "      <td>11.847</td>\n",
              "      <td>0.312</td>\n",
              "    </tr>\n",
              "    <tr>\n",
              "      <th>144</th>\n",
              "      <td>2019-12-31</td>\n",
              "      <td>10.002</td>\n",
              "      <td>1.218</td>\n",
              "      <td>3.201</td>\n",
              "      <td>11.848</td>\n",
              "      <td>0.312</td>\n",
              "    </tr>\n",
              "  </tbody>\n",
              "</table>\n",
              "<p>145 rows × 6 columns</p>\n",
              "</div>"
            ],
            "text/plain": [
              "             0 Unnamed: 1 Unnamed: 2 Unnamed: 3 Unnamed: 4 Unnamed: 5\n",
              "0   2019-01-11     10.003      1.219      3.197     11.855       0.31\n",
              "1   2019-01-11     10.005      1.219       3.19     11.855       0.31\n",
              "2   2019-01-11     10.005      1.219      3.194     11.852       0.31\n",
              "3   2019-01-11     10.002      1.218      3.198     11.855      0.311\n",
              "4   2019-01-11     10.003      1.219       3.19      11.85       0.31\n",
              "..         ...        ...        ...        ...        ...        ...\n",
              "140 2019-12-31      9.991      1.218      3.199      11.85      0.313\n",
              "141 2019-12-31      9.999      1.218      3.204     11.849      0.314\n",
              "142 2019-12-31     10.003      1.219      3.202     11.847      0.313\n",
              "143 2019-12-31     10.002      1.219      3.201     11.847      0.312\n",
              "144 2019-12-31     10.002      1.218      3.201     11.848      0.312\n",
              "\n",
              "[145 rows x 6 columns]"
            ]
          },
          "metadata": {
            "tags": []
          },
          "execution_count": 10
        }
      ]
    },
    {
      "cell_type": "code",
      "metadata": {
        "id": "Lc8OQM0qYowQ",
        "colab_type": "code",
        "colab": {}
      },
      "source": [
        "#finaldf.to_csv('finaldfMMD.csv')"
      ],
      "execution_count": 11,
      "outputs": []
    },
    {
      "cell_type": "code",
      "metadata": {
        "id": "QVnzsVsox9in",
        "colab_type": "code",
        "colab": {
          "base_uri": "https://localhost:8080/",
          "height": 419
        },
        "outputId": "1de368f1-975d-4411-8e36-cbcd16c07b31"
      },
      "source": [
        "finaldf.dropna(inplace=True)\n",
        "finaldf  "
      ],
      "execution_count": 12,
      "outputs": [
        {
          "output_type": "execute_result",
          "data": {
            "text/html": [
              "<div>\n",
              "<style scoped>\n",
              "    .dataframe tbody tr th:only-of-type {\n",
              "        vertical-align: middle;\n",
              "    }\n",
              "\n",
              "    .dataframe tbody tr th {\n",
              "        vertical-align: top;\n",
              "    }\n",
              "\n",
              "    .dataframe thead th {\n",
              "        text-align: right;\n",
              "    }\n",
              "</style>\n",
              "<table border=\"1\" class=\"dataframe\">\n",
              "  <thead>\n",
              "    <tr style=\"text-align: right;\">\n",
              "      <th></th>\n",
              "      <th>0</th>\n",
              "      <th>Unnamed: 1</th>\n",
              "      <th>Unnamed: 2</th>\n",
              "      <th>Unnamed: 3</th>\n",
              "      <th>Unnamed: 4</th>\n",
              "      <th>Unnamed: 5</th>\n",
              "    </tr>\n",
              "  </thead>\n",
              "  <tbody>\n",
              "    <tr>\n",
              "      <th>0</th>\n",
              "      <td>2019-01-11</td>\n",
              "      <td>10.003</td>\n",
              "      <td>1.219</td>\n",
              "      <td>3.197</td>\n",
              "      <td>11.855</td>\n",
              "      <td>0.31</td>\n",
              "    </tr>\n",
              "    <tr>\n",
              "      <th>1</th>\n",
              "      <td>2019-01-11</td>\n",
              "      <td>10.005</td>\n",
              "      <td>1.219</td>\n",
              "      <td>3.19</td>\n",
              "      <td>11.855</td>\n",
              "      <td>0.31</td>\n",
              "    </tr>\n",
              "    <tr>\n",
              "      <th>2</th>\n",
              "      <td>2019-01-11</td>\n",
              "      <td>10.005</td>\n",
              "      <td>1.219</td>\n",
              "      <td>3.194</td>\n",
              "      <td>11.852</td>\n",
              "      <td>0.31</td>\n",
              "    </tr>\n",
              "    <tr>\n",
              "      <th>3</th>\n",
              "      <td>2019-01-11</td>\n",
              "      <td>10.002</td>\n",
              "      <td>1.218</td>\n",
              "      <td>3.198</td>\n",
              "      <td>11.855</td>\n",
              "      <td>0.311</td>\n",
              "    </tr>\n",
              "    <tr>\n",
              "      <th>4</th>\n",
              "      <td>2019-01-11</td>\n",
              "      <td>10.003</td>\n",
              "      <td>1.219</td>\n",
              "      <td>3.19</td>\n",
              "      <td>11.85</td>\n",
              "      <td>0.31</td>\n",
              "    </tr>\n",
              "    <tr>\n",
              "      <th>...</th>\n",
              "      <td>...</td>\n",
              "      <td>...</td>\n",
              "      <td>...</td>\n",
              "      <td>...</td>\n",
              "      <td>...</td>\n",
              "      <td>...</td>\n",
              "    </tr>\n",
              "    <tr>\n",
              "      <th>140</th>\n",
              "      <td>2019-12-31</td>\n",
              "      <td>9.991</td>\n",
              "      <td>1.218</td>\n",
              "      <td>3.199</td>\n",
              "      <td>11.85</td>\n",
              "      <td>0.313</td>\n",
              "    </tr>\n",
              "    <tr>\n",
              "      <th>141</th>\n",
              "      <td>2019-12-31</td>\n",
              "      <td>9.999</td>\n",
              "      <td>1.218</td>\n",
              "      <td>3.204</td>\n",
              "      <td>11.849</td>\n",
              "      <td>0.314</td>\n",
              "    </tr>\n",
              "    <tr>\n",
              "      <th>142</th>\n",
              "      <td>2019-12-31</td>\n",
              "      <td>10.003</td>\n",
              "      <td>1.219</td>\n",
              "      <td>3.202</td>\n",
              "      <td>11.847</td>\n",
              "      <td>0.313</td>\n",
              "    </tr>\n",
              "    <tr>\n",
              "      <th>143</th>\n",
              "      <td>2019-12-31</td>\n",
              "      <td>10.002</td>\n",
              "      <td>1.219</td>\n",
              "      <td>3.201</td>\n",
              "      <td>11.847</td>\n",
              "      <td>0.312</td>\n",
              "    </tr>\n",
              "    <tr>\n",
              "      <th>144</th>\n",
              "      <td>2019-12-31</td>\n",
              "      <td>10.002</td>\n",
              "      <td>1.218</td>\n",
              "      <td>3.201</td>\n",
              "      <td>11.848</td>\n",
              "      <td>0.312</td>\n",
              "    </tr>\n",
              "  </tbody>\n",
              "</table>\n",
              "<p>145 rows × 6 columns</p>\n",
              "</div>"
            ],
            "text/plain": [
              "             0 Unnamed: 1 Unnamed: 2 Unnamed: 3 Unnamed: 4 Unnamed: 5\n",
              "0   2019-01-11     10.003      1.219      3.197     11.855       0.31\n",
              "1   2019-01-11     10.005      1.219       3.19     11.855       0.31\n",
              "2   2019-01-11     10.005      1.219      3.194     11.852       0.31\n",
              "3   2019-01-11     10.002      1.218      3.198     11.855      0.311\n",
              "4   2019-01-11     10.003      1.219       3.19      11.85       0.31\n",
              "..         ...        ...        ...        ...        ...        ...\n",
              "140 2019-12-31      9.991      1.218      3.199      11.85      0.313\n",
              "141 2019-12-31      9.999      1.218      3.204     11.849      0.314\n",
              "142 2019-12-31     10.003      1.219      3.202     11.847      0.313\n",
              "143 2019-12-31     10.002      1.219      3.201     11.847      0.312\n",
              "144 2019-12-31     10.002      1.218      3.201     11.848      0.312\n",
              "\n",
              "[145 rows x 6 columns]"
            ]
          },
          "metadata": {
            "tags": []
          },
          "execution_count": 12
        }
      ]
    },
    {
      "cell_type": "code",
      "metadata": {
        "id": "MZt727wVQzH1",
        "colab_type": "code",
        "colab": {
          "base_uri": "https://localhost:8080/",
          "height": 142
        },
        "outputId": "153ef4b7-6a88-4411-8f89-bf9d9c369e20"
      },
      "source": [
        "finaldf.reset_index(drop=True,inplace=True)\n",
        "column_name=[]\n",
        "column_name.append('Datef')\n",
        "for i in range(feature_num+1)[1:]:\n",
        "  #print(df['Unnamed: '+str(i)][7])\n",
        "  namecolumn_temp=df['Unnamed: '+str(i)][7]\n",
        "  namecolumn_temp=namecolumn_temp.replace('.','')\n",
        "  column_name.append(namecolumn_temp)\n",
        "finaldf.columns=column_name\n",
        "finaldf.sort_values(by='Datef') #sort dated , not depend on file sorting\n",
        "for name in finaldf.columns[1:]:\n",
        "  try:\n",
        "    finaldf[name]=finaldf[name].astype(float)\n",
        "  except:\n",
        "    continue\n",
        "finaldf[:3] "
      ],
      "execution_count": 13,
      "outputs": [
        {
          "output_type": "execute_result",
          "data": {
            "text/html": [
              "<div>\n",
              "<style scoped>\n",
              "    .dataframe tbody tr th:only-of-type {\n",
              "        vertical-align: middle;\n",
              "    }\n",
              "\n",
              "    .dataframe tbody tr th {\n",
              "        vertical-align: top;\n",
              "    }\n",
              "\n",
              "    .dataframe thead th {\n",
              "        text-align: right;\n",
              "    }\n",
              "</style>\n",
              "<table border=\"1\" class=\"dataframe\">\n",
              "  <thead>\n",
              "    <tr style=\"text-align: right;\">\n",
              "      <th></th>\n",
              "      <th>Datef</th>\n",
              "      <th>C-Pitch</th>\n",
              "      <th>J</th>\n",
              "      <th>I</th>\n",
              "      <th>O</th>\n",
              "      <th>Z</th>\n",
              "    </tr>\n",
              "  </thead>\n",
              "  <tbody>\n",
              "    <tr>\n",
              "      <th>0</th>\n",
              "      <td>2019-01-11</td>\n",
              "      <td>10.003</td>\n",
              "      <td>1.219</td>\n",
              "      <td>3.197</td>\n",
              "      <td>11.855</td>\n",
              "      <td>0.31</td>\n",
              "    </tr>\n",
              "    <tr>\n",
              "      <th>1</th>\n",
              "      <td>2019-01-11</td>\n",
              "      <td>10.005</td>\n",
              "      <td>1.219</td>\n",
              "      <td>3.190</td>\n",
              "      <td>11.855</td>\n",
              "      <td>0.31</td>\n",
              "    </tr>\n",
              "    <tr>\n",
              "      <th>2</th>\n",
              "      <td>2019-01-11</td>\n",
              "      <td>10.005</td>\n",
              "      <td>1.219</td>\n",
              "      <td>3.194</td>\n",
              "      <td>11.852</td>\n",
              "      <td>0.31</td>\n",
              "    </tr>\n",
              "  </tbody>\n",
              "</table>\n",
              "</div>"
            ],
            "text/plain": [
              "       Datef  C-Pitch      J      I       O     Z\n",
              "0 2019-01-11   10.003  1.219  3.197  11.855  0.31\n",
              "1 2019-01-11   10.005  1.219  3.190  11.855  0.31\n",
              "2 2019-01-11   10.005  1.219  3.194  11.852  0.31"
            ]
          },
          "metadata": {
            "tags": []
          },
          "execution_count": 13
        }
      ]
    },
    {
      "cell_type": "code",
      "metadata": {
        "id": "cudGc6fCSeCJ",
        "colab_type": "code",
        "colab": {
          "base_uri": "https://localhost:8080/",
          "height": 136
        },
        "outputId": "fc82ceea-f69b-4d26-f9c3-6d8f9edf2f7b"
      },
      "source": [
        "finaldf.dtypes"
      ],
      "execution_count": 14,
      "outputs": [
        {
          "output_type": "execute_result",
          "data": {
            "text/plain": [
              "Datef      datetime64[ns]\n",
              "C-Pitch           float64\n",
              "J                 float64\n",
              "I                 float64\n",
              "O                 float64\n",
              "Z                 float64\n",
              "dtype: object"
            ]
          },
          "metadata": {
            "tags": []
          },
          "execution_count": 14
        }
      ]
    },
    {
      "cell_type": "code",
      "metadata": {
        "id": "7f9gsVIkXDwx",
        "colab_type": "code",
        "colab": {
          "base_uri": "https://localhost:8080/",
          "height": 136
        },
        "outputId": "f6bc4760-0744-46d9-e516-e17a6b5f3c92"
      },
      "source": [
        "finaldf = finaldf.select_dtypes(exclude=['object'])\n",
        "finaldf.dtypes"
      ],
      "execution_count": 15,
      "outputs": [
        {
          "output_type": "execute_result",
          "data": {
            "text/plain": [
              "Datef      datetime64[ns]\n",
              "C-Pitch           float64\n",
              "J                 float64\n",
              "I                 float64\n",
              "O                 float64\n",
              "Z                 float64\n",
              "dtype: object"
            ]
          },
          "metadata": {
            "tags": []
          },
          "execution_count": 15
        }
      ]
    },
    {
      "cell_type": "markdown",
      "metadata": {
        "id": "okA0XAlqOOas",
        "colab_type": "text"
      },
      "source": [
        "### set up tolerance dict:USL,LSL,Nominal"
      ]
    },
    {
      "cell_type": "code",
      "metadata": {
        "jupyter": {},
        "trusted": false,
        "id": "MH1E6C7gZ7my",
        "colab_type": "code",
        "colab": {
          "base_uri": "https://localhost:8080/",
          "height": 102
        },
        "outputId": "4d008d88-78b6-41e4-a425-623fc8f5e7c2"
      },
      "source": [
        "#set up tolerance dict:USL,LSL,Nominal\n",
        "#Tolerance set up when not drop object type column, not reflect exactly tolerance vs data analysis\n",
        "tolerance={}\n",
        "for column in df.columns[1:(feature_num+1)]:\n",
        "    namecolumn_temp=df[column][7] #df: dataframe latest in for loop\n",
        "    namecolumn_temp=namecolumn_temp.replace('.','')\n",
        "    tolerance[namecolumn_temp] =[df[column][9],df[column][10],df[column][15]]\n",
        "tolerance"
      ],
      "execution_count": 16,
      "outputs": [
        {
          "output_type": "execute_result",
          "data": {
            "text/plain": [
              "{'C-Pitch': [10.01, 9.99, 10],\n",
              " 'I': [3.21, 3.1900000000000004, 3.2],\n",
              " 'J': [1.22, 1.21, 1.21],\n",
              " 'O': [11.86, 11.84, 11.85],\n",
              " 'Z': [0.32, 0.27999999999999997, 0.3]}"
            ]
          },
          "metadata": {
            "tags": []
          },
          "execution_count": 16
        }
      ]
    },
    {
      "cell_type": "code",
      "metadata": {
        "jupyter": {},
        "scrolled": true,
        "trusted": false,
        "id": "BFap3Cp4Z7m4",
        "colab_type": "code",
        "colab": {
          "base_uri": "https://localhost:8080/",
          "height": 102
        },
        "outputId": "aa7b76fa-6f0a-45e9-dcb7-23d0f9f55274"
      },
      "source": [
        "#Create list of dataframe, combine feature value and USL,LSL, Nominal\n",
        "DFdict={}\n",
        "for name in finaldf.columns[1:]:\n",
        "    print('Chart: ',name)\n",
        "        \n",
        "    #Create series USL:\n",
        "    USL = tolerance[name][0]\n",
        "    USL=pd.Series(USL)\n",
        "    s1=pd.DataFrame()\n",
        "    for i in range(len(finaldf)):\n",
        "      s1=pd.concat([s1,USL],axis=0)\n",
        "    s1.rename(columns={0:'USL'},inplace=True)\n",
        "    \n",
        "    #Create series LSL:\n",
        "    LSL = tolerance[name][1]\n",
        "    LSL=pd.Series(LSL)\n",
        "    s2=pd.DataFrame()\n",
        "    for i in range(len(finaldf)):\n",
        "      s2=pd.concat([s2,LSL],axis=0)\n",
        "    s2.rename(columns={0:'LSL'},inplace=True)\n",
        "    \n",
        "    #Create series nominal:\n",
        "    nominal = tolerance[name][2]\n",
        "    nominal=pd.Series(nominal)\n",
        "    s3=pd.DataFrame()\n",
        "    for i in range(len(finaldf)):\n",
        "      s3=pd.concat([s3,nominal],axis=0)\n",
        "    s3.rename(columns={0:'Nominal'},inplace=True)\n",
        "    \n",
        "    #combine Date,feature, LSL,USL,nominal to finaldataframe (for each feature):\n",
        "    finaldf['Datef'].reset_index(drop=True,inplace=True)\n",
        "    finaldf[name].reset_index(drop=True,inplace=True)\n",
        "    s1.reset_index(drop=True,inplace=True)\n",
        "    s2.reset_index(drop=True,inplace=True)\n",
        "    s3.reset_index(drop=True,inplace=True)\n",
        "    df_temp = pd.concat([finaldf['Datef'],finaldf[name],s1,s2,s3],axis=1)  \n",
        "\n",
        "    #Create dict of dataframe for each feature columns:\n",
        "    DFdict[name]=df_temp # Include Date, name, USL, LSL, nominal each parameter(J, I, O or Z...)\n",
        "    #print(DFdict[name][:3])\n",
        "    "
      ],
      "execution_count": 17,
      "outputs": [
        {
          "output_type": "stream",
          "text": [
            "Chart:  C-Pitch\n",
            "Chart:  J\n",
            "Chart:  I\n",
            "Chart:  O\n",
            "Chart:  Z\n"
          ],
          "name": "stdout"
        }
      ]
    },
    {
      "cell_type": "code",
      "metadata": {
        "id": "8NdFSyd1k3Yz",
        "colab_type": "code",
        "colab": {
          "base_uri": "https://localhost:8080/",
          "height": 459
        },
        "outputId": "10815b3b-6889-4809-fc0d-10241e7610f0"
      },
      "source": [
        "print(DFdict.keys())\n",
        "#df=DFdict['J']\n",
        "#print(df.columns)\n",
        "for name in DFdict.keys():\n",
        "  print(name)\n",
        "  print(DFdict[name][:3])"
      ],
      "execution_count": 18,
      "outputs": [
        {
          "output_type": "stream",
          "text": [
            "dict_keys(['C-Pitch', 'J', 'I', 'O', 'Z'])\n",
            "C-Pitch\n",
            "       Datef  C-Pitch    USL   LSL  Nominal\n",
            "0 2019-01-11   10.003  10.01  9.99     10.0\n",
            "1 2019-01-11   10.005  10.01  9.99     10.0\n",
            "2 2019-01-11   10.005  10.01  9.99     10.0\n",
            "J\n",
            "       Datef      J   USL   LSL  Nominal\n",
            "0 2019-01-11  1.219  1.22  1.21     1.21\n",
            "1 2019-01-11  1.219  1.22  1.21     1.21\n",
            "2 2019-01-11  1.219  1.22  1.21     1.21\n",
            "I\n",
            "       Datef      I   USL   LSL  Nominal\n",
            "0 2019-01-11  3.197  3.21  3.19      3.2\n",
            "1 2019-01-11  3.190  3.21  3.19      3.2\n",
            "2 2019-01-11  3.194  3.21  3.19      3.2\n",
            "O\n",
            "       Datef       O    USL    LSL  Nominal\n",
            "0 2019-01-11  11.855  11.86  11.84    11.85\n",
            "1 2019-01-11  11.855  11.86  11.84    11.85\n",
            "2 2019-01-11  11.852  11.86  11.84    11.85\n",
            "Z\n",
            "       Datef     Z   USL   LSL  Nominal\n",
            "0 2019-01-11  0.31  0.32  0.28      0.3\n",
            "1 2019-01-11  0.31  0.32  0.28      0.3\n",
            "2 2019-01-11  0.31  0.32  0.28      0.3\n"
          ],
          "name": "stdout"
        }
      ]
    },
    {
      "cell_type": "code",
      "metadata": {
        "id": "X_T2eWq0jvZy",
        "colab_type": "code",
        "colab": {}
      },
      "source": [
        "DFdict_final={}\n",
        "for name in DFdict.keys():\n",
        "  df=DFdict[name].copy()\n",
        "  df_group=df.groupby('Datef').mean() # mean value by Date\n",
        "  df_group.reset_index(inplace=True)\n",
        "\n",
        "  value_name=df_group.columns[1] #'C-Pitch', 'J', 'I', 'O', 'Z'\n",
        "  df_group[value_name] = df_group[value_name].round(decimals=3)\n",
        "  #---------------------------------------------------------------#\n",
        "\n",
        "  # Create a selection that chooses the nearest point & selects based on x-value\n",
        "  #UCL,LCL,nominal:\n",
        "  sigma=3\n",
        "  df_final = df_group.assign(\n",
        "                UCL=df_group[value_name].mean() + df_group[value_name].std()*sigma,\n",
        "                LCL=df_group[value_name].mean() - df_group[value_name].std()*sigma,\n",
        "                mean=df_group[value_name].mean())\n",
        "  DFdict_final[name]=df_final"
      ],
      "execution_count": 19,
      "outputs": []
    },
    {
      "cell_type": "code",
      "metadata": {
        "id": "wb397bvYnWuo",
        "colab_type": "code",
        "colab": {
          "base_uri": "https://localhost:8080/",
          "height": 459
        },
        "outputId": "e205479f-22d5-4d20-d519-a2517d59aed1"
      },
      "source": [
        "print(DFdict_final.keys())\n",
        "#df=DFdict['J']\n",
        "#print(df.columns)\n",
        "for name in DFdict_final.keys():\n",
        "  print(name)\n",
        "  print(DFdict_final[name][:3])"
      ],
      "execution_count": 20,
      "outputs": [
        {
          "output_type": "stream",
          "text": [
            "dict_keys(['C-Pitch', 'J', 'I', 'O', 'Z'])\n",
            "C-Pitch\n",
            "       Datef  C-Pitch    USL   LSL  Nominal        UCL       LCL       mean\n",
            "0 2019-01-11   10.004  10.01  9.99     10.0  10.006001  9.997142  10.001571\n",
            "1 2019-01-22   10.001  10.01  9.99     10.0  10.006001  9.997142  10.001571\n",
            "2 2019-01-26   10.002  10.01  9.99     10.0  10.006001  9.997142  10.001571\n",
            "J\n",
            "       Datef      J   USL   LSL  Nominal       UCL       LCL      mean\n",
            "0 2019-01-11  1.219  1.22  1.21     1.21  1.222084  1.216344  1.219214\n",
            "1 2019-01-22  1.219  1.22  1.21     1.21  1.222084  1.216344  1.219214\n",
            "2 2019-01-26  1.220  1.22  1.21     1.21  1.222084  1.216344  1.219214\n",
            "I\n",
            "       Datef      I   USL   LSL  Nominal       UCL       LCL      mean\n",
            "0 2019-01-11  3.194  3.21  3.19      3.2  3.206102  3.191327  3.198714\n",
            "1 2019-01-22  3.199  3.21  3.19      3.2  3.206102  3.191327  3.198714\n",
            "2 2019-01-26  3.200  3.21  3.19      3.2  3.206102  3.191327  3.198714\n",
            "O\n",
            "       Datef       O    USL    LSL  Nominal        UCL        LCL       mean\n",
            "0 2019-01-11  11.853  11.86  11.84    11.85  11.862448  11.843409  11.852929\n",
            "1 2019-01-22  11.852  11.86  11.84    11.85  11.862448  11.843409  11.852929\n",
            "2 2019-01-26  11.853  11.86  11.84    11.85  11.862448  11.843409  11.852929\n",
            "Z\n",
            "       Datef      Z   USL   LSL  Nominal       UCL       LCL      mean\n",
            "0 2019-01-11  0.310  0.32  0.28      0.3  0.317891  0.306895  0.312393\n",
            "1 2019-01-22  0.311  0.32  0.28      0.3  0.317891  0.306895  0.312393\n",
            "2 2019-01-26  0.311  0.32  0.28      0.3  0.317891  0.306895  0.312393\n"
          ],
          "name": "stdout"
        }
      ]
    },
    {
      "cell_type": "markdown",
      "metadata": {
        "id": "SFfsyAvj9ksN",
        "colab_type": "text"
      },
      "source": [
        "### Line chart plotly"
      ]
    },
    {
      "cell_type": "code",
      "metadata": {
        "id": "HiJ1RZujQXqE",
        "colab_type": "code",
        "colab": {
          "base_uri": "https://localhost:8080/",
          "height": 1000
        },
        "outputId": "c0eaf4a7-09e4-4f0f-a9f3-92ca4a3ad3d9"
      },
      "source": [
        "i=1\n",
        "#Layout\n",
        "fig = make_subplots(\n",
        "    rows=len(DFdict_final), cols=1,\n",
        "    #shared_xaxes=True,\n",
        "    #vertical_spacing=0.03,\n",
        "    #column_widths=[0.8, 0.2],\n",
        "    #subplot_titles=(\"Line plot \"+name)\n",
        ")\n",
        "for name in DFdict_final.keys(): #also group\n",
        "  df=DFdict_final[name].copy()\n",
        "  df=df.sort_values(by=['Datef'])\n",
        "  for a in df.columns[1:]:\n",
        "    df[a] = df[a].round(decimals=3)\n",
        "\n",
        "  #Control chart 1 \n",
        "  fig.append_trace(go.Scatter(\n",
        "                          x=df['Datef'], y=df[name],\n",
        "                          mode='lines+markers',\n",
        "                          name='mean ' + name,line=dict( color='#4280F5')\n",
        "                          ),row=i, col=1\n",
        "                )\n",
        "  #USL, LSL\n",
        "  fig.append_trace(go.Scatter(x=df['Datef'], y=df['USL'],name='USL '+name, line=dict( color='#FF5733')),row=i, col=1)\n",
        "  fig.append_trace(go.Scatter(x=df['Datef'], y=df['LSL'],name='LSL '+name,line=dict( color='#FF5733')),row=i, col=1)\n",
        "  fig.append_trace(go.Scatter(x=df['Datef'], y=df['Nominal'],name='Nominal '+name,line=dict( color='#FF5733')),row=i, col=1)\n",
        "  # UCL, LCL\n",
        "  fig.append_trace(go.Scatter(x=df['Datef'], y=df['UCL'],name='UCL '+name, line=dict( color='#33C2FF')),row=i, col=1)\n",
        "  fig.append_trace(go.Scatter(x=df['Datef'], y=df['LCL'],name='LCL '+name, line=dict( color='#33C2FF')),row=i, col=1)\n",
        "  fig.append_trace(go.Scatter(x=df['Datef'], y=df['mean'],name='mean '+name, line=dict( color='#33C2FF')),row=i, col=1)\n",
        "\n",
        "  #Final layout:\n",
        "  #fig.update_layout(height=400, width=1400, title_text='Line chart'+name)\n",
        "  i=i+1\n",
        "  \n",
        "fig.update_layout(height=300*len(DFdict_final), width=1200, title_text='Line chart')\n",
        "fig.show()"
      ],
      "execution_count": 21,
      "outputs": [
        {
          "output_type": "display_data",
          "data": {
            "text/html": [
              "<html>\n",
              "<head><meta charset=\"utf-8\" /></head>\n",
              "<body>\n",
              "    <div>\n",
              "            <script src=\"https://cdnjs.cloudflare.com/ajax/libs/mathjax/2.7.5/MathJax.js?config=TeX-AMS-MML_SVG\"></script><script type=\"text/javascript\">if (window.MathJax) {MathJax.Hub.Config({SVG: {font: \"STIX-Web\"}});}</script>\n",
              "                <script type=\"text/javascript\">window.PlotlyConfig = {MathJaxConfig: 'local'};</script>\n",
              "        <script src=\"https://cdn.plot.ly/plotly-latest.min.js\"></script>    \n",
              "            <div id=\"499b781d-382c-4be7-803c-829287d9c2e3\" class=\"plotly-graph-div\" style=\"height:1500px; width:1200px;\"></div>\n",
              "            <script type=\"text/javascript\">\n",
              "                \n",
              "                    window.PLOTLYENV=window.PLOTLYENV || {};\n",
              "                    \n",
              "                if (document.getElementById(\"499b781d-382c-4be7-803c-829287d9c2e3\")) {\n",
              "                    Plotly.newPlot(\n",
              "                        '499b781d-382c-4be7-803c-829287d9c2e3',\n",
              "                        [{\"line\": {\"color\": \"#4280F5\"}, \"mode\": \"lines+markers\", \"name\": \"mean C-Pitch\", \"type\": \"scatter\", \"x\": [\"2019-01-11T00:00:00\", \"2019-01-22T00:00:00\", \"2019-01-26T00:00:00\", \"2019-01-31T00:00:00\", \"2019-02-11T00:00:00\", \"2019-02-22T00:00:00\", \"2019-02-27T00:00:00\", \"2019-03-07T00:00:00\", \"2019-03-15T00:00:00\", \"2019-04-05T00:00:00\", \"2019-04-16T00:00:00\", \"2019-05-27T00:00:00\", \"2019-06-03T00:00:00\", \"2019-06-10T00:00:00\", \"2019-06-17T00:00:00\", \"2019-06-25T00:00:00\", \"2019-06-28T00:00:00\", \"2019-08-07T00:00:00\", \"2019-08-19T00:00:00\", \"2019-08-26T00:00:00\", \"2019-09-05T00:00:00\", \"2019-10-17T00:00:00\", \"2019-11-01T00:00:00\", \"2019-11-13T00:00:00\", \"2019-12-05T00:00:00\", \"2019-12-10T00:00:00\", \"2019-12-26T00:00:00\", \"2019-12-31T00:00:00\"], \"xaxis\": \"x\", \"y\": [10.004, 10.001, 10.002, 10.003, 10.003, 10.002, 10.003, 10.002, 9.998, 10.002, 10.003, 10.004, 10.001, 10.0, 10.002, 10.001, 10.002, 10.001, 10.0, 10.001, 10.002, 10.0, 10.0, 10.002, 10.0, 10.003, 10.003, 9.999], \"yaxis\": \"y\"}, {\"line\": {\"color\": \"#FF5733\"}, \"name\": \"USL C-Pitch\", \"type\": \"scatter\", \"x\": [\"2019-01-11T00:00:00\", \"2019-01-22T00:00:00\", \"2019-01-26T00:00:00\", \"2019-01-31T00:00:00\", \"2019-02-11T00:00:00\", \"2019-02-22T00:00:00\", \"2019-02-27T00:00:00\", \"2019-03-07T00:00:00\", \"2019-03-15T00:00:00\", \"2019-04-05T00:00:00\", \"2019-04-16T00:00:00\", \"2019-05-27T00:00:00\", \"2019-06-03T00:00:00\", \"2019-06-10T00:00:00\", \"2019-06-17T00:00:00\", \"2019-06-25T00:00:00\", \"2019-06-28T00:00:00\", \"2019-08-07T00:00:00\", \"2019-08-19T00:00:00\", \"2019-08-26T00:00:00\", \"2019-09-05T00:00:00\", \"2019-10-17T00:00:00\", \"2019-11-01T00:00:00\", \"2019-11-13T00:00:00\", \"2019-12-05T00:00:00\", \"2019-12-10T00:00:00\", \"2019-12-26T00:00:00\", \"2019-12-31T00:00:00\"], \"xaxis\": \"x\", \"y\": [10.01, 10.01, 10.01, 10.01, 10.01, 10.01, 10.01, 10.01, 10.01, 10.01, 10.01, 10.01, 10.01, 10.01, 10.01, 10.01, 10.01, 10.01, 10.01, 10.01, 10.01, 10.01, 10.01, 10.01, 10.01, 10.01, 10.01, 10.01], \"yaxis\": \"y\"}, {\"line\": {\"color\": \"#FF5733\"}, \"name\": \"LSL C-Pitch\", \"type\": \"scatter\", \"x\": [\"2019-01-11T00:00:00\", \"2019-01-22T00:00:00\", \"2019-01-26T00:00:00\", \"2019-01-31T00:00:00\", \"2019-02-11T00:00:00\", \"2019-02-22T00:00:00\", \"2019-02-27T00:00:00\", \"2019-03-07T00:00:00\", \"2019-03-15T00:00:00\", \"2019-04-05T00:00:00\", \"2019-04-16T00:00:00\", \"2019-05-27T00:00:00\", \"2019-06-03T00:00:00\", \"2019-06-10T00:00:00\", \"2019-06-17T00:00:00\", \"2019-06-25T00:00:00\", \"2019-06-28T00:00:00\", \"2019-08-07T00:00:00\", \"2019-08-19T00:00:00\", \"2019-08-26T00:00:00\", \"2019-09-05T00:00:00\", \"2019-10-17T00:00:00\", \"2019-11-01T00:00:00\", \"2019-11-13T00:00:00\", \"2019-12-05T00:00:00\", \"2019-12-10T00:00:00\", \"2019-12-26T00:00:00\", \"2019-12-31T00:00:00\"], \"xaxis\": \"x\", \"y\": [9.99, 9.99, 9.99, 9.99, 9.99, 9.99, 9.99, 9.99, 9.99, 9.99, 9.99, 9.99, 9.99, 9.99, 9.99, 9.99, 9.99, 9.99, 9.99, 9.99, 9.99, 9.99, 9.99, 9.99, 9.99, 9.99, 9.99, 9.99], \"yaxis\": \"y\"}, {\"line\": {\"color\": \"#FF5733\"}, \"name\": \"Nominal C-Pitch\", \"type\": \"scatter\", \"x\": [\"2019-01-11T00:00:00\", \"2019-01-22T00:00:00\", \"2019-01-26T00:00:00\", \"2019-01-31T00:00:00\", \"2019-02-11T00:00:00\", \"2019-02-22T00:00:00\", \"2019-02-27T00:00:00\", \"2019-03-07T00:00:00\", \"2019-03-15T00:00:00\", \"2019-04-05T00:00:00\", \"2019-04-16T00:00:00\", \"2019-05-27T00:00:00\", \"2019-06-03T00:00:00\", \"2019-06-10T00:00:00\", \"2019-06-17T00:00:00\", \"2019-06-25T00:00:00\", \"2019-06-28T00:00:00\", \"2019-08-07T00:00:00\", \"2019-08-19T00:00:00\", \"2019-08-26T00:00:00\", \"2019-09-05T00:00:00\", \"2019-10-17T00:00:00\", \"2019-11-01T00:00:00\", \"2019-11-13T00:00:00\", \"2019-12-05T00:00:00\", \"2019-12-10T00:00:00\", \"2019-12-26T00:00:00\", \"2019-12-31T00:00:00\"], \"xaxis\": \"x\", \"y\": [10.0, 10.0, 10.0, 10.0, 10.0, 10.0, 10.0, 10.0, 10.0, 10.0, 10.0, 10.0, 10.0, 10.0, 10.0, 10.0, 10.0, 10.0, 10.0, 10.0, 10.0, 10.0, 10.0, 10.0, 10.0, 10.0, 10.0, 10.0], \"yaxis\": \"y\"}, {\"line\": {\"color\": \"#33C2FF\"}, \"name\": \"UCL C-Pitch\", \"type\": \"scatter\", \"x\": [\"2019-01-11T00:00:00\", \"2019-01-22T00:00:00\", \"2019-01-26T00:00:00\", \"2019-01-31T00:00:00\", \"2019-02-11T00:00:00\", \"2019-02-22T00:00:00\", \"2019-02-27T00:00:00\", \"2019-03-07T00:00:00\", \"2019-03-15T00:00:00\", \"2019-04-05T00:00:00\", \"2019-04-16T00:00:00\", \"2019-05-27T00:00:00\", \"2019-06-03T00:00:00\", \"2019-06-10T00:00:00\", \"2019-06-17T00:00:00\", \"2019-06-25T00:00:00\", \"2019-06-28T00:00:00\", \"2019-08-07T00:00:00\", \"2019-08-19T00:00:00\", \"2019-08-26T00:00:00\", \"2019-09-05T00:00:00\", \"2019-10-17T00:00:00\", \"2019-11-01T00:00:00\", \"2019-11-13T00:00:00\", \"2019-12-05T00:00:00\", \"2019-12-10T00:00:00\", \"2019-12-26T00:00:00\", \"2019-12-31T00:00:00\"], \"xaxis\": \"x\", \"y\": [10.006, 10.006, 10.006, 10.006, 10.006, 10.006, 10.006, 10.006, 10.006, 10.006, 10.006, 10.006, 10.006, 10.006, 10.006, 10.006, 10.006, 10.006, 10.006, 10.006, 10.006, 10.006, 10.006, 10.006, 10.006, 10.006, 10.006, 10.006], \"yaxis\": \"y\"}, {\"line\": {\"color\": \"#33C2FF\"}, \"name\": \"LCL C-Pitch\", \"type\": \"scatter\", \"x\": [\"2019-01-11T00:00:00\", \"2019-01-22T00:00:00\", \"2019-01-26T00:00:00\", \"2019-01-31T00:00:00\", \"2019-02-11T00:00:00\", \"2019-02-22T00:00:00\", \"2019-02-27T00:00:00\", \"2019-03-07T00:00:00\", \"2019-03-15T00:00:00\", \"2019-04-05T00:00:00\", \"2019-04-16T00:00:00\", \"2019-05-27T00:00:00\", \"2019-06-03T00:00:00\", \"2019-06-10T00:00:00\", \"2019-06-17T00:00:00\", \"2019-06-25T00:00:00\", \"2019-06-28T00:00:00\", \"2019-08-07T00:00:00\", \"2019-08-19T00:00:00\", \"2019-08-26T00:00:00\", \"2019-09-05T00:00:00\", \"2019-10-17T00:00:00\", \"2019-11-01T00:00:00\", \"2019-11-13T00:00:00\", \"2019-12-05T00:00:00\", \"2019-12-10T00:00:00\", \"2019-12-26T00:00:00\", \"2019-12-31T00:00:00\"], \"xaxis\": \"x\", \"y\": [9.997, 9.997, 9.997, 9.997, 9.997, 9.997, 9.997, 9.997, 9.997, 9.997, 9.997, 9.997, 9.997, 9.997, 9.997, 9.997, 9.997, 9.997, 9.997, 9.997, 9.997, 9.997, 9.997, 9.997, 9.997, 9.997, 9.997, 9.997], \"yaxis\": \"y\"}, {\"line\": {\"color\": \"#33C2FF\"}, \"name\": \"mean C-Pitch\", \"type\": \"scatter\", \"x\": [\"2019-01-11T00:00:00\", \"2019-01-22T00:00:00\", \"2019-01-26T00:00:00\", \"2019-01-31T00:00:00\", \"2019-02-11T00:00:00\", \"2019-02-22T00:00:00\", \"2019-02-27T00:00:00\", \"2019-03-07T00:00:00\", \"2019-03-15T00:00:00\", \"2019-04-05T00:00:00\", \"2019-04-16T00:00:00\", \"2019-05-27T00:00:00\", \"2019-06-03T00:00:00\", \"2019-06-10T00:00:00\", \"2019-06-17T00:00:00\", \"2019-06-25T00:00:00\", \"2019-06-28T00:00:00\", \"2019-08-07T00:00:00\", \"2019-08-19T00:00:00\", \"2019-08-26T00:00:00\", \"2019-09-05T00:00:00\", \"2019-10-17T00:00:00\", \"2019-11-01T00:00:00\", \"2019-11-13T00:00:00\", \"2019-12-05T00:00:00\", \"2019-12-10T00:00:00\", \"2019-12-26T00:00:00\", \"2019-12-31T00:00:00\"], \"xaxis\": \"x\", \"y\": [10.002, 10.002, 10.002, 10.002, 10.002, 10.002, 10.002, 10.002, 10.002, 10.002, 10.002, 10.002, 10.002, 10.002, 10.002, 10.002, 10.002, 10.002, 10.002, 10.002, 10.002, 10.002, 10.002, 10.002, 10.002, 10.002, 10.002, 10.002], \"yaxis\": \"y\"}, {\"line\": {\"color\": \"#4280F5\"}, \"mode\": \"lines+markers\", \"name\": \"mean J\", \"type\": \"scatter\", \"x\": [\"2019-01-11T00:00:00\", \"2019-01-22T00:00:00\", \"2019-01-26T00:00:00\", \"2019-01-31T00:00:00\", \"2019-02-11T00:00:00\", \"2019-02-22T00:00:00\", \"2019-02-27T00:00:00\", \"2019-03-07T00:00:00\", \"2019-03-15T00:00:00\", \"2019-04-05T00:00:00\", \"2019-04-16T00:00:00\", \"2019-05-27T00:00:00\", \"2019-06-03T00:00:00\", \"2019-06-10T00:00:00\", \"2019-06-17T00:00:00\", \"2019-06-25T00:00:00\", \"2019-06-28T00:00:00\", \"2019-08-07T00:00:00\", \"2019-08-19T00:00:00\", \"2019-08-26T00:00:00\", \"2019-09-05T00:00:00\", \"2019-10-17T00:00:00\", \"2019-11-01T00:00:00\", \"2019-11-13T00:00:00\", \"2019-12-05T00:00:00\", \"2019-12-10T00:00:00\", \"2019-12-26T00:00:00\", \"2019-12-31T00:00:00\"], \"xaxis\": \"x2\", \"y\": [1.219, 1.219, 1.22, 1.22, 1.22, 1.22, 1.22, 1.22, 1.219, 1.22, 1.22, 1.22, 1.22, 1.22, 1.218, 1.219, 1.218, 1.217, 1.217, 1.219, 1.218, 1.22, 1.22, 1.219, 1.219, 1.22, 1.219, 1.218], \"yaxis\": \"y2\"}, {\"line\": {\"color\": \"#FF5733\"}, \"name\": \"USL J\", \"type\": \"scatter\", \"x\": [\"2019-01-11T00:00:00\", \"2019-01-22T00:00:00\", \"2019-01-26T00:00:00\", \"2019-01-31T00:00:00\", \"2019-02-11T00:00:00\", \"2019-02-22T00:00:00\", \"2019-02-27T00:00:00\", \"2019-03-07T00:00:00\", \"2019-03-15T00:00:00\", \"2019-04-05T00:00:00\", \"2019-04-16T00:00:00\", \"2019-05-27T00:00:00\", \"2019-06-03T00:00:00\", \"2019-06-10T00:00:00\", \"2019-06-17T00:00:00\", \"2019-06-25T00:00:00\", \"2019-06-28T00:00:00\", \"2019-08-07T00:00:00\", \"2019-08-19T00:00:00\", \"2019-08-26T00:00:00\", \"2019-09-05T00:00:00\", \"2019-10-17T00:00:00\", \"2019-11-01T00:00:00\", \"2019-11-13T00:00:00\", \"2019-12-05T00:00:00\", \"2019-12-10T00:00:00\", \"2019-12-26T00:00:00\", \"2019-12-31T00:00:00\"], \"xaxis\": \"x2\", \"y\": [1.22, 1.22, 1.22, 1.22, 1.22, 1.22, 1.22, 1.22, 1.22, 1.22, 1.22, 1.22, 1.22, 1.22, 1.22, 1.22, 1.22, 1.22, 1.22, 1.22, 1.22, 1.22, 1.22, 1.22, 1.22, 1.22, 1.22, 1.22], \"yaxis\": \"y2\"}, {\"line\": {\"color\": \"#FF5733\"}, \"name\": \"LSL J\", \"type\": \"scatter\", \"x\": [\"2019-01-11T00:00:00\", \"2019-01-22T00:00:00\", \"2019-01-26T00:00:00\", \"2019-01-31T00:00:00\", \"2019-02-11T00:00:00\", \"2019-02-22T00:00:00\", \"2019-02-27T00:00:00\", \"2019-03-07T00:00:00\", \"2019-03-15T00:00:00\", \"2019-04-05T00:00:00\", \"2019-04-16T00:00:00\", \"2019-05-27T00:00:00\", \"2019-06-03T00:00:00\", \"2019-06-10T00:00:00\", \"2019-06-17T00:00:00\", \"2019-06-25T00:00:00\", \"2019-06-28T00:00:00\", \"2019-08-07T00:00:00\", \"2019-08-19T00:00:00\", \"2019-08-26T00:00:00\", \"2019-09-05T00:00:00\", \"2019-10-17T00:00:00\", \"2019-11-01T00:00:00\", \"2019-11-13T00:00:00\", \"2019-12-05T00:00:00\", \"2019-12-10T00:00:00\", \"2019-12-26T00:00:00\", \"2019-12-31T00:00:00\"], \"xaxis\": \"x2\", \"y\": [1.21, 1.21, 1.21, 1.21, 1.21, 1.21, 1.21, 1.21, 1.21, 1.21, 1.21, 1.21, 1.21, 1.21, 1.21, 1.21, 1.21, 1.21, 1.21, 1.21, 1.21, 1.21, 1.21, 1.21, 1.21, 1.21, 1.21, 1.21], \"yaxis\": \"y2\"}, {\"line\": {\"color\": \"#FF5733\"}, \"name\": \"Nominal J\", \"type\": \"scatter\", \"x\": [\"2019-01-11T00:00:00\", \"2019-01-22T00:00:00\", \"2019-01-26T00:00:00\", \"2019-01-31T00:00:00\", \"2019-02-11T00:00:00\", \"2019-02-22T00:00:00\", \"2019-02-27T00:00:00\", \"2019-03-07T00:00:00\", \"2019-03-15T00:00:00\", \"2019-04-05T00:00:00\", \"2019-04-16T00:00:00\", \"2019-05-27T00:00:00\", \"2019-06-03T00:00:00\", \"2019-06-10T00:00:00\", \"2019-06-17T00:00:00\", \"2019-06-25T00:00:00\", \"2019-06-28T00:00:00\", \"2019-08-07T00:00:00\", \"2019-08-19T00:00:00\", \"2019-08-26T00:00:00\", \"2019-09-05T00:00:00\", \"2019-10-17T00:00:00\", \"2019-11-01T00:00:00\", \"2019-11-13T00:00:00\", \"2019-12-05T00:00:00\", \"2019-12-10T00:00:00\", \"2019-12-26T00:00:00\", \"2019-12-31T00:00:00\"], \"xaxis\": \"x2\", \"y\": [1.21, 1.21, 1.21, 1.21, 1.21, 1.21, 1.21, 1.21, 1.21, 1.21, 1.21, 1.21, 1.21, 1.21, 1.21, 1.21, 1.21, 1.21, 1.21, 1.21, 1.21, 1.21, 1.21, 1.21, 1.21, 1.21, 1.21, 1.21], \"yaxis\": \"y2\"}, {\"line\": {\"color\": \"#33C2FF\"}, \"name\": \"UCL J\", \"type\": \"scatter\", \"x\": [\"2019-01-11T00:00:00\", \"2019-01-22T00:00:00\", \"2019-01-26T00:00:00\", \"2019-01-31T00:00:00\", \"2019-02-11T00:00:00\", \"2019-02-22T00:00:00\", \"2019-02-27T00:00:00\", \"2019-03-07T00:00:00\", \"2019-03-15T00:00:00\", \"2019-04-05T00:00:00\", \"2019-04-16T00:00:00\", \"2019-05-27T00:00:00\", \"2019-06-03T00:00:00\", \"2019-06-10T00:00:00\", \"2019-06-17T00:00:00\", \"2019-06-25T00:00:00\", \"2019-06-28T00:00:00\", \"2019-08-07T00:00:00\", \"2019-08-19T00:00:00\", \"2019-08-26T00:00:00\", \"2019-09-05T00:00:00\", \"2019-10-17T00:00:00\", \"2019-11-01T00:00:00\", \"2019-11-13T00:00:00\", \"2019-12-05T00:00:00\", \"2019-12-10T00:00:00\", \"2019-12-26T00:00:00\", \"2019-12-31T00:00:00\"], \"xaxis\": \"x2\", \"y\": [1.222, 1.222, 1.222, 1.222, 1.222, 1.222, 1.222, 1.222, 1.222, 1.222, 1.222, 1.222, 1.222, 1.222, 1.222, 1.222, 1.222, 1.222, 1.222, 1.222, 1.222, 1.222, 1.222, 1.222, 1.222, 1.222, 1.222, 1.222], \"yaxis\": \"y2\"}, {\"line\": {\"color\": \"#33C2FF\"}, \"name\": \"LCL J\", \"type\": \"scatter\", \"x\": [\"2019-01-11T00:00:00\", \"2019-01-22T00:00:00\", \"2019-01-26T00:00:00\", \"2019-01-31T00:00:00\", \"2019-02-11T00:00:00\", \"2019-02-22T00:00:00\", \"2019-02-27T00:00:00\", \"2019-03-07T00:00:00\", \"2019-03-15T00:00:00\", \"2019-04-05T00:00:00\", \"2019-04-16T00:00:00\", \"2019-05-27T00:00:00\", \"2019-06-03T00:00:00\", \"2019-06-10T00:00:00\", \"2019-06-17T00:00:00\", \"2019-06-25T00:00:00\", \"2019-06-28T00:00:00\", \"2019-08-07T00:00:00\", \"2019-08-19T00:00:00\", \"2019-08-26T00:00:00\", \"2019-09-05T00:00:00\", \"2019-10-17T00:00:00\", \"2019-11-01T00:00:00\", \"2019-11-13T00:00:00\", \"2019-12-05T00:00:00\", \"2019-12-10T00:00:00\", \"2019-12-26T00:00:00\", \"2019-12-31T00:00:00\"], \"xaxis\": \"x2\", \"y\": [1.216, 1.216, 1.216, 1.216, 1.216, 1.216, 1.216, 1.216, 1.216, 1.216, 1.216, 1.216, 1.216, 1.216, 1.216, 1.216, 1.216, 1.216, 1.216, 1.216, 1.216, 1.216, 1.216, 1.216, 1.216, 1.216, 1.216, 1.216], \"yaxis\": \"y2\"}, {\"line\": {\"color\": \"#33C2FF\"}, \"name\": \"mean J\", \"type\": \"scatter\", \"x\": [\"2019-01-11T00:00:00\", \"2019-01-22T00:00:00\", \"2019-01-26T00:00:00\", \"2019-01-31T00:00:00\", \"2019-02-11T00:00:00\", \"2019-02-22T00:00:00\", \"2019-02-27T00:00:00\", \"2019-03-07T00:00:00\", \"2019-03-15T00:00:00\", \"2019-04-05T00:00:00\", \"2019-04-16T00:00:00\", \"2019-05-27T00:00:00\", \"2019-06-03T00:00:00\", \"2019-06-10T00:00:00\", \"2019-06-17T00:00:00\", \"2019-06-25T00:00:00\", \"2019-06-28T00:00:00\", \"2019-08-07T00:00:00\", \"2019-08-19T00:00:00\", \"2019-08-26T00:00:00\", \"2019-09-05T00:00:00\", \"2019-10-17T00:00:00\", \"2019-11-01T00:00:00\", \"2019-11-13T00:00:00\", \"2019-12-05T00:00:00\", \"2019-12-10T00:00:00\", \"2019-12-26T00:00:00\", \"2019-12-31T00:00:00\"], \"xaxis\": \"x2\", \"y\": [1.219, 1.219, 1.219, 1.219, 1.219, 1.219, 1.219, 1.219, 1.219, 1.219, 1.219, 1.219, 1.219, 1.219, 1.219, 1.219, 1.219, 1.219, 1.219, 1.219, 1.219, 1.219, 1.219, 1.219, 1.219, 1.219, 1.219, 1.219], \"yaxis\": \"y2\"}, {\"line\": {\"color\": \"#4280F5\"}, \"mode\": \"lines+markers\", \"name\": \"mean I\", \"type\": \"scatter\", \"x\": [\"2019-01-11T00:00:00\", \"2019-01-22T00:00:00\", \"2019-01-26T00:00:00\", \"2019-01-31T00:00:00\", \"2019-02-11T00:00:00\", \"2019-02-22T00:00:00\", \"2019-02-27T00:00:00\", \"2019-03-07T00:00:00\", \"2019-03-15T00:00:00\", \"2019-04-05T00:00:00\", \"2019-04-16T00:00:00\", \"2019-05-27T00:00:00\", \"2019-06-03T00:00:00\", \"2019-06-10T00:00:00\", \"2019-06-17T00:00:00\", \"2019-06-25T00:00:00\", \"2019-06-28T00:00:00\", \"2019-08-07T00:00:00\", \"2019-08-19T00:00:00\", \"2019-08-26T00:00:00\", \"2019-09-05T00:00:00\", \"2019-10-17T00:00:00\", \"2019-11-01T00:00:00\", \"2019-11-13T00:00:00\", \"2019-12-05T00:00:00\", \"2019-12-10T00:00:00\", \"2019-12-26T00:00:00\", \"2019-12-31T00:00:00\"], \"xaxis\": \"x3\", \"y\": [3.194, 3.199, 3.2, 3.196, 3.195, 3.198, 3.195, 3.195, 3.199, 3.2, 3.2, 3.199, 3.2, 3.204, 3.197, 3.195, 3.2, 3.201, 3.201, 3.2, 3.201, 3.198, 3.198, 3.197, 3.199, 3.2, 3.202, 3.201], \"yaxis\": \"y3\"}, {\"line\": {\"color\": \"#FF5733\"}, \"name\": \"USL I\", \"type\": \"scatter\", \"x\": [\"2019-01-11T00:00:00\", \"2019-01-22T00:00:00\", \"2019-01-26T00:00:00\", \"2019-01-31T00:00:00\", \"2019-02-11T00:00:00\", \"2019-02-22T00:00:00\", \"2019-02-27T00:00:00\", \"2019-03-07T00:00:00\", \"2019-03-15T00:00:00\", \"2019-04-05T00:00:00\", \"2019-04-16T00:00:00\", \"2019-05-27T00:00:00\", \"2019-06-03T00:00:00\", \"2019-06-10T00:00:00\", \"2019-06-17T00:00:00\", \"2019-06-25T00:00:00\", \"2019-06-28T00:00:00\", \"2019-08-07T00:00:00\", \"2019-08-19T00:00:00\", \"2019-08-26T00:00:00\", \"2019-09-05T00:00:00\", \"2019-10-17T00:00:00\", \"2019-11-01T00:00:00\", \"2019-11-13T00:00:00\", \"2019-12-05T00:00:00\", \"2019-12-10T00:00:00\", \"2019-12-26T00:00:00\", \"2019-12-31T00:00:00\"], \"xaxis\": \"x3\", \"y\": [3.21, 3.21, 3.21, 3.21, 3.21, 3.21, 3.21, 3.21, 3.21, 3.21, 3.21, 3.21, 3.21, 3.21, 3.21, 3.21, 3.21, 3.21, 3.21, 3.21, 3.21, 3.21, 3.21, 3.21, 3.21, 3.21, 3.21, 3.21], \"yaxis\": \"y3\"}, {\"line\": {\"color\": \"#FF5733\"}, \"name\": \"LSL I\", \"type\": \"scatter\", \"x\": [\"2019-01-11T00:00:00\", \"2019-01-22T00:00:00\", \"2019-01-26T00:00:00\", \"2019-01-31T00:00:00\", \"2019-02-11T00:00:00\", \"2019-02-22T00:00:00\", \"2019-02-27T00:00:00\", \"2019-03-07T00:00:00\", \"2019-03-15T00:00:00\", \"2019-04-05T00:00:00\", \"2019-04-16T00:00:00\", \"2019-05-27T00:00:00\", \"2019-06-03T00:00:00\", \"2019-06-10T00:00:00\", \"2019-06-17T00:00:00\", \"2019-06-25T00:00:00\", \"2019-06-28T00:00:00\", \"2019-08-07T00:00:00\", \"2019-08-19T00:00:00\", \"2019-08-26T00:00:00\", \"2019-09-05T00:00:00\", \"2019-10-17T00:00:00\", \"2019-11-01T00:00:00\", \"2019-11-13T00:00:00\", \"2019-12-05T00:00:00\", \"2019-12-10T00:00:00\", \"2019-12-26T00:00:00\", \"2019-12-31T00:00:00\"], \"xaxis\": \"x3\", \"y\": [3.19, 3.19, 3.19, 3.19, 3.19, 3.19, 3.19, 3.19, 3.19, 3.19, 3.19, 3.19, 3.19, 3.19, 3.19, 3.19, 3.19, 3.19, 3.19, 3.19, 3.19, 3.19, 3.19, 3.19, 3.19, 3.19, 3.19, 3.19], \"yaxis\": \"y3\"}, {\"line\": {\"color\": \"#FF5733\"}, \"name\": \"Nominal I\", \"type\": \"scatter\", \"x\": [\"2019-01-11T00:00:00\", \"2019-01-22T00:00:00\", \"2019-01-26T00:00:00\", \"2019-01-31T00:00:00\", \"2019-02-11T00:00:00\", \"2019-02-22T00:00:00\", \"2019-02-27T00:00:00\", \"2019-03-07T00:00:00\", \"2019-03-15T00:00:00\", \"2019-04-05T00:00:00\", \"2019-04-16T00:00:00\", \"2019-05-27T00:00:00\", \"2019-06-03T00:00:00\", \"2019-06-10T00:00:00\", \"2019-06-17T00:00:00\", \"2019-06-25T00:00:00\", \"2019-06-28T00:00:00\", \"2019-08-07T00:00:00\", \"2019-08-19T00:00:00\", \"2019-08-26T00:00:00\", \"2019-09-05T00:00:00\", \"2019-10-17T00:00:00\", \"2019-11-01T00:00:00\", \"2019-11-13T00:00:00\", \"2019-12-05T00:00:00\", \"2019-12-10T00:00:00\", \"2019-12-26T00:00:00\", \"2019-12-31T00:00:00\"], \"xaxis\": \"x3\", \"y\": [3.2, 3.2, 3.2, 3.2, 3.2, 3.2, 3.2, 3.2, 3.2, 3.2, 3.2, 3.2, 3.2, 3.2, 3.2, 3.2, 3.2, 3.2, 3.2, 3.2, 3.2, 3.2, 3.2, 3.2, 3.2, 3.2, 3.2, 3.2], \"yaxis\": \"y3\"}, {\"line\": {\"color\": \"#33C2FF\"}, \"name\": \"UCL I\", \"type\": \"scatter\", \"x\": [\"2019-01-11T00:00:00\", \"2019-01-22T00:00:00\", \"2019-01-26T00:00:00\", \"2019-01-31T00:00:00\", \"2019-02-11T00:00:00\", \"2019-02-22T00:00:00\", \"2019-02-27T00:00:00\", \"2019-03-07T00:00:00\", \"2019-03-15T00:00:00\", \"2019-04-05T00:00:00\", \"2019-04-16T00:00:00\", \"2019-05-27T00:00:00\", \"2019-06-03T00:00:00\", \"2019-06-10T00:00:00\", \"2019-06-17T00:00:00\", \"2019-06-25T00:00:00\", \"2019-06-28T00:00:00\", \"2019-08-07T00:00:00\", \"2019-08-19T00:00:00\", \"2019-08-26T00:00:00\", \"2019-09-05T00:00:00\", \"2019-10-17T00:00:00\", \"2019-11-01T00:00:00\", \"2019-11-13T00:00:00\", \"2019-12-05T00:00:00\", \"2019-12-10T00:00:00\", \"2019-12-26T00:00:00\", \"2019-12-31T00:00:00\"], \"xaxis\": \"x3\", \"y\": [3.206, 3.206, 3.206, 3.206, 3.206, 3.206, 3.206, 3.206, 3.206, 3.206, 3.206, 3.206, 3.206, 3.206, 3.206, 3.206, 3.206, 3.206, 3.206, 3.206, 3.206, 3.206, 3.206, 3.206, 3.206, 3.206, 3.206, 3.206], \"yaxis\": \"y3\"}, {\"line\": {\"color\": \"#33C2FF\"}, \"name\": \"LCL I\", \"type\": \"scatter\", \"x\": [\"2019-01-11T00:00:00\", \"2019-01-22T00:00:00\", \"2019-01-26T00:00:00\", \"2019-01-31T00:00:00\", \"2019-02-11T00:00:00\", \"2019-02-22T00:00:00\", \"2019-02-27T00:00:00\", \"2019-03-07T00:00:00\", \"2019-03-15T00:00:00\", \"2019-04-05T00:00:00\", \"2019-04-16T00:00:00\", \"2019-05-27T00:00:00\", \"2019-06-03T00:00:00\", \"2019-06-10T00:00:00\", \"2019-06-17T00:00:00\", \"2019-06-25T00:00:00\", \"2019-06-28T00:00:00\", \"2019-08-07T00:00:00\", \"2019-08-19T00:00:00\", \"2019-08-26T00:00:00\", \"2019-09-05T00:00:00\", \"2019-10-17T00:00:00\", \"2019-11-01T00:00:00\", \"2019-11-13T00:00:00\", \"2019-12-05T00:00:00\", \"2019-12-10T00:00:00\", \"2019-12-26T00:00:00\", \"2019-12-31T00:00:00\"], \"xaxis\": \"x3\", \"y\": [3.191, 3.191, 3.191, 3.191, 3.191, 3.191, 3.191, 3.191, 3.191, 3.191, 3.191, 3.191, 3.191, 3.191, 3.191, 3.191, 3.191, 3.191, 3.191, 3.191, 3.191, 3.191, 3.191, 3.191, 3.191, 3.191, 3.191, 3.191], \"yaxis\": \"y3\"}, {\"line\": {\"color\": \"#33C2FF\"}, \"name\": \"mean I\", \"type\": \"scatter\", \"x\": [\"2019-01-11T00:00:00\", \"2019-01-22T00:00:00\", \"2019-01-26T00:00:00\", \"2019-01-31T00:00:00\", \"2019-02-11T00:00:00\", \"2019-02-22T00:00:00\", \"2019-02-27T00:00:00\", \"2019-03-07T00:00:00\", \"2019-03-15T00:00:00\", \"2019-04-05T00:00:00\", \"2019-04-16T00:00:00\", \"2019-05-27T00:00:00\", \"2019-06-03T00:00:00\", \"2019-06-10T00:00:00\", \"2019-06-17T00:00:00\", \"2019-06-25T00:00:00\", \"2019-06-28T00:00:00\", \"2019-08-07T00:00:00\", \"2019-08-19T00:00:00\", \"2019-08-26T00:00:00\", \"2019-09-05T00:00:00\", \"2019-10-17T00:00:00\", \"2019-11-01T00:00:00\", \"2019-11-13T00:00:00\", \"2019-12-05T00:00:00\", \"2019-12-10T00:00:00\", \"2019-12-26T00:00:00\", \"2019-12-31T00:00:00\"], \"xaxis\": \"x3\", \"y\": [3.199, 3.199, 3.199, 3.199, 3.199, 3.199, 3.199, 3.199, 3.199, 3.199, 3.199, 3.199, 3.199, 3.199, 3.199, 3.199, 3.199, 3.199, 3.199, 3.199, 3.199, 3.199, 3.199, 3.199, 3.199, 3.199, 3.199, 3.199], \"yaxis\": \"y3\"}, {\"line\": {\"color\": \"#4280F5\"}, \"mode\": \"lines+markers\", \"name\": \"mean O\", \"type\": \"scatter\", \"x\": [\"2019-01-11T00:00:00\", \"2019-01-22T00:00:00\", \"2019-01-26T00:00:00\", \"2019-01-31T00:00:00\", \"2019-02-11T00:00:00\", \"2019-02-22T00:00:00\", \"2019-02-27T00:00:00\", \"2019-03-07T00:00:00\", \"2019-03-15T00:00:00\", \"2019-04-05T00:00:00\", \"2019-04-16T00:00:00\", \"2019-05-27T00:00:00\", \"2019-06-03T00:00:00\", \"2019-06-10T00:00:00\", \"2019-06-17T00:00:00\", \"2019-06-25T00:00:00\", \"2019-06-28T00:00:00\", \"2019-08-07T00:00:00\", \"2019-08-19T00:00:00\", \"2019-08-26T00:00:00\", \"2019-09-05T00:00:00\", \"2019-10-17T00:00:00\", \"2019-11-01T00:00:00\", \"2019-11-13T00:00:00\", \"2019-12-05T00:00:00\", \"2019-12-10T00:00:00\", \"2019-12-26T00:00:00\", \"2019-12-31T00:00:00\"], \"xaxis\": \"x4\", \"y\": [11.853, 11.852, 11.853, 11.855, 11.854, 11.852, 11.855, 11.857, 11.853, 11.856, 11.853, 11.853, 11.852, 11.856, 11.859, 11.86, 11.856, 11.851, 11.849, 11.85, 11.856, 11.849, 11.849, 11.851, 11.849, 11.852, 11.849, 11.848], \"yaxis\": \"y4\"}, {\"line\": {\"color\": \"#FF5733\"}, \"name\": \"USL O\", \"type\": \"scatter\", \"x\": [\"2019-01-11T00:00:00\", \"2019-01-22T00:00:00\", \"2019-01-26T00:00:00\", \"2019-01-31T00:00:00\", \"2019-02-11T00:00:00\", \"2019-02-22T00:00:00\", \"2019-02-27T00:00:00\", \"2019-03-07T00:00:00\", \"2019-03-15T00:00:00\", \"2019-04-05T00:00:00\", \"2019-04-16T00:00:00\", \"2019-05-27T00:00:00\", \"2019-06-03T00:00:00\", \"2019-06-10T00:00:00\", \"2019-06-17T00:00:00\", \"2019-06-25T00:00:00\", \"2019-06-28T00:00:00\", \"2019-08-07T00:00:00\", \"2019-08-19T00:00:00\", \"2019-08-26T00:00:00\", \"2019-09-05T00:00:00\", \"2019-10-17T00:00:00\", \"2019-11-01T00:00:00\", \"2019-11-13T00:00:00\", \"2019-12-05T00:00:00\", \"2019-12-10T00:00:00\", \"2019-12-26T00:00:00\", \"2019-12-31T00:00:00\"], \"xaxis\": \"x4\", \"y\": [11.86, 11.86, 11.86, 11.86, 11.86, 11.86, 11.86, 11.86, 11.86, 11.86, 11.86, 11.86, 11.86, 11.86, 11.86, 11.86, 11.86, 11.86, 11.86, 11.86, 11.86, 11.86, 11.86, 11.86, 11.86, 11.86, 11.86, 11.86], \"yaxis\": \"y4\"}, {\"line\": {\"color\": \"#FF5733\"}, \"name\": \"LSL O\", \"type\": \"scatter\", \"x\": [\"2019-01-11T00:00:00\", \"2019-01-22T00:00:00\", \"2019-01-26T00:00:00\", \"2019-01-31T00:00:00\", \"2019-02-11T00:00:00\", \"2019-02-22T00:00:00\", \"2019-02-27T00:00:00\", \"2019-03-07T00:00:00\", \"2019-03-15T00:00:00\", \"2019-04-05T00:00:00\", \"2019-04-16T00:00:00\", \"2019-05-27T00:00:00\", \"2019-06-03T00:00:00\", \"2019-06-10T00:00:00\", \"2019-06-17T00:00:00\", \"2019-06-25T00:00:00\", \"2019-06-28T00:00:00\", \"2019-08-07T00:00:00\", \"2019-08-19T00:00:00\", \"2019-08-26T00:00:00\", \"2019-09-05T00:00:00\", \"2019-10-17T00:00:00\", \"2019-11-01T00:00:00\", \"2019-11-13T00:00:00\", \"2019-12-05T00:00:00\", \"2019-12-10T00:00:00\", \"2019-12-26T00:00:00\", \"2019-12-31T00:00:00\"], \"xaxis\": \"x4\", \"y\": [11.84, 11.84, 11.84, 11.84, 11.84, 11.84, 11.84, 11.84, 11.84, 11.84, 11.84, 11.84, 11.84, 11.84, 11.84, 11.84, 11.84, 11.84, 11.84, 11.84, 11.84, 11.84, 11.84, 11.84, 11.84, 11.84, 11.84, 11.84], \"yaxis\": \"y4\"}, {\"line\": {\"color\": \"#FF5733\"}, \"name\": \"Nominal O\", \"type\": \"scatter\", \"x\": [\"2019-01-11T00:00:00\", \"2019-01-22T00:00:00\", \"2019-01-26T00:00:00\", \"2019-01-31T00:00:00\", \"2019-02-11T00:00:00\", \"2019-02-22T00:00:00\", \"2019-02-27T00:00:00\", \"2019-03-07T00:00:00\", \"2019-03-15T00:00:00\", \"2019-04-05T00:00:00\", \"2019-04-16T00:00:00\", \"2019-05-27T00:00:00\", \"2019-06-03T00:00:00\", \"2019-06-10T00:00:00\", \"2019-06-17T00:00:00\", \"2019-06-25T00:00:00\", \"2019-06-28T00:00:00\", \"2019-08-07T00:00:00\", \"2019-08-19T00:00:00\", \"2019-08-26T00:00:00\", \"2019-09-05T00:00:00\", \"2019-10-17T00:00:00\", \"2019-11-01T00:00:00\", \"2019-11-13T00:00:00\", \"2019-12-05T00:00:00\", \"2019-12-10T00:00:00\", \"2019-12-26T00:00:00\", \"2019-12-31T00:00:00\"], \"xaxis\": \"x4\", \"y\": [11.85, 11.85, 11.85, 11.85, 11.85, 11.85, 11.85, 11.85, 11.85, 11.85, 11.85, 11.85, 11.85, 11.85, 11.85, 11.85, 11.85, 11.85, 11.85, 11.85, 11.85, 11.85, 11.85, 11.85, 11.85, 11.85, 11.85, 11.85], \"yaxis\": \"y4\"}, {\"line\": {\"color\": \"#33C2FF\"}, \"name\": \"UCL O\", \"type\": \"scatter\", \"x\": [\"2019-01-11T00:00:00\", \"2019-01-22T00:00:00\", \"2019-01-26T00:00:00\", \"2019-01-31T00:00:00\", \"2019-02-11T00:00:00\", \"2019-02-22T00:00:00\", \"2019-02-27T00:00:00\", \"2019-03-07T00:00:00\", \"2019-03-15T00:00:00\", \"2019-04-05T00:00:00\", \"2019-04-16T00:00:00\", \"2019-05-27T00:00:00\", \"2019-06-03T00:00:00\", \"2019-06-10T00:00:00\", \"2019-06-17T00:00:00\", \"2019-06-25T00:00:00\", \"2019-06-28T00:00:00\", \"2019-08-07T00:00:00\", \"2019-08-19T00:00:00\", \"2019-08-26T00:00:00\", \"2019-09-05T00:00:00\", \"2019-10-17T00:00:00\", \"2019-11-01T00:00:00\", \"2019-11-13T00:00:00\", \"2019-12-05T00:00:00\", \"2019-12-10T00:00:00\", \"2019-12-26T00:00:00\", \"2019-12-31T00:00:00\"], \"xaxis\": \"x4\", \"y\": [11.862, 11.862, 11.862, 11.862, 11.862, 11.862, 11.862, 11.862, 11.862, 11.862, 11.862, 11.862, 11.862, 11.862, 11.862, 11.862, 11.862, 11.862, 11.862, 11.862, 11.862, 11.862, 11.862, 11.862, 11.862, 11.862, 11.862, 11.862], \"yaxis\": \"y4\"}, {\"line\": {\"color\": \"#33C2FF\"}, \"name\": \"LCL O\", \"type\": \"scatter\", \"x\": [\"2019-01-11T00:00:00\", \"2019-01-22T00:00:00\", \"2019-01-26T00:00:00\", \"2019-01-31T00:00:00\", \"2019-02-11T00:00:00\", \"2019-02-22T00:00:00\", \"2019-02-27T00:00:00\", \"2019-03-07T00:00:00\", \"2019-03-15T00:00:00\", \"2019-04-05T00:00:00\", \"2019-04-16T00:00:00\", \"2019-05-27T00:00:00\", \"2019-06-03T00:00:00\", \"2019-06-10T00:00:00\", \"2019-06-17T00:00:00\", \"2019-06-25T00:00:00\", \"2019-06-28T00:00:00\", \"2019-08-07T00:00:00\", \"2019-08-19T00:00:00\", \"2019-08-26T00:00:00\", \"2019-09-05T00:00:00\", \"2019-10-17T00:00:00\", \"2019-11-01T00:00:00\", \"2019-11-13T00:00:00\", \"2019-12-05T00:00:00\", \"2019-12-10T00:00:00\", \"2019-12-26T00:00:00\", \"2019-12-31T00:00:00\"], \"xaxis\": \"x4\", \"y\": [11.843, 11.843, 11.843, 11.843, 11.843, 11.843, 11.843, 11.843, 11.843, 11.843, 11.843, 11.843, 11.843, 11.843, 11.843, 11.843, 11.843, 11.843, 11.843, 11.843, 11.843, 11.843, 11.843, 11.843, 11.843, 11.843, 11.843, 11.843], \"yaxis\": \"y4\"}, {\"line\": {\"color\": \"#33C2FF\"}, \"name\": \"mean O\", \"type\": \"scatter\", \"x\": [\"2019-01-11T00:00:00\", \"2019-01-22T00:00:00\", \"2019-01-26T00:00:00\", \"2019-01-31T00:00:00\", \"2019-02-11T00:00:00\", \"2019-02-22T00:00:00\", \"2019-02-27T00:00:00\", \"2019-03-07T00:00:00\", \"2019-03-15T00:00:00\", \"2019-04-05T00:00:00\", \"2019-04-16T00:00:00\", \"2019-05-27T00:00:00\", \"2019-06-03T00:00:00\", \"2019-06-10T00:00:00\", \"2019-06-17T00:00:00\", \"2019-06-25T00:00:00\", \"2019-06-28T00:00:00\", \"2019-08-07T00:00:00\", \"2019-08-19T00:00:00\", \"2019-08-26T00:00:00\", \"2019-09-05T00:00:00\", \"2019-10-17T00:00:00\", \"2019-11-01T00:00:00\", \"2019-11-13T00:00:00\", \"2019-12-05T00:00:00\", \"2019-12-10T00:00:00\", \"2019-12-26T00:00:00\", \"2019-12-31T00:00:00\"], \"xaxis\": \"x4\", \"y\": [11.853, 11.853, 11.853, 11.853, 11.853, 11.853, 11.853, 11.853, 11.853, 11.853, 11.853, 11.853, 11.853, 11.853, 11.853, 11.853, 11.853, 11.853, 11.853, 11.853, 11.853, 11.853, 11.853, 11.853, 11.853, 11.853, 11.853, 11.853], \"yaxis\": \"y4\"}, {\"line\": {\"color\": \"#4280F5\"}, \"mode\": \"lines+markers\", \"name\": \"mean Z\", \"type\": \"scatter\", \"x\": [\"2019-01-11T00:00:00\", \"2019-01-22T00:00:00\", \"2019-01-26T00:00:00\", \"2019-01-31T00:00:00\", \"2019-02-11T00:00:00\", \"2019-02-22T00:00:00\", \"2019-02-27T00:00:00\", \"2019-03-07T00:00:00\", \"2019-03-15T00:00:00\", \"2019-04-05T00:00:00\", \"2019-04-16T00:00:00\", \"2019-05-27T00:00:00\", \"2019-06-03T00:00:00\", \"2019-06-10T00:00:00\", \"2019-06-17T00:00:00\", \"2019-06-25T00:00:00\", \"2019-06-28T00:00:00\", \"2019-08-07T00:00:00\", \"2019-08-19T00:00:00\", \"2019-08-26T00:00:00\", \"2019-09-05T00:00:00\", \"2019-10-17T00:00:00\", \"2019-11-01T00:00:00\", \"2019-11-13T00:00:00\", \"2019-12-05T00:00:00\", \"2019-12-10T00:00:00\", \"2019-12-26T00:00:00\", \"2019-12-31T00:00:00\"], \"xaxis\": \"x5\", \"y\": [0.31, 0.311, 0.311, 0.311, 0.312, 0.312, 0.311, 0.311, 0.312, 0.311, 0.313, 0.313, 0.313, 0.311, 0.313, 0.316, 0.316, 0.313, 0.313, 0.313, 0.316, 0.313, 0.313, 0.315, 0.308, 0.311, 0.312, 0.313], \"yaxis\": \"y5\"}, {\"line\": {\"color\": \"#FF5733\"}, \"name\": \"USL Z\", \"type\": \"scatter\", \"x\": [\"2019-01-11T00:00:00\", \"2019-01-22T00:00:00\", \"2019-01-26T00:00:00\", \"2019-01-31T00:00:00\", \"2019-02-11T00:00:00\", \"2019-02-22T00:00:00\", \"2019-02-27T00:00:00\", \"2019-03-07T00:00:00\", \"2019-03-15T00:00:00\", \"2019-04-05T00:00:00\", \"2019-04-16T00:00:00\", \"2019-05-27T00:00:00\", \"2019-06-03T00:00:00\", \"2019-06-10T00:00:00\", \"2019-06-17T00:00:00\", \"2019-06-25T00:00:00\", \"2019-06-28T00:00:00\", \"2019-08-07T00:00:00\", \"2019-08-19T00:00:00\", \"2019-08-26T00:00:00\", \"2019-09-05T00:00:00\", \"2019-10-17T00:00:00\", \"2019-11-01T00:00:00\", \"2019-11-13T00:00:00\", \"2019-12-05T00:00:00\", \"2019-12-10T00:00:00\", \"2019-12-26T00:00:00\", \"2019-12-31T00:00:00\"], \"xaxis\": \"x5\", \"y\": [0.32, 0.32, 0.32, 0.32, 0.32, 0.32, 0.32, 0.32, 0.32, 0.32, 0.32, 0.32, 0.32, 0.32, 0.32, 0.32, 0.32, 0.32, 0.32, 0.32, 0.32, 0.32, 0.32, 0.32, 0.32, 0.32, 0.32, 0.32], \"yaxis\": \"y5\"}, {\"line\": {\"color\": \"#FF5733\"}, \"name\": \"LSL Z\", \"type\": \"scatter\", \"x\": [\"2019-01-11T00:00:00\", \"2019-01-22T00:00:00\", \"2019-01-26T00:00:00\", \"2019-01-31T00:00:00\", \"2019-02-11T00:00:00\", \"2019-02-22T00:00:00\", \"2019-02-27T00:00:00\", \"2019-03-07T00:00:00\", \"2019-03-15T00:00:00\", \"2019-04-05T00:00:00\", \"2019-04-16T00:00:00\", \"2019-05-27T00:00:00\", \"2019-06-03T00:00:00\", \"2019-06-10T00:00:00\", \"2019-06-17T00:00:00\", \"2019-06-25T00:00:00\", \"2019-06-28T00:00:00\", \"2019-08-07T00:00:00\", \"2019-08-19T00:00:00\", \"2019-08-26T00:00:00\", \"2019-09-05T00:00:00\", \"2019-10-17T00:00:00\", \"2019-11-01T00:00:00\", \"2019-11-13T00:00:00\", \"2019-12-05T00:00:00\", \"2019-12-10T00:00:00\", \"2019-12-26T00:00:00\", \"2019-12-31T00:00:00\"], \"xaxis\": \"x5\", \"y\": [0.28, 0.28, 0.28, 0.28, 0.28, 0.28, 0.28, 0.28, 0.28, 0.28, 0.28, 0.28, 0.28, 0.28, 0.28, 0.28, 0.28, 0.28, 0.28, 0.28, 0.28, 0.28, 0.28, 0.28, 0.28, 0.28, 0.28, 0.28], \"yaxis\": \"y5\"}, {\"line\": {\"color\": \"#FF5733\"}, \"name\": \"Nominal Z\", \"type\": \"scatter\", \"x\": [\"2019-01-11T00:00:00\", \"2019-01-22T00:00:00\", \"2019-01-26T00:00:00\", \"2019-01-31T00:00:00\", \"2019-02-11T00:00:00\", \"2019-02-22T00:00:00\", \"2019-02-27T00:00:00\", \"2019-03-07T00:00:00\", \"2019-03-15T00:00:00\", \"2019-04-05T00:00:00\", \"2019-04-16T00:00:00\", \"2019-05-27T00:00:00\", \"2019-06-03T00:00:00\", \"2019-06-10T00:00:00\", \"2019-06-17T00:00:00\", \"2019-06-25T00:00:00\", \"2019-06-28T00:00:00\", \"2019-08-07T00:00:00\", \"2019-08-19T00:00:00\", \"2019-08-26T00:00:00\", \"2019-09-05T00:00:00\", \"2019-10-17T00:00:00\", \"2019-11-01T00:00:00\", \"2019-11-13T00:00:00\", \"2019-12-05T00:00:00\", \"2019-12-10T00:00:00\", \"2019-12-26T00:00:00\", \"2019-12-31T00:00:00\"], \"xaxis\": \"x5\", \"y\": [0.3, 0.3, 0.3, 0.3, 0.3, 0.3, 0.3, 0.3, 0.3, 0.3, 0.3, 0.3, 0.3, 0.3, 0.3, 0.3, 0.3, 0.3, 0.3, 0.3, 0.3, 0.3, 0.3, 0.3, 0.3, 0.3, 0.3, 0.3], \"yaxis\": \"y5\"}, {\"line\": {\"color\": \"#33C2FF\"}, \"name\": \"UCL Z\", \"type\": \"scatter\", \"x\": [\"2019-01-11T00:00:00\", \"2019-01-22T00:00:00\", \"2019-01-26T00:00:00\", \"2019-01-31T00:00:00\", \"2019-02-11T00:00:00\", \"2019-02-22T00:00:00\", \"2019-02-27T00:00:00\", \"2019-03-07T00:00:00\", \"2019-03-15T00:00:00\", \"2019-04-05T00:00:00\", \"2019-04-16T00:00:00\", \"2019-05-27T00:00:00\", \"2019-06-03T00:00:00\", \"2019-06-10T00:00:00\", \"2019-06-17T00:00:00\", \"2019-06-25T00:00:00\", \"2019-06-28T00:00:00\", \"2019-08-07T00:00:00\", \"2019-08-19T00:00:00\", \"2019-08-26T00:00:00\", \"2019-09-05T00:00:00\", \"2019-10-17T00:00:00\", \"2019-11-01T00:00:00\", \"2019-11-13T00:00:00\", \"2019-12-05T00:00:00\", \"2019-12-10T00:00:00\", \"2019-12-26T00:00:00\", \"2019-12-31T00:00:00\"], \"xaxis\": \"x5\", \"y\": [0.318, 0.318, 0.318, 0.318, 0.318, 0.318, 0.318, 0.318, 0.318, 0.318, 0.318, 0.318, 0.318, 0.318, 0.318, 0.318, 0.318, 0.318, 0.318, 0.318, 0.318, 0.318, 0.318, 0.318, 0.318, 0.318, 0.318, 0.318], \"yaxis\": \"y5\"}, {\"line\": {\"color\": \"#33C2FF\"}, \"name\": \"LCL Z\", \"type\": \"scatter\", \"x\": [\"2019-01-11T00:00:00\", \"2019-01-22T00:00:00\", \"2019-01-26T00:00:00\", \"2019-01-31T00:00:00\", \"2019-02-11T00:00:00\", \"2019-02-22T00:00:00\", \"2019-02-27T00:00:00\", \"2019-03-07T00:00:00\", \"2019-03-15T00:00:00\", \"2019-04-05T00:00:00\", \"2019-04-16T00:00:00\", \"2019-05-27T00:00:00\", \"2019-06-03T00:00:00\", \"2019-06-10T00:00:00\", \"2019-06-17T00:00:00\", \"2019-06-25T00:00:00\", \"2019-06-28T00:00:00\", \"2019-08-07T00:00:00\", \"2019-08-19T00:00:00\", \"2019-08-26T00:00:00\", \"2019-09-05T00:00:00\", \"2019-10-17T00:00:00\", \"2019-11-01T00:00:00\", \"2019-11-13T00:00:00\", \"2019-12-05T00:00:00\", \"2019-12-10T00:00:00\", \"2019-12-26T00:00:00\", \"2019-12-31T00:00:00\"], \"xaxis\": \"x5\", \"y\": [0.307, 0.307, 0.307, 0.307, 0.307, 0.307, 0.307, 0.307, 0.307, 0.307, 0.307, 0.307, 0.307, 0.307, 0.307, 0.307, 0.307, 0.307, 0.307, 0.307, 0.307, 0.307, 0.307, 0.307, 0.307, 0.307, 0.307, 0.307], \"yaxis\": \"y5\"}, {\"line\": {\"color\": \"#33C2FF\"}, \"name\": \"mean Z\", \"type\": \"scatter\", \"x\": [\"2019-01-11T00:00:00\", \"2019-01-22T00:00:00\", \"2019-01-26T00:00:00\", \"2019-01-31T00:00:00\", \"2019-02-11T00:00:00\", \"2019-02-22T00:00:00\", \"2019-02-27T00:00:00\", \"2019-03-07T00:00:00\", \"2019-03-15T00:00:00\", \"2019-04-05T00:00:00\", \"2019-04-16T00:00:00\", \"2019-05-27T00:00:00\", \"2019-06-03T00:00:00\", \"2019-06-10T00:00:00\", \"2019-06-17T00:00:00\", \"2019-06-25T00:00:00\", \"2019-06-28T00:00:00\", \"2019-08-07T00:00:00\", \"2019-08-19T00:00:00\", \"2019-08-26T00:00:00\", \"2019-09-05T00:00:00\", \"2019-10-17T00:00:00\", \"2019-11-01T00:00:00\", \"2019-11-13T00:00:00\", \"2019-12-05T00:00:00\", \"2019-12-10T00:00:00\", \"2019-12-26T00:00:00\", \"2019-12-31T00:00:00\"], \"xaxis\": \"x5\", \"y\": [0.312, 0.312, 0.312, 0.312, 0.312, 0.312, 0.312, 0.312, 0.312, 0.312, 0.312, 0.312, 0.312, 0.312, 0.312, 0.312, 0.312, 0.312, 0.312, 0.312, 0.312, 0.312, 0.312, 0.312, 0.312, 0.312, 0.312, 0.312], \"yaxis\": \"y5\"}],\n",
              "                        {\"height\": 1500, \"template\": {\"data\": {\"bar\": [{\"error_x\": {\"color\": \"#2a3f5f\"}, \"error_y\": {\"color\": \"#2a3f5f\"}, \"marker\": {\"line\": {\"color\": \"#E5ECF6\", \"width\": 0.5}}, \"type\": \"bar\"}], \"barpolar\": [{\"marker\": {\"line\": {\"color\": \"#E5ECF6\", \"width\": 0.5}}, \"type\": \"barpolar\"}], \"carpet\": [{\"aaxis\": {\"endlinecolor\": \"#2a3f5f\", \"gridcolor\": \"white\", \"linecolor\": \"white\", \"minorgridcolor\": \"white\", \"startlinecolor\": \"#2a3f5f\"}, \"baxis\": {\"endlinecolor\": \"#2a3f5f\", \"gridcolor\": \"white\", \"linecolor\": \"white\", \"minorgridcolor\": \"white\", \"startlinecolor\": \"#2a3f5f\"}, \"type\": \"carpet\"}], \"choropleth\": [{\"colorbar\": {\"outlinewidth\": 0, \"ticks\": \"\"}, \"type\": \"choropleth\"}], \"contour\": [{\"colorbar\": {\"outlinewidth\": 0, \"ticks\": \"\"}, \"colorscale\": [[0.0, \"#0d0887\"], [0.1111111111111111, \"#46039f\"], [0.2222222222222222, \"#7201a8\"], [0.3333333333333333, \"#9c179e\"], [0.4444444444444444, \"#bd3786\"], [0.5555555555555556, \"#d8576b\"], [0.6666666666666666, \"#ed7953\"], [0.7777777777777778, \"#fb9f3a\"], [0.8888888888888888, \"#fdca26\"], [1.0, \"#f0f921\"]], \"type\": \"contour\"}], \"contourcarpet\": [{\"colorbar\": {\"outlinewidth\": 0, \"ticks\": \"\"}, \"type\": \"contourcarpet\"}], \"heatmap\": [{\"colorbar\": {\"outlinewidth\": 0, \"ticks\": \"\"}, \"colorscale\": [[0.0, \"#0d0887\"], [0.1111111111111111, \"#46039f\"], [0.2222222222222222, \"#7201a8\"], [0.3333333333333333, \"#9c179e\"], [0.4444444444444444, \"#bd3786\"], [0.5555555555555556, \"#d8576b\"], [0.6666666666666666, \"#ed7953\"], [0.7777777777777778, \"#fb9f3a\"], [0.8888888888888888, \"#fdca26\"], [1.0, \"#f0f921\"]], \"type\": \"heatmap\"}], \"heatmapgl\": [{\"colorbar\": {\"outlinewidth\": 0, \"ticks\": \"\"}, \"colorscale\": [[0.0, \"#0d0887\"], [0.1111111111111111, \"#46039f\"], [0.2222222222222222, \"#7201a8\"], [0.3333333333333333, \"#9c179e\"], [0.4444444444444444, \"#bd3786\"], [0.5555555555555556, \"#d8576b\"], [0.6666666666666666, \"#ed7953\"], [0.7777777777777778, \"#fb9f3a\"], [0.8888888888888888, \"#fdca26\"], [1.0, \"#f0f921\"]], \"type\": \"heatmapgl\"}], \"histogram\": [{\"marker\": {\"colorbar\": {\"outlinewidth\": 0, \"ticks\": \"\"}}, \"type\": \"histogram\"}], \"histogram2d\": [{\"colorbar\": {\"outlinewidth\": 0, \"ticks\": \"\"}, \"colorscale\": [[0.0, \"#0d0887\"], [0.1111111111111111, \"#46039f\"], [0.2222222222222222, \"#7201a8\"], [0.3333333333333333, \"#9c179e\"], [0.4444444444444444, \"#bd3786\"], [0.5555555555555556, \"#d8576b\"], [0.6666666666666666, \"#ed7953\"], [0.7777777777777778, \"#fb9f3a\"], [0.8888888888888888, \"#fdca26\"], [1.0, \"#f0f921\"]], \"type\": \"histogram2d\"}], \"histogram2dcontour\": [{\"colorbar\": {\"outlinewidth\": 0, \"ticks\": \"\"}, \"colorscale\": [[0.0, \"#0d0887\"], [0.1111111111111111, \"#46039f\"], [0.2222222222222222, \"#7201a8\"], [0.3333333333333333, \"#9c179e\"], [0.4444444444444444, \"#bd3786\"], [0.5555555555555556, \"#d8576b\"], [0.6666666666666666, \"#ed7953\"], [0.7777777777777778, \"#fb9f3a\"], [0.8888888888888888, \"#fdca26\"], [1.0, \"#f0f921\"]], \"type\": \"histogram2dcontour\"}], \"mesh3d\": [{\"colorbar\": {\"outlinewidth\": 0, \"ticks\": \"\"}, \"type\": \"mesh3d\"}], \"parcoords\": [{\"line\": {\"colorbar\": {\"outlinewidth\": 0, \"ticks\": \"\"}}, \"type\": \"parcoords\"}], \"pie\": [{\"automargin\": true, \"type\": \"pie\"}], \"scatter\": [{\"marker\": {\"colorbar\": {\"outlinewidth\": 0, \"ticks\": \"\"}}, \"type\": \"scatter\"}], \"scatter3d\": [{\"line\": {\"colorbar\": {\"outlinewidth\": 0, \"ticks\": \"\"}}, \"marker\": {\"colorbar\": {\"outlinewidth\": 0, \"ticks\": \"\"}}, \"type\": \"scatter3d\"}], \"scattercarpet\": [{\"marker\": {\"colorbar\": {\"outlinewidth\": 0, \"ticks\": \"\"}}, \"type\": \"scattercarpet\"}], \"scattergeo\": [{\"marker\": {\"colorbar\": {\"outlinewidth\": 0, \"ticks\": \"\"}}, \"type\": \"scattergeo\"}], \"scattergl\": [{\"marker\": {\"colorbar\": {\"outlinewidth\": 0, \"ticks\": \"\"}}, \"type\": \"scattergl\"}], \"scattermapbox\": [{\"marker\": {\"colorbar\": {\"outlinewidth\": 0, \"ticks\": \"\"}}, \"type\": \"scattermapbox\"}], \"scatterpolar\": [{\"marker\": {\"colorbar\": {\"outlinewidth\": 0, \"ticks\": \"\"}}, \"type\": \"scatterpolar\"}], \"scatterpolargl\": [{\"marker\": {\"colorbar\": {\"outlinewidth\": 0, \"ticks\": \"\"}}, \"type\": \"scatterpolargl\"}], \"scatterternary\": [{\"marker\": {\"colorbar\": {\"outlinewidth\": 0, \"ticks\": \"\"}}, \"type\": \"scatterternary\"}], \"surface\": [{\"colorbar\": {\"outlinewidth\": 0, \"ticks\": \"\"}, \"colorscale\": [[0.0, \"#0d0887\"], [0.1111111111111111, \"#46039f\"], [0.2222222222222222, \"#7201a8\"], [0.3333333333333333, \"#9c179e\"], [0.4444444444444444, \"#bd3786\"], [0.5555555555555556, \"#d8576b\"], [0.6666666666666666, \"#ed7953\"], [0.7777777777777778, \"#fb9f3a\"], [0.8888888888888888, \"#fdca26\"], [1.0, \"#f0f921\"]], \"type\": \"surface\"}], \"table\": [{\"cells\": {\"fill\": {\"color\": \"#EBF0F8\"}, \"line\": {\"color\": \"white\"}}, \"header\": {\"fill\": {\"color\": \"#C8D4E3\"}, \"line\": {\"color\": \"white\"}}, \"type\": \"table\"}]}, \"layout\": {\"annotationdefaults\": {\"arrowcolor\": \"#2a3f5f\", \"arrowhead\": 0, \"arrowwidth\": 1}, \"coloraxis\": {\"colorbar\": {\"outlinewidth\": 0, \"ticks\": \"\"}}, \"colorscale\": {\"diverging\": [[0, \"#8e0152\"], [0.1, \"#c51b7d\"], [0.2, \"#de77ae\"], [0.3, \"#f1b6da\"], [0.4, \"#fde0ef\"], [0.5, \"#f7f7f7\"], [0.6, \"#e6f5d0\"], [0.7, \"#b8e186\"], [0.8, \"#7fbc41\"], [0.9, \"#4d9221\"], [1, \"#276419\"]], \"sequential\": [[0.0, \"#0d0887\"], [0.1111111111111111, \"#46039f\"], [0.2222222222222222, \"#7201a8\"], [0.3333333333333333, \"#9c179e\"], [0.4444444444444444, \"#bd3786\"], [0.5555555555555556, \"#d8576b\"], [0.6666666666666666, \"#ed7953\"], [0.7777777777777778, \"#fb9f3a\"], [0.8888888888888888, \"#fdca26\"], [1.0, \"#f0f921\"]], \"sequentialminus\": [[0.0, \"#0d0887\"], [0.1111111111111111, \"#46039f\"], [0.2222222222222222, \"#7201a8\"], [0.3333333333333333, \"#9c179e\"], [0.4444444444444444, \"#bd3786\"], [0.5555555555555556, \"#d8576b\"], [0.6666666666666666, \"#ed7953\"], [0.7777777777777778, \"#fb9f3a\"], [0.8888888888888888, \"#fdca26\"], [1.0, \"#f0f921\"]]}, \"colorway\": [\"#636efa\", \"#EF553B\", \"#00cc96\", \"#ab63fa\", \"#FFA15A\", \"#19d3f3\", \"#FF6692\", \"#B6E880\", \"#FF97FF\", \"#FECB52\"], \"font\": {\"color\": \"#2a3f5f\"}, \"geo\": {\"bgcolor\": \"white\", \"lakecolor\": \"white\", \"landcolor\": \"#E5ECF6\", \"showlakes\": true, \"showland\": true, \"subunitcolor\": \"white\"}, \"hoverlabel\": {\"align\": \"left\"}, \"hovermode\": \"closest\", \"mapbox\": {\"style\": \"light\"}, \"paper_bgcolor\": \"white\", \"plot_bgcolor\": \"#E5ECF6\", \"polar\": {\"angularaxis\": {\"gridcolor\": \"white\", \"linecolor\": \"white\", \"ticks\": \"\"}, \"bgcolor\": \"#E5ECF6\", \"radialaxis\": {\"gridcolor\": \"white\", \"linecolor\": \"white\", \"ticks\": \"\"}}, \"scene\": {\"xaxis\": {\"backgroundcolor\": \"#E5ECF6\", \"gridcolor\": \"white\", \"gridwidth\": 2, \"linecolor\": \"white\", \"showbackground\": true, \"ticks\": \"\", \"zerolinecolor\": \"white\"}, \"yaxis\": {\"backgroundcolor\": \"#E5ECF6\", \"gridcolor\": \"white\", \"gridwidth\": 2, \"linecolor\": \"white\", \"showbackground\": true, \"ticks\": \"\", \"zerolinecolor\": \"white\"}, \"zaxis\": {\"backgroundcolor\": \"#E5ECF6\", \"gridcolor\": \"white\", \"gridwidth\": 2, \"linecolor\": \"white\", \"showbackground\": true, \"ticks\": \"\", \"zerolinecolor\": \"white\"}}, \"shapedefaults\": {\"line\": {\"color\": \"#2a3f5f\"}}, \"ternary\": {\"aaxis\": {\"gridcolor\": \"white\", \"linecolor\": \"white\", \"ticks\": \"\"}, \"baxis\": {\"gridcolor\": \"white\", \"linecolor\": \"white\", \"ticks\": \"\"}, \"bgcolor\": \"#E5ECF6\", \"caxis\": {\"gridcolor\": \"white\", \"linecolor\": \"white\", \"ticks\": \"\"}}, \"title\": {\"x\": 0.05}, \"xaxis\": {\"automargin\": true, \"gridcolor\": \"white\", \"linecolor\": \"white\", \"ticks\": \"\", \"title\": {\"standoff\": 15}, \"zerolinecolor\": \"white\", \"zerolinewidth\": 2}, \"yaxis\": {\"automargin\": true, \"gridcolor\": \"white\", \"linecolor\": \"white\", \"ticks\": \"\", \"title\": {\"standoff\": 15}, \"zerolinecolor\": \"white\", \"zerolinewidth\": 2}}}, \"title\": {\"text\": \"Line chart\"}, \"width\": 1200, \"xaxis\": {\"anchor\": \"y\", \"domain\": [0.0, 1.0]}, \"xaxis2\": {\"anchor\": \"y2\", \"domain\": [0.0, 1.0]}, \"xaxis3\": {\"anchor\": \"y3\", \"domain\": [0.0, 1.0]}, \"xaxis4\": {\"anchor\": \"y4\", \"domain\": [0.0, 1.0]}, \"xaxis5\": {\"anchor\": \"y5\", \"domain\": [0.0, 1.0]}, \"yaxis\": {\"anchor\": \"x\", \"domain\": [0.848, 1.0]}, \"yaxis2\": {\"anchor\": \"x2\", \"domain\": [0.6359999999999999, 0.7879999999999999]}, \"yaxis3\": {\"anchor\": \"x3\", \"domain\": [0.424, 0.576]}, \"yaxis4\": {\"anchor\": \"x4\", \"domain\": [0.212, 0.364]}, \"yaxis5\": {\"anchor\": \"x5\", \"domain\": [0.0, 0.152]}},\n",
              "                        {\"responsive\": true}\n",
              "                    ).then(function(){\n",
              "                            \n",
              "var gd = document.getElementById('499b781d-382c-4be7-803c-829287d9c2e3');\n",
              "var x = new MutationObserver(function (mutations, observer) {{\n",
              "        var display = window.getComputedStyle(gd).display;\n",
              "        if (!display || display === 'none') {{\n",
              "            console.log([gd, 'removed!']);\n",
              "            Plotly.purge(gd);\n",
              "            observer.disconnect();\n",
              "        }}\n",
              "}});\n",
              "\n",
              "// Listen for the removal of the full notebook cells\n",
              "var notebookContainer = gd.closest('#notebook-container');\n",
              "if (notebookContainer) {{\n",
              "    x.observe(notebookContainer, {childList: true});\n",
              "}}\n",
              "\n",
              "// Listen for the clearing of the current output cell\n",
              "var outputEl = gd.closest('.output');\n",
              "if (outputEl) {{\n",
              "    x.observe(outputEl, {childList: true});\n",
              "}}\n",
              "\n",
              "                        })\n",
              "                };\n",
              "                \n",
              "            </script>\n",
              "        </div>\n",
              "</body>\n",
              "</html>"
            ]
          },
          "metadata": {
            "tags": []
          }
        }
      ]
    },
    {
      "cell_type": "code",
      "metadata": {
        "id": "QRT3yBW3SVcy",
        "colab_type": "code",
        "colab": {}
      },
      "source": [
        "#fig.write_html('line_chart_combine_'+namefile+'.html')"
      ],
      "execution_count": 22,
      "outputs": []
    },
    {
      "cell_type": "markdown",
      "metadata": {
        "id": "6VnP6zTJqRm_",
        "colab_type": "text"
      },
      "source": [
        "### Box chart altair"
      ]
    },
    {
      "cell_type": "code",
      "metadata": {
        "id": "QIU_FQBplXeW",
        "colab_type": "code",
        "colab": {}
      },
      "source": [
        "import json\n",
        "import datetime \n",
        "\n",
        "#Function convert datetime to json\n",
        "def defaulta(obj):\n",
        "      if isinstance(obj, (datetime.date, datetime.datetime)):\n",
        "          return obj.isoformat()"
      ],
      "execution_count": 23,
      "outputs": []
    },
    {
      "cell_type": "code",
      "metadata": {
        "id": "ciC8wePyqftc",
        "colab_type": "code",
        "colab": {}
      },
      "source": [
        "\n",
        "#Set up width and hist for all chart\n",
        "width_main=800\n",
        "height_main=150\n",
        "width_hist=100\n",
        "\n",
        "list_chart1=[]\n",
        "for name in DFdict.keys():\n",
        "  df_box=DFdict[name].copy() #All values for each features\n",
        "  df_box['Datef']=df_box['Datef'].dt.date\n",
        "  value_name2=df_box.columns[1] #'C-Pitch', 'J', 'I', 'O', 'Z'\n",
        "  #Convert datetime to json\n",
        "  df_box['Datef']=df_box['Datef'].apply(lambda x: json.dumps(x, default = defaulta) )\n",
        "  base1 = alt.Chart(df_box).properties(width=width_main,height=height_main)\n",
        "\n",
        "  #Create box plot, USL, LSL, Nominal\n",
        "  box=base1.mark_boxplot().encode(\n",
        "      x=alt.X(\n",
        "          'Datef:O',scale=alt.Scale(),title=\"\",\n",
        "          ),\n",
        "      y=alt.Y(value_name2+':Q',scale=alt.Scale(zero=False),title=\"\")\n",
        "  ).properties(width=width_main,height=height_main)\n",
        "\n",
        "  line_USL=base1.mark_line(color='red').encode(\n",
        "      x=alt.X('Datef:O',scale=alt.Scale(zero=False)),\n",
        "      y=alt.Y('USL:Q',scale=alt.Scale(zero=False)),\n",
        "  )\n",
        "\n",
        "  line_LSL=base1.mark_line(color='red').encode(\n",
        "      x=alt.X('Datef:O',scale=alt.Scale(zero=False)),\n",
        "      y=alt.Y('LSL:Q',scale=alt.Scale(zero=False)),\n",
        "  )\n",
        "\n",
        "  line_Nominal=base1.mark_line(color='red').encode(\n",
        "      x=alt.X('Datef:O',scale=alt.Scale(zero=False)),\n",
        "      y=alt.Y('Nominal:Q',scale=alt.Scale(zero=False)),\n",
        "  )\n",
        "\n",
        "  chart=box + line_USL + line_LSL + line_Nominal\n",
        "\n",
        "  #Sub chart create (Histogram, USL, LSL, Nominal)\n",
        "  record_bar= alt.Chart(df_box).mark_bar().encode(\n",
        "      x='count()',\n",
        "      y=alt.Y(value_name2, bin=True,title=\"\")\n",
        "  ).properties(\n",
        "      height=height_main,\n",
        "      width=width_hist\n",
        "  )\n",
        "\n",
        "  USL_rule = alt.Chart(df_box).mark_rule(color='red').encode(\n",
        "      y=alt.Y('USL'),\n",
        "      size=alt.value(1)\n",
        "  )\n",
        "  LSL_rule = alt.Chart(df_box).mark_rule(color='red').encode(\n",
        "      y=alt.Y('LSL'),\n",
        "      size=alt.value(1)\n",
        "  )\n",
        "  Nominal_rule = alt.Chart(df_box).mark_rule(color='red').encode(\n",
        "      y=alt.Y('Nominal'),\n",
        "      size=alt.value(1)\n",
        "  )\n",
        "\n",
        "  sub_chart=record_bar + USL_rule + LSL_rule + Nominal_rule\n",
        "  boxchart= 'chart' + name\n",
        "  boxchart=alt.hconcat(chart,sub_chart).properties(title='Box Plot ' + value_name2)\n",
        "  list_chart1.append(boxchart)\n",
        "  boxchart\n",
        "  #altair_viewer.display(boxchart, inline=True)\n",
        "#boxchart_combine.save('boxchart_combine.html')\n"
      ],
      "execution_count": 24,
      "outputs": []
    },
    {
      "cell_type": "code",
      "metadata": {
        "id": "FD5B2KXiLI8n",
        "colab_type": "code",
        "colab": {
          "base_uri": "https://localhost:8080/",
          "height": 35
        },
        "outputId": "5494e18f-0ee8-43af-dde2-314b86587209"
      },
      "source": [
        "path=os.getcwd()\n",
        "path"
      ],
      "execution_count": 25,
      "outputs": [
        {
          "output_type": "execute_result",
          "data": {
            "application/vnd.google.colaboratory.intrinsic+json": {
              "type": "string"
            },
            "text/plain": [
              "'/content'"
            ]
          },
          "metadata": {
            "tags": []
          },
          "execution_count": 25
        }
      ]
    },
    {
      "cell_type": "code",
      "metadata": {
        "id": "98xtPvioLnLI",
        "colab_type": "code",
        "colab": {
          "base_uri": "https://localhost:8080/",
          "height": 35
        },
        "outputId": "6815080b-c6bb-4ef7-9f02-e2c6a9c0cacb"
      },
      "source": [
        "namefile"
      ],
      "execution_count": 26,
      "outputs": [
        {
          "output_type": "execute_result",
          "data": {
            "application/vnd.google.colaboratory.intrinsic+json": {
              "type": "string"
            },
            "text/plain": [
              "'MMD2019'"
            ]
          },
          "metadata": {
            "tags": []
          },
          "execution_count": 26
        }
      ]
    },
    {
      "cell_type": "code",
      "metadata": {
        "id": "UzsJNqipqiJ8",
        "colab_type": "code",
        "colab": {
          "base_uri": "https://localhost:8080/",
          "height": 1000
        },
        "outputId": "857bfe08-1991-4af2-f716-a50065c1df49"
      },
      "source": [
        "box_chart_combine=alt.vconcat(data=df_group)\n",
        "for chart in list_chart1:\n",
        "  box_chart_combine &= chart\n",
        "#box_chart_combine.save('box_chart_combine'+namefile+'.html')\n",
        "box_chart_combine"
      ],
      "execution_count": 27,
      "outputs": [
        {
          "output_type": "execute_result",
          "data": {
            "text/plain": [
              "alt.VConcatChart(...)"
            ],
            "text/html": [
              "\n",
              "<div id=\"altair-viz-04f0bc24e1fb4054a58a185493c19d41\"></div>\n",
              "<script type=\"text/javascript\">\n",
              "  (function(spec, embedOpt){\n",
              "    let outputDiv = document.currentScript.previousElementSibling;\n",
              "    if (outputDiv.id !== \"altair-viz-04f0bc24e1fb4054a58a185493c19d41\") {\n",
              "      outputDiv = document.getElementById(\"altair-viz-04f0bc24e1fb4054a58a185493c19d41\");\n",
              "    }\n",
              "    const paths = {\n",
              "      \"vega\": \"https://cdn.jsdelivr.net/npm//vega@5?noext\",\n",
              "      \"vega-lib\": \"https://cdn.jsdelivr.net/npm//vega-lib?noext\",\n",
              "      \"vega-lite\": \"https://cdn.jsdelivr.net/npm//vega-lite@4.8.1?noext\",\n",
              "      \"vega-embed\": \"https://cdn.jsdelivr.net/npm//vega-embed@6?noext\",\n",
              "    };\n",
              "\n",
              "    function loadScript(lib) {\n",
              "      return new Promise(function(resolve, reject) {\n",
              "        var s = document.createElement('script');\n",
              "        s.src = paths[lib];\n",
              "        s.async = true;\n",
              "        s.onload = () => resolve(paths[lib]);\n",
              "        s.onerror = () => reject(`Error loading script: ${paths[lib]}`);\n",
              "        document.getElementsByTagName(\"head\")[0].appendChild(s);\n",
              "      });\n",
              "    }\n",
              "\n",
              "    function showError(err) {\n",
              "      outputDiv.innerHTML = `<div class=\"error\" style=\"color:red;\">${err}</div>`;\n",
              "      throw err;\n",
              "    }\n",
              "\n",
              "    function displayChart(vegaEmbed) {\n",
              "      vegaEmbed(outputDiv, spec, embedOpt)\n",
              "        .catch(err => showError(`Javascript Error: ${err.message}<br>This usually means there's a typo in your chart specification. See the javascript console for the full traceback.`));\n",
              "    }\n",
              "\n",
              "    if(typeof define === \"function\" && define.amd) {\n",
              "      requirejs.config({paths});\n",
              "      require([\"vega-embed\"], displayChart, err => showError(`Error loading script: ${err.message}`));\n",
              "    } else if (typeof vegaEmbed === \"function\") {\n",
              "      displayChart(vegaEmbed);\n",
              "    } else {\n",
              "      loadScript(\"vega\")\n",
              "        .then(() => loadScript(\"vega-lite\"))\n",
              "        .then(() => loadScript(\"vega-embed\"))\n",
              "        .catch(showError)\n",
              "        .then(() => displayChart(vegaEmbed));\n",
              "    }\n",
              "  })({\"config\": {\"view\": {\"continuousWidth\": 400, \"continuousHeight\": 300}}, \"vconcat\": [{\"hconcat\": [{\"layer\": [{\"mark\": \"boxplot\", \"encoding\": {\"x\": {\"type\": \"ordinal\", \"field\": \"Datef\", \"scale\": {}, \"title\": \"\"}, \"y\": {\"type\": \"quantitative\", \"field\": \"C-Pitch\", \"scale\": {\"zero\": false}, \"title\": \"\"}}, \"height\": 150, \"width\": 800}, {\"mark\": {\"type\": \"line\", \"color\": \"red\"}, \"encoding\": {\"x\": {\"type\": \"ordinal\", \"field\": \"Datef\", \"scale\": {\"zero\": false}}, \"y\": {\"type\": \"quantitative\", \"field\": \"USL\", \"scale\": {\"zero\": false}}}, \"height\": 150, \"width\": 800}, {\"mark\": {\"type\": \"line\", \"color\": \"red\"}, \"encoding\": {\"x\": {\"type\": \"ordinal\", \"field\": \"Datef\", \"scale\": {\"zero\": false}}, \"y\": {\"type\": \"quantitative\", \"field\": \"LSL\", \"scale\": {\"zero\": false}}}, \"height\": 150, \"width\": 800}, {\"mark\": {\"type\": \"line\", \"color\": \"red\"}, \"encoding\": {\"x\": {\"type\": \"ordinal\", \"field\": \"Datef\", \"scale\": {\"zero\": false}}, \"y\": {\"type\": \"quantitative\", \"field\": \"Nominal\", \"scale\": {\"zero\": false}}}, \"height\": 150, \"width\": 800}]}, {\"layer\": [{\"mark\": \"bar\", \"encoding\": {\"x\": {\"type\": \"quantitative\", \"aggregate\": \"count\"}, \"y\": {\"type\": \"quantitative\", \"bin\": true, \"field\": \"C-Pitch\", \"title\": \"\"}}, \"height\": 150, \"width\": 100}, {\"mark\": {\"type\": \"rule\", \"color\": \"red\"}, \"encoding\": {\"size\": {\"value\": 1}, \"y\": {\"type\": \"quantitative\", \"field\": \"USL\"}}}, {\"mark\": {\"type\": \"rule\", \"color\": \"red\"}, \"encoding\": {\"size\": {\"value\": 1}, \"y\": {\"type\": \"quantitative\", \"field\": \"LSL\"}}}, {\"mark\": {\"type\": \"rule\", \"color\": \"red\"}, \"encoding\": {\"size\": {\"value\": 1}, \"y\": {\"type\": \"quantitative\", \"field\": \"Nominal\"}}}]}], \"data\": {\"name\": \"data-e6676b181ec920b03930151172c0c4bc\"}, \"title\": \"Box Plot C-Pitch\"}, {\"hconcat\": [{\"layer\": [{\"mark\": \"boxplot\", \"encoding\": {\"x\": {\"type\": \"ordinal\", \"field\": \"Datef\", \"scale\": {}, \"title\": \"\"}, \"y\": {\"type\": \"quantitative\", \"field\": \"J\", \"scale\": {\"zero\": false}, \"title\": \"\"}}, \"height\": 150, \"width\": 800}, {\"mark\": {\"type\": \"line\", \"color\": \"red\"}, \"encoding\": {\"x\": {\"type\": \"ordinal\", \"field\": \"Datef\", \"scale\": {\"zero\": false}}, \"y\": {\"type\": \"quantitative\", \"field\": \"USL\", \"scale\": {\"zero\": false}}}, \"height\": 150, \"width\": 800}, {\"mark\": {\"type\": \"line\", \"color\": \"red\"}, \"encoding\": {\"x\": {\"type\": \"ordinal\", \"field\": \"Datef\", \"scale\": {\"zero\": false}}, \"y\": {\"type\": \"quantitative\", \"field\": \"LSL\", \"scale\": {\"zero\": false}}}, \"height\": 150, \"width\": 800}, {\"mark\": {\"type\": \"line\", \"color\": \"red\"}, \"encoding\": {\"x\": {\"type\": \"ordinal\", \"field\": \"Datef\", \"scale\": {\"zero\": false}}, \"y\": {\"type\": \"quantitative\", \"field\": \"Nominal\", \"scale\": {\"zero\": false}}}, \"height\": 150, \"width\": 800}]}, {\"layer\": [{\"mark\": \"bar\", \"encoding\": {\"x\": {\"type\": \"quantitative\", \"aggregate\": \"count\"}, \"y\": {\"type\": \"quantitative\", \"bin\": true, \"field\": \"J\", \"title\": \"\"}}, \"height\": 150, \"width\": 100}, {\"mark\": {\"type\": \"rule\", \"color\": \"red\"}, \"encoding\": {\"size\": {\"value\": 1}, \"y\": {\"type\": \"quantitative\", \"field\": \"USL\"}}}, {\"mark\": {\"type\": \"rule\", \"color\": \"red\"}, \"encoding\": {\"size\": {\"value\": 1}, \"y\": {\"type\": \"quantitative\", \"field\": \"LSL\"}}}, {\"mark\": {\"type\": \"rule\", \"color\": \"red\"}, \"encoding\": {\"size\": {\"value\": 1}, \"y\": {\"type\": \"quantitative\", \"field\": \"Nominal\"}}}]}], \"data\": {\"name\": \"data-376069c2ee378a3be8be401b3b03beff\"}, \"title\": \"Box Plot J\"}, {\"hconcat\": [{\"layer\": [{\"mark\": \"boxplot\", \"encoding\": {\"x\": {\"type\": \"ordinal\", \"field\": \"Datef\", \"scale\": {}, \"title\": \"\"}, \"y\": {\"type\": \"quantitative\", \"field\": \"I\", \"scale\": {\"zero\": false}, \"title\": \"\"}}, \"height\": 150, \"width\": 800}, {\"mark\": {\"type\": \"line\", \"color\": \"red\"}, \"encoding\": {\"x\": {\"type\": \"ordinal\", \"field\": \"Datef\", \"scale\": {\"zero\": false}}, \"y\": {\"type\": \"quantitative\", \"field\": \"USL\", \"scale\": {\"zero\": false}}}, \"height\": 150, \"width\": 800}, {\"mark\": {\"type\": \"line\", \"color\": \"red\"}, \"encoding\": {\"x\": {\"type\": \"ordinal\", \"field\": \"Datef\", \"scale\": {\"zero\": false}}, \"y\": {\"type\": \"quantitative\", \"field\": \"LSL\", \"scale\": {\"zero\": false}}}, \"height\": 150, \"width\": 800}, {\"mark\": {\"type\": \"line\", \"color\": \"red\"}, \"encoding\": {\"x\": {\"type\": \"ordinal\", \"field\": \"Datef\", \"scale\": {\"zero\": false}}, \"y\": {\"type\": \"quantitative\", \"field\": \"Nominal\", \"scale\": {\"zero\": false}}}, \"height\": 150, \"width\": 800}]}, {\"layer\": [{\"mark\": \"bar\", \"encoding\": {\"x\": {\"type\": \"quantitative\", \"aggregate\": \"count\"}, \"y\": {\"type\": \"quantitative\", \"bin\": true, \"field\": \"I\", \"title\": \"\"}}, \"height\": 150, \"width\": 100}, {\"mark\": {\"type\": \"rule\", \"color\": \"red\"}, \"encoding\": {\"size\": {\"value\": 1}, \"y\": {\"type\": \"quantitative\", \"field\": \"USL\"}}}, {\"mark\": {\"type\": \"rule\", \"color\": \"red\"}, \"encoding\": {\"size\": {\"value\": 1}, \"y\": {\"type\": \"quantitative\", \"field\": \"LSL\"}}}, {\"mark\": {\"type\": \"rule\", \"color\": \"red\"}, \"encoding\": {\"size\": {\"value\": 1}, \"y\": {\"type\": \"quantitative\", \"field\": \"Nominal\"}}}]}], \"data\": {\"name\": \"data-89a563b4fdb08ce29bd91819ea45bf24\"}, \"title\": \"Box Plot I\"}, {\"hconcat\": [{\"layer\": [{\"mark\": \"boxplot\", \"encoding\": {\"x\": {\"type\": \"ordinal\", \"field\": \"Datef\", \"scale\": {}, \"title\": \"\"}, \"y\": {\"type\": \"quantitative\", \"field\": \"O\", \"scale\": {\"zero\": false}, \"title\": \"\"}}, \"height\": 150, \"width\": 800}, {\"mark\": {\"type\": \"line\", \"color\": \"red\"}, \"encoding\": {\"x\": {\"type\": \"ordinal\", \"field\": \"Datef\", \"scale\": {\"zero\": false}}, \"y\": {\"type\": \"quantitative\", \"field\": \"USL\", \"scale\": {\"zero\": false}}}, \"height\": 150, \"width\": 800}, {\"mark\": {\"type\": \"line\", \"color\": \"red\"}, \"encoding\": {\"x\": {\"type\": \"ordinal\", \"field\": \"Datef\", \"scale\": {\"zero\": false}}, \"y\": {\"type\": \"quantitative\", \"field\": \"LSL\", \"scale\": {\"zero\": false}}}, \"height\": 150, \"width\": 800}, {\"mark\": {\"type\": \"line\", \"color\": \"red\"}, \"encoding\": {\"x\": {\"type\": \"ordinal\", \"field\": \"Datef\", \"scale\": {\"zero\": false}}, \"y\": {\"type\": \"quantitative\", \"field\": \"Nominal\", \"scale\": {\"zero\": false}}}, \"height\": 150, \"width\": 800}]}, {\"layer\": [{\"mark\": \"bar\", \"encoding\": {\"x\": {\"type\": \"quantitative\", \"aggregate\": \"count\"}, \"y\": {\"type\": \"quantitative\", \"bin\": true, \"field\": \"O\", \"title\": \"\"}}, \"height\": 150, \"width\": 100}, {\"mark\": {\"type\": \"rule\", \"color\": \"red\"}, \"encoding\": {\"size\": {\"value\": 1}, \"y\": {\"type\": \"quantitative\", \"field\": \"USL\"}}}, {\"mark\": {\"type\": \"rule\", \"color\": \"red\"}, \"encoding\": {\"size\": {\"value\": 1}, \"y\": {\"type\": \"quantitative\", \"field\": \"LSL\"}}}, {\"mark\": {\"type\": \"rule\", \"color\": \"red\"}, \"encoding\": {\"size\": {\"value\": 1}, \"y\": {\"type\": \"quantitative\", \"field\": \"Nominal\"}}}]}], \"data\": {\"name\": \"data-167a625bfc2ce63196d8fcf511d6c30d\"}, \"title\": \"Box Plot O\"}, {\"hconcat\": [{\"layer\": [{\"mark\": \"boxplot\", \"encoding\": {\"x\": {\"type\": \"ordinal\", \"field\": \"Datef\", \"scale\": {}, \"title\": \"\"}, \"y\": {\"type\": \"quantitative\", \"field\": \"Z\", \"scale\": {\"zero\": false}, \"title\": \"\"}}, \"height\": 150, \"width\": 800}, {\"mark\": {\"type\": \"line\", \"color\": \"red\"}, \"encoding\": {\"x\": {\"type\": \"ordinal\", \"field\": \"Datef\", \"scale\": {\"zero\": false}}, \"y\": {\"type\": \"quantitative\", \"field\": \"USL\", \"scale\": {\"zero\": false}}}, \"height\": 150, \"width\": 800}, {\"mark\": {\"type\": \"line\", \"color\": \"red\"}, \"encoding\": {\"x\": {\"type\": \"ordinal\", \"field\": \"Datef\", \"scale\": {\"zero\": false}}, \"y\": {\"type\": \"quantitative\", \"field\": \"LSL\", \"scale\": {\"zero\": false}}}, \"height\": 150, \"width\": 800}, {\"mark\": {\"type\": \"line\", \"color\": \"red\"}, \"encoding\": {\"x\": {\"type\": \"ordinal\", \"field\": \"Datef\", \"scale\": {\"zero\": false}}, \"y\": {\"type\": \"quantitative\", \"field\": \"Nominal\", \"scale\": {\"zero\": false}}}, \"height\": 150, \"width\": 800}]}, {\"layer\": [{\"mark\": \"bar\", \"encoding\": {\"x\": {\"type\": \"quantitative\", \"aggregate\": \"count\"}, \"y\": {\"type\": \"quantitative\", \"bin\": true, \"field\": \"Z\", \"title\": \"\"}}, \"height\": 150, \"width\": 100}, {\"mark\": {\"type\": \"rule\", \"color\": \"red\"}, \"encoding\": {\"size\": {\"value\": 1}, \"y\": {\"type\": \"quantitative\", \"field\": \"USL\"}}}, {\"mark\": {\"type\": \"rule\", \"color\": \"red\"}, \"encoding\": {\"size\": {\"value\": 1}, \"y\": {\"type\": \"quantitative\", \"field\": \"LSL\"}}}, {\"mark\": {\"type\": \"rule\", \"color\": \"red\"}, \"encoding\": {\"size\": {\"value\": 1}, \"y\": {\"type\": \"quantitative\", \"field\": \"Nominal\"}}}]}], \"data\": {\"name\": \"data-1c5f679b5333ab88874ec7ef37d3a5c8\"}, \"title\": \"Box Plot Z\"}], \"data\": {\"name\": \"data-47a814cf3ec57a3003be7397291d8b23\"}, \"$schema\": \"https://vega.github.io/schema/vega-lite/v4.8.1.json\", \"datasets\": {\"data-47a814cf3ec57a3003be7397291d8b23\": [{\"Datef\": \"2019-01-11T00:00:00\", \"Z\": 0.31, \"USL\": 0.32, \"LSL\": 0.27999999999999997, \"Nominal\": 0.3}, {\"Datef\": \"2019-01-22T00:00:00\", \"Z\": 0.311, \"USL\": 0.32, \"LSL\": 0.27999999999999997, \"Nominal\": 0.3}, {\"Datef\": \"2019-01-26T00:00:00\", \"Z\": 0.311, \"USL\": 0.32, \"LSL\": 0.27999999999999997, \"Nominal\": 0.3}, {\"Datef\": \"2019-01-31T00:00:00\", \"Z\": 0.311, \"USL\": 0.32, \"LSL\": 0.27999999999999997, \"Nominal\": 0.3}, {\"Datef\": \"2019-02-11T00:00:00\", \"Z\": 0.312, \"USL\": 0.32, \"LSL\": 0.27999999999999997, \"Nominal\": 0.3}, {\"Datef\": \"2019-02-22T00:00:00\", \"Z\": 0.312, \"USL\": 0.32, \"LSL\": 0.27999999999999997, \"Nominal\": 0.3}, {\"Datef\": \"2019-02-27T00:00:00\", \"Z\": 0.311, \"USL\": 0.32, \"LSL\": 0.27999999999999997, \"Nominal\": 0.3}, {\"Datef\": \"2019-03-07T00:00:00\", \"Z\": 0.311, \"USL\": 0.32, \"LSL\": 0.27999999999999997, \"Nominal\": 0.3}, {\"Datef\": \"2019-03-15T00:00:00\", \"Z\": 0.312, \"USL\": 0.32, \"LSL\": 0.27999999999999997, \"Nominal\": 0.3}, {\"Datef\": \"2019-04-05T00:00:00\", \"Z\": 0.311, \"USL\": 0.32, \"LSL\": 0.27999999999999997, \"Nominal\": 0.3}, {\"Datef\": \"2019-04-16T00:00:00\", \"Z\": 0.313, \"USL\": 0.31999999999999995, \"LSL\": 0.2799999999999999, \"Nominal\": 0.29999999999999993}, {\"Datef\": \"2019-05-27T00:00:00\", \"Z\": 0.313, \"USL\": 0.32, \"LSL\": 0.27999999999999997, \"Nominal\": 0.3}, {\"Datef\": \"2019-06-03T00:00:00\", \"Z\": 0.313, \"USL\": 0.32, \"LSL\": 0.27999999999999997, \"Nominal\": 0.3}, {\"Datef\": \"2019-06-10T00:00:00\", \"Z\": 0.311, \"USL\": 0.32, \"LSL\": 0.27999999999999997, \"Nominal\": 0.3}, {\"Datef\": \"2019-06-17T00:00:00\", \"Z\": 0.313, \"USL\": 0.32, \"LSL\": 0.27999999999999997, \"Nominal\": 0.3}, {\"Datef\": \"2019-06-25T00:00:00\", \"Z\": 0.316, \"USL\": 0.32, \"LSL\": 0.27999999999999997, \"Nominal\": 0.3}, {\"Datef\": \"2019-06-28T00:00:00\", \"Z\": 0.316, \"USL\": 0.32, \"LSL\": 0.27999999999999997, \"Nominal\": 0.3}, {\"Datef\": \"2019-08-07T00:00:00\", \"Z\": 0.313, \"USL\": 0.32, \"LSL\": 0.27999999999999997, \"Nominal\": 0.3}, {\"Datef\": \"2019-08-19T00:00:00\", \"Z\": 0.313, \"USL\": 0.32, \"LSL\": 0.27999999999999997, \"Nominal\": 0.3}, {\"Datef\": \"2019-08-26T00:00:00\", \"Z\": 0.313, \"USL\": 0.32, \"LSL\": 0.27999999999999997, \"Nominal\": 0.3}, {\"Datef\": \"2019-09-05T00:00:00\", \"Z\": 0.316, \"USL\": 0.32, \"LSL\": 0.27999999999999997, \"Nominal\": 0.3}, {\"Datef\": \"2019-10-17T00:00:00\", \"Z\": 0.313, \"USL\": 0.32, \"LSL\": 0.27999999999999997, \"Nominal\": 0.3}, {\"Datef\": \"2019-11-01T00:00:00\", \"Z\": 0.313, \"USL\": 0.32, \"LSL\": 0.27999999999999997, \"Nominal\": 0.3}, {\"Datef\": \"2019-11-13T00:00:00\", \"Z\": 0.315, \"USL\": 0.32, \"LSL\": 0.27999999999999997, \"Nominal\": 0.3}, {\"Datef\": \"2019-12-05T00:00:00\", \"Z\": 0.308, \"USL\": 0.32, \"LSL\": 0.27999999999999997, \"Nominal\": 0.3}, {\"Datef\": \"2019-12-10T00:00:00\", \"Z\": 0.311, \"USL\": 0.32, \"LSL\": 0.27999999999999997, \"Nominal\": 0.3}, {\"Datef\": \"2019-12-26T00:00:00\", \"Z\": 0.312, \"USL\": 0.32, \"LSL\": 0.27999999999999997, \"Nominal\": 0.3}, {\"Datef\": \"2019-12-31T00:00:00\", \"Z\": 0.313, \"USL\": 0.32, \"LSL\": 0.27999999999999997, \"Nominal\": 0.3}], \"data-e6676b181ec920b03930151172c0c4bc\": [{\"Datef\": \"\\\"2019-01-11\\\"\", \"C-Pitch\": 10.003, \"USL\": 10.01, \"LSL\": 9.99, \"Nominal\": 10.0}, {\"Datef\": \"\\\"2019-01-11\\\"\", \"C-Pitch\": 10.005, \"USL\": 10.01, \"LSL\": 9.99, \"Nominal\": 10.0}, {\"Datef\": \"\\\"2019-01-11\\\"\", \"C-Pitch\": 10.005, \"USL\": 10.01, \"LSL\": 9.99, \"Nominal\": 10.0}, {\"Datef\": \"\\\"2019-01-11\\\"\", \"C-Pitch\": 10.002, \"USL\": 10.01, \"LSL\": 9.99, \"Nominal\": 10.0}, {\"Datef\": \"\\\"2019-01-11\\\"\", \"C-Pitch\": 10.003, \"USL\": 10.01, \"LSL\": 9.99, \"Nominal\": 10.0}, {\"Datef\": \"\\\"2019-01-22\\\"\", \"C-Pitch\": 10.002, \"USL\": 10.01, \"LSL\": 9.99, \"Nominal\": 10.0}, {\"Datef\": \"\\\"2019-01-22\\\"\", \"C-Pitch\": 9.996, \"USL\": 10.01, \"LSL\": 9.99, \"Nominal\": 10.0}, {\"Datef\": \"\\\"2019-01-22\\\"\", \"C-Pitch\": 10.005, \"USL\": 10.01, \"LSL\": 9.99, \"Nominal\": 10.0}, {\"Datef\": \"\\\"2019-01-22\\\"\", \"C-Pitch\": 10.003, \"USL\": 10.01, \"LSL\": 9.99, \"Nominal\": 10.0}, {\"Datef\": \"\\\"2019-01-22\\\"\", \"C-Pitch\": 9.998, \"USL\": 10.01, \"LSL\": 9.99, \"Nominal\": 10.0}, {\"Datef\": \"\\\"2019-01-26\\\"\", \"C-Pitch\": 10.005, \"USL\": 10.01, \"LSL\": 9.99, \"Nominal\": 10.0}, {\"Datef\": \"\\\"2019-01-26\\\"\", \"C-Pitch\": 9.995, \"USL\": 10.01, \"LSL\": 9.99, \"Nominal\": 10.0}, {\"Datef\": \"\\\"2019-01-26\\\"\", \"C-Pitch\": 10.003, \"USL\": 10.01, \"LSL\": 9.99, \"Nominal\": 10.0}, {\"Datef\": \"\\\"2019-01-26\\\"\", \"C-Pitch\": 9.997, \"USL\": 10.01, \"LSL\": 9.99, \"Nominal\": 10.0}, {\"Datef\": \"\\\"2019-01-26\\\"\", \"C-Pitch\": 10.009, \"USL\": 10.01, \"LSL\": 9.99, \"Nominal\": 10.0}, {\"Datef\": \"\\\"2019-01-31\\\"\", \"C-Pitch\": 9.997, \"USL\": 10.01, \"LSL\": 9.99, \"Nominal\": 10.0}, {\"Datef\": \"\\\"2019-01-31\\\"\", \"C-Pitch\": 10.009, \"USL\": 10.01, \"LSL\": 9.99, \"Nominal\": 10.0}, {\"Datef\": \"\\\"2019-01-31\\\"\", \"C-Pitch\": 9.997, \"USL\": 10.01, \"LSL\": 9.99, \"Nominal\": 10.0}, {\"Datef\": \"\\\"2019-01-31\\\"\", \"C-Pitch\": 10.008, \"USL\": 10.01, \"LSL\": 9.99, \"Nominal\": 10.0}, {\"Datef\": \"\\\"2019-01-31\\\"\", \"C-Pitch\": 10.005, \"USL\": 10.01, \"LSL\": 9.99, \"Nominal\": 10.0}, {\"Datef\": \"\\\"2019-02-11\\\"\", \"C-Pitch\": 10.005, \"USL\": 10.01, \"LSL\": 9.99, \"Nominal\": 10.0}, {\"Datef\": \"\\\"2019-02-11\\\"\", \"C-Pitch\": 10.003, \"USL\": 10.01, \"LSL\": 9.99, \"Nominal\": 10.0}, {\"Datef\": \"\\\"2019-02-11\\\"\", \"C-Pitch\": 10.004, \"USL\": 10.01, \"LSL\": 9.99, \"Nominal\": 10.0}, {\"Datef\": \"\\\"2019-02-11\\\"\", \"C-Pitch\": 9.998, \"USL\": 10.01, \"LSL\": 9.99, \"Nominal\": 10.0}, {\"Datef\": \"\\\"2019-02-11\\\"\", \"C-Pitch\": 10.005, \"USL\": 10.01, \"LSL\": 9.99, \"Nominal\": 10.0}, {\"Datef\": \"\\\"2019-02-22\\\"\", \"C-Pitch\": 9.995, \"USL\": 10.01, \"LSL\": 9.99, \"Nominal\": 10.0}, {\"Datef\": \"\\\"2019-02-22\\\"\", \"C-Pitch\": 10.01, \"USL\": 10.01, \"LSL\": 9.99, \"Nominal\": 10.0}, {\"Datef\": \"\\\"2019-02-22\\\"\", \"C-Pitch\": 9.999, \"USL\": 10.01, \"LSL\": 9.99, \"Nominal\": 10.0}, {\"Datef\": \"\\\"2019-02-22\\\"\", \"C-Pitch\": 10.008, \"USL\": 10.01, \"LSL\": 9.99, \"Nominal\": 10.0}, {\"Datef\": \"\\\"2019-02-22\\\"\", \"C-Pitch\": 9.999, \"USL\": 10.01, \"LSL\": 9.99, \"Nominal\": 10.0}, {\"Datef\": \"\\\"2019-02-27\\\"\", \"C-Pitch\": 10.009, \"USL\": 10.01, \"LSL\": 9.99, \"Nominal\": 10.0}, {\"Datef\": \"\\\"2019-02-27\\\"\", \"C-Pitch\": 9.999, \"USL\": 10.01, \"LSL\": 9.99, \"Nominal\": 10.0}, {\"Datef\": \"\\\"2019-02-27\\\"\", \"C-Pitch\": 10.005, \"USL\": 10.01, \"LSL\": 9.99, \"Nominal\": 10.0}, {\"Datef\": \"\\\"2019-02-27\\\"\", \"C-Pitch\": 9.996, \"USL\": 10.01, \"LSL\": 9.99, \"Nominal\": 10.0}, {\"Datef\": \"\\\"2019-02-27\\\"\", \"C-Pitch\": 10.006, \"USL\": 10.01, \"LSL\": 9.99, \"Nominal\": 10.0}, {\"Datef\": \"\\\"2019-03-07\\\"\", \"C-Pitch\": 10.001, \"USL\": 10.01, \"LSL\": 9.99, \"Nominal\": 10.0}, {\"Datef\": \"\\\"2019-03-07\\\"\", \"C-Pitch\": 10.002, \"USL\": 10.01, \"LSL\": 9.99, \"Nominal\": 10.0}, {\"Datef\": \"\\\"2019-03-07\\\"\", \"C-Pitch\": 10.001, \"USL\": 10.01, \"LSL\": 9.99, \"Nominal\": 10.0}, {\"Datef\": \"\\\"2019-03-07\\\"\", \"C-Pitch\": 10.002, \"USL\": 10.01, \"LSL\": 9.99, \"Nominal\": 10.0}, {\"Datef\": \"\\\"2019-03-07\\\"\", \"C-Pitch\": 10.002, \"USL\": 10.01, \"LSL\": 9.99, \"Nominal\": 10.0}, {\"Datef\": \"\\\"2019-03-15\\\"\", \"C-Pitch\": 9.996, \"USL\": 10.01, \"LSL\": 9.99, \"Nominal\": 10.0}, {\"Datef\": \"\\\"2019-03-15\\\"\", \"C-Pitch\": 10.004, \"USL\": 10.01, \"LSL\": 9.99, \"Nominal\": 10.0}, {\"Datef\": \"\\\"2019-03-15\\\"\", \"C-Pitch\": 9.991, \"USL\": 10.01, \"LSL\": 9.99, \"Nominal\": 10.0}, {\"Datef\": \"\\\"2019-03-15\\\"\", \"C-Pitch\": 10.0, \"USL\": 10.01, \"LSL\": 9.99, \"Nominal\": 10.0}, {\"Datef\": \"\\\"2019-03-15\\\"\", \"C-Pitch\": 10.0, \"USL\": 10.01, \"LSL\": 9.99, \"Nominal\": 10.0}, {\"Datef\": \"\\\"2019-04-05\\\"\", \"C-Pitch\": 9.998, \"USL\": 10.01, \"LSL\": 9.99, \"Nominal\": 10.0}, {\"Datef\": \"\\\"2019-04-05\\\"\", \"C-Pitch\": 10.009, \"USL\": 10.01, \"LSL\": 9.99, \"Nominal\": 10.0}, {\"Datef\": \"\\\"2019-04-05\\\"\", \"C-Pitch\": 9.999, \"USL\": 10.01, \"LSL\": 9.99, \"Nominal\": 10.0}, {\"Datef\": \"\\\"2019-04-05\\\"\", \"C-Pitch\": 10.004, \"USL\": 10.01, \"LSL\": 9.99, \"Nominal\": 10.0}, {\"Datef\": \"\\\"2019-04-05\\\"\", \"C-Pitch\": 10.002, \"USL\": 10.01, \"LSL\": 9.99, \"Nominal\": 10.0}, {\"Datef\": \"\\\"2019-04-16\\\"\", \"C-Pitch\": 10.004, \"USL\": 10.01, \"LSL\": 9.99, \"Nominal\": 10.0}, {\"Datef\": \"\\\"2019-04-16\\\"\", \"C-Pitch\": 9.993, \"USL\": 10.01, \"LSL\": 9.99, \"Nominal\": 10.0}, {\"Datef\": \"\\\"2019-04-16\\\"\", \"C-Pitch\": 10.005, \"USL\": 10.01, \"LSL\": 9.99, \"Nominal\": 10.0}, {\"Datef\": \"\\\"2019-04-16\\\"\", \"C-Pitch\": 10.003, \"USL\": 10.01, \"LSL\": 9.99, \"Nominal\": 10.0}, {\"Datef\": \"\\\"2019-04-16\\\"\", \"C-Pitch\": 10.007, \"USL\": 10.01, \"LSL\": 9.99, \"Nominal\": 10.0}, {\"Datef\": \"\\\"2019-04-16\\\"\", \"C-Pitch\": 10.005, \"USL\": 10.01, \"LSL\": 9.99, \"Nominal\": 10.0}, {\"Datef\": \"\\\"2019-04-16\\\"\", \"C-Pitch\": 10.005, \"USL\": 10.01, \"LSL\": 9.99, \"Nominal\": 10.0}, {\"Datef\": \"\\\"2019-04-16\\\"\", \"C-Pitch\": 10.008, \"USL\": 10.01, \"LSL\": 9.99, \"Nominal\": 10.0}, {\"Datef\": \"\\\"2019-04-16\\\"\", \"C-Pitch\": 9.997, \"USL\": 10.01, \"LSL\": 9.99, \"Nominal\": 10.0}, {\"Datef\": \"\\\"2019-04-16\\\"\", \"C-Pitch\": 10.005, \"USL\": 10.01, \"LSL\": 9.99, \"Nominal\": 10.0}, {\"Datef\": \"\\\"2019-05-27\\\"\", \"C-Pitch\": 10.004, \"USL\": 10.01, \"LSL\": 9.99, \"Nominal\": 10.0}, {\"Datef\": \"\\\"2019-05-27\\\"\", \"C-Pitch\": 9.998, \"USL\": 10.01, \"LSL\": 9.99, \"Nominal\": 10.0}, {\"Datef\": \"\\\"2019-05-27\\\"\", \"C-Pitch\": 10.01, \"USL\": 10.01, \"LSL\": 9.99, \"Nominal\": 10.0}, {\"Datef\": \"\\\"2019-05-27\\\"\", \"C-Pitch\": 9.999, \"USL\": 10.01, \"LSL\": 9.99, \"Nominal\": 10.0}, {\"Datef\": \"\\\"2019-05-27\\\"\", \"C-Pitch\": 10.007, \"USL\": 10.01, \"LSL\": 9.99, \"Nominal\": 10.0}, {\"Datef\": \"\\\"2019-06-03\\\"\", \"C-Pitch\": 10.005, \"USL\": 10.01, \"LSL\": 9.99, \"Nominal\": 10.0}, {\"Datef\": \"\\\"2019-06-03\\\"\", \"C-Pitch\": 10.001, \"USL\": 10.01, \"LSL\": 9.99, \"Nominal\": 10.0}, {\"Datef\": \"\\\"2019-06-03\\\"\", \"C-Pitch\": 10.001, \"USL\": 10.01, \"LSL\": 9.99, \"Nominal\": 10.0}, {\"Datef\": \"\\\"2019-06-03\\\"\", \"C-Pitch\": 9.998, \"USL\": 10.01, \"LSL\": 9.99, \"Nominal\": 10.0}, {\"Datef\": \"\\\"2019-06-03\\\"\", \"C-Pitch\": 10.001, \"USL\": 10.01, \"LSL\": 9.99, \"Nominal\": 10.0}, {\"Datef\": \"\\\"2019-06-10\\\"\", \"C-Pitch\": 9.997, \"USL\": 10.01, \"LSL\": 9.99, \"Nominal\": 10.0}, {\"Datef\": \"\\\"2019-06-10\\\"\", \"C-Pitch\": 9.999, \"USL\": 10.01, \"LSL\": 9.99, \"Nominal\": 10.0}, {\"Datef\": \"\\\"2019-06-10\\\"\", \"C-Pitch\": 9.998, \"USL\": 10.01, \"LSL\": 9.99, \"Nominal\": 10.0}, {\"Datef\": \"\\\"2019-06-10\\\"\", \"C-Pitch\": 10.001, \"USL\": 10.01, \"LSL\": 9.99, \"Nominal\": 10.0}, {\"Datef\": \"\\\"2019-06-10\\\"\", \"C-Pitch\": 10.004, \"USL\": 10.01, \"LSL\": 9.99, \"Nominal\": 10.0}, {\"Datef\": \"\\\"2019-06-17\\\"\", \"C-Pitch\": 9.999, \"USL\": 10.01, \"LSL\": 9.99, \"Nominal\": 10.0}, {\"Datef\": \"\\\"2019-06-17\\\"\", \"C-Pitch\": 10.003, \"USL\": 10.01, \"LSL\": 9.99, \"Nominal\": 10.0}, {\"Datef\": \"\\\"2019-06-17\\\"\", \"C-Pitch\": 10.004, \"USL\": 10.01, \"LSL\": 9.99, \"Nominal\": 10.0}, {\"Datef\": \"\\\"2019-06-17\\\"\", \"C-Pitch\": 9.998, \"USL\": 10.01, \"LSL\": 9.99, \"Nominal\": 10.0}, {\"Datef\": \"\\\"2019-06-17\\\"\", \"C-Pitch\": 10.004, \"USL\": 10.01, \"LSL\": 9.99, \"Nominal\": 10.0}, {\"Datef\": \"\\\"2019-06-25\\\"\", \"C-Pitch\": 10.004, \"USL\": 10.01, \"LSL\": 9.99, \"Nominal\": 10.0}, {\"Datef\": \"\\\"2019-06-25\\\"\", \"C-Pitch\": 9.999, \"USL\": 10.01, \"LSL\": 9.99, \"Nominal\": 10.0}, {\"Datef\": \"\\\"2019-06-25\\\"\", \"C-Pitch\": 9.993, \"USL\": 10.01, \"LSL\": 9.99, \"Nominal\": 10.0}, {\"Datef\": \"\\\"2019-06-25\\\"\", \"C-Pitch\": 10.005, \"USL\": 10.01, \"LSL\": 9.99, \"Nominal\": 10.0}, {\"Datef\": \"\\\"2019-06-25\\\"\", \"C-Pitch\": 10.003, \"USL\": 10.01, \"LSL\": 9.99, \"Nominal\": 10.0}, {\"Datef\": \"\\\"2019-06-28\\\"\", \"C-Pitch\": 9.994, \"USL\": 10.01, \"LSL\": 9.99, \"Nominal\": 10.0}, {\"Datef\": \"\\\"2019-06-28\\\"\", \"C-Pitch\": 10.0, \"USL\": 10.01, \"LSL\": 9.99, \"Nominal\": 10.0}, {\"Datef\": \"\\\"2019-06-28\\\"\", \"C-Pitch\": 10.001, \"USL\": 10.01, \"LSL\": 9.99, \"Nominal\": 10.0}, {\"Datef\": \"\\\"2019-06-28\\\"\", \"C-Pitch\": 10.005, \"USL\": 10.01, \"LSL\": 9.99, \"Nominal\": 10.0}, {\"Datef\": \"\\\"2019-06-28\\\"\", \"C-Pitch\": 10.01, \"USL\": 10.01, \"LSL\": 9.99, \"Nominal\": 10.0}, {\"Datef\": \"\\\"2019-08-07\\\"\", \"C-Pitch\": 10.001, \"USL\": 10.01, \"LSL\": 9.99, \"Nominal\": 10.0}, {\"Datef\": \"\\\"2019-08-07\\\"\", \"C-Pitch\": 10.002, \"USL\": 10.01, \"LSL\": 9.99, \"Nominal\": 10.0}, {\"Datef\": \"\\\"2019-08-07\\\"\", \"C-Pitch\": 10.004, \"USL\": 10.01, \"LSL\": 9.99, \"Nominal\": 10.0}, {\"Datef\": \"\\\"2019-08-07\\\"\", \"C-Pitch\": 10.001, \"USL\": 10.01, \"LSL\": 9.99, \"Nominal\": 10.0}, {\"Datef\": \"\\\"2019-08-07\\\"\", \"C-Pitch\": 9.998, \"USL\": 10.01, \"LSL\": 9.99, \"Nominal\": 10.0}, {\"Datef\": \"\\\"2019-08-19\\\"\", \"C-Pitch\": 9.993, \"USL\": 10.01, \"LSL\": 9.99, \"Nominal\": 10.0}, {\"Datef\": \"\\\"2019-08-19\\\"\", \"C-Pitch\": 10.002, \"USL\": 10.01, \"LSL\": 9.99, \"Nominal\": 10.0}, {\"Datef\": \"\\\"2019-08-19\\\"\", \"C-Pitch\": 10.003, \"USL\": 10.01, \"LSL\": 9.99, \"Nominal\": 10.0}, {\"Datef\": \"\\\"2019-08-19\\\"\", \"C-Pitch\": 10.0, \"USL\": 10.01, \"LSL\": 9.99, \"Nominal\": 10.0}, {\"Datef\": \"\\\"2019-08-19\\\"\", \"C-Pitch\": 10.003, \"USL\": 10.01, \"LSL\": 9.99, \"Nominal\": 10.0}, {\"Datef\": \"\\\"2019-08-26\\\"\", \"C-Pitch\": 10.002, \"USL\": 10.01, \"LSL\": 9.99, \"Nominal\": 10.0}, {\"Datef\": \"\\\"2019-08-26\\\"\", \"C-Pitch\": 10.002, \"USL\": 10.01, \"LSL\": 9.99, \"Nominal\": 10.0}, {\"Datef\": \"\\\"2019-08-26\\\"\", \"C-Pitch\": 9.998, \"USL\": 10.01, \"LSL\": 9.99, \"Nominal\": 10.0}, {\"Datef\": \"\\\"2019-08-26\\\"\", \"C-Pitch\": 10.003, \"USL\": 10.01, \"LSL\": 9.99, \"Nominal\": 10.0}, {\"Datef\": \"\\\"2019-08-26\\\"\", \"C-Pitch\": 10.001, \"USL\": 10.01, \"LSL\": 9.99, \"Nominal\": 10.0}, {\"Datef\": \"\\\"2019-09-05\\\"\", \"C-Pitch\": 10.0, \"USL\": 10.01, \"LSL\": 9.99, \"Nominal\": 10.0}, {\"Datef\": \"\\\"2019-09-05\\\"\", \"C-Pitch\": 10.002, \"USL\": 10.01, \"LSL\": 9.99, \"Nominal\": 10.0}, {\"Datef\": \"\\\"2019-09-05\\\"\", \"C-Pitch\": 10.0, \"USL\": 10.01, \"LSL\": 9.99, \"Nominal\": 10.0}, {\"Datef\": \"\\\"2019-09-05\\\"\", \"C-Pitch\": 10.004, \"USL\": 10.01, \"LSL\": 9.99, \"Nominal\": 10.0}, {\"Datef\": \"\\\"2019-09-05\\\"\", \"C-Pitch\": 10.002, \"USL\": 10.01, \"LSL\": 9.99, \"Nominal\": 10.0}, {\"Datef\": \"\\\"2019-10-17\\\"\", \"C-Pitch\": 10.002, \"USL\": 10.01, \"LSL\": 9.99, \"Nominal\": 10.0}, {\"Datef\": \"\\\"2019-10-17\\\"\", \"C-Pitch\": 9.998, \"USL\": 10.01, \"LSL\": 9.99, \"Nominal\": 10.0}, {\"Datef\": \"\\\"2019-10-17\\\"\", \"C-Pitch\": 10.001, \"USL\": 10.01, \"LSL\": 9.99, \"Nominal\": 10.0}, {\"Datef\": \"\\\"2019-10-17\\\"\", \"C-Pitch\": 10.003, \"USL\": 10.01, \"LSL\": 9.99, \"Nominal\": 10.0}, {\"Datef\": \"\\\"2019-10-17\\\"\", \"C-Pitch\": 9.996, \"USL\": 10.01, \"LSL\": 9.99, \"Nominal\": 10.0}, {\"Datef\": \"\\\"2019-11-01\\\"\", \"C-Pitch\": 9.999, \"USL\": 10.01, \"LSL\": 9.99, \"Nominal\": 10.0}, {\"Datef\": \"\\\"2019-11-01\\\"\", \"C-Pitch\": 9.993, \"USL\": 10.01, \"LSL\": 9.99, \"Nominal\": 10.0}, {\"Datef\": \"\\\"2019-11-01\\\"\", \"C-Pitch\": 10.003, \"USL\": 10.01, \"LSL\": 9.99, \"Nominal\": 10.0}, {\"Datef\": \"\\\"2019-11-01\\\"\", \"C-Pitch\": 10.007, \"USL\": 10.01, \"LSL\": 9.99, \"Nominal\": 10.0}, {\"Datef\": \"\\\"2019-11-01\\\"\", \"C-Pitch\": 9.998, \"USL\": 10.01, \"LSL\": 9.99, \"Nominal\": 10.0}, {\"Datef\": \"\\\"2019-11-13\\\"\", \"C-Pitch\": 10.007, \"USL\": 10.01, \"LSL\": 9.99, \"Nominal\": 10.0}, {\"Datef\": \"\\\"2019-11-13\\\"\", \"C-Pitch\": 9.999, \"USL\": 10.01, \"LSL\": 9.99, \"Nominal\": 10.0}, {\"Datef\": \"\\\"2019-11-13\\\"\", \"C-Pitch\": 10.001, \"USL\": 10.01, \"LSL\": 9.99, \"Nominal\": 10.0}, {\"Datef\": \"\\\"2019-11-13\\\"\", \"C-Pitch\": 9.998, \"USL\": 10.01, \"LSL\": 9.99, \"Nominal\": 10.0}, {\"Datef\": \"\\\"2019-11-13\\\"\", \"C-Pitch\": 10.005, \"USL\": 10.01, \"LSL\": 9.99, \"Nominal\": 10.0}, {\"Datef\": \"\\\"2019-12-05\\\"\", \"C-Pitch\": 10.004, \"USL\": 10.01, \"LSL\": 9.99, \"Nominal\": 10.0}, {\"Datef\": \"\\\"2019-12-05\\\"\", \"C-Pitch\": 10.001, \"USL\": 10.01, \"LSL\": 9.99, \"Nominal\": 10.0}, {\"Datef\": \"\\\"2019-12-05\\\"\", \"C-Pitch\": 9.998, \"USL\": 10.01, \"LSL\": 9.99, \"Nominal\": 10.0}, {\"Datef\": \"\\\"2019-12-05\\\"\", \"C-Pitch\": 10.001, \"USL\": 10.01, \"LSL\": 9.99, \"Nominal\": 10.0}, {\"Datef\": \"\\\"2019-12-05\\\"\", \"C-Pitch\": 9.997, \"USL\": 10.01, \"LSL\": 9.99, \"Nominal\": 10.0}, {\"Datef\": \"\\\"2019-12-10\\\"\", \"C-Pitch\": 10.002, \"USL\": 10.01, \"LSL\": 9.99, \"Nominal\": 10.0}, {\"Datef\": \"\\\"2019-12-10\\\"\", \"C-Pitch\": 10.009, \"USL\": 10.01, \"LSL\": 9.99, \"Nominal\": 10.0}, {\"Datef\": \"\\\"2019-12-10\\\"\", \"C-Pitch\": 10.001, \"USL\": 10.01, \"LSL\": 9.99, \"Nominal\": 10.0}, {\"Datef\": \"\\\"2019-12-10\\\"\", \"C-Pitch\": 10.001, \"USL\": 10.01, \"LSL\": 9.99, \"Nominal\": 10.0}, {\"Datef\": \"\\\"2019-12-10\\\"\", \"C-Pitch\": 10.003, \"USL\": 10.01, \"LSL\": 9.99, \"Nominal\": 10.0}, {\"Datef\": \"\\\"2019-12-26\\\"\", \"C-Pitch\": 10.003, \"USL\": 10.01, \"LSL\": 9.99, \"Nominal\": 10.0}, {\"Datef\": \"\\\"2019-12-26\\\"\", \"C-Pitch\": 10.001, \"USL\": 10.01, \"LSL\": 9.99, \"Nominal\": 10.0}, {\"Datef\": \"\\\"2019-12-26\\\"\", \"C-Pitch\": 10.004, \"USL\": 10.01, \"LSL\": 9.99, \"Nominal\": 10.0}, {\"Datef\": \"\\\"2019-12-26\\\"\", \"C-Pitch\": 10.002, \"USL\": 10.01, \"LSL\": 9.99, \"Nominal\": 10.0}, {\"Datef\": \"\\\"2019-12-26\\\"\", \"C-Pitch\": 10.006, \"USL\": 10.01, \"LSL\": 9.99, \"Nominal\": 10.0}, {\"Datef\": \"\\\"2019-12-31\\\"\", \"C-Pitch\": 9.991, \"USL\": 10.01, \"LSL\": 9.99, \"Nominal\": 10.0}, {\"Datef\": \"\\\"2019-12-31\\\"\", \"C-Pitch\": 9.999, \"USL\": 10.01, \"LSL\": 9.99, \"Nominal\": 10.0}, {\"Datef\": \"\\\"2019-12-31\\\"\", \"C-Pitch\": 10.003, \"USL\": 10.01, \"LSL\": 9.99, \"Nominal\": 10.0}, {\"Datef\": \"\\\"2019-12-31\\\"\", \"C-Pitch\": 10.002, \"USL\": 10.01, \"LSL\": 9.99, \"Nominal\": 10.0}, {\"Datef\": \"\\\"2019-12-31\\\"\", \"C-Pitch\": 10.002, \"USL\": 10.01, \"LSL\": 9.99, \"Nominal\": 10.0}], \"data-376069c2ee378a3be8be401b3b03beff\": [{\"Datef\": \"\\\"2019-01-11\\\"\", \"J\": 1.219, \"USL\": 1.22, \"LSL\": 1.21, \"Nominal\": 1.21}, {\"Datef\": \"\\\"2019-01-11\\\"\", \"J\": 1.219, \"USL\": 1.22, \"LSL\": 1.21, \"Nominal\": 1.21}, {\"Datef\": \"\\\"2019-01-11\\\"\", \"J\": 1.219, \"USL\": 1.22, \"LSL\": 1.21, \"Nominal\": 1.21}, {\"Datef\": \"\\\"2019-01-11\\\"\", \"J\": 1.218, \"USL\": 1.22, \"LSL\": 1.21, \"Nominal\": 1.21}, {\"Datef\": \"\\\"2019-01-11\\\"\", \"J\": 1.219, \"USL\": 1.22, \"LSL\": 1.21, \"Nominal\": 1.21}, {\"Datef\": \"\\\"2019-01-22\\\"\", \"J\": 1.218, \"USL\": 1.22, \"LSL\": 1.21, \"Nominal\": 1.21}, {\"Datef\": \"\\\"2019-01-22\\\"\", \"J\": 1.218, \"USL\": 1.22, \"LSL\": 1.21, \"Nominal\": 1.21}, {\"Datef\": \"\\\"2019-01-22\\\"\", \"J\": 1.22, \"USL\": 1.22, \"LSL\": 1.21, \"Nominal\": 1.21}, {\"Datef\": \"\\\"2019-01-22\\\"\", \"J\": 1.22, \"USL\": 1.22, \"LSL\": 1.21, \"Nominal\": 1.21}, {\"Datef\": \"\\\"2019-01-22\\\"\", \"J\": 1.22, \"USL\": 1.22, \"LSL\": 1.21, \"Nominal\": 1.21}, {\"Datef\": \"\\\"2019-01-26\\\"\", \"J\": 1.22, \"USL\": 1.22, \"LSL\": 1.21, \"Nominal\": 1.21}, {\"Datef\": \"\\\"2019-01-26\\\"\", \"J\": 1.22, \"USL\": 1.22, \"LSL\": 1.21, \"Nominal\": 1.21}, {\"Datef\": \"\\\"2019-01-26\\\"\", \"J\": 1.22, \"USL\": 1.22, \"LSL\": 1.21, \"Nominal\": 1.21}, {\"Datef\": \"\\\"2019-01-26\\\"\", \"J\": 1.22, \"USL\": 1.22, \"LSL\": 1.21, \"Nominal\": 1.21}, {\"Datef\": \"\\\"2019-01-26\\\"\", \"J\": 1.22, \"USL\": 1.22, \"LSL\": 1.21, \"Nominal\": 1.21}, {\"Datef\": \"\\\"2019-01-31\\\"\", \"J\": 1.22, \"USL\": 1.22, \"LSL\": 1.21, \"Nominal\": 1.21}, {\"Datef\": \"\\\"2019-01-31\\\"\", \"J\": 1.22, \"USL\": 1.22, \"LSL\": 1.21, \"Nominal\": 1.21}, {\"Datef\": \"\\\"2019-01-31\\\"\", \"J\": 1.22, \"USL\": 1.22, \"LSL\": 1.21, \"Nominal\": 1.21}, {\"Datef\": \"\\\"2019-01-31\\\"\", \"J\": 1.22, \"USL\": 1.22, \"LSL\": 1.21, \"Nominal\": 1.21}, {\"Datef\": \"\\\"2019-01-31\\\"\", \"J\": 1.22, \"USL\": 1.22, \"LSL\": 1.21, \"Nominal\": 1.21}, {\"Datef\": \"\\\"2019-02-11\\\"\", \"J\": 1.22, \"USL\": 1.22, \"LSL\": 1.21, \"Nominal\": 1.21}, {\"Datef\": \"\\\"2019-02-11\\\"\", \"J\": 1.22, \"USL\": 1.22, \"LSL\": 1.21, \"Nominal\": 1.21}, {\"Datef\": \"\\\"2019-02-11\\\"\", \"J\": 1.22, \"USL\": 1.22, \"LSL\": 1.21, \"Nominal\": 1.21}, {\"Datef\": \"\\\"2019-02-11\\\"\", \"J\": 1.22, \"USL\": 1.22, \"LSL\": 1.21, \"Nominal\": 1.21}, {\"Datef\": \"\\\"2019-02-11\\\"\", \"J\": 1.22, \"USL\": 1.22, \"LSL\": 1.21, \"Nominal\": 1.21}, {\"Datef\": \"\\\"2019-02-22\\\"\", \"J\": 1.22, \"USL\": 1.22, \"LSL\": 1.21, \"Nominal\": 1.21}, {\"Datef\": \"\\\"2019-02-22\\\"\", \"J\": 1.219, \"USL\": 1.22, \"LSL\": 1.21, \"Nominal\": 1.21}, {\"Datef\": \"\\\"2019-02-22\\\"\", \"J\": 1.22, \"USL\": 1.22, \"LSL\": 1.21, \"Nominal\": 1.21}, {\"Datef\": \"\\\"2019-02-22\\\"\", \"J\": 1.22, \"USL\": 1.22, \"LSL\": 1.21, \"Nominal\": 1.21}, {\"Datef\": \"\\\"2019-02-22\\\"\", \"J\": 1.22, \"USL\": 1.22, \"LSL\": 1.21, \"Nominal\": 1.21}, {\"Datef\": \"\\\"2019-02-27\\\"\", \"J\": 1.22, \"USL\": 1.22, \"LSL\": 1.21, \"Nominal\": 1.21}, {\"Datef\": \"\\\"2019-02-27\\\"\", \"J\": 1.22, \"USL\": 1.22, \"LSL\": 1.21, \"Nominal\": 1.21}, {\"Datef\": \"\\\"2019-02-27\\\"\", \"J\": 1.22, \"USL\": 1.22, \"LSL\": 1.21, \"Nominal\": 1.21}, {\"Datef\": \"\\\"2019-02-27\\\"\", \"J\": 1.22, \"USL\": 1.22, \"LSL\": 1.21, \"Nominal\": 1.21}, {\"Datef\": \"\\\"2019-02-27\\\"\", \"J\": 1.22, \"USL\": 1.22, \"LSL\": 1.21, \"Nominal\": 1.21}, {\"Datef\": \"\\\"2019-03-07\\\"\", \"J\": 1.22, \"USL\": 1.22, \"LSL\": 1.21, \"Nominal\": 1.21}, {\"Datef\": \"\\\"2019-03-07\\\"\", \"J\": 1.22, \"USL\": 1.22, \"LSL\": 1.21, \"Nominal\": 1.21}, {\"Datef\": \"\\\"2019-03-07\\\"\", \"J\": 1.22, \"USL\": 1.22, \"LSL\": 1.21, \"Nominal\": 1.21}, {\"Datef\": \"\\\"2019-03-07\\\"\", \"J\": 1.22, \"USL\": 1.22, \"LSL\": 1.21, \"Nominal\": 1.21}, {\"Datef\": \"\\\"2019-03-07\\\"\", \"J\": 1.22, \"USL\": 1.22, \"LSL\": 1.21, \"Nominal\": 1.21}, {\"Datef\": \"\\\"2019-03-15\\\"\", \"J\": 1.219, \"USL\": 1.22, \"LSL\": 1.21, \"Nominal\": 1.21}, {\"Datef\": \"\\\"2019-03-15\\\"\", \"J\": 1.219, \"USL\": 1.22, \"LSL\": 1.21, \"Nominal\": 1.21}, {\"Datef\": \"\\\"2019-03-15\\\"\", \"J\": 1.219, \"USL\": 1.22, \"LSL\": 1.21, \"Nominal\": 1.21}, {\"Datef\": \"\\\"2019-03-15\\\"\", \"J\": 1.218, \"USL\": 1.22, \"LSL\": 1.21, \"Nominal\": 1.21}, {\"Datef\": \"\\\"2019-03-15\\\"\", \"J\": 1.22, \"USL\": 1.22, \"LSL\": 1.21, \"Nominal\": 1.21}, {\"Datef\": \"\\\"2019-04-05\\\"\", \"J\": 1.219, \"USL\": 1.22, \"LSL\": 1.21, \"Nominal\": 1.21}, {\"Datef\": \"\\\"2019-04-05\\\"\", \"J\": 1.22, \"USL\": 1.22, \"LSL\": 1.21, \"Nominal\": 1.21}, {\"Datef\": \"\\\"2019-04-05\\\"\", \"J\": 1.22, \"USL\": 1.22, \"LSL\": 1.21, \"Nominal\": 1.21}, {\"Datef\": \"\\\"2019-04-05\\\"\", \"J\": 1.22, \"USL\": 1.22, \"LSL\": 1.21, \"Nominal\": 1.21}, {\"Datef\": \"\\\"2019-04-05\\\"\", \"J\": 1.22, \"USL\": 1.22, \"LSL\": 1.21, \"Nominal\": 1.21}, {\"Datef\": \"\\\"2019-04-16\\\"\", \"J\": 1.219, \"USL\": 1.22, \"LSL\": 1.21, \"Nominal\": 1.21}, {\"Datef\": \"\\\"2019-04-16\\\"\", \"J\": 1.22, \"USL\": 1.22, \"LSL\": 1.21, \"Nominal\": 1.21}, {\"Datef\": \"\\\"2019-04-16\\\"\", \"J\": 1.219, \"USL\": 1.22, \"LSL\": 1.21, \"Nominal\": 1.21}, {\"Datef\": \"\\\"2019-04-16\\\"\", \"J\": 1.22, \"USL\": 1.22, \"LSL\": 1.21, \"Nominal\": 1.21}, {\"Datef\": \"\\\"2019-04-16\\\"\", \"J\": 1.219, \"USL\": 1.22, \"LSL\": 1.21, \"Nominal\": 1.21}, {\"Datef\": \"\\\"2019-04-16\\\"\", \"J\": 1.22, \"USL\": 1.22, \"LSL\": 1.21, \"Nominal\": 1.21}, {\"Datef\": \"\\\"2019-04-16\\\"\", \"J\": 1.22, \"USL\": 1.22, \"LSL\": 1.21, \"Nominal\": 1.21}, {\"Datef\": \"\\\"2019-04-16\\\"\", \"J\": 1.22, \"USL\": 1.22, \"LSL\": 1.21, \"Nominal\": 1.21}, {\"Datef\": \"\\\"2019-04-16\\\"\", \"J\": 1.22, \"USL\": 1.22, \"LSL\": 1.21, \"Nominal\": 1.21}, {\"Datef\": \"\\\"2019-04-16\\\"\", \"J\": 1.22, \"USL\": 1.22, \"LSL\": 1.21, \"Nominal\": 1.21}, {\"Datef\": \"\\\"2019-05-27\\\"\", \"J\": 1.219, \"USL\": 1.22, \"LSL\": 1.21, \"Nominal\": 1.21}, {\"Datef\": \"\\\"2019-05-27\\\"\", \"J\": 1.22, \"USL\": 1.22, \"LSL\": 1.21, \"Nominal\": 1.21}, {\"Datef\": \"\\\"2019-05-27\\\"\", \"J\": 1.22, \"USL\": 1.22, \"LSL\": 1.21, \"Nominal\": 1.21}, {\"Datef\": \"\\\"2019-05-27\\\"\", \"J\": 1.22, \"USL\": 1.22, \"LSL\": 1.21, \"Nominal\": 1.21}, {\"Datef\": \"\\\"2019-05-27\\\"\", \"J\": 1.219, \"USL\": 1.22, \"LSL\": 1.21, \"Nominal\": 1.21}, {\"Datef\": \"\\\"2019-06-03\\\"\", \"J\": 1.22, \"USL\": 1.22, \"LSL\": 1.21, \"Nominal\": 1.21}, {\"Datef\": \"\\\"2019-06-03\\\"\", \"J\": 1.22, \"USL\": 1.22, \"LSL\": 1.21, \"Nominal\": 1.21}, {\"Datef\": \"\\\"2019-06-03\\\"\", \"J\": 1.22, \"USL\": 1.22, \"LSL\": 1.21, \"Nominal\": 1.21}, {\"Datef\": \"\\\"2019-06-03\\\"\", \"J\": 1.22, \"USL\": 1.22, \"LSL\": 1.21, \"Nominal\": 1.21}, {\"Datef\": \"\\\"2019-06-03\\\"\", \"J\": 1.218, \"USL\": 1.22, \"LSL\": 1.21, \"Nominal\": 1.21}, {\"Datef\": \"\\\"2019-06-10\\\"\", \"J\": 1.22, \"USL\": 1.22, \"LSL\": 1.21, \"Nominal\": 1.21}, {\"Datef\": \"\\\"2019-06-10\\\"\", \"J\": 1.22, \"USL\": 1.22, \"LSL\": 1.21, \"Nominal\": 1.21}, {\"Datef\": \"\\\"2019-06-10\\\"\", \"J\": 1.22, \"USL\": 1.22, \"LSL\": 1.21, \"Nominal\": 1.21}, {\"Datef\": \"\\\"2019-06-10\\\"\", \"J\": 1.22, \"USL\": 1.22, \"LSL\": 1.21, \"Nominal\": 1.21}, {\"Datef\": \"\\\"2019-06-10\\\"\", \"J\": 1.22, \"USL\": 1.22, \"LSL\": 1.21, \"Nominal\": 1.21}, {\"Datef\": \"\\\"2019-06-17\\\"\", \"J\": 1.219, \"USL\": 1.22, \"LSL\": 1.21, \"Nominal\": 1.21}, {\"Datef\": \"\\\"2019-06-17\\\"\", \"J\": 1.217, \"USL\": 1.22, \"LSL\": 1.21, \"Nominal\": 1.21}, {\"Datef\": \"\\\"2019-06-17\\\"\", \"J\": 1.219, \"USL\": 1.22, \"LSL\": 1.21, \"Nominal\": 1.21}, {\"Datef\": \"\\\"2019-06-17\\\"\", \"J\": 1.218, \"USL\": 1.22, \"LSL\": 1.21, \"Nominal\": 1.21}, {\"Datef\": \"\\\"2019-06-17\\\"\", \"J\": 1.219, \"USL\": 1.22, \"LSL\": 1.21, \"Nominal\": 1.21}, {\"Datef\": \"\\\"2019-06-25\\\"\", \"J\": 1.219, \"USL\": 1.22, \"LSL\": 1.21, \"Nominal\": 1.21}, {\"Datef\": \"\\\"2019-06-25\\\"\", \"J\": 1.219, \"USL\": 1.22, \"LSL\": 1.21, \"Nominal\": 1.21}, {\"Datef\": \"\\\"2019-06-25\\\"\", \"J\": 1.219, \"USL\": 1.22, \"LSL\": 1.21, \"Nominal\": 1.21}, {\"Datef\": \"\\\"2019-06-25\\\"\", \"J\": 1.219, \"USL\": 1.22, \"LSL\": 1.21, \"Nominal\": 1.21}, {\"Datef\": \"\\\"2019-06-25\\\"\", \"J\": 1.219, \"USL\": 1.22, \"LSL\": 1.21, \"Nominal\": 1.21}, {\"Datef\": \"\\\"2019-06-28\\\"\", \"J\": 1.218, \"USL\": 1.22, \"LSL\": 1.21, \"Nominal\": 1.21}, {\"Datef\": \"\\\"2019-06-28\\\"\", \"J\": 1.218, \"USL\": 1.22, \"LSL\": 1.21, \"Nominal\": 1.21}, {\"Datef\": \"\\\"2019-06-28\\\"\", \"J\": 1.216, \"USL\": 1.22, \"LSL\": 1.21, \"Nominal\": 1.21}, {\"Datef\": \"\\\"2019-06-28\\\"\", \"J\": 1.218, \"USL\": 1.22, \"LSL\": 1.21, \"Nominal\": 1.21}, {\"Datef\": \"\\\"2019-06-28\\\"\", \"J\": 1.219, \"USL\": 1.22, \"LSL\": 1.21, \"Nominal\": 1.21}, {\"Datef\": \"\\\"2019-08-07\\\"\", \"J\": 1.218, \"USL\": 1.22, \"LSL\": 1.21, \"Nominal\": 1.21}, {\"Datef\": \"\\\"2019-08-07\\\"\", \"J\": 1.217, \"USL\": 1.22, \"LSL\": 1.21, \"Nominal\": 1.21}, {\"Datef\": \"\\\"2019-08-07\\\"\", \"J\": 1.217, \"USL\": 1.22, \"LSL\": 1.21, \"Nominal\": 1.21}, {\"Datef\": \"\\\"2019-08-07\\\"\", \"J\": 1.217, \"USL\": 1.22, \"LSL\": 1.21, \"Nominal\": 1.21}, {\"Datef\": \"\\\"2019-08-07\\\"\", \"J\": 1.218, \"USL\": 1.22, \"LSL\": 1.21, \"Nominal\": 1.21}, {\"Datef\": \"\\\"2019-08-19\\\"\", \"J\": 1.217, \"USL\": 1.22, \"LSL\": 1.21, \"Nominal\": 1.21}, {\"Datef\": \"\\\"2019-08-19\\\"\", \"J\": 1.217, \"USL\": 1.22, \"LSL\": 1.21, \"Nominal\": 1.21}, {\"Datef\": \"\\\"2019-08-19\\\"\", \"J\": 1.217, \"USL\": 1.22, \"LSL\": 1.21, \"Nominal\": 1.21}, {\"Datef\": \"\\\"2019-08-19\\\"\", \"J\": 1.218, \"USL\": 1.22, \"LSL\": 1.21, \"Nominal\": 1.21}, {\"Datef\": \"\\\"2019-08-19\\\"\", \"J\": 1.217, \"USL\": 1.22, \"LSL\": 1.21, \"Nominal\": 1.21}, {\"Datef\": \"\\\"2019-08-26\\\"\", \"J\": 1.219, \"USL\": 1.22, \"LSL\": 1.21, \"Nominal\": 1.21}, {\"Datef\": \"\\\"2019-08-26\\\"\", \"J\": 1.218, \"USL\": 1.22, \"LSL\": 1.21, \"Nominal\": 1.21}, {\"Datef\": \"\\\"2019-08-26\\\"\", \"J\": 1.219, \"USL\": 1.22, \"LSL\": 1.21, \"Nominal\": 1.21}, {\"Datef\": \"\\\"2019-08-26\\\"\", \"J\": 1.219, \"USL\": 1.22, \"LSL\": 1.21, \"Nominal\": 1.21}, {\"Datef\": \"\\\"2019-08-26\\\"\", \"J\": 1.219, \"USL\": 1.22, \"LSL\": 1.21, \"Nominal\": 1.21}, {\"Datef\": \"\\\"2019-09-05\\\"\", \"J\": 1.216, \"USL\": 1.22, \"LSL\": 1.21, \"Nominal\": 1.21}, {\"Datef\": \"\\\"2019-09-05\\\"\", \"J\": 1.218, \"USL\": 1.22, \"LSL\": 1.21, \"Nominal\": 1.21}, {\"Datef\": \"\\\"2019-09-05\\\"\", \"J\": 1.218, \"USL\": 1.22, \"LSL\": 1.21, \"Nominal\": 1.21}, {\"Datef\": \"\\\"2019-09-05\\\"\", \"J\": 1.218, \"USL\": 1.22, \"LSL\": 1.21, \"Nominal\": 1.21}, {\"Datef\": \"\\\"2019-09-05\\\"\", \"J\": 1.218, \"USL\": 1.22, \"LSL\": 1.21, \"Nominal\": 1.21}, {\"Datef\": \"\\\"2019-10-17\\\"\", \"J\": 1.22, \"USL\": 1.22, \"LSL\": 1.21, \"Nominal\": 1.21}, {\"Datef\": \"\\\"2019-10-17\\\"\", \"J\": 1.22, \"USL\": 1.22, \"LSL\": 1.21, \"Nominal\": 1.21}, {\"Datef\": \"\\\"2019-10-17\\\"\", \"J\": 1.22, \"USL\": 1.22, \"LSL\": 1.21, \"Nominal\": 1.21}, {\"Datef\": \"\\\"2019-10-17\\\"\", \"J\": 1.22, \"USL\": 1.22, \"LSL\": 1.21, \"Nominal\": 1.21}, {\"Datef\": \"\\\"2019-10-17\\\"\", \"J\": 1.22, \"USL\": 1.22, \"LSL\": 1.21, \"Nominal\": 1.21}, {\"Datef\": \"\\\"2019-11-01\\\"\", \"J\": 1.22, \"USL\": 1.22, \"LSL\": 1.21, \"Nominal\": 1.21}, {\"Datef\": \"\\\"2019-11-01\\\"\", \"J\": 1.22, \"USL\": 1.22, \"LSL\": 1.21, \"Nominal\": 1.21}, {\"Datef\": \"\\\"2019-11-01\\\"\", \"J\": 1.22, \"USL\": 1.22, \"LSL\": 1.21, \"Nominal\": 1.21}, {\"Datef\": \"\\\"2019-11-01\\\"\", \"J\": 1.22, \"USL\": 1.22, \"LSL\": 1.21, \"Nominal\": 1.21}, {\"Datef\": \"\\\"2019-11-01\\\"\", \"J\": 1.22, \"USL\": 1.22, \"LSL\": 1.21, \"Nominal\": 1.21}, {\"Datef\": \"\\\"2019-11-13\\\"\", \"J\": 1.219, \"USL\": 1.22, \"LSL\": 1.21, \"Nominal\": 1.21}, {\"Datef\": \"\\\"2019-11-13\\\"\", \"J\": 1.219, \"USL\": 1.22, \"LSL\": 1.21, \"Nominal\": 1.21}, {\"Datef\": \"\\\"2019-11-13\\\"\", \"J\": 1.219, \"USL\": 1.22, \"LSL\": 1.21, \"Nominal\": 1.21}, {\"Datef\": \"\\\"2019-11-13\\\"\", \"J\": 1.219, \"USL\": 1.22, \"LSL\": 1.21, \"Nominal\": 1.21}, {\"Datef\": \"\\\"2019-11-13\\\"\", \"J\": 1.219, \"USL\": 1.22, \"LSL\": 1.21, \"Nominal\": 1.21}, {\"Datef\": \"\\\"2019-12-05\\\"\", \"J\": 1.22, \"USL\": 1.22, \"LSL\": 1.21, \"Nominal\": 1.21}, {\"Datef\": \"\\\"2019-12-05\\\"\", \"J\": 1.219, \"USL\": 1.22, \"LSL\": 1.21, \"Nominal\": 1.21}, {\"Datef\": \"\\\"2019-12-05\\\"\", \"J\": 1.219, \"USL\": 1.22, \"LSL\": 1.21, \"Nominal\": 1.21}, {\"Datef\": \"\\\"2019-12-05\\\"\", \"J\": 1.22, \"USL\": 1.22, \"LSL\": 1.21, \"Nominal\": 1.21}, {\"Datef\": \"\\\"2019-12-05\\\"\", \"J\": 1.219, \"USL\": 1.22, \"LSL\": 1.21, \"Nominal\": 1.21}, {\"Datef\": \"\\\"2019-12-10\\\"\", \"J\": 1.22, \"USL\": 1.22, \"LSL\": 1.21, \"Nominal\": 1.21}, {\"Datef\": \"\\\"2019-12-10\\\"\", \"J\": 1.22, \"USL\": 1.22, \"LSL\": 1.21, \"Nominal\": 1.21}, {\"Datef\": \"\\\"2019-12-10\\\"\", \"J\": 1.22, \"USL\": 1.22, \"LSL\": 1.21, \"Nominal\": 1.21}, {\"Datef\": \"\\\"2019-12-10\\\"\", \"J\": 1.219, \"USL\": 1.22, \"LSL\": 1.21, \"Nominal\": 1.21}, {\"Datef\": \"\\\"2019-12-10\\\"\", \"J\": 1.22, \"USL\": 1.22, \"LSL\": 1.21, \"Nominal\": 1.21}, {\"Datef\": \"\\\"2019-12-26\\\"\", \"J\": 1.22, \"USL\": 1.22, \"LSL\": 1.21, \"Nominal\": 1.21}, {\"Datef\": \"\\\"2019-12-26\\\"\", \"J\": 1.219, \"USL\": 1.22, \"LSL\": 1.21, \"Nominal\": 1.21}, {\"Datef\": \"\\\"2019-12-26\\\"\", \"J\": 1.218, \"USL\": 1.22, \"LSL\": 1.21, \"Nominal\": 1.21}, {\"Datef\": \"\\\"2019-12-26\\\"\", \"J\": 1.22, \"USL\": 1.22, \"LSL\": 1.21, \"Nominal\": 1.21}, {\"Datef\": \"\\\"2019-12-26\\\"\", \"J\": 1.219, \"USL\": 1.22, \"LSL\": 1.21, \"Nominal\": 1.21}, {\"Datef\": \"\\\"2019-12-31\\\"\", \"J\": 1.218, \"USL\": 1.22, \"LSL\": 1.21, \"Nominal\": 1.21}, {\"Datef\": \"\\\"2019-12-31\\\"\", \"J\": 1.218, \"USL\": 1.22, \"LSL\": 1.21, \"Nominal\": 1.21}, {\"Datef\": \"\\\"2019-12-31\\\"\", \"J\": 1.219, \"USL\": 1.22, \"LSL\": 1.21, \"Nominal\": 1.21}, {\"Datef\": \"\\\"2019-12-31\\\"\", \"J\": 1.219, \"USL\": 1.22, \"LSL\": 1.21, \"Nominal\": 1.21}, {\"Datef\": \"\\\"2019-12-31\\\"\", \"J\": 1.218, \"USL\": 1.22, \"LSL\": 1.21, \"Nominal\": 1.21}], \"data-89a563b4fdb08ce29bd91819ea45bf24\": [{\"Datef\": \"\\\"2019-01-11\\\"\", \"I\": 3.197, \"USL\": 3.21, \"LSL\": 3.1900000000000004, \"Nominal\": 3.2}, {\"Datef\": \"\\\"2019-01-11\\\"\", \"I\": 3.19, \"USL\": 3.21, \"LSL\": 3.1900000000000004, \"Nominal\": 3.2}, {\"Datef\": \"\\\"2019-01-11\\\"\", \"I\": 3.194, \"USL\": 3.21, \"LSL\": 3.1900000000000004, \"Nominal\": 3.2}, {\"Datef\": \"\\\"2019-01-11\\\"\", \"I\": 3.198, \"USL\": 3.21, \"LSL\": 3.1900000000000004, \"Nominal\": 3.2}, {\"Datef\": \"\\\"2019-01-11\\\"\", \"I\": 3.19, \"USL\": 3.21, \"LSL\": 3.1900000000000004, \"Nominal\": 3.2}, {\"Datef\": \"\\\"2019-01-22\\\"\", \"I\": 3.201, \"USL\": 3.21, \"LSL\": 3.1900000000000004, \"Nominal\": 3.2}, {\"Datef\": \"\\\"2019-01-22\\\"\", \"I\": 3.205, \"USL\": 3.21, \"LSL\": 3.1900000000000004, \"Nominal\": 3.2}, {\"Datef\": \"\\\"2019-01-22\\\"\", \"I\": 3.192, \"USL\": 3.21, \"LSL\": 3.1900000000000004, \"Nominal\": 3.2}, {\"Datef\": \"\\\"2019-01-22\\\"\", \"I\": 3.195, \"USL\": 3.21, \"LSL\": 3.1900000000000004, \"Nominal\": 3.2}, {\"Datef\": \"\\\"2019-01-22\\\"\", \"I\": 3.2, \"USL\": 3.21, \"LSL\": 3.1900000000000004, \"Nominal\": 3.2}, {\"Datef\": \"\\\"2019-01-26\\\"\", \"I\": 3.195, \"USL\": 3.21, \"LSL\": 3.1900000000000004, \"Nominal\": 3.2}, {\"Datef\": \"\\\"2019-01-26\\\"\", \"I\": 3.209, \"USL\": 3.21, \"LSL\": 3.1900000000000004, \"Nominal\": 3.2}, {\"Datef\": \"\\\"2019-01-26\\\"\", \"I\": 3.202, \"USL\": 3.21, \"LSL\": 3.1900000000000004, \"Nominal\": 3.2}, {\"Datef\": \"\\\"2019-01-26\\\"\", \"I\": 3.205, \"USL\": 3.21, \"LSL\": 3.1900000000000004, \"Nominal\": 3.2}, {\"Datef\": \"\\\"2019-01-26\\\"\", \"I\": 3.19, \"USL\": 3.21, \"LSL\": 3.1900000000000004, \"Nominal\": 3.2}, {\"Datef\": \"\\\"2019-01-31\\\"\", \"I\": 3.203, \"USL\": 3.21, \"LSL\": 3.1900000000000004, \"Nominal\": 3.2}, {\"Datef\": \"\\\"2019-01-31\\\"\", \"I\": 3.195, \"USL\": 3.21, \"LSL\": 3.1900000000000004, \"Nominal\": 3.2}, {\"Datef\": \"\\\"2019-01-31\\\"\", \"I\": 3.199, \"USL\": 3.21, \"LSL\": 3.1900000000000004, \"Nominal\": 3.2}, {\"Datef\": \"\\\"2019-01-31\\\"\", \"I\": 3.193, \"USL\": 3.21, \"LSL\": 3.1900000000000004, \"Nominal\": 3.2}, {\"Datef\": \"\\\"2019-01-31\\\"\", \"I\": 3.19, \"USL\": 3.21, \"LSL\": 3.1900000000000004, \"Nominal\": 3.2}, {\"Datef\": \"\\\"2019-02-11\\\"\", \"I\": 3.192, \"USL\": 3.21, \"LSL\": 3.1900000000000004, \"Nominal\": 3.2}, {\"Datef\": \"\\\"2019-02-11\\\"\", \"I\": 3.198, \"USL\": 3.21, \"LSL\": 3.1900000000000004, \"Nominal\": 3.2}, {\"Datef\": \"\\\"2019-02-11\\\"\", \"I\": 3.19, \"USL\": 3.21, \"LSL\": 3.1900000000000004, \"Nominal\": 3.2}, {\"Datef\": \"\\\"2019-02-11\\\"\", \"I\": 3.201, \"USL\": 3.21, \"LSL\": 3.1900000000000004, \"Nominal\": 3.2}, {\"Datef\": \"\\\"2019-02-11\\\"\", \"I\": 3.192, \"USL\": 3.21, \"LSL\": 3.1900000000000004, \"Nominal\": 3.2}, {\"Datef\": \"\\\"2019-02-22\\\"\", \"I\": 3.205, \"USL\": 3.21, \"LSL\": 3.1900000000000004, \"Nominal\": 3.2}, {\"Datef\": \"\\\"2019-02-22\\\"\", \"I\": 3.19, \"USL\": 3.21, \"LSL\": 3.1900000000000004, \"Nominal\": 3.2}, {\"Datef\": \"\\\"2019-02-22\\\"\", \"I\": 3.204, \"USL\": 3.21, \"LSL\": 3.1900000000000004, \"Nominal\": 3.2}, {\"Datef\": \"\\\"2019-02-22\\\"\", \"I\": 3.19, \"USL\": 3.21, \"LSL\": 3.1900000000000004, \"Nominal\": 3.2}, {\"Datef\": \"\\\"2019-02-22\\\"\", \"I\": 3.201, \"USL\": 3.21, \"LSL\": 3.1900000000000004, \"Nominal\": 3.2}, {\"Datef\": \"\\\"2019-02-27\\\"\", \"I\": 3.19, \"USL\": 3.21, \"LSL\": 3.1900000000000004, \"Nominal\": 3.2}, {\"Datef\": \"\\\"2019-02-27\\\"\", \"I\": 3.202, \"USL\": 3.21, \"LSL\": 3.1900000000000004, \"Nominal\": 3.2}, {\"Datef\": \"\\\"2019-02-27\\\"\", \"I\": 3.192, \"USL\": 3.21, \"LSL\": 3.1900000000000004, \"Nominal\": 3.2}, {\"Datef\": \"\\\"2019-02-27\\\"\", \"I\": 3.2, \"USL\": 3.21, \"LSL\": 3.1900000000000004, \"Nominal\": 3.2}, {\"Datef\": \"\\\"2019-02-27\\\"\", \"I\": 3.192, \"USL\": 3.21, \"LSL\": 3.1900000000000004, \"Nominal\": 3.2}, {\"Datef\": \"\\\"2019-03-07\\\"\", \"I\": 3.194, \"USL\": 3.21, \"LSL\": 3.1900000000000004, \"Nominal\": 3.2}, {\"Datef\": \"\\\"2019-03-07\\\"\", \"I\": 3.195, \"USL\": 3.21, \"LSL\": 3.1900000000000004, \"Nominal\": 3.2}, {\"Datef\": \"\\\"2019-03-07\\\"\", \"I\": 3.195, \"USL\": 3.21, \"LSL\": 3.1900000000000004, \"Nominal\": 3.2}, {\"Datef\": \"\\\"2019-03-07\\\"\", \"I\": 3.196, \"USL\": 3.21, \"LSL\": 3.1900000000000004, \"Nominal\": 3.2}, {\"Datef\": \"\\\"2019-03-07\\\"\", \"I\": 3.193, \"USL\": 3.21, \"LSL\": 3.1900000000000004, \"Nominal\": 3.2}, {\"Datef\": \"\\\"2019-03-15\\\"\", \"I\": 3.21, \"USL\": 3.21, \"LSL\": 3.1900000000000004, \"Nominal\": 3.2}, {\"Datef\": \"\\\"2019-03-15\\\"\", \"I\": 3.197, \"USL\": 3.21, \"LSL\": 3.1900000000000004, \"Nominal\": 3.2}, {\"Datef\": \"\\\"2019-03-15\\\"\", \"I\": 3.204, \"USL\": 3.21, \"LSL\": 3.1900000000000004, \"Nominal\": 3.2}, {\"Datef\": \"\\\"2019-03-15\\\"\", \"I\": 3.196, \"USL\": 3.21, \"LSL\": 3.1900000000000004, \"Nominal\": 3.2}, {\"Datef\": \"\\\"2019-03-15\\\"\", \"I\": 3.19, \"USL\": 3.21, \"LSL\": 3.1900000000000004, \"Nominal\": 3.2}, {\"Datef\": \"\\\"2019-04-05\\\"\", \"I\": 3.203, \"USL\": 3.21, \"LSL\": 3.1900000000000004, \"Nominal\": 3.2}, {\"Datef\": \"\\\"2019-04-05\\\"\", \"I\": 3.2, \"USL\": 3.21, \"LSL\": 3.1900000000000004, \"Nominal\": 3.2}, {\"Datef\": \"\\\"2019-04-05\\\"\", \"I\": 3.2, \"USL\": 3.21, \"LSL\": 3.1900000000000004, \"Nominal\": 3.2}, {\"Datef\": \"\\\"2019-04-05\\\"\", \"I\": 3.198, \"USL\": 3.21, \"LSL\": 3.1900000000000004, \"Nominal\": 3.2}, {\"Datef\": \"\\\"2019-04-05\\\"\", \"I\": 3.2, \"USL\": 3.21, \"LSL\": 3.1900000000000004, \"Nominal\": 3.2}, {\"Datef\": \"\\\"2019-04-16\\\"\", \"I\": 3.209, \"USL\": 3.21, \"LSL\": 3.1900000000000004, \"Nominal\": 3.2}, {\"Datef\": \"\\\"2019-04-16\\\"\", \"I\": 3.2, \"USL\": 3.21, \"LSL\": 3.1900000000000004, \"Nominal\": 3.2}, {\"Datef\": \"\\\"2019-04-16\\\"\", \"I\": 3.207, \"USL\": 3.21, \"LSL\": 3.1900000000000004, \"Nominal\": 3.2}, {\"Datef\": \"\\\"2019-04-16\\\"\", \"I\": 3.191, \"USL\": 3.21, \"LSL\": 3.1900000000000004, \"Nominal\": 3.2}, {\"Datef\": \"\\\"2019-04-16\\\"\", \"I\": 3.199, \"USL\": 3.21, \"LSL\": 3.1900000000000004, \"Nominal\": 3.2}, {\"Datef\": \"\\\"2019-04-16\\\"\", \"I\": 3.197, \"USL\": 3.21, \"LSL\": 3.1900000000000004, \"Nominal\": 3.2}, {\"Datef\": \"\\\"2019-04-16\\\"\", \"I\": 3.205, \"USL\": 3.21, \"LSL\": 3.1900000000000004, \"Nominal\": 3.2}, {\"Datef\": \"\\\"2019-04-16\\\"\", \"I\": 3.194, \"USL\": 3.21, \"LSL\": 3.1900000000000004, \"Nominal\": 3.2}, {\"Datef\": \"\\\"2019-04-16\\\"\", \"I\": 3.203, \"USL\": 3.21, \"LSL\": 3.1900000000000004, \"Nominal\": 3.2}, {\"Datef\": \"\\\"2019-04-16\\\"\", \"I\": 3.193, \"USL\": 3.21, \"LSL\": 3.1900000000000004, \"Nominal\": 3.2}, {\"Datef\": \"\\\"2019-05-27\\\"\", \"I\": 3.198, \"USL\": 3.21, \"LSL\": 3.1900000000000004, \"Nominal\": 3.2}, {\"Datef\": \"\\\"2019-05-27\\\"\", \"I\": 3.206, \"USL\": 3.21, \"LSL\": 3.1900000000000004, \"Nominal\": 3.2}, {\"Datef\": \"\\\"2019-05-27\\\"\", \"I\": 3.194, \"USL\": 3.21, \"LSL\": 3.1900000000000004, \"Nominal\": 3.2}, {\"Datef\": \"\\\"2019-05-27\\\"\", \"I\": 3.204, \"USL\": 3.21, \"LSL\": 3.1900000000000004, \"Nominal\": 3.2}, {\"Datef\": \"\\\"2019-05-27\\\"\", \"I\": 3.193, \"USL\": 3.21, \"LSL\": 3.1900000000000004, \"Nominal\": 3.2}, {\"Datef\": \"\\\"2019-06-03\\\"\", \"I\": 3.196, \"USL\": 3.21, \"LSL\": 3.1900000000000004, \"Nominal\": 3.2}, {\"Datef\": \"\\\"2019-06-03\\\"\", \"I\": 3.196, \"USL\": 3.21, \"LSL\": 3.1900000000000004, \"Nominal\": 3.2}, {\"Datef\": \"\\\"2019-06-03\\\"\", \"I\": 3.204, \"USL\": 3.21, \"LSL\": 3.1900000000000004, \"Nominal\": 3.2}, {\"Datef\": \"\\\"2019-06-03\\\"\", \"I\": 3.201, \"USL\": 3.21, \"LSL\": 3.1900000000000004, \"Nominal\": 3.2}, {\"Datef\": \"\\\"2019-06-03\\\"\", \"I\": 3.203, \"USL\": 3.21, \"LSL\": 3.1900000000000004, \"Nominal\": 3.2}, {\"Datef\": \"\\\"2019-06-10\\\"\", \"I\": 3.207, \"USL\": 3.21, \"LSL\": 3.1900000000000004, \"Nominal\": 3.2}, {\"Datef\": \"\\\"2019-06-10\\\"\", \"I\": 3.207, \"USL\": 3.21, \"LSL\": 3.1900000000000004, \"Nominal\": 3.2}, {\"Datef\": \"\\\"2019-06-10\\\"\", \"I\": 3.2, \"USL\": 3.21, \"LSL\": 3.1900000000000004, \"Nominal\": 3.2}, {\"Datef\": \"\\\"2019-06-10\\\"\", \"I\": 3.207, \"USL\": 3.21, \"LSL\": 3.1900000000000004, \"Nominal\": 3.2}, {\"Datef\": \"\\\"2019-06-10\\\"\", \"I\": 3.198, \"USL\": 3.21, \"LSL\": 3.1900000000000004, \"Nominal\": 3.2}, {\"Datef\": \"\\\"2019-06-17\\\"\", \"I\": 3.202, \"USL\": 3.21, \"LSL\": 3.1900000000000004, \"Nominal\": 3.2}, {\"Datef\": \"\\\"2019-06-17\\\"\", \"I\": 3.196, \"USL\": 3.21, \"LSL\": 3.1900000000000004, \"Nominal\": 3.2}, {\"Datef\": \"\\\"2019-06-17\\\"\", \"I\": 3.194, \"USL\": 3.21, \"LSL\": 3.1900000000000004, \"Nominal\": 3.2}, {\"Datef\": \"\\\"2019-06-17\\\"\", \"I\": 3.203, \"USL\": 3.21, \"LSL\": 3.1900000000000004, \"Nominal\": 3.2}, {\"Datef\": \"\\\"2019-06-17\\\"\", \"I\": 3.19, \"USL\": 3.21, \"LSL\": 3.1900000000000004, \"Nominal\": 3.2}, {\"Datef\": \"\\\"2019-06-25\\\"\", \"I\": 3.199, \"USL\": 3.21, \"LSL\": 3.1900000000000004, \"Nominal\": 3.2}, {\"Datef\": \"\\\"2019-06-25\\\"\", \"I\": 3.19, \"USL\": 3.21, \"LSL\": 3.1900000000000004, \"Nominal\": 3.2}, {\"Datef\": \"\\\"2019-06-25\\\"\", \"I\": 3.2, \"USL\": 3.21, \"LSL\": 3.1900000000000004, \"Nominal\": 3.2}, {\"Datef\": \"\\\"2019-06-25\\\"\", \"I\": 3.196, \"USL\": 3.21, \"LSL\": 3.1900000000000004, \"Nominal\": 3.2}, {\"Datef\": \"\\\"2019-06-25\\\"\", \"I\": 3.192, \"USL\": 3.21, \"LSL\": 3.1900000000000004, \"Nominal\": 3.2}, {\"Datef\": \"\\\"2019-06-28\\\"\", \"I\": 3.203, \"USL\": 3.21, \"LSL\": 3.1900000000000004, \"Nominal\": 3.2}, {\"Datef\": \"\\\"2019-06-28\\\"\", \"I\": 3.203, \"USL\": 3.21, \"LSL\": 3.1900000000000004, \"Nominal\": 3.2}, {\"Datef\": \"\\\"2019-06-28\\\"\", \"I\": 3.205, \"USL\": 3.21, \"LSL\": 3.1900000000000004, \"Nominal\": 3.2}, {\"Datef\": \"\\\"2019-06-28\\\"\", \"I\": 3.195, \"USL\": 3.21, \"LSL\": 3.1900000000000004, \"Nominal\": 3.2}, {\"Datef\": \"\\\"2019-06-28\\\"\", \"I\": 3.194, \"USL\": 3.21, \"LSL\": 3.1900000000000004, \"Nominal\": 3.2}, {\"Datef\": \"\\\"2019-08-07\\\"\", \"I\": 3.201, \"USL\": 3.21, \"LSL\": 3.1900000000000004, \"Nominal\": 3.2}, {\"Datef\": \"\\\"2019-08-07\\\"\", \"I\": 3.201, \"USL\": 3.21, \"LSL\": 3.1900000000000004, \"Nominal\": 3.2}, {\"Datef\": \"\\\"2019-08-07\\\"\", \"I\": 3.202, \"USL\": 3.21, \"LSL\": 3.1900000000000004, \"Nominal\": 3.2}, {\"Datef\": \"\\\"2019-08-07\\\"\", \"I\": 3.203, \"USL\": 3.21, \"LSL\": 3.1900000000000004, \"Nominal\": 3.2}, {\"Datef\": \"\\\"2019-08-07\\\"\", \"I\": 3.199, \"USL\": 3.21, \"LSL\": 3.1900000000000004, \"Nominal\": 3.2}, {\"Datef\": \"\\\"2019-08-19\\\"\", \"I\": 3.202, \"USL\": 3.21, \"LSL\": 3.1900000000000004, \"Nominal\": 3.2}, {\"Datef\": \"\\\"2019-08-19\\\"\", \"I\": 3.202, \"USL\": 3.21, \"LSL\": 3.1900000000000004, \"Nominal\": 3.2}, {\"Datef\": \"\\\"2019-08-19\\\"\", \"I\": 3.201, \"USL\": 3.21, \"LSL\": 3.1900000000000004, \"Nominal\": 3.2}, {\"Datef\": \"\\\"2019-08-19\\\"\", \"I\": 3.199, \"USL\": 3.21, \"LSL\": 3.1900000000000004, \"Nominal\": 3.2}, {\"Datef\": \"\\\"2019-08-19\\\"\", \"I\": 3.2, \"USL\": 3.21, \"LSL\": 3.1900000000000004, \"Nominal\": 3.2}, {\"Datef\": \"\\\"2019-08-26\\\"\", \"I\": 3.201, \"USL\": 3.21, \"LSL\": 3.1900000000000004, \"Nominal\": 3.2}, {\"Datef\": \"\\\"2019-08-26\\\"\", \"I\": 3.202, \"USL\": 3.21, \"LSL\": 3.1900000000000004, \"Nominal\": 3.2}, {\"Datef\": \"\\\"2019-08-26\\\"\", \"I\": 3.199, \"USL\": 3.21, \"LSL\": 3.1900000000000004, \"Nominal\": 3.2}, {\"Datef\": \"\\\"2019-08-26\\\"\", \"I\": 3.199, \"USL\": 3.21, \"LSL\": 3.1900000000000004, \"Nominal\": 3.2}, {\"Datef\": \"\\\"2019-08-26\\\"\", \"I\": 3.201, \"USL\": 3.21, \"LSL\": 3.1900000000000004, \"Nominal\": 3.2}, {\"Datef\": \"\\\"2019-09-05\\\"\", \"I\": 3.2, \"USL\": 3.21, \"LSL\": 3.1900000000000004, \"Nominal\": 3.2}, {\"Datef\": \"\\\"2019-09-05\\\"\", \"I\": 3.199, \"USL\": 3.21, \"LSL\": 3.1900000000000004, \"Nominal\": 3.2}, {\"Datef\": \"\\\"2019-09-05\\\"\", \"I\": 3.202, \"USL\": 3.21, \"LSL\": 3.1900000000000004, \"Nominal\": 3.2}, {\"Datef\": \"\\\"2019-09-05\\\"\", \"I\": 3.202, \"USL\": 3.21, \"LSL\": 3.1900000000000004, \"Nominal\": 3.2}, {\"Datef\": \"\\\"2019-09-05\\\"\", \"I\": 3.203, \"USL\": 3.21, \"LSL\": 3.1900000000000004, \"Nominal\": 3.2}, {\"Datef\": \"\\\"2019-10-17\\\"\", \"I\": 3.198, \"USL\": 3.21, \"LSL\": 3.1900000000000004, \"Nominal\": 3.2}, {\"Datef\": \"\\\"2019-10-17\\\"\", \"I\": 3.197, \"USL\": 3.21, \"LSL\": 3.1900000000000004, \"Nominal\": 3.2}, {\"Datef\": \"\\\"2019-10-17\\\"\", \"I\": 3.197, \"USL\": 3.21, \"LSL\": 3.1900000000000004, \"Nominal\": 3.2}, {\"Datef\": \"\\\"2019-10-17\\\"\", \"I\": 3.198, \"USL\": 3.21, \"LSL\": 3.1900000000000004, \"Nominal\": 3.2}, {\"Datef\": \"\\\"2019-10-17\\\"\", \"I\": 3.198, \"USL\": 3.21, \"LSL\": 3.1900000000000004, \"Nominal\": 3.2}, {\"Datef\": \"\\\"2019-11-01\\\"\", \"I\": 3.197, \"USL\": 3.21, \"LSL\": 3.1900000000000004, \"Nominal\": 3.2}, {\"Datef\": \"\\\"2019-11-01\\\"\", \"I\": 3.197, \"USL\": 3.21, \"LSL\": 3.1900000000000004, \"Nominal\": 3.2}, {\"Datef\": \"\\\"2019-11-01\\\"\", \"I\": 3.196, \"USL\": 3.21, \"LSL\": 3.1900000000000004, \"Nominal\": 3.2}, {\"Datef\": \"\\\"2019-11-01\\\"\", \"I\": 3.2, \"USL\": 3.21, \"LSL\": 3.1900000000000004, \"Nominal\": 3.2}, {\"Datef\": \"\\\"2019-11-01\\\"\", \"I\": 3.198, \"USL\": 3.21, \"LSL\": 3.1900000000000004, \"Nominal\": 3.2}, {\"Datef\": \"\\\"2019-11-13\\\"\", \"I\": 3.199, \"USL\": 3.21, \"LSL\": 3.1900000000000004, \"Nominal\": 3.2}, {\"Datef\": \"\\\"2019-11-13\\\"\", \"I\": 3.193, \"USL\": 3.21, \"LSL\": 3.1900000000000004, \"Nominal\": 3.2}, {\"Datef\": \"\\\"2019-11-13\\\"\", \"I\": 3.198, \"USL\": 3.21, \"LSL\": 3.1900000000000004, \"Nominal\": 3.2}, {\"Datef\": \"\\\"2019-11-13\\\"\", \"I\": 3.198, \"USL\": 3.21, \"LSL\": 3.1900000000000004, \"Nominal\": 3.2}, {\"Datef\": \"\\\"2019-11-13\\\"\", \"I\": 3.196, \"USL\": 3.21, \"LSL\": 3.1900000000000004, \"Nominal\": 3.2}, {\"Datef\": \"\\\"2019-12-05\\\"\", \"I\": 3.198, \"USL\": 3.21, \"LSL\": 3.1900000000000004, \"Nominal\": 3.2}, {\"Datef\": \"\\\"2019-12-05\\\"\", \"I\": 3.199, \"USL\": 3.21, \"LSL\": 3.1900000000000004, \"Nominal\": 3.2}, {\"Datef\": \"\\\"2019-12-05\\\"\", \"I\": 3.198, \"USL\": 3.21, \"LSL\": 3.1900000000000004, \"Nominal\": 3.2}, {\"Datef\": \"\\\"2019-12-05\\\"\", \"I\": 3.199, \"USL\": 3.21, \"LSL\": 3.1900000000000004, \"Nominal\": 3.2}, {\"Datef\": \"\\\"2019-12-05\\\"\", \"I\": 3.199, \"USL\": 3.21, \"LSL\": 3.1900000000000004, \"Nominal\": 3.2}, {\"Datef\": \"\\\"2019-12-10\\\"\", \"I\": 3.201, \"USL\": 3.21, \"LSL\": 3.1900000000000004, \"Nominal\": 3.2}, {\"Datef\": \"\\\"2019-12-10\\\"\", \"I\": 3.203, \"USL\": 3.21, \"LSL\": 3.1900000000000004, \"Nominal\": 3.2}, {\"Datef\": \"\\\"2019-12-10\\\"\", \"I\": 3.199, \"USL\": 3.21, \"LSL\": 3.1900000000000004, \"Nominal\": 3.2}, {\"Datef\": \"\\\"2019-12-10\\\"\", \"I\": 3.197, \"USL\": 3.21, \"LSL\": 3.1900000000000004, \"Nominal\": 3.2}, {\"Datef\": \"\\\"2019-12-10\\\"\", \"I\": 3.198, \"USL\": 3.21, \"LSL\": 3.1900000000000004, \"Nominal\": 3.2}, {\"Datef\": \"\\\"2019-12-26\\\"\", \"I\": 3.201, \"USL\": 3.21, \"LSL\": 3.1900000000000004, \"Nominal\": 3.2}, {\"Datef\": \"\\\"2019-12-26\\\"\", \"I\": 3.204, \"USL\": 3.21, \"LSL\": 3.1900000000000004, \"Nominal\": 3.2}, {\"Datef\": \"\\\"2019-12-26\\\"\", \"I\": 3.203, \"USL\": 3.21, \"LSL\": 3.1900000000000004, \"Nominal\": 3.2}, {\"Datef\": \"\\\"2019-12-26\\\"\", \"I\": 3.2, \"USL\": 3.21, \"LSL\": 3.1900000000000004, \"Nominal\": 3.2}, {\"Datef\": \"\\\"2019-12-26\\\"\", \"I\": 3.204, \"USL\": 3.21, \"LSL\": 3.1900000000000004, \"Nominal\": 3.2}, {\"Datef\": \"\\\"2019-12-31\\\"\", \"I\": 3.199, \"USL\": 3.21, \"LSL\": 3.1900000000000004, \"Nominal\": 3.2}, {\"Datef\": \"\\\"2019-12-31\\\"\", \"I\": 3.204, \"USL\": 3.21, \"LSL\": 3.1900000000000004, \"Nominal\": 3.2}, {\"Datef\": \"\\\"2019-12-31\\\"\", \"I\": 3.202, \"USL\": 3.21, \"LSL\": 3.1900000000000004, \"Nominal\": 3.2}, {\"Datef\": \"\\\"2019-12-31\\\"\", \"I\": 3.201, \"USL\": 3.21, \"LSL\": 3.1900000000000004, \"Nominal\": 3.2}, {\"Datef\": \"\\\"2019-12-31\\\"\", \"I\": 3.201, \"USL\": 3.21, \"LSL\": 3.1900000000000004, \"Nominal\": 3.2}], \"data-167a625bfc2ce63196d8fcf511d6c30d\": [{\"Datef\": \"\\\"2019-01-11\\\"\", \"O\": 11.855, \"USL\": 11.86, \"LSL\": 11.84, \"Nominal\": 11.85}, {\"Datef\": \"\\\"2019-01-11\\\"\", \"O\": 11.855, \"USL\": 11.86, \"LSL\": 11.84, \"Nominal\": 11.85}, {\"Datef\": \"\\\"2019-01-11\\\"\", \"O\": 11.852, \"USL\": 11.86, \"LSL\": 11.84, \"Nominal\": 11.85}, {\"Datef\": \"\\\"2019-01-11\\\"\", \"O\": 11.855, \"USL\": 11.86, \"LSL\": 11.84, \"Nominal\": 11.85}, {\"Datef\": \"\\\"2019-01-11\\\"\", \"O\": 11.85, \"USL\": 11.86, \"LSL\": 11.84, \"Nominal\": 11.85}, {\"Datef\": \"\\\"2019-01-22\\\"\", \"O\": 11.854, \"USL\": 11.86, \"LSL\": 11.84, \"Nominal\": 11.85}, {\"Datef\": \"\\\"2019-01-22\\\"\", \"O\": 11.853, \"USL\": 11.86, \"LSL\": 11.84, \"Nominal\": 11.85}, {\"Datef\": \"\\\"2019-01-22\\\"\", \"O\": 11.856, \"USL\": 11.86, \"LSL\": 11.84, \"Nominal\": 11.85}, {\"Datef\": \"\\\"2019-01-22\\\"\", \"O\": 11.847, \"USL\": 11.86, \"LSL\": 11.84, \"Nominal\": 11.85}, {\"Datef\": \"\\\"2019-01-22\\\"\", \"O\": 11.852, \"USL\": 11.86, \"LSL\": 11.84, \"Nominal\": 11.85}, {\"Datef\": \"\\\"2019-01-26\\\"\", \"O\": 11.854, \"USL\": 11.86, \"LSL\": 11.84, \"Nominal\": 11.85}, {\"Datef\": \"\\\"2019-01-26\\\"\", \"O\": 11.853, \"USL\": 11.86, \"LSL\": 11.84, \"Nominal\": 11.85}, {\"Datef\": \"\\\"2019-01-26\\\"\", \"O\": 11.851, \"USL\": 11.86, \"LSL\": 11.84, \"Nominal\": 11.85}, {\"Datef\": \"\\\"2019-01-26\\\"\", \"O\": 11.85, \"USL\": 11.86, \"LSL\": 11.84, \"Nominal\": 11.85}, {\"Datef\": \"\\\"2019-01-26\\\"\", \"O\": 11.856, \"USL\": 11.86, \"LSL\": 11.84, \"Nominal\": 11.85}, {\"Datef\": \"\\\"2019-01-31\\\"\", \"O\": 11.857, \"USL\": 11.86, \"LSL\": 11.84, \"Nominal\": 11.85}, {\"Datef\": \"\\\"2019-01-31\\\"\", \"O\": 11.856, \"USL\": 11.86, \"LSL\": 11.84, \"Nominal\": 11.85}, {\"Datef\": \"\\\"2019-01-31\\\"\", \"O\": 11.853, \"USL\": 11.86, \"LSL\": 11.84, \"Nominal\": 11.85}, {\"Datef\": \"\\\"2019-01-31\\\"\", \"O\": 11.854, \"USL\": 11.86, \"LSL\": 11.84, \"Nominal\": 11.85}, {\"Datef\": \"\\\"2019-01-31\\\"\", \"O\": 11.853, \"USL\": 11.86, \"LSL\": 11.84, \"Nominal\": 11.85}, {\"Datef\": \"\\\"2019-02-11\\\"\", \"O\": 11.851, \"USL\": 11.86, \"LSL\": 11.84, \"Nominal\": 11.85}, {\"Datef\": \"\\\"2019-02-11\\\"\", \"O\": 11.854, \"USL\": 11.86, \"LSL\": 11.84, \"Nominal\": 11.85}, {\"Datef\": \"\\\"2019-02-11\\\"\", \"O\": 11.854, \"USL\": 11.86, \"LSL\": 11.84, \"Nominal\": 11.85}, {\"Datef\": \"\\\"2019-02-11\\\"\", \"O\": 11.859, \"USL\": 11.86, \"LSL\": 11.84, \"Nominal\": 11.85}, {\"Datef\": \"\\\"2019-02-11\\\"\", \"O\": 11.853, \"USL\": 11.86, \"LSL\": 11.84, \"Nominal\": 11.85}, {\"Datef\": \"\\\"2019-02-22\\\"\", \"O\": 11.853, \"USL\": 11.86, \"LSL\": 11.84, \"Nominal\": 11.85}, {\"Datef\": \"\\\"2019-02-22\\\"\", \"O\": 11.849, \"USL\": 11.86, \"LSL\": 11.84, \"Nominal\": 11.85}, {\"Datef\": \"\\\"2019-02-22\\\"\", \"O\": 11.853, \"USL\": 11.86, \"LSL\": 11.84, \"Nominal\": 11.85}, {\"Datef\": \"\\\"2019-02-22\\\"\", \"O\": 11.851, \"USL\": 11.86, \"LSL\": 11.84, \"Nominal\": 11.85}, {\"Datef\": \"\\\"2019-02-22\\\"\", \"O\": 11.854, \"USL\": 11.86, \"LSL\": 11.84, \"Nominal\": 11.85}, {\"Datef\": \"\\\"2019-02-27\\\"\", \"O\": 11.854, \"USL\": 11.86, \"LSL\": 11.84, \"Nominal\": 11.85}, {\"Datef\": \"\\\"2019-02-27\\\"\", \"O\": 11.853, \"USL\": 11.86, \"LSL\": 11.84, \"Nominal\": 11.85}, {\"Datef\": \"\\\"2019-02-27\\\"\", \"O\": 11.856, \"USL\": 11.86, \"LSL\": 11.84, \"Nominal\": 11.85}, {\"Datef\": \"\\\"2019-02-27\\\"\", \"O\": 11.851, \"USL\": 11.86, \"LSL\": 11.84, \"Nominal\": 11.85}, {\"Datef\": \"\\\"2019-02-27\\\"\", \"O\": 11.859, \"USL\": 11.86, \"LSL\": 11.84, \"Nominal\": 11.85}, {\"Datef\": \"\\\"2019-03-07\\\"\", \"O\": 11.858, \"USL\": 11.86, \"LSL\": 11.84, \"Nominal\": 11.85}, {\"Datef\": \"\\\"2019-03-07\\\"\", \"O\": 11.856, \"USL\": 11.86, \"LSL\": 11.84, \"Nominal\": 11.85}, {\"Datef\": \"\\\"2019-03-07\\\"\", \"O\": 11.856, \"USL\": 11.86, \"LSL\": 11.84, \"Nominal\": 11.85}, {\"Datef\": \"\\\"2019-03-07\\\"\", \"O\": 11.859, \"USL\": 11.86, \"LSL\": 11.84, \"Nominal\": 11.85}, {\"Datef\": \"\\\"2019-03-07\\\"\", \"O\": 11.858, \"USL\": 11.86, \"LSL\": 11.84, \"Nominal\": 11.85}, {\"Datef\": \"\\\"2019-03-15\\\"\", \"O\": 11.852, \"USL\": 11.86, \"LSL\": 11.84, \"Nominal\": 11.85}, {\"Datef\": \"\\\"2019-03-15\\\"\", \"O\": 11.849, \"USL\": 11.86, \"LSL\": 11.84, \"Nominal\": 11.85}, {\"Datef\": \"\\\"2019-03-15\\\"\", \"O\": 11.857, \"USL\": 11.86, \"LSL\": 11.84, \"Nominal\": 11.85}, {\"Datef\": \"\\\"2019-03-15\\\"\", \"O\": 11.851, \"USL\": 11.86, \"LSL\": 11.84, \"Nominal\": 11.85}, {\"Datef\": \"\\\"2019-03-15\\\"\", \"O\": 11.855, \"USL\": 11.86, \"LSL\": 11.84, \"Nominal\": 11.85}, {\"Datef\": \"\\\"2019-04-05\\\"\", \"O\": 11.851, \"USL\": 11.86, \"LSL\": 11.84, \"Nominal\": 11.85}, {\"Datef\": \"\\\"2019-04-05\\\"\", \"O\": 11.847, \"USL\": 11.86, \"LSL\": 11.84, \"Nominal\": 11.85}, {\"Datef\": \"\\\"2019-04-05\\\"\", \"O\": 11.86, \"USL\": 11.86, \"LSL\": 11.84, \"Nominal\": 11.85}, {\"Datef\": \"\\\"2019-04-05\\\"\", \"O\": 11.86, \"USL\": 11.86, \"LSL\": 11.84, \"Nominal\": 11.85}, {\"Datef\": \"\\\"2019-04-05\\\"\", \"O\": 11.86, \"USL\": 11.86, \"LSL\": 11.84, \"Nominal\": 11.85}, {\"Datef\": \"\\\"2019-04-16\\\"\", \"O\": 11.846, \"USL\": 11.86, \"LSL\": 11.84, \"Nominal\": 11.85}, {\"Datef\": \"\\\"2019-04-16\\\"\", \"O\": 11.847, \"USL\": 11.86, \"LSL\": 11.84, \"Nominal\": 11.85}, {\"Datef\": \"\\\"2019-04-16\\\"\", \"O\": 11.851, \"USL\": 11.86, \"LSL\": 11.84, \"Nominal\": 11.85}, {\"Datef\": \"\\\"2019-04-16\\\"\", \"O\": 11.853, \"USL\": 11.86, \"LSL\": 11.84, \"Nominal\": 11.85}, {\"Datef\": \"\\\"2019-04-16\\\"\", \"O\": 11.85, \"USL\": 11.86, \"LSL\": 11.84, \"Nominal\": 11.85}, {\"Datef\": \"\\\"2019-04-16\\\"\", \"O\": 11.856, \"USL\": 11.86, \"LSL\": 11.84, \"Nominal\": 11.85}, {\"Datef\": \"\\\"2019-04-16\\\"\", \"O\": 11.856, \"USL\": 11.86, \"LSL\": 11.84, \"Nominal\": 11.85}, {\"Datef\": \"\\\"2019-04-16\\\"\", \"O\": 11.859, \"USL\": 11.86, \"LSL\": 11.84, \"Nominal\": 11.85}, {\"Datef\": \"\\\"2019-04-16\\\"\", \"O\": 11.856, \"USL\": 11.86, \"LSL\": 11.84, \"Nominal\": 11.85}, {\"Datef\": \"\\\"2019-04-16\\\"\", \"O\": 11.858, \"USL\": 11.86, \"LSL\": 11.84, \"Nominal\": 11.85}, {\"Datef\": \"\\\"2019-05-27\\\"\", \"O\": 11.857, \"USL\": 11.86, \"LSL\": 11.84, \"Nominal\": 11.85}, {\"Datef\": \"\\\"2019-05-27\\\"\", \"O\": 11.851, \"USL\": 11.86, \"LSL\": 11.84, \"Nominal\": 11.85}, {\"Datef\": \"\\\"2019-05-27\\\"\", \"O\": 11.852, \"USL\": 11.86, \"LSL\": 11.84, \"Nominal\": 11.85}, {\"Datef\": \"\\\"2019-05-27\\\"\", \"O\": 11.854, \"USL\": 11.86, \"LSL\": 11.84, \"Nominal\": 11.85}, {\"Datef\": \"\\\"2019-05-27\\\"\", \"O\": 11.852, \"USL\": 11.86, \"LSL\": 11.84, \"Nominal\": 11.85}, {\"Datef\": \"\\\"2019-06-03\\\"\", \"O\": 11.847, \"USL\": 11.86, \"LSL\": 11.84, \"Nominal\": 11.85}, {\"Datef\": \"\\\"2019-06-03\\\"\", \"O\": 11.852, \"USL\": 11.86, \"LSL\": 11.84, \"Nominal\": 11.85}, {\"Datef\": \"\\\"2019-06-03\\\"\", \"O\": 11.855, \"USL\": 11.86, \"LSL\": 11.84, \"Nominal\": 11.85}, {\"Datef\": \"\\\"2019-06-03\\\"\", \"O\": 11.858, \"USL\": 11.86, \"LSL\": 11.84, \"Nominal\": 11.85}, {\"Datef\": \"\\\"2019-06-03\\\"\", \"O\": 11.85, \"USL\": 11.86, \"LSL\": 11.84, \"Nominal\": 11.85}, {\"Datef\": \"\\\"2019-06-10\\\"\", \"O\": 11.851, \"USL\": 11.86, \"LSL\": 11.84, \"Nominal\": 11.85}, {\"Datef\": \"\\\"2019-06-10\\\"\", \"O\": 11.858, \"USL\": 11.86, \"LSL\": 11.84, \"Nominal\": 11.85}, {\"Datef\": \"\\\"2019-06-10\\\"\", \"O\": 11.86, \"USL\": 11.86, \"LSL\": 11.84, \"Nominal\": 11.85}, {\"Datef\": \"\\\"2019-06-10\\\"\", \"O\": 11.853, \"USL\": 11.86, \"LSL\": 11.84, \"Nominal\": 11.85}, {\"Datef\": \"\\\"2019-06-10\\\"\", \"O\": 11.856, \"USL\": 11.86, \"LSL\": 11.84, \"Nominal\": 11.85}, {\"Datef\": \"\\\"2019-06-17\\\"\", \"O\": 11.86, \"USL\": 11.86, \"LSL\": 11.84, \"Nominal\": 11.85}, {\"Datef\": \"\\\"2019-06-17\\\"\", \"O\": 11.859, \"USL\": 11.86, \"LSL\": 11.84, \"Nominal\": 11.85}, {\"Datef\": \"\\\"2019-06-17\\\"\", \"O\": 11.858, \"USL\": 11.86, \"LSL\": 11.84, \"Nominal\": 11.85}, {\"Datef\": \"\\\"2019-06-17\\\"\", \"O\": 11.857, \"USL\": 11.86, \"LSL\": 11.84, \"Nominal\": 11.85}, {\"Datef\": \"\\\"2019-06-17\\\"\", \"O\": 11.86, \"USL\": 11.86, \"LSL\": 11.84, \"Nominal\": 11.85}, {\"Datef\": \"\\\"2019-06-25\\\"\", \"O\": 11.857, \"USL\": 11.86, \"LSL\": 11.84, \"Nominal\": 11.85}, {\"Datef\": \"\\\"2019-06-25\\\"\", \"O\": 11.858, \"USL\": 11.86, \"LSL\": 11.84, \"Nominal\": 11.85}, {\"Datef\": \"\\\"2019-06-25\\\"\", \"O\": 11.861, \"USL\": 11.86, \"LSL\": 11.84, \"Nominal\": 11.85}, {\"Datef\": \"\\\"2019-06-25\\\"\", \"O\": 11.862, \"USL\": 11.86, \"LSL\": 11.84, \"Nominal\": 11.85}, {\"Datef\": \"\\\"2019-06-25\\\"\", \"O\": 11.861, \"USL\": 11.86, \"LSL\": 11.84, \"Nominal\": 11.85}, {\"Datef\": \"\\\"2019-06-28\\\"\", \"O\": 11.855, \"USL\": 11.86, \"LSL\": 11.84, \"Nominal\": 11.85}, {\"Datef\": \"\\\"2019-06-28\\\"\", \"O\": 11.858, \"USL\": 11.86, \"LSL\": 11.84, \"Nominal\": 11.85}, {\"Datef\": \"\\\"2019-06-28\\\"\", \"O\": 11.854, \"USL\": 11.86, \"LSL\": 11.84, \"Nominal\": 11.85}, {\"Datef\": \"\\\"2019-06-28\\\"\", \"O\": 11.859, \"USL\": 11.86, \"LSL\": 11.84, \"Nominal\": 11.85}, {\"Datef\": \"\\\"2019-06-28\\\"\", \"O\": 11.852, \"USL\": 11.86, \"LSL\": 11.84, \"Nominal\": 11.85}, {\"Datef\": \"\\\"2019-08-07\\\"\", \"O\": 11.851, \"USL\": 11.86, \"LSL\": 11.84, \"Nominal\": 11.85}, {\"Datef\": \"\\\"2019-08-07\\\"\", \"O\": 11.851, \"USL\": 11.86, \"LSL\": 11.84, \"Nominal\": 11.85}, {\"Datef\": \"\\\"2019-08-07\\\"\", \"O\": 11.85, \"USL\": 11.86, \"LSL\": 11.84, \"Nominal\": 11.85}, {\"Datef\": \"\\\"2019-08-07\\\"\", \"O\": 11.85, \"USL\": 11.86, \"LSL\": 11.84, \"Nominal\": 11.85}, {\"Datef\": \"\\\"2019-08-07\\\"\", \"O\": 11.852, \"USL\": 11.86, \"LSL\": 11.84, \"Nominal\": 11.85}, {\"Datef\": \"\\\"2019-08-19\\\"\", \"O\": 11.848, \"USL\": 11.86, \"LSL\": 11.84, \"Nominal\": 11.85}, {\"Datef\": \"\\\"2019-08-19\\\"\", \"O\": 11.849, \"USL\": 11.86, \"LSL\": 11.84, \"Nominal\": 11.85}, {\"Datef\": \"\\\"2019-08-19\\\"\", \"O\": 11.848, \"USL\": 11.86, \"LSL\": 11.84, \"Nominal\": 11.85}, {\"Datef\": \"\\\"2019-08-19\\\"\", \"O\": 11.849, \"USL\": 11.86, \"LSL\": 11.84, \"Nominal\": 11.85}, {\"Datef\": \"\\\"2019-08-19\\\"\", \"O\": 11.849, \"USL\": 11.86, \"LSL\": 11.84, \"Nominal\": 11.85}, {\"Datef\": \"\\\"2019-08-26\\\"\", \"O\": 11.849, \"USL\": 11.86, \"LSL\": 11.84, \"Nominal\": 11.85}, {\"Datef\": \"\\\"2019-08-26\\\"\", \"O\": 11.85, \"USL\": 11.86, \"LSL\": 11.84, \"Nominal\": 11.85}, {\"Datef\": \"\\\"2019-08-26\\\"\", \"O\": 11.852, \"USL\": 11.86, \"LSL\": 11.84, \"Nominal\": 11.85}, {\"Datef\": \"\\\"2019-08-26\\\"\", \"O\": 11.849, \"USL\": 11.86, \"LSL\": 11.84, \"Nominal\": 11.85}, {\"Datef\": \"\\\"2019-08-26\\\"\", \"O\": 11.849, \"USL\": 11.86, \"LSL\": 11.84, \"Nominal\": 11.85}, {\"Datef\": \"\\\"2019-09-05\\\"\", \"O\": 11.855, \"USL\": 11.86, \"LSL\": 11.84, \"Nominal\": 11.85}, {\"Datef\": \"\\\"2019-09-05\\\"\", \"O\": 11.855, \"USL\": 11.86, \"LSL\": 11.84, \"Nominal\": 11.85}, {\"Datef\": \"\\\"2019-09-05\\\"\", \"O\": 11.856, \"USL\": 11.86, \"LSL\": 11.84, \"Nominal\": 11.85}, {\"Datef\": \"\\\"2019-09-05\\\"\", \"O\": 11.856, \"USL\": 11.86, \"LSL\": 11.84, \"Nominal\": 11.85}, {\"Datef\": \"\\\"2019-09-05\\\"\", \"O\": 11.857, \"USL\": 11.86, \"LSL\": 11.84, \"Nominal\": 11.85}, {\"Datef\": \"\\\"2019-10-17\\\"\", \"O\": 11.848, \"USL\": 11.86, \"LSL\": 11.84, \"Nominal\": 11.85}, {\"Datef\": \"\\\"2019-10-17\\\"\", \"O\": 11.849, \"USL\": 11.86, \"LSL\": 11.84, \"Nominal\": 11.85}, {\"Datef\": \"\\\"2019-10-17\\\"\", \"O\": 11.849, \"USL\": 11.86, \"LSL\": 11.84, \"Nominal\": 11.85}, {\"Datef\": \"\\\"2019-10-17\\\"\", \"O\": 11.849, \"USL\": 11.86, \"LSL\": 11.84, \"Nominal\": 11.85}, {\"Datef\": \"\\\"2019-10-17\\\"\", \"O\": 11.85, \"USL\": 11.86, \"LSL\": 11.84, \"Nominal\": 11.85}, {\"Datef\": \"\\\"2019-11-01\\\"\", \"O\": 11.848, \"USL\": 11.86, \"LSL\": 11.84, \"Nominal\": 11.85}, {\"Datef\": \"\\\"2019-11-01\\\"\", \"O\": 11.848, \"USL\": 11.86, \"LSL\": 11.84, \"Nominal\": 11.85}, {\"Datef\": \"\\\"2019-11-01\\\"\", \"O\": 11.851, \"USL\": 11.86, \"LSL\": 11.84, \"Nominal\": 11.85}, {\"Datef\": \"\\\"2019-11-01\\\"\", \"O\": 11.849, \"USL\": 11.86, \"LSL\": 11.84, \"Nominal\": 11.85}, {\"Datef\": \"\\\"2019-11-01\\\"\", \"O\": 11.849, \"USL\": 11.86, \"LSL\": 11.84, \"Nominal\": 11.85}, {\"Datef\": \"\\\"2019-11-13\\\"\", \"O\": 11.851, \"USL\": 11.86, \"LSL\": 11.84, \"Nominal\": 11.85}, {\"Datef\": \"\\\"2019-11-13\\\"\", \"O\": 11.851, \"USL\": 11.86, \"LSL\": 11.84, \"Nominal\": 11.85}, {\"Datef\": \"\\\"2019-11-13\\\"\", \"O\": 11.851, \"USL\": 11.86, \"LSL\": 11.84, \"Nominal\": 11.85}, {\"Datef\": \"\\\"2019-11-13\\\"\", \"O\": 11.85, \"USL\": 11.86, \"LSL\": 11.84, \"Nominal\": 11.85}, {\"Datef\": \"\\\"2019-11-13\\\"\", \"O\": 11.851, \"USL\": 11.86, \"LSL\": 11.84, \"Nominal\": 11.85}, {\"Datef\": \"\\\"2019-12-05\\\"\", \"O\": 11.848, \"USL\": 11.86, \"LSL\": 11.84, \"Nominal\": 11.85}, {\"Datef\": \"\\\"2019-12-05\\\"\", \"O\": 11.849, \"USL\": 11.86, \"LSL\": 11.84, \"Nominal\": 11.85}, {\"Datef\": \"\\\"2019-12-05\\\"\", \"O\": 11.85, \"USL\": 11.86, \"LSL\": 11.84, \"Nominal\": 11.85}, {\"Datef\": \"\\\"2019-12-05\\\"\", \"O\": 11.85, \"USL\": 11.86, \"LSL\": 11.84, \"Nominal\": 11.85}, {\"Datef\": \"\\\"2019-12-05\\\"\", \"O\": 11.849, \"USL\": 11.86, \"LSL\": 11.84, \"Nominal\": 11.85}, {\"Datef\": \"\\\"2019-12-10\\\"\", \"O\": 11.852, \"USL\": 11.86, \"LSL\": 11.84, \"Nominal\": 11.85}, {\"Datef\": \"\\\"2019-12-10\\\"\", \"O\": 11.851, \"USL\": 11.86, \"LSL\": 11.84, \"Nominal\": 11.85}, {\"Datef\": \"\\\"2019-12-10\\\"\", \"O\": 11.852, \"USL\": 11.86, \"LSL\": 11.84, \"Nominal\": 11.85}, {\"Datef\": \"\\\"2019-12-10\\\"\", \"O\": 11.852, \"USL\": 11.86, \"LSL\": 11.84, \"Nominal\": 11.85}, {\"Datef\": \"\\\"2019-12-10\\\"\", \"O\": 11.853, \"USL\": 11.86, \"LSL\": 11.84, \"Nominal\": 11.85}, {\"Datef\": \"\\\"2019-12-26\\\"\", \"O\": 11.85, \"USL\": 11.86, \"LSL\": 11.84, \"Nominal\": 11.85}, {\"Datef\": \"\\\"2019-12-26\\\"\", \"O\": 11.847, \"USL\": 11.86, \"LSL\": 11.84, \"Nominal\": 11.85}, {\"Datef\": \"\\\"2019-12-26\\\"\", \"O\": 11.848, \"USL\": 11.86, \"LSL\": 11.84, \"Nominal\": 11.85}, {\"Datef\": \"\\\"2019-12-26\\\"\", \"O\": 11.85, \"USL\": 11.86, \"LSL\": 11.84, \"Nominal\": 11.85}, {\"Datef\": \"\\\"2019-12-26\\\"\", \"O\": 11.848, \"USL\": 11.86, \"LSL\": 11.84, \"Nominal\": 11.85}, {\"Datef\": \"\\\"2019-12-31\\\"\", \"O\": 11.85, \"USL\": 11.86, \"LSL\": 11.84, \"Nominal\": 11.85}, {\"Datef\": \"\\\"2019-12-31\\\"\", \"O\": 11.849, \"USL\": 11.86, \"LSL\": 11.84, \"Nominal\": 11.85}, {\"Datef\": \"\\\"2019-12-31\\\"\", \"O\": 11.847, \"USL\": 11.86, \"LSL\": 11.84, \"Nominal\": 11.85}, {\"Datef\": \"\\\"2019-12-31\\\"\", \"O\": 11.847, \"USL\": 11.86, \"LSL\": 11.84, \"Nominal\": 11.85}, {\"Datef\": \"\\\"2019-12-31\\\"\", \"O\": 11.848, \"USL\": 11.86, \"LSL\": 11.84, \"Nominal\": 11.85}], \"data-1c5f679b5333ab88874ec7ef37d3a5c8\": [{\"Datef\": \"\\\"2019-01-11\\\"\", \"Z\": 0.31, \"USL\": 0.32, \"LSL\": 0.27999999999999997, \"Nominal\": 0.3}, {\"Datef\": \"\\\"2019-01-11\\\"\", \"Z\": 0.31, \"USL\": 0.32, \"LSL\": 0.27999999999999997, \"Nominal\": 0.3}, {\"Datef\": \"\\\"2019-01-11\\\"\", \"Z\": 0.31, \"USL\": 0.32, \"LSL\": 0.27999999999999997, \"Nominal\": 0.3}, {\"Datef\": \"\\\"2019-01-11\\\"\", \"Z\": 0.311, \"USL\": 0.32, \"LSL\": 0.27999999999999997, \"Nominal\": 0.3}, {\"Datef\": \"\\\"2019-01-11\\\"\", \"Z\": 0.31, \"USL\": 0.32, \"LSL\": 0.27999999999999997, \"Nominal\": 0.3}, {\"Datef\": \"\\\"2019-01-22\\\"\", \"Z\": 0.31, \"USL\": 0.32, \"LSL\": 0.27999999999999997, \"Nominal\": 0.3}, {\"Datef\": \"\\\"2019-01-22\\\"\", \"Z\": 0.311, \"USL\": 0.32, \"LSL\": 0.27999999999999997, \"Nominal\": 0.3}, {\"Datef\": \"\\\"2019-01-22\\\"\", \"Z\": 0.311, \"USL\": 0.32, \"LSL\": 0.27999999999999997, \"Nominal\": 0.3}, {\"Datef\": \"\\\"2019-01-22\\\"\", \"Z\": 0.311, \"USL\": 0.32, \"LSL\": 0.27999999999999997, \"Nominal\": 0.3}, {\"Datef\": \"\\\"2019-01-22\\\"\", \"Z\": 0.311, \"USL\": 0.32, \"LSL\": 0.27999999999999997, \"Nominal\": 0.3}, {\"Datef\": \"\\\"2019-01-26\\\"\", \"Z\": 0.311, \"USL\": 0.32, \"LSL\": 0.27999999999999997, \"Nominal\": 0.3}, {\"Datef\": \"\\\"2019-01-26\\\"\", \"Z\": 0.311, \"USL\": 0.32, \"LSL\": 0.27999999999999997, \"Nominal\": 0.3}, {\"Datef\": \"\\\"2019-01-26\\\"\", \"Z\": 0.311, \"USL\": 0.32, \"LSL\": 0.27999999999999997, \"Nominal\": 0.3}, {\"Datef\": \"\\\"2019-01-26\\\"\", \"Z\": 0.311, \"USL\": 0.32, \"LSL\": 0.27999999999999997, \"Nominal\": 0.3}, {\"Datef\": \"\\\"2019-01-26\\\"\", \"Z\": 0.312, \"USL\": 0.32, \"LSL\": 0.27999999999999997, \"Nominal\": 0.3}, {\"Datef\": \"\\\"2019-01-31\\\"\", \"Z\": 0.311, \"USL\": 0.32, \"LSL\": 0.27999999999999997, \"Nominal\": 0.3}, {\"Datef\": \"\\\"2019-01-31\\\"\", \"Z\": 0.311, \"USL\": 0.32, \"LSL\": 0.27999999999999997, \"Nominal\": 0.3}, {\"Datef\": \"\\\"2019-01-31\\\"\", \"Z\": 0.313, \"USL\": 0.32, \"LSL\": 0.27999999999999997, \"Nominal\": 0.3}, {\"Datef\": \"\\\"2019-01-31\\\"\", \"Z\": 0.311, \"USL\": 0.32, \"LSL\": 0.27999999999999997, \"Nominal\": 0.3}, {\"Datef\": \"\\\"2019-01-31\\\"\", \"Z\": 0.311, \"USL\": 0.32, \"LSL\": 0.27999999999999997, \"Nominal\": 0.3}, {\"Datef\": \"\\\"2019-02-11\\\"\", \"Z\": 0.311, \"USL\": 0.32, \"LSL\": 0.27999999999999997, \"Nominal\": 0.3}, {\"Datef\": \"\\\"2019-02-11\\\"\", \"Z\": 0.312, \"USL\": 0.32, \"LSL\": 0.27999999999999997, \"Nominal\": 0.3}, {\"Datef\": \"\\\"2019-02-11\\\"\", \"Z\": 0.311, \"USL\": 0.32, \"LSL\": 0.27999999999999997, \"Nominal\": 0.3}, {\"Datef\": \"\\\"2019-02-11\\\"\", \"Z\": 0.313, \"USL\": 0.32, \"LSL\": 0.27999999999999997, \"Nominal\": 0.3}, {\"Datef\": \"\\\"2019-02-11\\\"\", \"Z\": 0.312, \"USL\": 0.32, \"LSL\": 0.27999999999999997, \"Nominal\": 0.3}, {\"Datef\": \"\\\"2019-02-22\\\"\", \"Z\": 0.313, \"USL\": 0.32, \"LSL\": 0.27999999999999997, \"Nominal\": 0.3}, {\"Datef\": \"\\\"2019-02-22\\\"\", \"Z\": 0.313, \"USL\": 0.32, \"LSL\": 0.27999999999999997, \"Nominal\": 0.3}, {\"Datef\": \"\\\"2019-02-22\\\"\", \"Z\": 0.31, \"USL\": 0.32, \"LSL\": 0.27999999999999997, \"Nominal\": 0.3}, {\"Datef\": \"\\\"2019-02-22\\\"\", \"Z\": 0.312, \"USL\": 0.32, \"LSL\": 0.27999999999999997, \"Nominal\": 0.3}, {\"Datef\": \"\\\"2019-02-22\\\"\", \"Z\": 0.31, \"USL\": 0.32, \"LSL\": 0.27999999999999997, \"Nominal\": 0.3}, {\"Datef\": \"\\\"2019-02-27\\\"\", \"Z\": 0.311, \"USL\": 0.32, \"LSL\": 0.27999999999999997, \"Nominal\": 0.3}, {\"Datef\": \"\\\"2019-02-27\\\"\", \"Z\": 0.311, \"USL\": 0.32, \"LSL\": 0.27999999999999997, \"Nominal\": 0.3}, {\"Datef\": \"\\\"2019-02-27\\\"\", \"Z\": 0.311, \"USL\": 0.32, \"LSL\": 0.27999999999999997, \"Nominal\": 0.3}, {\"Datef\": \"\\\"2019-02-27\\\"\", \"Z\": 0.312, \"USL\": 0.32, \"LSL\": 0.27999999999999997, \"Nominal\": 0.3}, {\"Datef\": \"\\\"2019-02-27\\\"\", \"Z\": 0.312, \"USL\": 0.32, \"LSL\": 0.27999999999999997, \"Nominal\": 0.3}, {\"Datef\": \"\\\"2019-03-07\\\"\", \"Z\": 0.312, \"USL\": 0.32, \"LSL\": 0.27999999999999997, \"Nominal\": 0.3}, {\"Datef\": \"\\\"2019-03-07\\\"\", \"Z\": 0.311, \"USL\": 0.32, \"LSL\": 0.27999999999999997, \"Nominal\": 0.3}, {\"Datef\": \"\\\"2019-03-07\\\"\", \"Z\": 0.311, \"USL\": 0.32, \"LSL\": 0.27999999999999997, \"Nominal\": 0.3}, {\"Datef\": \"\\\"2019-03-07\\\"\", \"Z\": 0.312, \"USL\": 0.32, \"LSL\": 0.27999999999999997, \"Nominal\": 0.3}, {\"Datef\": \"\\\"2019-03-07\\\"\", \"Z\": 0.31, \"USL\": 0.32, \"LSL\": 0.27999999999999997, \"Nominal\": 0.3}, {\"Datef\": \"\\\"2019-03-15\\\"\", \"Z\": 0.311, \"USL\": 0.32, \"LSL\": 0.27999999999999997, \"Nominal\": 0.3}, {\"Datef\": \"\\\"2019-03-15\\\"\", \"Z\": 0.311, \"USL\": 0.32, \"LSL\": 0.27999999999999997, \"Nominal\": 0.3}, {\"Datef\": \"\\\"2019-03-15\\\"\", \"Z\": 0.311, \"USL\": 0.32, \"LSL\": 0.27999999999999997, \"Nominal\": 0.3}, {\"Datef\": \"\\\"2019-03-15\\\"\", \"Z\": 0.313, \"USL\": 0.32, \"LSL\": 0.27999999999999997, \"Nominal\": 0.3}, {\"Datef\": \"\\\"2019-03-15\\\"\", \"Z\": 0.313, \"USL\": 0.32, \"LSL\": 0.27999999999999997, \"Nominal\": 0.3}, {\"Datef\": \"\\\"2019-04-05\\\"\", \"Z\": 0.31, \"USL\": 0.32, \"LSL\": 0.27999999999999997, \"Nominal\": 0.3}, {\"Datef\": \"\\\"2019-04-05\\\"\", \"Z\": 0.313, \"USL\": 0.32, \"LSL\": 0.27999999999999997, \"Nominal\": 0.3}, {\"Datef\": \"\\\"2019-04-05\\\"\", \"Z\": 0.311, \"USL\": 0.32, \"LSL\": 0.27999999999999997, \"Nominal\": 0.3}, {\"Datef\": \"\\\"2019-04-05\\\"\", \"Z\": 0.31, \"USL\": 0.32, \"LSL\": 0.27999999999999997, \"Nominal\": 0.3}, {\"Datef\": \"\\\"2019-04-05\\\"\", \"Z\": 0.31, \"USL\": 0.32, \"LSL\": 0.27999999999999997, \"Nominal\": 0.3}, {\"Datef\": \"\\\"2019-04-16\\\"\", \"Z\": 0.314, \"USL\": 0.32, \"LSL\": 0.27999999999999997, \"Nominal\": 0.3}, {\"Datef\": \"\\\"2019-04-16\\\"\", \"Z\": 0.314, \"USL\": 0.32, \"LSL\": 0.27999999999999997, \"Nominal\": 0.3}, {\"Datef\": \"\\\"2019-04-16\\\"\", \"Z\": 0.311, \"USL\": 0.32, \"LSL\": 0.27999999999999997, \"Nominal\": 0.3}, {\"Datef\": \"\\\"2019-04-16\\\"\", \"Z\": 0.315, \"USL\": 0.32, \"LSL\": 0.27999999999999997, \"Nominal\": 0.3}, {\"Datef\": \"\\\"2019-04-16\\\"\", \"Z\": 0.313, \"USL\": 0.32, \"LSL\": 0.27999999999999997, \"Nominal\": 0.3}, {\"Datef\": \"\\\"2019-04-16\\\"\", \"Z\": 0.313, \"USL\": 0.32, \"LSL\": 0.27999999999999997, \"Nominal\": 0.3}, {\"Datef\": \"\\\"2019-04-16\\\"\", \"Z\": 0.31, \"USL\": 0.32, \"LSL\": 0.27999999999999997, \"Nominal\": 0.3}, {\"Datef\": \"\\\"2019-04-16\\\"\", \"Z\": 0.314, \"USL\": 0.32, \"LSL\": 0.27999999999999997, \"Nominal\": 0.3}, {\"Datef\": \"\\\"2019-04-16\\\"\", \"Z\": 0.312, \"USL\": 0.32, \"LSL\": 0.27999999999999997, \"Nominal\": 0.3}, {\"Datef\": \"\\\"2019-04-16\\\"\", \"Z\": 0.311, \"USL\": 0.32, \"LSL\": 0.27999999999999997, \"Nominal\": 0.3}, {\"Datef\": \"\\\"2019-05-27\\\"\", \"Z\": 0.313, \"USL\": 0.32, \"LSL\": 0.27999999999999997, \"Nominal\": 0.3}, {\"Datef\": \"\\\"2019-05-27\\\"\", \"Z\": 0.312, \"USL\": 0.32, \"LSL\": 0.27999999999999997, \"Nominal\": 0.3}, {\"Datef\": \"\\\"2019-05-27\\\"\", \"Z\": 0.311, \"USL\": 0.32, \"LSL\": 0.27999999999999997, \"Nominal\": 0.3}, {\"Datef\": \"\\\"2019-05-27\\\"\", \"Z\": 0.313, \"USL\": 0.32, \"LSL\": 0.27999999999999997, \"Nominal\": 0.3}, {\"Datef\": \"\\\"2019-05-27\\\"\", \"Z\": 0.316, \"USL\": 0.32, \"LSL\": 0.27999999999999997, \"Nominal\": 0.3}, {\"Datef\": \"\\\"2019-06-03\\\"\", \"Z\": 0.314, \"USL\": 0.32, \"LSL\": 0.27999999999999997, \"Nominal\": 0.3}, {\"Datef\": \"\\\"2019-06-03\\\"\", \"Z\": 0.315, \"USL\": 0.32, \"LSL\": 0.27999999999999997, \"Nominal\": 0.3}, {\"Datef\": \"\\\"2019-06-03\\\"\", \"Z\": 0.311, \"USL\": 0.32, \"LSL\": 0.27999999999999997, \"Nominal\": 0.3}, {\"Datef\": \"\\\"2019-06-03\\\"\", \"Z\": 0.31, \"USL\": 0.32, \"LSL\": 0.27999999999999997, \"Nominal\": 0.3}, {\"Datef\": \"\\\"2019-06-03\\\"\", \"Z\": 0.313, \"USL\": 0.32, \"LSL\": 0.27999999999999997, \"Nominal\": 0.3}, {\"Datef\": \"\\\"2019-06-10\\\"\", \"Z\": 0.311, \"USL\": 0.32, \"LSL\": 0.27999999999999997, \"Nominal\": 0.3}, {\"Datef\": \"\\\"2019-06-10\\\"\", \"Z\": 0.311, \"USL\": 0.32, \"LSL\": 0.27999999999999997, \"Nominal\": 0.3}, {\"Datef\": \"\\\"2019-06-10\\\"\", \"Z\": 0.312, \"USL\": 0.32, \"LSL\": 0.27999999999999997, \"Nominal\": 0.3}, {\"Datef\": \"\\\"2019-06-10\\\"\", \"Z\": 0.31, \"USL\": 0.32, \"LSL\": 0.27999999999999997, \"Nominal\": 0.3}, {\"Datef\": \"\\\"2019-06-10\\\"\", \"Z\": 0.312, \"USL\": 0.32, \"LSL\": 0.27999999999999997, \"Nominal\": 0.3}, {\"Datef\": \"\\\"2019-06-17\\\"\", \"Z\": 0.313, \"USL\": 0.32, \"LSL\": 0.27999999999999997, \"Nominal\": 0.3}, {\"Datef\": \"\\\"2019-06-17\\\"\", \"Z\": 0.31, \"USL\": 0.32, \"LSL\": 0.27999999999999997, \"Nominal\": 0.3}, {\"Datef\": \"\\\"2019-06-17\\\"\", \"Z\": 0.313, \"USL\": 0.32, \"LSL\": 0.27999999999999997, \"Nominal\": 0.3}, {\"Datef\": \"\\\"2019-06-17\\\"\", \"Z\": 0.314, \"USL\": 0.32, \"LSL\": 0.27999999999999997, \"Nominal\": 0.3}, {\"Datef\": \"\\\"2019-06-17\\\"\", \"Z\": 0.314, \"USL\": 0.32, \"LSL\": 0.27999999999999997, \"Nominal\": 0.3}, {\"Datef\": \"\\\"2019-06-25\\\"\", \"Z\": 0.315, \"USL\": 0.32, \"LSL\": 0.27999999999999997, \"Nominal\": 0.3}, {\"Datef\": \"\\\"2019-06-25\\\"\", \"Z\": 0.315, \"USL\": 0.32, \"LSL\": 0.27999999999999997, \"Nominal\": 0.3}, {\"Datef\": \"\\\"2019-06-25\\\"\", \"Z\": 0.318, \"USL\": 0.32, \"LSL\": 0.27999999999999997, \"Nominal\": 0.3}, {\"Datef\": \"\\\"2019-06-25\\\"\", \"Z\": 0.318, \"USL\": 0.32, \"LSL\": 0.27999999999999997, \"Nominal\": 0.3}, {\"Datef\": \"\\\"2019-06-25\\\"\", \"Z\": 0.316, \"USL\": 0.32, \"LSL\": 0.27999999999999997, \"Nominal\": 0.3}, {\"Datef\": \"\\\"2019-06-28\\\"\", \"Z\": 0.316, \"USL\": 0.32, \"LSL\": 0.27999999999999997, \"Nominal\": 0.3}, {\"Datef\": \"\\\"2019-06-28\\\"\", \"Z\": 0.316, \"USL\": 0.32, \"LSL\": 0.27999999999999997, \"Nominal\": 0.3}, {\"Datef\": \"\\\"2019-06-28\\\"\", \"Z\": 0.315, \"USL\": 0.32, \"LSL\": 0.27999999999999997, \"Nominal\": 0.3}, {\"Datef\": \"\\\"2019-06-28\\\"\", \"Z\": 0.312, \"USL\": 0.32, \"LSL\": 0.27999999999999997, \"Nominal\": 0.3}, {\"Datef\": \"\\\"2019-06-28\\\"\", \"Z\": 0.319, \"USL\": 0.32, \"LSL\": 0.27999999999999997, \"Nominal\": 0.3}, {\"Datef\": \"\\\"2019-08-07\\\"\", \"Z\": 0.312, \"USL\": 0.32, \"LSL\": 0.27999999999999997, \"Nominal\": 0.3}, {\"Datef\": \"\\\"2019-08-07\\\"\", \"Z\": 0.316, \"USL\": 0.32, \"LSL\": 0.27999999999999997, \"Nominal\": 0.3}, {\"Datef\": \"\\\"2019-08-07\\\"\", \"Z\": 0.312, \"USL\": 0.32, \"LSL\": 0.27999999999999997, \"Nominal\": 0.3}, {\"Datef\": \"\\\"2019-08-07\\\"\", \"Z\": 0.313, \"USL\": 0.32, \"LSL\": 0.27999999999999997, \"Nominal\": 0.3}, {\"Datef\": \"\\\"2019-08-07\\\"\", \"Z\": 0.314, \"USL\": 0.32, \"LSL\": 0.27999999999999997, \"Nominal\": 0.3}, {\"Datef\": \"\\\"2019-08-19\\\"\", \"Z\": 0.314, \"USL\": 0.32, \"LSL\": 0.27999999999999997, \"Nominal\": 0.3}, {\"Datef\": \"\\\"2019-08-19\\\"\", \"Z\": 0.314, \"USL\": 0.32, \"LSL\": 0.27999999999999997, \"Nominal\": 0.3}, {\"Datef\": \"\\\"2019-08-19\\\"\", \"Z\": 0.312, \"USL\": 0.32, \"LSL\": 0.27999999999999997, \"Nominal\": 0.3}, {\"Datef\": \"\\\"2019-08-19\\\"\", \"Z\": 0.313, \"USL\": 0.32, \"LSL\": 0.27999999999999997, \"Nominal\": 0.3}, {\"Datef\": \"\\\"2019-08-19\\\"\", \"Z\": 0.311, \"USL\": 0.32, \"LSL\": 0.27999999999999997, \"Nominal\": 0.3}, {\"Datef\": \"\\\"2019-08-26\\\"\", \"Z\": 0.311, \"USL\": 0.32, \"LSL\": 0.27999999999999997, \"Nominal\": 0.3}, {\"Datef\": \"\\\"2019-08-26\\\"\", \"Z\": 0.314, \"USL\": 0.32, \"LSL\": 0.27999999999999997, \"Nominal\": 0.3}, {\"Datef\": \"\\\"2019-08-26\\\"\", \"Z\": 0.313, \"USL\": 0.32, \"LSL\": 0.27999999999999997, \"Nominal\": 0.3}, {\"Datef\": \"\\\"2019-08-26\\\"\", \"Z\": 0.314, \"USL\": 0.32, \"LSL\": 0.27999999999999997, \"Nominal\": 0.3}, {\"Datef\": \"\\\"2019-08-26\\\"\", \"Z\": 0.312, \"USL\": 0.32, \"LSL\": 0.27999999999999997, \"Nominal\": 0.3}, {\"Datef\": \"\\\"2019-09-05\\\"\", \"Z\": 0.316, \"USL\": 0.32, \"LSL\": 0.27999999999999997, \"Nominal\": 0.3}, {\"Datef\": \"\\\"2019-09-05\\\"\", \"Z\": 0.316, \"USL\": 0.32, \"LSL\": 0.27999999999999997, \"Nominal\": 0.3}, {\"Datef\": \"\\\"2019-09-05\\\"\", \"Z\": 0.316, \"USL\": 0.32, \"LSL\": 0.27999999999999997, \"Nominal\": 0.3}, {\"Datef\": \"\\\"2019-09-05\\\"\", \"Z\": 0.316, \"USL\": 0.32, \"LSL\": 0.27999999999999997, \"Nominal\": 0.3}, {\"Datef\": \"\\\"2019-09-05\\\"\", \"Z\": 0.317, \"USL\": 0.32, \"LSL\": 0.27999999999999997, \"Nominal\": 0.3}, {\"Datef\": \"\\\"2019-10-17\\\"\", \"Z\": 0.311, \"USL\": 0.32, \"LSL\": 0.27999999999999997, \"Nominal\": 0.3}, {\"Datef\": \"\\\"2019-10-17\\\"\", \"Z\": 0.313, \"USL\": 0.32, \"LSL\": 0.27999999999999997, \"Nominal\": 0.3}, {\"Datef\": \"\\\"2019-10-17\\\"\", \"Z\": 0.312, \"USL\": 0.32, \"LSL\": 0.27999999999999997, \"Nominal\": 0.3}, {\"Datef\": \"\\\"2019-10-17\\\"\", \"Z\": 0.314, \"USL\": 0.32, \"LSL\": 0.27999999999999997, \"Nominal\": 0.3}, {\"Datef\": \"\\\"2019-10-17\\\"\", \"Z\": 0.314, \"USL\": 0.32, \"LSL\": 0.27999999999999997, \"Nominal\": 0.3}, {\"Datef\": \"\\\"2019-11-01\\\"\", \"Z\": 0.313, \"USL\": 0.32, \"LSL\": 0.27999999999999997, \"Nominal\": 0.3}, {\"Datef\": \"\\\"2019-11-01\\\"\", \"Z\": 0.314, \"USL\": 0.32, \"LSL\": 0.27999999999999997, \"Nominal\": 0.3}, {\"Datef\": \"\\\"2019-11-01\\\"\", \"Z\": 0.313, \"USL\": 0.32, \"LSL\": 0.27999999999999997, \"Nominal\": 0.3}, {\"Datef\": \"\\\"2019-11-01\\\"\", \"Z\": 0.313, \"USL\": 0.32, \"LSL\": 0.27999999999999997, \"Nominal\": 0.3}, {\"Datef\": \"\\\"2019-11-01\\\"\", \"Z\": 0.313, \"USL\": 0.32, \"LSL\": 0.27999999999999997, \"Nominal\": 0.3}, {\"Datef\": \"\\\"2019-11-13\\\"\", \"Z\": 0.316, \"USL\": 0.32, \"LSL\": 0.27999999999999997, \"Nominal\": 0.3}, {\"Datef\": \"\\\"2019-11-13\\\"\", \"Z\": 0.315, \"USL\": 0.32, \"LSL\": 0.27999999999999997, \"Nominal\": 0.3}, {\"Datef\": \"\\\"2019-11-13\\\"\", \"Z\": 0.315, \"USL\": 0.32, \"LSL\": 0.27999999999999997, \"Nominal\": 0.3}, {\"Datef\": \"\\\"2019-11-13\\\"\", \"Z\": 0.315, \"USL\": 0.32, \"LSL\": 0.27999999999999997, \"Nominal\": 0.3}, {\"Datef\": \"\\\"2019-11-13\\\"\", \"Z\": 0.315, \"USL\": 0.32, \"LSL\": 0.27999999999999997, \"Nominal\": 0.3}, {\"Datef\": \"\\\"2019-12-05\\\"\", \"Z\": 0.309, \"USL\": 0.32, \"LSL\": 0.27999999999999997, \"Nominal\": 0.3}, {\"Datef\": \"\\\"2019-12-05\\\"\", \"Z\": 0.308, \"USL\": 0.32, \"LSL\": 0.27999999999999997, \"Nominal\": 0.3}, {\"Datef\": \"\\\"2019-12-05\\\"\", \"Z\": 0.308, \"USL\": 0.32, \"LSL\": 0.27999999999999997, \"Nominal\": 0.3}, {\"Datef\": \"\\\"2019-12-05\\\"\", \"Z\": 0.307, \"USL\": 0.32, \"LSL\": 0.27999999999999997, \"Nominal\": 0.3}, {\"Datef\": \"\\\"2019-12-05\\\"\", \"Z\": 0.308, \"USL\": 0.32, \"LSL\": 0.27999999999999997, \"Nominal\": 0.3}, {\"Datef\": \"\\\"2019-12-10\\\"\", \"Z\": 0.311, \"USL\": 0.32, \"LSL\": 0.27999999999999997, \"Nominal\": 0.3}, {\"Datef\": \"\\\"2019-12-10\\\"\", \"Z\": 0.313, \"USL\": 0.32, \"LSL\": 0.27999999999999997, \"Nominal\": 0.3}, {\"Datef\": \"\\\"2019-12-10\\\"\", \"Z\": 0.31, \"USL\": 0.32, \"LSL\": 0.27999999999999997, \"Nominal\": 0.3}, {\"Datef\": \"\\\"2019-12-10\\\"\", \"Z\": 0.312, \"USL\": 0.32, \"LSL\": 0.27999999999999997, \"Nominal\": 0.3}, {\"Datef\": \"\\\"2019-12-10\\\"\", \"Z\": 0.311, \"USL\": 0.32, \"LSL\": 0.27999999999999997, \"Nominal\": 0.3}, {\"Datef\": \"\\\"2019-12-26\\\"\", \"Z\": 0.313, \"USL\": 0.32, \"LSL\": 0.27999999999999997, \"Nominal\": 0.3}, {\"Datef\": \"\\\"2019-12-26\\\"\", \"Z\": 0.312, \"USL\": 0.32, \"LSL\": 0.27999999999999997, \"Nominal\": 0.3}, {\"Datef\": \"\\\"2019-12-26\\\"\", \"Z\": 0.312, \"USL\": 0.32, \"LSL\": 0.27999999999999997, \"Nominal\": 0.3}, {\"Datef\": \"\\\"2019-12-26\\\"\", \"Z\": 0.313, \"USL\": 0.32, \"LSL\": 0.27999999999999997, \"Nominal\": 0.3}, {\"Datef\": \"\\\"2019-12-26\\\"\", \"Z\": 0.312, \"USL\": 0.32, \"LSL\": 0.27999999999999997, \"Nominal\": 0.3}, {\"Datef\": \"\\\"2019-12-31\\\"\", \"Z\": 0.313, \"USL\": 0.32, \"LSL\": 0.27999999999999997, \"Nominal\": 0.3}, {\"Datef\": \"\\\"2019-12-31\\\"\", \"Z\": 0.314, \"USL\": 0.32, \"LSL\": 0.27999999999999997, \"Nominal\": 0.3}, {\"Datef\": \"\\\"2019-12-31\\\"\", \"Z\": 0.313, \"USL\": 0.32, \"LSL\": 0.27999999999999997, \"Nominal\": 0.3}, {\"Datef\": \"\\\"2019-12-31\\\"\", \"Z\": 0.312, \"USL\": 0.32, \"LSL\": 0.27999999999999997, \"Nominal\": 0.3}, {\"Datef\": \"\\\"2019-12-31\\\"\", \"Z\": 0.312, \"USL\": 0.32, \"LSL\": 0.27999999999999997, \"Nominal\": 0.3}]}}, {\"mode\": \"vega-lite\"});\n",
              "</script>"
            ]
          },
          "metadata": {
            "tags": []
          },
          "execution_count": 27
        }
      ]
    },
    {
      "cell_type": "code",
      "metadata": {
        "id": "2s9G47HPLVew",
        "colab_type": "code",
        "colab": {}
      },
      "source": [
        "#box_chart_combine.save(namefile+'.html')"
      ],
      "execution_count": 28,
      "outputs": []
    },
    {
      "cell_type": "code",
      "metadata": {
        "id": "flGKuIM5rLMb",
        "colab_type": "code",
        "colab": {
          "base_uri": "https://localhost:8080/",
          "height": 1000
        },
        "outputId": "edc8ec3d-eeb3-44d6-bb12-efe60bc51e6b"
      },
      "source": [
        "for name in DFdict.keys():\n",
        "  df_box=DFdict[name].copy() #All values for each features\n",
        "  df_box['Datef']=df_box['Datef'].dt.date\n",
        "  df_box_line=df_box.groupby('Datef').mean()#Group values for line chart\n",
        "  df_box_line.reset_index(inplace=True)\n",
        "\n",
        "  fig,ax=plt.subplots(figsize=(16,4))\n",
        "  sns.boxplot(x='Datef',y=name,data=df_box,ax=ax,color='cornflowerblue') \n",
        "  #df_box.boxplot(column='C-Pitch',by='Datef',ax=ax)#df_box: data with no group by date\n",
        "  df_box_line.plot(y='USL',kind='line',ax=ax,color='#FF5733') #df_box_line: data with group by date\n",
        "  df_box_line.plot(y='LSL',kind='line',ax=ax,color='#FF5733')\n",
        "  df_box_line.plot(y='Nominal',kind='line',ax=ax,color='#FF5733')\n",
        "\n",
        "  #plt.gca().set_xticks(df_box_line['Datef'])\n",
        "  plt.gca().set_xticklabels(df_box_line['Datef'],rotation=90)\n",
        "  plt.gca().set_title('Box plot '+name,fontsize=15)\n",
        "  plt.gca().legend(loc ='center left',bbox_to_anchor=(1.01, 0.5))\n",
        "\n",
        "  plt.xlabel('Time')\n",
        "  plt.ylabel('Values')"
      ],
      "execution_count": 29,
      "outputs": [
        {
          "output_type": "display_data",
          "data": {
            "image/png": "[encoded data removed]",
            "text/plain": [
              "<Figure size 1152x288 with 1 Axes>"
            ]
          },
          "metadata": {
            "tags": []
          }
        },
        {
          "output_type": "display_data",
          "data": {
            "image/png": "[encoded data removed]",
            "text/plain": [
              "<Figure size 1152x288 with 1 Axes>"
            ]
          },
          "metadata": {
            "tags": []
          }
        },
        {
          "output_type": "display_data",
          "data": {
            "image/png": "[encoded data removed]",
            "text/plain": [
              "<Figure size 1152x288 with 1 Axes>"
            ]
          },
          "metadata": {
            "tags": []
          }
        },
        {
          "output_type": "display_data",
          "data": {
            "image/png": "[encoded data removed]",
            "text/plain": [
              "<Figure size 1152x288 with 1 Axes>"
            ]
          },
          "metadata": {
            "tags": []
          }
        },
        {
          "output_type": "display_data",
          "data": {
            "image/png": "[encoded data removed]",
            "text/plain": [
              "<Figure size 1152x288 with 1 Axes>"
            ]
          },
          "metadata": {
            "tags": []
          }
        }
      ]
    },
    {
      "cell_type": "code",
      "metadata": {
        "id": "0VE8WLzlHDAT",
        "colab_type": "code",
        "colab": {}
      },
      "source": [
        "def line_chart(DFdict_final):\n",
        "    i=1\n",
        "    #Layout\n",
        "    fig = make_subplots(\n",
        "        rows=len(DFdict_final), cols=1,\n",
        "        #shared_xaxes=True,\n",
        "        #vertical_spacing=0.03,\n",
        "        #column_widths=[0.8, 0.2],\n",
        "        subplot_titles=(list(DFdict_final.keys()))\n",
        "    )\n",
        "    for name in DFdict_final.keys(): #also group\n",
        "      df=DFdict_final[name].copy()\n",
        "      df=df.sort_values(by=['Datef'])\n",
        "      for a in df.columns[1:]:\n",
        "        df[a] = df[a].round(decimals=3)\n",
        "\n",
        "      #Control chart 1 \n",
        "      fig.add_trace(go.Scatter(\n",
        "                              x=df['Datef'], y=df[name],\n",
        "                              mode='lines+markers',\n",
        "                              name='mean ' + name,line=dict( color='#4280F5')\n",
        "                              ),row=i, col=1\n",
        "                    )\n",
        "      #USL, LSL\n",
        "      fig.add_trace(go.Scatter(x=df['Datef'], y=df['USL'],name='USL '+name, line=dict( color='#FF5733')),row=i, col=1)\n",
        "      fig.add_trace(go.Scatter(x=df['Datef'], y=df['LSL'],name='LSL '+name,line=dict( color='#FF5733')),row=i, col=1)\n",
        "      fig.add_trace(go.Scatter(x=df['Datef'], y=df['Nominal'],name='Nominal '+name,line=dict( color='#FF5733')),row=i, col=1)\n",
        "      # UCL, LCL\n",
        "      fig.add_trace(go.Scatter(x=df['Datef'], y=df['UCL'],name='UCL '+name, line=dict( color='#33C2FF')),row=i, col=1)\n",
        "      fig.add_trace(go.Scatter(x=df['Datef'], y=df['LCL'],name='LCL '+name, line=dict( color='#33C2FF')),row=i, col=1)\n",
        "      fig.add_trace(go.Scatter(x=df['Datef'], y=df['mean'],name='mean '+name, line=dict( color='#33C2FF')),row=i, col=1)\n",
        "\n",
        "      #Final layout:\n",
        "      #fig.update_layout(height=400, width=1400, title_text='Line chart'+name)\n",
        "      i=i+1\n",
        "\n",
        "    fig.update_layout(height=300*len(DFdict_final), width=1200, title_text='Line chart')\n",
        "    #fig.show()\n",
        "    return fig\n"
      ],
      "execution_count": 34,
      "outputs": []
    },
    {
      "cell_type": "code",
      "metadata": {
        "id": "KyTHY_qAHF-F",
        "colab_type": "code",
        "colab": {
          "base_uri": "https://localhost:8080/",
          "height": 1000
        },
        "outputId": "eb986fdf-ae16-4785-fdd2-1f1e884fd375"
      },
      "source": [
        "fig_new=line_chart(DFdict_final) \n",
        "fig_new"
      ],
      "execution_count": 35,
      "outputs": [
        {
          "output_type": "display_data",
          "data": {
            "text/html": [
              "<html>\n",
              "<head><meta charset=\"utf-8\" /></head>\n",
              "<body>\n",
              "    <div>\n",
              "            <script src=\"https://cdnjs.cloudflare.com/ajax/libs/mathjax/2.7.5/MathJax.js?config=TeX-AMS-MML_SVG\"></script><script type=\"text/javascript\">if (window.MathJax) {MathJax.Hub.Config({SVG: {font: \"STIX-Web\"}});}</script>\n",
              "                <script type=\"text/javascript\">window.PlotlyConfig = {MathJaxConfig: 'local'};</script>\n",
              "        <script src=\"https://cdn.plot.ly/plotly-latest.min.js\"></script>    \n",
              "            <div id=\"84c78a12-a6a5-4c14-9a98-3e9cc861fac5\" class=\"plotly-graph-div\" style=\"height:1500px; width:1200px;\"></div>\n",
              "            <script type=\"text/javascript\">\n",
              "                \n",
              "                    window.PLOTLYENV=window.PLOTLYENV || {};\n",
              "                    \n",
              "                if (document.getElementById(\"84c78a12-a6a5-4c14-9a98-3e9cc861fac5\")) {\n",
              "                    Plotly.newPlot(\n",
              "                        '84c78a12-a6a5-4c14-9a98-3e9cc861fac5',\n",
              "                        [{\"line\": {\"color\": \"#4280F5\"}, \"mode\": \"lines+markers\", \"name\": \"mean C-Pitch\", \"type\": \"scatter\", \"x\": [\"2019-01-11T00:00:00\", \"2019-01-22T00:00:00\", \"2019-01-26T00:00:00\", \"2019-01-31T00:00:00\", \"2019-02-11T00:00:00\", \"2019-02-22T00:00:00\", \"2019-02-27T00:00:00\", \"2019-03-07T00:00:00\", \"2019-03-15T00:00:00\", \"2019-04-05T00:00:00\", \"2019-04-16T00:00:00\", \"2019-05-27T00:00:00\", \"2019-06-03T00:00:00\", \"2019-06-10T00:00:00\", \"2019-06-17T00:00:00\", \"2019-06-25T00:00:00\", \"2019-06-28T00:00:00\", \"2019-08-07T00:00:00\", \"2019-08-19T00:00:00\", \"2019-08-26T00:00:00\", \"2019-09-05T00:00:00\", \"2019-10-17T00:00:00\", \"2019-11-01T00:00:00\", \"2019-11-13T00:00:00\", \"2019-12-05T00:00:00\", \"2019-12-10T00:00:00\", \"2019-12-26T00:00:00\", \"2019-12-31T00:00:00\"], \"xaxis\": \"x\", \"y\": [10.004, 10.001, 10.002, 10.003, 10.003, 10.002, 10.003, 10.002, 9.998, 10.002, 10.003, 10.004, 10.001, 10.0, 10.002, 10.001, 10.002, 10.001, 10.0, 10.001, 10.002, 10.0, 10.0, 10.002, 10.0, 10.003, 10.003, 9.999], \"yaxis\": \"y\"}, {\"line\": {\"color\": \"#FF5733\"}, \"name\": \"USL C-Pitch\", \"type\": \"scatter\", \"x\": [\"2019-01-11T00:00:00\", \"2019-01-22T00:00:00\", \"2019-01-26T00:00:00\", \"2019-01-31T00:00:00\", \"2019-02-11T00:00:00\", \"2019-02-22T00:00:00\", \"2019-02-27T00:00:00\", \"2019-03-07T00:00:00\", \"2019-03-15T00:00:00\", \"2019-04-05T00:00:00\", \"2019-04-16T00:00:00\", \"2019-05-27T00:00:00\", \"2019-06-03T00:00:00\", \"2019-06-10T00:00:00\", \"2019-06-17T00:00:00\", \"2019-06-25T00:00:00\", \"2019-06-28T00:00:00\", \"2019-08-07T00:00:00\", \"2019-08-19T00:00:00\", \"2019-08-26T00:00:00\", \"2019-09-05T00:00:00\", \"2019-10-17T00:00:00\", \"2019-11-01T00:00:00\", \"2019-11-13T00:00:00\", \"2019-12-05T00:00:00\", \"2019-12-10T00:00:00\", \"2019-12-26T00:00:00\", \"2019-12-31T00:00:00\"], \"xaxis\": \"x\", \"y\": [10.01, 10.01, 10.01, 10.01, 10.01, 10.01, 10.01, 10.01, 10.01, 10.01, 10.01, 10.01, 10.01, 10.01, 10.01, 10.01, 10.01, 10.01, 10.01, 10.01, 10.01, 10.01, 10.01, 10.01, 10.01, 10.01, 10.01, 10.01], \"yaxis\": \"y\"}, {\"line\": {\"color\": \"#FF5733\"}, \"name\": \"LSL C-Pitch\", \"type\": \"scatter\", \"x\": [\"2019-01-11T00:00:00\", \"2019-01-22T00:00:00\", \"2019-01-26T00:00:00\", \"2019-01-31T00:00:00\", \"2019-02-11T00:00:00\", \"2019-02-22T00:00:00\", \"2019-02-27T00:00:00\", \"2019-03-07T00:00:00\", \"2019-03-15T00:00:00\", \"2019-04-05T00:00:00\", \"2019-04-16T00:00:00\", \"2019-05-27T00:00:00\", \"2019-06-03T00:00:00\", \"2019-06-10T00:00:00\", \"2019-06-17T00:00:00\", \"2019-06-25T00:00:00\", \"2019-06-28T00:00:00\", \"2019-08-07T00:00:00\", \"2019-08-19T00:00:00\", \"2019-08-26T00:00:00\", \"2019-09-05T00:00:00\", \"2019-10-17T00:00:00\", \"2019-11-01T00:00:00\", \"2019-11-13T00:00:00\", \"2019-12-05T00:00:00\", \"2019-12-10T00:00:00\", \"2019-12-26T00:00:00\", \"2019-12-31T00:00:00\"], \"xaxis\": \"x\", \"y\": [9.99, 9.99, 9.99, 9.99, 9.99, 9.99, 9.99, 9.99, 9.99, 9.99, 9.99, 9.99, 9.99, 9.99, 9.99, 9.99, 9.99, 9.99, 9.99, 9.99, 9.99, 9.99, 9.99, 9.99, 9.99, 9.99, 9.99, 9.99], \"yaxis\": \"y\"}, {\"line\": {\"color\": \"#FF5733\"}, \"name\": \"Nominal C-Pitch\", \"type\": \"scatter\", \"x\": [\"2019-01-11T00:00:00\", \"2019-01-22T00:00:00\", \"2019-01-26T00:00:00\", \"2019-01-31T00:00:00\", \"2019-02-11T00:00:00\", \"2019-02-22T00:00:00\", \"2019-02-27T00:00:00\", \"2019-03-07T00:00:00\", \"2019-03-15T00:00:00\", \"2019-04-05T00:00:00\", \"2019-04-16T00:00:00\", \"2019-05-27T00:00:00\", \"2019-06-03T00:00:00\", \"2019-06-10T00:00:00\", \"2019-06-17T00:00:00\", \"2019-06-25T00:00:00\", \"2019-06-28T00:00:00\", \"2019-08-07T00:00:00\", \"2019-08-19T00:00:00\", \"2019-08-26T00:00:00\", \"2019-09-05T00:00:00\", \"2019-10-17T00:00:00\", \"2019-11-01T00:00:00\", \"2019-11-13T00:00:00\", \"2019-12-05T00:00:00\", \"2019-12-10T00:00:00\", \"2019-12-26T00:00:00\", \"2019-12-31T00:00:00\"], \"xaxis\": \"x\", \"y\": [10.0, 10.0, 10.0, 10.0, 10.0, 10.0, 10.0, 10.0, 10.0, 10.0, 10.0, 10.0, 10.0, 10.0, 10.0, 10.0, 10.0, 10.0, 10.0, 10.0, 10.0, 10.0, 10.0, 10.0, 10.0, 10.0, 10.0, 10.0], \"yaxis\": \"y\"}, {\"line\": {\"color\": \"#33C2FF\"}, \"name\": \"UCL C-Pitch\", \"type\": \"scatter\", \"x\": [\"2019-01-11T00:00:00\", \"2019-01-22T00:00:00\", \"2019-01-26T00:00:00\", \"2019-01-31T00:00:00\", \"2019-02-11T00:00:00\", \"2019-02-22T00:00:00\", \"2019-02-27T00:00:00\", \"2019-03-07T00:00:00\", \"2019-03-15T00:00:00\", \"2019-04-05T00:00:00\", \"2019-04-16T00:00:00\", \"2019-05-27T00:00:00\", \"2019-06-03T00:00:00\", \"2019-06-10T00:00:00\", \"2019-06-17T00:00:00\", \"2019-06-25T00:00:00\", \"2019-06-28T00:00:00\", \"2019-08-07T00:00:00\", \"2019-08-19T00:00:00\", \"2019-08-26T00:00:00\", \"2019-09-05T00:00:00\", \"2019-10-17T00:00:00\", \"2019-11-01T00:00:00\", \"2019-11-13T00:00:00\", \"2019-12-05T00:00:00\", \"2019-12-10T00:00:00\", \"2019-12-26T00:00:00\", \"2019-12-31T00:00:00\"], \"xaxis\": \"x\", \"y\": [10.006, 10.006, 10.006, 10.006, 10.006, 10.006, 10.006, 10.006, 10.006, 10.006, 10.006, 10.006, 10.006, 10.006, 10.006, 10.006, 10.006, 10.006, 10.006, 10.006, 10.006, 10.006, 10.006, 10.006, 10.006, 10.006, 10.006, 10.006], \"yaxis\": \"y\"}, {\"line\": {\"color\": \"#33C2FF\"}, \"name\": \"LCL C-Pitch\", \"type\": \"scatter\", \"x\": [\"2019-01-11T00:00:00\", \"2019-01-22T00:00:00\", \"2019-01-26T00:00:00\", \"2019-01-31T00:00:00\", \"2019-02-11T00:00:00\", \"2019-02-22T00:00:00\", \"2019-02-27T00:00:00\", \"2019-03-07T00:00:00\", \"2019-03-15T00:00:00\", \"2019-04-05T00:00:00\", \"2019-04-16T00:00:00\", \"2019-05-27T00:00:00\", \"2019-06-03T00:00:00\", \"2019-06-10T00:00:00\", \"2019-06-17T00:00:00\", \"2019-06-25T00:00:00\", \"2019-06-28T00:00:00\", \"2019-08-07T00:00:00\", \"2019-08-19T00:00:00\", \"2019-08-26T00:00:00\", \"2019-09-05T00:00:00\", \"2019-10-17T00:00:00\", \"2019-11-01T00:00:00\", \"2019-11-13T00:00:00\", \"2019-12-05T00:00:00\", \"2019-12-10T00:00:00\", \"2019-12-26T00:00:00\", \"2019-12-31T00:00:00\"], \"xaxis\": \"x\", \"y\": [9.997, 9.997, 9.997, 9.997, 9.997, 9.997, 9.997, 9.997, 9.997, 9.997, 9.997, 9.997, 9.997, 9.997, 9.997, 9.997, 9.997, 9.997, 9.997, 9.997, 9.997, 9.997, 9.997, 9.997, 9.997, 9.997, 9.997, 9.997], \"yaxis\": \"y\"}, {\"line\": {\"color\": \"#33C2FF\"}, \"name\": \"mean C-Pitch\", \"type\": \"scatter\", \"x\": [\"2019-01-11T00:00:00\", \"2019-01-22T00:00:00\", \"2019-01-26T00:00:00\", \"2019-01-31T00:00:00\", \"2019-02-11T00:00:00\", \"2019-02-22T00:00:00\", \"2019-02-27T00:00:00\", \"2019-03-07T00:00:00\", \"2019-03-15T00:00:00\", \"2019-04-05T00:00:00\", \"2019-04-16T00:00:00\", \"2019-05-27T00:00:00\", \"2019-06-03T00:00:00\", \"2019-06-10T00:00:00\", \"2019-06-17T00:00:00\", \"2019-06-25T00:00:00\", \"2019-06-28T00:00:00\", \"2019-08-07T00:00:00\", \"2019-08-19T00:00:00\", \"2019-08-26T00:00:00\", \"2019-09-05T00:00:00\", \"2019-10-17T00:00:00\", \"2019-11-01T00:00:00\", \"2019-11-13T00:00:00\", \"2019-12-05T00:00:00\", \"2019-12-10T00:00:00\", \"2019-12-26T00:00:00\", \"2019-12-31T00:00:00\"], \"xaxis\": \"x\", \"y\": [10.002, 10.002, 10.002, 10.002, 10.002, 10.002, 10.002, 10.002, 10.002, 10.002, 10.002, 10.002, 10.002, 10.002, 10.002, 10.002, 10.002, 10.002, 10.002, 10.002, 10.002, 10.002, 10.002, 10.002, 10.002, 10.002, 10.002, 10.002], \"yaxis\": \"y\"}, {\"line\": {\"color\": \"#4280F5\"}, \"mode\": \"lines+markers\", \"name\": \"mean J\", \"type\": \"scatter\", \"x\": [\"2019-01-11T00:00:00\", \"2019-01-22T00:00:00\", \"2019-01-26T00:00:00\", \"2019-01-31T00:00:00\", \"2019-02-11T00:00:00\", \"2019-02-22T00:00:00\", \"2019-02-27T00:00:00\", \"2019-03-07T00:00:00\", \"2019-03-15T00:00:00\", \"2019-04-05T00:00:00\", \"2019-04-16T00:00:00\", \"2019-05-27T00:00:00\", \"2019-06-03T00:00:00\", \"2019-06-10T00:00:00\", \"2019-06-17T00:00:00\", \"2019-06-25T00:00:00\", \"2019-06-28T00:00:00\", \"2019-08-07T00:00:00\", \"2019-08-19T00:00:00\", \"2019-08-26T00:00:00\", \"2019-09-05T00:00:00\", \"2019-10-17T00:00:00\", \"2019-11-01T00:00:00\", \"2019-11-13T00:00:00\", \"2019-12-05T00:00:00\", \"2019-12-10T00:00:00\", \"2019-12-26T00:00:00\", \"2019-12-31T00:00:00\"], \"xaxis\": \"x2\", \"y\": [1.219, 1.219, 1.22, 1.22, 1.22, 1.22, 1.22, 1.22, 1.219, 1.22, 1.22, 1.22, 1.22, 1.22, 1.218, 1.219, 1.218, 1.217, 1.217, 1.219, 1.218, 1.22, 1.22, 1.219, 1.219, 1.22, 1.219, 1.218], \"yaxis\": \"y2\"}, {\"line\": {\"color\": \"#FF5733\"}, \"name\": \"USL J\", \"type\": \"scatter\", \"x\": [\"2019-01-11T00:00:00\", \"2019-01-22T00:00:00\", \"2019-01-26T00:00:00\", \"2019-01-31T00:00:00\", \"2019-02-11T00:00:00\", \"2019-02-22T00:00:00\", \"2019-02-27T00:00:00\", \"2019-03-07T00:00:00\", \"2019-03-15T00:00:00\", \"2019-04-05T00:00:00\", \"2019-04-16T00:00:00\", \"2019-05-27T00:00:00\", \"2019-06-03T00:00:00\", \"2019-06-10T00:00:00\", \"2019-06-17T00:00:00\", \"2019-06-25T00:00:00\", \"2019-06-28T00:00:00\", \"2019-08-07T00:00:00\", \"2019-08-19T00:00:00\", \"2019-08-26T00:00:00\", \"2019-09-05T00:00:00\", \"2019-10-17T00:00:00\", \"2019-11-01T00:00:00\", \"2019-11-13T00:00:00\", \"2019-12-05T00:00:00\", \"2019-12-10T00:00:00\", \"2019-12-26T00:00:00\", \"2019-12-31T00:00:00\"], \"xaxis\": \"x2\", \"y\": [1.22, 1.22, 1.22, 1.22, 1.22, 1.22, 1.22, 1.22, 1.22, 1.22, 1.22, 1.22, 1.22, 1.22, 1.22, 1.22, 1.22, 1.22, 1.22, 1.22, 1.22, 1.22, 1.22, 1.22, 1.22, 1.22, 1.22, 1.22], \"yaxis\": \"y2\"}, {\"line\": {\"color\": \"#FF5733\"}, \"name\": \"LSL J\", \"type\": \"scatter\", \"x\": [\"2019-01-11T00:00:00\", \"2019-01-22T00:00:00\", \"2019-01-26T00:00:00\", \"2019-01-31T00:00:00\", \"2019-02-11T00:00:00\", \"2019-02-22T00:00:00\", \"2019-02-27T00:00:00\", \"2019-03-07T00:00:00\", \"2019-03-15T00:00:00\", \"2019-04-05T00:00:00\", \"2019-04-16T00:00:00\", \"2019-05-27T00:00:00\", \"2019-06-03T00:00:00\", \"2019-06-10T00:00:00\", \"2019-06-17T00:00:00\", \"2019-06-25T00:00:00\", \"2019-06-28T00:00:00\", \"2019-08-07T00:00:00\", \"2019-08-19T00:00:00\", \"2019-08-26T00:00:00\", \"2019-09-05T00:00:00\", \"2019-10-17T00:00:00\", \"2019-11-01T00:00:00\", \"2019-11-13T00:00:00\", \"2019-12-05T00:00:00\", \"2019-12-10T00:00:00\", \"2019-12-26T00:00:00\", \"2019-12-31T00:00:00\"], \"xaxis\": \"x2\", \"y\": [1.21, 1.21, 1.21, 1.21, 1.21, 1.21, 1.21, 1.21, 1.21, 1.21, 1.21, 1.21, 1.21, 1.21, 1.21, 1.21, 1.21, 1.21, 1.21, 1.21, 1.21, 1.21, 1.21, 1.21, 1.21, 1.21, 1.21, 1.21], \"yaxis\": \"y2\"}, {\"line\": {\"color\": \"#FF5733\"}, \"name\": \"Nominal J\", \"type\": \"scatter\", \"x\": [\"2019-01-11T00:00:00\", \"2019-01-22T00:00:00\", \"2019-01-26T00:00:00\", \"2019-01-31T00:00:00\", \"2019-02-11T00:00:00\", \"2019-02-22T00:00:00\", \"2019-02-27T00:00:00\", \"2019-03-07T00:00:00\", \"2019-03-15T00:00:00\", \"2019-04-05T00:00:00\", \"2019-04-16T00:00:00\", \"2019-05-27T00:00:00\", \"2019-06-03T00:00:00\", \"2019-06-10T00:00:00\", \"2019-06-17T00:00:00\", \"2019-06-25T00:00:00\", \"2019-06-28T00:00:00\", \"2019-08-07T00:00:00\", \"2019-08-19T00:00:00\", \"2019-08-26T00:00:00\", \"2019-09-05T00:00:00\", \"2019-10-17T00:00:00\", \"2019-11-01T00:00:00\", \"2019-11-13T00:00:00\", \"2019-12-05T00:00:00\", \"2019-12-10T00:00:00\", \"2019-12-26T00:00:00\", \"2019-12-31T00:00:00\"], \"xaxis\": \"x2\", \"y\": [1.21, 1.21, 1.21, 1.21, 1.21, 1.21, 1.21, 1.21, 1.21, 1.21, 1.21, 1.21, 1.21, 1.21, 1.21, 1.21, 1.21, 1.21, 1.21, 1.21, 1.21, 1.21, 1.21, 1.21, 1.21, 1.21, 1.21, 1.21], \"yaxis\": \"y2\"}, {\"line\": {\"color\": \"#33C2FF\"}, \"name\": \"UCL J\", \"type\": \"scatter\", \"x\": [\"2019-01-11T00:00:00\", \"2019-01-22T00:00:00\", \"2019-01-26T00:00:00\", \"2019-01-31T00:00:00\", \"2019-02-11T00:00:00\", \"2019-02-22T00:00:00\", \"2019-02-27T00:00:00\", \"2019-03-07T00:00:00\", \"2019-03-15T00:00:00\", \"2019-04-05T00:00:00\", \"2019-04-16T00:00:00\", \"2019-05-27T00:00:00\", \"2019-06-03T00:00:00\", \"2019-06-10T00:00:00\", \"2019-06-17T00:00:00\", \"2019-06-25T00:00:00\", \"2019-06-28T00:00:00\", \"2019-08-07T00:00:00\", \"2019-08-19T00:00:00\", \"2019-08-26T00:00:00\", \"2019-09-05T00:00:00\", \"2019-10-17T00:00:00\", \"2019-11-01T00:00:00\", \"2019-11-13T00:00:00\", \"2019-12-05T00:00:00\", \"2019-12-10T00:00:00\", \"2019-12-26T00:00:00\", \"2019-12-31T00:00:00\"], \"xaxis\": \"x2\", \"y\": [1.222, 1.222, 1.222, 1.222, 1.222, 1.222, 1.222, 1.222, 1.222, 1.222, 1.222, 1.222, 1.222, 1.222, 1.222, 1.222, 1.222, 1.222, 1.222, 1.222, 1.222, 1.222, 1.222, 1.222, 1.222, 1.222, 1.222, 1.222], \"yaxis\": \"y2\"}, {\"line\": {\"color\": \"#33C2FF\"}, \"name\": \"LCL J\", \"type\": \"scatter\", \"x\": [\"2019-01-11T00:00:00\", \"2019-01-22T00:00:00\", \"2019-01-26T00:00:00\", \"2019-01-31T00:00:00\", \"2019-02-11T00:00:00\", \"2019-02-22T00:00:00\", \"2019-02-27T00:00:00\", \"2019-03-07T00:00:00\", \"2019-03-15T00:00:00\", \"2019-04-05T00:00:00\", \"2019-04-16T00:00:00\", \"2019-05-27T00:00:00\", \"2019-06-03T00:00:00\", \"2019-06-10T00:00:00\", \"2019-06-17T00:00:00\", \"2019-06-25T00:00:00\", \"2019-06-28T00:00:00\", \"2019-08-07T00:00:00\", \"2019-08-19T00:00:00\", \"2019-08-26T00:00:00\", \"2019-09-05T00:00:00\", \"2019-10-17T00:00:00\", \"2019-11-01T00:00:00\", \"2019-11-13T00:00:00\", \"2019-12-05T00:00:00\", \"2019-12-10T00:00:00\", \"2019-12-26T00:00:00\", \"2019-12-31T00:00:00\"], \"xaxis\": \"x2\", \"y\": [1.216, 1.216, 1.216, 1.216, 1.216, 1.216, 1.216, 1.216, 1.216, 1.216, 1.216, 1.216, 1.216, 1.216, 1.216, 1.216, 1.216, 1.216, 1.216, 1.216, 1.216, 1.216, 1.216, 1.216, 1.216, 1.216, 1.216, 1.216], \"yaxis\": \"y2\"}, {\"line\": {\"color\": \"#33C2FF\"}, \"name\": \"mean J\", \"type\": \"scatter\", \"x\": [\"2019-01-11T00:00:00\", \"2019-01-22T00:00:00\", \"2019-01-26T00:00:00\", \"2019-01-31T00:00:00\", \"2019-02-11T00:00:00\", \"2019-02-22T00:00:00\", \"2019-02-27T00:00:00\", \"2019-03-07T00:00:00\", \"2019-03-15T00:00:00\", \"2019-04-05T00:00:00\", \"2019-04-16T00:00:00\", \"2019-05-27T00:00:00\", \"2019-06-03T00:00:00\", \"2019-06-10T00:00:00\", \"2019-06-17T00:00:00\", \"2019-06-25T00:00:00\", \"2019-06-28T00:00:00\", \"2019-08-07T00:00:00\", \"2019-08-19T00:00:00\", \"2019-08-26T00:00:00\", \"2019-09-05T00:00:00\", \"2019-10-17T00:00:00\", \"2019-11-01T00:00:00\", \"2019-11-13T00:00:00\", \"2019-12-05T00:00:00\", \"2019-12-10T00:00:00\", \"2019-12-26T00:00:00\", \"2019-12-31T00:00:00\"], \"xaxis\": \"x2\", \"y\": [1.219, 1.219, 1.219, 1.219, 1.219, 1.219, 1.219, 1.219, 1.219, 1.219, 1.219, 1.219, 1.219, 1.219, 1.219, 1.219, 1.219, 1.219, 1.219, 1.219, 1.219, 1.219, 1.219, 1.219, 1.219, 1.219, 1.219, 1.219], \"yaxis\": \"y2\"}, {\"line\": {\"color\": \"#4280F5\"}, \"mode\": \"lines+markers\", \"name\": \"mean I\", \"type\": \"scatter\", \"x\": [\"2019-01-11T00:00:00\", \"2019-01-22T00:00:00\", \"2019-01-26T00:00:00\", \"2019-01-31T00:00:00\", \"2019-02-11T00:00:00\", \"2019-02-22T00:00:00\", \"2019-02-27T00:00:00\", \"2019-03-07T00:00:00\", \"2019-03-15T00:00:00\", \"2019-04-05T00:00:00\", \"2019-04-16T00:00:00\", \"2019-05-27T00:00:00\", \"2019-06-03T00:00:00\", \"2019-06-10T00:00:00\", \"2019-06-17T00:00:00\", \"2019-06-25T00:00:00\", \"2019-06-28T00:00:00\", \"2019-08-07T00:00:00\", \"2019-08-19T00:00:00\", \"2019-08-26T00:00:00\", \"2019-09-05T00:00:00\", \"2019-10-17T00:00:00\", \"2019-11-01T00:00:00\", \"2019-11-13T00:00:00\", \"2019-12-05T00:00:00\", \"2019-12-10T00:00:00\", \"2019-12-26T00:00:00\", \"2019-12-31T00:00:00\"], \"xaxis\": \"x3\", \"y\": [3.194, 3.199, 3.2, 3.196, 3.195, 3.198, 3.195, 3.195, 3.199, 3.2, 3.2, 3.199, 3.2, 3.204, 3.197, 3.195, 3.2, 3.201, 3.201, 3.2, 3.201, 3.198, 3.198, 3.197, 3.199, 3.2, 3.202, 3.201], \"yaxis\": \"y3\"}, {\"line\": {\"color\": \"#FF5733\"}, \"name\": \"USL I\", \"type\": \"scatter\", \"x\": [\"2019-01-11T00:00:00\", \"2019-01-22T00:00:00\", \"2019-01-26T00:00:00\", \"2019-01-31T00:00:00\", \"2019-02-11T00:00:00\", \"2019-02-22T00:00:00\", \"2019-02-27T00:00:00\", \"2019-03-07T00:00:00\", \"2019-03-15T00:00:00\", \"2019-04-05T00:00:00\", \"2019-04-16T00:00:00\", \"2019-05-27T00:00:00\", \"2019-06-03T00:00:00\", \"2019-06-10T00:00:00\", \"2019-06-17T00:00:00\", \"2019-06-25T00:00:00\", \"2019-06-28T00:00:00\", \"2019-08-07T00:00:00\", \"2019-08-19T00:00:00\", \"2019-08-26T00:00:00\", \"2019-09-05T00:00:00\", \"2019-10-17T00:00:00\", \"2019-11-01T00:00:00\", \"2019-11-13T00:00:00\", \"2019-12-05T00:00:00\", \"2019-12-10T00:00:00\", \"2019-12-26T00:00:00\", \"2019-12-31T00:00:00\"], \"xaxis\": \"x3\", \"y\": [3.21, 3.21, 3.21, 3.21, 3.21, 3.21, 3.21, 3.21, 3.21, 3.21, 3.21, 3.21, 3.21, 3.21, 3.21, 3.21, 3.21, 3.21, 3.21, 3.21, 3.21, 3.21, 3.21, 3.21, 3.21, 3.21, 3.21, 3.21], \"yaxis\": \"y3\"}, {\"line\": {\"color\": \"#FF5733\"}, \"name\": \"LSL I\", \"type\": \"scatter\", \"x\": [\"2019-01-11T00:00:00\", \"2019-01-22T00:00:00\", \"2019-01-26T00:00:00\", \"2019-01-31T00:00:00\", \"2019-02-11T00:00:00\", \"2019-02-22T00:00:00\", \"2019-02-27T00:00:00\", \"2019-03-07T00:00:00\", \"2019-03-15T00:00:00\", \"2019-04-05T00:00:00\", \"2019-04-16T00:00:00\", \"2019-05-27T00:00:00\", \"2019-06-03T00:00:00\", \"2019-06-10T00:00:00\", \"2019-06-17T00:00:00\", \"2019-06-25T00:00:00\", \"2019-06-28T00:00:00\", \"2019-08-07T00:00:00\", \"2019-08-19T00:00:00\", \"2019-08-26T00:00:00\", \"2019-09-05T00:00:00\", \"2019-10-17T00:00:00\", \"2019-11-01T00:00:00\", \"2019-11-13T00:00:00\", \"2019-12-05T00:00:00\", \"2019-12-10T00:00:00\", \"2019-12-26T00:00:00\", \"2019-12-31T00:00:00\"], \"xaxis\": \"x3\", \"y\": [3.19, 3.19, 3.19, 3.19, 3.19, 3.19, 3.19, 3.19, 3.19, 3.19, 3.19, 3.19, 3.19, 3.19, 3.19, 3.19, 3.19, 3.19, 3.19, 3.19, 3.19, 3.19, 3.19, 3.19, 3.19, 3.19, 3.19, 3.19], \"yaxis\": \"y3\"}, {\"line\": {\"color\": \"#FF5733\"}, \"name\": \"Nominal I\", \"type\": \"scatter\", \"x\": [\"2019-01-11T00:00:00\", \"2019-01-22T00:00:00\", \"2019-01-26T00:00:00\", \"2019-01-31T00:00:00\", \"2019-02-11T00:00:00\", \"2019-02-22T00:00:00\", \"2019-02-27T00:00:00\", \"2019-03-07T00:00:00\", \"2019-03-15T00:00:00\", \"2019-04-05T00:00:00\", \"2019-04-16T00:00:00\", \"2019-05-27T00:00:00\", \"2019-06-03T00:00:00\", \"2019-06-10T00:00:00\", \"2019-06-17T00:00:00\", \"2019-06-25T00:00:00\", \"2019-06-28T00:00:00\", \"2019-08-07T00:00:00\", \"2019-08-19T00:00:00\", \"2019-08-26T00:00:00\", \"2019-09-05T00:00:00\", \"2019-10-17T00:00:00\", \"2019-11-01T00:00:00\", \"2019-11-13T00:00:00\", \"2019-12-05T00:00:00\", \"2019-12-10T00:00:00\", \"2019-12-26T00:00:00\", \"2019-12-31T00:00:00\"], \"xaxis\": \"x3\", \"y\": [3.2, 3.2, 3.2, 3.2, 3.2, 3.2, 3.2, 3.2, 3.2, 3.2, 3.2, 3.2, 3.2, 3.2, 3.2, 3.2, 3.2, 3.2, 3.2, 3.2, 3.2, 3.2, 3.2, 3.2, 3.2, 3.2, 3.2, 3.2], \"yaxis\": \"y3\"}, {\"line\": {\"color\": \"#33C2FF\"}, \"name\": \"UCL I\", \"type\": \"scatter\", \"x\": [\"2019-01-11T00:00:00\", \"2019-01-22T00:00:00\", \"2019-01-26T00:00:00\", \"2019-01-31T00:00:00\", \"2019-02-11T00:00:00\", \"2019-02-22T00:00:00\", \"2019-02-27T00:00:00\", \"2019-03-07T00:00:00\", \"2019-03-15T00:00:00\", \"2019-04-05T00:00:00\", \"2019-04-16T00:00:00\", \"2019-05-27T00:00:00\", \"2019-06-03T00:00:00\", \"2019-06-10T00:00:00\", \"2019-06-17T00:00:00\", \"2019-06-25T00:00:00\", \"2019-06-28T00:00:00\", \"2019-08-07T00:00:00\", \"2019-08-19T00:00:00\", \"2019-08-26T00:00:00\", \"2019-09-05T00:00:00\", \"2019-10-17T00:00:00\", \"2019-11-01T00:00:00\", \"2019-11-13T00:00:00\", \"2019-12-05T00:00:00\", \"2019-12-10T00:00:00\", \"2019-12-26T00:00:00\", \"2019-12-31T00:00:00\"], \"xaxis\": \"x3\", \"y\": [3.206, 3.206, 3.206, 3.206, 3.206, 3.206, 3.206, 3.206, 3.206, 3.206, 3.206, 3.206, 3.206, 3.206, 3.206, 3.206, 3.206, 3.206, 3.206, 3.206, 3.206, 3.206, 3.206, 3.206, 3.206, 3.206, 3.206, 3.206], \"yaxis\": \"y3\"}, {\"line\": {\"color\": \"#33C2FF\"}, \"name\": \"LCL I\", \"type\": \"scatter\", \"x\": [\"2019-01-11T00:00:00\", \"2019-01-22T00:00:00\", \"2019-01-26T00:00:00\", \"2019-01-31T00:00:00\", \"2019-02-11T00:00:00\", \"2019-02-22T00:00:00\", \"2019-02-27T00:00:00\", \"2019-03-07T00:00:00\", \"2019-03-15T00:00:00\", \"2019-04-05T00:00:00\", \"2019-04-16T00:00:00\", \"2019-05-27T00:00:00\", \"2019-06-03T00:00:00\", \"2019-06-10T00:00:00\", \"2019-06-17T00:00:00\", \"2019-06-25T00:00:00\", \"2019-06-28T00:00:00\", \"2019-08-07T00:00:00\", \"2019-08-19T00:00:00\", \"2019-08-26T00:00:00\", \"2019-09-05T00:00:00\", \"2019-10-17T00:00:00\", \"2019-11-01T00:00:00\", \"2019-11-13T00:00:00\", \"2019-12-05T00:00:00\", \"2019-12-10T00:00:00\", \"2019-12-26T00:00:00\", \"2019-12-31T00:00:00\"], \"xaxis\": \"x3\", \"y\": [3.191, 3.191, 3.191, 3.191, 3.191, 3.191, 3.191, 3.191, 3.191, 3.191, 3.191, 3.191, 3.191, 3.191, 3.191, 3.191, 3.191, 3.191, 3.191, 3.191, 3.191, 3.191, 3.191, 3.191, 3.191, 3.191, 3.191, 3.191], \"yaxis\": \"y3\"}, {\"line\": {\"color\": \"#33C2FF\"}, \"name\": \"mean I\", \"type\": \"scatter\", \"x\": [\"2019-01-11T00:00:00\", \"2019-01-22T00:00:00\", \"2019-01-26T00:00:00\", \"2019-01-31T00:00:00\", \"2019-02-11T00:00:00\", \"2019-02-22T00:00:00\", \"2019-02-27T00:00:00\", \"2019-03-07T00:00:00\", \"2019-03-15T00:00:00\", \"2019-04-05T00:00:00\", \"2019-04-16T00:00:00\", \"2019-05-27T00:00:00\", \"2019-06-03T00:00:00\", \"2019-06-10T00:00:00\", \"2019-06-17T00:00:00\", \"2019-06-25T00:00:00\", \"2019-06-28T00:00:00\", \"2019-08-07T00:00:00\", \"2019-08-19T00:00:00\", \"2019-08-26T00:00:00\", \"2019-09-05T00:00:00\", \"2019-10-17T00:00:00\", \"2019-11-01T00:00:00\", \"2019-11-13T00:00:00\", \"2019-12-05T00:00:00\", \"2019-12-10T00:00:00\", \"2019-12-26T00:00:00\", \"2019-12-31T00:00:00\"], \"xaxis\": \"x3\", \"y\": [3.199, 3.199, 3.199, 3.199, 3.199, 3.199, 3.199, 3.199, 3.199, 3.199, 3.199, 3.199, 3.199, 3.199, 3.199, 3.199, 3.199, 3.199, 3.199, 3.199, 3.199, 3.199, 3.199, 3.199, 3.199, 3.199, 3.199, 3.199], \"yaxis\": \"y3\"}, {\"line\": {\"color\": \"#4280F5\"}, \"mode\": \"lines+markers\", \"name\": \"mean O\", \"type\": \"scatter\", \"x\": [\"2019-01-11T00:00:00\", \"2019-01-22T00:00:00\", \"2019-01-26T00:00:00\", \"2019-01-31T00:00:00\", \"2019-02-11T00:00:00\", \"2019-02-22T00:00:00\", \"2019-02-27T00:00:00\", \"2019-03-07T00:00:00\", \"2019-03-15T00:00:00\", \"2019-04-05T00:00:00\", \"2019-04-16T00:00:00\", \"2019-05-27T00:00:00\", \"2019-06-03T00:00:00\", \"2019-06-10T00:00:00\", \"2019-06-17T00:00:00\", \"2019-06-25T00:00:00\", \"2019-06-28T00:00:00\", \"2019-08-07T00:00:00\", \"2019-08-19T00:00:00\", \"2019-08-26T00:00:00\", \"2019-09-05T00:00:00\", \"2019-10-17T00:00:00\", \"2019-11-01T00:00:00\", \"2019-11-13T00:00:00\", \"2019-12-05T00:00:00\", \"2019-12-10T00:00:00\", \"2019-12-26T00:00:00\", \"2019-12-31T00:00:00\"], \"xaxis\": \"x4\", \"y\": [11.853, 11.852, 11.853, 11.855, 11.854, 11.852, 11.855, 11.857, 11.853, 11.856, 11.853, 11.853, 11.852, 11.856, 11.859, 11.86, 11.856, 11.851, 11.849, 11.85, 11.856, 11.849, 11.849, 11.851, 11.849, 11.852, 11.849, 11.848], \"yaxis\": \"y4\"}, {\"line\": {\"color\": \"#FF5733\"}, \"name\": \"USL O\", \"type\": \"scatter\", \"x\": [\"2019-01-11T00:00:00\", \"2019-01-22T00:00:00\", \"2019-01-26T00:00:00\", \"2019-01-31T00:00:00\", \"2019-02-11T00:00:00\", \"2019-02-22T00:00:00\", \"2019-02-27T00:00:00\", \"2019-03-07T00:00:00\", \"2019-03-15T00:00:00\", \"2019-04-05T00:00:00\", \"2019-04-16T00:00:00\", \"2019-05-27T00:00:00\", \"2019-06-03T00:00:00\", \"2019-06-10T00:00:00\", \"2019-06-17T00:00:00\", \"2019-06-25T00:00:00\", \"2019-06-28T00:00:00\", \"2019-08-07T00:00:00\", \"2019-08-19T00:00:00\", \"2019-08-26T00:00:00\", \"2019-09-05T00:00:00\", \"2019-10-17T00:00:00\", \"2019-11-01T00:00:00\", \"2019-11-13T00:00:00\", \"2019-12-05T00:00:00\", \"2019-12-10T00:00:00\", \"2019-12-26T00:00:00\", \"2019-12-31T00:00:00\"], \"xaxis\": \"x4\", \"y\": [11.86, 11.86, 11.86, 11.86, 11.86, 11.86, 11.86, 11.86, 11.86, 11.86, 11.86, 11.86, 11.86, 11.86, 11.86, 11.86, 11.86, 11.86, 11.86, 11.86, 11.86, 11.86, 11.86, 11.86, 11.86, 11.86, 11.86, 11.86], \"yaxis\": \"y4\"}, {\"line\": {\"color\": \"#FF5733\"}, \"name\": \"LSL O\", \"type\": \"scatter\", \"x\": [\"2019-01-11T00:00:00\", \"2019-01-22T00:00:00\", \"2019-01-26T00:00:00\", \"2019-01-31T00:00:00\", \"2019-02-11T00:00:00\", \"2019-02-22T00:00:00\", \"2019-02-27T00:00:00\", \"2019-03-07T00:00:00\", \"2019-03-15T00:00:00\", \"2019-04-05T00:00:00\", \"2019-04-16T00:00:00\", \"2019-05-27T00:00:00\", \"2019-06-03T00:00:00\", \"2019-06-10T00:00:00\", \"2019-06-17T00:00:00\", \"2019-06-25T00:00:00\", \"2019-06-28T00:00:00\", \"2019-08-07T00:00:00\", \"2019-08-19T00:00:00\", \"2019-08-26T00:00:00\", \"2019-09-05T00:00:00\", \"2019-10-17T00:00:00\", \"2019-11-01T00:00:00\", \"2019-11-13T00:00:00\", \"2019-12-05T00:00:00\", \"2019-12-10T00:00:00\", \"2019-12-26T00:00:00\", \"2019-12-31T00:00:00\"], \"xaxis\": \"x4\", \"y\": [11.84, 11.84, 11.84, 11.84, 11.84, 11.84, 11.84, 11.84, 11.84, 11.84, 11.84, 11.84, 11.84, 11.84, 11.84, 11.84, 11.84, 11.84, 11.84, 11.84, 11.84, 11.84, 11.84, 11.84, 11.84, 11.84, 11.84, 11.84], \"yaxis\": \"y4\"}, {\"line\": {\"color\": \"#FF5733\"}, \"name\": \"Nominal O\", \"type\": \"scatter\", \"x\": [\"2019-01-11T00:00:00\", \"2019-01-22T00:00:00\", \"2019-01-26T00:00:00\", \"2019-01-31T00:00:00\", \"2019-02-11T00:00:00\", \"2019-02-22T00:00:00\", \"2019-02-27T00:00:00\", \"2019-03-07T00:00:00\", \"2019-03-15T00:00:00\", \"2019-04-05T00:00:00\", \"2019-04-16T00:00:00\", \"2019-05-27T00:00:00\", \"2019-06-03T00:00:00\", \"2019-06-10T00:00:00\", \"2019-06-17T00:00:00\", \"2019-06-25T00:00:00\", \"2019-06-28T00:00:00\", \"2019-08-07T00:00:00\", \"2019-08-19T00:00:00\", \"2019-08-26T00:00:00\", \"2019-09-05T00:00:00\", \"2019-10-17T00:00:00\", \"2019-11-01T00:00:00\", \"2019-11-13T00:00:00\", \"2019-12-05T00:00:00\", \"2019-12-10T00:00:00\", \"2019-12-26T00:00:00\", \"2019-12-31T00:00:00\"], \"xaxis\": \"x4\", \"y\": [11.85, 11.85, 11.85, 11.85, 11.85, 11.85, 11.85, 11.85, 11.85, 11.85, 11.85, 11.85, 11.85, 11.85, 11.85, 11.85, 11.85, 11.85, 11.85, 11.85, 11.85, 11.85, 11.85, 11.85, 11.85, 11.85, 11.85, 11.85], \"yaxis\": \"y4\"}, {\"line\": {\"color\": \"#33C2FF\"}, \"name\": \"UCL O\", \"type\": \"scatter\", \"x\": [\"2019-01-11T00:00:00\", \"2019-01-22T00:00:00\", \"2019-01-26T00:00:00\", \"2019-01-31T00:00:00\", \"2019-02-11T00:00:00\", \"2019-02-22T00:00:00\", \"2019-02-27T00:00:00\", \"2019-03-07T00:00:00\", \"2019-03-15T00:00:00\", \"2019-04-05T00:00:00\", \"2019-04-16T00:00:00\", \"2019-05-27T00:00:00\", \"2019-06-03T00:00:00\", \"2019-06-10T00:00:00\", \"2019-06-17T00:00:00\", \"2019-06-25T00:00:00\", \"2019-06-28T00:00:00\", \"2019-08-07T00:00:00\", \"2019-08-19T00:00:00\", \"2019-08-26T00:00:00\", \"2019-09-05T00:00:00\", \"2019-10-17T00:00:00\", \"2019-11-01T00:00:00\", \"2019-11-13T00:00:00\", \"2019-12-05T00:00:00\", \"2019-12-10T00:00:00\", \"2019-12-26T00:00:00\", \"2019-12-31T00:00:00\"], \"xaxis\": \"x4\", \"y\": [11.862, 11.862, 11.862, 11.862, 11.862, 11.862, 11.862, 11.862, 11.862, 11.862, 11.862, 11.862, 11.862, 11.862, 11.862, 11.862, 11.862, 11.862, 11.862, 11.862, 11.862, 11.862, 11.862, 11.862, 11.862, 11.862, 11.862, 11.862], \"yaxis\": \"y4\"}, {\"line\": {\"color\": \"#33C2FF\"}, \"name\": \"LCL O\", \"type\": \"scatter\", \"x\": [\"2019-01-11T00:00:00\", \"2019-01-22T00:00:00\", \"2019-01-26T00:00:00\", \"2019-01-31T00:00:00\", \"2019-02-11T00:00:00\", \"2019-02-22T00:00:00\", \"2019-02-27T00:00:00\", \"2019-03-07T00:00:00\", \"2019-03-15T00:00:00\", \"2019-04-05T00:00:00\", \"2019-04-16T00:00:00\", \"2019-05-27T00:00:00\", \"2019-06-03T00:00:00\", \"2019-06-10T00:00:00\", \"2019-06-17T00:00:00\", \"2019-06-25T00:00:00\", \"2019-06-28T00:00:00\", \"2019-08-07T00:00:00\", \"2019-08-19T00:00:00\", \"2019-08-26T00:00:00\", \"2019-09-05T00:00:00\", \"2019-10-17T00:00:00\", \"2019-11-01T00:00:00\", \"2019-11-13T00:00:00\", \"2019-12-05T00:00:00\", \"2019-12-10T00:00:00\", \"2019-12-26T00:00:00\", \"2019-12-31T00:00:00\"], \"xaxis\": \"x4\", \"y\": [11.843, 11.843, 11.843, 11.843, 11.843, 11.843, 11.843, 11.843, 11.843, 11.843, 11.843, 11.843, 11.843, 11.843, 11.843, 11.843, 11.843, 11.843, 11.843, 11.843, 11.843, 11.843, 11.843, 11.843, 11.843, 11.843, 11.843, 11.843], \"yaxis\": \"y4\"}, {\"line\": {\"color\": \"#33C2FF\"}, \"name\": \"mean O\", \"type\": \"scatter\", \"x\": [\"2019-01-11T00:00:00\", \"2019-01-22T00:00:00\", \"2019-01-26T00:00:00\", \"2019-01-31T00:00:00\", \"2019-02-11T00:00:00\", \"2019-02-22T00:00:00\", \"2019-02-27T00:00:00\", \"2019-03-07T00:00:00\", \"2019-03-15T00:00:00\", \"2019-04-05T00:00:00\", \"2019-04-16T00:00:00\", \"2019-05-27T00:00:00\", \"2019-06-03T00:00:00\", \"2019-06-10T00:00:00\", \"2019-06-17T00:00:00\", \"2019-06-25T00:00:00\", \"2019-06-28T00:00:00\", \"2019-08-07T00:00:00\", \"2019-08-19T00:00:00\", \"2019-08-26T00:00:00\", \"2019-09-05T00:00:00\", \"2019-10-17T00:00:00\", \"2019-11-01T00:00:00\", \"2019-11-13T00:00:00\", \"2019-12-05T00:00:00\", \"2019-12-10T00:00:00\", \"2019-12-26T00:00:00\", \"2019-12-31T00:00:00\"], \"xaxis\": \"x4\", \"y\": [11.853, 11.853, 11.853, 11.853, 11.853, 11.853, 11.853, 11.853, 11.853, 11.853, 11.853, 11.853, 11.853, 11.853, 11.853, 11.853, 11.853, 11.853, 11.853, 11.853, 11.853, 11.853, 11.853, 11.853, 11.853, 11.853, 11.853, 11.853], \"yaxis\": \"y4\"}, {\"line\": {\"color\": \"#4280F5\"}, \"mode\": \"lines+markers\", \"name\": \"mean Z\", \"type\": \"scatter\", \"x\": [\"2019-01-11T00:00:00\", \"2019-01-22T00:00:00\", \"2019-01-26T00:00:00\", \"2019-01-31T00:00:00\", \"2019-02-11T00:00:00\", \"2019-02-22T00:00:00\", \"2019-02-27T00:00:00\", \"2019-03-07T00:00:00\", \"2019-03-15T00:00:00\", \"2019-04-05T00:00:00\", \"2019-04-16T00:00:00\", \"2019-05-27T00:00:00\", \"2019-06-03T00:00:00\", \"2019-06-10T00:00:00\", \"2019-06-17T00:00:00\", \"2019-06-25T00:00:00\", \"2019-06-28T00:00:00\", \"2019-08-07T00:00:00\", \"2019-08-19T00:00:00\", \"2019-08-26T00:00:00\", \"2019-09-05T00:00:00\", \"2019-10-17T00:00:00\", \"2019-11-01T00:00:00\", \"2019-11-13T00:00:00\", \"2019-12-05T00:00:00\", \"2019-12-10T00:00:00\", \"2019-12-26T00:00:00\", \"2019-12-31T00:00:00\"], \"xaxis\": \"x5\", \"y\": [0.31, 0.311, 0.311, 0.311, 0.312, 0.312, 0.311, 0.311, 0.312, 0.311, 0.313, 0.313, 0.313, 0.311, 0.313, 0.316, 0.316, 0.313, 0.313, 0.313, 0.316, 0.313, 0.313, 0.315, 0.308, 0.311, 0.312, 0.313], \"yaxis\": \"y5\"}, {\"line\": {\"color\": \"#FF5733\"}, \"name\": \"USL Z\", \"type\": \"scatter\", \"x\": [\"2019-01-11T00:00:00\", \"2019-01-22T00:00:00\", \"2019-01-26T00:00:00\", \"2019-01-31T00:00:00\", \"2019-02-11T00:00:00\", \"2019-02-22T00:00:00\", \"2019-02-27T00:00:00\", \"2019-03-07T00:00:00\", \"2019-03-15T00:00:00\", \"2019-04-05T00:00:00\", \"2019-04-16T00:00:00\", \"2019-05-27T00:00:00\", \"2019-06-03T00:00:00\", \"2019-06-10T00:00:00\", \"2019-06-17T00:00:00\", \"2019-06-25T00:00:00\", \"2019-06-28T00:00:00\", \"2019-08-07T00:00:00\", \"2019-08-19T00:00:00\", \"2019-08-26T00:00:00\", \"2019-09-05T00:00:00\", \"2019-10-17T00:00:00\", \"2019-11-01T00:00:00\", \"2019-11-13T00:00:00\", \"2019-12-05T00:00:00\", \"2019-12-10T00:00:00\", \"2019-12-26T00:00:00\", \"2019-12-31T00:00:00\"], \"xaxis\": \"x5\", \"y\": [0.32, 0.32, 0.32, 0.32, 0.32, 0.32, 0.32, 0.32, 0.32, 0.32, 0.32, 0.32, 0.32, 0.32, 0.32, 0.32, 0.32, 0.32, 0.32, 0.32, 0.32, 0.32, 0.32, 0.32, 0.32, 0.32, 0.32, 0.32], \"yaxis\": \"y5\"}, {\"line\": {\"color\": \"#FF5733\"}, \"name\": \"LSL Z\", \"type\": \"scatter\", \"x\": [\"2019-01-11T00:00:00\", \"2019-01-22T00:00:00\", \"2019-01-26T00:00:00\", \"2019-01-31T00:00:00\", \"2019-02-11T00:00:00\", \"2019-02-22T00:00:00\", \"2019-02-27T00:00:00\", \"2019-03-07T00:00:00\", \"2019-03-15T00:00:00\", \"2019-04-05T00:00:00\", \"2019-04-16T00:00:00\", \"2019-05-27T00:00:00\", \"2019-06-03T00:00:00\", \"2019-06-10T00:00:00\", \"2019-06-17T00:00:00\", \"2019-06-25T00:00:00\", \"2019-06-28T00:00:00\", \"2019-08-07T00:00:00\", \"2019-08-19T00:00:00\", \"2019-08-26T00:00:00\", \"2019-09-05T00:00:00\", \"2019-10-17T00:00:00\", \"2019-11-01T00:00:00\", \"2019-11-13T00:00:00\", \"2019-12-05T00:00:00\", \"2019-12-10T00:00:00\", \"2019-12-26T00:00:00\", \"2019-12-31T00:00:00\"], \"xaxis\": \"x5\", \"y\": [0.28, 0.28, 0.28, 0.28, 0.28, 0.28, 0.28, 0.28, 0.28, 0.28, 0.28, 0.28, 0.28, 0.28, 0.28, 0.28, 0.28, 0.28, 0.28, 0.28, 0.28, 0.28, 0.28, 0.28, 0.28, 0.28, 0.28, 0.28], \"yaxis\": \"y5\"}, {\"line\": {\"color\": \"#FF5733\"}, \"name\": \"Nominal Z\", \"type\": \"scatter\", \"x\": [\"2019-01-11T00:00:00\", \"2019-01-22T00:00:00\", \"2019-01-26T00:00:00\", \"2019-01-31T00:00:00\", \"2019-02-11T00:00:00\", \"2019-02-22T00:00:00\", \"2019-02-27T00:00:00\", \"2019-03-07T00:00:00\", \"2019-03-15T00:00:00\", \"2019-04-05T00:00:00\", \"2019-04-16T00:00:00\", \"2019-05-27T00:00:00\", \"2019-06-03T00:00:00\", \"2019-06-10T00:00:00\", \"2019-06-17T00:00:00\", \"2019-06-25T00:00:00\", \"2019-06-28T00:00:00\", \"2019-08-07T00:00:00\", \"2019-08-19T00:00:00\", \"2019-08-26T00:00:00\", \"2019-09-05T00:00:00\", \"2019-10-17T00:00:00\", \"2019-11-01T00:00:00\", \"2019-11-13T00:00:00\", \"2019-12-05T00:00:00\", \"2019-12-10T00:00:00\", \"2019-12-26T00:00:00\", \"2019-12-31T00:00:00\"], \"xaxis\": \"x5\", \"y\": [0.3, 0.3, 0.3, 0.3, 0.3, 0.3, 0.3, 0.3, 0.3, 0.3, 0.3, 0.3, 0.3, 0.3, 0.3, 0.3, 0.3, 0.3, 0.3, 0.3, 0.3, 0.3, 0.3, 0.3, 0.3, 0.3, 0.3, 0.3], \"yaxis\": \"y5\"}, {\"line\": {\"color\": \"#33C2FF\"}, \"name\": \"UCL Z\", \"type\": \"scatter\", \"x\": [\"2019-01-11T00:00:00\", \"2019-01-22T00:00:00\", \"2019-01-26T00:00:00\", \"2019-01-31T00:00:00\", \"2019-02-11T00:00:00\", \"2019-02-22T00:00:00\", \"2019-02-27T00:00:00\", \"2019-03-07T00:00:00\", \"2019-03-15T00:00:00\", \"2019-04-05T00:00:00\", \"2019-04-16T00:00:00\", \"2019-05-27T00:00:00\", \"2019-06-03T00:00:00\", \"2019-06-10T00:00:00\", \"2019-06-17T00:00:00\", \"2019-06-25T00:00:00\", \"2019-06-28T00:00:00\", \"2019-08-07T00:00:00\", \"2019-08-19T00:00:00\", \"2019-08-26T00:00:00\", \"2019-09-05T00:00:00\", \"2019-10-17T00:00:00\", \"2019-11-01T00:00:00\", \"2019-11-13T00:00:00\", \"2019-12-05T00:00:00\", \"2019-12-10T00:00:00\", \"2019-12-26T00:00:00\", \"2019-12-31T00:00:00\"], \"xaxis\": \"x5\", \"y\": [0.318, 0.318, 0.318, 0.318, 0.318, 0.318, 0.318, 0.318, 0.318, 0.318, 0.318, 0.318, 0.318, 0.318, 0.318, 0.318, 0.318, 0.318, 0.318, 0.318, 0.318, 0.318, 0.318, 0.318, 0.318, 0.318, 0.318, 0.318], \"yaxis\": \"y5\"}, {\"line\": {\"color\": \"#33C2FF\"}, \"name\": \"LCL Z\", \"type\": \"scatter\", \"x\": [\"2019-01-11T00:00:00\", \"2019-01-22T00:00:00\", \"2019-01-26T00:00:00\", \"2019-01-31T00:00:00\", \"2019-02-11T00:00:00\", \"2019-02-22T00:00:00\", \"2019-02-27T00:00:00\", \"2019-03-07T00:00:00\", \"2019-03-15T00:00:00\", \"2019-04-05T00:00:00\", \"2019-04-16T00:00:00\", \"2019-05-27T00:00:00\", \"2019-06-03T00:00:00\", \"2019-06-10T00:00:00\", \"2019-06-17T00:00:00\", \"2019-06-25T00:00:00\", \"2019-06-28T00:00:00\", \"2019-08-07T00:00:00\", \"2019-08-19T00:00:00\", \"2019-08-26T00:00:00\", \"2019-09-05T00:00:00\", \"2019-10-17T00:00:00\", \"2019-11-01T00:00:00\", \"2019-11-13T00:00:00\", \"2019-12-05T00:00:00\", \"2019-12-10T00:00:00\", \"2019-12-26T00:00:00\", \"2019-12-31T00:00:00\"], \"xaxis\": \"x5\", \"y\": [0.307, 0.307, 0.307, 0.307, 0.307, 0.307, 0.307, 0.307, 0.307, 0.307, 0.307, 0.307, 0.307, 0.307, 0.307, 0.307, 0.307, 0.307, 0.307, 0.307, 0.307, 0.307, 0.307, 0.307, 0.307, 0.307, 0.307, 0.307], \"yaxis\": \"y5\"}, {\"line\": {\"color\": \"#33C2FF\"}, \"name\": \"mean Z\", \"type\": \"scatter\", \"x\": [\"2019-01-11T00:00:00\", \"2019-01-22T00:00:00\", \"2019-01-26T00:00:00\", \"2019-01-31T00:00:00\", \"2019-02-11T00:00:00\", \"2019-02-22T00:00:00\", \"2019-02-27T00:00:00\", \"2019-03-07T00:00:00\", \"2019-03-15T00:00:00\", \"2019-04-05T00:00:00\", \"2019-04-16T00:00:00\", \"2019-05-27T00:00:00\", \"2019-06-03T00:00:00\", \"2019-06-10T00:00:00\", \"2019-06-17T00:00:00\", \"2019-06-25T00:00:00\", \"2019-06-28T00:00:00\", \"2019-08-07T00:00:00\", \"2019-08-19T00:00:00\", \"2019-08-26T00:00:00\", \"2019-09-05T00:00:00\", \"2019-10-17T00:00:00\", \"2019-11-01T00:00:00\", \"2019-11-13T00:00:00\", \"2019-12-05T00:00:00\", \"2019-12-10T00:00:00\", \"2019-12-26T00:00:00\", \"2019-12-31T00:00:00\"], \"xaxis\": \"x5\", \"y\": [0.312, 0.312, 0.312, 0.312, 0.312, 0.312, 0.312, 0.312, 0.312, 0.312, 0.312, 0.312, 0.312, 0.312, 0.312, 0.312, 0.312, 0.312, 0.312, 0.312, 0.312, 0.312, 0.312, 0.312, 0.312, 0.312, 0.312, 0.312], \"yaxis\": \"y5\"}],\n",
              "                        {\"annotations\": [{\"font\": {\"size\": 16}, \"showarrow\": false, \"text\": \"C-Pitch\", \"x\": 0.5, \"xanchor\": \"center\", \"xref\": \"paper\", \"y\": 1.0, \"yanchor\": \"bottom\", \"yref\": \"paper\"}, {\"font\": {\"size\": 16}, \"showarrow\": false, \"text\": \"J\", \"x\": 0.5, \"xanchor\": \"center\", \"xref\": \"paper\", \"y\": 0.78, \"yanchor\": \"bottom\", \"yref\": \"paper\"}, {\"font\": {\"size\": 16}, \"showarrow\": false, \"text\": \"I\", \"x\": 0.5, \"xanchor\": \"center\", \"xref\": \"paper\", \"y\": 0.56, \"yanchor\": \"bottom\", \"yref\": \"paper\"}, {\"font\": {\"size\": 16}, \"showarrow\": false, \"text\": \"O\", \"x\": 0.5, \"xanchor\": \"center\", \"xref\": \"paper\", \"y\": 0.33999999999999997, \"yanchor\": \"bottom\", \"yref\": \"paper\"}, {\"font\": {\"size\": 16}, \"showarrow\": false, \"text\": \"Z\", \"x\": 0.5, \"xanchor\": \"center\", \"xref\": \"paper\", \"y\": 0.12, \"yanchor\": \"bottom\", \"yref\": \"paper\"}], \"height\": 1500, \"template\": {\"data\": {\"bar\": [{\"error_x\": {\"color\": \"#2a3f5f\"}, \"error_y\": {\"color\": \"#2a3f5f\"}, \"marker\": {\"line\": {\"color\": \"#E5ECF6\", \"width\": 0.5}}, \"type\": \"bar\"}], \"barpolar\": [{\"marker\": {\"line\": {\"color\": \"#E5ECF6\", \"width\": 0.5}}, \"type\": \"barpolar\"}], \"carpet\": [{\"aaxis\": {\"endlinecolor\": \"#2a3f5f\", \"gridcolor\": \"white\", \"linecolor\": \"white\", \"minorgridcolor\": \"white\", \"startlinecolor\": \"#2a3f5f\"}, \"baxis\": {\"endlinecolor\": \"#2a3f5f\", \"gridcolor\": \"white\", \"linecolor\": \"white\", \"minorgridcolor\": \"white\", \"startlinecolor\": \"#2a3f5f\"}, \"type\": \"carpet\"}], \"choropleth\": [{\"colorbar\": {\"outlinewidth\": 0, \"ticks\": \"\"}, \"type\": \"choropleth\"}], \"contour\": [{\"colorbar\": {\"outlinewidth\": 0, \"ticks\": \"\"}, \"colorscale\": [[0.0, \"#0d0887\"], [0.1111111111111111, \"#46039f\"], [0.2222222222222222, \"#7201a8\"], [0.3333333333333333, \"#9c179e\"], [0.4444444444444444, \"#bd3786\"], [0.5555555555555556, \"#d8576b\"], [0.6666666666666666, \"#ed7953\"], [0.7777777777777778, \"#fb9f3a\"], [0.8888888888888888, \"#fdca26\"], [1.0, \"#f0f921\"]], \"type\": \"contour\"}], \"contourcarpet\": [{\"colorbar\": {\"outlinewidth\": 0, \"ticks\": \"\"}, \"type\": \"contourcarpet\"}], \"heatmap\": [{\"colorbar\": {\"outlinewidth\": 0, \"ticks\": \"\"}, \"colorscale\": [[0.0, \"#0d0887\"], [0.1111111111111111, \"#46039f\"], [0.2222222222222222, \"#7201a8\"], [0.3333333333333333, \"#9c179e\"], [0.4444444444444444, \"#bd3786\"], [0.5555555555555556, \"#d8576b\"], [0.6666666666666666, \"#ed7953\"], [0.7777777777777778, \"#fb9f3a\"], [0.8888888888888888, \"#fdca26\"], [1.0, \"#f0f921\"]], \"type\": \"heatmap\"}], \"heatmapgl\": [{\"colorbar\": {\"outlinewidth\": 0, \"ticks\": \"\"}, \"colorscale\": [[0.0, \"#0d0887\"], [0.1111111111111111, \"#46039f\"], [0.2222222222222222, \"#7201a8\"], [0.3333333333333333, \"#9c179e\"], [0.4444444444444444, \"#bd3786\"], [0.5555555555555556, \"#d8576b\"], [0.6666666666666666, \"#ed7953\"], [0.7777777777777778, \"#fb9f3a\"], [0.8888888888888888, \"#fdca26\"], [1.0, \"#f0f921\"]], \"type\": \"heatmapgl\"}], \"histogram\": [{\"marker\": {\"colorbar\": {\"outlinewidth\": 0, \"ticks\": \"\"}}, \"type\": \"histogram\"}], \"histogram2d\": [{\"colorbar\": {\"outlinewidth\": 0, \"ticks\": \"\"}, \"colorscale\": [[0.0, \"#0d0887\"], [0.1111111111111111, \"#46039f\"], [0.2222222222222222, \"#7201a8\"], [0.3333333333333333, \"#9c179e\"], [0.4444444444444444, \"#bd3786\"], [0.5555555555555556, \"#d8576b\"], [0.6666666666666666, \"#ed7953\"], [0.7777777777777778, \"#fb9f3a\"], [0.8888888888888888, \"#fdca26\"], [1.0, \"#f0f921\"]], \"type\": \"histogram2d\"}], \"histogram2dcontour\": [{\"colorbar\": {\"outlinewidth\": 0, \"ticks\": \"\"}, \"colorscale\": [[0.0, \"#0d0887\"], [0.1111111111111111, \"#46039f\"], [0.2222222222222222, \"#7201a8\"], [0.3333333333333333, \"#9c179e\"], [0.4444444444444444, \"#bd3786\"], [0.5555555555555556, \"#d8576b\"], [0.6666666666666666, \"#ed7953\"], [0.7777777777777778, \"#fb9f3a\"], [0.8888888888888888, \"#fdca26\"], [1.0, \"#f0f921\"]], \"type\": \"histogram2dcontour\"}], \"mesh3d\": [{\"colorbar\": {\"outlinewidth\": 0, \"ticks\": \"\"}, \"type\": \"mesh3d\"}], \"parcoords\": [{\"line\": {\"colorbar\": {\"outlinewidth\": 0, \"ticks\": \"\"}}, \"type\": \"parcoords\"}], \"pie\": [{\"automargin\": true, \"type\": \"pie\"}], \"scatter\": [{\"marker\": {\"colorbar\": {\"outlinewidth\": 0, \"ticks\": \"\"}}, \"type\": \"scatter\"}], \"scatter3d\": [{\"line\": {\"colorbar\": {\"outlinewidth\": 0, \"ticks\": \"\"}}, \"marker\": {\"colorbar\": {\"outlinewidth\": 0, \"ticks\": \"\"}}, \"type\": \"scatter3d\"}], \"scattercarpet\": [{\"marker\": {\"colorbar\": {\"outlinewidth\": 0, \"ticks\": \"\"}}, \"type\": \"scattercarpet\"}], \"scattergeo\": [{\"marker\": {\"colorbar\": {\"outlinewidth\": 0, \"ticks\": \"\"}}, \"type\": \"scattergeo\"}], \"scattergl\": [{\"marker\": {\"colorbar\": {\"outlinewidth\": 0, \"ticks\": \"\"}}, \"type\": \"scattergl\"}], \"scattermapbox\": [{\"marker\": {\"colorbar\": {\"outlinewidth\": 0, \"ticks\": \"\"}}, \"type\": \"scattermapbox\"}], \"scatterpolar\": [{\"marker\": {\"colorbar\": {\"outlinewidth\": 0, \"ticks\": \"\"}}, \"type\": \"scatterpolar\"}], \"scatterpolargl\": [{\"marker\": {\"colorbar\": {\"outlinewidth\": 0, \"ticks\": \"\"}}, \"type\": \"scatterpolargl\"}], \"scatterternary\": [{\"marker\": {\"colorbar\": {\"outlinewidth\": 0, \"ticks\": \"\"}}, \"type\": \"scatterternary\"}], \"surface\": [{\"colorbar\": {\"outlinewidth\": 0, \"ticks\": \"\"}, \"colorscale\": [[0.0, \"#0d0887\"], [0.1111111111111111, \"#46039f\"], [0.2222222222222222, \"#7201a8\"], [0.3333333333333333, \"#9c179e\"], [0.4444444444444444, \"#bd3786\"], [0.5555555555555556, \"#d8576b\"], [0.6666666666666666, \"#ed7953\"], [0.7777777777777778, \"#fb9f3a\"], [0.8888888888888888, \"#fdca26\"], [1.0, \"#f0f921\"]], \"type\": \"surface\"}], \"table\": [{\"cells\": {\"fill\": {\"color\": \"#EBF0F8\"}, \"line\": {\"color\": \"white\"}}, \"header\": {\"fill\": {\"color\": \"#C8D4E3\"}, \"line\": {\"color\": \"white\"}}, \"type\": \"table\"}]}, \"layout\": {\"annotationdefaults\": {\"arrowcolor\": \"#2a3f5f\", \"arrowhead\": 0, \"arrowwidth\": 1}, \"coloraxis\": {\"colorbar\": {\"outlinewidth\": 0, \"ticks\": \"\"}}, \"colorscale\": {\"diverging\": [[0, \"#8e0152\"], [0.1, \"#c51b7d\"], [0.2, \"#de77ae\"], [0.3, \"#f1b6da\"], [0.4, \"#fde0ef\"], [0.5, \"#f7f7f7\"], [0.6, \"#e6f5d0\"], [0.7, \"#b8e186\"], [0.8, \"#7fbc41\"], [0.9, \"#4d9221\"], [1, \"#276419\"]], \"sequential\": [[0.0, \"#0d0887\"], [0.1111111111111111, \"#46039f\"], [0.2222222222222222, \"#7201a8\"], [0.3333333333333333, \"#9c179e\"], [0.4444444444444444, \"#bd3786\"], [0.5555555555555556, \"#d8576b\"], [0.6666666666666666, \"#ed7953\"], [0.7777777777777778, \"#fb9f3a\"], [0.8888888888888888, \"#fdca26\"], [1.0, \"#f0f921\"]], \"sequentialminus\": [[0.0, \"#0d0887\"], [0.1111111111111111, \"#46039f\"], [0.2222222222222222, \"#7201a8\"], [0.3333333333333333, \"#9c179e\"], [0.4444444444444444, \"#bd3786\"], [0.5555555555555556, \"#d8576b\"], [0.6666666666666666, \"#ed7953\"], [0.7777777777777778, \"#fb9f3a\"], [0.8888888888888888, \"#fdca26\"], [1.0, \"#f0f921\"]]}, \"colorway\": [\"#636efa\", \"#EF553B\", \"#00cc96\", \"#ab63fa\", \"#FFA15A\", \"#19d3f3\", \"#FF6692\", \"#B6E880\", \"#FF97FF\", \"#FECB52\"], \"font\": {\"color\": \"#2a3f5f\"}, \"geo\": {\"bgcolor\": \"white\", \"lakecolor\": \"white\", \"landcolor\": \"#E5ECF6\", \"showlakes\": true, \"showland\": true, \"subunitcolor\": \"white\"}, \"hoverlabel\": {\"align\": \"left\"}, \"hovermode\": \"closest\", \"mapbox\": {\"style\": \"light\"}, \"paper_bgcolor\": \"white\", \"plot_bgcolor\": \"#E5ECF6\", \"polar\": {\"angularaxis\": {\"gridcolor\": \"white\", \"linecolor\": \"white\", \"ticks\": \"\"}, \"bgcolor\": \"#E5ECF6\", \"radialaxis\": {\"gridcolor\": \"white\", \"linecolor\": \"white\", \"ticks\": \"\"}}, \"scene\": {\"xaxis\": {\"backgroundcolor\": \"#E5ECF6\", \"gridcolor\": \"white\", \"gridwidth\": 2, \"linecolor\": \"white\", \"showbackground\": true, \"ticks\": \"\", \"zerolinecolor\": \"white\"}, \"yaxis\": {\"backgroundcolor\": \"#E5ECF6\", \"gridcolor\": \"white\", \"gridwidth\": 2, \"linecolor\": \"white\", \"showbackground\": true, \"ticks\": \"\", \"zerolinecolor\": \"white\"}, \"zaxis\": {\"backgroundcolor\": \"#E5ECF6\", \"gridcolor\": \"white\", \"gridwidth\": 2, \"linecolor\": \"white\", \"showbackground\": true, \"ticks\": \"\", \"zerolinecolor\": \"white\"}}, \"shapedefaults\": {\"line\": {\"color\": \"#2a3f5f\"}}, \"ternary\": {\"aaxis\": {\"gridcolor\": \"white\", \"linecolor\": \"white\", \"ticks\": \"\"}, \"baxis\": {\"gridcolor\": \"white\", \"linecolor\": \"white\", \"ticks\": \"\"}, \"bgcolor\": \"#E5ECF6\", \"caxis\": {\"gridcolor\": \"white\", \"linecolor\": \"white\", \"ticks\": \"\"}}, \"title\": {\"x\": 0.05}, \"xaxis\": {\"automargin\": true, \"gridcolor\": \"white\", \"linecolor\": \"white\", \"ticks\": \"\", \"title\": {\"standoff\": 15}, \"zerolinecolor\": \"white\", \"zerolinewidth\": 2}, \"yaxis\": {\"automargin\": true, \"gridcolor\": \"white\", \"linecolor\": \"white\", \"ticks\": \"\", \"title\": {\"standoff\": 15}, \"zerolinecolor\": \"white\", \"zerolinewidth\": 2}}}, \"title\": {\"text\": \"Line chart\"}, \"width\": 1200, \"xaxis\": {\"anchor\": \"y\", \"domain\": [0.0, 1.0]}, \"xaxis2\": {\"anchor\": \"y2\", \"domain\": [0.0, 1.0]}, \"xaxis3\": {\"anchor\": \"y3\", \"domain\": [0.0, 1.0]}, \"xaxis4\": {\"anchor\": \"y4\", \"domain\": [0.0, 1.0]}, \"xaxis5\": {\"anchor\": \"y5\", \"domain\": [0.0, 1.0]}, \"yaxis\": {\"anchor\": \"x\", \"domain\": [0.88, 1.0]}, \"yaxis2\": {\"anchor\": \"x2\", \"domain\": [0.66, 0.78]}, \"yaxis3\": {\"anchor\": \"x3\", \"domain\": [0.44, 0.56]}, \"yaxis4\": {\"anchor\": \"x4\", \"domain\": [0.22, 0.33999999999999997]}, \"yaxis5\": {\"anchor\": \"x5\", \"domain\": [0.0, 0.12]}},\n",
              "                        {\"responsive\": true}\n",
              "                    ).then(function(){\n",
              "                            \n",
              "var gd = document.getElementById('84c78a12-a6a5-4c14-9a98-3e9cc861fac5');\n",
              "var x = new MutationObserver(function (mutations, observer) {{\n",
              "        var display = window.getComputedStyle(gd).display;\n",
              "        if (!display || display === 'none') {{\n",
              "            console.log([gd, 'removed!']);\n",
              "            Plotly.purge(gd);\n",
              "            observer.disconnect();\n",
              "        }}\n",
              "}});\n",
              "\n",
              "// Listen for the removal of the full notebook cells\n",
              "var notebookContainer = gd.closest('#notebook-container');\n",
              "if (notebookContainer) {{\n",
              "    x.observe(notebookContainer, {childList: true});\n",
              "}}\n",
              "\n",
              "// Listen for the clearing of the current output cell\n",
              "var outputEl = gd.closest('.output');\n",
              "if (outputEl) {{\n",
              "    x.observe(outputEl, {childList: true});\n",
              "}}\n",
              "\n",
              "                        })\n",
              "                };\n",
              "                \n",
              "            </script>\n",
              "        </div>\n",
              "</body>\n",
              "</html>"
            ]
          },
          "metadata": {
            "tags": []
          }
        }
      ]
    },
    {
      "cell_type": "markdown",
      "metadata": {
        "id": "L3ZfbsXtU0Wo",
        "colab_type": "text"
      },
      "source": [
        "# Forecast"
      ]
    },
    {
      "cell_type": "markdown",
      "metadata": {
        "id": "mUav2SJaYRzr",
        "colab_type": "text"
      },
      "source": [
        "## Prepare data"
      ]
    },
    {
      "cell_type": "markdown",
      "metadata": {
        "id": "1BfktcCsIn65",
        "colab_type": "text"
      },
      "source": [
        "## FBprophet"
      ]
    },
    {
      "cell_type": "code",
      "metadata": {
        "id": "XPXURraHyjbd",
        "colab_type": "code",
        "colab": {}
      },
      "source": [
        "from fbprophet import Prophet"
      ],
      "execution_count": 30,
      "outputs": []
    },
    {
      "cell_type": "code",
      "metadata": {
        "id": "OfK4GnYBse84",
        "colab_type": "code",
        "colab": {
          "base_uri": "https://localhost:8080/",
          "height": 1000
        },
        "outputId": "68ec51e2-bbf3-41a2-a395-16ea0501105a"
      },
      "source": [
        "predict_future=5 # week\n",
        "DF_predict_final={} # only contail predict\n",
        "#DF_predict_all_final={} # contain predict and past value\n",
        "for name in DFdict_final.keys(): #also group\n",
        "  print(name)\n",
        "  df_temp_2=DFdict_final[name].copy() # gia tri mean thong thuong\n",
        "  df_predict=df_temp_2.set_index(df_temp_2.columns[0]).copy()\n",
        "  df_predict=df_predict.resample('1W').ffill() # gia tri mean da resample\n",
        "  df_fb=df_predict.reset_index()#\n",
        "  df_fb=df_fb[[df_fb.columns[0],df_fb.columns[1]]]\n",
        "  df_fb.columns=['ds','y']\n",
        "\n",
        "  # Prophet will by default fit weekly and yearly seasonalities,\n",
        "  model = Prophet( #yearly_seasonality=True\n",
        "                ) #instantiate Prophet with only yearly seasonality as our data is monthly \n",
        "  model.fit(df_fb) #fit the model with your dataframe\n",
        "\n",
        "  # predict for five months in the furure and MS - month start is the frequency\n",
        "  future = model.make_future_dataframe(periods = predict_future, freq = 'W')  \n",
        "  # now lets make the forecasts\n",
        "  forecast = model.predict(future)\n",
        "  new_forecast=forecast[['ds', 'yhat', 'yhat_lower', 'yhat_upper']]\n",
        "  new_forecast['USL']=df_temp_2['USL'][0]\n",
        "  new_forecast['LSL']=df_temp_2['LSL'][0]\n",
        "  new_forecast['Nominal']=df_temp_2['Nominal'][0]\n",
        "  new_forecast['UCL']=df_temp_2['UCL'][0]\n",
        "  new_forecast['LCL']=df_temp_2['LCL'][0]\n",
        "  new_forecast['mean']=df_temp_2['mean'][0]\n",
        "  DF_predict_final[name]=new_forecast \n",
        "  "
      ],
      "execution_count": 47,
      "outputs": [
        {
          "output_type": "stream",
          "text": [
            "INFO:fbprophet:Disabling yearly seasonality. Run prophet with yearly_seasonality=True to override this.\n",
            "INFO:fbprophet:Disabling weekly seasonality. Run prophet with weekly_seasonality=True to override this.\n",
            "INFO:fbprophet:Disabling daily seasonality. Run prophet with daily_seasonality=True to override this.\n"
          ],
          "name": "stderr"
        },
        {
          "output_type": "stream",
          "text": [
            "C-Pitch\n"
          ],
          "name": "stdout"
        },
        {
          "output_type": "stream",
          "text": [
            "/usr/local/lib/python3.6/dist-packages/ipykernel_launcher.py:23: SettingWithCopyWarning:\n",
            "\n",
            "\n",
            "A value is trying to be set on a copy of a slice from a DataFrame.\n",
            "Try using .loc[row_indexer,col_indexer] = value instead\n",
            "\n",
            "See the caveats in the documentation: https://pandas.pydata.org/pandas-docs/stable/user_guide/indexing.html#returning-a-view-versus-a-copy\n",
            "\n",
            "/usr/local/lib/python3.6/dist-packages/ipykernel_launcher.py:24: SettingWithCopyWarning:\n",
            "\n",
            "\n",
            "A value is trying to be set on a copy of a slice from a DataFrame.\n",
            "Try using .loc[row_indexer,col_indexer] = value instead\n",
            "\n",
            "See the caveats in the documentation: https://pandas.pydata.org/pandas-docs/stable/user_guide/indexing.html#returning-a-view-versus-a-copy\n",
            "\n",
            "/usr/local/lib/python3.6/dist-packages/ipykernel_launcher.py:25: SettingWithCopyWarning:\n",
            "\n",
            "\n",
            "A value is trying to be set on a copy of a slice from a DataFrame.\n",
            "Try using .loc[row_indexer,col_indexer] = value instead\n",
            "\n",
            "See the caveats in the documentation: https://pandas.pydata.org/pandas-docs/stable/user_guide/indexing.html#returning-a-view-versus-a-copy\n",
            "\n",
            "/usr/local/lib/python3.6/dist-packages/ipykernel_launcher.py:26: SettingWithCopyWarning:\n",
            "\n",
            "\n",
            "A value is trying to be set on a copy of a slice from a DataFrame.\n",
            "Try using .loc[row_indexer,col_indexer] = value instead\n",
            "\n",
            "See the caveats in the documentation: https://pandas.pydata.org/pandas-docs/stable/user_guide/indexing.html#returning-a-view-versus-a-copy\n",
            "\n",
            "/usr/local/lib/python3.6/dist-packages/ipykernel_launcher.py:27: SettingWithCopyWarning:\n",
            "\n",
            "\n",
            "A value is trying to be set on a copy of a slice from a DataFrame.\n",
            "Try using .loc[row_indexer,col_indexer] = value instead\n",
            "\n",
            "See the caveats in the documentation: https://pandas.pydata.org/pandas-docs/stable/user_guide/indexing.html#returning-a-view-versus-a-copy\n",
            "\n",
            "/usr/local/lib/python3.6/dist-packages/ipykernel_launcher.py:28: SettingWithCopyWarning:\n",
            "\n",
            "\n",
            "A value is trying to be set on a copy of a slice from a DataFrame.\n",
            "Try using .loc[row_indexer,col_indexer] = value instead\n",
            "\n",
            "See the caveats in the documentation: https://pandas.pydata.org/pandas-docs/stable/user_guide/indexing.html#returning-a-view-versus-a-copy\n",
            "\n",
            "INFO:fbprophet:Disabling yearly seasonality. Run prophet with yearly_seasonality=True to override this.\n",
            "INFO:fbprophet:Disabling weekly seasonality. Run prophet with weekly_seasonality=True to override this.\n",
            "INFO:fbprophet:Disabling daily seasonality. Run prophet with daily_seasonality=True to override this.\n"
          ],
          "name": "stderr"
        },
        {
          "output_type": "stream",
          "text": [
            "J\n"
          ],
          "name": "stdout"
        },
        {
          "output_type": "stream",
          "text": [
            "INFO:fbprophet:Disabling yearly seasonality. Run prophet with yearly_seasonality=True to override this.\n",
            "INFO:fbprophet:Disabling weekly seasonality. Run prophet with weekly_seasonality=True to override this.\n",
            "INFO:fbprophet:Disabling daily seasonality. Run prophet with daily_seasonality=True to override this.\n"
          ],
          "name": "stderr"
        },
        {
          "output_type": "stream",
          "text": [
            "I\n"
          ],
          "name": "stdout"
        },
        {
          "output_type": "stream",
          "text": [
            "INFO:fbprophet:Disabling yearly seasonality. Run prophet with yearly_seasonality=True to override this.\n",
            "INFO:fbprophet:Disabling weekly seasonality. Run prophet with weekly_seasonality=True to override this.\n",
            "INFO:fbprophet:Disabling daily seasonality. Run prophet with daily_seasonality=True to override this.\n"
          ],
          "name": "stderr"
        },
        {
          "output_type": "stream",
          "text": [
            "O\n"
          ],
          "name": "stdout"
        },
        {
          "output_type": "stream",
          "text": [
            "INFO:fbprophet:Disabling yearly seasonality. Run prophet with yearly_seasonality=True to override this.\n",
            "INFO:fbprophet:Disabling weekly seasonality. Run prophet with weekly_seasonality=True to override this.\n",
            "INFO:fbprophet:Disabling daily seasonality. Run prophet with daily_seasonality=True to override this.\n"
          ],
          "name": "stderr"
        },
        {
          "output_type": "stream",
          "text": [
            "Z\n"
          ],
          "name": "stdout"
        }
      ]
    },
    {
      "cell_type": "code",
      "metadata": {
        "id": "h0MnCTHH6aR-",
        "colab_type": "code",
        "colab": {
          "base_uri": "https://localhost:8080/",
          "height": 1000
        },
        "outputId": "cf05dbc0-3e59-408f-ced7-ee96dacb5e4a"
      },
      "source": [
        "i=1\n",
        "#Layout\n",
        "fig = make_subplots(\n",
        "    rows=len(DFdict_final), cols=1,\n",
        "    #shared_xaxes=True,\n",
        "    #vertical_spacing=0.03,\n",
        "    #column_widths=[0.8, 0.2],\n",
        "    subplot_titles=(list(DFdict_final.keys()))\n",
        ")\n",
        "for name in DFdict_final.keys(): #also group\n",
        "  df=DFdict_final[name].copy()\n",
        "  df=df.sort_values(by=['Datef'])\n",
        "  for a in df.columns[1:]:\n",
        "    df[a] = df[a].round(decimals=3)\n",
        "\n",
        "  #Control chart 1 \n",
        "  fig.append_trace(go.Scatter(\n",
        "                          x=df['Datef'], y=df[name],\n",
        "                          mode='lines+markers',\n",
        "                          name='mean ' + name,line=dict( color='#4280F5')\n",
        "                          ),row=i, col=1\n",
        "                )\n",
        "  #Predict:\n",
        "  df_predict=DF_predict_final[name].copy()\n",
        "  fig.append_trace(go.Scatter(\n",
        "                      x=df_predict['ds'], y=df_predict['yhat'],\n",
        "                      mode='lines+markers',\n",
        "                      name='mean predict ' + name,line=dict( color='#060891')\n",
        "                      ),row=i, col=1\n",
        "            )\n",
        "\n",
        "  #USL, LSL\n",
        "  fig.append_trace(go.Scatter(x=df_predict['ds'], y=df_predict['USL'],name='USL '+name, line=dict( color='#FF5733')),row=i, col=1)\n",
        "  fig.append_trace(go.Scatter(x=df_predict['ds'], y=df_predict['LSL'],name='LSL '+name,line=dict( color='#FF5733')),row=i, col=1)\n",
        "  fig.append_trace(go.Scatter(x=df_predict['ds'], y=df_predict['Nominal'],name='Nominal '+name,line=dict( color='#FF5733')),row=i, col=1)\n",
        "  # UCL, LCL\n",
        "  fig.append_trace(go.Scatter(x=df_predict['ds'], y=df_predict['UCL'],name='UCL '+name, line=dict( color='#33C2FF')),row=i, col=1)\n",
        "  fig.append_trace(go.Scatter(x=df_predict['ds'], y=df_predict['LCL'],name='LCL '+name, line=dict( color='#33C2FF')),row=i, col=1)\n",
        "  fig.append_trace(go.Scatter(x=df_predict['ds'], y=df_predict['mean'],name='mean '+name, line=dict( color='#33C2FF')),row=i, col=1)\n",
        "  # Fill between:\n",
        "  fig.append_trace(go.Scatter(x=df_predict['ds'], y=df_predict['yhat_upper'],name='yhat_upper '+name, line=dict( color='#9FA0F8'),fill=None),row=i, col=1)\n",
        "  fig.append_trace(go.Scatter(x=df_predict['ds'], y=df_predict['yhat_lower'],name='yhat_lower '+name, line=dict( color='#9FA0F8'), fill='tonexty'),row=i, col=1)\n",
        "\n",
        "\n",
        "  #Final layout:\n",
        "  #fig.update_layout(height=400, width=1400, title_text='Line chart'+name)\n",
        "  i=i+1\n",
        "  \n",
        "fig.update_layout(height=300*len(DFdict_final), width=1200, title_text='Line chart')\n",
        "fig.show()"
      ],
      "execution_count": 49,
      "outputs": [
        {
          "output_type": "display_data",
          "data": {
            "text/html": [
              "<html>\n",
              "<head><meta charset=\"utf-8\" /></head>\n",
              "<body>\n",
              "    <div>\n",
              "            <script src=\"https://cdnjs.cloudflare.com/ajax/libs/mathjax/2.7.5/MathJax.js?config=TeX-AMS-MML_SVG\"></script><script type=\"text/javascript\">if (window.MathJax) {MathJax.Hub.Config({SVG: {font: \"STIX-Web\"}});}</script>\n",
              "                <script type=\"text/javascript\">window.PlotlyConfig = {MathJaxConfig: 'local'};</script>\n",
              "        <script src=\"https://cdn.plot.ly/plotly-latest.min.js\"></script>    \n",
              "            <div id=\"490f290e-c3ae-43fc-9056-c08035457085\" class=\"plotly-graph-div\" style=\"height:1500px; width:1200px;\"></div>\n",
              "            <script type=\"text/javascript\">\n",
              "                \n",
              "                    window.PLOTLYENV=window.PLOTLYENV || {};\n",
              "                    \n",
              "                if (document.getElementById(\"490f290e-c3ae-43fc-9056-c08035457085\")) {\n",
              "                    Plotly.newPlot(\n",
              "                        '490f290e-c3ae-43fc-9056-c08035457085',\n",
              "                        [{\"line\": {\"color\": \"#4280F5\"}, \"mode\": \"lines+markers\", \"name\": \"mean C-Pitch\", \"type\": \"scatter\", \"x\": [\"2019-01-11T00:00:00\", \"2019-01-22T00:00:00\", \"2019-01-26T00:00:00\", \"2019-01-31T00:00:00\", \"2019-02-11T00:00:00\", \"2019-02-22T00:00:00\", \"2019-02-27T00:00:00\", \"2019-03-07T00:00:00\", \"2019-03-15T00:00:00\", \"2019-04-05T00:00:00\", \"2019-04-16T00:00:00\", \"2019-05-27T00:00:00\", \"2019-06-03T00:00:00\", \"2019-06-10T00:00:00\", \"2019-06-17T00:00:00\", \"2019-06-25T00:00:00\", \"2019-06-28T00:00:00\", \"2019-08-07T00:00:00\", \"2019-08-19T00:00:00\", \"2019-08-26T00:00:00\", \"2019-09-05T00:00:00\", \"2019-10-17T00:00:00\", \"2019-11-01T00:00:00\", \"2019-11-13T00:00:00\", \"2019-12-05T00:00:00\", \"2019-12-10T00:00:00\", \"2019-12-26T00:00:00\", \"2019-12-31T00:00:00\"], \"xaxis\": \"x\", \"y\": [10.004, 10.001, 10.002, 10.003, 10.003, 10.002, 10.003, 10.002, 9.998, 10.002, 10.003, 10.004, 10.001, 10.0, 10.002, 10.001, 10.002, 10.001, 10.0, 10.001, 10.002, 10.0, 10.0, 10.002, 10.0, 10.003, 10.003, 9.999], \"yaxis\": \"y\"}, {\"line\": {\"color\": \"#060891\"}, \"mode\": \"lines+markers\", \"name\": \"mean predict C-Pitch\", \"type\": \"scatter\", \"x\": [\"2019-01-13T00:00:00\", \"2019-01-20T00:00:00\", \"2019-01-27T00:00:00\", \"2019-02-03T00:00:00\", \"2019-02-10T00:00:00\", \"2019-02-17T00:00:00\", \"2019-02-24T00:00:00\", \"2019-03-03T00:00:00\", \"2019-03-10T00:00:00\", \"2019-03-17T00:00:00\", \"2019-03-24T00:00:00\", \"2019-03-31T00:00:00\", \"2019-04-07T00:00:00\", \"2019-04-14T00:00:00\", \"2019-04-21T00:00:00\", \"2019-04-28T00:00:00\", \"2019-05-05T00:00:00\", \"2019-05-12T00:00:00\", \"2019-05-19T00:00:00\", \"2019-05-26T00:00:00\", \"2019-06-02T00:00:00\", \"2019-06-09T00:00:00\", \"2019-06-16T00:00:00\", \"2019-06-23T00:00:00\", \"2019-06-30T00:00:00\", \"2019-07-07T00:00:00\", \"2019-07-14T00:00:00\", \"2019-07-21T00:00:00\", \"2019-07-28T00:00:00\", \"2019-08-04T00:00:00\", \"2019-08-11T00:00:00\", \"2019-08-18T00:00:00\", \"2019-08-25T00:00:00\", \"2019-09-01T00:00:00\", \"2019-09-08T00:00:00\", \"2019-09-15T00:00:00\", \"2019-09-22T00:00:00\", \"2019-09-29T00:00:00\", \"2019-10-06T00:00:00\", \"2019-10-13T00:00:00\", \"2019-10-20T00:00:00\", \"2019-10-27T00:00:00\", \"2019-11-03T00:00:00\", \"2019-11-10T00:00:00\", \"2019-11-17T00:00:00\", \"2019-11-24T00:00:00\", \"2019-12-01T00:00:00\", \"2019-12-08T00:00:00\", \"2019-12-15T00:00:00\", \"2019-12-22T00:00:00\", \"2019-12-29T00:00:00\", \"2020-01-05T00:00:00\", \"2020-01-12T00:00:00\", \"2020-01-19T00:00:00\", \"2020-01-26T00:00:00\", \"2020-02-02T00:00:00\", \"2020-02-09T00:00:00\"], \"xaxis\": \"x\", \"y\": [10.004281875417197, 10.003374496558514, 10.002467117699831, 10.002905161097347, 10.002942692894857, 10.002980224692367, 10.002531378244125, 10.002082531606343, 10.001633684968558, 9.999478172799241, 9.997322660629925, 9.998728384700774, 10.000666724783533, 10.002605064866293, 10.002953882038222, 10.002986710128345, 10.003019538218465, 10.003060906919734, 10.003102275621, 10.003583741444013, 10.00258464011946, 10.00158553879491, 10.000514638731628, 10.001339400862088, 10.002164162992548, 10.002108178854572, 10.002052194716596, 10.001996210706842, 10.001940226731424, 10.001884242756008, 10.00126217350851, 10.000722166377708, 10.000182159246908, 10.001037167481698, 10.00189217571649, 10.001972744214997, 10.002041121464902, 10.002109498714807, 10.002192718198483, 10.001299328035248, 10.000405937872014, 10.000550495890206, 10.000695053908396, 10.000839611926589, 10.00098416994478, 10.001128727962971, 10.001273285981162, 10.001417843999354, 10.001562402017546, 10.001706960035737, 10.001851518053929, 10.00199607607212, 10.002140634090312, 10.002285192108502, 10.002429750126694, 10.002574308144887, 10.002718866163077], \"yaxis\": \"y\"}, {\"line\": {\"color\": \"#FF5733\"}, \"name\": \"USL C-Pitch\", \"type\": \"scatter\", \"x\": [\"2019-01-13T00:00:00\", \"2019-01-20T00:00:00\", \"2019-01-27T00:00:00\", \"2019-02-03T00:00:00\", \"2019-02-10T00:00:00\", \"2019-02-17T00:00:00\", \"2019-02-24T00:00:00\", \"2019-03-03T00:00:00\", \"2019-03-10T00:00:00\", \"2019-03-17T00:00:00\", \"2019-03-24T00:00:00\", \"2019-03-31T00:00:00\", \"2019-04-07T00:00:00\", \"2019-04-14T00:00:00\", \"2019-04-21T00:00:00\", \"2019-04-28T00:00:00\", \"2019-05-05T00:00:00\", \"2019-05-12T00:00:00\", \"2019-05-19T00:00:00\", \"2019-05-26T00:00:00\", \"2019-06-02T00:00:00\", \"2019-06-09T00:00:00\", \"2019-06-16T00:00:00\", \"2019-06-23T00:00:00\", \"2019-06-30T00:00:00\", \"2019-07-07T00:00:00\", \"2019-07-14T00:00:00\", \"2019-07-21T00:00:00\", \"2019-07-28T00:00:00\", \"2019-08-04T00:00:00\", \"2019-08-11T00:00:00\", \"2019-08-18T00:00:00\", \"2019-08-25T00:00:00\", \"2019-09-01T00:00:00\", \"2019-09-08T00:00:00\", \"2019-09-15T00:00:00\", \"2019-09-22T00:00:00\", \"2019-09-29T00:00:00\", \"2019-10-06T00:00:00\", \"2019-10-13T00:00:00\", \"2019-10-20T00:00:00\", \"2019-10-27T00:00:00\", \"2019-11-03T00:00:00\", \"2019-11-10T00:00:00\", \"2019-11-17T00:00:00\", \"2019-11-24T00:00:00\", \"2019-12-01T00:00:00\", \"2019-12-08T00:00:00\", \"2019-12-15T00:00:00\", \"2019-12-22T00:00:00\", \"2019-12-29T00:00:00\", \"2020-01-05T00:00:00\", \"2020-01-12T00:00:00\", \"2020-01-19T00:00:00\", \"2020-01-26T00:00:00\", \"2020-02-02T00:00:00\", \"2020-02-09T00:00:00\"], \"xaxis\": \"x\", \"y\": [10.01, 10.01, 10.01, 10.01, 10.01, 10.01, 10.01, 10.01, 10.01, 10.01, 10.01, 10.01, 10.01, 10.01, 10.01, 10.01, 10.01, 10.01, 10.01, 10.01, 10.01, 10.01, 10.01, 10.01, 10.01, 10.01, 10.01, 10.01, 10.01, 10.01, 10.01, 10.01, 10.01, 10.01, 10.01, 10.01, 10.01, 10.01, 10.01, 10.01, 10.01, 10.01, 10.01, 10.01, 10.01, 10.01, 10.01, 10.01, 10.01, 10.01, 10.01, 10.01, 10.01, 10.01, 10.01, 10.01, 10.01], \"yaxis\": \"y\"}, {\"line\": {\"color\": \"#FF5733\"}, \"name\": \"LSL C-Pitch\", \"type\": \"scatter\", \"x\": [\"2019-01-13T00:00:00\", \"2019-01-20T00:00:00\", \"2019-01-27T00:00:00\", \"2019-02-03T00:00:00\", \"2019-02-10T00:00:00\", \"2019-02-17T00:00:00\", \"2019-02-24T00:00:00\", \"2019-03-03T00:00:00\", \"2019-03-10T00:00:00\", \"2019-03-17T00:00:00\", \"2019-03-24T00:00:00\", \"2019-03-31T00:00:00\", \"2019-04-07T00:00:00\", \"2019-04-14T00:00:00\", \"2019-04-21T00:00:00\", \"2019-04-28T00:00:00\", \"2019-05-05T00:00:00\", \"2019-05-12T00:00:00\", \"2019-05-19T00:00:00\", \"2019-05-26T00:00:00\", \"2019-06-02T00:00:00\", \"2019-06-09T00:00:00\", \"2019-06-16T00:00:00\", \"2019-06-23T00:00:00\", \"2019-06-30T00:00:00\", \"2019-07-07T00:00:00\", \"2019-07-14T00:00:00\", \"2019-07-21T00:00:00\", \"2019-07-28T00:00:00\", \"2019-08-04T00:00:00\", \"2019-08-11T00:00:00\", \"2019-08-18T00:00:00\", \"2019-08-25T00:00:00\", \"2019-09-01T00:00:00\", \"2019-09-08T00:00:00\", \"2019-09-15T00:00:00\", \"2019-09-22T00:00:00\", \"2019-09-29T00:00:00\", \"2019-10-06T00:00:00\", \"2019-10-13T00:00:00\", \"2019-10-20T00:00:00\", \"2019-10-27T00:00:00\", \"2019-11-03T00:00:00\", \"2019-11-10T00:00:00\", \"2019-11-17T00:00:00\", \"2019-11-24T00:00:00\", \"2019-12-01T00:00:00\", \"2019-12-08T00:00:00\", \"2019-12-15T00:00:00\", \"2019-12-22T00:00:00\", \"2019-12-29T00:00:00\", \"2020-01-05T00:00:00\", \"2020-01-12T00:00:00\", \"2020-01-19T00:00:00\", \"2020-01-26T00:00:00\", \"2020-02-02T00:00:00\", \"2020-02-09T00:00:00\"], \"xaxis\": \"x\", \"y\": [9.99, 9.99, 9.99, 9.99, 9.99, 9.99, 9.99, 9.99, 9.99, 9.99, 9.99, 9.99, 9.99, 9.99, 9.99, 9.99, 9.99, 9.99, 9.99, 9.99, 9.99, 9.99, 9.99, 9.99, 9.99, 9.99, 9.99, 9.99, 9.99, 9.99, 9.99, 9.99, 9.99, 9.99, 9.99, 9.99, 9.99, 9.99, 9.99, 9.99, 9.99, 9.99, 9.99, 9.99, 9.99, 9.99, 9.99, 9.99, 9.99, 9.99, 9.99, 9.99, 9.99, 9.99, 9.99, 9.99, 9.99], \"yaxis\": \"y\"}, {\"line\": {\"color\": \"#FF5733\"}, \"name\": \"Nominal C-Pitch\", \"type\": \"scatter\", \"x\": [\"2019-01-13T00:00:00\", \"2019-01-20T00:00:00\", \"2019-01-27T00:00:00\", \"2019-02-03T00:00:00\", \"2019-02-10T00:00:00\", \"2019-02-17T00:00:00\", \"2019-02-24T00:00:00\", \"2019-03-03T00:00:00\", \"2019-03-10T00:00:00\", \"2019-03-17T00:00:00\", \"2019-03-24T00:00:00\", \"2019-03-31T00:00:00\", \"2019-04-07T00:00:00\", \"2019-04-14T00:00:00\", \"2019-04-21T00:00:00\", \"2019-04-28T00:00:00\", \"2019-05-05T00:00:00\", \"2019-05-12T00:00:00\", \"2019-05-19T00:00:00\", \"2019-05-26T00:00:00\", \"2019-06-02T00:00:00\", \"2019-06-09T00:00:00\", \"2019-06-16T00:00:00\", \"2019-06-23T00:00:00\", \"2019-06-30T00:00:00\", \"2019-07-07T00:00:00\", \"2019-07-14T00:00:00\", \"2019-07-21T00:00:00\", \"2019-07-28T00:00:00\", \"2019-08-04T00:00:00\", \"2019-08-11T00:00:00\", \"2019-08-18T00:00:00\", \"2019-08-25T00:00:00\", \"2019-09-01T00:00:00\", \"2019-09-08T00:00:00\", \"2019-09-15T00:00:00\", \"2019-09-22T00:00:00\", \"2019-09-29T00:00:00\", \"2019-10-06T00:00:00\", \"2019-10-13T00:00:00\", \"2019-10-20T00:00:00\", \"2019-10-27T00:00:00\", \"2019-11-03T00:00:00\", \"2019-11-10T00:00:00\", \"2019-11-17T00:00:00\", \"2019-11-24T00:00:00\", \"2019-12-01T00:00:00\", \"2019-12-08T00:00:00\", \"2019-12-15T00:00:00\", \"2019-12-22T00:00:00\", \"2019-12-29T00:00:00\", \"2020-01-05T00:00:00\", \"2020-01-12T00:00:00\", \"2020-01-19T00:00:00\", \"2020-01-26T00:00:00\", \"2020-02-02T00:00:00\", \"2020-02-09T00:00:00\"], \"xaxis\": \"x\", \"y\": [10.0, 10.0, 10.0, 10.0, 10.0, 10.0, 10.0, 10.0, 10.0, 10.0, 10.0, 10.0, 10.0, 10.0, 10.0, 10.0, 10.0, 10.0, 10.0, 10.0, 10.0, 10.0, 10.0, 10.0, 10.0, 10.0, 10.0, 10.0, 10.0, 10.0, 10.0, 10.0, 10.0, 10.0, 10.0, 10.0, 10.0, 10.0, 10.0, 10.0, 10.0, 10.0, 10.0, 10.0, 10.0, 10.0, 10.0, 10.0, 10.0, 10.0, 10.0, 10.0, 10.0, 10.0, 10.0, 10.0, 10.0], \"yaxis\": \"y\"}, {\"line\": {\"color\": \"#33C2FF\"}, \"name\": \"UCL C-Pitch\", \"type\": \"scatter\", \"x\": [\"2019-01-13T00:00:00\", \"2019-01-20T00:00:00\", \"2019-01-27T00:00:00\", \"2019-02-03T00:00:00\", \"2019-02-10T00:00:00\", \"2019-02-17T00:00:00\", \"2019-02-24T00:00:00\", \"2019-03-03T00:00:00\", \"2019-03-10T00:00:00\", \"2019-03-17T00:00:00\", \"2019-03-24T00:00:00\", \"2019-03-31T00:00:00\", \"2019-04-07T00:00:00\", \"2019-04-14T00:00:00\", \"2019-04-21T00:00:00\", \"2019-04-28T00:00:00\", \"2019-05-05T00:00:00\", \"2019-05-12T00:00:00\", \"2019-05-19T00:00:00\", \"2019-05-26T00:00:00\", \"2019-06-02T00:00:00\", \"2019-06-09T00:00:00\", \"2019-06-16T00:00:00\", \"2019-06-23T00:00:00\", \"2019-06-30T00:00:00\", \"2019-07-07T00:00:00\", \"2019-07-14T00:00:00\", \"2019-07-21T00:00:00\", \"2019-07-28T00:00:00\", \"2019-08-04T00:00:00\", \"2019-08-11T00:00:00\", \"2019-08-18T00:00:00\", \"2019-08-25T00:00:00\", \"2019-09-01T00:00:00\", \"2019-09-08T00:00:00\", \"2019-09-15T00:00:00\", \"2019-09-22T00:00:00\", \"2019-09-29T00:00:00\", \"2019-10-06T00:00:00\", \"2019-10-13T00:00:00\", \"2019-10-20T00:00:00\", \"2019-10-27T00:00:00\", \"2019-11-03T00:00:00\", \"2019-11-10T00:00:00\", \"2019-11-17T00:00:00\", \"2019-11-24T00:00:00\", \"2019-12-01T00:00:00\", \"2019-12-08T00:00:00\", \"2019-12-15T00:00:00\", \"2019-12-22T00:00:00\", \"2019-12-29T00:00:00\", \"2020-01-05T00:00:00\", \"2020-01-12T00:00:00\", \"2020-01-19T00:00:00\", \"2020-01-26T00:00:00\", \"2020-02-02T00:00:00\", \"2020-02-09T00:00:00\"], \"xaxis\": \"x\", \"y\": [10.006000767982567, 10.006000767982567, 10.006000767982567, 10.006000767982567, 10.006000767982567, 10.006000767982567, 10.006000767982567, 10.006000767982567, 10.006000767982567, 10.006000767982567, 10.006000767982567, 10.006000767982567, 10.006000767982567, 10.006000767982567, 10.006000767982567, 10.006000767982567, 10.006000767982567, 10.006000767982567, 10.006000767982567, 10.006000767982567, 10.006000767982567, 10.006000767982567, 10.006000767982567, 10.006000767982567, 10.006000767982567, 10.006000767982567, 10.006000767982567, 10.006000767982567, 10.006000767982567, 10.006000767982567, 10.006000767982567, 10.006000767982567, 10.006000767982567, 10.006000767982567, 10.006000767982567, 10.006000767982567, 10.006000767982567, 10.006000767982567, 10.006000767982567, 10.006000767982567, 10.006000767982567, 10.006000767982567, 10.006000767982567, 10.006000767982567, 10.006000767982567, 10.006000767982567, 10.006000767982567, 10.006000767982567, 10.006000767982567, 10.006000767982567, 10.006000767982567, 10.006000767982567, 10.006000767982567, 10.006000767982567, 10.006000767982567, 10.006000767982567, 10.006000767982567], \"yaxis\": \"y\"}, {\"line\": {\"color\": \"#33C2FF\"}, \"name\": \"LCL C-Pitch\", \"type\": \"scatter\", \"x\": [\"2019-01-13T00:00:00\", \"2019-01-20T00:00:00\", \"2019-01-27T00:00:00\", \"2019-02-03T00:00:00\", \"2019-02-10T00:00:00\", \"2019-02-17T00:00:00\", \"2019-02-24T00:00:00\", \"2019-03-03T00:00:00\", \"2019-03-10T00:00:00\", \"2019-03-17T00:00:00\", \"2019-03-24T00:00:00\", \"2019-03-31T00:00:00\", \"2019-04-07T00:00:00\", \"2019-04-14T00:00:00\", \"2019-04-21T00:00:00\", \"2019-04-28T00:00:00\", \"2019-05-05T00:00:00\", \"2019-05-12T00:00:00\", \"2019-05-19T00:00:00\", \"2019-05-26T00:00:00\", \"2019-06-02T00:00:00\", \"2019-06-09T00:00:00\", \"2019-06-16T00:00:00\", \"2019-06-23T00:00:00\", \"2019-06-30T00:00:00\", \"2019-07-07T00:00:00\", \"2019-07-14T00:00:00\", \"2019-07-21T00:00:00\", \"2019-07-28T00:00:00\", \"2019-08-04T00:00:00\", \"2019-08-11T00:00:00\", \"2019-08-18T00:00:00\", \"2019-08-25T00:00:00\", \"2019-09-01T00:00:00\", \"2019-09-08T00:00:00\", \"2019-09-15T00:00:00\", \"2019-09-22T00:00:00\", \"2019-09-29T00:00:00\", \"2019-10-06T00:00:00\", \"2019-10-13T00:00:00\", \"2019-10-20T00:00:00\", \"2019-10-27T00:00:00\", \"2019-11-03T00:00:00\", \"2019-11-10T00:00:00\", \"2019-11-17T00:00:00\", \"2019-11-24T00:00:00\", \"2019-12-01T00:00:00\", \"2019-12-08T00:00:00\", \"2019-12-15T00:00:00\", \"2019-12-22T00:00:00\", \"2019-12-29T00:00:00\", \"2020-01-05T00:00:00\", \"2020-01-12T00:00:00\", \"2020-01-19T00:00:00\", \"2020-01-26T00:00:00\", \"2020-02-02T00:00:00\", \"2020-02-09T00:00:00\"], \"xaxis\": \"x\", \"y\": [9.997142089160292, 9.997142089160292, 9.997142089160292, 9.997142089160292, 9.997142089160292, 9.997142089160292, 9.997142089160292, 9.997142089160292, 9.997142089160292, 9.997142089160292, 9.997142089160292, 9.997142089160292, 9.997142089160292, 9.997142089160292, 9.997142089160292, 9.997142089160292, 9.997142089160292, 9.997142089160292, 9.997142089160292, 9.997142089160292, 9.997142089160292, 9.997142089160292, 9.997142089160292, 9.997142089160292, 9.997142089160292, 9.997142089160292, 9.997142089160292, 9.997142089160292, 9.997142089160292, 9.997142089160292, 9.997142089160292, 9.997142089160292, 9.997142089160292, 9.997142089160292, 9.997142089160292, 9.997142089160292, 9.997142089160292, 9.997142089160292, 9.997142089160292, 9.997142089160292, 9.997142089160292, 9.997142089160292, 9.997142089160292, 9.997142089160292, 9.997142089160292, 9.997142089160292, 9.997142089160292, 9.997142089160292, 9.997142089160292, 9.997142089160292, 9.997142089160292, 9.997142089160292, 9.997142089160292, 9.997142089160292, 9.997142089160292, 9.997142089160292, 9.997142089160292], \"yaxis\": \"y\"}, {\"line\": {\"color\": \"#33C2FF\"}, \"name\": \"mean C-Pitch\", \"type\": \"scatter\", \"x\": [\"2019-01-13T00:00:00\", \"2019-01-20T00:00:00\", \"2019-01-27T00:00:00\", \"2019-02-03T00:00:00\", \"2019-02-10T00:00:00\", \"2019-02-17T00:00:00\", \"2019-02-24T00:00:00\", \"2019-03-03T00:00:00\", \"2019-03-10T00:00:00\", \"2019-03-17T00:00:00\", \"2019-03-24T00:00:00\", \"2019-03-31T00:00:00\", \"2019-04-07T00:00:00\", \"2019-04-14T00:00:00\", \"2019-04-21T00:00:00\", \"2019-04-28T00:00:00\", \"2019-05-05T00:00:00\", \"2019-05-12T00:00:00\", \"2019-05-19T00:00:00\", \"2019-05-26T00:00:00\", \"2019-06-02T00:00:00\", \"2019-06-09T00:00:00\", \"2019-06-16T00:00:00\", \"2019-06-23T00:00:00\", \"2019-06-30T00:00:00\", \"2019-07-07T00:00:00\", \"2019-07-14T00:00:00\", \"2019-07-21T00:00:00\", \"2019-07-28T00:00:00\", \"2019-08-04T00:00:00\", \"2019-08-11T00:00:00\", \"2019-08-18T00:00:00\", \"2019-08-25T00:00:00\", \"2019-09-01T00:00:00\", \"2019-09-08T00:00:00\", \"2019-09-15T00:00:00\", \"2019-09-22T00:00:00\", \"2019-09-29T00:00:00\", \"2019-10-06T00:00:00\", \"2019-10-13T00:00:00\", \"2019-10-20T00:00:00\", \"2019-10-27T00:00:00\", \"2019-11-03T00:00:00\", \"2019-11-10T00:00:00\", \"2019-11-17T00:00:00\", \"2019-11-24T00:00:00\", \"2019-12-01T00:00:00\", \"2019-12-08T00:00:00\", \"2019-12-15T00:00:00\", \"2019-12-22T00:00:00\", \"2019-12-29T00:00:00\", \"2020-01-05T00:00:00\", \"2020-01-12T00:00:00\", \"2020-01-19T00:00:00\", \"2020-01-26T00:00:00\", \"2020-02-02T00:00:00\", \"2020-02-09T00:00:00\"], \"xaxis\": \"x\", \"y\": [10.00157142857143, 10.00157142857143, 10.00157142857143, 10.00157142857143, 10.00157142857143, 10.00157142857143, 10.00157142857143, 10.00157142857143, 10.00157142857143, 10.00157142857143, 10.00157142857143, 10.00157142857143, 10.00157142857143, 10.00157142857143, 10.00157142857143, 10.00157142857143, 10.00157142857143, 10.00157142857143, 10.00157142857143, 10.00157142857143, 10.00157142857143, 10.00157142857143, 10.00157142857143, 10.00157142857143, 10.00157142857143, 10.00157142857143, 10.00157142857143, 10.00157142857143, 10.00157142857143, 10.00157142857143, 10.00157142857143, 10.00157142857143, 10.00157142857143, 10.00157142857143, 10.00157142857143, 10.00157142857143, 10.00157142857143, 10.00157142857143, 10.00157142857143, 10.00157142857143, 10.00157142857143, 10.00157142857143, 10.00157142857143, 10.00157142857143, 10.00157142857143, 10.00157142857143, 10.00157142857143, 10.00157142857143, 10.00157142857143, 10.00157142857143, 10.00157142857143, 10.00157142857143, 10.00157142857143, 10.00157142857143, 10.00157142857143, 10.00157142857143, 10.00157142857143], \"yaxis\": \"y\"}, {\"line\": {\"color\": \"#9FA0F8\"}, \"name\": \"yhat_upper C-Pitch\", \"type\": \"scatter\", \"x\": [\"2019-01-13T00:00:00\", \"2019-01-20T00:00:00\", \"2019-01-27T00:00:00\", \"2019-02-03T00:00:00\", \"2019-02-10T00:00:00\", \"2019-02-17T00:00:00\", \"2019-02-24T00:00:00\", \"2019-03-03T00:00:00\", \"2019-03-10T00:00:00\", \"2019-03-17T00:00:00\", \"2019-03-24T00:00:00\", \"2019-03-31T00:00:00\", \"2019-04-07T00:00:00\", \"2019-04-14T00:00:00\", \"2019-04-21T00:00:00\", \"2019-04-28T00:00:00\", \"2019-05-05T00:00:00\", \"2019-05-12T00:00:00\", \"2019-05-19T00:00:00\", \"2019-05-26T00:00:00\", \"2019-06-02T00:00:00\", \"2019-06-09T00:00:00\", \"2019-06-16T00:00:00\", \"2019-06-23T00:00:00\", \"2019-06-30T00:00:00\", \"2019-07-07T00:00:00\", \"2019-07-14T00:00:00\", \"2019-07-21T00:00:00\", \"2019-07-28T00:00:00\", \"2019-08-04T00:00:00\", \"2019-08-11T00:00:00\", \"2019-08-18T00:00:00\", \"2019-08-25T00:00:00\", \"2019-09-01T00:00:00\", \"2019-09-08T00:00:00\", \"2019-09-15T00:00:00\", \"2019-09-22T00:00:00\", \"2019-09-29T00:00:00\", \"2019-10-06T00:00:00\", \"2019-10-13T00:00:00\", \"2019-10-20T00:00:00\", \"2019-10-27T00:00:00\", \"2019-11-03T00:00:00\", \"2019-11-10T00:00:00\", \"2019-11-17T00:00:00\", \"2019-11-24T00:00:00\", \"2019-12-01T00:00:00\", \"2019-12-08T00:00:00\", \"2019-12-15T00:00:00\", \"2019-12-22T00:00:00\", \"2019-12-29T00:00:00\", \"2020-01-05T00:00:00\", \"2020-01-12T00:00:00\", \"2020-01-19T00:00:00\", \"2020-01-26T00:00:00\", \"2020-02-02T00:00:00\", \"2020-02-09T00:00:00\"], \"xaxis\": \"x\", \"y\": [10.005313883657639, 10.004484974852888, 10.003408699062428, 10.003801295469566, 10.0039573113183, 10.003998270948262, 10.003455605489263, 10.003117263905686, 10.002674862424106, 10.000437760432055, 9.99830961443402, 9.999741584473298, 10.0017009344871, 10.003608329614504, 10.003905559388059, 10.003976497173824, 10.004020847519445, 10.004066713994971, 10.004019612124365, 10.004489996434717, 10.003651455840338, 10.002576440596522, 10.001545193772934, 10.00239702942283, 10.003147834968708, 10.003114088471655, 10.003145533997047, 10.002899988123376, 10.002887193799596, 10.00290140842306, 10.002262187640312, 10.001718866438267, 10.00110098817014, 10.001991420237717, 10.002839389881837, 10.003012922241876, 10.003052124062595, 10.003106637315783, 10.003064826345735, 10.002274709766063, 10.001363025056346, 10.001597282344541, 10.001643406852518, 10.0018486219677, 10.001990195791443, 10.002137128147806, 10.002261862474953, 10.002436140430436, 10.002566702744998, 10.002723230273148, 10.002863961909823, 10.002989765456501, 10.003245733025489, 10.003753998246683, 10.004872750517723, 10.00643598579417, 10.008153471664686], \"yaxis\": \"y\"}, {\"fill\": \"tonexty\", \"line\": {\"color\": \"#9FA0F8\"}, \"name\": \"yhat_lower C-Pitch\", \"type\": \"scatter\", \"x\": [\"2019-01-13T00:00:00\", \"2019-01-20T00:00:00\", \"2019-01-27T00:00:00\", \"2019-02-03T00:00:00\", \"2019-02-10T00:00:00\", \"2019-02-17T00:00:00\", \"2019-02-24T00:00:00\", \"2019-03-03T00:00:00\", \"2019-03-10T00:00:00\", \"2019-03-17T00:00:00\", \"2019-03-24T00:00:00\", \"2019-03-31T00:00:00\", \"2019-04-07T00:00:00\", \"2019-04-14T00:00:00\", \"2019-04-21T00:00:00\", \"2019-04-28T00:00:00\", \"2019-05-05T00:00:00\", \"2019-05-12T00:00:00\", \"2019-05-19T00:00:00\", \"2019-05-26T00:00:00\", \"2019-06-02T00:00:00\", \"2019-06-09T00:00:00\", \"2019-06-16T00:00:00\", \"2019-06-23T00:00:00\", \"2019-06-30T00:00:00\", \"2019-07-07T00:00:00\", \"2019-07-14T00:00:00\", \"2019-07-21T00:00:00\", \"2019-07-28T00:00:00\", \"2019-08-04T00:00:00\", \"2019-08-11T00:00:00\", \"2019-08-18T00:00:00\", \"2019-08-25T00:00:00\", \"2019-09-01T00:00:00\", \"2019-09-08T00:00:00\", \"2019-09-15T00:00:00\", \"2019-09-22T00:00:00\", \"2019-09-29T00:00:00\", \"2019-10-06T00:00:00\", \"2019-10-13T00:00:00\", \"2019-10-20T00:00:00\", \"2019-10-27T00:00:00\", \"2019-11-03T00:00:00\", \"2019-11-10T00:00:00\", \"2019-11-17T00:00:00\", \"2019-11-24T00:00:00\", \"2019-12-01T00:00:00\", \"2019-12-08T00:00:00\", \"2019-12-15T00:00:00\", \"2019-12-22T00:00:00\", \"2019-12-29T00:00:00\", \"2020-01-05T00:00:00\", \"2020-01-12T00:00:00\", \"2020-01-19T00:00:00\", \"2020-01-26T00:00:00\", \"2020-02-02T00:00:00\", \"2020-02-09T00:00:00\"], \"xaxis\": \"x\", \"y\": [10.003274480066217, 10.002428547158049, 10.001442540008954, 10.001866037340099, 10.001933139427546, 10.00202007215114, 10.00156505782724, 10.001087816146482, 10.000645441687185, 9.998523694354208, 9.996359095959741, 9.997756999738117, 9.999701121367766, 10.001610955243263, 10.001985037450984, 10.001930309058883, 10.002057256298283, 10.00204808018985, 10.002127550168519, 10.00250029453484, 10.001644335971328, 10.000574720517923, 9.999587568643278, 10.000326130879406, 10.001246737548422, 10.00112183318297, 10.00108760113967, 10.000920968795457, 10.000939885297187, 10.000913550532847, 10.000325989212804, 9.999762960423489, 9.999151218281002, 9.999957901002452, 10.000890539791351, 10.000993467054538, 10.00103701156458, 10.001152871260652, 10.001175612336336, 10.000275628678095, 9.999426586116737, 9.9996077584536, 9.99968190724846, 9.999915005967726, 10.0000019371023, 10.000119825779306, 10.00028424896516, 10.000425983034265, 10.000637338615267, 10.000794767116082, 10.000838492053772, 10.001013212852133, 10.001097667318545, 10.000904615057062, 10.000166795584482, 9.998682755648744, 9.99726002104819], \"yaxis\": \"y\"}, {\"line\": {\"color\": \"#4280F5\"}, \"mode\": \"lines+markers\", \"name\": \"mean J\", \"type\": \"scatter\", \"x\": [\"2019-01-11T00:00:00\", \"2019-01-22T00:00:00\", \"2019-01-26T00:00:00\", \"2019-01-31T00:00:00\", \"2019-02-11T00:00:00\", \"2019-02-22T00:00:00\", \"2019-02-27T00:00:00\", \"2019-03-07T00:00:00\", \"2019-03-15T00:00:00\", \"2019-04-05T00:00:00\", \"2019-04-16T00:00:00\", \"2019-05-27T00:00:00\", \"2019-06-03T00:00:00\", \"2019-06-10T00:00:00\", \"2019-06-17T00:00:00\", \"2019-06-25T00:00:00\", \"2019-06-28T00:00:00\", \"2019-08-07T00:00:00\", \"2019-08-19T00:00:00\", \"2019-08-26T00:00:00\", \"2019-09-05T00:00:00\", \"2019-10-17T00:00:00\", \"2019-11-01T00:00:00\", \"2019-11-13T00:00:00\", \"2019-12-05T00:00:00\", \"2019-12-10T00:00:00\", \"2019-12-26T00:00:00\", \"2019-12-31T00:00:00\"], \"xaxis\": \"x2\", \"y\": [1.219, 1.219, 1.22, 1.22, 1.22, 1.22, 1.22, 1.22, 1.219, 1.22, 1.22, 1.22, 1.22, 1.22, 1.218, 1.219, 1.218, 1.217, 1.217, 1.219, 1.218, 1.22, 1.22, 1.219, 1.219, 1.22, 1.219, 1.218], \"yaxis\": \"y2\"}, {\"line\": {\"color\": \"#060891\"}, \"mode\": \"lines+markers\", \"name\": \"mean predict J\", \"type\": \"scatter\", \"x\": [\"2019-01-13T00:00:00\", \"2019-01-20T00:00:00\", \"2019-01-27T00:00:00\", \"2019-02-03T00:00:00\", \"2019-02-10T00:00:00\", \"2019-02-17T00:00:00\", \"2019-02-24T00:00:00\", \"2019-03-03T00:00:00\", \"2019-03-10T00:00:00\", \"2019-03-17T00:00:00\", \"2019-03-24T00:00:00\", \"2019-03-31T00:00:00\", \"2019-04-07T00:00:00\", \"2019-04-14T00:00:00\", \"2019-04-21T00:00:00\", \"2019-04-28T00:00:00\", \"2019-05-05T00:00:00\", \"2019-05-12T00:00:00\", \"2019-05-19T00:00:00\", \"2019-05-26T00:00:00\", \"2019-06-02T00:00:00\", \"2019-06-09T00:00:00\", \"2019-06-16T00:00:00\", \"2019-06-23T00:00:00\", \"2019-06-30T00:00:00\", \"2019-07-07T00:00:00\", \"2019-07-14T00:00:00\", \"2019-07-21T00:00:00\", \"2019-07-28T00:00:00\", \"2019-08-04T00:00:00\", \"2019-08-11T00:00:00\", \"2019-08-18T00:00:00\", \"2019-08-25T00:00:00\", \"2019-09-01T00:00:00\", \"2019-09-08T00:00:00\", \"2019-09-15T00:00:00\", \"2019-09-22T00:00:00\", \"2019-09-29T00:00:00\", \"2019-10-06T00:00:00\", \"2019-10-13T00:00:00\", \"2019-10-20T00:00:00\", \"2019-10-27T00:00:00\", \"2019-11-03T00:00:00\", \"2019-11-10T00:00:00\", \"2019-11-17T00:00:00\", \"2019-11-24T00:00:00\", \"2019-12-01T00:00:00\", \"2019-12-08T00:00:00\", \"2019-12-15T00:00:00\", \"2019-12-22T00:00:00\", \"2019-12-29T00:00:00\", \"2020-01-05T00:00:00\", \"2020-01-12T00:00:00\", \"2020-01-19T00:00:00\", \"2020-01-26T00:00:00\", \"2020-02-02T00:00:00\", \"2020-02-09T00:00:00\"], \"xaxis\": \"x2\", \"y\": [1.218889643189248, 1.219333443129896, 1.2197772430705445, 1.2199892832670332, 1.2200049135667, 1.2200205438663667, 1.2200358690044122, 1.2198988013527143, 1.2197617337010163, 1.2193498296496132, 1.21893792559821, 1.2192880378537865, 1.21965342193853, 1.2200188060232737, 1.2200182821754348, 1.2200150041935554, 1.2200117262116756, 1.2200084477270157, 1.2200051692423557, 1.2200018903618168, 1.2199940391114483, 1.21998618786108, 1.2195306377321997, 1.2187104809128062, 1.2178903240934127, 1.217930465733705, 1.217970607373997, 1.2180107486663938, 1.2179129278671672, 1.2178151070679406, 1.2170794853047375, 1.2172979789078464, 1.2175164725109555, 1.2178964142334807, 1.2182763559560064, 1.2181524323091595, 1.2180285086551221, 1.217904585001085, 1.2177806617055114, 1.2188175579803089, 1.2198544542551066, 1.2197669424177446, 1.2196794305803829, 1.2195919187430206, 1.2195044069056589, 1.2194168950682969, 1.2193293832309349, 1.219241871393573, 1.219154359556211, 1.2190668477188493, 1.2189793358814873, 1.2188918240441253, 1.2188043122067633, 1.2187168003694013, 1.2186292885320396, 1.2185417766946776, 1.2184542648573156], \"yaxis\": \"y2\"}, {\"line\": {\"color\": \"#FF5733\"}, \"name\": \"USL J\", \"type\": \"scatter\", \"x\": [\"2019-01-13T00:00:00\", \"2019-01-20T00:00:00\", \"2019-01-27T00:00:00\", \"2019-02-03T00:00:00\", \"2019-02-10T00:00:00\", \"2019-02-17T00:00:00\", \"2019-02-24T00:00:00\", \"2019-03-03T00:00:00\", \"2019-03-10T00:00:00\", \"2019-03-17T00:00:00\", \"2019-03-24T00:00:00\", \"2019-03-31T00:00:00\", \"2019-04-07T00:00:00\", \"2019-04-14T00:00:00\", \"2019-04-21T00:00:00\", \"2019-04-28T00:00:00\", \"2019-05-05T00:00:00\", \"2019-05-12T00:00:00\", \"2019-05-19T00:00:00\", \"2019-05-26T00:00:00\", \"2019-06-02T00:00:00\", \"2019-06-09T00:00:00\", \"2019-06-16T00:00:00\", \"2019-06-23T00:00:00\", \"2019-06-30T00:00:00\", \"2019-07-07T00:00:00\", \"2019-07-14T00:00:00\", \"2019-07-21T00:00:00\", \"2019-07-28T00:00:00\", \"2019-08-04T00:00:00\", \"2019-08-11T00:00:00\", \"2019-08-18T00:00:00\", \"2019-08-25T00:00:00\", \"2019-09-01T00:00:00\", \"2019-09-08T00:00:00\", \"2019-09-15T00:00:00\", \"2019-09-22T00:00:00\", \"2019-09-29T00:00:00\", \"2019-10-06T00:00:00\", \"2019-10-13T00:00:00\", \"2019-10-20T00:00:00\", \"2019-10-27T00:00:00\", \"2019-11-03T00:00:00\", \"2019-11-10T00:00:00\", \"2019-11-17T00:00:00\", \"2019-11-24T00:00:00\", \"2019-12-01T00:00:00\", \"2019-12-08T00:00:00\", \"2019-12-15T00:00:00\", \"2019-12-22T00:00:00\", \"2019-12-29T00:00:00\", \"2020-01-05T00:00:00\", \"2020-01-12T00:00:00\", \"2020-01-19T00:00:00\", \"2020-01-26T00:00:00\", \"2020-02-02T00:00:00\", \"2020-02-09T00:00:00\"], \"xaxis\": \"x2\", \"y\": [1.22, 1.22, 1.22, 1.22, 1.22, 1.22, 1.22, 1.22, 1.22, 1.22, 1.22, 1.22, 1.22, 1.22, 1.22, 1.22, 1.22, 1.22, 1.22, 1.22, 1.22, 1.22, 1.22, 1.22, 1.22, 1.22, 1.22, 1.22, 1.22, 1.22, 1.22, 1.22, 1.22, 1.22, 1.22, 1.22, 1.22, 1.22, 1.22, 1.22, 1.22, 1.22, 1.22, 1.22, 1.22, 1.22, 1.22, 1.22, 1.22, 1.22, 1.22, 1.22, 1.22, 1.22, 1.22, 1.22, 1.22], \"yaxis\": \"y2\"}, {\"line\": {\"color\": \"#FF5733\"}, \"name\": \"LSL J\", \"type\": \"scatter\", \"x\": [\"2019-01-13T00:00:00\", \"2019-01-20T00:00:00\", \"2019-01-27T00:00:00\", \"2019-02-03T00:00:00\", \"2019-02-10T00:00:00\", \"2019-02-17T00:00:00\", \"2019-02-24T00:00:00\", \"2019-03-03T00:00:00\", \"2019-03-10T00:00:00\", \"2019-03-17T00:00:00\", \"2019-03-24T00:00:00\", \"2019-03-31T00:00:00\", \"2019-04-07T00:00:00\", \"2019-04-14T00:00:00\", \"2019-04-21T00:00:00\", \"2019-04-28T00:00:00\", \"2019-05-05T00:00:00\", \"2019-05-12T00:00:00\", \"2019-05-19T00:00:00\", \"2019-05-26T00:00:00\", \"2019-06-02T00:00:00\", \"2019-06-09T00:00:00\", \"2019-06-16T00:00:00\", \"2019-06-23T00:00:00\", \"2019-06-30T00:00:00\", \"2019-07-07T00:00:00\", \"2019-07-14T00:00:00\", \"2019-07-21T00:00:00\", \"2019-07-28T00:00:00\", \"2019-08-04T00:00:00\", \"2019-08-11T00:00:00\", \"2019-08-18T00:00:00\", \"2019-08-25T00:00:00\", \"2019-09-01T00:00:00\", \"2019-09-08T00:00:00\", \"2019-09-15T00:00:00\", \"2019-09-22T00:00:00\", \"2019-09-29T00:00:00\", \"2019-10-06T00:00:00\", \"2019-10-13T00:00:00\", \"2019-10-20T00:00:00\", \"2019-10-27T00:00:00\", \"2019-11-03T00:00:00\", \"2019-11-10T00:00:00\", \"2019-11-17T00:00:00\", \"2019-11-24T00:00:00\", \"2019-12-01T00:00:00\", \"2019-12-08T00:00:00\", \"2019-12-15T00:00:00\", \"2019-12-22T00:00:00\", \"2019-12-29T00:00:00\", \"2020-01-05T00:00:00\", \"2020-01-12T00:00:00\", \"2020-01-19T00:00:00\", \"2020-01-26T00:00:00\", \"2020-02-02T00:00:00\", \"2020-02-09T00:00:00\"], \"xaxis\": \"x2\", \"y\": [1.21, 1.21, 1.21, 1.21, 1.21, 1.21, 1.21, 1.21, 1.21, 1.21, 1.21, 1.21, 1.21, 1.21, 1.21, 1.21, 1.21, 1.21, 1.21, 1.21, 1.21, 1.21, 1.21, 1.21, 1.21, 1.21, 1.21, 1.21, 1.21, 1.21, 1.21, 1.21, 1.21, 1.21, 1.21, 1.21, 1.21, 1.21, 1.21, 1.21, 1.21, 1.21, 1.21, 1.21, 1.21, 1.21, 1.21, 1.21, 1.21, 1.21, 1.21, 1.21, 1.21, 1.21, 1.21, 1.21, 1.21], \"yaxis\": \"y2\"}, {\"line\": {\"color\": \"#FF5733\"}, \"name\": \"Nominal J\", \"type\": \"scatter\", \"x\": [\"2019-01-13T00:00:00\", \"2019-01-20T00:00:00\", \"2019-01-27T00:00:00\", \"2019-02-03T00:00:00\", \"2019-02-10T00:00:00\", \"2019-02-17T00:00:00\", \"2019-02-24T00:00:00\", \"2019-03-03T00:00:00\", \"2019-03-10T00:00:00\", \"2019-03-17T00:00:00\", \"2019-03-24T00:00:00\", \"2019-03-31T00:00:00\", \"2019-04-07T00:00:00\", \"2019-04-14T00:00:00\", \"2019-04-21T00:00:00\", \"2019-04-28T00:00:00\", \"2019-05-05T00:00:00\", \"2019-05-12T00:00:00\", \"2019-05-19T00:00:00\", \"2019-05-26T00:00:00\", \"2019-06-02T00:00:00\", \"2019-06-09T00:00:00\", \"2019-06-16T00:00:00\", \"2019-06-23T00:00:00\", \"2019-06-30T00:00:00\", \"2019-07-07T00:00:00\", \"2019-07-14T00:00:00\", \"2019-07-21T00:00:00\", \"2019-07-28T00:00:00\", \"2019-08-04T00:00:00\", \"2019-08-11T00:00:00\", \"2019-08-18T00:00:00\", \"2019-08-25T00:00:00\", \"2019-09-01T00:00:00\", \"2019-09-08T00:00:00\", \"2019-09-15T00:00:00\", \"2019-09-22T00:00:00\", \"2019-09-29T00:00:00\", \"2019-10-06T00:00:00\", \"2019-10-13T00:00:00\", \"2019-10-20T00:00:00\", \"2019-10-27T00:00:00\", \"2019-11-03T00:00:00\", \"2019-11-10T00:00:00\", \"2019-11-17T00:00:00\", \"2019-11-24T00:00:00\", \"2019-12-01T00:00:00\", \"2019-12-08T00:00:00\", \"2019-12-15T00:00:00\", \"2019-12-22T00:00:00\", \"2019-12-29T00:00:00\", \"2020-01-05T00:00:00\", \"2020-01-12T00:00:00\", \"2020-01-19T00:00:00\", \"2020-01-26T00:00:00\", \"2020-02-02T00:00:00\", \"2020-02-09T00:00:00\"], \"xaxis\": \"x2\", \"y\": [1.21, 1.21, 1.21, 1.21, 1.21, 1.21, 1.21, 1.21, 1.21, 1.21, 1.21, 1.21, 1.21, 1.21, 1.21, 1.21, 1.21, 1.21, 1.21, 1.21, 1.21, 1.21, 1.21, 1.21, 1.21, 1.21, 1.21, 1.21, 1.21, 1.21, 1.21, 1.21, 1.21, 1.21, 1.21, 1.21, 1.21, 1.21, 1.21, 1.21, 1.21, 1.21, 1.21, 1.21, 1.21, 1.21, 1.21, 1.21, 1.21, 1.21, 1.21, 1.21, 1.21, 1.21, 1.21, 1.21, 1.21], \"yaxis\": \"y2\"}, {\"line\": {\"color\": \"#33C2FF\"}, \"name\": \"UCL J\", \"type\": \"scatter\", \"x\": [\"2019-01-13T00:00:00\", \"2019-01-20T00:00:00\", \"2019-01-27T00:00:00\", \"2019-02-03T00:00:00\", \"2019-02-10T00:00:00\", \"2019-02-17T00:00:00\", \"2019-02-24T00:00:00\", \"2019-03-03T00:00:00\", \"2019-03-10T00:00:00\", \"2019-03-17T00:00:00\", \"2019-03-24T00:00:00\", \"2019-03-31T00:00:00\", \"2019-04-07T00:00:00\", \"2019-04-14T00:00:00\", \"2019-04-21T00:00:00\", \"2019-04-28T00:00:00\", \"2019-05-05T00:00:00\", \"2019-05-12T00:00:00\", \"2019-05-19T00:00:00\", \"2019-05-26T00:00:00\", \"2019-06-02T00:00:00\", \"2019-06-09T00:00:00\", \"2019-06-16T00:00:00\", \"2019-06-23T00:00:00\", \"2019-06-30T00:00:00\", \"2019-07-07T00:00:00\", \"2019-07-14T00:00:00\", \"2019-07-21T00:00:00\", \"2019-07-28T00:00:00\", \"2019-08-04T00:00:00\", \"2019-08-11T00:00:00\", \"2019-08-18T00:00:00\", \"2019-08-25T00:00:00\", \"2019-09-01T00:00:00\", \"2019-09-08T00:00:00\", \"2019-09-15T00:00:00\", \"2019-09-22T00:00:00\", \"2019-09-29T00:00:00\", \"2019-10-06T00:00:00\", \"2019-10-13T00:00:00\", \"2019-10-20T00:00:00\", \"2019-10-27T00:00:00\", \"2019-11-03T00:00:00\", \"2019-11-10T00:00:00\", \"2019-11-17T00:00:00\", \"2019-11-24T00:00:00\", \"2019-12-01T00:00:00\", \"2019-12-08T00:00:00\", \"2019-12-15T00:00:00\", \"2019-12-22T00:00:00\", \"2019-12-29T00:00:00\", \"2020-01-05T00:00:00\", \"2020-01-12T00:00:00\", \"2020-01-19T00:00:00\", \"2020-01-26T00:00:00\", \"2020-02-02T00:00:00\", \"2020-02-09T00:00:00\"], \"xaxis\": \"x2\", \"y\": [1.2220844939363658, 1.2220844939363658, 1.2220844939363658, 1.2220844939363658, 1.2220844939363658, 1.2220844939363658, 1.2220844939363658, 1.2220844939363658, 1.2220844939363658, 1.2220844939363658, 1.2220844939363658, 1.2220844939363658, 1.2220844939363658, 1.2220844939363658, 1.2220844939363658, 1.2220844939363658, 1.2220844939363658, 1.2220844939363658, 1.2220844939363658, 1.2220844939363658, 1.2220844939363658, 1.2220844939363658, 1.2220844939363658, 1.2220844939363658, 1.2220844939363658, 1.2220844939363658, 1.2220844939363658, 1.2220844939363658, 1.2220844939363658, 1.2220844939363658, 1.2220844939363658, 1.2220844939363658, 1.2220844939363658, 1.2220844939363658, 1.2220844939363658, 1.2220844939363658, 1.2220844939363658, 1.2220844939363658, 1.2220844939363658, 1.2220844939363658, 1.2220844939363658, 1.2220844939363658, 1.2220844939363658, 1.2220844939363658, 1.2220844939363658, 1.2220844939363658, 1.2220844939363658, 1.2220844939363658, 1.2220844939363658, 1.2220844939363658, 1.2220844939363658, 1.2220844939363658, 1.2220844939363658, 1.2220844939363658, 1.2220844939363658, 1.2220844939363658, 1.2220844939363658], \"yaxis\": \"y2\"}, {\"line\": {\"color\": \"#33C2FF\"}, \"name\": \"LCL J\", \"type\": \"scatter\", \"x\": [\"2019-01-13T00:00:00\", \"2019-01-20T00:00:00\", \"2019-01-27T00:00:00\", \"2019-02-03T00:00:00\", \"2019-02-10T00:00:00\", \"2019-02-17T00:00:00\", \"2019-02-24T00:00:00\", \"2019-03-03T00:00:00\", \"2019-03-10T00:00:00\", \"2019-03-17T00:00:00\", \"2019-03-24T00:00:00\", \"2019-03-31T00:00:00\", \"2019-04-07T00:00:00\", \"2019-04-14T00:00:00\", \"2019-04-21T00:00:00\", \"2019-04-28T00:00:00\", \"2019-05-05T00:00:00\", \"2019-05-12T00:00:00\", \"2019-05-19T00:00:00\", \"2019-05-26T00:00:00\", \"2019-06-02T00:00:00\", \"2019-06-09T00:00:00\", \"2019-06-16T00:00:00\", \"2019-06-23T00:00:00\", \"2019-06-30T00:00:00\", \"2019-07-07T00:00:00\", \"2019-07-14T00:00:00\", \"2019-07-21T00:00:00\", \"2019-07-28T00:00:00\", \"2019-08-04T00:00:00\", \"2019-08-11T00:00:00\", \"2019-08-18T00:00:00\", \"2019-08-25T00:00:00\", \"2019-09-01T00:00:00\", \"2019-09-08T00:00:00\", \"2019-09-15T00:00:00\", \"2019-09-22T00:00:00\", \"2019-09-29T00:00:00\", \"2019-10-06T00:00:00\", \"2019-10-13T00:00:00\", \"2019-10-20T00:00:00\", \"2019-10-27T00:00:00\", \"2019-11-03T00:00:00\", \"2019-11-10T00:00:00\", \"2019-11-17T00:00:00\", \"2019-11-24T00:00:00\", \"2019-12-01T00:00:00\", \"2019-12-08T00:00:00\", \"2019-12-15T00:00:00\", \"2019-12-22T00:00:00\", \"2019-12-29T00:00:00\", \"2020-01-05T00:00:00\", \"2020-01-12T00:00:00\", \"2020-01-19T00:00:00\", \"2020-01-26T00:00:00\", \"2020-02-02T00:00:00\", \"2020-02-09T00:00:00\"], \"xaxis\": \"x2\", \"y\": [1.2163440774922059, 1.2163440774922059, 1.2163440774922059, 1.2163440774922059, 1.2163440774922059, 1.2163440774922059, 1.2163440774922059, 1.2163440774922059, 1.2163440774922059, 1.2163440774922059, 1.2163440774922059, 1.2163440774922059, 1.2163440774922059, 1.2163440774922059, 1.2163440774922059, 1.2163440774922059, 1.2163440774922059, 1.2163440774922059, 1.2163440774922059, 1.2163440774922059, 1.2163440774922059, 1.2163440774922059, 1.2163440774922059, 1.2163440774922059, 1.2163440774922059, 1.2163440774922059, 1.2163440774922059, 1.2163440774922059, 1.2163440774922059, 1.2163440774922059, 1.2163440774922059, 1.2163440774922059, 1.2163440774922059, 1.2163440774922059, 1.2163440774922059, 1.2163440774922059, 1.2163440774922059, 1.2163440774922059, 1.2163440774922059, 1.2163440774922059, 1.2163440774922059, 1.2163440774922059, 1.2163440774922059, 1.2163440774922059, 1.2163440774922059, 1.2163440774922059, 1.2163440774922059, 1.2163440774922059, 1.2163440774922059, 1.2163440774922059, 1.2163440774922059, 1.2163440774922059, 1.2163440774922059, 1.2163440774922059, 1.2163440774922059, 1.2163440774922059, 1.2163440774922059], \"yaxis\": \"y2\"}, {\"line\": {\"color\": \"#33C2FF\"}, \"name\": \"mean J\", \"type\": \"scatter\", \"x\": [\"2019-01-13T00:00:00\", \"2019-01-20T00:00:00\", \"2019-01-27T00:00:00\", \"2019-02-03T00:00:00\", \"2019-02-10T00:00:00\", \"2019-02-17T00:00:00\", \"2019-02-24T00:00:00\", \"2019-03-03T00:00:00\", \"2019-03-10T00:00:00\", \"2019-03-17T00:00:00\", \"2019-03-24T00:00:00\", \"2019-03-31T00:00:00\", \"2019-04-07T00:00:00\", \"2019-04-14T00:00:00\", \"2019-04-21T00:00:00\", \"2019-04-28T00:00:00\", \"2019-05-05T00:00:00\", \"2019-05-12T00:00:00\", \"2019-05-19T00:00:00\", \"2019-05-26T00:00:00\", \"2019-06-02T00:00:00\", \"2019-06-09T00:00:00\", \"2019-06-16T00:00:00\", \"2019-06-23T00:00:00\", \"2019-06-30T00:00:00\", \"2019-07-07T00:00:00\", \"2019-07-14T00:00:00\", \"2019-07-21T00:00:00\", \"2019-07-28T00:00:00\", \"2019-08-04T00:00:00\", \"2019-08-11T00:00:00\", \"2019-08-18T00:00:00\", \"2019-08-25T00:00:00\", \"2019-09-01T00:00:00\", \"2019-09-08T00:00:00\", \"2019-09-15T00:00:00\", \"2019-09-22T00:00:00\", \"2019-09-29T00:00:00\", \"2019-10-06T00:00:00\", \"2019-10-13T00:00:00\", \"2019-10-20T00:00:00\", \"2019-10-27T00:00:00\", \"2019-11-03T00:00:00\", \"2019-11-10T00:00:00\", \"2019-11-17T00:00:00\", \"2019-11-24T00:00:00\", \"2019-12-01T00:00:00\", \"2019-12-08T00:00:00\", \"2019-12-15T00:00:00\", \"2019-12-22T00:00:00\", \"2019-12-29T00:00:00\", \"2020-01-05T00:00:00\", \"2020-01-12T00:00:00\", \"2020-01-19T00:00:00\", \"2020-01-26T00:00:00\", \"2020-02-02T00:00:00\", \"2020-02-09T00:00:00\"], \"xaxis\": \"x2\", \"y\": [1.2192142857142858, 1.2192142857142858, 1.2192142857142858, 1.2192142857142858, 1.2192142857142858, 1.2192142857142858, 1.2192142857142858, 1.2192142857142858, 1.2192142857142858, 1.2192142857142858, 1.2192142857142858, 1.2192142857142858, 1.2192142857142858, 1.2192142857142858, 1.2192142857142858, 1.2192142857142858, 1.2192142857142858, 1.2192142857142858, 1.2192142857142858, 1.2192142857142858, 1.2192142857142858, 1.2192142857142858, 1.2192142857142858, 1.2192142857142858, 1.2192142857142858, 1.2192142857142858, 1.2192142857142858, 1.2192142857142858, 1.2192142857142858, 1.2192142857142858, 1.2192142857142858, 1.2192142857142858, 1.2192142857142858, 1.2192142857142858, 1.2192142857142858, 1.2192142857142858, 1.2192142857142858, 1.2192142857142858, 1.2192142857142858, 1.2192142857142858, 1.2192142857142858, 1.2192142857142858, 1.2192142857142858, 1.2192142857142858, 1.2192142857142858, 1.2192142857142858, 1.2192142857142858, 1.2192142857142858, 1.2192142857142858, 1.2192142857142858, 1.2192142857142858, 1.2192142857142858, 1.2192142857142858, 1.2192142857142858, 1.2192142857142858, 1.2192142857142858, 1.2192142857142858], \"yaxis\": \"y2\"}, {\"line\": {\"color\": \"#9FA0F8\"}, \"name\": \"yhat_upper J\", \"type\": \"scatter\", \"x\": [\"2019-01-13T00:00:00\", \"2019-01-20T00:00:00\", \"2019-01-27T00:00:00\", \"2019-02-03T00:00:00\", \"2019-02-10T00:00:00\", \"2019-02-17T00:00:00\", \"2019-02-24T00:00:00\", \"2019-03-03T00:00:00\", \"2019-03-10T00:00:00\", \"2019-03-17T00:00:00\", \"2019-03-24T00:00:00\", \"2019-03-31T00:00:00\", \"2019-04-07T00:00:00\", \"2019-04-14T00:00:00\", \"2019-04-21T00:00:00\", \"2019-04-28T00:00:00\", \"2019-05-05T00:00:00\", \"2019-05-12T00:00:00\", \"2019-05-19T00:00:00\", \"2019-05-26T00:00:00\", \"2019-06-02T00:00:00\", \"2019-06-09T00:00:00\", \"2019-06-16T00:00:00\", \"2019-06-23T00:00:00\", \"2019-06-30T00:00:00\", \"2019-07-07T00:00:00\", \"2019-07-14T00:00:00\", \"2019-07-21T00:00:00\", \"2019-07-28T00:00:00\", \"2019-08-04T00:00:00\", \"2019-08-11T00:00:00\", \"2019-08-18T00:00:00\", \"2019-08-25T00:00:00\", \"2019-09-01T00:00:00\", \"2019-09-08T00:00:00\", \"2019-09-15T00:00:00\", \"2019-09-22T00:00:00\", \"2019-09-29T00:00:00\", \"2019-10-06T00:00:00\", \"2019-10-13T00:00:00\", \"2019-10-20T00:00:00\", \"2019-10-27T00:00:00\", \"2019-11-03T00:00:00\", \"2019-11-10T00:00:00\", \"2019-11-17T00:00:00\", \"2019-11-24T00:00:00\", \"2019-12-01T00:00:00\", \"2019-12-08T00:00:00\", \"2019-12-15T00:00:00\", \"2019-12-22T00:00:00\", \"2019-12-29T00:00:00\", \"2020-01-05T00:00:00\", \"2020-01-12T00:00:00\", \"2020-01-19T00:00:00\", \"2020-01-26T00:00:00\", \"2020-02-02T00:00:00\", \"2020-02-09T00:00:00\"], \"xaxis\": \"x2\", \"y\": [1.219380442957717, 1.2198088943734864, 1.2202519920142099, 1.2204435791229353, 1.220489860212375, 1.2204735904381356, 1.2205095523336211, 1.2203807681216485, 1.2202395860140294, 1.2198438296549292, 1.2194453376281849, 1.2197399341146107, 1.220108189916173, 1.220479211932245, 1.2205030343631822, 1.2204806612149763, 1.2205124285765698, 1.2204783531754326, 1.2204607426994534, 1.2204672492091795, 1.2204471000160955, 1.2205074008879233, 1.220037251242086, 1.2192193932998672, 1.2183242588344, 1.2183710770724123, 1.2184187656058434, 1.2185133934095749, 1.2183734651551261, 1.2182838414232506, 1.2175571889594925, 1.2177446479047638, 1.2179611533282035, 1.2183987225472113, 1.218704774246502, 1.2186174121578712, 1.2184812022499367, 1.218405219486277, 1.2182005672693947, 1.2192948203476341, 1.2203319184138584, 1.2202469936429172, 1.2201429731659055, 1.2200431549219686, 1.2199877695693493, 1.2199039587836364, 1.2198013414609008, 1.219720893775806, 1.2196007631461714, 1.2195387906761503, 1.219466723346895, 1.2193396222212367, 1.219327185988498, 1.2193702597831142, 1.2197458845856477, 1.2202753435908467, 1.2207525090095392], \"yaxis\": \"y2\"}, {\"fill\": \"tonexty\", \"line\": {\"color\": \"#9FA0F8\"}, \"name\": \"yhat_lower J\", \"type\": \"scatter\", \"x\": [\"2019-01-13T00:00:00\", \"2019-01-20T00:00:00\", \"2019-01-27T00:00:00\", \"2019-02-03T00:00:00\", \"2019-02-10T00:00:00\", \"2019-02-17T00:00:00\", \"2019-02-24T00:00:00\", \"2019-03-03T00:00:00\", \"2019-03-10T00:00:00\", \"2019-03-17T00:00:00\", \"2019-03-24T00:00:00\", \"2019-03-31T00:00:00\", \"2019-04-07T00:00:00\", \"2019-04-14T00:00:00\", \"2019-04-21T00:00:00\", \"2019-04-28T00:00:00\", \"2019-05-05T00:00:00\", \"2019-05-12T00:00:00\", \"2019-05-19T00:00:00\", \"2019-05-26T00:00:00\", \"2019-06-02T00:00:00\", \"2019-06-09T00:00:00\", \"2019-06-16T00:00:00\", \"2019-06-23T00:00:00\", \"2019-06-30T00:00:00\", \"2019-07-07T00:00:00\", \"2019-07-14T00:00:00\", \"2019-07-21T00:00:00\", \"2019-07-28T00:00:00\", \"2019-08-04T00:00:00\", \"2019-08-11T00:00:00\", \"2019-08-18T00:00:00\", \"2019-08-25T00:00:00\", \"2019-09-01T00:00:00\", \"2019-09-08T00:00:00\", \"2019-09-15T00:00:00\", \"2019-09-22T00:00:00\", \"2019-09-29T00:00:00\", \"2019-10-06T00:00:00\", \"2019-10-13T00:00:00\", \"2019-10-20T00:00:00\", \"2019-10-27T00:00:00\", \"2019-11-03T00:00:00\", \"2019-11-10T00:00:00\", \"2019-11-17T00:00:00\", \"2019-11-24T00:00:00\", \"2019-12-01T00:00:00\", \"2019-12-08T00:00:00\", \"2019-12-15T00:00:00\", \"2019-12-22T00:00:00\", \"2019-12-29T00:00:00\", \"2020-01-05T00:00:00\", \"2020-01-12T00:00:00\", \"2020-01-19T00:00:00\", \"2020-01-26T00:00:00\", \"2020-02-02T00:00:00\", \"2020-02-09T00:00:00\"], \"xaxis\": \"x2\", \"y\": [1.2184133000073338, 1.2188528491381183, 1.219264863652786, 1.2195265550859977, 1.2195504324422142, 1.2195464652337462, 1.2195883778360714, 1.2194296666775104, 1.219285655382167, 1.2188659549962517, 1.2184670529044233, 1.2188345705627266, 1.219176100113225, 1.2195393122840792, 1.2195506753880383, 1.2195377147316593, 1.2195439797918843, 1.2195430078026834, 1.21954714168799, 1.2194904563775264, 1.2195168932468545, 1.2195216820859387, 1.2190487062737985, 1.218262425557564, 1.2174090771196209, 1.2174598611046163, 1.2174887827471441, 1.217542311739484, 1.2174472114670403, 1.217347108239977, 1.2166254380590307, 1.2168583488241664, 1.2170409955380037, 1.2174426878764395, 1.21779722734796, 1.217710712518103, 1.2175362032236559, 1.217434806324996, 1.2173021698684552, 1.21833157279597, 1.2193854090281202, 1.2193327465023571, 1.2192092454874115, 1.2191245048534893, 1.2190367159724498, 1.2189464446956755, 1.2188312096805176, 1.2187407620271888, 1.2187120290230227, 1.2186070251177612, 1.2184863354231072, 1.218433046845356, 1.2182752692145153, 1.2179588364884832, 1.2175126358779877, 1.2168157044333137, 1.2158748602387448], \"yaxis\": \"y2\"}, {\"line\": {\"color\": \"#4280F5\"}, \"mode\": \"lines+markers\", \"name\": \"mean I\", \"type\": \"scatter\", \"x\": [\"2019-01-11T00:00:00\", \"2019-01-22T00:00:00\", \"2019-01-26T00:00:00\", \"2019-01-31T00:00:00\", \"2019-02-11T00:00:00\", \"2019-02-22T00:00:00\", \"2019-02-27T00:00:00\", \"2019-03-07T00:00:00\", \"2019-03-15T00:00:00\", \"2019-04-05T00:00:00\", \"2019-04-16T00:00:00\", \"2019-05-27T00:00:00\", \"2019-06-03T00:00:00\", \"2019-06-10T00:00:00\", \"2019-06-17T00:00:00\", \"2019-06-25T00:00:00\", \"2019-06-28T00:00:00\", \"2019-08-07T00:00:00\", \"2019-08-19T00:00:00\", \"2019-08-26T00:00:00\", \"2019-09-05T00:00:00\", \"2019-10-17T00:00:00\", \"2019-11-01T00:00:00\", \"2019-11-13T00:00:00\", \"2019-12-05T00:00:00\", \"2019-12-10T00:00:00\", \"2019-12-26T00:00:00\", \"2019-12-31T00:00:00\"], \"xaxis\": \"x3\", \"y\": [3.194, 3.199, 3.2, 3.196, 3.195, 3.198, 3.195, 3.195, 3.199, 3.2, 3.2, 3.199, 3.2, 3.204, 3.197, 3.195, 3.2, 3.201, 3.201, 3.2, 3.201, 3.198, 3.198, 3.197, 3.199, 3.2, 3.202, 3.201], \"yaxis\": \"y3\"}, {\"line\": {\"color\": \"#060891\"}, \"mode\": \"lines+markers\", \"name\": \"mean predict I\", \"type\": \"scatter\", \"x\": [\"2019-01-13T00:00:00\", \"2019-01-20T00:00:00\", \"2019-01-27T00:00:00\", \"2019-02-03T00:00:00\", \"2019-02-10T00:00:00\", \"2019-02-17T00:00:00\", \"2019-02-24T00:00:00\", \"2019-03-03T00:00:00\", \"2019-03-10T00:00:00\", \"2019-03-17T00:00:00\", \"2019-03-24T00:00:00\", \"2019-03-31T00:00:00\", \"2019-04-07T00:00:00\", \"2019-04-14T00:00:00\", \"2019-04-21T00:00:00\", \"2019-04-28T00:00:00\", \"2019-05-05T00:00:00\", \"2019-05-12T00:00:00\", \"2019-05-19T00:00:00\", \"2019-05-26T00:00:00\", \"2019-06-02T00:00:00\", \"2019-06-09T00:00:00\", \"2019-06-16T00:00:00\", \"2019-06-23T00:00:00\", \"2019-06-30T00:00:00\", \"2019-07-07T00:00:00\", \"2019-07-14T00:00:00\", \"2019-07-21T00:00:00\", \"2019-07-28T00:00:00\", \"2019-08-04T00:00:00\", \"2019-08-11T00:00:00\", \"2019-08-18T00:00:00\", \"2019-08-25T00:00:00\", \"2019-09-01T00:00:00\", \"2019-09-08T00:00:00\", \"2019-09-15T00:00:00\", \"2019-09-22T00:00:00\", \"2019-09-29T00:00:00\", \"2019-10-06T00:00:00\", \"2019-10-13T00:00:00\", \"2019-10-20T00:00:00\", \"2019-10-27T00:00:00\", \"2019-11-03T00:00:00\", \"2019-11-10T00:00:00\", \"2019-11-17T00:00:00\", \"2019-11-24T00:00:00\", \"2019-12-01T00:00:00\", \"2019-12-08T00:00:00\", \"2019-12-15T00:00:00\", \"2019-12-22T00:00:00\", \"2019-12-29T00:00:00\", \"2020-01-05T00:00:00\", \"2020-01-12T00:00:00\", \"2020-01-19T00:00:00\", \"2020-01-26T00:00:00\", \"2020-02-02T00:00:00\", \"2020-02-09T00:00:00\"], \"xaxis\": \"x3\", \"y\": [3.1932642573162218, 3.195788591351114, 3.198312925386006, 3.196589465831351, 3.1960894907098596, 3.195589515588368, 3.196477536789486, 3.196142309406131, 3.1958070820227764, 3.197510087754175, 3.199213093485573, 3.1994764769009136, 3.199739860311283, 3.200003243721653, 3.1999947468828056, 3.19996374964657, 3.1999327524103345, 3.1999012251298034, 3.199869697849272, 3.1998381705829475, 3.1999895329977517, 3.2001408954125554, 3.2013906847667815, 3.2003149033769263, 3.1992391219870715, 3.1994948370960654, 3.19975055220506, 3.1999681671282083, 3.2001857820536737, 3.200403396979139, 3.2006210118736447, 3.200683509751729, 3.2007460076298133, 3.200808505515301, 3.200871003400789, 3.200966247337307, 3.2010641963846487, 3.2011621454319905, 3.2012600945060594, 3.1992360125309576, 3.1972119305558566, 3.197509747718821, 3.1978075648817854, 3.19810538204475, 3.198403199207714, 3.198701016370679, 3.1989988335336434, 3.199296650696608, 3.1995944678595727, 3.1998922850225373, 3.200190102185502, 3.200487919348466, 3.2007857365114307, 3.2010835536743953, 3.20138137083736, 3.2016791880003246, 3.201977005163289], \"yaxis\": \"y3\"}, {\"line\": {\"color\": \"#FF5733\"}, \"name\": \"USL I\", \"type\": \"scatter\", \"x\": [\"2019-01-13T00:00:00\", \"2019-01-20T00:00:00\", \"2019-01-27T00:00:00\", \"2019-02-03T00:00:00\", \"2019-02-10T00:00:00\", \"2019-02-17T00:00:00\", \"2019-02-24T00:00:00\", \"2019-03-03T00:00:00\", \"2019-03-10T00:00:00\", \"2019-03-17T00:00:00\", \"2019-03-24T00:00:00\", \"2019-03-31T00:00:00\", \"2019-04-07T00:00:00\", \"2019-04-14T00:00:00\", \"2019-04-21T00:00:00\", \"2019-04-28T00:00:00\", \"2019-05-05T00:00:00\", \"2019-05-12T00:00:00\", \"2019-05-19T00:00:00\", \"2019-05-26T00:00:00\", \"2019-06-02T00:00:00\", \"2019-06-09T00:00:00\", \"2019-06-16T00:00:00\", \"2019-06-23T00:00:00\", \"2019-06-30T00:00:00\", \"2019-07-07T00:00:00\", \"2019-07-14T00:00:00\", \"2019-07-21T00:00:00\", \"2019-07-28T00:00:00\", \"2019-08-04T00:00:00\", \"2019-08-11T00:00:00\", \"2019-08-18T00:00:00\", \"2019-08-25T00:00:00\", \"2019-09-01T00:00:00\", \"2019-09-08T00:00:00\", \"2019-09-15T00:00:00\", \"2019-09-22T00:00:00\", \"2019-09-29T00:00:00\", \"2019-10-06T00:00:00\", \"2019-10-13T00:00:00\", \"2019-10-20T00:00:00\", \"2019-10-27T00:00:00\", \"2019-11-03T00:00:00\", \"2019-11-10T00:00:00\", \"2019-11-17T00:00:00\", \"2019-11-24T00:00:00\", \"2019-12-01T00:00:00\", \"2019-12-08T00:00:00\", \"2019-12-15T00:00:00\", \"2019-12-22T00:00:00\", \"2019-12-29T00:00:00\", \"2020-01-05T00:00:00\", \"2020-01-12T00:00:00\", \"2020-01-19T00:00:00\", \"2020-01-26T00:00:00\", \"2020-02-02T00:00:00\", \"2020-02-09T00:00:00\"], \"xaxis\": \"x3\", \"y\": [3.21, 3.21, 3.21, 3.21, 3.21, 3.21, 3.21, 3.21, 3.21, 3.21, 3.21, 3.21, 3.21, 3.21, 3.21, 3.21, 3.21, 3.21, 3.21, 3.21, 3.21, 3.21, 3.21, 3.21, 3.21, 3.21, 3.21, 3.21, 3.21, 3.21, 3.21, 3.21, 3.21, 3.21, 3.21, 3.21, 3.21, 3.21, 3.21, 3.21, 3.21, 3.21, 3.21, 3.21, 3.21, 3.21, 3.21, 3.21, 3.21, 3.21, 3.21, 3.21, 3.21, 3.21, 3.21, 3.21, 3.21], \"yaxis\": \"y3\"}, {\"line\": {\"color\": \"#FF5733\"}, \"name\": \"LSL I\", \"type\": \"scatter\", \"x\": [\"2019-01-13T00:00:00\", \"2019-01-20T00:00:00\", \"2019-01-27T00:00:00\", \"2019-02-03T00:00:00\", \"2019-02-10T00:00:00\", \"2019-02-17T00:00:00\", \"2019-02-24T00:00:00\", \"2019-03-03T00:00:00\", \"2019-03-10T00:00:00\", \"2019-03-17T00:00:00\", \"2019-03-24T00:00:00\", \"2019-03-31T00:00:00\", \"2019-04-07T00:00:00\", \"2019-04-14T00:00:00\", \"2019-04-21T00:00:00\", \"2019-04-28T00:00:00\", \"2019-05-05T00:00:00\", \"2019-05-12T00:00:00\", \"2019-05-19T00:00:00\", \"2019-05-26T00:00:00\", \"2019-06-02T00:00:00\", \"2019-06-09T00:00:00\", \"2019-06-16T00:00:00\", \"2019-06-23T00:00:00\", \"2019-06-30T00:00:00\", \"2019-07-07T00:00:00\", \"2019-07-14T00:00:00\", \"2019-07-21T00:00:00\", \"2019-07-28T00:00:00\", \"2019-08-04T00:00:00\", \"2019-08-11T00:00:00\", \"2019-08-18T00:00:00\", \"2019-08-25T00:00:00\", \"2019-09-01T00:00:00\", \"2019-09-08T00:00:00\", \"2019-09-15T00:00:00\", \"2019-09-22T00:00:00\", \"2019-09-29T00:00:00\", \"2019-10-06T00:00:00\", \"2019-10-13T00:00:00\", \"2019-10-20T00:00:00\", \"2019-10-27T00:00:00\", \"2019-11-03T00:00:00\", \"2019-11-10T00:00:00\", \"2019-11-17T00:00:00\", \"2019-11-24T00:00:00\", \"2019-12-01T00:00:00\", \"2019-12-08T00:00:00\", \"2019-12-15T00:00:00\", \"2019-12-22T00:00:00\", \"2019-12-29T00:00:00\", \"2020-01-05T00:00:00\", \"2020-01-12T00:00:00\", \"2020-01-19T00:00:00\", \"2020-01-26T00:00:00\", \"2020-02-02T00:00:00\", \"2020-02-09T00:00:00\"], \"xaxis\": \"x3\", \"y\": [3.1900000000000004, 3.1900000000000004, 3.1900000000000004, 3.1900000000000004, 3.1900000000000004, 3.1900000000000004, 3.1900000000000004, 3.1900000000000004, 3.1900000000000004, 3.1900000000000004, 3.1900000000000004, 3.1900000000000004, 3.1900000000000004, 3.1900000000000004, 3.1900000000000004, 3.1900000000000004, 3.1900000000000004, 3.1900000000000004, 3.1900000000000004, 3.1900000000000004, 3.1900000000000004, 3.1900000000000004, 3.1900000000000004, 3.1900000000000004, 3.1900000000000004, 3.1900000000000004, 3.1900000000000004, 3.1900000000000004, 3.1900000000000004, 3.1900000000000004, 3.1900000000000004, 3.1900000000000004, 3.1900000000000004, 3.1900000000000004, 3.1900000000000004, 3.1900000000000004, 3.1900000000000004, 3.1900000000000004, 3.1900000000000004, 3.1900000000000004, 3.1900000000000004, 3.1900000000000004, 3.1900000000000004, 3.1900000000000004, 3.1900000000000004, 3.1900000000000004, 3.1900000000000004, 3.1900000000000004, 3.1900000000000004, 3.1900000000000004, 3.1900000000000004, 3.1900000000000004, 3.1900000000000004, 3.1900000000000004, 3.1900000000000004, 3.1900000000000004, 3.1900000000000004], \"yaxis\": \"y3\"}, {\"line\": {\"color\": \"#FF5733\"}, \"name\": \"Nominal I\", \"type\": \"scatter\", \"x\": [\"2019-01-13T00:00:00\", \"2019-01-20T00:00:00\", \"2019-01-27T00:00:00\", \"2019-02-03T00:00:00\", \"2019-02-10T00:00:00\", \"2019-02-17T00:00:00\", \"2019-02-24T00:00:00\", \"2019-03-03T00:00:00\", \"2019-03-10T00:00:00\", \"2019-03-17T00:00:00\", \"2019-03-24T00:00:00\", \"2019-03-31T00:00:00\", \"2019-04-07T00:00:00\", \"2019-04-14T00:00:00\", \"2019-04-21T00:00:00\", \"2019-04-28T00:00:00\", \"2019-05-05T00:00:00\", \"2019-05-12T00:00:00\", \"2019-05-19T00:00:00\", \"2019-05-26T00:00:00\", \"2019-06-02T00:00:00\", \"2019-06-09T00:00:00\", \"2019-06-16T00:00:00\", \"2019-06-23T00:00:00\", \"2019-06-30T00:00:00\", \"2019-07-07T00:00:00\", \"2019-07-14T00:00:00\", \"2019-07-21T00:00:00\", \"2019-07-28T00:00:00\", \"2019-08-04T00:00:00\", \"2019-08-11T00:00:00\", \"2019-08-18T00:00:00\", \"2019-08-25T00:00:00\", \"2019-09-01T00:00:00\", \"2019-09-08T00:00:00\", \"2019-09-15T00:00:00\", \"2019-09-22T00:00:00\", \"2019-09-29T00:00:00\", \"2019-10-06T00:00:00\", \"2019-10-13T00:00:00\", \"2019-10-20T00:00:00\", \"2019-10-27T00:00:00\", \"2019-11-03T00:00:00\", \"2019-11-10T00:00:00\", \"2019-11-17T00:00:00\", \"2019-11-24T00:00:00\", \"2019-12-01T00:00:00\", \"2019-12-08T00:00:00\", \"2019-12-15T00:00:00\", \"2019-12-22T00:00:00\", \"2019-12-29T00:00:00\", \"2020-01-05T00:00:00\", \"2020-01-12T00:00:00\", \"2020-01-19T00:00:00\", \"2020-01-26T00:00:00\", \"2020-02-02T00:00:00\", \"2020-02-09T00:00:00\"], \"xaxis\": \"x3\", \"y\": [3.2, 3.2, 3.2, 3.2, 3.2, 3.2, 3.2, 3.2, 3.2, 3.2, 3.2, 3.2, 3.2, 3.2, 3.2, 3.2, 3.2, 3.2, 3.2, 3.2, 3.2, 3.2, 3.2, 3.2, 3.2, 3.2, 3.2, 3.2, 3.2, 3.2, 3.2, 3.2, 3.2, 3.2, 3.2, 3.2, 3.2, 3.2, 3.2, 3.2, 3.2, 3.2, 3.2, 3.2, 3.2, 3.2, 3.2, 3.2, 3.2, 3.2, 3.2, 3.2, 3.2, 3.2, 3.2, 3.2, 3.2], \"yaxis\": \"y3\"}, {\"line\": {\"color\": \"#33C2FF\"}, \"name\": \"UCL I\", \"type\": \"scatter\", \"x\": [\"2019-01-13T00:00:00\", \"2019-01-20T00:00:00\", \"2019-01-27T00:00:00\", \"2019-02-03T00:00:00\", \"2019-02-10T00:00:00\", \"2019-02-17T00:00:00\", \"2019-02-24T00:00:00\", \"2019-03-03T00:00:00\", \"2019-03-10T00:00:00\", \"2019-03-17T00:00:00\", \"2019-03-24T00:00:00\", \"2019-03-31T00:00:00\", \"2019-04-07T00:00:00\", \"2019-04-14T00:00:00\", \"2019-04-21T00:00:00\", \"2019-04-28T00:00:00\", \"2019-05-05T00:00:00\", \"2019-05-12T00:00:00\", \"2019-05-19T00:00:00\", \"2019-05-26T00:00:00\", \"2019-06-02T00:00:00\", \"2019-06-09T00:00:00\", \"2019-06-16T00:00:00\", \"2019-06-23T00:00:00\", \"2019-06-30T00:00:00\", \"2019-07-07T00:00:00\", \"2019-07-14T00:00:00\", \"2019-07-21T00:00:00\", \"2019-07-28T00:00:00\", \"2019-08-04T00:00:00\", \"2019-08-11T00:00:00\", \"2019-08-18T00:00:00\", \"2019-08-25T00:00:00\", \"2019-09-01T00:00:00\", \"2019-09-08T00:00:00\", \"2019-09-15T00:00:00\", \"2019-09-22T00:00:00\", \"2019-09-29T00:00:00\", \"2019-10-06T00:00:00\", \"2019-10-13T00:00:00\", \"2019-10-20T00:00:00\", \"2019-10-27T00:00:00\", \"2019-11-03T00:00:00\", \"2019-11-10T00:00:00\", \"2019-11-17T00:00:00\", \"2019-11-24T00:00:00\", \"2019-12-01T00:00:00\", \"2019-12-08T00:00:00\", \"2019-12-15T00:00:00\", \"2019-12-22T00:00:00\", \"2019-12-29T00:00:00\", \"2020-01-05T00:00:00\", \"2020-01-12T00:00:00\", \"2020-01-19T00:00:00\", \"2020-01-26T00:00:00\", \"2020-02-02T00:00:00\", \"2020-02-09T00:00:00\"], \"xaxis\": \"x3\", \"y\": [3.2061015334136274, 3.2061015334136274, 3.2061015334136274, 3.2061015334136274, 3.2061015334136274, 3.2061015334136274, 3.2061015334136274, 3.2061015334136274, 3.2061015334136274, 3.2061015334136274, 3.2061015334136274, 3.2061015334136274, 3.2061015334136274, 3.2061015334136274, 3.2061015334136274, 3.2061015334136274, 3.2061015334136274, 3.2061015334136274, 3.2061015334136274, 3.2061015334136274, 3.2061015334136274, 3.2061015334136274, 3.2061015334136274, 3.2061015334136274, 3.2061015334136274, 3.2061015334136274, 3.2061015334136274, 3.2061015334136274, 3.2061015334136274, 3.2061015334136274, 3.2061015334136274, 3.2061015334136274, 3.2061015334136274, 3.2061015334136274, 3.2061015334136274, 3.2061015334136274, 3.2061015334136274, 3.2061015334136274, 3.2061015334136274, 3.2061015334136274, 3.2061015334136274, 3.2061015334136274, 3.2061015334136274, 3.2061015334136274, 3.2061015334136274, 3.2061015334136274, 3.2061015334136274, 3.2061015334136274, 3.2061015334136274, 3.2061015334136274, 3.2061015334136274, 3.2061015334136274, 3.2061015334136274, 3.2061015334136274, 3.2061015334136274, 3.2061015334136274, 3.2061015334136274], \"yaxis\": \"y3\"}, {\"line\": {\"color\": \"#33C2FF\"}, \"name\": \"LCL I\", \"type\": \"scatter\", \"x\": [\"2019-01-13T00:00:00\", \"2019-01-20T00:00:00\", \"2019-01-27T00:00:00\", \"2019-02-03T00:00:00\", \"2019-02-10T00:00:00\", \"2019-02-17T00:00:00\", \"2019-02-24T00:00:00\", \"2019-03-03T00:00:00\", \"2019-03-10T00:00:00\", \"2019-03-17T00:00:00\", \"2019-03-24T00:00:00\", \"2019-03-31T00:00:00\", \"2019-04-07T00:00:00\", \"2019-04-14T00:00:00\", \"2019-04-21T00:00:00\", \"2019-04-28T00:00:00\", \"2019-05-05T00:00:00\", \"2019-05-12T00:00:00\", \"2019-05-19T00:00:00\", \"2019-05-26T00:00:00\", \"2019-06-02T00:00:00\", \"2019-06-09T00:00:00\", \"2019-06-16T00:00:00\", \"2019-06-23T00:00:00\", \"2019-06-30T00:00:00\", \"2019-07-07T00:00:00\", \"2019-07-14T00:00:00\", \"2019-07-21T00:00:00\", \"2019-07-28T00:00:00\", \"2019-08-04T00:00:00\", \"2019-08-11T00:00:00\", \"2019-08-18T00:00:00\", \"2019-08-25T00:00:00\", \"2019-09-01T00:00:00\", \"2019-09-08T00:00:00\", \"2019-09-15T00:00:00\", \"2019-09-22T00:00:00\", \"2019-09-29T00:00:00\", \"2019-10-06T00:00:00\", \"2019-10-13T00:00:00\", \"2019-10-20T00:00:00\", \"2019-10-27T00:00:00\", \"2019-11-03T00:00:00\", \"2019-11-10T00:00:00\", \"2019-11-17T00:00:00\", \"2019-11-24T00:00:00\", \"2019-12-01T00:00:00\", \"2019-12-08T00:00:00\", \"2019-12-15T00:00:00\", \"2019-12-22T00:00:00\", \"2019-12-29T00:00:00\", \"2020-01-05T00:00:00\", \"2020-01-12T00:00:00\", \"2020-01-19T00:00:00\", \"2020-01-26T00:00:00\", \"2020-02-02T00:00:00\", \"2020-02-09T00:00:00\"], \"xaxis\": \"x3\", \"y\": [3.1913270380149434, 3.1913270380149434, 3.1913270380149434, 3.1913270380149434, 3.1913270380149434, 3.1913270380149434, 3.1913270380149434, 3.1913270380149434, 3.1913270380149434, 3.1913270380149434, 3.1913270380149434, 3.1913270380149434, 3.1913270380149434, 3.1913270380149434, 3.1913270380149434, 3.1913270380149434, 3.1913270380149434, 3.1913270380149434, 3.1913270380149434, 3.1913270380149434, 3.1913270380149434, 3.1913270380149434, 3.1913270380149434, 3.1913270380149434, 3.1913270380149434, 3.1913270380149434, 3.1913270380149434, 3.1913270380149434, 3.1913270380149434, 3.1913270380149434, 3.1913270380149434, 3.1913270380149434, 3.1913270380149434, 3.1913270380149434, 3.1913270380149434, 3.1913270380149434, 3.1913270380149434, 3.1913270380149434, 3.1913270380149434, 3.1913270380149434, 3.1913270380149434, 3.1913270380149434, 3.1913270380149434, 3.1913270380149434, 3.1913270380149434, 3.1913270380149434, 3.1913270380149434, 3.1913270380149434, 3.1913270380149434, 3.1913270380149434, 3.1913270380149434, 3.1913270380149434, 3.1913270380149434, 3.1913270380149434, 3.1913270380149434, 3.1913270380149434, 3.1913270380149434], \"yaxis\": \"y3\"}, {\"line\": {\"color\": \"#33C2FF\"}, \"name\": \"mean I\", \"type\": \"scatter\", \"x\": [\"2019-01-13T00:00:00\", \"2019-01-20T00:00:00\", \"2019-01-27T00:00:00\", \"2019-02-03T00:00:00\", \"2019-02-10T00:00:00\", \"2019-02-17T00:00:00\", \"2019-02-24T00:00:00\", \"2019-03-03T00:00:00\", \"2019-03-10T00:00:00\", \"2019-03-17T00:00:00\", \"2019-03-24T00:00:00\", \"2019-03-31T00:00:00\", \"2019-04-07T00:00:00\", \"2019-04-14T00:00:00\", \"2019-04-21T00:00:00\", \"2019-04-28T00:00:00\", \"2019-05-05T00:00:00\", \"2019-05-12T00:00:00\", \"2019-05-19T00:00:00\", \"2019-05-26T00:00:00\", \"2019-06-02T00:00:00\", \"2019-06-09T00:00:00\", \"2019-06-16T00:00:00\", \"2019-06-23T00:00:00\", \"2019-06-30T00:00:00\", \"2019-07-07T00:00:00\", \"2019-07-14T00:00:00\", \"2019-07-21T00:00:00\", \"2019-07-28T00:00:00\", \"2019-08-04T00:00:00\", \"2019-08-11T00:00:00\", \"2019-08-18T00:00:00\", \"2019-08-25T00:00:00\", \"2019-09-01T00:00:00\", \"2019-09-08T00:00:00\", \"2019-09-15T00:00:00\", \"2019-09-22T00:00:00\", \"2019-09-29T00:00:00\", \"2019-10-06T00:00:00\", \"2019-10-13T00:00:00\", \"2019-10-20T00:00:00\", \"2019-10-27T00:00:00\", \"2019-11-03T00:00:00\", \"2019-11-10T00:00:00\", \"2019-11-17T00:00:00\", \"2019-11-24T00:00:00\", \"2019-12-01T00:00:00\", \"2019-12-08T00:00:00\", \"2019-12-15T00:00:00\", \"2019-12-22T00:00:00\", \"2019-12-29T00:00:00\", \"2020-01-05T00:00:00\", \"2020-01-12T00:00:00\", \"2020-01-19T00:00:00\", \"2020-01-26T00:00:00\", \"2020-02-02T00:00:00\", \"2020-02-09T00:00:00\"], \"xaxis\": \"x3\", \"y\": [3.1987142857142854, 3.1987142857142854, 3.1987142857142854, 3.1987142857142854, 3.1987142857142854, 3.1987142857142854, 3.1987142857142854, 3.1987142857142854, 3.1987142857142854, 3.1987142857142854, 3.1987142857142854, 3.1987142857142854, 3.1987142857142854, 3.1987142857142854, 3.1987142857142854, 3.1987142857142854, 3.1987142857142854, 3.1987142857142854, 3.1987142857142854, 3.1987142857142854, 3.1987142857142854, 3.1987142857142854, 3.1987142857142854, 3.1987142857142854, 3.1987142857142854, 3.1987142857142854, 3.1987142857142854, 3.1987142857142854, 3.1987142857142854, 3.1987142857142854, 3.1987142857142854, 3.1987142857142854, 3.1987142857142854, 3.1987142857142854, 3.1987142857142854, 3.1987142857142854, 3.1987142857142854, 3.1987142857142854, 3.1987142857142854, 3.1987142857142854, 3.1987142857142854, 3.1987142857142854, 3.1987142857142854, 3.1987142857142854, 3.1987142857142854, 3.1987142857142854, 3.1987142857142854, 3.1987142857142854, 3.1987142857142854, 3.1987142857142854, 3.1987142857142854, 3.1987142857142854, 3.1987142857142854, 3.1987142857142854, 3.1987142857142854, 3.1987142857142854, 3.1987142857142854], \"yaxis\": \"y3\"}, {\"line\": {\"color\": \"#9FA0F8\"}, \"name\": \"yhat_upper I\", \"type\": \"scatter\", \"x\": [\"2019-01-13T00:00:00\", \"2019-01-20T00:00:00\", \"2019-01-27T00:00:00\", \"2019-02-03T00:00:00\", \"2019-02-10T00:00:00\", \"2019-02-17T00:00:00\", \"2019-02-24T00:00:00\", \"2019-03-03T00:00:00\", \"2019-03-10T00:00:00\", \"2019-03-17T00:00:00\", \"2019-03-24T00:00:00\", \"2019-03-31T00:00:00\", \"2019-04-07T00:00:00\", \"2019-04-14T00:00:00\", \"2019-04-21T00:00:00\", \"2019-04-28T00:00:00\", \"2019-05-05T00:00:00\", \"2019-05-12T00:00:00\", \"2019-05-19T00:00:00\", \"2019-05-26T00:00:00\", \"2019-06-02T00:00:00\", \"2019-06-09T00:00:00\", \"2019-06-16T00:00:00\", \"2019-06-23T00:00:00\", \"2019-06-30T00:00:00\", \"2019-07-07T00:00:00\", \"2019-07-14T00:00:00\", \"2019-07-21T00:00:00\", \"2019-07-28T00:00:00\", \"2019-08-04T00:00:00\", \"2019-08-11T00:00:00\", \"2019-08-18T00:00:00\", \"2019-08-25T00:00:00\", \"2019-09-01T00:00:00\", \"2019-09-08T00:00:00\", \"2019-09-15T00:00:00\", \"2019-09-22T00:00:00\", \"2019-09-29T00:00:00\", \"2019-10-06T00:00:00\", \"2019-10-13T00:00:00\", \"2019-10-20T00:00:00\", \"2019-10-27T00:00:00\", \"2019-11-03T00:00:00\", \"2019-11-10T00:00:00\", \"2019-11-17T00:00:00\", \"2019-11-24T00:00:00\", \"2019-12-01T00:00:00\", \"2019-12-08T00:00:00\", \"2019-12-15T00:00:00\", \"2019-12-22T00:00:00\", \"2019-12-29T00:00:00\", \"2020-01-05T00:00:00\", \"2020-01-12T00:00:00\", \"2020-01-19T00:00:00\", \"2020-01-26T00:00:00\", \"2020-02-02T00:00:00\", \"2020-02-09T00:00:00\"], \"xaxis\": \"x3\", \"y\": [3.194494164829231, 3.197163595766231, 3.1995447198911267, 3.197776267803907, 3.1973797356183096, 3.1968531781345213, 3.19775783809177, 3.1974024643855796, 3.1971013543078044, 3.1988174173747232, 3.20044742242746, 3.200740717564177, 3.2009748043229633, 3.201324408003314, 3.2013333967773776, 3.201177980154346, 3.2012335715243605, 3.201295731023779, 3.2010498093054807, 3.201128675274897, 3.201227793753117, 3.201377885715147, 3.202632614275755, 3.2016647403217227, 3.200561262647523, 3.2007790615640337, 3.2010027651529573, 3.2012778895182903, 3.201356837688949, 3.2016378807155066, 3.201902662913492, 3.2019278368433053, 3.2020381705977434, 3.2019878390831846, 3.2022231706653983, 3.202111737341355, 3.2023370527961195, 3.2024250264193093, 3.2024669580438054, 3.200555163667055, 3.198486931376577, 3.1987512212912157, 3.1990374901099896, 3.199334283643702, 3.199624778209512, 3.1999849316326796, 3.2002342892044764, 3.2005712632322023, 3.200938937274106, 3.201201038095053, 3.2015220987580113, 3.201729423757578, 3.202171306516246, 3.2029364150312043, 3.2044538171555725, 3.206320533076483, 3.2090994084504154], \"yaxis\": \"y3\"}, {\"fill\": \"tonexty\", \"line\": {\"color\": \"#9FA0F8\"}, \"name\": \"yhat_lower I\", \"type\": \"scatter\", \"x\": [\"2019-01-13T00:00:00\", \"2019-01-20T00:00:00\", \"2019-01-27T00:00:00\", \"2019-02-03T00:00:00\", \"2019-02-10T00:00:00\", \"2019-02-17T00:00:00\", \"2019-02-24T00:00:00\", \"2019-03-03T00:00:00\", \"2019-03-10T00:00:00\", \"2019-03-17T00:00:00\", \"2019-03-24T00:00:00\", \"2019-03-31T00:00:00\", \"2019-04-07T00:00:00\", \"2019-04-14T00:00:00\", \"2019-04-21T00:00:00\", \"2019-04-28T00:00:00\", \"2019-05-05T00:00:00\", \"2019-05-12T00:00:00\", \"2019-05-19T00:00:00\", \"2019-05-26T00:00:00\", \"2019-06-02T00:00:00\", \"2019-06-09T00:00:00\", \"2019-06-16T00:00:00\", \"2019-06-23T00:00:00\", \"2019-06-30T00:00:00\", \"2019-07-07T00:00:00\", \"2019-07-14T00:00:00\", \"2019-07-21T00:00:00\", \"2019-07-28T00:00:00\", \"2019-08-04T00:00:00\", \"2019-08-11T00:00:00\", \"2019-08-18T00:00:00\", \"2019-08-25T00:00:00\", \"2019-09-01T00:00:00\", \"2019-09-08T00:00:00\", \"2019-09-15T00:00:00\", \"2019-09-22T00:00:00\", \"2019-09-29T00:00:00\", \"2019-10-06T00:00:00\", \"2019-10-13T00:00:00\", \"2019-10-20T00:00:00\", \"2019-10-27T00:00:00\", \"2019-11-03T00:00:00\", \"2019-11-10T00:00:00\", \"2019-11-17T00:00:00\", \"2019-11-24T00:00:00\", \"2019-12-01T00:00:00\", \"2019-12-08T00:00:00\", \"2019-12-15T00:00:00\", \"2019-12-22T00:00:00\", \"2019-12-29T00:00:00\", \"2020-01-05T00:00:00\", \"2020-01-12T00:00:00\", \"2020-01-19T00:00:00\", \"2020-01-26T00:00:00\", \"2020-02-02T00:00:00\", \"2020-02-09T00:00:00\"], \"xaxis\": \"x3\", \"y\": [3.192009091565723, 3.194620297639353, 3.1970301621697015, 3.1953003188009528, 3.1948215340587414, 3.1942663302331393, 3.19517770174627, 3.1948258799300855, 3.194597529368059, 3.196182813984039, 3.1979044837528012, 3.19822811991464, 3.198438783450821, 3.198714317162256, 3.1987709319744586, 3.1987693856045034, 3.1986725652061816, 3.1986028402635682, 3.198608113432355, 3.198486932927657, 3.1986949451492257, 3.198869518704175, 3.200090070582246, 3.1990121441051325, 3.1979028300499373, 3.1981919991595875, 3.198443580483703, 3.198793542116941, 3.198938863936578, 3.1990383261857267, 3.1994129554699975, 3.1993613356506208, 3.1994596246584033, 3.1996044080037005, 3.1996294849883817, 3.1996799827325435, 3.1997975878280416, 3.1998733843422533, 3.199968653018844, 3.197823813430779, 3.1958256682030366, 3.1962294721739677, 3.196501515087481, 3.1967991073447983, 3.1971085326800934, 3.197392273721846, 3.1976450656475492, 3.198107051175809, 3.198394567379978, 3.198640357749903, 3.1989639003031316, 3.19917010600096, 3.1993944871900992, 3.1991955078241414, 3.1982294281064516, 3.1971998648742743, 3.195959976520546], \"yaxis\": \"y3\"}, {\"line\": {\"color\": \"#4280F5\"}, \"mode\": \"lines+markers\", \"name\": \"mean O\", \"type\": \"scatter\", \"x\": [\"2019-01-11T00:00:00\", \"2019-01-22T00:00:00\", \"2019-01-26T00:00:00\", \"2019-01-31T00:00:00\", \"2019-02-11T00:00:00\", \"2019-02-22T00:00:00\", \"2019-02-27T00:00:00\", \"2019-03-07T00:00:00\", \"2019-03-15T00:00:00\", \"2019-04-05T00:00:00\", \"2019-04-16T00:00:00\", \"2019-05-27T00:00:00\", \"2019-06-03T00:00:00\", \"2019-06-10T00:00:00\", \"2019-06-17T00:00:00\", \"2019-06-25T00:00:00\", \"2019-06-28T00:00:00\", \"2019-08-07T00:00:00\", \"2019-08-19T00:00:00\", \"2019-08-26T00:00:00\", \"2019-09-05T00:00:00\", \"2019-10-17T00:00:00\", \"2019-11-01T00:00:00\", \"2019-11-13T00:00:00\", \"2019-12-05T00:00:00\", \"2019-12-10T00:00:00\", \"2019-12-26T00:00:00\", \"2019-12-31T00:00:00\"], \"xaxis\": \"x4\", \"y\": [11.853, 11.852, 11.853, 11.855, 11.854, 11.852, 11.855, 11.857, 11.853, 11.856, 11.853, 11.853, 11.852, 11.856, 11.859, 11.86, 11.856, 11.851, 11.849, 11.85, 11.856, 11.849, 11.849, 11.851, 11.849, 11.852, 11.849, 11.848], \"yaxis\": \"y4\"}, {\"line\": {\"color\": \"#060891\"}, \"mode\": \"lines+markers\", \"name\": \"mean predict O\", \"type\": \"scatter\", \"x\": [\"2019-01-13T00:00:00\", \"2019-01-20T00:00:00\", \"2019-01-27T00:00:00\", \"2019-02-03T00:00:00\", \"2019-02-10T00:00:00\", \"2019-02-17T00:00:00\", \"2019-02-24T00:00:00\", \"2019-03-03T00:00:00\", \"2019-03-10T00:00:00\", \"2019-03-17T00:00:00\", \"2019-03-24T00:00:00\", \"2019-03-31T00:00:00\", \"2019-04-07T00:00:00\", \"2019-04-14T00:00:00\", \"2019-04-21T00:00:00\", \"2019-04-28T00:00:00\", \"2019-05-05T00:00:00\", \"2019-05-12T00:00:00\", \"2019-05-19T00:00:00\", \"2019-05-26T00:00:00\", \"2019-06-02T00:00:00\", \"2019-06-09T00:00:00\", \"2019-06-16T00:00:00\", \"2019-06-23T00:00:00\", \"2019-06-30T00:00:00\", \"2019-07-07T00:00:00\", \"2019-07-14T00:00:00\", \"2019-07-21T00:00:00\", \"2019-07-28T00:00:00\", \"2019-08-04T00:00:00\", \"2019-08-11T00:00:00\", \"2019-08-18T00:00:00\", \"2019-08-25T00:00:00\", \"2019-09-01T00:00:00\", \"2019-09-08T00:00:00\", \"2019-09-15T00:00:00\", \"2019-09-22T00:00:00\", \"2019-09-29T00:00:00\", \"2019-10-06T00:00:00\", \"2019-10-13T00:00:00\", \"2019-10-20T00:00:00\", \"2019-10-27T00:00:00\", \"2019-11-03T00:00:00\", \"2019-11-10T00:00:00\", \"2019-11-17T00:00:00\", \"2019-11-24T00:00:00\", \"2019-12-01T00:00:00\", \"2019-12-08T00:00:00\", \"2019-12-15T00:00:00\", \"2019-12-22T00:00:00\", \"2019-12-29T00:00:00\", \"2020-01-05T00:00:00\", \"2020-01-12T00:00:00\", \"2020-01-19T00:00:00\", \"2020-01-26T00:00:00\", \"2020-02-02T00:00:00\", \"2020-02-09T00:00:00\"], \"xaxis\": \"x4\", \"y\": [11.8529373225488, 11.853050115685129, 11.853162908821455, 11.855066481791441, 11.854566446187931, 11.854066410584423, 11.85249612402853, 11.8544586185571, 11.85642111308567, 11.854398688863098, 11.85237626464053, 11.853599493486314, 11.854949753157088, 11.856300012827864, 11.853118285185573, 11.853064671102436, 11.853011057019298, 11.853010129721978, 11.853009202424662, 11.853008275012783, 11.852695650154388, 11.852383025295994, 11.856920268802492, 11.85685947922319, 11.856798689643888, 11.85639389111245, 11.855989092581012, 11.855950904625942, 11.855912712921329, 11.855874521216716, 11.85159747978195, 11.850105862427826, 11.848614245073703, 11.85181565498777, 11.855017064901837, 11.855899852999555, 11.856050108169564, 11.856200363339571, 11.857030382764624, 11.853488483770747, 11.84994658477687, 11.849961308200104, 11.849976031623338, 11.849990755046573, 11.850005478469809, 11.850020201893043, 11.85003492531628, 11.850049648739512, 11.850064372162748, 11.850079095585983, 11.850093819009219, 11.850108542432453, 11.850123265855688, 11.850137989278922, 11.850152712702158, 11.850167436125393, 11.850182159548629], \"yaxis\": \"y4\"}, {\"line\": {\"color\": \"#FF5733\"}, \"name\": \"USL O\", \"type\": \"scatter\", \"x\": [\"2019-01-13T00:00:00\", \"2019-01-20T00:00:00\", \"2019-01-27T00:00:00\", \"2019-02-03T00:00:00\", \"2019-02-10T00:00:00\", \"2019-02-17T00:00:00\", \"2019-02-24T00:00:00\", \"2019-03-03T00:00:00\", \"2019-03-10T00:00:00\", \"2019-03-17T00:00:00\", \"2019-03-24T00:00:00\", \"2019-03-31T00:00:00\", \"2019-04-07T00:00:00\", \"2019-04-14T00:00:00\", \"2019-04-21T00:00:00\", \"2019-04-28T00:00:00\", \"2019-05-05T00:00:00\", \"2019-05-12T00:00:00\", \"2019-05-19T00:00:00\", \"2019-05-26T00:00:00\", \"2019-06-02T00:00:00\", \"2019-06-09T00:00:00\", \"2019-06-16T00:00:00\", \"2019-06-23T00:00:00\", \"2019-06-30T00:00:00\", \"2019-07-07T00:00:00\", \"2019-07-14T00:00:00\", \"2019-07-21T00:00:00\", \"2019-07-28T00:00:00\", \"2019-08-04T00:00:00\", \"2019-08-11T00:00:00\", \"2019-08-18T00:00:00\", \"2019-08-25T00:00:00\", \"2019-09-01T00:00:00\", \"2019-09-08T00:00:00\", \"2019-09-15T00:00:00\", \"2019-09-22T00:00:00\", \"2019-09-29T00:00:00\", \"2019-10-06T00:00:00\", \"2019-10-13T00:00:00\", \"2019-10-20T00:00:00\", \"2019-10-27T00:00:00\", \"2019-11-03T00:00:00\", \"2019-11-10T00:00:00\", \"2019-11-17T00:00:00\", \"2019-11-24T00:00:00\", \"2019-12-01T00:00:00\", \"2019-12-08T00:00:00\", \"2019-12-15T00:00:00\", \"2019-12-22T00:00:00\", \"2019-12-29T00:00:00\", \"2020-01-05T00:00:00\", \"2020-01-12T00:00:00\", \"2020-01-19T00:00:00\", \"2020-01-26T00:00:00\", \"2020-02-02T00:00:00\", \"2020-02-09T00:00:00\"], \"xaxis\": \"x4\", \"y\": [11.86, 11.86, 11.86, 11.86, 11.86, 11.86, 11.86, 11.86, 11.86, 11.86, 11.86, 11.86, 11.86, 11.86, 11.86, 11.86, 11.86, 11.86, 11.86, 11.86, 11.86, 11.86, 11.86, 11.86, 11.86, 11.86, 11.86, 11.86, 11.86, 11.86, 11.86, 11.86, 11.86, 11.86, 11.86, 11.86, 11.86, 11.86, 11.86, 11.86, 11.86, 11.86, 11.86, 11.86, 11.86, 11.86, 11.86, 11.86, 11.86, 11.86, 11.86, 11.86, 11.86, 11.86, 11.86, 11.86, 11.86], \"yaxis\": \"y4\"}, {\"line\": {\"color\": \"#FF5733\"}, \"name\": \"LSL O\", \"type\": \"scatter\", \"x\": [\"2019-01-13T00:00:00\", \"2019-01-20T00:00:00\", \"2019-01-27T00:00:00\", \"2019-02-03T00:00:00\", \"2019-02-10T00:00:00\", \"2019-02-17T00:00:00\", \"2019-02-24T00:00:00\", \"2019-03-03T00:00:00\", \"2019-03-10T00:00:00\", \"2019-03-17T00:00:00\", \"2019-03-24T00:00:00\", \"2019-03-31T00:00:00\", \"2019-04-07T00:00:00\", \"2019-04-14T00:00:00\", \"2019-04-21T00:00:00\", \"2019-04-28T00:00:00\", \"2019-05-05T00:00:00\", \"2019-05-12T00:00:00\", \"2019-05-19T00:00:00\", \"2019-05-26T00:00:00\", \"2019-06-02T00:00:00\", \"2019-06-09T00:00:00\", \"2019-06-16T00:00:00\", \"2019-06-23T00:00:00\", \"2019-06-30T00:00:00\", \"2019-07-07T00:00:00\", \"2019-07-14T00:00:00\", \"2019-07-21T00:00:00\", \"2019-07-28T00:00:00\", \"2019-08-04T00:00:00\", \"2019-08-11T00:00:00\", \"2019-08-18T00:00:00\", \"2019-08-25T00:00:00\", \"2019-09-01T00:00:00\", \"2019-09-08T00:00:00\", \"2019-09-15T00:00:00\", \"2019-09-22T00:00:00\", \"2019-09-29T00:00:00\", \"2019-10-06T00:00:00\", \"2019-10-13T00:00:00\", \"2019-10-20T00:00:00\", \"2019-10-27T00:00:00\", \"2019-11-03T00:00:00\", \"2019-11-10T00:00:00\", \"2019-11-17T00:00:00\", \"2019-11-24T00:00:00\", \"2019-12-01T00:00:00\", \"2019-12-08T00:00:00\", \"2019-12-15T00:00:00\", \"2019-12-22T00:00:00\", \"2019-12-29T00:00:00\", \"2020-01-05T00:00:00\", \"2020-01-12T00:00:00\", \"2020-01-19T00:00:00\", \"2020-01-26T00:00:00\", \"2020-02-02T00:00:00\", \"2020-02-09T00:00:00\"], \"xaxis\": \"x4\", \"y\": [11.84, 11.84, 11.84, 11.84, 11.84, 11.84, 11.84, 11.84, 11.84, 11.84, 11.84, 11.84, 11.84, 11.84, 11.84, 11.84, 11.84, 11.84, 11.84, 11.84, 11.84, 11.84, 11.84, 11.84, 11.84, 11.84, 11.84, 11.84, 11.84, 11.84, 11.84, 11.84, 11.84, 11.84, 11.84, 11.84, 11.84, 11.84, 11.84, 11.84, 11.84, 11.84, 11.84, 11.84, 11.84, 11.84, 11.84, 11.84, 11.84, 11.84, 11.84, 11.84, 11.84, 11.84, 11.84, 11.84, 11.84], \"yaxis\": \"y4\"}, {\"line\": {\"color\": \"#FF5733\"}, \"name\": \"Nominal O\", \"type\": \"scatter\", \"x\": [\"2019-01-13T00:00:00\", \"2019-01-20T00:00:00\", \"2019-01-27T00:00:00\", \"2019-02-03T00:00:00\", \"2019-02-10T00:00:00\", \"2019-02-17T00:00:00\", \"2019-02-24T00:00:00\", \"2019-03-03T00:00:00\", \"2019-03-10T00:00:00\", \"2019-03-17T00:00:00\", \"2019-03-24T00:00:00\", \"2019-03-31T00:00:00\", \"2019-04-07T00:00:00\", \"2019-04-14T00:00:00\", \"2019-04-21T00:00:00\", \"2019-04-28T00:00:00\", \"2019-05-05T00:00:00\", \"2019-05-12T00:00:00\", \"2019-05-19T00:00:00\", \"2019-05-26T00:00:00\", \"2019-06-02T00:00:00\", \"2019-06-09T00:00:00\", \"2019-06-16T00:00:00\", \"2019-06-23T00:00:00\", \"2019-06-30T00:00:00\", \"2019-07-07T00:00:00\", \"2019-07-14T00:00:00\", \"2019-07-21T00:00:00\", \"2019-07-28T00:00:00\", \"2019-08-04T00:00:00\", \"2019-08-11T00:00:00\", \"2019-08-18T00:00:00\", \"2019-08-25T00:00:00\", \"2019-09-01T00:00:00\", \"2019-09-08T00:00:00\", \"2019-09-15T00:00:00\", \"2019-09-22T00:00:00\", \"2019-09-29T00:00:00\", \"2019-10-06T00:00:00\", \"2019-10-13T00:00:00\", \"2019-10-20T00:00:00\", \"2019-10-27T00:00:00\", \"2019-11-03T00:00:00\", \"2019-11-10T00:00:00\", \"2019-11-17T00:00:00\", \"2019-11-24T00:00:00\", \"2019-12-01T00:00:00\", \"2019-12-08T00:00:00\", \"2019-12-15T00:00:00\", \"2019-12-22T00:00:00\", \"2019-12-29T00:00:00\", \"2020-01-05T00:00:00\", \"2020-01-12T00:00:00\", \"2020-01-19T00:00:00\", \"2020-01-26T00:00:00\", \"2020-02-02T00:00:00\", \"2020-02-09T00:00:00\"], \"xaxis\": \"x4\", \"y\": [11.85, 11.85, 11.85, 11.85, 11.85, 11.85, 11.85, 11.85, 11.85, 11.85, 11.85, 11.85, 11.85, 11.85, 11.85, 11.85, 11.85, 11.85, 11.85, 11.85, 11.85, 11.85, 11.85, 11.85, 11.85, 11.85, 11.85, 11.85, 11.85, 11.85, 11.85, 11.85, 11.85, 11.85, 11.85, 11.85, 11.85, 11.85, 11.85, 11.85, 11.85, 11.85, 11.85, 11.85, 11.85, 11.85, 11.85, 11.85, 11.85, 11.85, 11.85, 11.85, 11.85, 11.85, 11.85, 11.85, 11.85], \"yaxis\": \"y4\"}, {\"line\": {\"color\": \"#33C2FF\"}, \"name\": \"UCL O\", \"type\": \"scatter\", \"x\": [\"2019-01-13T00:00:00\", \"2019-01-20T00:00:00\", \"2019-01-27T00:00:00\", \"2019-02-03T00:00:00\", \"2019-02-10T00:00:00\", \"2019-02-17T00:00:00\", \"2019-02-24T00:00:00\", \"2019-03-03T00:00:00\", \"2019-03-10T00:00:00\", \"2019-03-17T00:00:00\", \"2019-03-24T00:00:00\", \"2019-03-31T00:00:00\", \"2019-04-07T00:00:00\", \"2019-04-14T00:00:00\", \"2019-04-21T00:00:00\", \"2019-04-28T00:00:00\", \"2019-05-05T00:00:00\", \"2019-05-12T00:00:00\", \"2019-05-19T00:00:00\", \"2019-05-26T00:00:00\", \"2019-06-02T00:00:00\", \"2019-06-09T00:00:00\", \"2019-06-16T00:00:00\", \"2019-06-23T00:00:00\", \"2019-06-30T00:00:00\", \"2019-07-07T00:00:00\", \"2019-07-14T00:00:00\", \"2019-07-21T00:00:00\", \"2019-07-28T00:00:00\", \"2019-08-04T00:00:00\", \"2019-08-11T00:00:00\", \"2019-08-18T00:00:00\", \"2019-08-25T00:00:00\", \"2019-09-01T00:00:00\", \"2019-09-08T00:00:00\", \"2019-09-15T00:00:00\", \"2019-09-22T00:00:00\", \"2019-09-29T00:00:00\", \"2019-10-06T00:00:00\", \"2019-10-13T00:00:00\", \"2019-10-20T00:00:00\", \"2019-10-27T00:00:00\", \"2019-11-03T00:00:00\", \"2019-11-10T00:00:00\", \"2019-11-17T00:00:00\", \"2019-11-24T00:00:00\", \"2019-12-01T00:00:00\", \"2019-12-08T00:00:00\", \"2019-12-15T00:00:00\", \"2019-12-22T00:00:00\", \"2019-12-29T00:00:00\", \"2020-01-05T00:00:00\", \"2020-01-12T00:00:00\", \"2020-01-19T00:00:00\", \"2020-01-26T00:00:00\", \"2020-02-02T00:00:00\", \"2020-02-09T00:00:00\"], \"xaxis\": \"x4\", \"y\": [11.862447975171401, 11.862447975171401, 11.862447975171401, 11.862447975171401, 11.862447975171401, 11.862447975171401, 11.862447975171401, 11.862447975171401, 11.862447975171401, 11.862447975171401, 11.862447975171401, 11.862447975171401, 11.862447975171401, 11.862447975171401, 11.862447975171401, 11.862447975171401, 11.862447975171401, 11.862447975171401, 11.862447975171401, 11.862447975171401, 11.862447975171401, 11.862447975171401, 11.862447975171401, 11.862447975171401, 11.862447975171401, 11.862447975171401, 11.862447975171401, 11.862447975171401, 11.862447975171401, 11.862447975171401, 11.862447975171401, 11.862447975171401, 11.862447975171401, 11.862447975171401, 11.862447975171401, 11.862447975171401, 11.862447975171401, 11.862447975171401, 11.862447975171401, 11.862447975171401, 11.862447975171401, 11.862447975171401, 11.862447975171401, 11.862447975171401, 11.862447975171401, 11.862447975171401, 11.862447975171401, 11.862447975171401, 11.862447975171401, 11.862447975171401, 11.862447975171401, 11.862447975171401, 11.862447975171401, 11.862447975171401, 11.862447975171401, 11.862447975171401, 11.862447975171401], \"yaxis\": \"y4\"}, {\"line\": {\"color\": \"#33C2FF\"}, \"name\": \"LCL O\", \"type\": \"scatter\", \"x\": [\"2019-01-13T00:00:00\", \"2019-01-20T00:00:00\", \"2019-01-27T00:00:00\", \"2019-02-03T00:00:00\", \"2019-02-10T00:00:00\", \"2019-02-17T00:00:00\", \"2019-02-24T00:00:00\", \"2019-03-03T00:00:00\", \"2019-03-10T00:00:00\", \"2019-03-17T00:00:00\", \"2019-03-24T00:00:00\", \"2019-03-31T00:00:00\", \"2019-04-07T00:00:00\", \"2019-04-14T00:00:00\", \"2019-04-21T00:00:00\", \"2019-04-28T00:00:00\", \"2019-05-05T00:00:00\", \"2019-05-12T00:00:00\", \"2019-05-19T00:00:00\", \"2019-05-26T00:00:00\", \"2019-06-02T00:00:00\", \"2019-06-09T00:00:00\", \"2019-06-16T00:00:00\", \"2019-06-23T00:00:00\", \"2019-06-30T00:00:00\", \"2019-07-07T00:00:00\", \"2019-07-14T00:00:00\", \"2019-07-21T00:00:00\", \"2019-07-28T00:00:00\", \"2019-08-04T00:00:00\", \"2019-08-11T00:00:00\", \"2019-08-18T00:00:00\", \"2019-08-25T00:00:00\", \"2019-09-01T00:00:00\", \"2019-09-08T00:00:00\", \"2019-09-15T00:00:00\", \"2019-09-22T00:00:00\", \"2019-09-29T00:00:00\", \"2019-10-06T00:00:00\", \"2019-10-13T00:00:00\", \"2019-10-20T00:00:00\", \"2019-10-27T00:00:00\", \"2019-11-03T00:00:00\", \"2019-11-10T00:00:00\", \"2019-11-17T00:00:00\", \"2019-11-24T00:00:00\", \"2019-12-01T00:00:00\", \"2019-12-08T00:00:00\", \"2019-12-15T00:00:00\", \"2019-12-22T00:00:00\", \"2019-12-29T00:00:00\", \"2020-01-05T00:00:00\", \"2020-01-12T00:00:00\", \"2020-01-19T00:00:00\", \"2020-01-26T00:00:00\", \"2020-02-02T00:00:00\", \"2020-02-09T00:00:00\"], \"xaxis\": \"x4\", \"y\": [11.843409167685737, 11.843409167685737, 11.843409167685737, 11.843409167685737, 11.843409167685737, 11.843409167685737, 11.843409167685737, 11.843409167685737, 11.843409167685737, 11.843409167685737, 11.843409167685737, 11.843409167685737, 11.843409167685737, 11.843409167685737, 11.843409167685737, 11.843409167685737, 11.843409167685737, 11.843409167685737, 11.843409167685737, 11.843409167685737, 11.843409167685737, 11.843409167685737, 11.843409167685737, 11.843409167685737, 11.843409167685737, 11.843409167685737, 11.843409167685737, 11.843409167685737, 11.843409167685737, 11.843409167685737, 11.843409167685737, 11.843409167685737, 11.843409167685737, 11.843409167685737, 11.843409167685737, 11.843409167685737, 11.843409167685737, 11.843409167685737, 11.843409167685737, 11.843409167685737, 11.843409167685737, 11.843409167685737, 11.843409167685737, 11.843409167685737, 11.843409167685737, 11.843409167685737, 11.843409167685737, 11.843409167685737, 11.843409167685737, 11.843409167685737, 11.843409167685737, 11.843409167685737, 11.843409167685737, 11.843409167685737, 11.843409167685737, 11.843409167685737, 11.843409167685737], \"yaxis\": \"y4\"}, {\"line\": {\"color\": \"#33C2FF\"}, \"name\": \"mean O\", \"type\": \"scatter\", \"x\": [\"2019-01-13T00:00:00\", \"2019-01-20T00:00:00\", \"2019-01-27T00:00:00\", \"2019-02-03T00:00:00\", \"2019-02-10T00:00:00\", \"2019-02-17T00:00:00\", \"2019-02-24T00:00:00\", \"2019-03-03T00:00:00\", \"2019-03-10T00:00:00\", \"2019-03-17T00:00:00\", \"2019-03-24T00:00:00\", \"2019-03-31T00:00:00\", \"2019-04-07T00:00:00\", \"2019-04-14T00:00:00\", \"2019-04-21T00:00:00\", \"2019-04-28T00:00:00\", \"2019-05-05T00:00:00\", \"2019-05-12T00:00:00\", \"2019-05-19T00:00:00\", \"2019-05-26T00:00:00\", \"2019-06-02T00:00:00\", \"2019-06-09T00:00:00\", \"2019-06-16T00:00:00\", \"2019-06-23T00:00:00\", \"2019-06-30T00:00:00\", \"2019-07-07T00:00:00\", \"2019-07-14T00:00:00\", \"2019-07-21T00:00:00\", \"2019-07-28T00:00:00\", \"2019-08-04T00:00:00\", \"2019-08-11T00:00:00\", \"2019-08-18T00:00:00\", \"2019-08-25T00:00:00\", \"2019-09-01T00:00:00\", \"2019-09-08T00:00:00\", \"2019-09-15T00:00:00\", \"2019-09-22T00:00:00\", \"2019-09-29T00:00:00\", \"2019-10-06T00:00:00\", \"2019-10-13T00:00:00\", \"2019-10-20T00:00:00\", \"2019-10-27T00:00:00\", \"2019-11-03T00:00:00\", \"2019-11-10T00:00:00\", \"2019-11-17T00:00:00\", \"2019-11-24T00:00:00\", \"2019-12-01T00:00:00\", \"2019-12-08T00:00:00\", \"2019-12-15T00:00:00\", \"2019-12-22T00:00:00\", \"2019-12-29T00:00:00\", \"2020-01-05T00:00:00\", \"2020-01-12T00:00:00\", \"2020-01-19T00:00:00\", \"2020-01-26T00:00:00\", \"2020-02-02T00:00:00\", \"2020-02-09T00:00:00\"], \"xaxis\": \"x4\", \"y\": [11.852928571428569, 11.852928571428569, 11.852928571428569, 11.852928571428569, 11.852928571428569, 11.852928571428569, 11.852928571428569, 11.852928571428569, 11.852928571428569, 11.852928571428569, 11.852928571428569, 11.852928571428569, 11.852928571428569, 11.852928571428569, 11.852928571428569, 11.852928571428569, 11.852928571428569, 11.852928571428569, 11.852928571428569, 11.852928571428569, 11.852928571428569, 11.852928571428569, 11.852928571428569, 11.852928571428569, 11.852928571428569, 11.852928571428569, 11.852928571428569, 11.852928571428569, 11.852928571428569, 11.852928571428569, 11.852928571428569, 11.852928571428569, 11.852928571428569, 11.852928571428569, 11.852928571428569, 11.852928571428569, 11.852928571428569, 11.852928571428569, 11.852928571428569, 11.852928571428569, 11.852928571428569, 11.852928571428569, 11.852928571428569, 11.852928571428569, 11.852928571428569, 11.852928571428569, 11.852928571428569, 11.852928571428569, 11.852928571428569, 11.852928571428569, 11.852928571428569, 11.852928571428569, 11.852928571428569, 11.852928571428569, 11.852928571428569, 11.852928571428569, 11.852928571428569], \"yaxis\": \"y4\"}, {\"line\": {\"color\": \"#9FA0F8\"}, \"name\": \"yhat_upper O\", \"type\": \"scatter\", \"x\": [\"2019-01-13T00:00:00\", \"2019-01-20T00:00:00\", \"2019-01-27T00:00:00\", \"2019-02-03T00:00:00\", \"2019-02-10T00:00:00\", \"2019-02-17T00:00:00\", \"2019-02-24T00:00:00\", \"2019-03-03T00:00:00\", \"2019-03-10T00:00:00\", \"2019-03-17T00:00:00\", \"2019-03-24T00:00:00\", \"2019-03-31T00:00:00\", \"2019-04-07T00:00:00\", \"2019-04-14T00:00:00\", \"2019-04-21T00:00:00\", \"2019-04-28T00:00:00\", \"2019-05-05T00:00:00\", \"2019-05-12T00:00:00\", \"2019-05-19T00:00:00\", \"2019-05-26T00:00:00\", \"2019-06-02T00:00:00\", \"2019-06-09T00:00:00\", \"2019-06-16T00:00:00\", \"2019-06-23T00:00:00\", \"2019-06-30T00:00:00\", \"2019-07-07T00:00:00\", \"2019-07-14T00:00:00\", \"2019-07-21T00:00:00\", \"2019-07-28T00:00:00\", \"2019-08-04T00:00:00\", \"2019-08-11T00:00:00\", \"2019-08-18T00:00:00\", \"2019-08-25T00:00:00\", \"2019-09-01T00:00:00\", \"2019-09-08T00:00:00\", \"2019-09-15T00:00:00\", \"2019-09-22T00:00:00\", \"2019-09-29T00:00:00\", \"2019-10-06T00:00:00\", \"2019-10-13T00:00:00\", \"2019-10-20T00:00:00\", \"2019-10-27T00:00:00\", \"2019-11-03T00:00:00\", \"2019-11-10T00:00:00\", \"2019-11-17T00:00:00\", \"2019-11-24T00:00:00\", \"2019-12-01T00:00:00\", \"2019-12-08T00:00:00\", \"2019-12-15T00:00:00\", \"2019-12-22T00:00:00\", \"2019-12-29T00:00:00\", \"2020-01-05T00:00:00\", \"2020-01-12T00:00:00\", \"2020-01-19T00:00:00\", \"2020-01-26T00:00:00\", \"2020-02-02T00:00:00\", \"2020-02-09T00:00:00\"], \"xaxis\": \"x4\", \"y\": [11.854139369464592, 11.854272336063055, 11.854277289230389, 11.856310036139, 11.855757506427624, 11.855332741621918, 11.853742307423692, 11.855708392292268, 11.857572777994395, 11.855570144671324, 11.853549479634799, 11.85481225904316, 11.856131639331952, 11.85745427934854, 11.85435976641886, 11.85427565219637, 11.854186158863845, 11.854235011382205, 11.854237856469611, 11.854312340396318, 11.853892020729376, 11.853606390817859, 11.858111504752971, 11.8580478780701, 11.857967008992397, 11.857683350386155, 11.857247251775021, 11.857137900469434, 11.857142590027248, 11.856956005924449, 11.8528010582528, 11.851211102335613, 11.849833736225847, 11.853055450431501, 11.856168987790397, 11.857035767836967, 11.857311164298498, 11.857314239736072, 11.85833960065412, 11.854736542106153, 11.851185678606825, 11.851164663485545, 11.851116442438983, 11.851146242759993, 11.851199907990582, 11.85118509061463, 11.85121921362447, 11.851198666688735, 11.851251469600246, 11.85127034328359, 11.851286004891145, 11.851314418075809, 11.851685490948697, 11.853076162403896, 11.856167509201828, 11.860068348844818, 11.864028253382347], \"yaxis\": \"y4\"}, {\"fill\": \"tonexty\", \"line\": {\"color\": \"#9FA0F8\"}, \"name\": \"yhat_lower O\", \"type\": \"scatter\", \"x\": [\"2019-01-13T00:00:00\", \"2019-01-20T00:00:00\", \"2019-01-27T00:00:00\", \"2019-02-03T00:00:00\", \"2019-02-10T00:00:00\", \"2019-02-17T00:00:00\", \"2019-02-24T00:00:00\", \"2019-03-03T00:00:00\", \"2019-03-10T00:00:00\", \"2019-03-17T00:00:00\", \"2019-03-24T00:00:00\", \"2019-03-31T00:00:00\", \"2019-04-07T00:00:00\", \"2019-04-14T00:00:00\", \"2019-04-21T00:00:00\", \"2019-04-28T00:00:00\", \"2019-05-05T00:00:00\", \"2019-05-12T00:00:00\", \"2019-05-19T00:00:00\", \"2019-05-26T00:00:00\", \"2019-06-02T00:00:00\", \"2019-06-09T00:00:00\", \"2019-06-16T00:00:00\", \"2019-06-23T00:00:00\", \"2019-06-30T00:00:00\", \"2019-07-07T00:00:00\", \"2019-07-14T00:00:00\", \"2019-07-21T00:00:00\", \"2019-07-28T00:00:00\", \"2019-08-04T00:00:00\", \"2019-08-11T00:00:00\", \"2019-08-18T00:00:00\", \"2019-08-25T00:00:00\", \"2019-09-01T00:00:00\", \"2019-09-08T00:00:00\", \"2019-09-15T00:00:00\", \"2019-09-22T00:00:00\", \"2019-09-29T00:00:00\", \"2019-10-06T00:00:00\", \"2019-10-13T00:00:00\", \"2019-10-20T00:00:00\", \"2019-10-27T00:00:00\", \"2019-11-03T00:00:00\", \"2019-11-10T00:00:00\", \"2019-11-17T00:00:00\", \"2019-11-24T00:00:00\", \"2019-12-01T00:00:00\", \"2019-12-08T00:00:00\", \"2019-12-15T00:00:00\", \"2019-12-22T00:00:00\", \"2019-12-29T00:00:00\", \"2020-01-05T00:00:00\", \"2020-01-12T00:00:00\", \"2020-01-19T00:00:00\", \"2020-01-26T00:00:00\", \"2020-02-02T00:00:00\", \"2020-02-09T00:00:00\"], \"xaxis\": \"x4\", \"y\": [11.851730284509186, 11.851826874933035, 11.851906939800497, 11.853861808443162, 11.85343566337198, 11.85291599598543, 11.851349967766042, 11.853263572313313, 11.855229256036493, 11.853183503004885, 11.851274409001512, 11.852484515660613, 11.853782801005796, 11.855126394717642, 11.851969001348309, 11.851887400320111, 11.851764728985112, 11.851900232891163, 11.851796586999019, 11.851843687492671, 11.851522788655728, 11.851166433406016, 11.85572148642764, 11.855627600619131, 11.85557376471335, 11.855265724326935, 11.854753796213558, 11.85476696762828, 11.854714237755827, 11.854600192287215, 11.85036258219751, 11.848807347710627, 11.847429854676744, 11.850697877438549, 11.85375952799675, 11.854763126557321, 11.854882062382677, 11.855034535027666, 11.855802497944325, 11.852338131727803, 11.848741766513456, 11.848877917927334, 11.84880010208745, 11.84880464969491, 11.848795953205187, 11.8487543630867, 11.848930188950167, 11.848813330735132, 11.84883489251947, 11.848875393292783, 11.848867621233174, 11.849007604977054, 11.848476995413579, 11.847034938301068, 11.84335013954593, 11.838898605140397, 11.832525228644165], \"yaxis\": \"y4\"}, {\"line\": {\"color\": \"#4280F5\"}, \"mode\": \"lines+markers\", \"name\": \"mean Z\", \"type\": \"scatter\", \"x\": [\"2019-01-11T00:00:00\", \"2019-01-22T00:00:00\", \"2019-01-26T00:00:00\", \"2019-01-31T00:00:00\", \"2019-02-11T00:00:00\", \"2019-02-22T00:00:00\", \"2019-02-27T00:00:00\", \"2019-03-07T00:00:00\", \"2019-03-15T00:00:00\", \"2019-04-05T00:00:00\", \"2019-04-16T00:00:00\", \"2019-05-27T00:00:00\", \"2019-06-03T00:00:00\", \"2019-06-10T00:00:00\", \"2019-06-17T00:00:00\", \"2019-06-25T00:00:00\", \"2019-06-28T00:00:00\", \"2019-08-07T00:00:00\", \"2019-08-19T00:00:00\", \"2019-08-26T00:00:00\", \"2019-09-05T00:00:00\", \"2019-10-17T00:00:00\", \"2019-11-01T00:00:00\", \"2019-11-13T00:00:00\", \"2019-12-05T00:00:00\", \"2019-12-10T00:00:00\", \"2019-12-26T00:00:00\", \"2019-12-31T00:00:00\"], \"xaxis\": \"x5\", \"y\": [0.31, 0.311, 0.311, 0.311, 0.312, 0.312, 0.311, 0.311, 0.312, 0.311, 0.313, 0.313, 0.313, 0.311, 0.313, 0.316, 0.316, 0.313, 0.313, 0.313, 0.316, 0.313, 0.313, 0.315, 0.308, 0.311, 0.312, 0.313], \"yaxis\": \"y5\"}, {\"line\": {\"color\": \"#060891\"}, \"mode\": \"lines+markers\", \"name\": \"mean predict Z\", \"type\": \"scatter\", \"x\": [\"2019-01-13T00:00:00\", \"2019-01-20T00:00:00\", \"2019-01-27T00:00:00\", \"2019-02-03T00:00:00\", \"2019-02-10T00:00:00\", \"2019-02-17T00:00:00\", \"2019-02-24T00:00:00\", \"2019-03-03T00:00:00\", \"2019-03-10T00:00:00\", \"2019-03-17T00:00:00\", \"2019-03-24T00:00:00\", \"2019-03-31T00:00:00\", \"2019-04-07T00:00:00\", \"2019-04-14T00:00:00\", \"2019-04-21T00:00:00\", \"2019-04-28T00:00:00\", \"2019-05-05T00:00:00\", \"2019-05-12T00:00:00\", \"2019-05-19T00:00:00\", \"2019-05-26T00:00:00\", \"2019-06-02T00:00:00\", \"2019-06-09T00:00:00\", \"2019-06-16T00:00:00\", \"2019-06-23T00:00:00\", \"2019-06-30T00:00:00\", \"2019-07-07T00:00:00\", \"2019-07-14T00:00:00\", \"2019-07-21T00:00:00\", \"2019-07-28T00:00:00\", \"2019-08-04T00:00:00\", \"2019-08-11T00:00:00\", \"2019-08-18T00:00:00\", \"2019-08-25T00:00:00\", \"2019-09-01T00:00:00\", \"2019-09-08T00:00:00\", \"2019-09-15T00:00:00\", \"2019-09-22T00:00:00\", \"2019-09-29T00:00:00\", \"2019-10-06T00:00:00\", \"2019-10-13T00:00:00\", \"2019-10-20T00:00:00\", \"2019-10-27T00:00:00\", \"2019-11-03T00:00:00\", \"2019-11-10T00:00:00\", \"2019-11-17T00:00:00\", \"2019-11-24T00:00:00\", \"2019-12-01T00:00:00\", \"2019-12-08T00:00:00\", \"2019-12-15T00:00:00\", \"2019-12-22T00:00:00\", \"2019-12-29T00:00:00\", \"2020-01-05T00:00:00\", \"2020-01-12T00:00:00\", \"2020-01-19T00:00:00\", \"2020-01-26T00:00:00\", \"2020-02-02T00:00:00\", \"2020-02-09T00:00:00\"], \"xaxis\": \"x5\", \"y\": [0.3103327927956349, 0.31047909902311666, 0.3106254052505984, 0.31077171147167926, 0.3109180176976262, 0.3110643239235732, 0.31121063014825595, 0.31135693636514183, 0.31150324258202766, 0.31164954879996176, 0.3117958550178959, 0.31194403871347104, 0.3120924524938603, 0.3122408662742496, 0.31239504630867987, 0.3125501189239608, 0.31270519153924176, 0.3128603774855712, 0.3130155634319006, 0.31317588234839905, 0.3133417240732248, 0.3135075657980506, 0.31368192836427783, 0.31394340330567627, 0.3142048782470746, 0.31446635318464455, 0.3147278281222145, 0.3147659357193058, 0.3147997937222157, 0.3148336517251258, 0.31486750972114136, 0.31490185718151326, 0.31493620464188515, 0.31497243720911866, 0.31500866977635217, 0.3150449023341136, 0.3150811348419262, 0.3151173673497388, 0.3148990496500591, 0.3146283931277081, 0.3143577366053571, 0.3140870800726543, 0.3138164235399515, 0.3135457670072487, 0.31327511047454587, 0.31300445394184306, 0.3127337974091402, 0.31246314087643745, 0.3121924843437346, 0.31192182781103184, 0.311651171278329, 0.31138051474562617, 0.31110985821292336, 0.31083920168022056, 0.31056854514751775, 0.31029788861481494, 0.31002723208211214], \"yaxis\": \"y5\"}, {\"line\": {\"color\": \"#FF5733\"}, \"name\": \"USL Z\", \"type\": \"scatter\", \"x\": [\"2019-01-13T00:00:00\", \"2019-01-20T00:00:00\", \"2019-01-27T00:00:00\", \"2019-02-03T00:00:00\", \"2019-02-10T00:00:00\", \"2019-02-17T00:00:00\", \"2019-02-24T00:00:00\", \"2019-03-03T00:00:00\", \"2019-03-10T00:00:00\", \"2019-03-17T00:00:00\", \"2019-03-24T00:00:00\", \"2019-03-31T00:00:00\", \"2019-04-07T00:00:00\", \"2019-04-14T00:00:00\", \"2019-04-21T00:00:00\", \"2019-04-28T00:00:00\", \"2019-05-05T00:00:00\", \"2019-05-12T00:00:00\", \"2019-05-19T00:00:00\", \"2019-05-26T00:00:00\", \"2019-06-02T00:00:00\", \"2019-06-09T00:00:00\", \"2019-06-16T00:00:00\", \"2019-06-23T00:00:00\", \"2019-06-30T00:00:00\", \"2019-07-07T00:00:00\", \"2019-07-14T00:00:00\", \"2019-07-21T00:00:00\", \"2019-07-28T00:00:00\", \"2019-08-04T00:00:00\", \"2019-08-11T00:00:00\", \"2019-08-18T00:00:00\", \"2019-08-25T00:00:00\", \"2019-09-01T00:00:00\", \"2019-09-08T00:00:00\", \"2019-09-15T00:00:00\", \"2019-09-22T00:00:00\", \"2019-09-29T00:00:00\", \"2019-10-06T00:00:00\", \"2019-10-13T00:00:00\", \"2019-10-20T00:00:00\", \"2019-10-27T00:00:00\", \"2019-11-03T00:00:00\", \"2019-11-10T00:00:00\", \"2019-11-17T00:00:00\", \"2019-11-24T00:00:00\", \"2019-12-01T00:00:00\", \"2019-12-08T00:00:00\", \"2019-12-15T00:00:00\", \"2019-12-22T00:00:00\", \"2019-12-29T00:00:00\", \"2020-01-05T00:00:00\", \"2020-01-12T00:00:00\", \"2020-01-19T00:00:00\", \"2020-01-26T00:00:00\", \"2020-02-02T00:00:00\", \"2020-02-09T00:00:00\"], \"xaxis\": \"x5\", \"y\": [0.32, 0.32, 0.32, 0.32, 0.32, 0.32, 0.32, 0.32, 0.32, 0.32, 0.32, 0.32, 0.32, 0.32, 0.32, 0.32, 0.32, 0.32, 0.32, 0.32, 0.32, 0.32, 0.32, 0.32, 0.32, 0.32, 0.32, 0.32, 0.32, 0.32, 0.32, 0.32, 0.32, 0.32, 0.32, 0.32, 0.32, 0.32, 0.32, 0.32, 0.32, 0.32, 0.32, 0.32, 0.32, 0.32, 0.32, 0.32, 0.32, 0.32, 0.32, 0.32, 0.32, 0.32, 0.32, 0.32, 0.32], \"yaxis\": \"y5\"}, {\"line\": {\"color\": \"#FF5733\"}, \"name\": \"LSL Z\", \"type\": \"scatter\", \"x\": [\"2019-01-13T00:00:00\", \"2019-01-20T00:00:00\", \"2019-01-27T00:00:00\", \"2019-02-03T00:00:00\", \"2019-02-10T00:00:00\", \"2019-02-17T00:00:00\", \"2019-02-24T00:00:00\", \"2019-03-03T00:00:00\", \"2019-03-10T00:00:00\", \"2019-03-17T00:00:00\", \"2019-03-24T00:00:00\", \"2019-03-31T00:00:00\", \"2019-04-07T00:00:00\", \"2019-04-14T00:00:00\", \"2019-04-21T00:00:00\", \"2019-04-28T00:00:00\", \"2019-05-05T00:00:00\", \"2019-05-12T00:00:00\", \"2019-05-19T00:00:00\", \"2019-05-26T00:00:00\", \"2019-06-02T00:00:00\", \"2019-06-09T00:00:00\", \"2019-06-16T00:00:00\", \"2019-06-23T00:00:00\", \"2019-06-30T00:00:00\", \"2019-07-07T00:00:00\", \"2019-07-14T00:00:00\", \"2019-07-21T00:00:00\", \"2019-07-28T00:00:00\", \"2019-08-04T00:00:00\", \"2019-08-11T00:00:00\", \"2019-08-18T00:00:00\", \"2019-08-25T00:00:00\", \"2019-09-01T00:00:00\", \"2019-09-08T00:00:00\", \"2019-09-15T00:00:00\", \"2019-09-22T00:00:00\", \"2019-09-29T00:00:00\", \"2019-10-06T00:00:00\", \"2019-10-13T00:00:00\", \"2019-10-20T00:00:00\", \"2019-10-27T00:00:00\", \"2019-11-03T00:00:00\", \"2019-11-10T00:00:00\", \"2019-11-17T00:00:00\", \"2019-11-24T00:00:00\", \"2019-12-01T00:00:00\", \"2019-12-08T00:00:00\", \"2019-12-15T00:00:00\", \"2019-12-22T00:00:00\", \"2019-12-29T00:00:00\", \"2020-01-05T00:00:00\", \"2020-01-12T00:00:00\", \"2020-01-19T00:00:00\", \"2020-01-26T00:00:00\", \"2020-02-02T00:00:00\", \"2020-02-09T00:00:00\"], \"xaxis\": \"x5\", \"y\": [0.27999999999999997, 0.27999999999999997, 0.27999999999999997, 0.27999999999999997, 0.27999999999999997, 0.27999999999999997, 0.27999999999999997, 0.27999999999999997, 0.27999999999999997, 0.27999999999999997, 0.27999999999999997, 0.27999999999999997, 0.27999999999999997, 0.27999999999999997, 0.27999999999999997, 0.27999999999999997, 0.27999999999999997, 0.27999999999999997, 0.27999999999999997, 0.27999999999999997, 0.27999999999999997, 0.27999999999999997, 0.27999999999999997, 0.27999999999999997, 0.27999999999999997, 0.27999999999999997, 0.27999999999999997, 0.27999999999999997, 0.27999999999999997, 0.27999999999999997, 0.27999999999999997, 0.27999999999999997, 0.27999999999999997, 0.27999999999999997, 0.27999999999999997, 0.27999999999999997, 0.27999999999999997, 0.27999999999999997, 0.27999999999999997, 0.27999999999999997, 0.27999999999999997, 0.27999999999999997, 0.27999999999999997, 0.27999999999999997, 0.27999999999999997, 0.27999999999999997, 0.27999999999999997, 0.27999999999999997, 0.27999999999999997, 0.27999999999999997, 0.27999999999999997, 0.27999999999999997, 0.27999999999999997, 0.27999999999999997, 0.27999999999999997, 0.27999999999999997, 0.27999999999999997], \"yaxis\": \"y5\"}, {\"line\": {\"color\": \"#FF5733\"}, \"name\": \"Nominal Z\", \"type\": \"scatter\", \"x\": [\"2019-01-13T00:00:00\", \"2019-01-20T00:00:00\", \"2019-01-27T00:00:00\", \"2019-02-03T00:00:00\", \"2019-02-10T00:00:00\", \"2019-02-17T00:00:00\", \"2019-02-24T00:00:00\", \"2019-03-03T00:00:00\", \"2019-03-10T00:00:00\", \"2019-03-17T00:00:00\", \"2019-03-24T00:00:00\", \"2019-03-31T00:00:00\", \"2019-04-07T00:00:00\", \"2019-04-14T00:00:00\", \"2019-04-21T00:00:00\", \"2019-04-28T00:00:00\", \"2019-05-05T00:00:00\", \"2019-05-12T00:00:00\", \"2019-05-19T00:00:00\", \"2019-05-26T00:00:00\", \"2019-06-02T00:00:00\", \"2019-06-09T00:00:00\", \"2019-06-16T00:00:00\", \"2019-06-23T00:00:00\", \"2019-06-30T00:00:00\", \"2019-07-07T00:00:00\", \"2019-07-14T00:00:00\", \"2019-07-21T00:00:00\", \"2019-07-28T00:00:00\", \"2019-08-04T00:00:00\", \"2019-08-11T00:00:00\", \"2019-08-18T00:00:00\", \"2019-08-25T00:00:00\", \"2019-09-01T00:00:00\", \"2019-09-08T00:00:00\", \"2019-09-15T00:00:00\", \"2019-09-22T00:00:00\", \"2019-09-29T00:00:00\", \"2019-10-06T00:00:00\", \"2019-10-13T00:00:00\", \"2019-10-20T00:00:00\", \"2019-10-27T00:00:00\", \"2019-11-03T00:00:00\", \"2019-11-10T00:00:00\", \"2019-11-17T00:00:00\", \"2019-11-24T00:00:00\", \"2019-12-01T00:00:00\", \"2019-12-08T00:00:00\", \"2019-12-15T00:00:00\", \"2019-12-22T00:00:00\", \"2019-12-29T00:00:00\", \"2020-01-05T00:00:00\", \"2020-01-12T00:00:00\", \"2020-01-19T00:00:00\", \"2020-01-26T00:00:00\", \"2020-02-02T00:00:00\", \"2020-02-09T00:00:00\"], \"xaxis\": \"x5\", \"y\": [0.3, 0.3, 0.3, 0.3, 0.3, 0.3, 0.3, 0.3, 0.3, 0.3, 0.3, 0.3, 0.3, 0.3, 0.3, 0.3, 0.3, 0.3, 0.3, 0.3, 0.3, 0.3, 0.3, 0.3, 0.3, 0.3, 0.3, 0.3, 0.3, 0.3, 0.3, 0.3, 0.3, 0.3, 0.3, 0.3, 0.3, 0.3, 0.3, 0.3, 0.3, 0.3, 0.3, 0.3, 0.3, 0.3, 0.3, 0.3, 0.3, 0.3, 0.3, 0.3, 0.3, 0.3, 0.3, 0.3, 0.3], \"yaxis\": \"y5\"}, {\"line\": {\"color\": \"#33C2FF\"}, \"name\": \"UCL Z\", \"type\": \"scatter\", \"x\": [\"2019-01-13T00:00:00\", \"2019-01-20T00:00:00\", \"2019-01-27T00:00:00\", \"2019-02-03T00:00:00\", \"2019-02-10T00:00:00\", \"2019-02-17T00:00:00\", \"2019-02-24T00:00:00\", \"2019-03-03T00:00:00\", \"2019-03-10T00:00:00\", \"2019-03-17T00:00:00\", \"2019-03-24T00:00:00\", \"2019-03-31T00:00:00\", \"2019-04-07T00:00:00\", \"2019-04-14T00:00:00\", \"2019-04-21T00:00:00\", \"2019-04-28T00:00:00\", \"2019-05-05T00:00:00\", \"2019-05-12T00:00:00\", \"2019-05-19T00:00:00\", \"2019-05-26T00:00:00\", \"2019-06-02T00:00:00\", \"2019-06-09T00:00:00\", \"2019-06-16T00:00:00\", \"2019-06-23T00:00:00\", \"2019-06-30T00:00:00\", \"2019-07-07T00:00:00\", \"2019-07-14T00:00:00\", \"2019-07-21T00:00:00\", \"2019-07-28T00:00:00\", \"2019-08-04T00:00:00\", \"2019-08-11T00:00:00\", \"2019-08-18T00:00:00\", \"2019-08-25T00:00:00\", \"2019-09-01T00:00:00\", \"2019-09-08T00:00:00\", \"2019-09-15T00:00:00\", \"2019-09-22T00:00:00\", \"2019-09-29T00:00:00\", \"2019-10-06T00:00:00\", \"2019-10-13T00:00:00\", \"2019-10-20T00:00:00\", \"2019-10-27T00:00:00\", \"2019-11-03T00:00:00\", \"2019-11-10T00:00:00\", \"2019-11-17T00:00:00\", \"2019-11-24T00:00:00\", \"2019-12-01T00:00:00\", \"2019-12-08T00:00:00\", \"2019-12-15T00:00:00\", \"2019-12-22T00:00:00\", \"2019-12-29T00:00:00\", \"2020-01-05T00:00:00\", \"2020-01-12T00:00:00\", \"2020-01-19T00:00:00\", \"2020-01-26T00:00:00\", \"2020-02-02T00:00:00\", \"2020-02-09T00:00:00\"], \"xaxis\": \"x5\", \"y\": [0.31789069221460947, 0.31789069221460947, 0.31789069221460947, 0.31789069221460947, 0.31789069221460947, 0.31789069221460947, 0.31789069221460947, 0.31789069221460947, 0.31789069221460947, 0.31789069221460947, 0.31789069221460947, 0.31789069221460947, 0.31789069221460947, 0.31789069221460947, 0.31789069221460947, 0.31789069221460947, 0.31789069221460947, 0.31789069221460947, 0.31789069221460947, 0.31789069221460947, 0.31789069221460947, 0.31789069221460947, 0.31789069221460947, 0.31789069221460947, 0.31789069221460947, 0.31789069221460947, 0.31789069221460947, 0.31789069221460947, 0.31789069221460947, 0.31789069221460947, 0.31789069221460947, 0.31789069221460947, 0.31789069221460947, 0.31789069221460947, 0.31789069221460947, 0.31789069221460947, 0.31789069221460947, 0.31789069221460947, 0.31789069221460947, 0.31789069221460947, 0.31789069221460947, 0.31789069221460947, 0.31789069221460947, 0.31789069221460947, 0.31789069221460947, 0.31789069221460947, 0.31789069221460947, 0.31789069221460947, 0.31789069221460947, 0.31789069221460947, 0.31789069221460947, 0.31789069221460947, 0.31789069221460947, 0.31789069221460947, 0.31789069221460947, 0.31789069221460947, 0.31789069221460947], \"yaxis\": \"y5\"}, {\"line\": {\"color\": \"#33C2FF\"}, \"name\": \"LCL Z\", \"type\": \"scatter\", \"x\": [\"2019-01-13T00:00:00\", \"2019-01-20T00:00:00\", \"2019-01-27T00:00:00\", \"2019-02-03T00:00:00\", \"2019-02-10T00:00:00\", \"2019-02-17T00:00:00\", \"2019-02-24T00:00:00\", \"2019-03-03T00:00:00\", \"2019-03-10T00:00:00\", \"2019-03-17T00:00:00\", \"2019-03-24T00:00:00\", \"2019-03-31T00:00:00\", \"2019-04-07T00:00:00\", \"2019-04-14T00:00:00\", \"2019-04-21T00:00:00\", \"2019-04-28T00:00:00\", \"2019-05-05T00:00:00\", \"2019-05-12T00:00:00\", \"2019-05-19T00:00:00\", \"2019-05-26T00:00:00\", \"2019-06-02T00:00:00\", \"2019-06-09T00:00:00\", \"2019-06-16T00:00:00\", \"2019-06-23T00:00:00\", \"2019-06-30T00:00:00\", \"2019-07-07T00:00:00\", \"2019-07-14T00:00:00\", \"2019-07-21T00:00:00\", \"2019-07-28T00:00:00\", \"2019-08-04T00:00:00\", \"2019-08-11T00:00:00\", \"2019-08-18T00:00:00\", \"2019-08-25T00:00:00\", \"2019-09-01T00:00:00\", \"2019-09-08T00:00:00\", \"2019-09-15T00:00:00\", \"2019-09-22T00:00:00\", \"2019-09-29T00:00:00\", \"2019-10-06T00:00:00\", \"2019-10-13T00:00:00\", \"2019-10-20T00:00:00\", \"2019-10-27T00:00:00\", \"2019-11-03T00:00:00\", \"2019-11-10T00:00:00\", \"2019-11-17T00:00:00\", \"2019-11-24T00:00:00\", \"2019-12-01T00:00:00\", \"2019-12-08T00:00:00\", \"2019-12-15T00:00:00\", \"2019-12-22T00:00:00\", \"2019-12-29T00:00:00\", \"2020-01-05T00:00:00\", \"2020-01-12T00:00:00\", \"2020-01-19T00:00:00\", \"2020-01-26T00:00:00\", \"2020-02-02T00:00:00\", \"2020-02-09T00:00:00\"], \"xaxis\": \"x5\", \"y\": [0.3068950220711047, 0.3068950220711047, 0.3068950220711047, 0.3068950220711047, 0.3068950220711047, 0.3068950220711047, 0.3068950220711047, 0.3068950220711047, 0.3068950220711047, 0.3068950220711047, 0.3068950220711047, 0.3068950220711047, 0.3068950220711047, 0.3068950220711047, 0.3068950220711047, 0.3068950220711047, 0.3068950220711047, 0.3068950220711047, 0.3068950220711047, 0.3068950220711047, 0.3068950220711047, 0.3068950220711047, 0.3068950220711047, 0.3068950220711047, 0.3068950220711047, 0.3068950220711047, 0.3068950220711047, 0.3068950220711047, 0.3068950220711047, 0.3068950220711047, 0.3068950220711047, 0.3068950220711047, 0.3068950220711047, 0.3068950220711047, 0.3068950220711047, 0.3068950220711047, 0.3068950220711047, 0.3068950220711047, 0.3068950220711047, 0.3068950220711047, 0.3068950220711047, 0.3068950220711047, 0.3068950220711047, 0.3068950220711047, 0.3068950220711047, 0.3068950220711047, 0.3068950220711047, 0.3068950220711047, 0.3068950220711047, 0.3068950220711047, 0.3068950220711047, 0.3068950220711047, 0.3068950220711047, 0.3068950220711047, 0.3068950220711047, 0.3068950220711047, 0.3068950220711047], \"yaxis\": \"y5\"}, {\"line\": {\"color\": \"#33C2FF\"}, \"name\": \"mean Z\", \"type\": \"scatter\", \"x\": [\"2019-01-13T00:00:00\", \"2019-01-20T00:00:00\", \"2019-01-27T00:00:00\", \"2019-02-03T00:00:00\", \"2019-02-10T00:00:00\", \"2019-02-17T00:00:00\", \"2019-02-24T00:00:00\", \"2019-03-03T00:00:00\", \"2019-03-10T00:00:00\", \"2019-03-17T00:00:00\", \"2019-03-24T00:00:00\", \"2019-03-31T00:00:00\", \"2019-04-07T00:00:00\", \"2019-04-14T00:00:00\", \"2019-04-21T00:00:00\", \"2019-04-28T00:00:00\", \"2019-05-05T00:00:00\", \"2019-05-12T00:00:00\", \"2019-05-19T00:00:00\", \"2019-05-26T00:00:00\", \"2019-06-02T00:00:00\", \"2019-06-09T00:00:00\", \"2019-06-16T00:00:00\", \"2019-06-23T00:00:00\", \"2019-06-30T00:00:00\", \"2019-07-07T00:00:00\", \"2019-07-14T00:00:00\", \"2019-07-21T00:00:00\", \"2019-07-28T00:00:00\", \"2019-08-04T00:00:00\", \"2019-08-11T00:00:00\", \"2019-08-18T00:00:00\", \"2019-08-25T00:00:00\", \"2019-09-01T00:00:00\", \"2019-09-08T00:00:00\", \"2019-09-15T00:00:00\", \"2019-09-22T00:00:00\", \"2019-09-29T00:00:00\", \"2019-10-06T00:00:00\", \"2019-10-13T00:00:00\", \"2019-10-20T00:00:00\", \"2019-10-27T00:00:00\", \"2019-11-03T00:00:00\", \"2019-11-10T00:00:00\", \"2019-11-17T00:00:00\", \"2019-11-24T00:00:00\", \"2019-12-01T00:00:00\", \"2019-12-08T00:00:00\", \"2019-12-15T00:00:00\", \"2019-12-22T00:00:00\", \"2019-12-29T00:00:00\", \"2020-01-05T00:00:00\", \"2020-01-12T00:00:00\", \"2020-01-19T00:00:00\", \"2020-01-26T00:00:00\", \"2020-02-02T00:00:00\", \"2020-02-09T00:00:00\"], \"xaxis\": \"x5\", \"y\": [0.3123928571428571, 0.3123928571428571, 0.3123928571428571, 0.3123928571428571, 0.3123928571428571, 0.3123928571428571, 0.3123928571428571, 0.3123928571428571, 0.3123928571428571, 0.3123928571428571, 0.3123928571428571, 0.3123928571428571, 0.3123928571428571, 0.3123928571428571, 0.3123928571428571, 0.3123928571428571, 0.3123928571428571, 0.3123928571428571, 0.3123928571428571, 0.3123928571428571, 0.3123928571428571, 0.3123928571428571, 0.3123928571428571, 0.3123928571428571, 0.3123928571428571, 0.3123928571428571, 0.3123928571428571, 0.3123928571428571, 0.3123928571428571, 0.3123928571428571, 0.3123928571428571, 0.3123928571428571, 0.3123928571428571, 0.3123928571428571, 0.3123928571428571, 0.3123928571428571, 0.3123928571428571, 0.3123928571428571, 0.3123928571428571, 0.3123928571428571, 0.3123928571428571, 0.3123928571428571, 0.3123928571428571, 0.3123928571428571, 0.3123928571428571, 0.3123928571428571, 0.3123928571428571, 0.3123928571428571, 0.3123928571428571, 0.3123928571428571, 0.3123928571428571, 0.3123928571428571, 0.3123928571428571, 0.3123928571428571, 0.3123928571428571, 0.3123928571428571, 0.3123928571428571], \"yaxis\": \"y5\"}, {\"line\": {\"color\": \"#9FA0F8\"}, \"name\": \"yhat_upper Z\", \"type\": \"scatter\", \"x\": [\"2019-01-13T00:00:00\", \"2019-01-20T00:00:00\", \"2019-01-27T00:00:00\", \"2019-02-03T00:00:00\", \"2019-02-10T00:00:00\", \"2019-02-17T00:00:00\", \"2019-02-24T00:00:00\", \"2019-03-03T00:00:00\", \"2019-03-10T00:00:00\", \"2019-03-17T00:00:00\", \"2019-03-24T00:00:00\", \"2019-03-31T00:00:00\", \"2019-04-07T00:00:00\", \"2019-04-14T00:00:00\", \"2019-04-21T00:00:00\", \"2019-04-28T00:00:00\", \"2019-05-05T00:00:00\", \"2019-05-12T00:00:00\", \"2019-05-19T00:00:00\", \"2019-05-26T00:00:00\", \"2019-06-02T00:00:00\", \"2019-06-09T00:00:00\", \"2019-06-16T00:00:00\", \"2019-06-23T00:00:00\", \"2019-06-30T00:00:00\", \"2019-07-07T00:00:00\", \"2019-07-14T00:00:00\", \"2019-07-21T00:00:00\", \"2019-07-28T00:00:00\", \"2019-08-04T00:00:00\", \"2019-08-11T00:00:00\", \"2019-08-18T00:00:00\", \"2019-08-25T00:00:00\", \"2019-09-01T00:00:00\", \"2019-09-08T00:00:00\", \"2019-09-15T00:00:00\", \"2019-09-22T00:00:00\", \"2019-09-29T00:00:00\", \"2019-10-06T00:00:00\", \"2019-10-13T00:00:00\", \"2019-10-20T00:00:00\", \"2019-10-27T00:00:00\", \"2019-11-03T00:00:00\", \"2019-11-10T00:00:00\", \"2019-11-17T00:00:00\", \"2019-11-24T00:00:00\", \"2019-12-01T00:00:00\", \"2019-12-08T00:00:00\", \"2019-12-15T00:00:00\", \"2019-12-22T00:00:00\", \"2019-12-29T00:00:00\", \"2020-01-05T00:00:00\", \"2020-01-12T00:00:00\", \"2020-01-19T00:00:00\", \"2020-01-26T00:00:00\", \"2020-02-02T00:00:00\", \"2020-02-09T00:00:00\"], \"xaxis\": \"x5\", \"y\": [0.3121424916301532, 0.3120277298472867, 0.31235605456866233, 0.31247797854358156, 0.31268427524487113, 0.31265823966806283, 0.3129445136439363, 0.3129692296164979, 0.3131192013270181, 0.3132029770949943, 0.31334726859918716, 0.3135684359637845, 0.31384434411802964, 0.3139635224237882, 0.3142033063510852, 0.3142543020777703, 0.31441247129457556, 0.3144424368158061, 0.31472613422056633, 0.3147558831071072, 0.3150765100592388, 0.3151438919948827, 0.31541960563391375, 0.31554573623803694, 0.31582055784802276, 0.3161826245437298, 0.316347678666029, 0.31659402089819094, 0.3164143903703759, 0.31636586355761703, 0.316465162059441, 0.3166186955612208, 0.31664239616585194, 0.3165846348612289, 0.31680207798966675, 0.3167569314446487, 0.31679937090418403, 0.31685661266595583, 0.3166946387812187, 0.3162217555190732, 0.3161502259282533, 0.3158815753154324, 0.3155547951200449, 0.3152298743900463, 0.3148642663294962, 0.3145420261920241, 0.31431690714951366, 0.3141547900985936, 0.31407836320540095, 0.3136217380462357, 0.3133189342329587, 0.3130555029796936, 0.312760743360889, 0.3125651236535732, 0.31228398280443964, 0.3119757396030259, 0.3116688420110556], \"yaxis\": \"y5\"}, {\"fill\": \"tonexty\", \"line\": {\"color\": \"#9FA0F8\"}, \"name\": \"yhat_lower Z\", \"type\": \"scatter\", \"x\": [\"2019-01-13T00:00:00\", \"2019-01-20T00:00:00\", \"2019-01-27T00:00:00\", \"2019-02-03T00:00:00\", \"2019-02-10T00:00:00\", \"2019-02-17T00:00:00\", \"2019-02-24T00:00:00\", \"2019-03-03T00:00:00\", \"2019-03-10T00:00:00\", \"2019-03-17T00:00:00\", \"2019-03-24T00:00:00\", \"2019-03-31T00:00:00\", \"2019-04-07T00:00:00\", \"2019-04-14T00:00:00\", \"2019-04-21T00:00:00\", \"2019-04-28T00:00:00\", \"2019-05-05T00:00:00\", \"2019-05-12T00:00:00\", \"2019-05-19T00:00:00\", \"2019-05-26T00:00:00\", \"2019-06-02T00:00:00\", \"2019-06-09T00:00:00\", \"2019-06-16T00:00:00\", \"2019-06-23T00:00:00\", \"2019-06-30T00:00:00\", \"2019-07-07T00:00:00\", \"2019-07-14T00:00:00\", \"2019-07-21T00:00:00\", \"2019-07-28T00:00:00\", \"2019-08-04T00:00:00\", \"2019-08-11T00:00:00\", \"2019-08-18T00:00:00\", \"2019-08-25T00:00:00\", \"2019-09-01T00:00:00\", \"2019-09-08T00:00:00\", \"2019-09-15T00:00:00\", \"2019-09-22T00:00:00\", \"2019-09-29T00:00:00\", \"2019-10-06T00:00:00\", \"2019-10-13T00:00:00\", \"2019-10-20T00:00:00\", \"2019-10-27T00:00:00\", \"2019-11-03T00:00:00\", \"2019-11-10T00:00:00\", \"2019-11-17T00:00:00\", \"2019-11-24T00:00:00\", \"2019-12-01T00:00:00\", \"2019-12-08T00:00:00\", \"2019-12-15T00:00:00\", \"2019-12-22T00:00:00\", \"2019-12-29T00:00:00\", \"2020-01-05T00:00:00\", \"2020-01-12T00:00:00\", \"2020-01-19T00:00:00\", \"2020-01-26T00:00:00\", \"2020-02-02T00:00:00\", \"2020-02-09T00:00:00\"], \"xaxis\": \"x5\", \"y\": [0.30863199326479074, 0.308697563556606, 0.3090310862770775, 0.309088940826254, 0.3092845297269638, 0.30946636690567497, 0.3095044914816523, 0.3097285890886778, 0.3097641940335361, 0.3098920776740074, 0.31003781275409253, 0.310240206841725, 0.3101985500819092, 0.31051190337718176, 0.31083065725607995, 0.31084582913460207, 0.31114915589742265, 0.31120126963350425, 0.3113326937710537, 0.31142368054507474, 0.3115059884854905, 0.3117937916616534, 0.3118831376212252, 0.312229966281703, 0.3125663397166649, 0.31289536583742145, 0.31301076863789035, 0.31314195133651374, 0.3130181614611683, 0.31321875724495446, 0.31319661717636504, 0.31323376709652967, 0.313176176817909, 0.3132866881245545, 0.31329856591575705, 0.3134749337585189, 0.3135731260505496, 0.31361158619293084, 0.31326165908679704, 0.31279726812839337, 0.3127377315449863, 0.3123871259876462, 0.31208842047659135, 0.311951441694811, 0.31168516449752165, 0.3112046911190759, 0.31101067388442766, 0.31069439825865147, 0.31048276732362046, 0.31019642595830776, 0.31004632732461074, 0.30947628442497405, 0.30942248144808665, 0.3092808389802782, 0.30878873622520175, 0.3086239147830331, 0.30828237631749533], \"yaxis\": \"y5\"}],\n",
              "                        {\"annotations\": [{\"font\": {\"size\": 16}, \"showarrow\": false, \"text\": \"C-Pitch\", \"x\": 0.5, \"xanchor\": \"center\", \"xref\": \"paper\", \"y\": 1.0, \"yanchor\": \"bottom\", \"yref\": \"paper\"}, {\"font\": {\"size\": 16}, \"showarrow\": false, \"text\": \"J\", \"x\": 0.5, \"xanchor\": \"center\", \"xref\": \"paper\", \"y\": 0.78, \"yanchor\": \"bottom\", \"yref\": \"paper\"}, {\"font\": {\"size\": 16}, \"showarrow\": false, \"text\": \"I\", \"x\": 0.5, \"xanchor\": \"center\", \"xref\": \"paper\", \"y\": 0.56, \"yanchor\": \"bottom\", \"yref\": \"paper\"}, {\"font\": {\"size\": 16}, \"showarrow\": false, \"text\": \"O\", \"x\": 0.5, \"xanchor\": \"center\", \"xref\": \"paper\", \"y\": 0.33999999999999997, \"yanchor\": \"bottom\", \"yref\": \"paper\"}, {\"font\": {\"size\": 16}, \"showarrow\": false, \"text\": \"Z\", \"x\": 0.5, \"xanchor\": \"center\", \"xref\": \"paper\", \"y\": 0.12, \"yanchor\": \"bottom\", \"yref\": \"paper\"}], \"height\": 1500, \"template\": {\"data\": {\"bar\": [{\"error_x\": {\"color\": \"#2a3f5f\"}, \"error_y\": {\"color\": \"#2a3f5f\"}, \"marker\": {\"line\": {\"color\": \"#E5ECF6\", \"width\": 0.5}}, \"type\": \"bar\"}], \"barpolar\": [{\"marker\": {\"line\": {\"color\": \"#E5ECF6\", \"width\": 0.5}}, \"type\": \"barpolar\"}], \"carpet\": [{\"aaxis\": {\"endlinecolor\": \"#2a3f5f\", \"gridcolor\": \"white\", \"linecolor\": \"white\", \"minorgridcolor\": \"white\", \"startlinecolor\": \"#2a3f5f\"}, \"baxis\": {\"endlinecolor\": \"#2a3f5f\", \"gridcolor\": \"white\", \"linecolor\": \"white\", \"minorgridcolor\": \"white\", \"startlinecolor\": \"#2a3f5f\"}, \"type\": \"carpet\"}], \"choropleth\": [{\"colorbar\": {\"outlinewidth\": 0, \"ticks\": \"\"}, \"type\": \"choropleth\"}], \"contour\": [{\"colorbar\": {\"outlinewidth\": 0, \"ticks\": \"\"}, \"colorscale\": [[0.0, \"#0d0887\"], [0.1111111111111111, \"#46039f\"], [0.2222222222222222, \"#7201a8\"], [0.3333333333333333, \"#9c179e\"], [0.4444444444444444, \"#bd3786\"], [0.5555555555555556, \"#d8576b\"], [0.6666666666666666, \"#ed7953\"], [0.7777777777777778, \"#fb9f3a\"], [0.8888888888888888, \"#fdca26\"], [1.0, \"#f0f921\"]], \"type\": \"contour\"}], \"contourcarpet\": [{\"colorbar\": {\"outlinewidth\": 0, \"ticks\": \"\"}, \"type\": \"contourcarpet\"}], \"heatmap\": [{\"colorbar\": {\"outlinewidth\": 0, \"ticks\": \"\"}, \"colorscale\": [[0.0, \"#0d0887\"], [0.1111111111111111, \"#46039f\"], [0.2222222222222222, \"#7201a8\"], [0.3333333333333333, \"#9c179e\"], [0.4444444444444444, \"#bd3786\"], [0.5555555555555556, \"#d8576b\"], [0.6666666666666666, \"#ed7953\"], [0.7777777777777778, \"#fb9f3a\"], [0.8888888888888888, \"#fdca26\"], [1.0, \"#f0f921\"]], \"type\": \"heatmap\"}], \"heatmapgl\": [{\"colorbar\": {\"outlinewidth\": 0, \"ticks\": \"\"}, \"colorscale\": [[0.0, \"#0d0887\"], [0.1111111111111111, \"#46039f\"], [0.2222222222222222, \"#7201a8\"], [0.3333333333333333, \"#9c179e\"], [0.4444444444444444, \"#bd3786\"], [0.5555555555555556, \"#d8576b\"], [0.6666666666666666, \"#ed7953\"], [0.7777777777777778, \"#fb9f3a\"], [0.8888888888888888, \"#fdca26\"], [1.0, \"#f0f921\"]], \"type\": \"heatmapgl\"}], \"histogram\": [{\"marker\": {\"colorbar\": {\"outlinewidth\": 0, \"ticks\": \"\"}}, \"type\": \"histogram\"}], \"histogram2d\": [{\"colorbar\": {\"outlinewidth\": 0, \"ticks\": \"\"}, \"colorscale\": [[0.0, \"#0d0887\"], [0.1111111111111111, \"#46039f\"], [0.2222222222222222, \"#7201a8\"], [0.3333333333333333, \"#9c179e\"], [0.4444444444444444, \"#bd3786\"], [0.5555555555555556, \"#d8576b\"], [0.6666666666666666, \"#ed7953\"], [0.7777777777777778, \"#fb9f3a\"], [0.8888888888888888, \"#fdca26\"], [1.0, \"#f0f921\"]], \"type\": \"histogram2d\"}], \"histogram2dcontour\": [{\"colorbar\": {\"outlinewidth\": 0, \"ticks\": \"\"}, \"colorscale\": [[0.0, \"#0d0887\"], [0.1111111111111111, \"#46039f\"], [0.2222222222222222, \"#7201a8\"], [0.3333333333333333, \"#9c179e\"], [0.4444444444444444, \"#bd3786\"], [0.5555555555555556, \"#d8576b\"], [0.6666666666666666, \"#ed7953\"], [0.7777777777777778, \"#fb9f3a\"], [0.8888888888888888, \"#fdca26\"], [1.0, \"#f0f921\"]], \"type\": \"histogram2dcontour\"}], \"mesh3d\": [{\"colorbar\": {\"outlinewidth\": 0, \"ticks\": \"\"}, \"type\": \"mesh3d\"}], \"parcoords\": [{\"line\": {\"colorbar\": {\"outlinewidth\": 0, \"ticks\": \"\"}}, \"type\": \"parcoords\"}], \"pie\": [{\"automargin\": true, \"type\": \"pie\"}], \"scatter\": [{\"marker\": {\"colorbar\": {\"outlinewidth\": 0, \"ticks\": \"\"}}, \"type\": \"scatter\"}], \"scatter3d\": [{\"line\": {\"colorbar\": {\"outlinewidth\": 0, \"ticks\": \"\"}}, \"marker\": {\"colorbar\": {\"outlinewidth\": 0, \"ticks\": \"\"}}, \"type\": \"scatter3d\"}], \"scattercarpet\": [{\"marker\": {\"colorbar\": {\"outlinewidth\": 0, \"ticks\": \"\"}}, \"type\": \"scattercarpet\"}], \"scattergeo\": [{\"marker\": {\"colorbar\": {\"outlinewidth\": 0, \"ticks\": \"\"}}, \"type\": \"scattergeo\"}], \"scattergl\": [{\"marker\": {\"colorbar\": {\"outlinewidth\": 0, \"ticks\": \"\"}}, \"type\": \"scattergl\"}], \"scattermapbox\": [{\"marker\": {\"colorbar\": {\"outlinewidth\": 0, \"ticks\": \"\"}}, \"type\": \"scattermapbox\"}], \"scatterpolar\": [{\"marker\": {\"colorbar\": {\"outlinewidth\": 0, \"ticks\": \"\"}}, \"type\": \"scatterpolar\"}], \"scatterpolargl\": [{\"marker\": {\"colorbar\": {\"outlinewidth\": 0, \"ticks\": \"\"}}, \"type\": \"scatterpolargl\"}], \"scatterternary\": [{\"marker\": {\"colorbar\": {\"outlinewidth\": 0, \"ticks\": \"\"}}, \"type\": \"scatterternary\"}], \"surface\": [{\"colorbar\": {\"outlinewidth\": 0, \"ticks\": \"\"}, \"colorscale\": [[0.0, \"#0d0887\"], [0.1111111111111111, \"#46039f\"], [0.2222222222222222, \"#7201a8\"], [0.3333333333333333, \"#9c179e\"], [0.4444444444444444, \"#bd3786\"], [0.5555555555555556, \"#d8576b\"], [0.6666666666666666, \"#ed7953\"], [0.7777777777777778, \"#fb9f3a\"], [0.8888888888888888, \"#fdca26\"], [1.0, \"#f0f921\"]], \"type\": \"surface\"}], \"table\": [{\"cells\": {\"fill\": {\"color\": \"#EBF0F8\"}, \"line\": {\"color\": \"white\"}}, \"header\": {\"fill\": {\"color\": \"#C8D4E3\"}, \"line\": {\"color\": \"white\"}}, \"type\": \"table\"}]}, \"layout\": {\"annotationdefaults\": {\"arrowcolor\": \"#2a3f5f\", \"arrowhead\": 0, \"arrowwidth\": 1}, \"coloraxis\": {\"colorbar\": {\"outlinewidth\": 0, \"ticks\": \"\"}}, \"colorscale\": {\"diverging\": [[0, \"#8e0152\"], [0.1, \"#c51b7d\"], [0.2, \"#de77ae\"], [0.3, \"#f1b6da\"], [0.4, \"#fde0ef\"], [0.5, \"#f7f7f7\"], [0.6, \"#e6f5d0\"], [0.7, \"#b8e186\"], [0.8, \"#7fbc41\"], [0.9, \"#4d9221\"], [1, \"#276419\"]], \"sequential\": [[0.0, \"#0d0887\"], [0.1111111111111111, \"#46039f\"], [0.2222222222222222, \"#7201a8\"], [0.3333333333333333, \"#9c179e\"], [0.4444444444444444, \"#bd3786\"], [0.5555555555555556, \"#d8576b\"], [0.6666666666666666, \"#ed7953\"], [0.7777777777777778, \"#fb9f3a\"], [0.8888888888888888, \"#fdca26\"], [1.0, \"#f0f921\"]], \"sequentialminus\": [[0.0, \"#0d0887\"], [0.1111111111111111, \"#46039f\"], [0.2222222222222222, \"#7201a8\"], [0.3333333333333333, \"#9c179e\"], [0.4444444444444444, \"#bd3786\"], [0.5555555555555556, \"#d8576b\"], [0.6666666666666666, \"#ed7953\"], [0.7777777777777778, \"#fb9f3a\"], [0.8888888888888888, \"#fdca26\"], [1.0, \"#f0f921\"]]}, \"colorway\": [\"#636efa\", \"#EF553B\", \"#00cc96\", \"#ab63fa\", \"#FFA15A\", \"#19d3f3\", \"#FF6692\", \"#B6E880\", \"#FF97FF\", \"#FECB52\"], \"font\": {\"color\": \"#2a3f5f\"}, \"geo\": {\"bgcolor\": \"white\", \"lakecolor\": \"white\", \"landcolor\": \"#E5ECF6\", \"showlakes\": true, \"showland\": true, \"subunitcolor\": \"white\"}, \"hoverlabel\": {\"align\": \"left\"}, \"hovermode\": \"closest\", \"mapbox\": {\"style\": \"light\"}, \"paper_bgcolor\": \"white\", \"plot_bgcolor\": \"#E5ECF6\", \"polar\": {\"angularaxis\": {\"gridcolor\": \"white\", \"linecolor\": \"white\", \"ticks\": \"\"}, \"bgcolor\": \"#E5ECF6\", \"radialaxis\": {\"gridcolor\": \"white\", \"linecolor\": \"white\", \"ticks\": \"\"}}, \"scene\": {\"xaxis\": {\"backgroundcolor\": \"#E5ECF6\", \"gridcolor\": \"white\", \"gridwidth\": 2, \"linecolor\": \"white\", \"showbackground\": true, \"ticks\": \"\", \"zerolinecolor\": \"white\"}, \"yaxis\": {\"backgroundcolor\": \"#E5ECF6\", \"gridcolor\": \"white\", \"gridwidth\": 2, \"linecolor\": \"white\", \"showbackground\": true, \"ticks\": \"\", \"zerolinecolor\": \"white\"}, \"zaxis\": {\"backgroundcolor\": \"#E5ECF6\", \"gridcolor\": \"white\", \"gridwidth\": 2, \"linecolor\": \"white\", \"showbackground\": true, \"ticks\": \"\", \"zerolinecolor\": \"white\"}}, \"shapedefaults\": {\"line\": {\"color\": \"#2a3f5f\"}}, \"ternary\": {\"aaxis\": {\"gridcolor\": \"white\", \"linecolor\": \"white\", \"ticks\": \"\"}, \"baxis\": {\"gridcolor\": \"white\", \"linecolor\": \"white\", \"ticks\": \"\"}, \"bgcolor\": \"#E5ECF6\", \"caxis\": {\"gridcolor\": \"white\", \"linecolor\": \"white\", \"ticks\": \"\"}}, \"title\": {\"x\": 0.05}, \"xaxis\": {\"automargin\": true, \"gridcolor\": \"white\", \"linecolor\": \"white\", \"ticks\": \"\", \"title\": {\"standoff\": 15}, \"zerolinecolor\": \"white\", \"zerolinewidth\": 2}, \"yaxis\": {\"automargin\": true, \"gridcolor\": \"white\", \"linecolor\": \"white\", \"ticks\": \"\", \"title\": {\"standoff\": 15}, \"zerolinecolor\": \"white\", \"zerolinewidth\": 2}}}, \"title\": {\"text\": \"Line chart\"}, \"width\": 1200, \"xaxis\": {\"anchor\": \"y\", \"domain\": [0.0, 1.0]}, \"xaxis2\": {\"anchor\": \"y2\", \"domain\": [0.0, 1.0]}, \"xaxis3\": {\"anchor\": \"y3\", \"domain\": [0.0, 1.0]}, \"xaxis4\": {\"anchor\": \"y4\", \"domain\": [0.0, 1.0]}, \"xaxis5\": {\"anchor\": \"y5\", \"domain\": [0.0, 1.0]}, \"yaxis\": {\"anchor\": \"x\", \"domain\": [0.88, 1.0]}, \"yaxis2\": {\"anchor\": \"x2\", \"domain\": [0.66, 0.78]}, \"yaxis3\": {\"anchor\": \"x3\", \"domain\": [0.44, 0.56]}, \"yaxis4\": {\"anchor\": \"x4\", \"domain\": [0.22, 0.33999999999999997]}, \"yaxis5\": {\"anchor\": \"x5\", \"domain\": [0.0, 0.12]}},\n",
              "                        {\"responsive\": true}\n",
              "                    ).then(function(){\n",
              "                            \n",
              "var gd = document.getElementById('490f290e-c3ae-43fc-9056-c08035457085');\n",
              "var x = new MutationObserver(function (mutations, observer) {{\n",
              "        var display = window.getComputedStyle(gd).display;\n",
              "        if (!display || display === 'none') {{\n",
              "            console.log([gd, 'removed!']);\n",
              "            Plotly.purge(gd);\n",
              "            observer.disconnect();\n",
              "        }}\n",
              "}});\n",
              "\n",
              "// Listen for the removal of the full notebook cells\n",
              "var notebookContainer = gd.closest('#notebook-container');\n",
              "if (notebookContainer) {{\n",
              "    x.observe(notebookContainer, {childList: true});\n",
              "}}\n",
              "\n",
              "// Listen for the clearing of the current output cell\n",
              "var outputEl = gd.closest('.output');\n",
              "if (outputEl) {{\n",
              "    x.observe(outputEl, {childList: true});\n",
              "}}\n",
              "\n",
              "                        })\n",
              "                };\n",
              "                \n",
              "            </script>\n",
              "        </div>\n",
              "</body>\n",
              "</html>"
            ]
          },
          "metadata": {
            "tags": []
          }
        }
      ]
    },
    {
      "cell_type": "code",
      "metadata": {
        "id": "vaasJ85ENhja",
        "colab_type": "code",
        "colab": {}
      },
      "source": [
        ""
      ],
      "execution_count": null,
      "outputs": []
    },
    {
      "cell_type": "markdown",
      "metadata": {
        "id": "eXUhRbB9Nh0Y",
        "colab_type": "text"
      },
      "source": [
        "### Investigate Prophet"
      ]
    },
    {
      "cell_type": "code",
      "metadata": {
        "id": "GRZdk3UmRLSn",
        "colab_type": "code",
        "colab": {}
      },
      "source": [
        "# Python\n",
        "from fbprophet import Prophet\n",
        "from fbprophet.plot import plot_plotly\n",
        "import plotly.offline as py\n",
        "#py.init_notebook_mode()"
      ],
      "execution_count": null,
      "outputs": []
    },
    {
      "cell_type": "code",
      "metadata": {
        "id": "t7tK5nudRKN8",
        "colab_type": "code",
        "colab": {}
      },
      "source": [
        "model_prophet = Prophet(seasonality_mode='additive')\n",
        "model_prophet.add_seasonality(name='monthly', period=30.5, fourier_order=5)\n",
        "model_prophet.fit(df_train)"
      ],
      "execution_count": null,
      "outputs": []
    },
    {
      "cell_type": "code",
      "metadata": {
        "id": "JomqjG5Ry0Yv",
        "colab_type": "code",
        "colab": {}
      },
      "source": [
        "# predict for five months in the furure and MS - month start is the frequency\n",
        "future = model.make_future_dataframe(periods = 5, freq = 'MS')  \n",
        "# now lets make the forecasts\n",
        "forecast = model.predict(future)\n",
        "forecast[['ds', 'yhat', 'yhat_lower', 'yhat_upper']].tail()\n"
      ],
      "execution_count": null,
      "outputs": []
    },
    {
      "cell_type": "code",
      "metadata": {
        "id": "B3MYgeTnRpY9",
        "colab_type": "code",
        "colab": {}
      },
      "source": [
        "\n",
        "fig = plot_plotly(model, forecast)  # This returns a plotly Figure\n",
        "py.iplot(fig)\n",
        "#iplot(fig)"
      ],
      "execution_count": null,
      "outputs": []
    },
    {
      "cell_type": "code",
      "metadata": {
        "id": "ojKV08QLywIU",
        "colab_type": "code",
        "colab": {
          "base_uri": "https://localhost:8080/",
          "height": 221
        },
        "outputId": "63d4ae45-4c9c-40a0-c8e2-de96e556f317"
      },
      "source": [
        "model.plot_components(forecast)\n",
        "plt.show()"
      ],
      "execution_count": null,
      "outputs": [
        {
          "output_type": "display_data",
          "data": {
            "image/png": "[encoded data removed]",
            "text/plain": [
              "<Figure size 648x216 with 1 Axes>"
            ]
          },
          "metadata": {
            "tags": []
          }
        }
      ]
    },
    {
      "cell_type": "markdown",
      "metadata": {
        "id": "DGAiSzVvX3js",
        "colab_type": "text"
      },
      "source": [
        "## LSTM predict"
      ]
    },
    {
      "cell_type": "code",
      "metadata": {
        "id": "SDpPP4HdY1sP",
        "colab_type": "code",
        "colab": {}
      },
      "source": [
        "# univariate mlp example\n",
        "import warnings\n",
        "from numpy import array\n",
        "import matplotlib.pyplot as plt\n",
        "from keras import optimizers\n",
        "from keras.utils import plot_model\n",
        "from keras.models import Sequential, Model\n",
        "from keras.layers.convolutional import Conv1D, MaxPooling1D\n",
        "from keras.layers import Dense, LSTM, RepeatVector, TimeDistributed, Flatten\n",
        "from keras.layers import RepeatVector,TimeDistributed # For LSTM\n",
        "from keras.optimizers import Adam\n",
        "from keras import regularizers\n",
        "from keras.callbacks import EarlyStopping, ModelCheckpoint\n",
        "from keras.wrappers.scikit_learn import KerasClassifier\n",
        "from keras.regularizers import l1\n",
        "from keras.regularizers import l2\n",
        "from keras.regularizers import l1_l2\n",
        "from keras.layers import Dropout\n",
        "from keras.layers import Activation\n",
        "from keras.layers import Dense\n",
        "from keras.metrics import categorical_crossentropy\n",
        "\n",
        "from sklearn.metrics import mean_squared_error\n",
        "from sklearn.model_selection import train_test_split\n",
        "from sklearn.preprocessing import MinMaxScaler,StandardScaler"
      ],
      "execution_count": null,
      "outputs": []
    },
    {
      "cell_type": "markdown",
      "metadata": {
        "id": "lGw8VL7ka24H",
        "colab_type": "text"
      },
      "source": [
        "### Many to many (not split)"
      ]
    },
    {
      "cell_type": "code",
      "metadata": {
        "id": "ajAphXMly9iH",
        "colab_type": "code",
        "colab": {
          "base_uri": "https://localhost:8080/",
          "height": 204
        },
        "outputId": "f82854b8-3a69-483d-b637-b03ee0076eb8"
      },
      "source": [
        "df.head()"
      ],
      "execution_count": null,
      "outputs": [
        {
          "output_type": "execute_result",
          "data": {
            "text/html": [
              "<div>\n",
              "<style scoped>\n",
              "    .dataframe tbody tr th:only-of-type {\n",
              "        vertical-align: middle;\n",
              "    }\n",
              "\n",
              "    .dataframe tbody tr th {\n",
              "        vertical-align: top;\n",
              "    }\n",
              "\n",
              "    .dataframe thead th {\n",
              "        text-align: right;\n",
              "    }\n",
              "</style>\n",
              "<table border=\"1\" class=\"dataframe\">\n",
              "  <thead>\n",
              "    <tr style=\"text-align: right;\">\n",
              "      <th></th>\n",
              "      <th>Datef</th>\n",
              "      <th>C-Pitch</th>\n",
              "    </tr>\n",
              "  </thead>\n",
              "  <tbody>\n",
              "    <tr>\n",
              "      <th>0</th>\n",
              "      <td>2019-01-11</td>\n",
              "      <td>10.004</td>\n",
              "    </tr>\n",
              "    <tr>\n",
              "      <th>1</th>\n",
              "      <td>2019-01-22</td>\n",
              "      <td>10.001</td>\n",
              "    </tr>\n",
              "    <tr>\n",
              "      <th>2</th>\n",
              "      <td>2019-01-26</td>\n",
              "      <td>10.002</td>\n",
              "    </tr>\n",
              "    <tr>\n",
              "      <th>3</th>\n",
              "      <td>2019-01-31</td>\n",
              "      <td>10.003</td>\n",
              "    </tr>\n",
              "    <tr>\n",
              "      <th>4</th>\n",
              "      <td>2019-02-11</td>\n",
              "      <td>10.003</td>\n",
              "    </tr>\n",
              "  </tbody>\n",
              "</table>\n",
              "</div>"
            ],
            "text/plain": [
              "       Datef  C-Pitch\n",
              "0 2019-01-11   10.004\n",
              "1 2019-01-22   10.001\n",
              "2 2019-01-26   10.002\n",
              "3 2019-01-31   10.003\n",
              "4 2019-02-11   10.003"
            ]
          },
          "metadata": {
            "tags": []
          },
          "execution_count": 53
        }
      ]
    },
    {
      "cell_type": "code",
      "metadata": {
        "id": "2mMnY7USeUZc",
        "colab_type": "code",
        "colab": {
          "base_uri": "https://localhost:8080/",
          "height": 252
        },
        "outputId": "caace396-beba-49cb-d142-55de403fca02"
      },
      "source": [
        "df_lstm=df.set_index('Datef')\n",
        "print(df_lstm.shape)\n",
        "df_lstm.head()"
      ],
      "execution_count": null,
      "outputs": [
        {
          "output_type": "stream",
          "text": [
            "(28, 1)\n"
          ],
          "name": "stdout"
        },
        {
          "output_type": "execute_result",
          "data": {
            "text/html": [
              "<div>\n",
              "<style scoped>\n",
              "    .dataframe tbody tr th:only-of-type {\n",
              "        vertical-align: middle;\n",
              "    }\n",
              "\n",
              "    .dataframe tbody tr th {\n",
              "        vertical-align: top;\n",
              "    }\n",
              "\n",
              "    .dataframe thead th {\n",
              "        text-align: right;\n",
              "    }\n",
              "</style>\n",
              "<table border=\"1\" class=\"dataframe\">\n",
              "  <thead>\n",
              "    <tr style=\"text-align: right;\">\n",
              "      <th></th>\n",
              "      <th>C-Pitch</th>\n",
              "    </tr>\n",
              "    <tr>\n",
              "      <th>Datef</th>\n",
              "      <th></th>\n",
              "    </tr>\n",
              "  </thead>\n",
              "  <tbody>\n",
              "    <tr>\n",
              "      <th>2019-01-11</th>\n",
              "      <td>10.004</td>\n",
              "    </tr>\n",
              "    <tr>\n",
              "      <th>2019-01-22</th>\n",
              "      <td>10.001</td>\n",
              "    </tr>\n",
              "    <tr>\n",
              "      <th>2019-01-26</th>\n",
              "      <td>10.002</td>\n",
              "    </tr>\n",
              "    <tr>\n",
              "      <th>2019-01-31</th>\n",
              "      <td>10.003</td>\n",
              "    </tr>\n",
              "    <tr>\n",
              "      <th>2019-02-11</th>\n",
              "      <td>10.003</td>\n",
              "    </tr>\n",
              "  </tbody>\n",
              "</table>\n",
              "</div>"
            ],
            "text/plain": [
              "            C-Pitch\n",
              "Datef              \n",
              "2019-01-11   10.004\n",
              "2019-01-22   10.001\n",
              "2019-01-26   10.002\n",
              "2019-01-31   10.003\n",
              "2019-02-11   10.003"
            ]
          },
          "metadata": {
            "tags": []
          },
          "execution_count": 54
        }
      ]
    },
    {
      "cell_type": "code",
      "metadata": {
        "id": "vPd2FKcodrQi",
        "colab_type": "code",
        "colab": {}
      },
      "source": [
        "# Define important value\n",
        "split=int(len(df_lstm) * 0.70)\n",
        "column=0"
      ],
      "execution_count": null,
      "outputs": []
    },
    {
      "cell_type": "code",
      "metadata": {
        "id": "G_pyvoNzfkk8",
        "colab_type": "code",
        "colab": {}
      },
      "source": [
        "# split a univariate sequence into samples\n",
        "def split_sequence(sequence, n_steps_in, n_steps_out):\n",
        "\tX, y = list(), list()\n",
        "\tfor i in range(len(sequence)):\n",
        "\t\t# find the end of this pattern\n",
        "\t\tend_ix = i + n_steps_in\n",
        "\t\tout_end_ix = end_ix + n_steps_out\n",
        "\t\t# check if we are beyond the sequence\n",
        "\t\tif out_end_ix > len(sequence):\n",
        "\t\t\tbreak\n",
        "\t\t# gather input and output parts of the pattern\n",
        "\t\tseq_x, seq_y = sequence[i:end_ix], sequence[end_ix:out_end_ix]\n",
        "\t\tX.append(seq_x)\n",
        "\t\ty.append(seq_y)\n",
        "\treturn array(X), array(y)"
      ],
      "execution_count": null,
      "outputs": []
    },
    {
      "cell_type": "code",
      "metadata": {
        "id": "XXa9Jf-EhTuZ",
        "colab_type": "code",
        "colab": {
          "base_uri": "https://localhost:8080/",
          "height": 289
        },
        "outputId": "6516708d-01cb-4cdb-8398-6e74cf574433"
      },
      "source": [
        "# choose a number of time steps\n",
        "n_steps_in, n_steps_out = 10, 3\n",
        "raw_seq=df_lstm['C-Pitch']\n",
        "# split into samples\n",
        "X, y = split_sequence(raw_seq, n_steps_in, n_steps_out)\n",
        "# summarize the data\n",
        "for i in range(len(X)):\n",
        "\tprint(X[i], y[i])"
      ],
      "execution_count": null,
      "outputs": [
        {
          "output_type": "stream",
          "text": [
            "[10.004 10.001 10.002 10.003 10.003 10.002 10.003 10.002  9.998 10.002] [10.003 10.004 10.001]\n",
            "[10.001 10.002 10.003 10.003 10.002 10.003 10.002  9.998 10.002 10.003] [10.004 10.001 10.   ]\n",
            "[10.002 10.003 10.003 10.002 10.003 10.002  9.998 10.002 10.003 10.004] [10.001 10.    10.002]\n",
            "[10.003 10.003 10.002 10.003 10.002  9.998 10.002 10.003 10.004 10.001] [10.    10.002 10.001]\n",
            "[10.003 10.002 10.003 10.002  9.998 10.002 10.003 10.004 10.001 10.   ] [10.002 10.001 10.002]\n",
            "[10.002 10.003 10.002  9.998 10.002 10.003 10.004 10.001 10.    10.002] [10.001 10.002 10.001]\n",
            "[10.003 10.002  9.998 10.002 10.003 10.004 10.001 10.    10.002 10.001] [10.002 10.001 10.   ]\n",
            "[10.002  9.998 10.002 10.003 10.004 10.001 10.    10.002 10.001 10.002] [10.001 10.    10.001]\n",
            "[ 9.998 10.002 10.003 10.004 10.001 10.    10.002 10.001 10.002 10.001] [10.    10.001 10.002]\n",
            "[10.002 10.003 10.004 10.001 10.    10.002 10.001 10.002 10.001 10.   ] [10.001 10.002 10.   ]\n",
            "[10.003 10.004 10.001 10.    10.002 10.001 10.002 10.001 10.    10.001] [10.002 10.    10.   ]\n",
            "[10.004 10.001 10.    10.002 10.001 10.002 10.001 10.    10.001 10.002] [10.    10.    10.002]\n",
            "[10.001 10.    10.002 10.001 10.002 10.001 10.    10.001 10.002 10.   ] [10.    10.002 10.   ]\n",
            "[10.    10.002 10.001 10.002 10.001 10.    10.001 10.002 10.    10.   ] [10.002 10.    10.003]\n",
            "[10.002 10.001 10.002 10.001 10.    10.001 10.002 10.    10.    10.002] [10.    10.003 10.003]\n",
            "[10.001 10.002 10.001 10.    10.001 10.002 10.    10.    10.002 10.   ] [10.003 10.003  9.999]\n"
          ],
          "name": "stdout"
        }
      ]
    },
    {
      "cell_type": "code",
      "metadata": {
        "id": "baU8aD8xtORI",
        "colab_type": "code",
        "colab": {
          "base_uri": "https://localhost:8080/",
          "height": 34
        },
        "outputId": "071a7d26-18d3-4d6e-b398-80834fe1a5c6"
      },
      "source": [
        "y.shape"
      ],
      "execution_count": null,
      "outputs": [
        {
          "output_type": "execute_result",
          "data": {
            "text/plain": [
              "(16, 3)"
            ]
          },
          "metadata": {
            "tags": []
          },
          "execution_count": 58
        }
      ]
    },
    {
      "cell_type": "code",
      "metadata": {
        "id": "G-e660hhiW4S",
        "colab_type": "code",
        "colab": {
          "base_uri": "https://localhost:8080/",
          "height": 34
        },
        "outputId": "1a516712-e803-4412-9165-7bec6afc8502"
      },
      "source": [
        "# reshape from [samples, timesteps] into [samples, timesteps, features]\n",
        "n_features = 1\n",
        "X = X.reshape((X.shape[0], X.shape[1], n_features))\n",
        "X.shape"
      ],
      "execution_count": null,
      "outputs": [
        {
          "output_type": "execute_result",
          "data": {
            "text/plain": [
              "(16, 10, 1)"
            ]
          },
          "metadata": {
            "tags": []
          },
          "execution_count": 59
        }
      ]
    },
    {
      "cell_type": "markdown",
      "metadata": {
        "id": "p7kr9bQAxFeX",
        "colab_type": "text"
      },
      "source": [
        "- Mean Squared Error: mean_squared_error, MSE or mse\n",
        "- Mean Absolute Error: mean_absolute_error, MAE, mae\n",
        "- Mean Absolute Percentage Error: mean_absolute_percentage_error, MAPE, mape"
      ]
    },
    {
      "cell_type": "code",
      "metadata": {
        "id": "4vtUZEMahdbT",
        "colab_type": "code",
        "colab": {
          "base_uri": "https://localhost:8080/",
          "height": 255
        },
        "outputId": "0378be4c-a261-4537-d988-f2ea643c2068"
      },
      "source": [
        "from keras import backend\n",
        " \n",
        "def rmse(y_true, y_pred):\n",
        "\treturn backend.sqrt(backend.mean(backend.square(y_pred - y_true), axis=-1))\n",
        "# define model\n",
        "model = Sequential()\n",
        "model.add(LSTM(100, activation='relu', return_sequences=True, input_shape=(n_steps_in, n_features)))\n",
        "model.add(LSTM(100, activation='relu'))\n",
        "model.add(Dense(n_steps_out))\n",
        "model.compile(optimizer='adam', loss='mse',metrics=['mse','mae','mape',rmse])\n",
        "model.summary()\n"
      ],
      "execution_count": null,
      "outputs": [
        {
          "output_type": "stream",
          "text": [
            "Model: \"sequential_1\"\n",
            "_________________________________________________________________\n",
            "Layer (type)                 Output Shape              Param #   \n",
            "=================================================================\n",
            "lstm_1 (LSTM)                (None, 10, 100)           40800     \n",
            "_________________________________________________________________\n",
            "lstm_2 (LSTM)                (None, 100)               80400     \n",
            "_________________________________________________________________\n",
            "dense_1 (Dense)              (None, 3)                 303       \n",
            "=================================================================\n",
            "Total params: 121,503\n",
            "Trainable params: 121,503\n",
            "Non-trainable params: 0\n",
            "_________________________________________________________________\n"
          ],
          "name": "stdout"
        }
      ]
    },
    {
      "cell_type": "code",
      "metadata": {
        "id": "hU9TFymswbi4",
        "colab_type": "code",
        "colab": {}
      },
      "source": [
        "# Fitting to the training set\n",
        "callbacks = [EarlyStopping(monitor=\"val_loss\", patience=3, \n",
        "                           mode='min',restore_best_weights=True),\n",
        "            #ModelCheckpoint(filepath=\"best_model.h5\",monitor=\"val_loss\",\n",
        "             #               save_best_only=True)\n",
        "            ]\n",
        "\n",
        "history=model.fit(X,y,validation_split=0.2,epochs=100,verbose=0)"
      ],
      "execution_count": null,
      "outputs": []
    },
    {
      "cell_type": "code",
      "metadata": {
        "id": "hcjUhXdFwtsC",
        "colab_type": "code",
        "colab": {
          "base_uri": "https://localhost:8080/",
          "height": 285
        },
        "outputId": "a7a7406b-1609-448d-c69e-b6f841488d5d"
      },
      "source": [
        "plt.plot(history.history['rmse'])"
      ],
      "execution_count": null,
      "outputs": [
        {
          "output_type": "execute_result",
          "data": {
            "text/plain": [
              "[<matplotlib.lines.Line2D at 0x7fc31f7e19e8>]"
            ]
          },
          "metadata": {
            "tags": []
          },
          "execution_count": 62
        },
        {
          "output_type": "display_data",
          "data": {
            "image/png": "[encoded data removed]",
            "text/plain": [
              "<Figure size 432x288 with 1 Axes>"
            ]
          },
          "metadata": {
            "tags": []
          }
        }
      ]
    },
    {
      "cell_type": "code",
      "metadata": {
        "id": "_z6DvIaczZyV",
        "colab_type": "code",
        "colab": {
          "base_uri": "https://localhost:8080/",
          "height": 204
        },
        "outputId": "fce305ba-0829-4efc-9b84-ec26cc10eccc"
      },
      "source": [
        "# demonstrate prediction\n",
        "#x_input = array([10.002, 10.001, 10.003,10.002,10.004])\n",
        "#x_input = x_input.reshape((1, n_steps_in, n_features))\n",
        "x_input=X[-1:]\n",
        "print(x_input)\n",
        "yhat = model.predict(x_input, verbose=0)\n",
        "print(yhat)"
      ],
      "execution_count": null,
      "outputs": [
        {
          "output_type": "stream",
          "text": [
            "[[[10.001]\n",
            "  [10.002]\n",
            "  [10.001]\n",
            "  [10.   ]\n",
            "  [10.001]\n",
            "  [10.002]\n",
            "  [10.   ]\n",
            "  [10.   ]\n",
            "  [10.002]\n",
            "  [10.   ]]]\n",
            "[[9.992956 9.977127 9.987393]]\n"
          ],
          "name": "stdout"
        }
      ]
    },
    {
      "cell_type": "code",
      "metadata": {
        "id": "hxxBx4nNz1lt",
        "colab_type": "code",
        "colab": {}
      },
      "source": [
        ""
      ],
      "execution_count": null,
      "outputs": []
    },
    {
      "cell_type": "code",
      "metadata": {
        "id": "Gzgt0JSR1ZMU",
        "colab_type": "code",
        "colab": {}
      },
      "source": [
        ""
      ],
      "execution_count": null,
      "outputs": []
    },
    {
      "cell_type": "markdown",
      "metadata": {
        "colab_type": "text",
        "id": "gpv11e8V1Zqh"
      },
      "source": [
        "### Many to many (split train/test)"
      ]
    },
    {
      "cell_type": "code",
      "metadata": {
        "id": "POo8HZ7PJlRJ",
        "colab_type": "code",
        "colab": {}
      },
      "source": [
        "# split a univariate sequence into samples\n",
        "def split_sequence(sequence, n_steps_in, n_steps_out):\n",
        "\tX, y = list(), list()\n",
        "\tfor i in range(len(sequence)):\n",
        "\t\t# find the end of this pattern\n",
        "\t\tend_ix = i + n_steps_in\n",
        "\t\tout_end_ix = end_ix + n_steps_out\n",
        "\t\t# check if we are beyond the sequence\n",
        "\t\tif out_end_ix > len(sequence):\n",
        "\t\t\tbreak\n",
        "\t\t# gather input and output parts of the pattern\n",
        "\t\tseq_x, seq_y = sequence[i:end_ix], sequence[end_ix:out_end_ix]\n",
        "\t\tX.append(seq_x)\n",
        "\t\ty.append(seq_y)\n",
        "\treturn array(X), array(y)"
      ],
      "execution_count": null,
      "outputs": []
    },
    {
      "cell_type": "code",
      "metadata": {
        "id": "Agh8RcCV_Hhx",
        "colab_type": "code",
        "colab": {
          "base_uri": "https://localhost:8080/",
          "height": 34
        },
        "outputId": "e8a5f986-11d9-4e8f-ce93-b5433c0b10b7"
      },
      "source": [
        "DFdict_final.keys()"
      ],
      "execution_count": null,
      "outputs": [
        {
          "output_type": "execute_result",
          "data": {
            "text/plain": [
              "dict_keys(['C-Pitch', 'J', 'I', 'O', 'Z'])"
            ]
          },
          "metadata": {
            "tags": []
          },
          "execution_count": 126
        }
      ]
    },
    {
      "cell_type": "code",
      "metadata": {
        "id": "DAs-pRq8_xpE",
        "colab_type": "code",
        "colab": {
          "base_uri": "https://localhost:8080/",
          "height": 235
        },
        "outputId": "b10eef73-bb17-49f4-93f2-cbf320df3105"
      },
      "source": [
        "def get_nth_key(dictionary, n=0):\n",
        "    if n < 0:\n",
        "        n += len(dictionary)\n",
        "    for i, key in enumerate(dictionary.keys()):\n",
        "        if i == n:\n",
        "            return key\n",
        "    raise IndexError(\"dictionary index out of range\") \n",
        "\n",
        "first_key  = get_nth_key(DFdict_final,0)\n",
        "df = DFdict_final[first_key]\n",
        "df=df[[df.columns[0],df.columns[1]]].set_index(df.columns[0])\n",
        "df.head()"
      ],
      "execution_count": null,
      "outputs": [
        {
          "output_type": "execute_result",
          "data": {
            "text/html": [
              "<div>\n",
              "<style scoped>\n",
              "    .dataframe tbody tr th:only-of-type {\n",
              "        vertical-align: middle;\n",
              "    }\n",
              "\n",
              "    .dataframe tbody tr th {\n",
              "        vertical-align: top;\n",
              "    }\n",
              "\n",
              "    .dataframe thead th {\n",
              "        text-align: right;\n",
              "    }\n",
              "</style>\n",
              "<table border=\"1\" class=\"dataframe\">\n",
              "  <thead>\n",
              "    <tr style=\"text-align: right;\">\n",
              "      <th></th>\n",
              "      <th>C-Pitch</th>\n",
              "    </tr>\n",
              "    <tr>\n",
              "      <th>Datef</th>\n",
              "      <th></th>\n",
              "    </tr>\n",
              "  </thead>\n",
              "  <tbody>\n",
              "    <tr>\n",
              "      <th>2019-01-11</th>\n",
              "      <td>10.004</td>\n",
              "    </tr>\n",
              "    <tr>\n",
              "      <th>2019-01-22</th>\n",
              "      <td>10.001</td>\n",
              "    </tr>\n",
              "    <tr>\n",
              "      <th>2019-01-26</th>\n",
              "      <td>10.002</td>\n",
              "    </tr>\n",
              "    <tr>\n",
              "      <th>2019-01-31</th>\n",
              "      <td>10.003</td>\n",
              "    </tr>\n",
              "    <tr>\n",
              "      <th>2019-02-11</th>\n",
              "      <td>10.003</td>\n",
              "    </tr>\n",
              "  </tbody>\n",
              "</table>\n",
              "</div>"
            ],
            "text/plain": [
              "            C-Pitch\n",
              "Datef              \n",
              "2019-01-11   10.004\n",
              "2019-01-22   10.001\n",
              "2019-01-26   10.002\n",
              "2019-01-31   10.003\n",
              "2019-02-11   10.003"
            ]
          },
          "metadata": {
            "tags": []
          },
          "execution_count": 127
        }
      ]
    },
    {
      "cell_type": "code",
      "metadata": {
        "id": "PwzZWgCK-x57",
        "colab_type": "code",
        "colab": {}
      },
      "source": [
        "# Define important value\n",
        "split=int(len(df) * 0.80)\n",
        "column=0\n",
        "# choose a number of time steps\n",
        "n_steps_in, n_steps_out = 7, 3"
      ],
      "execution_count": null,
      "outputs": []
    },
    {
      "cell_type": "code",
      "metadata": {
        "id": "CzlIp5XPDP3c",
        "colab_type": "code",
        "colab": {
          "base_uri": "https://localhost:8080/",
          "height": 235
        },
        "outputId": "5a0ebb67-b720-484b-9f9d-2b1c4386b0e9"
      },
      "source": [
        "df[:split].head()"
      ],
      "execution_count": null,
      "outputs": [
        {
          "output_type": "execute_result",
          "data": {
            "text/html": [
              "<div>\n",
              "<style scoped>\n",
              "    .dataframe tbody tr th:only-of-type {\n",
              "        vertical-align: middle;\n",
              "    }\n",
              "\n",
              "    .dataframe tbody tr th {\n",
              "        vertical-align: top;\n",
              "    }\n",
              "\n",
              "    .dataframe thead th {\n",
              "        text-align: right;\n",
              "    }\n",
              "</style>\n",
              "<table border=\"1\" class=\"dataframe\">\n",
              "  <thead>\n",
              "    <tr style=\"text-align: right;\">\n",
              "      <th></th>\n",
              "      <th>C-Pitch</th>\n",
              "    </tr>\n",
              "    <tr>\n",
              "      <th>Datef</th>\n",
              "      <th></th>\n",
              "    </tr>\n",
              "  </thead>\n",
              "  <tbody>\n",
              "    <tr>\n",
              "      <th>2019-01-11</th>\n",
              "      <td>10.004</td>\n",
              "    </tr>\n",
              "    <tr>\n",
              "      <th>2019-01-22</th>\n",
              "      <td>10.001</td>\n",
              "    </tr>\n",
              "    <tr>\n",
              "      <th>2019-01-26</th>\n",
              "      <td>10.002</td>\n",
              "    </tr>\n",
              "    <tr>\n",
              "      <th>2019-01-31</th>\n",
              "      <td>10.003</td>\n",
              "    </tr>\n",
              "    <tr>\n",
              "      <th>2019-02-11</th>\n",
              "      <td>10.003</td>\n",
              "    </tr>\n",
              "  </tbody>\n",
              "</table>\n",
              "</div>"
            ],
            "text/plain": [
              "            C-Pitch\n",
              "Datef              \n",
              "2019-01-11   10.004\n",
              "2019-01-22   10.001\n",
              "2019-01-26   10.002\n",
              "2019-01-31   10.003\n",
              "2019-02-11   10.003"
            ]
          },
          "metadata": {
            "tags": []
          },
          "execution_count": 130
        }
      ]
    },
    {
      "cell_type": "code",
      "metadata": {
        "id": "mQgklHWaCIRK",
        "colab_type": "code",
        "colab": {
          "base_uri": "https://localhost:8080/",
          "height": 51
        },
        "outputId": "5f9ec688-1861-4947-dc06-72d34b736924"
      },
      "source": [
        "training_set=df[:split][df.columns[0]] \n",
        "test_set=df[split:][df.columns[0]] \n",
        "y_test=test_set # y test\n",
        "print(training_set.shape)\n",
        "print(test_set.shape)"
      ],
      "execution_count": null,
      "outputs": [
        {
          "output_type": "stream",
          "text": [
            "(22,)\n",
            "(6,)\n"
          ],
          "name": "stdout"
        }
      ]
    },
    {
      "cell_type": "code",
      "metadata": {
        "colab_type": "code",
        "id": "THT6dq1P1Zqp",
        "colab": {}
      },
      "source": [
        "# split a univariate sequence into samples\n",
        "def split_sequence(sequence, n_steps_in, n_steps_out):\n",
        "\tX, y = list(), list()\n",
        "\tfor i in range(len(sequence)):\n",
        "\t\t# find the end of this pattern\n",
        "\t\tend_ix = i + n_steps_in\n",
        "\t\tout_end_ix = end_ix + n_steps_out\n",
        "\t\t# check if we are beyond the sequence\n",
        "\t\tif out_end_ix > len(sequence):\n",
        "\t\t\tbreak\n",
        "\t\t# gather input and output parts of the pattern\n",
        "\t\tseq_x, seq_y = sequence[i:end_ix], sequence[end_ix:out_end_ix]\n",
        "\t\tX.append(seq_x)\n",
        "\t\ty.append(seq_y)\n",
        "\treturn array(X), array(y)"
      ],
      "execution_count": null,
      "outputs": []
    },
    {
      "cell_type": "markdown",
      "metadata": {
        "id": "U80hk5q7D1Hm",
        "colab_type": "text"
      },
      "source": [
        "Prepare training set"
      ]
    },
    {
      "cell_type": "code",
      "metadata": {
        "colab_type": "code",
        "id": "jSbts0uk1Zqr",
        "colab": {
          "base_uri": "https://localhost:8080/",
          "height": 238
        },
        "outputId": "1ee771f8-bf36-4036-d315-5abad5fc6e9a"
      },
      "source": [
        "sequence=training_set\n",
        "# split into samples\n",
        "X_train, y_train = split_sequence(sequence, n_steps_in, n_steps_out)\n",
        "# summarize the data\n",
        "for i in range(len(X_train)):\n",
        "\tprint(X_train[i], y_train[i])"
      ],
      "execution_count": null,
      "outputs": [
        {
          "output_type": "stream",
          "text": [
            "[10.004 10.001 10.002 10.003 10.003 10.002 10.003] [10.002  9.998 10.002]\n",
            "[10.001 10.002 10.003 10.003 10.002 10.003 10.002] [ 9.998 10.002 10.003]\n",
            "[10.002 10.003 10.003 10.002 10.003 10.002  9.998] [10.002 10.003 10.004]\n",
            "[10.003 10.003 10.002 10.003 10.002  9.998 10.002] [10.003 10.004 10.001]\n",
            "[10.003 10.002 10.003 10.002  9.998 10.002 10.003] [10.004 10.001 10.   ]\n",
            "[10.002 10.003 10.002  9.998 10.002 10.003 10.004] [10.001 10.    10.002]\n",
            "[10.003 10.002  9.998 10.002 10.003 10.004 10.001] [10.    10.002 10.001]\n",
            "[10.002  9.998 10.002 10.003 10.004 10.001 10.   ] [10.002 10.001 10.002]\n",
            "[ 9.998 10.002 10.003 10.004 10.001 10.    10.002] [10.001 10.002 10.001]\n",
            "[10.002 10.003 10.004 10.001 10.    10.002 10.001] [10.002 10.001 10.   ]\n",
            "[10.003 10.004 10.001 10.    10.002 10.001 10.002] [10.001 10.    10.001]\n",
            "[10.004 10.001 10.    10.002 10.001 10.002 10.001] [10.    10.001 10.002]\n",
            "[10.001 10.    10.002 10.001 10.002 10.001 10.   ] [10.001 10.002 10.   ]\n"
          ],
          "name": "stdout"
        }
      ]
    },
    {
      "cell_type": "code",
      "metadata": {
        "colab_type": "code",
        "id": "1MvpDEmA1Zqv",
        "colab": {
          "base_uri": "https://localhost:8080/",
          "height": 51
        },
        "outputId": "1ac2887d-5dd8-4a85-b4d5-2e1626a7b43a"
      },
      "source": [
        "# reshape from [samples, timesteps] into [samples, timesteps, features]\n",
        "n_features = 1\n",
        "X_train = X_train.reshape((X_train.shape[0], X_train.shape[1], n_features))\n",
        "print(X_train.shape)\n",
        "print(y_train.shape)"
      ],
      "execution_count": null,
      "outputs": [
        {
          "output_type": "stream",
          "text": [
            "(13, 7, 1)\n",
            "(13, 3)\n"
          ],
          "name": "stdout"
        }
      ]
    },
    {
      "cell_type": "markdown",
      "metadata": {
        "id": "JOAkVCLxD3uM",
        "colab_type": "text"
      },
      "source": [
        "Prepare test set"
      ]
    },
    {
      "cell_type": "code",
      "metadata": {
        "id": "ttEV2_xKJ9q4",
        "colab_type": "code",
        "colab": {
          "base_uri": "https://localhost:8080/",
          "height": 153
        },
        "outputId": "731c1a30-1fb0-4b7a-85f5-c1821b098eef"
      },
      "source": [
        "test_set"
      ],
      "execution_count": null,
      "outputs": [
        {
          "output_type": "execute_result",
          "data": {
            "text/plain": [
              "Datef\n",
              "2019-11-01    10.000\n",
              "2019-11-13    10.002\n",
              "2019-12-05    10.000\n",
              "2019-12-10    10.003\n",
              "2019-12-26    10.003\n",
              "2019-12-31     9.999\n",
              "Name: C-Pitch, dtype: float64"
            ]
          },
          "metadata": {
            "tags": []
          },
          "execution_count": 138
        }
      ]
    },
    {
      "cell_type": "code",
      "metadata": {
        "id": "0ZzDp5iuFNJT",
        "colab_type": "code",
        "colab": {
          "base_uri": "https://localhost:8080/",
          "height": 272
        },
        "outputId": "c1ac2f69-c78a-4f00-af96-72cbbcd9b738"
      },
      "source": [
        "inputs=df[df.columns[column]][len(df)-len(test_set) - n_steps_in:]\n",
        "inputs"
      ],
      "execution_count": null,
      "outputs": [
        {
          "output_type": "execute_result",
          "data": {
            "text/plain": [
              "Datef\n",
              "2019-06-25    10.001\n",
              "2019-06-28    10.002\n",
              "2019-08-07    10.001\n",
              "2019-08-19    10.000\n",
              "2019-08-26    10.001\n",
              "2019-09-05    10.002\n",
              "2019-10-17    10.000\n",
              "2019-11-01    10.000\n",
              "2019-11-13    10.002\n",
              "2019-12-05    10.000\n",
              "2019-12-10    10.003\n",
              "2019-12-26    10.003\n",
              "2019-12-31     9.999\n",
              "Name: C-Pitch, dtype: float64"
            ]
          },
          "metadata": {
            "tags": []
          },
          "execution_count": 135
        }
      ]
    },
    {
      "cell_type": "code",
      "metadata": {
        "id": "G79YrG9AD5JD",
        "colab_type": "code",
        "colab": {
          "base_uri": "https://localhost:8080/",
          "height": 85
        },
        "outputId": "e932f213-1ff5-43b1-9e61-6696d59743a3"
      },
      "source": [
        "sequence=inputs\n",
        "# split into samples\n",
        "X_test, y_test = split_sequence(sequence, n_steps_in, n_steps_out)\n",
        "# summarize the data\n",
        "for i in range(len(X_test)):\n",
        "\tprint(X_test[i], y_test[i])"
      ],
      "execution_count": null,
      "outputs": [
        {
          "output_type": "stream",
          "text": [
            "[10.001 10.002 10.001 10.    10.001 10.002 10.   ] [10.    10.002 10.   ]\n",
            "[10.002 10.001 10.    10.001 10.002 10.    10.   ] [10.002 10.    10.003]\n",
            "[10.001 10.    10.001 10.002 10.    10.    10.002] [10.    10.003 10.003]\n",
            "[10.    10.001 10.002 10.    10.    10.002 10.   ] [10.003 10.003  9.999]\n"
          ],
          "name": "stdout"
        }
      ]
    },
    {
      "cell_type": "code",
      "metadata": {
        "id": "zj_8ZoZOEeXC",
        "colab_type": "code",
        "colab": {
          "base_uri": "https://localhost:8080/",
          "height": 51
        },
        "outputId": "c4a3c3b2-0c1a-4d6f-904a-81875d443436"
      },
      "source": [
        "# reshape from [samples, timesteps] into [samples, timesteps, features]\n",
        "n_features = 1\n",
        "X_test = X_test.reshape((X_test.shape[0], X_test.shape[1], n_features))\n",
        "print(X_test.shape)\n",
        "print(y_test.shape)"
      ],
      "execution_count": null,
      "outputs": [
        {
          "output_type": "stream",
          "text": [
            "(4, 7, 1)\n",
            "(4, 3)\n"
          ],
          "name": "stdout"
        }
      ]
    },
    {
      "cell_type": "markdown",
      "metadata": {
        "colab_type": "text",
        "id": "194Gyt4s1Zqy"
      },
      "source": [
        "- Mean Squared Error: mean_squared_error, MSE or mse\n",
        "- Mean Absolute Error: mean_absolute_error, MAE, mae\n",
        "- Mean Absolute Percentage Error: mean_absolute_percentage_error, MAPE, mape"
      ]
    },
    {
      "cell_type": "code",
      "metadata": {
        "colab_type": "code",
        "id": "jZShe4dw1Zqy",
        "colab": {
          "base_uri": "https://localhost:8080/",
          "height": 255
        },
        "outputId": "b4c30a23-2215-4585-d023-62360e5d6042"
      },
      "source": [
        "from keras import backend\n",
        " \n",
        "def rmse(y_true, y_pred):\n",
        "\treturn backend.sqrt(backend.mean(backend.square(y_pred - y_true), axis=-1))\n",
        "# define model\n",
        "model = Sequential()\n",
        "model.add(LSTM(100, activation='relu', return_sequences=True, input_shape=(n_steps_in, n_features)))\n",
        "model.add(LSTM(100, activation='relu'))\n",
        "model.add(Dense(n_steps_out))\n",
        "model.compile(optimizer='adam', loss='mse',metrics=['mse','mae','mape',rmse])\n",
        "model.summary()\n"
      ],
      "execution_count": null,
      "outputs": [
        {
          "output_type": "stream",
          "text": [
            "Model: \"sequential_2\"\n",
            "_________________________________________________________________\n",
            "Layer (type)                 Output Shape              Param #   \n",
            "=================================================================\n",
            "lstm_3 (LSTM)                (None, 7, 100)            40800     \n",
            "_________________________________________________________________\n",
            "lstm_4 (LSTM)                (None, 100)               80400     \n",
            "_________________________________________________________________\n",
            "dense_2 (Dense)              (None, 3)                 303       \n",
            "=================================================================\n",
            "Total params: 121,503\n",
            "Trainable params: 121,503\n",
            "Non-trainable params: 0\n",
            "_________________________________________________________________\n"
          ],
          "name": "stdout"
        }
      ]
    },
    {
      "cell_type": "code",
      "metadata": {
        "colab_type": "code",
        "id": "cAkqiYbL1Zq0",
        "colab": {}
      },
      "source": [
        "# Fitting to the training set\n",
        "callbacks = [EarlyStopping(monitor=\"val_loss\", patience=3, \n",
        "                           mode='min',restore_best_weights=True),\n",
        "            #ModelCheckpoint(filepath=\"best_model.h5\",monitor=\"val_loss\",\n",
        "             #               save_best_only=True)\n",
        "            ]\n",
        "\n",
        "history=model.fit(X_train,y_train,validation_split=0.2,epochs=100,verbose=0)"
      ],
      "execution_count": null,
      "outputs": []
    },
    {
      "cell_type": "code",
      "metadata": {
        "colab_type": "code",
        "id": "ZbQO_Fmt1Zq3",
        "colab": {
          "base_uri": "https://localhost:8080/",
          "height": 285
        },
        "outputId": "a094b6ff-a452-4f40-f4fa-d380bc7129c3"
      },
      "source": [
        "plt.plot(history.history['rmse'])"
      ],
      "execution_count": null,
      "outputs": [
        {
          "output_type": "execute_result",
          "data": {
            "text/plain": [
              "[<matplotlib.lines.Line2D at 0x7fc31e9cee48>]"
            ]
          },
          "metadata": {
            "tags": []
          },
          "execution_count": 141
        },
        {
          "output_type": "display_data",
          "data": {
            "image/png": "[encoded data removed]",
            "text/plain": [
              "<Figure size 432x288 with 1 Axes>"
            ]
          },
          "metadata": {
            "tags": []
          }
        }
      ]
    },
    {
      "cell_type": "code",
      "metadata": {
        "colab_type": "code",
        "id": "4DzeAGOB1Zq9",
        "colab": {
          "base_uri": "https://localhost:8080/",
          "height": 51
        },
        "outputId": "ecb568f0-662d-45b0-f980-3d47fb1a5db3"
      },
      "source": [
        "y_train_pred=model.predict(X_train)\n",
        "y_test_pred=model.predict(X_test)\n",
        "print('train rmse:', np.sqrt(mean_squared_error(y_train, y_train_pred)))\n",
        "print('test rmse:', np.sqrt(mean_squared_error(y_test, y_test_pred)))"
      ],
      "execution_count": null,
      "outputs": [
        {
          "output_type": "stream",
          "text": [
            "train rmse: 0.03705440776874601\n",
            "test rmse: 0.03843480749442527\n"
          ],
          "name": "stdout"
        }
      ]
    },
    {
      "cell_type": "code",
      "metadata": {
        "id": "EHd8Eu5OKU0B",
        "colab_type": "code",
        "colab": {
          "base_uri": "https://localhost:8080/",
          "height": 544
        },
        "outputId": "61c43d31-b738-4e7a-d11a-1bdfc0b37282"
      },
      "source": [
        "X_test"
      ],
      "execution_count": null,
      "outputs": [
        {
          "output_type": "execute_result",
          "data": {
            "text/plain": [
              "array([[[10.001],\n",
              "        [10.002],\n",
              "        [10.001],\n",
              "        [10.   ],\n",
              "        [10.001],\n",
              "        [10.002],\n",
              "        [10.   ]],\n",
              "\n",
              "       [[10.002],\n",
              "        [10.001],\n",
              "        [10.   ],\n",
              "        [10.001],\n",
              "        [10.002],\n",
              "        [10.   ],\n",
              "        [10.   ]],\n",
              "\n",
              "       [[10.001],\n",
              "        [10.   ],\n",
              "        [10.001],\n",
              "        [10.002],\n",
              "        [10.   ],\n",
              "        [10.   ],\n",
              "        [10.002]],\n",
              "\n",
              "       [[10.   ],\n",
              "        [10.001],\n",
              "        [10.002],\n",
              "        [10.   ],\n",
              "        [10.   ],\n",
              "        [10.002],\n",
              "        [10.   ]]])"
            ]
          },
          "metadata": {
            "tags": []
          },
          "execution_count": 145
        }
      ]
    },
    {
      "cell_type": "code",
      "metadata": {
        "id": "x9-L6pVQKQF5",
        "colab_type": "code",
        "colab": {
          "base_uri": "https://localhost:8080/",
          "height": 85
        },
        "outputId": "55615b99-a8f9-48ee-aa9b-6fd296bfc37a"
      },
      "source": [
        "y_test_pred"
      ],
      "execution_count": null,
      "outputs": [
        {
          "output_type": "execute_result",
          "data": {
            "text/plain": [
              "array([[ 9.993518 ,  9.939783 , 10.022459 ],\n",
              "       [ 9.993361 ,  9.9396305, 10.02232  ],\n",
              "       [ 9.992812 ,  9.939018 , 10.021702 ],\n",
              "       [ 9.992673 ,  9.938937 , 10.021612 ]], dtype=float32)"
            ]
          },
          "metadata": {
            "tags": []
          },
          "execution_count": 144
        }
      ]
    },
    {
      "cell_type": "code",
      "metadata": {
        "id": "5zqsOYn_G-LV",
        "colab_type": "code",
        "colab": {
          "base_uri": "https://localhost:8080/",
          "height": 301
        },
        "outputId": "1ef51cb2-ece7-4e4c-8a93-f0276d9120c4"
      },
      "source": [
        "plt.plot(y_test, color='red',label='Real IBM Stock Price')\n",
        "plt.plot(y_test_pred, color='blue',label='Predicted IBM Stock Price')\n",
        "plt.title('IBM Stock Price Prediction')\n",
        "plt.xlabel('Time')\n",
        "plt.ylabel('IBM Stock Price')\n",
        "plt.legend()\n",
        "plt.show()"
      ],
      "execution_count": null,
      "outputs": [
        {
          "output_type": "display_data",
          "data": {
            "image/png": "[encoded data removed]",
            "text/plain": [
              "<Figure size 432x288 with 1 Axes>"
            ]
          },
          "metadata": {
            "tags": []
          }
        }
      ]
    },
    {
      "cell_type": "code",
      "metadata": {
        "id": "aC_lW4KbKF9k",
        "colab_type": "code",
        "colab": {}
      },
      "source": [
        ""
      ],
      "execution_count": null,
      "outputs": []
    }
  ]
}