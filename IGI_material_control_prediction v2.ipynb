{
  "nbformat": 4,
  "nbformat_minor": 0,
  "metadata": {
    "kernelspec": {
      "name": "python3",
      "display_name": "Python 3",
      "language": "python"
    },
    "language_info": {
      "mimetype": "text/x-python",
      "nbconvert_exporter": "python",
      "name": "python",
      "pygments_lexer": "ipython3",
      "version": "3.5.4",
      "file_extension": ".py",
      "codemirror_mode": {
        "version": 3,
        "name": "ipython"
      }
    },
    "colab": {
      "name": "IGI_material_control_prediction.ipynb",
      "provenance": [],
      "collapsed_sections": [],
      "include_colab_link": true
    }
  },
  "cells": [
    {
      "cell_type": "markdown",
      "metadata": {
        "id": "view-in-github",
        "colab_type": "text"
      },
      "source": [
        "<a href=\"https://colab.research.google.com/github/duybluemind1988/Data-science/blob/master/IGI_material_control_prediction%20v2.ipynb\" target=\"_parent\"><img src=\"https://colab.research.google.com/assets/colab-badge.svg\" alt=\"Open In Colab\"/></a>"
      ]
    },
    {
      "cell_type": "code",
      "metadata": {
        "jupyter": {},
        "trusted": false,
        "id": "2TNQ3e-OZ7ll",
        "colab_type": "code",
        "colab": {}
      },
      "source": [
        "#!pip install altair_viewer #Need to install this package"
      ],
      "execution_count": 2,
      "outputs": []
    },
    {
      "cell_type": "code",
      "metadata": {
        "id": "N4f5Cj05oRin",
        "colab_type": "code",
        "colab": {}
      },
      "source": [
        "#!pip install jupyter altair vega #No need to install this package"
      ],
      "execution_count": 3,
      "outputs": []
    },
    {
      "cell_type": "code",
      "metadata": {
        "id": "aq4NBAoTZAV8",
        "colab_type": "code",
        "colab": {
          "base_uri": "https://localhost:8080/",
          "height": 68
        },
        "outputId": "8d309ebb-5997-45b6-ffb3-96015ee67cff"
      },
      "source": [
        "# VERY IMPORTANT INFORMATION\n",
        "print('Please input number of feature')\n",
        "feature_num=5\n",
        "print('Please input number of sample inspection')\n",
        "sample_num=5\n",
        "print('Please input position of sample value')\n",
        "namefile='MMD2019'\n"
      ],
      "execution_count": 4,
      "outputs": [
        {
          "output_type": "stream",
          "text": [
            "Please input number of feature\n",
            "Please input number of sample inspection\n",
            "Please input position of sample value\n"
          ],
          "name": "stdout"
        }
      ]
    },
    {
      "cell_type": "code",
      "metadata": {
        "id": "4nSgR7tdm2RR",
        "colab_type": "code",
        "colab": {
          "base_uri": "https://localhost:8080/",
          "height": 51
        },
        "outputId": "3c785fdd-21cb-4386-e244-da636d05f883"
      },
      "source": [
        "import datetime\n",
        "import seaborn as sns; sns.set()\n",
        "import pandas as pd\n",
        "import numpy as np\n",
        "import matplotlib.pyplot as plt\n",
        "\n",
        "import plotly.graph_objects as go\n",
        "from plotly.subplots import make_subplots\n",
        "import plotly.express as px\n",
        "from plotly.offline import iplot\n",
        "import pandas as pd\n",
        "import re\n",
        "import altair as alt\n",
        "\n",
        "from statsmodels.tsa.arima_model import ARIMA\n",
        "import statsmodels.api as sm\n",
        "from statsmodels.graphics.tsaplots import plot_acf\n",
        "from statsmodels.stats.diagnostic import acorr_ljungbox\n",
        "import scipy.stats as scs\n",
        "from math import sqrt\n",
        "from sklearn.metrics import mean_squared_error,mean_absolute_error\n",
        "from sklearn.model_selection import train_test_split\n",
        "from sklearn.preprocessing import MinMaxScaler,StandardScaler"
      ],
      "execution_count": 5,
      "outputs": [
        {
          "output_type": "stream",
          "text": [
            "/usr/local/lib/python3.6/dist-packages/statsmodels/tools/_testing.py:19: FutureWarning: pandas.util.testing is deprecated. Use the functions in the public API at pandas.testing instead.\n",
            "  import pandas.util.testing as tm\n"
          ],
          "name": "stderr"
        }
      ]
    },
    {
      "cell_type": "code",
      "metadata": {
        "id": "JygC8Ta5D3MP",
        "colab_type": "code",
        "colab": {}
      },
      "source": [
        "#alt.renderers.enable('notebook')\n",
        "#alt.renderers.enable('mimetype')"
      ],
      "execution_count": 6,
      "outputs": []
    },
    {
      "cell_type": "code",
      "metadata": {
        "jupyter": {},
        "scrolled": true,
        "trusted": false,
        "id": "VuwXOx_IZ7lx",
        "colab_type": "code",
        "colab": {
          "base_uri": "https://localhost:8080/",
          "height": 35
        },
        "outputId": "5f501cde-93b3-4aed-d0f0-991d69829605"
      },
      "source": [
        "import os\n",
        "os.getcwd()"
      ],
      "execution_count": 7,
      "outputs": [
        {
          "output_type": "execute_result",
          "data": {
            "application/vnd.google.colaboratory.intrinsic+json": {
              "type": "string"
            },
            "text/plain": [
              "'/content'"
            ]
          },
          "metadata": {
            "tags": []
          },
          "execution_count": 7
        }
      ]
    },
    {
      "cell_type": "code",
      "metadata": {
        "jupyter": {},
        "trusted": false,
        "id": "UpKpM4btZ7l8",
        "colab_type": "code",
        "colab": {}
      },
      "source": [
        "path='/content/drive/My Drive/Data/IGI material Membrane 2019/'\n",
        "#path='/content/drive/My Drive/Data science/Sonion project/IGI material Armature/'\n",
        "#path1='/content/drive/My Drive/Data/MMD 2019/'\n",
        "#path2='/content/drive/My Drive/Data/MMD 2018/'"
      ],
      "execution_count": 8,
      "outputs": []
    },
    {
      "cell_type": "markdown",
      "metadata": {
        "id": "Y2HlTJydH52E",
        "colab_type": "text"
      },
      "source": [
        "### read all excel file and sort  by day"
      ]
    },
    {
      "cell_type": "code",
      "metadata": {
        "jupyter": {},
        "trusted": false,
        "id": "uy2s1BEDZ7mr",
        "colab_type": "code",
        "colab": {
          "base_uri": "https://localhost:8080/",
          "height": 34
        },
        "outputId": "06622422-049f-4c22-926d-0c13faae8e6c"
      },
      "source": [
        "import glob\n",
        "#print(path)\n",
        "all_files1=glob.glob(path + '*.xlsx')\n",
        "all_files2=glob.glob(path + '*.xlsm')\n",
        "all_files=all_files1+all_files2\n",
        "#sort file in directory by reverse:\n",
        "all_files = sorted(all_files, reverse = False)\n",
        "print('number of files: ',len(all_files))"
      ],
      "execution_count": 16,
      "outputs": [
        {
          "output_type": "stream",
          "text": [
            "number of files:  29\n"
          ],
          "name": "stdout"
        }
      ]
    },
    {
      "cell_type": "markdown",
      "metadata": {
        "id": "2f5dUwV1ISOF",
        "colab_type": "text"
      },
      "source": [
        "### Initial number of feature and sample:"
      ]
    },
    {
      "cell_type": "markdown",
      "metadata": {
        "id": "Katnq8DygEj0",
        "colab_type": "text"
      },
      "source": [
        "### add all dataframe to list of dataframe:"
      ]
    },
    {
      "cell_type": "code",
      "metadata": {
        "id": "CAyq344uIHIQ",
        "colab_type": "code",
        "colab": {
          "base_uri": "https://localhost:8080/",
          "height": 538
        },
        "outputId": "e7929d39-6a93-4c55-8796-e4b5d90560cb"
      },
      "source": [
        "finaldf=pd.DataFrame()\n",
        "for filename in all_files:\n",
        "    df = pd.read_excel(filename, index_col = None, header = 0)\n",
        "    #Create data frame feature values(newdf)\n",
        "    newdf=pd.DataFrame()\n",
        "    for i in range(feature_num+1)[1:]:\n",
        "      df_feature= df['Unnamed: '+str(i)][19:(19+sample_num)] #must be = 19 + sample_num /24 la mac dinh\n",
        "      df_feature=df_feature.reset_index(drop=True)\n",
        "      newdf=pd.concat([newdf,df_feature],axis=1)\n",
        "    #print(newdf)  \n",
        "\n",
        "    #Date transform:\n",
        "    a=df[['Unnamed: 7']][3:4] #object type - normal is [2:3]\n",
        "    if a.isna().values:\n",
        "      a=df[['Unnamed: 7']][2:3]\n",
        "      date = a.values[0][0] #timestamp type\n",
        "    else:\n",
        "      date = a.values[0][0] #timestamp type\n",
        "    if isinstance(date, str):\n",
        "      continue\n",
        "    #Create series date column (row = number of value to record, default = 5)\n",
        "    date=pd.Series(date)\n",
        "    datedf=pd.DataFrame()\n",
        "    for i in range(sample_num):\n",
        "      datedf=pd.concat([datedf,date],axis=0)\n",
        "\n",
        "    datedf.reset_index(drop=True, inplace=True)\n",
        "    newdf.reset_index(drop=True, inplace=True)\n",
        "    df_combine=pd.concat([datedf,newdf],axis=1) # combine date and features\n",
        "\n",
        "    #combine all df each filename:\n",
        "    \n",
        "    finaldf=pd.concat([finaldf,df_combine],axis=0)\n",
        "print(finaldf.isnull().sum())\n",
        "finaldf.reset_index(drop=True,inplace=True)\n",
        "finaldf.sort_values(by=finaldf.columns[0])\n",
        "finaldf"
      ],
      "execution_count": 17,
      "outputs": [
        {
          "output_type": "stream",
          "text": [
            "0             0\n",
            "Unnamed: 1    0\n",
            "Unnamed: 2    0\n",
            "Unnamed: 3    0\n",
            "Unnamed: 4    0\n",
            "Unnamed: 5    0\n",
            "dtype: int64\n"
          ],
          "name": "stdout"
        },
        {
          "output_type": "execute_result",
          "data": {
            "text/html": [
              "<div>\n",
              "<style scoped>\n",
              "    .dataframe tbody tr th:only-of-type {\n",
              "        vertical-align: middle;\n",
              "    }\n",
              "\n",
              "    .dataframe tbody tr th {\n",
              "        vertical-align: top;\n",
              "    }\n",
              "\n",
              "    .dataframe thead th {\n",
              "        text-align: right;\n",
              "    }\n",
              "</style>\n",
              "<table border=\"1\" class=\"dataframe\">\n",
              "  <thead>\n",
              "    <tr style=\"text-align: right;\">\n",
              "      <th></th>\n",
              "      <th>0</th>\n",
              "      <th>Unnamed: 1</th>\n",
              "      <th>Unnamed: 2</th>\n",
              "      <th>Unnamed: 3</th>\n",
              "      <th>Unnamed: 4</th>\n",
              "      <th>Unnamed: 5</th>\n",
              "    </tr>\n",
              "  </thead>\n",
              "  <tbody>\n",
              "    <tr>\n",
              "      <th>0</th>\n",
              "      <td>2019-01-11</td>\n",
              "      <td>10.003</td>\n",
              "      <td>1.219</td>\n",
              "      <td>3.197</td>\n",
              "      <td>11.855</td>\n",
              "      <td>0.31</td>\n",
              "    </tr>\n",
              "    <tr>\n",
              "      <th>1</th>\n",
              "      <td>2019-01-11</td>\n",
              "      <td>10.005</td>\n",
              "      <td>1.219</td>\n",
              "      <td>3.19</td>\n",
              "      <td>11.855</td>\n",
              "      <td>0.31</td>\n",
              "    </tr>\n",
              "    <tr>\n",
              "      <th>2</th>\n",
              "      <td>2019-01-11</td>\n",
              "      <td>10.005</td>\n",
              "      <td>1.219</td>\n",
              "      <td>3.194</td>\n",
              "      <td>11.852</td>\n",
              "      <td>0.31</td>\n",
              "    </tr>\n",
              "    <tr>\n",
              "      <th>3</th>\n",
              "      <td>2019-01-11</td>\n",
              "      <td>10.002</td>\n",
              "      <td>1.218</td>\n",
              "      <td>3.198</td>\n",
              "      <td>11.855</td>\n",
              "      <td>0.311</td>\n",
              "    </tr>\n",
              "    <tr>\n",
              "      <th>4</th>\n",
              "      <td>2019-01-11</td>\n",
              "      <td>10.003</td>\n",
              "      <td>1.219</td>\n",
              "      <td>3.19</td>\n",
              "      <td>11.85</td>\n",
              "      <td>0.31</td>\n",
              "    </tr>\n",
              "    <tr>\n",
              "      <th>...</th>\n",
              "      <td>...</td>\n",
              "      <td>...</td>\n",
              "      <td>...</td>\n",
              "      <td>...</td>\n",
              "      <td>...</td>\n",
              "      <td>...</td>\n",
              "    </tr>\n",
              "    <tr>\n",
              "      <th>140</th>\n",
              "      <td>2019-12-31</td>\n",
              "      <td>9.991</td>\n",
              "      <td>1.218</td>\n",
              "      <td>3.199</td>\n",
              "      <td>11.85</td>\n",
              "      <td>0.313</td>\n",
              "    </tr>\n",
              "    <tr>\n",
              "      <th>141</th>\n",
              "      <td>2019-12-31</td>\n",
              "      <td>9.999</td>\n",
              "      <td>1.218</td>\n",
              "      <td>3.204</td>\n",
              "      <td>11.849</td>\n",
              "      <td>0.314</td>\n",
              "    </tr>\n",
              "    <tr>\n",
              "      <th>142</th>\n",
              "      <td>2019-12-31</td>\n",
              "      <td>10.003</td>\n",
              "      <td>1.219</td>\n",
              "      <td>3.202</td>\n",
              "      <td>11.847</td>\n",
              "      <td>0.313</td>\n",
              "    </tr>\n",
              "    <tr>\n",
              "      <th>143</th>\n",
              "      <td>2019-12-31</td>\n",
              "      <td>10.002</td>\n",
              "      <td>1.219</td>\n",
              "      <td>3.201</td>\n",
              "      <td>11.847</td>\n",
              "      <td>0.312</td>\n",
              "    </tr>\n",
              "    <tr>\n",
              "      <th>144</th>\n",
              "      <td>2019-12-31</td>\n",
              "      <td>10.002</td>\n",
              "      <td>1.218</td>\n",
              "      <td>3.201</td>\n",
              "      <td>11.848</td>\n",
              "      <td>0.312</td>\n",
              "    </tr>\n",
              "  </tbody>\n",
              "</table>\n",
              "<p>145 rows × 6 columns</p>\n",
              "</div>"
            ],
            "text/plain": [
              "             0 Unnamed: 1 Unnamed: 2 Unnamed: 3 Unnamed: 4 Unnamed: 5\n",
              "0   2019-01-11     10.003      1.219      3.197     11.855       0.31\n",
              "1   2019-01-11     10.005      1.219       3.19     11.855       0.31\n",
              "2   2019-01-11     10.005      1.219      3.194     11.852       0.31\n",
              "3   2019-01-11     10.002      1.218      3.198     11.855      0.311\n",
              "4   2019-01-11     10.003      1.219       3.19      11.85       0.31\n",
              "..         ...        ...        ...        ...        ...        ...\n",
              "140 2019-12-31      9.991      1.218      3.199      11.85      0.313\n",
              "141 2019-12-31      9.999      1.218      3.204     11.849      0.314\n",
              "142 2019-12-31     10.003      1.219      3.202     11.847      0.313\n",
              "143 2019-12-31     10.002      1.219      3.201     11.847      0.312\n",
              "144 2019-12-31     10.002      1.218      3.201     11.848      0.312\n",
              "\n",
              "[145 rows x 6 columns]"
            ]
          },
          "metadata": {
            "tags": []
          },
          "execution_count": 17
        }
      ]
    },
    {
      "cell_type": "code",
      "metadata": {
        "id": "Lc8OQM0qYowQ",
        "colab_type": "code",
        "colab": {}
      },
      "source": [
        "#finaldf.to_csv('finaldfMMD.csv')"
      ],
      "execution_count": 18,
      "outputs": []
    },
    {
      "cell_type": "code",
      "metadata": {
        "id": "QVnzsVsox9in",
        "colab_type": "code",
        "colab": {
          "base_uri": "https://localhost:8080/",
          "height": 419
        },
        "outputId": "ed1430f9-5350-426e-bd5a-570adeb4e81b"
      },
      "source": [
        "finaldf.dropna(inplace=True)\n",
        "finaldf  "
      ],
      "execution_count": 19,
      "outputs": [
        {
          "output_type": "execute_result",
          "data": {
            "text/html": [
              "<div>\n",
              "<style scoped>\n",
              "    .dataframe tbody tr th:only-of-type {\n",
              "        vertical-align: middle;\n",
              "    }\n",
              "\n",
              "    .dataframe tbody tr th {\n",
              "        vertical-align: top;\n",
              "    }\n",
              "\n",
              "    .dataframe thead th {\n",
              "        text-align: right;\n",
              "    }\n",
              "</style>\n",
              "<table border=\"1\" class=\"dataframe\">\n",
              "  <thead>\n",
              "    <tr style=\"text-align: right;\">\n",
              "      <th></th>\n",
              "      <th>0</th>\n",
              "      <th>Unnamed: 1</th>\n",
              "      <th>Unnamed: 2</th>\n",
              "      <th>Unnamed: 3</th>\n",
              "      <th>Unnamed: 4</th>\n",
              "      <th>Unnamed: 5</th>\n",
              "    </tr>\n",
              "  </thead>\n",
              "  <tbody>\n",
              "    <tr>\n",
              "      <th>0</th>\n",
              "      <td>2019-01-11</td>\n",
              "      <td>10.003</td>\n",
              "      <td>1.219</td>\n",
              "      <td>3.197</td>\n",
              "      <td>11.855</td>\n",
              "      <td>0.31</td>\n",
              "    </tr>\n",
              "    <tr>\n",
              "      <th>1</th>\n",
              "      <td>2019-01-11</td>\n",
              "      <td>10.005</td>\n",
              "      <td>1.219</td>\n",
              "      <td>3.19</td>\n",
              "      <td>11.855</td>\n",
              "      <td>0.31</td>\n",
              "    </tr>\n",
              "    <tr>\n",
              "      <th>2</th>\n",
              "      <td>2019-01-11</td>\n",
              "      <td>10.005</td>\n",
              "      <td>1.219</td>\n",
              "      <td>3.194</td>\n",
              "      <td>11.852</td>\n",
              "      <td>0.31</td>\n",
              "    </tr>\n",
              "    <tr>\n",
              "      <th>3</th>\n",
              "      <td>2019-01-11</td>\n",
              "      <td>10.002</td>\n",
              "      <td>1.218</td>\n",
              "      <td>3.198</td>\n",
              "      <td>11.855</td>\n",
              "      <td>0.311</td>\n",
              "    </tr>\n",
              "    <tr>\n",
              "      <th>4</th>\n",
              "      <td>2019-01-11</td>\n",
              "      <td>10.003</td>\n",
              "      <td>1.219</td>\n",
              "      <td>3.19</td>\n",
              "      <td>11.85</td>\n",
              "      <td>0.31</td>\n",
              "    </tr>\n",
              "    <tr>\n",
              "      <th>...</th>\n",
              "      <td>...</td>\n",
              "      <td>...</td>\n",
              "      <td>...</td>\n",
              "      <td>...</td>\n",
              "      <td>...</td>\n",
              "      <td>...</td>\n",
              "    </tr>\n",
              "    <tr>\n",
              "      <th>140</th>\n",
              "      <td>2019-12-31</td>\n",
              "      <td>9.991</td>\n",
              "      <td>1.218</td>\n",
              "      <td>3.199</td>\n",
              "      <td>11.85</td>\n",
              "      <td>0.313</td>\n",
              "    </tr>\n",
              "    <tr>\n",
              "      <th>141</th>\n",
              "      <td>2019-12-31</td>\n",
              "      <td>9.999</td>\n",
              "      <td>1.218</td>\n",
              "      <td>3.204</td>\n",
              "      <td>11.849</td>\n",
              "      <td>0.314</td>\n",
              "    </tr>\n",
              "    <tr>\n",
              "      <th>142</th>\n",
              "      <td>2019-12-31</td>\n",
              "      <td>10.003</td>\n",
              "      <td>1.219</td>\n",
              "      <td>3.202</td>\n",
              "      <td>11.847</td>\n",
              "      <td>0.313</td>\n",
              "    </tr>\n",
              "    <tr>\n",
              "      <th>143</th>\n",
              "      <td>2019-12-31</td>\n",
              "      <td>10.002</td>\n",
              "      <td>1.219</td>\n",
              "      <td>3.201</td>\n",
              "      <td>11.847</td>\n",
              "      <td>0.312</td>\n",
              "    </tr>\n",
              "    <tr>\n",
              "      <th>144</th>\n",
              "      <td>2019-12-31</td>\n",
              "      <td>10.002</td>\n",
              "      <td>1.218</td>\n",
              "      <td>3.201</td>\n",
              "      <td>11.848</td>\n",
              "      <td>0.312</td>\n",
              "    </tr>\n",
              "  </tbody>\n",
              "</table>\n",
              "<p>145 rows × 6 columns</p>\n",
              "</div>"
            ],
            "text/plain": [
              "             0 Unnamed: 1 Unnamed: 2 Unnamed: 3 Unnamed: 4 Unnamed: 5\n",
              "0   2019-01-11     10.003      1.219      3.197     11.855       0.31\n",
              "1   2019-01-11     10.005      1.219       3.19     11.855       0.31\n",
              "2   2019-01-11     10.005      1.219      3.194     11.852       0.31\n",
              "3   2019-01-11     10.002      1.218      3.198     11.855      0.311\n",
              "4   2019-01-11     10.003      1.219       3.19      11.85       0.31\n",
              "..         ...        ...        ...        ...        ...        ...\n",
              "140 2019-12-31      9.991      1.218      3.199      11.85      0.313\n",
              "141 2019-12-31      9.999      1.218      3.204     11.849      0.314\n",
              "142 2019-12-31     10.003      1.219      3.202     11.847      0.313\n",
              "143 2019-12-31     10.002      1.219      3.201     11.847      0.312\n",
              "144 2019-12-31     10.002      1.218      3.201     11.848      0.312\n",
              "\n",
              "[145 rows x 6 columns]"
            ]
          },
          "metadata": {
            "tags": []
          },
          "execution_count": 19
        }
      ]
    },
    {
      "cell_type": "code",
      "metadata": {
        "id": "MZt727wVQzH1",
        "colab_type": "code",
        "colab": {
          "base_uri": "https://localhost:8080/",
          "height": 142
        },
        "outputId": "0587859c-8f35-44bb-955f-447c2df95f3b"
      },
      "source": [
        "finaldf.reset_index(drop=True,inplace=True)\n",
        "column_name=[]\n",
        "column_name.append('Datef')\n",
        "for i in range(feature_num+1)[1:]:\n",
        "  #print(df['Unnamed: '+str(i)][7])\n",
        "  namecolumn_temp=df['Unnamed: '+str(i)][7]\n",
        "  namecolumn_temp=namecolumn_temp.replace('.','')\n",
        "  column_name.append(namecolumn_temp)\n",
        "finaldf.columns=column_name\n",
        "finaldf.sort_values(by='Datef') #sort dated , not depend on file sorting\n",
        "for name in finaldf.columns[1:]:\n",
        "  try:\n",
        "    finaldf[name]=finaldf[name].astype(float)\n",
        "  except:\n",
        "    continue\n",
        "finaldf[:3] "
      ],
      "execution_count": 20,
      "outputs": [
        {
          "output_type": "execute_result",
          "data": {
            "text/html": [
              "<div>\n",
              "<style scoped>\n",
              "    .dataframe tbody tr th:only-of-type {\n",
              "        vertical-align: middle;\n",
              "    }\n",
              "\n",
              "    .dataframe tbody tr th {\n",
              "        vertical-align: top;\n",
              "    }\n",
              "\n",
              "    .dataframe thead th {\n",
              "        text-align: right;\n",
              "    }\n",
              "</style>\n",
              "<table border=\"1\" class=\"dataframe\">\n",
              "  <thead>\n",
              "    <tr style=\"text-align: right;\">\n",
              "      <th></th>\n",
              "      <th>Datef</th>\n",
              "      <th>C-Pitch</th>\n",
              "      <th>J</th>\n",
              "      <th>I</th>\n",
              "      <th>O</th>\n",
              "      <th>Z</th>\n",
              "    </tr>\n",
              "  </thead>\n",
              "  <tbody>\n",
              "    <tr>\n",
              "      <th>0</th>\n",
              "      <td>2019-01-11</td>\n",
              "      <td>10.003</td>\n",
              "      <td>1.219</td>\n",
              "      <td>3.197</td>\n",
              "      <td>11.855</td>\n",
              "      <td>0.31</td>\n",
              "    </tr>\n",
              "    <tr>\n",
              "      <th>1</th>\n",
              "      <td>2019-01-11</td>\n",
              "      <td>10.005</td>\n",
              "      <td>1.219</td>\n",
              "      <td>3.190</td>\n",
              "      <td>11.855</td>\n",
              "      <td>0.31</td>\n",
              "    </tr>\n",
              "    <tr>\n",
              "      <th>2</th>\n",
              "      <td>2019-01-11</td>\n",
              "      <td>10.005</td>\n",
              "      <td>1.219</td>\n",
              "      <td>3.194</td>\n",
              "      <td>11.852</td>\n",
              "      <td>0.31</td>\n",
              "    </tr>\n",
              "  </tbody>\n",
              "</table>\n",
              "</div>"
            ],
            "text/plain": [
              "       Datef  C-Pitch      J      I       O     Z\n",
              "0 2019-01-11   10.003  1.219  3.197  11.855  0.31\n",
              "1 2019-01-11   10.005  1.219  3.190  11.855  0.31\n",
              "2 2019-01-11   10.005  1.219  3.194  11.852  0.31"
            ]
          },
          "metadata": {
            "tags": []
          },
          "execution_count": 20
        }
      ]
    },
    {
      "cell_type": "code",
      "metadata": {
        "id": "cudGc6fCSeCJ",
        "colab_type": "code",
        "colab": {
          "base_uri": "https://localhost:8080/",
          "height": 136
        },
        "outputId": "69f784b2-1b56-4b0e-fd9a-b2ef27631171"
      },
      "source": [
        "finaldf.dtypes"
      ],
      "execution_count": 21,
      "outputs": [
        {
          "output_type": "execute_result",
          "data": {
            "text/plain": [
              "Datef      datetime64[ns]\n",
              "C-Pitch           float64\n",
              "J                 float64\n",
              "I                 float64\n",
              "O                 float64\n",
              "Z                 float64\n",
              "dtype: object"
            ]
          },
          "metadata": {
            "tags": []
          },
          "execution_count": 21
        }
      ]
    },
    {
      "cell_type": "code",
      "metadata": {
        "id": "7f9gsVIkXDwx",
        "colab_type": "code",
        "colab": {
          "base_uri": "https://localhost:8080/",
          "height": 136
        },
        "outputId": "a4092598-5fb5-48fd-9555-5dc96b838b30"
      },
      "source": [
        "finaldf = finaldf.select_dtypes(exclude=['object'])\n",
        "finaldf.dtypes"
      ],
      "execution_count": 22,
      "outputs": [
        {
          "output_type": "execute_result",
          "data": {
            "text/plain": [
              "Datef      datetime64[ns]\n",
              "C-Pitch           float64\n",
              "J                 float64\n",
              "I                 float64\n",
              "O                 float64\n",
              "Z                 float64\n",
              "dtype: object"
            ]
          },
          "metadata": {
            "tags": []
          },
          "execution_count": 22
        }
      ]
    },
    {
      "cell_type": "markdown",
      "metadata": {
        "id": "okA0XAlqOOas",
        "colab_type": "text"
      },
      "source": [
        "### set up tolerance dict:USL,LSL,Nominal"
      ]
    },
    {
      "cell_type": "code",
      "metadata": {
        "jupyter": {},
        "trusted": false,
        "id": "MH1E6C7gZ7my",
        "colab_type": "code",
        "colab": {
          "base_uri": "https://localhost:8080/",
          "height": 102
        },
        "outputId": "1e09b8db-ffc5-492d-aeba-e9a133ac3c8e"
      },
      "source": [
        "#set up tolerance dict:USL,LSL,Nominal\n",
        "#Tolerance set up when not drop object type column, not reflect exactly tolerance vs data analysis\n",
        "tolerance={}\n",
        "for column in df.columns[1:(feature_num+1)]:\n",
        "    namecolumn_temp=df[column][7] #df: dataframe latest in for loop\n",
        "    namecolumn_temp=namecolumn_temp.replace('.','')\n",
        "    tolerance[namecolumn_temp] =[df[column][9],df[column][10],df[column][15]]\n",
        "tolerance"
      ],
      "execution_count": 23,
      "outputs": [
        {
          "output_type": "execute_result",
          "data": {
            "text/plain": [
              "{'C-Pitch': [10.01, 9.99, 10],\n",
              " 'I': [3.21, 3.1900000000000004, 3.2],\n",
              " 'J': [1.22, 1.21, 1.21],\n",
              " 'O': [11.86, 11.84, 11.85],\n",
              " 'Z': [0.32, 0.27999999999999997, 0.3]}"
            ]
          },
          "metadata": {
            "tags": []
          },
          "execution_count": 23
        }
      ]
    },
    {
      "cell_type": "code",
      "metadata": {
        "jupyter": {},
        "scrolled": true,
        "trusted": false,
        "id": "BFap3Cp4Z7m4",
        "colab_type": "code",
        "colab": {
          "base_uri": "https://localhost:8080/",
          "height": 102
        },
        "outputId": "81ba4370-b03c-4820-971e-240119008a17"
      },
      "source": [
        "#Create list of dataframe, combine feature value and USL,LSL, Nominal\n",
        "DFdict={}\n",
        "for name in finaldf.columns[1:]:\n",
        "    print('Chart: ',name)\n",
        "        \n",
        "    #Create series USL:\n",
        "    USL = tolerance[name][0]\n",
        "    USL=pd.Series(USL)\n",
        "    s1=pd.DataFrame()\n",
        "    for i in range(len(finaldf)):\n",
        "      s1=pd.concat([s1,USL],axis=0)\n",
        "    s1.rename(columns={0:'USL'},inplace=True)\n",
        "    \n",
        "    #Create series LSL:\n",
        "    LSL = tolerance[name][1]\n",
        "    LSL=pd.Series(LSL)\n",
        "    s2=pd.DataFrame()\n",
        "    for i in range(len(finaldf)):\n",
        "      s2=pd.concat([s2,LSL],axis=0)\n",
        "    s2.rename(columns={0:'LSL'},inplace=True)\n",
        "    \n",
        "    #Create series nominal:\n",
        "    nominal = tolerance[name][2]\n",
        "    nominal=pd.Series(nominal)\n",
        "    s3=pd.DataFrame()\n",
        "    for i in range(len(finaldf)):\n",
        "      s3=pd.concat([s3,nominal],axis=0)\n",
        "    s3.rename(columns={0:'Nominal'},inplace=True)\n",
        "    \n",
        "    #combine Date,feature, LSL,USL,nominal to finaldataframe (for each feature):\n",
        "    finaldf['Datef'].reset_index(drop=True,inplace=True)\n",
        "    finaldf[name].reset_index(drop=True,inplace=True)\n",
        "    s1.reset_index(drop=True,inplace=True)\n",
        "    s2.reset_index(drop=True,inplace=True)\n",
        "    s3.reset_index(drop=True,inplace=True)\n",
        "    df_temp = pd.concat([finaldf['Datef'],finaldf[name],s1,s2,s3],axis=1)  \n",
        "\n",
        "    #Create dict of dataframe for each feature columns:\n",
        "    DFdict[name]=df_temp # Include Date, name, USL, LSL, nominal each parameter(J, I, O or Z...)\n",
        "    #print(DFdict[name][:3])\n",
        "    "
      ],
      "execution_count": 24,
      "outputs": [
        {
          "output_type": "stream",
          "text": [
            "Chart:  C-Pitch\n",
            "Chart:  J\n",
            "Chart:  I\n",
            "Chart:  O\n",
            "Chart:  Z\n"
          ],
          "name": "stdout"
        }
      ]
    },
    {
      "cell_type": "code",
      "metadata": {
        "id": "8NdFSyd1k3Yz",
        "colab_type": "code",
        "colab": {
          "base_uri": "https://localhost:8080/",
          "height": 459
        },
        "outputId": "89b221fa-f948-42b6-8579-03e573890f54"
      },
      "source": [
        "print(DFdict.keys())\n",
        "#df=DFdict['J']\n",
        "#print(df.columns)\n",
        "for name in DFdict.keys():\n",
        "  print(name)\n",
        "  print(DFdict[name][:3])"
      ],
      "execution_count": 25,
      "outputs": [
        {
          "output_type": "stream",
          "text": [
            "dict_keys(['C-Pitch', 'J', 'I', 'O', 'Z'])\n",
            "C-Pitch\n",
            "       Datef  C-Pitch    USL   LSL  Nominal\n",
            "0 2019-01-11   10.003  10.01  9.99     10.0\n",
            "1 2019-01-11   10.005  10.01  9.99     10.0\n",
            "2 2019-01-11   10.005  10.01  9.99     10.0\n",
            "J\n",
            "       Datef      J   USL   LSL  Nominal\n",
            "0 2019-01-11  1.219  1.22  1.21     1.21\n",
            "1 2019-01-11  1.219  1.22  1.21     1.21\n",
            "2 2019-01-11  1.219  1.22  1.21     1.21\n",
            "I\n",
            "       Datef      I   USL   LSL  Nominal\n",
            "0 2019-01-11  3.197  3.21  3.19      3.2\n",
            "1 2019-01-11  3.190  3.21  3.19      3.2\n",
            "2 2019-01-11  3.194  3.21  3.19      3.2\n",
            "O\n",
            "       Datef       O    USL    LSL  Nominal\n",
            "0 2019-01-11  11.855  11.86  11.84    11.85\n",
            "1 2019-01-11  11.855  11.86  11.84    11.85\n",
            "2 2019-01-11  11.852  11.86  11.84    11.85\n",
            "Z\n",
            "       Datef     Z   USL   LSL  Nominal\n",
            "0 2019-01-11  0.31  0.32  0.28      0.3\n",
            "1 2019-01-11  0.31  0.32  0.28      0.3\n",
            "2 2019-01-11  0.31  0.32  0.28      0.3\n"
          ],
          "name": "stdout"
        }
      ]
    },
    {
      "cell_type": "code",
      "metadata": {
        "id": "X_T2eWq0jvZy",
        "colab_type": "code",
        "colab": {}
      },
      "source": [
        "DFdict_final={}\n",
        "for name in DFdict.keys():\n",
        "  df=DFdict[name].copy()\n",
        "  df_group=df.groupby('Datef').mean() # mean value by Date\n",
        "  df_group.reset_index(inplace=True)\n",
        "\n",
        "  value_name=df_group.columns[1] #'C-Pitch', 'J', 'I', 'O', 'Z'\n",
        "  df_group[value_name] = df_group[value_name].round(decimals=3)\n",
        "  #---------------------------------------------------------------#\n",
        "\n",
        "  # Create a selection that chooses the nearest point & selects based on x-value\n",
        "  #UCL,LCL,nominal:\n",
        "  sigma=3\n",
        "  df_final = df_group.assign(\n",
        "                UCL=df_group[value_name].mean() + df_group[value_name].std()*sigma,\n",
        "                LCL=df_group[value_name].mean() - df_group[value_name].std()*sigma,\n",
        "                mean=df_group[value_name].mean())\n",
        "  DFdict_final[name]=df_final"
      ],
      "execution_count": 26,
      "outputs": []
    },
    {
      "cell_type": "code",
      "metadata": {
        "id": "wb397bvYnWuo",
        "colab_type": "code",
        "colab": {
          "base_uri": "https://localhost:8080/",
          "height": 459
        },
        "outputId": "0e6b5c91-54b1-48fc-9e4a-1180590ea3a6"
      },
      "source": [
        "print(DFdict_final.keys())\n",
        "#df=DFdict['J']\n",
        "#print(df.columns)\n",
        "for name in DFdict_final.keys():\n",
        "  print(name)\n",
        "  print(DFdict_final[name][:3])"
      ],
      "execution_count": 27,
      "outputs": [
        {
          "output_type": "stream",
          "text": [
            "dict_keys(['C-Pitch', 'J', 'I', 'O', 'Z'])\n",
            "C-Pitch\n",
            "       Datef  C-Pitch    USL   LSL  Nominal        UCL       LCL       mean\n",
            "0 2019-01-11   10.004  10.01  9.99     10.0  10.006001  9.997142  10.001571\n",
            "1 2019-01-22   10.001  10.01  9.99     10.0  10.006001  9.997142  10.001571\n",
            "2 2019-01-26   10.002  10.01  9.99     10.0  10.006001  9.997142  10.001571\n",
            "J\n",
            "       Datef      J   USL   LSL  Nominal       UCL       LCL      mean\n",
            "0 2019-01-11  1.219  1.22  1.21     1.21  1.222084  1.216344  1.219214\n",
            "1 2019-01-22  1.219  1.22  1.21     1.21  1.222084  1.216344  1.219214\n",
            "2 2019-01-26  1.220  1.22  1.21     1.21  1.222084  1.216344  1.219214\n",
            "I\n",
            "       Datef      I   USL   LSL  Nominal       UCL       LCL      mean\n",
            "0 2019-01-11  3.194  3.21  3.19      3.2  3.206102  3.191327  3.198714\n",
            "1 2019-01-22  3.199  3.21  3.19      3.2  3.206102  3.191327  3.198714\n",
            "2 2019-01-26  3.200  3.21  3.19      3.2  3.206102  3.191327  3.198714\n",
            "O\n",
            "       Datef       O    USL    LSL  Nominal        UCL        LCL       mean\n",
            "0 2019-01-11  11.853  11.86  11.84    11.85  11.862448  11.843409  11.852929\n",
            "1 2019-01-22  11.852  11.86  11.84    11.85  11.862448  11.843409  11.852929\n",
            "2 2019-01-26  11.853  11.86  11.84    11.85  11.862448  11.843409  11.852929\n",
            "Z\n",
            "       Datef      Z   USL   LSL  Nominal       UCL       LCL      mean\n",
            "0 2019-01-11  0.310  0.32  0.28      0.3  0.317891  0.306895  0.312393\n",
            "1 2019-01-22  0.311  0.32  0.28      0.3  0.317891  0.306895  0.312393\n",
            "2 2019-01-26  0.311  0.32  0.28      0.3  0.317891  0.306895  0.312393\n"
          ],
          "name": "stdout"
        }
      ]
    },
    {
      "cell_type": "markdown",
      "metadata": {
        "id": "SFfsyAvj9ksN",
        "colab_type": "text"
      },
      "source": [
        "### Line chart plotly"
      ]
    },
    {
      "cell_type": "code",
      "metadata": {
        "id": "HiJ1RZujQXqE",
        "colab_type": "code",
        "colab": {}
      },
      "source": [
        "i=1\n",
        "#Layout\n",
        "fig = make_subplots(\n",
        "    rows=len(DFdict_final), cols=1,\n",
        "    #shared_xaxes=True,\n",
        "    #vertical_spacing=0.03,\n",
        "    #column_widths=[0.8, 0.2],\n",
        "    #subplot_titles=(\"Line plot \"+name)\n",
        ")\n",
        "for name in DFdict_final.keys(): #also group\n",
        "  df=DFdict_final[name].copy()\n",
        "  df=df.sort_values(by=['Datef'])\n",
        "  for a in df.columns[1:]:\n",
        "    df[a] = df[a].round(decimals=3)\n",
        "\n",
        "  #Control chart 1 \n",
        "  fig.append_trace(go.Scatter(\n",
        "                          x=df['Datef'], y=df[name],\n",
        "                          mode='lines+markers',\n",
        "                          name='mean ' + name,line=dict( color='#4280F5')\n",
        "                          ),row=i, col=1\n",
        "                )\n",
        "  #USL, LSL\n",
        "  fig.append_trace(go.Scatter(x=df['Datef'], y=df['USL'],name='USL '+name, line=dict( color='#FF5733')),row=i, col=1)\n",
        "  fig.append_trace(go.Scatter(x=df['Datef'], y=df['LSL'],name='LSL '+name,line=dict( color='#FF5733')),row=i, col=1)\n",
        "  fig.append_trace(go.Scatter(x=df['Datef'], y=df['Nominal'],name='Nominal '+name,line=dict( color='#FF5733')),row=i, col=1)\n",
        "  # UCL, LCL\n",
        "  fig.append_trace(go.Scatter(x=df['Datef'], y=df['UCL'],name='UCL '+name, line=dict( color='#33C2FF')),row=i, col=1)\n",
        "  fig.append_trace(go.Scatter(x=df['Datef'], y=df['LCL'],name='LCL '+name, line=dict( color='#33C2FF')),row=i, col=1)\n",
        "  fig.append_trace(go.Scatter(x=df['Datef'], y=df['mean'],name='mean '+name, line=dict( color='#33C2FF')),row=i, col=1)\n",
        "\n",
        "  #Final layout:\n",
        "  #fig.update_layout(height=400, width=1400, title_text='Line chart'+name)\n",
        "  i=i+1\n",
        "  \n",
        "fig.update_layout(height=300*len(DFdict_final), width=1200, title_text='Line chart')\n",
        "fig.show()"
      ],
      "execution_count": null,
      "outputs": []
    },
    {
      "cell_type": "code",
      "metadata": {
        "id": "QRT3yBW3SVcy",
        "colab_type": "code",
        "colab": {}
      },
      "source": [
        "#fig.write_html('line_chart_combine_'+namefile+'.html')"
      ],
      "execution_count": null,
      "outputs": []
    },
    {
      "cell_type": "markdown",
      "metadata": {
        "id": "6VnP6zTJqRm_",
        "colab_type": "text"
      },
      "source": [
        "### Box chart altair"
      ]
    },
    {
      "cell_type": "code",
      "metadata": {
        "id": "QIU_FQBplXeW",
        "colab_type": "code",
        "colab": {}
      },
      "source": [
        "import json\n",
        "import datetime \n",
        "\n",
        "#Function convert datetime to json\n",
        "def defaulta(obj):\n",
        "      if isinstance(obj, (datetime.date, datetime.datetime)):\n",
        "          return obj.isoformat()"
      ],
      "execution_count": null,
      "outputs": []
    },
    {
      "cell_type": "code",
      "metadata": {
        "id": "ciC8wePyqftc",
        "colab_type": "code",
        "colab": {}
      },
      "source": [
        "\n",
        "#Set up width and hist for all chart\n",
        "width_main=800\n",
        "height_main=150\n",
        "width_hist=100\n",
        "\n",
        "list_chart1=[]\n",
        "for name in DFdict.keys():\n",
        "  df_box=DFdict[name].copy() #All values for each features\n",
        "  df_box['Datef']=df_box['Datef'].dt.date\n",
        "  value_name2=df_box.columns[1] #'C-Pitch', 'J', 'I', 'O', 'Z'\n",
        "  #Convert datetime to json\n",
        "  df_box['Datef']=df_box['Datef'].apply(lambda x: json.dumps(x, default = defaulta) )\n",
        "  base1 = alt.Chart(df_box).properties(width=width_main,height=height_main)\n",
        "\n",
        "  #Create box plot, USL, LSL, Nominal\n",
        "  box=base1.mark_boxplot().encode(\n",
        "      x=alt.X(\n",
        "          'Datef:O',scale=alt.Scale(),title=\"\",\n",
        "          ),\n",
        "      y=alt.Y(value_name2+':Q',scale=alt.Scale(zero=False),title=\"\")\n",
        "  ).properties(width=width_main,height=height_main)\n",
        "\n",
        "  line_USL=base1.mark_line(color='red').encode(\n",
        "      x=alt.X('Datef:O',scale=alt.Scale(zero=False)),\n",
        "      y=alt.Y('USL:Q',scale=alt.Scale(zero=False)),\n",
        "  )\n",
        "\n",
        "  line_LSL=base1.mark_line(color='red').encode(\n",
        "      x=alt.X('Datef:O',scale=alt.Scale(zero=False)),\n",
        "      y=alt.Y('LSL:Q',scale=alt.Scale(zero=False)),\n",
        "  )\n",
        "\n",
        "  line_Nominal=base1.mark_line(color='red').encode(\n",
        "      x=alt.X('Datef:O',scale=alt.Scale(zero=False)),\n",
        "      y=alt.Y('Nominal:Q',scale=alt.Scale(zero=False)),\n",
        "  )\n",
        "\n",
        "  chart=box + line_USL + line_LSL + line_Nominal\n",
        "\n",
        "  #Sub chart create (Histogram, USL, LSL, Nominal)\n",
        "  record_bar= alt.Chart(df_box).mark_bar().encode(\n",
        "      x='count()',\n",
        "      y=alt.Y(value_name2, bin=True,title=\"\")\n",
        "  ).properties(\n",
        "      height=height_main,\n",
        "      width=width_hist\n",
        "  )\n",
        "\n",
        "  USL_rule = alt.Chart(df_box).mark_rule(color='red').encode(\n",
        "      y=alt.Y('USL'),\n",
        "      size=alt.value(1)\n",
        "  )\n",
        "  LSL_rule = alt.Chart(df_box).mark_rule(color='red').encode(\n",
        "      y=alt.Y('LSL'),\n",
        "      size=alt.value(1)\n",
        "  )\n",
        "  Nominal_rule = alt.Chart(df_box).mark_rule(color='red').encode(\n",
        "      y=alt.Y('Nominal'),\n",
        "      size=alt.value(1)\n",
        "  )\n",
        "\n",
        "  sub_chart=record_bar + USL_rule + LSL_rule + Nominal_rule\n",
        "  boxchart= 'chart' + name\n",
        "  boxchart=alt.hconcat(chart,sub_chart).properties(title='Box Plot ' + value_name2)\n",
        "  list_chart1.append(boxchart)\n",
        "  boxchart\n",
        "  #altair_viewer.display(boxchart, inline=True)\n",
        "#boxchart_combine.save('boxchart_combine.html')\n"
      ],
      "execution_count": null,
      "outputs": []
    },
    {
      "cell_type": "code",
      "metadata": {
        "id": "FD5B2KXiLI8n",
        "colab_type": "code",
        "colab": {}
      },
      "source": [
        "path=os.getcwd()\n",
        "path"
      ],
      "execution_count": null,
      "outputs": []
    },
    {
      "cell_type": "code",
      "metadata": {
        "id": "98xtPvioLnLI",
        "colab_type": "code",
        "colab": {}
      },
      "source": [
        "namefile"
      ],
      "execution_count": null,
      "outputs": []
    },
    {
      "cell_type": "code",
      "metadata": {
        "id": "UzsJNqipqiJ8",
        "colab_type": "code",
        "colab": {}
      },
      "source": [
        "box_chart_combine=alt.vconcat(data=df_group)\n",
        "for chart in list_chart1:\n",
        "  box_chart_combine &= chart\n",
        "#box_chart_combine.save('box_chart_combine'+namefile+'.html')\n",
        "box_chart_combine"
      ],
      "execution_count": null,
      "outputs": []
    },
    {
      "cell_type": "code",
      "metadata": {
        "id": "2s9G47HPLVew",
        "colab_type": "code",
        "colab": {}
      },
      "source": [
        "#box_chart_combine.save(namefile+'.html')"
      ],
      "execution_count": null,
      "outputs": []
    },
    {
      "cell_type": "code",
      "metadata": {
        "id": "flGKuIM5rLMb",
        "colab_type": "code",
        "colab": {}
      },
      "source": [
        "for name in DFdict.keys():\n",
        "  df_box=DFdict[name].copy() #All values for each features\n",
        "  df_box['Datef']=df_box['Datef'].dt.date\n",
        "  df_box_line=df_box.groupby('Datef').mean()#Group values for line chart\n",
        "  df_box_line.reset_index(inplace=True)\n",
        "\n",
        "  fig,ax=plt.subplots(figsize=(16,4))\n",
        "  sns.boxplot(x='Datef',y=name,data=df_box,ax=ax,color='cornflowerblue') \n",
        "  #df_box.boxplot(column='C-Pitch',by='Datef',ax=ax)#df_box: data with no group by date\n",
        "  df_box_line.plot(y='USL',kind='line',ax=ax,color='#FF5733') #df_box_line: data with group by date\n",
        "  df_box_line.plot(y='LSL',kind='line',ax=ax,color='#FF5733')\n",
        "  df_box_line.plot(y='Nominal',kind='line',ax=ax,color='#FF5733')\n",
        "\n",
        "  #plt.gca().set_xticks(df_box_line['Datef'])\n",
        "  plt.gca().set_xticklabels(df_box_line['Datef'],rotation=90)\n",
        "  plt.gca().set_title('Box plot '+name,fontsize=15)\n",
        "  plt.gca().legend(loc ='center left',bbox_to_anchor=(1.01, 0.5))\n",
        "\n",
        "  plt.xlabel('Time')\n",
        "  plt.ylabel('Values')"
      ],
      "execution_count": null,
      "outputs": []
    },
    {
      "cell_type": "code",
      "metadata": {
        "id": "0VE8WLzlHDAT",
        "colab_type": "code",
        "colab": {}
      },
      "source": [
        "def line_chart(DFdict_final):\n",
        "    i=1\n",
        "    #Layout\n",
        "    fig = make_subplots(\n",
        "        rows=len(DFdict_final), cols=1,\n",
        "        #shared_xaxes=True,\n",
        "        #vertical_spacing=0.03,\n",
        "        #column_widths=[0.8, 0.2],\n",
        "        subplot_titles=(list(DFdict_final.keys()))\n",
        "    )\n",
        "    for name in DFdict_final.keys(): #also group\n",
        "      df=DFdict_final[name].copy()\n",
        "      df=df.sort_values(by=['Datef'])\n",
        "      for a in df.columns[1:]:\n",
        "        df[a] = df[a].round(decimals=3)\n",
        "\n",
        "      #Control chart 1 \n",
        "      fig.add_trace(go.Scatter(\n",
        "                              x=df['Datef'], y=df[name],\n",
        "                              mode='lines+markers',\n",
        "                              name='mean ' + name,line=dict( color='#4280F5')\n",
        "                              ),row=i, col=1\n",
        "                    )\n",
        "      #USL, LSL\n",
        "      fig.add_trace(go.Scatter(x=df['Datef'], y=df['USL'],name='USL '+name, line=dict( color='#FF5733')),row=i, col=1)\n",
        "      fig.add_trace(go.Scatter(x=df['Datef'], y=df['LSL'],name='LSL '+name,line=dict( color='#FF5733')),row=i, col=1)\n",
        "      fig.add_trace(go.Scatter(x=df['Datef'], y=df['Nominal'],name='Nominal '+name,line=dict( color='#FF5733')),row=i, col=1)\n",
        "      # UCL, LCL\n",
        "      fig.add_trace(go.Scatter(x=df['Datef'], y=df['UCL'],name='UCL '+name, line=dict( color='#33C2FF')),row=i, col=1)\n",
        "      fig.add_trace(go.Scatter(x=df['Datef'], y=df['LCL'],name='LCL '+name, line=dict( color='#33C2FF')),row=i, col=1)\n",
        "      fig.add_trace(go.Scatter(x=df['Datef'], y=df['mean'],name='mean '+name, line=dict( color='#33C2FF')),row=i, col=1)\n",
        "\n",
        "      #Final layout:\n",
        "      #fig.update_layout(height=400, width=1400, title_text='Line chart'+name)\n",
        "      i=i+1\n",
        "\n",
        "    fig.update_layout(height=300*len(DFdict_final), width=1200, title_text='Line chart')\n",
        "    #fig.show()\n",
        "    return fig\n"
      ],
      "execution_count": null,
      "outputs": []
    },
    {
      "cell_type": "code",
      "metadata": {
        "id": "KyTHY_qAHF-F",
        "colab_type": "code",
        "colab": {}
      },
      "source": [
        "fig_new=line_chart(DFdict_final) \n",
        "fig_new"
      ],
      "execution_count": null,
      "outputs": []
    },
    {
      "cell_type": "markdown",
      "metadata": {
        "id": "L3ZfbsXtU0Wo",
        "colab_type": "text"
      },
      "source": [
        "# Forecast"
      ]
    },
    {
      "cell_type": "markdown",
      "metadata": {
        "id": "mUav2SJaYRzr",
        "colab_type": "text"
      },
      "source": [
        "## Prepare data"
      ]
    },
    {
      "cell_type": "markdown",
      "metadata": {
        "id": "1BfktcCsIn65",
        "colab_type": "text"
      },
      "source": [
        "## FBprophet"
      ]
    },
    {
      "cell_type": "code",
      "metadata": {
        "id": "XPXURraHyjbd",
        "colab_type": "code",
        "colab": {}
      },
      "source": [
        "from fbprophet import Prophet"
      ],
      "execution_count": null,
      "outputs": []
    },
    {
      "cell_type": "code",
      "metadata": {
        "id": "220wChOEV5G2",
        "colab_type": "code",
        "colab": {}
      },
      "source": [
        "#num_predict=st.number_input(\"Please input number of week for prediction\",value=5)\n",
        "#num_predict=int(num_predict)\n",
        "predict_future=5 # week"
      ],
      "execution_count": null,
      "outputs": []
    },
    {
      "cell_type": "code",
      "metadata": {
        "id": "OfK4GnYBse84",
        "colab_type": "code",
        "colab": {}
      },
      "source": [
        "\n",
        "#@st.cache(suppress_st_warning=True)\n",
        "def predict_prophet(DFdict_final):\n",
        "  DF_predict_final_={} # only contail predict\n",
        "  #DF_predict_all_final={} # contain predict and past value\n",
        "  for name in DFdict_final.keys(): #also group\n",
        "    print(name)\n",
        "    df_temp_2=DFdict_final[name].copy() # gia tri mean thong thuong\n",
        "    df_predict=df_temp_2.set_index(df_temp_2.columns[0]).copy()\n",
        "    df_predict=df_predict.resample('1W').ffill() # gia tri mean da resample\n",
        "    df_fb=df_predict.reset_index()#\n",
        "    df_fb=df_fb[[df_fb.columns[0],df_fb.columns[1]]]\n",
        "    df_fb.columns=['ds','y']\n",
        "\n",
        "    # Prophet will by default fit weekly and yearly seasonalities,\n",
        "    model = Prophet( #yearly_seasonality=True\n",
        "                  ) #instantiate Prophet with only yearly seasonality as our data is monthly \n",
        "    model.fit(df_fb) #fit the model with your dataframe\n",
        "\n",
        "    # predict for five months in the furure and MS - month start is the frequency\n",
        "    future = model.make_future_dataframe(periods = predict_future, freq = 'W')  \n",
        "    # now lets make the forecasts\n",
        "    forecast = model.predict(future)\n",
        "    new_forecast=forecast[['ds', 'yhat', 'yhat_lower', 'yhat_upper']]\n",
        "    new_forecast['USL']=df_temp_2['USL'][0]\n",
        "    new_forecast['LSL']=df_temp_2['LSL'][0]\n",
        "    new_forecast['Nominal']=df_temp_2['Nominal'][0]\n",
        "    new_forecast['UCL']=df_temp_2['UCL'][0]\n",
        "    new_forecast['LCL']=df_temp_2['LCL'][0]\n",
        "    new_forecast['mean']=df_temp_2['mean'][0]\n",
        "    DF_predict_final_[name]=new_forecast \n",
        "  return DF_predict_final_\n",
        "  \n",
        "DF_predict_final=predict_prophet(DFdict_final)"
      ],
      "execution_count": null,
      "outputs": []
    },
    {
      "cell_type": "code",
      "metadata": {
        "id": "h0MnCTHH6aR-",
        "colab_type": "code",
        "colab": {}
      },
      "source": [
        "#@st.cache(suppress_st_warning=True,allow_output_mutation=True)\n",
        "def line_chart_prophet(DFdict_final,DF_predict_final):\n",
        "\n",
        "  i=1\n",
        "  #Layout\n",
        "  fig = make_subplots(\n",
        "      rows=len(DFdict_final), cols=1,\n",
        "      #shared_xaxes=True,\n",
        "      #vertical_spacing=0.03,\n",
        "      #column_widths=[0.8, 0.2],\n",
        "      subplot_titles=(list(DFdict_final.keys()))\n",
        "  )\n",
        "  for name in DFdict_final.keys(): #also group\n",
        "    df=DFdict_final[name].copy()\n",
        "    df=df.sort_values(by=['Datef'])\n",
        "    for a in df.columns[1:]:\n",
        "      df[a] = df[a].round(decimals=3)\n",
        "\n",
        "    #Control chart 1 \n",
        "    fig.append_trace(go.Scatter(\n",
        "                            x=df['Datef'], y=df[name],\n",
        "                            mode='lines+markers',\n",
        "                            name='mean ' + name,line=dict( color='#4280F5')\n",
        "                            ),row=i, col=1\n",
        "                  )\n",
        "    #Predict:\n",
        "    df_predict=DF_predict_final[name].copy()\n",
        "    fig.append_trace(go.Scatter(\n",
        "                        x=df_predict['ds'], y=df_predict['yhat'],\n",
        "                        mode='lines+markers',\n",
        "                        name='mean predict ' + name,line=dict( color='#060891')\n",
        "                        ),row=i, col=1\n",
        "              )\n",
        "\n",
        "    #USL, LSL\n",
        "    fig.append_trace(go.Scatter(x=df_predict['ds'], y=df_predict['USL'],name='USL '+name, line=dict( color='#FF5733')),row=i, col=1)\n",
        "    fig.append_trace(go.Scatter(x=df_predict['ds'], y=df_predict['LSL'],name='LSL '+name,line=dict( color='#FF5733')),row=i, col=1)\n",
        "    fig.append_trace(go.Scatter(x=df_predict['ds'], y=df_predict['Nominal'],name='Nominal '+name,line=dict( color='#FF5733')),row=i, col=1)\n",
        "    # UCL, LCL\n",
        "    fig.append_trace(go.Scatter(x=df_predict['ds'], y=df_predict['UCL'],name='UCL '+name, line=dict( color='#33C2FF')),row=i, col=1)\n",
        "    fig.append_trace(go.Scatter(x=df_predict['ds'], y=df_predict['LCL'],name='LCL '+name, line=dict( color='#33C2FF')),row=i, col=1)\n",
        "    fig.append_trace(go.Scatter(x=df_predict['ds'], y=df_predict['mean'],name='mean '+name, line=dict( color='#33C2FF')),row=i, col=1)\n",
        "    # Fill between:\n",
        "    fig.append_trace(go.Scatter(x=df_predict['ds'], y=df_predict['yhat_upper'],name='yhat_upper '+name, line=dict( color='#9FA0F8'),fill=None),row=i, col=1)\n",
        "    fig.append_trace(go.Scatter(x=df_predict['ds'], y=df_predict['yhat_lower'],name='yhat_lower '+name, line=dict( color='#9FA0F8'), fill='tonexty'),row=i, col=1)\n",
        "\n",
        "\n",
        "    #Final layout:\n",
        "    #fig.update_layout(height=400, width=1400, title_text='Line chart'+name)\n",
        "    i=i+1\n",
        "    \n",
        "  fig.update_layout(height=300*len(DFdict_final), width=1200, title_text='Line chart')\n",
        "  #fig.show()\n",
        "  return fig\n",
        "fig_new_2=line_chart_prophet(DFdict_final,DF_predict_final)\n",
        "fig_new_2.show()\n",
        "#st.plotly_chart(fig_new)"
      ],
      "execution_count": null,
      "outputs": []
    },
    {
      "cell_type": "code",
      "metadata": {
        "id": "vaasJ85ENhja",
        "colab_type": "code",
        "colab": {}
      },
      "source": [
        "#------------------Save Line chart plotly-----------------------------------------#\n",
        "\n",
        "\n",
        "#if st.checkbox('Save predict Line chart'):\n",
        "#if st.button(\"Save Line chart\"):\n",
        "#    fig_new_2.write_html(path3+namefile+'_predict_line.html')\n",
        "#    st.write('Path file: ',path3+namefile+'_predict_line.html')\n",
        "#----------------------------Box chart altair----------------------------------------#"
      ],
      "execution_count": null,
      "outputs": []
    },
    {
      "cell_type": "markdown",
      "metadata": {
        "id": "eXUhRbB9Nh0Y",
        "colab_type": "text"
      },
      "source": [
        "### Investigate Prophet"
      ]
    },
    {
      "cell_type": "code",
      "metadata": {
        "id": "GRZdk3UmRLSn",
        "colab_type": "code",
        "colab": {}
      },
      "source": [
        "# Python\n",
        "from fbprophet import Prophet\n",
        "from fbprophet.plot import plot_plotly\n",
        "import plotly.offline as py\n",
        "#py.init_notebook_mode()"
      ],
      "execution_count": null,
      "outputs": []
    },
    {
      "cell_type": "code",
      "metadata": {
        "id": "t7tK5nudRKN8",
        "colab_type": "code",
        "colab": {}
      },
      "source": [
        "for name in DFdict_final.keys(): #also group\n",
        "  print(name)\n",
        "  df_temp_2=DFdict_final[name].copy() # gia tri mean thong thuong\n",
        "  df_predict=df_temp_2.set_index(df_temp_2.columns[0]).copy()\n",
        "  df_predict=df_predict.resample('1W').ffill() # gia tri mean da resample\n",
        "  df_fb=df_predict.reset_index()#\n",
        "  df_fb=df_fb[[df_fb.columns[0],df_fb.columns[1]]]\n",
        "  df_fb.columns=['ds','y']\n",
        "  break\n",
        "model_prophet = Prophet(#seasonality_mode='additive'\n",
        "                        #yearly_seasonality=True\n",
        "                        )\n",
        "model_prophet.add_seasonality(name='monthly', period=30.5, fourier_order=5)\n",
        "model_prophet.fit(df_fb)\n",
        "\n",
        "# predict for five months in the furure and MS - month start is the frequency\n",
        "future = model_prophet.make_future_dataframe(periods = 5, freq = 'W')  \n",
        "# now lets make the forecasts\n",
        "forecast = model_prophet.predict(future)\n",
        "fig = plot_plotly(model_prophet, forecast)  # This returns a plotly Figure\n",
        "py.iplot(fig)\n",
        "#iplot(fig)"
      ],
      "execution_count": null,
      "outputs": []
    },
    {
      "cell_type": "code",
      "metadata": {
        "id": "ojKV08QLywIU",
        "colab_type": "code",
        "colab": {}
      },
      "source": [
        "model.plot_components(forecast)\n",
        "plt.show()"
      ],
      "execution_count": null,
      "outputs": []
    },
    {
      "cell_type": "markdown",
      "metadata": {
        "id": "DGAiSzVvX3js",
        "colab_type": "text"
      },
      "source": [
        "## LSTM predict"
      ]
    },
    {
      "cell_type": "code",
      "metadata": {
        "id": "SDpPP4HdY1sP",
        "colab_type": "code",
        "colab": {}
      },
      "source": [
        "# univariate mlp example\n",
        "import warnings\n",
        "from numpy import array\n",
        "import matplotlib.pyplot as plt\n",
        "from keras import optimizers\n",
        "from keras.utils import plot_model\n",
        "from keras.models import Sequential, Model\n",
        "from keras.layers.convolutional import Conv1D, MaxPooling1D\n",
        "from keras.layers import Dense, LSTM, RepeatVector, TimeDistributed, Flatten\n",
        "from keras.layers import RepeatVector,TimeDistributed # For LSTM\n",
        "from keras.optimizers import Adam\n",
        "from keras import regularizers\n",
        "from keras.callbacks import EarlyStopping, ModelCheckpoint\n",
        "from keras.wrappers.scikit_learn import KerasClassifier\n",
        "from keras.regularizers import l1\n",
        "from keras.regularizers import l2\n",
        "from keras.regularizers import l1_l2\n",
        "from keras.layers import Dropout\n",
        "from keras.layers import Activation\n",
        "from keras.layers import Dense\n",
        "from keras.metrics import categorical_crossentropy\n",
        "\n",
        "from sklearn.metrics import mean_squared_error,mean_absolute_error\n",
        "from sklearn.model_selection import train_test_split\n",
        "from sklearn.preprocessing import MinMaxScaler,StandardScaler"
      ],
      "execution_count": null,
      "outputs": []
    },
    {
      "cell_type": "markdown",
      "metadata": {
        "colab_type": "text",
        "id": "gpv11e8V1Zqh"
      },
      "source": [
        "### Many to many (split train/test)"
      ]
    },
    {
      "cell_type": "code",
      "metadata": {
        "id": "KCzxckWtgouN",
        "colab_type": "code",
        "colab": {}
      },
      "source": [
        "# Some functions to help out with\n",
        "def plot_predictions(test,predicted):\n",
        "    plt.plot(test, color='red',label='Real IBM Stock Price')\n",
        "    plt.plot(predicted, color='blue',label='Predicted IBM Stock Price')\n",
        "    plt.title('IBM Stock Price Prediction')\n",
        "    plt.xlabel('Time')\n",
        "    plt.ylabel('IBM Stock Price')\n",
        "    plt.legend()\n",
        "    plt.show()"
      ],
      "execution_count": null,
      "outputs": []
    },
    {
      "cell_type": "code",
      "metadata": {
        "id": "POo8HZ7PJlRJ",
        "colab_type": "code",
        "colab": {}
      },
      "source": [
        "# split a univariate sequence into samples\n",
        "def split_sequence(sequence, n_steps_in, n_steps_out):\n",
        "\tX, y = list(), list()\n",
        "\tfor i in range(len(sequence)):\n",
        "\t\t# find the end of this pattern\n",
        "\t\tend_ix = i + n_steps_in\n",
        "\t\tout_end_ix = end_ix + n_steps_out\n",
        "\t\t# check if we are beyond the sequence\n",
        "\t\tif out_end_ix > len(sequence):\n",
        "\t\t\tbreak\n",
        "\t\t# gather input and output parts of the pattern\n",
        "\t\tseq_x, seq_y = sequence[i:end_ix], sequence[end_ix:out_end_ix]\n",
        "\t\tX.append(seq_x)\n",
        "\t\ty.append(seq_y)\n",
        "\treturn array(X), array(y)"
      ],
      "execution_count": null,
      "outputs": []
    },
    {
      "cell_type": "code",
      "metadata": {
        "id": "Agh8RcCV_Hhx",
        "colab_type": "code",
        "colab": {}
      },
      "source": [
        "DFdict_final.keys()"
      ],
      "execution_count": null,
      "outputs": []
    },
    {
      "cell_type": "code",
      "metadata": {
        "id": "DAs-pRq8_xpE",
        "colab_type": "code",
        "colab": {}
      },
      "source": [
        "for name in DFdict_final.keys(): #also group\n",
        "  print(name)\n",
        "  df_temp_2=DFdict_final[name].copy() # gia tri mean thong thuong\n",
        "  df_predict=df_temp_2.set_index(df_temp_2.columns[0]).copy()\n",
        "  df_predict=df_predict.resample('1W').ffill() # gia tri mean da resample\n",
        "  df_original=df_predict.reset_index()#\n",
        "  #df_lstm=df_lstm[[df_lstm.columns[0],df_lstm.columns[1]]]\n",
        "  #df_fb.columns=['ds','y']\n",
        "  break\n",
        "df=df_original[[df_original.columns[0],df_original.columns[1]]].\\\n",
        "    set_index(df_original.columns[0])\n",
        "df.head()"
      ],
      "execution_count": null,
      "outputs": []
    },
    {
      "cell_type": "code",
      "metadata": {
        "id": "TwEU0hibi90a",
        "colab_type": "code",
        "colab": {}
      },
      "source": [
        "df_original.head()"
      ],
      "execution_count": null,
      "outputs": []
    },
    {
      "cell_type": "code",
      "metadata": {
        "id": "PwzZWgCK-x57",
        "colab_type": "code",
        "colab": {}
      },
      "source": [
        "# Define important value\n",
        "split=int(len(df) * 0.80)\n",
        "column=0\n",
        "# choose a number of time steps\n",
        "n_steps_in  = 5\n",
        "n_steps_out = 1"
      ],
      "execution_count": null,
      "outputs": []
    },
    {
      "cell_type": "code",
      "metadata": {
        "id": "mQgklHWaCIRK",
        "colab_type": "code",
        "colab": {}
      },
      "source": [
        "training_set=df[:split][df.columns[0]] \n",
        "test_set=df[split:][df.columns[0]] \n",
        "y_test=test_set # y test\n",
        "print(training_set.shape)\n",
        "print(test_set.shape)"
      ],
      "execution_count": null,
      "outputs": []
    },
    {
      "cell_type": "markdown",
      "metadata": {
        "id": "U80hk5q7D1Hm",
        "colab_type": "text"
      },
      "source": [
        "Prepare training set"
      ]
    },
    {
      "cell_type": "code",
      "metadata": {
        "colab_type": "code",
        "id": "jSbts0uk1Zqr",
        "colab": {}
      },
      "source": [
        "sequence=training_set\n",
        "# split into samples\n",
        "X_train, y_train = split_sequence(sequence, n_steps_in, n_steps_out)\n",
        "# summarize the data\n",
        "for i in range(len(X_train)):\n",
        "\t#print(X_train[i], y_train[i])"
      ],
      "execution_count": null,
      "outputs": []
    },
    {
      "cell_type": "code",
      "metadata": {
        "colab_type": "code",
        "id": "1MvpDEmA1Zqv",
        "colab": {}
      },
      "source": [
        "# reshape from [samples, timesteps] into [samples, timesteps, features]\n",
        "n_features = 1\n",
        "X_train = X_train.reshape((X_train.shape[0], X_train.shape[1], n_features))\n",
        "print(X_train.shape)\n",
        "print(y_train.shape)"
      ],
      "execution_count": null,
      "outputs": []
    },
    {
      "cell_type": "markdown",
      "metadata": {
        "id": "JOAkVCLxD3uM",
        "colab_type": "text"
      },
      "source": [
        "Prepare test set"
      ]
    },
    {
      "cell_type": "code",
      "metadata": {
        "id": "0ZzDp5iuFNJT",
        "colab_type": "code",
        "colab": {}
      },
      "source": [
        "inputs=df[df.columns[column]][len(df)-len(test_set) - n_steps_in:]\n",
        "i#nputs"
      ],
      "execution_count": null,
      "outputs": []
    },
    {
      "cell_type": "code",
      "metadata": {
        "id": "G79YrG9AD5JD",
        "colab_type": "code",
        "colab": {}
      },
      "source": [
        "sequence=inputs\n",
        "# split into samples\n",
        "X_test, y_test = split_sequence(sequence, n_steps_in, n_steps_out)\n",
        "# summarize the data\n",
        "for i in range(len(X_test)):\n",
        "\tprint(X_test[i], y_test[i])"
      ],
      "execution_count": null,
      "outputs": []
    },
    {
      "cell_type": "code",
      "metadata": {
        "id": "zj_8ZoZOEeXC",
        "colab_type": "code",
        "colab": {}
      },
      "source": [
        "# reshape from [samples, timesteps] into [samples, timesteps, features]\n",
        "n_features = 1\n",
        "X_test = X_test.reshape((X_test.shape[0], X_test.shape[1], n_features))\n",
        "print(X_test.shape)\n",
        "print(y_test.shape)"
      ],
      "execution_count": null,
      "outputs": []
    },
    {
      "cell_type": "markdown",
      "metadata": {
        "colab_type": "text",
        "id": "194Gyt4s1Zqy"
      },
      "source": [
        "- Mean Squared Error: mean_squared_error, MSE or mse\n",
        "- Mean Absolute Error: mean_absolute_error, MAE, mae\n",
        "- Mean Absolute Percentage Error: mean_absolute_percentage_error, MAPE, mape"
      ]
    },
    {
      "cell_type": "code",
      "metadata": {
        "colab_type": "code",
        "id": "jZShe4dw1Zqy",
        "colab": {}
      },
      "source": [
        "from keras import backend\n",
        " \n",
        "def rmse(y_true, y_pred):\n",
        "\treturn backend.sqrt(backend.mean(backend.square(y_pred - y_true), axis=-1))\n",
        "# define model\n",
        "model = Sequential()\n",
        "model.add(LSTM(100, activation='relu', return_sequences=True, input_shape=(n_steps_in, n_features)))\n",
        "model.add(LSTM(100, activation='relu'))\n",
        "model.add(Dense(n_steps_out))\n",
        "model.compile(optimizer='adam', loss='mse',metrics=['mse','mae','mape',rmse])\n",
        "model.summary()\n"
      ],
      "execution_count": null,
      "outputs": []
    },
    {
      "cell_type": "code",
      "metadata": {
        "colab_type": "code",
        "id": "cAkqiYbL1Zq0",
        "colab": {}
      },
      "source": [
        "# Fitting to the training set\n",
        "callbacks = [EarlyStopping(monitor=\"val_loss\", patience=3, \n",
        "                           mode='min',restore_best_weights=True),\n",
        "            #ModelCheckpoint(filepath=\"best_model.h5\",monitor=\"val_loss\",\n",
        "             #               save_best_only=True)\n",
        "            ]\n",
        "\n",
        "history=model.fit(X_train,y_train,validation_split=0.2,epochs=100,verbose=0)"
      ],
      "execution_count": null,
      "outputs": []
    },
    {
      "cell_type": "code",
      "metadata": {
        "colab_type": "code",
        "id": "ZbQO_Fmt1Zq3",
        "colab": {}
      },
      "source": [
        "plt.plot(history.history['rmse'])"
      ],
      "execution_count": null,
      "outputs": []
    },
    {
      "cell_type": "code",
      "metadata": {
        "colab_type": "code",
        "id": "4DzeAGOB1Zq9",
        "colab": {}
      },
      "source": [
        "y_train_pred=model.predict(X_train)\n",
        "y_test_pred=model.predict(X_test)\n",
        "print('train rmse:', np.sqrt(mean_squared_error(y_train, y_train_pred)))\n",
        "print('test rmse:', np.sqrt(mean_squared_error(y_test, y_test_pred)))\n",
        "print('train mae:', np.sqrt(mean_absolute_error(y_train, y_train_pred)))\n",
        "print('test mae:', np.sqrt(mean_absolute_error(y_test, y_test_pred)))"
      ],
      "execution_count": null,
      "outputs": []
    },
    {
      "cell_type": "code",
      "metadata": {
        "id": "5zqsOYn_G-LV",
        "colab_type": "code",
        "colab": {}
      },
      "source": [
        "plt.plot(y_test, color='red',label='Real IBM Stock Price')\n",
        "plt.plot(y_test_pred, color='blue',label='Predicted IBM Stock Price')\n",
        "plt.title('IBM Stock Price Prediction')\n",
        "plt.xlabel('Time')\n",
        "plt.ylabel('IBM Stock Price')\n",
        "plt.legend()\n",
        "plt.show()"
      ],
      "execution_count": null,
      "outputs": []
    },
    {
      "cell_type": "code",
      "metadata": {
        "id": "aC_lW4KbKF9k",
        "colab_type": "code",
        "colab": {}
      },
      "source": [
        "df_original.head()"
      ],
      "execution_count": null,
      "outputs": []
    },
    {
      "cell_type": "markdown",
      "metadata": {
        "id": "rkhP23Z2lSN6",
        "colab_type": "text"
      },
      "source": [
        "## SARIMA"
      ]
    },
    {
      "cell_type": "code",
      "metadata": {
        "id": "ShdRWQo_hzZ8",
        "colab_type": "code",
        "colab": {}
      },
      "source": [
        "import itertools    \n",
        "import warnings\n",
        "from statsmodels.tsa.statespace.sarimax import SARIMAX\n",
        "\n",
        "warnings.filterwarnings(\"ignore\")\n",
        "\n",
        "def arima_grid_search(dataframe, s):\n",
        "    df=dataframe\n",
        "    p = d = q = range(2)\n",
        "    param_combinations = list(itertools.product(p, d, q))\n",
        "\n",
        "    lowest_aic, pdq, pdqs = None, None, None\n",
        "\n",
        "    total_iterations = 0\n",
        "    for order in param_combinations:    \n",
        "        for (p, q, d) in param_combinations:\n",
        "            seasonal_order = (p, q, d, s)\n",
        "            total_iterations += 1\n",
        "            try:\n",
        "                model = SARIMAX(df, order=order, \n",
        "                    seasonal_order=seasonal_order, \n",
        "                    enforce_stationarity=False,\n",
        "                    enforce_invertibility=False,\n",
        "                    disp=False\n",
        "                )\n",
        "                model_result = model.fit(maxiter=200, disp=False)\n",
        "\n",
        "                if not lowest_aic or model_result.aic < lowest_aic:\n",
        "                    lowest_aic = model_result.aic\n",
        "                    pdq, pdqs = order, seasonal_order\n",
        "\n",
        "            except Exception as ex:\n",
        "                continue\n",
        "\n",
        "    return lowest_aic, pdq, pdqs "
      ],
      "execution_count": null,
      "outputs": []
    },
    {
      "cell_type": "code",
      "metadata": {
        "id": "pIjZy5SflguX",
        "colab_type": "code",
        "colab": {}
      },
      "source": [
        "for name in DFdict_final.keys(): #also group\n",
        "  print(name)\n",
        "  df_temp_2=DFdict_final[name].copy() # gia tri mean thong thuong\n",
        "  df_predict=df_temp_2.set_index(df_temp_2.columns[0]).copy()\n",
        "  df_predict=df_predict.resample('1W').ffill() # gia tri mean da resample\n",
        "  df_original=df_predict.reset_index()#\n",
        "  #df_lstm=df_lstm[[df_lstm.columns[0],df_lstm.columns[1]]]\n",
        "  #df_fb.columns=['ds','y']\n",
        "  break\n",
        "df=df_original[[df_original.columns[0],df_original.columns[1]]].\\\n",
        "    set_index(df_original.columns[0])\n",
        "df.head()"
      ],
      "execution_count": null,
      "outputs": []
    },
    {
      "cell_type": "code",
      "metadata": {
        "id": "AUyMAFq0lisM",
        "colab_type": "code",
        "colab": {}
      },
      "source": [
        "df_sarima=df[df.columns[0]].copy()\n",
        "df_sarima"
      ],
      "execution_count": null,
      "outputs": []
    },
    {
      "cell_type": "code",
      "metadata": {
        "id": "WLJayySRl8PP",
        "colab_type": "code",
        "colab": {}
      },
      "source": [
        "lowest_aic, order, seasonal_order = arima_grid_search(df_sarima, 12)\n",
        "print('ARIMA{}x{}'.format(order, seasonal_order))\n",
        "print('Lowest AIC: %.3f'%lowest_aic)"
      ],
      "execution_count": null,
      "outputs": []
    },
    {
      "cell_type": "code",
      "metadata": {
        "id": "Yy1RGRJxmCww",
        "colab_type": "code",
        "colab": {}
      },
      "source": [
        "model = SARIMAX(\n",
        "    df_sarima,\n",
        "    order=order,\n",
        "    seasonal_order=seasonal_order,\n",
        "    enforce_stationarity=False,\n",
        "    enforce_invertibility=False,\n",
        "    disp=False\n",
        ")\n",
        "\n",
        "model_results = model.fit(maxiter=200, disp=False)"
      ],
      "execution_count": null,
      "outputs": []
    },
    {
      "cell_type": "code",
      "metadata": {
        "id": "_Srn1A8DmLDd",
        "colab_type": "code",
        "colab": {}
      },
      "source": [
        "print(model_results.summary())"
      ],
      "execution_count": null,
      "outputs": []
    },
    {
      "cell_type": "code",
      "metadata": {
        "id": "it1s7ryMmMYr",
        "colab_type": "code",
        "colab": {}
      },
      "source": [
        "model_results.plot_diagnostics(figsize=(12, 8));"
      ],
      "execution_count": null,
      "outputs": []
    },
    {
      "cell_type": "code",
      "metadata": {
        "id": "ZfSfrZsfmOiC",
        "colab_type": "code",
        "colab": {}
      },
      "source": [
        "model_results.resid.describe()"
      ],
      "execution_count": null,
      "outputs": []
    },
    {
      "cell_type": "code",
      "metadata": {
        "id": "CNvqEWi6mezz",
        "colab_type": "code",
        "colab": {}
      },
      "source": [
        "n = len(df_sarima.index)\n",
        "n"
      ],
      "execution_count": null,
      "outputs": []
    },
    {
      "cell_type": "code",
      "metadata": {
        "id": "PVR6PjRvnfbs",
        "colab_type": "code",
        "colab": {}
      },
      "source": [
        "num_predict=5"
      ],
      "execution_count": null,
      "outputs": []
    },
    {
      "cell_type": "code",
      "metadata": {
        "id": "_lkucDWXmUIO",
        "colab_type": "code",
        "colab": {}
      },
      "source": [
        "prediction = model_results.get_prediction(\n",
        "    start=n-num_predict, \n",
        "    end=n+num_predict\n",
        ")\n",
        "prediction_ci = prediction.conf_int()"
      ],
      "execution_count": null,
      "outputs": []
    },
    {
      "cell_type": "code",
      "metadata": {
        "id": "-EkJs3NlmjHv",
        "colab_type": "code",
        "colab": {}
      },
      "source": [
        "prediction_ci.head()"
      ],
      "execution_count": null,
      "outputs": []
    },
    {
      "cell_type": "code",
      "metadata": {
        "id": "ZFWnVb6nm8pf",
        "colab_type": "code",
        "colab": {}
      },
      "source": [
        "df_sarima.head()"
      ],
      "execution_count": null,
      "outputs": []
    },
    {
      "cell_type": "code",
      "metadata": {
        "id": "dyssqeMLmltv",
        "colab_type": "code",
        "colab": {}
      },
      "source": [
        "plt.figure(figsize=(12, 6))\n",
        "\n",
        "ax = df_sarima.plot(label='actual')\n",
        "\n",
        "prediction_ci.plot(\n",
        "    ax=ax, style=['--', '--'],\n",
        "    label='predicted/forecasted')\n",
        "\n",
        "prediction.predicted_mean.plot(\n",
        "    ax=ax, style=['--'],\n",
        "    label='predicted')\n",
        "\n",
        "ci_index = prediction_ci.index\n",
        "lower_ci = prediction_ci.iloc[:, 0]\n",
        "upper_ci = prediction_ci.iloc[:, 1]\n",
        "\n",
        "ax.fill_between(ci_index, lower_ci, upper_ci,\n",
        "    color='r', alpha=.1)\n",
        "\n",
        "ax.set_xlabel('Time (years)')\n",
        "ax.set_ylabel('Prices')\n",
        "\n",
        "plt.legend()\n",
        "plt.show()"
      ],
      "execution_count": null,
      "outputs": []
    },
    {
      "cell_type": "markdown",
      "metadata": {
        "id": "TwAaXmvqn936",
        "colab_type": "text"
      },
      "source": [
        "## ARIMA"
      ]
    },
    {
      "cell_type": "code",
      "metadata": {
        "id": "WgXV9EFg_5zN",
        "colab_type": "code",
        "colab": {}
      },
      "source": [
        "from statsmodels.tsa.arima_model import ARIMA\n",
        "import statsmodels.api as sm\n",
        "from statsmodels.graphics.tsaplots import plot_acf\n",
        "from statsmodels.stats.diagnostic import acorr_ljungbox\n",
        "import scipy.stats as scs\n",
        "from math import sqrt\n",
        "from sklearn.metrics import mean_squared_error,mean_absolute_error\n",
        "from sklearn.model_selection import train_test_split\n",
        "from sklearn.preprocessing import MinMaxScaler,StandardScaler"
      ],
      "execution_count": null,
      "outputs": []
    },
    {
      "cell_type": "code",
      "metadata": {
        "id": "70ZKSo-FoCmH",
        "colab_type": "code",
        "colab": {
          "base_uri": "https://localhost:8080/",
          "height": 252
        },
        "outputId": "32702513-6d4f-4058-d0f6-df972e77b626"
      },
      "source": [
        "for name in DFdict_final.keys(): #also group\n",
        "  print(name)\n",
        "  df_temp_2=DFdict_final[name].copy() # gia tri mean thong thuong\n",
        "  df_predict=df_temp_2.set_index(df_temp_2.columns[0]).copy()\n",
        "  df_predict=df_predict.resample('1W').ffill() # gia tri mean da resample\n",
        "  df_original=df_predict.reset_index()#\n",
        "  #df_lstm=df_lstm[[df_lstm.columns[0],df_lstm.columns[1]]]\n",
        "  #df_fb.columns=['ds','y']\n",
        "  break\n",
        "df=df_original[[df_original.columns[0],df_original.columns[1]]].\\\n",
        "    set_index(df_original.columns[0])\n",
        "df.head()"
      ],
      "execution_count": 34,
      "outputs": [
        {
          "output_type": "stream",
          "text": [
            "C-Pitch\n"
          ],
          "name": "stdout"
        },
        {
          "output_type": "execute_result",
          "data": {
            "text/html": [
              "<div>\n",
              "<style scoped>\n",
              "    .dataframe tbody tr th:only-of-type {\n",
              "        vertical-align: middle;\n",
              "    }\n",
              "\n",
              "    .dataframe tbody tr th {\n",
              "        vertical-align: top;\n",
              "    }\n",
              "\n",
              "    .dataframe thead th {\n",
              "        text-align: right;\n",
              "    }\n",
              "</style>\n",
              "<table border=\"1\" class=\"dataframe\">\n",
              "  <thead>\n",
              "    <tr style=\"text-align: right;\">\n",
              "      <th></th>\n",
              "      <th>C-Pitch</th>\n",
              "    </tr>\n",
              "    <tr>\n",
              "      <th>Datef</th>\n",
              "      <th></th>\n",
              "    </tr>\n",
              "  </thead>\n",
              "  <tbody>\n",
              "    <tr>\n",
              "      <th>2019-01-13</th>\n",
              "      <td>10.004</td>\n",
              "    </tr>\n",
              "    <tr>\n",
              "      <th>2019-01-20</th>\n",
              "      <td>10.004</td>\n",
              "    </tr>\n",
              "    <tr>\n",
              "      <th>2019-01-27</th>\n",
              "      <td>10.002</td>\n",
              "    </tr>\n",
              "    <tr>\n",
              "      <th>2019-02-03</th>\n",
              "      <td>10.003</td>\n",
              "    </tr>\n",
              "    <tr>\n",
              "      <th>2019-02-10</th>\n",
              "      <td>10.003</td>\n",
              "    </tr>\n",
              "  </tbody>\n",
              "</table>\n",
              "</div>"
            ],
            "text/plain": [
              "            C-Pitch\n",
              "Datef              \n",
              "2019-01-13   10.004\n",
              "2019-01-20   10.004\n",
              "2019-01-27   10.002\n",
              "2019-02-03   10.003\n",
              "2019-02-10   10.003"
            ]
          },
          "metadata": {
            "tags": []
          },
          "execution_count": 34
        }
      ]
    },
    {
      "cell_type": "markdown",
      "metadata": {
        "id": "6oROr7KEpEuc",
        "colab_type": "text"
      },
      "source": [
        "By setting the parameters of the ARIMA model, we can obtain some\n",
        "special cases:\n",
        "- ARIMA (0,0,0): White noise\n",
        "- ARIMA (0,1,0) without constant: Random walk\n",
        "- ARIMA (p,0,q): ARMA(p, q)\n",
        "- ARIMA (p, 0, 0): AR(p) model\n",
        "- ARIMA (0, 0, q): MA(q) model\n",
        "- ARIMA (0,1,2): Damped Holt's model\n",
        "- ARIMA (0,1,1) without constant: SES model\n",
        "- ARIMA (0,2,2): Holt's linear method with additive errors"
      ]
    },
    {
      "cell_type": "code",
      "metadata": {
        "id": "P6KrXRCSrdSb",
        "colab_type": "code",
        "colab": {}
      },
      "source": [
        "order=(0,1,1)"
      ],
      "execution_count": 35,
      "outputs": []
    },
    {
      "cell_type": "code",
      "metadata": {
        "id": "hKsoxVDpoHRP",
        "colab_type": "code",
        "colab": {
          "base_uri": "https://localhost:8080/",
          "height": 51
        },
        "outputId": "6a5e5335-bebc-4fcc-f58c-4a9dac65af3d"
      },
      "source": [
        "# Define important value\n",
        "split=int(len(df) * 0.80)\n",
        "training_set=df[:split][df.columns[0]] \n",
        "test_set=df[split:][df.columns[0]] \n",
        "y_test=test_set # y test\n",
        "print(training_set.shape)\n",
        "print(test_set.shape)"
      ],
      "execution_count": 36,
      "outputs": [
        {
          "output_type": "stream",
          "text": [
            "(41,)\n",
            "(11,)\n"
          ],
          "name": "stdout"
        }
      ]
    },
    {
      "cell_type": "code",
      "metadata": {
        "id": "rzWWVCm_pxVP",
        "colab_type": "code",
        "colab": {
          "base_uri": "https://localhost:8080/",
          "height": 119
        },
        "outputId": "46cd9a78-4065-421f-cef2-d7ac283e7bbe"
      },
      "source": [
        "history = [x for x in training_set]\n",
        "predictions = list()\n",
        "for i in range(len(test_set)):\n",
        "  # predict\n",
        "  model = ARIMA(history, order=order)\n",
        "  model_fit = model.fit(disp=0)\n",
        "  yhat = model_fit.forecast()[0]\n",
        "  predictions.append(yhat)\n",
        "  # observation\n",
        "  obs = test_set[i]\n",
        "  history.append(obs)\n",
        "  #print('>Predicted=%.3f, Expected=%.3f' % (yhat, obs))\n",
        "# report performance\n",
        "rmse = sqrt(mean_squared_error(test_set, predictions))\n",
        "predictions_series=pd.Series((v[0] for v in predictions))\n",
        "mae=mean_absolute_error(test_set,predictions_series)\n",
        "\n",
        "print('RMSE: %.3f' % rmse)\n",
        "print('MAE: %.3f' % mae)"
      ],
      "execution_count": 37,
      "outputs": [
        {
          "output_type": "stream",
          "text": [
            "/usr/local/lib/python3.6/dist-packages/statsmodels/base/model.py:512: ConvergenceWarning:\n",
            "\n",
            "Maximum Likelihood optimization failed to converge. Check mle_retvals\n",
            "\n"
          ],
          "name": "stderr"
        },
        {
          "output_type": "stream",
          "text": [
            "RMSE: 0.002\n",
            "MAE: 0.001\n"
          ],
          "name": "stdout"
        }
      ]
    },
    {
      "cell_type": "code",
      "metadata": {
        "id": "ivRkVE5mtdTM",
        "colab_type": "code",
        "colab": {
          "base_uri": "https://localhost:8080/",
          "height": 279
        },
        "outputId": "edc43739-e3bf-4567-f748-f71338d4a955"
      },
      "source": [
        "predictions_frame=predictions_series.to_frame()\n",
        "predictions_frame.index=test_set.to_frame().index\n",
        "test_set_frame=test_set.to_frame()\n",
        "plt.plot(test_set_frame,label='test')\n",
        "plt.plot(predictions_frame, color='red',label='prediction')\n",
        "plt.legend()\n",
        "plt.show()"
      ],
      "execution_count": 38,
      "outputs": [
        {
          "output_type": "display_data",
          "data": {
            "image/png": "[encoded data removed]",
            "text/plain": [
              "<Figure size 432x288 with 1 Axes>"
            ]
          },
          "metadata": {
            "tags": []
          }
        }
      ]
    },
    {
      "cell_type": "markdown",
      "metadata": {
        "id": "Ew7z76Vgu07I",
        "colab_type": "text"
      },
      "source": [
        "### Prediction by ARIMA"
      ]
    },
    {
      "cell_type": "code",
      "metadata": {
        "id": "chsgchsKvls5",
        "colab_type": "code",
        "colab": {}
      },
      "source": [
        "def arima_diagnostics(resids, n_lags=40):\n",
        "    '''\n",
        "    Function for diagnosing the fit of an ARIMA model by investigating the residuals.\n",
        "    \n",
        "    Parameters\n",
        "    ----------\n",
        "    resids : np.array\n",
        "        An array containing the residuals of a fitted model\n",
        "    n_lags : int\n",
        "        Number of lags for autocorrelation plot\n",
        "        \n",
        "    Returns\n",
        "    -------\n",
        "    fig : matplotlib.figure.Figure\n",
        "        Created figure\n",
        "    '''\n",
        "     \n",
        "    # create placeholder subplots\n",
        "    fig, ((ax1, ax2), (ax3, ax4)) = plt.subplots(2, 2,figsize=(8,8))\n",
        "\n",
        "    r = resids\n",
        "    resids = (r - np.nanmean(r)) / np.nanstd(r)\n",
        "    resids_nonmissing = resids[~(np.isnan(resids))]\n",
        "    \n",
        "    # residuals over time\n",
        "    sns.lineplot(x=np.arange(len(resids)), y=resids, ax=ax1)\n",
        "    ax1.set_title('Standardized residuals')\n",
        "\n",
        "    # distribution of residuals\n",
        "    x_lim = (-1.96 * 2, 1.96 * 2)\n",
        "    r_range = np.linspace(x_lim[0], x_lim[1])\n",
        "    norm_pdf = scs.norm.pdf(r_range)\n",
        "    \n",
        "    sns.distplot(resids_nonmissing, hist=True, kde=True, \n",
        "                 norm_hist=True, ax=ax2)\n",
        "    ax2.plot(r_range, norm_pdf, 'g', lw=2, label='N(0,1)')\n",
        "    ax2.set_title('Distribution of standardized residuals')\n",
        "    ax2.set_xlim(x_lim)\n",
        "    ax2.legend()\n",
        "        \n",
        "    # Q-Q plot\n",
        "    qq = sm.qqplot(resids_nonmissing, line='s', ax=ax3)\n",
        "    ax3.set_title('Q-Q plot')\n",
        "\n",
        "    # ACF plot\n",
        "    plot_acf(resids, ax=ax4, lags=n_lags, alpha=0.05)\n",
        "    ax4.set_title('ACF plot')\n",
        "\n",
        "    return fig"
      ],
      "execution_count": 39,
      "outputs": []
    },
    {
      "cell_type": "code",
      "metadata": {
        "id": "92PuTCLJ2OBL",
        "colab_type": "code",
        "colab": {
          "base_uri": "https://localhost:8080/",
          "height": 252
        },
        "outputId": "8ec36905-b897-47af-c81a-cec37714d0df"
      },
      "source": [
        "for name in DFdict_final.keys(): #also group\n",
        "  print(name)\n",
        "  df_temp_2=DFdict_final[name].copy() # gia tri mean thong thuong\n",
        "  df_predict=df_temp_2.set_index(df_temp_2.columns[0]).copy()\n",
        "  df_predict=df_predict.resample('1W').ffill() # gia tri mean da resample\n",
        "  df_original=df_predict.reset_index()#\n",
        "  #df_lstm=df_lstm[[df_lstm.columns[0],df_lstm.columns[1]]]\n",
        "  #df_fb.columns=['ds','y']\n",
        "  break\n",
        "df=df_original[[df_original.columns[0],df_original.columns[1]]].\\\n",
        "    set_index(df_original.columns[0])\n",
        "df.head()"
      ],
      "execution_count": 40,
      "outputs": [
        {
          "output_type": "stream",
          "text": [
            "C-Pitch\n"
          ],
          "name": "stdout"
        },
        {
          "output_type": "execute_result",
          "data": {
            "text/html": [
              "<div>\n",
              "<style scoped>\n",
              "    .dataframe tbody tr th:only-of-type {\n",
              "        vertical-align: middle;\n",
              "    }\n",
              "\n",
              "    .dataframe tbody tr th {\n",
              "        vertical-align: top;\n",
              "    }\n",
              "\n",
              "    .dataframe thead th {\n",
              "        text-align: right;\n",
              "    }\n",
              "</style>\n",
              "<table border=\"1\" class=\"dataframe\">\n",
              "  <thead>\n",
              "    <tr style=\"text-align: right;\">\n",
              "      <th></th>\n",
              "      <th>C-Pitch</th>\n",
              "    </tr>\n",
              "    <tr>\n",
              "      <th>Datef</th>\n",
              "      <th></th>\n",
              "    </tr>\n",
              "  </thead>\n",
              "  <tbody>\n",
              "    <tr>\n",
              "      <th>2019-01-13</th>\n",
              "      <td>10.004</td>\n",
              "    </tr>\n",
              "    <tr>\n",
              "      <th>2019-01-20</th>\n",
              "      <td>10.004</td>\n",
              "    </tr>\n",
              "    <tr>\n",
              "      <th>2019-01-27</th>\n",
              "      <td>10.002</td>\n",
              "    </tr>\n",
              "    <tr>\n",
              "      <th>2019-02-03</th>\n",
              "      <td>10.003</td>\n",
              "    </tr>\n",
              "    <tr>\n",
              "      <th>2019-02-10</th>\n",
              "      <td>10.003</td>\n",
              "    </tr>\n",
              "  </tbody>\n",
              "</table>\n",
              "</div>"
            ],
            "text/plain": [
              "            C-Pitch\n",
              "Datef              \n",
              "2019-01-13   10.004\n",
              "2019-01-20   10.004\n",
              "2019-01-27   10.002\n",
              "2019-02-03   10.003\n",
              "2019-02-10   10.003"
            ]
          },
          "metadata": {
            "tags": []
          },
          "execution_count": 40
        }
      ]
    },
    {
      "cell_type": "code",
      "metadata": {
        "id": "ipXYN4AKt1xa",
        "colab_type": "code",
        "colab": {
          "base_uri": "https://localhost:8080/",
          "height": 235
        },
        "outputId": "d66130e0-07e6-4fd8-cb6a-c4bf5f498c08"
      },
      "source": [
        "df.head() #original"
      ],
      "execution_count": 41,
      "outputs": [
        {
          "output_type": "execute_result",
          "data": {
            "text/html": [
              "<div>\n",
              "<style scoped>\n",
              "    .dataframe tbody tr th:only-of-type {\n",
              "        vertical-align: middle;\n",
              "    }\n",
              "\n",
              "    .dataframe tbody tr th {\n",
              "        vertical-align: top;\n",
              "    }\n",
              "\n",
              "    .dataframe thead th {\n",
              "        text-align: right;\n",
              "    }\n",
              "</style>\n",
              "<table border=\"1\" class=\"dataframe\">\n",
              "  <thead>\n",
              "    <tr style=\"text-align: right;\">\n",
              "      <th></th>\n",
              "      <th>C-Pitch</th>\n",
              "    </tr>\n",
              "    <tr>\n",
              "      <th>Datef</th>\n",
              "      <th></th>\n",
              "    </tr>\n",
              "  </thead>\n",
              "  <tbody>\n",
              "    <tr>\n",
              "      <th>2019-01-13</th>\n",
              "      <td>10.004</td>\n",
              "    </tr>\n",
              "    <tr>\n",
              "      <th>2019-01-20</th>\n",
              "      <td>10.004</td>\n",
              "    </tr>\n",
              "    <tr>\n",
              "      <th>2019-01-27</th>\n",
              "      <td>10.002</td>\n",
              "    </tr>\n",
              "    <tr>\n",
              "      <th>2019-02-03</th>\n",
              "      <td>10.003</td>\n",
              "    </tr>\n",
              "    <tr>\n",
              "      <th>2019-02-10</th>\n",
              "      <td>10.003</td>\n",
              "    </tr>\n",
              "  </tbody>\n",
              "</table>\n",
              "</div>"
            ],
            "text/plain": [
              "            C-Pitch\n",
              "Datef              \n",
              "2019-01-13   10.004\n",
              "2019-01-20   10.004\n",
              "2019-01-27   10.002\n",
              "2019-02-03   10.003\n",
              "2019-02-10   10.003"
            ]
          },
          "metadata": {
            "tags": []
          },
          "execution_count": 41
        }
      ]
    },
    {
      "cell_type": "code",
      "metadata": {
        "id": "rCBBK0mb2VcE",
        "colab_type": "code",
        "colab": {
          "base_uri": "https://localhost:8080/",
          "height": 235
        },
        "outputId": "fad83ef0-01b0-47a9-c5f5-e8ef848d87cc"
      },
      "source": [
        "df_arima=df.resample('1W').ffill() # gia tri mean da resample\n",
        "df_arima.head()"
      ],
      "execution_count": 42,
      "outputs": [
        {
          "output_type": "execute_result",
          "data": {
            "text/html": [
              "<div>\n",
              "<style scoped>\n",
              "    .dataframe tbody tr th:only-of-type {\n",
              "        vertical-align: middle;\n",
              "    }\n",
              "\n",
              "    .dataframe tbody tr th {\n",
              "        vertical-align: top;\n",
              "    }\n",
              "\n",
              "    .dataframe thead th {\n",
              "        text-align: right;\n",
              "    }\n",
              "</style>\n",
              "<table border=\"1\" class=\"dataframe\">\n",
              "  <thead>\n",
              "    <tr style=\"text-align: right;\">\n",
              "      <th></th>\n",
              "      <th>C-Pitch</th>\n",
              "    </tr>\n",
              "    <tr>\n",
              "      <th>Datef</th>\n",
              "      <th></th>\n",
              "    </tr>\n",
              "  </thead>\n",
              "  <tbody>\n",
              "    <tr>\n",
              "      <th>2019-01-13</th>\n",
              "      <td>10.004</td>\n",
              "    </tr>\n",
              "    <tr>\n",
              "      <th>2019-01-20</th>\n",
              "      <td>10.004</td>\n",
              "    </tr>\n",
              "    <tr>\n",
              "      <th>2019-01-27</th>\n",
              "      <td>10.002</td>\n",
              "    </tr>\n",
              "    <tr>\n",
              "      <th>2019-02-03</th>\n",
              "      <td>10.003</td>\n",
              "    </tr>\n",
              "    <tr>\n",
              "      <th>2019-02-10</th>\n",
              "      <td>10.003</td>\n",
              "    </tr>\n",
              "  </tbody>\n",
              "</table>\n",
              "</div>"
            ],
            "text/plain": [
              "            C-Pitch\n",
              "Datef              \n",
              "2019-01-13   10.004\n",
              "2019-01-20   10.004\n",
              "2019-01-27   10.002\n",
              "2019-02-03   10.003\n",
              "2019-02-10   10.003"
            ]
          },
          "metadata": {
            "tags": []
          },
          "execution_count": 42
        }
      ]
    },
    {
      "cell_type": "code",
      "metadata": {
        "id": "hkY82omFvMzI",
        "colab_type": "code",
        "colab": {
          "base_uri": "https://localhost:8080/",
          "height": 357
        },
        "outputId": "84ead70c-2b20-43de-94bf-bdd2b9883219"
      },
      "source": [
        "arima = ARIMA(df_arima, order=(0, 1, 1)).fit(disp=0)\n",
        "print(arima.summary())"
      ],
      "execution_count": 43,
      "outputs": [
        {
          "output_type": "stream",
          "text": [
            "                             ARIMA Model Results                              \n",
            "==============================================================================\n",
            "Dep. Variable:              D.C-Pitch   No. Observations:                   51\n",
            "Model:                 ARIMA(0, 1, 1)   Log Likelihood                 263.943\n",
            "Method:                       css-mle   S.D. of innovations              0.001\n",
            "Date:                Tue, 28 Jul 2020   AIC                           -521.887\n",
            "Time:                        23:26:38   BIC                           -516.091\n",
            "Sample:                    01-20-2019   HQIC                          -519.672\n",
            "                         - 01-05-2020                                         \n",
            "===================================================================================\n",
            "                      coef    std err          z      P>|z|      [0.025      0.975]\n",
            "-----------------------------------------------------------------------------------\n",
            "const           -8.713e-05      0.000     -0.523      0.603      -0.000       0.000\n",
            "ma.L1.D.C-Pitch    -0.1375      0.195     -0.707      0.483      -0.519       0.244\n",
            "                                    Roots                                    \n",
            "=============================================================================\n",
            "                  Real          Imaginary           Modulus         Frequency\n",
            "-----------------------------------------------------------------------------\n",
            "MA.1            7.2727           +0.0000j            7.2727            0.0000\n",
            "-----------------------------------------------------------------------------\n"
          ],
          "name": "stdout"
        }
      ]
    },
    {
      "cell_type": "code",
      "metadata": {
        "id": "tYFJuYuOv680",
        "colab_type": "code",
        "colab": {
          "base_uri": "https://localhost:8080/",
          "height": 581
        },
        "outputId": "4cf05199-c8f5-4af6-f72b-920ec37e58a5"
      },
      "source": [
        "arima_diagnostics(arima.resid, 40)#n_lag=40\n",
        "plt.tight_layout()\n",
        "#plt.savefig('images/ch3_im21.png')\n",
        "plt.show()"
      ],
      "execution_count": 44,
      "outputs": [
        {
          "output_type": "display_data",
          "data": {
            "image/png": "[encoded data removed]",
            "text/plain": [
              "<Figure size 576x576 with 4 Axes>"
            ]
          },
          "metadata": {
            "tags": []
          }
        }
      ]
    },
    {
      "cell_type": "code",
      "metadata": {
        "id": "3OHTMc4L3o72",
        "colab_type": "code",
        "colab": {
          "base_uri": "https://localhost:8080/",
          "height": 235
        },
        "outputId": "4878e291-63e1-46d6-832e-16355d9f891e"
      },
      "source": [
        "df_arima.tail()"
      ],
      "execution_count": 45,
      "outputs": [
        {
          "output_type": "execute_result",
          "data": {
            "text/html": [
              "<div>\n",
              "<style scoped>\n",
              "    .dataframe tbody tr th:only-of-type {\n",
              "        vertical-align: middle;\n",
              "    }\n",
              "\n",
              "    .dataframe tbody tr th {\n",
              "        vertical-align: top;\n",
              "    }\n",
              "\n",
              "    .dataframe thead th {\n",
              "        text-align: right;\n",
              "    }\n",
              "</style>\n",
              "<table border=\"1\" class=\"dataframe\">\n",
              "  <thead>\n",
              "    <tr style=\"text-align: right;\">\n",
              "      <th></th>\n",
              "      <th>C-Pitch</th>\n",
              "    </tr>\n",
              "    <tr>\n",
              "      <th>Datef</th>\n",
              "      <th></th>\n",
              "    </tr>\n",
              "  </thead>\n",
              "  <tbody>\n",
              "    <tr>\n",
              "      <th>2019-12-08</th>\n",
              "      <td>10.000</td>\n",
              "    </tr>\n",
              "    <tr>\n",
              "      <th>2019-12-15</th>\n",
              "      <td>10.003</td>\n",
              "    </tr>\n",
              "    <tr>\n",
              "      <th>2019-12-22</th>\n",
              "      <td>10.003</td>\n",
              "    </tr>\n",
              "    <tr>\n",
              "      <th>2019-12-29</th>\n",
              "      <td>10.003</td>\n",
              "    </tr>\n",
              "    <tr>\n",
              "      <th>2020-01-05</th>\n",
              "      <td>9.999</td>\n",
              "    </tr>\n",
              "  </tbody>\n",
              "</table>\n",
              "</div>"
            ],
            "text/plain": [
              "            C-Pitch\n",
              "Datef              \n",
              "2019-12-08   10.000\n",
              "2019-12-15   10.003\n",
              "2019-12-22   10.003\n",
              "2019-12-29   10.003\n",
              "2020-01-05    9.999"
            ]
          },
          "metadata": {
            "tags": []
          },
          "execution_count": 45
        }
      ]
    },
    {
      "cell_type": "code",
      "metadata": {
        "id": "wE_fOX3D3sa2",
        "colab_type": "code",
        "colab": {
          "base_uri": "https://localhost:8080/",
          "height": 235
        },
        "outputId": "1ac58db7-5f11-4aaf-80de-c8403e71a6a1"
      },
      "source": [
        "df.tail()"
      ],
      "execution_count": 46,
      "outputs": [
        {
          "output_type": "execute_result",
          "data": {
            "text/html": [
              "<div>\n",
              "<style scoped>\n",
              "    .dataframe tbody tr th:only-of-type {\n",
              "        vertical-align: middle;\n",
              "    }\n",
              "\n",
              "    .dataframe tbody tr th {\n",
              "        vertical-align: top;\n",
              "    }\n",
              "\n",
              "    .dataframe thead th {\n",
              "        text-align: right;\n",
              "    }\n",
              "</style>\n",
              "<table border=\"1\" class=\"dataframe\">\n",
              "  <thead>\n",
              "    <tr style=\"text-align: right;\">\n",
              "      <th></th>\n",
              "      <th>C-Pitch</th>\n",
              "    </tr>\n",
              "    <tr>\n",
              "      <th>Datef</th>\n",
              "      <th></th>\n",
              "    </tr>\n",
              "  </thead>\n",
              "  <tbody>\n",
              "    <tr>\n",
              "      <th>2019-12-08</th>\n",
              "      <td>10.000</td>\n",
              "    </tr>\n",
              "    <tr>\n",
              "      <th>2019-12-15</th>\n",
              "      <td>10.003</td>\n",
              "    </tr>\n",
              "    <tr>\n",
              "      <th>2019-12-22</th>\n",
              "      <td>10.003</td>\n",
              "    </tr>\n",
              "    <tr>\n",
              "      <th>2019-12-29</th>\n",
              "      <td>10.003</td>\n",
              "    </tr>\n",
              "    <tr>\n",
              "      <th>2020-01-05</th>\n",
              "      <td>9.999</td>\n",
              "    </tr>\n",
              "  </tbody>\n",
              "</table>\n",
              "</div>"
            ],
            "text/plain": [
              "            C-Pitch\n",
              "Datef              \n",
              "2019-12-08   10.000\n",
              "2019-12-15   10.003\n",
              "2019-12-22   10.003\n",
              "2019-12-29   10.003\n",
              "2020-01-05    9.999"
            ]
          },
          "metadata": {
            "tags": []
          },
          "execution_count": 46
        }
      ]
    },
    {
      "cell_type": "code",
      "metadata": {
        "id": "NT8tIPGQwB5x",
        "colab_type": "code",
        "colab": {
          "base_uri": "https://localhost:8080/",
          "height": 359
        },
        "outputId": "ca7bfe2f-a988-4fb0-b3c1-41e379fd8610"
      },
      "source": [
        "n_forecasts=10 #week\n",
        "\n",
        "arima_pred = arima.forecast(n_forecasts) # arima manual select \n",
        "\n",
        "arima_pred = pd.concat([pd.DataFrame(arima_pred[0], columns=['prediction']),\n",
        "                      pd.DataFrame(arima_pred[2], columns=['ci_lower','ci_upper'])],axis=1)\n",
        "arima_pred"
      ],
      "execution_count": 47,
      "outputs": [
        {
          "output_type": "execute_result",
          "data": {
            "text/html": [
              "<div>\n",
              "<style scoped>\n",
              "    .dataframe tbody tr th:only-of-type {\n",
              "        vertical-align: middle;\n",
              "    }\n",
              "\n",
              "    .dataframe tbody tr th {\n",
              "        vertical-align: top;\n",
              "    }\n",
              "\n",
              "    .dataframe thead th {\n",
              "        text-align: right;\n",
              "    }\n",
              "</style>\n",
              "<table border=\"1\" class=\"dataframe\">\n",
              "  <thead>\n",
              "    <tr style=\"text-align: right;\">\n",
              "      <th></th>\n",
              "      <th>prediction</th>\n",
              "      <th>ci_lower</th>\n",
              "      <th>ci_upper</th>\n",
              "    </tr>\n",
              "  </thead>\n",
              "  <tbody>\n",
              "    <tr>\n",
              "      <th>0</th>\n",
              "      <td>9.999448</td>\n",
              "      <td>9.996767</td>\n",
              "      <td>10.002129</td>\n",
              "    </tr>\n",
              "    <tr>\n",
              "      <th>1</th>\n",
              "      <td>9.999361</td>\n",
              "      <td>9.995820</td>\n",
              "      <td>10.002901</td>\n",
              "    </tr>\n",
              "    <tr>\n",
              "      <th>2</th>\n",
              "      <td>9.999274</td>\n",
              "      <td>9.995045</td>\n",
              "      <td>10.003502</td>\n",
              "    </tr>\n",
              "    <tr>\n",
              "      <th>3</th>\n",
              "      <td>9.999187</td>\n",
              "      <td>9.994367</td>\n",
              "      <td>10.004006</td>\n",
              "    </tr>\n",
              "    <tr>\n",
              "      <th>4</th>\n",
              "      <td>9.999099</td>\n",
              "      <td>9.993754</td>\n",
              "      <td>10.004445</td>\n",
              "    </tr>\n",
              "    <tr>\n",
              "      <th>5</th>\n",
              "      <td>9.999012</td>\n",
              "      <td>9.993188</td>\n",
              "      <td>10.004837</td>\n",
              "    </tr>\n",
              "    <tr>\n",
              "      <th>6</th>\n",
              "      <td>9.998925</td>\n",
              "      <td>9.992659</td>\n",
              "      <td>10.005192</td>\n",
              "    </tr>\n",
              "    <tr>\n",
              "      <th>7</th>\n",
              "      <td>9.998838</td>\n",
              "      <td>9.992158</td>\n",
              "      <td>10.005518</td>\n",
              "    </tr>\n",
              "    <tr>\n",
              "      <th>8</th>\n",
              "      <td>9.998751</td>\n",
              "      <td>9.991682</td>\n",
              "      <td>10.005819</td>\n",
              "    </tr>\n",
              "    <tr>\n",
              "      <th>9</th>\n",
              "      <td>9.998664</td>\n",
              "      <td>9.991227</td>\n",
              "      <td>10.006101</td>\n",
              "    </tr>\n",
              "  </tbody>\n",
              "</table>\n",
              "</div>"
            ],
            "text/plain": [
              "   prediction  ci_lower   ci_upper\n",
              "0    9.999448  9.996767  10.002129\n",
              "1    9.999361  9.995820  10.002901\n",
              "2    9.999274  9.995045  10.003502\n",
              "3    9.999187  9.994367  10.004006\n",
              "4    9.999099  9.993754  10.004445\n",
              "5    9.999012  9.993188  10.004837\n",
              "6    9.998925  9.992659  10.005192\n",
              "7    9.998838  9.992158  10.005518\n",
              "8    9.998751  9.991682  10.005819\n",
              "9    9.998664  9.991227  10.006101"
            ]
          },
          "metadata": {
            "tags": []
          },
          "execution_count": 47
        }
      ]
    },
    {
      "cell_type": "code",
      "metadata": {
        "id": "GyEFCMwF-AWp",
        "colab_type": "code",
        "colab": {
          "base_uri": "https://localhost:8080/",
          "height": 51
        },
        "outputId": "5bdc4eee-cf6e-446c-f8e3-0f6d020c8376"
      },
      "source": [
        "import datetime\n",
        "x=df_arima[-1:].index.astype(np.int64) // 10 ** 9\n",
        "timestamp = datetime.datetime.fromtimestamp(x.values)\n",
        "a=timestamp.strftime('%Y-%m-%d')\n",
        "print(type(a))\n",
        "print(a)"
      ],
      "execution_count": 48,
      "outputs": [
        {
          "output_type": "stream",
          "text": [
            "<class 'str'>\n",
            "2020-01-05\n"
          ],
          "name": "stdout"
        }
      ]
    },
    {
      "cell_type": "code",
      "metadata": {
        "id": "KMdTYwY9wQ-n",
        "colab_type": "code",
        "colab": {
          "base_uri": "https://localhost:8080/",
          "height": 51
        },
        "outputId": "515c576f-654d-4e4c-abbd-540b6b04ea60"
      },
      "source": [
        "x=df_arima[:1].index.astype(np.int64) // 10 ** 9\n",
        "timestamp = datetime.datetime.fromtimestamp(x.values)\n",
        "b=timestamp.strftime('%Y-%m-%d')\n",
        "print(type(b))\n",
        "print(b)"
      ],
      "execution_count": 51,
      "outputs": [
        {
          "output_type": "stream",
          "text": [
            "<class 'str'>\n",
            "2019-01-13\n"
          ],
          "name": "stdout"
        }
      ]
    },
    {
      "cell_type": "code",
      "metadata": {
        "id": "hODvY4pqwcio",
        "colab_type": "code",
        "colab": {
          "base_uri": "https://localhost:8080/",
          "height": 34
        },
        "outputId": "34332a05-ce3b-4325-e165-2177cb807a73"
      },
      "source": [
        "len(df_arima)"
      ],
      "execution_count": 53,
      "outputs": [
        {
          "output_type": "execute_result",
          "data": {
            "text/plain": [
              "52"
            ]
          },
          "metadata": {
            "tags": []
          },
          "execution_count": 53
        }
      ]
    },
    {
      "cell_type": "code",
      "metadata": {
        "id": "skCopGMs-M_K",
        "colab_type": "code",
        "colab": {
          "base_uri": "https://localhost:8080/",
          "height": 85
        },
        "outputId": "9f7f88ff-eaa1-49ba-b7a9-3b60d883bba1"
      },
      "source": [
        "didx = pd.date_range(start =a, freq ='W',  \n",
        "                            periods = n_forecasts) \n",
        "didx"
      ],
      "execution_count": 57,
      "outputs": [
        {
          "output_type": "execute_result",
          "data": {
            "text/plain": [
              "DatetimeIndex(['2020-01-05', '2020-01-12', '2020-01-19', '2020-01-26',\n",
              "               '2020-02-02', '2020-02-09', '2020-02-16', '2020-02-23',\n",
              "               '2020-03-01', '2020-03-08'],\n",
              "              dtype='datetime64[ns]', freq='W-SUN')"
            ]
          },
          "metadata": {
            "tags": []
          },
          "execution_count": 57
        }
      ]
    },
    {
      "cell_type": "code",
      "metadata": {
        "id": "HMHB5haB4vkA",
        "colab_type": "code",
        "colab": {
          "base_uri": "https://localhost:8080/",
          "height": 359
        },
        "outputId": "eb7f53e1-f76e-4667-88f1-fde196f803ad"
      },
      "source": [
        "arima_pred.index=didx\n",
        "arima_pred"
      ],
      "execution_count": 58,
      "outputs": [
        {
          "output_type": "execute_result",
          "data": {
            "text/html": [
              "<div>\n",
              "<style scoped>\n",
              "    .dataframe tbody tr th:only-of-type {\n",
              "        vertical-align: middle;\n",
              "    }\n",
              "\n",
              "    .dataframe tbody tr th {\n",
              "        vertical-align: top;\n",
              "    }\n",
              "\n",
              "    .dataframe thead th {\n",
              "        text-align: right;\n",
              "    }\n",
              "</style>\n",
              "<table border=\"1\" class=\"dataframe\">\n",
              "  <thead>\n",
              "    <tr style=\"text-align: right;\">\n",
              "      <th></th>\n",
              "      <th>prediction</th>\n",
              "      <th>ci_lower</th>\n",
              "      <th>ci_upper</th>\n",
              "    </tr>\n",
              "  </thead>\n",
              "  <tbody>\n",
              "    <tr>\n",
              "      <th>2020-01-05</th>\n",
              "      <td>9.999448</td>\n",
              "      <td>9.996767</td>\n",
              "      <td>10.002129</td>\n",
              "    </tr>\n",
              "    <tr>\n",
              "      <th>2020-01-12</th>\n",
              "      <td>9.999361</td>\n",
              "      <td>9.995820</td>\n",
              "      <td>10.002901</td>\n",
              "    </tr>\n",
              "    <tr>\n",
              "      <th>2020-01-19</th>\n",
              "      <td>9.999274</td>\n",
              "      <td>9.995045</td>\n",
              "      <td>10.003502</td>\n",
              "    </tr>\n",
              "    <tr>\n",
              "      <th>2020-01-26</th>\n",
              "      <td>9.999187</td>\n",
              "      <td>9.994367</td>\n",
              "      <td>10.004006</td>\n",
              "    </tr>\n",
              "    <tr>\n",
              "      <th>2020-02-02</th>\n",
              "      <td>9.999099</td>\n",
              "      <td>9.993754</td>\n",
              "      <td>10.004445</td>\n",
              "    </tr>\n",
              "    <tr>\n",
              "      <th>2020-02-09</th>\n",
              "      <td>9.999012</td>\n",
              "      <td>9.993188</td>\n",
              "      <td>10.004837</td>\n",
              "    </tr>\n",
              "    <tr>\n",
              "      <th>2020-02-16</th>\n",
              "      <td>9.998925</td>\n",
              "      <td>9.992659</td>\n",
              "      <td>10.005192</td>\n",
              "    </tr>\n",
              "    <tr>\n",
              "      <th>2020-02-23</th>\n",
              "      <td>9.998838</td>\n",
              "      <td>9.992158</td>\n",
              "      <td>10.005518</td>\n",
              "    </tr>\n",
              "    <tr>\n",
              "      <th>2020-03-01</th>\n",
              "      <td>9.998751</td>\n",
              "      <td>9.991682</td>\n",
              "      <td>10.005819</td>\n",
              "    </tr>\n",
              "    <tr>\n",
              "      <th>2020-03-08</th>\n",
              "      <td>9.998664</td>\n",
              "      <td>9.991227</td>\n",
              "      <td>10.006101</td>\n",
              "    </tr>\n",
              "  </tbody>\n",
              "</table>\n",
              "</div>"
            ],
            "text/plain": [
              "            prediction  ci_lower   ci_upper\n",
              "2020-01-05    9.999448  9.996767  10.002129\n",
              "2020-01-12    9.999361  9.995820  10.002901\n",
              "2020-01-19    9.999274  9.995045  10.003502\n",
              "2020-01-26    9.999187  9.994367  10.004006\n",
              "2020-02-02    9.999099  9.993754  10.004445\n",
              "2020-02-09    9.999012  9.993188  10.004837\n",
              "2020-02-16    9.998925  9.992659  10.005192\n",
              "2020-02-23    9.998838  9.992158  10.005518\n",
              "2020-03-01    9.998751  9.991682  10.005819\n",
              "2020-03-08    9.998664  9.991227  10.006101"
            ]
          },
          "metadata": {
            "tags": []
          },
          "execution_count": 58
        }
      ]
    },
    {
      "cell_type": "code",
      "metadata": {
        "id": "p6FvUcGJ-iEu",
        "colab_type": "code",
        "colab": {
          "base_uri": "https://localhost:8080/",
          "height": 359
        },
        "outputId": "778fc8fd-7542-475d-97f5-c8ac3133cd92"
      },
      "source": [
        "arima_pred['USL']=df_original['USL'][0]\n",
        "arima_pred['LSL']=df_original['LSL'][0]\n",
        "arima_pred['Nominal']=df_original['Nominal'][0]\n",
        "arima_pred['UCL']=df_original['UCL'][0]\n",
        "arima_pred['LCL']=df_original['LCL'][0]\n",
        "arima_pred['mean']=df_original['mean'][0]\n",
        "arima_pred"
      ],
      "execution_count": 59,
      "outputs": [
        {
          "output_type": "execute_result",
          "data": {
            "text/html": [
              "<div>\n",
              "<style scoped>\n",
              "    .dataframe tbody tr th:only-of-type {\n",
              "        vertical-align: middle;\n",
              "    }\n",
              "\n",
              "    .dataframe tbody tr th {\n",
              "        vertical-align: top;\n",
              "    }\n",
              "\n",
              "    .dataframe thead th {\n",
              "        text-align: right;\n",
              "    }\n",
              "</style>\n",
              "<table border=\"1\" class=\"dataframe\">\n",
              "  <thead>\n",
              "    <tr style=\"text-align: right;\">\n",
              "      <th></th>\n",
              "      <th>prediction</th>\n",
              "      <th>ci_lower</th>\n",
              "      <th>ci_upper</th>\n",
              "      <th>USL</th>\n",
              "      <th>LSL</th>\n",
              "      <th>Nominal</th>\n",
              "      <th>UCL</th>\n",
              "      <th>LCL</th>\n",
              "      <th>mean</th>\n",
              "    </tr>\n",
              "  </thead>\n",
              "  <tbody>\n",
              "    <tr>\n",
              "      <th>2020-01-05</th>\n",
              "      <td>9.999448</td>\n",
              "      <td>9.996767</td>\n",
              "      <td>10.002129</td>\n",
              "      <td>10.01</td>\n",
              "      <td>9.99</td>\n",
              "      <td>10.0</td>\n",
              "      <td>10.006001</td>\n",
              "      <td>9.997142</td>\n",
              "      <td>10.001571</td>\n",
              "    </tr>\n",
              "    <tr>\n",
              "      <th>2020-01-12</th>\n",
              "      <td>9.999361</td>\n",
              "      <td>9.995820</td>\n",
              "      <td>10.002901</td>\n",
              "      <td>10.01</td>\n",
              "      <td>9.99</td>\n",
              "      <td>10.0</td>\n",
              "      <td>10.006001</td>\n",
              "      <td>9.997142</td>\n",
              "      <td>10.001571</td>\n",
              "    </tr>\n",
              "    <tr>\n",
              "      <th>2020-01-19</th>\n",
              "      <td>9.999274</td>\n",
              "      <td>9.995045</td>\n",
              "      <td>10.003502</td>\n",
              "      <td>10.01</td>\n",
              "      <td>9.99</td>\n",
              "      <td>10.0</td>\n",
              "      <td>10.006001</td>\n",
              "      <td>9.997142</td>\n",
              "      <td>10.001571</td>\n",
              "    </tr>\n",
              "    <tr>\n",
              "      <th>2020-01-26</th>\n",
              "      <td>9.999187</td>\n",
              "      <td>9.994367</td>\n",
              "      <td>10.004006</td>\n",
              "      <td>10.01</td>\n",
              "      <td>9.99</td>\n",
              "      <td>10.0</td>\n",
              "      <td>10.006001</td>\n",
              "      <td>9.997142</td>\n",
              "      <td>10.001571</td>\n",
              "    </tr>\n",
              "    <tr>\n",
              "      <th>2020-02-02</th>\n",
              "      <td>9.999099</td>\n",
              "      <td>9.993754</td>\n",
              "      <td>10.004445</td>\n",
              "      <td>10.01</td>\n",
              "      <td>9.99</td>\n",
              "      <td>10.0</td>\n",
              "      <td>10.006001</td>\n",
              "      <td>9.997142</td>\n",
              "      <td>10.001571</td>\n",
              "    </tr>\n",
              "    <tr>\n",
              "      <th>2020-02-09</th>\n",
              "      <td>9.999012</td>\n",
              "      <td>9.993188</td>\n",
              "      <td>10.004837</td>\n",
              "      <td>10.01</td>\n",
              "      <td>9.99</td>\n",
              "      <td>10.0</td>\n",
              "      <td>10.006001</td>\n",
              "      <td>9.997142</td>\n",
              "      <td>10.001571</td>\n",
              "    </tr>\n",
              "    <tr>\n",
              "      <th>2020-02-16</th>\n",
              "      <td>9.998925</td>\n",
              "      <td>9.992659</td>\n",
              "      <td>10.005192</td>\n",
              "      <td>10.01</td>\n",
              "      <td>9.99</td>\n",
              "      <td>10.0</td>\n",
              "      <td>10.006001</td>\n",
              "      <td>9.997142</td>\n",
              "      <td>10.001571</td>\n",
              "    </tr>\n",
              "    <tr>\n",
              "      <th>2020-02-23</th>\n",
              "      <td>9.998838</td>\n",
              "      <td>9.992158</td>\n",
              "      <td>10.005518</td>\n",
              "      <td>10.01</td>\n",
              "      <td>9.99</td>\n",
              "      <td>10.0</td>\n",
              "      <td>10.006001</td>\n",
              "      <td>9.997142</td>\n",
              "      <td>10.001571</td>\n",
              "    </tr>\n",
              "    <tr>\n",
              "      <th>2020-03-01</th>\n",
              "      <td>9.998751</td>\n",
              "      <td>9.991682</td>\n",
              "      <td>10.005819</td>\n",
              "      <td>10.01</td>\n",
              "      <td>9.99</td>\n",
              "      <td>10.0</td>\n",
              "      <td>10.006001</td>\n",
              "      <td>9.997142</td>\n",
              "      <td>10.001571</td>\n",
              "    </tr>\n",
              "    <tr>\n",
              "      <th>2020-03-08</th>\n",
              "      <td>9.998664</td>\n",
              "      <td>9.991227</td>\n",
              "      <td>10.006101</td>\n",
              "      <td>10.01</td>\n",
              "      <td>9.99</td>\n",
              "      <td>10.0</td>\n",
              "      <td>10.006001</td>\n",
              "      <td>9.997142</td>\n",
              "      <td>10.001571</td>\n",
              "    </tr>\n",
              "  </tbody>\n",
              "</table>\n",
              "</div>"
            ],
            "text/plain": [
              "            prediction  ci_lower   ci_upper  ...        UCL       LCL       mean\n",
              "2020-01-05    9.999448  9.996767  10.002129  ...  10.006001  9.997142  10.001571\n",
              "2020-01-12    9.999361  9.995820  10.002901  ...  10.006001  9.997142  10.001571\n",
              "2020-01-19    9.999274  9.995045  10.003502  ...  10.006001  9.997142  10.001571\n",
              "2020-01-26    9.999187  9.994367  10.004006  ...  10.006001  9.997142  10.001571\n",
              "2020-02-02    9.999099  9.993754  10.004445  ...  10.006001  9.997142  10.001571\n",
              "2020-02-09    9.999012  9.993188  10.004837  ...  10.006001  9.997142  10.001571\n",
              "2020-02-16    9.998925  9.992659  10.005192  ...  10.006001  9.997142  10.001571\n",
              "2020-02-23    9.998838  9.992158  10.005518  ...  10.006001  9.997142  10.001571\n",
              "2020-03-01    9.998751  9.991682  10.005819  ...  10.006001  9.997142  10.001571\n",
              "2020-03-08    9.998664  9.991227  10.006101  ...  10.006001  9.997142  10.001571\n",
              "\n",
              "[10 rows x 9 columns]"
            ]
          },
          "metadata": {
            "tags": []
          },
          "execution_count": 59
        }
      ]
    },
    {
      "cell_type": "markdown",
      "metadata": {
        "id": "Me4LVvG0xk6L",
        "colab_type": "text"
      },
      "source": [
        "# Combine to one"
      ]
    },
    {
      "cell_type": "code",
      "metadata": {
        "id": "iPAiUB_sxD03",
        "colab_type": "code",
        "colab": {}
      },
      "source": [
        "#num_predict=st.number_input(\"Please input number of week for prediction\",value=5)\n",
        "#num_predict=int(num_predict)\n",
        "n_forecasts=10 # week"
      ],
      "execution_count": 61,
      "outputs": []
    },
    {
      "cell_type": "code",
      "metadata": {
        "id": "XPVamdkgxuoJ",
        "colab_type": "code",
        "colab": {}
      },
      "source": [
        "\n",
        "#@st.cache(suppress_st_warning=True)\n",
        "def predict_prophet(DFdict_final):\n",
        "  DF_predict_final_={} # only contail predict\n",
        "  #DF_predict_all_final={} # contain predict and past value\n",
        "  for name in DFdict_final.keys(): #also group\n",
        "    print(name)\n",
        "    df_temp_2=DFdict_final[name].copy() # gia tri mean thong thuong\n",
        "    df_temp_2=df_temp_2.set_index(df_temp_2.columns[0]).copy()\n",
        "    df_temp_2=df_temp_2.resample('1W').ffill() # gia tri mean da resample\n",
        "    df_original=df_temp_2.reset_index()#\n",
        "\n",
        "    df=df_original[[df_original.columns[0],df_original.columns[1]]].\\\n",
        "      set_index(df_original.columns[0])\n",
        "\n",
        "    # Prophet will by default fit weekly and yearly seasonalities,\n",
        "    arima = ARIMA(df, order=(0, 1, 1)).fit(disp=0)\n",
        "   \n",
        "    arima_pred = arima.forecast(n_forecasts) # arima manual select \n",
        "\n",
        "    arima_pred = pd.concat([pd.DataFrame(arima_pred[0], columns=['prediction']),\n",
        "                          pd.DataFrame(arima_pred[2], columns=['ci_lower','ci_upper'])],axis=1)\n",
        "    x=df[-1:].index.astype(np.int64) // 10 ** 9\n",
        "    timestamp = datetime.datetime.fromtimestamp(x.values)\n",
        "    a=timestamp.strftime('%Y-%m-%d')\n",
        "    didx = pd.date_range(start =a, freq ='W',periods = n_forecasts) \n",
        "    arima_pred.index=didx\n",
        "    arima_pred['USL']=df_original['USL'][0]\n",
        "    arima_pred['LSL']=df_original['LSL'][0]\n",
        "    arima_pred['Nominal']=df_original['Nominal'][0]\n",
        "    arima_pred['UCL']=df_original['UCL'][0]\n",
        "    arima_pred['LCL']=df_original['LCL'][0]\n",
        "    arima_pred['mean']=df_original['mean'][0]\n",
        "    DF_predict_final_[name]=arima_pred \n",
        "  return DF_predict_final_\n",
        "  \n",
        "DF_predict_final=predict_prophet(DFdict_final)"
      ],
      "execution_count": null,
      "outputs": []
    },
    {
      "cell_type": "code",
      "metadata": {
        "id": "ctNaidZpxxRf",
        "colab_type": "code",
        "colab": {
          "base_uri": "https://localhost:8080/",
          "height": 1000
        },
        "outputId": "34fefca6-6eb6-4ff2-ed51-1b5d21e43374"
      },
      "source": [
        "#@st.cache(suppress_st_warning=True,allow_output_mutation=True)\n",
        "def line_chart_prophet(DFdict_final,DF_predict_final):\n",
        "\n",
        "  i=1\n",
        "  #Layout\n",
        "  fig = make_subplots(\n",
        "      rows=len(DFdict_final), cols=1,\n",
        "      #shared_xaxes=True,\n",
        "      #vertical_spacing=0.03,\n",
        "      #column_widths=[0.8, 0.2],\n",
        "      subplot_titles=(list(DFdict_final.keys()))\n",
        "  )\n",
        "  for name in DFdict_final.keys(): #also group\n",
        "    df=DFdict_final[name].copy()\n",
        "    df=df.sort_values(by=['Datef'])\n",
        "    for a in df.columns[1:]:\n",
        "      df[a] = df[a].round(decimals=3)\n",
        "\n",
        "    #Control chart 1 \n",
        "    fig.append_trace(go.Scatter(\n",
        "                            x=df['Datef'], y=df[name],\n",
        "                            mode='lines+markers',\n",
        "                            name='mean ' + name,line=dict( color='#4280F5')\n",
        "                            ),row=i, col=1\n",
        "                  )\n",
        "    #USL, LSL\n",
        "    fig.append_trace(go.Scatter(x=df['Datef'], y=df['USL'],name='USL '+name, line=dict( color='#FF5733')),row=i, col=1)\n",
        "    fig.append_trace(go.Scatter(x=df['Datef'], y=df['LSL'],name='LSL '+name,line=dict( color='#FF5733')),row=i, col=1)\n",
        "    fig.append_trace(go.Scatter(x=df['Datef'], y=df['Nominal'],name='Nominal '+name,line=dict( color='#FF5733')),row=i, col=1)\n",
        "    # UCL, LCL\n",
        "    fig.append_trace(go.Scatter(x=df['Datef'], y=df['UCL'],name='UCL '+name, line=dict( color='#33C2FF')),row=i, col=1)\n",
        "    fig.append_trace(go.Scatter(x=df['Datef'], y=df['LCL'],name='LCL '+name, line=dict( color='#33C2FF')),row=i, col=1)\n",
        "    fig.append_trace(go.Scatter(x=df['Datef'], y=df['mean'],name='mean '+name, line=dict( color='#33C2FF')),row=i, col=1)\n",
        "\n",
        "    #Predict:\n",
        "    df_predict=DF_predict_final[name].copy()\n",
        "    fig.append_trace(go.Scatter(\n",
        "                        x=df_predict.index, y=df_predict.prediction,\n",
        "                        mode='lines+markers',\n",
        "                        name='mean predict ' + name,line=dict( color='#060891')\n",
        "                        ),row=i, col=1\n",
        "              )\n",
        "\n",
        "    #USL, LSL\n",
        "    fig.append_trace(go.Scatter(x=df_predict.index, y=df_predict['USL'],name='USL '+name, line=dict( color='#FF5733'),mode='lines'),row=i, col=1)\n",
        "    fig.append_trace(go.Scatter(x=df_predict.index, y=df_predict['LSL'],name='LSL '+name,line=dict( color='#FF5733'),mode='lines'),row=i, col=1)\n",
        "    fig.append_trace(go.Scatter(x=df_predict.index, y=df_predict['Nominal'],name='Nominal '+name,line=dict( color='#FF5733'),mode='lines'),row=i, col=1)\n",
        "    # UCL, LCL\n",
        "    fig.append_trace(go.Scatter(x=df_predict.index, y=df_predict['UCL'],name='UCL '+name, line=dict( color='#33C2FF'),mode='lines'),row=i, col=1)\n",
        "    fig.append_trace(go.Scatter(x=df_predict.index, y=df_predict['LCL'],name='LCL '+name, line=dict( color='#33C2FF'),mode='lines'),row=i, col=1)\n",
        "    fig.append_trace(go.Scatter(x=df_predict.index, y=df_predict['mean'],name='mean '+name, line=dict( color='#33C2FF'),mode='lines'),row=i, col=1)\n",
        "    # Fill between:\n",
        "    fig.append_trace(go.Scatter(x=df_predict.index, y=df_predict['ci_upper'],name='yhat_upper '+name, line=dict( color='#9FA0F8'),fill=None,mode='lines'),row=i, col=1)\n",
        "    fig.append_trace(go.Scatter(x=df_predict.index, y=df_predict['ci_lower'],name='yhat_lower '+name, line=dict( color='#9FA0F8'), fill='tonexty',mode='lines'),row=i, col=1)\n",
        "\n",
        "\n",
        "    #Final layout:\n",
        "    #fig.update_layout(height=400, width=1400, title_text='Line chart'+name)\n",
        "    i=i+1\n",
        "    \n",
        "  fig.update_layout(height=300*len(DFdict_final), width=1200, title_text='Line chart')\n",
        "  #fig.show()\n",
        "  return fig\n",
        "fig_new_2=line_chart_prophet(DFdict_final,DF_predict_final)\n",
        "fig_new_2.show()\n",
        "#st.plotly_chart(fig_new)"
      ],
      "execution_count": 70,
      "outputs": [
        {
          "output_type": "display_data",
          "data": {
            "text/html": [
              "<html>\n",
              "<head><meta charset=\"utf-8\" /></head>\n",
              "<body>\n",
              "    <div>\n",
              "            <script src=\"https://cdnjs.cloudflare.com/ajax/libs/mathjax/2.7.5/MathJax.js?config=TeX-AMS-MML_SVG\"></script><script type=\"text/javascript\">if (window.MathJax) {MathJax.Hub.Config({SVG: {font: \"STIX-Web\"}});}</script>\n",
              "                <script type=\"text/javascript\">window.PlotlyConfig = {MathJaxConfig: 'local'};</script>\n",
              "        <script src=\"https://cdn.plot.ly/plotly-latest.min.js\"></script>    \n",
              "            <div id=\"3406bb31-b273-46a6-82f2-b071244a51dd\" class=\"plotly-graph-div\" style=\"height:1500px; width:1200px;\"></div>\n",
              "            <script type=\"text/javascript\">\n",
              "                \n",
              "                    window.PLOTLYENV=window.PLOTLYENV || {};\n",
              "                    \n",
              "                if (document.getElementById(\"3406bb31-b273-46a6-82f2-b071244a51dd\")) {\n",
              "                    Plotly.newPlot(\n",
              "                        '3406bb31-b273-46a6-82f2-b071244a51dd',\n",
              "                        [{\"line\": {\"color\": \"#4280F5\"}, \"mode\": \"lines+markers\", \"name\": \"mean C-Pitch\", \"type\": \"scatter\", \"x\": [\"2019-01-11T00:00:00\", \"2019-01-22T00:00:00\", \"2019-01-26T00:00:00\", \"2019-01-31T00:00:00\", \"2019-02-11T00:00:00\", \"2019-02-22T00:00:00\", \"2019-02-27T00:00:00\", \"2019-03-07T00:00:00\", \"2019-03-15T00:00:00\", \"2019-04-05T00:00:00\", \"2019-04-16T00:00:00\", \"2019-05-27T00:00:00\", \"2019-06-03T00:00:00\", \"2019-06-10T00:00:00\", \"2019-06-17T00:00:00\", \"2019-06-25T00:00:00\", \"2019-06-28T00:00:00\", \"2019-08-07T00:00:00\", \"2019-08-19T00:00:00\", \"2019-08-26T00:00:00\", \"2019-09-05T00:00:00\", \"2019-10-17T00:00:00\", \"2019-11-01T00:00:00\", \"2019-11-13T00:00:00\", \"2019-12-05T00:00:00\", \"2019-12-10T00:00:00\", \"2019-12-26T00:00:00\", \"2019-12-31T00:00:00\"], \"xaxis\": \"x\", \"y\": [10.004, 10.001, 10.002, 10.003, 10.003, 10.002, 10.003, 10.002, 9.998, 10.002, 10.003, 10.004, 10.001, 10.0, 10.002, 10.001, 10.002, 10.001, 10.0, 10.001, 10.002, 10.0, 10.0, 10.002, 10.0, 10.003, 10.003, 9.999], \"yaxis\": \"y\"}, {\"line\": {\"color\": \"#FF5733\"}, \"name\": \"USL C-Pitch\", \"type\": \"scatter\", \"x\": [\"2019-01-11T00:00:00\", \"2019-01-22T00:00:00\", \"2019-01-26T00:00:00\", \"2019-01-31T00:00:00\", \"2019-02-11T00:00:00\", \"2019-02-22T00:00:00\", \"2019-02-27T00:00:00\", \"2019-03-07T00:00:00\", \"2019-03-15T00:00:00\", \"2019-04-05T00:00:00\", \"2019-04-16T00:00:00\", \"2019-05-27T00:00:00\", \"2019-06-03T00:00:00\", \"2019-06-10T00:00:00\", \"2019-06-17T00:00:00\", \"2019-06-25T00:00:00\", \"2019-06-28T00:00:00\", \"2019-08-07T00:00:00\", \"2019-08-19T00:00:00\", \"2019-08-26T00:00:00\", \"2019-09-05T00:00:00\", \"2019-10-17T00:00:00\", \"2019-11-01T00:00:00\", \"2019-11-13T00:00:00\", \"2019-12-05T00:00:00\", \"2019-12-10T00:00:00\", \"2019-12-26T00:00:00\", \"2019-12-31T00:00:00\"], \"xaxis\": \"x\", \"y\": [10.01, 10.01, 10.01, 10.01, 10.01, 10.01, 10.01, 10.01, 10.01, 10.01, 10.01, 10.01, 10.01, 10.01, 10.01, 10.01, 10.01, 10.01, 10.01, 10.01, 10.01, 10.01, 10.01, 10.01, 10.01, 10.01, 10.01, 10.01], \"yaxis\": \"y\"}, {\"line\": {\"color\": \"#FF5733\"}, \"name\": \"LSL C-Pitch\", \"type\": \"scatter\", \"x\": [\"2019-01-11T00:00:00\", \"2019-01-22T00:00:00\", \"2019-01-26T00:00:00\", \"2019-01-31T00:00:00\", \"2019-02-11T00:00:00\", \"2019-02-22T00:00:00\", \"2019-02-27T00:00:00\", \"2019-03-07T00:00:00\", \"2019-03-15T00:00:00\", \"2019-04-05T00:00:00\", \"2019-04-16T00:00:00\", \"2019-05-27T00:00:00\", \"2019-06-03T00:00:00\", \"2019-06-10T00:00:00\", \"2019-06-17T00:00:00\", \"2019-06-25T00:00:00\", \"2019-06-28T00:00:00\", \"2019-08-07T00:00:00\", \"2019-08-19T00:00:00\", \"2019-08-26T00:00:00\", \"2019-09-05T00:00:00\", \"2019-10-17T00:00:00\", \"2019-11-01T00:00:00\", \"2019-11-13T00:00:00\", \"2019-12-05T00:00:00\", \"2019-12-10T00:00:00\", \"2019-12-26T00:00:00\", \"2019-12-31T00:00:00\"], \"xaxis\": \"x\", \"y\": [9.99, 9.99, 9.99, 9.99, 9.99, 9.99, 9.99, 9.99, 9.99, 9.99, 9.99, 9.99, 9.99, 9.99, 9.99, 9.99, 9.99, 9.99, 9.99, 9.99, 9.99, 9.99, 9.99, 9.99, 9.99, 9.99, 9.99, 9.99], \"yaxis\": \"y\"}, {\"line\": {\"color\": \"#FF5733\"}, \"name\": \"Nominal C-Pitch\", \"type\": \"scatter\", \"x\": [\"2019-01-11T00:00:00\", \"2019-01-22T00:00:00\", \"2019-01-26T00:00:00\", \"2019-01-31T00:00:00\", \"2019-02-11T00:00:00\", \"2019-02-22T00:00:00\", \"2019-02-27T00:00:00\", \"2019-03-07T00:00:00\", \"2019-03-15T00:00:00\", \"2019-04-05T00:00:00\", \"2019-04-16T00:00:00\", \"2019-05-27T00:00:00\", \"2019-06-03T00:00:00\", \"2019-06-10T00:00:00\", \"2019-06-17T00:00:00\", \"2019-06-25T00:00:00\", \"2019-06-28T00:00:00\", \"2019-08-07T00:00:00\", \"2019-08-19T00:00:00\", \"2019-08-26T00:00:00\", \"2019-09-05T00:00:00\", \"2019-10-17T00:00:00\", \"2019-11-01T00:00:00\", \"2019-11-13T00:00:00\", \"2019-12-05T00:00:00\", \"2019-12-10T00:00:00\", \"2019-12-26T00:00:00\", \"2019-12-31T00:00:00\"], \"xaxis\": \"x\", \"y\": [10.0, 10.0, 10.0, 10.0, 10.0, 10.0, 10.0, 10.0, 10.0, 10.0, 10.0, 10.0, 10.0, 10.0, 10.0, 10.0, 10.0, 10.0, 10.0, 10.0, 10.0, 10.0, 10.0, 10.0, 10.0, 10.0, 10.0, 10.0], \"yaxis\": \"y\"}, {\"line\": {\"color\": \"#33C2FF\"}, \"name\": \"UCL C-Pitch\", \"type\": \"scatter\", \"x\": [\"2019-01-11T00:00:00\", \"2019-01-22T00:00:00\", \"2019-01-26T00:00:00\", \"2019-01-31T00:00:00\", \"2019-02-11T00:00:00\", \"2019-02-22T00:00:00\", \"2019-02-27T00:00:00\", \"2019-03-07T00:00:00\", \"2019-03-15T00:00:00\", \"2019-04-05T00:00:00\", \"2019-04-16T00:00:00\", \"2019-05-27T00:00:00\", \"2019-06-03T00:00:00\", \"2019-06-10T00:00:00\", \"2019-06-17T00:00:00\", \"2019-06-25T00:00:00\", \"2019-06-28T00:00:00\", \"2019-08-07T00:00:00\", \"2019-08-19T00:00:00\", \"2019-08-26T00:00:00\", \"2019-09-05T00:00:00\", \"2019-10-17T00:00:00\", \"2019-11-01T00:00:00\", \"2019-11-13T00:00:00\", \"2019-12-05T00:00:00\", \"2019-12-10T00:00:00\", \"2019-12-26T00:00:00\", \"2019-12-31T00:00:00\"], \"xaxis\": \"x\", \"y\": [10.006, 10.006, 10.006, 10.006, 10.006, 10.006, 10.006, 10.006, 10.006, 10.006, 10.006, 10.006, 10.006, 10.006, 10.006, 10.006, 10.006, 10.006, 10.006, 10.006, 10.006, 10.006, 10.006, 10.006, 10.006, 10.006, 10.006, 10.006], \"yaxis\": \"y\"}, {\"line\": {\"color\": \"#33C2FF\"}, \"name\": \"LCL C-Pitch\", \"type\": \"scatter\", \"x\": [\"2019-01-11T00:00:00\", \"2019-01-22T00:00:00\", \"2019-01-26T00:00:00\", \"2019-01-31T00:00:00\", \"2019-02-11T00:00:00\", \"2019-02-22T00:00:00\", \"2019-02-27T00:00:00\", \"2019-03-07T00:00:00\", \"2019-03-15T00:00:00\", \"2019-04-05T00:00:00\", \"2019-04-16T00:00:00\", \"2019-05-27T00:00:00\", \"2019-06-03T00:00:00\", \"2019-06-10T00:00:00\", \"2019-06-17T00:00:00\", \"2019-06-25T00:00:00\", \"2019-06-28T00:00:00\", \"2019-08-07T00:00:00\", \"2019-08-19T00:00:00\", \"2019-08-26T00:00:00\", \"2019-09-05T00:00:00\", \"2019-10-17T00:00:00\", \"2019-11-01T00:00:00\", \"2019-11-13T00:00:00\", \"2019-12-05T00:00:00\", \"2019-12-10T00:00:00\", \"2019-12-26T00:00:00\", \"2019-12-31T00:00:00\"], \"xaxis\": \"x\", \"y\": [9.997, 9.997, 9.997, 9.997, 9.997, 9.997, 9.997, 9.997, 9.997, 9.997, 9.997, 9.997, 9.997, 9.997, 9.997, 9.997, 9.997, 9.997, 9.997, 9.997, 9.997, 9.997, 9.997, 9.997, 9.997, 9.997, 9.997, 9.997], \"yaxis\": \"y\"}, {\"line\": {\"color\": \"#33C2FF\"}, \"name\": \"mean C-Pitch\", \"type\": \"scatter\", \"x\": [\"2019-01-11T00:00:00\", \"2019-01-22T00:00:00\", \"2019-01-26T00:00:00\", \"2019-01-31T00:00:00\", \"2019-02-11T00:00:00\", \"2019-02-22T00:00:00\", \"2019-02-27T00:00:00\", \"2019-03-07T00:00:00\", \"2019-03-15T00:00:00\", \"2019-04-05T00:00:00\", \"2019-04-16T00:00:00\", \"2019-05-27T00:00:00\", \"2019-06-03T00:00:00\", \"2019-06-10T00:00:00\", \"2019-06-17T00:00:00\", \"2019-06-25T00:00:00\", \"2019-06-28T00:00:00\", \"2019-08-07T00:00:00\", \"2019-08-19T00:00:00\", \"2019-08-26T00:00:00\", \"2019-09-05T00:00:00\", \"2019-10-17T00:00:00\", \"2019-11-01T00:00:00\", \"2019-11-13T00:00:00\", \"2019-12-05T00:00:00\", \"2019-12-10T00:00:00\", \"2019-12-26T00:00:00\", \"2019-12-31T00:00:00\"], \"xaxis\": \"x\", \"y\": [10.002, 10.002, 10.002, 10.002, 10.002, 10.002, 10.002, 10.002, 10.002, 10.002, 10.002, 10.002, 10.002, 10.002, 10.002, 10.002, 10.002, 10.002, 10.002, 10.002, 10.002, 10.002, 10.002, 10.002, 10.002, 10.002, 10.002, 10.002], \"yaxis\": \"y\"}, {\"line\": {\"color\": \"#060891\"}, \"mode\": \"lines+markers\", \"name\": \"mean predict C-Pitch\", \"type\": \"scatter\", \"x\": [\"2020-01-05T00:00:00\", \"2020-01-12T00:00:00\", \"2020-01-19T00:00:00\", \"2020-01-26T00:00:00\", \"2020-02-02T00:00:00\", \"2020-02-09T00:00:00\", \"2020-02-16T00:00:00\", \"2020-02-23T00:00:00\", \"2020-03-01T00:00:00\", \"2020-03-08T00:00:00\"], \"xaxis\": \"x\", \"y\": [9.999448005877156, 9.999360872820306, 9.999273739763456, 9.999186606706607, 9.999099473649757, 9.999012340592907, 9.998925207536058, 9.998838074479208, 9.998750941422358, 9.998663808365508], \"yaxis\": \"y\"}, {\"line\": {\"color\": \"#FF5733\"}, \"mode\": \"lines\", \"name\": \"USL C-Pitch\", \"type\": \"scatter\", \"x\": [\"2020-01-05T00:00:00\", \"2020-01-12T00:00:00\", \"2020-01-19T00:00:00\", \"2020-01-26T00:00:00\", \"2020-02-02T00:00:00\", \"2020-02-09T00:00:00\", \"2020-02-16T00:00:00\", \"2020-02-23T00:00:00\", \"2020-03-01T00:00:00\", \"2020-03-08T00:00:00\"], \"xaxis\": \"x\", \"y\": [10.01, 10.01, 10.01, 10.01, 10.01, 10.01, 10.01, 10.01, 10.01, 10.01], \"yaxis\": \"y\"}, {\"line\": {\"color\": \"#FF5733\"}, \"mode\": \"lines\", \"name\": \"LSL C-Pitch\", \"type\": \"scatter\", \"x\": [\"2020-01-05T00:00:00\", \"2020-01-12T00:00:00\", \"2020-01-19T00:00:00\", \"2020-01-26T00:00:00\", \"2020-02-02T00:00:00\", \"2020-02-09T00:00:00\", \"2020-02-16T00:00:00\", \"2020-02-23T00:00:00\", \"2020-03-01T00:00:00\", \"2020-03-08T00:00:00\"], \"xaxis\": \"x\", \"y\": [9.99, 9.99, 9.99, 9.99, 9.99, 9.99, 9.99, 9.99, 9.99, 9.99], \"yaxis\": \"y\"}, {\"line\": {\"color\": \"#FF5733\"}, \"mode\": \"lines\", \"name\": \"Nominal C-Pitch\", \"type\": \"scatter\", \"x\": [\"2020-01-05T00:00:00\", \"2020-01-12T00:00:00\", \"2020-01-19T00:00:00\", \"2020-01-26T00:00:00\", \"2020-02-02T00:00:00\", \"2020-02-09T00:00:00\", \"2020-02-16T00:00:00\", \"2020-02-23T00:00:00\", \"2020-03-01T00:00:00\", \"2020-03-08T00:00:00\"], \"xaxis\": \"x\", \"y\": [10.0, 10.0, 10.0, 10.0, 10.0, 10.0, 10.0, 10.0, 10.0, 10.0], \"yaxis\": \"y\"}, {\"line\": {\"color\": \"#33C2FF\"}, \"mode\": \"lines\", \"name\": \"UCL C-Pitch\", \"type\": \"scatter\", \"x\": [\"2020-01-05T00:00:00\", \"2020-01-12T00:00:00\", \"2020-01-19T00:00:00\", \"2020-01-26T00:00:00\", \"2020-02-02T00:00:00\", \"2020-02-09T00:00:00\", \"2020-02-16T00:00:00\", \"2020-02-23T00:00:00\", \"2020-03-01T00:00:00\", \"2020-03-08T00:00:00\"], \"xaxis\": \"x\", \"y\": [10.006000767982567, 10.006000767982567, 10.006000767982567, 10.006000767982567, 10.006000767982567, 10.006000767982567, 10.006000767982567, 10.006000767982567, 10.006000767982567, 10.006000767982567], \"yaxis\": \"y\"}, {\"line\": {\"color\": \"#33C2FF\"}, \"mode\": \"lines\", \"name\": \"LCL C-Pitch\", \"type\": \"scatter\", \"x\": [\"2020-01-05T00:00:00\", \"2020-01-12T00:00:00\", \"2020-01-19T00:00:00\", \"2020-01-26T00:00:00\", \"2020-02-02T00:00:00\", \"2020-02-09T00:00:00\", \"2020-02-16T00:00:00\", \"2020-02-23T00:00:00\", \"2020-03-01T00:00:00\", \"2020-03-08T00:00:00\"], \"xaxis\": \"x\", \"y\": [9.997142089160292, 9.997142089160292, 9.997142089160292, 9.997142089160292, 9.997142089160292, 9.997142089160292, 9.997142089160292, 9.997142089160292, 9.997142089160292, 9.997142089160292], \"yaxis\": \"y\"}, {\"line\": {\"color\": \"#33C2FF\"}, \"mode\": \"lines\", \"name\": \"mean C-Pitch\", \"type\": \"scatter\", \"x\": [\"2020-01-05T00:00:00\", \"2020-01-12T00:00:00\", \"2020-01-19T00:00:00\", \"2020-01-26T00:00:00\", \"2020-02-02T00:00:00\", \"2020-02-09T00:00:00\", \"2020-02-16T00:00:00\", \"2020-02-23T00:00:00\", \"2020-03-01T00:00:00\", \"2020-03-08T00:00:00\"], \"xaxis\": \"x\", \"y\": [10.00157142857143, 10.00157142857143, 10.00157142857143, 10.00157142857143, 10.00157142857143, 10.00157142857143, 10.00157142857143, 10.00157142857143, 10.00157142857143, 10.00157142857143], \"yaxis\": \"y\"}, {\"line\": {\"color\": \"#9FA0F8\"}, \"mode\": \"lines\", \"name\": \"yhat_upper C-Pitch\", \"type\": \"scatter\", \"x\": [\"2020-01-05T00:00:00\", \"2020-01-12T00:00:00\", \"2020-01-19T00:00:00\", \"2020-01-26T00:00:00\", \"2020-02-02T00:00:00\", \"2020-02-09T00:00:00\", \"2020-02-16T00:00:00\", \"2020-02-23T00:00:00\", \"2020-03-01T00:00:00\", \"2020-03-08T00:00:00\"], \"xaxis\": \"x\", \"y\": [10.002129016412605, 10.002901334224868, 10.003502441269026, 10.004006250457882, 10.004445127525123, 10.004836691614372, 10.0051917946684, 10.005517682533073, 10.005819478273734, 10.006100962571606], \"yaxis\": \"y\"}, {\"fill\": \"tonexty\", \"line\": {\"color\": \"#9FA0F8\"}, \"mode\": \"lines\", \"name\": \"yhat_lower C-Pitch\", \"type\": \"scatter\", \"x\": [\"2020-01-05T00:00:00\", \"2020-01-12T00:00:00\", \"2020-01-19T00:00:00\", \"2020-01-26T00:00:00\", \"2020-02-02T00:00:00\", \"2020-02-09T00:00:00\", \"2020-02-16T00:00:00\", \"2020-02-23T00:00:00\", \"2020-03-01T00:00:00\", \"2020-03-08T00:00:00\"], \"xaxis\": \"x\", \"y\": [9.996766995341707, 9.995820411415744, 9.995045038257887, 9.994366962955331, 9.99375381977439, 9.993187989571442, 9.992658620403715, 9.992158466425343, 9.991682404570982, 9.99122665415941], \"yaxis\": \"y\"}, {\"line\": {\"color\": \"#4280F5\"}, \"mode\": \"lines+markers\", \"name\": \"mean J\", \"type\": \"scatter\", \"x\": [\"2019-01-11T00:00:00\", \"2019-01-22T00:00:00\", \"2019-01-26T00:00:00\", \"2019-01-31T00:00:00\", \"2019-02-11T00:00:00\", \"2019-02-22T00:00:00\", \"2019-02-27T00:00:00\", \"2019-03-07T00:00:00\", \"2019-03-15T00:00:00\", \"2019-04-05T00:00:00\", \"2019-04-16T00:00:00\", \"2019-05-27T00:00:00\", \"2019-06-03T00:00:00\", \"2019-06-10T00:00:00\", \"2019-06-17T00:00:00\", \"2019-06-25T00:00:00\", \"2019-06-28T00:00:00\", \"2019-08-07T00:00:00\", \"2019-08-19T00:00:00\", \"2019-08-26T00:00:00\", \"2019-09-05T00:00:00\", \"2019-10-17T00:00:00\", \"2019-11-01T00:00:00\", \"2019-11-13T00:00:00\", \"2019-12-05T00:00:00\", \"2019-12-10T00:00:00\", \"2019-12-26T00:00:00\", \"2019-12-31T00:00:00\"], \"xaxis\": \"x2\", \"y\": [1.219, 1.219, 1.22, 1.22, 1.22, 1.22, 1.22, 1.22, 1.219, 1.22, 1.22, 1.22, 1.22, 1.22, 1.218, 1.219, 1.218, 1.217, 1.217, 1.219, 1.218, 1.22, 1.22, 1.219, 1.219, 1.22, 1.219, 1.218], \"yaxis\": \"y2\"}, {\"line\": {\"color\": \"#FF5733\"}, \"name\": \"USL J\", \"type\": \"scatter\", \"x\": [\"2019-01-11T00:00:00\", \"2019-01-22T00:00:00\", \"2019-01-26T00:00:00\", \"2019-01-31T00:00:00\", \"2019-02-11T00:00:00\", \"2019-02-22T00:00:00\", \"2019-02-27T00:00:00\", \"2019-03-07T00:00:00\", \"2019-03-15T00:00:00\", \"2019-04-05T00:00:00\", \"2019-04-16T00:00:00\", \"2019-05-27T00:00:00\", \"2019-06-03T00:00:00\", \"2019-06-10T00:00:00\", \"2019-06-17T00:00:00\", \"2019-06-25T00:00:00\", \"2019-06-28T00:00:00\", \"2019-08-07T00:00:00\", \"2019-08-19T00:00:00\", \"2019-08-26T00:00:00\", \"2019-09-05T00:00:00\", \"2019-10-17T00:00:00\", \"2019-11-01T00:00:00\", \"2019-11-13T00:00:00\", \"2019-12-05T00:00:00\", \"2019-12-10T00:00:00\", \"2019-12-26T00:00:00\", \"2019-12-31T00:00:00\"], \"xaxis\": \"x2\", \"y\": [1.22, 1.22, 1.22, 1.22, 1.22, 1.22, 1.22, 1.22, 1.22, 1.22, 1.22, 1.22, 1.22, 1.22, 1.22, 1.22, 1.22, 1.22, 1.22, 1.22, 1.22, 1.22, 1.22, 1.22, 1.22, 1.22, 1.22, 1.22], \"yaxis\": \"y2\"}, {\"line\": {\"color\": \"#FF5733\"}, \"name\": \"LSL J\", \"type\": \"scatter\", \"x\": [\"2019-01-11T00:00:00\", \"2019-01-22T00:00:00\", \"2019-01-26T00:00:00\", \"2019-01-31T00:00:00\", \"2019-02-11T00:00:00\", \"2019-02-22T00:00:00\", \"2019-02-27T00:00:00\", \"2019-03-07T00:00:00\", \"2019-03-15T00:00:00\", \"2019-04-05T00:00:00\", \"2019-04-16T00:00:00\", \"2019-05-27T00:00:00\", \"2019-06-03T00:00:00\", \"2019-06-10T00:00:00\", \"2019-06-17T00:00:00\", \"2019-06-25T00:00:00\", \"2019-06-28T00:00:00\", \"2019-08-07T00:00:00\", \"2019-08-19T00:00:00\", \"2019-08-26T00:00:00\", \"2019-09-05T00:00:00\", \"2019-10-17T00:00:00\", \"2019-11-01T00:00:00\", \"2019-11-13T00:00:00\", \"2019-12-05T00:00:00\", \"2019-12-10T00:00:00\", \"2019-12-26T00:00:00\", \"2019-12-31T00:00:00\"], \"xaxis\": \"x2\", \"y\": [1.21, 1.21, 1.21, 1.21, 1.21, 1.21, 1.21, 1.21, 1.21, 1.21, 1.21, 1.21, 1.21, 1.21, 1.21, 1.21, 1.21, 1.21, 1.21, 1.21, 1.21, 1.21, 1.21, 1.21, 1.21, 1.21, 1.21, 1.21], \"yaxis\": \"y2\"}, {\"line\": {\"color\": \"#FF5733\"}, \"name\": \"Nominal J\", \"type\": \"scatter\", \"x\": [\"2019-01-11T00:00:00\", \"2019-01-22T00:00:00\", \"2019-01-26T00:00:00\", \"2019-01-31T00:00:00\", \"2019-02-11T00:00:00\", \"2019-02-22T00:00:00\", \"2019-02-27T00:00:00\", \"2019-03-07T00:00:00\", \"2019-03-15T00:00:00\", \"2019-04-05T00:00:00\", \"2019-04-16T00:00:00\", \"2019-05-27T00:00:00\", \"2019-06-03T00:00:00\", \"2019-06-10T00:00:00\", \"2019-06-17T00:00:00\", \"2019-06-25T00:00:00\", \"2019-06-28T00:00:00\", \"2019-08-07T00:00:00\", \"2019-08-19T00:00:00\", \"2019-08-26T00:00:00\", \"2019-09-05T00:00:00\", \"2019-10-17T00:00:00\", \"2019-11-01T00:00:00\", \"2019-11-13T00:00:00\", \"2019-12-05T00:00:00\", \"2019-12-10T00:00:00\", \"2019-12-26T00:00:00\", \"2019-12-31T00:00:00\"], \"xaxis\": \"x2\", \"y\": [1.21, 1.21, 1.21, 1.21, 1.21, 1.21, 1.21, 1.21, 1.21, 1.21, 1.21, 1.21, 1.21, 1.21, 1.21, 1.21, 1.21, 1.21, 1.21, 1.21, 1.21, 1.21, 1.21, 1.21, 1.21, 1.21, 1.21, 1.21], \"yaxis\": \"y2\"}, {\"line\": {\"color\": \"#33C2FF\"}, \"name\": \"UCL J\", \"type\": \"scatter\", \"x\": [\"2019-01-11T00:00:00\", \"2019-01-22T00:00:00\", \"2019-01-26T00:00:00\", \"2019-01-31T00:00:00\", \"2019-02-11T00:00:00\", \"2019-02-22T00:00:00\", \"2019-02-27T00:00:00\", \"2019-03-07T00:00:00\", \"2019-03-15T00:00:00\", \"2019-04-05T00:00:00\", \"2019-04-16T00:00:00\", \"2019-05-27T00:00:00\", \"2019-06-03T00:00:00\", \"2019-06-10T00:00:00\", \"2019-06-17T00:00:00\", \"2019-06-25T00:00:00\", \"2019-06-28T00:00:00\", \"2019-08-07T00:00:00\", \"2019-08-19T00:00:00\", \"2019-08-26T00:00:00\", \"2019-09-05T00:00:00\", \"2019-10-17T00:00:00\", \"2019-11-01T00:00:00\", \"2019-11-13T00:00:00\", \"2019-12-05T00:00:00\", \"2019-12-10T00:00:00\", \"2019-12-26T00:00:00\", \"2019-12-31T00:00:00\"], \"xaxis\": \"x2\", \"y\": [1.222, 1.222, 1.222, 1.222, 1.222, 1.222, 1.222, 1.222, 1.222, 1.222, 1.222, 1.222, 1.222, 1.222, 1.222, 1.222, 1.222, 1.222, 1.222, 1.222, 1.222, 1.222, 1.222, 1.222, 1.222, 1.222, 1.222, 1.222], \"yaxis\": \"y2\"}, {\"line\": {\"color\": \"#33C2FF\"}, \"name\": \"LCL J\", \"type\": \"scatter\", \"x\": [\"2019-01-11T00:00:00\", \"2019-01-22T00:00:00\", \"2019-01-26T00:00:00\", \"2019-01-31T00:00:00\", \"2019-02-11T00:00:00\", \"2019-02-22T00:00:00\", \"2019-02-27T00:00:00\", \"2019-03-07T00:00:00\", \"2019-03-15T00:00:00\", \"2019-04-05T00:00:00\", \"2019-04-16T00:00:00\", \"2019-05-27T00:00:00\", \"2019-06-03T00:00:00\", \"2019-06-10T00:00:00\", \"2019-06-17T00:00:00\", \"2019-06-25T00:00:00\", \"2019-06-28T00:00:00\", \"2019-08-07T00:00:00\", \"2019-08-19T00:00:00\", \"2019-08-26T00:00:00\", \"2019-09-05T00:00:00\", \"2019-10-17T00:00:00\", \"2019-11-01T00:00:00\", \"2019-11-13T00:00:00\", \"2019-12-05T00:00:00\", \"2019-12-10T00:00:00\", \"2019-12-26T00:00:00\", \"2019-12-31T00:00:00\"], \"xaxis\": \"x2\", \"y\": [1.216, 1.216, 1.216, 1.216, 1.216, 1.216, 1.216, 1.216, 1.216, 1.216, 1.216, 1.216, 1.216, 1.216, 1.216, 1.216, 1.216, 1.216, 1.216, 1.216, 1.216, 1.216, 1.216, 1.216, 1.216, 1.216, 1.216, 1.216], \"yaxis\": \"y2\"}, {\"line\": {\"color\": \"#33C2FF\"}, \"name\": \"mean J\", \"type\": \"scatter\", \"x\": [\"2019-01-11T00:00:00\", \"2019-01-22T00:00:00\", \"2019-01-26T00:00:00\", \"2019-01-31T00:00:00\", \"2019-02-11T00:00:00\", \"2019-02-22T00:00:00\", \"2019-02-27T00:00:00\", \"2019-03-07T00:00:00\", \"2019-03-15T00:00:00\", \"2019-04-05T00:00:00\", \"2019-04-16T00:00:00\", \"2019-05-27T00:00:00\", \"2019-06-03T00:00:00\", \"2019-06-10T00:00:00\", \"2019-06-17T00:00:00\", \"2019-06-25T00:00:00\", \"2019-06-28T00:00:00\", \"2019-08-07T00:00:00\", \"2019-08-19T00:00:00\", \"2019-08-26T00:00:00\", \"2019-09-05T00:00:00\", \"2019-10-17T00:00:00\", \"2019-11-01T00:00:00\", \"2019-11-13T00:00:00\", \"2019-12-05T00:00:00\", \"2019-12-10T00:00:00\", \"2019-12-26T00:00:00\", \"2019-12-31T00:00:00\"], \"xaxis\": \"x2\", \"y\": [1.219, 1.219, 1.219, 1.219, 1.219, 1.219, 1.219, 1.219, 1.219, 1.219, 1.219, 1.219, 1.219, 1.219, 1.219, 1.219, 1.219, 1.219, 1.219, 1.219, 1.219, 1.219, 1.219, 1.219, 1.219, 1.219, 1.219, 1.219], \"yaxis\": \"y2\"}, {\"line\": {\"color\": \"#060891\"}, \"mode\": \"lines+markers\", \"name\": \"mean predict J\", \"type\": \"scatter\", \"x\": [\"2020-01-05T00:00:00\", \"2020-01-12T00:00:00\", \"2020-01-19T00:00:00\", \"2020-01-26T00:00:00\", \"2020-02-02T00:00:00\", \"2020-02-09T00:00:00\", \"2020-02-16T00:00:00\", \"2020-02-23T00:00:00\", \"2020-03-01T00:00:00\", \"2020-03-08T00:00:00\"], \"xaxis\": \"x2\", \"y\": [1.218042522639181, 1.218024021024906, 1.2180055194106312, 1.2179870177963563, 1.2179685161820815, 1.2179500145678066, 1.2179315129535317, 1.217913011339257, 1.217894509724982, 1.2178760081107072], \"yaxis\": \"y2\"}, {\"line\": {\"color\": \"#FF5733\"}, \"mode\": \"lines\", \"name\": \"USL J\", \"type\": \"scatter\", \"x\": [\"2020-01-05T00:00:00\", \"2020-01-12T00:00:00\", \"2020-01-19T00:00:00\", \"2020-01-26T00:00:00\", \"2020-02-02T00:00:00\", \"2020-02-09T00:00:00\", \"2020-02-16T00:00:00\", \"2020-02-23T00:00:00\", \"2020-03-01T00:00:00\", \"2020-03-08T00:00:00\"], \"xaxis\": \"x2\", \"y\": [1.22, 1.22, 1.22, 1.22, 1.22, 1.22, 1.22, 1.22, 1.22, 1.22], \"yaxis\": \"y2\"}, {\"line\": {\"color\": \"#FF5733\"}, \"mode\": \"lines\", \"name\": \"LSL J\", \"type\": \"scatter\", \"x\": [\"2020-01-05T00:00:00\", \"2020-01-12T00:00:00\", \"2020-01-19T00:00:00\", \"2020-01-26T00:00:00\", \"2020-02-02T00:00:00\", \"2020-02-09T00:00:00\", \"2020-02-16T00:00:00\", \"2020-02-23T00:00:00\", \"2020-03-01T00:00:00\", \"2020-03-08T00:00:00\"], \"xaxis\": \"x2\", \"y\": [1.21, 1.21, 1.21, 1.21, 1.21, 1.21, 1.21, 1.21, 1.21, 1.21], \"yaxis\": \"y2\"}, {\"line\": {\"color\": \"#FF5733\"}, \"mode\": \"lines\", \"name\": \"Nominal J\", \"type\": \"scatter\", \"x\": [\"2020-01-05T00:00:00\", \"2020-01-12T00:00:00\", \"2020-01-19T00:00:00\", \"2020-01-26T00:00:00\", \"2020-02-02T00:00:00\", \"2020-02-09T00:00:00\", \"2020-02-16T00:00:00\", \"2020-02-23T00:00:00\", \"2020-03-01T00:00:00\", \"2020-03-08T00:00:00\"], \"xaxis\": \"x2\", \"y\": [1.21, 1.21, 1.21, 1.21, 1.21, 1.21, 1.21, 1.21, 1.21, 1.21], \"yaxis\": \"y2\"}, {\"line\": {\"color\": \"#33C2FF\"}, \"mode\": \"lines\", \"name\": \"UCL J\", \"type\": \"scatter\", \"x\": [\"2020-01-05T00:00:00\", \"2020-01-12T00:00:00\", \"2020-01-19T00:00:00\", \"2020-01-26T00:00:00\", \"2020-02-02T00:00:00\", \"2020-02-09T00:00:00\", \"2020-02-16T00:00:00\", \"2020-02-23T00:00:00\", \"2020-03-01T00:00:00\", \"2020-03-08T00:00:00\"], \"xaxis\": \"x2\", \"y\": [1.2220844939363658, 1.2220844939363658, 1.2220844939363658, 1.2220844939363658, 1.2220844939363658, 1.2220844939363658, 1.2220844939363658, 1.2220844939363658, 1.2220844939363658, 1.2220844939363658], \"yaxis\": \"y2\"}, {\"line\": {\"color\": \"#33C2FF\"}, \"mode\": \"lines\", \"name\": \"LCL J\", \"type\": \"scatter\", \"x\": [\"2020-01-05T00:00:00\", \"2020-01-12T00:00:00\", \"2020-01-19T00:00:00\", \"2020-01-26T00:00:00\", \"2020-02-02T00:00:00\", \"2020-02-09T00:00:00\", \"2020-02-16T00:00:00\", \"2020-02-23T00:00:00\", \"2020-03-01T00:00:00\", \"2020-03-08T00:00:00\"], \"xaxis\": \"x2\", \"y\": [1.2163440774922059, 1.2163440774922059, 1.2163440774922059, 1.2163440774922059, 1.2163440774922059, 1.2163440774922059, 1.2163440774922059, 1.2163440774922059, 1.2163440774922059, 1.2163440774922059], \"yaxis\": \"y2\"}, {\"line\": {\"color\": \"#33C2FF\"}, \"mode\": \"lines\", \"name\": \"mean J\", \"type\": \"scatter\", \"x\": [\"2020-01-05T00:00:00\", \"2020-01-12T00:00:00\", \"2020-01-19T00:00:00\", \"2020-01-26T00:00:00\", \"2020-02-02T00:00:00\", \"2020-02-09T00:00:00\", \"2020-02-16T00:00:00\", \"2020-02-23T00:00:00\", \"2020-03-01T00:00:00\", \"2020-03-08T00:00:00\"], \"xaxis\": \"x2\", \"y\": [1.2192142857142858, 1.2192142857142858, 1.2192142857142858, 1.2192142857142858, 1.2192142857142858, 1.2192142857142858, 1.2192142857142858, 1.2192142857142858, 1.2192142857142858, 1.2192142857142858], \"yaxis\": \"y2\"}, {\"line\": {\"color\": \"#9FA0F8\"}, \"mode\": \"lines\", \"name\": \"yhat_upper J\", \"type\": \"scatter\", \"x\": [\"2020-01-05T00:00:00\", \"2020-01-12T00:00:00\", \"2020-01-19T00:00:00\", \"2020-01-26T00:00:00\", \"2020-02-02T00:00:00\", \"2020-02-09T00:00:00\", \"2020-02-16T00:00:00\", \"2020-02-23T00:00:00\", \"2020-03-01T00:00:00\", \"2020-03-08T00:00:00\"], \"xaxis\": \"x2\", \"y\": [1.2192978922326947, 1.219748027788914, 1.2200956021430536, 1.2203879951670111, 1.2206445092389524, 1.220875281281535, 1.2210864189509385, 1.221281939708709, 1.2214646532605453, 1.2216366159565946], \"yaxis\": \"y2\"}, {\"fill\": \"tonexty\", \"line\": {\"color\": \"#9FA0F8\"}, \"mode\": \"lines\", \"name\": \"yhat_lower J\", \"type\": \"scatter\", \"x\": [\"2020-01-05T00:00:00\", \"2020-01-12T00:00:00\", \"2020-01-19T00:00:00\", \"2020-01-26T00:00:00\", \"2020-02-02T00:00:00\", \"2020-02-09T00:00:00\", \"2020-02-16T00:00:00\", \"2020-02-23T00:00:00\", \"2020-03-01T00:00:00\", \"2020-03-08T00:00:00\"], \"xaxis\": \"x2\", \"y\": [1.216787153045667, 1.2163000142608982, 1.2159154366782088, 1.2155860404257015, 1.2152925231252105, 1.215024747854078, 1.214776606956125, 1.2145440829698049, 1.2143243661894187, 1.2141154002648198], \"yaxis\": \"y2\"}, {\"line\": {\"color\": \"#4280F5\"}, \"mode\": \"lines+markers\", \"name\": \"mean I\", \"type\": \"scatter\", \"x\": [\"2019-01-11T00:00:00\", \"2019-01-22T00:00:00\", \"2019-01-26T00:00:00\", \"2019-01-31T00:00:00\", \"2019-02-11T00:00:00\", \"2019-02-22T00:00:00\", \"2019-02-27T00:00:00\", \"2019-03-07T00:00:00\", \"2019-03-15T00:00:00\", \"2019-04-05T00:00:00\", \"2019-04-16T00:00:00\", \"2019-05-27T00:00:00\", \"2019-06-03T00:00:00\", \"2019-06-10T00:00:00\", \"2019-06-17T00:00:00\", \"2019-06-25T00:00:00\", \"2019-06-28T00:00:00\", \"2019-08-07T00:00:00\", \"2019-08-19T00:00:00\", \"2019-08-26T00:00:00\", \"2019-09-05T00:00:00\", \"2019-10-17T00:00:00\", \"2019-11-01T00:00:00\", \"2019-11-13T00:00:00\", \"2019-12-05T00:00:00\", \"2019-12-10T00:00:00\", \"2019-12-26T00:00:00\", \"2019-12-31T00:00:00\"], \"xaxis\": \"x3\", \"y\": [3.194, 3.199, 3.2, 3.196, 3.195, 3.198, 3.195, 3.195, 3.199, 3.2, 3.2, 3.199, 3.2, 3.204, 3.197, 3.195, 3.2, 3.201, 3.201, 3.2, 3.201, 3.198, 3.198, 3.197, 3.199, 3.2, 3.202, 3.201], \"yaxis\": \"y3\"}, {\"line\": {\"color\": \"#FF5733\"}, \"name\": \"USL I\", \"type\": \"scatter\", \"x\": [\"2019-01-11T00:00:00\", \"2019-01-22T00:00:00\", \"2019-01-26T00:00:00\", \"2019-01-31T00:00:00\", \"2019-02-11T00:00:00\", \"2019-02-22T00:00:00\", \"2019-02-27T00:00:00\", \"2019-03-07T00:00:00\", \"2019-03-15T00:00:00\", \"2019-04-05T00:00:00\", \"2019-04-16T00:00:00\", \"2019-05-27T00:00:00\", \"2019-06-03T00:00:00\", \"2019-06-10T00:00:00\", \"2019-06-17T00:00:00\", \"2019-06-25T00:00:00\", \"2019-06-28T00:00:00\", \"2019-08-07T00:00:00\", \"2019-08-19T00:00:00\", \"2019-08-26T00:00:00\", \"2019-09-05T00:00:00\", \"2019-10-17T00:00:00\", \"2019-11-01T00:00:00\", \"2019-11-13T00:00:00\", \"2019-12-05T00:00:00\", \"2019-12-10T00:00:00\", \"2019-12-26T00:00:00\", \"2019-12-31T00:00:00\"], \"xaxis\": \"x3\", \"y\": [3.21, 3.21, 3.21, 3.21, 3.21, 3.21, 3.21, 3.21, 3.21, 3.21, 3.21, 3.21, 3.21, 3.21, 3.21, 3.21, 3.21, 3.21, 3.21, 3.21, 3.21, 3.21, 3.21, 3.21, 3.21, 3.21, 3.21, 3.21], \"yaxis\": \"y3\"}, {\"line\": {\"color\": \"#FF5733\"}, \"name\": \"LSL I\", \"type\": \"scatter\", \"x\": [\"2019-01-11T00:00:00\", \"2019-01-22T00:00:00\", \"2019-01-26T00:00:00\", \"2019-01-31T00:00:00\", \"2019-02-11T00:00:00\", \"2019-02-22T00:00:00\", \"2019-02-27T00:00:00\", \"2019-03-07T00:00:00\", \"2019-03-15T00:00:00\", \"2019-04-05T00:00:00\", \"2019-04-16T00:00:00\", \"2019-05-27T00:00:00\", \"2019-06-03T00:00:00\", \"2019-06-10T00:00:00\", \"2019-06-17T00:00:00\", \"2019-06-25T00:00:00\", \"2019-06-28T00:00:00\", \"2019-08-07T00:00:00\", \"2019-08-19T00:00:00\", \"2019-08-26T00:00:00\", \"2019-09-05T00:00:00\", \"2019-10-17T00:00:00\", \"2019-11-01T00:00:00\", \"2019-11-13T00:00:00\", \"2019-12-05T00:00:00\", \"2019-12-10T00:00:00\", \"2019-12-26T00:00:00\", \"2019-12-31T00:00:00\"], \"xaxis\": \"x3\", \"y\": [3.19, 3.19, 3.19, 3.19, 3.19, 3.19, 3.19, 3.19, 3.19, 3.19, 3.19, 3.19, 3.19, 3.19, 3.19, 3.19, 3.19, 3.19, 3.19, 3.19, 3.19, 3.19, 3.19, 3.19, 3.19, 3.19, 3.19, 3.19], \"yaxis\": \"y3\"}, {\"line\": {\"color\": \"#FF5733\"}, \"name\": \"Nominal I\", \"type\": \"scatter\", \"x\": [\"2019-01-11T00:00:00\", \"2019-01-22T00:00:00\", \"2019-01-26T00:00:00\", \"2019-01-31T00:00:00\", \"2019-02-11T00:00:00\", \"2019-02-22T00:00:00\", \"2019-02-27T00:00:00\", \"2019-03-07T00:00:00\", \"2019-03-15T00:00:00\", \"2019-04-05T00:00:00\", \"2019-04-16T00:00:00\", \"2019-05-27T00:00:00\", \"2019-06-03T00:00:00\", \"2019-06-10T00:00:00\", \"2019-06-17T00:00:00\", \"2019-06-25T00:00:00\", \"2019-06-28T00:00:00\", \"2019-08-07T00:00:00\", \"2019-08-19T00:00:00\", \"2019-08-26T00:00:00\", \"2019-09-05T00:00:00\", \"2019-10-17T00:00:00\", \"2019-11-01T00:00:00\", \"2019-11-13T00:00:00\", \"2019-12-05T00:00:00\", \"2019-12-10T00:00:00\", \"2019-12-26T00:00:00\", \"2019-12-31T00:00:00\"], \"xaxis\": \"x3\", \"y\": [3.2, 3.2, 3.2, 3.2, 3.2, 3.2, 3.2, 3.2, 3.2, 3.2, 3.2, 3.2, 3.2, 3.2, 3.2, 3.2, 3.2, 3.2, 3.2, 3.2, 3.2, 3.2, 3.2, 3.2, 3.2, 3.2, 3.2, 3.2], \"yaxis\": \"y3\"}, {\"line\": {\"color\": \"#33C2FF\"}, \"name\": \"UCL I\", \"type\": \"scatter\", \"x\": [\"2019-01-11T00:00:00\", \"2019-01-22T00:00:00\", \"2019-01-26T00:00:00\", \"2019-01-31T00:00:00\", \"2019-02-11T00:00:00\", \"2019-02-22T00:00:00\", \"2019-02-27T00:00:00\", \"2019-03-07T00:00:00\", \"2019-03-15T00:00:00\", \"2019-04-05T00:00:00\", \"2019-04-16T00:00:00\", \"2019-05-27T00:00:00\", \"2019-06-03T00:00:00\", \"2019-06-10T00:00:00\", \"2019-06-17T00:00:00\", \"2019-06-25T00:00:00\", \"2019-06-28T00:00:00\", \"2019-08-07T00:00:00\", \"2019-08-19T00:00:00\", \"2019-08-26T00:00:00\", \"2019-09-05T00:00:00\", \"2019-10-17T00:00:00\", \"2019-11-01T00:00:00\", \"2019-11-13T00:00:00\", \"2019-12-05T00:00:00\", \"2019-12-10T00:00:00\", \"2019-12-26T00:00:00\", \"2019-12-31T00:00:00\"], \"xaxis\": \"x3\", \"y\": [3.206, 3.206, 3.206, 3.206, 3.206, 3.206, 3.206, 3.206, 3.206, 3.206, 3.206, 3.206, 3.206, 3.206, 3.206, 3.206, 3.206, 3.206, 3.206, 3.206, 3.206, 3.206, 3.206, 3.206, 3.206, 3.206, 3.206, 3.206], \"yaxis\": \"y3\"}, {\"line\": {\"color\": \"#33C2FF\"}, \"name\": \"LCL I\", \"type\": \"scatter\", \"x\": [\"2019-01-11T00:00:00\", \"2019-01-22T00:00:00\", \"2019-01-26T00:00:00\", \"2019-01-31T00:00:00\", \"2019-02-11T00:00:00\", \"2019-02-22T00:00:00\", \"2019-02-27T00:00:00\", \"2019-03-07T00:00:00\", \"2019-03-15T00:00:00\", \"2019-04-05T00:00:00\", \"2019-04-16T00:00:00\", \"2019-05-27T00:00:00\", \"2019-06-03T00:00:00\", \"2019-06-10T00:00:00\", \"2019-06-17T00:00:00\", \"2019-06-25T00:00:00\", \"2019-06-28T00:00:00\", \"2019-08-07T00:00:00\", \"2019-08-19T00:00:00\", \"2019-08-26T00:00:00\", \"2019-09-05T00:00:00\", \"2019-10-17T00:00:00\", \"2019-11-01T00:00:00\", \"2019-11-13T00:00:00\", \"2019-12-05T00:00:00\", \"2019-12-10T00:00:00\", \"2019-12-26T00:00:00\", \"2019-12-31T00:00:00\"], \"xaxis\": \"x3\", \"y\": [3.191, 3.191, 3.191, 3.191, 3.191, 3.191, 3.191, 3.191, 3.191, 3.191, 3.191, 3.191, 3.191, 3.191, 3.191, 3.191, 3.191, 3.191, 3.191, 3.191, 3.191, 3.191, 3.191, 3.191, 3.191, 3.191, 3.191, 3.191], \"yaxis\": \"y3\"}, {\"line\": {\"color\": \"#33C2FF\"}, \"name\": \"mean I\", \"type\": \"scatter\", \"x\": [\"2019-01-11T00:00:00\", \"2019-01-22T00:00:00\", \"2019-01-26T00:00:00\", \"2019-01-31T00:00:00\", \"2019-02-11T00:00:00\", \"2019-02-22T00:00:00\", \"2019-02-27T00:00:00\", \"2019-03-07T00:00:00\", \"2019-03-15T00:00:00\", \"2019-04-05T00:00:00\", \"2019-04-16T00:00:00\", \"2019-05-27T00:00:00\", \"2019-06-03T00:00:00\", \"2019-06-10T00:00:00\", \"2019-06-17T00:00:00\", \"2019-06-25T00:00:00\", \"2019-06-28T00:00:00\", \"2019-08-07T00:00:00\", \"2019-08-19T00:00:00\", \"2019-08-26T00:00:00\", \"2019-09-05T00:00:00\", \"2019-10-17T00:00:00\", \"2019-11-01T00:00:00\", \"2019-11-13T00:00:00\", \"2019-12-05T00:00:00\", \"2019-12-10T00:00:00\", \"2019-12-26T00:00:00\", \"2019-12-31T00:00:00\"], \"xaxis\": \"x3\", \"y\": [3.199, 3.199, 3.199, 3.199, 3.199, 3.199, 3.199, 3.199, 3.199, 3.199, 3.199, 3.199, 3.199, 3.199, 3.199, 3.199, 3.199, 3.199, 3.199, 3.199, 3.199, 3.199, 3.199, 3.199, 3.199, 3.199, 3.199, 3.199], \"yaxis\": \"y3\"}, {\"line\": {\"color\": \"#060891\"}, \"mode\": \"lines+markers\", \"name\": \"mean predict I\", \"type\": \"scatter\", \"x\": [\"2020-01-05T00:00:00\", \"2020-01-12T00:00:00\", \"2020-01-19T00:00:00\", \"2020-01-26T00:00:00\", \"2020-02-02T00:00:00\", \"2020-02-09T00:00:00\", \"2020-02-16T00:00:00\", \"2020-02-23T00:00:00\", \"2020-03-01T00:00:00\", \"2020-03-08T00:00:00\"], \"xaxis\": \"x3\", \"y\": [3.2009798271475933, 3.201093642700094, 3.201207458252595, 3.201321273805096, 3.201435089357597, 3.201548904910098, 3.2016627204625987, 3.2017765360150996, 3.2018903515676005, 3.2020041671201014], \"yaxis\": \"y3\"}, {\"line\": {\"color\": \"#FF5733\"}, \"mode\": \"lines\", \"name\": \"USL I\", \"type\": \"scatter\", \"x\": [\"2020-01-05T00:00:00\", \"2020-01-12T00:00:00\", \"2020-01-19T00:00:00\", \"2020-01-26T00:00:00\", \"2020-02-02T00:00:00\", \"2020-02-09T00:00:00\", \"2020-02-16T00:00:00\", \"2020-02-23T00:00:00\", \"2020-03-01T00:00:00\", \"2020-03-08T00:00:00\"], \"xaxis\": \"x3\", \"y\": [3.21, 3.21, 3.21, 3.21, 3.21, 3.21, 3.21, 3.21, 3.21, 3.21], \"yaxis\": \"y3\"}, {\"line\": {\"color\": \"#FF5733\"}, \"mode\": \"lines\", \"name\": \"LSL I\", \"type\": \"scatter\", \"x\": [\"2020-01-05T00:00:00\", \"2020-01-12T00:00:00\", \"2020-01-19T00:00:00\", \"2020-01-26T00:00:00\", \"2020-02-02T00:00:00\", \"2020-02-09T00:00:00\", \"2020-02-16T00:00:00\", \"2020-02-23T00:00:00\", \"2020-03-01T00:00:00\", \"2020-03-08T00:00:00\"], \"xaxis\": \"x3\", \"y\": [3.1900000000000004, 3.1900000000000004, 3.1900000000000004, 3.1900000000000004, 3.1900000000000004, 3.1900000000000004, 3.1900000000000004, 3.1900000000000004, 3.1900000000000004, 3.1900000000000004], \"yaxis\": \"y3\"}, {\"line\": {\"color\": \"#FF5733\"}, \"mode\": \"lines\", \"name\": \"Nominal I\", \"type\": \"scatter\", \"x\": [\"2020-01-05T00:00:00\", \"2020-01-12T00:00:00\", \"2020-01-19T00:00:00\", \"2020-01-26T00:00:00\", \"2020-02-02T00:00:00\", \"2020-02-09T00:00:00\", \"2020-02-16T00:00:00\", \"2020-02-23T00:00:00\", \"2020-03-01T00:00:00\", \"2020-03-08T00:00:00\"], \"xaxis\": \"x3\", \"y\": [3.2, 3.2, 3.2, 3.2, 3.2, 3.2, 3.2, 3.2, 3.2, 3.2], \"yaxis\": \"y3\"}, {\"line\": {\"color\": \"#33C2FF\"}, \"mode\": \"lines\", \"name\": \"UCL I\", \"type\": \"scatter\", \"x\": [\"2020-01-05T00:00:00\", \"2020-01-12T00:00:00\", \"2020-01-19T00:00:00\", \"2020-01-26T00:00:00\", \"2020-02-02T00:00:00\", \"2020-02-09T00:00:00\", \"2020-02-16T00:00:00\", \"2020-02-23T00:00:00\", \"2020-03-01T00:00:00\", \"2020-03-08T00:00:00\"], \"xaxis\": \"x3\", \"y\": [3.2061015334136274, 3.2061015334136274, 3.2061015334136274, 3.2061015334136274, 3.2061015334136274, 3.2061015334136274, 3.2061015334136274, 3.2061015334136274, 3.2061015334136274, 3.2061015334136274], \"yaxis\": \"y3\"}, {\"line\": {\"color\": \"#33C2FF\"}, \"mode\": \"lines\", \"name\": \"LCL I\", \"type\": \"scatter\", \"x\": [\"2020-01-05T00:00:00\", \"2020-01-12T00:00:00\", \"2020-01-19T00:00:00\", \"2020-01-26T00:00:00\", \"2020-02-02T00:00:00\", \"2020-02-09T00:00:00\", \"2020-02-16T00:00:00\", \"2020-02-23T00:00:00\", \"2020-03-01T00:00:00\", \"2020-03-08T00:00:00\"], \"xaxis\": \"x3\", \"y\": [3.1913270380149434, 3.1913270380149434, 3.1913270380149434, 3.1913270380149434, 3.1913270380149434, 3.1913270380149434, 3.1913270380149434, 3.1913270380149434, 3.1913270380149434, 3.1913270380149434], \"yaxis\": \"y3\"}, {\"line\": {\"color\": \"#33C2FF\"}, \"mode\": \"lines\", \"name\": \"mean I\", \"type\": \"scatter\", \"x\": [\"2020-01-05T00:00:00\", \"2020-01-12T00:00:00\", \"2020-01-19T00:00:00\", \"2020-01-26T00:00:00\", \"2020-02-02T00:00:00\", \"2020-02-09T00:00:00\", \"2020-02-16T00:00:00\", \"2020-02-23T00:00:00\", \"2020-03-01T00:00:00\", \"2020-03-08T00:00:00\"], \"xaxis\": \"x3\", \"y\": [3.1987142857142854, 3.1987142857142854, 3.1987142857142854, 3.1987142857142854, 3.1987142857142854, 3.1987142857142854, 3.1987142857142854, 3.1987142857142854, 3.1987142857142854, 3.1987142857142854], \"yaxis\": \"y3\"}, {\"line\": {\"color\": \"#9FA0F8\"}, \"mode\": \"lines\", \"name\": \"yhat_upper I\", \"type\": \"scatter\", \"x\": [\"2020-01-05T00:00:00\", \"2020-01-12T00:00:00\", \"2020-01-19T00:00:00\", \"2020-01-26T00:00:00\", \"2020-02-02T00:00:00\", \"2020-02-09T00:00:00\", \"2020-02-16T00:00:00\", \"2020-02-23T00:00:00\", \"2020-03-01T00:00:00\", \"2020-03-08T00:00:00\"], \"xaxis\": \"x3\", \"y\": [3.204187535249926, 3.204588877635244, 3.2049683016731603, 3.205330166322504, 3.2056775526984223, 3.206012734116101, 3.2063374447499218, 3.2066530432840996, 3.206960617746681, 3.2072610554686256], \"yaxis\": \"y3\"}, {\"fill\": \"tonexty\", \"line\": {\"color\": \"#9FA0F8\"}, \"mode\": \"lines\", \"name\": \"yhat_lower I\", \"type\": \"scatter\", \"x\": [\"2020-01-05T00:00:00\", \"2020-01-12T00:00:00\", \"2020-01-19T00:00:00\", \"2020-01-26T00:00:00\", \"2020-02-02T00:00:00\", \"2020-02-09T00:00:00\", \"2020-02-16T00:00:00\", \"2020-02-23T00:00:00\", \"2020-03-01T00:00:00\", \"2020-03-08T00:00:00\"], \"xaxis\": \"x3\", \"y\": [3.197772119045261, 3.1975984077649446, 3.19744661483203, 3.1973123812876882, 3.1971926260167716, 3.1970850757040945, 3.1969879961752756, 3.1969000287460996, 3.19682008538852, 3.196747278771577], \"yaxis\": \"y3\"}, {\"line\": {\"color\": \"#4280F5\"}, \"mode\": \"lines+markers\", \"name\": \"mean O\", \"type\": \"scatter\", \"x\": [\"2019-01-11T00:00:00\", \"2019-01-22T00:00:00\", \"2019-01-26T00:00:00\", \"2019-01-31T00:00:00\", \"2019-02-11T00:00:00\", \"2019-02-22T00:00:00\", \"2019-02-27T00:00:00\", \"2019-03-07T00:00:00\", \"2019-03-15T00:00:00\", \"2019-04-05T00:00:00\", \"2019-04-16T00:00:00\", \"2019-05-27T00:00:00\", \"2019-06-03T00:00:00\", \"2019-06-10T00:00:00\", \"2019-06-17T00:00:00\", \"2019-06-25T00:00:00\", \"2019-06-28T00:00:00\", \"2019-08-07T00:00:00\", \"2019-08-19T00:00:00\", \"2019-08-26T00:00:00\", \"2019-09-05T00:00:00\", \"2019-10-17T00:00:00\", \"2019-11-01T00:00:00\", \"2019-11-13T00:00:00\", \"2019-12-05T00:00:00\", \"2019-12-10T00:00:00\", \"2019-12-26T00:00:00\", \"2019-12-31T00:00:00\"], \"xaxis\": \"x4\", \"y\": [11.853, 11.852, 11.853, 11.855, 11.854, 11.852, 11.855, 11.857, 11.853, 11.856, 11.853, 11.853, 11.852, 11.856, 11.859, 11.86, 11.856, 11.851, 11.849, 11.85, 11.856, 11.849, 11.849, 11.851, 11.849, 11.852, 11.849, 11.848], \"yaxis\": \"y4\"}, {\"line\": {\"color\": \"#FF5733\"}, \"name\": \"USL O\", \"type\": \"scatter\", \"x\": [\"2019-01-11T00:00:00\", \"2019-01-22T00:00:00\", \"2019-01-26T00:00:00\", \"2019-01-31T00:00:00\", \"2019-02-11T00:00:00\", \"2019-02-22T00:00:00\", \"2019-02-27T00:00:00\", \"2019-03-07T00:00:00\", \"2019-03-15T00:00:00\", \"2019-04-05T00:00:00\", \"2019-04-16T00:00:00\", \"2019-05-27T00:00:00\", \"2019-06-03T00:00:00\", \"2019-06-10T00:00:00\", \"2019-06-17T00:00:00\", \"2019-06-25T00:00:00\", \"2019-06-28T00:00:00\", \"2019-08-07T00:00:00\", \"2019-08-19T00:00:00\", \"2019-08-26T00:00:00\", \"2019-09-05T00:00:00\", \"2019-10-17T00:00:00\", \"2019-11-01T00:00:00\", \"2019-11-13T00:00:00\", \"2019-12-05T00:00:00\", \"2019-12-10T00:00:00\", \"2019-12-26T00:00:00\", \"2019-12-31T00:00:00\"], \"xaxis\": \"x4\", \"y\": [11.86, 11.86, 11.86, 11.86, 11.86, 11.86, 11.86, 11.86, 11.86, 11.86, 11.86, 11.86, 11.86, 11.86, 11.86, 11.86, 11.86, 11.86, 11.86, 11.86, 11.86, 11.86, 11.86, 11.86, 11.86, 11.86, 11.86, 11.86], \"yaxis\": \"y4\"}, {\"line\": {\"color\": \"#FF5733\"}, \"name\": \"LSL O\", \"type\": \"scatter\", \"x\": [\"2019-01-11T00:00:00\", \"2019-01-22T00:00:00\", \"2019-01-26T00:00:00\", \"2019-01-31T00:00:00\", \"2019-02-11T00:00:00\", \"2019-02-22T00:00:00\", \"2019-02-27T00:00:00\", \"2019-03-07T00:00:00\", \"2019-03-15T00:00:00\", \"2019-04-05T00:00:00\", \"2019-04-16T00:00:00\", \"2019-05-27T00:00:00\", \"2019-06-03T00:00:00\", \"2019-06-10T00:00:00\", \"2019-06-17T00:00:00\", \"2019-06-25T00:00:00\", \"2019-06-28T00:00:00\", \"2019-08-07T00:00:00\", \"2019-08-19T00:00:00\", \"2019-08-26T00:00:00\", \"2019-09-05T00:00:00\", \"2019-10-17T00:00:00\", \"2019-11-01T00:00:00\", \"2019-11-13T00:00:00\", \"2019-12-05T00:00:00\", \"2019-12-10T00:00:00\", \"2019-12-26T00:00:00\", \"2019-12-31T00:00:00\"], \"xaxis\": \"x4\", \"y\": [11.84, 11.84, 11.84, 11.84, 11.84, 11.84, 11.84, 11.84, 11.84, 11.84, 11.84, 11.84, 11.84, 11.84, 11.84, 11.84, 11.84, 11.84, 11.84, 11.84, 11.84, 11.84, 11.84, 11.84, 11.84, 11.84, 11.84, 11.84], \"yaxis\": \"y4\"}, {\"line\": {\"color\": \"#FF5733\"}, \"name\": \"Nominal O\", \"type\": \"scatter\", \"x\": [\"2019-01-11T00:00:00\", \"2019-01-22T00:00:00\", \"2019-01-26T00:00:00\", \"2019-01-31T00:00:00\", \"2019-02-11T00:00:00\", \"2019-02-22T00:00:00\", \"2019-02-27T00:00:00\", \"2019-03-07T00:00:00\", \"2019-03-15T00:00:00\", \"2019-04-05T00:00:00\", \"2019-04-16T00:00:00\", \"2019-05-27T00:00:00\", \"2019-06-03T00:00:00\", \"2019-06-10T00:00:00\", \"2019-06-17T00:00:00\", \"2019-06-25T00:00:00\", \"2019-06-28T00:00:00\", \"2019-08-07T00:00:00\", \"2019-08-19T00:00:00\", \"2019-08-26T00:00:00\", \"2019-09-05T00:00:00\", \"2019-10-17T00:00:00\", \"2019-11-01T00:00:00\", \"2019-11-13T00:00:00\", \"2019-12-05T00:00:00\", \"2019-12-10T00:00:00\", \"2019-12-26T00:00:00\", \"2019-12-31T00:00:00\"], \"xaxis\": \"x4\", \"y\": [11.85, 11.85, 11.85, 11.85, 11.85, 11.85, 11.85, 11.85, 11.85, 11.85, 11.85, 11.85, 11.85, 11.85, 11.85, 11.85, 11.85, 11.85, 11.85, 11.85, 11.85, 11.85, 11.85, 11.85, 11.85, 11.85, 11.85, 11.85], \"yaxis\": \"y4\"}, {\"line\": {\"color\": \"#33C2FF\"}, \"name\": \"UCL O\", \"type\": \"scatter\", \"x\": [\"2019-01-11T00:00:00\", \"2019-01-22T00:00:00\", \"2019-01-26T00:00:00\", \"2019-01-31T00:00:00\", \"2019-02-11T00:00:00\", \"2019-02-22T00:00:00\", \"2019-02-27T00:00:00\", \"2019-03-07T00:00:00\", \"2019-03-15T00:00:00\", \"2019-04-05T00:00:00\", \"2019-04-16T00:00:00\", \"2019-05-27T00:00:00\", \"2019-06-03T00:00:00\", \"2019-06-10T00:00:00\", \"2019-06-17T00:00:00\", \"2019-06-25T00:00:00\", \"2019-06-28T00:00:00\", \"2019-08-07T00:00:00\", \"2019-08-19T00:00:00\", \"2019-08-26T00:00:00\", \"2019-09-05T00:00:00\", \"2019-10-17T00:00:00\", \"2019-11-01T00:00:00\", \"2019-11-13T00:00:00\", \"2019-12-05T00:00:00\", \"2019-12-10T00:00:00\", \"2019-12-26T00:00:00\", \"2019-12-31T00:00:00\"], \"xaxis\": \"x4\", \"y\": [11.862, 11.862, 11.862, 11.862, 11.862, 11.862, 11.862, 11.862, 11.862, 11.862, 11.862, 11.862, 11.862, 11.862, 11.862, 11.862, 11.862, 11.862, 11.862, 11.862, 11.862, 11.862, 11.862, 11.862, 11.862, 11.862, 11.862, 11.862], \"yaxis\": \"y4\"}, {\"line\": {\"color\": \"#33C2FF\"}, \"name\": \"LCL O\", \"type\": \"scatter\", \"x\": [\"2019-01-11T00:00:00\", \"2019-01-22T00:00:00\", \"2019-01-26T00:00:00\", \"2019-01-31T00:00:00\", \"2019-02-11T00:00:00\", \"2019-02-22T00:00:00\", \"2019-02-27T00:00:00\", \"2019-03-07T00:00:00\", \"2019-03-15T00:00:00\", \"2019-04-05T00:00:00\", \"2019-04-16T00:00:00\", \"2019-05-27T00:00:00\", \"2019-06-03T00:00:00\", \"2019-06-10T00:00:00\", \"2019-06-17T00:00:00\", \"2019-06-25T00:00:00\", \"2019-06-28T00:00:00\", \"2019-08-07T00:00:00\", \"2019-08-19T00:00:00\", \"2019-08-26T00:00:00\", \"2019-09-05T00:00:00\", \"2019-10-17T00:00:00\", \"2019-11-01T00:00:00\", \"2019-11-13T00:00:00\", \"2019-12-05T00:00:00\", \"2019-12-10T00:00:00\", \"2019-12-26T00:00:00\", \"2019-12-31T00:00:00\"], \"xaxis\": \"x4\", \"y\": [11.843, 11.843, 11.843, 11.843, 11.843, 11.843, 11.843, 11.843, 11.843, 11.843, 11.843, 11.843, 11.843, 11.843, 11.843, 11.843, 11.843, 11.843, 11.843, 11.843, 11.843, 11.843, 11.843, 11.843, 11.843, 11.843, 11.843, 11.843], \"yaxis\": \"y4\"}, {\"line\": {\"color\": \"#33C2FF\"}, \"name\": \"mean O\", \"type\": \"scatter\", \"x\": [\"2019-01-11T00:00:00\", \"2019-01-22T00:00:00\", \"2019-01-26T00:00:00\", \"2019-01-31T00:00:00\", \"2019-02-11T00:00:00\", \"2019-02-22T00:00:00\", \"2019-02-27T00:00:00\", \"2019-03-07T00:00:00\", \"2019-03-15T00:00:00\", \"2019-04-05T00:00:00\", \"2019-04-16T00:00:00\", \"2019-05-27T00:00:00\", \"2019-06-03T00:00:00\", \"2019-06-10T00:00:00\", \"2019-06-17T00:00:00\", \"2019-06-25T00:00:00\", \"2019-06-28T00:00:00\", \"2019-08-07T00:00:00\", \"2019-08-19T00:00:00\", \"2019-08-26T00:00:00\", \"2019-09-05T00:00:00\", \"2019-10-17T00:00:00\", \"2019-11-01T00:00:00\", \"2019-11-13T00:00:00\", \"2019-12-05T00:00:00\", \"2019-12-10T00:00:00\", \"2019-12-26T00:00:00\", \"2019-12-31T00:00:00\"], \"xaxis\": \"x4\", \"y\": [11.853, 11.853, 11.853, 11.853, 11.853, 11.853, 11.853, 11.853, 11.853, 11.853, 11.853, 11.853, 11.853, 11.853, 11.853, 11.853, 11.853, 11.853, 11.853, 11.853, 11.853, 11.853, 11.853, 11.853, 11.853, 11.853, 11.853, 11.853], \"yaxis\": \"y4\"}, {\"line\": {\"color\": \"#060891\"}, \"mode\": \"lines+markers\", \"name\": \"mean predict O\", \"type\": \"scatter\", \"x\": [\"2020-01-05T00:00:00\", \"2020-01-12T00:00:00\", \"2020-01-19T00:00:00\", \"2020-01-26T00:00:00\", \"2020-02-02T00:00:00\", \"2020-02-09T00:00:00\", \"2020-02-16T00:00:00\", \"2020-02-23T00:00:00\", \"2020-03-01T00:00:00\", \"2020-03-08T00:00:00\"], \"xaxis\": \"x4\", \"y\": [11.84796151139884, 11.847864491524085, 11.84776747164933, 11.847670451774576, 11.847573431899821, 11.847476412025067, 11.847379392150312, 11.847282372275558, 11.847185352400803, 11.847088332526049], \"yaxis\": \"y4\"}, {\"line\": {\"color\": \"#FF5733\"}, \"mode\": \"lines\", \"name\": \"USL O\", \"type\": \"scatter\", \"x\": [\"2020-01-05T00:00:00\", \"2020-01-12T00:00:00\", \"2020-01-19T00:00:00\", \"2020-01-26T00:00:00\", \"2020-02-02T00:00:00\", \"2020-02-09T00:00:00\", \"2020-02-16T00:00:00\", \"2020-02-23T00:00:00\", \"2020-03-01T00:00:00\", \"2020-03-08T00:00:00\"], \"xaxis\": \"x4\", \"y\": [11.86, 11.86, 11.86, 11.86, 11.86, 11.86, 11.86, 11.86, 11.86, 11.86], \"yaxis\": \"y4\"}, {\"line\": {\"color\": \"#FF5733\"}, \"mode\": \"lines\", \"name\": \"LSL O\", \"type\": \"scatter\", \"x\": [\"2020-01-05T00:00:00\", \"2020-01-12T00:00:00\", \"2020-01-19T00:00:00\", \"2020-01-26T00:00:00\", \"2020-02-02T00:00:00\", \"2020-02-09T00:00:00\", \"2020-02-16T00:00:00\", \"2020-02-23T00:00:00\", \"2020-03-01T00:00:00\", \"2020-03-08T00:00:00\"], \"xaxis\": \"x4\", \"y\": [11.84, 11.84, 11.84, 11.84, 11.84, 11.84, 11.84, 11.84, 11.84, 11.84], \"yaxis\": \"y4\"}, {\"line\": {\"color\": \"#FF5733\"}, \"mode\": \"lines\", \"name\": \"Nominal O\", \"type\": \"scatter\", \"x\": [\"2020-01-05T00:00:00\", \"2020-01-12T00:00:00\", \"2020-01-19T00:00:00\", \"2020-01-26T00:00:00\", \"2020-02-02T00:00:00\", \"2020-02-09T00:00:00\", \"2020-02-16T00:00:00\", \"2020-02-23T00:00:00\", \"2020-03-01T00:00:00\", \"2020-03-08T00:00:00\"], \"xaxis\": \"x4\", \"y\": [11.85, 11.85, 11.85, 11.85, 11.85, 11.85, 11.85, 11.85, 11.85, 11.85], \"yaxis\": \"y4\"}, {\"line\": {\"color\": \"#33C2FF\"}, \"mode\": \"lines\", \"name\": \"UCL O\", \"type\": \"scatter\", \"x\": [\"2020-01-05T00:00:00\", \"2020-01-12T00:00:00\", \"2020-01-19T00:00:00\", \"2020-01-26T00:00:00\", \"2020-02-02T00:00:00\", \"2020-02-09T00:00:00\", \"2020-02-16T00:00:00\", \"2020-02-23T00:00:00\", \"2020-03-01T00:00:00\", \"2020-03-08T00:00:00\"], \"xaxis\": \"x4\", \"y\": [11.862447975171401, 11.862447975171401, 11.862447975171401, 11.862447975171401, 11.862447975171401, 11.862447975171401, 11.862447975171401, 11.862447975171401, 11.862447975171401, 11.862447975171401], \"yaxis\": \"y4\"}, {\"line\": {\"color\": \"#33C2FF\"}, \"mode\": \"lines\", \"name\": \"LCL O\", \"type\": \"scatter\", \"x\": [\"2020-01-05T00:00:00\", \"2020-01-12T00:00:00\", \"2020-01-19T00:00:00\", \"2020-01-26T00:00:00\", \"2020-02-02T00:00:00\", \"2020-02-09T00:00:00\", \"2020-02-16T00:00:00\", \"2020-02-23T00:00:00\", \"2020-03-01T00:00:00\", \"2020-03-08T00:00:00\"], \"xaxis\": \"x4\", \"y\": [11.843409167685737, 11.843409167685737, 11.843409167685737, 11.843409167685737, 11.843409167685737, 11.843409167685737, 11.843409167685737, 11.843409167685737, 11.843409167685737, 11.843409167685737], \"yaxis\": \"y4\"}, {\"line\": {\"color\": \"#33C2FF\"}, \"mode\": \"lines\", \"name\": \"mean O\", \"type\": \"scatter\", \"x\": [\"2020-01-05T00:00:00\", \"2020-01-12T00:00:00\", \"2020-01-19T00:00:00\", \"2020-01-26T00:00:00\", \"2020-02-02T00:00:00\", \"2020-02-09T00:00:00\", \"2020-02-16T00:00:00\", \"2020-02-23T00:00:00\", \"2020-03-01T00:00:00\", \"2020-03-08T00:00:00\"], \"xaxis\": \"x4\", \"y\": [11.852928571428569, 11.852928571428569, 11.852928571428569, 11.852928571428569, 11.852928571428569, 11.852928571428569, 11.852928571428569, 11.852928571428569, 11.852928571428569, 11.852928571428569], \"yaxis\": \"y4\"}, {\"line\": {\"color\": \"#9FA0F8\"}, \"mode\": \"lines\", \"name\": \"yhat_upper O\", \"type\": \"scatter\", \"x\": [\"2020-01-05T00:00:00\", \"2020-01-12T00:00:00\", \"2020-01-19T00:00:00\", \"2020-01-26T00:00:00\", \"2020-02-02T00:00:00\", \"2020-02-09T00:00:00\", \"2020-02-16T00:00:00\", \"2020-02-23T00:00:00\", \"2020-03-01T00:00:00\", \"2020-03-08T00:00:00\"], \"xaxis\": \"x4\", \"y\": [11.852143249097708, 11.853617724578834, 11.854746902212232, 11.855690751730469, 11.856514235654664, 11.857251417507559, 11.857922802062806, 11.858541868400296, 11.859118039163771, 11.859658208173135], \"yaxis\": \"y4\"}, {\"fill\": \"tonexty\", \"line\": {\"color\": \"#9FA0F8\"}, \"mode\": \"lines\", \"name\": \"yhat_lower O\", \"type\": \"scatter\", \"x\": [\"2020-01-05T00:00:00\", \"2020-01-12T00:00:00\", \"2020-01-19T00:00:00\", \"2020-01-26T00:00:00\", \"2020-02-02T00:00:00\", \"2020-02-09T00:00:00\", \"2020-02-16T00:00:00\", \"2020-02-23T00:00:00\", \"2020-03-01T00:00:00\", \"2020-03-08T00:00:00\"], \"xaxis\": \"x4\", \"y\": [11.843779773699971, 11.842111258469336, 11.840788041086428, 11.839650151818683, 11.838632628144978, 11.837701406542575, 11.836835982237819, 11.83602287615082, 11.835252665637835, 11.834518456878962], \"yaxis\": \"y4\"}, {\"line\": {\"color\": \"#4280F5\"}, \"mode\": \"lines+markers\", \"name\": \"mean Z\", \"type\": \"scatter\", \"x\": [\"2019-01-11T00:00:00\", \"2019-01-22T00:00:00\", \"2019-01-26T00:00:00\", \"2019-01-31T00:00:00\", \"2019-02-11T00:00:00\", \"2019-02-22T00:00:00\", \"2019-02-27T00:00:00\", \"2019-03-07T00:00:00\", \"2019-03-15T00:00:00\", \"2019-04-05T00:00:00\", \"2019-04-16T00:00:00\", \"2019-05-27T00:00:00\", \"2019-06-03T00:00:00\", \"2019-06-10T00:00:00\", \"2019-06-17T00:00:00\", \"2019-06-25T00:00:00\", \"2019-06-28T00:00:00\", \"2019-08-07T00:00:00\", \"2019-08-19T00:00:00\", \"2019-08-26T00:00:00\", \"2019-09-05T00:00:00\", \"2019-10-17T00:00:00\", \"2019-11-01T00:00:00\", \"2019-11-13T00:00:00\", \"2019-12-05T00:00:00\", \"2019-12-10T00:00:00\", \"2019-12-26T00:00:00\", \"2019-12-31T00:00:00\"], \"xaxis\": \"x5\", \"y\": [0.31, 0.311, 0.311, 0.311, 0.312, 0.312, 0.311, 0.311, 0.312, 0.311, 0.313, 0.313, 0.313, 0.311, 0.313, 0.316, 0.316, 0.313, 0.313, 0.313, 0.316, 0.313, 0.313, 0.315, 0.308, 0.311, 0.312, 0.313], \"yaxis\": \"y5\"}, {\"line\": {\"color\": \"#FF5733\"}, \"name\": \"USL Z\", \"type\": \"scatter\", \"x\": [\"2019-01-11T00:00:00\", \"2019-01-22T00:00:00\", \"2019-01-26T00:00:00\", \"2019-01-31T00:00:00\", \"2019-02-11T00:00:00\", \"2019-02-22T00:00:00\", \"2019-02-27T00:00:00\", \"2019-03-07T00:00:00\", \"2019-03-15T00:00:00\", \"2019-04-05T00:00:00\", \"2019-04-16T00:00:00\", \"2019-05-27T00:00:00\", \"2019-06-03T00:00:00\", \"2019-06-10T00:00:00\", \"2019-06-17T00:00:00\", \"2019-06-25T00:00:00\", \"2019-06-28T00:00:00\", \"2019-08-07T00:00:00\", \"2019-08-19T00:00:00\", \"2019-08-26T00:00:00\", \"2019-09-05T00:00:00\", \"2019-10-17T00:00:00\", \"2019-11-01T00:00:00\", \"2019-11-13T00:00:00\", \"2019-12-05T00:00:00\", \"2019-12-10T00:00:00\", \"2019-12-26T00:00:00\", \"2019-12-31T00:00:00\"], \"xaxis\": \"x5\", \"y\": [0.32, 0.32, 0.32, 0.32, 0.32, 0.32, 0.32, 0.32, 0.32, 0.32, 0.32, 0.32, 0.32, 0.32, 0.32, 0.32, 0.32, 0.32, 0.32, 0.32, 0.32, 0.32, 0.32, 0.32, 0.32, 0.32, 0.32, 0.32], \"yaxis\": \"y5\"}, {\"line\": {\"color\": \"#FF5733\"}, \"name\": \"LSL Z\", \"type\": \"scatter\", \"x\": [\"2019-01-11T00:00:00\", \"2019-01-22T00:00:00\", \"2019-01-26T00:00:00\", \"2019-01-31T00:00:00\", \"2019-02-11T00:00:00\", \"2019-02-22T00:00:00\", \"2019-02-27T00:00:00\", \"2019-03-07T00:00:00\", \"2019-03-15T00:00:00\", \"2019-04-05T00:00:00\", \"2019-04-16T00:00:00\", \"2019-05-27T00:00:00\", \"2019-06-03T00:00:00\", \"2019-06-10T00:00:00\", \"2019-06-17T00:00:00\", \"2019-06-25T00:00:00\", \"2019-06-28T00:00:00\", \"2019-08-07T00:00:00\", \"2019-08-19T00:00:00\", \"2019-08-26T00:00:00\", \"2019-09-05T00:00:00\", \"2019-10-17T00:00:00\", \"2019-11-01T00:00:00\", \"2019-11-13T00:00:00\", \"2019-12-05T00:00:00\", \"2019-12-10T00:00:00\", \"2019-12-26T00:00:00\", \"2019-12-31T00:00:00\"], \"xaxis\": \"x5\", \"y\": [0.28, 0.28, 0.28, 0.28, 0.28, 0.28, 0.28, 0.28, 0.28, 0.28, 0.28, 0.28, 0.28, 0.28, 0.28, 0.28, 0.28, 0.28, 0.28, 0.28, 0.28, 0.28, 0.28, 0.28, 0.28, 0.28, 0.28, 0.28], \"yaxis\": \"y5\"}, {\"line\": {\"color\": \"#FF5733\"}, \"name\": \"Nominal Z\", \"type\": \"scatter\", \"x\": [\"2019-01-11T00:00:00\", \"2019-01-22T00:00:00\", \"2019-01-26T00:00:00\", \"2019-01-31T00:00:00\", \"2019-02-11T00:00:00\", \"2019-02-22T00:00:00\", \"2019-02-27T00:00:00\", \"2019-03-07T00:00:00\", \"2019-03-15T00:00:00\", \"2019-04-05T00:00:00\", \"2019-04-16T00:00:00\", \"2019-05-27T00:00:00\", \"2019-06-03T00:00:00\", \"2019-06-10T00:00:00\", \"2019-06-17T00:00:00\", \"2019-06-25T00:00:00\", \"2019-06-28T00:00:00\", \"2019-08-07T00:00:00\", \"2019-08-19T00:00:00\", \"2019-08-26T00:00:00\", \"2019-09-05T00:00:00\", \"2019-10-17T00:00:00\", \"2019-11-01T00:00:00\", \"2019-11-13T00:00:00\", \"2019-12-05T00:00:00\", \"2019-12-10T00:00:00\", \"2019-12-26T00:00:00\", \"2019-12-31T00:00:00\"], \"xaxis\": \"x5\", \"y\": [0.3, 0.3, 0.3, 0.3, 0.3, 0.3, 0.3, 0.3, 0.3, 0.3, 0.3, 0.3, 0.3, 0.3, 0.3, 0.3, 0.3, 0.3, 0.3, 0.3, 0.3, 0.3, 0.3, 0.3, 0.3, 0.3, 0.3, 0.3], \"yaxis\": \"y5\"}, {\"line\": {\"color\": \"#33C2FF\"}, \"name\": \"UCL Z\", \"type\": \"scatter\", \"x\": [\"2019-01-11T00:00:00\", \"2019-01-22T00:00:00\", \"2019-01-26T00:00:00\", \"2019-01-31T00:00:00\", \"2019-02-11T00:00:00\", \"2019-02-22T00:00:00\", \"2019-02-27T00:00:00\", \"2019-03-07T00:00:00\", \"2019-03-15T00:00:00\", \"2019-04-05T00:00:00\", \"2019-04-16T00:00:00\", \"2019-05-27T00:00:00\", \"2019-06-03T00:00:00\", \"2019-06-10T00:00:00\", \"2019-06-17T00:00:00\", \"2019-06-25T00:00:00\", \"2019-06-28T00:00:00\", \"2019-08-07T00:00:00\", \"2019-08-19T00:00:00\", \"2019-08-26T00:00:00\", \"2019-09-05T00:00:00\", \"2019-10-17T00:00:00\", \"2019-11-01T00:00:00\", \"2019-11-13T00:00:00\", \"2019-12-05T00:00:00\", \"2019-12-10T00:00:00\", \"2019-12-26T00:00:00\", \"2019-12-31T00:00:00\"], \"xaxis\": \"x5\", \"y\": [0.318, 0.318, 0.318, 0.318, 0.318, 0.318, 0.318, 0.318, 0.318, 0.318, 0.318, 0.318, 0.318, 0.318, 0.318, 0.318, 0.318, 0.318, 0.318, 0.318, 0.318, 0.318, 0.318, 0.318, 0.318, 0.318, 0.318, 0.318], \"yaxis\": \"y5\"}, {\"line\": {\"color\": \"#33C2FF\"}, \"name\": \"LCL Z\", \"type\": \"scatter\", \"x\": [\"2019-01-11T00:00:00\", \"2019-01-22T00:00:00\", \"2019-01-26T00:00:00\", \"2019-01-31T00:00:00\", \"2019-02-11T00:00:00\", \"2019-02-22T00:00:00\", \"2019-02-27T00:00:00\", \"2019-03-07T00:00:00\", \"2019-03-15T00:00:00\", \"2019-04-05T00:00:00\", \"2019-04-16T00:00:00\", \"2019-05-27T00:00:00\", \"2019-06-03T00:00:00\", \"2019-06-10T00:00:00\", \"2019-06-17T00:00:00\", \"2019-06-25T00:00:00\", \"2019-06-28T00:00:00\", \"2019-08-07T00:00:00\", \"2019-08-19T00:00:00\", \"2019-08-26T00:00:00\", \"2019-09-05T00:00:00\", \"2019-10-17T00:00:00\", \"2019-11-01T00:00:00\", \"2019-11-13T00:00:00\", \"2019-12-05T00:00:00\", \"2019-12-10T00:00:00\", \"2019-12-26T00:00:00\", \"2019-12-31T00:00:00\"], \"xaxis\": \"x5\", \"y\": [0.307, 0.307, 0.307, 0.307, 0.307, 0.307, 0.307, 0.307, 0.307, 0.307, 0.307, 0.307, 0.307, 0.307, 0.307, 0.307, 0.307, 0.307, 0.307, 0.307, 0.307, 0.307, 0.307, 0.307, 0.307, 0.307, 0.307, 0.307], \"yaxis\": \"y5\"}, {\"line\": {\"color\": \"#33C2FF\"}, \"name\": \"mean Z\", \"type\": \"scatter\", \"x\": [\"2019-01-11T00:00:00\", \"2019-01-22T00:00:00\", \"2019-01-26T00:00:00\", \"2019-01-31T00:00:00\", \"2019-02-11T00:00:00\", \"2019-02-22T00:00:00\", \"2019-02-27T00:00:00\", \"2019-03-07T00:00:00\", \"2019-03-15T00:00:00\", \"2019-04-05T00:00:00\", \"2019-04-16T00:00:00\", \"2019-05-27T00:00:00\", \"2019-06-03T00:00:00\", \"2019-06-10T00:00:00\", \"2019-06-17T00:00:00\", \"2019-06-25T00:00:00\", \"2019-06-28T00:00:00\", \"2019-08-07T00:00:00\", \"2019-08-19T00:00:00\", \"2019-08-26T00:00:00\", \"2019-09-05T00:00:00\", \"2019-10-17T00:00:00\", \"2019-11-01T00:00:00\", \"2019-11-13T00:00:00\", \"2019-12-05T00:00:00\", \"2019-12-10T00:00:00\", \"2019-12-26T00:00:00\", \"2019-12-31T00:00:00\"], \"xaxis\": \"x5\", \"y\": [0.312, 0.312, 0.312, 0.312, 0.312, 0.312, 0.312, 0.312, 0.312, 0.312, 0.312, 0.312, 0.312, 0.312, 0.312, 0.312, 0.312, 0.312, 0.312, 0.312, 0.312, 0.312, 0.312, 0.312, 0.312, 0.312, 0.312, 0.312], \"yaxis\": \"y5\"}, {\"line\": {\"color\": \"#060891\"}, \"mode\": \"lines+markers\", \"name\": \"mean predict Z\", \"type\": \"scatter\", \"x\": [\"2020-01-05T00:00:00\", \"2020-01-12T00:00:00\", \"2020-01-19T00:00:00\", \"2020-01-26T00:00:00\", \"2020-02-02T00:00:00\", \"2020-02-09T00:00:00\", \"2020-02-16T00:00:00\", \"2020-02-23T00:00:00\", \"2020-03-01T00:00:00\", \"2020-03-08T00:00:00\"], \"xaxis\": \"x5\", \"y\": [0.31280754835971847, 0.3128609379361474, 0.3129143275125763, 0.3129677170890052, 0.31302110666543415, 0.31307449624186307, 0.313127885818292, 0.3131812753947209, 0.3132346649711498, 0.31328805454757874], \"yaxis\": \"y5\"}, {\"line\": {\"color\": \"#FF5733\"}, \"mode\": \"lines\", \"name\": \"USL Z\", \"type\": \"scatter\", \"x\": [\"2020-01-05T00:00:00\", \"2020-01-12T00:00:00\", \"2020-01-19T00:00:00\", \"2020-01-26T00:00:00\", \"2020-02-02T00:00:00\", \"2020-02-09T00:00:00\", \"2020-02-16T00:00:00\", \"2020-02-23T00:00:00\", \"2020-03-01T00:00:00\", \"2020-03-08T00:00:00\"], \"xaxis\": \"x5\", \"y\": [0.32, 0.32, 0.32, 0.32, 0.32, 0.32, 0.32, 0.32, 0.32, 0.32], \"yaxis\": \"y5\"}, {\"line\": {\"color\": \"#FF5733\"}, \"mode\": \"lines\", \"name\": \"LSL Z\", \"type\": \"scatter\", \"x\": [\"2020-01-05T00:00:00\", \"2020-01-12T00:00:00\", \"2020-01-19T00:00:00\", \"2020-01-26T00:00:00\", \"2020-02-02T00:00:00\", \"2020-02-09T00:00:00\", \"2020-02-16T00:00:00\", \"2020-02-23T00:00:00\", \"2020-03-01T00:00:00\", \"2020-03-08T00:00:00\"], \"xaxis\": \"x5\", \"y\": [0.27999999999999997, 0.27999999999999997, 0.27999999999999997, 0.27999999999999997, 0.27999999999999997, 0.27999999999999997, 0.27999999999999997, 0.27999999999999997, 0.27999999999999997, 0.27999999999999997], \"yaxis\": \"y5\"}, {\"line\": {\"color\": \"#FF5733\"}, \"mode\": \"lines\", \"name\": \"Nominal Z\", \"type\": \"scatter\", \"x\": [\"2020-01-05T00:00:00\", \"2020-01-12T00:00:00\", \"2020-01-19T00:00:00\", \"2020-01-26T00:00:00\", \"2020-02-02T00:00:00\", \"2020-02-09T00:00:00\", \"2020-02-16T00:00:00\", \"2020-02-23T00:00:00\", \"2020-03-01T00:00:00\", \"2020-03-08T00:00:00\"], \"xaxis\": \"x5\", \"y\": [0.3, 0.3, 0.3, 0.3, 0.3, 0.3, 0.3, 0.3, 0.3, 0.3], \"yaxis\": \"y5\"}, {\"line\": {\"color\": \"#33C2FF\"}, \"mode\": \"lines\", \"name\": \"UCL Z\", \"type\": \"scatter\", \"x\": [\"2020-01-05T00:00:00\", \"2020-01-12T00:00:00\", \"2020-01-19T00:00:00\", \"2020-01-26T00:00:00\", \"2020-02-02T00:00:00\", \"2020-02-09T00:00:00\", \"2020-02-16T00:00:00\", \"2020-02-23T00:00:00\", \"2020-03-01T00:00:00\", \"2020-03-08T00:00:00\"], \"xaxis\": \"x5\", \"y\": [0.31789069221460947, 0.31789069221460947, 0.31789069221460947, 0.31789069221460947, 0.31789069221460947, 0.31789069221460947, 0.31789069221460947, 0.31789069221460947, 0.31789069221460947, 0.31789069221460947], \"yaxis\": \"y5\"}, {\"line\": {\"color\": \"#33C2FF\"}, \"mode\": \"lines\", \"name\": \"LCL Z\", \"type\": \"scatter\", \"x\": [\"2020-01-05T00:00:00\", \"2020-01-12T00:00:00\", \"2020-01-19T00:00:00\", \"2020-01-26T00:00:00\", \"2020-02-02T00:00:00\", \"2020-02-09T00:00:00\", \"2020-02-16T00:00:00\", \"2020-02-23T00:00:00\", \"2020-03-01T00:00:00\", \"2020-03-08T00:00:00\"], \"xaxis\": \"x5\", \"y\": [0.3068950220711047, 0.3068950220711047, 0.3068950220711047, 0.3068950220711047, 0.3068950220711047, 0.3068950220711047, 0.3068950220711047, 0.3068950220711047, 0.3068950220711047, 0.3068950220711047], \"yaxis\": \"y5\"}, {\"line\": {\"color\": \"#33C2FF\"}, \"mode\": \"lines\", \"name\": \"mean Z\", \"type\": \"scatter\", \"x\": [\"2020-01-05T00:00:00\", \"2020-01-12T00:00:00\", \"2020-01-19T00:00:00\", \"2020-01-26T00:00:00\", \"2020-02-02T00:00:00\", \"2020-02-09T00:00:00\", \"2020-02-16T00:00:00\", \"2020-02-23T00:00:00\", \"2020-03-01T00:00:00\", \"2020-03-08T00:00:00\"], \"xaxis\": \"x5\", \"y\": [0.3123928571428571, 0.3123928571428571, 0.3123928571428571, 0.3123928571428571, 0.3123928571428571, 0.3123928571428571, 0.3123928571428571, 0.3123928571428571, 0.3123928571428571, 0.3123928571428571], \"yaxis\": \"y5\"}, {\"line\": {\"color\": \"#9FA0F8\"}, \"mode\": \"lines\", \"name\": \"yhat_upper Z\", \"type\": \"scatter\", \"x\": [\"2020-01-05T00:00:00\", \"2020-01-12T00:00:00\", \"2020-01-19T00:00:00\", \"2020-01-26T00:00:00\", \"2020-02-02T00:00:00\", \"2020-02-09T00:00:00\", \"2020-02-16T00:00:00\", \"2020-02-23T00:00:00\", \"2020-03-01T00:00:00\", \"2020-03-08T00:00:00\"], \"xaxis\": \"x5\", \"y\": [0.3157266399816902, 0.3165771683299416, 0.31728464109194954, 0.31790623034952686, 0.31846887553595743, 0.31898782509361284, 0.3194727050080901, 0.3199300532836075, 0.3203645510456828, 0.3207796864043983], \"yaxis\": \"y5\"}, {\"fill\": \"tonexty\", \"line\": {\"color\": \"#9FA0F8\"}, \"mode\": \"lines\", \"name\": \"yhat_lower Z\", \"type\": \"scatter\", \"x\": [\"2020-01-05T00:00:00\", \"2020-01-12T00:00:00\", \"2020-01-19T00:00:00\", \"2020-01-26T00:00:00\", \"2020-02-02T00:00:00\", \"2020-02-09T00:00:00\", \"2020-02-16T00:00:00\", \"2020-02-23T00:00:00\", \"2020-03-01T00:00:00\", \"2020-03-08T00:00:00\"], \"xaxis\": \"x5\", \"y\": [0.30988845673774673, 0.3091447075423532, 0.3085440139332031, 0.3080292038284836, 0.30757333779491086, 0.3071611673901133, 0.30678306662849386, 0.3064324975058343, 0.30610477889661686, 0.3057964226907592], \"yaxis\": \"y5\"}],\n",
              "                        {\"annotations\": [{\"font\": {\"size\": 16}, \"showarrow\": false, \"text\": \"C-Pitch\", \"x\": 0.5, \"xanchor\": \"center\", \"xref\": \"paper\", \"y\": 1.0, \"yanchor\": \"bottom\", \"yref\": \"paper\"}, {\"font\": {\"size\": 16}, \"showarrow\": false, \"text\": \"J\", \"x\": 0.5, \"xanchor\": \"center\", \"xref\": \"paper\", \"y\": 0.78, \"yanchor\": \"bottom\", \"yref\": \"paper\"}, {\"font\": {\"size\": 16}, \"showarrow\": false, \"text\": \"I\", \"x\": 0.5, \"xanchor\": \"center\", \"xref\": \"paper\", \"y\": 0.56, \"yanchor\": \"bottom\", \"yref\": \"paper\"}, {\"font\": {\"size\": 16}, \"showarrow\": false, \"text\": \"O\", \"x\": 0.5, \"xanchor\": \"center\", \"xref\": \"paper\", \"y\": 0.33999999999999997, \"yanchor\": \"bottom\", \"yref\": \"paper\"}, {\"font\": {\"size\": 16}, \"showarrow\": false, \"text\": \"Z\", \"x\": 0.5, \"xanchor\": \"center\", \"xref\": \"paper\", \"y\": 0.12, \"yanchor\": \"bottom\", \"yref\": \"paper\"}], \"height\": 1500, \"template\": {\"data\": {\"bar\": [{\"error_x\": {\"color\": \"#2a3f5f\"}, \"error_y\": {\"color\": \"#2a3f5f\"}, \"marker\": {\"line\": {\"color\": \"#E5ECF6\", \"width\": 0.5}}, \"type\": \"bar\"}], \"barpolar\": [{\"marker\": {\"line\": {\"color\": \"#E5ECF6\", \"width\": 0.5}}, \"type\": \"barpolar\"}], \"carpet\": [{\"aaxis\": {\"endlinecolor\": \"#2a3f5f\", \"gridcolor\": \"white\", \"linecolor\": \"white\", \"minorgridcolor\": \"white\", \"startlinecolor\": \"#2a3f5f\"}, \"baxis\": {\"endlinecolor\": \"#2a3f5f\", \"gridcolor\": \"white\", \"linecolor\": \"white\", \"minorgridcolor\": \"white\", \"startlinecolor\": \"#2a3f5f\"}, \"type\": \"carpet\"}], \"choropleth\": [{\"colorbar\": {\"outlinewidth\": 0, \"ticks\": \"\"}, \"type\": \"choropleth\"}], \"contour\": [{\"colorbar\": {\"outlinewidth\": 0, \"ticks\": \"\"}, \"colorscale\": [[0.0, \"#0d0887\"], [0.1111111111111111, \"#46039f\"], [0.2222222222222222, \"#7201a8\"], [0.3333333333333333, \"#9c179e\"], [0.4444444444444444, \"#bd3786\"], [0.5555555555555556, \"#d8576b\"], [0.6666666666666666, \"#ed7953\"], [0.7777777777777778, \"#fb9f3a\"], [0.8888888888888888, \"#fdca26\"], [1.0, \"#f0f921\"]], \"type\": \"contour\"}], \"contourcarpet\": [{\"colorbar\": {\"outlinewidth\": 0, \"ticks\": \"\"}, \"type\": \"contourcarpet\"}], \"heatmap\": [{\"colorbar\": {\"outlinewidth\": 0, \"ticks\": \"\"}, \"colorscale\": [[0.0, \"#0d0887\"], [0.1111111111111111, \"#46039f\"], [0.2222222222222222, \"#7201a8\"], [0.3333333333333333, \"#9c179e\"], [0.4444444444444444, \"#bd3786\"], [0.5555555555555556, \"#d8576b\"], [0.6666666666666666, \"#ed7953\"], [0.7777777777777778, \"#fb9f3a\"], [0.8888888888888888, \"#fdca26\"], [1.0, \"#f0f921\"]], \"type\": \"heatmap\"}], \"heatmapgl\": [{\"colorbar\": {\"outlinewidth\": 0, \"ticks\": \"\"}, \"colorscale\": [[0.0, \"#0d0887\"], [0.1111111111111111, \"#46039f\"], [0.2222222222222222, \"#7201a8\"], [0.3333333333333333, \"#9c179e\"], [0.4444444444444444, \"#bd3786\"], [0.5555555555555556, \"#d8576b\"], [0.6666666666666666, \"#ed7953\"], [0.7777777777777778, \"#fb9f3a\"], [0.8888888888888888, \"#fdca26\"], [1.0, \"#f0f921\"]], \"type\": \"heatmapgl\"}], \"histogram\": [{\"marker\": {\"colorbar\": {\"outlinewidth\": 0, \"ticks\": \"\"}}, \"type\": \"histogram\"}], \"histogram2d\": [{\"colorbar\": {\"outlinewidth\": 0, \"ticks\": \"\"}, \"colorscale\": [[0.0, \"#0d0887\"], [0.1111111111111111, \"#46039f\"], [0.2222222222222222, \"#7201a8\"], [0.3333333333333333, \"#9c179e\"], [0.4444444444444444, \"#bd3786\"], [0.5555555555555556, \"#d8576b\"], [0.6666666666666666, \"#ed7953\"], [0.7777777777777778, \"#fb9f3a\"], [0.8888888888888888, \"#fdca26\"], [1.0, \"#f0f921\"]], \"type\": \"histogram2d\"}], \"histogram2dcontour\": [{\"colorbar\": {\"outlinewidth\": 0, \"ticks\": \"\"}, \"colorscale\": [[0.0, \"#0d0887\"], [0.1111111111111111, \"#46039f\"], [0.2222222222222222, \"#7201a8\"], [0.3333333333333333, \"#9c179e\"], [0.4444444444444444, \"#bd3786\"], [0.5555555555555556, \"#d8576b\"], [0.6666666666666666, \"#ed7953\"], [0.7777777777777778, \"#fb9f3a\"], [0.8888888888888888, \"#fdca26\"], [1.0, \"#f0f921\"]], \"type\": \"histogram2dcontour\"}], \"mesh3d\": [{\"colorbar\": {\"outlinewidth\": 0, \"ticks\": \"\"}, \"type\": \"mesh3d\"}], \"parcoords\": [{\"line\": {\"colorbar\": {\"outlinewidth\": 0, \"ticks\": \"\"}}, \"type\": \"parcoords\"}], \"pie\": [{\"automargin\": true, \"type\": \"pie\"}], \"scatter\": [{\"marker\": {\"colorbar\": {\"outlinewidth\": 0, \"ticks\": \"\"}}, \"type\": \"scatter\"}], \"scatter3d\": [{\"line\": {\"colorbar\": {\"outlinewidth\": 0, \"ticks\": \"\"}}, \"marker\": {\"colorbar\": {\"outlinewidth\": 0, \"ticks\": \"\"}}, \"type\": \"scatter3d\"}], \"scattercarpet\": [{\"marker\": {\"colorbar\": {\"outlinewidth\": 0, \"ticks\": \"\"}}, \"type\": \"scattercarpet\"}], \"scattergeo\": [{\"marker\": {\"colorbar\": {\"outlinewidth\": 0, \"ticks\": \"\"}}, \"type\": \"scattergeo\"}], \"scattergl\": [{\"marker\": {\"colorbar\": {\"outlinewidth\": 0, \"ticks\": \"\"}}, \"type\": \"scattergl\"}], \"scattermapbox\": [{\"marker\": {\"colorbar\": {\"outlinewidth\": 0, \"ticks\": \"\"}}, \"type\": \"scattermapbox\"}], \"scatterpolar\": [{\"marker\": {\"colorbar\": {\"outlinewidth\": 0, \"ticks\": \"\"}}, \"type\": \"scatterpolar\"}], \"scatterpolargl\": [{\"marker\": {\"colorbar\": {\"outlinewidth\": 0, \"ticks\": \"\"}}, \"type\": \"scatterpolargl\"}], \"scatterternary\": [{\"marker\": {\"colorbar\": {\"outlinewidth\": 0, \"ticks\": \"\"}}, \"type\": \"scatterternary\"}], \"surface\": [{\"colorbar\": {\"outlinewidth\": 0, \"ticks\": \"\"}, \"colorscale\": [[0.0, \"#0d0887\"], [0.1111111111111111, \"#46039f\"], [0.2222222222222222, \"#7201a8\"], [0.3333333333333333, \"#9c179e\"], [0.4444444444444444, \"#bd3786\"], [0.5555555555555556, \"#d8576b\"], [0.6666666666666666, \"#ed7953\"], [0.7777777777777778, \"#fb9f3a\"], [0.8888888888888888, \"#fdca26\"], [1.0, \"#f0f921\"]], \"type\": \"surface\"}], \"table\": [{\"cells\": {\"fill\": {\"color\": \"#EBF0F8\"}, \"line\": {\"color\": \"white\"}}, \"header\": {\"fill\": {\"color\": \"#C8D4E3\"}, \"line\": {\"color\": \"white\"}}, \"type\": \"table\"}]}, \"layout\": {\"annotationdefaults\": {\"arrowcolor\": \"#2a3f5f\", \"arrowhead\": 0, \"arrowwidth\": 1}, \"coloraxis\": {\"colorbar\": {\"outlinewidth\": 0, \"ticks\": \"\"}}, \"colorscale\": {\"diverging\": [[0, \"#8e0152\"], [0.1, \"#c51b7d\"], [0.2, \"#de77ae\"], [0.3, \"#f1b6da\"], [0.4, \"#fde0ef\"], [0.5, \"#f7f7f7\"], [0.6, \"#e6f5d0\"], [0.7, \"#b8e186\"], [0.8, \"#7fbc41\"], [0.9, \"#4d9221\"], [1, \"#276419\"]], \"sequential\": [[0.0, \"#0d0887\"], [0.1111111111111111, \"#46039f\"], [0.2222222222222222, \"#7201a8\"], [0.3333333333333333, \"#9c179e\"], [0.4444444444444444, \"#bd3786\"], [0.5555555555555556, \"#d8576b\"], [0.6666666666666666, \"#ed7953\"], [0.7777777777777778, \"#fb9f3a\"], [0.8888888888888888, \"#fdca26\"], [1.0, \"#f0f921\"]], \"sequentialminus\": [[0.0, \"#0d0887\"], [0.1111111111111111, \"#46039f\"], [0.2222222222222222, \"#7201a8\"], [0.3333333333333333, \"#9c179e\"], [0.4444444444444444, \"#bd3786\"], [0.5555555555555556, \"#d8576b\"], [0.6666666666666666, \"#ed7953\"], [0.7777777777777778, \"#fb9f3a\"], [0.8888888888888888, \"#fdca26\"], [1.0, \"#f0f921\"]]}, \"colorway\": [\"#636efa\", \"#EF553B\", \"#00cc96\", \"#ab63fa\", \"#FFA15A\", \"#19d3f3\", \"#FF6692\", \"#B6E880\", \"#FF97FF\", \"#FECB52\"], \"font\": {\"color\": \"#2a3f5f\"}, \"geo\": {\"bgcolor\": \"white\", \"lakecolor\": \"white\", \"landcolor\": \"#E5ECF6\", \"showlakes\": true, \"showland\": true, \"subunitcolor\": \"white\"}, \"hoverlabel\": {\"align\": \"left\"}, \"hovermode\": \"closest\", \"mapbox\": {\"style\": \"light\"}, \"paper_bgcolor\": \"white\", \"plot_bgcolor\": \"#E5ECF6\", \"polar\": {\"angularaxis\": {\"gridcolor\": \"white\", \"linecolor\": \"white\", \"ticks\": \"\"}, \"bgcolor\": \"#E5ECF6\", \"radialaxis\": {\"gridcolor\": \"white\", \"linecolor\": \"white\", \"ticks\": \"\"}}, \"scene\": {\"xaxis\": {\"backgroundcolor\": \"#E5ECF6\", \"gridcolor\": \"white\", \"gridwidth\": 2, \"linecolor\": \"white\", \"showbackground\": true, \"ticks\": \"\", \"zerolinecolor\": \"white\"}, \"yaxis\": {\"backgroundcolor\": \"#E5ECF6\", \"gridcolor\": \"white\", \"gridwidth\": 2, \"linecolor\": \"white\", \"showbackground\": true, \"ticks\": \"\", \"zerolinecolor\": \"white\"}, \"zaxis\": {\"backgroundcolor\": \"#E5ECF6\", \"gridcolor\": \"white\", \"gridwidth\": 2, \"linecolor\": \"white\", \"showbackground\": true, \"ticks\": \"\", \"zerolinecolor\": \"white\"}}, \"shapedefaults\": {\"line\": {\"color\": \"#2a3f5f\"}}, \"ternary\": {\"aaxis\": {\"gridcolor\": \"white\", \"linecolor\": \"white\", \"ticks\": \"\"}, \"baxis\": {\"gridcolor\": \"white\", \"linecolor\": \"white\", \"ticks\": \"\"}, \"bgcolor\": \"#E5ECF6\", \"caxis\": {\"gridcolor\": \"white\", \"linecolor\": \"white\", \"ticks\": \"\"}}, \"title\": {\"x\": 0.05}, \"xaxis\": {\"automargin\": true, \"gridcolor\": \"white\", \"linecolor\": \"white\", \"ticks\": \"\", \"title\": {\"standoff\": 15}, \"zerolinecolor\": \"white\", \"zerolinewidth\": 2}, \"yaxis\": {\"automargin\": true, \"gridcolor\": \"white\", \"linecolor\": \"white\", \"ticks\": \"\", \"title\": {\"standoff\": 15}, \"zerolinecolor\": \"white\", \"zerolinewidth\": 2}}}, \"title\": {\"text\": \"Line chart\"}, \"width\": 1200, \"xaxis\": {\"anchor\": \"y\", \"domain\": [0.0, 1.0]}, \"xaxis2\": {\"anchor\": \"y2\", \"domain\": [0.0, 1.0]}, \"xaxis3\": {\"anchor\": \"y3\", \"domain\": [0.0, 1.0]}, \"xaxis4\": {\"anchor\": \"y4\", \"domain\": [0.0, 1.0]}, \"xaxis5\": {\"anchor\": \"y5\", \"domain\": [0.0, 1.0]}, \"yaxis\": {\"anchor\": \"x\", \"domain\": [0.88, 1.0]}, \"yaxis2\": {\"anchor\": \"x2\", \"domain\": [0.66, 0.78]}, \"yaxis3\": {\"anchor\": \"x3\", \"domain\": [0.44, 0.56]}, \"yaxis4\": {\"anchor\": \"x4\", \"domain\": [0.22, 0.33999999999999997]}, \"yaxis5\": {\"anchor\": \"x5\", \"domain\": [0.0, 0.12]}},\n",
              "                        {\"responsive\": true}\n",
              "                    ).then(function(){\n",
              "                            \n",
              "var gd = document.getElementById('3406bb31-b273-46a6-82f2-b071244a51dd');\n",
              "var x = new MutationObserver(function (mutations, observer) {{\n",
              "        var display = window.getComputedStyle(gd).display;\n",
              "        if (!display || display === 'none') {{\n",
              "            console.log([gd, 'removed!']);\n",
              "            Plotly.purge(gd);\n",
              "            observer.disconnect();\n",
              "        }}\n",
              "}});\n",
              "\n",
              "// Listen for the removal of the full notebook cells\n",
              "var notebookContainer = gd.closest('#notebook-container');\n",
              "if (notebookContainer) {{\n",
              "    x.observe(notebookContainer, {childList: true});\n",
              "}}\n",
              "\n",
              "// Listen for the clearing of the current output cell\n",
              "var outputEl = gd.closest('.output');\n",
              "if (outputEl) {{\n",
              "    x.observe(outputEl, {childList: true});\n",
              "}}\n",
              "\n",
              "                        })\n",
              "                };\n",
              "                \n",
              "            </script>\n",
              "        </div>\n",
              "</body>\n",
              "</html>"
            ]
          },
          "metadata": {
            "tags": []
          }
        }
      ]
    },
    {
      "cell_type": "code",
      "metadata": {
        "id": "YGoRjQaVx0rH",
        "colab_type": "code",
        "colab": {}
      },
      "source": [
        "#------------------Save Line chart plotly-----------------------------------------#\n",
        "\n",
        "\n",
        "#if st.checkbox('Save predict Line chart'):\n",
        "#if st.button(\"Save Line chart\"):\n",
        "#    fig_new_2.write_html(path3+namefile+'_predict_line.html')\n",
        "#    st.write('Path file: ',path3+namefile+'_predict_line.html')\n",
        "#----------------------------Box chart altair----------------------------------------#"
      ],
      "execution_count": null,
      "outputs": []
    }
  ]
}