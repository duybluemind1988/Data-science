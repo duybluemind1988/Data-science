{
  "nbformat": 4,
  "nbformat_minor": 0,
  "metadata": {
    "colab": {
      "name": "Marketing chap 05 Product Analytics online retail.ipynb",
      "provenance": [],
      "collapsed_sections": [],
      "mount_file_id": "https://github.com/duybluemind1988/Data-science/blob/master/Marketing_chap_05_Product_Analytics_online_retail.ipynb",
      "authorship_tag": "ABX9TyOJaNU/nLJGWerQP2L9i4sX",
      "include_colab_link": true
    },
    "kernelspec": {
      "name": "python3",
      "display_name": "Python 3"
    }
  },
  "cells": [
    {
      "cell_type": "markdown",
      "metadata": {
        "id": "view-in-github",
        "colab_type": "text"
      },
      "source": [
        "<a href=\"https://colab.research.google.com/github/duybluemind1988/Data-science/blob/master/Marketing_chap_05_Product_Analytics_online_retail.ipynb\" target=\"_parent\"><img src=\"https://colab.research.google.com/assets/colab-badge.svg\" alt=\"Open In Colab\"/></a>"
      ]
    },
    {
      "cell_type": "code",
      "metadata": {
        "id": "Pr43qjib45Z3",
        "colab_type": "code",
        "colab": {
          "base_uri": "https://localhost:8080/",
          "height": 360
        },
        "outputId": "ba92d398-c170-4b68-829e-16c6be4946e0"
      },
      "source": [
        "# Load basic library\n",
        "import re\n",
        "import numpy as np\n",
        "import time\n",
        "import pandas as pd\n",
        "from tensorflow import random\n",
        "from sklearn.externals import joblib \n",
        "from scipy import stats\n",
        "\n",
        "# import require packages for plotting\n",
        "import matplotlib.patches as mpatches\n",
        "import matplotlib.pyplot as plt \n",
        "import plotly\n",
        "from plotly import tools\n",
        "import plotly.express as px\n",
        "import plotly.figure_factory as ff\n",
        "import plotly.graph_objs as go\n",
        "import matplotlib.pyplot as plt\n",
        "from plotly.offline import download_plotlyjs, init_notebook_mode, plot, iplot\n",
        "import seaborn as sns\n",
        "sns.set()\n",
        "import altair as alt\n",
        "\n",
        "\n",
        "# Load Keras\n",
        "from keras.preprocessing.text import Tokenizer\n",
        "from keras import models\n",
        "from keras import layers\n",
        "from keras.models import Sequential\n",
        "from keras import backend as K\n",
        "\n",
        "from keras.optimizers import Adam\n",
        "from keras import regularizers\n",
        "from keras.callbacks import EarlyStopping, ModelCheckpoint\n",
        "from keras.wrappers.scikit_learn import KerasClassifier\n",
        "from keras.regularizers import l1\n",
        "from keras.regularizers import l2\n",
        "from keras.regularizers import l1_l2\n",
        "from keras.layers import Dropout\n",
        "from keras.layers import Activation\n",
        "from keras.layers import Dense\n",
        "from keras.metrics import categorical_crossentropy\n",
        "\n",
        "\n",
        "#Load sklearn\n",
        "from sklearn import preprocessing as pp\n",
        "from sklearn.preprocessing import StandardScaler, RobustScaler\n",
        "from sklearn.preprocessing import OneHotEncoder,LabelEncoder\n",
        "from sklearn.model_selection import train_test_split\n",
        "from sklearn.model_selection import KFold\n",
        "from sklearn.model_selection import StratifiedKFold\n",
        "from sklearn.model_selection import cross_val_score\n",
        "from sklearn.model_selection import cross_validate,cross_val_predict\n",
        "from sklearn.model_selection import RandomizedSearchCV\n",
        "from sklearn.model_selection import GridSearchCV\n",
        "from sklearn.pipeline import Pipeline\n",
        "from sklearn.compose import ColumnTransformer\n",
        "from sklearn.utils import shuffle\n",
        "\n",
        "from sklearn.metrics import log_loss \n",
        "from sklearn.metrics import classification_report\n",
        "from sklearn.metrics import confusion_matrix\n",
        "from sklearn.metrics import precision_score, recall_score, f1_score, roc_auc_score, accuracy_score\n",
        "from sklearn.metrics import make_scorer\n",
        "from sklearn.metrics import roc_curve, auc\n",
        "from sklearn.metrics import precision_recall_curve\n",
        "from sklearn.metrics import f1_score,balanced_accuracy_score\n",
        "from sklearn.metrics import average_precision_score \n",
        "\n",
        "from sklearn.pipeline import Pipeline\n",
        "from sklearn.decomposition import PCA, NMF\n",
        "\n",
        "#ML normal ML\n",
        "from sklearn.linear_model import LogisticRegression\n",
        "from sklearn.tree import DecisionTreeClassifier\n",
        "from sklearn.neighbors import KNeighborsClassifier\n",
        "from sklearn.discriminant_analysis import LinearDiscriminantAnalysis\n",
        "from sklearn.naive_bayes import GaussianNB\n",
        "from sklearn.svm import SVC\n",
        "\n",
        "#ML ensembles\n",
        "from sklearn.ensemble import AdaBoostClassifier\n",
        "from sklearn.ensemble import GradientBoostingClassifier\n",
        "from sklearn.ensemble import RandomForestClassifier\n",
        "from sklearn.ensemble import ExtraTreesClassifier\n",
        "from sklearn.ensemble import BaggingClassifier\n",
        "from sklearn.ensemble import VotingClassifier\n",
        "from sklearn.ensemble import StackingClassifier\n",
        "\n",
        "#\n",
        "\n",
        "#Special\n",
        "import xgboost as xgb\n",
        "from xgboost import XGBClassifier\n",
        "import lightgbm as lgb\n",
        "from lightgbm import LGBMClassifier\n",
        "\n",
        "#Load visual neural:\n",
        "from IPython.display import SVG\n",
        "from keras.utils.vis_utils import model_to_dot\n",
        "from keras.utils import plot_model\n",
        "\n",
        "# cluster\n",
        "from sklearn.cluster import KMeans\n",
        "from sklearn.metrics.pairwise import pairwise_distances_argmin\n",
        "from sklearn.metrics import silhouette_samples, silhouette_score\n",
        "from sklearn import cluster, mixture\n",
        "from sklearn.neighbors import kneighbors_graph\n",
        "from itertools import cycle, islice\n",
        "\n",
        "from sklearn.cluster import AgglomerativeClustering\n",
        "from sklearn.cluster import MeanShift\n",
        "from sklearn.cluster import MiniBatchKMeans\n",
        "from sklearn.cluster import SpectralClustering\n",
        "from sklearn.cluster import DBSCAN\n",
        "from sklearn.cluster import OPTICS\n",
        "from sklearn.cluster import AffinityPropagation\n",
        "from sklearn.cluster import Birch\n",
        "from sklearn.mixture import GaussianMixture\n",
        "from sklearn.mixture import BayesianGaussianMixture\n",
        "\n",
        "#import fastcluster\n",
        "#import hdbscan\n",
        "from scipy.cluster.hierarchy import dendrogram, cophenet, fcluster\n",
        "from scipy.spatial.distance import pdist\n",
        "\n",
        "# PCA\n",
        "from sklearn.decomposition import PCA\n",
        "from sklearn.decomposition import IncrementalPCA\n",
        "from sklearn.decomposition import TruncatedSVD\n",
        "from sklearn.decomposition import SparsePCA\n",
        "from sklearn.decomposition import KernelPCA\n",
        "from sklearn.decomposition import FastICA \n",
        "from sklearn.decomposition import FactorAnalysis\n",
        "from sklearn.decomposition import MiniBatchDictionaryLearning #other\n",
        "from sklearn.manifold import LocallyLinearEmbedding\n",
        "from sklearn.manifold import MDS\n",
        "from sklearn.manifold import Isomap\n",
        "from sklearn.manifold import TSNE\n",
        "from sklearn.random_projection import GaussianRandomProjection\n",
        "from sklearn.random_projection import SparseRandomProjection\n",
        "\n",
        "#imblearn library\n",
        "from imblearn.pipeline import make_pipeline as imbalanced_make_pipeline\n",
        "from imblearn.over_sampling import SMOTE\n",
        "from imblearn.under_sampling import NearMiss\n",
        "from imblearn.metrics import classification_report_imbalanced\n",
        "from collections import Counter"
      ],
      "execution_count": 1,
      "outputs": [
        {
          "output_type": "stream",
          "text": [
            "/usr/local/lib/python3.6/dist-packages/sklearn/externals/joblib/__init__.py:15: FutureWarning: sklearn.externals.joblib is deprecated in 0.21 and will be removed in 0.23. Please import this functionality directly from joblib, which can be installed with: pip install joblib. If this warning is raised when loading pickled models, you may need to re-serialize those models with scikit-learn 0.21+.\n",
            "  warnings.warn(msg, category=FutureWarning)\n",
            "/usr/local/lib/python3.6/dist-packages/statsmodels/tools/_testing.py:19: FutureWarning:\n",
            "\n",
            "pandas.util.testing is deprecated. Use the functions in the public API at pandas.testing instead.\n",
            "\n",
            "Using TensorFlow backend.\n",
            "/usr/local/lib/python3.6/dist-packages/sklearn/externals/six.py:31: FutureWarning:\n",
            "\n",
            "The module is deprecated in version 0.21 and will be removed in version 0.23 since we've dropped support for Python 2.7. Please rely on the official version of six (https://pypi.org/project/six/).\n",
            "\n",
            "/usr/local/lib/python3.6/dist-packages/sklearn/utils/deprecation.py:144: FutureWarning:\n",
            "\n",
            "The sklearn.neighbors.base module is  deprecated in version 0.22 and will be removed in version 0.24. The corresponding classes / functions should instead be imported from sklearn.neighbors. Anything that cannot be imported from sklearn.neighbors is now part of the private API.\n",
            "\n",
            "/usr/local/lib/python3.6/dist-packages/sklearn/utils/deprecation.py:144: FutureWarning:\n",
            "\n",
            "The sklearn.metrics.classification module is  deprecated in version 0.22 and will be removed in version 0.24. The corresponding classes / functions should instead be imported from sklearn.metrics. Anything that cannot be imported from sklearn.metrics is now part of the private API.\n",
            "\n"
          ],
          "name": "stderr"
        }
      ]
    },
    {
      "cell_type": "markdown",
      "metadata": {
        "id": "BGE5bF91_7jV",
        "colab_type": "text"
      },
      "source": [
        "# Load Data"
      ]
    },
    {
      "cell_type": "markdown",
      "metadata": {
        "id": "z4AMLXnO-bD8",
        "colab_type": "text"
      },
      "source": [
        "https://archive.ics.uci.edu/ml/datasets/online+retail"
      ]
    },
    {
      "cell_type": "markdown",
      "metadata": {
        "id": "RTHM0lZn-dkG",
        "colab_type": "text"
      },
      "source": [
        "Data Set Information:\n",
        "\n",
        "This is a transnational data set which contains all the transactions occurring between 01/12/2010 and 09/12/2011 for a UK-based and registered non-store online retail.The company mainly sells unique all-occasion gifts. Many customers of the company are wholesalers.\n",
        "\n"
      ]
    },
    {
      "cell_type": "markdown",
      "metadata": {
        "id": "cVVX_lFr-aBP",
        "colab_type": "text"
      },
      "source": [
        "Attribute Information:\n",
        "\n",
        "- InvoiceNo: Invoice number. Nominal, a 6-digit integral number uniquely assigned to each transaction. If this code starts with letter 'c', it indicates a cancellation.\n",
        "- StockCode: Product (item) code. Nominal, a 5-digit integral number uniquely assigned to each distinct product.\n",
        "- Description: Product (item) name. Nominal.\n",
        "- Quantity: The quantities of each product (item) per transaction. Numeric.\n",
        "- InvoiceDate: Invice Date and time. Numeric, the day and time when each transaction was generated.\n",
        "- UnitPrice: Unit price. Numeric, Product price per unit in sterling.\n",
        "- CustomerID: Customer number. Nominal, a 5-digit integral number uniquely assigned to each customer.\n",
        "- Country: Country name. Nominal, the name of the country where each customer resides."
      ]
    },
    {
      "cell_type": "code",
      "metadata": {
        "id": "dDhi_ukm7WQr",
        "colab_type": "code",
        "colab": {}
      },
      "source": [
        "df=pd.read_excel('https://github.com/mrinmaisharma/Online-Retail-Dataset/blob/master/OnlineRetail.xlsx?raw=true',sep=';')"
      ],
      "execution_count": 2,
      "outputs": []
    },
    {
      "cell_type": "code",
      "metadata": {
        "id": "IZFwZxMJWFwa",
        "colab_type": "code",
        "colab": {
          "base_uri": "https://localhost:8080/",
          "height": 187
        },
        "outputId": "66089e76-f3f7-455b-dab2-4fc425898f0b"
      },
      "source": [
        "df.nunique()"
      ],
      "execution_count": null,
      "outputs": [
        {
          "output_type": "execute_result",
          "data": {
            "text/plain": [
              "InvoiceNo      19889\n",
              "StockCode       3938\n",
              "Description     4074\n",
              "Quantity         383\n",
              "InvoiceDate    18292\n",
              "UnitPrice       1260\n",
              "CustomerID      4298\n",
              "Country           38\n",
              "Sales           4780\n",
              "dtype: int64"
            ]
          },
          "metadata": {
            "tags": []
          },
          "execution_count": 41
        }
      ]
    },
    {
      "cell_type": "code",
      "metadata": {
        "id": "81SahLX_-uOm",
        "colab_type": "code",
        "colab": {
          "base_uri": "https://localhost:8080/",
          "height": 323
        },
        "outputId": "02d9abb4-629a-4750-dcb5-3f9e89e2395b"
      },
      "source": [
        "print(df.shape)\n",
        "df.head()"
      ],
      "execution_count": null,
      "outputs": [
        {
          "output_type": "stream",
          "text": [
            "(541909, 8)\n"
          ],
          "name": "stdout"
        },
        {
          "output_type": "execute_result",
          "data": {
            "text/html": [
              "<div>\n",
              "<style scoped>\n",
              "    .dataframe tbody tr th:only-of-type {\n",
              "        vertical-align: middle;\n",
              "    }\n",
              "\n",
              "    .dataframe tbody tr th {\n",
              "        vertical-align: top;\n",
              "    }\n",
              "\n",
              "    .dataframe thead th {\n",
              "        text-align: right;\n",
              "    }\n",
              "</style>\n",
              "<table border=\"1\" class=\"dataframe\">\n",
              "  <thead>\n",
              "    <tr style=\"text-align: right;\">\n",
              "      <th></th>\n",
              "      <th>InvoiceNo</th>\n",
              "      <th>StockCode</th>\n",
              "      <th>Description</th>\n",
              "      <th>Quantity</th>\n",
              "      <th>InvoiceDate</th>\n",
              "      <th>UnitPrice</th>\n",
              "      <th>CustomerID</th>\n",
              "      <th>Country</th>\n",
              "    </tr>\n",
              "  </thead>\n",
              "  <tbody>\n",
              "    <tr>\n",
              "      <th>0</th>\n",
              "      <td>536365</td>\n",
              "      <td>85123A</td>\n",
              "      <td>WHITE HANGING HEART T-LIGHT HOLDER</td>\n",
              "      <td>6</td>\n",
              "      <td>2010-12-01 08:26:00</td>\n",
              "      <td>2.55</td>\n",
              "      <td>17850.0</td>\n",
              "      <td>United Kingdom</td>\n",
              "    </tr>\n",
              "    <tr>\n",
              "      <th>1</th>\n",
              "      <td>536365</td>\n",
              "      <td>71053</td>\n",
              "      <td>WHITE METAL LANTERN</td>\n",
              "      <td>6</td>\n",
              "      <td>2010-12-01 08:26:00</td>\n",
              "      <td>3.39</td>\n",
              "      <td>17850.0</td>\n",
              "      <td>United Kingdom</td>\n",
              "    </tr>\n",
              "    <tr>\n",
              "      <th>2</th>\n",
              "      <td>536365</td>\n",
              "      <td>84406B</td>\n",
              "      <td>CREAM CUPID HEARTS COAT HANGER</td>\n",
              "      <td>8</td>\n",
              "      <td>2010-12-01 08:26:00</td>\n",
              "      <td>2.75</td>\n",
              "      <td>17850.0</td>\n",
              "      <td>United Kingdom</td>\n",
              "    </tr>\n",
              "    <tr>\n",
              "      <th>3</th>\n",
              "      <td>536365</td>\n",
              "      <td>84029G</td>\n",
              "      <td>KNITTED UNION FLAG HOT WATER BOTTLE</td>\n",
              "      <td>6</td>\n",
              "      <td>2010-12-01 08:26:00</td>\n",
              "      <td>3.39</td>\n",
              "      <td>17850.0</td>\n",
              "      <td>United Kingdom</td>\n",
              "    </tr>\n",
              "    <tr>\n",
              "      <th>4</th>\n",
              "      <td>536365</td>\n",
              "      <td>84029E</td>\n",
              "      <td>RED WOOLLY HOTTIE WHITE HEART.</td>\n",
              "      <td>6</td>\n",
              "      <td>2010-12-01 08:26:00</td>\n",
              "      <td>3.39</td>\n",
              "      <td>17850.0</td>\n",
              "      <td>United Kingdom</td>\n",
              "    </tr>\n",
              "  </tbody>\n",
              "</table>\n",
              "</div>"
            ],
            "text/plain": [
              "  InvoiceNo StockCode  ... CustomerID         Country\n",
              "0    536365    85123A  ...    17850.0  United Kingdom\n",
              "1    536365     71053  ...    17850.0  United Kingdom\n",
              "2    536365    84406B  ...    17850.0  United Kingdom\n",
              "3    536365    84029G  ...    17850.0  United Kingdom\n",
              "4    536365    84029E  ...    17850.0  United Kingdom\n",
              "\n",
              "[5 rows x 8 columns]"
            ]
          },
          "metadata": {
            "tags": []
          },
          "execution_count": 4
        }
      ]
    },
    {
      "cell_type": "markdown",
      "metadata": {
        "id": "iptOnYbUAoei",
        "colab_type": "text"
      },
      "source": [
        "# Product Analytics"
      ]
    },
    {
      "cell_type": "code",
      "metadata": {
        "id": "3OBCaSdUDigq",
        "colab_type": "code",
        "colab": {
          "base_uri": "https://localhost:8080/",
          "height": 297
        },
        "outputId": "e4dacc47-3a56-4240-ae74-86ee8191b372"
      },
      "source": [
        "df.describe()"
      ],
      "execution_count": null,
      "outputs": [
        {
          "output_type": "execute_result",
          "data": {
            "text/html": [
              "<div>\n",
              "<style scoped>\n",
              "    .dataframe tbody tr th:only-of-type {\n",
              "        vertical-align: middle;\n",
              "    }\n",
              "\n",
              "    .dataframe tbody tr th {\n",
              "        vertical-align: top;\n",
              "    }\n",
              "\n",
              "    .dataframe thead th {\n",
              "        text-align: right;\n",
              "    }\n",
              "</style>\n",
              "<table border=\"1\" class=\"dataframe\">\n",
              "  <thead>\n",
              "    <tr style=\"text-align: right;\">\n",
              "      <th></th>\n",
              "      <th>Quantity</th>\n",
              "      <th>UnitPrice</th>\n",
              "      <th>CustomerID</th>\n",
              "    </tr>\n",
              "  </thead>\n",
              "  <tbody>\n",
              "    <tr>\n",
              "      <th>count</th>\n",
              "      <td>541909.000000</td>\n",
              "      <td>541909.000000</td>\n",
              "      <td>406829.000000</td>\n",
              "    </tr>\n",
              "    <tr>\n",
              "      <th>mean</th>\n",
              "      <td>9.552250</td>\n",
              "      <td>4.611114</td>\n",
              "      <td>15287.690570</td>\n",
              "    </tr>\n",
              "    <tr>\n",
              "      <th>std</th>\n",
              "      <td>218.081158</td>\n",
              "      <td>96.759853</td>\n",
              "      <td>1713.600303</td>\n",
              "    </tr>\n",
              "    <tr>\n",
              "      <th>min</th>\n",
              "      <td>-80995.000000</td>\n",
              "      <td>-11062.060000</td>\n",
              "      <td>12346.000000</td>\n",
              "    </tr>\n",
              "    <tr>\n",
              "      <th>25%</th>\n",
              "      <td>1.000000</td>\n",
              "      <td>1.250000</td>\n",
              "      <td>13953.000000</td>\n",
              "    </tr>\n",
              "    <tr>\n",
              "      <th>50%</th>\n",
              "      <td>3.000000</td>\n",
              "      <td>2.080000</td>\n",
              "      <td>15152.000000</td>\n",
              "    </tr>\n",
              "    <tr>\n",
              "      <th>75%</th>\n",
              "      <td>10.000000</td>\n",
              "      <td>4.130000</td>\n",
              "      <td>16791.000000</td>\n",
              "    </tr>\n",
              "    <tr>\n",
              "      <th>max</th>\n",
              "      <td>80995.000000</td>\n",
              "      <td>38970.000000</td>\n",
              "      <td>18287.000000</td>\n",
              "    </tr>\n",
              "  </tbody>\n",
              "</table>\n",
              "</div>"
            ],
            "text/plain": [
              "            Quantity      UnitPrice     CustomerID\n",
              "count  541909.000000  541909.000000  406829.000000\n",
              "mean        9.552250       4.611114   15287.690570\n",
              "std       218.081158      96.759853    1713.600303\n",
              "min    -80995.000000  -11062.060000   12346.000000\n",
              "25%         1.000000       1.250000   13953.000000\n",
              "50%         3.000000       2.080000   15152.000000\n",
              "75%        10.000000       4.130000   16791.000000\n",
              "max     80995.000000   38970.000000   18287.000000"
            ]
          },
          "metadata": {
            "tags": []
          },
          "execution_count": 8
        }
      ]
    },
    {
      "cell_type": "markdown",
      "metadata": {
        "id": "BgcaeMSJF_ig",
        "colab_type": "text"
      },
      "source": [
        "## Quantity Distribution"
      ]
    },
    {
      "cell_type": "code",
      "metadata": {
        "id": "zSWPOmYz-4a0",
        "colab_type": "code",
        "colab": {
          "base_uri": "https://localhost:8080/",
          "height": 447
        },
        "outputId": "2b003532-c69d-4a63-a22e-18b23388f725"
      },
      "source": [
        "ax = df['Quantity'].plot.box(\n",
        "    showfliers=False,\n",
        "    grid=True,\n",
        "    figsize=(10, 7)\n",
        ")\n",
        "\n",
        "ax.set_ylabel('Order Quantity')\n",
        "ax.set_title('Quantity Distribution')\n",
        "\n",
        "plt.suptitle(\"\")\n",
        "plt.show()"
      ],
      "execution_count": null,
      "outputs": [
        {
          "output_type": "display_data",
          "data": {
            "image/png": "[encoded data removed]",
            "text/plain": [
              "<Figure size 720x504 with 1 Axes>"
            ]
          },
          "metadata": {
            "tags": []
          }
        }
      ]
    },
    {
      "cell_type": "markdown",
      "metadata": {
        "id": "7B6JhTZEQK6O",
        "colab_type": "text"
      },
      "source": [
        "We will remove all quantity < 0"
      ]
    },
    {
      "cell_type": "code",
      "metadata": {
        "id": "kVYEe29MDyjr",
        "colab_type": "code",
        "colab": {
          "base_uri": "https://localhost:8080/",
          "height": 297
        },
        "outputId": "d9f3fe37-7ba6-4f33-da3b-aef6832e1e0d"
      },
      "source": [
        "pd.DataFrame(df['Quantity'].describe())"
      ],
      "execution_count": null,
      "outputs": [
        {
          "output_type": "execute_result",
          "data": {
            "text/html": [
              "<div>\n",
              "<style scoped>\n",
              "    .dataframe tbody tr th:only-of-type {\n",
              "        vertical-align: middle;\n",
              "    }\n",
              "\n",
              "    .dataframe tbody tr th {\n",
              "        vertical-align: top;\n",
              "    }\n",
              "\n",
              "    .dataframe thead th {\n",
              "        text-align: right;\n",
              "    }\n",
              "</style>\n",
              "<table border=\"1\" class=\"dataframe\">\n",
              "  <thead>\n",
              "    <tr style=\"text-align: right;\">\n",
              "      <th></th>\n",
              "      <th>Quantity</th>\n",
              "    </tr>\n",
              "  </thead>\n",
              "  <tbody>\n",
              "    <tr>\n",
              "      <th>count</th>\n",
              "      <td>541909.000000</td>\n",
              "    </tr>\n",
              "    <tr>\n",
              "      <th>mean</th>\n",
              "      <td>9.552250</td>\n",
              "    </tr>\n",
              "    <tr>\n",
              "      <th>std</th>\n",
              "      <td>218.081158</td>\n",
              "    </tr>\n",
              "    <tr>\n",
              "      <th>min</th>\n",
              "      <td>-80995.000000</td>\n",
              "    </tr>\n",
              "    <tr>\n",
              "      <th>25%</th>\n",
              "      <td>1.000000</td>\n",
              "    </tr>\n",
              "    <tr>\n",
              "      <th>50%</th>\n",
              "      <td>3.000000</td>\n",
              "    </tr>\n",
              "    <tr>\n",
              "      <th>75%</th>\n",
              "      <td>10.000000</td>\n",
              "    </tr>\n",
              "    <tr>\n",
              "      <th>max</th>\n",
              "      <td>80995.000000</td>\n",
              "    </tr>\n",
              "  </tbody>\n",
              "</table>\n",
              "</div>"
            ],
            "text/plain": [
              "            Quantity\n",
              "count  541909.000000\n",
              "mean        9.552250\n",
              "std       218.081158\n",
              "min    -80995.000000\n",
              "25%         1.000000\n",
              "50%         3.000000\n",
              "75%        10.000000\n",
              "max     80995.000000"
            ]
          },
          "metadata": {
            "tags": []
          },
          "execution_count": 14
        }
      ]
    },
    {
      "cell_type": "code",
      "metadata": {
        "id": "oPTE0WxMFl2M",
        "colab_type": "code",
        "colab": {
          "base_uri": "https://localhost:8080/",
          "height": 34
        },
        "outputId": "2c34b38a-39ef-4b1c-ffaa-2d2280cc334c"
      },
      "source": [
        "df.loc[df['Quantity'] > 0].shape"
      ],
      "execution_count": null,
      "outputs": [
        {
          "output_type": "execute_result",
          "data": {
            "text/plain": [
              "(531285, 8)"
            ]
          },
          "metadata": {
            "tags": []
          },
          "execution_count": 15
        }
      ]
    },
    {
      "cell_type": "code",
      "metadata": {
        "id": "VaDCrt16Fu37",
        "colab_type": "code",
        "colab": {
          "base_uri": "https://localhost:8080/",
          "height": 34
        },
        "outputId": "d475ad6e-317c-426a-bd5b-3ac9a3a1013c"
      },
      "source": [
        "df.shape"
      ],
      "execution_count": null,
      "outputs": [
        {
          "output_type": "execute_result",
          "data": {
            "text/plain": [
              "(541909, 8)"
            ]
          },
          "metadata": {
            "tags": []
          },
          "execution_count": 16
        }
      ]
    },
    {
      "cell_type": "code",
      "metadata": {
        "id": "fVedUd8IFx1l",
        "colab_type": "code",
        "colab": {
          "base_uri": "https://localhost:8080/",
          "height": 34
        },
        "outputId": "232d8c65-2456-4548-897f-036f7f42da3e"
      },
      "source": [
        "df.loc[df['Quantity'] > 0].shape[0] / df.shape[0]"
      ],
      "execution_count": null,
      "outputs": [
        {
          "output_type": "execute_result",
          "data": {
            "text/plain": [
              "0.9803952324098696"
            ]
          },
          "metadata": {
            "tags": []
          },
          "execution_count": 18
        }
      ]
    },
    {
      "cell_type": "code",
      "metadata": {
        "id": "MUb0Y3_yF0O8",
        "colab_type": "code",
        "colab": {}
      },
      "source": [
        "df = df.loc[df['Quantity'] > 0]"
      ],
      "execution_count": null,
      "outputs": []
    },
    {
      "cell_type": "markdown",
      "metadata": {
        "id": "aFdt77AIGB8W",
        "colab_type": "text"
      },
      "source": [
        "## Time-series Number of Order"
      ]
    },
    {
      "cell_type": "markdown",
      "metadata": {
        "id": "SfrVYmaTIq6p",
        "colab_type": "text"
      },
      "source": [
        "Before we look at product-level data, as a marketer for an e-commerce business, it will be\n",
        "beneficial to have a better understanding of the overall time series trends in the revenue\n",
        "and the numbers of orders or purchases. This will help us understand whether the business\n",
        "is growing or shrinking in terms of both the overall revenue and the numbers of orders we\n",
        "receive over time."
      ]
    },
    {
      "cell_type": "code",
      "metadata": {
        "id": "ymgNW9XUIMfe",
        "colab_type": "code",
        "colab": {
          "base_uri": "https://localhost:8080/",
          "height": 34
        },
        "outputId": "4db41717-6f24-4e5b-8d4b-939904115575"
      },
      "source": [
        "df.shape"
      ],
      "execution_count": null,
      "outputs": [
        {
          "output_type": "execute_result",
          "data": {
            "text/plain": [
              "(531285, 8)"
            ]
          },
          "metadata": {
            "tags": []
          },
          "execution_count": 22
        }
      ]
    },
    {
      "cell_type": "code",
      "metadata": {
        "id": "qU_5xoQfPNzl",
        "colab_type": "code",
        "colab": {
          "base_uri": "https://localhost:8080/",
          "height": 221
        },
        "outputId": "5d83179b-5905-4396-de6a-3603c5b8fd9b"
      },
      "source": [
        "df['InvoiceDate']"
      ],
      "execution_count": null,
      "outputs": [
        {
          "output_type": "execute_result",
          "data": {
            "text/plain": [
              "0        2010-12-01 08:26:00\n",
              "1        2010-12-01 08:26:00\n",
              "2        2010-12-01 08:26:00\n",
              "3        2010-12-01 08:26:00\n",
              "4        2010-12-01 08:26:00\n",
              "                 ...        \n",
              "541904   2011-12-09 12:50:00\n",
              "541905   2011-12-09 12:50:00\n",
              "541906   2011-12-09 12:50:00\n",
              "541907   2011-12-09 12:50:00\n",
              "541908   2011-12-09 12:50:00\n",
              "Name: InvoiceDate, Length: 531285, dtype: datetime64[ns]"
            ]
          },
          "metadata": {
            "tags": []
          },
          "execution_count": 25
        }
      ]
    },
    {
      "cell_type": "code",
      "metadata": {
        "id": "41HnYoXBIGtW",
        "colab_type": "code",
        "colab": {
          "base_uri": "https://localhost:8080/",
          "height": 34
        },
        "outputId": "6f1aa943-e46f-4291-895f-df168cb64505"
      },
      "source": [
        "df['InvoiceDate'].nunique()"
      ],
      "execution_count": null,
      "outputs": [
        {
          "output_type": "execute_result",
          "data": {
            "text/plain": [
              "19052"
            ]
          },
          "metadata": {
            "tags": []
          },
          "execution_count": 21
        }
      ]
    },
    {
      "cell_type": "code",
      "metadata": {
        "id": "5C7FcscrI-_X",
        "colab_type": "code",
        "colab": {
          "base_uri": "https://localhost:8080/",
          "height": 34
        },
        "outputId": "ed43dae9-29ab-4306-90af-247355520927"
      },
      "source": [
        "df['InvoiceNo'].nunique()"
      ],
      "execution_count": null,
      "outputs": [
        {
          "output_type": "execute_result",
          "data": {
            "text/plain": [
              "20728"
            ]
          },
          "metadata": {
            "tags": []
          },
          "execution_count": 23
        }
      ]
    },
    {
      "cell_type": "code",
      "metadata": {
        "id": "IupwIYF5F8Z_",
        "colab_type": "code",
        "colab": {
          "base_uri": "https://localhost:8080/",
          "height": 272
        },
        "outputId": "8a58095b-521a-42e6-bc8b-e0e3cc57e92a"
      },
      "source": [
        "monthly_orders_df = df.set_index('InvoiceDate')['InvoiceNo'].resample('M').nunique()\n",
        "monthly_orders_df\n",
        "# or: df.groupby('month')['InvoiceNo'].count()"
      ],
      "execution_count": null,
      "outputs": [
        {
          "output_type": "execute_result",
          "data": {
            "text/plain": [
              "InvoiceDate\n",
              "2010-12-31    1629\n",
              "2011-01-31    1120\n",
              "2011-02-28    1126\n",
              "2011-03-31    1531\n",
              "2011-04-30    1318\n",
              "2011-05-31    1731\n",
              "2011-06-30    1576\n",
              "2011-07-31    1540\n",
              "2011-08-31    1409\n",
              "2011-09-30    1896\n",
              "2011-10-31    2129\n",
              "2011-11-30    2884\n",
              "2011-12-31     839\n",
              "Freq: M, Name: InvoiceNo, dtype: int64"
            ]
          },
          "metadata": {
            "tags": []
          },
          "execution_count": 20
        }
      ]
    },
    {
      "cell_type": "markdown",
      "metadata": {
        "id": "7kf0vQZ-JKhN",
        "colab_type": "text"
      },
      "source": [
        "As you can see from this code, we are using the resample and nunique functions that we\n",
        "have not used in the previous chapters. The resample function resamples and converts\n",
        "time series data into the frequency we desire. In our example, we are resampling our time\n",
        "series data into monthly time series data, by using 'M' as our target frequency and\n",
        "counting the number of distinct or unique invoice numbers. This way, we can get the\n",
        "number of unique purchases or orders month-on-month. The resulting DataFrame looks\n",
        "like the following screenshot:"
      ]
    },
    {
      "cell_type": "code",
      "metadata": {
        "id": "aHxzhSNRIDaY",
        "colab_type": "code",
        "colab": {
          "base_uri": "https://localhost:8080/",
          "height": 493
        },
        "outputId": "df60c237-51b3-406e-c6b6-6ba1467f0d39"
      },
      "source": [
        "\n",
        "ax = pd.DataFrame(monthly_orders_df.values).plot(\n",
        "    grid=True,\n",
        "    figsize=(10,7),\n",
        "    legend=False\n",
        ")\n",
        "\n",
        "ax.set_xlabel('date')\n",
        "ax.set_ylabel('number of orders/invoices')\n",
        "ax.set_title('Total Number of Orders Over Time')\n",
        "\n",
        "# Good technique for xticks\n",
        "plt.xticks(\n",
        "    range(len(monthly_orders_df.index)), \n",
        "    [x.strftime('%m.%Y') for x in monthly_orders_df.index], \n",
        "    rotation=45\n",
        ")\n",
        "\n",
        "plt.show()"
      ],
      "execution_count": null,
      "outputs": [
        {
          "output_type": "display_data",
          "data": {
            "image/png": "[encoded data removed]",
            "text/plain": [
              "<Figure size 720x504 with 1 Axes>"
            ]
          },
          "metadata": {
            "tags": []
          }
        }
      ]
    },
    {
      "cell_type": "markdown",
      "metadata": {
        "id": "NmlwVd-kQO4G",
        "colab_type": "text"
      },
      "source": [
        "We will remove all order > 1/12/2011 due to not representation data (not enought data)"
      ]
    },
    {
      "cell_type": "markdown",
      "metadata": {
        "id": "tbMQek8pPVAe",
        "colab_type": "text"
      },
      "source": [
        "One thing that is noticeable from this chart is that there is a sudden radical drop in the\n",
        "number of orders in December 2011. If you look closely at the data, this is simply because\n",
        "we do not have the data for the full month of December 2011. We can verify this by using\n",
        "the following code:"
      ]
    },
    {
      "cell_type": "code",
      "metadata": {
        "id": "1vbs5WQ4NNMS",
        "colab_type": "code",
        "colab": {}
      },
      "source": [
        "invoice_dates = df.loc[\n",
        "    df['InvoiceDate'] >= '2011-12-01',\n",
        "    'InvoiceDate'\n",
        "]"
      ],
      "execution_count": null,
      "outputs": []
    },
    {
      "cell_type": "code",
      "metadata": {
        "id": "FDVROssaJb3S",
        "colab_type": "code",
        "colab": {
          "base_uri": "https://localhost:8080/",
          "height": 51
        },
        "outputId": "acefc584-46df-488a-ef36-dbb03d1d81fb"
      },
      "source": [
        "print('Min date: %s\\nMax date: %s' % (invoice_dates.min(), invoice_dates.max()))"
      ],
      "execution_count": null,
      "outputs": [
        {
          "output_type": "stream",
          "text": [
            "Min date: 2011-12-01 08:33:00\n",
            "Max date: 2011-12-09 12:50:00\n"
          ],
          "name": "stdout"
        }
      ]
    },
    {
      "cell_type": "markdown",
      "metadata": {
        "id": "WvAwU7lXP7oW",
        "colab_type": "text"
      },
      "source": [
        "As you can see from this output, we only have the data from December 1, to December 9,2011. It would be a misrepresentation if we use this data for analyzing December sales and\n",
        "revenue. For further analyses, we will disregard any data from December 1, 2011. You can\n",
        "use the following code to remove those data points:"
      ]
    },
    {
      "cell_type": "code",
      "metadata": {
        "id": "7ImBqoV_PyLn",
        "colab_type": "code",
        "colab": {
          "base_uri": "https://localhost:8080/",
          "height": 34
        },
        "outputId": "a599374a-45cc-4e91-90e7-8edb5a8afd36"
      },
      "source": [
        "df.loc[df['InvoiceDate'] < '2011-12-01'].shape"
      ],
      "execution_count": null,
      "outputs": [
        {
          "output_type": "execute_result",
          "data": {
            "text/plain": [
              "(506150, 8)"
            ]
          },
          "metadata": {
            "tags": []
          },
          "execution_count": 28
        }
      ]
    },
    {
      "cell_type": "code",
      "metadata": {
        "id": "pNN5A8y6QBoa",
        "colab_type": "code",
        "colab": {
          "base_uri": "https://localhost:8080/",
          "height": 34
        },
        "outputId": "1b4dc240-836b-4f25-d9ad-c9d7e43e1606"
      },
      "source": [
        "df.shape"
      ],
      "execution_count": null,
      "outputs": [
        {
          "output_type": "execute_result",
          "data": {
            "text/plain": [
              "(531285, 8)"
            ]
          },
          "metadata": {
            "tags": []
          },
          "execution_count": 29
        }
      ]
    },
    {
      "cell_type": "code",
      "metadata": {
        "id": "Gmbte1PfQC9k",
        "colab_type": "code",
        "colab": {}
      },
      "source": [
        "df = df.loc[df['InvoiceDate'] < '2011-12-01']"
      ],
      "execution_count": null,
      "outputs": []
    },
    {
      "cell_type": "code",
      "metadata": {
        "id": "tiqXU_O9QEK0",
        "colab_type": "code",
        "colab": {
          "base_uri": "https://localhost:8080/",
          "height": 255
        },
        "outputId": "e17d0e95-0efa-4385-88f1-0da871eb1a26"
      },
      "source": [
        "monthly_orders_df = df.set_index('InvoiceDate')['InvoiceNo'].resample('M').nunique()\n",
        "monthly_orders_df"
      ],
      "execution_count": null,
      "outputs": [
        {
          "output_type": "execute_result",
          "data": {
            "text/plain": [
              "InvoiceDate\n",
              "2010-12-31    1629\n",
              "2011-01-31    1120\n",
              "2011-02-28    1126\n",
              "2011-03-31    1531\n",
              "2011-04-30    1318\n",
              "2011-05-31    1731\n",
              "2011-06-30    1576\n",
              "2011-07-31    1540\n",
              "2011-08-31    1409\n",
              "2011-09-30    1896\n",
              "2011-10-31    2129\n",
              "2011-11-30    2884\n",
              "Freq: M, Name: InvoiceNo, dtype: int64"
            ]
          },
          "metadata": {
            "tags": []
          },
          "execution_count": 31
        }
      ]
    },
    {
      "cell_type": "code",
      "metadata": {
        "id": "e0j8fFKkQdqY",
        "colab_type": "code",
        "colab": {
          "base_uri": "https://localhost:8080/",
          "height": 493
        },
        "outputId": "ba4faa55-8268-4aea-f648-41a2a78717a4"
      },
      "source": [
        "ax = pd.DataFrame(monthly_orders_df.values).plot(\n",
        "    grid=True,\n",
        "    figsize=(10,7),\n",
        "    legend=False\n",
        ")\n",
        "\n",
        "ax.set_xlabel('date')\n",
        "ax.set_ylabel('number of orders')\n",
        "ax.set_title('Total Number of Orders Over Time')\n",
        "\n",
        "ax.set_ylim([0, max(monthly_orders_df.values)+500])\n",
        "\n",
        "plt.xticks(\n",
        "    range(len(monthly_orders_df.index)), \n",
        "    [x.strftime('%m.%Y') for x in monthly_orders_df.index], \n",
        "    rotation=45\n",
        ")\n",
        "\n",
        "plt.show()"
      ],
      "execution_count": null,
      "outputs": [
        {
          "output_type": "display_data",
          "data": {
            "image/png": "[encoded data removed]",
            "text/plain": [
              "<Figure size 720x504 with 1 Axes>"
            ]
          },
          "metadata": {
            "tags": []
          }
        }
      ]
    },
    {
      "cell_type": "markdown",
      "metadata": {
        "id": "cqjWyUAIUzqb",
        "colab_type": "text"
      },
      "source": [
        "Let's take a closer look at this chart. The monthly number of orders seems to float around\n",
        "1,500 from December 2010 to August 2011, and then increases significantly from September\n",
        "2011, and almost doubles by November 2011. One explanation for this could be that the\n",
        "business is actually growing significantly from September 2011. Another explanation could\n",
        "be seasonal effects. In e-commerce businesses, it is not rare to see spikes in sales as it\n",
        "approaches the end of the year. Typically, sales rise significantly from October to January\n",
        "for many e-commerce businesses, and without the data from the previous year, it is difficult\n",
        "to conclude whether this spike in sales is due to a growth in business or due to seasonal\n",
        "effects. When you are analyzing your data, we advise you to compare the current year's\n",
        "data against the previous year's data."
      ]
    },
    {
      "cell_type": "markdown",
      "metadata": {
        "id": "sqi_KKrBSaFz",
        "colab_type": "text"
      },
      "source": [
        "\n",
        "## Time-series Revenue"
      ]
    },
    {
      "cell_type": "code",
      "metadata": {
        "id": "677AbzgsQgBf",
        "colab_type": "code",
        "colab": {}
      },
      "source": [
        "df['Sales'] = df['Quantity'] * df['UnitPrice']"
      ],
      "execution_count": null,
      "outputs": []
    },
    {
      "cell_type": "code",
      "metadata": {
        "id": "lp08D2UlScBN",
        "colab_type": "code",
        "colab": {
          "base_uri": "https://localhost:8080/",
          "height": 255
        },
        "outputId": "59b9ebdb-20d4-47ef-9899-908c652c657f"
      },
      "source": [
        "monthly_revenue_df = df.set_index('InvoiceDate')['Sales'].resample('M').sum()\n",
        "monthly_revenue_df"
      ],
      "execution_count": null,
      "outputs": [
        {
          "output_type": "execute_result",
          "data": {
            "text/plain": [
              "InvoiceDate\n",
              "2010-12-31     823746.140\n",
              "2011-01-31     691364.560\n",
              "2011-02-28     523631.890\n",
              "2011-03-31     717639.360\n",
              "2011-04-30     537808.621\n",
              "2011-05-31     770536.020\n",
              "2011-06-30     761739.900\n",
              "2011-07-31     719221.191\n",
              "2011-08-31     737014.260\n",
              "2011-09-30    1058590.172\n",
              "2011-10-31    1154979.300\n",
              "2011-11-30    1509496.330\n",
              "Freq: M, Name: Sales, dtype: float64"
            ]
          },
          "metadata": {
            "tags": []
          },
          "execution_count": 34
        }
      ]
    },
    {
      "cell_type": "code",
      "metadata": {
        "id": "KH-L8QiBTH-C",
        "colab_type": "code",
        "colab": {
          "base_uri": "https://localhost:8080/",
          "height": 493
        },
        "outputId": "8f914a41-26ed-4a56-898e-4eacc258587e"
      },
      "source": [
        "ax = pd.DataFrame(monthly_revenue_df.values).plot(\n",
        "    grid=True,\n",
        "    figsize=(10,7),\n",
        "    legend=False\n",
        ")\n",
        "\n",
        "ax.set_xlabel('date')\n",
        "ax.set_ylabel('sales')\n",
        "ax.set_title('Total Revenue Over Time')\n",
        "\n",
        "ax.set_ylim([0, max(monthly_revenue_df.values)+100000])\n",
        "\n",
        "plt.xticks(\n",
        "    range(len(monthly_revenue_df.index)), \n",
        "    [x.strftime('%m.%Y') for x in monthly_revenue_df.index], \n",
        "    rotation=45\n",
        ")\n",
        "\n",
        "plt.show()"
      ],
      "execution_count": null,
      "outputs": [
        {
          "output_type": "display_data",
          "data": {
            "image/png": "[encoded data removed]",
            "text/plain": [
              "<Figure size 720x504 with 1 Axes>"
            ]
          },
          "metadata": {
            "tags": []
          }
        }
      ]
    },
    {
      "cell_type": "markdown",
      "metadata": {
        "id": "uaTnRDApUiUd",
        "colab_type": "text"
      },
      "source": [
        "We see a similar pattern to the previous monthly Total Number of Orders Over Time chart\n",
        "in this monthly revenue chart. The monthly revenue floats around 700,000 from December\n",
        "2010 to August 2011 and then it increases significantly from September 2011. As discussed\n",
        "before, to verify whether this significant increase in sales and revenue is due to a growth in\n",
        "business or due to seasonal effects, we need to look further back in the sales history and\n",
        "compare the current year's sales against the previous year's sales."
      ]
    },
    {
      "cell_type": "markdown",
      "metadata": {
        "id": "SlVNJ7qsWht2",
        "colab_type": "text"
      },
      "source": [
        "These types of general and broad time series analyses can help marketers gain a better\n",
        "understanding of the overall performance of the business and identify any potential\n",
        "problems that might be occurring within the business. It is generally a good idea to start\n",
        "with broader analyses, and then drill down into more granular and specific parts of the\n",
        "business for further product analytics"
      ]
    },
    {
      "cell_type": "markdown",
      "metadata": {
        "id": "dsDfPFsvVG0J",
        "colab_type": "text"
      },
      "source": [
        "## Time-series Repeat Customers"
      ]
    },
    {
      "cell_type": "markdown",
      "metadata": {
        "id": "7gMVa1E4WteX",
        "colab_type": "text"
      },
      "source": [
        "Another important factor of a successful business is how well it is retaining customers and\n",
        "how many repeat purchases and customers it has. In this section, we are going to analyze\n",
        "the number of monthly repeat purchases and how much of the monthly revenue is\n",
        "attributable to these repeat purchases and customers. A typical strong and stable business\n",
        "has a steady stream of sales from existing customers. Let's see how much of the sales are\n",
        "from repeat and existing customers of the online retail business that we are currently\n",
        "analyzing in this chapter."
      ]
    },
    {
      "cell_type": "code",
      "metadata": {
        "id": "Un0i4kDQTcoV",
        "colab_type": "code",
        "colab": {
          "base_uri": "https://localhost:8080/",
          "height": 374
        },
        "outputId": "e2507f8c-6f19-4ee7-9318-2e900a4db873"
      },
      "source": [
        "df.head()"
      ],
      "execution_count": null,
      "outputs": [
        {
          "output_type": "execute_result",
          "data": {
            "text/html": [
              "<div>\n",
              "<style scoped>\n",
              "    .dataframe tbody tr th:only-of-type {\n",
              "        vertical-align: middle;\n",
              "    }\n",
              "\n",
              "    .dataframe tbody tr th {\n",
              "        vertical-align: top;\n",
              "    }\n",
              "\n",
              "    .dataframe thead th {\n",
              "        text-align: right;\n",
              "    }\n",
              "</style>\n",
              "<table border=\"1\" class=\"dataframe\">\n",
              "  <thead>\n",
              "    <tr style=\"text-align: right;\">\n",
              "      <th></th>\n",
              "      <th>InvoiceNo</th>\n",
              "      <th>StockCode</th>\n",
              "      <th>Description</th>\n",
              "      <th>Quantity</th>\n",
              "      <th>InvoiceDate</th>\n",
              "      <th>UnitPrice</th>\n",
              "      <th>CustomerID</th>\n",
              "      <th>Country</th>\n",
              "      <th>Sales</th>\n",
              "    </tr>\n",
              "  </thead>\n",
              "  <tbody>\n",
              "    <tr>\n",
              "      <th>0</th>\n",
              "      <td>536365</td>\n",
              "      <td>85123A</td>\n",
              "      <td>WHITE HANGING HEART T-LIGHT HOLDER</td>\n",
              "      <td>6</td>\n",
              "      <td>2010-12-01 08:26:00</td>\n",
              "      <td>2.55</td>\n",
              "      <td>17850.0</td>\n",
              "      <td>United Kingdom</td>\n",
              "      <td>15.30</td>\n",
              "    </tr>\n",
              "    <tr>\n",
              "      <th>1</th>\n",
              "      <td>536365</td>\n",
              "      <td>71053</td>\n",
              "      <td>WHITE METAL LANTERN</td>\n",
              "      <td>6</td>\n",
              "      <td>2010-12-01 08:26:00</td>\n",
              "      <td>3.39</td>\n",
              "      <td>17850.0</td>\n",
              "      <td>United Kingdom</td>\n",
              "      <td>20.34</td>\n",
              "    </tr>\n",
              "    <tr>\n",
              "      <th>2</th>\n",
              "      <td>536365</td>\n",
              "      <td>84406B</td>\n",
              "      <td>CREAM CUPID HEARTS COAT HANGER</td>\n",
              "      <td>8</td>\n",
              "      <td>2010-12-01 08:26:00</td>\n",
              "      <td>2.75</td>\n",
              "      <td>17850.0</td>\n",
              "      <td>United Kingdom</td>\n",
              "      <td>22.00</td>\n",
              "    </tr>\n",
              "    <tr>\n",
              "      <th>3</th>\n",
              "      <td>536365</td>\n",
              "      <td>84029G</td>\n",
              "      <td>KNITTED UNION FLAG HOT WATER BOTTLE</td>\n",
              "      <td>6</td>\n",
              "      <td>2010-12-01 08:26:00</td>\n",
              "      <td>3.39</td>\n",
              "      <td>17850.0</td>\n",
              "      <td>United Kingdom</td>\n",
              "      <td>20.34</td>\n",
              "    </tr>\n",
              "    <tr>\n",
              "      <th>4</th>\n",
              "      <td>536365</td>\n",
              "      <td>84029E</td>\n",
              "      <td>RED WOOLLY HOTTIE WHITE HEART.</td>\n",
              "      <td>6</td>\n",
              "      <td>2010-12-01 08:26:00</td>\n",
              "      <td>3.39</td>\n",
              "      <td>17850.0</td>\n",
              "      <td>United Kingdom</td>\n",
              "      <td>20.34</td>\n",
              "    </tr>\n",
              "  </tbody>\n",
              "</table>\n",
              "</div>"
            ],
            "text/plain": [
              "  InvoiceNo StockCode  ...         Country  Sales\n",
              "0    536365    85123A  ...  United Kingdom  15.30\n",
              "1    536365     71053  ...  United Kingdom  20.34\n",
              "2    536365    84406B  ...  United Kingdom  22.00\n",
              "3    536365    84029G  ...  United Kingdom  20.34\n",
              "4    536365    84029E  ...  United Kingdom  20.34\n",
              "\n",
              "[5 rows x 9 columns]"
            ]
          },
          "metadata": {
            "tags": []
          },
          "execution_count": 42
        }
      ]
    },
    {
      "cell_type": "markdown",
      "metadata": {
        "id": "VJFTgmD7XmuB",
        "colab_type": "text"
      },
      "source": [
        "As you might have noticed from this snapshot of the data, there are multiple records for\n",
        "one purchase order (InvoiceNo). However, what we need is the aggregate data for each\n",
        "order, so that one record in the DataFrame represents one purchase order. We can\n",
        "aggregate this raw data for each InvoiceNo by using the following code:"
      ]
    },
    {
      "cell_type": "code",
      "metadata": {
        "id": "d85zi-o-XdJa",
        "colab_type": "code",
        "colab": {
          "base_uri": "https://localhost:8080/",
          "height": 419
        },
        "outputId": "f4c1c1cb-e26e-4472-e7ae-a018f8ecd2be"
      },
      "source": [
        "invoice_customer_df = df.groupby(\n",
        "    by=['InvoiceNo', 'InvoiceDate']\n",
        ").agg({\n",
        "    'Sales': sum,\n",
        "    'CustomerID': max, # specific by each invoice, no different min or max\n",
        "    'Country': max,# specific by each invoice, no different min or max\n",
        "}).reset_index()\n",
        "\n",
        "invoice_customer_df"
      ],
      "execution_count": null,
      "outputs": [
        {
          "output_type": "execute_result",
          "data": {
            "text/html": [
              "<div>\n",
              "<style scoped>\n",
              "    .dataframe tbody tr th:only-of-type {\n",
              "        vertical-align: middle;\n",
              "    }\n",
              "\n",
              "    .dataframe tbody tr th {\n",
              "        vertical-align: top;\n",
              "    }\n",
              "\n",
              "    .dataframe thead th {\n",
              "        text-align: right;\n",
              "    }\n",
              "</style>\n",
              "<table border=\"1\" class=\"dataframe\">\n",
              "  <thead>\n",
              "    <tr style=\"text-align: right;\">\n",
              "      <th></th>\n",
              "      <th>InvoiceNo</th>\n",
              "      <th>InvoiceDate</th>\n",
              "      <th>Sales</th>\n",
              "      <th>CustomerID</th>\n",
              "      <th>Country</th>\n",
              "    </tr>\n",
              "  </thead>\n",
              "  <tbody>\n",
              "    <tr>\n",
              "      <th>0</th>\n",
              "      <td>536365</td>\n",
              "      <td>2010-12-01 08:26:00</td>\n",
              "      <td>139.12</td>\n",
              "      <td>17850.0</td>\n",
              "      <td>United Kingdom</td>\n",
              "    </tr>\n",
              "    <tr>\n",
              "      <th>1</th>\n",
              "      <td>536366</td>\n",
              "      <td>2010-12-01 08:28:00</td>\n",
              "      <td>22.20</td>\n",
              "      <td>17850.0</td>\n",
              "      <td>United Kingdom</td>\n",
              "    </tr>\n",
              "    <tr>\n",
              "      <th>2</th>\n",
              "      <td>536367</td>\n",
              "      <td>2010-12-01 08:34:00</td>\n",
              "      <td>278.73</td>\n",
              "      <td>13047.0</td>\n",
              "      <td>United Kingdom</td>\n",
              "    </tr>\n",
              "    <tr>\n",
              "      <th>3</th>\n",
              "      <td>536368</td>\n",
              "      <td>2010-12-01 08:34:00</td>\n",
              "      <td>70.05</td>\n",
              "      <td>13047.0</td>\n",
              "      <td>United Kingdom</td>\n",
              "    </tr>\n",
              "    <tr>\n",
              "      <th>4</th>\n",
              "      <td>536369</td>\n",
              "      <td>2010-12-01 08:35:00</td>\n",
              "      <td>17.85</td>\n",
              "      <td>13047.0</td>\n",
              "      <td>United Kingdom</td>\n",
              "    </tr>\n",
              "    <tr>\n",
              "      <th>...</th>\n",
              "      <td>...</td>\n",
              "      <td>...</td>\n",
              "      <td>...</td>\n",
              "      <td>...</td>\n",
              "      <td>...</td>\n",
              "    </tr>\n",
              "    <tr>\n",
              "      <th>19926</th>\n",
              "      <td>579881</td>\n",
              "      <td>2011-11-30 17:22:00</td>\n",
              "      <td>905.52</td>\n",
              "      <td>12429.0</td>\n",
              "      <td>Denmark</td>\n",
              "    </tr>\n",
              "    <tr>\n",
              "      <th>19927</th>\n",
              "      <td>579885</td>\n",
              "      <td>2011-11-30 17:37:00</td>\n",
              "      <td>1075.36</td>\n",
              "      <td>15444.0</td>\n",
              "      <td>United Kingdom</td>\n",
              "    </tr>\n",
              "    <tr>\n",
              "      <th>19928</th>\n",
              "      <td>A563185</td>\n",
              "      <td>2011-08-12 14:50:00</td>\n",
              "      <td>11062.06</td>\n",
              "      <td>NaN</td>\n",
              "      <td>United Kingdom</td>\n",
              "    </tr>\n",
              "    <tr>\n",
              "      <th>19929</th>\n",
              "      <td>A563186</td>\n",
              "      <td>2011-08-12 14:51:00</td>\n",
              "      <td>-11062.06</td>\n",
              "      <td>NaN</td>\n",
              "      <td>United Kingdom</td>\n",
              "    </tr>\n",
              "    <tr>\n",
              "      <th>19930</th>\n",
              "      <td>A563187</td>\n",
              "      <td>2011-08-12 14:52:00</td>\n",
              "      <td>-11062.06</td>\n",
              "      <td>NaN</td>\n",
              "      <td>United Kingdom</td>\n",
              "    </tr>\n",
              "  </tbody>\n",
              "</table>\n",
              "<p>19931 rows × 5 columns</p>\n",
              "</div>"
            ],
            "text/plain": [
              "      InvoiceNo         InvoiceDate     Sales  CustomerID         Country\n",
              "0        536365 2010-12-01 08:26:00    139.12     17850.0  United Kingdom\n",
              "1        536366 2010-12-01 08:28:00     22.20     17850.0  United Kingdom\n",
              "2        536367 2010-12-01 08:34:00    278.73     13047.0  United Kingdom\n",
              "3        536368 2010-12-01 08:34:00     70.05     13047.0  United Kingdom\n",
              "4        536369 2010-12-01 08:35:00     17.85     13047.0  United Kingdom\n",
              "...         ...                 ...       ...         ...             ...\n",
              "19926    579881 2011-11-30 17:22:00    905.52     12429.0         Denmark\n",
              "19927    579885 2011-11-30 17:37:00   1075.36     15444.0  United Kingdom\n",
              "19928   A563185 2011-08-12 14:50:00  11062.06         NaN  United Kingdom\n",
              "19929   A563186 2011-08-12 14:51:00 -11062.06         NaN  United Kingdom\n",
              "19930   A563187 2011-08-12 14:52:00 -11062.06         NaN  United Kingdom\n",
              "\n",
              "[19931 rows x 5 columns]"
            ]
          },
          "metadata": {
            "tags": []
          },
          "execution_count": 47
        }
      ]
    },
    {
      "cell_type": "code",
      "metadata": {
        "id": "9pwOIVU0ZUSy",
        "colab_type": "code",
        "colab": {
          "base_uri": "https://localhost:8080/",
          "height": 255
        },
        "outputId": "0e01a53d-17c5-495d-a5c8-887c0ce8b57b"
      },
      "source": [
        "monthly_repeat_customers_df = invoice_customer_df.set_index('InvoiceDate').groupby([\n",
        "    pd.Grouper(freq='M'), 'CustomerID'\n",
        "]).filter(lambda x: len(x) > 1).resample('M').nunique()['CustomerID']\n",
        "\n",
        "monthly_repeat_customers_df"
      ],
      "execution_count": null,
      "outputs": [
        {
          "output_type": "execute_result",
          "data": {
            "text/plain": [
              "InvoiceDate\n",
              "2010-12-31    263\n",
              "2011-01-31    153\n",
              "2011-02-28    153\n",
              "2011-03-31    203\n",
              "2011-04-30    170\n",
              "2011-05-31    281\n",
              "2011-06-30    220\n",
              "2011-07-31    227\n",
              "2011-08-31    198\n",
              "2011-09-30    272\n",
              "2011-10-31    324\n",
              "2011-11-30    541\n",
              "Freq: M, Name: CustomerID, dtype: int64"
            ]
          },
          "metadata": {
            "tags": []
          },
          "execution_count": 48
        }
      ]
    },
    {
      "cell_type": "markdown",
      "metadata": {
        "id": "t0oKsjKJcn6V",
        "colab_type": "text"
      },
      "source": [
        "Let's take a closer look at the groupby function in this code. Here, we group by two\n",
        "conditions—pd.Grouper(freq='M') and CustomerID. The first groupby\n",
        "condition, pd.Grouper(freq='M'), groups the data by the index, InvoiceDate, into each\n",
        "month. Then, we group this data by each CustomerID. Using the filter function, we can\n",
        "subselect the data by a custom rule. Here, the filtering rule, lambda x: len(x) > 1,\n",
        "means we want to retrieve those with more than one record in the group. In other words,\n",
        "we want to retrieve only those customers with more than one order in a given month.\n",
        "Lastly, we resample and aggregate by each month and count the number of unique\n",
        "customers in each month by using resample('M') and nunique."
      ]
    },
    {
      "cell_type": "code",
      "metadata": {
        "id": "mHBzbv4pcCTI",
        "colab_type": "code",
        "colab": {
          "base_uri": "https://localhost:8080/",
          "height": 255
        },
        "outputId": "33114962-6d55-41d6-a663-7e33b4c4b947"
      },
      "source": [
        "monthly_unique_customers_df = df.set_index('InvoiceDate')['CustomerID'].resample('M').nunique()\n",
        "monthly_unique_customers_df"
      ],
      "execution_count": null,
      "outputs": [
        {
          "output_type": "execute_result",
          "data": {
            "text/plain": [
              "InvoiceDate\n",
              "2010-12-31     885\n",
              "2011-01-31     741\n",
              "2011-02-28     758\n",
              "2011-03-31     974\n",
              "2011-04-30     856\n",
              "2011-05-31    1056\n",
              "2011-06-30     991\n",
              "2011-07-31     949\n",
              "2011-08-31     935\n",
              "2011-09-30    1266\n",
              "2011-10-31    1364\n",
              "2011-11-30    1665\n",
              "Freq: M, Name: CustomerID, dtype: int64"
            ]
          },
          "metadata": {
            "tags": []
          },
          "execution_count": 50
        }
      ]
    },
    {
      "cell_type": "code",
      "metadata": {
        "id": "8jjPxE3fZwlf",
        "colab_type": "code",
        "colab": {
          "base_uri": "https://localhost:8080/",
          "height": 255
        },
        "outputId": "2bcd0743-531d-4af0-baed-54dfd88c1e8c"
      },
      "source": [
        "monthly_repeat_percentage = monthly_repeat_customers_df/monthly_unique_customers_df*100.0\n",
        "monthly_repeat_percentage"
      ],
      "execution_count": null,
      "outputs": [
        {
          "output_type": "execute_result",
          "data": {
            "text/plain": [
              "InvoiceDate\n",
              "2010-12-31    29.717514\n",
              "2011-01-31    20.647773\n",
              "2011-02-28    20.184697\n",
              "2011-03-31    20.841889\n",
              "2011-04-30    19.859813\n",
              "2011-05-31    26.609848\n",
              "2011-06-30    22.199798\n",
              "2011-07-31    23.919916\n",
              "2011-08-31    21.176471\n",
              "2011-09-30    21.484992\n",
              "2011-10-31    23.753666\n",
              "2011-11-30    32.492492\n",
              "Freq: M, Name: CustomerID, dtype: float64"
            ]
          },
          "metadata": {
            "tags": []
          },
          "execution_count": 51
        }
      ]
    },
    {
      "cell_type": "code",
      "metadata": {
        "id": "hhcLukzxb-cZ",
        "colab_type": "code",
        "colab": {
          "base_uri": "https://localhost:8080/",
          "height": 499
        },
        "outputId": "6176f293-aef4-47bc-9bb3-f611cc85ade4"
      },
      "source": [
        "# plot monthly_repeat_customers_df (repeat customer)\n",
        "ax = pd.DataFrame(monthly_repeat_customers_df.values).plot(\n",
        "    figsize=(10,7)\n",
        ")\n",
        "# plot monthly_unique_customers_df (all customer)\n",
        "pd.DataFrame(monthly_unique_customers_df.values).plot(\n",
        "    ax=ax,\n",
        "    grid=True\n",
        ")\n",
        "\n",
        "# plot monthly_repeat_percentage\n",
        "ax2 = pd.DataFrame(monthly_repeat_percentage.values).plot.bar(\n",
        "    ax=ax,\n",
        "    grid=True,\n",
        "    secondary_y=True,\n",
        "    color='green',\n",
        "    alpha=0.2\n",
        ")\n",
        "\n",
        "ax.set_xlabel('date')\n",
        "ax.set_ylabel('number of customers')\n",
        "ax.set_title('Number of All vs. Repeat Customers Over Time')\n",
        "\n",
        "ax2.set_ylabel('percentage (%)')\n",
        "\n",
        "ax.legend(['Repeat Customers', 'All Customers'])\n",
        "ax2.legend(['Percentage of Repeat'], loc='upper right')\n",
        "\n",
        "ax.set_ylim([0, monthly_unique_customers_df.values.max()+100])\n",
        "ax2.set_ylim([0, 100])\n",
        "\n",
        "plt.xticks(\n",
        "    range(len(monthly_repeat_customers_df.index)), \n",
        "    [x.strftime('%m.%Y') for x in monthly_repeat_customers_df.index], \n",
        "    rotation=45\n",
        ")\n",
        "\n",
        "plt.show()"
      ],
      "execution_count": null,
      "outputs": [
        {
          "output_type": "display_data",
          "data": {
            "image/png": "[encoded data removed]",
            "text/plain": [
              "<Figure size 720x504 with 2 Axes>"
            ]
          },
          "metadata": {
            "tags": []
          }
        }
      ]
    },
    {
      "cell_type": "markdown",
      "metadata": {
        "id": "d3jF27KUd07Q",
        "colab_type": "text"
      },
      "source": [
        "As you can see from this chart, the numbers of both repeat and all customers start to rise\n",
        "significantly from September 2011. The percentage of Repeat Customers seems to stay\n",
        "pretty consistent at about 20 to 30%. This online retail business will benefit from this steady\n",
        "stream of Repeat Customers, as they will help the business to generate a stable stream of\n",
        "sales. Let's now analyze how much of the monthly revenue comes from these Repeat\n",
        "Customers"
      ]
    },
    {
      "cell_type": "markdown",
      "metadata": {
        "id": "CbHhNgMves6N",
        "colab_type": "text"
      },
      "source": [
        "## Revenue from Repeat Customers"
      ]
    },
    {
      "cell_type": "code",
      "metadata": {
        "id": "Vcf5ymhIcGmk",
        "colab_type": "code",
        "colab": {
          "base_uri": "https://localhost:8080/",
          "height": 255
        },
        "outputId": "9a95e074-7ce3-42e8-d5fa-ab9b283930a8"
      },
      "source": [
        "monthly_rev_repeat_customers_df = invoice_customer_df.set_index('InvoiceDate').groupby([\n",
        "    pd.Grouper(freq='M'), 'CustomerID'\n",
        "]).filter(lambda x: len(x) > 1).resample('M').sum()['Sales']\n",
        "monthly_rev_repeat_customers_df "
      ],
      "execution_count": null,
      "outputs": [
        {
          "output_type": "execute_result",
          "data": {
            "text/plain": [
              "InvoiceDate\n",
              "2010-12-31    359170.60\n",
              "2011-01-31    222124.00\n",
              "2011-02-28    191229.37\n",
              "2011-03-31    267390.48\n",
              "2011-04-30    195474.18\n",
              "2011-05-31    378197.04\n",
              "2011-06-30    376307.26\n",
              "2011-07-31    317475.00\n",
              "2011-08-31    317134.25\n",
              "2011-09-30    500663.36\n",
              "2011-10-31    574006.87\n",
              "2011-11-30    713775.85\n",
              "Freq: M, Name: Sales, dtype: float64"
            ]
          },
          "metadata": {
            "tags": []
          },
          "execution_count": 53
        }
      ]
    },
    {
      "cell_type": "markdown",
      "metadata": {
        "id": "AZx3hPgLfbde",
        "colab_type": "text"
      },
      "source": [
        "The only difference between this code and the previous code is the aggregate function, sum,\n",
        "that follows resample('M'). In the previous case, when we were computing the number\n",
        "of monthly repeat customers, we used the nunique function. However, this time we are\n",
        "using the sum function to add all the sales from repeat customers for a given month. For\n",
        "visualization, you can use the following code:"
      ]
    },
    {
      "cell_type": "code",
      "metadata": {
        "id": "9bY6mctte0ZT",
        "colab_type": "code",
        "colab": {
          "base_uri": "https://localhost:8080/",
          "height": 255
        },
        "outputId": "de0e6a64-9bf7-40a2-f93f-4022f8a37c41"
      },
      "source": [
        "monthly_rev_perc_repeat_customers_df = monthly_rev_repeat_customers_df/monthly_revenue_df * 100.0\n",
        "monthly_rev_perc_repeat_customers_df"
      ],
      "execution_count": null,
      "outputs": [
        {
          "output_type": "execute_result",
          "data": {
            "text/plain": [
              "InvoiceDate\n",
              "2010-12-31    43.602098\n",
              "2011-01-31    32.128346\n",
              "2011-02-28    36.519810\n",
              "2011-03-31    37.259729\n",
              "2011-04-30    36.346420\n",
              "2011-05-31    49.082331\n",
              "2011-06-30    49.401017\n",
              "2011-07-31    44.141497\n",
              "2011-08-31    43.029595\n",
              "2011-09-30    47.295296\n",
              "2011-10-31    49.698455\n",
              "2011-11-30    47.285696\n",
              "Freq: M, Name: Sales, dtype: float64"
            ]
          },
          "metadata": {
            "tags": []
          },
          "execution_count": 55
        }
      ]
    },
    {
      "cell_type": "code",
      "metadata": {
        "id": "lyP7PTSoe4Gg",
        "colab_type": "code",
        "colab": {
          "base_uri": "https://localhost:8080/",
          "height": 573
        },
        "outputId": "ffccba33-8318-4f31-9ab0-91ce84464d2c"
      },
      "source": [
        "ax = pd.DataFrame(monthly_revenue_df.values).plot(figsize=(12,9))\n",
        "\n",
        "pd.DataFrame(monthly_rev_repeat_customers_df.values).plot(\n",
        "    ax=ax,\n",
        "    grid=True,\n",
        ")\n",
        "\n",
        "ax.set_xlabel('date')\n",
        "ax.set_ylabel('sales')\n",
        "ax.set_title('Total Revenue vs. Revenue from Repeat Customers')\n",
        "\n",
        "ax.legend(['Total Revenue', 'Repeat Customer Revenue'])\n",
        "\n",
        "ax.set_ylim([0, max(monthly_revenue_df.values)+100000])\n",
        "\n",
        "ax2 = ax.twinx()\n",
        "\n",
        "pd.DataFrame(monthly_rev_perc_repeat_customers_df.values).plot(\n",
        "    ax=ax2,\n",
        "    kind='bar',\n",
        "    color='g',\n",
        "    alpha=0.2\n",
        ")\n",
        "\n",
        "ax2.set_ylim([0, max(monthly_rev_perc_repeat_customers_df.values)+30])\n",
        "ax2.set_ylabel('percentage (%)')\n",
        "ax2.legend(['Repeat Revenue Percentage'])\n",
        "\n",
        "ax2.set_xticklabels([\n",
        "    x.strftime('%m.%Y') for x in monthly_rev_perc_repeat_customers_df.index\n",
        "])\n",
        "\n",
        "plt.show()"
      ],
      "execution_count": null,
      "outputs": [
        {
          "output_type": "display_data",
          "data": {
            "image/png": "[encoded data removed]",
            "text/plain": [
              "<Figure size 864x648 with 2 Axes>"
            ]
          },
          "metadata": {
            "tags": []
          }
        }
      ]
    },
    {
      "cell_type": "markdown",
      "metadata": {
        "id": "0j_u_V-4fhmV",
        "colab_type": "text"
      },
      "source": [
        "We see a similar pattern as before, where there is a significant increase in the revenue from\n",
        "September 2011. One interesting thing to notice here is the percentage of the monthly\n",
        "revenue from repeat customers. We have seen that roughly 20-30% of the customers who\n",
        "made purchases are repeat customers. However, in this graph, we can see that roughly\n",
        "40-50% of the Total Revenue is from repeat customers. In other words, roughly half of the\n",
        "revenue was driven by the 20-30% of the customer base who are repeat customers. This\n",
        "shows how important it is to retain existing customers."
      ]
    },
    {
      "cell_type": "markdown",
      "metadata": {
        "id": "VZbTebtSfqg3",
        "colab_type": "text"
      },
      "source": [
        "## Popular Items Over Time"
      ]
    },
    {
      "cell_type": "code",
      "metadata": {
        "id": "1_q5kYJvfAvx",
        "colab_type": "code",
        "colab": {
          "base_uri": "https://localhost:8080/",
          "height": 450
        },
        "outputId": "362164b8-2e2d-45c3-d95f-1f8d6e27f9bc"
      },
      "source": [
        "date_item_df = pd.DataFrame(\n",
        "    df.set_index('InvoiceDate').groupby([\n",
        "        pd.Grouper(freq='M'), 'StockCode'\n",
        "    ])['Quantity'].sum()\n",
        ")\n",
        "date_item_df"
      ],
      "execution_count": null,
      "outputs": [
        {
          "output_type": "execute_result",
          "data": {
            "text/html": [
              "<div>\n",
              "<style scoped>\n",
              "    .dataframe tbody tr th:only-of-type {\n",
              "        vertical-align: middle;\n",
              "    }\n",
              "\n",
              "    .dataframe tbody tr th {\n",
              "        vertical-align: top;\n",
              "    }\n",
              "\n",
              "    .dataframe thead th {\n",
              "        text-align: right;\n",
              "    }\n",
              "</style>\n",
              "<table border=\"1\" class=\"dataframe\">\n",
              "  <thead>\n",
              "    <tr style=\"text-align: right;\">\n",
              "      <th></th>\n",
              "      <th></th>\n",
              "      <th>Quantity</th>\n",
              "    </tr>\n",
              "    <tr>\n",
              "      <th>InvoiceDate</th>\n",
              "      <th>StockCode</th>\n",
              "      <th></th>\n",
              "    </tr>\n",
              "  </thead>\n",
              "  <tbody>\n",
              "    <tr>\n",
              "      <th rowspan=\"5\" valign=\"top\">2010-12-31</th>\n",
              "      <th>10002</th>\n",
              "      <td>251</td>\n",
              "    </tr>\n",
              "    <tr>\n",
              "      <th>10120</th>\n",
              "      <td>16</td>\n",
              "    </tr>\n",
              "    <tr>\n",
              "      <th>10125</th>\n",
              "      <td>154</td>\n",
              "    </tr>\n",
              "    <tr>\n",
              "      <th>10133</th>\n",
              "      <td>130</td>\n",
              "    </tr>\n",
              "    <tr>\n",
              "      <th>10135</th>\n",
              "      <td>411</td>\n",
              "    </tr>\n",
              "    <tr>\n",
              "      <th>...</th>\n",
              "      <th>...</th>\n",
              "      <td>...</td>\n",
              "    </tr>\n",
              "    <tr>\n",
              "      <th rowspan=\"5\" valign=\"top\">2011-11-30</th>\n",
              "      <th>C2</th>\n",
              "      <td>173</td>\n",
              "    </tr>\n",
              "    <tr>\n",
              "      <th>DCGSSGIRL</th>\n",
              "      <td>1</td>\n",
              "    </tr>\n",
              "    <tr>\n",
              "      <th>DOT</th>\n",
              "      <td>47</td>\n",
              "    </tr>\n",
              "    <tr>\n",
              "      <th>M</th>\n",
              "      <td>3894</td>\n",
              "    </tr>\n",
              "    <tr>\n",
              "      <th>POST</th>\n",
              "      <td>1262</td>\n",
              "    </tr>\n",
              "  </tbody>\n",
              "</table>\n",
              "<p>31701 rows × 1 columns</p>\n",
              "</div>"
            ],
            "text/plain": [
              "                       Quantity\n",
              "InvoiceDate StockCode          \n",
              "2010-12-31  10002           251\n",
              "            10120            16\n",
              "            10125           154\n",
              "            10133           130\n",
              "            10135           411\n",
              "...                         ...\n",
              "2011-11-30  C2              173\n",
              "            DCGSSGIRL         1\n",
              "            DOT              47\n",
              "            M              3894\n",
              "            POST           1262\n",
              "\n",
              "[31701 rows x 1 columns]"
            ]
          },
          "metadata": {
            "tags": []
          },
          "execution_count": 57
        }
      ]
    },
    {
      "cell_type": "code",
      "metadata": {
        "id": "qZu9gDQyfs8S",
        "colab_type": "code",
        "colab": {
          "base_uri": "https://localhost:8080/",
          "height": 419
        },
        "outputId": "796e9328-3185-4de3-efa1-9e37dffd6c66"
      },
      "source": [
        "# Rank items by the last month sales\n",
        "last_month_sorted_df = date_item_df.loc['2011-11-30'].sort_values(\n",
        "    by='Quantity', ascending=False\n",
        ").reset_index()\n",
        "\n",
        "last_month_sorted_df"
      ],
      "execution_count": null,
      "outputs": [
        {
          "output_type": "execute_result",
          "data": {
            "text/html": [
              "<div>\n",
              "<style scoped>\n",
              "    .dataframe tbody tr th:only-of-type {\n",
              "        vertical-align: middle;\n",
              "    }\n",
              "\n",
              "    .dataframe tbody tr th {\n",
              "        vertical-align: top;\n",
              "    }\n",
              "\n",
              "    .dataframe thead th {\n",
              "        text-align: right;\n",
              "    }\n",
              "</style>\n",
              "<table border=\"1\" class=\"dataframe\">\n",
              "  <thead>\n",
              "    <tr style=\"text-align: right;\">\n",
              "      <th></th>\n",
              "      <th>InvoiceDate</th>\n",
              "      <th>StockCode</th>\n",
              "      <th>Quantity</th>\n",
              "    </tr>\n",
              "  </thead>\n",
              "  <tbody>\n",
              "    <tr>\n",
              "      <th>0</th>\n",
              "      <td>2011-11-30</td>\n",
              "      <td>23084</td>\n",
              "      <td>14954</td>\n",
              "    </tr>\n",
              "    <tr>\n",
              "      <th>1</th>\n",
              "      <td>2011-11-30</td>\n",
              "      <td>84826</td>\n",
              "      <td>12551</td>\n",
              "    </tr>\n",
              "    <tr>\n",
              "      <th>2</th>\n",
              "      <td>2011-11-30</td>\n",
              "      <td>22197</td>\n",
              "      <td>12460</td>\n",
              "    </tr>\n",
              "    <tr>\n",
              "      <th>3</th>\n",
              "      <td>2011-11-30</td>\n",
              "      <td>22086</td>\n",
              "      <td>7908</td>\n",
              "    </tr>\n",
              "    <tr>\n",
              "      <th>4</th>\n",
              "      <td>2011-11-30</td>\n",
              "      <td>85099B</td>\n",
              "      <td>5909</td>\n",
              "    </tr>\n",
              "    <tr>\n",
              "      <th>...</th>\n",
              "      <td>...</td>\n",
              "      <td>...</td>\n",
              "      <td>...</td>\n",
              "    </tr>\n",
              "    <tr>\n",
              "      <th>2941</th>\n",
              "      <td>2011-11-30</td>\n",
              "      <td>84549</td>\n",
              "      <td>1</td>\n",
              "    </tr>\n",
              "    <tr>\n",
              "      <th>2942</th>\n",
              "      <td>2011-11-30</td>\n",
              "      <td>84527</td>\n",
              "      <td>1</td>\n",
              "    </tr>\n",
              "    <tr>\n",
              "      <th>2943</th>\n",
              "      <td>2011-11-30</td>\n",
              "      <td>90082B</td>\n",
              "      <td>1</td>\n",
              "    </tr>\n",
              "    <tr>\n",
              "      <th>2944</th>\n",
              "      <td>2011-11-30</td>\n",
              "      <td>90082D</td>\n",
              "      <td>1</td>\n",
              "    </tr>\n",
              "    <tr>\n",
              "      <th>2945</th>\n",
              "      <td>2011-11-30</td>\n",
              "      <td>90026D</td>\n",
              "      <td>1</td>\n",
              "    </tr>\n",
              "  </tbody>\n",
              "</table>\n",
              "<p>2946 rows × 3 columns</p>\n",
              "</div>"
            ],
            "text/plain": [
              "     InvoiceDate StockCode  Quantity\n",
              "0     2011-11-30     23084     14954\n",
              "1     2011-11-30     84826     12551\n",
              "2     2011-11-30     22197     12460\n",
              "3     2011-11-30     22086      7908\n",
              "4     2011-11-30    85099B      5909\n",
              "...          ...       ...       ...\n",
              "2941  2011-11-30     84549         1\n",
              "2942  2011-11-30     84527         1\n",
              "2943  2011-11-30    90082B         1\n",
              "2944  2011-11-30    90082D         1\n",
              "2945  2011-11-30    90026D         1\n",
              "\n",
              "[2946 rows x 3 columns]"
            ]
          },
          "metadata": {
            "tags": []
          },
          "execution_count": 58
        }
      ]
    },
    {
      "cell_type": "code",
      "metadata": {
        "id": "HhxUl1vlfzAx",
        "colab_type": "code",
        "colab": {
          "base_uri": "https://localhost:8080/",
          "height": 1000
        },
        "outputId": "8403b8da-f1db-4711-e834-e137dfc6faaa"
      },
      "source": [
        "# Regroup for top 5 items\n",
        "date_item_df = pd.DataFrame(\n",
        "    df.loc[\n",
        "        df['StockCode'].isin([23084, 84826, 22197, 22086, '85099B'])\n",
        "    ].set_index('InvoiceDate').groupby([\n",
        "        pd.Grouper(freq='M'), 'StockCode'\n",
        "    ])['Quantity'].sum()\n",
        ")\n",
        "date_item_df"
      ],
      "execution_count": null,
      "outputs": [
        {
          "output_type": "execute_result",
          "data": {
            "text/html": [
              "<div>\n",
              "<style scoped>\n",
              "    .dataframe tbody tr th:only-of-type {\n",
              "        vertical-align: middle;\n",
              "    }\n",
              "\n",
              "    .dataframe tbody tr th {\n",
              "        vertical-align: top;\n",
              "    }\n",
              "\n",
              "    .dataframe thead th {\n",
              "        text-align: right;\n",
              "    }\n",
              "</style>\n",
              "<table border=\"1\" class=\"dataframe\">\n",
              "  <thead>\n",
              "    <tr style=\"text-align: right;\">\n",
              "      <th></th>\n",
              "      <th></th>\n",
              "      <th>Quantity</th>\n",
              "    </tr>\n",
              "    <tr>\n",
              "      <th>InvoiceDate</th>\n",
              "      <th>StockCode</th>\n",
              "      <th></th>\n",
              "    </tr>\n",
              "  </thead>\n",
              "  <tbody>\n",
              "    <tr>\n",
              "      <th rowspan=\"4\" valign=\"top\">2010-12-31</th>\n",
              "      <th>22086</th>\n",
              "      <td>2460</td>\n",
              "    </tr>\n",
              "    <tr>\n",
              "      <th>22197</th>\n",
              "      <td>2738</td>\n",
              "    </tr>\n",
              "    <tr>\n",
              "      <th>84826</th>\n",
              "      <td>366</td>\n",
              "    </tr>\n",
              "    <tr>\n",
              "      <th>85099B</th>\n",
              "      <td>2152</td>\n",
              "    </tr>\n",
              "    <tr>\n",
              "      <th rowspan=\"4\" valign=\"top\">2011-01-31</th>\n",
              "      <th>22086</th>\n",
              "      <td>24</td>\n",
              "    </tr>\n",
              "    <tr>\n",
              "      <th>22197</th>\n",
              "      <td>1824</td>\n",
              "    </tr>\n",
              "    <tr>\n",
              "      <th>84826</th>\n",
              "      <td>480</td>\n",
              "    </tr>\n",
              "    <tr>\n",
              "      <th>85099B</th>\n",
              "      <td>2747</td>\n",
              "    </tr>\n",
              "    <tr>\n",
              "      <th rowspan=\"4\" valign=\"top\">2011-02-28</th>\n",
              "      <th>22086</th>\n",
              "      <td>5</td>\n",
              "    </tr>\n",
              "    <tr>\n",
              "      <th>22197</th>\n",
              "      <td>2666</td>\n",
              "    </tr>\n",
              "    <tr>\n",
              "      <th>84826</th>\n",
              "      <td>66</td>\n",
              "    </tr>\n",
              "    <tr>\n",
              "      <th>85099B</th>\n",
              "      <td>3080</td>\n",
              "    </tr>\n",
              "    <tr>\n",
              "      <th rowspan=\"4\" valign=\"top\">2011-03-31</th>\n",
              "      <th>22086</th>\n",
              "      <td>87</td>\n",
              "    </tr>\n",
              "    <tr>\n",
              "      <th>22197</th>\n",
              "      <td>2803</td>\n",
              "    </tr>\n",
              "    <tr>\n",
              "      <th>84826</th>\n",
              "      <td>60</td>\n",
              "    </tr>\n",
              "    <tr>\n",
              "      <th>85099B</th>\n",
              "      <td>5282</td>\n",
              "    </tr>\n",
              "    <tr>\n",
              "      <th rowspan=\"4\" valign=\"top\">2011-04-30</th>\n",
              "      <th>22086</th>\n",
              "      <td>13</td>\n",
              "    </tr>\n",
              "    <tr>\n",
              "      <th>22197</th>\n",
              "      <td>1869</td>\n",
              "    </tr>\n",
              "    <tr>\n",
              "      <th>84826</th>\n",
              "      <td>1</td>\n",
              "    </tr>\n",
              "    <tr>\n",
              "      <th>85099B</th>\n",
              "      <td>2456</td>\n",
              "    </tr>\n",
              "    <tr>\n",
              "      <th rowspan=\"4\" valign=\"top\">2011-05-31</th>\n",
              "      <th>22086</th>\n",
              "      <td>17</td>\n",
              "    </tr>\n",
              "    <tr>\n",
              "      <th>22197</th>\n",
              "      <td>6849</td>\n",
              "    </tr>\n",
              "    <tr>\n",
              "      <th>23084</th>\n",
              "      <td>1131</td>\n",
              "    </tr>\n",
              "    <tr>\n",
              "      <th>85099B</th>\n",
              "      <td>3621</td>\n",
              "    </tr>\n",
              "    <tr>\n",
              "      <th rowspan=\"5\" valign=\"top\">2011-06-30</th>\n",
              "      <th>22086</th>\n",
              "      <td>344</td>\n",
              "    </tr>\n",
              "    <tr>\n",
              "      <th>22197</th>\n",
              "      <td>2095</td>\n",
              "    </tr>\n",
              "    <tr>\n",
              "      <th>23084</th>\n",
              "      <td>1713</td>\n",
              "    </tr>\n",
              "    <tr>\n",
              "      <th>84826</th>\n",
              "      <td>4</td>\n",
              "    </tr>\n",
              "    <tr>\n",
              "      <th>85099B</th>\n",
              "      <td>3682</td>\n",
              "    </tr>\n",
              "    <tr>\n",
              "      <th rowspan=\"5\" valign=\"top\">2011-07-31</th>\n",
              "      <th>22086</th>\n",
              "      <td>383</td>\n",
              "    </tr>\n",
              "    <tr>\n",
              "      <th>22197</th>\n",
              "      <td>1876</td>\n",
              "    </tr>\n",
              "    <tr>\n",
              "      <th>23084</th>\n",
              "      <td>318</td>\n",
              "    </tr>\n",
              "    <tr>\n",
              "      <th>84826</th>\n",
              "      <td>2</td>\n",
              "    </tr>\n",
              "    <tr>\n",
              "      <th>85099B</th>\n",
              "      <td>3129</td>\n",
              "    </tr>\n",
              "    <tr>\n",
              "      <th rowspan=\"5\" valign=\"top\">2011-08-31</th>\n",
              "      <th>22086</th>\n",
              "      <td>490</td>\n",
              "    </tr>\n",
              "    <tr>\n",
              "      <th>22197</th>\n",
              "      <td>5421</td>\n",
              "    </tr>\n",
              "    <tr>\n",
              "      <th>23084</th>\n",
              "      <td>2267</td>\n",
              "    </tr>\n",
              "    <tr>\n",
              "      <th>84826</th>\n",
              "      <td>72</td>\n",
              "    </tr>\n",
              "    <tr>\n",
              "      <th>85099B</th>\n",
              "      <td>5502</td>\n",
              "    </tr>\n",
              "    <tr>\n",
              "      <th rowspan=\"4\" valign=\"top\">2011-09-30</th>\n",
              "      <th>22086</th>\n",
              "      <td>2106</td>\n",
              "    </tr>\n",
              "    <tr>\n",
              "      <th>22197</th>\n",
              "      <td>4196</td>\n",
              "    </tr>\n",
              "    <tr>\n",
              "      <th>23084</th>\n",
              "      <td>680</td>\n",
              "    </tr>\n",
              "    <tr>\n",
              "      <th>85099B</th>\n",
              "      <td>4401</td>\n",
              "    </tr>\n",
              "    <tr>\n",
              "      <th rowspan=\"5\" valign=\"top\">2011-10-31</th>\n",
              "      <th>22086</th>\n",
              "      <td>3429</td>\n",
              "    </tr>\n",
              "    <tr>\n",
              "      <th>22197</th>\n",
              "      <td>5907</td>\n",
              "    </tr>\n",
              "    <tr>\n",
              "      <th>23084</th>\n",
              "      <td>6348</td>\n",
              "    </tr>\n",
              "    <tr>\n",
              "      <th>84826</th>\n",
              "      <td>11</td>\n",
              "    </tr>\n",
              "    <tr>\n",
              "      <th>85099B</th>\n",
              "      <td>5412</td>\n",
              "    </tr>\n",
              "    <tr>\n",
              "      <th rowspan=\"5\" valign=\"top\">2011-11-30</th>\n",
              "      <th>22086</th>\n",
              "      <td>7908</td>\n",
              "    </tr>\n",
              "    <tr>\n",
              "      <th>22197</th>\n",
              "      <td>12460</td>\n",
              "    </tr>\n",
              "    <tr>\n",
              "      <th>23084</th>\n",
              "      <td>14954</td>\n",
              "    </tr>\n",
              "    <tr>\n",
              "      <th>84826</th>\n",
              "      <td>12551</td>\n",
              "    </tr>\n",
              "    <tr>\n",
              "      <th>85099B</th>\n",
              "      <td>5909</td>\n",
              "    </tr>\n",
              "  </tbody>\n",
              "</table>\n",
              "</div>"
            ],
            "text/plain": [
              "                       Quantity\n",
              "InvoiceDate StockCode          \n",
              "2010-12-31  22086          2460\n",
              "            22197          2738\n",
              "            84826           366\n",
              "            85099B         2152\n",
              "2011-01-31  22086            24\n",
              "            22197          1824\n",
              "            84826           480\n",
              "            85099B         2747\n",
              "2011-02-28  22086             5\n",
              "            22197          2666\n",
              "            84826            66\n",
              "            85099B         3080\n",
              "2011-03-31  22086            87\n",
              "            22197          2803\n",
              "            84826            60\n",
              "            85099B         5282\n",
              "2011-04-30  22086            13\n",
              "            22197          1869\n",
              "            84826             1\n",
              "            85099B         2456\n",
              "2011-05-31  22086            17\n",
              "            22197          6849\n",
              "            23084          1131\n",
              "            85099B         3621\n",
              "2011-06-30  22086           344\n",
              "            22197          2095\n",
              "            23084          1713\n",
              "            84826             4\n",
              "            85099B         3682\n",
              "2011-07-31  22086           383\n",
              "            22197          1876\n",
              "            23084           318\n",
              "            84826             2\n",
              "            85099B         3129\n",
              "2011-08-31  22086           490\n",
              "            22197          5421\n",
              "            23084          2267\n",
              "            84826            72\n",
              "            85099B         5502\n",
              "2011-09-30  22086          2106\n",
              "            22197          4196\n",
              "            23084           680\n",
              "            85099B         4401\n",
              "2011-10-31  22086          3429\n",
              "            22197          5907\n",
              "            23084          6348\n",
              "            84826            11\n",
              "            85099B         5412\n",
              "2011-11-30  22086          7908\n",
              "            22197         12460\n",
              "            23084         14954\n",
              "            84826         12551\n",
              "            85099B         5909"
            ]
          },
          "metadata": {
            "tags": []
          },
          "execution_count": 59
        }
      ]
    },
    {
      "cell_type": "code",
      "metadata": {
        "id": "BxsLjnlAf2fY",
        "colab_type": "code",
        "colab": {
          "base_uri": "https://localhost:8080/",
          "height": 452
        },
        "outputId": "8157740f-90f4-4d16-db32-113b9bbc834e"
      },
      "source": [
        "\n",
        "trending_itmes_df = date_item_df.reset_index().pivot('InvoiceDate','StockCode').fillna(0)\n",
        "\n",
        "trending_itmes_df = trending_itmes_df.reset_index()\n",
        "trending_itmes_df = trending_itmes_df.set_index('InvoiceDate')\n",
        "trending_itmes_df.columns = trending_itmes_df.columns.droplevel(0)\n",
        "\n",
        "trending_itmes_df"
      ],
      "execution_count": null,
      "outputs": [
        {
          "output_type": "execute_result",
          "data": {
            "text/html": [
              "<div>\n",
              "<style scoped>\n",
              "    .dataframe tbody tr th:only-of-type {\n",
              "        vertical-align: middle;\n",
              "    }\n",
              "\n",
              "    .dataframe tbody tr th {\n",
              "        vertical-align: top;\n",
              "    }\n",
              "\n",
              "    .dataframe thead th {\n",
              "        text-align: right;\n",
              "    }\n",
              "</style>\n",
              "<table border=\"1\" class=\"dataframe\">\n",
              "  <thead>\n",
              "    <tr style=\"text-align: right;\">\n",
              "      <th>StockCode</th>\n",
              "      <th>22086</th>\n",
              "      <th>22197</th>\n",
              "      <th>23084</th>\n",
              "      <th>84826</th>\n",
              "      <th>85099B</th>\n",
              "    </tr>\n",
              "    <tr>\n",
              "      <th>InvoiceDate</th>\n",
              "      <th></th>\n",
              "      <th></th>\n",
              "      <th></th>\n",
              "      <th></th>\n",
              "      <th></th>\n",
              "    </tr>\n",
              "  </thead>\n",
              "  <tbody>\n",
              "    <tr>\n",
              "      <th>2010-12-31</th>\n",
              "      <td>2460.0</td>\n",
              "      <td>2738.0</td>\n",
              "      <td>0.0</td>\n",
              "      <td>366.0</td>\n",
              "      <td>2152.0</td>\n",
              "    </tr>\n",
              "    <tr>\n",
              "      <th>2011-01-31</th>\n",
              "      <td>24.0</td>\n",
              "      <td>1824.0</td>\n",
              "      <td>0.0</td>\n",
              "      <td>480.0</td>\n",
              "      <td>2747.0</td>\n",
              "    </tr>\n",
              "    <tr>\n",
              "      <th>2011-02-28</th>\n",
              "      <td>5.0</td>\n",
              "      <td>2666.0</td>\n",
              "      <td>0.0</td>\n",
              "      <td>66.0</td>\n",
              "      <td>3080.0</td>\n",
              "    </tr>\n",
              "    <tr>\n",
              "      <th>2011-03-31</th>\n",
              "      <td>87.0</td>\n",
              "      <td>2803.0</td>\n",
              "      <td>0.0</td>\n",
              "      <td>60.0</td>\n",
              "      <td>5282.0</td>\n",
              "    </tr>\n",
              "    <tr>\n",
              "      <th>2011-04-30</th>\n",
              "      <td>13.0</td>\n",
              "      <td>1869.0</td>\n",
              "      <td>0.0</td>\n",
              "      <td>1.0</td>\n",
              "      <td>2456.0</td>\n",
              "    </tr>\n",
              "    <tr>\n",
              "      <th>2011-05-31</th>\n",
              "      <td>17.0</td>\n",
              "      <td>6849.0</td>\n",
              "      <td>1131.0</td>\n",
              "      <td>0.0</td>\n",
              "      <td>3621.0</td>\n",
              "    </tr>\n",
              "    <tr>\n",
              "      <th>2011-06-30</th>\n",
              "      <td>344.0</td>\n",
              "      <td>2095.0</td>\n",
              "      <td>1713.0</td>\n",
              "      <td>4.0</td>\n",
              "      <td>3682.0</td>\n",
              "    </tr>\n",
              "    <tr>\n",
              "      <th>2011-07-31</th>\n",
              "      <td>383.0</td>\n",
              "      <td>1876.0</td>\n",
              "      <td>318.0</td>\n",
              "      <td>2.0</td>\n",
              "      <td>3129.0</td>\n",
              "    </tr>\n",
              "    <tr>\n",
              "      <th>2011-08-31</th>\n",
              "      <td>490.0</td>\n",
              "      <td>5421.0</td>\n",
              "      <td>2267.0</td>\n",
              "      <td>72.0</td>\n",
              "      <td>5502.0</td>\n",
              "    </tr>\n",
              "    <tr>\n",
              "      <th>2011-09-30</th>\n",
              "      <td>2106.0</td>\n",
              "      <td>4196.0</td>\n",
              "      <td>680.0</td>\n",
              "      <td>0.0</td>\n",
              "      <td>4401.0</td>\n",
              "    </tr>\n",
              "    <tr>\n",
              "      <th>2011-10-31</th>\n",
              "      <td>3429.0</td>\n",
              "      <td>5907.0</td>\n",
              "      <td>6348.0</td>\n",
              "      <td>11.0</td>\n",
              "      <td>5412.0</td>\n",
              "    </tr>\n",
              "    <tr>\n",
              "      <th>2011-11-30</th>\n",
              "      <td>7908.0</td>\n",
              "      <td>12460.0</td>\n",
              "      <td>14954.0</td>\n",
              "      <td>12551.0</td>\n",
              "      <td>5909.0</td>\n",
              "    </tr>\n",
              "  </tbody>\n",
              "</table>\n",
              "</div>"
            ],
            "text/plain": [
              "StockCode     22086    22197    23084    84826  85099B\n",
              "InvoiceDate                                           \n",
              "2010-12-31   2460.0   2738.0      0.0    366.0  2152.0\n",
              "2011-01-31     24.0   1824.0      0.0    480.0  2747.0\n",
              "2011-02-28      5.0   2666.0      0.0     66.0  3080.0\n",
              "2011-03-31     87.0   2803.0      0.0     60.0  5282.0\n",
              "2011-04-30     13.0   1869.0      0.0      1.0  2456.0\n",
              "2011-05-31     17.0   6849.0   1131.0      0.0  3621.0\n",
              "2011-06-30    344.0   2095.0   1713.0      4.0  3682.0\n",
              "2011-07-31    383.0   1876.0    318.0      2.0  3129.0\n",
              "2011-08-31    490.0   5421.0   2267.0     72.0  5502.0\n",
              "2011-09-30   2106.0   4196.0    680.0      0.0  4401.0\n",
              "2011-10-31   3429.0   5907.0   6348.0     11.0  5412.0\n",
              "2011-11-30   7908.0  12460.0  14954.0  12551.0  5909.0"
            ]
          },
          "metadata": {
            "tags": []
          },
          "execution_count": 60
        }
      ]
    },
    {
      "cell_type": "code",
      "metadata": {
        "id": "IRgwik0zf6iy",
        "colab_type": "code",
        "colab": {
          "base_uri": "https://localhost:8080/",
          "height": 493
        },
        "outputId": "a9ce9101-475a-44c8-870e-22decd258318"
      },
      "source": [
        "ax = pd.DataFrame(trending_itmes_df.values).plot(\n",
        "    figsize=(10,7),\n",
        "    grid=True,\n",
        ")\n",
        "\n",
        "ax.set_ylabel('number of purchases')\n",
        "ax.set_xlabel('date')\n",
        "ax.set_title('Item Trends over Time')\n",
        "\n",
        "ax.legend(trending_itmes_df.columns, loc='upper left')\n",
        "\n",
        "plt.xticks(\n",
        "    range(len(trending_itmes_df.index)), \n",
        "    [x.strftime('%m.%Y') for x in trending_itmes_df.index], \n",
        "    rotation=45\n",
        ")\n",
        "\n",
        "plt.show()"
      ],
      "execution_count": null,
      "outputs": [
        {
          "output_type": "display_data",
          "data": {
            "image/png": "[encoded data removed]",
            "text/plain": [
              "<Figure size 720x504 with 1 Axes>"
            ]
          },
          "metadata": {
            "tags": []
          }
        }
      ]
    },
    {
      "cell_type": "markdown",
      "metadata": {
        "id": "txOiw28IhKt7",
        "colab_type": "text"
      },
      "source": [
        "Let's take a closer look at this time series plot. The sales of these five products spiked in\n",
        "November 2011, especially, the sales of the product with the stock code, 85099B, which\n",
        "were close to 0 from February 2011 to October 2011. Then, it suddenly spiked in November 2011. It might be worth taking a closer look into what might have driven this spike. It could\n",
        "be an item that is highly sensitive to seasonality, such that this item becomes very popular\n",
        "during November, or it could also be due to a genuine change in trends that led this item to\n",
        "become suddenly more popular than before."
      ]
    },
    {
      "cell_type": "markdown",
      "metadata": {
        "id": "9sTMolMIhRCV",
        "colab_type": "text"
      },
      "source": [
        "The popularity of the rest of the top five products, 22086, 22197, 23084, and 84826, seem to\n",
        "have built up in the few months prior to November 2011. As a marketer, it would be\n",
        "worthwhile taking a closer look at the potential drivers behind this buildup of rising\n",
        "popularity for these items. You could look at whether these items are typically more\n",
        "popular in colder seasons or whether there is a rising trend for these specific items in the\n",
        "marke"
      ]
    },
    {
      "cell_type": "markdown",
      "metadata": {
        "id": "35ZLGyCKhTVz",
        "colab_type": "text"
      },
      "source": [
        "Analyzing the trends and changes in the popularity of products not only helps you\n",
        "understand what your customers like and purchase the most, but also helps you tailor your\n",
        "marketing messages. For example, you can recommend these items with rising popularity\n",
        "in your marketing emails, calls, or advertisements to improve customer engagement. As it\n",
        "has been shown that your customers are more interested and more likely to purchase these\n",
        "items, you might get higher marketing engagement from your customers when you market\n",
        "these items more and you might eventually get higher conversion rates when you target\n",
        "your customers with these trending items. Using these popular and trending items is one\n",
        "way to build a product recommendation engine, which we are going to expand on and\n",
        "experiment with thoroughly in the next chapter."
      ]
    },
    {
      "cell_type": "code",
      "metadata": {
        "id": "fkBJVCf6gL2i",
        "colab_type": "code",
        "colab": {
          "base_uri": "https://localhost:8080/",
          "height": 204
        },
        "outputId": "7ce9a52c-50e4-4dbd-f63d-af44877fa3f1"
      },
      "source": [
        "df['StockCode'].value_counts(ascending=False)[:10]"
      ],
      "execution_count": null,
      "outputs": [
        {
          "output_type": "execute_result",
          "data": {
            "text/plain": [
              "85123A    2203\n",
              "85099B    2061\n",
              "22423     1957\n",
              "47566     1679\n",
              "20725     1551\n",
              "84879     1442\n",
              "22720     1359\n",
              "22197     1358\n",
              "21212     1333\n",
              "22383     1294\n",
              "Name: StockCode, dtype: int64"
            ]
          },
          "metadata": {
            "tags": []
          },
          "execution_count": 69
        }
      ]
    },
    {
      "cell_type": "markdown",
      "metadata": {
        "id": "-itFI0xiz8pe",
        "colab_type": "text"
      },
      "source": [
        "# DNN way"
      ]
    },
    {
      "cell_type": "code",
      "metadata": {
        "id": "SxeXfBkff8uj",
        "colab_type": "code",
        "colab": {}
      },
      "source": [
        "df=pd.read_excel('https://github.com/mrinmaisharma/Online-Retail-Dataset/blob/master/OnlineRetail.xlsx?raw=true',sep=';')\n",
        "df.head()"
      ],
      "execution_count": null,
      "outputs": []
    },
    {
      "cell_type": "code",
      "metadata": {
        "id": "wAPI06ru0Kdb",
        "colab_type": "code",
        "colab": {
          "base_uri": "https://localhost:8080/",
          "height": 297
        },
        "outputId": "100412aa-09bc-4266-baec-1d4db46d5a61"
      },
      "source": [
        "df.describe()"
      ],
      "execution_count": 3,
      "outputs": [
        {
          "output_type": "execute_result",
          "data": {
            "text/html": [
              "<div>\n",
              "<style scoped>\n",
              "    .dataframe tbody tr th:only-of-type {\n",
              "        vertical-align: middle;\n",
              "    }\n",
              "\n",
              "    .dataframe tbody tr th {\n",
              "        vertical-align: top;\n",
              "    }\n",
              "\n",
              "    .dataframe thead th {\n",
              "        text-align: right;\n",
              "    }\n",
              "</style>\n",
              "<table border=\"1\" class=\"dataframe\">\n",
              "  <thead>\n",
              "    <tr style=\"text-align: right;\">\n",
              "      <th></th>\n",
              "      <th>Quantity</th>\n",
              "      <th>UnitPrice</th>\n",
              "      <th>CustomerID</th>\n",
              "    </tr>\n",
              "  </thead>\n",
              "  <tbody>\n",
              "    <tr>\n",
              "      <th>count</th>\n",
              "      <td>541909.000000</td>\n",
              "      <td>541909.000000</td>\n",
              "      <td>406829.000000</td>\n",
              "    </tr>\n",
              "    <tr>\n",
              "      <th>mean</th>\n",
              "      <td>9.552250</td>\n",
              "      <td>4.611114</td>\n",
              "      <td>15287.690570</td>\n",
              "    </tr>\n",
              "    <tr>\n",
              "      <th>std</th>\n",
              "      <td>218.081158</td>\n",
              "      <td>96.759853</td>\n",
              "      <td>1713.600303</td>\n",
              "    </tr>\n",
              "    <tr>\n",
              "      <th>min</th>\n",
              "      <td>-80995.000000</td>\n",
              "      <td>-11062.060000</td>\n",
              "      <td>12346.000000</td>\n",
              "    </tr>\n",
              "    <tr>\n",
              "      <th>25%</th>\n",
              "      <td>1.000000</td>\n",
              "      <td>1.250000</td>\n",
              "      <td>13953.000000</td>\n",
              "    </tr>\n",
              "    <tr>\n",
              "      <th>50%</th>\n",
              "      <td>3.000000</td>\n",
              "      <td>2.080000</td>\n",
              "      <td>15152.000000</td>\n",
              "    </tr>\n",
              "    <tr>\n",
              "      <th>75%</th>\n",
              "      <td>10.000000</td>\n",
              "      <td>4.130000</td>\n",
              "      <td>16791.000000</td>\n",
              "    </tr>\n",
              "    <tr>\n",
              "      <th>max</th>\n",
              "      <td>80995.000000</td>\n",
              "      <td>38970.000000</td>\n",
              "      <td>18287.000000</td>\n",
              "    </tr>\n",
              "  </tbody>\n",
              "</table>\n",
              "</div>"
            ],
            "text/plain": [
              "            Quantity      UnitPrice     CustomerID\n",
              "count  541909.000000  541909.000000  406829.000000\n",
              "mean        9.552250       4.611114   15287.690570\n",
              "std       218.081158      96.759853    1713.600303\n",
              "min    -80995.000000  -11062.060000   12346.000000\n",
              "25%         1.000000       1.250000   13953.000000\n",
              "50%         3.000000       2.080000   15152.000000\n",
              "75%        10.000000       4.130000   16791.000000\n",
              "max     80995.000000   38970.000000   18287.000000"
            ]
          },
          "metadata": {
            "tags": []
          },
          "execution_count": 3
        }
      ]
    },
    {
      "cell_type": "markdown",
      "metadata": {
        "id": "Cw2t7K4M1EXX",
        "colab_type": "text"
      },
      "source": [
        "## Quantity Distribution"
      ]
    },
    {
      "cell_type": "code",
      "metadata": {
        "id": "J-dhEi_w1DcD",
        "colab_type": "code",
        "colab": {
          "base_uri": "https://localhost:8080/",
          "height": 447
        },
        "outputId": "ea743f6e-ff42-4b36-a898-33d91fa1a0e0"
      },
      "source": [
        "\n",
        "ax = df['Quantity'].plot(kind='box',\n",
        "    showfliers=False,\n",
        "    grid=True,\n",
        "    figsize=(10, 7)\n",
        ")\n",
        "ax.set_ylabel('Order Quantity')\n",
        "ax.set_title('Quantity Distribution')\n",
        "\n",
        "plt.suptitle(\"\")\n",
        "plt.show()"
      ],
      "execution_count": 6,
      "outputs": [
        {
          "output_type": "display_data",
          "data": {
            "image/png": "[encoded data removed]",
            "text/plain": [
              "<Figure size 720x504 with 1 Axes>"
            ]
          },
          "metadata": {
            "tags": [],
            "needs_background": "light"
          }
        }
      ]
    },
    {
      "cell_type": "code",
      "metadata": {
        "id": "c1ZFc_9T13Q5",
        "colab_type": "code",
        "colab": {}
      },
      "source": [
        "df = df.loc[df['Quantity'] > 0]"
      ],
      "execution_count": 7,
      "outputs": []
    },
    {
      "cell_type": "markdown",
      "metadata": {
        "id": "7uLuw1fw1_6u",
        "colab_type": "text"
      },
      "source": [
        "## Time-series Number of Order"
      ]
    },
    {
      "cell_type": "code",
      "metadata": {
        "id": "N7CJTw123Fuz",
        "colab_type": "code",
        "colab": {
          "base_uri": "https://localhost:8080/",
          "height": 306
        },
        "outputId": "00b77c5e-7ea1-4163-bbbf-30acc565b1dc"
      },
      "source": [
        "df.head()"
      ],
      "execution_count": 31,
      "outputs": [
        {
          "output_type": "execute_result",
          "data": {
            "text/html": [
              "<div>\n",
              "<style scoped>\n",
              "    .dataframe tbody tr th:only-of-type {\n",
              "        vertical-align: middle;\n",
              "    }\n",
              "\n",
              "    .dataframe tbody tr th {\n",
              "        vertical-align: top;\n",
              "    }\n",
              "\n",
              "    .dataframe thead th {\n",
              "        text-align: right;\n",
              "    }\n",
              "</style>\n",
              "<table border=\"1\" class=\"dataframe\">\n",
              "  <thead>\n",
              "    <tr style=\"text-align: right;\">\n",
              "      <th></th>\n",
              "      <th>InvoiceNo</th>\n",
              "      <th>StockCode</th>\n",
              "      <th>Description</th>\n",
              "      <th>Quantity</th>\n",
              "      <th>InvoiceDate</th>\n",
              "      <th>UnitPrice</th>\n",
              "      <th>CustomerID</th>\n",
              "      <th>Country</th>\n",
              "    </tr>\n",
              "  </thead>\n",
              "  <tbody>\n",
              "    <tr>\n",
              "      <th>0</th>\n",
              "      <td>536365</td>\n",
              "      <td>85123A</td>\n",
              "      <td>WHITE HANGING HEART T-LIGHT HOLDER</td>\n",
              "      <td>6</td>\n",
              "      <td>2010-12-01 08:26:00</td>\n",
              "      <td>2.55</td>\n",
              "      <td>17850.0</td>\n",
              "      <td>United Kingdom</td>\n",
              "    </tr>\n",
              "    <tr>\n",
              "      <th>1</th>\n",
              "      <td>536365</td>\n",
              "      <td>71053</td>\n",
              "      <td>WHITE METAL LANTERN</td>\n",
              "      <td>6</td>\n",
              "      <td>2010-12-01 08:26:00</td>\n",
              "      <td>3.39</td>\n",
              "      <td>17850.0</td>\n",
              "      <td>United Kingdom</td>\n",
              "    </tr>\n",
              "    <tr>\n",
              "      <th>2</th>\n",
              "      <td>536365</td>\n",
              "      <td>84406B</td>\n",
              "      <td>CREAM CUPID HEARTS COAT HANGER</td>\n",
              "      <td>8</td>\n",
              "      <td>2010-12-01 08:26:00</td>\n",
              "      <td>2.75</td>\n",
              "      <td>17850.0</td>\n",
              "      <td>United Kingdom</td>\n",
              "    </tr>\n",
              "    <tr>\n",
              "      <th>3</th>\n",
              "      <td>536365</td>\n",
              "      <td>84029G</td>\n",
              "      <td>KNITTED UNION FLAG HOT WATER BOTTLE</td>\n",
              "      <td>6</td>\n",
              "      <td>2010-12-01 08:26:00</td>\n",
              "      <td>3.39</td>\n",
              "      <td>17850.0</td>\n",
              "      <td>United Kingdom</td>\n",
              "    </tr>\n",
              "    <tr>\n",
              "      <th>4</th>\n",
              "      <td>536365</td>\n",
              "      <td>84029E</td>\n",
              "      <td>RED WOOLLY HOTTIE WHITE HEART.</td>\n",
              "      <td>6</td>\n",
              "      <td>2010-12-01 08:26:00</td>\n",
              "      <td>3.39</td>\n",
              "      <td>17850.0</td>\n",
              "      <td>United Kingdom</td>\n",
              "    </tr>\n",
              "  </tbody>\n",
              "</table>\n",
              "</div>"
            ],
            "text/plain": [
              "  InvoiceNo StockCode  ... CustomerID         Country\n",
              "0    536365    85123A  ...    17850.0  United Kingdom\n",
              "1    536365     71053  ...    17850.0  United Kingdom\n",
              "2    536365    84406B  ...    17850.0  United Kingdom\n",
              "3    536365    84029G  ...    17850.0  United Kingdom\n",
              "4    536365    84029E  ...    17850.0  United Kingdom\n",
              "\n",
              "[5 rows x 8 columns]"
            ]
          },
          "metadata": {
            "tags": []
          },
          "execution_count": 31
        }
      ]
    },
    {
      "cell_type": "code",
      "metadata": {
        "id": "e6Hw_-TJ1905",
        "colab_type": "code",
        "colab": {
          "base_uri": "https://localhost:8080/",
          "height": 34
        },
        "outputId": "d660ecc2-f6bf-41b3-963a-41deecdca506"
      },
      "source": [
        "df.shape"
      ],
      "execution_count": 34,
      "outputs": [
        {
          "output_type": "execute_result",
          "data": {
            "text/plain": [
              "(531285, 8)"
            ]
          },
          "metadata": {
            "tags": []
          },
          "execution_count": 34
        }
      ]
    },
    {
      "cell_type": "code",
      "metadata": {
        "id": "Kxd84UKk2_eW",
        "colab_type": "code",
        "colab": {
          "base_uri": "https://localhost:8080/",
          "height": 289
        },
        "outputId": "af9178db-4160-4b58-c20a-a10dc68fd563"
      },
      "source": [
        "a=df.groupby(by=[df['InvoiceDate'].dt.year,df['InvoiceDate'].dt.month])['InvoiceNo'].count()\n",
        "print(sum(a))\n",
        "a # số lượng đơn hàng đã đặt, tính luôn một đơn hàng có nhiều món đồ"
      ],
      "execution_count": 37,
      "outputs": [
        {
          "output_type": "stream",
          "text": [
            "531285\n"
          ],
          "name": "stdout"
        },
        {
          "output_type": "execute_result",
          "data": {
            "text/plain": [
              "InvoiceDate  InvoiceDate\n",
              "2010         12             41683\n",
              "2011         1              34350\n",
              "             2              27184\n",
              "             3              35915\n",
              "             4              29171\n",
              "             5              36292\n",
              "             6              36056\n",
              "             7              38716\n",
              "             8              34566\n",
              "             9              49323\n",
              "             10             59396\n",
              "             11             83498\n",
              "             12             25135\n",
              "Name: InvoiceNo, dtype: int64"
            ]
          },
          "metadata": {
            "tags": []
          },
          "execution_count": 37
        }
      ]
    },
    {
      "cell_type": "code",
      "metadata": {
        "id": "_YsSr1VT98l2",
        "colab_type": "code",
        "colab": {
          "base_uri": "https://localhost:8080/",
          "height": 34
        },
        "outputId": "b4ed0e79-9241-408b-9a19-15850f31797b"
      },
      "source": [
        "df.InvoiceNo.nunique()"
      ],
      "execution_count": 39,
      "outputs": [
        {
          "output_type": "execute_result",
          "data": {
            "text/plain": [
              "20728"
            ]
          },
          "metadata": {
            "tags": []
          },
          "execution_count": 39
        }
      ]
    },
    {
      "cell_type": "code",
      "metadata": {
        "id": "-jeOSV4F3Ku2",
        "colab_type": "code",
        "colab": {
          "base_uri": "https://localhost:8080/",
          "height": 289
        },
        "outputId": "f621171a-5d98-45ab-d53a-ba448e0e7fed"
      },
      "source": [
        "b=df.groupby(by=[df['InvoiceDate'].dt.year,df['InvoiceDate'].dt.month])['InvoiceNo'].nunique()\n",
        "print(sum(b))\n",
        "b # số lượng đơn hàng đã đặt, không tính một đơn hàng có nhiều món đồ"
      ],
      "execution_count": 38,
      "outputs": [
        {
          "output_type": "stream",
          "text": [
            "20728\n"
          ],
          "name": "stdout"
        },
        {
          "output_type": "execute_result",
          "data": {
            "text/plain": [
              "InvoiceDate  InvoiceDate\n",
              "2010         12             1629\n",
              "2011         1              1120\n",
              "             2              1126\n",
              "             3              1531\n",
              "             4              1318\n",
              "             5              1731\n",
              "             6              1576\n",
              "             7              1540\n",
              "             8              1409\n",
              "             9              1896\n",
              "             10             2129\n",
              "             11             2884\n",
              "             12              839\n",
              "Name: InvoiceNo, dtype: int64"
            ]
          },
          "metadata": {
            "tags": []
          },
          "execution_count": 38
        }
      ]
    },
    {
      "cell_type": "code",
      "metadata": {
        "id": "dl67WbtK9nLY",
        "colab_type": "code",
        "colab": {
          "base_uri": "https://localhost:8080/",
          "height": 302
        },
        "outputId": "2569e0af-3436-45c1-ae5e-95c43d69e812"
      },
      "source": [
        "b.plot(kind='line')"
      ],
      "execution_count": 40,
      "outputs": [
        {
          "output_type": "execute_result",
          "data": {
            "text/plain": [
              "<matplotlib.axes._subplots.AxesSubplot at 0x7f621de802e8>"
            ]
          },
          "metadata": {
            "tags": []
          },
          "execution_count": 40
        },
        {
          "output_type": "display_data",
          "data": {
            "image/png": "[encoded data removed]",
            "text/plain": [
              "<Figure size 432x288 with 1 Axes>"
            ]
          },
          "metadata": {
            "tags": [],
            "needs_background": "light"
          }
        }
      ]
    },
    {
      "cell_type": "code",
      "metadata": {
        "id": "y_DOPzhn_oYq",
        "colab_type": "code",
        "colab": {
          "base_uri": "https://localhost:8080/",
          "height": 272
        },
        "outputId": "9137d574-0c10-4e8f-9a6d-ef62fdfad676"
      },
      "source": [
        "monthly_orders_df =df.set_index('InvoiceDate').resample('M')['InvoiceNo'].nunique()\n",
        "monthly_orders_df "
      ],
      "execution_count": 43,
      "outputs": [
        {
          "output_type": "execute_result",
          "data": {
            "text/plain": [
              "InvoiceDate\n",
              "2010-12-31    1629\n",
              "2011-01-31    1120\n",
              "2011-02-28    1126\n",
              "2011-03-31    1531\n",
              "2011-04-30    1318\n",
              "2011-05-31    1731\n",
              "2011-06-30    1576\n",
              "2011-07-31    1540\n",
              "2011-08-31    1409\n",
              "2011-09-30    1896\n",
              "2011-10-31    2129\n",
              "2011-11-30    2884\n",
              "2011-12-31     839\n",
              "Freq: M, Name: InvoiceNo, dtype: int64"
            ]
          },
          "metadata": {
            "tags": []
          },
          "execution_count": 43
        }
      ]
    },
    {
      "cell_type": "code",
      "metadata": {
        "id": "ql8CND5hBRSN",
        "colab_type": "code",
        "colab": {
          "base_uri": "https://localhost:8080/",
          "height": 483
        },
        "outputId": "4daed945-78b7-49b3-b47b-783734287fd9"
      },
      "source": [
        "a=pd.DataFrame(monthly_orders_df)\n",
        "a"
      ],
      "execution_count": 64,
      "outputs": [
        {
          "output_type": "execute_result",
          "data": {
            "text/html": [
              "<div>\n",
              "<style scoped>\n",
              "    .dataframe tbody tr th:only-of-type {\n",
              "        vertical-align: middle;\n",
              "    }\n",
              "\n",
              "    .dataframe tbody tr th {\n",
              "        vertical-align: top;\n",
              "    }\n",
              "\n",
              "    .dataframe thead th {\n",
              "        text-align: right;\n",
              "    }\n",
              "</style>\n",
              "<table border=\"1\" class=\"dataframe\">\n",
              "  <thead>\n",
              "    <tr style=\"text-align: right;\">\n",
              "      <th></th>\n",
              "      <th>InvoiceNo</th>\n",
              "    </tr>\n",
              "    <tr>\n",
              "      <th>InvoiceDate</th>\n",
              "      <th></th>\n",
              "    </tr>\n",
              "  </thead>\n",
              "  <tbody>\n",
              "    <tr>\n",
              "      <th>2010-12-31</th>\n",
              "      <td>1629</td>\n",
              "    </tr>\n",
              "    <tr>\n",
              "      <th>2011-01-31</th>\n",
              "      <td>1120</td>\n",
              "    </tr>\n",
              "    <tr>\n",
              "      <th>2011-02-28</th>\n",
              "      <td>1126</td>\n",
              "    </tr>\n",
              "    <tr>\n",
              "      <th>2011-03-31</th>\n",
              "      <td>1531</td>\n",
              "    </tr>\n",
              "    <tr>\n",
              "      <th>2011-04-30</th>\n",
              "      <td>1318</td>\n",
              "    </tr>\n",
              "    <tr>\n",
              "      <th>2011-05-31</th>\n",
              "      <td>1731</td>\n",
              "    </tr>\n",
              "    <tr>\n",
              "      <th>2011-06-30</th>\n",
              "      <td>1576</td>\n",
              "    </tr>\n",
              "    <tr>\n",
              "      <th>2011-07-31</th>\n",
              "      <td>1540</td>\n",
              "    </tr>\n",
              "    <tr>\n",
              "      <th>2011-08-31</th>\n",
              "      <td>1409</td>\n",
              "    </tr>\n",
              "    <tr>\n",
              "      <th>2011-09-30</th>\n",
              "      <td>1896</td>\n",
              "    </tr>\n",
              "    <tr>\n",
              "      <th>2011-10-31</th>\n",
              "      <td>2129</td>\n",
              "    </tr>\n",
              "    <tr>\n",
              "      <th>2011-11-30</th>\n",
              "      <td>2884</td>\n",
              "    </tr>\n",
              "    <tr>\n",
              "      <th>2011-12-31</th>\n",
              "      <td>839</td>\n",
              "    </tr>\n",
              "  </tbody>\n",
              "</table>\n",
              "</div>"
            ],
            "text/plain": [
              "             InvoiceNo\n",
              "InvoiceDate           \n",
              "2010-12-31        1629\n",
              "2011-01-31        1120\n",
              "2011-02-28        1126\n",
              "2011-03-31        1531\n",
              "2011-04-30        1318\n",
              "2011-05-31        1731\n",
              "2011-06-30        1576\n",
              "2011-07-31        1540\n",
              "2011-08-31        1409\n",
              "2011-09-30        1896\n",
              "2011-10-31        2129\n",
              "2011-11-30        2884\n",
              "2011-12-31         839"
            ]
          },
          "metadata": {
            "tags": []
          },
          "execution_count": 64
        }
      ]
    },
    {
      "cell_type": "code",
      "metadata": {
        "id": "3kgBz2G3BbMf",
        "colab_type": "code",
        "colab": {
          "base_uri": "https://localhost:8080/",
          "height": 285
        },
        "outputId": "8744638d-5c7f-4783-fb09-b90650245e4b"
      },
      "source": [
        "plt.plot(a.index,a['InvoiceNo'],'-o')"
      ],
      "execution_count": 81,
      "outputs": [
        {
          "output_type": "execute_result",
          "data": {
            "text/plain": [
              "[<matplotlib.lines.Line2D at 0x7f621b2d10f0>]"
            ]
          },
          "metadata": {
            "tags": []
          },
          "execution_count": 81
        },
        {
          "output_type": "display_data",
          "data": {
            "image/png": "[encoded data removed]",
            "text/plain": [
              "<Figure size 432x288 with 1 Axes>"
            ]
          },
          "metadata": {
            "tags": [],
            "needs_background": "light"
          }
        }
      ]
    },
    {
      "cell_type": "code",
      "metadata": {
        "id": "4jI2b26MBPRr",
        "colab_type": "code",
        "colab": {
          "base_uri": "https://localhost:8080/",
          "height": 452
        },
        "outputId": "f2a6849c-b30a-473a-fc08-0774e40ddbed"
      },
      "source": [
        "pd.DataFrame(monthly_orders_df.values)"
      ],
      "execution_count": 62,
      "outputs": [
        {
          "output_type": "execute_result",
          "data": {
            "text/html": [
              "<div>\n",
              "<style scoped>\n",
              "    .dataframe tbody tr th:only-of-type {\n",
              "        vertical-align: middle;\n",
              "    }\n",
              "\n",
              "    .dataframe tbody tr th {\n",
              "        vertical-align: top;\n",
              "    }\n",
              "\n",
              "    .dataframe thead th {\n",
              "        text-align: right;\n",
              "    }\n",
              "</style>\n",
              "<table border=\"1\" class=\"dataframe\">\n",
              "  <thead>\n",
              "    <tr style=\"text-align: right;\">\n",
              "      <th></th>\n",
              "      <th>0</th>\n",
              "    </tr>\n",
              "  </thead>\n",
              "  <tbody>\n",
              "    <tr>\n",
              "      <th>0</th>\n",
              "      <td>1629</td>\n",
              "    </tr>\n",
              "    <tr>\n",
              "      <th>1</th>\n",
              "      <td>1120</td>\n",
              "    </tr>\n",
              "    <tr>\n",
              "      <th>2</th>\n",
              "      <td>1126</td>\n",
              "    </tr>\n",
              "    <tr>\n",
              "      <th>3</th>\n",
              "      <td>1531</td>\n",
              "    </tr>\n",
              "    <tr>\n",
              "      <th>4</th>\n",
              "      <td>1318</td>\n",
              "    </tr>\n",
              "    <tr>\n",
              "      <th>5</th>\n",
              "      <td>1731</td>\n",
              "    </tr>\n",
              "    <tr>\n",
              "      <th>6</th>\n",
              "      <td>1576</td>\n",
              "    </tr>\n",
              "    <tr>\n",
              "      <th>7</th>\n",
              "      <td>1540</td>\n",
              "    </tr>\n",
              "    <tr>\n",
              "      <th>8</th>\n",
              "      <td>1409</td>\n",
              "    </tr>\n",
              "    <tr>\n",
              "      <th>9</th>\n",
              "      <td>1896</td>\n",
              "    </tr>\n",
              "    <tr>\n",
              "      <th>10</th>\n",
              "      <td>2129</td>\n",
              "    </tr>\n",
              "    <tr>\n",
              "      <th>11</th>\n",
              "      <td>2884</td>\n",
              "    </tr>\n",
              "    <tr>\n",
              "      <th>12</th>\n",
              "      <td>839</td>\n",
              "    </tr>\n",
              "  </tbody>\n",
              "</table>\n",
              "</div>"
            ],
            "text/plain": [
              "       0\n",
              "0   1629\n",
              "1   1120\n",
              "2   1126\n",
              "3   1531\n",
              "4   1318\n",
              "5   1731\n",
              "6   1576\n",
              "7   1540\n",
              "8   1409\n",
              "9   1896\n",
              "10  2129\n",
              "11  2884\n",
              "12   839"
            ]
          },
          "metadata": {
            "tags": []
          },
          "execution_count": 62
        }
      ]
    },
    {
      "cell_type": "code",
      "metadata": {
        "id": "GoVd3Zrh_8Kp",
        "colab_type": "code",
        "colab": {
          "base_uri": "https://localhost:8080/",
          "height": 493
        },
        "outputId": "42a2e5cd-0c10-452d-b0d6-2da7eea42e47"
      },
      "source": [
        "ax = pd.DataFrame(monthly_orders_df.values).plot(\n",
        "    grid=True,\n",
        "    figsize=(10,7),\n",
        "    legend=False,style='o-'\n",
        ")\n",
        "#df.plot(style=['+-','o-','.--','s:'])\n",
        "ax.set_xlabel('date')\n",
        "ax.set_ylabel('number of orders/invoices')\n",
        "ax.set_title('Total Number of Orders Over Time')\n",
        "# Good technique for xticks\n",
        "plt.xticks(\n",
        "    range(len(monthly_orders_df.index)), \n",
        "    #monthly_orders_df.index,\n",
        "    [x.strftime('%m.%Y') for x in monthly_orders_df.index], \n",
        "    rotation=45\n",
        ")\n",
        "\n",
        "plt.show()"
      ],
      "execution_count": 79,
      "outputs": [
        {
          "output_type": "display_data",
          "data": {
            "image/png": "[encoded data removed]",
            "text/plain": [
              "<Figure size 720x504 with 1 Axes>"
            ]
          },
          "metadata": {
            "tags": [],
            "needs_background": "light"
          }
        }
      ]
    },
    {
      "cell_type": "code",
      "metadata": {
        "id": "uVNU5T_AARF4",
        "colab_type": "code",
        "colab": {}
      },
      "source": [
        "df = df.loc[df['InvoiceDate'] < '2011-12-01']"
      ],
      "execution_count": 82,
      "outputs": []
    },
    {
      "cell_type": "code",
      "metadata": {
        "id": "qlNywR-8FNku",
        "colab_type": "code",
        "colab": {
          "base_uri": "https://localhost:8080/",
          "height": 255
        },
        "outputId": "fa7eae10-873d-49f3-8fbf-cc3a958652be"
      },
      "source": [
        "monthly_orders_df =df.set_index('InvoiceDate').resample('M')['InvoiceNo'].nunique()\n",
        "monthly_orders_df "
      ],
      "execution_count": 83,
      "outputs": [
        {
          "output_type": "execute_result",
          "data": {
            "text/plain": [
              "InvoiceDate\n",
              "2010-12-31    1629\n",
              "2011-01-31    1120\n",
              "2011-02-28    1126\n",
              "2011-03-31    1531\n",
              "2011-04-30    1318\n",
              "2011-05-31    1731\n",
              "2011-06-30    1576\n",
              "2011-07-31    1540\n",
              "2011-08-31    1409\n",
              "2011-09-30    1896\n",
              "2011-10-31    2129\n",
              "2011-11-30    2884\n",
              "Freq: M, Name: InvoiceNo, dtype: int64"
            ]
          },
          "metadata": {
            "tags": []
          },
          "execution_count": 83
        }
      ]
    },
    {
      "cell_type": "code",
      "metadata": {
        "id": "7zG5okStFQxN",
        "colab_type": "code",
        "colab": {
          "base_uri": "https://localhost:8080/",
          "height": 493
        },
        "outputId": "4a28aee4-ccfc-4825-d7d1-3ee7f6befa4f"
      },
      "source": [
        "ax = pd.DataFrame(monthly_orders_df.values).plot(\n",
        "    grid=True,\n",
        "    figsize=(10,7),\n",
        "    legend=False,style='o-'\n",
        ")\n",
        "#df.plot(style=['+-','o-','.--','s:'])\n",
        "ax.set_xlabel('date')\n",
        "ax.set_ylabel('number of orders/invoices')\n",
        "ax.set_title('Total Number of Orders Over Time')\n",
        "# Good technique for xticks\n",
        "plt.xticks(\n",
        "    range(len(monthly_orders_df.index)), \n",
        "    #monthly_orders_df.index,\n",
        "    [x.strftime('%m.%Y') for x in monthly_orders_df.index], \n",
        "    rotation=45\n",
        ")\n",
        "\n",
        "plt.show()"
      ],
      "execution_count": 84,
      "outputs": [
        {
          "output_type": "display_data",
          "data": {
            "image/png": "[encoded data removed]",
            "text/plain": [
              "<Figure size 720x504 with 1 Axes>"
            ]
          },
          "metadata": {
            "tags": [],
            "needs_background": "light"
          }
        }
      ]
    },
    {
      "cell_type": "markdown",
      "metadata": {
        "id": "iSLOIJp3FY6r",
        "colab_type": "text"
      },
      "source": [
        "## Time-series Revenue"
      ]
    },
    {
      "cell_type": "code",
      "metadata": {
        "id": "AisZNgxkFUJ7",
        "colab_type": "code",
        "colab": {}
      },
      "source": [
        "df['Sales'] = df['Quantity'] * df['UnitPrice']"
      ],
      "execution_count": 85,
      "outputs": []
    },
    {
      "cell_type": "code",
      "metadata": {
        "id": "pOBy72_dFbzW",
        "colab_type": "code",
        "colab": {
          "base_uri": "https://localhost:8080/",
          "height": 255
        },
        "outputId": "76863351-59a0-4296-d96a-02f51e45b948"
      },
      "source": [
        "monthly_revenue_df=df.set_index('InvoiceDate').resample('M')['Sales'].sum()\n",
        "monthly_revenue_df"
      ],
      "execution_count": 86,
      "outputs": [
        {
          "output_type": "execute_result",
          "data": {
            "text/plain": [
              "InvoiceDate\n",
              "2010-12-31     823746.140\n",
              "2011-01-31     691364.560\n",
              "2011-02-28     523631.890\n",
              "2011-03-31     717639.360\n",
              "2011-04-30     537808.621\n",
              "2011-05-31     770536.020\n",
              "2011-06-30     761739.900\n",
              "2011-07-31     719221.191\n",
              "2011-08-31     737014.260\n",
              "2011-09-30    1058590.172\n",
              "2011-10-31    1154979.300\n",
              "2011-11-30    1509496.330\n",
              "Freq: M, Name: Sales, dtype: float64"
            ]
          },
          "metadata": {
            "tags": []
          },
          "execution_count": 86
        }
      ]
    },
    {
      "cell_type": "code",
      "metadata": {
        "id": "ygweeDYcFkdM",
        "colab_type": "code",
        "colab": {
          "base_uri": "https://localhost:8080/",
          "height": 493
        },
        "outputId": "93defe7a-7867-42d1-b5c3-0320fce99049"
      },
      "source": [
        "ax=pd.DataFrame(monthly_revenue_df.values).plot(figsize=(10,7),style='o-',legend=False)\n",
        "ax.set_xlabel('date')\n",
        "ax.set_ylabel('sales')\n",
        "ax.set_title('Total Revenue Over Time')\n",
        "ax.set_ylim([0, max(monthly_revenue_df.values)])\n",
        "plt.xticks(range(len(monthly_revenue_df.index)),\n",
        "           [x.strftime('%m.%Y') for x in monthly_revenue_df.index],\n",
        "           rotation=45)\n",
        "plt.show()"
      ],
      "execution_count": 92,
      "outputs": [
        {
          "output_type": "display_data",
          "data": {
            "image/png": "[encoded data removed]",
            "text/plain": [
              "<Figure size 720x504 with 1 Axes>"
            ]
          },
          "metadata": {
            "tags": [],
            "needs_background": "light"
          }
        }
      ]
    },
    {
      "cell_type": "markdown",
      "metadata": {
        "id": "4GIFj0cRGVGM",
        "colab_type": "text"
      },
      "source": [
        "## Time-series Repeat Customers"
      ]
    },
    {
      "cell_type": "code",
      "metadata": {
        "id": "NQ2NsokUZXJJ",
        "colab_type": "code",
        "colab": {
          "base_uri": "https://localhost:8080/",
          "height": 374
        },
        "outputId": "23c377bf-10ab-4606-973f-ca28a23b54e6"
      },
      "source": [
        "df.head()"
      ],
      "execution_count": 148,
      "outputs": [
        {
          "output_type": "execute_result",
          "data": {
            "text/html": [
              "<div>\n",
              "<style scoped>\n",
              "    .dataframe tbody tr th:only-of-type {\n",
              "        vertical-align: middle;\n",
              "    }\n",
              "\n",
              "    .dataframe tbody tr th {\n",
              "        vertical-align: top;\n",
              "    }\n",
              "\n",
              "    .dataframe thead th {\n",
              "        text-align: right;\n",
              "    }\n",
              "</style>\n",
              "<table border=\"1\" class=\"dataframe\">\n",
              "  <thead>\n",
              "    <tr style=\"text-align: right;\">\n",
              "      <th></th>\n",
              "      <th>InvoiceNo</th>\n",
              "      <th>StockCode</th>\n",
              "      <th>Description</th>\n",
              "      <th>Quantity</th>\n",
              "      <th>InvoiceDate</th>\n",
              "      <th>UnitPrice</th>\n",
              "      <th>CustomerID</th>\n",
              "      <th>Country</th>\n",
              "      <th>Sales</th>\n",
              "    </tr>\n",
              "  </thead>\n",
              "  <tbody>\n",
              "    <tr>\n",
              "      <th>0</th>\n",
              "      <td>536365</td>\n",
              "      <td>85123A</td>\n",
              "      <td>WHITE HANGING HEART T-LIGHT HOLDER</td>\n",
              "      <td>6</td>\n",
              "      <td>2010-12-01 08:26:00</td>\n",
              "      <td>2.55</td>\n",
              "      <td>17850.0</td>\n",
              "      <td>United Kingdom</td>\n",
              "      <td>15.30</td>\n",
              "    </tr>\n",
              "    <tr>\n",
              "      <th>1</th>\n",
              "      <td>536365</td>\n",
              "      <td>71053</td>\n",
              "      <td>WHITE METAL LANTERN</td>\n",
              "      <td>6</td>\n",
              "      <td>2010-12-01 08:26:00</td>\n",
              "      <td>3.39</td>\n",
              "      <td>17850.0</td>\n",
              "      <td>United Kingdom</td>\n",
              "      <td>20.34</td>\n",
              "    </tr>\n",
              "    <tr>\n",
              "      <th>2</th>\n",
              "      <td>536365</td>\n",
              "      <td>84406B</td>\n",
              "      <td>CREAM CUPID HEARTS COAT HANGER</td>\n",
              "      <td>8</td>\n",
              "      <td>2010-12-01 08:26:00</td>\n",
              "      <td>2.75</td>\n",
              "      <td>17850.0</td>\n",
              "      <td>United Kingdom</td>\n",
              "      <td>22.00</td>\n",
              "    </tr>\n",
              "    <tr>\n",
              "      <th>3</th>\n",
              "      <td>536365</td>\n",
              "      <td>84029G</td>\n",
              "      <td>KNITTED UNION FLAG HOT WATER BOTTLE</td>\n",
              "      <td>6</td>\n",
              "      <td>2010-12-01 08:26:00</td>\n",
              "      <td>3.39</td>\n",
              "      <td>17850.0</td>\n",
              "      <td>United Kingdom</td>\n",
              "      <td>20.34</td>\n",
              "    </tr>\n",
              "    <tr>\n",
              "      <th>4</th>\n",
              "      <td>536365</td>\n",
              "      <td>84029E</td>\n",
              "      <td>RED WOOLLY HOTTIE WHITE HEART.</td>\n",
              "      <td>6</td>\n",
              "      <td>2010-12-01 08:26:00</td>\n",
              "      <td>3.39</td>\n",
              "      <td>17850.0</td>\n",
              "      <td>United Kingdom</td>\n",
              "      <td>20.34</td>\n",
              "    </tr>\n",
              "  </tbody>\n",
              "</table>\n",
              "</div>"
            ],
            "text/plain": [
              "  InvoiceNo StockCode  ...         Country  Sales\n",
              "0    536365    85123A  ...  United Kingdom  15.30\n",
              "1    536365     71053  ...  United Kingdom  20.34\n",
              "2    536365    84406B  ...  United Kingdom  22.00\n",
              "3    536365    84029G  ...  United Kingdom  20.34\n",
              "4    536365    84029E  ...  United Kingdom  20.34\n",
              "\n",
              "[5 rows x 9 columns]"
            ]
          },
          "metadata": {
            "tags": []
          },
          "execution_count": 148
        }
      ]
    },
    {
      "cell_type": "code",
      "metadata": {
        "id": "2ZIcrDSvaedT",
        "colab_type": "code",
        "colab": {
          "base_uri": "https://localhost:8080/",
          "height": 419
        },
        "outputId": "3ea37ede-4d30-49c6-87b9-4723e31fc53b"
      },
      "source": [
        "invoice_customer_df = df.groupby(\n",
        "    by=['InvoiceNo']\n",
        ").agg({\n",
        "    'Sales': sum,\n",
        "    'CustomerID': max, # specific by each invoice, no different min or max\n",
        "    'Country': max,# specific by each invoice, no different min or max\n",
        "}).reset_index()\n",
        "\n",
        "invoice_customer_df"
      ],
      "execution_count": 149,
      "outputs": [
        {
          "output_type": "execute_result",
          "data": {
            "text/html": [
              "<div>\n",
              "<style scoped>\n",
              "    .dataframe tbody tr th:only-of-type {\n",
              "        vertical-align: middle;\n",
              "    }\n",
              "\n",
              "    .dataframe tbody tr th {\n",
              "        vertical-align: top;\n",
              "    }\n",
              "\n",
              "    .dataframe thead th {\n",
              "        text-align: right;\n",
              "    }\n",
              "</style>\n",
              "<table border=\"1\" class=\"dataframe\">\n",
              "  <thead>\n",
              "    <tr style=\"text-align: right;\">\n",
              "      <th></th>\n",
              "      <th>InvoiceNo</th>\n",
              "      <th>Sales</th>\n",
              "      <th>CustomerID</th>\n",
              "      <th>Country</th>\n",
              "    </tr>\n",
              "  </thead>\n",
              "  <tbody>\n",
              "    <tr>\n",
              "      <th>0</th>\n",
              "      <td>536365</td>\n",
              "      <td>139.12</td>\n",
              "      <td>17850.0</td>\n",
              "      <td>United Kingdom</td>\n",
              "    </tr>\n",
              "    <tr>\n",
              "      <th>1</th>\n",
              "      <td>536366</td>\n",
              "      <td>22.20</td>\n",
              "      <td>17850.0</td>\n",
              "      <td>United Kingdom</td>\n",
              "    </tr>\n",
              "    <tr>\n",
              "      <th>2</th>\n",
              "      <td>536367</td>\n",
              "      <td>278.73</td>\n",
              "      <td>13047.0</td>\n",
              "      <td>United Kingdom</td>\n",
              "    </tr>\n",
              "    <tr>\n",
              "      <th>3</th>\n",
              "      <td>536368</td>\n",
              "      <td>70.05</td>\n",
              "      <td>13047.0</td>\n",
              "      <td>United Kingdom</td>\n",
              "    </tr>\n",
              "    <tr>\n",
              "      <th>4</th>\n",
              "      <td>536369</td>\n",
              "      <td>17.85</td>\n",
              "      <td>13047.0</td>\n",
              "      <td>United Kingdom</td>\n",
              "    </tr>\n",
              "    <tr>\n",
              "      <th>...</th>\n",
              "      <td>...</td>\n",
              "      <td>...</td>\n",
              "      <td>...</td>\n",
              "      <td>...</td>\n",
              "    </tr>\n",
              "    <tr>\n",
              "      <th>19884</th>\n",
              "      <td>579881</td>\n",
              "      <td>905.52</td>\n",
              "      <td>12429.0</td>\n",
              "      <td>Denmark</td>\n",
              "    </tr>\n",
              "    <tr>\n",
              "      <th>19885</th>\n",
              "      <td>579885</td>\n",
              "      <td>1075.36</td>\n",
              "      <td>15444.0</td>\n",
              "      <td>United Kingdom</td>\n",
              "    </tr>\n",
              "    <tr>\n",
              "      <th>19886</th>\n",
              "      <td>A563185</td>\n",
              "      <td>11062.06</td>\n",
              "      <td>NaN</td>\n",
              "      <td>United Kingdom</td>\n",
              "    </tr>\n",
              "    <tr>\n",
              "      <th>19887</th>\n",
              "      <td>A563186</td>\n",
              "      <td>-11062.06</td>\n",
              "      <td>NaN</td>\n",
              "      <td>United Kingdom</td>\n",
              "    </tr>\n",
              "    <tr>\n",
              "      <th>19888</th>\n",
              "      <td>A563187</td>\n",
              "      <td>-11062.06</td>\n",
              "      <td>NaN</td>\n",
              "      <td>United Kingdom</td>\n",
              "    </tr>\n",
              "  </tbody>\n",
              "</table>\n",
              "<p>19889 rows × 4 columns</p>\n",
              "</div>"
            ],
            "text/plain": [
              "      InvoiceNo     Sales  CustomerID         Country\n",
              "0        536365    139.12     17850.0  United Kingdom\n",
              "1        536366     22.20     17850.0  United Kingdom\n",
              "2        536367    278.73     13047.0  United Kingdom\n",
              "3        536368     70.05     13047.0  United Kingdom\n",
              "4        536369     17.85     13047.0  United Kingdom\n",
              "...         ...       ...         ...             ...\n",
              "19884    579881    905.52     12429.0         Denmark\n",
              "19885    579885   1075.36     15444.0  United Kingdom\n",
              "19886   A563185  11062.06         NaN  United Kingdom\n",
              "19887   A563186 -11062.06         NaN  United Kingdom\n",
              "19888   A563187 -11062.06         NaN  United Kingdom\n",
              "\n",
              "[19889 rows x 4 columns]"
            ]
          },
          "metadata": {
            "tags": []
          },
          "execution_count": 149
        }
      ]
    },
    {
      "cell_type": "code",
      "metadata": {
        "id": "TQbqNlBDQofn",
        "colab_type": "code",
        "colab": {
          "base_uri": "https://localhost:8080/",
          "height": 419
        },
        "outputId": "1b3d7044-b40b-496f-820a-02ca3d96980e"
      },
      "source": [
        "invoice_customer_df = df.groupby(\n",
        "    by=['InvoiceNo', 'InvoiceDate']\n",
        ").agg({\n",
        "    'Sales': sum,\n",
        "    'CustomerID': max, # specific by each invoice, no different min or max\n",
        "    'Country': max,# specific by each invoice, no different min or max\n",
        "}).reset_index()\n",
        "\n",
        "invoice_customer_df"
      ],
      "execution_count": 139,
      "outputs": [
        {
          "output_type": "execute_result",
          "data": {
            "text/html": [
              "<div>\n",
              "<style scoped>\n",
              "    .dataframe tbody tr th:only-of-type {\n",
              "        vertical-align: middle;\n",
              "    }\n",
              "\n",
              "    .dataframe tbody tr th {\n",
              "        vertical-align: top;\n",
              "    }\n",
              "\n",
              "    .dataframe thead th {\n",
              "        text-align: right;\n",
              "    }\n",
              "</style>\n",
              "<table border=\"1\" class=\"dataframe\">\n",
              "  <thead>\n",
              "    <tr style=\"text-align: right;\">\n",
              "      <th></th>\n",
              "      <th>InvoiceNo</th>\n",
              "      <th>InvoiceDate</th>\n",
              "      <th>Sales</th>\n",
              "      <th>CustomerID</th>\n",
              "      <th>Country</th>\n",
              "    </tr>\n",
              "  </thead>\n",
              "  <tbody>\n",
              "    <tr>\n",
              "      <th>0</th>\n",
              "      <td>536365</td>\n",
              "      <td>2010-12-01 08:26:00</td>\n",
              "      <td>139.12</td>\n",
              "      <td>17850.0</td>\n",
              "      <td>United Kingdom</td>\n",
              "    </tr>\n",
              "    <tr>\n",
              "      <th>1</th>\n",
              "      <td>536366</td>\n",
              "      <td>2010-12-01 08:28:00</td>\n",
              "      <td>22.20</td>\n",
              "      <td>17850.0</td>\n",
              "      <td>United Kingdom</td>\n",
              "    </tr>\n",
              "    <tr>\n",
              "      <th>2</th>\n",
              "      <td>536367</td>\n",
              "      <td>2010-12-01 08:34:00</td>\n",
              "      <td>278.73</td>\n",
              "      <td>13047.0</td>\n",
              "      <td>United Kingdom</td>\n",
              "    </tr>\n",
              "    <tr>\n",
              "      <th>3</th>\n",
              "      <td>536368</td>\n",
              "      <td>2010-12-01 08:34:00</td>\n",
              "      <td>70.05</td>\n",
              "      <td>13047.0</td>\n",
              "      <td>United Kingdom</td>\n",
              "    </tr>\n",
              "    <tr>\n",
              "      <th>4</th>\n",
              "      <td>536369</td>\n",
              "      <td>2010-12-01 08:35:00</td>\n",
              "      <td>17.85</td>\n",
              "      <td>13047.0</td>\n",
              "      <td>United Kingdom</td>\n",
              "    </tr>\n",
              "    <tr>\n",
              "      <th>...</th>\n",
              "      <td>...</td>\n",
              "      <td>...</td>\n",
              "      <td>...</td>\n",
              "      <td>...</td>\n",
              "      <td>...</td>\n",
              "    </tr>\n",
              "    <tr>\n",
              "      <th>19926</th>\n",
              "      <td>579881</td>\n",
              "      <td>2011-11-30 17:22:00</td>\n",
              "      <td>905.52</td>\n",
              "      <td>12429.0</td>\n",
              "      <td>Denmark</td>\n",
              "    </tr>\n",
              "    <tr>\n",
              "      <th>19927</th>\n",
              "      <td>579885</td>\n",
              "      <td>2011-11-30 17:37:00</td>\n",
              "      <td>1075.36</td>\n",
              "      <td>15444.0</td>\n",
              "      <td>United Kingdom</td>\n",
              "    </tr>\n",
              "    <tr>\n",
              "      <th>19928</th>\n",
              "      <td>A563185</td>\n",
              "      <td>2011-08-12 14:50:00</td>\n",
              "      <td>11062.06</td>\n",
              "      <td>NaN</td>\n",
              "      <td>United Kingdom</td>\n",
              "    </tr>\n",
              "    <tr>\n",
              "      <th>19929</th>\n",
              "      <td>A563186</td>\n",
              "      <td>2011-08-12 14:51:00</td>\n",
              "      <td>-11062.06</td>\n",
              "      <td>NaN</td>\n",
              "      <td>United Kingdom</td>\n",
              "    </tr>\n",
              "    <tr>\n",
              "      <th>19930</th>\n",
              "      <td>A563187</td>\n",
              "      <td>2011-08-12 14:52:00</td>\n",
              "      <td>-11062.06</td>\n",
              "      <td>NaN</td>\n",
              "      <td>United Kingdom</td>\n",
              "    </tr>\n",
              "  </tbody>\n",
              "</table>\n",
              "<p>19931 rows × 5 columns</p>\n",
              "</div>"
            ],
            "text/plain": [
              "      InvoiceNo         InvoiceDate     Sales  CustomerID         Country\n",
              "0        536365 2010-12-01 08:26:00    139.12     17850.0  United Kingdom\n",
              "1        536366 2010-12-01 08:28:00     22.20     17850.0  United Kingdom\n",
              "2        536367 2010-12-01 08:34:00    278.73     13047.0  United Kingdom\n",
              "3        536368 2010-12-01 08:34:00     70.05     13047.0  United Kingdom\n",
              "4        536369 2010-12-01 08:35:00     17.85     13047.0  United Kingdom\n",
              "...         ...                 ...       ...         ...             ...\n",
              "19926    579881 2011-11-30 17:22:00    905.52     12429.0         Denmark\n",
              "19927    579885 2011-11-30 17:37:00   1075.36     15444.0  United Kingdom\n",
              "19928   A563185 2011-08-12 14:50:00  11062.06         NaN  United Kingdom\n",
              "19929   A563186 2011-08-12 14:51:00 -11062.06         NaN  United Kingdom\n",
              "19930   A563187 2011-08-12 14:52:00 -11062.06         NaN  United Kingdom\n",
              "\n",
              "[19931 rows x 5 columns]"
            ]
          },
          "metadata": {
            "tags": []
          },
          "execution_count": 139
        }
      ]
    },
    {
      "cell_type": "markdown",
      "metadata": {
        "id": "m5HbMejfZ5h-",
        "colab_type": "text"
      },
      "source": [
        "invoice_customer_df explain:\n",
        "\n",
        "Mỗi đơn hàng (invoiceNo) sẽ gồm nhiều mặt hàng khác nhau (stock code) do 1 khách hàng đặt và tại một thời gian nhất định. Ở đây chúng ta group tất cả đơn hàng lại (nghĩa là sum toàn bộ product sale), mỗi group sẽ gồm specific đơn hàng theo specific date, specific customer\n",
        "\n",
        "Sau đó sẽ group lại theo tháng và customer ID, tức là mỗi thàng sẽ đếm số lượng customer theo số ivncoie gộp. Nếu customer nào có số invoice gộp > 1 sẽ là customer trung thành\n",
        "\n",
        "Đây là khách hàng trung thành theo tháng, không phải khách hàng trung thành theo năm. \n",
        "\n",
        "Duy đề xuất: để tính khách hàng trung thành thì có thể xem lịch sử liệu khách hàng này đặt hàng bao nhiều lần (>2). Theo ví dụ ở đây thì khách hàng có thể đặt 1 lần trong tháng tuy nhiên đã đặt nhiều lần ở các tháng trước thì không được tính kh trung thành, vi du này hơi ngặt\n",
        "\n",
        "Cách làm trong ví dụ: đầu tiên là group theo tháng, sau đó group invoice, sau đó group customer theo số invoice này, nếu count customer theo invoice lớn hơn 2 là khách hàng trung thành"
      ]
    },
    {
      "cell_type": "code",
      "metadata": {
        "id": "azGRjsdKS7Z8",
        "colab_type": "code",
        "colab": {
          "base_uri": "https://localhost:8080/",
          "height": 238
        },
        "outputId": "f0ddffa4-ac16-4af2-de37-75dee856606a"
      },
      "source": [
        "monthly_repeat_customers_df =invoice_customer_df.set_index('InvoiceDate').groupby([\n",
        "    pd.Grouper(freq='M'), 'CustomerID'\n",
        "]).nunique()['CustomerID']\n",
        "\n",
        "monthly_repeat_customers_df "
      ],
      "execution_count": 140,
      "outputs": [
        {
          "output_type": "execute_result",
          "data": {
            "text/plain": [
              "InvoiceDate  CustomerID\n",
              "2010-12-31   12347.0       1\n",
              "             12348.0       1\n",
              "             12370.0       1\n",
              "             12377.0       1\n",
              "             12383.0       1\n",
              "                          ..\n",
              "2011-11-30   18259.0       1\n",
              "             18263.0       1\n",
              "             18270.0       1\n",
              "             18274.0       1\n",
              "             18283.0       1\n",
              "Name: CustomerID, Length: 12440, dtype: int64"
            ]
          },
          "metadata": {
            "tags": []
          },
          "execution_count": 140
        }
      ]
    },
    {
      "cell_type": "code",
      "metadata": {
        "id": "I4fdeHqmS2nI",
        "colab_type": "code",
        "colab": {
          "base_uri": "https://localhost:8080/",
          "height": 238
        },
        "outputId": "868b6139-af77-4acf-c06b-efe52bdaecad"
      },
      "source": [
        "monthly_repeat_customers_df =invoice_customer_df.set_index('InvoiceDate').groupby([\n",
        "    pd.Grouper(freq='M'), 'CustomerID'\n",
        "]).resample('M').nunique()['CustomerID']\n",
        "\n",
        "monthly_repeat_customers_df "
      ],
      "execution_count": 141,
      "outputs": [
        {
          "output_type": "execute_result",
          "data": {
            "text/plain": [
              "InvoiceDate  CustomerID  InvoiceDate\n",
              "2010-12-31   12347.0     2010-12-31     1\n",
              "             12348.0     2010-12-31     1\n",
              "             12370.0     2010-12-31     1\n",
              "             12377.0     2010-12-31     1\n",
              "             12383.0     2010-12-31     1\n",
              "                                       ..\n",
              "2011-11-30   18259.0     2011-11-30     1\n",
              "             18263.0     2011-11-30     1\n",
              "             18270.0     2011-11-30     1\n",
              "             18274.0     2011-11-30     1\n",
              "             18283.0     2011-11-30     1\n",
              "Name: CustomerID, Length: 12440, dtype: int64"
            ]
          },
          "metadata": {
            "tags": []
          },
          "execution_count": 141
        }
      ]
    },
    {
      "cell_type": "code",
      "metadata": {
        "id": "eAKbQJCITU1A",
        "colab_type": "code",
        "colab": {
          "base_uri": "https://localhost:8080/",
          "height": 34
        },
        "outputId": "24a69c96-2302-4f01-d185-e3d9c0f5d14f"
      },
      "source": [
        "monthly_repeat_customers_df =invoice_customer_df.set_index('InvoiceDate').groupby([\n",
        "    pd.Grouper(freq='M'), 'CustomerID'\n",
        "]).filter(lambda x: len(x) > 1).nunique()['CustomerID']\n",
        "\n",
        "monthly_repeat_customers_df "
      ],
      "execution_count": 142,
      "outputs": [
        {
          "output_type": "execute_result",
          "data": {
            "text/plain": [
              "1370"
            ]
          },
          "metadata": {
            "tags": []
          },
          "execution_count": 142
        }
      ]
    },
    {
      "cell_type": "code",
      "metadata": {
        "id": "lwDyIvUhNNMi",
        "colab_type": "code",
        "colab": {
          "base_uri": "https://localhost:8080/",
          "height": 255
        },
        "outputId": "40896f55-fd18-4993-d2e1-8e9addee2275"
      },
      "source": [
        "monthly_repeat_customers_df =invoice_customer_df.set_index('InvoiceDate').groupby([\n",
        "    pd.Grouper(freq='M'), 'CustomerID'\n",
        "]).filter(lambda x: len(x) > 1).resample('M').nunique()['CustomerID']\n",
        "\n",
        "monthly_repeat_customers_df "
      ],
      "execution_count": 143,
      "outputs": [
        {
          "output_type": "execute_result",
          "data": {
            "text/plain": [
              "InvoiceDate\n",
              "2010-12-31    263\n",
              "2011-01-31    153\n",
              "2011-02-28    153\n",
              "2011-03-31    203\n",
              "2011-04-30    170\n",
              "2011-05-31    281\n",
              "2011-06-30    220\n",
              "2011-07-31    227\n",
              "2011-08-31    198\n",
              "2011-09-30    272\n",
              "2011-10-31    324\n",
              "2011-11-30    541\n",
              "Freq: M, Name: CustomerID, dtype: int64"
            ]
          },
          "metadata": {
            "tags": []
          },
          "execution_count": 143
        }
      ]
    },
    {
      "cell_type": "code",
      "metadata": {
        "id": "ojUxGJ5LQuiR",
        "colab_type": "code",
        "colab": {
          "base_uri": "https://localhost:8080/",
          "height": 374
        },
        "outputId": "e43645f0-d32f-4785-d48a-9c8fa2e3d5a5"
      },
      "source": [
        "df.head()"
      ],
      "execution_count": 144,
      "outputs": [
        {
          "output_type": "execute_result",
          "data": {
            "text/html": [
              "<div>\n",
              "<style scoped>\n",
              "    .dataframe tbody tr th:only-of-type {\n",
              "        vertical-align: middle;\n",
              "    }\n",
              "\n",
              "    .dataframe tbody tr th {\n",
              "        vertical-align: top;\n",
              "    }\n",
              "\n",
              "    .dataframe thead th {\n",
              "        text-align: right;\n",
              "    }\n",
              "</style>\n",
              "<table border=\"1\" class=\"dataframe\">\n",
              "  <thead>\n",
              "    <tr style=\"text-align: right;\">\n",
              "      <th></th>\n",
              "      <th>InvoiceNo</th>\n",
              "      <th>StockCode</th>\n",
              "      <th>Description</th>\n",
              "      <th>Quantity</th>\n",
              "      <th>InvoiceDate</th>\n",
              "      <th>UnitPrice</th>\n",
              "      <th>CustomerID</th>\n",
              "      <th>Country</th>\n",
              "      <th>Sales</th>\n",
              "    </tr>\n",
              "  </thead>\n",
              "  <tbody>\n",
              "    <tr>\n",
              "      <th>0</th>\n",
              "      <td>536365</td>\n",
              "      <td>85123A</td>\n",
              "      <td>WHITE HANGING HEART T-LIGHT HOLDER</td>\n",
              "      <td>6</td>\n",
              "      <td>2010-12-01 08:26:00</td>\n",
              "      <td>2.55</td>\n",
              "      <td>17850.0</td>\n",
              "      <td>United Kingdom</td>\n",
              "      <td>15.30</td>\n",
              "    </tr>\n",
              "    <tr>\n",
              "      <th>1</th>\n",
              "      <td>536365</td>\n",
              "      <td>71053</td>\n",
              "      <td>WHITE METAL LANTERN</td>\n",
              "      <td>6</td>\n",
              "      <td>2010-12-01 08:26:00</td>\n",
              "      <td>3.39</td>\n",
              "      <td>17850.0</td>\n",
              "      <td>United Kingdom</td>\n",
              "      <td>20.34</td>\n",
              "    </tr>\n",
              "    <tr>\n",
              "      <th>2</th>\n",
              "      <td>536365</td>\n",
              "      <td>84406B</td>\n",
              "      <td>CREAM CUPID HEARTS COAT HANGER</td>\n",
              "      <td>8</td>\n",
              "      <td>2010-12-01 08:26:00</td>\n",
              "      <td>2.75</td>\n",
              "      <td>17850.0</td>\n",
              "      <td>United Kingdom</td>\n",
              "      <td>22.00</td>\n",
              "    </tr>\n",
              "    <tr>\n",
              "      <th>3</th>\n",
              "      <td>536365</td>\n",
              "      <td>84029G</td>\n",
              "      <td>KNITTED UNION FLAG HOT WATER BOTTLE</td>\n",
              "      <td>6</td>\n",
              "      <td>2010-12-01 08:26:00</td>\n",
              "      <td>3.39</td>\n",
              "      <td>17850.0</td>\n",
              "      <td>United Kingdom</td>\n",
              "      <td>20.34</td>\n",
              "    </tr>\n",
              "    <tr>\n",
              "      <th>4</th>\n",
              "      <td>536365</td>\n",
              "      <td>84029E</td>\n",
              "      <td>RED WOOLLY HOTTIE WHITE HEART.</td>\n",
              "      <td>6</td>\n",
              "      <td>2010-12-01 08:26:00</td>\n",
              "      <td>3.39</td>\n",
              "      <td>17850.0</td>\n",
              "      <td>United Kingdom</td>\n",
              "      <td>20.34</td>\n",
              "    </tr>\n",
              "  </tbody>\n",
              "</table>\n",
              "</div>"
            ],
            "text/plain": [
              "  InvoiceNo StockCode  ...         Country  Sales\n",
              "0    536365    85123A  ...  United Kingdom  15.30\n",
              "1    536365     71053  ...  United Kingdom  20.34\n",
              "2    536365    84406B  ...  United Kingdom  22.00\n",
              "3    536365    84029G  ...  United Kingdom  20.34\n",
              "4    536365    84029E  ...  United Kingdom  20.34\n",
              "\n",
              "[5 rows x 9 columns]"
            ]
          },
          "metadata": {
            "tags": []
          },
          "execution_count": 144
        }
      ]
    },
    {
      "cell_type": "code",
      "metadata": {
        "id": "hKP206lRUREf",
        "colab_type": "code",
        "colab": {
          "base_uri": "https://localhost:8080/",
          "height": 255
        },
        "outputId": "f95c3a4c-ae1e-4c1c-fcbe-1f512c4273f8"
      },
      "source": [
        "monthly_unique_customers_df = df.set_index('InvoiceDate').resample('M')['CustomerID'].nunique()\n",
        "monthly_unique_customers_df"
      ],
      "execution_count": 145,
      "outputs": [
        {
          "output_type": "execute_result",
          "data": {
            "text/plain": [
              "InvoiceDate\n",
              "2010-12-31     885\n",
              "2011-01-31     741\n",
              "2011-02-28     758\n",
              "2011-03-31     974\n",
              "2011-04-30     856\n",
              "2011-05-31    1056\n",
              "2011-06-30     991\n",
              "2011-07-31     949\n",
              "2011-08-31     935\n",
              "2011-09-30    1266\n",
              "2011-10-31    1364\n",
              "2011-11-30    1665\n",
              "Freq: M, Name: CustomerID, dtype: int64"
            ]
          },
          "metadata": {
            "tags": []
          },
          "execution_count": 145
        }
      ]
    },
    {
      "cell_type": "code",
      "metadata": {
        "id": "HnKw7AuZQrIq",
        "colab_type": "code",
        "colab": {
          "base_uri": "https://localhost:8080/",
          "height": 255
        },
        "outputId": "953023ff-cfc8-4d3c-c0fd-73f2af5d8e34"
      },
      "source": [
        "monthly_repeat_percentage = monthly_repeat_customers_df/monthly_unique_customers_df*100.0\n",
        "monthly_repeat_percentage"
      ],
      "execution_count": 146,
      "outputs": [
        {
          "output_type": "execute_result",
          "data": {
            "text/plain": [
              "InvoiceDate\n",
              "2010-12-31    29.717514\n",
              "2011-01-31    20.647773\n",
              "2011-02-28    20.184697\n",
              "2011-03-31    20.841889\n",
              "2011-04-30    19.859813\n",
              "2011-05-31    26.609848\n",
              "2011-06-30    22.199798\n",
              "2011-07-31    23.919916\n",
              "2011-08-31    21.176471\n",
              "2011-09-30    21.484992\n",
              "2011-10-31    23.753666\n",
              "2011-11-30    32.492492\n",
              "Freq: M, Name: CustomerID, dtype: float64"
            ]
          },
          "metadata": {
            "tags": []
          },
          "execution_count": 146
        }
      ]
    },
    {
      "cell_type": "markdown",
      "metadata": {
        "id": "O84y7g0guETi",
        "colab_type": "text"
      },
      "source": [
        "## Who is the most value customer ?"
      ]
    },
    {
      "cell_type": "code",
      "metadata": {
        "id": "fxObdMs7uU3H",
        "colab_type": "code",
        "colab": {
          "base_uri": "https://localhost:8080/",
          "height": 374
        },
        "outputId": "883262b2-5951-4d93-d66f-f381320dc6ed"
      },
      "source": [
        "df.head()"
      ],
      "execution_count": 154,
      "outputs": [
        {
          "output_type": "execute_result",
          "data": {
            "text/html": [
              "<div>\n",
              "<style scoped>\n",
              "    .dataframe tbody tr th:only-of-type {\n",
              "        vertical-align: middle;\n",
              "    }\n",
              "\n",
              "    .dataframe tbody tr th {\n",
              "        vertical-align: top;\n",
              "    }\n",
              "\n",
              "    .dataframe thead th {\n",
              "        text-align: right;\n",
              "    }\n",
              "</style>\n",
              "<table border=\"1\" class=\"dataframe\">\n",
              "  <thead>\n",
              "    <tr style=\"text-align: right;\">\n",
              "      <th></th>\n",
              "      <th>InvoiceNo</th>\n",
              "      <th>StockCode</th>\n",
              "      <th>Description</th>\n",
              "      <th>Quantity</th>\n",
              "      <th>InvoiceDate</th>\n",
              "      <th>UnitPrice</th>\n",
              "      <th>CustomerID</th>\n",
              "      <th>Country</th>\n",
              "      <th>Sales</th>\n",
              "    </tr>\n",
              "  </thead>\n",
              "  <tbody>\n",
              "    <tr>\n",
              "      <th>0</th>\n",
              "      <td>536365</td>\n",
              "      <td>85123A</td>\n",
              "      <td>WHITE HANGING HEART T-LIGHT HOLDER</td>\n",
              "      <td>6</td>\n",
              "      <td>2010-12-01 08:26:00</td>\n",
              "      <td>2.55</td>\n",
              "      <td>17850.0</td>\n",
              "      <td>United Kingdom</td>\n",
              "      <td>15.30</td>\n",
              "    </tr>\n",
              "    <tr>\n",
              "      <th>1</th>\n",
              "      <td>536365</td>\n",
              "      <td>71053</td>\n",
              "      <td>WHITE METAL LANTERN</td>\n",
              "      <td>6</td>\n",
              "      <td>2010-12-01 08:26:00</td>\n",
              "      <td>3.39</td>\n",
              "      <td>17850.0</td>\n",
              "      <td>United Kingdom</td>\n",
              "      <td>20.34</td>\n",
              "    </tr>\n",
              "    <tr>\n",
              "      <th>2</th>\n",
              "      <td>536365</td>\n",
              "      <td>84406B</td>\n",
              "      <td>CREAM CUPID HEARTS COAT HANGER</td>\n",
              "      <td>8</td>\n",
              "      <td>2010-12-01 08:26:00</td>\n",
              "      <td>2.75</td>\n",
              "      <td>17850.0</td>\n",
              "      <td>United Kingdom</td>\n",
              "      <td>22.00</td>\n",
              "    </tr>\n",
              "    <tr>\n",
              "      <th>3</th>\n",
              "      <td>536365</td>\n",
              "      <td>84029G</td>\n",
              "      <td>KNITTED UNION FLAG HOT WATER BOTTLE</td>\n",
              "      <td>6</td>\n",
              "      <td>2010-12-01 08:26:00</td>\n",
              "      <td>3.39</td>\n",
              "      <td>17850.0</td>\n",
              "      <td>United Kingdom</td>\n",
              "      <td>20.34</td>\n",
              "    </tr>\n",
              "    <tr>\n",
              "      <th>4</th>\n",
              "      <td>536365</td>\n",
              "      <td>84029E</td>\n",
              "      <td>RED WOOLLY HOTTIE WHITE HEART.</td>\n",
              "      <td>6</td>\n",
              "      <td>2010-12-01 08:26:00</td>\n",
              "      <td>3.39</td>\n",
              "      <td>17850.0</td>\n",
              "      <td>United Kingdom</td>\n",
              "      <td>20.34</td>\n",
              "    </tr>\n",
              "  </tbody>\n",
              "</table>\n",
              "</div>"
            ],
            "text/plain": [
              "  InvoiceNo StockCode  ...         Country  Sales\n",
              "0    536365    85123A  ...  United Kingdom  15.30\n",
              "1    536365     71053  ...  United Kingdom  20.34\n",
              "2    536365    84406B  ...  United Kingdom  22.00\n",
              "3    536365    84029G  ...  United Kingdom  20.34\n",
              "4    536365    84029E  ...  United Kingdom  20.34\n",
              "\n",
              "[5 rows x 9 columns]"
            ]
          },
          "metadata": {
            "tags": []
          },
          "execution_count": 154
        }
      ]
    },
    {
      "cell_type": "code",
      "metadata": {
        "id": "LPbEOqyAvlM4",
        "colab_type": "code",
        "colab": {
          "base_uri": "https://localhost:8080/",
          "height": 34
        },
        "outputId": "99bc18d1-5991-4981-c399-b9ff1d61a0a9"
      },
      "source": [
        "df['CustomerID'].nunique()"
      ],
      "execution_count": 161,
      "outputs": [
        {
          "output_type": "execute_result",
          "data": {
            "text/plain": [
              "4298"
            ]
          },
          "metadata": {
            "tags": []
          },
          "execution_count": 161
        }
      ]
    },
    {
      "cell_type": "code",
      "metadata": {
        "id": "IZgzaT8iuHzU",
        "colab_type": "code",
        "colab": {}
      },
      "source": [
        "Value_customer_df=df.pivot_table(index='CustomerID',values=['Sales','InvoiceNo','Country'],\n",
        "               aggfunc={'Sales':'sum','InvoiceNo':'count','Country':'max'})\\\n",
        "                .sort_values(by='Sales',ascending=False)\\\n",
        "                .rename(columns={'InvoiceNo':'Count_invoice'})\n",
        "#Value_customer_df"
      ],
      "execution_count": 212,
      "outputs": []
    },
    {
      "cell_type": "code",
      "metadata": {
        "id": "_UGeTPsR5fQV",
        "colab_type": "code",
        "colab": {
          "base_uri": "https://localhost:8080/",
          "height": 390
        },
        "outputId": "8e2c60ad-ac54-414b-dfb8-b58ea490d625"
      },
      "source": [
        "newdf=Value_customer_df.head(10)\n",
        "newdf"
      ],
      "execution_count": 213,
      "outputs": [
        {
          "output_type": "execute_result",
          "data": {
            "text/html": [
              "<div>\n",
              "<style scoped>\n",
              "    .dataframe tbody tr th:only-of-type {\n",
              "        vertical-align: middle;\n",
              "    }\n",
              "\n",
              "    .dataframe tbody tr th {\n",
              "        vertical-align: top;\n",
              "    }\n",
              "\n",
              "    .dataframe thead th {\n",
              "        text-align: right;\n",
              "    }\n",
              "</style>\n",
              "<table border=\"1\" class=\"dataframe\">\n",
              "  <thead>\n",
              "    <tr style=\"text-align: right;\">\n",
              "      <th></th>\n",
              "      <th>Country</th>\n",
              "      <th>Count_invoice</th>\n",
              "      <th>Sales</th>\n",
              "    </tr>\n",
              "    <tr>\n",
              "      <th>CustomerID</th>\n",
              "      <th></th>\n",
              "      <th></th>\n",
              "      <th></th>\n",
              "    </tr>\n",
              "  </thead>\n",
              "  <tbody>\n",
              "    <tr>\n",
              "      <th>14646.0</th>\n",
              "      <td>Netherlands</td>\n",
              "      <td>1994</td>\n",
              "      <td>268478.00</td>\n",
              "    </tr>\n",
              "    <tr>\n",
              "      <th>18102.0</th>\n",
              "      <td>United Kingdom</td>\n",
              "      <td>408</td>\n",
              "      <td>248171.76</td>\n",
              "    </tr>\n",
              "    <tr>\n",
              "      <th>17450.0</th>\n",
              "      <td>United Kingdom</td>\n",
              "      <td>332</td>\n",
              "      <td>192988.39</td>\n",
              "    </tr>\n",
              "    <tr>\n",
              "      <th>14911.0</th>\n",
              "      <td>EIRE</td>\n",
              "      <td>5358</td>\n",
              "      <td>136846.14</td>\n",
              "    </tr>\n",
              "    <tr>\n",
              "      <th>12415.0</th>\n",
              "      <td>Australia</td>\n",
              "      <td>716</td>\n",
              "      <td>124914.53</td>\n",
              "    </tr>\n",
              "    <tr>\n",
              "      <th>14156.0</th>\n",
              "      <td>EIRE</td>\n",
              "      <td>1400</td>\n",
              "      <td>117379.63</td>\n",
              "    </tr>\n",
              "    <tr>\n",
              "      <th>17511.0</th>\n",
              "      <td>United Kingdom</td>\n",
              "      <td>890</td>\n",
              "      <td>83683.06</td>\n",
              "    </tr>\n",
              "    <tr>\n",
              "      <th>16029.0</th>\n",
              "      <td>United Kingdom</td>\n",
              "      <td>242</td>\n",
              "      <td>81024.84</td>\n",
              "    </tr>\n",
              "    <tr>\n",
              "      <th>12346.0</th>\n",
              "      <td>United Kingdom</td>\n",
              "      <td>1</td>\n",
              "      <td>77183.60</td>\n",
              "    </tr>\n",
              "    <tr>\n",
              "      <th>13694.0</th>\n",
              "      <td>United Kingdom</td>\n",
              "      <td>545</td>\n",
              "      <td>61908.46</td>\n",
              "    </tr>\n",
              "  </tbody>\n",
              "</table>\n",
              "</div>"
            ],
            "text/plain": [
              "                   Country  Count_invoice      Sales\n",
              "CustomerID                                          \n",
              "14646.0        Netherlands           1994  268478.00\n",
              "18102.0     United Kingdom            408  248171.76\n",
              "17450.0     United Kingdom            332  192988.39\n",
              "14911.0               EIRE           5358  136846.14\n",
              "12415.0          Australia            716  124914.53\n",
              "14156.0               EIRE           1400  117379.63\n",
              "17511.0     United Kingdom            890   83683.06\n",
              "16029.0     United Kingdom            242   81024.84\n",
              "12346.0     United Kingdom              1   77183.60\n",
              "13694.0     United Kingdom            545   61908.46"
            ]
          },
          "metadata": {
            "tags": []
          },
          "execution_count": 213
        }
      ]
    },
    {
      "cell_type": "code",
      "metadata": {
        "id": "vk-r4MKVzJTy",
        "colab_type": "code",
        "colab": {
          "base_uri": "https://localhost:8080/",
          "height": 336
        },
        "outputId": "b1cf49ea-ef26-49db-be6b-fc79df562bc5"
      },
      "source": [
        "#fig,ax=plt.subplots(figsize=(10,5))\n",
        "ax=pd.DataFrame(newdf['Sales'].values).plot(kind='bar',color='blue',alpha=0.4\n",
        ")\n",
        "ax2=pd.DataFrame(newdf['Count_invoice'].values).plot(kind='line',#color='red',\n",
        "                                                     ax=ax,secondary_y=True,\n",
        "                                                     style='o-')\n",
        "\n",
        "ax.set_xlabel('Value customer')\n",
        "ax.set_ylabel('Total Sales')\n",
        "ax.set_title('Total sale and number invoice')\n",
        "ax.set_xticklabels(newdf.index,rotation = 90) \n",
        "ax2.set_ylabel('Count_invoice')\n",
        "plt.grid(None)\n",
        "\n",
        "#ax.legend(bbox_to_anchor=(1.5, 1))\n",
        "#ax2.legend(bbox_to_anchor=(1.7, 0.8))\n",
        "plt.show()"
      ],
      "execution_count": 244,
      "outputs": [
        {
          "output_type": "display_data",
          "data": {
            "image/png": "[encoded data removed]",
            "text/plain": [
              "<Figure size 432x288 with 2 Axes>"
            ]
          },
          "metadata": {
            "tags": [],
            "needs_background": "light"
          }
        }
      ]
    },
    {
      "cell_type": "markdown",
      "metadata": {
        "id": "CewNlJl3wy5q",
        "colab_type": "text"
      },
      "source": [
        "## What is the most value product ?"
      ]
    },
    {
      "cell_type": "code",
      "metadata": {
        "id": "9kwvAhE-wGbc",
        "colab_type": "code",
        "colab": {
          "base_uri": "https://localhost:8080/",
          "height": 450
        },
        "outputId": "066a9695-1901-4263-9319-fdafee83959f"
      },
      "source": [
        "Value_product_df=df.pivot_table(index='StockCode',values=['Sales','InvoiceNo'],\n",
        "               aggfunc={'Sales':'sum','InvoiceNo':'count'})\\\n",
        "                .sort_values(by='Sales',ascending=False)\\\n",
        "                .rename(columns={'InvoiceNo':'Count_invoice'})\n",
        "Value_product_df"
      ],
      "execution_count": 167,
      "outputs": [
        {
          "output_type": "execute_result",
          "data": {
            "text/html": [
              "<div>\n",
              "<style scoped>\n",
              "    .dataframe tbody tr th:only-of-type {\n",
              "        vertical-align: middle;\n",
              "    }\n",
              "\n",
              "    .dataframe tbody tr th {\n",
              "        vertical-align: top;\n",
              "    }\n",
              "\n",
              "    .dataframe thead th {\n",
              "        text-align: right;\n",
              "    }\n",
              "</style>\n",
              "<table border=\"1\" class=\"dataframe\">\n",
              "  <thead>\n",
              "    <tr style=\"text-align: right;\">\n",
              "      <th></th>\n",
              "      <th>Count_invoice</th>\n",
              "      <th>Sales</th>\n",
              "    </tr>\n",
              "    <tr>\n",
              "      <th>StockCode</th>\n",
              "      <th></th>\n",
              "      <th></th>\n",
              "    </tr>\n",
              "  </thead>\n",
              "  <tbody>\n",
              "    <tr>\n",
              "      <th>DOT</th>\n",
              "      <td>692</td>\n",
              "      <td>186376.08</td>\n",
              "    </tr>\n",
              "    <tr>\n",
              "      <th>22423</th>\n",
              "      <td>1957</td>\n",
              "      <td>168477.87</td>\n",
              "    </tr>\n",
              "    <tr>\n",
              "      <th>85123A</th>\n",
              "      <td>2203</td>\n",
              "      <td>102292.39</td>\n",
              "    </tr>\n",
              "    <tr>\n",
              "      <th>47566</th>\n",
              "      <td>1679</td>\n",
              "      <td>98585.85</td>\n",
              "    </tr>\n",
              "    <tr>\n",
              "      <th>85099B</th>\n",
              "      <td>2061</td>\n",
              "      <td>92113.15</td>\n",
              "    </tr>\n",
              "    <tr>\n",
              "      <th>...</th>\n",
              "      <td>...</td>\n",
              "      <td>...</td>\n",
              "    </tr>\n",
              "    <tr>\n",
              "      <th>62095B</th>\n",
              "      <td>1</td>\n",
              "      <td>0.00</td>\n",
              "    </tr>\n",
              "    <tr>\n",
              "      <th>20849</th>\n",
              "      <td>1</td>\n",
              "      <td>0.00</td>\n",
              "    </tr>\n",
              "    <tr>\n",
              "      <th>72814</th>\n",
              "      <td>1</td>\n",
              "      <td>0.00</td>\n",
              "    </tr>\n",
              "    <tr>\n",
              "      <th>72803B</th>\n",
              "      <td>1</td>\n",
              "      <td>0.00</td>\n",
              "    </tr>\n",
              "    <tr>\n",
              "      <th>B</th>\n",
              "      <td>3</td>\n",
              "      <td>-11062.06</td>\n",
              "    </tr>\n",
              "  </tbody>\n",
              "</table>\n",
              "<p>3938 rows × 2 columns</p>\n",
              "</div>"
            ],
            "text/plain": [
              "           Count_invoice      Sales\n",
              "StockCode                          \n",
              "DOT                  692  186376.08\n",
              "22423               1957  168477.87\n",
              "85123A              2203  102292.39\n",
              "47566               1679   98585.85\n",
              "85099B              2061   92113.15\n",
              "...                  ...        ...\n",
              "62095B                 1       0.00\n",
              "20849                  1       0.00\n",
              "72814                  1       0.00\n",
              "72803B                 1       0.00\n",
              "B                      3  -11062.06\n",
              "\n",
              "[3938 rows x 2 columns]"
            ]
          },
          "metadata": {
            "tags": []
          },
          "execution_count": 167
        }
      ]
    },
    {
      "cell_type": "code",
      "metadata": {
        "id": "u1d_k_1mxIgi",
        "colab_type": "code",
        "colab": {}
      },
      "source": [
        ""
      ],
      "execution_count": null,
      "outputs": []
    }
  ]
}