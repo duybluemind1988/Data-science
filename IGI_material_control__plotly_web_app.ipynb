{
  "nbformat": 4,
  "nbformat_minor": 0,
  "metadata": {
    "kernelspec": {
      "name": "python3",
      "display_name": "Python 3",
      "language": "python"
    },
    "language_info": {
      "mimetype": "text/x-python",
      "nbconvert_exporter": "python",
      "name": "python",
      "pygments_lexer": "ipython3",
      "version": "3.5.4",
      "file_extension": ".py",
      "codemirror_mode": {
        "version": 3,
        "name": "ipython"
      }
    },
    "colab": {
      "name": "IGI_material_control_ plotly_web_app.ipynb",
      "provenance": [],
      "collapsed_sections": [],
      "include_colab_link": true
    }
  },
  "cells": [
    {
      "cell_type": "markdown",
      "metadata": {
        "id": "view-in-github",
        "colab_type": "text"
      },
      "source": [
        "<a href=\"https://colab.research.google.com/github/duybluemind1988/Data-science/blob/master/IGI_material_control__plotly_web_app.ipynb\" target=\"_parent\"><img src=\"https://colab.research.google.com/assets/colab-badge.svg\" alt=\"Open In Colab\"/></a>"
      ]
    },
    {
      "cell_type": "code",
      "metadata": {
        "jupyter": {},
        "trusted": false,
        "id": "2TNQ3e-OZ7ll",
        "colab_type": "code",
        "colab": {}
      },
      "source": [
        "#!pip install altair_viewer #Need to install this package"
      ],
      "execution_count": 1,
      "outputs": []
    },
    {
      "cell_type": "code",
      "metadata": {
        "id": "N4f5Cj05oRin",
        "colab_type": "code",
        "colab": {}
      },
      "source": [
        "#!pip install jupyter altair vega #No need to install this package"
      ],
      "execution_count": 2,
      "outputs": []
    },
    {
      "cell_type": "code",
      "metadata": {
        "id": "aq4NBAoTZAV8",
        "colab_type": "code",
        "colab": {
          "base_uri": "https://localhost:8080/",
          "height": 68
        },
        "outputId": "cb529ca7-31d0-4c76-d71c-413675ebd706"
      },
      "source": [
        "# VERY IMPORTANT INFORMATION\n",
        "print('Please input number of feature')\n",
        "feature_num=5\n",
        "print('Please input number of sample inspection')\n",
        "sample_num=5\n",
        "print('Please input position of sample value')\n",
        "namefile='MMD2019'\n"
      ],
      "execution_count": 3,
      "outputs": [
        {
          "output_type": "stream",
          "text": [
            "Please input number of feature\n",
            "Please input number of sample inspection\n",
            "Please input position of sample value\n"
          ],
          "name": "stdout"
        }
      ]
    },
    {
      "cell_type": "code",
      "metadata": {
        "id": "4nSgR7tdm2RR",
        "colab_type": "code",
        "colab": {
          "base_uri": "https://localhost:8080/",
          "height": 71
        },
        "outputId": "7e332036-33c7-4c7b-86eb-91510cf81234"
      },
      "source": [
        "import seaborn as sns; sns.set()\n",
        "import pandas as pd\n",
        "import numpy as np\n",
        "import matplotlib.pyplot as plt"
      ],
      "execution_count": 4,
      "outputs": [
        {
          "output_type": "stream",
          "text": [
            "/usr/local/lib/python3.6/dist-packages/statsmodels/tools/_testing.py:19: FutureWarning: pandas.util.testing is deprecated. Use the functions in the public API at pandas.testing instead.\n",
            "  import pandas.util.testing as tm\n"
          ],
          "name": "stderr"
        }
      ]
    },
    {
      "cell_type": "code",
      "metadata": {
        "id": "JygC8Ta5D3MP",
        "colab_type": "code",
        "colab": {}
      },
      "source": [
        "#alt.renderers.enable('notebook')\n",
        "#alt.renderers.enable('mimetype')"
      ],
      "execution_count": 5,
      "outputs": []
    },
    {
      "cell_type": "code",
      "metadata": {
        "id": "l671PYV7CejX",
        "colab_type": "code",
        "colab": {
          "base_uri": "https://localhost:8080/",
          "height": 122
        },
        "outputId": "aa914a70-809c-4ecb-fa4d-263c57c205d0"
      },
      "source": [
        "from google.colab import drive\n",
        "drive.mount('/content/drive')"
      ],
      "execution_count": 6,
      "outputs": [
        {
          "output_type": "stream",
          "text": [
            "Go to this URL in a browser: https://accounts.google.com/o/oauth2/auth?client_id=947318989803-6bn6qk8qdgf4n4g3pfee6491hc0brc4i.apps.googleusercontent.com&redirect_uri=urn%3aietf%3awg%3aoauth%3a2.0%3aoob&response_type=code&scope=email%20https%3a%2f%2fwww.googleapis.com%2fauth%2fdocs.test%20https%3a%2f%2fwww.googleapis.com%2fauth%2fdrive%20https%3a%2f%2fwww.googleapis.com%2fauth%2fdrive.photos.readonly%20https%3a%2f%2fwww.googleapis.com%2fauth%2fpeopleapi.readonly\n",
            "\n",
            "Enter your authorization code:\n",
            "··········\n",
            "Mounted at /content/drive\n"
          ],
          "name": "stdout"
        }
      ]
    },
    {
      "cell_type": "code",
      "metadata": {
        "jupyter": {},
        "scrolled": true,
        "trusted": false,
        "id": "VuwXOx_IZ7lx",
        "colab_type": "code",
        "colab": {
          "base_uri": "https://localhost:8080/",
          "height": 34
        },
        "outputId": "3324536e-c0f4-456f-e751-8cb4c2b5250e"
      },
      "source": [
        "import os\n",
        "os.getcwd()"
      ],
      "execution_count": 7,
      "outputs": [
        {
          "output_type": "execute_result",
          "data": {
            "text/plain": [
              "'/content'"
            ]
          },
          "metadata": {
            "tags": []
          },
          "execution_count": 7
        }
      ]
    },
    {
      "cell_type": "code",
      "metadata": {
        "jupyter": {},
        "trusted": false,
        "id": "UpKpM4btZ7l8",
        "colab_type": "code",
        "colab": {}
      },
      "source": [
        "path='/content/drive/My Drive/Data/IGI material Membrane 2019/'\n",
        "#path='/content/drive/My Drive/Data science/Sonion project/IGI material Armature/'\n",
        "#path1='/content/drive/My Drive/Data/MMD 2019/'\n",
        "#path2='/content/drive/My Drive/Data/MMD 2018/'"
      ],
      "execution_count": 17,
      "outputs": []
    },
    {
      "cell_type": "markdown",
      "metadata": {
        "id": "Y2HlTJydH52E",
        "colab_type": "text"
      },
      "source": [
        "### read all excel file and sort  by day"
      ]
    },
    {
      "cell_type": "code",
      "metadata": {
        "jupyter": {},
        "trusted": false,
        "id": "uy2s1BEDZ7mr",
        "colab_type": "code",
        "colab": {
          "base_uri": "https://localhost:8080/",
          "height": 34
        },
        "outputId": "004729aa-2805-4c15-8401-febf7c24d88a"
      },
      "source": [
        "import glob\n",
        "#print(path)\n",
        "all_files=glob.glob(path + '*.xlsx')\n",
        "#sort file in directory by reverse:\n",
        "all_files = sorted(all_files, reverse = False)\n",
        "print('number of files: ',len(all_files))"
      ],
      "execution_count": 18,
      "outputs": [
        {
          "output_type": "stream",
          "text": [
            "number of files:  29\n"
          ],
          "name": "stdout"
        }
      ]
    },
    {
      "cell_type": "markdown",
      "metadata": {
        "id": "2f5dUwV1ISOF",
        "colab_type": "text"
      },
      "source": [
        "### Initial number of feature and sample:"
      ]
    },
    {
      "cell_type": "markdown",
      "metadata": {
        "id": "Katnq8DygEj0",
        "colab_type": "text"
      },
      "source": [
        "### add all dataframe to list of dataframe:"
      ]
    },
    {
      "cell_type": "code",
      "metadata": {
        "id": "CAyq344uIHIQ",
        "colab_type": "code",
        "colab": {
          "base_uri": "https://localhost:8080/",
          "height": 538
        },
        "outputId": "ff5aa8e3-f813-4c23-a570-6465bca6ca9e"
      },
      "source": [
        "finaldf=pd.DataFrame()\n",
        "for filename in all_files:\n",
        "    df = pd.read_excel(filename, index_col = None, header = 0)\n",
        "    #Create data frame feature values(newdf)\n",
        "    newdf=pd.DataFrame()\n",
        "    for i in range(feature_num+1)[1:]:\n",
        "      df_feature= df['Unnamed: '+str(i)][19:(19+sample_num)] #must be = 19 + sample_num /24 la mac dinh\n",
        "      df_feature=df_feature.reset_index(drop=True)\n",
        "      newdf=pd.concat([newdf,df_feature],axis=1)\n",
        "    #print(newdf)  \n",
        "\n",
        "    #Date transform:\n",
        "    a=df[['Unnamed: 7']][3:4] #object type - normal is [2:3]\n",
        "    if a.isna().values:\n",
        "      a=df[['Unnamed: 7']][2:3]\n",
        "      date = a.values[0][0] #timestamp type\n",
        "    else:\n",
        "      date = a.values[0][0] #timestamp type\n",
        "    if isinstance(date, str):\n",
        "      continue\n",
        "    #Create series date column (row = number of value to record, default = 5)\n",
        "    date=pd.Series(date)\n",
        "    datedf=pd.DataFrame()\n",
        "    for i in range(sample_num):\n",
        "      datedf=pd.concat([datedf,date],axis=0)\n",
        "\n",
        "    datedf.reset_index(drop=True, inplace=True)\n",
        "    newdf.reset_index(drop=True, inplace=True)\n",
        "    df_combine=pd.concat([datedf,newdf],axis=1) # combine date and features\n",
        "\n",
        "    #combine all df each filename:\n",
        "    \n",
        "    finaldf=pd.concat([finaldf,df_combine],axis=0)\n",
        "print(finaldf.isnull().sum())\n",
        "finaldf.reset_index(drop=True,inplace=True)\n",
        "finaldf.sort_values(by=finaldf.columns[0])\n",
        "finaldf"
      ],
      "execution_count": 19,
      "outputs": [
        {
          "output_type": "stream",
          "text": [
            "0             0\n",
            "Unnamed: 1    0\n",
            "Unnamed: 2    0\n",
            "Unnamed: 3    0\n",
            "Unnamed: 4    0\n",
            "Unnamed: 5    0\n",
            "dtype: int64\n"
          ],
          "name": "stdout"
        },
        {
          "output_type": "execute_result",
          "data": {
            "text/html": [
              "<div>\n",
              "<style scoped>\n",
              "    .dataframe tbody tr th:only-of-type {\n",
              "        vertical-align: middle;\n",
              "    }\n",
              "\n",
              "    .dataframe tbody tr th {\n",
              "        vertical-align: top;\n",
              "    }\n",
              "\n",
              "    .dataframe thead th {\n",
              "        text-align: right;\n",
              "    }\n",
              "</style>\n",
              "<table border=\"1\" class=\"dataframe\">\n",
              "  <thead>\n",
              "    <tr style=\"text-align: right;\">\n",
              "      <th></th>\n",
              "      <th>0</th>\n",
              "      <th>Unnamed: 1</th>\n",
              "      <th>Unnamed: 2</th>\n",
              "      <th>Unnamed: 3</th>\n",
              "      <th>Unnamed: 4</th>\n",
              "      <th>Unnamed: 5</th>\n",
              "    </tr>\n",
              "  </thead>\n",
              "  <tbody>\n",
              "    <tr>\n",
              "      <th>0</th>\n",
              "      <td>2019-01-11</td>\n",
              "      <td>10.003</td>\n",
              "      <td>1.219</td>\n",
              "      <td>3.197</td>\n",
              "      <td>11.855</td>\n",
              "      <td>0.31</td>\n",
              "    </tr>\n",
              "    <tr>\n",
              "      <th>1</th>\n",
              "      <td>2019-01-11</td>\n",
              "      <td>10.005</td>\n",
              "      <td>1.219</td>\n",
              "      <td>3.19</td>\n",
              "      <td>11.855</td>\n",
              "      <td>0.31</td>\n",
              "    </tr>\n",
              "    <tr>\n",
              "      <th>2</th>\n",
              "      <td>2019-01-11</td>\n",
              "      <td>10.005</td>\n",
              "      <td>1.219</td>\n",
              "      <td>3.194</td>\n",
              "      <td>11.852</td>\n",
              "      <td>0.31</td>\n",
              "    </tr>\n",
              "    <tr>\n",
              "      <th>3</th>\n",
              "      <td>2019-01-11</td>\n",
              "      <td>10.002</td>\n",
              "      <td>1.218</td>\n",
              "      <td>3.198</td>\n",
              "      <td>11.855</td>\n",
              "      <td>0.311</td>\n",
              "    </tr>\n",
              "    <tr>\n",
              "      <th>4</th>\n",
              "      <td>2019-01-11</td>\n",
              "      <td>10.003</td>\n",
              "      <td>1.219</td>\n",
              "      <td>3.19</td>\n",
              "      <td>11.85</td>\n",
              "      <td>0.31</td>\n",
              "    </tr>\n",
              "    <tr>\n",
              "      <th>...</th>\n",
              "      <td>...</td>\n",
              "      <td>...</td>\n",
              "      <td>...</td>\n",
              "      <td>...</td>\n",
              "      <td>...</td>\n",
              "      <td>...</td>\n",
              "    </tr>\n",
              "    <tr>\n",
              "      <th>140</th>\n",
              "      <td>2019-12-31</td>\n",
              "      <td>9.991</td>\n",
              "      <td>1.218</td>\n",
              "      <td>3.199</td>\n",
              "      <td>11.85</td>\n",
              "      <td>0.313</td>\n",
              "    </tr>\n",
              "    <tr>\n",
              "      <th>141</th>\n",
              "      <td>2019-12-31</td>\n",
              "      <td>9.999</td>\n",
              "      <td>1.218</td>\n",
              "      <td>3.204</td>\n",
              "      <td>11.849</td>\n",
              "      <td>0.314</td>\n",
              "    </tr>\n",
              "    <tr>\n",
              "      <th>142</th>\n",
              "      <td>2019-12-31</td>\n",
              "      <td>10.003</td>\n",
              "      <td>1.219</td>\n",
              "      <td>3.202</td>\n",
              "      <td>11.847</td>\n",
              "      <td>0.313</td>\n",
              "    </tr>\n",
              "    <tr>\n",
              "      <th>143</th>\n",
              "      <td>2019-12-31</td>\n",
              "      <td>10.002</td>\n",
              "      <td>1.219</td>\n",
              "      <td>3.201</td>\n",
              "      <td>11.847</td>\n",
              "      <td>0.312</td>\n",
              "    </tr>\n",
              "    <tr>\n",
              "      <th>144</th>\n",
              "      <td>2019-12-31</td>\n",
              "      <td>10.002</td>\n",
              "      <td>1.218</td>\n",
              "      <td>3.201</td>\n",
              "      <td>11.848</td>\n",
              "      <td>0.312</td>\n",
              "    </tr>\n",
              "  </tbody>\n",
              "</table>\n",
              "<p>145 rows × 6 columns</p>\n",
              "</div>"
            ],
            "text/plain": [
              "             0 Unnamed: 1 Unnamed: 2 Unnamed: 3 Unnamed: 4 Unnamed: 5\n",
              "0   2019-01-11     10.003      1.219      3.197     11.855       0.31\n",
              "1   2019-01-11     10.005      1.219       3.19     11.855       0.31\n",
              "2   2019-01-11     10.005      1.219      3.194     11.852       0.31\n",
              "3   2019-01-11     10.002      1.218      3.198     11.855      0.311\n",
              "4   2019-01-11     10.003      1.219       3.19      11.85       0.31\n",
              "..         ...        ...        ...        ...        ...        ...\n",
              "140 2019-12-31      9.991      1.218      3.199      11.85      0.313\n",
              "141 2019-12-31      9.999      1.218      3.204     11.849      0.314\n",
              "142 2019-12-31     10.003      1.219      3.202     11.847      0.313\n",
              "143 2019-12-31     10.002      1.219      3.201     11.847      0.312\n",
              "144 2019-12-31     10.002      1.218      3.201     11.848      0.312\n",
              "\n",
              "[145 rows x 6 columns]"
            ]
          },
          "metadata": {
            "tags": []
          },
          "execution_count": 19
        }
      ]
    },
    {
      "cell_type": "code",
      "metadata": {
        "id": "Lc8OQM0qYowQ",
        "colab_type": "code",
        "colab": {}
      },
      "source": [
        "#finaldf.to_csv('finaldfMMD.csv')"
      ],
      "execution_count": 20,
      "outputs": []
    },
    {
      "cell_type": "code",
      "metadata": {
        "id": "QVnzsVsox9in",
        "colab_type": "code",
        "colab": {
          "base_uri": "https://localhost:8080/",
          "height": 419
        },
        "outputId": "ba0643f0-4896-4d47-cd3c-b1aaa8885f13"
      },
      "source": [
        "finaldf.dropna(inplace=True)\n",
        "finaldf  "
      ],
      "execution_count": 21,
      "outputs": [
        {
          "output_type": "execute_result",
          "data": {
            "text/html": [
              "<div>\n",
              "<style scoped>\n",
              "    .dataframe tbody tr th:only-of-type {\n",
              "        vertical-align: middle;\n",
              "    }\n",
              "\n",
              "    .dataframe tbody tr th {\n",
              "        vertical-align: top;\n",
              "    }\n",
              "\n",
              "    .dataframe thead th {\n",
              "        text-align: right;\n",
              "    }\n",
              "</style>\n",
              "<table border=\"1\" class=\"dataframe\">\n",
              "  <thead>\n",
              "    <tr style=\"text-align: right;\">\n",
              "      <th></th>\n",
              "      <th>0</th>\n",
              "      <th>Unnamed: 1</th>\n",
              "      <th>Unnamed: 2</th>\n",
              "      <th>Unnamed: 3</th>\n",
              "      <th>Unnamed: 4</th>\n",
              "      <th>Unnamed: 5</th>\n",
              "    </tr>\n",
              "  </thead>\n",
              "  <tbody>\n",
              "    <tr>\n",
              "      <th>0</th>\n",
              "      <td>2019-01-11</td>\n",
              "      <td>10.003</td>\n",
              "      <td>1.219</td>\n",
              "      <td>3.197</td>\n",
              "      <td>11.855</td>\n",
              "      <td>0.31</td>\n",
              "    </tr>\n",
              "    <tr>\n",
              "      <th>1</th>\n",
              "      <td>2019-01-11</td>\n",
              "      <td>10.005</td>\n",
              "      <td>1.219</td>\n",
              "      <td>3.19</td>\n",
              "      <td>11.855</td>\n",
              "      <td>0.31</td>\n",
              "    </tr>\n",
              "    <tr>\n",
              "      <th>2</th>\n",
              "      <td>2019-01-11</td>\n",
              "      <td>10.005</td>\n",
              "      <td>1.219</td>\n",
              "      <td>3.194</td>\n",
              "      <td>11.852</td>\n",
              "      <td>0.31</td>\n",
              "    </tr>\n",
              "    <tr>\n",
              "      <th>3</th>\n",
              "      <td>2019-01-11</td>\n",
              "      <td>10.002</td>\n",
              "      <td>1.218</td>\n",
              "      <td>3.198</td>\n",
              "      <td>11.855</td>\n",
              "      <td>0.311</td>\n",
              "    </tr>\n",
              "    <tr>\n",
              "      <th>4</th>\n",
              "      <td>2019-01-11</td>\n",
              "      <td>10.003</td>\n",
              "      <td>1.219</td>\n",
              "      <td>3.19</td>\n",
              "      <td>11.85</td>\n",
              "      <td>0.31</td>\n",
              "    </tr>\n",
              "    <tr>\n",
              "      <th>...</th>\n",
              "      <td>...</td>\n",
              "      <td>...</td>\n",
              "      <td>...</td>\n",
              "      <td>...</td>\n",
              "      <td>...</td>\n",
              "      <td>...</td>\n",
              "    </tr>\n",
              "    <tr>\n",
              "      <th>140</th>\n",
              "      <td>2019-12-31</td>\n",
              "      <td>9.991</td>\n",
              "      <td>1.218</td>\n",
              "      <td>3.199</td>\n",
              "      <td>11.85</td>\n",
              "      <td>0.313</td>\n",
              "    </tr>\n",
              "    <tr>\n",
              "      <th>141</th>\n",
              "      <td>2019-12-31</td>\n",
              "      <td>9.999</td>\n",
              "      <td>1.218</td>\n",
              "      <td>3.204</td>\n",
              "      <td>11.849</td>\n",
              "      <td>0.314</td>\n",
              "    </tr>\n",
              "    <tr>\n",
              "      <th>142</th>\n",
              "      <td>2019-12-31</td>\n",
              "      <td>10.003</td>\n",
              "      <td>1.219</td>\n",
              "      <td>3.202</td>\n",
              "      <td>11.847</td>\n",
              "      <td>0.313</td>\n",
              "    </tr>\n",
              "    <tr>\n",
              "      <th>143</th>\n",
              "      <td>2019-12-31</td>\n",
              "      <td>10.002</td>\n",
              "      <td>1.219</td>\n",
              "      <td>3.201</td>\n",
              "      <td>11.847</td>\n",
              "      <td>0.312</td>\n",
              "    </tr>\n",
              "    <tr>\n",
              "      <th>144</th>\n",
              "      <td>2019-12-31</td>\n",
              "      <td>10.002</td>\n",
              "      <td>1.218</td>\n",
              "      <td>3.201</td>\n",
              "      <td>11.848</td>\n",
              "      <td>0.312</td>\n",
              "    </tr>\n",
              "  </tbody>\n",
              "</table>\n",
              "<p>145 rows × 6 columns</p>\n",
              "</div>"
            ],
            "text/plain": [
              "             0 Unnamed: 1 Unnamed: 2 Unnamed: 3 Unnamed: 4 Unnamed: 5\n",
              "0   2019-01-11     10.003      1.219      3.197     11.855       0.31\n",
              "1   2019-01-11     10.005      1.219       3.19     11.855       0.31\n",
              "2   2019-01-11     10.005      1.219      3.194     11.852       0.31\n",
              "3   2019-01-11     10.002      1.218      3.198     11.855      0.311\n",
              "4   2019-01-11     10.003      1.219       3.19      11.85       0.31\n",
              "..         ...        ...        ...        ...        ...        ...\n",
              "140 2019-12-31      9.991      1.218      3.199      11.85      0.313\n",
              "141 2019-12-31      9.999      1.218      3.204     11.849      0.314\n",
              "142 2019-12-31     10.003      1.219      3.202     11.847      0.313\n",
              "143 2019-12-31     10.002      1.219      3.201     11.847      0.312\n",
              "144 2019-12-31     10.002      1.218      3.201     11.848      0.312\n",
              "\n",
              "[145 rows x 6 columns]"
            ]
          },
          "metadata": {
            "tags": []
          },
          "execution_count": 21
        }
      ]
    },
    {
      "cell_type": "code",
      "metadata": {
        "id": "MZt727wVQzH1",
        "colab_type": "code",
        "colab": {
          "base_uri": "https://localhost:8080/",
          "height": 142
        },
        "outputId": "5bb64ddd-e92c-4b13-9efb-7d786d51fe9d"
      },
      "source": [
        "finaldf.reset_index(drop=True,inplace=True)\n",
        "column_name=[]\n",
        "column_name.append('Datef')\n",
        "for i in range(feature_num+1)[1:]:\n",
        "  #print(df['Unnamed: '+str(i)][7])\n",
        "  namecolumn_temp=df['Unnamed: '+str(i)][7]\n",
        "  namecolumn_temp=namecolumn_temp.replace('.','')\n",
        "  column_name.append(namecolumn_temp)\n",
        "finaldf.columns=column_name\n",
        "finaldf.sort_values(by='Datef') #sort dated , not depend on file sorting\n",
        "for name in finaldf.columns[1:]:\n",
        "  try:\n",
        "    finaldf[name]=finaldf[name].astype(float)\n",
        "  except:\n",
        "    continue\n",
        "finaldf[:3] "
      ],
      "execution_count": 22,
      "outputs": [
        {
          "output_type": "execute_result",
          "data": {
            "text/html": [
              "<div>\n",
              "<style scoped>\n",
              "    .dataframe tbody tr th:only-of-type {\n",
              "        vertical-align: middle;\n",
              "    }\n",
              "\n",
              "    .dataframe tbody tr th {\n",
              "        vertical-align: top;\n",
              "    }\n",
              "\n",
              "    .dataframe thead th {\n",
              "        text-align: right;\n",
              "    }\n",
              "</style>\n",
              "<table border=\"1\" class=\"dataframe\">\n",
              "  <thead>\n",
              "    <tr style=\"text-align: right;\">\n",
              "      <th></th>\n",
              "      <th>Datef</th>\n",
              "      <th>C-Pitch</th>\n",
              "      <th>J</th>\n",
              "      <th>I</th>\n",
              "      <th>O</th>\n",
              "      <th>Z</th>\n",
              "    </tr>\n",
              "  </thead>\n",
              "  <tbody>\n",
              "    <tr>\n",
              "      <th>0</th>\n",
              "      <td>2019-01-11</td>\n",
              "      <td>10.003</td>\n",
              "      <td>1.219</td>\n",
              "      <td>3.197</td>\n",
              "      <td>11.855</td>\n",
              "      <td>0.31</td>\n",
              "    </tr>\n",
              "    <tr>\n",
              "      <th>1</th>\n",
              "      <td>2019-01-11</td>\n",
              "      <td>10.005</td>\n",
              "      <td>1.219</td>\n",
              "      <td>3.190</td>\n",
              "      <td>11.855</td>\n",
              "      <td>0.31</td>\n",
              "    </tr>\n",
              "    <tr>\n",
              "      <th>2</th>\n",
              "      <td>2019-01-11</td>\n",
              "      <td>10.005</td>\n",
              "      <td>1.219</td>\n",
              "      <td>3.194</td>\n",
              "      <td>11.852</td>\n",
              "      <td>0.31</td>\n",
              "    </tr>\n",
              "  </tbody>\n",
              "</table>\n",
              "</div>"
            ],
            "text/plain": [
              "       Datef  C-Pitch      J      I       O     Z\n",
              "0 2019-01-11   10.003  1.219  3.197  11.855  0.31\n",
              "1 2019-01-11   10.005  1.219  3.190  11.855  0.31\n",
              "2 2019-01-11   10.005  1.219  3.194  11.852  0.31"
            ]
          },
          "metadata": {
            "tags": []
          },
          "execution_count": 22
        }
      ]
    },
    {
      "cell_type": "code",
      "metadata": {
        "id": "cudGc6fCSeCJ",
        "colab_type": "code",
        "colab": {
          "base_uri": "https://localhost:8080/",
          "height": 136
        },
        "outputId": "72262ea9-ee4d-4f78-ac69-df76bace905a"
      },
      "source": [
        "finaldf.dtypes"
      ],
      "execution_count": 23,
      "outputs": [
        {
          "output_type": "execute_result",
          "data": {
            "text/plain": [
              "Datef      datetime64[ns]\n",
              "C-Pitch           float64\n",
              "J                 float64\n",
              "I                 float64\n",
              "O                 float64\n",
              "Z                 float64\n",
              "dtype: object"
            ]
          },
          "metadata": {
            "tags": []
          },
          "execution_count": 23
        }
      ]
    },
    {
      "cell_type": "code",
      "metadata": {
        "id": "lhOneePuZJXq",
        "colab_type": "code",
        "colab": {}
      },
      "source": [
        "# How to keep pos12 available ? float64, not object"
      ],
      "execution_count": 24,
      "outputs": []
    },
    {
      "cell_type": "code",
      "metadata": {
        "id": "7f9gsVIkXDwx",
        "colab_type": "code",
        "colab": {
          "base_uri": "https://localhost:8080/",
          "height": 136
        },
        "outputId": "7010d21c-c834-4ab0-d55e-b97d1b717c54"
      },
      "source": [
        "finaldf = finaldf.select_dtypes(exclude=['object'])\n",
        "finaldf.dtypes"
      ],
      "execution_count": 25,
      "outputs": [
        {
          "output_type": "execute_result",
          "data": {
            "text/plain": [
              "Datef      datetime64[ns]\n",
              "C-Pitch           float64\n",
              "J                 float64\n",
              "I                 float64\n",
              "O                 float64\n",
              "Z                 float64\n",
              "dtype: object"
            ]
          },
          "metadata": {
            "tags": []
          },
          "execution_count": 25
        }
      ]
    },
    {
      "cell_type": "markdown",
      "metadata": {
        "id": "okA0XAlqOOas",
        "colab_type": "text"
      },
      "source": [
        "### set up tolerance dict:USL,LSL,Nominal"
      ]
    },
    {
      "cell_type": "code",
      "metadata": {
        "jupyter": {},
        "trusted": false,
        "id": "MH1E6C7gZ7my",
        "colab_type": "code",
        "colab": {
          "base_uri": "https://localhost:8080/",
          "height": 102
        },
        "outputId": "d7534c43-b57e-4cb0-d03e-e4407ae744f4"
      },
      "source": [
        "#set up tolerance dict:USL,LSL,Nominal\n",
        "#Tolerance set up when not drop object type column, not reflect exactly tolerance vs data analysis\n",
        "tolerance={}\n",
        "for column in df.columns[1:(feature_num+1)]:\n",
        "    namecolumn_temp=df[column][7] #df: dataframe latest in for loop\n",
        "    namecolumn_temp=namecolumn_temp.replace('.','')\n",
        "    tolerance[namecolumn_temp] =[df[column][9],df[column][10],df[column][15]]\n",
        "tolerance"
      ],
      "execution_count": 26,
      "outputs": [
        {
          "output_type": "execute_result",
          "data": {
            "text/plain": [
              "{'C-Pitch': [10.01, 9.99, 10],\n",
              " 'I': [3.21, 3.1900000000000004, 3.2],\n",
              " 'J': [1.22, 1.21, 1.21],\n",
              " 'O': [11.86, 11.84, 11.85],\n",
              " 'Z': [0.32, 0.27999999999999997, 0.3]}"
            ]
          },
          "metadata": {
            "tags": []
          },
          "execution_count": 26
        }
      ]
    },
    {
      "cell_type": "code",
      "metadata": {
        "jupyter": {},
        "scrolled": true,
        "trusted": false,
        "id": "BFap3Cp4Z7m4",
        "colab_type": "code",
        "colab": {
          "base_uri": "https://localhost:8080/",
          "height": 102
        },
        "outputId": "b09b7496-a9f8-43c4-b8d9-da8e345bc445"
      },
      "source": [
        "#Create list of dataframe, combine feature value and USL,LSL, Nominal\n",
        "DFdict={}\n",
        "for name in finaldf.columns[1:]:\n",
        "    print('Chart: ',name)\n",
        "        \n",
        "    #Create series USL:\n",
        "    USL = tolerance[name][0]\n",
        "    USL=pd.Series(USL)\n",
        "    s1=pd.DataFrame()\n",
        "    for i in range(len(finaldf)):\n",
        "      s1=pd.concat([s1,USL],axis=0)\n",
        "    s1.rename(columns={0:'USL'},inplace=True)\n",
        "    \n",
        "    #Create series LSL:\n",
        "    LSL = tolerance[name][1]\n",
        "    LSL=pd.Series(LSL)\n",
        "    s2=pd.DataFrame()\n",
        "    for i in range(len(finaldf)):\n",
        "      s2=pd.concat([s2,LSL],axis=0)\n",
        "    s2.rename(columns={0:'LSL'},inplace=True)\n",
        "    \n",
        "    #Create series nominal:\n",
        "    nominal = tolerance[name][2]\n",
        "    nominal=pd.Series(nominal)\n",
        "    s3=pd.DataFrame()\n",
        "    for i in range(len(finaldf)):\n",
        "      s3=pd.concat([s3,nominal],axis=0)\n",
        "    s3.rename(columns={0:'Nominal'},inplace=True)\n",
        "    \n",
        "    #combine Date,feature, LSL,USL,nominal to finaldataframe (for each feature):\n",
        "    finaldf['Datef'].reset_index(drop=True,inplace=True)\n",
        "    finaldf[name].reset_index(drop=True,inplace=True)\n",
        "    s1.reset_index(drop=True,inplace=True)\n",
        "    s2.reset_index(drop=True,inplace=True)\n",
        "    s3.reset_index(drop=True,inplace=True)\n",
        "    df_temp = pd.concat([finaldf['Datef'],finaldf[name],s1,s2,s3],axis=1)  \n",
        "\n",
        "    #Create dict of dataframe for each feature columns:\n",
        "    DFdict[name]=df_temp\n",
        "    #print(DFdict[name][:3])\n",
        "    "
      ],
      "execution_count": 27,
      "outputs": [
        {
          "output_type": "stream",
          "text": [
            "Chart:  C-Pitch\n",
            "Chart:  J\n",
            "Chart:  I\n",
            "Chart:  O\n",
            "Chart:  Z\n"
          ],
          "name": "stdout"
        }
      ]
    },
    {
      "cell_type": "code",
      "metadata": {
        "id": "wb397bvYnWuo",
        "colab_type": "code",
        "colab": {
          "base_uri": "https://localhost:8080/",
          "height": 459
        },
        "outputId": "e33eb8a4-e147-4f36-959d-7d3467fa9da1"
      },
      "source": [
        "print(DFdict.keys())\n",
        "#df=DFdict['J']\n",
        "#print(df.columns)\n",
        "for name in DFdict.keys():\n",
        "  print(name)\n",
        "  print(DFdict[name][:3])"
      ],
      "execution_count": 28,
      "outputs": [
        {
          "output_type": "stream",
          "text": [
            "dict_keys(['C-Pitch', 'J', 'I', 'O', 'Z'])\n",
            "C-Pitch\n",
            "       Datef  C-Pitch    USL   LSL  Nominal\n",
            "0 2019-01-11   10.003  10.01  9.99     10.0\n",
            "1 2019-01-11   10.005  10.01  9.99     10.0\n",
            "2 2019-01-11   10.005  10.01  9.99     10.0\n",
            "J\n",
            "       Datef      J   USL   LSL  Nominal\n",
            "0 2019-01-11  1.219  1.22  1.21     1.21\n",
            "1 2019-01-11  1.219  1.22  1.21     1.21\n",
            "2 2019-01-11  1.219  1.22  1.21     1.21\n",
            "I\n",
            "       Datef      I   USL   LSL  Nominal\n",
            "0 2019-01-11  3.197  3.21  3.19      3.2\n",
            "1 2019-01-11  3.190  3.21  3.19      3.2\n",
            "2 2019-01-11  3.194  3.21  3.19      3.2\n",
            "O\n",
            "       Datef       O    USL    LSL  Nominal\n",
            "0 2019-01-11  11.855  11.86  11.84    11.85\n",
            "1 2019-01-11  11.855  11.86  11.84    11.85\n",
            "2 2019-01-11  11.852  11.86  11.84    11.85\n",
            "Z\n",
            "       Datef     Z   USL   LSL  Nominal\n",
            "0 2019-01-11  0.31  0.32  0.28      0.3\n",
            "1 2019-01-11  0.31  0.32  0.28      0.3\n",
            "2 2019-01-11  0.31  0.32  0.28      0.3\n"
          ],
          "name": "stdout"
        }
      ]
    },
    {
      "cell_type": "markdown",
      "metadata": {
        "id": "SFfsyAvj9ksN",
        "colab_type": "text"
      },
      "source": [
        "### Combine all"
      ]
    },
    {
      "cell_type": "code",
      "metadata": {
        "id": "unDmBjX89m7f",
        "colab_type": "code",
        "colab": {
          "base_uri": "https://localhost:8080/",
          "height": 1000
        },
        "outputId": "2d101b1c-a248-4965-a798-ed40c6e071f3"
      },
      "source": [
        "import plotly.graph_objects as go\n",
        "from plotly.subplots import make_subplots\n",
        "import plotly.express as px\n",
        "import pandas as pd\n",
        "import re\n",
        "\n",
        "for name in DFdict.keys():\n",
        "  df=DFdict[name].copy()\n",
        "  df=df.sort_values(by=['Datef'])\n",
        "  for a in df.columns[1:]:\n",
        "    df[a] = df[a].round(decimals=3)\n",
        "\n",
        "  df_a=df.groupby('Datef').mean()\n",
        "  df_a.reset_index(inplace=True)\n",
        "\n",
        "  for a in df.columns[1:]:\n",
        "    df_a[a] = df_a[a].round(decimals=3)\n",
        "\n",
        "  #Layout\n",
        "  fig = make_subplots(\n",
        "      rows=1, cols=2,\n",
        "      shared_xaxes=True,\n",
        "      vertical_spacing=0.03,\n",
        "      column_widths=[0.8, 0.2],\n",
        "      subplot_titles=(\"Line and box plot \"+name, \"Histogram\")\n",
        "  )\n",
        "\n",
        "  #Control chart 1\n",
        "  fig.add_trace(go.Scatter(\n",
        "                          x=df_a['Datef'], y=df_a[name],\n",
        "                          mode='lines+markers',\n",
        "                          name='mean'\n",
        "                          ),row=1, col=1\n",
        "                )\n",
        "  fig.add_trace(go.Scatter(x=df_a['Datef'], y=df_a['USL'],name='USL'),row=1, col=1)\n",
        "  fig.add_trace(go.Scatter(x=df_a['Datef'], y=df_a['LSL'],name='LSL'),row=1, col=1)\n",
        "  fig.add_trace(go.Scatter(x=df_a['Datef'], y=df_a['Nominal'],name='Nominal'),row=1, col=1)\n",
        "\n",
        "  #Histogram 1\n",
        "  fig.add_trace(go.Histogram(\n",
        "      y=df[name],\n",
        "      #histnorm='percent',\n",
        "      name='Histogram', # name used in legend and hover labels,\n",
        "      marker_color='#EB89B5',\n",
        "      opacity=0.75,\n",
        "                ),row=1, col=2\n",
        "  )\n",
        "\n",
        "  #Final layout:\n",
        "  fig.update_layout(height=400, width=1700)\n",
        "\n",
        "  fig.show()"
      ],
      "execution_count": 30,
      "outputs": [
        {
          "output_type": "display_data",
          "data": {
            "text/html": [
              "<html>\n",
              "<head><meta charset=\"utf-8\" /></head>\n",
              "<body>\n",
              "    <div>\n",
              "            <script src=\"https://cdnjs.cloudflare.com/ajax/libs/mathjax/2.7.5/MathJax.js?config=TeX-AMS-MML_SVG\"></script><script type=\"text/javascript\">if (window.MathJax) {MathJax.Hub.Config({SVG: {font: \"STIX-Web\"}});}</script>\n",
              "                <script type=\"text/javascript\">window.PlotlyConfig = {MathJaxConfig: 'local'};</script>\n",
              "        <script src=\"https://cdn.plot.ly/plotly-latest.min.js\"></script>    \n",
              "            <div id=\"23807d75-a7d0-4f82-a837-9e1c790915fe\" class=\"plotly-graph-div\" style=\"height:400px; width:1700px;\"></div>\n",
              "            <script type=\"text/javascript\">\n",
              "                \n",
              "                    window.PLOTLYENV=window.PLOTLYENV || {};\n",
              "                    \n",
              "                if (document.getElementById(\"23807d75-a7d0-4f82-a837-9e1c790915fe\")) {\n",
              "                    Plotly.newPlot(\n",
              "                        '23807d75-a7d0-4f82-a837-9e1c790915fe',\n",
              "                        [{\"mode\": \"lines+markers\", \"name\": \"mean\", \"type\": \"scatter\", \"x\": [\"2019-01-11T00:00:00\", \"2019-01-22T00:00:00\", \"2019-01-26T00:00:00\", \"2019-01-31T00:00:00\", \"2019-02-11T00:00:00\", \"2019-02-22T00:00:00\", \"2019-02-27T00:00:00\", \"2019-03-07T00:00:00\", \"2019-03-15T00:00:00\", \"2019-04-05T00:00:00\", \"2019-04-16T00:00:00\", \"2019-05-27T00:00:00\", \"2019-06-03T00:00:00\", \"2019-06-10T00:00:00\", \"2019-06-17T00:00:00\", \"2019-06-25T00:00:00\", \"2019-06-28T00:00:00\", \"2019-08-07T00:00:00\", \"2019-08-19T00:00:00\", \"2019-08-26T00:00:00\", \"2019-09-05T00:00:00\", \"2019-10-17T00:00:00\", \"2019-11-01T00:00:00\", \"2019-11-13T00:00:00\", \"2019-12-05T00:00:00\", \"2019-12-10T00:00:00\", \"2019-12-26T00:00:00\", \"2019-12-31T00:00:00\"], \"xaxis\": \"x\", \"y\": [10.004, 10.001, 10.002, 10.003, 10.003, 10.002, 10.003, 10.002, 9.998, 10.002, 10.003, 10.004, 10.001, 10.0, 10.002, 10.001, 10.002, 10.001, 10.0, 10.001, 10.002, 10.0, 10.0, 10.002, 10.0, 10.003, 10.003, 9.999], \"yaxis\": \"y\"}, {\"name\": \"USL\", \"type\": \"scatter\", \"x\": [\"2019-01-11T00:00:00\", \"2019-01-22T00:00:00\", \"2019-01-26T00:00:00\", \"2019-01-31T00:00:00\", \"2019-02-11T00:00:00\", \"2019-02-22T00:00:00\", \"2019-02-27T00:00:00\", \"2019-03-07T00:00:00\", \"2019-03-15T00:00:00\", \"2019-04-05T00:00:00\", \"2019-04-16T00:00:00\", \"2019-05-27T00:00:00\", \"2019-06-03T00:00:00\", \"2019-06-10T00:00:00\", \"2019-06-17T00:00:00\", \"2019-06-25T00:00:00\", \"2019-06-28T00:00:00\", \"2019-08-07T00:00:00\", \"2019-08-19T00:00:00\", \"2019-08-26T00:00:00\", \"2019-09-05T00:00:00\", \"2019-10-17T00:00:00\", \"2019-11-01T00:00:00\", \"2019-11-13T00:00:00\", \"2019-12-05T00:00:00\", \"2019-12-10T00:00:00\", \"2019-12-26T00:00:00\", \"2019-12-31T00:00:00\"], \"xaxis\": \"x\", \"y\": [10.01, 10.01, 10.01, 10.01, 10.01, 10.01, 10.01, 10.01, 10.01, 10.01, 10.01, 10.01, 10.01, 10.01, 10.01, 10.01, 10.01, 10.01, 10.01, 10.01, 10.01, 10.01, 10.01, 10.01, 10.01, 10.01, 10.01, 10.01], \"yaxis\": \"y\"}, {\"name\": \"LSL\", \"type\": \"scatter\", \"x\": [\"2019-01-11T00:00:00\", \"2019-01-22T00:00:00\", \"2019-01-26T00:00:00\", \"2019-01-31T00:00:00\", \"2019-02-11T00:00:00\", \"2019-02-22T00:00:00\", \"2019-02-27T00:00:00\", \"2019-03-07T00:00:00\", \"2019-03-15T00:00:00\", \"2019-04-05T00:00:00\", \"2019-04-16T00:00:00\", \"2019-05-27T00:00:00\", \"2019-06-03T00:00:00\", \"2019-06-10T00:00:00\", \"2019-06-17T00:00:00\", \"2019-06-25T00:00:00\", \"2019-06-28T00:00:00\", \"2019-08-07T00:00:00\", \"2019-08-19T00:00:00\", \"2019-08-26T00:00:00\", \"2019-09-05T00:00:00\", \"2019-10-17T00:00:00\", \"2019-11-01T00:00:00\", \"2019-11-13T00:00:00\", \"2019-12-05T00:00:00\", \"2019-12-10T00:00:00\", \"2019-12-26T00:00:00\", \"2019-12-31T00:00:00\"], \"xaxis\": \"x\", \"y\": [9.99, 9.99, 9.99, 9.99, 9.99, 9.99, 9.99, 9.99, 9.99, 9.99, 9.99, 9.99, 9.99, 9.99, 9.99, 9.99, 9.99, 9.99, 9.99, 9.99, 9.99, 9.99, 9.99, 9.99, 9.99, 9.99, 9.99, 9.99], \"yaxis\": \"y\"}, {\"name\": \"Nominal\", \"type\": \"scatter\", \"x\": [\"2019-01-11T00:00:00\", \"2019-01-22T00:00:00\", \"2019-01-26T00:00:00\", \"2019-01-31T00:00:00\", \"2019-02-11T00:00:00\", \"2019-02-22T00:00:00\", \"2019-02-27T00:00:00\", \"2019-03-07T00:00:00\", \"2019-03-15T00:00:00\", \"2019-04-05T00:00:00\", \"2019-04-16T00:00:00\", \"2019-05-27T00:00:00\", \"2019-06-03T00:00:00\", \"2019-06-10T00:00:00\", \"2019-06-17T00:00:00\", \"2019-06-25T00:00:00\", \"2019-06-28T00:00:00\", \"2019-08-07T00:00:00\", \"2019-08-19T00:00:00\", \"2019-08-26T00:00:00\", \"2019-09-05T00:00:00\", \"2019-10-17T00:00:00\", \"2019-11-01T00:00:00\", \"2019-11-13T00:00:00\", \"2019-12-05T00:00:00\", \"2019-12-10T00:00:00\", \"2019-12-26T00:00:00\", \"2019-12-31T00:00:00\"], \"xaxis\": \"x\", \"y\": [10.0, 10.0, 10.0, 10.0, 10.0, 10.0, 10.0, 10.0, 10.0, 10.0, 10.0, 10.0, 10.0, 10.0, 10.0, 10.0, 10.0, 10.0, 10.0, 10.0, 10.0, 10.0, 10.0, 10.0, 10.0, 10.0, 10.0, 10.0], \"yaxis\": \"y\"}, {\"marker\": {\"color\": \"#EB89B5\"}, \"name\": \"Histogram\", \"opacity\": 0.75, \"type\": \"histogram\", \"xaxis\": \"x2\", \"y\": [10.003, 10.005, 10.005, 10.002, 10.003, 9.998, 10.005, 10.003, 10.002, 9.996, 10.005, 9.995, 10.003, 9.997, 10.009, 10.005, 9.997, 10.008, 9.997, 10.009, 10.005, 10.003, 10.004, 9.998, 10.005, 9.999, 9.999, 10.008, 10.01, 9.995, 10.009, 9.999, 10.005, 9.996, 10.006, 10.002, 10.002, 10.001, 10.002, 10.001, 9.996, 10.004, 9.991, 10.0, 10.0, 9.998, 9.999, 10.004, 10.002, 10.009, 10.005, 9.997, 10.008, 10.005, 10.005, 10.007, 10.005, 9.993, 10.004, 10.003, 10.004, 9.998, 10.01, 9.999, 10.007, 10.005, 10.001, 10.001, 9.998, 10.001, 10.004, 10.001, 9.998, 9.999, 9.997, 9.999, 10.003, 10.004, 9.998, 10.004, 10.004, 9.999, 9.993, 10.005, 10.003, 10.005, 10.001, 10.01, 9.994, 10.0, 10.001, 10.002, 10.004, 10.001, 9.998, 10.003, 10.0, 10.003, 9.993, 10.002, 10.002, 10.002, 9.998, 10.003, 10.001, 10.002, 10.0, 10.004, 10.002, 10.0, 10.002, 9.998, 10.001, 10.003, 9.996, 9.998, 10.007, 10.003, 9.993, 9.999, 10.007, 9.999, 10.001, 9.998, 10.005, 9.997, 10.001, 10.001, 10.004, 9.998, 10.002, 10.009, 10.001, 10.001, 10.003, 10.006, 10.003, 10.001, 10.004, 10.002, 10.003, 10.002, 9.991, 9.999, 10.002], \"yaxis\": \"y2\"}],\n",
              "                        {\"annotations\": [{\"font\": {\"size\": 16}, \"showarrow\": false, \"text\": \"Line and box plot C-Pitch\", \"x\": 0.36000000000000004, \"xanchor\": \"center\", \"xref\": \"paper\", \"y\": 1.0, \"yanchor\": \"bottom\", \"yref\": \"paper\"}, {\"font\": {\"size\": 16}, \"showarrow\": false, \"text\": \"Histogram\", \"x\": 0.91, \"xanchor\": \"center\", \"xref\": \"paper\", \"y\": 1.0, \"yanchor\": \"bottom\", \"yref\": \"paper\"}], \"height\": 400, \"template\": {\"data\": {\"bar\": [{\"error_x\": {\"color\": \"#2a3f5f\"}, \"error_y\": {\"color\": \"#2a3f5f\"}, \"marker\": {\"line\": {\"color\": \"#E5ECF6\", \"width\": 0.5}}, \"type\": \"bar\"}], \"barpolar\": [{\"marker\": {\"line\": {\"color\": \"#E5ECF6\", \"width\": 0.5}}, \"type\": \"barpolar\"}], \"carpet\": [{\"aaxis\": {\"endlinecolor\": \"#2a3f5f\", \"gridcolor\": \"white\", \"linecolor\": \"white\", \"minorgridcolor\": \"white\", \"startlinecolor\": \"#2a3f5f\"}, \"baxis\": {\"endlinecolor\": \"#2a3f5f\", \"gridcolor\": \"white\", \"linecolor\": \"white\", \"minorgridcolor\": \"white\", \"startlinecolor\": \"#2a3f5f\"}, \"type\": \"carpet\"}], \"choropleth\": [{\"colorbar\": {\"outlinewidth\": 0, \"ticks\": \"\"}, \"type\": \"choropleth\"}], \"contour\": [{\"colorbar\": {\"outlinewidth\": 0, \"ticks\": \"\"}, \"colorscale\": [[0.0, \"#0d0887\"], [0.1111111111111111, \"#46039f\"], [0.2222222222222222, \"#7201a8\"], [0.3333333333333333, \"#9c179e\"], [0.4444444444444444, \"#bd3786\"], [0.5555555555555556, \"#d8576b\"], [0.6666666666666666, \"#ed7953\"], [0.7777777777777778, \"#fb9f3a\"], [0.8888888888888888, \"#fdca26\"], [1.0, \"#f0f921\"]], \"type\": \"contour\"}], \"contourcarpet\": [{\"colorbar\": {\"outlinewidth\": 0, \"ticks\": \"\"}, \"type\": \"contourcarpet\"}], \"heatmap\": [{\"colorbar\": {\"outlinewidth\": 0, \"ticks\": \"\"}, \"colorscale\": [[0.0, \"#0d0887\"], [0.1111111111111111, \"#46039f\"], [0.2222222222222222, \"#7201a8\"], [0.3333333333333333, \"#9c179e\"], [0.4444444444444444, \"#bd3786\"], [0.5555555555555556, \"#d8576b\"], [0.6666666666666666, \"#ed7953\"], [0.7777777777777778, \"#fb9f3a\"], [0.8888888888888888, \"#fdca26\"], [1.0, \"#f0f921\"]], \"type\": \"heatmap\"}], \"heatmapgl\": [{\"colorbar\": {\"outlinewidth\": 0, \"ticks\": \"\"}, \"colorscale\": [[0.0, \"#0d0887\"], [0.1111111111111111, \"#46039f\"], [0.2222222222222222, \"#7201a8\"], [0.3333333333333333, \"#9c179e\"], [0.4444444444444444, \"#bd3786\"], [0.5555555555555556, \"#d8576b\"], [0.6666666666666666, \"#ed7953\"], [0.7777777777777778, \"#fb9f3a\"], [0.8888888888888888, \"#fdca26\"], [1.0, \"#f0f921\"]], \"type\": \"heatmapgl\"}], \"histogram\": [{\"marker\": {\"colorbar\": {\"outlinewidth\": 0, \"ticks\": \"\"}}, \"type\": \"histogram\"}], \"histogram2d\": [{\"colorbar\": {\"outlinewidth\": 0, \"ticks\": \"\"}, \"colorscale\": [[0.0, \"#0d0887\"], [0.1111111111111111, \"#46039f\"], [0.2222222222222222, \"#7201a8\"], [0.3333333333333333, \"#9c179e\"], [0.4444444444444444, \"#bd3786\"], [0.5555555555555556, \"#d8576b\"], [0.6666666666666666, \"#ed7953\"], [0.7777777777777778, \"#fb9f3a\"], [0.8888888888888888, \"#fdca26\"], [1.0, \"#f0f921\"]], \"type\": \"histogram2d\"}], \"histogram2dcontour\": [{\"colorbar\": {\"outlinewidth\": 0, \"ticks\": \"\"}, \"colorscale\": [[0.0, \"#0d0887\"], [0.1111111111111111, \"#46039f\"], [0.2222222222222222, \"#7201a8\"], [0.3333333333333333, \"#9c179e\"], [0.4444444444444444, \"#bd3786\"], [0.5555555555555556, \"#d8576b\"], [0.6666666666666666, \"#ed7953\"], [0.7777777777777778, \"#fb9f3a\"], [0.8888888888888888, \"#fdca26\"], [1.0, \"#f0f921\"]], \"type\": \"histogram2dcontour\"}], \"mesh3d\": [{\"colorbar\": {\"outlinewidth\": 0, \"ticks\": \"\"}, \"type\": \"mesh3d\"}], \"parcoords\": [{\"line\": {\"colorbar\": {\"outlinewidth\": 0, \"ticks\": \"\"}}, \"type\": \"parcoords\"}], \"pie\": [{\"automargin\": true, \"type\": \"pie\"}], \"scatter\": [{\"marker\": {\"colorbar\": {\"outlinewidth\": 0, \"ticks\": \"\"}}, \"type\": \"scatter\"}], \"scatter3d\": [{\"line\": {\"colorbar\": {\"outlinewidth\": 0, \"ticks\": \"\"}}, \"marker\": {\"colorbar\": {\"outlinewidth\": 0, \"ticks\": \"\"}}, \"type\": \"scatter3d\"}], \"scattercarpet\": [{\"marker\": {\"colorbar\": {\"outlinewidth\": 0, \"ticks\": \"\"}}, \"type\": \"scattercarpet\"}], \"scattergeo\": [{\"marker\": {\"colorbar\": {\"outlinewidth\": 0, \"ticks\": \"\"}}, \"type\": \"scattergeo\"}], \"scattergl\": [{\"marker\": {\"colorbar\": {\"outlinewidth\": 0, \"ticks\": \"\"}}, \"type\": \"scattergl\"}], \"scattermapbox\": [{\"marker\": {\"colorbar\": {\"outlinewidth\": 0, \"ticks\": \"\"}}, \"type\": \"scattermapbox\"}], \"scatterpolar\": [{\"marker\": {\"colorbar\": {\"outlinewidth\": 0, \"ticks\": \"\"}}, \"type\": \"scatterpolar\"}], \"scatterpolargl\": [{\"marker\": {\"colorbar\": {\"outlinewidth\": 0, \"ticks\": \"\"}}, \"type\": \"scatterpolargl\"}], \"scatterternary\": [{\"marker\": {\"colorbar\": {\"outlinewidth\": 0, \"ticks\": \"\"}}, \"type\": \"scatterternary\"}], \"surface\": [{\"colorbar\": {\"outlinewidth\": 0, \"ticks\": \"\"}, \"colorscale\": [[0.0, \"#0d0887\"], [0.1111111111111111, \"#46039f\"], [0.2222222222222222, \"#7201a8\"], [0.3333333333333333, \"#9c179e\"], [0.4444444444444444, \"#bd3786\"], [0.5555555555555556, \"#d8576b\"], [0.6666666666666666, \"#ed7953\"], [0.7777777777777778, \"#fb9f3a\"], [0.8888888888888888, \"#fdca26\"], [1.0, \"#f0f921\"]], \"type\": \"surface\"}], \"table\": [{\"cells\": {\"fill\": {\"color\": \"#EBF0F8\"}, \"line\": {\"color\": \"white\"}}, \"header\": {\"fill\": {\"color\": \"#C8D4E3\"}, \"line\": {\"color\": \"white\"}}, \"type\": \"table\"}]}, \"layout\": {\"annotationdefaults\": {\"arrowcolor\": \"#2a3f5f\", \"arrowhead\": 0, \"arrowwidth\": 1}, \"coloraxis\": {\"colorbar\": {\"outlinewidth\": 0, \"ticks\": \"\"}}, \"colorscale\": {\"diverging\": [[0, \"#8e0152\"], [0.1, \"#c51b7d\"], [0.2, \"#de77ae\"], [0.3, \"#f1b6da\"], [0.4, \"#fde0ef\"], [0.5, \"#f7f7f7\"], [0.6, \"#e6f5d0\"], [0.7, \"#b8e186\"], [0.8, \"#7fbc41\"], [0.9, \"#4d9221\"], [1, \"#276419\"]], \"sequential\": [[0.0, \"#0d0887\"], [0.1111111111111111, \"#46039f\"], [0.2222222222222222, \"#7201a8\"], [0.3333333333333333, \"#9c179e\"], [0.4444444444444444, \"#bd3786\"], [0.5555555555555556, \"#d8576b\"], [0.6666666666666666, \"#ed7953\"], [0.7777777777777778, \"#fb9f3a\"], [0.8888888888888888, \"#fdca26\"], [1.0, \"#f0f921\"]], \"sequentialminus\": [[0.0, \"#0d0887\"], [0.1111111111111111, \"#46039f\"], [0.2222222222222222, \"#7201a8\"], [0.3333333333333333, \"#9c179e\"], [0.4444444444444444, \"#bd3786\"], [0.5555555555555556, \"#d8576b\"], [0.6666666666666666, \"#ed7953\"], [0.7777777777777778, \"#fb9f3a\"], [0.8888888888888888, \"#fdca26\"], [1.0, \"#f0f921\"]]}, \"colorway\": [\"#636efa\", \"#EF553B\", \"#00cc96\", \"#ab63fa\", \"#FFA15A\", \"#19d3f3\", \"#FF6692\", \"#B6E880\", \"#FF97FF\", \"#FECB52\"], \"font\": {\"color\": \"#2a3f5f\"}, \"geo\": {\"bgcolor\": \"white\", \"lakecolor\": \"white\", \"landcolor\": \"#E5ECF6\", \"showlakes\": true, \"showland\": true, \"subunitcolor\": \"white\"}, \"hoverlabel\": {\"align\": \"left\"}, \"hovermode\": \"closest\", \"mapbox\": {\"style\": \"light\"}, \"paper_bgcolor\": \"white\", \"plot_bgcolor\": \"#E5ECF6\", \"polar\": {\"angularaxis\": {\"gridcolor\": \"white\", \"linecolor\": \"white\", \"ticks\": \"\"}, \"bgcolor\": \"#E5ECF6\", \"radialaxis\": {\"gridcolor\": \"white\", \"linecolor\": \"white\", \"ticks\": \"\"}}, \"scene\": {\"xaxis\": {\"backgroundcolor\": \"#E5ECF6\", \"gridcolor\": \"white\", \"gridwidth\": 2, \"linecolor\": \"white\", \"showbackground\": true, \"ticks\": \"\", \"zerolinecolor\": \"white\"}, \"yaxis\": {\"backgroundcolor\": \"#E5ECF6\", \"gridcolor\": \"white\", \"gridwidth\": 2, \"linecolor\": \"white\", \"showbackground\": true, \"ticks\": \"\", \"zerolinecolor\": \"white\"}, \"zaxis\": {\"backgroundcolor\": \"#E5ECF6\", \"gridcolor\": \"white\", \"gridwidth\": 2, \"linecolor\": \"white\", \"showbackground\": true, \"ticks\": \"\", \"zerolinecolor\": \"white\"}}, \"shapedefaults\": {\"line\": {\"color\": \"#2a3f5f\"}}, \"ternary\": {\"aaxis\": {\"gridcolor\": \"white\", \"linecolor\": \"white\", \"ticks\": \"\"}, \"baxis\": {\"gridcolor\": \"white\", \"linecolor\": \"white\", \"ticks\": \"\"}, \"bgcolor\": \"#E5ECF6\", \"caxis\": {\"gridcolor\": \"white\", \"linecolor\": \"white\", \"ticks\": \"\"}}, \"title\": {\"x\": 0.05}, \"xaxis\": {\"automargin\": true, \"gridcolor\": \"white\", \"linecolor\": \"white\", \"ticks\": \"\", \"title\": {\"standoff\": 15}, \"zerolinecolor\": \"white\", \"zerolinewidth\": 2}, \"yaxis\": {\"automargin\": true, \"gridcolor\": \"white\", \"linecolor\": \"white\", \"ticks\": \"\", \"title\": {\"standoff\": 15}, \"zerolinecolor\": \"white\", \"zerolinewidth\": 2}}}, \"width\": 1700, \"xaxis\": {\"anchor\": \"y\", \"domain\": [0.0, 0.7200000000000001]}, \"xaxis2\": {\"anchor\": \"y2\", \"domain\": [0.8200000000000001, 1.0]}, \"yaxis\": {\"anchor\": \"x\", \"domain\": [0.0, 1.0]}, \"yaxis2\": {\"anchor\": \"x2\", \"domain\": [0.0, 1.0]}},\n",
              "                        {\"responsive\": true}\n",
              "                    ).then(function(){\n",
              "                            \n",
              "var gd = document.getElementById('23807d75-a7d0-4f82-a837-9e1c790915fe');\n",
              "var x = new MutationObserver(function (mutations, observer) {{\n",
              "        var display = window.getComputedStyle(gd).display;\n",
              "        if (!display || display === 'none') {{\n",
              "            console.log([gd, 'removed!']);\n",
              "            Plotly.purge(gd);\n",
              "            observer.disconnect();\n",
              "        }}\n",
              "}});\n",
              "\n",
              "// Listen for the removal of the full notebook cells\n",
              "var notebookContainer = gd.closest('#notebook-container');\n",
              "if (notebookContainer) {{\n",
              "    x.observe(notebookContainer, {childList: true});\n",
              "}}\n",
              "\n",
              "// Listen for the clearing of the current output cell\n",
              "var outputEl = gd.closest('.output');\n",
              "if (outputEl) {{\n",
              "    x.observe(outputEl, {childList: true});\n",
              "}}\n",
              "\n",
              "                        })\n",
              "                };\n",
              "                \n",
              "            </script>\n",
              "        </div>\n",
              "</body>\n",
              "</html>"
            ]
          },
          "metadata": {
            "tags": []
          }
        },
        {
          "output_type": "display_data",
          "data": {
            "text/html": [
              "<html>\n",
              "<head><meta charset=\"utf-8\" /></head>\n",
              "<body>\n",
              "    <div>\n",
              "            <script src=\"https://cdnjs.cloudflare.com/ajax/libs/mathjax/2.7.5/MathJax.js?config=TeX-AMS-MML_SVG\"></script><script type=\"text/javascript\">if (window.MathJax) {MathJax.Hub.Config({SVG: {font: \"STIX-Web\"}});}</script>\n",
              "                <script type=\"text/javascript\">window.PlotlyConfig = {MathJaxConfig: 'local'};</script>\n",
              "        <script src=\"https://cdn.plot.ly/plotly-latest.min.js\"></script>    \n",
              "            <div id=\"6cecd1d7-4d5a-43a7-bb85-c8a001c1645b\" class=\"plotly-graph-div\" style=\"height:400px; width:1700px;\"></div>\n",
              "            <script type=\"text/javascript\">\n",
              "                \n",
              "                    window.PLOTLYENV=window.PLOTLYENV || {};\n",
              "                    \n",
              "                if (document.getElementById(\"6cecd1d7-4d5a-43a7-bb85-c8a001c1645b\")) {\n",
              "                    Plotly.newPlot(\n",
              "                        '6cecd1d7-4d5a-43a7-bb85-c8a001c1645b',\n",
              "                        [{\"mode\": \"lines+markers\", \"name\": \"mean\", \"type\": \"scatter\", \"x\": [\"2019-01-11T00:00:00\", \"2019-01-22T00:00:00\", \"2019-01-26T00:00:00\", \"2019-01-31T00:00:00\", \"2019-02-11T00:00:00\", \"2019-02-22T00:00:00\", \"2019-02-27T00:00:00\", \"2019-03-07T00:00:00\", \"2019-03-15T00:00:00\", \"2019-04-05T00:00:00\", \"2019-04-16T00:00:00\", \"2019-05-27T00:00:00\", \"2019-06-03T00:00:00\", \"2019-06-10T00:00:00\", \"2019-06-17T00:00:00\", \"2019-06-25T00:00:00\", \"2019-06-28T00:00:00\", \"2019-08-07T00:00:00\", \"2019-08-19T00:00:00\", \"2019-08-26T00:00:00\", \"2019-09-05T00:00:00\", \"2019-10-17T00:00:00\", \"2019-11-01T00:00:00\", \"2019-11-13T00:00:00\", \"2019-12-05T00:00:00\", \"2019-12-10T00:00:00\", \"2019-12-26T00:00:00\", \"2019-12-31T00:00:00\"], \"xaxis\": \"x\", \"y\": [1.219, 1.219, 1.22, 1.22, 1.22, 1.22, 1.22, 1.22, 1.219, 1.22, 1.22, 1.22, 1.22, 1.22, 1.218, 1.219, 1.218, 1.217, 1.217, 1.219, 1.218, 1.22, 1.22, 1.219, 1.219, 1.22, 1.219, 1.218], \"yaxis\": \"y\"}, {\"name\": \"USL\", \"type\": \"scatter\", \"x\": [\"2019-01-11T00:00:00\", \"2019-01-22T00:00:00\", \"2019-01-26T00:00:00\", \"2019-01-31T00:00:00\", \"2019-02-11T00:00:00\", \"2019-02-22T00:00:00\", \"2019-02-27T00:00:00\", \"2019-03-07T00:00:00\", \"2019-03-15T00:00:00\", \"2019-04-05T00:00:00\", \"2019-04-16T00:00:00\", \"2019-05-27T00:00:00\", \"2019-06-03T00:00:00\", \"2019-06-10T00:00:00\", \"2019-06-17T00:00:00\", \"2019-06-25T00:00:00\", \"2019-06-28T00:00:00\", \"2019-08-07T00:00:00\", \"2019-08-19T00:00:00\", \"2019-08-26T00:00:00\", \"2019-09-05T00:00:00\", \"2019-10-17T00:00:00\", \"2019-11-01T00:00:00\", \"2019-11-13T00:00:00\", \"2019-12-05T00:00:00\", \"2019-12-10T00:00:00\", \"2019-12-26T00:00:00\", \"2019-12-31T00:00:00\"], \"xaxis\": \"x\", \"y\": [1.22, 1.22, 1.22, 1.22, 1.22, 1.22, 1.22, 1.22, 1.22, 1.22, 1.22, 1.22, 1.22, 1.22, 1.22, 1.22, 1.22, 1.22, 1.22, 1.22, 1.22, 1.22, 1.22, 1.22, 1.22, 1.22, 1.22, 1.22], \"yaxis\": \"y\"}, {\"name\": \"LSL\", \"type\": \"scatter\", \"x\": [\"2019-01-11T00:00:00\", \"2019-01-22T00:00:00\", \"2019-01-26T00:00:00\", \"2019-01-31T00:00:00\", \"2019-02-11T00:00:00\", \"2019-02-22T00:00:00\", \"2019-02-27T00:00:00\", \"2019-03-07T00:00:00\", \"2019-03-15T00:00:00\", \"2019-04-05T00:00:00\", \"2019-04-16T00:00:00\", \"2019-05-27T00:00:00\", \"2019-06-03T00:00:00\", \"2019-06-10T00:00:00\", \"2019-06-17T00:00:00\", \"2019-06-25T00:00:00\", \"2019-06-28T00:00:00\", \"2019-08-07T00:00:00\", \"2019-08-19T00:00:00\", \"2019-08-26T00:00:00\", \"2019-09-05T00:00:00\", \"2019-10-17T00:00:00\", \"2019-11-01T00:00:00\", \"2019-11-13T00:00:00\", \"2019-12-05T00:00:00\", \"2019-12-10T00:00:00\", \"2019-12-26T00:00:00\", \"2019-12-31T00:00:00\"], \"xaxis\": \"x\", \"y\": [1.21, 1.21, 1.21, 1.21, 1.21, 1.21, 1.21, 1.21, 1.21, 1.21, 1.21, 1.21, 1.21, 1.21, 1.21, 1.21, 1.21, 1.21, 1.21, 1.21, 1.21, 1.21, 1.21, 1.21, 1.21, 1.21, 1.21, 1.21], \"yaxis\": \"y\"}, {\"name\": \"Nominal\", \"type\": \"scatter\", \"x\": [\"2019-01-11T00:00:00\", \"2019-01-22T00:00:00\", \"2019-01-26T00:00:00\", \"2019-01-31T00:00:00\", \"2019-02-11T00:00:00\", \"2019-02-22T00:00:00\", \"2019-02-27T00:00:00\", \"2019-03-07T00:00:00\", \"2019-03-15T00:00:00\", \"2019-04-05T00:00:00\", \"2019-04-16T00:00:00\", \"2019-05-27T00:00:00\", \"2019-06-03T00:00:00\", \"2019-06-10T00:00:00\", \"2019-06-17T00:00:00\", \"2019-06-25T00:00:00\", \"2019-06-28T00:00:00\", \"2019-08-07T00:00:00\", \"2019-08-19T00:00:00\", \"2019-08-26T00:00:00\", \"2019-09-05T00:00:00\", \"2019-10-17T00:00:00\", \"2019-11-01T00:00:00\", \"2019-11-13T00:00:00\", \"2019-12-05T00:00:00\", \"2019-12-10T00:00:00\", \"2019-12-26T00:00:00\", \"2019-12-31T00:00:00\"], \"xaxis\": \"x\", \"y\": [1.21, 1.21, 1.21, 1.21, 1.21, 1.21, 1.21, 1.21, 1.21, 1.21, 1.21, 1.21, 1.21, 1.21, 1.21, 1.21, 1.21, 1.21, 1.21, 1.21, 1.21, 1.21, 1.21, 1.21, 1.21, 1.21, 1.21, 1.21], \"yaxis\": \"y\"}, {\"marker\": {\"color\": \"#EB89B5\"}, \"name\": \"Histogram\", \"opacity\": 0.75, \"type\": \"histogram\", \"xaxis\": \"x2\", \"y\": [1.219, 1.219, 1.219, 1.218, 1.219, 1.22, 1.22, 1.22, 1.218, 1.218, 1.22, 1.22, 1.22, 1.22, 1.22, 1.22, 1.22, 1.22, 1.22, 1.22, 1.22, 1.22, 1.22, 1.22, 1.22, 1.22, 1.22, 1.22, 1.219, 1.22, 1.22, 1.22, 1.22, 1.22, 1.22, 1.22, 1.22, 1.22, 1.22, 1.22, 1.219, 1.219, 1.219, 1.218, 1.22, 1.219, 1.22, 1.22, 1.22, 1.22, 1.22, 1.22, 1.22, 1.22, 1.22, 1.219, 1.219, 1.22, 1.219, 1.22, 1.219, 1.22, 1.22, 1.22, 1.219, 1.22, 1.22, 1.22, 1.22, 1.218, 1.22, 1.22, 1.22, 1.22, 1.22, 1.219, 1.217, 1.219, 1.218, 1.219, 1.219, 1.219, 1.219, 1.219, 1.219, 1.218, 1.216, 1.219, 1.218, 1.218, 1.218, 1.217, 1.217, 1.217, 1.218, 1.217, 1.218, 1.217, 1.217, 1.217, 1.219, 1.218, 1.219, 1.219, 1.219, 1.218, 1.218, 1.218, 1.218, 1.216, 1.22, 1.22, 1.22, 1.22, 1.22, 1.22, 1.22, 1.22, 1.22, 1.22, 1.219, 1.219, 1.219, 1.219, 1.219, 1.219, 1.22, 1.219, 1.22, 1.219, 1.22, 1.22, 1.22, 1.219, 1.22, 1.219, 1.22, 1.219, 1.218, 1.22, 1.219, 1.219, 1.218, 1.218, 1.218], \"yaxis\": \"y2\"}],\n",
              "                        {\"annotations\": [{\"font\": {\"size\": 16}, \"showarrow\": false, \"text\": \"Line and box plot J\", \"x\": 0.36000000000000004, \"xanchor\": \"center\", \"xref\": \"paper\", \"y\": 1.0, \"yanchor\": \"bottom\", \"yref\": \"paper\"}, {\"font\": {\"size\": 16}, \"showarrow\": false, \"text\": \"Histogram\", \"x\": 0.91, \"xanchor\": \"center\", \"xref\": \"paper\", \"y\": 1.0, \"yanchor\": \"bottom\", \"yref\": \"paper\"}], \"height\": 400, \"template\": {\"data\": {\"bar\": [{\"error_x\": {\"color\": \"#2a3f5f\"}, \"error_y\": {\"color\": \"#2a3f5f\"}, \"marker\": {\"line\": {\"color\": \"#E5ECF6\", \"width\": 0.5}}, \"type\": \"bar\"}], \"barpolar\": [{\"marker\": {\"line\": {\"color\": \"#E5ECF6\", \"width\": 0.5}}, \"type\": \"barpolar\"}], \"carpet\": [{\"aaxis\": {\"endlinecolor\": \"#2a3f5f\", \"gridcolor\": \"white\", \"linecolor\": \"white\", \"minorgridcolor\": \"white\", \"startlinecolor\": \"#2a3f5f\"}, \"baxis\": {\"endlinecolor\": \"#2a3f5f\", \"gridcolor\": \"white\", \"linecolor\": \"white\", \"minorgridcolor\": \"white\", \"startlinecolor\": \"#2a3f5f\"}, \"type\": \"carpet\"}], \"choropleth\": [{\"colorbar\": {\"outlinewidth\": 0, \"ticks\": \"\"}, \"type\": \"choropleth\"}], \"contour\": [{\"colorbar\": {\"outlinewidth\": 0, \"ticks\": \"\"}, \"colorscale\": [[0.0, \"#0d0887\"], [0.1111111111111111, \"#46039f\"], [0.2222222222222222, \"#7201a8\"], [0.3333333333333333, \"#9c179e\"], [0.4444444444444444, \"#bd3786\"], [0.5555555555555556, \"#d8576b\"], [0.6666666666666666, \"#ed7953\"], [0.7777777777777778, \"#fb9f3a\"], [0.8888888888888888, \"#fdca26\"], [1.0, \"#f0f921\"]], \"type\": \"contour\"}], \"contourcarpet\": [{\"colorbar\": {\"outlinewidth\": 0, \"ticks\": \"\"}, \"type\": \"contourcarpet\"}], \"heatmap\": [{\"colorbar\": {\"outlinewidth\": 0, \"ticks\": \"\"}, \"colorscale\": [[0.0, \"#0d0887\"], [0.1111111111111111, \"#46039f\"], [0.2222222222222222, \"#7201a8\"], [0.3333333333333333, \"#9c179e\"], [0.4444444444444444, \"#bd3786\"], [0.5555555555555556, \"#d8576b\"], [0.6666666666666666, \"#ed7953\"], [0.7777777777777778, \"#fb9f3a\"], [0.8888888888888888, \"#fdca26\"], [1.0, \"#f0f921\"]], \"type\": \"heatmap\"}], \"heatmapgl\": [{\"colorbar\": {\"outlinewidth\": 0, \"ticks\": \"\"}, \"colorscale\": [[0.0, \"#0d0887\"], [0.1111111111111111, \"#46039f\"], [0.2222222222222222, \"#7201a8\"], [0.3333333333333333, \"#9c179e\"], [0.4444444444444444, \"#bd3786\"], [0.5555555555555556, \"#d8576b\"], [0.6666666666666666, \"#ed7953\"], [0.7777777777777778, \"#fb9f3a\"], [0.8888888888888888, \"#fdca26\"], [1.0, \"#f0f921\"]], \"type\": \"heatmapgl\"}], \"histogram\": [{\"marker\": {\"colorbar\": {\"outlinewidth\": 0, \"ticks\": \"\"}}, \"type\": \"histogram\"}], \"histogram2d\": [{\"colorbar\": {\"outlinewidth\": 0, \"ticks\": \"\"}, \"colorscale\": [[0.0, \"#0d0887\"], [0.1111111111111111, \"#46039f\"], [0.2222222222222222, \"#7201a8\"], [0.3333333333333333, \"#9c179e\"], [0.4444444444444444, \"#bd3786\"], [0.5555555555555556, \"#d8576b\"], [0.6666666666666666, \"#ed7953\"], [0.7777777777777778, \"#fb9f3a\"], [0.8888888888888888, \"#fdca26\"], [1.0, \"#f0f921\"]], \"type\": \"histogram2d\"}], \"histogram2dcontour\": [{\"colorbar\": {\"outlinewidth\": 0, \"ticks\": \"\"}, \"colorscale\": [[0.0, \"#0d0887\"], [0.1111111111111111, \"#46039f\"], [0.2222222222222222, \"#7201a8\"], [0.3333333333333333, \"#9c179e\"], [0.4444444444444444, \"#bd3786\"], [0.5555555555555556, \"#d8576b\"], [0.6666666666666666, \"#ed7953\"], [0.7777777777777778, \"#fb9f3a\"], [0.8888888888888888, \"#fdca26\"], [1.0, \"#f0f921\"]], \"type\": \"histogram2dcontour\"}], \"mesh3d\": [{\"colorbar\": {\"outlinewidth\": 0, \"ticks\": \"\"}, \"type\": \"mesh3d\"}], \"parcoords\": [{\"line\": {\"colorbar\": {\"outlinewidth\": 0, \"ticks\": \"\"}}, \"type\": \"parcoords\"}], \"pie\": [{\"automargin\": true, \"type\": \"pie\"}], \"scatter\": [{\"marker\": {\"colorbar\": {\"outlinewidth\": 0, \"ticks\": \"\"}}, \"type\": \"scatter\"}], \"scatter3d\": [{\"line\": {\"colorbar\": {\"outlinewidth\": 0, \"ticks\": \"\"}}, \"marker\": {\"colorbar\": {\"outlinewidth\": 0, \"ticks\": \"\"}}, \"type\": \"scatter3d\"}], \"scattercarpet\": [{\"marker\": {\"colorbar\": {\"outlinewidth\": 0, \"ticks\": \"\"}}, \"type\": \"scattercarpet\"}], \"scattergeo\": [{\"marker\": {\"colorbar\": {\"outlinewidth\": 0, \"ticks\": \"\"}}, \"type\": \"scattergeo\"}], \"scattergl\": [{\"marker\": {\"colorbar\": {\"outlinewidth\": 0, \"ticks\": \"\"}}, \"type\": \"scattergl\"}], \"scattermapbox\": [{\"marker\": {\"colorbar\": {\"outlinewidth\": 0, \"ticks\": \"\"}}, \"type\": \"scattermapbox\"}], \"scatterpolar\": [{\"marker\": {\"colorbar\": {\"outlinewidth\": 0, \"ticks\": \"\"}}, \"type\": \"scatterpolar\"}], \"scatterpolargl\": [{\"marker\": {\"colorbar\": {\"outlinewidth\": 0, \"ticks\": \"\"}}, \"type\": \"scatterpolargl\"}], \"scatterternary\": [{\"marker\": {\"colorbar\": {\"outlinewidth\": 0, \"ticks\": \"\"}}, \"type\": \"scatterternary\"}], \"surface\": [{\"colorbar\": {\"outlinewidth\": 0, \"ticks\": \"\"}, \"colorscale\": [[0.0, \"#0d0887\"], [0.1111111111111111, \"#46039f\"], [0.2222222222222222, \"#7201a8\"], [0.3333333333333333, \"#9c179e\"], [0.4444444444444444, \"#bd3786\"], [0.5555555555555556, \"#d8576b\"], [0.6666666666666666, \"#ed7953\"], [0.7777777777777778, \"#fb9f3a\"], [0.8888888888888888, \"#fdca26\"], [1.0, \"#f0f921\"]], \"type\": \"surface\"}], \"table\": [{\"cells\": {\"fill\": {\"color\": \"#EBF0F8\"}, \"line\": {\"color\": \"white\"}}, \"header\": {\"fill\": {\"color\": \"#C8D4E3\"}, \"line\": {\"color\": \"white\"}}, \"type\": \"table\"}]}, \"layout\": {\"annotationdefaults\": {\"arrowcolor\": \"#2a3f5f\", \"arrowhead\": 0, \"arrowwidth\": 1}, \"coloraxis\": {\"colorbar\": {\"outlinewidth\": 0, \"ticks\": \"\"}}, \"colorscale\": {\"diverging\": [[0, \"#8e0152\"], [0.1, \"#c51b7d\"], [0.2, \"#de77ae\"], [0.3, \"#f1b6da\"], [0.4, \"#fde0ef\"], [0.5, \"#f7f7f7\"], [0.6, \"#e6f5d0\"], [0.7, \"#b8e186\"], [0.8, \"#7fbc41\"], [0.9, \"#4d9221\"], [1, \"#276419\"]], \"sequential\": [[0.0, \"#0d0887\"], [0.1111111111111111, \"#46039f\"], [0.2222222222222222, \"#7201a8\"], [0.3333333333333333, \"#9c179e\"], [0.4444444444444444, \"#bd3786\"], [0.5555555555555556, \"#d8576b\"], [0.6666666666666666, \"#ed7953\"], [0.7777777777777778, \"#fb9f3a\"], [0.8888888888888888, \"#fdca26\"], [1.0, \"#f0f921\"]], \"sequentialminus\": [[0.0, \"#0d0887\"], [0.1111111111111111, \"#46039f\"], [0.2222222222222222, \"#7201a8\"], [0.3333333333333333, \"#9c179e\"], [0.4444444444444444, \"#bd3786\"], [0.5555555555555556, \"#d8576b\"], [0.6666666666666666, \"#ed7953\"], [0.7777777777777778, \"#fb9f3a\"], [0.8888888888888888, \"#fdca26\"], [1.0, \"#f0f921\"]]}, \"colorway\": [\"#636efa\", \"#EF553B\", \"#00cc96\", \"#ab63fa\", \"#FFA15A\", \"#19d3f3\", \"#FF6692\", \"#B6E880\", \"#FF97FF\", \"#FECB52\"], \"font\": {\"color\": \"#2a3f5f\"}, \"geo\": {\"bgcolor\": \"white\", \"lakecolor\": \"white\", \"landcolor\": \"#E5ECF6\", \"showlakes\": true, \"showland\": true, \"subunitcolor\": \"white\"}, \"hoverlabel\": {\"align\": \"left\"}, \"hovermode\": \"closest\", \"mapbox\": {\"style\": \"light\"}, \"paper_bgcolor\": \"white\", \"plot_bgcolor\": \"#E5ECF6\", \"polar\": {\"angularaxis\": {\"gridcolor\": \"white\", \"linecolor\": \"white\", \"ticks\": \"\"}, \"bgcolor\": \"#E5ECF6\", \"radialaxis\": {\"gridcolor\": \"white\", \"linecolor\": \"white\", \"ticks\": \"\"}}, \"scene\": {\"xaxis\": {\"backgroundcolor\": \"#E5ECF6\", \"gridcolor\": \"white\", \"gridwidth\": 2, \"linecolor\": \"white\", \"showbackground\": true, \"ticks\": \"\", \"zerolinecolor\": \"white\"}, \"yaxis\": {\"backgroundcolor\": \"#E5ECF6\", \"gridcolor\": \"white\", \"gridwidth\": 2, \"linecolor\": \"white\", \"showbackground\": true, \"ticks\": \"\", \"zerolinecolor\": \"white\"}, \"zaxis\": {\"backgroundcolor\": \"#E5ECF6\", \"gridcolor\": \"white\", \"gridwidth\": 2, \"linecolor\": \"white\", \"showbackground\": true, \"ticks\": \"\", \"zerolinecolor\": \"white\"}}, \"shapedefaults\": {\"line\": {\"color\": \"#2a3f5f\"}}, \"ternary\": {\"aaxis\": {\"gridcolor\": \"white\", \"linecolor\": \"white\", \"ticks\": \"\"}, \"baxis\": {\"gridcolor\": \"white\", \"linecolor\": \"white\", \"ticks\": \"\"}, \"bgcolor\": \"#E5ECF6\", \"caxis\": {\"gridcolor\": \"white\", \"linecolor\": \"white\", \"ticks\": \"\"}}, \"title\": {\"x\": 0.05}, \"xaxis\": {\"automargin\": true, \"gridcolor\": \"white\", \"linecolor\": \"white\", \"ticks\": \"\", \"title\": {\"standoff\": 15}, \"zerolinecolor\": \"white\", \"zerolinewidth\": 2}, \"yaxis\": {\"automargin\": true, \"gridcolor\": \"white\", \"linecolor\": \"white\", \"ticks\": \"\", \"title\": {\"standoff\": 15}, \"zerolinecolor\": \"white\", \"zerolinewidth\": 2}}}, \"width\": 1700, \"xaxis\": {\"anchor\": \"y\", \"domain\": [0.0, 0.7200000000000001]}, \"xaxis2\": {\"anchor\": \"y2\", \"domain\": [0.8200000000000001, 1.0]}, \"yaxis\": {\"anchor\": \"x\", \"domain\": [0.0, 1.0]}, \"yaxis2\": {\"anchor\": \"x2\", \"domain\": [0.0, 1.0]}},\n",
              "                        {\"responsive\": true}\n",
              "                    ).then(function(){\n",
              "                            \n",
              "var gd = document.getElementById('6cecd1d7-4d5a-43a7-bb85-c8a001c1645b');\n",
              "var x = new MutationObserver(function (mutations, observer) {{\n",
              "        var display = window.getComputedStyle(gd).display;\n",
              "        if (!display || display === 'none') {{\n",
              "            console.log([gd, 'removed!']);\n",
              "            Plotly.purge(gd);\n",
              "            observer.disconnect();\n",
              "        }}\n",
              "}});\n",
              "\n",
              "// Listen for the removal of the full notebook cells\n",
              "var notebookContainer = gd.closest('#notebook-container');\n",
              "if (notebookContainer) {{\n",
              "    x.observe(notebookContainer, {childList: true});\n",
              "}}\n",
              "\n",
              "// Listen for the clearing of the current output cell\n",
              "var outputEl = gd.closest('.output');\n",
              "if (outputEl) {{\n",
              "    x.observe(outputEl, {childList: true});\n",
              "}}\n",
              "\n",
              "                        })\n",
              "                };\n",
              "                \n",
              "            </script>\n",
              "        </div>\n",
              "</body>\n",
              "</html>"
            ]
          },
          "metadata": {
            "tags": []
          }
        },
        {
          "output_type": "display_data",
          "data": {
            "text/html": [
              "<html>\n",
              "<head><meta charset=\"utf-8\" /></head>\n",
              "<body>\n",
              "    <div>\n",
              "            <script src=\"https://cdnjs.cloudflare.com/ajax/libs/mathjax/2.7.5/MathJax.js?config=TeX-AMS-MML_SVG\"></script><script type=\"text/javascript\">if (window.MathJax) {MathJax.Hub.Config({SVG: {font: \"STIX-Web\"}});}</script>\n",
              "                <script type=\"text/javascript\">window.PlotlyConfig = {MathJaxConfig: 'local'};</script>\n",
              "        <script src=\"https://cdn.plot.ly/plotly-latest.min.js\"></script>    \n",
              "            <div id=\"05d354c1-4e71-4944-bd01-421f3cde3594\" class=\"plotly-graph-div\" style=\"height:400px; width:1700px;\"></div>\n",
              "            <script type=\"text/javascript\">\n",
              "                \n",
              "                    window.PLOTLYENV=window.PLOTLYENV || {};\n",
              "                    \n",
              "                if (document.getElementById(\"05d354c1-4e71-4944-bd01-421f3cde3594\")) {\n",
              "                    Plotly.newPlot(\n",
              "                        '05d354c1-4e71-4944-bd01-421f3cde3594',\n",
              "                        [{\"mode\": \"lines+markers\", \"name\": \"mean\", \"type\": \"scatter\", \"x\": [\"2019-01-11T00:00:00\", \"2019-01-22T00:00:00\", \"2019-01-26T00:00:00\", \"2019-01-31T00:00:00\", \"2019-02-11T00:00:00\", \"2019-02-22T00:00:00\", \"2019-02-27T00:00:00\", \"2019-03-07T00:00:00\", \"2019-03-15T00:00:00\", \"2019-04-05T00:00:00\", \"2019-04-16T00:00:00\", \"2019-05-27T00:00:00\", \"2019-06-03T00:00:00\", \"2019-06-10T00:00:00\", \"2019-06-17T00:00:00\", \"2019-06-25T00:00:00\", \"2019-06-28T00:00:00\", \"2019-08-07T00:00:00\", \"2019-08-19T00:00:00\", \"2019-08-26T00:00:00\", \"2019-09-05T00:00:00\", \"2019-10-17T00:00:00\", \"2019-11-01T00:00:00\", \"2019-11-13T00:00:00\", \"2019-12-05T00:00:00\", \"2019-12-10T00:00:00\", \"2019-12-26T00:00:00\", \"2019-12-31T00:00:00\"], \"xaxis\": \"x\", \"y\": [3.194, 3.199, 3.2, 3.196, 3.195, 3.198, 3.195, 3.195, 3.199, 3.2, 3.2, 3.199, 3.2, 3.204, 3.197, 3.195, 3.2, 3.201, 3.201, 3.2, 3.201, 3.198, 3.198, 3.197, 3.199, 3.2, 3.202, 3.201], \"yaxis\": \"y\"}, {\"name\": \"USL\", \"type\": \"scatter\", \"x\": [\"2019-01-11T00:00:00\", \"2019-01-22T00:00:00\", \"2019-01-26T00:00:00\", \"2019-01-31T00:00:00\", \"2019-02-11T00:00:00\", \"2019-02-22T00:00:00\", \"2019-02-27T00:00:00\", \"2019-03-07T00:00:00\", \"2019-03-15T00:00:00\", \"2019-04-05T00:00:00\", \"2019-04-16T00:00:00\", \"2019-05-27T00:00:00\", \"2019-06-03T00:00:00\", \"2019-06-10T00:00:00\", \"2019-06-17T00:00:00\", \"2019-06-25T00:00:00\", \"2019-06-28T00:00:00\", \"2019-08-07T00:00:00\", \"2019-08-19T00:00:00\", \"2019-08-26T00:00:00\", \"2019-09-05T00:00:00\", \"2019-10-17T00:00:00\", \"2019-11-01T00:00:00\", \"2019-11-13T00:00:00\", \"2019-12-05T00:00:00\", \"2019-12-10T00:00:00\", \"2019-12-26T00:00:00\", \"2019-12-31T00:00:00\"], \"xaxis\": \"x\", \"y\": [3.21, 3.21, 3.21, 3.21, 3.21, 3.21, 3.21, 3.21, 3.21, 3.21, 3.21, 3.21, 3.21, 3.21, 3.21, 3.21, 3.21, 3.21, 3.21, 3.21, 3.21, 3.21, 3.21, 3.21, 3.21, 3.21, 3.21, 3.21], \"yaxis\": \"y\"}, {\"name\": \"LSL\", \"type\": \"scatter\", \"x\": [\"2019-01-11T00:00:00\", \"2019-01-22T00:00:00\", \"2019-01-26T00:00:00\", \"2019-01-31T00:00:00\", \"2019-02-11T00:00:00\", \"2019-02-22T00:00:00\", \"2019-02-27T00:00:00\", \"2019-03-07T00:00:00\", \"2019-03-15T00:00:00\", \"2019-04-05T00:00:00\", \"2019-04-16T00:00:00\", \"2019-05-27T00:00:00\", \"2019-06-03T00:00:00\", \"2019-06-10T00:00:00\", \"2019-06-17T00:00:00\", \"2019-06-25T00:00:00\", \"2019-06-28T00:00:00\", \"2019-08-07T00:00:00\", \"2019-08-19T00:00:00\", \"2019-08-26T00:00:00\", \"2019-09-05T00:00:00\", \"2019-10-17T00:00:00\", \"2019-11-01T00:00:00\", \"2019-11-13T00:00:00\", \"2019-12-05T00:00:00\", \"2019-12-10T00:00:00\", \"2019-12-26T00:00:00\", \"2019-12-31T00:00:00\"], \"xaxis\": \"x\", \"y\": [3.19, 3.19, 3.19, 3.19, 3.19, 3.19, 3.19, 3.19, 3.19, 3.19, 3.19, 3.19, 3.19, 3.19, 3.19, 3.19, 3.19, 3.19, 3.19, 3.19, 3.19, 3.19, 3.19, 3.19, 3.19, 3.19, 3.19, 3.19], \"yaxis\": \"y\"}, {\"name\": \"Nominal\", \"type\": \"scatter\", \"x\": [\"2019-01-11T00:00:00\", \"2019-01-22T00:00:00\", \"2019-01-26T00:00:00\", \"2019-01-31T00:00:00\", \"2019-02-11T00:00:00\", \"2019-02-22T00:00:00\", \"2019-02-27T00:00:00\", \"2019-03-07T00:00:00\", \"2019-03-15T00:00:00\", \"2019-04-05T00:00:00\", \"2019-04-16T00:00:00\", \"2019-05-27T00:00:00\", \"2019-06-03T00:00:00\", \"2019-06-10T00:00:00\", \"2019-06-17T00:00:00\", \"2019-06-25T00:00:00\", \"2019-06-28T00:00:00\", \"2019-08-07T00:00:00\", \"2019-08-19T00:00:00\", \"2019-08-26T00:00:00\", \"2019-09-05T00:00:00\", \"2019-10-17T00:00:00\", \"2019-11-01T00:00:00\", \"2019-11-13T00:00:00\", \"2019-12-05T00:00:00\", \"2019-12-10T00:00:00\", \"2019-12-26T00:00:00\", \"2019-12-31T00:00:00\"], \"xaxis\": \"x\", \"y\": [3.2, 3.2, 3.2, 3.2, 3.2, 3.2, 3.2, 3.2, 3.2, 3.2, 3.2, 3.2, 3.2, 3.2, 3.2, 3.2, 3.2, 3.2, 3.2, 3.2, 3.2, 3.2, 3.2, 3.2, 3.2, 3.2, 3.2, 3.2], \"yaxis\": \"y\"}, {\"marker\": {\"color\": \"#EB89B5\"}, \"name\": \"Histogram\", \"opacity\": 0.75, \"type\": \"histogram\", \"xaxis\": \"x2\", \"y\": [3.197, 3.19, 3.194, 3.198, 3.19, 3.2, 3.192, 3.195, 3.201, 3.205, 3.195, 3.209, 3.202, 3.205, 3.19, 3.19, 3.199, 3.193, 3.203, 3.195, 3.192, 3.198, 3.19, 3.201, 3.192, 3.204, 3.201, 3.19, 3.19, 3.205, 3.19, 3.202, 3.192, 3.2, 3.192, 3.193, 3.196, 3.194, 3.195, 3.195, 3.21, 3.197, 3.204, 3.196, 3.19, 3.203, 3.2, 3.198, 3.2, 3.2, 3.197, 3.203, 3.194, 3.205, 3.193, 3.199, 3.207, 3.2, 3.209, 3.191, 3.198, 3.206, 3.194, 3.204, 3.193, 3.196, 3.196, 3.204, 3.201, 3.203, 3.198, 3.207, 3.2, 3.207, 3.207, 3.202, 3.196, 3.194, 3.203, 3.19, 3.199, 3.19, 3.2, 3.196, 3.192, 3.195, 3.205, 3.194, 3.203, 3.203, 3.201, 3.201, 3.202, 3.203, 3.199, 3.2, 3.199, 3.201, 3.202, 3.202, 3.201, 3.202, 3.199, 3.199, 3.201, 3.203, 3.202, 3.202, 3.199, 3.2, 3.198, 3.197, 3.197, 3.198, 3.198, 3.198, 3.2, 3.196, 3.197, 3.197, 3.199, 3.193, 3.198, 3.198, 3.196, 3.199, 3.199, 3.199, 3.198, 3.198, 3.201, 3.203, 3.199, 3.197, 3.198, 3.204, 3.201, 3.204, 3.203, 3.2, 3.202, 3.201, 3.199, 3.204, 3.201], \"yaxis\": \"y2\"}],\n",
              "                        {\"annotations\": [{\"font\": {\"size\": 16}, \"showarrow\": false, \"text\": \"Line and box plot I\", \"x\": 0.36000000000000004, \"xanchor\": \"center\", \"xref\": \"paper\", \"y\": 1.0, \"yanchor\": \"bottom\", \"yref\": \"paper\"}, {\"font\": {\"size\": 16}, \"showarrow\": false, \"text\": \"Histogram\", \"x\": 0.91, \"xanchor\": \"center\", \"xref\": \"paper\", \"y\": 1.0, \"yanchor\": \"bottom\", \"yref\": \"paper\"}], \"height\": 400, \"template\": {\"data\": {\"bar\": [{\"error_x\": {\"color\": \"#2a3f5f\"}, \"error_y\": {\"color\": \"#2a3f5f\"}, \"marker\": {\"line\": {\"color\": \"#E5ECF6\", \"width\": 0.5}}, \"type\": \"bar\"}], \"barpolar\": [{\"marker\": {\"line\": {\"color\": \"#E5ECF6\", \"width\": 0.5}}, \"type\": \"barpolar\"}], \"carpet\": [{\"aaxis\": {\"endlinecolor\": \"#2a3f5f\", \"gridcolor\": \"white\", \"linecolor\": \"white\", \"minorgridcolor\": \"white\", \"startlinecolor\": \"#2a3f5f\"}, \"baxis\": {\"endlinecolor\": \"#2a3f5f\", \"gridcolor\": \"white\", \"linecolor\": \"white\", \"minorgridcolor\": \"white\", \"startlinecolor\": \"#2a3f5f\"}, \"type\": \"carpet\"}], \"choropleth\": [{\"colorbar\": {\"outlinewidth\": 0, \"ticks\": \"\"}, \"type\": \"choropleth\"}], \"contour\": [{\"colorbar\": {\"outlinewidth\": 0, \"ticks\": \"\"}, \"colorscale\": [[0.0, \"#0d0887\"], [0.1111111111111111, \"#46039f\"], [0.2222222222222222, \"#7201a8\"], [0.3333333333333333, \"#9c179e\"], [0.4444444444444444, \"#bd3786\"], [0.5555555555555556, \"#d8576b\"], [0.6666666666666666, \"#ed7953\"], [0.7777777777777778, \"#fb9f3a\"], [0.8888888888888888, \"#fdca26\"], [1.0, \"#f0f921\"]], \"type\": \"contour\"}], \"contourcarpet\": [{\"colorbar\": {\"outlinewidth\": 0, \"ticks\": \"\"}, \"type\": \"contourcarpet\"}], \"heatmap\": [{\"colorbar\": {\"outlinewidth\": 0, \"ticks\": \"\"}, \"colorscale\": [[0.0, \"#0d0887\"], [0.1111111111111111, \"#46039f\"], [0.2222222222222222, \"#7201a8\"], [0.3333333333333333, \"#9c179e\"], [0.4444444444444444, \"#bd3786\"], [0.5555555555555556, \"#d8576b\"], [0.6666666666666666, \"#ed7953\"], [0.7777777777777778, \"#fb9f3a\"], [0.8888888888888888, \"#fdca26\"], [1.0, \"#f0f921\"]], \"type\": \"heatmap\"}], \"heatmapgl\": [{\"colorbar\": {\"outlinewidth\": 0, \"ticks\": \"\"}, \"colorscale\": [[0.0, \"#0d0887\"], [0.1111111111111111, \"#46039f\"], [0.2222222222222222, \"#7201a8\"], [0.3333333333333333, \"#9c179e\"], [0.4444444444444444, \"#bd3786\"], [0.5555555555555556, \"#d8576b\"], [0.6666666666666666, \"#ed7953\"], [0.7777777777777778, \"#fb9f3a\"], [0.8888888888888888, \"#fdca26\"], [1.0, \"#f0f921\"]], \"type\": \"heatmapgl\"}], \"histogram\": [{\"marker\": {\"colorbar\": {\"outlinewidth\": 0, \"ticks\": \"\"}}, \"type\": \"histogram\"}], \"histogram2d\": [{\"colorbar\": {\"outlinewidth\": 0, \"ticks\": \"\"}, \"colorscale\": [[0.0, \"#0d0887\"], [0.1111111111111111, \"#46039f\"], [0.2222222222222222, \"#7201a8\"], [0.3333333333333333, \"#9c179e\"], [0.4444444444444444, \"#bd3786\"], [0.5555555555555556, \"#d8576b\"], [0.6666666666666666, \"#ed7953\"], [0.7777777777777778, \"#fb9f3a\"], [0.8888888888888888, \"#fdca26\"], [1.0, \"#f0f921\"]], \"type\": \"histogram2d\"}], \"histogram2dcontour\": [{\"colorbar\": {\"outlinewidth\": 0, \"ticks\": \"\"}, \"colorscale\": [[0.0, \"#0d0887\"], [0.1111111111111111, \"#46039f\"], [0.2222222222222222, \"#7201a8\"], [0.3333333333333333, \"#9c179e\"], [0.4444444444444444, \"#bd3786\"], [0.5555555555555556, \"#d8576b\"], [0.6666666666666666, \"#ed7953\"], [0.7777777777777778, \"#fb9f3a\"], [0.8888888888888888, \"#fdca26\"], [1.0, \"#f0f921\"]], \"type\": \"histogram2dcontour\"}], \"mesh3d\": [{\"colorbar\": {\"outlinewidth\": 0, \"ticks\": \"\"}, \"type\": \"mesh3d\"}], \"parcoords\": [{\"line\": {\"colorbar\": {\"outlinewidth\": 0, \"ticks\": \"\"}}, \"type\": \"parcoords\"}], \"pie\": [{\"automargin\": true, \"type\": \"pie\"}], \"scatter\": [{\"marker\": {\"colorbar\": {\"outlinewidth\": 0, \"ticks\": \"\"}}, \"type\": \"scatter\"}], \"scatter3d\": [{\"line\": {\"colorbar\": {\"outlinewidth\": 0, \"ticks\": \"\"}}, \"marker\": {\"colorbar\": {\"outlinewidth\": 0, \"ticks\": \"\"}}, \"type\": \"scatter3d\"}], \"scattercarpet\": [{\"marker\": {\"colorbar\": {\"outlinewidth\": 0, \"ticks\": \"\"}}, \"type\": \"scattercarpet\"}], \"scattergeo\": [{\"marker\": {\"colorbar\": {\"outlinewidth\": 0, \"ticks\": \"\"}}, \"type\": \"scattergeo\"}], \"scattergl\": [{\"marker\": {\"colorbar\": {\"outlinewidth\": 0, \"ticks\": \"\"}}, \"type\": \"scattergl\"}], \"scattermapbox\": [{\"marker\": {\"colorbar\": {\"outlinewidth\": 0, \"ticks\": \"\"}}, \"type\": \"scattermapbox\"}], \"scatterpolar\": [{\"marker\": {\"colorbar\": {\"outlinewidth\": 0, \"ticks\": \"\"}}, \"type\": \"scatterpolar\"}], \"scatterpolargl\": [{\"marker\": {\"colorbar\": {\"outlinewidth\": 0, \"ticks\": \"\"}}, \"type\": \"scatterpolargl\"}], \"scatterternary\": [{\"marker\": {\"colorbar\": {\"outlinewidth\": 0, \"ticks\": \"\"}}, \"type\": \"scatterternary\"}], \"surface\": [{\"colorbar\": {\"outlinewidth\": 0, \"ticks\": \"\"}, \"colorscale\": [[0.0, \"#0d0887\"], [0.1111111111111111, \"#46039f\"], [0.2222222222222222, \"#7201a8\"], [0.3333333333333333, \"#9c179e\"], [0.4444444444444444, \"#bd3786\"], [0.5555555555555556, \"#d8576b\"], [0.6666666666666666, \"#ed7953\"], [0.7777777777777778, \"#fb9f3a\"], [0.8888888888888888, \"#fdca26\"], [1.0, \"#f0f921\"]], \"type\": \"surface\"}], \"table\": [{\"cells\": {\"fill\": {\"color\": \"#EBF0F8\"}, \"line\": {\"color\": \"white\"}}, \"header\": {\"fill\": {\"color\": \"#C8D4E3\"}, \"line\": {\"color\": \"white\"}}, \"type\": \"table\"}]}, \"layout\": {\"annotationdefaults\": {\"arrowcolor\": \"#2a3f5f\", \"arrowhead\": 0, \"arrowwidth\": 1}, \"coloraxis\": {\"colorbar\": {\"outlinewidth\": 0, \"ticks\": \"\"}}, \"colorscale\": {\"diverging\": [[0, \"#8e0152\"], [0.1, \"#c51b7d\"], [0.2, \"#de77ae\"], [0.3, \"#f1b6da\"], [0.4, \"#fde0ef\"], [0.5, \"#f7f7f7\"], [0.6, \"#e6f5d0\"], [0.7, \"#b8e186\"], [0.8, \"#7fbc41\"], [0.9, \"#4d9221\"], [1, \"#276419\"]], \"sequential\": [[0.0, \"#0d0887\"], [0.1111111111111111, \"#46039f\"], [0.2222222222222222, \"#7201a8\"], [0.3333333333333333, \"#9c179e\"], [0.4444444444444444, \"#bd3786\"], [0.5555555555555556, \"#d8576b\"], [0.6666666666666666, \"#ed7953\"], [0.7777777777777778, \"#fb9f3a\"], [0.8888888888888888, \"#fdca26\"], [1.0, \"#f0f921\"]], \"sequentialminus\": [[0.0, \"#0d0887\"], [0.1111111111111111, \"#46039f\"], [0.2222222222222222, \"#7201a8\"], [0.3333333333333333, \"#9c179e\"], [0.4444444444444444, \"#bd3786\"], [0.5555555555555556, \"#d8576b\"], [0.6666666666666666, \"#ed7953\"], [0.7777777777777778, \"#fb9f3a\"], [0.8888888888888888, \"#fdca26\"], [1.0, \"#f0f921\"]]}, \"colorway\": [\"#636efa\", \"#EF553B\", \"#00cc96\", \"#ab63fa\", \"#FFA15A\", \"#19d3f3\", \"#FF6692\", \"#B6E880\", \"#FF97FF\", \"#FECB52\"], \"font\": {\"color\": \"#2a3f5f\"}, \"geo\": {\"bgcolor\": \"white\", \"lakecolor\": \"white\", \"landcolor\": \"#E5ECF6\", \"showlakes\": true, \"showland\": true, \"subunitcolor\": \"white\"}, \"hoverlabel\": {\"align\": \"left\"}, \"hovermode\": \"closest\", \"mapbox\": {\"style\": \"light\"}, \"paper_bgcolor\": \"white\", \"plot_bgcolor\": \"#E5ECF6\", \"polar\": {\"angularaxis\": {\"gridcolor\": \"white\", \"linecolor\": \"white\", \"ticks\": \"\"}, \"bgcolor\": \"#E5ECF6\", \"radialaxis\": {\"gridcolor\": \"white\", \"linecolor\": \"white\", \"ticks\": \"\"}}, \"scene\": {\"xaxis\": {\"backgroundcolor\": \"#E5ECF6\", \"gridcolor\": \"white\", \"gridwidth\": 2, \"linecolor\": \"white\", \"showbackground\": true, \"ticks\": \"\", \"zerolinecolor\": \"white\"}, \"yaxis\": {\"backgroundcolor\": \"#E5ECF6\", \"gridcolor\": \"white\", \"gridwidth\": 2, \"linecolor\": \"white\", \"showbackground\": true, \"ticks\": \"\", \"zerolinecolor\": \"white\"}, \"zaxis\": {\"backgroundcolor\": \"#E5ECF6\", \"gridcolor\": \"white\", \"gridwidth\": 2, \"linecolor\": \"white\", \"showbackground\": true, \"ticks\": \"\", \"zerolinecolor\": \"white\"}}, \"shapedefaults\": {\"line\": {\"color\": \"#2a3f5f\"}}, \"ternary\": {\"aaxis\": {\"gridcolor\": \"white\", \"linecolor\": \"white\", \"ticks\": \"\"}, \"baxis\": {\"gridcolor\": \"white\", \"linecolor\": \"white\", \"ticks\": \"\"}, \"bgcolor\": \"#E5ECF6\", \"caxis\": {\"gridcolor\": \"white\", \"linecolor\": \"white\", \"ticks\": \"\"}}, \"title\": {\"x\": 0.05}, \"xaxis\": {\"automargin\": true, \"gridcolor\": \"white\", \"linecolor\": \"white\", \"ticks\": \"\", \"title\": {\"standoff\": 15}, \"zerolinecolor\": \"white\", \"zerolinewidth\": 2}, \"yaxis\": {\"automargin\": true, \"gridcolor\": \"white\", \"linecolor\": \"white\", \"ticks\": \"\", \"title\": {\"standoff\": 15}, \"zerolinecolor\": \"white\", \"zerolinewidth\": 2}}}, \"width\": 1700, \"xaxis\": {\"anchor\": \"y\", \"domain\": [0.0, 0.7200000000000001]}, \"xaxis2\": {\"anchor\": \"y2\", \"domain\": [0.8200000000000001, 1.0]}, \"yaxis\": {\"anchor\": \"x\", \"domain\": [0.0, 1.0]}, \"yaxis2\": {\"anchor\": \"x2\", \"domain\": [0.0, 1.0]}},\n",
              "                        {\"responsive\": true}\n",
              "                    ).then(function(){\n",
              "                            \n",
              "var gd = document.getElementById('05d354c1-4e71-4944-bd01-421f3cde3594');\n",
              "var x = new MutationObserver(function (mutations, observer) {{\n",
              "        var display = window.getComputedStyle(gd).display;\n",
              "        if (!display || display === 'none') {{\n",
              "            console.log([gd, 'removed!']);\n",
              "            Plotly.purge(gd);\n",
              "            observer.disconnect();\n",
              "        }}\n",
              "}});\n",
              "\n",
              "// Listen for the removal of the full notebook cells\n",
              "var notebookContainer = gd.closest('#notebook-container');\n",
              "if (notebookContainer) {{\n",
              "    x.observe(notebookContainer, {childList: true});\n",
              "}}\n",
              "\n",
              "// Listen for the clearing of the current output cell\n",
              "var outputEl = gd.closest('.output');\n",
              "if (outputEl) {{\n",
              "    x.observe(outputEl, {childList: true});\n",
              "}}\n",
              "\n",
              "                        })\n",
              "                };\n",
              "                \n",
              "            </script>\n",
              "        </div>\n",
              "</body>\n",
              "</html>"
            ]
          },
          "metadata": {
            "tags": []
          }
        },
        {
          "output_type": "display_data",
          "data": {
            "text/html": [
              "<html>\n",
              "<head><meta charset=\"utf-8\" /></head>\n",
              "<body>\n",
              "    <div>\n",
              "            <script src=\"https://cdnjs.cloudflare.com/ajax/libs/mathjax/2.7.5/MathJax.js?config=TeX-AMS-MML_SVG\"></script><script type=\"text/javascript\">if (window.MathJax) {MathJax.Hub.Config({SVG: {font: \"STIX-Web\"}});}</script>\n",
              "                <script type=\"text/javascript\">window.PlotlyConfig = {MathJaxConfig: 'local'};</script>\n",
              "        <script src=\"https://cdn.plot.ly/plotly-latest.min.js\"></script>    \n",
              "            <div id=\"0e5a9554-26ca-458b-a306-e46ddc679492\" class=\"plotly-graph-div\" style=\"height:400px; width:1700px;\"></div>\n",
              "            <script type=\"text/javascript\">\n",
              "                \n",
              "                    window.PLOTLYENV=window.PLOTLYENV || {};\n",
              "                    \n",
              "                if (document.getElementById(\"0e5a9554-26ca-458b-a306-e46ddc679492\")) {\n",
              "                    Plotly.newPlot(\n",
              "                        '0e5a9554-26ca-458b-a306-e46ddc679492',\n",
              "                        [{\"mode\": \"lines+markers\", \"name\": \"mean\", \"type\": \"scatter\", \"x\": [\"2019-01-11T00:00:00\", \"2019-01-22T00:00:00\", \"2019-01-26T00:00:00\", \"2019-01-31T00:00:00\", \"2019-02-11T00:00:00\", \"2019-02-22T00:00:00\", \"2019-02-27T00:00:00\", \"2019-03-07T00:00:00\", \"2019-03-15T00:00:00\", \"2019-04-05T00:00:00\", \"2019-04-16T00:00:00\", \"2019-05-27T00:00:00\", \"2019-06-03T00:00:00\", \"2019-06-10T00:00:00\", \"2019-06-17T00:00:00\", \"2019-06-25T00:00:00\", \"2019-06-28T00:00:00\", \"2019-08-07T00:00:00\", \"2019-08-19T00:00:00\", \"2019-08-26T00:00:00\", \"2019-09-05T00:00:00\", \"2019-10-17T00:00:00\", \"2019-11-01T00:00:00\", \"2019-11-13T00:00:00\", \"2019-12-05T00:00:00\", \"2019-12-10T00:00:00\", \"2019-12-26T00:00:00\", \"2019-12-31T00:00:00\"], \"xaxis\": \"x\", \"y\": [11.853, 11.852, 11.853, 11.855, 11.854, 11.852, 11.855, 11.857, 11.853, 11.856, 11.853, 11.853, 11.852, 11.856, 11.859, 11.86, 11.856, 11.851, 11.849, 11.85, 11.856, 11.849, 11.849, 11.851, 11.849, 11.852, 11.849, 11.848], \"yaxis\": \"y\"}, {\"name\": \"USL\", \"type\": \"scatter\", \"x\": [\"2019-01-11T00:00:00\", \"2019-01-22T00:00:00\", \"2019-01-26T00:00:00\", \"2019-01-31T00:00:00\", \"2019-02-11T00:00:00\", \"2019-02-22T00:00:00\", \"2019-02-27T00:00:00\", \"2019-03-07T00:00:00\", \"2019-03-15T00:00:00\", \"2019-04-05T00:00:00\", \"2019-04-16T00:00:00\", \"2019-05-27T00:00:00\", \"2019-06-03T00:00:00\", \"2019-06-10T00:00:00\", \"2019-06-17T00:00:00\", \"2019-06-25T00:00:00\", \"2019-06-28T00:00:00\", \"2019-08-07T00:00:00\", \"2019-08-19T00:00:00\", \"2019-08-26T00:00:00\", \"2019-09-05T00:00:00\", \"2019-10-17T00:00:00\", \"2019-11-01T00:00:00\", \"2019-11-13T00:00:00\", \"2019-12-05T00:00:00\", \"2019-12-10T00:00:00\", \"2019-12-26T00:00:00\", \"2019-12-31T00:00:00\"], \"xaxis\": \"x\", \"y\": [11.86, 11.86, 11.86, 11.86, 11.86, 11.86, 11.86, 11.86, 11.86, 11.86, 11.86, 11.86, 11.86, 11.86, 11.86, 11.86, 11.86, 11.86, 11.86, 11.86, 11.86, 11.86, 11.86, 11.86, 11.86, 11.86, 11.86, 11.86], \"yaxis\": \"y\"}, {\"name\": \"LSL\", \"type\": \"scatter\", \"x\": [\"2019-01-11T00:00:00\", \"2019-01-22T00:00:00\", \"2019-01-26T00:00:00\", \"2019-01-31T00:00:00\", \"2019-02-11T00:00:00\", \"2019-02-22T00:00:00\", \"2019-02-27T00:00:00\", \"2019-03-07T00:00:00\", \"2019-03-15T00:00:00\", \"2019-04-05T00:00:00\", \"2019-04-16T00:00:00\", \"2019-05-27T00:00:00\", \"2019-06-03T00:00:00\", \"2019-06-10T00:00:00\", \"2019-06-17T00:00:00\", \"2019-06-25T00:00:00\", \"2019-06-28T00:00:00\", \"2019-08-07T00:00:00\", \"2019-08-19T00:00:00\", \"2019-08-26T00:00:00\", \"2019-09-05T00:00:00\", \"2019-10-17T00:00:00\", \"2019-11-01T00:00:00\", \"2019-11-13T00:00:00\", \"2019-12-05T00:00:00\", \"2019-12-10T00:00:00\", \"2019-12-26T00:00:00\", \"2019-12-31T00:00:00\"], \"xaxis\": \"x\", \"y\": [11.84, 11.84, 11.84, 11.84, 11.84, 11.84, 11.84, 11.84, 11.84, 11.84, 11.84, 11.84, 11.84, 11.84, 11.84, 11.84, 11.84, 11.84, 11.84, 11.84, 11.84, 11.84, 11.84, 11.84, 11.84, 11.84, 11.84, 11.84], \"yaxis\": \"y\"}, {\"name\": \"Nominal\", \"type\": \"scatter\", \"x\": [\"2019-01-11T00:00:00\", \"2019-01-22T00:00:00\", \"2019-01-26T00:00:00\", \"2019-01-31T00:00:00\", \"2019-02-11T00:00:00\", \"2019-02-22T00:00:00\", \"2019-02-27T00:00:00\", \"2019-03-07T00:00:00\", \"2019-03-15T00:00:00\", \"2019-04-05T00:00:00\", \"2019-04-16T00:00:00\", \"2019-05-27T00:00:00\", \"2019-06-03T00:00:00\", \"2019-06-10T00:00:00\", \"2019-06-17T00:00:00\", \"2019-06-25T00:00:00\", \"2019-06-28T00:00:00\", \"2019-08-07T00:00:00\", \"2019-08-19T00:00:00\", \"2019-08-26T00:00:00\", \"2019-09-05T00:00:00\", \"2019-10-17T00:00:00\", \"2019-11-01T00:00:00\", \"2019-11-13T00:00:00\", \"2019-12-05T00:00:00\", \"2019-12-10T00:00:00\", \"2019-12-26T00:00:00\", \"2019-12-31T00:00:00\"], \"xaxis\": \"x\", \"y\": [11.85, 11.85, 11.85, 11.85, 11.85, 11.85, 11.85, 11.85, 11.85, 11.85, 11.85, 11.85, 11.85, 11.85, 11.85, 11.85, 11.85, 11.85, 11.85, 11.85, 11.85, 11.85, 11.85, 11.85, 11.85, 11.85, 11.85, 11.85], \"yaxis\": \"y\"}, {\"marker\": {\"color\": \"#EB89B5\"}, \"name\": \"Histogram\", \"opacity\": 0.75, \"type\": \"histogram\", \"xaxis\": \"x2\", \"y\": [11.855, 11.855, 11.852, 11.855, 11.85, 11.852, 11.856, 11.847, 11.854, 11.853, 11.854, 11.853, 11.851, 11.85, 11.856, 11.853, 11.853, 11.854, 11.857, 11.856, 11.851, 11.854, 11.854, 11.859, 11.853, 11.853, 11.854, 11.851, 11.849, 11.853, 11.854, 11.853, 11.856, 11.851, 11.859, 11.858, 11.859, 11.858, 11.856, 11.856, 11.852, 11.849, 11.857, 11.851, 11.855, 11.851, 11.86, 11.86, 11.86, 11.847, 11.856, 11.856, 11.859, 11.856, 11.858, 11.85, 11.851, 11.847, 11.846, 11.853, 11.857, 11.851, 11.852, 11.854, 11.852, 11.847, 11.852, 11.855, 11.858, 11.85, 11.856, 11.853, 11.86, 11.858, 11.851, 11.86, 11.859, 11.858, 11.857, 11.86, 11.857, 11.858, 11.861, 11.862, 11.861, 11.859, 11.854, 11.852, 11.855, 11.858, 11.851, 11.851, 11.85, 11.85, 11.852, 11.849, 11.849, 11.848, 11.848, 11.849, 11.849, 11.85, 11.852, 11.849, 11.849, 11.857, 11.856, 11.856, 11.855, 11.855, 11.848, 11.849, 11.849, 11.849, 11.85, 11.849, 11.849, 11.851, 11.848, 11.848, 11.851, 11.851, 11.851, 11.85, 11.851, 11.849, 11.85, 11.849, 11.848, 11.85, 11.852, 11.851, 11.852, 11.852, 11.853, 11.848, 11.85, 11.847, 11.848, 11.85, 11.847, 11.847, 11.85, 11.849, 11.848], \"yaxis\": \"y2\"}],\n",
              "                        {\"annotations\": [{\"font\": {\"size\": 16}, \"showarrow\": false, \"text\": \"Line and box plot O\", \"x\": 0.36000000000000004, \"xanchor\": \"center\", \"xref\": \"paper\", \"y\": 1.0, \"yanchor\": \"bottom\", \"yref\": \"paper\"}, {\"font\": {\"size\": 16}, \"showarrow\": false, \"text\": \"Histogram\", \"x\": 0.91, \"xanchor\": \"center\", \"xref\": \"paper\", \"y\": 1.0, \"yanchor\": \"bottom\", \"yref\": \"paper\"}], \"height\": 400, \"template\": {\"data\": {\"bar\": [{\"error_x\": {\"color\": \"#2a3f5f\"}, \"error_y\": {\"color\": \"#2a3f5f\"}, \"marker\": {\"line\": {\"color\": \"#E5ECF6\", \"width\": 0.5}}, \"type\": \"bar\"}], \"barpolar\": [{\"marker\": {\"line\": {\"color\": \"#E5ECF6\", \"width\": 0.5}}, \"type\": \"barpolar\"}], \"carpet\": [{\"aaxis\": {\"endlinecolor\": \"#2a3f5f\", \"gridcolor\": \"white\", \"linecolor\": \"white\", \"minorgridcolor\": \"white\", \"startlinecolor\": \"#2a3f5f\"}, \"baxis\": {\"endlinecolor\": \"#2a3f5f\", \"gridcolor\": \"white\", \"linecolor\": \"white\", \"minorgridcolor\": \"white\", \"startlinecolor\": \"#2a3f5f\"}, \"type\": \"carpet\"}], \"choropleth\": [{\"colorbar\": {\"outlinewidth\": 0, \"ticks\": \"\"}, \"type\": \"choropleth\"}], \"contour\": [{\"colorbar\": {\"outlinewidth\": 0, \"ticks\": \"\"}, \"colorscale\": [[0.0, \"#0d0887\"], [0.1111111111111111, \"#46039f\"], [0.2222222222222222, \"#7201a8\"], [0.3333333333333333, \"#9c179e\"], [0.4444444444444444, \"#bd3786\"], [0.5555555555555556, \"#d8576b\"], [0.6666666666666666, \"#ed7953\"], [0.7777777777777778, \"#fb9f3a\"], [0.8888888888888888, \"#fdca26\"], [1.0, \"#f0f921\"]], \"type\": \"contour\"}], \"contourcarpet\": [{\"colorbar\": {\"outlinewidth\": 0, \"ticks\": \"\"}, \"type\": \"contourcarpet\"}], \"heatmap\": [{\"colorbar\": {\"outlinewidth\": 0, \"ticks\": \"\"}, \"colorscale\": [[0.0, \"#0d0887\"], [0.1111111111111111, \"#46039f\"], [0.2222222222222222, \"#7201a8\"], [0.3333333333333333, \"#9c179e\"], [0.4444444444444444, \"#bd3786\"], [0.5555555555555556, \"#d8576b\"], [0.6666666666666666, \"#ed7953\"], [0.7777777777777778, \"#fb9f3a\"], [0.8888888888888888, \"#fdca26\"], [1.0, \"#f0f921\"]], \"type\": \"heatmap\"}], \"heatmapgl\": [{\"colorbar\": {\"outlinewidth\": 0, \"ticks\": \"\"}, \"colorscale\": [[0.0, \"#0d0887\"], [0.1111111111111111, \"#46039f\"], [0.2222222222222222, \"#7201a8\"], [0.3333333333333333, \"#9c179e\"], [0.4444444444444444, \"#bd3786\"], [0.5555555555555556, \"#d8576b\"], [0.6666666666666666, \"#ed7953\"], [0.7777777777777778, \"#fb9f3a\"], [0.8888888888888888, \"#fdca26\"], [1.0, \"#f0f921\"]], \"type\": \"heatmapgl\"}], \"histogram\": [{\"marker\": {\"colorbar\": {\"outlinewidth\": 0, \"ticks\": \"\"}}, \"type\": \"histogram\"}], \"histogram2d\": [{\"colorbar\": {\"outlinewidth\": 0, \"ticks\": \"\"}, \"colorscale\": [[0.0, \"#0d0887\"], [0.1111111111111111, \"#46039f\"], [0.2222222222222222, \"#7201a8\"], [0.3333333333333333, \"#9c179e\"], [0.4444444444444444, \"#bd3786\"], [0.5555555555555556, \"#d8576b\"], [0.6666666666666666, \"#ed7953\"], [0.7777777777777778, \"#fb9f3a\"], [0.8888888888888888, \"#fdca26\"], [1.0, \"#f0f921\"]], \"type\": \"histogram2d\"}], \"histogram2dcontour\": [{\"colorbar\": {\"outlinewidth\": 0, \"ticks\": \"\"}, \"colorscale\": [[0.0, \"#0d0887\"], [0.1111111111111111, \"#46039f\"], [0.2222222222222222, \"#7201a8\"], [0.3333333333333333, \"#9c179e\"], [0.4444444444444444, \"#bd3786\"], [0.5555555555555556, \"#d8576b\"], [0.6666666666666666, \"#ed7953\"], [0.7777777777777778, \"#fb9f3a\"], [0.8888888888888888, \"#fdca26\"], [1.0, \"#f0f921\"]], \"type\": \"histogram2dcontour\"}], \"mesh3d\": [{\"colorbar\": {\"outlinewidth\": 0, \"ticks\": \"\"}, \"type\": \"mesh3d\"}], \"parcoords\": [{\"line\": {\"colorbar\": {\"outlinewidth\": 0, \"ticks\": \"\"}}, \"type\": \"parcoords\"}], \"pie\": [{\"automargin\": true, \"type\": \"pie\"}], \"scatter\": [{\"marker\": {\"colorbar\": {\"outlinewidth\": 0, \"ticks\": \"\"}}, \"type\": \"scatter\"}], \"scatter3d\": [{\"line\": {\"colorbar\": {\"outlinewidth\": 0, \"ticks\": \"\"}}, \"marker\": {\"colorbar\": {\"outlinewidth\": 0, \"ticks\": \"\"}}, \"type\": \"scatter3d\"}], \"scattercarpet\": [{\"marker\": {\"colorbar\": {\"outlinewidth\": 0, \"ticks\": \"\"}}, \"type\": \"scattercarpet\"}], \"scattergeo\": [{\"marker\": {\"colorbar\": {\"outlinewidth\": 0, \"ticks\": \"\"}}, \"type\": \"scattergeo\"}], \"scattergl\": [{\"marker\": {\"colorbar\": {\"outlinewidth\": 0, \"ticks\": \"\"}}, \"type\": \"scattergl\"}], \"scattermapbox\": [{\"marker\": {\"colorbar\": {\"outlinewidth\": 0, \"ticks\": \"\"}}, \"type\": \"scattermapbox\"}], \"scatterpolar\": [{\"marker\": {\"colorbar\": {\"outlinewidth\": 0, \"ticks\": \"\"}}, \"type\": \"scatterpolar\"}], \"scatterpolargl\": [{\"marker\": {\"colorbar\": {\"outlinewidth\": 0, \"ticks\": \"\"}}, \"type\": \"scatterpolargl\"}], \"scatterternary\": [{\"marker\": {\"colorbar\": {\"outlinewidth\": 0, \"ticks\": \"\"}}, \"type\": \"scatterternary\"}], \"surface\": [{\"colorbar\": {\"outlinewidth\": 0, \"ticks\": \"\"}, \"colorscale\": [[0.0, \"#0d0887\"], [0.1111111111111111, \"#46039f\"], [0.2222222222222222, \"#7201a8\"], [0.3333333333333333, \"#9c179e\"], [0.4444444444444444, \"#bd3786\"], [0.5555555555555556, \"#d8576b\"], [0.6666666666666666, \"#ed7953\"], [0.7777777777777778, \"#fb9f3a\"], [0.8888888888888888, \"#fdca26\"], [1.0, \"#f0f921\"]], \"type\": \"surface\"}], \"table\": [{\"cells\": {\"fill\": {\"color\": \"#EBF0F8\"}, \"line\": {\"color\": \"white\"}}, \"header\": {\"fill\": {\"color\": \"#C8D4E3\"}, \"line\": {\"color\": \"white\"}}, \"type\": \"table\"}]}, \"layout\": {\"annotationdefaults\": {\"arrowcolor\": \"#2a3f5f\", \"arrowhead\": 0, \"arrowwidth\": 1}, \"coloraxis\": {\"colorbar\": {\"outlinewidth\": 0, \"ticks\": \"\"}}, \"colorscale\": {\"diverging\": [[0, \"#8e0152\"], [0.1, \"#c51b7d\"], [0.2, \"#de77ae\"], [0.3, \"#f1b6da\"], [0.4, \"#fde0ef\"], [0.5, \"#f7f7f7\"], [0.6, \"#e6f5d0\"], [0.7, \"#b8e186\"], [0.8, \"#7fbc41\"], [0.9, \"#4d9221\"], [1, \"#276419\"]], \"sequential\": [[0.0, \"#0d0887\"], [0.1111111111111111, \"#46039f\"], [0.2222222222222222, \"#7201a8\"], [0.3333333333333333, \"#9c179e\"], [0.4444444444444444, \"#bd3786\"], [0.5555555555555556, \"#d8576b\"], [0.6666666666666666, \"#ed7953\"], [0.7777777777777778, \"#fb9f3a\"], [0.8888888888888888, \"#fdca26\"], [1.0, \"#f0f921\"]], \"sequentialminus\": [[0.0, \"#0d0887\"], [0.1111111111111111, \"#46039f\"], [0.2222222222222222, \"#7201a8\"], [0.3333333333333333, \"#9c179e\"], [0.4444444444444444, \"#bd3786\"], [0.5555555555555556, \"#d8576b\"], [0.6666666666666666, \"#ed7953\"], [0.7777777777777778, \"#fb9f3a\"], [0.8888888888888888, \"#fdca26\"], [1.0, \"#f0f921\"]]}, \"colorway\": [\"#636efa\", \"#EF553B\", \"#00cc96\", \"#ab63fa\", \"#FFA15A\", \"#19d3f3\", \"#FF6692\", \"#B6E880\", \"#FF97FF\", \"#FECB52\"], \"font\": {\"color\": \"#2a3f5f\"}, \"geo\": {\"bgcolor\": \"white\", \"lakecolor\": \"white\", \"landcolor\": \"#E5ECF6\", \"showlakes\": true, \"showland\": true, \"subunitcolor\": \"white\"}, \"hoverlabel\": {\"align\": \"left\"}, \"hovermode\": \"closest\", \"mapbox\": {\"style\": \"light\"}, \"paper_bgcolor\": \"white\", \"plot_bgcolor\": \"#E5ECF6\", \"polar\": {\"angularaxis\": {\"gridcolor\": \"white\", \"linecolor\": \"white\", \"ticks\": \"\"}, \"bgcolor\": \"#E5ECF6\", \"radialaxis\": {\"gridcolor\": \"white\", \"linecolor\": \"white\", \"ticks\": \"\"}}, \"scene\": {\"xaxis\": {\"backgroundcolor\": \"#E5ECF6\", \"gridcolor\": \"white\", \"gridwidth\": 2, \"linecolor\": \"white\", \"showbackground\": true, \"ticks\": \"\", \"zerolinecolor\": \"white\"}, \"yaxis\": {\"backgroundcolor\": \"#E5ECF6\", \"gridcolor\": \"white\", \"gridwidth\": 2, \"linecolor\": \"white\", \"showbackground\": true, \"ticks\": \"\", \"zerolinecolor\": \"white\"}, \"zaxis\": {\"backgroundcolor\": \"#E5ECF6\", \"gridcolor\": \"white\", \"gridwidth\": 2, \"linecolor\": \"white\", \"showbackground\": true, \"ticks\": \"\", \"zerolinecolor\": \"white\"}}, \"shapedefaults\": {\"line\": {\"color\": \"#2a3f5f\"}}, \"ternary\": {\"aaxis\": {\"gridcolor\": \"white\", \"linecolor\": \"white\", \"ticks\": \"\"}, \"baxis\": {\"gridcolor\": \"white\", \"linecolor\": \"white\", \"ticks\": \"\"}, \"bgcolor\": \"#E5ECF6\", \"caxis\": {\"gridcolor\": \"white\", \"linecolor\": \"white\", \"ticks\": \"\"}}, \"title\": {\"x\": 0.05}, \"xaxis\": {\"automargin\": true, \"gridcolor\": \"white\", \"linecolor\": \"white\", \"ticks\": \"\", \"title\": {\"standoff\": 15}, \"zerolinecolor\": \"white\", \"zerolinewidth\": 2}, \"yaxis\": {\"automargin\": true, \"gridcolor\": \"white\", \"linecolor\": \"white\", \"ticks\": \"\", \"title\": {\"standoff\": 15}, \"zerolinecolor\": \"white\", \"zerolinewidth\": 2}}}, \"width\": 1700, \"xaxis\": {\"anchor\": \"y\", \"domain\": [0.0, 0.7200000000000001]}, \"xaxis2\": {\"anchor\": \"y2\", \"domain\": [0.8200000000000001, 1.0]}, \"yaxis\": {\"anchor\": \"x\", \"domain\": [0.0, 1.0]}, \"yaxis2\": {\"anchor\": \"x2\", \"domain\": [0.0, 1.0]}},\n",
              "                        {\"responsive\": true}\n",
              "                    ).then(function(){\n",
              "                            \n",
              "var gd = document.getElementById('0e5a9554-26ca-458b-a306-e46ddc679492');\n",
              "var x = new MutationObserver(function (mutations, observer) {{\n",
              "        var display = window.getComputedStyle(gd).display;\n",
              "        if (!display || display === 'none') {{\n",
              "            console.log([gd, 'removed!']);\n",
              "            Plotly.purge(gd);\n",
              "            observer.disconnect();\n",
              "        }}\n",
              "}});\n",
              "\n",
              "// Listen for the removal of the full notebook cells\n",
              "var notebookContainer = gd.closest('#notebook-container');\n",
              "if (notebookContainer) {{\n",
              "    x.observe(notebookContainer, {childList: true});\n",
              "}}\n",
              "\n",
              "// Listen for the clearing of the current output cell\n",
              "var outputEl = gd.closest('.output');\n",
              "if (outputEl) {{\n",
              "    x.observe(outputEl, {childList: true});\n",
              "}}\n",
              "\n",
              "                        })\n",
              "                };\n",
              "                \n",
              "            </script>\n",
              "        </div>\n",
              "</body>\n",
              "</html>"
            ]
          },
          "metadata": {
            "tags": []
          }
        },
        {
          "output_type": "display_data",
          "data": {
            "text/html": [
              "<html>\n",
              "<head><meta charset=\"utf-8\" /></head>\n",
              "<body>\n",
              "    <div>\n",
              "            <script src=\"https://cdnjs.cloudflare.com/ajax/libs/mathjax/2.7.5/MathJax.js?config=TeX-AMS-MML_SVG\"></script><script type=\"text/javascript\">if (window.MathJax) {MathJax.Hub.Config({SVG: {font: \"STIX-Web\"}});}</script>\n",
              "                <script type=\"text/javascript\">window.PlotlyConfig = {MathJaxConfig: 'local'};</script>\n",
              "        <script src=\"https://cdn.plot.ly/plotly-latest.min.js\"></script>    \n",
              "            <div id=\"88c30091-d38d-489b-a63f-616cabe431b1\" class=\"plotly-graph-div\" style=\"height:400px; width:1700px;\"></div>\n",
              "            <script type=\"text/javascript\">\n",
              "                \n",
              "                    window.PLOTLYENV=window.PLOTLYENV || {};\n",
              "                    \n",
              "                if (document.getElementById(\"88c30091-d38d-489b-a63f-616cabe431b1\")) {\n",
              "                    Plotly.newPlot(\n",
              "                        '88c30091-d38d-489b-a63f-616cabe431b1',\n",
              "                        [{\"mode\": \"lines+markers\", \"name\": \"mean\", \"type\": \"scatter\", \"x\": [\"2019-01-11T00:00:00\", \"2019-01-22T00:00:00\", \"2019-01-26T00:00:00\", \"2019-01-31T00:00:00\", \"2019-02-11T00:00:00\", \"2019-02-22T00:00:00\", \"2019-02-27T00:00:00\", \"2019-03-07T00:00:00\", \"2019-03-15T00:00:00\", \"2019-04-05T00:00:00\", \"2019-04-16T00:00:00\", \"2019-05-27T00:00:00\", \"2019-06-03T00:00:00\", \"2019-06-10T00:00:00\", \"2019-06-17T00:00:00\", \"2019-06-25T00:00:00\", \"2019-06-28T00:00:00\", \"2019-08-07T00:00:00\", \"2019-08-19T00:00:00\", \"2019-08-26T00:00:00\", \"2019-09-05T00:00:00\", \"2019-10-17T00:00:00\", \"2019-11-01T00:00:00\", \"2019-11-13T00:00:00\", \"2019-12-05T00:00:00\", \"2019-12-10T00:00:00\", \"2019-12-26T00:00:00\", \"2019-12-31T00:00:00\"], \"xaxis\": \"x\", \"y\": [0.31, 0.311, 0.311, 0.311, 0.312, 0.312, 0.311, 0.311, 0.312, 0.311, 0.313, 0.313, 0.313, 0.311, 0.313, 0.316, 0.316, 0.313, 0.313, 0.313, 0.316, 0.313, 0.313, 0.315, 0.308, 0.311, 0.312, 0.313], \"yaxis\": \"y\"}, {\"name\": \"USL\", \"type\": \"scatter\", \"x\": [\"2019-01-11T00:00:00\", \"2019-01-22T00:00:00\", \"2019-01-26T00:00:00\", \"2019-01-31T00:00:00\", \"2019-02-11T00:00:00\", \"2019-02-22T00:00:00\", \"2019-02-27T00:00:00\", \"2019-03-07T00:00:00\", \"2019-03-15T00:00:00\", \"2019-04-05T00:00:00\", \"2019-04-16T00:00:00\", \"2019-05-27T00:00:00\", \"2019-06-03T00:00:00\", \"2019-06-10T00:00:00\", \"2019-06-17T00:00:00\", \"2019-06-25T00:00:00\", \"2019-06-28T00:00:00\", \"2019-08-07T00:00:00\", \"2019-08-19T00:00:00\", \"2019-08-26T00:00:00\", \"2019-09-05T00:00:00\", \"2019-10-17T00:00:00\", \"2019-11-01T00:00:00\", \"2019-11-13T00:00:00\", \"2019-12-05T00:00:00\", \"2019-12-10T00:00:00\", \"2019-12-26T00:00:00\", \"2019-12-31T00:00:00\"], \"xaxis\": \"x\", \"y\": [0.32, 0.32, 0.32, 0.32, 0.32, 0.32, 0.32, 0.32, 0.32, 0.32, 0.32, 0.32, 0.32, 0.32, 0.32, 0.32, 0.32, 0.32, 0.32, 0.32, 0.32, 0.32, 0.32, 0.32, 0.32, 0.32, 0.32, 0.32], \"yaxis\": \"y\"}, {\"name\": \"LSL\", \"type\": \"scatter\", \"x\": [\"2019-01-11T00:00:00\", \"2019-01-22T00:00:00\", \"2019-01-26T00:00:00\", \"2019-01-31T00:00:00\", \"2019-02-11T00:00:00\", \"2019-02-22T00:00:00\", \"2019-02-27T00:00:00\", \"2019-03-07T00:00:00\", \"2019-03-15T00:00:00\", \"2019-04-05T00:00:00\", \"2019-04-16T00:00:00\", \"2019-05-27T00:00:00\", \"2019-06-03T00:00:00\", \"2019-06-10T00:00:00\", \"2019-06-17T00:00:00\", \"2019-06-25T00:00:00\", \"2019-06-28T00:00:00\", \"2019-08-07T00:00:00\", \"2019-08-19T00:00:00\", \"2019-08-26T00:00:00\", \"2019-09-05T00:00:00\", \"2019-10-17T00:00:00\", \"2019-11-01T00:00:00\", \"2019-11-13T00:00:00\", \"2019-12-05T00:00:00\", \"2019-12-10T00:00:00\", \"2019-12-26T00:00:00\", \"2019-12-31T00:00:00\"], \"xaxis\": \"x\", \"y\": [0.28, 0.28, 0.28, 0.28, 0.28, 0.28, 0.28, 0.28, 0.28, 0.28, 0.28, 0.28, 0.28, 0.28, 0.28, 0.28, 0.28, 0.28, 0.28, 0.28, 0.28, 0.28, 0.28, 0.28, 0.28, 0.28, 0.28, 0.28], \"yaxis\": \"y\"}, {\"name\": \"Nominal\", \"type\": \"scatter\", \"x\": [\"2019-01-11T00:00:00\", \"2019-01-22T00:00:00\", \"2019-01-26T00:00:00\", \"2019-01-31T00:00:00\", \"2019-02-11T00:00:00\", \"2019-02-22T00:00:00\", \"2019-02-27T00:00:00\", \"2019-03-07T00:00:00\", \"2019-03-15T00:00:00\", \"2019-04-05T00:00:00\", \"2019-04-16T00:00:00\", \"2019-05-27T00:00:00\", \"2019-06-03T00:00:00\", \"2019-06-10T00:00:00\", \"2019-06-17T00:00:00\", \"2019-06-25T00:00:00\", \"2019-06-28T00:00:00\", \"2019-08-07T00:00:00\", \"2019-08-19T00:00:00\", \"2019-08-26T00:00:00\", \"2019-09-05T00:00:00\", \"2019-10-17T00:00:00\", \"2019-11-01T00:00:00\", \"2019-11-13T00:00:00\", \"2019-12-05T00:00:00\", \"2019-12-10T00:00:00\", \"2019-12-26T00:00:00\", \"2019-12-31T00:00:00\"], \"xaxis\": \"x\", \"y\": [0.3, 0.3, 0.3, 0.3, 0.3, 0.3, 0.3, 0.3, 0.3, 0.3, 0.3, 0.3, 0.3, 0.3, 0.3, 0.3, 0.3, 0.3, 0.3, 0.3, 0.3, 0.3, 0.3, 0.3, 0.3, 0.3, 0.3, 0.3], \"yaxis\": \"y\"}, {\"marker\": {\"color\": \"#EB89B5\"}, \"name\": \"Histogram\", \"opacity\": 0.75, \"type\": \"histogram\", \"xaxis\": \"x2\", \"y\": [0.31, 0.31, 0.31, 0.311, 0.31, 0.311, 0.311, 0.311, 0.31, 0.311, 0.311, 0.311, 0.311, 0.311, 0.312, 0.311, 0.313, 0.311, 0.311, 0.311, 0.311, 0.312, 0.311, 0.313, 0.312, 0.31, 0.31, 0.312, 0.313, 0.313, 0.311, 0.311, 0.311, 0.312, 0.312, 0.31, 0.312, 0.312, 0.311, 0.311, 0.311, 0.311, 0.311, 0.313, 0.313, 0.31, 0.311, 0.31, 0.31, 0.313, 0.313, 0.312, 0.314, 0.31, 0.311, 0.313, 0.311, 0.314, 0.314, 0.315, 0.313, 0.312, 0.311, 0.313, 0.316, 0.314, 0.315, 0.311, 0.31, 0.313, 0.312, 0.31, 0.312, 0.311, 0.311, 0.313, 0.31, 0.313, 0.314, 0.314, 0.315, 0.315, 0.318, 0.318, 0.316, 0.312, 0.315, 0.319, 0.316, 0.316, 0.312, 0.316, 0.312, 0.313, 0.314, 0.311, 0.313, 0.312, 0.314, 0.314, 0.311, 0.314, 0.313, 0.314, 0.312, 0.317, 0.316, 0.316, 0.316, 0.316, 0.311, 0.313, 0.312, 0.314, 0.314, 0.313, 0.313, 0.313, 0.314, 0.313, 0.316, 0.315, 0.315, 0.315, 0.315, 0.308, 0.307, 0.308, 0.309, 0.308, 0.311, 0.313, 0.31, 0.312, 0.311, 0.312, 0.313, 0.312, 0.312, 0.313, 0.313, 0.312, 0.313, 0.314, 0.312], \"yaxis\": \"y2\"}],\n",
              "                        {\"annotations\": [{\"font\": {\"size\": 16}, \"showarrow\": false, \"text\": \"Line and box plot Z\", \"x\": 0.36000000000000004, \"xanchor\": \"center\", \"xref\": \"paper\", \"y\": 1.0, \"yanchor\": \"bottom\", \"yref\": \"paper\"}, {\"font\": {\"size\": 16}, \"showarrow\": false, \"text\": \"Histogram\", \"x\": 0.91, \"xanchor\": \"center\", \"xref\": \"paper\", \"y\": 1.0, \"yanchor\": \"bottom\", \"yref\": \"paper\"}], \"height\": 400, \"template\": {\"data\": {\"bar\": [{\"error_x\": {\"color\": \"#2a3f5f\"}, \"error_y\": {\"color\": \"#2a3f5f\"}, \"marker\": {\"line\": {\"color\": \"#E5ECF6\", \"width\": 0.5}}, \"type\": \"bar\"}], \"barpolar\": [{\"marker\": {\"line\": {\"color\": \"#E5ECF6\", \"width\": 0.5}}, \"type\": \"barpolar\"}], \"carpet\": [{\"aaxis\": {\"endlinecolor\": \"#2a3f5f\", \"gridcolor\": \"white\", \"linecolor\": \"white\", \"minorgridcolor\": \"white\", \"startlinecolor\": \"#2a3f5f\"}, \"baxis\": {\"endlinecolor\": \"#2a3f5f\", \"gridcolor\": \"white\", \"linecolor\": \"white\", \"minorgridcolor\": \"white\", \"startlinecolor\": \"#2a3f5f\"}, \"type\": \"carpet\"}], \"choropleth\": [{\"colorbar\": {\"outlinewidth\": 0, \"ticks\": \"\"}, \"type\": \"choropleth\"}], \"contour\": [{\"colorbar\": {\"outlinewidth\": 0, \"ticks\": \"\"}, \"colorscale\": [[0.0, \"#0d0887\"], [0.1111111111111111, \"#46039f\"], [0.2222222222222222, \"#7201a8\"], [0.3333333333333333, \"#9c179e\"], [0.4444444444444444, \"#bd3786\"], [0.5555555555555556, \"#d8576b\"], [0.6666666666666666, \"#ed7953\"], [0.7777777777777778, \"#fb9f3a\"], [0.8888888888888888, \"#fdca26\"], [1.0, \"#f0f921\"]], \"type\": \"contour\"}], \"contourcarpet\": [{\"colorbar\": {\"outlinewidth\": 0, \"ticks\": \"\"}, \"type\": \"contourcarpet\"}], \"heatmap\": [{\"colorbar\": {\"outlinewidth\": 0, \"ticks\": \"\"}, \"colorscale\": [[0.0, \"#0d0887\"], [0.1111111111111111, \"#46039f\"], [0.2222222222222222, \"#7201a8\"], [0.3333333333333333, \"#9c179e\"], [0.4444444444444444, \"#bd3786\"], [0.5555555555555556, \"#d8576b\"], [0.6666666666666666, \"#ed7953\"], [0.7777777777777778, \"#fb9f3a\"], [0.8888888888888888, \"#fdca26\"], [1.0, \"#f0f921\"]], \"type\": \"heatmap\"}], \"heatmapgl\": [{\"colorbar\": {\"outlinewidth\": 0, \"ticks\": \"\"}, \"colorscale\": [[0.0, \"#0d0887\"], [0.1111111111111111, \"#46039f\"], [0.2222222222222222, \"#7201a8\"], [0.3333333333333333, \"#9c179e\"], [0.4444444444444444, \"#bd3786\"], [0.5555555555555556, \"#d8576b\"], [0.6666666666666666, \"#ed7953\"], [0.7777777777777778, \"#fb9f3a\"], [0.8888888888888888, \"#fdca26\"], [1.0, \"#f0f921\"]], \"type\": \"heatmapgl\"}], \"histogram\": [{\"marker\": {\"colorbar\": {\"outlinewidth\": 0, \"ticks\": \"\"}}, \"type\": \"histogram\"}], \"histogram2d\": [{\"colorbar\": {\"outlinewidth\": 0, \"ticks\": \"\"}, \"colorscale\": [[0.0, \"#0d0887\"], [0.1111111111111111, \"#46039f\"], [0.2222222222222222, \"#7201a8\"], [0.3333333333333333, \"#9c179e\"], [0.4444444444444444, \"#bd3786\"], [0.5555555555555556, \"#d8576b\"], [0.6666666666666666, \"#ed7953\"], [0.7777777777777778, \"#fb9f3a\"], [0.8888888888888888, \"#fdca26\"], [1.0, \"#f0f921\"]], \"type\": \"histogram2d\"}], \"histogram2dcontour\": [{\"colorbar\": {\"outlinewidth\": 0, \"ticks\": \"\"}, \"colorscale\": [[0.0, \"#0d0887\"], [0.1111111111111111, \"#46039f\"], [0.2222222222222222, \"#7201a8\"], [0.3333333333333333, \"#9c179e\"], [0.4444444444444444, \"#bd3786\"], [0.5555555555555556, \"#d8576b\"], [0.6666666666666666, \"#ed7953\"], [0.7777777777777778, \"#fb9f3a\"], [0.8888888888888888, \"#fdca26\"], [1.0, \"#f0f921\"]], \"type\": \"histogram2dcontour\"}], \"mesh3d\": [{\"colorbar\": {\"outlinewidth\": 0, \"ticks\": \"\"}, \"type\": \"mesh3d\"}], \"parcoords\": [{\"line\": {\"colorbar\": {\"outlinewidth\": 0, \"ticks\": \"\"}}, \"type\": \"parcoords\"}], \"pie\": [{\"automargin\": true, \"type\": \"pie\"}], \"scatter\": [{\"marker\": {\"colorbar\": {\"outlinewidth\": 0, \"ticks\": \"\"}}, \"type\": \"scatter\"}], \"scatter3d\": [{\"line\": {\"colorbar\": {\"outlinewidth\": 0, \"ticks\": \"\"}}, \"marker\": {\"colorbar\": {\"outlinewidth\": 0, \"ticks\": \"\"}}, \"type\": \"scatter3d\"}], \"scattercarpet\": [{\"marker\": {\"colorbar\": {\"outlinewidth\": 0, \"ticks\": \"\"}}, \"type\": \"scattercarpet\"}], \"scattergeo\": [{\"marker\": {\"colorbar\": {\"outlinewidth\": 0, \"ticks\": \"\"}}, \"type\": \"scattergeo\"}], \"scattergl\": [{\"marker\": {\"colorbar\": {\"outlinewidth\": 0, \"ticks\": \"\"}}, \"type\": \"scattergl\"}], \"scattermapbox\": [{\"marker\": {\"colorbar\": {\"outlinewidth\": 0, \"ticks\": \"\"}}, \"type\": \"scattermapbox\"}], \"scatterpolar\": [{\"marker\": {\"colorbar\": {\"outlinewidth\": 0, \"ticks\": \"\"}}, \"type\": \"scatterpolar\"}], \"scatterpolargl\": [{\"marker\": {\"colorbar\": {\"outlinewidth\": 0, \"ticks\": \"\"}}, \"type\": \"scatterpolargl\"}], \"scatterternary\": [{\"marker\": {\"colorbar\": {\"outlinewidth\": 0, \"ticks\": \"\"}}, \"type\": \"scatterternary\"}], \"surface\": [{\"colorbar\": {\"outlinewidth\": 0, \"ticks\": \"\"}, \"colorscale\": [[0.0, \"#0d0887\"], [0.1111111111111111, \"#46039f\"], [0.2222222222222222, \"#7201a8\"], [0.3333333333333333, \"#9c179e\"], [0.4444444444444444, \"#bd3786\"], [0.5555555555555556, \"#d8576b\"], [0.6666666666666666, \"#ed7953\"], [0.7777777777777778, \"#fb9f3a\"], [0.8888888888888888, \"#fdca26\"], [1.0, \"#f0f921\"]], \"type\": \"surface\"}], \"table\": [{\"cells\": {\"fill\": {\"color\": \"#EBF0F8\"}, \"line\": {\"color\": \"white\"}}, \"header\": {\"fill\": {\"color\": \"#C8D4E3\"}, \"line\": {\"color\": \"white\"}}, \"type\": \"table\"}]}, \"layout\": {\"annotationdefaults\": {\"arrowcolor\": \"#2a3f5f\", \"arrowhead\": 0, \"arrowwidth\": 1}, \"coloraxis\": {\"colorbar\": {\"outlinewidth\": 0, \"ticks\": \"\"}}, \"colorscale\": {\"diverging\": [[0, \"#8e0152\"], [0.1, \"#c51b7d\"], [0.2, \"#de77ae\"], [0.3, \"#f1b6da\"], [0.4, \"#fde0ef\"], [0.5, \"#f7f7f7\"], [0.6, \"#e6f5d0\"], [0.7, \"#b8e186\"], [0.8, \"#7fbc41\"], [0.9, \"#4d9221\"], [1, \"#276419\"]], \"sequential\": [[0.0, \"#0d0887\"], [0.1111111111111111, \"#46039f\"], [0.2222222222222222, \"#7201a8\"], [0.3333333333333333, \"#9c179e\"], [0.4444444444444444, \"#bd3786\"], [0.5555555555555556, \"#d8576b\"], [0.6666666666666666, \"#ed7953\"], [0.7777777777777778, \"#fb9f3a\"], [0.8888888888888888, \"#fdca26\"], [1.0, \"#f0f921\"]], \"sequentialminus\": [[0.0, \"#0d0887\"], [0.1111111111111111, \"#46039f\"], [0.2222222222222222, \"#7201a8\"], [0.3333333333333333, \"#9c179e\"], [0.4444444444444444, \"#bd3786\"], [0.5555555555555556, \"#d8576b\"], [0.6666666666666666, \"#ed7953\"], [0.7777777777777778, \"#fb9f3a\"], [0.8888888888888888, \"#fdca26\"], [1.0, \"#f0f921\"]]}, \"colorway\": [\"#636efa\", \"#EF553B\", \"#00cc96\", \"#ab63fa\", \"#FFA15A\", \"#19d3f3\", \"#FF6692\", \"#B6E880\", \"#FF97FF\", \"#FECB52\"], \"font\": {\"color\": \"#2a3f5f\"}, \"geo\": {\"bgcolor\": \"white\", \"lakecolor\": \"white\", \"landcolor\": \"#E5ECF6\", \"showlakes\": true, \"showland\": true, \"subunitcolor\": \"white\"}, \"hoverlabel\": {\"align\": \"left\"}, \"hovermode\": \"closest\", \"mapbox\": {\"style\": \"light\"}, \"paper_bgcolor\": \"white\", \"plot_bgcolor\": \"#E5ECF6\", \"polar\": {\"angularaxis\": {\"gridcolor\": \"white\", \"linecolor\": \"white\", \"ticks\": \"\"}, \"bgcolor\": \"#E5ECF6\", \"radialaxis\": {\"gridcolor\": \"white\", \"linecolor\": \"white\", \"ticks\": \"\"}}, \"scene\": {\"xaxis\": {\"backgroundcolor\": \"#E5ECF6\", \"gridcolor\": \"white\", \"gridwidth\": 2, \"linecolor\": \"white\", \"showbackground\": true, \"ticks\": \"\", \"zerolinecolor\": \"white\"}, \"yaxis\": {\"backgroundcolor\": \"#E5ECF6\", \"gridcolor\": \"white\", \"gridwidth\": 2, \"linecolor\": \"white\", \"showbackground\": true, \"ticks\": \"\", \"zerolinecolor\": \"white\"}, \"zaxis\": {\"backgroundcolor\": \"#E5ECF6\", \"gridcolor\": \"white\", \"gridwidth\": 2, \"linecolor\": \"white\", \"showbackground\": true, \"ticks\": \"\", \"zerolinecolor\": \"white\"}}, \"shapedefaults\": {\"line\": {\"color\": \"#2a3f5f\"}}, \"ternary\": {\"aaxis\": {\"gridcolor\": \"white\", \"linecolor\": \"white\", \"ticks\": \"\"}, \"baxis\": {\"gridcolor\": \"white\", \"linecolor\": \"white\", \"ticks\": \"\"}, \"bgcolor\": \"#E5ECF6\", \"caxis\": {\"gridcolor\": \"white\", \"linecolor\": \"white\", \"ticks\": \"\"}}, \"title\": {\"x\": 0.05}, \"xaxis\": {\"automargin\": true, \"gridcolor\": \"white\", \"linecolor\": \"white\", \"ticks\": \"\", \"title\": {\"standoff\": 15}, \"zerolinecolor\": \"white\", \"zerolinewidth\": 2}, \"yaxis\": {\"automargin\": true, \"gridcolor\": \"white\", \"linecolor\": \"white\", \"ticks\": \"\", \"title\": {\"standoff\": 15}, \"zerolinecolor\": \"white\", \"zerolinewidth\": 2}}}, \"width\": 1700, \"xaxis\": {\"anchor\": \"y\", \"domain\": [0.0, 0.7200000000000001]}, \"xaxis2\": {\"anchor\": \"y2\", \"domain\": [0.8200000000000001, 1.0]}, \"yaxis\": {\"anchor\": \"x\", \"domain\": [0.0, 1.0]}, \"yaxis2\": {\"anchor\": \"x2\", \"domain\": [0.0, 1.0]}},\n",
              "                        {\"responsive\": true}\n",
              "                    ).then(function(){\n",
              "                            \n",
              "var gd = document.getElementById('88c30091-d38d-489b-a63f-616cabe431b1');\n",
              "var x = new MutationObserver(function (mutations, observer) {{\n",
              "        var display = window.getComputedStyle(gd).display;\n",
              "        if (!display || display === 'none') {{\n",
              "            console.log([gd, 'removed!']);\n",
              "            Plotly.purge(gd);\n",
              "            observer.disconnect();\n",
              "        }}\n",
              "}});\n",
              "\n",
              "// Listen for the removal of the full notebook cells\n",
              "var notebookContainer = gd.closest('#notebook-container');\n",
              "if (notebookContainer) {{\n",
              "    x.observe(notebookContainer, {childList: true});\n",
              "}}\n",
              "\n",
              "// Listen for the clearing of the current output cell\n",
              "var outputEl = gd.closest('.output');\n",
              "if (outputEl) {{\n",
              "    x.observe(outputEl, {childList: true});\n",
              "}}\n",
              "\n",
              "                        })\n",
              "                };\n",
              "                \n",
              "            </script>\n",
              "        </div>\n",
              "</body>\n",
              "</html>"
            ]
          },
          "metadata": {
            "tags": []
          }
        }
      ]
    }
  ]
}