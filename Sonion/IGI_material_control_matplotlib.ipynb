{
  "nbformat": 4,
  "nbformat_minor": 0,
  "metadata": {
    "kernelspec": {
      "name": "python3",
      "display_name": "Python 3",
      "language": "python"
    },
    "language_info": {
      "mimetype": "text/x-python",
      "nbconvert_exporter": "python",
      "name": "python",
      "pygments_lexer": "ipython3",
      "version": "3.5.4",
      "file_extension": ".py",
      "codemirror_mode": {
        "version": 3,
        "name": "ipython"
      }
    },
    "colab": {
      "name": "IGI material control matplotlib.ipynb",
      "provenance": [],
      "collapsed_sections": [],
      "include_colab_link": true
    }
  },
  "cells": [
    {
      "cell_type": "markdown",
      "metadata": {
        "id": "view-in-github",
        "colab_type": "text"
      },
      "source": [
        "<a href=\"https://colab.research.google.com/github/duybluemind1988/Data-science/blob/master/IGI_material_control_matplotlib.ipynb\" target=\"_parent\"><img src=\"https://colab.research.google.com/assets/colab-badge.svg\" alt=\"Open In Colab\"/></a>"
      ]
    },
    {
      "cell_type": "code",
      "metadata": {
        "jupyter": {},
        "trusted": false,
        "id": "2TNQ3e-OZ7ll",
        "colab_type": "code",
        "colab": {
          "base_uri": "https://localhost:8080/",
          "height": 71
        },
        "outputId": "8d8af265-ac4d-4bc4-e9a1-588a407a0fae"
      },
      "source": [
        "import seaborn as sns; sns.set()\n",
        "import pandas as pd\n",
        "import numpy as np\n",
        "import matplotlib.pyplot as plt"
      ],
      "execution_count": null,
      "outputs": [
        {
          "output_type": "stream",
          "text": [
            "/usr/local/lib/python3.6/dist-packages/statsmodels/tools/_testing.py:19: FutureWarning: pandas.util.testing is deprecated. Use the functions in the public API at pandas.testing instead.\n",
            "  import pandas.util.testing as tm\n"
          ],
          "name": "stderr"
        }
      ]
    },
    {
      "cell_type": "code",
      "metadata": {
        "id": "l671PYV7CejX",
        "colab_type": "code",
        "colab": {
          "base_uri": "https://localhost:8080/",
          "height": 54
        },
        "outputId": "bfeb74ce-313c-4649-e99d-26b3519ce03c"
      },
      "source": [
        "from google.colab import drive\n",
        "drive.mount('/content/drive')"
      ],
      "execution_count": null,
      "outputs": [
        {
          "output_type": "stream",
          "text": [
            "Drive already mounted at /content/drive; to attempt to forcibly remount, call drive.mount(\"/content/drive\", force_remount=True).\n"
          ],
          "name": "stdout"
        }
      ]
    },
    {
      "cell_type": "code",
      "metadata": {
        "jupyter": {},
        "scrolled": true,
        "trusted": false,
        "id": "VuwXOx_IZ7lx",
        "colab_type": "code",
        "colab": {
          "base_uri": "https://localhost:8080/",
          "height": 34
        },
        "outputId": "3d1475e7-5433-45f1-a1e3-115c8dcbacc4"
      },
      "source": [
        "import os\n",
        "os.getcwd()"
      ],
      "execution_count": null,
      "outputs": [
        {
          "output_type": "execute_result",
          "data": {
            "text/plain": [
              "'/content'"
            ]
          },
          "metadata": {
            "tags": []
          },
          "execution_count": 4
        }
      ]
    },
    {
      "cell_type": "code",
      "metadata": {
        "jupyter": {},
        "trusted": false,
        "id": "UpKpM4btZ7l8",
        "colab_type": "code",
        "colab": {}
      },
      "source": [
        "path='/content/drive/My Drive/Data science/Sonion project/IGI material/'\n",
        "#path='D:/Cong Ty/Sonion/Quan ly Sonion/Cong viec/3. Six sigma/IGI material control/Membrane/'"
      ],
      "execution_count": null,
      "outputs": []
    },
    {
      "cell_type": "code",
      "metadata": {
        "jupyter": {},
        "trusted": false,
        "id": "rCakPUUoZ7mE",
        "colab_type": "code",
        "colab": {}
      },
      "source": [
        "file = pd.read_excel(path + '19ZST190104001 50202-3011026 Membrane diaphragm 3000S IGIR-03341.xlsx')"
      ],
      "execution_count": null,
      "outputs": []
    },
    {
      "cell_type": "code",
      "metadata": {
        "jupyter": {},
        "scrolled": true,
        "trusted": false,
        "id": "HSkBrw_cZ7mM",
        "colab_type": "code",
        "colab": {}
      },
      "source": [
        "#file.to_excel(path + 'DNN.xlsx')"
      ],
      "execution_count": null,
      "outputs": []
    },
    {
      "cell_type": "code",
      "metadata": {
        "jupyter": {},
        "scrolled": true,
        "trusted": false,
        "id": "KI6In7X4Z7mT",
        "colab_type": "code",
        "colab": {
          "base_uri": "https://localhost:8080/",
          "height": 119
        },
        "outputId": "92b06daf-af24-4567-bacb-b7338a05389c"
      },
      "source": [
        "file.columns"
      ],
      "execution_count": null,
      "outputs": [
        {
          "output_type": "execute_result",
          "data": {
            "text/plain": [
              "Index(['Unnamed: 0', 'Unnamed: 1', 'Unnamed: 2', 'Unnamed: 3', 'Unnamed: 4',\n",
              "       'Unnamed: 5', 'Unnamed: 6', 'Unnamed: 7', 'Unnamed: 8', 'Unnamed: 9',\n",
              "       'Unnamed: 10', 'Unnamed: 11', 'Unnamed: 12', 'Unnamed: 13',\n",
              "       'Unnamed: 14', 'Unnamed: 15', 'Unnamed: 16', 'Unnamed: 17',\n",
              "       'Unnamed: 18', 'Unnamed: 19'],\n",
              "      dtype='object')"
            ]
          },
          "metadata": {
            "tags": []
          },
          "execution_count": 8
        }
      ]
    },
    {
      "cell_type": "code",
      "metadata": {
        "jupyter": {},
        "trusted": false,
        "id": "C2xTC6uAZ7mb",
        "colab_type": "code",
        "colab": {}
      },
      "source": [
        "import glob"
      ],
      "execution_count": null,
      "outputs": []
    },
    {
      "cell_type": "code",
      "metadata": {
        "jupyter": {},
        "trusted": false,
        "id": "erVEn72BZ7mk",
        "colab_type": "code",
        "colab": {
          "base_uri": "https://localhost:8080/",
          "height": 34
        },
        "outputId": "9df9e6d8-6f3d-4a5a-e29d-a138a1a774fa"
      },
      "source": [
        "path"
      ],
      "execution_count": null,
      "outputs": [
        {
          "output_type": "execute_result",
          "data": {
            "text/plain": [
              "'/content/drive/My Drive/Data science/Sonion project/IGI material/'"
            ]
          },
          "metadata": {
            "tags": []
          },
          "execution_count": 10
        }
      ]
    },
    {
      "cell_type": "markdown",
      "metadata": {
        "id": "GeUqOy88Hx1k",
        "colab_type": "text"
      },
      "source": [
        "### Study time format of excel file"
      ]
    },
    {
      "cell_type": "code",
      "metadata": {
        "id": "orvVWErfEnqS",
        "colab_type": "code",
        "colab": {
          "base_uri": "https://localhost:8080/",
          "height": 102
        },
        "outputId": "2b7778d1-0e91-4f49-c4e0-33eb408299ae"
      },
      "source": [
        "a=file[['Unnamed: 7']][2:3]\n",
        "print(a)\n",
        "print(type(a))\n",
        "a.dtypes"
      ],
      "execution_count": null,
      "outputs": [
        {
          "output_type": "stream",
          "text": [
            "            Unnamed: 7\n",
            "2  2019-01-11 00:00:00\n",
            "<class 'pandas.core.frame.DataFrame'>\n"
          ],
          "name": "stdout"
        },
        {
          "output_type": "execute_result",
          "data": {
            "text/plain": [
              "Unnamed: 7    object\n",
              "dtype: object"
            ]
          },
          "metadata": {
            "tags": []
          },
          "execution_count": 11
        }
      ]
    },
    {
      "cell_type": "code",
      "metadata": {
        "id": "bIIH8WrnF_Sq",
        "colab_type": "code",
        "colab": {
          "base_uri": "https://localhost:8080/",
          "height": 51
        },
        "outputId": "b6eb116a-8c32-4f66-aad7-ac808fc1dd10"
      },
      "source": [
        "c=a.values[0][0]\n",
        "print(c)\n",
        "print(type(c))"
      ],
      "execution_count": null,
      "outputs": [
        {
          "output_type": "stream",
          "text": [
            "2019-01-11 00:00:00\n",
            "<class 'datetime.datetime'>\n"
          ],
          "name": "stdout"
        }
      ]
    },
    {
      "cell_type": "code",
      "metadata": {
        "id": "XUmqtpy6G-PZ",
        "colab_type": "code",
        "colab": {
          "base_uri": "https://localhost:8080/",
          "height": 34
        },
        "outputId": "67ebbffb-f0d8-4ca7-dae8-0f2c61627120"
      },
      "source": [
        "c.year"
      ],
      "execution_count": null,
      "outputs": [
        {
          "output_type": "execute_result",
          "data": {
            "text/plain": [
              "2019"
            ]
          },
          "metadata": {
            "tags": []
          },
          "execution_count": 13
        }
      ]
    },
    {
      "cell_type": "markdown",
      "metadata": {
        "id": "Y2HlTJydH52E",
        "colab_type": "text"
      },
      "source": [
        "### read all excel file and sort  by day"
      ]
    },
    {
      "cell_type": "code",
      "metadata": {
        "jupyter": {},
        "trusted": false,
        "id": "uy2s1BEDZ7mr",
        "colab_type": "code",
        "colab": {
          "base_uri": "https://localhost:8080/",
          "height": 34
        },
        "outputId": "ad3d8a31-4f14-47de-bc28-3b0f355d210b"
      },
      "source": [
        "all_files=glob.glob(path + '*.xlsx')\n",
        "#sort file in directory by reverse:\n",
        "all_files = sorted(all_files, reverse = False)\n",
        "print('number of files: ',len(all_files))"
      ],
      "execution_count": null,
      "outputs": [
        {
          "output_type": "stream",
          "text": [
            "number of files:  29\n"
          ],
          "name": "stdout"
        }
      ]
    },
    {
      "cell_type": "markdown",
      "metadata": {
        "id": "2f5dUwV1ISOF",
        "colab_type": "text"
      },
      "source": [
        "### add all dataframe to list of dataframe:"
      ]
    },
    {
      "cell_type": "code",
      "metadata": {
        "id": "CAyq344uIHIQ",
        "colab_type": "code",
        "colab": {
          "base_uri": "https://localhost:8080/",
          "height": 453
        },
        "outputId": "0281eab8-ffd6-4b16-ce2c-4a444f23bf82"
      },
      "source": [
        "print('Please input number of feature')\n",
        "feature_num=5\n",
        "print('Please input number of sample inspection')\n",
        "sample_num=5\n",
        "finaldf=pd.DataFrame()\n",
        "for filename in all_files:\n",
        "    df = pd.read_excel(filename, index_col = None, header = 0)\n",
        "    #Create data frame feature values(newdf)\n",
        "    newdf=pd.DataFrame()\n",
        "    for i in range(feature_num+1)[1:]:\n",
        "      df_feature= df['Unnamed: '+str(i)][19:24]\n",
        "      df_feature=df_feature.reset_index(drop=True)\n",
        "      newdf=pd.concat([newdf,df_feature],axis=1)\n",
        "    #print(newdf)  \n",
        "\n",
        "    #Date transform:\n",
        "    a=df[['Unnamed: 7']][2:3] #object type\n",
        "    date = a.values[0][0] #timestamp type\n",
        "    #Create series date column (row = number of value to record, default = 5)\n",
        "    date=pd.Series(date)\n",
        "    datedf=pd.DataFrame()\n",
        "    for i in range(sample_num):\n",
        "      datedf=pd.concat([datedf,date],axis=0)\n",
        "\n",
        "    datedf.reset_index(drop=True, inplace=True)\n",
        "    newdf.reset_index(drop=True, inplace=True)\n",
        "    df_combine=pd.concat([datedf,newdf],axis=1) # combine date and features\n",
        "\n",
        "    #combine all df each filename:\n",
        "    \n",
        "    finaldf=pd.concat([finaldf,df_combine],axis=0)\n",
        "\n",
        "finaldf.reset_index(drop=True,inplace=True)\n",
        "finaldf.columns=['Datef','C-Pitch','J','I','O','Z']\n",
        "for name in finaldf.columns[1:]:\n",
        " finaldf[name]=finaldf[name].astype(float)\n",
        "finaldf   "
      ],
      "execution_count": null,
      "outputs": [
        {
          "output_type": "stream",
          "text": [
            "Please input number of feature\n",
            "Please input number of sample inspection\n"
          ],
          "name": "stdout"
        },
        {
          "output_type": "execute_result",
          "data": {
            "text/html": [
              "<div>\n",
              "<style scoped>\n",
              "    .dataframe tbody tr th:only-of-type {\n",
              "        vertical-align: middle;\n",
              "    }\n",
              "\n",
              "    .dataframe tbody tr th {\n",
              "        vertical-align: top;\n",
              "    }\n",
              "\n",
              "    .dataframe thead th {\n",
              "        text-align: right;\n",
              "    }\n",
              "</style>\n",
              "<table border=\"1\" class=\"dataframe\">\n",
              "  <thead>\n",
              "    <tr style=\"text-align: right;\">\n",
              "      <th></th>\n",
              "      <th>Datef</th>\n",
              "      <th>C-Pitch</th>\n",
              "      <th>J</th>\n",
              "      <th>I</th>\n",
              "      <th>O</th>\n",
              "      <th>Z</th>\n",
              "    </tr>\n",
              "  </thead>\n",
              "  <tbody>\n",
              "    <tr>\n",
              "      <th>0</th>\n",
              "      <td>2019-01-11</td>\n",
              "      <td>10.003</td>\n",
              "      <td>1.219</td>\n",
              "      <td>3.197</td>\n",
              "      <td>11.855</td>\n",
              "      <td>0.310</td>\n",
              "    </tr>\n",
              "    <tr>\n",
              "      <th>1</th>\n",
              "      <td>2019-01-11</td>\n",
              "      <td>10.005</td>\n",
              "      <td>1.219</td>\n",
              "      <td>3.190</td>\n",
              "      <td>11.855</td>\n",
              "      <td>0.310</td>\n",
              "    </tr>\n",
              "    <tr>\n",
              "      <th>2</th>\n",
              "      <td>2019-01-11</td>\n",
              "      <td>10.005</td>\n",
              "      <td>1.219</td>\n",
              "      <td>3.194</td>\n",
              "      <td>11.852</td>\n",
              "      <td>0.310</td>\n",
              "    </tr>\n",
              "    <tr>\n",
              "      <th>3</th>\n",
              "      <td>2019-01-11</td>\n",
              "      <td>10.002</td>\n",
              "      <td>1.218</td>\n",
              "      <td>3.198</td>\n",
              "      <td>11.855</td>\n",
              "      <td>0.311</td>\n",
              "    </tr>\n",
              "    <tr>\n",
              "      <th>4</th>\n",
              "      <td>2019-01-11</td>\n",
              "      <td>10.003</td>\n",
              "      <td>1.219</td>\n",
              "      <td>3.190</td>\n",
              "      <td>11.850</td>\n",
              "      <td>0.310</td>\n",
              "    </tr>\n",
              "    <tr>\n",
              "      <th>...</th>\n",
              "      <td>...</td>\n",
              "      <td>...</td>\n",
              "      <td>...</td>\n",
              "      <td>...</td>\n",
              "      <td>...</td>\n",
              "      <td>...</td>\n",
              "    </tr>\n",
              "    <tr>\n",
              "      <th>140</th>\n",
              "      <td>2019-12-31</td>\n",
              "      <td>9.991</td>\n",
              "      <td>1.218</td>\n",
              "      <td>3.199</td>\n",
              "      <td>11.850</td>\n",
              "      <td>0.313</td>\n",
              "    </tr>\n",
              "    <tr>\n",
              "      <th>141</th>\n",
              "      <td>2019-12-31</td>\n",
              "      <td>9.999</td>\n",
              "      <td>1.218</td>\n",
              "      <td>3.204</td>\n",
              "      <td>11.849</td>\n",
              "      <td>0.314</td>\n",
              "    </tr>\n",
              "    <tr>\n",
              "      <th>142</th>\n",
              "      <td>2019-12-31</td>\n",
              "      <td>10.003</td>\n",
              "      <td>1.219</td>\n",
              "      <td>3.202</td>\n",
              "      <td>11.847</td>\n",
              "      <td>0.313</td>\n",
              "    </tr>\n",
              "    <tr>\n",
              "      <th>143</th>\n",
              "      <td>2019-12-31</td>\n",
              "      <td>10.002</td>\n",
              "      <td>1.219</td>\n",
              "      <td>3.201</td>\n",
              "      <td>11.847</td>\n",
              "      <td>0.312</td>\n",
              "    </tr>\n",
              "    <tr>\n",
              "      <th>144</th>\n",
              "      <td>2019-12-31</td>\n",
              "      <td>10.002</td>\n",
              "      <td>1.218</td>\n",
              "      <td>3.201</td>\n",
              "      <td>11.848</td>\n",
              "      <td>0.312</td>\n",
              "    </tr>\n",
              "  </tbody>\n",
              "</table>\n",
              "<p>145 rows × 6 columns</p>\n",
              "</div>"
            ],
            "text/plain": [
              "         Datef  C-Pitch      J      I       O      Z\n",
              "0   2019-01-11   10.003  1.219  3.197  11.855  0.310\n",
              "1   2019-01-11   10.005  1.219  3.190  11.855  0.310\n",
              "2   2019-01-11   10.005  1.219  3.194  11.852  0.310\n",
              "3   2019-01-11   10.002  1.218  3.198  11.855  0.311\n",
              "4   2019-01-11   10.003  1.219  3.190  11.850  0.310\n",
              "..         ...      ...    ...    ...     ...    ...\n",
              "140 2019-12-31    9.991  1.218  3.199  11.850  0.313\n",
              "141 2019-12-31    9.999  1.218  3.204  11.849  0.314\n",
              "142 2019-12-31   10.003  1.219  3.202  11.847  0.313\n",
              "143 2019-12-31   10.002  1.219  3.201  11.847  0.312\n",
              "144 2019-12-31   10.002  1.218  3.201  11.848  0.312\n",
              "\n",
              "[145 rows x 6 columns]"
            ]
          },
          "metadata": {
            "tags": []
          },
          "execution_count": 15
        }
      ]
    },
    {
      "cell_type": "code",
      "metadata": {
        "id": "cudGc6fCSeCJ",
        "colab_type": "code",
        "colab": {
          "base_uri": "https://localhost:8080/",
          "height": 136
        },
        "outputId": "410d23f2-9b4f-491b-d515-875563d46e8a"
      },
      "source": [
        "finaldf.dtypes"
      ],
      "execution_count": null,
      "outputs": [
        {
          "output_type": "execute_result",
          "data": {
            "text/plain": [
              "Datef      datetime64[ns]\n",
              "C-Pitch           float64\n",
              "J                 float64\n",
              "I                 float64\n",
              "O                 float64\n",
              "Z                 float64\n",
              "dtype: object"
            ]
          },
          "metadata": {
            "tags": []
          },
          "execution_count": 16
        }
      ]
    },
    {
      "cell_type": "code",
      "metadata": {
        "jupyter": {},
        "trusted": false,
        "id": "MH1E6C7gZ7my",
        "colab_type": "code",
        "colab": {
          "base_uri": "https://localhost:8080/",
          "height": 102
        },
        "outputId": "73b78afa-aaff-41a6-da0f-218b6aaf25a2"
      },
      "source": [
        "#set up tolerance dict:USL,LSL,Nominal\n",
        "tolerance={}\n",
        "for column in file.columns[1:(feature_num+1)]:\n",
        "    tolerance[file[column][7]] =[file[column][9],file[column][10],file[column][15]]\n",
        "tolerance"
      ],
      "execution_count": null,
      "outputs": [
        {
          "output_type": "execute_result",
          "data": {
            "text/plain": [
              "{'C-Pitch': [10.01, 9.99, 10],\n",
              " 'I': [3.21, 3.1900000000000004, 3.2],\n",
              " 'J': [1.22, 1.21, 1.21],\n",
              " 'O': [11.86, 11.84, 11.85],\n",
              " 'Z': [0.32, 0.27999999999999997, 0.3]}"
            ]
          },
          "metadata": {
            "tags": []
          },
          "execution_count": 17
        }
      ]
    },
    {
      "cell_type": "code",
      "metadata": {
        "jupyter": {},
        "scrolled": true,
        "trusted": false,
        "id": "BFap3Cp4Z7m4",
        "colab_type": "code",
        "colab": {
          "base_uri": "https://localhost:8080/",
          "height": 442
        },
        "outputId": "2f96410e-8273-4b61-d405-b07abdec59c6"
      },
      "source": [
        "#Create list of dataframe, combine feature value and USL,LSL, Nominal\n",
        "DFdict={}\n",
        "for name in finaldf.columns[1:]:\n",
        "    print('Chart: ',name)\n",
        "        \n",
        "    #Create series USL:\n",
        "    USL = tolerance[name][0]\n",
        "    USL=pd.Series(USL)\n",
        "    s1=pd.DataFrame()\n",
        "    for i in range(len(finaldf)):\n",
        "      s1=pd.concat([s1,USL],axis=0)\n",
        "    s1.rename(columns={0:'USL'},inplace=True)\n",
        "    \n",
        "    #Create series LSL:\n",
        "    LSL = tolerance[name][1]\n",
        "    LSL=pd.Series(LSL)\n",
        "    s2=pd.DataFrame()\n",
        "    for i in range(len(finaldf)):\n",
        "      s2=pd.concat([s2,LSL],axis=0)\n",
        "    s2.rename(columns={0:'LSL'},inplace=True)\n",
        "    \n",
        "    #Create series nominal:\n",
        "    nominal = tolerance[name][2]\n",
        "    nominal=pd.Series(nominal)\n",
        "    s3=pd.DataFrame()\n",
        "    for i in range(len(finaldf)):\n",
        "      s3=pd.concat([s3,nominal],axis=0)\n",
        "    s3.rename(columns={0:'Nominal'},inplace=True)\n",
        "    \n",
        "    #combine Date,feature, LSL,USL,nominal to finaldataframe (for each feature):\n",
        "    finaldf['Datef'].reset_index(drop=True,inplace=True)\n",
        "    finaldf[name].reset_index(drop=True,inplace=True)\n",
        "    s1.reset_index(drop=True,inplace=True)\n",
        "    s2.reset_index(drop=True,inplace=True)\n",
        "    s3.reset_index(drop=True,inplace=True)\n",
        "    df_temp = pd.concat([finaldf['Datef'],finaldf[name],s1,s2,s3],axis=1)  \n",
        "    print(df_temp.head(3))\n",
        "\n",
        "    #Create dict of dataframe for each feature columns:\n",
        "    DFdict[name]=df_temp\n",
        "    #print(DFdict)\n",
        "    "
      ],
      "execution_count": null,
      "outputs": [
        {
          "output_type": "stream",
          "text": [
            "Chart:  C-Pitch\n",
            "       Datef  C-Pitch    USL   LSL  Nominal\n",
            "0 2019-01-11   10.003  10.01  9.99     10.0\n",
            "1 2019-01-11   10.005  10.01  9.99     10.0\n",
            "2 2019-01-11   10.005  10.01  9.99     10.0\n",
            "Chart:  J\n",
            "       Datef      J   USL   LSL  Nominal\n",
            "0 2019-01-11  1.219  1.22  1.21     1.21\n",
            "1 2019-01-11  1.219  1.22  1.21     1.21\n",
            "2 2019-01-11  1.219  1.22  1.21     1.21\n",
            "Chart:  I\n",
            "       Datef      I   USL   LSL  Nominal\n",
            "0 2019-01-11  3.197  3.21  3.19      3.2\n",
            "1 2019-01-11  3.190  3.21  3.19      3.2\n",
            "2 2019-01-11  3.194  3.21  3.19      3.2\n",
            "Chart:  O\n",
            "       Datef       O    USL    LSL  Nominal\n",
            "0 2019-01-11  11.855  11.86  11.84    11.85\n",
            "1 2019-01-11  11.855  11.86  11.84    11.85\n",
            "2 2019-01-11  11.852  11.86  11.84    11.85\n",
            "Chart:  Z\n",
            "       Datef     Z   USL   LSL  Nominal\n",
            "0 2019-01-11  0.31  0.32  0.28      0.3\n",
            "1 2019-01-11  0.31  0.32  0.28      0.3\n",
            "2 2019-01-11  0.31  0.32  0.28      0.3\n"
          ],
          "name": "stdout"
        }
      ]
    },
    {
      "cell_type": "markdown",
      "metadata": {
        "id": "wd5DGGrdPaSZ",
        "colab_type": "text"
      },
      "source": [
        "## Visualization"
      ]
    },
    {
      "cell_type": "code",
      "metadata": {
        "id": "HQ2A514iPbvL",
        "colab_type": "code",
        "colab": {
          "base_uri": "https://localhost:8080/",
          "height": 34
        },
        "outputId": "8ba02951-8897-4993-bbc1-5d77f30257d0"
      },
      "source": [
        "DFdict.keys()"
      ],
      "execution_count": null,
      "outputs": [
        {
          "output_type": "execute_result",
          "data": {
            "text/plain": [
              "dict_keys(['C-Pitch', 'J', 'I', 'O', 'Z'])"
            ]
          },
          "metadata": {
            "tags": []
          },
          "execution_count": 19
        }
      ]
    },
    {
      "cell_type": "code",
      "metadata": {
        "id": "PEO8uJ19Qd1c",
        "colab_type": "code",
        "colab": {}
      },
      "source": [
        "df=DFdict['C-Pitch']\n",
        "df=df.groupby('Datef').mean()\n",
        "df.reset_index(inplace=True)\n"
      ],
      "execution_count": null,
      "outputs": []
    },
    {
      "cell_type": "code",
      "metadata": {
        "id": "i1IvDjQBlJ2r",
        "colab_type": "code",
        "colab": {
          "base_uri": "https://localhost:8080/",
          "height": 142
        },
        "outputId": "e44e9482-ad59-4a33-8787-c0aebc4a8130"
      },
      "source": [
        "df[:3]"
      ],
      "execution_count": null,
      "outputs": [
        {
          "output_type": "execute_result",
          "data": {
            "text/html": [
              "<div>\n",
              "<style scoped>\n",
              "    .dataframe tbody tr th:only-of-type {\n",
              "        vertical-align: middle;\n",
              "    }\n",
              "\n",
              "    .dataframe tbody tr th {\n",
              "        vertical-align: top;\n",
              "    }\n",
              "\n",
              "    .dataframe thead th {\n",
              "        text-align: right;\n",
              "    }\n",
              "</style>\n",
              "<table border=\"1\" class=\"dataframe\">\n",
              "  <thead>\n",
              "    <tr style=\"text-align: right;\">\n",
              "      <th></th>\n",
              "      <th>Datef</th>\n",
              "      <th>C-Pitch</th>\n",
              "      <th>USL</th>\n",
              "      <th>LSL</th>\n",
              "      <th>Nominal</th>\n",
              "    </tr>\n",
              "  </thead>\n",
              "  <tbody>\n",
              "    <tr>\n",
              "      <th>0</th>\n",
              "      <td>2019-01-11</td>\n",
              "      <td>10.0036</td>\n",
              "      <td>10.01</td>\n",
              "      <td>9.99</td>\n",
              "      <td>10.0</td>\n",
              "    </tr>\n",
              "    <tr>\n",
              "      <th>1</th>\n",
              "      <td>2019-01-22</td>\n",
              "      <td>10.0008</td>\n",
              "      <td>10.01</td>\n",
              "      <td>9.99</td>\n",
              "      <td>10.0</td>\n",
              "    </tr>\n",
              "    <tr>\n",
              "      <th>2</th>\n",
              "      <td>2019-01-26</td>\n",
              "      <td>10.0018</td>\n",
              "      <td>10.01</td>\n",
              "      <td>9.99</td>\n",
              "      <td>10.0</td>\n",
              "    </tr>\n",
              "  </tbody>\n",
              "</table>\n",
              "</div>"
            ],
            "text/plain": [
              "       Datef  C-Pitch    USL   LSL  Nominal\n",
              "0 2019-01-11  10.0036  10.01  9.99     10.0\n",
              "1 2019-01-22  10.0008  10.01  9.99     10.0\n",
              "2 2019-01-26  10.0018  10.01  9.99     10.0"
            ]
          },
          "metadata": {
            "tags": []
          },
          "execution_count": 21
        }
      ]
    },
    {
      "cell_type": "code",
      "metadata": {
        "id": "E2NTKJ5fk8v2",
        "colab_type": "code",
        "colab": {
          "base_uri": "https://localhost:8080/",
          "height": 204
        },
        "outputId": "101b633c-f6a5-4dab-bf65-b1647206d5fe"
      },
      "source": [
        "#Convert date and time to date:\n",
        "df['Datef']=df['Datef'].dt.date\n",
        "df[:5]"
      ],
      "execution_count": null,
      "outputs": [
        {
          "output_type": "execute_result",
          "data": {
            "text/html": [
              "<div>\n",
              "<style scoped>\n",
              "    .dataframe tbody tr th:only-of-type {\n",
              "        vertical-align: middle;\n",
              "    }\n",
              "\n",
              "    .dataframe tbody tr th {\n",
              "        vertical-align: top;\n",
              "    }\n",
              "\n",
              "    .dataframe thead th {\n",
              "        text-align: right;\n",
              "    }\n",
              "</style>\n",
              "<table border=\"1\" class=\"dataframe\">\n",
              "  <thead>\n",
              "    <tr style=\"text-align: right;\">\n",
              "      <th></th>\n",
              "      <th>Datef</th>\n",
              "      <th>C-Pitch</th>\n",
              "      <th>USL</th>\n",
              "      <th>LSL</th>\n",
              "      <th>Nominal</th>\n",
              "    </tr>\n",
              "  </thead>\n",
              "  <tbody>\n",
              "    <tr>\n",
              "      <th>0</th>\n",
              "      <td>2019-01-11</td>\n",
              "      <td>10.0036</td>\n",
              "      <td>10.01</td>\n",
              "      <td>9.99</td>\n",
              "      <td>10.0</td>\n",
              "    </tr>\n",
              "    <tr>\n",
              "      <th>1</th>\n",
              "      <td>2019-01-22</td>\n",
              "      <td>10.0008</td>\n",
              "      <td>10.01</td>\n",
              "      <td>9.99</td>\n",
              "      <td>10.0</td>\n",
              "    </tr>\n",
              "    <tr>\n",
              "      <th>2</th>\n",
              "      <td>2019-01-26</td>\n",
              "      <td>10.0018</td>\n",
              "      <td>10.01</td>\n",
              "      <td>9.99</td>\n",
              "      <td>10.0</td>\n",
              "    </tr>\n",
              "    <tr>\n",
              "      <th>3</th>\n",
              "      <td>2019-01-31</td>\n",
              "      <td>10.0032</td>\n",
              "      <td>10.01</td>\n",
              "      <td>9.99</td>\n",
              "      <td>10.0</td>\n",
              "    </tr>\n",
              "    <tr>\n",
              "      <th>4</th>\n",
              "      <td>2019-02-11</td>\n",
              "      <td>10.0030</td>\n",
              "      <td>10.01</td>\n",
              "      <td>9.99</td>\n",
              "      <td>10.0</td>\n",
              "    </tr>\n",
              "  </tbody>\n",
              "</table>\n",
              "</div>"
            ],
            "text/plain": [
              "        Datef  C-Pitch    USL   LSL  Nominal\n",
              "0  2019-01-11  10.0036  10.01  9.99     10.0\n",
              "1  2019-01-22  10.0008  10.01  9.99     10.0\n",
              "2  2019-01-26  10.0018  10.01  9.99     10.0\n",
              "3  2019-01-31  10.0032  10.01  9.99     10.0\n",
              "4  2019-02-11  10.0030  10.01  9.99     10.0"
            ]
          },
          "metadata": {
            "tags": []
          },
          "execution_count": 22
        }
      ]
    },
    {
      "cell_type": "code",
      "metadata": {
        "id": "DkFAlamwlqD4",
        "colab_type": "code",
        "colab": {
          "base_uri": "https://localhost:8080/",
          "height": 34
        },
        "outputId": "269c76cd-7dbe-4b0b-e25c-97c84d208889"
      },
      "source": [
        "df['Datef'][0]"
      ],
      "execution_count": null,
      "outputs": [
        {
          "output_type": "execute_result",
          "data": {
            "text/plain": [
              "datetime.date(2019, 1, 11)"
            ]
          },
          "metadata": {
            "tags": []
          },
          "execution_count": 23
        }
      ]
    },
    {
      "cell_type": "code",
      "metadata": {
        "id": "NWfrLjSDPfoo",
        "colab_type": "code",
        "colab": {
          "base_uri": "https://localhost:8080/",
          "height": 319
        },
        "outputId": "c827efc9-370c-414e-eda5-4cb6ad1b2b99"
      },
      "source": [
        "#setname:\n",
        "feature=df.columns.values[1]\n",
        "UCL=df.columns.values[2]\n",
        "LCL=df.columns.values[3]\n",
        "Nominal=df.columns.values[4]\n",
        "\n",
        "fig, ax = plt.subplots(figsize=(20,3))\n",
        "\n",
        "df.plot(x='Datef',y=feature, ls='-',marker='o',label=feature,ax=ax) #Dimension\n",
        "df.plot(x='Datef',y=UCL,ls= '-',label=UCL,ax=ax)#UCL\n",
        "df.plot(x='Datef',y=LCL,ls= '-',label=LCL,ax=ax)#LCL\n",
        "df.plot(x='Datef',y=Nominal,ls= '-',label=Nominal,ax=ax)#Nominal\n",
        "\n",
        "plt.gca().set_xticks(df['Datef'])\n",
        "plt.gca().set_xticklabels(df['Datef'],rotation=90)\n",
        "plt.gca().set_title('Control chart '+feature,fontsize=15)\n",
        "plt.gca().legend(loc ='center left',bbox_to_anchor=(1.01, 0.5))\n",
        "\n",
        "plt.xlabel('Time')\n",
        "plt.ylabel('Values')"
      ],
      "execution_count": null,
      "outputs": [
        {
          "output_type": "execute_result",
          "data": {
            "text/plain": [
              "Text(0, 0.5, 'Values')"
            ]
          },
          "metadata": {
            "tags": []
          },
          "execution_count": 24
        },
        {
          "output_type": "display_data",
          "data": {
            "image/png": "[encoded data removed]",
            "text/plain": [
              "<Figure size 1440x216 with 1 Axes>"
            ]
          },
          "metadata": {
            "tags": []
          }
        }
      ]
    },
    {
      "cell_type": "code",
      "metadata": {
        "id": "ZeEJdMDuh-Yc",
        "colab_type": "code",
        "colab": {}
      },
      "source": [
        "import altair as alt\n",
        "df['Datef']=pd.to_datetime(df['Datef'])"
      ],
      "execution_count": null,
      "outputs": []
    },
    {
      "cell_type": "code",
      "metadata": {
        "id": "T9pyknrWzztG",
        "colab_type": "code",
        "colab": {
          "base_uri": "https://localhost:8080/",
          "height": 142
        },
        "outputId": "e6ab9561-9e1a-47d8-ec8d-89b6583b6cde"
      },
      "source": [
        "df[:3]"
      ],
      "execution_count": null,
      "outputs": [
        {
          "output_type": "execute_result",
          "data": {
            "text/html": [
              "<div>\n",
              "<style scoped>\n",
              "    .dataframe tbody tr th:only-of-type {\n",
              "        vertical-align: middle;\n",
              "    }\n",
              "\n",
              "    .dataframe tbody tr th {\n",
              "        vertical-align: top;\n",
              "    }\n",
              "\n",
              "    .dataframe thead th {\n",
              "        text-align: right;\n",
              "    }\n",
              "</style>\n",
              "<table border=\"1\" class=\"dataframe\">\n",
              "  <thead>\n",
              "    <tr style=\"text-align: right;\">\n",
              "      <th></th>\n",
              "      <th>Datef</th>\n",
              "      <th>C-Pitch</th>\n",
              "      <th>USL</th>\n",
              "      <th>LSL</th>\n",
              "      <th>Nominal</th>\n",
              "    </tr>\n",
              "  </thead>\n",
              "  <tbody>\n",
              "    <tr>\n",
              "      <th>0</th>\n",
              "      <td>2019-01-11</td>\n",
              "      <td>10.0036</td>\n",
              "      <td>10.01</td>\n",
              "      <td>9.99</td>\n",
              "      <td>10.0</td>\n",
              "    </tr>\n",
              "    <tr>\n",
              "      <th>1</th>\n",
              "      <td>2019-01-22</td>\n",
              "      <td>10.0008</td>\n",
              "      <td>10.01</td>\n",
              "      <td>9.99</td>\n",
              "      <td>10.0</td>\n",
              "    </tr>\n",
              "    <tr>\n",
              "      <th>2</th>\n",
              "      <td>2019-01-26</td>\n",
              "      <td>10.0018</td>\n",
              "      <td>10.01</td>\n",
              "      <td>9.99</td>\n",
              "      <td>10.0</td>\n",
              "    </tr>\n",
              "  </tbody>\n",
              "</table>\n",
              "</div>"
            ],
            "text/plain": [
              "       Datef  C-Pitch    USL   LSL  Nominal\n",
              "0 2019-01-11  10.0036  10.01  9.99     10.0\n",
              "1 2019-01-22  10.0008  10.01  9.99     10.0\n",
              "2 2019-01-26  10.0018  10.01  9.99     10.0"
            ]
          },
          "metadata": {
            "tags": []
          },
          "execution_count": 145
        }
      ]
    },
    {
      "cell_type": "markdown",
      "metadata": {
        "id": "GDZKNOiCkMCx",
        "colab_type": "text"
      },
      "source": [
        "## Prepare data for Altair"
      ]
    },
    {
      "cell_type": "code",
      "metadata": {
        "id": "AKS92XA1iAmh",
        "colab_type": "code",
        "colab": {
          "base_uri": "https://localhost:8080/",
          "height": 142
        },
        "outputId": "94f814de-1f0c-43dc-caa2-a4d01446b845"
      },
      "source": [
        "df[:3]"
      ],
      "execution_count": null,
      "outputs": [
        {
          "output_type": "execute_result",
          "data": {
            "text/html": [
              "<div>\n",
              "<style scoped>\n",
              "    .dataframe tbody tr th:only-of-type {\n",
              "        vertical-align: middle;\n",
              "    }\n",
              "\n",
              "    .dataframe tbody tr th {\n",
              "        vertical-align: top;\n",
              "    }\n",
              "\n",
              "    .dataframe thead th {\n",
              "        text-align: right;\n",
              "    }\n",
              "</style>\n",
              "<table border=\"1\" class=\"dataframe\">\n",
              "  <thead>\n",
              "    <tr style=\"text-align: right;\">\n",
              "      <th></th>\n",
              "      <th>Datef</th>\n",
              "      <th>C-Pitch</th>\n",
              "      <th>USL</th>\n",
              "      <th>LSL</th>\n",
              "      <th>Nominal</th>\n",
              "    </tr>\n",
              "  </thead>\n",
              "  <tbody>\n",
              "    <tr>\n",
              "      <th>0</th>\n",
              "      <td>2019-01-11</td>\n",
              "      <td>10.0036</td>\n",
              "      <td>10.01</td>\n",
              "      <td>9.99</td>\n",
              "      <td>10.0</td>\n",
              "    </tr>\n",
              "    <tr>\n",
              "      <th>1</th>\n",
              "      <td>2019-01-22</td>\n",
              "      <td>10.0008</td>\n",
              "      <td>10.01</td>\n",
              "      <td>9.99</td>\n",
              "      <td>10.0</td>\n",
              "    </tr>\n",
              "    <tr>\n",
              "      <th>2</th>\n",
              "      <td>2019-01-26</td>\n",
              "      <td>10.0018</td>\n",
              "      <td>10.01</td>\n",
              "      <td>9.99</td>\n",
              "      <td>10.0</td>\n",
              "    </tr>\n",
              "  </tbody>\n",
              "</table>\n",
              "</div>"
            ],
            "text/plain": [
              "       Datef  C-Pitch    USL   LSL  Nominal\n",
              "0 2019-01-11  10.0036  10.01  9.99     10.0\n",
              "1 2019-01-22  10.0008  10.01  9.99     10.0\n",
              "2 2019-01-26  10.0018  10.01  9.99     10.0"
            ]
          },
          "metadata": {
            "tags": []
          },
          "execution_count": 27
        }
      ]
    },
    {
      "cell_type": "code",
      "metadata": {
        "id": "z3EbAK6jpnAZ",
        "colab_type": "code",
        "colab": {
          "base_uri": "https://localhost:8080/",
          "height": 142
        },
        "outputId": "e4547f48-1d83-4c01-f110-9d894806cd48"
      },
      "source": [
        "df_a=pd.concat([df['C-Pitch'],df['USL'],df['LSL'],df['Nominal']])\n",
        "df_a=df_a.to_frame()\n",
        "df_a.reset_index(drop=True,inplace=True)\n",
        "\n",
        "#Create column Date * number of features\n",
        "df_a_date=pd.DataFrame()\n",
        "for i in range(4):\n",
        "  df_a_date=pd.concat([df_a_date,df['Datef']])\n",
        "df_a_date.reset_index(drop=True,inplace=True)\n",
        "\n",
        "#Create column category of features\n",
        "df_a_category=pd.DataFrame()\n",
        "newlist=[]\n",
        "a=pd.Series('C-Pitch')\n",
        "newlist.append(a)\n",
        "b=pd.Series('USL')\n",
        "newlist.append(b)\n",
        "c=pd.Series('LSL')\n",
        "newlist.append(c)\n",
        "d=pd.Series('Nominal')\n",
        "newlist.append(d)\n",
        "\n",
        "for name in newlist:\n",
        "  for i in range(len(df['C-Pitch'])):\n",
        "    df_a_category=pd.concat([df_a_category,name])\n",
        "\n",
        "df_a_category.reset_index(drop=True,inplace=True)\n",
        "\n",
        "#Combine all to one data frame( Date as x value, [C-Pitch ,USL,LSL,Nominal] value as y value,  [(C-Pitch,USL, LSL, Nominal) name as Category\n",
        "df_altair=pd.concat([df_a_date,df_a,df_a_category],axis=1)\n",
        "df_altair.columns=['Datef','Value','Category']\n",
        "#df_altair['Datef']=df_altair['Datef'].dt.date\n",
        "#df_altair['Datef']=pd.to_datetime(df_altair['Datef'])\n",
        "df_altair[:3]\n",
        "  "
      ],
      "execution_count": null,
      "outputs": [
        {
          "output_type": "execute_result",
          "data": {
            "text/html": [
              "<div>\n",
              "<style scoped>\n",
              "    .dataframe tbody tr th:only-of-type {\n",
              "        vertical-align: middle;\n",
              "    }\n",
              "\n",
              "    .dataframe tbody tr th {\n",
              "        vertical-align: top;\n",
              "    }\n",
              "\n",
              "    .dataframe thead th {\n",
              "        text-align: right;\n",
              "    }\n",
              "</style>\n",
              "<table border=\"1\" class=\"dataframe\">\n",
              "  <thead>\n",
              "    <tr style=\"text-align: right;\">\n",
              "      <th></th>\n",
              "      <th>Datef</th>\n",
              "      <th>Value</th>\n",
              "      <th>Category</th>\n",
              "    </tr>\n",
              "  </thead>\n",
              "  <tbody>\n",
              "    <tr>\n",
              "      <th>0</th>\n",
              "      <td>2019-01-11</td>\n",
              "      <td>10.0036</td>\n",
              "      <td>C-Pitch</td>\n",
              "    </tr>\n",
              "    <tr>\n",
              "      <th>1</th>\n",
              "      <td>2019-01-22</td>\n",
              "      <td>10.0008</td>\n",
              "      <td>C-Pitch</td>\n",
              "    </tr>\n",
              "    <tr>\n",
              "      <th>2</th>\n",
              "      <td>2019-01-26</td>\n",
              "      <td>10.0018</td>\n",
              "      <td>C-Pitch</td>\n",
              "    </tr>\n",
              "  </tbody>\n",
              "</table>\n",
              "</div>"
            ],
            "text/plain": [
              "       Datef    Value Category\n",
              "0 2019-01-11  10.0036  C-Pitch\n",
              "1 2019-01-22  10.0008  C-Pitch\n",
              "2 2019-01-26  10.0018  C-Pitch"
            ]
          },
          "metadata": {
            "tags": []
          },
          "execution_count": 28
        }
      ]
    },
    {
      "cell_type": "code",
      "metadata": {
        "id": "RBlEYGvjxfpM",
        "colab_type": "code",
        "colab": {
          "base_uri": "https://localhost:8080/",
          "height": 34
        },
        "outputId": "36add33c-3a45-4468-99f6-376ade088ebb"
      },
      "source": [
        "df_altair.columns"
      ],
      "execution_count": null,
      "outputs": [
        {
          "output_type": "execute_result",
          "data": {
            "text/plain": [
              "Index(['Datef', 'Value', 'Category'], dtype='object')"
            ]
          },
          "metadata": {
            "tags": []
          },
          "execution_count": 29
        }
      ]
    },
    {
      "cell_type": "markdown",
      "metadata": {
        "id": "kWOyLPajdN_6",
        "colab_type": "text"
      },
      "source": [
        "### Boxplot"
      ]
    },
    {
      "cell_type": "code",
      "metadata": {
        "id": "8IjhJQbCdvoT",
        "colab_type": "code",
        "colab": {
          "base_uri": "https://localhost:8080/",
          "height": 204
        },
        "outputId": "6cf2014c-57cf-49c0-9d28-a182a5616f7f"
      },
      "source": [
        "df_box=DFdict['C-Pitch'] #All values for each features\n",
        "df_box[:5]"
      ],
      "execution_count": null,
      "outputs": [
        {
          "output_type": "execute_result",
          "data": {
            "text/html": [
              "<div>\n",
              "<style scoped>\n",
              "    .dataframe tbody tr th:only-of-type {\n",
              "        vertical-align: middle;\n",
              "    }\n",
              "\n",
              "    .dataframe tbody tr th {\n",
              "        vertical-align: top;\n",
              "    }\n",
              "\n",
              "    .dataframe thead th {\n",
              "        text-align: right;\n",
              "    }\n",
              "</style>\n",
              "<table border=\"1\" class=\"dataframe\">\n",
              "  <thead>\n",
              "    <tr style=\"text-align: right;\">\n",
              "      <th></th>\n",
              "      <th>Datef</th>\n",
              "      <th>C-Pitch</th>\n",
              "      <th>USL</th>\n",
              "      <th>LSL</th>\n",
              "      <th>Nominal</th>\n",
              "    </tr>\n",
              "  </thead>\n",
              "  <tbody>\n",
              "    <tr>\n",
              "      <th>0</th>\n",
              "      <td>2019-01-11</td>\n",
              "      <td>10.003</td>\n",
              "      <td>10.01</td>\n",
              "      <td>9.99</td>\n",
              "      <td>10.0</td>\n",
              "    </tr>\n",
              "    <tr>\n",
              "      <th>1</th>\n",
              "      <td>2019-01-11</td>\n",
              "      <td>10.005</td>\n",
              "      <td>10.01</td>\n",
              "      <td>9.99</td>\n",
              "      <td>10.0</td>\n",
              "    </tr>\n",
              "    <tr>\n",
              "      <th>2</th>\n",
              "      <td>2019-01-11</td>\n",
              "      <td>10.005</td>\n",
              "      <td>10.01</td>\n",
              "      <td>9.99</td>\n",
              "      <td>10.0</td>\n",
              "    </tr>\n",
              "    <tr>\n",
              "      <th>3</th>\n",
              "      <td>2019-01-11</td>\n",
              "      <td>10.002</td>\n",
              "      <td>10.01</td>\n",
              "      <td>9.99</td>\n",
              "      <td>10.0</td>\n",
              "    </tr>\n",
              "    <tr>\n",
              "      <th>4</th>\n",
              "      <td>2019-01-11</td>\n",
              "      <td>10.003</td>\n",
              "      <td>10.01</td>\n",
              "      <td>9.99</td>\n",
              "      <td>10.0</td>\n",
              "    </tr>\n",
              "  </tbody>\n",
              "</table>\n",
              "</div>"
            ],
            "text/plain": [
              "       Datef  C-Pitch    USL   LSL  Nominal\n",
              "0 2019-01-11   10.003  10.01  9.99     10.0\n",
              "1 2019-01-11   10.005  10.01  9.99     10.0\n",
              "2 2019-01-11   10.005  10.01  9.99     10.0\n",
              "3 2019-01-11   10.002  10.01  9.99     10.0\n",
              "4 2019-01-11   10.003  10.01  9.99     10.0"
            ]
          },
          "metadata": {
            "tags": []
          },
          "execution_count": 32
        }
      ]
    },
    {
      "cell_type": "code",
      "metadata": {
        "id": "Mv_Wp7sUf9E9",
        "colab_type": "code",
        "colab": {
          "base_uri": "https://localhost:8080/",
          "height": 34
        },
        "outputId": "671ca537-b0ff-46c1-959d-7966e2a3a57b"
      },
      "source": [
        "df_box['Datef'][0]\n",
        "#Convert date and time to date:\n",
        "df_box['Datef']=df_box['Datef'].dt.date\n",
        "df_box['Datef'][0]"
      ],
      "execution_count": null,
      "outputs": [
        {
          "output_type": "execute_result",
          "data": {
            "text/plain": [
              "datetime.date(2019, 1, 11)"
            ]
          },
          "metadata": {
            "tags": []
          },
          "execution_count": 33
        }
      ]
    },
    {
      "cell_type": "code",
      "metadata": {
        "id": "R2fYKwWQ3Jk1",
        "colab_type": "code",
        "colab": {
          "base_uri": "https://localhost:8080/",
          "height": 204
        },
        "outputId": "c6349dcb-20fb-44b5-c932-30dce353e411"
      },
      "source": [
        "df_box_line=df_box.groupby('Datef').mean()#Group values for line chart\n",
        "df_box_line.reset_index(inplace=True)\n",
        "df_box_line.tail()"
      ],
      "execution_count": null,
      "outputs": [
        {
          "output_type": "execute_result",
          "data": {
            "text/html": [
              "<div>\n",
              "<style scoped>\n",
              "    .dataframe tbody tr th:only-of-type {\n",
              "        vertical-align: middle;\n",
              "    }\n",
              "\n",
              "    .dataframe tbody tr th {\n",
              "        vertical-align: top;\n",
              "    }\n",
              "\n",
              "    .dataframe thead th {\n",
              "        text-align: right;\n",
              "    }\n",
              "</style>\n",
              "<table border=\"1\" class=\"dataframe\">\n",
              "  <thead>\n",
              "    <tr style=\"text-align: right;\">\n",
              "      <th></th>\n",
              "      <th>Datef</th>\n",
              "      <th>C-Pitch</th>\n",
              "      <th>USL</th>\n",
              "      <th>LSL</th>\n",
              "      <th>Nominal</th>\n",
              "    </tr>\n",
              "  </thead>\n",
              "  <tbody>\n",
              "    <tr>\n",
              "      <th>23</th>\n",
              "      <td>2019-11-13</td>\n",
              "      <td>10.0020</td>\n",
              "      <td>10.01</td>\n",
              "      <td>9.99</td>\n",
              "      <td>10.0</td>\n",
              "    </tr>\n",
              "    <tr>\n",
              "      <th>24</th>\n",
              "      <td>2019-12-05</td>\n",
              "      <td>10.0002</td>\n",
              "      <td>10.01</td>\n",
              "      <td>9.99</td>\n",
              "      <td>10.0</td>\n",
              "    </tr>\n",
              "    <tr>\n",
              "      <th>25</th>\n",
              "      <td>2019-12-10</td>\n",
              "      <td>10.0032</td>\n",
              "      <td>10.01</td>\n",
              "      <td>9.99</td>\n",
              "      <td>10.0</td>\n",
              "    </tr>\n",
              "    <tr>\n",
              "      <th>26</th>\n",
              "      <td>2019-12-26</td>\n",
              "      <td>10.0032</td>\n",
              "      <td>10.01</td>\n",
              "      <td>9.99</td>\n",
              "      <td>10.0</td>\n",
              "    </tr>\n",
              "    <tr>\n",
              "      <th>27</th>\n",
              "      <td>2019-12-31</td>\n",
              "      <td>9.9994</td>\n",
              "      <td>10.01</td>\n",
              "      <td>9.99</td>\n",
              "      <td>10.0</td>\n",
              "    </tr>\n",
              "  </tbody>\n",
              "</table>\n",
              "</div>"
            ],
            "text/plain": [
              "         Datef  C-Pitch    USL   LSL  Nominal\n",
              "23  2019-11-13  10.0020  10.01  9.99     10.0\n",
              "24  2019-12-05  10.0002  10.01  9.99     10.0\n",
              "25  2019-12-10  10.0032  10.01  9.99     10.0\n",
              "26  2019-12-26  10.0032  10.01  9.99     10.0\n",
              "27  2019-12-31   9.9994  10.01  9.99     10.0"
            ]
          },
          "metadata": {
            "tags": []
          },
          "execution_count": 34
        }
      ]
    },
    {
      "cell_type": "code",
      "metadata": {
        "id": "w8lINQmBonDn",
        "colab_type": "code",
        "colab": {
          "base_uri": "https://localhost:8080/",
          "height": 34
        },
        "outputId": "1518de4a-dd67-479b-d022-4bfd479c6447"
      },
      "source": [
        "df_box_line['Datef'][0]"
      ],
      "execution_count": null,
      "outputs": [
        {
          "output_type": "execute_result",
          "data": {
            "text/plain": [
              "datetime.date(2019, 1, 11)"
            ]
          },
          "metadata": {
            "tags": []
          },
          "execution_count": 35
        }
      ]
    },
    {
      "cell_type": "code",
      "metadata": {
        "id": "9OL0-67i0JLH",
        "colab_type": "code",
        "colab": {
          "base_uri": "https://localhost:8080/",
          "height": 428
        },
        "outputId": "489fc031-82c8-4435-ff7f-313d1fa556b8"
      },
      "source": [
        "fig,ax=plt.subplots(figsize=(20,5))\n",
        "sns.boxplot(x='Datef',y='C-Pitch',data=df_box,ax=ax,color='cornflowerblue') \n",
        "#df_box.boxplot(column='C-Pitch',by='Datef',ax=ax)#df_box: data with no group by date\n",
        "df_box_line.plot(y='USL',kind='line',ax=ax) #df_box_line: data with group by date\n",
        "df_box_line.plot(y='LSL',kind='line',ax=ax)\n",
        "df_box_line.plot(y='Nominal',kind='line',ax=ax)\n",
        "\n",
        "#plt.gca().set_xticks(df_box_line['Datef'])\n",
        "plt.gca().set_xticklabels(df_box_line['Datef'],rotation=90)\n",
        "plt.gca().set_title('Control chart '+feature,fontsize=15)\n",
        "plt.gca().legend(loc ='center left',bbox_to_anchor=(1.01, 0.5))\n",
        "\n",
        "plt.xlabel('Time')\n",
        "plt.ylabel('Values')"
      ],
      "execution_count": null,
      "outputs": [
        {
          "output_type": "execute_result",
          "data": {
            "text/plain": [
              "Text(0, 0.5, 'Values')"
            ]
          },
          "metadata": {
            "tags": []
          },
          "execution_count": 36
        },
        {
          "output_type": "display_data",
          "data": {
            "image/png": "[encoded data removed]",
            "text/plain": [
              "<Figure size 1440x360 with 1 Axes>"
            ]
          },
          "metadata": {
            "tags": []
          }
        }
      ]
    }
  ]
}