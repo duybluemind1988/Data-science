{
  "nbformat": 4,
  "nbformat_minor": 0,
  "metadata": {
    "colab": {
      "name": "Sonion_process_control.ipynb",
      "provenance": [],
      "collapsed_sections": [],
      "mount_file_id": "https://github.com/duybluemind1988/Data-science/blob/master/Sonion/Sonion_process_control.ipynb",
      "authorship_tag": "ABX9TyMpEqDw0Ax3SNmhuQn6RQUx",
      "include_colab_link": true
    },
    "kernelspec": {
      "name": "python3",
      "display_name": "Python 3"
    }
  },
  "cells": [
    {
      "cell_type": "markdown",
      "metadata": {
        "id": "view-in-github",
        "colab_type": "text"
      },
      "source": [
        "<a href=\"https://colab.research.google.com/github/duybluemind1988/Data-science/blob/master/Sonion/Sonion_process_control.ipynb\" target=\"_parent\"><img src=\"https://colab.research.google.com/assets/colab-badge.svg\" alt=\"Open In Colab\"/></a>"
      ]
    },
    {
      "cell_type": "code",
      "metadata": {
        "id": "Fmkib5eiuQvo",
        "colab_type": "code",
        "colab": {
          "base_uri": "https://localhost:8080/",
          "height": 71
        },
        "outputId": "198b16cf-4cc7-4f55-9d53-6ca08dcbb657"
      },
      "source": [
        "import datetime\n",
        "import seaborn as sns; sns.set()\n",
        "import pandas as pd\n",
        "import numpy as np\n",
        "import matplotlib.pyplot as plt\n",
        "\n",
        "import plotly.graph_objects as go\n",
        "from plotly.subplots import make_subplots\n",
        "import plotly.express as px\n",
        "from plotly.offline import iplot\n",
        "import re\n",
        "\n",
        "from statsmodels.tsa.arima_model import ARIMA\n",
        "import statsmodels.api as sm\n",
        "from statsmodels.graphics.tsaplots import plot_acf\n",
        "from statsmodels.stats.diagnostic import acorr_ljungbox\n",
        "import scipy.stats as scs\n",
        "from math import sqrt\n",
        "from sklearn.metrics import mean_squared_error,mean_absolute_error\n",
        "from sklearn.model_selection import train_test_split\n",
        "from sklearn.preprocessing import MinMaxScaler,StandardScaler"
      ],
      "execution_count": 1,
      "outputs": [
        {
          "output_type": "stream",
          "text": [
            "/usr/local/lib/python3.6/dist-packages/statsmodels/tools/_testing.py:19: FutureWarning: pandas.util.testing is deprecated. Use the functions in the public API at pandas.testing instead.\n",
            "  import pandas.util.testing as tm\n"
          ],
          "name": "stderr"
        }
      ]
    },
    {
      "cell_type": "code",
      "metadata": {
        "id": "nfjxXM0lyBBp",
        "colab_type": "code",
        "colab": {}
      },
      "source": [
        "path='/content/drive/My Drive/Data/Sonion/Control plan and stast/Control Plan data REC 3000 - WK34 - 2020.xlsm'"
      ],
      "execution_count": 2,
      "outputs": []
    },
    {
      "cell_type": "code",
      "metadata": {
        "id": "n4p7AmLbw3Hm",
        "colab_type": "code",
        "colab": {
          "base_uri": "https://localhost:8080/",
          "height": 54
        },
        "outputId": "1aa57b9d-b404-4e73-c4ab-abbd926ba4fa"
      },
      "source": [
        "import xlrd\n",
        "xls = xlrd.open_workbook(path, on_demand=True)\n",
        "sheet_names=xls.sheet_names()\n",
        "print(xls.sheet_names())"
      ],
      "execution_count": 3,
      "outputs": [
        {
          "output_type": "stream",
          "text": [
            "['Master list', '39682', '38682', '30682', '37682', '30665', '30660-37660-38660', '30380-37380-38380', '37670-39670', '37662', '30650-37650 (3500T)', '37650-38655-39650', '37641', '30470-37470', '38546', '39615', '38940', '38594', '37560', '30740', '37640-38635', '30674-37674-38674 ', '30672-37672-38672', '30592', '30544-37544-38544-39544', '30538', '30530-37530-39530', '30480-37480-38481', '30370-37370-38370 ', '30750-30940-39750 _S1', '30750-30940-39750 _S2', '37750-37940_S1', '37750-37940_S2', '37751']\n"
          ],
          "name": "stdout"
        }
      ]
    },
    {
      "cell_type": "code",
      "metadata": {
        "id": "2VLUNBMpyweM",
        "colab_type": "code",
        "colab": {}
      },
      "source": [
        "sheet_dict={}\n",
        "xls = pd.ExcelFile(path)\n",
        "for name in sheet_names:\n",
        "  sheet_dict[name] = pd.read_excel(xls, name)"
      ],
      "execution_count": 4,
      "outputs": []
    },
    {
      "cell_type": "code",
      "metadata": {
        "id": "DrXPnbcb0GFr",
        "colab_type": "code",
        "colab": {}
      },
      "source": [
        "name='38682'\n",
        "sheet=sheet_dict[name]"
      ],
      "execution_count": 5,
      "outputs": []
    },
    {
      "cell_type": "code",
      "metadata": {
        "id": "Y-AprNLR0oZQ",
        "colab_type": "code",
        "colab": {}
      },
      "source": [
        "#sheet.to_csv('abc.xlsx')"
      ],
      "execution_count": 6,
      "outputs": []
    },
    {
      "cell_type": "code",
      "metadata": {
        "id": "u-oEVpqs1XWJ",
        "colab_type": "code",
        "colab": {}
      },
      "source": [
        "# get information in each coil\n",
        "#dim_name=sheet[sheet.columns[14]][22]\n",
        "#max=sheet[sheet.columns[14]][23]\n",
        "#min=sheet[sheet.columns[14]][24]\n",
        "#date=pd.to_datetime(sheet[sheet.columns[9]][25:])\n",
        "#dim_value=sheet[sheet.columns[14]][25:]"
      ],
      "execution_count": 7,
      "outputs": []
    },
    {
      "cell_type": "code",
      "metadata": {
        "id": "oZE4AwV85I06",
        "colab_type": "code",
        "colab": {
          "base_uri": "https://localhost:8080/",
          "height": 34
        },
        "outputId": "3ba7ac61-ab8b-440b-8150-149a612bef5a"
      },
      "source": [
        "# find begin and end col\n",
        "values_col=sheet.iloc[22,:]\n",
        "values_col.reset_index(drop=True,inplace=True)\n",
        "begin_col=values_col[values_col=='Kích thước\\nDimension'].index\n",
        "begin_col=begin_col+1\n",
        "begin_col"
      ],
      "execution_count": 8,
      "outputs": [
        {
          "output_type": "execute_result",
          "data": {
            "text/plain": [
              "Int64Index([14], dtype='int64')"
            ]
          },
          "metadata": {
            "tags": []
          },
          "execution_count": 8
        }
      ]
    },
    {
      "cell_type": "code",
      "metadata": {
        "id": "GNkS4GBu6PFC",
        "colab_type": "code",
        "colab": {
          "base_uri": "https://localhost:8080/",
          "height": 34
        },
        "outputId": "a6ce57b0-5f1b-44ee-d1a1-e645609ad7a1"
      },
      "source": [
        "end_col=values_col[values_col=='MSNV'].index\n",
        "end_col"
      ],
      "execution_count": 10,
      "outputs": [
        {
          "output_type": "execute_result",
          "data": {
            "text/plain": [
              "Int64Index([20], dtype='int64')"
            ]
          },
          "metadata": {
            "tags": []
          },
          "execution_count": 10
        }
      ]
    },
    {
      "cell_type": "code",
      "metadata": {
        "id": "OY4PJMbf68Lr",
        "colab_type": "code",
        "colab": {
          "base_uri": "https://localhost:8080/",
          "height": 68
        },
        "outputId": "1ee0c45b-0679-4925-e8a5-10158dc650d9"
      },
      "source": [
        "sheet.columns[begin_col[0]:end_col[0]]"
      ],
      "execution_count": 16,
      "outputs": [
        {
          "output_type": "execute_result",
          "data": {
            "text/plain": [
              "Index(['Unnamed: 14', 'Unnamed: 15', 'Unnamed: 16', 'Unnamed: 17',\n",
              "       'Unnamed: 18', 'Unnamed: 19'],\n",
              "      dtype='object')"
            ]
          },
          "metadata": {
            "tags": []
          },
          "execution_count": 16
        }
      ]
    },
    {
      "cell_type": "code",
      "metadata": {
        "id": "8Is5WS_QnDAm",
        "colab_type": "code",
        "colab": {}
      },
      "source": [
        "dim_dict={}\n",
        "tolerance_dict={}\n",
        "for name in sheet.columns[begin_col[0]:end_col[0]]:\n",
        "  df=pd.DataFrame()\n",
        "  \n",
        "  #tolerance_dict[sheet[name][22]]=[sheet[name][24],sheet[name][23]]\n",
        "  df['Date']=pd.to_datetime(sheet[sheet.columns[9]][25:])\n",
        "  df['Value']=sheet[name][25:]\n",
        "  df['USL']=sheet[name][23] # max\n",
        "  df['LSL']=sheet[name][24] # min\n",
        "  df.dropna(subset=['Value'],inplace=True)\n",
        "  #UCL,LCL,nominal:\n",
        "  sigma=3\n",
        "  #df_final = df.assign(\n",
        "  #              UCL=df['Value'].mean() + df['Value'].std()*sigma,\n",
        "   #             LCL=df['Value'].mean() - df['Value'].std()*sigma,\n",
        "    #            mean=df['Value'].mean())\n",
        "  df['UCL']=df['Value'].mean() + df['Value'].std()*sigma\n",
        "  df['LCL']=df['Value'].mean() - df['Value'].std()*sigma\n",
        "  df['Mean']=df['Value'].mean()\n",
        "  df[df.columns[1:]]=df[df.columns[1:]].astype('float32')\n",
        "  dim_name=sheet[name][22]\n",
        "  dim_dict[dim_name]=df.reset_index(drop=True)"
      ],
      "execution_count": 64,
      "outputs": []
    },
    {
      "cell_type": "code",
      "metadata": {
        "id": "UgwKREOBwVkj",
        "colab_type": "code",
        "colab": {}
      },
      "source": [
        ""
      ],
      "execution_count": null,
      "outputs": []
    }
  ]
}