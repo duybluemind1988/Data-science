{
  "nbformat": 4,
  "nbformat_minor": 0,
  "metadata": {
    "colab": {
      "name": "Sonion_process_control.ipynb",
      "provenance": [],
      "collapsed_sections": [],
      "mount_file_id": "https://github.com/duybluemind1988/Data-science/blob/master/Sonion/Sonion_process_control.ipynb",
      "authorship_tag": "ABX9TyO7Lg4IRL/QCzHwlwyOwvPZ",
      "include_colab_link": true
    },
    "kernelspec": {
      "name": "python3",
      "display_name": "Python 3"
    }
  },
  "cells": [
    {
      "cell_type": "markdown",
      "metadata": {
        "id": "view-in-github",
        "colab_type": "text"
      },
      "source": [
        "<a href=\"https://colab.research.google.com/github/duybluemind1988/Data-science/blob/master/Sonion/Sonion_process_control.ipynb\" target=\"_parent\"><img src=\"https://colab.research.google.com/assets/colab-badge.svg\" alt=\"Open In Colab\"/></a>"
      ]
    },
    {
      "cell_type": "code",
      "metadata": {
        "id": "Fmkib5eiuQvo",
        "colab_type": "code",
        "colab": {
          "base_uri": "https://localhost:8080/",
          "height": 51
        },
        "outputId": "198b16cf-4cc7-4f55-9d53-6ca08dcbb657"
      },
      "source": [
        "import datetime\n",
        "import seaborn as sns; sns.set()\n",
        "import pandas as pd\n",
        "import numpy as np\n",
        "import matplotlib.pyplot as plt\n",
        "\n",
        "import plotly.graph_objects as go\n",
        "from plotly.subplots import make_subplots\n",
        "import plotly.express as px\n",
        "from plotly.offline import iplot\n",
        "import re\n",
        "\n",
        "from statsmodels.tsa.arima_model import ARIMA\n",
        "import statsmodels.api as sm\n",
        "from statsmodels.graphics.tsaplots import plot_acf\n",
        "from statsmodels.stats.diagnostic import acorr_ljungbox\n",
        "import scipy.stats as scs\n",
        "from math import sqrt\n",
        "from sklearn.metrics import mean_squared_error,mean_absolute_error\n",
        "from sklearn.model_selection import train_test_split\n",
        "from sklearn.preprocessing import MinMaxScaler,StandardScaler"
      ],
      "execution_count": 1,
      "outputs": [
        {
          "output_type": "stream",
          "text": [
            "/usr/local/lib/python3.6/dist-packages/statsmodels/tools/_testing.py:19: FutureWarning: pandas.util.testing is deprecated. Use the functions in the public API at pandas.testing instead.\n",
            "  import pandas.util.testing as tm\n"
          ],
          "name": "stderr"
        }
      ]
    },
    {
      "cell_type": "code",
      "metadata": {
        "id": "nfjxXM0lyBBp",
        "colab_type": "code",
        "colab": {}
      },
      "source": [
        "path='/content/drive/My Drive/Data/Sonion/Control plan and stast/Control Plan data REC 3000 - WK34 - 2020.xlsm'"
      ],
      "execution_count": 2,
      "outputs": []
    },
    {
      "cell_type": "code",
      "metadata": {
        "id": "n4p7AmLbw3Hm",
        "colab_type": "code",
        "colab": {
          "base_uri": "https://localhost:8080/",
          "height": 54
        },
        "outputId": "1aa57b9d-b404-4e73-c4ab-abbd926ba4fa"
      },
      "source": [
        "import xlrd\n",
        "xls = xlrd.open_workbook(path, on_demand=True)\n",
        "sheet_names=xls.sheet_names()\n",
        "print(xls.sheet_names())"
      ],
      "execution_count": 3,
      "outputs": [
        {
          "output_type": "stream",
          "text": [
            "['Master list', '39682', '38682', '30682', '37682', '30665', '30660-37660-38660', '30380-37380-38380', '37670-39670', '37662', '30650-37650 (3500T)', '37650-38655-39650', '37641', '30470-37470', '38546', '39615', '38940', '38594', '37560', '30740', '37640-38635', '30674-37674-38674 ', '30672-37672-38672', '30592', '30544-37544-38544-39544', '30538', '30530-37530-39530', '30480-37480-38481', '30370-37370-38370 ', '30750-30940-39750 _S1', '30750-30940-39750 _S2', '37750-37940_S1', '37750-37940_S2', '37751']\n"
          ],
          "name": "stdout"
        }
      ]
    },
    {
      "cell_type": "code",
      "metadata": {
        "id": "2VLUNBMpyweM",
        "colab_type": "code",
        "colab": {}
      },
      "source": [
        "sheet_dict={}\n",
        "xls = pd.ExcelFile(path)\n",
        "for name in sheet_names:\n",
        "  sheet_dict[name] = pd.read_excel(xls, name)"
      ],
      "execution_count": 4,
      "outputs": []
    },
    {
      "cell_type": "code",
      "metadata": {
        "id": "DrXPnbcb0GFr",
        "colab_type": "code",
        "colab": {}
      },
      "source": [
        "name='38682'\n",
        "sheet=sheet_dict[name]"
      ],
      "execution_count": 5,
      "outputs": []
    },
    {
      "cell_type": "code",
      "metadata": {
        "id": "Y-AprNLR0oZQ",
        "colab_type": "code",
        "colab": {}
      },
      "source": [
        "#sheet.to_csv('abc.xlsx')"
      ],
      "execution_count": 6,
      "outputs": []
    },
    {
      "cell_type": "code",
      "metadata": {
        "id": "u-oEVpqs1XWJ",
        "colab_type": "code",
        "colab": {}
      },
      "source": [
        "# get information in each coil\n",
        "#dim_name=sheet[sheet.columns[14]][22]\n",
        "#max=sheet[sheet.columns[14]][23]\n",
        "#min=sheet[sheet.columns[14]][24]\n",
        "#date=pd.to_datetime(sheet[sheet.columns[9]][25:])\n",
        "#dim_value=sheet[sheet.columns[14]][25:]"
      ],
      "execution_count": 7,
      "outputs": []
    },
    {
      "cell_type": "code",
      "metadata": {
        "id": "oZE4AwV85I06",
        "colab_type": "code",
        "colab": {
          "base_uri": "https://localhost:8080/",
          "height": 34
        },
        "outputId": "3ba7ac61-ab8b-440b-8150-149a612bef5a"
      },
      "source": [
        "# find begin and end col\n",
        "values_col=sheet.iloc[22,:]\n",
        "values_col.reset_index(drop=True,inplace=True)\n",
        "begin_col=values_col[values_col=='Kích thước\\nDimension'].index\n",
        "begin_col=begin_col+1\n",
        "begin_col"
      ],
      "execution_count": 8,
      "outputs": [
        {
          "output_type": "execute_result",
          "data": {
            "text/plain": [
              "Int64Index([14], dtype='int64')"
            ]
          },
          "metadata": {
            "tags": []
          },
          "execution_count": 8
        }
      ]
    },
    {
      "cell_type": "code",
      "metadata": {
        "id": "GNkS4GBu6PFC",
        "colab_type": "code",
        "colab": {
          "base_uri": "https://localhost:8080/",
          "height": 34
        },
        "outputId": "a6ce57b0-5f1b-44ee-d1a1-e645609ad7a1"
      },
      "source": [
        "end_col=values_col[values_col=='MSNV'].index\n",
        "end_col"
      ],
      "execution_count": 10,
      "outputs": [
        {
          "output_type": "execute_result",
          "data": {
            "text/plain": [
              "Int64Index([20], dtype='int64')"
            ]
          },
          "metadata": {
            "tags": []
          },
          "execution_count": 10
        }
      ]
    },
    {
      "cell_type": "code",
      "metadata": {
        "id": "OY4PJMbf68Lr",
        "colab_type": "code",
        "colab": {
          "base_uri": "https://localhost:8080/",
          "height": 68
        },
        "outputId": "1ee0c45b-0679-4925-e8a5-10158dc650d9"
      },
      "source": [
        "sheet.columns[begin_col[0]:end_col[0]]"
      ],
      "execution_count": 16,
      "outputs": [
        {
          "output_type": "execute_result",
          "data": {
            "text/plain": [
              "Index(['Unnamed: 14', 'Unnamed: 15', 'Unnamed: 16', 'Unnamed: 17',\n",
              "       'Unnamed: 18', 'Unnamed: 19'],\n",
              "      dtype='object')"
            ]
          },
          "metadata": {
            "tags": []
          },
          "execution_count": 16
        }
      ]
    },
    {
      "cell_type": "code",
      "metadata": {
        "id": "8Is5WS_QnDAm",
        "colab_type": "code",
        "colab": {}
      },
      "source": [
        "df_dict={}\n",
        "tolerance_dict={}\n",
        "for name in sheet.columns[begin_col[0]:end_col[0]]:\n",
        "  df=pd.DataFrame()\n",
        "  \n",
        "  #tolerance_dict[sheet[name][22]]=[sheet[name][24],sheet[name][23]]\n",
        "  df['Date']=sheet[sheet.columns[9]][25:]\n",
        "  df['Date']=df['Date'].apply(lambda x: x.strftime(\"%Y %m %d %H\"))\n",
        "  df['Date']=pd.to_datetime(df['Date'])\n",
        "  #df['Hour']=df['Date'].dt.hour\n",
        "  df['Value']=sheet[name][25:]\n",
        "  df['USL']=sheet[name][23] # max\n",
        "  df['LSL']=sheet[name][24] # min\n",
        "  df.dropna(subset=['Value'],inplace=True)\n",
        "  #UCL,LCL,nominal:\n",
        "  sigma=3\n",
        "  df['UCL']=df['Value'].mean() + df['Value'].std()*sigma\n",
        "  df['LCL']=df['Value'].mean() - df['Value'].std()*sigma\n",
        "  df['Mean']=df['Value'].mean()\n",
        "  df[df.columns[1:]]=df[df.columns[1:]].astype('float32')\n",
        "  dim_name=sheet[name][22]\n",
        "  df_dict[dim_name]=df.reset_index(drop=True)"
      ],
      "execution_count": 105,
      "outputs": []
    },
    {
      "cell_type": "code",
      "metadata": {
        "id": "HEeyAZ5f0MLs",
        "colab_type": "code",
        "colab": {
          "base_uri": "https://localhost:8080/",
          "height": 700
        },
        "outputId": "34bf2d8d-b6c4-4982-e4dd-8203bf0d048b"
      },
      "source": [
        "df_dict['L.Tâm Dim N']"
      ],
      "execution_count": 106,
      "outputs": [
        {
          "output_type": "execute_result",
          "data": {
            "text/html": [
              "<div>\n",
              "<style scoped>\n",
              "    .dataframe tbody tr th:only-of-type {\n",
              "        vertical-align: middle;\n",
              "    }\n",
              "\n",
              "    .dataframe tbody tr th {\n",
              "        vertical-align: top;\n",
              "    }\n",
              "\n",
              "    .dataframe thead th {\n",
              "        text-align: right;\n",
              "    }\n",
              "</style>\n",
              "<table border=\"1\" class=\"dataframe\">\n",
              "  <thead>\n",
              "    <tr style=\"text-align: right;\">\n",
              "      <th></th>\n",
              "      <th>Date</th>\n",
              "      <th>Value</th>\n",
              "      <th>USL</th>\n",
              "      <th>LSL</th>\n",
              "      <th>UCL</th>\n",
              "      <th>LCL</th>\n",
              "      <th>Mean</th>\n",
              "    </tr>\n",
              "  </thead>\n",
              "  <tbody>\n",
              "    <tr>\n",
              "      <th>0</th>\n",
              "      <td>2020-08-14 17:00:00</td>\n",
              "      <td>0.012</td>\n",
              "      <td>0.025</td>\n",
              "      <td>-0.025</td>\n",
              "      <td>0.019721</td>\n",
              "      <td>-0.004197</td>\n",
              "      <td>0.007762</td>\n",
              "    </tr>\n",
              "    <tr>\n",
              "      <th>1</th>\n",
              "      <td>2020-08-14 17:00:00</td>\n",
              "      <td>0.006</td>\n",
              "      <td>0.025</td>\n",
              "      <td>-0.025</td>\n",
              "      <td>0.019721</td>\n",
              "      <td>-0.004197</td>\n",
              "      <td>0.007762</td>\n",
              "    </tr>\n",
              "    <tr>\n",
              "      <th>2</th>\n",
              "      <td>2020-08-14 17:00:00</td>\n",
              "      <td>0.009</td>\n",
              "      <td>0.025</td>\n",
              "      <td>-0.025</td>\n",
              "      <td>0.019721</td>\n",
              "      <td>-0.004197</td>\n",
              "      <td>0.007762</td>\n",
              "    </tr>\n",
              "    <tr>\n",
              "      <th>3</th>\n",
              "      <td>2020-08-15 08:00:00</td>\n",
              "      <td>0.011</td>\n",
              "      <td>0.025</td>\n",
              "      <td>-0.025</td>\n",
              "      <td>0.019721</td>\n",
              "      <td>-0.004197</td>\n",
              "      <td>0.007762</td>\n",
              "    </tr>\n",
              "    <tr>\n",
              "      <th>4</th>\n",
              "      <td>2020-08-15 08:00:00</td>\n",
              "      <td>0.008</td>\n",
              "      <td>0.025</td>\n",
              "      <td>-0.025</td>\n",
              "      <td>0.019721</td>\n",
              "      <td>-0.004197</td>\n",
              "      <td>0.007762</td>\n",
              "    </tr>\n",
              "    <tr>\n",
              "      <th>5</th>\n",
              "      <td>2020-08-15 08:00:00</td>\n",
              "      <td>0.008</td>\n",
              "      <td>0.025</td>\n",
              "      <td>-0.025</td>\n",
              "      <td>0.019721</td>\n",
              "      <td>-0.004197</td>\n",
              "      <td>0.007762</td>\n",
              "    </tr>\n",
              "    <tr>\n",
              "      <th>6</th>\n",
              "      <td>2020-08-15 16:00:00</td>\n",
              "      <td>0.005</td>\n",
              "      <td>0.025</td>\n",
              "      <td>-0.025</td>\n",
              "      <td>0.019721</td>\n",
              "      <td>-0.004197</td>\n",
              "      <td>0.007762</td>\n",
              "    </tr>\n",
              "    <tr>\n",
              "      <th>7</th>\n",
              "      <td>2020-08-15 16:00:00</td>\n",
              "      <td>0.004</td>\n",
              "      <td>0.025</td>\n",
              "      <td>-0.025</td>\n",
              "      <td>0.019721</td>\n",
              "      <td>-0.004197</td>\n",
              "      <td>0.007762</td>\n",
              "    </tr>\n",
              "    <tr>\n",
              "      <th>8</th>\n",
              "      <td>2020-08-15 16:00:00</td>\n",
              "      <td>0.002</td>\n",
              "      <td>0.025</td>\n",
              "      <td>-0.025</td>\n",
              "      <td>0.019721</td>\n",
              "      <td>-0.004197</td>\n",
              "      <td>0.007762</td>\n",
              "    </tr>\n",
              "    <tr>\n",
              "      <th>9</th>\n",
              "      <td>2020-08-17 09:00:00</td>\n",
              "      <td>0.016</td>\n",
              "      <td>0.025</td>\n",
              "      <td>-0.025</td>\n",
              "      <td>0.019721</td>\n",
              "      <td>-0.004197</td>\n",
              "      <td>0.007762</td>\n",
              "    </tr>\n",
              "    <tr>\n",
              "      <th>10</th>\n",
              "      <td>2020-08-17 09:00:00</td>\n",
              "      <td>0.008</td>\n",
              "      <td>0.025</td>\n",
              "      <td>-0.025</td>\n",
              "      <td>0.019721</td>\n",
              "      <td>-0.004197</td>\n",
              "      <td>0.007762</td>\n",
              "    </tr>\n",
              "    <tr>\n",
              "      <th>11</th>\n",
              "      <td>2020-08-17 09:00:00</td>\n",
              "      <td>0.015</td>\n",
              "      <td>0.025</td>\n",
              "      <td>-0.025</td>\n",
              "      <td>0.019721</td>\n",
              "      <td>-0.004197</td>\n",
              "      <td>0.007762</td>\n",
              "    </tr>\n",
              "    <tr>\n",
              "      <th>12</th>\n",
              "      <td>2020-08-17 17:00:00</td>\n",
              "      <td>0.002</td>\n",
              "      <td>0.025</td>\n",
              "      <td>-0.025</td>\n",
              "      <td>0.019721</td>\n",
              "      <td>-0.004197</td>\n",
              "      <td>0.007762</td>\n",
              "    </tr>\n",
              "    <tr>\n",
              "      <th>13</th>\n",
              "      <td>2020-08-17 17:00:00</td>\n",
              "      <td>0.013</td>\n",
              "      <td>0.025</td>\n",
              "      <td>-0.025</td>\n",
              "      <td>0.019721</td>\n",
              "      <td>-0.004197</td>\n",
              "      <td>0.007762</td>\n",
              "    </tr>\n",
              "    <tr>\n",
              "      <th>14</th>\n",
              "      <td>2020-08-17 17:00:00</td>\n",
              "      <td>0.009</td>\n",
              "      <td>0.025</td>\n",
              "      <td>-0.025</td>\n",
              "      <td>0.019721</td>\n",
              "      <td>-0.004197</td>\n",
              "      <td>0.007762</td>\n",
              "    </tr>\n",
              "    <tr>\n",
              "      <th>15</th>\n",
              "      <td>2020-08-20 09:00:00</td>\n",
              "      <td>0.005</td>\n",
              "      <td>0.025</td>\n",
              "      <td>-0.025</td>\n",
              "      <td>0.019721</td>\n",
              "      <td>-0.004197</td>\n",
              "      <td>0.007762</td>\n",
              "    </tr>\n",
              "    <tr>\n",
              "      <th>16</th>\n",
              "      <td>2020-08-20 09:00:00</td>\n",
              "      <td>0.005</td>\n",
              "      <td>0.025</td>\n",
              "      <td>-0.025</td>\n",
              "      <td>0.019721</td>\n",
              "      <td>-0.004197</td>\n",
              "      <td>0.007762</td>\n",
              "    </tr>\n",
              "    <tr>\n",
              "      <th>17</th>\n",
              "      <td>2020-08-20 09:00:00</td>\n",
              "      <td>0.009</td>\n",
              "      <td>0.025</td>\n",
              "      <td>-0.025</td>\n",
              "      <td>0.019721</td>\n",
              "      <td>-0.004197</td>\n",
              "      <td>0.007762</td>\n",
              "    </tr>\n",
              "    <tr>\n",
              "      <th>18</th>\n",
              "      <td>2020-08-20 16:00:00</td>\n",
              "      <td>0.008</td>\n",
              "      <td>0.025</td>\n",
              "      <td>-0.025</td>\n",
              "      <td>0.019721</td>\n",
              "      <td>-0.004197</td>\n",
              "      <td>0.007762</td>\n",
              "    </tr>\n",
              "    <tr>\n",
              "      <th>19</th>\n",
              "      <td>2020-08-20 16:00:00</td>\n",
              "      <td>0.003</td>\n",
              "      <td>0.025</td>\n",
              "      <td>-0.025</td>\n",
              "      <td>0.019721</td>\n",
              "      <td>-0.004197</td>\n",
              "      <td>0.007762</td>\n",
              "    </tr>\n",
              "    <tr>\n",
              "      <th>20</th>\n",
              "      <td>2020-08-20 16:00:00</td>\n",
              "      <td>0.005</td>\n",
              "      <td>0.025</td>\n",
              "      <td>-0.025</td>\n",
              "      <td>0.019721</td>\n",
              "      <td>-0.004197</td>\n",
              "      <td>0.007762</td>\n",
              "    </tr>\n",
              "  </tbody>\n",
              "</table>\n",
              "</div>"
            ],
            "text/plain": [
              "                  Date  Value    USL    LSL       UCL       LCL      Mean\n",
              "0  2020-08-14 17:00:00  0.012  0.025 -0.025  0.019721 -0.004197  0.007762\n",
              "1  2020-08-14 17:00:00  0.006  0.025 -0.025  0.019721 -0.004197  0.007762\n",
              "2  2020-08-14 17:00:00  0.009  0.025 -0.025  0.019721 -0.004197  0.007762\n",
              "3  2020-08-15 08:00:00  0.011  0.025 -0.025  0.019721 -0.004197  0.007762\n",
              "4  2020-08-15 08:00:00  0.008  0.025 -0.025  0.019721 -0.004197  0.007762\n",
              "5  2020-08-15 08:00:00  0.008  0.025 -0.025  0.019721 -0.004197  0.007762\n",
              "6  2020-08-15 16:00:00  0.005  0.025 -0.025  0.019721 -0.004197  0.007762\n",
              "7  2020-08-15 16:00:00  0.004  0.025 -0.025  0.019721 -0.004197  0.007762\n",
              "8  2020-08-15 16:00:00  0.002  0.025 -0.025  0.019721 -0.004197  0.007762\n",
              "9  2020-08-17 09:00:00  0.016  0.025 -0.025  0.019721 -0.004197  0.007762\n",
              "10 2020-08-17 09:00:00  0.008  0.025 -0.025  0.019721 -0.004197  0.007762\n",
              "11 2020-08-17 09:00:00  0.015  0.025 -0.025  0.019721 -0.004197  0.007762\n",
              "12 2020-08-17 17:00:00  0.002  0.025 -0.025  0.019721 -0.004197  0.007762\n",
              "13 2020-08-17 17:00:00  0.013  0.025 -0.025  0.019721 -0.004197  0.007762\n",
              "14 2020-08-17 17:00:00  0.009  0.025 -0.025  0.019721 -0.004197  0.007762\n",
              "15 2020-08-20 09:00:00  0.005  0.025 -0.025  0.019721 -0.004197  0.007762\n",
              "16 2020-08-20 09:00:00  0.005  0.025 -0.025  0.019721 -0.004197  0.007762\n",
              "17 2020-08-20 09:00:00  0.009  0.025 -0.025  0.019721 -0.004197  0.007762\n",
              "18 2020-08-20 16:00:00  0.008  0.025 -0.025  0.019721 -0.004197  0.007762\n",
              "19 2020-08-20 16:00:00  0.003  0.025 -0.025  0.019721 -0.004197  0.007762\n",
              "20 2020-08-20 16:00:00  0.005  0.025 -0.025  0.019721 -0.004197  0.007762"
            ]
          },
          "metadata": {
            "tags": []
          },
          "execution_count": 106
        }
      ]
    },
    {
      "cell_type": "code",
      "metadata": {
        "id": "UgwKREOBwVkj",
        "colab_type": "code",
        "colab": {
          "base_uri": "https://localhost:8080/",
          "height": 1000
        },
        "outputId": "8d27195d-a8cb-4330-9ad3-45a2618b21db"
      },
      "source": [
        "i=1\n",
        "#Layout\n",
        "fig = make_subplots(\n",
        "    rows=len(df_dict), cols=1,\n",
        "    #shared_xaxes=True, # share same axis\n",
        "    vertical_spacing=0.05, # adjust spacing between charts\n",
        "    #column_widths=[0.8, 0.2],\n",
        "    subplot_titles=(list(df_dict.keys()))\n",
        ")\n",
        "for name in df_dict.keys(): #also group\n",
        "  df=df_dict[name].copy()\n",
        "  df=df.sort_values(by=['Date'])\n",
        "  for a in df.columns[1:]:\n",
        "    df[a] = df[a].round(decimals=3)\n",
        "\n",
        "  df=df.groupby('Date').mean()\n",
        "  #df=df.set_index('Date')\n",
        "  #if start_date != '':\n",
        "  #  df=df[start_date:end_date]\n",
        "  #Control chart 1 \n",
        "  fig.append_trace(go.Scatter(\n",
        "                          x=df.index, y=df['Value'],mode='lines+markers',\n",
        "                          name='mean ' + name,line=dict( color='#4280F5')\n",
        "                          ),row=i, col=1\n",
        "                )\n",
        "  #USL, LSL\n",
        "  fig.append_trace(go.Scatter(x=df.index, y=df['USL'],name='USL '+name, line=dict( color='#FF5733'),mode='lines'),row=i, col=1)\n",
        "  fig.append_trace(go.Scatter(x=df.index, y=df['LSL'],name='LSL '+name,line=dict( color='#FF5733'),mode='lines'),row=i, col=1)\n",
        "  #fig.append_trace(go.Scatter(x=df['Datef'], y=df['Nominal'],name='Nominal '+name,line=dict( color='#FF5733')),row=i, col=1)\n",
        "  # UCL, LCL\n",
        "  fig.append_trace(go.Scatter(x=df.index, y=df['UCL'],name='UCL '+name, line=dict( color='#33C2FF'),mode='lines'),row=i, col=1)\n",
        "  fig.append_trace(go.Scatter(x=df.index, y=df['LCL'],name='LCL '+name, line=dict( color='#33C2FF'),mode='lines'),row=i, col=1)\n",
        "  fig.append_trace(go.Scatter(x=df.index, y=df['Mean'],name='Mean '+name, line=dict( color='#33C2FF'),mode='lines'),row=i, col=1)\n",
        "  i=i+1\n",
        "  \n",
        "fig.update_layout(height=200*len(df_dict), width=1200, title_text='Line chart')\n",
        "fig.show()"
      ],
      "execution_count": 108,
      "outputs": [
        {
          "output_type": "display_data",
          "data": {
            "text/html": [
              "<html>\n",
              "<head><meta charset=\"utf-8\" /></head>\n",
              "<body>\n",
              "    <div>\n",
              "            <script src=\"https://cdnjs.cloudflare.com/ajax/libs/mathjax/2.7.5/MathJax.js?config=TeX-AMS-MML_SVG\"></script><script type=\"text/javascript\">if (window.MathJax) {MathJax.Hub.Config({SVG: {font: \"STIX-Web\"}});}</script>\n",
              "                <script type=\"text/javascript\">window.PlotlyConfig = {MathJaxConfig: 'local'};</script>\n",
              "        <script src=\"https://cdn.plot.ly/plotly-latest.min.js\"></script>    \n",
              "            <div id=\"7e2978e5-8ace-465b-bdef-28ef4da8fec7\" class=\"plotly-graph-div\" style=\"height:1200px; width:1200px;\"></div>\n",
              "            <script type=\"text/javascript\">\n",
              "                \n",
              "                    window.PLOTLYENV=window.PLOTLYENV || {};\n",
              "                    \n",
              "                if (document.getElementById(\"7e2978e5-8ace-465b-bdef-28ef4da8fec7\")) {\n",
              "                    Plotly.newPlot(\n",
              "                        '7e2978e5-8ace-465b-bdef-28ef4da8fec7',\n",
              "                        [{\"line\": {\"color\": \"#4280F5\"}, \"mode\": \"lines+markers\", \"name\": \"mean Hinge Dim F\", \"type\": \"scatter\", \"x\": [\"2020-08-14T17:00:00\", \"2020-08-15T08:00:00\", \"2020-08-15T16:00:00\", \"2020-08-17T09:00:00\", \"2020-08-17T17:00:00\", \"2020-08-20T09:00:00\", \"2020-08-20T16:00:00\"], \"xaxis\": \"x\", \"y\": [0.2378000020980835, 0.2443999946117401, 0.24379999935626984, 0.24500000476837158, 0.23759999871253967, 0.2409999966621399, 0.2433999925851822], \"yaxis\": \"y\"}, {\"line\": {\"color\": \"#FF5733\"}, \"mode\": \"lines\", \"name\": \"USL Hinge Dim F\", \"type\": \"scatter\", \"x\": [\"2020-08-14T17:00:00\", \"2020-08-15T08:00:00\", \"2020-08-15T16:00:00\", \"2020-08-17T09:00:00\", \"2020-08-17T17:00:00\", \"2020-08-20T09:00:00\", \"2020-08-20T16:00:00\"], \"xaxis\": \"x\", \"y\": [0.25, 0.25, 0.25, 0.25, 0.25, 0.25, 0.25], \"yaxis\": \"y\"}, {\"line\": {\"color\": \"#FF5733\"}, \"mode\": \"lines\", \"name\": \"LSL Hinge Dim F\", \"type\": \"scatter\", \"x\": [\"2020-08-14T17:00:00\", \"2020-08-15T08:00:00\", \"2020-08-15T16:00:00\", \"2020-08-17T09:00:00\", \"2020-08-17T17:00:00\", \"2020-08-20T09:00:00\", \"2020-08-20T16:00:00\"], \"xaxis\": \"x\", \"y\": [0.20999999344348907, 0.20999999344348907, 0.20999999344348907, 0.20999999344348907, 0.20999999344348907, 0.20999999344348907, 0.20999999344348907], \"yaxis\": \"y\"}, {\"line\": {\"color\": \"#33C2FF\"}, \"mode\": \"lines\", \"name\": \"UCL Hinge Dim F\", \"type\": \"scatter\", \"x\": [\"2020-08-14T17:00:00\", \"2020-08-15T08:00:00\", \"2020-08-15T16:00:00\", \"2020-08-17T09:00:00\", \"2020-08-17T17:00:00\", \"2020-08-20T09:00:00\", \"2020-08-20T16:00:00\"], \"xaxis\": \"x\", \"y\": [0.25600001215934753, 0.25600001215934753, 0.25600001215934753, 0.25600001215934753, 0.25600001215934753, 0.25600001215934753, 0.25600001215934753], \"yaxis\": \"y\"}, {\"line\": {\"color\": \"#33C2FF\"}, \"mode\": \"lines\", \"name\": \"LCL Hinge Dim F\", \"type\": \"scatter\", \"x\": [\"2020-08-14T17:00:00\", \"2020-08-15T08:00:00\", \"2020-08-15T16:00:00\", \"2020-08-17T09:00:00\", \"2020-08-17T17:00:00\", \"2020-08-20T09:00:00\", \"2020-08-20T16:00:00\"], \"xaxis\": \"x\", \"y\": [0.2280000001192093, 0.2280000001192093, 0.2280000001192093, 0.2280000001192093, 0.2280000001192093, 0.2280000001192093, 0.2280000001192093], \"yaxis\": \"y\"}, {\"line\": {\"color\": \"#33C2FF\"}, \"mode\": \"lines\", \"name\": \"Mean Hinge Dim F\", \"type\": \"scatter\", \"x\": [\"2020-08-14T17:00:00\", \"2020-08-15T08:00:00\", \"2020-08-15T16:00:00\", \"2020-08-17T09:00:00\", \"2020-08-17T17:00:00\", \"2020-08-20T09:00:00\", \"2020-08-20T16:00:00\"], \"xaxis\": \"x\", \"y\": [0.24199999868869781, 0.24199999868869781, 0.24199999868869781, 0.24199999868869781, 0.24199999868869781, 0.24199999868869781, 0.24199999868869781], \"yaxis\": \"y\"}, {\"line\": {\"color\": \"#4280F5\"}, \"mode\": \"lines+markers\", \"name\": \"mean Chi\\u1ec1u d\\u00e0i Dim B\", \"type\": \"scatter\", \"x\": [\"2020-08-14T17:00:00\", \"2020-08-15T08:00:00\", \"2020-08-15T16:00:00\", \"2020-08-17T09:00:00\", \"2020-08-17T17:00:00\", \"2020-08-20T09:00:00\", \"2020-08-20T16:00:00\"], \"xaxis\": \"x2\", \"y\": [7.613666534423828, 7.616666793823242, 7.616000175476074, 7.61466646194458, 7.617000102996826, 7.612666606903076, 7.613666534423828], \"yaxis\": \"y2\"}, {\"line\": {\"color\": \"#FF5733\"}, \"mode\": \"lines\", \"name\": \"USL Chi\\u1ec1u d\\u00e0i Dim B\", \"type\": \"scatter\", \"x\": [\"2020-08-14T17:00:00\", \"2020-08-15T08:00:00\", \"2020-08-15T16:00:00\", \"2020-08-17T09:00:00\", \"2020-08-17T17:00:00\", \"2020-08-20T09:00:00\", \"2020-08-20T16:00:00\"], \"xaxis\": \"x2\", \"y\": [7.619999885559082, 7.619999885559082, 7.619999885559082, 7.619999885559082, 7.619999885559082, 7.619999885559082, 7.619999885559082], \"yaxis\": \"y2\"}, {\"line\": {\"color\": \"#FF5733\"}, \"mode\": \"lines\", \"name\": \"LSL Chi\\u1ec1u d\\u00e0i Dim B\", \"type\": \"scatter\", \"x\": [\"2020-08-14T17:00:00\", \"2020-08-15T08:00:00\", \"2020-08-15T16:00:00\", \"2020-08-17T09:00:00\", \"2020-08-17T17:00:00\", \"2020-08-20T09:00:00\", \"2020-08-20T16:00:00\"], \"xaxis\": \"x2\", \"y\": [7.599999904632568, 7.599999904632568, 7.599999904632568, 7.599999904632568, 7.599999904632568, 7.599999904632568, 7.599999904632568], \"yaxis\": \"y2\"}, {\"line\": {\"color\": \"#33C2FF\"}, \"mode\": \"lines\", \"name\": \"UCL Chi\\u1ec1u d\\u00e0i Dim B\", \"type\": \"scatter\", \"x\": [\"2020-08-14T17:00:00\", \"2020-08-15T08:00:00\", \"2020-08-15T16:00:00\", \"2020-08-17T09:00:00\", \"2020-08-17T17:00:00\", \"2020-08-20T09:00:00\", \"2020-08-20T16:00:00\"], \"xaxis\": \"x2\", \"y\": [7.625, 7.625, 7.625, 7.625, 7.625, 7.625, 7.625], \"yaxis\": \"y2\"}, {\"line\": {\"color\": \"#33C2FF\"}, \"mode\": \"lines\", \"name\": \"LCL Chi\\u1ec1u d\\u00e0i Dim B\", \"type\": \"scatter\", \"x\": [\"2020-08-14T17:00:00\", \"2020-08-15T08:00:00\", \"2020-08-15T16:00:00\", \"2020-08-17T09:00:00\", \"2020-08-17T17:00:00\", \"2020-08-20T09:00:00\", \"2020-08-20T16:00:00\"], \"xaxis\": \"x2\", \"y\": [7.604000091552734, 7.604000091552734, 7.604000091552734, 7.604000091552734, 7.604000091552734, 7.604000091552734, 7.604000091552734], \"yaxis\": \"y2\"}, {\"line\": {\"color\": \"#33C2FF\"}, \"mode\": \"lines\", \"name\": \"Mean Chi\\u1ec1u d\\u00e0i Dim B\", \"type\": \"scatter\", \"x\": [\"2020-08-14T17:00:00\", \"2020-08-15T08:00:00\", \"2020-08-15T16:00:00\", \"2020-08-17T09:00:00\", \"2020-08-17T17:00:00\", \"2020-08-20T09:00:00\", \"2020-08-20T16:00:00\"], \"xaxis\": \"x2\", \"y\": [7.614999771118164, 7.614999771118164, 7.614999771118164, 7.614999771118164, 7.614999771118164, 7.614999771118164, 7.614999771118164], \"yaxis\": \"y2\"}, {\"line\": {\"color\": \"#4280F5\"}, \"mode\": \"lines+markers\", \"name\": \"mean Chi\\u1ec1u r\\u1ed9ng Dim A\", \"type\": \"scatter\", \"x\": [\"2020-08-14T17:00:00\", \"2020-08-15T08:00:00\", \"2020-08-15T16:00:00\", \"2020-08-17T09:00:00\", \"2020-08-17T17:00:00\", \"2020-08-20T09:00:00\", \"2020-08-20T16:00:00\"], \"xaxis\": \"x3\", \"y\": [3.8283333778381348, 3.8303334712982178, 3.8266665935516357, 3.8253333568573, 3.8299999237060547, 3.822666645050049, 3.8266665935516357], \"yaxis\": \"y3\"}, {\"line\": {\"color\": \"#FF5733\"}, \"mode\": \"lines\", \"name\": \"USL Chi\\u1ec1u r\\u1ed9ng Dim A\", \"type\": \"scatter\", \"x\": [\"2020-08-14T17:00:00\", \"2020-08-15T08:00:00\", \"2020-08-15T16:00:00\", \"2020-08-17T09:00:00\", \"2020-08-17T17:00:00\", \"2020-08-20T09:00:00\", \"2020-08-20T16:00:00\"], \"xaxis\": \"x3\", \"y\": [3.8399999141693115, 3.8399999141693115, 3.8399999141693115, 3.8399999141693115, 3.8399999141693115, 3.8399999141693115, 3.8399999141693115], \"yaxis\": \"y3\"}, {\"line\": {\"color\": \"#FF5733\"}, \"mode\": \"lines\", \"name\": \"LSL Chi\\u1ec1u r\\u1ed9ng Dim A\", \"type\": \"scatter\", \"x\": [\"2020-08-14T17:00:00\", \"2020-08-15T08:00:00\", \"2020-08-15T16:00:00\", \"2020-08-17T09:00:00\", \"2020-08-17T17:00:00\", \"2020-08-20T09:00:00\", \"2020-08-20T16:00:00\"], \"xaxis\": \"x3\", \"y\": [3.819999933242798, 3.819999933242798, 3.819999933242798, 3.819999933242798, 3.819999933242798, 3.819999933242798, 3.819999933242798], \"yaxis\": \"y3\"}, {\"line\": {\"color\": \"#33C2FF\"}, \"mode\": \"lines\", \"name\": \"UCL Chi\\u1ec1u r\\u1ed9ng Dim A\", \"type\": \"scatter\", \"x\": [\"2020-08-14T17:00:00\", \"2020-08-15T08:00:00\", \"2020-08-15T16:00:00\", \"2020-08-17T09:00:00\", \"2020-08-17T17:00:00\", \"2020-08-20T09:00:00\", \"2020-08-20T16:00:00\"], \"xaxis\": \"x3\", \"y\": [3.8389999866485596, 3.8389999866485596, 3.8389999866485596, 3.8389999866485596, 3.8389999866485596, 3.8389999866485596, 3.8389999866485596], \"yaxis\": \"y3\"}, {\"line\": {\"color\": \"#33C2FF\"}, \"mode\": \"lines\", \"name\": \"LCL Chi\\u1ec1u r\\u1ed9ng Dim A\", \"type\": \"scatter\", \"x\": [\"2020-08-14T17:00:00\", \"2020-08-15T08:00:00\", \"2020-08-15T16:00:00\", \"2020-08-17T09:00:00\", \"2020-08-17T17:00:00\", \"2020-08-20T09:00:00\", \"2020-08-20T16:00:00\"], \"xaxis\": \"x3\", \"y\": [3.815000057220459, 3.815000057220459, 3.815000057220459, 3.815000057220459, 3.815000057220459, 3.815000057220459, 3.815000057220459], \"yaxis\": \"y3\"}, {\"line\": {\"color\": \"#33C2FF\"}, \"mode\": \"lines\", \"name\": \"Mean Chi\\u1ec1u r\\u1ed9ng Dim A\", \"type\": \"scatter\", \"x\": [\"2020-08-14T17:00:00\", \"2020-08-15T08:00:00\", \"2020-08-15T16:00:00\", \"2020-08-17T09:00:00\", \"2020-08-17T17:00:00\", \"2020-08-20T09:00:00\", \"2020-08-20T16:00:00\"], \"xaxis\": \"x3\", \"y\": [3.8269999027252197, 3.8269999027252197, 3.8269999027252197, 3.8269999027252197, 3.8269999027252197, 3.8269999027252197, 3.8269999027252197], \"yaxis\": \"y3\"}, {\"line\": {\"color\": \"#4280F5\"}, \"mode\": \"lines+markers\", \"name\": \"mean L.T\\u00e2m Dim N\", \"type\": \"scatter\", \"x\": [\"2020-08-14T17:00:00\", \"2020-08-15T08:00:00\", \"2020-08-15T16:00:00\", \"2020-08-17T09:00:00\", \"2020-08-17T17:00:00\", \"2020-08-20T09:00:00\", \"2020-08-20T16:00:00\"], \"xaxis\": \"x4\", \"y\": [0.008999999612569809, 0.009000000543892384, 0.003666666802018881, 0.013000000268220901, 0.00800000037997961, 0.006333332974463701, 0.005333333276212215], \"yaxis\": \"y4\"}, {\"line\": {\"color\": \"#FF5733\"}, \"mode\": \"lines\", \"name\": \"USL L.T\\u00e2m Dim N\", \"type\": \"scatter\", \"x\": [\"2020-08-14T17:00:00\", \"2020-08-15T08:00:00\", \"2020-08-15T16:00:00\", \"2020-08-17T09:00:00\", \"2020-08-17T17:00:00\", \"2020-08-20T09:00:00\", \"2020-08-20T16:00:00\"], \"xaxis\": \"x4\", \"y\": [0.02500000037252903, 0.02500000037252903, 0.02500000037252903, 0.02500000037252903, 0.02500000037252903, 0.02500000037252903, 0.02500000037252903], \"yaxis\": \"y4\"}, {\"line\": {\"color\": \"#FF5733\"}, \"mode\": \"lines\", \"name\": \"LSL L.T\\u00e2m Dim N\", \"type\": \"scatter\", \"x\": [\"2020-08-14T17:00:00\", \"2020-08-15T08:00:00\", \"2020-08-15T16:00:00\", \"2020-08-17T09:00:00\", \"2020-08-17T17:00:00\", \"2020-08-20T09:00:00\", \"2020-08-20T16:00:00\"], \"xaxis\": \"x4\", \"y\": [-0.02500000037252903, -0.02500000037252903, -0.02500000037252903, -0.02500000037252903, -0.02500000037252903, -0.02500000037252903, -0.02500000037252903], \"yaxis\": \"y4\"}, {\"line\": {\"color\": \"#33C2FF\"}, \"mode\": \"lines\", \"name\": \"UCL L.T\\u00e2m Dim N\", \"type\": \"scatter\", \"x\": [\"2020-08-14T17:00:00\", \"2020-08-15T08:00:00\", \"2020-08-15T16:00:00\", \"2020-08-17T09:00:00\", \"2020-08-17T17:00:00\", \"2020-08-20T09:00:00\", \"2020-08-20T16:00:00\"], \"xaxis\": \"x4\", \"y\": [0.019999999552965164, 0.019999999552965164, 0.019999999552965164, 0.019999999552965164, 0.019999999552965164, 0.019999999552965164, 0.019999999552965164], \"yaxis\": \"y4\"}, {\"line\": {\"color\": \"#33C2FF\"}, \"mode\": \"lines\", \"name\": \"LCL L.T\\u00e2m Dim N\", \"type\": \"scatter\", \"x\": [\"2020-08-14T17:00:00\", \"2020-08-15T08:00:00\", \"2020-08-15T16:00:00\", \"2020-08-17T09:00:00\", \"2020-08-17T17:00:00\", \"2020-08-20T09:00:00\", \"2020-08-20T16:00:00\"], \"xaxis\": \"x4\", \"y\": [-0.004000000189989805, -0.004000000189989805, -0.004000000189989805, -0.004000000189989805, -0.004000000189989805, -0.004000000189989805, -0.004000000189989805], \"yaxis\": \"y4\"}, {\"line\": {\"color\": \"#33C2FF\"}, \"mode\": \"lines\", \"name\": \"Mean L.T\\u00e2m Dim N\", \"type\": \"scatter\", \"x\": [\"2020-08-14T17:00:00\", \"2020-08-15T08:00:00\", \"2020-08-15T16:00:00\", \"2020-08-17T09:00:00\", \"2020-08-17T17:00:00\", \"2020-08-20T09:00:00\", \"2020-08-20T16:00:00\"], \"xaxis\": \"x4\", \"y\": [0.00800000037997961, 0.00800000037997961, 0.00800000037997961, 0.00800000037997961, 0.00800000037997961, 0.00800000037997961, 0.00800000037997961], \"yaxis\": \"y4\"}, {\"line\": {\"color\": \"#4280F5\"}, \"mode\": \"lines+markers\", \"name\": \"mean Offset Dim M\", \"type\": \"scatter\", \"x\": [\"2020-08-14T17:00:00\", \"2020-08-15T08:00:00\", \"2020-08-15T16:00:00\", \"2020-08-17T09:00:00\", \"2020-08-17T17:00:00\", \"2020-08-20T09:00:00\", \"2020-08-20T16:00:00\"], \"xaxis\": \"x5\", \"y\": [0.010250000283122063, 0.012500000186264515, 0.03099999949336052, 0.020500000566244125, 0.017999999225139618, 0.008249999955296516, 0.012500000186264515], \"yaxis\": \"y5\"}, {\"line\": {\"color\": \"#FF5733\"}, \"mode\": \"lines\", \"name\": \"USL Offset Dim M\", \"type\": \"scatter\", \"x\": [\"2020-08-14T17:00:00\", \"2020-08-15T08:00:00\", \"2020-08-15T16:00:00\", \"2020-08-17T09:00:00\", \"2020-08-17T17:00:00\", \"2020-08-20T09:00:00\", \"2020-08-20T16:00:00\"], \"xaxis\": \"x5\", \"y\": [0.05000000074505806, 0.05000000074505806, 0.05000000074505806, 0.05000000074505806, 0.05000000074505806, 0.05000000074505806, 0.05000000074505806], \"yaxis\": \"y5\"}, {\"line\": {\"color\": \"#FF5733\"}, \"mode\": \"lines\", \"name\": \"LSL Offset Dim M\", \"type\": \"scatter\", \"x\": [\"2020-08-14T17:00:00\", \"2020-08-15T08:00:00\", \"2020-08-15T16:00:00\", \"2020-08-17T09:00:00\", \"2020-08-17T17:00:00\", \"2020-08-20T09:00:00\", \"2020-08-20T16:00:00\"], \"xaxis\": \"x5\", \"y\": [null, null, null, null, null, null, null], \"yaxis\": \"y5\"}, {\"line\": {\"color\": \"#33C2FF\"}, \"mode\": \"lines\", \"name\": \"UCL Offset Dim M\", \"type\": \"scatter\", \"x\": [\"2020-08-14T17:00:00\", \"2020-08-15T08:00:00\", \"2020-08-15T16:00:00\", \"2020-08-17T09:00:00\", \"2020-08-17T17:00:00\", \"2020-08-20T09:00:00\", \"2020-08-20T16:00:00\"], \"xaxis\": \"x5\", \"y\": [0.05400000140070915, 0.05400000140070915, 0.05400000140070915, 0.05400000140070915, 0.05400000140070915, 0.05400000140070915, 0.05400000140070915], \"yaxis\": \"y5\"}, {\"line\": {\"color\": \"#33C2FF\"}, \"mode\": \"lines\", \"name\": \"LCL Offset Dim M\", \"type\": \"scatter\", \"x\": [\"2020-08-14T17:00:00\", \"2020-08-15T08:00:00\", \"2020-08-15T16:00:00\", \"2020-08-17T09:00:00\", \"2020-08-17T17:00:00\", \"2020-08-20T09:00:00\", \"2020-08-20T16:00:00\"], \"xaxis\": \"x5\", \"y\": [-0.02199999988079071, -0.02199999988079071, -0.02199999988079071, -0.02199999988079071, -0.02199999988079071, -0.02199999988079071, -0.02199999988079071], \"yaxis\": \"y5\"}, {\"line\": {\"color\": \"#33C2FF\"}, \"mode\": \"lines\", \"name\": \"Mean Offset Dim M\", \"type\": \"scatter\", \"x\": [\"2020-08-14T17:00:00\", \"2020-08-15T08:00:00\", \"2020-08-15T16:00:00\", \"2020-08-17T09:00:00\", \"2020-08-17T17:00:00\", \"2020-08-20T09:00:00\", \"2020-08-20T16:00:00\"], \"xaxis\": \"x5\", \"y\": [0.01600000075995922, 0.01600000075995922, 0.01600000075995922, 0.01600000075995922, 0.01600000075995922, 0.01600000075995922, 0.01600000075995922], \"yaxis\": \"y5\"}, {\"line\": {\"color\": \"#4280F5\"}, \"mode\": \"lines+markers\", \"name\": \"mean Ba v\\u1edb tr\\u00ean membrane\", \"type\": \"scatter\", \"x\": [\"2020-08-14T17:00:00\", \"2020-08-15T08:00:00\", \"2020-08-15T16:00:00\", \"2020-08-17T09:00:00\", \"2020-08-17T17:00:00\", \"2020-08-20T09:00:00\", \"2020-08-20T16:00:00\"], \"xaxis\": \"x6\", \"y\": [0.003800000064074993, 0.002199999988079071, 0.003200000151991844, 0.004000000189989805, 0.003200000151991844, 0.00419999985024333, 0.0034000000450760126], \"yaxis\": \"y6\"}, {\"line\": {\"color\": \"#FF5733\"}, \"mode\": \"lines\", \"name\": \"USL Ba v\\u1edb tr\\u00ean membrane\", \"type\": \"scatter\", \"x\": [\"2020-08-14T17:00:00\", \"2020-08-15T08:00:00\", \"2020-08-15T16:00:00\", \"2020-08-17T09:00:00\", \"2020-08-17T17:00:00\", \"2020-08-20T09:00:00\", \"2020-08-20T16:00:00\"], \"xaxis\": \"x6\", \"y\": [0.004999999888241291, 0.004999999888241291, 0.004999999888241291, 0.004999999888241291, 0.004999999888241291, 0.004999999888241291, 0.004999999888241291], \"yaxis\": \"y6\"}, {\"line\": {\"color\": \"#FF5733\"}, \"mode\": \"lines\", \"name\": \"LSL Ba v\\u1edb tr\\u00ean membrane\", \"type\": \"scatter\", \"x\": [\"2020-08-14T17:00:00\", \"2020-08-15T08:00:00\", \"2020-08-15T16:00:00\", \"2020-08-17T09:00:00\", \"2020-08-17T17:00:00\", \"2020-08-20T09:00:00\", \"2020-08-20T16:00:00\"], \"xaxis\": \"x6\", \"y\": [null, null, null, null, null, null, null], \"yaxis\": \"y6\"}, {\"line\": {\"color\": \"#33C2FF\"}, \"mode\": \"lines\", \"name\": \"UCL Ba v\\u1edb tr\\u00ean membrane\", \"type\": \"scatter\", \"x\": [\"2020-08-14T17:00:00\", \"2020-08-15T08:00:00\", \"2020-08-15T16:00:00\", \"2020-08-17T09:00:00\", \"2020-08-17T17:00:00\", \"2020-08-20T09:00:00\", \"2020-08-20T16:00:00\"], \"xaxis\": \"x6\", \"y\": [0.007000000216066837, 0.007000000216066837, 0.007000000216066837, 0.007000000216066837, 0.007000000216066837, 0.007000000216066837, 0.007000000216066837], \"yaxis\": \"y6\"}, {\"line\": {\"color\": \"#33C2FF\"}, \"mode\": \"lines\", \"name\": \"LCL Ba v\\u1edb tr\\u00ean membrane\", \"type\": \"scatter\", \"x\": [\"2020-08-14T17:00:00\", \"2020-08-15T08:00:00\", \"2020-08-15T16:00:00\", \"2020-08-17T09:00:00\", \"2020-08-17T17:00:00\", \"2020-08-20T09:00:00\", \"2020-08-20T16:00:00\"], \"xaxis\": \"x6\", \"y\": [0.0, 0.0, 0.0, 0.0, 0.0, 0.0, 0.0], \"yaxis\": \"y6\"}, {\"line\": {\"color\": \"#33C2FF\"}, \"mode\": \"lines\", \"name\": \"Mean Ba v\\u1edb tr\\u00ean membrane\", \"type\": \"scatter\", \"x\": [\"2020-08-14T17:00:00\", \"2020-08-15T08:00:00\", \"2020-08-15T16:00:00\", \"2020-08-17T09:00:00\", \"2020-08-17T17:00:00\", \"2020-08-20T09:00:00\", \"2020-08-20T16:00:00\"], \"xaxis\": \"x6\", \"y\": [0.003000000026077032, 0.003000000026077032, 0.003000000026077032, 0.003000000026077032, 0.003000000026077032, 0.003000000026077032, 0.003000000026077032], \"yaxis\": \"y6\"}],\n",
              "                        {\"annotations\": [{\"font\": {\"size\": 16}, \"showarrow\": false, \"text\": \"Hinge Dim F\", \"x\": 0.5, \"xanchor\": \"center\", \"xref\": \"paper\", \"y\": 1.0, \"yanchor\": \"bottom\", \"yref\": \"paper\"}, {\"font\": {\"size\": 16}, \"showarrow\": false, \"text\": \"Chi\\u1ec1u d\\u00e0i Dim B\", \"x\": 0.5, \"xanchor\": \"center\", \"xref\": \"paper\", \"y\": 0.825, \"yanchor\": \"bottom\", \"yref\": \"paper\"}, {\"font\": {\"size\": 16}, \"showarrow\": false, \"text\": \"Chi\\u1ec1u r\\u1ed9ng Dim A\", \"x\": 0.5, \"xanchor\": \"center\", \"xref\": \"paper\", \"y\": 0.65, \"yanchor\": \"bottom\", \"yref\": \"paper\"}, {\"font\": {\"size\": 16}, \"showarrow\": false, \"text\": \"L.T\\u00e2m Dim N\", \"x\": 0.5, \"xanchor\": \"center\", \"xref\": \"paper\", \"y\": 0.475, \"yanchor\": \"bottom\", \"yref\": \"paper\"}, {\"font\": {\"size\": 16}, \"showarrow\": false, \"text\": \"Offset Dim M\", \"x\": 0.5, \"xanchor\": \"center\", \"xref\": \"paper\", \"y\": 0.3, \"yanchor\": \"bottom\", \"yref\": \"paper\"}, {\"font\": {\"size\": 16}, \"showarrow\": false, \"text\": \"Ba v\\u1edb tr\\u00ean membrane\", \"x\": 0.5, \"xanchor\": \"center\", \"xref\": \"paper\", \"y\": 0.125, \"yanchor\": \"bottom\", \"yref\": \"paper\"}], \"height\": 1200, \"template\": {\"data\": {\"bar\": [{\"error_x\": {\"color\": \"#2a3f5f\"}, \"error_y\": {\"color\": \"#2a3f5f\"}, \"marker\": {\"line\": {\"color\": \"#E5ECF6\", \"width\": 0.5}}, \"type\": \"bar\"}], \"barpolar\": [{\"marker\": {\"line\": {\"color\": \"#E5ECF6\", \"width\": 0.5}}, \"type\": \"barpolar\"}], \"carpet\": [{\"aaxis\": {\"endlinecolor\": \"#2a3f5f\", \"gridcolor\": \"white\", \"linecolor\": \"white\", \"minorgridcolor\": \"white\", \"startlinecolor\": \"#2a3f5f\"}, \"baxis\": {\"endlinecolor\": \"#2a3f5f\", \"gridcolor\": \"white\", \"linecolor\": \"white\", \"minorgridcolor\": \"white\", \"startlinecolor\": \"#2a3f5f\"}, \"type\": \"carpet\"}], \"choropleth\": [{\"colorbar\": {\"outlinewidth\": 0, \"ticks\": \"\"}, \"type\": \"choropleth\"}], \"contour\": [{\"colorbar\": {\"outlinewidth\": 0, \"ticks\": \"\"}, \"colorscale\": [[0.0, \"#0d0887\"], [0.1111111111111111, \"#46039f\"], [0.2222222222222222, \"#7201a8\"], [0.3333333333333333, \"#9c179e\"], [0.4444444444444444, \"#bd3786\"], [0.5555555555555556, \"#d8576b\"], [0.6666666666666666, \"#ed7953\"], [0.7777777777777778, \"#fb9f3a\"], [0.8888888888888888, \"#fdca26\"], [1.0, \"#f0f921\"]], \"type\": \"contour\"}], \"contourcarpet\": [{\"colorbar\": {\"outlinewidth\": 0, \"ticks\": \"\"}, \"type\": \"contourcarpet\"}], \"heatmap\": [{\"colorbar\": {\"outlinewidth\": 0, \"ticks\": \"\"}, \"colorscale\": [[0.0, \"#0d0887\"], [0.1111111111111111, \"#46039f\"], [0.2222222222222222, \"#7201a8\"], [0.3333333333333333, \"#9c179e\"], [0.4444444444444444, \"#bd3786\"], [0.5555555555555556, \"#d8576b\"], [0.6666666666666666, \"#ed7953\"], [0.7777777777777778, \"#fb9f3a\"], [0.8888888888888888, \"#fdca26\"], [1.0, \"#f0f921\"]], \"type\": \"heatmap\"}], \"heatmapgl\": [{\"colorbar\": {\"outlinewidth\": 0, \"ticks\": \"\"}, \"colorscale\": [[0.0, \"#0d0887\"], [0.1111111111111111, \"#46039f\"], [0.2222222222222222, \"#7201a8\"], [0.3333333333333333, \"#9c179e\"], [0.4444444444444444, \"#bd3786\"], [0.5555555555555556, \"#d8576b\"], [0.6666666666666666, \"#ed7953\"], [0.7777777777777778, \"#fb9f3a\"], [0.8888888888888888, \"#fdca26\"], [1.0, \"#f0f921\"]], \"type\": \"heatmapgl\"}], \"histogram\": [{\"marker\": {\"colorbar\": {\"outlinewidth\": 0, \"ticks\": \"\"}}, \"type\": \"histogram\"}], \"histogram2d\": [{\"colorbar\": {\"outlinewidth\": 0, \"ticks\": \"\"}, \"colorscale\": [[0.0, \"#0d0887\"], [0.1111111111111111, \"#46039f\"], [0.2222222222222222, \"#7201a8\"], [0.3333333333333333, \"#9c179e\"], [0.4444444444444444, \"#bd3786\"], [0.5555555555555556, \"#d8576b\"], [0.6666666666666666, \"#ed7953\"], [0.7777777777777778, \"#fb9f3a\"], [0.8888888888888888, \"#fdca26\"], [1.0, \"#f0f921\"]], \"type\": \"histogram2d\"}], \"histogram2dcontour\": [{\"colorbar\": {\"outlinewidth\": 0, \"ticks\": \"\"}, \"colorscale\": [[0.0, \"#0d0887\"], [0.1111111111111111, \"#46039f\"], [0.2222222222222222, \"#7201a8\"], [0.3333333333333333, \"#9c179e\"], [0.4444444444444444, \"#bd3786\"], [0.5555555555555556, \"#d8576b\"], [0.6666666666666666, \"#ed7953\"], [0.7777777777777778, \"#fb9f3a\"], [0.8888888888888888, \"#fdca26\"], [1.0, \"#f0f921\"]], \"type\": \"histogram2dcontour\"}], \"mesh3d\": [{\"colorbar\": {\"outlinewidth\": 0, \"ticks\": \"\"}, \"type\": \"mesh3d\"}], \"parcoords\": [{\"line\": {\"colorbar\": {\"outlinewidth\": 0, \"ticks\": \"\"}}, \"type\": \"parcoords\"}], \"pie\": [{\"automargin\": true, \"type\": \"pie\"}], \"scatter\": [{\"marker\": {\"colorbar\": {\"outlinewidth\": 0, \"ticks\": \"\"}}, \"type\": \"scatter\"}], \"scatter3d\": [{\"line\": {\"colorbar\": {\"outlinewidth\": 0, \"ticks\": \"\"}}, \"marker\": {\"colorbar\": {\"outlinewidth\": 0, \"ticks\": \"\"}}, \"type\": \"scatter3d\"}], \"scattercarpet\": [{\"marker\": {\"colorbar\": {\"outlinewidth\": 0, \"ticks\": \"\"}}, \"type\": \"scattercarpet\"}], \"scattergeo\": [{\"marker\": {\"colorbar\": {\"outlinewidth\": 0, \"ticks\": \"\"}}, \"type\": \"scattergeo\"}], \"scattergl\": [{\"marker\": {\"colorbar\": {\"outlinewidth\": 0, \"ticks\": \"\"}}, \"type\": \"scattergl\"}], \"scattermapbox\": [{\"marker\": {\"colorbar\": {\"outlinewidth\": 0, \"ticks\": \"\"}}, \"type\": \"scattermapbox\"}], \"scatterpolar\": [{\"marker\": {\"colorbar\": {\"outlinewidth\": 0, \"ticks\": \"\"}}, \"type\": \"scatterpolar\"}], \"scatterpolargl\": [{\"marker\": {\"colorbar\": {\"outlinewidth\": 0, \"ticks\": \"\"}}, \"type\": \"scatterpolargl\"}], \"scatterternary\": [{\"marker\": {\"colorbar\": {\"outlinewidth\": 0, \"ticks\": \"\"}}, \"type\": \"scatterternary\"}], \"surface\": [{\"colorbar\": {\"outlinewidth\": 0, \"ticks\": \"\"}, \"colorscale\": [[0.0, \"#0d0887\"], [0.1111111111111111, \"#46039f\"], [0.2222222222222222, \"#7201a8\"], [0.3333333333333333, \"#9c179e\"], [0.4444444444444444, \"#bd3786\"], [0.5555555555555556, \"#d8576b\"], [0.6666666666666666, \"#ed7953\"], [0.7777777777777778, \"#fb9f3a\"], [0.8888888888888888, \"#fdca26\"], [1.0, \"#f0f921\"]], \"type\": \"surface\"}], \"table\": [{\"cells\": {\"fill\": {\"color\": \"#EBF0F8\"}, \"line\": {\"color\": \"white\"}}, \"header\": {\"fill\": {\"color\": \"#C8D4E3\"}, \"line\": {\"color\": \"white\"}}, \"type\": \"table\"}]}, \"layout\": {\"annotationdefaults\": {\"arrowcolor\": \"#2a3f5f\", \"arrowhead\": 0, \"arrowwidth\": 1}, \"coloraxis\": {\"colorbar\": {\"outlinewidth\": 0, \"ticks\": \"\"}}, \"colorscale\": {\"diverging\": [[0, \"#8e0152\"], [0.1, \"#c51b7d\"], [0.2, \"#de77ae\"], [0.3, \"#f1b6da\"], [0.4, \"#fde0ef\"], [0.5, \"#f7f7f7\"], [0.6, \"#e6f5d0\"], [0.7, \"#b8e186\"], [0.8, \"#7fbc41\"], [0.9, \"#4d9221\"], [1, \"#276419\"]], \"sequential\": [[0.0, \"#0d0887\"], [0.1111111111111111, \"#46039f\"], [0.2222222222222222, \"#7201a8\"], [0.3333333333333333, \"#9c179e\"], [0.4444444444444444, \"#bd3786\"], [0.5555555555555556, \"#d8576b\"], [0.6666666666666666, \"#ed7953\"], [0.7777777777777778, \"#fb9f3a\"], [0.8888888888888888, \"#fdca26\"], [1.0, \"#f0f921\"]], \"sequentialminus\": [[0.0, \"#0d0887\"], [0.1111111111111111, \"#46039f\"], [0.2222222222222222, \"#7201a8\"], [0.3333333333333333, \"#9c179e\"], [0.4444444444444444, \"#bd3786\"], [0.5555555555555556, \"#d8576b\"], [0.6666666666666666, \"#ed7953\"], [0.7777777777777778, \"#fb9f3a\"], [0.8888888888888888, \"#fdca26\"], [1.0, \"#f0f921\"]]}, \"colorway\": [\"#636efa\", \"#EF553B\", \"#00cc96\", \"#ab63fa\", \"#FFA15A\", \"#19d3f3\", \"#FF6692\", \"#B6E880\", \"#FF97FF\", \"#FECB52\"], \"font\": {\"color\": \"#2a3f5f\"}, \"geo\": {\"bgcolor\": \"white\", \"lakecolor\": \"white\", \"landcolor\": \"#E5ECF6\", \"showlakes\": true, \"showland\": true, \"subunitcolor\": \"white\"}, \"hoverlabel\": {\"align\": \"left\"}, \"hovermode\": \"closest\", \"mapbox\": {\"style\": \"light\"}, \"paper_bgcolor\": \"white\", \"plot_bgcolor\": \"#E5ECF6\", \"polar\": {\"angularaxis\": {\"gridcolor\": \"white\", \"linecolor\": \"white\", \"ticks\": \"\"}, \"bgcolor\": \"#E5ECF6\", \"radialaxis\": {\"gridcolor\": \"white\", \"linecolor\": \"white\", \"ticks\": \"\"}}, \"scene\": {\"xaxis\": {\"backgroundcolor\": \"#E5ECF6\", \"gridcolor\": \"white\", \"gridwidth\": 2, \"linecolor\": \"white\", \"showbackground\": true, \"ticks\": \"\", \"zerolinecolor\": \"white\"}, \"yaxis\": {\"backgroundcolor\": \"#E5ECF6\", \"gridcolor\": \"white\", \"gridwidth\": 2, \"linecolor\": \"white\", \"showbackground\": true, \"ticks\": \"\", \"zerolinecolor\": \"white\"}, \"zaxis\": {\"backgroundcolor\": \"#E5ECF6\", \"gridcolor\": \"white\", \"gridwidth\": 2, \"linecolor\": \"white\", \"showbackground\": true, \"ticks\": \"\", \"zerolinecolor\": \"white\"}}, \"shapedefaults\": {\"line\": {\"color\": \"#2a3f5f\"}}, \"ternary\": {\"aaxis\": {\"gridcolor\": \"white\", \"linecolor\": \"white\", \"ticks\": \"\"}, \"baxis\": {\"gridcolor\": \"white\", \"linecolor\": \"white\", \"ticks\": \"\"}, \"bgcolor\": \"#E5ECF6\", \"caxis\": {\"gridcolor\": \"white\", \"linecolor\": \"white\", \"ticks\": \"\"}}, \"title\": {\"x\": 0.05}, \"xaxis\": {\"automargin\": true, \"gridcolor\": \"white\", \"linecolor\": \"white\", \"ticks\": \"\", \"title\": {\"standoff\": 15}, \"zerolinecolor\": \"white\", \"zerolinewidth\": 2}, \"yaxis\": {\"automargin\": true, \"gridcolor\": \"white\", \"linecolor\": \"white\", \"ticks\": \"\", \"title\": {\"standoff\": 15}, \"zerolinecolor\": \"white\", \"zerolinewidth\": 2}}}, \"title\": {\"text\": \"Line chart\"}, \"width\": 1200, \"xaxis\": {\"anchor\": \"y\", \"domain\": [0.0, 1.0]}, \"xaxis2\": {\"anchor\": \"y2\", \"domain\": [0.0, 1.0]}, \"xaxis3\": {\"anchor\": \"y3\", \"domain\": [0.0, 1.0]}, \"xaxis4\": {\"anchor\": \"y4\", \"domain\": [0.0, 1.0]}, \"xaxis5\": {\"anchor\": \"y5\", \"domain\": [0.0, 1.0]}, \"xaxis6\": {\"anchor\": \"y6\", \"domain\": [0.0, 1.0]}, \"yaxis\": {\"anchor\": \"x\", \"domain\": [0.875, 1.0]}, \"yaxis2\": {\"anchor\": \"x2\", \"domain\": [0.7, 0.825]}, \"yaxis3\": {\"anchor\": \"x3\", \"domain\": [0.525, 0.65]}, \"yaxis4\": {\"anchor\": \"x4\", \"domain\": [0.35, 0.475]}, \"yaxis5\": {\"anchor\": \"x5\", \"domain\": [0.175, 0.3]}, \"yaxis6\": {\"anchor\": \"x6\", \"domain\": [0.0, 0.125]}},\n",
              "                        {\"responsive\": true}\n",
              "                    ).then(function(){\n",
              "                            \n",
              "var gd = document.getElementById('7e2978e5-8ace-465b-bdef-28ef4da8fec7');\n",
              "var x = new MutationObserver(function (mutations, observer) {{\n",
              "        var display = window.getComputedStyle(gd).display;\n",
              "        if (!display || display === 'none') {{\n",
              "            console.log([gd, 'removed!']);\n",
              "            Plotly.purge(gd);\n",
              "            observer.disconnect();\n",
              "        }}\n",
              "}});\n",
              "\n",
              "// Listen for the removal of the full notebook cells\n",
              "var notebookContainer = gd.closest('#notebook-container');\n",
              "if (notebookContainer) {{\n",
              "    x.observe(notebookContainer, {childList: true});\n",
              "}}\n",
              "\n",
              "// Listen for the clearing of the current output cell\n",
              "var outputEl = gd.closest('.output');\n",
              "if (outputEl) {{\n",
              "    x.observe(outputEl, {childList: true});\n",
              "}}\n",
              "\n",
              "                        })\n",
              "                };\n",
              "                \n",
              "            </script>\n",
              "        </div>\n",
              "</body>\n",
              "</html>"
            ]
          },
          "metadata": {
            "tags": []
          }
        }
      ]
    },
    {
      "cell_type": "code",
      "metadata": {
        "id": "f44Qt_2UyOAN",
        "colab_type": "code",
        "colab": {}
      },
      "source": [
        ""
      ],
      "execution_count": null,
      "outputs": []
    }
  ]
}