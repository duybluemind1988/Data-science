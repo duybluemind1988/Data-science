{
  "nbformat": 4,
  "nbformat_minor": 0,
  "metadata": {
    "colab": {
      "name": "Sonion_process_control.ipynb",
      "provenance": [],
      "collapsed_sections": [],
      "mount_file_id": "https://github.com/duybluemind1988/Data-science/blob/master/Sonion/Sonion_process_control.ipynb",
      "authorship_tag": "ABX9TyNHzuVY1WyGStNVv1QStKJ9",
      "include_colab_link": true
    },
    "kernelspec": {
      "name": "python3",
      "display_name": "Python 3"
    }
  },
  "cells": [
    {
      "cell_type": "markdown",
      "metadata": {
        "id": "view-in-github",
        "colab_type": "text"
      },
      "source": [
        "<a href=\"https://colab.research.google.com/github/duybluemind1988/Data-science/blob/master/Sonion/Sonion_process_control.ipynb\" target=\"_parent\"><img src=\"https://colab.research.google.com/assets/colab-badge.svg\" alt=\"Open In Colab\"/></a>"
      ]
    },
    {
      "cell_type": "markdown",
      "metadata": {
        "id": "wXh5TCG2JRXV",
        "colab_type": "text"
      },
      "source": [
        "# All process in multi weeks"
      ]
    },
    {
      "cell_type": "markdown",
      "metadata": {
        "id": "A6y2aGakpKIu",
        "colab_type": "text"
      },
      "source": [
        "## Prepare data"
      ]
    },
    {
      "cell_type": "code",
      "metadata": {
        "id": "aM4Iqmwf-TB-",
        "colab_type": "code",
        "colab": {}
      },
      "source": [
        "import datetime\n",
        "import seaborn as sns; sns.set()\n",
        "import pandas as pd\n",
        "import numpy as np\n",
        "import matplotlib.pyplot as plt\n",
        "\n",
        "import plotly.graph_objects as go\n",
        "from plotly.subplots import make_subplots\n",
        "import plotly.express as px\n",
        "from plotly.offline import iplot\n",
        "import re\n",
        "\n",
        "import statistics as st\n",
        "from statsmodels.tsa.arima_model import ARIMA\n",
        "import statsmodels.api as sm\n",
        "from statsmodels.graphics.tsaplots import plot_acf\n",
        "from statsmodels.stats.diagnostic import acorr_ljungbox\n",
        "import scipy.stats as scs\n",
        "from math import sqrt\n",
        "from sklearn.metrics import mean_squared_error,mean_absolute_error\n",
        "from sklearn.model_selection import train_test_split\n",
        "from sklearn.preprocessing import MinMaxScaler,StandardScaler"
      ],
      "execution_count": 57,
      "outputs": []
    },
    {
      "cell_type": "code",
      "metadata": {
        "id": "S2-0A0d2SVQy",
        "colab_type": "code",
        "colab": {
          "base_uri": "https://localhost:8080/",
          "height": 34
        },
        "outputId": "19c1f432-9af7-4309-e3d5-b18e60540847"
      },
      "source": [
        "import glob\n",
        "#path='/content/drive/My Drive/Data/Sonion/Control plan and stast/Control plan 3000' # GOOD\n",
        "#path='/content/drive/My Drive/Data/Sonion/Control plan and stast/Control plan E series 1' # GOOD\n",
        "path='/content/drive/My Drive/Data/Sonion/Control plan and stast/Control plan 2600'\n",
        "#path='/content/drive/My Drive/Data/Sonion/Control plan and stast/Control plan 6500' # Khong doc duoc, co the Mic va Receive khac nhau ve dong\n",
        "#path='/content/drive/My Drive/Data/Sonion/Control plan and stast/Control plan VPU' # Khong co du lieu\n",
        "path=path+'/'\n",
        "#print(path)\n",
        "all_files1=glob.glob(path + '*.xlsx')\n",
        "all_files2=glob.glob(path + '*.xlsm')\n",
        "all_files=all_files1+all_files2\n",
        "#sort file in directory by reverse:\n",
        "all_files = sorted(all_files, reverse = False)\n",
        "print('number of files: ',len(all_files))"
      ],
      "execution_count": 111,
      "outputs": [
        {
          "output_type": "stream",
          "text": [
            "number of files:  4\n"
          ],
          "name": "stdout"
        }
      ]
    },
    {
      "cell_type": "code",
      "metadata": {
        "id": "5TplMIOTSet6",
        "colab_type": "code",
        "colab": {
          "base_uri": "https://localhost:8080/",
          "height": 105
        },
        "outputId": "81c6880d-1fa5-41c6-adc6-2491dc6e41e1"
      },
      "source": [
        "all_files"
      ],
      "execution_count": 112,
      "outputs": [
        {
          "output_type": "execute_result",
          "data": {
            "text/plain": [
              "['/content/drive/My Drive/Data/Sonion/Control plan and stast/Control plan 2600/Control Plan data 2600 F1 - WK36 - 2020.xlsx',\n",
              " '/content/drive/My Drive/Data/Sonion/Control plan and stast/Control plan 2600/Control Plan data 2600 F1 - WK37 - 2020.xlsx',\n",
              " '/content/drive/My Drive/Data/Sonion/Control plan and stast/Control plan 2600/Control Plan data 2600 F1 - WK38 - 2020.xlsx',\n",
              " '/content/drive/My Drive/Data/Sonion/Control plan and stast/Control plan 2600/Control Plan data 2600 F1 - WK39 - 2020.xlsx']"
            ]
          },
          "metadata": {
            "tags": []
          },
          "execution_count": 112
        }
      ]
    },
    {
      "cell_type": "code",
      "metadata": {
        "id": "pmwqM0Ry6IJU",
        "colab_type": "code",
        "colab": {
          "base_uri": "https://localhost:8080/",
          "height": 34
        },
        "outputId": "132e6725-560f-45d8-f8e1-56b8451361b8"
      },
      "source": [
        ""
      ],
      "execution_count": 143,
      "outputs": [
        {
          "output_type": "execute_result",
          "data": {
            "text/plain": [
              "True"
            ]
          },
          "metadata": {
            "tags": []
          },
          "execution_count": 143
        }
      ]
    },
    {
      "cell_type": "code",
      "metadata": {
        "id": "PIVkbwRmJk9O",
        "colab_type": "code",
        "colab": {
          "base_uri": "https://localhost:8080/",
          "height": 105
        },
        "outputId": "ba52b2bc-1310-4877-d306-f4b4bd0ac1e4"
      },
      "source": [
        "#%%time\n",
        "import xlrd\n",
        "all_process_week={}\n",
        "n=0\n",
        "for path_name in all_files: # read each excel file\n",
        "  week_name=path_name[-16:-5]\n",
        "  xls = xlrd.open_workbook(path_name, on_demand=True)\n",
        "  sheet_names=xls.sheet_names()\n",
        "  #print(xls.sheet_names())\n",
        "  sheet_dict={}\n",
        "  xls = pd.ExcelFile(path_name) \n",
        "  for name in sheet_names: # read each sheet in excel file\n",
        "    sheet_dict[name] = pd.read_excel(xls, name)\n",
        "    #sheet_dict[name].to_excel(name+'.xlsx')\n",
        "  #break\n",
        "  # Read all process in one week\n",
        "  sheet_all={} # most important\n",
        "  sheet_error=[]\n",
        "  for name_sheet in sheet_names[1:]: # all sheet\n",
        "    #print(name_sheet)\n",
        "    sheet=sheet_dict[name_sheet]\n",
        "\n",
        "    # find begin and end col\n",
        "    values_col=sheet.iloc[22,:]\n",
        "    values_col.reset_index(drop=True,inplace=True)\n",
        "    begin_col=values_col[values_col=='Kích thước\\nDimension'].index\n",
        "    begin_col=begin_col+1\n",
        "    end_col=values_col[values_col=='MSNV'].index\n",
        "    #print(begin_col,end_col)\n",
        "  \n",
        "    df_dict={} # add all value, USL, LSL, UCL... in sheet\n",
        "    try:\n",
        "      for name in sheet.columns[begin_col[0]:end_col[0]]: # all dim in each process\n",
        "        \n",
        "          df=pd.DataFrame()\n",
        "          \n",
        "          #tolerance_dict[sheet[name][22]]=[sheet[name][24],sheet[name][23]]\n",
        "          df['Date']=sheet[sheet.columns[9]][25:]\n",
        "          df['Date']=df['Date'].apply(lambda x: x.strftime(\"%Y %m %d %H\")) # group theo hour, gần như trùng với tần suất lấy mẫu đo control plan\n",
        "          df['Date']=pd.to_datetime(df['Date'])\n",
        "          #df['Hour']=df['Date'].dt.hour\n",
        "          df['Value']=sheet[name][25:]\n",
        "          if np.std(df.Value) == 0: # chuyển qua dim khac nếu các giá trị là giống nhau\n",
        "            continue\n",
        "          df['USL']=sheet[name][23] # max\n",
        "          df['LSL']=sheet[name][24] # min\n",
        "          df.dropna(subset=['Value'],inplace=True)\n",
        "          #UCL,LCL,nominal:\n",
        "          k=3\n",
        "          df['UCL']=df['Value'].mean() + df['Value'].std()*k\n",
        "          df['LCL']=df['Value'].mean() - df['Value'].std()*k\n",
        "          df['Mean']=df['Value'].mean()\n",
        "          df[df.columns[1:]]=df[df.columns[1:]].astype('float32')\n",
        "          dim_name=sheet[name][22]\n",
        "          df_dict[dim_name]=df.reset_index(drop=True)\n",
        "    except:\n",
        "      sheet_error.append(name_sheet)\n",
        "      continue\n",
        "    sheet_all[name_sheet]=df_dict\n",
        "  all_process_week[week_name]=sheet_all\n",
        "  print(week_name,sheet_error)"
      ],
      "execution_count": 144,
      "outputs": [
        {
          "output_type": "stream",
          "text": [
            "WK36 - 2020 ['27802-Gluing coil', '27820-D.pin on Arm', '27940-Welding spout', '27846-cutting lead wire', '26824-Weld MS in strip']\n",
            "WK37 - 2020 ['26846-cutting lead wire', '27802-Gluing coil', '27820-D.pin on Arm', '27940-Welding spout', '27846-cutting lead wire']\n",
            "WK38 - 2020 ['27802-Gluing coil', '27820-D.pin on Arm', '27940-Welding spout', '27846-cutting lead wire']\n",
            "WK39 - 2020 ['26940-Welding spout', '26846-cutting lead wire', '27802-Gluing coil', '27820-D.pin on Arm', '27940-Welding spout', '27846-cutting lead wire']\n"
          ],
          "name": "stdout"
        }
      ]
    },
    {
      "cell_type": "code",
      "metadata": {
        "id": "nqiqHbXNLe4y",
        "colab_type": "code",
        "colab": {
          "base_uri": "https://localhost:8080/",
          "height": 34
        },
        "outputId": "42a3b083-1d4f-42b8-8d77-b8079ae42520"
      },
      "source": [
        "all_process_week.keys()"
      ],
      "execution_count": 145,
      "outputs": [
        {
          "output_type": "execute_result",
          "data": {
            "text/plain": [
              "dict_keys(['WK36 - 2020', 'WK37 - 2020', 'WK38 - 2020', 'WK39 - 2020'])"
            ]
          },
          "metadata": {
            "tags": []
          },
          "execution_count": 145
        }
      ]
    },
    {
      "cell_type": "code",
      "metadata": {
        "id": "ODjHZitXYWjz",
        "colab_type": "code",
        "colab": {}
      },
      "source": [
        "#all_process_week['WK37 - 2020']['38940']"
      ],
      "execution_count": 108,
      "outputs": []
    },
    {
      "cell_type": "markdown",
      "metadata": {
        "id": "FwiaV8D6pEVC",
        "colab_type": "text"
      },
      "source": [
        "## Concat all week to one base week"
      ]
    },
    {
      "cell_type": "markdown",
      "metadata": {
        "id": "kaxeQ0ErMPcm",
        "colab_type": "text"
      },
      "source": [
        "- Dict 1: all week\n",
        "- Dict 2: all process each week\n",
        "- Dict 3: all dim in each process --> contain df each dim"
      ]
    },
    {
      "cell_type": "code",
      "metadata": {
        "id": "cOdqF6iCKwir",
        "colab_type": "code",
        "colab": {
          "base_uri": "https://localhost:8080/",
          "height": 34
        },
        "outputId": "d60d6137-8a3e-4449-f9af-c42bf311cdbf"
      },
      "source": [
        "all_process_week.keys()"
      ],
      "execution_count": 115,
      "outputs": [
        {
          "output_type": "execute_result",
          "data": {
            "text/plain": [
              "dict_keys(['WK36 - 2020', 'WK37 - 2020', 'WK38 - 2020', 'WK39 - 2020'])"
            ]
          },
          "metadata": {
            "tags": []
          },
          "execution_count": 115
        }
      ]
    },
    {
      "cell_type": "code",
      "metadata": {
        "id": "RAEKKWAlLjgt",
        "colab_type": "code",
        "colab": {
          "base_uri": "https://localhost:8080/",
          "height": 34
        },
        "outputId": "7e58097f-82a1-4e78-8754-ef056f6bdf87"
      },
      "source": [
        "#all_process_week['WK36 - 2020'].keys()"
      ],
      "execution_count": 110,
      "outputs": [
        {
          "output_type": "execute_result",
          "data": {
            "text/plain": [
              "dict_keys([])"
            ]
          },
          "metadata": {
            "tags": []
          },
          "execution_count": 110
        }
      ]
    },
    {
      "cell_type": "code",
      "metadata": {
        "id": "1Dbz8VYZLo5n",
        "colab_type": "code",
        "colab": {
          "base_uri": "https://localhost:8080/",
          "height": 34
        },
        "outputId": "bd535a7d-a2fe-4cc2-c738-e7aea76d1125"
      },
      "source": [
        "#all_process_week['WK36 - 2020']['21660-21680-Dim-Offset E20'].keys()"
      ],
      "execution_count": 65,
      "outputs": [
        {
          "output_type": "execute_result",
          "data": {
            "text/plain": [
              "dict_keys(['Dim F', 'Dim E', 'Dim A1', 'Dim A2', 'Dim A3', 'Dim B'])"
            ]
          },
          "metadata": {
            "tags": []
          },
          "execution_count": 65
        }
      ]
    },
    {
      "cell_type": "code",
      "metadata": {
        "id": "hsQ8rSzbMGpZ",
        "colab_type": "code",
        "colab": {
          "base_uri": "https://localhost:8080/",
          "height": 204
        },
        "outputId": "5be492b7-eae6-4cb7-af69-f9703ef464f9"
      },
      "source": [
        "#all_process_week['WK36 - 2020']['21660-21680-Dim-Offset E20']['Dim F'].head()"
      ],
      "execution_count": 66,
      "outputs": [
        {
          "output_type": "execute_result",
          "data": {
            "text/html": [
              "<div>\n",
              "<style scoped>\n",
              "    .dataframe tbody tr th:only-of-type {\n",
              "        vertical-align: middle;\n",
              "    }\n",
              "\n",
              "    .dataframe tbody tr th {\n",
              "        vertical-align: top;\n",
              "    }\n",
              "\n",
              "    .dataframe thead th {\n",
              "        text-align: right;\n",
              "    }\n",
              "</style>\n",
              "<table border=\"1\" class=\"dataframe\">\n",
              "  <thead>\n",
              "    <tr style=\"text-align: right;\">\n",
              "      <th></th>\n",
              "      <th>Date</th>\n",
              "      <th>Value</th>\n",
              "      <th>USL</th>\n",
              "      <th>LSL</th>\n",
              "      <th>UCL</th>\n",
              "      <th>LCL</th>\n",
              "      <th>Mean</th>\n",
              "    </tr>\n",
              "  </thead>\n",
              "  <tbody>\n",
              "    <tr>\n",
              "      <th>0</th>\n",
              "      <td>2020-08-28 17:00:00</td>\n",
              "      <td>0.006</td>\n",
              "      <td>0.06</td>\n",
              "      <td>-0.06</td>\n",
              "      <td>0.064437</td>\n",
              "      <td>-0.058837</td>\n",
              "      <td>0.0028</td>\n",
              "    </tr>\n",
              "    <tr>\n",
              "      <th>1</th>\n",
              "      <td>2020-08-28 17:00:00</td>\n",
              "      <td>0.013</td>\n",
              "      <td>0.06</td>\n",
              "      <td>-0.06</td>\n",
              "      <td>0.064437</td>\n",
              "      <td>-0.058837</td>\n",
              "      <td>0.0028</td>\n",
              "    </tr>\n",
              "    <tr>\n",
              "      <th>2</th>\n",
              "      <td>2020-08-28 17:00:00</td>\n",
              "      <td>0.003</td>\n",
              "      <td>0.06</td>\n",
              "      <td>-0.06</td>\n",
              "      <td>0.064437</td>\n",
              "      <td>-0.058837</td>\n",
              "      <td>0.0028</td>\n",
              "    </tr>\n",
              "    <tr>\n",
              "      <th>3</th>\n",
              "      <td>2020-08-28 17:00:00</td>\n",
              "      <td>0.007</td>\n",
              "      <td>0.06</td>\n",
              "      <td>-0.06</td>\n",
              "      <td>0.064437</td>\n",
              "      <td>-0.058837</td>\n",
              "      <td>0.0028</td>\n",
              "    </tr>\n",
              "    <tr>\n",
              "      <th>4</th>\n",
              "      <td>2020-08-28 17:00:00</td>\n",
              "      <td>-0.003</td>\n",
              "      <td>0.06</td>\n",
              "      <td>-0.06</td>\n",
              "      <td>0.064437</td>\n",
              "      <td>-0.058837</td>\n",
              "      <td>0.0028</td>\n",
              "    </tr>\n",
              "  </tbody>\n",
              "</table>\n",
              "</div>"
            ],
            "text/plain": [
              "                 Date  Value   USL   LSL       UCL       LCL    Mean\n",
              "0 2020-08-28 17:00:00  0.006  0.06 -0.06  0.064437 -0.058837  0.0028\n",
              "1 2020-08-28 17:00:00  0.013  0.06 -0.06  0.064437 -0.058837  0.0028\n",
              "2 2020-08-28 17:00:00  0.003  0.06 -0.06  0.064437 -0.058837  0.0028\n",
              "3 2020-08-28 17:00:00  0.007  0.06 -0.06  0.064437 -0.058837  0.0028\n",
              "4 2020-08-28 17:00:00 -0.003  0.06 -0.06  0.064437 -0.058837  0.0028"
            ]
          },
          "metadata": {
            "tags": []
          },
          "execution_count": 66
        }
      ]
    },
    {
      "cell_type": "code",
      "metadata": {
        "id": "YVO2fR4kPB68",
        "colab_type": "code",
        "colab": {
          "base_uri": "https://localhost:8080/",
          "height": 68
        },
        "outputId": "6f24ebe2-9b24-4459-c38e-fa1f8a06acc0"
      },
      "source": [
        "week_sum=0\n",
        "process_sum=0\n",
        "dim_sum=0\n",
        "week_sum=len(all_process_week.keys())\n",
        "for process_name in all_process_week.keys():\n",
        "  process_sum+=len(all_process_week[process_name].keys())\n",
        "  for dim_name in all_process_week[process_name].keys():\n",
        "    dim_sum+=len(all_process_week[process_name][dim_name].keys())\n",
        "print('week_sum',week_sum)\n",
        "print('process_sum',process_sum) # each week have average 34 process\n",
        "print('dim_sum',dim_sum) # each week have average 90 dim"
      ],
      "execution_count": 146,
      "outputs": [
        {
          "output_type": "stream",
          "text": [
            "week_sum 4\n",
            "process_sum 56\n",
            "dim_sum 146\n"
          ],
          "name": "stdout"
        }
      ]
    },
    {
      "cell_type": "markdown",
      "metadata": {
        "id": "FjkiY3uYT7Hm",
        "colab_type": "text"
      },
      "source": [
        "Assign base week as latest weeks"
      ]
    },
    {
      "cell_type": "code",
      "metadata": {
        "id": "H8fhzFBBmDvD",
        "colab_type": "code",
        "colab": {
          "base_uri": "https://localhost:8080/",
          "height": 34
        },
        "outputId": "8dabd9e5-57cf-4f2b-dfb8-7f1e53ef2186"
      },
      "source": [
        "print(list(all_process_week.keys())[-1])"
      ],
      "execution_count": 147,
      "outputs": [
        {
          "output_type": "stream",
          "text": [
            "WK39 - 2020\n"
          ],
          "name": "stdout"
        }
      ]
    },
    {
      "cell_type": "code",
      "metadata": {
        "id": "ly8wa1GCOpxD",
        "colab_type": "code",
        "colab": {
          "base_uri": "https://localhost:8080/",
          "height": 71
        },
        "outputId": "cbd890d4-7f8c-4a51-f2d7-3d4065a15e1b"
      },
      "source": [
        "#base_week={}\n",
        "base_week=all_process_week[list(all_process_week.keys())[-1]].copy() # must have copy()\n",
        "print(len(base_week))\n",
        "base_week.keys() # lấy base là tuần cuối cùng để cập nhật các process mới nhất"
      ],
      "execution_count": 148,
      "outputs": [
        {
          "output_type": "stream",
          "text": [
            "13\n"
          ],
          "name": "stdout"
        },
        {
          "output_type": "execute_result",
          "data": {
            "text/plain": [
              "dict_keys(['26802- gluing coil', '26820-D.pin on Arm', '26930-Cover on case', '26830- Welding ground wire ', '26941-Welding alignment X,Y or ', '26940-Welding spout MP', '26983-Welding spout dual', '26720-bending Armature', '26725-Adjust Armature', '26725- Arm. after annealing', '26822-Welding magnet in MS', '26824-Weld MS in strip', '26825-Cut MS legs'])"
            ]
          },
          "metadata": {
            "tags": []
          },
          "execution_count": 148
        }
      ]
    },
    {
      "cell_type": "code",
      "metadata": {
        "id": "oGRDg8BBrSSY",
        "colab_type": "code",
        "colab": {
          "base_uri": "https://localhost:8080/",
          "height": 51
        },
        "outputId": "94b7845b-6579-4e66-fc67-a9e99f676576"
      },
      "source": [
        "# concat all process in each weeks based on keys value:\n",
        "%%time\n",
        "for week_name in list(all_process_week.keys())[:-1]: # ko tính base week nên trừ 1: \n",
        "  other_week=all_process_week[week_name]\n",
        "  for process_name in other_week.keys(): # dict all process\n",
        "    for process_name_base in base_week.keys(): # dict all process\n",
        "        if process_name_base==process_name: # Neu process name trung voi base week thi concat\n",
        "          for dim_name in base_week[process_name_base].keys(): # concat dim trong process base week voi cac week khac nhau\n",
        "             base_week[process_name_base][dim_name]=pd.concat([base_week[process_name_base][dim_name],other_week[process_name_base][dim_name]])\n",
        "    #print(process_name)\n"
      ],
      "execution_count": 149,
      "outputs": [
        {
          "output_type": "stream",
          "text": [
            "CPU times: user 65.9 ms, sys: 982 µs, total: 66.9 ms\n",
            "Wall time: 68.5 ms\n"
          ],
          "name": "stdout"
        }
      ]
    },
    {
      "cell_type": "markdown",
      "metadata": {
        "id": "cf4RjddxsdK5",
        "colab_type": "text"
      },
      "source": [
        "Nếu dim ở process name này trùng với dim của process name khác thì chuyện gì xảy ra ?\n",
        "\n",
        "Không thể xảy ra chuyện này do base week là tập hợp các dict (process), mỗi dict này sẽ tập hợp các dim . Không thể trùng process và trùng dim được"
      ]
    },
    {
      "cell_type": "code",
      "metadata": {
        "id": "pNx4rBUZso3J",
        "colab_type": "code",
        "colab": {
          "base_uri": "https://localhost:8080/",
          "height": 34
        },
        "outputId": "fe56218f-2731-446a-c43a-eaf2a72039d1"
      },
      "source": [
        "len(base_week.keys()) # có 34 process"
      ],
      "execution_count": 150,
      "outputs": [
        {
          "output_type": "execute_result",
          "data": {
            "text/plain": [
              "13"
            ]
          },
          "metadata": {
            "tags": []
          },
          "execution_count": 150
        }
      ]
    },
    {
      "cell_type": "code",
      "metadata": {
        "id": "Nn7x4P_9UDxh",
        "colab_type": "code",
        "colab": {
          "base_uri": "https://localhost:8080/",
          "height": 34
        },
        "outputId": "46f9bbf5-3433-4362-e994-6ead18f8f6cd"
      },
      "source": [
        "dim_sum=0\n",
        "for dim_name in base_week.keys():\n",
        "  dim_sum+=len(base_week[dim_name].keys())\n",
        "dim_sum"
      ],
      "execution_count": 151,
      "outputs": [
        {
          "output_type": "execute_result",
          "data": {
            "text/plain": [
              "35"
            ]
          },
          "metadata": {
            "tags": []
          },
          "execution_count": 151
        }
      ]
    },
    {
      "cell_type": "markdown",
      "metadata": {
        "id": "5XPYLooAtiSv",
        "colab_type": "text"
      },
      "source": [
        "Trước khi drop dim with zero value: base week có 34 process và 90 dim "
      ]
    },
    {
      "cell_type": "code",
      "metadata": {
        "id": "s15t12XfY-j3",
        "colab_type": "code",
        "colab": {}
      },
      "source": [
        "#base_week['38940']"
      ],
      "execution_count": 152,
      "outputs": []
    },
    {
      "cell_type": "code",
      "metadata": {
        "id": "mPfzzCOdr2Ya",
        "colab_type": "code",
        "colab": {}
      },
      "source": [
        "# Check len all dim in base week:\n",
        "process_len=pd.DataFrame()\n",
        "process_name_list=[]\n",
        "dim_name_list=[]\n",
        "dim_len_list=[]\n",
        "for process_name in base_week.keys(): # all process \n",
        "  #print(process_name)\n",
        "  for dim_name in base_week[process_name].keys(): # all dim in each process\n",
        "    dim_len=len(base_week[process_name][dim_name])\n",
        "    #print(dim_name)\n",
        "    #print()\n",
        "    process_name_list.append(process_name)\n",
        "    dim_name_list.append(dim_name)\n",
        "    dim_len_list.append(dim_len)\n",
        "    "
      ],
      "execution_count": 153,
      "outputs": []
    },
    {
      "cell_type": "code",
      "metadata": {
        "id": "OnZrCJZySGgP",
        "colab_type": "code",
        "colab": {
          "base_uri": "https://localhost:8080/",
          "height": 1000
        },
        "outputId": "c6968c70-b88a-4d57-bdfa-d9e2c913188e"
      },
      "source": [
        "dim_and_len_df =pd.DataFrame(list(zip(process_name_list,dim_name_list,dim_len_list)),\n",
        "                             columns=['Process_Name','Dim_name','Len'])\n",
        "dim_and_len_df.sort_values(by='Len')"
      ],
      "execution_count": 154,
      "outputs": [
        {
          "output_type": "execute_result",
          "data": {
            "text/html": [
              "<div>\n",
              "<style scoped>\n",
              "    .dataframe tbody tr th:only-of-type {\n",
              "        vertical-align: middle;\n",
              "    }\n",
              "\n",
              "    .dataframe tbody tr th {\n",
              "        vertical-align: top;\n",
              "    }\n",
              "\n",
              "    .dataframe thead th {\n",
              "        text-align: right;\n",
              "    }\n",
              "</style>\n",
              "<table border=\"1\" class=\"dataframe\">\n",
              "  <thead>\n",
              "    <tr style=\"text-align: right;\">\n",
              "      <th></th>\n",
              "      <th>Process_Name</th>\n",
              "      <th>Dim_name</th>\n",
              "      <th>Len</th>\n",
              "    </tr>\n",
              "  </thead>\n",
              "  <tbody>\n",
              "    <tr>\n",
              "      <th>16</th>\n",
              "      <td>26983-Welding spout dual</td>\n",
              "      <td>Test lực\\nShear force</td>\n",
              "      <td>39</td>\n",
              "    </tr>\n",
              "    <tr>\n",
              "      <th>15</th>\n",
              "      <td>26983-Welding spout dual</td>\n",
              "      <td>Dim H</td>\n",
              "      <td>42</td>\n",
              "    </tr>\n",
              "    <tr>\n",
              "      <th>14</th>\n",
              "      <td>26983-Welding spout dual</td>\n",
              "      <td>Dim K</td>\n",
              "      <td>42</td>\n",
              "    </tr>\n",
              "    <tr>\n",
              "      <th>32</th>\n",
              "      <td>26824-Weld MS in strip</td>\n",
              "      <td>Dim C</td>\n",
              "      <td>50</td>\n",
              "    </tr>\n",
              "    <tr>\n",
              "      <th>31</th>\n",
              "      <td>26824-Weld MS in strip</td>\n",
              "      <td>Dim G</td>\n",
              "      <td>50</td>\n",
              "    </tr>\n",
              "    <tr>\n",
              "      <th>30</th>\n",
              "      <td>26824-Weld MS in strip</td>\n",
              "      <td>Dim F</td>\n",
              "      <td>50</td>\n",
              "    </tr>\n",
              "    <tr>\n",
              "      <th>29</th>\n",
              "      <td>26824-Weld MS in strip</td>\n",
              "      <td>Dim E</td>\n",
              "      <td>50</td>\n",
              "    </tr>\n",
              "    <tr>\n",
              "      <th>34</th>\n",
              "      <td>26825-Cut MS legs</td>\n",
              "      <td>Dim A (right)</td>\n",
              "      <td>95</td>\n",
              "    </tr>\n",
              "    <tr>\n",
              "      <th>33</th>\n",
              "      <td>26825-Cut MS legs</td>\n",
              "      <td>Dim A (left)</td>\n",
              "      <td>95</td>\n",
              "    </tr>\n",
              "    <tr>\n",
              "      <th>28</th>\n",
              "      <td>26824-Weld MS in strip</td>\n",
              "      <td>Test lực\\nShear force</td>\n",
              "      <td>100</td>\n",
              "    </tr>\n",
              "    <tr>\n",
              "      <th>13</th>\n",
              "      <td>26940-Welding spout MP</td>\n",
              "      <td>Test lực\\nShear force</td>\n",
              "      <td>160</td>\n",
              "    </tr>\n",
              "    <tr>\n",
              "      <th>12</th>\n",
              "      <td>26940-Welding spout MP</td>\n",
              "      <td>Dim B</td>\n",
              "      <td>160</td>\n",
              "    </tr>\n",
              "    <tr>\n",
              "      <th>11</th>\n",
              "      <td>26940-Welding spout MP</td>\n",
              "      <td>Dim A</td>\n",
              "      <td>160</td>\n",
              "    </tr>\n",
              "    <tr>\n",
              "      <th>8</th>\n",
              "      <td>26830- Welding ground wire</td>\n",
              "      <td>Dim B</td>\n",
              "      <td>165</td>\n",
              "    </tr>\n",
              "    <tr>\n",
              "      <th>27</th>\n",
              "      <td>26822-Welding magnet in MS</td>\n",
              "      <td>Dim J</td>\n",
              "      <td>190</td>\n",
              "    </tr>\n",
              "    <tr>\n",
              "      <th>26</th>\n",
              "      <td>26822-Welding magnet in MS</td>\n",
              "      <td>Dim B</td>\n",
              "      <td>190</td>\n",
              "    </tr>\n",
              "    <tr>\n",
              "      <th>25</th>\n",
              "      <td>26822-Welding magnet in MS</td>\n",
              "      <td>Dim I</td>\n",
              "      <td>190</td>\n",
              "    </tr>\n",
              "    <tr>\n",
              "      <th>24</th>\n",
              "      <td>26822-Welding magnet in MS</td>\n",
              "      <td>Dim D</td>\n",
              "      <td>190</td>\n",
              "    </tr>\n",
              "    <tr>\n",
              "      <th>4</th>\n",
              "      <td>26802- gluing coil</td>\n",
              "      <td>Dim A</td>\n",
              "      <td>201</td>\n",
              "    </tr>\n",
              "    <tr>\n",
              "      <th>10</th>\n",
              "      <td>26941-Welding alignment X,Y or</td>\n",
              "      <td>Dim C</td>\n",
              "      <td>217</td>\n",
              "    </tr>\n",
              "    <tr>\n",
              "      <th>9</th>\n",
              "      <td>26941-Welding alignment X,Y or</td>\n",
              "      <td>Dim B</td>\n",
              "      <td>217</td>\n",
              "    </tr>\n",
              "    <tr>\n",
              "      <th>7</th>\n",
              "      <td>26930-Cover on case</td>\n",
              "      <td>Dim B</td>\n",
              "      <td>285</td>\n",
              "    </tr>\n",
              "    <tr>\n",
              "      <th>6</th>\n",
              "      <td>26930-Cover on case</td>\n",
              "      <td>Dim A</td>\n",
              "      <td>285</td>\n",
              "    </tr>\n",
              "    <tr>\n",
              "      <th>5</th>\n",
              "      <td>26820-D.pin on Arm</td>\n",
              "      <td>Dim B</td>\n",
              "      <td>436</td>\n",
              "    </tr>\n",
              "    <tr>\n",
              "      <th>0</th>\n",
              "      <td>26802- gluing coil</td>\n",
              "      <td>Test lực/\\n Shear force</td>\n",
              "      <td>732</td>\n",
              "    </tr>\n",
              "    <tr>\n",
              "      <th>20</th>\n",
              "      <td>26720-bending Armature</td>\n",
              "      <td>Dim D</td>\n",
              "      <td>1116</td>\n",
              "    </tr>\n",
              "    <tr>\n",
              "      <th>19</th>\n",
              "      <td>26720-bending Armature</td>\n",
              "      <td>Dim C</td>\n",
              "      <td>1116</td>\n",
              "    </tr>\n",
              "    <tr>\n",
              "      <th>18</th>\n",
              "      <td>26720-bending Armature</td>\n",
              "      <td>Dim B</td>\n",
              "      <td>1116</td>\n",
              "    </tr>\n",
              "    <tr>\n",
              "      <th>17</th>\n",
              "      <td>26720-bending Armature</td>\n",
              "      <td>Dim A</td>\n",
              "      <td>1116</td>\n",
              "    </tr>\n",
              "    <tr>\n",
              "      <th>3</th>\n",
              "      <td>26802- gluing coil</td>\n",
              "      <td>Dim C2</td>\n",
              "      <td>1803</td>\n",
              "    </tr>\n",
              "    <tr>\n",
              "      <th>2</th>\n",
              "      <td>26802- gluing coil</td>\n",
              "      <td>Dim C1</td>\n",
              "      <td>1803</td>\n",
              "    </tr>\n",
              "    <tr>\n",
              "      <th>1</th>\n",
              "      <td>26802- gluing coil</td>\n",
              "      <td>Dim B</td>\n",
              "      <td>1803</td>\n",
              "    </tr>\n",
              "    <tr>\n",
              "      <th>22</th>\n",
              "      <td>26725-Adjust Armature</td>\n",
              "      <td>Dim B</td>\n",
              "      <td>3091</td>\n",
              "    </tr>\n",
              "    <tr>\n",
              "      <th>21</th>\n",
              "      <td>26725-Adjust Armature</td>\n",
              "      <td>Dim A</td>\n",
              "      <td>3091</td>\n",
              "    </tr>\n",
              "    <tr>\n",
              "      <th>23</th>\n",
              "      <td>26725- Arm. after annealing</td>\n",
              "      <td>Dim B</td>\n",
              "      <td>6174</td>\n",
              "    </tr>\n",
              "  </tbody>\n",
              "</table>\n",
              "</div>"
            ],
            "text/plain": [
              "                       Process_Name                 Dim_name   Len\n",
              "16         26983-Welding spout dual    Test lực\\nShear force    39\n",
              "15         26983-Welding spout dual                    Dim H    42\n",
              "14         26983-Welding spout dual                    Dim K    42\n",
              "32           26824-Weld MS in strip                    Dim C    50\n",
              "31           26824-Weld MS in strip                    Dim G    50\n",
              "30           26824-Weld MS in strip                    Dim F    50\n",
              "29           26824-Weld MS in strip                    Dim E    50\n",
              "34                26825-Cut MS legs            Dim A (right)    95\n",
              "33                26825-Cut MS legs             Dim A (left)    95\n",
              "28           26824-Weld MS in strip    Test lực\\nShear force   100\n",
              "13           26940-Welding spout MP    Test lực\\nShear force   160\n",
              "12           26940-Welding spout MP                    Dim B   160\n",
              "11           26940-Welding spout MP                    Dim A   160\n",
              "8       26830- Welding ground wire                     Dim B   165\n",
              "27       26822-Welding magnet in MS                    Dim J   190\n",
              "26       26822-Welding magnet in MS                    Dim B   190\n",
              "25       26822-Welding magnet in MS                    Dim I   190\n",
              "24       26822-Welding magnet in MS                    Dim D   190\n",
              "4                26802- gluing coil                    Dim A   201\n",
              "10  26941-Welding alignment X,Y or                     Dim C   217\n",
              "9   26941-Welding alignment X,Y or                     Dim B   217\n",
              "7               26930-Cover on case                    Dim B   285\n",
              "6               26930-Cover on case                    Dim A   285\n",
              "5                26820-D.pin on Arm                    Dim B   436\n",
              "0                26802- gluing coil  Test lực/\\n Shear force   732\n",
              "20           26720-bending Armature                   Dim D   1116\n",
              "19           26720-bending Armature                    Dim C  1116\n",
              "18           26720-bending Armature                    Dim B  1116\n",
              "17           26720-bending Armature                    Dim A  1116\n",
              "3                26802- gluing coil                   Dim C2  1803\n",
              "2                26802- gluing coil                   Dim C1  1803\n",
              "1                26802- gluing coil                    Dim B  1803\n",
              "22            26725-Adjust Armature                    Dim B  3091\n",
              "21            26725-Adjust Armature                    Dim A  3091\n",
              "23      26725- Arm. after annealing                    Dim B  6174"
            ]
          },
          "metadata": {
            "tags": []
          },
          "execution_count": 154
        }
      ]
    },
    {
      "cell_type": "code",
      "metadata": {
        "id": "d-oPn6YM7v7k",
        "colab_type": "code",
        "colab": {
          "base_uri": "https://localhost:8080/",
          "height": 49
        },
        "outputId": "a6234e8a-0218-48b4-d4ba-60a05ac65033"
      },
      "source": [
        "dim_and_len_df[dim_and_len_df.Len == 0]"
      ],
      "execution_count": 155,
      "outputs": [
        {
          "output_type": "execute_result",
          "data": {
            "text/html": [
              "<div>\n",
              "<style scoped>\n",
              "    .dataframe tbody tr th:only-of-type {\n",
              "        vertical-align: middle;\n",
              "    }\n",
              "\n",
              "    .dataframe tbody tr th {\n",
              "        vertical-align: top;\n",
              "    }\n",
              "\n",
              "    .dataframe thead th {\n",
              "        text-align: right;\n",
              "    }\n",
              "</style>\n",
              "<table border=\"1\" class=\"dataframe\">\n",
              "  <thead>\n",
              "    <tr style=\"text-align: right;\">\n",
              "      <th></th>\n",
              "      <th>Process_Name</th>\n",
              "      <th>Dim_name</th>\n",
              "      <th>Len</th>\n",
              "    </tr>\n",
              "  </thead>\n",
              "  <tbody>\n",
              "  </tbody>\n",
              "</table>\n",
              "</div>"
            ],
            "text/plain": [
              "Empty DataFrame\n",
              "Columns: [Process_Name, Dim_name, Len]\n",
              "Index: []"
            ]
          },
          "metadata": {
            "tags": []
          },
          "execution_count": 155
        }
      ]
    },
    {
      "cell_type": "code",
      "metadata": {
        "id": "Dv2lKyG7WAT7",
        "colab_type": "code",
        "colab": {}
      },
      "source": [
        "# Remove all dim with len = 0\n",
        "\n",
        "for i in range(len(dim_and_len_df)):\n",
        "  if dim_and_len_df.loc[i].Len==0:\n",
        "    Process_Name=dim_and_len_df.loc[i].Process_Name\n",
        "    Dim_name=dim_and_len_df.loc[i].Dim_name\n",
        "    print(Process_Name,Dim_name)\n",
        "    base_week[Process_Name].pop(Dim_name,None)"
      ],
      "execution_count": 156,
      "outputs": []
    },
    {
      "cell_type": "markdown",
      "metadata": {
        "id": "dvQjiXEPos6u",
        "colab_type": "text"
      },
      "source": [
        "'21425-E25AE': [], đã loại bỏ ra khỏi dim_and_len_df , tuy nhiên chưa bỏ ra khỏi name list làm cho không vẽ chart được. "
      ]
    },
    {
      "cell_type": "code",
      "metadata": {
        "id": "Ep7adNqbU0D9",
        "colab_type": "code",
        "colab": {
          "base_uri": "https://localhost:8080/",
          "height": 34
        },
        "outputId": "ddfbb221-ecbf-40d3-e369-b6c02d56244b"
      },
      "source": [
        "dim_sum=0\n",
        "for dim_name in base_week.keys():\n",
        "  dim_sum+=len(base_week[dim_name].keys())\n",
        "dim_sum # remove 10 dim"
      ],
      "execution_count": 157,
      "outputs": [
        {
          "output_type": "execute_result",
          "data": {
            "text/plain": [
              "35"
            ]
          },
          "metadata": {
            "tags": []
          },
          "execution_count": 157
        }
      ]
    },
    {
      "cell_type": "markdown",
      "metadata": {
        "id": "J-3UPJcUtqfX",
        "colab_type": "text"
      },
      "source": [
        "Sau khi drop dim: base week vẫn 34 process nhưng mất đi 10 dim (từ 90 xuống 80)"
      ]
    },
    {
      "cell_type": "code",
      "metadata": {
        "id": "T9znBmisuUcN",
        "colab_type": "code",
        "colab": {
          "base_uri": "https://localhost:8080/",
          "height": 54
        },
        "outputId": "8c04657f-8356-4359-f7b5-a66005ba945f"
      },
      "source": [
        "base_week.keys()"
      ],
      "execution_count": 158,
      "outputs": [
        {
          "output_type": "execute_result",
          "data": {
            "text/plain": [
              "dict_keys(['26802- gluing coil', '26820-D.pin on Arm', '26930-Cover on case', '26830- Welding ground wire ', '26941-Welding alignment X,Y or ', '26940-Welding spout MP', '26983-Welding spout dual', '26720-bending Armature', '26725-Adjust Armature', '26725- Arm. after annealing', '26822-Welding magnet in MS', '26824-Weld MS in strip', '26825-Cut MS legs'])"
            ]
          },
          "metadata": {
            "tags": []
          },
          "execution_count": 158
        }
      ]
    },
    {
      "cell_type": "code",
      "metadata": {
        "id": "v4EzLKkJub3q",
        "colab_type": "code",
        "colab": {}
      },
      "source": [
        "#print(len(base_week['21425-E25AE'] ))\n",
        "#base_week['21425-E25AE'] \n",
        "# đã remove dim P của process 24125-E25AE, process này zero dim, nhưng chưa remove process luôn. Nếu check process không còn dim thì phải\n",
        "# remove process"
      ],
      "execution_count": 159,
      "outputs": []
    },
    {
      "cell_type": "code",
      "metadata": {
        "id": "xnIN7se-xBQD",
        "colab_type": "code",
        "colab": {}
      },
      "source": [
        "all_base_week_process_list=list(base_week.keys())"
      ],
      "execution_count": 160,
      "outputs": []
    },
    {
      "cell_type": "code",
      "metadata": {
        "id": "RQeUrSxduyrU",
        "colab_type": "code",
        "colab": {}
      },
      "source": [
        "for process_name in all_base_week_process_list:\n",
        "  if len(base_week[process_name]) == 0 :\n",
        "    base_week.pop(process_name,None)\n"
      ],
      "execution_count": 161,
      "outputs": []
    },
    {
      "cell_type": "code",
      "metadata": {
        "id": "0yHwyR5OvR0R",
        "colab_type": "code",
        "colab": {
          "base_uri": "https://localhost:8080/",
          "height": 34
        },
        "outputId": "07e2d35c-6c20-4fa3-cf13-3cd169bc5cdb"
      },
      "source": [
        "print(len(base_week.keys())) # from 34 to 29 (remove 5 process không còn dim)"
      ],
      "execution_count": 162,
      "outputs": [
        {
          "output_type": "stream",
          "text": [
            "13\n"
          ],
          "name": "stdout"
        }
      ]
    },
    {
      "cell_type": "markdown",
      "metadata": {
        "id": "_Ba2XmCarYSE",
        "colab_type": "text"
      },
      "source": [
        "# Calculate process indicator base on 25 lates subgroup sample"
      ]
    },
    {
      "cell_type": "code",
      "metadata": {
        "id": "K3LH4Wo1TnCm",
        "colab_type": "code",
        "colab": {}
      },
      "source": [
        "constants={\n",
        "    2:1.128,\n",
        "    3:1.693,\n",
        "    4:2.059,\n",
        "    5:2.326,\n",
        "    6:2.534,\n",
        "    7:2.704,\n",
        "    8:2.847, \n",
        "    9: 2.970,\n",
        "    10: 3.078,\n",
        "    11: 3.173,\n",
        "    12: 3.258,\n",
        "    13: 3.336,\n",
        "    14: 3.407,\n",
        "    15: 3.472,\n",
        "    16: 3.532,\n",
        "    17:3.588,\n",
        "    18:3.640,\n",
        "    19:3.689,\n",
        "    20:3.735,\n",
        "}"
      ],
      "execution_count": 163,
      "outputs": []
    },
    {
      "cell_type": "code",
      "metadata": {
        "id": "cyL7P4spkhVM",
        "colab_type": "code",
        "colab": {}
      },
      "source": [
        "def process_performance(data):\n",
        "  df=data\n",
        "  #print('dim: ',name)\n",
        "  n=df.Date.value_counts()[0]\n",
        "  num_sample=n*25\n",
        "  df=df[-num_sample:]\n",
        "  df=df.reset_index(drop=True)\n",
        "  usl=df.USL[0]\n",
        "  lsl=df.LSL[0]\n",
        "  m=df.Value[-n:].mean() # only last day \n",
        "\n",
        "  #Ppk\n",
        "  sigma=np.std(df.Value)\n",
        "  Pp = float(usl - lsl) / (6*sigma)\n",
        "  Ppu = float(usl - m) / (3*sigma)\n",
        "  Ppl = float(m - lsl) / (3*sigma)\n",
        "  Ppk = np.min([Ppu, Ppl])\n",
        "  #print('Pp:{:.2f} , Ppk: {:.2f}'.format(Pp,Ppk))\n",
        "  #Cpk\n",
        "  \n",
        "  temp=df.groupby('Date').agg({'Value':['min','max']})\n",
        "  temp['Range']=temp['Value','max']-temp['Value','min']\n",
        "  Range=temp['Range'].mean()\n",
        "\n",
        "  if n <= 20:\n",
        "    sigma_within = Range/constants[n]\n",
        "  else:\n",
        "    sigma_within = Range/constants[20]\n",
        "\n",
        "  Cp = float(usl - lsl) / (6*sigma_within)\n",
        "  Cpu = float(usl - m) / (3*sigma_within)\n",
        "  Cpl = float(m - lsl) / (3*sigma_within)\n",
        "  Cpk = np.min([Cpu, Cpl])\n",
        "  #print('Cp:{:.2f} , Cpk:{:.2f}'.format(Cp,Cpk))\n",
        "  if np.isnan(usl):\n",
        "    Cpk=Cpl\n",
        "    Ppk=Ppl\n",
        "  elif np.isnan(lsl):\n",
        "    Cpk=Cpu\n",
        "    Ppk=Ppu\n",
        "  else:\n",
        "    Cpk = np.min([Cpu, Cpl])\n",
        "    Ppk = np.min([Ppu, Ppl])\n",
        "  #print(Ppk,Cpk)\n",
        "  Cp=round(Cp,2)\n",
        "  Cpk=round(Cpk,2)\n",
        "  Pp=round(Pp,2)\n",
        "  Ppk=round(Ppk,2)\n",
        "  return Cp,Cpk,Pp,Ppk\n",
        " "
      ],
      "execution_count": 164,
      "outputs": []
    },
    {
      "cell_type": "code",
      "metadata": {
        "id": "X-0apsKYsHWQ",
        "colab_type": "code",
        "colab": {}
      },
      "source": [
        "process_indicator_dict={}\n",
        "process_indicator_df=pd.DataFrame(columns=['Process_name','Dim_name','Cp','Pp','Cpk','Ppk'])\n",
        "#process_indicator_df.columns=['Dim','Cp','Cpk','Pb','Ppk']\n",
        "i=0\n",
        "for process_name in list(base_week.keys()):\n",
        "  #print(process_name)\n",
        "  df_dict=base_week[process_name]\n",
        "  for dim_name in list(df_dict.keys()): #also group\n",
        "    #print(dim_name)\n",
        "    df=df_dict[dim_name]\n",
        "    #print(dim_name)\n",
        "    #try: # object column cannot be calculated process indicator (OK/Not OK, all value have the same...) How to remove object colum in the beginning ?\n",
        "    Cp,Cpk,Pp,Ppk=process_performance(df) \n",
        "    #except: continue\n",
        "    #process_indicator_dict[process_name]=[dim_name,Cp,Pp,Cpk,Ppk]\n",
        "    process_indicator_df.loc[i]=process_name,dim_name,Cp, Pp, Cpk, Ppk\n",
        "    i+=1\n",
        "\n",
        "process_indicator_df=process_indicator_df.sort_values(by='Ppk').reset_index(drop=True)\n",
        "\n",
        "#conver process indicator dict to list name:\n",
        "name_list_dict={} # key: process name, value: list all dim in process name\n",
        "\n",
        "a=process_indicator_df\n",
        "for process_name in list(base_week.keys()):\n",
        "  dim_infor_string_list=[]\n",
        "  for dim_name in list(base_week[process_name].keys()):\n",
        "    dim_infor_string=str(dim_name) + ' Cp: ' + str(a[(a.Process_name==process_name) & (a.Dim_name==dim_name)]['Cp'].values[0]) + ' Pp: '+ \\\n",
        "    str(a[(a.Process_name==process_name) & (a.Dim_name==dim_name)]['Pp'].values[0]) +' Cpk: ' \\\n",
        "    + str(a[(a.Process_name==process_name) & (a.Dim_name==dim_name)]['Cpk'].values[0]) +' Ppk: '+ \\\n",
        "    str(a[(a.Process_name==process_name) & (a.Dim_name==dim_name)]['Ppk'].values[0]) \n",
        "\n",
        "    dim_infor_string_list.append(dim_infor_string)\n",
        "\n",
        "  name_list_dict[process_name]=dim_infor_string_list\n",
        "  #name_list.append(dim_name)"
      ],
      "execution_count": 165,
      "outputs": []
    },
    {
      "cell_type": "markdown",
      "metadata": {
        "id": "Eo-Dz5nstvc0",
        "colab_type": "text"
      },
      "source": [
        "### Debug"
      ]
    },
    {
      "cell_type": "code",
      "metadata": {
        "id": "99f_kFzVHZZK",
        "colab_type": "code",
        "colab": {
          "base_uri": "https://localhost:8080/",
          "height": 54
        },
        "outputId": "abc0a8a7-c2ba-466c-e06d-dbc7cf234972"
      },
      "source": [
        "base_week.keys()"
      ],
      "execution_count": 135,
      "outputs": [
        {
          "output_type": "execute_result",
          "data": {
            "text/plain": [
              "dict_keys(['26802- gluing coil', '26820-D.pin on Arm', '26930-Cover on case', '26830- Welding ground wire ', '26941-Welding alignment X,Y or ', '26940-Welding spout MP', '26983-Welding spout dual', '26720-bending Armature', '26725-Adjust Armature', '26725- Arm. after annealing', '26822-Welding magnet in MS', '26824-Weld MS in strip', '26825-Cut MS legs'])"
            ]
          },
          "metadata": {
            "tags": []
          },
          "execution_count": 135
        }
      ]
    },
    {
      "cell_type": "code",
      "metadata": {
        "id": "mMaIjeyS4LEV",
        "colab_type": "code",
        "colab": {
          "base_uri": "https://localhost:8080/",
          "height": 34
        },
        "outputId": "6842a600-2a20-4466-e628-3d78fe64401d"
      },
      "source": [
        "print(process_name)"
      ],
      "execution_count": 138,
      "outputs": [
        {
          "output_type": "stream",
          "text": [
            "26830- Welding ground wire \n"
          ],
          "name": "stdout"
        }
      ]
    },
    {
      "cell_type": "code",
      "metadata": {
        "id": "qvMut4ky39z3",
        "colab_type": "code",
        "colab": {
          "base_uri": "https://localhost:8080/",
          "height": 419
        },
        "outputId": "688c15c7-0f4c-4271-815f-eeb74627fb74"
      },
      "source": [
        "df"
      ],
      "execution_count": 136,
      "outputs": [
        {
          "output_type": "execute_result",
          "data": {
            "text/html": [
              "<div>\n",
              "<style scoped>\n",
              "    .dataframe tbody tr th:only-of-type {\n",
              "        vertical-align: middle;\n",
              "    }\n",
              "\n",
              "    .dataframe tbody tr th {\n",
              "        vertical-align: top;\n",
              "    }\n",
              "\n",
              "    .dataframe thead th {\n",
              "        text-align: right;\n",
              "    }\n",
              "</style>\n",
              "<table border=\"1\" class=\"dataframe\">\n",
              "  <thead>\n",
              "    <tr style=\"text-align: right;\">\n",
              "      <th></th>\n",
              "      <th>Date</th>\n",
              "      <th>Value</th>\n",
              "      <th>USL</th>\n",
              "      <th>LSL</th>\n",
              "      <th>UCL</th>\n",
              "      <th>LCL</th>\n",
              "      <th>Mean</th>\n",
              "    </tr>\n",
              "  </thead>\n",
              "  <tbody>\n",
              "    <tr>\n",
              "      <th>0</th>\n",
              "      <td>2020-09-18 11:00:00</td>\n",
              "      <td>1.0</td>\n",
              "      <td>NaN</td>\n",
              "      <td>1.0</td>\n",
              "      <td>1.0</td>\n",
              "      <td>1.0</td>\n",
              "      <td>1.0</td>\n",
              "    </tr>\n",
              "    <tr>\n",
              "      <th>1</th>\n",
              "      <td>2020-09-18 11:00:00</td>\n",
              "      <td>1.0</td>\n",
              "      <td>NaN</td>\n",
              "      <td>1.0</td>\n",
              "      <td>1.0</td>\n",
              "      <td>1.0</td>\n",
              "      <td>1.0</td>\n",
              "    </tr>\n",
              "    <tr>\n",
              "      <th>2</th>\n",
              "      <td>2020-09-18 11:00:00</td>\n",
              "      <td>1.0</td>\n",
              "      <td>NaN</td>\n",
              "      <td>1.0</td>\n",
              "      <td>1.0</td>\n",
              "      <td>1.0</td>\n",
              "      <td>1.0</td>\n",
              "    </tr>\n",
              "    <tr>\n",
              "      <th>0</th>\n",
              "      <td>2020-08-29 03:00:00</td>\n",
              "      <td>1.0</td>\n",
              "      <td>NaN</td>\n",
              "      <td>1.0</td>\n",
              "      <td>1.0</td>\n",
              "      <td>1.0</td>\n",
              "      <td>1.0</td>\n",
              "    </tr>\n",
              "    <tr>\n",
              "      <th>1</th>\n",
              "      <td>2020-08-29 03:00:00</td>\n",
              "      <td>1.0</td>\n",
              "      <td>NaN</td>\n",
              "      <td>1.0</td>\n",
              "      <td>1.0</td>\n",
              "      <td>1.0</td>\n",
              "      <td>1.0</td>\n",
              "    </tr>\n",
              "    <tr>\n",
              "      <th>...</th>\n",
              "      <td>...</td>\n",
              "      <td>...</td>\n",
              "      <td>...</td>\n",
              "      <td>...</td>\n",
              "      <td>...</td>\n",
              "      <td>...</td>\n",
              "      <td>...</td>\n",
              "    </tr>\n",
              "    <tr>\n",
              "      <th>31</th>\n",
              "      <td>2020-09-17 20:00:00</td>\n",
              "      <td>1.0</td>\n",
              "      <td>NaN</td>\n",
              "      <td>1.0</td>\n",
              "      <td>1.0</td>\n",
              "      <td>1.0</td>\n",
              "      <td>1.0</td>\n",
              "    </tr>\n",
              "    <tr>\n",
              "      <th>32</th>\n",
              "      <td>2020-09-17 20:00:00</td>\n",
              "      <td>1.0</td>\n",
              "      <td>NaN</td>\n",
              "      <td>1.0</td>\n",
              "      <td>1.0</td>\n",
              "      <td>1.0</td>\n",
              "      <td>1.0</td>\n",
              "    </tr>\n",
              "    <tr>\n",
              "      <th>33</th>\n",
              "      <td>2020-09-18 03:00:00</td>\n",
              "      <td>1.0</td>\n",
              "      <td>NaN</td>\n",
              "      <td>1.0</td>\n",
              "      <td>1.0</td>\n",
              "      <td>1.0</td>\n",
              "      <td>1.0</td>\n",
              "    </tr>\n",
              "    <tr>\n",
              "      <th>34</th>\n",
              "      <td>2020-09-18 03:00:00</td>\n",
              "      <td>1.0</td>\n",
              "      <td>NaN</td>\n",
              "      <td>1.0</td>\n",
              "      <td>1.0</td>\n",
              "      <td>1.0</td>\n",
              "      <td>1.0</td>\n",
              "    </tr>\n",
              "    <tr>\n",
              "      <th>35</th>\n",
              "      <td>2020-09-18 03:00:00</td>\n",
              "      <td>1.0</td>\n",
              "      <td>NaN</td>\n",
              "      <td>1.0</td>\n",
              "      <td>1.0</td>\n",
              "      <td>1.0</td>\n",
              "      <td>1.0</td>\n",
              "    </tr>\n",
              "  </tbody>\n",
              "</table>\n",
              "<p>99 rows × 7 columns</p>\n",
              "</div>"
            ],
            "text/plain": [
              "                  Date  Value  USL  LSL  UCL  LCL  Mean\n",
              "0  2020-09-18 11:00:00    1.0  NaN  1.0  1.0  1.0   1.0\n",
              "1  2020-09-18 11:00:00    1.0  NaN  1.0  1.0  1.0   1.0\n",
              "2  2020-09-18 11:00:00    1.0  NaN  1.0  1.0  1.0   1.0\n",
              "0  2020-08-29 03:00:00    1.0  NaN  1.0  1.0  1.0   1.0\n",
              "1  2020-08-29 03:00:00    1.0  NaN  1.0  1.0  1.0   1.0\n",
              "..                 ...    ...  ...  ...  ...  ...   ...\n",
              "31 2020-09-17 20:00:00    1.0  NaN  1.0  1.0  1.0   1.0\n",
              "32 2020-09-17 20:00:00    1.0  NaN  1.0  1.0  1.0   1.0\n",
              "33 2020-09-18 03:00:00    1.0  NaN  1.0  1.0  1.0   1.0\n",
              "34 2020-09-18 03:00:00    1.0  NaN  1.0  1.0  1.0   1.0\n",
              "35 2020-09-18 03:00:00    1.0  NaN  1.0  1.0  1.0   1.0\n",
              "\n",
              "[99 rows x 7 columns]"
            ]
          },
          "metadata": {
            "tags": []
          },
          "execution_count": 136
        }
      ]
    },
    {
      "cell_type": "code",
      "metadata": {
        "id": "L0FILSCWGp53",
        "colab_type": "code",
        "colab": {
          "base_uri": "https://localhost:8080/",
          "height": 170
        },
        "outputId": "4047e634-7c80-4902-d45e-f2da3426a0ce"
      },
      "source": [
        "#print('dim: ',name)\n",
        "#df=base_week['30750-30940-39750 _S2']['Spout  12-SN _ Connection strength']\n",
        "n=df.Date.value_counts()[0]\n",
        "num_sample=n*25\n",
        "df=df[-num_sample:]\n",
        "df=df.reset_index(drop=True)\n",
        "usl=df.USL[0]\n",
        "lsl=df.LSL[0]\n",
        "m=df.Value[-n:].mean() # only last day \n",
        "print('usl:{:.2f} ,lsl: {:.2f}, m: {:.2f}'.format(usl,lsl,m))\n",
        "#Ppk\n",
        "sigma=st.stdev(df.Value)\n",
        "print(sigma)\n",
        "Pp = float(usl - lsl) / (6*sigma)\n",
        "Ppu = float(usl - m) / (3*sigma)\n",
        "Ppl = float(m - lsl) / (3*sigma)\n",
        "Ppk = np.min([Ppu, Ppl])\n",
        "#Cpk\n",
        "temp=df.groupby('Date').agg({'Value':['min','max']})\n",
        "temp['Range']=temp['Value','max']-temp['Value','min']\n",
        "Range=temp['Range'].mean()\n",
        "\n",
        "if n <= 20:\n",
        "  sigma_within = Range/constants[n]\n",
        "else:\n",
        "  sigma_within = Range/constants[20]\n",
        "\n",
        "Cp = float(usl - lsl) / (6*sigma_within)\n",
        "Cpu = float(usl - m) / (3*sigma_within)\n",
        "Cpl = float(m - lsl) / (3*sigma_within)\n",
        "Cpk = np.min([Cpu, Cpl])\n",
        "print('Ppu:{:.2f}'.format(Ppu))\n",
        "print('Ppl:{:.2f}'.format(Ppl))\n",
        "print('Cpu:{:.2f}'.format(Cpu))\n",
        "print('Cpl:{:.2f}'.format(Cpl))\n",
        "print('Pp:{:.2f} , Ppk: {:.2f}'.format(Pp,Ppk))\n",
        "print('Cp:{:.2f} , Cpk:{:.2f}'.format(Cp,Cpk))\n",
        "Cp=round(Cp,2)\n",
        "Cpk=round(Cpk,2)\n",
        "Pp=round(Pp,2)\n",
        "Ppk=round(Ppk,2)\n",
        "if np.isnan(usl):\n",
        "  Cpk=Cpl\n",
        "  Ppk=Ppl\n",
        "elif np.isnan(lsl):\n",
        "  Cpk=Cpu\n",
        "  Ppk=Ppu\n",
        "else:\n",
        "  Cpk = np.min([Cpu, Cpl])\n",
        "  Ppk = np.min([Ppu, Ppl])\n",
        "print(Ppk,Cpk)\n",
        "\n",
        " "
      ],
      "execution_count": null,
      "outputs": [
        {
          "output_type": "stream",
          "text": [
            "usl:nan ,lsl: 50.00, m: 58.84\n",
            "2.8058305955369924\n",
            "Ppu:nan\n",
            "Ppl:1.05\n",
            "Cpu:nan\n",
            "Cpl:1.68\n",
            "Pp:nan , Ppk: nan\n",
            "Cp:nan , Cpk:nan\n",
            "1.0501940930490676 1.6756608299014177\n"
          ],
          "name": "stdout"
        }
      ]
    },
    {
      "cell_type": "code",
      "metadata": {
        "id": "C2VQMEaMtxSL",
        "colab_type": "code",
        "colab": {
          "base_uri": "https://localhost:8080/",
          "height": 1000
        },
        "outputId": "b9059e70-05bf-4953-c9ef-f1ebe2bd389a"
      },
      "source": [
        "\n",
        "process_indicator_dict={}\n",
        "process_indicator_df=pd.DataFrame(columns=['Dim','Cp','Pp','Cpk','Ppk'])\n",
        "#process_indicator_df.columns=['Dim','Cp','Cpk','Pb','Ppk']\n",
        "i=0\n",
        "for process_name in list(base_week.keys()):\n",
        "  print(process_name)\n",
        "  df_dict=base_week[process_name]\n",
        "  for dim_name in list(df_dict.keys()): #also group\n",
        "    print(dim_name)\n",
        "    df=df_dict[dim_name]\n",
        "    #print(dim_name)\n",
        "    #try: # object column cannot be calculated process indicator (OK, Not OK...) How to remove object colum in the beginning ?\n",
        "    #Cp,Cpk,Pp,Ppk=process_performance(df) \n",
        "\n",
        "    #print('dim: ',name)\n",
        "    n=df.Date.value_counts()[0]\n",
        "    num_sample=n*25\n",
        "    df=df[-num_sample:]\n",
        "    df=df.reset_index(drop=True)\n",
        "    usl=df.USL[0]\n",
        "    lsl=df.LSL[0]\n",
        "    m=df.Value[-n:].mean() # only last day \n",
        "\n",
        "    #Ppk\n",
        "    sigma=st.stdev(df.Value)\n",
        "    Pp = float(usl - lsl) / (6*sigma)\n",
        "    Ppu = float(usl - m) / (3*sigma)\n",
        "    Ppl = float(m - lsl) / (3*sigma)\n",
        "    Ppk = np.min([Ppu, Ppl])\n",
        "    #print('Pp:{:.2f} , Ppk: {:.2f}'.format(Pp,Ppk))\n",
        "    #Cpk\n",
        "\n",
        "    temp=df.groupby('Date').agg({'Value':['min','max']})\n",
        "    temp['Range']=temp['Value','max']-temp['Value','min']\n",
        "    Range=temp['Range'].mean()\n",
        "\n",
        "    if n <= 20:\n",
        "      sigma_within = Range/constants[n]\n",
        "    else:\n",
        "      sigma_within = Range/constants[20]\n",
        "\n",
        "    Cp = float(usl - lsl) / (6*sigma_within)\n",
        "    Cpu = float(usl - m) / (3*sigma_within)\n",
        "    Cpl = float(m - lsl) / (3*sigma_within)\n",
        "    Cpk = np.min([Cpu, Cpl])\n",
        "    #print('Cp:{:.2f} , Cpk:{:.2f}'.format(Cp,Cpk))\n",
        "    Cp=str(round(Cp,2))\n",
        "    Cpk=str(round(Cpk,2))\n",
        "    Pp=str(round(Pp,2))\n",
        "    Ppk=str(round(Ppk,2))\n",
        "\n",
        "    #except: continue\n",
        "    process_indicator_dict[dim_name]=[Cp,Pp,Cpk,Ppk]\n",
        "    process_indicator_df.loc[i]=dim_name,Cp, Pp, Cpk, Ppk\n",
        "    i+=1\n"
      ],
      "execution_count": null,
      "outputs": [
        {
          "output_type": "stream",
          "text": [
            "39682\n",
            "Chiều rộng Dim E\n",
            "Chiều dài Dim C\n",
            "Cung hint Dim I\n",
            "Cung J Dim J\n",
            "Offset Dim M\n",
            "38682\n",
            "Hinge Dim F\n",
            "Chiều dài Dim B\n",
            "Chiều rộng Dim A\n",
            "L.Tâm Dim N\n",
            "Offset Dim M\n",
            "Ba vớ trên membrane\n",
            "30682\n",
            "Hinge Dim F\n",
            "Chiều dài Dim B\n",
            "Chiều rộng Dim A\n",
            "L.Tâm Dim N\n",
            "Offset Dim M\n",
            "Ba vớ trên membrane\n",
            "37682\n",
            "Offset Dim M\n",
            "Ba vớ trên membrane\n",
            "30665\n",
            "30660 Độ sâu foil \n",
            "30660 Offset Dim M\n",
            "37660 _3500T Độ sâu foil \n",
            "37660 _3500T Offset Dim M\n",
            "37660  Độ sâu foil \n",
            "37660 Offset Dim M\n",
            "38660  Độ sâu foil \n",
            "38660 Offset Dim M\n",
            "30660-37660-38660\n",
            "30660 Độ sâu foil \n",
            "30660 Offset Dim M\n",
            "37660 _3500T Độ sâu foil \n",
            "37660 _3500T Offset Dim M\n",
            "37660  Độ sâu foil \n",
            "37660 Offset Dim M\n",
            "38660  Độ sâu foil \n",
            "38660 Offset Dim M\n",
            "30380-37380-38380\n",
            "3000 Dim A\n",
            "3700 Dim A\n",
            "3800 Dim A\n",
            "37670-39670\n",
            "3500T Đường kính lỗ bù (dim B)\n",
            "3500T Vị trí của lỗ bù (dim A)\n",
            "3900T Đường kính lỗ bù (dim B)\n",
            "3900T Vị trí của lỗ bù (dim A)\n",
            "37662\n",
            "Kích thước lỗ drive pin (dim B)\n",
            "Độ lệch tâm của lỗ drive pin (dim C)\n",
            "Offset of membrane ( Dim D)\n",
            "30650-37650 (3500T)\n",
            "30650 Dim E\n",
            "30650 Dim G\n",
            "30650 Offset membrane\n",
            "37650 (3500T)  Dim A\n",
            "37650 (3500T) Dim E\n",
            "37650 (3500T) Dim H\n",
            "37650 (3500T) Offset membrane\n",
            "37650-38655-39650\n",
            "37650 Dim E\n",
            "37650 Dim G\n",
            "37650 Offset membrane\n",
            "38655 Dim E\n",
            "38655 Dim G\n",
            "38655 Offset membrane\n",
            "39650  Dim A\n",
            "39650 Dim E\n",
            "39650 Dim H\n",
            "39650 Offset membrane\n",
            "37641\n",
            "Độ lệch tâm lõi AL(Dim A)\n",
            "Khoảng cách giữa lõi Al & khung Nikel (Dim B)\n",
            "Lực bám foil\n",
            "30470-37470\n",
            "30470 Chiều dài drive pin sau khi cắt_Dim B \n",
            "37470 (3500K) Chiều dài drive pin sau khi cắt_Dim B \n",
            "38546\n",
            "Vị trí bobbin sau khi định vị_ Dim D\n",
            "39615\n",
            "Chiều dài lõi Al (dim A)\n",
            "Chiều dài rộng lõi Al (dim B)\n",
            "38940\n",
            "Spout EL_ Connection strength\n",
            "Spout EL_ Độ lệch vị trí F\n",
            "Spout EL_ Vị trí C - 1S\n",
            "Spout EL_ Vị trí C - 11S\n",
            "Spout 12-DL_ Connection strength\n",
            "Spout 12-DL_ Độ lệch vị trí B\n",
            "Spout 12-DL_ Vị trí C\n"
          ],
          "name": "stdout"
        },
        {
          "output_type": "error",
          "ename": "IndexError",
          "evalue": "ignored",
          "traceback": [
            "\u001b[0;31m---------------------------------------------------------------------------\u001b[0m",
            "\u001b[0;31mKeyError\u001b[0m                                  Traceback (most recent call last)",
            "\u001b[0;32m/usr/local/lib/python3.6/dist-packages/pandas/core/indexes/base.py\u001b[0m in \u001b[0;36mget_value\u001b[0;34m(self, series, key)\u001b[0m\n\u001b[1;32m   4404\u001b[0m         \u001b[0;32mtry\u001b[0m\u001b[0;34m:\u001b[0m\u001b[0;34m\u001b[0m\u001b[0;34m\u001b[0m\u001b[0m\n\u001b[0;32m-> 4405\u001b[0;31m             \u001b[0;32mreturn\u001b[0m \u001b[0mself\u001b[0m\u001b[0;34m.\u001b[0m\u001b[0m_engine\u001b[0m\u001b[0;34m.\u001b[0m\u001b[0mget_value\u001b[0m\u001b[0;34m(\u001b[0m\u001b[0ms\u001b[0m\u001b[0;34m,\u001b[0m \u001b[0mk\u001b[0m\u001b[0;34m,\u001b[0m \u001b[0mtz\u001b[0m\u001b[0;34m=\u001b[0m\u001b[0mgetattr\u001b[0m\u001b[0;34m(\u001b[0m\u001b[0mseries\u001b[0m\u001b[0;34m.\u001b[0m\u001b[0mdtype\u001b[0m\u001b[0;34m,\u001b[0m \u001b[0;34m\"tz\"\u001b[0m\u001b[0;34m,\u001b[0m \u001b[0;32mNone\u001b[0m\u001b[0;34m)\u001b[0m\u001b[0;34m)\u001b[0m\u001b[0;34m\u001b[0m\u001b[0;34m\u001b[0m\u001b[0m\n\u001b[0m\u001b[1;32m   4406\u001b[0m         \u001b[0;32mexcept\u001b[0m \u001b[0mKeyError\u001b[0m \u001b[0;32mas\u001b[0m \u001b[0me1\u001b[0m\u001b[0;34m:\u001b[0m\u001b[0;34m\u001b[0m\u001b[0;34m\u001b[0m\u001b[0m\n",
            "\u001b[0;32mpandas/_libs/index.pyx\u001b[0m in \u001b[0;36mpandas._libs.index.IndexEngine.get_value\u001b[0;34m()\u001b[0m\n",
            "\u001b[0;32mpandas/_libs/index.pyx\u001b[0m in \u001b[0;36mpandas._libs.index.IndexEngine.get_value\u001b[0;34m()\u001b[0m\n",
            "\u001b[0;32mpandas/_libs/index.pyx\u001b[0m in \u001b[0;36mpandas._libs.index.DatetimeEngine.get_loc\u001b[0;34m()\u001b[0m\n",
            "\u001b[0;32mpandas/_libs/hashtable_class_helper.pxi\u001b[0m in \u001b[0;36mpandas._libs.hashtable.Int64HashTable.get_item\u001b[0;34m()\u001b[0m\n",
            "\u001b[0;32mpandas/_libs/hashtable_class_helper.pxi\u001b[0m in \u001b[0;36mpandas._libs.hashtable.Int64HashTable.get_item\u001b[0;34m()\u001b[0m\n",
            "\u001b[0;31mKeyError\u001b[0m: 0",
            "\nDuring handling of the above exception, another exception occurred:\n",
            "\u001b[0;31mIndexError\u001b[0m                                Traceback (most recent call last)",
            "\u001b[0;32m<ipython-input-27-0c1f8505c1ed>\u001b[0m in \u001b[0;36m<module>\u001b[0;34m()\u001b[0m\n\u001b[1;32m     15\u001b[0m \u001b[0;34m\u001b[0m\u001b[0m\n\u001b[1;32m     16\u001b[0m     \u001b[0;31m#print('dim: ',name)\u001b[0m\u001b[0;34m\u001b[0m\u001b[0;34m\u001b[0m\u001b[0;34m\u001b[0m\u001b[0m\n\u001b[0;32m---> 17\u001b[0;31m     \u001b[0mn\u001b[0m\u001b[0;34m=\u001b[0m\u001b[0mdf\u001b[0m\u001b[0;34m.\u001b[0m\u001b[0mDate\u001b[0m\u001b[0;34m.\u001b[0m\u001b[0mvalue_counts\u001b[0m\u001b[0;34m(\u001b[0m\u001b[0;34m)\u001b[0m\u001b[0;34m[\u001b[0m\u001b[0;36m0\u001b[0m\u001b[0;34m]\u001b[0m\u001b[0;34m\u001b[0m\u001b[0;34m\u001b[0m\u001b[0m\n\u001b[0m\u001b[1;32m     18\u001b[0m     \u001b[0mnum_sample\u001b[0m\u001b[0;34m=\u001b[0m\u001b[0mn\u001b[0m\u001b[0;34m*\u001b[0m\u001b[0;36m25\u001b[0m\u001b[0;34m\u001b[0m\u001b[0;34m\u001b[0m\u001b[0m\n\u001b[1;32m     19\u001b[0m     \u001b[0mdf\u001b[0m\u001b[0;34m=\u001b[0m\u001b[0mdf\u001b[0m\u001b[0;34m[\u001b[0m\u001b[0;34m-\u001b[0m\u001b[0mnum_sample\u001b[0m\u001b[0;34m:\u001b[0m\u001b[0;34m]\u001b[0m\u001b[0;34m\u001b[0m\u001b[0;34m\u001b[0m\u001b[0m\n",
            "\u001b[0;32m/usr/local/lib/python3.6/dist-packages/pandas/core/series.py\u001b[0m in \u001b[0;36m__getitem__\u001b[0;34m(self, key)\u001b[0m\n\u001b[1;32m    869\u001b[0m         \u001b[0mkey\u001b[0m \u001b[0;34m=\u001b[0m \u001b[0mcom\u001b[0m\u001b[0;34m.\u001b[0m\u001b[0mapply_if_callable\u001b[0m\u001b[0;34m(\u001b[0m\u001b[0mkey\u001b[0m\u001b[0;34m,\u001b[0m \u001b[0mself\u001b[0m\u001b[0;34m)\u001b[0m\u001b[0;34m\u001b[0m\u001b[0;34m\u001b[0m\u001b[0m\n\u001b[1;32m    870\u001b[0m         \u001b[0;32mtry\u001b[0m\u001b[0;34m:\u001b[0m\u001b[0;34m\u001b[0m\u001b[0;34m\u001b[0m\u001b[0m\n\u001b[0;32m--> 871\u001b[0;31m             \u001b[0mresult\u001b[0m \u001b[0;34m=\u001b[0m \u001b[0mself\u001b[0m\u001b[0;34m.\u001b[0m\u001b[0mindex\u001b[0m\u001b[0;34m.\u001b[0m\u001b[0mget_value\u001b[0m\u001b[0;34m(\u001b[0m\u001b[0mself\u001b[0m\u001b[0;34m,\u001b[0m \u001b[0mkey\u001b[0m\u001b[0;34m)\u001b[0m\u001b[0;34m\u001b[0m\u001b[0;34m\u001b[0m\u001b[0m\n\u001b[0m\u001b[1;32m    872\u001b[0m \u001b[0;34m\u001b[0m\u001b[0m\n\u001b[1;32m    873\u001b[0m             \u001b[0;32mif\u001b[0m \u001b[0;32mnot\u001b[0m \u001b[0mis_scalar\u001b[0m\u001b[0;34m(\u001b[0m\u001b[0mresult\u001b[0m\u001b[0;34m)\u001b[0m\u001b[0;34m:\u001b[0m\u001b[0;34m\u001b[0m\u001b[0;34m\u001b[0m\u001b[0m\n",
            "\u001b[0;32m/usr/local/lib/python3.6/dist-packages/pandas/core/indexes/datetimes.py\u001b[0m in \u001b[0;36mget_value\u001b[0;34m(self, series, key)\u001b[0m\n\u001b[1;32m    649\u001b[0m \u001b[0;34m\u001b[0m\u001b[0m\n\u001b[1;32m    650\u001b[0m         \u001b[0;32mtry\u001b[0m\u001b[0;34m:\u001b[0m\u001b[0;34m\u001b[0m\u001b[0;34m\u001b[0m\u001b[0m\n\u001b[0;32m--> 651\u001b[0;31m             \u001b[0mvalue\u001b[0m \u001b[0;34m=\u001b[0m \u001b[0mIndex\u001b[0m\u001b[0;34m.\u001b[0m\u001b[0mget_value\u001b[0m\u001b[0;34m(\u001b[0m\u001b[0mself\u001b[0m\u001b[0;34m,\u001b[0m \u001b[0mseries\u001b[0m\u001b[0;34m,\u001b[0m \u001b[0mkey\u001b[0m\u001b[0;34m)\u001b[0m\u001b[0;34m\u001b[0m\u001b[0;34m\u001b[0m\u001b[0m\n\u001b[0m\u001b[1;32m    652\u001b[0m         \u001b[0;32mexcept\u001b[0m \u001b[0mKeyError\u001b[0m\u001b[0;34m:\u001b[0m\u001b[0;34m\u001b[0m\u001b[0;34m\u001b[0m\u001b[0m\n\u001b[1;32m    653\u001b[0m             \u001b[0;32mtry\u001b[0m\u001b[0;34m:\u001b[0m\u001b[0;34m\u001b[0m\u001b[0;34m\u001b[0m\u001b[0m\n",
            "\u001b[0;32m/usr/local/lib/python3.6/dist-packages/pandas/core/indexes/base.py\u001b[0m in \u001b[0;36mget_value\u001b[0;34m(self, series, key)\u001b[0m\n\u001b[1;32m   4409\u001b[0m \u001b[0;34m\u001b[0m\u001b[0m\n\u001b[1;32m   4410\u001b[0m             \u001b[0;32mtry\u001b[0m\u001b[0;34m:\u001b[0m\u001b[0;34m\u001b[0m\u001b[0;34m\u001b[0m\u001b[0m\n\u001b[0;32m-> 4411\u001b[0;31m                 \u001b[0;32mreturn\u001b[0m \u001b[0mlibindex\u001b[0m\u001b[0;34m.\u001b[0m\u001b[0mget_value_at\u001b[0m\u001b[0;34m(\u001b[0m\u001b[0ms\u001b[0m\u001b[0;34m,\u001b[0m \u001b[0mkey\u001b[0m\u001b[0;34m)\u001b[0m\u001b[0;34m\u001b[0m\u001b[0;34m\u001b[0m\u001b[0m\n\u001b[0m\u001b[1;32m   4412\u001b[0m             \u001b[0;32mexcept\u001b[0m \u001b[0mIndexError\u001b[0m\u001b[0;34m:\u001b[0m\u001b[0;34m\u001b[0m\u001b[0;34m\u001b[0m\u001b[0m\n\u001b[1;32m   4413\u001b[0m                 \u001b[0;32mraise\u001b[0m\u001b[0;34m\u001b[0m\u001b[0;34m\u001b[0m\u001b[0m\n",
            "\u001b[0;32mpandas/_libs/index.pyx\u001b[0m in \u001b[0;36mpandas._libs.index.get_value_at\u001b[0;34m()\u001b[0m\n",
            "\u001b[0;32mpandas/_libs/index.pyx\u001b[0m in \u001b[0;36mpandas._libs.index.get_value_at\u001b[0;34m()\u001b[0m\n",
            "\u001b[0;32mpandas/_libs/util.pxd\u001b[0m in \u001b[0;36mpandas._libs.util.get_value_at\u001b[0;34m()\u001b[0m\n",
            "\u001b[0;32mpandas/_libs/util.pxd\u001b[0m in \u001b[0;36mpandas._libs.util.validate_indexer\u001b[0;34m()\u001b[0m\n",
            "\u001b[0;31mIndexError\u001b[0m: index out of bounds"
          ]
        }
      ]
    },
    {
      "cell_type": "code",
      "metadata": {
        "id": "7302oRMLtxUu",
        "colab_type": "code",
        "colab": {}
      },
      "source": [
        ""
      ],
      "execution_count": null,
      "outputs": []
    },
    {
      "cell_type": "code",
      "metadata": {
        "id": "oD0JVtcCtxa8",
        "colab_type": "code",
        "colab": {}
      },
      "source": [
        ""
      ],
      "execution_count": null,
      "outputs": []
    },
    {
      "cell_type": "code",
      "metadata": {
        "id": "1H9yMT_TtxYk",
        "colab_type": "code",
        "colab": {}
      },
      "source": [
        ""
      ],
      "execution_count": null,
      "outputs": []
    },
    {
      "cell_type": "markdown",
      "metadata": {
        "id": "mFE5qlROtx-w",
        "colab_type": "text"
      },
      "source": [
        "### End debug"
      ]
    },
    {
      "cell_type": "code",
      "metadata": {
        "id": "zJuUeFP8sOgn",
        "colab_type": "code",
        "colab": {
          "base_uri": "https://localhost:8080/",
          "height": 1000
        },
        "outputId": "c3623a07-cec1-4718-a894-71ea29df2a4b"
      },
      "source": [
        "process_indicator_df"
      ],
      "execution_count": 166,
      "outputs": [
        {
          "output_type": "execute_result",
          "data": {
            "text/html": [
              "<div>\n",
              "<style scoped>\n",
              "    .dataframe tbody tr th:only-of-type {\n",
              "        vertical-align: middle;\n",
              "    }\n",
              "\n",
              "    .dataframe tbody tr th {\n",
              "        vertical-align: top;\n",
              "    }\n",
              "\n",
              "    .dataframe thead th {\n",
              "        text-align: right;\n",
              "    }\n",
              "</style>\n",
              "<table border=\"1\" class=\"dataframe\">\n",
              "  <thead>\n",
              "    <tr style=\"text-align: right;\">\n",
              "      <th></th>\n",
              "      <th>Process_name</th>\n",
              "      <th>Dim_name</th>\n",
              "      <th>Cp</th>\n",
              "      <th>Pp</th>\n",
              "      <th>Cpk</th>\n",
              "      <th>Ppk</th>\n",
              "    </tr>\n",
              "  </thead>\n",
              "  <tbody>\n",
              "    <tr>\n",
              "      <th>0</th>\n",
              "      <td>26725- Arm. after annealing</td>\n",
              "      <td>Dim B</td>\n",
              "      <td>0.27</td>\n",
              "      <td>0.37</td>\n",
              "      <td>0.11</td>\n",
              "      <td>0.15</td>\n",
              "    </tr>\n",
              "    <tr>\n",
              "      <th>1</th>\n",
              "      <td>26820-D.pin on Arm</td>\n",
              "      <td>Dim B</td>\n",
              "      <td>0.51</td>\n",
              "      <td>0.25</td>\n",
              "      <td>0.46</td>\n",
              "      <td>0.22</td>\n",
              "    </tr>\n",
              "    <tr>\n",
              "      <th>2</th>\n",
              "      <td>26802- gluing coil</td>\n",
              "      <td>Dim C1</td>\n",
              "      <td>0.31</td>\n",
              "      <td>0.34</td>\n",
              "      <td>0.29</td>\n",
              "      <td>0.32</td>\n",
              "    </tr>\n",
              "    <tr>\n",
              "      <th>3</th>\n",
              "      <td>26983-Welding spout dual</td>\n",
              "      <td>Dim K</td>\n",
              "      <td>0.97</td>\n",
              "      <td>0.58</td>\n",
              "      <td>0.59</td>\n",
              "      <td>0.35</td>\n",
              "    </tr>\n",
              "    <tr>\n",
              "      <th>4</th>\n",
              "      <td>26720-bending Armature</td>\n",
              "      <td>Dim A</td>\n",
              "      <td>0.90</td>\n",
              "      <td>0.68</td>\n",
              "      <td>0.48</td>\n",
              "      <td>0.36</td>\n",
              "    </tr>\n",
              "    <tr>\n",
              "      <th>5</th>\n",
              "      <td>26802- gluing coil</td>\n",
              "      <td>Dim B</td>\n",
              "      <td>0.64</td>\n",
              "      <td>0.56</td>\n",
              "      <td>0.41</td>\n",
              "      <td>0.36</td>\n",
              "    </tr>\n",
              "    <tr>\n",
              "      <th>6</th>\n",
              "      <td>26983-Welding spout dual</td>\n",
              "      <td>Dim H</td>\n",
              "      <td>1.03</td>\n",
              "      <td>0.54</td>\n",
              "      <td>0.71</td>\n",
              "      <td>0.37</td>\n",
              "    </tr>\n",
              "    <tr>\n",
              "      <th>7</th>\n",
              "      <td>26725-Adjust Armature</td>\n",
              "      <td>Dim A</td>\n",
              "      <td>1.01</td>\n",
              "      <td>0.93</td>\n",
              "      <td>0.44</td>\n",
              "      <td>0.40</td>\n",
              "    </tr>\n",
              "    <tr>\n",
              "      <th>8</th>\n",
              "      <td>26802- gluing coil</td>\n",
              "      <td>Test lực/\\n Shear force</td>\n",
              "      <td>NaN</td>\n",
              "      <td>NaN</td>\n",
              "      <td>0.54</td>\n",
              "      <td>0.40</td>\n",
              "    </tr>\n",
              "    <tr>\n",
              "      <th>9</th>\n",
              "      <td>26802- gluing coil</td>\n",
              "      <td>Dim C2</td>\n",
              "      <td>0.61</td>\n",
              "      <td>0.58</td>\n",
              "      <td>0.46</td>\n",
              "      <td>0.44</td>\n",
              "    </tr>\n",
              "    <tr>\n",
              "      <th>10</th>\n",
              "      <td>26930-Cover on case</td>\n",
              "      <td>Dim A</td>\n",
              "      <td>0.82</td>\n",
              "      <td>0.65</td>\n",
              "      <td>0.57</td>\n",
              "      <td>0.45</td>\n",
              "    </tr>\n",
              "    <tr>\n",
              "      <th>11</th>\n",
              "      <td>26825-Cut MS legs</td>\n",
              "      <td>Dim A (left)</td>\n",
              "      <td>0.82</td>\n",
              "      <td>0.61</td>\n",
              "      <td>0.62</td>\n",
              "      <td>0.46</td>\n",
              "    </tr>\n",
              "    <tr>\n",
              "      <th>12</th>\n",
              "      <td>26830- Welding ground wire</td>\n",
              "      <td>Dim B</td>\n",
              "      <td>5.16</td>\n",
              "      <td>2.51</td>\n",
              "      <td>0.94</td>\n",
              "      <td>0.46</td>\n",
              "    </tr>\n",
              "    <tr>\n",
              "      <th>13</th>\n",
              "      <td>26725-Adjust Armature</td>\n",
              "      <td>Dim B</td>\n",
              "      <td>0.63</td>\n",
              "      <td>0.54</td>\n",
              "      <td>0.56</td>\n",
              "      <td>0.49</td>\n",
              "    </tr>\n",
              "    <tr>\n",
              "      <th>14</th>\n",
              "      <td>26983-Welding spout dual</td>\n",
              "      <td>Test lực\\nShear force</td>\n",
              "      <td>NaN</td>\n",
              "      <td>NaN</td>\n",
              "      <td>0.63</td>\n",
              "      <td>0.53</td>\n",
              "    </tr>\n",
              "    <tr>\n",
              "      <th>15</th>\n",
              "      <td>26822-Welding magnet in MS</td>\n",
              "      <td>Dim J</td>\n",
              "      <td>1.15</td>\n",
              "      <td>0.82</td>\n",
              "      <td>0.78</td>\n",
              "      <td>0.56</td>\n",
              "    </tr>\n",
              "    <tr>\n",
              "      <th>16</th>\n",
              "      <td>26825-Cut MS legs</td>\n",
              "      <td>Dim A (right)</td>\n",
              "      <td>0.95</td>\n",
              "      <td>0.69</td>\n",
              "      <td>0.78</td>\n",
              "      <td>0.57</td>\n",
              "    </tr>\n",
              "    <tr>\n",
              "      <th>17</th>\n",
              "      <td>26824-Weld MS in strip</td>\n",
              "      <td>Dim E</td>\n",
              "      <td>1.36</td>\n",
              "      <td>1.08</td>\n",
              "      <td>0.78</td>\n",
              "      <td>0.61</td>\n",
              "    </tr>\n",
              "    <tr>\n",
              "      <th>18</th>\n",
              "      <td>26822-Welding magnet in MS</td>\n",
              "      <td>Dim B</td>\n",
              "      <td>NaN</td>\n",
              "      <td>NaN</td>\n",
              "      <td>1.43</td>\n",
              "      <td>0.61</td>\n",
              "    </tr>\n",
              "    <tr>\n",
              "      <th>19</th>\n",
              "      <td>26940-Welding spout MP</td>\n",
              "      <td>Test lực\\nShear force</td>\n",
              "      <td>NaN</td>\n",
              "      <td>NaN</td>\n",
              "      <td>1.44</td>\n",
              "      <td>0.63</td>\n",
              "    </tr>\n",
              "    <tr>\n",
              "      <th>20</th>\n",
              "      <td>26720-bending Armature</td>\n",
              "      <td>Dim D</td>\n",
              "      <td>0.77</td>\n",
              "      <td>0.67</td>\n",
              "      <td>0.73</td>\n",
              "      <td>0.63</td>\n",
              "    </tr>\n",
              "    <tr>\n",
              "      <th>21</th>\n",
              "      <td>26720-bending Armature</td>\n",
              "      <td>Dim B</td>\n",
              "      <td>0.94</td>\n",
              "      <td>0.82</td>\n",
              "      <td>0.73</td>\n",
              "      <td>0.64</td>\n",
              "    </tr>\n",
              "    <tr>\n",
              "      <th>22</th>\n",
              "      <td>26824-Weld MS in strip</td>\n",
              "      <td>Dim F</td>\n",
              "      <td>NaN</td>\n",
              "      <td>NaN</td>\n",
              "      <td>0.64</td>\n",
              "      <td>0.68</td>\n",
              "    </tr>\n",
              "    <tr>\n",
              "      <th>23</th>\n",
              "      <td>26930-Cover on case</td>\n",
              "      <td>Dim B</td>\n",
              "      <td>0.86</td>\n",
              "      <td>0.76</td>\n",
              "      <td>0.80</td>\n",
              "      <td>0.70</td>\n",
              "    </tr>\n",
              "    <tr>\n",
              "      <th>24</th>\n",
              "      <td>26941-Welding alignment X,Y or</td>\n",
              "      <td>Dim B</td>\n",
              "      <td>NaN</td>\n",
              "      <td>NaN</td>\n",
              "      <td>1.36</td>\n",
              "      <td>0.75</td>\n",
              "    </tr>\n",
              "    <tr>\n",
              "      <th>25</th>\n",
              "      <td>26824-Weld MS in strip</td>\n",
              "      <td>Dim G</td>\n",
              "      <td>NaN</td>\n",
              "      <td>NaN</td>\n",
              "      <td>0.81</td>\n",
              "      <td>0.81</td>\n",
              "    </tr>\n",
              "    <tr>\n",
              "      <th>26</th>\n",
              "      <td>26940-Welding spout MP</td>\n",
              "      <td>Dim B</td>\n",
              "      <td>1.71</td>\n",
              "      <td>1.02</td>\n",
              "      <td>1.37</td>\n",
              "      <td>0.82</td>\n",
              "    </tr>\n",
              "    <tr>\n",
              "      <th>27</th>\n",
              "      <td>26824-Weld MS in strip</td>\n",
              "      <td>Test lực\\nShear force</td>\n",
              "      <td>NaN</td>\n",
              "      <td>NaN</td>\n",
              "      <td>0.95</td>\n",
              "      <td>0.83</td>\n",
              "    </tr>\n",
              "    <tr>\n",
              "      <th>28</th>\n",
              "      <td>26940-Welding spout MP</td>\n",
              "      <td>Dim A</td>\n",
              "      <td>1.54</td>\n",
              "      <td>0.99</td>\n",
              "      <td>1.31</td>\n",
              "      <td>0.84</td>\n",
              "    </tr>\n",
              "    <tr>\n",
              "      <th>29</th>\n",
              "      <td>26822-Welding magnet in MS</td>\n",
              "      <td>Dim I</td>\n",
              "      <td>1.33</td>\n",
              "      <td>1.00</td>\n",
              "      <td>1.14</td>\n",
              "      <td>0.85</td>\n",
              "    </tr>\n",
              "    <tr>\n",
              "      <th>30</th>\n",
              "      <td>26822-Welding magnet in MS</td>\n",
              "      <td>Dim D</td>\n",
              "      <td>2.06</td>\n",
              "      <td>1.16</td>\n",
              "      <td>1.54</td>\n",
              "      <td>0.87</td>\n",
              "    </tr>\n",
              "    <tr>\n",
              "      <th>31</th>\n",
              "      <td>26720-bending Armature</td>\n",
              "      <td>Dim C</td>\n",
              "      <td>1.08</td>\n",
              "      <td>0.99</td>\n",
              "      <td>1.02</td>\n",
              "      <td>0.94</td>\n",
              "    </tr>\n",
              "    <tr>\n",
              "      <th>32</th>\n",
              "      <td>26802- gluing coil</td>\n",
              "      <td>Dim A</td>\n",
              "      <td>1.76</td>\n",
              "      <td>1.11</td>\n",
              "      <td>1.62</td>\n",
              "      <td>1.02</td>\n",
              "    </tr>\n",
              "    <tr>\n",
              "      <th>33</th>\n",
              "      <td>26941-Welding alignment X,Y or</td>\n",
              "      <td>Dim C</td>\n",
              "      <td>NaN</td>\n",
              "      <td>NaN</td>\n",
              "      <td>2.94</td>\n",
              "      <td>1.50</td>\n",
              "    </tr>\n",
              "    <tr>\n",
              "      <th>34</th>\n",
              "      <td>26824-Weld MS in strip</td>\n",
              "      <td>Dim C</td>\n",
              "      <td>2.50</td>\n",
              "      <td>2.36</td>\n",
              "      <td>1.77</td>\n",
              "      <td>1.67</td>\n",
              "    </tr>\n",
              "  </tbody>\n",
              "</table>\n",
              "</div>"
            ],
            "text/plain": [
              "                       Process_name                 Dim_name  ...   Cpk   Ppk\n",
              "0       26725- Arm. after annealing                    Dim B  ...  0.11  0.15\n",
              "1                26820-D.pin on Arm                    Dim B  ...  0.46  0.22\n",
              "2                26802- gluing coil                   Dim C1  ...  0.29  0.32\n",
              "3          26983-Welding spout dual                    Dim K  ...  0.59  0.35\n",
              "4            26720-bending Armature                    Dim A  ...  0.48  0.36\n",
              "5                26802- gluing coil                    Dim B  ...  0.41  0.36\n",
              "6          26983-Welding spout dual                    Dim H  ...  0.71  0.37\n",
              "7             26725-Adjust Armature                    Dim A  ...  0.44  0.40\n",
              "8                26802- gluing coil  Test lực/\\n Shear force  ...  0.54  0.40\n",
              "9                26802- gluing coil                   Dim C2  ...  0.46  0.44\n",
              "10              26930-Cover on case                    Dim A  ...  0.57  0.45\n",
              "11                26825-Cut MS legs             Dim A (left)  ...  0.62  0.46\n",
              "12      26830- Welding ground wire                     Dim B  ...  0.94  0.46\n",
              "13            26725-Adjust Armature                    Dim B  ...  0.56  0.49\n",
              "14         26983-Welding spout dual    Test lực\\nShear force  ...  0.63  0.53\n",
              "15       26822-Welding magnet in MS                    Dim J  ...  0.78  0.56\n",
              "16                26825-Cut MS legs            Dim A (right)  ...  0.78  0.57\n",
              "17           26824-Weld MS in strip                    Dim E  ...  0.78  0.61\n",
              "18       26822-Welding magnet in MS                    Dim B  ...  1.43  0.61\n",
              "19           26940-Welding spout MP    Test lực\\nShear force  ...  1.44  0.63\n",
              "20           26720-bending Armature                   Dim D   ...  0.73  0.63\n",
              "21           26720-bending Armature                    Dim B  ...  0.73  0.64\n",
              "22           26824-Weld MS in strip                    Dim F  ...  0.64  0.68\n",
              "23              26930-Cover on case                    Dim B  ...  0.80  0.70\n",
              "24  26941-Welding alignment X,Y or                     Dim B  ...  1.36  0.75\n",
              "25           26824-Weld MS in strip                    Dim G  ...  0.81  0.81\n",
              "26           26940-Welding spout MP                    Dim B  ...  1.37  0.82\n",
              "27           26824-Weld MS in strip    Test lực\\nShear force  ...  0.95  0.83\n",
              "28           26940-Welding spout MP                    Dim A  ...  1.31  0.84\n",
              "29       26822-Welding magnet in MS                    Dim I  ...  1.14  0.85\n",
              "30       26822-Welding magnet in MS                    Dim D  ...  1.54  0.87\n",
              "31           26720-bending Armature                    Dim C  ...  1.02  0.94\n",
              "32               26802- gluing coil                    Dim A  ...  1.62  1.02\n",
              "33  26941-Welding alignment X,Y or                     Dim C  ...  2.94  1.50\n",
              "34           26824-Weld MS in strip                    Dim C  ...  1.77  1.67\n",
              "\n",
              "[35 rows x 6 columns]"
            ]
          },
          "metadata": {
            "tags": []
          },
          "execution_count": 166
        }
      ]
    },
    {
      "cell_type": "code",
      "metadata": {
        "id": "yJ17rSItZ-70",
        "colab_type": "code",
        "colab": {
          "base_uri": "https://localhost:8080/",
          "height": 136
        },
        "outputId": "e2e3b0aa-b2a9-43f5-8e8c-5883ba1417b0"
      },
      "source": [
        "process_indicator_df.dtypes"
      ],
      "execution_count": 167,
      "outputs": [
        {
          "output_type": "execute_result",
          "data": {
            "text/plain": [
              "Process_name     object\n",
              "Dim_name         object\n",
              "Cp              float64\n",
              "Pp              float64\n",
              "Cpk             float64\n",
              "Ppk             float64\n",
              "dtype: object"
            ]
          },
          "metadata": {
            "tags": []
          },
          "execution_count": 167
        }
      ]
    },
    {
      "cell_type": "code",
      "metadata": {
        "id": "jGzo-B5zsRCM",
        "colab_type": "code",
        "colab": {
          "base_uri": "https://localhost:8080/",
          "height": 775
        },
        "outputId": "522b37c7-b17d-4f7e-8611-1488a4f67bfd"
      },
      "source": [
        "def hightlight_price(row):\n",
        "    ret = [\"\" for _ in row.index]\n",
        "    if row.Cpk < limit or row.Ppk < limit:\n",
        "      ret[row.index.get_loc(\"Process_name\")] = \"background-color: yellow\"\n",
        "      ret[row.index.get_loc(\"Dim_name\")] = \"background-color: yellow\"\n",
        "    if row.Cpk < limit:    \n",
        "      ret[row.index.get_loc(\"Cpk\")] = \"background-color: yellow\"\n",
        "    if row.Ppk < limit:  \n",
        "      ret[row.index.get_loc(\"Ppk\")] = \"background-color: yellow\"\n",
        "    return ret\n",
        "\n",
        "limit = 1.33  # sigma: 4, Yield: 99.99%   \n",
        "process_indicator_df.style.apply(hightlight_price, axis=1)"
      ],
      "execution_count": 168,
      "outputs": [
        {
          "output_type": "execute_result",
          "data": {
            "text/html": [
              "<style  type=\"text/css\" >\n",
              "    #T_1578fc9e_f9a0_11ea_b10a_0242ac1c0002row0_col0 {\n",
              "            background-color:  yellow;\n",
              "        }    #T_1578fc9e_f9a0_11ea_b10a_0242ac1c0002row0_col1 {\n",
              "            background-color:  yellow;\n",
              "        }    #T_1578fc9e_f9a0_11ea_b10a_0242ac1c0002row0_col4 {\n",
              "            background-color:  yellow;\n",
              "        }    #T_1578fc9e_f9a0_11ea_b10a_0242ac1c0002row0_col5 {\n",
              "            background-color:  yellow;\n",
              "        }    #T_1578fc9e_f9a0_11ea_b10a_0242ac1c0002row1_col0 {\n",
              "            background-color:  yellow;\n",
              "        }    #T_1578fc9e_f9a0_11ea_b10a_0242ac1c0002row1_col1 {\n",
              "            background-color:  yellow;\n",
              "        }    #T_1578fc9e_f9a0_11ea_b10a_0242ac1c0002row1_col4 {\n",
              "            background-color:  yellow;\n",
              "        }    #T_1578fc9e_f9a0_11ea_b10a_0242ac1c0002row1_col5 {\n",
              "            background-color:  yellow;\n",
              "        }    #T_1578fc9e_f9a0_11ea_b10a_0242ac1c0002row2_col0 {\n",
              "            background-color:  yellow;\n",
              "        }    #T_1578fc9e_f9a0_11ea_b10a_0242ac1c0002row2_col1 {\n",
              "            background-color:  yellow;\n",
              "        }    #T_1578fc9e_f9a0_11ea_b10a_0242ac1c0002row2_col4 {\n",
              "            background-color:  yellow;\n",
              "        }    #T_1578fc9e_f9a0_11ea_b10a_0242ac1c0002row2_col5 {\n",
              "            background-color:  yellow;\n",
              "        }    #T_1578fc9e_f9a0_11ea_b10a_0242ac1c0002row3_col0 {\n",
              "            background-color:  yellow;\n",
              "        }    #T_1578fc9e_f9a0_11ea_b10a_0242ac1c0002row3_col1 {\n",
              "            background-color:  yellow;\n",
              "        }    #T_1578fc9e_f9a0_11ea_b10a_0242ac1c0002row3_col4 {\n",
              "            background-color:  yellow;\n",
              "        }    #T_1578fc9e_f9a0_11ea_b10a_0242ac1c0002row3_col5 {\n",
              "            background-color:  yellow;\n",
              "        }    #T_1578fc9e_f9a0_11ea_b10a_0242ac1c0002row4_col0 {\n",
              "            background-color:  yellow;\n",
              "        }    #T_1578fc9e_f9a0_11ea_b10a_0242ac1c0002row4_col1 {\n",
              "            background-color:  yellow;\n",
              "        }    #T_1578fc9e_f9a0_11ea_b10a_0242ac1c0002row4_col4 {\n",
              "            background-color:  yellow;\n",
              "        }    #T_1578fc9e_f9a0_11ea_b10a_0242ac1c0002row4_col5 {\n",
              "            background-color:  yellow;\n",
              "        }    #T_1578fc9e_f9a0_11ea_b10a_0242ac1c0002row5_col0 {\n",
              "            background-color:  yellow;\n",
              "        }    #T_1578fc9e_f9a0_11ea_b10a_0242ac1c0002row5_col1 {\n",
              "            background-color:  yellow;\n",
              "        }    #T_1578fc9e_f9a0_11ea_b10a_0242ac1c0002row5_col4 {\n",
              "            background-color:  yellow;\n",
              "        }    #T_1578fc9e_f9a0_11ea_b10a_0242ac1c0002row5_col5 {\n",
              "            background-color:  yellow;\n",
              "        }    #T_1578fc9e_f9a0_11ea_b10a_0242ac1c0002row6_col0 {\n",
              "            background-color:  yellow;\n",
              "        }    #T_1578fc9e_f9a0_11ea_b10a_0242ac1c0002row6_col1 {\n",
              "            background-color:  yellow;\n",
              "        }    #T_1578fc9e_f9a0_11ea_b10a_0242ac1c0002row6_col4 {\n",
              "            background-color:  yellow;\n",
              "        }    #T_1578fc9e_f9a0_11ea_b10a_0242ac1c0002row6_col5 {\n",
              "            background-color:  yellow;\n",
              "        }    #T_1578fc9e_f9a0_11ea_b10a_0242ac1c0002row7_col0 {\n",
              "            background-color:  yellow;\n",
              "        }    #T_1578fc9e_f9a0_11ea_b10a_0242ac1c0002row7_col1 {\n",
              "            background-color:  yellow;\n",
              "        }    #T_1578fc9e_f9a0_11ea_b10a_0242ac1c0002row7_col4 {\n",
              "            background-color:  yellow;\n",
              "        }    #T_1578fc9e_f9a0_11ea_b10a_0242ac1c0002row7_col5 {\n",
              "            background-color:  yellow;\n",
              "        }    #T_1578fc9e_f9a0_11ea_b10a_0242ac1c0002row8_col0 {\n",
              "            background-color:  yellow;\n",
              "        }    #T_1578fc9e_f9a0_11ea_b10a_0242ac1c0002row8_col1 {\n",
              "            background-color:  yellow;\n",
              "        }    #T_1578fc9e_f9a0_11ea_b10a_0242ac1c0002row8_col4 {\n",
              "            background-color:  yellow;\n",
              "        }    #T_1578fc9e_f9a0_11ea_b10a_0242ac1c0002row8_col5 {\n",
              "            background-color:  yellow;\n",
              "        }    #T_1578fc9e_f9a0_11ea_b10a_0242ac1c0002row9_col0 {\n",
              "            background-color:  yellow;\n",
              "        }    #T_1578fc9e_f9a0_11ea_b10a_0242ac1c0002row9_col1 {\n",
              "            background-color:  yellow;\n",
              "        }    #T_1578fc9e_f9a0_11ea_b10a_0242ac1c0002row9_col4 {\n",
              "            background-color:  yellow;\n",
              "        }    #T_1578fc9e_f9a0_11ea_b10a_0242ac1c0002row9_col5 {\n",
              "            background-color:  yellow;\n",
              "        }    #T_1578fc9e_f9a0_11ea_b10a_0242ac1c0002row10_col0 {\n",
              "            background-color:  yellow;\n",
              "        }    #T_1578fc9e_f9a0_11ea_b10a_0242ac1c0002row10_col1 {\n",
              "            background-color:  yellow;\n",
              "        }    #T_1578fc9e_f9a0_11ea_b10a_0242ac1c0002row10_col4 {\n",
              "            background-color:  yellow;\n",
              "        }    #T_1578fc9e_f9a0_11ea_b10a_0242ac1c0002row10_col5 {\n",
              "            background-color:  yellow;\n",
              "        }    #T_1578fc9e_f9a0_11ea_b10a_0242ac1c0002row11_col0 {\n",
              "            background-color:  yellow;\n",
              "        }    #T_1578fc9e_f9a0_11ea_b10a_0242ac1c0002row11_col1 {\n",
              "            background-color:  yellow;\n",
              "        }    #T_1578fc9e_f9a0_11ea_b10a_0242ac1c0002row11_col4 {\n",
              "            background-color:  yellow;\n",
              "        }    #T_1578fc9e_f9a0_11ea_b10a_0242ac1c0002row11_col5 {\n",
              "            background-color:  yellow;\n",
              "        }    #T_1578fc9e_f9a0_11ea_b10a_0242ac1c0002row12_col0 {\n",
              "            background-color:  yellow;\n",
              "        }    #T_1578fc9e_f9a0_11ea_b10a_0242ac1c0002row12_col1 {\n",
              "            background-color:  yellow;\n",
              "        }    #T_1578fc9e_f9a0_11ea_b10a_0242ac1c0002row12_col4 {\n",
              "            background-color:  yellow;\n",
              "        }    #T_1578fc9e_f9a0_11ea_b10a_0242ac1c0002row12_col5 {\n",
              "            background-color:  yellow;\n",
              "        }    #T_1578fc9e_f9a0_11ea_b10a_0242ac1c0002row13_col0 {\n",
              "            background-color:  yellow;\n",
              "        }    #T_1578fc9e_f9a0_11ea_b10a_0242ac1c0002row13_col1 {\n",
              "            background-color:  yellow;\n",
              "        }    #T_1578fc9e_f9a0_11ea_b10a_0242ac1c0002row13_col4 {\n",
              "            background-color:  yellow;\n",
              "        }    #T_1578fc9e_f9a0_11ea_b10a_0242ac1c0002row13_col5 {\n",
              "            background-color:  yellow;\n",
              "        }    #T_1578fc9e_f9a0_11ea_b10a_0242ac1c0002row14_col0 {\n",
              "            background-color:  yellow;\n",
              "        }    #T_1578fc9e_f9a0_11ea_b10a_0242ac1c0002row14_col1 {\n",
              "            background-color:  yellow;\n",
              "        }    #T_1578fc9e_f9a0_11ea_b10a_0242ac1c0002row14_col4 {\n",
              "            background-color:  yellow;\n",
              "        }    #T_1578fc9e_f9a0_11ea_b10a_0242ac1c0002row14_col5 {\n",
              "            background-color:  yellow;\n",
              "        }    #T_1578fc9e_f9a0_11ea_b10a_0242ac1c0002row15_col0 {\n",
              "            background-color:  yellow;\n",
              "        }    #T_1578fc9e_f9a0_11ea_b10a_0242ac1c0002row15_col1 {\n",
              "            background-color:  yellow;\n",
              "        }    #T_1578fc9e_f9a0_11ea_b10a_0242ac1c0002row15_col4 {\n",
              "            background-color:  yellow;\n",
              "        }    #T_1578fc9e_f9a0_11ea_b10a_0242ac1c0002row15_col5 {\n",
              "            background-color:  yellow;\n",
              "        }    #T_1578fc9e_f9a0_11ea_b10a_0242ac1c0002row16_col0 {\n",
              "            background-color:  yellow;\n",
              "        }    #T_1578fc9e_f9a0_11ea_b10a_0242ac1c0002row16_col1 {\n",
              "            background-color:  yellow;\n",
              "        }    #T_1578fc9e_f9a0_11ea_b10a_0242ac1c0002row16_col4 {\n",
              "            background-color:  yellow;\n",
              "        }    #T_1578fc9e_f9a0_11ea_b10a_0242ac1c0002row16_col5 {\n",
              "            background-color:  yellow;\n",
              "        }    #T_1578fc9e_f9a0_11ea_b10a_0242ac1c0002row17_col0 {\n",
              "            background-color:  yellow;\n",
              "        }    #T_1578fc9e_f9a0_11ea_b10a_0242ac1c0002row17_col1 {\n",
              "            background-color:  yellow;\n",
              "        }    #T_1578fc9e_f9a0_11ea_b10a_0242ac1c0002row17_col4 {\n",
              "            background-color:  yellow;\n",
              "        }    #T_1578fc9e_f9a0_11ea_b10a_0242ac1c0002row17_col5 {\n",
              "            background-color:  yellow;\n",
              "        }    #T_1578fc9e_f9a0_11ea_b10a_0242ac1c0002row18_col0 {\n",
              "            background-color:  yellow;\n",
              "        }    #T_1578fc9e_f9a0_11ea_b10a_0242ac1c0002row18_col1 {\n",
              "            background-color:  yellow;\n",
              "        }    #T_1578fc9e_f9a0_11ea_b10a_0242ac1c0002row18_col5 {\n",
              "            background-color:  yellow;\n",
              "        }    #T_1578fc9e_f9a0_11ea_b10a_0242ac1c0002row19_col0 {\n",
              "            background-color:  yellow;\n",
              "        }    #T_1578fc9e_f9a0_11ea_b10a_0242ac1c0002row19_col1 {\n",
              "            background-color:  yellow;\n",
              "        }    #T_1578fc9e_f9a0_11ea_b10a_0242ac1c0002row19_col5 {\n",
              "            background-color:  yellow;\n",
              "        }    #T_1578fc9e_f9a0_11ea_b10a_0242ac1c0002row20_col0 {\n",
              "            background-color:  yellow;\n",
              "        }    #T_1578fc9e_f9a0_11ea_b10a_0242ac1c0002row20_col1 {\n",
              "            background-color:  yellow;\n",
              "        }    #T_1578fc9e_f9a0_11ea_b10a_0242ac1c0002row20_col4 {\n",
              "            background-color:  yellow;\n",
              "        }    #T_1578fc9e_f9a0_11ea_b10a_0242ac1c0002row20_col5 {\n",
              "            background-color:  yellow;\n",
              "        }    #T_1578fc9e_f9a0_11ea_b10a_0242ac1c0002row21_col0 {\n",
              "            background-color:  yellow;\n",
              "        }    #T_1578fc9e_f9a0_11ea_b10a_0242ac1c0002row21_col1 {\n",
              "            background-color:  yellow;\n",
              "        }    #T_1578fc9e_f9a0_11ea_b10a_0242ac1c0002row21_col4 {\n",
              "            background-color:  yellow;\n",
              "        }    #T_1578fc9e_f9a0_11ea_b10a_0242ac1c0002row21_col5 {\n",
              "            background-color:  yellow;\n",
              "        }    #T_1578fc9e_f9a0_11ea_b10a_0242ac1c0002row22_col0 {\n",
              "            background-color:  yellow;\n",
              "        }    #T_1578fc9e_f9a0_11ea_b10a_0242ac1c0002row22_col1 {\n",
              "            background-color:  yellow;\n",
              "        }    #T_1578fc9e_f9a0_11ea_b10a_0242ac1c0002row22_col4 {\n",
              "            background-color:  yellow;\n",
              "        }    #T_1578fc9e_f9a0_11ea_b10a_0242ac1c0002row22_col5 {\n",
              "            background-color:  yellow;\n",
              "        }    #T_1578fc9e_f9a0_11ea_b10a_0242ac1c0002row23_col0 {\n",
              "            background-color:  yellow;\n",
              "        }    #T_1578fc9e_f9a0_11ea_b10a_0242ac1c0002row23_col1 {\n",
              "            background-color:  yellow;\n",
              "        }    #T_1578fc9e_f9a0_11ea_b10a_0242ac1c0002row23_col4 {\n",
              "            background-color:  yellow;\n",
              "        }    #T_1578fc9e_f9a0_11ea_b10a_0242ac1c0002row23_col5 {\n",
              "            background-color:  yellow;\n",
              "        }    #T_1578fc9e_f9a0_11ea_b10a_0242ac1c0002row24_col0 {\n",
              "            background-color:  yellow;\n",
              "        }    #T_1578fc9e_f9a0_11ea_b10a_0242ac1c0002row24_col1 {\n",
              "            background-color:  yellow;\n",
              "        }    #T_1578fc9e_f9a0_11ea_b10a_0242ac1c0002row24_col5 {\n",
              "            background-color:  yellow;\n",
              "        }    #T_1578fc9e_f9a0_11ea_b10a_0242ac1c0002row25_col0 {\n",
              "            background-color:  yellow;\n",
              "        }    #T_1578fc9e_f9a0_11ea_b10a_0242ac1c0002row25_col1 {\n",
              "            background-color:  yellow;\n",
              "        }    #T_1578fc9e_f9a0_11ea_b10a_0242ac1c0002row25_col4 {\n",
              "            background-color:  yellow;\n",
              "        }    #T_1578fc9e_f9a0_11ea_b10a_0242ac1c0002row25_col5 {\n",
              "            background-color:  yellow;\n",
              "        }    #T_1578fc9e_f9a0_11ea_b10a_0242ac1c0002row26_col0 {\n",
              "            background-color:  yellow;\n",
              "        }    #T_1578fc9e_f9a0_11ea_b10a_0242ac1c0002row26_col1 {\n",
              "            background-color:  yellow;\n",
              "        }    #T_1578fc9e_f9a0_11ea_b10a_0242ac1c0002row26_col5 {\n",
              "            background-color:  yellow;\n",
              "        }    #T_1578fc9e_f9a0_11ea_b10a_0242ac1c0002row27_col0 {\n",
              "            background-color:  yellow;\n",
              "        }    #T_1578fc9e_f9a0_11ea_b10a_0242ac1c0002row27_col1 {\n",
              "            background-color:  yellow;\n",
              "        }    #T_1578fc9e_f9a0_11ea_b10a_0242ac1c0002row27_col4 {\n",
              "            background-color:  yellow;\n",
              "        }    #T_1578fc9e_f9a0_11ea_b10a_0242ac1c0002row27_col5 {\n",
              "            background-color:  yellow;\n",
              "        }    #T_1578fc9e_f9a0_11ea_b10a_0242ac1c0002row28_col0 {\n",
              "            background-color:  yellow;\n",
              "        }    #T_1578fc9e_f9a0_11ea_b10a_0242ac1c0002row28_col1 {\n",
              "            background-color:  yellow;\n",
              "        }    #T_1578fc9e_f9a0_11ea_b10a_0242ac1c0002row28_col4 {\n",
              "            background-color:  yellow;\n",
              "        }    #T_1578fc9e_f9a0_11ea_b10a_0242ac1c0002row28_col5 {\n",
              "            background-color:  yellow;\n",
              "        }    #T_1578fc9e_f9a0_11ea_b10a_0242ac1c0002row29_col0 {\n",
              "            background-color:  yellow;\n",
              "        }    #T_1578fc9e_f9a0_11ea_b10a_0242ac1c0002row29_col1 {\n",
              "            background-color:  yellow;\n",
              "        }    #T_1578fc9e_f9a0_11ea_b10a_0242ac1c0002row29_col4 {\n",
              "            background-color:  yellow;\n",
              "        }    #T_1578fc9e_f9a0_11ea_b10a_0242ac1c0002row29_col5 {\n",
              "            background-color:  yellow;\n",
              "        }    #T_1578fc9e_f9a0_11ea_b10a_0242ac1c0002row30_col0 {\n",
              "            background-color:  yellow;\n",
              "        }    #T_1578fc9e_f9a0_11ea_b10a_0242ac1c0002row30_col1 {\n",
              "            background-color:  yellow;\n",
              "        }    #T_1578fc9e_f9a0_11ea_b10a_0242ac1c0002row30_col5 {\n",
              "            background-color:  yellow;\n",
              "        }    #T_1578fc9e_f9a0_11ea_b10a_0242ac1c0002row31_col0 {\n",
              "            background-color:  yellow;\n",
              "        }    #T_1578fc9e_f9a0_11ea_b10a_0242ac1c0002row31_col1 {\n",
              "            background-color:  yellow;\n",
              "        }    #T_1578fc9e_f9a0_11ea_b10a_0242ac1c0002row31_col4 {\n",
              "            background-color:  yellow;\n",
              "        }    #T_1578fc9e_f9a0_11ea_b10a_0242ac1c0002row31_col5 {\n",
              "            background-color:  yellow;\n",
              "        }    #T_1578fc9e_f9a0_11ea_b10a_0242ac1c0002row32_col0 {\n",
              "            background-color:  yellow;\n",
              "        }    #T_1578fc9e_f9a0_11ea_b10a_0242ac1c0002row32_col1 {\n",
              "            background-color:  yellow;\n",
              "        }    #T_1578fc9e_f9a0_11ea_b10a_0242ac1c0002row32_col5 {\n",
              "            background-color:  yellow;\n",
              "        }</style><table id=\"T_1578fc9e_f9a0_11ea_b10a_0242ac1c0002\" ><thead>    <tr>        <th class=\"blank level0\" ></th>        <th class=\"col_heading level0 col0\" >Process_name</th>        <th class=\"col_heading level0 col1\" >Dim_name</th>        <th class=\"col_heading level0 col2\" >Cp</th>        <th class=\"col_heading level0 col3\" >Pp</th>        <th class=\"col_heading level0 col4\" >Cpk</th>        <th class=\"col_heading level0 col5\" >Ppk</th>    </tr></thead><tbody>\n",
              "                <tr>\n",
              "                        <th id=\"T_1578fc9e_f9a0_11ea_b10a_0242ac1c0002level0_row0\" class=\"row_heading level0 row0\" >0</th>\n",
              "                        <td id=\"T_1578fc9e_f9a0_11ea_b10a_0242ac1c0002row0_col0\" class=\"data row0 col0\" >26725- Arm. after annealing</td>\n",
              "                        <td id=\"T_1578fc9e_f9a0_11ea_b10a_0242ac1c0002row0_col1\" class=\"data row0 col1\" >Dim B</td>\n",
              "                        <td id=\"T_1578fc9e_f9a0_11ea_b10a_0242ac1c0002row0_col2\" class=\"data row0 col2\" >0.270000</td>\n",
              "                        <td id=\"T_1578fc9e_f9a0_11ea_b10a_0242ac1c0002row0_col3\" class=\"data row0 col3\" >0.370000</td>\n",
              "                        <td id=\"T_1578fc9e_f9a0_11ea_b10a_0242ac1c0002row0_col4\" class=\"data row0 col4\" >0.110000</td>\n",
              "                        <td id=\"T_1578fc9e_f9a0_11ea_b10a_0242ac1c0002row0_col5\" class=\"data row0 col5\" >0.150000</td>\n",
              "            </tr>\n",
              "            <tr>\n",
              "                        <th id=\"T_1578fc9e_f9a0_11ea_b10a_0242ac1c0002level0_row1\" class=\"row_heading level0 row1\" >1</th>\n",
              "                        <td id=\"T_1578fc9e_f9a0_11ea_b10a_0242ac1c0002row1_col0\" class=\"data row1 col0\" >26820-D.pin on Arm</td>\n",
              "                        <td id=\"T_1578fc9e_f9a0_11ea_b10a_0242ac1c0002row1_col1\" class=\"data row1 col1\" >Dim B</td>\n",
              "                        <td id=\"T_1578fc9e_f9a0_11ea_b10a_0242ac1c0002row1_col2\" class=\"data row1 col2\" >0.510000</td>\n",
              "                        <td id=\"T_1578fc9e_f9a0_11ea_b10a_0242ac1c0002row1_col3\" class=\"data row1 col3\" >0.250000</td>\n",
              "                        <td id=\"T_1578fc9e_f9a0_11ea_b10a_0242ac1c0002row1_col4\" class=\"data row1 col4\" >0.460000</td>\n",
              "                        <td id=\"T_1578fc9e_f9a0_11ea_b10a_0242ac1c0002row1_col5\" class=\"data row1 col5\" >0.220000</td>\n",
              "            </tr>\n",
              "            <tr>\n",
              "                        <th id=\"T_1578fc9e_f9a0_11ea_b10a_0242ac1c0002level0_row2\" class=\"row_heading level0 row2\" >2</th>\n",
              "                        <td id=\"T_1578fc9e_f9a0_11ea_b10a_0242ac1c0002row2_col0\" class=\"data row2 col0\" >26802- gluing coil</td>\n",
              "                        <td id=\"T_1578fc9e_f9a0_11ea_b10a_0242ac1c0002row2_col1\" class=\"data row2 col1\" >Dim C1</td>\n",
              "                        <td id=\"T_1578fc9e_f9a0_11ea_b10a_0242ac1c0002row2_col2\" class=\"data row2 col2\" >0.310000</td>\n",
              "                        <td id=\"T_1578fc9e_f9a0_11ea_b10a_0242ac1c0002row2_col3\" class=\"data row2 col3\" >0.340000</td>\n",
              "                        <td id=\"T_1578fc9e_f9a0_11ea_b10a_0242ac1c0002row2_col4\" class=\"data row2 col4\" >0.290000</td>\n",
              "                        <td id=\"T_1578fc9e_f9a0_11ea_b10a_0242ac1c0002row2_col5\" class=\"data row2 col5\" >0.320000</td>\n",
              "            </tr>\n",
              "            <tr>\n",
              "                        <th id=\"T_1578fc9e_f9a0_11ea_b10a_0242ac1c0002level0_row3\" class=\"row_heading level0 row3\" >3</th>\n",
              "                        <td id=\"T_1578fc9e_f9a0_11ea_b10a_0242ac1c0002row3_col0\" class=\"data row3 col0\" >26983-Welding spout dual</td>\n",
              "                        <td id=\"T_1578fc9e_f9a0_11ea_b10a_0242ac1c0002row3_col1\" class=\"data row3 col1\" >Dim K</td>\n",
              "                        <td id=\"T_1578fc9e_f9a0_11ea_b10a_0242ac1c0002row3_col2\" class=\"data row3 col2\" >0.970000</td>\n",
              "                        <td id=\"T_1578fc9e_f9a0_11ea_b10a_0242ac1c0002row3_col3\" class=\"data row3 col3\" >0.580000</td>\n",
              "                        <td id=\"T_1578fc9e_f9a0_11ea_b10a_0242ac1c0002row3_col4\" class=\"data row3 col4\" >0.590000</td>\n",
              "                        <td id=\"T_1578fc9e_f9a0_11ea_b10a_0242ac1c0002row3_col5\" class=\"data row3 col5\" >0.350000</td>\n",
              "            </tr>\n",
              "            <tr>\n",
              "                        <th id=\"T_1578fc9e_f9a0_11ea_b10a_0242ac1c0002level0_row4\" class=\"row_heading level0 row4\" >4</th>\n",
              "                        <td id=\"T_1578fc9e_f9a0_11ea_b10a_0242ac1c0002row4_col0\" class=\"data row4 col0\" >26720-bending Armature</td>\n",
              "                        <td id=\"T_1578fc9e_f9a0_11ea_b10a_0242ac1c0002row4_col1\" class=\"data row4 col1\" >Dim A</td>\n",
              "                        <td id=\"T_1578fc9e_f9a0_11ea_b10a_0242ac1c0002row4_col2\" class=\"data row4 col2\" >0.900000</td>\n",
              "                        <td id=\"T_1578fc9e_f9a0_11ea_b10a_0242ac1c0002row4_col3\" class=\"data row4 col3\" >0.680000</td>\n",
              "                        <td id=\"T_1578fc9e_f9a0_11ea_b10a_0242ac1c0002row4_col4\" class=\"data row4 col4\" >0.480000</td>\n",
              "                        <td id=\"T_1578fc9e_f9a0_11ea_b10a_0242ac1c0002row4_col5\" class=\"data row4 col5\" >0.360000</td>\n",
              "            </tr>\n",
              "            <tr>\n",
              "                        <th id=\"T_1578fc9e_f9a0_11ea_b10a_0242ac1c0002level0_row5\" class=\"row_heading level0 row5\" >5</th>\n",
              "                        <td id=\"T_1578fc9e_f9a0_11ea_b10a_0242ac1c0002row5_col0\" class=\"data row5 col0\" >26802- gluing coil</td>\n",
              "                        <td id=\"T_1578fc9e_f9a0_11ea_b10a_0242ac1c0002row5_col1\" class=\"data row5 col1\" >Dim B</td>\n",
              "                        <td id=\"T_1578fc9e_f9a0_11ea_b10a_0242ac1c0002row5_col2\" class=\"data row5 col2\" >0.640000</td>\n",
              "                        <td id=\"T_1578fc9e_f9a0_11ea_b10a_0242ac1c0002row5_col3\" class=\"data row5 col3\" >0.560000</td>\n",
              "                        <td id=\"T_1578fc9e_f9a0_11ea_b10a_0242ac1c0002row5_col4\" class=\"data row5 col4\" >0.410000</td>\n",
              "                        <td id=\"T_1578fc9e_f9a0_11ea_b10a_0242ac1c0002row5_col5\" class=\"data row5 col5\" >0.360000</td>\n",
              "            </tr>\n",
              "            <tr>\n",
              "                        <th id=\"T_1578fc9e_f9a0_11ea_b10a_0242ac1c0002level0_row6\" class=\"row_heading level0 row6\" >6</th>\n",
              "                        <td id=\"T_1578fc9e_f9a0_11ea_b10a_0242ac1c0002row6_col0\" class=\"data row6 col0\" >26983-Welding spout dual</td>\n",
              "                        <td id=\"T_1578fc9e_f9a0_11ea_b10a_0242ac1c0002row6_col1\" class=\"data row6 col1\" >Dim H</td>\n",
              "                        <td id=\"T_1578fc9e_f9a0_11ea_b10a_0242ac1c0002row6_col2\" class=\"data row6 col2\" >1.030000</td>\n",
              "                        <td id=\"T_1578fc9e_f9a0_11ea_b10a_0242ac1c0002row6_col3\" class=\"data row6 col3\" >0.540000</td>\n",
              "                        <td id=\"T_1578fc9e_f9a0_11ea_b10a_0242ac1c0002row6_col4\" class=\"data row6 col4\" >0.710000</td>\n",
              "                        <td id=\"T_1578fc9e_f9a0_11ea_b10a_0242ac1c0002row6_col5\" class=\"data row6 col5\" >0.370000</td>\n",
              "            </tr>\n",
              "            <tr>\n",
              "                        <th id=\"T_1578fc9e_f9a0_11ea_b10a_0242ac1c0002level0_row7\" class=\"row_heading level0 row7\" >7</th>\n",
              "                        <td id=\"T_1578fc9e_f9a0_11ea_b10a_0242ac1c0002row7_col0\" class=\"data row7 col0\" >26725-Adjust Armature</td>\n",
              "                        <td id=\"T_1578fc9e_f9a0_11ea_b10a_0242ac1c0002row7_col1\" class=\"data row7 col1\" >Dim A</td>\n",
              "                        <td id=\"T_1578fc9e_f9a0_11ea_b10a_0242ac1c0002row7_col2\" class=\"data row7 col2\" >1.010000</td>\n",
              "                        <td id=\"T_1578fc9e_f9a0_11ea_b10a_0242ac1c0002row7_col3\" class=\"data row7 col3\" >0.930000</td>\n",
              "                        <td id=\"T_1578fc9e_f9a0_11ea_b10a_0242ac1c0002row7_col4\" class=\"data row7 col4\" >0.440000</td>\n",
              "                        <td id=\"T_1578fc9e_f9a0_11ea_b10a_0242ac1c0002row7_col5\" class=\"data row7 col5\" >0.400000</td>\n",
              "            </tr>\n",
              "            <tr>\n",
              "                        <th id=\"T_1578fc9e_f9a0_11ea_b10a_0242ac1c0002level0_row8\" class=\"row_heading level0 row8\" >8</th>\n",
              "                        <td id=\"T_1578fc9e_f9a0_11ea_b10a_0242ac1c0002row8_col0\" class=\"data row8 col0\" >26802- gluing coil</td>\n",
              "                        <td id=\"T_1578fc9e_f9a0_11ea_b10a_0242ac1c0002row8_col1\" class=\"data row8 col1\" >Test lực/\n",
              " Shear force</td>\n",
              "                        <td id=\"T_1578fc9e_f9a0_11ea_b10a_0242ac1c0002row8_col2\" class=\"data row8 col2\" >nan</td>\n",
              "                        <td id=\"T_1578fc9e_f9a0_11ea_b10a_0242ac1c0002row8_col3\" class=\"data row8 col3\" >nan</td>\n",
              "                        <td id=\"T_1578fc9e_f9a0_11ea_b10a_0242ac1c0002row8_col4\" class=\"data row8 col4\" >0.540000</td>\n",
              "                        <td id=\"T_1578fc9e_f9a0_11ea_b10a_0242ac1c0002row8_col5\" class=\"data row8 col5\" >0.400000</td>\n",
              "            </tr>\n",
              "            <tr>\n",
              "                        <th id=\"T_1578fc9e_f9a0_11ea_b10a_0242ac1c0002level0_row9\" class=\"row_heading level0 row9\" >9</th>\n",
              "                        <td id=\"T_1578fc9e_f9a0_11ea_b10a_0242ac1c0002row9_col0\" class=\"data row9 col0\" >26802- gluing coil</td>\n",
              "                        <td id=\"T_1578fc9e_f9a0_11ea_b10a_0242ac1c0002row9_col1\" class=\"data row9 col1\" >Dim C2</td>\n",
              "                        <td id=\"T_1578fc9e_f9a0_11ea_b10a_0242ac1c0002row9_col2\" class=\"data row9 col2\" >0.610000</td>\n",
              "                        <td id=\"T_1578fc9e_f9a0_11ea_b10a_0242ac1c0002row9_col3\" class=\"data row9 col3\" >0.580000</td>\n",
              "                        <td id=\"T_1578fc9e_f9a0_11ea_b10a_0242ac1c0002row9_col4\" class=\"data row9 col4\" >0.460000</td>\n",
              "                        <td id=\"T_1578fc9e_f9a0_11ea_b10a_0242ac1c0002row9_col5\" class=\"data row9 col5\" >0.440000</td>\n",
              "            </tr>\n",
              "            <tr>\n",
              "                        <th id=\"T_1578fc9e_f9a0_11ea_b10a_0242ac1c0002level0_row10\" class=\"row_heading level0 row10\" >10</th>\n",
              "                        <td id=\"T_1578fc9e_f9a0_11ea_b10a_0242ac1c0002row10_col0\" class=\"data row10 col0\" >26930-Cover on case</td>\n",
              "                        <td id=\"T_1578fc9e_f9a0_11ea_b10a_0242ac1c0002row10_col1\" class=\"data row10 col1\" >Dim A</td>\n",
              "                        <td id=\"T_1578fc9e_f9a0_11ea_b10a_0242ac1c0002row10_col2\" class=\"data row10 col2\" >0.820000</td>\n",
              "                        <td id=\"T_1578fc9e_f9a0_11ea_b10a_0242ac1c0002row10_col3\" class=\"data row10 col3\" >0.650000</td>\n",
              "                        <td id=\"T_1578fc9e_f9a0_11ea_b10a_0242ac1c0002row10_col4\" class=\"data row10 col4\" >0.570000</td>\n",
              "                        <td id=\"T_1578fc9e_f9a0_11ea_b10a_0242ac1c0002row10_col5\" class=\"data row10 col5\" >0.450000</td>\n",
              "            </tr>\n",
              "            <tr>\n",
              "                        <th id=\"T_1578fc9e_f9a0_11ea_b10a_0242ac1c0002level0_row11\" class=\"row_heading level0 row11\" >11</th>\n",
              "                        <td id=\"T_1578fc9e_f9a0_11ea_b10a_0242ac1c0002row11_col0\" class=\"data row11 col0\" >26825-Cut MS legs</td>\n",
              "                        <td id=\"T_1578fc9e_f9a0_11ea_b10a_0242ac1c0002row11_col1\" class=\"data row11 col1\" >Dim A (left)</td>\n",
              "                        <td id=\"T_1578fc9e_f9a0_11ea_b10a_0242ac1c0002row11_col2\" class=\"data row11 col2\" >0.820000</td>\n",
              "                        <td id=\"T_1578fc9e_f9a0_11ea_b10a_0242ac1c0002row11_col3\" class=\"data row11 col3\" >0.610000</td>\n",
              "                        <td id=\"T_1578fc9e_f9a0_11ea_b10a_0242ac1c0002row11_col4\" class=\"data row11 col4\" >0.620000</td>\n",
              "                        <td id=\"T_1578fc9e_f9a0_11ea_b10a_0242ac1c0002row11_col5\" class=\"data row11 col5\" >0.460000</td>\n",
              "            </tr>\n",
              "            <tr>\n",
              "                        <th id=\"T_1578fc9e_f9a0_11ea_b10a_0242ac1c0002level0_row12\" class=\"row_heading level0 row12\" >12</th>\n",
              "                        <td id=\"T_1578fc9e_f9a0_11ea_b10a_0242ac1c0002row12_col0\" class=\"data row12 col0\" >26830- Welding ground wire </td>\n",
              "                        <td id=\"T_1578fc9e_f9a0_11ea_b10a_0242ac1c0002row12_col1\" class=\"data row12 col1\" >Dim B</td>\n",
              "                        <td id=\"T_1578fc9e_f9a0_11ea_b10a_0242ac1c0002row12_col2\" class=\"data row12 col2\" >5.160000</td>\n",
              "                        <td id=\"T_1578fc9e_f9a0_11ea_b10a_0242ac1c0002row12_col3\" class=\"data row12 col3\" >2.510000</td>\n",
              "                        <td id=\"T_1578fc9e_f9a0_11ea_b10a_0242ac1c0002row12_col4\" class=\"data row12 col4\" >0.940000</td>\n",
              "                        <td id=\"T_1578fc9e_f9a0_11ea_b10a_0242ac1c0002row12_col5\" class=\"data row12 col5\" >0.460000</td>\n",
              "            </tr>\n",
              "            <tr>\n",
              "                        <th id=\"T_1578fc9e_f9a0_11ea_b10a_0242ac1c0002level0_row13\" class=\"row_heading level0 row13\" >13</th>\n",
              "                        <td id=\"T_1578fc9e_f9a0_11ea_b10a_0242ac1c0002row13_col0\" class=\"data row13 col0\" >26725-Adjust Armature</td>\n",
              "                        <td id=\"T_1578fc9e_f9a0_11ea_b10a_0242ac1c0002row13_col1\" class=\"data row13 col1\" >Dim B</td>\n",
              "                        <td id=\"T_1578fc9e_f9a0_11ea_b10a_0242ac1c0002row13_col2\" class=\"data row13 col2\" >0.630000</td>\n",
              "                        <td id=\"T_1578fc9e_f9a0_11ea_b10a_0242ac1c0002row13_col3\" class=\"data row13 col3\" >0.540000</td>\n",
              "                        <td id=\"T_1578fc9e_f9a0_11ea_b10a_0242ac1c0002row13_col4\" class=\"data row13 col4\" >0.560000</td>\n",
              "                        <td id=\"T_1578fc9e_f9a0_11ea_b10a_0242ac1c0002row13_col5\" class=\"data row13 col5\" >0.490000</td>\n",
              "            </tr>\n",
              "            <tr>\n",
              "                        <th id=\"T_1578fc9e_f9a0_11ea_b10a_0242ac1c0002level0_row14\" class=\"row_heading level0 row14\" >14</th>\n",
              "                        <td id=\"T_1578fc9e_f9a0_11ea_b10a_0242ac1c0002row14_col0\" class=\"data row14 col0\" >26983-Welding spout dual</td>\n",
              "                        <td id=\"T_1578fc9e_f9a0_11ea_b10a_0242ac1c0002row14_col1\" class=\"data row14 col1\" >Test lực\n",
              "Shear force</td>\n",
              "                        <td id=\"T_1578fc9e_f9a0_11ea_b10a_0242ac1c0002row14_col2\" class=\"data row14 col2\" >nan</td>\n",
              "                        <td id=\"T_1578fc9e_f9a0_11ea_b10a_0242ac1c0002row14_col3\" class=\"data row14 col3\" >nan</td>\n",
              "                        <td id=\"T_1578fc9e_f9a0_11ea_b10a_0242ac1c0002row14_col4\" class=\"data row14 col4\" >0.630000</td>\n",
              "                        <td id=\"T_1578fc9e_f9a0_11ea_b10a_0242ac1c0002row14_col5\" class=\"data row14 col5\" >0.530000</td>\n",
              "            </tr>\n",
              "            <tr>\n",
              "                        <th id=\"T_1578fc9e_f9a0_11ea_b10a_0242ac1c0002level0_row15\" class=\"row_heading level0 row15\" >15</th>\n",
              "                        <td id=\"T_1578fc9e_f9a0_11ea_b10a_0242ac1c0002row15_col0\" class=\"data row15 col0\" >26822-Welding magnet in MS</td>\n",
              "                        <td id=\"T_1578fc9e_f9a0_11ea_b10a_0242ac1c0002row15_col1\" class=\"data row15 col1\" >Dim J</td>\n",
              "                        <td id=\"T_1578fc9e_f9a0_11ea_b10a_0242ac1c0002row15_col2\" class=\"data row15 col2\" >1.150000</td>\n",
              "                        <td id=\"T_1578fc9e_f9a0_11ea_b10a_0242ac1c0002row15_col3\" class=\"data row15 col3\" >0.820000</td>\n",
              "                        <td id=\"T_1578fc9e_f9a0_11ea_b10a_0242ac1c0002row15_col4\" class=\"data row15 col4\" >0.780000</td>\n",
              "                        <td id=\"T_1578fc9e_f9a0_11ea_b10a_0242ac1c0002row15_col5\" class=\"data row15 col5\" >0.560000</td>\n",
              "            </tr>\n",
              "            <tr>\n",
              "                        <th id=\"T_1578fc9e_f9a0_11ea_b10a_0242ac1c0002level0_row16\" class=\"row_heading level0 row16\" >16</th>\n",
              "                        <td id=\"T_1578fc9e_f9a0_11ea_b10a_0242ac1c0002row16_col0\" class=\"data row16 col0\" >26825-Cut MS legs</td>\n",
              "                        <td id=\"T_1578fc9e_f9a0_11ea_b10a_0242ac1c0002row16_col1\" class=\"data row16 col1\" >Dim A (right)</td>\n",
              "                        <td id=\"T_1578fc9e_f9a0_11ea_b10a_0242ac1c0002row16_col2\" class=\"data row16 col2\" >0.950000</td>\n",
              "                        <td id=\"T_1578fc9e_f9a0_11ea_b10a_0242ac1c0002row16_col3\" class=\"data row16 col3\" >0.690000</td>\n",
              "                        <td id=\"T_1578fc9e_f9a0_11ea_b10a_0242ac1c0002row16_col4\" class=\"data row16 col4\" >0.780000</td>\n",
              "                        <td id=\"T_1578fc9e_f9a0_11ea_b10a_0242ac1c0002row16_col5\" class=\"data row16 col5\" >0.570000</td>\n",
              "            </tr>\n",
              "            <tr>\n",
              "                        <th id=\"T_1578fc9e_f9a0_11ea_b10a_0242ac1c0002level0_row17\" class=\"row_heading level0 row17\" >17</th>\n",
              "                        <td id=\"T_1578fc9e_f9a0_11ea_b10a_0242ac1c0002row17_col0\" class=\"data row17 col0\" >26824-Weld MS in strip</td>\n",
              "                        <td id=\"T_1578fc9e_f9a0_11ea_b10a_0242ac1c0002row17_col1\" class=\"data row17 col1\" >Dim E</td>\n",
              "                        <td id=\"T_1578fc9e_f9a0_11ea_b10a_0242ac1c0002row17_col2\" class=\"data row17 col2\" >1.360000</td>\n",
              "                        <td id=\"T_1578fc9e_f9a0_11ea_b10a_0242ac1c0002row17_col3\" class=\"data row17 col3\" >1.080000</td>\n",
              "                        <td id=\"T_1578fc9e_f9a0_11ea_b10a_0242ac1c0002row17_col4\" class=\"data row17 col4\" >0.780000</td>\n",
              "                        <td id=\"T_1578fc9e_f9a0_11ea_b10a_0242ac1c0002row17_col5\" class=\"data row17 col5\" >0.610000</td>\n",
              "            </tr>\n",
              "            <tr>\n",
              "                        <th id=\"T_1578fc9e_f9a0_11ea_b10a_0242ac1c0002level0_row18\" class=\"row_heading level0 row18\" >18</th>\n",
              "                        <td id=\"T_1578fc9e_f9a0_11ea_b10a_0242ac1c0002row18_col0\" class=\"data row18 col0\" >26822-Welding magnet in MS</td>\n",
              "                        <td id=\"T_1578fc9e_f9a0_11ea_b10a_0242ac1c0002row18_col1\" class=\"data row18 col1\" >Dim B</td>\n",
              "                        <td id=\"T_1578fc9e_f9a0_11ea_b10a_0242ac1c0002row18_col2\" class=\"data row18 col2\" >nan</td>\n",
              "                        <td id=\"T_1578fc9e_f9a0_11ea_b10a_0242ac1c0002row18_col3\" class=\"data row18 col3\" >nan</td>\n",
              "                        <td id=\"T_1578fc9e_f9a0_11ea_b10a_0242ac1c0002row18_col4\" class=\"data row18 col4\" >1.430000</td>\n",
              "                        <td id=\"T_1578fc9e_f9a0_11ea_b10a_0242ac1c0002row18_col5\" class=\"data row18 col5\" >0.610000</td>\n",
              "            </tr>\n",
              "            <tr>\n",
              "                        <th id=\"T_1578fc9e_f9a0_11ea_b10a_0242ac1c0002level0_row19\" class=\"row_heading level0 row19\" >19</th>\n",
              "                        <td id=\"T_1578fc9e_f9a0_11ea_b10a_0242ac1c0002row19_col0\" class=\"data row19 col0\" >26940-Welding spout MP</td>\n",
              "                        <td id=\"T_1578fc9e_f9a0_11ea_b10a_0242ac1c0002row19_col1\" class=\"data row19 col1\" >Test lực\n",
              "Shear force</td>\n",
              "                        <td id=\"T_1578fc9e_f9a0_11ea_b10a_0242ac1c0002row19_col2\" class=\"data row19 col2\" >nan</td>\n",
              "                        <td id=\"T_1578fc9e_f9a0_11ea_b10a_0242ac1c0002row19_col3\" class=\"data row19 col3\" >nan</td>\n",
              "                        <td id=\"T_1578fc9e_f9a0_11ea_b10a_0242ac1c0002row19_col4\" class=\"data row19 col4\" >1.440000</td>\n",
              "                        <td id=\"T_1578fc9e_f9a0_11ea_b10a_0242ac1c0002row19_col5\" class=\"data row19 col5\" >0.630000</td>\n",
              "            </tr>\n",
              "            <tr>\n",
              "                        <th id=\"T_1578fc9e_f9a0_11ea_b10a_0242ac1c0002level0_row20\" class=\"row_heading level0 row20\" >20</th>\n",
              "                        <td id=\"T_1578fc9e_f9a0_11ea_b10a_0242ac1c0002row20_col0\" class=\"data row20 col0\" >26720-bending Armature</td>\n",
              "                        <td id=\"T_1578fc9e_f9a0_11ea_b10a_0242ac1c0002row20_col1\" class=\"data row20 col1\" >Dim D </td>\n",
              "                        <td id=\"T_1578fc9e_f9a0_11ea_b10a_0242ac1c0002row20_col2\" class=\"data row20 col2\" >0.770000</td>\n",
              "                        <td id=\"T_1578fc9e_f9a0_11ea_b10a_0242ac1c0002row20_col3\" class=\"data row20 col3\" >0.670000</td>\n",
              "                        <td id=\"T_1578fc9e_f9a0_11ea_b10a_0242ac1c0002row20_col4\" class=\"data row20 col4\" >0.730000</td>\n",
              "                        <td id=\"T_1578fc9e_f9a0_11ea_b10a_0242ac1c0002row20_col5\" class=\"data row20 col5\" >0.630000</td>\n",
              "            </tr>\n",
              "            <tr>\n",
              "                        <th id=\"T_1578fc9e_f9a0_11ea_b10a_0242ac1c0002level0_row21\" class=\"row_heading level0 row21\" >21</th>\n",
              "                        <td id=\"T_1578fc9e_f9a0_11ea_b10a_0242ac1c0002row21_col0\" class=\"data row21 col0\" >26720-bending Armature</td>\n",
              "                        <td id=\"T_1578fc9e_f9a0_11ea_b10a_0242ac1c0002row21_col1\" class=\"data row21 col1\" >Dim B</td>\n",
              "                        <td id=\"T_1578fc9e_f9a0_11ea_b10a_0242ac1c0002row21_col2\" class=\"data row21 col2\" >0.940000</td>\n",
              "                        <td id=\"T_1578fc9e_f9a0_11ea_b10a_0242ac1c0002row21_col3\" class=\"data row21 col3\" >0.820000</td>\n",
              "                        <td id=\"T_1578fc9e_f9a0_11ea_b10a_0242ac1c0002row21_col4\" class=\"data row21 col4\" >0.730000</td>\n",
              "                        <td id=\"T_1578fc9e_f9a0_11ea_b10a_0242ac1c0002row21_col5\" class=\"data row21 col5\" >0.640000</td>\n",
              "            </tr>\n",
              "            <tr>\n",
              "                        <th id=\"T_1578fc9e_f9a0_11ea_b10a_0242ac1c0002level0_row22\" class=\"row_heading level0 row22\" >22</th>\n",
              "                        <td id=\"T_1578fc9e_f9a0_11ea_b10a_0242ac1c0002row22_col0\" class=\"data row22 col0\" >26824-Weld MS in strip</td>\n",
              "                        <td id=\"T_1578fc9e_f9a0_11ea_b10a_0242ac1c0002row22_col1\" class=\"data row22 col1\" >Dim F</td>\n",
              "                        <td id=\"T_1578fc9e_f9a0_11ea_b10a_0242ac1c0002row22_col2\" class=\"data row22 col2\" >nan</td>\n",
              "                        <td id=\"T_1578fc9e_f9a0_11ea_b10a_0242ac1c0002row22_col3\" class=\"data row22 col3\" >nan</td>\n",
              "                        <td id=\"T_1578fc9e_f9a0_11ea_b10a_0242ac1c0002row22_col4\" class=\"data row22 col4\" >0.640000</td>\n",
              "                        <td id=\"T_1578fc9e_f9a0_11ea_b10a_0242ac1c0002row22_col5\" class=\"data row22 col5\" >0.680000</td>\n",
              "            </tr>\n",
              "            <tr>\n",
              "                        <th id=\"T_1578fc9e_f9a0_11ea_b10a_0242ac1c0002level0_row23\" class=\"row_heading level0 row23\" >23</th>\n",
              "                        <td id=\"T_1578fc9e_f9a0_11ea_b10a_0242ac1c0002row23_col0\" class=\"data row23 col0\" >26930-Cover on case</td>\n",
              "                        <td id=\"T_1578fc9e_f9a0_11ea_b10a_0242ac1c0002row23_col1\" class=\"data row23 col1\" >Dim B</td>\n",
              "                        <td id=\"T_1578fc9e_f9a0_11ea_b10a_0242ac1c0002row23_col2\" class=\"data row23 col2\" >0.860000</td>\n",
              "                        <td id=\"T_1578fc9e_f9a0_11ea_b10a_0242ac1c0002row23_col3\" class=\"data row23 col3\" >0.760000</td>\n",
              "                        <td id=\"T_1578fc9e_f9a0_11ea_b10a_0242ac1c0002row23_col4\" class=\"data row23 col4\" >0.800000</td>\n",
              "                        <td id=\"T_1578fc9e_f9a0_11ea_b10a_0242ac1c0002row23_col5\" class=\"data row23 col5\" >0.700000</td>\n",
              "            </tr>\n",
              "            <tr>\n",
              "                        <th id=\"T_1578fc9e_f9a0_11ea_b10a_0242ac1c0002level0_row24\" class=\"row_heading level0 row24\" >24</th>\n",
              "                        <td id=\"T_1578fc9e_f9a0_11ea_b10a_0242ac1c0002row24_col0\" class=\"data row24 col0\" >26941-Welding alignment X,Y or </td>\n",
              "                        <td id=\"T_1578fc9e_f9a0_11ea_b10a_0242ac1c0002row24_col1\" class=\"data row24 col1\" >Dim B</td>\n",
              "                        <td id=\"T_1578fc9e_f9a0_11ea_b10a_0242ac1c0002row24_col2\" class=\"data row24 col2\" >nan</td>\n",
              "                        <td id=\"T_1578fc9e_f9a0_11ea_b10a_0242ac1c0002row24_col3\" class=\"data row24 col3\" >nan</td>\n",
              "                        <td id=\"T_1578fc9e_f9a0_11ea_b10a_0242ac1c0002row24_col4\" class=\"data row24 col4\" >1.360000</td>\n",
              "                        <td id=\"T_1578fc9e_f9a0_11ea_b10a_0242ac1c0002row24_col5\" class=\"data row24 col5\" >0.750000</td>\n",
              "            </tr>\n",
              "            <tr>\n",
              "                        <th id=\"T_1578fc9e_f9a0_11ea_b10a_0242ac1c0002level0_row25\" class=\"row_heading level0 row25\" >25</th>\n",
              "                        <td id=\"T_1578fc9e_f9a0_11ea_b10a_0242ac1c0002row25_col0\" class=\"data row25 col0\" >26824-Weld MS in strip</td>\n",
              "                        <td id=\"T_1578fc9e_f9a0_11ea_b10a_0242ac1c0002row25_col1\" class=\"data row25 col1\" >Dim G</td>\n",
              "                        <td id=\"T_1578fc9e_f9a0_11ea_b10a_0242ac1c0002row25_col2\" class=\"data row25 col2\" >nan</td>\n",
              "                        <td id=\"T_1578fc9e_f9a0_11ea_b10a_0242ac1c0002row25_col3\" class=\"data row25 col3\" >nan</td>\n",
              "                        <td id=\"T_1578fc9e_f9a0_11ea_b10a_0242ac1c0002row25_col4\" class=\"data row25 col4\" >0.810000</td>\n",
              "                        <td id=\"T_1578fc9e_f9a0_11ea_b10a_0242ac1c0002row25_col5\" class=\"data row25 col5\" >0.810000</td>\n",
              "            </tr>\n",
              "            <tr>\n",
              "                        <th id=\"T_1578fc9e_f9a0_11ea_b10a_0242ac1c0002level0_row26\" class=\"row_heading level0 row26\" >26</th>\n",
              "                        <td id=\"T_1578fc9e_f9a0_11ea_b10a_0242ac1c0002row26_col0\" class=\"data row26 col0\" >26940-Welding spout MP</td>\n",
              "                        <td id=\"T_1578fc9e_f9a0_11ea_b10a_0242ac1c0002row26_col1\" class=\"data row26 col1\" >Dim B</td>\n",
              "                        <td id=\"T_1578fc9e_f9a0_11ea_b10a_0242ac1c0002row26_col2\" class=\"data row26 col2\" >1.710000</td>\n",
              "                        <td id=\"T_1578fc9e_f9a0_11ea_b10a_0242ac1c0002row26_col3\" class=\"data row26 col3\" >1.020000</td>\n",
              "                        <td id=\"T_1578fc9e_f9a0_11ea_b10a_0242ac1c0002row26_col4\" class=\"data row26 col4\" >1.370000</td>\n",
              "                        <td id=\"T_1578fc9e_f9a0_11ea_b10a_0242ac1c0002row26_col5\" class=\"data row26 col5\" >0.820000</td>\n",
              "            </tr>\n",
              "            <tr>\n",
              "                        <th id=\"T_1578fc9e_f9a0_11ea_b10a_0242ac1c0002level0_row27\" class=\"row_heading level0 row27\" >27</th>\n",
              "                        <td id=\"T_1578fc9e_f9a0_11ea_b10a_0242ac1c0002row27_col0\" class=\"data row27 col0\" >26824-Weld MS in strip</td>\n",
              "                        <td id=\"T_1578fc9e_f9a0_11ea_b10a_0242ac1c0002row27_col1\" class=\"data row27 col1\" >Test lực\n",
              "Shear force</td>\n",
              "                        <td id=\"T_1578fc9e_f9a0_11ea_b10a_0242ac1c0002row27_col2\" class=\"data row27 col2\" >nan</td>\n",
              "                        <td id=\"T_1578fc9e_f9a0_11ea_b10a_0242ac1c0002row27_col3\" class=\"data row27 col3\" >nan</td>\n",
              "                        <td id=\"T_1578fc9e_f9a0_11ea_b10a_0242ac1c0002row27_col4\" class=\"data row27 col4\" >0.950000</td>\n",
              "                        <td id=\"T_1578fc9e_f9a0_11ea_b10a_0242ac1c0002row27_col5\" class=\"data row27 col5\" >0.830000</td>\n",
              "            </tr>\n",
              "            <tr>\n",
              "                        <th id=\"T_1578fc9e_f9a0_11ea_b10a_0242ac1c0002level0_row28\" class=\"row_heading level0 row28\" >28</th>\n",
              "                        <td id=\"T_1578fc9e_f9a0_11ea_b10a_0242ac1c0002row28_col0\" class=\"data row28 col0\" >26940-Welding spout MP</td>\n",
              "                        <td id=\"T_1578fc9e_f9a0_11ea_b10a_0242ac1c0002row28_col1\" class=\"data row28 col1\" >Dim A</td>\n",
              "                        <td id=\"T_1578fc9e_f9a0_11ea_b10a_0242ac1c0002row28_col2\" class=\"data row28 col2\" >1.540000</td>\n",
              "                        <td id=\"T_1578fc9e_f9a0_11ea_b10a_0242ac1c0002row28_col3\" class=\"data row28 col3\" >0.990000</td>\n",
              "                        <td id=\"T_1578fc9e_f9a0_11ea_b10a_0242ac1c0002row28_col4\" class=\"data row28 col4\" >1.310000</td>\n",
              "                        <td id=\"T_1578fc9e_f9a0_11ea_b10a_0242ac1c0002row28_col5\" class=\"data row28 col5\" >0.840000</td>\n",
              "            </tr>\n",
              "            <tr>\n",
              "                        <th id=\"T_1578fc9e_f9a0_11ea_b10a_0242ac1c0002level0_row29\" class=\"row_heading level0 row29\" >29</th>\n",
              "                        <td id=\"T_1578fc9e_f9a0_11ea_b10a_0242ac1c0002row29_col0\" class=\"data row29 col0\" >26822-Welding magnet in MS</td>\n",
              "                        <td id=\"T_1578fc9e_f9a0_11ea_b10a_0242ac1c0002row29_col1\" class=\"data row29 col1\" >Dim I</td>\n",
              "                        <td id=\"T_1578fc9e_f9a0_11ea_b10a_0242ac1c0002row29_col2\" class=\"data row29 col2\" >1.330000</td>\n",
              "                        <td id=\"T_1578fc9e_f9a0_11ea_b10a_0242ac1c0002row29_col3\" class=\"data row29 col3\" >1.000000</td>\n",
              "                        <td id=\"T_1578fc9e_f9a0_11ea_b10a_0242ac1c0002row29_col4\" class=\"data row29 col4\" >1.140000</td>\n",
              "                        <td id=\"T_1578fc9e_f9a0_11ea_b10a_0242ac1c0002row29_col5\" class=\"data row29 col5\" >0.850000</td>\n",
              "            </tr>\n",
              "            <tr>\n",
              "                        <th id=\"T_1578fc9e_f9a0_11ea_b10a_0242ac1c0002level0_row30\" class=\"row_heading level0 row30\" >30</th>\n",
              "                        <td id=\"T_1578fc9e_f9a0_11ea_b10a_0242ac1c0002row30_col0\" class=\"data row30 col0\" >26822-Welding magnet in MS</td>\n",
              "                        <td id=\"T_1578fc9e_f9a0_11ea_b10a_0242ac1c0002row30_col1\" class=\"data row30 col1\" >Dim D</td>\n",
              "                        <td id=\"T_1578fc9e_f9a0_11ea_b10a_0242ac1c0002row30_col2\" class=\"data row30 col2\" >2.060000</td>\n",
              "                        <td id=\"T_1578fc9e_f9a0_11ea_b10a_0242ac1c0002row30_col3\" class=\"data row30 col3\" >1.160000</td>\n",
              "                        <td id=\"T_1578fc9e_f9a0_11ea_b10a_0242ac1c0002row30_col4\" class=\"data row30 col4\" >1.540000</td>\n",
              "                        <td id=\"T_1578fc9e_f9a0_11ea_b10a_0242ac1c0002row30_col5\" class=\"data row30 col5\" >0.870000</td>\n",
              "            </tr>\n",
              "            <tr>\n",
              "                        <th id=\"T_1578fc9e_f9a0_11ea_b10a_0242ac1c0002level0_row31\" class=\"row_heading level0 row31\" >31</th>\n",
              "                        <td id=\"T_1578fc9e_f9a0_11ea_b10a_0242ac1c0002row31_col0\" class=\"data row31 col0\" >26720-bending Armature</td>\n",
              "                        <td id=\"T_1578fc9e_f9a0_11ea_b10a_0242ac1c0002row31_col1\" class=\"data row31 col1\" >Dim C</td>\n",
              "                        <td id=\"T_1578fc9e_f9a0_11ea_b10a_0242ac1c0002row31_col2\" class=\"data row31 col2\" >1.080000</td>\n",
              "                        <td id=\"T_1578fc9e_f9a0_11ea_b10a_0242ac1c0002row31_col3\" class=\"data row31 col3\" >0.990000</td>\n",
              "                        <td id=\"T_1578fc9e_f9a0_11ea_b10a_0242ac1c0002row31_col4\" class=\"data row31 col4\" >1.020000</td>\n",
              "                        <td id=\"T_1578fc9e_f9a0_11ea_b10a_0242ac1c0002row31_col5\" class=\"data row31 col5\" >0.940000</td>\n",
              "            </tr>\n",
              "            <tr>\n",
              "                        <th id=\"T_1578fc9e_f9a0_11ea_b10a_0242ac1c0002level0_row32\" class=\"row_heading level0 row32\" >32</th>\n",
              "                        <td id=\"T_1578fc9e_f9a0_11ea_b10a_0242ac1c0002row32_col0\" class=\"data row32 col0\" >26802- gluing coil</td>\n",
              "                        <td id=\"T_1578fc9e_f9a0_11ea_b10a_0242ac1c0002row32_col1\" class=\"data row32 col1\" >Dim A</td>\n",
              "                        <td id=\"T_1578fc9e_f9a0_11ea_b10a_0242ac1c0002row32_col2\" class=\"data row32 col2\" >1.760000</td>\n",
              "                        <td id=\"T_1578fc9e_f9a0_11ea_b10a_0242ac1c0002row32_col3\" class=\"data row32 col3\" >1.110000</td>\n",
              "                        <td id=\"T_1578fc9e_f9a0_11ea_b10a_0242ac1c0002row32_col4\" class=\"data row32 col4\" >1.620000</td>\n",
              "                        <td id=\"T_1578fc9e_f9a0_11ea_b10a_0242ac1c0002row32_col5\" class=\"data row32 col5\" >1.020000</td>\n",
              "            </tr>\n",
              "            <tr>\n",
              "                        <th id=\"T_1578fc9e_f9a0_11ea_b10a_0242ac1c0002level0_row33\" class=\"row_heading level0 row33\" >33</th>\n",
              "                        <td id=\"T_1578fc9e_f9a0_11ea_b10a_0242ac1c0002row33_col0\" class=\"data row33 col0\" >26941-Welding alignment X,Y or </td>\n",
              "                        <td id=\"T_1578fc9e_f9a0_11ea_b10a_0242ac1c0002row33_col1\" class=\"data row33 col1\" >Dim C</td>\n",
              "                        <td id=\"T_1578fc9e_f9a0_11ea_b10a_0242ac1c0002row33_col2\" class=\"data row33 col2\" >nan</td>\n",
              "                        <td id=\"T_1578fc9e_f9a0_11ea_b10a_0242ac1c0002row33_col3\" class=\"data row33 col3\" >nan</td>\n",
              "                        <td id=\"T_1578fc9e_f9a0_11ea_b10a_0242ac1c0002row33_col4\" class=\"data row33 col4\" >2.940000</td>\n",
              "                        <td id=\"T_1578fc9e_f9a0_11ea_b10a_0242ac1c0002row33_col5\" class=\"data row33 col5\" >1.500000</td>\n",
              "            </tr>\n",
              "            <tr>\n",
              "                        <th id=\"T_1578fc9e_f9a0_11ea_b10a_0242ac1c0002level0_row34\" class=\"row_heading level0 row34\" >34</th>\n",
              "                        <td id=\"T_1578fc9e_f9a0_11ea_b10a_0242ac1c0002row34_col0\" class=\"data row34 col0\" >26824-Weld MS in strip</td>\n",
              "                        <td id=\"T_1578fc9e_f9a0_11ea_b10a_0242ac1c0002row34_col1\" class=\"data row34 col1\" >Dim C</td>\n",
              "                        <td id=\"T_1578fc9e_f9a0_11ea_b10a_0242ac1c0002row34_col2\" class=\"data row34 col2\" >2.500000</td>\n",
              "                        <td id=\"T_1578fc9e_f9a0_11ea_b10a_0242ac1c0002row34_col3\" class=\"data row34 col3\" >2.360000</td>\n",
              "                        <td id=\"T_1578fc9e_f9a0_11ea_b10a_0242ac1c0002row34_col4\" class=\"data row34 col4\" >1.770000</td>\n",
              "                        <td id=\"T_1578fc9e_f9a0_11ea_b10a_0242ac1c0002row34_col5\" class=\"data row34 col5\" >1.670000</td>\n",
              "            </tr>\n",
              "    </tbody></table>"
            ],
            "text/plain": [
              "<pandas.io.formats.style.Styler at 0x7f3e0957f4a8>"
            ]
          },
          "metadata": {
            "tags": []
          },
          "execution_count": 168
        }
      ]
    },
    {
      "cell_type": "markdown",
      "metadata": {
        "id": "lye6kE3VbZHy",
        "colab_type": "text"
      },
      "source": [
        "nan value: missing USL or LSL"
      ]
    },
    {
      "cell_type": "code",
      "metadata": {
        "id": "W3r5XoFIVXHJ",
        "colab_type": "code",
        "colab": {
          "base_uri": "https://localhost:8080/",
          "height": 51
        },
        "outputId": "9dd29373-3352-43e2-9806-6e6a528bd409"
      },
      "source": [
        "print(len(process_indicator_df))\n",
        "print(len(name_list_dict))"
      ],
      "execution_count": 169,
      "outputs": [
        {
          "output_type": "stream",
          "text": [
            "35\n",
            "13\n"
          ],
          "name": "stdout"
        }
      ]
    },
    {
      "cell_type": "code",
      "metadata": {
        "id": "4n7swpD19FBS",
        "colab_type": "code",
        "colab": {
          "base_uri": "https://localhost:8080/",
          "height": 632
        },
        "outputId": "ff2ff3d2-f731-4093-d5df-8e9b0f4a674a"
      },
      "source": [
        "name_list_dict"
      ],
      "execution_count": 170,
      "outputs": [
        {
          "output_type": "execute_result",
          "data": {
            "text/plain": [
              "{'26720-bending Armature': ['Dim A Cp: 0.9 Pp: 0.68 Cpk: 0.48 Ppk: 0.36',\n",
              "  'Dim B Cp: 0.94 Pp: 0.82 Cpk: 0.73 Ppk: 0.64',\n",
              "  'Dim C Cp: 1.08 Pp: 0.99 Cpk: 1.02 Ppk: 0.94',\n",
              "  'Dim D  Cp: 0.77 Pp: 0.67 Cpk: 0.73 Ppk: 0.63'],\n",
              " '26725- Arm. after annealing': ['Dim B Cp: 0.27 Pp: 0.37 Cpk: 0.11 Ppk: 0.15'],\n",
              " '26725-Adjust Armature': ['Dim A Cp: 1.01 Pp: 0.93 Cpk: 0.44 Ppk: 0.4',\n",
              "  'Dim B Cp: 0.63 Pp: 0.54 Cpk: 0.56 Ppk: 0.49'],\n",
              " '26802- gluing coil': ['Test lực/\\n Shear force Cp: nan Pp: nan Cpk: 0.54 Ppk: 0.4',\n",
              "  'Dim B Cp: 0.64 Pp: 0.56 Cpk: 0.41 Ppk: 0.36',\n",
              "  'Dim C1 Cp: 0.31 Pp: 0.34 Cpk: 0.29 Ppk: 0.32',\n",
              "  'Dim C2 Cp: 0.61 Pp: 0.58 Cpk: 0.46 Ppk: 0.44',\n",
              "  'Dim A Cp: 1.76 Pp: 1.11 Cpk: 1.62 Ppk: 1.02'],\n",
              " '26820-D.pin on Arm': ['Dim B Cp: 0.51 Pp: 0.25 Cpk: 0.46 Ppk: 0.22'],\n",
              " '26822-Welding magnet in MS': ['Dim D Cp: 2.06 Pp: 1.16 Cpk: 1.54 Ppk: 0.87',\n",
              "  'Dim I Cp: 1.33 Pp: 1.0 Cpk: 1.14 Ppk: 0.85',\n",
              "  'Dim B Cp: nan Pp: nan Cpk: 1.43 Ppk: 0.61',\n",
              "  'Dim J Cp: 1.15 Pp: 0.82 Cpk: 0.78 Ppk: 0.56'],\n",
              " '26824-Weld MS in strip': ['Test lực\\nShear force Cp: nan Pp: nan Cpk: 0.95 Ppk: 0.83',\n",
              "  'Dim E Cp: 1.36 Pp: 1.08 Cpk: 0.78 Ppk: 0.61',\n",
              "  'Dim F Cp: nan Pp: nan Cpk: 0.64 Ppk: 0.68',\n",
              "  'Dim G Cp: nan Pp: nan Cpk: 0.81 Ppk: 0.81',\n",
              "  'Dim C Cp: 2.5 Pp: 2.36 Cpk: 1.77 Ppk: 1.67'],\n",
              " '26825-Cut MS legs': ['Dim A (left) Cp: 0.82 Pp: 0.61 Cpk: 0.62 Ppk: 0.46',\n",
              "  'Dim A (right) Cp: 0.95 Pp: 0.69 Cpk: 0.78 Ppk: 0.57'],\n",
              " '26830- Welding ground wire ': ['Dim B Cp: 5.16 Pp: 2.51 Cpk: 0.94 Ppk: 0.46'],\n",
              " '26930-Cover on case': ['Dim A Cp: 0.82 Pp: 0.65 Cpk: 0.57 Ppk: 0.45',\n",
              "  'Dim B Cp: 0.86 Pp: 0.76 Cpk: 0.8 Ppk: 0.7'],\n",
              " '26940-Welding spout MP': ['Dim A Cp: 1.54 Pp: 0.99 Cpk: 1.31 Ppk: 0.84',\n",
              "  'Dim B Cp: 1.71 Pp: 1.02 Cpk: 1.37 Ppk: 0.82',\n",
              "  'Test lực\\nShear force Cp: nan Pp: nan Cpk: 1.44 Ppk: 0.63'],\n",
              " '26941-Welding alignment X,Y or ': ['Dim B Cp: nan Pp: nan Cpk: 1.36 Ppk: 0.75',\n",
              "  'Dim C Cp: nan Pp: nan Cpk: 2.94 Ppk: 1.5'],\n",
              " '26983-Welding spout dual': ['Dim K Cp: 0.97 Pp: 0.58 Cpk: 0.59 Ppk: 0.35',\n",
              "  'Dim H Cp: 1.03 Pp: 0.54 Cpk: 0.71 Ppk: 0.37',\n",
              "  'Test lực\\nShear force Cp: nan Pp: nan Cpk: 0.63 Ppk: 0.53']}"
            ]
          },
          "metadata": {
            "tags": []
          },
          "execution_count": 170
        }
      ]
    },
    {
      "cell_type": "markdown",
      "metadata": {
        "id": "PHQwySZQoEfH",
        "colab_type": "text"
      },
      "source": [
        "## Line chart"
      ]
    },
    {
      "cell_type": "markdown",
      "metadata": {
        "id": "v_xp_xLjAFai",
        "colab_type": "text"
      },
      "source": [
        "### Try better method"
      ]
    },
    {
      "cell_type": "code",
      "metadata": {
        "id": "gMjrSEQnj6Pk",
        "colab_type": "code",
        "colab": {
          "base_uri": "https://localhost:8080/",
          "height": 1000
        },
        "outputId": "6178e406-e380-4881-b943-1efd741fb867"
      },
      "source": [
        "for process_name in list(base_week.keys()):\n",
        "  df_dict=base_week[process_name] # process name\n",
        "  i=1\n",
        "  #Layout\n",
        "  fig = make_subplots(          # Dim name\n",
        "      rows=len(df_dict), cols=1,\n",
        "      #shared_xaxes=True, # share same axis\n",
        "      #vertical_spacing=0.05, # adjust spacing between charts\n",
        "      #column_widths=[0.8, 0.2],\n",
        "      subplot_titles=(name_list_dict[process_name]) # dict with key is process name and value is list of dim (contain name, cp, cpk...)\n",
        "  )\n",
        "  for name in list(df_dict.keys()): #also group\n",
        "    df=df_dict[name].copy()\n",
        "    df=df.sort_values(by=['Date'])\n",
        "    for a in df.columns[1:]:\n",
        "      df[a] = df[a].round(decimals=3)\n",
        "    df=df.reset_index(drop=True)\n",
        "    # Draw control chart\n",
        "    df_group=df.groupby('Date').mean()\n",
        "    #df=df.set_index('Date')\n",
        "    #if start_date != '':\n",
        "    #  df=df[start_date:end_date]\n",
        "    #Control chart 1 \n",
        "    fig.append_trace(go.Scatter(\n",
        "                            x=df_group.index, y=df_group['Value'],mode='lines+markers',\n",
        "                            name='mean ', \n",
        "                            line=dict( color='#4280F5')\n",
        "                            ),row=i, col=1)\n",
        "    #USL, LSL\n",
        "    fig.append_trace(go.Scatter(x=df_group.index, y=df_group['USL'],name='USL ', line=dict( color='#FF5733'),mode='lines'),row=i, col=1)\n",
        "    fig.append_trace(go.Scatter(x=df_group.index, y=df_group['LSL'],name='LSL ',line=dict( color='#FF5733'),mode='lines'),row=i, col=1)\n",
        "    #fig.append_trace(go.Scatter(x=df['Datef'], y=df['Nominal'],name='Nominal '+name,line=dict( color='#FF5733')),row=i, col=1)\n",
        "    # UCL, LCL\n",
        "    fig.append_trace(go.Scatter(x=df_group.index, y=df_group['UCL'],name='UCL ', line=dict( color='#33C2FF'),mode='lines'),row=i, col=1)\n",
        "    fig.append_trace(go.Scatter(x=df_group.index, y=df_group['LCL'],name='LCL ', line=dict( color='#33C2FF'),mode='lines'),row=i, col=1)\n",
        "    fig.append_trace(go.Scatter(x=df_group.index, y=df_group['Mean'],name='Mean ', line=dict( color='#33C2FF'),mode='lines'),row=i, col=1)\n",
        "    i=i+1\n",
        "  \n",
        "  if len(df_dict)>1:\n",
        "    fig.update_layout(height=200*len(df_dict), width=1200, title_text='Process: '+process_name)\n",
        "  else:\n",
        "    fig.update_layout(height=300, width=1200, title_text='Process: '+process_name)\n",
        "  #fig update each process (contain a lot of dim inside)\n",
        "  fig.show()\n",
        " "
      ],
      "execution_count": 171,
      "outputs": [
        {
          "output_type": "display_data",
          "data": {
            "text/html": [
              "<html>\n",
              "<head><meta charset=\"utf-8\" /></head>\n",
              "<body>\n",
              "    <div>\n",
              "            <script src=\"https://cdnjs.cloudflare.com/ajax/libs/mathjax/2.7.5/MathJax.js?config=TeX-AMS-MML_SVG\"></script><script type=\"text/javascript\">if (window.MathJax) {MathJax.Hub.Config({SVG: {font: \"STIX-Web\"}});}</script>\n",
              "                <script type=\"text/javascript\">window.PlotlyConfig = {MathJaxConfig: 'local'};</script>\n",
              "        <script src=\"https://cdn.plot.ly/plotly-latest.min.js\"></script>    \n",
              "            <div id=\"37cbaf48-0574-4302-a2e6-a3aa07226c6b\" class=\"plotly-graph-div\" style=\"height:1000px; width:1200px;\"></div>\n",
              "            <script type=\"text/javascript\">\n",
              "                \n",
              "                    window.PLOTLYENV=window.PLOTLYENV || {};\n",
              "                    \n",
              "                if (document.getElementById(\"37cbaf48-0574-4302-a2e6-a3aa07226c6b\")) {\n",
              "                    Plotly.newPlot(\n",
              "                        '37cbaf48-0574-4302-a2e6-a3aa07226c6b',\n",
              "                        [{\"line\": {\"color\": \"#4280F5\"}, \"mode\": \"lines+markers\", \"name\": \"mean \", \"type\": \"scatter\", \"x\": [\"2020-08-29T03:00:00\", \"2020-08-29T12:00:00\", \"2020-08-29T16:00:00\", \"2020-08-30T03:00:00\", \"2020-08-30T11:00:00\", \"2020-08-30T20:00:00\", \"2020-08-31T11:00:00\", \"2020-08-31T21:00:00\", \"2020-09-01T04:00:00\", \"2020-09-01T05:00:00\", \"2020-09-01T10:00:00\", \"2020-09-01T11:00:00\", \"2020-09-01T20:00:00\", \"2020-09-02T03:00:00\", \"2020-09-03T10:00:00\", \"2020-09-03T20:00:00\", \"2020-09-04T04:00:00\", \"2020-09-04T05:00:00\", \"2020-09-04T12:00:00\", \"2020-09-04T20:00:00\", \"2020-09-05T04:00:00\", \"2020-09-05T11:00:00\", \"2020-09-05T20:00:00\", \"2020-09-06T04:00:00\", \"2020-09-06T05:00:00\", \"2020-09-06T08:00:00\", \"2020-09-14T11:00:00\", \"2020-09-14T21:00:00\", \"2020-09-15T10:00:00\", \"2020-09-15T11:00:00\", \"2020-09-15T19:00:00\", \"2020-09-16T00:00:00\", \"2020-09-16T12:00:00\", \"2020-09-16T20:00:00\", \"2020-09-17T04:00:00\", \"2020-09-17T12:00:00\", \"2020-09-17T20:00:00\", \"2020-09-18T03:00:00\", \"2020-09-18T11:00:00\"], \"xaxis\": \"x\", \"y\": [1.711111068725586, 1.7904762029647827, 1.9047619104385376, 1.6666666269302368, 1.7285714149475098, 1.7000000476837158, 1.6952381134033203, 1.6952381134033203, 1.8166667222976685, 1.6666666269302368, 1.7000000476837158, 1.6888889074325562, 1.9208333492279053, 1.490476131439209, 1.7333333492279053, 1.9428571462631226, 1.7166666984558105, 1.6888889074325562, 1.6476190090179443, 2.0, 1.7761905193328857, 1.6857142448425293, 2.0, 1.644444465637207, 1.7333333492279053, 1.7666666507720947, 1.6476190090179443, 1.976190447807312, 1.6666666269302368, 1.6904761791229248, 1.8388888835906982, 1.6952381134033203, 1.7476190328598022, 1.8142857551574707, 1.6952381134033203, 1.6285713911056519, 1.7666666507720947, 1.6857142448425293, 1.8476190567016602], \"yaxis\": \"y\"}, {\"line\": {\"color\": \"#FF5733\"}, \"mode\": \"lines\", \"name\": \"USL \", \"type\": \"scatter\", \"x\": [\"2020-08-29T03:00:00\", \"2020-08-29T12:00:00\", \"2020-08-29T16:00:00\", \"2020-08-30T03:00:00\", \"2020-08-30T11:00:00\", \"2020-08-30T20:00:00\", \"2020-08-31T11:00:00\", \"2020-08-31T21:00:00\", \"2020-09-01T04:00:00\", \"2020-09-01T05:00:00\", \"2020-09-01T10:00:00\", \"2020-09-01T11:00:00\", \"2020-09-01T20:00:00\", \"2020-09-02T03:00:00\", \"2020-09-03T10:00:00\", \"2020-09-03T20:00:00\", \"2020-09-04T04:00:00\", \"2020-09-04T05:00:00\", \"2020-09-04T12:00:00\", \"2020-09-04T20:00:00\", \"2020-09-05T04:00:00\", \"2020-09-05T11:00:00\", \"2020-09-05T20:00:00\", \"2020-09-06T04:00:00\", \"2020-09-06T05:00:00\", \"2020-09-06T08:00:00\", \"2020-09-14T11:00:00\", \"2020-09-14T21:00:00\", \"2020-09-15T10:00:00\", \"2020-09-15T11:00:00\", \"2020-09-15T19:00:00\", \"2020-09-16T00:00:00\", \"2020-09-16T12:00:00\", \"2020-09-16T20:00:00\", \"2020-09-17T04:00:00\", \"2020-09-17T12:00:00\", \"2020-09-17T20:00:00\", \"2020-09-18T03:00:00\", \"2020-09-18T11:00:00\"], \"xaxis\": \"x\", \"y\": [null, null, null, null, null, null, null, null, null, null, null, null, null, null, null, null, null, null, null, null, null, null, null, null, null, null, null, null, null, null, null, null, null, null, null, null, null, null, null], \"yaxis\": \"y\"}, {\"line\": {\"color\": \"#FF5733\"}, \"mode\": \"lines\", \"name\": \"LSL \", \"type\": \"scatter\", \"x\": [\"2020-08-29T03:00:00\", \"2020-08-29T12:00:00\", \"2020-08-29T16:00:00\", \"2020-08-30T03:00:00\", \"2020-08-30T11:00:00\", \"2020-08-30T20:00:00\", \"2020-08-31T11:00:00\", \"2020-08-31T21:00:00\", \"2020-09-01T04:00:00\", \"2020-09-01T05:00:00\", \"2020-09-01T10:00:00\", \"2020-09-01T11:00:00\", \"2020-09-01T20:00:00\", \"2020-09-02T03:00:00\", \"2020-09-03T10:00:00\", \"2020-09-03T20:00:00\", \"2020-09-04T04:00:00\", \"2020-09-04T05:00:00\", \"2020-09-04T12:00:00\", \"2020-09-04T20:00:00\", \"2020-09-05T04:00:00\", \"2020-09-05T11:00:00\", \"2020-09-05T20:00:00\", \"2020-09-06T04:00:00\", \"2020-09-06T05:00:00\", \"2020-09-06T08:00:00\", \"2020-09-14T11:00:00\", \"2020-09-14T21:00:00\", \"2020-09-15T10:00:00\", \"2020-09-15T11:00:00\", \"2020-09-15T19:00:00\", \"2020-09-16T00:00:00\", \"2020-09-16T12:00:00\", \"2020-09-16T20:00:00\", \"2020-09-17T04:00:00\", \"2020-09-17T12:00:00\", \"2020-09-17T20:00:00\", \"2020-09-18T03:00:00\", \"2020-09-18T11:00:00\"], \"xaxis\": \"x\", \"y\": [1.399999976158142, 1.399999976158142, 1.399999976158142, 1.399999976158142, 1.399999976158142, 1.399999976158142, 1.399999976158142, 1.399999976158142, 1.399999976158142, 1.399999976158142, 1.399999976158142, 1.399999976158142, 1.399999976158142, 1.399999976158142, 1.399999976158142, 1.399999976158142, 1.399999976158142, 1.399999976158142, 1.399999976158142, 1.399999976158142, 1.399999976158142, 1.399999976158142, 1.399999976158142, 1.399999976158142, 1.399999976158142, 1.399999976158142, 1.399999976158142, 1.399999976158142, 1.399999976158142, 1.399999976158142, 1.399999976158142, 1.399999976158142, 1.399999976158142, 1.399999976158142, 1.399999976158142, 1.399999976158142, 1.399999976158142, 1.399999976158142, 1.399999976158142], \"yaxis\": \"y\"}, {\"line\": {\"color\": \"#33C2FF\"}, \"mode\": \"lines\", \"name\": \"UCL \", \"type\": \"scatter\", \"x\": [\"2020-08-29T03:00:00\", \"2020-08-29T12:00:00\", \"2020-08-29T16:00:00\", \"2020-08-30T03:00:00\", \"2020-08-30T11:00:00\", \"2020-08-30T20:00:00\", \"2020-08-31T11:00:00\", \"2020-08-31T21:00:00\", \"2020-09-01T04:00:00\", \"2020-09-01T05:00:00\", \"2020-09-01T10:00:00\", \"2020-09-01T11:00:00\", \"2020-09-01T20:00:00\", \"2020-09-02T03:00:00\", \"2020-09-03T10:00:00\", \"2020-09-03T20:00:00\", \"2020-09-04T04:00:00\", \"2020-09-04T05:00:00\", \"2020-09-04T12:00:00\", \"2020-09-04T20:00:00\", \"2020-09-05T04:00:00\", \"2020-09-05T11:00:00\", \"2020-09-05T20:00:00\", \"2020-09-06T04:00:00\", \"2020-09-06T05:00:00\", \"2020-09-06T08:00:00\", \"2020-09-14T11:00:00\", \"2020-09-14T21:00:00\", \"2020-09-15T10:00:00\", \"2020-09-15T11:00:00\", \"2020-09-15T19:00:00\", \"2020-09-16T00:00:00\", \"2020-09-16T12:00:00\", \"2020-09-16T20:00:00\", \"2020-09-17T04:00:00\", \"2020-09-17T12:00:00\", \"2020-09-17T20:00:00\", \"2020-09-18T03:00:00\", \"2020-09-18T11:00:00\"], \"xaxis\": \"x\", \"y\": [2.5980000495910645, 2.5980000495910645, 2.5980000495910645, 2.5980000495910645, 2.5980000495910645, 2.5980000495910645, 2.5980000495910645, 2.5980000495910645, 2.5980000495910645, 2.5980000495910645, 2.5980000495910645, 2.5980000495910645, 2.5980000495910645, 2.5980000495910645, 2.5980000495910645, 2.5980000495910645, 2.5980000495910645, 2.5980000495910645, 2.5980000495910645, 2.753999948501587, 2.753999948501587, 2.753999948501587, 2.753999948501587, 2.753999948501587, 2.753999948501587, 2.753999948501587, 2.575000047683716, 2.575000047683716, 2.575000047683716, 2.575000047683716, 2.575000047683716, 2.575000047683716, 2.575000047683716, 2.575000047683716, 2.575000047683716, 2.575000047683716, 2.575000047683716, 2.575000047683716, 2.6730000972747803], \"yaxis\": \"y\"}, {\"line\": {\"color\": \"#33C2FF\"}, \"mode\": \"lines\", \"name\": \"LCL \", \"type\": \"scatter\", \"x\": [\"2020-08-29T03:00:00\", \"2020-08-29T12:00:00\", \"2020-08-29T16:00:00\", \"2020-08-30T03:00:00\", \"2020-08-30T11:00:00\", \"2020-08-30T20:00:00\", \"2020-08-31T11:00:00\", \"2020-08-31T21:00:00\", \"2020-09-01T04:00:00\", \"2020-09-01T05:00:00\", \"2020-09-01T10:00:00\", \"2020-09-01T11:00:00\", \"2020-09-01T20:00:00\", \"2020-09-02T03:00:00\", \"2020-09-03T10:00:00\", \"2020-09-03T20:00:00\", \"2020-09-04T04:00:00\", \"2020-09-04T05:00:00\", \"2020-09-04T12:00:00\", \"2020-09-04T20:00:00\", \"2020-09-05T04:00:00\", \"2020-09-05T11:00:00\", \"2020-09-05T20:00:00\", \"2020-09-06T04:00:00\", \"2020-09-06T05:00:00\", \"2020-09-06T08:00:00\", \"2020-09-14T11:00:00\", \"2020-09-14T21:00:00\", \"2020-09-15T10:00:00\", \"2020-09-15T11:00:00\", \"2020-09-15T19:00:00\", \"2020-09-16T00:00:00\", \"2020-09-16T12:00:00\", \"2020-09-16T20:00:00\", \"2020-09-17T04:00:00\", \"2020-09-17T12:00:00\", \"2020-09-17T20:00:00\", \"2020-09-18T03:00:00\", \"2020-09-18T11:00:00\"], \"xaxis\": \"x\", \"y\": [0.8949999809265137, 0.8949999809265137, 0.8949999809265137, 0.8949999809265137, 0.8949999809265137, 0.8949999809265137, 0.8949999809265137, 0.8949999809265137, 0.8949999809265137, 0.8949999809265137, 0.8949999809265137, 0.8949999809265137, 0.8949999809265137, 0.8949999809265137, 0.8949999809265137, 0.8949999809265137, 0.8949999809265137, 0.8949999809265137, 0.8949999809265137, 0.8679999709129333, 0.8679999709129333, 0.8679999709129333, 0.8679999709129333, 0.8679999709129333, 0.8679999709129333, 0.8679999709129333, 0.8980000019073486, 0.8980000019073486, 0.8980000019073486, 0.8980000019073486, 0.8980000019073486, 0.8980000019073486, 0.8980000019073486, 0.8980000019073486, 0.8980000019073486, 0.8980000019073486, 0.8980000019073486, 0.8980000019073486, 1.0230000019073486], \"yaxis\": \"y\"}, {\"line\": {\"color\": \"#33C2FF\"}, \"mode\": \"lines\", \"name\": \"Mean \", \"type\": \"scatter\", \"x\": [\"2020-08-29T03:00:00\", \"2020-08-29T12:00:00\", \"2020-08-29T16:00:00\", \"2020-08-30T03:00:00\", \"2020-08-30T11:00:00\", \"2020-08-30T20:00:00\", \"2020-08-31T11:00:00\", \"2020-08-31T21:00:00\", \"2020-09-01T04:00:00\", \"2020-09-01T05:00:00\", \"2020-09-01T10:00:00\", \"2020-09-01T11:00:00\", \"2020-09-01T20:00:00\", \"2020-09-02T03:00:00\", \"2020-09-03T10:00:00\", \"2020-09-03T20:00:00\", \"2020-09-04T04:00:00\", \"2020-09-04T05:00:00\", \"2020-09-04T12:00:00\", \"2020-09-04T20:00:00\", \"2020-09-05T04:00:00\", \"2020-09-05T11:00:00\", \"2020-09-05T20:00:00\", \"2020-09-06T04:00:00\", \"2020-09-06T05:00:00\", \"2020-09-06T08:00:00\", \"2020-09-14T11:00:00\", \"2020-09-14T21:00:00\", \"2020-09-15T10:00:00\", \"2020-09-15T11:00:00\", \"2020-09-15T19:00:00\", \"2020-09-16T00:00:00\", \"2020-09-16T12:00:00\", \"2020-09-16T20:00:00\", \"2020-09-17T04:00:00\", \"2020-09-17T12:00:00\", \"2020-09-17T20:00:00\", \"2020-09-18T03:00:00\", \"2020-09-18T11:00:00\"], \"xaxis\": \"x\", \"y\": [1.746000051498413, 1.746000051498413, 1.746000051498413, 1.746000051498413, 1.746000051498413, 1.746000051498413, 1.746000051498413, 1.746000051498413, 1.746000051498413, 1.746000051498413, 1.746000051498413, 1.746000051498413, 1.746000051498413, 1.746000051498413, 1.746000051498413, 1.746000051498413, 1.746000051498413, 1.746000051498413, 1.746000051498413, 1.8109999895095825, 1.8109999895095825, 1.8109999895095825, 1.8109999895095825, 1.8109999895095825, 1.8109999895095825, 1.8109999895095825, 1.7369999885559082, 1.7369999885559082, 1.7369999885559082, 1.7369999885559082, 1.7369999885559082, 1.7369999885559082, 1.7369999885559082, 1.7369999885559082, 1.7369999885559082, 1.7369999885559082, 1.7369999885559082, 1.7369999885559082, 1.8480000495910645], \"yaxis\": \"y\"}, {\"line\": {\"color\": \"#4280F5\"}, \"mode\": \"lines+markers\", \"name\": \"mean \", \"type\": \"scatter\", \"x\": [\"2020-08-29T03:00:00\", \"2020-08-29T12:00:00\", \"2020-08-29T16:00:00\", \"2020-08-29T19:00:00\", \"2020-08-30T03:00:00\", \"2020-08-30T11:00:00\", \"2020-08-30T20:00:00\", \"2020-08-31T11:00:00\", \"2020-08-31T12:00:00\", \"2020-08-31T21:00:00\", \"2020-09-01T04:00:00\", \"2020-09-01T05:00:00\", \"2020-09-01T10:00:00\", \"2020-09-01T11:00:00\", \"2020-09-01T20:00:00\", \"2020-09-02T03:00:00\", \"2020-09-02T04:00:00\", \"2020-09-03T10:00:00\", \"2020-09-03T20:00:00\", \"2020-09-04T04:00:00\", \"2020-09-04T05:00:00\", \"2020-09-04T12:00:00\", \"2020-09-04T20:00:00\", \"2020-09-05T04:00:00\", \"2020-09-05T11:00:00\", \"2020-09-05T12:00:00\", \"2020-09-05T20:00:00\", \"2020-09-06T04:00:00\", \"2020-09-06T05:00:00\", \"2020-09-06T08:00:00\", \"2020-09-14T11:00:00\", \"2020-09-14T21:00:00\", \"2020-09-15T10:00:00\", \"2020-09-15T11:00:00\", \"2020-09-15T19:00:00\", \"2020-09-16T00:00:00\", \"2020-09-16T02:00:00\", \"2020-09-16T12:00:00\", \"2020-09-16T13:00:00\", \"2020-09-16T20:00:00\", \"2020-09-17T04:00:00\", \"2020-09-17T12:00:00\", \"2020-09-17T20:00:00\", \"2020-09-18T03:00:00\", \"2020-09-18T11:00:00\"], \"xaxis\": \"x2\", \"y\": [0.02123529464006424, 0.005543859675526619, 0.0031250000465661287, 0.00148148147854954, 0.0201666671782732, 0.004041666630655527, -0.0013749998761340976, 0.015119047835469246, 0.014083333313465118, 0.012755556032061577, 0.004555555526167154, 0.009633333422243595, 0.024571428075432777, 0.02197222225368023, -0.0009166665840893984, 0.005733333062380552, 0.014833332970738411, 0.012574073858559132, 0.0037619047798216343, 0.009000000543892384, 0.0031666667200624943, 0.018833333626389503, 0.006800000090152025, -0.0009019607095979154, 0.012897435575723648, 0.021133333444595337, 0.006705882493406534, -0.004703703802078962, 6.66666092001833e-05, 0.012916666455566883, 0.006518518552184105, 0.009140350855886936, 0.017807018011808395, 0.005222222302109003, 0.01147058792412281, 0.023370370268821716, 0.02237500064074993, 0.004030303098261356, -0.0017333334544673562, 0.004666666500270367, 0.02396666631102562, 0.002803921466693282, 0.005266666412353516, 0.01431250013411045, 0.007148148026317358], \"yaxis\": \"y2\"}, {\"line\": {\"color\": \"#FF5733\"}, \"mode\": \"lines\", \"name\": \"USL \", \"type\": \"scatter\", \"x\": [\"2020-08-29T03:00:00\", \"2020-08-29T12:00:00\", \"2020-08-29T16:00:00\", \"2020-08-29T19:00:00\", \"2020-08-30T03:00:00\", \"2020-08-30T11:00:00\", \"2020-08-30T20:00:00\", \"2020-08-31T11:00:00\", \"2020-08-31T12:00:00\", \"2020-08-31T21:00:00\", \"2020-09-01T04:00:00\", \"2020-09-01T05:00:00\", \"2020-09-01T10:00:00\", \"2020-09-01T11:00:00\", \"2020-09-01T20:00:00\", \"2020-09-02T03:00:00\", \"2020-09-02T04:00:00\", \"2020-09-03T10:00:00\", \"2020-09-03T20:00:00\", \"2020-09-04T04:00:00\", \"2020-09-04T05:00:00\", \"2020-09-04T12:00:00\", \"2020-09-04T20:00:00\", \"2020-09-05T04:00:00\", \"2020-09-05T11:00:00\", \"2020-09-05T12:00:00\", \"2020-09-05T20:00:00\", \"2020-09-06T04:00:00\", \"2020-09-06T05:00:00\", \"2020-09-06T08:00:00\", \"2020-09-14T11:00:00\", \"2020-09-14T21:00:00\", \"2020-09-15T10:00:00\", \"2020-09-15T11:00:00\", \"2020-09-15T19:00:00\", \"2020-09-16T00:00:00\", \"2020-09-16T02:00:00\", \"2020-09-16T12:00:00\", \"2020-09-16T13:00:00\", \"2020-09-16T20:00:00\", \"2020-09-17T04:00:00\", \"2020-09-17T12:00:00\", \"2020-09-17T20:00:00\", \"2020-09-18T03:00:00\", \"2020-09-18T11:00:00\"], \"xaxis\": \"x2\", \"y\": [0.029999999329447746, 0.029999999329447746, 0.029999999329447746, 0.029999999329447746, 0.029999999329447746, 0.029999999329447746, 0.029999999329447746, 0.029999999329447746, 0.029999999329447746, 0.029999999329447746, 0.029999999329447746, 0.029999999329447746, 0.029999999329447746, 0.029999999329447746, 0.029999999329447746, 0.029999999329447746, 0.029999999329447746, 0.029999999329447746, 0.029999999329447746, 0.029999999329447746, 0.029999999329447746, 0.029999999329447746, 0.029999999329447746, 0.029999999329447746, 0.029999999329447746, 0.029999999329447746, 0.029999999329447746, 0.029999999329447746, 0.029999999329447746, 0.029999999329447746, 0.029999999329447746, 0.029999999329447746, 0.029999999329447746, 0.029999999329447746, 0.029999999329447746, 0.029999999329447746, 0.029999999329447746, 0.029999999329447746, 0.029999999329447746, 0.029999999329447746, 0.029999999329447746, 0.029999999329447746, 0.029999999329447746, 0.029999999329447746, 0.029999999329447746], \"yaxis\": \"y2\"}, {\"line\": {\"color\": \"#FF5733\"}, \"mode\": \"lines\", \"name\": \"LSL \", \"type\": \"scatter\", \"x\": [\"2020-08-29T03:00:00\", \"2020-08-29T12:00:00\", \"2020-08-29T16:00:00\", \"2020-08-29T19:00:00\", \"2020-08-30T03:00:00\", \"2020-08-30T11:00:00\", \"2020-08-30T20:00:00\", \"2020-08-31T11:00:00\", \"2020-08-31T12:00:00\", \"2020-08-31T21:00:00\", \"2020-09-01T04:00:00\", \"2020-09-01T05:00:00\", \"2020-09-01T10:00:00\", \"2020-09-01T11:00:00\", \"2020-09-01T20:00:00\", \"2020-09-02T03:00:00\", \"2020-09-02T04:00:00\", \"2020-09-03T10:00:00\", \"2020-09-03T20:00:00\", \"2020-09-04T04:00:00\", \"2020-09-04T05:00:00\", \"2020-09-04T12:00:00\", \"2020-09-04T20:00:00\", \"2020-09-05T04:00:00\", \"2020-09-05T11:00:00\", \"2020-09-05T12:00:00\", \"2020-09-05T20:00:00\", \"2020-09-06T04:00:00\", \"2020-09-06T05:00:00\", \"2020-09-06T08:00:00\", \"2020-09-14T11:00:00\", \"2020-09-14T21:00:00\", \"2020-09-15T10:00:00\", \"2020-09-15T11:00:00\", \"2020-09-15T19:00:00\", \"2020-09-16T00:00:00\", \"2020-09-16T02:00:00\", \"2020-09-16T12:00:00\", \"2020-09-16T13:00:00\", \"2020-09-16T20:00:00\", \"2020-09-17T04:00:00\", \"2020-09-17T12:00:00\", \"2020-09-17T20:00:00\", \"2020-09-18T03:00:00\", \"2020-09-18T11:00:00\"], \"xaxis\": \"x2\", \"y\": [-0.029999999329447746, -0.029999999329447746, -0.029999999329447746, -0.029999999329447746, -0.029999999329447746, -0.029999999329447746, -0.029999999329447746, -0.029999999329447746, -0.029999999329447746, -0.029999999329447746, -0.029999999329447746, -0.029999999329447746, -0.029999999329447746, -0.029999999329447746, -0.029999999329447746, -0.029999999329447746, -0.029999999329447746, -0.029999999329447746, -0.029999999329447746, -0.029999999329447746, -0.029999999329447746, -0.029999999329447746, -0.029999999329447746, -0.029999999329447746, -0.029999999329447746, -0.029999999329447746, -0.029999999329447746, -0.029999999329447746, -0.029999999329447746, -0.029999999329447746, -0.029999999329447746, -0.029999999329447746, -0.029999999329447746, -0.029999999329447746, -0.029999999329447746, -0.029999999329447746, -0.029999999329447746, -0.029999999329447746, -0.029999999329447746, -0.029999999329447746, -0.029999999329447746, -0.029999999329447746, -0.029999999329447746, -0.029999999329447746, -0.029999999329447746], \"yaxis\": \"y2\"}, {\"line\": {\"color\": \"#33C2FF\"}, \"mode\": \"lines\", \"name\": \"UCL \", \"type\": \"scatter\", \"x\": [\"2020-08-29T03:00:00\", \"2020-08-29T12:00:00\", \"2020-08-29T16:00:00\", \"2020-08-29T19:00:00\", \"2020-08-30T03:00:00\", \"2020-08-30T11:00:00\", \"2020-08-30T20:00:00\", \"2020-08-31T11:00:00\", \"2020-08-31T12:00:00\", \"2020-08-31T21:00:00\", \"2020-09-01T04:00:00\", \"2020-09-01T05:00:00\", \"2020-09-01T10:00:00\", \"2020-09-01T11:00:00\", \"2020-09-01T20:00:00\", \"2020-09-02T03:00:00\", \"2020-09-02T04:00:00\", \"2020-09-03T10:00:00\", \"2020-09-03T20:00:00\", \"2020-09-04T04:00:00\", \"2020-09-04T05:00:00\", \"2020-09-04T12:00:00\", \"2020-09-04T20:00:00\", \"2020-09-05T04:00:00\", \"2020-09-05T11:00:00\", \"2020-09-05T12:00:00\", \"2020-09-05T20:00:00\", \"2020-09-06T04:00:00\", \"2020-09-06T05:00:00\", \"2020-09-06T08:00:00\", \"2020-09-14T11:00:00\", \"2020-09-14T21:00:00\", \"2020-09-15T10:00:00\", \"2020-09-15T11:00:00\", \"2020-09-15T19:00:00\", \"2020-09-16T00:00:00\", \"2020-09-16T02:00:00\", \"2020-09-16T12:00:00\", \"2020-09-16T13:00:00\", \"2020-09-16T20:00:00\", \"2020-09-17T04:00:00\", \"2020-09-17T12:00:00\", \"2020-09-17T20:00:00\", \"2020-09-18T03:00:00\", \"2020-09-18T11:00:00\"], \"xaxis\": \"x2\", \"y\": [0.06499999761581421, 0.06499999761581421, 0.06499999761581421, 0.06499999761581421, 0.06499999761581421, 0.06499999761581421, 0.06499999761581421, 0.06499999761581421, 0.06499999761581421, 0.06499999761581421, 0.06499999761581421, 0.06499999761581421, 0.06499999761581421, 0.06499999761581421, 0.06499999761581421, 0.06499999761581421, 0.06499999761581421, 0.06499999761581421, 0.06499999761581421, 0.06499999761581421, 0.06499999761581421, 0.06499999761581421, 0.054999999701976776, 0.054999999701976776, 0.054999999701976776, 0.054999999701976776, 0.054999999701976776, 0.054999999701976776, 0.054999999701976776, 0.054999999701976776, 0.06400000303983688, 0.06400000303983688, 0.06400000303983688, 0.06400000303983688, 0.06400000303983688, 0.06400000303983688, 0.06400000303983688, 0.06400000303983688, 0.06400000303983688, 0.06400000303983688, 0.06400000303983688, 0.06400000303983688, 0.06400000303983688, 0.06400000303983688, 0.06300000101327896], \"yaxis\": \"y2\"}, {\"line\": {\"color\": \"#33C2FF\"}, \"mode\": \"lines\", \"name\": \"LCL \", \"type\": \"scatter\", \"x\": [\"2020-08-29T03:00:00\", \"2020-08-29T12:00:00\", \"2020-08-29T16:00:00\", \"2020-08-29T19:00:00\", \"2020-08-30T03:00:00\", \"2020-08-30T11:00:00\", \"2020-08-30T20:00:00\", \"2020-08-31T11:00:00\", \"2020-08-31T12:00:00\", \"2020-08-31T21:00:00\", \"2020-09-01T04:00:00\", \"2020-09-01T05:00:00\", \"2020-09-01T10:00:00\", \"2020-09-01T11:00:00\", \"2020-09-01T20:00:00\", \"2020-09-02T03:00:00\", \"2020-09-02T04:00:00\", \"2020-09-03T10:00:00\", \"2020-09-03T20:00:00\", \"2020-09-04T04:00:00\", \"2020-09-04T05:00:00\", \"2020-09-04T12:00:00\", \"2020-09-04T20:00:00\", \"2020-09-05T04:00:00\", \"2020-09-05T11:00:00\", \"2020-09-05T12:00:00\", \"2020-09-05T20:00:00\", \"2020-09-06T04:00:00\", \"2020-09-06T05:00:00\", \"2020-09-06T08:00:00\", \"2020-09-14T11:00:00\", \"2020-09-14T21:00:00\", \"2020-09-15T10:00:00\", \"2020-09-15T11:00:00\", \"2020-09-15T19:00:00\", \"2020-09-16T00:00:00\", \"2020-09-16T02:00:00\", \"2020-09-16T12:00:00\", \"2020-09-16T13:00:00\", \"2020-09-16T20:00:00\", \"2020-09-17T04:00:00\", \"2020-09-17T12:00:00\", \"2020-09-17T20:00:00\", \"2020-09-18T03:00:00\", \"2020-09-18T11:00:00\"], \"xaxis\": \"x2\", \"y\": [-0.04500000178813934, -0.04500000178813934, -0.04500000178813934, -0.04500000178813934, -0.04500000178813934, -0.04500000178813934, -0.04500000178813934, -0.04500000178813934, -0.04500000178813934, -0.04500000178813934, -0.04500000178813934, -0.04500000178813934, -0.04500000178813934, -0.04500000178813934, -0.04500000178813934, -0.04500000178813934, -0.04500000178813934, -0.04500000178813934, -0.04500000178813934, -0.04500000178813934, -0.04500000178813934, -0.04500000178813934, -0.0430000014603138, -0.0430000014603138, -0.0430000014603138, -0.0430000014603138, -0.0430000014603138, -0.0430000014603138, -0.0430000014603138, -0.0430000014603138, -0.0430000014603138, -0.0430000014603138, -0.0430000014603138, -0.0430000014603138, -0.0430000014603138, -0.0430000014603138, -0.0430000014603138, -0.0430000014603138, -0.0430000014603138, -0.0430000014603138, -0.0430000014603138, -0.0430000014603138, -0.0430000014603138, -0.0430000014603138, -0.04899999871850014], \"yaxis\": \"y2\"}, {\"line\": {\"color\": \"#33C2FF\"}, \"mode\": \"lines\", \"name\": \"Mean \", \"type\": \"scatter\", \"x\": [\"2020-08-29T03:00:00\", \"2020-08-29T12:00:00\", \"2020-08-29T16:00:00\", \"2020-08-29T19:00:00\", \"2020-08-30T03:00:00\", \"2020-08-30T11:00:00\", \"2020-08-30T20:00:00\", \"2020-08-31T11:00:00\", \"2020-08-31T12:00:00\", \"2020-08-31T21:00:00\", \"2020-09-01T04:00:00\", \"2020-09-01T05:00:00\", \"2020-09-01T10:00:00\", \"2020-09-01T11:00:00\", \"2020-09-01T20:00:00\", \"2020-09-02T03:00:00\", \"2020-09-02T04:00:00\", \"2020-09-03T10:00:00\", \"2020-09-03T20:00:00\", \"2020-09-04T04:00:00\", \"2020-09-04T05:00:00\", \"2020-09-04T12:00:00\", \"2020-09-04T20:00:00\", \"2020-09-05T04:00:00\", \"2020-09-05T11:00:00\", \"2020-09-05T12:00:00\", \"2020-09-05T20:00:00\", \"2020-09-06T04:00:00\", \"2020-09-06T05:00:00\", \"2020-09-06T08:00:00\", \"2020-09-14T11:00:00\", \"2020-09-14T21:00:00\", \"2020-09-15T10:00:00\", \"2020-09-15T11:00:00\", \"2020-09-15T19:00:00\", \"2020-09-16T00:00:00\", \"2020-09-16T02:00:00\", \"2020-09-16T12:00:00\", \"2020-09-16T13:00:00\", \"2020-09-16T20:00:00\", \"2020-09-17T04:00:00\", \"2020-09-17T12:00:00\", \"2020-09-17T20:00:00\", \"2020-09-18T03:00:00\", \"2020-09-18T11:00:00\"], \"xaxis\": \"x2\", \"y\": [0.009999999776482582, 0.009999999776482582, 0.009999999776482582, 0.009999999776482582, 0.009999999776482582, 0.009999999776482582, 0.009999999776482582, 0.009999999776482582, 0.009999999776482582, 0.009999999776482582, 0.009999999776482582, 0.009999999776482582, 0.009999999776482582, 0.009999999776482582, 0.009999999776482582, 0.009999999776482582, 0.009999999776482582, 0.009999999776482582, 0.009999999776482582, 0.009999999776482582, 0.009999999776482582, 0.009999999776482582, 0.006000000052154064, 0.006000000052154064, 0.006000000052154064, 0.006000000052154064, 0.006000000052154064, 0.006000000052154064, 0.006000000052154064, 0.006000000052154064, 0.010999999940395355, 0.010999999940395355, 0.010999999940395355, 0.010999999940395355, 0.010999999940395355, 0.010999999940395355, 0.010999999940395355, 0.010999999940395355, 0.010999999940395355, 0.010999999940395355, 0.010999999940395355, 0.010999999940395355, 0.010999999940395355, 0.010999999940395355, 0.007000000216066837], \"yaxis\": \"y2\"}, {\"line\": {\"color\": \"#4280F5\"}, \"mode\": \"lines+markers\", \"name\": \"mean \", \"type\": \"scatter\", \"x\": [\"2020-08-29T03:00:00\", \"2020-08-29T12:00:00\", \"2020-08-29T16:00:00\", \"2020-08-29T19:00:00\", \"2020-08-30T03:00:00\", \"2020-08-30T11:00:00\", \"2020-08-30T20:00:00\", \"2020-08-31T11:00:00\", \"2020-08-31T12:00:00\", \"2020-08-31T21:00:00\", \"2020-09-01T04:00:00\", \"2020-09-01T05:00:00\", \"2020-09-01T10:00:00\", \"2020-09-01T11:00:00\", \"2020-09-01T20:00:00\", \"2020-09-02T03:00:00\", \"2020-09-02T04:00:00\", \"2020-09-03T10:00:00\", \"2020-09-03T20:00:00\", \"2020-09-04T04:00:00\", \"2020-09-04T05:00:00\", \"2020-09-04T12:00:00\", \"2020-09-04T20:00:00\", \"2020-09-05T04:00:00\", \"2020-09-05T11:00:00\", \"2020-09-05T12:00:00\", \"2020-09-05T20:00:00\", \"2020-09-06T04:00:00\", \"2020-09-06T05:00:00\", \"2020-09-06T08:00:00\", \"2020-09-14T11:00:00\", \"2020-09-14T21:00:00\", \"2020-09-15T10:00:00\", \"2020-09-15T11:00:00\", \"2020-09-15T19:00:00\", \"2020-09-16T00:00:00\", \"2020-09-16T02:00:00\", \"2020-09-16T12:00:00\", \"2020-09-16T13:00:00\", \"2020-09-16T20:00:00\", \"2020-09-17T04:00:00\", \"2020-09-17T12:00:00\", \"2020-09-17T20:00:00\", \"2020-09-18T03:00:00\", \"2020-09-18T11:00:00\"], \"xaxis\": \"x3\", \"y\": [0.0003921568568330258, -0.002508771838620305, -0.00016666662122588605, -0.0009259259677492082, -0.009499999694526196, 0.001687500043772161, -0.0031666667200624943, 0.005642857402563095, 0.003666666802018881, 0.0047111110761761665, 0.0038765431381762028, 0.004433333408087492, 0.005619047675281763, 0.0007222223212011158, 0.0016250000335276127, 0.0016888888785615563, 0.004166666883975267, -0.0014074074570089579, 0.0014761904021725059, -0.0010666667949408293, 0.00013888889225199819, 0.005383333191275597, -0.002955555683001876, 3.9215723518282175e-05, 0.0032307691872119904, 6.208817487918239e-11, -0.0015294118784368038, -0.007703703828155994, -0.00430000014603138, -0.0022083332296460867, -0.00031481479527428746, -0.005824561230838299, 0.007666666526347399, -0.004533333238214254, -0.001117647159844637, -0.008074074052274227, -0.0024166665971279144, -0.004606060683727264, -0.00426666671410203, -0.0002820512745529413, 0.010983332991600037, -0.0028235295321792364, -0.004333333112299442, 0.0007291665533557534, 0.00025925925001502037], \"yaxis\": \"y3\"}, {\"line\": {\"color\": \"#FF5733\"}, \"mode\": \"lines\", \"name\": \"USL \", \"type\": \"scatter\", \"x\": [\"2020-08-29T03:00:00\", \"2020-08-29T12:00:00\", \"2020-08-29T16:00:00\", \"2020-08-29T19:00:00\", \"2020-08-30T03:00:00\", \"2020-08-30T11:00:00\", \"2020-08-30T20:00:00\", \"2020-08-31T11:00:00\", \"2020-08-31T12:00:00\", \"2020-08-31T21:00:00\", \"2020-09-01T04:00:00\", \"2020-09-01T05:00:00\", \"2020-09-01T10:00:00\", \"2020-09-01T11:00:00\", \"2020-09-01T20:00:00\", \"2020-09-02T03:00:00\", \"2020-09-02T04:00:00\", \"2020-09-03T10:00:00\", \"2020-09-03T20:00:00\", \"2020-09-04T04:00:00\", \"2020-09-04T05:00:00\", \"2020-09-04T12:00:00\", \"2020-09-04T20:00:00\", \"2020-09-05T04:00:00\", \"2020-09-05T11:00:00\", \"2020-09-05T12:00:00\", \"2020-09-05T20:00:00\", \"2020-09-06T04:00:00\", \"2020-09-06T05:00:00\", \"2020-09-06T08:00:00\", \"2020-09-14T11:00:00\", \"2020-09-14T21:00:00\", \"2020-09-15T10:00:00\", \"2020-09-15T11:00:00\", \"2020-09-15T19:00:00\", \"2020-09-16T00:00:00\", \"2020-09-16T02:00:00\", \"2020-09-16T12:00:00\", \"2020-09-16T13:00:00\", \"2020-09-16T20:00:00\", \"2020-09-17T04:00:00\", \"2020-09-17T12:00:00\", \"2020-09-17T20:00:00\", \"2020-09-18T03:00:00\", \"2020-09-18T11:00:00\"], \"xaxis\": \"x3\", \"y\": [0.014999999664723873, 0.014999999664723873, 0.014999999664723873, 0.014999999664723873, 0.014999999664723873, 0.014999999664723873, 0.014999999664723873, 0.014999999664723873, 0.014999999664723873, 0.014999999664723873, 0.014999999664723873, 0.014999999664723873, 0.014999999664723873, 0.014999999664723873, 0.014999999664723873, 0.014999999664723873, 0.014999999664723873, 0.014999999664723873, 0.014999999664723873, 0.014999999664723873, 0.014999999664723873, 0.014999999664723873, 0.014999999664723873, 0.014999999664723873, 0.014999999664723873, 0.014999999664723873, 0.014999999664723873, 0.014999999664723873, 0.014999999664723873, 0.014999999664723873, 0.014999999664723873, 0.014999999664723873, 0.014999999664723873, 0.014999999664723873, 0.014999999664723873, 0.014999999664723873, 0.014999999664723873, 0.014999999664723873, 0.014999999664723873, 0.014999999664723873, 0.014999999664723873, 0.014999999664723873, 0.014999999664723873, 0.014999999664723873, 0.014999999664723873], \"yaxis\": \"y3\"}, {\"line\": {\"color\": \"#FF5733\"}, \"mode\": \"lines\", \"name\": \"LSL \", \"type\": \"scatter\", \"x\": [\"2020-08-29T03:00:00\", \"2020-08-29T12:00:00\", \"2020-08-29T16:00:00\", \"2020-08-29T19:00:00\", \"2020-08-30T03:00:00\", \"2020-08-30T11:00:00\", \"2020-08-30T20:00:00\", \"2020-08-31T11:00:00\", \"2020-08-31T12:00:00\", \"2020-08-31T21:00:00\", \"2020-09-01T04:00:00\", \"2020-09-01T05:00:00\", \"2020-09-01T10:00:00\", \"2020-09-01T11:00:00\", \"2020-09-01T20:00:00\", \"2020-09-02T03:00:00\", \"2020-09-02T04:00:00\", \"2020-09-03T10:00:00\", \"2020-09-03T20:00:00\", \"2020-09-04T04:00:00\", \"2020-09-04T05:00:00\", \"2020-09-04T12:00:00\", \"2020-09-04T20:00:00\", \"2020-09-05T04:00:00\", \"2020-09-05T11:00:00\", \"2020-09-05T12:00:00\", \"2020-09-05T20:00:00\", \"2020-09-06T04:00:00\", \"2020-09-06T05:00:00\", \"2020-09-06T08:00:00\", \"2020-09-14T11:00:00\", \"2020-09-14T21:00:00\", \"2020-09-15T10:00:00\", \"2020-09-15T11:00:00\", \"2020-09-15T19:00:00\", \"2020-09-16T00:00:00\", \"2020-09-16T02:00:00\", \"2020-09-16T12:00:00\", \"2020-09-16T13:00:00\", \"2020-09-16T20:00:00\", \"2020-09-17T04:00:00\", \"2020-09-17T12:00:00\", \"2020-09-17T20:00:00\", \"2020-09-18T03:00:00\", \"2020-09-18T11:00:00\"], \"xaxis\": \"x3\", \"y\": [-0.014999999664723873, -0.014999999664723873, -0.014999999664723873, -0.014999999664723873, -0.014999999664723873, -0.014999999664723873, -0.014999999664723873, -0.014999999664723873, -0.014999999664723873, -0.014999999664723873, -0.014999999664723873, -0.014999999664723873, -0.014999999664723873, -0.014999999664723873, -0.014999999664723873, -0.014999999664723873, -0.014999999664723873, -0.014999999664723873, -0.014999999664723873, -0.014999999664723873, -0.014999999664723873, -0.014999999664723873, -0.014999999664723873, -0.014999999664723873, -0.014999999664723873, -0.014999999664723873, -0.014999999664723873, -0.014999999664723873, -0.014999999664723873, -0.014999999664723873, -0.014999999664723873, -0.014999999664723873, -0.014999999664723873, -0.014999999664723873, -0.014999999664723873, -0.014999999664723873, -0.014999999664723873, -0.014999999664723873, -0.014999999664723873, -0.014999999664723873, -0.014999999664723873, -0.014999999664723873, -0.014999999664723873, -0.014999999664723873, -0.014999999664723873], \"yaxis\": \"y3\"}, {\"line\": {\"color\": \"#33C2FF\"}, \"mode\": \"lines\", \"name\": \"UCL \", \"type\": \"scatter\", \"x\": [\"2020-08-29T03:00:00\", \"2020-08-29T12:00:00\", \"2020-08-29T16:00:00\", \"2020-08-29T19:00:00\", \"2020-08-30T03:00:00\", \"2020-08-30T11:00:00\", \"2020-08-30T20:00:00\", \"2020-08-31T11:00:00\", \"2020-08-31T12:00:00\", \"2020-08-31T21:00:00\", \"2020-09-01T04:00:00\", \"2020-09-01T05:00:00\", \"2020-09-01T10:00:00\", \"2020-09-01T11:00:00\", \"2020-09-01T20:00:00\", \"2020-09-02T03:00:00\", \"2020-09-02T04:00:00\", \"2020-09-03T10:00:00\", \"2020-09-03T20:00:00\", \"2020-09-04T04:00:00\", \"2020-09-04T05:00:00\", \"2020-09-04T12:00:00\", \"2020-09-04T20:00:00\", \"2020-09-05T04:00:00\", \"2020-09-05T11:00:00\", \"2020-09-05T12:00:00\", \"2020-09-05T20:00:00\", \"2020-09-06T04:00:00\", \"2020-09-06T05:00:00\", \"2020-09-06T08:00:00\", \"2020-09-14T11:00:00\", \"2020-09-14T21:00:00\", \"2020-09-15T10:00:00\", \"2020-09-15T11:00:00\", \"2020-09-15T19:00:00\", \"2020-09-16T00:00:00\", \"2020-09-16T02:00:00\", \"2020-09-16T12:00:00\", \"2020-09-16T13:00:00\", \"2020-09-16T20:00:00\", \"2020-09-17T04:00:00\", \"2020-09-17T12:00:00\", \"2020-09-17T20:00:00\", \"2020-09-18T03:00:00\", \"2020-09-18T11:00:00\"], \"xaxis\": \"x3\", \"y\": [0.04600000008940697, 0.04600000008940697, 0.04600000008940697, 0.04600000008940697, 0.04600000008940697, 0.04600000008940697, 0.04600000008940697, 0.04600000008940697, 0.04600000008940697, 0.04600000008940697, 0.04600000008940697, 0.04600000008940697, 0.04600000008940697, 0.04600000008940697, 0.04600000008940697, 0.04600000008940697, 0.04600000008940697, 0.04600000008940697, 0.04600000008940697, 0.04600000008940697, 0.04600000008940697, 0.04600000008940697, 0.041999999433755875, 0.041999999433755875, 0.041999999433755875, 0.041999999433755875, 0.041999999433755875, 0.041999999433755875, 0.041999999433755875, 0.041999999433755875, 0.0430000014603138, 0.0430000014603138, 0.0430000014603138, 0.0430000014603138, 0.0430000014603138, 0.0430000014603138, 0.0430000014603138, 0.0430000014603138, 0.0430000014603138, 0.0430000014603138, 0.0430000014603138, 0.0430000014603138, 0.0430000014603138, 0.0430000014603138, 0.03400000184774399], \"yaxis\": \"y3\"}, {\"line\": {\"color\": \"#33C2FF\"}, \"mode\": \"lines\", \"name\": \"LCL \", \"type\": \"scatter\", \"x\": [\"2020-08-29T03:00:00\", \"2020-08-29T12:00:00\", \"2020-08-29T16:00:00\", \"2020-08-29T19:00:00\", \"2020-08-30T03:00:00\", \"2020-08-30T11:00:00\", \"2020-08-30T20:00:00\", \"2020-08-31T11:00:00\", \"2020-08-31T12:00:00\", \"2020-08-31T21:00:00\", \"2020-09-01T04:00:00\", \"2020-09-01T05:00:00\", \"2020-09-01T10:00:00\", \"2020-09-01T11:00:00\", \"2020-09-01T20:00:00\", \"2020-09-02T03:00:00\", \"2020-09-02T04:00:00\", \"2020-09-03T10:00:00\", \"2020-09-03T20:00:00\", \"2020-09-04T04:00:00\", \"2020-09-04T05:00:00\", \"2020-09-04T12:00:00\", \"2020-09-04T20:00:00\", \"2020-09-05T04:00:00\", \"2020-09-05T11:00:00\", \"2020-09-05T12:00:00\", \"2020-09-05T20:00:00\", \"2020-09-06T04:00:00\", \"2020-09-06T05:00:00\", \"2020-09-06T08:00:00\", \"2020-09-14T11:00:00\", \"2020-09-14T21:00:00\", \"2020-09-15T10:00:00\", \"2020-09-15T11:00:00\", \"2020-09-15T19:00:00\", \"2020-09-16T00:00:00\", \"2020-09-16T02:00:00\", \"2020-09-16T12:00:00\", \"2020-09-16T13:00:00\", \"2020-09-16T20:00:00\", \"2020-09-17T04:00:00\", \"2020-09-17T12:00:00\", \"2020-09-17T20:00:00\", \"2020-09-18T03:00:00\", \"2020-09-18T11:00:00\"], \"xaxis\": \"x3\", \"y\": [-0.04399999976158142, -0.04399999976158142, -0.04399999976158142, -0.04399999976158142, -0.04399999976158142, -0.04399999976158142, -0.04399999976158142, -0.04399999976158142, -0.04399999976158142, -0.04399999976158142, -0.04399999976158142, -0.04399999976158142, -0.04399999976158142, -0.04399999976158142, -0.04399999976158142, -0.04399999976158142, -0.04399999976158142, -0.04399999976158142, -0.04399999976158142, -0.04399999976158142, -0.04399999976158142, -0.04399999976158142, -0.04500000178813934, -0.04500000178813934, -0.04500000178813934, -0.04500000178813934, -0.04500000178813934, -0.04500000178813934, -0.04500000178813934, -0.04500000178813934, -0.04399999976158142, -0.04399999976158142, -0.04399999976158142, -0.04399999976158142, -0.04399999976158142, -0.04399999976158142, -0.04399999976158142, -0.04399999976158142, -0.04399999976158142, -0.04399999976158142, -0.04399999976158142, -0.04399999976158142, -0.04399999976158142, -0.04399999976158142, -0.032999999821186066], \"yaxis\": \"y3\"}, {\"line\": {\"color\": \"#33C2FF\"}, \"mode\": \"lines\", \"name\": \"Mean \", \"type\": \"scatter\", \"x\": [\"2020-08-29T03:00:00\", \"2020-08-29T12:00:00\", \"2020-08-29T16:00:00\", \"2020-08-29T19:00:00\", \"2020-08-30T03:00:00\", \"2020-08-30T11:00:00\", \"2020-08-30T20:00:00\", \"2020-08-31T11:00:00\", \"2020-08-31T12:00:00\", \"2020-08-31T21:00:00\", \"2020-09-01T04:00:00\", \"2020-09-01T05:00:00\", \"2020-09-01T10:00:00\", \"2020-09-01T11:00:00\", \"2020-09-01T20:00:00\", \"2020-09-02T03:00:00\", \"2020-09-02T04:00:00\", \"2020-09-03T10:00:00\", \"2020-09-03T20:00:00\", \"2020-09-04T04:00:00\", \"2020-09-04T05:00:00\", \"2020-09-04T12:00:00\", \"2020-09-04T20:00:00\", \"2020-09-05T04:00:00\", \"2020-09-05T11:00:00\", \"2020-09-05T12:00:00\", \"2020-09-05T20:00:00\", \"2020-09-06T04:00:00\", \"2020-09-06T05:00:00\", \"2020-09-06T08:00:00\", \"2020-09-14T11:00:00\", \"2020-09-14T21:00:00\", \"2020-09-15T10:00:00\", \"2020-09-15T11:00:00\", \"2020-09-15T19:00:00\", \"2020-09-16T00:00:00\", \"2020-09-16T02:00:00\", \"2020-09-16T12:00:00\", \"2020-09-16T13:00:00\", \"2020-09-16T20:00:00\", \"2020-09-17T04:00:00\", \"2020-09-17T12:00:00\", \"2020-09-17T20:00:00\", \"2020-09-18T03:00:00\", \"2020-09-18T11:00:00\"], \"xaxis\": \"x3\", \"y\": [0.0010000000474974513, 0.0010000000474974513, 0.0010000000474974513, 0.0010000000474974513, 0.0010000000474974513, 0.0010000000474974513, 0.0010000000474974513, 0.0010000000474974513, 0.0010000000474974513, 0.0010000000474974513, 0.0010000000474974513, 0.0010000000474974513, 0.0010000000474974513, 0.0010000000474974513, 0.0010000000474974513, 0.0010000000474974513, 0.0010000000474974513, 0.0010000000474974513, 0.0010000000474974513, 0.0010000000474974513, 0.0010000000474974513, 0.0010000000474974513, -0.0020000000949949026, -0.0020000000949949026, -0.0020000000949949026, -0.0020000000949949026, -0.0020000000949949026, -0.0020000000949949026, -0.0020000000949949026, -0.0020000000949949026, -0.0010000000474974513, -0.0010000000474974513, -0.0010000000474974513, -0.0010000000474974513, -0.0010000000474974513, -0.0010000000474974513, -0.0010000000474974513, -0.0010000000474974513, -0.0010000000474974513, -0.0010000000474974513, -0.0010000000474974513, -0.0010000000474974513, -0.0010000000474974513, -0.0010000000474974513, 0.0], \"yaxis\": \"y3\"}, {\"line\": {\"color\": \"#4280F5\"}, \"mode\": \"lines+markers\", \"name\": \"mean \", \"type\": \"scatter\", \"x\": [\"2020-08-29T03:00:00\", \"2020-08-29T12:00:00\", \"2020-08-29T16:00:00\", \"2020-08-29T19:00:00\", \"2020-08-30T03:00:00\", \"2020-08-30T11:00:00\", \"2020-08-30T20:00:00\", \"2020-08-31T11:00:00\", \"2020-08-31T12:00:00\", \"2020-08-31T21:00:00\", \"2020-09-01T04:00:00\", \"2020-09-01T05:00:00\", \"2020-09-01T10:00:00\", \"2020-09-01T11:00:00\", \"2020-09-01T20:00:00\", \"2020-09-02T03:00:00\", \"2020-09-02T04:00:00\", \"2020-09-03T10:00:00\", \"2020-09-03T20:00:00\", \"2020-09-04T04:00:00\", \"2020-09-04T05:00:00\", \"2020-09-04T12:00:00\", \"2020-09-04T20:00:00\", \"2020-09-05T04:00:00\", \"2020-09-05T11:00:00\", \"2020-09-05T12:00:00\", \"2020-09-05T20:00:00\", \"2020-09-06T04:00:00\", \"2020-09-06T05:00:00\", \"2020-09-06T08:00:00\", \"2020-09-14T11:00:00\", \"2020-09-14T21:00:00\", \"2020-09-15T10:00:00\", \"2020-09-15T11:00:00\", \"2020-09-15T19:00:00\", \"2020-09-16T00:00:00\", \"2020-09-16T02:00:00\", \"2020-09-16T12:00:00\", \"2020-09-16T13:00:00\", \"2020-09-16T20:00:00\", \"2020-09-17T04:00:00\", \"2020-09-17T12:00:00\", \"2020-09-17T20:00:00\", \"2020-09-18T03:00:00\", \"2020-09-18T11:00:00\"], \"xaxis\": \"x4\", \"y\": [-0.0031960783526301384, 0.000614035117905587, 0.0015833333600312471, 0.0005925925797782838, -0.00447619054466486, -0.0012916666455566883, -0.0063333334401249886, -0.001571428612805903, -0.0017499999376013875, -0.0017111111665144563, 0.0009135802974924445, 0.00029999998514540493, 0.0014761905185878277, -0.0018055555410683155, 0.00035416672471910715, -8.888888987712562e-05, 0.00016666662122588605, -0.0023703703191131353, -0.002928571542724967, -0.0034666666761040688, -2.7777852665167302e-05, 0.00286666676402092, -0.002977777738124132, -0.0009411764913238585, 0.002230769256129861, -0.00026666666963137686, -0.0053137256763875484, -0.0013703703880310059, -0.0025333333760499954, 0.0016666667070239782, -0.0026296295691281557, -0.005228070076555014, 0.00487719289958477, -0.004888888914138079, 0.0007843137136660516, 0.0032592592760920525, -0.0043750000186264515, -0.00433333357796073, -0.0024333333130925894, 7.692313374718651e-05, 0.00860000029206276, -0.004176470451056957, -0.005977777764201164, -0.0022291666828095913, -0.000407407438615337], \"yaxis\": \"y4\"}, {\"line\": {\"color\": \"#FF5733\"}, \"mode\": \"lines\", \"name\": \"USL \", \"type\": \"scatter\", \"x\": [\"2020-08-29T03:00:00\", \"2020-08-29T12:00:00\", \"2020-08-29T16:00:00\", \"2020-08-29T19:00:00\", \"2020-08-30T03:00:00\", \"2020-08-30T11:00:00\", \"2020-08-30T20:00:00\", \"2020-08-31T11:00:00\", \"2020-08-31T12:00:00\", \"2020-08-31T21:00:00\", \"2020-09-01T04:00:00\", \"2020-09-01T05:00:00\", \"2020-09-01T10:00:00\", \"2020-09-01T11:00:00\", \"2020-09-01T20:00:00\", \"2020-09-02T03:00:00\", \"2020-09-02T04:00:00\", \"2020-09-03T10:00:00\", \"2020-09-03T20:00:00\", \"2020-09-04T04:00:00\", \"2020-09-04T05:00:00\", \"2020-09-04T12:00:00\", \"2020-09-04T20:00:00\", \"2020-09-05T04:00:00\", \"2020-09-05T11:00:00\", \"2020-09-05T12:00:00\", \"2020-09-05T20:00:00\", \"2020-09-06T04:00:00\", \"2020-09-06T05:00:00\", \"2020-09-06T08:00:00\", \"2020-09-14T11:00:00\", \"2020-09-14T21:00:00\", \"2020-09-15T10:00:00\", \"2020-09-15T11:00:00\", \"2020-09-15T19:00:00\", \"2020-09-16T00:00:00\", \"2020-09-16T02:00:00\", \"2020-09-16T12:00:00\", \"2020-09-16T13:00:00\", \"2020-09-16T20:00:00\", \"2020-09-17T04:00:00\", \"2020-09-17T12:00:00\", \"2020-09-17T20:00:00\", \"2020-09-18T03:00:00\", \"2020-09-18T11:00:00\"], \"xaxis\": \"x4\", \"y\": [0.014999999664723873, 0.014999999664723873, 0.014999999664723873, 0.014999999664723873, 0.014999999664723873, 0.014999999664723873, 0.014999999664723873, 0.014999999664723873, 0.014999999664723873, 0.014999999664723873, 0.014999999664723873, 0.014999999664723873, 0.014999999664723873, 0.014999999664723873, 0.014999999664723873, 0.014999999664723873, 0.014999999664723873, 0.014999999664723873, 0.014999999664723873, 0.014999999664723873, 0.014999999664723873, 0.014999999664723873, 0.014999999664723873, 0.014999999664723873, 0.014999999664723873, 0.014999999664723873, 0.014999999664723873, 0.014999999664723873, 0.014999999664723873, 0.014999999664723873, 0.014999999664723873, 0.014999999664723873, 0.014999999664723873, 0.014999999664723873, 0.014999999664723873, 0.014999999664723873, 0.014999999664723873, 0.014999999664723873, 0.014999999664723873, 0.014999999664723873, 0.014999999664723873, 0.014999999664723873, 0.014999999664723873, 0.014999999664723873, 0.014999999664723873], \"yaxis\": \"y4\"}, {\"line\": {\"color\": \"#FF5733\"}, \"mode\": \"lines\", \"name\": \"LSL \", \"type\": \"scatter\", \"x\": [\"2020-08-29T03:00:00\", \"2020-08-29T12:00:00\", \"2020-08-29T16:00:00\", \"2020-08-29T19:00:00\", \"2020-08-30T03:00:00\", \"2020-08-30T11:00:00\", \"2020-08-30T20:00:00\", \"2020-08-31T11:00:00\", \"2020-08-31T12:00:00\", \"2020-08-31T21:00:00\", \"2020-09-01T04:00:00\", \"2020-09-01T05:00:00\", \"2020-09-01T10:00:00\", \"2020-09-01T11:00:00\", \"2020-09-01T20:00:00\", \"2020-09-02T03:00:00\", \"2020-09-02T04:00:00\", \"2020-09-03T10:00:00\", \"2020-09-03T20:00:00\", \"2020-09-04T04:00:00\", \"2020-09-04T05:00:00\", \"2020-09-04T12:00:00\", \"2020-09-04T20:00:00\", \"2020-09-05T04:00:00\", \"2020-09-05T11:00:00\", \"2020-09-05T12:00:00\", \"2020-09-05T20:00:00\", \"2020-09-06T04:00:00\", \"2020-09-06T05:00:00\", \"2020-09-06T08:00:00\", \"2020-09-14T11:00:00\", \"2020-09-14T21:00:00\", \"2020-09-15T10:00:00\", \"2020-09-15T11:00:00\", \"2020-09-15T19:00:00\", \"2020-09-16T00:00:00\", \"2020-09-16T02:00:00\", \"2020-09-16T12:00:00\", \"2020-09-16T13:00:00\", \"2020-09-16T20:00:00\", \"2020-09-17T04:00:00\", \"2020-09-17T12:00:00\", \"2020-09-17T20:00:00\", \"2020-09-18T03:00:00\", \"2020-09-18T11:00:00\"], \"xaxis\": \"x4\", \"y\": [-0.014999999664723873, -0.014999999664723873, -0.014999999664723873, -0.014999999664723873, -0.014999999664723873, -0.014999999664723873, -0.014999999664723873, -0.014999999664723873, -0.014999999664723873, -0.014999999664723873, -0.014999999664723873, -0.014999999664723873, -0.014999999664723873, -0.014999999664723873, -0.014999999664723873, -0.014999999664723873, -0.014999999664723873, -0.014999999664723873, -0.014999999664723873, -0.014999999664723873, -0.014999999664723873, -0.014999999664723873, -0.014999999664723873, -0.014999999664723873, -0.014999999664723873, -0.014999999664723873, -0.014999999664723873, -0.014999999664723873, -0.014999999664723873, -0.014999999664723873, -0.014999999664723873, -0.014999999664723873, -0.014999999664723873, -0.014999999664723873, -0.014999999664723873, -0.014999999664723873, -0.014999999664723873, -0.014999999664723873, -0.014999999664723873, -0.014999999664723873, -0.014999999664723873, -0.014999999664723873, -0.014999999664723873, -0.014999999664723873, -0.014999999664723873], \"yaxis\": \"y4\"}, {\"line\": {\"color\": \"#33C2FF\"}, \"mode\": \"lines\", \"name\": \"UCL \", \"type\": \"scatter\", \"x\": [\"2020-08-29T03:00:00\", \"2020-08-29T12:00:00\", \"2020-08-29T16:00:00\", \"2020-08-29T19:00:00\", \"2020-08-30T03:00:00\", \"2020-08-30T11:00:00\", \"2020-08-30T20:00:00\", \"2020-08-31T11:00:00\", \"2020-08-31T12:00:00\", \"2020-08-31T21:00:00\", \"2020-09-01T04:00:00\", \"2020-09-01T05:00:00\", \"2020-09-01T10:00:00\", \"2020-09-01T11:00:00\", \"2020-09-01T20:00:00\", \"2020-09-02T03:00:00\", \"2020-09-02T04:00:00\", \"2020-09-03T10:00:00\", \"2020-09-03T20:00:00\", \"2020-09-04T04:00:00\", \"2020-09-04T05:00:00\", \"2020-09-04T12:00:00\", \"2020-09-04T20:00:00\", \"2020-09-05T04:00:00\", \"2020-09-05T11:00:00\", \"2020-09-05T12:00:00\", \"2020-09-05T20:00:00\", \"2020-09-06T04:00:00\", \"2020-09-06T05:00:00\", \"2020-09-06T08:00:00\", \"2020-09-14T11:00:00\", \"2020-09-14T21:00:00\", \"2020-09-15T10:00:00\", \"2020-09-15T11:00:00\", \"2020-09-15T19:00:00\", \"2020-09-16T00:00:00\", \"2020-09-16T02:00:00\", \"2020-09-16T12:00:00\", \"2020-09-16T13:00:00\", \"2020-09-16T20:00:00\", \"2020-09-17T04:00:00\", \"2020-09-17T12:00:00\", \"2020-09-17T20:00:00\", \"2020-09-18T03:00:00\", \"2020-09-18T11:00:00\"], \"xaxis\": \"x4\", \"y\": [0.02500000037252903, 0.02500000037252903, 0.02500000037252903, 0.02500000037252903, 0.02500000037252903, 0.02500000037252903, 0.02500000037252903, 0.02500000037252903, 0.02500000037252903, 0.02500000037252903, 0.02500000037252903, 0.02500000037252903, 0.02500000037252903, 0.02500000037252903, 0.02500000037252903, 0.02500000037252903, 0.02500000037252903, 0.02500000037252903, 0.02500000037252903, 0.02500000037252903, 0.02500000037252903, 0.02500000037252903, 0.023000000044703484, 0.023000000044703484, 0.023000000044703484, 0.023000000044703484, 0.023000000044703484, 0.023000000044703484, 0.023000000044703484, 0.023000000044703484, 0.026000000536441803, 0.026000000536441803, 0.026000000536441803, 0.026000000536441803, 0.026000000536441803, 0.026000000536441803, 0.026000000536441803, 0.026000000536441803, 0.026000000536441803, 0.026000000536441803, 0.026000000536441803, 0.026000000536441803, 0.026000000536441803, 0.026000000536441803, 0.023000000044703484], \"yaxis\": \"y4\"}, {\"line\": {\"color\": \"#33C2FF\"}, \"mode\": \"lines\", \"name\": \"LCL \", \"type\": \"scatter\", \"x\": [\"2020-08-29T03:00:00\", \"2020-08-29T12:00:00\", \"2020-08-29T16:00:00\", \"2020-08-29T19:00:00\", \"2020-08-30T03:00:00\", \"2020-08-30T11:00:00\", \"2020-08-30T20:00:00\", \"2020-08-31T11:00:00\", \"2020-08-31T12:00:00\", \"2020-08-31T21:00:00\", \"2020-09-01T04:00:00\", \"2020-09-01T05:00:00\", \"2020-09-01T10:00:00\", \"2020-09-01T11:00:00\", \"2020-09-01T20:00:00\", \"2020-09-02T03:00:00\", \"2020-09-02T04:00:00\", \"2020-09-03T10:00:00\", \"2020-09-03T20:00:00\", \"2020-09-04T04:00:00\", \"2020-09-04T05:00:00\", \"2020-09-04T12:00:00\", \"2020-09-04T20:00:00\", \"2020-09-05T04:00:00\", \"2020-09-05T11:00:00\", \"2020-09-05T12:00:00\", \"2020-09-05T20:00:00\", \"2020-09-06T04:00:00\", \"2020-09-06T05:00:00\", \"2020-09-06T08:00:00\", \"2020-09-14T11:00:00\", \"2020-09-14T21:00:00\", \"2020-09-15T10:00:00\", \"2020-09-15T11:00:00\", \"2020-09-15T19:00:00\", \"2020-09-16T00:00:00\", \"2020-09-16T02:00:00\", \"2020-09-16T12:00:00\", \"2020-09-16T13:00:00\", \"2020-09-16T20:00:00\", \"2020-09-17T04:00:00\", \"2020-09-17T12:00:00\", \"2020-09-17T20:00:00\", \"2020-09-18T03:00:00\", \"2020-09-18T11:00:00\"], \"xaxis\": \"x4\", \"y\": [-0.026000000536441803, -0.026000000536441803, -0.026000000536441803, -0.026000000536441803, -0.026000000536441803, -0.026000000536441803, -0.026000000536441803, -0.026000000536441803, -0.026000000536441803, -0.026000000536441803, -0.026000000536441803, -0.026000000536441803, -0.026000000536441803, -0.026000000536441803, -0.026000000536441803, -0.026000000536441803, -0.026000000536441803, -0.026000000536441803, -0.026000000536441803, -0.026000000536441803, -0.026000000536441803, -0.026000000536441803, -0.026000000536441803, -0.026000000536441803, -0.026000000536441803, -0.026000000536441803, -0.026000000536441803, -0.026000000536441803, -0.026000000536441803, -0.026000000536441803, -0.028999999165534973, -0.028999999165534973, -0.028999999165534973, -0.028999999165534973, -0.028999999165534973, -0.028999999165534973, -0.028999999165534973, -0.028999999165534973, -0.028999999165534973, -0.028999999165534973, -0.028999999165534973, -0.028999999165534973, -0.028999999165534973, -0.028999999165534973, -0.024000000208616257], \"yaxis\": \"y4\"}, {\"line\": {\"color\": \"#33C2FF\"}, \"mode\": \"lines\", \"name\": \"Mean \", \"type\": \"scatter\", \"x\": [\"2020-08-29T03:00:00\", \"2020-08-29T12:00:00\", \"2020-08-29T16:00:00\", \"2020-08-29T19:00:00\", \"2020-08-30T03:00:00\", \"2020-08-30T11:00:00\", \"2020-08-30T20:00:00\", \"2020-08-31T11:00:00\", \"2020-08-31T12:00:00\", \"2020-08-31T21:00:00\", \"2020-09-01T04:00:00\", \"2020-09-01T05:00:00\", \"2020-09-01T10:00:00\", \"2020-09-01T11:00:00\", \"2020-09-01T20:00:00\", \"2020-09-02T03:00:00\", \"2020-09-02T04:00:00\", \"2020-09-03T10:00:00\", \"2020-09-03T20:00:00\", \"2020-09-04T04:00:00\", \"2020-09-04T05:00:00\", \"2020-09-04T12:00:00\", \"2020-09-04T20:00:00\", \"2020-09-05T04:00:00\", \"2020-09-05T11:00:00\", \"2020-09-05T12:00:00\", \"2020-09-05T20:00:00\", \"2020-09-06T04:00:00\", \"2020-09-06T05:00:00\", \"2020-09-06T08:00:00\", \"2020-09-14T11:00:00\", \"2020-09-14T21:00:00\", \"2020-09-15T10:00:00\", \"2020-09-15T11:00:00\", \"2020-09-15T19:00:00\", \"2020-09-16T00:00:00\", \"2020-09-16T02:00:00\", \"2020-09-16T12:00:00\", \"2020-09-16T13:00:00\", \"2020-09-16T20:00:00\", \"2020-09-17T04:00:00\", \"2020-09-17T12:00:00\", \"2020-09-17T20:00:00\", \"2020-09-18T03:00:00\", \"2020-09-18T11:00:00\"], \"xaxis\": \"x4\", \"y\": [-0.0010000000474974513, -0.0010000000474974513, -0.0010000000474974513, -0.0010000000474974513, -0.0010000000474974513, -0.0010000000474974513, -0.0010000000474974513, -0.0010000000474974513, -0.0010000000474974513, -0.0010000000474974513, -0.0010000000474974513, -0.0010000000474974513, -0.0010000000474974513, -0.0010000000474974513, -0.0010000000474974513, -0.0010000000474974513, -0.0010000000474974513, -0.0010000000474974513, -0.0010000000474974513, -0.0010000000474974513, -0.0010000000474974513, -0.0010000000474974513, -0.0020000000949949026, -0.0020000000949949026, -0.0020000000949949026, -0.0020000000949949026, -0.0020000000949949026, -0.0020000000949949026, -0.0020000000949949026, -0.0020000000949949026, -0.0010000000474974513, -0.0010000000474974513, -0.0010000000474974513, -0.0010000000474974513, -0.0010000000474974513, -0.0010000000474974513, -0.0010000000474974513, -0.0010000000474974513, -0.0010000000474974513, -0.0010000000474974513, -0.0010000000474974513, -0.0010000000474974513, -0.0010000000474974513, -0.0010000000474974513, 0.0], \"yaxis\": \"y4\"}, {\"line\": {\"color\": \"#4280F5\"}, \"mode\": \"lines+markers\", \"name\": \"mean \", \"type\": \"scatter\", \"x\": [\"2020-08-29T03:00:00\", \"2020-08-29T12:00:00\", \"2020-08-30T03:00:00\", \"2020-08-30T11:00:00\", \"2020-08-31T11:00:00\", \"2020-08-31T21:00:00\", \"2020-09-01T04:00:00\", \"2020-09-01T05:00:00\", \"2020-09-01T11:00:00\", \"2020-09-01T20:00:00\", \"2020-09-02T03:00:00\", \"2020-09-03T10:00:00\", \"2020-09-03T20:00:00\", \"2020-09-04T05:00:00\", \"2020-09-04T12:00:00\", \"2020-09-04T20:00:00\", \"2020-09-05T04:00:00\", \"2020-09-05T11:00:00\", \"2020-09-05T20:00:00\", \"2020-09-06T04:00:00\", \"2020-09-06T05:00:00\", \"2020-09-06T08:00:00\", \"2020-09-14T11:00:00\", \"2020-09-14T21:00:00\", \"2020-09-15T11:00:00\", \"2020-09-15T19:00:00\", \"2020-09-16T00:00:00\", \"2020-09-16T12:00:00\", \"2020-09-16T13:00:00\", \"2020-09-16T20:00:00\", \"2020-09-17T04:00:00\", \"2020-09-17T12:00:00\", \"2020-09-17T20:00:00\", \"2020-09-18T03:00:00\", \"2020-09-18T11:00:00\"], \"xaxis\": \"x5\", \"y\": [3.816333293914795, 3.8401665687561035, 3.817333221435547, 3.840222120285034, 3.822666645050049, 3.822666645050049, 3.8326666355133057, 3.8329999446868896, 3.822333335876465, 3.8396666049957275, 3.8296666145324707, 3.817166566848755, 3.8352222442626953, 3.828111171722412, 3.8191111087799072, 3.8565001487731934, 3.8299999237060547, 3.817333221435547, 3.8456666469573975, 3.8324999809265137, 3.8386666774749756, 3.817333221435547, 3.820333242416382, 3.825833320617676, 3.827666759490967, 3.8266665935516357, 3.815166711807251, 3.8320000171661377, 3.8339998722076416, 3.8491666316986084, 3.8184444904327393, 3.8318333625793457, 3.8298332691192627, 3.818666696548462, 3.817166805267334], \"yaxis\": \"y5\"}, {\"line\": {\"color\": \"#FF5733\"}, \"mode\": \"lines\", \"name\": \"USL \", \"type\": \"scatter\", \"x\": [\"2020-08-29T03:00:00\", \"2020-08-29T12:00:00\", \"2020-08-30T03:00:00\", \"2020-08-30T11:00:00\", \"2020-08-31T11:00:00\", \"2020-08-31T21:00:00\", \"2020-09-01T04:00:00\", \"2020-09-01T05:00:00\", \"2020-09-01T11:00:00\", \"2020-09-01T20:00:00\", \"2020-09-02T03:00:00\", \"2020-09-03T10:00:00\", \"2020-09-03T20:00:00\", \"2020-09-04T05:00:00\", \"2020-09-04T12:00:00\", \"2020-09-04T20:00:00\", \"2020-09-05T04:00:00\", \"2020-09-05T11:00:00\", \"2020-09-05T20:00:00\", \"2020-09-06T04:00:00\", \"2020-09-06T05:00:00\", \"2020-09-06T08:00:00\", \"2020-09-14T11:00:00\", \"2020-09-14T21:00:00\", \"2020-09-15T11:00:00\", \"2020-09-15T19:00:00\", \"2020-09-16T00:00:00\", \"2020-09-16T12:00:00\", \"2020-09-16T13:00:00\", \"2020-09-16T20:00:00\", \"2020-09-17T04:00:00\", \"2020-09-17T12:00:00\", \"2020-09-17T20:00:00\", \"2020-09-18T03:00:00\", \"2020-09-18T11:00:00\"], \"xaxis\": \"x5\", \"y\": [3.880000114440918, 3.880000114440918, 3.880000114440918, 3.880000114440918, 3.880000114440918, 3.880000114440918, 3.880000114440918, 3.880000114440918, 3.880000114440918, 3.880000114440918, 3.880000114440918, 3.880000114440918, 3.880000114440918, 3.880000114440918, 3.880000114440918, 3.880000114440918, 3.880000114440918, 3.880000114440918, 3.880000114440918, 3.880000114440918, 3.880000114440918, 3.880000114440918, 3.880000114440918, 3.880000114440918, 3.880000114440918, 3.880000114440918, 3.880000114440918, 3.880000114440918, 3.880000114440918, 3.880000114440918, 3.880000114440918, 3.880000114440918, 3.880000114440918, 3.880000114440918, 3.880000114440918], \"yaxis\": \"y5\"}, {\"line\": {\"color\": \"#FF5733\"}, \"mode\": \"lines\", \"name\": \"LSL \", \"type\": \"scatter\", \"x\": [\"2020-08-29T03:00:00\", \"2020-08-29T12:00:00\", \"2020-08-30T03:00:00\", \"2020-08-30T11:00:00\", \"2020-08-31T11:00:00\", \"2020-08-31T21:00:00\", \"2020-09-01T04:00:00\", \"2020-09-01T05:00:00\", \"2020-09-01T11:00:00\", \"2020-09-01T20:00:00\", \"2020-09-02T03:00:00\", \"2020-09-03T10:00:00\", \"2020-09-03T20:00:00\", \"2020-09-04T05:00:00\", \"2020-09-04T12:00:00\", \"2020-09-04T20:00:00\", \"2020-09-05T04:00:00\", \"2020-09-05T11:00:00\", \"2020-09-05T20:00:00\", \"2020-09-06T04:00:00\", \"2020-09-06T05:00:00\", \"2020-09-06T08:00:00\", \"2020-09-14T11:00:00\", \"2020-09-14T21:00:00\", \"2020-09-15T11:00:00\", \"2020-09-15T19:00:00\", \"2020-09-16T00:00:00\", \"2020-09-16T12:00:00\", \"2020-09-16T13:00:00\", \"2020-09-16T20:00:00\", \"2020-09-17T04:00:00\", \"2020-09-17T12:00:00\", \"2020-09-17T20:00:00\", \"2020-09-18T03:00:00\", \"2020-09-18T11:00:00\"], \"xaxis\": \"x5\", \"y\": [3.7799999713897705, 3.7799999713897705, 3.7799999713897705, 3.7799999713897705, 3.7799999713897705, 3.7799999713897705, 3.7799999713897705, 3.7799999713897705, 3.7799999713897705, 3.7799999713897705, 3.7799999713897705, 3.7799999713897705, 3.7799999713897705, 3.7799999713897705, 3.7799999713897705, 3.7799999713897705, 3.7799999713897705, 3.7799999713897705, 3.7799999713897705, 3.7799999713897705, 3.7799999713897705, 3.7799999713897705, 3.7799999713897705, 3.7799999713897705, 3.7799999713897705, 3.7799999713897705, 3.7799999713897705, 3.7799999713897705, 3.7799999713897705, 3.7799999713897705, 3.7799999713897705, 3.7799999713897705, 3.7799999713897705, 3.7799999713897705, 3.7799999713897705], \"yaxis\": \"y5\"}, {\"line\": {\"color\": \"#33C2FF\"}, \"mode\": \"lines\", \"name\": \"UCL \", \"type\": \"scatter\", \"x\": [\"2020-08-29T03:00:00\", \"2020-08-29T12:00:00\", \"2020-08-30T03:00:00\", \"2020-08-30T11:00:00\", \"2020-08-31T11:00:00\", \"2020-08-31T21:00:00\", \"2020-09-01T04:00:00\", \"2020-09-01T05:00:00\", \"2020-09-01T11:00:00\", \"2020-09-01T20:00:00\", \"2020-09-02T03:00:00\", \"2020-09-03T10:00:00\", \"2020-09-03T20:00:00\", \"2020-09-04T05:00:00\", \"2020-09-04T12:00:00\", \"2020-09-04T20:00:00\", \"2020-09-05T04:00:00\", \"2020-09-05T11:00:00\", \"2020-09-05T20:00:00\", \"2020-09-06T04:00:00\", \"2020-09-06T05:00:00\", \"2020-09-06T08:00:00\", \"2020-09-14T11:00:00\", \"2020-09-14T21:00:00\", \"2020-09-15T11:00:00\", \"2020-09-15T19:00:00\", \"2020-09-16T00:00:00\", \"2020-09-16T12:00:00\", \"2020-09-16T13:00:00\", \"2020-09-16T20:00:00\", \"2020-09-17T04:00:00\", \"2020-09-17T12:00:00\", \"2020-09-17T20:00:00\", \"2020-09-18T03:00:00\", \"2020-09-18T11:00:00\"], \"xaxis\": \"x5\", \"y\": [3.869999885559082, 3.869999885559082, 3.869999885559082, 3.869999885559082, 3.869999885559082, 3.869999885559082, 3.869999885559082, 3.869999885559082, 3.869999885559082, 3.869999885559082, 3.869999885559082, 3.869999885559082, 3.869999885559082, 3.869999885559082, 3.869999885559082, 3.88700008392334, 3.88700008392334, 3.88700008392334, 3.88700008392334, 3.88700008392334, 3.88700008392334, 3.88700008392334, 3.865999937057495, 3.865999937057495, 3.865999937057495, 3.865999937057495, 3.865999937057495, 3.865999937057495, 3.865999937057495, 3.865999937057495, 3.865999937057495, 3.865999937057495, 3.865999937057495, 3.865999937057495, 3.8959999084472656], \"yaxis\": \"y5\"}, {\"line\": {\"color\": \"#33C2FF\"}, \"mode\": \"lines\", \"name\": \"LCL \", \"type\": \"scatter\", \"x\": [\"2020-08-29T03:00:00\", \"2020-08-29T12:00:00\", \"2020-08-30T03:00:00\", \"2020-08-30T11:00:00\", \"2020-08-31T11:00:00\", \"2020-08-31T21:00:00\", \"2020-09-01T04:00:00\", \"2020-09-01T05:00:00\", \"2020-09-01T11:00:00\", \"2020-09-01T20:00:00\", \"2020-09-02T03:00:00\", \"2020-09-03T10:00:00\", \"2020-09-03T20:00:00\", \"2020-09-04T05:00:00\", \"2020-09-04T12:00:00\", \"2020-09-04T20:00:00\", \"2020-09-05T04:00:00\", \"2020-09-05T11:00:00\", \"2020-09-05T20:00:00\", \"2020-09-06T04:00:00\", \"2020-09-06T05:00:00\", \"2020-09-06T08:00:00\", \"2020-09-14T11:00:00\", \"2020-09-14T21:00:00\", \"2020-09-15T11:00:00\", \"2020-09-15T19:00:00\", \"2020-09-16T00:00:00\", \"2020-09-16T12:00:00\", \"2020-09-16T13:00:00\", \"2020-09-16T20:00:00\", \"2020-09-17T04:00:00\", \"2020-09-17T12:00:00\", \"2020-09-17T20:00:00\", \"2020-09-18T03:00:00\", \"2020-09-18T11:00:00\"], \"xaxis\": \"x5\", \"y\": [3.7860000133514404, 3.7860000133514404, 3.7860000133514404, 3.7860000133514404, 3.7860000133514404, 3.7860000133514404, 3.7860000133514404, 3.7860000133514404, 3.7860000133514404, 3.7860000133514404, 3.7860000133514404, 3.7860000133514404, 3.7860000133514404, 3.7860000133514404, 3.7860000133514404, 3.7829999923706055, 3.7829999923706055, 3.7829999923706055, 3.7829999923706055, 3.7829999923706055, 3.7829999923706055, 3.7829999923706055, 3.7869999408721924, 3.7869999408721924, 3.7869999408721924, 3.7869999408721924, 3.7869999408721924, 3.7869999408721924, 3.7869999408721924, 3.7869999408721924, 3.7869999408721924, 3.7869999408721924, 3.7869999408721924, 3.7869999408721924, 3.73799991607666], \"yaxis\": \"y5\"}, {\"line\": {\"color\": \"#33C2FF\"}, \"mode\": \"lines\", \"name\": \"Mean \", \"type\": \"scatter\", \"x\": [\"2020-08-29T03:00:00\", \"2020-08-29T12:00:00\", \"2020-08-30T03:00:00\", \"2020-08-30T11:00:00\", \"2020-08-31T11:00:00\", \"2020-08-31T21:00:00\", \"2020-09-01T04:00:00\", \"2020-09-01T05:00:00\", \"2020-09-01T11:00:00\", \"2020-09-01T20:00:00\", \"2020-09-02T03:00:00\", \"2020-09-03T10:00:00\", \"2020-09-03T20:00:00\", \"2020-09-04T05:00:00\", \"2020-09-04T12:00:00\", \"2020-09-04T20:00:00\", \"2020-09-05T04:00:00\", \"2020-09-05T11:00:00\", \"2020-09-05T20:00:00\", \"2020-09-06T04:00:00\", \"2020-09-06T05:00:00\", \"2020-09-06T08:00:00\", \"2020-09-14T11:00:00\", \"2020-09-14T21:00:00\", \"2020-09-15T11:00:00\", \"2020-09-15T19:00:00\", \"2020-09-16T00:00:00\", \"2020-09-16T12:00:00\", \"2020-09-16T13:00:00\", \"2020-09-16T20:00:00\", \"2020-09-17T04:00:00\", \"2020-09-17T12:00:00\", \"2020-09-17T20:00:00\", \"2020-09-18T03:00:00\", \"2020-09-18T11:00:00\"], \"xaxis\": \"x5\", \"y\": [3.828000068664551, 3.828000068664551, 3.828000068664551, 3.828000068664551, 3.828000068664551, 3.828000068664551, 3.828000068664551, 3.828000068664551, 3.828000068664551, 3.828000068664551, 3.828000068664551, 3.828000068664551, 3.828000068664551, 3.828000068664551, 3.828000068664551, 3.8350000381469727, 3.8350000381469727, 3.8350000381469727, 3.8350000381469727, 3.8350000381469727, 3.8350000381469727, 3.8350000381469727, 3.8269999027252197, 3.8269999027252197, 3.8269999027252197, 3.8269999027252197, 3.8269999027252197, 3.8269999027252197, 3.8269999027252197, 3.8269999027252197, 3.8269999027252197, 3.8269999027252197, 3.8269999027252197, 3.8269999027252197, 3.816999912261963], \"yaxis\": \"y5\"}],\n",
              "                        {\"annotations\": [{\"font\": {\"size\": 16}, \"showarrow\": false, \"text\": \"Test l\\u1ef1c/\\n Shear force Cp: nan Pp: nan Cpk: 0.54 Ppk: 0.4\", \"x\": 0.5, \"xanchor\": \"center\", \"xref\": \"paper\", \"y\": 1.0, \"yanchor\": \"bottom\", \"yref\": \"paper\"}, {\"font\": {\"size\": 16}, \"showarrow\": false, \"text\": \"Dim B Cp: 0.64 Pp: 0.56 Cpk: 0.41 Ppk: 0.36\", \"x\": 0.5, \"xanchor\": \"center\", \"xref\": \"paper\", \"y\": 0.78, \"yanchor\": \"bottom\", \"yref\": \"paper\"}, {\"font\": {\"size\": 16}, \"showarrow\": false, \"text\": \"Dim C1 Cp: 0.31 Pp: 0.34 Cpk: 0.29 Ppk: 0.32\", \"x\": 0.5, \"xanchor\": \"center\", \"xref\": \"paper\", \"y\": 0.56, \"yanchor\": \"bottom\", \"yref\": \"paper\"}, {\"font\": {\"size\": 16}, \"showarrow\": false, \"text\": \"Dim C2 Cp: 0.61 Pp: 0.58 Cpk: 0.46 Ppk: 0.44\", \"x\": 0.5, \"xanchor\": \"center\", \"xref\": \"paper\", \"y\": 0.33999999999999997, \"yanchor\": \"bottom\", \"yref\": \"paper\"}, {\"font\": {\"size\": 16}, \"showarrow\": false, \"text\": \"Dim A Cp: 1.76 Pp: 1.11 Cpk: 1.62 Ppk: 1.02\", \"x\": 0.5, \"xanchor\": \"center\", \"xref\": \"paper\", \"y\": 0.12, \"yanchor\": \"bottom\", \"yref\": \"paper\"}], \"height\": 1000, \"template\": {\"data\": {\"bar\": [{\"error_x\": {\"color\": \"#2a3f5f\"}, \"error_y\": {\"color\": \"#2a3f5f\"}, \"marker\": {\"line\": {\"color\": \"#E5ECF6\", \"width\": 0.5}}, \"type\": \"bar\"}], \"barpolar\": [{\"marker\": {\"line\": {\"color\": \"#E5ECF6\", \"width\": 0.5}}, \"type\": \"barpolar\"}], \"carpet\": [{\"aaxis\": {\"endlinecolor\": \"#2a3f5f\", \"gridcolor\": \"white\", \"linecolor\": \"white\", \"minorgridcolor\": \"white\", \"startlinecolor\": \"#2a3f5f\"}, \"baxis\": {\"endlinecolor\": \"#2a3f5f\", \"gridcolor\": \"white\", \"linecolor\": \"white\", \"minorgridcolor\": \"white\", \"startlinecolor\": \"#2a3f5f\"}, \"type\": \"carpet\"}], \"choropleth\": [{\"colorbar\": {\"outlinewidth\": 0, \"ticks\": \"\"}, \"type\": \"choropleth\"}], \"contour\": [{\"colorbar\": {\"outlinewidth\": 0, \"ticks\": \"\"}, \"colorscale\": [[0.0, \"#0d0887\"], [0.1111111111111111, \"#46039f\"], [0.2222222222222222, \"#7201a8\"], [0.3333333333333333, \"#9c179e\"], [0.4444444444444444, \"#bd3786\"], [0.5555555555555556, \"#d8576b\"], [0.6666666666666666, \"#ed7953\"], [0.7777777777777778, \"#fb9f3a\"], [0.8888888888888888, \"#fdca26\"], [1.0, \"#f0f921\"]], \"type\": \"contour\"}], \"contourcarpet\": [{\"colorbar\": {\"outlinewidth\": 0, \"ticks\": \"\"}, \"type\": \"contourcarpet\"}], \"heatmap\": [{\"colorbar\": {\"outlinewidth\": 0, \"ticks\": \"\"}, \"colorscale\": [[0.0, \"#0d0887\"], [0.1111111111111111, \"#46039f\"], [0.2222222222222222, \"#7201a8\"], [0.3333333333333333, \"#9c179e\"], [0.4444444444444444, \"#bd3786\"], [0.5555555555555556, \"#d8576b\"], [0.6666666666666666, \"#ed7953\"], [0.7777777777777778, \"#fb9f3a\"], [0.8888888888888888, \"#fdca26\"], [1.0, \"#f0f921\"]], \"type\": \"heatmap\"}], \"heatmapgl\": [{\"colorbar\": {\"outlinewidth\": 0, \"ticks\": \"\"}, \"colorscale\": [[0.0, \"#0d0887\"], [0.1111111111111111, \"#46039f\"], [0.2222222222222222, \"#7201a8\"], [0.3333333333333333, \"#9c179e\"], [0.4444444444444444, \"#bd3786\"], [0.5555555555555556, \"#d8576b\"], [0.6666666666666666, \"#ed7953\"], [0.7777777777777778, \"#fb9f3a\"], [0.8888888888888888, \"#fdca26\"], [1.0, \"#f0f921\"]], \"type\": \"heatmapgl\"}], \"histogram\": [{\"marker\": {\"colorbar\": {\"outlinewidth\": 0, \"ticks\": \"\"}}, \"type\": \"histogram\"}], \"histogram2d\": [{\"colorbar\": {\"outlinewidth\": 0, \"ticks\": \"\"}, \"colorscale\": [[0.0, \"#0d0887\"], [0.1111111111111111, \"#46039f\"], [0.2222222222222222, \"#7201a8\"], [0.3333333333333333, \"#9c179e\"], [0.4444444444444444, \"#bd3786\"], [0.5555555555555556, \"#d8576b\"], [0.6666666666666666, \"#ed7953\"], [0.7777777777777778, \"#fb9f3a\"], [0.8888888888888888, \"#fdca26\"], [1.0, \"#f0f921\"]], \"type\": \"histogram2d\"}], \"histogram2dcontour\": [{\"colorbar\": {\"outlinewidth\": 0, \"ticks\": \"\"}, \"colorscale\": [[0.0, \"#0d0887\"], [0.1111111111111111, \"#46039f\"], [0.2222222222222222, \"#7201a8\"], [0.3333333333333333, \"#9c179e\"], [0.4444444444444444, \"#bd3786\"], [0.5555555555555556, \"#d8576b\"], [0.6666666666666666, \"#ed7953\"], [0.7777777777777778, \"#fb9f3a\"], [0.8888888888888888, \"#fdca26\"], [1.0, \"#f0f921\"]], \"type\": \"histogram2dcontour\"}], \"mesh3d\": [{\"colorbar\": {\"outlinewidth\": 0, \"ticks\": \"\"}, \"type\": \"mesh3d\"}], \"parcoords\": [{\"line\": {\"colorbar\": {\"outlinewidth\": 0, \"ticks\": \"\"}}, \"type\": \"parcoords\"}], \"pie\": [{\"automargin\": true, \"type\": \"pie\"}], \"scatter\": [{\"marker\": {\"colorbar\": {\"outlinewidth\": 0, \"ticks\": \"\"}}, \"type\": \"scatter\"}], \"scatter3d\": [{\"line\": {\"colorbar\": {\"outlinewidth\": 0, \"ticks\": \"\"}}, \"marker\": {\"colorbar\": {\"outlinewidth\": 0, \"ticks\": \"\"}}, \"type\": \"scatter3d\"}], \"scattercarpet\": [{\"marker\": {\"colorbar\": {\"outlinewidth\": 0, \"ticks\": \"\"}}, \"type\": \"scattercarpet\"}], \"scattergeo\": [{\"marker\": {\"colorbar\": {\"outlinewidth\": 0, \"ticks\": \"\"}}, \"type\": \"scattergeo\"}], \"scattergl\": [{\"marker\": {\"colorbar\": {\"outlinewidth\": 0, \"ticks\": \"\"}}, \"type\": \"scattergl\"}], \"scattermapbox\": [{\"marker\": {\"colorbar\": {\"outlinewidth\": 0, \"ticks\": \"\"}}, \"type\": \"scattermapbox\"}], \"scatterpolar\": [{\"marker\": {\"colorbar\": {\"outlinewidth\": 0, \"ticks\": \"\"}}, \"type\": \"scatterpolar\"}], \"scatterpolargl\": [{\"marker\": {\"colorbar\": {\"outlinewidth\": 0, \"ticks\": \"\"}}, \"type\": \"scatterpolargl\"}], \"scatterternary\": [{\"marker\": {\"colorbar\": {\"outlinewidth\": 0, \"ticks\": \"\"}}, \"type\": \"scatterternary\"}], \"surface\": [{\"colorbar\": {\"outlinewidth\": 0, \"ticks\": \"\"}, \"colorscale\": [[0.0, \"#0d0887\"], [0.1111111111111111, \"#46039f\"], [0.2222222222222222, \"#7201a8\"], [0.3333333333333333, \"#9c179e\"], [0.4444444444444444, \"#bd3786\"], [0.5555555555555556, \"#d8576b\"], [0.6666666666666666, \"#ed7953\"], [0.7777777777777778, \"#fb9f3a\"], [0.8888888888888888, \"#fdca26\"], [1.0, \"#f0f921\"]], \"type\": \"surface\"}], \"table\": [{\"cells\": {\"fill\": {\"color\": \"#EBF0F8\"}, \"line\": {\"color\": \"white\"}}, \"header\": {\"fill\": {\"color\": \"#C8D4E3\"}, \"line\": {\"color\": \"white\"}}, \"type\": \"table\"}]}, \"layout\": {\"annotationdefaults\": {\"arrowcolor\": \"#2a3f5f\", \"arrowhead\": 0, \"arrowwidth\": 1}, \"coloraxis\": {\"colorbar\": {\"outlinewidth\": 0, \"ticks\": \"\"}}, \"colorscale\": {\"diverging\": [[0, \"#8e0152\"], [0.1, \"#c51b7d\"], [0.2, \"#de77ae\"], [0.3, \"#f1b6da\"], [0.4, \"#fde0ef\"], [0.5, \"#f7f7f7\"], [0.6, \"#e6f5d0\"], [0.7, \"#b8e186\"], [0.8, \"#7fbc41\"], [0.9, \"#4d9221\"], [1, \"#276419\"]], \"sequential\": [[0.0, \"#0d0887\"], [0.1111111111111111, \"#46039f\"], [0.2222222222222222, \"#7201a8\"], [0.3333333333333333, \"#9c179e\"], [0.4444444444444444, \"#bd3786\"], [0.5555555555555556, \"#d8576b\"], [0.6666666666666666, \"#ed7953\"], [0.7777777777777778, \"#fb9f3a\"], [0.8888888888888888, \"#fdca26\"], [1.0, \"#f0f921\"]], \"sequentialminus\": [[0.0, \"#0d0887\"], [0.1111111111111111, \"#46039f\"], [0.2222222222222222, \"#7201a8\"], [0.3333333333333333, \"#9c179e\"], [0.4444444444444444, \"#bd3786\"], [0.5555555555555556, \"#d8576b\"], [0.6666666666666666, \"#ed7953\"], [0.7777777777777778, \"#fb9f3a\"], [0.8888888888888888, \"#fdca26\"], [1.0, \"#f0f921\"]]}, \"colorway\": [\"#636efa\", \"#EF553B\", \"#00cc96\", \"#ab63fa\", \"#FFA15A\", \"#19d3f3\", \"#FF6692\", \"#B6E880\", \"#FF97FF\", \"#FECB52\"], \"font\": {\"color\": \"#2a3f5f\"}, \"geo\": {\"bgcolor\": \"white\", \"lakecolor\": \"white\", \"landcolor\": \"#E5ECF6\", \"showlakes\": true, \"showland\": true, \"subunitcolor\": \"white\"}, \"hoverlabel\": {\"align\": \"left\"}, \"hovermode\": \"closest\", \"mapbox\": {\"style\": \"light\"}, \"paper_bgcolor\": \"white\", \"plot_bgcolor\": \"#E5ECF6\", \"polar\": {\"angularaxis\": {\"gridcolor\": \"white\", \"linecolor\": \"white\", \"ticks\": \"\"}, \"bgcolor\": \"#E5ECF6\", \"radialaxis\": {\"gridcolor\": \"white\", \"linecolor\": \"white\", \"ticks\": \"\"}}, \"scene\": {\"xaxis\": {\"backgroundcolor\": \"#E5ECF6\", \"gridcolor\": \"white\", \"gridwidth\": 2, \"linecolor\": \"white\", \"showbackground\": true, \"ticks\": \"\", \"zerolinecolor\": \"white\"}, \"yaxis\": {\"backgroundcolor\": \"#E5ECF6\", \"gridcolor\": \"white\", \"gridwidth\": 2, \"linecolor\": \"white\", \"showbackground\": true, \"ticks\": \"\", \"zerolinecolor\": \"white\"}, \"zaxis\": {\"backgroundcolor\": \"#E5ECF6\", \"gridcolor\": \"white\", \"gridwidth\": 2, \"linecolor\": \"white\", \"showbackground\": true, \"ticks\": \"\", \"zerolinecolor\": \"white\"}}, \"shapedefaults\": {\"line\": {\"color\": \"#2a3f5f\"}}, \"ternary\": {\"aaxis\": {\"gridcolor\": \"white\", \"linecolor\": \"white\", \"ticks\": \"\"}, \"baxis\": {\"gridcolor\": \"white\", \"linecolor\": \"white\", \"ticks\": \"\"}, \"bgcolor\": \"#E5ECF6\", \"caxis\": {\"gridcolor\": \"white\", \"linecolor\": \"white\", \"ticks\": \"\"}}, \"title\": {\"x\": 0.05}, \"xaxis\": {\"automargin\": true, \"gridcolor\": \"white\", \"linecolor\": \"white\", \"ticks\": \"\", \"title\": {\"standoff\": 15}, \"zerolinecolor\": \"white\", \"zerolinewidth\": 2}, \"yaxis\": {\"automargin\": true, \"gridcolor\": \"white\", \"linecolor\": \"white\", \"ticks\": \"\", \"title\": {\"standoff\": 15}, \"zerolinecolor\": \"white\", \"zerolinewidth\": 2}}}, \"title\": {\"text\": \"Process: 26802- gluing coil\"}, \"width\": 1200, \"xaxis\": {\"anchor\": \"y\", \"domain\": [0.0, 1.0]}, \"xaxis2\": {\"anchor\": \"y2\", \"domain\": [0.0, 1.0]}, \"xaxis3\": {\"anchor\": \"y3\", \"domain\": [0.0, 1.0]}, \"xaxis4\": {\"anchor\": \"y4\", \"domain\": [0.0, 1.0]}, \"xaxis5\": {\"anchor\": \"y5\", \"domain\": [0.0, 1.0]}, \"yaxis\": {\"anchor\": \"x\", \"domain\": [0.88, 1.0]}, \"yaxis2\": {\"anchor\": \"x2\", \"domain\": [0.66, 0.78]}, \"yaxis3\": {\"anchor\": \"x3\", \"domain\": [0.44, 0.56]}, \"yaxis4\": {\"anchor\": \"x4\", \"domain\": [0.22, 0.33999999999999997]}, \"yaxis5\": {\"anchor\": \"x5\", \"domain\": [0.0, 0.12]}},\n",
              "                        {\"responsive\": true}\n",
              "                    ).then(function(){\n",
              "                            \n",
              "var gd = document.getElementById('37cbaf48-0574-4302-a2e6-a3aa07226c6b');\n",
              "var x = new MutationObserver(function (mutations, observer) {{\n",
              "        var display = window.getComputedStyle(gd).display;\n",
              "        if (!display || display === 'none') {{\n",
              "            console.log([gd, 'removed!']);\n",
              "            Plotly.purge(gd);\n",
              "            observer.disconnect();\n",
              "        }}\n",
              "}});\n",
              "\n",
              "// Listen for the removal of the full notebook cells\n",
              "var notebookContainer = gd.closest('#notebook-container');\n",
              "if (notebookContainer) {{\n",
              "    x.observe(notebookContainer, {childList: true});\n",
              "}}\n",
              "\n",
              "// Listen for the clearing of the current output cell\n",
              "var outputEl = gd.closest('.output');\n",
              "if (outputEl) {{\n",
              "    x.observe(outputEl, {childList: true});\n",
              "}}\n",
              "\n",
              "                        })\n",
              "                };\n",
              "                \n",
              "            </script>\n",
              "        </div>\n",
              "</body>\n",
              "</html>"
            ]
          },
          "metadata": {
            "tags": []
          }
        },
        {
          "output_type": "display_data",
          "data": {
            "text/html": [
              "<html>\n",
              "<head><meta charset=\"utf-8\" /></head>\n",
              "<body>\n",
              "    <div>\n",
              "            <script src=\"https://cdnjs.cloudflare.com/ajax/libs/mathjax/2.7.5/MathJax.js?config=TeX-AMS-MML_SVG\"></script><script type=\"text/javascript\">if (window.MathJax) {MathJax.Hub.Config({SVG: {font: \"STIX-Web\"}});}</script>\n",
              "                <script type=\"text/javascript\">window.PlotlyConfig = {MathJaxConfig: 'local'};</script>\n",
              "        <script src=\"https://cdn.plot.ly/plotly-latest.min.js\"></script>    \n",
              "            <div id=\"759d2e8b-e08d-4eaf-b53c-c207d7e65f3f\" class=\"plotly-graph-div\" style=\"height:300px; width:1200px;\"></div>\n",
              "            <script type=\"text/javascript\">\n",
              "                \n",
              "                    window.PLOTLYENV=window.PLOTLYENV || {};\n",
              "                    \n",
              "                if (document.getElementById(\"759d2e8b-e08d-4eaf-b53c-c207d7e65f3f\")) {\n",
              "                    Plotly.newPlot(\n",
              "                        '759d2e8b-e08d-4eaf-b53c-c207d7e65f3f',\n",
              "                        [{\"line\": {\"color\": \"#4280F5\"}, \"mode\": \"lines+markers\", \"name\": \"mean \", \"type\": \"scatter\", \"x\": [\"2020-08-29T03:00:00\", \"2020-08-29T12:00:00\", \"2020-08-29T16:00:00\", \"2020-08-30T03:00:00\", \"2020-08-30T11:00:00\", \"2020-08-30T12:00:00\", \"2020-08-30T20:00:00\", \"2020-08-31T12:00:00\", \"2020-09-01T05:00:00\", \"2020-09-01T11:00:00\", \"2020-09-01T20:00:00\", \"2020-09-02T04:00:00\", \"2020-09-03T10:00:00\", \"2020-09-03T20:00:00\", \"2020-09-03T21:00:00\", \"2020-09-04T05:00:00\", \"2020-09-04T12:00:00\", \"2020-09-04T20:00:00\", \"2020-09-05T05:00:00\", \"2020-09-05T12:00:00\", \"2020-09-05T20:00:00\", \"2020-09-06T05:00:00\", \"2020-09-06T08:00:00\", \"2020-09-06T09:00:00\", \"2020-09-14T12:00:00\", \"2020-09-15T05:00:00\", \"2020-09-15T10:00:00\", \"2020-09-15T11:00:00\", \"2020-09-15T16:00:00\", \"2020-09-16T00:00:00\", \"2020-09-16T12:00:00\", \"2020-09-16T20:00:00\", \"2020-09-17T04:00:00\", \"2020-09-17T12:00:00\", \"2020-09-17T20:00:00\", \"2020-09-18T03:00:00\", \"2020-09-18T11:00:00\"], \"xaxis\": \"x\", \"y\": [0.17386667430400848, 0.15688888728618622, 0.14016667008399963, 0.15450000762939453, 0.17000000178813934, 0.1784999966621399, 0.12600000202655792, 0.15516667068004608, 0.1609722226858139, 0.15566666424274445, 0.14174999296665192, 0.1731666624546051, 0.1524166613817215, 0.16300000250339508, 0.15036363899707794, 0.19680000841617584, 0.15266667306423187, 0.14866666495800018, 0.16777777671813965, 0.14353333413600922, 0.14800000190734863, 0.15644444525241852, 0.1298888921737671, 0.1550000011920929, 0.16491666436195374, 0.14174999296665192, 0.15925000607967377, 0.14800000190734863, 0.1547500044107437, 0.1574999988079071, 0.16644445061683655, 0.1469999998807907, 0.15583333373069763, 0.16786666214466095, 0.1433333307504654, 0.15649999678134918, 0.16840000450611115], \"yaxis\": \"y\"}, {\"line\": {\"color\": \"#FF5733\"}, \"mode\": \"lines\", \"name\": \"USL \", \"type\": \"scatter\", \"x\": [\"2020-08-29T03:00:00\", \"2020-08-29T12:00:00\", \"2020-08-29T16:00:00\", \"2020-08-30T03:00:00\", \"2020-08-30T11:00:00\", \"2020-08-30T12:00:00\", \"2020-08-30T20:00:00\", \"2020-08-31T12:00:00\", \"2020-09-01T05:00:00\", \"2020-09-01T11:00:00\", \"2020-09-01T20:00:00\", \"2020-09-02T04:00:00\", \"2020-09-03T10:00:00\", \"2020-09-03T20:00:00\", \"2020-09-03T21:00:00\", \"2020-09-04T05:00:00\", \"2020-09-04T12:00:00\", \"2020-09-04T20:00:00\", \"2020-09-05T05:00:00\", \"2020-09-05T12:00:00\", \"2020-09-05T20:00:00\", \"2020-09-06T05:00:00\", \"2020-09-06T08:00:00\", \"2020-09-06T09:00:00\", \"2020-09-14T12:00:00\", \"2020-09-15T05:00:00\", \"2020-09-15T10:00:00\", \"2020-09-15T11:00:00\", \"2020-09-15T16:00:00\", \"2020-09-16T00:00:00\", \"2020-09-16T12:00:00\", \"2020-09-16T20:00:00\", \"2020-09-17T04:00:00\", \"2020-09-17T12:00:00\", \"2020-09-17T20:00:00\", \"2020-09-18T03:00:00\", \"2020-09-18T11:00:00\"], \"xaxis\": \"x\", \"y\": [0.1850000023841858, 0.1850000023841858, 0.1850000023841858, 0.1850000023841858, 0.1850000023841858, 0.1850000023841858, 0.1850000023841858, 0.1850000023841858, 0.1850000023841858, 0.1850000023841858, 0.1850000023841858, 0.1850000023841858, 0.1850000023841858, 0.1850000023841858, 0.1850000023841858, 0.1850000023841858, 0.1850000023841858, 0.1850000023841858, 0.1850000023841858, 0.1850000023841858, 0.1850000023841858, 0.1850000023841858, 0.1850000023841858, 0.1850000023841858, 0.1850000023841858, 0.1850000023841858, 0.1850000023841858, 0.1850000023841858, 0.1850000023841858, 0.1850000023841858, 0.1850000023841858, 0.1850000023841858, 0.1850000023841858, 0.1850000023841858, 0.1850000023841858, 0.1850000023841858, 0.1850000023841858], \"yaxis\": \"y\"}, {\"line\": {\"color\": \"#FF5733\"}, \"mode\": \"lines\", \"name\": \"LSL \", \"type\": \"scatter\", \"x\": [\"2020-08-29T03:00:00\", \"2020-08-29T12:00:00\", \"2020-08-29T16:00:00\", \"2020-08-30T03:00:00\", \"2020-08-30T11:00:00\", \"2020-08-30T12:00:00\", \"2020-08-30T20:00:00\", \"2020-08-31T12:00:00\", \"2020-09-01T05:00:00\", \"2020-09-01T11:00:00\", \"2020-09-01T20:00:00\", \"2020-09-02T04:00:00\", \"2020-09-03T10:00:00\", \"2020-09-03T20:00:00\", \"2020-09-03T21:00:00\", \"2020-09-04T05:00:00\", \"2020-09-04T12:00:00\", \"2020-09-04T20:00:00\", \"2020-09-05T05:00:00\", \"2020-09-05T12:00:00\", \"2020-09-05T20:00:00\", \"2020-09-06T05:00:00\", \"2020-09-06T08:00:00\", \"2020-09-06T09:00:00\", \"2020-09-14T12:00:00\", \"2020-09-15T05:00:00\", \"2020-09-15T10:00:00\", \"2020-09-15T11:00:00\", \"2020-09-15T16:00:00\", \"2020-09-16T00:00:00\", \"2020-09-16T12:00:00\", \"2020-09-16T20:00:00\", \"2020-09-17T04:00:00\", \"2020-09-17T12:00:00\", \"2020-09-17T20:00:00\", \"2020-09-18T03:00:00\", \"2020-09-18T11:00:00\"], \"xaxis\": \"x\", \"y\": [0.125, 0.125, 0.125, 0.125, 0.125, 0.125, 0.125, 0.125, 0.125, 0.125, 0.125, 0.125, 0.125, 0.125, 0.125, 0.125, 0.125, 0.125, 0.125, 0.125, 0.125, 0.125, 0.125, 0.125, 0.125, 0.125, 0.125, 0.125, 0.125, 0.125, 0.125, 0.125, 0.125, 0.125, 0.125, 0.125, 0.125], \"yaxis\": \"y\"}, {\"line\": {\"color\": \"#33C2FF\"}, \"mode\": \"lines\", \"name\": \"UCL \", \"type\": \"scatter\", \"x\": [\"2020-08-29T03:00:00\", \"2020-08-29T12:00:00\", \"2020-08-29T16:00:00\", \"2020-08-30T03:00:00\", \"2020-08-30T11:00:00\", \"2020-08-30T12:00:00\", \"2020-08-30T20:00:00\", \"2020-08-31T12:00:00\", \"2020-09-01T05:00:00\", \"2020-09-01T11:00:00\", \"2020-09-01T20:00:00\", \"2020-09-02T04:00:00\", \"2020-09-03T10:00:00\", \"2020-09-03T20:00:00\", \"2020-09-03T21:00:00\", \"2020-09-04T05:00:00\", \"2020-09-04T12:00:00\", \"2020-09-04T20:00:00\", \"2020-09-05T05:00:00\", \"2020-09-05T12:00:00\", \"2020-09-05T20:00:00\", \"2020-09-06T05:00:00\", \"2020-09-06T08:00:00\", \"2020-09-06T09:00:00\", \"2020-09-14T12:00:00\", \"2020-09-15T05:00:00\", \"2020-09-15T10:00:00\", \"2020-09-15T11:00:00\", \"2020-09-15T16:00:00\", \"2020-09-16T00:00:00\", \"2020-09-16T12:00:00\", \"2020-09-16T20:00:00\", \"2020-09-17T04:00:00\", \"2020-09-17T12:00:00\", \"2020-09-17T20:00:00\", \"2020-09-18T03:00:00\", \"2020-09-18T11:00:00\"], \"xaxis\": \"x\", \"y\": [0.32100000977516174, 0.32100000977516174, 0.32100000977516174, 0.32100000977516174, 0.32100000977516174, 0.32100000977516174, 0.32100000977516174, 0.32100000977516174, 0.32100000977516174, 0.32100000977516174, 0.32100000977516174, 0.32100000977516174, 0.32100000977516174, 0.32100000977516174, 0.32100000977516174, 0.32100000977516174, 0.32100000977516174, 0.2199999988079071, 0.2199999988079071, 0.2199999988079071, 0.2199999988079071, 0.2199999988079071, 0.2199999988079071, 0.2199999988079071, 0.21400000154972076, 0.21400000154972076, 0.21400000154972076, 0.21400000154972076, 0.21400000154972076, 0.21400000154972076, 0.21400000154972076, 0.21400000154972076, 0.21400000154972076, 0.21400000154972076, 0.21400000154972076, 0.21400000154972076, 0.2540000081062317], \"yaxis\": \"y\"}, {\"line\": {\"color\": \"#33C2FF\"}, \"mode\": \"lines\", \"name\": \"LCL \", \"type\": \"scatter\", \"x\": [\"2020-08-29T03:00:00\", \"2020-08-29T12:00:00\", \"2020-08-29T16:00:00\", \"2020-08-30T03:00:00\", \"2020-08-30T11:00:00\", \"2020-08-30T12:00:00\", \"2020-08-30T20:00:00\", \"2020-08-31T12:00:00\", \"2020-09-01T05:00:00\", \"2020-09-01T11:00:00\", \"2020-09-01T20:00:00\", \"2020-09-02T04:00:00\", \"2020-09-03T10:00:00\", \"2020-09-03T20:00:00\", \"2020-09-03T21:00:00\", \"2020-09-04T05:00:00\", \"2020-09-04T12:00:00\", \"2020-09-04T20:00:00\", \"2020-09-05T05:00:00\", \"2020-09-05T12:00:00\", \"2020-09-05T20:00:00\", \"2020-09-06T05:00:00\", \"2020-09-06T08:00:00\", \"2020-09-06T09:00:00\", \"2020-09-14T12:00:00\", \"2020-09-15T05:00:00\", \"2020-09-15T10:00:00\", \"2020-09-15T11:00:00\", \"2020-09-15T16:00:00\", \"2020-09-16T00:00:00\", \"2020-09-16T12:00:00\", \"2020-09-16T20:00:00\", \"2020-09-17T04:00:00\", \"2020-09-17T12:00:00\", \"2020-09-17T20:00:00\", \"2020-09-18T03:00:00\", \"2020-09-18T11:00:00\"], \"xaxis\": \"x\", \"y\": [-0.0010000000474974513, -0.0010000000474974513, -0.0010000000474974513, -0.0010000000474974513, -0.0010000000474974513, -0.0010000000474974513, -0.0010000000474974513, -0.0010000000474974513, -0.0010000000474974513, -0.0010000000474974513, -0.0010000000474974513, -0.0010000000474974513, -0.0010000000474974513, -0.0010000000474974513, -0.0010000000474974513, -0.0010000000474974513, -0.0010000000474974513, 0.07699999958276749, 0.07699999958276749, 0.07699999958276749, 0.07699999958276749, 0.07699999958276749, 0.07699999958276749, 0.07699999958276749, 0.09700000286102295, 0.09700000286102295, 0.09700000286102295, 0.09700000286102295, 0.09700000286102295, 0.09700000286102295, 0.09700000286102295, 0.09700000286102295, 0.09700000286102295, 0.09700000286102295, 0.09700000286102295, 0.09700000286102295, 0.08299999684095383], \"yaxis\": \"y\"}, {\"line\": {\"color\": \"#33C2FF\"}, \"mode\": \"lines\", \"name\": \"Mean \", \"type\": \"scatter\", \"x\": [\"2020-08-29T03:00:00\", \"2020-08-29T12:00:00\", \"2020-08-29T16:00:00\", \"2020-08-30T03:00:00\", \"2020-08-30T11:00:00\", \"2020-08-30T12:00:00\", \"2020-08-30T20:00:00\", \"2020-08-31T12:00:00\", \"2020-09-01T05:00:00\", \"2020-09-01T11:00:00\", \"2020-09-01T20:00:00\", \"2020-09-02T04:00:00\", \"2020-09-03T10:00:00\", \"2020-09-03T20:00:00\", \"2020-09-03T21:00:00\", \"2020-09-04T05:00:00\", \"2020-09-04T12:00:00\", \"2020-09-04T20:00:00\", \"2020-09-05T05:00:00\", \"2020-09-05T12:00:00\", \"2020-09-05T20:00:00\", \"2020-09-06T05:00:00\", \"2020-09-06T08:00:00\", \"2020-09-06T09:00:00\", \"2020-09-14T12:00:00\", \"2020-09-15T05:00:00\", \"2020-09-15T10:00:00\", \"2020-09-15T11:00:00\", \"2020-09-15T16:00:00\", \"2020-09-16T00:00:00\", \"2020-09-16T12:00:00\", \"2020-09-16T20:00:00\", \"2020-09-17T04:00:00\", \"2020-09-17T12:00:00\", \"2020-09-17T20:00:00\", \"2020-09-18T03:00:00\", \"2020-09-18T11:00:00\"], \"xaxis\": \"x\", \"y\": [0.1599999964237213, 0.1599999964237213, 0.1599999964237213, 0.1599999964237213, 0.1599999964237213, 0.1599999964237213, 0.1599999964237213, 0.1599999964237213, 0.1599999964237213, 0.1599999964237213, 0.1599999964237213, 0.1599999964237213, 0.1599999964237213, 0.1599999964237213, 0.1599999964237213, 0.1599999964237213, 0.1599999964237213, 0.14900000393390656, 0.14900000393390656, 0.14900000393390656, 0.14900000393390656, 0.14900000393390656, 0.14900000393390656, 0.14900000393390656, 0.1550000011920929, 0.1550000011920929, 0.1550000011920929, 0.1550000011920929, 0.1550000011920929, 0.1550000011920929, 0.1550000011920929, 0.1550000011920929, 0.1550000011920929, 0.1550000011920929, 0.1550000011920929, 0.1550000011920929, 0.1679999977350235], \"yaxis\": \"y\"}],\n",
              "                        {\"annotations\": [{\"font\": {\"size\": 16}, \"showarrow\": false, \"text\": \"Dim B Cp: 0.51 Pp: 0.25 Cpk: 0.46 Ppk: 0.22\", \"x\": 0.5, \"xanchor\": \"center\", \"xref\": \"paper\", \"y\": 1.0, \"yanchor\": \"bottom\", \"yref\": \"paper\"}], \"height\": 300, \"template\": {\"data\": {\"bar\": [{\"error_x\": {\"color\": \"#2a3f5f\"}, \"error_y\": {\"color\": \"#2a3f5f\"}, \"marker\": {\"line\": {\"color\": \"#E5ECF6\", \"width\": 0.5}}, \"type\": \"bar\"}], \"barpolar\": [{\"marker\": {\"line\": {\"color\": \"#E5ECF6\", \"width\": 0.5}}, \"type\": \"barpolar\"}], \"carpet\": [{\"aaxis\": {\"endlinecolor\": \"#2a3f5f\", \"gridcolor\": \"white\", \"linecolor\": \"white\", \"minorgridcolor\": \"white\", \"startlinecolor\": \"#2a3f5f\"}, \"baxis\": {\"endlinecolor\": \"#2a3f5f\", \"gridcolor\": \"white\", \"linecolor\": \"white\", \"minorgridcolor\": \"white\", \"startlinecolor\": \"#2a3f5f\"}, \"type\": \"carpet\"}], \"choropleth\": [{\"colorbar\": {\"outlinewidth\": 0, \"ticks\": \"\"}, \"type\": \"choropleth\"}], \"contour\": [{\"colorbar\": {\"outlinewidth\": 0, \"ticks\": \"\"}, \"colorscale\": [[0.0, \"#0d0887\"], [0.1111111111111111, \"#46039f\"], [0.2222222222222222, \"#7201a8\"], [0.3333333333333333, \"#9c179e\"], [0.4444444444444444, \"#bd3786\"], [0.5555555555555556, \"#d8576b\"], [0.6666666666666666, \"#ed7953\"], [0.7777777777777778, \"#fb9f3a\"], [0.8888888888888888, \"#fdca26\"], [1.0, \"#f0f921\"]], \"type\": \"contour\"}], \"contourcarpet\": [{\"colorbar\": {\"outlinewidth\": 0, \"ticks\": \"\"}, \"type\": \"contourcarpet\"}], \"heatmap\": [{\"colorbar\": {\"outlinewidth\": 0, \"ticks\": \"\"}, \"colorscale\": [[0.0, \"#0d0887\"], [0.1111111111111111, \"#46039f\"], [0.2222222222222222, \"#7201a8\"], [0.3333333333333333, \"#9c179e\"], [0.4444444444444444, \"#bd3786\"], [0.5555555555555556, \"#d8576b\"], [0.6666666666666666, \"#ed7953\"], [0.7777777777777778, \"#fb9f3a\"], [0.8888888888888888, \"#fdca26\"], [1.0, \"#f0f921\"]], \"type\": \"heatmap\"}], \"heatmapgl\": [{\"colorbar\": {\"outlinewidth\": 0, \"ticks\": \"\"}, \"colorscale\": [[0.0, \"#0d0887\"], [0.1111111111111111, \"#46039f\"], [0.2222222222222222, \"#7201a8\"], [0.3333333333333333, \"#9c179e\"], [0.4444444444444444, \"#bd3786\"], [0.5555555555555556, \"#d8576b\"], [0.6666666666666666, \"#ed7953\"], [0.7777777777777778, \"#fb9f3a\"], [0.8888888888888888, \"#fdca26\"], [1.0, \"#f0f921\"]], \"type\": \"heatmapgl\"}], \"histogram\": [{\"marker\": {\"colorbar\": {\"outlinewidth\": 0, \"ticks\": \"\"}}, \"type\": \"histogram\"}], \"histogram2d\": [{\"colorbar\": {\"outlinewidth\": 0, \"ticks\": \"\"}, \"colorscale\": [[0.0, \"#0d0887\"], [0.1111111111111111, \"#46039f\"], [0.2222222222222222, \"#7201a8\"], [0.3333333333333333, \"#9c179e\"], [0.4444444444444444, \"#bd3786\"], [0.5555555555555556, \"#d8576b\"], [0.6666666666666666, \"#ed7953\"], [0.7777777777777778, \"#fb9f3a\"], [0.8888888888888888, \"#fdca26\"], [1.0, \"#f0f921\"]], \"type\": \"histogram2d\"}], \"histogram2dcontour\": [{\"colorbar\": {\"outlinewidth\": 0, \"ticks\": \"\"}, \"colorscale\": [[0.0, \"#0d0887\"], [0.1111111111111111, \"#46039f\"], [0.2222222222222222, \"#7201a8\"], [0.3333333333333333, \"#9c179e\"], [0.4444444444444444, \"#bd3786\"], [0.5555555555555556, \"#d8576b\"], [0.6666666666666666, \"#ed7953\"], [0.7777777777777778, \"#fb9f3a\"], [0.8888888888888888, \"#fdca26\"], [1.0, \"#f0f921\"]], \"type\": \"histogram2dcontour\"}], \"mesh3d\": [{\"colorbar\": {\"outlinewidth\": 0, \"ticks\": \"\"}, \"type\": \"mesh3d\"}], \"parcoords\": [{\"line\": {\"colorbar\": {\"outlinewidth\": 0, \"ticks\": \"\"}}, \"type\": \"parcoords\"}], \"pie\": [{\"automargin\": true, \"type\": \"pie\"}], \"scatter\": [{\"marker\": {\"colorbar\": {\"outlinewidth\": 0, \"ticks\": \"\"}}, \"type\": \"scatter\"}], \"scatter3d\": [{\"line\": {\"colorbar\": {\"outlinewidth\": 0, \"ticks\": \"\"}}, \"marker\": {\"colorbar\": {\"outlinewidth\": 0, \"ticks\": \"\"}}, \"type\": \"scatter3d\"}], \"scattercarpet\": [{\"marker\": {\"colorbar\": {\"outlinewidth\": 0, \"ticks\": \"\"}}, \"type\": \"scattercarpet\"}], \"scattergeo\": [{\"marker\": {\"colorbar\": {\"outlinewidth\": 0, \"ticks\": \"\"}}, \"type\": \"scattergeo\"}], \"scattergl\": [{\"marker\": {\"colorbar\": {\"outlinewidth\": 0, \"ticks\": \"\"}}, \"type\": \"scattergl\"}], \"scattermapbox\": [{\"marker\": {\"colorbar\": {\"outlinewidth\": 0, \"ticks\": \"\"}}, \"type\": \"scattermapbox\"}], \"scatterpolar\": [{\"marker\": {\"colorbar\": {\"outlinewidth\": 0, \"ticks\": \"\"}}, \"type\": \"scatterpolar\"}], \"scatterpolargl\": [{\"marker\": {\"colorbar\": {\"outlinewidth\": 0, \"ticks\": \"\"}}, \"type\": \"scatterpolargl\"}], \"scatterternary\": [{\"marker\": {\"colorbar\": {\"outlinewidth\": 0, \"ticks\": \"\"}}, \"type\": \"scatterternary\"}], \"surface\": [{\"colorbar\": {\"outlinewidth\": 0, \"ticks\": \"\"}, \"colorscale\": [[0.0, \"#0d0887\"], [0.1111111111111111, \"#46039f\"], [0.2222222222222222, \"#7201a8\"], [0.3333333333333333, \"#9c179e\"], [0.4444444444444444, \"#bd3786\"], [0.5555555555555556, \"#d8576b\"], [0.6666666666666666, \"#ed7953\"], [0.7777777777777778, \"#fb9f3a\"], [0.8888888888888888, \"#fdca26\"], [1.0, \"#f0f921\"]], \"type\": \"surface\"}], \"table\": [{\"cells\": {\"fill\": {\"color\": \"#EBF0F8\"}, \"line\": {\"color\": \"white\"}}, \"header\": {\"fill\": {\"color\": \"#C8D4E3\"}, \"line\": {\"color\": \"white\"}}, \"type\": \"table\"}]}, \"layout\": {\"annotationdefaults\": {\"arrowcolor\": \"#2a3f5f\", \"arrowhead\": 0, \"arrowwidth\": 1}, \"coloraxis\": {\"colorbar\": {\"outlinewidth\": 0, \"ticks\": \"\"}}, \"colorscale\": {\"diverging\": [[0, \"#8e0152\"], [0.1, \"#c51b7d\"], [0.2, \"#de77ae\"], [0.3, \"#f1b6da\"], [0.4, \"#fde0ef\"], [0.5, \"#f7f7f7\"], [0.6, \"#e6f5d0\"], [0.7, \"#b8e186\"], [0.8, \"#7fbc41\"], [0.9, \"#4d9221\"], [1, \"#276419\"]], \"sequential\": [[0.0, \"#0d0887\"], [0.1111111111111111, \"#46039f\"], [0.2222222222222222, \"#7201a8\"], [0.3333333333333333, \"#9c179e\"], [0.4444444444444444, \"#bd3786\"], [0.5555555555555556, \"#d8576b\"], [0.6666666666666666, \"#ed7953\"], [0.7777777777777778, \"#fb9f3a\"], [0.8888888888888888, \"#fdca26\"], [1.0, \"#f0f921\"]], \"sequentialminus\": [[0.0, \"#0d0887\"], [0.1111111111111111, \"#46039f\"], [0.2222222222222222, \"#7201a8\"], [0.3333333333333333, \"#9c179e\"], [0.4444444444444444, \"#bd3786\"], [0.5555555555555556, \"#d8576b\"], [0.6666666666666666, \"#ed7953\"], [0.7777777777777778, \"#fb9f3a\"], [0.8888888888888888, \"#fdca26\"], [1.0, \"#f0f921\"]]}, \"colorway\": [\"#636efa\", \"#EF553B\", \"#00cc96\", \"#ab63fa\", \"#FFA15A\", \"#19d3f3\", \"#FF6692\", \"#B6E880\", \"#FF97FF\", \"#FECB52\"], \"font\": {\"color\": \"#2a3f5f\"}, \"geo\": {\"bgcolor\": \"white\", \"lakecolor\": \"white\", \"landcolor\": \"#E5ECF6\", \"showlakes\": true, \"showland\": true, \"subunitcolor\": \"white\"}, \"hoverlabel\": {\"align\": \"left\"}, \"hovermode\": \"closest\", \"mapbox\": {\"style\": \"light\"}, \"paper_bgcolor\": \"white\", \"plot_bgcolor\": \"#E5ECF6\", \"polar\": {\"angularaxis\": {\"gridcolor\": \"white\", \"linecolor\": \"white\", \"ticks\": \"\"}, \"bgcolor\": \"#E5ECF6\", \"radialaxis\": {\"gridcolor\": \"white\", \"linecolor\": \"white\", \"ticks\": \"\"}}, \"scene\": {\"xaxis\": {\"backgroundcolor\": \"#E5ECF6\", \"gridcolor\": \"white\", \"gridwidth\": 2, \"linecolor\": \"white\", \"showbackground\": true, \"ticks\": \"\", \"zerolinecolor\": \"white\"}, \"yaxis\": {\"backgroundcolor\": \"#E5ECF6\", \"gridcolor\": \"white\", \"gridwidth\": 2, \"linecolor\": \"white\", \"showbackground\": true, \"ticks\": \"\", \"zerolinecolor\": \"white\"}, \"zaxis\": {\"backgroundcolor\": \"#E5ECF6\", \"gridcolor\": \"white\", \"gridwidth\": 2, \"linecolor\": \"white\", \"showbackground\": true, \"ticks\": \"\", \"zerolinecolor\": \"white\"}}, \"shapedefaults\": {\"line\": {\"color\": \"#2a3f5f\"}}, \"ternary\": {\"aaxis\": {\"gridcolor\": \"white\", \"linecolor\": \"white\", \"ticks\": \"\"}, \"baxis\": {\"gridcolor\": \"white\", \"linecolor\": \"white\", \"ticks\": \"\"}, \"bgcolor\": \"#E5ECF6\", \"caxis\": {\"gridcolor\": \"white\", \"linecolor\": \"white\", \"ticks\": \"\"}}, \"title\": {\"x\": 0.05}, \"xaxis\": {\"automargin\": true, \"gridcolor\": \"white\", \"linecolor\": \"white\", \"ticks\": \"\", \"title\": {\"standoff\": 15}, \"zerolinecolor\": \"white\", \"zerolinewidth\": 2}, \"yaxis\": {\"automargin\": true, \"gridcolor\": \"white\", \"linecolor\": \"white\", \"ticks\": \"\", \"title\": {\"standoff\": 15}, \"zerolinecolor\": \"white\", \"zerolinewidth\": 2}}}, \"title\": {\"text\": \"Process: 26820-D.pin on Arm\"}, \"width\": 1200, \"xaxis\": {\"anchor\": \"y\", \"domain\": [0.0, 1.0]}, \"yaxis\": {\"anchor\": \"x\", \"domain\": [0.0, 1.0]}},\n",
              "                        {\"responsive\": true}\n",
              "                    ).then(function(){\n",
              "                            \n",
              "var gd = document.getElementById('759d2e8b-e08d-4eaf-b53c-c207d7e65f3f');\n",
              "var x = new MutationObserver(function (mutations, observer) {{\n",
              "        var display = window.getComputedStyle(gd).display;\n",
              "        if (!display || display === 'none') {{\n",
              "            console.log([gd, 'removed!']);\n",
              "            Plotly.purge(gd);\n",
              "            observer.disconnect();\n",
              "        }}\n",
              "}});\n",
              "\n",
              "// Listen for the removal of the full notebook cells\n",
              "var notebookContainer = gd.closest('#notebook-container');\n",
              "if (notebookContainer) {{\n",
              "    x.observe(notebookContainer, {childList: true});\n",
              "}}\n",
              "\n",
              "// Listen for the clearing of the current output cell\n",
              "var outputEl = gd.closest('.output');\n",
              "if (outputEl) {{\n",
              "    x.observe(outputEl, {childList: true});\n",
              "}}\n",
              "\n",
              "                        })\n",
              "                };\n",
              "                \n",
              "            </script>\n",
              "        </div>\n",
              "</body>\n",
              "</html>"
            ]
          },
          "metadata": {
            "tags": []
          }
        },
        {
          "output_type": "display_data",
          "data": {
            "text/html": [
              "<html>\n",
              "<head><meta charset=\"utf-8\" /></head>\n",
              "<body>\n",
              "    <div>\n",
              "            <script src=\"https://cdnjs.cloudflare.com/ajax/libs/mathjax/2.7.5/MathJax.js?config=TeX-AMS-MML_SVG\"></script><script type=\"text/javascript\">if (window.MathJax) {MathJax.Hub.Config({SVG: {font: \"STIX-Web\"}});}</script>\n",
              "                <script type=\"text/javascript\">window.PlotlyConfig = {MathJaxConfig: 'local'};</script>\n",
              "        <script src=\"https://cdn.plot.ly/plotly-latest.min.js\"></script>    \n",
              "            <div id=\"a81ce0d6-b79d-4a68-ad1a-57962bdb4117\" class=\"plotly-graph-div\" style=\"height:400px; width:1200px;\"></div>\n",
              "            <script type=\"text/javascript\">\n",
              "                \n",
              "                    window.PLOTLYENV=window.PLOTLYENV || {};\n",
              "                    \n",
              "                if (document.getElementById(\"a81ce0d6-b79d-4a68-ad1a-57962bdb4117\")) {\n",
              "                    Plotly.newPlot(\n",
              "                        'a81ce0d6-b79d-4a68-ad1a-57962bdb4117',\n",
              "                        [{\"line\": {\"color\": \"#4280F5\"}, \"mode\": \"lines+markers\", \"name\": \"mean \", \"type\": \"scatter\", \"x\": [\"2020-08-29T12:00:00\", \"2020-08-30T12:00:00\", \"2020-08-31T12:00:00\", \"2020-09-01T05:00:00\", \"2020-09-01T11:00:00\", \"2020-09-03T11:00:00\", \"2020-09-04T12:00:00\", \"2020-09-05T12:00:00\", \"2020-09-06T09:00:00\", \"2020-09-14T12:00:00\", \"2020-09-15T11:00:00\", \"2020-09-16T12:00:00\", \"2020-09-17T12:00:00\", \"2020-09-18T11:00:00\"], \"xaxis\": \"x\", \"y\": [-0.00860000029206276, -0.01209999993443489, -0.003100000089034438, -0.0026000000070780516, -0.0011499999091029167, -0.004100000020116568, -0.004600000102072954, 0.002099999925121665, 0.0018500001169741154, -0.013199999928474426, -0.013849999755620956, -0.012900000438094139, -0.005400000140070915, 0.007400000002235174], \"yaxis\": \"y\"}, {\"line\": {\"color\": \"#FF5733\"}, \"mode\": \"lines\", \"name\": \"USL \", \"type\": \"scatter\", \"x\": [\"2020-08-29T12:00:00\", \"2020-08-30T12:00:00\", \"2020-08-31T12:00:00\", \"2020-09-01T05:00:00\", \"2020-09-01T11:00:00\", \"2020-09-03T11:00:00\", \"2020-09-04T12:00:00\", \"2020-09-05T12:00:00\", \"2020-09-06T09:00:00\", \"2020-09-14T12:00:00\", \"2020-09-15T11:00:00\", \"2020-09-16T12:00:00\", \"2020-09-17T12:00:00\", \"2020-09-18T11:00:00\"], \"xaxis\": \"x\", \"y\": [0.02500000037252903, 0.02500000037252903, 0.02500000037252903, 0.02500000037252903, 0.02500000037252903, 0.02500000037252903, 0.02500000037252903, 0.02500000037252903, 0.02500000037252903, 0.02500000037252903, 0.02500000037252903, 0.02500000037252903, 0.02500000037252903, 0.02500000037252903], \"yaxis\": \"y\"}, {\"line\": {\"color\": \"#FF5733\"}, \"mode\": \"lines\", \"name\": \"LSL \", \"type\": \"scatter\", \"x\": [\"2020-08-29T12:00:00\", \"2020-08-30T12:00:00\", \"2020-08-31T12:00:00\", \"2020-09-01T05:00:00\", \"2020-09-01T11:00:00\", \"2020-09-03T11:00:00\", \"2020-09-04T12:00:00\", \"2020-09-05T12:00:00\", \"2020-09-06T09:00:00\", \"2020-09-14T12:00:00\", \"2020-09-15T11:00:00\", \"2020-09-16T12:00:00\", \"2020-09-17T12:00:00\", \"2020-09-18T11:00:00\"], \"xaxis\": \"x\", \"y\": [-0.02500000037252903, -0.02500000037252903, -0.02500000037252903, -0.02500000037252903, -0.02500000037252903, -0.02500000037252903, -0.02500000037252903, -0.02500000037252903, -0.02500000037252903, -0.02500000037252903, -0.02500000037252903, -0.02500000037252903, -0.02500000037252903, -0.02500000037252903], \"yaxis\": \"y\"}, {\"line\": {\"color\": \"#33C2FF\"}, \"mode\": \"lines\", \"name\": \"UCL \", \"type\": \"scatter\", \"x\": [\"2020-08-29T12:00:00\", \"2020-08-30T12:00:00\", \"2020-08-31T12:00:00\", \"2020-09-01T05:00:00\", \"2020-09-01T11:00:00\", \"2020-09-03T11:00:00\", \"2020-09-04T12:00:00\", \"2020-09-05T12:00:00\", \"2020-09-06T09:00:00\", \"2020-09-14T12:00:00\", \"2020-09-15T11:00:00\", \"2020-09-16T12:00:00\", \"2020-09-17T12:00:00\", \"2020-09-18T11:00:00\"], \"xaxis\": \"x\", \"y\": [0.02800000086426735, 0.02800000086426735, 0.02800000086426735, 0.02800000086426735, 0.02800000086426735, 0.02800000086426735, 0.02800000086426735, 0.039000000804662704, 0.039000000804662704, 0.02500000037252903, 0.02500000037252903, 0.02500000037252903, 0.02500000037252903, 0.04600000008940697], \"yaxis\": \"y\"}, {\"line\": {\"color\": \"#33C2FF\"}, \"mode\": \"lines\", \"name\": \"LCL \", \"type\": \"scatter\", \"x\": [\"2020-08-29T12:00:00\", \"2020-08-30T12:00:00\", \"2020-08-31T12:00:00\", \"2020-09-01T05:00:00\", \"2020-09-01T11:00:00\", \"2020-09-03T11:00:00\", \"2020-09-04T12:00:00\", \"2020-09-05T12:00:00\", \"2020-09-06T09:00:00\", \"2020-09-14T12:00:00\", \"2020-09-15T11:00:00\", \"2020-09-16T12:00:00\", \"2020-09-17T12:00:00\", \"2020-09-18T11:00:00\"], \"xaxis\": \"x\", \"y\": [-0.03799999877810478, -0.03799999877810478, -0.03799999877810478, -0.03799999877810478, -0.03799999877810478, -0.03799999877810478, -0.03799999877810478, -0.03500000014901161, -0.03500000014901161, -0.04800000041723251, -0.04800000041723251, -0.04800000041723251, -0.04800000041723251, -0.03099999949336052], \"yaxis\": \"y\"}, {\"line\": {\"color\": \"#33C2FF\"}, \"mode\": \"lines\", \"name\": \"Mean \", \"type\": \"scatter\", \"x\": [\"2020-08-29T12:00:00\", \"2020-08-30T12:00:00\", \"2020-08-31T12:00:00\", \"2020-09-01T05:00:00\", \"2020-09-01T11:00:00\", \"2020-09-03T11:00:00\", \"2020-09-04T12:00:00\", \"2020-09-05T12:00:00\", \"2020-09-06T09:00:00\", \"2020-09-14T12:00:00\", \"2020-09-15T11:00:00\", \"2020-09-16T12:00:00\", \"2020-09-17T12:00:00\", \"2020-09-18T11:00:00\"], \"xaxis\": \"x\", \"y\": [-0.004999999888241291, -0.004999999888241291, -0.004999999888241291, -0.004999999888241291, -0.004999999888241291, -0.004999999888241291, -0.004999999888241291, 0.0020000000949949026, 0.0020000000949949026, -0.010999999940395355, -0.010999999940395355, -0.010999999940395355, -0.010999999940395355, 0.007000000216066837], \"yaxis\": \"y\"}, {\"line\": {\"color\": \"#4280F5\"}, \"mode\": \"lines+markers\", \"name\": \"mean \", \"type\": \"scatter\", \"x\": [\"2020-08-29T12:00:00\", \"2020-08-30T12:00:00\", \"2020-08-31T12:00:00\", \"2020-09-01T05:00:00\", \"2020-09-01T11:00:00\", \"2020-09-03T11:00:00\", \"2020-09-04T12:00:00\", \"2020-09-05T12:00:00\", \"2020-09-06T09:00:00\", \"2020-09-14T12:00:00\", \"2020-09-15T11:00:00\", \"2020-09-16T12:00:00\", \"2020-09-17T12:00:00\", \"2020-09-18T11:00:00\"], \"xaxis\": \"x2\", \"y\": [0.008499999530613422, 0.008200000040233135, -0.004149999935179949, -0.004399999976158142, -0.006049999967217445, -0.005200000014156103, -0.005450000055134296, -0.0010000000474974513, 0.004550000187009573, 4.000000626547262e-05, 0.006500000134110451, 0.004900000058114529, -0.00029999998514540493, 0.0024999999441206455], \"yaxis\": \"y2\"}, {\"line\": {\"color\": \"#FF5733\"}, \"mode\": \"lines\", \"name\": \"USL \", \"type\": \"scatter\", \"x\": [\"2020-08-29T12:00:00\", \"2020-08-30T12:00:00\", \"2020-08-31T12:00:00\", \"2020-09-01T05:00:00\", \"2020-09-01T11:00:00\", \"2020-09-03T11:00:00\", \"2020-09-04T12:00:00\", \"2020-09-05T12:00:00\", \"2020-09-06T09:00:00\", \"2020-09-14T12:00:00\", \"2020-09-15T11:00:00\", \"2020-09-16T12:00:00\", \"2020-09-17T12:00:00\", \"2020-09-18T11:00:00\"], \"xaxis\": \"x2\", \"y\": [0.02500000037252903, 0.02500000037252903, 0.02500000037252903, 0.02500000037252903, 0.02500000037252903, 0.02500000037252903, 0.02500000037252903, 0.02500000037252903, 0.02500000037252903, 0.02500000037252903, 0.02500000037252903, 0.02500000037252903, 0.02500000037252903, 0.02500000037252903], \"yaxis\": \"y2\"}, {\"line\": {\"color\": \"#FF5733\"}, \"mode\": \"lines\", \"name\": \"LSL \", \"type\": \"scatter\", \"x\": [\"2020-08-29T12:00:00\", \"2020-08-30T12:00:00\", \"2020-08-31T12:00:00\", \"2020-09-01T05:00:00\", \"2020-09-01T11:00:00\", \"2020-09-03T11:00:00\", \"2020-09-04T12:00:00\", \"2020-09-05T12:00:00\", \"2020-09-06T09:00:00\", \"2020-09-14T12:00:00\", \"2020-09-15T11:00:00\", \"2020-09-16T12:00:00\", \"2020-09-17T12:00:00\", \"2020-09-18T11:00:00\"], \"xaxis\": \"x2\", \"y\": [-0.02500000037252903, -0.02500000037252903, -0.02500000037252903, -0.02500000037252903, -0.02500000037252903, -0.02500000037252903, -0.02500000037252903, -0.02500000037252903, -0.02500000037252903, -0.02500000037252903, -0.02500000037252903, -0.02500000037252903, -0.02500000037252903, -0.02500000037252903], \"yaxis\": \"y2\"}, {\"line\": {\"color\": \"#33C2FF\"}, \"mode\": \"lines\", \"name\": \"UCL \", \"type\": \"scatter\", \"x\": [\"2020-08-29T12:00:00\", \"2020-08-30T12:00:00\", \"2020-08-31T12:00:00\", \"2020-09-01T05:00:00\", \"2020-09-01T11:00:00\", \"2020-09-03T11:00:00\", \"2020-09-04T12:00:00\", \"2020-09-05T12:00:00\", \"2020-09-06T09:00:00\", \"2020-09-14T12:00:00\", \"2020-09-15T11:00:00\", \"2020-09-16T12:00:00\", \"2020-09-17T12:00:00\", \"2020-09-18T11:00:00\"], \"xaxis\": \"x2\", \"y\": [0.032999999821186066, 0.032999999821186066, 0.032999999821186066, 0.032999999821186066, 0.032999999821186066, 0.032999999821186066, 0.032999999821186066, 0.028999999165534973, 0.028999999165534973, 0.03500000014901161, 0.03500000014901161, 0.03500000014901161, 0.03500000014901161, 0.032999999821186066], \"yaxis\": \"y2\"}, {\"line\": {\"color\": \"#33C2FF\"}, \"mode\": \"lines\", \"name\": \"LCL \", \"type\": \"scatter\", \"x\": [\"2020-08-29T12:00:00\", \"2020-08-30T12:00:00\", \"2020-08-31T12:00:00\", \"2020-09-01T05:00:00\", \"2020-09-01T11:00:00\", \"2020-09-03T11:00:00\", \"2020-09-04T12:00:00\", \"2020-09-05T12:00:00\", \"2020-09-06T09:00:00\", \"2020-09-14T12:00:00\", \"2020-09-15T11:00:00\", \"2020-09-16T12:00:00\", \"2020-09-17T12:00:00\", \"2020-09-18T11:00:00\"], \"xaxis\": \"x2\", \"y\": [-0.035999998450279236, -0.035999998450279236, -0.035999998450279236, -0.035999998450279236, -0.035999998450279236, -0.035999998450279236, -0.035999998450279236, -0.02500000037252903, -0.02500000037252903, -0.029999999329447746, -0.029999999329447746, -0.029999999329447746, -0.029999999329447746, -0.02800000086426735], \"yaxis\": \"y2\"}, {\"line\": {\"color\": \"#33C2FF\"}, \"mode\": \"lines\", \"name\": \"Mean \", \"type\": \"scatter\", \"x\": [\"2020-08-29T12:00:00\", \"2020-08-30T12:00:00\", \"2020-08-31T12:00:00\", \"2020-09-01T05:00:00\", \"2020-09-01T11:00:00\", \"2020-09-03T11:00:00\", \"2020-09-04T12:00:00\", \"2020-09-05T12:00:00\", \"2020-09-06T09:00:00\", \"2020-09-14T12:00:00\", \"2020-09-15T11:00:00\", \"2020-09-16T12:00:00\", \"2020-09-17T12:00:00\", \"2020-09-18T11:00:00\"], \"xaxis\": \"x2\", \"y\": [-0.0010000000474974513, -0.0010000000474974513, -0.0010000000474974513, -0.0010000000474974513, -0.0010000000474974513, -0.0010000000474974513, -0.0010000000474974513, 0.0020000000949949026, 0.0020000000949949026, 0.003000000026077032, 0.003000000026077032, 0.003000000026077032, 0.003000000026077032, 0.0020000000949949026], \"yaxis\": \"y2\"}],\n",
              "                        {\"annotations\": [{\"font\": {\"size\": 16}, \"showarrow\": false, \"text\": \"Dim A Cp: 0.82 Pp: 0.65 Cpk: 0.57 Ppk: 0.45\", \"x\": 0.5, \"xanchor\": \"center\", \"xref\": \"paper\", \"y\": 1.0, \"yanchor\": \"bottom\", \"yref\": \"paper\"}, {\"font\": {\"size\": 16}, \"showarrow\": false, \"text\": \"Dim B Cp: 0.86 Pp: 0.76 Cpk: 0.8 Ppk: 0.7\", \"x\": 0.5, \"xanchor\": \"center\", \"xref\": \"paper\", \"y\": 0.375, \"yanchor\": \"bottom\", \"yref\": \"paper\"}], \"height\": 400, \"template\": {\"data\": {\"bar\": [{\"error_x\": {\"color\": \"#2a3f5f\"}, \"error_y\": {\"color\": \"#2a3f5f\"}, \"marker\": {\"line\": {\"color\": \"#E5ECF6\", \"width\": 0.5}}, \"type\": \"bar\"}], \"barpolar\": [{\"marker\": {\"line\": {\"color\": \"#E5ECF6\", \"width\": 0.5}}, \"type\": \"barpolar\"}], \"carpet\": [{\"aaxis\": {\"endlinecolor\": \"#2a3f5f\", \"gridcolor\": \"white\", \"linecolor\": \"white\", \"minorgridcolor\": \"white\", \"startlinecolor\": \"#2a3f5f\"}, \"baxis\": {\"endlinecolor\": \"#2a3f5f\", \"gridcolor\": \"white\", \"linecolor\": \"white\", \"minorgridcolor\": \"white\", \"startlinecolor\": \"#2a3f5f\"}, \"type\": \"carpet\"}], \"choropleth\": [{\"colorbar\": {\"outlinewidth\": 0, \"ticks\": \"\"}, \"type\": \"choropleth\"}], \"contour\": [{\"colorbar\": {\"outlinewidth\": 0, \"ticks\": \"\"}, \"colorscale\": [[0.0, \"#0d0887\"], [0.1111111111111111, \"#46039f\"], [0.2222222222222222, \"#7201a8\"], [0.3333333333333333, \"#9c179e\"], [0.4444444444444444, \"#bd3786\"], [0.5555555555555556, \"#d8576b\"], [0.6666666666666666, \"#ed7953\"], [0.7777777777777778, \"#fb9f3a\"], [0.8888888888888888, \"#fdca26\"], [1.0, \"#f0f921\"]], \"type\": \"contour\"}], \"contourcarpet\": [{\"colorbar\": {\"outlinewidth\": 0, \"ticks\": \"\"}, \"type\": \"contourcarpet\"}], \"heatmap\": [{\"colorbar\": {\"outlinewidth\": 0, \"ticks\": \"\"}, \"colorscale\": [[0.0, \"#0d0887\"], [0.1111111111111111, \"#46039f\"], [0.2222222222222222, \"#7201a8\"], [0.3333333333333333, \"#9c179e\"], [0.4444444444444444, \"#bd3786\"], [0.5555555555555556, \"#d8576b\"], [0.6666666666666666, \"#ed7953\"], [0.7777777777777778, \"#fb9f3a\"], [0.8888888888888888, \"#fdca26\"], [1.0, \"#f0f921\"]], \"type\": \"heatmap\"}], \"heatmapgl\": [{\"colorbar\": {\"outlinewidth\": 0, \"ticks\": \"\"}, \"colorscale\": [[0.0, \"#0d0887\"], [0.1111111111111111, \"#46039f\"], [0.2222222222222222, \"#7201a8\"], [0.3333333333333333, \"#9c179e\"], [0.4444444444444444, \"#bd3786\"], [0.5555555555555556, \"#d8576b\"], [0.6666666666666666, \"#ed7953\"], [0.7777777777777778, \"#fb9f3a\"], [0.8888888888888888, \"#fdca26\"], [1.0, \"#f0f921\"]], \"type\": \"heatmapgl\"}], \"histogram\": [{\"marker\": {\"colorbar\": {\"outlinewidth\": 0, \"ticks\": \"\"}}, \"type\": \"histogram\"}], \"histogram2d\": [{\"colorbar\": {\"outlinewidth\": 0, \"ticks\": \"\"}, \"colorscale\": [[0.0, \"#0d0887\"], [0.1111111111111111, \"#46039f\"], [0.2222222222222222, \"#7201a8\"], [0.3333333333333333, \"#9c179e\"], [0.4444444444444444, \"#bd3786\"], [0.5555555555555556, \"#d8576b\"], [0.6666666666666666, \"#ed7953\"], [0.7777777777777778, \"#fb9f3a\"], [0.8888888888888888, \"#fdca26\"], [1.0, \"#f0f921\"]], \"type\": \"histogram2d\"}], \"histogram2dcontour\": [{\"colorbar\": {\"outlinewidth\": 0, \"ticks\": \"\"}, \"colorscale\": [[0.0, \"#0d0887\"], [0.1111111111111111, \"#46039f\"], [0.2222222222222222, \"#7201a8\"], [0.3333333333333333, \"#9c179e\"], [0.4444444444444444, \"#bd3786\"], [0.5555555555555556, \"#d8576b\"], [0.6666666666666666, \"#ed7953\"], [0.7777777777777778, \"#fb9f3a\"], [0.8888888888888888, \"#fdca26\"], [1.0, \"#f0f921\"]], \"type\": \"histogram2dcontour\"}], \"mesh3d\": [{\"colorbar\": {\"outlinewidth\": 0, \"ticks\": \"\"}, \"type\": \"mesh3d\"}], \"parcoords\": [{\"line\": {\"colorbar\": {\"outlinewidth\": 0, \"ticks\": \"\"}}, \"type\": \"parcoords\"}], \"pie\": [{\"automargin\": true, \"type\": \"pie\"}], \"scatter\": [{\"marker\": {\"colorbar\": {\"outlinewidth\": 0, \"ticks\": \"\"}}, \"type\": \"scatter\"}], \"scatter3d\": [{\"line\": {\"colorbar\": {\"outlinewidth\": 0, \"ticks\": \"\"}}, \"marker\": {\"colorbar\": {\"outlinewidth\": 0, \"ticks\": \"\"}}, \"type\": \"scatter3d\"}], \"scattercarpet\": [{\"marker\": {\"colorbar\": {\"outlinewidth\": 0, \"ticks\": \"\"}}, \"type\": \"scattercarpet\"}], \"scattergeo\": [{\"marker\": {\"colorbar\": {\"outlinewidth\": 0, \"ticks\": \"\"}}, \"type\": \"scattergeo\"}], \"scattergl\": [{\"marker\": {\"colorbar\": {\"outlinewidth\": 0, \"ticks\": \"\"}}, \"type\": \"scattergl\"}], \"scattermapbox\": [{\"marker\": {\"colorbar\": {\"outlinewidth\": 0, \"ticks\": \"\"}}, \"type\": \"scattermapbox\"}], \"scatterpolar\": [{\"marker\": {\"colorbar\": {\"outlinewidth\": 0, \"ticks\": \"\"}}, \"type\": \"scatterpolar\"}], \"scatterpolargl\": [{\"marker\": {\"colorbar\": {\"outlinewidth\": 0, \"ticks\": \"\"}}, \"type\": \"scatterpolargl\"}], \"scatterternary\": [{\"marker\": {\"colorbar\": {\"outlinewidth\": 0, \"ticks\": \"\"}}, \"type\": \"scatterternary\"}], \"surface\": [{\"colorbar\": {\"outlinewidth\": 0, \"ticks\": \"\"}, \"colorscale\": [[0.0, \"#0d0887\"], [0.1111111111111111, \"#46039f\"], [0.2222222222222222, \"#7201a8\"], [0.3333333333333333, \"#9c179e\"], [0.4444444444444444, \"#bd3786\"], [0.5555555555555556, \"#d8576b\"], [0.6666666666666666, \"#ed7953\"], [0.7777777777777778, \"#fb9f3a\"], [0.8888888888888888, \"#fdca26\"], [1.0, \"#f0f921\"]], \"type\": \"surface\"}], \"table\": [{\"cells\": {\"fill\": {\"color\": \"#EBF0F8\"}, \"line\": {\"color\": \"white\"}}, \"header\": {\"fill\": {\"color\": \"#C8D4E3\"}, \"line\": {\"color\": \"white\"}}, \"type\": \"table\"}]}, \"layout\": {\"annotationdefaults\": {\"arrowcolor\": \"#2a3f5f\", \"arrowhead\": 0, \"arrowwidth\": 1}, \"coloraxis\": {\"colorbar\": {\"outlinewidth\": 0, \"ticks\": \"\"}}, \"colorscale\": {\"diverging\": [[0, \"#8e0152\"], [0.1, \"#c51b7d\"], [0.2, \"#de77ae\"], [0.3, \"#f1b6da\"], [0.4, \"#fde0ef\"], [0.5, \"#f7f7f7\"], [0.6, \"#e6f5d0\"], [0.7, \"#b8e186\"], [0.8, \"#7fbc41\"], [0.9, \"#4d9221\"], [1, \"#276419\"]], \"sequential\": [[0.0, \"#0d0887\"], [0.1111111111111111, \"#46039f\"], [0.2222222222222222, \"#7201a8\"], [0.3333333333333333, \"#9c179e\"], [0.4444444444444444, \"#bd3786\"], [0.5555555555555556, \"#d8576b\"], [0.6666666666666666, \"#ed7953\"], [0.7777777777777778, \"#fb9f3a\"], [0.8888888888888888, \"#fdca26\"], [1.0, \"#f0f921\"]], \"sequentialminus\": [[0.0, \"#0d0887\"], [0.1111111111111111, \"#46039f\"], [0.2222222222222222, \"#7201a8\"], [0.3333333333333333, \"#9c179e\"], [0.4444444444444444, \"#bd3786\"], [0.5555555555555556, \"#d8576b\"], [0.6666666666666666, \"#ed7953\"], [0.7777777777777778, \"#fb9f3a\"], [0.8888888888888888, \"#fdca26\"], [1.0, \"#f0f921\"]]}, \"colorway\": [\"#636efa\", \"#EF553B\", \"#00cc96\", \"#ab63fa\", \"#FFA15A\", \"#19d3f3\", \"#FF6692\", \"#B6E880\", \"#FF97FF\", \"#FECB52\"], \"font\": {\"color\": \"#2a3f5f\"}, \"geo\": {\"bgcolor\": \"white\", \"lakecolor\": \"white\", \"landcolor\": \"#E5ECF6\", \"showlakes\": true, \"showland\": true, \"subunitcolor\": \"white\"}, \"hoverlabel\": {\"align\": \"left\"}, \"hovermode\": \"closest\", \"mapbox\": {\"style\": \"light\"}, \"paper_bgcolor\": \"white\", \"plot_bgcolor\": \"#E5ECF6\", \"polar\": {\"angularaxis\": {\"gridcolor\": \"white\", \"linecolor\": \"white\", \"ticks\": \"\"}, \"bgcolor\": \"#E5ECF6\", \"radialaxis\": {\"gridcolor\": \"white\", \"linecolor\": \"white\", \"ticks\": \"\"}}, \"scene\": {\"xaxis\": {\"backgroundcolor\": \"#E5ECF6\", \"gridcolor\": \"white\", \"gridwidth\": 2, \"linecolor\": \"white\", \"showbackground\": true, \"ticks\": \"\", \"zerolinecolor\": \"white\"}, \"yaxis\": {\"backgroundcolor\": \"#E5ECF6\", \"gridcolor\": \"white\", \"gridwidth\": 2, \"linecolor\": \"white\", \"showbackground\": true, \"ticks\": \"\", \"zerolinecolor\": \"white\"}, \"zaxis\": {\"backgroundcolor\": \"#E5ECF6\", \"gridcolor\": \"white\", \"gridwidth\": 2, \"linecolor\": \"white\", \"showbackground\": true, \"ticks\": \"\", \"zerolinecolor\": \"white\"}}, \"shapedefaults\": {\"line\": {\"color\": \"#2a3f5f\"}}, \"ternary\": {\"aaxis\": {\"gridcolor\": \"white\", \"linecolor\": \"white\", \"ticks\": \"\"}, \"baxis\": {\"gridcolor\": \"white\", \"linecolor\": \"white\", \"ticks\": \"\"}, \"bgcolor\": \"#E5ECF6\", \"caxis\": {\"gridcolor\": \"white\", \"linecolor\": \"white\", \"ticks\": \"\"}}, \"title\": {\"x\": 0.05}, \"xaxis\": {\"automargin\": true, \"gridcolor\": \"white\", \"linecolor\": \"white\", \"ticks\": \"\", \"title\": {\"standoff\": 15}, \"zerolinecolor\": \"white\", \"zerolinewidth\": 2}, \"yaxis\": {\"automargin\": true, \"gridcolor\": \"white\", \"linecolor\": \"white\", \"ticks\": \"\", \"title\": {\"standoff\": 15}, \"zerolinecolor\": \"white\", \"zerolinewidth\": 2}}}, \"title\": {\"text\": \"Process: 26930-Cover on case\"}, \"width\": 1200, \"xaxis\": {\"anchor\": \"y\", \"domain\": [0.0, 1.0]}, \"xaxis2\": {\"anchor\": \"y2\", \"domain\": [0.0, 1.0]}, \"yaxis\": {\"anchor\": \"x\", \"domain\": [0.625, 1.0]}, \"yaxis2\": {\"anchor\": \"x2\", \"domain\": [0.0, 0.375]}},\n",
              "                        {\"responsive\": true}\n",
              "                    ).then(function(){\n",
              "                            \n",
              "var gd = document.getElementById('a81ce0d6-b79d-4a68-ad1a-57962bdb4117');\n",
              "var x = new MutationObserver(function (mutations, observer) {{\n",
              "        var display = window.getComputedStyle(gd).display;\n",
              "        if (!display || display === 'none') {{\n",
              "            console.log([gd, 'removed!']);\n",
              "            Plotly.purge(gd);\n",
              "            observer.disconnect();\n",
              "        }}\n",
              "}});\n",
              "\n",
              "// Listen for the removal of the full notebook cells\n",
              "var notebookContainer = gd.closest('#notebook-container');\n",
              "if (notebookContainer) {{\n",
              "    x.observe(notebookContainer, {childList: true});\n",
              "}}\n",
              "\n",
              "// Listen for the clearing of the current output cell\n",
              "var outputEl = gd.closest('.output');\n",
              "if (outputEl) {{\n",
              "    x.observe(outputEl, {childList: true});\n",
              "}}\n",
              "\n",
              "                        })\n",
              "                };\n",
              "                \n",
              "            </script>\n",
              "        </div>\n",
              "</body>\n",
              "</html>"
            ]
          },
          "metadata": {
            "tags": []
          }
        },
        {
          "output_type": "display_data",
          "data": {
            "text/html": [
              "<html>\n",
              "<head><meta charset=\"utf-8\" /></head>\n",
              "<body>\n",
              "    <div>\n",
              "            <script src=\"https://cdnjs.cloudflare.com/ajax/libs/mathjax/2.7.5/MathJax.js?config=TeX-AMS-MML_SVG\"></script><script type=\"text/javascript\">if (window.MathJax) {MathJax.Hub.Config({SVG: {font: \"STIX-Web\"}});}</script>\n",
              "                <script type=\"text/javascript\">window.PlotlyConfig = {MathJaxConfig: 'local'};</script>\n",
              "        <script src=\"https://cdn.plot.ly/plotly-latest.min.js\"></script>    \n",
              "            <div id=\"bb9e0d81-e749-4125-96ac-57e0fa516662\" class=\"plotly-graph-div\" style=\"height:300px; width:1200px;\"></div>\n",
              "            <script type=\"text/javascript\">\n",
              "                \n",
              "                    window.PLOTLYENV=window.PLOTLYENV || {};\n",
              "                    \n",
              "                if (document.getElementById(\"bb9e0d81-e749-4125-96ac-57e0fa516662\")) {\n",
              "                    Plotly.newPlot(\n",
              "                        'bb9e0d81-e749-4125-96ac-57e0fa516662',\n",
              "                        [{\"line\": {\"color\": \"#4280F5\"}, \"mode\": \"lines+markers\", \"name\": \"mean \", \"type\": \"scatter\", \"x\": [\"2020-08-29T03:00:00\", \"2020-08-29T12:00:00\", \"2020-08-29T17:00:00\", \"2020-08-30T03:00:00\", \"2020-08-30T12:00:00\", \"2020-08-30T21:00:00\", \"2020-09-01T05:00:00\", \"2020-09-01T11:00:00\", \"2020-09-01T20:00:00\", \"2020-09-02T04:00:00\", \"2020-09-03T10:00:00\", \"2020-09-03T21:00:00\", \"2020-09-04T05:00:00\", \"2020-09-04T20:00:00\", \"2020-09-05T05:00:00\", \"2020-09-05T12:00:00\", \"2020-09-05T20:00:00\", \"2020-09-06T05:00:00\", \"2020-09-06T09:00:00\", \"2020-09-14T12:00:00\", \"2020-09-15T05:00:00\", \"2020-09-15T10:00:00\", \"2020-09-15T11:00:00\", \"2020-09-15T19:00:00\", \"2020-09-16T00:00:00\", \"2020-09-16T12:00:00\", \"2020-09-16T20:00:00\", \"2020-09-17T04:00:00\", \"2020-09-17T12:00:00\", \"2020-09-17T20:00:00\", \"2020-09-18T03:00:00\", \"2020-09-18T11:00:00\"], \"xaxis\": \"x\", \"y\": [0.5569999814033508, 0.7034000158309937, 0.642799973487854, 0.5663999915122986, 0.5624000430107117, 0.6111999750137329, 0.6499000191688538, 0.5907999873161316, 0.8069999814033508, 0.6230000257492065, 0.8065999746322632, 0.8126000165939331, 0.574400007724762, 0.77920001745224, 0.5874000191688538, 0.6660000085830688, 0.5706000328063965, 0.6287999749183655, 0.7218000292778015, 0.72079998254776, 0.61080002784729, 0.6004000306129456, 0.7074000239372253, 0.6474000215530396, 0.6696000099182129, 0.717199981212616, 0.7494000196456909, 0.6010000109672546, 0.7983999848365784, 0.6759999990463257, 0.5978000164031982, 0.631600022315979], \"yaxis\": \"y\"}, {\"line\": {\"color\": \"#FF5733\"}, \"mode\": \"lines\", \"name\": \"USL \", \"type\": \"scatter\", \"x\": [\"2020-08-29T03:00:00\", \"2020-08-29T12:00:00\", \"2020-08-29T17:00:00\", \"2020-08-30T03:00:00\", \"2020-08-30T12:00:00\", \"2020-08-30T21:00:00\", \"2020-09-01T05:00:00\", \"2020-09-01T11:00:00\", \"2020-09-01T20:00:00\", \"2020-09-02T04:00:00\", \"2020-09-03T10:00:00\", \"2020-09-03T21:00:00\", \"2020-09-04T05:00:00\", \"2020-09-04T20:00:00\", \"2020-09-05T05:00:00\", \"2020-09-05T12:00:00\", \"2020-09-05T20:00:00\", \"2020-09-06T05:00:00\", \"2020-09-06T09:00:00\", \"2020-09-14T12:00:00\", \"2020-09-15T05:00:00\", \"2020-09-15T10:00:00\", \"2020-09-15T11:00:00\", \"2020-09-15T19:00:00\", \"2020-09-16T00:00:00\", \"2020-09-16T12:00:00\", \"2020-09-16T20:00:00\", \"2020-09-17T04:00:00\", \"2020-09-17T12:00:00\", \"2020-09-17T20:00:00\", \"2020-09-18T03:00:00\", \"2020-09-18T11:00:00\"], \"xaxis\": \"x\", \"y\": [2.0, 2.0, 2.0, 2.0, 2.0, 2.0, 2.0, 2.0, 2.0, 2.0, 2.0, 2.0, 2.0, 2.0, 2.0, 2.0, 2.0, 2.0, 2.0, 2.0, 2.0, 2.0, 2.0, 2.0, 2.0, 2.0, 2.0, 2.0, 2.0, 2.0, 2.0, 2.0], \"yaxis\": \"y\"}, {\"line\": {\"color\": \"#FF5733\"}, \"mode\": \"lines\", \"name\": \"LSL \", \"type\": \"scatter\", \"x\": [\"2020-08-29T03:00:00\", \"2020-08-29T12:00:00\", \"2020-08-29T17:00:00\", \"2020-08-30T03:00:00\", \"2020-08-30T12:00:00\", \"2020-08-30T21:00:00\", \"2020-09-01T05:00:00\", \"2020-09-01T11:00:00\", \"2020-09-01T20:00:00\", \"2020-09-02T04:00:00\", \"2020-09-03T10:00:00\", \"2020-09-03T21:00:00\", \"2020-09-04T05:00:00\", \"2020-09-04T20:00:00\", \"2020-09-05T05:00:00\", \"2020-09-05T12:00:00\", \"2020-09-05T20:00:00\", \"2020-09-06T05:00:00\", \"2020-09-06T09:00:00\", \"2020-09-14T12:00:00\", \"2020-09-15T05:00:00\", \"2020-09-15T10:00:00\", \"2020-09-15T11:00:00\", \"2020-09-15T19:00:00\", \"2020-09-16T00:00:00\", \"2020-09-16T12:00:00\", \"2020-09-16T20:00:00\", \"2020-09-17T04:00:00\", \"2020-09-17T12:00:00\", \"2020-09-17T20:00:00\", \"2020-09-18T03:00:00\", \"2020-09-18T11:00:00\"], \"xaxis\": \"x\", \"y\": [0.5, 0.5, 0.5, 0.5, 0.5, 0.5, 0.5, 0.5, 0.5, 0.5, 0.5, 0.5, 0.5, 0.5, 0.5, 0.5, 0.5, 0.5, 0.5, 0.5, 0.5, 0.5, 0.5, 0.5, 0.5, 0.5, 0.5, 0.5, 0.5, 0.5, 0.5, 0.5], \"yaxis\": \"y\"}, {\"line\": {\"color\": \"#33C2FF\"}, \"mode\": \"lines\", \"name\": \"UCL \", \"type\": \"scatter\", \"x\": [\"2020-08-29T03:00:00\", \"2020-08-29T12:00:00\", \"2020-08-29T17:00:00\", \"2020-08-30T03:00:00\", \"2020-08-30T12:00:00\", \"2020-08-30T21:00:00\", \"2020-09-01T05:00:00\", \"2020-09-01T11:00:00\", \"2020-09-01T20:00:00\", \"2020-09-02T04:00:00\", \"2020-09-03T10:00:00\", \"2020-09-03T21:00:00\", \"2020-09-04T05:00:00\", \"2020-09-04T20:00:00\", \"2020-09-05T05:00:00\", \"2020-09-05T12:00:00\", \"2020-09-05T20:00:00\", \"2020-09-06T05:00:00\", \"2020-09-06T09:00:00\", \"2020-09-14T12:00:00\", \"2020-09-15T05:00:00\", \"2020-09-15T10:00:00\", \"2020-09-15T11:00:00\", \"2020-09-15T19:00:00\", \"2020-09-16T00:00:00\", \"2020-09-16T12:00:00\", \"2020-09-16T20:00:00\", \"2020-09-17T04:00:00\", \"2020-09-17T12:00:00\", \"2020-09-17T20:00:00\", \"2020-09-18T03:00:00\", \"2020-09-18T11:00:00\"], \"xaxis\": \"x\", \"y\": [0.9629999995231628, 0.9629999995231628, 0.9629999995231628, 0.9629999995231628, 0.9629999995231628, 0.9629999995231628, 0.9629999995231628, 0.9629999995231628, 0.9629999995231628, 0.9629999995231628, 0.9629999995231628, 0.9629999995231628, 0.9629999995231628, 1.0180000066757202, 1.0180000066757202, 1.0180000066757202, 1.0180000066757202, 1.0180000066757202, 1.0180000066757202, 0.9330000281333923, 0.9330000281333923, 0.9330000281333923, 0.9330000281333923, 0.9330000281333923, 0.9330000281333923, 0.9330000281333923, 0.9330000281333923, 0.9330000281333923, 0.9330000281333923, 0.9330000281333923, 0.9330000281333923, 0.9020000100135803], \"yaxis\": \"y\"}, {\"line\": {\"color\": \"#33C2FF\"}, \"mode\": \"lines\", \"name\": \"LCL \", \"type\": \"scatter\", \"x\": [\"2020-08-29T03:00:00\", \"2020-08-29T12:00:00\", \"2020-08-29T17:00:00\", \"2020-08-30T03:00:00\", \"2020-08-30T12:00:00\", \"2020-08-30T21:00:00\", \"2020-09-01T05:00:00\", \"2020-09-01T11:00:00\", \"2020-09-01T20:00:00\", \"2020-09-02T04:00:00\", \"2020-09-03T10:00:00\", \"2020-09-03T21:00:00\", \"2020-09-04T05:00:00\", \"2020-09-04T20:00:00\", \"2020-09-05T05:00:00\", \"2020-09-05T12:00:00\", \"2020-09-05T20:00:00\", \"2020-09-06T05:00:00\", \"2020-09-06T09:00:00\", \"2020-09-14T12:00:00\", \"2020-09-15T05:00:00\", \"2020-09-15T10:00:00\", \"2020-09-15T11:00:00\", \"2020-09-15T19:00:00\", \"2020-09-16T00:00:00\", \"2020-09-16T12:00:00\", \"2020-09-16T20:00:00\", \"2020-09-17T04:00:00\", \"2020-09-17T12:00:00\", \"2020-09-17T20:00:00\", \"2020-09-18T03:00:00\", \"2020-09-18T11:00:00\"], \"xaxis\": \"x\", \"y\": [0.3449999988079071, 0.3449999988079071, 0.3449999988079071, 0.3449999988079071, 0.3449999988079071, 0.3449999988079071, 0.3449999988079071, 0.3449999988079071, 0.3449999988079071, 0.3449999988079071, 0.3449999988079071, 0.3449999988079071, 0.3449999988079071, 0.30000001192092896, 0.30000001192092896, 0.30000001192092896, 0.30000001192092896, 0.30000001192092896, 0.30000001192092896, 0.41600000858306885, 0.41600000858306885, 0.41600000858306885, 0.41600000858306885, 0.41600000858306885, 0.41600000858306885, 0.41600000858306885, 0.41600000858306885, 0.41600000858306885, 0.41600000858306885, 0.41600000858306885, 0.41600000858306885, 0.3610000014305115], \"yaxis\": \"y\"}, {\"line\": {\"color\": \"#33C2FF\"}, \"mode\": \"lines\", \"name\": \"Mean \", \"type\": \"scatter\", \"x\": [\"2020-08-29T03:00:00\", \"2020-08-29T12:00:00\", \"2020-08-29T17:00:00\", \"2020-08-30T03:00:00\", \"2020-08-30T12:00:00\", \"2020-08-30T21:00:00\", \"2020-09-01T05:00:00\", \"2020-09-01T11:00:00\", \"2020-09-01T20:00:00\", \"2020-09-02T04:00:00\", \"2020-09-03T10:00:00\", \"2020-09-03T21:00:00\", \"2020-09-04T05:00:00\", \"2020-09-04T20:00:00\", \"2020-09-05T05:00:00\", \"2020-09-05T12:00:00\", \"2020-09-05T20:00:00\", \"2020-09-06T05:00:00\", \"2020-09-06T09:00:00\", \"2020-09-14T12:00:00\", \"2020-09-15T05:00:00\", \"2020-09-15T10:00:00\", \"2020-09-15T11:00:00\", \"2020-09-15T19:00:00\", \"2020-09-16T00:00:00\", \"2020-09-16T12:00:00\", \"2020-09-16T20:00:00\", \"2020-09-17T04:00:00\", \"2020-09-17T12:00:00\", \"2020-09-17T20:00:00\", \"2020-09-18T03:00:00\", \"2020-09-18T11:00:00\"], \"xaxis\": \"x\", \"y\": [0.6539999842643738, 0.6539999842643738, 0.6539999842643738, 0.6539999842643738, 0.6539999842643738, 0.6539999842643738, 0.6539999842643738, 0.6539999842643738, 0.6539999842643738, 0.6539999842643738, 0.6539999842643738, 0.6539999842643738, 0.6539999842643738, 0.6589999794960022, 0.6589999794960022, 0.6589999794960022, 0.6589999794960022, 0.6589999794960022, 0.6589999794960022, 0.675000011920929, 0.675000011920929, 0.675000011920929, 0.675000011920929, 0.675000011920929, 0.675000011920929, 0.675000011920929, 0.675000011920929, 0.675000011920929, 0.675000011920929, 0.675000011920929, 0.675000011920929, 0.6320000290870667], \"yaxis\": \"y\"}],\n",
              "                        {\"annotations\": [{\"font\": {\"size\": 16}, \"showarrow\": false, \"text\": \"Dim B Cp: 5.16 Pp: 2.51 Cpk: 0.94 Ppk: 0.46\", \"x\": 0.5, \"xanchor\": \"center\", \"xref\": \"paper\", \"y\": 1.0, \"yanchor\": \"bottom\", \"yref\": \"paper\"}], \"height\": 300, \"template\": {\"data\": {\"bar\": [{\"error_x\": {\"color\": \"#2a3f5f\"}, \"error_y\": {\"color\": \"#2a3f5f\"}, \"marker\": {\"line\": {\"color\": \"#E5ECF6\", \"width\": 0.5}}, \"type\": \"bar\"}], \"barpolar\": [{\"marker\": {\"line\": {\"color\": \"#E5ECF6\", \"width\": 0.5}}, \"type\": \"barpolar\"}], \"carpet\": [{\"aaxis\": {\"endlinecolor\": \"#2a3f5f\", \"gridcolor\": \"white\", \"linecolor\": \"white\", \"minorgridcolor\": \"white\", \"startlinecolor\": \"#2a3f5f\"}, \"baxis\": {\"endlinecolor\": \"#2a3f5f\", \"gridcolor\": \"white\", \"linecolor\": \"white\", \"minorgridcolor\": \"white\", \"startlinecolor\": \"#2a3f5f\"}, \"type\": \"carpet\"}], \"choropleth\": [{\"colorbar\": {\"outlinewidth\": 0, \"ticks\": \"\"}, \"type\": \"choropleth\"}], \"contour\": [{\"colorbar\": {\"outlinewidth\": 0, \"ticks\": \"\"}, \"colorscale\": [[0.0, \"#0d0887\"], [0.1111111111111111, \"#46039f\"], [0.2222222222222222, \"#7201a8\"], [0.3333333333333333, \"#9c179e\"], [0.4444444444444444, \"#bd3786\"], [0.5555555555555556, \"#d8576b\"], [0.6666666666666666, \"#ed7953\"], [0.7777777777777778, \"#fb9f3a\"], [0.8888888888888888, \"#fdca26\"], [1.0, \"#f0f921\"]], \"type\": \"contour\"}], \"contourcarpet\": [{\"colorbar\": {\"outlinewidth\": 0, \"ticks\": \"\"}, \"type\": \"contourcarpet\"}], \"heatmap\": [{\"colorbar\": {\"outlinewidth\": 0, \"ticks\": \"\"}, \"colorscale\": [[0.0, \"#0d0887\"], [0.1111111111111111, \"#46039f\"], [0.2222222222222222, \"#7201a8\"], [0.3333333333333333, \"#9c179e\"], [0.4444444444444444, \"#bd3786\"], [0.5555555555555556, \"#d8576b\"], [0.6666666666666666, \"#ed7953\"], [0.7777777777777778, \"#fb9f3a\"], [0.8888888888888888, \"#fdca26\"], [1.0, \"#f0f921\"]], \"type\": \"heatmap\"}], \"heatmapgl\": [{\"colorbar\": {\"outlinewidth\": 0, \"ticks\": \"\"}, \"colorscale\": [[0.0, \"#0d0887\"], [0.1111111111111111, \"#46039f\"], [0.2222222222222222, \"#7201a8\"], [0.3333333333333333, \"#9c179e\"], [0.4444444444444444, \"#bd3786\"], [0.5555555555555556, \"#d8576b\"], [0.6666666666666666, \"#ed7953\"], [0.7777777777777778, \"#fb9f3a\"], [0.8888888888888888, \"#fdca26\"], [1.0, \"#f0f921\"]], \"type\": \"heatmapgl\"}], \"histogram\": [{\"marker\": {\"colorbar\": {\"outlinewidth\": 0, \"ticks\": \"\"}}, \"type\": \"histogram\"}], \"histogram2d\": [{\"colorbar\": {\"outlinewidth\": 0, \"ticks\": \"\"}, \"colorscale\": [[0.0, \"#0d0887\"], [0.1111111111111111, \"#46039f\"], [0.2222222222222222, \"#7201a8\"], [0.3333333333333333, \"#9c179e\"], [0.4444444444444444, \"#bd3786\"], [0.5555555555555556, \"#d8576b\"], [0.6666666666666666, \"#ed7953\"], [0.7777777777777778, \"#fb9f3a\"], [0.8888888888888888, \"#fdca26\"], [1.0, \"#f0f921\"]], \"type\": \"histogram2d\"}], \"histogram2dcontour\": [{\"colorbar\": {\"outlinewidth\": 0, \"ticks\": \"\"}, \"colorscale\": [[0.0, \"#0d0887\"], [0.1111111111111111, \"#46039f\"], [0.2222222222222222, \"#7201a8\"], [0.3333333333333333, \"#9c179e\"], [0.4444444444444444, \"#bd3786\"], [0.5555555555555556, \"#d8576b\"], [0.6666666666666666, \"#ed7953\"], [0.7777777777777778, \"#fb9f3a\"], [0.8888888888888888, \"#fdca26\"], [1.0, \"#f0f921\"]], \"type\": \"histogram2dcontour\"}], \"mesh3d\": [{\"colorbar\": {\"outlinewidth\": 0, \"ticks\": \"\"}, \"type\": \"mesh3d\"}], \"parcoords\": [{\"line\": {\"colorbar\": {\"outlinewidth\": 0, \"ticks\": \"\"}}, \"type\": \"parcoords\"}], \"pie\": [{\"automargin\": true, \"type\": \"pie\"}], \"scatter\": [{\"marker\": {\"colorbar\": {\"outlinewidth\": 0, \"ticks\": \"\"}}, \"type\": \"scatter\"}], \"scatter3d\": [{\"line\": {\"colorbar\": {\"outlinewidth\": 0, \"ticks\": \"\"}}, \"marker\": {\"colorbar\": {\"outlinewidth\": 0, \"ticks\": \"\"}}, \"type\": \"scatter3d\"}], \"scattercarpet\": [{\"marker\": {\"colorbar\": {\"outlinewidth\": 0, \"ticks\": \"\"}}, \"type\": \"scattercarpet\"}], \"scattergeo\": [{\"marker\": {\"colorbar\": {\"outlinewidth\": 0, \"ticks\": \"\"}}, \"type\": \"scattergeo\"}], \"scattergl\": [{\"marker\": {\"colorbar\": {\"outlinewidth\": 0, \"ticks\": \"\"}}, \"type\": \"scattergl\"}], \"scattermapbox\": [{\"marker\": {\"colorbar\": {\"outlinewidth\": 0, \"ticks\": \"\"}}, \"type\": \"scattermapbox\"}], \"scatterpolar\": [{\"marker\": {\"colorbar\": {\"outlinewidth\": 0, \"ticks\": \"\"}}, \"type\": \"scatterpolar\"}], \"scatterpolargl\": [{\"marker\": {\"colorbar\": {\"outlinewidth\": 0, \"ticks\": \"\"}}, \"type\": \"scatterpolargl\"}], \"scatterternary\": [{\"marker\": {\"colorbar\": {\"outlinewidth\": 0, \"ticks\": \"\"}}, \"type\": \"scatterternary\"}], \"surface\": [{\"colorbar\": {\"outlinewidth\": 0, \"ticks\": \"\"}, \"colorscale\": [[0.0, \"#0d0887\"], [0.1111111111111111, \"#46039f\"], [0.2222222222222222, \"#7201a8\"], [0.3333333333333333, \"#9c179e\"], [0.4444444444444444, \"#bd3786\"], [0.5555555555555556, \"#d8576b\"], [0.6666666666666666, \"#ed7953\"], [0.7777777777777778, \"#fb9f3a\"], [0.8888888888888888, \"#fdca26\"], [1.0, \"#f0f921\"]], \"type\": \"surface\"}], \"table\": [{\"cells\": {\"fill\": {\"color\": \"#EBF0F8\"}, \"line\": {\"color\": \"white\"}}, \"header\": {\"fill\": {\"color\": \"#C8D4E3\"}, \"line\": {\"color\": \"white\"}}, \"type\": \"table\"}]}, \"layout\": {\"annotationdefaults\": {\"arrowcolor\": \"#2a3f5f\", \"arrowhead\": 0, \"arrowwidth\": 1}, \"coloraxis\": {\"colorbar\": {\"outlinewidth\": 0, \"ticks\": \"\"}}, \"colorscale\": {\"diverging\": [[0, \"#8e0152\"], [0.1, \"#c51b7d\"], [0.2, \"#de77ae\"], [0.3, \"#f1b6da\"], [0.4, \"#fde0ef\"], [0.5, \"#f7f7f7\"], [0.6, \"#e6f5d0\"], [0.7, \"#b8e186\"], [0.8, \"#7fbc41\"], [0.9, \"#4d9221\"], [1, \"#276419\"]], \"sequential\": [[0.0, \"#0d0887\"], [0.1111111111111111, \"#46039f\"], [0.2222222222222222, \"#7201a8\"], [0.3333333333333333, \"#9c179e\"], [0.4444444444444444, \"#bd3786\"], [0.5555555555555556, \"#d8576b\"], [0.6666666666666666, \"#ed7953\"], [0.7777777777777778, \"#fb9f3a\"], [0.8888888888888888, \"#fdca26\"], [1.0, \"#f0f921\"]], \"sequentialminus\": [[0.0, \"#0d0887\"], [0.1111111111111111, \"#46039f\"], [0.2222222222222222, \"#7201a8\"], [0.3333333333333333, \"#9c179e\"], [0.4444444444444444, \"#bd3786\"], [0.5555555555555556, \"#d8576b\"], [0.6666666666666666, \"#ed7953\"], [0.7777777777777778, \"#fb9f3a\"], [0.8888888888888888, \"#fdca26\"], [1.0, \"#f0f921\"]]}, \"colorway\": [\"#636efa\", \"#EF553B\", \"#00cc96\", \"#ab63fa\", \"#FFA15A\", \"#19d3f3\", \"#FF6692\", \"#B6E880\", \"#FF97FF\", \"#FECB52\"], \"font\": {\"color\": \"#2a3f5f\"}, \"geo\": {\"bgcolor\": \"white\", \"lakecolor\": \"white\", \"landcolor\": \"#E5ECF6\", \"showlakes\": true, \"showland\": true, \"subunitcolor\": \"white\"}, \"hoverlabel\": {\"align\": \"left\"}, \"hovermode\": \"closest\", \"mapbox\": {\"style\": \"light\"}, \"paper_bgcolor\": \"white\", \"plot_bgcolor\": \"#E5ECF6\", \"polar\": {\"angularaxis\": {\"gridcolor\": \"white\", \"linecolor\": \"white\", \"ticks\": \"\"}, \"bgcolor\": \"#E5ECF6\", \"radialaxis\": {\"gridcolor\": \"white\", \"linecolor\": \"white\", \"ticks\": \"\"}}, \"scene\": {\"xaxis\": {\"backgroundcolor\": \"#E5ECF6\", \"gridcolor\": \"white\", \"gridwidth\": 2, \"linecolor\": \"white\", \"showbackground\": true, \"ticks\": \"\", \"zerolinecolor\": \"white\"}, \"yaxis\": {\"backgroundcolor\": \"#E5ECF6\", \"gridcolor\": \"white\", \"gridwidth\": 2, \"linecolor\": \"white\", \"showbackground\": true, \"ticks\": \"\", \"zerolinecolor\": \"white\"}, \"zaxis\": {\"backgroundcolor\": \"#E5ECF6\", \"gridcolor\": \"white\", \"gridwidth\": 2, \"linecolor\": \"white\", \"showbackground\": true, \"ticks\": \"\", \"zerolinecolor\": \"white\"}}, \"shapedefaults\": {\"line\": {\"color\": \"#2a3f5f\"}}, \"ternary\": {\"aaxis\": {\"gridcolor\": \"white\", \"linecolor\": \"white\", \"ticks\": \"\"}, \"baxis\": {\"gridcolor\": \"white\", \"linecolor\": \"white\", \"ticks\": \"\"}, \"bgcolor\": \"#E5ECF6\", \"caxis\": {\"gridcolor\": \"white\", \"linecolor\": \"white\", \"ticks\": \"\"}}, \"title\": {\"x\": 0.05}, \"xaxis\": {\"automargin\": true, \"gridcolor\": \"white\", \"linecolor\": \"white\", \"ticks\": \"\", \"title\": {\"standoff\": 15}, \"zerolinecolor\": \"white\", \"zerolinewidth\": 2}, \"yaxis\": {\"automargin\": true, \"gridcolor\": \"white\", \"linecolor\": \"white\", \"ticks\": \"\", \"title\": {\"standoff\": 15}, \"zerolinecolor\": \"white\", \"zerolinewidth\": 2}}}, \"title\": {\"text\": \"Process: 26830- Welding ground wire \"}, \"width\": 1200, \"xaxis\": {\"anchor\": \"y\", \"domain\": [0.0, 1.0]}, \"yaxis\": {\"anchor\": \"x\", \"domain\": [0.0, 1.0]}},\n",
              "                        {\"responsive\": true}\n",
              "                    ).then(function(){\n",
              "                            \n",
              "var gd = document.getElementById('bb9e0d81-e749-4125-96ac-57e0fa516662');\n",
              "var x = new MutationObserver(function (mutations, observer) {{\n",
              "        var display = window.getComputedStyle(gd).display;\n",
              "        if (!display || display === 'none') {{\n",
              "            console.log([gd, 'removed!']);\n",
              "            Plotly.purge(gd);\n",
              "            observer.disconnect();\n",
              "        }}\n",
              "}});\n",
              "\n",
              "// Listen for the removal of the full notebook cells\n",
              "var notebookContainer = gd.closest('#notebook-container');\n",
              "if (notebookContainer) {{\n",
              "    x.observe(notebookContainer, {childList: true});\n",
              "}}\n",
              "\n",
              "// Listen for the clearing of the current output cell\n",
              "var outputEl = gd.closest('.output');\n",
              "if (outputEl) {{\n",
              "    x.observe(outputEl, {childList: true});\n",
              "}}\n",
              "\n",
              "                        })\n",
              "                };\n",
              "                \n",
              "            </script>\n",
              "        </div>\n",
              "</body>\n",
              "</html>"
            ]
          },
          "metadata": {
            "tags": []
          }
        },
        {
          "output_type": "display_data",
          "data": {
            "text/html": [
              "<html>\n",
              "<head><meta charset=\"utf-8\" /></head>\n",
              "<body>\n",
              "    <div>\n",
              "            <script src=\"https://cdnjs.cloudflare.com/ajax/libs/mathjax/2.7.5/MathJax.js?config=TeX-AMS-MML_SVG\"></script><script type=\"text/javascript\">if (window.MathJax) {MathJax.Hub.Config({SVG: {font: \"STIX-Web\"}});}</script>\n",
              "                <script type=\"text/javascript\">window.PlotlyConfig = {MathJaxConfig: 'local'};</script>\n",
              "        <script src=\"https://cdn.plot.ly/plotly-latest.min.js\"></script>    \n",
              "            <div id=\"d294a8bb-049e-46e4-9ba9-7e9423253dac\" class=\"plotly-graph-div\" style=\"height:400px; width:1200px;\"></div>\n",
              "            <script type=\"text/javascript\">\n",
              "                \n",
              "                    window.PLOTLYENV=window.PLOTLYENV || {};\n",
              "                    \n",
              "                if (document.getElementById(\"d294a8bb-049e-46e4-9ba9-7e9423253dac\")) {\n",
              "                    Plotly.newPlot(\n",
              "                        'd294a8bb-049e-46e4-9ba9-7e9423253dac',\n",
              "                        [{\"line\": {\"color\": \"#4280F5\"}, \"mode\": \"lines+markers\", \"name\": \"mean \", \"type\": \"scatter\", \"x\": [\"2020-08-29T03:00:00\", \"2020-08-29T12:00:00\", \"2020-08-29T17:00:00\", \"2020-08-30T03:00:00\", \"2020-08-30T12:00:00\", \"2020-08-30T20:00:00\", \"2020-08-31T12:00:00\", \"2020-09-01T05:00:00\", \"2020-09-01T11:00:00\", \"2020-09-01T20:00:00\", \"2020-09-02T04:00:00\", \"2020-09-03T11:00:00\", \"2020-09-03T21:00:00\", \"2020-09-04T05:00:00\", \"2020-09-04T12:00:00\", \"2020-09-04T20:00:00\", \"2020-09-05T05:00:00\", \"2020-09-05T12:00:00\", \"2020-09-05T20:00:00\", \"2020-09-06T05:00:00\", \"2020-09-06T09:00:00\", \"2020-09-14T12:00:00\", \"2020-09-15T05:00:00\", \"2020-09-15T10:00:00\", \"2020-09-15T11:00:00\", \"2020-09-15T19:00:00\", \"2020-09-16T00:00:00\", \"2020-09-16T12:00:00\", \"2020-09-16T20:00:00\", \"2020-09-17T04:00:00\", \"2020-09-17T12:00:00\", \"2020-09-17T20:00:00\", \"2020-09-18T03:00:00\", \"2020-09-18T11:00:00\"], \"xaxis\": \"x\", \"y\": [-0.0011666659265756607, -0.0038333332631736994, -0.0006666664849035442, 0.03200000151991844, -0.014000000432133675, -0.009833334013819695, 0.034166667610406876, 0.012000000104308128, 0.026333333924412727, 0.0008333331788890064, 0.010333333164453506, -0.028166666626930237, -0.011500000022351742, 0.004000000189989805, 0.030166666954755783, -0.0008333334699273109, -0.0016666664741933346, 0.006833333987742662, 0.017500000074505806, 0.01716666668653488, 0.014000000432133675, 0.004999999888241291, 0.013500000350177288, 0.026000000536441803, 0.019500000402331352, 0.014166666194796562, 0.03133333474397659, 0.0026666666381061077, 0.0033333336468786, 0.041333332657814026, 0.006833333056420088, 0.0071666669100522995, 0.0016666669398546219, 0.007333333604037762], \"yaxis\": \"y\"}, {\"line\": {\"color\": \"#FF5733\"}, \"mode\": \"lines\", \"name\": \"USL \", \"type\": \"scatter\", \"x\": [\"2020-08-29T03:00:00\", \"2020-08-29T12:00:00\", \"2020-08-29T17:00:00\", \"2020-08-30T03:00:00\", \"2020-08-30T12:00:00\", \"2020-08-30T20:00:00\", \"2020-08-31T12:00:00\", \"2020-09-01T05:00:00\", \"2020-09-01T11:00:00\", \"2020-09-01T20:00:00\", \"2020-09-02T04:00:00\", \"2020-09-03T11:00:00\", \"2020-09-03T21:00:00\", \"2020-09-04T05:00:00\", \"2020-09-04T12:00:00\", \"2020-09-04T20:00:00\", \"2020-09-05T05:00:00\", \"2020-09-05T12:00:00\", \"2020-09-05T20:00:00\", \"2020-09-06T05:00:00\", \"2020-09-06T09:00:00\", \"2020-09-14T12:00:00\", \"2020-09-15T05:00:00\", \"2020-09-15T10:00:00\", \"2020-09-15T11:00:00\", \"2020-09-15T19:00:00\", \"2020-09-16T00:00:00\", \"2020-09-16T12:00:00\", \"2020-09-16T20:00:00\", \"2020-09-17T04:00:00\", \"2020-09-17T12:00:00\", \"2020-09-17T20:00:00\", \"2020-09-18T03:00:00\", \"2020-09-18T11:00:00\"], \"xaxis\": \"x\", \"y\": [0.05999999865889549, 0.05999999865889549, 0.05999999865889549, 0.05999999865889549, 0.05999999865889549, 0.05999999865889549, 0.05999999865889549, 0.05999999865889549, 0.05999999865889549, 0.05999999865889549, 0.05999999865889549, 0.05999999865889549, 0.05999999865889549, 0.05999999865889549, 0.05999999865889549, 0.05999999865889549, 0.05999999865889549, 0.05999999865889549, 0.05999999865889549, 0.05999999865889549, 0.05999999865889549, 0.05999999865889549, 0.05999999865889549, 0.05999999865889549, 0.05999999865889549, 0.05999999865889549, 0.05999999865889549, 0.05999999865889549, 0.05999999865889549, 0.05999999865889549, 0.05999999865889549, 0.05999999865889549, 0.05999999865889549, 0.05999999865889549], \"yaxis\": \"y\"}, {\"line\": {\"color\": \"#FF5733\"}, \"mode\": \"lines\", \"name\": \"LSL \", \"type\": \"scatter\", \"x\": [\"2020-08-29T03:00:00\", \"2020-08-29T12:00:00\", \"2020-08-29T17:00:00\", \"2020-08-30T03:00:00\", \"2020-08-30T12:00:00\", \"2020-08-30T20:00:00\", \"2020-08-31T12:00:00\", \"2020-09-01T05:00:00\", \"2020-09-01T11:00:00\", \"2020-09-01T20:00:00\", \"2020-09-02T04:00:00\", \"2020-09-03T11:00:00\", \"2020-09-03T21:00:00\", \"2020-09-04T05:00:00\", \"2020-09-04T12:00:00\", \"2020-09-04T20:00:00\", \"2020-09-05T05:00:00\", \"2020-09-05T12:00:00\", \"2020-09-05T20:00:00\", \"2020-09-06T05:00:00\", \"2020-09-06T09:00:00\", \"2020-09-14T12:00:00\", \"2020-09-15T05:00:00\", \"2020-09-15T10:00:00\", \"2020-09-15T11:00:00\", \"2020-09-15T19:00:00\", \"2020-09-16T00:00:00\", \"2020-09-16T12:00:00\", \"2020-09-16T20:00:00\", \"2020-09-17T04:00:00\", \"2020-09-17T12:00:00\", \"2020-09-17T20:00:00\", \"2020-09-18T03:00:00\", \"2020-09-18T11:00:00\"], \"xaxis\": \"x\", \"y\": [null, null, null, null, null, null, null, null, null, null, null, null, null, null, null, null, null, null, null, null, null, null, null, null, null, null, null, null, null, null, null, null, null, null], \"yaxis\": \"y\"}, {\"line\": {\"color\": \"#33C2FF\"}, \"mode\": \"lines\", \"name\": \"UCL \", \"type\": \"scatter\", \"x\": [\"2020-08-29T03:00:00\", \"2020-08-29T12:00:00\", \"2020-08-29T17:00:00\", \"2020-08-30T03:00:00\", \"2020-08-30T12:00:00\", \"2020-08-30T20:00:00\", \"2020-08-31T12:00:00\", \"2020-09-01T05:00:00\", \"2020-09-01T11:00:00\", \"2020-09-01T20:00:00\", \"2020-09-02T04:00:00\", \"2020-09-03T11:00:00\", \"2020-09-03T21:00:00\", \"2020-09-04T05:00:00\", \"2020-09-04T12:00:00\", \"2020-09-04T20:00:00\", \"2020-09-05T05:00:00\", \"2020-09-05T12:00:00\", \"2020-09-05T20:00:00\", \"2020-09-06T05:00:00\", \"2020-09-06T09:00:00\", \"2020-09-14T12:00:00\", \"2020-09-15T05:00:00\", \"2020-09-15T10:00:00\", \"2020-09-15T11:00:00\", \"2020-09-15T19:00:00\", \"2020-09-16T00:00:00\", \"2020-09-16T12:00:00\", \"2020-09-16T20:00:00\", \"2020-09-17T04:00:00\", \"2020-09-17T12:00:00\", \"2020-09-17T20:00:00\", \"2020-09-18T03:00:00\", \"2020-09-18T11:00:00\"], \"xaxis\": \"x\", \"y\": [0.08500000089406967, 0.08500000089406967, 0.08500000089406967, 0.08500000089406967, 0.08500000089406967, 0.08500000089406967, 0.08500000089406967, 0.08500000089406967, 0.08500000089406967, 0.08500000089406967, 0.08500000089406967, 0.08500000089406967, 0.08500000089406967, 0.08500000089406967, 0.08500000089406967, 0.07800000160932541, 0.07800000160932541, 0.07800000160932541, 0.07800000160932541, 0.07800000160932541, 0.07800000160932541, 0.08100000023841858, 0.08100000023841858, 0.08100000023841858, 0.08100000023841858, 0.08100000023841858, 0.08100000023841858, 0.08100000023841858, 0.08100000023841858, 0.08100000023841858, 0.08100000023841858, 0.08100000023841858, 0.08100000023841858, 0.05400000140070915], \"yaxis\": \"y\"}, {\"line\": {\"color\": \"#33C2FF\"}, \"mode\": \"lines\", \"name\": \"LCL \", \"type\": \"scatter\", \"x\": [\"2020-08-29T03:00:00\", \"2020-08-29T12:00:00\", \"2020-08-29T17:00:00\", \"2020-08-30T03:00:00\", \"2020-08-30T12:00:00\", \"2020-08-30T20:00:00\", \"2020-08-31T12:00:00\", \"2020-09-01T05:00:00\", \"2020-09-01T11:00:00\", \"2020-09-01T20:00:00\", \"2020-09-02T04:00:00\", \"2020-09-03T11:00:00\", \"2020-09-03T21:00:00\", \"2020-09-04T05:00:00\", \"2020-09-04T12:00:00\", \"2020-09-04T20:00:00\", \"2020-09-05T05:00:00\", \"2020-09-05T12:00:00\", \"2020-09-05T20:00:00\", \"2020-09-06T05:00:00\", \"2020-09-06T09:00:00\", \"2020-09-14T12:00:00\", \"2020-09-15T05:00:00\", \"2020-09-15T10:00:00\", \"2020-09-15T11:00:00\", \"2020-09-15T19:00:00\", \"2020-09-16T00:00:00\", \"2020-09-16T12:00:00\", \"2020-09-16T20:00:00\", \"2020-09-17T04:00:00\", \"2020-09-17T12:00:00\", \"2020-09-17T20:00:00\", \"2020-09-18T03:00:00\", \"2020-09-18T11:00:00\"], \"xaxis\": \"x\", \"y\": [-0.07199999690055847, -0.07199999690055847, -0.07199999690055847, -0.07199999690055847, -0.07199999690055847, -0.07199999690055847, -0.07199999690055847, -0.07199999690055847, -0.07199999690055847, -0.07199999690055847, -0.07199999690055847, -0.07199999690055847, -0.07199999690055847, -0.07199999690055847, -0.07199999690055847, -0.05999999865889549, -0.05999999865889549, -0.05999999865889549, -0.05999999865889549, -0.05999999865889549, -0.05999999865889549, -0.05299999937415123, -0.05299999937415123, -0.05299999937415123, -0.05299999937415123, -0.05299999937415123, -0.05299999937415123, -0.05299999937415123, -0.05299999937415123, -0.05299999937415123, -0.05299999937415123, -0.05299999937415123, -0.05299999937415123, -0.039000000804662704], \"yaxis\": \"y\"}, {\"line\": {\"color\": \"#33C2FF\"}, \"mode\": \"lines\", \"name\": \"Mean \", \"type\": \"scatter\", \"x\": [\"2020-08-29T03:00:00\", \"2020-08-29T12:00:00\", \"2020-08-29T17:00:00\", \"2020-08-30T03:00:00\", \"2020-08-30T12:00:00\", \"2020-08-30T20:00:00\", \"2020-08-31T12:00:00\", \"2020-09-01T05:00:00\", \"2020-09-01T11:00:00\", \"2020-09-01T20:00:00\", \"2020-09-02T04:00:00\", \"2020-09-03T11:00:00\", \"2020-09-03T21:00:00\", \"2020-09-04T05:00:00\", \"2020-09-04T12:00:00\", \"2020-09-04T20:00:00\", \"2020-09-05T05:00:00\", \"2020-09-05T12:00:00\", \"2020-09-05T20:00:00\", \"2020-09-06T05:00:00\", \"2020-09-06T09:00:00\", \"2020-09-14T12:00:00\", \"2020-09-15T05:00:00\", \"2020-09-15T10:00:00\", \"2020-09-15T11:00:00\", \"2020-09-15T19:00:00\", \"2020-09-16T00:00:00\", \"2020-09-16T12:00:00\", \"2020-09-16T20:00:00\", \"2020-09-17T04:00:00\", \"2020-09-17T12:00:00\", \"2020-09-17T20:00:00\", \"2020-09-18T03:00:00\", \"2020-09-18T11:00:00\"], \"xaxis\": \"x\", \"y\": [0.006000000052154064, 0.006000000052154064, 0.006000000052154064, 0.006000000052154064, 0.006000000052154064, 0.006000000052154064, 0.006000000052154064, 0.006000000052154064, 0.006000000052154064, 0.006000000052154064, 0.006000000052154064, 0.006000000052154064, 0.006000000052154064, 0.006000000052154064, 0.006000000052154064, 0.008999999612569809, 0.008999999612569809, 0.008999999612569809, 0.008999999612569809, 0.008999999612569809, 0.008999999612569809, 0.014000000432133675, 0.014000000432133675, 0.014000000432133675, 0.014000000432133675, 0.014000000432133675, 0.014000000432133675, 0.014000000432133675, 0.014000000432133675, 0.014000000432133675, 0.014000000432133675, 0.014000000432133675, 0.014000000432133675, 0.007000000216066837], \"yaxis\": \"y\"}, {\"line\": {\"color\": \"#4280F5\"}, \"mode\": \"lines+markers\", \"name\": \"mean \", \"type\": \"scatter\", \"x\": [\"2020-08-29T03:00:00\", \"2020-08-29T12:00:00\", \"2020-08-29T17:00:00\", \"2020-08-30T03:00:00\", \"2020-08-30T12:00:00\", \"2020-08-30T20:00:00\", \"2020-08-31T12:00:00\", \"2020-09-01T05:00:00\", \"2020-09-01T11:00:00\", \"2020-09-01T20:00:00\", \"2020-09-02T04:00:00\", \"2020-09-03T11:00:00\", \"2020-09-03T21:00:00\", \"2020-09-04T05:00:00\", \"2020-09-04T12:00:00\", \"2020-09-04T20:00:00\", \"2020-09-05T05:00:00\", \"2020-09-05T12:00:00\", \"2020-09-05T20:00:00\", \"2020-09-06T05:00:00\", \"2020-09-06T09:00:00\", \"2020-09-14T12:00:00\", \"2020-09-15T05:00:00\", \"2020-09-15T10:00:00\", \"2020-09-15T11:00:00\", \"2020-09-15T19:00:00\", \"2020-09-16T00:00:00\", \"2020-09-16T12:00:00\", \"2020-09-16T20:00:00\", \"2020-09-17T04:00:00\", \"2020-09-17T12:00:00\", \"2020-09-17T20:00:00\", \"2020-09-18T03:00:00\", \"2020-09-18T11:00:00\"], \"xaxis\": \"x2\", \"y\": [0.029666665941476822, -0.007999999448657036, -0.011833333410322666, 0.03500000014901161, -0.007833333685994148, -0.014333333820104599, 0.013000000268220901, -0.004055555444210768, 0.004833333659917116, -0.02033333294093609, -0.004833333659917116, 0.0021666670218110085, -0.020666666328907013, -0.014833332970738411, 0.020666666328907013, -0.010333333164453506, -0.024666666984558105, -0.022333333268761635, -0.01366666704416275, -0.004500000271946192, 0.0030000002589076757, -0.013166666962206364, -0.006833333522081375, 0.03566666692495346, 0.009166666306555271, -0.004166665952652693, 0.029666665941476822, -0.006166666746139526, -0.0215000007301569, 0.03150000050663948, -0.006666666828095913, 0.005166666116565466, -0.023000000044703484, -0.007000000216066837], \"yaxis\": \"y2\"}, {\"line\": {\"color\": \"#FF5733\"}, \"mode\": \"lines\", \"name\": \"USL \", \"type\": \"scatter\", \"x\": [\"2020-08-29T03:00:00\", \"2020-08-29T12:00:00\", \"2020-08-29T17:00:00\", \"2020-08-30T03:00:00\", \"2020-08-30T12:00:00\", \"2020-08-30T20:00:00\", \"2020-08-31T12:00:00\", \"2020-09-01T05:00:00\", \"2020-09-01T11:00:00\", \"2020-09-01T20:00:00\", \"2020-09-02T04:00:00\", \"2020-09-03T11:00:00\", \"2020-09-03T21:00:00\", \"2020-09-04T05:00:00\", \"2020-09-04T12:00:00\", \"2020-09-04T20:00:00\", \"2020-09-05T05:00:00\", \"2020-09-05T12:00:00\", \"2020-09-05T20:00:00\", \"2020-09-06T05:00:00\", \"2020-09-06T09:00:00\", \"2020-09-14T12:00:00\", \"2020-09-15T05:00:00\", \"2020-09-15T10:00:00\", \"2020-09-15T11:00:00\", \"2020-09-15T19:00:00\", \"2020-09-16T00:00:00\", \"2020-09-16T12:00:00\", \"2020-09-16T20:00:00\", \"2020-09-17T04:00:00\", \"2020-09-17T12:00:00\", \"2020-09-17T20:00:00\", \"2020-09-18T03:00:00\", \"2020-09-18T11:00:00\"], \"xaxis\": \"x2\", \"y\": [0.10000000149011612, 0.10000000149011612, 0.10000000149011612, 0.10000000149011612, 0.10000000149011612, 0.10000000149011612, 0.10000000149011612, 0.10000000149011612, 0.10000000149011612, 0.10000000149011612, 0.10000000149011612, 0.10000000149011612, 0.10000000149011612, 0.10000000149011612, 0.10000000149011612, 0.10000000149011612, 0.10000000149011612, 0.10000000149011612, 0.10000000149011612, 0.10000000149011612, 0.10000000149011612, 0.10000000149011612, 0.10000000149011612, 0.10000000149011612, 0.10000000149011612, 0.10000000149011612, 0.10000000149011612, 0.10000000149011612, 0.10000000149011612, 0.10000000149011612, 0.10000000149011612, 0.10000000149011612, 0.10000000149011612, 0.10000000149011612], \"yaxis\": \"y2\"}, {\"line\": {\"color\": \"#FF5733\"}, \"mode\": \"lines\", \"name\": \"LSL \", \"type\": \"scatter\", \"x\": [\"2020-08-29T03:00:00\", \"2020-08-29T12:00:00\", \"2020-08-29T17:00:00\", \"2020-08-30T03:00:00\", \"2020-08-30T12:00:00\", \"2020-08-30T20:00:00\", \"2020-08-31T12:00:00\", \"2020-09-01T05:00:00\", \"2020-09-01T11:00:00\", \"2020-09-01T20:00:00\", \"2020-09-02T04:00:00\", \"2020-09-03T11:00:00\", \"2020-09-03T21:00:00\", \"2020-09-04T05:00:00\", \"2020-09-04T12:00:00\", \"2020-09-04T20:00:00\", \"2020-09-05T05:00:00\", \"2020-09-05T12:00:00\", \"2020-09-05T20:00:00\", \"2020-09-06T05:00:00\", \"2020-09-06T09:00:00\", \"2020-09-14T12:00:00\", \"2020-09-15T05:00:00\", \"2020-09-15T10:00:00\", \"2020-09-15T11:00:00\", \"2020-09-15T19:00:00\", \"2020-09-16T00:00:00\", \"2020-09-16T12:00:00\", \"2020-09-16T20:00:00\", \"2020-09-17T04:00:00\", \"2020-09-17T12:00:00\", \"2020-09-17T20:00:00\", \"2020-09-18T03:00:00\", \"2020-09-18T11:00:00\"], \"xaxis\": \"x2\", \"y\": [null, null, null, null, null, null, null, null, null, null, null, null, null, null, null, null, null, null, null, null, null, null, null, null, null, null, null, null, null, null, null, null, null, null], \"yaxis\": \"y2\"}, {\"line\": {\"color\": \"#33C2FF\"}, \"mode\": \"lines\", \"name\": \"UCL \", \"type\": \"scatter\", \"x\": [\"2020-08-29T03:00:00\", \"2020-08-29T12:00:00\", \"2020-08-29T17:00:00\", \"2020-08-30T03:00:00\", \"2020-08-30T12:00:00\", \"2020-08-30T20:00:00\", \"2020-08-31T12:00:00\", \"2020-09-01T05:00:00\", \"2020-09-01T11:00:00\", \"2020-09-01T20:00:00\", \"2020-09-02T04:00:00\", \"2020-09-03T11:00:00\", \"2020-09-03T21:00:00\", \"2020-09-04T05:00:00\", \"2020-09-04T12:00:00\", \"2020-09-04T20:00:00\", \"2020-09-05T05:00:00\", \"2020-09-05T12:00:00\", \"2020-09-05T20:00:00\", \"2020-09-06T05:00:00\", \"2020-09-06T09:00:00\", \"2020-09-14T12:00:00\", \"2020-09-15T05:00:00\", \"2020-09-15T10:00:00\", \"2020-09-15T11:00:00\", \"2020-09-15T19:00:00\", \"2020-09-16T00:00:00\", \"2020-09-16T12:00:00\", \"2020-09-16T20:00:00\", \"2020-09-17T04:00:00\", \"2020-09-17T12:00:00\", \"2020-09-17T20:00:00\", \"2020-09-18T03:00:00\", \"2020-09-18T11:00:00\"], \"xaxis\": \"x2\", \"y\": [0.07000000029802322, 0.07000000029802322, 0.07000000029802322, 0.07000000029802322, 0.07000000029802322, 0.07000000029802322, 0.07000000029802322, 0.07000000029802322, 0.07000000029802322, 0.07000000029802322, 0.07000000029802322, 0.07000000029802322, 0.07000000029802322, 0.07000000029802322, 0.07000000029802322, 0.03799999877810478, 0.03799999877810478, 0.03799999877810478, 0.03799999877810478, 0.03799999877810478, 0.03799999877810478, 0.0820000022649765, 0.0820000022649765, 0.0820000022649765, 0.0820000022649765, 0.0820000022649765, 0.0820000022649765, 0.0820000022649765, 0.0820000022649765, 0.0820000022649765, 0.0820000022649765, 0.0820000022649765, 0.0820000022649765, 0.07599999755620956], \"yaxis\": \"y2\"}, {\"line\": {\"color\": \"#33C2FF\"}, \"mode\": \"lines\", \"name\": \"LCL \", \"type\": \"scatter\", \"x\": [\"2020-08-29T03:00:00\", \"2020-08-29T12:00:00\", \"2020-08-29T17:00:00\", \"2020-08-30T03:00:00\", \"2020-08-30T12:00:00\", \"2020-08-30T20:00:00\", \"2020-08-31T12:00:00\", \"2020-09-01T05:00:00\", \"2020-09-01T11:00:00\", \"2020-09-01T20:00:00\", \"2020-09-02T04:00:00\", \"2020-09-03T11:00:00\", \"2020-09-03T21:00:00\", \"2020-09-04T05:00:00\", \"2020-09-04T12:00:00\", \"2020-09-04T20:00:00\", \"2020-09-05T05:00:00\", \"2020-09-05T12:00:00\", \"2020-09-05T20:00:00\", \"2020-09-06T05:00:00\", \"2020-09-06T09:00:00\", \"2020-09-14T12:00:00\", \"2020-09-15T05:00:00\", \"2020-09-15T10:00:00\", \"2020-09-15T11:00:00\", \"2020-09-15T19:00:00\", \"2020-09-16T00:00:00\", \"2020-09-16T12:00:00\", \"2020-09-16T20:00:00\", \"2020-09-17T04:00:00\", \"2020-09-17T12:00:00\", \"2020-09-17T20:00:00\", \"2020-09-18T03:00:00\", \"2020-09-18T11:00:00\"], \"xaxis\": \"x2\", \"y\": [-0.07100000232458115, -0.07100000232458115, -0.07100000232458115, -0.07100000232458115, -0.07100000232458115, -0.07100000232458115, -0.07100000232458115, -0.07100000232458115, -0.07100000232458115, -0.07100000232458115, -0.07100000232458115, -0.07100000232458115, -0.07100000232458115, -0.07100000232458115, -0.07100000232458115, -0.061000000685453415, -0.061000000685453415, -0.061000000685453415, -0.061000000685453415, -0.061000000685453415, -0.061000000685453415, -0.07699999958276749, -0.07699999958276749, -0.07699999958276749, -0.07699999958276749, -0.07699999958276749, -0.07699999958276749, -0.07699999958276749, -0.07699999958276749, -0.07699999958276749, -0.07699999958276749, -0.07699999958276749, -0.07699999958276749, -0.09000000357627869], \"yaxis\": \"y2\"}, {\"line\": {\"color\": \"#33C2FF\"}, \"mode\": \"lines\", \"name\": \"Mean \", \"type\": \"scatter\", \"x\": [\"2020-08-29T03:00:00\", \"2020-08-29T12:00:00\", \"2020-08-29T17:00:00\", \"2020-08-30T03:00:00\", \"2020-08-30T12:00:00\", \"2020-08-30T20:00:00\", \"2020-08-31T12:00:00\", \"2020-09-01T05:00:00\", \"2020-09-01T11:00:00\", \"2020-09-01T20:00:00\", \"2020-09-02T04:00:00\", \"2020-09-03T11:00:00\", \"2020-09-03T21:00:00\", \"2020-09-04T05:00:00\", \"2020-09-04T12:00:00\", \"2020-09-04T20:00:00\", \"2020-09-05T05:00:00\", \"2020-09-05T12:00:00\", \"2020-09-05T20:00:00\", \"2020-09-06T05:00:00\", \"2020-09-06T09:00:00\", \"2020-09-14T12:00:00\", \"2020-09-15T05:00:00\", \"2020-09-15T10:00:00\", \"2020-09-15T11:00:00\", \"2020-09-15T19:00:00\", \"2020-09-16T00:00:00\", \"2020-09-16T12:00:00\", \"2020-09-16T20:00:00\", \"2020-09-17T04:00:00\", \"2020-09-17T12:00:00\", \"2020-09-17T20:00:00\", \"2020-09-18T03:00:00\", \"2020-09-18T11:00:00\"], \"xaxis\": \"x2\", \"y\": [-0.0010000000474974513, -0.0010000000474974513, -0.0010000000474974513, -0.0010000000474974513, -0.0010000000474974513, -0.0010000000474974513, -0.0010000000474974513, -0.0010000000474974513, -0.0010000000474974513, -0.0010000000474974513, -0.0010000000474974513, -0.0010000000474974513, -0.0010000000474974513, -0.0010000000474974513, -0.0010000000474974513, -0.012000000104308128, -0.012000000104308128, -0.012000000104308128, -0.012000000104308128, -0.012000000104308128, -0.012000000104308128, 0.0020000000949949026, 0.0020000000949949026, 0.0020000000949949026, 0.0020000000949949026, 0.0020000000949949026, 0.0020000000949949026, 0.0020000000949949026, 0.0020000000949949026, 0.0020000000949949026, 0.0020000000949949026, 0.0020000000949949026, 0.0020000000949949026, -0.007000000216066837], \"yaxis\": \"y2\"}],\n",
              "                        {\"annotations\": [{\"font\": {\"size\": 16}, \"showarrow\": false, \"text\": \"Dim B Cp: nan Pp: nan Cpk: 1.36 Ppk: 0.75\", \"x\": 0.5, \"xanchor\": \"center\", \"xref\": \"paper\", \"y\": 1.0, \"yanchor\": \"bottom\", \"yref\": \"paper\"}, {\"font\": {\"size\": 16}, \"showarrow\": false, \"text\": \"Dim C Cp: nan Pp: nan Cpk: 2.94 Ppk: 1.5\", \"x\": 0.5, \"xanchor\": \"center\", \"xref\": \"paper\", \"y\": 0.375, \"yanchor\": \"bottom\", \"yref\": \"paper\"}], \"height\": 400, \"template\": {\"data\": {\"bar\": [{\"error_x\": {\"color\": \"#2a3f5f\"}, \"error_y\": {\"color\": \"#2a3f5f\"}, \"marker\": {\"line\": {\"color\": \"#E5ECF6\", \"width\": 0.5}}, \"type\": \"bar\"}], \"barpolar\": [{\"marker\": {\"line\": {\"color\": \"#E5ECF6\", \"width\": 0.5}}, \"type\": \"barpolar\"}], \"carpet\": [{\"aaxis\": {\"endlinecolor\": \"#2a3f5f\", \"gridcolor\": \"white\", \"linecolor\": \"white\", \"minorgridcolor\": \"white\", \"startlinecolor\": \"#2a3f5f\"}, \"baxis\": {\"endlinecolor\": \"#2a3f5f\", \"gridcolor\": \"white\", \"linecolor\": \"white\", \"minorgridcolor\": \"white\", \"startlinecolor\": \"#2a3f5f\"}, \"type\": \"carpet\"}], \"choropleth\": [{\"colorbar\": {\"outlinewidth\": 0, \"ticks\": \"\"}, \"type\": \"choropleth\"}], \"contour\": [{\"colorbar\": {\"outlinewidth\": 0, \"ticks\": \"\"}, \"colorscale\": [[0.0, \"#0d0887\"], [0.1111111111111111, \"#46039f\"], [0.2222222222222222, \"#7201a8\"], [0.3333333333333333, \"#9c179e\"], [0.4444444444444444, \"#bd3786\"], [0.5555555555555556, \"#d8576b\"], [0.6666666666666666, \"#ed7953\"], [0.7777777777777778, \"#fb9f3a\"], [0.8888888888888888, \"#fdca26\"], [1.0, \"#f0f921\"]], \"type\": \"contour\"}], \"contourcarpet\": [{\"colorbar\": {\"outlinewidth\": 0, \"ticks\": \"\"}, \"type\": \"contourcarpet\"}], \"heatmap\": [{\"colorbar\": {\"outlinewidth\": 0, \"ticks\": \"\"}, \"colorscale\": [[0.0, \"#0d0887\"], [0.1111111111111111, \"#46039f\"], [0.2222222222222222, \"#7201a8\"], [0.3333333333333333, \"#9c179e\"], [0.4444444444444444, \"#bd3786\"], [0.5555555555555556, \"#d8576b\"], [0.6666666666666666, \"#ed7953\"], [0.7777777777777778, \"#fb9f3a\"], [0.8888888888888888, \"#fdca26\"], [1.0, \"#f0f921\"]], \"type\": \"heatmap\"}], \"heatmapgl\": [{\"colorbar\": {\"outlinewidth\": 0, \"ticks\": \"\"}, \"colorscale\": [[0.0, \"#0d0887\"], [0.1111111111111111, \"#46039f\"], [0.2222222222222222, \"#7201a8\"], [0.3333333333333333, \"#9c179e\"], [0.4444444444444444, \"#bd3786\"], [0.5555555555555556, \"#d8576b\"], [0.6666666666666666, \"#ed7953\"], [0.7777777777777778, \"#fb9f3a\"], [0.8888888888888888, \"#fdca26\"], [1.0, \"#f0f921\"]], \"type\": \"heatmapgl\"}], \"histogram\": [{\"marker\": {\"colorbar\": {\"outlinewidth\": 0, \"ticks\": \"\"}}, \"type\": \"histogram\"}], \"histogram2d\": [{\"colorbar\": {\"outlinewidth\": 0, \"ticks\": \"\"}, \"colorscale\": [[0.0, \"#0d0887\"], [0.1111111111111111, \"#46039f\"], [0.2222222222222222, \"#7201a8\"], [0.3333333333333333, \"#9c179e\"], [0.4444444444444444, \"#bd3786\"], [0.5555555555555556, \"#d8576b\"], [0.6666666666666666, \"#ed7953\"], [0.7777777777777778, \"#fb9f3a\"], [0.8888888888888888, \"#fdca26\"], [1.0, \"#f0f921\"]], \"type\": \"histogram2d\"}], \"histogram2dcontour\": [{\"colorbar\": {\"outlinewidth\": 0, \"ticks\": \"\"}, \"colorscale\": [[0.0, \"#0d0887\"], [0.1111111111111111, \"#46039f\"], [0.2222222222222222, \"#7201a8\"], [0.3333333333333333, \"#9c179e\"], [0.4444444444444444, \"#bd3786\"], [0.5555555555555556, \"#d8576b\"], [0.6666666666666666, \"#ed7953\"], [0.7777777777777778, \"#fb9f3a\"], [0.8888888888888888, \"#fdca26\"], [1.0, \"#f0f921\"]], \"type\": \"histogram2dcontour\"}], \"mesh3d\": [{\"colorbar\": {\"outlinewidth\": 0, \"ticks\": \"\"}, \"type\": \"mesh3d\"}], \"parcoords\": [{\"line\": {\"colorbar\": {\"outlinewidth\": 0, \"ticks\": \"\"}}, \"type\": \"parcoords\"}], \"pie\": [{\"automargin\": true, \"type\": \"pie\"}], \"scatter\": [{\"marker\": {\"colorbar\": {\"outlinewidth\": 0, \"ticks\": \"\"}}, \"type\": \"scatter\"}], \"scatter3d\": [{\"line\": {\"colorbar\": {\"outlinewidth\": 0, \"ticks\": \"\"}}, \"marker\": {\"colorbar\": {\"outlinewidth\": 0, \"ticks\": \"\"}}, \"type\": \"scatter3d\"}], \"scattercarpet\": [{\"marker\": {\"colorbar\": {\"outlinewidth\": 0, \"ticks\": \"\"}}, \"type\": \"scattercarpet\"}], \"scattergeo\": [{\"marker\": {\"colorbar\": {\"outlinewidth\": 0, \"ticks\": \"\"}}, \"type\": \"scattergeo\"}], \"scattergl\": [{\"marker\": {\"colorbar\": {\"outlinewidth\": 0, \"ticks\": \"\"}}, \"type\": \"scattergl\"}], \"scattermapbox\": [{\"marker\": {\"colorbar\": {\"outlinewidth\": 0, \"ticks\": \"\"}}, \"type\": \"scattermapbox\"}], \"scatterpolar\": [{\"marker\": {\"colorbar\": {\"outlinewidth\": 0, \"ticks\": \"\"}}, \"type\": \"scatterpolar\"}], \"scatterpolargl\": [{\"marker\": {\"colorbar\": {\"outlinewidth\": 0, \"ticks\": \"\"}}, \"type\": \"scatterpolargl\"}], \"scatterternary\": [{\"marker\": {\"colorbar\": {\"outlinewidth\": 0, \"ticks\": \"\"}}, \"type\": \"scatterternary\"}], \"surface\": [{\"colorbar\": {\"outlinewidth\": 0, \"ticks\": \"\"}, \"colorscale\": [[0.0, \"#0d0887\"], [0.1111111111111111, \"#46039f\"], [0.2222222222222222, \"#7201a8\"], [0.3333333333333333, \"#9c179e\"], [0.4444444444444444, \"#bd3786\"], [0.5555555555555556, \"#d8576b\"], [0.6666666666666666, \"#ed7953\"], [0.7777777777777778, \"#fb9f3a\"], [0.8888888888888888, \"#fdca26\"], [1.0, \"#f0f921\"]], \"type\": \"surface\"}], \"table\": [{\"cells\": {\"fill\": {\"color\": \"#EBF0F8\"}, \"line\": {\"color\": \"white\"}}, \"header\": {\"fill\": {\"color\": \"#C8D4E3\"}, \"line\": {\"color\": \"white\"}}, \"type\": \"table\"}]}, \"layout\": {\"annotationdefaults\": {\"arrowcolor\": \"#2a3f5f\", \"arrowhead\": 0, \"arrowwidth\": 1}, \"coloraxis\": {\"colorbar\": {\"outlinewidth\": 0, \"ticks\": \"\"}}, \"colorscale\": {\"diverging\": [[0, \"#8e0152\"], [0.1, \"#c51b7d\"], [0.2, \"#de77ae\"], [0.3, \"#f1b6da\"], [0.4, \"#fde0ef\"], [0.5, \"#f7f7f7\"], [0.6, \"#e6f5d0\"], [0.7, \"#b8e186\"], [0.8, \"#7fbc41\"], [0.9, \"#4d9221\"], [1, \"#276419\"]], \"sequential\": [[0.0, \"#0d0887\"], [0.1111111111111111, \"#46039f\"], [0.2222222222222222, \"#7201a8\"], [0.3333333333333333, \"#9c179e\"], [0.4444444444444444, \"#bd3786\"], [0.5555555555555556, \"#d8576b\"], [0.6666666666666666, \"#ed7953\"], [0.7777777777777778, \"#fb9f3a\"], [0.8888888888888888, \"#fdca26\"], [1.0, \"#f0f921\"]], \"sequentialminus\": [[0.0, \"#0d0887\"], [0.1111111111111111, \"#46039f\"], [0.2222222222222222, \"#7201a8\"], [0.3333333333333333, \"#9c179e\"], [0.4444444444444444, \"#bd3786\"], [0.5555555555555556, \"#d8576b\"], [0.6666666666666666, \"#ed7953\"], [0.7777777777777778, \"#fb9f3a\"], [0.8888888888888888, \"#fdca26\"], [1.0, \"#f0f921\"]]}, \"colorway\": [\"#636efa\", \"#EF553B\", \"#00cc96\", \"#ab63fa\", \"#FFA15A\", \"#19d3f3\", \"#FF6692\", \"#B6E880\", \"#FF97FF\", \"#FECB52\"], \"font\": {\"color\": \"#2a3f5f\"}, \"geo\": {\"bgcolor\": \"white\", \"lakecolor\": \"white\", \"landcolor\": \"#E5ECF6\", \"showlakes\": true, \"showland\": true, \"subunitcolor\": \"white\"}, \"hoverlabel\": {\"align\": \"left\"}, \"hovermode\": \"closest\", \"mapbox\": {\"style\": \"light\"}, \"paper_bgcolor\": \"white\", \"plot_bgcolor\": \"#E5ECF6\", \"polar\": {\"angularaxis\": {\"gridcolor\": \"white\", \"linecolor\": \"white\", \"ticks\": \"\"}, \"bgcolor\": \"#E5ECF6\", \"radialaxis\": {\"gridcolor\": \"white\", \"linecolor\": \"white\", \"ticks\": \"\"}}, \"scene\": {\"xaxis\": {\"backgroundcolor\": \"#E5ECF6\", \"gridcolor\": \"white\", \"gridwidth\": 2, \"linecolor\": \"white\", \"showbackground\": true, \"ticks\": \"\", \"zerolinecolor\": \"white\"}, \"yaxis\": {\"backgroundcolor\": \"#E5ECF6\", \"gridcolor\": \"white\", \"gridwidth\": 2, \"linecolor\": \"white\", \"showbackground\": true, \"ticks\": \"\", \"zerolinecolor\": \"white\"}, \"zaxis\": {\"backgroundcolor\": \"#E5ECF6\", \"gridcolor\": \"white\", \"gridwidth\": 2, \"linecolor\": \"white\", \"showbackground\": true, \"ticks\": \"\", \"zerolinecolor\": \"white\"}}, \"shapedefaults\": {\"line\": {\"color\": \"#2a3f5f\"}}, \"ternary\": {\"aaxis\": {\"gridcolor\": \"white\", \"linecolor\": \"white\", \"ticks\": \"\"}, \"baxis\": {\"gridcolor\": \"white\", \"linecolor\": \"white\", \"ticks\": \"\"}, \"bgcolor\": \"#E5ECF6\", \"caxis\": {\"gridcolor\": \"white\", \"linecolor\": \"white\", \"ticks\": \"\"}}, \"title\": {\"x\": 0.05}, \"xaxis\": {\"automargin\": true, \"gridcolor\": \"white\", \"linecolor\": \"white\", \"ticks\": \"\", \"title\": {\"standoff\": 15}, \"zerolinecolor\": \"white\", \"zerolinewidth\": 2}, \"yaxis\": {\"automargin\": true, \"gridcolor\": \"white\", \"linecolor\": \"white\", \"ticks\": \"\", \"title\": {\"standoff\": 15}, \"zerolinecolor\": \"white\", \"zerolinewidth\": 2}}}, \"title\": {\"text\": \"Process: 26941-Welding alignment X,Y or \"}, \"width\": 1200, \"xaxis\": {\"anchor\": \"y\", \"domain\": [0.0, 1.0]}, \"xaxis2\": {\"anchor\": \"y2\", \"domain\": [0.0, 1.0]}, \"yaxis\": {\"anchor\": \"x\", \"domain\": [0.625, 1.0]}, \"yaxis2\": {\"anchor\": \"x2\", \"domain\": [0.0, 0.375]}},\n",
              "                        {\"responsive\": true}\n",
              "                    ).then(function(){\n",
              "                            \n",
              "var gd = document.getElementById('d294a8bb-049e-46e4-9ba9-7e9423253dac');\n",
              "var x = new MutationObserver(function (mutations, observer) {{\n",
              "        var display = window.getComputedStyle(gd).display;\n",
              "        if (!display || display === 'none') {{\n",
              "            console.log([gd, 'removed!']);\n",
              "            Plotly.purge(gd);\n",
              "            observer.disconnect();\n",
              "        }}\n",
              "}});\n",
              "\n",
              "// Listen for the removal of the full notebook cells\n",
              "var notebookContainer = gd.closest('#notebook-container');\n",
              "if (notebookContainer) {{\n",
              "    x.observe(notebookContainer, {childList: true});\n",
              "}}\n",
              "\n",
              "// Listen for the clearing of the current output cell\n",
              "var outputEl = gd.closest('.output');\n",
              "if (outputEl) {{\n",
              "    x.observe(outputEl, {childList: true});\n",
              "}}\n",
              "\n",
              "                        })\n",
              "                };\n",
              "                \n",
              "            </script>\n",
              "        </div>\n",
              "</body>\n",
              "</html>"
            ]
          },
          "metadata": {
            "tags": []
          }
        },
        {
          "output_type": "display_data",
          "data": {
            "text/html": [
              "<html>\n",
              "<head><meta charset=\"utf-8\" /></head>\n",
              "<body>\n",
              "    <div>\n",
              "            <script src=\"https://cdnjs.cloudflare.com/ajax/libs/mathjax/2.7.5/MathJax.js?config=TeX-AMS-MML_SVG\"></script><script type=\"text/javascript\">if (window.MathJax) {MathJax.Hub.Config({SVG: {font: \"STIX-Web\"}});}</script>\n",
              "                <script type=\"text/javascript\">window.PlotlyConfig = {MathJaxConfig: 'local'};</script>\n",
              "        <script src=\"https://cdn.plot.ly/plotly-latest.min.js\"></script>    \n",
              "            <div id=\"f925841f-e939-4977-9ffa-d3aeecf13081\" class=\"plotly-graph-div\" style=\"height:600px; width:1200px;\"></div>\n",
              "            <script type=\"text/javascript\">\n",
              "                \n",
              "                    window.PLOTLYENV=window.PLOTLYENV || {};\n",
              "                    \n",
              "                if (document.getElementById(\"f925841f-e939-4977-9ffa-d3aeecf13081\")) {\n",
              "                    Plotly.newPlot(\n",
              "                        'f925841f-e939-4977-9ffa-d3aeecf13081',\n",
              "                        [{\"line\": {\"color\": \"#4280F5\"}, \"mode\": \"lines+markers\", \"name\": \"mean \", \"type\": \"scatter\", \"x\": [\"2020-08-29T03:00:00\", \"2020-08-29T12:00:00\", \"2020-08-29T19:00:00\", \"2020-08-30T04:00:00\", \"2020-08-30T12:00:00\", \"2020-08-31T12:00:00\", \"2020-09-01T05:00:00\", \"2020-09-01T11:00:00\", \"2020-09-01T20:00:00\", \"2020-09-02T04:00:00\", \"2020-09-03T11:00:00\", \"2020-09-03T21:00:00\", \"2020-09-04T05:00:00\", \"2020-09-04T12:00:00\", \"2020-09-04T20:00:00\", \"2020-09-05T05:00:00\", \"2020-09-05T12:00:00\", \"2020-09-05T20:00:00\", \"2020-09-06T05:00:00\", \"2020-09-14T12:00:00\", \"2020-09-15T05:00:00\", \"2020-09-15T11:00:00\", \"2020-09-15T19:00:00\", \"2020-09-16T12:00:00\", \"2020-09-16T20:00:00\", \"2020-09-17T04:00:00\", \"2020-09-17T12:00:00\", \"2020-09-17T20:00:00\", \"2020-09-18T03:00:00\", \"2020-09-18T12:00:00\"], \"xaxis\": \"x\", \"y\": [1.3306000232696533, 1.337399959564209, 1.3101999759674072, 1.3487999439239502, 1.333799958229065, 1.3372000455856323, 1.3355333805084229, 1.3198000192642212, 1.3353999853134155, 1.3365999460220337, 1.3329999446868896, 1.3519999980926514, 1.326200008392334, 1.3384000062942505, 1.3170000314712524, 1.340399980545044, 1.3187999725341797, 1.325600028038025, 1.3181999921798706, 1.3323999643325806, 1.3157999515533447, 1.3270000219345093, 1.3234000205993652, 1.329800009727478, 1.3229999542236328, 1.3306000232696533, 1.3342000246047974, 1.3348000049591064, 1.3134000301361084, 1.3170000314712524], \"yaxis\": \"y\"}, {\"line\": {\"color\": \"#FF5733\"}, \"mode\": \"lines\", \"name\": \"USL \", \"type\": \"scatter\", \"x\": [\"2020-08-29T03:00:00\", \"2020-08-29T12:00:00\", \"2020-08-29T19:00:00\", \"2020-08-30T04:00:00\", \"2020-08-30T12:00:00\", \"2020-08-31T12:00:00\", \"2020-09-01T05:00:00\", \"2020-09-01T11:00:00\", \"2020-09-01T20:00:00\", \"2020-09-02T04:00:00\", \"2020-09-03T11:00:00\", \"2020-09-03T21:00:00\", \"2020-09-04T05:00:00\", \"2020-09-04T12:00:00\", \"2020-09-04T20:00:00\", \"2020-09-05T05:00:00\", \"2020-09-05T12:00:00\", \"2020-09-05T20:00:00\", \"2020-09-06T05:00:00\", \"2020-09-14T12:00:00\", \"2020-09-15T05:00:00\", \"2020-09-15T11:00:00\", \"2020-09-15T19:00:00\", \"2020-09-16T12:00:00\", \"2020-09-16T20:00:00\", \"2020-09-17T04:00:00\", \"2020-09-17T12:00:00\", \"2020-09-17T20:00:00\", \"2020-09-18T03:00:00\", \"2020-09-18T12:00:00\"], \"xaxis\": \"x\", \"y\": [1.3700000047683716, 1.3700000047683716, 1.3700000047683716, 1.3700000047683716, 1.3700000047683716, 1.3700000047683716, 1.3700000047683716, 1.3700000047683716, 1.3700000047683716, 1.3700000047683716, 1.3700000047683716, 1.3700000047683716, 1.3700000047683716, 1.3700000047683716, 1.3700000047683716, 1.3700000047683716, 1.3700000047683716, 1.3700000047683716, 1.3700000047683716, 1.3700000047683716, 1.3700000047683716, 1.3700000047683716, 1.3700000047683716, 1.3700000047683716, 1.3700000047683716, 1.3700000047683716, 1.3700000047683716, 1.3700000047683716, 1.3700000047683716, 1.3700000047683716], \"yaxis\": \"y\"}, {\"line\": {\"color\": \"#FF5733\"}, \"mode\": \"lines\", \"name\": \"LSL \", \"type\": \"scatter\", \"x\": [\"2020-08-29T03:00:00\", \"2020-08-29T12:00:00\", \"2020-08-29T19:00:00\", \"2020-08-30T04:00:00\", \"2020-08-30T12:00:00\", \"2020-08-31T12:00:00\", \"2020-09-01T05:00:00\", \"2020-09-01T11:00:00\", \"2020-09-01T20:00:00\", \"2020-09-02T04:00:00\", \"2020-09-03T11:00:00\", \"2020-09-03T21:00:00\", \"2020-09-04T05:00:00\", \"2020-09-04T12:00:00\", \"2020-09-04T20:00:00\", \"2020-09-05T05:00:00\", \"2020-09-05T12:00:00\", \"2020-09-05T20:00:00\", \"2020-09-06T05:00:00\", \"2020-09-14T12:00:00\", \"2020-09-15T05:00:00\", \"2020-09-15T11:00:00\", \"2020-09-15T19:00:00\", \"2020-09-16T12:00:00\", \"2020-09-16T20:00:00\", \"2020-09-17T04:00:00\", \"2020-09-17T12:00:00\", \"2020-09-17T20:00:00\", \"2020-09-18T03:00:00\", \"2020-09-18T12:00:00\"], \"xaxis\": \"x\", \"y\": [1.2699999809265137, 1.2699999809265137, 1.2699999809265137, 1.2699999809265137, 1.2699999809265137, 1.2699999809265137, 1.2699999809265137, 1.2699999809265137, 1.2699999809265137, 1.2699999809265137, 1.2699999809265137, 1.2699999809265137, 1.2699999809265137, 1.2699999809265137, 1.2699999809265137, 1.2699999809265137, 1.2699999809265137, 1.2699999809265137, 1.2699999809265137, 1.2699999809265137, 1.2699999809265137, 1.2699999809265137, 1.2699999809265137, 1.2699999809265137, 1.2699999809265137, 1.2699999809265137, 1.2699999809265137, 1.2699999809265137, 1.2699999809265137, 1.2699999809265137], \"yaxis\": \"y\"}, {\"line\": {\"color\": \"#33C2FF\"}, \"mode\": \"lines\", \"name\": \"UCL \", \"type\": \"scatter\", \"x\": [\"2020-08-29T03:00:00\", \"2020-08-29T12:00:00\", \"2020-08-29T19:00:00\", \"2020-08-30T04:00:00\", \"2020-08-30T12:00:00\", \"2020-08-31T12:00:00\", \"2020-09-01T05:00:00\", \"2020-09-01T11:00:00\", \"2020-09-01T20:00:00\", \"2020-09-02T04:00:00\", \"2020-09-03T11:00:00\", \"2020-09-03T21:00:00\", \"2020-09-04T05:00:00\", \"2020-09-04T12:00:00\", \"2020-09-04T20:00:00\", \"2020-09-05T05:00:00\", \"2020-09-05T12:00:00\", \"2020-09-05T20:00:00\", \"2020-09-06T05:00:00\", \"2020-09-14T12:00:00\", \"2020-09-15T05:00:00\", \"2020-09-15T11:00:00\", \"2020-09-15T19:00:00\", \"2020-09-16T12:00:00\", \"2020-09-16T20:00:00\", \"2020-09-17T04:00:00\", \"2020-09-17T12:00:00\", \"2020-09-17T20:00:00\", \"2020-09-18T03:00:00\", \"2020-09-18T12:00:00\"], \"xaxis\": \"x\", \"y\": [1.3849999904632568, 1.3849999904632568, 1.3849999904632568, 1.3849999904632568, 1.3849999904632568, 1.3849999904632568, 1.3849999904632568, 1.3849999904632568, 1.3849999904632568, 1.3849999904632568, 1.3849999904632568, 1.3849999904632568, 1.3849999904632568, 1.3849999904632568, 1.3739999532699585, 1.3739999532699585, 1.3739999532699585, 1.3739999532699585, 1.3739999532699585, 1.3739999532699585, 1.3739999532699585, 1.3739999532699585, 1.3739999532699585, 1.3739999532699585, 1.3739999532699585, 1.3739999532699585, 1.3739999532699585, 1.3739999532699585, 1.3739999532699585, 1.3559999465942383], \"yaxis\": \"y\"}, {\"line\": {\"color\": \"#33C2FF\"}, \"mode\": \"lines\", \"name\": \"LCL \", \"type\": \"scatter\", \"x\": [\"2020-08-29T03:00:00\", \"2020-08-29T12:00:00\", \"2020-08-29T19:00:00\", \"2020-08-30T04:00:00\", \"2020-08-30T12:00:00\", \"2020-08-31T12:00:00\", \"2020-09-01T05:00:00\", \"2020-09-01T11:00:00\", \"2020-09-01T20:00:00\", \"2020-09-02T04:00:00\", \"2020-09-03T11:00:00\", \"2020-09-03T21:00:00\", \"2020-09-04T05:00:00\", \"2020-09-04T12:00:00\", \"2020-09-04T20:00:00\", \"2020-09-05T05:00:00\", \"2020-09-05T12:00:00\", \"2020-09-05T20:00:00\", \"2020-09-06T05:00:00\", \"2020-09-14T12:00:00\", \"2020-09-15T05:00:00\", \"2020-09-15T11:00:00\", \"2020-09-15T19:00:00\", \"2020-09-16T12:00:00\", \"2020-09-16T20:00:00\", \"2020-09-17T04:00:00\", \"2020-09-17T12:00:00\", \"2020-09-17T20:00:00\", \"2020-09-18T03:00:00\", \"2020-09-18T12:00:00\"], \"xaxis\": \"x\", \"y\": [1.284000039100647, 1.284000039100647, 1.284000039100647, 1.284000039100647, 1.284000039100647, 1.284000039100647, 1.284000039100647, 1.284000039100647, 1.284000039100647, 1.284000039100647, 1.284000039100647, 1.284000039100647, 1.284000039100647, 1.284000039100647, 1.2740000486373901, 1.2740000486373901, 1.2740000486373901, 1.2740000486373901, 1.2740000486373901, 1.2790000438690186, 1.2790000438690186, 1.2790000438690186, 1.2790000438690186, 1.2790000438690186, 1.2790000438690186, 1.2790000438690186, 1.2790000438690186, 1.2790000438690186, 1.2790000438690186, 1.277999997138977], \"yaxis\": \"y\"}, {\"line\": {\"color\": \"#33C2FF\"}, \"mode\": \"lines\", \"name\": \"Mean \", \"type\": \"scatter\", \"x\": [\"2020-08-29T03:00:00\", \"2020-08-29T12:00:00\", \"2020-08-29T19:00:00\", \"2020-08-30T04:00:00\", \"2020-08-30T12:00:00\", \"2020-08-31T12:00:00\", \"2020-09-01T05:00:00\", \"2020-09-01T11:00:00\", \"2020-09-01T20:00:00\", \"2020-09-02T04:00:00\", \"2020-09-03T11:00:00\", \"2020-09-03T21:00:00\", \"2020-09-04T05:00:00\", \"2020-09-04T12:00:00\", \"2020-09-04T20:00:00\", \"2020-09-05T05:00:00\", \"2020-09-05T12:00:00\", \"2020-09-05T20:00:00\", \"2020-09-06T05:00:00\", \"2020-09-14T12:00:00\", \"2020-09-15T05:00:00\", \"2020-09-15T11:00:00\", \"2020-09-15T19:00:00\", \"2020-09-16T12:00:00\", \"2020-09-16T20:00:00\", \"2020-09-17T04:00:00\", \"2020-09-17T12:00:00\", \"2020-09-17T20:00:00\", \"2020-09-18T03:00:00\", \"2020-09-18T12:00:00\"], \"xaxis\": \"x\", \"y\": [1.3339999914169312, 1.3339999914169312, 1.3339999914169312, 1.3339999914169312, 1.3339999914169312, 1.3339999914169312, 1.3339999914169312, 1.3339999914169312, 1.3339999914169312, 1.3339999914169312, 1.3339999914169312, 1.3339999914169312, 1.3339999914169312, 1.3339999914169312, 1.3240000009536743, 1.3240000009536743, 1.3240000009536743, 1.3240000009536743, 1.3240000009536743, 1.3259999752044678, 1.3259999752044678, 1.3259999752044678, 1.3259999752044678, 1.3259999752044678, 1.3259999752044678, 1.3259999752044678, 1.3259999752044678, 1.3259999752044678, 1.3259999752044678, 1.3170000314712524], \"yaxis\": \"y\"}, {\"line\": {\"color\": \"#4280F5\"}, \"mode\": \"lines+markers\", \"name\": \"mean \", \"type\": \"scatter\", \"x\": [\"2020-08-29T03:00:00\", \"2020-08-29T12:00:00\", \"2020-08-29T19:00:00\", \"2020-08-30T04:00:00\", \"2020-08-30T12:00:00\", \"2020-08-31T12:00:00\", \"2020-09-01T05:00:00\", \"2020-09-01T11:00:00\", \"2020-09-01T20:00:00\", \"2020-09-02T04:00:00\", \"2020-09-03T11:00:00\", \"2020-09-03T21:00:00\", \"2020-09-04T05:00:00\", \"2020-09-04T12:00:00\", \"2020-09-04T20:00:00\", \"2020-09-05T05:00:00\", \"2020-09-05T12:00:00\", \"2020-09-05T20:00:00\", \"2020-09-06T05:00:00\", \"2020-09-14T12:00:00\", \"2020-09-15T05:00:00\", \"2020-09-15T11:00:00\", \"2020-09-15T19:00:00\", \"2020-09-16T12:00:00\", \"2020-09-16T20:00:00\", \"2020-09-17T04:00:00\", \"2020-09-17T12:00:00\", \"2020-09-17T20:00:00\", \"2020-09-18T03:00:00\", \"2020-09-18T12:00:00\"], \"xaxis\": \"x2\", \"y\": [0.025800000876188278, 0.03139999881386757, 0.029400000348687172, 0.032999999821186066, 0.004000000189989805, 0.02160000056028366, 0.016066666692495346, 0.02539999969303608, 0.016200000420212746, 0.0142000000923872, 0.024000000208616257, 0.015599999576807022, 0.014399999752640724, 0.02319999970495701, 0.020800000056624413, 0.030000001192092896, 0.01979999989271164, 0.009200000204145908, 0.01720000058412552, 0.013400000520050526, 0.004400000907480717, 0.014399999752640724, 0.01720000058412552, 0.004399999976158142, 0.028599999845027924, 0.03280000016093254, 0.0006000000284984708, 1.8626451769865326e-10, 0.029400000348687172, 0.010200000368058681], \"yaxis\": \"y2\"}, {\"line\": {\"color\": \"#FF5733\"}, \"mode\": \"lines\", \"name\": \"USL \", \"type\": \"scatter\", \"x\": [\"2020-08-29T03:00:00\", \"2020-08-29T12:00:00\", \"2020-08-29T19:00:00\", \"2020-08-30T04:00:00\", \"2020-08-30T12:00:00\", \"2020-08-31T12:00:00\", \"2020-09-01T05:00:00\", \"2020-09-01T11:00:00\", \"2020-09-01T20:00:00\", \"2020-09-02T04:00:00\", \"2020-09-03T11:00:00\", \"2020-09-03T21:00:00\", \"2020-09-04T05:00:00\", \"2020-09-04T12:00:00\", \"2020-09-04T20:00:00\", \"2020-09-05T05:00:00\", \"2020-09-05T12:00:00\", \"2020-09-05T20:00:00\", \"2020-09-06T05:00:00\", \"2020-09-14T12:00:00\", \"2020-09-15T05:00:00\", \"2020-09-15T11:00:00\", \"2020-09-15T19:00:00\", \"2020-09-16T12:00:00\", \"2020-09-16T20:00:00\", \"2020-09-17T04:00:00\", \"2020-09-17T12:00:00\", \"2020-09-17T20:00:00\", \"2020-09-18T03:00:00\", \"2020-09-18T12:00:00\"], \"xaxis\": \"x2\", \"y\": [0.05000000074505806, 0.05000000074505806, 0.05000000074505806, 0.05000000074505806, 0.05000000074505806, 0.05000000074505806, 0.05000000074505806, 0.05000000074505806, 0.05000000074505806, 0.05000000074505806, 0.05000000074505806, 0.05000000074505806, 0.05000000074505806, 0.05000000074505806, 0.05000000074505806, 0.05000000074505806, 0.05000000074505806, 0.05000000074505806, 0.05000000074505806, 0.05000000074505806, 0.05000000074505806, 0.05000000074505806, 0.05000000074505806, 0.05000000074505806, 0.05000000074505806, 0.05000000074505806, 0.05000000074505806, 0.05000000074505806, 0.05000000074505806, 0.05000000074505806], \"yaxis\": \"y2\"}, {\"line\": {\"color\": \"#FF5733\"}, \"mode\": \"lines\", \"name\": \"LSL \", \"type\": \"scatter\", \"x\": [\"2020-08-29T03:00:00\", \"2020-08-29T12:00:00\", \"2020-08-29T19:00:00\", \"2020-08-30T04:00:00\", \"2020-08-30T12:00:00\", \"2020-08-31T12:00:00\", \"2020-09-01T05:00:00\", \"2020-09-01T11:00:00\", \"2020-09-01T20:00:00\", \"2020-09-02T04:00:00\", \"2020-09-03T11:00:00\", \"2020-09-03T21:00:00\", \"2020-09-04T05:00:00\", \"2020-09-04T12:00:00\", \"2020-09-04T20:00:00\", \"2020-09-05T05:00:00\", \"2020-09-05T12:00:00\", \"2020-09-05T20:00:00\", \"2020-09-06T05:00:00\", \"2020-09-14T12:00:00\", \"2020-09-15T05:00:00\", \"2020-09-15T11:00:00\", \"2020-09-15T19:00:00\", \"2020-09-16T12:00:00\", \"2020-09-16T20:00:00\", \"2020-09-17T04:00:00\", \"2020-09-17T12:00:00\", \"2020-09-17T20:00:00\", \"2020-09-18T03:00:00\", \"2020-09-18T12:00:00\"], \"xaxis\": \"x2\", \"y\": [-0.05000000074505806, -0.05000000074505806, -0.05000000074505806, -0.05000000074505806, -0.05000000074505806, -0.05000000074505806, -0.05000000074505806, -0.05000000074505806, -0.05000000074505806, -0.05000000074505806, -0.05000000074505806, -0.05000000074505806, -0.05000000074505806, -0.05000000074505806, -0.05000000074505806, -0.05000000074505806, -0.05000000074505806, -0.05000000074505806, -0.05000000074505806, -0.05000000074505806, -0.05000000074505806, -0.05000000074505806, -0.05000000074505806, -0.05000000074505806, -0.05000000074505806, -0.05000000074505806, -0.05000000074505806, -0.05000000074505806, -0.05000000074505806, -0.05000000074505806], \"yaxis\": \"y2\"}, {\"line\": {\"color\": \"#33C2FF\"}, \"mode\": \"lines\", \"name\": \"UCL \", \"type\": \"scatter\", \"x\": [\"2020-08-29T03:00:00\", \"2020-08-29T12:00:00\", \"2020-08-29T19:00:00\", \"2020-08-30T04:00:00\", \"2020-08-30T12:00:00\", \"2020-08-31T12:00:00\", \"2020-09-01T05:00:00\", \"2020-09-01T11:00:00\", \"2020-09-01T20:00:00\", \"2020-09-02T04:00:00\", \"2020-09-03T11:00:00\", \"2020-09-03T21:00:00\", \"2020-09-04T05:00:00\", \"2020-09-04T12:00:00\", \"2020-09-04T20:00:00\", \"2020-09-05T05:00:00\", \"2020-09-05T12:00:00\", \"2020-09-05T20:00:00\", \"2020-09-06T05:00:00\", \"2020-09-14T12:00:00\", \"2020-09-15T05:00:00\", \"2020-09-15T11:00:00\", \"2020-09-15T19:00:00\", \"2020-09-16T12:00:00\", \"2020-09-16T20:00:00\", \"2020-09-17T04:00:00\", \"2020-09-17T12:00:00\", \"2020-09-17T20:00:00\", \"2020-09-18T03:00:00\", \"2020-09-18T12:00:00\"], \"xaxis\": \"x2\", \"y\": [0.06800000369548798, 0.06800000369548798, 0.06800000369548798, 0.06800000369548798, 0.06800000369548798, 0.06800000369548798, 0.06800000369548798, 0.06800000369548798, 0.06800000369548798, 0.06800000369548798, 0.06800000369548798, 0.06800000369548798, 0.06800000369548798, 0.06800000369548798, 0.06800000369548798, 0.06800000369548798, 0.06800000369548798, 0.06800000369548798, 0.06800000369548798, 0.06700000166893005, 0.06700000166893005, 0.06700000166893005, 0.06700000166893005, 0.06700000166893005, 0.06700000166893005, 0.06700000166893005, 0.06700000166893005, 0.06700000166893005, 0.06700000166893005, 0.02800000086426735], \"yaxis\": \"y2\"}, {\"line\": {\"color\": \"#33C2FF\"}, \"mode\": \"lines\", \"name\": \"LCL \", \"type\": \"scatter\", \"x\": [\"2020-08-29T03:00:00\", \"2020-08-29T12:00:00\", \"2020-08-29T19:00:00\", \"2020-08-30T04:00:00\", \"2020-08-30T12:00:00\", \"2020-08-31T12:00:00\", \"2020-09-01T05:00:00\", \"2020-09-01T11:00:00\", \"2020-09-01T20:00:00\", \"2020-09-02T04:00:00\", \"2020-09-03T11:00:00\", \"2020-09-03T21:00:00\", \"2020-09-04T05:00:00\", \"2020-09-04T12:00:00\", \"2020-09-04T20:00:00\", \"2020-09-05T05:00:00\", \"2020-09-05T12:00:00\", \"2020-09-05T20:00:00\", \"2020-09-06T05:00:00\", \"2020-09-14T12:00:00\", \"2020-09-15T05:00:00\", \"2020-09-15T11:00:00\", \"2020-09-15T19:00:00\", \"2020-09-16T12:00:00\", \"2020-09-16T20:00:00\", \"2020-09-17T04:00:00\", \"2020-09-17T12:00:00\", \"2020-09-17T20:00:00\", \"2020-09-18T03:00:00\", \"2020-09-18T12:00:00\"], \"xaxis\": \"x2\", \"y\": [-0.027000000700354576, -0.027000000700354576, -0.027000000700354576, -0.027000000700354576, -0.027000000700354576, -0.027000000700354576, -0.027000000700354576, -0.027000000700354576, -0.027000000700354576, -0.027000000700354576, -0.027000000700354576, -0.027000000700354576, -0.027000000700354576, -0.027000000700354576, -0.028999999165534973, -0.028999999165534973, -0.028999999165534973, -0.028999999165534973, -0.028999999165534973, -0.03799999877810478, -0.03799999877810478, -0.03799999877810478, -0.03799999877810478, -0.03799999877810478, -0.03799999877810478, -0.03799999877810478, -0.03799999877810478, -0.03799999877810478, -0.03799999877810478, -0.00800000037997961], \"yaxis\": \"y2\"}, {\"line\": {\"color\": \"#33C2FF\"}, \"mode\": \"lines\", \"name\": \"Mean \", \"type\": \"scatter\", \"x\": [\"2020-08-29T03:00:00\", \"2020-08-29T12:00:00\", \"2020-08-29T19:00:00\", \"2020-08-30T04:00:00\", \"2020-08-30T12:00:00\", \"2020-08-31T12:00:00\", \"2020-09-01T05:00:00\", \"2020-09-01T11:00:00\", \"2020-09-01T20:00:00\", \"2020-09-02T04:00:00\", \"2020-09-03T11:00:00\", \"2020-09-03T21:00:00\", \"2020-09-04T05:00:00\", \"2020-09-04T12:00:00\", \"2020-09-04T20:00:00\", \"2020-09-05T05:00:00\", \"2020-09-05T12:00:00\", \"2020-09-05T20:00:00\", \"2020-09-06T05:00:00\", \"2020-09-14T12:00:00\", \"2020-09-15T05:00:00\", \"2020-09-15T11:00:00\", \"2020-09-15T19:00:00\", \"2020-09-16T12:00:00\", \"2020-09-16T20:00:00\", \"2020-09-17T04:00:00\", \"2020-09-17T12:00:00\", \"2020-09-17T20:00:00\", \"2020-09-18T03:00:00\", \"2020-09-18T12:00:00\"], \"xaxis\": \"x2\", \"y\": [0.019999999552965164, 0.019999999552965164, 0.019999999552965164, 0.019999999552965164, 0.019999999552965164, 0.019999999552965164, 0.019999999552965164, 0.019999999552965164, 0.019999999552965164, 0.019999999552965164, 0.019999999552965164, 0.019999999552965164, 0.019999999552965164, 0.019999999552965164, 0.01899999938905239, 0.01899999938905239, 0.01899999938905239, 0.01899999938905239, 0.01899999938905239, 0.014999999664723873, 0.014999999664723873, 0.014999999664723873, 0.014999999664723873, 0.014999999664723873, 0.014999999664723873, 0.014999999664723873, 0.014999999664723873, 0.014999999664723873, 0.014999999664723873, 0.009999999776482582], \"yaxis\": \"y2\"}, {\"line\": {\"color\": \"#4280F5\"}, \"mode\": \"lines+markers\", \"name\": \"mean \", \"type\": \"scatter\", \"x\": [\"2020-08-29T03:00:00\", \"2020-08-29T12:00:00\", \"2020-08-29T19:00:00\", \"2020-08-30T04:00:00\", \"2020-08-30T12:00:00\", \"2020-08-31T12:00:00\", \"2020-09-01T05:00:00\", \"2020-09-01T11:00:00\", \"2020-09-01T20:00:00\", \"2020-09-02T04:00:00\", \"2020-09-03T11:00:00\", \"2020-09-03T21:00:00\", \"2020-09-04T05:00:00\", \"2020-09-04T12:00:00\", \"2020-09-04T20:00:00\", \"2020-09-05T05:00:00\", \"2020-09-05T12:00:00\", \"2020-09-05T20:00:00\", \"2020-09-06T05:00:00\", \"2020-09-14T12:00:00\", \"2020-09-15T05:00:00\", \"2020-09-15T11:00:00\", \"2020-09-15T19:00:00\", \"2020-09-16T12:00:00\", \"2020-09-16T20:00:00\", \"2020-09-17T04:00:00\", \"2020-09-17T12:00:00\", \"2020-09-17T20:00:00\", \"2020-09-18T03:00:00\", \"2020-09-18T12:00:00\"], \"xaxis\": \"x3\", \"y\": [31.937999725341797, 28.8700008392334, 23.992000579833984, 29.70600128173828, 27.9060001373291, 25.31599998474121, 26.108667373657227, 39.29999923706055, 24.690000534057617, 24.618000030517578, 35.49599838256836, 24.700000762939453, 25.850000381469727, 31.31599998474121, 29.079999923706055, 26.118000030517578, 30.805999755859375, 27.450000762939453, 25.926000595092773, 24.256000518798828, 24.610000610351562, 25.02199935913086, 26.368000030517578, 32.09199905395508, 26.36199951171875, 34.599998474121094, 30.97599983215332, 27.11199951171875, 33.263999938964844, 30.483999252319336], \"yaxis\": \"y3\"}, {\"line\": {\"color\": \"#FF5733\"}, \"mode\": \"lines\", \"name\": \"USL \", \"type\": \"scatter\", \"x\": [\"2020-08-29T03:00:00\", \"2020-08-29T12:00:00\", \"2020-08-29T19:00:00\", \"2020-08-30T04:00:00\", \"2020-08-30T12:00:00\", \"2020-08-31T12:00:00\", \"2020-09-01T05:00:00\", \"2020-09-01T11:00:00\", \"2020-09-01T20:00:00\", \"2020-09-02T04:00:00\", \"2020-09-03T11:00:00\", \"2020-09-03T21:00:00\", \"2020-09-04T05:00:00\", \"2020-09-04T12:00:00\", \"2020-09-04T20:00:00\", \"2020-09-05T05:00:00\", \"2020-09-05T12:00:00\", \"2020-09-05T20:00:00\", \"2020-09-06T05:00:00\", \"2020-09-14T12:00:00\", \"2020-09-15T05:00:00\", \"2020-09-15T11:00:00\", \"2020-09-15T19:00:00\", \"2020-09-16T12:00:00\", \"2020-09-16T20:00:00\", \"2020-09-17T04:00:00\", \"2020-09-17T12:00:00\", \"2020-09-17T20:00:00\", \"2020-09-18T03:00:00\", \"2020-09-18T12:00:00\"], \"xaxis\": \"x3\", \"y\": [null, null, null, null, null, null, null, null, null, null, null, null, null, null, null, null, null, null, null, null, null, null, null, null, null, null, null, null, null, null], \"yaxis\": \"y3\"}, {\"line\": {\"color\": \"#FF5733\"}, \"mode\": \"lines\", \"name\": \"LSL \", \"type\": \"scatter\", \"x\": [\"2020-08-29T03:00:00\", \"2020-08-29T12:00:00\", \"2020-08-29T19:00:00\", \"2020-08-30T04:00:00\", \"2020-08-30T12:00:00\", \"2020-08-31T12:00:00\", \"2020-09-01T05:00:00\", \"2020-09-01T11:00:00\", \"2020-09-01T20:00:00\", \"2020-09-02T04:00:00\", \"2020-09-03T11:00:00\", \"2020-09-03T21:00:00\", \"2020-09-04T05:00:00\", \"2020-09-04T12:00:00\", \"2020-09-04T20:00:00\", \"2020-09-05T05:00:00\", \"2020-09-05T12:00:00\", \"2020-09-05T20:00:00\", \"2020-09-06T05:00:00\", \"2020-09-14T12:00:00\", \"2020-09-15T05:00:00\", \"2020-09-15T11:00:00\", \"2020-09-15T19:00:00\", \"2020-09-16T12:00:00\", \"2020-09-16T20:00:00\", \"2020-09-17T04:00:00\", \"2020-09-17T12:00:00\", \"2020-09-17T20:00:00\", \"2020-09-18T03:00:00\", \"2020-09-18T12:00:00\"], \"xaxis\": \"x3\", \"y\": [21.0, 21.0, 21.0, 21.0, 21.0, 21.0, 21.0, 21.0, 21.0, 21.0, 21.0, 21.0, 21.0, 21.0, 21.0, 21.0, 21.0, 21.0, 21.0, 21.0, 21.0, 21.0, 21.0, 21.0, 21.0, 21.0, 21.0, 21.0, 21.0, 21.0], \"yaxis\": \"y3\"}, {\"line\": {\"color\": \"#33C2FF\"}, \"mode\": \"lines\", \"name\": \"UCL \", \"type\": \"scatter\", \"x\": [\"2020-08-29T03:00:00\", \"2020-08-29T12:00:00\", \"2020-08-29T19:00:00\", \"2020-08-30T04:00:00\", \"2020-08-30T12:00:00\", \"2020-08-31T12:00:00\", \"2020-09-01T05:00:00\", \"2020-09-01T11:00:00\", \"2020-09-01T20:00:00\", \"2020-09-02T04:00:00\", \"2020-09-03T11:00:00\", \"2020-09-03T21:00:00\", \"2020-09-04T05:00:00\", \"2020-09-04T12:00:00\", \"2020-09-04T20:00:00\", \"2020-09-05T05:00:00\", \"2020-09-05T12:00:00\", \"2020-09-05T20:00:00\", \"2020-09-06T05:00:00\", \"2020-09-14T12:00:00\", \"2020-09-15T05:00:00\", \"2020-09-15T11:00:00\", \"2020-09-15T19:00:00\", \"2020-09-16T12:00:00\", \"2020-09-16T20:00:00\", \"2020-09-17T04:00:00\", \"2020-09-17T12:00:00\", \"2020-09-17T20:00:00\", \"2020-09-18T03:00:00\", \"2020-09-18T12:00:00\"], \"xaxis\": \"x3\", \"y\": [45.12799835205078, 45.12799835205078, 45.12799835205078, 45.12799835205078, 45.12799835205078, 45.12799835205078, 45.12799835205078, 45.12799835205078, 45.12799835205078, 45.12799835205078, 45.12799835205078, 45.12799835205078, 45.12799835205078, 45.12799835205078, 35.90999984741211, 35.90999984741211, 35.90999984741211, 35.90999984741211, 35.90999984741211, 42.722999572753906, 42.722999572753906, 42.722999572753906, 42.722999572753906, 42.722999572753906, 42.722999572753906, 42.722999572753906, 42.722999572753906, 42.722999572753906, 42.722999572753906, 50.4900016784668], \"yaxis\": \"y3\"}, {\"line\": {\"color\": \"#33C2FF\"}, \"mode\": \"lines\", \"name\": \"LCL \", \"type\": \"scatter\", \"x\": [\"2020-08-29T03:00:00\", \"2020-08-29T12:00:00\", \"2020-08-29T19:00:00\", \"2020-08-30T04:00:00\", \"2020-08-30T12:00:00\", \"2020-08-31T12:00:00\", \"2020-09-01T05:00:00\", \"2020-09-01T11:00:00\", \"2020-09-01T20:00:00\", \"2020-09-02T04:00:00\", \"2020-09-03T11:00:00\", \"2020-09-03T21:00:00\", \"2020-09-04T05:00:00\", \"2020-09-04T12:00:00\", \"2020-09-04T20:00:00\", \"2020-09-05T05:00:00\", \"2020-09-05T12:00:00\", \"2020-09-05T20:00:00\", \"2020-09-06T05:00:00\", \"2020-09-14T12:00:00\", \"2020-09-15T05:00:00\", \"2020-09-15T11:00:00\", \"2020-09-15T19:00:00\", \"2020-09-16T12:00:00\", \"2020-09-16T20:00:00\", \"2020-09-17T04:00:00\", \"2020-09-17T12:00:00\", \"2020-09-17T20:00:00\", \"2020-09-18T03:00:00\", \"2020-09-18T12:00:00\"], \"xaxis\": \"x3\", \"y\": [11.375, 11.375, 11.375, 11.375, 11.375, 11.375, 11.375, 11.375, 11.375, 11.375, 11.375, 11.375, 11.375, 11.375, 19.841999053955078, 19.841999053955078, 19.841999053955078, 19.841999053955078, 19.841999053955078, 14.210000038146973, 14.210000038146973, 14.210000038146973, 14.210000038146973, 14.210000038146973, 14.210000038146973, 14.210000038146973, 14.210000038146973, 14.210000038146973, 14.210000038146973, 10.477999687194824], \"yaxis\": \"y3\"}, {\"line\": {\"color\": \"#33C2FF\"}, \"mode\": \"lines\", \"name\": \"Mean \", \"type\": \"scatter\", \"x\": [\"2020-08-29T03:00:00\", \"2020-08-29T12:00:00\", \"2020-08-29T19:00:00\", \"2020-08-30T04:00:00\", \"2020-08-30T12:00:00\", \"2020-08-31T12:00:00\", \"2020-09-01T05:00:00\", \"2020-09-01T11:00:00\", \"2020-09-01T20:00:00\", \"2020-09-02T04:00:00\", \"2020-09-03T11:00:00\", \"2020-09-03T21:00:00\", \"2020-09-04T05:00:00\", \"2020-09-04T12:00:00\", \"2020-09-04T20:00:00\", \"2020-09-05T05:00:00\", \"2020-09-05T12:00:00\", \"2020-09-05T20:00:00\", \"2020-09-06T05:00:00\", \"2020-09-14T12:00:00\", \"2020-09-15T05:00:00\", \"2020-09-15T11:00:00\", \"2020-09-15T19:00:00\", \"2020-09-16T12:00:00\", \"2020-09-16T20:00:00\", \"2020-09-17T04:00:00\", \"2020-09-17T12:00:00\", \"2020-09-17T20:00:00\", \"2020-09-18T03:00:00\", \"2020-09-18T12:00:00\"], \"xaxis\": \"x3\", \"y\": [28.25200080871582, 28.25200080871582, 28.25200080871582, 28.25200080871582, 28.25200080871582, 28.25200080871582, 28.25200080871582, 28.25200080871582, 28.25200080871582, 28.25200080871582, 28.25200080871582, 28.25200080871582, 28.25200080871582, 28.25200080871582, 27.875999450683594, 27.875999450683594, 27.875999450683594, 27.875999450683594, 27.875999450683594, 28.465999603271484, 28.465999603271484, 28.465999603271484, 28.465999603271484, 28.465999603271484, 28.465999603271484, 28.465999603271484, 28.465999603271484, 28.465999603271484, 28.465999603271484, 30.483999252319336], \"yaxis\": \"y3\"}],\n",
              "                        {\"annotations\": [{\"font\": {\"size\": 16}, \"showarrow\": false, \"text\": \"Dim A Cp: 1.54 Pp: 0.99 Cpk: 1.31 Ppk: 0.84\", \"x\": 0.5, \"xanchor\": \"center\", \"xref\": \"paper\", \"y\": 1.0, \"yanchor\": \"bottom\", \"yref\": \"paper\"}, {\"font\": {\"size\": 16}, \"showarrow\": false, \"text\": \"Dim B Cp: 1.71 Pp: 1.02 Cpk: 1.37 Ppk: 0.82\", \"x\": 0.5, \"xanchor\": \"center\", \"xref\": \"paper\", \"y\": 0.6111111111111112, \"yanchor\": \"bottom\", \"yref\": \"paper\"}, {\"font\": {\"size\": 16}, \"showarrow\": false, \"text\": \"Test l\\u1ef1c\\nShear force Cp: nan Pp: nan Cpk: 1.44 Ppk: 0.63\", \"x\": 0.5, \"xanchor\": \"center\", \"xref\": \"paper\", \"y\": 0.22222222222222224, \"yanchor\": \"bottom\", \"yref\": \"paper\"}], \"height\": 600, \"template\": {\"data\": {\"bar\": [{\"error_x\": {\"color\": \"#2a3f5f\"}, \"error_y\": {\"color\": \"#2a3f5f\"}, \"marker\": {\"line\": {\"color\": \"#E5ECF6\", \"width\": 0.5}}, \"type\": \"bar\"}], \"barpolar\": [{\"marker\": {\"line\": {\"color\": \"#E5ECF6\", \"width\": 0.5}}, \"type\": \"barpolar\"}], \"carpet\": [{\"aaxis\": {\"endlinecolor\": \"#2a3f5f\", \"gridcolor\": \"white\", \"linecolor\": \"white\", \"minorgridcolor\": \"white\", \"startlinecolor\": \"#2a3f5f\"}, \"baxis\": {\"endlinecolor\": \"#2a3f5f\", \"gridcolor\": \"white\", \"linecolor\": \"white\", \"minorgridcolor\": \"white\", \"startlinecolor\": \"#2a3f5f\"}, \"type\": \"carpet\"}], \"choropleth\": [{\"colorbar\": {\"outlinewidth\": 0, \"ticks\": \"\"}, \"type\": \"choropleth\"}], \"contour\": [{\"colorbar\": {\"outlinewidth\": 0, \"ticks\": \"\"}, \"colorscale\": [[0.0, \"#0d0887\"], [0.1111111111111111, \"#46039f\"], [0.2222222222222222, \"#7201a8\"], [0.3333333333333333, \"#9c179e\"], [0.4444444444444444, \"#bd3786\"], [0.5555555555555556, \"#d8576b\"], [0.6666666666666666, \"#ed7953\"], [0.7777777777777778, \"#fb9f3a\"], [0.8888888888888888, \"#fdca26\"], [1.0, \"#f0f921\"]], \"type\": \"contour\"}], \"contourcarpet\": [{\"colorbar\": {\"outlinewidth\": 0, \"ticks\": \"\"}, \"type\": \"contourcarpet\"}], \"heatmap\": [{\"colorbar\": {\"outlinewidth\": 0, \"ticks\": \"\"}, \"colorscale\": [[0.0, \"#0d0887\"], [0.1111111111111111, \"#46039f\"], [0.2222222222222222, \"#7201a8\"], [0.3333333333333333, \"#9c179e\"], [0.4444444444444444, \"#bd3786\"], [0.5555555555555556, \"#d8576b\"], [0.6666666666666666, \"#ed7953\"], [0.7777777777777778, \"#fb9f3a\"], [0.8888888888888888, \"#fdca26\"], [1.0, \"#f0f921\"]], \"type\": \"heatmap\"}], \"heatmapgl\": [{\"colorbar\": {\"outlinewidth\": 0, \"ticks\": \"\"}, \"colorscale\": [[0.0, \"#0d0887\"], [0.1111111111111111, \"#46039f\"], [0.2222222222222222, \"#7201a8\"], [0.3333333333333333, \"#9c179e\"], [0.4444444444444444, \"#bd3786\"], [0.5555555555555556, \"#d8576b\"], [0.6666666666666666, \"#ed7953\"], [0.7777777777777778, \"#fb9f3a\"], [0.8888888888888888, \"#fdca26\"], [1.0, \"#f0f921\"]], \"type\": \"heatmapgl\"}], \"histogram\": [{\"marker\": {\"colorbar\": {\"outlinewidth\": 0, \"ticks\": \"\"}}, \"type\": \"histogram\"}], \"histogram2d\": [{\"colorbar\": {\"outlinewidth\": 0, \"ticks\": \"\"}, \"colorscale\": [[0.0, \"#0d0887\"], [0.1111111111111111, \"#46039f\"], [0.2222222222222222, \"#7201a8\"], [0.3333333333333333, \"#9c179e\"], [0.4444444444444444, \"#bd3786\"], [0.5555555555555556, \"#d8576b\"], [0.6666666666666666, \"#ed7953\"], [0.7777777777777778, \"#fb9f3a\"], [0.8888888888888888, \"#fdca26\"], [1.0, \"#f0f921\"]], \"type\": \"histogram2d\"}], \"histogram2dcontour\": [{\"colorbar\": {\"outlinewidth\": 0, \"ticks\": \"\"}, \"colorscale\": [[0.0, \"#0d0887\"], [0.1111111111111111, \"#46039f\"], [0.2222222222222222, \"#7201a8\"], [0.3333333333333333, \"#9c179e\"], [0.4444444444444444, \"#bd3786\"], [0.5555555555555556, \"#d8576b\"], [0.6666666666666666, \"#ed7953\"], [0.7777777777777778, \"#fb9f3a\"], [0.8888888888888888, \"#fdca26\"], [1.0, \"#f0f921\"]], \"type\": \"histogram2dcontour\"}], \"mesh3d\": [{\"colorbar\": {\"outlinewidth\": 0, \"ticks\": \"\"}, \"type\": \"mesh3d\"}], \"parcoords\": [{\"line\": {\"colorbar\": {\"outlinewidth\": 0, \"ticks\": \"\"}}, \"type\": \"parcoords\"}], \"pie\": [{\"automargin\": true, \"type\": \"pie\"}], \"scatter\": [{\"marker\": {\"colorbar\": {\"outlinewidth\": 0, \"ticks\": \"\"}}, \"type\": \"scatter\"}], \"scatter3d\": [{\"line\": {\"colorbar\": {\"outlinewidth\": 0, \"ticks\": \"\"}}, \"marker\": {\"colorbar\": {\"outlinewidth\": 0, \"ticks\": \"\"}}, \"type\": \"scatter3d\"}], \"scattercarpet\": [{\"marker\": {\"colorbar\": {\"outlinewidth\": 0, \"ticks\": \"\"}}, \"type\": \"scattercarpet\"}], \"scattergeo\": [{\"marker\": {\"colorbar\": {\"outlinewidth\": 0, \"ticks\": \"\"}}, \"type\": \"scattergeo\"}], \"scattergl\": [{\"marker\": {\"colorbar\": {\"outlinewidth\": 0, \"ticks\": \"\"}}, \"type\": \"scattergl\"}], \"scattermapbox\": [{\"marker\": {\"colorbar\": {\"outlinewidth\": 0, \"ticks\": \"\"}}, \"type\": \"scattermapbox\"}], \"scatterpolar\": [{\"marker\": {\"colorbar\": {\"outlinewidth\": 0, \"ticks\": \"\"}}, \"type\": \"scatterpolar\"}], \"scatterpolargl\": [{\"marker\": {\"colorbar\": {\"outlinewidth\": 0, \"ticks\": \"\"}}, \"type\": \"scatterpolargl\"}], \"scatterternary\": [{\"marker\": {\"colorbar\": {\"outlinewidth\": 0, \"ticks\": \"\"}}, \"type\": \"scatterternary\"}], \"surface\": [{\"colorbar\": {\"outlinewidth\": 0, \"ticks\": \"\"}, \"colorscale\": [[0.0, \"#0d0887\"], [0.1111111111111111, \"#46039f\"], [0.2222222222222222, \"#7201a8\"], [0.3333333333333333, \"#9c179e\"], [0.4444444444444444, \"#bd3786\"], [0.5555555555555556, \"#d8576b\"], [0.6666666666666666, \"#ed7953\"], [0.7777777777777778, \"#fb9f3a\"], [0.8888888888888888, \"#fdca26\"], [1.0, \"#f0f921\"]], \"type\": \"surface\"}], \"table\": [{\"cells\": {\"fill\": {\"color\": \"#EBF0F8\"}, \"line\": {\"color\": \"white\"}}, \"header\": {\"fill\": {\"color\": \"#C8D4E3\"}, \"line\": {\"color\": \"white\"}}, \"type\": \"table\"}]}, \"layout\": {\"annotationdefaults\": {\"arrowcolor\": \"#2a3f5f\", \"arrowhead\": 0, \"arrowwidth\": 1}, \"coloraxis\": {\"colorbar\": {\"outlinewidth\": 0, \"ticks\": \"\"}}, \"colorscale\": {\"diverging\": [[0, \"#8e0152\"], [0.1, \"#c51b7d\"], [0.2, \"#de77ae\"], [0.3, \"#f1b6da\"], [0.4, \"#fde0ef\"], [0.5, \"#f7f7f7\"], [0.6, \"#e6f5d0\"], [0.7, \"#b8e186\"], [0.8, \"#7fbc41\"], [0.9, \"#4d9221\"], [1, \"#276419\"]], \"sequential\": [[0.0, \"#0d0887\"], [0.1111111111111111, \"#46039f\"], [0.2222222222222222, \"#7201a8\"], [0.3333333333333333, \"#9c179e\"], [0.4444444444444444, \"#bd3786\"], [0.5555555555555556, \"#d8576b\"], [0.6666666666666666, \"#ed7953\"], [0.7777777777777778, \"#fb9f3a\"], [0.8888888888888888, \"#fdca26\"], [1.0, \"#f0f921\"]], \"sequentialminus\": [[0.0, \"#0d0887\"], [0.1111111111111111, \"#46039f\"], [0.2222222222222222, \"#7201a8\"], [0.3333333333333333, \"#9c179e\"], [0.4444444444444444, \"#bd3786\"], [0.5555555555555556, \"#d8576b\"], [0.6666666666666666, \"#ed7953\"], [0.7777777777777778, \"#fb9f3a\"], [0.8888888888888888, \"#fdca26\"], [1.0, \"#f0f921\"]]}, \"colorway\": [\"#636efa\", \"#EF553B\", \"#00cc96\", \"#ab63fa\", \"#FFA15A\", \"#19d3f3\", \"#FF6692\", \"#B6E880\", \"#FF97FF\", \"#FECB52\"], \"font\": {\"color\": \"#2a3f5f\"}, \"geo\": {\"bgcolor\": \"white\", \"lakecolor\": \"white\", \"landcolor\": \"#E5ECF6\", \"showlakes\": true, \"showland\": true, \"subunitcolor\": \"white\"}, \"hoverlabel\": {\"align\": \"left\"}, \"hovermode\": \"closest\", \"mapbox\": {\"style\": \"light\"}, \"paper_bgcolor\": \"white\", \"plot_bgcolor\": \"#E5ECF6\", \"polar\": {\"angularaxis\": {\"gridcolor\": \"white\", \"linecolor\": \"white\", \"ticks\": \"\"}, \"bgcolor\": \"#E5ECF6\", \"radialaxis\": {\"gridcolor\": \"white\", \"linecolor\": \"white\", \"ticks\": \"\"}}, \"scene\": {\"xaxis\": {\"backgroundcolor\": \"#E5ECF6\", \"gridcolor\": \"white\", \"gridwidth\": 2, \"linecolor\": \"white\", \"showbackground\": true, \"ticks\": \"\", \"zerolinecolor\": \"white\"}, \"yaxis\": {\"backgroundcolor\": \"#E5ECF6\", \"gridcolor\": \"white\", \"gridwidth\": 2, \"linecolor\": \"white\", \"showbackground\": true, \"ticks\": \"\", \"zerolinecolor\": \"white\"}, \"zaxis\": {\"backgroundcolor\": \"#E5ECF6\", \"gridcolor\": \"white\", \"gridwidth\": 2, \"linecolor\": \"white\", \"showbackground\": true, \"ticks\": \"\", \"zerolinecolor\": \"white\"}}, \"shapedefaults\": {\"line\": {\"color\": \"#2a3f5f\"}}, \"ternary\": {\"aaxis\": {\"gridcolor\": \"white\", \"linecolor\": \"white\", \"ticks\": \"\"}, \"baxis\": {\"gridcolor\": \"white\", \"linecolor\": \"white\", \"ticks\": \"\"}, \"bgcolor\": \"#E5ECF6\", \"caxis\": {\"gridcolor\": \"white\", \"linecolor\": \"white\", \"ticks\": \"\"}}, \"title\": {\"x\": 0.05}, \"xaxis\": {\"automargin\": true, \"gridcolor\": \"white\", \"linecolor\": \"white\", \"ticks\": \"\", \"title\": {\"standoff\": 15}, \"zerolinecolor\": \"white\", \"zerolinewidth\": 2}, \"yaxis\": {\"automargin\": true, \"gridcolor\": \"white\", \"linecolor\": \"white\", \"ticks\": \"\", \"title\": {\"standoff\": 15}, \"zerolinecolor\": \"white\", \"zerolinewidth\": 2}}}, \"title\": {\"text\": \"Process: 26940-Welding spout MP\"}, \"width\": 1200, \"xaxis\": {\"anchor\": \"y\", \"domain\": [0.0, 1.0]}, \"xaxis2\": {\"anchor\": \"y2\", \"domain\": [0.0, 1.0]}, \"xaxis3\": {\"anchor\": \"y3\", \"domain\": [0.0, 1.0]}, \"yaxis\": {\"anchor\": \"x\", \"domain\": [0.7777777777777778, 1.0]}, \"yaxis2\": {\"anchor\": \"x2\", \"domain\": [0.3888888888888889, 0.6111111111111112]}, \"yaxis3\": {\"anchor\": \"x3\", \"domain\": [0.0, 0.22222222222222224]}},\n",
              "                        {\"responsive\": true}\n",
              "                    ).then(function(){\n",
              "                            \n",
              "var gd = document.getElementById('f925841f-e939-4977-9ffa-d3aeecf13081');\n",
              "var x = new MutationObserver(function (mutations, observer) {{\n",
              "        var display = window.getComputedStyle(gd).display;\n",
              "        if (!display || display === 'none') {{\n",
              "            console.log([gd, 'removed!']);\n",
              "            Plotly.purge(gd);\n",
              "            observer.disconnect();\n",
              "        }}\n",
              "}});\n",
              "\n",
              "// Listen for the removal of the full notebook cells\n",
              "var notebookContainer = gd.closest('#notebook-container');\n",
              "if (notebookContainer) {{\n",
              "    x.observe(notebookContainer, {childList: true});\n",
              "}}\n",
              "\n",
              "// Listen for the clearing of the current output cell\n",
              "var outputEl = gd.closest('.output');\n",
              "if (outputEl) {{\n",
              "    x.observe(outputEl, {childList: true});\n",
              "}}\n",
              "\n",
              "                        })\n",
              "                };\n",
              "                \n",
              "            </script>\n",
              "        </div>\n",
              "</body>\n",
              "</html>"
            ]
          },
          "metadata": {
            "tags": []
          }
        },
        {
          "output_type": "display_data",
          "data": {
            "text/html": [
              "<html>\n",
              "<head><meta charset=\"utf-8\" /></head>\n",
              "<body>\n",
              "    <div>\n",
              "            <script src=\"https://cdnjs.cloudflare.com/ajax/libs/mathjax/2.7.5/MathJax.js?config=TeX-AMS-MML_SVG\"></script><script type=\"text/javascript\">if (window.MathJax) {MathJax.Hub.Config({SVG: {font: \"STIX-Web\"}});}</script>\n",
              "                <script type=\"text/javascript\">window.PlotlyConfig = {MathJaxConfig: 'local'};</script>\n",
              "        <script src=\"https://cdn.plot.ly/plotly-latest.min.js\"></script>    \n",
              "            <div id=\"f1d37ede-55cc-49af-a7c9-36d1ba60ad51\" class=\"plotly-graph-div\" style=\"height:600px; width:1200px;\"></div>\n",
              "            <script type=\"text/javascript\">\n",
              "                \n",
              "                    window.PLOTLYENV=window.PLOTLYENV || {};\n",
              "                    \n",
              "                if (document.getElementById(\"f1d37ede-55cc-49af-a7c9-36d1ba60ad51\")) {\n",
              "                    Plotly.newPlot(\n",
              "                        'f1d37ede-55cc-49af-a7c9-36d1ba60ad51',\n",
              "                        [{\"line\": {\"color\": \"#4280F5\"}, \"mode\": \"lines+markers\", \"name\": \"mean \", \"type\": \"scatter\", \"x\": [\"2020-08-30T12:00:00\", \"2020-09-01T11:00:00\", \"2020-09-02T04:00:00\", \"2020-09-03T21:00:00\", \"2020-09-05T05:00:00\", \"2020-09-05T12:00:00\", \"2020-09-06T05:00:00\", \"2020-09-15T05:00:00\", \"2020-09-15T19:00:00\", \"2020-09-16T00:00:00\", \"2020-09-16T20:00:00\", \"2020-09-18T03:00:00\", \"2020-09-18T11:00:00\"], \"xaxis\": \"x\", \"y\": [0.02133333310484886, 0.02433333359658718, 0.004000000189989805, 0.021666666492819786, 0.02266666665673256, -0.009666667319834232, 0.023333333432674408, 0.013000000268220901, 0.022333333268761635, 0.03166666626930237, -0.0013333328533917665, -0.03733333200216293, -0.015333333052694798], \"yaxis\": \"y\"}, {\"line\": {\"color\": \"#FF5733\"}, \"mode\": \"lines\", \"name\": \"USL \", \"type\": \"scatter\", \"x\": [\"2020-08-30T12:00:00\", \"2020-09-01T11:00:00\", \"2020-09-02T04:00:00\", \"2020-09-03T21:00:00\", \"2020-09-05T05:00:00\", \"2020-09-05T12:00:00\", \"2020-09-06T05:00:00\", \"2020-09-15T05:00:00\", \"2020-09-15T19:00:00\", \"2020-09-16T00:00:00\", \"2020-09-16T20:00:00\", \"2020-09-18T03:00:00\", \"2020-09-18T11:00:00\"], \"xaxis\": \"x\", \"y\": [0.05000000074505806, 0.05000000074505806, 0.05000000074505806, 0.05000000074505806, 0.05000000074505806, 0.05000000074505806, 0.05000000074505806, 0.05000000074505806, 0.05000000074505806, 0.05000000074505806, 0.05000000074505806, 0.05000000074505806, 0.05000000074505806], \"yaxis\": \"y\"}, {\"line\": {\"color\": \"#FF5733\"}, \"mode\": \"lines\", \"name\": \"LSL \", \"type\": \"scatter\", \"x\": [\"2020-08-30T12:00:00\", \"2020-09-01T11:00:00\", \"2020-09-02T04:00:00\", \"2020-09-03T21:00:00\", \"2020-09-05T05:00:00\", \"2020-09-05T12:00:00\", \"2020-09-06T05:00:00\", \"2020-09-15T05:00:00\", \"2020-09-15T19:00:00\", \"2020-09-16T00:00:00\", \"2020-09-16T20:00:00\", \"2020-09-18T03:00:00\", \"2020-09-18T11:00:00\"], \"xaxis\": \"x\", \"y\": [-0.05000000074505806, -0.05000000074505806, -0.05000000074505806, -0.05000000074505806, -0.05000000074505806, -0.05000000074505806, -0.05000000074505806, -0.05000000074505806, -0.05000000074505806, -0.05000000074505806, -0.05000000074505806, -0.05000000074505806, -0.05000000074505806], \"yaxis\": \"y\"}, {\"line\": {\"color\": \"#33C2FF\"}, \"mode\": \"lines\", \"name\": \"UCL \", \"type\": \"scatter\", \"x\": [\"2020-08-30T12:00:00\", \"2020-09-01T11:00:00\", \"2020-09-02T04:00:00\", \"2020-09-03T21:00:00\", \"2020-09-05T05:00:00\", \"2020-09-05T12:00:00\", \"2020-09-06T05:00:00\", \"2020-09-15T05:00:00\", \"2020-09-15T19:00:00\", \"2020-09-16T00:00:00\", \"2020-09-16T20:00:00\", \"2020-09-18T03:00:00\", \"2020-09-18T11:00:00\"], \"xaxis\": \"x\", \"y\": [0.0729999989271164, 0.0729999989271164, 0.0729999989271164, 0.0729999989271164, 0.13300000131130219, 0.13300000131130219, 0.13300000131130219, 0.08900000154972076, 0.08900000154972076, 0.08900000154972076, 0.08900000154972076, 0.08900000154972076, 0.02500000037252903], \"yaxis\": \"y\"}, {\"line\": {\"color\": \"#33C2FF\"}, \"mode\": \"lines\", \"name\": \"LCL \", \"type\": \"scatter\", \"x\": [\"2020-08-30T12:00:00\", \"2020-09-01T11:00:00\", \"2020-09-02T04:00:00\", \"2020-09-03T21:00:00\", \"2020-09-05T05:00:00\", \"2020-09-05T12:00:00\", \"2020-09-06T05:00:00\", \"2020-09-15T05:00:00\", \"2020-09-15T19:00:00\", \"2020-09-16T00:00:00\", \"2020-09-16T20:00:00\", \"2020-09-18T03:00:00\", \"2020-09-18T11:00:00\"], \"xaxis\": \"x\", \"y\": [-0.03700000047683716, -0.03700000047683716, -0.03700000047683716, -0.03700000047683716, -0.10300000011920929, -0.10300000011920929, -0.10300000011920929, -0.07800000160932541, -0.07800000160932541, -0.07800000160932541, -0.07800000160932541, -0.07800000160932541, -0.054999999701976776], \"yaxis\": \"y\"}, {\"line\": {\"color\": \"#33C2FF\"}, \"mode\": \"lines\", \"name\": \"Mean \", \"type\": \"scatter\", \"x\": [\"2020-08-30T12:00:00\", \"2020-09-01T11:00:00\", \"2020-09-02T04:00:00\", \"2020-09-03T21:00:00\", \"2020-09-05T05:00:00\", \"2020-09-05T12:00:00\", \"2020-09-06T05:00:00\", \"2020-09-15T05:00:00\", \"2020-09-15T19:00:00\", \"2020-09-16T00:00:00\", \"2020-09-16T20:00:00\", \"2020-09-18T03:00:00\", \"2020-09-18T11:00:00\"], \"xaxis\": \"x\", \"y\": [0.017999999225139618, 0.017999999225139618, 0.017999999225139618, 0.017999999225139618, 0.014999999664723873, 0.014999999664723873, 0.014999999664723873, 0.006000000052154064, 0.006000000052154064, 0.006000000052154064, 0.006000000052154064, 0.006000000052154064, -0.014999999664723873], \"yaxis\": \"y\"}, {\"line\": {\"color\": \"#4280F5\"}, \"mode\": \"lines+markers\", \"name\": \"mean \", \"type\": \"scatter\", \"x\": [\"2020-08-30T12:00:00\", \"2020-09-01T11:00:00\", \"2020-09-02T04:00:00\", \"2020-09-03T21:00:00\", \"2020-09-05T05:00:00\", \"2020-09-05T12:00:00\", \"2020-09-06T05:00:00\", \"2020-09-15T05:00:00\", \"2020-09-15T19:00:00\", \"2020-09-16T00:00:00\", \"2020-09-16T20:00:00\", \"2020-09-18T03:00:00\", \"2020-09-18T11:00:00\"], \"xaxis\": \"x2\", \"y\": [0.01366666704416275, 0.005333332810550928, 0.0076666660606861115, -0.039000000804662704, 0.010999999940395355, -0.020666666328907013, 0.003666666569188237, -0.02866666577756405, 0.01733333431184292, 0.033666666597127914, 0.009333333000540733, -0.03999999910593033, 0.029999999329447746], \"yaxis\": \"y2\"}, {\"line\": {\"color\": \"#FF5733\"}, \"mode\": \"lines\", \"name\": \"USL \", \"type\": \"scatter\", \"x\": [\"2020-08-30T12:00:00\", \"2020-09-01T11:00:00\", \"2020-09-02T04:00:00\", \"2020-09-03T21:00:00\", \"2020-09-05T05:00:00\", \"2020-09-05T12:00:00\", \"2020-09-06T05:00:00\", \"2020-09-15T05:00:00\", \"2020-09-15T19:00:00\", \"2020-09-16T00:00:00\", \"2020-09-16T20:00:00\", \"2020-09-18T03:00:00\", \"2020-09-18T11:00:00\"], \"xaxis\": \"x2\", \"y\": [0.05000000074505806, 0.05000000074505806, 0.05000000074505806, 0.05000000074505806, 0.05000000074505806, 0.05000000074505806, 0.05000000074505806, 0.05000000074505806, 0.05000000074505806, 0.05000000074505806, 0.05000000074505806, 0.05000000074505806, 0.05000000074505806], \"yaxis\": \"y2\"}, {\"line\": {\"color\": \"#FF5733\"}, \"mode\": \"lines\", \"name\": \"LSL \", \"type\": \"scatter\", \"x\": [\"2020-08-30T12:00:00\", \"2020-09-01T11:00:00\", \"2020-09-02T04:00:00\", \"2020-09-03T21:00:00\", \"2020-09-05T05:00:00\", \"2020-09-05T12:00:00\", \"2020-09-06T05:00:00\", \"2020-09-15T05:00:00\", \"2020-09-15T19:00:00\", \"2020-09-16T00:00:00\", \"2020-09-16T20:00:00\", \"2020-09-18T03:00:00\", \"2020-09-18T11:00:00\"], \"xaxis\": \"x2\", \"y\": [-0.05000000074505806, -0.05000000074505806, -0.05000000074505806, -0.05000000074505806, -0.05000000074505806, -0.05000000074505806, -0.05000000074505806, -0.05000000074505806, -0.05000000074505806, -0.05000000074505806, -0.05000000074505806, -0.05000000074505806, -0.05000000074505806], \"yaxis\": \"y2\"}, {\"line\": {\"color\": \"#33C2FF\"}, \"mode\": \"lines\", \"name\": \"UCL \", \"type\": \"scatter\", \"x\": [\"2020-08-30T12:00:00\", \"2020-09-01T11:00:00\", \"2020-09-02T04:00:00\", \"2020-09-03T21:00:00\", \"2020-09-05T05:00:00\", \"2020-09-05T12:00:00\", \"2020-09-06T05:00:00\", \"2020-09-15T05:00:00\", \"2020-09-15T19:00:00\", \"2020-09-16T00:00:00\", \"2020-09-16T20:00:00\", \"2020-09-18T03:00:00\", \"2020-09-18T11:00:00\"], \"xaxis\": \"x2\", \"y\": [0.08699999749660492, 0.08699999749660492, 0.08699999749660492, 0.08699999749660492, 0.10300000011920929, 0.10300000011920929, 0.10300000011920929, 0.09300000220537186, 0.09300000220537186, 0.09300000220537186, 0.09300000220537186, 0.09300000220537186, 0.07699999958276749], \"yaxis\": \"y2\"}, {\"line\": {\"color\": \"#33C2FF\"}, \"mode\": \"lines\", \"name\": \"LCL \", \"type\": \"scatter\", \"x\": [\"2020-08-30T12:00:00\", \"2020-09-01T11:00:00\", \"2020-09-02T04:00:00\", \"2020-09-03T21:00:00\", \"2020-09-05T05:00:00\", \"2020-09-05T12:00:00\", \"2020-09-06T05:00:00\", \"2020-09-15T05:00:00\", \"2020-09-15T19:00:00\", \"2020-09-16T00:00:00\", \"2020-09-16T20:00:00\", \"2020-09-18T03:00:00\", \"2020-09-18T11:00:00\"], \"xaxis\": \"x2\", \"y\": [-0.09300000220537186, -0.09300000220537186, -0.09300000220537186, -0.09300000220537186, -0.10400000214576721, -0.10400000214576721, -0.10400000214576721, -0.09700000286102295, -0.09700000286102295, -0.09700000286102295, -0.09700000286102295, -0.09700000286102295, -0.017000000923871994], \"yaxis\": \"y2\"}, {\"line\": {\"color\": \"#33C2FF\"}, \"mode\": \"lines\", \"name\": \"Mean \", \"type\": \"scatter\", \"x\": [\"2020-08-30T12:00:00\", \"2020-09-01T11:00:00\", \"2020-09-02T04:00:00\", \"2020-09-03T21:00:00\", \"2020-09-05T05:00:00\", \"2020-09-05T12:00:00\", \"2020-09-06T05:00:00\", \"2020-09-15T05:00:00\", \"2020-09-15T19:00:00\", \"2020-09-16T00:00:00\", \"2020-09-16T20:00:00\", \"2020-09-18T03:00:00\", \"2020-09-18T11:00:00\"], \"xaxis\": \"x2\", \"y\": [-0.003000000026077032, -0.003000000026077032, -0.003000000026077032, -0.003000000026077032, -0.0010000000474974513, -0.0010000000474974513, -0.0010000000474974513, -0.0020000000949949026, -0.0020000000949949026, -0.0020000000949949026, -0.0020000000949949026, -0.0020000000949949026, 0.029999999329447746], \"yaxis\": \"y2\"}, {\"line\": {\"color\": \"#4280F5\"}, \"mode\": \"lines+markers\", \"name\": \"mean \", \"type\": \"scatter\", \"x\": [\"2020-08-30T12:00:00\", \"2020-09-01T11:00:00\", \"2020-09-02T04:00:00\", \"2020-09-03T21:00:00\", \"2020-09-05T05:00:00\", \"2020-09-05T12:00:00\", \"2020-09-06T05:00:00\", \"2020-09-15T05:00:00\", \"2020-09-15T19:00:00\", \"2020-09-16T00:00:00\", \"2020-09-16T20:00:00\", \"2020-09-18T03:00:00\", \"2020-09-18T11:00:00\"], \"xaxis\": \"x3\", \"y\": [42.26333236694336, 43.22999954223633, 42.06999969482422, 45.529998779296875, 43.35000228881836, 43.413333892822266, 43.14666748046875, 43.28666687011719, 42.2599983215332, 51.11666488647461, 44.7599983215332, 45.19333267211914, 42.63999938964844], \"yaxis\": \"y3\"}, {\"line\": {\"color\": \"#FF5733\"}, \"mode\": \"lines\", \"name\": \"USL \", \"type\": \"scatter\", \"x\": [\"2020-08-30T12:00:00\", \"2020-09-01T11:00:00\", \"2020-09-02T04:00:00\", \"2020-09-03T21:00:00\", \"2020-09-05T05:00:00\", \"2020-09-05T12:00:00\", \"2020-09-06T05:00:00\", \"2020-09-15T05:00:00\", \"2020-09-15T19:00:00\", \"2020-09-16T00:00:00\", \"2020-09-16T20:00:00\", \"2020-09-18T03:00:00\", \"2020-09-18T11:00:00\"], \"xaxis\": \"x3\", \"y\": [null, null, null, null, null, null, null, null, null, null, null, null, null], \"yaxis\": \"y3\"}, {\"line\": {\"color\": \"#FF5733\"}, \"mode\": \"lines\", \"name\": \"LSL \", \"type\": \"scatter\", \"x\": [\"2020-08-30T12:00:00\", \"2020-09-01T11:00:00\", \"2020-09-02T04:00:00\", \"2020-09-03T21:00:00\", \"2020-09-05T05:00:00\", \"2020-09-05T12:00:00\", \"2020-09-06T05:00:00\", \"2020-09-15T05:00:00\", \"2020-09-15T19:00:00\", \"2020-09-16T00:00:00\", \"2020-09-16T20:00:00\", \"2020-09-18T03:00:00\", \"2020-09-18T11:00:00\"], \"xaxis\": \"x3\", \"y\": [40.0, 40.0, 40.0, 40.0, 40.0, 40.0, 40.0, 40.0, 40.0, 40.0, 40.0, 40.0, 40.0], \"yaxis\": \"y3\"}, {\"line\": {\"color\": \"#33C2FF\"}, \"mode\": \"lines\", \"name\": \"UCL \", \"type\": \"scatter\", \"x\": [\"2020-08-30T12:00:00\", \"2020-09-01T11:00:00\", \"2020-09-02T04:00:00\", \"2020-09-03T21:00:00\", \"2020-09-05T05:00:00\", \"2020-09-05T12:00:00\", \"2020-09-06T05:00:00\", \"2020-09-15T05:00:00\", \"2020-09-15T19:00:00\", \"2020-09-16T00:00:00\", \"2020-09-16T20:00:00\", \"2020-09-18T03:00:00\", \"2020-09-18T11:00:00\"], \"xaxis\": \"x3\", \"y\": [49.3489990234375, 49.3489990234375, 49.3489990234375, 49.3489990234375, 47.53300094604492, 47.53300094604492, 47.53300094604492, 59.16600036621094, 59.16600036621094, 59.16600036621094, 59.16600036621094, 59.16600036621094, 50.88100051879883], \"yaxis\": \"y3\"}, {\"line\": {\"color\": \"#33C2FF\"}, \"mode\": \"lines\", \"name\": \"LCL \", \"type\": \"scatter\", \"x\": [\"2020-08-30T12:00:00\", \"2020-09-01T11:00:00\", \"2020-09-02T04:00:00\", \"2020-09-03T21:00:00\", \"2020-09-05T05:00:00\", \"2020-09-05T12:00:00\", \"2020-09-06T05:00:00\", \"2020-09-15T05:00:00\", \"2020-09-15T19:00:00\", \"2020-09-16T00:00:00\", \"2020-09-16T20:00:00\", \"2020-09-18T03:00:00\", \"2020-09-18T11:00:00\"], \"xaxis\": \"x3\", \"y\": [37.198001861572266, 37.198001861572266, 37.198001861572266, 37.198001861572266, 39.073001861572266, 39.073001861572266, 39.073001861572266, 31.479999542236328, 31.479999542236328, 31.479999542236328, 31.479999542236328, 31.479999542236328, 34.39899826049805], \"yaxis\": \"y3\"}, {\"line\": {\"color\": \"#33C2FF\"}, \"mode\": \"lines\", \"name\": \"Mean \", \"type\": \"scatter\", \"x\": [\"2020-08-30T12:00:00\", \"2020-09-01T11:00:00\", \"2020-09-02T04:00:00\", \"2020-09-03T21:00:00\", \"2020-09-05T05:00:00\", \"2020-09-05T12:00:00\", \"2020-09-06T05:00:00\", \"2020-09-15T05:00:00\", \"2020-09-15T19:00:00\", \"2020-09-16T00:00:00\", \"2020-09-16T20:00:00\", \"2020-09-18T03:00:00\", \"2020-09-18T11:00:00\"], \"xaxis\": \"x3\", \"y\": [43.27299880981445, 43.27299880981445, 43.27299880981445, 43.27299880981445, 43.303001403808594, 43.303001403808594, 43.303001403808594, 45.323001861572266, 45.323001861572266, 45.323001861572266, 45.323001861572266, 45.323001861572266, 42.63999938964844], \"yaxis\": \"y3\"}],\n",
              "                        {\"annotations\": [{\"font\": {\"size\": 16}, \"showarrow\": false, \"text\": \"Dim K Cp: 0.97 Pp: 0.58 Cpk: 0.59 Ppk: 0.35\", \"x\": 0.5, \"xanchor\": \"center\", \"xref\": \"paper\", \"y\": 1.0, \"yanchor\": \"bottom\", \"yref\": \"paper\"}, {\"font\": {\"size\": 16}, \"showarrow\": false, \"text\": \"Dim H Cp: 1.03 Pp: 0.54 Cpk: 0.71 Ppk: 0.37\", \"x\": 0.5, \"xanchor\": \"center\", \"xref\": \"paper\", \"y\": 0.6111111111111112, \"yanchor\": \"bottom\", \"yref\": \"paper\"}, {\"font\": {\"size\": 16}, \"showarrow\": false, \"text\": \"Test l\\u1ef1c\\nShear force Cp: nan Pp: nan Cpk: 0.63 Ppk: 0.53\", \"x\": 0.5, \"xanchor\": \"center\", \"xref\": \"paper\", \"y\": 0.22222222222222224, \"yanchor\": \"bottom\", \"yref\": \"paper\"}], \"height\": 600, \"template\": {\"data\": {\"bar\": [{\"error_x\": {\"color\": \"#2a3f5f\"}, \"error_y\": {\"color\": \"#2a3f5f\"}, \"marker\": {\"line\": {\"color\": \"#E5ECF6\", \"width\": 0.5}}, \"type\": \"bar\"}], \"barpolar\": [{\"marker\": {\"line\": {\"color\": \"#E5ECF6\", \"width\": 0.5}}, \"type\": \"barpolar\"}], \"carpet\": [{\"aaxis\": {\"endlinecolor\": \"#2a3f5f\", \"gridcolor\": \"white\", \"linecolor\": \"white\", \"minorgridcolor\": \"white\", \"startlinecolor\": \"#2a3f5f\"}, \"baxis\": {\"endlinecolor\": \"#2a3f5f\", \"gridcolor\": \"white\", \"linecolor\": \"white\", \"minorgridcolor\": \"white\", \"startlinecolor\": \"#2a3f5f\"}, \"type\": \"carpet\"}], \"choropleth\": [{\"colorbar\": {\"outlinewidth\": 0, \"ticks\": \"\"}, \"type\": \"choropleth\"}], \"contour\": [{\"colorbar\": {\"outlinewidth\": 0, \"ticks\": \"\"}, \"colorscale\": [[0.0, \"#0d0887\"], [0.1111111111111111, \"#46039f\"], [0.2222222222222222, \"#7201a8\"], [0.3333333333333333, \"#9c179e\"], [0.4444444444444444, \"#bd3786\"], [0.5555555555555556, \"#d8576b\"], [0.6666666666666666, \"#ed7953\"], [0.7777777777777778, \"#fb9f3a\"], [0.8888888888888888, \"#fdca26\"], [1.0, \"#f0f921\"]], \"type\": \"contour\"}], \"contourcarpet\": [{\"colorbar\": {\"outlinewidth\": 0, \"ticks\": \"\"}, \"type\": \"contourcarpet\"}], \"heatmap\": [{\"colorbar\": {\"outlinewidth\": 0, \"ticks\": \"\"}, \"colorscale\": [[0.0, \"#0d0887\"], [0.1111111111111111, \"#46039f\"], [0.2222222222222222, \"#7201a8\"], [0.3333333333333333, \"#9c179e\"], [0.4444444444444444, \"#bd3786\"], [0.5555555555555556, \"#d8576b\"], [0.6666666666666666, \"#ed7953\"], [0.7777777777777778, \"#fb9f3a\"], [0.8888888888888888, \"#fdca26\"], [1.0, \"#f0f921\"]], \"type\": \"heatmap\"}], \"heatmapgl\": [{\"colorbar\": {\"outlinewidth\": 0, \"ticks\": \"\"}, \"colorscale\": [[0.0, \"#0d0887\"], [0.1111111111111111, \"#46039f\"], [0.2222222222222222, \"#7201a8\"], [0.3333333333333333, \"#9c179e\"], [0.4444444444444444, \"#bd3786\"], [0.5555555555555556, \"#d8576b\"], [0.6666666666666666, \"#ed7953\"], [0.7777777777777778, \"#fb9f3a\"], [0.8888888888888888, \"#fdca26\"], [1.0, \"#f0f921\"]], \"type\": \"heatmapgl\"}], \"histogram\": [{\"marker\": {\"colorbar\": {\"outlinewidth\": 0, \"ticks\": \"\"}}, \"type\": \"histogram\"}], \"histogram2d\": [{\"colorbar\": {\"outlinewidth\": 0, \"ticks\": \"\"}, \"colorscale\": [[0.0, \"#0d0887\"], [0.1111111111111111, \"#46039f\"], [0.2222222222222222, \"#7201a8\"], [0.3333333333333333, \"#9c179e\"], [0.4444444444444444, \"#bd3786\"], [0.5555555555555556, \"#d8576b\"], [0.6666666666666666, \"#ed7953\"], [0.7777777777777778, \"#fb9f3a\"], [0.8888888888888888, \"#fdca26\"], [1.0, \"#f0f921\"]], \"type\": \"histogram2d\"}], \"histogram2dcontour\": [{\"colorbar\": {\"outlinewidth\": 0, \"ticks\": \"\"}, \"colorscale\": [[0.0, \"#0d0887\"], [0.1111111111111111, \"#46039f\"], [0.2222222222222222, \"#7201a8\"], [0.3333333333333333, \"#9c179e\"], [0.4444444444444444, \"#bd3786\"], [0.5555555555555556, \"#d8576b\"], [0.6666666666666666, \"#ed7953\"], [0.7777777777777778, \"#fb9f3a\"], [0.8888888888888888, \"#fdca26\"], [1.0, \"#f0f921\"]], \"type\": \"histogram2dcontour\"}], \"mesh3d\": [{\"colorbar\": {\"outlinewidth\": 0, \"ticks\": \"\"}, \"type\": \"mesh3d\"}], \"parcoords\": [{\"line\": {\"colorbar\": {\"outlinewidth\": 0, \"ticks\": \"\"}}, \"type\": \"parcoords\"}], \"pie\": [{\"automargin\": true, \"type\": \"pie\"}], \"scatter\": [{\"marker\": {\"colorbar\": {\"outlinewidth\": 0, \"ticks\": \"\"}}, \"type\": \"scatter\"}], \"scatter3d\": [{\"line\": {\"colorbar\": {\"outlinewidth\": 0, \"ticks\": \"\"}}, \"marker\": {\"colorbar\": {\"outlinewidth\": 0, \"ticks\": \"\"}}, \"type\": \"scatter3d\"}], \"scattercarpet\": [{\"marker\": {\"colorbar\": {\"outlinewidth\": 0, \"ticks\": \"\"}}, \"type\": \"scattercarpet\"}], \"scattergeo\": [{\"marker\": {\"colorbar\": {\"outlinewidth\": 0, \"ticks\": \"\"}}, \"type\": \"scattergeo\"}], \"scattergl\": [{\"marker\": {\"colorbar\": {\"outlinewidth\": 0, \"ticks\": \"\"}}, \"type\": \"scattergl\"}], \"scattermapbox\": [{\"marker\": {\"colorbar\": {\"outlinewidth\": 0, \"ticks\": \"\"}}, \"type\": \"scattermapbox\"}], \"scatterpolar\": [{\"marker\": {\"colorbar\": {\"outlinewidth\": 0, \"ticks\": \"\"}}, \"type\": \"scatterpolar\"}], \"scatterpolargl\": [{\"marker\": {\"colorbar\": {\"outlinewidth\": 0, \"ticks\": \"\"}}, \"type\": \"scatterpolargl\"}], \"scatterternary\": [{\"marker\": {\"colorbar\": {\"outlinewidth\": 0, \"ticks\": \"\"}}, \"type\": \"scatterternary\"}], \"surface\": [{\"colorbar\": {\"outlinewidth\": 0, \"ticks\": \"\"}, \"colorscale\": [[0.0, \"#0d0887\"], [0.1111111111111111, \"#46039f\"], [0.2222222222222222, \"#7201a8\"], [0.3333333333333333, \"#9c179e\"], [0.4444444444444444, \"#bd3786\"], [0.5555555555555556, \"#d8576b\"], [0.6666666666666666, \"#ed7953\"], [0.7777777777777778, \"#fb9f3a\"], [0.8888888888888888, \"#fdca26\"], [1.0, \"#f0f921\"]], \"type\": \"surface\"}], \"table\": [{\"cells\": {\"fill\": {\"color\": \"#EBF0F8\"}, \"line\": {\"color\": \"white\"}}, \"header\": {\"fill\": {\"color\": \"#C8D4E3\"}, \"line\": {\"color\": \"white\"}}, \"type\": \"table\"}]}, \"layout\": {\"annotationdefaults\": {\"arrowcolor\": \"#2a3f5f\", \"arrowhead\": 0, \"arrowwidth\": 1}, \"coloraxis\": {\"colorbar\": {\"outlinewidth\": 0, \"ticks\": \"\"}}, \"colorscale\": {\"diverging\": [[0, \"#8e0152\"], [0.1, \"#c51b7d\"], [0.2, \"#de77ae\"], [0.3, \"#f1b6da\"], [0.4, \"#fde0ef\"], [0.5, \"#f7f7f7\"], [0.6, \"#e6f5d0\"], [0.7, \"#b8e186\"], [0.8, \"#7fbc41\"], [0.9, \"#4d9221\"], [1, \"#276419\"]], \"sequential\": [[0.0, \"#0d0887\"], [0.1111111111111111, \"#46039f\"], [0.2222222222222222, \"#7201a8\"], [0.3333333333333333, \"#9c179e\"], [0.4444444444444444, \"#bd3786\"], [0.5555555555555556, \"#d8576b\"], [0.6666666666666666, \"#ed7953\"], [0.7777777777777778, \"#fb9f3a\"], [0.8888888888888888, \"#fdca26\"], [1.0, \"#f0f921\"]], \"sequentialminus\": [[0.0, \"#0d0887\"], [0.1111111111111111, \"#46039f\"], [0.2222222222222222, \"#7201a8\"], [0.3333333333333333, \"#9c179e\"], [0.4444444444444444, \"#bd3786\"], [0.5555555555555556, \"#d8576b\"], [0.6666666666666666, \"#ed7953\"], [0.7777777777777778, \"#fb9f3a\"], [0.8888888888888888, \"#fdca26\"], [1.0, \"#f0f921\"]]}, \"colorway\": [\"#636efa\", \"#EF553B\", \"#00cc96\", \"#ab63fa\", \"#FFA15A\", \"#19d3f3\", \"#FF6692\", \"#B6E880\", \"#FF97FF\", \"#FECB52\"], \"font\": {\"color\": \"#2a3f5f\"}, \"geo\": {\"bgcolor\": \"white\", \"lakecolor\": \"white\", \"landcolor\": \"#E5ECF6\", \"showlakes\": true, \"showland\": true, \"subunitcolor\": \"white\"}, \"hoverlabel\": {\"align\": \"left\"}, \"hovermode\": \"closest\", \"mapbox\": {\"style\": \"light\"}, \"paper_bgcolor\": \"white\", \"plot_bgcolor\": \"#E5ECF6\", \"polar\": {\"angularaxis\": {\"gridcolor\": \"white\", \"linecolor\": \"white\", \"ticks\": \"\"}, \"bgcolor\": \"#E5ECF6\", \"radialaxis\": {\"gridcolor\": \"white\", \"linecolor\": \"white\", \"ticks\": \"\"}}, \"scene\": {\"xaxis\": {\"backgroundcolor\": \"#E5ECF6\", \"gridcolor\": \"white\", \"gridwidth\": 2, \"linecolor\": \"white\", \"showbackground\": true, \"ticks\": \"\", \"zerolinecolor\": \"white\"}, \"yaxis\": {\"backgroundcolor\": \"#E5ECF6\", \"gridcolor\": \"white\", \"gridwidth\": 2, \"linecolor\": \"white\", \"showbackground\": true, \"ticks\": \"\", \"zerolinecolor\": \"white\"}, \"zaxis\": {\"backgroundcolor\": \"#E5ECF6\", \"gridcolor\": \"white\", \"gridwidth\": 2, \"linecolor\": \"white\", \"showbackground\": true, \"ticks\": \"\", \"zerolinecolor\": \"white\"}}, \"shapedefaults\": {\"line\": {\"color\": \"#2a3f5f\"}}, \"ternary\": {\"aaxis\": {\"gridcolor\": \"white\", \"linecolor\": \"white\", \"ticks\": \"\"}, \"baxis\": {\"gridcolor\": \"white\", \"linecolor\": \"white\", \"ticks\": \"\"}, \"bgcolor\": \"#E5ECF6\", \"caxis\": {\"gridcolor\": \"white\", \"linecolor\": \"white\", \"ticks\": \"\"}}, \"title\": {\"x\": 0.05}, \"xaxis\": {\"automargin\": true, \"gridcolor\": \"white\", \"linecolor\": \"white\", \"ticks\": \"\", \"title\": {\"standoff\": 15}, \"zerolinecolor\": \"white\", \"zerolinewidth\": 2}, \"yaxis\": {\"automargin\": true, \"gridcolor\": \"white\", \"linecolor\": \"white\", \"ticks\": \"\", \"title\": {\"standoff\": 15}, \"zerolinecolor\": \"white\", \"zerolinewidth\": 2}}}, \"title\": {\"text\": \"Process: 26983-Welding spout dual\"}, \"width\": 1200, \"xaxis\": {\"anchor\": \"y\", \"domain\": [0.0, 1.0]}, \"xaxis2\": {\"anchor\": \"y2\", \"domain\": [0.0, 1.0]}, \"xaxis3\": {\"anchor\": \"y3\", \"domain\": [0.0, 1.0]}, \"yaxis\": {\"anchor\": \"x\", \"domain\": [0.7777777777777778, 1.0]}, \"yaxis2\": {\"anchor\": \"x2\", \"domain\": [0.3888888888888889, 0.6111111111111112]}, \"yaxis3\": {\"anchor\": \"x3\", \"domain\": [0.0, 0.22222222222222224]}},\n",
              "                        {\"responsive\": true}\n",
              "                    ).then(function(){\n",
              "                            \n",
              "var gd = document.getElementById('f1d37ede-55cc-49af-a7c9-36d1ba60ad51');\n",
              "var x = new MutationObserver(function (mutations, observer) {{\n",
              "        var display = window.getComputedStyle(gd).display;\n",
              "        if (!display || display === 'none') {{\n",
              "            console.log([gd, 'removed!']);\n",
              "            Plotly.purge(gd);\n",
              "            observer.disconnect();\n",
              "        }}\n",
              "}});\n",
              "\n",
              "// Listen for the removal of the full notebook cells\n",
              "var notebookContainer = gd.closest('#notebook-container');\n",
              "if (notebookContainer) {{\n",
              "    x.observe(notebookContainer, {childList: true});\n",
              "}}\n",
              "\n",
              "// Listen for the clearing of the current output cell\n",
              "var outputEl = gd.closest('.output');\n",
              "if (outputEl) {{\n",
              "    x.observe(outputEl, {childList: true});\n",
              "}}\n",
              "\n",
              "                        })\n",
              "                };\n",
              "                \n",
              "            </script>\n",
              "        </div>\n",
              "</body>\n",
              "</html>"
            ]
          },
          "metadata": {
            "tags": []
          }
        },
        {
          "output_type": "display_data",
          "data": {
            "text/html": [
              "<html>\n",
              "<head><meta charset=\"utf-8\" /></head>\n",
              "<body>\n",
              "    <div>\n",
              "            <script src=\"https://cdnjs.cloudflare.com/ajax/libs/mathjax/2.7.5/MathJax.js?config=TeX-AMS-MML_SVG\"></script><script type=\"text/javascript\">if (window.MathJax) {MathJax.Hub.Config({SVG: {font: \"STIX-Web\"}});}</script>\n",
              "                <script type=\"text/javascript\">window.PlotlyConfig = {MathJaxConfig: 'local'};</script>\n",
              "        <script src=\"https://cdn.plot.ly/plotly-latest.min.js\"></script>    \n",
              "            <div id=\"4a91f1fe-b6db-4062-9d70-472120255fe7\" class=\"plotly-graph-div\" style=\"height:800px; width:1200px;\"></div>\n",
              "            <script type=\"text/javascript\">\n",
              "                \n",
              "                    window.PLOTLYENV=window.PLOTLYENV || {};\n",
              "                    \n",
              "                if (document.getElementById(\"4a91f1fe-b6db-4062-9d70-472120255fe7\")) {\n",
              "                    Plotly.newPlot(\n",
              "                        '4a91f1fe-b6db-4062-9d70-472120255fe7',\n",
              "                        [{\"line\": {\"color\": \"#4280F5\"}, \"mode\": \"lines+markers\", \"name\": \"mean \", \"type\": \"scatter\", \"x\": [\"2020-08-29T03:00:00\", \"2020-08-29T04:00:00\", \"2020-08-29T12:00:00\", \"2020-08-29T13:00:00\", \"2020-08-29T20:00:00\", \"2020-08-29T21:00:00\", \"2020-08-30T04:00:00\", \"2020-08-30T20:00:00\", \"2020-09-01T12:00:00\", \"2020-09-02T05:00:00\", \"2020-09-03T12:00:00\", \"2020-09-03T21:00:00\", \"2020-09-04T05:00:00\", \"2020-09-04T13:00:00\", \"2020-09-05T20:00:00\", \"2020-09-05T21:00:00\", \"2020-09-16T10:00:00\", \"2020-09-16T11:00:00\", \"2020-09-16T21:00:00\", \"2020-09-17T12:00:00\", \"2020-09-17T13:00:00\", \"2020-09-17T20:00:00\", \"2020-09-17T21:00:00\", \"2020-09-18T08:00:00\", \"2020-09-18T15:00:00\"], \"xaxis\": \"x\", \"y\": [0.7911999821662903, 0.7962499856948853, 0.7911052703857422, 0.7939524054527283, 0.7959374785423279, 0.7905625104904175, 0.7983124852180481, 0.792022705078125, 0.7938161492347717, 0.7938571572303772, 0.7941389083862305, 0.7940750122070312, 0.7996875047683716, 0.7948055267333984, 0.7947750091552734, 0.7951481342315674, 0.7889807820320129, 0.7899705767631531, 0.7905833125114441, 0.7891250252723694, 0.7908965349197388, 0.7883333563804626, 0.7912499904632568, 0.7891363501548767, 0.7920714020729065], \"yaxis\": \"y\"}, {\"line\": {\"color\": \"#FF5733\"}, \"mode\": \"lines\", \"name\": \"USL \", \"type\": \"scatter\", \"x\": [\"2020-08-29T03:00:00\", \"2020-08-29T04:00:00\", \"2020-08-29T12:00:00\", \"2020-08-29T13:00:00\", \"2020-08-29T20:00:00\", \"2020-08-29T21:00:00\", \"2020-08-30T04:00:00\", \"2020-08-30T20:00:00\", \"2020-09-01T12:00:00\", \"2020-09-02T05:00:00\", \"2020-09-03T12:00:00\", \"2020-09-03T21:00:00\", \"2020-09-04T05:00:00\", \"2020-09-04T13:00:00\", \"2020-09-05T20:00:00\", \"2020-09-05T21:00:00\", \"2020-09-16T10:00:00\", \"2020-09-16T11:00:00\", \"2020-09-16T21:00:00\", \"2020-09-17T12:00:00\", \"2020-09-17T13:00:00\", \"2020-09-17T20:00:00\", \"2020-09-17T21:00:00\", \"2020-09-18T08:00:00\", \"2020-09-18T15:00:00\"], \"xaxis\": \"x\", \"y\": [0.8050000071525574, 0.8050000071525574, 0.8050000071525574, 0.8050000071525574, 0.8050000071525574, 0.8050000071525574, 0.8050000071525574, 0.8050000071525574, 0.8050000071525574, 0.8050000071525574, 0.8050000071525574, 0.8050000071525574, 0.8050000071525574, 0.8050000071525574, 0.8050000071525574, 0.8050000071525574, 0.8050000071525574, 0.8050000071525574, 0.8050000071525574, 0.8050000071525574, 0.8050000071525574, 0.8050000071525574, 0.8050000071525574, 0.8050000071525574, 0.8050000071525574], \"yaxis\": \"y\"}, {\"line\": {\"color\": \"#FF5733\"}, \"mode\": \"lines\", \"name\": \"LSL \", \"type\": \"scatter\", \"x\": [\"2020-08-29T03:00:00\", \"2020-08-29T04:00:00\", \"2020-08-29T12:00:00\", \"2020-08-29T13:00:00\", \"2020-08-29T20:00:00\", \"2020-08-29T21:00:00\", \"2020-08-30T04:00:00\", \"2020-08-30T20:00:00\", \"2020-09-01T12:00:00\", \"2020-09-02T05:00:00\", \"2020-09-03T12:00:00\", \"2020-09-03T21:00:00\", \"2020-09-04T05:00:00\", \"2020-09-04T13:00:00\", \"2020-09-05T20:00:00\", \"2020-09-05T21:00:00\", \"2020-09-16T10:00:00\", \"2020-09-16T11:00:00\", \"2020-09-16T21:00:00\", \"2020-09-17T12:00:00\", \"2020-09-17T13:00:00\", \"2020-09-17T20:00:00\", \"2020-09-17T21:00:00\", \"2020-09-18T08:00:00\", \"2020-09-18T15:00:00\"], \"xaxis\": \"x\", \"y\": [0.7850000262260437, 0.7850000262260437, 0.7850000262260437, 0.7850000262260437, 0.7850000262260437, 0.7850000262260437, 0.7850000262260437, 0.7850000262260437, 0.7850000262260437, 0.7850000262260437, 0.7850000262260437, 0.7850000262260437, 0.7850000262260437, 0.7850000262260437, 0.7850000262260437, 0.7850000262260437, 0.7850000262260437, 0.7850000262260437, 0.7850000262260437, 0.7850000262260437, 0.7850000262260437, 0.7850000262260437, 0.7850000262260437, 0.7850000262260437, 0.7850000262260437], \"yaxis\": \"y\"}, {\"line\": {\"color\": \"#33C2FF\"}, \"mode\": \"lines\", \"name\": \"UCL \", \"type\": \"scatter\", \"x\": [\"2020-08-29T03:00:00\", \"2020-08-29T04:00:00\", \"2020-08-29T12:00:00\", \"2020-08-29T13:00:00\", \"2020-08-29T20:00:00\", \"2020-08-29T21:00:00\", \"2020-08-30T04:00:00\", \"2020-08-30T20:00:00\", \"2020-09-01T12:00:00\", \"2020-09-02T05:00:00\", \"2020-09-03T12:00:00\", \"2020-09-03T21:00:00\", \"2020-09-04T05:00:00\", \"2020-09-04T13:00:00\", \"2020-09-05T20:00:00\", \"2020-09-05T21:00:00\", \"2020-09-16T10:00:00\", \"2020-09-16T11:00:00\", \"2020-09-16T21:00:00\", \"2020-09-17T12:00:00\", \"2020-09-17T13:00:00\", \"2020-09-17T20:00:00\", \"2020-09-17T21:00:00\", \"2020-09-18T08:00:00\", \"2020-09-18T15:00:00\"], \"xaxis\": \"x\", \"y\": [0.8090000152587891, 0.8090000152587891, 0.8090000152587891, 0.8090000152587891, 0.8090000152587891, 0.8090000152587891, 0.8090000152587891, 0.8090000152587891, 0.8090000152587891, 0.8090000152587891, 0.8090000152587891, 0.8090000152587891, 0.8090000152587891, 0.8100000023841858, 0.8100000023841858, 0.8100000023841858, 0.800000011920929, 0.800000011920929, 0.800000011920929, 0.800000011920929, 0.800000011920929, 0.800000011920929, 0.800000011920929, 0.800000011920929, 0.8059999942779541], \"yaxis\": \"y\"}, {\"line\": {\"color\": \"#33C2FF\"}, \"mode\": \"lines\", \"name\": \"LCL \", \"type\": \"scatter\", \"x\": [\"2020-08-29T03:00:00\", \"2020-08-29T04:00:00\", \"2020-08-29T12:00:00\", \"2020-08-29T13:00:00\", \"2020-08-29T20:00:00\", \"2020-08-29T21:00:00\", \"2020-08-30T04:00:00\", \"2020-08-30T20:00:00\", \"2020-09-01T12:00:00\", \"2020-09-02T05:00:00\", \"2020-09-03T12:00:00\", \"2020-09-03T21:00:00\", \"2020-09-04T05:00:00\", \"2020-09-04T13:00:00\", \"2020-09-05T20:00:00\", \"2020-09-05T21:00:00\", \"2020-09-16T10:00:00\", \"2020-09-16T11:00:00\", \"2020-09-16T21:00:00\", \"2020-09-17T12:00:00\", \"2020-09-17T13:00:00\", \"2020-09-17T20:00:00\", \"2020-09-17T21:00:00\", \"2020-09-18T08:00:00\", \"2020-09-18T15:00:00\"], \"xaxis\": \"x\", \"y\": [0.7789999842643738, 0.7789999842643738, 0.7789999842643738, 0.7789999842643738, 0.7789999842643738, 0.7789999842643738, 0.7789999842643738, 0.7789999842643738, 0.7789999842643738, 0.7789999842643738, 0.7789999842643738, 0.7789999842643738, 0.7789999842643738, 0.7799999713897705, 0.7799999713897705, 0.7799999713897705, 0.7789999842643738, 0.7789999842643738, 0.7789999842643738, 0.7789999842643738, 0.7789999842643738, 0.7789999842643738, 0.7789999842643738, 0.7789999842643738, 0.777999997138977], \"yaxis\": \"y\"}, {\"line\": {\"color\": \"#33C2FF\"}, \"mode\": \"lines\", \"name\": \"Mean \", \"type\": \"scatter\", \"x\": [\"2020-08-29T03:00:00\", \"2020-08-29T04:00:00\", \"2020-08-29T12:00:00\", \"2020-08-29T13:00:00\", \"2020-08-29T20:00:00\", \"2020-08-29T21:00:00\", \"2020-08-30T04:00:00\", \"2020-08-30T20:00:00\", \"2020-09-01T12:00:00\", \"2020-09-02T05:00:00\", \"2020-09-03T12:00:00\", \"2020-09-03T21:00:00\", \"2020-09-04T05:00:00\", \"2020-09-04T13:00:00\", \"2020-09-05T20:00:00\", \"2020-09-05T21:00:00\", \"2020-09-16T10:00:00\", \"2020-09-16T11:00:00\", \"2020-09-16T21:00:00\", \"2020-09-17T12:00:00\", \"2020-09-17T13:00:00\", \"2020-09-17T20:00:00\", \"2020-09-17T21:00:00\", \"2020-09-18T08:00:00\", \"2020-09-18T15:00:00\"], \"xaxis\": \"x\", \"y\": [0.7940000295639038, 0.7940000295639038, 0.7940000295639038, 0.7940000295639038, 0.7940000295639038, 0.7940000295639038, 0.7940000295639038, 0.7940000295639038, 0.7940000295639038, 0.7940000295639038, 0.7940000295639038, 0.7940000295639038, 0.7940000295639038, 0.7950000166893005, 0.7950000166893005, 0.7950000166893005, 0.7900000214576721, 0.7900000214576721, 0.7900000214576721, 0.7900000214576721, 0.7900000214576721, 0.7900000214576721, 0.7900000214576721, 0.7900000214576721, 0.7919999957084656], \"yaxis\": \"y\"}, {\"line\": {\"color\": \"#4280F5\"}, \"mode\": \"lines+markers\", \"name\": \"mean \", \"type\": \"scatter\", \"x\": [\"2020-08-29T03:00:00\", \"2020-08-29T04:00:00\", \"2020-08-29T12:00:00\", \"2020-08-29T13:00:00\", \"2020-08-29T20:00:00\", \"2020-08-29T21:00:00\", \"2020-08-30T04:00:00\", \"2020-08-30T20:00:00\", \"2020-09-01T12:00:00\", \"2020-09-02T05:00:00\", \"2020-09-03T12:00:00\", \"2020-09-03T21:00:00\", \"2020-09-04T05:00:00\", \"2020-09-04T13:00:00\", \"2020-09-05T20:00:00\", \"2020-09-05T21:00:00\", \"2020-09-16T10:00:00\", \"2020-09-16T11:00:00\", \"2020-09-16T21:00:00\", \"2020-09-17T12:00:00\", \"2020-09-17T13:00:00\", \"2020-09-17T20:00:00\", \"2020-09-17T21:00:00\", \"2020-09-18T08:00:00\", \"2020-09-18T15:00:00\"], \"xaxis\": \"x2\", \"y\": [0.8236500024795532, 0.8108749985694885, 0.8262631297111511, 0.8082857131958008, 0.8084375262260437, 0.8047500252723694, 0.8131874799728394, 0.8173182010650635, 0.8097058534622192, 0.8167678713798523, 0.8140000104904175, 0.8160750269889832, 0.8180000185966492, 0.815333366394043, 0.8189499974250793, 0.818574070930481, 0.8283365368843079, 0.8229411840438843, 0.8209166526794434, 0.8211250305175781, 0.8180689811706543, 0.8335833549499512, 0.8232499957084656, 0.8269318342208862, 0.8215000033378601], \"yaxis\": \"y2\"}, {\"line\": {\"color\": \"#FF5733\"}, \"mode\": \"lines\", \"name\": \"USL \", \"type\": \"scatter\", \"x\": [\"2020-08-29T03:00:00\", \"2020-08-29T04:00:00\", \"2020-08-29T12:00:00\", \"2020-08-29T13:00:00\", \"2020-08-29T20:00:00\", \"2020-08-29T21:00:00\", \"2020-08-30T04:00:00\", \"2020-08-30T20:00:00\", \"2020-09-01T12:00:00\", \"2020-09-02T05:00:00\", \"2020-09-03T12:00:00\", \"2020-09-03T21:00:00\", \"2020-09-04T05:00:00\", \"2020-09-04T13:00:00\", \"2020-09-05T20:00:00\", \"2020-09-05T21:00:00\", \"2020-09-16T10:00:00\", \"2020-09-16T11:00:00\", \"2020-09-16T21:00:00\", \"2020-09-17T12:00:00\", \"2020-09-17T13:00:00\", \"2020-09-17T20:00:00\", \"2020-09-17T21:00:00\", \"2020-09-18T08:00:00\", \"2020-09-18T15:00:00\"], \"xaxis\": \"x2\", \"y\": [0.8500000238418579, 0.8500000238418579, 0.8500000238418579, 0.8500000238418579, 0.8500000238418579, 0.8500000238418579, 0.8500000238418579, 0.8500000238418579, 0.8500000238418579, 0.8500000238418579, 0.8500000238418579, 0.8500000238418579, 0.8500000238418579, 0.8500000238418579, 0.8500000238418579, 0.8500000238418579, 0.8500000238418579, 0.8500000238418579, 0.8500000238418579, 0.8500000238418579, 0.8500000238418579, 0.8500000238418579, 0.8500000238418579, 0.8500000238418579, 0.8500000238418579], \"yaxis\": \"y2\"}, {\"line\": {\"color\": \"#FF5733\"}, \"mode\": \"lines\", \"name\": \"LSL \", \"type\": \"scatter\", \"x\": [\"2020-08-29T03:00:00\", \"2020-08-29T04:00:00\", \"2020-08-29T12:00:00\", \"2020-08-29T13:00:00\", \"2020-08-29T20:00:00\", \"2020-08-29T21:00:00\", \"2020-08-30T04:00:00\", \"2020-08-30T20:00:00\", \"2020-09-01T12:00:00\", \"2020-09-02T05:00:00\", \"2020-09-03T12:00:00\", \"2020-09-03T21:00:00\", \"2020-09-04T05:00:00\", \"2020-09-04T13:00:00\", \"2020-09-05T20:00:00\", \"2020-09-05T21:00:00\", \"2020-09-16T10:00:00\", \"2020-09-16T11:00:00\", \"2020-09-16T21:00:00\", \"2020-09-17T12:00:00\", \"2020-09-17T13:00:00\", \"2020-09-17T20:00:00\", \"2020-09-17T21:00:00\", \"2020-09-18T08:00:00\", \"2020-09-18T15:00:00\"], \"xaxis\": \"x2\", \"y\": [0.7799999713897705, 0.7799999713897705, 0.7799999713897705, 0.7799999713897705, 0.7799999713897705, 0.7799999713897705, 0.7799999713897705, 0.7799999713897705, 0.7799999713897705, 0.7799999713897705, 0.7799999713897705, 0.7799999713897705, 0.7799999713897705, 0.7799999713897705, 0.7799999713897705, 0.7799999713897705, 0.7799999713897705, 0.7799999713897705, 0.7799999713897705, 0.7799999713897705, 0.7799999713897705, 0.7799999713897705, 0.7799999713897705, 0.7799999713897705, 0.7799999713897705], \"yaxis\": \"y2\"}, {\"line\": {\"color\": \"#33C2FF\"}, \"mode\": \"lines\", \"name\": \"UCL \", \"type\": \"scatter\", \"x\": [\"2020-08-29T03:00:00\", \"2020-08-29T04:00:00\", \"2020-08-29T12:00:00\", \"2020-08-29T13:00:00\", \"2020-08-29T20:00:00\", \"2020-08-29T21:00:00\", \"2020-08-30T04:00:00\", \"2020-08-30T20:00:00\", \"2020-09-01T12:00:00\", \"2020-09-02T05:00:00\", \"2020-09-03T12:00:00\", \"2020-09-03T21:00:00\", \"2020-09-04T05:00:00\", \"2020-09-04T13:00:00\", \"2020-09-05T20:00:00\", \"2020-09-05T21:00:00\", \"2020-09-16T10:00:00\", \"2020-09-16T11:00:00\", \"2020-09-16T21:00:00\", \"2020-09-17T12:00:00\", \"2020-09-17T13:00:00\", \"2020-09-17T20:00:00\", \"2020-09-17T21:00:00\", \"2020-09-18T08:00:00\", \"2020-09-18T15:00:00\"], \"xaxis\": \"x2\", \"y\": [0.859000027179718, 0.859000027179718, 0.859000027179718, 0.859000027179718, 0.859000027179718, 0.859000027179718, 0.859000027179718, 0.859000027179718, 0.859000027179718, 0.859000027179718, 0.859000027179718, 0.859000027179718, 0.859000027179718, 0.8579999804496765, 0.8579999804496765, 0.8579999804496765, 0.859000027179718, 0.859000027179718, 0.859000027179718, 0.859000027179718, 0.859000027179718, 0.859000027179718, 0.859000027179718, 0.859000027179718, 0.8629999756813049], \"yaxis\": \"y2\"}, {\"line\": {\"color\": \"#33C2FF\"}, \"mode\": \"lines\", \"name\": \"LCL \", \"type\": \"scatter\", \"x\": [\"2020-08-29T03:00:00\", \"2020-08-29T04:00:00\", \"2020-08-29T12:00:00\", \"2020-08-29T13:00:00\", \"2020-08-29T20:00:00\", \"2020-08-29T21:00:00\", \"2020-08-30T04:00:00\", \"2020-08-30T20:00:00\", \"2020-09-01T12:00:00\", \"2020-09-02T05:00:00\", \"2020-09-03T12:00:00\", \"2020-09-03T21:00:00\", \"2020-09-04T05:00:00\", \"2020-09-04T13:00:00\", \"2020-09-05T20:00:00\", \"2020-09-05T21:00:00\", \"2020-09-16T10:00:00\", \"2020-09-16T11:00:00\", \"2020-09-16T21:00:00\", \"2020-09-17T12:00:00\", \"2020-09-17T13:00:00\", \"2020-09-17T20:00:00\", \"2020-09-17T21:00:00\", \"2020-09-18T08:00:00\", \"2020-09-18T15:00:00\"], \"xaxis\": \"x2\", \"y\": [0.7680000066757202, 0.7680000066757202, 0.7680000066757202, 0.7680000066757202, 0.7680000066757202, 0.7680000066757202, 0.7680000066757202, 0.7680000066757202, 0.7680000066757202, 0.7680000066757202, 0.7680000066757202, 0.7680000066757202, 0.7680000066757202, 0.777999997138977, 0.777999997138977, 0.777999997138977, 0.7889999747276306, 0.7889999747276306, 0.7889999747276306, 0.7889999747276306, 0.7889999747276306, 0.7889999747276306, 0.7889999747276306, 0.7889999747276306, 0.7799999713897705], \"yaxis\": \"y2\"}, {\"line\": {\"color\": \"#33C2FF\"}, \"mode\": \"lines\", \"name\": \"Mean \", \"type\": \"scatter\", \"x\": [\"2020-08-29T03:00:00\", \"2020-08-29T04:00:00\", \"2020-08-29T12:00:00\", \"2020-08-29T13:00:00\", \"2020-08-29T20:00:00\", \"2020-08-29T21:00:00\", \"2020-08-30T04:00:00\", \"2020-08-30T20:00:00\", \"2020-09-01T12:00:00\", \"2020-09-02T05:00:00\", \"2020-09-03T12:00:00\", \"2020-09-03T21:00:00\", \"2020-09-04T05:00:00\", \"2020-09-04T13:00:00\", \"2020-09-05T20:00:00\", \"2020-09-05T21:00:00\", \"2020-09-16T10:00:00\", \"2020-09-16T11:00:00\", \"2020-09-16T21:00:00\", \"2020-09-17T12:00:00\", \"2020-09-17T13:00:00\", \"2020-09-17T20:00:00\", \"2020-09-17T21:00:00\", \"2020-09-18T08:00:00\", \"2020-09-18T15:00:00\"], \"xaxis\": \"x2\", \"y\": [0.8140000104904175, 0.8140000104904175, 0.8140000104904175, 0.8140000104904175, 0.8140000104904175, 0.8140000104904175, 0.8140000104904175, 0.8140000104904175, 0.8140000104904175, 0.8140000104904175, 0.8140000104904175, 0.8140000104904175, 0.8140000104904175, 0.8180000185966492, 0.8180000185966492, 0.8180000185966492, 0.8240000009536743, 0.8240000009536743, 0.8240000009536743, 0.8240000009536743, 0.8240000009536743, 0.8240000009536743, 0.8240000009536743, 0.8240000009536743, 0.8220000267028809], \"yaxis\": \"y2\"}, {\"line\": {\"color\": \"#4280F5\"}, \"mode\": \"lines+markers\", \"name\": \"mean \", \"type\": \"scatter\", \"x\": [\"2020-08-29T03:00:00\", \"2020-08-29T04:00:00\", \"2020-08-29T12:00:00\", \"2020-08-29T13:00:00\", \"2020-08-29T20:00:00\", \"2020-08-29T21:00:00\", \"2020-08-30T04:00:00\", \"2020-08-30T20:00:00\", \"2020-09-01T12:00:00\", \"2020-09-02T05:00:00\", \"2020-09-03T12:00:00\", \"2020-09-03T21:00:00\", \"2020-09-04T05:00:00\", \"2020-09-04T13:00:00\", \"2020-09-05T20:00:00\", \"2020-09-05T21:00:00\", \"2020-09-16T10:00:00\", \"2020-09-16T11:00:00\", \"2020-09-16T21:00:00\", \"2020-09-17T12:00:00\", \"2020-09-17T13:00:00\", \"2020-09-17T20:00:00\", \"2020-09-17T21:00:00\", \"2020-09-18T08:00:00\", \"2020-09-18T15:00:00\"], \"xaxis\": \"x3\", \"y\": [4.676300048828125, 4.683218479156494, 4.6710524559021, 4.680904865264893, 4.6817498207092285, 4.6723127365112305, 4.678625106811523, 4.676295280456543, 4.675911903381348, 4.67623233795166, 4.674221992492676, 4.679949760437012, 4.680624961853027, 4.679916858673096, 4.679325103759766, 4.673657417297363, 4.683076858520508, 4.6779561042785645, 4.6930832862854, 4.678750038146973, 4.680155277252197, 4.682583332061768, 4.68149995803833, 4.681954383850098, 4.678178787231445], \"yaxis\": \"y3\"}, {\"line\": {\"color\": \"#FF5733\"}, \"mode\": \"lines\", \"name\": \"USL \", \"type\": \"scatter\", \"x\": [\"2020-08-29T03:00:00\", \"2020-08-29T04:00:00\", \"2020-08-29T12:00:00\", \"2020-08-29T13:00:00\", \"2020-08-29T20:00:00\", \"2020-08-29T21:00:00\", \"2020-08-30T04:00:00\", \"2020-08-30T20:00:00\", \"2020-09-01T12:00:00\", \"2020-09-02T05:00:00\", \"2020-09-03T12:00:00\", \"2020-09-03T21:00:00\", \"2020-09-04T05:00:00\", \"2020-09-04T13:00:00\", \"2020-09-05T20:00:00\", \"2020-09-05T21:00:00\", \"2020-09-16T10:00:00\", \"2020-09-16T11:00:00\", \"2020-09-16T21:00:00\", \"2020-09-17T12:00:00\", \"2020-09-17T13:00:00\", \"2020-09-17T20:00:00\", \"2020-09-17T21:00:00\", \"2020-09-18T08:00:00\", \"2020-09-18T15:00:00\"], \"xaxis\": \"x3\", \"y\": [4.710000038146973, 4.710000038146973, 4.710000038146973, 4.710000038146973, 4.710000038146973, 4.710000038146973, 4.710000038146973, 4.710000038146973, 4.710000038146973, 4.710000038146973, 4.710000038146973, 4.710000038146973, 4.710000038146973, 4.710000038146973, 4.710000038146973, 4.710000038146973, 4.710000038146973, 4.710000038146973, 4.710000038146973, 4.710000038146973, 4.710000038146973, 4.710000038146973, 4.710000038146973, 4.710000038146973, 4.710000038146973], \"yaxis\": \"y3\"}, {\"line\": {\"color\": \"#FF5733\"}, \"mode\": \"lines\", \"name\": \"LSL \", \"type\": \"scatter\", \"x\": [\"2020-08-29T03:00:00\", \"2020-08-29T04:00:00\", \"2020-08-29T12:00:00\", \"2020-08-29T13:00:00\", \"2020-08-29T20:00:00\", \"2020-08-29T21:00:00\", \"2020-08-30T04:00:00\", \"2020-08-30T20:00:00\", \"2020-09-01T12:00:00\", \"2020-09-02T05:00:00\", \"2020-09-03T12:00:00\", \"2020-09-03T21:00:00\", \"2020-09-04T05:00:00\", \"2020-09-04T13:00:00\", \"2020-09-05T20:00:00\", \"2020-09-05T21:00:00\", \"2020-09-16T10:00:00\", \"2020-09-16T11:00:00\", \"2020-09-16T21:00:00\", \"2020-09-17T12:00:00\", \"2020-09-17T13:00:00\", \"2020-09-17T20:00:00\", \"2020-09-17T21:00:00\", \"2020-09-18T08:00:00\", \"2020-09-18T15:00:00\"], \"xaxis\": \"x3\", \"y\": [4.650000095367432, 4.650000095367432, 4.650000095367432, 4.650000095367432, 4.650000095367432, 4.650000095367432, 4.650000095367432, 4.650000095367432, 4.650000095367432, 4.650000095367432, 4.650000095367432, 4.650000095367432, 4.650000095367432, 4.650000095367432, 4.650000095367432, 4.650000095367432, 4.650000095367432, 4.650000095367432, 4.650000095367432, 4.650000095367432, 4.650000095367432, 4.650000095367432, 4.650000095367432, 4.650000095367432, 4.650000095367432], \"yaxis\": \"y3\"}, {\"line\": {\"color\": \"#33C2FF\"}, \"mode\": \"lines\", \"name\": \"UCL \", \"type\": \"scatter\", \"x\": [\"2020-08-29T03:00:00\", \"2020-08-29T04:00:00\", \"2020-08-29T12:00:00\", \"2020-08-29T13:00:00\", \"2020-08-29T20:00:00\", \"2020-08-29T21:00:00\", \"2020-08-30T04:00:00\", \"2020-08-30T20:00:00\", \"2020-09-01T12:00:00\", \"2020-09-02T05:00:00\", \"2020-09-03T12:00:00\", \"2020-09-03T21:00:00\", \"2020-09-04T05:00:00\", \"2020-09-04T13:00:00\", \"2020-09-05T20:00:00\", \"2020-09-05T21:00:00\", \"2020-09-16T10:00:00\", \"2020-09-16T11:00:00\", \"2020-09-16T21:00:00\", \"2020-09-17T12:00:00\", \"2020-09-17T13:00:00\", \"2020-09-17T20:00:00\", \"2020-09-17T21:00:00\", \"2020-09-18T08:00:00\", \"2020-09-18T15:00:00\"], \"xaxis\": \"x3\", \"y\": [4.706999778747559, 4.706999778747559, 4.706999778747559, 4.706999778747559, 4.706999778747559, 4.706999778747559, 4.706999778747559, 4.706999778747559, 4.706999778747559, 4.706999778747559, 4.706999778747559, 4.706999778747559, 4.706999778747559, 4.703999996185303, 4.703999996185303, 4.703999996185303, 4.710999965667725, 4.710999965667725, 4.710999965667725, 4.710999965667725, 4.710999965667725, 4.710999965667725, 4.710999965667725, 4.710999965667725, 4.709000110626221], \"yaxis\": \"y3\"}, {\"line\": {\"color\": \"#33C2FF\"}, \"mode\": \"lines\", \"name\": \"LCL \", \"type\": \"scatter\", \"x\": [\"2020-08-29T03:00:00\", \"2020-08-29T04:00:00\", \"2020-08-29T12:00:00\", \"2020-08-29T13:00:00\", \"2020-08-29T20:00:00\", \"2020-08-29T21:00:00\", \"2020-08-30T04:00:00\", \"2020-08-30T20:00:00\", \"2020-09-01T12:00:00\", \"2020-09-02T05:00:00\", \"2020-09-03T12:00:00\", \"2020-09-03T21:00:00\", \"2020-09-04T05:00:00\", \"2020-09-04T13:00:00\", \"2020-09-05T20:00:00\", \"2020-09-05T21:00:00\", \"2020-09-16T10:00:00\", \"2020-09-16T11:00:00\", \"2020-09-16T21:00:00\", \"2020-09-17T12:00:00\", \"2020-09-17T13:00:00\", \"2020-09-17T20:00:00\", \"2020-09-17T21:00:00\", \"2020-09-18T08:00:00\", \"2020-09-18T15:00:00\"], \"xaxis\": \"x3\", \"y\": [4.646999835968018, 4.646999835968018, 4.646999835968018, 4.646999835968018, 4.646999835968018, 4.646999835968018, 4.646999835968018, 4.646999835968018, 4.646999835968018, 4.646999835968018, 4.646999835968018, 4.646999835968018, 4.646999835968018, 4.64900016784668, 4.64900016784668, 4.64900016784668, 4.651000022888184, 4.651000022888184, 4.651000022888184, 4.651000022888184, 4.651000022888184, 4.651000022888184, 4.651000022888184, 4.651000022888184, 4.646999835968018], \"yaxis\": \"y3\"}, {\"line\": {\"color\": \"#33C2FF\"}, \"mode\": \"lines\", \"name\": \"Mean \", \"type\": \"scatter\", \"x\": [\"2020-08-29T03:00:00\", \"2020-08-29T04:00:00\", \"2020-08-29T12:00:00\", \"2020-08-29T13:00:00\", \"2020-08-29T20:00:00\", \"2020-08-29T21:00:00\", \"2020-08-30T04:00:00\", \"2020-08-30T20:00:00\", \"2020-09-01T12:00:00\", \"2020-09-02T05:00:00\", \"2020-09-03T12:00:00\", \"2020-09-03T21:00:00\", \"2020-09-04T05:00:00\", \"2020-09-04T13:00:00\", \"2020-09-05T20:00:00\", \"2020-09-05T21:00:00\", \"2020-09-16T10:00:00\", \"2020-09-16T11:00:00\", \"2020-09-16T21:00:00\", \"2020-09-17T12:00:00\", \"2020-09-17T13:00:00\", \"2020-09-17T20:00:00\", \"2020-09-17T21:00:00\", \"2020-09-18T08:00:00\", \"2020-09-18T15:00:00\"], \"xaxis\": \"x3\", \"y\": [4.677000045776367, 4.677000045776367, 4.677000045776367, 4.677000045776367, 4.677000045776367, 4.677000045776367, 4.677000045776367, 4.677000045776367, 4.677000045776367, 4.677000045776367, 4.677000045776367, 4.677000045776367, 4.677000045776367, 4.676000118255615, 4.676000118255615, 4.676000118255615, 4.681000232696533, 4.681000232696533, 4.681000232696533, 4.681000232696533, 4.681000232696533, 4.681000232696533, 4.681000232696533, 4.681000232696533, 4.677999973297119], \"yaxis\": \"y3\"}, {\"line\": {\"color\": \"#4280F5\"}, \"mode\": \"lines+markers\", \"name\": \"mean \", \"type\": \"scatter\", \"x\": [\"2020-08-29T03:00:00\", \"2020-08-29T04:00:00\", \"2020-08-29T12:00:00\", \"2020-08-29T13:00:00\", \"2020-08-29T20:00:00\", \"2020-08-29T21:00:00\", \"2020-08-30T04:00:00\", \"2020-08-30T20:00:00\", \"2020-09-01T12:00:00\", \"2020-09-02T05:00:00\", \"2020-09-03T12:00:00\", \"2020-09-03T21:00:00\", \"2020-09-04T05:00:00\", \"2020-09-04T13:00:00\", \"2020-09-05T20:00:00\", \"2020-09-05T21:00:00\", \"2020-09-16T10:00:00\", \"2020-09-16T11:00:00\", \"2020-09-16T21:00:00\", \"2020-09-17T12:00:00\", \"2020-09-17T13:00:00\", \"2020-09-17T20:00:00\", \"2020-09-17T21:00:00\", \"2020-09-18T08:00:00\", \"2020-09-18T15:00:00\"], \"xaxis\": \"x4\", \"y\": [-0.00019999990763608366, -0.007718749810010195, 0.0026842106599360704, 0.0011428571306169033, 0.0028750000055879354, 0.0019375000847503543, 0.0003750000905711204, 0.002068181987851858, -0.0008676470606587827, -0.000750000006519258, -0.00016666667943354696, -0.0012499999720603228, 0.008124999701976776, -0.001305555459111929, -0.00430000014603138, -0.0025925927329808474, 0.005067307502031326, 0.0007426470401696861, 0.005249999929219484, 0.007000000216066837, 0.0009137931629084051, -0.0026666666381061077, 0.00699999975040555, 0.003704545320942998, 0.0018214286537840962], \"yaxis\": \"y4\"}, {\"line\": {\"color\": \"#FF5733\"}, \"mode\": \"lines\", \"name\": \"USL \", \"type\": \"scatter\", \"x\": [\"2020-08-29T03:00:00\", \"2020-08-29T04:00:00\", \"2020-08-29T12:00:00\", \"2020-08-29T13:00:00\", \"2020-08-29T20:00:00\", \"2020-08-29T21:00:00\", \"2020-08-30T04:00:00\", \"2020-08-30T20:00:00\", \"2020-09-01T12:00:00\", \"2020-09-02T05:00:00\", \"2020-09-03T12:00:00\", \"2020-09-03T21:00:00\", \"2020-09-04T05:00:00\", \"2020-09-04T13:00:00\", \"2020-09-05T20:00:00\", \"2020-09-05T21:00:00\", \"2020-09-16T10:00:00\", \"2020-09-16T11:00:00\", \"2020-09-16T21:00:00\", \"2020-09-17T12:00:00\", \"2020-09-17T13:00:00\", \"2020-09-17T20:00:00\", \"2020-09-17T21:00:00\", \"2020-09-18T08:00:00\", \"2020-09-18T15:00:00\"], \"xaxis\": \"x4\", \"y\": [0.019999999552965164, 0.019999999552965164, 0.019999999552965164, 0.019999999552965164, 0.019999999552965164, 0.019999999552965164, 0.019999999552965164, 0.019999999552965164, 0.019999999552965164, 0.019999999552965164, 0.019999999552965164, 0.019999999552965164, 0.019999999552965164, 0.019999999552965164, 0.019999999552965164, 0.019999999552965164, 0.019999999552965164, 0.019999999552965164, 0.019999999552965164, 0.019999999552965164, 0.019999999552965164, 0.019999999552965164, 0.019999999552965164, 0.019999999552965164, 0.019999999552965164], \"yaxis\": \"y4\"}, {\"line\": {\"color\": \"#FF5733\"}, \"mode\": \"lines\", \"name\": \"LSL \", \"type\": \"scatter\", \"x\": [\"2020-08-29T03:00:00\", \"2020-08-29T04:00:00\", \"2020-08-29T12:00:00\", \"2020-08-29T13:00:00\", \"2020-08-29T20:00:00\", \"2020-08-29T21:00:00\", \"2020-08-30T04:00:00\", \"2020-08-30T20:00:00\", \"2020-09-01T12:00:00\", \"2020-09-02T05:00:00\", \"2020-09-03T12:00:00\", \"2020-09-03T21:00:00\", \"2020-09-04T05:00:00\", \"2020-09-04T13:00:00\", \"2020-09-05T20:00:00\", \"2020-09-05T21:00:00\", \"2020-09-16T10:00:00\", \"2020-09-16T11:00:00\", \"2020-09-16T21:00:00\", \"2020-09-17T12:00:00\", \"2020-09-17T13:00:00\", \"2020-09-17T20:00:00\", \"2020-09-17T21:00:00\", \"2020-09-18T08:00:00\", \"2020-09-18T15:00:00\"], \"xaxis\": \"x4\", \"y\": [-0.019999999552965164, -0.019999999552965164, -0.019999999552965164, -0.019999999552965164, -0.019999999552965164, -0.019999999552965164, -0.019999999552965164, -0.019999999552965164, -0.019999999552965164, -0.019999999552965164, -0.019999999552965164, -0.019999999552965164, -0.019999999552965164, -0.019999999552965164, -0.019999999552965164, -0.019999999552965164, -0.019999999552965164, -0.019999999552965164, -0.019999999552965164, -0.019999999552965164, -0.019999999552965164, -0.019999999552965164, -0.019999999552965164, -0.019999999552965164, -0.019999999552965164], \"yaxis\": \"y4\"}, {\"line\": {\"color\": \"#33C2FF\"}, \"mode\": \"lines\", \"name\": \"UCL \", \"type\": \"scatter\", \"x\": [\"2020-08-29T03:00:00\", \"2020-08-29T04:00:00\", \"2020-08-29T12:00:00\", \"2020-08-29T13:00:00\", \"2020-08-29T20:00:00\", \"2020-08-29T21:00:00\", \"2020-08-30T04:00:00\", \"2020-08-30T20:00:00\", \"2020-09-01T12:00:00\", \"2020-09-02T05:00:00\", \"2020-09-03T12:00:00\", \"2020-09-03T21:00:00\", \"2020-09-04T05:00:00\", \"2020-09-04T13:00:00\", \"2020-09-05T20:00:00\", \"2020-09-05T21:00:00\", \"2020-09-16T10:00:00\", \"2020-09-16T11:00:00\", \"2020-09-16T21:00:00\", \"2020-09-17T12:00:00\", \"2020-09-17T13:00:00\", \"2020-09-17T20:00:00\", \"2020-09-17T21:00:00\", \"2020-09-18T08:00:00\", \"2020-09-18T15:00:00\"], \"xaxis\": \"x4\", \"y\": [0.029999999329447746, 0.029999999329447746, 0.029999999329447746, 0.029999999329447746, 0.029999999329447746, 0.029999999329447746, 0.029999999329447746, 0.029999999329447746, 0.029999999329447746, 0.029999999329447746, 0.029999999329447746, 0.029999999329447746, 0.029999999329447746, 0.02800000086426735, 0.02800000086426735, 0.02800000086426735, 0.03099999949336052, 0.03099999949336052, 0.03099999949336052, 0.03099999949336052, 0.03099999949336052, 0.03099999949336052, 0.03099999949336052, 0.03099999949336052, 0.029999999329447746], \"yaxis\": \"y4\"}, {\"line\": {\"color\": \"#33C2FF\"}, \"mode\": \"lines\", \"name\": \"LCL \", \"type\": \"scatter\", \"x\": [\"2020-08-29T03:00:00\", \"2020-08-29T04:00:00\", \"2020-08-29T12:00:00\", \"2020-08-29T13:00:00\", \"2020-08-29T20:00:00\", \"2020-08-29T21:00:00\", \"2020-08-30T04:00:00\", \"2020-08-30T20:00:00\", \"2020-09-01T12:00:00\", \"2020-09-02T05:00:00\", \"2020-09-03T12:00:00\", \"2020-09-03T21:00:00\", \"2020-09-04T05:00:00\", \"2020-09-04T13:00:00\", \"2020-09-05T20:00:00\", \"2020-09-05T21:00:00\", \"2020-09-16T10:00:00\", \"2020-09-16T11:00:00\", \"2020-09-16T21:00:00\", \"2020-09-17T12:00:00\", \"2020-09-17T13:00:00\", \"2020-09-17T20:00:00\", \"2020-09-17T21:00:00\", \"2020-09-18T08:00:00\", \"2020-09-18T15:00:00\"], \"xaxis\": \"x4\", \"y\": [-0.029999999329447746, -0.029999999329447746, -0.029999999329447746, -0.029999999329447746, -0.029999999329447746, -0.029999999329447746, -0.029999999329447746, -0.029999999329447746, -0.029999999329447746, -0.029999999329447746, -0.029999999329447746, -0.029999999329447746, -0.029999999329447746, -0.032999999821186066, -0.032999999821186066, -0.032999999821186066, -0.026000000536441803, -0.026000000536441803, -0.026000000536441803, -0.026000000536441803, -0.026000000536441803, -0.026000000536441803, -0.026000000536441803, -0.026000000536441803, -0.026000000536441803], \"yaxis\": \"y4\"}, {\"line\": {\"color\": \"#33C2FF\"}, \"mode\": \"lines\", \"name\": \"Mean \", \"type\": \"scatter\", \"x\": [\"2020-08-29T03:00:00\", \"2020-08-29T04:00:00\", \"2020-08-29T12:00:00\", \"2020-08-29T13:00:00\", \"2020-08-29T20:00:00\", \"2020-08-29T21:00:00\", \"2020-08-30T04:00:00\", \"2020-08-30T20:00:00\", \"2020-09-01T12:00:00\", \"2020-09-02T05:00:00\", \"2020-09-03T12:00:00\", \"2020-09-03T21:00:00\", \"2020-09-04T05:00:00\", \"2020-09-04T13:00:00\", \"2020-09-05T20:00:00\", \"2020-09-05T21:00:00\", \"2020-09-16T10:00:00\", \"2020-09-16T11:00:00\", \"2020-09-16T21:00:00\", \"2020-09-17T12:00:00\", \"2020-09-17T13:00:00\", \"2020-09-17T20:00:00\", \"2020-09-17T21:00:00\", \"2020-09-18T08:00:00\", \"2020-09-18T15:00:00\"], \"xaxis\": \"x4\", \"y\": [0.0, 0.0, 0.0, 0.0, 0.0, 0.0, 0.0, 0.0, 0.0, 0.0, 0.0, 0.0, 0.0, -0.003000000026077032, -0.003000000026077032, -0.003000000026077032, 0.0020000000949949026, 0.0020000000949949026, 0.0020000000949949026, 0.0020000000949949026, 0.0020000000949949026, 0.0020000000949949026, 0.0020000000949949026, 0.0020000000949949026, 0.0020000000949949026], \"yaxis\": \"y4\"}],\n",
              "                        {\"annotations\": [{\"font\": {\"size\": 16}, \"showarrow\": false, \"text\": \"Dim A Cp: 0.9 Pp: 0.68 Cpk: 0.48 Ppk: 0.36\", \"x\": 0.5, \"xanchor\": \"center\", \"xref\": \"paper\", \"y\": 1.0, \"yanchor\": \"bottom\", \"yref\": \"paper\"}, {\"font\": {\"size\": 16}, \"showarrow\": false, \"text\": \"Dim B Cp: 0.94 Pp: 0.82 Cpk: 0.73 Ppk: 0.64\", \"x\": 0.5, \"xanchor\": \"center\", \"xref\": \"paper\", \"y\": 0.71875, \"yanchor\": \"bottom\", \"yref\": \"paper\"}, {\"font\": {\"size\": 16}, \"showarrow\": false, \"text\": \"Dim C Cp: 1.08 Pp: 0.99 Cpk: 1.02 Ppk: 0.94\", \"x\": 0.5, \"xanchor\": \"center\", \"xref\": \"paper\", \"y\": 0.4375, \"yanchor\": \"bottom\", \"yref\": \"paper\"}, {\"font\": {\"size\": 16}, \"showarrow\": false, \"text\": \"Dim D  Cp: 0.77 Pp: 0.67 Cpk: 0.73 Ppk: 0.63\", \"x\": 0.5, \"xanchor\": \"center\", \"xref\": \"paper\", \"y\": 0.15625, \"yanchor\": \"bottom\", \"yref\": \"paper\"}], \"height\": 800, \"template\": {\"data\": {\"bar\": [{\"error_x\": {\"color\": \"#2a3f5f\"}, \"error_y\": {\"color\": \"#2a3f5f\"}, \"marker\": {\"line\": {\"color\": \"#E5ECF6\", \"width\": 0.5}}, \"type\": \"bar\"}], \"barpolar\": [{\"marker\": {\"line\": {\"color\": \"#E5ECF6\", \"width\": 0.5}}, \"type\": \"barpolar\"}], \"carpet\": [{\"aaxis\": {\"endlinecolor\": \"#2a3f5f\", \"gridcolor\": \"white\", \"linecolor\": \"white\", \"minorgridcolor\": \"white\", \"startlinecolor\": \"#2a3f5f\"}, \"baxis\": {\"endlinecolor\": \"#2a3f5f\", \"gridcolor\": \"white\", \"linecolor\": \"white\", \"minorgridcolor\": \"white\", \"startlinecolor\": \"#2a3f5f\"}, \"type\": \"carpet\"}], \"choropleth\": [{\"colorbar\": {\"outlinewidth\": 0, \"ticks\": \"\"}, \"type\": \"choropleth\"}], \"contour\": [{\"colorbar\": {\"outlinewidth\": 0, \"ticks\": \"\"}, \"colorscale\": [[0.0, \"#0d0887\"], [0.1111111111111111, \"#46039f\"], [0.2222222222222222, \"#7201a8\"], [0.3333333333333333, \"#9c179e\"], [0.4444444444444444, \"#bd3786\"], [0.5555555555555556, \"#d8576b\"], [0.6666666666666666, \"#ed7953\"], [0.7777777777777778, \"#fb9f3a\"], [0.8888888888888888, \"#fdca26\"], [1.0, \"#f0f921\"]], \"type\": \"contour\"}], \"contourcarpet\": [{\"colorbar\": {\"outlinewidth\": 0, \"ticks\": \"\"}, \"type\": \"contourcarpet\"}], \"heatmap\": [{\"colorbar\": {\"outlinewidth\": 0, \"ticks\": \"\"}, \"colorscale\": [[0.0, \"#0d0887\"], [0.1111111111111111, \"#46039f\"], [0.2222222222222222, \"#7201a8\"], [0.3333333333333333, \"#9c179e\"], [0.4444444444444444, \"#bd3786\"], [0.5555555555555556, \"#d8576b\"], [0.6666666666666666, \"#ed7953\"], [0.7777777777777778, \"#fb9f3a\"], [0.8888888888888888, \"#fdca26\"], [1.0, \"#f0f921\"]], \"type\": \"heatmap\"}], \"heatmapgl\": [{\"colorbar\": {\"outlinewidth\": 0, \"ticks\": \"\"}, \"colorscale\": [[0.0, \"#0d0887\"], [0.1111111111111111, \"#46039f\"], [0.2222222222222222, \"#7201a8\"], [0.3333333333333333, \"#9c179e\"], [0.4444444444444444, \"#bd3786\"], [0.5555555555555556, \"#d8576b\"], [0.6666666666666666, \"#ed7953\"], [0.7777777777777778, \"#fb9f3a\"], [0.8888888888888888, \"#fdca26\"], [1.0, \"#f0f921\"]], \"type\": \"heatmapgl\"}], \"histogram\": [{\"marker\": {\"colorbar\": {\"outlinewidth\": 0, \"ticks\": \"\"}}, \"type\": \"histogram\"}], \"histogram2d\": [{\"colorbar\": {\"outlinewidth\": 0, \"ticks\": \"\"}, \"colorscale\": [[0.0, \"#0d0887\"], [0.1111111111111111, \"#46039f\"], [0.2222222222222222, \"#7201a8\"], [0.3333333333333333, \"#9c179e\"], [0.4444444444444444, \"#bd3786\"], [0.5555555555555556, \"#d8576b\"], [0.6666666666666666, \"#ed7953\"], [0.7777777777777778, \"#fb9f3a\"], [0.8888888888888888, \"#fdca26\"], [1.0, \"#f0f921\"]], \"type\": \"histogram2d\"}], \"histogram2dcontour\": [{\"colorbar\": {\"outlinewidth\": 0, \"ticks\": \"\"}, \"colorscale\": [[0.0, \"#0d0887\"], [0.1111111111111111, \"#46039f\"], [0.2222222222222222, \"#7201a8\"], [0.3333333333333333, \"#9c179e\"], [0.4444444444444444, \"#bd3786\"], [0.5555555555555556, \"#d8576b\"], [0.6666666666666666, \"#ed7953\"], [0.7777777777777778, \"#fb9f3a\"], [0.8888888888888888, \"#fdca26\"], [1.0, \"#f0f921\"]], \"type\": \"histogram2dcontour\"}], \"mesh3d\": [{\"colorbar\": {\"outlinewidth\": 0, \"ticks\": \"\"}, \"type\": \"mesh3d\"}], \"parcoords\": [{\"line\": {\"colorbar\": {\"outlinewidth\": 0, \"ticks\": \"\"}}, \"type\": \"parcoords\"}], \"pie\": [{\"automargin\": true, \"type\": \"pie\"}], \"scatter\": [{\"marker\": {\"colorbar\": {\"outlinewidth\": 0, \"ticks\": \"\"}}, \"type\": \"scatter\"}], \"scatter3d\": [{\"line\": {\"colorbar\": {\"outlinewidth\": 0, \"ticks\": \"\"}}, \"marker\": {\"colorbar\": {\"outlinewidth\": 0, \"ticks\": \"\"}}, \"type\": \"scatter3d\"}], \"scattercarpet\": [{\"marker\": {\"colorbar\": {\"outlinewidth\": 0, \"ticks\": \"\"}}, \"type\": \"scattercarpet\"}], \"scattergeo\": [{\"marker\": {\"colorbar\": {\"outlinewidth\": 0, \"ticks\": \"\"}}, \"type\": \"scattergeo\"}], \"scattergl\": [{\"marker\": {\"colorbar\": {\"outlinewidth\": 0, \"ticks\": \"\"}}, \"type\": \"scattergl\"}], \"scattermapbox\": [{\"marker\": {\"colorbar\": {\"outlinewidth\": 0, \"ticks\": \"\"}}, \"type\": \"scattermapbox\"}], \"scatterpolar\": [{\"marker\": {\"colorbar\": {\"outlinewidth\": 0, \"ticks\": \"\"}}, \"type\": \"scatterpolar\"}], \"scatterpolargl\": [{\"marker\": {\"colorbar\": {\"outlinewidth\": 0, \"ticks\": \"\"}}, \"type\": \"scatterpolargl\"}], \"scatterternary\": [{\"marker\": {\"colorbar\": {\"outlinewidth\": 0, \"ticks\": \"\"}}, \"type\": \"scatterternary\"}], \"surface\": [{\"colorbar\": {\"outlinewidth\": 0, \"ticks\": \"\"}, \"colorscale\": [[0.0, \"#0d0887\"], [0.1111111111111111, \"#46039f\"], [0.2222222222222222, \"#7201a8\"], [0.3333333333333333, \"#9c179e\"], [0.4444444444444444, \"#bd3786\"], [0.5555555555555556, \"#d8576b\"], [0.6666666666666666, \"#ed7953\"], [0.7777777777777778, \"#fb9f3a\"], [0.8888888888888888, \"#fdca26\"], [1.0, \"#f0f921\"]], \"type\": \"surface\"}], \"table\": [{\"cells\": {\"fill\": {\"color\": \"#EBF0F8\"}, \"line\": {\"color\": \"white\"}}, \"header\": {\"fill\": {\"color\": \"#C8D4E3\"}, \"line\": {\"color\": \"white\"}}, \"type\": \"table\"}]}, \"layout\": {\"annotationdefaults\": {\"arrowcolor\": \"#2a3f5f\", \"arrowhead\": 0, \"arrowwidth\": 1}, \"coloraxis\": {\"colorbar\": {\"outlinewidth\": 0, \"ticks\": \"\"}}, \"colorscale\": {\"diverging\": [[0, \"#8e0152\"], [0.1, \"#c51b7d\"], [0.2, \"#de77ae\"], [0.3, \"#f1b6da\"], [0.4, \"#fde0ef\"], [0.5, \"#f7f7f7\"], [0.6, \"#e6f5d0\"], [0.7, \"#b8e186\"], [0.8, \"#7fbc41\"], [0.9, \"#4d9221\"], [1, \"#276419\"]], \"sequential\": [[0.0, \"#0d0887\"], [0.1111111111111111, \"#46039f\"], [0.2222222222222222, \"#7201a8\"], [0.3333333333333333, \"#9c179e\"], [0.4444444444444444, \"#bd3786\"], [0.5555555555555556, \"#d8576b\"], [0.6666666666666666, \"#ed7953\"], [0.7777777777777778, \"#fb9f3a\"], [0.8888888888888888, \"#fdca26\"], [1.0, \"#f0f921\"]], \"sequentialminus\": [[0.0, \"#0d0887\"], [0.1111111111111111, \"#46039f\"], [0.2222222222222222, \"#7201a8\"], [0.3333333333333333, \"#9c179e\"], [0.4444444444444444, \"#bd3786\"], [0.5555555555555556, \"#d8576b\"], [0.6666666666666666, \"#ed7953\"], [0.7777777777777778, \"#fb9f3a\"], [0.8888888888888888, \"#fdca26\"], [1.0, \"#f0f921\"]]}, \"colorway\": [\"#636efa\", \"#EF553B\", \"#00cc96\", \"#ab63fa\", \"#FFA15A\", \"#19d3f3\", \"#FF6692\", \"#B6E880\", \"#FF97FF\", \"#FECB52\"], \"font\": {\"color\": \"#2a3f5f\"}, \"geo\": {\"bgcolor\": \"white\", \"lakecolor\": \"white\", \"landcolor\": \"#E5ECF6\", \"showlakes\": true, \"showland\": true, \"subunitcolor\": \"white\"}, \"hoverlabel\": {\"align\": \"left\"}, \"hovermode\": \"closest\", \"mapbox\": {\"style\": \"light\"}, \"paper_bgcolor\": \"white\", \"plot_bgcolor\": \"#E5ECF6\", \"polar\": {\"angularaxis\": {\"gridcolor\": \"white\", \"linecolor\": \"white\", \"ticks\": \"\"}, \"bgcolor\": \"#E5ECF6\", \"radialaxis\": {\"gridcolor\": \"white\", \"linecolor\": \"white\", \"ticks\": \"\"}}, \"scene\": {\"xaxis\": {\"backgroundcolor\": \"#E5ECF6\", \"gridcolor\": \"white\", \"gridwidth\": 2, \"linecolor\": \"white\", \"showbackground\": true, \"ticks\": \"\", \"zerolinecolor\": \"white\"}, \"yaxis\": {\"backgroundcolor\": \"#E5ECF6\", \"gridcolor\": \"white\", \"gridwidth\": 2, \"linecolor\": \"white\", \"showbackground\": true, \"ticks\": \"\", \"zerolinecolor\": \"white\"}, \"zaxis\": {\"backgroundcolor\": \"#E5ECF6\", \"gridcolor\": \"white\", \"gridwidth\": 2, \"linecolor\": \"white\", \"showbackground\": true, \"ticks\": \"\", \"zerolinecolor\": \"white\"}}, \"shapedefaults\": {\"line\": {\"color\": \"#2a3f5f\"}}, \"ternary\": {\"aaxis\": {\"gridcolor\": \"white\", \"linecolor\": \"white\", \"ticks\": \"\"}, \"baxis\": {\"gridcolor\": \"white\", \"linecolor\": \"white\", \"ticks\": \"\"}, \"bgcolor\": \"#E5ECF6\", \"caxis\": {\"gridcolor\": \"white\", \"linecolor\": \"white\", \"ticks\": \"\"}}, \"title\": {\"x\": 0.05}, \"xaxis\": {\"automargin\": true, \"gridcolor\": \"white\", \"linecolor\": \"white\", \"ticks\": \"\", \"title\": {\"standoff\": 15}, \"zerolinecolor\": \"white\", \"zerolinewidth\": 2}, \"yaxis\": {\"automargin\": true, \"gridcolor\": \"white\", \"linecolor\": \"white\", \"ticks\": \"\", \"title\": {\"standoff\": 15}, \"zerolinecolor\": \"white\", \"zerolinewidth\": 2}}}, \"title\": {\"text\": \"Process: 26720-bending Armature\"}, \"width\": 1200, \"xaxis\": {\"anchor\": \"y\", \"domain\": [0.0, 1.0]}, \"xaxis2\": {\"anchor\": \"y2\", \"domain\": [0.0, 1.0]}, \"xaxis3\": {\"anchor\": \"y3\", \"domain\": [0.0, 1.0]}, \"xaxis4\": {\"anchor\": \"y4\", \"domain\": [0.0, 1.0]}, \"yaxis\": {\"anchor\": \"x\", \"domain\": [0.84375, 1.0]}, \"yaxis2\": {\"anchor\": \"x2\", \"domain\": [0.5625, 0.71875]}, \"yaxis3\": {\"anchor\": \"x3\", \"domain\": [0.28125, 0.4375]}, \"yaxis4\": {\"anchor\": \"x4\", \"domain\": [0.0, 0.15625]}},\n",
              "                        {\"responsive\": true}\n",
              "                    ).then(function(){\n",
              "                            \n",
              "var gd = document.getElementById('4a91f1fe-b6db-4062-9d70-472120255fe7');\n",
              "var x = new MutationObserver(function (mutations, observer) {{\n",
              "        var display = window.getComputedStyle(gd).display;\n",
              "        if (!display || display === 'none') {{\n",
              "            console.log([gd, 'removed!']);\n",
              "            Plotly.purge(gd);\n",
              "            observer.disconnect();\n",
              "        }}\n",
              "}});\n",
              "\n",
              "// Listen for the removal of the full notebook cells\n",
              "var notebookContainer = gd.closest('#notebook-container');\n",
              "if (notebookContainer) {{\n",
              "    x.observe(notebookContainer, {childList: true});\n",
              "}}\n",
              "\n",
              "// Listen for the clearing of the current output cell\n",
              "var outputEl = gd.closest('.output');\n",
              "if (outputEl) {{\n",
              "    x.observe(outputEl, {childList: true});\n",
              "}}\n",
              "\n",
              "                        })\n",
              "                };\n",
              "                \n",
              "            </script>\n",
              "        </div>\n",
              "</body>\n",
              "</html>"
            ]
          },
          "metadata": {
            "tags": []
          }
        },
        {
          "output_type": "display_data",
          "data": {
            "text/html": [
              "<html>\n",
              "<head><meta charset=\"utf-8\" /></head>\n",
              "<body>\n",
              "    <div>\n",
              "            <script src=\"https://cdnjs.cloudflare.com/ajax/libs/mathjax/2.7.5/MathJax.js?config=TeX-AMS-MML_SVG\"></script><script type=\"text/javascript\">if (window.MathJax) {MathJax.Hub.Config({SVG: {font: \"STIX-Web\"}});}</script>\n",
              "                <script type=\"text/javascript\">window.PlotlyConfig = {MathJaxConfig: 'local'};</script>\n",
              "        <script src=\"https://cdn.plot.ly/plotly-latest.min.js\"></script>    \n",
              "            <div id=\"5f5a3539-3225-4d12-8615-88b59422e4df\" class=\"plotly-graph-div\" style=\"height:400px; width:1200px;\"></div>\n",
              "            <script type=\"text/javascript\">\n",
              "                \n",
              "                    window.PLOTLYENV=window.PLOTLYENV || {};\n",
              "                    \n",
              "                if (document.getElementById(\"5f5a3539-3225-4d12-8615-88b59422e4df\")) {\n",
              "                    Plotly.newPlot(\n",
              "                        '5f5a3539-3225-4d12-8615-88b59422e4df',\n",
              "                        [{\"line\": {\"color\": \"#4280F5\"}, \"mode\": \"lines+markers\", \"name\": \"mean \", \"type\": \"scatter\", \"x\": [\"2020-08-29T04:00:00\", \"2020-08-29T13:00:00\", \"2020-08-29T20:00:00\", \"2020-08-29T21:00:00\", \"2020-08-30T04:00:00\", \"2020-08-30T13:00:00\", \"2020-08-30T20:00:00\", \"2020-09-01T12:00:00\", \"2020-09-01T13:00:00\", \"2020-09-03T12:00:00\", \"2020-09-03T13:00:00\", \"2020-09-03T14:00:00\", \"2020-09-03T15:00:00\", \"2020-09-03T21:00:00\", \"2020-09-04T05:00:00\", \"2020-09-04T14:00:00\", \"2020-09-05T21:00:00\", \"2020-09-17T05:00:00\", \"2020-09-17T13:00:00\", \"2020-09-17T14:00:00\", \"2020-09-17T15:00:00\", \"2020-09-17T16:00:00\", \"2020-09-17T17:00:00\", \"2020-09-17T20:00:00\", \"2020-09-17T21:00:00\", \"2020-09-18T09:00:00\", \"2020-09-18T13:00:00\", \"2020-09-18T15:00:00\"], \"xaxis\": \"x\", \"y\": [0.7944333553314209, 0.7910100817680359, 0.7882500290870667, 0.7908833622932434, 0.7926929593086243, 0.791366696357727, 0.7935000061988831, 0.790321409702301, 0.7904941439628601, 0.7910666465759277, 0.7917377352714539, 0.7926041483879089, 0.7958999872207642, 0.7902500033378601, 0.7945833206176758, 0.7924798130989075, 0.7932812571525574, 0.789229154586792, 0.7904666662216187, 0.7897244691848755, 0.7880645394325256, 0.7895916700363159, 0.7910370230674744, 0.7898380756378174, 0.7878645658493042, 0.78980553150177, 0.7879666686058044, 0.7891499996185303], \"yaxis\": \"y\"}, {\"line\": {\"color\": \"#FF5733\"}, \"mode\": \"lines\", \"name\": \"USL \", \"type\": \"scatter\", \"x\": [\"2020-08-29T04:00:00\", \"2020-08-29T13:00:00\", \"2020-08-29T20:00:00\", \"2020-08-29T21:00:00\", \"2020-08-30T04:00:00\", \"2020-08-30T13:00:00\", \"2020-08-30T20:00:00\", \"2020-09-01T12:00:00\", \"2020-09-01T13:00:00\", \"2020-09-03T12:00:00\", \"2020-09-03T13:00:00\", \"2020-09-03T14:00:00\", \"2020-09-03T15:00:00\", \"2020-09-03T21:00:00\", \"2020-09-04T05:00:00\", \"2020-09-04T14:00:00\", \"2020-09-05T21:00:00\", \"2020-09-17T05:00:00\", \"2020-09-17T13:00:00\", \"2020-09-17T14:00:00\", \"2020-09-17T15:00:00\", \"2020-09-17T16:00:00\", \"2020-09-17T17:00:00\", \"2020-09-17T20:00:00\", \"2020-09-17T21:00:00\", \"2020-09-18T09:00:00\", \"2020-09-18T13:00:00\", \"2020-09-18T15:00:00\"], \"xaxis\": \"x\", \"y\": [0.8050000071525574, 0.8050000071525574, 0.8050000071525574, 0.8050000071525574, 0.8050000071525574, 0.8050000071525574, 0.8050000071525574, 0.8050000071525574, 0.8050000071525574, 0.8050000071525574, 0.8050000071525574, 0.8050000071525574, 0.8050000071525574, 0.8050000071525574, 0.8050000071525574, 0.8050000071525574, 0.8050000071525574, 0.8050000071525574, 0.8050000071525574, 0.8050000071525574, 0.8050000071525574, 0.8050000071525574, 0.8050000071525574, 0.8050000071525574, 0.8050000071525574, 0.8050000071525574, 0.8050000071525574, 0.8050000071525574], \"yaxis\": \"y\"}, {\"line\": {\"color\": \"#FF5733\"}, \"mode\": \"lines\", \"name\": \"LSL \", \"type\": \"scatter\", \"x\": [\"2020-08-29T04:00:00\", \"2020-08-29T13:00:00\", \"2020-08-29T20:00:00\", \"2020-08-29T21:00:00\", \"2020-08-30T04:00:00\", \"2020-08-30T13:00:00\", \"2020-08-30T20:00:00\", \"2020-09-01T12:00:00\", \"2020-09-01T13:00:00\", \"2020-09-03T12:00:00\", \"2020-09-03T13:00:00\", \"2020-09-03T14:00:00\", \"2020-09-03T15:00:00\", \"2020-09-03T21:00:00\", \"2020-09-04T05:00:00\", \"2020-09-04T14:00:00\", \"2020-09-05T21:00:00\", \"2020-09-17T05:00:00\", \"2020-09-17T13:00:00\", \"2020-09-17T14:00:00\", \"2020-09-17T15:00:00\", \"2020-09-17T16:00:00\", \"2020-09-17T17:00:00\", \"2020-09-17T20:00:00\", \"2020-09-17T21:00:00\", \"2020-09-18T09:00:00\", \"2020-09-18T13:00:00\", \"2020-09-18T15:00:00\"], \"xaxis\": \"x\", \"y\": [0.7850000262260437, 0.7850000262260437, 0.7850000262260437, 0.7850000262260437, 0.7850000262260437, 0.7850000262260437, 0.7850000262260437, 0.7850000262260437, 0.7850000262260437, 0.7850000262260437, 0.7850000262260437, 0.7850000262260437, 0.7850000262260437, 0.7850000262260437, 0.7850000262260437, 0.7850000262260437, 0.7850000262260437, 0.7850000262260437, 0.7850000262260437, 0.7850000262260437, 0.7850000262260437, 0.7850000262260437, 0.7850000262260437, 0.7850000262260437, 0.7850000262260437, 0.7850000262260437, 0.7850000262260437, 0.7850000262260437], \"yaxis\": \"y\"}, {\"line\": {\"color\": \"#33C2FF\"}, \"mode\": \"lines\", \"name\": \"UCL \", \"type\": \"scatter\", \"x\": [\"2020-08-29T04:00:00\", \"2020-08-29T13:00:00\", \"2020-08-29T20:00:00\", \"2020-08-29T21:00:00\", \"2020-08-30T04:00:00\", \"2020-08-30T13:00:00\", \"2020-08-30T20:00:00\", \"2020-09-01T12:00:00\", \"2020-09-01T13:00:00\", \"2020-09-03T12:00:00\", \"2020-09-03T13:00:00\", \"2020-09-03T14:00:00\", \"2020-09-03T15:00:00\", \"2020-09-03T21:00:00\", \"2020-09-04T05:00:00\", \"2020-09-04T14:00:00\", \"2020-09-05T21:00:00\", \"2020-09-17T05:00:00\", \"2020-09-17T13:00:00\", \"2020-09-17T14:00:00\", \"2020-09-17T15:00:00\", \"2020-09-17T16:00:00\", \"2020-09-17T17:00:00\", \"2020-09-17T20:00:00\", \"2020-09-17T21:00:00\", \"2020-09-18T09:00:00\", \"2020-09-18T13:00:00\", \"2020-09-18T15:00:00\"], \"xaxis\": \"x\", \"y\": [0.8029999732971191, 0.8029999732971191, 0.8029999732971191, 0.8029999732971191, 0.8029999732971191, 0.8029999732971191, 0.8029999732971191, 0.8029999732971191, 0.8029999732971191, 0.8029999732971191, 0.8029999732971191, 0.8029999732971191, 0.8029999732971191, 0.8029999732971191, 0.8029999732971191, 0.8029999732971191, 0.8029999732971191, 0.7979999780654907, 0.7979999780654907, 0.7979999780654907, 0.7979999780654907, 0.7979999780654907, 0.7979999780654907, 0.7979999780654907, 0.7979999780654907, 0.7979999780654907, 0.796999990940094, 0.796999990940094], \"yaxis\": \"y\"}, {\"line\": {\"color\": \"#33C2FF\"}, \"mode\": \"lines\", \"name\": \"LCL \", \"type\": \"scatter\", \"x\": [\"2020-08-29T04:00:00\", \"2020-08-29T13:00:00\", \"2020-08-29T20:00:00\", \"2020-08-29T21:00:00\", \"2020-08-30T04:00:00\", \"2020-08-30T13:00:00\", \"2020-08-30T20:00:00\", \"2020-09-01T12:00:00\", \"2020-09-01T13:00:00\", \"2020-09-03T12:00:00\", \"2020-09-03T13:00:00\", \"2020-09-03T14:00:00\", \"2020-09-03T15:00:00\", \"2020-09-03T21:00:00\", \"2020-09-04T05:00:00\", \"2020-09-04T14:00:00\", \"2020-09-05T21:00:00\", \"2020-09-17T05:00:00\", \"2020-09-17T13:00:00\", \"2020-09-17T14:00:00\", \"2020-09-17T15:00:00\", \"2020-09-17T16:00:00\", \"2020-09-17T17:00:00\", \"2020-09-17T20:00:00\", \"2020-09-17T21:00:00\", \"2020-09-18T09:00:00\", \"2020-09-18T13:00:00\", \"2020-09-18T15:00:00\"], \"xaxis\": \"x\", \"y\": [0.781000018119812, 0.781000018119812, 0.781000018119812, 0.781000018119812, 0.781000018119812, 0.781000018119812, 0.781000018119812, 0.781000018119812, 0.781000018119812, 0.781000018119812, 0.781000018119812, 0.781000018119812, 0.781000018119812, 0.781000018119812, 0.781000018119812, 0.7820000052452087, 0.7820000052452087, 0.781000018119812, 0.781000018119812, 0.781000018119812, 0.781000018119812, 0.781000018119812, 0.781000018119812, 0.781000018119812, 0.781000018119812, 0.781000018119812, 0.7799999713897705, 0.7799999713897705], \"yaxis\": \"y\"}, {\"line\": {\"color\": \"#33C2FF\"}, \"mode\": \"lines\", \"name\": \"Mean \", \"type\": \"scatter\", \"x\": [\"2020-08-29T04:00:00\", \"2020-08-29T13:00:00\", \"2020-08-29T20:00:00\", \"2020-08-29T21:00:00\", \"2020-08-30T04:00:00\", \"2020-08-30T13:00:00\", \"2020-08-30T20:00:00\", \"2020-09-01T12:00:00\", \"2020-09-01T13:00:00\", \"2020-09-03T12:00:00\", \"2020-09-03T13:00:00\", \"2020-09-03T14:00:00\", \"2020-09-03T15:00:00\", \"2020-09-03T21:00:00\", \"2020-09-04T05:00:00\", \"2020-09-04T14:00:00\", \"2020-09-05T21:00:00\", \"2020-09-17T05:00:00\", \"2020-09-17T13:00:00\", \"2020-09-17T14:00:00\", \"2020-09-17T15:00:00\", \"2020-09-17T16:00:00\", \"2020-09-17T17:00:00\", \"2020-09-17T20:00:00\", \"2020-09-17T21:00:00\", \"2020-09-18T09:00:00\", \"2020-09-18T13:00:00\", \"2020-09-18T15:00:00\"], \"xaxis\": \"x\", \"y\": [0.7919999957084656, 0.7919999957084656, 0.7919999957084656, 0.7919999957084656, 0.7919999957084656, 0.7919999957084656, 0.7919999957084656, 0.7919999957084656, 0.7919999957084656, 0.7919999957084656, 0.7919999957084656, 0.7919999957084656, 0.7919999957084656, 0.7919999957084656, 0.7919999957084656, 0.7929999828338623, 0.7929999828338623, 0.7889999747276306, 0.7889999747276306, 0.7889999747276306, 0.7889999747276306, 0.7889999747276306, 0.7889999747276306, 0.7889999747276306, 0.7889999747276306, 0.7889999747276306, 0.7889999747276306, 0.7889999747276306], \"yaxis\": \"y\"}, {\"line\": {\"color\": \"#4280F5\"}, \"mode\": \"lines+markers\", \"name\": \"mean \", \"type\": \"scatter\", \"x\": [\"2020-08-29T04:00:00\", \"2020-08-29T13:00:00\", \"2020-08-29T20:00:00\", \"2020-08-29T21:00:00\", \"2020-08-30T04:00:00\", \"2020-08-30T13:00:00\", \"2020-08-30T20:00:00\", \"2020-09-01T12:00:00\", \"2020-09-01T13:00:00\", \"2020-09-03T12:00:00\", \"2020-09-03T13:00:00\", \"2020-09-03T14:00:00\", \"2020-09-03T15:00:00\", \"2020-09-03T21:00:00\", \"2020-09-04T05:00:00\", \"2020-09-04T14:00:00\", \"2020-09-05T21:00:00\", \"2020-09-17T05:00:00\", \"2020-09-17T13:00:00\", \"2020-09-17T14:00:00\", \"2020-09-17T15:00:00\", \"2020-09-17T16:00:00\", \"2020-09-17T17:00:00\", \"2020-09-17T20:00:00\", \"2020-09-17T21:00:00\", \"2020-09-18T09:00:00\", \"2020-09-18T13:00:00\", \"2020-09-18T15:00:00\"], \"xaxis\": \"x2\", \"y\": [0.7829222083091736, 0.7821767330169678, 0.7793333530426025, 0.7820833325386047, 0.7831754684448242, 0.7817000150680542, 0.7815098166465759, 0.7817500233650208, 0.7823823690414429, 0.781166672706604, 0.782487690448761, 0.7831110954284668, 0.7827666401863098, 0.7820833325386047, 0.784166693687439, 0.7826262712478638, 0.7802500128746033, 0.7816562652587891, 0.7818333506584167, 0.7816734910011292, 0.7804462313652039, 0.7830458283424377, 0.7822407484054565, 0.781161904335022, 0.7816770672798157, 0.7820416688919067, 0.7800666689872742, 0.781333327293396], \"yaxis\": \"y2\"}, {\"line\": {\"color\": \"#FF5733\"}, \"mode\": \"lines\", \"name\": \"USL \", \"type\": \"scatter\", \"x\": [\"2020-08-29T04:00:00\", \"2020-08-29T13:00:00\", \"2020-08-29T20:00:00\", \"2020-08-29T21:00:00\", \"2020-08-30T04:00:00\", \"2020-08-30T13:00:00\", \"2020-08-30T20:00:00\", \"2020-09-01T12:00:00\", \"2020-09-01T13:00:00\", \"2020-09-03T12:00:00\", \"2020-09-03T13:00:00\", \"2020-09-03T14:00:00\", \"2020-09-03T15:00:00\", \"2020-09-03T21:00:00\", \"2020-09-04T05:00:00\", \"2020-09-04T14:00:00\", \"2020-09-05T21:00:00\", \"2020-09-17T05:00:00\", \"2020-09-17T13:00:00\", \"2020-09-17T14:00:00\", \"2020-09-17T15:00:00\", \"2020-09-17T16:00:00\", \"2020-09-17T17:00:00\", \"2020-09-17T20:00:00\", \"2020-09-17T21:00:00\", \"2020-09-18T09:00:00\", \"2020-09-18T13:00:00\", \"2020-09-18T15:00:00\"], \"xaxis\": \"x2\", \"y\": [0.7910000085830688, 0.7910000085830688, 0.7910000085830688, 0.7910000085830688, 0.7910000085830688, 0.7910000085830688, 0.7910000085830688, 0.7910000085830688, 0.7910000085830688, 0.7910000085830688, 0.7910000085830688, 0.7910000085830688, 0.7910000085830688, 0.7910000085830688, 0.7910000085830688, 0.7910000085830688, 0.7910000085830688, 0.7910000085830688, 0.7910000085830688, 0.7910000085830688, 0.7910000085830688, 0.7910000085830688, 0.7910000085830688, 0.7910000085830688, 0.7910000085830688, 0.7910000085830688, 0.7910000085830688, 0.7910000085830688], \"yaxis\": \"y2\"}, {\"line\": {\"color\": \"#FF5733\"}, \"mode\": \"lines\", \"name\": \"LSL \", \"type\": \"scatter\", \"x\": [\"2020-08-29T04:00:00\", \"2020-08-29T13:00:00\", \"2020-08-29T20:00:00\", \"2020-08-29T21:00:00\", \"2020-08-30T04:00:00\", \"2020-08-30T13:00:00\", \"2020-08-30T20:00:00\", \"2020-09-01T12:00:00\", \"2020-09-01T13:00:00\", \"2020-09-03T12:00:00\", \"2020-09-03T13:00:00\", \"2020-09-03T14:00:00\", \"2020-09-03T15:00:00\", \"2020-09-03T21:00:00\", \"2020-09-04T05:00:00\", \"2020-09-04T14:00:00\", \"2020-09-05T21:00:00\", \"2020-09-17T05:00:00\", \"2020-09-17T13:00:00\", \"2020-09-17T14:00:00\", \"2020-09-17T15:00:00\", \"2020-09-17T16:00:00\", \"2020-09-17T17:00:00\", \"2020-09-17T20:00:00\", \"2020-09-17T21:00:00\", \"2020-09-18T09:00:00\", \"2020-09-18T13:00:00\", \"2020-09-18T15:00:00\"], \"xaxis\": \"x2\", \"y\": [0.7749999761581421, 0.7749999761581421, 0.7749999761581421, 0.7749999761581421, 0.7749999761581421, 0.7749999761581421, 0.7749999761581421, 0.7749999761581421, 0.7749999761581421, 0.7749999761581421, 0.7749999761581421, 0.7749999761581421, 0.7749999761581421, 0.7749999761581421, 0.7749999761581421, 0.7749999761581421, 0.7749999761581421, 0.7749999761581421, 0.7749999761581421, 0.7749999761581421, 0.7749999761581421, 0.7749999761581421, 0.7749999761581421, 0.7749999761581421, 0.7749999761581421, 0.7749999761581421, 0.7749999761581421, 0.7749999761581421], \"yaxis\": \"y2\"}, {\"line\": {\"color\": \"#33C2FF\"}, \"mode\": \"lines\", \"name\": \"UCL \", \"type\": \"scatter\", \"x\": [\"2020-08-29T04:00:00\", \"2020-08-29T13:00:00\", \"2020-08-29T20:00:00\", \"2020-08-29T21:00:00\", \"2020-08-30T04:00:00\", \"2020-08-30T13:00:00\", \"2020-08-30T20:00:00\", \"2020-09-01T12:00:00\", \"2020-09-01T13:00:00\", \"2020-09-03T12:00:00\", \"2020-09-03T13:00:00\", \"2020-09-03T14:00:00\", \"2020-09-03T15:00:00\", \"2020-09-03T21:00:00\", \"2020-09-04T05:00:00\", \"2020-09-04T14:00:00\", \"2020-09-05T21:00:00\", \"2020-09-17T05:00:00\", \"2020-09-17T13:00:00\", \"2020-09-17T14:00:00\", \"2020-09-17T15:00:00\", \"2020-09-17T16:00:00\", \"2020-09-17T17:00:00\", \"2020-09-17T20:00:00\", \"2020-09-17T21:00:00\", \"2020-09-18T09:00:00\", \"2020-09-18T13:00:00\", \"2020-09-18T15:00:00\"], \"xaxis\": \"x2\", \"y\": [0.7979999780654907, 0.7979999780654907, 0.7979999780654907, 0.7979999780654907, 0.7979999780654907, 0.7979999780654907, 0.7979999780654907, 0.7979999780654907, 0.7979999780654907, 0.7979999780654907, 0.7979999780654907, 0.7979999780654907, 0.7979999780654907, 0.7979999780654907, 0.7979999780654907, 0.796999990940094, 0.796999990940094, 0.7960000038146973, 0.7960000038146973, 0.7960000038146973, 0.7960000038146973, 0.7960000038146973, 0.7960000038146973, 0.7960000038146973, 0.7960000038146973, 0.7960000038146973, 0.7929999828338623, 0.7929999828338623], \"yaxis\": \"y2\"}, {\"line\": {\"color\": \"#33C2FF\"}, \"mode\": \"lines\", \"name\": \"LCL \", \"type\": \"scatter\", \"x\": [\"2020-08-29T04:00:00\", \"2020-08-29T13:00:00\", \"2020-08-29T20:00:00\", \"2020-08-29T21:00:00\", \"2020-08-30T04:00:00\", \"2020-08-30T13:00:00\", \"2020-08-30T20:00:00\", \"2020-09-01T12:00:00\", \"2020-09-01T13:00:00\", \"2020-09-03T12:00:00\", \"2020-09-03T13:00:00\", \"2020-09-03T14:00:00\", \"2020-09-03T15:00:00\", \"2020-09-03T21:00:00\", \"2020-09-04T05:00:00\", \"2020-09-04T14:00:00\", \"2020-09-05T21:00:00\", \"2020-09-17T05:00:00\", \"2020-09-17T13:00:00\", \"2020-09-17T14:00:00\", \"2020-09-17T15:00:00\", \"2020-09-17T16:00:00\", \"2020-09-17T17:00:00\", \"2020-09-17T20:00:00\", \"2020-09-17T21:00:00\", \"2020-09-18T09:00:00\", \"2020-09-18T13:00:00\", \"2020-09-18T15:00:00\"], \"xaxis\": \"x2\", \"y\": [0.7670000195503235, 0.7670000195503235, 0.7670000195503235, 0.7670000195503235, 0.7670000195503235, 0.7670000195503235, 0.7670000195503235, 0.7670000195503235, 0.7670000195503235, 0.7670000195503235, 0.7670000195503235, 0.7670000195503235, 0.7670000195503235, 0.7670000195503235, 0.7670000195503235, 0.7670000195503235, 0.7670000195503235, 0.7680000066757202, 0.7680000066757202, 0.7680000066757202, 0.7680000066757202, 0.7680000066757202, 0.7680000066757202, 0.7680000066757202, 0.7680000066757202, 0.7680000066757202, 0.7689999938011169, 0.7689999938011169], \"yaxis\": \"y2\"}, {\"line\": {\"color\": \"#33C2FF\"}, \"mode\": \"lines\", \"name\": \"Mean \", \"type\": \"scatter\", \"x\": [\"2020-08-29T04:00:00\", \"2020-08-29T13:00:00\", \"2020-08-29T20:00:00\", \"2020-08-29T21:00:00\", \"2020-08-30T04:00:00\", \"2020-08-30T13:00:00\", \"2020-08-30T20:00:00\", \"2020-09-01T12:00:00\", \"2020-09-01T13:00:00\", \"2020-09-03T12:00:00\", \"2020-09-03T13:00:00\", \"2020-09-03T14:00:00\", \"2020-09-03T15:00:00\", \"2020-09-03T21:00:00\", \"2020-09-04T05:00:00\", \"2020-09-04T14:00:00\", \"2020-09-05T21:00:00\", \"2020-09-17T05:00:00\", \"2020-09-17T13:00:00\", \"2020-09-17T14:00:00\", \"2020-09-17T15:00:00\", \"2020-09-17T16:00:00\", \"2020-09-17T17:00:00\", \"2020-09-17T20:00:00\", \"2020-09-17T21:00:00\", \"2020-09-18T09:00:00\", \"2020-09-18T13:00:00\", \"2020-09-18T15:00:00\"], \"xaxis\": \"x2\", \"y\": [0.7820000052452087, 0.7820000052452087, 0.7820000052452087, 0.7820000052452087, 0.7820000052452087, 0.7820000052452087, 0.7820000052452087, 0.7820000052452087, 0.7820000052452087, 0.7820000052452087, 0.7820000052452087, 0.7820000052452087, 0.7820000052452087, 0.7820000052452087, 0.7820000052452087, 0.7820000052452087, 0.7820000052452087, 0.7820000052452087, 0.7820000052452087, 0.7820000052452087, 0.7820000052452087, 0.7820000052452087, 0.7820000052452087, 0.7820000052452087, 0.7820000052452087, 0.7820000052452087, 0.781000018119812, 0.781000018119812], \"yaxis\": \"y2\"}],\n",
              "                        {\"annotations\": [{\"font\": {\"size\": 16}, \"showarrow\": false, \"text\": \"Dim A Cp: 1.01 Pp: 0.93 Cpk: 0.44 Ppk: 0.4\", \"x\": 0.5, \"xanchor\": \"center\", \"xref\": \"paper\", \"y\": 1.0, \"yanchor\": \"bottom\", \"yref\": \"paper\"}, {\"font\": {\"size\": 16}, \"showarrow\": false, \"text\": \"Dim B Cp: 0.63 Pp: 0.54 Cpk: 0.56 Ppk: 0.49\", \"x\": 0.5, \"xanchor\": \"center\", \"xref\": \"paper\", \"y\": 0.375, \"yanchor\": \"bottom\", \"yref\": \"paper\"}], \"height\": 400, \"template\": {\"data\": {\"bar\": [{\"error_x\": {\"color\": \"#2a3f5f\"}, \"error_y\": {\"color\": \"#2a3f5f\"}, \"marker\": {\"line\": {\"color\": \"#E5ECF6\", \"width\": 0.5}}, \"type\": \"bar\"}], \"barpolar\": [{\"marker\": {\"line\": {\"color\": \"#E5ECF6\", \"width\": 0.5}}, \"type\": \"barpolar\"}], \"carpet\": [{\"aaxis\": {\"endlinecolor\": \"#2a3f5f\", \"gridcolor\": \"white\", \"linecolor\": \"white\", \"minorgridcolor\": \"white\", \"startlinecolor\": \"#2a3f5f\"}, \"baxis\": {\"endlinecolor\": \"#2a3f5f\", \"gridcolor\": \"white\", \"linecolor\": \"white\", \"minorgridcolor\": \"white\", \"startlinecolor\": \"#2a3f5f\"}, \"type\": \"carpet\"}], \"choropleth\": [{\"colorbar\": {\"outlinewidth\": 0, \"ticks\": \"\"}, \"type\": \"choropleth\"}], \"contour\": [{\"colorbar\": {\"outlinewidth\": 0, \"ticks\": \"\"}, \"colorscale\": [[0.0, \"#0d0887\"], [0.1111111111111111, \"#46039f\"], [0.2222222222222222, \"#7201a8\"], [0.3333333333333333, \"#9c179e\"], [0.4444444444444444, \"#bd3786\"], [0.5555555555555556, \"#d8576b\"], [0.6666666666666666, \"#ed7953\"], [0.7777777777777778, \"#fb9f3a\"], [0.8888888888888888, \"#fdca26\"], [1.0, \"#f0f921\"]], \"type\": \"contour\"}], \"contourcarpet\": [{\"colorbar\": {\"outlinewidth\": 0, \"ticks\": \"\"}, \"type\": \"contourcarpet\"}], \"heatmap\": [{\"colorbar\": {\"outlinewidth\": 0, \"ticks\": \"\"}, \"colorscale\": [[0.0, \"#0d0887\"], [0.1111111111111111, \"#46039f\"], [0.2222222222222222, \"#7201a8\"], [0.3333333333333333, \"#9c179e\"], [0.4444444444444444, \"#bd3786\"], [0.5555555555555556, \"#d8576b\"], [0.6666666666666666, \"#ed7953\"], [0.7777777777777778, \"#fb9f3a\"], [0.8888888888888888, \"#fdca26\"], [1.0, \"#f0f921\"]], \"type\": \"heatmap\"}], \"heatmapgl\": [{\"colorbar\": {\"outlinewidth\": 0, \"ticks\": \"\"}, \"colorscale\": [[0.0, \"#0d0887\"], [0.1111111111111111, \"#46039f\"], [0.2222222222222222, \"#7201a8\"], [0.3333333333333333, \"#9c179e\"], [0.4444444444444444, \"#bd3786\"], [0.5555555555555556, \"#d8576b\"], [0.6666666666666666, \"#ed7953\"], [0.7777777777777778, \"#fb9f3a\"], [0.8888888888888888, \"#fdca26\"], [1.0, \"#f0f921\"]], \"type\": \"heatmapgl\"}], \"histogram\": [{\"marker\": {\"colorbar\": {\"outlinewidth\": 0, \"ticks\": \"\"}}, \"type\": \"histogram\"}], \"histogram2d\": [{\"colorbar\": {\"outlinewidth\": 0, \"ticks\": \"\"}, \"colorscale\": [[0.0, \"#0d0887\"], [0.1111111111111111, \"#46039f\"], [0.2222222222222222, \"#7201a8\"], [0.3333333333333333, \"#9c179e\"], [0.4444444444444444, \"#bd3786\"], [0.5555555555555556, \"#d8576b\"], [0.6666666666666666, \"#ed7953\"], [0.7777777777777778, \"#fb9f3a\"], [0.8888888888888888, \"#fdca26\"], [1.0, \"#f0f921\"]], \"type\": \"histogram2d\"}], \"histogram2dcontour\": [{\"colorbar\": {\"outlinewidth\": 0, \"ticks\": \"\"}, \"colorscale\": [[0.0, \"#0d0887\"], [0.1111111111111111, \"#46039f\"], [0.2222222222222222, \"#7201a8\"], [0.3333333333333333, \"#9c179e\"], [0.4444444444444444, \"#bd3786\"], [0.5555555555555556, \"#d8576b\"], [0.6666666666666666, \"#ed7953\"], [0.7777777777777778, \"#fb9f3a\"], [0.8888888888888888, \"#fdca26\"], [1.0, \"#f0f921\"]], \"type\": \"histogram2dcontour\"}], \"mesh3d\": [{\"colorbar\": {\"outlinewidth\": 0, \"ticks\": \"\"}, \"type\": \"mesh3d\"}], \"parcoords\": [{\"line\": {\"colorbar\": {\"outlinewidth\": 0, \"ticks\": \"\"}}, \"type\": \"parcoords\"}], \"pie\": [{\"automargin\": true, \"type\": \"pie\"}], \"scatter\": [{\"marker\": {\"colorbar\": {\"outlinewidth\": 0, \"ticks\": \"\"}}, \"type\": \"scatter\"}], \"scatter3d\": [{\"line\": {\"colorbar\": {\"outlinewidth\": 0, \"ticks\": \"\"}}, \"marker\": {\"colorbar\": {\"outlinewidth\": 0, \"ticks\": \"\"}}, \"type\": \"scatter3d\"}], \"scattercarpet\": [{\"marker\": {\"colorbar\": {\"outlinewidth\": 0, \"ticks\": \"\"}}, \"type\": \"scattercarpet\"}], \"scattergeo\": [{\"marker\": {\"colorbar\": {\"outlinewidth\": 0, \"ticks\": \"\"}}, \"type\": \"scattergeo\"}], \"scattergl\": [{\"marker\": {\"colorbar\": {\"outlinewidth\": 0, \"ticks\": \"\"}}, \"type\": \"scattergl\"}], \"scattermapbox\": [{\"marker\": {\"colorbar\": {\"outlinewidth\": 0, \"ticks\": \"\"}}, \"type\": \"scattermapbox\"}], \"scatterpolar\": [{\"marker\": {\"colorbar\": {\"outlinewidth\": 0, \"ticks\": \"\"}}, \"type\": \"scatterpolar\"}], \"scatterpolargl\": [{\"marker\": {\"colorbar\": {\"outlinewidth\": 0, \"ticks\": \"\"}}, \"type\": \"scatterpolargl\"}], \"scatterternary\": [{\"marker\": {\"colorbar\": {\"outlinewidth\": 0, \"ticks\": \"\"}}, \"type\": \"scatterternary\"}], \"surface\": [{\"colorbar\": {\"outlinewidth\": 0, \"ticks\": \"\"}, \"colorscale\": [[0.0, \"#0d0887\"], [0.1111111111111111, \"#46039f\"], [0.2222222222222222, \"#7201a8\"], [0.3333333333333333, \"#9c179e\"], [0.4444444444444444, \"#bd3786\"], [0.5555555555555556, \"#d8576b\"], [0.6666666666666666, \"#ed7953\"], [0.7777777777777778, \"#fb9f3a\"], [0.8888888888888888, \"#fdca26\"], [1.0, \"#f0f921\"]], \"type\": \"surface\"}], \"table\": [{\"cells\": {\"fill\": {\"color\": \"#EBF0F8\"}, \"line\": {\"color\": \"white\"}}, \"header\": {\"fill\": {\"color\": \"#C8D4E3\"}, \"line\": {\"color\": \"white\"}}, \"type\": \"table\"}]}, \"layout\": {\"annotationdefaults\": {\"arrowcolor\": \"#2a3f5f\", \"arrowhead\": 0, \"arrowwidth\": 1}, \"coloraxis\": {\"colorbar\": {\"outlinewidth\": 0, \"ticks\": \"\"}}, \"colorscale\": {\"diverging\": [[0, \"#8e0152\"], [0.1, \"#c51b7d\"], [0.2, \"#de77ae\"], [0.3, \"#f1b6da\"], [0.4, \"#fde0ef\"], [0.5, \"#f7f7f7\"], [0.6, \"#e6f5d0\"], [0.7, \"#b8e186\"], [0.8, \"#7fbc41\"], [0.9, \"#4d9221\"], [1, \"#276419\"]], \"sequential\": [[0.0, \"#0d0887\"], [0.1111111111111111, \"#46039f\"], [0.2222222222222222, \"#7201a8\"], [0.3333333333333333, \"#9c179e\"], [0.4444444444444444, \"#bd3786\"], [0.5555555555555556, \"#d8576b\"], [0.6666666666666666, \"#ed7953\"], [0.7777777777777778, \"#fb9f3a\"], [0.8888888888888888, \"#fdca26\"], [1.0, \"#f0f921\"]], \"sequentialminus\": [[0.0, \"#0d0887\"], [0.1111111111111111, \"#46039f\"], [0.2222222222222222, \"#7201a8\"], [0.3333333333333333, \"#9c179e\"], [0.4444444444444444, \"#bd3786\"], [0.5555555555555556, \"#d8576b\"], [0.6666666666666666, \"#ed7953\"], [0.7777777777777778, \"#fb9f3a\"], [0.8888888888888888, \"#fdca26\"], [1.0, \"#f0f921\"]]}, \"colorway\": [\"#636efa\", \"#EF553B\", \"#00cc96\", \"#ab63fa\", \"#FFA15A\", \"#19d3f3\", \"#FF6692\", \"#B6E880\", \"#FF97FF\", \"#FECB52\"], \"font\": {\"color\": \"#2a3f5f\"}, \"geo\": {\"bgcolor\": \"white\", \"lakecolor\": \"white\", \"landcolor\": \"#E5ECF6\", \"showlakes\": true, \"showland\": true, \"subunitcolor\": \"white\"}, \"hoverlabel\": {\"align\": \"left\"}, \"hovermode\": \"closest\", \"mapbox\": {\"style\": \"light\"}, \"paper_bgcolor\": \"white\", \"plot_bgcolor\": \"#E5ECF6\", \"polar\": {\"angularaxis\": {\"gridcolor\": \"white\", \"linecolor\": \"white\", \"ticks\": \"\"}, \"bgcolor\": \"#E5ECF6\", \"radialaxis\": {\"gridcolor\": \"white\", \"linecolor\": \"white\", \"ticks\": \"\"}}, \"scene\": {\"xaxis\": {\"backgroundcolor\": \"#E5ECF6\", \"gridcolor\": \"white\", \"gridwidth\": 2, \"linecolor\": \"white\", \"showbackground\": true, \"ticks\": \"\", \"zerolinecolor\": \"white\"}, \"yaxis\": {\"backgroundcolor\": \"#E5ECF6\", \"gridcolor\": \"white\", \"gridwidth\": 2, \"linecolor\": \"white\", \"showbackground\": true, \"ticks\": \"\", \"zerolinecolor\": \"white\"}, \"zaxis\": {\"backgroundcolor\": \"#E5ECF6\", \"gridcolor\": \"white\", \"gridwidth\": 2, \"linecolor\": \"white\", \"showbackground\": true, \"ticks\": \"\", \"zerolinecolor\": \"white\"}}, \"shapedefaults\": {\"line\": {\"color\": \"#2a3f5f\"}}, \"ternary\": {\"aaxis\": {\"gridcolor\": \"white\", \"linecolor\": \"white\", \"ticks\": \"\"}, \"baxis\": {\"gridcolor\": \"white\", \"linecolor\": \"white\", \"ticks\": \"\"}, \"bgcolor\": \"#E5ECF6\", \"caxis\": {\"gridcolor\": \"white\", \"linecolor\": \"white\", \"ticks\": \"\"}}, \"title\": {\"x\": 0.05}, \"xaxis\": {\"automargin\": true, \"gridcolor\": \"white\", \"linecolor\": \"white\", \"ticks\": \"\", \"title\": {\"standoff\": 15}, \"zerolinecolor\": \"white\", \"zerolinewidth\": 2}, \"yaxis\": {\"automargin\": true, \"gridcolor\": \"white\", \"linecolor\": \"white\", \"ticks\": \"\", \"title\": {\"standoff\": 15}, \"zerolinecolor\": \"white\", \"zerolinewidth\": 2}}}, \"title\": {\"text\": \"Process: 26725-Adjust Armature\"}, \"width\": 1200, \"xaxis\": {\"anchor\": \"y\", \"domain\": [0.0, 1.0]}, \"xaxis2\": {\"anchor\": \"y2\", \"domain\": [0.0, 1.0]}, \"yaxis\": {\"anchor\": \"x\", \"domain\": [0.625, 1.0]}, \"yaxis2\": {\"anchor\": \"x2\", \"domain\": [0.0, 0.375]}},\n",
              "                        {\"responsive\": true}\n",
              "                    ).then(function(){\n",
              "                            \n",
              "var gd = document.getElementById('5f5a3539-3225-4d12-8615-88b59422e4df');\n",
              "var x = new MutationObserver(function (mutations, observer) {{\n",
              "        var display = window.getComputedStyle(gd).display;\n",
              "        if (!display || display === 'none') {{\n",
              "            console.log([gd, 'removed!']);\n",
              "            Plotly.purge(gd);\n",
              "            observer.disconnect();\n",
              "        }}\n",
              "}});\n",
              "\n",
              "// Listen for the removal of the full notebook cells\n",
              "var notebookContainer = gd.closest('#notebook-container');\n",
              "if (notebookContainer) {{\n",
              "    x.observe(notebookContainer, {childList: true});\n",
              "}}\n",
              "\n",
              "// Listen for the clearing of the current output cell\n",
              "var outputEl = gd.closest('.output');\n",
              "if (outputEl) {{\n",
              "    x.observe(outputEl, {childList: true});\n",
              "}}\n",
              "\n",
              "                        })\n",
              "                };\n",
              "                \n",
              "            </script>\n",
              "        </div>\n",
              "</body>\n",
              "</html>"
            ]
          },
          "metadata": {
            "tags": []
          }
        },
        {
          "output_type": "display_data",
          "data": {
            "text/html": [
              "<html>\n",
              "<head><meta charset=\"utf-8\" /></head>\n",
              "<body>\n",
              "    <div>\n",
              "            <script src=\"https://cdnjs.cloudflare.com/ajax/libs/mathjax/2.7.5/MathJax.js?config=TeX-AMS-MML_SVG\"></script><script type=\"text/javascript\">if (window.MathJax) {MathJax.Hub.Config({SVG: {font: \"STIX-Web\"}});}</script>\n",
              "                <script type=\"text/javascript\">window.PlotlyConfig = {MathJaxConfig: 'local'};</script>\n",
              "        <script src=\"https://cdn.plot.ly/plotly-latest.min.js\"></script>    \n",
              "            <div id=\"45bb894b-cdcc-4dc9-b9f7-c02765c7fa09\" class=\"plotly-graph-div\" style=\"height:300px; width:1200px;\"></div>\n",
              "            <script type=\"text/javascript\">\n",
              "                \n",
              "                    window.PLOTLYENV=window.PLOTLYENV || {};\n",
              "                    \n",
              "                if (document.getElementById(\"45bb894b-cdcc-4dc9-b9f7-c02765c7fa09\")) {\n",
              "                    Plotly.newPlot(\n",
              "                        '45bb894b-cdcc-4dc9-b9f7-c02765c7fa09',\n",
              "                        [{\"line\": {\"color\": \"#4280F5\"}, \"mode\": \"lines+markers\", \"name\": \"mean \", \"type\": \"scatter\", \"x\": [\"2020-08-29T03:00:00\", \"2020-08-29T20:00:00\", \"2020-08-29T21:00:00\", \"2020-08-30T04:00:00\", \"2020-08-30T12:00:00\", \"2020-08-30T13:00:00\", \"2020-08-30T21:00:00\", \"2020-09-01T13:00:00\", \"2020-09-01T20:00:00\", \"2020-09-01T21:00:00\", \"2020-09-03T11:00:00\", \"2020-09-03T12:00:00\", \"2020-09-03T13:00:00\", \"2020-09-03T14:00:00\", \"2020-09-04T13:00:00\", \"2020-09-04T14:00:00\", \"2020-09-04T15:00:00\", \"2020-09-05T05:00:00\", \"2020-09-05T16:00:00\", \"2020-09-06T05:00:00\", \"2020-09-14T13:00:00\", \"2020-09-15T10:00:00\", \"2020-09-15T11:00:00\", \"2020-09-15T12:00:00\", \"2020-09-15T13:00:00\", \"2020-09-16T04:00:00\", \"2020-09-16T05:00:00\", \"2020-09-16T10:00:00\", \"2020-09-16T20:00:00\", \"2020-09-16T21:00:00\", \"2020-09-17T10:00:00\", \"2020-09-17T11:00:00\", \"2020-09-17T21:00:00\", \"2020-09-18T04:00:00\", \"2020-09-18T09:00:00\", \"2020-09-18T10:00:00\", \"2020-09-18T15:00:00\", \"2020-09-18T16:00:00\"], \"xaxis\": \"x\", \"y\": [0.793386697769165, 0.793289303779602, 0.7961333394050598, 0.791857123374939, 0.7858499884605408, 0.7861000299453735, 0.7892416715621948, 0.7880125045776367, 0.7892000079154968, 0.7896149754524231, 0.7892818450927734, 0.789603590965271, 0.7891466617584229, 0.7907187342643738, 0.7896333336830139, 0.7877399921417236, 0.7860684394836426, 0.7881003618240356, 0.7897260785102844, 0.7894460558891296, 0.7867529392242432, 0.7885154485702515, 0.7900962233543396, 0.7886549234390259, 0.7866884469985962, 0.7900833487510681, 0.790009081363678, 0.7882646918296814, 0.7827762365341187, 0.7885966300964355, 0.7820112109184265, 0.7873225808143616, 0.7851999998092651, 0.792888879776001, 0.7940999865531921, 0.7944312691688538, 0.7886852025985718, 0.7924705743789673], \"yaxis\": \"y\"}, {\"line\": {\"color\": \"#FF5733\"}, \"mode\": \"lines\", \"name\": \"USL \", \"type\": \"scatter\", \"x\": [\"2020-08-29T03:00:00\", \"2020-08-29T20:00:00\", \"2020-08-29T21:00:00\", \"2020-08-30T04:00:00\", \"2020-08-30T12:00:00\", \"2020-08-30T13:00:00\", \"2020-08-30T21:00:00\", \"2020-09-01T13:00:00\", \"2020-09-01T20:00:00\", \"2020-09-01T21:00:00\", \"2020-09-03T11:00:00\", \"2020-09-03T12:00:00\", \"2020-09-03T13:00:00\", \"2020-09-03T14:00:00\", \"2020-09-04T13:00:00\", \"2020-09-04T14:00:00\", \"2020-09-04T15:00:00\", \"2020-09-05T05:00:00\", \"2020-09-05T16:00:00\", \"2020-09-06T05:00:00\", \"2020-09-14T13:00:00\", \"2020-09-15T10:00:00\", \"2020-09-15T11:00:00\", \"2020-09-15T12:00:00\", \"2020-09-15T13:00:00\", \"2020-09-16T04:00:00\", \"2020-09-16T05:00:00\", \"2020-09-16T10:00:00\", \"2020-09-16T20:00:00\", \"2020-09-16T21:00:00\", \"2020-09-17T10:00:00\", \"2020-09-17T11:00:00\", \"2020-09-17T21:00:00\", \"2020-09-18T04:00:00\", \"2020-09-18T09:00:00\", \"2020-09-18T10:00:00\", \"2020-09-18T15:00:00\", \"2020-09-18T16:00:00\"], \"xaxis\": \"x\", \"y\": [0.800000011920929, 0.800000011920929, 0.800000011920929, 0.800000011920929, 0.800000011920929, 0.800000011920929, 0.800000011920929, 0.800000011920929, 0.800000011920929, 0.800000011920929, 0.800000011920929, 0.800000011920929, 0.800000011920929, 0.800000011920929, 0.800000011920929, 0.800000011920929, 0.800000011920929, 0.800000011920929, 0.800000011920929, 0.800000011920929, 0.800000011920929, 0.800000011920929, 0.800000011920929, 0.800000011920929, 0.800000011920929, 0.800000011920929, 0.800000011920929, 0.800000011920929, 0.800000011920929, 0.800000011920929, 0.800000011920929, 0.800000011920929, 0.800000011920929, 0.800000011920929, 0.800000011920929, 0.800000011920929, 0.800000011920929, 0.800000011920929], \"yaxis\": \"y\"}, {\"line\": {\"color\": \"#FF5733\"}, \"mode\": \"lines\", \"name\": \"LSL \", \"type\": \"scatter\", \"x\": [\"2020-08-29T03:00:00\", \"2020-08-29T20:00:00\", \"2020-08-29T21:00:00\", \"2020-08-30T04:00:00\", \"2020-08-30T12:00:00\", \"2020-08-30T13:00:00\", \"2020-08-30T21:00:00\", \"2020-09-01T13:00:00\", \"2020-09-01T20:00:00\", \"2020-09-01T21:00:00\", \"2020-09-03T11:00:00\", \"2020-09-03T12:00:00\", \"2020-09-03T13:00:00\", \"2020-09-03T14:00:00\", \"2020-09-04T13:00:00\", \"2020-09-04T14:00:00\", \"2020-09-04T15:00:00\", \"2020-09-05T05:00:00\", \"2020-09-05T16:00:00\", \"2020-09-06T05:00:00\", \"2020-09-14T13:00:00\", \"2020-09-15T10:00:00\", \"2020-09-15T11:00:00\", \"2020-09-15T12:00:00\", \"2020-09-15T13:00:00\", \"2020-09-16T04:00:00\", \"2020-09-16T05:00:00\", \"2020-09-16T10:00:00\", \"2020-09-16T20:00:00\", \"2020-09-16T21:00:00\", \"2020-09-17T10:00:00\", \"2020-09-17T11:00:00\", \"2020-09-17T21:00:00\", \"2020-09-18T04:00:00\", \"2020-09-18T09:00:00\", \"2020-09-18T10:00:00\", \"2020-09-18T15:00:00\", \"2020-09-18T16:00:00\"], \"xaxis\": \"x\", \"y\": [0.7699999809265137, 0.7699999809265137, 0.7699999809265137, 0.7699999809265137, 0.7699999809265137, 0.7699999809265137, 0.7699999809265137, 0.7699999809265137, 0.7699999809265137, 0.7699999809265137, 0.7699999809265137, 0.7699999809265137, 0.7699999809265137, 0.7699999809265137, 0.7699999809265137, 0.7699999809265137, 0.7699999809265137, 0.7699999809265137, 0.7699999809265137, 0.7699999809265137, 0.7699999809265137, 0.7699999809265137, 0.7699999809265137, 0.7699999809265137, 0.7699999809265137, 0.7699999809265137, 0.7699999809265137, 0.7699999809265137, 0.7699999809265137, 0.7699999809265137, 0.7699999809265137, 0.7699999809265137, 0.7699999809265137, 0.7699999809265137, 0.7699999809265137, 0.7699999809265137, 0.7699999809265137, 0.7699999809265137], \"yaxis\": \"y\"}, {\"line\": {\"color\": \"#33C2FF\"}, \"mode\": \"lines\", \"name\": \"UCL \", \"type\": \"scatter\", \"x\": [\"2020-08-29T03:00:00\", \"2020-08-29T20:00:00\", \"2020-08-29T21:00:00\", \"2020-08-30T04:00:00\", \"2020-08-30T12:00:00\", \"2020-08-30T13:00:00\", \"2020-08-30T21:00:00\", \"2020-09-01T13:00:00\", \"2020-09-01T20:00:00\", \"2020-09-01T21:00:00\", \"2020-09-03T11:00:00\", \"2020-09-03T12:00:00\", \"2020-09-03T13:00:00\", \"2020-09-03T14:00:00\", \"2020-09-04T13:00:00\", \"2020-09-04T14:00:00\", \"2020-09-04T15:00:00\", \"2020-09-05T05:00:00\", \"2020-09-05T16:00:00\", \"2020-09-06T05:00:00\", \"2020-09-14T13:00:00\", \"2020-09-15T10:00:00\", \"2020-09-15T11:00:00\", \"2020-09-15T12:00:00\", \"2020-09-15T13:00:00\", \"2020-09-16T04:00:00\", \"2020-09-16T05:00:00\", \"2020-09-16T10:00:00\", \"2020-09-16T20:00:00\", \"2020-09-16T21:00:00\", \"2020-09-17T10:00:00\", \"2020-09-17T11:00:00\", \"2020-09-17T21:00:00\", \"2020-09-18T04:00:00\", \"2020-09-18T09:00:00\", \"2020-09-18T10:00:00\", \"2020-09-18T15:00:00\", \"2020-09-18T16:00:00\"], \"xaxis\": \"x\", \"y\": [0.8450000286102295, 0.8450000286102295, 0.8450000286102295, 0.8450000286102295, 0.8450000286102295, 0.8450000286102295, 0.8450000286102295, 0.8450000286102295, 0.8450000286102295, 0.8450000286102295, 0.8450000286102295, 0.8450000286102295, 0.8450000286102295, 0.8450000286102295, 0.8199999928474426, 0.8199999928474426, 0.8199999928474426, 0.8199999928474426, 0.8199999928474426, 0.8199999928474426, 0.8199999928474426, 0.8199999928474426, 0.8199999928474426, 0.8199999928474426, 0.8199999928474426, 0.8199999928474426, 0.8199999928474426, 0.8199999928474426, 0.8199999928474426, 0.8199999928474426, 0.8199999928474426, 0.8199999928474426, 0.8199999928474426, 0.8199999928474426, 0.8199999928474426, 0.820812463760376, 0.8209999799728394, 0.8209999799728394], \"yaxis\": \"y\"}, {\"line\": {\"color\": \"#33C2FF\"}, \"mode\": \"lines\", \"name\": \"LCL \", \"type\": \"scatter\", \"x\": [\"2020-08-29T03:00:00\", \"2020-08-29T20:00:00\", \"2020-08-29T21:00:00\", \"2020-08-30T04:00:00\", \"2020-08-30T12:00:00\", \"2020-08-30T13:00:00\", \"2020-08-30T21:00:00\", \"2020-09-01T13:00:00\", \"2020-09-01T20:00:00\", \"2020-09-01T21:00:00\", \"2020-09-03T11:00:00\", \"2020-09-03T12:00:00\", \"2020-09-03T13:00:00\", \"2020-09-03T14:00:00\", \"2020-09-04T13:00:00\", \"2020-09-04T14:00:00\", \"2020-09-04T15:00:00\", \"2020-09-05T05:00:00\", \"2020-09-05T16:00:00\", \"2020-09-06T05:00:00\", \"2020-09-14T13:00:00\", \"2020-09-15T10:00:00\", \"2020-09-15T11:00:00\", \"2020-09-15T12:00:00\", \"2020-09-15T13:00:00\", \"2020-09-16T04:00:00\", \"2020-09-16T05:00:00\", \"2020-09-16T10:00:00\", \"2020-09-16T20:00:00\", \"2020-09-16T21:00:00\", \"2020-09-17T10:00:00\", \"2020-09-17T11:00:00\", \"2020-09-17T21:00:00\", \"2020-09-18T04:00:00\", \"2020-09-18T09:00:00\", \"2020-09-18T10:00:00\", \"2020-09-18T15:00:00\", \"2020-09-18T16:00:00\"], \"xaxis\": \"x\", \"y\": [0.7350000143051147, 0.7350000143051147, 0.7350000143051147, 0.7350000143051147, 0.7350000143051147, 0.7350000143051147, 0.7350000143051147, 0.7350000143051147, 0.7350000143051147, 0.7350000143051147, 0.7350000143051147, 0.7350000143051147, 0.7350000143051147, 0.7350000143051147, 0.7570000290870667, 0.7570000290870667, 0.7570000290870667, 0.7570000290870667, 0.7570000290870667, 0.7570000290870667, 0.7570000290870667, 0.7570000290870667, 0.7570000290870667, 0.7570000290870667, 0.7570000290870667, 0.7570000290870667, 0.7570000290870667, 0.7570000290870667, 0.7570000290870667, 0.7570000290870667, 0.7570000290870667, 0.7570000290870667, 0.7570000290870667, 0.7570000290870667, 0.7570000290870667, 0.7634999752044678, 0.7649999856948853, 0.7649999856948853], \"yaxis\": \"y\"}, {\"line\": {\"color\": \"#33C2FF\"}, \"mode\": \"lines\", \"name\": \"Mean \", \"type\": \"scatter\", \"x\": [\"2020-08-29T03:00:00\", \"2020-08-29T20:00:00\", \"2020-08-29T21:00:00\", \"2020-08-30T04:00:00\", \"2020-08-30T12:00:00\", \"2020-08-30T13:00:00\", \"2020-08-30T21:00:00\", \"2020-09-01T13:00:00\", \"2020-09-01T20:00:00\", \"2020-09-01T21:00:00\", \"2020-09-03T11:00:00\", \"2020-09-03T12:00:00\", \"2020-09-03T13:00:00\", \"2020-09-03T14:00:00\", \"2020-09-04T13:00:00\", \"2020-09-04T14:00:00\", \"2020-09-04T15:00:00\", \"2020-09-05T05:00:00\", \"2020-09-05T16:00:00\", \"2020-09-06T05:00:00\", \"2020-09-14T13:00:00\", \"2020-09-15T10:00:00\", \"2020-09-15T11:00:00\", \"2020-09-15T12:00:00\", \"2020-09-15T13:00:00\", \"2020-09-16T04:00:00\", \"2020-09-16T05:00:00\", \"2020-09-16T10:00:00\", \"2020-09-16T20:00:00\", \"2020-09-16T21:00:00\", \"2020-09-17T10:00:00\", \"2020-09-17T11:00:00\", \"2020-09-17T21:00:00\", \"2020-09-18T04:00:00\", \"2020-09-18T09:00:00\", \"2020-09-18T10:00:00\", \"2020-09-18T15:00:00\", \"2020-09-18T16:00:00\"], \"xaxis\": \"x\", \"y\": [0.7900000214576721, 0.7900000214576721, 0.7900000214576721, 0.7900000214576721, 0.7900000214576721, 0.7900000214576721, 0.7900000214576721, 0.7900000214576721, 0.7900000214576721, 0.7900000214576721, 0.7900000214576721, 0.7900000214576721, 0.7900000214576721, 0.7900000214576721, 0.7889999747276306, 0.7889999747276306, 0.7889999747276306, 0.7889999747276306, 0.7889999747276306, 0.7889999747276306, 0.7889999747276306, 0.7889999747276306, 0.7889999747276306, 0.7889999747276306, 0.7889999747276306, 0.7889999747276306, 0.7889999747276306, 0.7889999747276306, 0.7889999747276306, 0.7889999747276306, 0.7889999747276306, 0.7889999747276306, 0.7889999747276306, 0.7889999747276306, 0.7889999747276306, 0.7922499775886536, 0.7929999828338623, 0.7929999828338623], \"yaxis\": \"y\"}],\n",
              "                        {\"annotations\": [{\"font\": {\"size\": 16}, \"showarrow\": false, \"text\": \"Dim B Cp: 0.27 Pp: 0.37 Cpk: 0.11 Ppk: 0.15\", \"x\": 0.5, \"xanchor\": \"center\", \"xref\": \"paper\", \"y\": 1.0, \"yanchor\": \"bottom\", \"yref\": \"paper\"}], \"height\": 300, \"template\": {\"data\": {\"bar\": [{\"error_x\": {\"color\": \"#2a3f5f\"}, \"error_y\": {\"color\": \"#2a3f5f\"}, \"marker\": {\"line\": {\"color\": \"#E5ECF6\", \"width\": 0.5}}, \"type\": \"bar\"}], \"barpolar\": [{\"marker\": {\"line\": {\"color\": \"#E5ECF6\", \"width\": 0.5}}, \"type\": \"barpolar\"}], \"carpet\": [{\"aaxis\": {\"endlinecolor\": \"#2a3f5f\", \"gridcolor\": \"white\", \"linecolor\": \"white\", \"minorgridcolor\": \"white\", \"startlinecolor\": \"#2a3f5f\"}, \"baxis\": {\"endlinecolor\": \"#2a3f5f\", \"gridcolor\": \"white\", \"linecolor\": \"white\", \"minorgridcolor\": \"white\", \"startlinecolor\": \"#2a3f5f\"}, \"type\": \"carpet\"}], \"choropleth\": [{\"colorbar\": {\"outlinewidth\": 0, \"ticks\": \"\"}, \"type\": \"choropleth\"}], \"contour\": [{\"colorbar\": {\"outlinewidth\": 0, \"ticks\": \"\"}, \"colorscale\": [[0.0, \"#0d0887\"], [0.1111111111111111, \"#46039f\"], [0.2222222222222222, \"#7201a8\"], [0.3333333333333333, \"#9c179e\"], [0.4444444444444444, \"#bd3786\"], [0.5555555555555556, \"#d8576b\"], [0.6666666666666666, \"#ed7953\"], [0.7777777777777778, \"#fb9f3a\"], [0.8888888888888888, \"#fdca26\"], [1.0, \"#f0f921\"]], \"type\": \"contour\"}], \"contourcarpet\": [{\"colorbar\": {\"outlinewidth\": 0, \"ticks\": \"\"}, \"type\": \"contourcarpet\"}], \"heatmap\": [{\"colorbar\": {\"outlinewidth\": 0, \"ticks\": \"\"}, \"colorscale\": [[0.0, \"#0d0887\"], [0.1111111111111111, \"#46039f\"], [0.2222222222222222, \"#7201a8\"], [0.3333333333333333, \"#9c179e\"], [0.4444444444444444, \"#bd3786\"], [0.5555555555555556, \"#d8576b\"], [0.6666666666666666, \"#ed7953\"], [0.7777777777777778, \"#fb9f3a\"], [0.8888888888888888, \"#fdca26\"], [1.0, \"#f0f921\"]], \"type\": \"heatmap\"}], \"heatmapgl\": [{\"colorbar\": {\"outlinewidth\": 0, \"ticks\": \"\"}, \"colorscale\": [[0.0, \"#0d0887\"], [0.1111111111111111, \"#46039f\"], [0.2222222222222222, \"#7201a8\"], [0.3333333333333333, \"#9c179e\"], [0.4444444444444444, \"#bd3786\"], [0.5555555555555556, \"#d8576b\"], [0.6666666666666666, \"#ed7953\"], [0.7777777777777778, \"#fb9f3a\"], [0.8888888888888888, \"#fdca26\"], [1.0, \"#f0f921\"]], \"type\": \"heatmapgl\"}], \"histogram\": [{\"marker\": {\"colorbar\": {\"outlinewidth\": 0, \"ticks\": \"\"}}, \"type\": \"histogram\"}], \"histogram2d\": [{\"colorbar\": {\"outlinewidth\": 0, \"ticks\": \"\"}, \"colorscale\": [[0.0, \"#0d0887\"], [0.1111111111111111, \"#46039f\"], [0.2222222222222222, \"#7201a8\"], [0.3333333333333333, \"#9c179e\"], [0.4444444444444444, \"#bd3786\"], [0.5555555555555556, \"#d8576b\"], [0.6666666666666666, \"#ed7953\"], [0.7777777777777778, \"#fb9f3a\"], [0.8888888888888888, \"#fdca26\"], [1.0, \"#f0f921\"]], \"type\": \"histogram2d\"}], \"histogram2dcontour\": [{\"colorbar\": {\"outlinewidth\": 0, \"ticks\": \"\"}, \"colorscale\": [[0.0, \"#0d0887\"], [0.1111111111111111, \"#46039f\"], [0.2222222222222222, \"#7201a8\"], [0.3333333333333333, \"#9c179e\"], [0.4444444444444444, \"#bd3786\"], [0.5555555555555556, \"#d8576b\"], [0.6666666666666666, \"#ed7953\"], [0.7777777777777778, \"#fb9f3a\"], [0.8888888888888888, \"#fdca26\"], [1.0, \"#f0f921\"]], \"type\": \"histogram2dcontour\"}], \"mesh3d\": [{\"colorbar\": {\"outlinewidth\": 0, \"ticks\": \"\"}, \"type\": \"mesh3d\"}], \"parcoords\": [{\"line\": {\"colorbar\": {\"outlinewidth\": 0, \"ticks\": \"\"}}, \"type\": \"parcoords\"}], \"pie\": [{\"automargin\": true, \"type\": \"pie\"}], \"scatter\": [{\"marker\": {\"colorbar\": {\"outlinewidth\": 0, \"ticks\": \"\"}}, \"type\": \"scatter\"}], \"scatter3d\": [{\"line\": {\"colorbar\": {\"outlinewidth\": 0, \"ticks\": \"\"}}, \"marker\": {\"colorbar\": {\"outlinewidth\": 0, \"ticks\": \"\"}}, \"type\": \"scatter3d\"}], \"scattercarpet\": [{\"marker\": {\"colorbar\": {\"outlinewidth\": 0, \"ticks\": \"\"}}, \"type\": \"scattercarpet\"}], \"scattergeo\": [{\"marker\": {\"colorbar\": {\"outlinewidth\": 0, \"ticks\": \"\"}}, \"type\": \"scattergeo\"}], \"scattergl\": [{\"marker\": {\"colorbar\": {\"outlinewidth\": 0, \"ticks\": \"\"}}, \"type\": \"scattergl\"}], \"scattermapbox\": [{\"marker\": {\"colorbar\": {\"outlinewidth\": 0, \"ticks\": \"\"}}, \"type\": \"scattermapbox\"}], \"scatterpolar\": [{\"marker\": {\"colorbar\": {\"outlinewidth\": 0, \"ticks\": \"\"}}, \"type\": \"scatterpolar\"}], \"scatterpolargl\": [{\"marker\": {\"colorbar\": {\"outlinewidth\": 0, \"ticks\": \"\"}}, \"type\": \"scatterpolargl\"}], \"scatterternary\": [{\"marker\": {\"colorbar\": {\"outlinewidth\": 0, \"ticks\": \"\"}}, \"type\": \"scatterternary\"}], \"surface\": [{\"colorbar\": {\"outlinewidth\": 0, \"ticks\": \"\"}, \"colorscale\": [[0.0, \"#0d0887\"], [0.1111111111111111, \"#46039f\"], [0.2222222222222222, \"#7201a8\"], [0.3333333333333333, \"#9c179e\"], [0.4444444444444444, \"#bd3786\"], [0.5555555555555556, \"#d8576b\"], [0.6666666666666666, \"#ed7953\"], [0.7777777777777778, \"#fb9f3a\"], [0.8888888888888888, \"#fdca26\"], [1.0, \"#f0f921\"]], \"type\": \"surface\"}], \"table\": [{\"cells\": {\"fill\": {\"color\": \"#EBF0F8\"}, \"line\": {\"color\": \"white\"}}, \"header\": {\"fill\": {\"color\": \"#C8D4E3\"}, \"line\": {\"color\": \"white\"}}, \"type\": \"table\"}]}, \"layout\": {\"annotationdefaults\": {\"arrowcolor\": \"#2a3f5f\", \"arrowhead\": 0, \"arrowwidth\": 1}, \"coloraxis\": {\"colorbar\": {\"outlinewidth\": 0, \"ticks\": \"\"}}, \"colorscale\": {\"diverging\": [[0, \"#8e0152\"], [0.1, \"#c51b7d\"], [0.2, \"#de77ae\"], [0.3, \"#f1b6da\"], [0.4, \"#fde0ef\"], [0.5, \"#f7f7f7\"], [0.6, \"#e6f5d0\"], [0.7, \"#b8e186\"], [0.8, \"#7fbc41\"], [0.9, \"#4d9221\"], [1, \"#276419\"]], \"sequential\": [[0.0, \"#0d0887\"], [0.1111111111111111, \"#46039f\"], [0.2222222222222222, \"#7201a8\"], [0.3333333333333333, \"#9c179e\"], [0.4444444444444444, \"#bd3786\"], [0.5555555555555556, \"#d8576b\"], [0.6666666666666666, \"#ed7953\"], [0.7777777777777778, \"#fb9f3a\"], [0.8888888888888888, \"#fdca26\"], [1.0, \"#f0f921\"]], \"sequentialminus\": [[0.0, \"#0d0887\"], [0.1111111111111111, \"#46039f\"], [0.2222222222222222, \"#7201a8\"], [0.3333333333333333, \"#9c179e\"], [0.4444444444444444, \"#bd3786\"], [0.5555555555555556, \"#d8576b\"], [0.6666666666666666, \"#ed7953\"], [0.7777777777777778, \"#fb9f3a\"], [0.8888888888888888, \"#fdca26\"], [1.0, \"#f0f921\"]]}, \"colorway\": [\"#636efa\", \"#EF553B\", \"#00cc96\", \"#ab63fa\", \"#FFA15A\", \"#19d3f3\", \"#FF6692\", \"#B6E880\", \"#FF97FF\", \"#FECB52\"], \"font\": {\"color\": \"#2a3f5f\"}, \"geo\": {\"bgcolor\": \"white\", \"lakecolor\": \"white\", \"landcolor\": \"#E5ECF6\", \"showlakes\": true, \"showland\": true, \"subunitcolor\": \"white\"}, \"hoverlabel\": {\"align\": \"left\"}, \"hovermode\": \"closest\", \"mapbox\": {\"style\": \"light\"}, \"paper_bgcolor\": \"white\", \"plot_bgcolor\": \"#E5ECF6\", \"polar\": {\"angularaxis\": {\"gridcolor\": \"white\", \"linecolor\": \"white\", \"ticks\": \"\"}, \"bgcolor\": \"#E5ECF6\", \"radialaxis\": {\"gridcolor\": \"white\", \"linecolor\": \"white\", \"ticks\": \"\"}}, \"scene\": {\"xaxis\": {\"backgroundcolor\": \"#E5ECF6\", \"gridcolor\": \"white\", \"gridwidth\": 2, \"linecolor\": \"white\", \"showbackground\": true, \"ticks\": \"\", \"zerolinecolor\": \"white\"}, \"yaxis\": {\"backgroundcolor\": \"#E5ECF6\", \"gridcolor\": \"white\", \"gridwidth\": 2, \"linecolor\": \"white\", \"showbackground\": true, \"ticks\": \"\", \"zerolinecolor\": \"white\"}, \"zaxis\": {\"backgroundcolor\": \"#E5ECF6\", \"gridcolor\": \"white\", \"gridwidth\": 2, \"linecolor\": \"white\", \"showbackground\": true, \"ticks\": \"\", \"zerolinecolor\": \"white\"}}, \"shapedefaults\": {\"line\": {\"color\": \"#2a3f5f\"}}, \"ternary\": {\"aaxis\": {\"gridcolor\": \"white\", \"linecolor\": \"white\", \"ticks\": \"\"}, \"baxis\": {\"gridcolor\": \"white\", \"linecolor\": \"white\", \"ticks\": \"\"}, \"bgcolor\": \"#E5ECF6\", \"caxis\": {\"gridcolor\": \"white\", \"linecolor\": \"white\", \"ticks\": \"\"}}, \"title\": {\"x\": 0.05}, \"xaxis\": {\"automargin\": true, \"gridcolor\": \"white\", \"linecolor\": \"white\", \"ticks\": \"\", \"title\": {\"standoff\": 15}, \"zerolinecolor\": \"white\", \"zerolinewidth\": 2}, \"yaxis\": {\"automargin\": true, \"gridcolor\": \"white\", \"linecolor\": \"white\", \"ticks\": \"\", \"title\": {\"standoff\": 15}, \"zerolinecolor\": \"white\", \"zerolinewidth\": 2}}}, \"title\": {\"text\": \"Process: 26725- Arm. after annealing\"}, \"width\": 1200, \"xaxis\": {\"anchor\": \"y\", \"domain\": [0.0, 1.0]}, \"yaxis\": {\"anchor\": \"x\", \"domain\": [0.0, 1.0]}},\n",
              "                        {\"responsive\": true}\n",
              "                    ).then(function(){\n",
              "                            \n",
              "var gd = document.getElementById('45bb894b-cdcc-4dc9-b9f7-c02765c7fa09');\n",
              "var x = new MutationObserver(function (mutations, observer) {{\n",
              "        var display = window.getComputedStyle(gd).display;\n",
              "        if (!display || display === 'none') {{\n",
              "            console.log([gd, 'removed!']);\n",
              "            Plotly.purge(gd);\n",
              "            observer.disconnect();\n",
              "        }}\n",
              "}});\n",
              "\n",
              "// Listen for the removal of the full notebook cells\n",
              "var notebookContainer = gd.closest('#notebook-container');\n",
              "if (notebookContainer) {{\n",
              "    x.observe(notebookContainer, {childList: true});\n",
              "}}\n",
              "\n",
              "// Listen for the clearing of the current output cell\n",
              "var outputEl = gd.closest('.output');\n",
              "if (outputEl) {{\n",
              "    x.observe(outputEl, {childList: true});\n",
              "}}\n",
              "\n",
              "                        })\n",
              "                };\n",
              "                \n",
              "            </script>\n",
              "        </div>\n",
              "</body>\n",
              "</html>"
            ]
          },
          "metadata": {
            "tags": []
          }
        },
        {
          "output_type": "display_data",
          "data": {
            "text/html": [
              "<html>\n",
              "<head><meta charset=\"utf-8\" /></head>\n",
              "<body>\n",
              "    <div>\n",
              "            <script src=\"https://cdnjs.cloudflare.com/ajax/libs/mathjax/2.7.5/MathJax.js?config=TeX-AMS-MML_SVG\"></script><script type=\"text/javascript\">if (window.MathJax) {MathJax.Hub.Config({SVG: {font: \"STIX-Web\"}});}</script>\n",
              "                <script type=\"text/javascript\">window.PlotlyConfig = {MathJaxConfig: 'local'};</script>\n",
              "        <script src=\"https://cdn.plot.ly/plotly-latest.min.js\"></script>    \n",
              "            <div id=\"38bd1a60-278a-4d72-b64f-78116561e910\" class=\"plotly-graph-div\" style=\"height:800px; width:1200px;\"></div>\n",
              "            <script type=\"text/javascript\">\n",
              "                \n",
              "                    window.PLOTLYENV=window.PLOTLYENV || {};\n",
              "                    \n",
              "                if (document.getElementById(\"38bd1a60-278a-4d72-b64f-78116561e910\")) {\n",
              "                    Plotly.newPlot(\n",
              "                        '38bd1a60-278a-4d72-b64f-78116561e910',\n",
              "                        [{\"line\": {\"color\": \"#4280F5\"}, \"mode\": \"lines+markers\", \"name\": \"mean \", \"type\": \"scatter\", \"x\": [\"2020-08-29T12:00:00\", \"2020-08-29T20:00:00\", \"2020-09-01T05:00:00\", \"2020-09-01T11:00:00\", \"2020-09-01T20:00:00\", \"2020-09-03T11:00:00\", \"2020-09-03T21:00:00\", \"2020-09-04T12:00:00\", \"2020-09-04T20:00:00\", \"2020-09-05T12:00:00\", \"2020-09-05T20:00:00\", \"2020-09-14T12:00:00\", \"2020-09-15T05:00:00\", \"2020-09-15T11:00:00\", \"2020-09-15T19:00:00\", \"2020-09-16T13:00:00\", \"2020-09-17T12:00:00\", \"2020-09-18T11:00:00\"], \"xaxis\": \"x\", \"y\": [0.008799999952316284, -0.0032999999821186066, 0.008450000546872616, 0.026399999856948853, 0.0031999999191612005, 0.022600000724196434, 0.0035000001080334187, 0.03420000150799751, 0.0035000001080334187, 0.02800000086426735, 0.005600000265985727, -0.00020000005315523595, 0.0006999998586252332, 0.0037999998312443495, 0.00279999990016222, 0.00930000003427267, 0.01590000092983246, -0.00010000001930166036], \"yaxis\": \"y\"}, {\"line\": {\"color\": \"#FF5733\"}, \"mode\": \"lines\", \"name\": \"USL \", \"type\": \"scatter\", \"x\": [\"2020-08-29T12:00:00\", \"2020-08-29T20:00:00\", \"2020-09-01T05:00:00\", \"2020-09-01T11:00:00\", \"2020-09-01T20:00:00\", \"2020-09-03T11:00:00\", \"2020-09-03T21:00:00\", \"2020-09-04T12:00:00\", \"2020-09-04T20:00:00\", \"2020-09-05T12:00:00\", \"2020-09-05T20:00:00\", \"2020-09-14T12:00:00\", \"2020-09-15T05:00:00\", \"2020-09-15T11:00:00\", \"2020-09-15T19:00:00\", \"2020-09-16T13:00:00\", \"2020-09-17T12:00:00\", \"2020-09-18T11:00:00\"], \"xaxis\": \"x\", \"y\": [0.05000000074505806, 0.05000000074505806, 0.05000000074505806, 0.05000000074505806, 0.05000000074505806, 0.05000000074505806, 0.05000000074505806, 0.05000000074505806, 0.05000000074505806, 0.05000000074505806, 0.05000000074505806, 0.05000000074505806, 0.05000000074505806, 0.05000000074505806, 0.05000000074505806, 0.05000000074505806, 0.05000000074505806, 0.05000000074505806], \"yaxis\": \"y\"}, {\"line\": {\"color\": \"#FF5733\"}, \"mode\": \"lines\", \"name\": \"LSL \", \"type\": \"scatter\", \"x\": [\"2020-08-29T12:00:00\", \"2020-08-29T20:00:00\", \"2020-09-01T05:00:00\", \"2020-09-01T11:00:00\", \"2020-09-01T20:00:00\", \"2020-09-03T11:00:00\", \"2020-09-03T21:00:00\", \"2020-09-04T12:00:00\", \"2020-09-04T20:00:00\", \"2020-09-05T12:00:00\", \"2020-09-05T20:00:00\", \"2020-09-14T12:00:00\", \"2020-09-15T05:00:00\", \"2020-09-15T11:00:00\", \"2020-09-15T19:00:00\", \"2020-09-16T13:00:00\", \"2020-09-17T12:00:00\", \"2020-09-18T11:00:00\"], \"xaxis\": \"x\", \"y\": [-0.05000000074505806, -0.05000000074505806, -0.05000000074505806, -0.05000000074505806, -0.05000000074505806, -0.05000000074505806, -0.05000000074505806, -0.05000000074505806, -0.05000000074505806, -0.05000000074505806, -0.05000000074505806, -0.05000000074505806, -0.05000000074505806, -0.05000000074505806, -0.05000000074505806, -0.05000000074505806, -0.05000000074505806, -0.05000000074505806], \"yaxis\": \"y\"}, {\"line\": {\"color\": \"#33C2FF\"}, \"mode\": \"lines\", \"name\": \"UCL \", \"type\": \"scatter\", \"x\": [\"2020-08-29T12:00:00\", \"2020-08-29T20:00:00\", \"2020-09-01T05:00:00\", \"2020-09-01T11:00:00\", \"2020-09-01T20:00:00\", \"2020-09-03T11:00:00\", \"2020-09-03T21:00:00\", \"2020-09-04T12:00:00\", \"2020-09-04T20:00:00\", \"2020-09-05T12:00:00\", \"2020-09-05T20:00:00\", \"2020-09-14T12:00:00\", \"2020-09-15T05:00:00\", \"2020-09-15T11:00:00\", \"2020-09-15T19:00:00\", \"2020-09-16T13:00:00\", \"2020-09-17T12:00:00\", \"2020-09-18T11:00:00\"], \"xaxis\": \"x\", \"y\": [0.05999999865889549, 0.05999999865889549, 0.05999999865889549, 0.05999999865889549, 0.05999999865889549, 0.05999999865889549, 0.05999999865889549, 0.05999999865889549, 0.054999999701976776, 0.054999999701976776, 0.054999999701976776, 0.039000000804662704, 0.039000000804662704, 0.039000000804662704, 0.039000000804662704, 0.039000000804662704, 0.039000000804662704, 0.03200000151991844], \"yaxis\": \"y\"}, {\"line\": {\"color\": \"#33C2FF\"}, \"mode\": \"lines\", \"name\": \"LCL \", \"type\": \"scatter\", \"x\": [\"2020-08-29T12:00:00\", \"2020-08-29T20:00:00\", \"2020-09-01T05:00:00\", \"2020-09-01T11:00:00\", \"2020-09-01T20:00:00\", \"2020-09-03T11:00:00\", \"2020-09-03T21:00:00\", \"2020-09-04T12:00:00\", \"2020-09-04T20:00:00\", \"2020-09-05T12:00:00\", \"2020-09-05T20:00:00\", \"2020-09-14T12:00:00\", \"2020-09-15T05:00:00\", \"2020-09-15T11:00:00\", \"2020-09-15T19:00:00\", \"2020-09-16T13:00:00\", \"2020-09-17T12:00:00\", \"2020-09-18T11:00:00\"], \"xaxis\": \"x\", \"y\": [-0.03500000014901161, -0.03500000014901161, -0.03500000014901161, -0.03500000014901161, -0.03500000014901161, -0.03500000014901161, -0.03500000014901161, -0.03500000014901161, -0.03099999949336052, -0.03099999949336052, -0.03099999949336052, -0.028999999165534973, -0.028999999165534973, -0.028999999165534973, -0.028999999165534973, -0.028999999165534973, -0.028999999165534973, -0.03200000151991844], \"yaxis\": \"y\"}, {\"line\": {\"color\": \"#33C2FF\"}, \"mode\": \"lines\", \"name\": \"Mean \", \"type\": \"scatter\", \"x\": [\"2020-08-29T12:00:00\", \"2020-08-29T20:00:00\", \"2020-09-01T05:00:00\", \"2020-09-01T11:00:00\", \"2020-09-01T20:00:00\", \"2020-09-03T11:00:00\", \"2020-09-03T21:00:00\", \"2020-09-04T12:00:00\", \"2020-09-04T20:00:00\", \"2020-09-05T12:00:00\", \"2020-09-05T20:00:00\", \"2020-09-14T12:00:00\", \"2020-09-15T05:00:00\", \"2020-09-15T11:00:00\", \"2020-09-15T19:00:00\", \"2020-09-16T13:00:00\", \"2020-09-17T12:00:00\", \"2020-09-18T11:00:00\"], \"xaxis\": \"x\", \"y\": [0.012000000104308128, 0.012000000104308128, 0.012000000104308128, 0.012000000104308128, 0.012000000104308128, 0.012000000104308128, 0.012000000104308128, 0.012000000104308128, 0.012000000104308128, 0.012000000104308128, 0.012000000104308128, 0.004999999888241291, 0.004999999888241291, 0.004999999888241291, 0.004999999888241291, 0.004999999888241291, 0.004999999888241291, 0.0], \"yaxis\": \"y\"}, {\"line\": {\"color\": \"#4280F5\"}, \"mode\": \"lines+markers\", \"name\": \"mean \", \"type\": \"scatter\", \"x\": [\"2020-08-29T12:00:00\", \"2020-08-29T20:00:00\", \"2020-09-01T05:00:00\", \"2020-09-01T11:00:00\", \"2020-09-01T20:00:00\", \"2020-09-03T11:00:00\", \"2020-09-03T21:00:00\", \"2020-09-04T12:00:00\", \"2020-09-04T20:00:00\", \"2020-09-05T12:00:00\", \"2020-09-05T20:00:00\", \"2020-09-14T12:00:00\", \"2020-09-15T05:00:00\", \"2020-09-15T11:00:00\", \"2020-09-15T19:00:00\", \"2020-09-16T13:00:00\", \"2020-09-17T12:00:00\", \"2020-09-18T11:00:00\"], \"xaxis\": \"x2\", \"y\": [0.17499999701976776, 0.17110000550746918, 0.1774500012397766, 0.17870000004768372, 0.1737000048160553, 0.17880000174045563, 0.17520000040531158, 0.1784999966621399, 0.17219999432563782, 0.1768999993801117, 0.1712000072002411, 0.17569999396800995, 0.17640000581741333, 0.1753000020980835, 0.17489999532699585, 0.17509999871253967, 0.17329999804496765, 0.17640000581741333], \"yaxis\": \"y2\"}, {\"line\": {\"color\": \"#FF5733\"}, \"mode\": \"lines\", \"name\": \"USL \", \"type\": \"scatter\", \"x\": [\"2020-08-29T12:00:00\", \"2020-08-29T20:00:00\", \"2020-09-01T05:00:00\", \"2020-09-01T11:00:00\", \"2020-09-01T20:00:00\", \"2020-09-03T11:00:00\", \"2020-09-03T21:00:00\", \"2020-09-04T12:00:00\", \"2020-09-04T20:00:00\", \"2020-09-05T12:00:00\", \"2020-09-05T20:00:00\", \"2020-09-14T12:00:00\", \"2020-09-15T05:00:00\", \"2020-09-15T11:00:00\", \"2020-09-15T19:00:00\", \"2020-09-16T13:00:00\", \"2020-09-17T12:00:00\", \"2020-09-18T11:00:00\"], \"xaxis\": \"x2\", \"y\": [0.18700000643730164, 0.18700000643730164, 0.18700000643730164, 0.18700000643730164, 0.18700000643730164, 0.18700000643730164, 0.18700000643730164, 0.18700000643730164, 0.18700000643730164, 0.18700000643730164, 0.18700000643730164, 0.18700000643730164, 0.18700000643730164, 0.18700000643730164, 0.18700000643730164, 0.18700000643730164, 0.18700000643730164, 0.18700000643730164], \"yaxis\": \"y2\"}, {\"line\": {\"color\": \"#FF5733\"}, \"mode\": \"lines\", \"name\": \"LSL \", \"type\": \"scatter\", \"x\": [\"2020-08-29T12:00:00\", \"2020-08-29T20:00:00\", \"2020-09-01T05:00:00\", \"2020-09-01T11:00:00\", \"2020-09-01T20:00:00\", \"2020-09-03T11:00:00\", \"2020-09-03T21:00:00\", \"2020-09-04T12:00:00\", \"2020-09-04T20:00:00\", \"2020-09-05T12:00:00\", \"2020-09-05T20:00:00\", \"2020-09-14T12:00:00\", \"2020-09-15T05:00:00\", \"2020-09-15T11:00:00\", \"2020-09-15T19:00:00\", \"2020-09-16T13:00:00\", \"2020-09-17T12:00:00\", \"2020-09-18T11:00:00\"], \"xaxis\": \"x2\", \"y\": [0.15700000524520874, 0.15700000524520874, 0.15700000524520874, 0.15700000524520874, 0.15700000524520874, 0.15700000524520874, 0.15700000524520874, 0.15700000524520874, 0.15700000524520874, 0.15700000524520874, 0.15700000524520874, 0.15700000524520874, 0.15700000524520874, 0.15700000524520874, 0.15700000524520874, 0.15700000524520874, 0.15700000524520874, 0.15700000524520874], \"yaxis\": \"y2\"}, {\"line\": {\"color\": \"#33C2FF\"}, \"mode\": \"lines\", \"name\": \"UCL \", \"type\": \"scatter\", \"x\": [\"2020-08-29T12:00:00\", \"2020-08-29T20:00:00\", \"2020-09-01T05:00:00\", \"2020-09-01T11:00:00\", \"2020-09-01T20:00:00\", \"2020-09-03T11:00:00\", \"2020-09-03T21:00:00\", \"2020-09-04T12:00:00\", \"2020-09-04T20:00:00\", \"2020-09-05T12:00:00\", \"2020-09-05T20:00:00\", \"2020-09-14T12:00:00\", \"2020-09-15T05:00:00\", \"2020-09-15T11:00:00\", \"2020-09-15T19:00:00\", \"2020-09-16T13:00:00\", \"2020-09-17T12:00:00\", \"2020-09-18T11:00:00\"], \"xaxis\": \"x2\", \"y\": [0.19200000166893005, 0.19200000166893005, 0.19200000166893005, 0.19200000166893005, 0.19200000166893005, 0.19200000166893005, 0.19200000166893005, 0.19200000166893005, 0.1889999955892563, 0.1889999955892563, 0.1889999955892563, 0.18799999356269836, 0.18799999356269836, 0.18799999356269836, 0.18799999356269836, 0.18799999356269836, 0.18799999356269836, 0.1899999976158142], \"yaxis\": \"y2\"}, {\"line\": {\"color\": \"#33C2FF\"}, \"mode\": \"lines\", \"name\": \"LCL \", \"type\": \"scatter\", \"x\": [\"2020-08-29T12:00:00\", \"2020-08-29T20:00:00\", \"2020-09-01T05:00:00\", \"2020-09-01T11:00:00\", \"2020-09-01T20:00:00\", \"2020-09-03T11:00:00\", \"2020-09-03T21:00:00\", \"2020-09-04T12:00:00\", \"2020-09-04T20:00:00\", \"2020-09-05T12:00:00\", \"2020-09-05T20:00:00\", \"2020-09-14T12:00:00\", \"2020-09-15T05:00:00\", \"2020-09-15T11:00:00\", \"2020-09-15T19:00:00\", \"2020-09-16T13:00:00\", \"2020-09-17T12:00:00\", \"2020-09-18T11:00:00\"], \"xaxis\": \"x2\", \"y\": [0.1599999964237213, 0.1599999964237213, 0.1599999964237213, 0.1599999964237213, 0.1599999964237213, 0.1599999964237213, 0.1599999964237213, 0.1599999964237213, 0.15800000727176666, 0.15800000727176666, 0.15800000727176666, 0.16300000250339508, 0.16300000250339508, 0.16300000250339508, 0.16300000250339508, 0.16300000250339508, 0.16300000250339508, 0.16200000047683716], \"yaxis\": \"y2\"}, {\"line\": {\"color\": \"#33C2FF\"}, \"mode\": \"lines\", \"name\": \"Mean \", \"type\": \"scatter\", \"x\": [\"2020-08-29T12:00:00\", \"2020-08-29T20:00:00\", \"2020-09-01T05:00:00\", \"2020-09-01T11:00:00\", \"2020-09-01T20:00:00\", \"2020-09-03T11:00:00\", \"2020-09-03T21:00:00\", \"2020-09-04T12:00:00\", \"2020-09-04T20:00:00\", \"2020-09-05T12:00:00\", \"2020-09-05T20:00:00\", \"2020-09-14T12:00:00\", \"2020-09-15T05:00:00\", \"2020-09-15T11:00:00\", \"2020-09-15T19:00:00\", \"2020-09-16T13:00:00\", \"2020-09-17T12:00:00\", \"2020-09-18T11:00:00\"], \"xaxis\": \"x2\", \"y\": [0.17599999904632568, 0.17599999904632568, 0.17599999904632568, 0.17599999904632568, 0.17599999904632568, 0.17599999904632568, 0.17599999904632568, 0.17599999904632568, 0.17299999296665192, 0.17299999296665192, 0.17299999296665192, 0.17499999701976776, 0.17499999701976776, 0.17499999701976776, 0.17499999701976776, 0.17499999701976776, 0.17499999701976776, 0.17599999904632568], \"yaxis\": \"y2\"}, {\"line\": {\"color\": \"#4280F5\"}, \"mode\": \"lines+markers\", \"name\": \"mean \", \"type\": \"scatter\", \"x\": [\"2020-08-29T12:00:00\", \"2020-08-29T20:00:00\", \"2020-09-01T05:00:00\", \"2020-09-01T11:00:00\", \"2020-09-01T20:00:00\", \"2020-09-03T11:00:00\", \"2020-09-03T21:00:00\", \"2020-09-04T12:00:00\", \"2020-09-04T20:00:00\", \"2020-09-05T12:00:00\", \"2020-09-05T20:00:00\", \"2020-09-14T12:00:00\", \"2020-09-15T05:00:00\", \"2020-09-15T11:00:00\", \"2020-09-15T19:00:00\", \"2020-09-16T13:00:00\", \"2020-09-17T12:00:00\", \"2020-09-18T11:00:00\"], \"xaxis\": \"x3\", \"y\": [0.023800000548362732, 0.027300000190734863, 0.02005000039935112, 0.03539999946951866, 0.024800000712275505, 0.03099999949336052, 0.031300000846385956, 0.03150000050663948, 0.027799999341368675, 0.02290000021457672, 0.01860000006854534, 0.03660000115633011, 0.025800000876188278, 0.060100000351667404, 0.027000000700354576, 0.0877000018954277, 0.02969999983906746, 0.028599999845027924], \"yaxis\": \"y3\"}, {\"line\": {\"color\": \"#FF5733\"}, \"mode\": \"lines\", \"name\": \"USL \", \"type\": \"scatter\", \"x\": [\"2020-08-29T12:00:00\", \"2020-08-29T20:00:00\", \"2020-09-01T05:00:00\", \"2020-09-01T11:00:00\", \"2020-09-01T20:00:00\", \"2020-09-03T11:00:00\", \"2020-09-03T21:00:00\", \"2020-09-04T12:00:00\", \"2020-09-04T20:00:00\", \"2020-09-05T12:00:00\", \"2020-09-05T20:00:00\", \"2020-09-14T12:00:00\", \"2020-09-15T05:00:00\", \"2020-09-15T11:00:00\", \"2020-09-15T19:00:00\", \"2020-09-16T13:00:00\", \"2020-09-17T12:00:00\", \"2020-09-18T11:00:00\"], \"xaxis\": \"x3\", \"y\": [null, null, null, null, null, null, null, null, null, null, null, null, null, null, null, null, null, null], \"yaxis\": \"y3\"}, {\"line\": {\"color\": \"#FF5733\"}, \"mode\": \"lines\", \"name\": \"LSL \", \"type\": \"scatter\", \"x\": [\"2020-08-29T12:00:00\", \"2020-08-29T20:00:00\", \"2020-09-01T05:00:00\", \"2020-09-01T11:00:00\", \"2020-09-01T20:00:00\", \"2020-09-03T11:00:00\", \"2020-09-03T21:00:00\", \"2020-09-04T12:00:00\", \"2020-09-04T20:00:00\", \"2020-09-05T12:00:00\", \"2020-09-05T20:00:00\", \"2020-09-14T12:00:00\", \"2020-09-15T05:00:00\", \"2020-09-15T11:00:00\", \"2020-09-15T19:00:00\", \"2020-09-16T13:00:00\", \"2020-09-17T12:00:00\", \"2020-09-18T11:00:00\"], \"xaxis\": \"x3\", \"y\": [0.0, 0.0, 0.0, 0.0, 0.0, 0.0, 0.0, 0.0, 0.0, 0.0, 0.0, 0.0, 0.0, 0.0, 0.0, 0.0, 0.0, 0.0], \"yaxis\": \"y3\"}, {\"line\": {\"color\": \"#33C2FF\"}, \"mode\": \"lines\", \"name\": \"UCL \", \"type\": \"scatter\", \"x\": [\"2020-08-29T12:00:00\", \"2020-08-29T20:00:00\", \"2020-09-01T05:00:00\", \"2020-09-01T11:00:00\", \"2020-09-01T20:00:00\", \"2020-09-03T11:00:00\", \"2020-09-03T21:00:00\", \"2020-09-04T12:00:00\", \"2020-09-04T20:00:00\", \"2020-09-05T12:00:00\", \"2020-09-05T20:00:00\", \"2020-09-14T12:00:00\", \"2020-09-15T05:00:00\", \"2020-09-15T11:00:00\", \"2020-09-15T19:00:00\", \"2020-09-16T13:00:00\", \"2020-09-17T12:00:00\", \"2020-09-18T11:00:00\"], \"xaxis\": \"x3\", \"y\": [0.054999999701976776, 0.054999999701976776, 0.054999999701976776, 0.054999999701976776, 0.054999999701976776, 0.054999999701976776, 0.054999999701976776, 0.054999999701976776, 0.04600000008940697, 0.04600000008940697, 0.04600000008940697, 0.20499999821186066, 0.20499999821186066, 0.20499999821186066, 0.20499999821186066, 0.20499999821186066, 0.20499999821186066, 0.05700000002980232], \"yaxis\": \"y3\"}, {\"line\": {\"color\": \"#33C2FF\"}, \"mode\": \"lines\", \"name\": \"LCL \", \"type\": \"scatter\", \"x\": [\"2020-08-29T12:00:00\", \"2020-08-29T20:00:00\", \"2020-09-01T05:00:00\", \"2020-09-01T11:00:00\", \"2020-09-01T20:00:00\", \"2020-09-03T11:00:00\", \"2020-09-03T21:00:00\", \"2020-09-04T12:00:00\", \"2020-09-04T20:00:00\", \"2020-09-05T12:00:00\", \"2020-09-05T20:00:00\", \"2020-09-14T12:00:00\", \"2020-09-15T05:00:00\", \"2020-09-15T11:00:00\", \"2020-09-15T19:00:00\", \"2020-09-16T13:00:00\", \"2020-09-17T12:00:00\", \"2020-09-18T11:00:00\"], \"xaxis\": \"x3\", \"y\": [0.0, 0.0, 0.0, 0.0, 0.0, 0.0, 0.0, 0.0, 0.0, 0.0, 0.0, -0.11599999666213989, -0.11599999666213989, -0.11599999666213989, -0.11599999666213989, -0.11599999666213989, -0.11599999666213989, 0.0], \"yaxis\": \"y3\"}, {\"line\": {\"color\": \"#33C2FF\"}, \"mode\": \"lines\", \"name\": \"Mean \", \"type\": \"scatter\", \"x\": [\"2020-08-29T12:00:00\", \"2020-08-29T20:00:00\", \"2020-09-01T05:00:00\", \"2020-09-01T11:00:00\", \"2020-09-01T20:00:00\", \"2020-09-03T11:00:00\", \"2020-09-03T21:00:00\", \"2020-09-04T12:00:00\", \"2020-09-04T20:00:00\", \"2020-09-05T12:00:00\", \"2020-09-05T20:00:00\", \"2020-09-14T12:00:00\", \"2020-09-15T05:00:00\", \"2020-09-15T11:00:00\", \"2020-09-15T19:00:00\", \"2020-09-16T13:00:00\", \"2020-09-17T12:00:00\", \"2020-09-18T11:00:00\"], \"xaxis\": \"x3\", \"y\": [0.027000000700354576, 0.027000000700354576, 0.027000000700354576, 0.027000000700354576, 0.027000000700354576, 0.027000000700354576, 0.027000000700354576, 0.027000000700354576, 0.023000000044703484, 0.023000000044703484, 0.023000000044703484, 0.04399999976158142, 0.04399999976158142, 0.04399999976158142, 0.04399999976158142, 0.04399999976158142, 0.04399999976158142, 0.028999999165534973], \"yaxis\": \"y3\"}, {\"line\": {\"color\": \"#4280F5\"}, \"mode\": \"lines+markers\", \"name\": \"mean \", \"type\": \"scatter\", \"x\": [\"2020-08-29T12:00:00\", \"2020-08-29T20:00:00\", \"2020-09-01T05:00:00\", \"2020-09-01T11:00:00\", \"2020-09-01T20:00:00\", \"2020-09-03T11:00:00\", \"2020-09-03T21:00:00\", \"2020-09-04T12:00:00\", \"2020-09-04T20:00:00\", \"2020-09-05T12:00:00\", \"2020-09-05T20:00:00\", \"2020-09-14T12:00:00\", \"2020-09-15T05:00:00\", \"2020-09-15T11:00:00\", \"2020-09-15T19:00:00\", \"2020-09-16T13:00:00\", \"2020-09-17T12:00:00\", \"2020-09-18T11:00:00\"], \"xaxis\": \"x4\", \"y\": [0.012799999676644802, 0.01889999955892563, 0.02449999935925007, 0.01640000008046627, 0.011599999852478504, 0.03380000218749046, 0.020200001075863838, 0.03020000085234642, 0.016699999570846558, 0.026900000870227814, 0.019899999722838402, 0.02070000022649765, 0.0215000007301569, 0.023499999195337296, 0.02889999933540821, 0.01979999989271164, 0.0142000000923872, 0.027400000020861626], \"yaxis\": \"y4\"}, {\"line\": {\"color\": \"#FF5733\"}, \"mode\": \"lines\", \"name\": \"USL \", \"type\": \"scatter\", \"x\": [\"2020-08-29T12:00:00\", \"2020-08-29T20:00:00\", \"2020-09-01T05:00:00\", \"2020-09-01T11:00:00\", \"2020-09-01T20:00:00\", \"2020-09-03T11:00:00\", \"2020-09-03T21:00:00\", \"2020-09-04T12:00:00\", \"2020-09-04T20:00:00\", \"2020-09-05T12:00:00\", \"2020-09-05T20:00:00\", \"2020-09-14T12:00:00\", \"2020-09-15T05:00:00\", \"2020-09-15T11:00:00\", \"2020-09-15T19:00:00\", \"2020-09-16T13:00:00\", \"2020-09-17T12:00:00\", \"2020-09-18T11:00:00\"], \"xaxis\": \"x4\", \"y\": [0.05000000074505806, 0.05000000074505806, 0.05000000074505806, 0.05000000074505806, 0.05000000074505806, 0.05000000074505806, 0.05000000074505806, 0.05000000074505806, 0.05000000074505806, 0.05000000074505806, 0.05000000074505806, 0.05000000074505806, 0.05000000074505806, 0.05000000074505806, 0.05000000074505806, 0.05000000074505806, 0.05000000074505806, 0.05000000074505806], \"yaxis\": \"y4\"}, {\"line\": {\"color\": \"#FF5733\"}, \"mode\": \"lines\", \"name\": \"LSL \", \"type\": \"scatter\", \"x\": [\"2020-08-29T12:00:00\", \"2020-08-29T20:00:00\", \"2020-09-01T05:00:00\", \"2020-09-01T11:00:00\", \"2020-09-01T20:00:00\", \"2020-09-03T11:00:00\", \"2020-09-03T21:00:00\", \"2020-09-04T12:00:00\", \"2020-09-04T20:00:00\", \"2020-09-05T12:00:00\", \"2020-09-05T20:00:00\", \"2020-09-14T12:00:00\", \"2020-09-15T05:00:00\", \"2020-09-15T11:00:00\", \"2020-09-15T19:00:00\", \"2020-09-16T13:00:00\", \"2020-09-17T12:00:00\", \"2020-09-18T11:00:00\"], \"xaxis\": \"x4\", \"y\": [0.0, 0.0, 0.0, 0.0, 0.0, 0.0, 0.0, 0.0, 0.0, 0.0, 0.0, 0.0, 0.0, 0.0, 0.0, 0.0, 0.0, 0.0], \"yaxis\": \"y4\"}, {\"line\": {\"color\": \"#33C2FF\"}, \"mode\": \"lines\", \"name\": \"UCL \", \"type\": \"scatter\", \"x\": [\"2020-08-29T12:00:00\", \"2020-08-29T20:00:00\", \"2020-09-01T05:00:00\", \"2020-09-01T11:00:00\", \"2020-09-01T20:00:00\", \"2020-09-03T11:00:00\", \"2020-09-03T21:00:00\", \"2020-09-04T12:00:00\", \"2020-09-04T20:00:00\", \"2020-09-05T12:00:00\", \"2020-09-05T20:00:00\", \"2020-09-14T12:00:00\", \"2020-09-15T05:00:00\", \"2020-09-15T11:00:00\", \"2020-09-15T19:00:00\", \"2020-09-16T13:00:00\", \"2020-09-17T12:00:00\", \"2020-09-18T11:00:00\"], \"xaxis\": \"x4\", \"y\": [0.05400000140070915, 0.05400000140070915, 0.05400000140070915, 0.05400000140070915, 0.05400000140070915, 0.05400000140070915, 0.05400000140070915, 0.05400000140070915, 0.052000001072883606, 0.052000001072883606, 0.052000001072883606, 0.04899999871850014, 0.04899999871850014, 0.04899999871850014, 0.04899999871850014, 0.04899999871850014, 0.04899999871850014, 0.054999999701976776], \"yaxis\": \"y4\"}, {\"line\": {\"color\": \"#33C2FF\"}, \"mode\": \"lines\", \"name\": \"LCL \", \"type\": \"scatter\", \"x\": [\"2020-08-29T12:00:00\", \"2020-08-29T20:00:00\", \"2020-09-01T05:00:00\", \"2020-09-01T11:00:00\", \"2020-09-01T20:00:00\", \"2020-09-03T11:00:00\", \"2020-09-03T21:00:00\", \"2020-09-04T12:00:00\", \"2020-09-04T20:00:00\", \"2020-09-05T12:00:00\", \"2020-09-05T20:00:00\", \"2020-09-14T12:00:00\", \"2020-09-15T05:00:00\", \"2020-09-15T11:00:00\", \"2020-09-15T19:00:00\", \"2020-09-16T13:00:00\", \"2020-09-17T12:00:00\", \"2020-09-18T11:00:00\"], \"xaxis\": \"x4\", \"y\": [-0.010999999940395355, -0.010999999940395355, -0.010999999940395355, -0.010999999940395355, -0.010999999940395355, -0.010999999940395355, -0.010999999940395355, -0.010999999940395355, -0.009999999776482582, -0.009999999776482582, -0.009999999776482582, -0.006000000052154064, -0.006000000052154064, -0.006000000052154064, -0.006000000052154064, -0.006000000052154064, -0.006000000052154064, 0.0], \"yaxis\": \"y4\"}, {\"line\": {\"color\": \"#33C2FF\"}, \"mode\": \"lines\", \"name\": \"Mean \", \"type\": \"scatter\", \"x\": [\"2020-08-29T12:00:00\", \"2020-08-29T20:00:00\", \"2020-09-01T05:00:00\", \"2020-09-01T11:00:00\", \"2020-09-01T20:00:00\", \"2020-09-03T11:00:00\", \"2020-09-03T21:00:00\", \"2020-09-04T12:00:00\", \"2020-09-04T20:00:00\", \"2020-09-05T12:00:00\", \"2020-09-05T20:00:00\", \"2020-09-14T12:00:00\", \"2020-09-15T05:00:00\", \"2020-09-15T11:00:00\", \"2020-09-15T19:00:00\", \"2020-09-16T13:00:00\", \"2020-09-17T12:00:00\", \"2020-09-18T11:00:00\"], \"xaxis\": \"x4\", \"y\": [0.020999999716877937, 0.020999999716877937, 0.020999999716877937, 0.020999999716877937, 0.020999999716877937, 0.020999999716877937, 0.020999999716877937, 0.020999999716877937, 0.020999999716877937, 0.020999999716877937, 0.020999999716877937, 0.020999999716877937, 0.020999999716877937, 0.020999999716877937, 0.020999999716877937, 0.020999999716877937, 0.020999999716877937, 0.027000000700354576], \"yaxis\": \"y4\"}],\n",
              "                        {\"annotations\": [{\"font\": {\"size\": 16}, \"showarrow\": false, \"text\": \"Dim D Cp: 2.06 Pp: 1.16 Cpk: 1.54 Ppk: 0.87\", \"x\": 0.5, \"xanchor\": \"center\", \"xref\": \"paper\", \"y\": 1.0, \"yanchor\": \"bottom\", \"yref\": \"paper\"}, {\"font\": {\"size\": 16}, \"showarrow\": false, \"text\": \"Dim I Cp: 1.33 Pp: 1.0 Cpk: 1.14 Ppk: 0.85\", \"x\": 0.5, \"xanchor\": \"center\", \"xref\": \"paper\", \"y\": 0.71875, \"yanchor\": \"bottom\", \"yref\": \"paper\"}, {\"font\": {\"size\": 16}, \"showarrow\": false, \"text\": \"Dim B Cp: nan Pp: nan Cpk: 1.43 Ppk: 0.61\", \"x\": 0.5, \"xanchor\": \"center\", \"xref\": \"paper\", \"y\": 0.4375, \"yanchor\": \"bottom\", \"yref\": \"paper\"}, {\"font\": {\"size\": 16}, \"showarrow\": false, \"text\": \"Dim J Cp: 1.15 Pp: 0.82 Cpk: 0.78 Ppk: 0.56\", \"x\": 0.5, \"xanchor\": \"center\", \"xref\": \"paper\", \"y\": 0.15625, \"yanchor\": \"bottom\", \"yref\": \"paper\"}], \"height\": 800, \"template\": {\"data\": {\"bar\": [{\"error_x\": {\"color\": \"#2a3f5f\"}, \"error_y\": {\"color\": \"#2a3f5f\"}, \"marker\": {\"line\": {\"color\": \"#E5ECF6\", \"width\": 0.5}}, \"type\": \"bar\"}], \"barpolar\": [{\"marker\": {\"line\": {\"color\": \"#E5ECF6\", \"width\": 0.5}}, \"type\": \"barpolar\"}], \"carpet\": [{\"aaxis\": {\"endlinecolor\": \"#2a3f5f\", \"gridcolor\": \"white\", \"linecolor\": \"white\", \"minorgridcolor\": \"white\", \"startlinecolor\": \"#2a3f5f\"}, \"baxis\": {\"endlinecolor\": \"#2a3f5f\", \"gridcolor\": \"white\", \"linecolor\": \"white\", \"minorgridcolor\": \"white\", \"startlinecolor\": \"#2a3f5f\"}, \"type\": \"carpet\"}], \"choropleth\": [{\"colorbar\": {\"outlinewidth\": 0, \"ticks\": \"\"}, \"type\": \"choropleth\"}], \"contour\": [{\"colorbar\": {\"outlinewidth\": 0, \"ticks\": \"\"}, \"colorscale\": [[0.0, \"#0d0887\"], [0.1111111111111111, \"#46039f\"], [0.2222222222222222, \"#7201a8\"], [0.3333333333333333, \"#9c179e\"], [0.4444444444444444, \"#bd3786\"], [0.5555555555555556, \"#d8576b\"], [0.6666666666666666, \"#ed7953\"], [0.7777777777777778, \"#fb9f3a\"], [0.8888888888888888, \"#fdca26\"], [1.0, \"#f0f921\"]], \"type\": \"contour\"}], \"contourcarpet\": [{\"colorbar\": {\"outlinewidth\": 0, \"ticks\": \"\"}, \"type\": \"contourcarpet\"}], \"heatmap\": [{\"colorbar\": {\"outlinewidth\": 0, \"ticks\": \"\"}, \"colorscale\": [[0.0, \"#0d0887\"], [0.1111111111111111, \"#46039f\"], [0.2222222222222222, \"#7201a8\"], [0.3333333333333333, \"#9c179e\"], [0.4444444444444444, \"#bd3786\"], [0.5555555555555556, \"#d8576b\"], [0.6666666666666666, \"#ed7953\"], [0.7777777777777778, \"#fb9f3a\"], [0.8888888888888888, \"#fdca26\"], [1.0, \"#f0f921\"]], \"type\": \"heatmap\"}], \"heatmapgl\": [{\"colorbar\": {\"outlinewidth\": 0, \"ticks\": \"\"}, \"colorscale\": [[0.0, \"#0d0887\"], [0.1111111111111111, \"#46039f\"], [0.2222222222222222, \"#7201a8\"], [0.3333333333333333, \"#9c179e\"], [0.4444444444444444, \"#bd3786\"], [0.5555555555555556, \"#d8576b\"], [0.6666666666666666, \"#ed7953\"], [0.7777777777777778, \"#fb9f3a\"], [0.8888888888888888, \"#fdca26\"], [1.0, \"#f0f921\"]], \"type\": \"heatmapgl\"}], \"histogram\": [{\"marker\": {\"colorbar\": {\"outlinewidth\": 0, \"ticks\": \"\"}}, \"type\": \"histogram\"}], \"histogram2d\": [{\"colorbar\": {\"outlinewidth\": 0, \"ticks\": \"\"}, \"colorscale\": [[0.0, \"#0d0887\"], [0.1111111111111111, \"#46039f\"], [0.2222222222222222, \"#7201a8\"], [0.3333333333333333, \"#9c179e\"], [0.4444444444444444, \"#bd3786\"], [0.5555555555555556, \"#d8576b\"], [0.6666666666666666, \"#ed7953\"], [0.7777777777777778, \"#fb9f3a\"], [0.8888888888888888, \"#fdca26\"], [1.0, \"#f0f921\"]], \"type\": \"histogram2d\"}], \"histogram2dcontour\": [{\"colorbar\": {\"outlinewidth\": 0, \"ticks\": \"\"}, \"colorscale\": [[0.0, \"#0d0887\"], [0.1111111111111111, \"#46039f\"], [0.2222222222222222, \"#7201a8\"], [0.3333333333333333, \"#9c179e\"], [0.4444444444444444, \"#bd3786\"], [0.5555555555555556, \"#d8576b\"], [0.6666666666666666, \"#ed7953\"], [0.7777777777777778, \"#fb9f3a\"], [0.8888888888888888, \"#fdca26\"], [1.0, \"#f0f921\"]], \"type\": \"histogram2dcontour\"}], \"mesh3d\": [{\"colorbar\": {\"outlinewidth\": 0, \"ticks\": \"\"}, \"type\": \"mesh3d\"}], \"parcoords\": [{\"line\": {\"colorbar\": {\"outlinewidth\": 0, \"ticks\": \"\"}}, \"type\": \"parcoords\"}], \"pie\": [{\"automargin\": true, \"type\": \"pie\"}], \"scatter\": [{\"marker\": {\"colorbar\": {\"outlinewidth\": 0, \"ticks\": \"\"}}, \"type\": \"scatter\"}], \"scatter3d\": [{\"line\": {\"colorbar\": {\"outlinewidth\": 0, \"ticks\": \"\"}}, \"marker\": {\"colorbar\": {\"outlinewidth\": 0, \"ticks\": \"\"}}, \"type\": \"scatter3d\"}], \"scattercarpet\": [{\"marker\": {\"colorbar\": {\"outlinewidth\": 0, \"ticks\": \"\"}}, \"type\": \"scattercarpet\"}], \"scattergeo\": [{\"marker\": {\"colorbar\": {\"outlinewidth\": 0, \"ticks\": \"\"}}, \"type\": \"scattergeo\"}], \"scattergl\": [{\"marker\": {\"colorbar\": {\"outlinewidth\": 0, \"ticks\": \"\"}}, \"type\": \"scattergl\"}], \"scattermapbox\": [{\"marker\": {\"colorbar\": {\"outlinewidth\": 0, \"ticks\": \"\"}}, \"type\": \"scattermapbox\"}], \"scatterpolar\": [{\"marker\": {\"colorbar\": {\"outlinewidth\": 0, \"ticks\": \"\"}}, \"type\": \"scatterpolar\"}], \"scatterpolargl\": [{\"marker\": {\"colorbar\": {\"outlinewidth\": 0, \"ticks\": \"\"}}, \"type\": \"scatterpolargl\"}], \"scatterternary\": [{\"marker\": {\"colorbar\": {\"outlinewidth\": 0, \"ticks\": \"\"}}, \"type\": \"scatterternary\"}], \"surface\": [{\"colorbar\": {\"outlinewidth\": 0, \"ticks\": \"\"}, \"colorscale\": [[0.0, \"#0d0887\"], [0.1111111111111111, \"#46039f\"], [0.2222222222222222, \"#7201a8\"], [0.3333333333333333, \"#9c179e\"], [0.4444444444444444, \"#bd3786\"], [0.5555555555555556, \"#d8576b\"], [0.6666666666666666, \"#ed7953\"], [0.7777777777777778, \"#fb9f3a\"], [0.8888888888888888, \"#fdca26\"], [1.0, \"#f0f921\"]], \"type\": \"surface\"}], \"table\": [{\"cells\": {\"fill\": {\"color\": \"#EBF0F8\"}, \"line\": {\"color\": \"white\"}}, \"header\": {\"fill\": {\"color\": \"#C8D4E3\"}, \"line\": {\"color\": \"white\"}}, \"type\": \"table\"}]}, \"layout\": {\"annotationdefaults\": {\"arrowcolor\": \"#2a3f5f\", \"arrowhead\": 0, \"arrowwidth\": 1}, \"coloraxis\": {\"colorbar\": {\"outlinewidth\": 0, \"ticks\": \"\"}}, \"colorscale\": {\"diverging\": [[0, \"#8e0152\"], [0.1, \"#c51b7d\"], [0.2, \"#de77ae\"], [0.3, \"#f1b6da\"], [0.4, \"#fde0ef\"], [0.5, \"#f7f7f7\"], [0.6, \"#e6f5d0\"], [0.7, \"#b8e186\"], [0.8, \"#7fbc41\"], [0.9, \"#4d9221\"], [1, \"#276419\"]], \"sequential\": [[0.0, \"#0d0887\"], [0.1111111111111111, \"#46039f\"], [0.2222222222222222, \"#7201a8\"], [0.3333333333333333, \"#9c179e\"], [0.4444444444444444, \"#bd3786\"], [0.5555555555555556, \"#d8576b\"], [0.6666666666666666, \"#ed7953\"], [0.7777777777777778, \"#fb9f3a\"], [0.8888888888888888, \"#fdca26\"], [1.0, \"#f0f921\"]], \"sequentialminus\": [[0.0, \"#0d0887\"], [0.1111111111111111, \"#46039f\"], [0.2222222222222222, \"#7201a8\"], [0.3333333333333333, \"#9c179e\"], [0.4444444444444444, \"#bd3786\"], [0.5555555555555556, \"#d8576b\"], [0.6666666666666666, \"#ed7953\"], [0.7777777777777778, \"#fb9f3a\"], [0.8888888888888888, \"#fdca26\"], [1.0, \"#f0f921\"]]}, \"colorway\": [\"#636efa\", \"#EF553B\", \"#00cc96\", \"#ab63fa\", \"#FFA15A\", \"#19d3f3\", \"#FF6692\", \"#B6E880\", \"#FF97FF\", \"#FECB52\"], \"font\": {\"color\": \"#2a3f5f\"}, \"geo\": {\"bgcolor\": \"white\", \"lakecolor\": \"white\", \"landcolor\": \"#E5ECF6\", \"showlakes\": true, \"showland\": true, \"subunitcolor\": \"white\"}, \"hoverlabel\": {\"align\": \"left\"}, \"hovermode\": \"closest\", \"mapbox\": {\"style\": \"light\"}, \"paper_bgcolor\": \"white\", \"plot_bgcolor\": \"#E5ECF6\", \"polar\": {\"angularaxis\": {\"gridcolor\": \"white\", \"linecolor\": \"white\", \"ticks\": \"\"}, \"bgcolor\": \"#E5ECF6\", \"radialaxis\": {\"gridcolor\": \"white\", \"linecolor\": \"white\", \"ticks\": \"\"}}, \"scene\": {\"xaxis\": {\"backgroundcolor\": \"#E5ECF6\", \"gridcolor\": \"white\", \"gridwidth\": 2, \"linecolor\": \"white\", \"showbackground\": true, \"ticks\": \"\", \"zerolinecolor\": \"white\"}, \"yaxis\": {\"backgroundcolor\": \"#E5ECF6\", \"gridcolor\": \"white\", \"gridwidth\": 2, \"linecolor\": \"white\", \"showbackground\": true, \"ticks\": \"\", \"zerolinecolor\": \"white\"}, \"zaxis\": {\"backgroundcolor\": \"#E5ECF6\", \"gridcolor\": \"white\", \"gridwidth\": 2, \"linecolor\": \"white\", \"showbackground\": true, \"ticks\": \"\", \"zerolinecolor\": \"white\"}}, \"shapedefaults\": {\"line\": {\"color\": \"#2a3f5f\"}}, \"ternary\": {\"aaxis\": {\"gridcolor\": \"white\", \"linecolor\": \"white\", \"ticks\": \"\"}, \"baxis\": {\"gridcolor\": \"white\", \"linecolor\": \"white\", \"ticks\": \"\"}, \"bgcolor\": \"#E5ECF6\", \"caxis\": {\"gridcolor\": \"white\", \"linecolor\": \"white\", \"ticks\": \"\"}}, \"title\": {\"x\": 0.05}, \"xaxis\": {\"automargin\": true, \"gridcolor\": \"white\", \"linecolor\": \"white\", \"ticks\": \"\", \"title\": {\"standoff\": 15}, \"zerolinecolor\": \"white\", \"zerolinewidth\": 2}, \"yaxis\": {\"automargin\": true, \"gridcolor\": \"white\", \"linecolor\": \"white\", \"ticks\": \"\", \"title\": {\"standoff\": 15}, \"zerolinecolor\": \"white\", \"zerolinewidth\": 2}}}, \"title\": {\"text\": \"Process: 26822-Welding magnet in MS\"}, \"width\": 1200, \"xaxis\": {\"anchor\": \"y\", \"domain\": [0.0, 1.0]}, \"xaxis2\": {\"anchor\": \"y2\", \"domain\": [0.0, 1.0]}, \"xaxis3\": {\"anchor\": \"y3\", \"domain\": [0.0, 1.0]}, \"xaxis4\": {\"anchor\": \"y4\", \"domain\": [0.0, 1.0]}, \"yaxis\": {\"anchor\": \"x\", \"domain\": [0.84375, 1.0]}, \"yaxis2\": {\"anchor\": \"x2\", \"domain\": [0.5625, 0.71875]}, \"yaxis3\": {\"anchor\": \"x3\", \"domain\": [0.28125, 0.4375]}, \"yaxis4\": {\"anchor\": \"x4\", \"domain\": [0.0, 0.15625]}},\n",
              "                        {\"responsive\": true}\n",
              "                    ).then(function(){\n",
              "                            \n",
              "var gd = document.getElementById('38bd1a60-278a-4d72-b64f-78116561e910');\n",
              "var x = new MutationObserver(function (mutations, observer) {{\n",
              "        var display = window.getComputedStyle(gd).display;\n",
              "        if (!display || display === 'none') {{\n",
              "            console.log([gd, 'removed!']);\n",
              "            Plotly.purge(gd);\n",
              "            observer.disconnect();\n",
              "        }}\n",
              "}});\n",
              "\n",
              "// Listen for the removal of the full notebook cells\n",
              "var notebookContainer = gd.closest('#notebook-container');\n",
              "if (notebookContainer) {{\n",
              "    x.observe(notebookContainer, {childList: true});\n",
              "}}\n",
              "\n",
              "// Listen for the clearing of the current output cell\n",
              "var outputEl = gd.closest('.output');\n",
              "if (outputEl) {{\n",
              "    x.observe(outputEl, {childList: true});\n",
              "}}\n",
              "\n",
              "                        })\n",
              "                };\n",
              "                \n",
              "            </script>\n",
              "        </div>\n",
              "</body>\n",
              "</html>"
            ]
          },
          "metadata": {
            "tags": []
          }
        },
        {
          "output_type": "display_data",
          "data": {
            "text/html": [
              "<html>\n",
              "<head><meta charset=\"utf-8\" /></head>\n",
              "<body>\n",
              "    <div>\n",
              "            <script src=\"https://cdnjs.cloudflare.com/ajax/libs/mathjax/2.7.5/MathJax.js?config=TeX-AMS-MML_SVG\"></script><script type=\"text/javascript\">if (window.MathJax) {MathJax.Hub.Config({SVG: {font: \"STIX-Web\"}});}</script>\n",
              "                <script type=\"text/javascript\">window.PlotlyConfig = {MathJaxConfig: 'local'};</script>\n",
              "        <script src=\"https://cdn.plot.ly/plotly-latest.min.js\"></script>    \n",
              "            <div id=\"55faa1c1-8d99-43d3-b381-1ba2067a3405\" class=\"plotly-graph-div\" style=\"height:1000px; width:1200px;\"></div>\n",
              "            <script type=\"text/javascript\">\n",
              "                \n",
              "                    window.PLOTLYENV=window.PLOTLYENV || {};\n",
              "                    \n",
              "                if (document.getElementById(\"55faa1c1-8d99-43d3-b381-1ba2067a3405\")) {\n",
              "                    Plotly.newPlot(\n",
              "                        '55faa1c1-8d99-43d3-b381-1ba2067a3405',\n",
              "                        [{\"line\": {\"color\": \"#4280F5\"}, \"mode\": \"lines+markers\", \"name\": \"mean \", \"type\": \"scatter\", \"x\": [\"2020-09-04T20:00:00\", \"2020-09-05T12:00:00\", \"2020-09-05T20:00:00\", \"2020-09-14T12:00:00\", \"2020-09-15T05:00:00\", \"2020-09-15T11:00:00\", \"2020-09-15T19:00:00\", \"2020-09-16T13:00:00\", \"2020-09-17T12:00:00\", \"2020-09-18T11:00:00\"], \"xaxis\": \"x\", \"y\": [21.76799964904785, 19.111000061035156, 19.34600067138672, 16.670000076293945, 19.535999298095703, 20.85700035095215, 21.430999755859375, 17.645999908447266, 17.70599937438965, 19.9950008392334], \"yaxis\": \"y\"}, {\"line\": {\"color\": \"#FF5733\"}, \"mode\": \"lines\", \"name\": \"USL \", \"type\": \"scatter\", \"x\": [\"2020-09-04T20:00:00\", \"2020-09-05T12:00:00\", \"2020-09-05T20:00:00\", \"2020-09-14T12:00:00\", \"2020-09-15T05:00:00\", \"2020-09-15T11:00:00\", \"2020-09-15T19:00:00\", \"2020-09-16T13:00:00\", \"2020-09-17T12:00:00\", \"2020-09-18T11:00:00\"], \"xaxis\": \"x\", \"y\": [null, null, null, null, null, null, null, null, null, null], \"yaxis\": \"y\"}, {\"line\": {\"color\": \"#FF5733\"}, \"mode\": \"lines\", \"name\": \"LSL \", \"type\": \"scatter\", \"x\": [\"2020-09-04T20:00:00\", \"2020-09-05T12:00:00\", \"2020-09-05T20:00:00\", \"2020-09-14T12:00:00\", \"2020-09-15T05:00:00\", \"2020-09-15T11:00:00\", \"2020-09-15T19:00:00\", \"2020-09-16T13:00:00\", \"2020-09-17T12:00:00\", \"2020-09-18T11:00:00\"], \"xaxis\": \"x\", \"y\": [10.0, 10.0, 10.0, 10.0, 10.0, 10.0, 10.0, 10.0, 10.0, 10.0], \"yaxis\": \"y\"}, {\"line\": {\"color\": \"#33C2FF\"}, \"mode\": \"lines\", \"name\": \"UCL \", \"type\": \"scatter\", \"x\": [\"2020-09-04T20:00:00\", \"2020-09-05T12:00:00\", \"2020-09-05T20:00:00\", \"2020-09-14T12:00:00\", \"2020-09-15T05:00:00\", \"2020-09-15T11:00:00\", \"2020-09-15T19:00:00\", \"2020-09-16T13:00:00\", \"2020-09-17T12:00:00\", \"2020-09-18T11:00:00\"], \"xaxis\": \"x\", \"y\": [29.27199935913086, 29.27199935913086, 29.27199935913086, 28.5310001373291, 28.5310001373291, 28.5310001373291, 28.5310001373291, 28.5310001373291, 28.5310001373291, 27.184999465942383], \"yaxis\": \"y\"}, {\"line\": {\"color\": \"#33C2FF\"}, \"mode\": \"lines\", \"name\": \"LCL \", \"type\": \"scatter\", \"x\": [\"2020-09-04T20:00:00\", \"2020-09-05T12:00:00\", \"2020-09-05T20:00:00\", \"2020-09-14T12:00:00\", \"2020-09-15T05:00:00\", \"2020-09-15T11:00:00\", \"2020-09-15T19:00:00\", \"2020-09-16T13:00:00\", \"2020-09-17T12:00:00\", \"2020-09-18T11:00:00\"], \"xaxis\": \"x\", \"y\": [10.878000259399414, 10.878000259399414, 10.878000259399414, 9.418000221252441, 9.418000221252441, 9.418000221252441, 9.418000221252441, 9.418000221252441, 9.418000221252441, 12.805000305175781], \"yaxis\": \"y\"}, {\"line\": {\"color\": \"#33C2FF\"}, \"mode\": \"lines\", \"name\": \"Mean \", \"type\": \"scatter\", \"x\": [\"2020-09-04T20:00:00\", \"2020-09-05T12:00:00\", \"2020-09-05T20:00:00\", \"2020-09-14T12:00:00\", \"2020-09-15T05:00:00\", \"2020-09-15T11:00:00\", \"2020-09-15T19:00:00\", \"2020-09-16T13:00:00\", \"2020-09-17T12:00:00\", \"2020-09-18T11:00:00\"], \"xaxis\": \"x\", \"y\": [20.075000762939453, 20.075000762939453, 20.075000762939453, 18.974000930786133, 18.974000930786133, 18.974000930786133, 18.974000930786133, 18.974000930786133, 18.974000930786133, 19.9950008392334], \"yaxis\": \"y\"}, {\"line\": {\"color\": \"#4280F5\"}, \"mode\": \"lines+markers\", \"name\": \"mean \", \"type\": \"scatter\", \"x\": [\"2020-09-04T20:00:00\", \"2020-09-05T12:00:00\", \"2020-09-05T20:00:00\", \"2020-09-14T12:00:00\", \"2020-09-15T05:00:00\", \"2020-09-15T11:00:00\", \"2020-09-15T19:00:00\", \"2020-09-16T13:00:00\", \"2020-09-17T12:00:00\", \"2020-09-18T11:00:00\"], \"xaxis\": \"x2\", \"y\": [1.7237999439239502, 1.7188000679016113, 1.7267999649047852, 1.715999960899353, 1.7283999919891357, 1.7294000387191772, 1.7236000299453735, 1.7228000164031982, 1.7214000225067139, 1.7170000076293945], \"yaxis\": \"y2\"}, {\"line\": {\"color\": \"#FF5733\"}, \"mode\": \"lines\", \"name\": \"USL \", \"type\": \"scatter\", \"x\": [\"2020-09-04T20:00:00\", \"2020-09-05T12:00:00\", \"2020-09-05T20:00:00\", \"2020-09-14T12:00:00\", \"2020-09-15T05:00:00\", \"2020-09-15T11:00:00\", \"2020-09-15T19:00:00\", \"2020-09-16T13:00:00\", \"2020-09-17T12:00:00\", \"2020-09-18T11:00:00\"], \"xaxis\": \"x2\", \"y\": [1.75, 1.75, 1.75, 1.75, 1.75, 1.75, 1.75, 1.75, 1.75, 1.75], \"yaxis\": \"y2\"}, {\"line\": {\"color\": \"#FF5733\"}, \"mode\": \"lines\", \"name\": \"LSL \", \"type\": \"scatter\", \"x\": [\"2020-09-04T20:00:00\", \"2020-09-05T12:00:00\", \"2020-09-05T20:00:00\", \"2020-09-14T12:00:00\", \"2020-09-15T05:00:00\", \"2020-09-15T11:00:00\", \"2020-09-15T19:00:00\", \"2020-09-16T13:00:00\", \"2020-09-17T12:00:00\", \"2020-09-18T11:00:00\"], \"xaxis\": \"x2\", \"y\": [1.7100000381469727, 1.7100000381469727, 1.7100000381469727, 1.7100000381469727, 1.7100000381469727, 1.7100000381469727, 1.7100000381469727, 1.7100000381469727, 1.7100000381469727, 1.7100000381469727], \"yaxis\": \"y2\"}, {\"line\": {\"color\": \"#33C2FF\"}, \"mode\": \"lines\", \"name\": \"UCL \", \"type\": \"scatter\", \"x\": [\"2020-09-04T20:00:00\", \"2020-09-05T12:00:00\", \"2020-09-05T20:00:00\", \"2020-09-14T12:00:00\", \"2020-09-15T05:00:00\", \"2020-09-15T11:00:00\", \"2020-09-15T19:00:00\", \"2020-09-16T13:00:00\", \"2020-09-17T12:00:00\", \"2020-09-18T11:00:00\"], \"xaxis\": \"x2\", \"y\": [1.7410000562667847, 1.7410000562667847, 1.7410000562667847, 1.7430000305175781, 1.7430000305175781, 1.7430000305175781, 1.7430000305175781, 1.7430000305175781, 1.7430000305175781, 1.7289999723434448], \"yaxis\": \"y2\"}, {\"line\": {\"color\": \"#33C2FF\"}, \"mode\": \"lines\", \"name\": \"LCL \", \"type\": \"scatter\", \"x\": [\"2020-09-04T20:00:00\", \"2020-09-05T12:00:00\", \"2020-09-05T20:00:00\", \"2020-09-14T12:00:00\", \"2020-09-15T05:00:00\", \"2020-09-15T11:00:00\", \"2020-09-15T19:00:00\", \"2020-09-16T13:00:00\", \"2020-09-17T12:00:00\", \"2020-09-18T11:00:00\"], \"xaxis\": \"x2\", \"y\": [1.7050000429153442, 1.7050000429153442, 1.7050000429153442, 1.7050000429153442, 1.7050000429153442, 1.7050000429153442, 1.7050000429153442, 1.7050000429153442, 1.7050000429153442, 1.7050000429153442], \"yaxis\": \"y2\"}, {\"line\": {\"color\": \"#33C2FF\"}, \"mode\": \"lines\", \"name\": \"Mean \", \"type\": \"scatter\", \"x\": [\"2020-09-04T20:00:00\", \"2020-09-05T12:00:00\", \"2020-09-05T20:00:00\", \"2020-09-14T12:00:00\", \"2020-09-15T05:00:00\", \"2020-09-15T11:00:00\", \"2020-09-15T19:00:00\", \"2020-09-16T13:00:00\", \"2020-09-17T12:00:00\", \"2020-09-18T11:00:00\"], \"xaxis\": \"x2\", \"y\": [1.7230000495910645, 1.7230000495910645, 1.7230000495910645, 1.7239999771118164, 1.7239999771118164, 1.7239999771118164, 1.7239999771118164, 1.7239999771118164, 1.7239999771118164, 1.7170000076293945], \"yaxis\": \"y2\"}, {\"line\": {\"color\": \"#4280F5\"}, \"mode\": \"lines+markers\", \"name\": \"mean \", \"type\": \"scatter\", \"x\": [\"2020-09-04T20:00:00\", \"2020-09-05T12:00:00\", \"2020-09-05T20:00:00\", \"2020-09-14T12:00:00\", \"2020-09-15T05:00:00\", \"2020-09-15T11:00:00\", \"2020-09-15T19:00:00\", \"2020-09-16T13:00:00\", \"2020-09-17T12:00:00\", \"2020-09-18T11:00:00\"], \"xaxis\": \"x3\", \"y\": [0.002400000113993883, 0.00559999980032444, 0.004999999888241291, 0.005600000265985727, 0.0036000001709908247, 0.005200000014156103, 0.00559999980032444, 0.00699999975040555, 0.004399999976158142, 0.004600000102072954], \"yaxis\": \"y3\"}, {\"line\": {\"color\": \"#FF5733\"}, \"mode\": \"lines\", \"name\": \"USL \", \"type\": \"scatter\", \"x\": [\"2020-09-04T20:00:00\", \"2020-09-05T12:00:00\", \"2020-09-05T20:00:00\", \"2020-09-14T12:00:00\", \"2020-09-15T05:00:00\", \"2020-09-15T11:00:00\", \"2020-09-15T19:00:00\", \"2020-09-16T13:00:00\", \"2020-09-17T12:00:00\", \"2020-09-18T11:00:00\"], \"xaxis\": \"x3\", \"y\": [0.009999999776482582, 0.009999999776482582, 0.009999999776482582, 0.009999999776482582, 0.009999999776482582, 0.009999999776482582, 0.009999999776482582, 0.009999999776482582, 0.009999999776482582, 0.009999999776482582], \"yaxis\": \"y3\"}, {\"line\": {\"color\": \"#FF5733\"}, \"mode\": \"lines\", \"name\": \"LSL \", \"type\": \"scatter\", \"x\": [\"2020-09-04T20:00:00\", \"2020-09-05T12:00:00\", \"2020-09-05T20:00:00\", \"2020-09-14T12:00:00\", \"2020-09-15T05:00:00\", \"2020-09-15T11:00:00\", \"2020-09-15T19:00:00\", \"2020-09-16T13:00:00\", \"2020-09-17T12:00:00\", \"2020-09-18T11:00:00\"], \"xaxis\": \"x3\", \"y\": [null, null, null, null, null, null, null, null, null, null], \"yaxis\": \"y3\"}, {\"line\": {\"color\": \"#33C2FF\"}, \"mode\": \"lines\", \"name\": \"UCL \", \"type\": \"scatter\", \"x\": [\"2020-09-04T20:00:00\", \"2020-09-05T12:00:00\", \"2020-09-05T20:00:00\", \"2020-09-14T12:00:00\", \"2020-09-15T05:00:00\", \"2020-09-15T11:00:00\", \"2020-09-15T19:00:00\", \"2020-09-16T13:00:00\", \"2020-09-17T12:00:00\", \"2020-09-18T11:00:00\"], \"xaxis\": \"x3\", \"y\": [0.014000000432133675, 0.014000000432133675, 0.014000000432133675, 0.013000000268220901, 0.013000000268220901, 0.013000000268220901, 0.013000000268220901, 0.013000000268220901, 0.013000000268220901, 0.009999999776482582], \"yaxis\": \"y3\"}, {\"line\": {\"color\": \"#33C2FF\"}, \"mode\": \"lines\", \"name\": \"LCL \", \"type\": \"scatter\", \"x\": [\"2020-09-04T20:00:00\", \"2020-09-05T12:00:00\", \"2020-09-05T20:00:00\", \"2020-09-14T12:00:00\", \"2020-09-15T05:00:00\", \"2020-09-15T11:00:00\", \"2020-09-15T19:00:00\", \"2020-09-16T13:00:00\", \"2020-09-17T12:00:00\", \"2020-09-18T11:00:00\"], \"xaxis\": \"x3\", \"y\": [-0.004999999888241291, -0.004999999888241291, -0.004999999888241291, -0.003000000026077032, -0.003000000026077032, -0.003000000026077032, -0.003000000026077032, -0.003000000026077032, -0.003000000026077032, 0.0], \"yaxis\": \"y3\"}, {\"line\": {\"color\": \"#33C2FF\"}, \"mode\": \"lines\", \"name\": \"Mean \", \"type\": \"scatter\", \"x\": [\"2020-09-04T20:00:00\", \"2020-09-05T12:00:00\", \"2020-09-05T20:00:00\", \"2020-09-14T12:00:00\", \"2020-09-15T05:00:00\", \"2020-09-15T11:00:00\", \"2020-09-15T19:00:00\", \"2020-09-16T13:00:00\", \"2020-09-17T12:00:00\", \"2020-09-18T11:00:00\"], \"xaxis\": \"x3\", \"y\": [0.004000000189989805, 0.004000000189989805, 0.004000000189989805, 0.004999999888241291, 0.004999999888241291, 0.004999999888241291, 0.004999999888241291, 0.004999999888241291, 0.004999999888241291, 0.004999999888241291], \"yaxis\": \"y3\"}, {\"line\": {\"color\": \"#4280F5\"}, \"mode\": \"lines+markers\", \"name\": \"mean \", \"type\": \"scatter\", \"x\": [\"2020-09-04T20:00:00\", \"2020-09-05T12:00:00\", \"2020-09-05T20:00:00\", \"2020-09-14T12:00:00\", \"2020-09-15T05:00:00\", \"2020-09-15T11:00:00\", \"2020-09-15T19:00:00\", \"2020-09-16T13:00:00\", \"2020-09-17T12:00:00\", \"2020-09-18T11:00:00\"], \"xaxis\": \"x4\", \"y\": [0.004000000189989805, 0.009800000116229057, 0.005400000140070915, 0.009200000204145908, 0.008799999952316284, 0.010200000368058681, 0.012000000104308128, 0.009999999776482582, 0.00800000037997961, 0.00860000029206276], \"yaxis\": \"y4\"}, {\"line\": {\"color\": \"#FF5733\"}, \"mode\": \"lines\", \"name\": \"USL \", \"type\": \"scatter\", \"x\": [\"2020-09-04T20:00:00\", \"2020-09-05T12:00:00\", \"2020-09-05T20:00:00\", \"2020-09-14T12:00:00\", \"2020-09-15T05:00:00\", \"2020-09-15T11:00:00\", \"2020-09-15T19:00:00\", \"2020-09-16T13:00:00\", \"2020-09-17T12:00:00\", \"2020-09-18T11:00:00\"], \"xaxis\": \"x4\", \"y\": [0.019999999552965164, 0.019999999552965164, 0.019999999552965164, 0.019999999552965164, 0.019999999552965164, 0.019999999552965164, 0.019999999552965164, 0.019999999552965164, 0.019999999552965164, 0.019999999552965164], \"yaxis\": \"y4\"}, {\"line\": {\"color\": \"#FF5733\"}, \"mode\": \"lines\", \"name\": \"LSL \", \"type\": \"scatter\", \"x\": [\"2020-09-04T20:00:00\", \"2020-09-05T12:00:00\", \"2020-09-05T20:00:00\", \"2020-09-14T12:00:00\", \"2020-09-15T05:00:00\", \"2020-09-15T11:00:00\", \"2020-09-15T19:00:00\", \"2020-09-16T13:00:00\", \"2020-09-17T12:00:00\", \"2020-09-18T11:00:00\"], \"xaxis\": \"x4\", \"y\": [null, null, null, null, null, null, null, null, null, null], \"yaxis\": \"y4\"}, {\"line\": {\"color\": \"#33C2FF\"}, \"mode\": \"lines\", \"name\": \"UCL \", \"type\": \"scatter\", \"x\": [\"2020-09-04T20:00:00\", \"2020-09-05T12:00:00\", \"2020-09-05T20:00:00\", \"2020-09-14T12:00:00\", \"2020-09-15T05:00:00\", \"2020-09-15T11:00:00\", \"2020-09-15T19:00:00\", \"2020-09-16T13:00:00\", \"2020-09-17T12:00:00\", \"2020-09-18T11:00:00\"], \"xaxis\": \"x4\", \"y\": [0.01899999938905239, 0.01899999938905239, 0.01899999938905239, 0.024000000208616257, 0.024000000208616257, 0.024000000208616257, 0.024000000208616257, 0.024000000208616257, 0.024000000208616257, 0.027000000700354576], \"yaxis\": \"y4\"}, {\"line\": {\"color\": \"#33C2FF\"}, \"mode\": \"lines\", \"name\": \"LCL \", \"type\": \"scatter\", \"x\": [\"2020-09-04T20:00:00\", \"2020-09-05T12:00:00\", \"2020-09-05T20:00:00\", \"2020-09-14T12:00:00\", \"2020-09-15T05:00:00\", \"2020-09-15T11:00:00\", \"2020-09-15T19:00:00\", \"2020-09-16T13:00:00\", \"2020-09-17T12:00:00\", \"2020-09-18T11:00:00\"], \"xaxis\": \"x4\", \"y\": [-0.006000000052154064, -0.006000000052154064, -0.006000000052154064, -0.004999999888241291, -0.004999999888241291, -0.004999999888241291, -0.004999999888241291, -0.004999999888241291, -0.004999999888241291, -0.009999999776482582], \"yaxis\": \"y4\"}, {\"line\": {\"color\": \"#33C2FF\"}, \"mode\": \"lines\", \"name\": \"Mean \", \"type\": \"scatter\", \"x\": [\"2020-09-04T20:00:00\", \"2020-09-05T12:00:00\", \"2020-09-05T20:00:00\", \"2020-09-14T12:00:00\", \"2020-09-15T05:00:00\", \"2020-09-15T11:00:00\", \"2020-09-15T19:00:00\", \"2020-09-16T13:00:00\", \"2020-09-17T12:00:00\", \"2020-09-18T11:00:00\"], \"xaxis\": \"x4\", \"y\": [0.006000000052154064, 0.006000000052154064, 0.006000000052154064, 0.009999999776482582, 0.009999999776482582, 0.009999999776482582, 0.009999999776482582, 0.009999999776482582, 0.009999999776482582, 0.008999999612569809], \"yaxis\": \"y4\"}, {\"line\": {\"color\": \"#4280F5\"}, \"mode\": \"lines+markers\", \"name\": \"mean \", \"type\": \"scatter\", \"x\": [\"2020-09-04T20:00:00\", \"2020-09-05T12:00:00\", \"2020-09-05T20:00:00\", \"2020-09-14T12:00:00\", \"2020-09-15T05:00:00\", \"2020-09-15T11:00:00\", \"2020-09-15T19:00:00\", \"2020-09-16T13:00:00\", \"2020-09-17T12:00:00\", \"2020-09-18T11:00:00\"], \"xaxis\": \"x5\", \"y\": [0.032600000500679016, 0.04619999974966049, 0.02419999986886978, 0.03460000082850456, 0.019600000232458115, 0.026200000196695328, 0.032999999821186066, 0.031599998474121094, 0.029199998825788498, 0.035599999129772186], \"yaxis\": \"y5\"}, {\"line\": {\"color\": \"#FF5733\"}, \"mode\": \"lines\", \"name\": \"USL \", \"type\": \"scatter\", \"x\": [\"2020-09-04T20:00:00\", \"2020-09-05T12:00:00\", \"2020-09-05T20:00:00\", \"2020-09-14T12:00:00\", \"2020-09-15T05:00:00\", \"2020-09-15T11:00:00\", \"2020-09-15T19:00:00\", \"2020-09-16T13:00:00\", \"2020-09-17T12:00:00\", \"2020-09-18T11:00:00\"], \"xaxis\": \"x5\", \"y\": [0.10000000149011612, 0.10000000149011612, 0.10000000149011612, 0.10000000149011612, 0.10000000149011612, 0.10000000149011612, 0.10000000149011612, 0.10000000149011612, 0.10000000149011612, 0.10000000149011612], \"yaxis\": \"y5\"}, {\"line\": {\"color\": \"#FF5733\"}, \"mode\": \"lines\", \"name\": \"LSL \", \"type\": \"scatter\", \"x\": [\"2020-09-04T20:00:00\", \"2020-09-05T12:00:00\", \"2020-09-05T20:00:00\", \"2020-09-14T12:00:00\", \"2020-09-15T05:00:00\", \"2020-09-15T11:00:00\", \"2020-09-15T19:00:00\", \"2020-09-16T13:00:00\", \"2020-09-17T12:00:00\", \"2020-09-18T11:00:00\"], \"xaxis\": \"x5\", \"y\": [-0.10000000149011612, -0.10000000149011612, -0.10000000149011612, -0.10000000149011612, -0.10000000149011612, -0.10000000149011612, -0.10000000149011612, -0.10000000149011612, -0.10000000149011612, -0.10000000149011612], \"yaxis\": \"y5\"}, {\"line\": {\"color\": \"#33C2FF\"}, \"mode\": \"lines\", \"name\": \"UCL \", \"type\": \"scatter\", \"x\": [\"2020-09-04T20:00:00\", \"2020-09-05T12:00:00\", \"2020-09-05T20:00:00\", \"2020-09-14T12:00:00\", \"2020-09-15T05:00:00\", \"2020-09-15T11:00:00\", \"2020-09-15T19:00:00\", \"2020-09-16T13:00:00\", \"2020-09-17T12:00:00\", \"2020-09-18T11:00:00\"], \"xaxis\": \"x5\", \"y\": [0.07999999821186066, 0.07999999821186066, 0.07999999821186066, 0.06700000166893005, 0.06700000166893005, 0.06700000166893005, 0.06700000166893005, 0.06700000166893005, 0.06700000166893005, 0.0949999988079071], \"yaxis\": \"y5\"}, {\"line\": {\"color\": \"#33C2FF\"}, \"mode\": \"lines\", \"name\": \"LCL \", \"type\": \"scatter\", \"x\": [\"2020-09-04T20:00:00\", \"2020-09-05T12:00:00\", \"2020-09-05T20:00:00\", \"2020-09-14T12:00:00\", \"2020-09-15T05:00:00\", \"2020-09-15T11:00:00\", \"2020-09-15T19:00:00\", \"2020-09-16T13:00:00\", \"2020-09-17T12:00:00\", \"2020-09-18T11:00:00\"], \"xaxis\": \"x5\", \"y\": [-0.012000000104308128, -0.012000000104308128, -0.012000000104308128, -0.008999999612569809, -0.008999999612569809, -0.008999999612569809, -0.008999999612569809, -0.008999999612569809, -0.008999999612569809, -0.024000000208616257], \"yaxis\": \"y5\"}, {\"line\": {\"color\": \"#33C2FF\"}, \"mode\": \"lines\", \"name\": \"Mean \", \"type\": \"scatter\", \"x\": [\"2020-09-04T20:00:00\", \"2020-09-05T12:00:00\", \"2020-09-05T20:00:00\", \"2020-09-14T12:00:00\", \"2020-09-15T05:00:00\", \"2020-09-15T11:00:00\", \"2020-09-15T19:00:00\", \"2020-09-16T13:00:00\", \"2020-09-17T12:00:00\", \"2020-09-18T11:00:00\"], \"xaxis\": \"x5\", \"y\": [0.03400000184774399, 0.03400000184774399, 0.03400000184774399, 0.028999999165534973, 0.028999999165534973, 0.028999999165534973, 0.028999999165534973, 0.028999999165534973, 0.028999999165534973, 0.035999998450279236], \"yaxis\": \"y5\"}],\n",
              "                        {\"annotations\": [{\"font\": {\"size\": 16}, \"showarrow\": false, \"text\": \"Test l\\u1ef1c\\nShear force Cp: nan Pp: nan Cpk: 0.95 Ppk: 0.83\", \"x\": 0.5, \"xanchor\": \"center\", \"xref\": \"paper\", \"y\": 1.0, \"yanchor\": \"bottom\", \"yref\": \"paper\"}, {\"font\": {\"size\": 16}, \"showarrow\": false, \"text\": \"Dim E Cp: 1.36 Pp: 1.08 Cpk: 0.78 Ppk: 0.61\", \"x\": 0.5, \"xanchor\": \"center\", \"xref\": \"paper\", \"y\": 0.78, \"yanchor\": \"bottom\", \"yref\": \"paper\"}, {\"font\": {\"size\": 16}, \"showarrow\": false, \"text\": \"Dim F Cp: nan Pp: nan Cpk: 0.64 Ppk: 0.68\", \"x\": 0.5, \"xanchor\": \"center\", \"xref\": \"paper\", \"y\": 0.56, \"yanchor\": \"bottom\", \"yref\": \"paper\"}, {\"font\": {\"size\": 16}, \"showarrow\": false, \"text\": \"Dim G Cp: nan Pp: nan Cpk: 0.81 Ppk: 0.81\", \"x\": 0.5, \"xanchor\": \"center\", \"xref\": \"paper\", \"y\": 0.33999999999999997, \"yanchor\": \"bottom\", \"yref\": \"paper\"}, {\"font\": {\"size\": 16}, \"showarrow\": false, \"text\": \"Dim C Cp: 2.5 Pp: 2.36 Cpk: 1.77 Ppk: 1.67\", \"x\": 0.5, \"xanchor\": \"center\", \"xref\": \"paper\", \"y\": 0.12, \"yanchor\": \"bottom\", \"yref\": \"paper\"}], \"height\": 1000, \"template\": {\"data\": {\"bar\": [{\"error_x\": {\"color\": \"#2a3f5f\"}, \"error_y\": {\"color\": \"#2a3f5f\"}, \"marker\": {\"line\": {\"color\": \"#E5ECF6\", \"width\": 0.5}}, \"type\": \"bar\"}], \"barpolar\": [{\"marker\": {\"line\": {\"color\": \"#E5ECF6\", \"width\": 0.5}}, \"type\": \"barpolar\"}], \"carpet\": [{\"aaxis\": {\"endlinecolor\": \"#2a3f5f\", \"gridcolor\": \"white\", \"linecolor\": \"white\", \"minorgridcolor\": \"white\", \"startlinecolor\": \"#2a3f5f\"}, \"baxis\": {\"endlinecolor\": \"#2a3f5f\", \"gridcolor\": \"white\", \"linecolor\": \"white\", \"minorgridcolor\": \"white\", \"startlinecolor\": \"#2a3f5f\"}, \"type\": \"carpet\"}], \"choropleth\": [{\"colorbar\": {\"outlinewidth\": 0, \"ticks\": \"\"}, \"type\": \"choropleth\"}], \"contour\": [{\"colorbar\": {\"outlinewidth\": 0, \"ticks\": \"\"}, \"colorscale\": [[0.0, \"#0d0887\"], [0.1111111111111111, \"#46039f\"], [0.2222222222222222, \"#7201a8\"], [0.3333333333333333, \"#9c179e\"], [0.4444444444444444, \"#bd3786\"], [0.5555555555555556, \"#d8576b\"], [0.6666666666666666, \"#ed7953\"], [0.7777777777777778, \"#fb9f3a\"], [0.8888888888888888, \"#fdca26\"], [1.0, \"#f0f921\"]], \"type\": \"contour\"}], \"contourcarpet\": [{\"colorbar\": {\"outlinewidth\": 0, \"ticks\": \"\"}, \"type\": \"contourcarpet\"}], \"heatmap\": [{\"colorbar\": {\"outlinewidth\": 0, \"ticks\": \"\"}, \"colorscale\": [[0.0, \"#0d0887\"], [0.1111111111111111, \"#46039f\"], [0.2222222222222222, \"#7201a8\"], [0.3333333333333333, \"#9c179e\"], [0.4444444444444444, \"#bd3786\"], [0.5555555555555556, \"#d8576b\"], [0.6666666666666666, \"#ed7953\"], [0.7777777777777778, \"#fb9f3a\"], [0.8888888888888888, \"#fdca26\"], [1.0, \"#f0f921\"]], \"type\": \"heatmap\"}], \"heatmapgl\": [{\"colorbar\": {\"outlinewidth\": 0, \"ticks\": \"\"}, \"colorscale\": [[0.0, \"#0d0887\"], [0.1111111111111111, \"#46039f\"], [0.2222222222222222, \"#7201a8\"], [0.3333333333333333, \"#9c179e\"], [0.4444444444444444, \"#bd3786\"], [0.5555555555555556, \"#d8576b\"], [0.6666666666666666, \"#ed7953\"], [0.7777777777777778, \"#fb9f3a\"], [0.8888888888888888, \"#fdca26\"], [1.0, \"#f0f921\"]], \"type\": \"heatmapgl\"}], \"histogram\": [{\"marker\": {\"colorbar\": {\"outlinewidth\": 0, \"ticks\": \"\"}}, \"type\": \"histogram\"}], \"histogram2d\": [{\"colorbar\": {\"outlinewidth\": 0, \"ticks\": \"\"}, \"colorscale\": [[0.0, \"#0d0887\"], [0.1111111111111111, \"#46039f\"], [0.2222222222222222, \"#7201a8\"], [0.3333333333333333, \"#9c179e\"], [0.4444444444444444, \"#bd3786\"], [0.5555555555555556, \"#d8576b\"], [0.6666666666666666, \"#ed7953\"], [0.7777777777777778, \"#fb9f3a\"], [0.8888888888888888, \"#fdca26\"], [1.0, \"#f0f921\"]], \"type\": \"histogram2d\"}], \"histogram2dcontour\": [{\"colorbar\": {\"outlinewidth\": 0, \"ticks\": \"\"}, \"colorscale\": [[0.0, \"#0d0887\"], [0.1111111111111111, \"#46039f\"], [0.2222222222222222, \"#7201a8\"], [0.3333333333333333, \"#9c179e\"], [0.4444444444444444, \"#bd3786\"], [0.5555555555555556, \"#d8576b\"], [0.6666666666666666, \"#ed7953\"], [0.7777777777777778, \"#fb9f3a\"], [0.8888888888888888, \"#fdca26\"], [1.0, \"#f0f921\"]], \"type\": \"histogram2dcontour\"}], \"mesh3d\": [{\"colorbar\": {\"outlinewidth\": 0, \"ticks\": \"\"}, \"type\": \"mesh3d\"}], \"parcoords\": [{\"line\": {\"colorbar\": {\"outlinewidth\": 0, \"ticks\": \"\"}}, \"type\": \"parcoords\"}], \"pie\": [{\"automargin\": true, \"type\": \"pie\"}], \"scatter\": [{\"marker\": {\"colorbar\": {\"outlinewidth\": 0, \"ticks\": \"\"}}, \"type\": \"scatter\"}], \"scatter3d\": [{\"line\": {\"colorbar\": {\"outlinewidth\": 0, \"ticks\": \"\"}}, \"marker\": {\"colorbar\": {\"outlinewidth\": 0, \"ticks\": \"\"}}, \"type\": \"scatter3d\"}], \"scattercarpet\": [{\"marker\": {\"colorbar\": {\"outlinewidth\": 0, \"ticks\": \"\"}}, \"type\": \"scattercarpet\"}], \"scattergeo\": [{\"marker\": {\"colorbar\": {\"outlinewidth\": 0, \"ticks\": \"\"}}, \"type\": \"scattergeo\"}], \"scattergl\": [{\"marker\": {\"colorbar\": {\"outlinewidth\": 0, \"ticks\": \"\"}}, \"type\": \"scattergl\"}], \"scattermapbox\": [{\"marker\": {\"colorbar\": {\"outlinewidth\": 0, \"ticks\": \"\"}}, \"type\": \"scattermapbox\"}], \"scatterpolar\": [{\"marker\": {\"colorbar\": {\"outlinewidth\": 0, \"ticks\": \"\"}}, \"type\": \"scatterpolar\"}], \"scatterpolargl\": [{\"marker\": {\"colorbar\": {\"outlinewidth\": 0, \"ticks\": \"\"}}, \"type\": \"scatterpolargl\"}], \"scatterternary\": [{\"marker\": {\"colorbar\": {\"outlinewidth\": 0, \"ticks\": \"\"}}, \"type\": \"scatterternary\"}], \"surface\": [{\"colorbar\": {\"outlinewidth\": 0, \"ticks\": \"\"}, \"colorscale\": [[0.0, \"#0d0887\"], [0.1111111111111111, \"#46039f\"], [0.2222222222222222, \"#7201a8\"], [0.3333333333333333, \"#9c179e\"], [0.4444444444444444, \"#bd3786\"], [0.5555555555555556, \"#d8576b\"], [0.6666666666666666, \"#ed7953\"], [0.7777777777777778, \"#fb9f3a\"], [0.8888888888888888, \"#fdca26\"], [1.0, \"#f0f921\"]], \"type\": \"surface\"}], \"table\": [{\"cells\": {\"fill\": {\"color\": \"#EBF0F8\"}, \"line\": {\"color\": \"white\"}}, \"header\": {\"fill\": {\"color\": \"#C8D4E3\"}, \"line\": {\"color\": \"white\"}}, \"type\": \"table\"}]}, \"layout\": {\"annotationdefaults\": {\"arrowcolor\": \"#2a3f5f\", \"arrowhead\": 0, \"arrowwidth\": 1}, \"coloraxis\": {\"colorbar\": {\"outlinewidth\": 0, \"ticks\": \"\"}}, \"colorscale\": {\"diverging\": [[0, \"#8e0152\"], [0.1, \"#c51b7d\"], [0.2, \"#de77ae\"], [0.3, \"#f1b6da\"], [0.4, \"#fde0ef\"], [0.5, \"#f7f7f7\"], [0.6, \"#e6f5d0\"], [0.7, \"#b8e186\"], [0.8, \"#7fbc41\"], [0.9, \"#4d9221\"], [1, \"#276419\"]], \"sequential\": [[0.0, \"#0d0887\"], [0.1111111111111111, \"#46039f\"], [0.2222222222222222, \"#7201a8\"], [0.3333333333333333, \"#9c179e\"], [0.4444444444444444, \"#bd3786\"], [0.5555555555555556, \"#d8576b\"], [0.6666666666666666, \"#ed7953\"], [0.7777777777777778, \"#fb9f3a\"], [0.8888888888888888, \"#fdca26\"], [1.0, \"#f0f921\"]], \"sequentialminus\": [[0.0, \"#0d0887\"], [0.1111111111111111, \"#46039f\"], [0.2222222222222222, \"#7201a8\"], [0.3333333333333333, \"#9c179e\"], [0.4444444444444444, \"#bd3786\"], [0.5555555555555556, \"#d8576b\"], [0.6666666666666666, \"#ed7953\"], [0.7777777777777778, \"#fb9f3a\"], [0.8888888888888888, \"#fdca26\"], [1.0, \"#f0f921\"]]}, \"colorway\": [\"#636efa\", \"#EF553B\", \"#00cc96\", \"#ab63fa\", \"#FFA15A\", \"#19d3f3\", \"#FF6692\", \"#B6E880\", \"#FF97FF\", \"#FECB52\"], \"font\": {\"color\": \"#2a3f5f\"}, \"geo\": {\"bgcolor\": \"white\", \"lakecolor\": \"white\", \"landcolor\": \"#E5ECF6\", \"showlakes\": true, \"showland\": true, \"subunitcolor\": \"white\"}, \"hoverlabel\": {\"align\": \"left\"}, \"hovermode\": \"closest\", \"mapbox\": {\"style\": \"light\"}, \"paper_bgcolor\": \"white\", \"plot_bgcolor\": \"#E5ECF6\", \"polar\": {\"angularaxis\": {\"gridcolor\": \"white\", \"linecolor\": \"white\", \"ticks\": \"\"}, \"bgcolor\": \"#E5ECF6\", \"radialaxis\": {\"gridcolor\": \"white\", \"linecolor\": \"white\", \"ticks\": \"\"}}, \"scene\": {\"xaxis\": {\"backgroundcolor\": \"#E5ECF6\", \"gridcolor\": \"white\", \"gridwidth\": 2, \"linecolor\": \"white\", \"showbackground\": true, \"ticks\": \"\", \"zerolinecolor\": \"white\"}, \"yaxis\": {\"backgroundcolor\": \"#E5ECF6\", \"gridcolor\": \"white\", \"gridwidth\": 2, \"linecolor\": \"white\", \"showbackground\": true, \"ticks\": \"\", \"zerolinecolor\": \"white\"}, \"zaxis\": {\"backgroundcolor\": \"#E5ECF6\", \"gridcolor\": \"white\", \"gridwidth\": 2, \"linecolor\": \"white\", \"showbackground\": true, \"ticks\": \"\", \"zerolinecolor\": \"white\"}}, \"shapedefaults\": {\"line\": {\"color\": \"#2a3f5f\"}}, \"ternary\": {\"aaxis\": {\"gridcolor\": \"white\", \"linecolor\": \"white\", \"ticks\": \"\"}, \"baxis\": {\"gridcolor\": \"white\", \"linecolor\": \"white\", \"ticks\": \"\"}, \"bgcolor\": \"#E5ECF6\", \"caxis\": {\"gridcolor\": \"white\", \"linecolor\": \"white\", \"ticks\": \"\"}}, \"title\": {\"x\": 0.05}, \"xaxis\": {\"automargin\": true, \"gridcolor\": \"white\", \"linecolor\": \"white\", \"ticks\": \"\", \"title\": {\"standoff\": 15}, \"zerolinecolor\": \"white\", \"zerolinewidth\": 2}, \"yaxis\": {\"automargin\": true, \"gridcolor\": \"white\", \"linecolor\": \"white\", \"ticks\": \"\", \"title\": {\"standoff\": 15}, \"zerolinecolor\": \"white\", \"zerolinewidth\": 2}}}, \"title\": {\"text\": \"Process: 26824-Weld MS in strip\"}, \"width\": 1200, \"xaxis\": {\"anchor\": \"y\", \"domain\": [0.0, 1.0]}, \"xaxis2\": {\"anchor\": \"y2\", \"domain\": [0.0, 1.0]}, \"xaxis3\": {\"anchor\": \"y3\", \"domain\": [0.0, 1.0]}, \"xaxis4\": {\"anchor\": \"y4\", \"domain\": [0.0, 1.0]}, \"xaxis5\": {\"anchor\": \"y5\", \"domain\": [0.0, 1.0]}, \"yaxis\": {\"anchor\": \"x\", \"domain\": [0.88, 1.0]}, \"yaxis2\": {\"anchor\": \"x2\", \"domain\": [0.66, 0.78]}, \"yaxis3\": {\"anchor\": \"x3\", \"domain\": [0.44, 0.56]}, \"yaxis4\": {\"anchor\": \"x4\", \"domain\": [0.22, 0.33999999999999997]}, \"yaxis5\": {\"anchor\": \"x5\", \"domain\": [0.0, 0.12]}},\n",
              "                        {\"responsive\": true}\n",
              "                    ).then(function(){\n",
              "                            \n",
              "var gd = document.getElementById('55faa1c1-8d99-43d3-b381-1ba2067a3405');\n",
              "var x = new MutationObserver(function (mutations, observer) {{\n",
              "        var display = window.getComputedStyle(gd).display;\n",
              "        if (!display || display === 'none') {{\n",
              "            console.log([gd, 'removed!']);\n",
              "            Plotly.purge(gd);\n",
              "            observer.disconnect();\n",
              "        }}\n",
              "}});\n",
              "\n",
              "// Listen for the removal of the full notebook cells\n",
              "var notebookContainer = gd.closest('#notebook-container');\n",
              "if (notebookContainer) {{\n",
              "    x.observe(notebookContainer, {childList: true});\n",
              "}}\n",
              "\n",
              "// Listen for the clearing of the current output cell\n",
              "var outputEl = gd.closest('.output');\n",
              "if (outputEl) {{\n",
              "    x.observe(outputEl, {childList: true});\n",
              "}}\n",
              "\n",
              "                        })\n",
              "                };\n",
              "                \n",
              "            </script>\n",
              "        </div>\n",
              "</body>\n",
              "</html>"
            ]
          },
          "metadata": {
            "tags": []
          }
        },
        {
          "output_type": "display_data",
          "data": {
            "text/html": [
              "<html>\n",
              "<head><meta charset=\"utf-8\" /></head>\n",
              "<body>\n",
              "    <div>\n",
              "            <script src=\"https://cdnjs.cloudflare.com/ajax/libs/mathjax/2.7.5/MathJax.js?config=TeX-AMS-MML_SVG\"></script><script type=\"text/javascript\">if (window.MathJax) {MathJax.Hub.Config({SVG: {font: \"STIX-Web\"}});}</script>\n",
              "                <script type=\"text/javascript\">window.PlotlyConfig = {MathJaxConfig: 'local'};</script>\n",
              "        <script src=\"https://cdn.plot.ly/plotly-latest.min.js\"></script>    \n",
              "            <div id=\"7571d79c-2c68-44bc-bb73-4e0b41fb730a\" class=\"plotly-graph-div\" style=\"height:400px; width:1200px;\"></div>\n",
              "            <script type=\"text/javascript\">\n",
              "                \n",
              "                    window.PLOTLYENV=window.PLOTLYENV || {};\n",
              "                    \n",
              "                if (document.getElementById(\"7571d79c-2c68-44bc-bb73-4e0b41fb730a\")) {\n",
              "                    Plotly.newPlot(\n",
              "                        '7571d79c-2c68-44bc-bb73-4e0b41fb730a',\n",
              "                        [{\"line\": {\"color\": \"#4280F5\"}, \"mode\": \"lines+markers\", \"name\": \"mean \", \"type\": \"scatter\", \"x\": [\"2020-08-29T12:00:00\", \"2020-08-29T20:00:00\", \"2020-09-01T05:00:00\", \"2020-09-01T11:00:00\", \"2020-09-01T20:00:00\", \"2020-09-03T11:00:00\", \"2020-09-03T21:00:00\", \"2020-09-04T13:00:00\", \"2020-09-04T20:00:00\", \"2020-09-05T12:00:00\", \"2020-09-05T20:00:00\", \"2020-09-14T12:00:00\", \"2020-09-15T05:00:00\", \"2020-09-15T11:00:00\", \"2020-09-15T19:00:00\", \"2020-09-16T13:00:00\", \"2020-09-17T12:00:00\", \"2020-09-18T11:00:00\"], \"xaxis\": \"x\", \"y\": [0.3736000061035156, 0.38199999928474426, 0.37439998984336853, 0.3813999891281128, 0.3808000087738037, 0.38499999046325684, 0.37540000677108765, 0.37860000133514404, 0.38339999318122864, 0.3864000141620636, 0.36800000071525574, 0.3815999925136566, 0.37560001015663147, 0.38499999046325684, 0.3889999985694885, 0.38600000739097595, 0.38359999656677246, 0.3775999844074249], \"yaxis\": \"y\"}, {\"line\": {\"color\": \"#FF5733\"}, \"mode\": \"lines\", \"name\": \"USL \", \"type\": \"scatter\", \"x\": [\"2020-08-29T12:00:00\", \"2020-08-29T20:00:00\", \"2020-09-01T05:00:00\", \"2020-09-01T11:00:00\", \"2020-09-01T20:00:00\", \"2020-09-03T11:00:00\", \"2020-09-03T21:00:00\", \"2020-09-04T13:00:00\", \"2020-09-04T20:00:00\", \"2020-09-05T12:00:00\", \"2020-09-05T20:00:00\", \"2020-09-14T12:00:00\", \"2020-09-15T05:00:00\", \"2020-09-15T11:00:00\", \"2020-09-15T19:00:00\", \"2020-09-16T13:00:00\", \"2020-09-17T12:00:00\", \"2020-09-18T11:00:00\"], \"xaxis\": \"x\", \"y\": [0.4000000059604645, 0.4000000059604645, 0.4000000059604645, 0.4000000059604645, 0.4000000059604645, 0.4000000059604645, 0.4000000059604645, 0.4000000059604645, 0.4000000059604645, 0.4000000059604645, 0.4000000059604645, 0.4000000059604645, 0.4000000059604645, 0.4000000059604645, 0.4000000059604645, 0.4000000059604645, 0.4000000059604645, 0.4000000059604645], \"yaxis\": \"y\"}, {\"line\": {\"color\": \"#FF5733\"}, \"mode\": \"lines\", \"name\": \"LSL \", \"type\": \"scatter\", \"x\": [\"2020-08-29T12:00:00\", \"2020-08-29T20:00:00\", \"2020-09-01T05:00:00\", \"2020-09-01T11:00:00\", \"2020-09-01T20:00:00\", \"2020-09-03T11:00:00\", \"2020-09-03T21:00:00\", \"2020-09-04T13:00:00\", \"2020-09-04T20:00:00\", \"2020-09-05T12:00:00\", \"2020-09-05T20:00:00\", \"2020-09-14T12:00:00\", \"2020-09-15T05:00:00\", \"2020-09-15T11:00:00\", \"2020-09-15T19:00:00\", \"2020-09-16T13:00:00\", \"2020-09-17T12:00:00\", \"2020-09-18T11:00:00\"], \"xaxis\": \"x\", \"y\": [0.36000001430511475, 0.36000001430511475, 0.36000001430511475, 0.36000001430511475, 0.36000001430511475, 0.36000001430511475, 0.36000001430511475, 0.36000001430511475, 0.36000001430511475, 0.36000001430511475, 0.36000001430511475, 0.36000001430511475, 0.36000001430511475, 0.36000001430511475, 0.36000001430511475, 0.36000001430511475, 0.36000001430511475, 0.36000001430511475], \"yaxis\": \"y\"}, {\"line\": {\"color\": \"#33C2FF\"}, \"mode\": \"lines\", \"name\": \"UCL \", \"type\": \"scatter\", \"x\": [\"2020-08-29T12:00:00\", \"2020-08-29T20:00:00\", \"2020-09-01T05:00:00\", \"2020-09-01T11:00:00\", \"2020-09-01T20:00:00\", \"2020-09-03T11:00:00\", \"2020-09-03T21:00:00\", \"2020-09-04T13:00:00\", \"2020-09-04T20:00:00\", \"2020-09-05T12:00:00\", \"2020-09-05T20:00:00\", \"2020-09-14T12:00:00\", \"2020-09-15T05:00:00\", \"2020-09-15T11:00:00\", \"2020-09-15T19:00:00\", \"2020-09-16T13:00:00\", \"2020-09-17T12:00:00\", \"2020-09-18T11:00:00\"], \"xaxis\": \"x\", \"y\": [0.41200000047683716, 0.41200000047683716, 0.41200000047683716, 0.41200000047683716, 0.41200000047683716, 0.41200000047683716, 0.41200000047683716, 0.41200000047683716, 0.4129999876022339, 0.4129999876022339, 0.4129999876022339, 0.414000004529953, 0.414000004529953, 0.414000004529953, 0.414000004529953, 0.414000004529953, 0.414000004529953, 0.4180000126361847], \"yaxis\": \"y\"}, {\"line\": {\"color\": \"#33C2FF\"}, \"mode\": \"lines\", \"name\": \"LCL \", \"type\": \"scatter\", \"x\": [\"2020-08-29T12:00:00\", \"2020-08-29T20:00:00\", \"2020-09-01T05:00:00\", \"2020-09-01T11:00:00\", \"2020-09-01T20:00:00\", \"2020-09-03T11:00:00\", \"2020-09-03T21:00:00\", \"2020-09-04T13:00:00\", \"2020-09-04T20:00:00\", \"2020-09-05T12:00:00\", \"2020-09-05T20:00:00\", \"2020-09-14T12:00:00\", \"2020-09-15T05:00:00\", \"2020-09-15T11:00:00\", \"2020-09-15T19:00:00\", \"2020-09-16T13:00:00\", \"2020-09-17T12:00:00\", \"2020-09-18T11:00:00\"], \"xaxis\": \"x\", \"y\": [0.3449999988079071, 0.3449999988079071, 0.3449999988079071, 0.3449999988079071, 0.3449999988079071, 0.3449999988079071, 0.3449999988079071, 0.3449999988079071, 0.3449999988079071, 0.3449999988079071, 0.3449999988079071, 0.3529999852180481, 0.3529999852180481, 0.3529999852180481, 0.3529999852180481, 0.3529999852180481, 0.3529999852180481, 0.3370000123977661], \"yaxis\": \"y\"}, {\"line\": {\"color\": \"#33C2FF\"}, \"mode\": \"lines\", \"name\": \"Mean \", \"type\": \"scatter\", \"x\": [\"2020-08-29T12:00:00\", \"2020-08-29T20:00:00\", \"2020-09-01T05:00:00\", \"2020-09-01T11:00:00\", \"2020-09-01T20:00:00\", \"2020-09-03T11:00:00\", \"2020-09-03T21:00:00\", \"2020-09-04T13:00:00\", \"2020-09-04T20:00:00\", \"2020-09-05T12:00:00\", \"2020-09-05T20:00:00\", \"2020-09-14T12:00:00\", \"2020-09-15T05:00:00\", \"2020-09-15T11:00:00\", \"2020-09-15T19:00:00\", \"2020-09-16T13:00:00\", \"2020-09-17T12:00:00\", \"2020-09-18T11:00:00\"], \"xaxis\": \"x\", \"y\": [0.3779999911785126, 0.3779999911785126, 0.3779999911785126, 0.3779999911785126, 0.3779999911785126, 0.3779999911785126, 0.3779999911785126, 0.3779999911785126, 0.3790000081062317, 0.3790000081062317, 0.3790000081062317, 0.382999986410141, 0.382999986410141, 0.382999986410141, 0.382999986410141, 0.382999986410141, 0.382999986410141, 0.3779999911785126], \"yaxis\": \"y\"}, {\"line\": {\"color\": \"#4280F5\"}, \"mode\": \"lines+markers\", \"name\": \"mean \", \"type\": \"scatter\", \"x\": [\"2020-08-29T12:00:00\", \"2020-08-29T20:00:00\", \"2020-09-01T05:00:00\", \"2020-09-01T11:00:00\", \"2020-09-01T20:00:00\", \"2020-09-03T11:00:00\", \"2020-09-03T21:00:00\", \"2020-09-04T13:00:00\", \"2020-09-04T20:00:00\", \"2020-09-05T12:00:00\", \"2020-09-05T20:00:00\", \"2020-09-14T12:00:00\", \"2020-09-15T05:00:00\", \"2020-09-15T11:00:00\", \"2020-09-15T19:00:00\", \"2020-09-16T13:00:00\", \"2020-09-17T12:00:00\", \"2020-09-18T11:00:00\"], \"xaxis\": \"x2\", \"y\": [0.3741999864578247, 0.3822000026702881, 0.382999986410141, 0.38999998569488525, 0.38760000467300415, 0.38260000944137573, 0.38359999656677246, 0.37540000677108765, 0.3853999972343445, 0.38580000400543213, 0.37599998712539673, 0.3874000012874603, 0.3734000027179718, 0.3862000107765198, 0.3871999979019165, 0.38679999113082886, 0.38040000200271606, 0.3831999897956848], \"yaxis\": \"y2\"}, {\"line\": {\"color\": \"#FF5733\"}, \"mode\": \"lines\", \"name\": \"USL \", \"type\": \"scatter\", \"x\": [\"2020-08-29T12:00:00\", \"2020-08-29T20:00:00\", \"2020-09-01T05:00:00\", \"2020-09-01T11:00:00\", \"2020-09-01T20:00:00\", \"2020-09-03T11:00:00\", \"2020-09-03T21:00:00\", \"2020-09-04T13:00:00\", \"2020-09-04T20:00:00\", \"2020-09-05T12:00:00\", \"2020-09-05T20:00:00\", \"2020-09-14T12:00:00\", \"2020-09-15T05:00:00\", \"2020-09-15T11:00:00\", \"2020-09-15T19:00:00\", \"2020-09-16T13:00:00\", \"2020-09-17T12:00:00\", \"2020-09-18T11:00:00\"], \"xaxis\": \"x2\", \"y\": [0.4000000059604645, 0.4000000059604645, 0.4000000059604645, 0.4000000059604645, 0.4000000059604645, 0.4000000059604645, 0.4000000059604645, 0.4000000059604645, 0.4000000059604645, 0.4000000059604645, 0.4000000059604645, 0.4000000059604645, 0.4000000059604645, 0.4000000059604645, 0.4000000059604645, 0.4000000059604645, 0.4000000059604645, 0.4000000059604645], \"yaxis\": \"y2\"}, {\"line\": {\"color\": \"#FF5733\"}, \"mode\": \"lines\", \"name\": \"LSL \", \"type\": \"scatter\", \"x\": [\"2020-08-29T12:00:00\", \"2020-08-29T20:00:00\", \"2020-09-01T05:00:00\", \"2020-09-01T11:00:00\", \"2020-09-01T20:00:00\", \"2020-09-03T11:00:00\", \"2020-09-03T21:00:00\", \"2020-09-04T13:00:00\", \"2020-09-04T20:00:00\", \"2020-09-05T12:00:00\", \"2020-09-05T20:00:00\", \"2020-09-14T12:00:00\", \"2020-09-15T05:00:00\", \"2020-09-15T11:00:00\", \"2020-09-15T19:00:00\", \"2020-09-16T13:00:00\", \"2020-09-17T12:00:00\", \"2020-09-18T11:00:00\"], \"xaxis\": \"x2\", \"y\": [0.36000001430511475, 0.36000001430511475, 0.36000001430511475, 0.36000001430511475, 0.36000001430511475, 0.36000001430511475, 0.36000001430511475, 0.36000001430511475, 0.36000001430511475, 0.36000001430511475, 0.36000001430511475, 0.36000001430511475, 0.36000001430511475, 0.36000001430511475, 0.36000001430511475, 0.36000001430511475, 0.36000001430511475, 0.36000001430511475], \"yaxis\": \"y2\"}, {\"line\": {\"color\": \"#33C2FF\"}, \"mode\": \"lines\", \"name\": \"UCL \", \"type\": \"scatter\", \"x\": [\"2020-08-29T12:00:00\", \"2020-08-29T20:00:00\", \"2020-09-01T05:00:00\", \"2020-09-01T11:00:00\", \"2020-09-01T20:00:00\", \"2020-09-03T11:00:00\", \"2020-09-03T21:00:00\", \"2020-09-04T13:00:00\", \"2020-09-04T20:00:00\", \"2020-09-05T12:00:00\", \"2020-09-05T20:00:00\", \"2020-09-14T12:00:00\", \"2020-09-15T05:00:00\", \"2020-09-15T11:00:00\", \"2020-09-15T19:00:00\", \"2020-09-16T13:00:00\", \"2020-09-17T12:00:00\", \"2020-09-18T11:00:00\"], \"xaxis\": \"x2\", \"y\": [0.4099999964237213, 0.4099999964237213, 0.4099999964237213, 0.4099999964237213, 0.4099999964237213, 0.4099999964237213, 0.4099999964237213, 0.4099999964237213, 0.4129999876022339, 0.4129999876022339, 0.4129999876022339, 0.414000004529953, 0.414000004529953, 0.414000004529953, 0.414000004529953, 0.414000004529953, 0.414000004529953, 0.41999998688697815], \"yaxis\": \"y2\"}, {\"line\": {\"color\": \"#33C2FF\"}, \"mode\": \"lines\", \"name\": \"LCL \", \"type\": \"scatter\", \"x\": [\"2020-08-29T12:00:00\", \"2020-08-29T20:00:00\", \"2020-09-01T05:00:00\", \"2020-09-01T11:00:00\", \"2020-09-01T20:00:00\", \"2020-09-03T11:00:00\", \"2020-09-03T21:00:00\", \"2020-09-04T13:00:00\", \"2020-09-04T20:00:00\", \"2020-09-05T12:00:00\", \"2020-09-05T20:00:00\", \"2020-09-14T12:00:00\", \"2020-09-15T05:00:00\", \"2020-09-15T11:00:00\", \"2020-09-15T19:00:00\", \"2020-09-16T13:00:00\", \"2020-09-17T12:00:00\", \"2020-09-18T11:00:00\"], \"xaxis\": \"x2\", \"y\": [0.3540000021457672, 0.3540000021457672, 0.3540000021457672, 0.3540000021457672, 0.3540000021457672, 0.3540000021457672, 0.3540000021457672, 0.3540000021457672, 0.35199999809265137, 0.35199999809265137, 0.35199999809265137, 0.3529999852180481, 0.3529999852180481, 0.3529999852180481, 0.3529999852180481, 0.3529999852180481, 0.3529999852180481, 0.34599998593330383], \"yaxis\": \"y2\"}, {\"line\": {\"color\": \"#33C2FF\"}, \"mode\": \"lines\", \"name\": \"Mean \", \"type\": \"scatter\", \"x\": [\"2020-08-29T12:00:00\", \"2020-08-29T20:00:00\", \"2020-09-01T05:00:00\", \"2020-09-01T11:00:00\", \"2020-09-01T20:00:00\", \"2020-09-03T11:00:00\", \"2020-09-03T21:00:00\", \"2020-09-04T13:00:00\", \"2020-09-04T20:00:00\", \"2020-09-05T12:00:00\", \"2020-09-05T20:00:00\", \"2020-09-14T12:00:00\", \"2020-09-15T05:00:00\", \"2020-09-15T11:00:00\", \"2020-09-15T19:00:00\", \"2020-09-16T13:00:00\", \"2020-09-17T12:00:00\", \"2020-09-18T11:00:00\"], \"xaxis\": \"x2\", \"y\": [0.38199999928474426, 0.38199999928474426, 0.38199999928474426, 0.38199999928474426, 0.38199999928474426, 0.38199999928474426, 0.38199999928474426, 0.38199999928474426, 0.38199999928474426, 0.38199999928474426, 0.38199999928474426, 0.3840000033378601, 0.3840000033378601, 0.3840000033378601, 0.3840000033378601, 0.3840000033378601, 0.3840000033378601, 0.382999986410141], \"yaxis\": \"y2\"}],\n",
              "                        {\"annotations\": [{\"font\": {\"size\": 16}, \"showarrow\": false, \"text\": \"Dim A (left) Cp: 0.82 Pp: 0.61 Cpk: 0.62 Ppk: 0.46\", \"x\": 0.5, \"xanchor\": \"center\", \"xref\": \"paper\", \"y\": 1.0, \"yanchor\": \"bottom\", \"yref\": \"paper\"}, {\"font\": {\"size\": 16}, \"showarrow\": false, \"text\": \"Dim A (right) Cp: 0.95 Pp: 0.69 Cpk: 0.78 Ppk: 0.57\", \"x\": 0.5, \"xanchor\": \"center\", \"xref\": \"paper\", \"y\": 0.375, \"yanchor\": \"bottom\", \"yref\": \"paper\"}], \"height\": 400, \"template\": {\"data\": {\"bar\": [{\"error_x\": {\"color\": \"#2a3f5f\"}, \"error_y\": {\"color\": \"#2a3f5f\"}, \"marker\": {\"line\": {\"color\": \"#E5ECF6\", \"width\": 0.5}}, \"type\": \"bar\"}], \"barpolar\": [{\"marker\": {\"line\": {\"color\": \"#E5ECF6\", \"width\": 0.5}}, \"type\": \"barpolar\"}], \"carpet\": [{\"aaxis\": {\"endlinecolor\": \"#2a3f5f\", \"gridcolor\": \"white\", \"linecolor\": \"white\", \"minorgridcolor\": \"white\", \"startlinecolor\": \"#2a3f5f\"}, \"baxis\": {\"endlinecolor\": \"#2a3f5f\", \"gridcolor\": \"white\", \"linecolor\": \"white\", \"minorgridcolor\": \"white\", \"startlinecolor\": \"#2a3f5f\"}, \"type\": \"carpet\"}], \"choropleth\": [{\"colorbar\": {\"outlinewidth\": 0, \"ticks\": \"\"}, \"type\": \"choropleth\"}], \"contour\": [{\"colorbar\": {\"outlinewidth\": 0, \"ticks\": \"\"}, \"colorscale\": [[0.0, \"#0d0887\"], [0.1111111111111111, \"#46039f\"], [0.2222222222222222, \"#7201a8\"], [0.3333333333333333, \"#9c179e\"], [0.4444444444444444, \"#bd3786\"], [0.5555555555555556, \"#d8576b\"], [0.6666666666666666, \"#ed7953\"], [0.7777777777777778, \"#fb9f3a\"], [0.8888888888888888, \"#fdca26\"], [1.0, \"#f0f921\"]], \"type\": \"contour\"}], \"contourcarpet\": [{\"colorbar\": {\"outlinewidth\": 0, \"ticks\": \"\"}, \"type\": \"contourcarpet\"}], \"heatmap\": [{\"colorbar\": {\"outlinewidth\": 0, \"ticks\": \"\"}, \"colorscale\": [[0.0, \"#0d0887\"], [0.1111111111111111, \"#46039f\"], [0.2222222222222222, \"#7201a8\"], [0.3333333333333333, \"#9c179e\"], [0.4444444444444444, \"#bd3786\"], [0.5555555555555556, \"#d8576b\"], [0.6666666666666666, \"#ed7953\"], [0.7777777777777778, \"#fb9f3a\"], [0.8888888888888888, \"#fdca26\"], [1.0, \"#f0f921\"]], \"type\": \"heatmap\"}], \"heatmapgl\": [{\"colorbar\": {\"outlinewidth\": 0, \"ticks\": \"\"}, \"colorscale\": [[0.0, \"#0d0887\"], [0.1111111111111111, \"#46039f\"], [0.2222222222222222, \"#7201a8\"], [0.3333333333333333, \"#9c179e\"], [0.4444444444444444, \"#bd3786\"], [0.5555555555555556, \"#d8576b\"], [0.6666666666666666, \"#ed7953\"], [0.7777777777777778, \"#fb9f3a\"], [0.8888888888888888, \"#fdca26\"], [1.0, \"#f0f921\"]], \"type\": \"heatmapgl\"}], \"histogram\": [{\"marker\": {\"colorbar\": {\"outlinewidth\": 0, \"ticks\": \"\"}}, \"type\": \"histogram\"}], \"histogram2d\": [{\"colorbar\": {\"outlinewidth\": 0, \"ticks\": \"\"}, \"colorscale\": [[0.0, \"#0d0887\"], [0.1111111111111111, \"#46039f\"], [0.2222222222222222, \"#7201a8\"], [0.3333333333333333, \"#9c179e\"], [0.4444444444444444, \"#bd3786\"], [0.5555555555555556, \"#d8576b\"], [0.6666666666666666, \"#ed7953\"], [0.7777777777777778, \"#fb9f3a\"], [0.8888888888888888, \"#fdca26\"], [1.0, \"#f0f921\"]], \"type\": \"histogram2d\"}], \"histogram2dcontour\": [{\"colorbar\": {\"outlinewidth\": 0, \"ticks\": \"\"}, \"colorscale\": [[0.0, \"#0d0887\"], [0.1111111111111111, \"#46039f\"], [0.2222222222222222, \"#7201a8\"], [0.3333333333333333, \"#9c179e\"], [0.4444444444444444, \"#bd3786\"], [0.5555555555555556, \"#d8576b\"], [0.6666666666666666, \"#ed7953\"], [0.7777777777777778, \"#fb9f3a\"], [0.8888888888888888, \"#fdca26\"], [1.0, \"#f0f921\"]], \"type\": \"histogram2dcontour\"}], \"mesh3d\": [{\"colorbar\": {\"outlinewidth\": 0, \"ticks\": \"\"}, \"type\": \"mesh3d\"}], \"parcoords\": [{\"line\": {\"colorbar\": {\"outlinewidth\": 0, \"ticks\": \"\"}}, \"type\": \"parcoords\"}], \"pie\": [{\"automargin\": true, \"type\": \"pie\"}], \"scatter\": [{\"marker\": {\"colorbar\": {\"outlinewidth\": 0, \"ticks\": \"\"}}, \"type\": \"scatter\"}], \"scatter3d\": [{\"line\": {\"colorbar\": {\"outlinewidth\": 0, \"ticks\": \"\"}}, \"marker\": {\"colorbar\": {\"outlinewidth\": 0, \"ticks\": \"\"}}, \"type\": \"scatter3d\"}], \"scattercarpet\": [{\"marker\": {\"colorbar\": {\"outlinewidth\": 0, \"ticks\": \"\"}}, \"type\": \"scattercarpet\"}], \"scattergeo\": [{\"marker\": {\"colorbar\": {\"outlinewidth\": 0, \"ticks\": \"\"}}, \"type\": \"scattergeo\"}], \"scattergl\": [{\"marker\": {\"colorbar\": {\"outlinewidth\": 0, \"ticks\": \"\"}}, \"type\": \"scattergl\"}], \"scattermapbox\": [{\"marker\": {\"colorbar\": {\"outlinewidth\": 0, \"ticks\": \"\"}}, \"type\": \"scattermapbox\"}], \"scatterpolar\": [{\"marker\": {\"colorbar\": {\"outlinewidth\": 0, \"ticks\": \"\"}}, \"type\": \"scatterpolar\"}], \"scatterpolargl\": [{\"marker\": {\"colorbar\": {\"outlinewidth\": 0, \"ticks\": \"\"}}, \"type\": \"scatterpolargl\"}], \"scatterternary\": [{\"marker\": {\"colorbar\": {\"outlinewidth\": 0, \"ticks\": \"\"}}, \"type\": \"scatterternary\"}], \"surface\": [{\"colorbar\": {\"outlinewidth\": 0, \"ticks\": \"\"}, \"colorscale\": [[0.0, \"#0d0887\"], [0.1111111111111111, \"#46039f\"], [0.2222222222222222, \"#7201a8\"], [0.3333333333333333, \"#9c179e\"], [0.4444444444444444, \"#bd3786\"], [0.5555555555555556, \"#d8576b\"], [0.6666666666666666, \"#ed7953\"], [0.7777777777777778, \"#fb9f3a\"], [0.8888888888888888, \"#fdca26\"], [1.0, \"#f0f921\"]], \"type\": \"surface\"}], \"table\": [{\"cells\": {\"fill\": {\"color\": \"#EBF0F8\"}, \"line\": {\"color\": \"white\"}}, \"header\": {\"fill\": {\"color\": \"#C8D4E3\"}, \"line\": {\"color\": \"white\"}}, \"type\": \"table\"}]}, \"layout\": {\"annotationdefaults\": {\"arrowcolor\": \"#2a3f5f\", \"arrowhead\": 0, \"arrowwidth\": 1}, \"coloraxis\": {\"colorbar\": {\"outlinewidth\": 0, \"ticks\": \"\"}}, \"colorscale\": {\"diverging\": [[0, \"#8e0152\"], [0.1, \"#c51b7d\"], [0.2, \"#de77ae\"], [0.3, \"#f1b6da\"], [0.4, \"#fde0ef\"], [0.5, \"#f7f7f7\"], [0.6, \"#e6f5d0\"], [0.7, \"#b8e186\"], [0.8, \"#7fbc41\"], [0.9, \"#4d9221\"], [1, \"#276419\"]], \"sequential\": [[0.0, \"#0d0887\"], [0.1111111111111111, \"#46039f\"], [0.2222222222222222, \"#7201a8\"], [0.3333333333333333, \"#9c179e\"], [0.4444444444444444, \"#bd3786\"], [0.5555555555555556, \"#d8576b\"], [0.6666666666666666, \"#ed7953\"], [0.7777777777777778, \"#fb9f3a\"], [0.8888888888888888, \"#fdca26\"], [1.0, \"#f0f921\"]], \"sequentialminus\": [[0.0, \"#0d0887\"], [0.1111111111111111, \"#46039f\"], [0.2222222222222222, \"#7201a8\"], [0.3333333333333333, \"#9c179e\"], [0.4444444444444444, \"#bd3786\"], [0.5555555555555556, \"#d8576b\"], [0.6666666666666666, \"#ed7953\"], [0.7777777777777778, \"#fb9f3a\"], [0.8888888888888888, \"#fdca26\"], [1.0, \"#f0f921\"]]}, \"colorway\": [\"#636efa\", \"#EF553B\", \"#00cc96\", \"#ab63fa\", \"#FFA15A\", \"#19d3f3\", \"#FF6692\", \"#B6E880\", \"#FF97FF\", \"#FECB52\"], \"font\": {\"color\": \"#2a3f5f\"}, \"geo\": {\"bgcolor\": \"white\", \"lakecolor\": \"white\", \"landcolor\": \"#E5ECF6\", \"showlakes\": true, \"showland\": true, \"subunitcolor\": \"white\"}, \"hoverlabel\": {\"align\": \"left\"}, \"hovermode\": \"closest\", \"mapbox\": {\"style\": \"light\"}, \"paper_bgcolor\": \"white\", \"plot_bgcolor\": \"#E5ECF6\", \"polar\": {\"angularaxis\": {\"gridcolor\": \"white\", \"linecolor\": \"white\", \"ticks\": \"\"}, \"bgcolor\": \"#E5ECF6\", \"radialaxis\": {\"gridcolor\": \"white\", \"linecolor\": \"white\", \"ticks\": \"\"}}, \"scene\": {\"xaxis\": {\"backgroundcolor\": \"#E5ECF6\", \"gridcolor\": \"white\", \"gridwidth\": 2, \"linecolor\": \"white\", \"showbackground\": true, \"ticks\": \"\", \"zerolinecolor\": \"white\"}, \"yaxis\": {\"backgroundcolor\": \"#E5ECF6\", \"gridcolor\": \"white\", \"gridwidth\": 2, \"linecolor\": \"white\", \"showbackground\": true, \"ticks\": \"\", \"zerolinecolor\": \"white\"}, \"zaxis\": {\"backgroundcolor\": \"#E5ECF6\", \"gridcolor\": \"white\", \"gridwidth\": 2, \"linecolor\": \"white\", \"showbackground\": true, \"ticks\": \"\", \"zerolinecolor\": \"white\"}}, \"shapedefaults\": {\"line\": {\"color\": \"#2a3f5f\"}}, \"ternary\": {\"aaxis\": {\"gridcolor\": \"white\", \"linecolor\": \"white\", \"ticks\": \"\"}, \"baxis\": {\"gridcolor\": \"white\", \"linecolor\": \"white\", \"ticks\": \"\"}, \"bgcolor\": \"#E5ECF6\", \"caxis\": {\"gridcolor\": \"white\", \"linecolor\": \"white\", \"ticks\": \"\"}}, \"title\": {\"x\": 0.05}, \"xaxis\": {\"automargin\": true, \"gridcolor\": \"white\", \"linecolor\": \"white\", \"ticks\": \"\", \"title\": {\"standoff\": 15}, \"zerolinecolor\": \"white\", \"zerolinewidth\": 2}, \"yaxis\": {\"automargin\": true, \"gridcolor\": \"white\", \"linecolor\": \"white\", \"ticks\": \"\", \"title\": {\"standoff\": 15}, \"zerolinecolor\": \"white\", \"zerolinewidth\": 2}}}, \"title\": {\"text\": \"Process: 26825-Cut MS legs\"}, \"width\": 1200, \"xaxis\": {\"anchor\": \"y\", \"domain\": [0.0, 1.0]}, \"xaxis2\": {\"anchor\": \"y2\", \"domain\": [0.0, 1.0]}, \"yaxis\": {\"anchor\": \"x\", \"domain\": [0.625, 1.0]}, \"yaxis2\": {\"anchor\": \"x2\", \"domain\": [0.0, 0.375]}},\n",
              "                        {\"responsive\": true}\n",
              "                    ).then(function(){\n",
              "                            \n",
              "var gd = document.getElementById('7571d79c-2c68-44bc-bb73-4e0b41fb730a');\n",
              "var x = new MutationObserver(function (mutations, observer) {{\n",
              "        var display = window.getComputedStyle(gd).display;\n",
              "        if (!display || display === 'none') {{\n",
              "            console.log([gd, 'removed!']);\n",
              "            Plotly.purge(gd);\n",
              "            observer.disconnect();\n",
              "        }}\n",
              "}});\n",
              "\n",
              "// Listen for the removal of the full notebook cells\n",
              "var notebookContainer = gd.closest('#notebook-container');\n",
              "if (notebookContainer) {{\n",
              "    x.observe(notebookContainer, {childList: true});\n",
              "}}\n",
              "\n",
              "// Listen for the clearing of the current output cell\n",
              "var outputEl = gd.closest('.output');\n",
              "if (outputEl) {{\n",
              "    x.observe(outputEl, {childList: true});\n",
              "}}\n",
              "\n",
              "                        })\n",
              "                };\n",
              "                \n",
              "            </script>\n",
              "        </div>\n",
              "</body>\n",
              "</html>"
            ]
          },
          "metadata": {
            "tags": []
          }
        }
      ]
    },
    {
      "cell_type": "markdown",
      "metadata": {
        "id": "dOLAWMLVa_WC",
        "colab_type": "text"
      },
      "source": [
        "### End better method"
      ]
    },
    {
      "cell_type": "markdown",
      "metadata": {
        "id": "dfDirt6ifeaP",
        "colab_type": "text"
      },
      "source": [
        "Original (stabel)"
      ]
    },
    {
      "cell_type": "code",
      "metadata": {
        "id": "uzAgm-42QU7U",
        "colab_type": "code",
        "colab": {}
      },
      "source": [
        "for sheet_name in list(base_week.keys())[:3]:\n",
        "  df_dict=base_week[sheet_name] # process\n",
        "\n",
        "  i=1\n",
        "  #Layout\n",
        "  fig = make_subplots(              # all dim in each process\n",
        "      rows=len(df_dict), cols=1,\n",
        "      #shared_xaxes=True, # share same axis\n",
        "      #vertical_spacing=0.05, # adjust spacing between charts\n",
        "      #column_widths=[0.8, 0.2],\n",
        "      subplot_titles=(list(df_dict.keys()))\n",
        "  )\n",
        "  for name in df_dict.keys(): #also group\n",
        "    df=df_dict[name].copy()\n",
        "    df=df.sort_values(by=['Date'])\n",
        "    for a in df.columns[1:]:\n",
        "      df[a] = df[a].round(decimals=3)\n",
        "    df=df.reset_index(drop=True)\n",
        "    try:\n",
        "      process_performance(df)\n",
        "    except: \n",
        "      print('error calculate process performance')\n",
        "    # Draw control chart\n",
        "    df=df.groupby('Date').mean()\n",
        "    #df=df.set_index('Date')\n",
        "    #if start_date != '':\n",
        "    #  df=df[start_date:end_date]\n",
        "    #Control chart 1 \n",
        "    fig.append_trace(go.Scatter(\n",
        "                            x=df.index, y=df['Value'],mode='lines+markers',\n",
        "                            name='mean ' + name,line=dict( color='#4280F5')\n",
        "                            ),row=i, col=1\n",
        "                  )\n",
        "    #USL, LSL\n",
        "    fig.append_trace(go.Scatter(x=df.index, y=df['USL'],name='USL '+name, line=dict( color='#FF5733'),mode='lines'),row=i, col=1)\n",
        "    fig.append_trace(go.Scatter(x=df.index, y=df['LSL'],name='LSL '+name,line=dict( color='#FF5733'),mode='lines'),row=i, col=1)\n",
        "    #fig.append_trace(go.Scatter(x=df['Datef'], y=df['Nominal'],name='Nominal '+name,line=dict( color='#FF5733')),row=i, col=1)\n",
        "    # UCL, LCL\n",
        "    fig.append_trace(go.Scatter(x=df.index, y=df['UCL'],name='UCL '+name, line=dict( color='#33C2FF'),mode='lines'),row=i, col=1)\n",
        "    fig.append_trace(go.Scatter(x=df.index, y=df['LCL'],name='LCL '+name, line=dict( color='#33C2FF'),mode='lines'),row=i, col=1)\n",
        "    fig.append_trace(go.Scatter(x=df.index, y=df['Mean'],name='Mean '+name, line=dict( color='#33C2FF'),mode='lines'),row=i, col=1)\n",
        "    i=i+1\n",
        "\n",
        "  fig.update_layout(height=200*len(df_dict), width=1200, title_text='process '+sheet_name)\n",
        "  fig.show()"
      ],
      "execution_count": null,
      "outputs": []
    },
    {
      "cell_type": "code",
      "metadata": {
        "id": "ki_LsfrLLp32",
        "colab_type": "code",
        "colab": {}
      },
      "source": [
        "import warnings\n",
        "warnings.filterwarnings(\"ignore\")"
      ],
      "execution_count": null,
      "outputs": []
    },
    {
      "cell_type": "markdown",
      "metadata": {
        "id": "ivCjur2xoGVt",
        "colab_type": "text"
      },
      "source": [
        "## Box plot chart"
      ]
    },
    {
      "cell_type": "code",
      "metadata": {
        "id": "zBy7-wK-Taad",
        "colab_type": "code",
        "colab": {}
      },
      "source": [
        "for sheet_name in base_week.keys():\n",
        "  df_dict=base_week[sheet_name]\n",
        "    \n",
        "  i=1\n",
        "  #Layout\n",
        "  fig = make_subplots(\n",
        "      rows=len(df_dict), cols=1,\n",
        "      #shared_xaxes=True, # share same axis\n",
        "      vertical_spacing=0.05, # adjust spacing between charts\n",
        "      #column_widths=[0.8, 0.2],\n",
        "      subplot_titles=(list(df_dict.keys()))\n",
        "  )\n",
        "  for name in df_dict.keys(): #also group\n",
        "    df=df_dict[name].copy()\n",
        "    df=df.sort_values(by=['Date'])\n",
        "    for a in df.columns[1:]:\n",
        "      df[a] = df[a].round(decimals=3)\n",
        "    df=df.set_index('Date')\n",
        "    #Control chart 1 \n",
        "    fig.append_trace(go.Box(\n",
        "                            x=df.index, y=df['Value'],\n",
        "                            name='mean ' + name, line=dict( color='#4280F5')\n",
        "                            ),row=i, col=1\n",
        "                  )\n",
        "    #USL, LSL\n",
        "    fig.append_trace(go.Scatter(x=df.index, y=df['USL'],name='USL '+name, line=dict( color='#FF5733')),row=i, col=1)\n",
        "    fig.append_trace(go.Scatter(x=df.index, y=df['LSL'],name='LSL '+name,line=dict( color='#FF5733')),row=i, col=1)\n",
        "    #fig.append_trace(go.Scatter(x=df['Datef'], y=df['Nominal'],name='Nominal '+name,line=dict( color='#FF5733')),row=i, col=1)\n",
        "    # UCL, LCL\n",
        "    i=i+1\n",
        "    \n",
        "  fig.update_layout(height=200*len(df_dict), width=1200, title_text=sheet_name)\n",
        "  #fig.show()"
      ],
      "execution_count": null,
      "outputs": []
    },
    {
      "cell_type": "code",
      "metadata": {
        "id": "7IFsAibZj9UO",
        "colab_type": "code",
        "colab": {}
      },
      "source": [
        ""
      ],
      "execution_count": null,
      "outputs": []
    },
    {
      "cell_type": "markdown",
      "metadata": {
        "id": "zaa00gwgbe1m",
        "colab_type": "text"
      },
      "source": [
        "## Py manufacturing"
      ]
    },
    {
      "cell_type": "code",
      "metadata": {
        "id": "YFAIX7chKYHY",
        "colab_type": "code",
        "colab": {}
      },
      "source": [
        "for sheet_name in base_week.keys():\n",
        "  print('process: ',sheet_name)\n",
        "  df_dict=base_week[sheet_name]\n",
        "  for name in df_dict.keys(): #also group\n",
        "    print('dim: ',name)\n",
        "    df=df_dict[name].copy()\n",
        "    df=df.sort_values(by=['Date'])\n",
        "    for a in df.columns[1:]:\n",
        "      df[a] = df[a].round(decimals=3)\n",
        "    try:\n",
        "      #mn.control_plot(df.Value, upper_control_limit=df.USL[0], lower_control_limit=df.LSL[0])\n",
        "      mn.ppk_plot(df.Value, upper_control_limit=df.USL[0], lower_control_limit=df.LSL[0])\n",
        "      mn.cpk_plot(df.Value, upper_control_limit=df.USL[0], lower_control_limit=df.LSL[0],\n",
        "              subgroup_size=df.Date.value_counts()[0])\n",
        "    except:\n",
        "      continue\n",
        "   "
      ],
      "execution_count": null,
      "outputs": []
    },
    {
      "cell_type": "markdown",
      "metadata": {
        "id": "CXkUAIqdo-Mi",
        "colab_type": "text"
      },
      "source": [
        "## Calculate Cp/CpK/Ppk from base week (last week)"
      ]
    },
    {
      "cell_type": "code",
      "metadata": {
        "id": "edgXSy7iGy5I",
        "colab_type": "code",
        "colab": {}
      },
      "source": [
        "constants={\n",
        "    2:1.128,\n",
        "    3:1.693,\n",
        "    4:2.059,\n",
        "    5:2.326,\n",
        "    6:2.534,\n",
        "    7:2.704,\n",
        "    8:2.847, \n",
        "    9: 2.970,\n",
        "    10: 3.078,\n",
        "    11: 3.173,\n",
        "    12: 3.258,\n",
        "    13: 3.336,\n",
        "    14: 3.407,\n",
        "    15: 3.472,\n",
        "    16: 3.532,\n",
        "    17:3.588,\n",
        "    18:3.640,\n",
        "    19:3.689,\n",
        "    20:3.735,\n",
        "}"
      ],
      "execution_count": null,
      "outputs": []
    },
    {
      "cell_type": "code",
      "metadata": {
        "id": "p95XoWTipDvK",
        "colab_type": "code",
        "colab": {
          "base_uri": "https://localhost:8080/",
          "height": 442
        },
        "outputId": "05c30d48-ff15-4c6c-fac7-c5c13e38ce46"
      },
      "source": [
        "import statistics as st\n",
        "process_indicator={}\n",
        "for process_name in base_week.keys():\n",
        "  try:\n",
        "    #print(process_name)\n",
        "    process_dict=base_week[process_name]\n",
        "    for dim in process_dict.keys():\n",
        "      #print(dim)\n",
        "      df=process_dict[dim]\n",
        "      usl=df.USL[0]\n",
        "      lsl=df.LSL[0]\n",
        "      m=df.Mean[0]\n",
        "\n",
        "      #Ppk\n",
        "      sigma=st.stdev(df.Value)\n",
        "      Pp = float(usl - lsl) / (6*sigma)\n",
        "      Ppu = float(usl - m) / (3*sigma)\n",
        "      Ppl = float(m - lsl) / (3*sigma)\n",
        "      Ppk = np.min([Ppu, Ppl])\n",
        "      #print('Pp',Pp)\n",
        "      #print('Ppk',Ppk)\n",
        "\n",
        "      #Cpk\n",
        "      n=df.Date.value_counts()[0]\n",
        "      temp=df.groupby('Date').agg({'Value':['min','max']})\n",
        "      temp['R']=temp['Value','max']-temp['Value','min']\n",
        "      R=temp['R'].mean()\n",
        "\n",
        "      if n <= 20:\n",
        "        sigma_within = R/constants[n]\n",
        "      else:\n",
        "        sigma_within = R/constants[20]\n",
        "      \n",
        "      Cp = float(usl - lsl) / (6*sigma_within)\n",
        "      Cpu = float(usl - m) / (3*sigma_within)\n",
        "      Cpl = float(m - lsl) / (3*sigma_within)\n",
        "      Cpk = np.min([Cpu, Cpl])\n",
        "      #print('Cp',Cp)\n",
        "      #print('Cpk',Cpk)\n",
        "  except:\n",
        "    print('error:')\n",
        "    print('process_name: ',process_name)\n",
        "    print('dim: ',dim)\n",
        "    continue"
      ],
      "execution_count": null,
      "outputs": [
        {
          "output_type": "stream",
          "text": [
            "error:\n",
            "process_name:  37670-39670\n",
            "dim:  3500T Đường kính lỗ bù (dim B)\n",
            "error:\n",
            "process_name:  30470-37470\n",
            "dim:  30470 Chiều dài drive pin sau khi cắt_Dim B \n",
            "error:\n",
            "process_name:  38940\n",
            "dim:  Spout 12-DL_ Vị trí C\n",
            "error:\n",
            "process_name:  30538\n",
            "dim:  Lực của mối hàn\n",
            "Welding spot strength\n",
            "error:\n",
            "process_name:  30750-30940-39750 _S1\n",
            "dim:  Spout  1-SN_ Connection strength (3300U)\n",
            "error:\n",
            "process_name:  30750-30940-39750 _S2\n",
            "dim:  Spout 12-DL (single)_ Connection strength \n",
            "error:\n",
            "process_name:  37750-37940_S1\n",
            "dim:  Spout  EL _ Vị trí C_11s\n",
            "error:\n",
            "process_name:  37750-37940_S2\n",
            "dim:  Spout  1-SN (3700U) _ Connection strength\n"
          ],
          "name": "stdout"
        }
      ]
    },
    {
      "cell_type": "code",
      "metadata": {
        "id": "j45HIS87pDyC",
        "colab_type": "code",
        "colab": {
          "base_uri": "https://localhost:8080/",
          "height": 323
        },
        "outputId": "5ae287f3-7574-4381-d19f-593dc7dd1d7c"
      },
      "source": [
        "import statistics as st\n",
        "process_name='38682'\n",
        "process_dict=base_week[process_name]\n",
        "process_indicator={}\n",
        "for dim in process_dict.keys():\n",
        "  print(dim)\n",
        "  df=process_dict[dim]\n",
        "  # PPk\"\n",
        "  sigma=st.stdev(df.Value)\n",
        "  usl=df.USL[0]\n",
        "  lsl=df.LSL[0]\n",
        "  m=df.Mean[0]\n",
        "  Pp = float(usl - lsl) / (6*sigma)\n",
        "  Ppu = float(usl - m) / (3*sigma)\n",
        "  Ppl = float(m - lsl) / (3*sigma)\n",
        "  Ppk = np.min([Ppu, Ppl])\n",
        "  print('Pp',Pp)\n",
        "  print('Ppk',Ppk)\n",
        "  # CPK\"\n",
        " "
      ],
      "execution_count": null,
      "outputs": [
        {
          "output_type": "stream",
          "text": [
            "Hinge Dim F\n",
            "Pp 0.8979230733571717\n",
            "Ppk 0.7243247128588255\n",
            "Chiều dài Dim B\n",
            "Pp 0.611506076738254\n",
            "Ppk 0.36690656193393173\n",
            "Chiều rộng Dim A\n",
            "Pp 0.5632059313075698\n",
            "Ppk 0.5181419371853514\n",
            "L.Tâm Dim N\n",
            "Pp 1.4544298377882001\n",
            "Ppk 0.8959287618724691\n",
            "Offset Dim M\n",
            "Pp nan\n",
            "Ppk nan\n",
            "Ba vớ trên membrane\n",
            "Pp nan\n",
            "Ppk nan\n"
          ],
          "name": "stdout"
        }
      ]
    },
    {
      "cell_type": "code",
      "metadata": {
        "id": "oATgQDHsw7wb",
        "colab_type": "code",
        "colab": {
          "base_uri": "https://localhost:8080/",
          "height": 54
        },
        "outputId": "91781cbd-de42-4be7-9aa8-374535d45876"
      },
      "source": [
        " process_dict.keys()"
      ],
      "execution_count": null,
      "outputs": [
        {
          "output_type": "execute_result",
          "data": {
            "text/plain": [
              "dict_keys(['Hinge Dim F', 'Chiều dài Dim B', 'Chiều rộng Dim A', 'L.Tâm Dim N', 'Offset Dim M', 'Ba vớ trên membrane'])"
            ]
          },
          "metadata": {
            "tags": []
          },
          "execution_count": 54
        }
      ]
    },
    {
      "cell_type": "code",
      "metadata": {
        "id": "FDne-eJKw-ci",
        "colab_type": "code",
        "colab": {
          "base_uri": "https://localhost:8080/",
          "height": 514
        },
        "outputId": "fac799f3-77ed-4ec7-a0e8-84e4ea746f98"
      },
      "source": [
        "df=process_dict['Hinge Dim F']\n",
        "df"
      ],
      "execution_count": null,
      "outputs": [
        {
          "output_type": "execute_result",
          "data": {
            "text/html": [
              "<div>\n",
              "<style scoped>\n",
              "    .dataframe tbody tr th:only-of-type {\n",
              "        vertical-align: middle;\n",
              "    }\n",
              "\n",
              "    .dataframe tbody tr th {\n",
              "        vertical-align: top;\n",
              "    }\n",
              "\n",
              "    .dataframe thead th {\n",
              "        text-align: right;\n",
              "    }\n",
              "</style>\n",
              "<table border=\"1\" class=\"dataframe\">\n",
              "  <thead>\n",
              "    <tr style=\"text-align: right;\">\n",
              "      <th></th>\n",
              "      <th>Date</th>\n",
              "      <th>Value</th>\n",
              "      <th>USL</th>\n",
              "      <th>LSL</th>\n",
              "      <th>UCL</th>\n",
              "      <th>LCL</th>\n",
              "      <th>Mean</th>\n",
              "    </tr>\n",
              "  </thead>\n",
              "  <tbody>\n",
              "    <tr>\n",
              "      <th>0</th>\n",
              "      <td>2020-09-04 16:00:00</td>\n",
              "      <td>0.231</td>\n",
              "      <td>0.25</td>\n",
              "      <td>0.21</td>\n",
              "      <td>0.25614</td>\n",
              "      <td>0.211593</td>\n",
              "      <td>0.233867</td>\n",
              "    </tr>\n",
              "    <tr>\n",
              "      <th>1</th>\n",
              "      <td>2020-09-04 16:00:00</td>\n",
              "      <td>0.231</td>\n",
              "      <td>0.25</td>\n",
              "      <td>0.21</td>\n",
              "      <td>0.25614</td>\n",
              "      <td>0.211593</td>\n",
              "      <td>0.233867</td>\n",
              "    </tr>\n",
              "    <tr>\n",
              "      <th>2</th>\n",
              "      <td>2020-09-04 16:00:00</td>\n",
              "      <td>0.228</td>\n",
              "      <td>0.25</td>\n",
              "      <td>0.21</td>\n",
              "      <td>0.25614</td>\n",
              "      <td>0.211593</td>\n",
              "      <td>0.233867</td>\n",
              "    </tr>\n",
              "    <tr>\n",
              "      <th>3</th>\n",
              "      <td>2020-09-05 08:00:00</td>\n",
              "      <td>0.241</td>\n",
              "      <td>0.25</td>\n",
              "      <td>0.21</td>\n",
              "      <td>0.25614</td>\n",
              "      <td>0.211593</td>\n",
              "      <td>0.233867</td>\n",
              "    </tr>\n",
              "    <tr>\n",
              "      <th>4</th>\n",
              "      <td>2020-09-05 08:00:00</td>\n",
              "      <td>0.237</td>\n",
              "      <td>0.25</td>\n",
              "      <td>0.21</td>\n",
              "      <td>0.25614</td>\n",
              "      <td>0.211593</td>\n",
              "      <td>0.233867</td>\n",
              "    </tr>\n",
              "    <tr>\n",
              "      <th>5</th>\n",
              "      <td>2020-09-05 08:00:00</td>\n",
              "      <td>0.246</td>\n",
              "      <td>0.25</td>\n",
              "      <td>0.21</td>\n",
              "      <td>0.25614</td>\n",
              "      <td>0.211593</td>\n",
              "      <td>0.233867</td>\n",
              "    </tr>\n",
              "    <tr>\n",
              "      <th>6</th>\n",
              "      <td>2020-09-07 09:00:00</td>\n",
              "      <td>0.239</td>\n",
              "      <td>0.25</td>\n",
              "      <td>0.21</td>\n",
              "      <td>0.25614</td>\n",
              "      <td>0.211593</td>\n",
              "      <td>0.233867</td>\n",
              "    </tr>\n",
              "    <tr>\n",
              "      <th>7</th>\n",
              "      <td>2020-09-07 09:00:00</td>\n",
              "      <td>0.217</td>\n",
              "      <td>0.25</td>\n",
              "      <td>0.21</td>\n",
              "      <td>0.25614</td>\n",
              "      <td>0.211593</td>\n",
              "      <td>0.233867</td>\n",
              "    </tr>\n",
              "    <tr>\n",
              "      <th>8</th>\n",
              "      <td>2020-09-07 09:00:00</td>\n",
              "      <td>0.242</td>\n",
              "      <td>0.25</td>\n",
              "      <td>0.21</td>\n",
              "      <td>0.25614</td>\n",
              "      <td>0.211593</td>\n",
              "      <td>0.233867</td>\n",
              "    </tr>\n",
              "    <tr>\n",
              "      <th>9</th>\n",
              "      <td>2020-09-08 10:00:00</td>\n",
              "      <td>0.232</td>\n",
              "      <td>0.25</td>\n",
              "      <td>0.21</td>\n",
              "      <td>0.25614</td>\n",
              "      <td>0.211593</td>\n",
              "      <td>0.233867</td>\n",
              "    </tr>\n",
              "    <tr>\n",
              "      <th>10</th>\n",
              "      <td>2020-09-08 10:00:00</td>\n",
              "      <td>0.240</td>\n",
              "      <td>0.25</td>\n",
              "      <td>0.21</td>\n",
              "      <td>0.25614</td>\n",
              "      <td>0.211593</td>\n",
              "      <td>0.233867</td>\n",
              "    </tr>\n",
              "    <tr>\n",
              "      <th>11</th>\n",
              "      <td>2020-09-08 10:00:00</td>\n",
              "      <td>0.230</td>\n",
              "      <td>0.25</td>\n",
              "      <td>0.21</td>\n",
              "      <td>0.25614</td>\n",
              "      <td>0.211593</td>\n",
              "      <td>0.233867</td>\n",
              "    </tr>\n",
              "    <tr>\n",
              "      <th>12</th>\n",
              "      <td>2020-09-08 16:00:00</td>\n",
              "      <td>0.235</td>\n",
              "      <td>0.25</td>\n",
              "      <td>0.21</td>\n",
              "      <td>0.25614</td>\n",
              "      <td>0.211593</td>\n",
              "      <td>0.233867</td>\n",
              "    </tr>\n",
              "    <tr>\n",
              "      <th>13</th>\n",
              "      <td>2020-09-08 16:00:00</td>\n",
              "      <td>0.225</td>\n",
              "      <td>0.25</td>\n",
              "      <td>0.21</td>\n",
              "      <td>0.25614</td>\n",
              "      <td>0.211593</td>\n",
              "      <td>0.233867</td>\n",
              "    </tr>\n",
              "    <tr>\n",
              "      <th>14</th>\n",
              "      <td>2020-09-08 16:00:00</td>\n",
              "      <td>0.234</td>\n",
              "      <td>0.25</td>\n",
              "      <td>0.21</td>\n",
              "      <td>0.25614</td>\n",
              "      <td>0.211593</td>\n",
              "      <td>0.233867</td>\n",
              "    </tr>\n",
              "  </tbody>\n",
              "</table>\n",
              "</div>"
            ],
            "text/plain": [
              "                  Date  Value   USL   LSL      UCL       LCL      Mean\n",
              "0  2020-09-04 16:00:00  0.231  0.25  0.21  0.25614  0.211593  0.233867\n",
              "1  2020-09-04 16:00:00  0.231  0.25  0.21  0.25614  0.211593  0.233867\n",
              "2  2020-09-04 16:00:00  0.228  0.25  0.21  0.25614  0.211593  0.233867\n",
              "3  2020-09-05 08:00:00  0.241  0.25  0.21  0.25614  0.211593  0.233867\n",
              "4  2020-09-05 08:00:00  0.237  0.25  0.21  0.25614  0.211593  0.233867\n",
              "5  2020-09-05 08:00:00  0.246  0.25  0.21  0.25614  0.211593  0.233867\n",
              "6  2020-09-07 09:00:00  0.239  0.25  0.21  0.25614  0.211593  0.233867\n",
              "7  2020-09-07 09:00:00  0.217  0.25  0.21  0.25614  0.211593  0.233867\n",
              "8  2020-09-07 09:00:00  0.242  0.25  0.21  0.25614  0.211593  0.233867\n",
              "9  2020-09-08 10:00:00  0.232  0.25  0.21  0.25614  0.211593  0.233867\n",
              "10 2020-09-08 10:00:00  0.240  0.25  0.21  0.25614  0.211593  0.233867\n",
              "11 2020-09-08 10:00:00  0.230  0.25  0.21  0.25614  0.211593  0.233867\n",
              "12 2020-09-08 16:00:00  0.235  0.25  0.21  0.25614  0.211593  0.233867\n",
              "13 2020-09-08 16:00:00  0.225  0.25  0.21  0.25614  0.211593  0.233867\n",
              "14 2020-09-08 16:00:00  0.234  0.25  0.21  0.25614  0.211593  0.233867"
            ]
          },
          "metadata": {
            "tags": []
          },
          "execution_count": 87
        }
      ]
    },
    {
      "cell_type": "code",
      "metadata": {
        "id": "v9e84ob7F7Nd",
        "colab_type": "code",
        "colab": {
          "base_uri": "https://localhost:8080/",
          "height": 34
        },
        "outputId": "91f60402-8a93-4f2c-d68f-4a73cbe76c1e"
      },
      "source": [
        ""
      ],
      "execution_count": null,
      "outputs": [
        {
          "output_type": "execute_result",
          "data": {
            "text/plain": [
              "3"
            ]
          },
          "metadata": {
            "tags": []
          },
          "execution_count": 111
        }
      ]
    },
    {
      "cell_type": "code",
      "metadata": {
        "id": "0EP7IjkN5BY5",
        "colab_type": "code",
        "colab": {}
      },
      "source": [
        "usl=df.USL[0]\n",
        "lsl=df.LSL[0]\n",
        "m=df.Mean[0]"
      ],
      "execution_count": null,
      "outputs": []
    },
    {
      "cell_type": "code",
      "metadata": {
        "id": "FOFz_51-28z2",
        "colab_type": "code",
        "colab": {
          "base_uri": "https://localhost:8080/",
          "height": 266
        },
        "outputId": "0b4633c0-7c5a-4bad-d755-f8d023ffca98"
      },
      "source": [
        "temp=df.groupby('Date').agg({'Value':['min','max']})\n",
        "temp"
      ],
      "execution_count": null,
      "outputs": [
        {
          "output_type": "execute_result",
          "data": {
            "text/html": [
              "<div>\n",
              "<style scoped>\n",
              "    .dataframe tbody tr th:only-of-type {\n",
              "        vertical-align: middle;\n",
              "    }\n",
              "\n",
              "    .dataframe tbody tr th {\n",
              "        vertical-align: top;\n",
              "    }\n",
              "\n",
              "    .dataframe thead tr th {\n",
              "        text-align: left;\n",
              "    }\n",
              "\n",
              "    .dataframe thead tr:last-of-type th {\n",
              "        text-align: right;\n",
              "    }\n",
              "</style>\n",
              "<table border=\"1\" class=\"dataframe\">\n",
              "  <thead>\n",
              "    <tr>\n",
              "      <th></th>\n",
              "      <th colspan=\"2\" halign=\"left\">Value</th>\n",
              "    </tr>\n",
              "    <tr>\n",
              "      <th></th>\n",
              "      <th>min</th>\n",
              "      <th>max</th>\n",
              "    </tr>\n",
              "    <tr>\n",
              "      <th>Date</th>\n",
              "      <th></th>\n",
              "      <th></th>\n",
              "    </tr>\n",
              "  </thead>\n",
              "  <tbody>\n",
              "    <tr>\n",
              "      <th>2020-09-04 16:00:00</th>\n",
              "      <td>0.228</td>\n",
              "      <td>0.231</td>\n",
              "    </tr>\n",
              "    <tr>\n",
              "      <th>2020-09-05 08:00:00</th>\n",
              "      <td>0.237</td>\n",
              "      <td>0.246</td>\n",
              "    </tr>\n",
              "    <tr>\n",
              "      <th>2020-09-07 09:00:00</th>\n",
              "      <td>0.217</td>\n",
              "      <td>0.242</td>\n",
              "    </tr>\n",
              "    <tr>\n",
              "      <th>2020-09-08 10:00:00</th>\n",
              "      <td>0.230</td>\n",
              "      <td>0.240</td>\n",
              "    </tr>\n",
              "    <tr>\n",
              "      <th>2020-09-08 16:00:00</th>\n",
              "      <td>0.225</td>\n",
              "      <td>0.235</td>\n",
              "    </tr>\n",
              "  </tbody>\n",
              "</table>\n",
              "</div>"
            ],
            "text/plain": [
              "                     Value       \n",
              "                       min    max\n",
              "Date                             \n",
              "2020-09-04 16:00:00  0.228  0.231\n",
              "2020-09-05 08:00:00  0.237  0.246\n",
              "2020-09-07 09:00:00  0.217  0.242\n",
              "2020-09-08 10:00:00  0.230  0.240\n",
              "2020-09-08 16:00:00  0.225  0.235"
            ]
          },
          "metadata": {
            "tags": []
          },
          "execution_count": 101
        }
      ]
    },
    {
      "cell_type": "code",
      "metadata": {
        "id": "gghLv0xa4IXc",
        "colab_type": "code",
        "colab": {
          "base_uri": "https://localhost:8080/",
          "height": 68
        },
        "outputId": "14c52e4c-2a1e-4c01-ea26-0fbba5eb0f29"
      },
      "source": [
        "temp.columns"
      ],
      "execution_count": null,
      "outputs": [
        {
          "output_type": "execute_result",
          "data": {
            "text/plain": [
              "MultiIndex([('Value', 'min'),\n",
              "            ('Value', 'max')],\n",
              "           )"
            ]
          },
          "metadata": {
            "tags": []
          },
          "execution_count": 102
        }
      ]
    },
    {
      "cell_type": "code",
      "metadata": {
        "id": "nLb--aZ14Ovy",
        "colab_type": "code",
        "colab": {
          "base_uri": "https://localhost:8080/",
          "height": 136
        },
        "outputId": "bbd8f9a5-5b3e-4c66-d775-867fa2fb7fb8"
      },
      "source": [
        "temp['Value','min']"
      ],
      "execution_count": null,
      "outputs": [
        {
          "output_type": "execute_result",
          "data": {
            "text/plain": [
              "Date\n",
              "2020-09-04 16:00:00    0.228\n",
              "2020-09-05 08:00:00    0.237\n",
              "2020-09-07 09:00:00    0.217\n",
              "2020-09-08 10:00:00    0.230\n",
              "2020-09-08 16:00:00    0.225\n",
              "Name: (Value, min), dtype: float32"
            ]
          },
          "metadata": {
            "tags": []
          },
          "execution_count": 103
        }
      ]
    },
    {
      "cell_type": "code",
      "metadata": {
        "id": "ELlUPXTm4GAJ",
        "colab_type": "code",
        "colab": {}
      },
      "source": [
        "temp['R']=temp['Value','max']-temp['Value','min']"
      ],
      "execution_count": null,
      "outputs": []
    },
    {
      "cell_type": "code",
      "metadata": {
        "id": "mPaNseaK4hV3",
        "colab_type": "code",
        "colab": {
          "base_uri": "https://localhost:8080/",
          "height": 266
        },
        "outputId": "66578d00-1ae2-4729-e3e5-54d157614c80"
      },
      "source": [
        "temp"
      ],
      "execution_count": null,
      "outputs": [
        {
          "output_type": "execute_result",
          "data": {
            "text/html": [
              "<div>\n",
              "<style scoped>\n",
              "    .dataframe tbody tr th:only-of-type {\n",
              "        vertical-align: middle;\n",
              "    }\n",
              "\n",
              "    .dataframe tbody tr th {\n",
              "        vertical-align: top;\n",
              "    }\n",
              "\n",
              "    .dataframe thead tr th {\n",
              "        text-align: left;\n",
              "    }\n",
              "\n",
              "    .dataframe thead tr:last-of-type th {\n",
              "        text-align: right;\n",
              "    }\n",
              "</style>\n",
              "<table border=\"1\" class=\"dataframe\">\n",
              "  <thead>\n",
              "    <tr>\n",
              "      <th></th>\n",
              "      <th colspan=\"2\" halign=\"left\">Value</th>\n",
              "      <th>R</th>\n",
              "    </tr>\n",
              "    <tr>\n",
              "      <th></th>\n",
              "      <th>min</th>\n",
              "      <th>max</th>\n",
              "      <th></th>\n",
              "    </tr>\n",
              "    <tr>\n",
              "      <th>Date</th>\n",
              "      <th></th>\n",
              "      <th></th>\n",
              "      <th></th>\n",
              "    </tr>\n",
              "  </thead>\n",
              "  <tbody>\n",
              "    <tr>\n",
              "      <th>2020-09-04 16:00:00</th>\n",
              "      <td>0.228</td>\n",
              "      <td>0.231</td>\n",
              "      <td>0.003</td>\n",
              "    </tr>\n",
              "    <tr>\n",
              "      <th>2020-09-05 08:00:00</th>\n",
              "      <td>0.237</td>\n",
              "      <td>0.246</td>\n",
              "      <td>0.009</td>\n",
              "    </tr>\n",
              "    <tr>\n",
              "      <th>2020-09-07 09:00:00</th>\n",
              "      <td>0.217</td>\n",
              "      <td>0.242</td>\n",
              "      <td>0.025</td>\n",
              "    </tr>\n",
              "    <tr>\n",
              "      <th>2020-09-08 10:00:00</th>\n",
              "      <td>0.230</td>\n",
              "      <td>0.240</td>\n",
              "      <td>0.010</td>\n",
              "    </tr>\n",
              "    <tr>\n",
              "      <th>2020-09-08 16:00:00</th>\n",
              "      <td>0.225</td>\n",
              "      <td>0.235</td>\n",
              "      <td>0.010</td>\n",
              "    </tr>\n",
              "  </tbody>\n",
              "</table>\n",
              "</div>"
            ],
            "text/plain": [
              "                     Value             R\n",
              "                       min    max       \n",
              "Date                                    \n",
              "2020-09-04 16:00:00  0.228  0.231  0.003\n",
              "2020-09-05 08:00:00  0.237  0.246  0.009\n",
              "2020-09-07 09:00:00  0.217  0.242  0.025\n",
              "2020-09-08 10:00:00  0.230  0.240  0.010\n",
              "2020-09-08 16:00:00  0.225  0.235  0.010"
            ]
          },
          "metadata": {
            "tags": []
          },
          "execution_count": 105
        }
      ]
    },
    {
      "cell_type": "code",
      "metadata": {
        "id": "-7ZbJBAp4zkX",
        "colab_type": "code",
        "colab": {
          "base_uri": "https://localhost:8080/",
          "height": 34
        },
        "outputId": "a11ec8bb-4391-4ba7-866b-6a7aa595703d"
      },
      "source": [
        "R=temp['R'].mean()\n",
        "R"
      ],
      "execution_count": null,
      "outputs": [
        {
          "output_type": "execute_result",
          "data": {
            "text/plain": [
              "0.011400002054870129"
            ]
          },
          "metadata": {
            "tags": []
          },
          "execution_count": 106
        }
      ]
    },
    {
      "cell_type": "code",
      "metadata": {
        "id": "fE8KjihS4zrm",
        "colab_type": "code",
        "colab": {}
      },
      "source": [
        "constants={\n",
        "    2:1.128,\n",
        "    3:1.693,\n",
        "    4:2.059,\n",
        "    5:2.326,\n",
        "    6:2.534,\n",
        "    7:2.704,\n",
        "    8:2.847, \n",
        "    9: 2.970,\n",
        "    10: 3.078,\n",
        "    11: 3.173,\n",
        "    12: 3.258,\n",
        "    13: 3.336,\n",
        "    14: 3.407,\n",
        "    15: 3.472\n",
        "}"
      ],
      "execution_count": null,
      "outputs": []
    },
    {
      "cell_type": "code",
      "metadata": {
        "id": "RZiIqLB64zng",
        "colab_type": "code",
        "colab": {
          "base_uri": "https://localhost:8080/",
          "height": 34
        },
        "outputId": "bfd656b8-335e-4df4-821d-4d891377ef51"
      },
      "source": [
        "n=df.Date.value_counts()[0]\n",
        "sigma_within=R/constants[n]\n",
        "sigma_within"
      ],
      "execution_count": null,
      "outputs": [
        {
          "output_type": "execute_result",
          "data": {
            "text/plain": [
              "0.006733610191890211"
            ]
          },
          "metadata": {
            "tags": []
          },
          "execution_count": 112
        }
      ]
    },
    {
      "cell_type": "code",
      "metadata": {
        "id": "dndoOXmv6e4P",
        "colab_type": "code",
        "colab": {
          "base_uri": "https://localhost:8080/",
          "height": 85
        },
        "outputId": "b7a56f5a-9ac5-412d-b25f-487e9282f01c"
      },
      "source": [
        "usl=df.USL[0]\n",
        "lsl=df.LSL[0]\n",
        "m=df.Mean[0]\n",
        "Cp = float(usl - lsl) / (6*sigma_within)\n",
        "Cpu = float(usl - m) / (3*sigma_within)\n",
        "Cpl = float(m - lsl) / (3*sigma_within)\n",
        "Cpk = np.min([Cpu, Cpl])\n",
        "print('Cp',Cp)\n",
        "print('Cpk',Cpk)\n",
        "\n",
        "sigma=st.stdev(df.Value)\n",
        "Pp = float(usl - lsl) / (6*sigma)\n",
        "Ppu = float(usl - m) / (3*sigma)\n",
        "Ppl = float(m - lsl) / (3*sigma)\n",
        "Ppk = np.min([Ppu, Ppl])\n",
        "print('Pp',Pp)\n",
        "print('Ppk',Ppk)"
      ],
      "execution_count": null,
      "outputs": [
        {
          "output_type": "stream",
          "text": [
            "Cp 0.9900584633556088\n",
            "Cpk 0.7986472710878285\n",
            "Pp 0.8979230733571717\n",
            "Ppk 0.7243247128588255\n"
          ],
          "name": "stdout"
        }
      ]
    },
    {
      "cell_type": "code",
      "metadata": {
        "id": "DugU7NxWxJD0",
        "colab_type": "code",
        "colab": {
          "base_uri": "https://localhost:8080/",
          "height": 105
        },
        "outputId": "c8684c3c-2d1f-489e-8a88-2eaecce84e8a"
      },
      "source": [
        "#!pip install manufacturing"
      ],
      "execution_count": null,
      "outputs": [
        {
          "output_type": "stream",
          "text": [
            "Collecting manufacturing\n",
            "  Downloading https://files.pythonhosted.org/packages/fd/e4/f70576b033af2dbc2874d90469349c35b1f1fb81cac809a4e95dd7d4f7dc/manufacturing-0.9.5-py3-none-any.whl\n",
            "Installing collected packages: manufacturing\n",
            "Successfully installed manufacturing-0.9.5\n"
          ],
          "name": "stdout"
        }
      ]
    },
    {
      "cell_type": "code",
      "metadata": {
        "id": "WTgQ1jNHpD4B",
        "colab_type": "code",
        "colab": {
          "base_uri": "https://localhost:8080/",
          "height": 348
        },
        "outputId": "e2015f34-0425-4afb-8bd0-da0e5cb1242d"
      },
      "source": [
        "import manufacturing as mn\n",
        "mn.ppk_plot(df.Value, upper_control_limit=df.USL[0], lower_control_limit=df.LSL[0])"
      ],
      "execution_count": null,
      "outputs": [
        {
          "output_type": "stream",
          "text": [
            "/usr/local/lib/python3.6/dist-packages/scipy/stats/stats.py:1535: UserWarning:\n",
            "\n",
            "kurtosistest only valid for n>=20 ... continuing anyway, n=15\n",
            "\n"
          ],
          "name": "stderr"
        },
        {
          "output_type": "display_data",
          "data": {
            "image/png": "[encoded data removed]",
            "text/plain": [
              "<Figure size 432x288 with 1 Axes>"
            ]
          },
          "metadata": {
            "tags": [],
            "needs_background": "light"
          }
        }
      ]
    },
    {
      "cell_type": "code",
      "metadata": {
        "id": "FNypUAwmpD1f",
        "colab_type": "code",
        "colab": {
          "base_uri": "https://localhost:8080/",
          "height": 529
        },
        "outputId": "d2bf6938-7484-4447-d93f-0bd358c9831f"
      },
      "source": [
        "mn.cpk_plot(df.Value, upper_control_limit=df.USL[0], lower_control_limit=df.LSL[0],\n",
        "            subgroup_size=3)"
      ],
      "execution_count": null,
      "outputs": [
        {
          "output_type": "stream",
          "text": [
            "shapiro test indicates that the distribution is NOT normal\n",
            "skewtest is not valid with less than 8 samples; 3 samples were given.\n",
            "the data set is most likely not normally distributed\n",
            "skewtest is not valid with less than 8 samples; 3 samples were given.\n",
            "the zupper and zlower limits are strongly imbalanced, indicating that the process is off-center with reference to the limits\n",
            "skewtest is not valid with less than 8 samples; 3 samples were given.\n",
            "skewtest is not valid with less than 8 samples; 3 samples were given.\n",
            "the zupper and zlower limits are strongly imbalanced, indicating that the process is off-center with reference to the limits\n",
            "skewtest is not valid with less than 8 samples; 3 samples were given.\n",
            "/usr/local/lib/python3.6/dist-packages/scipy/stats/stats.py:1535: UserWarning:\n",
            "\n",
            "kurtosistest only valid for n>=20 ... continuing anyway, n=15\n",
            "\n"
          ],
          "name": "stderr"
        },
        {
          "output_type": "display_data",
          "data": {
            "image/png": "[encoded data removed]",
            "text/plain": [
              "<Figure size 432x288 with 2 Axes>"
            ]
          },
          "metadata": {
            "tags": [],
            "needs_background": "light"
          }
        }
      ]
    },
    {
      "cell_type": "code",
      "metadata": {
        "id": "SM7wlKg4x_zh",
        "colab_type": "code",
        "colab": {
          "base_uri": "https://localhost:8080/",
          "height": 284
        },
        "outputId": "ae76e391-bb2d-492f-9e8e-a57e496d7119"
      },
      "source": [
        "mn.control_plot(df.Value, upper_control_limit=df.USL[0], lower_control_limit=df.LSL[0])\n",
        "# Khong group df ở đây"
      ],
      "execution_count": null,
      "outputs": [
        {
          "output_type": "display_data",
          "data": {
            "image/png": "[encoded data removed]",
            "text/plain": [
              "<Figure size 432x288 with 1 Axes>"
            ]
          },
          "metadata": {
            "tags": [],
            "needs_background": "light"
          }
        }
      ]
    },
    {
      "cell_type": "code",
      "metadata": {
        "id": "7qjzTuYCXvRS",
        "colab_type": "code",
        "colab": {}
      },
      "source": [
        ""
      ],
      "execution_count": null,
      "outputs": []
    }
  ]
}