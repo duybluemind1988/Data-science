{
  "nbformat": 4,
  "nbformat_minor": 0,
  "metadata": {
    "colab": {
      "name": "Sonion_process_control.ipynb",
      "provenance": [],
      "collapsed_sections": [],
      "mount_file_id": "https://github.com/duybluemind1988/Data-science/blob/master/Sonion/Sonion_process_control.ipynb",
      "authorship_tag": "ABX9TyOpKMvfhbSZOBDiN3D53iTu",
      "include_colab_link": true
    },
    "kernelspec": {
      "name": "python3",
      "display_name": "Python 3"
    }
  },
  "cells": [
    {
      "cell_type": "markdown",
      "metadata": {
        "id": "view-in-github",
        "colab_type": "text"
      },
      "source": [
        "<a href=\"https://colab.research.google.com/github/duybluemind1988/Data-science/blob/master/Sonion/Sonion_process_control.ipynb\" target=\"_parent\"><img src=\"https://colab.research.google.com/assets/colab-badge.svg\" alt=\"Open In Colab\"/></a>"
      ]
    },
    {
      "cell_type": "markdown",
      "metadata": {
        "id": "MxAvQlaXJNGE",
        "colab_type": "text"
      },
      "source": [
        "# One process in one week"
      ]
    },
    {
      "cell_type": "code",
      "metadata": {
        "id": "Fmkib5eiuQvo",
        "colab_type": "code",
        "colab": {}
      },
      "source": [
        "import datetime\n",
        "import seaborn as sns; sns.set()\n",
        "import pandas as pd\n",
        "import numpy as np\n",
        "import matplotlib.pyplot as plt\n",
        "\n",
        "import plotly.graph_objects as go\n",
        "from plotly.subplots import make_subplots\n",
        "import plotly.express as px\n",
        "from plotly.offline import iplot\n",
        "import re\n",
        "\n",
        "import statistics as st\n",
        "from statsmodels.tsa.arima_model import ARIMA\n",
        "import statsmodels.api as sm\n",
        "from statsmodels.graphics.tsaplots import plot_acf\n",
        "from statsmodels.stats.diagnostic import acorr_ljungbox\n",
        "import scipy.stats as scs\n",
        "from math import sqrt\n",
        "from sklearn.metrics import mean_squared_error,mean_absolute_error\n",
        "from sklearn.model_selection import train_test_split\n",
        "from sklearn.preprocessing import MinMaxScaler,StandardScaler"
      ],
      "execution_count": 32,
      "outputs": []
    },
    {
      "cell_type": "code",
      "metadata": {
        "id": "nfjxXM0lyBBp",
        "colab_type": "code",
        "colab": {}
      },
      "source": [
        "path='/content/drive/My Drive/Data/Sonion/Control plan and stast/Control plan 3000/Control Plan data REC 3000 - WK34 - 2020.xlsm'"
      ],
      "execution_count": null,
      "outputs": []
    },
    {
      "cell_type": "code",
      "metadata": {
        "id": "n4p7AmLbw3Hm",
        "colab_type": "code",
        "colab": {
          "base_uri": "https://localhost:8080/",
          "height": 54
        },
        "outputId": "1aa57b9d-b404-4e73-c4ab-abbd926ba4fa"
      },
      "source": [
        "import xlrd\n",
        "xls = xlrd.open_workbook(path, on_demand=True)\n",
        "sheet_names=xls.sheet_names()\n",
        "print(xls.sheet_names())"
      ],
      "execution_count": null,
      "outputs": [
        {
          "output_type": "stream",
          "text": [
            "['Master list', '39682', '38682', '30682', '37682', '30665', '30660-37660-38660', '30380-37380-38380', '37670-39670', '37662', '30650-37650 (3500T)', '37650-38655-39650', '37641', '30470-37470', '38546', '39615', '38940', '38594', '37560', '30740', '37640-38635', '30674-37674-38674 ', '30672-37672-38672', '30592', '30544-37544-38544-39544', '30538', '30530-37530-39530', '30480-37480-38481', '30370-37370-38370 ', '30750-30940-39750 _S1', '30750-30940-39750 _S2', '37750-37940_S1', '37750-37940_S2', '37751']\n"
          ],
          "name": "stdout"
        }
      ]
    },
    {
      "cell_type": "code",
      "metadata": {
        "id": "2VLUNBMpyweM",
        "colab_type": "code",
        "colab": {}
      },
      "source": [
        "sheet_dict={}\n",
        "xls = pd.ExcelFile(path)\n",
        "for name in sheet_names:\n",
        "  sheet_dict[name] = pd.read_excel(xls, name)"
      ],
      "execution_count": null,
      "outputs": []
    },
    {
      "cell_type": "code",
      "metadata": {
        "id": "DrXPnbcb0GFr",
        "colab_type": "code",
        "colab": {}
      },
      "source": [
        "name='38682'\n",
        "sheet=sheet_dict[name]"
      ],
      "execution_count": null,
      "outputs": []
    },
    {
      "cell_type": "code",
      "metadata": {
        "id": "Y-AprNLR0oZQ",
        "colab_type": "code",
        "colab": {}
      },
      "source": [
        "#sheet.to_csv('abc.xlsx')"
      ],
      "execution_count": null,
      "outputs": []
    },
    {
      "cell_type": "code",
      "metadata": {
        "id": "u-oEVpqs1XWJ",
        "colab_type": "code",
        "colab": {}
      },
      "source": [
        "# get information in each coil\n",
        "#dim_name=sheet[sheet.columns[14]][22]\n",
        "#max=sheet[sheet.columns[14]][23]\n",
        "#min=sheet[sheet.columns[14]][24]\n",
        "#date=pd.to_datetime(sheet[sheet.columns[9]][25:])\n",
        "#dim_value=sheet[sheet.columns[14]][25:]"
      ],
      "execution_count": null,
      "outputs": []
    },
    {
      "cell_type": "code",
      "metadata": {
        "id": "oZE4AwV85I06",
        "colab_type": "code",
        "colab": {
          "base_uri": "https://localhost:8080/",
          "height": 34
        },
        "outputId": "3ba7ac61-ab8b-440b-8150-149a612bef5a"
      },
      "source": [
        "# find begin and end col\n",
        "values_col=sheet.iloc[22,:]\n",
        "values_col.reset_index(drop=True,inplace=True)\n",
        "begin_col=values_col[values_col=='Kích thước\\nDimension'].index\n",
        "begin_col=begin_col+1\n",
        "begin_col"
      ],
      "execution_count": null,
      "outputs": [
        {
          "output_type": "execute_result",
          "data": {
            "text/plain": [
              "Int64Index([14], dtype='int64')"
            ]
          },
          "metadata": {
            "tags": []
          },
          "execution_count": 8
        }
      ]
    },
    {
      "cell_type": "code",
      "metadata": {
        "id": "GNkS4GBu6PFC",
        "colab_type": "code",
        "colab": {
          "base_uri": "https://localhost:8080/",
          "height": 34
        },
        "outputId": "a6ce57b0-5f1b-44ee-d1a1-e645609ad7a1"
      },
      "source": [
        "end_col=values_col[values_col=='MSNV'].index\n",
        "end_col"
      ],
      "execution_count": null,
      "outputs": [
        {
          "output_type": "execute_result",
          "data": {
            "text/plain": [
              "Int64Index([20], dtype='int64')"
            ]
          },
          "metadata": {
            "tags": []
          },
          "execution_count": 10
        }
      ]
    },
    {
      "cell_type": "code",
      "metadata": {
        "id": "OY4PJMbf68Lr",
        "colab_type": "code",
        "colab": {
          "base_uri": "https://localhost:8080/",
          "height": 68
        },
        "outputId": "1ee0c45b-0679-4925-e8a5-10158dc650d9"
      },
      "source": [
        "sheet.columns[begin_col[0]:end_col[0]]"
      ],
      "execution_count": null,
      "outputs": [
        {
          "output_type": "execute_result",
          "data": {
            "text/plain": [
              "Index(['Unnamed: 14', 'Unnamed: 15', 'Unnamed: 16', 'Unnamed: 17',\n",
              "       'Unnamed: 18', 'Unnamed: 19'],\n",
              "      dtype='object')"
            ]
          },
          "metadata": {
            "tags": []
          },
          "execution_count": 16
        }
      ]
    },
    {
      "cell_type": "code",
      "metadata": {
        "id": "8Is5WS_QnDAm",
        "colab_type": "code",
        "colab": {}
      },
      "source": [
        "df_dict={}\n",
        "tolerance_dict={}\n",
        "for name in sheet.columns[begin_col[0]:end_col[0]]:\n",
        "  df=pd.DataFrame()\n",
        "  \n",
        "  #tolerance_dict[sheet[name][22]]=[sheet[name][24],sheet[name][23]]\n",
        "  df['Date']=sheet[sheet.columns[9]][25:]\n",
        "  df['Date']=df['Date'].apply(lambda x: x.strftime(\"%Y %m %d %H\"))\n",
        "  df['Date']=pd.to_datetime(df['Date'])\n",
        "  #df['Hour']=df['Date'].dt.hour\n",
        "  df['Value']=sheet[name][25:]\n",
        "  df['USL']=sheet[name][23] # max\n",
        "  df['LSL']=sheet[name][24] # min\n",
        "  df.dropna(subset=['Value'],inplace=True)\n",
        "  #UCL,LCL,nominal:\n",
        "  sigma=3\n",
        "  df['UCL']=df['Value'].mean() + df['Value'].std()*sigma\n",
        "  df['LCL']=df['Value'].mean() - df['Value'].std()*sigma\n",
        "  df['Mean']=df['Value'].mean()\n",
        "  df[df.columns[1:]]=df[df.columns[1:]].astype('float32')\n",
        "  dim_name=sheet[name][22]\n",
        "  df_dict[dim_name]=df.reset_index(drop=True)"
      ],
      "execution_count": null,
      "outputs": []
    },
    {
      "cell_type": "code",
      "metadata": {
        "id": "HEeyAZ5f0MLs",
        "colab_type": "code",
        "colab": {
          "base_uri": "https://localhost:8080/",
          "height": 700
        },
        "outputId": "34bf2d8d-b6c4-4982-e4dd-8203bf0d048b"
      },
      "source": [
        "df_dict['L.Tâm Dim N']"
      ],
      "execution_count": null,
      "outputs": [
        {
          "output_type": "execute_result",
          "data": {
            "text/html": [
              "<div>\n",
              "<style scoped>\n",
              "    .dataframe tbody tr th:only-of-type {\n",
              "        vertical-align: middle;\n",
              "    }\n",
              "\n",
              "    .dataframe tbody tr th {\n",
              "        vertical-align: top;\n",
              "    }\n",
              "\n",
              "    .dataframe thead th {\n",
              "        text-align: right;\n",
              "    }\n",
              "</style>\n",
              "<table border=\"1\" class=\"dataframe\">\n",
              "  <thead>\n",
              "    <tr style=\"text-align: right;\">\n",
              "      <th></th>\n",
              "      <th>Date</th>\n",
              "      <th>Value</th>\n",
              "      <th>USL</th>\n",
              "      <th>LSL</th>\n",
              "      <th>UCL</th>\n",
              "      <th>LCL</th>\n",
              "      <th>Mean</th>\n",
              "    </tr>\n",
              "  </thead>\n",
              "  <tbody>\n",
              "    <tr>\n",
              "      <th>0</th>\n",
              "      <td>2020-08-14 17:00:00</td>\n",
              "      <td>0.012</td>\n",
              "      <td>0.025</td>\n",
              "      <td>-0.025</td>\n",
              "      <td>0.019721</td>\n",
              "      <td>-0.004197</td>\n",
              "      <td>0.007762</td>\n",
              "    </tr>\n",
              "    <tr>\n",
              "      <th>1</th>\n",
              "      <td>2020-08-14 17:00:00</td>\n",
              "      <td>0.006</td>\n",
              "      <td>0.025</td>\n",
              "      <td>-0.025</td>\n",
              "      <td>0.019721</td>\n",
              "      <td>-0.004197</td>\n",
              "      <td>0.007762</td>\n",
              "    </tr>\n",
              "    <tr>\n",
              "      <th>2</th>\n",
              "      <td>2020-08-14 17:00:00</td>\n",
              "      <td>0.009</td>\n",
              "      <td>0.025</td>\n",
              "      <td>-0.025</td>\n",
              "      <td>0.019721</td>\n",
              "      <td>-0.004197</td>\n",
              "      <td>0.007762</td>\n",
              "    </tr>\n",
              "    <tr>\n",
              "      <th>3</th>\n",
              "      <td>2020-08-15 08:00:00</td>\n",
              "      <td>0.011</td>\n",
              "      <td>0.025</td>\n",
              "      <td>-0.025</td>\n",
              "      <td>0.019721</td>\n",
              "      <td>-0.004197</td>\n",
              "      <td>0.007762</td>\n",
              "    </tr>\n",
              "    <tr>\n",
              "      <th>4</th>\n",
              "      <td>2020-08-15 08:00:00</td>\n",
              "      <td>0.008</td>\n",
              "      <td>0.025</td>\n",
              "      <td>-0.025</td>\n",
              "      <td>0.019721</td>\n",
              "      <td>-0.004197</td>\n",
              "      <td>0.007762</td>\n",
              "    </tr>\n",
              "    <tr>\n",
              "      <th>5</th>\n",
              "      <td>2020-08-15 08:00:00</td>\n",
              "      <td>0.008</td>\n",
              "      <td>0.025</td>\n",
              "      <td>-0.025</td>\n",
              "      <td>0.019721</td>\n",
              "      <td>-0.004197</td>\n",
              "      <td>0.007762</td>\n",
              "    </tr>\n",
              "    <tr>\n",
              "      <th>6</th>\n",
              "      <td>2020-08-15 16:00:00</td>\n",
              "      <td>0.005</td>\n",
              "      <td>0.025</td>\n",
              "      <td>-0.025</td>\n",
              "      <td>0.019721</td>\n",
              "      <td>-0.004197</td>\n",
              "      <td>0.007762</td>\n",
              "    </tr>\n",
              "    <tr>\n",
              "      <th>7</th>\n",
              "      <td>2020-08-15 16:00:00</td>\n",
              "      <td>0.004</td>\n",
              "      <td>0.025</td>\n",
              "      <td>-0.025</td>\n",
              "      <td>0.019721</td>\n",
              "      <td>-0.004197</td>\n",
              "      <td>0.007762</td>\n",
              "    </tr>\n",
              "    <tr>\n",
              "      <th>8</th>\n",
              "      <td>2020-08-15 16:00:00</td>\n",
              "      <td>0.002</td>\n",
              "      <td>0.025</td>\n",
              "      <td>-0.025</td>\n",
              "      <td>0.019721</td>\n",
              "      <td>-0.004197</td>\n",
              "      <td>0.007762</td>\n",
              "    </tr>\n",
              "    <tr>\n",
              "      <th>9</th>\n",
              "      <td>2020-08-17 09:00:00</td>\n",
              "      <td>0.016</td>\n",
              "      <td>0.025</td>\n",
              "      <td>-0.025</td>\n",
              "      <td>0.019721</td>\n",
              "      <td>-0.004197</td>\n",
              "      <td>0.007762</td>\n",
              "    </tr>\n",
              "    <tr>\n",
              "      <th>10</th>\n",
              "      <td>2020-08-17 09:00:00</td>\n",
              "      <td>0.008</td>\n",
              "      <td>0.025</td>\n",
              "      <td>-0.025</td>\n",
              "      <td>0.019721</td>\n",
              "      <td>-0.004197</td>\n",
              "      <td>0.007762</td>\n",
              "    </tr>\n",
              "    <tr>\n",
              "      <th>11</th>\n",
              "      <td>2020-08-17 09:00:00</td>\n",
              "      <td>0.015</td>\n",
              "      <td>0.025</td>\n",
              "      <td>-0.025</td>\n",
              "      <td>0.019721</td>\n",
              "      <td>-0.004197</td>\n",
              "      <td>0.007762</td>\n",
              "    </tr>\n",
              "    <tr>\n",
              "      <th>12</th>\n",
              "      <td>2020-08-17 17:00:00</td>\n",
              "      <td>0.002</td>\n",
              "      <td>0.025</td>\n",
              "      <td>-0.025</td>\n",
              "      <td>0.019721</td>\n",
              "      <td>-0.004197</td>\n",
              "      <td>0.007762</td>\n",
              "    </tr>\n",
              "    <tr>\n",
              "      <th>13</th>\n",
              "      <td>2020-08-17 17:00:00</td>\n",
              "      <td>0.013</td>\n",
              "      <td>0.025</td>\n",
              "      <td>-0.025</td>\n",
              "      <td>0.019721</td>\n",
              "      <td>-0.004197</td>\n",
              "      <td>0.007762</td>\n",
              "    </tr>\n",
              "    <tr>\n",
              "      <th>14</th>\n",
              "      <td>2020-08-17 17:00:00</td>\n",
              "      <td>0.009</td>\n",
              "      <td>0.025</td>\n",
              "      <td>-0.025</td>\n",
              "      <td>0.019721</td>\n",
              "      <td>-0.004197</td>\n",
              "      <td>0.007762</td>\n",
              "    </tr>\n",
              "    <tr>\n",
              "      <th>15</th>\n",
              "      <td>2020-08-20 09:00:00</td>\n",
              "      <td>0.005</td>\n",
              "      <td>0.025</td>\n",
              "      <td>-0.025</td>\n",
              "      <td>0.019721</td>\n",
              "      <td>-0.004197</td>\n",
              "      <td>0.007762</td>\n",
              "    </tr>\n",
              "    <tr>\n",
              "      <th>16</th>\n",
              "      <td>2020-08-20 09:00:00</td>\n",
              "      <td>0.005</td>\n",
              "      <td>0.025</td>\n",
              "      <td>-0.025</td>\n",
              "      <td>0.019721</td>\n",
              "      <td>-0.004197</td>\n",
              "      <td>0.007762</td>\n",
              "    </tr>\n",
              "    <tr>\n",
              "      <th>17</th>\n",
              "      <td>2020-08-20 09:00:00</td>\n",
              "      <td>0.009</td>\n",
              "      <td>0.025</td>\n",
              "      <td>-0.025</td>\n",
              "      <td>0.019721</td>\n",
              "      <td>-0.004197</td>\n",
              "      <td>0.007762</td>\n",
              "    </tr>\n",
              "    <tr>\n",
              "      <th>18</th>\n",
              "      <td>2020-08-20 16:00:00</td>\n",
              "      <td>0.008</td>\n",
              "      <td>0.025</td>\n",
              "      <td>-0.025</td>\n",
              "      <td>0.019721</td>\n",
              "      <td>-0.004197</td>\n",
              "      <td>0.007762</td>\n",
              "    </tr>\n",
              "    <tr>\n",
              "      <th>19</th>\n",
              "      <td>2020-08-20 16:00:00</td>\n",
              "      <td>0.003</td>\n",
              "      <td>0.025</td>\n",
              "      <td>-0.025</td>\n",
              "      <td>0.019721</td>\n",
              "      <td>-0.004197</td>\n",
              "      <td>0.007762</td>\n",
              "    </tr>\n",
              "    <tr>\n",
              "      <th>20</th>\n",
              "      <td>2020-08-20 16:00:00</td>\n",
              "      <td>0.005</td>\n",
              "      <td>0.025</td>\n",
              "      <td>-0.025</td>\n",
              "      <td>0.019721</td>\n",
              "      <td>-0.004197</td>\n",
              "      <td>0.007762</td>\n",
              "    </tr>\n",
              "  </tbody>\n",
              "</table>\n",
              "</div>"
            ],
            "text/plain": [
              "                  Date  Value    USL    LSL       UCL       LCL      Mean\n",
              "0  2020-08-14 17:00:00  0.012  0.025 -0.025  0.019721 -0.004197  0.007762\n",
              "1  2020-08-14 17:00:00  0.006  0.025 -0.025  0.019721 -0.004197  0.007762\n",
              "2  2020-08-14 17:00:00  0.009  0.025 -0.025  0.019721 -0.004197  0.007762\n",
              "3  2020-08-15 08:00:00  0.011  0.025 -0.025  0.019721 -0.004197  0.007762\n",
              "4  2020-08-15 08:00:00  0.008  0.025 -0.025  0.019721 -0.004197  0.007762\n",
              "5  2020-08-15 08:00:00  0.008  0.025 -0.025  0.019721 -0.004197  0.007762\n",
              "6  2020-08-15 16:00:00  0.005  0.025 -0.025  0.019721 -0.004197  0.007762\n",
              "7  2020-08-15 16:00:00  0.004  0.025 -0.025  0.019721 -0.004197  0.007762\n",
              "8  2020-08-15 16:00:00  0.002  0.025 -0.025  0.019721 -0.004197  0.007762\n",
              "9  2020-08-17 09:00:00  0.016  0.025 -0.025  0.019721 -0.004197  0.007762\n",
              "10 2020-08-17 09:00:00  0.008  0.025 -0.025  0.019721 -0.004197  0.007762\n",
              "11 2020-08-17 09:00:00  0.015  0.025 -0.025  0.019721 -0.004197  0.007762\n",
              "12 2020-08-17 17:00:00  0.002  0.025 -0.025  0.019721 -0.004197  0.007762\n",
              "13 2020-08-17 17:00:00  0.013  0.025 -0.025  0.019721 -0.004197  0.007762\n",
              "14 2020-08-17 17:00:00  0.009  0.025 -0.025  0.019721 -0.004197  0.007762\n",
              "15 2020-08-20 09:00:00  0.005  0.025 -0.025  0.019721 -0.004197  0.007762\n",
              "16 2020-08-20 09:00:00  0.005  0.025 -0.025  0.019721 -0.004197  0.007762\n",
              "17 2020-08-20 09:00:00  0.009  0.025 -0.025  0.019721 -0.004197  0.007762\n",
              "18 2020-08-20 16:00:00  0.008  0.025 -0.025  0.019721 -0.004197  0.007762\n",
              "19 2020-08-20 16:00:00  0.003  0.025 -0.025  0.019721 -0.004197  0.007762\n",
              "20 2020-08-20 16:00:00  0.005  0.025 -0.025  0.019721 -0.004197  0.007762"
            ]
          },
          "metadata": {
            "tags": []
          },
          "execution_count": 106
        }
      ]
    },
    {
      "cell_type": "code",
      "metadata": {
        "id": "UgwKREOBwVkj",
        "colab_type": "code",
        "colab": {
          "base_uri": "https://localhost:8080/",
          "height": 1000
        },
        "outputId": "8d27195d-a8cb-4330-9ad3-45a2618b21db"
      },
      "source": [
        "i=1\n",
        "#Layout\n",
        "fig = make_subplots(\n",
        "    rows=len(df_dict), cols=1,\n",
        "    #shared_xaxes=True, # share same axis\n",
        "    vertical_spacing=0.05, # adjust spacing between charts\n",
        "    #column_widths=[0.8, 0.2],\n",
        "    subplot_titles=(list(df_dict.keys()))\n",
        ")\n",
        "for name in df_dict.keys(): #also group\n",
        "  df=df_dict[name].copy()\n",
        "  df=df.sort_values(by=['Date'])\n",
        "  for a in df.columns[1:]:\n",
        "    df[a] = df[a].round(decimals=3)\n",
        "\n",
        "  df=df.groupby('Date').mean()\n",
        "  #df=df.set_index('Date')\n",
        "  #if start_date != '':\n",
        "  #  df=df[start_date:end_date]\n",
        "  #Control chart 1 \n",
        "  fig.append_trace(go.Scatter(\n",
        "                          x=df.index, y=df['Value'],mode='lines+markers',\n",
        "                          name='mean ' + name,line=dict( color='#4280F5')\n",
        "                          ),row=i, col=1\n",
        "                )\n",
        "  #USL, LSL\n",
        "  fig.append_trace(go.Scatter(x=df.index, y=df['USL'],name='USL '+name, line=dict( color='#FF5733'),mode='lines'),row=i, col=1)\n",
        "  fig.append_trace(go.Scatter(x=df.index, y=df['LSL'],name='LSL '+name,line=dict( color='#FF5733'),mode='lines'),row=i, col=1)\n",
        "  #fig.append_trace(go.Scatter(x=df['Datef'], y=df['Nominal'],name='Nominal '+name,line=dict( color='#FF5733')),row=i, col=1)\n",
        "  # UCL, LCL\n",
        "  fig.append_trace(go.Scatter(x=df.index, y=df['UCL'],name='UCL '+name, line=dict( color='#33C2FF'),mode='lines'),row=i, col=1)\n",
        "  fig.append_trace(go.Scatter(x=df.index, y=df['LCL'],name='LCL '+name, line=dict( color='#33C2FF'),mode='lines'),row=i, col=1)\n",
        "  fig.append_trace(go.Scatter(x=df.index, y=df['Mean'],name='Mean '+name, line=dict( color='#33C2FF'),mode='lines'),row=i, col=1)\n",
        "  i=i+1\n",
        "  \n",
        "fig.update_layout(height=200*len(df_dict), width=1200, title_text='Line chart')\n",
        "fig.show()"
      ],
      "execution_count": null,
      "outputs": [
        {
          "output_type": "display_data",
          "data": {
            "text/html": [
              "<html>\n",
              "<head><meta charset=\"utf-8\" /></head>\n",
              "<body>\n",
              "    <div>\n",
              "            <script src=\"https://cdnjs.cloudflare.com/ajax/libs/mathjax/2.7.5/MathJax.js?config=TeX-AMS-MML_SVG\"></script><script type=\"text/javascript\">if (window.MathJax) {MathJax.Hub.Config({SVG: {font: \"STIX-Web\"}});}</script>\n",
              "                <script type=\"text/javascript\">window.PlotlyConfig = {MathJaxConfig: 'local'};</script>\n",
              "        <script src=\"https://cdn.plot.ly/plotly-latest.min.js\"></script>    \n",
              "            <div id=\"7e2978e5-8ace-465b-bdef-28ef4da8fec7\" class=\"plotly-graph-div\" style=\"height:1200px; width:1200px;\"></div>\n",
              "            <script type=\"text/javascript\">\n",
              "                \n",
              "                    window.PLOTLYENV=window.PLOTLYENV || {};\n",
              "                    \n",
              "                if (document.getElementById(\"7e2978e5-8ace-465b-bdef-28ef4da8fec7\")) {\n",
              "                    Plotly.newPlot(\n",
              "                        '7e2978e5-8ace-465b-bdef-28ef4da8fec7',\n",
              "                        [{\"line\": {\"color\": \"#4280F5\"}, \"mode\": \"lines+markers\", \"name\": \"mean Hinge Dim F\", \"type\": \"scatter\", \"x\": [\"2020-08-14T17:00:00\", \"2020-08-15T08:00:00\", \"2020-08-15T16:00:00\", \"2020-08-17T09:00:00\", \"2020-08-17T17:00:00\", \"2020-08-20T09:00:00\", \"2020-08-20T16:00:00\"], \"xaxis\": \"x\", \"y\": [0.2378000020980835, 0.2443999946117401, 0.24379999935626984, 0.24500000476837158, 0.23759999871253967, 0.2409999966621399, 0.2433999925851822], \"yaxis\": \"y\"}, {\"line\": {\"color\": \"#FF5733\"}, \"mode\": \"lines\", \"name\": \"USL Hinge Dim F\", \"type\": \"scatter\", \"x\": [\"2020-08-14T17:00:00\", \"2020-08-15T08:00:00\", \"2020-08-15T16:00:00\", \"2020-08-17T09:00:00\", \"2020-08-17T17:00:00\", \"2020-08-20T09:00:00\", \"2020-08-20T16:00:00\"], \"xaxis\": \"x\", \"y\": [0.25, 0.25, 0.25, 0.25, 0.25, 0.25, 0.25], \"yaxis\": \"y\"}, {\"line\": {\"color\": \"#FF5733\"}, \"mode\": \"lines\", \"name\": \"LSL Hinge Dim F\", \"type\": \"scatter\", \"x\": [\"2020-08-14T17:00:00\", \"2020-08-15T08:00:00\", \"2020-08-15T16:00:00\", \"2020-08-17T09:00:00\", \"2020-08-17T17:00:00\", \"2020-08-20T09:00:00\", \"2020-08-20T16:00:00\"], \"xaxis\": \"x\", \"y\": [0.20999999344348907, 0.20999999344348907, 0.20999999344348907, 0.20999999344348907, 0.20999999344348907, 0.20999999344348907, 0.20999999344348907], \"yaxis\": \"y\"}, {\"line\": {\"color\": \"#33C2FF\"}, \"mode\": \"lines\", \"name\": \"UCL Hinge Dim F\", \"type\": \"scatter\", \"x\": [\"2020-08-14T17:00:00\", \"2020-08-15T08:00:00\", \"2020-08-15T16:00:00\", \"2020-08-17T09:00:00\", \"2020-08-17T17:00:00\", \"2020-08-20T09:00:00\", \"2020-08-20T16:00:00\"], \"xaxis\": \"x\", \"y\": [0.25600001215934753, 0.25600001215934753, 0.25600001215934753, 0.25600001215934753, 0.25600001215934753, 0.25600001215934753, 0.25600001215934753], \"yaxis\": \"y\"}, {\"line\": {\"color\": \"#33C2FF\"}, \"mode\": \"lines\", \"name\": \"LCL Hinge Dim F\", \"type\": \"scatter\", \"x\": [\"2020-08-14T17:00:00\", \"2020-08-15T08:00:00\", \"2020-08-15T16:00:00\", \"2020-08-17T09:00:00\", \"2020-08-17T17:00:00\", \"2020-08-20T09:00:00\", \"2020-08-20T16:00:00\"], \"xaxis\": \"x\", \"y\": [0.2280000001192093, 0.2280000001192093, 0.2280000001192093, 0.2280000001192093, 0.2280000001192093, 0.2280000001192093, 0.2280000001192093], \"yaxis\": \"y\"}, {\"line\": {\"color\": \"#33C2FF\"}, \"mode\": \"lines\", \"name\": \"Mean Hinge Dim F\", \"type\": \"scatter\", \"x\": [\"2020-08-14T17:00:00\", \"2020-08-15T08:00:00\", \"2020-08-15T16:00:00\", \"2020-08-17T09:00:00\", \"2020-08-17T17:00:00\", \"2020-08-20T09:00:00\", \"2020-08-20T16:00:00\"], \"xaxis\": \"x\", \"y\": [0.24199999868869781, 0.24199999868869781, 0.24199999868869781, 0.24199999868869781, 0.24199999868869781, 0.24199999868869781, 0.24199999868869781], \"yaxis\": \"y\"}, {\"line\": {\"color\": \"#4280F5\"}, \"mode\": \"lines+markers\", \"name\": \"mean Chi\\u1ec1u d\\u00e0i Dim B\", \"type\": \"scatter\", \"x\": [\"2020-08-14T17:00:00\", \"2020-08-15T08:00:00\", \"2020-08-15T16:00:00\", \"2020-08-17T09:00:00\", \"2020-08-17T17:00:00\", \"2020-08-20T09:00:00\", \"2020-08-20T16:00:00\"], \"xaxis\": \"x2\", \"y\": [7.613666534423828, 7.616666793823242, 7.616000175476074, 7.61466646194458, 7.617000102996826, 7.612666606903076, 7.613666534423828], \"yaxis\": \"y2\"}, {\"line\": {\"color\": \"#FF5733\"}, \"mode\": \"lines\", \"name\": \"USL Chi\\u1ec1u d\\u00e0i Dim B\", \"type\": \"scatter\", \"x\": [\"2020-08-14T17:00:00\", \"2020-08-15T08:00:00\", \"2020-08-15T16:00:00\", \"2020-08-17T09:00:00\", \"2020-08-17T17:00:00\", \"2020-08-20T09:00:00\", \"2020-08-20T16:00:00\"], \"xaxis\": \"x2\", \"y\": [7.619999885559082, 7.619999885559082, 7.619999885559082, 7.619999885559082, 7.619999885559082, 7.619999885559082, 7.619999885559082], \"yaxis\": \"y2\"}, {\"line\": {\"color\": \"#FF5733\"}, \"mode\": \"lines\", \"name\": \"LSL Chi\\u1ec1u d\\u00e0i Dim B\", \"type\": \"scatter\", \"x\": [\"2020-08-14T17:00:00\", \"2020-08-15T08:00:00\", \"2020-08-15T16:00:00\", \"2020-08-17T09:00:00\", \"2020-08-17T17:00:00\", \"2020-08-20T09:00:00\", \"2020-08-20T16:00:00\"], \"xaxis\": \"x2\", \"y\": [7.599999904632568, 7.599999904632568, 7.599999904632568, 7.599999904632568, 7.599999904632568, 7.599999904632568, 7.599999904632568], \"yaxis\": \"y2\"}, {\"line\": {\"color\": \"#33C2FF\"}, \"mode\": \"lines\", \"name\": \"UCL Chi\\u1ec1u d\\u00e0i Dim B\", \"type\": \"scatter\", \"x\": [\"2020-08-14T17:00:00\", \"2020-08-15T08:00:00\", \"2020-08-15T16:00:00\", \"2020-08-17T09:00:00\", \"2020-08-17T17:00:00\", \"2020-08-20T09:00:00\", \"2020-08-20T16:00:00\"], \"xaxis\": \"x2\", \"y\": [7.625, 7.625, 7.625, 7.625, 7.625, 7.625, 7.625], \"yaxis\": \"y2\"}, {\"line\": {\"color\": \"#33C2FF\"}, \"mode\": \"lines\", \"name\": \"LCL Chi\\u1ec1u d\\u00e0i Dim B\", \"type\": \"scatter\", \"x\": [\"2020-08-14T17:00:00\", \"2020-08-15T08:00:00\", \"2020-08-15T16:00:00\", \"2020-08-17T09:00:00\", \"2020-08-17T17:00:00\", \"2020-08-20T09:00:00\", \"2020-08-20T16:00:00\"], \"xaxis\": \"x2\", \"y\": [7.604000091552734, 7.604000091552734, 7.604000091552734, 7.604000091552734, 7.604000091552734, 7.604000091552734, 7.604000091552734], \"yaxis\": \"y2\"}, {\"line\": {\"color\": \"#33C2FF\"}, \"mode\": \"lines\", \"name\": \"Mean Chi\\u1ec1u d\\u00e0i Dim B\", \"type\": \"scatter\", \"x\": [\"2020-08-14T17:00:00\", \"2020-08-15T08:00:00\", \"2020-08-15T16:00:00\", \"2020-08-17T09:00:00\", \"2020-08-17T17:00:00\", \"2020-08-20T09:00:00\", \"2020-08-20T16:00:00\"], \"xaxis\": \"x2\", \"y\": [7.614999771118164, 7.614999771118164, 7.614999771118164, 7.614999771118164, 7.614999771118164, 7.614999771118164, 7.614999771118164], \"yaxis\": \"y2\"}, {\"line\": {\"color\": \"#4280F5\"}, \"mode\": \"lines+markers\", \"name\": \"mean Chi\\u1ec1u r\\u1ed9ng Dim A\", \"type\": \"scatter\", \"x\": [\"2020-08-14T17:00:00\", \"2020-08-15T08:00:00\", \"2020-08-15T16:00:00\", \"2020-08-17T09:00:00\", \"2020-08-17T17:00:00\", \"2020-08-20T09:00:00\", \"2020-08-20T16:00:00\"], \"xaxis\": \"x3\", \"y\": [3.8283333778381348, 3.8303334712982178, 3.8266665935516357, 3.8253333568573, 3.8299999237060547, 3.822666645050049, 3.8266665935516357], \"yaxis\": \"y3\"}, {\"line\": {\"color\": \"#FF5733\"}, \"mode\": \"lines\", \"name\": \"USL Chi\\u1ec1u r\\u1ed9ng Dim A\", \"type\": \"scatter\", \"x\": [\"2020-08-14T17:00:00\", \"2020-08-15T08:00:00\", \"2020-08-15T16:00:00\", \"2020-08-17T09:00:00\", \"2020-08-17T17:00:00\", \"2020-08-20T09:00:00\", \"2020-08-20T16:00:00\"], \"xaxis\": \"x3\", \"y\": [3.8399999141693115, 3.8399999141693115, 3.8399999141693115, 3.8399999141693115, 3.8399999141693115, 3.8399999141693115, 3.8399999141693115], \"yaxis\": \"y3\"}, {\"line\": {\"color\": \"#FF5733\"}, \"mode\": \"lines\", \"name\": \"LSL Chi\\u1ec1u r\\u1ed9ng Dim A\", \"type\": \"scatter\", \"x\": [\"2020-08-14T17:00:00\", \"2020-08-15T08:00:00\", \"2020-08-15T16:00:00\", \"2020-08-17T09:00:00\", \"2020-08-17T17:00:00\", \"2020-08-20T09:00:00\", \"2020-08-20T16:00:00\"], \"xaxis\": \"x3\", \"y\": [3.819999933242798, 3.819999933242798, 3.819999933242798, 3.819999933242798, 3.819999933242798, 3.819999933242798, 3.819999933242798], \"yaxis\": \"y3\"}, {\"line\": {\"color\": \"#33C2FF\"}, \"mode\": \"lines\", \"name\": \"UCL Chi\\u1ec1u r\\u1ed9ng Dim A\", \"type\": \"scatter\", \"x\": [\"2020-08-14T17:00:00\", \"2020-08-15T08:00:00\", \"2020-08-15T16:00:00\", \"2020-08-17T09:00:00\", \"2020-08-17T17:00:00\", \"2020-08-20T09:00:00\", \"2020-08-20T16:00:00\"], \"xaxis\": \"x3\", \"y\": [3.8389999866485596, 3.8389999866485596, 3.8389999866485596, 3.8389999866485596, 3.8389999866485596, 3.8389999866485596, 3.8389999866485596], \"yaxis\": \"y3\"}, {\"line\": {\"color\": \"#33C2FF\"}, \"mode\": \"lines\", \"name\": \"LCL Chi\\u1ec1u r\\u1ed9ng Dim A\", \"type\": \"scatter\", \"x\": [\"2020-08-14T17:00:00\", \"2020-08-15T08:00:00\", \"2020-08-15T16:00:00\", \"2020-08-17T09:00:00\", \"2020-08-17T17:00:00\", \"2020-08-20T09:00:00\", \"2020-08-20T16:00:00\"], \"xaxis\": \"x3\", \"y\": [3.815000057220459, 3.815000057220459, 3.815000057220459, 3.815000057220459, 3.815000057220459, 3.815000057220459, 3.815000057220459], \"yaxis\": \"y3\"}, {\"line\": {\"color\": \"#33C2FF\"}, \"mode\": \"lines\", \"name\": \"Mean Chi\\u1ec1u r\\u1ed9ng Dim A\", \"type\": \"scatter\", \"x\": [\"2020-08-14T17:00:00\", \"2020-08-15T08:00:00\", \"2020-08-15T16:00:00\", \"2020-08-17T09:00:00\", \"2020-08-17T17:00:00\", \"2020-08-20T09:00:00\", \"2020-08-20T16:00:00\"], \"xaxis\": \"x3\", \"y\": [3.8269999027252197, 3.8269999027252197, 3.8269999027252197, 3.8269999027252197, 3.8269999027252197, 3.8269999027252197, 3.8269999027252197], \"yaxis\": \"y3\"}, {\"line\": {\"color\": \"#4280F5\"}, \"mode\": \"lines+markers\", \"name\": \"mean L.T\\u00e2m Dim N\", \"type\": \"scatter\", \"x\": [\"2020-08-14T17:00:00\", \"2020-08-15T08:00:00\", \"2020-08-15T16:00:00\", \"2020-08-17T09:00:00\", \"2020-08-17T17:00:00\", \"2020-08-20T09:00:00\", \"2020-08-20T16:00:00\"], \"xaxis\": \"x4\", \"y\": [0.008999999612569809, 0.009000000543892384, 0.003666666802018881, 0.013000000268220901, 0.00800000037997961, 0.006333332974463701, 0.005333333276212215], \"yaxis\": \"y4\"}, {\"line\": {\"color\": \"#FF5733\"}, \"mode\": \"lines\", \"name\": \"USL L.T\\u00e2m Dim N\", \"type\": \"scatter\", \"x\": [\"2020-08-14T17:00:00\", \"2020-08-15T08:00:00\", \"2020-08-15T16:00:00\", \"2020-08-17T09:00:00\", \"2020-08-17T17:00:00\", \"2020-08-20T09:00:00\", \"2020-08-20T16:00:00\"], \"xaxis\": \"x4\", \"y\": [0.02500000037252903, 0.02500000037252903, 0.02500000037252903, 0.02500000037252903, 0.02500000037252903, 0.02500000037252903, 0.02500000037252903], \"yaxis\": \"y4\"}, {\"line\": {\"color\": \"#FF5733\"}, \"mode\": \"lines\", \"name\": \"LSL L.T\\u00e2m Dim N\", \"type\": \"scatter\", \"x\": [\"2020-08-14T17:00:00\", \"2020-08-15T08:00:00\", \"2020-08-15T16:00:00\", \"2020-08-17T09:00:00\", \"2020-08-17T17:00:00\", \"2020-08-20T09:00:00\", \"2020-08-20T16:00:00\"], \"xaxis\": \"x4\", \"y\": [-0.02500000037252903, -0.02500000037252903, -0.02500000037252903, -0.02500000037252903, -0.02500000037252903, -0.02500000037252903, -0.02500000037252903], \"yaxis\": \"y4\"}, {\"line\": {\"color\": \"#33C2FF\"}, \"mode\": \"lines\", \"name\": \"UCL L.T\\u00e2m Dim N\", \"type\": \"scatter\", \"x\": [\"2020-08-14T17:00:00\", \"2020-08-15T08:00:00\", \"2020-08-15T16:00:00\", \"2020-08-17T09:00:00\", \"2020-08-17T17:00:00\", \"2020-08-20T09:00:00\", \"2020-08-20T16:00:00\"], \"xaxis\": \"x4\", \"y\": [0.019999999552965164, 0.019999999552965164, 0.019999999552965164, 0.019999999552965164, 0.019999999552965164, 0.019999999552965164, 0.019999999552965164], \"yaxis\": \"y4\"}, {\"line\": {\"color\": \"#33C2FF\"}, \"mode\": \"lines\", \"name\": \"LCL L.T\\u00e2m Dim N\", \"type\": \"scatter\", \"x\": [\"2020-08-14T17:00:00\", \"2020-08-15T08:00:00\", \"2020-08-15T16:00:00\", \"2020-08-17T09:00:00\", \"2020-08-17T17:00:00\", \"2020-08-20T09:00:00\", \"2020-08-20T16:00:00\"], \"xaxis\": \"x4\", \"y\": [-0.004000000189989805, -0.004000000189989805, -0.004000000189989805, -0.004000000189989805, -0.004000000189989805, -0.004000000189989805, -0.004000000189989805], \"yaxis\": \"y4\"}, {\"line\": {\"color\": \"#33C2FF\"}, \"mode\": \"lines\", \"name\": \"Mean L.T\\u00e2m Dim N\", \"type\": \"scatter\", \"x\": [\"2020-08-14T17:00:00\", \"2020-08-15T08:00:00\", \"2020-08-15T16:00:00\", \"2020-08-17T09:00:00\", \"2020-08-17T17:00:00\", \"2020-08-20T09:00:00\", \"2020-08-20T16:00:00\"], \"xaxis\": \"x4\", \"y\": [0.00800000037997961, 0.00800000037997961, 0.00800000037997961, 0.00800000037997961, 0.00800000037997961, 0.00800000037997961, 0.00800000037997961], \"yaxis\": \"y4\"}, {\"line\": {\"color\": \"#4280F5\"}, \"mode\": \"lines+markers\", \"name\": \"mean Offset Dim M\", \"type\": \"scatter\", \"x\": [\"2020-08-14T17:00:00\", \"2020-08-15T08:00:00\", \"2020-08-15T16:00:00\", \"2020-08-17T09:00:00\", \"2020-08-17T17:00:00\", \"2020-08-20T09:00:00\", \"2020-08-20T16:00:00\"], \"xaxis\": \"x5\", \"y\": [0.010250000283122063, 0.012500000186264515, 0.03099999949336052, 0.020500000566244125, 0.017999999225139618, 0.008249999955296516, 0.012500000186264515], \"yaxis\": \"y5\"}, {\"line\": {\"color\": \"#FF5733\"}, \"mode\": \"lines\", \"name\": \"USL Offset Dim M\", \"type\": \"scatter\", \"x\": [\"2020-08-14T17:00:00\", \"2020-08-15T08:00:00\", \"2020-08-15T16:00:00\", \"2020-08-17T09:00:00\", \"2020-08-17T17:00:00\", \"2020-08-20T09:00:00\", \"2020-08-20T16:00:00\"], \"xaxis\": \"x5\", \"y\": [0.05000000074505806, 0.05000000074505806, 0.05000000074505806, 0.05000000074505806, 0.05000000074505806, 0.05000000074505806, 0.05000000074505806], \"yaxis\": \"y5\"}, {\"line\": {\"color\": \"#FF5733\"}, \"mode\": \"lines\", \"name\": \"LSL Offset Dim M\", \"type\": \"scatter\", \"x\": [\"2020-08-14T17:00:00\", \"2020-08-15T08:00:00\", \"2020-08-15T16:00:00\", \"2020-08-17T09:00:00\", \"2020-08-17T17:00:00\", \"2020-08-20T09:00:00\", \"2020-08-20T16:00:00\"], \"xaxis\": \"x5\", \"y\": [null, null, null, null, null, null, null], \"yaxis\": \"y5\"}, {\"line\": {\"color\": \"#33C2FF\"}, \"mode\": \"lines\", \"name\": \"UCL Offset Dim M\", \"type\": \"scatter\", \"x\": [\"2020-08-14T17:00:00\", \"2020-08-15T08:00:00\", \"2020-08-15T16:00:00\", \"2020-08-17T09:00:00\", \"2020-08-17T17:00:00\", \"2020-08-20T09:00:00\", \"2020-08-20T16:00:00\"], \"xaxis\": \"x5\", \"y\": [0.05400000140070915, 0.05400000140070915, 0.05400000140070915, 0.05400000140070915, 0.05400000140070915, 0.05400000140070915, 0.05400000140070915], \"yaxis\": \"y5\"}, {\"line\": {\"color\": \"#33C2FF\"}, \"mode\": \"lines\", \"name\": \"LCL Offset Dim M\", \"type\": \"scatter\", \"x\": [\"2020-08-14T17:00:00\", \"2020-08-15T08:00:00\", \"2020-08-15T16:00:00\", \"2020-08-17T09:00:00\", \"2020-08-17T17:00:00\", \"2020-08-20T09:00:00\", \"2020-08-20T16:00:00\"], \"xaxis\": \"x5\", \"y\": [-0.02199999988079071, -0.02199999988079071, -0.02199999988079071, -0.02199999988079071, -0.02199999988079071, -0.02199999988079071, -0.02199999988079071], \"yaxis\": \"y5\"}, {\"line\": {\"color\": \"#33C2FF\"}, \"mode\": \"lines\", \"name\": \"Mean Offset Dim M\", \"type\": \"scatter\", \"x\": [\"2020-08-14T17:00:00\", \"2020-08-15T08:00:00\", \"2020-08-15T16:00:00\", \"2020-08-17T09:00:00\", \"2020-08-17T17:00:00\", \"2020-08-20T09:00:00\", \"2020-08-20T16:00:00\"], \"xaxis\": \"x5\", \"y\": [0.01600000075995922, 0.01600000075995922, 0.01600000075995922, 0.01600000075995922, 0.01600000075995922, 0.01600000075995922, 0.01600000075995922], \"yaxis\": \"y5\"}, {\"line\": {\"color\": \"#4280F5\"}, \"mode\": \"lines+markers\", \"name\": \"mean Ba v\\u1edb tr\\u00ean membrane\", \"type\": \"scatter\", \"x\": [\"2020-08-14T17:00:00\", \"2020-08-15T08:00:00\", \"2020-08-15T16:00:00\", \"2020-08-17T09:00:00\", \"2020-08-17T17:00:00\", \"2020-08-20T09:00:00\", \"2020-08-20T16:00:00\"], \"xaxis\": \"x6\", \"y\": [0.003800000064074993, 0.002199999988079071, 0.003200000151991844, 0.004000000189989805, 0.003200000151991844, 0.00419999985024333, 0.0034000000450760126], \"yaxis\": \"y6\"}, {\"line\": {\"color\": \"#FF5733\"}, \"mode\": \"lines\", \"name\": \"USL Ba v\\u1edb tr\\u00ean membrane\", \"type\": \"scatter\", \"x\": [\"2020-08-14T17:00:00\", \"2020-08-15T08:00:00\", \"2020-08-15T16:00:00\", \"2020-08-17T09:00:00\", \"2020-08-17T17:00:00\", \"2020-08-20T09:00:00\", \"2020-08-20T16:00:00\"], \"xaxis\": \"x6\", \"y\": [0.004999999888241291, 0.004999999888241291, 0.004999999888241291, 0.004999999888241291, 0.004999999888241291, 0.004999999888241291, 0.004999999888241291], \"yaxis\": \"y6\"}, {\"line\": {\"color\": \"#FF5733\"}, \"mode\": \"lines\", \"name\": \"LSL Ba v\\u1edb tr\\u00ean membrane\", \"type\": \"scatter\", \"x\": [\"2020-08-14T17:00:00\", \"2020-08-15T08:00:00\", \"2020-08-15T16:00:00\", \"2020-08-17T09:00:00\", \"2020-08-17T17:00:00\", \"2020-08-20T09:00:00\", \"2020-08-20T16:00:00\"], \"xaxis\": \"x6\", \"y\": [null, null, null, null, null, null, null], \"yaxis\": \"y6\"}, {\"line\": {\"color\": \"#33C2FF\"}, \"mode\": \"lines\", \"name\": \"UCL Ba v\\u1edb tr\\u00ean membrane\", \"type\": \"scatter\", \"x\": [\"2020-08-14T17:00:00\", \"2020-08-15T08:00:00\", \"2020-08-15T16:00:00\", \"2020-08-17T09:00:00\", \"2020-08-17T17:00:00\", \"2020-08-20T09:00:00\", \"2020-08-20T16:00:00\"], \"xaxis\": \"x6\", \"y\": [0.007000000216066837, 0.007000000216066837, 0.007000000216066837, 0.007000000216066837, 0.007000000216066837, 0.007000000216066837, 0.007000000216066837], \"yaxis\": \"y6\"}, {\"line\": {\"color\": \"#33C2FF\"}, \"mode\": \"lines\", \"name\": \"LCL Ba v\\u1edb tr\\u00ean membrane\", \"type\": \"scatter\", \"x\": [\"2020-08-14T17:00:00\", \"2020-08-15T08:00:00\", \"2020-08-15T16:00:00\", \"2020-08-17T09:00:00\", \"2020-08-17T17:00:00\", \"2020-08-20T09:00:00\", \"2020-08-20T16:00:00\"], \"xaxis\": \"x6\", \"y\": [0.0, 0.0, 0.0, 0.0, 0.0, 0.0, 0.0], \"yaxis\": \"y6\"}, {\"line\": {\"color\": \"#33C2FF\"}, \"mode\": \"lines\", \"name\": \"Mean Ba v\\u1edb tr\\u00ean membrane\", \"type\": \"scatter\", \"x\": [\"2020-08-14T17:00:00\", \"2020-08-15T08:00:00\", \"2020-08-15T16:00:00\", \"2020-08-17T09:00:00\", \"2020-08-17T17:00:00\", \"2020-08-20T09:00:00\", \"2020-08-20T16:00:00\"], \"xaxis\": \"x6\", \"y\": [0.003000000026077032, 0.003000000026077032, 0.003000000026077032, 0.003000000026077032, 0.003000000026077032, 0.003000000026077032, 0.003000000026077032], \"yaxis\": \"y6\"}],\n",
              "                        {\"annotations\": [{\"font\": {\"size\": 16}, \"showarrow\": false, \"text\": \"Hinge Dim F\", \"x\": 0.5, \"xanchor\": \"center\", \"xref\": \"paper\", \"y\": 1.0, \"yanchor\": \"bottom\", \"yref\": \"paper\"}, {\"font\": {\"size\": 16}, \"showarrow\": false, \"text\": \"Chi\\u1ec1u d\\u00e0i Dim B\", \"x\": 0.5, \"xanchor\": \"center\", \"xref\": \"paper\", \"y\": 0.825, \"yanchor\": \"bottom\", \"yref\": \"paper\"}, {\"font\": {\"size\": 16}, \"showarrow\": false, \"text\": \"Chi\\u1ec1u r\\u1ed9ng Dim A\", \"x\": 0.5, \"xanchor\": \"center\", \"xref\": \"paper\", \"y\": 0.65, \"yanchor\": \"bottom\", \"yref\": \"paper\"}, {\"font\": {\"size\": 16}, \"showarrow\": false, \"text\": \"L.T\\u00e2m Dim N\", \"x\": 0.5, \"xanchor\": \"center\", \"xref\": \"paper\", \"y\": 0.475, \"yanchor\": \"bottom\", \"yref\": \"paper\"}, {\"font\": {\"size\": 16}, \"showarrow\": false, \"text\": \"Offset Dim M\", \"x\": 0.5, \"xanchor\": \"center\", \"xref\": \"paper\", \"y\": 0.3, \"yanchor\": \"bottom\", \"yref\": \"paper\"}, {\"font\": {\"size\": 16}, \"showarrow\": false, \"text\": \"Ba v\\u1edb tr\\u00ean membrane\", \"x\": 0.5, \"xanchor\": \"center\", \"xref\": \"paper\", \"y\": 0.125, \"yanchor\": \"bottom\", \"yref\": \"paper\"}], \"height\": 1200, \"template\": {\"data\": {\"bar\": [{\"error_x\": {\"color\": \"#2a3f5f\"}, \"error_y\": {\"color\": \"#2a3f5f\"}, \"marker\": {\"line\": {\"color\": \"#E5ECF6\", \"width\": 0.5}}, \"type\": \"bar\"}], \"barpolar\": [{\"marker\": {\"line\": {\"color\": \"#E5ECF6\", \"width\": 0.5}}, \"type\": \"barpolar\"}], \"carpet\": [{\"aaxis\": {\"endlinecolor\": \"#2a3f5f\", \"gridcolor\": \"white\", \"linecolor\": \"white\", \"minorgridcolor\": \"white\", \"startlinecolor\": \"#2a3f5f\"}, \"baxis\": {\"endlinecolor\": \"#2a3f5f\", \"gridcolor\": \"white\", \"linecolor\": \"white\", \"minorgridcolor\": \"white\", \"startlinecolor\": \"#2a3f5f\"}, \"type\": \"carpet\"}], \"choropleth\": [{\"colorbar\": {\"outlinewidth\": 0, \"ticks\": \"\"}, \"type\": \"choropleth\"}], \"contour\": [{\"colorbar\": {\"outlinewidth\": 0, \"ticks\": \"\"}, \"colorscale\": [[0.0, \"#0d0887\"], [0.1111111111111111, \"#46039f\"], [0.2222222222222222, \"#7201a8\"], [0.3333333333333333, \"#9c179e\"], [0.4444444444444444, \"#bd3786\"], [0.5555555555555556, \"#d8576b\"], [0.6666666666666666, \"#ed7953\"], [0.7777777777777778, \"#fb9f3a\"], [0.8888888888888888, \"#fdca26\"], [1.0, \"#f0f921\"]], \"type\": \"contour\"}], \"contourcarpet\": [{\"colorbar\": {\"outlinewidth\": 0, \"ticks\": \"\"}, \"type\": \"contourcarpet\"}], \"heatmap\": [{\"colorbar\": {\"outlinewidth\": 0, \"ticks\": \"\"}, \"colorscale\": [[0.0, \"#0d0887\"], [0.1111111111111111, \"#46039f\"], [0.2222222222222222, \"#7201a8\"], [0.3333333333333333, \"#9c179e\"], [0.4444444444444444, \"#bd3786\"], [0.5555555555555556, \"#d8576b\"], [0.6666666666666666, \"#ed7953\"], [0.7777777777777778, \"#fb9f3a\"], [0.8888888888888888, \"#fdca26\"], [1.0, \"#f0f921\"]], \"type\": \"heatmap\"}], \"heatmapgl\": [{\"colorbar\": {\"outlinewidth\": 0, \"ticks\": \"\"}, \"colorscale\": [[0.0, \"#0d0887\"], [0.1111111111111111, \"#46039f\"], [0.2222222222222222, \"#7201a8\"], [0.3333333333333333, \"#9c179e\"], [0.4444444444444444, \"#bd3786\"], [0.5555555555555556, \"#d8576b\"], [0.6666666666666666, \"#ed7953\"], [0.7777777777777778, \"#fb9f3a\"], [0.8888888888888888, \"#fdca26\"], [1.0, \"#f0f921\"]], \"type\": \"heatmapgl\"}], \"histogram\": [{\"marker\": {\"colorbar\": {\"outlinewidth\": 0, \"ticks\": \"\"}}, \"type\": \"histogram\"}], \"histogram2d\": [{\"colorbar\": {\"outlinewidth\": 0, \"ticks\": \"\"}, \"colorscale\": [[0.0, \"#0d0887\"], [0.1111111111111111, \"#46039f\"], [0.2222222222222222, \"#7201a8\"], [0.3333333333333333, \"#9c179e\"], [0.4444444444444444, \"#bd3786\"], [0.5555555555555556, \"#d8576b\"], [0.6666666666666666, \"#ed7953\"], [0.7777777777777778, \"#fb9f3a\"], [0.8888888888888888, \"#fdca26\"], [1.0, \"#f0f921\"]], \"type\": \"histogram2d\"}], \"histogram2dcontour\": [{\"colorbar\": {\"outlinewidth\": 0, \"ticks\": \"\"}, \"colorscale\": [[0.0, \"#0d0887\"], [0.1111111111111111, \"#46039f\"], [0.2222222222222222, \"#7201a8\"], [0.3333333333333333, \"#9c179e\"], [0.4444444444444444, \"#bd3786\"], [0.5555555555555556, \"#d8576b\"], [0.6666666666666666, \"#ed7953\"], [0.7777777777777778, \"#fb9f3a\"], [0.8888888888888888, \"#fdca26\"], [1.0, \"#f0f921\"]], \"type\": \"histogram2dcontour\"}], \"mesh3d\": [{\"colorbar\": {\"outlinewidth\": 0, \"ticks\": \"\"}, \"type\": \"mesh3d\"}], \"parcoords\": [{\"line\": {\"colorbar\": {\"outlinewidth\": 0, \"ticks\": \"\"}}, \"type\": \"parcoords\"}], \"pie\": [{\"automargin\": true, \"type\": \"pie\"}], \"scatter\": [{\"marker\": {\"colorbar\": {\"outlinewidth\": 0, \"ticks\": \"\"}}, \"type\": \"scatter\"}], \"scatter3d\": [{\"line\": {\"colorbar\": {\"outlinewidth\": 0, \"ticks\": \"\"}}, \"marker\": {\"colorbar\": {\"outlinewidth\": 0, \"ticks\": \"\"}}, \"type\": \"scatter3d\"}], \"scattercarpet\": [{\"marker\": {\"colorbar\": {\"outlinewidth\": 0, \"ticks\": \"\"}}, \"type\": \"scattercarpet\"}], \"scattergeo\": [{\"marker\": {\"colorbar\": {\"outlinewidth\": 0, \"ticks\": \"\"}}, \"type\": \"scattergeo\"}], \"scattergl\": [{\"marker\": {\"colorbar\": {\"outlinewidth\": 0, \"ticks\": \"\"}}, \"type\": \"scattergl\"}], \"scattermapbox\": [{\"marker\": {\"colorbar\": {\"outlinewidth\": 0, \"ticks\": \"\"}}, \"type\": \"scattermapbox\"}], \"scatterpolar\": [{\"marker\": {\"colorbar\": {\"outlinewidth\": 0, \"ticks\": \"\"}}, \"type\": \"scatterpolar\"}], \"scatterpolargl\": [{\"marker\": {\"colorbar\": {\"outlinewidth\": 0, \"ticks\": \"\"}}, \"type\": \"scatterpolargl\"}], \"scatterternary\": [{\"marker\": {\"colorbar\": {\"outlinewidth\": 0, \"ticks\": \"\"}}, \"type\": \"scatterternary\"}], \"surface\": [{\"colorbar\": {\"outlinewidth\": 0, \"ticks\": \"\"}, \"colorscale\": [[0.0, \"#0d0887\"], [0.1111111111111111, \"#46039f\"], [0.2222222222222222, \"#7201a8\"], [0.3333333333333333, \"#9c179e\"], [0.4444444444444444, \"#bd3786\"], [0.5555555555555556, \"#d8576b\"], [0.6666666666666666, \"#ed7953\"], [0.7777777777777778, \"#fb9f3a\"], [0.8888888888888888, \"#fdca26\"], [1.0, \"#f0f921\"]], \"type\": \"surface\"}], \"table\": [{\"cells\": {\"fill\": {\"color\": \"#EBF0F8\"}, \"line\": {\"color\": \"white\"}}, \"header\": {\"fill\": {\"color\": \"#C8D4E3\"}, \"line\": {\"color\": \"white\"}}, \"type\": \"table\"}]}, \"layout\": {\"annotationdefaults\": {\"arrowcolor\": \"#2a3f5f\", \"arrowhead\": 0, \"arrowwidth\": 1}, \"coloraxis\": {\"colorbar\": {\"outlinewidth\": 0, \"ticks\": \"\"}}, \"colorscale\": {\"diverging\": [[0, \"#8e0152\"], [0.1, \"#c51b7d\"], [0.2, \"#de77ae\"], [0.3, \"#f1b6da\"], [0.4, \"#fde0ef\"], [0.5, \"#f7f7f7\"], [0.6, \"#e6f5d0\"], [0.7, \"#b8e186\"], [0.8, \"#7fbc41\"], [0.9, \"#4d9221\"], [1, \"#276419\"]], \"sequential\": [[0.0, \"#0d0887\"], [0.1111111111111111, \"#46039f\"], [0.2222222222222222, \"#7201a8\"], [0.3333333333333333, \"#9c179e\"], [0.4444444444444444, \"#bd3786\"], [0.5555555555555556, \"#d8576b\"], [0.6666666666666666, \"#ed7953\"], [0.7777777777777778, \"#fb9f3a\"], [0.8888888888888888, \"#fdca26\"], [1.0, \"#f0f921\"]], \"sequentialminus\": [[0.0, \"#0d0887\"], [0.1111111111111111, \"#46039f\"], [0.2222222222222222, \"#7201a8\"], [0.3333333333333333, \"#9c179e\"], [0.4444444444444444, \"#bd3786\"], [0.5555555555555556, \"#d8576b\"], [0.6666666666666666, \"#ed7953\"], [0.7777777777777778, \"#fb9f3a\"], [0.8888888888888888, \"#fdca26\"], [1.0, \"#f0f921\"]]}, \"colorway\": [\"#636efa\", \"#EF553B\", \"#00cc96\", \"#ab63fa\", \"#FFA15A\", \"#19d3f3\", \"#FF6692\", \"#B6E880\", \"#FF97FF\", \"#FECB52\"], \"font\": {\"color\": \"#2a3f5f\"}, \"geo\": {\"bgcolor\": \"white\", \"lakecolor\": \"white\", \"landcolor\": \"#E5ECF6\", \"showlakes\": true, \"showland\": true, \"subunitcolor\": \"white\"}, \"hoverlabel\": {\"align\": \"left\"}, \"hovermode\": \"closest\", \"mapbox\": {\"style\": \"light\"}, \"paper_bgcolor\": \"white\", \"plot_bgcolor\": \"#E5ECF6\", \"polar\": {\"angularaxis\": {\"gridcolor\": \"white\", \"linecolor\": \"white\", \"ticks\": \"\"}, \"bgcolor\": \"#E5ECF6\", \"radialaxis\": {\"gridcolor\": \"white\", \"linecolor\": \"white\", \"ticks\": \"\"}}, \"scene\": {\"xaxis\": {\"backgroundcolor\": \"#E5ECF6\", \"gridcolor\": \"white\", \"gridwidth\": 2, \"linecolor\": \"white\", \"showbackground\": true, \"ticks\": \"\", \"zerolinecolor\": \"white\"}, \"yaxis\": {\"backgroundcolor\": \"#E5ECF6\", \"gridcolor\": \"white\", \"gridwidth\": 2, \"linecolor\": \"white\", \"showbackground\": true, \"ticks\": \"\", \"zerolinecolor\": \"white\"}, \"zaxis\": {\"backgroundcolor\": \"#E5ECF6\", \"gridcolor\": \"white\", \"gridwidth\": 2, \"linecolor\": \"white\", \"showbackground\": true, \"ticks\": \"\", \"zerolinecolor\": \"white\"}}, \"shapedefaults\": {\"line\": {\"color\": \"#2a3f5f\"}}, \"ternary\": {\"aaxis\": {\"gridcolor\": \"white\", \"linecolor\": \"white\", \"ticks\": \"\"}, \"baxis\": {\"gridcolor\": \"white\", \"linecolor\": \"white\", \"ticks\": \"\"}, \"bgcolor\": \"#E5ECF6\", \"caxis\": {\"gridcolor\": \"white\", \"linecolor\": \"white\", \"ticks\": \"\"}}, \"title\": {\"x\": 0.05}, \"xaxis\": {\"automargin\": true, \"gridcolor\": \"white\", \"linecolor\": \"white\", \"ticks\": \"\", \"title\": {\"standoff\": 15}, \"zerolinecolor\": \"white\", \"zerolinewidth\": 2}, \"yaxis\": {\"automargin\": true, \"gridcolor\": \"white\", \"linecolor\": \"white\", \"ticks\": \"\", \"title\": {\"standoff\": 15}, \"zerolinecolor\": \"white\", \"zerolinewidth\": 2}}}, \"title\": {\"text\": \"Line chart\"}, \"width\": 1200, \"xaxis\": {\"anchor\": \"y\", \"domain\": [0.0, 1.0]}, \"xaxis2\": {\"anchor\": \"y2\", \"domain\": [0.0, 1.0]}, \"xaxis3\": {\"anchor\": \"y3\", \"domain\": [0.0, 1.0]}, \"xaxis4\": {\"anchor\": \"y4\", \"domain\": [0.0, 1.0]}, \"xaxis5\": {\"anchor\": \"y5\", \"domain\": [0.0, 1.0]}, \"xaxis6\": {\"anchor\": \"y6\", \"domain\": [0.0, 1.0]}, \"yaxis\": {\"anchor\": \"x\", \"domain\": [0.875, 1.0]}, \"yaxis2\": {\"anchor\": \"x2\", \"domain\": [0.7, 0.825]}, \"yaxis3\": {\"anchor\": \"x3\", \"domain\": [0.525, 0.65]}, \"yaxis4\": {\"anchor\": \"x4\", \"domain\": [0.35, 0.475]}, \"yaxis5\": {\"anchor\": \"x5\", \"domain\": [0.175, 0.3]}, \"yaxis6\": {\"anchor\": \"x6\", \"domain\": [0.0, 0.125]}},\n",
              "                        {\"responsive\": true}\n",
              "                    ).then(function(){\n",
              "                            \n",
              "var gd = document.getElementById('7e2978e5-8ace-465b-bdef-28ef4da8fec7');\n",
              "var x = new MutationObserver(function (mutations, observer) {{\n",
              "        var display = window.getComputedStyle(gd).display;\n",
              "        if (!display || display === 'none') {{\n",
              "            console.log([gd, 'removed!']);\n",
              "            Plotly.purge(gd);\n",
              "            observer.disconnect();\n",
              "        }}\n",
              "}});\n",
              "\n",
              "// Listen for the removal of the full notebook cells\n",
              "var notebookContainer = gd.closest('#notebook-container');\n",
              "if (notebookContainer) {{\n",
              "    x.observe(notebookContainer, {childList: true});\n",
              "}}\n",
              "\n",
              "// Listen for the clearing of the current output cell\n",
              "var outputEl = gd.closest('.output');\n",
              "if (outputEl) {{\n",
              "    x.observe(outputEl, {childList: true});\n",
              "}}\n",
              "\n",
              "                        })\n",
              "                };\n",
              "                \n",
              "            </script>\n",
              "        </div>\n",
              "</body>\n",
              "</html>"
            ]
          },
          "metadata": {
            "tags": []
          }
        }
      ]
    },
    {
      "cell_type": "code",
      "metadata": {
        "id": "f44Qt_2UyOAN",
        "colab_type": "code",
        "colab": {
          "base_uri": "https://localhost:8080/",
          "height": 1000
        },
        "outputId": "ec39ea0e-d7a5-4e1d-acb3-bf86dcbd8f95"
      },
      "source": [
        "i=1\n",
        "#Layout\n",
        "fig = make_subplots(\n",
        "    rows=len(df_dict), cols=1,\n",
        "    #shared_xaxes=True, # share same axis\n",
        "    vertical_spacing=0.05, # adjust spacing between charts\n",
        "    #column_widths=[0.8, 0.2],\n",
        "    subplot_titles=(list(df_dict.keys()))\n",
        ")\n",
        "for name in df_dict.keys(): #also group\n",
        "  df=df_dict[name].copy()\n",
        "  df=df.sort_values(by=['Date'])\n",
        "  for a in df.columns[1:]:\n",
        "    df[a] = df[a].round(decimals=3)\n",
        "  df=df.set_index('Date')\n",
        "  #Control chart 1 \n",
        "  fig.append_trace(go.Box(\n",
        "                          x=df.index, y=df['Value'],\n",
        "                          name='mean ' + name, line=dict( color='#4280F5')\n",
        "                          ),row=i, col=1\n",
        "                )\n",
        "  #USL, LSL\n",
        "  fig.append_trace(go.Scatter(x=df.index, y=df['USL'],name='USL '+name, line=dict( color='#FF5733')),row=i, col=1)\n",
        "  fig.append_trace(go.Scatter(x=df.index, y=df['LSL'],name='LSL '+name,line=dict( color='#FF5733')),row=i, col=1)\n",
        "  #fig.append_trace(go.Scatter(x=df['Datef'], y=df['Nominal'],name='Nominal '+name,line=dict( color='#FF5733')),row=i, col=1)\n",
        "  # UCL, LCL\n",
        "  i=i+1\n",
        "  \n",
        "fig.update_layout(height=200*len(df_dict), width=1200, title_text='Line chart')\n",
        "fig.show()"
      ],
      "execution_count": null,
      "outputs": [
        {
          "output_type": "display_data",
          "data": {
            "text/html": [
              "<html>\n",
              "<head><meta charset=\"utf-8\" /></head>\n",
              "<body>\n",
              "    <div>\n",
              "            <script src=\"https://cdnjs.cloudflare.com/ajax/libs/mathjax/2.7.5/MathJax.js?config=TeX-AMS-MML_SVG\"></script><script type=\"text/javascript\">if (window.MathJax) {MathJax.Hub.Config({SVG: {font: \"STIX-Web\"}});}</script>\n",
              "                <script type=\"text/javascript\">window.PlotlyConfig = {MathJaxConfig: 'local'};</script>\n",
              "        <script src=\"https://cdn.plot.ly/plotly-latest.min.js\"></script>    \n",
              "            <div id=\"0e9ad51a-9d3b-4019-b9f9-a9c1d11c1c6f\" class=\"plotly-graph-div\" style=\"height:1200px; width:1200px;\"></div>\n",
              "            <script type=\"text/javascript\">\n",
              "                \n",
              "                    window.PLOTLYENV=window.PLOTLYENV || {};\n",
              "                    \n",
              "                if (document.getElementById(\"0e9ad51a-9d3b-4019-b9f9-a9c1d11c1c6f\")) {\n",
              "                    Plotly.newPlot(\n",
              "                        '0e9ad51a-9d3b-4019-b9f9-a9c1d11c1c6f',\n",
              "                        [{\"line\": {\"color\": \"#4280F5\"}, \"name\": \"mean Hinge Dim F\", \"type\": \"box\", \"x\": [\"2020-08-14T17:00:00\", \"2020-08-14T17:00:00\", \"2020-08-14T17:00:00\", \"2020-08-14T17:00:00\", \"2020-08-14T17:00:00\", \"2020-08-15T08:00:00\", \"2020-08-15T08:00:00\", \"2020-08-15T08:00:00\", \"2020-08-15T08:00:00\", \"2020-08-15T08:00:00\", \"2020-08-15T16:00:00\", \"2020-08-15T16:00:00\", \"2020-08-15T16:00:00\", \"2020-08-15T16:00:00\", \"2020-08-15T16:00:00\", \"2020-08-17T09:00:00\", \"2020-08-17T09:00:00\", \"2020-08-17T09:00:00\", \"2020-08-17T09:00:00\", \"2020-08-17T09:00:00\", \"2020-08-17T17:00:00\", \"2020-08-17T17:00:00\", \"2020-08-17T17:00:00\", \"2020-08-17T17:00:00\", \"2020-08-17T17:00:00\", \"2020-08-20T09:00:00\", \"2020-08-20T09:00:00\", \"2020-08-20T09:00:00\", \"2020-08-20T09:00:00\", \"2020-08-20T09:00:00\", \"2020-08-20T16:00:00\", \"2020-08-20T16:00:00\", \"2020-08-20T16:00:00\", \"2020-08-20T16:00:00\", \"2020-08-20T16:00:00\"], \"xaxis\": \"x\", \"y\": [0.23800000548362732, 0.23899999260902405, 0.23800000548362732, 0.23800000548362732, 0.23600000143051147, 0.24699999392032623, 0.24699999392032623, 0.23800000548362732, 0.24199999868869781, 0.24799999594688416, 0.24400000274181366, 0.24799999594688416, 0.23999999463558197, 0.24500000476837158, 0.24199999868869781, 0.24699999392032623, 0.2460000067949295, 0.24699999392032623, 0.24500000476837158, 0.23999999463558197, 0.23499999940395355, 0.24899999797344208, 0.23600000143051147, 0.2290000021457672, 0.23899999260902405, 0.23999999463558197, 0.24199999868869781, 0.24300000071525574, 0.23999999463558197, 0.23999999463558197, 0.2460000067949295, 0.24300000071525574, 0.23999999463558197, 0.24799999594688416, 0.23999999463558197], \"yaxis\": \"y\"}, {\"line\": {\"color\": \"#FF5733\"}, \"name\": \"USL Hinge Dim F\", \"type\": \"scatter\", \"x\": [\"2020-08-14T17:00:00\", \"2020-08-14T17:00:00\", \"2020-08-14T17:00:00\", \"2020-08-14T17:00:00\", \"2020-08-14T17:00:00\", \"2020-08-15T08:00:00\", \"2020-08-15T08:00:00\", \"2020-08-15T08:00:00\", \"2020-08-15T08:00:00\", \"2020-08-15T08:00:00\", \"2020-08-15T16:00:00\", \"2020-08-15T16:00:00\", \"2020-08-15T16:00:00\", \"2020-08-15T16:00:00\", \"2020-08-15T16:00:00\", \"2020-08-17T09:00:00\", \"2020-08-17T09:00:00\", \"2020-08-17T09:00:00\", \"2020-08-17T09:00:00\", \"2020-08-17T09:00:00\", \"2020-08-17T17:00:00\", \"2020-08-17T17:00:00\", \"2020-08-17T17:00:00\", \"2020-08-17T17:00:00\", \"2020-08-17T17:00:00\", \"2020-08-20T09:00:00\", \"2020-08-20T09:00:00\", \"2020-08-20T09:00:00\", \"2020-08-20T09:00:00\", \"2020-08-20T09:00:00\", \"2020-08-20T16:00:00\", \"2020-08-20T16:00:00\", \"2020-08-20T16:00:00\", \"2020-08-20T16:00:00\", \"2020-08-20T16:00:00\"], \"xaxis\": \"x\", \"y\": [0.25, 0.25, 0.25, 0.25, 0.25, 0.25, 0.25, 0.25, 0.25, 0.25, 0.25, 0.25, 0.25, 0.25, 0.25, 0.25, 0.25, 0.25, 0.25, 0.25, 0.25, 0.25, 0.25, 0.25, 0.25, 0.25, 0.25, 0.25, 0.25, 0.25, 0.25, 0.25, 0.25, 0.25, 0.25], \"yaxis\": \"y\"}, {\"line\": {\"color\": \"#FF5733\"}, \"name\": \"LSL Hinge Dim F\", \"type\": \"scatter\", \"x\": [\"2020-08-14T17:00:00\", \"2020-08-14T17:00:00\", \"2020-08-14T17:00:00\", \"2020-08-14T17:00:00\", \"2020-08-14T17:00:00\", \"2020-08-15T08:00:00\", \"2020-08-15T08:00:00\", \"2020-08-15T08:00:00\", \"2020-08-15T08:00:00\", \"2020-08-15T08:00:00\", \"2020-08-15T16:00:00\", \"2020-08-15T16:00:00\", \"2020-08-15T16:00:00\", \"2020-08-15T16:00:00\", \"2020-08-15T16:00:00\", \"2020-08-17T09:00:00\", \"2020-08-17T09:00:00\", \"2020-08-17T09:00:00\", \"2020-08-17T09:00:00\", \"2020-08-17T09:00:00\", \"2020-08-17T17:00:00\", \"2020-08-17T17:00:00\", \"2020-08-17T17:00:00\", \"2020-08-17T17:00:00\", \"2020-08-17T17:00:00\", \"2020-08-20T09:00:00\", \"2020-08-20T09:00:00\", \"2020-08-20T09:00:00\", \"2020-08-20T09:00:00\", \"2020-08-20T09:00:00\", \"2020-08-20T16:00:00\", \"2020-08-20T16:00:00\", \"2020-08-20T16:00:00\", \"2020-08-20T16:00:00\", \"2020-08-20T16:00:00\"], \"xaxis\": \"x\", \"y\": [0.20999999344348907, 0.20999999344348907, 0.20999999344348907, 0.20999999344348907, 0.20999999344348907, 0.20999999344348907, 0.20999999344348907, 0.20999999344348907, 0.20999999344348907, 0.20999999344348907, 0.20999999344348907, 0.20999999344348907, 0.20999999344348907, 0.20999999344348907, 0.20999999344348907, 0.20999999344348907, 0.20999999344348907, 0.20999999344348907, 0.20999999344348907, 0.20999999344348907, 0.20999999344348907, 0.20999999344348907, 0.20999999344348907, 0.20999999344348907, 0.20999999344348907, 0.20999999344348907, 0.20999999344348907, 0.20999999344348907, 0.20999999344348907, 0.20999999344348907, 0.20999999344348907, 0.20999999344348907, 0.20999999344348907, 0.20999999344348907, 0.20999999344348907], \"yaxis\": \"y\"}, {\"line\": {\"color\": \"#4280F5\"}, \"name\": \"mean Chi\\u1ec1u d\\u00e0i Dim B\", \"type\": \"box\", \"x\": [\"2020-08-14T17:00:00\", \"2020-08-14T17:00:00\", \"2020-08-14T17:00:00\", \"2020-08-15T08:00:00\", \"2020-08-15T08:00:00\", \"2020-08-15T08:00:00\", \"2020-08-15T16:00:00\", \"2020-08-15T16:00:00\", \"2020-08-15T16:00:00\", \"2020-08-17T09:00:00\", \"2020-08-17T09:00:00\", \"2020-08-17T09:00:00\", \"2020-08-17T17:00:00\", \"2020-08-17T17:00:00\", \"2020-08-17T17:00:00\", \"2020-08-20T09:00:00\", \"2020-08-20T09:00:00\", \"2020-08-20T09:00:00\", \"2020-08-20T16:00:00\", \"2020-08-20T16:00:00\", \"2020-08-20T16:00:00\"], \"xaxis\": \"x2\", \"y\": [7.617000102996826, 7.617000102996826, 7.60699987411499, 7.61899995803833, 7.619999885559082, 7.611000061035156, 7.61899995803833, 7.618000030517578, 7.611000061035156, 7.616000175476074, 7.614999771118164, 7.61299991607666, 7.618000030517578, 7.616000175476074, 7.617000102996826, 7.611000061035156, 7.61299991607666, 7.613999843597412, 7.611000061035156, 7.611999988555908, 7.618000030517578], \"yaxis\": \"y2\"}, {\"line\": {\"color\": \"#FF5733\"}, \"name\": \"USL Chi\\u1ec1u d\\u00e0i Dim B\", \"type\": \"scatter\", \"x\": [\"2020-08-14T17:00:00\", \"2020-08-14T17:00:00\", \"2020-08-14T17:00:00\", \"2020-08-15T08:00:00\", \"2020-08-15T08:00:00\", \"2020-08-15T08:00:00\", \"2020-08-15T16:00:00\", \"2020-08-15T16:00:00\", \"2020-08-15T16:00:00\", \"2020-08-17T09:00:00\", \"2020-08-17T09:00:00\", \"2020-08-17T09:00:00\", \"2020-08-17T17:00:00\", \"2020-08-17T17:00:00\", \"2020-08-17T17:00:00\", \"2020-08-20T09:00:00\", \"2020-08-20T09:00:00\", \"2020-08-20T09:00:00\", \"2020-08-20T16:00:00\", \"2020-08-20T16:00:00\", \"2020-08-20T16:00:00\"], \"xaxis\": \"x2\", \"y\": [7.619999885559082, 7.619999885559082, 7.619999885559082, 7.619999885559082, 7.619999885559082, 7.619999885559082, 7.619999885559082, 7.619999885559082, 7.619999885559082, 7.619999885559082, 7.619999885559082, 7.619999885559082, 7.619999885559082, 7.619999885559082, 7.619999885559082, 7.619999885559082, 7.619999885559082, 7.619999885559082, 7.619999885559082, 7.619999885559082, 7.619999885559082], \"yaxis\": \"y2\"}, {\"line\": {\"color\": \"#FF5733\"}, \"name\": \"LSL Chi\\u1ec1u d\\u00e0i Dim B\", \"type\": \"scatter\", \"x\": [\"2020-08-14T17:00:00\", \"2020-08-14T17:00:00\", \"2020-08-14T17:00:00\", \"2020-08-15T08:00:00\", \"2020-08-15T08:00:00\", \"2020-08-15T08:00:00\", \"2020-08-15T16:00:00\", \"2020-08-15T16:00:00\", \"2020-08-15T16:00:00\", \"2020-08-17T09:00:00\", \"2020-08-17T09:00:00\", \"2020-08-17T09:00:00\", \"2020-08-17T17:00:00\", \"2020-08-17T17:00:00\", \"2020-08-17T17:00:00\", \"2020-08-20T09:00:00\", \"2020-08-20T09:00:00\", \"2020-08-20T09:00:00\", \"2020-08-20T16:00:00\", \"2020-08-20T16:00:00\", \"2020-08-20T16:00:00\"], \"xaxis\": \"x2\", \"y\": [7.599999904632568, 7.599999904632568, 7.599999904632568, 7.599999904632568, 7.599999904632568, 7.599999904632568, 7.599999904632568, 7.599999904632568, 7.599999904632568, 7.599999904632568, 7.599999904632568, 7.599999904632568, 7.599999904632568, 7.599999904632568, 7.599999904632568, 7.599999904632568, 7.599999904632568, 7.599999904632568, 7.599999904632568, 7.599999904632568, 7.599999904632568], \"yaxis\": \"y2\"}, {\"line\": {\"color\": \"#4280F5\"}, \"name\": \"mean Chi\\u1ec1u r\\u1ed9ng Dim A\", \"type\": \"box\", \"x\": [\"2020-08-14T17:00:00\", \"2020-08-14T17:00:00\", \"2020-08-14T17:00:00\", \"2020-08-15T08:00:00\", \"2020-08-15T08:00:00\", \"2020-08-15T08:00:00\", \"2020-08-15T16:00:00\", \"2020-08-15T16:00:00\", \"2020-08-15T16:00:00\", \"2020-08-17T09:00:00\", \"2020-08-17T09:00:00\", \"2020-08-17T09:00:00\", \"2020-08-17T17:00:00\", \"2020-08-17T17:00:00\", \"2020-08-17T17:00:00\", \"2020-08-20T09:00:00\", \"2020-08-20T09:00:00\", \"2020-08-20T09:00:00\", \"2020-08-20T16:00:00\", \"2020-08-20T16:00:00\", \"2020-08-20T16:00:00\"], \"xaxis\": \"x3\", \"y\": [3.8310000896453857, 3.8299999237060547, 3.8239998817443848, 3.8350000381469727, 3.828000068664551, 3.828000068664551, 3.819999933242798, 3.8329999446868896, 3.8269999027252197, 3.8259999752044678, 3.8259999752044678, 3.8239998817443848, 3.8340001106262207, 3.8259999752044678, 3.8299999237060547, 3.822000026702881, 3.822999954223633, 3.822999954223633, 3.8269999027252197, 3.8299999237060547, 3.822999954223633], \"yaxis\": \"y3\"}, {\"line\": {\"color\": \"#FF5733\"}, \"name\": \"USL Chi\\u1ec1u r\\u1ed9ng Dim A\", \"type\": \"scatter\", \"x\": [\"2020-08-14T17:00:00\", \"2020-08-14T17:00:00\", \"2020-08-14T17:00:00\", \"2020-08-15T08:00:00\", \"2020-08-15T08:00:00\", \"2020-08-15T08:00:00\", \"2020-08-15T16:00:00\", \"2020-08-15T16:00:00\", \"2020-08-15T16:00:00\", \"2020-08-17T09:00:00\", \"2020-08-17T09:00:00\", \"2020-08-17T09:00:00\", \"2020-08-17T17:00:00\", \"2020-08-17T17:00:00\", \"2020-08-17T17:00:00\", \"2020-08-20T09:00:00\", \"2020-08-20T09:00:00\", \"2020-08-20T09:00:00\", \"2020-08-20T16:00:00\", \"2020-08-20T16:00:00\", \"2020-08-20T16:00:00\"], \"xaxis\": \"x3\", \"y\": [3.8399999141693115, 3.8399999141693115, 3.8399999141693115, 3.8399999141693115, 3.8399999141693115, 3.8399999141693115, 3.8399999141693115, 3.8399999141693115, 3.8399999141693115, 3.8399999141693115, 3.8399999141693115, 3.8399999141693115, 3.8399999141693115, 3.8399999141693115, 3.8399999141693115, 3.8399999141693115, 3.8399999141693115, 3.8399999141693115, 3.8399999141693115, 3.8399999141693115, 3.8399999141693115], \"yaxis\": \"y3\"}, {\"line\": {\"color\": \"#FF5733\"}, \"name\": \"LSL Chi\\u1ec1u r\\u1ed9ng Dim A\", \"type\": \"scatter\", \"x\": [\"2020-08-14T17:00:00\", \"2020-08-14T17:00:00\", \"2020-08-14T17:00:00\", \"2020-08-15T08:00:00\", \"2020-08-15T08:00:00\", \"2020-08-15T08:00:00\", \"2020-08-15T16:00:00\", \"2020-08-15T16:00:00\", \"2020-08-15T16:00:00\", \"2020-08-17T09:00:00\", \"2020-08-17T09:00:00\", \"2020-08-17T09:00:00\", \"2020-08-17T17:00:00\", \"2020-08-17T17:00:00\", \"2020-08-17T17:00:00\", \"2020-08-20T09:00:00\", \"2020-08-20T09:00:00\", \"2020-08-20T09:00:00\", \"2020-08-20T16:00:00\", \"2020-08-20T16:00:00\", \"2020-08-20T16:00:00\"], \"xaxis\": \"x3\", \"y\": [3.819999933242798, 3.819999933242798, 3.819999933242798, 3.819999933242798, 3.819999933242798, 3.819999933242798, 3.819999933242798, 3.819999933242798, 3.819999933242798, 3.819999933242798, 3.819999933242798, 3.819999933242798, 3.819999933242798, 3.819999933242798, 3.819999933242798, 3.819999933242798, 3.819999933242798, 3.819999933242798, 3.819999933242798, 3.819999933242798, 3.819999933242798], \"yaxis\": \"y3\"}, {\"line\": {\"color\": \"#4280F5\"}, \"name\": \"mean L.T\\u00e2m Dim N\", \"type\": \"box\", \"x\": [\"2020-08-14T17:00:00\", \"2020-08-14T17:00:00\", \"2020-08-14T17:00:00\", \"2020-08-15T08:00:00\", \"2020-08-15T08:00:00\", \"2020-08-15T08:00:00\", \"2020-08-15T16:00:00\", \"2020-08-15T16:00:00\", \"2020-08-15T16:00:00\", \"2020-08-17T09:00:00\", \"2020-08-17T09:00:00\", \"2020-08-17T09:00:00\", \"2020-08-17T17:00:00\", \"2020-08-17T17:00:00\", \"2020-08-17T17:00:00\", \"2020-08-20T09:00:00\", \"2020-08-20T09:00:00\", \"2020-08-20T09:00:00\", \"2020-08-20T16:00:00\", \"2020-08-20T16:00:00\", \"2020-08-20T16:00:00\"], \"xaxis\": \"x4\", \"y\": [0.012000000104308128, 0.006000000052154064, 0.008999999612569809, 0.010999999940395355, 0.00800000037997961, 0.00800000037997961, 0.004999999888241291, 0.004000000189989805, 0.0020000000949949026, 0.014999999664723873, 0.00800000037997961, 0.01600000075995922, 0.0020000000949949026, 0.013000000268220901, 0.008999999612569809, 0.004999999888241291, 0.004999999888241291, 0.008999999612569809, 0.00800000037997961, 0.003000000026077032, 0.004999999888241291], \"yaxis\": \"y4\"}, {\"line\": {\"color\": \"#FF5733\"}, \"name\": \"USL L.T\\u00e2m Dim N\", \"type\": \"scatter\", \"x\": [\"2020-08-14T17:00:00\", \"2020-08-14T17:00:00\", \"2020-08-14T17:00:00\", \"2020-08-15T08:00:00\", \"2020-08-15T08:00:00\", \"2020-08-15T08:00:00\", \"2020-08-15T16:00:00\", \"2020-08-15T16:00:00\", \"2020-08-15T16:00:00\", \"2020-08-17T09:00:00\", \"2020-08-17T09:00:00\", \"2020-08-17T09:00:00\", \"2020-08-17T17:00:00\", \"2020-08-17T17:00:00\", \"2020-08-17T17:00:00\", \"2020-08-20T09:00:00\", \"2020-08-20T09:00:00\", \"2020-08-20T09:00:00\", \"2020-08-20T16:00:00\", \"2020-08-20T16:00:00\", \"2020-08-20T16:00:00\"], \"xaxis\": \"x4\", \"y\": [0.02500000037252903, 0.02500000037252903, 0.02500000037252903, 0.02500000037252903, 0.02500000037252903, 0.02500000037252903, 0.02500000037252903, 0.02500000037252903, 0.02500000037252903, 0.02500000037252903, 0.02500000037252903, 0.02500000037252903, 0.02500000037252903, 0.02500000037252903, 0.02500000037252903, 0.02500000037252903, 0.02500000037252903, 0.02500000037252903, 0.02500000037252903, 0.02500000037252903, 0.02500000037252903], \"yaxis\": \"y4\"}, {\"line\": {\"color\": \"#FF5733\"}, \"name\": \"LSL L.T\\u00e2m Dim N\", \"type\": \"scatter\", \"x\": [\"2020-08-14T17:00:00\", \"2020-08-14T17:00:00\", \"2020-08-14T17:00:00\", \"2020-08-15T08:00:00\", \"2020-08-15T08:00:00\", \"2020-08-15T08:00:00\", \"2020-08-15T16:00:00\", \"2020-08-15T16:00:00\", \"2020-08-15T16:00:00\", \"2020-08-17T09:00:00\", \"2020-08-17T09:00:00\", \"2020-08-17T09:00:00\", \"2020-08-17T17:00:00\", \"2020-08-17T17:00:00\", \"2020-08-17T17:00:00\", \"2020-08-20T09:00:00\", \"2020-08-20T09:00:00\", \"2020-08-20T09:00:00\", \"2020-08-20T16:00:00\", \"2020-08-20T16:00:00\", \"2020-08-20T16:00:00\"], \"xaxis\": \"x4\", \"y\": [-0.02500000037252903, -0.02500000037252903, -0.02500000037252903, -0.02500000037252903, -0.02500000037252903, -0.02500000037252903, -0.02500000037252903, -0.02500000037252903, -0.02500000037252903, -0.02500000037252903, -0.02500000037252903, -0.02500000037252903, -0.02500000037252903, -0.02500000037252903, -0.02500000037252903, -0.02500000037252903, -0.02500000037252903, -0.02500000037252903, -0.02500000037252903, -0.02500000037252903, -0.02500000037252903], \"yaxis\": \"y4\"}, {\"line\": {\"color\": \"#4280F5\"}, \"name\": \"mean Offset Dim M\", \"type\": \"box\", \"x\": [\"2020-08-14T17:00:00\", \"2020-08-14T17:00:00\", \"2020-08-14T17:00:00\", \"2020-08-14T17:00:00\", \"2020-08-15T08:00:00\", \"2020-08-15T08:00:00\", \"2020-08-15T08:00:00\", \"2020-08-15T08:00:00\", \"2020-08-15T16:00:00\", \"2020-08-15T16:00:00\", \"2020-08-15T16:00:00\", \"2020-08-15T16:00:00\", \"2020-08-17T09:00:00\", \"2020-08-17T09:00:00\", \"2020-08-17T09:00:00\", \"2020-08-17T09:00:00\", \"2020-08-17T17:00:00\", \"2020-08-17T17:00:00\", \"2020-08-17T17:00:00\", \"2020-08-17T17:00:00\", \"2020-08-20T09:00:00\", \"2020-08-20T09:00:00\", \"2020-08-20T09:00:00\", \"2020-08-20T09:00:00\", \"2020-08-20T16:00:00\", \"2020-08-20T16:00:00\", \"2020-08-20T16:00:00\", \"2020-08-20T16:00:00\"], \"xaxis\": \"x5\", \"y\": [0.010999999940395355, 0.007000000216066837, 0.014999999664723873, 0.00800000037997961, 0.007000000216066837, 0.032999999821186066, 0.0, 0.009999999776482582, 0.04899999871850014, 0.009999999776482582, 0.029999999329447746, 0.03500000014901161, 0.02199999988079071, 0.0430000014603138, 0.00800000037997961, 0.008999999612569809, 0.013000000268220901, 0.026000000536441803, 0.014999999664723873, 0.017999999225139618, 0.004999999888241291, 0.0020000000949949026, 0.023000000044703484, 0.003000000026077032, 0.012000000104308128, 0.02199999988079071, 0.0010000000474974513, 0.014999999664723873], \"yaxis\": \"y5\"}, {\"line\": {\"color\": \"#FF5733\"}, \"name\": \"USL Offset Dim M\", \"type\": \"scatter\", \"x\": [\"2020-08-14T17:00:00\", \"2020-08-14T17:00:00\", \"2020-08-14T17:00:00\", \"2020-08-14T17:00:00\", \"2020-08-15T08:00:00\", \"2020-08-15T08:00:00\", \"2020-08-15T08:00:00\", \"2020-08-15T08:00:00\", \"2020-08-15T16:00:00\", \"2020-08-15T16:00:00\", \"2020-08-15T16:00:00\", \"2020-08-15T16:00:00\", \"2020-08-17T09:00:00\", \"2020-08-17T09:00:00\", \"2020-08-17T09:00:00\", \"2020-08-17T09:00:00\", \"2020-08-17T17:00:00\", \"2020-08-17T17:00:00\", \"2020-08-17T17:00:00\", \"2020-08-17T17:00:00\", \"2020-08-20T09:00:00\", \"2020-08-20T09:00:00\", \"2020-08-20T09:00:00\", \"2020-08-20T09:00:00\", \"2020-08-20T16:00:00\", \"2020-08-20T16:00:00\", \"2020-08-20T16:00:00\", \"2020-08-20T16:00:00\"], \"xaxis\": \"x5\", \"y\": [0.05000000074505806, 0.05000000074505806, 0.05000000074505806, 0.05000000074505806, 0.05000000074505806, 0.05000000074505806, 0.05000000074505806, 0.05000000074505806, 0.05000000074505806, 0.05000000074505806, 0.05000000074505806, 0.05000000074505806, 0.05000000074505806, 0.05000000074505806, 0.05000000074505806, 0.05000000074505806, 0.05000000074505806, 0.05000000074505806, 0.05000000074505806, 0.05000000074505806, 0.05000000074505806, 0.05000000074505806, 0.05000000074505806, 0.05000000074505806, 0.05000000074505806, 0.05000000074505806, 0.05000000074505806, 0.05000000074505806], \"yaxis\": \"y5\"}, {\"line\": {\"color\": \"#FF5733\"}, \"name\": \"LSL Offset Dim M\", \"type\": \"scatter\", \"x\": [\"2020-08-14T17:00:00\", \"2020-08-14T17:00:00\", \"2020-08-14T17:00:00\", \"2020-08-14T17:00:00\", \"2020-08-15T08:00:00\", \"2020-08-15T08:00:00\", \"2020-08-15T08:00:00\", \"2020-08-15T08:00:00\", \"2020-08-15T16:00:00\", \"2020-08-15T16:00:00\", \"2020-08-15T16:00:00\", \"2020-08-15T16:00:00\", \"2020-08-17T09:00:00\", \"2020-08-17T09:00:00\", \"2020-08-17T09:00:00\", \"2020-08-17T09:00:00\", \"2020-08-17T17:00:00\", \"2020-08-17T17:00:00\", \"2020-08-17T17:00:00\", \"2020-08-17T17:00:00\", \"2020-08-20T09:00:00\", \"2020-08-20T09:00:00\", \"2020-08-20T09:00:00\", \"2020-08-20T09:00:00\", \"2020-08-20T16:00:00\", \"2020-08-20T16:00:00\", \"2020-08-20T16:00:00\", \"2020-08-20T16:00:00\"], \"xaxis\": \"x5\", \"y\": [null, null, null, null, null, null, null, null, null, null, null, null, null, null, null, null, null, null, null, null, null, null, null, null, null, null, null, null], \"yaxis\": \"y5\"}, {\"line\": {\"color\": \"#4280F5\"}, \"name\": \"mean Ba v\\u1edb tr\\u00ean membrane\", \"type\": \"box\", \"x\": [\"2020-08-14T17:00:00\", \"2020-08-14T17:00:00\", \"2020-08-14T17:00:00\", \"2020-08-14T17:00:00\", \"2020-08-14T17:00:00\", \"2020-08-15T08:00:00\", \"2020-08-15T08:00:00\", \"2020-08-15T08:00:00\", \"2020-08-15T08:00:00\", \"2020-08-15T08:00:00\", \"2020-08-15T16:00:00\", \"2020-08-15T16:00:00\", \"2020-08-15T16:00:00\", \"2020-08-15T16:00:00\", \"2020-08-15T16:00:00\", \"2020-08-17T09:00:00\", \"2020-08-17T09:00:00\", \"2020-08-17T09:00:00\", \"2020-08-17T09:00:00\", \"2020-08-17T09:00:00\", \"2020-08-17T17:00:00\", \"2020-08-17T17:00:00\", \"2020-08-17T17:00:00\", \"2020-08-17T17:00:00\", \"2020-08-17T17:00:00\", \"2020-08-20T09:00:00\", \"2020-08-20T09:00:00\", \"2020-08-20T09:00:00\", \"2020-08-20T09:00:00\", \"2020-08-20T09:00:00\", \"2020-08-20T16:00:00\", \"2020-08-20T16:00:00\", \"2020-08-20T16:00:00\", \"2020-08-20T16:00:00\", \"2020-08-20T16:00:00\"], \"xaxis\": \"x6\", \"y\": [0.004000000189989805, 0.003000000026077032, 0.0020000000949949026, 0.004999999888241291, 0.004999999888241291, 0.003000000026077032, 0.0010000000474974513, 0.0020000000949949026, 0.0020000000949949026, 0.003000000026077032, 0.004000000189989805, 0.003000000026077032, 0.0020000000949949026, 0.003000000026077032, 0.004000000189989805, 0.0020000000949949026, 0.004000000189989805, 0.004000000189989805, 0.004999999888241291, 0.004999999888241291, 0.004999999888241291, 0.003000000026077032, 0.004000000189989805, 0.0020000000949949026, 0.0020000000949949026, 0.004000000189989805, 0.004000000189989805, 0.004999999888241291, 0.003000000026077032, 0.004999999888241291, 0.004000000189989805, 0.0020000000949949026, 0.004000000189989805, 0.003000000026077032, 0.004000000189989805], \"yaxis\": \"y6\"}, {\"line\": {\"color\": \"#FF5733\"}, \"name\": \"USL Ba v\\u1edb tr\\u00ean membrane\", \"type\": \"scatter\", \"x\": [\"2020-08-14T17:00:00\", \"2020-08-14T17:00:00\", \"2020-08-14T17:00:00\", \"2020-08-14T17:00:00\", \"2020-08-14T17:00:00\", \"2020-08-15T08:00:00\", \"2020-08-15T08:00:00\", \"2020-08-15T08:00:00\", \"2020-08-15T08:00:00\", \"2020-08-15T08:00:00\", \"2020-08-15T16:00:00\", \"2020-08-15T16:00:00\", \"2020-08-15T16:00:00\", \"2020-08-15T16:00:00\", \"2020-08-15T16:00:00\", \"2020-08-17T09:00:00\", \"2020-08-17T09:00:00\", \"2020-08-17T09:00:00\", \"2020-08-17T09:00:00\", \"2020-08-17T09:00:00\", \"2020-08-17T17:00:00\", \"2020-08-17T17:00:00\", \"2020-08-17T17:00:00\", \"2020-08-17T17:00:00\", \"2020-08-17T17:00:00\", \"2020-08-20T09:00:00\", \"2020-08-20T09:00:00\", \"2020-08-20T09:00:00\", \"2020-08-20T09:00:00\", \"2020-08-20T09:00:00\", \"2020-08-20T16:00:00\", \"2020-08-20T16:00:00\", \"2020-08-20T16:00:00\", \"2020-08-20T16:00:00\", \"2020-08-20T16:00:00\"], \"xaxis\": \"x6\", \"y\": [0.004999999888241291, 0.004999999888241291, 0.004999999888241291, 0.004999999888241291, 0.004999999888241291, 0.004999999888241291, 0.004999999888241291, 0.004999999888241291, 0.004999999888241291, 0.004999999888241291, 0.004999999888241291, 0.004999999888241291, 0.004999999888241291, 0.004999999888241291, 0.004999999888241291, 0.004999999888241291, 0.004999999888241291, 0.004999999888241291, 0.004999999888241291, 0.004999999888241291, 0.004999999888241291, 0.004999999888241291, 0.004999999888241291, 0.004999999888241291, 0.004999999888241291, 0.004999999888241291, 0.004999999888241291, 0.004999999888241291, 0.004999999888241291, 0.004999999888241291, 0.004999999888241291, 0.004999999888241291, 0.004999999888241291, 0.004999999888241291, 0.004999999888241291], \"yaxis\": \"y6\"}, {\"line\": {\"color\": \"#FF5733\"}, \"name\": \"LSL Ba v\\u1edb tr\\u00ean membrane\", \"type\": \"scatter\", \"x\": [\"2020-08-14T17:00:00\", \"2020-08-14T17:00:00\", \"2020-08-14T17:00:00\", \"2020-08-14T17:00:00\", \"2020-08-14T17:00:00\", \"2020-08-15T08:00:00\", \"2020-08-15T08:00:00\", \"2020-08-15T08:00:00\", \"2020-08-15T08:00:00\", \"2020-08-15T08:00:00\", \"2020-08-15T16:00:00\", \"2020-08-15T16:00:00\", \"2020-08-15T16:00:00\", \"2020-08-15T16:00:00\", \"2020-08-15T16:00:00\", \"2020-08-17T09:00:00\", \"2020-08-17T09:00:00\", \"2020-08-17T09:00:00\", \"2020-08-17T09:00:00\", \"2020-08-17T09:00:00\", \"2020-08-17T17:00:00\", \"2020-08-17T17:00:00\", \"2020-08-17T17:00:00\", \"2020-08-17T17:00:00\", \"2020-08-17T17:00:00\", \"2020-08-20T09:00:00\", \"2020-08-20T09:00:00\", \"2020-08-20T09:00:00\", \"2020-08-20T09:00:00\", \"2020-08-20T09:00:00\", \"2020-08-20T16:00:00\", \"2020-08-20T16:00:00\", \"2020-08-20T16:00:00\", \"2020-08-20T16:00:00\", \"2020-08-20T16:00:00\"], \"xaxis\": \"x6\", \"y\": [null, null, null, null, null, null, null, null, null, null, null, null, null, null, null, null, null, null, null, null, null, null, null, null, null, null, null, null, null, null, null, null, null, null, null], \"yaxis\": \"y6\"}],\n",
              "                        {\"annotations\": [{\"font\": {\"size\": 16}, \"showarrow\": false, \"text\": \"Hinge Dim F\", \"x\": 0.5, \"xanchor\": \"center\", \"xref\": \"paper\", \"y\": 1.0, \"yanchor\": \"bottom\", \"yref\": \"paper\"}, {\"font\": {\"size\": 16}, \"showarrow\": false, \"text\": \"Chi\\u1ec1u d\\u00e0i Dim B\", \"x\": 0.5, \"xanchor\": \"center\", \"xref\": \"paper\", \"y\": 0.825, \"yanchor\": \"bottom\", \"yref\": \"paper\"}, {\"font\": {\"size\": 16}, \"showarrow\": false, \"text\": \"Chi\\u1ec1u r\\u1ed9ng Dim A\", \"x\": 0.5, \"xanchor\": \"center\", \"xref\": \"paper\", \"y\": 0.65, \"yanchor\": \"bottom\", \"yref\": \"paper\"}, {\"font\": {\"size\": 16}, \"showarrow\": false, \"text\": \"L.T\\u00e2m Dim N\", \"x\": 0.5, \"xanchor\": \"center\", \"xref\": \"paper\", \"y\": 0.475, \"yanchor\": \"bottom\", \"yref\": \"paper\"}, {\"font\": {\"size\": 16}, \"showarrow\": false, \"text\": \"Offset Dim M\", \"x\": 0.5, \"xanchor\": \"center\", \"xref\": \"paper\", \"y\": 0.3, \"yanchor\": \"bottom\", \"yref\": \"paper\"}, {\"font\": {\"size\": 16}, \"showarrow\": false, \"text\": \"Ba v\\u1edb tr\\u00ean membrane\", \"x\": 0.5, \"xanchor\": \"center\", \"xref\": \"paper\", \"y\": 0.125, \"yanchor\": \"bottom\", \"yref\": \"paper\"}], \"height\": 1200, \"template\": {\"data\": {\"bar\": [{\"error_x\": {\"color\": \"#2a3f5f\"}, \"error_y\": {\"color\": \"#2a3f5f\"}, \"marker\": {\"line\": {\"color\": \"#E5ECF6\", \"width\": 0.5}}, \"type\": \"bar\"}], \"barpolar\": [{\"marker\": {\"line\": {\"color\": \"#E5ECF6\", \"width\": 0.5}}, \"type\": \"barpolar\"}], \"carpet\": [{\"aaxis\": {\"endlinecolor\": \"#2a3f5f\", \"gridcolor\": \"white\", \"linecolor\": \"white\", \"minorgridcolor\": \"white\", \"startlinecolor\": \"#2a3f5f\"}, \"baxis\": {\"endlinecolor\": \"#2a3f5f\", \"gridcolor\": \"white\", \"linecolor\": \"white\", \"minorgridcolor\": \"white\", \"startlinecolor\": \"#2a3f5f\"}, \"type\": \"carpet\"}], \"choropleth\": [{\"colorbar\": {\"outlinewidth\": 0, \"ticks\": \"\"}, \"type\": \"choropleth\"}], \"contour\": [{\"colorbar\": {\"outlinewidth\": 0, \"ticks\": \"\"}, \"colorscale\": [[0.0, \"#0d0887\"], [0.1111111111111111, \"#46039f\"], [0.2222222222222222, \"#7201a8\"], [0.3333333333333333, \"#9c179e\"], [0.4444444444444444, \"#bd3786\"], [0.5555555555555556, \"#d8576b\"], [0.6666666666666666, \"#ed7953\"], [0.7777777777777778, \"#fb9f3a\"], [0.8888888888888888, \"#fdca26\"], [1.0, \"#f0f921\"]], \"type\": \"contour\"}], \"contourcarpet\": [{\"colorbar\": {\"outlinewidth\": 0, \"ticks\": \"\"}, \"type\": \"contourcarpet\"}], \"heatmap\": [{\"colorbar\": {\"outlinewidth\": 0, \"ticks\": \"\"}, \"colorscale\": [[0.0, \"#0d0887\"], [0.1111111111111111, \"#46039f\"], [0.2222222222222222, \"#7201a8\"], [0.3333333333333333, \"#9c179e\"], [0.4444444444444444, \"#bd3786\"], [0.5555555555555556, \"#d8576b\"], [0.6666666666666666, \"#ed7953\"], [0.7777777777777778, \"#fb9f3a\"], [0.8888888888888888, \"#fdca26\"], [1.0, \"#f0f921\"]], \"type\": \"heatmap\"}], \"heatmapgl\": [{\"colorbar\": {\"outlinewidth\": 0, \"ticks\": \"\"}, \"colorscale\": [[0.0, \"#0d0887\"], [0.1111111111111111, \"#46039f\"], [0.2222222222222222, \"#7201a8\"], [0.3333333333333333, \"#9c179e\"], [0.4444444444444444, \"#bd3786\"], [0.5555555555555556, \"#d8576b\"], [0.6666666666666666, \"#ed7953\"], [0.7777777777777778, \"#fb9f3a\"], [0.8888888888888888, \"#fdca26\"], [1.0, \"#f0f921\"]], \"type\": \"heatmapgl\"}], \"histogram\": [{\"marker\": {\"colorbar\": {\"outlinewidth\": 0, \"ticks\": \"\"}}, \"type\": \"histogram\"}], \"histogram2d\": [{\"colorbar\": {\"outlinewidth\": 0, \"ticks\": \"\"}, \"colorscale\": [[0.0, \"#0d0887\"], [0.1111111111111111, \"#46039f\"], [0.2222222222222222, \"#7201a8\"], [0.3333333333333333, \"#9c179e\"], [0.4444444444444444, \"#bd3786\"], [0.5555555555555556, \"#d8576b\"], [0.6666666666666666, \"#ed7953\"], [0.7777777777777778, \"#fb9f3a\"], [0.8888888888888888, \"#fdca26\"], [1.0, \"#f0f921\"]], \"type\": \"histogram2d\"}], \"histogram2dcontour\": [{\"colorbar\": {\"outlinewidth\": 0, \"ticks\": \"\"}, \"colorscale\": [[0.0, \"#0d0887\"], [0.1111111111111111, \"#46039f\"], [0.2222222222222222, \"#7201a8\"], [0.3333333333333333, \"#9c179e\"], [0.4444444444444444, \"#bd3786\"], [0.5555555555555556, \"#d8576b\"], [0.6666666666666666, \"#ed7953\"], [0.7777777777777778, \"#fb9f3a\"], [0.8888888888888888, \"#fdca26\"], [1.0, \"#f0f921\"]], \"type\": \"histogram2dcontour\"}], \"mesh3d\": [{\"colorbar\": {\"outlinewidth\": 0, \"ticks\": \"\"}, \"type\": \"mesh3d\"}], \"parcoords\": [{\"line\": {\"colorbar\": {\"outlinewidth\": 0, \"ticks\": \"\"}}, \"type\": \"parcoords\"}], \"pie\": [{\"automargin\": true, \"type\": \"pie\"}], \"scatter\": [{\"marker\": {\"colorbar\": {\"outlinewidth\": 0, \"ticks\": \"\"}}, \"type\": \"scatter\"}], \"scatter3d\": [{\"line\": {\"colorbar\": {\"outlinewidth\": 0, \"ticks\": \"\"}}, \"marker\": {\"colorbar\": {\"outlinewidth\": 0, \"ticks\": \"\"}}, \"type\": \"scatter3d\"}], \"scattercarpet\": [{\"marker\": {\"colorbar\": {\"outlinewidth\": 0, \"ticks\": \"\"}}, \"type\": \"scattercarpet\"}], \"scattergeo\": [{\"marker\": {\"colorbar\": {\"outlinewidth\": 0, \"ticks\": \"\"}}, \"type\": \"scattergeo\"}], \"scattergl\": [{\"marker\": {\"colorbar\": {\"outlinewidth\": 0, \"ticks\": \"\"}}, \"type\": \"scattergl\"}], \"scattermapbox\": [{\"marker\": {\"colorbar\": {\"outlinewidth\": 0, \"ticks\": \"\"}}, \"type\": \"scattermapbox\"}], \"scatterpolar\": [{\"marker\": {\"colorbar\": {\"outlinewidth\": 0, \"ticks\": \"\"}}, \"type\": \"scatterpolar\"}], \"scatterpolargl\": [{\"marker\": {\"colorbar\": {\"outlinewidth\": 0, \"ticks\": \"\"}}, \"type\": \"scatterpolargl\"}], \"scatterternary\": [{\"marker\": {\"colorbar\": {\"outlinewidth\": 0, \"ticks\": \"\"}}, \"type\": \"scatterternary\"}], \"surface\": [{\"colorbar\": {\"outlinewidth\": 0, \"ticks\": \"\"}, \"colorscale\": [[0.0, \"#0d0887\"], [0.1111111111111111, \"#46039f\"], [0.2222222222222222, \"#7201a8\"], [0.3333333333333333, \"#9c179e\"], [0.4444444444444444, \"#bd3786\"], [0.5555555555555556, \"#d8576b\"], [0.6666666666666666, \"#ed7953\"], [0.7777777777777778, \"#fb9f3a\"], [0.8888888888888888, \"#fdca26\"], [1.0, \"#f0f921\"]], \"type\": \"surface\"}], \"table\": [{\"cells\": {\"fill\": {\"color\": \"#EBF0F8\"}, \"line\": {\"color\": \"white\"}}, \"header\": {\"fill\": {\"color\": \"#C8D4E3\"}, \"line\": {\"color\": \"white\"}}, \"type\": \"table\"}]}, \"layout\": {\"annotationdefaults\": {\"arrowcolor\": \"#2a3f5f\", \"arrowhead\": 0, \"arrowwidth\": 1}, \"coloraxis\": {\"colorbar\": {\"outlinewidth\": 0, \"ticks\": \"\"}}, \"colorscale\": {\"diverging\": [[0, \"#8e0152\"], [0.1, \"#c51b7d\"], [0.2, \"#de77ae\"], [0.3, \"#f1b6da\"], [0.4, \"#fde0ef\"], [0.5, \"#f7f7f7\"], [0.6, \"#e6f5d0\"], [0.7, \"#b8e186\"], [0.8, \"#7fbc41\"], [0.9, \"#4d9221\"], [1, \"#276419\"]], \"sequential\": [[0.0, \"#0d0887\"], [0.1111111111111111, \"#46039f\"], [0.2222222222222222, \"#7201a8\"], [0.3333333333333333, \"#9c179e\"], [0.4444444444444444, \"#bd3786\"], [0.5555555555555556, \"#d8576b\"], [0.6666666666666666, \"#ed7953\"], [0.7777777777777778, \"#fb9f3a\"], [0.8888888888888888, \"#fdca26\"], [1.0, \"#f0f921\"]], \"sequentialminus\": [[0.0, \"#0d0887\"], [0.1111111111111111, \"#46039f\"], [0.2222222222222222, \"#7201a8\"], [0.3333333333333333, \"#9c179e\"], [0.4444444444444444, \"#bd3786\"], [0.5555555555555556, \"#d8576b\"], [0.6666666666666666, \"#ed7953\"], [0.7777777777777778, \"#fb9f3a\"], [0.8888888888888888, \"#fdca26\"], [1.0, \"#f0f921\"]]}, \"colorway\": [\"#636efa\", \"#EF553B\", \"#00cc96\", \"#ab63fa\", \"#FFA15A\", \"#19d3f3\", \"#FF6692\", \"#B6E880\", \"#FF97FF\", \"#FECB52\"], \"font\": {\"color\": \"#2a3f5f\"}, \"geo\": {\"bgcolor\": \"white\", \"lakecolor\": \"white\", \"landcolor\": \"#E5ECF6\", \"showlakes\": true, \"showland\": true, \"subunitcolor\": \"white\"}, \"hoverlabel\": {\"align\": \"left\"}, \"hovermode\": \"closest\", \"mapbox\": {\"style\": \"light\"}, \"paper_bgcolor\": \"white\", \"plot_bgcolor\": \"#E5ECF6\", \"polar\": {\"angularaxis\": {\"gridcolor\": \"white\", \"linecolor\": \"white\", \"ticks\": \"\"}, \"bgcolor\": \"#E5ECF6\", \"radialaxis\": {\"gridcolor\": \"white\", \"linecolor\": \"white\", \"ticks\": \"\"}}, \"scene\": {\"xaxis\": {\"backgroundcolor\": \"#E5ECF6\", \"gridcolor\": \"white\", \"gridwidth\": 2, \"linecolor\": \"white\", \"showbackground\": true, \"ticks\": \"\", \"zerolinecolor\": \"white\"}, \"yaxis\": {\"backgroundcolor\": \"#E5ECF6\", \"gridcolor\": \"white\", \"gridwidth\": 2, \"linecolor\": \"white\", \"showbackground\": true, \"ticks\": \"\", \"zerolinecolor\": \"white\"}, \"zaxis\": {\"backgroundcolor\": \"#E5ECF6\", \"gridcolor\": \"white\", \"gridwidth\": 2, \"linecolor\": \"white\", \"showbackground\": true, \"ticks\": \"\", \"zerolinecolor\": \"white\"}}, \"shapedefaults\": {\"line\": {\"color\": \"#2a3f5f\"}}, \"ternary\": {\"aaxis\": {\"gridcolor\": \"white\", \"linecolor\": \"white\", \"ticks\": \"\"}, \"baxis\": {\"gridcolor\": \"white\", \"linecolor\": \"white\", \"ticks\": \"\"}, \"bgcolor\": \"#E5ECF6\", \"caxis\": {\"gridcolor\": \"white\", \"linecolor\": \"white\", \"ticks\": \"\"}}, \"title\": {\"x\": 0.05}, \"xaxis\": {\"automargin\": true, \"gridcolor\": \"white\", \"linecolor\": \"white\", \"ticks\": \"\", \"title\": {\"standoff\": 15}, \"zerolinecolor\": \"white\", \"zerolinewidth\": 2}, \"yaxis\": {\"automargin\": true, \"gridcolor\": \"white\", \"linecolor\": \"white\", \"ticks\": \"\", \"title\": {\"standoff\": 15}, \"zerolinecolor\": \"white\", \"zerolinewidth\": 2}}}, \"title\": {\"text\": \"Line chart\"}, \"width\": 1200, \"xaxis\": {\"anchor\": \"y\", \"domain\": [0.0, 1.0]}, \"xaxis2\": {\"anchor\": \"y2\", \"domain\": [0.0, 1.0]}, \"xaxis3\": {\"anchor\": \"y3\", \"domain\": [0.0, 1.0]}, \"xaxis4\": {\"anchor\": \"y4\", \"domain\": [0.0, 1.0]}, \"xaxis5\": {\"anchor\": \"y5\", \"domain\": [0.0, 1.0]}, \"xaxis6\": {\"anchor\": \"y6\", \"domain\": [0.0, 1.0]}, \"yaxis\": {\"anchor\": \"x\", \"domain\": [0.875, 1.0]}, \"yaxis2\": {\"anchor\": \"x2\", \"domain\": [0.7, 0.825]}, \"yaxis3\": {\"anchor\": \"x3\", \"domain\": [0.525, 0.65]}, \"yaxis4\": {\"anchor\": \"x4\", \"domain\": [0.35, 0.475]}, \"yaxis5\": {\"anchor\": \"x5\", \"domain\": [0.175, 0.3]}, \"yaxis6\": {\"anchor\": \"x6\", \"domain\": [0.0, 0.125]}},\n",
              "                        {\"responsive\": true}\n",
              "                    ).then(function(){\n",
              "                            \n",
              "var gd = document.getElementById('0e9ad51a-9d3b-4019-b9f9-a9c1d11c1c6f');\n",
              "var x = new MutationObserver(function (mutations, observer) {{\n",
              "        var display = window.getComputedStyle(gd).display;\n",
              "        if (!display || display === 'none') {{\n",
              "            console.log([gd, 'removed!']);\n",
              "            Plotly.purge(gd);\n",
              "            observer.disconnect();\n",
              "        }}\n",
              "}});\n",
              "\n",
              "// Listen for the removal of the full notebook cells\n",
              "var notebookContainer = gd.closest('#notebook-container');\n",
              "if (notebookContainer) {{\n",
              "    x.observe(notebookContainer, {childList: true});\n",
              "}}\n",
              "\n",
              "// Listen for the clearing of the current output cell\n",
              "var outputEl = gd.closest('.output');\n",
              "if (outputEl) {{\n",
              "    x.observe(outputEl, {childList: true});\n",
              "}}\n",
              "\n",
              "                        })\n",
              "                };\n",
              "                \n",
              "            </script>\n",
              "        </div>\n",
              "</body>\n",
              "</html>"
            ]
          },
          "metadata": {
            "tags": []
          }
        }
      ]
    },
    {
      "cell_type": "markdown",
      "metadata": {
        "id": "jGNbbTDg5eNj",
        "colab_type": "text"
      },
      "source": [
        "# All process in one week"
      ]
    },
    {
      "cell_type": "code",
      "metadata": {
        "id": "nn_LV1cCIxm-",
        "colab_type": "code",
        "colab": {}
      },
      "source": [
        "import datetime\n",
        "import seaborn as sns; sns.set()\n",
        "import pandas as pd\n",
        "import numpy as np\n",
        "import matplotlib.pyplot as plt\n",
        "\n",
        "import plotly.graph_objects as go\n",
        "from plotly.subplots import make_subplots\n",
        "import plotly.express as px\n",
        "from plotly.offline import iplot\n",
        "import re\n",
        "\n",
        "from statsmodels.tsa.arima_model import ARIMA\n",
        "import statsmodels.api as sm\n",
        "from statsmodels.graphics.tsaplots import plot_acf\n",
        "from statsmodels.stats.diagnostic import acorr_ljungbox\n",
        "import scipy.stats as scs\n",
        "from math import sqrt\n",
        "from sklearn.metrics import mean_squared_error,mean_absolute_error\n",
        "from sklearn.model_selection import train_test_split\n",
        "from sklearn.preprocessing import MinMaxScaler,StandardScaler"
      ],
      "execution_count": null,
      "outputs": []
    },
    {
      "cell_type": "code",
      "metadata": {
        "id": "_ndtlmeY4ygh",
        "colab_type": "code",
        "colab": {
          "base_uri": "https://localhost:8080/",
          "height": 54
        },
        "outputId": "07bafecc-d809-41c9-9349-c415e83b93e4"
      },
      "source": [
        "path='/content/drive/My Drive/Data/Sonion/Control plan and stast/Control plan 3000/Control Plan data REC 3000 - WK34 - 2020.xlsm'\n",
        "import xlrd\n",
        "xls = xlrd.open_workbook(path, on_demand=True)\n",
        "sheet_names=xls.sheet_names()\n",
        "print(xls.sheet_names())\n",
        "sheet_dict={}\n",
        "xls = pd.ExcelFile(path)\n",
        "for name in sheet_names:\n",
        "  sheet_dict[name] = pd.read_excel(xls, name)"
      ],
      "execution_count": null,
      "outputs": [
        {
          "output_type": "stream",
          "text": [
            "['Master list', '39682', '38682', '30682', '37682', '30665', '30660-37660-38660', '30380-37380-38380', '37670-39670', '37662', '30650-37650 (3500T)', '37650-38655-39650', '37641', '30470-37470', '38546', '39615', '38940', '38594', '37560', '30740', '37640-38635', '30674-37674-38674 ', '30672-37672-38672', '30592', '30544-37544-38544-39544', '30538', '30530-37530-39530', '30480-37480-38481', '30370-37370-38370 ', '30750-30940-39750 _S1', '30750-30940-39750 _S2', '37750-37940_S1', '37750-37940_S2', '37751']\n"
          ],
          "name": "stdout"
        }
      ]
    },
    {
      "cell_type": "code",
      "metadata": {
        "id": "0S-VHJ6d5rfW",
        "colab_type": "code",
        "colab": {
          "base_uri": "https://localhost:8080/",
          "height": 34
        },
        "outputId": "412dfd3b-ca76-4f78-9cbe-a30fd9ce16c1"
      },
      "source": [
        "sheet_all={}\n",
        "sheet_error=[]\n",
        "for name_sheet in sheet_names[1:]: # all sheet\n",
        "  #print(name_sheet)\n",
        "  sheet=sheet_dict[name_sheet]\n",
        "\n",
        "  # find begin and end col\n",
        "  values_col=sheet.iloc[22,:]\n",
        "  values_col.reset_index(drop=True,inplace=True)\n",
        "  begin_col=values_col[values_col=='Kích thước\\nDimension'].index\n",
        "  begin_col=begin_col+1\n",
        "  end_col=values_col[values_col=='MSNV'].index\n",
        "  #print(begin_col,end_col)\n",
        " \n",
        "  df_dict={} # add all value, USL, LSL, UCL... in sheet\n",
        "  try:\n",
        "    for name in sheet.columns[begin_col[0]:end_col[0]]:\n",
        "      \n",
        "        df=pd.DataFrame()\n",
        "        \n",
        "        #tolerance_dict[sheet[name][22]]=[sheet[name][24],sheet[name][23]]\n",
        "        df['Date']=sheet[sheet.columns[9]][25:]\n",
        "        df['Date']=df['Date'].apply(lambda x: x.strftime(\"%Y %m %d %H\"))\n",
        "        df['Date']=pd.to_datetime(df['Date'])\n",
        "        #df['Hour']=df['Date'].dt.hour\n",
        "        df['Value']=sheet[name][25:]\n",
        "        df['USL']=sheet[name][23] # max\n",
        "        df['LSL']=sheet[name][24] # min\n",
        "        df.dropna(subset=['Value'],inplace=True)\n",
        "        #UCL,LCL,nominal:\n",
        "        sigma=3\n",
        "        df['UCL']=df['Value'].mean() + df['Value'].std()*sigma\n",
        "        df['LCL']=df['Value'].mean() - df['Value'].std()*sigma\n",
        "        df['Mean']=df['Value'].mean()\n",
        "        df[df.columns[1:]]=df[df.columns[1:]].astype('float32')\n",
        "        dim_name=sheet[name][22]\n",
        "        df_dict[dim_name]=df.reset_index(drop=True)\n",
        "  except:\n",
        "    sheet_error.append(name_sheet)\n",
        "    continue\n",
        "  sheet_all[name_sheet]=df_dict\n",
        "print(sheet_error)"
      ],
      "execution_count": null,
      "outputs": [
        {
          "output_type": "stream",
          "text": [
            "['37560', '30740', '37751']\n"
          ],
          "name": "stdout"
        }
      ]
    },
    {
      "cell_type": "code",
      "metadata": {
        "id": "MlNqaIub9r0J",
        "colab_type": "code",
        "colab": {}
      },
      "source": [
        "for sheet_name in sheet_all.keys():\n",
        "  df_dict=sheet_all[sheet_name]\n",
        "\n",
        "  i=1\n",
        "  #Layout\n",
        "  fig = make_subplots(\n",
        "      rows=len(df_dict), cols=1,\n",
        "      #shared_xaxes=True, # share same axis\n",
        "      #vertical_spacing=0.05, # adjust spacing between charts\n",
        "      #column_widths=[0.8, 0.2],\n",
        "      subplot_titles=(list(df_dict.keys()))\n",
        "  )\n",
        "  for name in df_dict.keys(): #also group\n",
        "    df=df_dict[name].copy()\n",
        "    df=df.sort_values(by=['Date'])\n",
        "    for a in df.columns[1:]:\n",
        "      df[a] = df[a].round(decimals=3)\n",
        "\n",
        "    df=df.groupby('Date').mean()\n",
        "    #df=df.set_index('Date')\n",
        "    #if start_date != '':\n",
        "    #  df=df[start_date:end_date]\n",
        "    #Control chart 1 \n",
        "    fig.append_trace(go.Scatter(\n",
        "                            x=df.index, y=df['Value'],mode='lines+markers',\n",
        "                            name='mean ' + name,line=dict( color='#4280F5')\n",
        "                            ),row=i, col=1\n",
        "                  )\n",
        "    #USL, LSL\n",
        "    fig.append_trace(go.Scatter(x=df.index, y=df['USL'],name='USL '+name, line=dict( color='#FF5733'),mode='lines'),row=i, col=1)\n",
        "    fig.append_trace(go.Scatter(x=df.index, y=df['LSL'],name='LSL '+name,line=dict( color='#FF5733'),mode='lines'),row=i, col=1)\n",
        "    #fig.append_trace(go.Scatter(x=df['Datef'], y=df['Nominal'],name='Nominal '+name,line=dict( color='#FF5733')),row=i, col=1)\n",
        "    # UCL, LCL\n",
        "    fig.append_trace(go.Scatter(x=df.index, y=df['UCL'],name='UCL '+name, line=dict( color='#33C2FF'),mode='lines'),row=i, col=1)\n",
        "    fig.append_trace(go.Scatter(x=df.index, y=df['LCL'],name='LCL '+name, line=dict( color='#33C2FF'),mode='lines'),row=i, col=1)\n",
        "    fig.append_trace(go.Scatter(x=df.index, y=df['Mean'],name='Mean '+name, line=dict( color='#33C2FF'),mode='lines'),row=i, col=1)\n",
        "    i=i+1\n",
        "    \n",
        "  fig.update_layout(height=200*len(df_dict), width=1200, title_text=sheet_name)\n",
        "  #fig.show()"
      ],
      "execution_count": null,
      "outputs": []
    },
    {
      "cell_type": "markdown",
      "metadata": {
        "id": "wXh5TCG2JRXV",
        "colab_type": "text"
      },
      "source": [
        "# All process in multi weeks"
      ]
    },
    {
      "cell_type": "markdown",
      "metadata": {
        "id": "A6y2aGakpKIu",
        "colab_type": "text"
      },
      "source": [
        "## Prepare data"
      ]
    },
    {
      "cell_type": "code",
      "metadata": {
        "id": "aM4Iqmwf-TB-",
        "colab_type": "code",
        "colab": {
          "base_uri": "https://localhost:8080/",
          "height": 71
        },
        "outputId": "8ac7298b-90f1-42a5-9031-70b0a275aedc"
      },
      "source": [
        "import datetime\n",
        "import seaborn as sns; sns.set()\n",
        "import pandas as pd\n",
        "import numpy as np\n",
        "import matplotlib.pyplot as plt\n",
        "\n",
        "import plotly.graph_objects as go\n",
        "from plotly.subplots import make_subplots\n",
        "import plotly.express as px\n",
        "from plotly.offline import iplot\n",
        "import re\n",
        "\n",
        "from statsmodels.tsa.arima_model import ARIMA\n",
        "import statsmodels.api as sm\n",
        "from statsmodels.graphics.tsaplots import plot_acf\n",
        "from statsmodels.stats.diagnostic import acorr_ljungbox\n",
        "import scipy.stats as scs\n",
        "from math import sqrt\n",
        "from sklearn.metrics import mean_squared_error,mean_absolute_error\n",
        "from sklearn.model_selection import train_test_split\n",
        "from sklearn.preprocessing import MinMaxScaler,StandardScaler"
      ],
      "execution_count": 1,
      "outputs": [
        {
          "output_type": "stream",
          "text": [
            "/usr/local/lib/python3.6/dist-packages/statsmodels/tools/_testing.py:19: FutureWarning: pandas.util.testing is deprecated. Use the functions in the public API at pandas.testing instead.\n",
            "  import pandas.util.testing as tm\n"
          ],
          "name": "stderr"
        }
      ]
    },
    {
      "cell_type": "code",
      "metadata": {
        "id": "S2-0A0d2SVQy",
        "colab_type": "code",
        "colab": {
          "base_uri": "https://localhost:8080/",
          "height": 34
        },
        "outputId": "4d538693-bd72-47f6-9173-58fc676e585d"
      },
      "source": [
        "import glob\n",
        "path='/content/drive/My Drive/Data/Sonion/Control plan and stast/Control plan 3000/'\n",
        "#print(path)\n",
        "all_files1=glob.glob(path + '*.xlsx')\n",
        "all_files2=glob.glob(path + '*.xlsm')\n",
        "all_files=all_files1+all_files2\n",
        "#sort file in directory by reverse:\n",
        "all_files = sorted(all_files, reverse = False)\n",
        "print('number of files: ',len(all_files))"
      ],
      "execution_count": 2,
      "outputs": [
        {
          "output_type": "stream",
          "text": [
            "number of files:  4\n"
          ],
          "name": "stdout"
        }
      ]
    },
    {
      "cell_type": "code",
      "metadata": {
        "id": "5TplMIOTSet6",
        "colab_type": "code",
        "colab": {
          "base_uri": "https://localhost:8080/",
          "height": 105
        },
        "outputId": "c822ef7c-a0d2-4d03-a544-bb31e7e680a2"
      },
      "source": [
        "all_files"
      ],
      "execution_count": 3,
      "outputs": [
        {
          "output_type": "execute_result",
          "data": {
            "text/plain": [
              "['/content/drive/My Drive/Data/Sonion/Control plan and stast/Control plan 3000/Control Plan data REC 3000 - WK34 - 2020.xlsm',\n",
              " '/content/drive/My Drive/Data/Sonion/Control plan and stast/Control plan 3000/Control Plan data REC 3000 - WK35 - 2020.xlsm',\n",
              " '/content/drive/My Drive/Data/Sonion/Control plan and stast/Control plan 3000/Control Plan data REC 3000 - WK36 - 2020.xlsm',\n",
              " '/content/drive/My Drive/Data/Sonion/Control plan and stast/Control plan 3000/Control Plan data REC 3000 - WK37 - 2020.xlsm']"
            ]
          },
          "metadata": {
            "tags": []
          },
          "execution_count": 3
        }
      ]
    },
    {
      "cell_type": "code",
      "metadata": {
        "id": "PIVkbwRmJk9O",
        "colab_type": "code",
        "colab": {
          "base_uri": "https://localhost:8080/",
          "height": 119
        },
        "outputId": "198a5ce2-1604-4621-8751-6d57d4883e57"
      },
      "source": [
        "%%time\n",
        "import xlrd\n",
        "all_process_week={}\n",
        "for path_name in all_files:\n",
        "  week_name=path_name[-16:-5]\n",
        "  xls = xlrd.open_workbook(path_name, on_demand=True)\n",
        "  sheet_names=xls.sheet_names()\n",
        "  #print(xls.sheet_names())\n",
        "  sheet_dict={}\n",
        "  xls = pd.ExcelFile(path_name)\n",
        "  for name in sheet_names:\n",
        "    sheet_dict[name] = pd.read_excel(xls, name)\n",
        "\n",
        "  # Read all process in one week\n",
        "  sheet_all={} # most important\n",
        "  sheet_error=[]\n",
        "  for name_sheet in sheet_names[1:]: # all sheet\n",
        "    #print(name_sheet)\n",
        "    sheet=sheet_dict[name_sheet]\n",
        "\n",
        "    # find begin and end col\n",
        "    values_col=sheet.iloc[22,:]\n",
        "    values_col.reset_index(drop=True,inplace=True)\n",
        "    begin_col=values_col[values_col=='Kích thước\\nDimension'].index\n",
        "    begin_col=begin_col+1\n",
        "    end_col=values_col[values_col=='MSNV'].index\n",
        "    #print(begin_col,end_col)\n",
        "  \n",
        "    df_dict={} # add all value, USL, LSL, UCL... in sheet\n",
        "    try:\n",
        "      for name in sheet.columns[begin_col[0]:end_col[0]]:\n",
        "        \n",
        "          df=pd.DataFrame()\n",
        "          \n",
        "          #tolerance_dict[sheet[name][22]]=[sheet[name][24],sheet[name][23]]\n",
        "          df['Date']=sheet[sheet.columns[9]][25:]\n",
        "          df['Date']=df['Date'].apply(lambda x: x.strftime(\"%Y %m %d %H\"))\n",
        "          df['Date']=pd.to_datetime(df['Date'])\n",
        "          #df['Hour']=df['Date'].dt.hour\n",
        "          df['Value']=sheet[name][25:]\n",
        "          df['USL']=sheet[name][23] # max\n",
        "          df['LSL']=sheet[name][24] # min\n",
        "          df.dropna(subset=['Value'],inplace=True)\n",
        "          #UCL,LCL,nominal:\n",
        "          sigma=3\n",
        "          df['UCL']=df['Value'].mean() + df['Value'].std()*sigma\n",
        "          df['LCL']=df['Value'].mean() - df['Value'].std()*sigma\n",
        "          df['Mean']=df['Value'].mean()\n",
        "          df[df.columns[1:]]=df[df.columns[1:]].astype('float32')\n",
        "          dim_name=sheet[name][22]\n",
        "          df_dict[dim_name]=df.reset_index(drop=True)\n",
        "    except:\n",
        "      sheet_error.append(name_sheet)\n",
        "      continue\n",
        "    sheet_all[name_sheet]=df_dict\n",
        "  all_process_week[week_name]=sheet_all\n",
        "  print(week_name,sheet_error)"
      ],
      "execution_count": 4,
      "outputs": [
        {
          "output_type": "stream",
          "text": [
            "WK34 - 2020 ['37560', '30740', '37751']\n",
            "WK35 - 2020 ['30740', '37750-37940_S2', '37751']\n",
            "WK36 - 2020 ['37560', '30740', '37751', '37312-38312']\n",
            "WK37 - 2020 ['37560', '30740', '37751', '37312-38312']\n",
            "CPU times: user 14.5 s, sys: 87.6 ms, total: 14.6 s\n",
            "Wall time: 14.7 s\n"
          ],
          "name": "stdout"
        }
      ]
    },
    {
      "cell_type": "code",
      "metadata": {
        "id": "nqiqHbXNLe4y",
        "colab_type": "code",
        "colab": {
          "base_uri": "https://localhost:8080/",
          "height": 34
        },
        "outputId": "73f8e4d6-423e-4411-bc9d-e01f7288a7d5"
      },
      "source": [
        "all_process_week.keys()"
      ],
      "execution_count": 5,
      "outputs": [
        {
          "output_type": "execute_result",
          "data": {
            "text/plain": [
              "dict_keys(['WK34 - 2020', 'WK35 - 2020', 'WK36 - 2020', 'WK37 - 2020'])"
            ]
          },
          "metadata": {
            "tags": []
          },
          "execution_count": 5
        }
      ]
    },
    {
      "cell_type": "code",
      "metadata": {
        "id": "ly8wa1GCOpxD",
        "colab_type": "code",
        "colab": {
          "base_uri": "https://localhost:8080/",
          "height": 54
        },
        "outputId": "3082e1c3-8fbf-4950-9814-3c4ec91ccf69"
      },
      "source": [
        "base_week=all_process_week[list(all_process_week.keys())[-1]]\n",
        "base_week.keys() # lấy base là tuần cuối cùng để cập nhật các process mới nhất"
      ],
      "execution_count": 6,
      "outputs": [
        {
          "output_type": "execute_result",
          "data": {
            "text/plain": [
              "dict_keys(['39682', '38682', '30682', '37682', '30665', '30660-37660-38660', '30380-37380-38380', '37670-39670', '37662', '30650-37650 (3500T)', '37650-38655-39650', '37641', '30470-37470', '38546', '39615', '38940', '38594', '37640-38635', '30674-37674-38674 ', '30672-37672-38672', '30592', '30544-37544-38544-39544', '30538', '30530-37530-39530', '30480-37480-38481', '30370-37370-38370 ', '30750-30940-39750 _S1', '30750-30940-39750 _S2', '37750-37940_S1', '37750-37940_S2'])"
            ]
          },
          "metadata": {
            "tags": []
          },
          "execution_count": 6
        }
      ]
    },
    {
      "cell_type": "markdown",
      "metadata": {
        "id": "FwiaV8D6pEVC",
        "colab_type": "text"
      },
      "source": [
        "## Concat all week to one base week"
      ]
    },
    {
      "cell_type": "code",
      "metadata": {
        "id": "ggQ0mr-OMT-v",
        "colab_type": "code",
        "colab": {
          "base_uri": "https://localhost:8080/",
          "height": 51
        },
        "outputId": "d15dc338-915c-41f3-b3a3-3c224814416d"
      },
      "source": [
        "# concat all process in each weeks based on keys value:\n",
        "%%time\n",
        "for week_name in list(all_process_week.keys())[:-1]: # ko tính base week nên từ 1: \n",
        "  other_week=all_process_week[week_name]\n",
        "  for process_name in other_week.keys(): # dict all process\n",
        "    for process_name_base in base_week.keys(): # dict all process\n",
        "        if process_name_base==process_name:\n",
        "          for dim_name in base_week[process_name_base].keys(): # dict all dim in each process\n",
        "             base_week[process_name_base][dim_name]=pd.concat([base_week[process_name_base][dim_name],other_week[process_name_base][dim_name]])\n",
        "    #print(process_name)\n"
      ],
      "execution_count": 7,
      "outputs": [
        {
          "output_type": "stream",
          "text": [
            "CPU times: user 331 ms, sys: 4.06 ms, total: 335 ms\n",
            "Wall time: 335 ms\n"
          ],
          "name": "stdout"
        }
      ]
    },
    {
      "cell_type": "code",
      "metadata": {
        "id": "-LGGrO9lTUrY",
        "colab_type": "code",
        "colab": {
          "base_uri": "https://localhost:8080/",
          "height": 54
        },
        "outputId": "845d6668-8344-422b-cb71-80659de4a461"
      },
      "source": [
        "base_week.keys() # combine all weeks"
      ],
      "execution_count": 8,
      "outputs": [
        {
          "output_type": "execute_result",
          "data": {
            "text/plain": [
              "dict_keys(['39682', '38682', '30682', '37682', '30665', '30660-37660-38660', '30380-37380-38380', '37670-39670', '37662', '30650-37650 (3500T)', '37650-38655-39650', '37641', '30470-37470', '38546', '39615', '38940', '38594', '37640-38635', '30674-37674-38674 ', '30672-37672-38672', '30592', '30544-37544-38544-39544', '30538', '30530-37530-39530', '30480-37480-38481', '30370-37370-38370 ', '30750-30940-39750 _S1', '30750-30940-39750 _S2', '37750-37940_S1', '37750-37940_S2'])"
            ]
          },
          "metadata": {
            "tags": []
          },
          "execution_count": 8
        }
      ]
    },
    {
      "cell_type": "markdown",
      "metadata": {
        "id": "PHQwySZQoEfH",
        "colab_type": "text"
      },
      "source": [
        "## Line chart"
      ]
    },
    {
      "cell_type": "code",
      "metadata": {
        "id": "K3LH4Wo1TnCm",
        "colab_type": "code",
        "colab": {}
      },
      "source": [
        "constants={\n",
        "    2:1.128,\n",
        "    3:1.693,\n",
        "    4:2.059,\n",
        "    5:2.326,\n",
        "    6:2.534,\n",
        "    7:2.704,\n",
        "    8:2.847, \n",
        "    9: 2.970,\n",
        "    10: 3.078,\n",
        "    11: 3.173,\n",
        "    12: 3.258,\n",
        "    13: 3.336,\n",
        "    14: 3.407,\n",
        "    15: 3.472,\n",
        "    16: 3.532,\n",
        "    17:3.588,\n",
        "    18:3.640,\n",
        "    19:3.689,\n",
        "    20:3.735,\n",
        "}"
      ],
      "execution_count": 9,
      "outputs": []
    },
    {
      "cell_type": "code",
      "metadata": {
        "id": "3HQHJMpITSFf",
        "colab_type": "code",
        "colab": {}
      },
      "source": [
        "def process_performance(df):\n",
        "  #print('dim: ',name)\n",
        "  n=df.Date.value_counts()[0]\n",
        "  num_sample=n*25\n",
        "  df=df[-num_sample:]\n",
        "  usl=df.USL[0]\n",
        "  lsl=df.LSL[0]\n",
        "  m=df.Mean[0]\n",
        "\n",
        "  #Ppk\n",
        "  sigma=st.stdev(df.Value)\n",
        "  Pp = float(usl - lsl) / (6*sigma)\n",
        "  Ppu = float(usl - m) / (3*sigma)\n",
        "  Ppl = float(m - lsl) / (3*sigma)\n",
        "  Ppk = np.min([Ppu, Ppl])\n",
        "  print('Pp:{:.2f} , Ppk: {:.2f}'.format(Pp,Ppk))\n",
        "  #Cpk\n",
        "  \n",
        "  temp=df.groupby('Date').agg({'Value':['min','max']})\n",
        "  temp['R']=temp['Value','max']-temp['Value','min']\n",
        "  R=temp['R'].mean()\n",
        "\n",
        "  if n <= 20:\n",
        "    sigma_within = R/constants[n]\n",
        "  else:\n",
        "    sigma_within = R/constants[20]\n",
        "\n",
        "  Cp = float(usl - lsl) / (6*sigma_within)\n",
        "  Cpu = float(usl - m) / (3*sigma_within)\n",
        "  Cpl = float(m - lsl) / (3*sigma_within)\n",
        "  Cpk = np.min([Cpu, Cpl])\n",
        "  print('Cp:{:.2f} , Cpk:{:.2f}'.format(Cp,Cpk))\n",
        " "
      ],
      "execution_count": 17,
      "outputs": []
    },
    {
      "cell_type": "code",
      "metadata": {
        "id": "AA6IN4y7fUrb",
        "colab_type": "code",
        "colab": {
          "base_uri": "https://localhost:8080/",
          "height": 34
        },
        "outputId": "f812222b-17e9-471d-b3e6-8109802bf7a7"
      },
      "source": [
        "list(base_week.keys())[:2]"
      ],
      "execution_count": 18,
      "outputs": [
        {
          "output_type": "execute_result",
          "data": {
            "text/plain": [
              "['39682', '38682']"
            ]
          },
          "metadata": {
            "tags": []
          },
          "execution_count": 18
        }
      ]
    },
    {
      "cell_type": "code",
      "metadata": {
        "id": "d72qcE7Ug_G0",
        "colab_type": "code",
        "colab": {
          "base_uri": "https://localhost:8080/",
          "height": 1000
        },
        "outputId": "af2bd6bf-f0d5-4517-82f6-050ed814115b"
      },
      "source": [
        "for sheet_name in list(base_week.keys())[:1]:\n",
        "  #print(sheet_name)\n",
        "  df_dict=base_week[sheet_name] # process\n",
        "  for name in list(df_dict.keys())[:3]: #also group\n",
        "    df=df_dict[name].copy()\n",
        "    df=df.sort_values(by=['Date'])\n",
        "    for a in df.columns[1:]:\n",
        "      df[a] = df[a].round(decimals=3)\n",
        "    df=df.reset_index(drop=True)\n",
        "df"
      ],
      "execution_count": 34,
      "outputs": [
        {
          "output_type": "execute_result",
          "data": {
            "text/html": [
              "<div>\n",
              "<style scoped>\n",
              "    .dataframe tbody tr th:only-of-type {\n",
              "        vertical-align: middle;\n",
              "    }\n",
              "\n",
              "    .dataframe tbody tr th {\n",
              "        vertical-align: top;\n",
              "    }\n",
              "\n",
              "    .dataframe thead th {\n",
              "        text-align: right;\n",
              "    }\n",
              "</style>\n",
              "<table border=\"1\" class=\"dataframe\">\n",
              "  <thead>\n",
              "    <tr style=\"text-align: right;\">\n",
              "      <th></th>\n",
              "      <th>Date</th>\n",
              "      <th>Value</th>\n",
              "      <th>USL</th>\n",
              "      <th>LSL</th>\n",
              "      <th>UCL</th>\n",
              "      <th>LCL</th>\n",
              "      <th>Mean</th>\n",
              "    </tr>\n",
              "  </thead>\n",
              "  <tbody>\n",
              "    <tr>\n",
              "      <th>0</th>\n",
              "      <td>2020-08-20 09:00:00</td>\n",
              "      <td>0.338</td>\n",
              "      <td>0.34</td>\n",
              "      <td>0.3</td>\n",
              "      <td>0.352</td>\n",
              "      <td>0.300</td>\n",
              "      <td>0.326</td>\n",
              "    </tr>\n",
              "    <tr>\n",
              "      <th>1</th>\n",
              "      <td>2020-08-20 09:00:00</td>\n",
              "      <td>0.319</td>\n",
              "      <td>0.34</td>\n",
              "      <td>0.3</td>\n",
              "      <td>0.352</td>\n",
              "      <td>0.300</td>\n",
              "      <td>0.326</td>\n",
              "    </tr>\n",
              "    <tr>\n",
              "      <th>2</th>\n",
              "      <td>2020-08-20 09:00:00</td>\n",
              "      <td>0.329</td>\n",
              "      <td>0.34</td>\n",
              "      <td>0.3</td>\n",
              "      <td>0.352</td>\n",
              "      <td>0.300</td>\n",
              "      <td>0.326</td>\n",
              "    </tr>\n",
              "    <tr>\n",
              "      <th>3</th>\n",
              "      <td>2020-08-20 09:00:00</td>\n",
              "      <td>0.328</td>\n",
              "      <td>0.34</td>\n",
              "      <td>0.3</td>\n",
              "      <td>0.352</td>\n",
              "      <td>0.300</td>\n",
              "      <td>0.326</td>\n",
              "    </tr>\n",
              "    <tr>\n",
              "      <th>4</th>\n",
              "      <td>2020-08-20 09:00:00</td>\n",
              "      <td>0.316</td>\n",
              "      <td>0.34</td>\n",
              "      <td>0.3</td>\n",
              "      <td>0.352</td>\n",
              "      <td>0.300</td>\n",
              "      <td>0.326</td>\n",
              "    </tr>\n",
              "    <tr>\n",
              "      <th>5</th>\n",
              "      <td>2020-08-22 17:00:00</td>\n",
              "      <td>0.332</td>\n",
              "      <td>0.34</td>\n",
              "      <td>0.3</td>\n",
              "      <td>0.349</td>\n",
              "      <td>0.301</td>\n",
              "      <td>0.325</td>\n",
              "    </tr>\n",
              "    <tr>\n",
              "      <th>6</th>\n",
              "      <td>2020-08-22 17:00:00</td>\n",
              "      <td>0.338</td>\n",
              "      <td>0.34</td>\n",
              "      <td>0.3</td>\n",
              "      <td>0.349</td>\n",
              "      <td>0.301</td>\n",
              "      <td>0.325</td>\n",
              "    </tr>\n",
              "    <tr>\n",
              "      <th>7</th>\n",
              "      <td>2020-08-22 17:00:00</td>\n",
              "      <td>0.329</td>\n",
              "      <td>0.34</td>\n",
              "      <td>0.3</td>\n",
              "      <td>0.349</td>\n",
              "      <td>0.301</td>\n",
              "      <td>0.325</td>\n",
              "    </tr>\n",
              "    <tr>\n",
              "      <th>8</th>\n",
              "      <td>2020-08-22 17:00:00</td>\n",
              "      <td>0.334</td>\n",
              "      <td>0.34</td>\n",
              "      <td>0.3</td>\n",
              "      <td>0.349</td>\n",
              "      <td>0.301</td>\n",
              "      <td>0.325</td>\n",
              "    </tr>\n",
              "    <tr>\n",
              "      <th>9</th>\n",
              "      <td>2020-08-22 17:00:00</td>\n",
              "      <td>0.332</td>\n",
              "      <td>0.34</td>\n",
              "      <td>0.3</td>\n",
              "      <td>0.349</td>\n",
              "      <td>0.301</td>\n",
              "      <td>0.325</td>\n",
              "    </tr>\n",
              "    <tr>\n",
              "      <th>10</th>\n",
              "      <td>2020-08-24 12:00:00</td>\n",
              "      <td>0.332</td>\n",
              "      <td>0.34</td>\n",
              "      <td>0.3</td>\n",
              "      <td>0.349</td>\n",
              "      <td>0.301</td>\n",
              "      <td>0.325</td>\n",
              "    </tr>\n",
              "    <tr>\n",
              "      <th>11</th>\n",
              "      <td>2020-08-24 12:00:00</td>\n",
              "      <td>0.314</td>\n",
              "      <td>0.34</td>\n",
              "      <td>0.3</td>\n",
              "      <td>0.349</td>\n",
              "      <td>0.301</td>\n",
              "      <td>0.325</td>\n",
              "    </tr>\n",
              "    <tr>\n",
              "      <th>12</th>\n",
              "      <td>2020-08-24 12:00:00</td>\n",
              "      <td>0.324</td>\n",
              "      <td>0.34</td>\n",
              "      <td>0.3</td>\n",
              "      <td>0.349</td>\n",
              "      <td>0.301</td>\n",
              "      <td>0.325</td>\n",
              "    </tr>\n",
              "    <tr>\n",
              "      <th>13</th>\n",
              "      <td>2020-08-24 12:00:00</td>\n",
              "      <td>0.325</td>\n",
              "      <td>0.34</td>\n",
              "      <td>0.3</td>\n",
              "      <td>0.349</td>\n",
              "      <td>0.301</td>\n",
              "      <td>0.325</td>\n",
              "    </tr>\n",
              "    <tr>\n",
              "      <th>14</th>\n",
              "      <td>2020-08-24 12:00:00</td>\n",
              "      <td>0.326</td>\n",
              "      <td>0.34</td>\n",
              "      <td>0.3</td>\n",
              "      <td>0.349</td>\n",
              "      <td>0.301</td>\n",
              "      <td>0.325</td>\n",
              "    </tr>\n",
              "    <tr>\n",
              "      <th>15</th>\n",
              "      <td>2020-08-24 18:00:00</td>\n",
              "      <td>0.315</td>\n",
              "      <td>0.34</td>\n",
              "      <td>0.3</td>\n",
              "      <td>0.349</td>\n",
              "      <td>0.301</td>\n",
              "      <td>0.325</td>\n",
              "    </tr>\n",
              "    <tr>\n",
              "      <th>16</th>\n",
              "      <td>2020-08-24 18:00:00</td>\n",
              "      <td>0.315</td>\n",
              "      <td>0.34</td>\n",
              "      <td>0.3</td>\n",
              "      <td>0.349</td>\n",
              "      <td>0.301</td>\n",
              "      <td>0.325</td>\n",
              "    </tr>\n",
              "    <tr>\n",
              "      <th>17</th>\n",
              "      <td>2020-08-24 18:00:00</td>\n",
              "      <td>0.327</td>\n",
              "      <td>0.34</td>\n",
              "      <td>0.3</td>\n",
              "      <td>0.349</td>\n",
              "      <td>0.301</td>\n",
              "      <td>0.325</td>\n",
              "    </tr>\n",
              "    <tr>\n",
              "      <th>18</th>\n",
              "      <td>2020-08-24 18:00:00</td>\n",
              "      <td>0.319</td>\n",
              "      <td>0.34</td>\n",
              "      <td>0.3</td>\n",
              "      <td>0.349</td>\n",
              "      <td>0.301</td>\n",
              "      <td>0.325</td>\n",
              "    </tr>\n",
              "    <tr>\n",
              "      <th>19</th>\n",
              "      <td>2020-08-24 18:00:00</td>\n",
              "      <td>0.339</td>\n",
              "      <td>0.34</td>\n",
              "      <td>0.3</td>\n",
              "      <td>0.349</td>\n",
              "      <td>0.301</td>\n",
              "      <td>0.325</td>\n",
              "    </tr>\n",
              "    <tr>\n",
              "      <th>20</th>\n",
              "      <td>2020-08-27 08:00:00</td>\n",
              "      <td>0.321</td>\n",
              "      <td>0.34</td>\n",
              "      <td>0.3</td>\n",
              "      <td>0.349</td>\n",
              "      <td>0.301</td>\n",
              "      <td>0.325</td>\n",
              "    </tr>\n",
              "    <tr>\n",
              "      <th>21</th>\n",
              "      <td>2020-08-27 08:00:00</td>\n",
              "      <td>0.319</td>\n",
              "      <td>0.34</td>\n",
              "      <td>0.3</td>\n",
              "      <td>0.349</td>\n",
              "      <td>0.301</td>\n",
              "      <td>0.325</td>\n",
              "    </tr>\n",
              "    <tr>\n",
              "      <th>22</th>\n",
              "      <td>2020-08-27 08:00:00</td>\n",
              "      <td>0.326</td>\n",
              "      <td>0.34</td>\n",
              "      <td>0.3</td>\n",
              "      <td>0.349</td>\n",
              "      <td>0.301</td>\n",
              "      <td>0.325</td>\n",
              "    </tr>\n",
              "    <tr>\n",
              "      <th>23</th>\n",
              "      <td>2020-08-27 08:00:00</td>\n",
              "      <td>0.311</td>\n",
              "      <td>0.34</td>\n",
              "      <td>0.3</td>\n",
              "      <td>0.349</td>\n",
              "      <td>0.301</td>\n",
              "      <td>0.325</td>\n",
              "    </tr>\n",
              "    <tr>\n",
              "      <th>24</th>\n",
              "      <td>2020-08-27 08:00:00</td>\n",
              "      <td>0.325</td>\n",
              "      <td>0.34</td>\n",
              "      <td>0.3</td>\n",
              "      <td>0.349</td>\n",
              "      <td>0.301</td>\n",
              "      <td>0.325</td>\n",
              "    </tr>\n",
              "    <tr>\n",
              "      <th>25</th>\n",
              "      <td>2020-08-28 17:00:00</td>\n",
              "      <td>0.324</td>\n",
              "      <td>0.34</td>\n",
              "      <td>0.3</td>\n",
              "      <td>0.353</td>\n",
              "      <td>0.306</td>\n",
              "      <td>0.329</td>\n",
              "    </tr>\n",
              "    <tr>\n",
              "      <th>26</th>\n",
              "      <td>2020-08-28 17:00:00</td>\n",
              "      <td>0.334</td>\n",
              "      <td>0.34</td>\n",
              "      <td>0.3</td>\n",
              "      <td>0.353</td>\n",
              "      <td>0.306</td>\n",
              "      <td>0.329</td>\n",
              "    </tr>\n",
              "    <tr>\n",
              "      <th>27</th>\n",
              "      <td>2020-08-28 17:00:00</td>\n",
              "      <td>0.335</td>\n",
              "      <td>0.34</td>\n",
              "      <td>0.3</td>\n",
              "      <td>0.353</td>\n",
              "      <td>0.306</td>\n",
              "      <td>0.329</td>\n",
              "    </tr>\n",
              "    <tr>\n",
              "      <th>28</th>\n",
              "      <td>2020-08-28 17:00:00</td>\n",
              "      <td>0.340</td>\n",
              "      <td>0.34</td>\n",
              "      <td>0.3</td>\n",
              "      <td>0.353</td>\n",
              "      <td>0.306</td>\n",
              "      <td>0.329</td>\n",
              "    </tr>\n",
              "    <tr>\n",
              "      <th>29</th>\n",
              "      <td>2020-08-28 17:00:00</td>\n",
              "      <td>0.329</td>\n",
              "      <td>0.34</td>\n",
              "      <td>0.3</td>\n",
              "      <td>0.353</td>\n",
              "      <td>0.306</td>\n",
              "      <td>0.329</td>\n",
              "    </tr>\n",
              "    <tr>\n",
              "      <th>30</th>\n",
              "      <td>2020-08-29 12:00:00</td>\n",
              "      <td>0.327</td>\n",
              "      <td>0.34</td>\n",
              "      <td>0.3</td>\n",
              "      <td>0.353</td>\n",
              "      <td>0.306</td>\n",
              "      <td>0.329</td>\n",
              "    </tr>\n",
              "    <tr>\n",
              "      <th>31</th>\n",
              "      <td>2020-08-29 12:00:00</td>\n",
              "      <td>0.331</td>\n",
              "      <td>0.34</td>\n",
              "      <td>0.3</td>\n",
              "      <td>0.353</td>\n",
              "      <td>0.306</td>\n",
              "      <td>0.329</td>\n",
              "    </tr>\n",
              "    <tr>\n",
              "      <th>32</th>\n",
              "      <td>2020-08-29 12:00:00</td>\n",
              "      <td>0.327</td>\n",
              "      <td>0.34</td>\n",
              "      <td>0.3</td>\n",
              "      <td>0.353</td>\n",
              "      <td>0.306</td>\n",
              "      <td>0.329</td>\n",
              "    </tr>\n",
              "    <tr>\n",
              "      <th>33</th>\n",
              "      <td>2020-08-29 12:00:00</td>\n",
              "      <td>0.336</td>\n",
              "      <td>0.34</td>\n",
              "      <td>0.3</td>\n",
              "      <td>0.353</td>\n",
              "      <td>0.306</td>\n",
              "      <td>0.329</td>\n",
              "    </tr>\n",
              "    <tr>\n",
              "      <th>34</th>\n",
              "      <td>2020-08-29 12:00:00</td>\n",
              "      <td>0.310</td>\n",
              "      <td>0.34</td>\n",
              "      <td>0.3</td>\n",
              "      <td>0.353</td>\n",
              "      <td>0.306</td>\n",
              "      <td>0.329</td>\n",
              "    </tr>\n",
              "    <tr>\n",
              "      <th>35</th>\n",
              "      <td>2020-08-31 16:00:00</td>\n",
              "      <td>0.325</td>\n",
              "      <td>0.34</td>\n",
              "      <td>0.3</td>\n",
              "      <td>0.353</td>\n",
              "      <td>0.306</td>\n",
              "      <td>0.329</td>\n",
              "    </tr>\n",
              "    <tr>\n",
              "      <th>36</th>\n",
              "      <td>2020-08-31 16:00:00</td>\n",
              "      <td>0.338</td>\n",
              "      <td>0.34</td>\n",
              "      <td>0.3</td>\n",
              "      <td>0.353</td>\n",
              "      <td>0.306</td>\n",
              "      <td>0.329</td>\n",
              "    </tr>\n",
              "    <tr>\n",
              "      <th>37</th>\n",
              "      <td>2020-08-31 16:00:00</td>\n",
              "      <td>0.334</td>\n",
              "      <td>0.34</td>\n",
              "      <td>0.3</td>\n",
              "      <td>0.353</td>\n",
              "      <td>0.306</td>\n",
              "      <td>0.329</td>\n",
              "    </tr>\n",
              "    <tr>\n",
              "      <th>38</th>\n",
              "      <td>2020-08-31 16:00:00</td>\n",
              "      <td>0.332</td>\n",
              "      <td>0.34</td>\n",
              "      <td>0.3</td>\n",
              "      <td>0.353</td>\n",
              "      <td>0.306</td>\n",
              "      <td>0.329</td>\n",
              "    </tr>\n",
              "    <tr>\n",
              "      <th>39</th>\n",
              "      <td>2020-08-31 16:00:00</td>\n",
              "      <td>0.318</td>\n",
              "      <td>0.34</td>\n",
              "      <td>0.3</td>\n",
              "      <td>0.353</td>\n",
              "      <td>0.306</td>\n",
              "      <td>0.329</td>\n",
              "    </tr>\n",
              "    <tr>\n",
              "      <th>40</th>\n",
              "      <td>2020-09-07 09:00:00</td>\n",
              "      <td>0.331</td>\n",
              "      <td>0.34</td>\n",
              "      <td>0.3</td>\n",
              "      <td>0.351</td>\n",
              "      <td>0.303</td>\n",
              "      <td>0.327</td>\n",
              "    </tr>\n",
              "    <tr>\n",
              "      <th>41</th>\n",
              "      <td>2020-09-07 09:00:00</td>\n",
              "      <td>0.326</td>\n",
              "      <td>0.34</td>\n",
              "      <td>0.3</td>\n",
              "      <td>0.351</td>\n",
              "      <td>0.303</td>\n",
              "      <td>0.327</td>\n",
              "    </tr>\n",
              "    <tr>\n",
              "      <th>42</th>\n",
              "      <td>2020-09-07 09:00:00</td>\n",
              "      <td>0.310</td>\n",
              "      <td>0.34</td>\n",
              "      <td>0.3</td>\n",
              "      <td>0.351</td>\n",
              "      <td>0.303</td>\n",
              "      <td>0.327</td>\n",
              "    </tr>\n",
              "    <tr>\n",
              "      <th>43</th>\n",
              "      <td>2020-09-07 09:00:00</td>\n",
              "      <td>0.321</td>\n",
              "      <td>0.34</td>\n",
              "      <td>0.3</td>\n",
              "      <td>0.351</td>\n",
              "      <td>0.303</td>\n",
              "      <td>0.327</td>\n",
              "    </tr>\n",
              "    <tr>\n",
              "      <th>44</th>\n",
              "      <td>2020-09-07 09:00:00</td>\n",
              "      <td>0.329</td>\n",
              "      <td>0.34</td>\n",
              "      <td>0.3</td>\n",
              "      <td>0.351</td>\n",
              "      <td>0.303</td>\n",
              "      <td>0.327</td>\n",
              "    </tr>\n",
              "    <tr>\n",
              "      <th>45</th>\n",
              "      <td>2020-09-08 20:00:00</td>\n",
              "      <td>0.336</td>\n",
              "      <td>0.34</td>\n",
              "      <td>0.3</td>\n",
              "      <td>0.351</td>\n",
              "      <td>0.303</td>\n",
              "      <td>0.327</td>\n",
              "    </tr>\n",
              "    <tr>\n",
              "      <th>46</th>\n",
              "      <td>2020-09-08 20:00:00</td>\n",
              "      <td>0.336</td>\n",
              "      <td>0.34</td>\n",
              "      <td>0.3</td>\n",
              "      <td>0.351</td>\n",
              "      <td>0.303</td>\n",
              "      <td>0.327</td>\n",
              "    </tr>\n",
              "    <tr>\n",
              "      <th>47</th>\n",
              "      <td>2020-09-08 20:00:00</td>\n",
              "      <td>0.333</td>\n",
              "      <td>0.34</td>\n",
              "      <td>0.3</td>\n",
              "      <td>0.351</td>\n",
              "      <td>0.303</td>\n",
              "      <td>0.327</td>\n",
              "    </tr>\n",
              "    <tr>\n",
              "      <th>48</th>\n",
              "      <td>2020-09-08 20:00:00</td>\n",
              "      <td>0.322</td>\n",
              "      <td>0.34</td>\n",
              "      <td>0.3</td>\n",
              "      <td>0.351</td>\n",
              "      <td>0.303</td>\n",
              "      <td>0.327</td>\n",
              "    </tr>\n",
              "    <tr>\n",
              "      <th>49</th>\n",
              "      <td>2020-09-08 20:00:00</td>\n",
              "      <td>0.327</td>\n",
              "      <td>0.34</td>\n",
              "      <td>0.3</td>\n",
              "      <td>0.351</td>\n",
              "      <td>0.303</td>\n",
              "      <td>0.327</td>\n",
              "    </tr>\n",
              "  </tbody>\n",
              "</table>\n",
              "</div>"
            ],
            "text/plain": [
              "                  Date  Value   USL  LSL    UCL    LCL   Mean\n",
              "0  2020-08-20 09:00:00  0.338  0.34  0.3  0.352  0.300  0.326\n",
              "1  2020-08-20 09:00:00  0.319  0.34  0.3  0.352  0.300  0.326\n",
              "2  2020-08-20 09:00:00  0.329  0.34  0.3  0.352  0.300  0.326\n",
              "3  2020-08-20 09:00:00  0.328  0.34  0.3  0.352  0.300  0.326\n",
              "4  2020-08-20 09:00:00  0.316  0.34  0.3  0.352  0.300  0.326\n",
              "5  2020-08-22 17:00:00  0.332  0.34  0.3  0.349  0.301  0.325\n",
              "6  2020-08-22 17:00:00  0.338  0.34  0.3  0.349  0.301  0.325\n",
              "7  2020-08-22 17:00:00  0.329  0.34  0.3  0.349  0.301  0.325\n",
              "8  2020-08-22 17:00:00  0.334  0.34  0.3  0.349  0.301  0.325\n",
              "9  2020-08-22 17:00:00  0.332  0.34  0.3  0.349  0.301  0.325\n",
              "10 2020-08-24 12:00:00  0.332  0.34  0.3  0.349  0.301  0.325\n",
              "11 2020-08-24 12:00:00  0.314  0.34  0.3  0.349  0.301  0.325\n",
              "12 2020-08-24 12:00:00  0.324  0.34  0.3  0.349  0.301  0.325\n",
              "13 2020-08-24 12:00:00  0.325  0.34  0.3  0.349  0.301  0.325\n",
              "14 2020-08-24 12:00:00  0.326  0.34  0.3  0.349  0.301  0.325\n",
              "15 2020-08-24 18:00:00  0.315  0.34  0.3  0.349  0.301  0.325\n",
              "16 2020-08-24 18:00:00  0.315  0.34  0.3  0.349  0.301  0.325\n",
              "17 2020-08-24 18:00:00  0.327  0.34  0.3  0.349  0.301  0.325\n",
              "18 2020-08-24 18:00:00  0.319  0.34  0.3  0.349  0.301  0.325\n",
              "19 2020-08-24 18:00:00  0.339  0.34  0.3  0.349  0.301  0.325\n",
              "20 2020-08-27 08:00:00  0.321  0.34  0.3  0.349  0.301  0.325\n",
              "21 2020-08-27 08:00:00  0.319  0.34  0.3  0.349  0.301  0.325\n",
              "22 2020-08-27 08:00:00  0.326  0.34  0.3  0.349  0.301  0.325\n",
              "23 2020-08-27 08:00:00  0.311  0.34  0.3  0.349  0.301  0.325\n",
              "24 2020-08-27 08:00:00  0.325  0.34  0.3  0.349  0.301  0.325\n",
              "25 2020-08-28 17:00:00  0.324  0.34  0.3  0.353  0.306  0.329\n",
              "26 2020-08-28 17:00:00  0.334  0.34  0.3  0.353  0.306  0.329\n",
              "27 2020-08-28 17:00:00  0.335  0.34  0.3  0.353  0.306  0.329\n",
              "28 2020-08-28 17:00:00  0.340  0.34  0.3  0.353  0.306  0.329\n",
              "29 2020-08-28 17:00:00  0.329  0.34  0.3  0.353  0.306  0.329\n",
              "30 2020-08-29 12:00:00  0.327  0.34  0.3  0.353  0.306  0.329\n",
              "31 2020-08-29 12:00:00  0.331  0.34  0.3  0.353  0.306  0.329\n",
              "32 2020-08-29 12:00:00  0.327  0.34  0.3  0.353  0.306  0.329\n",
              "33 2020-08-29 12:00:00  0.336  0.34  0.3  0.353  0.306  0.329\n",
              "34 2020-08-29 12:00:00  0.310  0.34  0.3  0.353  0.306  0.329\n",
              "35 2020-08-31 16:00:00  0.325  0.34  0.3  0.353  0.306  0.329\n",
              "36 2020-08-31 16:00:00  0.338  0.34  0.3  0.353  0.306  0.329\n",
              "37 2020-08-31 16:00:00  0.334  0.34  0.3  0.353  0.306  0.329\n",
              "38 2020-08-31 16:00:00  0.332  0.34  0.3  0.353  0.306  0.329\n",
              "39 2020-08-31 16:00:00  0.318  0.34  0.3  0.353  0.306  0.329\n",
              "40 2020-09-07 09:00:00  0.331  0.34  0.3  0.351  0.303  0.327\n",
              "41 2020-09-07 09:00:00  0.326  0.34  0.3  0.351  0.303  0.327\n",
              "42 2020-09-07 09:00:00  0.310  0.34  0.3  0.351  0.303  0.327\n",
              "43 2020-09-07 09:00:00  0.321  0.34  0.3  0.351  0.303  0.327\n",
              "44 2020-09-07 09:00:00  0.329  0.34  0.3  0.351  0.303  0.327\n",
              "45 2020-09-08 20:00:00  0.336  0.34  0.3  0.351  0.303  0.327\n",
              "46 2020-09-08 20:00:00  0.336  0.34  0.3  0.351  0.303  0.327\n",
              "47 2020-09-08 20:00:00  0.333  0.34  0.3  0.351  0.303  0.327\n",
              "48 2020-09-08 20:00:00  0.322  0.34  0.3  0.351  0.303  0.327\n",
              "49 2020-09-08 20:00:00  0.327  0.34  0.3  0.351  0.303  0.327"
            ]
          },
          "metadata": {
            "tags": []
          },
          "execution_count": 34
        }
      ]
    },
    {
      "cell_type": "code",
      "metadata": {
        "id": "DlCwC9vdhICf",
        "colab_type": "code",
        "colab": {
          "base_uri": "https://localhost:8080/",
          "height": 51
        },
        "outputId": "581f3f91-cf62-41dd-d32f-ce3967cb3ed0"
      },
      "source": [
        "n=df.Date.value_counts()[0]\n",
        "num_sample=n*25\n",
        "df=df[-num_sample:]\n",
        "usl=df.USL[0]\n",
        "lsl=df.LSL[0]\n",
        "m=df.Mean[0]\n",
        "\n",
        "#Ppk\n",
        "sigma=st.stdev(df.Value)\n",
        "Pp = float(usl - lsl) / (6*sigma)\n",
        "Ppu = float(usl - m) / (3*sigma)\n",
        "Ppl = float(m - lsl) / (3*sigma)\n",
        "Ppk = np.min([Ppu, Ppl])\n",
        "print('Pp:{:.2f} , Ppk: {:.2f}'.format(Pp,Ppk))\n",
        "#Cpk\n",
        "\n",
        "temp=df.groupby('Date').agg({'Value':['min','max']})\n",
        "temp['R']=temp['Value','max']-temp['Value','min']\n",
        "R=temp['R'].mean()\n",
        "\n",
        "if n <= 20:\n",
        "  sigma_within = R/constants[n]\n",
        "else:\n",
        "  sigma_within = R/constants[20]\n",
        "\n",
        "Cp = float(usl - lsl) / (6*sigma_within)\n",
        "Cpu = float(usl - m) / (3*sigma_within)\n",
        "Cpl = float(m - lsl) / (3*sigma_within)\n",
        "Cpk = np.min([Cpu, Cpl])\n",
        "print('Cp:{:.2f} , Cpk:{:.2f}'.format(Cp,Cpk))"
      ],
      "execution_count": 35,
      "outputs": [
        {
          "output_type": "stream",
          "text": [
            "Pp:0.83 , Ppk: 0.58\n",
            "Cp:0.84 , Cpk:0.59\n"
          ],
          "name": "stdout"
        }
      ]
    },
    {
      "cell_type": "code",
      "metadata": {
        "id": "ymAPgpcydeDZ",
        "colab_type": "code",
        "colab": {
          "base_uri": "https://localhost:8080/",
          "height": 1000
        },
        "outputId": "bbe5c83f-b1bd-4983-8582-9682c92ce77b"
      },
      "source": [
        "for sheet_name in list(base_week.keys())[:1]:\n",
        "  print(sheet_name)\n",
        "  df_dict=base_week[sheet_name] # process\n",
        "  for name in df_dict.keys(): #also group\n",
        "    df=df_dict[name].copy()\n",
        "    df=df.sort_values(by=['Date'])\n",
        "    for a in df.columns[1:]:\n",
        "      df[a] = df[a].round(decimals=3)\n",
        "    df=df.reset_index(drop=True)\n",
        "    try:\n",
        "      process_performance(df)\n",
        "    except: \n",
        "      print('error calculate process performance')\n",
        "    # Draw control chart\n",
        "    df_group=df.groupby('Date').mean()\n",
        "    #df=df.set_index('Date')\n",
        "    #if start_date != '':\n",
        "    #  df=df[start_date:end_date]\n",
        "    #Control chart 1 \n",
        "    fig=go.Figure()\n",
        "    fig.add_trace(go.Scatter(\n",
        "                            x=df_group.index, y=df_group['Value'],mode='lines+markers',\n",
        "                            name='mean ' + name,line=dict( color='#4280F5')\n",
        "                            ))\n",
        "    #USL, LSL\n",
        "    fig.add_trace(go.Scatter(x=df_group.index, y=df_group['USL'],name='USL '+name, line=dict( color='#FF5733'),mode='lines'))\n",
        "    fig.add_trace(go.Scatter(x=df_group.index, y=df_group['LSL'],name='LSL '+name,line=dict( color='#FF5733'),mode='lines'))\n",
        "    #fig.append_trace(go.Scatter(x=df['Datef'], y=df['Nominal'],name='Nominal '+name,line=dict( color='#FF5733')),row=i, col=1)\n",
        "    # UCL, LCL\n",
        "    fig.add_trace(go.Scatter(x=df_group.index, y=df_group['UCL'],name='UCL '+name, line=dict( color='#33C2FF'),mode='lines'))\n",
        "    fig.add_trace(go.Scatter(x=df_group.index, y=df_group['LCL'],name='LCL '+name, line=dict( color='#33C2FF'),mode='lines'))\n",
        "    fig.add_trace(go.Scatter(x=df_group.index, y=df_group['Mean'],name='Mean '+name, line=dict( color='#33C2FF'),mode='lines'))\n",
        "    fig.update_layout(height=300, width=1200, title_text=name)\n",
        "    fig.show()\n",
        "\n",
        "  #fig.update_layout(height=200*len(df_dict), width=1200, title_text=sheet_name)\n",
        "  #fig update each process (contain a lot of dim inside)\n",
        " "
      ],
      "execution_count": 36,
      "outputs": [
        {
          "output_type": "stream",
          "text": [
            "39682\n",
            "Pp:0.60 , Ppk: 0.18\n",
            "Cp:0.86 , Cpk:0.26\n"
          ],
          "name": "stdout"
        },
        {
          "output_type": "display_data",
          "data": {
            "text/html": [
              "<html>\n",
              "<head><meta charset=\"utf-8\" /></head>\n",
              "<body>\n",
              "    <div>\n",
              "            <script src=\"https://cdnjs.cloudflare.com/ajax/libs/mathjax/2.7.5/MathJax.js?config=TeX-AMS-MML_SVG\"></script><script type=\"text/javascript\">if (window.MathJax) {MathJax.Hub.Config({SVG: {font: \"STIX-Web\"}});}</script>\n",
              "                <script type=\"text/javascript\">window.PlotlyConfig = {MathJaxConfig: 'local'};</script>\n",
              "        <script src=\"https://cdn.plot.ly/plotly-latest.min.js\"></script>    \n",
              "            <div id=\"50155320-cc7f-4ba0-8a2e-91987b5d8d16\" class=\"plotly-graph-div\" style=\"height:300px; width:1200px;\"></div>\n",
              "            <script type=\"text/javascript\">\n",
              "                \n",
              "                    window.PLOTLYENV=window.PLOTLYENV || {};\n",
              "                    \n",
              "                if (document.getElementById(\"50155320-cc7f-4ba0-8a2e-91987b5d8d16\")) {\n",
              "                    Plotly.newPlot(\n",
              "                        '50155320-cc7f-4ba0-8a2e-91987b5d8d16',\n",
              "                        [{\"line\": {\"color\": \"#4280F5\"}, \"mode\": \"lines+markers\", \"name\": \"mean Chi\\u1ec1u r\\u1ed9ng Dim E\", \"type\": \"scatter\", \"x\": [\"2020-08-20T09:00:00\", \"2020-08-22T17:00:00\", \"2020-08-24T12:00:00\", \"2020-08-24T18:00:00\", \"2020-08-27T08:00:00\", \"2020-08-28T17:00:00\", \"2020-08-29T12:00:00\", \"2020-08-31T16:00:00\", \"2020-09-07T09:00:00\", \"2020-09-08T20:00:00\"], \"y\": [3.7173333168029785, 3.7170000076293945, 3.7160000801086426, 3.7056667804718018, 3.7196667194366455, 3.7079999446868896, 3.7119998931884766, 3.7126665115356445, 3.7186667919158936, 3.7103333473205566]}, {\"line\": {\"color\": \"#FF5733\"}, \"mode\": \"lines\", \"name\": \"USL Chi\\u1ec1u r\\u1ed9ng Dim E\", \"type\": \"scatter\", \"x\": [\"2020-08-20T09:00:00\", \"2020-08-22T17:00:00\", \"2020-08-24T12:00:00\", \"2020-08-24T18:00:00\", \"2020-08-27T08:00:00\", \"2020-08-28T17:00:00\", \"2020-08-29T12:00:00\", \"2020-08-31T16:00:00\", \"2020-09-07T09:00:00\", \"2020-09-08T20:00:00\"], \"y\": [3.7200000286102295, 3.7200000286102295, 3.7200000286102295, 3.7200000286102295, 3.7200000286102295, 3.7200000286102295, 3.7200000286102295, 3.7200000286102295, 3.7200000286102295, 3.7200000286102295]}, {\"line\": {\"color\": \"#FF5733\"}, \"mode\": \"lines\", \"name\": \"LSL Chi\\u1ec1u r\\u1ed9ng Dim E\", \"type\": \"scatter\", \"x\": [\"2020-08-20T09:00:00\", \"2020-08-22T17:00:00\", \"2020-08-24T12:00:00\", \"2020-08-24T18:00:00\", \"2020-08-27T08:00:00\", \"2020-08-28T17:00:00\", \"2020-08-29T12:00:00\", \"2020-08-31T16:00:00\", \"2020-09-07T09:00:00\", \"2020-09-08T20:00:00\"], \"y\": [3.700000047683716, 3.700000047683716, 3.700000047683716, 3.700000047683716, 3.700000047683716, 3.700000047683716, 3.700000047683716, 3.700000047683716, 3.700000047683716, 3.700000047683716]}, {\"line\": {\"color\": \"#33C2FF\"}, \"mode\": \"lines\", \"name\": \"UCL Chi\\u1ec1u r\\u1ed9ng Dim E\", \"type\": \"scatter\", \"x\": [\"2020-08-20T09:00:00\", \"2020-08-22T17:00:00\", \"2020-08-24T12:00:00\", \"2020-08-24T18:00:00\", \"2020-08-27T08:00:00\", \"2020-08-28T17:00:00\", \"2020-08-29T12:00:00\", \"2020-08-31T16:00:00\", \"2020-09-07T09:00:00\", \"2020-09-08T20:00:00\"], \"y\": [3.7290000915527344, 3.7330000400543213, 3.7330000400543213, 3.7330000400543213, 3.7330000400543213, 3.7260000705718994, 3.7260000705718994, 3.7260000705718994, 3.7290000915527344, 3.7290000915527344]}, {\"line\": {\"color\": \"#33C2FF\"}, \"mode\": \"lines\", \"name\": \"LCL Chi\\u1ec1u r\\u1ed9ng Dim E\", \"type\": \"scatter\", \"x\": [\"2020-08-20T09:00:00\", \"2020-08-22T17:00:00\", \"2020-08-24T12:00:00\", \"2020-08-24T18:00:00\", \"2020-08-27T08:00:00\", \"2020-08-28T17:00:00\", \"2020-08-29T12:00:00\", \"2020-08-31T16:00:00\", \"2020-09-07T09:00:00\", \"2020-09-08T20:00:00\"], \"y\": [3.7060000896453857, 3.696000099182129, 3.696000099182129, 3.696000099182129, 3.696000099182129, 3.696000099182129, 3.696000099182129, 3.696000099182129, 3.700000047683716, 3.700000047683716]}, {\"line\": {\"color\": \"#33C2FF\"}, \"mode\": \"lines\", \"name\": \"Mean Chi\\u1ec1u r\\u1ed9ng Dim E\", \"type\": \"scatter\", \"x\": [\"2020-08-20T09:00:00\", \"2020-08-22T17:00:00\", \"2020-08-24T12:00:00\", \"2020-08-24T18:00:00\", \"2020-08-27T08:00:00\", \"2020-08-28T17:00:00\", \"2020-08-29T12:00:00\", \"2020-08-31T16:00:00\", \"2020-09-07T09:00:00\", \"2020-09-08T20:00:00\"], \"y\": [3.7170000076293945, 3.7149999141693115, 3.7149999141693115, 3.7149999141693115, 3.7149999141693115, 3.7109999656677246, 3.7109999656677246, 3.7109999656677246, 3.7139999866485596, 3.7139999866485596]}],\n",
              "                        {\"height\": 300, \"template\": {\"data\": {\"bar\": [{\"error_x\": {\"color\": \"#2a3f5f\"}, \"error_y\": {\"color\": \"#2a3f5f\"}, \"marker\": {\"line\": {\"color\": \"#E5ECF6\", \"width\": 0.5}}, \"type\": \"bar\"}], \"barpolar\": [{\"marker\": {\"line\": {\"color\": \"#E5ECF6\", \"width\": 0.5}}, \"type\": \"barpolar\"}], \"carpet\": [{\"aaxis\": {\"endlinecolor\": \"#2a3f5f\", \"gridcolor\": \"white\", \"linecolor\": \"white\", \"minorgridcolor\": \"white\", \"startlinecolor\": \"#2a3f5f\"}, \"baxis\": {\"endlinecolor\": \"#2a3f5f\", \"gridcolor\": \"white\", \"linecolor\": \"white\", \"minorgridcolor\": \"white\", \"startlinecolor\": \"#2a3f5f\"}, \"type\": \"carpet\"}], \"choropleth\": [{\"colorbar\": {\"outlinewidth\": 0, \"ticks\": \"\"}, \"type\": \"choropleth\"}], \"contour\": [{\"colorbar\": {\"outlinewidth\": 0, \"ticks\": \"\"}, \"colorscale\": [[0.0, \"#0d0887\"], [0.1111111111111111, \"#46039f\"], [0.2222222222222222, \"#7201a8\"], [0.3333333333333333, \"#9c179e\"], [0.4444444444444444, \"#bd3786\"], [0.5555555555555556, \"#d8576b\"], [0.6666666666666666, \"#ed7953\"], [0.7777777777777778, \"#fb9f3a\"], [0.8888888888888888, \"#fdca26\"], [1.0, \"#f0f921\"]], \"type\": \"contour\"}], \"contourcarpet\": [{\"colorbar\": {\"outlinewidth\": 0, \"ticks\": \"\"}, \"type\": \"contourcarpet\"}], \"heatmap\": [{\"colorbar\": {\"outlinewidth\": 0, \"ticks\": \"\"}, \"colorscale\": [[0.0, \"#0d0887\"], [0.1111111111111111, \"#46039f\"], [0.2222222222222222, \"#7201a8\"], [0.3333333333333333, \"#9c179e\"], [0.4444444444444444, \"#bd3786\"], [0.5555555555555556, \"#d8576b\"], [0.6666666666666666, \"#ed7953\"], [0.7777777777777778, \"#fb9f3a\"], [0.8888888888888888, \"#fdca26\"], [1.0, \"#f0f921\"]], \"type\": \"heatmap\"}], \"heatmapgl\": [{\"colorbar\": {\"outlinewidth\": 0, \"ticks\": \"\"}, \"colorscale\": [[0.0, \"#0d0887\"], [0.1111111111111111, \"#46039f\"], [0.2222222222222222, \"#7201a8\"], [0.3333333333333333, \"#9c179e\"], [0.4444444444444444, \"#bd3786\"], [0.5555555555555556, \"#d8576b\"], [0.6666666666666666, \"#ed7953\"], [0.7777777777777778, \"#fb9f3a\"], [0.8888888888888888, \"#fdca26\"], [1.0, \"#f0f921\"]], \"type\": \"heatmapgl\"}], \"histogram\": [{\"marker\": {\"colorbar\": {\"outlinewidth\": 0, \"ticks\": \"\"}}, \"type\": \"histogram\"}], \"histogram2d\": [{\"colorbar\": {\"outlinewidth\": 0, \"ticks\": \"\"}, \"colorscale\": [[0.0, \"#0d0887\"], [0.1111111111111111, \"#46039f\"], [0.2222222222222222, \"#7201a8\"], [0.3333333333333333, \"#9c179e\"], [0.4444444444444444, \"#bd3786\"], [0.5555555555555556, \"#d8576b\"], [0.6666666666666666, \"#ed7953\"], [0.7777777777777778, \"#fb9f3a\"], [0.8888888888888888, \"#fdca26\"], [1.0, \"#f0f921\"]], \"type\": \"histogram2d\"}], \"histogram2dcontour\": [{\"colorbar\": {\"outlinewidth\": 0, \"ticks\": \"\"}, \"colorscale\": [[0.0, \"#0d0887\"], [0.1111111111111111, \"#46039f\"], [0.2222222222222222, \"#7201a8\"], [0.3333333333333333, \"#9c179e\"], [0.4444444444444444, \"#bd3786\"], [0.5555555555555556, \"#d8576b\"], [0.6666666666666666, \"#ed7953\"], [0.7777777777777778, \"#fb9f3a\"], [0.8888888888888888, \"#fdca26\"], [1.0, \"#f0f921\"]], \"type\": \"histogram2dcontour\"}], \"mesh3d\": [{\"colorbar\": {\"outlinewidth\": 0, \"ticks\": \"\"}, \"type\": \"mesh3d\"}], \"parcoords\": [{\"line\": {\"colorbar\": {\"outlinewidth\": 0, \"ticks\": \"\"}}, \"type\": \"parcoords\"}], \"pie\": [{\"automargin\": true, \"type\": \"pie\"}], \"scatter\": [{\"marker\": {\"colorbar\": {\"outlinewidth\": 0, \"ticks\": \"\"}}, \"type\": \"scatter\"}], \"scatter3d\": [{\"line\": {\"colorbar\": {\"outlinewidth\": 0, \"ticks\": \"\"}}, \"marker\": {\"colorbar\": {\"outlinewidth\": 0, \"ticks\": \"\"}}, \"type\": \"scatter3d\"}], \"scattercarpet\": [{\"marker\": {\"colorbar\": {\"outlinewidth\": 0, \"ticks\": \"\"}}, \"type\": \"scattercarpet\"}], \"scattergeo\": [{\"marker\": {\"colorbar\": {\"outlinewidth\": 0, \"ticks\": \"\"}}, \"type\": \"scattergeo\"}], \"scattergl\": [{\"marker\": {\"colorbar\": {\"outlinewidth\": 0, \"ticks\": \"\"}}, \"type\": \"scattergl\"}], \"scattermapbox\": [{\"marker\": {\"colorbar\": {\"outlinewidth\": 0, \"ticks\": \"\"}}, \"type\": \"scattermapbox\"}], \"scatterpolar\": [{\"marker\": {\"colorbar\": {\"outlinewidth\": 0, \"ticks\": \"\"}}, \"type\": \"scatterpolar\"}], \"scatterpolargl\": [{\"marker\": {\"colorbar\": {\"outlinewidth\": 0, \"ticks\": \"\"}}, \"type\": \"scatterpolargl\"}], \"scatterternary\": [{\"marker\": {\"colorbar\": {\"outlinewidth\": 0, \"ticks\": \"\"}}, \"type\": \"scatterternary\"}], \"surface\": [{\"colorbar\": {\"outlinewidth\": 0, \"ticks\": \"\"}, \"colorscale\": [[0.0, \"#0d0887\"], [0.1111111111111111, \"#46039f\"], [0.2222222222222222, \"#7201a8\"], [0.3333333333333333, \"#9c179e\"], [0.4444444444444444, \"#bd3786\"], [0.5555555555555556, \"#d8576b\"], [0.6666666666666666, \"#ed7953\"], [0.7777777777777778, \"#fb9f3a\"], [0.8888888888888888, \"#fdca26\"], [1.0, \"#f0f921\"]], \"type\": \"surface\"}], \"table\": [{\"cells\": {\"fill\": {\"color\": \"#EBF0F8\"}, \"line\": {\"color\": \"white\"}}, \"header\": {\"fill\": {\"color\": \"#C8D4E3\"}, \"line\": {\"color\": \"white\"}}, \"type\": \"table\"}]}, \"layout\": {\"annotationdefaults\": {\"arrowcolor\": \"#2a3f5f\", \"arrowhead\": 0, \"arrowwidth\": 1}, \"coloraxis\": {\"colorbar\": {\"outlinewidth\": 0, \"ticks\": \"\"}}, \"colorscale\": {\"diverging\": [[0, \"#8e0152\"], [0.1, \"#c51b7d\"], [0.2, \"#de77ae\"], [0.3, \"#f1b6da\"], [0.4, \"#fde0ef\"], [0.5, \"#f7f7f7\"], [0.6, \"#e6f5d0\"], [0.7, \"#b8e186\"], [0.8, \"#7fbc41\"], [0.9, \"#4d9221\"], [1, \"#276419\"]], \"sequential\": [[0.0, \"#0d0887\"], [0.1111111111111111, \"#46039f\"], [0.2222222222222222, \"#7201a8\"], [0.3333333333333333, \"#9c179e\"], [0.4444444444444444, \"#bd3786\"], [0.5555555555555556, \"#d8576b\"], [0.6666666666666666, \"#ed7953\"], [0.7777777777777778, \"#fb9f3a\"], [0.8888888888888888, \"#fdca26\"], [1.0, \"#f0f921\"]], \"sequentialminus\": [[0.0, \"#0d0887\"], [0.1111111111111111, \"#46039f\"], [0.2222222222222222, \"#7201a8\"], [0.3333333333333333, \"#9c179e\"], [0.4444444444444444, \"#bd3786\"], [0.5555555555555556, \"#d8576b\"], [0.6666666666666666, \"#ed7953\"], [0.7777777777777778, \"#fb9f3a\"], [0.8888888888888888, \"#fdca26\"], [1.0, \"#f0f921\"]]}, \"colorway\": [\"#636efa\", \"#EF553B\", \"#00cc96\", \"#ab63fa\", \"#FFA15A\", \"#19d3f3\", \"#FF6692\", \"#B6E880\", \"#FF97FF\", \"#FECB52\"], \"font\": {\"color\": \"#2a3f5f\"}, \"geo\": {\"bgcolor\": \"white\", \"lakecolor\": \"white\", \"landcolor\": \"#E5ECF6\", \"showlakes\": true, \"showland\": true, \"subunitcolor\": \"white\"}, \"hoverlabel\": {\"align\": \"left\"}, \"hovermode\": \"closest\", \"mapbox\": {\"style\": \"light\"}, \"paper_bgcolor\": \"white\", \"plot_bgcolor\": \"#E5ECF6\", \"polar\": {\"angularaxis\": {\"gridcolor\": \"white\", \"linecolor\": \"white\", \"ticks\": \"\"}, \"bgcolor\": \"#E5ECF6\", \"radialaxis\": {\"gridcolor\": \"white\", \"linecolor\": \"white\", \"ticks\": \"\"}}, \"scene\": {\"xaxis\": {\"backgroundcolor\": \"#E5ECF6\", \"gridcolor\": \"white\", \"gridwidth\": 2, \"linecolor\": \"white\", \"showbackground\": true, \"ticks\": \"\", \"zerolinecolor\": \"white\"}, \"yaxis\": {\"backgroundcolor\": \"#E5ECF6\", \"gridcolor\": \"white\", \"gridwidth\": 2, \"linecolor\": \"white\", \"showbackground\": true, \"ticks\": \"\", \"zerolinecolor\": \"white\"}, \"zaxis\": {\"backgroundcolor\": \"#E5ECF6\", \"gridcolor\": \"white\", \"gridwidth\": 2, \"linecolor\": \"white\", \"showbackground\": true, \"ticks\": \"\", \"zerolinecolor\": \"white\"}}, \"shapedefaults\": {\"line\": {\"color\": \"#2a3f5f\"}}, \"ternary\": {\"aaxis\": {\"gridcolor\": \"white\", \"linecolor\": \"white\", \"ticks\": \"\"}, \"baxis\": {\"gridcolor\": \"white\", \"linecolor\": \"white\", \"ticks\": \"\"}, \"bgcolor\": \"#E5ECF6\", \"caxis\": {\"gridcolor\": \"white\", \"linecolor\": \"white\", \"ticks\": \"\"}}, \"title\": {\"x\": 0.05}, \"xaxis\": {\"automargin\": true, \"gridcolor\": \"white\", \"linecolor\": \"white\", \"ticks\": \"\", \"title\": {\"standoff\": 15}, \"zerolinecolor\": \"white\", \"zerolinewidth\": 2}, \"yaxis\": {\"automargin\": true, \"gridcolor\": \"white\", \"linecolor\": \"white\", \"ticks\": \"\", \"title\": {\"standoff\": 15}, \"zerolinecolor\": \"white\", \"zerolinewidth\": 2}}}, \"title\": {\"text\": \"Chi\\u1ec1u r\\u1ed9ng Dim E\"}, \"width\": 1200},\n",
              "                        {\"responsive\": true}\n",
              "                    ).then(function(){\n",
              "                            \n",
              "var gd = document.getElementById('50155320-cc7f-4ba0-8a2e-91987b5d8d16');\n",
              "var x = new MutationObserver(function (mutations, observer) {{\n",
              "        var display = window.getComputedStyle(gd).display;\n",
              "        if (!display || display === 'none') {{\n",
              "            console.log([gd, 'removed!']);\n",
              "            Plotly.purge(gd);\n",
              "            observer.disconnect();\n",
              "        }}\n",
              "}});\n",
              "\n",
              "// Listen for the removal of the full notebook cells\n",
              "var notebookContainer = gd.closest('#notebook-container');\n",
              "if (notebookContainer) {{\n",
              "    x.observe(notebookContainer, {childList: true});\n",
              "}}\n",
              "\n",
              "// Listen for the clearing of the current output cell\n",
              "var outputEl = gd.closest('.output');\n",
              "if (outputEl) {{\n",
              "    x.observe(outputEl, {childList: true});\n",
              "}}\n",
              "\n",
              "                        })\n",
              "                };\n",
              "                \n",
              "            </script>\n",
              "        </div>\n",
              "</body>\n",
              "</html>"
            ]
          },
          "metadata": {
            "tags": []
          }
        },
        {
          "output_type": "stream",
          "text": [
            "Pp:0.71 , Ppk: 0.28\n",
            "Cp:0.77 , Cpk:0.31\n"
          ],
          "name": "stdout"
        },
        {
          "output_type": "display_data",
          "data": {
            "text/html": [
              "<html>\n",
              "<head><meta charset=\"utf-8\" /></head>\n",
              "<body>\n",
              "    <div>\n",
              "            <script src=\"https://cdnjs.cloudflare.com/ajax/libs/mathjax/2.7.5/MathJax.js?config=TeX-AMS-MML_SVG\"></script><script type=\"text/javascript\">if (window.MathJax) {MathJax.Hub.Config({SVG: {font: \"STIX-Web\"}});}</script>\n",
              "                <script type=\"text/javascript\">window.PlotlyConfig = {MathJaxConfig: 'local'};</script>\n",
              "        <script src=\"https://cdn.plot.ly/plotly-latest.min.js\"></script>    \n",
              "            <div id=\"c3cdb3ba-a8eb-4e66-8ea7-7bd46837e6e9\" class=\"plotly-graph-div\" style=\"height:300px; width:1200px;\"></div>\n",
              "            <script type=\"text/javascript\">\n",
              "                \n",
              "                    window.PLOTLYENV=window.PLOTLYENV || {};\n",
              "                    \n",
              "                if (document.getElementById(\"c3cdb3ba-a8eb-4e66-8ea7-7bd46837e6e9\")) {\n",
              "                    Plotly.newPlot(\n",
              "                        'c3cdb3ba-a8eb-4e66-8ea7-7bd46837e6e9',\n",
              "                        [{\"line\": {\"color\": \"#4280F5\"}, \"mode\": \"lines+markers\", \"name\": \"mean Chi\\u1ec1u d\\u00e0i Dim C\", \"type\": \"scatter\", \"x\": [\"2020-08-20T09:00:00\", \"2020-08-22T17:00:00\", \"2020-08-24T12:00:00\", \"2020-08-24T18:00:00\", \"2020-08-27T08:00:00\", \"2020-08-28T17:00:00\", \"2020-08-29T12:00:00\", \"2020-08-31T16:00:00\", \"2020-09-07T09:00:00\", \"2020-09-08T20:00:00\"], \"y\": [7.515666961669922, 7.514333248138428, 7.514999866485596, 7.509666442871094, 7.517000198364258, 7.51366662979126, 7.507333278656006, 7.514666557312012, 7.515666484832764, 7.517666816711426]}, {\"line\": {\"color\": \"#FF5733\"}, \"mode\": \"lines\", \"name\": \"USL Chi\\u1ec1u d\\u00e0i Dim C\", \"type\": \"scatter\", \"x\": [\"2020-08-20T09:00:00\", \"2020-08-22T17:00:00\", \"2020-08-24T12:00:00\", \"2020-08-24T18:00:00\", \"2020-08-27T08:00:00\", \"2020-08-28T17:00:00\", \"2020-08-29T12:00:00\", \"2020-08-31T16:00:00\", \"2020-09-07T09:00:00\", \"2020-09-08T20:00:00\"], \"y\": [7.519999980926514, 7.519999980926514, 7.519999980926514, 7.519999980926514, 7.519999980926514, 7.519999980926514, 7.519999980926514, 7.519999980926514, 7.519999980926514, 7.519999980926514]}, {\"line\": {\"color\": \"#FF5733\"}, \"mode\": \"lines\", \"name\": \"LSL Chi\\u1ec1u d\\u00e0i Dim C\", \"type\": \"scatter\", \"x\": [\"2020-08-20T09:00:00\", \"2020-08-22T17:00:00\", \"2020-08-24T12:00:00\", \"2020-08-24T18:00:00\", \"2020-08-27T08:00:00\", \"2020-08-28T17:00:00\", \"2020-08-29T12:00:00\", \"2020-08-31T16:00:00\", \"2020-09-07T09:00:00\", \"2020-09-08T20:00:00\"], \"y\": [7.5, 7.5, 7.5, 7.5, 7.5, 7.5, 7.5, 7.5, 7.5, 7.5]}, {\"line\": {\"color\": \"#33C2FF\"}, \"mode\": \"lines\", \"name\": \"UCL Chi\\u1ec1u d\\u00e0i Dim C\", \"type\": \"scatter\", \"x\": [\"2020-08-20T09:00:00\", \"2020-08-22T17:00:00\", \"2020-08-24T12:00:00\", \"2020-08-24T18:00:00\", \"2020-08-27T08:00:00\", \"2020-08-28T17:00:00\", \"2020-08-29T12:00:00\", \"2020-08-31T16:00:00\", \"2020-09-07T09:00:00\", \"2020-09-08T20:00:00\"], \"y\": [7.525000095367432, 7.53000020980835, 7.53000020980835, 7.53000020980835, 7.53000020980835, 7.5269999504089355, 7.5269999504089355, 7.5269999504089355, 7.525000095367432, 7.525000095367432]}, {\"line\": {\"color\": \"#33C2FF\"}, \"mode\": \"lines\", \"name\": \"LCL Chi\\u1ec1u d\\u00e0i Dim C\", \"type\": \"scatter\", \"x\": [\"2020-08-20T09:00:00\", \"2020-08-22T17:00:00\", \"2020-08-24T12:00:00\", \"2020-08-24T18:00:00\", \"2020-08-27T08:00:00\", \"2020-08-28T17:00:00\", \"2020-08-29T12:00:00\", \"2020-08-31T16:00:00\", \"2020-09-07T09:00:00\", \"2020-09-08T20:00:00\"], \"y\": [7.50600004196167, 7.498000144958496, 7.498000144958496, 7.498000144958496, 7.498000144958496, 7.497000217437744, 7.497000217437744, 7.497000217437744, 7.508999824523926, 7.508999824523926]}, {\"line\": {\"color\": \"#33C2FF\"}, \"mode\": \"lines\", \"name\": \"Mean Chi\\u1ec1u d\\u00e0i Dim C\", \"type\": \"scatter\", \"x\": [\"2020-08-20T09:00:00\", \"2020-08-22T17:00:00\", \"2020-08-24T12:00:00\", \"2020-08-24T18:00:00\", \"2020-08-27T08:00:00\", \"2020-08-28T17:00:00\", \"2020-08-29T12:00:00\", \"2020-08-31T16:00:00\", \"2020-09-07T09:00:00\", \"2020-09-08T20:00:00\"], \"y\": [7.515999794006348, 7.513999938964844, 7.513999938964844, 7.513999938964844, 7.513999938964844, 7.51200008392334, 7.51200008392334, 7.51200008392334, 7.517000198364258, 7.517000198364258]}],\n",
              "                        {\"height\": 300, \"template\": {\"data\": {\"bar\": [{\"error_x\": {\"color\": \"#2a3f5f\"}, \"error_y\": {\"color\": \"#2a3f5f\"}, \"marker\": {\"line\": {\"color\": \"#E5ECF6\", \"width\": 0.5}}, \"type\": \"bar\"}], \"barpolar\": [{\"marker\": {\"line\": {\"color\": \"#E5ECF6\", \"width\": 0.5}}, \"type\": \"barpolar\"}], \"carpet\": [{\"aaxis\": {\"endlinecolor\": \"#2a3f5f\", \"gridcolor\": \"white\", \"linecolor\": \"white\", \"minorgridcolor\": \"white\", \"startlinecolor\": \"#2a3f5f\"}, \"baxis\": {\"endlinecolor\": \"#2a3f5f\", \"gridcolor\": \"white\", \"linecolor\": \"white\", \"minorgridcolor\": \"white\", \"startlinecolor\": \"#2a3f5f\"}, \"type\": \"carpet\"}], \"choropleth\": [{\"colorbar\": {\"outlinewidth\": 0, \"ticks\": \"\"}, \"type\": \"choropleth\"}], \"contour\": [{\"colorbar\": {\"outlinewidth\": 0, \"ticks\": \"\"}, \"colorscale\": [[0.0, \"#0d0887\"], [0.1111111111111111, \"#46039f\"], [0.2222222222222222, \"#7201a8\"], [0.3333333333333333, \"#9c179e\"], [0.4444444444444444, \"#bd3786\"], [0.5555555555555556, \"#d8576b\"], [0.6666666666666666, \"#ed7953\"], [0.7777777777777778, \"#fb9f3a\"], [0.8888888888888888, \"#fdca26\"], [1.0, \"#f0f921\"]], \"type\": \"contour\"}], \"contourcarpet\": [{\"colorbar\": {\"outlinewidth\": 0, \"ticks\": \"\"}, \"type\": \"contourcarpet\"}], \"heatmap\": [{\"colorbar\": {\"outlinewidth\": 0, \"ticks\": \"\"}, \"colorscale\": [[0.0, \"#0d0887\"], [0.1111111111111111, \"#46039f\"], [0.2222222222222222, \"#7201a8\"], [0.3333333333333333, \"#9c179e\"], [0.4444444444444444, \"#bd3786\"], [0.5555555555555556, \"#d8576b\"], [0.6666666666666666, \"#ed7953\"], [0.7777777777777778, \"#fb9f3a\"], [0.8888888888888888, \"#fdca26\"], [1.0, \"#f0f921\"]], \"type\": \"heatmap\"}], \"heatmapgl\": [{\"colorbar\": {\"outlinewidth\": 0, \"ticks\": \"\"}, \"colorscale\": [[0.0, \"#0d0887\"], [0.1111111111111111, \"#46039f\"], [0.2222222222222222, \"#7201a8\"], [0.3333333333333333, \"#9c179e\"], [0.4444444444444444, \"#bd3786\"], [0.5555555555555556, \"#d8576b\"], [0.6666666666666666, \"#ed7953\"], [0.7777777777777778, \"#fb9f3a\"], [0.8888888888888888, \"#fdca26\"], [1.0, \"#f0f921\"]], \"type\": \"heatmapgl\"}], \"histogram\": [{\"marker\": {\"colorbar\": {\"outlinewidth\": 0, \"ticks\": \"\"}}, \"type\": \"histogram\"}], \"histogram2d\": [{\"colorbar\": {\"outlinewidth\": 0, \"ticks\": \"\"}, \"colorscale\": [[0.0, \"#0d0887\"], [0.1111111111111111, \"#46039f\"], [0.2222222222222222, \"#7201a8\"], [0.3333333333333333, \"#9c179e\"], [0.4444444444444444, \"#bd3786\"], [0.5555555555555556, \"#d8576b\"], [0.6666666666666666, \"#ed7953\"], [0.7777777777777778, \"#fb9f3a\"], [0.8888888888888888, \"#fdca26\"], [1.0, \"#f0f921\"]], \"type\": \"histogram2d\"}], \"histogram2dcontour\": [{\"colorbar\": {\"outlinewidth\": 0, \"ticks\": \"\"}, \"colorscale\": [[0.0, \"#0d0887\"], [0.1111111111111111, \"#46039f\"], [0.2222222222222222, \"#7201a8\"], [0.3333333333333333, \"#9c179e\"], [0.4444444444444444, \"#bd3786\"], [0.5555555555555556, \"#d8576b\"], [0.6666666666666666, \"#ed7953\"], [0.7777777777777778, \"#fb9f3a\"], [0.8888888888888888, \"#fdca26\"], [1.0, \"#f0f921\"]], \"type\": \"histogram2dcontour\"}], \"mesh3d\": [{\"colorbar\": {\"outlinewidth\": 0, \"ticks\": \"\"}, \"type\": \"mesh3d\"}], \"parcoords\": [{\"line\": {\"colorbar\": {\"outlinewidth\": 0, \"ticks\": \"\"}}, \"type\": \"parcoords\"}], \"pie\": [{\"automargin\": true, \"type\": \"pie\"}], \"scatter\": [{\"marker\": {\"colorbar\": {\"outlinewidth\": 0, \"ticks\": \"\"}}, \"type\": \"scatter\"}], \"scatter3d\": [{\"line\": {\"colorbar\": {\"outlinewidth\": 0, \"ticks\": \"\"}}, \"marker\": {\"colorbar\": {\"outlinewidth\": 0, \"ticks\": \"\"}}, \"type\": \"scatter3d\"}], \"scattercarpet\": [{\"marker\": {\"colorbar\": {\"outlinewidth\": 0, \"ticks\": \"\"}}, \"type\": \"scattercarpet\"}], \"scattergeo\": [{\"marker\": {\"colorbar\": {\"outlinewidth\": 0, \"ticks\": \"\"}}, \"type\": \"scattergeo\"}], \"scattergl\": [{\"marker\": {\"colorbar\": {\"outlinewidth\": 0, \"ticks\": \"\"}}, \"type\": \"scattergl\"}], \"scattermapbox\": [{\"marker\": {\"colorbar\": {\"outlinewidth\": 0, \"ticks\": \"\"}}, \"type\": \"scattermapbox\"}], \"scatterpolar\": [{\"marker\": {\"colorbar\": {\"outlinewidth\": 0, \"ticks\": \"\"}}, \"type\": \"scatterpolar\"}], \"scatterpolargl\": [{\"marker\": {\"colorbar\": {\"outlinewidth\": 0, \"ticks\": \"\"}}, \"type\": \"scatterpolargl\"}], \"scatterternary\": [{\"marker\": {\"colorbar\": {\"outlinewidth\": 0, \"ticks\": \"\"}}, \"type\": \"scatterternary\"}], \"surface\": [{\"colorbar\": {\"outlinewidth\": 0, \"ticks\": \"\"}, \"colorscale\": [[0.0, \"#0d0887\"], [0.1111111111111111, \"#46039f\"], [0.2222222222222222, \"#7201a8\"], [0.3333333333333333, \"#9c179e\"], [0.4444444444444444, \"#bd3786\"], [0.5555555555555556, \"#d8576b\"], [0.6666666666666666, \"#ed7953\"], [0.7777777777777778, \"#fb9f3a\"], [0.8888888888888888, \"#fdca26\"], [1.0, \"#f0f921\"]], \"type\": \"surface\"}], \"table\": [{\"cells\": {\"fill\": {\"color\": \"#EBF0F8\"}, \"line\": {\"color\": \"white\"}}, \"header\": {\"fill\": {\"color\": \"#C8D4E3\"}, \"line\": {\"color\": \"white\"}}, \"type\": \"table\"}]}, \"layout\": {\"annotationdefaults\": {\"arrowcolor\": \"#2a3f5f\", \"arrowhead\": 0, \"arrowwidth\": 1}, \"coloraxis\": {\"colorbar\": {\"outlinewidth\": 0, \"ticks\": \"\"}}, \"colorscale\": {\"diverging\": [[0, \"#8e0152\"], [0.1, \"#c51b7d\"], [0.2, \"#de77ae\"], [0.3, \"#f1b6da\"], [0.4, \"#fde0ef\"], [0.5, \"#f7f7f7\"], [0.6, \"#e6f5d0\"], [0.7, \"#b8e186\"], [0.8, \"#7fbc41\"], [0.9, \"#4d9221\"], [1, \"#276419\"]], \"sequential\": [[0.0, \"#0d0887\"], [0.1111111111111111, \"#46039f\"], [0.2222222222222222, \"#7201a8\"], [0.3333333333333333, \"#9c179e\"], [0.4444444444444444, \"#bd3786\"], [0.5555555555555556, \"#d8576b\"], [0.6666666666666666, \"#ed7953\"], [0.7777777777777778, \"#fb9f3a\"], [0.8888888888888888, \"#fdca26\"], [1.0, \"#f0f921\"]], \"sequentialminus\": [[0.0, \"#0d0887\"], [0.1111111111111111, \"#46039f\"], [0.2222222222222222, \"#7201a8\"], [0.3333333333333333, \"#9c179e\"], [0.4444444444444444, \"#bd3786\"], [0.5555555555555556, \"#d8576b\"], [0.6666666666666666, \"#ed7953\"], [0.7777777777777778, \"#fb9f3a\"], [0.8888888888888888, \"#fdca26\"], [1.0, \"#f0f921\"]]}, \"colorway\": [\"#636efa\", \"#EF553B\", \"#00cc96\", \"#ab63fa\", \"#FFA15A\", \"#19d3f3\", \"#FF6692\", \"#B6E880\", \"#FF97FF\", \"#FECB52\"], \"font\": {\"color\": \"#2a3f5f\"}, \"geo\": {\"bgcolor\": \"white\", \"lakecolor\": \"white\", \"landcolor\": \"#E5ECF6\", \"showlakes\": true, \"showland\": true, \"subunitcolor\": \"white\"}, \"hoverlabel\": {\"align\": \"left\"}, \"hovermode\": \"closest\", \"mapbox\": {\"style\": \"light\"}, \"paper_bgcolor\": \"white\", \"plot_bgcolor\": \"#E5ECF6\", \"polar\": {\"angularaxis\": {\"gridcolor\": \"white\", \"linecolor\": \"white\", \"ticks\": \"\"}, \"bgcolor\": \"#E5ECF6\", \"radialaxis\": {\"gridcolor\": \"white\", \"linecolor\": \"white\", \"ticks\": \"\"}}, \"scene\": {\"xaxis\": {\"backgroundcolor\": \"#E5ECF6\", \"gridcolor\": \"white\", \"gridwidth\": 2, \"linecolor\": \"white\", \"showbackground\": true, \"ticks\": \"\", \"zerolinecolor\": \"white\"}, \"yaxis\": {\"backgroundcolor\": \"#E5ECF6\", \"gridcolor\": \"white\", \"gridwidth\": 2, \"linecolor\": \"white\", \"showbackground\": true, \"ticks\": \"\", \"zerolinecolor\": \"white\"}, \"zaxis\": {\"backgroundcolor\": \"#E5ECF6\", \"gridcolor\": \"white\", \"gridwidth\": 2, \"linecolor\": \"white\", \"showbackground\": true, \"ticks\": \"\", \"zerolinecolor\": \"white\"}}, \"shapedefaults\": {\"line\": {\"color\": \"#2a3f5f\"}}, \"ternary\": {\"aaxis\": {\"gridcolor\": \"white\", \"linecolor\": \"white\", \"ticks\": \"\"}, \"baxis\": {\"gridcolor\": \"white\", \"linecolor\": \"white\", \"ticks\": \"\"}, \"bgcolor\": \"#E5ECF6\", \"caxis\": {\"gridcolor\": \"white\", \"linecolor\": \"white\", \"ticks\": \"\"}}, \"title\": {\"x\": 0.05}, \"xaxis\": {\"automargin\": true, \"gridcolor\": \"white\", \"linecolor\": \"white\", \"ticks\": \"\", \"title\": {\"standoff\": 15}, \"zerolinecolor\": \"white\", \"zerolinewidth\": 2}, \"yaxis\": {\"automargin\": true, \"gridcolor\": \"white\", \"linecolor\": \"white\", \"ticks\": \"\", \"title\": {\"standoff\": 15}, \"zerolinecolor\": \"white\", \"zerolinewidth\": 2}}}, \"title\": {\"text\": \"Chi\\u1ec1u d\\u00e0i Dim C\"}, \"width\": 1200},\n",
              "                        {\"responsive\": true}\n",
              "                    ).then(function(){\n",
              "                            \n",
              "var gd = document.getElementById('c3cdb3ba-a8eb-4e66-8ea7-7bd46837e6e9');\n",
              "var x = new MutationObserver(function (mutations, observer) {{\n",
              "        var display = window.getComputedStyle(gd).display;\n",
              "        if (!display || display === 'none') {{\n",
              "            console.log([gd, 'removed!']);\n",
              "            Plotly.purge(gd);\n",
              "            observer.disconnect();\n",
              "        }}\n",
              "}});\n",
              "\n",
              "// Listen for the removal of the full notebook cells\n",
              "var notebookContainer = gd.closest('#notebook-container');\n",
              "if (notebookContainer) {{\n",
              "    x.observe(notebookContainer, {childList: true});\n",
              "}}\n",
              "\n",
              "// Listen for the clearing of the current output cell\n",
              "var outputEl = gd.closest('.output');\n",
              "if (outputEl) {{\n",
              "    x.observe(outputEl, {childList: true});\n",
              "}}\n",
              "\n",
              "                        })\n",
              "                };\n",
              "                \n",
              "            </script>\n",
              "        </div>\n",
              "</body>\n",
              "</html>"
            ]
          },
          "metadata": {
            "tags": []
          }
        },
        {
          "output_type": "stream",
          "text": [
            "Pp:0.83 , Ppk: 0.58\n",
            "Cp:0.84 , Cpk:0.59\n"
          ],
          "name": "stdout"
        },
        {
          "output_type": "display_data",
          "data": {
            "text/html": [
              "<html>\n",
              "<head><meta charset=\"utf-8\" /></head>\n",
              "<body>\n",
              "    <div>\n",
              "            <script src=\"https://cdnjs.cloudflare.com/ajax/libs/mathjax/2.7.5/MathJax.js?config=TeX-AMS-MML_SVG\"></script><script type=\"text/javascript\">if (window.MathJax) {MathJax.Hub.Config({SVG: {font: \"STIX-Web\"}});}</script>\n",
              "                <script type=\"text/javascript\">window.PlotlyConfig = {MathJaxConfig: 'local'};</script>\n",
              "        <script src=\"https://cdn.plot.ly/plotly-latest.min.js\"></script>    \n",
              "            <div id=\"326a229c-6581-4249-80c2-2a8136e2662d\" class=\"plotly-graph-div\" style=\"height:300px; width:1200px;\"></div>\n",
              "            <script type=\"text/javascript\">\n",
              "                \n",
              "                    window.PLOTLYENV=window.PLOTLYENV || {};\n",
              "                    \n",
              "                if (document.getElementById(\"326a229c-6581-4249-80c2-2a8136e2662d\")) {\n",
              "                    Plotly.newPlot(\n",
              "                        '326a229c-6581-4249-80c2-2a8136e2662d',\n",
              "                        [{\"line\": {\"color\": \"#4280F5\"}, \"mode\": \"lines+markers\", \"name\": \"mean Cung hint Dim I\", \"type\": \"scatter\", \"x\": [\"2020-08-20T09:00:00\", \"2020-08-22T17:00:00\", \"2020-08-24T12:00:00\", \"2020-08-24T18:00:00\", \"2020-08-27T08:00:00\", \"2020-08-28T17:00:00\", \"2020-08-29T12:00:00\", \"2020-08-31T16:00:00\", \"2020-09-07T09:00:00\", \"2020-09-08T20:00:00\"], \"y\": [0.32600000500679016, 0.3330000042915344, 0.32420000433921814, 0.3229999840259552, 0.3203999996185303, 0.33239999413490295, 0.326200008392334, 0.3294000029563904, 0.32339999079704285, 0.33079999685287476]}, {\"line\": {\"color\": \"#FF5733\"}, \"mode\": \"lines\", \"name\": \"USL Cung hint Dim I\", \"type\": \"scatter\", \"x\": [\"2020-08-20T09:00:00\", \"2020-08-22T17:00:00\", \"2020-08-24T12:00:00\", \"2020-08-24T18:00:00\", \"2020-08-27T08:00:00\", \"2020-08-28T17:00:00\", \"2020-08-29T12:00:00\", \"2020-08-31T16:00:00\", \"2020-09-07T09:00:00\", \"2020-09-08T20:00:00\"], \"y\": [0.3400000035762787, 0.3400000035762787, 0.3400000035762787, 0.3400000035762787, 0.3400000035762787, 0.3400000035762787, 0.3400000035762787, 0.3400000035762787, 0.3400000035762787, 0.3400000035762787]}, {\"line\": {\"color\": \"#FF5733\"}, \"mode\": \"lines\", \"name\": \"LSL Cung hint Dim I\", \"type\": \"scatter\", \"x\": [\"2020-08-20T09:00:00\", \"2020-08-22T17:00:00\", \"2020-08-24T12:00:00\", \"2020-08-24T18:00:00\", \"2020-08-27T08:00:00\", \"2020-08-28T17:00:00\", \"2020-08-29T12:00:00\", \"2020-08-31T16:00:00\", \"2020-09-07T09:00:00\", \"2020-09-08T20:00:00\"], \"y\": [0.30000001192092896, 0.30000001192092896, 0.30000001192092896, 0.30000001192092896, 0.30000001192092896, 0.30000001192092896, 0.30000001192092896, 0.30000001192092896, 0.30000001192092896, 0.30000001192092896]}, {\"line\": {\"color\": \"#33C2FF\"}, \"mode\": \"lines\", \"name\": \"UCL Cung hint Dim I\", \"type\": \"scatter\", \"x\": [\"2020-08-20T09:00:00\", \"2020-08-22T17:00:00\", \"2020-08-24T12:00:00\", \"2020-08-24T18:00:00\", \"2020-08-27T08:00:00\", \"2020-08-28T17:00:00\", \"2020-08-29T12:00:00\", \"2020-08-31T16:00:00\", \"2020-09-07T09:00:00\", \"2020-09-08T20:00:00\"], \"y\": [0.35199999809265137, 0.3490000069141388, 0.3490000069141388, 0.3490000069141388, 0.3490000069141388, 0.3529999852180481, 0.3529999852180481, 0.3529999852180481, 0.35100001096725464, 0.35100001096725464]}, {\"line\": {\"color\": \"#33C2FF\"}, \"mode\": \"lines\", \"name\": \"LCL Cung hint Dim I\", \"type\": \"scatter\", \"x\": [\"2020-08-20T09:00:00\", \"2020-08-22T17:00:00\", \"2020-08-24T12:00:00\", \"2020-08-24T18:00:00\", \"2020-08-27T08:00:00\", \"2020-08-28T17:00:00\", \"2020-08-29T12:00:00\", \"2020-08-31T16:00:00\", \"2020-09-07T09:00:00\", \"2020-09-08T20:00:00\"], \"y\": [0.30000001192092896, 0.3009999990463257, 0.3009999990463257, 0.3009999990463257, 0.3009999990463257, 0.3059999942779541, 0.3059999942779541, 0.3059999942779541, 0.30300000309944153, 0.30300000309944153]}, {\"line\": {\"color\": \"#33C2FF\"}, \"mode\": \"lines\", \"name\": \"Mean Cung hint Dim I\", \"type\": \"scatter\", \"x\": [\"2020-08-20T09:00:00\", \"2020-08-22T17:00:00\", \"2020-08-24T12:00:00\", \"2020-08-24T18:00:00\", \"2020-08-27T08:00:00\", \"2020-08-28T17:00:00\", \"2020-08-29T12:00:00\", \"2020-08-31T16:00:00\", \"2020-09-07T09:00:00\", \"2020-09-08T20:00:00\"], \"y\": [0.32600000500679016, 0.32499998807907104, 0.32499998807907104, 0.32499998807907104, 0.32499998807907104, 0.32899999618530273, 0.32899999618530273, 0.32899999618530273, 0.3269999921321869, 0.3269999921321869]}],\n",
              "                        {\"height\": 300, \"template\": {\"data\": {\"bar\": [{\"error_x\": {\"color\": \"#2a3f5f\"}, \"error_y\": {\"color\": \"#2a3f5f\"}, \"marker\": {\"line\": {\"color\": \"#E5ECF6\", \"width\": 0.5}}, \"type\": \"bar\"}], \"barpolar\": [{\"marker\": {\"line\": {\"color\": \"#E5ECF6\", \"width\": 0.5}}, \"type\": \"barpolar\"}], \"carpet\": [{\"aaxis\": {\"endlinecolor\": \"#2a3f5f\", \"gridcolor\": \"white\", \"linecolor\": \"white\", \"minorgridcolor\": \"white\", \"startlinecolor\": \"#2a3f5f\"}, \"baxis\": {\"endlinecolor\": \"#2a3f5f\", \"gridcolor\": \"white\", \"linecolor\": \"white\", \"minorgridcolor\": \"white\", \"startlinecolor\": \"#2a3f5f\"}, \"type\": \"carpet\"}], \"choropleth\": [{\"colorbar\": {\"outlinewidth\": 0, \"ticks\": \"\"}, \"type\": \"choropleth\"}], \"contour\": [{\"colorbar\": {\"outlinewidth\": 0, \"ticks\": \"\"}, \"colorscale\": [[0.0, \"#0d0887\"], [0.1111111111111111, \"#46039f\"], [0.2222222222222222, \"#7201a8\"], [0.3333333333333333, \"#9c179e\"], [0.4444444444444444, \"#bd3786\"], [0.5555555555555556, \"#d8576b\"], [0.6666666666666666, \"#ed7953\"], [0.7777777777777778, \"#fb9f3a\"], [0.8888888888888888, \"#fdca26\"], [1.0, \"#f0f921\"]], \"type\": \"contour\"}], \"contourcarpet\": [{\"colorbar\": {\"outlinewidth\": 0, \"ticks\": \"\"}, \"type\": \"contourcarpet\"}], \"heatmap\": [{\"colorbar\": {\"outlinewidth\": 0, \"ticks\": \"\"}, \"colorscale\": [[0.0, \"#0d0887\"], [0.1111111111111111, \"#46039f\"], [0.2222222222222222, \"#7201a8\"], [0.3333333333333333, \"#9c179e\"], [0.4444444444444444, \"#bd3786\"], [0.5555555555555556, \"#d8576b\"], [0.6666666666666666, \"#ed7953\"], [0.7777777777777778, \"#fb9f3a\"], [0.8888888888888888, \"#fdca26\"], [1.0, \"#f0f921\"]], \"type\": \"heatmap\"}], \"heatmapgl\": [{\"colorbar\": {\"outlinewidth\": 0, \"ticks\": \"\"}, \"colorscale\": [[0.0, \"#0d0887\"], [0.1111111111111111, \"#46039f\"], [0.2222222222222222, \"#7201a8\"], [0.3333333333333333, \"#9c179e\"], [0.4444444444444444, \"#bd3786\"], [0.5555555555555556, \"#d8576b\"], [0.6666666666666666, \"#ed7953\"], [0.7777777777777778, \"#fb9f3a\"], [0.8888888888888888, \"#fdca26\"], [1.0, \"#f0f921\"]], \"type\": \"heatmapgl\"}], \"histogram\": [{\"marker\": {\"colorbar\": {\"outlinewidth\": 0, \"ticks\": \"\"}}, \"type\": \"histogram\"}], \"histogram2d\": [{\"colorbar\": {\"outlinewidth\": 0, \"ticks\": \"\"}, \"colorscale\": [[0.0, \"#0d0887\"], [0.1111111111111111, \"#46039f\"], [0.2222222222222222, \"#7201a8\"], [0.3333333333333333, \"#9c179e\"], [0.4444444444444444, \"#bd3786\"], [0.5555555555555556, \"#d8576b\"], [0.6666666666666666, \"#ed7953\"], [0.7777777777777778, \"#fb9f3a\"], [0.8888888888888888, \"#fdca26\"], [1.0, \"#f0f921\"]], \"type\": \"histogram2d\"}], \"histogram2dcontour\": [{\"colorbar\": {\"outlinewidth\": 0, \"ticks\": \"\"}, \"colorscale\": [[0.0, \"#0d0887\"], [0.1111111111111111, \"#46039f\"], [0.2222222222222222, \"#7201a8\"], [0.3333333333333333, \"#9c179e\"], [0.4444444444444444, \"#bd3786\"], [0.5555555555555556, \"#d8576b\"], [0.6666666666666666, \"#ed7953\"], [0.7777777777777778, \"#fb9f3a\"], [0.8888888888888888, \"#fdca26\"], [1.0, \"#f0f921\"]], \"type\": \"histogram2dcontour\"}], \"mesh3d\": [{\"colorbar\": {\"outlinewidth\": 0, \"ticks\": \"\"}, \"type\": \"mesh3d\"}], \"parcoords\": [{\"line\": {\"colorbar\": {\"outlinewidth\": 0, \"ticks\": \"\"}}, \"type\": \"parcoords\"}], \"pie\": [{\"automargin\": true, \"type\": \"pie\"}], \"scatter\": [{\"marker\": {\"colorbar\": {\"outlinewidth\": 0, \"ticks\": \"\"}}, \"type\": \"scatter\"}], \"scatter3d\": [{\"line\": {\"colorbar\": {\"outlinewidth\": 0, \"ticks\": \"\"}}, \"marker\": {\"colorbar\": {\"outlinewidth\": 0, \"ticks\": \"\"}}, \"type\": \"scatter3d\"}], \"scattercarpet\": [{\"marker\": {\"colorbar\": {\"outlinewidth\": 0, \"ticks\": \"\"}}, \"type\": \"scattercarpet\"}], \"scattergeo\": [{\"marker\": {\"colorbar\": {\"outlinewidth\": 0, \"ticks\": \"\"}}, \"type\": \"scattergeo\"}], \"scattergl\": [{\"marker\": {\"colorbar\": {\"outlinewidth\": 0, \"ticks\": \"\"}}, \"type\": \"scattergl\"}], \"scattermapbox\": [{\"marker\": {\"colorbar\": {\"outlinewidth\": 0, \"ticks\": \"\"}}, \"type\": \"scattermapbox\"}], \"scatterpolar\": [{\"marker\": {\"colorbar\": {\"outlinewidth\": 0, \"ticks\": \"\"}}, \"type\": \"scatterpolar\"}], \"scatterpolargl\": [{\"marker\": {\"colorbar\": {\"outlinewidth\": 0, \"ticks\": \"\"}}, \"type\": \"scatterpolargl\"}], \"scatterternary\": [{\"marker\": {\"colorbar\": {\"outlinewidth\": 0, \"ticks\": \"\"}}, \"type\": \"scatterternary\"}], \"surface\": [{\"colorbar\": {\"outlinewidth\": 0, \"ticks\": \"\"}, \"colorscale\": [[0.0, \"#0d0887\"], [0.1111111111111111, \"#46039f\"], [0.2222222222222222, \"#7201a8\"], [0.3333333333333333, \"#9c179e\"], [0.4444444444444444, \"#bd3786\"], [0.5555555555555556, \"#d8576b\"], [0.6666666666666666, \"#ed7953\"], [0.7777777777777778, \"#fb9f3a\"], [0.8888888888888888, \"#fdca26\"], [1.0, \"#f0f921\"]], \"type\": \"surface\"}], \"table\": [{\"cells\": {\"fill\": {\"color\": \"#EBF0F8\"}, \"line\": {\"color\": \"white\"}}, \"header\": {\"fill\": {\"color\": \"#C8D4E3\"}, \"line\": {\"color\": \"white\"}}, \"type\": \"table\"}]}, \"layout\": {\"annotationdefaults\": {\"arrowcolor\": \"#2a3f5f\", \"arrowhead\": 0, \"arrowwidth\": 1}, \"coloraxis\": {\"colorbar\": {\"outlinewidth\": 0, \"ticks\": \"\"}}, \"colorscale\": {\"diverging\": [[0, \"#8e0152\"], [0.1, \"#c51b7d\"], [0.2, \"#de77ae\"], [0.3, \"#f1b6da\"], [0.4, \"#fde0ef\"], [0.5, \"#f7f7f7\"], [0.6, \"#e6f5d0\"], [0.7, \"#b8e186\"], [0.8, \"#7fbc41\"], [0.9, \"#4d9221\"], [1, \"#276419\"]], \"sequential\": [[0.0, \"#0d0887\"], [0.1111111111111111, \"#46039f\"], [0.2222222222222222, \"#7201a8\"], [0.3333333333333333, \"#9c179e\"], [0.4444444444444444, \"#bd3786\"], [0.5555555555555556, \"#d8576b\"], [0.6666666666666666, \"#ed7953\"], [0.7777777777777778, \"#fb9f3a\"], [0.8888888888888888, \"#fdca26\"], [1.0, \"#f0f921\"]], \"sequentialminus\": [[0.0, \"#0d0887\"], [0.1111111111111111, \"#46039f\"], [0.2222222222222222, \"#7201a8\"], [0.3333333333333333, \"#9c179e\"], [0.4444444444444444, \"#bd3786\"], [0.5555555555555556, \"#d8576b\"], [0.6666666666666666, \"#ed7953\"], [0.7777777777777778, \"#fb9f3a\"], [0.8888888888888888, \"#fdca26\"], [1.0, \"#f0f921\"]]}, \"colorway\": [\"#636efa\", \"#EF553B\", \"#00cc96\", \"#ab63fa\", \"#FFA15A\", \"#19d3f3\", \"#FF6692\", \"#B6E880\", \"#FF97FF\", \"#FECB52\"], \"font\": {\"color\": \"#2a3f5f\"}, \"geo\": {\"bgcolor\": \"white\", \"lakecolor\": \"white\", \"landcolor\": \"#E5ECF6\", \"showlakes\": true, \"showland\": true, \"subunitcolor\": \"white\"}, \"hoverlabel\": {\"align\": \"left\"}, \"hovermode\": \"closest\", \"mapbox\": {\"style\": \"light\"}, \"paper_bgcolor\": \"white\", \"plot_bgcolor\": \"#E5ECF6\", \"polar\": {\"angularaxis\": {\"gridcolor\": \"white\", \"linecolor\": \"white\", \"ticks\": \"\"}, \"bgcolor\": \"#E5ECF6\", \"radialaxis\": {\"gridcolor\": \"white\", \"linecolor\": \"white\", \"ticks\": \"\"}}, \"scene\": {\"xaxis\": {\"backgroundcolor\": \"#E5ECF6\", \"gridcolor\": \"white\", \"gridwidth\": 2, \"linecolor\": \"white\", \"showbackground\": true, \"ticks\": \"\", \"zerolinecolor\": \"white\"}, \"yaxis\": {\"backgroundcolor\": \"#E5ECF6\", \"gridcolor\": \"white\", \"gridwidth\": 2, \"linecolor\": \"white\", \"showbackground\": true, \"ticks\": \"\", \"zerolinecolor\": \"white\"}, \"zaxis\": {\"backgroundcolor\": \"#E5ECF6\", \"gridcolor\": \"white\", \"gridwidth\": 2, \"linecolor\": \"white\", \"showbackground\": true, \"ticks\": \"\", \"zerolinecolor\": \"white\"}}, \"shapedefaults\": {\"line\": {\"color\": \"#2a3f5f\"}}, \"ternary\": {\"aaxis\": {\"gridcolor\": \"white\", \"linecolor\": \"white\", \"ticks\": \"\"}, \"baxis\": {\"gridcolor\": \"white\", \"linecolor\": \"white\", \"ticks\": \"\"}, \"bgcolor\": \"#E5ECF6\", \"caxis\": {\"gridcolor\": \"white\", \"linecolor\": \"white\", \"ticks\": \"\"}}, \"title\": {\"x\": 0.05}, \"xaxis\": {\"automargin\": true, \"gridcolor\": \"white\", \"linecolor\": \"white\", \"ticks\": \"\", \"title\": {\"standoff\": 15}, \"zerolinecolor\": \"white\", \"zerolinewidth\": 2}, \"yaxis\": {\"automargin\": true, \"gridcolor\": \"white\", \"linecolor\": \"white\", \"ticks\": \"\", \"title\": {\"standoff\": 15}, \"zerolinecolor\": \"white\", \"zerolinewidth\": 2}}}, \"title\": {\"text\": \"Cung hint Dim I\"}, \"width\": 1200},\n",
              "                        {\"responsive\": true}\n",
              "                    ).then(function(){\n",
              "                            \n",
              "var gd = document.getElementById('326a229c-6581-4249-80c2-2a8136e2662d');\n",
              "var x = new MutationObserver(function (mutations, observer) {{\n",
              "        var display = window.getComputedStyle(gd).display;\n",
              "        if (!display || display === 'none') {{\n",
              "            console.log([gd, 'removed!']);\n",
              "            Plotly.purge(gd);\n",
              "            observer.disconnect();\n",
              "        }}\n",
              "}});\n",
              "\n",
              "// Listen for the removal of the full notebook cells\n",
              "var notebookContainer = gd.closest('#notebook-container');\n",
              "if (notebookContainer) {{\n",
              "    x.observe(notebookContainer, {childList: true});\n",
              "}}\n",
              "\n",
              "// Listen for the clearing of the current output cell\n",
              "var outputEl = gd.closest('.output');\n",
              "if (outputEl) {{\n",
              "    x.observe(outputEl, {childList: true});\n",
              "}}\n",
              "\n",
              "                        })\n",
              "                };\n",
              "                \n",
              "            </script>\n",
              "        </div>\n",
              "</body>\n",
              "</html>"
            ]
          },
          "metadata": {
            "tags": []
          }
        },
        {
          "output_type": "stream",
          "text": [
            "Pp:0.92 , Ppk: 0.73\n",
            "Cp:1.00 , Cpk:0.80\n"
          ],
          "name": "stdout"
        },
        {
          "output_type": "display_data",
          "data": {
            "text/html": [
              "<html>\n",
              "<head><meta charset=\"utf-8\" /></head>\n",
              "<body>\n",
              "    <div>\n",
              "            <script src=\"https://cdnjs.cloudflare.com/ajax/libs/mathjax/2.7.5/MathJax.js?config=TeX-AMS-MML_SVG\"></script><script type=\"text/javascript\">if (window.MathJax) {MathJax.Hub.Config({SVG: {font: \"STIX-Web\"}});}</script>\n",
              "                <script type=\"text/javascript\">window.PlotlyConfig = {MathJaxConfig: 'local'};</script>\n",
              "        <script src=\"https://cdn.plot.ly/plotly-latest.min.js\"></script>    \n",
              "            <div id=\"d5c1c2ea-af3f-4f08-bdc7-2947c9e8607c\" class=\"plotly-graph-div\" style=\"height:300px; width:1200px;\"></div>\n",
              "            <script type=\"text/javascript\">\n",
              "                \n",
              "                    window.PLOTLYENV=window.PLOTLYENV || {};\n",
              "                    \n",
              "                if (document.getElementById(\"d5c1c2ea-af3f-4f08-bdc7-2947c9e8607c\")) {\n",
              "                    Plotly.newPlot(\n",
              "                        'd5c1c2ea-af3f-4f08-bdc7-2947c9e8607c',\n",
              "                        [{\"line\": {\"color\": \"#4280F5\"}, \"mode\": \"lines+markers\", \"name\": \"mean Cung J Dim J\", \"type\": \"scatter\", \"x\": [\"2020-08-20T09:00:00\", \"2020-08-22T17:00:00\", \"2020-08-24T12:00:00\", \"2020-08-24T18:00:00\", \"2020-08-27T08:00:00\", \"2020-08-28T17:00:00\", \"2020-08-29T12:00:00\", \"2020-08-31T16:00:00\", \"2020-09-07T09:00:00\", \"2020-09-08T20:00:00\"], \"y\": [0.47380000352859497, 0.47760000824928284, 0.47920000553131104, 0.483599990606308, 0.4758000075817108, 0.4812000095844269, 0.47600001096725464, 0.4765999913215637, 0.4697999954223633, 0.4758000075817108]}, {\"line\": {\"color\": \"#FF5733\"}, \"mode\": \"lines\", \"name\": \"USL Cung J Dim J\", \"type\": \"scatter\", \"x\": [\"2020-08-20T09:00:00\", \"2020-08-22T17:00:00\", \"2020-08-24T12:00:00\", \"2020-08-24T18:00:00\", \"2020-08-27T08:00:00\", \"2020-08-28T17:00:00\", \"2020-08-29T12:00:00\", \"2020-08-31T16:00:00\", \"2020-09-07T09:00:00\", \"2020-09-08T20:00:00\"], \"y\": [0.49000000953674316, 0.49000000953674316, 0.49000000953674316, 0.49000000953674316, 0.49000000953674316, 0.49000000953674316, 0.49000000953674316, 0.49000000953674316, 0.49000000953674316, 0.49000000953674316]}, {\"line\": {\"color\": \"#FF5733\"}, \"mode\": \"lines\", \"name\": \"LSL Cung J Dim J\", \"type\": \"scatter\", \"x\": [\"2020-08-20T09:00:00\", \"2020-08-22T17:00:00\", \"2020-08-24T12:00:00\", \"2020-08-24T18:00:00\", \"2020-08-27T08:00:00\", \"2020-08-28T17:00:00\", \"2020-08-29T12:00:00\", \"2020-08-31T16:00:00\", \"2020-09-07T09:00:00\", \"2020-09-08T20:00:00\"], \"y\": [0.44999998807907104, 0.44999998807907104, 0.44999998807907104, 0.44999998807907104, 0.44999998807907104, 0.44999998807907104, 0.44999998807907104, 0.44999998807907104, 0.44999998807907104, 0.44999998807907104]}, {\"line\": {\"color\": \"#33C2FF\"}, \"mode\": \"lines\", \"name\": \"UCL Cung J Dim J\", \"type\": \"scatter\", \"x\": [\"2020-08-20T09:00:00\", \"2020-08-22T17:00:00\", \"2020-08-24T12:00:00\", \"2020-08-24T18:00:00\", \"2020-08-27T08:00:00\", \"2020-08-28T17:00:00\", \"2020-08-29T12:00:00\", \"2020-08-31T16:00:00\", \"2020-09-07T09:00:00\", \"2020-09-08T20:00:00\"], \"y\": [0.49000000953674316, 0.49399998784065247, 0.49399998784065247, 0.49399998784065247, 0.49399998784065247, 0.5019999742507935, 0.5019999742507935, 0.5019999742507935, 0.5009999871253967, 0.5009999871253967]}, {\"line\": {\"color\": \"#33C2FF\"}, \"mode\": \"lines\", \"name\": \"LCL Cung J Dim J\", \"type\": \"scatter\", \"x\": [\"2020-08-20T09:00:00\", \"2020-08-22T17:00:00\", \"2020-08-24T12:00:00\", \"2020-08-24T18:00:00\", \"2020-08-27T08:00:00\", \"2020-08-28T17:00:00\", \"2020-08-29T12:00:00\", \"2020-08-31T16:00:00\", \"2020-09-07T09:00:00\", \"2020-09-08T20:00:00\"], \"y\": [0.4569999873638153, 0.46399998664855957, 0.46399998664855957, 0.46399998664855957, 0.46399998664855957, 0.45399999618530273, 0.45399999618530273, 0.45399999618530273, 0.4449999928474426, 0.4449999928474426]}, {\"line\": {\"color\": \"#33C2FF\"}, \"mode\": \"lines\", \"name\": \"Mean Cung J Dim J\", \"type\": \"scatter\", \"x\": [\"2020-08-20T09:00:00\", \"2020-08-22T17:00:00\", \"2020-08-24T12:00:00\", \"2020-08-24T18:00:00\", \"2020-08-27T08:00:00\", \"2020-08-28T17:00:00\", \"2020-08-29T12:00:00\", \"2020-08-31T16:00:00\", \"2020-09-07T09:00:00\", \"2020-09-08T20:00:00\"], \"y\": [0.4740000069141388, 0.4790000021457672, 0.4790000021457672, 0.4790000021457672, 0.4790000021457672, 0.4779999852180481, 0.4779999852180481, 0.4779999852180481, 0.4729999899864197, 0.4729999899864197]}],\n",
              "                        {\"height\": 300, \"template\": {\"data\": {\"bar\": [{\"error_x\": {\"color\": \"#2a3f5f\"}, \"error_y\": {\"color\": \"#2a3f5f\"}, \"marker\": {\"line\": {\"color\": \"#E5ECF6\", \"width\": 0.5}}, \"type\": \"bar\"}], \"barpolar\": [{\"marker\": {\"line\": {\"color\": \"#E5ECF6\", \"width\": 0.5}}, \"type\": \"barpolar\"}], \"carpet\": [{\"aaxis\": {\"endlinecolor\": \"#2a3f5f\", \"gridcolor\": \"white\", \"linecolor\": \"white\", \"minorgridcolor\": \"white\", \"startlinecolor\": \"#2a3f5f\"}, \"baxis\": {\"endlinecolor\": \"#2a3f5f\", \"gridcolor\": \"white\", \"linecolor\": \"white\", \"minorgridcolor\": \"white\", \"startlinecolor\": \"#2a3f5f\"}, \"type\": \"carpet\"}], \"choropleth\": [{\"colorbar\": {\"outlinewidth\": 0, \"ticks\": \"\"}, \"type\": \"choropleth\"}], \"contour\": [{\"colorbar\": {\"outlinewidth\": 0, \"ticks\": \"\"}, \"colorscale\": [[0.0, \"#0d0887\"], [0.1111111111111111, \"#46039f\"], [0.2222222222222222, \"#7201a8\"], [0.3333333333333333, \"#9c179e\"], [0.4444444444444444, \"#bd3786\"], [0.5555555555555556, \"#d8576b\"], [0.6666666666666666, \"#ed7953\"], [0.7777777777777778, \"#fb9f3a\"], [0.8888888888888888, \"#fdca26\"], [1.0, \"#f0f921\"]], \"type\": \"contour\"}], \"contourcarpet\": [{\"colorbar\": {\"outlinewidth\": 0, \"ticks\": \"\"}, \"type\": \"contourcarpet\"}], \"heatmap\": [{\"colorbar\": {\"outlinewidth\": 0, \"ticks\": \"\"}, \"colorscale\": [[0.0, \"#0d0887\"], [0.1111111111111111, \"#46039f\"], [0.2222222222222222, \"#7201a8\"], [0.3333333333333333, \"#9c179e\"], [0.4444444444444444, \"#bd3786\"], [0.5555555555555556, \"#d8576b\"], [0.6666666666666666, \"#ed7953\"], [0.7777777777777778, \"#fb9f3a\"], [0.8888888888888888, \"#fdca26\"], [1.0, \"#f0f921\"]], \"type\": \"heatmap\"}], \"heatmapgl\": [{\"colorbar\": {\"outlinewidth\": 0, \"ticks\": \"\"}, \"colorscale\": [[0.0, \"#0d0887\"], [0.1111111111111111, \"#46039f\"], [0.2222222222222222, \"#7201a8\"], [0.3333333333333333, \"#9c179e\"], [0.4444444444444444, \"#bd3786\"], [0.5555555555555556, \"#d8576b\"], [0.6666666666666666, \"#ed7953\"], [0.7777777777777778, \"#fb9f3a\"], [0.8888888888888888, \"#fdca26\"], [1.0, \"#f0f921\"]], \"type\": \"heatmapgl\"}], \"histogram\": [{\"marker\": {\"colorbar\": {\"outlinewidth\": 0, \"ticks\": \"\"}}, \"type\": \"histogram\"}], \"histogram2d\": [{\"colorbar\": {\"outlinewidth\": 0, \"ticks\": \"\"}, \"colorscale\": [[0.0, \"#0d0887\"], [0.1111111111111111, \"#46039f\"], [0.2222222222222222, \"#7201a8\"], [0.3333333333333333, \"#9c179e\"], [0.4444444444444444, \"#bd3786\"], [0.5555555555555556, \"#d8576b\"], [0.6666666666666666, \"#ed7953\"], [0.7777777777777778, \"#fb9f3a\"], [0.8888888888888888, \"#fdca26\"], [1.0, \"#f0f921\"]], \"type\": \"histogram2d\"}], \"histogram2dcontour\": [{\"colorbar\": {\"outlinewidth\": 0, \"ticks\": \"\"}, \"colorscale\": [[0.0, \"#0d0887\"], [0.1111111111111111, \"#46039f\"], [0.2222222222222222, \"#7201a8\"], [0.3333333333333333, \"#9c179e\"], [0.4444444444444444, \"#bd3786\"], [0.5555555555555556, \"#d8576b\"], [0.6666666666666666, \"#ed7953\"], [0.7777777777777778, \"#fb9f3a\"], [0.8888888888888888, \"#fdca26\"], [1.0, \"#f0f921\"]], \"type\": \"histogram2dcontour\"}], \"mesh3d\": [{\"colorbar\": {\"outlinewidth\": 0, \"ticks\": \"\"}, \"type\": \"mesh3d\"}], \"parcoords\": [{\"line\": {\"colorbar\": {\"outlinewidth\": 0, \"ticks\": \"\"}}, \"type\": \"parcoords\"}], \"pie\": [{\"automargin\": true, \"type\": \"pie\"}], \"scatter\": [{\"marker\": {\"colorbar\": {\"outlinewidth\": 0, \"ticks\": \"\"}}, \"type\": \"scatter\"}], \"scatter3d\": [{\"line\": {\"colorbar\": {\"outlinewidth\": 0, \"ticks\": \"\"}}, \"marker\": {\"colorbar\": {\"outlinewidth\": 0, \"ticks\": \"\"}}, \"type\": \"scatter3d\"}], \"scattercarpet\": [{\"marker\": {\"colorbar\": {\"outlinewidth\": 0, \"ticks\": \"\"}}, \"type\": \"scattercarpet\"}], \"scattergeo\": [{\"marker\": {\"colorbar\": {\"outlinewidth\": 0, \"ticks\": \"\"}}, \"type\": \"scattergeo\"}], \"scattergl\": [{\"marker\": {\"colorbar\": {\"outlinewidth\": 0, \"ticks\": \"\"}}, \"type\": \"scattergl\"}], \"scattermapbox\": [{\"marker\": {\"colorbar\": {\"outlinewidth\": 0, \"ticks\": \"\"}}, \"type\": \"scattermapbox\"}], \"scatterpolar\": [{\"marker\": {\"colorbar\": {\"outlinewidth\": 0, \"ticks\": \"\"}}, \"type\": \"scatterpolar\"}], \"scatterpolargl\": [{\"marker\": {\"colorbar\": {\"outlinewidth\": 0, \"ticks\": \"\"}}, \"type\": \"scatterpolargl\"}], \"scatterternary\": [{\"marker\": {\"colorbar\": {\"outlinewidth\": 0, \"ticks\": \"\"}}, \"type\": \"scatterternary\"}], \"surface\": [{\"colorbar\": {\"outlinewidth\": 0, \"ticks\": \"\"}, \"colorscale\": [[0.0, \"#0d0887\"], [0.1111111111111111, \"#46039f\"], [0.2222222222222222, \"#7201a8\"], [0.3333333333333333, \"#9c179e\"], [0.4444444444444444, \"#bd3786\"], [0.5555555555555556, \"#d8576b\"], [0.6666666666666666, \"#ed7953\"], [0.7777777777777778, \"#fb9f3a\"], [0.8888888888888888, \"#fdca26\"], [1.0, \"#f0f921\"]], \"type\": \"surface\"}], \"table\": [{\"cells\": {\"fill\": {\"color\": \"#EBF0F8\"}, \"line\": {\"color\": \"white\"}}, \"header\": {\"fill\": {\"color\": \"#C8D4E3\"}, \"line\": {\"color\": \"white\"}}, \"type\": \"table\"}]}, \"layout\": {\"annotationdefaults\": {\"arrowcolor\": \"#2a3f5f\", \"arrowhead\": 0, \"arrowwidth\": 1}, \"coloraxis\": {\"colorbar\": {\"outlinewidth\": 0, \"ticks\": \"\"}}, \"colorscale\": {\"diverging\": [[0, \"#8e0152\"], [0.1, \"#c51b7d\"], [0.2, \"#de77ae\"], [0.3, \"#f1b6da\"], [0.4, \"#fde0ef\"], [0.5, \"#f7f7f7\"], [0.6, \"#e6f5d0\"], [0.7, \"#b8e186\"], [0.8, \"#7fbc41\"], [0.9, \"#4d9221\"], [1, \"#276419\"]], \"sequential\": [[0.0, \"#0d0887\"], [0.1111111111111111, \"#46039f\"], [0.2222222222222222, \"#7201a8\"], [0.3333333333333333, \"#9c179e\"], [0.4444444444444444, \"#bd3786\"], [0.5555555555555556, \"#d8576b\"], [0.6666666666666666, \"#ed7953\"], [0.7777777777777778, \"#fb9f3a\"], [0.8888888888888888, \"#fdca26\"], [1.0, \"#f0f921\"]], \"sequentialminus\": [[0.0, \"#0d0887\"], [0.1111111111111111, \"#46039f\"], [0.2222222222222222, \"#7201a8\"], [0.3333333333333333, \"#9c179e\"], [0.4444444444444444, \"#bd3786\"], [0.5555555555555556, \"#d8576b\"], [0.6666666666666666, \"#ed7953\"], [0.7777777777777778, \"#fb9f3a\"], [0.8888888888888888, \"#fdca26\"], [1.0, \"#f0f921\"]]}, \"colorway\": [\"#636efa\", \"#EF553B\", \"#00cc96\", \"#ab63fa\", \"#FFA15A\", \"#19d3f3\", \"#FF6692\", \"#B6E880\", \"#FF97FF\", \"#FECB52\"], \"font\": {\"color\": \"#2a3f5f\"}, \"geo\": {\"bgcolor\": \"white\", \"lakecolor\": \"white\", \"landcolor\": \"#E5ECF6\", \"showlakes\": true, \"showland\": true, \"subunitcolor\": \"white\"}, \"hoverlabel\": {\"align\": \"left\"}, \"hovermode\": \"closest\", \"mapbox\": {\"style\": \"light\"}, \"paper_bgcolor\": \"white\", \"plot_bgcolor\": \"#E5ECF6\", \"polar\": {\"angularaxis\": {\"gridcolor\": \"white\", \"linecolor\": \"white\", \"ticks\": \"\"}, \"bgcolor\": \"#E5ECF6\", \"radialaxis\": {\"gridcolor\": \"white\", \"linecolor\": \"white\", \"ticks\": \"\"}}, \"scene\": {\"xaxis\": {\"backgroundcolor\": \"#E5ECF6\", \"gridcolor\": \"white\", \"gridwidth\": 2, \"linecolor\": \"white\", \"showbackground\": true, \"ticks\": \"\", \"zerolinecolor\": \"white\"}, \"yaxis\": {\"backgroundcolor\": \"#E5ECF6\", \"gridcolor\": \"white\", \"gridwidth\": 2, \"linecolor\": \"white\", \"showbackground\": true, \"ticks\": \"\", \"zerolinecolor\": \"white\"}, \"zaxis\": {\"backgroundcolor\": \"#E5ECF6\", \"gridcolor\": \"white\", \"gridwidth\": 2, \"linecolor\": \"white\", \"showbackground\": true, \"ticks\": \"\", \"zerolinecolor\": \"white\"}}, \"shapedefaults\": {\"line\": {\"color\": \"#2a3f5f\"}}, \"ternary\": {\"aaxis\": {\"gridcolor\": \"white\", \"linecolor\": \"white\", \"ticks\": \"\"}, \"baxis\": {\"gridcolor\": \"white\", \"linecolor\": \"white\", \"ticks\": \"\"}, \"bgcolor\": \"#E5ECF6\", \"caxis\": {\"gridcolor\": \"white\", \"linecolor\": \"white\", \"ticks\": \"\"}}, \"title\": {\"x\": 0.05}, \"xaxis\": {\"automargin\": true, \"gridcolor\": \"white\", \"linecolor\": \"white\", \"ticks\": \"\", \"title\": {\"standoff\": 15}, \"zerolinecolor\": \"white\", \"zerolinewidth\": 2}, \"yaxis\": {\"automargin\": true, \"gridcolor\": \"white\", \"linecolor\": \"white\", \"ticks\": \"\", \"title\": {\"standoff\": 15}, \"zerolinecolor\": \"white\", \"zerolinewidth\": 2}}}, \"title\": {\"text\": \"Cung J Dim J\"}, \"width\": 1200},\n",
              "                        {\"responsive\": true}\n",
              "                    ).then(function(){\n",
              "                            \n",
              "var gd = document.getElementById('d5c1c2ea-af3f-4f08-bdc7-2947c9e8607c');\n",
              "var x = new MutationObserver(function (mutations, observer) {{\n",
              "        var display = window.getComputedStyle(gd).display;\n",
              "        if (!display || display === 'none') {{\n",
              "            console.log([gd, 'removed!']);\n",
              "            Plotly.purge(gd);\n",
              "            observer.disconnect();\n",
              "        }}\n",
              "}});\n",
              "\n",
              "// Listen for the removal of the full notebook cells\n",
              "var notebookContainer = gd.closest('#notebook-container');\n",
              "if (notebookContainer) {{\n",
              "    x.observe(notebookContainer, {childList: true});\n",
              "}}\n",
              "\n",
              "// Listen for the clearing of the current output cell\n",
              "var outputEl = gd.closest('.output');\n",
              "if (outputEl) {{\n",
              "    x.observe(outputEl, {childList: true});\n",
              "}}\n",
              "\n",
              "                        })\n",
              "                };\n",
              "                \n",
              "            </script>\n",
              "        </div>\n",
              "</body>\n",
              "</html>"
            ]
          },
          "metadata": {
            "tags": []
          }
        },
        {
          "output_type": "stream",
          "text": [
            "Pp:nan , Ppk: nan\n",
            "Cp:nan , Cpk:nan\n"
          ],
          "name": "stdout"
        },
        {
          "output_type": "display_data",
          "data": {
            "text/html": [
              "<html>\n",
              "<head><meta charset=\"utf-8\" /></head>\n",
              "<body>\n",
              "    <div>\n",
              "            <script src=\"https://cdnjs.cloudflare.com/ajax/libs/mathjax/2.7.5/MathJax.js?config=TeX-AMS-MML_SVG\"></script><script type=\"text/javascript\">if (window.MathJax) {MathJax.Hub.Config({SVG: {font: \"STIX-Web\"}});}</script>\n",
              "                <script type=\"text/javascript\">window.PlotlyConfig = {MathJaxConfig: 'local'};</script>\n",
              "        <script src=\"https://cdn.plot.ly/plotly-latest.min.js\"></script>    \n",
              "            <div id=\"87b36af8-a8d5-43fb-93b5-6e104fd84261\" class=\"plotly-graph-div\" style=\"height:300px; width:1200px;\"></div>\n",
              "            <script type=\"text/javascript\">\n",
              "                \n",
              "                    window.PLOTLYENV=window.PLOTLYENV || {};\n",
              "                    \n",
              "                if (document.getElementById(\"87b36af8-a8d5-43fb-93b5-6e104fd84261\")) {\n",
              "                    Plotly.newPlot(\n",
              "                        '87b36af8-a8d5-43fb-93b5-6e104fd84261',\n",
              "                        [{\"line\": {\"color\": \"#4280F5\"}, \"mode\": \"lines+markers\", \"name\": \"mean Offset Dim M\", \"type\": \"scatter\", \"x\": [\"2020-08-20T09:00:00\", \"2020-08-22T16:00:00\", \"2020-08-22T17:00:00\", \"2020-08-24T12:00:00\", \"2020-08-24T17:00:00\", \"2020-08-24T18:00:00\", \"2020-08-27T08:00:00\", \"2020-08-28T17:00:00\", \"2020-08-29T12:00:00\", \"2020-08-31T16:00:00\", \"2020-09-07T09:00:00\", \"2020-09-08T20:00:00\"], \"y\": [0.04933333396911621, 0.026000000536441803, 0.029200000688433647, 0.030666666105389595, 0.00800000037997961, 0.02239999920129776, 0.011666666716337204, 0.03316666558384895, 0.028833333402872086, 0.033666666597127914, 0.019999999552965164, 0.047333333641290665]}, {\"line\": {\"color\": \"#FF5733\"}, \"mode\": \"lines\", \"name\": \"USL Offset Dim M\", \"type\": \"scatter\", \"x\": [\"2020-08-20T09:00:00\", \"2020-08-22T16:00:00\", \"2020-08-22T17:00:00\", \"2020-08-24T12:00:00\", \"2020-08-24T17:00:00\", \"2020-08-24T18:00:00\", \"2020-08-27T08:00:00\", \"2020-08-28T17:00:00\", \"2020-08-29T12:00:00\", \"2020-08-31T16:00:00\", \"2020-09-07T09:00:00\", \"2020-09-08T20:00:00\"], \"y\": [0.05999999865889549, 0.05999999865889549, 0.05999999865889549, 0.05999999865889549, 0.05999999865889549, 0.05999999865889549, 0.05999999865889549, 0.05999999865889549, 0.05999999865889549, 0.05999999865889549, 0.05999999865889549, 0.05999999865889549]}, {\"line\": {\"color\": \"#FF5733\"}, \"mode\": \"lines\", \"name\": \"LSL Offset Dim M\", \"type\": \"scatter\", \"x\": [\"2020-08-20T09:00:00\", \"2020-08-22T16:00:00\", \"2020-08-22T17:00:00\", \"2020-08-24T12:00:00\", \"2020-08-24T17:00:00\", \"2020-08-24T18:00:00\", \"2020-08-27T08:00:00\", \"2020-08-28T17:00:00\", \"2020-08-29T12:00:00\", \"2020-08-31T16:00:00\", \"2020-09-07T09:00:00\", \"2020-09-08T20:00:00\"], \"y\": [null, null, null, null, null, null, null, null, null, null, null, null]}, {\"line\": {\"color\": \"#33C2FF\"}, \"mode\": \"lines\", \"name\": \"UCL Offset Dim M\", \"type\": \"scatter\", \"x\": [\"2020-08-20T09:00:00\", \"2020-08-22T16:00:00\", \"2020-08-22T17:00:00\", \"2020-08-24T12:00:00\", \"2020-08-24T17:00:00\", \"2020-08-24T18:00:00\", \"2020-08-27T08:00:00\", \"2020-08-28T17:00:00\", \"2020-08-29T12:00:00\", \"2020-08-31T16:00:00\", \"2020-09-07T09:00:00\", \"2020-09-08T20:00:00\"], \"y\": [0.07500000298023224, 0.06800000369548798, 0.06800000369548798, 0.06800000369548798, 0.06800000369548798, 0.06800000369548798, 0.06800000369548798, 0.07699999958276749, 0.07699999958276749, 0.07699999958276749, 0.08900000154972076, 0.08900000154972076]}, {\"line\": {\"color\": \"#33C2FF\"}, \"mode\": \"lines\", \"name\": \"LCL Offset Dim M\", \"type\": \"scatter\", \"x\": [\"2020-08-20T09:00:00\", \"2020-08-22T16:00:00\", \"2020-08-22T17:00:00\", \"2020-08-24T12:00:00\", \"2020-08-24T17:00:00\", \"2020-08-24T18:00:00\", \"2020-08-27T08:00:00\", \"2020-08-28T17:00:00\", \"2020-08-29T12:00:00\", \"2020-08-31T16:00:00\", \"2020-09-07T09:00:00\", \"2020-09-08T20:00:00\"], \"y\": [0.023000000044703484, -0.02199999988079071, -0.02199999988079071, -0.02199999988079071, -0.02199999988079071, -0.02199999988079071, -0.02199999988079071, -0.013000000268220901, -0.013000000268220901, -0.013000000268220901, -0.02199999988079071, -0.02199999988079071]}, {\"line\": {\"color\": \"#33C2FF\"}, \"mode\": \"lines\", \"name\": \"Mean Offset Dim M\", \"type\": \"scatter\", \"x\": [\"2020-08-20T09:00:00\", \"2020-08-22T16:00:00\", \"2020-08-22T17:00:00\", \"2020-08-24T12:00:00\", \"2020-08-24T17:00:00\", \"2020-08-24T18:00:00\", \"2020-08-27T08:00:00\", \"2020-08-28T17:00:00\", \"2020-08-29T12:00:00\", \"2020-08-31T16:00:00\", \"2020-09-07T09:00:00\", \"2020-09-08T20:00:00\"], \"y\": [0.04899999871850014, 0.023000000044703484, 0.023000000044703484, 0.023000000044703484, 0.023000000044703484, 0.023000000044703484, 0.023000000044703484, 0.03200000151991844, 0.03200000151991844, 0.03200000151991844, 0.03400000184774399, 0.03400000184774399]}],\n",
              "                        {\"height\": 300, \"template\": {\"data\": {\"bar\": [{\"error_x\": {\"color\": \"#2a3f5f\"}, \"error_y\": {\"color\": \"#2a3f5f\"}, \"marker\": {\"line\": {\"color\": \"#E5ECF6\", \"width\": 0.5}}, \"type\": \"bar\"}], \"barpolar\": [{\"marker\": {\"line\": {\"color\": \"#E5ECF6\", \"width\": 0.5}}, \"type\": \"barpolar\"}], \"carpet\": [{\"aaxis\": {\"endlinecolor\": \"#2a3f5f\", \"gridcolor\": \"white\", \"linecolor\": \"white\", \"minorgridcolor\": \"white\", \"startlinecolor\": \"#2a3f5f\"}, \"baxis\": {\"endlinecolor\": \"#2a3f5f\", \"gridcolor\": \"white\", \"linecolor\": \"white\", \"minorgridcolor\": \"white\", \"startlinecolor\": \"#2a3f5f\"}, \"type\": \"carpet\"}], \"choropleth\": [{\"colorbar\": {\"outlinewidth\": 0, \"ticks\": \"\"}, \"type\": \"choropleth\"}], \"contour\": [{\"colorbar\": {\"outlinewidth\": 0, \"ticks\": \"\"}, \"colorscale\": [[0.0, \"#0d0887\"], [0.1111111111111111, \"#46039f\"], [0.2222222222222222, \"#7201a8\"], [0.3333333333333333, \"#9c179e\"], [0.4444444444444444, \"#bd3786\"], [0.5555555555555556, \"#d8576b\"], [0.6666666666666666, \"#ed7953\"], [0.7777777777777778, \"#fb9f3a\"], [0.8888888888888888, \"#fdca26\"], [1.0, \"#f0f921\"]], \"type\": \"contour\"}], \"contourcarpet\": [{\"colorbar\": {\"outlinewidth\": 0, \"ticks\": \"\"}, \"type\": \"contourcarpet\"}], \"heatmap\": [{\"colorbar\": {\"outlinewidth\": 0, \"ticks\": \"\"}, \"colorscale\": [[0.0, \"#0d0887\"], [0.1111111111111111, \"#46039f\"], [0.2222222222222222, \"#7201a8\"], [0.3333333333333333, \"#9c179e\"], [0.4444444444444444, \"#bd3786\"], [0.5555555555555556, \"#d8576b\"], [0.6666666666666666, \"#ed7953\"], [0.7777777777777778, \"#fb9f3a\"], [0.8888888888888888, \"#fdca26\"], [1.0, \"#f0f921\"]], \"type\": \"heatmap\"}], \"heatmapgl\": [{\"colorbar\": {\"outlinewidth\": 0, \"ticks\": \"\"}, \"colorscale\": [[0.0, \"#0d0887\"], [0.1111111111111111, \"#46039f\"], [0.2222222222222222, \"#7201a8\"], [0.3333333333333333, \"#9c179e\"], [0.4444444444444444, \"#bd3786\"], [0.5555555555555556, \"#d8576b\"], [0.6666666666666666, \"#ed7953\"], [0.7777777777777778, \"#fb9f3a\"], [0.8888888888888888, \"#fdca26\"], [1.0, \"#f0f921\"]], \"type\": \"heatmapgl\"}], \"histogram\": [{\"marker\": {\"colorbar\": {\"outlinewidth\": 0, \"ticks\": \"\"}}, \"type\": \"histogram\"}], \"histogram2d\": [{\"colorbar\": {\"outlinewidth\": 0, \"ticks\": \"\"}, \"colorscale\": [[0.0, \"#0d0887\"], [0.1111111111111111, \"#46039f\"], [0.2222222222222222, \"#7201a8\"], [0.3333333333333333, \"#9c179e\"], [0.4444444444444444, \"#bd3786\"], [0.5555555555555556, \"#d8576b\"], [0.6666666666666666, \"#ed7953\"], [0.7777777777777778, \"#fb9f3a\"], [0.8888888888888888, \"#fdca26\"], [1.0, \"#f0f921\"]], \"type\": \"histogram2d\"}], \"histogram2dcontour\": [{\"colorbar\": {\"outlinewidth\": 0, \"ticks\": \"\"}, \"colorscale\": [[0.0, \"#0d0887\"], [0.1111111111111111, \"#46039f\"], [0.2222222222222222, \"#7201a8\"], [0.3333333333333333, \"#9c179e\"], [0.4444444444444444, \"#bd3786\"], [0.5555555555555556, \"#d8576b\"], [0.6666666666666666, \"#ed7953\"], [0.7777777777777778, \"#fb9f3a\"], [0.8888888888888888, \"#fdca26\"], [1.0, \"#f0f921\"]], \"type\": \"histogram2dcontour\"}], \"mesh3d\": [{\"colorbar\": {\"outlinewidth\": 0, \"ticks\": \"\"}, \"type\": \"mesh3d\"}], \"parcoords\": [{\"line\": {\"colorbar\": {\"outlinewidth\": 0, \"ticks\": \"\"}}, \"type\": \"parcoords\"}], \"pie\": [{\"automargin\": true, \"type\": \"pie\"}], \"scatter\": [{\"marker\": {\"colorbar\": {\"outlinewidth\": 0, \"ticks\": \"\"}}, \"type\": \"scatter\"}], \"scatter3d\": [{\"line\": {\"colorbar\": {\"outlinewidth\": 0, \"ticks\": \"\"}}, \"marker\": {\"colorbar\": {\"outlinewidth\": 0, \"ticks\": \"\"}}, \"type\": \"scatter3d\"}], \"scattercarpet\": [{\"marker\": {\"colorbar\": {\"outlinewidth\": 0, \"ticks\": \"\"}}, \"type\": \"scattercarpet\"}], \"scattergeo\": [{\"marker\": {\"colorbar\": {\"outlinewidth\": 0, \"ticks\": \"\"}}, \"type\": \"scattergeo\"}], \"scattergl\": [{\"marker\": {\"colorbar\": {\"outlinewidth\": 0, \"ticks\": \"\"}}, \"type\": \"scattergl\"}], \"scattermapbox\": [{\"marker\": {\"colorbar\": {\"outlinewidth\": 0, \"ticks\": \"\"}}, \"type\": \"scattermapbox\"}], \"scatterpolar\": [{\"marker\": {\"colorbar\": {\"outlinewidth\": 0, \"ticks\": \"\"}}, \"type\": \"scatterpolar\"}], \"scatterpolargl\": [{\"marker\": {\"colorbar\": {\"outlinewidth\": 0, \"ticks\": \"\"}}, \"type\": \"scatterpolargl\"}], \"scatterternary\": [{\"marker\": {\"colorbar\": {\"outlinewidth\": 0, \"ticks\": \"\"}}, \"type\": \"scatterternary\"}], \"surface\": [{\"colorbar\": {\"outlinewidth\": 0, \"ticks\": \"\"}, \"colorscale\": [[0.0, \"#0d0887\"], [0.1111111111111111, \"#46039f\"], [0.2222222222222222, \"#7201a8\"], [0.3333333333333333, \"#9c179e\"], [0.4444444444444444, \"#bd3786\"], [0.5555555555555556, \"#d8576b\"], [0.6666666666666666, \"#ed7953\"], [0.7777777777777778, \"#fb9f3a\"], [0.8888888888888888, \"#fdca26\"], [1.0, \"#f0f921\"]], \"type\": \"surface\"}], \"table\": [{\"cells\": {\"fill\": {\"color\": \"#EBF0F8\"}, \"line\": {\"color\": \"white\"}}, \"header\": {\"fill\": {\"color\": \"#C8D4E3\"}, \"line\": {\"color\": \"white\"}}, \"type\": \"table\"}]}, \"layout\": {\"annotationdefaults\": {\"arrowcolor\": \"#2a3f5f\", \"arrowhead\": 0, \"arrowwidth\": 1}, \"coloraxis\": {\"colorbar\": {\"outlinewidth\": 0, \"ticks\": \"\"}}, \"colorscale\": {\"diverging\": [[0, \"#8e0152\"], [0.1, \"#c51b7d\"], [0.2, \"#de77ae\"], [0.3, \"#f1b6da\"], [0.4, \"#fde0ef\"], [0.5, \"#f7f7f7\"], [0.6, \"#e6f5d0\"], [0.7, \"#b8e186\"], [0.8, \"#7fbc41\"], [0.9, \"#4d9221\"], [1, \"#276419\"]], \"sequential\": [[0.0, \"#0d0887\"], [0.1111111111111111, \"#46039f\"], [0.2222222222222222, \"#7201a8\"], [0.3333333333333333, \"#9c179e\"], [0.4444444444444444, \"#bd3786\"], [0.5555555555555556, \"#d8576b\"], [0.6666666666666666, \"#ed7953\"], [0.7777777777777778, \"#fb9f3a\"], [0.8888888888888888, \"#fdca26\"], [1.0, \"#f0f921\"]], \"sequentialminus\": [[0.0, \"#0d0887\"], [0.1111111111111111, \"#46039f\"], [0.2222222222222222, \"#7201a8\"], [0.3333333333333333, \"#9c179e\"], [0.4444444444444444, \"#bd3786\"], [0.5555555555555556, \"#d8576b\"], [0.6666666666666666, \"#ed7953\"], [0.7777777777777778, \"#fb9f3a\"], [0.8888888888888888, \"#fdca26\"], [1.0, \"#f0f921\"]]}, \"colorway\": [\"#636efa\", \"#EF553B\", \"#00cc96\", \"#ab63fa\", \"#FFA15A\", \"#19d3f3\", \"#FF6692\", \"#B6E880\", \"#FF97FF\", \"#FECB52\"], \"font\": {\"color\": \"#2a3f5f\"}, \"geo\": {\"bgcolor\": \"white\", \"lakecolor\": \"white\", \"landcolor\": \"#E5ECF6\", \"showlakes\": true, \"showland\": true, \"subunitcolor\": \"white\"}, \"hoverlabel\": {\"align\": \"left\"}, \"hovermode\": \"closest\", \"mapbox\": {\"style\": \"light\"}, \"paper_bgcolor\": \"white\", \"plot_bgcolor\": \"#E5ECF6\", \"polar\": {\"angularaxis\": {\"gridcolor\": \"white\", \"linecolor\": \"white\", \"ticks\": \"\"}, \"bgcolor\": \"#E5ECF6\", \"radialaxis\": {\"gridcolor\": \"white\", \"linecolor\": \"white\", \"ticks\": \"\"}}, \"scene\": {\"xaxis\": {\"backgroundcolor\": \"#E5ECF6\", \"gridcolor\": \"white\", \"gridwidth\": 2, \"linecolor\": \"white\", \"showbackground\": true, \"ticks\": \"\", \"zerolinecolor\": \"white\"}, \"yaxis\": {\"backgroundcolor\": \"#E5ECF6\", \"gridcolor\": \"white\", \"gridwidth\": 2, \"linecolor\": \"white\", \"showbackground\": true, \"ticks\": \"\", \"zerolinecolor\": \"white\"}, \"zaxis\": {\"backgroundcolor\": \"#E5ECF6\", \"gridcolor\": \"white\", \"gridwidth\": 2, \"linecolor\": \"white\", \"showbackground\": true, \"ticks\": \"\", \"zerolinecolor\": \"white\"}}, \"shapedefaults\": {\"line\": {\"color\": \"#2a3f5f\"}}, \"ternary\": {\"aaxis\": {\"gridcolor\": \"white\", \"linecolor\": \"white\", \"ticks\": \"\"}, \"baxis\": {\"gridcolor\": \"white\", \"linecolor\": \"white\", \"ticks\": \"\"}, \"bgcolor\": \"#E5ECF6\", \"caxis\": {\"gridcolor\": \"white\", \"linecolor\": \"white\", \"ticks\": \"\"}}, \"title\": {\"x\": 0.05}, \"xaxis\": {\"automargin\": true, \"gridcolor\": \"white\", \"linecolor\": \"white\", \"ticks\": \"\", \"title\": {\"standoff\": 15}, \"zerolinecolor\": \"white\", \"zerolinewidth\": 2}, \"yaxis\": {\"automargin\": true, \"gridcolor\": \"white\", \"linecolor\": \"white\", \"ticks\": \"\", \"title\": {\"standoff\": 15}, \"zerolinecolor\": \"white\", \"zerolinewidth\": 2}}}, \"title\": {\"text\": \"Offset Dim M\"}, \"width\": 1200},\n",
              "                        {\"responsive\": true}\n",
              "                    ).then(function(){\n",
              "                            \n",
              "var gd = document.getElementById('87b36af8-a8d5-43fb-93b5-6e104fd84261');\n",
              "var x = new MutationObserver(function (mutations, observer) {{\n",
              "        var display = window.getComputedStyle(gd).display;\n",
              "        if (!display || display === 'none') {{\n",
              "            console.log([gd, 'removed!']);\n",
              "            Plotly.purge(gd);\n",
              "            observer.disconnect();\n",
              "        }}\n",
              "}});\n",
              "\n",
              "// Listen for the removal of the full notebook cells\n",
              "var notebookContainer = gd.closest('#notebook-container');\n",
              "if (notebookContainer) {{\n",
              "    x.observe(notebookContainer, {childList: true});\n",
              "}}\n",
              "\n",
              "// Listen for the clearing of the current output cell\n",
              "var outputEl = gd.closest('.output');\n",
              "if (outputEl) {{\n",
              "    x.observe(outputEl, {childList: true});\n",
              "}}\n",
              "\n",
              "                        })\n",
              "                };\n",
              "                \n",
              "            </script>\n",
              "        </div>\n",
              "</body>\n",
              "</html>"
            ]
          },
          "metadata": {
            "tags": []
          }
        }
      ]
    },
    {
      "cell_type": "markdown",
      "metadata": {
        "id": "dfDirt6ifeaP",
        "colab_type": "text"
      },
      "source": [
        "Original (stabel)"
      ]
    },
    {
      "cell_type": "code",
      "metadata": {
        "id": "uzAgm-42QU7U",
        "colab_type": "code",
        "colab": {
          "base_uri": "https://localhost:8080/",
          "height": 1000
        },
        "outputId": "d8d9d854-ce41-4537-fc1d-c2b552332cc1"
      },
      "source": [
        "for sheet_name in list(base_week.keys())[:5]:\n",
        "  df_dict=base_week[sheet_name]\n",
        "\n",
        "  i=1\n",
        "  #Layout\n",
        "  fig = make_subplots(\n",
        "      rows=len(df_dict), cols=1,\n",
        "      #shared_xaxes=True, # share same axis\n",
        "      #vertical_spacing=0.05, # adjust spacing between charts\n",
        "      #column_widths=[0.8, 0.2],\n",
        "      subplot_titles=(list(df_dict.keys()))\n",
        "  )\n",
        "  for name in df_dict.keys(): #also group\n",
        "    df=df_dict[name].copy()\n",
        "    df=df.sort_values(by=['Date'])\n",
        "    for a in df.columns[1:]:\n",
        "      df[a] = df[a].round(decimals=3)\n",
        "    df=df.reset_index(drop=True)\n",
        "    try:\n",
        "      process_performance(df)\n",
        "    except: \n",
        "      print('error calculate process performance')\n",
        "    # Draw control chart\n",
        "    df=df.groupby('Date').mean()\n",
        "    #df=df.set_index('Date')\n",
        "    #if start_date != '':\n",
        "    #  df=df[start_date:end_date]\n",
        "    #Control chart 1 \n",
        "    fig.append_trace(go.Scatter(\n",
        "                            x=df.index, y=df['Value'],mode='lines+markers',\n",
        "                            name='mean ' + name,line=dict( color='#4280F5')\n",
        "                            ),row=i, col=1\n",
        "                  )\n",
        "    #USL, LSL\n",
        "    fig.append_trace(go.Scatter(x=df.index, y=df['USL'],name='USL '+name, line=dict( color='#FF5733'),mode='lines'),row=i, col=1)\n",
        "    fig.append_trace(go.Scatter(x=df.index, y=df['LSL'],name='LSL '+name,line=dict( color='#FF5733'),mode='lines'),row=i, col=1)\n",
        "    #fig.append_trace(go.Scatter(x=df['Datef'], y=df['Nominal'],name='Nominal '+name,line=dict( color='#FF5733')),row=i, col=1)\n",
        "    # UCL, LCL\n",
        "    fig.append_trace(go.Scatter(x=df.index, y=df['UCL'],name='UCL '+name, line=dict( color='#33C2FF'),mode='lines'),row=i, col=1)\n",
        "    fig.append_trace(go.Scatter(x=df.index, y=df['LCL'],name='LCL '+name, line=dict( color='#33C2FF'),mode='lines'),row=i, col=1)\n",
        "    fig.append_trace(go.Scatter(x=df.index, y=df['Mean'],name='Mean '+name, line=dict( color='#33C2FF'),mode='lines'),row=i, col=1)\n",
        "    i=i+1\n",
        "\n",
        "  fig.update_layout(height=200*len(df_dict), width=1200, title_text=sheet_name)\n",
        "  fig.show()"
      ],
      "execution_count": 21,
      "outputs": [
        {
          "output_type": "stream",
          "text": [
            "error calculate process performance\n",
            "error calculate process performance\n",
            "error calculate process performance\n",
            "error calculate process performance\n",
            "error calculate process performance\n"
          ],
          "name": "stdout"
        },
        {
          "output_type": "display_data",
          "data": {
            "text/html": [
              "<html>\n",
              "<head><meta charset=\"utf-8\" /></head>\n",
              "<body>\n",
              "    <div>\n",
              "            <script src=\"https://cdnjs.cloudflare.com/ajax/libs/mathjax/2.7.5/MathJax.js?config=TeX-AMS-MML_SVG\"></script><script type=\"text/javascript\">if (window.MathJax) {MathJax.Hub.Config({SVG: {font: \"STIX-Web\"}});}</script>\n",
              "                <script type=\"text/javascript\">window.PlotlyConfig = {MathJaxConfig: 'local'};</script>\n",
              "        <script src=\"https://cdn.plot.ly/plotly-latest.min.js\"></script>    \n",
              "            <div id=\"f205bc19-a055-404d-b52a-01773c0e705f\" class=\"plotly-graph-div\" style=\"height:1000px; width:1200px;\"></div>\n",
              "            <script type=\"text/javascript\">\n",
              "                \n",
              "                    window.PLOTLYENV=window.PLOTLYENV || {};\n",
              "                    \n",
              "                if (document.getElementById(\"f205bc19-a055-404d-b52a-01773c0e705f\")) {\n",
              "                    Plotly.newPlot(\n",
              "                        'f205bc19-a055-404d-b52a-01773c0e705f',\n",
              "                        [{\"line\": {\"color\": \"#4280F5\"}, \"mode\": \"lines+markers\", \"name\": \"mean Chi\\u1ec1u r\\u1ed9ng Dim E\", \"type\": \"scatter\", \"x\": [\"2020-08-20T09:00:00\", \"2020-08-22T17:00:00\", \"2020-08-24T12:00:00\", \"2020-08-24T18:00:00\", \"2020-08-27T08:00:00\", \"2020-08-28T17:00:00\", \"2020-08-29T12:00:00\", \"2020-08-31T16:00:00\", \"2020-09-07T09:00:00\", \"2020-09-08T20:00:00\"], \"xaxis\": \"x\", \"y\": [3.7173333168029785, 3.7170000076293945, 3.7160000801086426, 3.7056667804718018, 3.7196667194366455, 3.7079999446868896, 3.7119998931884766, 3.7126665115356445, 3.7186667919158936, 3.7103333473205566], \"yaxis\": \"y\"}, {\"line\": {\"color\": \"#FF5733\"}, \"mode\": \"lines\", \"name\": \"USL Chi\\u1ec1u r\\u1ed9ng Dim E\", \"type\": \"scatter\", \"x\": [\"2020-08-20T09:00:00\", \"2020-08-22T17:00:00\", \"2020-08-24T12:00:00\", \"2020-08-24T18:00:00\", \"2020-08-27T08:00:00\", \"2020-08-28T17:00:00\", \"2020-08-29T12:00:00\", \"2020-08-31T16:00:00\", \"2020-09-07T09:00:00\", \"2020-09-08T20:00:00\"], \"xaxis\": \"x\", \"y\": [3.7200000286102295, 3.7200000286102295, 3.7200000286102295, 3.7200000286102295, 3.7200000286102295, 3.7200000286102295, 3.7200000286102295, 3.7200000286102295, 3.7200000286102295, 3.7200000286102295], \"yaxis\": \"y\"}, {\"line\": {\"color\": \"#FF5733\"}, \"mode\": \"lines\", \"name\": \"LSL Chi\\u1ec1u r\\u1ed9ng Dim E\", \"type\": \"scatter\", \"x\": [\"2020-08-20T09:00:00\", \"2020-08-22T17:00:00\", \"2020-08-24T12:00:00\", \"2020-08-24T18:00:00\", \"2020-08-27T08:00:00\", \"2020-08-28T17:00:00\", \"2020-08-29T12:00:00\", \"2020-08-31T16:00:00\", \"2020-09-07T09:00:00\", \"2020-09-08T20:00:00\"], \"xaxis\": \"x\", \"y\": [3.700000047683716, 3.700000047683716, 3.700000047683716, 3.700000047683716, 3.700000047683716, 3.700000047683716, 3.700000047683716, 3.700000047683716, 3.700000047683716, 3.700000047683716], \"yaxis\": \"y\"}, {\"line\": {\"color\": \"#33C2FF\"}, \"mode\": \"lines\", \"name\": \"UCL Chi\\u1ec1u r\\u1ed9ng Dim E\", \"type\": \"scatter\", \"x\": [\"2020-08-20T09:00:00\", \"2020-08-22T17:00:00\", \"2020-08-24T12:00:00\", \"2020-08-24T18:00:00\", \"2020-08-27T08:00:00\", \"2020-08-28T17:00:00\", \"2020-08-29T12:00:00\", \"2020-08-31T16:00:00\", \"2020-09-07T09:00:00\", \"2020-09-08T20:00:00\"], \"xaxis\": \"x\", \"y\": [3.7290000915527344, 3.7330000400543213, 3.7330000400543213, 3.7330000400543213, 3.7330000400543213, 3.7260000705718994, 3.7260000705718994, 3.7260000705718994, 3.7290000915527344, 3.7290000915527344], \"yaxis\": \"y\"}, {\"line\": {\"color\": \"#33C2FF\"}, \"mode\": \"lines\", \"name\": \"LCL Chi\\u1ec1u r\\u1ed9ng Dim E\", \"type\": \"scatter\", \"x\": [\"2020-08-20T09:00:00\", \"2020-08-22T17:00:00\", \"2020-08-24T12:00:00\", \"2020-08-24T18:00:00\", \"2020-08-27T08:00:00\", \"2020-08-28T17:00:00\", \"2020-08-29T12:00:00\", \"2020-08-31T16:00:00\", \"2020-09-07T09:00:00\", \"2020-09-08T20:00:00\"], \"xaxis\": \"x\", \"y\": [3.7060000896453857, 3.696000099182129, 3.696000099182129, 3.696000099182129, 3.696000099182129, 3.696000099182129, 3.696000099182129, 3.696000099182129, 3.700000047683716, 3.700000047683716], \"yaxis\": \"y\"}, {\"line\": {\"color\": \"#33C2FF\"}, \"mode\": \"lines\", \"name\": \"Mean Chi\\u1ec1u r\\u1ed9ng Dim E\", \"type\": \"scatter\", \"x\": [\"2020-08-20T09:00:00\", \"2020-08-22T17:00:00\", \"2020-08-24T12:00:00\", \"2020-08-24T18:00:00\", \"2020-08-27T08:00:00\", \"2020-08-28T17:00:00\", \"2020-08-29T12:00:00\", \"2020-08-31T16:00:00\", \"2020-09-07T09:00:00\", \"2020-09-08T20:00:00\"], \"xaxis\": \"x\", \"y\": [3.7170000076293945, 3.7149999141693115, 3.7149999141693115, 3.7149999141693115, 3.7149999141693115, 3.7109999656677246, 3.7109999656677246, 3.7109999656677246, 3.7139999866485596, 3.7139999866485596], \"yaxis\": \"y\"}, {\"line\": {\"color\": \"#4280F5\"}, \"mode\": \"lines+markers\", \"name\": \"mean Chi\\u1ec1u d\\u00e0i Dim C\", \"type\": \"scatter\", \"x\": [\"2020-08-20T09:00:00\", \"2020-08-22T17:00:00\", \"2020-08-24T12:00:00\", \"2020-08-24T18:00:00\", \"2020-08-27T08:00:00\", \"2020-08-28T17:00:00\", \"2020-08-29T12:00:00\", \"2020-08-31T16:00:00\", \"2020-09-07T09:00:00\", \"2020-09-08T20:00:00\"], \"xaxis\": \"x2\", \"y\": [7.515666961669922, 7.514333248138428, 7.514999866485596, 7.509666442871094, 7.517000198364258, 7.51366662979126, 7.507333278656006, 7.514666557312012, 7.515666484832764, 7.517666816711426], \"yaxis\": \"y2\"}, {\"line\": {\"color\": \"#FF5733\"}, \"mode\": \"lines\", \"name\": \"USL Chi\\u1ec1u d\\u00e0i Dim C\", \"type\": \"scatter\", \"x\": [\"2020-08-20T09:00:00\", \"2020-08-22T17:00:00\", \"2020-08-24T12:00:00\", \"2020-08-24T18:00:00\", \"2020-08-27T08:00:00\", \"2020-08-28T17:00:00\", \"2020-08-29T12:00:00\", \"2020-08-31T16:00:00\", \"2020-09-07T09:00:00\", \"2020-09-08T20:00:00\"], \"xaxis\": \"x2\", \"y\": [7.519999980926514, 7.519999980926514, 7.519999980926514, 7.519999980926514, 7.519999980926514, 7.519999980926514, 7.519999980926514, 7.519999980926514, 7.519999980926514, 7.519999980926514], \"yaxis\": \"y2\"}, {\"line\": {\"color\": \"#FF5733\"}, \"mode\": \"lines\", \"name\": \"LSL Chi\\u1ec1u d\\u00e0i Dim C\", \"type\": \"scatter\", \"x\": [\"2020-08-20T09:00:00\", \"2020-08-22T17:00:00\", \"2020-08-24T12:00:00\", \"2020-08-24T18:00:00\", \"2020-08-27T08:00:00\", \"2020-08-28T17:00:00\", \"2020-08-29T12:00:00\", \"2020-08-31T16:00:00\", \"2020-09-07T09:00:00\", \"2020-09-08T20:00:00\"], \"xaxis\": \"x2\", \"y\": [7.5, 7.5, 7.5, 7.5, 7.5, 7.5, 7.5, 7.5, 7.5, 7.5], \"yaxis\": \"y2\"}, {\"line\": {\"color\": \"#33C2FF\"}, \"mode\": \"lines\", \"name\": \"UCL Chi\\u1ec1u d\\u00e0i Dim C\", \"type\": \"scatter\", \"x\": [\"2020-08-20T09:00:00\", \"2020-08-22T17:00:00\", \"2020-08-24T12:00:00\", \"2020-08-24T18:00:00\", \"2020-08-27T08:00:00\", \"2020-08-28T17:00:00\", \"2020-08-29T12:00:00\", \"2020-08-31T16:00:00\", \"2020-09-07T09:00:00\", \"2020-09-08T20:00:00\"], \"xaxis\": \"x2\", \"y\": [7.525000095367432, 7.53000020980835, 7.53000020980835, 7.53000020980835, 7.53000020980835, 7.5269999504089355, 7.5269999504089355, 7.5269999504089355, 7.525000095367432, 7.525000095367432], \"yaxis\": \"y2\"}, {\"line\": {\"color\": \"#33C2FF\"}, \"mode\": \"lines\", \"name\": \"LCL Chi\\u1ec1u d\\u00e0i Dim C\", \"type\": \"scatter\", \"x\": [\"2020-08-20T09:00:00\", \"2020-08-22T17:00:00\", \"2020-08-24T12:00:00\", \"2020-08-24T18:00:00\", \"2020-08-27T08:00:00\", \"2020-08-28T17:00:00\", \"2020-08-29T12:00:00\", \"2020-08-31T16:00:00\", \"2020-09-07T09:00:00\", \"2020-09-08T20:00:00\"], \"xaxis\": \"x2\", \"y\": [7.50600004196167, 7.498000144958496, 7.498000144958496, 7.498000144958496, 7.498000144958496, 7.497000217437744, 7.497000217437744, 7.497000217437744, 7.508999824523926, 7.508999824523926], \"yaxis\": \"y2\"}, {\"line\": {\"color\": \"#33C2FF\"}, \"mode\": \"lines\", \"name\": \"Mean Chi\\u1ec1u d\\u00e0i Dim C\", \"type\": \"scatter\", \"x\": [\"2020-08-20T09:00:00\", \"2020-08-22T17:00:00\", \"2020-08-24T12:00:00\", \"2020-08-24T18:00:00\", \"2020-08-27T08:00:00\", \"2020-08-28T17:00:00\", \"2020-08-29T12:00:00\", \"2020-08-31T16:00:00\", \"2020-09-07T09:00:00\", \"2020-09-08T20:00:00\"], \"xaxis\": \"x2\", \"y\": [7.515999794006348, 7.513999938964844, 7.513999938964844, 7.513999938964844, 7.513999938964844, 7.51200008392334, 7.51200008392334, 7.51200008392334, 7.517000198364258, 7.517000198364258], \"yaxis\": \"y2\"}, {\"line\": {\"color\": \"#4280F5\"}, \"mode\": \"lines+markers\", \"name\": \"mean Cung hint Dim I\", \"type\": \"scatter\", \"x\": [\"2020-08-20T09:00:00\", \"2020-08-22T17:00:00\", \"2020-08-24T12:00:00\", \"2020-08-24T18:00:00\", \"2020-08-27T08:00:00\", \"2020-08-28T17:00:00\", \"2020-08-29T12:00:00\", \"2020-08-31T16:00:00\", \"2020-09-07T09:00:00\", \"2020-09-08T20:00:00\"], \"xaxis\": \"x3\", \"y\": [0.32600000500679016, 0.3330000042915344, 0.32420000433921814, 0.3229999840259552, 0.3203999996185303, 0.33239999413490295, 0.326200008392334, 0.3294000029563904, 0.32339999079704285, 0.33079999685287476], \"yaxis\": \"y3\"}, {\"line\": {\"color\": \"#FF5733\"}, \"mode\": \"lines\", \"name\": \"USL Cung hint Dim I\", \"type\": \"scatter\", \"x\": [\"2020-08-20T09:00:00\", \"2020-08-22T17:00:00\", \"2020-08-24T12:00:00\", \"2020-08-24T18:00:00\", \"2020-08-27T08:00:00\", \"2020-08-28T17:00:00\", \"2020-08-29T12:00:00\", \"2020-08-31T16:00:00\", \"2020-09-07T09:00:00\", \"2020-09-08T20:00:00\"], \"xaxis\": \"x3\", \"y\": [0.3400000035762787, 0.3400000035762787, 0.3400000035762787, 0.3400000035762787, 0.3400000035762787, 0.3400000035762787, 0.3400000035762787, 0.3400000035762787, 0.3400000035762787, 0.3400000035762787], \"yaxis\": \"y3\"}, {\"line\": {\"color\": \"#FF5733\"}, \"mode\": \"lines\", \"name\": \"LSL Cung hint Dim I\", \"type\": \"scatter\", \"x\": [\"2020-08-20T09:00:00\", \"2020-08-22T17:00:00\", \"2020-08-24T12:00:00\", \"2020-08-24T18:00:00\", \"2020-08-27T08:00:00\", \"2020-08-28T17:00:00\", \"2020-08-29T12:00:00\", \"2020-08-31T16:00:00\", \"2020-09-07T09:00:00\", \"2020-09-08T20:00:00\"], \"xaxis\": \"x3\", \"y\": [0.30000001192092896, 0.30000001192092896, 0.30000001192092896, 0.30000001192092896, 0.30000001192092896, 0.30000001192092896, 0.30000001192092896, 0.30000001192092896, 0.30000001192092896, 0.30000001192092896], \"yaxis\": \"y3\"}, {\"line\": {\"color\": \"#33C2FF\"}, \"mode\": \"lines\", \"name\": \"UCL Cung hint Dim I\", \"type\": \"scatter\", \"x\": [\"2020-08-20T09:00:00\", \"2020-08-22T17:00:00\", \"2020-08-24T12:00:00\", \"2020-08-24T18:00:00\", \"2020-08-27T08:00:00\", \"2020-08-28T17:00:00\", \"2020-08-29T12:00:00\", \"2020-08-31T16:00:00\", \"2020-09-07T09:00:00\", \"2020-09-08T20:00:00\"], \"xaxis\": \"x3\", \"y\": [0.35199999809265137, 0.3490000069141388, 0.3490000069141388, 0.3490000069141388, 0.3490000069141388, 0.3529999852180481, 0.3529999852180481, 0.3529999852180481, 0.35100001096725464, 0.35100001096725464], \"yaxis\": \"y3\"}, {\"line\": {\"color\": \"#33C2FF\"}, \"mode\": \"lines\", \"name\": \"LCL Cung hint Dim I\", \"type\": \"scatter\", \"x\": [\"2020-08-20T09:00:00\", \"2020-08-22T17:00:00\", \"2020-08-24T12:00:00\", \"2020-08-24T18:00:00\", \"2020-08-27T08:00:00\", \"2020-08-28T17:00:00\", \"2020-08-29T12:00:00\", \"2020-08-31T16:00:00\", \"2020-09-07T09:00:00\", \"2020-09-08T20:00:00\"], \"xaxis\": \"x3\", \"y\": [0.30000001192092896, 0.3009999990463257, 0.3009999990463257, 0.3009999990463257, 0.3009999990463257, 0.3059999942779541, 0.3059999942779541, 0.3059999942779541, 0.30300000309944153, 0.30300000309944153], \"yaxis\": \"y3\"}, {\"line\": {\"color\": \"#33C2FF\"}, \"mode\": \"lines\", \"name\": \"Mean Cung hint Dim I\", \"type\": \"scatter\", \"x\": [\"2020-08-20T09:00:00\", \"2020-08-22T17:00:00\", \"2020-08-24T12:00:00\", \"2020-08-24T18:00:00\", \"2020-08-27T08:00:00\", \"2020-08-28T17:00:00\", \"2020-08-29T12:00:00\", \"2020-08-31T16:00:00\", \"2020-09-07T09:00:00\", \"2020-09-08T20:00:00\"], \"xaxis\": \"x3\", \"y\": [0.32600000500679016, 0.32499998807907104, 0.32499998807907104, 0.32499998807907104, 0.32499998807907104, 0.32899999618530273, 0.32899999618530273, 0.32899999618530273, 0.3269999921321869, 0.3269999921321869], \"yaxis\": \"y3\"}, {\"line\": {\"color\": \"#4280F5\"}, \"mode\": \"lines+markers\", \"name\": \"mean Cung J Dim J\", \"type\": \"scatter\", \"x\": [\"2020-08-20T09:00:00\", \"2020-08-22T17:00:00\", \"2020-08-24T12:00:00\", \"2020-08-24T18:00:00\", \"2020-08-27T08:00:00\", \"2020-08-28T17:00:00\", \"2020-08-29T12:00:00\", \"2020-08-31T16:00:00\", \"2020-09-07T09:00:00\", \"2020-09-08T20:00:00\"], \"xaxis\": \"x4\", \"y\": [0.47380000352859497, 0.47760000824928284, 0.47920000553131104, 0.483599990606308, 0.4758000075817108, 0.4812000095844269, 0.47600001096725464, 0.4765999913215637, 0.4697999954223633, 0.4758000075817108], \"yaxis\": \"y4\"}, {\"line\": {\"color\": \"#FF5733\"}, \"mode\": \"lines\", \"name\": \"USL Cung J Dim J\", \"type\": \"scatter\", \"x\": [\"2020-08-20T09:00:00\", \"2020-08-22T17:00:00\", \"2020-08-24T12:00:00\", \"2020-08-24T18:00:00\", \"2020-08-27T08:00:00\", \"2020-08-28T17:00:00\", \"2020-08-29T12:00:00\", \"2020-08-31T16:00:00\", \"2020-09-07T09:00:00\", \"2020-09-08T20:00:00\"], \"xaxis\": \"x4\", \"y\": [0.49000000953674316, 0.49000000953674316, 0.49000000953674316, 0.49000000953674316, 0.49000000953674316, 0.49000000953674316, 0.49000000953674316, 0.49000000953674316, 0.49000000953674316, 0.49000000953674316], \"yaxis\": \"y4\"}, {\"line\": {\"color\": \"#FF5733\"}, \"mode\": \"lines\", \"name\": \"LSL Cung J Dim J\", \"type\": \"scatter\", \"x\": [\"2020-08-20T09:00:00\", \"2020-08-22T17:00:00\", \"2020-08-24T12:00:00\", \"2020-08-24T18:00:00\", \"2020-08-27T08:00:00\", \"2020-08-28T17:00:00\", \"2020-08-29T12:00:00\", \"2020-08-31T16:00:00\", \"2020-09-07T09:00:00\", \"2020-09-08T20:00:00\"], \"xaxis\": \"x4\", \"y\": [0.44999998807907104, 0.44999998807907104, 0.44999998807907104, 0.44999998807907104, 0.44999998807907104, 0.44999998807907104, 0.44999998807907104, 0.44999998807907104, 0.44999998807907104, 0.44999998807907104], \"yaxis\": \"y4\"}, {\"line\": {\"color\": \"#33C2FF\"}, \"mode\": \"lines\", \"name\": \"UCL Cung J Dim J\", \"type\": \"scatter\", \"x\": [\"2020-08-20T09:00:00\", \"2020-08-22T17:00:00\", \"2020-08-24T12:00:00\", \"2020-08-24T18:00:00\", \"2020-08-27T08:00:00\", \"2020-08-28T17:00:00\", \"2020-08-29T12:00:00\", \"2020-08-31T16:00:00\", \"2020-09-07T09:00:00\", \"2020-09-08T20:00:00\"], \"xaxis\": \"x4\", \"y\": [0.49000000953674316, 0.49399998784065247, 0.49399998784065247, 0.49399998784065247, 0.49399998784065247, 0.5019999742507935, 0.5019999742507935, 0.5019999742507935, 0.5009999871253967, 0.5009999871253967], \"yaxis\": \"y4\"}, {\"line\": {\"color\": \"#33C2FF\"}, \"mode\": \"lines\", \"name\": \"LCL Cung J Dim J\", \"type\": \"scatter\", \"x\": [\"2020-08-20T09:00:00\", \"2020-08-22T17:00:00\", \"2020-08-24T12:00:00\", \"2020-08-24T18:00:00\", \"2020-08-27T08:00:00\", \"2020-08-28T17:00:00\", \"2020-08-29T12:00:00\", \"2020-08-31T16:00:00\", \"2020-09-07T09:00:00\", \"2020-09-08T20:00:00\"], \"xaxis\": \"x4\", \"y\": [0.4569999873638153, 0.46399998664855957, 0.46399998664855957, 0.46399998664855957, 0.46399998664855957, 0.45399999618530273, 0.45399999618530273, 0.45399999618530273, 0.4449999928474426, 0.4449999928474426], \"yaxis\": \"y4\"}, {\"line\": {\"color\": \"#33C2FF\"}, \"mode\": \"lines\", \"name\": \"Mean Cung J Dim J\", \"type\": \"scatter\", \"x\": [\"2020-08-20T09:00:00\", \"2020-08-22T17:00:00\", \"2020-08-24T12:00:00\", \"2020-08-24T18:00:00\", \"2020-08-27T08:00:00\", \"2020-08-28T17:00:00\", \"2020-08-29T12:00:00\", \"2020-08-31T16:00:00\", \"2020-09-07T09:00:00\", \"2020-09-08T20:00:00\"], \"xaxis\": \"x4\", \"y\": [0.4740000069141388, 0.4790000021457672, 0.4790000021457672, 0.4790000021457672, 0.4790000021457672, 0.4779999852180481, 0.4779999852180481, 0.4779999852180481, 0.4729999899864197, 0.4729999899864197], \"yaxis\": \"y4\"}, {\"line\": {\"color\": \"#4280F5\"}, \"mode\": \"lines+markers\", \"name\": \"mean Offset Dim M\", \"type\": \"scatter\", \"x\": [\"2020-08-20T09:00:00\", \"2020-08-22T16:00:00\", \"2020-08-22T17:00:00\", \"2020-08-24T12:00:00\", \"2020-08-24T17:00:00\", \"2020-08-24T18:00:00\", \"2020-08-27T08:00:00\", \"2020-08-28T17:00:00\", \"2020-08-29T12:00:00\", \"2020-08-31T16:00:00\", \"2020-09-07T09:00:00\", \"2020-09-08T20:00:00\"], \"xaxis\": \"x5\", \"y\": [0.04933333396911621, 0.026000000536441803, 0.029200000688433647, 0.030666666105389595, 0.00800000037997961, 0.02239999920129776, 0.011666666716337204, 0.03316666558384895, 0.028833333402872086, 0.033666666597127914, 0.019999999552965164, 0.047333333641290665], \"yaxis\": \"y5\"}, {\"line\": {\"color\": \"#FF5733\"}, \"mode\": \"lines\", \"name\": \"USL Offset Dim M\", \"type\": \"scatter\", \"x\": [\"2020-08-20T09:00:00\", \"2020-08-22T16:00:00\", \"2020-08-22T17:00:00\", \"2020-08-24T12:00:00\", \"2020-08-24T17:00:00\", \"2020-08-24T18:00:00\", \"2020-08-27T08:00:00\", \"2020-08-28T17:00:00\", \"2020-08-29T12:00:00\", \"2020-08-31T16:00:00\", \"2020-09-07T09:00:00\", \"2020-09-08T20:00:00\"], \"xaxis\": \"x5\", \"y\": [0.05999999865889549, 0.05999999865889549, 0.05999999865889549, 0.05999999865889549, 0.05999999865889549, 0.05999999865889549, 0.05999999865889549, 0.05999999865889549, 0.05999999865889549, 0.05999999865889549, 0.05999999865889549, 0.05999999865889549], \"yaxis\": \"y5\"}, {\"line\": {\"color\": \"#FF5733\"}, \"mode\": \"lines\", \"name\": \"LSL Offset Dim M\", \"type\": \"scatter\", \"x\": [\"2020-08-20T09:00:00\", \"2020-08-22T16:00:00\", \"2020-08-22T17:00:00\", \"2020-08-24T12:00:00\", \"2020-08-24T17:00:00\", \"2020-08-24T18:00:00\", \"2020-08-27T08:00:00\", \"2020-08-28T17:00:00\", \"2020-08-29T12:00:00\", \"2020-08-31T16:00:00\", \"2020-09-07T09:00:00\", \"2020-09-08T20:00:00\"], \"xaxis\": \"x5\", \"y\": [null, null, null, null, null, null, null, null, null, null, null, null], \"yaxis\": \"y5\"}, {\"line\": {\"color\": \"#33C2FF\"}, \"mode\": \"lines\", \"name\": \"UCL Offset Dim M\", \"type\": \"scatter\", \"x\": [\"2020-08-20T09:00:00\", \"2020-08-22T16:00:00\", \"2020-08-22T17:00:00\", \"2020-08-24T12:00:00\", \"2020-08-24T17:00:00\", \"2020-08-24T18:00:00\", \"2020-08-27T08:00:00\", \"2020-08-28T17:00:00\", \"2020-08-29T12:00:00\", \"2020-08-31T16:00:00\", \"2020-09-07T09:00:00\", \"2020-09-08T20:00:00\"], \"xaxis\": \"x5\", \"y\": [0.07500000298023224, 0.06800000369548798, 0.06800000369548798, 0.06800000369548798, 0.06800000369548798, 0.06800000369548798, 0.06800000369548798, 0.07699999958276749, 0.07699999958276749, 0.07699999958276749, 0.08900000154972076, 0.08900000154972076], \"yaxis\": \"y5\"}, {\"line\": {\"color\": \"#33C2FF\"}, \"mode\": \"lines\", \"name\": \"LCL Offset Dim M\", \"type\": \"scatter\", \"x\": [\"2020-08-20T09:00:00\", \"2020-08-22T16:00:00\", \"2020-08-22T17:00:00\", \"2020-08-24T12:00:00\", \"2020-08-24T17:00:00\", \"2020-08-24T18:00:00\", \"2020-08-27T08:00:00\", \"2020-08-28T17:00:00\", \"2020-08-29T12:00:00\", \"2020-08-31T16:00:00\", \"2020-09-07T09:00:00\", \"2020-09-08T20:00:00\"], \"xaxis\": \"x5\", \"y\": [0.023000000044703484, -0.02199999988079071, -0.02199999988079071, -0.02199999988079071, -0.02199999988079071, -0.02199999988079071, -0.02199999988079071, -0.013000000268220901, -0.013000000268220901, -0.013000000268220901, -0.02199999988079071, -0.02199999988079071], \"yaxis\": \"y5\"}, {\"line\": {\"color\": \"#33C2FF\"}, \"mode\": \"lines\", \"name\": \"Mean Offset Dim M\", \"type\": \"scatter\", \"x\": [\"2020-08-20T09:00:00\", \"2020-08-22T16:00:00\", \"2020-08-22T17:00:00\", \"2020-08-24T12:00:00\", \"2020-08-24T17:00:00\", \"2020-08-24T18:00:00\", \"2020-08-27T08:00:00\", \"2020-08-28T17:00:00\", \"2020-08-29T12:00:00\", \"2020-08-31T16:00:00\", \"2020-09-07T09:00:00\", \"2020-09-08T20:00:00\"], \"xaxis\": \"x5\", \"y\": [0.04899999871850014, 0.023000000044703484, 0.023000000044703484, 0.023000000044703484, 0.023000000044703484, 0.023000000044703484, 0.023000000044703484, 0.03200000151991844, 0.03200000151991844, 0.03200000151991844, 0.03400000184774399, 0.03400000184774399], \"yaxis\": \"y5\"}],\n",
              "                        {\"annotations\": [{\"font\": {\"size\": 16}, \"showarrow\": false, \"text\": \"Chi\\u1ec1u r\\u1ed9ng Dim E\", \"x\": 0.5, \"xanchor\": \"center\", \"xref\": \"paper\", \"y\": 1.0, \"yanchor\": \"bottom\", \"yref\": \"paper\"}, {\"font\": {\"size\": 16}, \"showarrow\": false, \"text\": \"Chi\\u1ec1u d\\u00e0i Dim C\", \"x\": 0.5, \"xanchor\": \"center\", \"xref\": \"paper\", \"y\": 0.78, \"yanchor\": \"bottom\", \"yref\": \"paper\"}, {\"font\": {\"size\": 16}, \"showarrow\": false, \"text\": \"Cung hint Dim I\", \"x\": 0.5, \"xanchor\": \"center\", \"xref\": \"paper\", \"y\": 0.56, \"yanchor\": \"bottom\", \"yref\": \"paper\"}, {\"font\": {\"size\": 16}, \"showarrow\": false, \"text\": \"Cung J Dim J\", \"x\": 0.5, \"xanchor\": \"center\", \"xref\": \"paper\", \"y\": 0.33999999999999997, \"yanchor\": \"bottom\", \"yref\": \"paper\"}, {\"font\": {\"size\": 16}, \"showarrow\": false, \"text\": \"Offset Dim M\", \"x\": 0.5, \"xanchor\": \"center\", \"xref\": \"paper\", \"y\": 0.12, \"yanchor\": \"bottom\", \"yref\": \"paper\"}], \"height\": 1000, \"template\": {\"data\": {\"bar\": [{\"error_x\": {\"color\": \"#2a3f5f\"}, \"error_y\": {\"color\": \"#2a3f5f\"}, \"marker\": {\"line\": {\"color\": \"#E5ECF6\", \"width\": 0.5}}, \"type\": \"bar\"}], \"barpolar\": [{\"marker\": {\"line\": {\"color\": \"#E5ECF6\", \"width\": 0.5}}, \"type\": \"barpolar\"}], \"carpet\": [{\"aaxis\": {\"endlinecolor\": \"#2a3f5f\", \"gridcolor\": \"white\", \"linecolor\": \"white\", \"minorgridcolor\": \"white\", \"startlinecolor\": \"#2a3f5f\"}, \"baxis\": {\"endlinecolor\": \"#2a3f5f\", \"gridcolor\": \"white\", \"linecolor\": \"white\", \"minorgridcolor\": \"white\", \"startlinecolor\": \"#2a3f5f\"}, \"type\": \"carpet\"}], \"choropleth\": [{\"colorbar\": {\"outlinewidth\": 0, \"ticks\": \"\"}, \"type\": \"choropleth\"}], \"contour\": [{\"colorbar\": {\"outlinewidth\": 0, \"ticks\": \"\"}, \"colorscale\": [[0.0, \"#0d0887\"], [0.1111111111111111, \"#46039f\"], [0.2222222222222222, \"#7201a8\"], [0.3333333333333333, \"#9c179e\"], [0.4444444444444444, \"#bd3786\"], [0.5555555555555556, \"#d8576b\"], [0.6666666666666666, \"#ed7953\"], [0.7777777777777778, \"#fb9f3a\"], [0.8888888888888888, \"#fdca26\"], [1.0, \"#f0f921\"]], \"type\": \"contour\"}], \"contourcarpet\": [{\"colorbar\": {\"outlinewidth\": 0, \"ticks\": \"\"}, \"type\": \"contourcarpet\"}], \"heatmap\": [{\"colorbar\": {\"outlinewidth\": 0, \"ticks\": \"\"}, \"colorscale\": [[0.0, \"#0d0887\"], [0.1111111111111111, \"#46039f\"], [0.2222222222222222, \"#7201a8\"], [0.3333333333333333, \"#9c179e\"], [0.4444444444444444, \"#bd3786\"], [0.5555555555555556, \"#d8576b\"], [0.6666666666666666, \"#ed7953\"], [0.7777777777777778, \"#fb9f3a\"], [0.8888888888888888, \"#fdca26\"], [1.0, \"#f0f921\"]], \"type\": \"heatmap\"}], \"heatmapgl\": [{\"colorbar\": {\"outlinewidth\": 0, \"ticks\": \"\"}, \"colorscale\": [[0.0, \"#0d0887\"], [0.1111111111111111, \"#46039f\"], [0.2222222222222222, \"#7201a8\"], [0.3333333333333333, \"#9c179e\"], [0.4444444444444444, \"#bd3786\"], [0.5555555555555556, \"#d8576b\"], [0.6666666666666666, \"#ed7953\"], [0.7777777777777778, \"#fb9f3a\"], [0.8888888888888888, \"#fdca26\"], [1.0, \"#f0f921\"]], \"type\": \"heatmapgl\"}], \"histogram\": [{\"marker\": {\"colorbar\": {\"outlinewidth\": 0, \"ticks\": \"\"}}, \"type\": \"histogram\"}], \"histogram2d\": [{\"colorbar\": {\"outlinewidth\": 0, \"ticks\": \"\"}, \"colorscale\": [[0.0, \"#0d0887\"], [0.1111111111111111, \"#46039f\"], [0.2222222222222222, \"#7201a8\"], [0.3333333333333333, \"#9c179e\"], [0.4444444444444444, \"#bd3786\"], [0.5555555555555556, \"#d8576b\"], [0.6666666666666666, \"#ed7953\"], [0.7777777777777778, \"#fb9f3a\"], [0.8888888888888888, \"#fdca26\"], [1.0, \"#f0f921\"]], \"type\": \"histogram2d\"}], \"histogram2dcontour\": [{\"colorbar\": {\"outlinewidth\": 0, \"ticks\": \"\"}, \"colorscale\": [[0.0, \"#0d0887\"], [0.1111111111111111, \"#46039f\"], [0.2222222222222222, \"#7201a8\"], [0.3333333333333333, \"#9c179e\"], [0.4444444444444444, \"#bd3786\"], [0.5555555555555556, \"#d8576b\"], [0.6666666666666666, \"#ed7953\"], [0.7777777777777778, \"#fb9f3a\"], [0.8888888888888888, \"#fdca26\"], [1.0, \"#f0f921\"]], \"type\": \"histogram2dcontour\"}], \"mesh3d\": [{\"colorbar\": {\"outlinewidth\": 0, \"ticks\": \"\"}, \"type\": \"mesh3d\"}], \"parcoords\": [{\"line\": {\"colorbar\": {\"outlinewidth\": 0, \"ticks\": \"\"}}, \"type\": \"parcoords\"}], \"pie\": [{\"automargin\": true, \"type\": \"pie\"}], \"scatter\": [{\"marker\": {\"colorbar\": {\"outlinewidth\": 0, \"ticks\": \"\"}}, \"type\": \"scatter\"}], \"scatter3d\": [{\"line\": {\"colorbar\": {\"outlinewidth\": 0, \"ticks\": \"\"}}, \"marker\": {\"colorbar\": {\"outlinewidth\": 0, \"ticks\": \"\"}}, \"type\": \"scatter3d\"}], \"scattercarpet\": [{\"marker\": {\"colorbar\": {\"outlinewidth\": 0, \"ticks\": \"\"}}, \"type\": \"scattercarpet\"}], \"scattergeo\": [{\"marker\": {\"colorbar\": {\"outlinewidth\": 0, \"ticks\": \"\"}}, \"type\": \"scattergeo\"}], \"scattergl\": [{\"marker\": {\"colorbar\": {\"outlinewidth\": 0, \"ticks\": \"\"}}, \"type\": \"scattergl\"}], \"scattermapbox\": [{\"marker\": {\"colorbar\": {\"outlinewidth\": 0, \"ticks\": \"\"}}, \"type\": \"scattermapbox\"}], \"scatterpolar\": [{\"marker\": {\"colorbar\": {\"outlinewidth\": 0, \"ticks\": \"\"}}, \"type\": \"scatterpolar\"}], \"scatterpolargl\": [{\"marker\": {\"colorbar\": {\"outlinewidth\": 0, \"ticks\": \"\"}}, \"type\": \"scatterpolargl\"}], \"scatterternary\": [{\"marker\": {\"colorbar\": {\"outlinewidth\": 0, \"ticks\": \"\"}}, \"type\": \"scatterternary\"}], \"surface\": [{\"colorbar\": {\"outlinewidth\": 0, \"ticks\": \"\"}, \"colorscale\": [[0.0, \"#0d0887\"], [0.1111111111111111, \"#46039f\"], [0.2222222222222222, \"#7201a8\"], [0.3333333333333333, \"#9c179e\"], [0.4444444444444444, \"#bd3786\"], [0.5555555555555556, \"#d8576b\"], [0.6666666666666666, \"#ed7953\"], [0.7777777777777778, \"#fb9f3a\"], [0.8888888888888888, \"#fdca26\"], [1.0, \"#f0f921\"]], \"type\": \"surface\"}], \"table\": [{\"cells\": {\"fill\": {\"color\": \"#EBF0F8\"}, \"line\": {\"color\": \"white\"}}, \"header\": {\"fill\": {\"color\": \"#C8D4E3\"}, \"line\": {\"color\": \"white\"}}, \"type\": \"table\"}]}, \"layout\": {\"annotationdefaults\": {\"arrowcolor\": \"#2a3f5f\", \"arrowhead\": 0, \"arrowwidth\": 1}, \"coloraxis\": {\"colorbar\": {\"outlinewidth\": 0, \"ticks\": \"\"}}, \"colorscale\": {\"diverging\": [[0, \"#8e0152\"], [0.1, \"#c51b7d\"], [0.2, \"#de77ae\"], [0.3, \"#f1b6da\"], [0.4, \"#fde0ef\"], [0.5, \"#f7f7f7\"], [0.6, \"#e6f5d0\"], [0.7, \"#b8e186\"], [0.8, \"#7fbc41\"], [0.9, \"#4d9221\"], [1, \"#276419\"]], \"sequential\": [[0.0, \"#0d0887\"], [0.1111111111111111, \"#46039f\"], [0.2222222222222222, \"#7201a8\"], [0.3333333333333333, \"#9c179e\"], [0.4444444444444444, \"#bd3786\"], [0.5555555555555556, \"#d8576b\"], [0.6666666666666666, \"#ed7953\"], [0.7777777777777778, \"#fb9f3a\"], [0.8888888888888888, \"#fdca26\"], [1.0, \"#f0f921\"]], \"sequentialminus\": [[0.0, \"#0d0887\"], [0.1111111111111111, \"#46039f\"], [0.2222222222222222, \"#7201a8\"], [0.3333333333333333, \"#9c179e\"], [0.4444444444444444, \"#bd3786\"], [0.5555555555555556, \"#d8576b\"], [0.6666666666666666, \"#ed7953\"], [0.7777777777777778, \"#fb9f3a\"], [0.8888888888888888, \"#fdca26\"], [1.0, \"#f0f921\"]]}, \"colorway\": [\"#636efa\", \"#EF553B\", \"#00cc96\", \"#ab63fa\", \"#FFA15A\", \"#19d3f3\", \"#FF6692\", \"#B6E880\", \"#FF97FF\", \"#FECB52\"], \"font\": {\"color\": \"#2a3f5f\"}, \"geo\": {\"bgcolor\": \"white\", \"lakecolor\": \"white\", \"landcolor\": \"#E5ECF6\", \"showlakes\": true, \"showland\": true, \"subunitcolor\": \"white\"}, \"hoverlabel\": {\"align\": \"left\"}, \"hovermode\": \"closest\", \"mapbox\": {\"style\": \"light\"}, \"paper_bgcolor\": \"white\", \"plot_bgcolor\": \"#E5ECF6\", \"polar\": {\"angularaxis\": {\"gridcolor\": \"white\", \"linecolor\": \"white\", \"ticks\": \"\"}, \"bgcolor\": \"#E5ECF6\", \"radialaxis\": {\"gridcolor\": \"white\", \"linecolor\": \"white\", \"ticks\": \"\"}}, \"scene\": {\"xaxis\": {\"backgroundcolor\": \"#E5ECF6\", \"gridcolor\": \"white\", \"gridwidth\": 2, \"linecolor\": \"white\", \"showbackground\": true, \"ticks\": \"\", \"zerolinecolor\": \"white\"}, \"yaxis\": {\"backgroundcolor\": \"#E5ECF6\", \"gridcolor\": \"white\", \"gridwidth\": 2, \"linecolor\": \"white\", \"showbackground\": true, \"ticks\": \"\", \"zerolinecolor\": \"white\"}, \"zaxis\": {\"backgroundcolor\": \"#E5ECF6\", \"gridcolor\": \"white\", \"gridwidth\": 2, \"linecolor\": \"white\", \"showbackground\": true, \"ticks\": \"\", \"zerolinecolor\": \"white\"}}, \"shapedefaults\": {\"line\": {\"color\": \"#2a3f5f\"}}, \"ternary\": {\"aaxis\": {\"gridcolor\": \"white\", \"linecolor\": \"white\", \"ticks\": \"\"}, \"baxis\": {\"gridcolor\": \"white\", \"linecolor\": \"white\", \"ticks\": \"\"}, \"bgcolor\": \"#E5ECF6\", \"caxis\": {\"gridcolor\": \"white\", \"linecolor\": \"white\", \"ticks\": \"\"}}, \"title\": {\"x\": 0.05}, \"xaxis\": {\"automargin\": true, \"gridcolor\": \"white\", \"linecolor\": \"white\", \"ticks\": \"\", \"title\": {\"standoff\": 15}, \"zerolinecolor\": \"white\", \"zerolinewidth\": 2}, \"yaxis\": {\"automargin\": true, \"gridcolor\": \"white\", \"linecolor\": \"white\", \"ticks\": \"\", \"title\": {\"standoff\": 15}, \"zerolinecolor\": \"white\", \"zerolinewidth\": 2}}}, \"title\": {\"text\": \"39682\"}, \"width\": 1200, \"xaxis\": {\"anchor\": \"y\", \"domain\": [0.0, 1.0]}, \"xaxis2\": {\"anchor\": \"y2\", \"domain\": [0.0, 1.0]}, \"xaxis3\": {\"anchor\": \"y3\", \"domain\": [0.0, 1.0]}, \"xaxis4\": {\"anchor\": \"y4\", \"domain\": [0.0, 1.0]}, \"xaxis5\": {\"anchor\": \"y5\", \"domain\": [0.0, 1.0]}, \"yaxis\": {\"anchor\": \"x\", \"domain\": [0.88, 1.0]}, \"yaxis2\": {\"anchor\": \"x2\", \"domain\": [0.66, 0.78]}, \"yaxis3\": {\"anchor\": \"x3\", \"domain\": [0.44, 0.56]}, \"yaxis4\": {\"anchor\": \"x4\", \"domain\": [0.22, 0.33999999999999997]}, \"yaxis5\": {\"anchor\": \"x5\", \"domain\": [0.0, 0.12]}},\n",
              "                        {\"responsive\": true}\n",
              "                    ).then(function(){\n",
              "                            \n",
              "var gd = document.getElementById('f205bc19-a055-404d-b52a-01773c0e705f');\n",
              "var x = new MutationObserver(function (mutations, observer) {{\n",
              "        var display = window.getComputedStyle(gd).display;\n",
              "        if (!display || display === 'none') {{\n",
              "            console.log([gd, 'removed!']);\n",
              "            Plotly.purge(gd);\n",
              "            observer.disconnect();\n",
              "        }}\n",
              "}});\n",
              "\n",
              "// Listen for the removal of the full notebook cells\n",
              "var notebookContainer = gd.closest('#notebook-container');\n",
              "if (notebookContainer) {{\n",
              "    x.observe(notebookContainer, {childList: true});\n",
              "}}\n",
              "\n",
              "// Listen for the clearing of the current output cell\n",
              "var outputEl = gd.closest('.output');\n",
              "if (outputEl) {{\n",
              "    x.observe(outputEl, {childList: true});\n",
              "}}\n",
              "\n",
              "                        })\n",
              "                };\n",
              "                \n",
              "            </script>\n",
              "        </div>\n",
              "</body>\n",
              "</html>"
            ]
          },
          "metadata": {
            "tags": []
          }
        },
        {
          "output_type": "stream",
          "text": [
            "error calculate process performance\n",
            "error calculate process performance\n",
            "error calculate process performance\n",
            "error calculate process performance\n",
            "error calculate process performance\n",
            "error calculate process performance\n"
          ],
          "name": "stdout"
        },
        {
          "output_type": "display_data",
          "data": {
            "text/html": [
              "<html>\n",
              "<head><meta charset=\"utf-8\" /></head>\n",
              "<body>\n",
              "    <div>\n",
              "            <script src=\"https://cdnjs.cloudflare.com/ajax/libs/mathjax/2.7.5/MathJax.js?config=TeX-AMS-MML_SVG\"></script><script type=\"text/javascript\">if (window.MathJax) {MathJax.Hub.Config({SVG: {font: \"STIX-Web\"}});}</script>\n",
              "                <script type=\"text/javascript\">window.PlotlyConfig = {MathJaxConfig: 'local'};</script>\n",
              "        <script src=\"https://cdn.plot.ly/plotly-latest.min.js\"></script>    \n",
              "            <div id=\"3f713d26-5da1-4811-800f-23e007ea6b1a\" class=\"plotly-graph-div\" style=\"height:1200px; width:1200px;\"></div>\n",
              "            <script type=\"text/javascript\">\n",
              "                \n",
              "                    window.PLOTLYENV=window.PLOTLYENV || {};\n",
              "                    \n",
              "                if (document.getElementById(\"3f713d26-5da1-4811-800f-23e007ea6b1a\")) {\n",
              "                    Plotly.newPlot(\n",
              "                        '3f713d26-5da1-4811-800f-23e007ea6b1a',\n",
              "                        [{\"line\": {\"color\": \"#4280F5\"}, \"mode\": \"lines+markers\", \"name\": \"mean Hinge Dim F\", \"type\": \"scatter\", \"x\": [\"2020-08-14T17:00:00\", \"2020-08-15T08:00:00\", \"2020-08-15T16:00:00\", \"2020-08-17T09:00:00\", \"2020-08-17T17:00:00\", \"2020-08-20T09:00:00\", \"2020-08-20T16:00:00\", \"2020-08-21T16:00:00\", \"2020-08-22T08:00:00\", \"2020-08-22T17:00:00\", \"2020-08-24T12:00:00\", \"2020-08-25T17:00:00\", \"2020-08-26T09:00:00\", \"2020-08-26T16:00:00\", \"2020-08-27T08:00:00\", \"2020-08-27T19:00:00\", \"2020-08-28T10:00:00\", \"2020-08-28T16:00:00\", \"2020-08-29T12:00:00\", \"2020-08-29T15:00:00\", \"2020-08-31T08:00:00\", \"2020-08-31T16:00:00\", \"2020-09-01T16:00:00\", \"2020-09-03T08:00:00\", \"2020-09-03T17:00:00\", \"2020-09-04T09:00:00\", \"2020-09-04T16:00:00\", \"2020-09-05T08:00:00\", \"2020-09-07T09:00:00\", \"2020-09-08T10:00:00\", \"2020-09-08T16:00:00\"], \"xaxis\": \"x\", \"y\": [0.2378000020980835, 0.2443999946117401, 0.24379999935626984, 0.24500000476837158, 0.23759999871253967, 0.2409999966621399, 0.2433999925851822, 0.23960000276565552, 0.23960000276565552, 0.24239999055862427, 0.23659999668598175, 0.23759999871253967, 0.24040000140666962, 0.2362000048160553, 0.23399999737739563, 0.2240000069141388, 0.23666666448116302, 0.2396666705608368, 0.22499999403953552, 0.24133333563804626, 0.23800000548362732, 0.2329999953508377, 0.24033333361148834, 0.22966666519641876, 0.2290000021457672, 0.23633334040641785, 0.23000000417232513, 0.24133333563804626, 0.23266665637493134, 0.23399999737739563, 0.23133333027362823], \"yaxis\": \"y\"}, {\"line\": {\"color\": \"#FF5733\"}, \"mode\": \"lines\", \"name\": \"USL Hinge Dim F\", \"type\": \"scatter\", \"x\": [\"2020-08-14T17:00:00\", \"2020-08-15T08:00:00\", \"2020-08-15T16:00:00\", \"2020-08-17T09:00:00\", \"2020-08-17T17:00:00\", \"2020-08-20T09:00:00\", \"2020-08-20T16:00:00\", \"2020-08-21T16:00:00\", \"2020-08-22T08:00:00\", \"2020-08-22T17:00:00\", \"2020-08-24T12:00:00\", \"2020-08-25T17:00:00\", \"2020-08-26T09:00:00\", \"2020-08-26T16:00:00\", \"2020-08-27T08:00:00\", \"2020-08-27T19:00:00\", \"2020-08-28T10:00:00\", \"2020-08-28T16:00:00\", \"2020-08-29T12:00:00\", \"2020-08-29T15:00:00\", \"2020-08-31T08:00:00\", \"2020-08-31T16:00:00\", \"2020-09-01T16:00:00\", \"2020-09-03T08:00:00\", \"2020-09-03T17:00:00\", \"2020-09-04T09:00:00\", \"2020-09-04T16:00:00\", \"2020-09-05T08:00:00\", \"2020-09-07T09:00:00\", \"2020-09-08T10:00:00\", \"2020-09-08T16:00:00\"], \"xaxis\": \"x\", \"y\": [0.25, 0.25, 0.25, 0.25, 0.25, 0.25, 0.25, 0.25, 0.25, 0.25, 0.25, 0.25, 0.25, 0.25, 0.25, 0.25, 0.25, 0.25, 0.25, 0.25, 0.25, 0.25, 0.25, 0.25, 0.25, 0.25, 0.25, 0.25, 0.25, 0.25, 0.25], \"yaxis\": \"y\"}, {\"line\": {\"color\": \"#FF5733\"}, \"mode\": \"lines\", \"name\": \"LSL Hinge Dim F\", \"type\": \"scatter\", \"x\": [\"2020-08-14T17:00:00\", \"2020-08-15T08:00:00\", \"2020-08-15T16:00:00\", \"2020-08-17T09:00:00\", \"2020-08-17T17:00:00\", \"2020-08-20T09:00:00\", \"2020-08-20T16:00:00\", \"2020-08-21T16:00:00\", \"2020-08-22T08:00:00\", \"2020-08-22T17:00:00\", \"2020-08-24T12:00:00\", \"2020-08-25T17:00:00\", \"2020-08-26T09:00:00\", \"2020-08-26T16:00:00\", \"2020-08-27T08:00:00\", \"2020-08-27T19:00:00\", \"2020-08-28T10:00:00\", \"2020-08-28T16:00:00\", \"2020-08-29T12:00:00\", \"2020-08-29T15:00:00\", \"2020-08-31T08:00:00\", \"2020-08-31T16:00:00\", \"2020-09-01T16:00:00\", \"2020-09-03T08:00:00\", \"2020-09-03T17:00:00\", \"2020-09-04T09:00:00\", \"2020-09-04T16:00:00\", \"2020-09-05T08:00:00\", \"2020-09-07T09:00:00\", \"2020-09-08T10:00:00\", \"2020-09-08T16:00:00\"], \"xaxis\": \"x\", \"y\": [0.20999999344348907, 0.20999999344348907, 0.20999999344348907, 0.20999999344348907, 0.20999999344348907, 0.20999999344348907, 0.20999999344348907, 0.20999999344348907, 0.20999999344348907, 0.20999999344348907, 0.20999999344348907, 0.20999999344348907, 0.20999999344348907, 0.20999999344348907, 0.20999999344348907, 0.20999999344348907, 0.20999999344348907, 0.20999999344348907, 0.20999999344348907, 0.20999999344348907, 0.20999999344348907, 0.20999999344348907, 0.20999999344348907, 0.20999999344348907, 0.20999999344348907, 0.20999999344348907, 0.20999999344348907, 0.20999999344348907, 0.20999999344348907, 0.20999999344348907, 0.20999999344348907], \"yaxis\": \"y\"}, {\"line\": {\"color\": \"#33C2FF\"}, \"mode\": \"lines\", \"name\": \"UCL Hinge Dim F\", \"type\": \"scatter\", \"x\": [\"2020-08-14T17:00:00\", \"2020-08-15T08:00:00\", \"2020-08-15T16:00:00\", \"2020-08-17T09:00:00\", \"2020-08-17T17:00:00\", \"2020-08-20T09:00:00\", \"2020-08-20T16:00:00\", \"2020-08-21T16:00:00\", \"2020-08-22T08:00:00\", \"2020-08-22T17:00:00\", \"2020-08-24T12:00:00\", \"2020-08-25T17:00:00\", \"2020-08-26T09:00:00\", \"2020-08-26T16:00:00\", \"2020-08-27T08:00:00\", \"2020-08-27T19:00:00\", \"2020-08-28T10:00:00\", \"2020-08-28T16:00:00\", \"2020-08-29T12:00:00\", \"2020-08-29T15:00:00\", \"2020-08-31T08:00:00\", \"2020-08-31T16:00:00\", \"2020-09-01T16:00:00\", \"2020-09-03T08:00:00\", \"2020-09-03T17:00:00\", \"2020-09-04T09:00:00\", \"2020-09-04T16:00:00\", \"2020-09-05T08:00:00\", \"2020-09-07T09:00:00\", \"2020-09-08T10:00:00\", \"2020-09-08T16:00:00\"], \"xaxis\": \"x\", \"y\": [0.25600001215934753, 0.25600001215934753, 0.25600001215934753, 0.25600001215934753, 0.25600001215934753, 0.25600001215934753, 0.25600001215934753, 0.2590000033378601, 0.2590000033378601, 0.2590000033378601, 0.2590000033378601, 0.2590000033378601, 0.2590000033378601, 0.2590000033378601, 0.2590000033378601, 0.2590000033378601, 0.2590000033378601, 0.25600001215934753, 0.25600001215934753, 0.25600001215934753, 0.25600001215934753, 0.25600001215934753, 0.25600001215934753, 0.25600001215934753, 0.25600001215934753, 0.25600001215934753, 0.25600001215934753, 0.25600001215934753, 0.25600001215934753, 0.25600001215934753, 0.25600001215934753], \"yaxis\": \"y\"}, {\"line\": {\"color\": \"#33C2FF\"}, \"mode\": \"lines\", \"name\": \"LCL Hinge Dim F\", \"type\": \"scatter\", \"x\": [\"2020-08-14T17:00:00\", \"2020-08-15T08:00:00\", \"2020-08-15T16:00:00\", \"2020-08-17T09:00:00\", \"2020-08-17T17:00:00\", \"2020-08-20T09:00:00\", \"2020-08-20T16:00:00\", \"2020-08-21T16:00:00\", \"2020-08-22T08:00:00\", \"2020-08-22T17:00:00\", \"2020-08-24T12:00:00\", \"2020-08-25T17:00:00\", \"2020-08-26T09:00:00\", \"2020-08-26T16:00:00\", \"2020-08-27T08:00:00\", \"2020-08-27T19:00:00\", \"2020-08-28T10:00:00\", \"2020-08-28T16:00:00\", \"2020-08-29T12:00:00\", \"2020-08-29T15:00:00\", \"2020-08-31T08:00:00\", \"2020-08-31T16:00:00\", \"2020-09-01T16:00:00\", \"2020-09-03T08:00:00\", \"2020-09-03T17:00:00\", \"2020-09-04T09:00:00\", \"2020-09-04T16:00:00\", \"2020-09-05T08:00:00\", \"2020-09-07T09:00:00\", \"2020-09-08T10:00:00\", \"2020-09-08T16:00:00\"], \"xaxis\": \"x\", \"y\": [0.2280000001192093, 0.2280000001192093, 0.2280000001192093, 0.2280000001192093, 0.2280000001192093, 0.2280000001192093, 0.2280000001192093, 0.21400000154972076, 0.21400000154972076, 0.21400000154972076, 0.21400000154972076, 0.21400000154972076, 0.21400000154972076, 0.21400000154972076, 0.21400000154972076, 0.21400000154972076, 0.21400000154972076, 0.21299999952316284, 0.21299999952316284, 0.21299999952316284, 0.21299999952316284, 0.21299999952316284, 0.21299999952316284, 0.21299999952316284, 0.21299999952316284, 0.21299999952316284, 0.21199999749660492, 0.21199999749660492, 0.21199999749660492, 0.21199999749660492, 0.21199999749660492], \"yaxis\": \"y\"}, {\"line\": {\"color\": \"#33C2FF\"}, \"mode\": \"lines\", \"name\": \"Mean Hinge Dim F\", \"type\": \"scatter\", \"x\": [\"2020-08-14T17:00:00\", \"2020-08-15T08:00:00\", \"2020-08-15T16:00:00\", \"2020-08-17T09:00:00\", \"2020-08-17T17:00:00\", \"2020-08-20T09:00:00\", \"2020-08-20T16:00:00\", \"2020-08-21T16:00:00\", \"2020-08-22T08:00:00\", \"2020-08-22T17:00:00\", \"2020-08-24T12:00:00\", \"2020-08-25T17:00:00\", \"2020-08-26T09:00:00\", \"2020-08-26T16:00:00\", \"2020-08-27T08:00:00\", \"2020-08-27T19:00:00\", \"2020-08-28T10:00:00\", \"2020-08-28T16:00:00\", \"2020-08-29T12:00:00\", \"2020-08-29T15:00:00\", \"2020-08-31T08:00:00\", \"2020-08-31T16:00:00\", \"2020-09-01T16:00:00\", \"2020-09-03T08:00:00\", \"2020-09-03T17:00:00\", \"2020-09-04T09:00:00\", \"2020-09-04T16:00:00\", \"2020-09-05T08:00:00\", \"2020-09-07T09:00:00\", \"2020-09-08T10:00:00\", \"2020-09-08T16:00:00\"], \"xaxis\": \"x\", \"y\": [0.24199999868869781, 0.24199999868869781, 0.24199999868869781, 0.24199999868869781, 0.24199999868869781, 0.24199999868869781, 0.24199999868869781, 0.2370000034570694, 0.2370000034570694, 0.2370000034570694, 0.2370000034570694, 0.2370000034570694, 0.2370000034570694, 0.2370000034570694, 0.2370000034570694, 0.2370000034570694, 0.2370000034570694, 0.23499999940395355, 0.23499999940395355, 0.23499999940395355, 0.23499999940395355, 0.23499999940395355, 0.23499999940395355, 0.23499999940395355, 0.23499999940395355, 0.23499999940395355, 0.23399999737739563, 0.23399999737739563, 0.23399999737739563, 0.23399999737739563, 0.23399999737739563], \"yaxis\": \"y\"}, {\"line\": {\"color\": \"#4280F5\"}, \"mode\": \"lines+markers\", \"name\": \"mean Chi\\u1ec1u d\\u00e0i Dim B\", \"type\": \"scatter\", \"x\": [\"2020-08-14T17:00:00\", \"2020-08-15T08:00:00\", \"2020-08-15T16:00:00\", \"2020-08-17T09:00:00\", \"2020-08-17T17:00:00\", \"2020-08-20T09:00:00\", \"2020-08-20T16:00:00\", \"2020-08-21T16:00:00\", \"2020-08-22T08:00:00\", \"2020-08-22T17:00:00\", \"2020-08-24T12:00:00\", \"2020-08-25T17:00:00\", \"2020-08-26T09:00:00\", \"2020-08-26T16:00:00\", \"2020-08-27T08:00:00\", \"2020-08-27T19:00:00\", \"2020-08-28T10:00:00\", \"2020-08-28T16:00:00\", \"2020-08-29T12:00:00\", \"2020-08-29T15:00:00\", \"2020-08-31T08:00:00\", \"2020-08-31T16:00:00\", \"2020-09-01T16:00:00\", \"2020-09-03T08:00:00\", \"2020-09-03T17:00:00\", \"2020-09-04T09:00:00\", \"2020-09-04T16:00:00\", \"2020-09-05T08:00:00\", \"2020-09-07T09:00:00\", \"2020-09-08T10:00:00\", \"2020-09-08T16:00:00\"], \"xaxis\": \"x2\", \"y\": [7.613666534423828, 7.616666793823242, 7.616000175476074, 7.61466646194458, 7.617000102996826, 7.612666606903076, 7.613666534423828, 7.61566686630249, 7.617000102996826, 7.618666648864746, 7.618000030517578, 7.614666938781738, 7.609000205993652, 7.612333297729492, 7.61566686630249, 7.616000175476074, 7.61566686630249, 7.608666896820068, 7.610333442687988, 7.61299991607666, 7.612333297729492, 7.611999988555908, 7.615666389465332, 7.61133337020874, 7.607666492462158, 7.61299991607666, 7.613333225250244, 7.610000133514404, 7.617666721343994, 7.619666576385498, 7.609333515167236], \"yaxis\": \"y2\"}, {\"line\": {\"color\": \"#FF5733\"}, \"mode\": \"lines\", \"name\": \"USL Chi\\u1ec1u d\\u00e0i Dim B\", \"type\": \"scatter\", \"x\": [\"2020-08-14T17:00:00\", \"2020-08-15T08:00:00\", \"2020-08-15T16:00:00\", \"2020-08-17T09:00:00\", \"2020-08-17T17:00:00\", \"2020-08-20T09:00:00\", \"2020-08-20T16:00:00\", \"2020-08-21T16:00:00\", \"2020-08-22T08:00:00\", \"2020-08-22T17:00:00\", \"2020-08-24T12:00:00\", \"2020-08-25T17:00:00\", \"2020-08-26T09:00:00\", \"2020-08-26T16:00:00\", \"2020-08-27T08:00:00\", \"2020-08-27T19:00:00\", \"2020-08-28T10:00:00\", \"2020-08-28T16:00:00\", \"2020-08-29T12:00:00\", \"2020-08-29T15:00:00\", \"2020-08-31T08:00:00\", \"2020-08-31T16:00:00\", \"2020-09-01T16:00:00\", \"2020-09-03T08:00:00\", \"2020-09-03T17:00:00\", \"2020-09-04T09:00:00\", \"2020-09-04T16:00:00\", \"2020-09-05T08:00:00\", \"2020-09-07T09:00:00\", \"2020-09-08T10:00:00\", \"2020-09-08T16:00:00\"], \"xaxis\": \"x2\", \"y\": [7.619999885559082, 7.619999885559082, 7.619999885559082, 7.619999885559082, 7.619999885559082, 7.619999885559082, 7.619999885559082, 7.619999885559082, 7.619999885559082, 7.619999885559082, 7.619999885559082, 7.619999885559082, 7.619999885559082, 7.619999885559082, 7.619999885559082, 7.619999885559082, 7.619999885559082, 7.619999885559082, 7.619999885559082, 7.619999885559082, 7.619999885559082, 7.619999885559082, 7.619999885559082, 7.619999885559082, 7.619999885559082, 7.619999885559082, 7.619999885559082, 7.619999885559082, 7.619999885559082, 7.619999885559082, 7.619999885559082], \"yaxis\": \"y2\"}, {\"line\": {\"color\": \"#FF5733\"}, \"mode\": \"lines\", \"name\": \"LSL Chi\\u1ec1u d\\u00e0i Dim B\", \"type\": \"scatter\", \"x\": [\"2020-08-14T17:00:00\", \"2020-08-15T08:00:00\", \"2020-08-15T16:00:00\", \"2020-08-17T09:00:00\", \"2020-08-17T17:00:00\", \"2020-08-20T09:00:00\", \"2020-08-20T16:00:00\", \"2020-08-21T16:00:00\", \"2020-08-22T08:00:00\", \"2020-08-22T17:00:00\", \"2020-08-24T12:00:00\", \"2020-08-25T17:00:00\", \"2020-08-26T09:00:00\", \"2020-08-26T16:00:00\", \"2020-08-27T08:00:00\", \"2020-08-27T19:00:00\", \"2020-08-28T10:00:00\", \"2020-08-28T16:00:00\", \"2020-08-29T12:00:00\", \"2020-08-29T15:00:00\", \"2020-08-31T08:00:00\", \"2020-08-31T16:00:00\", \"2020-09-01T16:00:00\", \"2020-09-03T08:00:00\", \"2020-09-03T17:00:00\", \"2020-09-04T09:00:00\", \"2020-09-04T16:00:00\", \"2020-09-05T08:00:00\", \"2020-09-07T09:00:00\", \"2020-09-08T10:00:00\", \"2020-09-08T16:00:00\"], \"xaxis\": \"x2\", \"y\": [7.599999904632568, 7.599999904632568, 7.599999904632568, 7.599999904632568, 7.599999904632568, 7.599999904632568, 7.599999904632568, 7.599999904632568, 7.599999904632568, 7.599999904632568, 7.599999904632568, 7.599999904632568, 7.599999904632568, 7.599999904632568, 7.599999904632568, 7.599999904632568, 7.599999904632568, 7.599999904632568, 7.599999904632568, 7.599999904632568, 7.599999904632568, 7.599999904632568, 7.599999904632568, 7.599999904632568, 7.599999904632568, 7.599999904632568, 7.599999904632568, 7.599999904632568, 7.599999904632568, 7.599999904632568, 7.599999904632568], \"yaxis\": \"y2\"}, {\"line\": {\"color\": \"#33C2FF\"}, \"mode\": \"lines\", \"name\": \"UCL Chi\\u1ec1u d\\u00e0i Dim B\", \"type\": \"scatter\", \"x\": [\"2020-08-14T17:00:00\", \"2020-08-15T08:00:00\", \"2020-08-15T16:00:00\", \"2020-08-17T09:00:00\", \"2020-08-17T17:00:00\", \"2020-08-20T09:00:00\", \"2020-08-20T16:00:00\", \"2020-08-21T16:00:00\", \"2020-08-22T08:00:00\", \"2020-08-22T17:00:00\", \"2020-08-24T12:00:00\", \"2020-08-25T17:00:00\", \"2020-08-26T09:00:00\", \"2020-08-26T16:00:00\", \"2020-08-27T08:00:00\", \"2020-08-27T19:00:00\", \"2020-08-28T10:00:00\", \"2020-08-28T16:00:00\", \"2020-08-29T12:00:00\", \"2020-08-29T15:00:00\", \"2020-08-31T08:00:00\", \"2020-08-31T16:00:00\", \"2020-09-01T16:00:00\", \"2020-09-03T08:00:00\", \"2020-09-03T17:00:00\", \"2020-09-04T09:00:00\", \"2020-09-04T16:00:00\", \"2020-09-05T08:00:00\", \"2020-09-07T09:00:00\", \"2020-09-08T10:00:00\", \"2020-09-08T16:00:00\"], \"xaxis\": \"x2\", \"y\": [7.625, 7.625, 7.625, 7.625, 7.625, 7.625, 7.625, 7.626999855041504, 7.626999855041504, 7.626999855041504, 7.626999855041504, 7.626999855041504, 7.626999855041504, 7.626999855041504, 7.626999855041504, 7.626999855041504, 7.626999855041504, 7.627999782562256, 7.627999782562256, 7.627999782562256, 7.627999782562256, 7.627999782562256, 7.627999782562256, 7.627999782562256, 7.627999782562256, 7.627999782562256, 7.630000114440918, 7.630000114440918, 7.630000114440918, 7.630000114440918, 7.630000114440918], \"yaxis\": \"y2\"}, {\"line\": {\"color\": \"#33C2FF\"}, \"mode\": \"lines\", \"name\": \"LCL Chi\\u1ec1u d\\u00e0i Dim B\", \"type\": \"scatter\", \"x\": [\"2020-08-14T17:00:00\", \"2020-08-15T08:00:00\", \"2020-08-15T16:00:00\", \"2020-08-17T09:00:00\", \"2020-08-17T17:00:00\", \"2020-08-20T09:00:00\", \"2020-08-20T16:00:00\", \"2020-08-21T16:00:00\", \"2020-08-22T08:00:00\", \"2020-08-22T17:00:00\", \"2020-08-24T12:00:00\", \"2020-08-25T17:00:00\", \"2020-08-26T09:00:00\", \"2020-08-26T16:00:00\", \"2020-08-27T08:00:00\", \"2020-08-27T19:00:00\", \"2020-08-28T10:00:00\", \"2020-08-28T16:00:00\", \"2020-08-29T12:00:00\", \"2020-08-29T15:00:00\", \"2020-08-31T08:00:00\", \"2020-08-31T16:00:00\", \"2020-09-01T16:00:00\", \"2020-09-03T08:00:00\", \"2020-09-03T17:00:00\", \"2020-09-04T09:00:00\", \"2020-09-04T16:00:00\", \"2020-09-05T08:00:00\", \"2020-09-07T09:00:00\", \"2020-09-08T10:00:00\", \"2020-09-08T16:00:00\"], \"xaxis\": \"x2\", \"y\": [7.604000091552734, 7.604000091552734, 7.604000091552734, 7.604000091552734, 7.604000091552734, 7.604000091552734, 7.604000091552734, 7.604000091552734, 7.604000091552734, 7.604000091552734, 7.604000091552734, 7.604000091552734, 7.604000091552734, 7.604000091552734, 7.604000091552734, 7.604000091552734, 7.604000091552734, 7.59499979019165, 7.59499979019165, 7.59499979019165, 7.59499979019165, 7.59499979019165, 7.59499979019165, 7.59499979019165, 7.59499979019165, 7.59499979019165, 7.5980000495910645, 7.5980000495910645, 7.5980000495910645, 7.5980000495910645, 7.5980000495910645], \"yaxis\": \"y2\"}, {\"line\": {\"color\": \"#33C2FF\"}, \"mode\": \"lines\", \"name\": \"Mean Chi\\u1ec1u d\\u00e0i Dim B\", \"type\": \"scatter\", \"x\": [\"2020-08-14T17:00:00\", \"2020-08-15T08:00:00\", \"2020-08-15T16:00:00\", \"2020-08-17T09:00:00\", \"2020-08-17T17:00:00\", \"2020-08-20T09:00:00\", \"2020-08-20T16:00:00\", \"2020-08-21T16:00:00\", \"2020-08-22T08:00:00\", \"2020-08-22T17:00:00\", \"2020-08-24T12:00:00\", \"2020-08-25T17:00:00\", \"2020-08-26T09:00:00\", \"2020-08-26T16:00:00\", \"2020-08-27T08:00:00\", \"2020-08-27T19:00:00\", \"2020-08-28T10:00:00\", \"2020-08-28T16:00:00\", \"2020-08-29T12:00:00\", \"2020-08-29T15:00:00\", \"2020-08-31T08:00:00\", \"2020-08-31T16:00:00\", \"2020-09-01T16:00:00\", \"2020-09-03T08:00:00\", \"2020-09-03T17:00:00\", \"2020-09-04T09:00:00\", \"2020-09-04T16:00:00\", \"2020-09-05T08:00:00\", \"2020-09-07T09:00:00\", \"2020-09-08T10:00:00\", \"2020-09-08T16:00:00\"], \"xaxis\": \"x2\", \"y\": [7.614999771118164, 7.614999771118164, 7.614999771118164, 7.614999771118164, 7.614999771118164, 7.614999771118164, 7.614999771118164, 7.614999771118164, 7.614999771118164, 7.614999771118164, 7.614999771118164, 7.614999771118164, 7.614999771118164, 7.614999771118164, 7.614999771118164, 7.614999771118164, 7.614999771118164, 7.611999988555908, 7.611999988555908, 7.611999988555908, 7.611999988555908, 7.611999988555908, 7.611999988555908, 7.611999988555908, 7.611999988555908, 7.611999988555908, 7.613999843597412, 7.613999843597412, 7.613999843597412, 7.613999843597412, 7.613999843597412], \"yaxis\": \"y2\"}, {\"line\": {\"color\": \"#4280F5\"}, \"mode\": \"lines+markers\", \"name\": \"mean Chi\\u1ec1u r\\u1ed9ng Dim A\", \"type\": \"scatter\", \"x\": [\"2020-08-14T17:00:00\", \"2020-08-15T08:00:00\", \"2020-08-15T16:00:00\", \"2020-08-17T09:00:00\", \"2020-08-17T17:00:00\", \"2020-08-20T09:00:00\", \"2020-08-20T16:00:00\", \"2020-08-21T16:00:00\", \"2020-08-22T08:00:00\", \"2020-08-22T17:00:00\", \"2020-08-24T12:00:00\", \"2020-08-25T17:00:00\", \"2020-08-26T09:00:00\", \"2020-08-26T16:00:00\", \"2020-08-27T08:00:00\", \"2020-08-27T19:00:00\", \"2020-08-28T10:00:00\", \"2020-08-28T16:00:00\", \"2020-08-29T12:00:00\", \"2020-08-29T15:00:00\", \"2020-08-31T08:00:00\", \"2020-08-31T16:00:00\", \"2020-09-01T16:00:00\", \"2020-09-03T08:00:00\", \"2020-09-03T17:00:00\", \"2020-09-04T09:00:00\", \"2020-09-04T16:00:00\", \"2020-09-05T08:00:00\", \"2020-09-07T09:00:00\", \"2020-09-08T10:00:00\", \"2020-09-08T16:00:00\"], \"xaxis\": \"x3\", \"y\": [3.8283333778381348, 3.8303334712982178, 3.8266665935516357, 3.8253333568573, 3.8299999237060547, 3.822666645050049, 3.8266665935516357, 3.8366665840148926, 3.8303332328796387, 3.8343334197998047, 3.8350000381469727, 3.8263332843780518, 3.8303332328796387, 3.828000068664551, 3.8283333778381348, 3.8303332328796387, 3.8326666355133057, 3.8286666870117188, 3.825000047683716, 3.8239998817443848, 3.828000068664551, 3.8356666564941406, 3.8283333778381348, 3.8286666870117188, 3.8286666870117188, 3.8273332118988037, 3.8369998931884766, 3.824333429336548, 3.8356666564941406, 3.8286666870117188, 3.8283333778381348], \"yaxis\": \"y3\"}, {\"line\": {\"color\": \"#FF5733\"}, \"mode\": \"lines\", \"name\": \"USL Chi\\u1ec1u r\\u1ed9ng Dim A\", \"type\": \"scatter\", \"x\": [\"2020-08-14T17:00:00\", \"2020-08-15T08:00:00\", \"2020-08-15T16:00:00\", \"2020-08-17T09:00:00\", \"2020-08-17T17:00:00\", \"2020-08-20T09:00:00\", \"2020-08-20T16:00:00\", \"2020-08-21T16:00:00\", \"2020-08-22T08:00:00\", \"2020-08-22T17:00:00\", \"2020-08-24T12:00:00\", \"2020-08-25T17:00:00\", \"2020-08-26T09:00:00\", \"2020-08-26T16:00:00\", \"2020-08-27T08:00:00\", \"2020-08-27T19:00:00\", \"2020-08-28T10:00:00\", \"2020-08-28T16:00:00\", \"2020-08-29T12:00:00\", \"2020-08-29T15:00:00\", \"2020-08-31T08:00:00\", \"2020-08-31T16:00:00\", \"2020-09-01T16:00:00\", \"2020-09-03T08:00:00\", \"2020-09-03T17:00:00\", \"2020-09-04T09:00:00\", \"2020-09-04T16:00:00\", \"2020-09-05T08:00:00\", \"2020-09-07T09:00:00\", \"2020-09-08T10:00:00\", \"2020-09-08T16:00:00\"], \"xaxis\": \"x3\", \"y\": [3.8399999141693115, 3.8399999141693115, 3.8399999141693115, 3.8399999141693115, 3.8399999141693115, 3.8399999141693115, 3.8399999141693115, 3.8399999141693115, 3.8399999141693115, 3.8399999141693115, 3.8399999141693115, 3.8399999141693115, 3.8399999141693115, 3.8399999141693115, 3.8399999141693115, 3.8399999141693115, 3.8399999141693115, 3.8399999141693115, 3.8399999141693115, 3.8399999141693115, 3.8399999141693115, 3.8399999141693115, 3.8399999141693115, 3.8399999141693115, 3.8399999141693115, 3.8399999141693115, 3.8399999141693115, 3.8399999141693115, 3.8399999141693115, 3.8399999141693115, 3.8399999141693115], \"yaxis\": \"y3\"}, {\"line\": {\"color\": \"#FF5733\"}, \"mode\": \"lines\", \"name\": \"LSL Chi\\u1ec1u r\\u1ed9ng Dim A\", \"type\": \"scatter\", \"x\": [\"2020-08-14T17:00:00\", \"2020-08-15T08:00:00\", \"2020-08-15T16:00:00\", \"2020-08-17T09:00:00\", \"2020-08-17T17:00:00\", \"2020-08-20T09:00:00\", \"2020-08-20T16:00:00\", \"2020-08-21T16:00:00\", \"2020-08-22T08:00:00\", \"2020-08-22T17:00:00\", \"2020-08-24T12:00:00\", \"2020-08-25T17:00:00\", \"2020-08-26T09:00:00\", \"2020-08-26T16:00:00\", \"2020-08-27T08:00:00\", \"2020-08-27T19:00:00\", \"2020-08-28T10:00:00\", \"2020-08-28T16:00:00\", \"2020-08-29T12:00:00\", \"2020-08-29T15:00:00\", \"2020-08-31T08:00:00\", \"2020-08-31T16:00:00\", \"2020-09-01T16:00:00\", \"2020-09-03T08:00:00\", \"2020-09-03T17:00:00\", \"2020-09-04T09:00:00\", \"2020-09-04T16:00:00\", \"2020-09-05T08:00:00\", \"2020-09-07T09:00:00\", \"2020-09-08T10:00:00\", \"2020-09-08T16:00:00\"], \"xaxis\": \"x3\", \"y\": [3.819999933242798, 3.819999933242798, 3.819999933242798, 3.819999933242798, 3.819999933242798, 3.819999933242798, 3.819999933242798, 3.819999933242798, 3.819999933242798, 3.819999933242798, 3.819999933242798, 3.819999933242798, 3.819999933242798, 3.819999933242798, 3.819999933242798, 3.819999933242798, 3.819999933242798, 3.819999933242798, 3.819999933242798, 3.819999933242798, 3.819999933242798, 3.819999933242798, 3.819999933242798, 3.819999933242798, 3.819999933242798, 3.819999933242798, 3.819999933242798, 3.819999933242798, 3.819999933242798, 3.819999933242798, 3.819999933242798], \"yaxis\": \"y3\"}, {\"line\": {\"color\": \"#33C2FF\"}, \"mode\": \"lines\", \"name\": \"UCL Chi\\u1ec1u r\\u1ed9ng Dim A\", \"type\": \"scatter\", \"x\": [\"2020-08-14T17:00:00\", \"2020-08-15T08:00:00\", \"2020-08-15T16:00:00\", \"2020-08-17T09:00:00\", \"2020-08-17T17:00:00\", \"2020-08-20T09:00:00\", \"2020-08-20T16:00:00\", \"2020-08-21T16:00:00\", \"2020-08-22T08:00:00\", \"2020-08-22T17:00:00\", \"2020-08-24T12:00:00\", \"2020-08-25T17:00:00\", \"2020-08-26T09:00:00\", \"2020-08-26T16:00:00\", \"2020-08-27T08:00:00\", \"2020-08-27T19:00:00\", \"2020-08-28T10:00:00\", \"2020-08-28T16:00:00\", \"2020-08-29T12:00:00\", \"2020-08-29T15:00:00\", \"2020-08-31T08:00:00\", \"2020-08-31T16:00:00\", \"2020-09-01T16:00:00\", \"2020-09-03T08:00:00\", \"2020-09-03T17:00:00\", \"2020-09-04T09:00:00\", \"2020-09-04T16:00:00\", \"2020-09-05T08:00:00\", \"2020-09-07T09:00:00\", \"2020-09-08T10:00:00\", \"2020-09-08T16:00:00\"], \"xaxis\": \"x3\", \"y\": [3.8389999866485596, 3.8389999866485596, 3.8389999866485596, 3.8389999866485596, 3.8389999866485596, 3.8389999866485596, 3.8389999866485596, 3.8450000286102295, 3.8450000286102295, 3.8450000286102295, 3.8450000286102295, 3.8450000286102295, 3.8450000286102295, 3.8450000286102295, 3.8450000286102295, 3.8450000286102295, 3.8450000286102295, 3.8410000801086426, 3.8410000801086426, 3.8410000801086426, 3.8410000801086426, 3.8410000801086426, 3.8410000801086426, 3.8410000801086426, 3.8410000801086426, 3.8410000801086426, 3.8489999771118164, 3.8489999771118164, 3.8489999771118164, 3.8489999771118164, 3.8489999771118164], \"yaxis\": \"y3\"}, {\"line\": {\"color\": \"#33C2FF\"}, \"mode\": \"lines\", \"name\": \"LCL Chi\\u1ec1u r\\u1ed9ng Dim A\", \"type\": \"scatter\", \"x\": [\"2020-08-14T17:00:00\", \"2020-08-15T08:00:00\", \"2020-08-15T16:00:00\", \"2020-08-17T09:00:00\", \"2020-08-17T17:00:00\", \"2020-08-20T09:00:00\", \"2020-08-20T16:00:00\", \"2020-08-21T16:00:00\", \"2020-08-22T08:00:00\", \"2020-08-22T17:00:00\", \"2020-08-24T12:00:00\", \"2020-08-25T17:00:00\", \"2020-08-26T09:00:00\", \"2020-08-26T16:00:00\", \"2020-08-27T08:00:00\", \"2020-08-27T19:00:00\", \"2020-08-28T10:00:00\", \"2020-08-28T16:00:00\", \"2020-08-29T12:00:00\", \"2020-08-29T15:00:00\", \"2020-08-31T08:00:00\", \"2020-08-31T16:00:00\", \"2020-09-01T16:00:00\", \"2020-09-03T08:00:00\", \"2020-09-03T17:00:00\", \"2020-09-04T09:00:00\", \"2020-09-04T16:00:00\", \"2020-09-05T08:00:00\", \"2020-09-07T09:00:00\", \"2020-09-08T10:00:00\", \"2020-09-08T16:00:00\"], \"xaxis\": \"x3\", \"y\": [3.815000057220459, 3.815000057220459, 3.815000057220459, 3.815000057220459, 3.815000057220459, 3.815000057220459, 3.815000057220459, 3.818000078201294, 3.818000078201294, 3.818000078201294, 3.818000078201294, 3.818000078201294, 3.818000078201294, 3.818000078201294, 3.818000078201294, 3.818000078201294, 3.818000078201294, 3.815000057220459, 3.815000057220459, 3.815000057220459, 3.815000057220459, 3.815000057220459, 3.815000057220459, 3.815000057220459, 3.815000057220459, 3.815000057220459, 3.812999963760376, 3.812999963760376, 3.812999963760376, 3.812999963760376, 3.812999963760376], \"yaxis\": \"y3\"}, {\"line\": {\"color\": \"#33C2FF\"}, \"mode\": \"lines\", \"name\": \"Mean Chi\\u1ec1u r\\u1ed9ng Dim A\", \"type\": \"scatter\", \"x\": [\"2020-08-14T17:00:00\", \"2020-08-15T08:00:00\", \"2020-08-15T16:00:00\", \"2020-08-17T09:00:00\", \"2020-08-17T17:00:00\", \"2020-08-20T09:00:00\", \"2020-08-20T16:00:00\", \"2020-08-21T16:00:00\", \"2020-08-22T08:00:00\", \"2020-08-22T17:00:00\", \"2020-08-24T12:00:00\", \"2020-08-25T17:00:00\", \"2020-08-26T09:00:00\", \"2020-08-26T16:00:00\", \"2020-08-27T08:00:00\", \"2020-08-27T19:00:00\", \"2020-08-28T10:00:00\", \"2020-08-28T16:00:00\", \"2020-08-29T12:00:00\", \"2020-08-29T15:00:00\", \"2020-08-31T08:00:00\", \"2020-08-31T16:00:00\", \"2020-09-01T16:00:00\", \"2020-09-03T08:00:00\", \"2020-09-03T17:00:00\", \"2020-09-04T09:00:00\", \"2020-09-04T16:00:00\", \"2020-09-05T08:00:00\", \"2020-09-07T09:00:00\", \"2020-09-08T10:00:00\", \"2020-09-08T16:00:00\"], \"xaxis\": \"x3\", \"y\": [3.8269999027252197, 3.8269999027252197, 3.8269999027252197, 3.8269999027252197, 3.8269999027252197, 3.8269999027252197, 3.8269999027252197, 3.8310000896453857, 3.8310000896453857, 3.8310000896453857, 3.8310000896453857, 3.8310000896453857, 3.8310000896453857, 3.8310000896453857, 3.8310000896453857, 3.8310000896453857, 3.8310000896453857, 3.828000068664551, 3.828000068664551, 3.828000068664551, 3.828000068664551, 3.828000068664551, 3.828000068664551, 3.828000068664551, 3.828000068664551, 3.828000068664551, 3.8310000896453857, 3.8310000896453857, 3.8310000896453857, 3.8310000896453857, 3.8310000896453857], \"yaxis\": \"y3\"}, {\"line\": {\"color\": \"#4280F5\"}, \"mode\": \"lines+markers\", \"name\": \"mean L.T\\u00e2m Dim N\", \"type\": \"scatter\", \"x\": [\"2020-08-14T17:00:00\", \"2020-08-15T08:00:00\", \"2020-08-15T16:00:00\", \"2020-08-17T09:00:00\", \"2020-08-17T17:00:00\", \"2020-08-20T09:00:00\", \"2020-08-20T16:00:00\", \"2020-08-21T16:00:00\", \"2020-08-22T08:00:00\", \"2020-08-22T17:00:00\", \"2020-08-24T12:00:00\", \"2020-08-25T17:00:00\", \"2020-08-26T09:00:00\", \"2020-08-26T16:00:00\", \"2020-08-27T08:00:00\", \"2020-08-27T19:00:00\", \"2020-08-28T10:00:00\", \"2020-08-28T16:00:00\", \"2020-08-29T12:00:00\", \"2020-08-29T15:00:00\", \"2020-08-31T08:00:00\", \"2020-08-31T16:00:00\", \"2020-09-01T16:00:00\", \"2020-09-03T08:00:00\", \"2020-09-03T17:00:00\", \"2020-09-04T09:00:00\", \"2020-09-04T16:00:00\", \"2020-09-05T08:00:00\", \"2020-09-07T09:00:00\", \"2020-09-08T10:00:00\", \"2020-09-08T16:00:00\"], \"xaxis\": \"x4\", \"y\": [0.008999999612569809, 0.009000000543892384, 0.003666666802018881, 0.013000000268220901, 0.00800000037997961, 0.006333332974463701, 0.005333333276212215, 0.005333333276212215, 0.00800000037997961, 0.0063333334401249886, 0.008333333767950535, 0.007333333604037762, 0.005333333276212215, 0.009999999776482582, 0.013666666112840176, 0.009999999776482582, 0.004999999888241291, 0.00800000037997961, 0.009333333000540733, 0.009666666388511658, 0.007666666526347399, 0.009000000543892384, 0.005000000353902578, 0.007333333604037762, 0.006000000052154064, 0.018333332613110542, 0.008333333767950535, 0.01666666753590107, 0.008666666224598885, 0.00433333357796073, 0.009999999776482582], \"yaxis\": \"y4\"}, {\"line\": {\"color\": \"#FF5733\"}, \"mode\": \"lines\", \"name\": \"USL L.T\\u00e2m Dim N\", \"type\": \"scatter\", \"x\": [\"2020-08-14T17:00:00\", \"2020-08-15T08:00:00\", \"2020-08-15T16:00:00\", \"2020-08-17T09:00:00\", \"2020-08-17T17:00:00\", \"2020-08-20T09:00:00\", \"2020-08-20T16:00:00\", \"2020-08-21T16:00:00\", \"2020-08-22T08:00:00\", \"2020-08-22T17:00:00\", \"2020-08-24T12:00:00\", \"2020-08-25T17:00:00\", \"2020-08-26T09:00:00\", \"2020-08-26T16:00:00\", \"2020-08-27T08:00:00\", \"2020-08-27T19:00:00\", \"2020-08-28T10:00:00\", \"2020-08-28T16:00:00\", \"2020-08-29T12:00:00\", \"2020-08-29T15:00:00\", \"2020-08-31T08:00:00\", \"2020-08-31T16:00:00\", \"2020-09-01T16:00:00\", \"2020-09-03T08:00:00\", \"2020-09-03T17:00:00\", \"2020-09-04T09:00:00\", \"2020-09-04T16:00:00\", \"2020-09-05T08:00:00\", \"2020-09-07T09:00:00\", \"2020-09-08T10:00:00\", \"2020-09-08T16:00:00\"], \"xaxis\": \"x4\", \"y\": [0.02500000037252903, 0.02500000037252903, 0.02500000037252903, 0.02500000037252903, 0.02500000037252903, 0.02500000037252903, 0.02500000037252903, 0.02500000037252903, 0.02500000037252903, 0.02500000037252903, 0.02500000037252903, 0.02500000037252903, 0.02500000037252903, 0.02500000037252903, 0.02500000037252903, 0.02500000037252903, 0.02500000037252903, 0.02500000037252903, 0.02500000037252903, 0.02500000037252903, 0.02500000037252903, 0.02500000037252903, 0.02500000037252903, 0.02500000037252903, 0.02500000037252903, 0.02500000037252903, 0.02500000037252903, 0.02500000037252903, 0.02500000037252903, 0.02500000037252903, 0.02500000037252903], \"yaxis\": \"y4\"}, {\"line\": {\"color\": \"#FF5733\"}, \"mode\": \"lines\", \"name\": \"LSL L.T\\u00e2m Dim N\", \"type\": \"scatter\", \"x\": [\"2020-08-14T17:00:00\", \"2020-08-15T08:00:00\", \"2020-08-15T16:00:00\", \"2020-08-17T09:00:00\", \"2020-08-17T17:00:00\", \"2020-08-20T09:00:00\", \"2020-08-20T16:00:00\", \"2020-08-21T16:00:00\", \"2020-08-22T08:00:00\", \"2020-08-22T17:00:00\", \"2020-08-24T12:00:00\", \"2020-08-25T17:00:00\", \"2020-08-26T09:00:00\", \"2020-08-26T16:00:00\", \"2020-08-27T08:00:00\", \"2020-08-27T19:00:00\", \"2020-08-28T10:00:00\", \"2020-08-28T16:00:00\", \"2020-08-29T12:00:00\", \"2020-08-29T15:00:00\", \"2020-08-31T08:00:00\", \"2020-08-31T16:00:00\", \"2020-09-01T16:00:00\", \"2020-09-03T08:00:00\", \"2020-09-03T17:00:00\", \"2020-09-04T09:00:00\", \"2020-09-04T16:00:00\", \"2020-09-05T08:00:00\", \"2020-09-07T09:00:00\", \"2020-09-08T10:00:00\", \"2020-09-08T16:00:00\"], \"xaxis\": \"x4\", \"y\": [-0.02500000037252903, -0.02500000037252903, -0.02500000037252903, -0.02500000037252903, -0.02500000037252903, -0.02500000037252903, -0.02500000037252903, -0.02500000037252903, -0.02500000037252903, -0.02500000037252903, -0.02500000037252903, -0.02500000037252903, -0.02500000037252903, -0.02500000037252903, -0.02500000037252903, -0.02500000037252903, -0.02500000037252903, -0.02500000037252903, -0.02500000037252903, -0.02500000037252903, -0.02500000037252903, -0.02500000037252903, -0.02500000037252903, -0.02500000037252903, -0.02500000037252903, -0.02500000037252903, -0.02500000037252903, -0.02500000037252903, -0.02500000037252903, -0.02500000037252903, -0.02500000037252903], \"yaxis\": \"y4\"}, {\"line\": {\"color\": \"#33C2FF\"}, \"mode\": \"lines\", \"name\": \"UCL L.T\\u00e2m Dim N\", \"type\": \"scatter\", \"x\": [\"2020-08-14T17:00:00\", \"2020-08-15T08:00:00\", \"2020-08-15T16:00:00\", \"2020-08-17T09:00:00\", \"2020-08-17T17:00:00\", \"2020-08-20T09:00:00\", \"2020-08-20T16:00:00\", \"2020-08-21T16:00:00\", \"2020-08-22T08:00:00\", \"2020-08-22T17:00:00\", \"2020-08-24T12:00:00\", \"2020-08-25T17:00:00\", \"2020-08-26T09:00:00\", \"2020-08-26T16:00:00\", \"2020-08-27T08:00:00\", \"2020-08-27T19:00:00\", \"2020-08-28T10:00:00\", \"2020-08-28T16:00:00\", \"2020-08-29T12:00:00\", \"2020-08-29T15:00:00\", \"2020-08-31T08:00:00\", \"2020-08-31T16:00:00\", \"2020-09-01T16:00:00\", \"2020-09-03T08:00:00\", \"2020-09-03T17:00:00\", \"2020-09-04T09:00:00\", \"2020-09-04T16:00:00\", \"2020-09-05T08:00:00\", \"2020-09-07T09:00:00\", \"2020-09-08T10:00:00\", \"2020-09-08T16:00:00\"], \"xaxis\": \"x4\", \"y\": [0.019999999552965164, 0.019999999552965164, 0.019999999552965164, 0.019999999552965164, 0.019999999552965164, 0.019999999552965164, 0.019999999552965164, 0.02199999988079071, 0.02199999988079071, 0.02199999988079071, 0.02199999988079071, 0.02199999988079071, 0.02199999988079071, 0.02199999988079071, 0.02199999988079071, 0.02199999988079071, 0.02199999988079071, 0.02199999988079071, 0.02199999988079071, 0.02199999988079071, 0.02199999988079071, 0.02199999988079071, 0.02199999988079071, 0.02199999988079071, 0.02199999988079071, 0.02199999988079071, 0.027000000700354576, 0.027000000700354576, 0.027000000700354576, 0.027000000700354576, 0.027000000700354576], \"yaxis\": \"y4\"}, {\"line\": {\"color\": \"#33C2FF\"}, \"mode\": \"lines\", \"name\": \"LCL L.T\\u00e2m Dim N\", \"type\": \"scatter\", \"x\": [\"2020-08-14T17:00:00\", \"2020-08-15T08:00:00\", \"2020-08-15T16:00:00\", \"2020-08-17T09:00:00\", \"2020-08-17T17:00:00\", \"2020-08-20T09:00:00\", \"2020-08-20T16:00:00\", \"2020-08-21T16:00:00\", \"2020-08-22T08:00:00\", \"2020-08-22T17:00:00\", \"2020-08-24T12:00:00\", \"2020-08-25T17:00:00\", \"2020-08-26T09:00:00\", \"2020-08-26T16:00:00\", \"2020-08-27T08:00:00\", \"2020-08-27T19:00:00\", \"2020-08-28T10:00:00\", \"2020-08-28T16:00:00\", \"2020-08-29T12:00:00\", \"2020-08-29T15:00:00\", \"2020-08-31T08:00:00\", \"2020-08-31T16:00:00\", \"2020-09-01T16:00:00\", \"2020-09-03T08:00:00\", \"2020-09-03T17:00:00\", \"2020-09-04T09:00:00\", \"2020-09-04T16:00:00\", \"2020-09-05T08:00:00\", \"2020-09-07T09:00:00\", \"2020-09-08T10:00:00\", \"2020-09-08T16:00:00\"], \"xaxis\": \"x4\", \"y\": [-0.004000000189989805, -0.004000000189989805, -0.004000000189989805, -0.004000000189989805, -0.004000000189989805, -0.004000000189989805, -0.004000000189989805, -0.006000000052154064, -0.006000000052154064, -0.006000000052154064, -0.006000000052154064, -0.006000000052154064, -0.006000000052154064, -0.006000000052154064, -0.006000000052154064, -0.006000000052154064, -0.006000000052154064, -0.004999999888241291, -0.004999999888241291, -0.004999999888241291, -0.004999999888241291, -0.004999999888241291, -0.004999999888241291, -0.004999999888241291, -0.004999999888241291, -0.004999999888241291, -0.00800000037997961, -0.00800000037997961, -0.00800000037997961, -0.00800000037997961, -0.00800000037997961], \"yaxis\": \"y4\"}, {\"line\": {\"color\": \"#33C2FF\"}, \"mode\": \"lines\", \"name\": \"Mean L.T\\u00e2m Dim N\", \"type\": \"scatter\", \"x\": [\"2020-08-14T17:00:00\", \"2020-08-15T08:00:00\", \"2020-08-15T16:00:00\", \"2020-08-17T09:00:00\", \"2020-08-17T17:00:00\", \"2020-08-20T09:00:00\", \"2020-08-20T16:00:00\", \"2020-08-21T16:00:00\", \"2020-08-22T08:00:00\", \"2020-08-22T17:00:00\", \"2020-08-24T12:00:00\", \"2020-08-25T17:00:00\", \"2020-08-26T09:00:00\", \"2020-08-26T16:00:00\", \"2020-08-27T08:00:00\", \"2020-08-27T19:00:00\", \"2020-08-28T10:00:00\", \"2020-08-28T16:00:00\", \"2020-08-29T12:00:00\", \"2020-08-29T15:00:00\", \"2020-08-31T08:00:00\", \"2020-08-31T16:00:00\", \"2020-09-01T16:00:00\", \"2020-09-03T08:00:00\", \"2020-09-03T17:00:00\", \"2020-09-04T09:00:00\", \"2020-09-04T16:00:00\", \"2020-09-05T08:00:00\", \"2020-09-07T09:00:00\", \"2020-09-08T10:00:00\", \"2020-09-08T16:00:00\"], \"xaxis\": \"x4\", \"y\": [0.00800000037997961, 0.00800000037997961, 0.00800000037997961, 0.00800000037997961, 0.00800000037997961, 0.00800000037997961, 0.00800000037997961, 0.00800000037997961, 0.00800000037997961, 0.00800000037997961, 0.00800000037997961, 0.00800000037997961, 0.00800000037997961, 0.00800000037997961, 0.00800000037997961, 0.00800000037997961, 0.00800000037997961, 0.008999999612569809, 0.008999999612569809, 0.008999999612569809, 0.008999999612569809, 0.008999999612569809, 0.008999999612569809, 0.008999999612569809, 0.008999999612569809, 0.008999999612569809, 0.009999999776482582, 0.009999999776482582, 0.009999999776482582, 0.009999999776482582, 0.009999999776482582], \"yaxis\": \"y4\"}, {\"line\": {\"color\": \"#4280F5\"}, \"mode\": \"lines+markers\", \"name\": \"mean Offset Dim M\", \"type\": \"scatter\", \"x\": [\"2020-08-14T17:00:00\", \"2020-08-15T08:00:00\", \"2020-08-15T16:00:00\", \"2020-08-17T09:00:00\", \"2020-08-17T17:00:00\", \"2020-08-20T09:00:00\", \"2020-08-20T16:00:00\", \"2020-08-21T16:00:00\", \"2020-08-22T08:00:00\", \"2020-08-22T17:00:00\", \"2020-08-24T12:00:00\", \"2020-08-25T17:00:00\", \"2020-08-26T09:00:00\", \"2020-08-26T16:00:00\", \"2020-08-27T08:00:00\", \"2020-08-27T19:00:00\", \"2020-08-28T10:00:00\", \"2020-08-28T16:00:00\", \"2020-08-29T12:00:00\", \"2020-08-29T15:00:00\", \"2020-08-31T08:00:00\", \"2020-08-31T16:00:00\", \"2020-09-01T16:00:00\", \"2020-09-03T08:00:00\", \"2020-09-03T17:00:00\", \"2020-09-04T09:00:00\", \"2020-09-04T16:00:00\", \"2020-09-05T08:00:00\", \"2020-09-07T09:00:00\", \"2020-09-08T10:00:00\", \"2020-09-08T16:00:00\"], \"xaxis\": \"x5\", \"y\": [0.010250000283122063, 0.012500000186264515, 0.03099999949336052, 0.020500000566244125, 0.017999999225139618, 0.008249999955296516, 0.012500000186264515, 0.017249999567866325, 0.00800000037997961, 0.033250000327825546, 0.01075000036507845, 0.011250000447034836, 0.00800000037997961, 0.014750000089406967, 0.026499999687075615, 0.008750000037252903, 0.011250000447034836, 0.029999999329447746, 0.02175000123679638, 0.010499999858438969, 0.015249999240040779, 0.02524999901652336, 0.026000000536441803, 0.0215000007301569, 0.030750000849366188, 0.035750001668930054, 0.0215000007301569, 0.014750000089406967, 0.013500000350177288, 0.012749999761581421, 0.01900000125169754], \"yaxis\": \"y5\"}, {\"line\": {\"color\": \"#FF5733\"}, \"mode\": \"lines\", \"name\": \"USL Offset Dim M\", \"type\": \"scatter\", \"x\": [\"2020-08-14T17:00:00\", \"2020-08-15T08:00:00\", \"2020-08-15T16:00:00\", \"2020-08-17T09:00:00\", \"2020-08-17T17:00:00\", \"2020-08-20T09:00:00\", \"2020-08-20T16:00:00\", \"2020-08-21T16:00:00\", \"2020-08-22T08:00:00\", \"2020-08-22T17:00:00\", \"2020-08-24T12:00:00\", \"2020-08-25T17:00:00\", \"2020-08-26T09:00:00\", \"2020-08-26T16:00:00\", \"2020-08-27T08:00:00\", \"2020-08-27T19:00:00\", \"2020-08-28T10:00:00\", \"2020-08-28T16:00:00\", \"2020-08-29T12:00:00\", \"2020-08-29T15:00:00\", \"2020-08-31T08:00:00\", \"2020-08-31T16:00:00\", \"2020-09-01T16:00:00\", \"2020-09-03T08:00:00\", \"2020-09-03T17:00:00\", \"2020-09-04T09:00:00\", \"2020-09-04T16:00:00\", \"2020-09-05T08:00:00\", \"2020-09-07T09:00:00\", \"2020-09-08T10:00:00\", \"2020-09-08T16:00:00\"], \"xaxis\": \"x5\", \"y\": [0.05000000074505806, 0.05000000074505806, 0.05000000074505806, 0.05000000074505806, 0.05000000074505806, 0.05000000074505806, 0.05000000074505806, 0.05000000074505806, 0.05000000074505806, 0.05000000074505806, 0.05000000074505806, 0.05000000074505806, 0.05000000074505806, 0.05000000074505806, 0.05000000074505806, 0.05000000074505806, 0.05000000074505806, 0.05000000074505806, 0.05000000074505806, 0.05000000074505806, 0.05000000074505806, 0.05000000074505806, 0.05000000074505806, 0.05000000074505806, 0.05000000074505806, 0.05000000074505806, 0.05000000074505806, 0.05000000074505806, 0.05000000074505806, 0.05000000074505806, 0.05000000074505806], \"yaxis\": \"y5\"}, {\"line\": {\"color\": \"#FF5733\"}, \"mode\": \"lines\", \"name\": \"LSL Offset Dim M\", \"type\": \"scatter\", \"x\": [\"2020-08-14T17:00:00\", \"2020-08-15T08:00:00\", \"2020-08-15T16:00:00\", \"2020-08-17T09:00:00\", \"2020-08-17T17:00:00\", \"2020-08-20T09:00:00\", \"2020-08-20T16:00:00\", \"2020-08-21T16:00:00\", \"2020-08-22T08:00:00\", \"2020-08-22T17:00:00\", \"2020-08-24T12:00:00\", \"2020-08-25T17:00:00\", \"2020-08-26T09:00:00\", \"2020-08-26T16:00:00\", \"2020-08-27T08:00:00\", \"2020-08-27T19:00:00\", \"2020-08-28T10:00:00\", \"2020-08-28T16:00:00\", \"2020-08-29T12:00:00\", \"2020-08-29T15:00:00\", \"2020-08-31T08:00:00\", \"2020-08-31T16:00:00\", \"2020-09-01T16:00:00\", \"2020-09-03T08:00:00\", \"2020-09-03T17:00:00\", \"2020-09-04T09:00:00\", \"2020-09-04T16:00:00\", \"2020-09-05T08:00:00\", \"2020-09-07T09:00:00\", \"2020-09-08T10:00:00\", \"2020-09-08T16:00:00\"], \"xaxis\": \"x5\", \"y\": [null, null, null, null, null, null, null, null, null, null, null, null, null, null, null, null, null, null, null, null, null, null, null, null, null, null, null, null, null, null, null], \"yaxis\": \"y5\"}, {\"line\": {\"color\": \"#33C2FF\"}, \"mode\": \"lines\", \"name\": \"UCL Offset Dim M\", \"type\": \"scatter\", \"x\": [\"2020-08-14T17:00:00\", \"2020-08-15T08:00:00\", \"2020-08-15T16:00:00\", \"2020-08-17T09:00:00\", \"2020-08-17T17:00:00\", \"2020-08-20T09:00:00\", \"2020-08-20T16:00:00\", \"2020-08-21T16:00:00\", \"2020-08-22T08:00:00\", \"2020-08-22T17:00:00\", \"2020-08-24T12:00:00\", \"2020-08-25T17:00:00\", \"2020-08-26T09:00:00\", \"2020-08-26T16:00:00\", \"2020-08-27T08:00:00\", \"2020-08-27T19:00:00\", \"2020-08-28T10:00:00\", \"2020-08-28T16:00:00\", \"2020-08-29T12:00:00\", \"2020-08-29T15:00:00\", \"2020-08-31T08:00:00\", \"2020-08-31T16:00:00\", \"2020-09-01T16:00:00\", \"2020-09-03T08:00:00\", \"2020-09-03T17:00:00\", \"2020-09-04T09:00:00\", \"2020-09-04T16:00:00\", \"2020-09-05T08:00:00\", \"2020-09-07T09:00:00\", \"2020-09-08T10:00:00\", \"2020-09-08T16:00:00\"], \"xaxis\": \"x5\", \"y\": [0.05400000140070915, 0.05400000140070915, 0.05400000140070915, 0.05400000140070915, 0.05400000140070915, 0.05400000140070915, 0.05400000140070915, 0.05299999937415123, 0.05299999937415123, 0.05299999937415123, 0.05299999937415123, 0.05299999937415123, 0.05299999937415123, 0.05299999937415123, 0.05299999937415123, 0.05299999937415123, 0.05299999937415123, 0.06400000303983688, 0.06400000303983688, 0.06400000303983688, 0.06400000303983688, 0.06400000303983688, 0.06400000303983688, 0.06400000303983688, 0.06400000303983688, 0.06400000303983688, 0.04800000041723251, 0.04800000041723251, 0.04800000041723251, 0.04800000041723251, 0.04800000041723251], \"yaxis\": \"y5\"}, {\"line\": {\"color\": \"#33C2FF\"}, \"mode\": \"lines\", \"name\": \"LCL Offset Dim M\", \"type\": \"scatter\", \"x\": [\"2020-08-14T17:00:00\", \"2020-08-15T08:00:00\", \"2020-08-15T16:00:00\", \"2020-08-17T09:00:00\", \"2020-08-17T17:00:00\", \"2020-08-20T09:00:00\", \"2020-08-20T16:00:00\", \"2020-08-21T16:00:00\", \"2020-08-22T08:00:00\", \"2020-08-22T17:00:00\", \"2020-08-24T12:00:00\", \"2020-08-25T17:00:00\", \"2020-08-26T09:00:00\", \"2020-08-26T16:00:00\", \"2020-08-27T08:00:00\", \"2020-08-27T19:00:00\", \"2020-08-28T10:00:00\", \"2020-08-28T16:00:00\", \"2020-08-29T12:00:00\", \"2020-08-29T15:00:00\", \"2020-08-31T08:00:00\", \"2020-08-31T16:00:00\", \"2020-09-01T16:00:00\", \"2020-09-03T08:00:00\", \"2020-09-03T17:00:00\", \"2020-09-04T09:00:00\", \"2020-09-04T16:00:00\", \"2020-09-05T08:00:00\", \"2020-09-07T09:00:00\", \"2020-09-08T10:00:00\", \"2020-09-08T16:00:00\"], \"xaxis\": \"x5\", \"y\": [-0.02199999988079071, -0.02199999988079071, -0.02199999988079071, -0.02199999988079071, -0.02199999988079071, -0.02199999988079071, -0.02199999988079071, -0.023000000044703484, -0.023000000044703484, -0.023000000044703484, -0.023000000044703484, -0.023000000044703484, -0.023000000044703484, -0.023000000044703484, -0.023000000044703484, -0.023000000044703484, -0.023000000044703484, -0.01600000075995922, -0.01600000075995922, -0.01600000075995922, -0.01600000075995922, -0.01600000075995922, -0.01600000075995922, -0.01600000075995922, -0.01600000075995922, -0.01600000075995922, -0.014999999664723873, -0.014999999664723873, -0.014999999664723873, -0.014999999664723873, -0.014999999664723873], \"yaxis\": \"y5\"}, {\"line\": {\"color\": \"#33C2FF\"}, \"mode\": \"lines\", \"name\": \"Mean Offset Dim M\", \"type\": \"scatter\", \"x\": [\"2020-08-14T17:00:00\", \"2020-08-15T08:00:00\", \"2020-08-15T16:00:00\", \"2020-08-17T09:00:00\", \"2020-08-17T17:00:00\", \"2020-08-20T09:00:00\", \"2020-08-20T16:00:00\", \"2020-08-21T16:00:00\", \"2020-08-22T08:00:00\", \"2020-08-22T17:00:00\", \"2020-08-24T12:00:00\", \"2020-08-25T17:00:00\", \"2020-08-26T09:00:00\", \"2020-08-26T16:00:00\", \"2020-08-27T08:00:00\", \"2020-08-27T19:00:00\", \"2020-08-28T10:00:00\", \"2020-08-28T16:00:00\", \"2020-08-29T12:00:00\", \"2020-08-29T15:00:00\", \"2020-08-31T08:00:00\", \"2020-08-31T16:00:00\", \"2020-09-01T16:00:00\", \"2020-09-03T08:00:00\", \"2020-09-03T17:00:00\", \"2020-09-04T09:00:00\", \"2020-09-04T16:00:00\", \"2020-09-05T08:00:00\", \"2020-09-07T09:00:00\", \"2020-09-08T10:00:00\", \"2020-09-08T16:00:00\"], \"xaxis\": \"x5\", \"y\": [0.01600000075995922, 0.01600000075995922, 0.01600000075995922, 0.01600000075995922, 0.01600000075995922, 0.01600000075995922, 0.01600000075995922, 0.014999999664723873, 0.014999999664723873, 0.014999999664723873, 0.014999999664723873, 0.014999999664723873, 0.014999999664723873, 0.014999999664723873, 0.014999999664723873, 0.014999999664723873, 0.014999999664723873, 0.024000000208616257, 0.024000000208616257, 0.024000000208616257, 0.024000000208616257, 0.024000000208616257, 0.024000000208616257, 0.024000000208616257, 0.024000000208616257, 0.024000000208616257, 0.01600000075995922, 0.01600000075995922, 0.01600000075995922, 0.01600000075995922, 0.01600000075995922], \"yaxis\": \"y5\"}, {\"line\": {\"color\": \"#4280F5\"}, \"mode\": \"lines+markers\", \"name\": \"mean Ba v\\u1edb tr\\u00ean membrane\", \"type\": \"scatter\", \"x\": [\"2020-08-14T17:00:00\", \"2020-08-15T08:00:00\", \"2020-08-15T16:00:00\", \"2020-08-17T09:00:00\", \"2020-08-17T17:00:00\", \"2020-08-20T09:00:00\", \"2020-08-20T16:00:00\", \"2020-08-21T16:00:00\", \"2020-08-22T08:00:00\", \"2020-08-22T17:00:00\", \"2020-08-24T12:00:00\", \"2020-08-25T17:00:00\", \"2020-08-26T09:00:00\", \"2020-08-26T16:00:00\", \"2020-08-27T08:00:00\", \"2020-08-27T19:00:00\", \"2020-08-28T10:00:00\", \"2020-08-28T16:00:00\", \"2020-08-29T12:00:00\", \"2020-08-29T15:00:00\", \"2020-08-31T08:00:00\", \"2020-08-31T16:00:00\", \"2020-09-01T16:00:00\", \"2020-09-03T08:00:00\", \"2020-09-03T17:00:00\", \"2020-09-04T09:00:00\", \"2020-09-04T16:00:00\", \"2020-09-05T08:00:00\", \"2020-09-07T09:00:00\", \"2020-09-08T10:00:00\", \"2020-09-08T16:00:00\"], \"xaxis\": \"x6\", \"y\": [0.003800000064074993, 0.002199999988079071, 0.003200000151991844, 0.004000000189989805, 0.003200000151991844, 0.00419999985024333, 0.0034000000450760126, 0.003000000026077032, 0.003800000064074993, 0.0034000000450760126, 0.003800000064074993, 0.004999999888241291, 0.004000000189989805, 0.003800000064074993, 0.0034000000450760126, 0.0028000001329928637, 0.002400000113993883, 0.003200000151991844, 0.0034000000450760126, 0.003200000151991844, 0.004000000189989805, 0.003000000026077032, 0.002400000113993883, 0.00419999985024333, 0.003000000026077032, 0.003800000064074993, 0.0036000001709908247, 0.0034000000450760126, 0.0036000001709908247, 0.002199999988079071, 0.003800000064074993], \"yaxis\": \"y6\"}, {\"line\": {\"color\": \"#FF5733\"}, \"mode\": \"lines\", \"name\": \"USL Ba v\\u1edb tr\\u00ean membrane\", \"type\": \"scatter\", \"x\": [\"2020-08-14T17:00:00\", \"2020-08-15T08:00:00\", \"2020-08-15T16:00:00\", \"2020-08-17T09:00:00\", \"2020-08-17T17:00:00\", \"2020-08-20T09:00:00\", \"2020-08-20T16:00:00\", \"2020-08-21T16:00:00\", \"2020-08-22T08:00:00\", \"2020-08-22T17:00:00\", \"2020-08-24T12:00:00\", \"2020-08-25T17:00:00\", \"2020-08-26T09:00:00\", \"2020-08-26T16:00:00\", \"2020-08-27T08:00:00\", \"2020-08-27T19:00:00\", \"2020-08-28T10:00:00\", \"2020-08-28T16:00:00\", \"2020-08-29T12:00:00\", \"2020-08-29T15:00:00\", \"2020-08-31T08:00:00\", \"2020-08-31T16:00:00\", \"2020-09-01T16:00:00\", \"2020-09-03T08:00:00\", \"2020-09-03T17:00:00\", \"2020-09-04T09:00:00\", \"2020-09-04T16:00:00\", \"2020-09-05T08:00:00\", \"2020-09-07T09:00:00\", \"2020-09-08T10:00:00\", \"2020-09-08T16:00:00\"], \"xaxis\": \"x6\", \"y\": [0.004999999888241291, 0.004999999888241291, 0.004999999888241291, 0.004999999888241291, 0.004999999888241291, 0.004999999888241291, 0.004999999888241291, 0.004999999888241291, 0.004999999888241291, 0.004999999888241291, 0.004999999888241291, 0.004999999888241291, 0.004999999888241291, 0.004999999888241291, 0.004999999888241291, 0.004999999888241291, 0.004999999888241291, 0.004999999888241291, 0.004999999888241291, 0.004999999888241291, 0.004999999888241291, 0.004999999888241291, 0.004999999888241291, 0.004999999888241291, 0.004999999888241291, 0.004999999888241291, 0.004999999888241291, 0.004999999888241291, 0.004999999888241291, 0.004999999888241291, 0.004999999888241291], \"yaxis\": \"y6\"}, {\"line\": {\"color\": \"#FF5733\"}, \"mode\": \"lines\", \"name\": \"LSL Ba v\\u1edb tr\\u00ean membrane\", \"type\": \"scatter\", \"x\": [\"2020-08-14T17:00:00\", \"2020-08-15T08:00:00\", \"2020-08-15T16:00:00\", \"2020-08-17T09:00:00\", \"2020-08-17T17:00:00\", \"2020-08-20T09:00:00\", \"2020-08-20T16:00:00\", \"2020-08-21T16:00:00\", \"2020-08-22T08:00:00\", \"2020-08-22T17:00:00\", \"2020-08-24T12:00:00\", \"2020-08-25T17:00:00\", \"2020-08-26T09:00:00\", \"2020-08-26T16:00:00\", \"2020-08-27T08:00:00\", \"2020-08-27T19:00:00\", \"2020-08-28T10:00:00\", \"2020-08-28T16:00:00\", \"2020-08-29T12:00:00\", \"2020-08-29T15:00:00\", \"2020-08-31T08:00:00\", \"2020-08-31T16:00:00\", \"2020-09-01T16:00:00\", \"2020-09-03T08:00:00\", \"2020-09-03T17:00:00\", \"2020-09-04T09:00:00\", \"2020-09-04T16:00:00\", \"2020-09-05T08:00:00\", \"2020-09-07T09:00:00\", \"2020-09-08T10:00:00\", \"2020-09-08T16:00:00\"], \"xaxis\": \"x6\", \"y\": [null, null, null, null, null, null, null, null, null, null, null, null, null, null, null, null, null, null, null, null, null, null, null, null, null, null, null, null, null, null, null], \"yaxis\": \"y6\"}, {\"line\": {\"color\": \"#33C2FF\"}, \"mode\": \"lines\", \"name\": \"UCL Ba v\\u1edb tr\\u00ean membrane\", \"type\": \"scatter\", \"x\": [\"2020-08-14T17:00:00\", \"2020-08-15T08:00:00\", \"2020-08-15T16:00:00\", \"2020-08-17T09:00:00\", \"2020-08-17T17:00:00\", \"2020-08-20T09:00:00\", \"2020-08-20T16:00:00\", \"2020-08-21T16:00:00\", \"2020-08-22T08:00:00\", \"2020-08-22T17:00:00\", \"2020-08-24T12:00:00\", \"2020-08-25T17:00:00\", \"2020-08-26T09:00:00\", \"2020-08-26T16:00:00\", \"2020-08-27T08:00:00\", \"2020-08-27T19:00:00\", \"2020-08-28T10:00:00\", \"2020-08-28T16:00:00\", \"2020-08-29T12:00:00\", \"2020-08-29T15:00:00\", \"2020-08-31T08:00:00\", \"2020-08-31T16:00:00\", \"2020-09-01T16:00:00\", \"2020-09-03T08:00:00\", \"2020-09-03T17:00:00\", \"2020-09-04T09:00:00\", \"2020-09-04T16:00:00\", \"2020-09-05T08:00:00\", \"2020-09-07T09:00:00\", \"2020-09-08T10:00:00\", \"2020-09-08T16:00:00\"], \"xaxis\": \"x6\", \"y\": [0.007000000216066837, 0.007000000216066837, 0.007000000216066837, 0.007000000216066837, 0.007000000216066837, 0.007000000216066837, 0.007000000216066837, 0.007000000216066837, 0.007000000216066837, 0.007000000216066837, 0.007000000216066837, 0.007000000216066837, 0.007000000216066837, 0.007000000216066837, 0.007000000216066837, 0.007000000216066837, 0.007000000216066837, 0.007000000216066837, 0.007000000216066837, 0.007000000216066837, 0.007000000216066837, 0.007000000216066837, 0.007000000216066837, 0.007000000216066837, 0.007000000216066837, 0.007000000216066837, 0.007000000216066837, 0.007000000216066837, 0.007000000216066837, 0.007000000216066837, 0.007000000216066837], \"yaxis\": \"y6\"}, {\"line\": {\"color\": \"#33C2FF\"}, \"mode\": \"lines\", \"name\": \"LCL Ba v\\u1edb tr\\u00ean membrane\", \"type\": \"scatter\", \"x\": [\"2020-08-14T17:00:00\", \"2020-08-15T08:00:00\", \"2020-08-15T16:00:00\", \"2020-08-17T09:00:00\", \"2020-08-17T17:00:00\", \"2020-08-20T09:00:00\", \"2020-08-20T16:00:00\", \"2020-08-21T16:00:00\", \"2020-08-22T08:00:00\", \"2020-08-22T17:00:00\", \"2020-08-24T12:00:00\", \"2020-08-25T17:00:00\", \"2020-08-26T09:00:00\", \"2020-08-26T16:00:00\", \"2020-08-27T08:00:00\", \"2020-08-27T19:00:00\", \"2020-08-28T10:00:00\", \"2020-08-28T16:00:00\", \"2020-08-29T12:00:00\", \"2020-08-29T15:00:00\", \"2020-08-31T08:00:00\", \"2020-08-31T16:00:00\", \"2020-09-01T16:00:00\", \"2020-09-03T08:00:00\", \"2020-09-03T17:00:00\", \"2020-09-04T09:00:00\", \"2020-09-04T16:00:00\", \"2020-09-05T08:00:00\", \"2020-09-07T09:00:00\", \"2020-09-08T10:00:00\", \"2020-09-08T16:00:00\"], \"xaxis\": \"x6\", \"y\": [0.0, 0.0, 0.0, 0.0, 0.0, 0.0, 0.0, 0.0, 0.0, 0.0, 0.0, 0.0, 0.0, 0.0, 0.0, 0.0, 0.0, 0.0, 0.0, 0.0, 0.0, 0.0, 0.0, 0.0, 0.0, 0.0, 0.0, 0.0, 0.0, 0.0, 0.0], \"yaxis\": \"y6\"}, {\"line\": {\"color\": \"#33C2FF\"}, \"mode\": \"lines\", \"name\": \"Mean Ba v\\u1edb tr\\u00ean membrane\", \"type\": \"scatter\", \"x\": [\"2020-08-14T17:00:00\", \"2020-08-15T08:00:00\", \"2020-08-15T16:00:00\", \"2020-08-17T09:00:00\", \"2020-08-17T17:00:00\", \"2020-08-20T09:00:00\", \"2020-08-20T16:00:00\", \"2020-08-21T16:00:00\", \"2020-08-22T08:00:00\", \"2020-08-22T17:00:00\", \"2020-08-24T12:00:00\", \"2020-08-25T17:00:00\", \"2020-08-26T09:00:00\", \"2020-08-26T16:00:00\", \"2020-08-27T08:00:00\", \"2020-08-27T19:00:00\", \"2020-08-28T10:00:00\", \"2020-08-28T16:00:00\", \"2020-08-29T12:00:00\", \"2020-08-29T15:00:00\", \"2020-08-31T08:00:00\", \"2020-08-31T16:00:00\", \"2020-09-01T16:00:00\", \"2020-09-03T08:00:00\", \"2020-09-03T17:00:00\", \"2020-09-04T09:00:00\", \"2020-09-04T16:00:00\", \"2020-09-05T08:00:00\", \"2020-09-07T09:00:00\", \"2020-09-08T10:00:00\", \"2020-09-08T16:00:00\"], \"xaxis\": \"x6\", \"y\": [0.003000000026077032, 0.003000000026077032, 0.003000000026077032, 0.003000000026077032, 0.003000000026077032, 0.003000000026077032, 0.003000000026077032, 0.004000000189989805, 0.004000000189989805, 0.004000000189989805, 0.004000000189989805, 0.004000000189989805, 0.004000000189989805, 0.004000000189989805, 0.004000000189989805, 0.004000000189989805, 0.004000000189989805, 0.003000000026077032, 0.003000000026077032, 0.003000000026077032, 0.003000000026077032, 0.003000000026077032, 0.003000000026077032, 0.003000000026077032, 0.003000000026077032, 0.003000000026077032, 0.003000000026077032, 0.003000000026077032, 0.003000000026077032, 0.003000000026077032, 0.003000000026077032], \"yaxis\": \"y6\"}],\n",
              "                        {\"annotations\": [{\"font\": {\"size\": 16}, \"showarrow\": false, \"text\": \"Hinge Dim F\", \"x\": 0.5, \"xanchor\": \"center\", \"xref\": \"paper\", \"y\": 0.9999999999999999, \"yanchor\": \"bottom\", \"yref\": \"paper\"}, {\"font\": {\"size\": 16}, \"showarrow\": false, \"text\": \"Chi\\u1ec1u d\\u00e0i Dim B\", \"x\": 0.5, \"xanchor\": \"center\", \"xref\": \"paper\", \"y\": 0.8194444444444444, \"yanchor\": \"bottom\", \"yref\": \"paper\"}, {\"font\": {\"size\": 16}, \"showarrow\": false, \"text\": \"Chi\\u1ec1u r\\u1ed9ng Dim A\", \"x\": 0.5, \"xanchor\": \"center\", \"xref\": \"paper\", \"y\": 0.638888888888889, \"yanchor\": \"bottom\", \"yref\": \"paper\"}, {\"font\": {\"size\": 16}, \"showarrow\": false, \"text\": \"L.T\\u00e2m Dim N\", \"x\": 0.5, \"xanchor\": \"center\", \"xref\": \"paper\", \"y\": 0.4583333333333333, \"yanchor\": \"bottom\", \"yref\": \"paper\"}, {\"font\": {\"size\": 16}, \"showarrow\": false, \"text\": \"Offset Dim M\", \"x\": 0.5, \"xanchor\": \"center\", \"xref\": \"paper\", \"y\": 0.2777777777777778, \"yanchor\": \"bottom\", \"yref\": \"paper\"}, {\"font\": {\"size\": 16}, \"showarrow\": false, \"text\": \"Ba v\\u1edb tr\\u00ean membrane\", \"x\": 0.5, \"xanchor\": \"center\", \"xref\": \"paper\", \"y\": 0.09722222222222222, \"yanchor\": \"bottom\", \"yref\": \"paper\"}], \"height\": 1200, \"template\": {\"data\": {\"bar\": [{\"error_x\": {\"color\": \"#2a3f5f\"}, \"error_y\": {\"color\": \"#2a3f5f\"}, \"marker\": {\"line\": {\"color\": \"#E5ECF6\", \"width\": 0.5}}, \"type\": \"bar\"}], \"barpolar\": [{\"marker\": {\"line\": {\"color\": \"#E5ECF6\", \"width\": 0.5}}, \"type\": \"barpolar\"}], \"carpet\": [{\"aaxis\": {\"endlinecolor\": \"#2a3f5f\", \"gridcolor\": \"white\", \"linecolor\": \"white\", \"minorgridcolor\": \"white\", \"startlinecolor\": \"#2a3f5f\"}, \"baxis\": {\"endlinecolor\": \"#2a3f5f\", \"gridcolor\": \"white\", \"linecolor\": \"white\", \"minorgridcolor\": \"white\", \"startlinecolor\": \"#2a3f5f\"}, \"type\": \"carpet\"}], \"choropleth\": [{\"colorbar\": {\"outlinewidth\": 0, \"ticks\": \"\"}, \"type\": \"choropleth\"}], \"contour\": [{\"colorbar\": {\"outlinewidth\": 0, \"ticks\": \"\"}, \"colorscale\": [[0.0, \"#0d0887\"], [0.1111111111111111, \"#46039f\"], [0.2222222222222222, \"#7201a8\"], [0.3333333333333333, \"#9c179e\"], [0.4444444444444444, \"#bd3786\"], [0.5555555555555556, \"#d8576b\"], [0.6666666666666666, \"#ed7953\"], [0.7777777777777778, \"#fb9f3a\"], [0.8888888888888888, \"#fdca26\"], [1.0, \"#f0f921\"]], \"type\": \"contour\"}], \"contourcarpet\": [{\"colorbar\": {\"outlinewidth\": 0, \"ticks\": \"\"}, \"type\": \"contourcarpet\"}], \"heatmap\": [{\"colorbar\": {\"outlinewidth\": 0, \"ticks\": \"\"}, \"colorscale\": [[0.0, \"#0d0887\"], [0.1111111111111111, \"#46039f\"], [0.2222222222222222, \"#7201a8\"], [0.3333333333333333, \"#9c179e\"], [0.4444444444444444, \"#bd3786\"], [0.5555555555555556, \"#d8576b\"], [0.6666666666666666, \"#ed7953\"], [0.7777777777777778, \"#fb9f3a\"], [0.8888888888888888, \"#fdca26\"], [1.0, \"#f0f921\"]], \"type\": \"heatmap\"}], \"heatmapgl\": [{\"colorbar\": {\"outlinewidth\": 0, \"ticks\": \"\"}, \"colorscale\": [[0.0, \"#0d0887\"], [0.1111111111111111, \"#46039f\"], [0.2222222222222222, \"#7201a8\"], [0.3333333333333333, \"#9c179e\"], [0.4444444444444444, \"#bd3786\"], [0.5555555555555556, \"#d8576b\"], [0.6666666666666666, \"#ed7953\"], [0.7777777777777778, \"#fb9f3a\"], [0.8888888888888888, \"#fdca26\"], [1.0, \"#f0f921\"]], \"type\": \"heatmapgl\"}], \"histogram\": [{\"marker\": {\"colorbar\": {\"outlinewidth\": 0, \"ticks\": \"\"}}, \"type\": \"histogram\"}], \"histogram2d\": [{\"colorbar\": {\"outlinewidth\": 0, \"ticks\": \"\"}, \"colorscale\": [[0.0, \"#0d0887\"], [0.1111111111111111, \"#46039f\"], [0.2222222222222222, \"#7201a8\"], [0.3333333333333333, \"#9c179e\"], [0.4444444444444444, \"#bd3786\"], [0.5555555555555556, \"#d8576b\"], [0.6666666666666666, \"#ed7953\"], [0.7777777777777778, \"#fb9f3a\"], [0.8888888888888888, \"#fdca26\"], [1.0, \"#f0f921\"]], \"type\": \"histogram2d\"}], \"histogram2dcontour\": [{\"colorbar\": {\"outlinewidth\": 0, \"ticks\": \"\"}, \"colorscale\": [[0.0, \"#0d0887\"], [0.1111111111111111, \"#46039f\"], [0.2222222222222222, \"#7201a8\"], [0.3333333333333333, \"#9c179e\"], [0.4444444444444444, \"#bd3786\"], [0.5555555555555556, \"#d8576b\"], [0.6666666666666666, \"#ed7953\"], [0.7777777777777778, \"#fb9f3a\"], [0.8888888888888888, \"#fdca26\"], [1.0, \"#f0f921\"]], \"type\": \"histogram2dcontour\"}], \"mesh3d\": [{\"colorbar\": {\"outlinewidth\": 0, \"ticks\": \"\"}, \"type\": \"mesh3d\"}], \"parcoords\": [{\"line\": {\"colorbar\": {\"outlinewidth\": 0, \"ticks\": \"\"}}, \"type\": \"parcoords\"}], \"pie\": [{\"automargin\": true, \"type\": \"pie\"}], \"scatter\": [{\"marker\": {\"colorbar\": {\"outlinewidth\": 0, \"ticks\": \"\"}}, \"type\": \"scatter\"}], \"scatter3d\": [{\"line\": {\"colorbar\": {\"outlinewidth\": 0, \"ticks\": \"\"}}, \"marker\": {\"colorbar\": {\"outlinewidth\": 0, \"ticks\": \"\"}}, \"type\": \"scatter3d\"}], \"scattercarpet\": [{\"marker\": {\"colorbar\": {\"outlinewidth\": 0, \"ticks\": \"\"}}, \"type\": \"scattercarpet\"}], \"scattergeo\": [{\"marker\": {\"colorbar\": {\"outlinewidth\": 0, \"ticks\": \"\"}}, \"type\": \"scattergeo\"}], \"scattergl\": [{\"marker\": {\"colorbar\": {\"outlinewidth\": 0, \"ticks\": \"\"}}, \"type\": \"scattergl\"}], \"scattermapbox\": [{\"marker\": {\"colorbar\": {\"outlinewidth\": 0, \"ticks\": \"\"}}, \"type\": \"scattermapbox\"}], \"scatterpolar\": [{\"marker\": {\"colorbar\": {\"outlinewidth\": 0, \"ticks\": \"\"}}, \"type\": \"scatterpolar\"}], \"scatterpolargl\": [{\"marker\": {\"colorbar\": {\"outlinewidth\": 0, \"ticks\": \"\"}}, \"type\": \"scatterpolargl\"}], \"scatterternary\": [{\"marker\": {\"colorbar\": {\"outlinewidth\": 0, \"ticks\": \"\"}}, \"type\": \"scatterternary\"}], \"surface\": [{\"colorbar\": {\"outlinewidth\": 0, \"ticks\": \"\"}, \"colorscale\": [[0.0, \"#0d0887\"], [0.1111111111111111, \"#46039f\"], [0.2222222222222222, \"#7201a8\"], [0.3333333333333333, \"#9c179e\"], [0.4444444444444444, \"#bd3786\"], [0.5555555555555556, \"#d8576b\"], [0.6666666666666666, \"#ed7953\"], [0.7777777777777778, \"#fb9f3a\"], [0.8888888888888888, \"#fdca26\"], [1.0, \"#f0f921\"]], \"type\": \"surface\"}], \"table\": [{\"cells\": {\"fill\": {\"color\": \"#EBF0F8\"}, \"line\": {\"color\": \"white\"}}, \"header\": {\"fill\": {\"color\": \"#C8D4E3\"}, \"line\": {\"color\": \"white\"}}, \"type\": \"table\"}]}, \"layout\": {\"annotationdefaults\": {\"arrowcolor\": \"#2a3f5f\", \"arrowhead\": 0, \"arrowwidth\": 1}, \"coloraxis\": {\"colorbar\": {\"outlinewidth\": 0, \"ticks\": \"\"}}, \"colorscale\": {\"diverging\": [[0, \"#8e0152\"], [0.1, \"#c51b7d\"], [0.2, \"#de77ae\"], [0.3, \"#f1b6da\"], [0.4, \"#fde0ef\"], [0.5, \"#f7f7f7\"], [0.6, \"#e6f5d0\"], [0.7, \"#b8e186\"], [0.8, \"#7fbc41\"], [0.9, \"#4d9221\"], [1, \"#276419\"]], \"sequential\": [[0.0, \"#0d0887\"], [0.1111111111111111, \"#46039f\"], [0.2222222222222222, \"#7201a8\"], [0.3333333333333333, \"#9c179e\"], [0.4444444444444444, \"#bd3786\"], [0.5555555555555556, \"#d8576b\"], [0.6666666666666666, \"#ed7953\"], [0.7777777777777778, \"#fb9f3a\"], [0.8888888888888888, \"#fdca26\"], [1.0, \"#f0f921\"]], \"sequentialminus\": [[0.0, \"#0d0887\"], [0.1111111111111111, \"#46039f\"], [0.2222222222222222, \"#7201a8\"], [0.3333333333333333, \"#9c179e\"], [0.4444444444444444, \"#bd3786\"], [0.5555555555555556, \"#d8576b\"], [0.6666666666666666, \"#ed7953\"], [0.7777777777777778, \"#fb9f3a\"], [0.8888888888888888, \"#fdca26\"], [1.0, \"#f0f921\"]]}, \"colorway\": [\"#636efa\", \"#EF553B\", \"#00cc96\", \"#ab63fa\", \"#FFA15A\", \"#19d3f3\", \"#FF6692\", \"#B6E880\", \"#FF97FF\", \"#FECB52\"], \"font\": {\"color\": \"#2a3f5f\"}, \"geo\": {\"bgcolor\": \"white\", \"lakecolor\": \"white\", \"landcolor\": \"#E5ECF6\", \"showlakes\": true, \"showland\": true, \"subunitcolor\": \"white\"}, \"hoverlabel\": {\"align\": \"left\"}, \"hovermode\": \"closest\", \"mapbox\": {\"style\": \"light\"}, \"paper_bgcolor\": \"white\", \"plot_bgcolor\": \"#E5ECF6\", \"polar\": {\"angularaxis\": {\"gridcolor\": \"white\", \"linecolor\": \"white\", \"ticks\": \"\"}, \"bgcolor\": \"#E5ECF6\", \"radialaxis\": {\"gridcolor\": \"white\", \"linecolor\": \"white\", \"ticks\": \"\"}}, \"scene\": {\"xaxis\": {\"backgroundcolor\": \"#E5ECF6\", \"gridcolor\": \"white\", \"gridwidth\": 2, \"linecolor\": \"white\", \"showbackground\": true, \"ticks\": \"\", \"zerolinecolor\": \"white\"}, \"yaxis\": {\"backgroundcolor\": \"#E5ECF6\", \"gridcolor\": \"white\", \"gridwidth\": 2, \"linecolor\": \"white\", \"showbackground\": true, \"ticks\": \"\", \"zerolinecolor\": \"white\"}, \"zaxis\": {\"backgroundcolor\": \"#E5ECF6\", \"gridcolor\": \"white\", \"gridwidth\": 2, \"linecolor\": \"white\", \"showbackground\": true, \"ticks\": \"\", \"zerolinecolor\": \"white\"}}, \"shapedefaults\": {\"line\": {\"color\": \"#2a3f5f\"}}, \"ternary\": {\"aaxis\": {\"gridcolor\": \"white\", \"linecolor\": \"white\", \"ticks\": \"\"}, \"baxis\": {\"gridcolor\": \"white\", \"linecolor\": \"white\", \"ticks\": \"\"}, \"bgcolor\": \"#E5ECF6\", \"caxis\": {\"gridcolor\": \"white\", \"linecolor\": \"white\", \"ticks\": \"\"}}, \"title\": {\"x\": 0.05}, \"xaxis\": {\"automargin\": true, \"gridcolor\": \"white\", \"linecolor\": \"white\", \"ticks\": \"\", \"title\": {\"standoff\": 15}, \"zerolinecolor\": \"white\", \"zerolinewidth\": 2}, \"yaxis\": {\"automargin\": true, \"gridcolor\": \"white\", \"linecolor\": \"white\", \"ticks\": \"\", \"title\": {\"standoff\": 15}, \"zerolinecolor\": \"white\", \"zerolinewidth\": 2}}}, \"title\": {\"text\": \"38682\"}, \"width\": 1200, \"xaxis\": {\"anchor\": \"y\", \"domain\": [0.0, 1.0]}, \"xaxis2\": {\"anchor\": \"y2\", \"domain\": [0.0, 1.0]}, \"xaxis3\": {\"anchor\": \"y3\", \"domain\": [0.0, 1.0]}, \"xaxis4\": {\"anchor\": \"y4\", \"domain\": [0.0, 1.0]}, \"xaxis5\": {\"anchor\": \"y5\", \"domain\": [0.0, 1.0]}, \"xaxis6\": {\"anchor\": \"y6\", \"domain\": [0.0, 1.0]}, \"yaxis\": {\"anchor\": \"x\", \"domain\": [0.9027777777777777, 0.9999999999999999]}, \"yaxis2\": {\"anchor\": \"x2\", \"domain\": [0.7222222222222222, 0.8194444444444444]}, \"yaxis3\": {\"anchor\": \"x3\", \"domain\": [0.5416666666666667, 0.638888888888889]}, \"yaxis4\": {\"anchor\": \"x4\", \"domain\": [0.3611111111111111, 0.4583333333333333]}, \"yaxis5\": {\"anchor\": \"x5\", \"domain\": [0.18055555555555555, 0.2777777777777778]}, \"yaxis6\": {\"anchor\": \"x6\", \"domain\": [0.0, 0.09722222222222222]}},\n",
              "                        {\"responsive\": true}\n",
              "                    ).then(function(){\n",
              "                            \n",
              "var gd = document.getElementById('3f713d26-5da1-4811-800f-23e007ea6b1a');\n",
              "var x = new MutationObserver(function (mutations, observer) {{\n",
              "        var display = window.getComputedStyle(gd).display;\n",
              "        if (!display || display === 'none') {{\n",
              "            console.log([gd, 'removed!']);\n",
              "            Plotly.purge(gd);\n",
              "            observer.disconnect();\n",
              "        }}\n",
              "}});\n",
              "\n",
              "// Listen for the removal of the full notebook cells\n",
              "var notebookContainer = gd.closest('#notebook-container');\n",
              "if (notebookContainer) {{\n",
              "    x.observe(notebookContainer, {childList: true});\n",
              "}}\n",
              "\n",
              "// Listen for the clearing of the current output cell\n",
              "var outputEl = gd.closest('.output');\n",
              "if (outputEl) {{\n",
              "    x.observe(outputEl, {childList: true});\n",
              "}}\n",
              "\n",
              "                        })\n",
              "                };\n",
              "                \n",
              "            </script>\n",
              "        </div>\n",
              "</body>\n",
              "</html>"
            ]
          },
          "metadata": {
            "tags": []
          }
        },
        {
          "output_type": "stream",
          "text": [
            "error calculate process performance\n",
            "error calculate process performance\n",
            "error calculate process performance\n",
            "error calculate process performance\n",
            "error calculate process performance\n",
            "error calculate process performance\n"
          ],
          "name": "stdout"
        },
        {
          "output_type": "display_data",
          "data": {
            "text/html": [
              "<html>\n",
              "<head><meta charset=\"utf-8\" /></head>\n",
              "<body>\n",
              "    <div>\n",
              "            <script src=\"https://cdnjs.cloudflare.com/ajax/libs/mathjax/2.7.5/MathJax.js?config=TeX-AMS-MML_SVG\"></script><script type=\"text/javascript\">if (window.MathJax) {MathJax.Hub.Config({SVG: {font: \"STIX-Web\"}});}</script>\n",
              "                <script type=\"text/javascript\">window.PlotlyConfig = {MathJaxConfig: 'local'};</script>\n",
              "        <script src=\"https://cdn.plot.ly/plotly-latest.min.js\"></script>    \n",
              "            <div id=\"a2bfa8d7-8abb-4be1-aa9b-142626dc1b08\" class=\"plotly-graph-div\" style=\"height:1200px; width:1200px;\"></div>\n",
              "            <script type=\"text/javascript\">\n",
              "                \n",
              "                    window.PLOTLYENV=window.PLOTLYENV || {};\n",
              "                    \n",
              "                if (document.getElementById(\"a2bfa8d7-8abb-4be1-aa9b-142626dc1b08\")) {\n",
              "                    Plotly.newPlot(\n",
              "                        'a2bfa8d7-8abb-4be1-aa9b-142626dc1b08',\n",
              "                        [{\"line\": {\"color\": \"#4280F5\"}, \"mode\": \"lines+markers\", \"name\": \"mean Hinge Dim F\", \"type\": \"scatter\", \"x\": [\"2020-08-14T17:00:00\", \"2020-08-15T08:00:00\", \"2020-08-15T16:00:00\", \"2020-08-17T09:00:00\", \"2020-08-17T17:00:00\", \"2020-08-18T09:00:00\", \"2020-08-18T16:00:00\", \"2020-08-19T15:00:00\", \"2020-08-20T09:00:00\", \"2020-08-21T09:00:00\", \"2020-08-22T08:00:00\", \"2020-08-22T17:00:00\", \"2020-08-24T07:00:00\", \"2020-08-24T18:00:00\", \"2020-08-25T08:00:00\", \"2020-08-25T17:00:00\", \"2020-08-26T09:00:00\", \"2020-08-26T16:00:00\", \"2020-08-27T08:00:00\", \"2020-08-27T19:00:00\", \"2020-08-28T10:00:00\", \"2020-08-28T16:00:00\", \"2020-08-29T12:00:00\", \"2020-08-31T08:00:00\", \"2020-09-01T08:00:00\", \"2020-09-01T16:00:00\", \"2020-09-03T08:00:00\", \"2020-09-03T17:00:00\", \"2020-09-04T16:00:00\", \"2020-09-05T16:00:00\", \"2020-09-07T09:00:00\", \"2020-09-07T17:00:00\", \"2020-09-08T10:00:00\", \"2020-09-08T16:00:00\"], \"xaxis\": \"x\", \"y\": [0.22366666793823242, 0.21333332359790802, 0.21933333575725555, 0.22499999403953552, 0.22100000083446503, 0.21833333373069763, 0.2096666693687439, 0.2173333317041397, 0.22100000083446503, 0.22233332693576813, 0.22333332896232605, 0.2163333296775818, 0.2253333330154419, 0.22766666114330292, 0.22699999809265137, 0.22366666793823242, 0.21299999952316284, 0.21433334052562714, 0.21133333444595337, 0.21433334052562714, 0.21299999952316284, 0.23233333230018616, 0.22233334183692932, 0.2240000069141388, 0.2280000001192093, 0.22166666388511658, 0.23066666722297668, 0.21299999952316284, 0.22499999403953552, 0.21799999475479126, 0.2163333296775818, 0.22233334183692932, 0.23399999737739563, 0.2303333431482315], \"yaxis\": \"y\"}, {\"line\": {\"color\": \"#FF5733\"}, \"mode\": \"lines\", \"name\": \"USL Hinge Dim F\", \"type\": \"scatter\", \"x\": [\"2020-08-14T17:00:00\", \"2020-08-15T08:00:00\", \"2020-08-15T16:00:00\", \"2020-08-17T09:00:00\", \"2020-08-17T17:00:00\", \"2020-08-18T09:00:00\", \"2020-08-18T16:00:00\", \"2020-08-19T15:00:00\", \"2020-08-20T09:00:00\", \"2020-08-21T09:00:00\", \"2020-08-22T08:00:00\", \"2020-08-22T17:00:00\", \"2020-08-24T07:00:00\", \"2020-08-24T18:00:00\", \"2020-08-25T08:00:00\", \"2020-08-25T17:00:00\", \"2020-08-26T09:00:00\", \"2020-08-26T16:00:00\", \"2020-08-27T08:00:00\", \"2020-08-27T19:00:00\", \"2020-08-28T10:00:00\", \"2020-08-28T16:00:00\", \"2020-08-29T12:00:00\", \"2020-08-31T08:00:00\", \"2020-09-01T08:00:00\", \"2020-09-01T16:00:00\", \"2020-09-03T08:00:00\", \"2020-09-03T17:00:00\", \"2020-09-04T16:00:00\", \"2020-09-05T16:00:00\", \"2020-09-07T09:00:00\", \"2020-09-07T17:00:00\", \"2020-09-08T10:00:00\", \"2020-09-08T16:00:00\"], \"xaxis\": \"x\", \"y\": [0.24500000476837158, 0.24500000476837158, 0.24500000476837158, 0.24500000476837158, 0.24500000476837158, 0.24500000476837158, 0.24500000476837158, 0.24500000476837158, 0.24500000476837158, 0.24500000476837158, 0.24500000476837158, 0.24500000476837158, 0.24500000476837158, 0.24500000476837158, 0.24500000476837158, 0.24500000476837158, 0.24500000476837158, 0.24500000476837158, 0.24500000476837158, 0.24500000476837158, 0.24500000476837158, 0.24500000476837158, 0.24500000476837158, 0.24500000476837158, 0.24500000476837158, 0.24500000476837158, 0.24500000476837158, 0.24500000476837158, 0.24500000476837158, 0.24500000476837158, 0.24500000476837158, 0.24500000476837158, 0.24500000476837158, 0.24500000476837158], \"yaxis\": \"y\"}, {\"line\": {\"color\": \"#FF5733\"}, \"mode\": \"lines\", \"name\": \"LSL Hinge Dim F\", \"type\": \"scatter\", \"x\": [\"2020-08-14T17:00:00\", \"2020-08-15T08:00:00\", \"2020-08-15T16:00:00\", \"2020-08-17T09:00:00\", \"2020-08-17T17:00:00\", \"2020-08-18T09:00:00\", \"2020-08-18T16:00:00\", \"2020-08-19T15:00:00\", \"2020-08-20T09:00:00\", \"2020-08-21T09:00:00\", \"2020-08-22T08:00:00\", \"2020-08-22T17:00:00\", \"2020-08-24T07:00:00\", \"2020-08-24T18:00:00\", \"2020-08-25T08:00:00\", \"2020-08-25T17:00:00\", \"2020-08-26T09:00:00\", \"2020-08-26T16:00:00\", \"2020-08-27T08:00:00\", \"2020-08-27T19:00:00\", \"2020-08-28T10:00:00\", \"2020-08-28T16:00:00\", \"2020-08-29T12:00:00\", \"2020-08-31T08:00:00\", \"2020-09-01T08:00:00\", \"2020-09-01T16:00:00\", \"2020-09-03T08:00:00\", \"2020-09-03T17:00:00\", \"2020-09-04T16:00:00\", \"2020-09-05T16:00:00\", \"2020-09-07T09:00:00\", \"2020-09-07T17:00:00\", \"2020-09-08T10:00:00\", \"2020-09-08T16:00:00\"], \"xaxis\": \"x\", \"y\": [0.20499999821186066, 0.20499999821186066, 0.20499999821186066, 0.20499999821186066, 0.20499999821186066, 0.20499999821186066, 0.20499999821186066, 0.20499999821186066, 0.20499999821186066, 0.20499999821186066, 0.20499999821186066, 0.20499999821186066, 0.20499999821186066, 0.20499999821186066, 0.20499999821186066, 0.20499999821186066, 0.20499999821186066, 0.20499999821186066, 0.20499999821186066, 0.20499999821186066, 0.20499999821186066, 0.20499999821186066, 0.20499999821186066, 0.20499999821186066, 0.20499999821186066, 0.20499999821186066, 0.20499999821186066, 0.20499999821186066, 0.20499999821186066, 0.20499999821186066, 0.20499999821186066, 0.20499999821186066, 0.20499999821186066, 0.20499999821186066], \"yaxis\": \"y\"}, {\"line\": {\"color\": \"#33C2FF\"}, \"mode\": \"lines\", \"name\": \"UCL Hinge Dim F\", \"type\": \"scatter\", \"x\": [\"2020-08-14T17:00:00\", \"2020-08-15T08:00:00\", \"2020-08-15T16:00:00\", \"2020-08-17T09:00:00\", \"2020-08-17T17:00:00\", \"2020-08-18T09:00:00\", \"2020-08-18T16:00:00\", \"2020-08-19T15:00:00\", \"2020-08-20T09:00:00\", \"2020-08-21T09:00:00\", \"2020-08-22T08:00:00\", \"2020-08-22T17:00:00\", \"2020-08-24T07:00:00\", \"2020-08-24T18:00:00\", \"2020-08-25T08:00:00\", \"2020-08-25T17:00:00\", \"2020-08-26T09:00:00\", \"2020-08-26T16:00:00\", \"2020-08-27T08:00:00\", \"2020-08-27T19:00:00\", \"2020-08-28T10:00:00\", \"2020-08-28T16:00:00\", \"2020-08-29T12:00:00\", \"2020-08-31T08:00:00\", \"2020-09-01T08:00:00\", \"2020-09-01T16:00:00\", \"2020-09-03T08:00:00\", \"2020-09-03T17:00:00\", \"2020-09-04T16:00:00\", \"2020-09-05T16:00:00\", \"2020-09-07T09:00:00\", \"2020-09-07T17:00:00\", \"2020-09-08T10:00:00\", \"2020-09-08T16:00:00\"], \"xaxis\": \"x\", \"y\": [0.23499999940395355, 0.23499999940395355, 0.23499999940395355, 0.23499999940395355, 0.23499999940395355, 0.23499999940395355, 0.23499999940395355, 0.23499999940395355, 0.23499999940395355, 0.23499999940395355, 0.24199999868869781, 0.24199999868869781, 0.24199999868869781, 0.24199999868869781, 0.24199999868869781, 0.24199999868869781, 0.24199999868869781, 0.24199999868869781, 0.24199999868869781, 0.24199999868869781, 0.24199999868869781, 0.24699999392032623, 0.24699999392032623, 0.24699999392032623, 0.24699999392032623, 0.24699999392032623, 0.24699999392032623, 0.24699999392032623, 0.24500000476837158, 0.24500000476837158, 0.24500000476837158, 0.24500000476837158, 0.24500000476837158, 0.24500000476837158], \"yaxis\": \"y\"}, {\"line\": {\"color\": \"#33C2FF\"}, \"mode\": \"lines\", \"name\": \"LCL Hinge Dim F\", \"type\": \"scatter\", \"x\": [\"2020-08-14T17:00:00\", \"2020-08-15T08:00:00\", \"2020-08-15T16:00:00\", \"2020-08-17T09:00:00\", \"2020-08-17T17:00:00\", \"2020-08-18T09:00:00\", \"2020-08-18T16:00:00\", \"2020-08-19T15:00:00\", \"2020-08-20T09:00:00\", \"2020-08-21T09:00:00\", \"2020-08-22T08:00:00\", \"2020-08-22T17:00:00\", \"2020-08-24T07:00:00\", \"2020-08-24T18:00:00\", \"2020-08-25T08:00:00\", \"2020-08-25T17:00:00\", \"2020-08-26T09:00:00\", \"2020-08-26T16:00:00\", \"2020-08-27T08:00:00\", \"2020-08-27T19:00:00\", \"2020-08-28T10:00:00\", \"2020-08-28T16:00:00\", \"2020-08-29T12:00:00\", \"2020-08-31T08:00:00\", \"2020-09-01T08:00:00\", \"2020-09-01T16:00:00\", \"2020-09-03T08:00:00\", \"2020-09-03T17:00:00\", \"2020-09-04T16:00:00\", \"2020-09-05T16:00:00\", \"2020-09-07T09:00:00\", \"2020-09-07T17:00:00\", \"2020-09-08T10:00:00\", \"2020-09-08T16:00:00\"], \"xaxis\": \"x\", \"y\": [0.2029999941587448, 0.2029999941587448, 0.2029999941587448, 0.2029999941587448, 0.2029999941587448, 0.2029999941587448, 0.2029999941587448, 0.2029999941587448, 0.2029999941587448, 0.2029999941587448, 0.19599999487400055, 0.19599999487400055, 0.19599999487400055, 0.19599999487400055, 0.19599999487400055, 0.19599999487400055, 0.19599999487400055, 0.19599999487400055, 0.19599999487400055, 0.19599999487400055, 0.19599999487400055, 0.20200000703334808, 0.20200000703334808, 0.20200000703334808, 0.20200000703334808, 0.20200000703334808, 0.20200000703334808, 0.20200000703334808, 0.20399999618530273, 0.20399999618530273, 0.20399999618530273, 0.20399999618530273, 0.20399999618530273, 0.20399999618530273], \"yaxis\": \"y\"}, {\"line\": {\"color\": \"#33C2FF\"}, \"mode\": \"lines\", \"name\": \"Mean Hinge Dim F\", \"type\": \"scatter\", \"x\": [\"2020-08-14T17:00:00\", \"2020-08-15T08:00:00\", \"2020-08-15T16:00:00\", \"2020-08-17T09:00:00\", \"2020-08-17T17:00:00\", \"2020-08-18T09:00:00\", \"2020-08-18T16:00:00\", \"2020-08-19T15:00:00\", \"2020-08-20T09:00:00\", \"2020-08-21T09:00:00\", \"2020-08-22T08:00:00\", \"2020-08-22T17:00:00\", \"2020-08-24T07:00:00\", \"2020-08-24T18:00:00\", \"2020-08-25T08:00:00\", \"2020-08-25T17:00:00\", \"2020-08-26T09:00:00\", \"2020-08-26T16:00:00\", \"2020-08-27T08:00:00\", \"2020-08-27T19:00:00\", \"2020-08-28T10:00:00\", \"2020-08-28T16:00:00\", \"2020-08-29T12:00:00\", \"2020-08-31T08:00:00\", \"2020-09-01T08:00:00\", \"2020-09-01T16:00:00\", \"2020-09-03T08:00:00\", \"2020-09-03T17:00:00\", \"2020-09-04T16:00:00\", \"2020-09-05T16:00:00\", \"2020-09-07T09:00:00\", \"2020-09-07T17:00:00\", \"2020-09-08T10:00:00\", \"2020-09-08T16:00:00\"], \"xaxis\": \"x\", \"y\": [0.21899999678134918, 0.21899999678134918, 0.21899999678134918, 0.21899999678134918, 0.21899999678134918, 0.21899999678134918, 0.21899999678134918, 0.21899999678134918, 0.21899999678134918, 0.21899999678134918, 0.21899999678134918, 0.21899999678134918, 0.21899999678134918, 0.21899999678134918, 0.21899999678134918, 0.21899999678134918, 0.21899999678134918, 0.21899999678134918, 0.21899999678134918, 0.21899999678134918, 0.21899999678134918, 0.22499999403953552, 0.22499999403953552, 0.22499999403953552, 0.22499999403953552, 0.22499999403953552, 0.22499999403953552, 0.22499999403953552, 0.2240000069141388, 0.2240000069141388, 0.2240000069141388, 0.2240000069141388, 0.2240000069141388, 0.2240000069141388], \"yaxis\": \"y\"}, {\"line\": {\"color\": \"#4280F5\"}, \"mode\": \"lines+markers\", \"name\": \"mean Chi\\u1ec1u d\\u00e0i Dim B\", \"type\": \"scatter\", \"x\": [\"2020-08-14T17:00:00\", \"2020-08-15T08:00:00\", \"2020-08-15T16:00:00\", \"2020-08-17T09:00:00\", \"2020-08-17T17:00:00\", \"2020-08-18T09:00:00\", \"2020-08-18T16:00:00\", \"2020-08-19T15:00:00\", \"2020-08-20T09:00:00\", \"2020-08-21T09:00:00\", \"2020-08-22T08:00:00\", \"2020-08-22T17:00:00\", \"2020-08-24T07:00:00\", \"2020-08-24T18:00:00\", \"2020-08-25T08:00:00\", \"2020-08-25T17:00:00\", \"2020-08-26T09:00:00\", \"2020-08-26T16:00:00\", \"2020-08-27T08:00:00\", \"2020-08-27T19:00:00\", \"2020-08-28T10:00:00\", \"2020-08-28T16:00:00\", \"2020-08-29T12:00:00\", \"2020-08-31T08:00:00\", \"2020-09-01T08:00:00\", \"2020-09-01T16:00:00\", \"2020-09-03T08:00:00\", \"2020-09-03T17:00:00\", \"2020-09-04T16:00:00\", \"2020-09-05T16:00:00\", \"2020-09-07T09:00:00\", \"2020-09-07T17:00:00\", \"2020-09-08T10:00:00\", \"2020-09-08T16:00:00\"], \"xaxis\": \"x2\", \"y\": [7.617000102996826, 7.61133337020874, 7.618000030517578, 7.61899995803833, 7.61733341217041, 7.617000102996826, 7.613333225250244, 7.614999771118164, 7.618333339691162, 7.614999771118164, 7.613666534423828, 7.60966682434082, 7.61299991607666, 7.615333080291748, 7.616000175476074, 7.614333152770996, 7.604333400726318, 7.618333339691162, 7.61133337020874, 7.610333442687988, 7.609333515167236, 7.619666576385498, 7.613999843597412, 7.614333152770996, 7.616666793823242, 7.614999771118164, 7.618000030517578, 7.61299991607666, 7.615333080291748, 7.607666492462158, 7.613333225250244, 7.613999843597412, 7.619999885559082, 7.61566686630249], \"yaxis\": \"y2\"}, {\"line\": {\"color\": \"#FF5733\"}, \"mode\": \"lines\", \"name\": \"USL Chi\\u1ec1u d\\u00e0i Dim B\", \"type\": \"scatter\", \"x\": [\"2020-08-14T17:00:00\", \"2020-08-15T08:00:00\", \"2020-08-15T16:00:00\", \"2020-08-17T09:00:00\", \"2020-08-17T17:00:00\", \"2020-08-18T09:00:00\", \"2020-08-18T16:00:00\", \"2020-08-19T15:00:00\", \"2020-08-20T09:00:00\", \"2020-08-21T09:00:00\", \"2020-08-22T08:00:00\", \"2020-08-22T17:00:00\", \"2020-08-24T07:00:00\", \"2020-08-24T18:00:00\", \"2020-08-25T08:00:00\", \"2020-08-25T17:00:00\", \"2020-08-26T09:00:00\", \"2020-08-26T16:00:00\", \"2020-08-27T08:00:00\", \"2020-08-27T19:00:00\", \"2020-08-28T10:00:00\", \"2020-08-28T16:00:00\", \"2020-08-29T12:00:00\", \"2020-08-31T08:00:00\", \"2020-09-01T08:00:00\", \"2020-09-01T16:00:00\", \"2020-09-03T08:00:00\", \"2020-09-03T17:00:00\", \"2020-09-04T16:00:00\", \"2020-09-05T16:00:00\", \"2020-09-07T09:00:00\", \"2020-09-07T17:00:00\", \"2020-09-08T10:00:00\", \"2020-09-08T16:00:00\"], \"xaxis\": \"x2\", \"y\": [7.619999885559082, 7.619999885559082, 7.619999885559082, 7.619999885559082, 7.619999885559082, 7.619999885559082, 7.619999885559082, 7.619999885559082, 7.619999885559082, 7.619999885559082, 7.619999885559082, 7.619999885559082, 7.619999885559082, 7.619999885559082, 7.619999885559082, 7.619999885559082, 7.619999885559082, 7.619999885559082, 7.619999885559082, 7.619999885559082, 7.619999885559082, 7.619999885559082, 7.619999885559082, 7.619999885559082, 7.619999885559082, 7.619999885559082, 7.619999885559082, 7.619999885559082, 7.619999885559082, 7.619999885559082, 7.619999885559082, 7.619999885559082, 7.619999885559082, 7.619999885559082], \"yaxis\": \"y2\"}, {\"line\": {\"color\": \"#FF5733\"}, \"mode\": \"lines\", \"name\": \"LSL Chi\\u1ec1u d\\u00e0i Dim B\", \"type\": \"scatter\", \"x\": [\"2020-08-14T17:00:00\", \"2020-08-15T08:00:00\", \"2020-08-15T16:00:00\", \"2020-08-17T09:00:00\", \"2020-08-17T17:00:00\", \"2020-08-18T09:00:00\", \"2020-08-18T16:00:00\", \"2020-08-19T15:00:00\", \"2020-08-20T09:00:00\", \"2020-08-21T09:00:00\", \"2020-08-22T08:00:00\", \"2020-08-22T17:00:00\", \"2020-08-24T07:00:00\", \"2020-08-24T18:00:00\", \"2020-08-25T08:00:00\", \"2020-08-25T17:00:00\", \"2020-08-26T09:00:00\", \"2020-08-26T16:00:00\", \"2020-08-27T08:00:00\", \"2020-08-27T19:00:00\", \"2020-08-28T10:00:00\", \"2020-08-28T16:00:00\", \"2020-08-29T12:00:00\", \"2020-08-31T08:00:00\", \"2020-09-01T08:00:00\", \"2020-09-01T16:00:00\", \"2020-09-03T08:00:00\", \"2020-09-03T17:00:00\", \"2020-09-04T16:00:00\", \"2020-09-05T16:00:00\", \"2020-09-07T09:00:00\", \"2020-09-07T17:00:00\", \"2020-09-08T10:00:00\", \"2020-09-08T16:00:00\"], \"xaxis\": \"x2\", \"y\": [7.599999904632568, 7.599999904632568, 7.599999904632568, 7.599999904632568, 7.599999904632568, 7.599999904632568, 7.599999904632568, 7.599999904632568, 7.599999904632568, 7.599999904632568, 7.599999904632568, 7.599999904632568, 7.599999904632568, 7.599999904632568, 7.599999904632568, 7.599999904632568, 7.599999904632568, 7.599999904632568, 7.599999904632568, 7.599999904632568, 7.599999904632568, 7.599999904632568, 7.599999904632568, 7.599999904632568, 7.599999904632568, 7.599999904632568, 7.599999904632568, 7.599999904632568, 7.599999904632568, 7.599999904632568, 7.599999904632568, 7.599999904632568, 7.599999904632568, 7.599999904632568], \"yaxis\": \"y2\"}, {\"line\": {\"color\": \"#33C2FF\"}, \"mode\": \"lines\", \"name\": \"UCL Chi\\u1ec1u d\\u00e0i Dim B\", \"type\": \"scatter\", \"x\": [\"2020-08-14T17:00:00\", \"2020-08-15T08:00:00\", \"2020-08-15T16:00:00\", \"2020-08-17T09:00:00\", \"2020-08-17T17:00:00\", \"2020-08-18T09:00:00\", \"2020-08-18T16:00:00\", \"2020-08-19T15:00:00\", \"2020-08-20T09:00:00\", \"2020-08-21T09:00:00\", \"2020-08-22T08:00:00\", \"2020-08-22T17:00:00\", \"2020-08-24T07:00:00\", \"2020-08-24T18:00:00\", \"2020-08-25T08:00:00\", \"2020-08-25T17:00:00\", \"2020-08-26T09:00:00\", \"2020-08-26T16:00:00\", \"2020-08-27T08:00:00\", \"2020-08-27T19:00:00\", \"2020-08-28T10:00:00\", \"2020-08-28T16:00:00\", \"2020-08-29T12:00:00\", \"2020-08-31T08:00:00\", \"2020-09-01T08:00:00\", \"2020-09-01T16:00:00\", \"2020-09-03T08:00:00\", \"2020-09-03T17:00:00\", \"2020-09-04T16:00:00\", \"2020-09-05T16:00:00\", \"2020-09-07T09:00:00\", \"2020-09-07T17:00:00\", \"2020-09-08T10:00:00\", \"2020-09-08T16:00:00\"], \"xaxis\": \"x2\", \"y\": [7.626999855041504, 7.626999855041504, 7.626999855041504, 7.626999855041504, 7.626999855041504, 7.626999855041504, 7.626999855041504, 7.626999855041504, 7.626999855041504, 7.626999855041504, 7.625, 7.625, 7.625, 7.625, 7.625, 7.625, 7.625, 7.625, 7.625, 7.625, 7.625, 7.625, 7.625, 7.625, 7.625, 7.625, 7.625, 7.625, 7.627999782562256, 7.627999782562256, 7.627999782562256, 7.627999782562256, 7.627999782562256, 7.627999782562256], \"yaxis\": \"y2\"}, {\"line\": {\"color\": \"#33C2FF\"}, \"mode\": \"lines\", \"name\": \"LCL Chi\\u1ec1u d\\u00e0i Dim B\", \"type\": \"scatter\", \"x\": [\"2020-08-14T17:00:00\", \"2020-08-15T08:00:00\", \"2020-08-15T16:00:00\", \"2020-08-17T09:00:00\", \"2020-08-17T17:00:00\", \"2020-08-18T09:00:00\", \"2020-08-18T16:00:00\", \"2020-08-19T15:00:00\", \"2020-08-20T09:00:00\", \"2020-08-21T09:00:00\", \"2020-08-22T08:00:00\", \"2020-08-22T17:00:00\", \"2020-08-24T07:00:00\", \"2020-08-24T18:00:00\", \"2020-08-25T08:00:00\", \"2020-08-25T17:00:00\", \"2020-08-26T09:00:00\", \"2020-08-26T16:00:00\", \"2020-08-27T08:00:00\", \"2020-08-27T19:00:00\", \"2020-08-28T10:00:00\", \"2020-08-28T16:00:00\", \"2020-08-29T12:00:00\", \"2020-08-31T08:00:00\", \"2020-09-01T08:00:00\", \"2020-09-01T16:00:00\", \"2020-09-03T08:00:00\", \"2020-09-03T17:00:00\", \"2020-09-04T16:00:00\", \"2020-09-05T16:00:00\", \"2020-09-07T09:00:00\", \"2020-09-07T17:00:00\", \"2020-09-08T10:00:00\", \"2020-09-08T16:00:00\"], \"xaxis\": \"x2\", \"y\": [7.605000019073486, 7.605000019073486, 7.605000019073486, 7.605000019073486, 7.605000019073486, 7.605000019073486, 7.605000019073486, 7.605000019073486, 7.605000019073486, 7.605000019073486, 7.598999977111816, 7.598999977111816, 7.598999977111816, 7.598999977111816, 7.598999977111816, 7.598999977111816, 7.598999977111816, 7.598999977111816, 7.598999977111816, 7.598999977111816, 7.598999977111816, 7.605999946594238, 7.605999946594238, 7.605999946594238, 7.605999946594238, 7.605999946594238, 7.605999946594238, 7.605999946594238, 7.599999904632568, 7.599999904632568, 7.599999904632568, 7.599999904632568, 7.599999904632568, 7.599999904632568], \"yaxis\": \"y2\"}, {\"line\": {\"color\": \"#33C2FF\"}, \"mode\": \"lines\", \"name\": \"Mean Chi\\u1ec1u d\\u00e0i Dim B\", \"type\": \"scatter\", \"x\": [\"2020-08-14T17:00:00\", \"2020-08-15T08:00:00\", \"2020-08-15T16:00:00\", \"2020-08-17T09:00:00\", \"2020-08-17T17:00:00\", \"2020-08-18T09:00:00\", \"2020-08-18T16:00:00\", \"2020-08-19T15:00:00\", \"2020-08-20T09:00:00\", \"2020-08-21T09:00:00\", \"2020-08-22T08:00:00\", \"2020-08-22T17:00:00\", \"2020-08-24T07:00:00\", \"2020-08-24T18:00:00\", \"2020-08-25T08:00:00\", \"2020-08-25T17:00:00\", \"2020-08-26T09:00:00\", \"2020-08-26T16:00:00\", \"2020-08-27T08:00:00\", \"2020-08-27T19:00:00\", \"2020-08-28T10:00:00\", \"2020-08-28T16:00:00\", \"2020-08-29T12:00:00\", \"2020-08-31T08:00:00\", \"2020-09-01T08:00:00\", \"2020-09-01T16:00:00\", \"2020-09-03T08:00:00\", \"2020-09-03T17:00:00\", \"2020-09-04T16:00:00\", \"2020-09-05T16:00:00\", \"2020-09-07T09:00:00\", \"2020-09-07T17:00:00\", \"2020-09-08T10:00:00\", \"2020-09-08T16:00:00\"], \"xaxis\": \"x2\", \"y\": [7.616000175476074, 7.616000175476074, 7.616000175476074, 7.616000175476074, 7.616000175476074, 7.616000175476074, 7.616000175476074, 7.616000175476074, 7.616000175476074, 7.616000175476074, 7.611999988555908, 7.611999988555908, 7.611999988555908, 7.611999988555908, 7.611999988555908, 7.611999988555908, 7.611999988555908, 7.611999988555908, 7.611999988555908, 7.611999988555908, 7.611999988555908, 7.616000175476074, 7.616000175476074, 7.616000175476074, 7.616000175476074, 7.616000175476074, 7.616000175476074, 7.616000175476074, 7.613999843597412, 7.613999843597412, 7.613999843597412, 7.613999843597412, 7.613999843597412, 7.613999843597412], \"yaxis\": \"y2\"}, {\"line\": {\"color\": \"#4280F5\"}, \"mode\": \"lines+markers\", \"name\": \"mean Chi\\u1ec1u r\\u1ed9ng Dim A\", \"type\": \"scatter\", \"x\": [\"2020-08-14T17:00:00\", \"2020-08-15T08:00:00\", \"2020-08-15T16:00:00\", \"2020-08-17T09:00:00\", \"2020-08-17T17:00:00\", \"2020-08-18T09:00:00\", \"2020-08-18T16:00:00\", \"2020-08-19T15:00:00\", \"2020-08-20T09:00:00\", \"2020-08-21T09:00:00\", \"2020-08-22T08:00:00\", \"2020-08-22T17:00:00\", \"2020-08-24T07:00:00\", \"2020-08-24T18:00:00\", \"2020-08-25T08:00:00\", \"2020-08-25T17:00:00\", \"2020-08-26T09:00:00\", \"2020-08-26T16:00:00\", \"2020-08-27T08:00:00\", \"2020-08-27T19:00:00\", \"2020-08-28T10:00:00\", \"2020-08-28T16:00:00\", \"2020-08-29T12:00:00\", \"2020-08-31T08:00:00\", \"2020-09-01T08:00:00\", \"2020-09-01T16:00:00\", \"2020-09-03T08:00:00\", \"2020-09-03T17:00:00\", \"2020-09-04T16:00:00\", \"2020-09-05T16:00:00\", \"2020-09-07T09:00:00\", \"2020-09-07T17:00:00\", \"2020-09-08T10:00:00\", \"2020-09-08T16:00:00\"], \"xaxis\": \"x3\", \"y\": [3.8366665840148926, 3.8310000896453857, 3.8380000591278076, 3.8359999656677246, 3.8359999656677246, 3.8380000591278076, 3.8289999961853027, 3.8296666145324707, 3.8393332958221436, 3.8386666774749756, 3.8363332748413086, 3.8313333988189697, 3.8320000171661377, 3.8366665840148926, 3.8356666564941406, 3.8366665840148926, 3.8340001106262207, 3.8326666355133057, 3.8353333473205566, 3.8293333053588867, 3.8296666145324707, 3.8369998931884766, 3.8376665115356445, 3.8356666564941406, 3.8350000381469727, 3.8316667079925537, 3.8373332023620605, 3.8339998722076416, 3.8326666355133057, 3.8359999656677246, 3.8329999446868896, 3.8389999866485596, 3.8363332748413086, 3.8346667289733887], \"yaxis\": \"y3\"}, {\"line\": {\"color\": \"#FF5733\"}, \"mode\": \"lines\", \"name\": \"USL Chi\\u1ec1u r\\u1ed9ng Dim A\", \"type\": \"scatter\", \"x\": [\"2020-08-14T17:00:00\", \"2020-08-15T08:00:00\", \"2020-08-15T16:00:00\", \"2020-08-17T09:00:00\", \"2020-08-17T17:00:00\", \"2020-08-18T09:00:00\", \"2020-08-18T16:00:00\", \"2020-08-19T15:00:00\", \"2020-08-20T09:00:00\", \"2020-08-21T09:00:00\", \"2020-08-22T08:00:00\", \"2020-08-22T17:00:00\", \"2020-08-24T07:00:00\", \"2020-08-24T18:00:00\", \"2020-08-25T08:00:00\", \"2020-08-25T17:00:00\", \"2020-08-26T09:00:00\", \"2020-08-26T16:00:00\", \"2020-08-27T08:00:00\", \"2020-08-27T19:00:00\", \"2020-08-28T10:00:00\", \"2020-08-28T16:00:00\", \"2020-08-29T12:00:00\", \"2020-08-31T08:00:00\", \"2020-09-01T08:00:00\", \"2020-09-01T16:00:00\", \"2020-09-03T08:00:00\", \"2020-09-03T17:00:00\", \"2020-09-04T16:00:00\", \"2020-09-05T16:00:00\", \"2020-09-07T09:00:00\", \"2020-09-07T17:00:00\", \"2020-09-08T10:00:00\", \"2020-09-08T16:00:00\"], \"xaxis\": \"x3\", \"y\": [3.8399999141693115, 3.8399999141693115, 3.8399999141693115, 3.8399999141693115, 3.8399999141693115, 3.8399999141693115, 3.8399999141693115, 3.8399999141693115, 3.8399999141693115, 3.8399999141693115, 3.8399999141693115, 3.8399999141693115, 3.8399999141693115, 3.8399999141693115, 3.8399999141693115, 3.8399999141693115, 3.8399999141693115, 3.8399999141693115, 3.8399999141693115, 3.8399999141693115, 3.8399999141693115, 3.8399999141693115, 3.8399999141693115, 3.8399999141693115, 3.8399999141693115, 3.8399999141693115, 3.8399999141693115, 3.8399999141693115, 3.8399999141693115, 3.8399999141693115, 3.8399999141693115, 3.8399999141693115, 3.8399999141693115, 3.8399999141693115], \"yaxis\": \"y3\"}, {\"line\": {\"color\": \"#FF5733\"}, \"mode\": \"lines\", \"name\": \"LSL Chi\\u1ec1u r\\u1ed9ng Dim A\", \"type\": \"scatter\", \"x\": [\"2020-08-14T17:00:00\", \"2020-08-15T08:00:00\", \"2020-08-15T16:00:00\", \"2020-08-17T09:00:00\", \"2020-08-17T17:00:00\", \"2020-08-18T09:00:00\", \"2020-08-18T16:00:00\", \"2020-08-19T15:00:00\", \"2020-08-20T09:00:00\", \"2020-08-21T09:00:00\", \"2020-08-22T08:00:00\", \"2020-08-22T17:00:00\", \"2020-08-24T07:00:00\", \"2020-08-24T18:00:00\", \"2020-08-25T08:00:00\", \"2020-08-25T17:00:00\", \"2020-08-26T09:00:00\", \"2020-08-26T16:00:00\", \"2020-08-27T08:00:00\", \"2020-08-27T19:00:00\", \"2020-08-28T10:00:00\", \"2020-08-28T16:00:00\", \"2020-08-29T12:00:00\", \"2020-08-31T08:00:00\", \"2020-09-01T08:00:00\", \"2020-09-01T16:00:00\", \"2020-09-03T08:00:00\", \"2020-09-03T17:00:00\", \"2020-09-04T16:00:00\", \"2020-09-05T16:00:00\", \"2020-09-07T09:00:00\", \"2020-09-07T17:00:00\", \"2020-09-08T10:00:00\", \"2020-09-08T16:00:00\"], \"xaxis\": \"x3\", \"y\": [3.819999933242798, 3.819999933242798, 3.819999933242798, 3.819999933242798, 3.819999933242798, 3.819999933242798, 3.819999933242798, 3.819999933242798, 3.819999933242798, 3.819999933242798, 3.819999933242798, 3.819999933242798, 3.819999933242798, 3.819999933242798, 3.819999933242798, 3.819999933242798, 3.819999933242798, 3.819999933242798, 3.819999933242798, 3.819999933242798, 3.819999933242798, 3.819999933242798, 3.819999933242798, 3.819999933242798, 3.819999933242798, 3.819999933242798, 3.819999933242798, 3.819999933242798, 3.819999933242798, 3.819999933242798, 3.819999933242798, 3.819999933242798, 3.819999933242798, 3.819999933242798], \"yaxis\": \"y3\"}, {\"line\": {\"color\": \"#33C2FF\"}, \"mode\": \"lines\", \"name\": \"UCL Chi\\u1ec1u r\\u1ed9ng Dim A\", \"type\": \"scatter\", \"x\": [\"2020-08-14T17:00:00\", \"2020-08-15T08:00:00\", \"2020-08-15T16:00:00\", \"2020-08-17T09:00:00\", \"2020-08-17T17:00:00\", \"2020-08-18T09:00:00\", \"2020-08-18T16:00:00\", \"2020-08-19T15:00:00\", \"2020-08-20T09:00:00\", \"2020-08-21T09:00:00\", \"2020-08-22T08:00:00\", \"2020-08-22T17:00:00\", \"2020-08-24T07:00:00\", \"2020-08-24T18:00:00\", \"2020-08-25T08:00:00\", \"2020-08-25T17:00:00\", \"2020-08-26T09:00:00\", \"2020-08-26T16:00:00\", \"2020-08-27T08:00:00\", \"2020-08-27T19:00:00\", \"2020-08-28T10:00:00\", \"2020-08-28T16:00:00\", \"2020-08-29T12:00:00\", \"2020-08-31T08:00:00\", \"2020-09-01T08:00:00\", \"2020-09-01T16:00:00\", \"2020-09-03T08:00:00\", \"2020-09-03T17:00:00\", \"2020-09-04T16:00:00\", \"2020-09-05T16:00:00\", \"2020-09-07T09:00:00\", \"2020-09-07T17:00:00\", \"2020-09-08T10:00:00\", \"2020-09-08T16:00:00\"], \"xaxis\": \"x3\", \"y\": [3.8489999771118164, 3.8489999771118164, 3.8489999771118164, 3.8489999771118164, 3.8489999771118164, 3.8489999771118164, 3.8489999771118164, 3.8489999771118164, 3.8489999771118164, 3.8489999771118164, 3.8459999561309814, 3.8459999561309814, 3.8459999561309814, 3.8459999561309814, 3.8459999561309814, 3.8459999561309814, 3.8459999561309814, 3.8459999561309814, 3.8459999561309814, 3.8459999561309814, 3.8459999561309814, 3.8459999561309814, 3.8459999561309814, 3.8459999561309814, 3.8459999561309814, 3.8459999561309814, 3.8459999561309814, 3.8459999561309814, 3.8459999561309814, 3.8459999561309814, 3.8459999561309814, 3.8459999561309814, 3.8459999561309814, 3.8459999561309814], \"yaxis\": \"y3\"}, {\"line\": {\"color\": \"#33C2FF\"}, \"mode\": \"lines\", \"name\": \"LCL Chi\\u1ec1u r\\u1ed9ng Dim A\", \"type\": \"scatter\", \"x\": [\"2020-08-14T17:00:00\", \"2020-08-15T08:00:00\", \"2020-08-15T16:00:00\", \"2020-08-17T09:00:00\", \"2020-08-17T17:00:00\", \"2020-08-18T09:00:00\", \"2020-08-18T16:00:00\", \"2020-08-19T15:00:00\", \"2020-08-20T09:00:00\", \"2020-08-21T09:00:00\", \"2020-08-22T08:00:00\", \"2020-08-22T17:00:00\", \"2020-08-24T07:00:00\", \"2020-08-24T18:00:00\", \"2020-08-25T08:00:00\", \"2020-08-25T17:00:00\", \"2020-08-26T09:00:00\", \"2020-08-26T16:00:00\", \"2020-08-27T08:00:00\", \"2020-08-27T19:00:00\", \"2020-08-28T10:00:00\", \"2020-08-28T16:00:00\", \"2020-08-29T12:00:00\", \"2020-08-31T08:00:00\", \"2020-09-01T08:00:00\", \"2020-09-01T16:00:00\", \"2020-09-03T08:00:00\", \"2020-09-03T17:00:00\", \"2020-09-04T16:00:00\", \"2020-09-05T16:00:00\", \"2020-09-07T09:00:00\", \"2020-09-07T17:00:00\", \"2020-09-08T10:00:00\", \"2020-09-08T16:00:00\"], \"xaxis\": \"x3\", \"y\": [3.821000099182129, 3.821000099182129, 3.821000099182129, 3.821000099182129, 3.821000099182129, 3.821000099182129, 3.821000099182129, 3.821000099182129, 3.821000099182129, 3.821000099182129, 3.821000099182129, 3.821000099182129, 3.821000099182129, 3.821000099182129, 3.821000099182129, 3.821000099182129, 3.821000099182129, 3.821000099182129, 3.821000099182129, 3.821000099182129, 3.821000099182129, 3.825000047683716, 3.825000047683716, 3.825000047683716, 3.825000047683716, 3.825000047683716, 3.825000047683716, 3.825000047683716, 3.8239998817443848, 3.8239998817443848, 3.8239998817443848, 3.8239998817443848, 3.8239998817443848, 3.8239998817443848], \"yaxis\": \"y3\"}, {\"line\": {\"color\": \"#33C2FF\"}, \"mode\": \"lines\", \"name\": \"Mean Chi\\u1ec1u r\\u1ed9ng Dim A\", \"type\": \"scatter\", \"x\": [\"2020-08-14T17:00:00\", \"2020-08-15T08:00:00\", \"2020-08-15T16:00:00\", \"2020-08-17T09:00:00\", \"2020-08-17T17:00:00\", \"2020-08-18T09:00:00\", \"2020-08-18T16:00:00\", \"2020-08-19T15:00:00\", \"2020-08-20T09:00:00\", \"2020-08-21T09:00:00\", \"2020-08-22T08:00:00\", \"2020-08-22T17:00:00\", \"2020-08-24T07:00:00\", \"2020-08-24T18:00:00\", \"2020-08-25T08:00:00\", \"2020-08-25T17:00:00\", \"2020-08-26T09:00:00\", \"2020-08-26T16:00:00\", \"2020-08-27T08:00:00\", \"2020-08-27T19:00:00\", \"2020-08-28T10:00:00\", \"2020-08-28T16:00:00\", \"2020-08-29T12:00:00\", \"2020-08-31T08:00:00\", \"2020-09-01T08:00:00\", \"2020-09-01T16:00:00\", \"2020-09-03T08:00:00\", \"2020-09-03T17:00:00\", \"2020-09-04T16:00:00\", \"2020-09-05T16:00:00\", \"2020-09-07T09:00:00\", \"2020-09-07T17:00:00\", \"2020-09-08T10:00:00\", \"2020-09-08T16:00:00\"], \"xaxis\": \"x3\", \"y\": [3.8350000381469727, 3.8350000381469727, 3.8350000381469727, 3.8350000381469727, 3.8350000381469727, 3.8350000381469727, 3.8350000381469727, 3.8350000381469727, 3.8350000381469727, 3.8350000381469727, 3.8340001106262207, 3.8340001106262207, 3.8340001106262207, 3.8340001106262207, 3.8340001106262207, 3.8340001106262207, 3.8340001106262207, 3.8340001106262207, 3.8340001106262207, 3.8340001106262207, 3.8340001106262207, 3.8350000381469727, 3.8350000381469727, 3.8350000381469727, 3.8350000381469727, 3.8350000381469727, 3.8350000381469727, 3.8350000381469727, 3.8350000381469727, 3.8350000381469727, 3.8350000381469727, 3.8350000381469727, 3.8350000381469727, 3.8350000381469727], \"yaxis\": \"y3\"}, {\"line\": {\"color\": \"#4280F5\"}, \"mode\": \"lines+markers\", \"name\": \"mean L.T\\u00e2m Dim N\", \"type\": \"scatter\", \"x\": [\"2020-08-14T17:00:00\", \"2020-08-15T08:00:00\", \"2020-08-15T16:00:00\", \"2020-08-17T09:00:00\", \"2020-08-17T17:00:00\", \"2020-08-18T09:00:00\", \"2020-08-18T16:00:00\", \"2020-08-19T15:00:00\", \"2020-08-20T09:00:00\", \"2020-08-21T09:00:00\", \"2020-08-22T08:00:00\", \"2020-08-22T17:00:00\", \"2020-08-24T07:00:00\", \"2020-08-24T18:00:00\", \"2020-08-25T08:00:00\", \"2020-08-25T17:00:00\", \"2020-08-26T09:00:00\", \"2020-08-26T16:00:00\", \"2020-08-27T08:00:00\", \"2020-08-27T19:00:00\", \"2020-08-28T10:00:00\", \"2020-08-28T16:00:00\", \"2020-08-29T12:00:00\", \"2020-08-31T08:00:00\", \"2020-09-01T08:00:00\", \"2020-09-01T16:00:00\", \"2020-09-03T08:00:00\", \"2020-09-03T17:00:00\", \"2020-09-04T16:00:00\", \"2020-09-05T16:00:00\", \"2020-09-07T09:00:00\", \"2020-09-07T17:00:00\", \"2020-09-08T10:00:00\", \"2020-09-08T16:00:00\"], \"xaxis\": \"x4\", \"y\": [0.006000000052154064, 0.006666666828095913, 0.01066666655242443, 0.010000000707805157, 0.007000000216066837, 0.010999999940395355, 0.009999999776482582, 0.017999999225139618, 0.0063333334401249886, 0.012000000104308128, 0.014333333820104599, 0.008666666224598885, 0.012000000104308128, 0.016333334147930145, 0.008999999612569809, 0.014333332888782024, 0.014000000432133675, 0.013666666112840176, 0.003666666569188237, 0.012666666880249977, 0.009000000543892384, 0.020999999716877937, 0.00566666666418314, 0.014999999664723873, 0.008333333767950535, 0.004333333112299442, 0.007666666526347399, 0.007666666526347399, 0.004999999888241291, 0.006000000052154064, 0.00566666666418314, 0.008333333767950535, 0.01133333332836628, 0.00699999975040555], \"yaxis\": \"y4\"}, {\"line\": {\"color\": \"#FF5733\"}, \"mode\": \"lines\", \"name\": \"USL L.T\\u00e2m Dim N\", \"type\": \"scatter\", \"x\": [\"2020-08-14T17:00:00\", \"2020-08-15T08:00:00\", \"2020-08-15T16:00:00\", \"2020-08-17T09:00:00\", \"2020-08-17T17:00:00\", \"2020-08-18T09:00:00\", \"2020-08-18T16:00:00\", \"2020-08-19T15:00:00\", \"2020-08-20T09:00:00\", \"2020-08-21T09:00:00\", \"2020-08-22T08:00:00\", \"2020-08-22T17:00:00\", \"2020-08-24T07:00:00\", \"2020-08-24T18:00:00\", \"2020-08-25T08:00:00\", \"2020-08-25T17:00:00\", \"2020-08-26T09:00:00\", \"2020-08-26T16:00:00\", \"2020-08-27T08:00:00\", \"2020-08-27T19:00:00\", \"2020-08-28T10:00:00\", \"2020-08-28T16:00:00\", \"2020-08-29T12:00:00\", \"2020-08-31T08:00:00\", \"2020-09-01T08:00:00\", \"2020-09-01T16:00:00\", \"2020-09-03T08:00:00\", \"2020-09-03T17:00:00\", \"2020-09-04T16:00:00\", \"2020-09-05T16:00:00\", \"2020-09-07T09:00:00\", \"2020-09-07T17:00:00\", \"2020-09-08T10:00:00\", \"2020-09-08T16:00:00\"], \"xaxis\": \"x4\", \"y\": [0.02500000037252903, 0.02500000037252903, 0.02500000037252903, 0.02500000037252903, 0.02500000037252903, 0.02500000037252903, 0.02500000037252903, 0.02500000037252903, 0.02500000037252903, 0.02500000037252903, 0.02500000037252903, 0.02500000037252903, 0.02500000037252903, 0.02500000037252903, 0.02500000037252903, 0.02500000037252903, 0.02500000037252903, 0.02500000037252903, 0.02500000037252903, 0.02500000037252903, 0.02500000037252903, 0.02500000037252903, 0.02500000037252903, 0.02500000037252903, 0.02500000037252903, 0.02500000037252903, 0.02500000037252903, 0.02500000037252903, 0.02500000037252903, 0.02500000037252903, 0.02500000037252903, 0.02500000037252903, 0.02500000037252903, 0.02500000037252903], \"yaxis\": \"y4\"}, {\"line\": {\"color\": \"#FF5733\"}, \"mode\": \"lines\", \"name\": \"LSL L.T\\u00e2m Dim N\", \"type\": \"scatter\", \"x\": [\"2020-08-14T17:00:00\", \"2020-08-15T08:00:00\", \"2020-08-15T16:00:00\", \"2020-08-17T09:00:00\", \"2020-08-17T17:00:00\", \"2020-08-18T09:00:00\", \"2020-08-18T16:00:00\", \"2020-08-19T15:00:00\", \"2020-08-20T09:00:00\", \"2020-08-21T09:00:00\", \"2020-08-22T08:00:00\", \"2020-08-22T17:00:00\", \"2020-08-24T07:00:00\", \"2020-08-24T18:00:00\", \"2020-08-25T08:00:00\", \"2020-08-25T17:00:00\", \"2020-08-26T09:00:00\", \"2020-08-26T16:00:00\", \"2020-08-27T08:00:00\", \"2020-08-27T19:00:00\", \"2020-08-28T10:00:00\", \"2020-08-28T16:00:00\", \"2020-08-29T12:00:00\", \"2020-08-31T08:00:00\", \"2020-09-01T08:00:00\", \"2020-09-01T16:00:00\", \"2020-09-03T08:00:00\", \"2020-09-03T17:00:00\", \"2020-09-04T16:00:00\", \"2020-09-05T16:00:00\", \"2020-09-07T09:00:00\", \"2020-09-07T17:00:00\", \"2020-09-08T10:00:00\", \"2020-09-08T16:00:00\"], \"xaxis\": \"x4\", \"y\": [-0.02500000037252903, -0.02500000037252903, -0.02500000037252903, -0.02500000037252903, -0.02500000037252903, -0.02500000037252903, -0.02500000037252903, -0.02500000037252903, -0.02500000037252903, -0.02500000037252903, -0.02500000037252903, -0.02500000037252903, -0.02500000037252903, -0.02500000037252903, -0.02500000037252903, -0.02500000037252903, -0.02500000037252903, -0.02500000037252903, -0.02500000037252903, -0.02500000037252903, -0.02500000037252903, -0.02500000037252903, -0.02500000037252903, -0.02500000037252903, -0.02500000037252903, -0.02500000037252903, -0.02500000037252903, -0.02500000037252903, -0.02500000037252903, -0.02500000037252903, -0.02500000037252903, -0.02500000037252903, -0.02500000037252903, -0.02500000037252903], \"yaxis\": \"y4\"}, {\"line\": {\"color\": \"#33C2FF\"}, \"mode\": \"lines\", \"name\": \"UCL L.T\\u00e2m Dim N\", \"type\": \"scatter\", \"x\": [\"2020-08-14T17:00:00\", \"2020-08-15T08:00:00\", \"2020-08-15T16:00:00\", \"2020-08-17T09:00:00\", \"2020-08-17T17:00:00\", \"2020-08-18T09:00:00\", \"2020-08-18T16:00:00\", \"2020-08-19T15:00:00\", \"2020-08-20T09:00:00\", \"2020-08-21T09:00:00\", \"2020-08-22T08:00:00\", \"2020-08-22T17:00:00\", \"2020-08-24T07:00:00\", \"2020-08-24T18:00:00\", \"2020-08-25T08:00:00\", \"2020-08-25T17:00:00\", \"2020-08-26T09:00:00\", \"2020-08-26T16:00:00\", \"2020-08-27T08:00:00\", \"2020-08-27T19:00:00\", \"2020-08-28T10:00:00\", \"2020-08-28T16:00:00\", \"2020-08-29T12:00:00\", \"2020-08-31T08:00:00\", \"2020-09-01T08:00:00\", \"2020-09-01T16:00:00\", \"2020-09-03T08:00:00\", \"2020-09-03T17:00:00\", \"2020-09-04T16:00:00\", \"2020-09-05T16:00:00\", \"2020-09-07T09:00:00\", \"2020-09-07T17:00:00\", \"2020-09-08T10:00:00\", \"2020-09-08T16:00:00\"], \"xaxis\": \"x4\", \"y\": [0.024000000208616257, 0.024000000208616257, 0.024000000208616257, 0.024000000208616257, 0.024000000208616257, 0.024000000208616257, 0.024000000208616257, 0.024000000208616257, 0.024000000208616257, 0.024000000208616257, 0.02800000086426735, 0.02800000086426735, 0.02800000086426735, 0.02800000086426735, 0.02800000086426735, 0.02800000086426735, 0.02800000086426735, 0.02800000086426735, 0.02800000086426735, 0.02800000086426735, 0.02800000086426735, 0.02800000086426735, 0.02800000086426735, 0.02800000086426735, 0.02800000086426735, 0.02800000086426735, 0.02800000086426735, 0.02800000086426735, 0.017999999225139618, 0.017999999225139618, 0.017999999225139618, 0.017999999225139618, 0.017999999225139618, 0.017999999225139618], \"yaxis\": \"y4\"}, {\"line\": {\"color\": \"#33C2FF\"}, \"mode\": \"lines\", \"name\": \"LCL L.T\\u00e2m Dim N\", \"type\": \"scatter\", \"x\": [\"2020-08-14T17:00:00\", \"2020-08-15T08:00:00\", \"2020-08-15T16:00:00\", \"2020-08-17T09:00:00\", \"2020-08-17T17:00:00\", \"2020-08-18T09:00:00\", \"2020-08-18T16:00:00\", \"2020-08-19T15:00:00\", \"2020-08-20T09:00:00\", \"2020-08-21T09:00:00\", \"2020-08-22T08:00:00\", \"2020-08-22T17:00:00\", \"2020-08-24T07:00:00\", \"2020-08-24T18:00:00\", \"2020-08-25T08:00:00\", \"2020-08-25T17:00:00\", \"2020-08-26T09:00:00\", \"2020-08-26T16:00:00\", \"2020-08-27T08:00:00\", \"2020-08-27T19:00:00\", \"2020-08-28T10:00:00\", \"2020-08-28T16:00:00\", \"2020-08-29T12:00:00\", \"2020-08-31T08:00:00\", \"2020-09-01T08:00:00\", \"2020-09-01T16:00:00\", \"2020-09-03T08:00:00\", \"2020-09-03T17:00:00\", \"2020-09-04T16:00:00\", \"2020-09-05T16:00:00\", \"2020-09-07T09:00:00\", \"2020-09-07T17:00:00\", \"2020-09-08T10:00:00\", \"2020-09-08T16:00:00\"], \"xaxis\": \"x4\", \"y\": [-0.004999999888241291, -0.004999999888241291, -0.004999999888241291, -0.004999999888241291, -0.004999999888241291, -0.004999999888241291, -0.004999999888241291, -0.004999999888241291, -0.004999999888241291, -0.004999999888241291, -0.004999999888241291, -0.004999999888241291, -0.004999999888241291, -0.004999999888241291, -0.004999999888241291, -0.004999999888241291, -0.004999999888241291, -0.004999999888241291, -0.004999999888241291, -0.004999999888241291, -0.004999999888241291, -0.00800000037997961, -0.00800000037997961, -0.00800000037997961, -0.00800000037997961, -0.00800000037997961, -0.00800000037997961, -0.00800000037997961, -0.004000000189989805, -0.004000000189989805, -0.004000000189989805, -0.004000000189989805, -0.004000000189989805, -0.004000000189989805], \"yaxis\": \"y4\"}, {\"line\": {\"color\": \"#33C2FF\"}, \"mode\": \"lines\", \"name\": \"Mean L.T\\u00e2m Dim N\", \"type\": \"scatter\", \"x\": [\"2020-08-14T17:00:00\", \"2020-08-15T08:00:00\", \"2020-08-15T16:00:00\", \"2020-08-17T09:00:00\", \"2020-08-17T17:00:00\", \"2020-08-18T09:00:00\", \"2020-08-18T16:00:00\", \"2020-08-19T15:00:00\", \"2020-08-20T09:00:00\", \"2020-08-21T09:00:00\", \"2020-08-22T08:00:00\", \"2020-08-22T17:00:00\", \"2020-08-24T07:00:00\", \"2020-08-24T18:00:00\", \"2020-08-25T08:00:00\", \"2020-08-25T17:00:00\", \"2020-08-26T09:00:00\", \"2020-08-26T16:00:00\", \"2020-08-27T08:00:00\", \"2020-08-27T19:00:00\", \"2020-08-28T10:00:00\", \"2020-08-28T16:00:00\", \"2020-08-29T12:00:00\", \"2020-08-31T08:00:00\", \"2020-09-01T08:00:00\", \"2020-09-01T16:00:00\", \"2020-09-03T08:00:00\", \"2020-09-03T17:00:00\", \"2020-09-04T16:00:00\", \"2020-09-05T16:00:00\", \"2020-09-07T09:00:00\", \"2020-09-07T17:00:00\", \"2020-09-08T10:00:00\", \"2020-09-08T16:00:00\"], \"xaxis\": \"x4\", \"y\": [0.009999999776482582, 0.009999999776482582, 0.009999999776482582, 0.009999999776482582, 0.009999999776482582, 0.009999999776482582, 0.009999999776482582, 0.009999999776482582, 0.009999999776482582, 0.009999999776482582, 0.012000000104308128, 0.012000000104308128, 0.012000000104308128, 0.012000000104308128, 0.012000000104308128, 0.012000000104308128, 0.012000000104308128, 0.012000000104308128, 0.012000000104308128, 0.012000000104308128, 0.012000000104308128, 0.009999999776482582, 0.009999999776482582, 0.009999999776482582, 0.009999999776482582, 0.009999999776482582, 0.009999999776482582, 0.009999999776482582, 0.007000000216066837, 0.007000000216066837, 0.007000000216066837, 0.007000000216066837, 0.007000000216066837, 0.007000000216066837], \"yaxis\": \"y4\"}, {\"line\": {\"color\": \"#4280F5\"}, \"mode\": \"lines+markers\", \"name\": \"mean Offset Dim M\", \"type\": \"scatter\", \"x\": [\"2020-08-14T17:00:00\", \"2020-08-15T08:00:00\", \"2020-08-15T16:00:00\", \"2020-08-17T09:00:00\", \"2020-08-17T16:00:00\", \"2020-08-17T17:00:00\", \"2020-08-18T09:00:00\", \"2020-08-18T16:00:00\", \"2020-08-19T15:00:00\", \"2020-08-20T09:00:00\", \"2020-08-21T09:00:00\", \"2020-08-22T08:00:00\", \"2020-08-22T16:00:00\", \"2020-08-22T17:00:00\", \"2020-08-24T07:00:00\", \"2020-08-24T17:00:00\", \"2020-08-24T18:00:00\", \"2020-08-25T08:00:00\", \"2020-08-25T17:00:00\", \"2020-08-26T09:00:00\", \"2020-08-26T16:00:00\", \"2020-08-27T08:00:00\", \"2020-08-27T19:00:00\", \"2020-08-28T09:00:00\", \"2020-08-28T10:00:00\", \"2020-08-28T16:00:00\", \"2020-08-29T12:00:00\", \"2020-08-31T08:00:00\", \"2020-09-01T08:00:00\", \"2020-09-01T16:00:00\", \"2020-09-03T08:00:00\", \"2020-09-03T16:00:00\", \"2020-09-03T17:00:00\", \"2020-09-04T15:00:00\", \"2020-09-04T16:00:00\", \"2020-09-05T15:00:00\", \"2020-09-05T16:00:00\", \"2020-09-07T09:00:00\", \"2020-09-07T17:00:00\", \"2020-09-08T10:00:00\", \"2020-09-08T16:00:00\"], \"xaxis\": \"x5\", \"y\": [0.011500000022351742, 0.023000000044703484, 0.01425000000745058, 0.013000000268220901, 0.010999999940395355, 0.015000000596046448, 0.013749999925494194, 0.01425000000745058, 0.02474999986588955, 0.007249999791383743, 0.007999999448657036, 0.010250000283122063, 0.010999999940395355, 0.009000000543892384, 0.010499999858438969, 0.0010000000474974513, 0.004999999888241291, 0.02199999988079071, 0.010999999940395355, 0.00950000062584877, 0.012500000186264515, 0.01425000000745058, 0.013500000350177288, 0.014000000432133675, 0.009999999776482582, 0.00699999975040555, 0.00774999987334013, 0.016499999910593033, 0.012749999761581421, 0.01425000000745058, 0.012749999761581421, 0.012000000104308128, 0.004000000189989805, 0.0010000000474974513, 0.0139999995008111, 0.014999999664723873, 0.02800000086426735, 0.00774999987334013, 0.014499999582767487, 0.010250000283122063, 0.016499999910593033], \"yaxis\": \"y5\"}, {\"line\": {\"color\": \"#FF5733\"}, \"mode\": \"lines\", \"name\": \"USL Offset Dim M\", \"type\": \"scatter\", \"x\": [\"2020-08-14T17:00:00\", \"2020-08-15T08:00:00\", \"2020-08-15T16:00:00\", \"2020-08-17T09:00:00\", \"2020-08-17T16:00:00\", \"2020-08-17T17:00:00\", \"2020-08-18T09:00:00\", \"2020-08-18T16:00:00\", \"2020-08-19T15:00:00\", \"2020-08-20T09:00:00\", \"2020-08-21T09:00:00\", \"2020-08-22T08:00:00\", \"2020-08-22T16:00:00\", \"2020-08-22T17:00:00\", \"2020-08-24T07:00:00\", \"2020-08-24T17:00:00\", \"2020-08-24T18:00:00\", \"2020-08-25T08:00:00\", \"2020-08-25T17:00:00\", \"2020-08-26T09:00:00\", \"2020-08-26T16:00:00\", \"2020-08-27T08:00:00\", \"2020-08-27T19:00:00\", \"2020-08-28T09:00:00\", \"2020-08-28T10:00:00\", \"2020-08-28T16:00:00\", \"2020-08-29T12:00:00\", \"2020-08-31T08:00:00\", \"2020-09-01T08:00:00\", \"2020-09-01T16:00:00\", \"2020-09-03T08:00:00\", \"2020-09-03T16:00:00\", \"2020-09-03T17:00:00\", \"2020-09-04T15:00:00\", \"2020-09-04T16:00:00\", \"2020-09-05T15:00:00\", \"2020-09-05T16:00:00\", \"2020-09-07T09:00:00\", \"2020-09-07T17:00:00\", \"2020-09-08T10:00:00\", \"2020-09-08T16:00:00\"], \"xaxis\": \"x5\", \"y\": [0.05000000074505806, 0.05000000074505806, 0.05000000074505806, 0.05000000074505806, 0.05000000074505806, 0.05000000074505806, 0.05000000074505806, 0.05000000074505806, 0.05000000074505806, 0.05000000074505806, 0.05000000074505806, 0.05000000074505806, 0.05000000074505806, 0.05000000074505806, 0.05000000074505806, 0.05000000074505806, 0.05000000074505806, 0.05000000074505806, 0.05000000074505806, 0.05000000074505806, 0.05000000074505806, 0.05000000074505806, 0.05000000074505806, 0.05000000074505806, 0.05000000074505806, 0.05000000074505806, 0.05000000074505806, 0.05000000074505806, 0.05000000074505806, 0.05000000074505806, 0.05000000074505806, 0.05000000074505806, 0.05000000074505806, 0.05000000074505806, 0.05000000074505806, 0.05000000074505806, 0.05000000074505806, 0.05000000074505806, 0.05000000074505806, 0.05000000074505806, 0.05000000074505806], \"yaxis\": \"y5\"}, {\"line\": {\"color\": \"#FF5733\"}, \"mode\": \"lines\", \"name\": \"LSL Offset Dim M\", \"type\": \"scatter\", \"x\": [\"2020-08-14T17:00:00\", \"2020-08-15T08:00:00\", \"2020-08-15T16:00:00\", \"2020-08-17T09:00:00\", \"2020-08-17T16:00:00\", \"2020-08-17T17:00:00\", \"2020-08-18T09:00:00\", \"2020-08-18T16:00:00\", \"2020-08-19T15:00:00\", \"2020-08-20T09:00:00\", \"2020-08-21T09:00:00\", \"2020-08-22T08:00:00\", \"2020-08-22T16:00:00\", \"2020-08-22T17:00:00\", \"2020-08-24T07:00:00\", \"2020-08-24T17:00:00\", \"2020-08-24T18:00:00\", \"2020-08-25T08:00:00\", \"2020-08-25T17:00:00\", \"2020-08-26T09:00:00\", \"2020-08-26T16:00:00\", \"2020-08-27T08:00:00\", \"2020-08-27T19:00:00\", \"2020-08-28T09:00:00\", \"2020-08-28T10:00:00\", \"2020-08-28T16:00:00\", \"2020-08-29T12:00:00\", \"2020-08-31T08:00:00\", \"2020-09-01T08:00:00\", \"2020-09-01T16:00:00\", \"2020-09-03T08:00:00\", \"2020-09-03T16:00:00\", \"2020-09-03T17:00:00\", \"2020-09-04T15:00:00\", \"2020-09-04T16:00:00\", \"2020-09-05T15:00:00\", \"2020-09-05T16:00:00\", \"2020-09-07T09:00:00\", \"2020-09-07T17:00:00\", \"2020-09-08T10:00:00\", \"2020-09-08T16:00:00\"], \"xaxis\": \"x5\", \"y\": [-0.029999999329447746, -0.029999999329447746, -0.029999999329447746, -0.029999999329447746, -0.029999999329447746, -0.029999999329447746, -0.029999999329447746, -0.029999999329447746, -0.029999999329447746, -0.029999999329447746, -0.029999999329447746, -0.029999999329447746, -0.029999999329447746, -0.029999999329447746, -0.029999999329447746, -0.029999999329447746, -0.029999999329447746, -0.029999999329447746, -0.029999999329447746, -0.029999999329447746, -0.029999999329447746, -0.029999999329447746, -0.029999999329447746, -0.029999999329447746, -0.029999999329447746, -0.029999999329447746, -0.029999999329447746, -0.029999999329447746, -0.029999999329447746, -0.029999999329447746, -0.029999999329447746, -0.029999999329447746, -0.029999999329447746, -0.029999999329447746, -0.029999999329447746, -0.029999999329447746, -0.029999999329447746, -0.029999999329447746, -0.029999999329447746, -0.029999999329447746, -0.029999999329447746], \"yaxis\": \"y5\"}, {\"line\": {\"color\": \"#33C2FF\"}, \"mode\": \"lines\", \"name\": \"UCL Offset Dim M\", \"type\": \"scatter\", \"x\": [\"2020-08-14T17:00:00\", \"2020-08-15T08:00:00\", \"2020-08-15T16:00:00\", \"2020-08-17T09:00:00\", \"2020-08-17T16:00:00\", \"2020-08-17T17:00:00\", \"2020-08-18T09:00:00\", \"2020-08-18T16:00:00\", \"2020-08-19T15:00:00\", \"2020-08-20T09:00:00\", \"2020-08-21T09:00:00\", \"2020-08-22T08:00:00\", \"2020-08-22T16:00:00\", \"2020-08-22T17:00:00\", \"2020-08-24T07:00:00\", \"2020-08-24T17:00:00\", \"2020-08-24T18:00:00\", \"2020-08-25T08:00:00\", \"2020-08-25T17:00:00\", \"2020-08-26T09:00:00\", \"2020-08-26T16:00:00\", \"2020-08-27T08:00:00\", \"2020-08-27T19:00:00\", \"2020-08-28T09:00:00\", \"2020-08-28T10:00:00\", \"2020-08-28T16:00:00\", \"2020-08-29T12:00:00\", \"2020-08-31T08:00:00\", \"2020-09-01T08:00:00\", \"2020-09-01T16:00:00\", \"2020-09-03T08:00:00\", \"2020-09-03T16:00:00\", \"2020-09-03T17:00:00\", \"2020-09-04T15:00:00\", \"2020-09-04T16:00:00\", \"2020-09-05T15:00:00\", \"2020-09-05T16:00:00\", \"2020-09-07T09:00:00\", \"2020-09-07T17:00:00\", \"2020-09-08T10:00:00\", \"2020-09-08T16:00:00\"], \"xaxis\": \"x5\", \"y\": [0.041999999433755875, 0.041999999433755875, 0.041999999433755875, 0.041999999433755875, 0.041999999433755875, 0.041999999433755875, 0.041999999433755875, 0.041999999433755875, 0.041999999433755875, 0.041999999433755875, 0.041999999433755875, 0.035999998450279236, 0.035999998450279236, 0.035999998450279236, 0.035999998450279236, 0.035999998450279236, 0.035999998450279236, 0.035999998450279236, 0.035999998450279236, 0.035999998450279236, 0.035999998450279236, 0.035999998450279236, 0.035999998450279236, 0.035999998450279236, 0.035999998450279236, 0.03500000014901161, 0.03500000014901161, 0.03500000014901161, 0.03500000014901161, 0.03500000014901161, 0.03500000014901161, 0.03500000014901161, 0.03500000014901161, 0.04399999976158142, 0.04399999976158142, 0.04399999976158142, 0.04399999976158142, 0.04399999976158142, 0.04399999976158142, 0.04399999976158142, 0.04399999976158142], \"yaxis\": \"y5\"}, {\"line\": {\"color\": \"#33C2FF\"}, \"mode\": \"lines\", \"name\": \"LCL Offset Dim M\", \"type\": \"scatter\", \"x\": [\"2020-08-14T17:00:00\", \"2020-08-15T08:00:00\", \"2020-08-15T16:00:00\", \"2020-08-17T09:00:00\", \"2020-08-17T16:00:00\", \"2020-08-17T17:00:00\", \"2020-08-18T09:00:00\", \"2020-08-18T16:00:00\", \"2020-08-19T15:00:00\", \"2020-08-20T09:00:00\", \"2020-08-21T09:00:00\", \"2020-08-22T08:00:00\", \"2020-08-22T16:00:00\", \"2020-08-22T17:00:00\", \"2020-08-24T07:00:00\", \"2020-08-24T17:00:00\", \"2020-08-24T18:00:00\", \"2020-08-25T08:00:00\", \"2020-08-25T17:00:00\", \"2020-08-26T09:00:00\", \"2020-08-26T16:00:00\", \"2020-08-27T08:00:00\", \"2020-08-27T19:00:00\", \"2020-08-28T09:00:00\", \"2020-08-28T10:00:00\", \"2020-08-28T16:00:00\", \"2020-08-29T12:00:00\", \"2020-08-31T08:00:00\", \"2020-09-01T08:00:00\", \"2020-09-01T16:00:00\", \"2020-09-03T08:00:00\", \"2020-09-03T16:00:00\", \"2020-09-03T17:00:00\", \"2020-09-04T15:00:00\", \"2020-09-04T16:00:00\", \"2020-09-05T15:00:00\", \"2020-09-05T16:00:00\", \"2020-09-07T09:00:00\", \"2020-09-07T17:00:00\", \"2020-09-08T10:00:00\", \"2020-09-08T16:00:00\"], \"xaxis\": \"x5\", \"y\": [-0.013000000268220901, -0.013000000268220901, -0.013000000268220901, -0.013000000268220901, -0.013000000268220901, -0.013000000268220901, -0.013000000268220901, -0.013000000268220901, -0.013000000268220901, -0.013000000268220901, -0.013000000268220901, -0.013000000268220901, -0.013000000268220901, -0.013000000268220901, -0.013000000268220901, -0.013000000268220901, -0.013000000268220901, -0.013000000268220901, -0.013000000268220901, -0.013000000268220901, -0.013000000268220901, -0.013000000268220901, -0.013000000268220901, -0.013000000268220901, -0.013000000268220901, -0.013000000268220901, -0.013000000268220901, -0.013000000268220901, -0.013000000268220901, -0.013000000268220901, -0.013000000268220901, -0.013000000268220901, -0.013000000268220901, -0.01600000075995922, -0.01600000075995922, -0.01600000075995922, -0.01600000075995922, -0.01600000075995922, -0.01600000075995922, -0.01600000075995922, -0.01600000075995922], \"yaxis\": \"y5\"}, {\"line\": {\"color\": \"#33C2FF\"}, \"mode\": \"lines\", \"name\": \"Mean Offset Dim M\", \"type\": \"scatter\", \"x\": [\"2020-08-14T17:00:00\", \"2020-08-15T08:00:00\", \"2020-08-15T16:00:00\", \"2020-08-17T09:00:00\", \"2020-08-17T16:00:00\", \"2020-08-17T17:00:00\", \"2020-08-18T09:00:00\", \"2020-08-18T16:00:00\", \"2020-08-19T15:00:00\", \"2020-08-20T09:00:00\", \"2020-08-21T09:00:00\", \"2020-08-22T08:00:00\", \"2020-08-22T16:00:00\", \"2020-08-22T17:00:00\", \"2020-08-24T07:00:00\", \"2020-08-24T17:00:00\", \"2020-08-24T18:00:00\", \"2020-08-25T08:00:00\", \"2020-08-25T17:00:00\", \"2020-08-26T09:00:00\", \"2020-08-26T16:00:00\", \"2020-08-27T08:00:00\", \"2020-08-27T19:00:00\", \"2020-08-28T09:00:00\", \"2020-08-28T10:00:00\", \"2020-08-28T16:00:00\", \"2020-08-29T12:00:00\", \"2020-08-31T08:00:00\", \"2020-09-01T08:00:00\", \"2020-09-01T16:00:00\", \"2020-09-03T08:00:00\", \"2020-09-03T16:00:00\", \"2020-09-03T17:00:00\", \"2020-09-04T15:00:00\", \"2020-09-04T16:00:00\", \"2020-09-05T15:00:00\", \"2020-09-05T16:00:00\", \"2020-09-07T09:00:00\", \"2020-09-07T17:00:00\", \"2020-09-08T10:00:00\", \"2020-09-08T16:00:00\"], \"xaxis\": \"x5\", \"y\": [0.014000000432133675, 0.014000000432133675, 0.014000000432133675, 0.014000000432133675, 0.014000000432133675, 0.014000000432133675, 0.014000000432133675, 0.014000000432133675, 0.014000000432133675, 0.014000000432133675, 0.014000000432133675, 0.012000000104308128, 0.012000000104308128, 0.012000000104308128, 0.012000000104308128, 0.012000000104308128, 0.012000000104308128, 0.012000000104308128, 0.012000000104308128, 0.012000000104308128, 0.012000000104308128, 0.012000000104308128, 0.012000000104308128, 0.012000000104308128, 0.012000000104308128, 0.010999999940395355, 0.010999999940395355, 0.010999999940395355, 0.010999999940395355, 0.010999999940395355, 0.010999999940395355, 0.010999999940395355, 0.010999999940395355, 0.014000000432133675, 0.014000000432133675, 0.014000000432133675, 0.014000000432133675, 0.014000000432133675, 0.014000000432133675, 0.014000000432133675, 0.014000000432133675], \"yaxis\": \"y5\"}, {\"line\": {\"color\": \"#4280F5\"}, \"mode\": \"lines+markers\", \"name\": \"mean Ba v\\u1edb tr\\u00ean membrane\", \"type\": \"scatter\", \"x\": [\"2020-08-14T17:00:00\", \"2020-08-15T08:00:00\", \"2020-08-15T16:00:00\", \"2020-08-17T09:00:00\", \"2020-08-17T17:00:00\", \"2020-08-18T09:00:00\", \"2020-08-18T16:00:00\", \"2020-08-19T15:00:00\", \"2020-08-20T09:00:00\", \"2020-08-21T09:00:00\", \"2020-08-22T08:00:00\", \"2020-08-22T17:00:00\", \"2020-08-24T07:00:00\", \"2020-08-24T18:00:00\", \"2020-08-25T08:00:00\", \"2020-08-25T17:00:00\", \"2020-08-26T09:00:00\", \"2020-08-26T16:00:00\", \"2020-08-27T08:00:00\", \"2020-08-27T19:00:00\", \"2020-08-28T10:00:00\", \"2020-08-28T16:00:00\", \"2020-08-29T12:00:00\", \"2020-08-31T08:00:00\", \"2020-09-01T08:00:00\", \"2020-09-01T16:00:00\", \"2020-09-03T08:00:00\", \"2020-09-03T17:00:00\", \"2020-09-04T16:00:00\", \"2020-09-05T16:00:00\", \"2020-09-07T09:00:00\", \"2020-09-07T17:00:00\", \"2020-09-08T10:00:00\", \"2020-09-08T16:00:00\"], \"xaxis\": \"x6\", \"y\": [0.0033333334140479565, 0.002333333482965827, 0.003666666802018881, 0.003000000026077032, 0.0016666667070239782, 0.003666666802018881, 0.0013333334354683757, 0.0023333332501351833, 0.003000000026077032, 0.0026666666381061077, 0.002333333482965827, 0.002333333482965827, 0.003000000026077032, 0.003666666802018881, 0.002333333482965827, 0.003666666802018881, 0.0016666667070239782, 0.0026666666381061077, 0.002333333482965827, 0.0033333334140479565, 0.0023333332501351833, 0.003000000026077032, 0.0016666667070239782, 0.004000000189989805, 0.0033333334140479565, 0.0016666667070239782, 0.0033333334140479565, 0.002333333482965827, 0.0023333332501351833, 0.002333333482965827, 0.002333333482965827, 0.0033333334140479565, 0.0016666667070239782, 0.0033333334140479565], \"yaxis\": \"y6\"}, {\"line\": {\"color\": \"#FF5733\"}, \"mode\": \"lines\", \"name\": \"USL Ba v\\u1edb tr\\u00ean membrane\", \"type\": \"scatter\", \"x\": [\"2020-08-14T17:00:00\", \"2020-08-15T08:00:00\", \"2020-08-15T16:00:00\", \"2020-08-17T09:00:00\", \"2020-08-17T17:00:00\", \"2020-08-18T09:00:00\", \"2020-08-18T16:00:00\", \"2020-08-19T15:00:00\", \"2020-08-20T09:00:00\", \"2020-08-21T09:00:00\", \"2020-08-22T08:00:00\", \"2020-08-22T17:00:00\", \"2020-08-24T07:00:00\", \"2020-08-24T18:00:00\", \"2020-08-25T08:00:00\", \"2020-08-25T17:00:00\", \"2020-08-26T09:00:00\", \"2020-08-26T16:00:00\", \"2020-08-27T08:00:00\", \"2020-08-27T19:00:00\", \"2020-08-28T10:00:00\", \"2020-08-28T16:00:00\", \"2020-08-29T12:00:00\", \"2020-08-31T08:00:00\", \"2020-09-01T08:00:00\", \"2020-09-01T16:00:00\", \"2020-09-03T08:00:00\", \"2020-09-03T17:00:00\", \"2020-09-04T16:00:00\", \"2020-09-05T16:00:00\", \"2020-09-07T09:00:00\", \"2020-09-07T17:00:00\", \"2020-09-08T10:00:00\", \"2020-09-08T16:00:00\"], \"xaxis\": \"x6\", \"y\": [0.004999999888241291, 0.004999999888241291, 0.004999999888241291, 0.004999999888241291, 0.004999999888241291, 0.004999999888241291, 0.004999999888241291, 0.004999999888241291, 0.004999999888241291, 0.004999999888241291, 0.004999999888241291, 0.004999999888241291, 0.004999999888241291, 0.004999999888241291, 0.004999999888241291, 0.004999999888241291, 0.004999999888241291, 0.004999999888241291, 0.004999999888241291, 0.004999999888241291, 0.004999999888241291, 0.004999999888241291, 0.004999999888241291, 0.004999999888241291, 0.004999999888241291, 0.004999999888241291, 0.004999999888241291, 0.004999999888241291, 0.004999999888241291, 0.004999999888241291, 0.004999999888241291, 0.004999999888241291, 0.004999999888241291, 0.004999999888241291], \"yaxis\": \"y6\"}, {\"line\": {\"color\": \"#FF5733\"}, \"mode\": \"lines\", \"name\": \"LSL Ba v\\u1edb tr\\u00ean membrane\", \"type\": \"scatter\", \"x\": [\"2020-08-14T17:00:00\", \"2020-08-15T08:00:00\", \"2020-08-15T16:00:00\", \"2020-08-17T09:00:00\", \"2020-08-17T17:00:00\", \"2020-08-18T09:00:00\", \"2020-08-18T16:00:00\", \"2020-08-19T15:00:00\", \"2020-08-20T09:00:00\", \"2020-08-21T09:00:00\", \"2020-08-22T08:00:00\", \"2020-08-22T17:00:00\", \"2020-08-24T07:00:00\", \"2020-08-24T18:00:00\", \"2020-08-25T08:00:00\", \"2020-08-25T17:00:00\", \"2020-08-26T09:00:00\", \"2020-08-26T16:00:00\", \"2020-08-27T08:00:00\", \"2020-08-27T19:00:00\", \"2020-08-28T10:00:00\", \"2020-08-28T16:00:00\", \"2020-08-29T12:00:00\", \"2020-08-31T08:00:00\", \"2020-09-01T08:00:00\", \"2020-09-01T16:00:00\", \"2020-09-03T08:00:00\", \"2020-09-03T17:00:00\", \"2020-09-04T16:00:00\", \"2020-09-05T16:00:00\", \"2020-09-07T09:00:00\", \"2020-09-07T17:00:00\", \"2020-09-08T10:00:00\", \"2020-09-08T16:00:00\"], \"xaxis\": \"x6\", \"y\": [null, null, null, null, null, null, null, null, null, null, null, null, null, null, null, null, null, null, null, null, null, null, null, null, null, null, null, null, null, null, null, null, null, null], \"yaxis\": \"y6\"}, {\"line\": {\"color\": \"#33C2FF\"}, \"mode\": \"lines\", \"name\": \"UCL Ba v\\u1edb tr\\u00ean membrane\", \"type\": \"scatter\", \"x\": [\"2020-08-14T17:00:00\", \"2020-08-15T08:00:00\", \"2020-08-15T16:00:00\", \"2020-08-17T09:00:00\", \"2020-08-17T17:00:00\", \"2020-08-18T09:00:00\", \"2020-08-18T16:00:00\", \"2020-08-19T15:00:00\", \"2020-08-20T09:00:00\", \"2020-08-21T09:00:00\", \"2020-08-22T08:00:00\", \"2020-08-22T17:00:00\", \"2020-08-24T07:00:00\", \"2020-08-24T18:00:00\", \"2020-08-25T08:00:00\", \"2020-08-25T17:00:00\", \"2020-08-26T09:00:00\", \"2020-08-26T16:00:00\", \"2020-08-27T08:00:00\", \"2020-08-27T19:00:00\", \"2020-08-28T10:00:00\", \"2020-08-28T16:00:00\", \"2020-08-29T12:00:00\", \"2020-08-31T08:00:00\", \"2020-09-01T08:00:00\", \"2020-09-01T16:00:00\", \"2020-09-03T08:00:00\", \"2020-09-03T17:00:00\", \"2020-09-04T16:00:00\", \"2020-09-05T16:00:00\", \"2020-09-07T09:00:00\", \"2020-09-07T17:00:00\", \"2020-09-08T10:00:00\", \"2020-09-08T16:00:00\"], \"xaxis\": \"x6\", \"y\": [0.006000000052154064, 0.006000000052154064, 0.006000000052154064, 0.006000000052154064, 0.006000000052154064, 0.006000000052154064, 0.006000000052154064, 0.006000000052154064, 0.006000000052154064, 0.006000000052154064, 0.004999999888241291, 0.004999999888241291, 0.004999999888241291, 0.004999999888241291, 0.004999999888241291, 0.004999999888241291, 0.004999999888241291, 0.004999999888241291, 0.004999999888241291, 0.004999999888241291, 0.004999999888241291, 0.006000000052154064, 0.006000000052154064, 0.006000000052154064, 0.006000000052154064, 0.006000000052154064, 0.006000000052154064, 0.006000000052154064, 0.004999999888241291, 0.004999999888241291, 0.004999999888241291, 0.004999999888241291, 0.004999999888241291, 0.004999999888241291], \"yaxis\": \"y6\"}, {\"line\": {\"color\": \"#33C2FF\"}, \"mode\": \"lines\", \"name\": \"LCL Ba v\\u1edb tr\\u00ean membrane\", \"type\": \"scatter\", \"x\": [\"2020-08-14T17:00:00\", \"2020-08-15T08:00:00\", \"2020-08-15T16:00:00\", \"2020-08-17T09:00:00\", \"2020-08-17T17:00:00\", \"2020-08-18T09:00:00\", \"2020-08-18T16:00:00\", \"2020-08-19T15:00:00\", \"2020-08-20T09:00:00\", \"2020-08-21T09:00:00\", \"2020-08-22T08:00:00\", \"2020-08-22T17:00:00\", \"2020-08-24T07:00:00\", \"2020-08-24T18:00:00\", \"2020-08-25T08:00:00\", \"2020-08-25T17:00:00\", \"2020-08-26T09:00:00\", \"2020-08-26T16:00:00\", \"2020-08-27T08:00:00\", \"2020-08-27T19:00:00\", \"2020-08-28T10:00:00\", \"2020-08-28T16:00:00\", \"2020-08-29T12:00:00\", \"2020-08-31T08:00:00\", \"2020-09-01T08:00:00\", \"2020-09-01T16:00:00\", \"2020-09-03T08:00:00\", \"2020-09-03T17:00:00\", \"2020-09-04T16:00:00\", \"2020-09-05T16:00:00\", \"2020-09-07T09:00:00\", \"2020-09-07T17:00:00\", \"2020-09-08T10:00:00\", \"2020-09-08T16:00:00\"], \"xaxis\": \"x6\", \"y\": [0.0, 0.0, 0.0, 0.0, 0.0, 0.0, 0.0, 0.0, 0.0, 0.0, 0.0, 0.0, 0.0, 0.0, 0.0, 0.0, 0.0, 0.0, 0.0, 0.0, 0.0, 0.0, 0.0, 0.0, 0.0, 0.0, 0.0, 0.0, 0.0, 0.0, 0.0, 0.0, 0.0, 0.0], \"yaxis\": \"y6\"}, {\"line\": {\"color\": \"#33C2FF\"}, \"mode\": \"lines\", \"name\": \"Mean Ba v\\u1edb tr\\u00ean membrane\", \"type\": \"scatter\", \"x\": [\"2020-08-14T17:00:00\", \"2020-08-15T08:00:00\", \"2020-08-15T16:00:00\", \"2020-08-17T09:00:00\", \"2020-08-17T17:00:00\", \"2020-08-18T09:00:00\", \"2020-08-18T16:00:00\", \"2020-08-19T15:00:00\", \"2020-08-20T09:00:00\", \"2020-08-21T09:00:00\", \"2020-08-22T08:00:00\", \"2020-08-22T17:00:00\", \"2020-08-24T07:00:00\", \"2020-08-24T18:00:00\", \"2020-08-25T08:00:00\", \"2020-08-25T17:00:00\", \"2020-08-26T09:00:00\", \"2020-08-26T16:00:00\", \"2020-08-27T08:00:00\", \"2020-08-27T19:00:00\", \"2020-08-28T10:00:00\", \"2020-08-28T16:00:00\", \"2020-08-29T12:00:00\", \"2020-08-31T08:00:00\", \"2020-09-01T08:00:00\", \"2020-09-01T16:00:00\", \"2020-09-03T08:00:00\", \"2020-09-03T17:00:00\", \"2020-09-04T16:00:00\", \"2020-09-05T16:00:00\", \"2020-09-07T09:00:00\", \"2020-09-07T17:00:00\", \"2020-09-08T10:00:00\", \"2020-09-08T16:00:00\"], \"xaxis\": \"x6\", \"y\": [0.003000000026077032, 0.003000000026077032, 0.003000000026077032, 0.003000000026077032, 0.003000000026077032, 0.003000000026077032, 0.003000000026077032, 0.003000000026077032, 0.003000000026077032, 0.003000000026077032, 0.003000000026077032, 0.003000000026077032, 0.003000000026077032, 0.003000000026077032, 0.003000000026077032, 0.003000000026077032, 0.003000000026077032, 0.003000000026077032, 0.003000000026077032, 0.003000000026077032, 0.003000000026077032, 0.003000000026077032, 0.003000000026077032, 0.003000000026077032, 0.003000000026077032, 0.003000000026077032, 0.003000000026077032, 0.003000000026077032, 0.003000000026077032, 0.003000000026077032, 0.003000000026077032, 0.003000000026077032, 0.003000000026077032, 0.003000000026077032], \"yaxis\": \"y6\"}],\n",
              "                        {\"annotations\": [{\"font\": {\"size\": 16}, \"showarrow\": false, \"text\": \"Hinge Dim F\", \"x\": 0.5, \"xanchor\": \"center\", \"xref\": \"paper\", \"y\": 0.9999999999999999, \"yanchor\": \"bottom\", \"yref\": \"paper\"}, {\"font\": {\"size\": 16}, \"showarrow\": false, \"text\": \"Chi\\u1ec1u d\\u00e0i Dim B\", \"x\": 0.5, \"xanchor\": \"center\", \"xref\": \"paper\", \"y\": 0.8194444444444444, \"yanchor\": \"bottom\", \"yref\": \"paper\"}, {\"font\": {\"size\": 16}, \"showarrow\": false, \"text\": \"Chi\\u1ec1u r\\u1ed9ng Dim A\", \"x\": 0.5, \"xanchor\": \"center\", \"xref\": \"paper\", \"y\": 0.638888888888889, \"yanchor\": \"bottom\", \"yref\": \"paper\"}, {\"font\": {\"size\": 16}, \"showarrow\": false, \"text\": \"L.T\\u00e2m Dim N\", \"x\": 0.5, \"xanchor\": \"center\", \"xref\": \"paper\", \"y\": 0.4583333333333333, \"yanchor\": \"bottom\", \"yref\": \"paper\"}, {\"font\": {\"size\": 16}, \"showarrow\": false, \"text\": \"Offset Dim M\", \"x\": 0.5, \"xanchor\": \"center\", \"xref\": \"paper\", \"y\": 0.2777777777777778, \"yanchor\": \"bottom\", \"yref\": \"paper\"}, {\"font\": {\"size\": 16}, \"showarrow\": false, \"text\": \"Ba v\\u1edb tr\\u00ean membrane\", \"x\": 0.5, \"xanchor\": \"center\", \"xref\": \"paper\", \"y\": 0.09722222222222222, \"yanchor\": \"bottom\", \"yref\": \"paper\"}], \"height\": 1200, \"template\": {\"data\": {\"bar\": [{\"error_x\": {\"color\": \"#2a3f5f\"}, \"error_y\": {\"color\": \"#2a3f5f\"}, \"marker\": {\"line\": {\"color\": \"#E5ECF6\", \"width\": 0.5}}, \"type\": \"bar\"}], \"barpolar\": [{\"marker\": {\"line\": {\"color\": \"#E5ECF6\", \"width\": 0.5}}, \"type\": \"barpolar\"}], \"carpet\": [{\"aaxis\": {\"endlinecolor\": \"#2a3f5f\", \"gridcolor\": \"white\", \"linecolor\": \"white\", \"minorgridcolor\": \"white\", \"startlinecolor\": \"#2a3f5f\"}, \"baxis\": {\"endlinecolor\": \"#2a3f5f\", \"gridcolor\": \"white\", \"linecolor\": \"white\", \"minorgridcolor\": \"white\", \"startlinecolor\": \"#2a3f5f\"}, \"type\": \"carpet\"}], \"choropleth\": [{\"colorbar\": {\"outlinewidth\": 0, \"ticks\": \"\"}, \"type\": \"choropleth\"}], \"contour\": [{\"colorbar\": {\"outlinewidth\": 0, \"ticks\": \"\"}, \"colorscale\": [[0.0, \"#0d0887\"], [0.1111111111111111, \"#46039f\"], [0.2222222222222222, \"#7201a8\"], [0.3333333333333333, \"#9c179e\"], [0.4444444444444444, \"#bd3786\"], [0.5555555555555556, \"#d8576b\"], [0.6666666666666666, \"#ed7953\"], [0.7777777777777778, \"#fb9f3a\"], [0.8888888888888888, \"#fdca26\"], [1.0, \"#f0f921\"]], \"type\": \"contour\"}], \"contourcarpet\": [{\"colorbar\": {\"outlinewidth\": 0, \"ticks\": \"\"}, \"type\": \"contourcarpet\"}], \"heatmap\": [{\"colorbar\": {\"outlinewidth\": 0, \"ticks\": \"\"}, \"colorscale\": [[0.0, \"#0d0887\"], [0.1111111111111111, \"#46039f\"], [0.2222222222222222, \"#7201a8\"], [0.3333333333333333, \"#9c179e\"], [0.4444444444444444, \"#bd3786\"], [0.5555555555555556, \"#d8576b\"], [0.6666666666666666, \"#ed7953\"], [0.7777777777777778, \"#fb9f3a\"], [0.8888888888888888, \"#fdca26\"], [1.0, \"#f0f921\"]], \"type\": \"heatmap\"}], \"heatmapgl\": [{\"colorbar\": {\"outlinewidth\": 0, \"ticks\": \"\"}, \"colorscale\": [[0.0, \"#0d0887\"], [0.1111111111111111, \"#46039f\"], [0.2222222222222222, \"#7201a8\"], [0.3333333333333333, \"#9c179e\"], [0.4444444444444444, \"#bd3786\"], [0.5555555555555556, \"#d8576b\"], [0.6666666666666666, \"#ed7953\"], [0.7777777777777778, \"#fb9f3a\"], [0.8888888888888888, \"#fdca26\"], [1.0, \"#f0f921\"]], \"type\": \"heatmapgl\"}], \"histogram\": [{\"marker\": {\"colorbar\": {\"outlinewidth\": 0, \"ticks\": \"\"}}, \"type\": \"histogram\"}], \"histogram2d\": [{\"colorbar\": {\"outlinewidth\": 0, \"ticks\": \"\"}, \"colorscale\": [[0.0, \"#0d0887\"], [0.1111111111111111, \"#46039f\"], [0.2222222222222222, \"#7201a8\"], [0.3333333333333333, \"#9c179e\"], [0.4444444444444444, \"#bd3786\"], [0.5555555555555556, \"#d8576b\"], [0.6666666666666666, \"#ed7953\"], [0.7777777777777778, \"#fb9f3a\"], [0.8888888888888888, \"#fdca26\"], [1.0, \"#f0f921\"]], \"type\": \"histogram2d\"}], \"histogram2dcontour\": [{\"colorbar\": {\"outlinewidth\": 0, \"ticks\": \"\"}, \"colorscale\": [[0.0, \"#0d0887\"], [0.1111111111111111, \"#46039f\"], [0.2222222222222222, \"#7201a8\"], [0.3333333333333333, \"#9c179e\"], [0.4444444444444444, \"#bd3786\"], [0.5555555555555556, \"#d8576b\"], [0.6666666666666666, \"#ed7953\"], [0.7777777777777778, \"#fb9f3a\"], [0.8888888888888888, \"#fdca26\"], [1.0, \"#f0f921\"]], \"type\": \"histogram2dcontour\"}], \"mesh3d\": [{\"colorbar\": {\"outlinewidth\": 0, \"ticks\": \"\"}, \"type\": \"mesh3d\"}], \"parcoords\": [{\"line\": {\"colorbar\": {\"outlinewidth\": 0, \"ticks\": \"\"}}, \"type\": \"parcoords\"}], \"pie\": [{\"automargin\": true, \"type\": \"pie\"}], \"scatter\": [{\"marker\": {\"colorbar\": {\"outlinewidth\": 0, \"ticks\": \"\"}}, \"type\": \"scatter\"}], \"scatter3d\": [{\"line\": {\"colorbar\": {\"outlinewidth\": 0, \"ticks\": \"\"}}, \"marker\": {\"colorbar\": {\"outlinewidth\": 0, \"ticks\": \"\"}}, \"type\": \"scatter3d\"}], \"scattercarpet\": [{\"marker\": {\"colorbar\": {\"outlinewidth\": 0, \"ticks\": \"\"}}, \"type\": \"scattercarpet\"}], \"scattergeo\": [{\"marker\": {\"colorbar\": {\"outlinewidth\": 0, \"ticks\": \"\"}}, \"type\": \"scattergeo\"}], \"scattergl\": [{\"marker\": {\"colorbar\": {\"outlinewidth\": 0, \"ticks\": \"\"}}, \"type\": \"scattergl\"}], \"scattermapbox\": [{\"marker\": {\"colorbar\": {\"outlinewidth\": 0, \"ticks\": \"\"}}, \"type\": \"scattermapbox\"}], \"scatterpolar\": [{\"marker\": {\"colorbar\": {\"outlinewidth\": 0, \"ticks\": \"\"}}, \"type\": \"scatterpolar\"}], \"scatterpolargl\": [{\"marker\": {\"colorbar\": {\"outlinewidth\": 0, \"ticks\": \"\"}}, \"type\": \"scatterpolargl\"}], \"scatterternary\": [{\"marker\": {\"colorbar\": {\"outlinewidth\": 0, \"ticks\": \"\"}}, \"type\": \"scatterternary\"}], \"surface\": [{\"colorbar\": {\"outlinewidth\": 0, \"ticks\": \"\"}, \"colorscale\": [[0.0, \"#0d0887\"], [0.1111111111111111, \"#46039f\"], [0.2222222222222222, \"#7201a8\"], [0.3333333333333333, \"#9c179e\"], [0.4444444444444444, \"#bd3786\"], [0.5555555555555556, \"#d8576b\"], [0.6666666666666666, \"#ed7953\"], [0.7777777777777778, \"#fb9f3a\"], [0.8888888888888888, \"#fdca26\"], [1.0, \"#f0f921\"]], \"type\": \"surface\"}], \"table\": [{\"cells\": {\"fill\": {\"color\": \"#EBF0F8\"}, \"line\": {\"color\": \"white\"}}, \"header\": {\"fill\": {\"color\": \"#C8D4E3\"}, \"line\": {\"color\": \"white\"}}, \"type\": \"table\"}]}, \"layout\": {\"annotationdefaults\": {\"arrowcolor\": \"#2a3f5f\", \"arrowhead\": 0, \"arrowwidth\": 1}, \"coloraxis\": {\"colorbar\": {\"outlinewidth\": 0, \"ticks\": \"\"}}, \"colorscale\": {\"diverging\": [[0, \"#8e0152\"], [0.1, \"#c51b7d\"], [0.2, \"#de77ae\"], [0.3, \"#f1b6da\"], [0.4, \"#fde0ef\"], [0.5, \"#f7f7f7\"], [0.6, \"#e6f5d0\"], [0.7, \"#b8e186\"], [0.8, \"#7fbc41\"], [0.9, \"#4d9221\"], [1, \"#276419\"]], \"sequential\": [[0.0, \"#0d0887\"], [0.1111111111111111, \"#46039f\"], [0.2222222222222222, \"#7201a8\"], [0.3333333333333333, \"#9c179e\"], [0.4444444444444444, \"#bd3786\"], [0.5555555555555556, \"#d8576b\"], [0.6666666666666666, \"#ed7953\"], [0.7777777777777778, \"#fb9f3a\"], [0.8888888888888888, \"#fdca26\"], [1.0, \"#f0f921\"]], \"sequentialminus\": [[0.0, \"#0d0887\"], [0.1111111111111111, \"#46039f\"], [0.2222222222222222, \"#7201a8\"], [0.3333333333333333, \"#9c179e\"], [0.4444444444444444, \"#bd3786\"], [0.5555555555555556, \"#d8576b\"], [0.6666666666666666, \"#ed7953\"], [0.7777777777777778, \"#fb9f3a\"], [0.8888888888888888, \"#fdca26\"], [1.0, \"#f0f921\"]]}, \"colorway\": [\"#636efa\", \"#EF553B\", \"#00cc96\", \"#ab63fa\", \"#FFA15A\", \"#19d3f3\", \"#FF6692\", \"#B6E880\", \"#FF97FF\", \"#FECB52\"], \"font\": {\"color\": \"#2a3f5f\"}, \"geo\": {\"bgcolor\": \"white\", \"lakecolor\": \"white\", \"landcolor\": \"#E5ECF6\", \"showlakes\": true, \"showland\": true, \"subunitcolor\": \"white\"}, \"hoverlabel\": {\"align\": \"left\"}, \"hovermode\": \"closest\", \"mapbox\": {\"style\": \"light\"}, \"paper_bgcolor\": \"white\", \"plot_bgcolor\": \"#E5ECF6\", \"polar\": {\"angularaxis\": {\"gridcolor\": \"white\", \"linecolor\": \"white\", \"ticks\": \"\"}, \"bgcolor\": \"#E5ECF6\", \"radialaxis\": {\"gridcolor\": \"white\", \"linecolor\": \"white\", \"ticks\": \"\"}}, \"scene\": {\"xaxis\": {\"backgroundcolor\": \"#E5ECF6\", \"gridcolor\": \"white\", \"gridwidth\": 2, \"linecolor\": \"white\", \"showbackground\": true, \"ticks\": \"\", \"zerolinecolor\": \"white\"}, \"yaxis\": {\"backgroundcolor\": \"#E5ECF6\", \"gridcolor\": \"white\", \"gridwidth\": 2, \"linecolor\": \"white\", \"showbackground\": true, \"ticks\": \"\", \"zerolinecolor\": \"white\"}, \"zaxis\": {\"backgroundcolor\": \"#E5ECF6\", \"gridcolor\": \"white\", \"gridwidth\": 2, \"linecolor\": \"white\", \"showbackground\": true, \"ticks\": \"\", \"zerolinecolor\": \"white\"}}, \"shapedefaults\": {\"line\": {\"color\": \"#2a3f5f\"}}, \"ternary\": {\"aaxis\": {\"gridcolor\": \"white\", \"linecolor\": \"white\", \"ticks\": \"\"}, \"baxis\": {\"gridcolor\": \"white\", \"linecolor\": \"white\", \"ticks\": \"\"}, \"bgcolor\": \"#E5ECF6\", \"caxis\": {\"gridcolor\": \"white\", \"linecolor\": \"white\", \"ticks\": \"\"}}, \"title\": {\"x\": 0.05}, \"xaxis\": {\"automargin\": true, \"gridcolor\": \"white\", \"linecolor\": \"white\", \"ticks\": \"\", \"title\": {\"standoff\": 15}, \"zerolinecolor\": \"white\", \"zerolinewidth\": 2}, \"yaxis\": {\"automargin\": true, \"gridcolor\": \"white\", \"linecolor\": \"white\", \"ticks\": \"\", \"title\": {\"standoff\": 15}, \"zerolinecolor\": \"white\", \"zerolinewidth\": 2}}}, \"title\": {\"text\": \"30682\"}, \"width\": 1200, \"xaxis\": {\"anchor\": \"y\", \"domain\": [0.0, 1.0]}, \"xaxis2\": {\"anchor\": \"y2\", \"domain\": [0.0, 1.0]}, \"xaxis3\": {\"anchor\": \"y3\", \"domain\": [0.0, 1.0]}, \"xaxis4\": {\"anchor\": \"y4\", \"domain\": [0.0, 1.0]}, \"xaxis5\": {\"anchor\": \"y5\", \"domain\": [0.0, 1.0]}, \"xaxis6\": {\"anchor\": \"y6\", \"domain\": [0.0, 1.0]}, \"yaxis\": {\"anchor\": \"x\", \"domain\": [0.9027777777777777, 0.9999999999999999]}, \"yaxis2\": {\"anchor\": \"x2\", \"domain\": [0.7222222222222222, 0.8194444444444444]}, \"yaxis3\": {\"anchor\": \"x3\", \"domain\": [0.5416666666666667, 0.638888888888889]}, \"yaxis4\": {\"anchor\": \"x4\", \"domain\": [0.3611111111111111, 0.4583333333333333]}, \"yaxis5\": {\"anchor\": \"x5\", \"domain\": [0.18055555555555555, 0.2777777777777778]}, \"yaxis6\": {\"anchor\": \"x6\", \"domain\": [0.0, 0.09722222222222222]}},\n",
              "                        {\"responsive\": true}\n",
              "                    ).then(function(){\n",
              "                            \n",
              "var gd = document.getElementById('a2bfa8d7-8abb-4be1-aa9b-142626dc1b08');\n",
              "var x = new MutationObserver(function (mutations, observer) {{\n",
              "        var display = window.getComputedStyle(gd).display;\n",
              "        if (!display || display === 'none') {{\n",
              "            console.log([gd, 'removed!']);\n",
              "            Plotly.purge(gd);\n",
              "            observer.disconnect();\n",
              "        }}\n",
              "}});\n",
              "\n",
              "// Listen for the removal of the full notebook cells\n",
              "var notebookContainer = gd.closest('#notebook-container');\n",
              "if (notebookContainer) {{\n",
              "    x.observe(notebookContainer, {childList: true});\n",
              "}}\n",
              "\n",
              "// Listen for the clearing of the current output cell\n",
              "var outputEl = gd.closest('.output');\n",
              "if (outputEl) {{\n",
              "    x.observe(outputEl, {childList: true});\n",
              "}}\n",
              "\n",
              "                        })\n",
              "                };\n",
              "                \n",
              "            </script>\n",
              "        </div>\n",
              "</body>\n",
              "</html>"
            ]
          },
          "metadata": {
            "tags": []
          }
        },
        {
          "output_type": "stream",
          "text": [
            "error calculate process performance\n",
            "error calculate process performance\n"
          ],
          "name": "stdout"
        },
        {
          "output_type": "display_data",
          "data": {
            "text/html": [
              "<html>\n",
              "<head><meta charset=\"utf-8\" /></head>\n",
              "<body>\n",
              "    <div>\n",
              "            <script src=\"https://cdnjs.cloudflare.com/ajax/libs/mathjax/2.7.5/MathJax.js?config=TeX-AMS-MML_SVG\"></script><script type=\"text/javascript\">if (window.MathJax) {MathJax.Hub.Config({SVG: {font: \"STIX-Web\"}});}</script>\n",
              "                <script type=\"text/javascript\">window.PlotlyConfig = {MathJaxConfig: 'local'};</script>\n",
              "        <script src=\"https://cdn.plot.ly/plotly-latest.min.js\"></script>    \n",
              "            <div id=\"107db85a-2c51-46e5-ad34-19917b44e91d\" class=\"plotly-graph-div\" style=\"height:400px; width:1200px;\"></div>\n",
              "            <script type=\"text/javascript\">\n",
              "                \n",
              "                    window.PLOTLYENV=window.PLOTLYENV || {};\n",
              "                    \n",
              "                if (document.getElementById(\"107db85a-2c51-46e5-ad34-19917b44e91d\")) {\n",
              "                    Plotly.newPlot(\n",
              "                        '107db85a-2c51-46e5-ad34-19917b44e91d',\n",
              "                        [{\"line\": {\"color\": \"#4280F5\"}, \"mode\": \"lines+markers\", \"name\": \"mean Offset Dim M\", \"type\": \"scatter\", \"x\": [\"2020-08-14T17:00:00\", \"2020-08-15T08:00:00\", \"2020-08-15T16:00:00\", \"2020-08-17T08:00:00\", \"2020-08-17T16:00:00\", \"2020-08-18T09:00:00\", \"2020-08-18T16:00:00\", \"2020-08-19T08:00:00\", \"2020-08-19T15:00:00\", \"2020-08-20T09:00:00\", \"2020-08-20T15:00:00\", \"2020-08-21T08:00:00\", \"2020-08-21T15:00:00\", \"2020-08-21T19:00:00\", \"2020-08-22T08:00:00\", \"2020-08-22T17:00:00\", \"2020-08-24T12:00:00\", \"2020-08-24T17:00:00\", \"2020-08-24T18:00:00\", \"2020-08-25T08:00:00\", \"2020-08-25T17:00:00\", \"2020-08-26T09:00:00\", \"2020-08-26T16:00:00\", \"2020-08-27T08:00:00\", \"2020-08-27T18:00:00\", \"2020-08-27T19:00:00\", \"2020-08-28T10:00:00\", \"2020-08-28T17:00:00\", \"2020-08-29T12:00:00\", \"2020-08-29T15:00:00\", \"2020-08-31T07:00:00\", \"2020-09-01T16:00:00\", \"2020-09-03T08:00:00\", \"2020-09-03T16:00:00\", \"2020-09-03T17:00:00\", \"2020-09-04T09:00:00\", \"2020-09-04T16:00:00\", \"2020-09-05T08:00:00\", \"2020-09-05T15:00:00\", \"2020-09-05T16:00:00\", \"2020-09-07T09:00:00\", \"2020-09-07T17:00:00\", \"2020-09-08T10:00:00\"], \"xaxis\": \"x\", \"y\": [0.021849999204277992, 0.030571429058909416, 0.01269999984651804, 0.01860000006854534, 0.02305000089108944, 0.025100000202655792, 0.01600000075995922, 0.021700000390410423, 0.01924999989569187, 0.02199999988079071, 0.023250000551342964, 0.017899999395012856, 0.02936842106282711, 0.026000000536441803, 0.018200000748038292, 0.022600000724196434, 0.023399999365210533, 0.012799999676644802, 0.024299999698996544, 0.013299999758601189, 0.018799999728798866, 0.019999999552965164, 0.013899999670684338, 0.013299999758601189, 0.01855555549263954, 0.027636364102363586, 0.015399999916553497, 0.011699999682605267, 0.019899999722838402, 0.014700000174343586, 0.016300000250339508, 0.029400000348687172, 0.014100000262260437, 0.028999999165534973, 0.027300000190734863, 0.01744999922811985, 0.023600000888109207, 0.024399999529123306, 0.006200000178068876, 0.007199999876320362, 0.02135000005364418, 0.015200000256299973, 0.013799999840557575], \"yaxis\": \"y\"}, {\"line\": {\"color\": \"#FF5733\"}, \"mode\": \"lines\", \"name\": \"USL Offset Dim M\", \"type\": \"scatter\", \"x\": [\"2020-08-14T17:00:00\", \"2020-08-15T08:00:00\", \"2020-08-15T16:00:00\", \"2020-08-17T08:00:00\", \"2020-08-17T16:00:00\", \"2020-08-18T09:00:00\", \"2020-08-18T16:00:00\", \"2020-08-19T08:00:00\", \"2020-08-19T15:00:00\", \"2020-08-20T09:00:00\", \"2020-08-20T15:00:00\", \"2020-08-21T08:00:00\", \"2020-08-21T15:00:00\", \"2020-08-21T19:00:00\", \"2020-08-22T08:00:00\", \"2020-08-22T17:00:00\", \"2020-08-24T12:00:00\", \"2020-08-24T17:00:00\", \"2020-08-24T18:00:00\", \"2020-08-25T08:00:00\", \"2020-08-25T17:00:00\", \"2020-08-26T09:00:00\", \"2020-08-26T16:00:00\", \"2020-08-27T08:00:00\", \"2020-08-27T18:00:00\", \"2020-08-27T19:00:00\", \"2020-08-28T10:00:00\", \"2020-08-28T17:00:00\", \"2020-08-29T12:00:00\", \"2020-08-29T15:00:00\", \"2020-08-31T07:00:00\", \"2020-09-01T16:00:00\", \"2020-09-03T08:00:00\", \"2020-09-03T16:00:00\", \"2020-09-03T17:00:00\", \"2020-09-04T09:00:00\", \"2020-09-04T16:00:00\", \"2020-09-05T08:00:00\", \"2020-09-05T15:00:00\", \"2020-09-05T16:00:00\", \"2020-09-07T09:00:00\", \"2020-09-07T17:00:00\", \"2020-09-08T10:00:00\"], \"xaxis\": \"x\", \"y\": [0.05000000074505806, 0.05000000074505806, 0.05000000074505806, 0.05000000074505806, 0.05000000074505806, 0.05000000074505806, 0.05000000074505806, 0.05000000074505806, 0.05000000074505806, 0.05000000074505806, 0.05000000074505806, 0.05000000074505806, 0.05000000074505806, 0.05000000074505806, 0.05000000074505806, 0.05000000074505806, 0.05000000074505806, 0.05000000074505806, 0.05000000074505806, 0.05000000074505806, 0.05000000074505806, 0.05000000074505806, 0.05000000074505806, 0.05000000074505806, 0.05000000074505806, 0.05000000074505806, 0.05000000074505806, 0.05000000074505806, 0.05000000074505806, 0.05000000074505806, 0.05000000074505806, 0.05000000074505806, 0.05000000074505806, 0.05000000074505806, 0.05000000074505806, 0.05000000074505806, 0.05000000074505806, 0.05000000074505806, 0.05000000074505806, 0.05000000074505806, 0.05000000074505806, 0.05000000074505806, 0.05000000074505806], \"yaxis\": \"y\"}, {\"line\": {\"color\": \"#FF5733\"}, \"mode\": \"lines\", \"name\": \"LSL Offset Dim M\", \"type\": \"scatter\", \"x\": [\"2020-08-14T17:00:00\", \"2020-08-15T08:00:00\", \"2020-08-15T16:00:00\", \"2020-08-17T08:00:00\", \"2020-08-17T16:00:00\", \"2020-08-18T09:00:00\", \"2020-08-18T16:00:00\", \"2020-08-19T08:00:00\", \"2020-08-19T15:00:00\", \"2020-08-20T09:00:00\", \"2020-08-20T15:00:00\", \"2020-08-21T08:00:00\", \"2020-08-21T15:00:00\", \"2020-08-21T19:00:00\", \"2020-08-22T08:00:00\", \"2020-08-22T17:00:00\", \"2020-08-24T12:00:00\", \"2020-08-24T17:00:00\", \"2020-08-24T18:00:00\", \"2020-08-25T08:00:00\", \"2020-08-25T17:00:00\", \"2020-08-26T09:00:00\", \"2020-08-26T16:00:00\", \"2020-08-27T08:00:00\", \"2020-08-27T18:00:00\", \"2020-08-27T19:00:00\", \"2020-08-28T10:00:00\", \"2020-08-28T17:00:00\", \"2020-08-29T12:00:00\", \"2020-08-29T15:00:00\", \"2020-08-31T07:00:00\", \"2020-09-01T16:00:00\", \"2020-09-03T08:00:00\", \"2020-09-03T16:00:00\", \"2020-09-03T17:00:00\", \"2020-09-04T09:00:00\", \"2020-09-04T16:00:00\", \"2020-09-05T08:00:00\", \"2020-09-05T15:00:00\", \"2020-09-05T16:00:00\", \"2020-09-07T09:00:00\", \"2020-09-07T17:00:00\", \"2020-09-08T10:00:00\"], \"xaxis\": \"x\", \"y\": [null, null, null, null, null, null, null, null, null, null, null, null, null, null, null, null, null, null, null, null, null, null, null, null, null, null, null, null, null, null, null, null, null, null, null, null, null, null, null, null, null, null, null], \"yaxis\": \"y\"}, {\"line\": {\"color\": \"#33C2FF\"}, \"mode\": \"lines\", \"name\": \"UCL Offset Dim M\", \"type\": \"scatter\", \"x\": [\"2020-08-14T17:00:00\", \"2020-08-15T08:00:00\", \"2020-08-15T16:00:00\", \"2020-08-17T08:00:00\", \"2020-08-17T16:00:00\", \"2020-08-18T09:00:00\", \"2020-08-18T16:00:00\", \"2020-08-19T08:00:00\", \"2020-08-19T15:00:00\", \"2020-08-20T09:00:00\", \"2020-08-20T15:00:00\", \"2020-08-21T08:00:00\", \"2020-08-21T15:00:00\", \"2020-08-21T19:00:00\", \"2020-08-22T08:00:00\", \"2020-08-22T17:00:00\", \"2020-08-24T12:00:00\", \"2020-08-24T17:00:00\", \"2020-08-24T18:00:00\", \"2020-08-25T08:00:00\", \"2020-08-25T17:00:00\", \"2020-08-26T09:00:00\", \"2020-08-26T16:00:00\", \"2020-08-27T08:00:00\", \"2020-08-27T18:00:00\", \"2020-08-27T19:00:00\", \"2020-08-28T10:00:00\", \"2020-08-28T17:00:00\", \"2020-08-29T12:00:00\", \"2020-08-29T15:00:00\", \"2020-08-31T07:00:00\", \"2020-09-01T16:00:00\", \"2020-09-03T08:00:00\", \"2020-09-03T16:00:00\", \"2020-09-03T17:00:00\", \"2020-09-04T09:00:00\", \"2020-09-04T16:00:00\", \"2020-09-05T08:00:00\", \"2020-09-05T15:00:00\", \"2020-09-05T16:00:00\", \"2020-09-07T09:00:00\", \"2020-09-07T17:00:00\", \"2020-09-08T10:00:00\"], \"xaxis\": \"x\", \"y\": [0.06400000303983688, 0.06400000303983688, 0.06400000303983688, 0.06400000303983688, 0.06400000303983688, 0.06400000303983688, 0.06400000303983688, 0.06400000303983688, 0.06400000303983688, 0.06400000303983688, 0.06400000303983688, 0.06400000303983688, 0.05700000002980232, 0.05700000002980232, 0.05700000002980232, 0.05700000002980232, 0.05700000002980232, 0.05700000002980232, 0.05700000002980232, 0.05700000002980232, 0.05700000002980232, 0.05700000002980232, 0.05700000002980232, 0.05700000002980232, 0.05700000002980232, 0.05700000002980232, 0.05700000002980232, 0.054999999701976776, 0.054999999701976776, 0.054999999701976776, 0.054999999701976776, 0.054999999701976776, 0.054999999701976776, 0.054999999701976776, 0.054999999701976776, 0.054999999701976776, 0.054999999701976776, 0.054999999701976776, 0.054999999701976776, 0.054999999701976776, 0.054999999701976776, 0.054999999701976776, 0.054999999701976776], \"yaxis\": \"y\"}, {\"line\": {\"color\": \"#33C2FF\"}, \"mode\": \"lines\", \"name\": \"LCL Offset Dim M\", \"type\": \"scatter\", \"x\": [\"2020-08-14T17:00:00\", \"2020-08-15T08:00:00\", \"2020-08-15T16:00:00\", \"2020-08-17T08:00:00\", \"2020-08-17T16:00:00\", \"2020-08-18T09:00:00\", \"2020-08-18T16:00:00\", \"2020-08-19T08:00:00\", \"2020-08-19T15:00:00\", \"2020-08-20T09:00:00\", \"2020-08-20T15:00:00\", \"2020-08-21T08:00:00\", \"2020-08-21T15:00:00\", \"2020-08-21T19:00:00\", \"2020-08-22T08:00:00\", \"2020-08-22T17:00:00\", \"2020-08-24T12:00:00\", \"2020-08-24T17:00:00\", \"2020-08-24T18:00:00\", \"2020-08-25T08:00:00\", \"2020-08-25T17:00:00\", \"2020-08-26T09:00:00\", \"2020-08-26T16:00:00\", \"2020-08-27T08:00:00\", \"2020-08-27T18:00:00\", \"2020-08-27T19:00:00\", \"2020-08-28T10:00:00\", \"2020-08-28T17:00:00\", \"2020-08-29T12:00:00\", \"2020-08-29T15:00:00\", \"2020-08-31T07:00:00\", \"2020-09-01T16:00:00\", \"2020-09-03T08:00:00\", \"2020-09-03T16:00:00\", \"2020-09-03T17:00:00\", \"2020-09-04T09:00:00\", \"2020-09-04T16:00:00\", \"2020-09-05T08:00:00\", \"2020-09-05T15:00:00\", \"2020-09-05T16:00:00\", \"2020-09-07T09:00:00\", \"2020-09-07T17:00:00\", \"2020-09-08T10:00:00\"], \"xaxis\": \"x\", \"y\": [-0.019999999552965164, -0.019999999552965164, -0.019999999552965164, -0.019999999552965164, -0.019999999552965164, -0.019999999552965164, -0.019999999552965164, -0.019999999552965164, -0.019999999552965164, -0.019999999552965164, -0.019999999552965164, -0.019999999552965164, -0.017999999225139618, -0.017999999225139618, -0.017999999225139618, -0.017999999225139618, -0.017999999225139618, -0.017999999225139618, -0.017999999225139618, -0.017999999225139618, -0.017999999225139618, -0.017999999225139618, -0.017999999225139618, -0.017999999225139618, -0.017999999225139618, -0.017999999225139618, -0.017999999225139618, -0.017000000923871994, -0.017000000923871994, -0.017000000923871994, -0.017000000923871994, -0.017000000923871994, -0.017000000923871994, -0.017000000923871994, -0.017000000923871994, -0.017000000923871994, -0.017999999225139618, -0.017999999225139618, -0.017999999225139618, -0.017999999225139618, -0.017999999225139618, -0.017999999225139618, -0.017999999225139618], \"yaxis\": \"y\"}, {\"line\": {\"color\": \"#33C2FF\"}, \"mode\": \"lines\", \"name\": \"Mean Offset Dim M\", \"type\": \"scatter\", \"x\": [\"2020-08-14T17:00:00\", \"2020-08-15T08:00:00\", \"2020-08-15T16:00:00\", \"2020-08-17T08:00:00\", \"2020-08-17T16:00:00\", \"2020-08-18T09:00:00\", \"2020-08-18T16:00:00\", \"2020-08-19T08:00:00\", \"2020-08-19T15:00:00\", \"2020-08-20T09:00:00\", \"2020-08-20T15:00:00\", \"2020-08-21T08:00:00\", \"2020-08-21T15:00:00\", \"2020-08-21T19:00:00\", \"2020-08-22T08:00:00\", \"2020-08-22T17:00:00\", \"2020-08-24T12:00:00\", \"2020-08-24T17:00:00\", \"2020-08-24T18:00:00\", \"2020-08-25T08:00:00\", \"2020-08-25T17:00:00\", \"2020-08-26T09:00:00\", \"2020-08-26T16:00:00\", \"2020-08-27T08:00:00\", \"2020-08-27T18:00:00\", \"2020-08-27T19:00:00\", \"2020-08-28T10:00:00\", \"2020-08-28T17:00:00\", \"2020-08-29T12:00:00\", \"2020-08-29T15:00:00\", \"2020-08-31T07:00:00\", \"2020-09-01T16:00:00\", \"2020-09-03T08:00:00\", \"2020-09-03T16:00:00\", \"2020-09-03T17:00:00\", \"2020-09-04T09:00:00\", \"2020-09-04T16:00:00\", \"2020-09-05T08:00:00\", \"2020-09-05T15:00:00\", \"2020-09-05T16:00:00\", \"2020-09-07T09:00:00\", \"2020-09-07T17:00:00\", \"2020-09-08T10:00:00\"], \"xaxis\": \"x\", \"y\": [0.02199999988079071, 0.02199999988079071, 0.02199999988079071, 0.02199999988079071, 0.02199999988079071, 0.02199999988079071, 0.02199999988079071, 0.02199999988079071, 0.02199999988079071, 0.02199999988079071, 0.02199999988079071, 0.02199999988079071, 0.01899999938905239, 0.01899999938905239, 0.01899999938905239, 0.01899999938905239, 0.01899999938905239, 0.01899999938905239, 0.01899999938905239, 0.01899999938905239, 0.01899999938905239, 0.01899999938905239, 0.01899999938905239, 0.01899999938905239, 0.01899999938905239, 0.01899999938905239, 0.01899999938905239, 0.01899999938905239, 0.01899999938905239, 0.01899999938905239, 0.01899999938905239, 0.01899999938905239, 0.01899999938905239, 0.01899999938905239, 0.01899999938905239, 0.01899999938905239, 0.01899999938905239, 0.01899999938905239, 0.01899999938905239, 0.01899999938905239, 0.01899999938905239, 0.01899999938905239, 0.01899999938905239], \"yaxis\": \"y\"}, {\"line\": {\"color\": \"#4280F5\"}, \"mode\": \"lines+markers\", \"name\": \"mean Ba v\\u1edb tr\\u00ean membrane\", \"type\": \"scatter\", \"x\": [\"2020-08-14T17:00:00\", \"2020-08-15T08:00:00\", \"2020-08-15T16:00:00\", \"2020-08-17T08:00:00\", \"2020-08-17T16:00:00\", \"2020-08-18T09:00:00\", \"2020-08-18T16:00:00\", \"2020-08-19T08:00:00\", \"2020-08-19T15:00:00\", \"2020-08-20T09:00:00\", \"2020-08-20T15:00:00\", \"2020-08-21T08:00:00\", \"2020-08-21T15:00:00\", \"2020-08-22T08:00:00\", \"2020-08-22T17:00:00\", \"2020-08-24T12:00:00\", \"2020-08-24T17:00:00\", \"2020-08-24T18:00:00\", \"2020-08-25T08:00:00\", \"2020-08-25T17:00:00\", \"2020-08-26T09:00:00\", \"2020-08-26T16:00:00\", \"2020-08-27T08:00:00\", \"2020-08-27T19:00:00\", \"2020-08-28T10:00:00\", \"2020-08-28T17:00:00\", \"2020-08-29T12:00:00\", \"2020-08-29T15:00:00\", \"2020-08-31T07:00:00\", \"2020-09-01T16:00:00\", \"2020-09-03T08:00:00\", \"2020-09-03T17:00:00\", \"2020-09-04T09:00:00\", \"2020-09-04T16:00:00\", \"2020-09-05T08:00:00\", \"2020-09-05T16:00:00\", \"2020-09-07T09:00:00\", \"2020-09-07T17:00:00\", \"2020-09-08T10:00:00\"], \"xaxis\": \"x2\", \"y\": [0.0044999998062849045, 0.0032999999821186066, 0.004399999976158142, 0.004200000315904617, 0.003200000151991844, 0.004999999888241291, 0.003000000026077032, 0.004699999932199717, 0.0028000001329928637, 0.0036000001709908247, 0.003599999938160181, 0.00430000014603138, 0.003200000151991844, 0.003800000064074993, 0.0024999999441206455, 0.0026000000070780516, 0.004000000189989805, 0.009399999864399433, 0.0035000001080334187, 0.004699999932199717, 0.0028000001329928637, 0.00430000014603138, 0.002199999988079071, 0.003599999938160181, 0.003100000089034438, 0.0034000000450760126, 0.0024999999441206455, 0.00419999985024333, 0.0036000001709908247, 0.005600000265985727, 0.003900000127032399, 0.003000000026077032, 0.003800000064074993, 0.003599999938160181, 0.003700000001117587, 0.002400000113993883, 0.0032999999821186066, 0.003800000064074993, 0.004500000271946192], \"yaxis\": \"y2\"}, {\"line\": {\"color\": \"#FF5733\"}, \"mode\": \"lines\", \"name\": \"USL Ba v\\u1edb tr\\u00ean membrane\", \"type\": \"scatter\", \"x\": [\"2020-08-14T17:00:00\", \"2020-08-15T08:00:00\", \"2020-08-15T16:00:00\", \"2020-08-17T08:00:00\", \"2020-08-17T16:00:00\", \"2020-08-18T09:00:00\", \"2020-08-18T16:00:00\", \"2020-08-19T08:00:00\", \"2020-08-19T15:00:00\", \"2020-08-20T09:00:00\", \"2020-08-20T15:00:00\", \"2020-08-21T08:00:00\", \"2020-08-21T15:00:00\", \"2020-08-22T08:00:00\", \"2020-08-22T17:00:00\", \"2020-08-24T12:00:00\", \"2020-08-24T17:00:00\", \"2020-08-24T18:00:00\", \"2020-08-25T08:00:00\", \"2020-08-25T17:00:00\", \"2020-08-26T09:00:00\", \"2020-08-26T16:00:00\", \"2020-08-27T08:00:00\", \"2020-08-27T19:00:00\", \"2020-08-28T10:00:00\", \"2020-08-28T17:00:00\", \"2020-08-29T12:00:00\", \"2020-08-29T15:00:00\", \"2020-08-31T07:00:00\", \"2020-09-01T16:00:00\", \"2020-09-03T08:00:00\", \"2020-09-03T17:00:00\", \"2020-09-04T09:00:00\", \"2020-09-04T16:00:00\", \"2020-09-05T08:00:00\", \"2020-09-05T16:00:00\", \"2020-09-07T09:00:00\", \"2020-09-07T17:00:00\", \"2020-09-08T10:00:00\"], \"xaxis\": \"x2\", \"y\": [0.004999999888241291, 0.004999999888241291, 0.004999999888241291, 0.004999999888241291, 0.004999999888241291, 0.004999999888241291, 0.004999999888241291, 0.004999999888241291, 0.004999999888241291, 0.004999999888241291, 0.004999999888241291, 0.004999999888241291, 0.004999999888241291, 0.004999999888241291, 0.004999999888241291, 0.004999999888241291, 0.004999999888241291, 0.004999999888241291, 0.004999999888241291, 0.004999999888241291, 0.004999999888241291, 0.004999999888241291, 0.004999999888241291, 0.004999999888241291, 0.004999999888241291, 0.004999999888241291, 0.004999999888241291, 0.004999999888241291, 0.004999999888241291, 0.004999999888241291, 0.004999999888241291, 0.004999999888241291, 0.004999999888241291, 0.004999999888241291, 0.004999999888241291, 0.004999999888241291, 0.004999999888241291, 0.004999999888241291, 0.004999999888241291], \"yaxis\": \"y2\"}, {\"line\": {\"color\": \"#FF5733\"}, \"mode\": \"lines\", \"name\": \"LSL Ba v\\u1edb tr\\u00ean membrane\", \"type\": \"scatter\", \"x\": [\"2020-08-14T17:00:00\", \"2020-08-15T08:00:00\", \"2020-08-15T16:00:00\", \"2020-08-17T08:00:00\", \"2020-08-17T16:00:00\", \"2020-08-18T09:00:00\", \"2020-08-18T16:00:00\", \"2020-08-19T08:00:00\", \"2020-08-19T15:00:00\", \"2020-08-20T09:00:00\", \"2020-08-20T15:00:00\", \"2020-08-21T08:00:00\", \"2020-08-21T15:00:00\", \"2020-08-22T08:00:00\", \"2020-08-22T17:00:00\", \"2020-08-24T12:00:00\", \"2020-08-24T17:00:00\", \"2020-08-24T18:00:00\", \"2020-08-25T08:00:00\", \"2020-08-25T17:00:00\", \"2020-08-26T09:00:00\", \"2020-08-26T16:00:00\", \"2020-08-27T08:00:00\", \"2020-08-27T19:00:00\", \"2020-08-28T10:00:00\", \"2020-08-28T17:00:00\", \"2020-08-29T12:00:00\", \"2020-08-29T15:00:00\", \"2020-08-31T07:00:00\", \"2020-09-01T16:00:00\", \"2020-09-03T08:00:00\", \"2020-09-03T17:00:00\", \"2020-09-04T09:00:00\", \"2020-09-04T16:00:00\", \"2020-09-05T08:00:00\", \"2020-09-05T16:00:00\", \"2020-09-07T09:00:00\", \"2020-09-07T17:00:00\", \"2020-09-08T10:00:00\"], \"xaxis\": \"x2\", \"y\": [null, null, null, null, null, null, null, null, null, null, null, null, null, null, null, null, null, null, null, null, null, null, null, null, null, null, null, null, null, null, null, null, null, null, null, null, null, null, null], \"yaxis\": \"y2\"}, {\"line\": {\"color\": \"#33C2FF\"}, \"mode\": \"lines\", \"name\": \"UCL Ba v\\u1edb tr\\u00ean membrane\", \"type\": \"scatter\", \"x\": [\"2020-08-14T17:00:00\", \"2020-08-15T08:00:00\", \"2020-08-15T16:00:00\", \"2020-08-17T08:00:00\", \"2020-08-17T16:00:00\", \"2020-08-18T09:00:00\", \"2020-08-18T16:00:00\", \"2020-08-19T08:00:00\", \"2020-08-19T15:00:00\", \"2020-08-20T09:00:00\", \"2020-08-20T15:00:00\", \"2020-08-21T08:00:00\", \"2020-08-21T15:00:00\", \"2020-08-22T08:00:00\", \"2020-08-22T17:00:00\", \"2020-08-24T12:00:00\", \"2020-08-24T17:00:00\", \"2020-08-24T18:00:00\", \"2020-08-25T08:00:00\", \"2020-08-25T17:00:00\", \"2020-08-26T09:00:00\", \"2020-08-26T16:00:00\", \"2020-08-27T08:00:00\", \"2020-08-27T19:00:00\", \"2020-08-28T10:00:00\", \"2020-08-28T17:00:00\", \"2020-08-29T12:00:00\", \"2020-08-29T15:00:00\", \"2020-08-31T07:00:00\", \"2020-09-01T16:00:00\", \"2020-09-03T08:00:00\", \"2020-09-03T17:00:00\", \"2020-09-04T09:00:00\", \"2020-09-04T16:00:00\", \"2020-09-05T08:00:00\", \"2020-09-05T16:00:00\", \"2020-09-07T09:00:00\", \"2020-09-07T17:00:00\", \"2020-09-08T10:00:00\"], \"xaxis\": \"x2\", \"y\": [0.00800000037997961, 0.00800000037997961, 0.00800000037997961, 0.00800000037997961, 0.00800000037997961, 0.00800000037997961, 0.00800000037997961, 0.00800000037997961, 0.00800000037997961, 0.00800000037997961, 0.00800000037997961, 0.00800000037997961, 0.009999999776482582, 0.009999999776482582, 0.009999999776482582, 0.009999999776482582, 0.009999999776482582, 0.009999999776482582, 0.009999999776482582, 0.009999999776482582, 0.009999999776482582, 0.009999999776482582, 0.009999999776482582, 0.009999999776482582, 0.009999999776482582, 0.00800000037997961, 0.00800000037997961, 0.00800000037997961, 0.00800000037997961, 0.00800000037997961, 0.00800000037997961, 0.00800000037997961, 0.00800000037997961, 0.00800000037997961, 0.00800000037997961, 0.00800000037997961, 0.00800000037997961, 0.00800000037997961, 0.00800000037997961], \"yaxis\": \"y2\"}, {\"line\": {\"color\": \"#33C2FF\"}, \"mode\": \"lines\", \"name\": \"LCL Ba v\\u1edb tr\\u00ean membrane\", \"type\": \"scatter\", \"x\": [\"2020-08-14T17:00:00\", \"2020-08-15T08:00:00\", \"2020-08-15T16:00:00\", \"2020-08-17T08:00:00\", \"2020-08-17T16:00:00\", \"2020-08-18T09:00:00\", \"2020-08-18T16:00:00\", \"2020-08-19T08:00:00\", \"2020-08-19T15:00:00\", \"2020-08-20T09:00:00\", \"2020-08-20T15:00:00\", \"2020-08-21T08:00:00\", \"2020-08-21T15:00:00\", \"2020-08-22T08:00:00\", \"2020-08-22T17:00:00\", \"2020-08-24T12:00:00\", \"2020-08-24T17:00:00\", \"2020-08-24T18:00:00\", \"2020-08-25T08:00:00\", \"2020-08-25T17:00:00\", \"2020-08-26T09:00:00\", \"2020-08-26T16:00:00\", \"2020-08-27T08:00:00\", \"2020-08-27T19:00:00\", \"2020-08-28T10:00:00\", \"2020-08-28T17:00:00\", \"2020-08-29T12:00:00\", \"2020-08-29T15:00:00\", \"2020-08-31T07:00:00\", \"2020-09-01T16:00:00\", \"2020-09-03T08:00:00\", \"2020-09-03T17:00:00\", \"2020-09-04T09:00:00\", \"2020-09-04T16:00:00\", \"2020-09-05T08:00:00\", \"2020-09-05T16:00:00\", \"2020-09-07T09:00:00\", \"2020-09-07T17:00:00\", \"2020-09-08T10:00:00\"], \"xaxis\": \"x2\", \"y\": [0.0, 0.0, 0.0, 0.0, 0.0, 0.0, 0.0, 0.0, 0.0, 0.0, 0.0, 0.0, -0.0020000000949949026, -0.0020000000949949026, -0.0020000000949949026, -0.0020000000949949026, -0.0020000000949949026, -0.0020000000949949026, -0.0020000000949949026, -0.0020000000949949026, -0.0020000000949949026, -0.0020000000949949026, -0.0020000000949949026, -0.0020000000949949026, -0.0020000000949949026, -0.0010000000474974513, -0.0010000000474974513, -0.0010000000474974513, -0.0010000000474974513, -0.0010000000474974513, -0.0010000000474974513, -0.0010000000474974513, -0.0010000000474974513, -0.0010000000474974513, -0.0010000000474974513, -0.0010000000474974513, -0.0010000000474974513, -0.0010000000474974513, -0.0010000000474974513], \"yaxis\": \"y2\"}, {\"line\": {\"color\": \"#33C2FF\"}, \"mode\": \"lines\", \"name\": \"Mean Ba v\\u1edb tr\\u00ean membrane\", \"type\": \"scatter\", \"x\": [\"2020-08-14T17:00:00\", \"2020-08-15T08:00:00\", \"2020-08-15T16:00:00\", \"2020-08-17T08:00:00\", \"2020-08-17T16:00:00\", \"2020-08-18T09:00:00\", \"2020-08-18T16:00:00\", \"2020-08-19T08:00:00\", \"2020-08-19T15:00:00\", \"2020-08-20T09:00:00\", \"2020-08-20T15:00:00\", \"2020-08-21T08:00:00\", \"2020-08-21T15:00:00\", \"2020-08-22T08:00:00\", \"2020-08-22T17:00:00\", \"2020-08-24T12:00:00\", \"2020-08-24T17:00:00\", \"2020-08-24T18:00:00\", \"2020-08-25T08:00:00\", \"2020-08-25T17:00:00\", \"2020-08-26T09:00:00\", \"2020-08-26T16:00:00\", \"2020-08-27T08:00:00\", \"2020-08-27T19:00:00\", \"2020-08-28T10:00:00\", \"2020-08-28T17:00:00\", \"2020-08-29T12:00:00\", \"2020-08-29T15:00:00\", \"2020-08-31T07:00:00\", \"2020-09-01T16:00:00\", \"2020-09-03T08:00:00\", \"2020-09-03T17:00:00\", \"2020-09-04T09:00:00\", \"2020-09-04T16:00:00\", \"2020-09-05T08:00:00\", \"2020-09-05T16:00:00\", \"2020-09-07T09:00:00\", \"2020-09-07T17:00:00\", \"2020-09-08T10:00:00\"], \"xaxis\": \"x2\", \"y\": [0.004000000189989805, 0.004000000189989805, 0.004000000189989805, 0.004000000189989805, 0.004000000189989805, 0.004000000189989805, 0.004000000189989805, 0.004000000189989805, 0.004000000189989805, 0.004000000189989805, 0.004000000189989805, 0.004000000189989805, 0.004000000189989805, 0.004000000189989805, 0.004000000189989805, 0.004000000189989805, 0.004000000189989805, 0.004000000189989805, 0.004000000189989805, 0.004000000189989805, 0.004000000189989805, 0.004000000189989805, 0.004000000189989805, 0.004000000189989805, 0.004000000189989805, 0.004000000189989805, 0.004000000189989805, 0.004000000189989805, 0.004000000189989805, 0.004000000189989805, 0.004000000189989805, 0.004000000189989805, 0.004000000189989805, 0.004000000189989805, 0.004000000189989805, 0.004000000189989805, 0.004000000189989805, 0.004000000189989805, 0.004000000189989805], \"yaxis\": \"y2\"}],\n",
              "                        {\"annotations\": [{\"font\": {\"size\": 16}, \"showarrow\": false, \"text\": \"Offset Dim M\", \"x\": 0.5, \"xanchor\": \"center\", \"xref\": \"paper\", \"y\": 1.0, \"yanchor\": \"bottom\", \"yref\": \"paper\"}, {\"font\": {\"size\": 16}, \"showarrow\": false, \"text\": \"Ba v\\u1edb tr\\u00ean membrane\", \"x\": 0.5, \"xanchor\": \"center\", \"xref\": \"paper\", \"y\": 0.375, \"yanchor\": \"bottom\", \"yref\": \"paper\"}], \"height\": 400, \"template\": {\"data\": {\"bar\": [{\"error_x\": {\"color\": \"#2a3f5f\"}, \"error_y\": {\"color\": \"#2a3f5f\"}, \"marker\": {\"line\": {\"color\": \"#E5ECF6\", \"width\": 0.5}}, \"type\": \"bar\"}], \"barpolar\": [{\"marker\": {\"line\": {\"color\": \"#E5ECF6\", \"width\": 0.5}}, \"type\": \"barpolar\"}], \"carpet\": [{\"aaxis\": {\"endlinecolor\": \"#2a3f5f\", \"gridcolor\": \"white\", \"linecolor\": \"white\", \"minorgridcolor\": \"white\", \"startlinecolor\": \"#2a3f5f\"}, \"baxis\": {\"endlinecolor\": \"#2a3f5f\", \"gridcolor\": \"white\", \"linecolor\": \"white\", \"minorgridcolor\": \"white\", \"startlinecolor\": \"#2a3f5f\"}, \"type\": \"carpet\"}], \"choropleth\": [{\"colorbar\": {\"outlinewidth\": 0, \"ticks\": \"\"}, \"type\": \"choropleth\"}], \"contour\": [{\"colorbar\": {\"outlinewidth\": 0, \"ticks\": \"\"}, \"colorscale\": [[0.0, \"#0d0887\"], [0.1111111111111111, \"#46039f\"], [0.2222222222222222, \"#7201a8\"], [0.3333333333333333, \"#9c179e\"], [0.4444444444444444, \"#bd3786\"], [0.5555555555555556, \"#d8576b\"], [0.6666666666666666, \"#ed7953\"], [0.7777777777777778, \"#fb9f3a\"], [0.8888888888888888, \"#fdca26\"], [1.0, \"#f0f921\"]], \"type\": \"contour\"}], \"contourcarpet\": [{\"colorbar\": {\"outlinewidth\": 0, \"ticks\": \"\"}, \"type\": \"contourcarpet\"}], \"heatmap\": [{\"colorbar\": {\"outlinewidth\": 0, \"ticks\": \"\"}, \"colorscale\": [[0.0, \"#0d0887\"], [0.1111111111111111, \"#46039f\"], [0.2222222222222222, \"#7201a8\"], [0.3333333333333333, \"#9c179e\"], [0.4444444444444444, \"#bd3786\"], [0.5555555555555556, \"#d8576b\"], [0.6666666666666666, \"#ed7953\"], [0.7777777777777778, \"#fb9f3a\"], [0.8888888888888888, \"#fdca26\"], [1.0, \"#f0f921\"]], \"type\": \"heatmap\"}], \"heatmapgl\": [{\"colorbar\": {\"outlinewidth\": 0, \"ticks\": \"\"}, \"colorscale\": [[0.0, \"#0d0887\"], [0.1111111111111111, \"#46039f\"], [0.2222222222222222, \"#7201a8\"], [0.3333333333333333, \"#9c179e\"], [0.4444444444444444, \"#bd3786\"], [0.5555555555555556, \"#d8576b\"], [0.6666666666666666, \"#ed7953\"], [0.7777777777777778, \"#fb9f3a\"], [0.8888888888888888, \"#fdca26\"], [1.0, \"#f0f921\"]], \"type\": \"heatmapgl\"}], \"histogram\": [{\"marker\": {\"colorbar\": {\"outlinewidth\": 0, \"ticks\": \"\"}}, \"type\": \"histogram\"}], \"histogram2d\": [{\"colorbar\": {\"outlinewidth\": 0, \"ticks\": \"\"}, \"colorscale\": [[0.0, \"#0d0887\"], [0.1111111111111111, \"#46039f\"], [0.2222222222222222, \"#7201a8\"], [0.3333333333333333, \"#9c179e\"], [0.4444444444444444, \"#bd3786\"], [0.5555555555555556, \"#d8576b\"], [0.6666666666666666, \"#ed7953\"], [0.7777777777777778, \"#fb9f3a\"], [0.8888888888888888, \"#fdca26\"], [1.0, \"#f0f921\"]], \"type\": \"histogram2d\"}], \"histogram2dcontour\": [{\"colorbar\": {\"outlinewidth\": 0, \"ticks\": \"\"}, \"colorscale\": [[0.0, \"#0d0887\"], [0.1111111111111111, \"#46039f\"], [0.2222222222222222, \"#7201a8\"], [0.3333333333333333, \"#9c179e\"], [0.4444444444444444, \"#bd3786\"], [0.5555555555555556, \"#d8576b\"], [0.6666666666666666, \"#ed7953\"], [0.7777777777777778, \"#fb9f3a\"], [0.8888888888888888, \"#fdca26\"], [1.0, \"#f0f921\"]], \"type\": \"histogram2dcontour\"}], \"mesh3d\": [{\"colorbar\": {\"outlinewidth\": 0, \"ticks\": \"\"}, \"type\": \"mesh3d\"}], \"parcoords\": [{\"line\": {\"colorbar\": {\"outlinewidth\": 0, \"ticks\": \"\"}}, \"type\": \"parcoords\"}], \"pie\": [{\"automargin\": true, \"type\": \"pie\"}], \"scatter\": [{\"marker\": {\"colorbar\": {\"outlinewidth\": 0, \"ticks\": \"\"}}, \"type\": \"scatter\"}], \"scatter3d\": [{\"line\": {\"colorbar\": {\"outlinewidth\": 0, \"ticks\": \"\"}}, \"marker\": {\"colorbar\": {\"outlinewidth\": 0, \"ticks\": \"\"}}, \"type\": \"scatter3d\"}], \"scattercarpet\": [{\"marker\": {\"colorbar\": {\"outlinewidth\": 0, \"ticks\": \"\"}}, \"type\": \"scattercarpet\"}], \"scattergeo\": [{\"marker\": {\"colorbar\": {\"outlinewidth\": 0, \"ticks\": \"\"}}, \"type\": \"scattergeo\"}], \"scattergl\": [{\"marker\": {\"colorbar\": {\"outlinewidth\": 0, \"ticks\": \"\"}}, \"type\": \"scattergl\"}], \"scattermapbox\": [{\"marker\": {\"colorbar\": {\"outlinewidth\": 0, \"ticks\": \"\"}}, \"type\": \"scattermapbox\"}], \"scatterpolar\": [{\"marker\": {\"colorbar\": {\"outlinewidth\": 0, \"ticks\": \"\"}}, \"type\": \"scatterpolar\"}], \"scatterpolargl\": [{\"marker\": {\"colorbar\": {\"outlinewidth\": 0, \"ticks\": \"\"}}, \"type\": \"scatterpolargl\"}], \"scatterternary\": [{\"marker\": {\"colorbar\": {\"outlinewidth\": 0, \"ticks\": \"\"}}, \"type\": \"scatterternary\"}], \"surface\": [{\"colorbar\": {\"outlinewidth\": 0, \"ticks\": \"\"}, \"colorscale\": [[0.0, \"#0d0887\"], [0.1111111111111111, \"#46039f\"], [0.2222222222222222, \"#7201a8\"], [0.3333333333333333, \"#9c179e\"], [0.4444444444444444, \"#bd3786\"], [0.5555555555555556, \"#d8576b\"], [0.6666666666666666, \"#ed7953\"], [0.7777777777777778, \"#fb9f3a\"], [0.8888888888888888, \"#fdca26\"], [1.0, \"#f0f921\"]], \"type\": \"surface\"}], \"table\": [{\"cells\": {\"fill\": {\"color\": \"#EBF0F8\"}, \"line\": {\"color\": \"white\"}}, \"header\": {\"fill\": {\"color\": \"#C8D4E3\"}, \"line\": {\"color\": \"white\"}}, \"type\": \"table\"}]}, \"layout\": {\"annotationdefaults\": {\"arrowcolor\": \"#2a3f5f\", \"arrowhead\": 0, \"arrowwidth\": 1}, \"coloraxis\": {\"colorbar\": {\"outlinewidth\": 0, \"ticks\": \"\"}}, \"colorscale\": {\"diverging\": [[0, \"#8e0152\"], [0.1, \"#c51b7d\"], [0.2, \"#de77ae\"], [0.3, \"#f1b6da\"], [0.4, \"#fde0ef\"], [0.5, \"#f7f7f7\"], [0.6, \"#e6f5d0\"], [0.7, \"#b8e186\"], [0.8, \"#7fbc41\"], [0.9, \"#4d9221\"], [1, \"#276419\"]], \"sequential\": [[0.0, \"#0d0887\"], [0.1111111111111111, \"#46039f\"], [0.2222222222222222, \"#7201a8\"], [0.3333333333333333, \"#9c179e\"], [0.4444444444444444, \"#bd3786\"], [0.5555555555555556, \"#d8576b\"], [0.6666666666666666, \"#ed7953\"], [0.7777777777777778, \"#fb9f3a\"], [0.8888888888888888, \"#fdca26\"], [1.0, \"#f0f921\"]], \"sequentialminus\": [[0.0, \"#0d0887\"], [0.1111111111111111, \"#46039f\"], [0.2222222222222222, \"#7201a8\"], [0.3333333333333333, \"#9c179e\"], [0.4444444444444444, \"#bd3786\"], [0.5555555555555556, \"#d8576b\"], [0.6666666666666666, \"#ed7953\"], [0.7777777777777778, \"#fb9f3a\"], [0.8888888888888888, \"#fdca26\"], [1.0, \"#f0f921\"]]}, \"colorway\": [\"#636efa\", \"#EF553B\", \"#00cc96\", \"#ab63fa\", \"#FFA15A\", \"#19d3f3\", \"#FF6692\", \"#B6E880\", \"#FF97FF\", \"#FECB52\"], \"font\": {\"color\": \"#2a3f5f\"}, \"geo\": {\"bgcolor\": \"white\", \"lakecolor\": \"white\", \"landcolor\": \"#E5ECF6\", \"showlakes\": true, \"showland\": true, \"subunitcolor\": \"white\"}, \"hoverlabel\": {\"align\": \"left\"}, \"hovermode\": \"closest\", \"mapbox\": {\"style\": \"light\"}, \"paper_bgcolor\": \"white\", \"plot_bgcolor\": \"#E5ECF6\", \"polar\": {\"angularaxis\": {\"gridcolor\": \"white\", \"linecolor\": \"white\", \"ticks\": \"\"}, \"bgcolor\": \"#E5ECF6\", \"radialaxis\": {\"gridcolor\": \"white\", \"linecolor\": \"white\", \"ticks\": \"\"}}, \"scene\": {\"xaxis\": {\"backgroundcolor\": \"#E5ECF6\", \"gridcolor\": \"white\", \"gridwidth\": 2, \"linecolor\": \"white\", \"showbackground\": true, \"ticks\": \"\", \"zerolinecolor\": \"white\"}, \"yaxis\": {\"backgroundcolor\": \"#E5ECF6\", \"gridcolor\": \"white\", \"gridwidth\": 2, \"linecolor\": \"white\", \"showbackground\": true, \"ticks\": \"\", \"zerolinecolor\": \"white\"}, \"zaxis\": {\"backgroundcolor\": \"#E5ECF6\", \"gridcolor\": \"white\", \"gridwidth\": 2, \"linecolor\": \"white\", \"showbackground\": true, \"ticks\": \"\", \"zerolinecolor\": \"white\"}}, \"shapedefaults\": {\"line\": {\"color\": \"#2a3f5f\"}}, \"ternary\": {\"aaxis\": {\"gridcolor\": \"white\", \"linecolor\": \"white\", \"ticks\": \"\"}, \"baxis\": {\"gridcolor\": \"white\", \"linecolor\": \"white\", \"ticks\": \"\"}, \"bgcolor\": \"#E5ECF6\", \"caxis\": {\"gridcolor\": \"white\", \"linecolor\": \"white\", \"ticks\": \"\"}}, \"title\": {\"x\": 0.05}, \"xaxis\": {\"automargin\": true, \"gridcolor\": \"white\", \"linecolor\": \"white\", \"ticks\": \"\", \"title\": {\"standoff\": 15}, \"zerolinecolor\": \"white\", \"zerolinewidth\": 2}, \"yaxis\": {\"automargin\": true, \"gridcolor\": \"white\", \"linecolor\": \"white\", \"ticks\": \"\", \"title\": {\"standoff\": 15}, \"zerolinecolor\": \"white\", \"zerolinewidth\": 2}}}, \"title\": {\"text\": \"37682\"}, \"width\": 1200, \"xaxis\": {\"anchor\": \"y\", \"domain\": [0.0, 1.0]}, \"xaxis2\": {\"anchor\": \"y2\", \"domain\": [0.0, 1.0]}, \"yaxis\": {\"anchor\": \"x\", \"domain\": [0.625, 1.0]}, \"yaxis2\": {\"anchor\": \"x2\", \"domain\": [0.0, 0.375]}},\n",
              "                        {\"responsive\": true}\n",
              "                    ).then(function(){\n",
              "                            \n",
              "var gd = document.getElementById('107db85a-2c51-46e5-ad34-19917b44e91d');\n",
              "var x = new MutationObserver(function (mutations, observer) {{\n",
              "        var display = window.getComputedStyle(gd).display;\n",
              "        if (!display || display === 'none') {{\n",
              "            console.log([gd, 'removed!']);\n",
              "            Plotly.purge(gd);\n",
              "            observer.disconnect();\n",
              "        }}\n",
              "}});\n",
              "\n",
              "// Listen for the removal of the full notebook cells\n",
              "var notebookContainer = gd.closest('#notebook-container');\n",
              "if (notebookContainer) {{\n",
              "    x.observe(notebookContainer, {childList: true});\n",
              "}}\n",
              "\n",
              "// Listen for the clearing of the current output cell\n",
              "var outputEl = gd.closest('.output');\n",
              "if (outputEl) {{\n",
              "    x.observe(outputEl, {childList: true});\n",
              "}}\n",
              "\n",
              "                        })\n",
              "                };\n",
              "                \n",
              "            </script>\n",
              "        </div>\n",
              "</body>\n",
              "</html>"
            ]
          },
          "metadata": {
            "tags": []
          }
        },
        {
          "output_type": "stream",
          "text": [
            "error calculate process performance\n",
            "error calculate process performance\n",
            "error calculate process performance\n",
            "error calculate process performance\n",
            "error calculate process performance\n",
            "error calculate process performance\n",
            "error calculate process performance\n",
            "error calculate process performance\n"
          ],
          "name": "stdout"
        },
        {
          "output_type": "display_data",
          "data": {
            "text/html": [
              "<html>\n",
              "<head><meta charset=\"utf-8\" /></head>\n",
              "<body>\n",
              "    <div>\n",
              "            <script src=\"https://cdnjs.cloudflare.com/ajax/libs/mathjax/2.7.5/MathJax.js?config=TeX-AMS-MML_SVG\"></script><script type=\"text/javascript\">if (window.MathJax) {MathJax.Hub.Config({SVG: {font: \"STIX-Web\"}});}</script>\n",
              "                <script type=\"text/javascript\">window.PlotlyConfig = {MathJaxConfig: 'local'};</script>\n",
              "        <script src=\"https://cdn.plot.ly/plotly-latest.min.js\"></script>    \n",
              "            <div id=\"f3d945dd-edb8-4248-80ca-0d1ca7a35689\" class=\"plotly-graph-div\" style=\"height:1600px; width:1200px;\"></div>\n",
              "            <script type=\"text/javascript\">\n",
              "                \n",
              "                    window.PLOTLYENV=window.PLOTLYENV || {};\n",
              "                    \n",
              "                if (document.getElementById(\"f3d945dd-edb8-4248-80ca-0d1ca7a35689\")) {\n",
              "                    Plotly.newPlot(\n",
              "                        'f3d945dd-edb8-4248-80ca-0d1ca7a35689',\n",
              "                        [{\"line\": {\"color\": \"#4280F5\"}, \"mode\": \"lines+markers\", \"name\": \"mean 30660 \\u0110\\u1ed9 s\\u00e2u foil \", \"type\": \"scatter\", \"x\": [\"2020-08-14T21:00:00\", \"2020-08-15T11:00:00\", \"2020-08-15T19:00:00\", \"2020-08-17T12:00:00\", \"2020-08-17T19:00:00\", \"2020-08-18T13:00:00\", \"2020-08-18T19:00:00\", \"2020-08-19T12:00:00\", \"2020-08-19T19:00:00\", \"2020-08-20T13:00:00\", \"2020-08-20T19:00:00\", \"2020-08-20T20:00:00\", \"2020-08-21T12:00:00\", \"2020-08-21T20:00:00\", \"2020-08-22T13:00:00\", \"2020-08-22T19:00:00\", \"2020-08-24T12:00:00\", \"2020-08-24T21:00:00\", \"2020-08-25T11:00:00\", \"2020-08-25T20:00:00\", \"2020-08-26T12:00:00\", \"2020-08-26T20:00:00\", \"2020-08-27T12:00:00\", \"2020-08-27T20:00:00\", \"2020-08-28T12:00:00\", \"2020-08-28T19:00:00\", \"2020-08-29T11:00:00\", \"2020-08-31T12:00:00\", \"2020-08-31T19:00:00\", \"2020-09-01T12:00:00\", \"2020-09-01T20:00:00\", \"2020-09-03T12:00:00\", \"2020-09-03T19:00:00\", \"2020-09-04T20:00:00\", \"2020-09-05T18:00:00\", \"2020-09-07T12:00:00\", \"2020-09-07T20:00:00\", \"2020-09-08T11:00:00\", \"2020-09-08T20:00:00\"], \"xaxis\": \"x\", \"y\": [0.0742499977350235, 0.07437500357627869, 0.07612500339746475, 0.07449999451637268, 0.07368750125169754, 0.07468750327825546, 0.07524999976158142, 0.07568749785423279, 0.07725000381469727, 0.0768750011920929, 0.07616666704416275, 0.07674999535083771, 0.0728750005364418, 0.0742499977350235, 0.07562500238418579, 0.07450000196695328, 0.07237499952316284, 0.07431250065565109, 0.07487499713897705, 0.07387500256299973, 0.07599999755620956, 0.0742499977350235, 0.07643750309944153, 0.07625000178813934, 0.07495833188295364, 0.07150000333786011, 0.07559999823570251, 0.07512500137090683, 0.07600000500679016, 0.07400000095367432, 0.07609999924898148, 0.07400000095367432, 0.07731249928474426, 0.0755833312869072, 0.07487499713897705, 0.07500000298023224, 0.0754999965429306, 0.0794999971985817, 0.07725000381469727], \"yaxis\": \"y\"}, {\"line\": {\"color\": \"#FF5733\"}, \"mode\": \"lines\", \"name\": \"USL 30660 \\u0110\\u1ed9 s\\u00e2u foil \", \"type\": \"scatter\", \"x\": [\"2020-08-14T21:00:00\", \"2020-08-15T11:00:00\", \"2020-08-15T19:00:00\", \"2020-08-17T12:00:00\", \"2020-08-17T19:00:00\", \"2020-08-18T13:00:00\", \"2020-08-18T19:00:00\", \"2020-08-19T12:00:00\", \"2020-08-19T19:00:00\", \"2020-08-20T13:00:00\", \"2020-08-20T19:00:00\", \"2020-08-20T20:00:00\", \"2020-08-21T12:00:00\", \"2020-08-21T20:00:00\", \"2020-08-22T13:00:00\", \"2020-08-22T19:00:00\", \"2020-08-24T12:00:00\", \"2020-08-24T21:00:00\", \"2020-08-25T11:00:00\", \"2020-08-25T20:00:00\", \"2020-08-26T12:00:00\", \"2020-08-26T20:00:00\", \"2020-08-27T12:00:00\", \"2020-08-27T20:00:00\", \"2020-08-28T12:00:00\", \"2020-08-28T19:00:00\", \"2020-08-29T11:00:00\", \"2020-08-31T12:00:00\", \"2020-08-31T19:00:00\", \"2020-09-01T12:00:00\", \"2020-09-01T20:00:00\", \"2020-09-03T12:00:00\", \"2020-09-03T19:00:00\", \"2020-09-04T20:00:00\", \"2020-09-05T18:00:00\", \"2020-09-07T12:00:00\", \"2020-09-07T20:00:00\", \"2020-09-08T11:00:00\", \"2020-09-08T20:00:00\"], \"xaxis\": \"x\", \"y\": [0.09000000357627869, 0.09000000357627869, 0.09000000357627869, 0.09000000357627869, 0.09000000357627869, 0.09000000357627869, 0.09000000357627869, 0.09000000357627869, 0.09000000357627869, 0.09000000357627869, 0.09000000357627869, 0.09000000357627869, 0.09000000357627869, 0.09000000357627869, 0.09000000357627869, 0.09000000357627869, 0.09000000357627869, 0.09000000357627869, 0.09000000357627869, 0.09000000357627869, 0.09000000357627869, 0.09000000357627869, 0.09000000357627869, 0.09000000357627869, 0.09000000357627869, 0.09000000357627869, 0.09000000357627869, 0.09000000357627869, 0.09000000357627869, 0.09000000357627869, 0.09000000357627869, 0.09000000357627869, 0.09000000357627869, 0.09000000357627869, 0.09000000357627869, 0.09000000357627869, 0.09000000357627869, 0.09000000357627869, 0.09000000357627869], \"yaxis\": \"y\"}, {\"line\": {\"color\": \"#FF5733\"}, \"mode\": \"lines\", \"name\": \"LSL 30660 \\u0110\\u1ed9 s\\u00e2u foil \", \"type\": \"scatter\", \"x\": [\"2020-08-14T21:00:00\", \"2020-08-15T11:00:00\", \"2020-08-15T19:00:00\", \"2020-08-17T12:00:00\", \"2020-08-17T19:00:00\", \"2020-08-18T13:00:00\", \"2020-08-18T19:00:00\", \"2020-08-19T12:00:00\", \"2020-08-19T19:00:00\", \"2020-08-20T13:00:00\", \"2020-08-20T19:00:00\", \"2020-08-20T20:00:00\", \"2020-08-21T12:00:00\", \"2020-08-21T20:00:00\", \"2020-08-22T13:00:00\", \"2020-08-22T19:00:00\", \"2020-08-24T12:00:00\", \"2020-08-24T21:00:00\", \"2020-08-25T11:00:00\", \"2020-08-25T20:00:00\", \"2020-08-26T12:00:00\", \"2020-08-26T20:00:00\", \"2020-08-27T12:00:00\", \"2020-08-27T20:00:00\", \"2020-08-28T12:00:00\", \"2020-08-28T19:00:00\", \"2020-08-29T11:00:00\", \"2020-08-31T12:00:00\", \"2020-08-31T19:00:00\", \"2020-09-01T12:00:00\", \"2020-09-01T20:00:00\", \"2020-09-03T12:00:00\", \"2020-09-03T19:00:00\", \"2020-09-04T20:00:00\", \"2020-09-05T18:00:00\", \"2020-09-07T12:00:00\", \"2020-09-07T20:00:00\", \"2020-09-08T11:00:00\", \"2020-09-08T20:00:00\"], \"xaxis\": \"x\", \"y\": [0.07000000029802322, 0.07000000029802322, 0.07000000029802322, 0.07000000029802322, 0.07000000029802322, 0.07000000029802322, 0.07000000029802322, 0.07000000029802322, 0.07000000029802322, 0.07000000029802322, 0.07000000029802322, 0.07000000029802322, 0.07000000029802322, 0.07000000029802322, 0.07000000029802322, 0.07000000029802322, 0.07000000029802322, 0.07000000029802322, 0.07000000029802322, 0.07000000029802322, 0.07000000029802322, 0.07000000029802322, 0.07000000029802322, 0.07000000029802322, 0.07000000029802322, 0.07000000029802322, 0.07000000029802322, 0.07000000029802322, 0.07000000029802322, 0.07000000029802322, 0.07000000029802322, 0.07000000029802322, 0.07000000029802322, 0.07000000029802322, 0.07000000029802322, 0.07000000029802322, 0.07000000029802322, 0.07000000029802322, 0.07000000029802322], \"yaxis\": \"y\"}, {\"line\": {\"color\": \"#33C2FF\"}, \"mode\": \"lines\", \"name\": \"UCL 30660 \\u0110\\u1ed9 s\\u00e2u foil \", \"type\": \"scatter\", \"x\": [\"2020-08-14T21:00:00\", \"2020-08-15T11:00:00\", \"2020-08-15T19:00:00\", \"2020-08-17T12:00:00\", \"2020-08-17T19:00:00\", \"2020-08-18T13:00:00\", \"2020-08-18T19:00:00\", \"2020-08-19T12:00:00\", \"2020-08-19T19:00:00\", \"2020-08-20T13:00:00\", \"2020-08-20T19:00:00\", \"2020-08-20T20:00:00\", \"2020-08-21T12:00:00\", \"2020-08-21T20:00:00\", \"2020-08-22T13:00:00\", \"2020-08-22T19:00:00\", \"2020-08-24T12:00:00\", \"2020-08-24T21:00:00\", \"2020-08-25T11:00:00\", \"2020-08-25T20:00:00\", \"2020-08-26T12:00:00\", \"2020-08-26T20:00:00\", \"2020-08-27T12:00:00\", \"2020-08-27T20:00:00\", \"2020-08-28T12:00:00\", \"2020-08-28T19:00:00\", \"2020-08-29T11:00:00\", \"2020-08-31T12:00:00\", \"2020-08-31T19:00:00\", \"2020-09-01T12:00:00\", \"2020-09-01T20:00:00\", \"2020-09-03T12:00:00\", \"2020-09-03T19:00:00\", \"2020-09-04T20:00:00\", \"2020-09-05T18:00:00\", \"2020-09-07T12:00:00\", \"2020-09-07T20:00:00\", \"2020-09-08T11:00:00\", \"2020-09-08T20:00:00\"], \"xaxis\": \"x\", \"y\": [0.08399999886751175, 0.08399999886751175, 0.08399999886751175, 0.08399999886751175, 0.08399999886751175, 0.08399999886751175, 0.08399999886751175, 0.08399999886751175, 0.08399999886751175, 0.08399999886751175, 0.08399999886751175, 0.08399999886751175, 0.08399999886751175, 0.08299999684095383, 0.08299999684095383, 0.08299999684095383, 0.08299999684095383, 0.08299999684095383, 0.08299999684095383, 0.08299999684095383, 0.08299999684095383, 0.08299999684095383, 0.08299999684095383, 0.08299999684095383, 0.08299999684095383, 0.08500000089406967, 0.08500000089406967, 0.08500000089406967, 0.08500000089406967, 0.08500000089406967, 0.08500000089406967, 0.08500000089406967, 0.08500000089406967, 0.08500000089406967, 0.08500000089406967, 0.08500000089406967, 0.08500000089406967, 0.08500000089406967, 0.08500000089406967], \"yaxis\": \"y\"}, {\"line\": {\"color\": \"#33C2FF\"}, \"mode\": \"lines\", \"name\": \"LCL 30660 \\u0110\\u1ed9 s\\u00e2u foil \", \"type\": \"scatter\", \"x\": [\"2020-08-14T21:00:00\", \"2020-08-15T11:00:00\", \"2020-08-15T19:00:00\", \"2020-08-17T12:00:00\", \"2020-08-17T19:00:00\", \"2020-08-18T13:00:00\", \"2020-08-18T19:00:00\", \"2020-08-19T12:00:00\", \"2020-08-19T19:00:00\", \"2020-08-20T13:00:00\", \"2020-08-20T19:00:00\", \"2020-08-20T20:00:00\", \"2020-08-21T12:00:00\", \"2020-08-21T20:00:00\", \"2020-08-22T13:00:00\", \"2020-08-22T19:00:00\", \"2020-08-24T12:00:00\", \"2020-08-24T21:00:00\", \"2020-08-25T11:00:00\", \"2020-08-25T20:00:00\", \"2020-08-26T12:00:00\", \"2020-08-26T20:00:00\", \"2020-08-27T12:00:00\", \"2020-08-27T20:00:00\", \"2020-08-28T12:00:00\", \"2020-08-28T19:00:00\", \"2020-08-29T11:00:00\", \"2020-08-31T12:00:00\", \"2020-08-31T19:00:00\", \"2020-09-01T12:00:00\", \"2020-09-01T20:00:00\", \"2020-09-03T12:00:00\", \"2020-09-03T19:00:00\", \"2020-09-04T20:00:00\", \"2020-09-05T18:00:00\", \"2020-09-07T12:00:00\", \"2020-09-07T20:00:00\", \"2020-09-08T11:00:00\", \"2020-09-08T20:00:00\"], \"xaxis\": \"x\", \"y\": [0.06599999964237213, 0.06599999964237213, 0.06599999964237213, 0.06599999964237213, 0.06599999964237213, 0.06599999964237213, 0.06599999964237213, 0.06599999964237213, 0.06599999964237213, 0.06599999964237213, 0.06599999964237213, 0.06599999964237213, 0.06599999964237213, 0.06700000166893005, 0.06700000166893005, 0.06700000166893005, 0.06700000166893005, 0.06700000166893005, 0.06700000166893005, 0.06700000166893005, 0.06700000166893005, 0.06700000166893005, 0.06700000166893005, 0.06700000166893005, 0.06700000166893005, 0.06599999964237213, 0.06599999964237213, 0.06599999964237213, 0.06599999964237213, 0.06599999964237213, 0.06599999964237213, 0.06599999964237213, 0.06599999964237213, 0.06599999964237213, 0.06599999964237213, 0.06599999964237213, 0.06599999964237213, 0.06599999964237213, 0.06599999964237213], \"yaxis\": \"y\"}, {\"line\": {\"color\": \"#33C2FF\"}, \"mode\": \"lines\", \"name\": \"Mean 30660 \\u0110\\u1ed9 s\\u00e2u foil \", \"type\": \"scatter\", \"x\": [\"2020-08-14T21:00:00\", \"2020-08-15T11:00:00\", \"2020-08-15T19:00:00\", \"2020-08-17T12:00:00\", \"2020-08-17T19:00:00\", \"2020-08-18T13:00:00\", \"2020-08-18T19:00:00\", \"2020-08-19T12:00:00\", \"2020-08-19T19:00:00\", \"2020-08-20T13:00:00\", \"2020-08-20T19:00:00\", \"2020-08-20T20:00:00\", \"2020-08-21T12:00:00\", \"2020-08-21T20:00:00\", \"2020-08-22T13:00:00\", \"2020-08-22T19:00:00\", \"2020-08-24T12:00:00\", \"2020-08-24T21:00:00\", \"2020-08-25T11:00:00\", \"2020-08-25T20:00:00\", \"2020-08-26T12:00:00\", \"2020-08-26T20:00:00\", \"2020-08-27T12:00:00\", \"2020-08-27T20:00:00\", \"2020-08-28T12:00:00\", \"2020-08-28T19:00:00\", \"2020-08-29T11:00:00\", \"2020-08-31T12:00:00\", \"2020-08-31T19:00:00\", \"2020-09-01T12:00:00\", \"2020-09-01T20:00:00\", \"2020-09-03T12:00:00\", \"2020-09-03T19:00:00\", \"2020-09-04T20:00:00\", \"2020-09-05T18:00:00\", \"2020-09-07T12:00:00\", \"2020-09-07T20:00:00\", \"2020-09-08T11:00:00\", \"2020-09-08T20:00:00\"], \"xaxis\": \"x\", \"y\": [0.07500000298023224, 0.07500000298023224, 0.07500000298023224, 0.07500000298023224, 0.07500000298023224, 0.07500000298023224, 0.07500000298023224, 0.07500000298023224, 0.07500000298023224, 0.07500000298023224, 0.07500000298023224, 0.07500000298023224, 0.07500000298023224, 0.07500000298023224, 0.07500000298023224, 0.07500000298023224, 0.07500000298023224, 0.07500000298023224, 0.07500000298023224, 0.07500000298023224, 0.07500000298023224, 0.07500000298023224, 0.07500000298023224, 0.07500000298023224, 0.07500000298023224, 0.07500000298023224, 0.07500000298023224, 0.07500000298023224, 0.07500000298023224, 0.07500000298023224, 0.07500000298023224, 0.07500000298023224, 0.07500000298023224, 0.07599999755620956, 0.07599999755620956, 0.07599999755620956, 0.07599999755620956, 0.07599999755620956, 0.07599999755620956], \"yaxis\": \"y\"}, {\"line\": {\"color\": \"#4280F5\"}, \"mode\": \"lines+markers\", \"name\": \"mean 30660 Offset Dim M\", \"type\": \"scatter\", \"x\": [\"2020-08-14T21:00:00\", \"2020-08-15T11:00:00\", \"2020-08-15T19:00:00\", \"2020-08-17T12:00:00\", \"2020-08-17T19:00:00\", \"2020-08-18T13:00:00\", \"2020-08-18T19:00:00\", \"2020-08-19T12:00:00\", \"2020-08-19T19:00:00\", \"2020-08-20T13:00:00\", \"2020-08-20T19:00:00\", \"2020-08-20T20:00:00\", \"2020-08-21T12:00:00\", \"2020-08-21T20:00:00\", \"2020-08-22T13:00:00\", \"2020-08-22T19:00:00\", \"2020-08-24T12:00:00\", \"2020-08-24T21:00:00\", \"2020-08-25T11:00:00\", \"2020-08-25T20:00:00\", \"2020-08-26T12:00:00\", \"2020-08-26T20:00:00\", \"2020-08-27T12:00:00\", \"2020-08-27T20:00:00\", \"2020-08-28T12:00:00\", \"2020-08-28T19:00:00\", \"2020-08-29T11:00:00\", \"2020-08-31T12:00:00\", \"2020-08-31T19:00:00\", \"2020-09-01T12:00:00\", \"2020-09-01T20:00:00\", \"2020-09-03T12:00:00\", \"2020-09-03T19:00:00\", \"2020-09-04T20:00:00\", \"2020-09-05T18:00:00\", \"2020-09-07T12:00:00\", \"2020-09-07T20:00:00\", \"2020-09-08T11:00:00\", \"2020-09-08T20:00:00\"], \"xaxis\": \"x2\", \"y\": [0.01912499964237213, 0.01887499913573265, 0.010999999940395355, 0.016625000163912773, 0.013875000178813934, 0.018437501043081284, 0.01981250010430813, 0.014812500216066837, 0.016750000417232513, 0.01587500050663948, 0.012583333067595959, 0.009999999776482582, 0.013500000350177288, 0.016499999910593033, 0.0215000007301569, 0.01745833270251751, 0.019500000402331352, 0.026249999180436134, 0.01718750037252903, 0.013749999925494194, 0.018124999478459358, 0.01862500049173832, 0.0182499997317791, 0.017249999567866325, 0.021958332508802414, 0.014624999836087227, 0.019700000062584877, 0.0182499997317791, 0.013125000521540642, 0.014624999836087227, 0.01730000041425228, 0.01924999989569187, 0.013125000521540642, 0.016958333551883698, 0.016187500208616257, 0.013875000178813934, 0.019999999552965164, 0.01587500050663948, 0.01862500049173832], \"yaxis\": \"y2\"}, {\"line\": {\"color\": \"#FF5733\"}, \"mode\": \"lines\", \"name\": \"USL 30660 Offset Dim M\", \"type\": \"scatter\", \"x\": [\"2020-08-14T21:00:00\", \"2020-08-15T11:00:00\", \"2020-08-15T19:00:00\", \"2020-08-17T12:00:00\", \"2020-08-17T19:00:00\", \"2020-08-18T13:00:00\", \"2020-08-18T19:00:00\", \"2020-08-19T12:00:00\", \"2020-08-19T19:00:00\", \"2020-08-20T13:00:00\", \"2020-08-20T19:00:00\", \"2020-08-20T20:00:00\", \"2020-08-21T12:00:00\", \"2020-08-21T20:00:00\", \"2020-08-22T13:00:00\", \"2020-08-22T19:00:00\", \"2020-08-24T12:00:00\", \"2020-08-24T21:00:00\", \"2020-08-25T11:00:00\", \"2020-08-25T20:00:00\", \"2020-08-26T12:00:00\", \"2020-08-26T20:00:00\", \"2020-08-27T12:00:00\", \"2020-08-27T20:00:00\", \"2020-08-28T12:00:00\", \"2020-08-28T19:00:00\", \"2020-08-29T11:00:00\", \"2020-08-31T12:00:00\", \"2020-08-31T19:00:00\", \"2020-09-01T12:00:00\", \"2020-09-01T20:00:00\", \"2020-09-03T12:00:00\", \"2020-09-03T19:00:00\", \"2020-09-04T20:00:00\", \"2020-09-05T18:00:00\", \"2020-09-07T12:00:00\", \"2020-09-07T20:00:00\", \"2020-09-08T11:00:00\", \"2020-09-08T20:00:00\"], \"xaxis\": \"x2\", \"y\": [0.05000000074505806, 0.05000000074505806, 0.05000000074505806, 0.05000000074505806, 0.05000000074505806, 0.05000000074505806, 0.05000000074505806, 0.05000000074505806, 0.05000000074505806, 0.05000000074505806, 0.05000000074505806, 0.05000000074505806, 0.05000000074505806, 0.05000000074505806, 0.05000000074505806, 0.05000000074505806, 0.05000000074505806, 0.05000000074505806, 0.05000000074505806, 0.05000000074505806, 0.05000000074505806, 0.05000000074505806, 0.05000000074505806, 0.05000000074505806, 0.05000000074505806, 0.05000000074505806, 0.05000000074505806, 0.05000000074505806, 0.05000000074505806, 0.05000000074505806, 0.05000000074505806, 0.05000000074505806, 0.05000000074505806, 0.05000000074505806, 0.05000000074505806, 0.05000000074505806, 0.05000000074505806, 0.05000000074505806, 0.05000000074505806], \"yaxis\": \"y2\"}, {\"line\": {\"color\": \"#FF5733\"}, \"mode\": \"lines\", \"name\": \"LSL 30660 Offset Dim M\", \"type\": \"scatter\", \"x\": [\"2020-08-14T21:00:00\", \"2020-08-15T11:00:00\", \"2020-08-15T19:00:00\", \"2020-08-17T12:00:00\", \"2020-08-17T19:00:00\", \"2020-08-18T13:00:00\", \"2020-08-18T19:00:00\", \"2020-08-19T12:00:00\", \"2020-08-19T19:00:00\", \"2020-08-20T13:00:00\", \"2020-08-20T19:00:00\", \"2020-08-20T20:00:00\", \"2020-08-21T12:00:00\", \"2020-08-21T20:00:00\", \"2020-08-22T13:00:00\", \"2020-08-22T19:00:00\", \"2020-08-24T12:00:00\", \"2020-08-24T21:00:00\", \"2020-08-25T11:00:00\", \"2020-08-25T20:00:00\", \"2020-08-26T12:00:00\", \"2020-08-26T20:00:00\", \"2020-08-27T12:00:00\", \"2020-08-27T20:00:00\", \"2020-08-28T12:00:00\", \"2020-08-28T19:00:00\", \"2020-08-29T11:00:00\", \"2020-08-31T12:00:00\", \"2020-08-31T19:00:00\", \"2020-09-01T12:00:00\", \"2020-09-01T20:00:00\", \"2020-09-03T12:00:00\", \"2020-09-03T19:00:00\", \"2020-09-04T20:00:00\", \"2020-09-05T18:00:00\", \"2020-09-07T12:00:00\", \"2020-09-07T20:00:00\", \"2020-09-08T11:00:00\", \"2020-09-08T20:00:00\"], \"xaxis\": \"x2\", \"y\": [-0.029999999329447746, -0.029999999329447746, -0.029999999329447746, -0.029999999329447746, -0.029999999329447746, -0.029999999329447746, -0.029999999329447746, -0.029999999329447746, -0.029999999329447746, -0.029999999329447746, -0.029999999329447746, -0.029999999329447746, -0.029999999329447746, -0.029999999329447746, -0.029999999329447746, -0.029999999329447746, -0.029999999329447746, -0.029999999329447746, -0.029999999329447746, -0.029999999329447746, -0.029999999329447746, -0.029999999329447746, -0.029999999329447746, -0.029999999329447746, -0.029999999329447746, -0.029999999329447746, -0.029999999329447746, -0.029999999329447746, -0.029999999329447746, -0.029999999329447746, -0.029999999329447746, -0.029999999329447746, -0.029999999329447746, -0.029999999329447746, -0.029999999329447746, -0.029999999329447746, -0.029999999329447746, -0.029999999329447746, -0.029999999329447746], \"yaxis\": \"y2\"}, {\"line\": {\"color\": \"#33C2FF\"}, \"mode\": \"lines\", \"name\": \"UCL 30660 Offset Dim M\", \"type\": \"scatter\", \"x\": [\"2020-08-14T21:00:00\", \"2020-08-15T11:00:00\", \"2020-08-15T19:00:00\", \"2020-08-17T12:00:00\", \"2020-08-17T19:00:00\", \"2020-08-18T13:00:00\", \"2020-08-18T19:00:00\", \"2020-08-19T12:00:00\", \"2020-08-19T19:00:00\", \"2020-08-20T13:00:00\", \"2020-08-20T19:00:00\", \"2020-08-20T20:00:00\", \"2020-08-21T12:00:00\", \"2020-08-21T20:00:00\", \"2020-08-22T13:00:00\", \"2020-08-22T19:00:00\", \"2020-08-24T12:00:00\", \"2020-08-24T21:00:00\", \"2020-08-25T11:00:00\", \"2020-08-25T20:00:00\", \"2020-08-26T12:00:00\", \"2020-08-26T20:00:00\", \"2020-08-27T12:00:00\", \"2020-08-27T20:00:00\", \"2020-08-28T12:00:00\", \"2020-08-28T19:00:00\", \"2020-08-29T11:00:00\", \"2020-08-31T12:00:00\", \"2020-08-31T19:00:00\", \"2020-09-01T12:00:00\", \"2020-09-01T20:00:00\", \"2020-09-03T12:00:00\", \"2020-09-03T19:00:00\", \"2020-09-04T20:00:00\", \"2020-09-05T18:00:00\", \"2020-09-07T12:00:00\", \"2020-09-07T20:00:00\", \"2020-09-08T11:00:00\", \"2020-09-08T20:00:00\"], \"xaxis\": \"x2\", \"y\": [0.03999999910593033, 0.03999999910593033, 0.03999999910593033, 0.03999999910593033, 0.03999999910593033, 0.03999999910593033, 0.03999999910593033, 0.03999999910593033, 0.03999999910593033, 0.03999999910593033, 0.03999999910593033, 0.03999999910593033, 0.03999999910593033, 0.04500000178813934, 0.04500000178813934, 0.04500000178813934, 0.04500000178813934, 0.04500000178813934, 0.04500000178813934, 0.04500000178813934, 0.04500000178813934, 0.04500000178813934, 0.04500000178813934, 0.04500000178813934, 0.04500000178813934, 0.04600000008940697, 0.04600000008940697, 0.04600000008940697, 0.04600000008940697, 0.04600000008940697, 0.04600000008940697, 0.04600000008940697, 0.04600000008940697, 0.041999999433755875, 0.041999999433755875, 0.041999999433755875, 0.041999999433755875, 0.041999999433755875, 0.041999999433755875], \"yaxis\": \"y2\"}, {\"line\": {\"color\": \"#33C2FF\"}, \"mode\": \"lines\", \"name\": \"LCL 30660 Offset Dim M\", \"type\": \"scatter\", \"x\": [\"2020-08-14T21:00:00\", \"2020-08-15T11:00:00\", \"2020-08-15T19:00:00\", \"2020-08-17T12:00:00\", \"2020-08-17T19:00:00\", \"2020-08-18T13:00:00\", \"2020-08-18T19:00:00\", \"2020-08-19T12:00:00\", \"2020-08-19T19:00:00\", \"2020-08-20T13:00:00\", \"2020-08-20T19:00:00\", \"2020-08-20T20:00:00\", \"2020-08-21T12:00:00\", \"2020-08-21T20:00:00\", \"2020-08-22T13:00:00\", \"2020-08-22T19:00:00\", \"2020-08-24T12:00:00\", \"2020-08-24T21:00:00\", \"2020-08-25T11:00:00\", \"2020-08-25T20:00:00\", \"2020-08-26T12:00:00\", \"2020-08-26T20:00:00\", \"2020-08-27T12:00:00\", \"2020-08-27T20:00:00\", \"2020-08-28T12:00:00\", \"2020-08-28T19:00:00\", \"2020-08-29T11:00:00\", \"2020-08-31T12:00:00\", \"2020-08-31T19:00:00\", \"2020-09-01T12:00:00\", \"2020-09-01T20:00:00\", \"2020-09-03T12:00:00\", \"2020-09-03T19:00:00\", \"2020-09-04T20:00:00\", \"2020-09-05T18:00:00\", \"2020-09-07T12:00:00\", \"2020-09-07T20:00:00\", \"2020-09-08T11:00:00\", \"2020-09-08T20:00:00\"], \"xaxis\": \"x2\", \"y\": [-0.00800000037997961, -0.00800000037997961, -0.00800000037997961, -0.00800000037997961, -0.00800000037997961, -0.00800000037997961, -0.00800000037997961, -0.00800000037997961, -0.00800000037997961, -0.00800000037997961, -0.00800000037997961, -0.00800000037997961, -0.00800000037997961, -0.007000000216066837, -0.007000000216066837, -0.007000000216066837, -0.007000000216066837, -0.007000000216066837, -0.007000000216066837, -0.007000000216066837, -0.007000000216066837, -0.007000000216066837, -0.007000000216066837, -0.007000000216066837, -0.007000000216066837, -0.012000000104308128, -0.012000000104308128, -0.012000000104308128, -0.012000000104308128, -0.012000000104308128, -0.012000000104308128, -0.012000000104308128, -0.012000000104308128, -0.00800000037997961, -0.00800000037997961, -0.00800000037997961, -0.00800000037997961, -0.00800000037997961, -0.00800000037997961], \"yaxis\": \"y2\"}, {\"line\": {\"color\": \"#33C2FF\"}, \"mode\": \"lines\", \"name\": \"Mean 30660 Offset Dim M\", \"type\": \"scatter\", \"x\": [\"2020-08-14T21:00:00\", \"2020-08-15T11:00:00\", \"2020-08-15T19:00:00\", \"2020-08-17T12:00:00\", \"2020-08-17T19:00:00\", \"2020-08-18T13:00:00\", \"2020-08-18T19:00:00\", \"2020-08-19T12:00:00\", \"2020-08-19T19:00:00\", \"2020-08-20T13:00:00\", \"2020-08-20T19:00:00\", \"2020-08-20T20:00:00\", \"2020-08-21T12:00:00\", \"2020-08-21T20:00:00\", \"2020-08-22T13:00:00\", \"2020-08-22T19:00:00\", \"2020-08-24T12:00:00\", \"2020-08-24T21:00:00\", \"2020-08-25T11:00:00\", \"2020-08-25T20:00:00\", \"2020-08-26T12:00:00\", \"2020-08-26T20:00:00\", \"2020-08-27T12:00:00\", \"2020-08-27T20:00:00\", \"2020-08-28T12:00:00\", \"2020-08-28T19:00:00\", \"2020-08-29T11:00:00\", \"2020-08-31T12:00:00\", \"2020-08-31T19:00:00\", \"2020-09-01T12:00:00\", \"2020-09-01T20:00:00\", \"2020-09-03T12:00:00\", \"2020-09-03T19:00:00\", \"2020-09-04T20:00:00\", \"2020-09-05T18:00:00\", \"2020-09-07T12:00:00\", \"2020-09-07T20:00:00\", \"2020-09-08T11:00:00\", \"2020-09-08T20:00:00\"], \"xaxis\": \"x2\", \"y\": [0.01600000075995922, 0.01600000075995922, 0.01600000075995922, 0.01600000075995922, 0.01600000075995922, 0.01600000075995922, 0.01600000075995922, 0.01600000075995922, 0.01600000075995922, 0.01600000075995922, 0.01600000075995922, 0.01600000075995922, 0.01600000075995922, 0.01899999938905239, 0.01899999938905239, 0.01899999938905239, 0.01899999938905239, 0.01899999938905239, 0.01899999938905239, 0.01899999938905239, 0.01899999938905239, 0.01899999938905239, 0.01899999938905239, 0.01899999938905239, 0.01899999938905239, 0.017000000923871994, 0.017000000923871994, 0.017000000923871994, 0.017000000923871994, 0.017000000923871994, 0.017000000923871994, 0.017000000923871994, 0.017000000923871994, 0.017000000923871994, 0.017000000923871994, 0.017000000923871994, 0.017000000923871994, 0.017000000923871994, 0.017000000923871994], \"yaxis\": \"y2\"}, {\"line\": {\"color\": \"#4280F5\"}, \"mode\": \"lines+markers\", \"name\": \"mean 37660 _3500T \\u0110\\u1ed9 s\\u00e2u foil \", \"type\": \"scatter\", \"x\": [\"2020-08-14T21:00:00\", \"2020-08-15T11:00:00\", \"2020-08-15T19:00:00\", \"2020-08-17T12:00:00\", \"2020-08-17T20:00:00\", \"2020-08-18T13:00:00\", \"2020-08-18T20:00:00\", \"2020-08-19T11:00:00\", \"2020-08-19T12:00:00\", \"2020-08-19T19:00:00\", \"2020-08-20T12:00:00\", \"2020-08-20T20:00:00\", \"2020-08-21T12:00:00\", \"2020-08-21T20:00:00\", \"2020-08-22T13:00:00\", \"2020-08-22T20:00:00\", \"2020-08-24T12:00:00\", \"2020-08-24T21:00:00\", \"2020-08-25T11:00:00\", \"2020-08-25T20:00:00\", \"2020-08-26T12:00:00\", \"2020-08-26T20:00:00\", \"2020-08-27T12:00:00\", \"2020-08-27T20:00:00\", \"2020-08-28T12:00:00\", \"2020-08-28T19:00:00\", \"2020-08-29T12:00:00\", \"2020-08-29T19:00:00\", \"2020-08-31T12:00:00\", \"2020-08-31T19:00:00\", \"2020-09-01T12:00:00\", \"2020-09-01T20:00:00\", \"2020-09-03T11:00:00\", \"2020-09-03T12:00:00\", \"2020-09-03T19:00:00\", \"2020-09-04T11:00:00\", \"2020-09-04T20:00:00\", \"2020-09-05T12:00:00\", \"2020-09-05T18:00:00\", \"2020-09-07T12:00:00\", \"2020-09-07T20:00:00\", \"2020-09-08T12:00:00\", \"2020-09-08T20:00:00\"], \"xaxis\": \"x3\", \"y\": [0.09750000387430191, 0.09737499803304672, 0.09612499922513962, 0.09437499940395355, 0.09775000065565109, 0.09687499701976776, 0.0963125005364418, 0.09416666626930237, 0.09524999558925629, 0.09787499904632568, 0.09468749910593033, 0.09543749690055847, 0.0924166664481163, 0.09558333456516266, 0.09375, 0.09293749928474426, 0.09687499701976776, 0.09287500381469727, 0.1003125011920929, 0.09700000286102295, 0.09624999761581421, 0.09274999797344208, 0.0963750034570694, 0.09487500041723251, 0.09750000387430191, 0.09312500059604645, 0.09581249952316284, 0.09425000101327896, 0.0951249971985817, 0.0925000011920929, 0.09187500178813934, 0.09281250089406967, 0.09200000017881393, 0.0925000011920929, 0.09549999982118607, 0.09099999815225601, 0.09712500125169754, 0.09324999898672104, 0.09674999862909317, 0.09843750298023224, 0.09387499839067459, 0.09674999862909317, 0.09362500160932541], \"yaxis\": \"y3\"}, {\"line\": {\"color\": \"#FF5733\"}, \"mode\": \"lines\", \"name\": \"USL 37660 _3500T \\u0110\\u1ed9 s\\u00e2u foil \", \"type\": \"scatter\", \"x\": [\"2020-08-14T21:00:00\", \"2020-08-15T11:00:00\", \"2020-08-15T19:00:00\", \"2020-08-17T12:00:00\", \"2020-08-17T20:00:00\", \"2020-08-18T13:00:00\", \"2020-08-18T20:00:00\", \"2020-08-19T11:00:00\", \"2020-08-19T12:00:00\", \"2020-08-19T19:00:00\", \"2020-08-20T12:00:00\", \"2020-08-20T20:00:00\", \"2020-08-21T12:00:00\", \"2020-08-21T20:00:00\", \"2020-08-22T13:00:00\", \"2020-08-22T20:00:00\", \"2020-08-24T12:00:00\", \"2020-08-24T21:00:00\", \"2020-08-25T11:00:00\", \"2020-08-25T20:00:00\", \"2020-08-26T12:00:00\", \"2020-08-26T20:00:00\", \"2020-08-27T12:00:00\", \"2020-08-27T20:00:00\", \"2020-08-28T12:00:00\", \"2020-08-28T19:00:00\", \"2020-08-29T12:00:00\", \"2020-08-29T19:00:00\", \"2020-08-31T12:00:00\", \"2020-08-31T19:00:00\", \"2020-09-01T12:00:00\", \"2020-09-01T20:00:00\", \"2020-09-03T11:00:00\", \"2020-09-03T12:00:00\", \"2020-09-03T19:00:00\", \"2020-09-04T11:00:00\", \"2020-09-04T20:00:00\", \"2020-09-05T12:00:00\", \"2020-09-05T18:00:00\", \"2020-09-07T12:00:00\", \"2020-09-07T20:00:00\", \"2020-09-08T12:00:00\", \"2020-09-08T20:00:00\"], \"xaxis\": \"x3\", \"y\": [0.10999999940395355, 0.10999999940395355, 0.10999999940395355, 0.10999999940395355, 0.10999999940395355, 0.10999999940395355, 0.10999999940395355, 0.10999999940395355, 0.10999999940395355, 0.10999999940395355, 0.10999999940395355, 0.10999999940395355, 0.10999999940395355, 0.10999999940395355, 0.10999999940395355, 0.10999999940395355, 0.10999999940395355, 0.10999999940395355, 0.10999999940395355, 0.10999999940395355, 0.10999999940395355, 0.10999999940395355, 0.10999999940395355, 0.10999999940395355, 0.10999999940395355, 0.10999999940395355, 0.10999999940395355, 0.10999999940395355, 0.10999999940395355, 0.10999999940395355, 0.10999999940395355, 0.10999999940395355, 0.10999999940395355, 0.10999999940395355, 0.10999999940395355, 0.10999999940395355, 0.10999999940395355, 0.10999999940395355, 0.10999999940395355, 0.10999999940395355, 0.10999999940395355, 0.10999999940395355, 0.10999999940395355], \"yaxis\": \"y3\"}, {\"line\": {\"color\": \"#FF5733\"}, \"mode\": \"lines\", \"name\": \"LSL 37660 _3500T \\u0110\\u1ed9 s\\u00e2u foil \", \"type\": \"scatter\", \"x\": [\"2020-08-14T21:00:00\", \"2020-08-15T11:00:00\", \"2020-08-15T19:00:00\", \"2020-08-17T12:00:00\", \"2020-08-17T20:00:00\", \"2020-08-18T13:00:00\", \"2020-08-18T20:00:00\", \"2020-08-19T11:00:00\", \"2020-08-19T12:00:00\", \"2020-08-19T19:00:00\", \"2020-08-20T12:00:00\", \"2020-08-20T20:00:00\", \"2020-08-21T12:00:00\", \"2020-08-21T20:00:00\", \"2020-08-22T13:00:00\", \"2020-08-22T20:00:00\", \"2020-08-24T12:00:00\", \"2020-08-24T21:00:00\", \"2020-08-25T11:00:00\", \"2020-08-25T20:00:00\", \"2020-08-26T12:00:00\", \"2020-08-26T20:00:00\", \"2020-08-27T12:00:00\", \"2020-08-27T20:00:00\", \"2020-08-28T12:00:00\", \"2020-08-28T19:00:00\", \"2020-08-29T12:00:00\", \"2020-08-29T19:00:00\", \"2020-08-31T12:00:00\", \"2020-08-31T19:00:00\", \"2020-09-01T12:00:00\", \"2020-09-01T20:00:00\", \"2020-09-03T11:00:00\", \"2020-09-03T12:00:00\", \"2020-09-03T19:00:00\", \"2020-09-04T11:00:00\", \"2020-09-04T20:00:00\", \"2020-09-05T12:00:00\", \"2020-09-05T18:00:00\", \"2020-09-07T12:00:00\", \"2020-09-07T20:00:00\", \"2020-09-08T12:00:00\", \"2020-09-08T20:00:00\"], \"xaxis\": \"x3\", \"y\": [0.09000000357627869, 0.09000000357627869, 0.09000000357627869, 0.09000000357627869, 0.09000000357627869, 0.09000000357627869, 0.09000000357627869, 0.09000000357627869, 0.09000000357627869, 0.09000000357627869, 0.09000000357627869, 0.09000000357627869, 0.09000000357627869, 0.09000000357627869, 0.09000000357627869, 0.09000000357627869, 0.09000000357627869, 0.09000000357627869, 0.09000000357627869, 0.09000000357627869, 0.09000000357627869, 0.09000000357627869, 0.09000000357627869, 0.09000000357627869, 0.09000000357627869, 0.09000000357627869, 0.09000000357627869, 0.09000000357627869, 0.09000000357627869, 0.09000000357627869, 0.09000000357627869, 0.09000000357627869, 0.09000000357627869, 0.09000000357627869, 0.09000000357627869, 0.09000000357627869, 0.09000000357627869, 0.09000000357627869, 0.09000000357627869, 0.09000000357627869, 0.09000000357627869, 0.09000000357627869, 0.09000000357627869], \"yaxis\": \"y3\"}, {\"line\": {\"color\": \"#33C2FF\"}, \"mode\": \"lines\", \"name\": \"UCL 37660 _3500T \\u0110\\u1ed9 s\\u00e2u foil \", \"type\": \"scatter\", \"x\": [\"2020-08-14T21:00:00\", \"2020-08-15T11:00:00\", \"2020-08-15T19:00:00\", \"2020-08-17T12:00:00\", \"2020-08-17T20:00:00\", \"2020-08-18T13:00:00\", \"2020-08-18T20:00:00\", \"2020-08-19T11:00:00\", \"2020-08-19T12:00:00\", \"2020-08-19T19:00:00\", \"2020-08-20T12:00:00\", \"2020-08-20T20:00:00\", \"2020-08-21T12:00:00\", \"2020-08-21T20:00:00\", \"2020-08-22T13:00:00\", \"2020-08-22T20:00:00\", \"2020-08-24T12:00:00\", \"2020-08-24T21:00:00\", \"2020-08-25T11:00:00\", \"2020-08-25T20:00:00\", \"2020-08-26T12:00:00\", \"2020-08-26T20:00:00\", \"2020-08-27T12:00:00\", \"2020-08-27T20:00:00\", \"2020-08-28T12:00:00\", \"2020-08-28T19:00:00\", \"2020-08-29T12:00:00\", \"2020-08-29T19:00:00\", \"2020-08-31T12:00:00\", \"2020-08-31T19:00:00\", \"2020-09-01T12:00:00\", \"2020-09-01T20:00:00\", \"2020-09-03T11:00:00\", \"2020-09-03T12:00:00\", \"2020-09-03T19:00:00\", \"2020-09-04T11:00:00\", \"2020-09-04T20:00:00\", \"2020-09-05T12:00:00\", \"2020-09-05T18:00:00\", \"2020-09-07T12:00:00\", \"2020-09-07T20:00:00\", \"2020-09-08T12:00:00\", \"2020-09-08T20:00:00\"], \"xaxis\": \"x3\", \"y\": [0.10899999737739563, 0.10899999737739563, 0.10899999737739563, 0.10899999737739563, 0.10899999737739563, 0.10899999737739563, 0.10899999737739563, 0.10899999737739563, 0.10899999737739563, 0.10899999737739563, 0.10899999737739563, 0.10899999737739563, 0.10899999737739563, 0.10999999940395355, 0.10999999940395355, 0.10999999940395355, 0.10999999940395355, 0.10999999940395355, 0.10999999940395355, 0.10999999940395355, 0.10999999940395355, 0.10999999940395355, 0.10999999940395355, 0.10999999940395355, 0.10999999940395355, 0.10400000214576721, 0.10400000214576721, 0.10400000214576721, 0.10400000214576721, 0.10400000214576721, 0.10400000214576721, 0.10400000214576721, 0.10400000214576721, 0.10400000214576721, 0.10400000214576721, 0.10400000214576721, 0.10899999737739563, 0.10899999737739563, 0.10899999737739563, 0.10899999737739563, 0.10899999737739563, 0.10899999737739563, 0.10899999737739563], \"yaxis\": \"y3\"}, {\"line\": {\"color\": \"#33C2FF\"}, \"mode\": \"lines\", \"name\": \"LCL 37660 _3500T \\u0110\\u1ed9 s\\u00e2u foil \", \"type\": \"scatter\", \"x\": [\"2020-08-14T21:00:00\", \"2020-08-15T11:00:00\", \"2020-08-15T19:00:00\", \"2020-08-17T12:00:00\", \"2020-08-17T20:00:00\", \"2020-08-18T13:00:00\", \"2020-08-18T20:00:00\", \"2020-08-19T11:00:00\", \"2020-08-19T12:00:00\", \"2020-08-19T19:00:00\", \"2020-08-20T12:00:00\", \"2020-08-20T20:00:00\", \"2020-08-21T12:00:00\", \"2020-08-21T20:00:00\", \"2020-08-22T13:00:00\", \"2020-08-22T20:00:00\", \"2020-08-24T12:00:00\", \"2020-08-24T21:00:00\", \"2020-08-25T11:00:00\", \"2020-08-25T20:00:00\", \"2020-08-26T12:00:00\", \"2020-08-26T20:00:00\", \"2020-08-27T12:00:00\", \"2020-08-27T20:00:00\", \"2020-08-28T12:00:00\", \"2020-08-28T19:00:00\", \"2020-08-29T12:00:00\", \"2020-08-29T19:00:00\", \"2020-08-31T12:00:00\", \"2020-08-31T19:00:00\", \"2020-09-01T12:00:00\", \"2020-09-01T20:00:00\", \"2020-09-03T11:00:00\", \"2020-09-03T12:00:00\", \"2020-09-03T19:00:00\", \"2020-09-04T11:00:00\", \"2020-09-04T20:00:00\", \"2020-09-05T12:00:00\", \"2020-09-05T18:00:00\", \"2020-09-07T12:00:00\", \"2020-09-07T20:00:00\", \"2020-09-08T12:00:00\", \"2020-09-08T20:00:00\"], \"xaxis\": \"x3\", \"y\": [0.0820000022649765, 0.0820000022649765, 0.0820000022649765, 0.0820000022649765, 0.0820000022649765, 0.0820000022649765, 0.0820000022649765, 0.0820000022649765, 0.0820000022649765, 0.0820000022649765, 0.0820000022649765, 0.0820000022649765, 0.0820000022649765, 0.08100000023841858, 0.08100000023841858, 0.08100000023841858, 0.08100000023841858, 0.08100000023841858, 0.08100000023841858, 0.08100000023841858, 0.08100000023841858, 0.08100000023841858, 0.08100000023841858, 0.08100000023841858, 0.08100000023841858, 0.08299999684095383, 0.08299999684095383, 0.08299999684095383, 0.08299999684095383, 0.08299999684095383, 0.08299999684095383, 0.08299999684095383, 0.08299999684095383, 0.08299999684095383, 0.08299999684095383, 0.08299999684095383, 0.08299999684095383, 0.08299999684095383, 0.08299999684095383, 0.08299999684095383, 0.08299999684095383, 0.08299999684095383, 0.08299999684095383], \"yaxis\": \"y3\"}, {\"line\": {\"color\": \"#33C2FF\"}, \"mode\": \"lines\", \"name\": \"Mean 37660 _3500T \\u0110\\u1ed9 s\\u00e2u foil \", \"type\": \"scatter\", \"x\": [\"2020-08-14T21:00:00\", \"2020-08-15T11:00:00\", \"2020-08-15T19:00:00\", \"2020-08-17T12:00:00\", \"2020-08-17T20:00:00\", \"2020-08-18T13:00:00\", \"2020-08-18T20:00:00\", \"2020-08-19T11:00:00\", \"2020-08-19T12:00:00\", \"2020-08-19T19:00:00\", \"2020-08-20T12:00:00\", \"2020-08-20T20:00:00\", \"2020-08-21T12:00:00\", \"2020-08-21T20:00:00\", \"2020-08-22T13:00:00\", \"2020-08-22T20:00:00\", \"2020-08-24T12:00:00\", \"2020-08-24T21:00:00\", \"2020-08-25T11:00:00\", \"2020-08-25T20:00:00\", \"2020-08-26T12:00:00\", \"2020-08-26T20:00:00\", \"2020-08-27T12:00:00\", \"2020-08-27T20:00:00\", \"2020-08-28T12:00:00\", \"2020-08-28T19:00:00\", \"2020-08-29T12:00:00\", \"2020-08-29T19:00:00\", \"2020-08-31T12:00:00\", \"2020-08-31T19:00:00\", \"2020-09-01T12:00:00\", \"2020-09-01T20:00:00\", \"2020-09-03T11:00:00\", \"2020-09-03T12:00:00\", \"2020-09-03T19:00:00\", \"2020-09-04T11:00:00\", \"2020-09-04T20:00:00\", \"2020-09-05T12:00:00\", \"2020-09-05T18:00:00\", \"2020-09-07T12:00:00\", \"2020-09-07T20:00:00\", \"2020-09-08T12:00:00\", \"2020-09-08T20:00:00\"], \"xaxis\": \"x3\", \"y\": [0.09600000083446503, 0.09600000083446503, 0.09600000083446503, 0.09600000083446503, 0.09600000083446503, 0.09600000083446503, 0.09600000083446503, 0.09600000083446503, 0.09600000083446503, 0.09600000083446503, 0.09600000083446503, 0.09600000083446503, 0.09600000083446503, 0.09600000083446503, 0.09600000083446503, 0.09600000083446503, 0.09600000083446503, 0.09600000083446503, 0.09600000083446503, 0.09600000083446503, 0.09600000083446503, 0.09600000083446503, 0.09600000083446503, 0.09600000083446503, 0.09600000083446503, 0.09399999678134918, 0.09399999678134918, 0.09399999678134918, 0.09399999678134918, 0.09399999678134918, 0.09399999678134918, 0.09399999678134918, 0.09399999678134918, 0.09399999678134918, 0.09399999678134918, 0.09399999678134918, 0.09600000083446503, 0.09600000083446503, 0.09600000083446503, 0.09600000083446503, 0.09600000083446503, 0.09600000083446503, 0.09600000083446503], \"yaxis\": \"y3\"}, {\"line\": {\"color\": \"#4280F5\"}, \"mode\": \"lines+markers\", \"name\": \"mean 37660 _3500T Offset Dim M\", \"type\": \"scatter\", \"x\": [\"2020-08-14T21:00:00\", \"2020-08-15T11:00:00\", \"2020-08-15T19:00:00\", \"2020-08-17T12:00:00\", \"2020-08-17T20:00:00\", \"2020-08-18T13:00:00\", \"2020-08-18T20:00:00\", \"2020-08-19T11:00:00\", \"2020-08-19T12:00:00\", \"2020-08-19T19:00:00\", \"2020-08-20T12:00:00\", \"2020-08-20T20:00:00\", \"2020-08-21T12:00:00\", \"2020-08-21T20:00:00\", \"2020-08-22T13:00:00\", \"2020-08-22T20:00:00\", \"2020-08-24T12:00:00\", \"2020-08-24T21:00:00\", \"2020-08-25T11:00:00\", \"2020-08-25T20:00:00\", \"2020-08-26T12:00:00\", \"2020-08-26T20:00:00\", \"2020-08-27T12:00:00\", \"2020-08-27T20:00:00\", \"2020-08-28T12:00:00\", \"2020-08-28T19:00:00\", \"2020-08-29T12:00:00\", \"2020-08-29T19:00:00\", \"2020-08-31T12:00:00\", \"2020-08-31T19:00:00\", \"2020-09-01T12:00:00\", \"2020-09-01T20:00:00\", \"2020-09-03T11:00:00\", \"2020-09-03T12:00:00\", \"2020-09-03T19:00:00\", \"2020-09-04T11:00:00\", \"2020-09-04T20:00:00\", \"2020-09-05T12:00:00\", \"2020-09-05T18:00:00\", \"2020-09-07T12:00:00\", \"2020-09-07T20:00:00\", \"2020-09-08T12:00:00\", \"2020-09-08T20:00:00\"], \"xaxis\": \"x4\", \"y\": [0.03674999997019768, 0.020500000566244125, 0.03350000083446503, 0.03837500140070915, 0.028999999165534973, 0.02824999950826168, 0.02356250025331974, 0.032749999314546585, 0.024500001221895218, 0.01718750037252903, 0.0338749997317791, 0.040687501430511475, 0.03883333131670952, 0.013916666619479656, 0.04437499865889549, 0.023499999195337296, 0.018124999478459358, 0.041062500327825546, 0.024437500163912773, 0.020874999463558197, 0.02212500013411045, 0.030249999836087227, 0.02068750001490116, 0.05249999836087227, 0.020500000566244125, 0.05112500116229057, 0.02486666664481163, 0.04075000062584877, 0.026875000447034836, 0.020375000312924385, 0.039124999195337296, 0.024562500417232513, 0.03099999949336052, 0.040166668593883514, 0.041749998927116394, 0.048374999314546585, 0.019874999299645424, 0.051500000059604645, 0.01575000025331974, 0.02068750001490116, 0.05299999937415123, 0.00937500037252903, 0.05299999937415123], \"yaxis\": \"y4\"}, {\"line\": {\"color\": \"#FF5733\"}, \"mode\": \"lines\", \"name\": \"USL 37660 _3500T Offset Dim M\", \"type\": \"scatter\", \"x\": [\"2020-08-14T21:00:00\", \"2020-08-15T11:00:00\", \"2020-08-15T19:00:00\", \"2020-08-17T12:00:00\", \"2020-08-17T20:00:00\", \"2020-08-18T13:00:00\", \"2020-08-18T20:00:00\", \"2020-08-19T11:00:00\", \"2020-08-19T12:00:00\", \"2020-08-19T19:00:00\", \"2020-08-20T12:00:00\", \"2020-08-20T20:00:00\", \"2020-08-21T12:00:00\", \"2020-08-21T20:00:00\", \"2020-08-22T13:00:00\", \"2020-08-22T20:00:00\", \"2020-08-24T12:00:00\", \"2020-08-24T21:00:00\", \"2020-08-25T11:00:00\", \"2020-08-25T20:00:00\", \"2020-08-26T12:00:00\", \"2020-08-26T20:00:00\", \"2020-08-27T12:00:00\", \"2020-08-27T20:00:00\", \"2020-08-28T12:00:00\", \"2020-08-28T19:00:00\", \"2020-08-29T12:00:00\", \"2020-08-29T19:00:00\", \"2020-08-31T12:00:00\", \"2020-08-31T19:00:00\", \"2020-09-01T12:00:00\", \"2020-09-01T20:00:00\", \"2020-09-03T11:00:00\", \"2020-09-03T12:00:00\", \"2020-09-03T19:00:00\", \"2020-09-04T11:00:00\", \"2020-09-04T20:00:00\", \"2020-09-05T12:00:00\", \"2020-09-05T18:00:00\", \"2020-09-07T12:00:00\", \"2020-09-07T20:00:00\", \"2020-09-08T12:00:00\", \"2020-09-08T20:00:00\"], \"xaxis\": \"x4\", \"y\": [0.05999999865889549, 0.05999999865889549, 0.05999999865889549, 0.05999999865889549, 0.05999999865889549, 0.05999999865889549, 0.05999999865889549, 0.05999999865889549, 0.05999999865889549, 0.05999999865889549, 0.05999999865889549, 0.05999999865889549, 0.05999999865889549, 0.05999999865889549, 0.05999999865889549, 0.05999999865889549, 0.05999999865889549, 0.05999999865889549, 0.05999999865889549, 0.05999999865889549, 0.05999999865889549, 0.05999999865889549, 0.05999999865889549, 0.05999999865889549, 0.05999999865889549, 0.05999999865889549, 0.05999999865889549, 0.05999999865889549, 0.05999999865889549, 0.05999999865889549, 0.05999999865889549, 0.05999999865889549, 0.05999999865889549, 0.05999999865889549, 0.05999999865889549, 0.05999999865889549, 0.05999999865889549, 0.05999999865889549, 0.05999999865889549, 0.05999999865889549, 0.05999999865889549, 0.05999999865889549, 0.05999999865889549], \"yaxis\": \"y4\"}, {\"line\": {\"color\": \"#FF5733\"}, \"mode\": \"lines\", \"name\": \"LSL 37660 _3500T Offset Dim M\", \"type\": \"scatter\", \"x\": [\"2020-08-14T21:00:00\", \"2020-08-15T11:00:00\", \"2020-08-15T19:00:00\", \"2020-08-17T12:00:00\", \"2020-08-17T20:00:00\", \"2020-08-18T13:00:00\", \"2020-08-18T20:00:00\", \"2020-08-19T11:00:00\", \"2020-08-19T12:00:00\", \"2020-08-19T19:00:00\", \"2020-08-20T12:00:00\", \"2020-08-20T20:00:00\", \"2020-08-21T12:00:00\", \"2020-08-21T20:00:00\", \"2020-08-22T13:00:00\", \"2020-08-22T20:00:00\", \"2020-08-24T12:00:00\", \"2020-08-24T21:00:00\", \"2020-08-25T11:00:00\", \"2020-08-25T20:00:00\", \"2020-08-26T12:00:00\", \"2020-08-26T20:00:00\", \"2020-08-27T12:00:00\", \"2020-08-27T20:00:00\", \"2020-08-28T12:00:00\", \"2020-08-28T19:00:00\", \"2020-08-29T12:00:00\", \"2020-08-29T19:00:00\", \"2020-08-31T12:00:00\", \"2020-08-31T19:00:00\", \"2020-09-01T12:00:00\", \"2020-09-01T20:00:00\", \"2020-09-03T11:00:00\", \"2020-09-03T12:00:00\", \"2020-09-03T19:00:00\", \"2020-09-04T11:00:00\", \"2020-09-04T20:00:00\", \"2020-09-05T12:00:00\", \"2020-09-05T18:00:00\", \"2020-09-07T12:00:00\", \"2020-09-07T20:00:00\", \"2020-09-08T12:00:00\", \"2020-09-08T20:00:00\"], \"xaxis\": \"x4\", \"y\": [null, null, null, null, null, null, null, null, null, null, null, null, null, null, null, null, null, null, null, null, null, null, null, null, null, null, null, null, null, null, null, null, null, null, null, null, null, null, null, null, null, null, null], \"yaxis\": \"y4\"}, {\"line\": {\"color\": \"#33C2FF\"}, \"mode\": \"lines\", \"name\": \"UCL 37660 _3500T Offset Dim M\", \"type\": \"scatter\", \"x\": [\"2020-08-14T21:00:00\", \"2020-08-15T11:00:00\", \"2020-08-15T19:00:00\", \"2020-08-17T12:00:00\", \"2020-08-17T20:00:00\", \"2020-08-18T13:00:00\", \"2020-08-18T20:00:00\", \"2020-08-19T11:00:00\", \"2020-08-19T12:00:00\", \"2020-08-19T19:00:00\", \"2020-08-20T12:00:00\", \"2020-08-20T20:00:00\", \"2020-08-21T12:00:00\", \"2020-08-21T20:00:00\", \"2020-08-22T13:00:00\", \"2020-08-22T20:00:00\", \"2020-08-24T12:00:00\", \"2020-08-24T21:00:00\", \"2020-08-25T11:00:00\", \"2020-08-25T20:00:00\", \"2020-08-26T12:00:00\", \"2020-08-26T20:00:00\", \"2020-08-27T12:00:00\", \"2020-08-27T20:00:00\", \"2020-08-28T12:00:00\", \"2020-08-28T19:00:00\", \"2020-08-29T12:00:00\", \"2020-08-29T19:00:00\", \"2020-08-31T12:00:00\", \"2020-08-31T19:00:00\", \"2020-09-01T12:00:00\", \"2020-09-01T20:00:00\", \"2020-09-03T11:00:00\", \"2020-09-03T12:00:00\", \"2020-09-03T19:00:00\", \"2020-09-04T11:00:00\", \"2020-09-04T20:00:00\", \"2020-09-05T12:00:00\", \"2020-09-05T18:00:00\", \"2020-09-07T12:00:00\", \"2020-09-07T20:00:00\", \"2020-09-08T12:00:00\", \"2020-09-08T20:00:00\"], \"xaxis\": \"x4\", \"y\": [0.07400000095367432, 0.07400000095367432, 0.07400000095367432, 0.07400000095367432, 0.07400000095367432, 0.07400000095367432, 0.07400000095367432, 0.07400000095367432, 0.07400000095367432, 0.07400000095367432, 0.07400000095367432, 0.07400000095367432, 0.07400000095367432, 0.0689999982714653, 0.0689999982714653, 0.0689999982714653, 0.0689999982714653, 0.0689999982714653, 0.0689999982714653, 0.0689999982714653, 0.0689999982714653, 0.0689999982714653, 0.0689999982714653, 0.0689999982714653, 0.0689999982714653, 0.07500000298023224, 0.07500000298023224, 0.07500000298023224, 0.07500000298023224, 0.07500000298023224, 0.07500000298023224, 0.07500000298023224, 0.07500000298023224, 0.07500000298023224, 0.07500000298023224, 0.07500000298023224, 0.08900000154972076, 0.08900000154972076, 0.08900000154972076, 0.08900000154972076, 0.08900000154972076, 0.08900000154972076, 0.08900000154972076], \"yaxis\": \"y4\"}, {\"line\": {\"color\": \"#33C2FF\"}, \"mode\": \"lines\", \"name\": \"LCL 37660 _3500T Offset Dim M\", \"type\": \"scatter\", \"x\": [\"2020-08-14T21:00:00\", \"2020-08-15T11:00:00\", \"2020-08-15T19:00:00\", \"2020-08-17T12:00:00\", \"2020-08-17T20:00:00\", \"2020-08-18T13:00:00\", \"2020-08-18T20:00:00\", \"2020-08-19T11:00:00\", \"2020-08-19T12:00:00\", \"2020-08-19T19:00:00\", \"2020-08-20T12:00:00\", \"2020-08-20T20:00:00\", \"2020-08-21T12:00:00\", \"2020-08-21T20:00:00\", \"2020-08-22T13:00:00\", \"2020-08-22T20:00:00\", \"2020-08-24T12:00:00\", \"2020-08-24T21:00:00\", \"2020-08-25T11:00:00\", \"2020-08-25T20:00:00\", \"2020-08-26T12:00:00\", \"2020-08-26T20:00:00\", \"2020-08-27T12:00:00\", \"2020-08-27T20:00:00\", \"2020-08-28T12:00:00\", \"2020-08-28T19:00:00\", \"2020-08-29T12:00:00\", \"2020-08-29T19:00:00\", \"2020-08-31T12:00:00\", \"2020-08-31T19:00:00\", \"2020-09-01T12:00:00\", \"2020-09-01T20:00:00\", \"2020-09-03T11:00:00\", \"2020-09-03T12:00:00\", \"2020-09-03T19:00:00\", \"2020-09-04T11:00:00\", \"2020-09-04T20:00:00\", \"2020-09-05T12:00:00\", \"2020-09-05T18:00:00\", \"2020-09-07T12:00:00\", \"2020-09-07T20:00:00\", \"2020-09-08T12:00:00\", \"2020-09-08T20:00:00\"], \"xaxis\": \"x4\", \"y\": [-0.012000000104308128, -0.012000000104308128, -0.012000000104308128, -0.012000000104308128, -0.012000000104308128, -0.012000000104308128, -0.012000000104308128, -0.012000000104308128, -0.012000000104308128, -0.012000000104308128, -0.012000000104308128, -0.012000000104308128, -0.012000000104308128, -0.017000000923871994, -0.017000000923871994, -0.017000000923871994, -0.017000000923871994, -0.017000000923871994, -0.017000000923871994, -0.017000000923871994, -0.017000000923871994, -0.017000000923871994, -0.017000000923871994, -0.017000000923871994, -0.017000000923871994, -0.007000000216066837, -0.007000000216066837, -0.007000000216066837, -0.007000000216066837, -0.007000000216066837, -0.007000000216066837, -0.007000000216066837, -0.007000000216066837, -0.007000000216066837, -0.007000000216066837, -0.007000000216066837, -0.02800000086426735, -0.02800000086426735, -0.02800000086426735, -0.02800000086426735, -0.02800000086426735, -0.02800000086426735, -0.02800000086426735], \"yaxis\": \"y4\"}, {\"line\": {\"color\": \"#33C2FF\"}, \"mode\": \"lines\", \"name\": \"Mean 37660 _3500T Offset Dim M\", \"type\": \"scatter\", \"x\": [\"2020-08-14T21:00:00\", \"2020-08-15T11:00:00\", \"2020-08-15T19:00:00\", \"2020-08-17T12:00:00\", \"2020-08-17T20:00:00\", \"2020-08-18T13:00:00\", \"2020-08-18T20:00:00\", \"2020-08-19T11:00:00\", \"2020-08-19T12:00:00\", \"2020-08-19T19:00:00\", \"2020-08-20T12:00:00\", \"2020-08-20T20:00:00\", \"2020-08-21T12:00:00\", \"2020-08-21T20:00:00\", \"2020-08-22T13:00:00\", \"2020-08-22T20:00:00\", \"2020-08-24T12:00:00\", \"2020-08-24T21:00:00\", \"2020-08-25T11:00:00\", \"2020-08-25T20:00:00\", \"2020-08-26T12:00:00\", \"2020-08-26T20:00:00\", \"2020-08-27T12:00:00\", \"2020-08-27T20:00:00\", \"2020-08-28T12:00:00\", \"2020-08-28T19:00:00\", \"2020-08-29T12:00:00\", \"2020-08-29T19:00:00\", \"2020-08-31T12:00:00\", \"2020-08-31T19:00:00\", \"2020-09-01T12:00:00\", \"2020-09-01T20:00:00\", \"2020-09-03T11:00:00\", \"2020-09-03T12:00:00\", \"2020-09-03T19:00:00\", \"2020-09-04T11:00:00\", \"2020-09-04T20:00:00\", \"2020-09-05T12:00:00\", \"2020-09-05T18:00:00\", \"2020-09-07T12:00:00\", \"2020-09-07T20:00:00\", \"2020-09-08T12:00:00\", \"2020-09-08T20:00:00\"], \"xaxis\": \"x4\", \"y\": [0.03099999949336052, 0.03099999949336052, 0.03099999949336052, 0.03099999949336052, 0.03099999949336052, 0.03099999949336052, 0.03099999949336052, 0.03099999949336052, 0.03099999949336052, 0.03099999949336052, 0.03099999949336052, 0.03099999949336052, 0.03099999949336052, 0.026000000536441803, 0.026000000536441803, 0.026000000536441803, 0.026000000536441803, 0.026000000536441803, 0.026000000536441803, 0.026000000536441803, 0.026000000536441803, 0.026000000536441803, 0.026000000536441803, 0.026000000536441803, 0.026000000536441803, 0.03400000184774399, 0.03400000184774399, 0.03400000184774399, 0.03400000184774399, 0.03400000184774399, 0.03400000184774399, 0.03400000184774399, 0.03400000184774399, 0.03400000184774399, 0.03400000184774399, 0.03400000184774399, 0.029999999329447746, 0.029999999329447746, 0.029999999329447746, 0.029999999329447746, 0.029999999329447746, 0.029999999329447746, 0.029999999329447746], \"yaxis\": \"y4\"}, {\"line\": {\"color\": \"#4280F5\"}, \"mode\": \"lines+markers\", \"name\": \"mean 37660  \\u0110\\u1ed9 s\\u00e2u foil \", \"type\": \"scatter\", \"x\": [\"2020-08-14T21:00:00\", \"2020-08-15T12:00:00\", \"2020-08-15T19:00:00\", \"2020-08-17T12:00:00\", \"2020-08-17T20:00:00\", \"2020-08-18T13:00:00\", \"2020-08-18T20:00:00\", \"2020-08-19T12:00:00\", \"2020-08-19T20:00:00\", \"2020-08-20T13:00:00\", \"2020-08-20T20:00:00\", \"2020-08-21T12:00:00\", \"2020-08-21T13:00:00\", \"2020-08-21T20:00:00\", \"2020-08-21T21:00:00\", \"2020-08-22T13:00:00\", \"2020-08-22T20:00:00\", \"2020-08-24T12:00:00\", \"2020-08-24T21:00:00\", \"2020-08-25T12:00:00\", \"2020-08-25T20:00:00\", \"2020-08-26T12:00:00\", \"2020-08-26T20:00:00\", \"2020-08-27T12:00:00\", \"2020-08-27T20:00:00\", \"2020-08-28T13:00:00\", \"2020-08-28T19:00:00\", \"2020-08-29T12:00:00\", \"2020-08-31T12:00:00\", \"2020-09-01T12:00:00\", \"2020-09-03T11:00:00\", \"2020-09-03T20:00:00\", \"2020-09-04T11:00:00\", \"2020-09-04T20:00:00\", \"2020-09-05T12:00:00\", \"2020-09-05T19:00:00\", \"2020-09-07T13:00:00\", \"2020-09-07T20:00:00\", \"2020-09-08T12:00:00\"], \"xaxis\": \"x5\", \"y\": [0.07362499833106995, 0.07412499934434891, 0.07737500220537186, 0.0741875022649765, 0.07387500256299973, 0.07962500303983688, 0.07474999874830246, 0.07437500357627869, 0.07706250250339508, 0.07712499797344208, 0.0793749988079071, 0.07225000113248825, 0.0729999989271164, 0.08124999701976776, 0.0793749988079071, 0.07599999755620956, 0.07899999618530273, 0.07737500220537186, 0.07625000178813934, 0.07562500238418579, 0.07912500202655792, 0.08049999922513962, 0.07362499833106995, 0.07562500238418579, 0.08112499862909317, 0.078125, 0.07737500220537186, 0.07562500238418579, 0.0755000039935112, 0.07362499833106995, 0.07912500202655792, 0.0768750011920929, 0.0768750011920929, 0.07750000059604645, 0.07537499815225601, 0.07962500303983688, 0.07750000059604645, 0.07625000178813934, 0.07987499982118607], \"yaxis\": \"y5\"}, {\"line\": {\"color\": \"#FF5733\"}, \"mode\": \"lines\", \"name\": \"USL 37660  \\u0110\\u1ed9 s\\u00e2u foil \", \"type\": \"scatter\", \"x\": [\"2020-08-14T21:00:00\", \"2020-08-15T12:00:00\", \"2020-08-15T19:00:00\", \"2020-08-17T12:00:00\", \"2020-08-17T20:00:00\", \"2020-08-18T13:00:00\", \"2020-08-18T20:00:00\", \"2020-08-19T12:00:00\", \"2020-08-19T20:00:00\", \"2020-08-20T13:00:00\", \"2020-08-20T20:00:00\", \"2020-08-21T12:00:00\", \"2020-08-21T13:00:00\", \"2020-08-21T20:00:00\", \"2020-08-21T21:00:00\", \"2020-08-22T13:00:00\", \"2020-08-22T20:00:00\", \"2020-08-24T12:00:00\", \"2020-08-24T21:00:00\", \"2020-08-25T12:00:00\", \"2020-08-25T20:00:00\", \"2020-08-26T12:00:00\", \"2020-08-26T20:00:00\", \"2020-08-27T12:00:00\", \"2020-08-27T20:00:00\", \"2020-08-28T13:00:00\", \"2020-08-28T19:00:00\", \"2020-08-29T12:00:00\", \"2020-08-31T12:00:00\", \"2020-09-01T12:00:00\", \"2020-09-03T11:00:00\", \"2020-09-03T20:00:00\", \"2020-09-04T11:00:00\", \"2020-09-04T20:00:00\", \"2020-09-05T12:00:00\", \"2020-09-05T19:00:00\", \"2020-09-07T13:00:00\", \"2020-09-07T20:00:00\", \"2020-09-08T12:00:00\"], \"xaxis\": \"x5\", \"y\": [0.09000000357627869, 0.09000000357627869, 0.09000000357627869, 0.09000000357627869, 0.09000000357627869, 0.09000000357627869, 0.09000000357627869, 0.09000000357627869, 0.09000000357627869, 0.09000000357627869, 0.09000000357627869, 0.09000000357627869, 0.09000000357627869, 0.09000000357627869, 0.09000000357627869, 0.09000000357627869, 0.09000000357627869, 0.09000000357627869, 0.09000000357627869, 0.09000000357627869, 0.09000000357627869, 0.09000000357627869, 0.09000000357627869, 0.09000000357627869, 0.09000000357627869, 0.09000000357627869, 0.09000000357627869, 0.09000000357627869, 0.09000000357627869, 0.09000000357627869, 0.09000000357627869, 0.09000000357627869, 0.09000000357627869, 0.09000000357627869, 0.09000000357627869, 0.09000000357627869, 0.09000000357627869, 0.09000000357627869, 0.09000000357627869], \"yaxis\": \"y5\"}, {\"line\": {\"color\": \"#FF5733\"}, \"mode\": \"lines\", \"name\": \"LSL 37660  \\u0110\\u1ed9 s\\u00e2u foil \", \"type\": \"scatter\", \"x\": [\"2020-08-14T21:00:00\", \"2020-08-15T12:00:00\", \"2020-08-15T19:00:00\", \"2020-08-17T12:00:00\", \"2020-08-17T20:00:00\", \"2020-08-18T13:00:00\", \"2020-08-18T20:00:00\", \"2020-08-19T12:00:00\", \"2020-08-19T20:00:00\", \"2020-08-20T13:00:00\", \"2020-08-20T20:00:00\", \"2020-08-21T12:00:00\", \"2020-08-21T13:00:00\", \"2020-08-21T20:00:00\", \"2020-08-21T21:00:00\", \"2020-08-22T13:00:00\", \"2020-08-22T20:00:00\", \"2020-08-24T12:00:00\", \"2020-08-24T21:00:00\", \"2020-08-25T12:00:00\", \"2020-08-25T20:00:00\", \"2020-08-26T12:00:00\", \"2020-08-26T20:00:00\", \"2020-08-27T12:00:00\", \"2020-08-27T20:00:00\", \"2020-08-28T13:00:00\", \"2020-08-28T19:00:00\", \"2020-08-29T12:00:00\", \"2020-08-31T12:00:00\", \"2020-09-01T12:00:00\", \"2020-09-03T11:00:00\", \"2020-09-03T20:00:00\", \"2020-09-04T11:00:00\", \"2020-09-04T20:00:00\", \"2020-09-05T12:00:00\", \"2020-09-05T19:00:00\", \"2020-09-07T13:00:00\", \"2020-09-07T20:00:00\", \"2020-09-08T12:00:00\"], \"xaxis\": \"x5\", \"y\": [0.07000000029802322, 0.07000000029802322, 0.07000000029802322, 0.07000000029802322, 0.07000000029802322, 0.07000000029802322, 0.07000000029802322, 0.07000000029802322, 0.07000000029802322, 0.07000000029802322, 0.07000000029802322, 0.07000000029802322, 0.07000000029802322, 0.07000000029802322, 0.07000000029802322, 0.07000000029802322, 0.07000000029802322, 0.07000000029802322, 0.07000000029802322, 0.07000000029802322, 0.07000000029802322, 0.07000000029802322, 0.07000000029802322, 0.07000000029802322, 0.07000000029802322, 0.07000000029802322, 0.07000000029802322, 0.07000000029802322, 0.07000000029802322, 0.07000000029802322, 0.07000000029802322, 0.07000000029802322, 0.07000000029802322, 0.07000000029802322, 0.07000000029802322, 0.07000000029802322, 0.07000000029802322, 0.07000000029802322, 0.07000000029802322], \"yaxis\": \"y5\"}, {\"line\": {\"color\": \"#33C2FF\"}, \"mode\": \"lines\", \"name\": \"UCL 37660  \\u0110\\u1ed9 s\\u00e2u foil \", \"type\": \"scatter\", \"x\": [\"2020-08-14T21:00:00\", \"2020-08-15T12:00:00\", \"2020-08-15T19:00:00\", \"2020-08-17T12:00:00\", \"2020-08-17T20:00:00\", \"2020-08-18T13:00:00\", \"2020-08-18T20:00:00\", \"2020-08-19T12:00:00\", \"2020-08-19T20:00:00\", \"2020-08-20T13:00:00\", \"2020-08-20T20:00:00\", \"2020-08-21T12:00:00\", \"2020-08-21T13:00:00\", \"2020-08-21T20:00:00\", \"2020-08-21T21:00:00\", \"2020-08-22T13:00:00\", \"2020-08-22T20:00:00\", \"2020-08-24T12:00:00\", \"2020-08-24T21:00:00\", \"2020-08-25T12:00:00\", \"2020-08-25T20:00:00\", \"2020-08-26T12:00:00\", \"2020-08-26T20:00:00\", \"2020-08-27T12:00:00\", \"2020-08-27T20:00:00\", \"2020-08-28T13:00:00\", \"2020-08-28T19:00:00\", \"2020-08-29T12:00:00\", \"2020-08-31T12:00:00\", \"2020-09-01T12:00:00\", \"2020-09-03T11:00:00\", \"2020-09-03T20:00:00\", \"2020-09-04T11:00:00\", \"2020-09-04T20:00:00\", \"2020-09-05T12:00:00\", \"2020-09-05T19:00:00\", \"2020-09-07T13:00:00\", \"2020-09-07T20:00:00\", \"2020-09-08T12:00:00\"], \"xaxis\": \"x5\", \"y\": [0.08799999952316284, 0.08799999952316284, 0.08799999952316284, 0.08799999952316284, 0.08799999952316284, 0.08799999952316284, 0.08799999952316284, 0.08799999952316284, 0.08799999952316284, 0.08799999952316284, 0.08799999952316284, 0.08799999952316284, 0.08799999952316284, 0.09000000357627869, 0.09000000357627869, 0.09000000357627869, 0.09000000357627869, 0.09000000357627869, 0.09000000357627869, 0.09000000357627869, 0.09000000357627869, 0.09000000357627869, 0.09000000357627869, 0.09000000357627869, 0.09000000357627869, 0.09000000357627869, 0.08799999952316284, 0.08799999952316284, 0.08799999952316284, 0.08799999952316284, 0.08799999952316284, 0.08799999952316284, 0.08799999952316284, 0.08799999952316284, 0.08799999952316284, 0.08799999952316284, 0.08799999952316284, 0.08799999952316284, 0.08799999952316284], \"yaxis\": \"y5\"}, {\"line\": {\"color\": \"#33C2FF\"}, \"mode\": \"lines\", \"name\": \"LCL 37660  \\u0110\\u1ed9 s\\u00e2u foil \", \"type\": \"scatter\", \"x\": [\"2020-08-14T21:00:00\", \"2020-08-15T12:00:00\", \"2020-08-15T19:00:00\", \"2020-08-17T12:00:00\", \"2020-08-17T20:00:00\", \"2020-08-18T13:00:00\", \"2020-08-18T20:00:00\", \"2020-08-19T12:00:00\", \"2020-08-19T20:00:00\", \"2020-08-20T13:00:00\", \"2020-08-20T20:00:00\", \"2020-08-21T12:00:00\", \"2020-08-21T13:00:00\", \"2020-08-21T20:00:00\", \"2020-08-21T21:00:00\", \"2020-08-22T13:00:00\", \"2020-08-22T20:00:00\", \"2020-08-24T12:00:00\", \"2020-08-24T21:00:00\", \"2020-08-25T12:00:00\", \"2020-08-25T20:00:00\", \"2020-08-26T12:00:00\", \"2020-08-26T20:00:00\", \"2020-08-27T12:00:00\", \"2020-08-27T20:00:00\", \"2020-08-28T13:00:00\", \"2020-08-28T19:00:00\", \"2020-08-29T12:00:00\", \"2020-08-31T12:00:00\", \"2020-09-01T12:00:00\", \"2020-09-03T11:00:00\", \"2020-09-03T20:00:00\", \"2020-09-04T11:00:00\", \"2020-09-04T20:00:00\", \"2020-09-05T12:00:00\", \"2020-09-05T19:00:00\", \"2020-09-07T13:00:00\", \"2020-09-07T20:00:00\", \"2020-09-08T12:00:00\"], \"xaxis\": \"x5\", \"y\": [0.06300000101327896, 0.06300000101327896, 0.06300000101327896, 0.06300000101327896, 0.06300000101327896, 0.06300000101327896, 0.06300000101327896, 0.06300000101327896, 0.06300000101327896, 0.06300000101327896, 0.06300000101327896, 0.06300000101327896, 0.06300000101327896, 0.06599999964237213, 0.06599999964237213, 0.06599999964237213, 0.06599999964237213, 0.06599999964237213, 0.06599999964237213, 0.06599999964237213, 0.06599999964237213, 0.06599999964237213, 0.06599999964237213, 0.06599999964237213, 0.06599999964237213, 0.06599999964237213, 0.06400000303983688, 0.06400000303983688, 0.06400000303983688, 0.06400000303983688, 0.06400000303983688, 0.06400000303983688, 0.06400000303983688, 0.06800000369548798, 0.06800000369548798, 0.06800000369548798, 0.06800000369548798, 0.06800000369548798, 0.06800000369548798], \"yaxis\": \"y5\"}, {\"line\": {\"color\": \"#33C2FF\"}, \"mode\": \"lines\", \"name\": \"Mean 37660  \\u0110\\u1ed9 s\\u00e2u foil \", \"type\": \"scatter\", \"x\": [\"2020-08-14T21:00:00\", \"2020-08-15T12:00:00\", \"2020-08-15T19:00:00\", \"2020-08-17T12:00:00\", \"2020-08-17T20:00:00\", \"2020-08-18T13:00:00\", \"2020-08-18T20:00:00\", \"2020-08-19T12:00:00\", \"2020-08-19T20:00:00\", \"2020-08-20T13:00:00\", \"2020-08-20T20:00:00\", \"2020-08-21T12:00:00\", \"2020-08-21T13:00:00\", \"2020-08-21T20:00:00\", \"2020-08-21T21:00:00\", \"2020-08-22T13:00:00\", \"2020-08-22T20:00:00\", \"2020-08-24T12:00:00\", \"2020-08-24T21:00:00\", \"2020-08-25T12:00:00\", \"2020-08-25T20:00:00\", \"2020-08-26T12:00:00\", \"2020-08-26T20:00:00\", \"2020-08-27T12:00:00\", \"2020-08-27T20:00:00\", \"2020-08-28T13:00:00\", \"2020-08-28T19:00:00\", \"2020-08-29T12:00:00\", \"2020-08-31T12:00:00\", \"2020-09-01T12:00:00\", \"2020-09-03T11:00:00\", \"2020-09-03T20:00:00\", \"2020-09-04T11:00:00\", \"2020-09-04T20:00:00\", \"2020-09-05T12:00:00\", \"2020-09-05T19:00:00\", \"2020-09-07T13:00:00\", \"2020-09-07T20:00:00\", \"2020-09-08T12:00:00\"], \"xaxis\": \"x5\", \"y\": [0.07599999755620956, 0.07599999755620956, 0.07599999755620956, 0.07599999755620956, 0.07599999755620956, 0.07599999755620956, 0.07599999755620956, 0.07599999755620956, 0.07599999755620956, 0.07599999755620956, 0.07599999755620956, 0.07599999755620956, 0.07599999755620956, 0.07800000160932541, 0.07800000160932541, 0.07800000160932541, 0.07800000160932541, 0.07800000160932541, 0.07800000160932541, 0.07800000160932541, 0.07800000160932541, 0.07800000160932541, 0.07800000160932541, 0.07800000160932541, 0.07800000160932541, 0.07800000160932541, 0.07599999755620956, 0.07599999755620956, 0.07599999755620956, 0.07599999755620956, 0.07599999755620956, 0.07599999755620956, 0.07599999755620956, 0.07800000160932541, 0.07800000160932541, 0.07800000160932541, 0.07800000160932541, 0.07800000160932541, 0.07800000160932541], \"yaxis\": \"y5\"}, {\"line\": {\"color\": \"#4280F5\"}, \"mode\": \"lines+markers\", \"name\": \"mean 37660 Offset Dim M\", \"type\": \"scatter\", \"x\": [\"2020-08-14T21:00:00\", \"2020-08-15T12:00:00\", \"2020-08-15T19:00:00\", \"2020-08-17T12:00:00\", \"2020-08-17T20:00:00\", \"2020-08-18T13:00:00\", \"2020-08-18T20:00:00\", \"2020-08-19T12:00:00\", \"2020-08-19T20:00:00\", \"2020-08-20T13:00:00\", \"2020-08-20T20:00:00\", \"2020-08-21T12:00:00\", \"2020-08-21T13:00:00\", \"2020-08-21T20:00:00\", \"2020-08-21T21:00:00\", \"2020-08-22T13:00:00\", \"2020-08-22T20:00:00\", \"2020-08-24T12:00:00\", \"2020-08-24T21:00:00\", \"2020-08-25T12:00:00\", \"2020-08-25T20:00:00\", \"2020-08-26T12:00:00\", \"2020-08-26T20:00:00\", \"2020-08-27T12:00:00\", \"2020-08-27T20:00:00\", \"2020-08-28T13:00:00\", \"2020-08-28T19:00:00\", \"2020-08-29T12:00:00\", \"2020-08-31T12:00:00\", \"2020-09-01T12:00:00\", \"2020-09-03T11:00:00\", \"2020-09-03T20:00:00\", \"2020-09-04T11:00:00\", \"2020-09-04T20:00:00\", \"2020-09-05T12:00:00\", \"2020-09-05T19:00:00\", \"2020-09-07T13:00:00\", \"2020-09-07T20:00:00\", \"2020-09-08T12:00:00\"], \"xaxis\": \"x6\", \"y\": [0.019090909510850906, 0.016499999910593033, 0.021250000223517418, 0.021583333611488342, 0.01549999974668026, 0.01341666653752327, 0.018833333626389503, 0.01966666616499424, 0.015833333134651184, 0.01924999989569187, 0.017916666343808174, 0.01425000000745058, 0.024000000208616257, 0.016750000417232513, 0.021214285865426064, 0.022083332762122154, 0.0182499997317791, 0.017416667193174362, 0.02316666767001152, 0.01808333396911621, 0.012083333916962147, 0.020500000566244125, 0.028333334252238274, 0.021583333611488342, 0.01783333346247673, 0.015666667371988297, 0.013624999672174454, 0.02058333344757557, 0.014333333820104599, 0.009916666895151138, 0.015083333477377892, 0.016583332791924477, 0.019166667014360428, 0.02108333259820938, 0.016750000417232513, 0.01666666753590107, 0.018416667357087135, 0.010833333246409893, 0.017208334058523178], \"yaxis\": \"y6\"}, {\"line\": {\"color\": \"#FF5733\"}, \"mode\": \"lines\", \"name\": \"USL 37660 Offset Dim M\", \"type\": \"scatter\", \"x\": [\"2020-08-14T21:00:00\", \"2020-08-15T12:00:00\", \"2020-08-15T19:00:00\", \"2020-08-17T12:00:00\", \"2020-08-17T20:00:00\", \"2020-08-18T13:00:00\", \"2020-08-18T20:00:00\", \"2020-08-19T12:00:00\", \"2020-08-19T20:00:00\", \"2020-08-20T13:00:00\", \"2020-08-20T20:00:00\", \"2020-08-21T12:00:00\", \"2020-08-21T13:00:00\", \"2020-08-21T20:00:00\", \"2020-08-21T21:00:00\", \"2020-08-22T13:00:00\", \"2020-08-22T20:00:00\", \"2020-08-24T12:00:00\", \"2020-08-24T21:00:00\", \"2020-08-25T12:00:00\", \"2020-08-25T20:00:00\", \"2020-08-26T12:00:00\", \"2020-08-26T20:00:00\", \"2020-08-27T12:00:00\", \"2020-08-27T20:00:00\", \"2020-08-28T13:00:00\", \"2020-08-28T19:00:00\", \"2020-08-29T12:00:00\", \"2020-08-31T12:00:00\", \"2020-09-01T12:00:00\", \"2020-09-03T11:00:00\", \"2020-09-03T20:00:00\", \"2020-09-04T11:00:00\", \"2020-09-04T20:00:00\", \"2020-09-05T12:00:00\", \"2020-09-05T19:00:00\", \"2020-09-07T13:00:00\", \"2020-09-07T20:00:00\", \"2020-09-08T12:00:00\"], \"xaxis\": \"x6\", \"y\": [0.05000000074505806, 0.05000000074505806, 0.05000000074505806, 0.05000000074505806, 0.05000000074505806, 0.05000000074505806, 0.05000000074505806, 0.05000000074505806, 0.05000000074505806, 0.05000000074505806, 0.05000000074505806, 0.05000000074505806, 0.05000000074505806, 0.05000000074505806, 0.05000000074505806, 0.05000000074505806, 0.05000000074505806, 0.05000000074505806, 0.05000000074505806, 0.05000000074505806, 0.05000000074505806, 0.05000000074505806, 0.05000000074505806, 0.05000000074505806, 0.05000000074505806, 0.05000000074505806, 0.05000000074505806, 0.05000000074505806, 0.05000000074505806, 0.05000000074505806, 0.05000000074505806, 0.05000000074505806, 0.05000000074505806, 0.05000000074505806, 0.05000000074505806, 0.05000000074505806, 0.05000000074505806, 0.05000000074505806, 0.05000000074505806], \"yaxis\": \"y6\"}, {\"line\": {\"color\": \"#FF5733\"}, \"mode\": \"lines\", \"name\": \"LSL 37660 Offset Dim M\", \"type\": \"scatter\", \"x\": [\"2020-08-14T21:00:00\", \"2020-08-15T12:00:00\", \"2020-08-15T19:00:00\", \"2020-08-17T12:00:00\", \"2020-08-17T20:00:00\", \"2020-08-18T13:00:00\", \"2020-08-18T20:00:00\", \"2020-08-19T12:00:00\", \"2020-08-19T20:00:00\", \"2020-08-20T13:00:00\", \"2020-08-20T20:00:00\", \"2020-08-21T12:00:00\", \"2020-08-21T13:00:00\", \"2020-08-21T20:00:00\", \"2020-08-21T21:00:00\", \"2020-08-22T13:00:00\", \"2020-08-22T20:00:00\", \"2020-08-24T12:00:00\", \"2020-08-24T21:00:00\", \"2020-08-25T12:00:00\", \"2020-08-25T20:00:00\", \"2020-08-26T12:00:00\", \"2020-08-26T20:00:00\", \"2020-08-27T12:00:00\", \"2020-08-27T20:00:00\", \"2020-08-28T13:00:00\", \"2020-08-28T19:00:00\", \"2020-08-29T12:00:00\", \"2020-08-31T12:00:00\", \"2020-09-01T12:00:00\", \"2020-09-03T11:00:00\", \"2020-09-03T20:00:00\", \"2020-09-04T11:00:00\", \"2020-09-04T20:00:00\", \"2020-09-05T12:00:00\", \"2020-09-05T19:00:00\", \"2020-09-07T13:00:00\", \"2020-09-07T20:00:00\", \"2020-09-08T12:00:00\"], \"xaxis\": \"x6\", \"y\": [null, null, null, null, null, null, null, null, null, null, null, null, null, null, null, null, null, null, null, null, null, null, null, null, null, null, null, null, null, null, null, null, null, null, null, null, null, null, null], \"yaxis\": \"y6\"}, {\"line\": {\"color\": \"#33C2FF\"}, \"mode\": \"lines\", \"name\": \"UCL 37660 Offset Dim M\", \"type\": \"scatter\", \"x\": [\"2020-08-14T21:00:00\", \"2020-08-15T12:00:00\", \"2020-08-15T19:00:00\", \"2020-08-17T12:00:00\", \"2020-08-17T20:00:00\", \"2020-08-18T13:00:00\", \"2020-08-18T20:00:00\", \"2020-08-19T12:00:00\", \"2020-08-19T20:00:00\", \"2020-08-20T13:00:00\", \"2020-08-20T20:00:00\", \"2020-08-21T12:00:00\", \"2020-08-21T13:00:00\", \"2020-08-21T20:00:00\", \"2020-08-21T21:00:00\", \"2020-08-22T13:00:00\", \"2020-08-22T20:00:00\", \"2020-08-24T12:00:00\", \"2020-08-24T21:00:00\", \"2020-08-25T12:00:00\", \"2020-08-25T20:00:00\", \"2020-08-26T12:00:00\", \"2020-08-26T20:00:00\", \"2020-08-27T12:00:00\", \"2020-08-27T20:00:00\", \"2020-08-28T13:00:00\", \"2020-08-28T19:00:00\", \"2020-08-29T12:00:00\", \"2020-08-31T12:00:00\", \"2020-09-01T12:00:00\", \"2020-09-03T11:00:00\", \"2020-09-03T20:00:00\", \"2020-09-04T11:00:00\", \"2020-09-04T20:00:00\", \"2020-09-05T12:00:00\", \"2020-09-05T19:00:00\", \"2020-09-07T13:00:00\", \"2020-09-07T20:00:00\", \"2020-09-08T12:00:00\"], \"xaxis\": \"x6\", \"y\": [0.04800000041723251, 0.04800000041723251, 0.04800000041723251, 0.04800000041723251, 0.04800000041723251, 0.04800000041723251, 0.04800000041723251, 0.04800000041723251, 0.04800000041723251, 0.04800000041723251, 0.04800000041723251, 0.04800000041723251, 0.04800000041723251, 0.04699999839067459, 0.04699999839067459, 0.04699999839067459, 0.04699999839067459, 0.04699999839067459, 0.04699999839067459, 0.04699999839067459, 0.04699999839067459, 0.04699999839067459, 0.04699999839067459, 0.04699999839067459, 0.04699999839067459, 0.04699999839067459, 0.041999999433755875, 0.041999999433755875, 0.041999999433755875, 0.041999999433755875, 0.041999999433755875, 0.041999999433755875, 0.041999999433755875, 0.04699999839067459, 0.04699999839067459, 0.04699999839067459, 0.04699999839067459, 0.04699999839067459, 0.04699999839067459], \"yaxis\": \"y6\"}, {\"line\": {\"color\": \"#33C2FF\"}, \"mode\": \"lines\", \"name\": \"LCL 37660 Offset Dim M\", \"type\": \"scatter\", \"x\": [\"2020-08-14T21:00:00\", \"2020-08-15T12:00:00\", \"2020-08-15T19:00:00\", \"2020-08-17T12:00:00\", \"2020-08-17T20:00:00\", \"2020-08-18T13:00:00\", \"2020-08-18T20:00:00\", \"2020-08-19T12:00:00\", \"2020-08-19T20:00:00\", \"2020-08-20T13:00:00\", \"2020-08-20T20:00:00\", \"2020-08-21T12:00:00\", \"2020-08-21T13:00:00\", \"2020-08-21T20:00:00\", \"2020-08-21T21:00:00\", \"2020-08-22T13:00:00\", \"2020-08-22T20:00:00\", \"2020-08-24T12:00:00\", \"2020-08-24T21:00:00\", \"2020-08-25T12:00:00\", \"2020-08-25T20:00:00\", \"2020-08-26T12:00:00\", \"2020-08-26T20:00:00\", \"2020-08-27T12:00:00\", \"2020-08-27T20:00:00\", \"2020-08-28T13:00:00\", \"2020-08-28T19:00:00\", \"2020-08-29T12:00:00\", \"2020-08-31T12:00:00\", \"2020-09-01T12:00:00\", \"2020-09-03T11:00:00\", \"2020-09-03T20:00:00\", \"2020-09-04T11:00:00\", \"2020-09-04T20:00:00\", \"2020-09-05T12:00:00\", \"2020-09-05T19:00:00\", \"2020-09-07T13:00:00\", \"2020-09-07T20:00:00\", \"2020-09-08T12:00:00\"], \"xaxis\": \"x6\", \"y\": [-0.012000000104308128, -0.012000000104308128, -0.012000000104308128, -0.012000000104308128, -0.012000000104308128, -0.012000000104308128, -0.012000000104308128, -0.012000000104308128, -0.012000000104308128, -0.012000000104308128, -0.012000000104308128, -0.012000000104308128, -0.012000000104308128, -0.00800000037997961, -0.00800000037997961, -0.00800000037997961, -0.00800000037997961, -0.00800000037997961, -0.00800000037997961, -0.00800000037997961, -0.00800000037997961, -0.00800000037997961, -0.00800000037997961, -0.00800000037997961, -0.00800000037997961, -0.00800000037997961, -0.010999999940395355, -0.010999999940395355, -0.010999999940395355, -0.010999999940395355, -0.010999999940395355, -0.010999999940395355, -0.010999999940395355, -0.012000000104308128, -0.012000000104308128, -0.012000000104308128, -0.012000000104308128, -0.012000000104308128, -0.012000000104308128], \"yaxis\": \"y6\"}, {\"line\": {\"color\": \"#33C2FF\"}, \"mode\": \"lines\", \"name\": \"Mean 37660 Offset Dim M\", \"type\": \"scatter\", \"x\": [\"2020-08-14T21:00:00\", \"2020-08-15T12:00:00\", \"2020-08-15T19:00:00\", \"2020-08-17T12:00:00\", \"2020-08-17T20:00:00\", \"2020-08-18T13:00:00\", \"2020-08-18T20:00:00\", \"2020-08-19T12:00:00\", \"2020-08-19T20:00:00\", \"2020-08-20T13:00:00\", \"2020-08-20T20:00:00\", \"2020-08-21T12:00:00\", \"2020-08-21T13:00:00\", \"2020-08-21T20:00:00\", \"2020-08-21T21:00:00\", \"2020-08-22T13:00:00\", \"2020-08-22T20:00:00\", \"2020-08-24T12:00:00\", \"2020-08-24T21:00:00\", \"2020-08-25T12:00:00\", \"2020-08-25T20:00:00\", \"2020-08-26T12:00:00\", \"2020-08-26T20:00:00\", \"2020-08-27T12:00:00\", \"2020-08-27T20:00:00\", \"2020-08-28T13:00:00\", \"2020-08-28T19:00:00\", \"2020-08-29T12:00:00\", \"2020-08-31T12:00:00\", \"2020-09-01T12:00:00\", \"2020-09-03T11:00:00\", \"2020-09-03T20:00:00\", \"2020-09-04T11:00:00\", \"2020-09-04T20:00:00\", \"2020-09-05T12:00:00\", \"2020-09-05T19:00:00\", \"2020-09-07T13:00:00\", \"2020-09-07T20:00:00\", \"2020-09-08T12:00:00\"], \"xaxis\": \"x6\", \"y\": [0.017999999225139618, 0.017999999225139618, 0.017999999225139618, 0.017999999225139618, 0.017999999225139618, 0.017999999225139618, 0.017999999225139618, 0.017999999225139618, 0.017999999225139618, 0.017999999225139618, 0.017999999225139618, 0.017999999225139618, 0.017999999225139618, 0.019999999552965164, 0.019999999552965164, 0.019999999552965164, 0.019999999552965164, 0.019999999552965164, 0.019999999552965164, 0.019999999552965164, 0.019999999552965164, 0.019999999552965164, 0.019999999552965164, 0.019999999552965164, 0.019999999552965164, 0.019999999552965164, 0.01600000075995922, 0.01600000075995922, 0.01600000075995922, 0.01600000075995922, 0.01600000075995922, 0.01600000075995922, 0.01600000075995922, 0.017000000923871994, 0.017000000923871994, 0.017000000923871994, 0.017000000923871994, 0.017000000923871994, 0.017000000923871994], \"yaxis\": \"y6\"}, {\"line\": {\"color\": \"#4280F5\"}, \"mode\": \"lines+markers\", \"name\": \"mean 38660  \\u0110\\u1ed9 s\\u00e2u foil \", \"type\": \"scatter\", \"x\": [\"2020-08-15T12:00:00\", \"2020-08-15T19:00:00\", \"2020-08-17T12:00:00\", \"2020-08-17T20:00:00\", \"2020-08-20T12:00:00\", \"2020-08-20T13:00:00\", \"2020-08-20T20:00:00\", \"2020-08-21T12:00:00\", \"2020-08-21T13:00:00\", \"2020-08-21T21:00:00\", \"2020-08-22T12:00:00\", \"2020-08-22T13:00:00\", \"2020-08-22T20:00:00\", \"2020-08-24T12:00:00\", \"2020-08-25T20:00:00\", \"2020-08-26T12:00:00\", \"2020-08-26T20:00:00\", \"2020-08-27T12:00:00\", \"2020-08-27T20:00:00\", \"2020-08-28T13:00:00\", \"2020-08-28T19:00:00\", \"2020-08-29T11:00:00\", \"2020-08-29T19:00:00\", \"2020-08-31T12:00:00\", \"2020-08-31T19:00:00\", \"2020-09-01T20:00:00\", \"2020-09-03T11:00:00\", \"2020-09-03T20:00:00\", \"2020-09-04T11:00:00\", \"2020-09-04T20:00:00\", \"2020-09-04T21:00:00\", \"2020-09-05T11:00:00\", \"2020-09-05T12:00:00\", \"2020-09-05T19:00:00\", \"2020-09-07T12:00:00\", \"2020-09-07T20:00:00\", \"2020-09-08T12:00:00\", \"2020-09-08T20:00:00\"], \"xaxis\": \"x7\", \"y\": [0.14339999854564667, 0.14114999771118164, 0.14444999396800995, 0.13985000550746918, 0.14037500321865082, 0.14166666567325592, 0.15129999816417694, 0.15062500536441803, 0.14949999749660492, 0.14464999735355377, 0.13699999451637268, 0.148578941822052, 0.15070000290870667, 0.15004999935626984, 0.14399999380111694, 0.1509000062942505, 0.1451999992132187, 0.14755000174045563, 0.14634999632835388, 0.1514499932527542, 0.14309999346733093, 0.1449500024318695, 0.1467999964952469, 0.14624999463558197, 0.14714999496936798, 0.1457500010728836, 0.1449500024318695, 0.14959999918937683, 0.13989999890327454, 0.14350000023841858, 0.14524999260902405, 0.1354999989271164, 0.13733333349227905, 0.14194999635219574, 0.14214999973773956, 0.13735000789165497, 0.14630000293254852, 0.1424500048160553], \"yaxis\": \"y7\"}, {\"line\": {\"color\": \"#FF5733\"}, \"mode\": \"lines\", \"name\": \"USL 38660  \\u0110\\u1ed9 s\\u00e2u foil \", \"type\": \"scatter\", \"x\": [\"2020-08-15T12:00:00\", \"2020-08-15T19:00:00\", \"2020-08-17T12:00:00\", \"2020-08-17T20:00:00\", \"2020-08-20T12:00:00\", \"2020-08-20T13:00:00\", \"2020-08-20T20:00:00\", \"2020-08-21T12:00:00\", \"2020-08-21T13:00:00\", \"2020-08-21T21:00:00\", \"2020-08-22T12:00:00\", \"2020-08-22T13:00:00\", \"2020-08-22T20:00:00\", \"2020-08-24T12:00:00\", \"2020-08-25T20:00:00\", \"2020-08-26T12:00:00\", \"2020-08-26T20:00:00\", \"2020-08-27T12:00:00\", \"2020-08-27T20:00:00\", \"2020-08-28T13:00:00\", \"2020-08-28T19:00:00\", \"2020-08-29T11:00:00\", \"2020-08-29T19:00:00\", \"2020-08-31T12:00:00\", \"2020-08-31T19:00:00\", \"2020-09-01T20:00:00\", \"2020-09-03T11:00:00\", \"2020-09-03T20:00:00\", \"2020-09-04T11:00:00\", \"2020-09-04T20:00:00\", \"2020-09-04T21:00:00\", \"2020-09-05T11:00:00\", \"2020-09-05T12:00:00\", \"2020-09-05T19:00:00\", \"2020-09-07T12:00:00\", \"2020-09-07T20:00:00\", \"2020-09-08T12:00:00\", \"2020-09-08T20:00:00\"], \"xaxis\": \"x7\", \"y\": [0.1599999964237213, 0.1599999964237213, 0.1599999964237213, 0.1599999964237213, 0.1599999964237213, 0.1599999964237213, 0.1599999964237213, 0.1599999964237213, 0.1599999964237213, 0.1599999964237213, 0.1599999964237213, 0.1599999964237213, 0.1599999964237213, 0.1599999964237213, 0.1599999964237213, 0.1599999964237213, 0.1599999964237213, 0.1599999964237213, 0.1599999964237213, 0.1599999964237213, 0.1599999964237213, 0.1599999964237213, 0.1599999964237213, 0.1599999964237213, 0.1599999964237213, 0.1599999964237213, 0.1599999964237213, 0.1599999964237213, 0.1599999964237213, 0.1599999964237213, 0.1599999964237213, 0.1599999964237213, 0.1599999964237213, 0.1599999964237213, 0.1599999964237213, 0.1599999964237213, 0.1599999964237213, 0.1599999964237213], \"yaxis\": \"y7\"}, {\"line\": {\"color\": \"#FF5733\"}, \"mode\": \"lines\", \"name\": \"LSL 38660  \\u0110\\u1ed9 s\\u00e2u foil \", \"type\": \"scatter\", \"x\": [\"2020-08-15T12:00:00\", \"2020-08-15T19:00:00\", \"2020-08-17T12:00:00\", \"2020-08-17T20:00:00\", \"2020-08-20T12:00:00\", \"2020-08-20T13:00:00\", \"2020-08-20T20:00:00\", \"2020-08-21T12:00:00\", \"2020-08-21T13:00:00\", \"2020-08-21T21:00:00\", \"2020-08-22T12:00:00\", \"2020-08-22T13:00:00\", \"2020-08-22T20:00:00\", \"2020-08-24T12:00:00\", \"2020-08-25T20:00:00\", \"2020-08-26T12:00:00\", \"2020-08-26T20:00:00\", \"2020-08-27T12:00:00\", \"2020-08-27T20:00:00\", \"2020-08-28T13:00:00\", \"2020-08-28T19:00:00\", \"2020-08-29T11:00:00\", \"2020-08-29T19:00:00\", \"2020-08-31T12:00:00\", \"2020-08-31T19:00:00\", \"2020-09-01T20:00:00\", \"2020-09-03T11:00:00\", \"2020-09-03T20:00:00\", \"2020-09-04T11:00:00\", \"2020-09-04T20:00:00\", \"2020-09-04T21:00:00\", \"2020-09-05T11:00:00\", \"2020-09-05T12:00:00\", \"2020-09-05T19:00:00\", \"2020-09-07T12:00:00\", \"2020-09-07T20:00:00\", \"2020-09-08T12:00:00\", \"2020-09-08T20:00:00\"], \"xaxis\": \"x7\", \"y\": [0.14000000059604645, 0.14000000059604645, 0.14000000059604645, 0.14000000059604645, 0.14000000059604645, 0.14000000059604645, 0.14000000059604645, 0.14000000059604645, 0.14000000059604645, 0.14000000059604645, 0.14000000059604645, 0.14000000059604645, 0.14000000059604645, 0.14000000059604645, 0.14000000059604645, 0.14000000059604645, 0.14000000059604645, 0.14000000059604645, 0.14000000059604645, 0.14000000059604645, 0.14000000059604645, 0.14000000059604645, 0.14000000059604645, 0.14000000059604645, 0.14000000059604645, 0.14000000059604645, 0.14000000059604645, 0.14000000059604645, 0.14000000059604645, 0.14000000059604645, 0.14000000059604645, 0.14000000059604645, 0.14000000059604645, 0.14000000059604645, 0.14000000059604645, 0.14000000059604645, 0.14000000059604645, 0.14000000059604645], \"yaxis\": \"y7\"}, {\"line\": {\"color\": \"#33C2FF\"}, \"mode\": \"lines\", \"name\": \"UCL 38660  \\u0110\\u1ed9 s\\u00e2u foil \", \"type\": \"scatter\", \"x\": [\"2020-08-15T12:00:00\", \"2020-08-15T19:00:00\", \"2020-08-17T12:00:00\", \"2020-08-17T20:00:00\", \"2020-08-20T12:00:00\", \"2020-08-20T13:00:00\", \"2020-08-20T20:00:00\", \"2020-08-21T12:00:00\", \"2020-08-21T13:00:00\", \"2020-08-21T21:00:00\", \"2020-08-22T12:00:00\", \"2020-08-22T13:00:00\", \"2020-08-22T20:00:00\", \"2020-08-24T12:00:00\", \"2020-08-25T20:00:00\", \"2020-08-26T12:00:00\", \"2020-08-26T20:00:00\", \"2020-08-27T12:00:00\", \"2020-08-27T20:00:00\", \"2020-08-28T13:00:00\", \"2020-08-28T19:00:00\", \"2020-08-29T11:00:00\", \"2020-08-29T19:00:00\", \"2020-08-31T12:00:00\", \"2020-08-31T19:00:00\", \"2020-09-01T20:00:00\", \"2020-09-03T11:00:00\", \"2020-09-03T20:00:00\", \"2020-09-04T11:00:00\", \"2020-09-04T20:00:00\", \"2020-09-04T21:00:00\", \"2020-09-05T11:00:00\", \"2020-09-05T12:00:00\", \"2020-09-05T19:00:00\", \"2020-09-07T12:00:00\", \"2020-09-07T20:00:00\", \"2020-09-08T12:00:00\", \"2020-09-08T20:00:00\"], \"xaxis\": \"x7\", \"y\": [0.16500000655651093, 0.16500000655651093, 0.16500000655651093, 0.16500000655651093, 0.16500000655651093, 0.16500000655651093, 0.16500000655651093, 0.16500000655651093, 0.16500000655651093, 0.16300000250339508, 0.16300000250339508, 0.16300000250339508, 0.16300000250339508, 0.16300000250339508, 0.16300000250339508, 0.16300000250339508, 0.16300000250339508, 0.16300000250339508, 0.16300000250339508, 0.16300000250339508, 0.16200000047683716, 0.16200000047683716, 0.16200000047683716, 0.16200000047683716, 0.16200000047683716, 0.16200000047683716, 0.16200000047683716, 0.16200000047683716, 0.16200000047683716, 0.1589999943971634, 0.1589999943971634, 0.1589999943971634, 0.1589999943971634, 0.1589999943971634, 0.1589999943971634, 0.1589999943971634, 0.1589999943971634, 0.1589999943971634], \"yaxis\": \"y7\"}, {\"line\": {\"color\": \"#33C2FF\"}, \"mode\": \"lines\", \"name\": \"LCL 38660  \\u0110\\u1ed9 s\\u00e2u foil \", \"type\": \"scatter\", \"x\": [\"2020-08-15T12:00:00\", \"2020-08-15T19:00:00\", \"2020-08-17T12:00:00\", \"2020-08-17T20:00:00\", \"2020-08-20T12:00:00\", \"2020-08-20T13:00:00\", \"2020-08-20T20:00:00\", \"2020-08-21T12:00:00\", \"2020-08-21T13:00:00\", \"2020-08-21T21:00:00\", \"2020-08-22T12:00:00\", \"2020-08-22T13:00:00\", \"2020-08-22T20:00:00\", \"2020-08-24T12:00:00\", \"2020-08-25T20:00:00\", \"2020-08-26T12:00:00\", \"2020-08-26T20:00:00\", \"2020-08-27T12:00:00\", \"2020-08-27T20:00:00\", \"2020-08-28T13:00:00\", \"2020-08-28T19:00:00\", \"2020-08-29T11:00:00\", \"2020-08-29T19:00:00\", \"2020-08-31T12:00:00\", \"2020-08-31T19:00:00\", \"2020-09-01T20:00:00\", \"2020-09-03T11:00:00\", \"2020-09-03T20:00:00\", \"2020-09-04T11:00:00\", \"2020-09-04T20:00:00\", \"2020-09-04T21:00:00\", \"2020-09-05T11:00:00\", \"2020-09-05T12:00:00\", \"2020-09-05T19:00:00\", \"2020-09-07T12:00:00\", \"2020-09-07T20:00:00\", \"2020-09-08T12:00:00\", \"2020-09-08T20:00:00\"], \"xaxis\": \"x7\", \"y\": [0.12399999797344208, 0.12399999797344208, 0.12399999797344208, 0.12399999797344208, 0.12399999797344208, 0.12399999797344208, 0.12399999797344208, 0.12399999797344208, 0.12399999797344208, 0.13199999928474426, 0.13199999928474426, 0.13199999928474426, 0.13199999928474426, 0.13199999928474426, 0.13199999928474426, 0.13199999928474426, 0.13199999928474426, 0.13199999928474426, 0.13199999928474426, 0.13199999928474426, 0.12800000607967377, 0.12800000607967377, 0.12800000607967377, 0.12800000607967377, 0.12800000607967377, 0.12800000607967377, 0.12800000607967377, 0.12800000607967377, 0.12800000607967377, 0.12399999797344208, 0.12399999797344208, 0.12399999797344208, 0.12399999797344208, 0.12399999797344208, 0.12399999797344208, 0.12399999797344208, 0.12399999797344208, 0.12399999797344208], \"yaxis\": \"y7\"}, {\"line\": {\"color\": \"#33C2FF\"}, \"mode\": \"lines\", \"name\": \"Mean 38660  \\u0110\\u1ed9 s\\u00e2u foil \", \"type\": \"scatter\", \"x\": [\"2020-08-15T12:00:00\", \"2020-08-15T19:00:00\", \"2020-08-17T12:00:00\", \"2020-08-17T20:00:00\", \"2020-08-20T12:00:00\", \"2020-08-20T13:00:00\", \"2020-08-20T20:00:00\", \"2020-08-21T12:00:00\", \"2020-08-21T13:00:00\", \"2020-08-21T21:00:00\", \"2020-08-22T12:00:00\", \"2020-08-22T13:00:00\", \"2020-08-22T20:00:00\", \"2020-08-24T12:00:00\", \"2020-08-25T20:00:00\", \"2020-08-26T12:00:00\", \"2020-08-26T20:00:00\", \"2020-08-27T12:00:00\", \"2020-08-27T20:00:00\", \"2020-08-28T13:00:00\", \"2020-08-28T19:00:00\", \"2020-08-29T11:00:00\", \"2020-08-29T19:00:00\", \"2020-08-31T12:00:00\", \"2020-08-31T19:00:00\", \"2020-09-01T20:00:00\", \"2020-09-03T11:00:00\", \"2020-09-03T20:00:00\", \"2020-09-04T11:00:00\", \"2020-09-04T20:00:00\", \"2020-09-04T21:00:00\", \"2020-09-05T11:00:00\", \"2020-09-05T12:00:00\", \"2020-09-05T19:00:00\", \"2020-09-07T12:00:00\", \"2020-09-07T20:00:00\", \"2020-09-08T12:00:00\", \"2020-09-08T20:00:00\"], \"xaxis\": \"x7\", \"y\": [0.14399999380111694, 0.14399999380111694, 0.14399999380111694, 0.14399999380111694, 0.14399999380111694, 0.14399999380111694, 0.14399999380111694, 0.14399999380111694, 0.14399999380111694, 0.14800000190734863, 0.14800000190734863, 0.14800000190734863, 0.14800000190734863, 0.14800000190734863, 0.14800000190734863, 0.14800000190734863, 0.14800000190734863, 0.14800000190734863, 0.14800000190734863, 0.14800000190734863, 0.14499999582767487, 0.14499999582767487, 0.14499999582767487, 0.14499999582767487, 0.14499999582767487, 0.14499999582767487, 0.14499999582767487, 0.14499999582767487, 0.14499999582767487, 0.1420000046491623, 0.1420000046491623, 0.1420000046491623, 0.1420000046491623, 0.1420000046491623, 0.1420000046491623, 0.1420000046491623, 0.1420000046491623, 0.1420000046491623], \"yaxis\": \"y7\"}, {\"line\": {\"color\": \"#4280F5\"}, \"mode\": \"lines+markers\", \"name\": \"mean 38660 Offset Dim M\", \"type\": \"scatter\", \"x\": [\"2020-08-15T12:00:00\", \"2020-08-15T19:00:00\", \"2020-08-17T12:00:00\", \"2020-08-17T20:00:00\", \"2020-08-20T13:00:00\", \"2020-08-20T20:00:00\", \"2020-08-21T13:00:00\", \"2020-08-21T21:00:00\", \"2020-08-22T13:00:00\", \"2020-08-22T20:00:00\", \"2020-08-24T12:00:00\", \"2020-08-25T20:00:00\", \"2020-08-26T12:00:00\", \"2020-08-26T20:00:00\", \"2020-08-27T12:00:00\", \"2020-08-27T20:00:00\", \"2020-08-28T13:00:00\", \"2020-08-28T19:00:00\", \"2020-08-29T11:00:00\", \"2020-08-29T19:00:00\", \"2020-08-31T12:00:00\", \"2020-08-31T19:00:00\", \"2020-09-01T20:00:00\", \"2020-09-03T11:00:00\", \"2020-09-03T20:00:00\", \"2020-09-04T11:00:00\", \"2020-09-04T21:00:00\", \"2020-09-05T12:00:00\", \"2020-09-05T19:00:00\", \"2020-09-07T12:00:00\", \"2020-09-07T20:00:00\", \"2020-09-08T12:00:00\", \"2020-09-08T20:00:00\"], \"xaxis\": \"x8\", \"y\": [0.016750000417232513, 0.01341666653752327, 0.022166667506098747, 0.01600000075995922, 0.01850000023841858, 0.016583332791924477, 0.017750000581145287, 0.018333332613110542, 0.012083333916962147, 0.018333332613110542, 0.016583332791924477, 0.011916667222976685, 0.01808333396911621, 0.02524999901652336, 0.016333334147930145, 0.018000001087784767, 0.018333332613110542, 0.01966666616499424, 0.021583333611488342, 0.03966666758060455, 0.016750000417232513, 0.012416666373610497, 0.017500000074505806, 0.027000000700354576, 0.017999999225139618, 0.01924999989569187, 0.015416666865348816, 0.020999999716877937, 0.019333332777023315, 0.01808333396911621, 0.019833333790302277, 0.0169166661798954, 0.010999999940395355], \"yaxis\": \"y8\"}, {\"line\": {\"color\": \"#FF5733\"}, \"mode\": \"lines\", \"name\": \"USL 38660 Offset Dim M\", \"type\": \"scatter\", \"x\": [\"2020-08-15T12:00:00\", \"2020-08-15T19:00:00\", \"2020-08-17T12:00:00\", \"2020-08-17T20:00:00\", \"2020-08-20T13:00:00\", \"2020-08-20T20:00:00\", \"2020-08-21T13:00:00\", \"2020-08-21T21:00:00\", \"2020-08-22T13:00:00\", \"2020-08-22T20:00:00\", \"2020-08-24T12:00:00\", \"2020-08-25T20:00:00\", \"2020-08-26T12:00:00\", \"2020-08-26T20:00:00\", \"2020-08-27T12:00:00\", \"2020-08-27T20:00:00\", \"2020-08-28T13:00:00\", \"2020-08-28T19:00:00\", \"2020-08-29T11:00:00\", \"2020-08-29T19:00:00\", \"2020-08-31T12:00:00\", \"2020-08-31T19:00:00\", \"2020-09-01T20:00:00\", \"2020-09-03T11:00:00\", \"2020-09-03T20:00:00\", \"2020-09-04T11:00:00\", \"2020-09-04T21:00:00\", \"2020-09-05T12:00:00\", \"2020-09-05T19:00:00\", \"2020-09-07T12:00:00\", \"2020-09-07T20:00:00\", \"2020-09-08T12:00:00\", \"2020-09-08T20:00:00\"], \"xaxis\": \"x8\", \"y\": [0.05000000074505806, 0.05000000074505806, 0.05000000074505806, 0.05000000074505806, 0.05000000074505806, 0.05000000074505806, 0.05000000074505806, 0.05000000074505806, 0.05000000074505806, 0.05000000074505806, 0.05000000074505806, 0.05000000074505806, 0.05000000074505806, 0.05000000074505806, 0.05000000074505806, 0.05000000074505806, 0.05000000074505806, 0.05000000074505806, 0.05000000074505806, 0.05000000074505806, 0.05000000074505806, 0.05000000074505806, 0.05000000074505806, 0.05000000074505806, 0.05000000074505806, 0.05000000074505806, 0.05000000074505806, 0.05000000074505806, 0.05000000074505806, 0.05000000074505806, 0.05000000074505806, 0.05000000074505806, 0.05000000074505806], \"yaxis\": \"y8\"}, {\"line\": {\"color\": \"#FF5733\"}, \"mode\": \"lines\", \"name\": \"LSL 38660 Offset Dim M\", \"type\": \"scatter\", \"x\": [\"2020-08-15T12:00:00\", \"2020-08-15T19:00:00\", \"2020-08-17T12:00:00\", \"2020-08-17T20:00:00\", \"2020-08-20T13:00:00\", \"2020-08-20T20:00:00\", \"2020-08-21T13:00:00\", \"2020-08-21T21:00:00\", \"2020-08-22T13:00:00\", \"2020-08-22T20:00:00\", \"2020-08-24T12:00:00\", \"2020-08-25T20:00:00\", \"2020-08-26T12:00:00\", \"2020-08-26T20:00:00\", \"2020-08-27T12:00:00\", \"2020-08-27T20:00:00\", \"2020-08-28T13:00:00\", \"2020-08-28T19:00:00\", \"2020-08-29T11:00:00\", \"2020-08-29T19:00:00\", \"2020-08-31T12:00:00\", \"2020-08-31T19:00:00\", \"2020-09-01T20:00:00\", \"2020-09-03T11:00:00\", \"2020-09-03T20:00:00\", \"2020-09-04T11:00:00\", \"2020-09-04T21:00:00\", \"2020-09-05T12:00:00\", \"2020-09-05T19:00:00\", \"2020-09-07T12:00:00\", \"2020-09-07T20:00:00\", \"2020-09-08T12:00:00\", \"2020-09-08T20:00:00\"], \"xaxis\": \"x8\", \"y\": [null, null, null, null, null, null, null, null, null, null, null, null, null, null, null, null, null, null, null, null, null, null, null, null, null, null, null, null, null, null, null, null, null], \"yaxis\": \"y8\"}, {\"line\": {\"color\": \"#33C2FF\"}, \"mode\": \"lines\", \"name\": \"UCL 38660 Offset Dim M\", \"type\": \"scatter\", \"x\": [\"2020-08-15T12:00:00\", \"2020-08-15T19:00:00\", \"2020-08-17T12:00:00\", \"2020-08-17T20:00:00\", \"2020-08-20T13:00:00\", \"2020-08-20T20:00:00\", \"2020-08-21T13:00:00\", \"2020-08-21T21:00:00\", \"2020-08-22T13:00:00\", \"2020-08-22T20:00:00\", \"2020-08-24T12:00:00\", \"2020-08-25T20:00:00\", \"2020-08-26T12:00:00\", \"2020-08-26T20:00:00\", \"2020-08-27T12:00:00\", \"2020-08-27T20:00:00\", \"2020-08-28T13:00:00\", \"2020-08-28T19:00:00\", \"2020-08-29T11:00:00\", \"2020-08-29T19:00:00\", \"2020-08-31T12:00:00\", \"2020-08-31T19:00:00\", \"2020-09-01T20:00:00\", \"2020-09-03T11:00:00\", \"2020-09-03T20:00:00\", \"2020-09-04T11:00:00\", \"2020-09-04T21:00:00\", \"2020-09-05T12:00:00\", \"2020-09-05T19:00:00\", \"2020-09-07T12:00:00\", \"2020-09-07T20:00:00\", \"2020-09-08T12:00:00\", \"2020-09-08T20:00:00\"], \"xaxis\": \"x8\", \"y\": [0.04399999976158142, 0.04399999976158142, 0.04399999976158142, 0.04399999976158142, 0.04399999976158142, 0.04399999976158142, 0.04399999976158142, 0.04399999976158142, 0.04399999976158142, 0.04399999976158142, 0.04399999976158142, 0.04399999976158142, 0.04399999976158142, 0.04399999976158142, 0.04399999976158142, 0.04399999976158142, 0.04399999976158142, 0.05700000002980232, 0.05700000002980232, 0.05700000002980232, 0.05700000002980232, 0.05700000002980232, 0.05700000002980232, 0.05700000002980232, 0.05700000002980232, 0.05700000002980232, 0.04600000008940697, 0.04600000008940697, 0.04600000008940697, 0.04600000008940697, 0.04600000008940697, 0.04600000008940697, 0.04600000008940697], \"yaxis\": \"y8\"}, {\"line\": {\"color\": \"#33C2FF\"}, \"mode\": \"lines\", \"name\": \"LCL 38660 Offset Dim M\", \"type\": \"scatter\", \"x\": [\"2020-08-15T12:00:00\", \"2020-08-15T19:00:00\", \"2020-08-17T12:00:00\", \"2020-08-17T20:00:00\", \"2020-08-20T13:00:00\", \"2020-08-20T20:00:00\", \"2020-08-21T13:00:00\", \"2020-08-21T21:00:00\", \"2020-08-22T13:00:00\", \"2020-08-22T20:00:00\", \"2020-08-24T12:00:00\", \"2020-08-25T20:00:00\", \"2020-08-26T12:00:00\", \"2020-08-26T20:00:00\", \"2020-08-27T12:00:00\", \"2020-08-27T20:00:00\", \"2020-08-28T13:00:00\", \"2020-08-28T19:00:00\", \"2020-08-29T11:00:00\", \"2020-08-29T19:00:00\", \"2020-08-31T12:00:00\", \"2020-08-31T19:00:00\", \"2020-09-01T20:00:00\", \"2020-09-03T11:00:00\", \"2020-09-03T20:00:00\", \"2020-09-04T11:00:00\", \"2020-09-04T21:00:00\", \"2020-09-05T12:00:00\", \"2020-09-05T19:00:00\", \"2020-09-07T12:00:00\", \"2020-09-07T20:00:00\", \"2020-09-08T12:00:00\", \"2020-09-08T20:00:00\"], \"xaxis\": \"x8\", \"y\": [-0.008999999612569809, -0.008999999612569809, -0.008999999612569809, -0.008999999612569809, -0.008999999612569809, -0.008999999612569809, -0.008999999612569809, -0.009999999776482582, -0.009999999776482582, -0.009999999776482582, -0.009999999776482582, -0.009999999776482582, -0.009999999776482582, -0.009999999776482582, -0.009999999776482582, -0.009999999776482582, -0.009999999776482582, -0.014999999664723873, -0.014999999664723873, -0.014999999664723873, -0.014999999664723873, -0.014999999664723873, -0.014999999664723873, -0.014999999664723873, -0.014999999664723873, -0.014999999664723873, -0.010999999940395355, -0.010999999940395355, -0.010999999940395355, -0.010999999940395355, -0.010999999940395355, -0.010999999940395355, -0.010999999940395355], \"yaxis\": \"y8\"}, {\"line\": {\"color\": \"#33C2FF\"}, \"mode\": \"lines\", \"name\": \"Mean 38660 Offset Dim M\", \"type\": \"scatter\", \"x\": [\"2020-08-15T12:00:00\", \"2020-08-15T19:00:00\", \"2020-08-17T12:00:00\", \"2020-08-17T20:00:00\", \"2020-08-20T13:00:00\", \"2020-08-20T20:00:00\", \"2020-08-21T13:00:00\", \"2020-08-21T21:00:00\", \"2020-08-22T13:00:00\", \"2020-08-22T20:00:00\", \"2020-08-24T12:00:00\", \"2020-08-25T20:00:00\", \"2020-08-26T12:00:00\", \"2020-08-26T20:00:00\", \"2020-08-27T12:00:00\", \"2020-08-27T20:00:00\", \"2020-08-28T13:00:00\", \"2020-08-28T19:00:00\", \"2020-08-29T11:00:00\", \"2020-08-29T19:00:00\", \"2020-08-31T12:00:00\", \"2020-08-31T19:00:00\", \"2020-09-01T20:00:00\", \"2020-09-03T11:00:00\", \"2020-09-03T20:00:00\", \"2020-09-04T11:00:00\", \"2020-09-04T21:00:00\", \"2020-09-05T12:00:00\", \"2020-09-05T19:00:00\", \"2020-09-07T12:00:00\", \"2020-09-07T20:00:00\", \"2020-09-08T12:00:00\", \"2020-09-08T20:00:00\"], \"xaxis\": \"x8\", \"y\": [0.017000000923871994, 0.017000000923871994, 0.017000000923871994, 0.017000000923871994, 0.017000000923871994, 0.017000000923871994, 0.017000000923871994, 0.017000000923871994, 0.017000000923871994, 0.017000000923871994, 0.017000000923871994, 0.017000000923871994, 0.017000000923871994, 0.017000000923871994, 0.017000000923871994, 0.017000000923871994, 0.017000000923871994, 0.020999999716877937, 0.020999999716877937, 0.020999999716877937, 0.020999999716877937, 0.020999999716877937, 0.020999999716877937, 0.020999999716877937, 0.020999999716877937, 0.020999999716877937, 0.017000000923871994, 0.017000000923871994, 0.017000000923871994, 0.017000000923871994, 0.017000000923871994, 0.017000000923871994, 0.017000000923871994], \"yaxis\": \"y8\"}],\n",
              "                        {\"annotations\": [{\"font\": {\"size\": 16}, \"showarrow\": false, \"text\": \"30660 \\u0110\\u1ed9 s\\u00e2u foil \", \"x\": 0.5, \"xanchor\": \"center\", \"xref\": \"paper\", \"y\": 1.0, \"yanchor\": \"bottom\", \"yref\": \"paper\"}, {\"font\": {\"size\": 16}, \"showarrow\": false, \"text\": \"30660 Offset Dim M\", \"x\": 0.5, \"xanchor\": \"center\", \"xref\": \"paper\", \"y\": 0.8671875, \"yanchor\": \"bottom\", \"yref\": \"paper\"}, {\"font\": {\"size\": 16}, \"showarrow\": false, \"text\": \"37660 _3500T \\u0110\\u1ed9 s\\u00e2u foil \", \"x\": 0.5, \"xanchor\": \"center\", \"xref\": \"paper\", \"y\": 0.734375, \"yanchor\": \"bottom\", \"yref\": \"paper\"}, {\"font\": {\"size\": 16}, \"showarrow\": false, \"text\": \"37660 _3500T Offset Dim M\", \"x\": 0.5, \"xanchor\": \"center\", \"xref\": \"paper\", \"y\": 0.6015625, \"yanchor\": \"bottom\", \"yref\": \"paper\"}, {\"font\": {\"size\": 16}, \"showarrow\": false, \"text\": \"37660  \\u0110\\u1ed9 s\\u00e2u foil \", \"x\": 0.5, \"xanchor\": \"center\", \"xref\": \"paper\", \"y\": 0.46875, \"yanchor\": \"bottom\", \"yref\": \"paper\"}, {\"font\": {\"size\": 16}, \"showarrow\": false, \"text\": \"37660 Offset Dim M\", \"x\": 0.5, \"xanchor\": \"center\", \"xref\": \"paper\", \"y\": 0.3359375, \"yanchor\": \"bottom\", \"yref\": \"paper\"}, {\"font\": {\"size\": 16}, \"showarrow\": false, \"text\": \"38660  \\u0110\\u1ed9 s\\u00e2u foil \", \"x\": 0.5, \"xanchor\": \"center\", \"xref\": \"paper\", \"y\": 0.203125, \"yanchor\": \"bottom\", \"yref\": \"paper\"}, {\"font\": {\"size\": 16}, \"showarrow\": false, \"text\": \"38660 Offset Dim M\", \"x\": 0.5, \"xanchor\": \"center\", \"xref\": \"paper\", \"y\": 0.0703125, \"yanchor\": \"bottom\", \"yref\": \"paper\"}], \"height\": 1600, \"template\": {\"data\": {\"bar\": [{\"error_x\": {\"color\": \"#2a3f5f\"}, \"error_y\": {\"color\": \"#2a3f5f\"}, \"marker\": {\"line\": {\"color\": \"#E5ECF6\", \"width\": 0.5}}, \"type\": \"bar\"}], \"barpolar\": [{\"marker\": {\"line\": {\"color\": \"#E5ECF6\", \"width\": 0.5}}, \"type\": \"barpolar\"}], \"carpet\": [{\"aaxis\": {\"endlinecolor\": \"#2a3f5f\", \"gridcolor\": \"white\", \"linecolor\": \"white\", \"minorgridcolor\": \"white\", \"startlinecolor\": \"#2a3f5f\"}, \"baxis\": {\"endlinecolor\": \"#2a3f5f\", \"gridcolor\": \"white\", \"linecolor\": \"white\", \"minorgridcolor\": \"white\", \"startlinecolor\": \"#2a3f5f\"}, \"type\": \"carpet\"}], \"choropleth\": [{\"colorbar\": {\"outlinewidth\": 0, \"ticks\": \"\"}, \"type\": \"choropleth\"}], \"contour\": [{\"colorbar\": {\"outlinewidth\": 0, \"ticks\": \"\"}, \"colorscale\": [[0.0, \"#0d0887\"], [0.1111111111111111, \"#46039f\"], [0.2222222222222222, \"#7201a8\"], [0.3333333333333333, \"#9c179e\"], [0.4444444444444444, \"#bd3786\"], [0.5555555555555556, \"#d8576b\"], [0.6666666666666666, \"#ed7953\"], [0.7777777777777778, \"#fb9f3a\"], [0.8888888888888888, \"#fdca26\"], [1.0, \"#f0f921\"]], \"type\": \"contour\"}], \"contourcarpet\": [{\"colorbar\": {\"outlinewidth\": 0, \"ticks\": \"\"}, \"type\": \"contourcarpet\"}], \"heatmap\": [{\"colorbar\": {\"outlinewidth\": 0, \"ticks\": \"\"}, \"colorscale\": [[0.0, \"#0d0887\"], [0.1111111111111111, \"#46039f\"], [0.2222222222222222, \"#7201a8\"], [0.3333333333333333, \"#9c179e\"], [0.4444444444444444, \"#bd3786\"], [0.5555555555555556, \"#d8576b\"], [0.6666666666666666, \"#ed7953\"], [0.7777777777777778, \"#fb9f3a\"], [0.8888888888888888, \"#fdca26\"], [1.0, \"#f0f921\"]], \"type\": \"heatmap\"}], \"heatmapgl\": [{\"colorbar\": {\"outlinewidth\": 0, \"ticks\": \"\"}, \"colorscale\": [[0.0, \"#0d0887\"], [0.1111111111111111, \"#46039f\"], [0.2222222222222222, \"#7201a8\"], [0.3333333333333333, \"#9c179e\"], [0.4444444444444444, \"#bd3786\"], [0.5555555555555556, \"#d8576b\"], [0.6666666666666666, \"#ed7953\"], [0.7777777777777778, \"#fb9f3a\"], [0.8888888888888888, \"#fdca26\"], [1.0, \"#f0f921\"]], \"type\": \"heatmapgl\"}], \"histogram\": [{\"marker\": {\"colorbar\": {\"outlinewidth\": 0, \"ticks\": \"\"}}, \"type\": \"histogram\"}], \"histogram2d\": [{\"colorbar\": {\"outlinewidth\": 0, \"ticks\": \"\"}, \"colorscale\": [[0.0, \"#0d0887\"], [0.1111111111111111, \"#46039f\"], [0.2222222222222222, \"#7201a8\"], [0.3333333333333333, \"#9c179e\"], [0.4444444444444444, \"#bd3786\"], [0.5555555555555556, \"#d8576b\"], [0.6666666666666666, \"#ed7953\"], [0.7777777777777778, \"#fb9f3a\"], [0.8888888888888888, \"#fdca26\"], [1.0, \"#f0f921\"]], \"type\": \"histogram2d\"}], \"histogram2dcontour\": [{\"colorbar\": {\"outlinewidth\": 0, \"ticks\": \"\"}, \"colorscale\": [[0.0, \"#0d0887\"], [0.1111111111111111, \"#46039f\"], [0.2222222222222222, \"#7201a8\"], [0.3333333333333333, \"#9c179e\"], [0.4444444444444444, \"#bd3786\"], [0.5555555555555556, \"#d8576b\"], [0.6666666666666666, \"#ed7953\"], [0.7777777777777778, \"#fb9f3a\"], [0.8888888888888888, \"#fdca26\"], [1.0, \"#f0f921\"]], \"type\": \"histogram2dcontour\"}], \"mesh3d\": [{\"colorbar\": {\"outlinewidth\": 0, \"ticks\": \"\"}, \"type\": \"mesh3d\"}], \"parcoords\": [{\"line\": {\"colorbar\": {\"outlinewidth\": 0, \"ticks\": \"\"}}, \"type\": \"parcoords\"}], \"pie\": [{\"automargin\": true, \"type\": \"pie\"}], \"scatter\": [{\"marker\": {\"colorbar\": {\"outlinewidth\": 0, \"ticks\": \"\"}}, \"type\": \"scatter\"}], \"scatter3d\": [{\"line\": {\"colorbar\": {\"outlinewidth\": 0, \"ticks\": \"\"}}, \"marker\": {\"colorbar\": {\"outlinewidth\": 0, \"ticks\": \"\"}}, \"type\": \"scatter3d\"}], \"scattercarpet\": [{\"marker\": {\"colorbar\": {\"outlinewidth\": 0, \"ticks\": \"\"}}, \"type\": \"scattercarpet\"}], \"scattergeo\": [{\"marker\": {\"colorbar\": {\"outlinewidth\": 0, \"ticks\": \"\"}}, \"type\": \"scattergeo\"}], \"scattergl\": [{\"marker\": {\"colorbar\": {\"outlinewidth\": 0, \"ticks\": \"\"}}, \"type\": \"scattergl\"}], \"scattermapbox\": [{\"marker\": {\"colorbar\": {\"outlinewidth\": 0, \"ticks\": \"\"}}, \"type\": \"scattermapbox\"}], \"scatterpolar\": [{\"marker\": {\"colorbar\": {\"outlinewidth\": 0, \"ticks\": \"\"}}, \"type\": \"scatterpolar\"}], \"scatterpolargl\": [{\"marker\": {\"colorbar\": {\"outlinewidth\": 0, \"ticks\": \"\"}}, \"type\": \"scatterpolargl\"}], \"scatterternary\": [{\"marker\": {\"colorbar\": {\"outlinewidth\": 0, \"ticks\": \"\"}}, \"type\": \"scatterternary\"}], \"surface\": [{\"colorbar\": {\"outlinewidth\": 0, \"ticks\": \"\"}, \"colorscale\": [[0.0, \"#0d0887\"], [0.1111111111111111, \"#46039f\"], [0.2222222222222222, \"#7201a8\"], [0.3333333333333333, \"#9c179e\"], [0.4444444444444444, \"#bd3786\"], [0.5555555555555556, \"#d8576b\"], [0.6666666666666666, \"#ed7953\"], [0.7777777777777778, \"#fb9f3a\"], [0.8888888888888888, \"#fdca26\"], [1.0, \"#f0f921\"]], \"type\": \"surface\"}], \"table\": [{\"cells\": {\"fill\": {\"color\": \"#EBF0F8\"}, \"line\": {\"color\": \"white\"}}, \"header\": {\"fill\": {\"color\": \"#C8D4E3\"}, \"line\": {\"color\": \"white\"}}, \"type\": \"table\"}]}, \"layout\": {\"annotationdefaults\": {\"arrowcolor\": \"#2a3f5f\", \"arrowhead\": 0, \"arrowwidth\": 1}, \"coloraxis\": {\"colorbar\": {\"outlinewidth\": 0, \"ticks\": \"\"}}, \"colorscale\": {\"diverging\": [[0, \"#8e0152\"], [0.1, \"#c51b7d\"], [0.2, \"#de77ae\"], [0.3, \"#f1b6da\"], [0.4, \"#fde0ef\"], [0.5, \"#f7f7f7\"], [0.6, \"#e6f5d0\"], [0.7, \"#b8e186\"], [0.8, \"#7fbc41\"], [0.9, \"#4d9221\"], [1, \"#276419\"]], \"sequential\": [[0.0, \"#0d0887\"], [0.1111111111111111, \"#46039f\"], [0.2222222222222222, \"#7201a8\"], [0.3333333333333333, \"#9c179e\"], [0.4444444444444444, \"#bd3786\"], [0.5555555555555556, \"#d8576b\"], [0.6666666666666666, \"#ed7953\"], [0.7777777777777778, \"#fb9f3a\"], [0.8888888888888888, \"#fdca26\"], [1.0, \"#f0f921\"]], \"sequentialminus\": [[0.0, \"#0d0887\"], [0.1111111111111111, \"#46039f\"], [0.2222222222222222, \"#7201a8\"], [0.3333333333333333, \"#9c179e\"], [0.4444444444444444, \"#bd3786\"], [0.5555555555555556, \"#d8576b\"], [0.6666666666666666, \"#ed7953\"], [0.7777777777777778, \"#fb9f3a\"], [0.8888888888888888, \"#fdca26\"], [1.0, \"#f0f921\"]]}, \"colorway\": [\"#636efa\", \"#EF553B\", \"#00cc96\", \"#ab63fa\", \"#FFA15A\", \"#19d3f3\", \"#FF6692\", \"#B6E880\", \"#FF97FF\", \"#FECB52\"], \"font\": {\"color\": \"#2a3f5f\"}, \"geo\": {\"bgcolor\": \"white\", \"lakecolor\": \"white\", \"landcolor\": \"#E5ECF6\", \"showlakes\": true, \"showland\": true, \"subunitcolor\": \"white\"}, \"hoverlabel\": {\"align\": \"left\"}, \"hovermode\": \"closest\", \"mapbox\": {\"style\": \"light\"}, \"paper_bgcolor\": \"white\", \"plot_bgcolor\": \"#E5ECF6\", \"polar\": {\"angularaxis\": {\"gridcolor\": \"white\", \"linecolor\": \"white\", \"ticks\": \"\"}, \"bgcolor\": \"#E5ECF6\", \"radialaxis\": {\"gridcolor\": \"white\", \"linecolor\": \"white\", \"ticks\": \"\"}}, \"scene\": {\"xaxis\": {\"backgroundcolor\": \"#E5ECF6\", \"gridcolor\": \"white\", \"gridwidth\": 2, \"linecolor\": \"white\", \"showbackground\": true, \"ticks\": \"\", \"zerolinecolor\": \"white\"}, \"yaxis\": {\"backgroundcolor\": \"#E5ECF6\", \"gridcolor\": \"white\", \"gridwidth\": 2, \"linecolor\": \"white\", \"showbackground\": true, \"ticks\": \"\", \"zerolinecolor\": \"white\"}, \"zaxis\": {\"backgroundcolor\": \"#E5ECF6\", \"gridcolor\": \"white\", \"gridwidth\": 2, \"linecolor\": \"white\", \"showbackground\": true, \"ticks\": \"\", \"zerolinecolor\": \"white\"}}, \"shapedefaults\": {\"line\": {\"color\": \"#2a3f5f\"}}, \"ternary\": {\"aaxis\": {\"gridcolor\": \"white\", \"linecolor\": \"white\", \"ticks\": \"\"}, \"baxis\": {\"gridcolor\": \"white\", \"linecolor\": \"white\", \"ticks\": \"\"}, \"bgcolor\": \"#E5ECF6\", \"caxis\": {\"gridcolor\": \"white\", \"linecolor\": \"white\", \"ticks\": \"\"}}, \"title\": {\"x\": 0.05}, \"xaxis\": {\"automargin\": true, \"gridcolor\": \"white\", \"linecolor\": \"white\", \"ticks\": \"\", \"title\": {\"standoff\": 15}, \"zerolinecolor\": \"white\", \"zerolinewidth\": 2}, \"yaxis\": {\"automargin\": true, \"gridcolor\": \"white\", \"linecolor\": \"white\", \"ticks\": \"\", \"title\": {\"standoff\": 15}, \"zerolinecolor\": \"white\", \"zerolinewidth\": 2}}}, \"title\": {\"text\": \"30665\"}, \"width\": 1200, \"xaxis\": {\"anchor\": \"y\", \"domain\": [0.0, 1.0]}, \"xaxis2\": {\"anchor\": \"y2\", \"domain\": [0.0, 1.0]}, \"xaxis3\": {\"anchor\": \"y3\", \"domain\": [0.0, 1.0]}, \"xaxis4\": {\"anchor\": \"y4\", \"domain\": [0.0, 1.0]}, \"xaxis5\": {\"anchor\": \"y5\", \"domain\": [0.0, 1.0]}, \"xaxis6\": {\"anchor\": \"y6\", \"domain\": [0.0, 1.0]}, \"xaxis7\": {\"anchor\": \"y7\", \"domain\": [0.0, 1.0]}, \"xaxis8\": {\"anchor\": \"y8\", \"domain\": [0.0, 1.0]}, \"yaxis\": {\"anchor\": \"x\", \"domain\": [0.9296875, 1.0]}, \"yaxis2\": {\"anchor\": \"x2\", \"domain\": [0.796875, 0.8671875]}, \"yaxis3\": {\"anchor\": \"x3\", \"domain\": [0.6640625, 0.734375]}, \"yaxis4\": {\"anchor\": \"x4\", \"domain\": [0.53125, 0.6015625]}, \"yaxis5\": {\"anchor\": \"x5\", \"domain\": [0.3984375, 0.46875]}, \"yaxis6\": {\"anchor\": \"x6\", \"domain\": [0.265625, 0.3359375]}, \"yaxis7\": {\"anchor\": \"x7\", \"domain\": [0.1328125, 0.203125]}, \"yaxis8\": {\"anchor\": \"x8\", \"domain\": [0.0, 0.0703125]}},\n",
              "                        {\"responsive\": true}\n",
              "                    ).then(function(){\n",
              "                            \n",
              "var gd = document.getElementById('f3d945dd-edb8-4248-80ca-0d1ca7a35689');\n",
              "var x = new MutationObserver(function (mutations, observer) {{\n",
              "        var display = window.getComputedStyle(gd).display;\n",
              "        if (!display || display === 'none') {{\n",
              "            console.log([gd, 'removed!']);\n",
              "            Plotly.purge(gd);\n",
              "            observer.disconnect();\n",
              "        }}\n",
              "}});\n",
              "\n",
              "// Listen for the removal of the full notebook cells\n",
              "var notebookContainer = gd.closest('#notebook-container');\n",
              "if (notebookContainer) {{\n",
              "    x.observe(notebookContainer, {childList: true});\n",
              "}}\n",
              "\n",
              "// Listen for the clearing of the current output cell\n",
              "var outputEl = gd.closest('.output');\n",
              "if (outputEl) {{\n",
              "    x.observe(outputEl, {childList: true});\n",
              "}}\n",
              "\n",
              "                        })\n",
              "                };\n",
              "                \n",
              "            </script>\n",
              "        </div>\n",
              "</body>\n",
              "</html>"
            ]
          },
          "metadata": {
            "tags": []
          }
        }
      ]
    },
    {
      "cell_type": "code",
      "metadata": {
        "id": "ki_LsfrLLp32",
        "colab_type": "code",
        "colab": {}
      },
      "source": [
        "import warnings\n",
        "warnings.filterwarnings(\"ignore\")"
      ],
      "execution_count": null,
      "outputs": []
    },
    {
      "cell_type": "markdown",
      "metadata": {
        "id": "RpD7-P-bO5ZW",
        "colab_type": "text"
      },
      "source": [
        "Py Manufacturing"
      ]
    },
    {
      "cell_type": "code",
      "metadata": {
        "id": "YFAIX7chKYHY",
        "colab_type": "code",
        "colab": {}
      },
      "source": [
        "for sheet_name in base_week.keys():\n",
        "  print('process: ',sheet_name)\n",
        "  df_dict=base_week[sheet_name]\n",
        "  for name in df_dict.keys(): #also group\n",
        "    print('dim: ',name)\n",
        "    df=df_dict[name].copy()\n",
        "    df=df.sort_values(by=['Date'])\n",
        "    for a in df.columns[1:]:\n",
        "      df[a] = df[a].round(decimals=3)\n",
        "    try:\n",
        "      #mn.control_plot(df.Value, upper_control_limit=df.USL[0], lower_control_limit=df.LSL[0])\n",
        "      mn.ppk_plot(df.Value, upper_control_limit=df.USL[0], lower_control_limit=df.LSL[0])\n",
        "      mn.cpk_plot(df.Value, upper_control_limit=df.USL[0], lower_control_limit=df.LSL[0],\n",
        "              subgroup_size=df.Date.value_counts()[0])\n",
        "    except:\n",
        "      continue\n",
        "   "
      ],
      "execution_count": null,
      "outputs": []
    },
    {
      "cell_type": "markdown",
      "metadata": {
        "id": "ivCjur2xoGVt",
        "colab_type": "text"
      },
      "source": [
        "## Box plot chart"
      ]
    },
    {
      "cell_type": "code",
      "metadata": {
        "id": "zBy7-wK-Taad",
        "colab_type": "code",
        "colab": {}
      },
      "source": [
        "for sheet_name in base_week.keys():\n",
        "  df_dict=base_week[sheet_name]\n",
        "    \n",
        "  i=1\n",
        "  #Layout\n",
        "  fig = make_subplots(\n",
        "      rows=len(df_dict), cols=1,\n",
        "      #shared_xaxes=True, # share same axis\n",
        "      vertical_spacing=0.05, # adjust spacing between charts\n",
        "      #column_widths=[0.8, 0.2],\n",
        "      subplot_titles=(list(df_dict.keys()))\n",
        "  )\n",
        "  for name in df_dict.keys(): #also group\n",
        "    df=df_dict[name].copy()\n",
        "    df=df.sort_values(by=['Date'])\n",
        "    for a in df.columns[1:]:\n",
        "      df[a] = df[a].round(decimals=3)\n",
        "    df=df.set_index('Date')\n",
        "    #Control chart 1 \n",
        "    fig.append_trace(go.Box(\n",
        "                            x=df.index, y=df['Value'],\n",
        "                            name='mean ' + name, line=dict( color='#4280F5')\n",
        "                            ),row=i, col=1\n",
        "                  )\n",
        "    #USL, LSL\n",
        "    fig.append_trace(go.Scatter(x=df.index, y=df['USL'],name='USL '+name, line=dict( color='#FF5733')),row=i, col=1)\n",
        "    fig.append_trace(go.Scatter(x=df.index, y=df['LSL'],name='LSL '+name,line=dict( color='#FF5733')),row=i, col=1)\n",
        "    #fig.append_trace(go.Scatter(x=df['Datef'], y=df['Nominal'],name='Nominal '+name,line=dict( color='#FF5733')),row=i, col=1)\n",
        "    # UCL, LCL\n",
        "    i=i+1\n",
        "    \n",
        "  fig.update_layout(height=200*len(df_dict), width=1200, title_text=sheet_name)\n",
        "  #fig.show()"
      ],
      "execution_count": null,
      "outputs": []
    },
    {
      "cell_type": "code",
      "metadata": {
        "id": "7IFsAibZj9UO",
        "colab_type": "code",
        "colab": {}
      },
      "source": [
        ""
      ],
      "execution_count": null,
      "outputs": []
    },
    {
      "cell_type": "markdown",
      "metadata": {
        "id": "CXkUAIqdo-Mi",
        "colab_type": "text"
      },
      "source": [
        "## Calculate Cp/CpK/Ppk from base week (last week)"
      ]
    },
    {
      "cell_type": "code",
      "metadata": {
        "id": "edgXSy7iGy5I",
        "colab_type": "code",
        "colab": {}
      },
      "source": [
        "constants={\n",
        "    2:1.128,\n",
        "    3:1.693,\n",
        "    4:2.059,\n",
        "    5:2.326,\n",
        "    6:2.534,\n",
        "    7:2.704,\n",
        "    8:2.847, \n",
        "    9: 2.970,\n",
        "    10: 3.078,\n",
        "    11: 3.173,\n",
        "    12: 3.258,\n",
        "    13: 3.336,\n",
        "    14: 3.407,\n",
        "    15: 3.472,\n",
        "    16: 3.532,\n",
        "    17:3.588,\n",
        "    18:3.640,\n",
        "    19:3.689,\n",
        "    20:3.735,\n",
        "}"
      ],
      "execution_count": null,
      "outputs": []
    },
    {
      "cell_type": "code",
      "metadata": {
        "id": "p95XoWTipDvK",
        "colab_type": "code",
        "colab": {
          "base_uri": "https://localhost:8080/",
          "height": 442
        },
        "outputId": "05c30d48-ff15-4c6c-fac7-c5c13e38ce46"
      },
      "source": [
        "import statistics as st\n",
        "process_indicator={}\n",
        "for process_name in base_week.keys():\n",
        "  try:\n",
        "    #print(process_name)\n",
        "    process_dict=base_week[process_name]\n",
        "    for dim in process_dict.keys():\n",
        "      #print(dim)\n",
        "      df=process_dict[dim]\n",
        "      usl=df.USL[0]\n",
        "      lsl=df.LSL[0]\n",
        "      m=df.Mean[0]\n",
        "\n",
        "      #Ppk\n",
        "      sigma=st.stdev(df.Value)\n",
        "      Pp = float(usl - lsl) / (6*sigma)\n",
        "      Ppu = float(usl - m) / (3*sigma)\n",
        "      Ppl = float(m - lsl) / (3*sigma)\n",
        "      Ppk = np.min([Ppu, Ppl])\n",
        "      #print('Pp',Pp)\n",
        "      #print('Ppk',Ppk)\n",
        "\n",
        "      #Cpk\n",
        "      n=df.Date.value_counts()[0]\n",
        "      temp=df.groupby('Date').agg({'Value':['min','max']})\n",
        "      temp['R']=temp['Value','max']-temp['Value','min']\n",
        "      R=temp['R'].mean()\n",
        "\n",
        "      if n <= 20:\n",
        "        sigma_within = R/constants[n]\n",
        "      else:\n",
        "        sigma_within = R/constants[20]\n",
        "      \n",
        "      Cp = float(usl - lsl) / (6*sigma_within)\n",
        "      Cpu = float(usl - m) / (3*sigma_within)\n",
        "      Cpl = float(m - lsl) / (3*sigma_within)\n",
        "      Cpk = np.min([Cpu, Cpl])\n",
        "      #print('Cp',Cp)\n",
        "      #print('Cpk',Cpk)\n",
        "  except:\n",
        "    print('error:')\n",
        "    print('process_name: ',process_name)\n",
        "    print('dim: ',dim)\n",
        "    continue"
      ],
      "execution_count": null,
      "outputs": [
        {
          "output_type": "stream",
          "text": [
            "error:\n",
            "process_name:  37670-39670\n",
            "dim:  3500T Đường kính lỗ bù (dim B)\n",
            "error:\n",
            "process_name:  30470-37470\n",
            "dim:  30470 Chiều dài drive pin sau khi cắt_Dim B \n",
            "error:\n",
            "process_name:  38940\n",
            "dim:  Spout 12-DL_ Vị trí C\n",
            "error:\n",
            "process_name:  30538\n",
            "dim:  Lực của mối hàn\n",
            "Welding spot strength\n",
            "error:\n",
            "process_name:  30750-30940-39750 _S1\n",
            "dim:  Spout  1-SN_ Connection strength (3300U)\n",
            "error:\n",
            "process_name:  30750-30940-39750 _S2\n",
            "dim:  Spout 12-DL (single)_ Connection strength \n",
            "error:\n",
            "process_name:  37750-37940_S1\n",
            "dim:  Spout  EL _ Vị trí C_11s\n",
            "error:\n",
            "process_name:  37750-37940_S2\n",
            "dim:  Spout  1-SN (3700U) _ Connection strength\n"
          ],
          "name": "stdout"
        }
      ]
    },
    {
      "cell_type": "code",
      "metadata": {
        "id": "j45HIS87pDyC",
        "colab_type": "code",
        "colab": {
          "base_uri": "https://localhost:8080/",
          "height": 323
        },
        "outputId": "5ae287f3-7574-4381-d19f-593dc7dd1d7c"
      },
      "source": [
        "import statistics as st\n",
        "process_name='38682'\n",
        "process_dict=base_week[process_name]\n",
        "process_indicator={}\n",
        "for dim in process_dict.keys():\n",
        "  print(dim)\n",
        "  df=process_dict[dim]\n",
        "  # PPk\"\n",
        "  sigma=st.stdev(df.Value)\n",
        "  usl=df.USL[0]\n",
        "  lsl=df.LSL[0]\n",
        "  m=df.Mean[0]\n",
        "  Pp = float(usl - lsl) / (6*sigma)\n",
        "  Ppu = float(usl - m) / (3*sigma)\n",
        "  Ppl = float(m - lsl) / (3*sigma)\n",
        "  Ppk = np.min([Ppu, Ppl])\n",
        "  print('Pp',Pp)\n",
        "  print('Ppk',Ppk)\n",
        "  # CPK\"\n",
        " "
      ],
      "execution_count": null,
      "outputs": [
        {
          "output_type": "stream",
          "text": [
            "Hinge Dim F\n",
            "Pp 0.8979230733571717\n",
            "Ppk 0.7243247128588255\n",
            "Chiều dài Dim B\n",
            "Pp 0.611506076738254\n",
            "Ppk 0.36690656193393173\n",
            "Chiều rộng Dim A\n",
            "Pp 0.5632059313075698\n",
            "Ppk 0.5181419371853514\n",
            "L.Tâm Dim N\n",
            "Pp 1.4544298377882001\n",
            "Ppk 0.8959287618724691\n",
            "Offset Dim M\n",
            "Pp nan\n",
            "Ppk nan\n",
            "Ba vớ trên membrane\n",
            "Pp nan\n",
            "Ppk nan\n"
          ],
          "name": "stdout"
        }
      ]
    },
    {
      "cell_type": "code",
      "metadata": {
        "id": "oATgQDHsw7wb",
        "colab_type": "code",
        "colab": {
          "base_uri": "https://localhost:8080/",
          "height": 54
        },
        "outputId": "91781cbd-de42-4be7-9aa8-374535d45876"
      },
      "source": [
        " process_dict.keys()"
      ],
      "execution_count": null,
      "outputs": [
        {
          "output_type": "execute_result",
          "data": {
            "text/plain": [
              "dict_keys(['Hinge Dim F', 'Chiều dài Dim B', 'Chiều rộng Dim A', 'L.Tâm Dim N', 'Offset Dim M', 'Ba vớ trên membrane'])"
            ]
          },
          "metadata": {
            "tags": []
          },
          "execution_count": 54
        }
      ]
    },
    {
      "cell_type": "code",
      "metadata": {
        "id": "FDne-eJKw-ci",
        "colab_type": "code",
        "colab": {
          "base_uri": "https://localhost:8080/",
          "height": 514
        },
        "outputId": "fac799f3-77ed-4ec7-a0e8-84e4ea746f98"
      },
      "source": [
        "df=process_dict['Hinge Dim F']\n",
        "df"
      ],
      "execution_count": null,
      "outputs": [
        {
          "output_type": "execute_result",
          "data": {
            "text/html": [
              "<div>\n",
              "<style scoped>\n",
              "    .dataframe tbody tr th:only-of-type {\n",
              "        vertical-align: middle;\n",
              "    }\n",
              "\n",
              "    .dataframe tbody tr th {\n",
              "        vertical-align: top;\n",
              "    }\n",
              "\n",
              "    .dataframe thead th {\n",
              "        text-align: right;\n",
              "    }\n",
              "</style>\n",
              "<table border=\"1\" class=\"dataframe\">\n",
              "  <thead>\n",
              "    <tr style=\"text-align: right;\">\n",
              "      <th></th>\n",
              "      <th>Date</th>\n",
              "      <th>Value</th>\n",
              "      <th>USL</th>\n",
              "      <th>LSL</th>\n",
              "      <th>UCL</th>\n",
              "      <th>LCL</th>\n",
              "      <th>Mean</th>\n",
              "    </tr>\n",
              "  </thead>\n",
              "  <tbody>\n",
              "    <tr>\n",
              "      <th>0</th>\n",
              "      <td>2020-09-04 16:00:00</td>\n",
              "      <td>0.231</td>\n",
              "      <td>0.25</td>\n",
              "      <td>0.21</td>\n",
              "      <td>0.25614</td>\n",
              "      <td>0.211593</td>\n",
              "      <td>0.233867</td>\n",
              "    </tr>\n",
              "    <tr>\n",
              "      <th>1</th>\n",
              "      <td>2020-09-04 16:00:00</td>\n",
              "      <td>0.231</td>\n",
              "      <td>0.25</td>\n",
              "      <td>0.21</td>\n",
              "      <td>0.25614</td>\n",
              "      <td>0.211593</td>\n",
              "      <td>0.233867</td>\n",
              "    </tr>\n",
              "    <tr>\n",
              "      <th>2</th>\n",
              "      <td>2020-09-04 16:00:00</td>\n",
              "      <td>0.228</td>\n",
              "      <td>0.25</td>\n",
              "      <td>0.21</td>\n",
              "      <td>0.25614</td>\n",
              "      <td>0.211593</td>\n",
              "      <td>0.233867</td>\n",
              "    </tr>\n",
              "    <tr>\n",
              "      <th>3</th>\n",
              "      <td>2020-09-05 08:00:00</td>\n",
              "      <td>0.241</td>\n",
              "      <td>0.25</td>\n",
              "      <td>0.21</td>\n",
              "      <td>0.25614</td>\n",
              "      <td>0.211593</td>\n",
              "      <td>0.233867</td>\n",
              "    </tr>\n",
              "    <tr>\n",
              "      <th>4</th>\n",
              "      <td>2020-09-05 08:00:00</td>\n",
              "      <td>0.237</td>\n",
              "      <td>0.25</td>\n",
              "      <td>0.21</td>\n",
              "      <td>0.25614</td>\n",
              "      <td>0.211593</td>\n",
              "      <td>0.233867</td>\n",
              "    </tr>\n",
              "    <tr>\n",
              "      <th>5</th>\n",
              "      <td>2020-09-05 08:00:00</td>\n",
              "      <td>0.246</td>\n",
              "      <td>0.25</td>\n",
              "      <td>0.21</td>\n",
              "      <td>0.25614</td>\n",
              "      <td>0.211593</td>\n",
              "      <td>0.233867</td>\n",
              "    </tr>\n",
              "    <tr>\n",
              "      <th>6</th>\n",
              "      <td>2020-09-07 09:00:00</td>\n",
              "      <td>0.239</td>\n",
              "      <td>0.25</td>\n",
              "      <td>0.21</td>\n",
              "      <td>0.25614</td>\n",
              "      <td>0.211593</td>\n",
              "      <td>0.233867</td>\n",
              "    </tr>\n",
              "    <tr>\n",
              "      <th>7</th>\n",
              "      <td>2020-09-07 09:00:00</td>\n",
              "      <td>0.217</td>\n",
              "      <td>0.25</td>\n",
              "      <td>0.21</td>\n",
              "      <td>0.25614</td>\n",
              "      <td>0.211593</td>\n",
              "      <td>0.233867</td>\n",
              "    </tr>\n",
              "    <tr>\n",
              "      <th>8</th>\n",
              "      <td>2020-09-07 09:00:00</td>\n",
              "      <td>0.242</td>\n",
              "      <td>0.25</td>\n",
              "      <td>0.21</td>\n",
              "      <td>0.25614</td>\n",
              "      <td>0.211593</td>\n",
              "      <td>0.233867</td>\n",
              "    </tr>\n",
              "    <tr>\n",
              "      <th>9</th>\n",
              "      <td>2020-09-08 10:00:00</td>\n",
              "      <td>0.232</td>\n",
              "      <td>0.25</td>\n",
              "      <td>0.21</td>\n",
              "      <td>0.25614</td>\n",
              "      <td>0.211593</td>\n",
              "      <td>0.233867</td>\n",
              "    </tr>\n",
              "    <tr>\n",
              "      <th>10</th>\n",
              "      <td>2020-09-08 10:00:00</td>\n",
              "      <td>0.240</td>\n",
              "      <td>0.25</td>\n",
              "      <td>0.21</td>\n",
              "      <td>0.25614</td>\n",
              "      <td>0.211593</td>\n",
              "      <td>0.233867</td>\n",
              "    </tr>\n",
              "    <tr>\n",
              "      <th>11</th>\n",
              "      <td>2020-09-08 10:00:00</td>\n",
              "      <td>0.230</td>\n",
              "      <td>0.25</td>\n",
              "      <td>0.21</td>\n",
              "      <td>0.25614</td>\n",
              "      <td>0.211593</td>\n",
              "      <td>0.233867</td>\n",
              "    </tr>\n",
              "    <tr>\n",
              "      <th>12</th>\n",
              "      <td>2020-09-08 16:00:00</td>\n",
              "      <td>0.235</td>\n",
              "      <td>0.25</td>\n",
              "      <td>0.21</td>\n",
              "      <td>0.25614</td>\n",
              "      <td>0.211593</td>\n",
              "      <td>0.233867</td>\n",
              "    </tr>\n",
              "    <tr>\n",
              "      <th>13</th>\n",
              "      <td>2020-09-08 16:00:00</td>\n",
              "      <td>0.225</td>\n",
              "      <td>0.25</td>\n",
              "      <td>0.21</td>\n",
              "      <td>0.25614</td>\n",
              "      <td>0.211593</td>\n",
              "      <td>0.233867</td>\n",
              "    </tr>\n",
              "    <tr>\n",
              "      <th>14</th>\n",
              "      <td>2020-09-08 16:00:00</td>\n",
              "      <td>0.234</td>\n",
              "      <td>0.25</td>\n",
              "      <td>0.21</td>\n",
              "      <td>0.25614</td>\n",
              "      <td>0.211593</td>\n",
              "      <td>0.233867</td>\n",
              "    </tr>\n",
              "  </tbody>\n",
              "</table>\n",
              "</div>"
            ],
            "text/plain": [
              "                  Date  Value   USL   LSL      UCL       LCL      Mean\n",
              "0  2020-09-04 16:00:00  0.231  0.25  0.21  0.25614  0.211593  0.233867\n",
              "1  2020-09-04 16:00:00  0.231  0.25  0.21  0.25614  0.211593  0.233867\n",
              "2  2020-09-04 16:00:00  0.228  0.25  0.21  0.25614  0.211593  0.233867\n",
              "3  2020-09-05 08:00:00  0.241  0.25  0.21  0.25614  0.211593  0.233867\n",
              "4  2020-09-05 08:00:00  0.237  0.25  0.21  0.25614  0.211593  0.233867\n",
              "5  2020-09-05 08:00:00  0.246  0.25  0.21  0.25614  0.211593  0.233867\n",
              "6  2020-09-07 09:00:00  0.239  0.25  0.21  0.25614  0.211593  0.233867\n",
              "7  2020-09-07 09:00:00  0.217  0.25  0.21  0.25614  0.211593  0.233867\n",
              "8  2020-09-07 09:00:00  0.242  0.25  0.21  0.25614  0.211593  0.233867\n",
              "9  2020-09-08 10:00:00  0.232  0.25  0.21  0.25614  0.211593  0.233867\n",
              "10 2020-09-08 10:00:00  0.240  0.25  0.21  0.25614  0.211593  0.233867\n",
              "11 2020-09-08 10:00:00  0.230  0.25  0.21  0.25614  0.211593  0.233867\n",
              "12 2020-09-08 16:00:00  0.235  0.25  0.21  0.25614  0.211593  0.233867\n",
              "13 2020-09-08 16:00:00  0.225  0.25  0.21  0.25614  0.211593  0.233867\n",
              "14 2020-09-08 16:00:00  0.234  0.25  0.21  0.25614  0.211593  0.233867"
            ]
          },
          "metadata": {
            "tags": []
          },
          "execution_count": 87
        }
      ]
    },
    {
      "cell_type": "code",
      "metadata": {
        "id": "v9e84ob7F7Nd",
        "colab_type": "code",
        "colab": {
          "base_uri": "https://localhost:8080/",
          "height": 34
        },
        "outputId": "91f60402-8a93-4f2c-d68f-4a73cbe76c1e"
      },
      "source": [
        ""
      ],
      "execution_count": null,
      "outputs": [
        {
          "output_type": "execute_result",
          "data": {
            "text/plain": [
              "3"
            ]
          },
          "metadata": {
            "tags": []
          },
          "execution_count": 111
        }
      ]
    },
    {
      "cell_type": "code",
      "metadata": {
        "id": "0EP7IjkN5BY5",
        "colab_type": "code",
        "colab": {}
      },
      "source": [
        "usl=df.USL[0]\n",
        "lsl=df.LSL[0]\n",
        "m=df.Mean[0]"
      ],
      "execution_count": null,
      "outputs": []
    },
    {
      "cell_type": "code",
      "metadata": {
        "id": "FOFz_51-28z2",
        "colab_type": "code",
        "colab": {
          "base_uri": "https://localhost:8080/",
          "height": 266
        },
        "outputId": "0b4633c0-7c5a-4bad-d755-f8d023ffca98"
      },
      "source": [
        "temp=df.groupby('Date').agg({'Value':['min','max']})\n",
        "temp"
      ],
      "execution_count": null,
      "outputs": [
        {
          "output_type": "execute_result",
          "data": {
            "text/html": [
              "<div>\n",
              "<style scoped>\n",
              "    .dataframe tbody tr th:only-of-type {\n",
              "        vertical-align: middle;\n",
              "    }\n",
              "\n",
              "    .dataframe tbody tr th {\n",
              "        vertical-align: top;\n",
              "    }\n",
              "\n",
              "    .dataframe thead tr th {\n",
              "        text-align: left;\n",
              "    }\n",
              "\n",
              "    .dataframe thead tr:last-of-type th {\n",
              "        text-align: right;\n",
              "    }\n",
              "</style>\n",
              "<table border=\"1\" class=\"dataframe\">\n",
              "  <thead>\n",
              "    <tr>\n",
              "      <th></th>\n",
              "      <th colspan=\"2\" halign=\"left\">Value</th>\n",
              "    </tr>\n",
              "    <tr>\n",
              "      <th></th>\n",
              "      <th>min</th>\n",
              "      <th>max</th>\n",
              "    </tr>\n",
              "    <tr>\n",
              "      <th>Date</th>\n",
              "      <th></th>\n",
              "      <th></th>\n",
              "    </tr>\n",
              "  </thead>\n",
              "  <tbody>\n",
              "    <tr>\n",
              "      <th>2020-09-04 16:00:00</th>\n",
              "      <td>0.228</td>\n",
              "      <td>0.231</td>\n",
              "    </tr>\n",
              "    <tr>\n",
              "      <th>2020-09-05 08:00:00</th>\n",
              "      <td>0.237</td>\n",
              "      <td>0.246</td>\n",
              "    </tr>\n",
              "    <tr>\n",
              "      <th>2020-09-07 09:00:00</th>\n",
              "      <td>0.217</td>\n",
              "      <td>0.242</td>\n",
              "    </tr>\n",
              "    <tr>\n",
              "      <th>2020-09-08 10:00:00</th>\n",
              "      <td>0.230</td>\n",
              "      <td>0.240</td>\n",
              "    </tr>\n",
              "    <tr>\n",
              "      <th>2020-09-08 16:00:00</th>\n",
              "      <td>0.225</td>\n",
              "      <td>0.235</td>\n",
              "    </tr>\n",
              "  </tbody>\n",
              "</table>\n",
              "</div>"
            ],
            "text/plain": [
              "                     Value       \n",
              "                       min    max\n",
              "Date                             \n",
              "2020-09-04 16:00:00  0.228  0.231\n",
              "2020-09-05 08:00:00  0.237  0.246\n",
              "2020-09-07 09:00:00  0.217  0.242\n",
              "2020-09-08 10:00:00  0.230  0.240\n",
              "2020-09-08 16:00:00  0.225  0.235"
            ]
          },
          "metadata": {
            "tags": []
          },
          "execution_count": 101
        }
      ]
    },
    {
      "cell_type": "code",
      "metadata": {
        "id": "gghLv0xa4IXc",
        "colab_type": "code",
        "colab": {
          "base_uri": "https://localhost:8080/",
          "height": 68
        },
        "outputId": "14c52e4c-2a1e-4c01-ea26-0fbba5eb0f29"
      },
      "source": [
        "temp.columns"
      ],
      "execution_count": null,
      "outputs": [
        {
          "output_type": "execute_result",
          "data": {
            "text/plain": [
              "MultiIndex([('Value', 'min'),\n",
              "            ('Value', 'max')],\n",
              "           )"
            ]
          },
          "metadata": {
            "tags": []
          },
          "execution_count": 102
        }
      ]
    },
    {
      "cell_type": "code",
      "metadata": {
        "id": "nLb--aZ14Ovy",
        "colab_type": "code",
        "colab": {
          "base_uri": "https://localhost:8080/",
          "height": 136
        },
        "outputId": "bbd8f9a5-5b3e-4c66-d775-867fa2fb7fb8"
      },
      "source": [
        "temp['Value','min']"
      ],
      "execution_count": null,
      "outputs": [
        {
          "output_type": "execute_result",
          "data": {
            "text/plain": [
              "Date\n",
              "2020-09-04 16:00:00    0.228\n",
              "2020-09-05 08:00:00    0.237\n",
              "2020-09-07 09:00:00    0.217\n",
              "2020-09-08 10:00:00    0.230\n",
              "2020-09-08 16:00:00    0.225\n",
              "Name: (Value, min), dtype: float32"
            ]
          },
          "metadata": {
            "tags": []
          },
          "execution_count": 103
        }
      ]
    },
    {
      "cell_type": "code",
      "metadata": {
        "id": "ELlUPXTm4GAJ",
        "colab_type": "code",
        "colab": {}
      },
      "source": [
        "temp['R']=temp['Value','max']-temp['Value','min']"
      ],
      "execution_count": null,
      "outputs": []
    },
    {
      "cell_type": "code",
      "metadata": {
        "id": "mPaNseaK4hV3",
        "colab_type": "code",
        "colab": {
          "base_uri": "https://localhost:8080/",
          "height": 266
        },
        "outputId": "66578d00-1ae2-4729-e3e5-54d157614c80"
      },
      "source": [
        "temp"
      ],
      "execution_count": null,
      "outputs": [
        {
          "output_type": "execute_result",
          "data": {
            "text/html": [
              "<div>\n",
              "<style scoped>\n",
              "    .dataframe tbody tr th:only-of-type {\n",
              "        vertical-align: middle;\n",
              "    }\n",
              "\n",
              "    .dataframe tbody tr th {\n",
              "        vertical-align: top;\n",
              "    }\n",
              "\n",
              "    .dataframe thead tr th {\n",
              "        text-align: left;\n",
              "    }\n",
              "\n",
              "    .dataframe thead tr:last-of-type th {\n",
              "        text-align: right;\n",
              "    }\n",
              "</style>\n",
              "<table border=\"1\" class=\"dataframe\">\n",
              "  <thead>\n",
              "    <tr>\n",
              "      <th></th>\n",
              "      <th colspan=\"2\" halign=\"left\">Value</th>\n",
              "      <th>R</th>\n",
              "    </tr>\n",
              "    <tr>\n",
              "      <th></th>\n",
              "      <th>min</th>\n",
              "      <th>max</th>\n",
              "      <th></th>\n",
              "    </tr>\n",
              "    <tr>\n",
              "      <th>Date</th>\n",
              "      <th></th>\n",
              "      <th></th>\n",
              "      <th></th>\n",
              "    </tr>\n",
              "  </thead>\n",
              "  <tbody>\n",
              "    <tr>\n",
              "      <th>2020-09-04 16:00:00</th>\n",
              "      <td>0.228</td>\n",
              "      <td>0.231</td>\n",
              "      <td>0.003</td>\n",
              "    </tr>\n",
              "    <tr>\n",
              "      <th>2020-09-05 08:00:00</th>\n",
              "      <td>0.237</td>\n",
              "      <td>0.246</td>\n",
              "      <td>0.009</td>\n",
              "    </tr>\n",
              "    <tr>\n",
              "      <th>2020-09-07 09:00:00</th>\n",
              "      <td>0.217</td>\n",
              "      <td>0.242</td>\n",
              "      <td>0.025</td>\n",
              "    </tr>\n",
              "    <tr>\n",
              "      <th>2020-09-08 10:00:00</th>\n",
              "      <td>0.230</td>\n",
              "      <td>0.240</td>\n",
              "      <td>0.010</td>\n",
              "    </tr>\n",
              "    <tr>\n",
              "      <th>2020-09-08 16:00:00</th>\n",
              "      <td>0.225</td>\n",
              "      <td>0.235</td>\n",
              "      <td>0.010</td>\n",
              "    </tr>\n",
              "  </tbody>\n",
              "</table>\n",
              "</div>"
            ],
            "text/plain": [
              "                     Value             R\n",
              "                       min    max       \n",
              "Date                                    \n",
              "2020-09-04 16:00:00  0.228  0.231  0.003\n",
              "2020-09-05 08:00:00  0.237  0.246  0.009\n",
              "2020-09-07 09:00:00  0.217  0.242  0.025\n",
              "2020-09-08 10:00:00  0.230  0.240  0.010\n",
              "2020-09-08 16:00:00  0.225  0.235  0.010"
            ]
          },
          "metadata": {
            "tags": []
          },
          "execution_count": 105
        }
      ]
    },
    {
      "cell_type": "code",
      "metadata": {
        "id": "-7ZbJBAp4zkX",
        "colab_type": "code",
        "colab": {
          "base_uri": "https://localhost:8080/",
          "height": 34
        },
        "outputId": "a11ec8bb-4391-4ba7-866b-6a7aa595703d"
      },
      "source": [
        "R=temp['R'].mean()\n",
        "R"
      ],
      "execution_count": null,
      "outputs": [
        {
          "output_type": "execute_result",
          "data": {
            "text/plain": [
              "0.011400002054870129"
            ]
          },
          "metadata": {
            "tags": []
          },
          "execution_count": 106
        }
      ]
    },
    {
      "cell_type": "code",
      "metadata": {
        "id": "fE8KjihS4zrm",
        "colab_type": "code",
        "colab": {}
      },
      "source": [
        "constants={\n",
        "    2:1.128,\n",
        "    3:1.693,\n",
        "    4:2.059,\n",
        "    5:2.326,\n",
        "    6:2.534,\n",
        "    7:2.704,\n",
        "    8:2.847, \n",
        "    9: 2.970,\n",
        "    10: 3.078,\n",
        "    11: 3.173,\n",
        "    12: 3.258,\n",
        "    13: 3.336,\n",
        "    14: 3.407,\n",
        "    15: 3.472\n",
        "}"
      ],
      "execution_count": null,
      "outputs": []
    },
    {
      "cell_type": "code",
      "metadata": {
        "id": "RZiIqLB64zng",
        "colab_type": "code",
        "colab": {
          "base_uri": "https://localhost:8080/",
          "height": 34
        },
        "outputId": "bfd656b8-335e-4df4-821d-4d891377ef51"
      },
      "source": [
        "n=df.Date.value_counts()[0]\n",
        "sigma_within=R/constants[n]\n",
        "sigma_within"
      ],
      "execution_count": null,
      "outputs": [
        {
          "output_type": "execute_result",
          "data": {
            "text/plain": [
              "0.006733610191890211"
            ]
          },
          "metadata": {
            "tags": []
          },
          "execution_count": 112
        }
      ]
    },
    {
      "cell_type": "code",
      "metadata": {
        "id": "dndoOXmv6e4P",
        "colab_type": "code",
        "colab": {
          "base_uri": "https://localhost:8080/",
          "height": 85
        },
        "outputId": "b7a56f5a-9ac5-412d-b25f-487e9282f01c"
      },
      "source": [
        "usl=df.USL[0]\n",
        "lsl=df.LSL[0]\n",
        "m=df.Mean[0]\n",
        "Cp = float(usl - lsl) / (6*sigma_within)\n",
        "Cpu = float(usl - m) / (3*sigma_within)\n",
        "Cpl = float(m - lsl) / (3*sigma_within)\n",
        "Cpk = np.min([Cpu, Cpl])\n",
        "print('Cp',Cp)\n",
        "print('Cpk',Cpk)\n",
        "\n",
        "sigma=st.stdev(df.Value)\n",
        "Pp = float(usl - lsl) / (6*sigma)\n",
        "Ppu = float(usl - m) / (3*sigma)\n",
        "Ppl = float(m - lsl) / (3*sigma)\n",
        "Ppk = np.min([Ppu, Ppl])\n",
        "print('Pp',Pp)\n",
        "print('Ppk',Ppk)"
      ],
      "execution_count": null,
      "outputs": [
        {
          "output_type": "stream",
          "text": [
            "Cp 0.9900584633556088\n",
            "Cpk 0.7986472710878285\n",
            "Pp 0.8979230733571717\n",
            "Ppk 0.7243247128588255\n"
          ],
          "name": "stdout"
        }
      ]
    },
    {
      "cell_type": "code",
      "metadata": {
        "id": "DugU7NxWxJD0",
        "colab_type": "code",
        "colab": {
          "base_uri": "https://localhost:8080/",
          "height": 105
        },
        "outputId": "c8684c3c-2d1f-489e-8a88-2eaecce84e8a"
      },
      "source": [
        "#!pip install manufacturing"
      ],
      "execution_count": null,
      "outputs": [
        {
          "output_type": "stream",
          "text": [
            "Collecting manufacturing\n",
            "  Downloading https://files.pythonhosted.org/packages/fd/e4/f70576b033af2dbc2874d90469349c35b1f1fb81cac809a4e95dd7d4f7dc/manufacturing-0.9.5-py3-none-any.whl\n",
            "Installing collected packages: manufacturing\n",
            "Successfully installed manufacturing-0.9.5\n"
          ],
          "name": "stdout"
        }
      ]
    },
    {
      "cell_type": "code",
      "metadata": {
        "id": "WTgQ1jNHpD4B",
        "colab_type": "code",
        "colab": {
          "base_uri": "https://localhost:8080/",
          "height": 348
        },
        "outputId": "e2015f34-0425-4afb-8bd0-da0e5cb1242d"
      },
      "source": [
        "import manufacturing as mn\n",
        "mn.ppk_plot(df.Value, upper_control_limit=df.USL[0], lower_control_limit=df.LSL[0])"
      ],
      "execution_count": null,
      "outputs": [
        {
          "output_type": "stream",
          "text": [
            "/usr/local/lib/python3.6/dist-packages/scipy/stats/stats.py:1535: UserWarning:\n",
            "\n",
            "kurtosistest only valid for n>=20 ... continuing anyway, n=15\n",
            "\n"
          ],
          "name": "stderr"
        },
        {
          "output_type": "display_data",
          "data": {
            "image/png": "[encoded data removed]",
            "text/plain": [
              "<Figure size 432x288 with 1 Axes>"
            ]
          },
          "metadata": {
            "tags": [],
            "needs_background": "light"
          }
        }
      ]
    },
    {
      "cell_type": "code",
      "metadata": {
        "id": "FNypUAwmpD1f",
        "colab_type": "code",
        "colab": {
          "base_uri": "https://localhost:8080/",
          "height": 529
        },
        "outputId": "d2bf6938-7484-4447-d93f-0bd358c9831f"
      },
      "source": [
        "mn.cpk_plot(df.Value, upper_control_limit=df.USL[0], lower_control_limit=df.LSL[0],\n",
        "            subgroup_size=3)"
      ],
      "execution_count": null,
      "outputs": [
        {
          "output_type": "stream",
          "text": [
            "shapiro test indicates that the distribution is NOT normal\n",
            "skewtest is not valid with less than 8 samples; 3 samples were given.\n",
            "the data set is most likely not normally distributed\n",
            "skewtest is not valid with less than 8 samples; 3 samples were given.\n",
            "the zupper and zlower limits are strongly imbalanced, indicating that the process is off-center with reference to the limits\n",
            "skewtest is not valid with less than 8 samples; 3 samples were given.\n",
            "skewtest is not valid with less than 8 samples; 3 samples were given.\n",
            "the zupper and zlower limits are strongly imbalanced, indicating that the process is off-center with reference to the limits\n",
            "skewtest is not valid with less than 8 samples; 3 samples were given.\n",
            "/usr/local/lib/python3.6/dist-packages/scipy/stats/stats.py:1535: UserWarning:\n",
            "\n",
            "kurtosistest only valid for n>=20 ... continuing anyway, n=15\n",
            "\n"
          ],
          "name": "stderr"
        },
        {
          "output_type": "display_data",
          "data": {
            "image/png": "[encoded data removed]",
            "text/plain": [
              "<Figure size 432x288 with 2 Axes>"
            ]
          },
          "metadata": {
            "tags": [],
            "needs_background": "light"
          }
        }
      ]
    },
    {
      "cell_type": "code",
      "metadata": {
        "id": "SM7wlKg4x_zh",
        "colab_type": "code",
        "colab": {
          "base_uri": "https://localhost:8080/",
          "height": 284
        },
        "outputId": "ae76e391-bb2d-492f-9e8e-a57e496d7119"
      },
      "source": [
        "mn.control_plot(df.Value, upper_control_limit=df.USL[0], lower_control_limit=df.LSL[0])\n",
        "# Khong group df ở đây"
      ],
      "execution_count": null,
      "outputs": [
        {
          "output_type": "display_data",
          "data": {
            "image/png": "[encoded data removed]",
            "text/plain": [
              "<Figure size 432x288 with 1 Axes>"
            ]
          },
          "metadata": {
            "tags": [],
            "needs_background": "light"
          }
        }
      ]
    }
  ]
}