{
  "nbformat": 4,
  "nbformat_minor": 0,
  "metadata": {
    "colab": {
      "name": "Compare all bigdata method.ipynb",
      "provenance": [],
      "mount_file_id": "https://github.com/duybluemind1988/Data-science/blob/master/Sonion/Compare_all_bigdata_method.ipynb",
      "authorship_tag": "ABX9TyNtpV8aJBDfh4v/AtfZOJxY",
      "include_colab_link": true
    },
    "kernelspec": {
      "name": "python3",
      "display_name": "Python 3"
    }
  },
  "cells": [
    {
      "cell_type": "markdown",
      "metadata": {
        "id": "view-in-github",
        "colab_type": "text"
      },
      "source": [
        "<a href=\"https://colab.research.google.com/github/duybluemind1988/Data-science/blob/master/Sonion/Compare_all_bigdata_method.ipynb\" target=\"_parent\"><img src=\"https://colab.research.google.com/assets/colab-badge.svg\" alt=\"Open In Colab\"/></a>"
      ]
    },
    {
      "cell_type": "markdown",
      "metadata": {
        "id": "cHCHK8sjl0j6",
        "colab_type": "text"
      },
      "source": [
        "https://www.datarevenue.com/en-blog/pandas-vs-dask-vs-vaex-vs-modin-vs-rapids-vs-ray"
      ]
    },
    {
      "cell_type": "markdown",
      "metadata": {
        "id": "zpc5SkzQmMOY",
        "colab_type": "text"
      },
      "source": [
        "# Modin"
      ]
    },
    {
      "cell_type": "code",
      "metadata": {
        "id": "ESEJPPQXmUjo",
        "colab_type": "code",
        "colab": {}
      },
      "source": [
        "!pip install modin[all] # Install all of the above"
      ],
      "execution_count": null,
      "outputs": []
    },
    {
      "cell_type": "code",
      "metadata": {
        "id": "IFRgBPV_qA1B",
        "colab_type": "code",
        "colab": {}
      },
      "source": [
        "import datetime\n",
        "from dateutil.parser import parse"
      ],
      "execution_count": null,
      "outputs": []
    },
    {
      "cell_type": "code",
      "metadata": {
        "id": "kIGnGleolv9b",
        "colab_type": "code",
        "colab": {}
      },
      "source": [
        "import os\n",
        "import modin.pandas as pd\n",
        "path='/content/drive/My Drive/Data/Sonion/V04R-V04R-SQLData.dat' # 1.88 gb"
      ],
      "execution_count": null,
      "outputs": []
    },
    {
      "cell_type": "markdown",
      "metadata": {
        "id": "vyELfZcMnQ5Y",
        "colab_type": "text"
      },
      "source": [
        "## Dask"
      ]
    },
    {
      "cell_type": "code",
      "metadata": {
        "id": "9ub2w261m8sK",
        "colab_type": "code",
        "colab": {
          "base_uri": "https://localhost:8080/",
          "height": 51
        },
        "outputId": "9892a72e-c0c7-4688-f031-9932692dc2e7"
      },
      "source": [
        "%%time\n",
        "os.environ[\"MODIN_ENGINE\"] = \"dask\"  # Modin will use Dask\n",
        "df_dask = pd.read_csv(path,sep='\\t',header=None)"
      ],
      "execution_count": null,
      "outputs": [
        {
          "output_type": "stream",
          "text": [
            "CPU times: user 2.77 s, sys: 2.04 s, total: 4.82 s\n",
            "Wall time: 1min 22s\n"
          ],
          "name": "stdout"
        }
      ]
    },
    {
      "cell_type": "code",
      "metadata": {
        "id": "c1BfKhdB6nlf",
        "colab_type": "code",
        "colab": {}
      },
      "source": [
        "#import pandas as pd\n",
        "#df = pd.read_csv(f, parse_dates={'Date': [0,1,2]}, index_col='Date')\n",
        "#df = pd.read_csv(\"f500_new.csv\" , encoding = \"iso-8859-1\" , \n",
        "#parse_dates = {'date_col' : [\"day\", \"month\", \"year\"]} )\n",
        "#df['date_col'] = pd.to_datetime(df['date_col'])\n",
        "\n",
        "#import pandas as pd\n",
        "#mydateparser = lambda x: pd.datetime.strptime(x, \"%Y %d %m %H:%M:%S\")\n",
        "#df = pd.read_csv(\"f500_new.csv\" , encoding = \"iso-8859-1\", parse_dates = ['date_col'] , \n",
        "#date_parser = mydateparser)"
      ],
      "execution_count": null,
      "outputs": []
    },
    {
      "cell_type": "code",
      "metadata": {
        "id": "-U6V30KYnIH_",
        "colab_type": "code",
        "colab": {
          "base_uri": "https://localhost:8080/",
          "height": 372
        },
        "outputId": "f9cae6e8-2f3b-4b01-c75f-d81635ccb163"
      },
      "source": [
        "%%time\n",
        "df_dask.head()"
      ],
      "execution_count": null,
      "outputs": [
        {
          "output_type": "stream",
          "text": [
            "CPU times: user 2.94 ms, sys: 177 µs, total: 3.12 ms\n",
            "Wall time: 9.12 ms\n"
          ],
          "name": "stdout"
        },
        {
          "output_type": "execute_result",
          "data": {
            "text/html": [
              "<div>\n",
              "<style scoped>\n",
              "    .dataframe tbody tr th:only-of-type {\n",
              "        vertical-align: middle;\n",
              "    }\n",
              "\n",
              "    .dataframe tbody tr th {\n",
              "        vertical-align: top;\n",
              "    }\n",
              "\n",
              "    .dataframe thead th {\n",
              "        text-align: right;\n",
              "    }\n",
              "</style>\n",
              "<table border=\"1\" class=\"dataframe\">\n",
              "  <thead>\n",
              "    <tr style=\"text-align: right;\">\n",
              "      <th></th>\n",
              "      <th>0</th>\n",
              "      <th>1</th>\n",
              "      <th>2</th>\n",
              "      <th>3</th>\n",
              "      <th>4</th>\n",
              "      <th>5</th>\n",
              "      <th>6</th>\n",
              "      <th>7</th>\n",
              "      <th>8</th>\n",
              "      <th>9</th>\n",
              "      <th>10</th>\n",
              "      <th>125</th>\n",
              "      <th>126</th>\n",
              "      <th>127</th>\n",
              "      <th>128</th>\n",
              "      <th>129</th>\n",
              "      <th>130</th>\n",
              "      <th>131</th>\n",
              "      <th>132</th>\n",
              "      <th>133</th>\n",
              "      <th>134</th>\n",
              "      <th>135</th>\n",
              "    </tr>\n",
              "  </thead>\n",
              "  <tbody>\n",
              "    <tr>\n",
              "      <th>0</th>\n",
              "      <td>DEAFAULT</td>\n",
              "      <td>1</td>\n",
              "      <td>33AE015</td>\n",
              "      <td>11</td>\n",
              "      <td>0.0477</td>\n",
              "      <td>12/22/2017 8:44:4</td>\n",
              "      <td>1</td>\n",
              "      <td>0</td>\n",
              "      <td>300</td>\n",
              "      <td>2.34</td>\n",
              "      <td>0</td>\n",
              "      <td>0</td>\n",
              "      <td>0</td>\n",
              "      <td>0.0</td>\n",
              "      <td>0.0</td>\n",
              "      <td>0.0</td>\n",
              "      <td>0.0</td>\n",
              "      <td>0</td>\n",
              "      <td>0</td>\n",
              "      <td>0</td>\n",
              "      <td>0</td>\n",
              "      <td>NaN</td>\n",
              "    </tr>\n",
              "    <tr>\n",
              "      <th>1</th>\n",
              "      <td>DEAFAULT</td>\n",
              "      <td>1</td>\n",
              "      <td>33ae015</td>\n",
              "      <td>11</td>\n",
              "      <td>0.0477</td>\n",
              "      <td>12/22/2017 8:44:53</td>\n",
              "      <td>1</td>\n",
              "      <td>0</td>\n",
              "      <td>300</td>\n",
              "      <td>2.35</td>\n",
              "      <td>0</td>\n",
              "      <td>0</td>\n",
              "      <td>0</td>\n",
              "      <td>0.0</td>\n",
              "      <td>0.0</td>\n",
              "      <td>0.0</td>\n",
              "      <td>0.0</td>\n",
              "      <td>0</td>\n",
              "      <td>0</td>\n",
              "      <td>0</td>\n",
              "      <td>0</td>\n",
              "      <td>NaN</td>\n",
              "    </tr>\n",
              "    <tr>\n",
              "      <th>2</th>\n",
              "      <td>DEAFAULT</td>\n",
              "      <td>1</td>\n",
              "      <td>33ae015</td>\n",
              "      <td>11</td>\n",
              "      <td>0.0477</td>\n",
              "      <td>12/22/2017 8:45:15</td>\n",
              "      <td>1</td>\n",
              "      <td>0</td>\n",
              "      <td>300</td>\n",
              "      <td>2.33</td>\n",
              "      <td>0</td>\n",
              "      <td>0</td>\n",
              "      <td>0</td>\n",
              "      <td>0.0</td>\n",
              "      <td>0.0</td>\n",
              "      <td>0.0</td>\n",
              "      <td>0.0</td>\n",
              "      <td>0</td>\n",
              "      <td>0</td>\n",
              "      <td>0</td>\n",
              "      <td>0</td>\n",
              "      <td>NaN</td>\n",
              "    </tr>\n",
              "    <tr>\n",
              "      <th>3</th>\n",
              "      <td>DEAFAULT</td>\n",
              "      <td>1</td>\n",
              "      <td>33ae015</td>\n",
              "      <td>11</td>\n",
              "      <td>0.0477</td>\n",
              "      <td>12/22/2017 8:45:54</td>\n",
              "      <td>1</td>\n",
              "      <td>0</td>\n",
              "      <td>300</td>\n",
              "      <td>2.32</td>\n",
              "      <td>0</td>\n",
              "      <td>0</td>\n",
              "      <td>0</td>\n",
              "      <td>0.0</td>\n",
              "      <td>0.0</td>\n",
              "      <td>0.0</td>\n",
              "      <td>0.0</td>\n",
              "      <td>0</td>\n",
              "      <td>0</td>\n",
              "      <td>0</td>\n",
              "      <td>0</td>\n",
              "      <td>NaN</td>\n",
              "    </tr>\n",
              "    <tr>\n",
              "      <th>4</th>\n",
              "      <td>DEAFAULT</td>\n",
              "      <td>1</td>\n",
              "      <td>33ae015</td>\n",
              "      <td>11</td>\n",
              "      <td>0.0477</td>\n",
              "      <td>12/22/2017 8:46:28</td>\n",
              "      <td>1</td>\n",
              "      <td>0</td>\n",
              "      <td>300</td>\n",
              "      <td>2.36</td>\n",
              "      <td>0</td>\n",
              "      <td>0</td>\n",
              "      <td>0</td>\n",
              "      <td>0.0</td>\n",
              "      <td>0.0</td>\n",
              "      <td>0.0</td>\n",
              "      <td>0.0</td>\n",
              "      <td>0</td>\n",
              "      <td>0</td>\n",
              "      <td>0</td>\n",
              "      <td>0</td>\n",
              "      <td>NaN</td>\n",
              "    </tr>\n",
              "  </tbody>\n",
              "</table>\n",
              "</div><p>5 rows x 136 columns</p>\n",
              "</div>"
            ],
            "text/plain": [
              "        0   1        2    3       4    ... 131  132  133  134  135\n",
              "0  DEAFAULT   1  33AE015   11  0.0477  ...   0    0    0    0  NaN\n",
              "1  DEAFAULT   1  33ae015   11  0.0477  ...   0    0    0    0  NaN\n",
              "2  DEAFAULT   1  33ae015   11  0.0477  ...   0    0    0    0  NaN\n",
              "3  DEAFAULT   1  33ae015   11  0.0477  ...   0    0    0    0  NaN\n",
              "4  DEAFAULT   1  33ae015   11  0.0477  ...   0    0    0    0  NaN\n",
              "\n",
              "[5 rows x 136 columns]"
            ]
          },
          "metadata": {
            "tags": []
          },
          "execution_count": 6
        }
      ]
    },
    {
      "cell_type": "markdown",
      "metadata": {
        "id": "pRMa_3U1oXm0",
        "colab_type": "text"
      },
      "source": [
        "Cả dask và ray đều dùng ram để đọc, sau đó giải phóng ram về ban đầu (mất khoảng gần 2gb ram)"
      ]
    },
    {
      "cell_type": "code",
      "metadata": {
        "id": "obdXVk6VnVxR",
        "colab_type": "code",
        "colab": {
          "base_uri": "https://localhost:8080/",
          "height": 391
        },
        "outputId": "c618cd1e-8889-4e39-9696-8116646dbc1b"
      },
      "source": [
        "%%time\n",
        "df_dask[2].value_counts()"
      ],
      "execution_count": null,
      "outputs": [
        {
          "output_type": "stream",
          "text": [
            "CPU times: user 75.2 ms, sys: 21.1 ms, total: 96.3 ms\n",
            "Wall time: 1.56 s\n"
          ],
          "name": "stdout"
        },
        {
          "output_type": "execute_result",
          "data": {
            "text/plain": [
              "SU3037_0112       2331513\n",
              "SU3032_0112        521965\n",
              "SU3036_0110        208614\n",
              "CP_SU3032_0112      13088\n",
              "su3037_0112          7095\n",
              "su3032_0112          1726\n",
              "su3036_0110           533\n",
              "SU3037_0112t          342\n",
              "SU2010_0112           305\n",
              "5820                   75\n",
              "cp_su3032_0112         50\n",
              "tSU3037_0112           45\n",
              "33ae015                10\n",
              "su3037_0112t            3\n",
              "5070                    3\n",
              "EST65DB01               2\n",
              "t-su_ritep01            1\n",
              "CP_SU3037_0112          1\n",
              "33AE015                 1\n",
              "dtype: int64"
            ]
          },
          "metadata": {
            "tags": []
          },
          "execution_count": 7
        }
      ]
    },
    {
      "cell_type": "code",
      "metadata": {
        "id": "3rNILgCdpEuA",
        "colab_type": "code",
        "colab": {
          "base_uri": "https://localhost:8080/",
          "height": 51
        },
        "outputId": "8be6526a-1864-474c-caa9-1facc270295f"
      },
      "source": [
        "%%time\n",
        "df_product_dask=df_dask[df_dask[2]=='CP_SU3032_0112']"
      ],
      "execution_count": null,
      "outputs": [
        {
          "output_type": "stream",
          "text": [
            "CPU times: user 77.2 ms, sys: 30 ms, total: 107 ms\n",
            "Wall time: 1.47 s\n"
          ],
          "name": "stdout"
        }
      ]
    },
    {
      "cell_type": "code",
      "metadata": {
        "id": "_CECQGxdpq5-",
        "colab_type": "code",
        "colab": {
          "base_uri": "https://localhost:8080/",
          "height": 338
        },
        "outputId": "a0b24742-2057-47f9-9544-2baf5cafdd7e"
      },
      "source": [
        "df_product_dask.head()"
      ],
      "execution_count": null,
      "outputs": [
        {
          "output_type": "execute_result",
          "data": {
            "text/html": [
              "<div>\n",
              "<style scoped>\n",
              "    .dataframe tbody tr th:only-of-type {\n",
              "        vertical-align: middle;\n",
              "    }\n",
              "\n",
              "    .dataframe tbody tr th {\n",
              "        vertical-align: top;\n",
              "    }\n",
              "\n",
              "    .dataframe thead th {\n",
              "        text-align: right;\n",
              "    }\n",
              "</style>\n",
              "<table border=\"1\" class=\"dataframe\">\n",
              "  <thead>\n",
              "    <tr style=\"text-align: right;\">\n",
              "      <th></th>\n",
              "      <th>0</th>\n",
              "      <th>1</th>\n",
              "      <th>2</th>\n",
              "      <th>3</th>\n",
              "      <th>4</th>\n",
              "      <th>5</th>\n",
              "      <th>6</th>\n",
              "      <th>7</th>\n",
              "      <th>8</th>\n",
              "      <th>9</th>\n",
              "      <th>10</th>\n",
              "      <th>125</th>\n",
              "      <th>126</th>\n",
              "      <th>127</th>\n",
              "      <th>128</th>\n",
              "      <th>129</th>\n",
              "      <th>130</th>\n",
              "      <th>131</th>\n",
              "      <th>132</th>\n",
              "      <th>133</th>\n",
              "      <th>134</th>\n",
              "      <th>135</th>\n",
              "    </tr>\n",
              "  </thead>\n",
              "  <tbody>\n",
              "    <tr>\n",
              "      <th>19604</th>\n",
              "      <td>DEFAULT</td>\n",
              "      <td>CP_SU3032_0112_58536396_SMALL_M1_WK3</td>\n",
              "      <td>CP_SU3032_0112</td>\n",
              "      <td>7117</td>\n",
              "      <td>0.01349</td>\n",
              "      <td>1/16/2018 7:41:45</td>\n",
              "      <td>1</td>\n",
              "      <td>0</td>\n",
              "      <td>0</td>\n",
              "      <td>0.0</td>\n",
              "      <td>0</td>\n",
              "      <td>0</td>\n",
              "      <td>0</td>\n",
              "      <td>0.0</td>\n",
              "      <td>0.0</td>\n",
              "      <td>0.0</td>\n",
              "      <td>0.0</td>\n",
              "      <td>0</td>\n",
              "      <td>0</td>\n",
              "      <td>0</td>\n",
              "      <td>0</td>\n",
              "      <td>NaN</td>\n",
              "    </tr>\n",
              "    <tr>\n",
              "      <th>19605</th>\n",
              "      <td>DEFAULT</td>\n",
              "      <td>CP_SU3032_0112_58536396_SMALL_M1_WK3</td>\n",
              "      <td>CP_SU3032_0112</td>\n",
              "      <td>7117</td>\n",
              "      <td>0.01349</td>\n",
              "      <td>1/16/2018 7:41:55</td>\n",
              "      <td>1</td>\n",
              "      <td>0</td>\n",
              "      <td>0</td>\n",
              "      <td>0.0</td>\n",
              "      <td>0</td>\n",
              "      <td>0</td>\n",
              "      <td>0</td>\n",
              "      <td>0.0</td>\n",
              "      <td>0.0</td>\n",
              "      <td>0.0</td>\n",
              "      <td>0.0</td>\n",
              "      <td>0</td>\n",
              "      <td>0</td>\n",
              "      <td>0</td>\n",
              "      <td>0</td>\n",
              "      <td>NaN</td>\n",
              "    </tr>\n",
              "    <tr>\n",
              "      <th>19606</th>\n",
              "      <td>DEFAULT</td>\n",
              "      <td>CP_SU3032_0112_58536396_SMALL_M1_WK3</td>\n",
              "      <td>CP_SU3032_0112</td>\n",
              "      <td>7117</td>\n",
              "      <td>0.01349</td>\n",
              "      <td>1/16/2018 7:42:4</td>\n",
              "      <td>1</td>\n",
              "      <td>0</td>\n",
              "      <td>0</td>\n",
              "      <td>0.0</td>\n",
              "      <td>0</td>\n",
              "      <td>0</td>\n",
              "      <td>0</td>\n",
              "      <td>0.0</td>\n",
              "      <td>0.0</td>\n",
              "      <td>0.0</td>\n",
              "      <td>0.0</td>\n",
              "      <td>0</td>\n",
              "      <td>0</td>\n",
              "      <td>0</td>\n",
              "      <td>0</td>\n",
              "      <td>NaN</td>\n",
              "    </tr>\n",
              "    <tr>\n",
              "      <th>19607</th>\n",
              "      <td>DEFAULT</td>\n",
              "      <td>CP_SU3032_0112_58536396_SMALL_M1_WK3</td>\n",
              "      <td>CP_SU3032_0112</td>\n",
              "      <td>7117</td>\n",
              "      <td>0.01349</td>\n",
              "      <td>1/16/2018 7:42:13</td>\n",
              "      <td>1</td>\n",
              "      <td>0</td>\n",
              "      <td>0</td>\n",
              "      <td>0.0</td>\n",
              "      <td>0</td>\n",
              "      <td>0</td>\n",
              "      <td>0</td>\n",
              "      <td>0.0</td>\n",
              "      <td>0.0</td>\n",
              "      <td>0.0</td>\n",
              "      <td>0.0</td>\n",
              "      <td>0</td>\n",
              "      <td>0</td>\n",
              "      <td>0</td>\n",
              "      <td>0</td>\n",
              "      <td>NaN</td>\n",
              "    </tr>\n",
              "    <tr>\n",
              "      <th>19608</th>\n",
              "      <td>DEFAULT</td>\n",
              "      <td>CP_SU3032_0112_58536396_SMALL_M1_WK3</td>\n",
              "      <td>CP_SU3032_0112</td>\n",
              "      <td>7117</td>\n",
              "      <td>0.01349</td>\n",
              "      <td>1/16/2018 7:43:21</td>\n",
              "      <td>1</td>\n",
              "      <td>0</td>\n",
              "      <td>0</td>\n",
              "      <td>0.0</td>\n",
              "      <td>0</td>\n",
              "      <td>0</td>\n",
              "      <td>0</td>\n",
              "      <td>0.0</td>\n",
              "      <td>0.0</td>\n",
              "      <td>0.0</td>\n",
              "      <td>0.0</td>\n",
              "      <td>0</td>\n",
              "      <td>0</td>\n",
              "      <td>0</td>\n",
              "      <td>0</td>\n",
              "      <td>NaN</td>\n",
              "    </tr>\n",
              "  </tbody>\n",
              "</table>\n",
              "</div><p>5 rows x 136 columns</p>\n",
              "</div>"
            ],
            "text/plain": [
              "           0                                     1    ... 134  135\n",
              "19604  DEFAULT  CP_SU3032_0112_58536396_SMALL_M1_WK3  ...   0  NaN\n",
              "19605  DEFAULT  CP_SU3032_0112_58536396_SMALL_M1_WK3  ...   0  NaN\n",
              "19606  DEFAULT  CP_SU3032_0112_58536396_SMALL_M1_WK3  ...   0  NaN\n",
              "19607  DEFAULT  CP_SU3032_0112_58536396_SMALL_M1_WK3  ...   0  NaN\n",
              "19608  DEFAULT  CP_SU3032_0112_58536396_SMALL_M1_WK3  ...   0  NaN\n",
              "\n",
              "[5 rows x 136 columns]"
            ]
          },
          "metadata": {
            "tags": []
          },
          "execution_count": 9
        }
      ]
    },
    {
      "cell_type": "code",
      "metadata": {
        "id": "g0bogW4N4MOC",
        "colab_type": "code",
        "colab": {
          "base_uri": "https://localhost:8080/",
          "height": 68
        },
        "outputId": "19dbd723-0a7b-4c03-b798-df39b989f449"
      },
      "source": [
        "%%time\n",
        "len(df_product_dask)"
      ],
      "execution_count": null,
      "outputs": [
        {
          "output_type": "stream",
          "text": [
            "CPU times: user 17 µs, sys: 8 µs, total: 25 µs\n",
            "Wall time: 26.7 µs\n"
          ],
          "name": "stdout"
        },
        {
          "output_type": "execute_result",
          "data": {
            "text/plain": [
              "13088"
            ]
          },
          "metadata": {
            "tags": []
          },
          "execution_count": 10
        }
      ]
    },
    {
      "cell_type": "code",
      "metadata": {
        "id": "6tPF1qsO8aEc",
        "colab_type": "code",
        "colab": {
          "base_uri": "https://localhost:8080/",
          "height": 85
        },
        "outputId": "dda9ab95-1f18-4b1f-f402-acfbd4000004"
      },
      "source": [
        "%%time\n",
        "df_product_dask[5]=df_product_dask[5].astype('M8[us]')\n",
        "df_product_dask[5]"
      ],
      "execution_count": null,
      "outputs": [
        {
          "output_type": "stream",
          "text": [
            "UserWarning: `DataFrame.setitem_without_string_columns` defaulting to pandas implementation.\n"
          ],
          "name": "stderr"
        },
        {
          "output_type": "stream",
          "text": [
            "CPU times: user 272 ms, sys: 47.7 ms, total: 319 ms\n",
            "Wall time: 1.35 s\n"
          ],
          "name": "stdout"
        },
        {
          "output_type": "stream",
          "text": [
            "UserWarning: Distributing <class 'pandas.core.frame.DataFrame'> object. This may take some time.\n"
          ],
          "name": "stderr"
        }
      ]
    },
    {
      "cell_type": "code",
      "metadata": {
        "id": "EVYKgztho9U7",
        "colab_type": "code",
        "colab": {
          "base_uri": "https://localhost:8080/",
          "height": 255
        },
        "outputId": "24d45ec8-a79e-4533-f4ab-86fc2da9bd38"
      },
      "source": [
        "df_product_dask[5]=df_product_dask[5].dt.date\n",
        "df_product_dask[5]"
      ],
      "execution_count": null,
      "outputs": [
        {
          "output_type": "stream",
          "text": [
            "UserWarning: `DataFrame.setitem_without_string_columns` defaulting to pandas implementation.\n",
            "UserWarning: Distributing <class 'pandas.core.frame.DataFrame'> object. This may take some time.\n"
          ],
          "name": "stderr"
        },
        {
          "output_type": "execute_result",
          "data": {
            "text/plain": [
              "19604      2018-01-16\n",
              "19605      2018-01-16\n",
              "19606      2018-01-16\n",
              "19607      2018-01-16\n",
              "19608      2018-01-16\n",
              "              ...    \n",
              "3057035    2019-09-16\n",
              "3057036    2019-09-16\n",
              "3057037    2019-09-16\n",
              "3057038    2019-09-16\n",
              "3057039    2019-09-16\n",
              "Name: 5, Length: 13088, dtype: object"
            ]
          },
          "metadata": {
            "tags": []
          },
          "execution_count": 15
        }
      ]
    },
    {
      "cell_type": "code",
      "metadata": {
        "id": "yJ_4NmZFpKXg",
        "colab_type": "code",
        "colab": {
          "base_uri": "https://localhost:8080/",
          "height": 609
        },
        "outputId": "08b52a28-52ce-4e4b-e64f-c2f7cf2b939a"
      },
      "source": [
        "df_product_dask"
      ],
      "execution_count": null,
      "outputs": [
        {
          "output_type": "execute_result",
          "data": {
            "text/html": [
              "<div>\n",
              "<style scoped>\n",
              "    .dataframe tbody tr th:only-of-type {\n",
              "        vertical-align: middle;\n",
              "    }\n",
              "\n",
              "    .dataframe tbody tr th {\n",
              "        vertical-align: top;\n",
              "    }\n",
              "\n",
              "    .dataframe thead th {\n",
              "        text-align: right;\n",
              "    }\n",
              "</style>\n",
              "<table border=\"1\" class=\"dataframe\">\n",
              "  <thead>\n",
              "    <tr style=\"text-align: right;\">\n",
              "      <th></th>\n",
              "      <th>0</th>\n",
              "      <th>1</th>\n",
              "      <th>2</th>\n",
              "      <th>3</th>\n",
              "      <th>4</th>\n",
              "      <th>5</th>\n",
              "      <th>6</th>\n",
              "      <th>7</th>\n",
              "      <th>8</th>\n",
              "      <th>9</th>\n",
              "      <th>10</th>\n",
              "      <th>125</th>\n",
              "      <th>126</th>\n",
              "      <th>127</th>\n",
              "      <th>128</th>\n",
              "      <th>129</th>\n",
              "      <th>130</th>\n",
              "      <th>131</th>\n",
              "      <th>132</th>\n",
              "      <th>133</th>\n",
              "      <th>134</th>\n",
              "      <th>135</th>\n",
              "    </tr>\n",
              "  </thead>\n",
              "  <tbody>\n",
              "    <tr>\n",
              "      <th>19604</th>\n",
              "      <td>DEFAULT</td>\n",
              "      <td>CP_SU3032_0112_58536396_SMALL_M1_WK3</td>\n",
              "      <td>CP_SU3032_0112</td>\n",
              "      <td>7117.0</td>\n",
              "      <td>0.01349</td>\n",
              "      <td>2018-01-16</td>\n",
              "      <td>1.0</td>\n",
              "      <td>0.0</td>\n",
              "      <td>0.0</td>\n",
              "      <td>0.0</td>\n",
              "      <td>0.0</td>\n",
              "      <td>0.0</td>\n",
              "      <td>0.0</td>\n",
              "      <td>0.0</td>\n",
              "      <td>0.0</td>\n",
              "      <td>0.0</td>\n",
              "      <td>0.0</td>\n",
              "      <td>0.0</td>\n",
              "      <td>0.0</td>\n",
              "      <td>0.0</td>\n",
              "      <td>0.0</td>\n",
              "      <td>NaN</td>\n",
              "    </tr>\n",
              "    <tr>\n",
              "      <th>19605</th>\n",
              "      <td>DEFAULT</td>\n",
              "      <td>CP_SU3032_0112_58536396_SMALL_M1_WK3</td>\n",
              "      <td>CP_SU3032_0112</td>\n",
              "      <td>7117.0</td>\n",
              "      <td>0.01349</td>\n",
              "      <td>2018-01-16</td>\n",
              "      <td>1.0</td>\n",
              "      <td>0.0</td>\n",
              "      <td>0.0</td>\n",
              "      <td>0.0</td>\n",
              "      <td>0.0</td>\n",
              "      <td>0.0</td>\n",
              "      <td>0.0</td>\n",
              "      <td>0.0</td>\n",
              "      <td>0.0</td>\n",
              "      <td>0.0</td>\n",
              "      <td>0.0</td>\n",
              "      <td>0.0</td>\n",
              "      <td>0.0</td>\n",
              "      <td>0.0</td>\n",
              "      <td>0.0</td>\n",
              "      <td>NaN</td>\n",
              "    </tr>\n",
              "    <tr>\n",
              "      <th>19606</th>\n",
              "      <td>DEFAULT</td>\n",
              "      <td>CP_SU3032_0112_58536396_SMALL_M1_WK3</td>\n",
              "      <td>CP_SU3032_0112</td>\n",
              "      <td>7117.0</td>\n",
              "      <td>0.01349</td>\n",
              "      <td>2018-01-16</td>\n",
              "      <td>1.0</td>\n",
              "      <td>0.0</td>\n",
              "      <td>0.0</td>\n",
              "      <td>0.0</td>\n",
              "      <td>0.0</td>\n",
              "      <td>0.0</td>\n",
              "      <td>0.0</td>\n",
              "      <td>0.0</td>\n",
              "      <td>0.0</td>\n",
              "      <td>0.0</td>\n",
              "      <td>0.0</td>\n",
              "      <td>0.0</td>\n",
              "      <td>0.0</td>\n",
              "      <td>0.0</td>\n",
              "      <td>0.0</td>\n",
              "      <td>NaN</td>\n",
              "    </tr>\n",
              "    <tr>\n",
              "      <th>19607</th>\n",
              "      <td>DEFAULT</td>\n",
              "      <td>CP_SU3032_0112_58536396_SMALL_M1_WK3</td>\n",
              "      <td>CP_SU3032_0112</td>\n",
              "      <td>7117.0</td>\n",
              "      <td>0.01349</td>\n",
              "      <td>2018-01-16</td>\n",
              "      <td>1.0</td>\n",
              "      <td>0.0</td>\n",
              "      <td>0.0</td>\n",
              "      <td>0.0</td>\n",
              "      <td>0.0</td>\n",
              "      <td>0.0</td>\n",
              "      <td>0.0</td>\n",
              "      <td>0.0</td>\n",
              "      <td>0.0</td>\n",
              "      <td>0.0</td>\n",
              "      <td>0.0</td>\n",
              "      <td>0.0</td>\n",
              "      <td>0.0</td>\n",
              "      <td>0.0</td>\n",
              "      <td>0.0</td>\n",
              "      <td>NaN</td>\n",
              "    </tr>\n",
              "    <tr>\n",
              "      <th>19608</th>\n",
              "      <td>DEFAULT</td>\n",
              "      <td>CP_SU3032_0112_58536396_SMALL_M1_WK3</td>\n",
              "      <td>CP_SU3032_0112</td>\n",
              "      <td>7117.0</td>\n",
              "      <td>0.01349</td>\n",
              "      <td>2018-01-16</td>\n",
              "      <td>1.0</td>\n",
              "      <td>0.0</td>\n",
              "      <td>0.0</td>\n",
              "      <td>0.0</td>\n",
              "      <td>0.0</td>\n",
              "      <td>0.0</td>\n",
              "      <td>0.0</td>\n",
              "      <td>0.0</td>\n",
              "      <td>0.0</td>\n",
              "      <td>0.0</td>\n",
              "      <td>0.0</td>\n",
              "      <td>0.0</td>\n",
              "      <td>0.0</td>\n",
              "      <td>0.0</td>\n",
              "      <td>0.0</td>\n",
              "      <td>NaN</td>\n",
              "    </tr>\n",
              "    <tr>\n",
              "      <th>...</th>\n",
              "      <td>...</td>\n",
              "      <td>...</td>\n",
              "      <td>...</td>\n",
              "      <td>...</td>\n",
              "      <td>...</td>\n",
              "      <td>...</td>\n",
              "      <td>...</td>\n",
              "      <td>...</td>\n",
              "      <td>...</td>\n",
              "      <td>...</td>\n",
              "      <td>...</td>\n",
              "      <td>...</td>\n",
              "      <td>...</td>\n",
              "      <td>...</td>\n",
              "      <td>...</td>\n",
              "      <td>...</td>\n",
              "      <td>...</td>\n",
              "      <td>...</td>\n",
              "      <td>...</td>\n",
              "      <td>...</td>\n",
              "      <td>...</td>\n",
              "      <td>...</td>\n",
              "    </tr>\n",
              "    <tr>\n",
              "      <th>3057035</th>\n",
              "      <td>C67LSG2</td>\n",
              "      <td>CP_SU30320_0112_60719177 small m2 wk38</td>\n",
              "      <td>CP_SU3032_0112</td>\n",
              "      <td>5820.0</td>\n",
              "      <td>0.01366</td>\n",
              "      <td>2019-09-16</td>\n",
              "      <td>1.0</td>\n",
              "      <td>0.0</td>\n",
              "      <td>0.0</td>\n",
              "      <td>0.0</td>\n",
              "      <td>0.0</td>\n",
              "      <td>0.0</td>\n",
              "      <td>0.0</td>\n",
              "      <td>0.0</td>\n",
              "      <td>0.0</td>\n",
              "      <td>0.0</td>\n",
              "      <td>0.0</td>\n",
              "      <td>0.0</td>\n",
              "      <td>0.0</td>\n",
              "      <td>0.0</td>\n",
              "      <td>0.0</td>\n",
              "      <td>NaN</td>\n",
              "    </tr>\n",
              "    <tr>\n",
              "      <th>3057036</th>\n",
              "      <td>C67LSG2</td>\n",
              "      <td>CP_SU30320_0112_60719177 small m2 wk38</td>\n",
              "      <td>CP_SU3032_0112</td>\n",
              "      <td>5820.0</td>\n",
              "      <td>0.01366</td>\n",
              "      <td>2019-09-16</td>\n",
              "      <td>1.0</td>\n",
              "      <td>0.0</td>\n",
              "      <td>0.0</td>\n",
              "      <td>0.0</td>\n",
              "      <td>0.0</td>\n",
              "      <td>0.0</td>\n",
              "      <td>0.0</td>\n",
              "      <td>0.0</td>\n",
              "      <td>0.0</td>\n",
              "      <td>0.0</td>\n",
              "      <td>0.0</td>\n",
              "      <td>0.0</td>\n",
              "      <td>0.0</td>\n",
              "      <td>0.0</td>\n",
              "      <td>0.0</td>\n",
              "      <td>NaN</td>\n",
              "    </tr>\n",
              "    <tr>\n",
              "      <th>3057037</th>\n",
              "      <td>C67LSG2</td>\n",
              "      <td>CP_SU30320_0112_60719177 small m2 wk38</td>\n",
              "      <td>CP_SU3032_0112</td>\n",
              "      <td>5820.0</td>\n",
              "      <td>0.01366</td>\n",
              "      <td>2019-09-16</td>\n",
              "      <td>1.0</td>\n",
              "      <td>0.0</td>\n",
              "      <td>0.0</td>\n",
              "      <td>0.0</td>\n",
              "      <td>0.0</td>\n",
              "      <td>0.0</td>\n",
              "      <td>0.0</td>\n",
              "      <td>0.0</td>\n",
              "      <td>0.0</td>\n",
              "      <td>0.0</td>\n",
              "      <td>0.0</td>\n",
              "      <td>0.0</td>\n",
              "      <td>0.0</td>\n",
              "      <td>0.0</td>\n",
              "      <td>0.0</td>\n",
              "      <td>NaN</td>\n",
              "    </tr>\n",
              "    <tr>\n",
              "      <th>3057038</th>\n",
              "      <td>C67LSG2</td>\n",
              "      <td>CP_SU30320_0112_60719177 small m2 wk38</td>\n",
              "      <td>CP_SU3032_0112</td>\n",
              "      <td>5820.0</td>\n",
              "      <td>0.01366</td>\n",
              "      <td>2019-09-16</td>\n",
              "      <td>1.0</td>\n",
              "      <td>0.0</td>\n",
              "      <td>0.0</td>\n",
              "      <td>0.0</td>\n",
              "      <td>0.0</td>\n",
              "      <td>0.0</td>\n",
              "      <td>0.0</td>\n",
              "      <td>0.0</td>\n",
              "      <td>0.0</td>\n",
              "      <td>0.0</td>\n",
              "      <td>0.0</td>\n",
              "      <td>0.0</td>\n",
              "      <td>0.0</td>\n",
              "      <td>0.0</td>\n",
              "      <td>0.0</td>\n",
              "      <td>NaN</td>\n",
              "    </tr>\n",
              "    <tr>\n",
              "      <th>3057039</th>\n",
              "      <td>C67LSG2</td>\n",
              "      <td>CP_SU30320_0112_60719177 small m2 wk38</td>\n",
              "      <td>CP_SU3032_0112</td>\n",
              "      <td>5820.0</td>\n",
              "      <td>0.01366</td>\n",
              "      <td>2019-09-16</td>\n",
              "      <td>1.0</td>\n",
              "      <td>0.0</td>\n",
              "      <td>0.0</td>\n",
              "      <td>0.0</td>\n",
              "      <td>0.0</td>\n",
              "      <td>0.0</td>\n",
              "      <td>0.0</td>\n",
              "      <td>0.0</td>\n",
              "      <td>0.0</td>\n",
              "      <td>0.0</td>\n",
              "      <td>0.0</td>\n",
              "      <td>0.0</td>\n",
              "      <td>0.0</td>\n",
              "      <td>0.0</td>\n",
              "      <td>0.0</td>\n",
              "      <td>NaN</td>\n",
              "    </tr>\n",
              "  </tbody>\n",
              "</table>\n",
              "<p>13088 rows x 136 columns</p>\n",
              "</div>"
            ],
            "text/plain": [
              "             0                                        1    ...  134  135\n",
              "19604    DEFAULT     CP_SU3032_0112_58536396_SMALL_M1_WK3  ...  0.0  NaN\n",
              "19605    DEFAULT     CP_SU3032_0112_58536396_SMALL_M1_WK3  ...  0.0  NaN\n",
              "19606    DEFAULT     CP_SU3032_0112_58536396_SMALL_M1_WK3  ...  0.0  NaN\n",
              "19607    DEFAULT     CP_SU3032_0112_58536396_SMALL_M1_WK3  ...  0.0  NaN\n",
              "19608    DEFAULT     CP_SU3032_0112_58536396_SMALL_M1_WK3  ...  0.0  NaN\n",
              "...          ...                                      ...  ...  ...  ...\n",
              "3057035  C67LSG2  CP_SU30320_0112_60719177 small m2 wk38   ...  0.0  NaN\n",
              "3057036  C67LSG2  CP_SU30320_0112_60719177 small m2 wk38   ...  0.0  NaN\n",
              "3057037  C67LSG2  CP_SU30320_0112_60719177 small m2 wk38   ...  0.0  NaN\n",
              "3057038  C67LSG2  CP_SU30320_0112_60719177 small m2 wk38   ...  0.0  NaN\n",
              "3057039  C67LSG2  CP_SU30320_0112_60719177 small m2 wk38   ...  0.0  NaN\n",
              "\n",
              "[13088 rows x 136 columns]"
            ]
          },
          "metadata": {
            "tags": []
          },
          "execution_count": 18
        }
      ]
    },
    {
      "cell_type": "code",
      "metadata": {
        "id": "Ahyo5lfWpPig",
        "colab_type": "code",
        "colab": {
          "base_uri": "https://localhost:8080/",
          "height": 85
        },
        "outputId": "4b8c1e09-69a6-4a56-c165-cb3c98a72691"
      },
      "source": [
        "df_product_dask.columns"
      ],
      "execution_count": null,
      "outputs": [
        {
          "output_type": "execute_result",
          "data": {
            "text/plain": [
              "Int64Index([  0,   1,   2,   3,   4,   5,   6,   7,   8,   9,\n",
              "            ...\n",
              "            126, 127, 128, 129, 130, 131, 132, 133, 134, 135],\n",
              "           dtype='int64', length=136)"
            ]
          },
          "metadata": {
            "tags": []
          },
          "execution_count": 19
        }
      ]
    },
    {
      "cell_type": "code",
      "metadata": {
        "id": "BbOMKPBOrrwl",
        "colab_type": "code",
        "colab": {}
      },
      "source": [
        "df_product_dask.columns = ['c' + str(col)  for col in df_product_dask.columns]"
      ],
      "execution_count": null,
      "outputs": []
    },
    {
      "cell_type": "code",
      "metadata": {
        "id": "cKV6CtEftMNX",
        "colab_type": "code",
        "colab": {
          "base_uri": "https://localhost:8080/",
          "height": 338
        },
        "outputId": "bd6c7197-9315-430a-ffc0-1d7e5d9a56a6"
      },
      "source": [
        "df_product_dask.head()"
      ],
      "execution_count": null,
      "outputs": [
        {
          "output_type": "execute_result",
          "data": {
            "text/html": [
              "<div>\n",
              "<style scoped>\n",
              "    .dataframe tbody tr th:only-of-type {\n",
              "        vertical-align: middle;\n",
              "    }\n",
              "\n",
              "    .dataframe tbody tr th {\n",
              "        vertical-align: top;\n",
              "    }\n",
              "\n",
              "    .dataframe thead th {\n",
              "        text-align: right;\n",
              "    }\n",
              "</style>\n",
              "<table border=\"1\" class=\"dataframe\">\n",
              "  <thead>\n",
              "    <tr style=\"text-align: right;\">\n",
              "      <th></th>\n",
              "      <th>c0</th>\n",
              "      <th>c1</th>\n",
              "      <th>c2</th>\n",
              "      <th>c3</th>\n",
              "      <th>c4</th>\n",
              "      <th>c5</th>\n",
              "      <th>c6</th>\n",
              "      <th>c7</th>\n",
              "      <th>c8</th>\n",
              "      <th>c9</th>\n",
              "      <th>c10</th>\n",
              "      <th>c125</th>\n",
              "      <th>c126</th>\n",
              "      <th>c127</th>\n",
              "      <th>c128</th>\n",
              "      <th>c129</th>\n",
              "      <th>c130</th>\n",
              "      <th>c131</th>\n",
              "      <th>c132</th>\n",
              "      <th>c133</th>\n",
              "      <th>c134</th>\n",
              "      <th>c135</th>\n",
              "    </tr>\n",
              "  </thead>\n",
              "  <tbody>\n",
              "    <tr>\n",
              "      <th>19604</th>\n",
              "      <td>DEFAULT</td>\n",
              "      <td>CP_SU3032_0112_58536396_SMALL_M1_WK3</td>\n",
              "      <td>CP_SU3032_0112</td>\n",
              "      <td>7117.0</td>\n",
              "      <td>0.01349</td>\n",
              "      <td>2018-01-16</td>\n",
              "      <td>1.0</td>\n",
              "      <td>0.0</td>\n",
              "      <td>0.0</td>\n",
              "      <td>0.0</td>\n",
              "      <td>0.0</td>\n",
              "      <td>0.0</td>\n",
              "      <td>0.0</td>\n",
              "      <td>0.0</td>\n",
              "      <td>0.0</td>\n",
              "      <td>0.0</td>\n",
              "      <td>0.0</td>\n",
              "      <td>0.0</td>\n",
              "      <td>0.0</td>\n",
              "      <td>0.0</td>\n",
              "      <td>0.0</td>\n",
              "      <td>NaN</td>\n",
              "    </tr>\n",
              "    <tr>\n",
              "      <th>19605</th>\n",
              "      <td>DEFAULT</td>\n",
              "      <td>CP_SU3032_0112_58536396_SMALL_M1_WK3</td>\n",
              "      <td>CP_SU3032_0112</td>\n",
              "      <td>7117.0</td>\n",
              "      <td>0.01349</td>\n",
              "      <td>2018-01-16</td>\n",
              "      <td>1.0</td>\n",
              "      <td>0.0</td>\n",
              "      <td>0.0</td>\n",
              "      <td>0.0</td>\n",
              "      <td>0.0</td>\n",
              "      <td>0.0</td>\n",
              "      <td>0.0</td>\n",
              "      <td>0.0</td>\n",
              "      <td>0.0</td>\n",
              "      <td>0.0</td>\n",
              "      <td>0.0</td>\n",
              "      <td>0.0</td>\n",
              "      <td>0.0</td>\n",
              "      <td>0.0</td>\n",
              "      <td>0.0</td>\n",
              "      <td>NaN</td>\n",
              "    </tr>\n",
              "    <tr>\n",
              "      <th>19606</th>\n",
              "      <td>DEFAULT</td>\n",
              "      <td>CP_SU3032_0112_58536396_SMALL_M1_WK3</td>\n",
              "      <td>CP_SU3032_0112</td>\n",
              "      <td>7117.0</td>\n",
              "      <td>0.01349</td>\n",
              "      <td>2018-01-16</td>\n",
              "      <td>1.0</td>\n",
              "      <td>0.0</td>\n",
              "      <td>0.0</td>\n",
              "      <td>0.0</td>\n",
              "      <td>0.0</td>\n",
              "      <td>0.0</td>\n",
              "      <td>0.0</td>\n",
              "      <td>0.0</td>\n",
              "      <td>0.0</td>\n",
              "      <td>0.0</td>\n",
              "      <td>0.0</td>\n",
              "      <td>0.0</td>\n",
              "      <td>0.0</td>\n",
              "      <td>0.0</td>\n",
              "      <td>0.0</td>\n",
              "      <td>NaN</td>\n",
              "    </tr>\n",
              "    <tr>\n",
              "      <th>19607</th>\n",
              "      <td>DEFAULT</td>\n",
              "      <td>CP_SU3032_0112_58536396_SMALL_M1_WK3</td>\n",
              "      <td>CP_SU3032_0112</td>\n",
              "      <td>7117.0</td>\n",
              "      <td>0.01349</td>\n",
              "      <td>2018-01-16</td>\n",
              "      <td>1.0</td>\n",
              "      <td>0.0</td>\n",
              "      <td>0.0</td>\n",
              "      <td>0.0</td>\n",
              "      <td>0.0</td>\n",
              "      <td>0.0</td>\n",
              "      <td>0.0</td>\n",
              "      <td>0.0</td>\n",
              "      <td>0.0</td>\n",
              "      <td>0.0</td>\n",
              "      <td>0.0</td>\n",
              "      <td>0.0</td>\n",
              "      <td>0.0</td>\n",
              "      <td>0.0</td>\n",
              "      <td>0.0</td>\n",
              "      <td>NaN</td>\n",
              "    </tr>\n",
              "    <tr>\n",
              "      <th>19608</th>\n",
              "      <td>DEFAULT</td>\n",
              "      <td>CP_SU3032_0112_58536396_SMALL_M1_WK3</td>\n",
              "      <td>CP_SU3032_0112</td>\n",
              "      <td>7117.0</td>\n",
              "      <td>0.01349</td>\n",
              "      <td>2018-01-16</td>\n",
              "      <td>1.0</td>\n",
              "      <td>0.0</td>\n",
              "      <td>0.0</td>\n",
              "      <td>0.0</td>\n",
              "      <td>0.0</td>\n",
              "      <td>0.0</td>\n",
              "      <td>0.0</td>\n",
              "      <td>0.0</td>\n",
              "      <td>0.0</td>\n",
              "      <td>0.0</td>\n",
              "      <td>0.0</td>\n",
              "      <td>0.0</td>\n",
              "      <td>0.0</td>\n",
              "      <td>0.0</td>\n",
              "      <td>0.0</td>\n",
              "      <td>NaN</td>\n",
              "    </tr>\n",
              "  </tbody>\n",
              "</table>\n",
              "</div><p>5 rows x 136 columns</p>\n",
              "</div>"
            ],
            "text/plain": [
              "            c0                                    c1  ... c134  c135\n",
              "19604  DEFAULT  CP_SU3032_0112_58536396_SMALL_M1_WK3  ...  0.0   NaN\n",
              "19605  DEFAULT  CP_SU3032_0112_58536396_SMALL_M1_WK3  ...  0.0   NaN\n",
              "19606  DEFAULT  CP_SU3032_0112_58536396_SMALL_M1_WK3  ...  0.0   NaN\n",
              "19607  DEFAULT  CP_SU3032_0112_58536396_SMALL_M1_WK3  ...  0.0   NaN\n",
              "19608  DEFAULT  CP_SU3032_0112_58536396_SMALL_M1_WK3  ...  0.0   NaN\n",
              "\n",
              "[5 rows x 136 columns]"
            ]
          },
          "metadata": {
            "tags": []
          },
          "execution_count": 26
        }
      ]
    },
    {
      "cell_type": "code",
      "metadata": {
        "id": "pNcxxYL8o2AX",
        "colab_type": "code",
        "colab": {
          "base_uri": "https://localhost:8080/",
          "height": 51
        },
        "outputId": "5fe59dbe-7135-4f45-e321-e452c550b2a8"
      },
      "source": [
        "%%time\n",
        "df_group_date=df_product_dask.groupby('c5')['c59'].mean()\n",
        "df_group_date"
      ],
      "execution_count": null,
      "outputs": [
        {
          "output_type": "stream",
          "text": [
            "CPU times: user 83.9 ms, sys: 6.91 ms, total: 90.8 ms\n",
            "Wall time: 189 ms\n"
          ],
          "name": "stdout"
        }
      ]
    },
    {
      "cell_type": "code",
      "metadata": {
        "id": "n33zhOsgtSP6",
        "colab_type": "code",
        "colab": {
          "base_uri": "https://localhost:8080/",
          "height": 238
        },
        "outputId": "1fdd909f-dc93-4d5e-a238-dfce08138ae2"
      },
      "source": [
        "df_group_date"
      ],
      "execution_count": null,
      "outputs": [
        {
          "output_type": "execute_result",
          "data": {
            "text/plain": [
              "c5\n",
              "2018-01-16    108.563685\n",
              "2018-01-22    108.373110\n",
              "2018-01-30    108.158194\n",
              "2018-02-01    108.517000\n",
              "2018-02-05    108.426425\n",
              "                 ...    \n",
              "2019-08-05    108.926915\n",
              "2019-08-19    108.733868\n",
              "2019-08-26    109.037876\n",
              "2019-09-10    108.908286\n",
              "2019-09-16    108.352898\n",
              "Name: c59, Length: 107, dtype: float64"
            ]
          },
          "metadata": {
            "tags": []
          },
          "execution_count": 28
        }
      ]
    },
    {
      "cell_type": "code",
      "metadata": {
        "id": "cggVm10OtZQq",
        "colab_type": "code",
        "colab": {
          "base_uri": "https://localhost:8080/",
          "height": 576
        },
        "outputId": "c354ab65-09ac-4396-8b21-6b7a8359707d"
      },
      "source": [
        "%%time\n",
        "import plotly.graph_objects as go\n",
        "from plotly.subplots import make_subplots\n",
        "\n",
        "# Create figure with secondary y-axis\n",
        "fig =go.Figure()\n",
        "\n",
        "# Add traces\n",
        "fig.add_trace(\n",
        "    go.Scatter(x=df_group_date.index, y=df_group_date.values,\n",
        "               name=\"Mean\",line=dict( color='#FF5733'),mode='lines+markers')\n",
        ")\n",
        "\n",
        "fig.show()"
      ],
      "execution_count": null,
      "outputs": [
        {
          "output_type": "display_data",
          "data": {
            "text/html": [
              "<html>\n",
              "<head><meta charset=\"utf-8\" /></head>\n",
              "<body>\n",
              "    <div>\n",
              "            <script src=\"https://cdnjs.cloudflare.com/ajax/libs/mathjax/2.7.5/MathJax.js?config=TeX-AMS-MML_SVG\"></script><script type=\"text/javascript\">if (window.MathJax) {MathJax.Hub.Config({SVG: {font: \"STIX-Web\"}});}</script>\n",
              "                <script type=\"text/javascript\">window.PlotlyConfig = {MathJaxConfig: 'local'};</script>\n",
              "        <script src=\"https://cdn.plot.ly/plotly-latest.min.js\"></script>    \n",
              "            <div id=\"d923b593-efe1-4927-bbd0-703b07a25c6c\" class=\"plotly-graph-div\" style=\"height:525px; width:100%;\"></div>\n",
              "            <script type=\"text/javascript\">\n",
              "                \n",
              "                    window.PLOTLYENV=window.PLOTLYENV || {};\n",
              "                    \n",
              "                if (document.getElementById(\"d923b593-efe1-4927-bbd0-703b07a25c6c\")) {\n",
              "                    Plotly.newPlot(\n",
              "                        'd923b593-efe1-4927-bbd0-703b07a25c6c',\n",
              "                        [{\"line\": {\"color\": \"#FF5733\"}, \"mode\": \"lines+markers\", \"name\": \"Mean\", \"type\": \"scatter\", \"x\": [\"2018-01-16\", \"2018-01-22\", \"2018-01-30\", \"2018-02-01\", \"2018-02-05\", \"2018-02-12\", \"2018-02-22\", \"2018-02-28\", \"2018-03-01\", \"2018-03-05\", \"2018-03-06\", \"2018-03-07\", \"2018-03-09\", \"2018-03-12\", \"2018-03-21\", \"2018-03-27\", \"2018-04-02\", \"2018-04-03\", \"2018-04-04\", \"2018-04-05\", \"2018-04-06\", \"2018-04-09\", \"2018-04-16\", \"2018-04-17\", \"2018-04-18\", \"2018-04-25\", \"2018-05-03\", \"2018-05-04\", \"2018-05-07\", \"2018-05-08\", \"2018-05-09\", \"2018-05-10\", \"2018-05-14\", \"2018-05-15\", \"2018-05-21\", \"2018-05-22\", \"2018-05-23\", \"2018-05-24\", \"2018-06-03\", \"2018-06-05\", \"2018-06-11\", \"2018-06-12\", \"2018-06-13\", \"2018-06-14\", \"2018-06-25\", \"2018-07-02\", \"2018-07-03\", \"2018-07-04\", \"2018-07-05\", \"2018-07-07\", \"2018-07-16\", \"2018-07-19\", \"2018-07-23\", \"2018-07-24\", \"2018-07-31\", \"2018-08-01\", \"2018-08-02\", \"2018-08-06\", \"2018-08-24\", \"2018-08-27\", \"2018-09-04\", \"2018-09-05\", \"2018-09-10\", \"2018-09-12\", \"2018-09-13\", \"2018-09-17\", \"2018-09-24\", \"2018-09-25\", \"2018-09-26\", \"2018-10-01\", \"2018-10-10\", \"2018-10-11\", \"2018-10-16\", \"2018-10-17\", \"2018-10-24\", \"2018-10-25\", \"2018-10-29\", \"2018-11-05\", \"2018-11-06\", \"2018-11-14\", \"2018-11-19\", \"2018-11-26\", \"2018-11-27\", \"2018-11-28\", \"2018-12-04\", \"2018-12-19\", \"2018-12-31\", \"2019-02-27\", \"2019-03-05\", \"2019-03-07\", \"2019-03-25\", \"2019-03-30\", \"2019-04-01\", \"2019-04-08\", \"2019-04-09\", \"2019-04-15\", \"2019-04-22\", \"2019-04-23\", \"2019-05-02\", \"2019-06-11\", \"2019-07-02\", \"2019-07-22\", \"2019-08-05\", \"2019-08-19\", \"2019-08-26\", \"2019-09-10\", \"2019-09-16\"], \"y\": [108.56368499999996, 108.37311000000005, 108.15819402985078, 108.51700000000001, 108.42642499999998, 108.30488000000005, 108.49797014925377, 108.1772625698324, 108.52195238095237, 107.96438775510202, 108.47234042553193, 108.10787499999998, 108.50460000000001, 108.57783076923072, 108.19441121495335, 108.72218316831675, 108.49326666666667, 108.96997872340431, 108.29317777777779, 108.94880000000002, 108.41635000000001, 108.5566905829597, 108.32452688172043, 108.02706185567018, 108.74608108108107, 108.59838812785384, 108.30384444444442, 108.18546242774568, 108.45247191011232, 108.5266046511628, 108.14091111111114, 108.1095, 108.40483846153846, 108.12857291666666, 108.71899999999997, 109.13919565217394, 108.86206315789472, 108.45766666666668, 109.10009009009013, 109.07898543689318, 108.90936956521742, 109.07501176470586, 109.28785714285715, 108.747375, 108.93350793650792, 108.78039583333332, 109.05812820512823, 109.10810810810814, 109.06071739130432, 109.13365000000002, 109.03443396226417, 109.25617567567569, 109.03134042553191, 108.69162698412694, 108.35513541666666, 108.52428260869566, 108.66387096774196, 108.65064220183483, 108.66569306930695, 108.82215217391307, 108.8703953488372, 108.90748062015506, 109.21736923076928, 109.38914583333333, 108.94774999999998, 109.1833830845771, 109.48471428571429, 109.13416666666667, 109.49189130434777, 108.83607834101385, 109.2239627329193, 108.9771875, 109.02029775280891, 109.24012499999999, 109.12882558139535, 108.95000000000003, 108.85645909090911, 109.1228260869565, 109.23841666666665, 108.67690990990988, 108.2462258064516, 108.31071739130437, 108.3185609756098, 108.35562222222221, 108.28863519313292, 107.667, 108.10755785123966, 108.40851363636358, 108.41685714285718, 108.36235526315791, 108.36973333333333, 108.6847134502923, 108.3845288888889, 108.42507344632776, 108.18434210526316, 108.39107174887899, 108.57941463414637, 108.53165151515145, 108.62714736842109, 109.08380582524272, 108.89176190476192, 108.98008018867924, 108.92691500000005, 108.73386829268289, 109.03787649402389, 108.90828571428571, 108.35289839572204]}],\n",
              "                        {\"template\": {\"data\": {\"bar\": [{\"error_x\": {\"color\": \"#2a3f5f\"}, \"error_y\": {\"color\": \"#2a3f5f\"}, \"marker\": {\"line\": {\"color\": \"#E5ECF6\", \"width\": 0.5}}, \"type\": \"bar\"}], \"barpolar\": [{\"marker\": {\"line\": {\"color\": \"#E5ECF6\", \"width\": 0.5}}, \"type\": \"barpolar\"}], \"carpet\": [{\"aaxis\": {\"endlinecolor\": \"#2a3f5f\", \"gridcolor\": \"white\", \"linecolor\": \"white\", \"minorgridcolor\": \"white\", \"startlinecolor\": \"#2a3f5f\"}, \"baxis\": {\"endlinecolor\": \"#2a3f5f\", \"gridcolor\": \"white\", \"linecolor\": \"white\", \"minorgridcolor\": \"white\", \"startlinecolor\": \"#2a3f5f\"}, \"type\": \"carpet\"}], \"choropleth\": [{\"colorbar\": {\"outlinewidth\": 0, \"ticks\": \"\"}, \"type\": \"choropleth\"}], \"contour\": [{\"colorbar\": {\"outlinewidth\": 0, \"ticks\": \"\"}, \"colorscale\": [[0.0, \"#0d0887\"], [0.1111111111111111, \"#46039f\"], [0.2222222222222222, \"#7201a8\"], [0.3333333333333333, \"#9c179e\"], [0.4444444444444444, \"#bd3786\"], [0.5555555555555556, \"#d8576b\"], [0.6666666666666666, \"#ed7953\"], [0.7777777777777778, \"#fb9f3a\"], [0.8888888888888888, \"#fdca26\"], [1.0, \"#f0f921\"]], \"type\": \"contour\"}], \"contourcarpet\": [{\"colorbar\": {\"outlinewidth\": 0, \"ticks\": \"\"}, \"type\": \"contourcarpet\"}], \"heatmap\": [{\"colorbar\": {\"outlinewidth\": 0, \"ticks\": \"\"}, \"colorscale\": [[0.0, \"#0d0887\"], [0.1111111111111111, \"#46039f\"], [0.2222222222222222, \"#7201a8\"], [0.3333333333333333, \"#9c179e\"], [0.4444444444444444, \"#bd3786\"], [0.5555555555555556, \"#d8576b\"], [0.6666666666666666, \"#ed7953\"], [0.7777777777777778, \"#fb9f3a\"], [0.8888888888888888, \"#fdca26\"], [1.0, \"#f0f921\"]], \"type\": \"heatmap\"}], \"heatmapgl\": [{\"colorbar\": {\"outlinewidth\": 0, \"ticks\": \"\"}, \"colorscale\": [[0.0, \"#0d0887\"], [0.1111111111111111, \"#46039f\"], [0.2222222222222222, \"#7201a8\"], [0.3333333333333333, \"#9c179e\"], [0.4444444444444444, \"#bd3786\"], [0.5555555555555556, \"#d8576b\"], [0.6666666666666666, \"#ed7953\"], [0.7777777777777778, \"#fb9f3a\"], [0.8888888888888888, \"#fdca26\"], [1.0, \"#f0f921\"]], \"type\": \"heatmapgl\"}], \"histogram\": [{\"marker\": {\"colorbar\": {\"outlinewidth\": 0, \"ticks\": \"\"}}, \"type\": \"histogram\"}], \"histogram2d\": [{\"colorbar\": {\"outlinewidth\": 0, \"ticks\": \"\"}, \"colorscale\": [[0.0, \"#0d0887\"], [0.1111111111111111, \"#46039f\"], [0.2222222222222222, \"#7201a8\"], [0.3333333333333333, \"#9c179e\"], [0.4444444444444444, \"#bd3786\"], [0.5555555555555556, \"#d8576b\"], [0.6666666666666666, \"#ed7953\"], [0.7777777777777778, \"#fb9f3a\"], [0.8888888888888888, \"#fdca26\"], [1.0, \"#f0f921\"]], \"type\": \"histogram2d\"}], \"histogram2dcontour\": [{\"colorbar\": {\"outlinewidth\": 0, \"ticks\": \"\"}, \"colorscale\": [[0.0, \"#0d0887\"], [0.1111111111111111, \"#46039f\"], [0.2222222222222222, \"#7201a8\"], [0.3333333333333333, \"#9c179e\"], [0.4444444444444444, \"#bd3786\"], [0.5555555555555556, \"#d8576b\"], [0.6666666666666666, \"#ed7953\"], [0.7777777777777778, \"#fb9f3a\"], [0.8888888888888888, \"#fdca26\"], [1.0, \"#f0f921\"]], \"type\": \"histogram2dcontour\"}], \"mesh3d\": [{\"colorbar\": {\"outlinewidth\": 0, \"ticks\": \"\"}, \"type\": \"mesh3d\"}], \"parcoords\": [{\"line\": {\"colorbar\": {\"outlinewidth\": 0, \"ticks\": \"\"}}, \"type\": \"parcoords\"}], \"pie\": [{\"automargin\": true, \"type\": \"pie\"}], \"scatter\": [{\"marker\": {\"colorbar\": {\"outlinewidth\": 0, \"ticks\": \"\"}}, \"type\": \"scatter\"}], \"scatter3d\": [{\"line\": {\"colorbar\": {\"outlinewidth\": 0, \"ticks\": \"\"}}, \"marker\": {\"colorbar\": {\"outlinewidth\": 0, \"ticks\": \"\"}}, \"type\": \"scatter3d\"}], \"scattercarpet\": [{\"marker\": {\"colorbar\": {\"outlinewidth\": 0, \"ticks\": \"\"}}, \"type\": \"scattercarpet\"}], \"scattergeo\": [{\"marker\": {\"colorbar\": {\"outlinewidth\": 0, \"ticks\": \"\"}}, \"type\": \"scattergeo\"}], \"scattergl\": [{\"marker\": {\"colorbar\": {\"outlinewidth\": 0, \"ticks\": \"\"}}, \"type\": \"scattergl\"}], \"scattermapbox\": [{\"marker\": {\"colorbar\": {\"outlinewidth\": 0, \"ticks\": \"\"}}, \"type\": \"scattermapbox\"}], \"scatterpolar\": [{\"marker\": {\"colorbar\": {\"outlinewidth\": 0, \"ticks\": \"\"}}, \"type\": \"scatterpolar\"}], \"scatterpolargl\": [{\"marker\": {\"colorbar\": {\"outlinewidth\": 0, \"ticks\": \"\"}}, \"type\": \"scatterpolargl\"}], \"scatterternary\": [{\"marker\": {\"colorbar\": {\"outlinewidth\": 0, \"ticks\": \"\"}}, \"type\": \"scatterternary\"}], \"surface\": [{\"colorbar\": {\"outlinewidth\": 0, \"ticks\": \"\"}, \"colorscale\": [[0.0, \"#0d0887\"], [0.1111111111111111, \"#46039f\"], [0.2222222222222222, \"#7201a8\"], [0.3333333333333333, \"#9c179e\"], [0.4444444444444444, \"#bd3786\"], [0.5555555555555556, \"#d8576b\"], [0.6666666666666666, \"#ed7953\"], [0.7777777777777778, \"#fb9f3a\"], [0.8888888888888888, \"#fdca26\"], [1.0, \"#f0f921\"]], \"type\": \"surface\"}], \"table\": [{\"cells\": {\"fill\": {\"color\": \"#EBF0F8\"}, \"line\": {\"color\": \"white\"}}, \"header\": {\"fill\": {\"color\": \"#C8D4E3\"}, \"line\": {\"color\": \"white\"}}, \"type\": \"table\"}]}, \"layout\": {\"annotationdefaults\": {\"arrowcolor\": \"#2a3f5f\", \"arrowhead\": 0, \"arrowwidth\": 1}, \"coloraxis\": {\"colorbar\": {\"outlinewidth\": 0, \"ticks\": \"\"}}, \"colorscale\": {\"diverging\": [[0, \"#8e0152\"], [0.1, \"#c51b7d\"], [0.2, \"#de77ae\"], [0.3, \"#f1b6da\"], [0.4, \"#fde0ef\"], [0.5, \"#f7f7f7\"], [0.6, \"#e6f5d0\"], [0.7, \"#b8e186\"], [0.8, \"#7fbc41\"], [0.9, \"#4d9221\"], [1, \"#276419\"]], \"sequential\": [[0.0, \"#0d0887\"], [0.1111111111111111, \"#46039f\"], [0.2222222222222222, \"#7201a8\"], [0.3333333333333333, \"#9c179e\"], [0.4444444444444444, \"#bd3786\"], [0.5555555555555556, \"#d8576b\"], [0.6666666666666666, \"#ed7953\"], [0.7777777777777778, \"#fb9f3a\"], [0.8888888888888888, \"#fdca26\"], [1.0, \"#f0f921\"]], \"sequentialminus\": [[0.0, \"#0d0887\"], [0.1111111111111111, \"#46039f\"], [0.2222222222222222, \"#7201a8\"], [0.3333333333333333, \"#9c179e\"], [0.4444444444444444, \"#bd3786\"], [0.5555555555555556, \"#d8576b\"], [0.6666666666666666, \"#ed7953\"], [0.7777777777777778, \"#fb9f3a\"], [0.8888888888888888, \"#fdca26\"], [1.0, \"#f0f921\"]]}, \"colorway\": [\"#636efa\", \"#EF553B\", \"#00cc96\", \"#ab63fa\", \"#FFA15A\", \"#19d3f3\", \"#FF6692\", \"#B6E880\", \"#FF97FF\", \"#FECB52\"], \"font\": {\"color\": \"#2a3f5f\"}, \"geo\": {\"bgcolor\": \"white\", \"lakecolor\": \"white\", \"landcolor\": \"#E5ECF6\", \"showlakes\": true, \"showland\": true, \"subunitcolor\": \"white\"}, \"hoverlabel\": {\"align\": \"left\"}, \"hovermode\": \"closest\", \"mapbox\": {\"style\": \"light\"}, \"paper_bgcolor\": \"white\", \"plot_bgcolor\": \"#E5ECF6\", \"polar\": {\"angularaxis\": {\"gridcolor\": \"white\", \"linecolor\": \"white\", \"ticks\": \"\"}, \"bgcolor\": \"#E5ECF6\", \"radialaxis\": {\"gridcolor\": \"white\", \"linecolor\": \"white\", \"ticks\": \"\"}}, \"scene\": {\"xaxis\": {\"backgroundcolor\": \"#E5ECF6\", \"gridcolor\": \"white\", \"gridwidth\": 2, \"linecolor\": \"white\", \"showbackground\": true, \"ticks\": \"\", \"zerolinecolor\": \"white\"}, \"yaxis\": {\"backgroundcolor\": \"#E5ECF6\", \"gridcolor\": \"white\", \"gridwidth\": 2, \"linecolor\": \"white\", \"showbackground\": true, \"ticks\": \"\", \"zerolinecolor\": \"white\"}, \"zaxis\": {\"backgroundcolor\": \"#E5ECF6\", \"gridcolor\": \"white\", \"gridwidth\": 2, \"linecolor\": \"white\", \"showbackground\": true, \"ticks\": \"\", \"zerolinecolor\": \"white\"}}, \"shapedefaults\": {\"line\": {\"color\": \"#2a3f5f\"}}, \"ternary\": {\"aaxis\": {\"gridcolor\": \"white\", \"linecolor\": \"white\", \"ticks\": \"\"}, \"baxis\": {\"gridcolor\": \"white\", \"linecolor\": \"white\", \"ticks\": \"\"}, \"bgcolor\": \"#E5ECF6\", \"caxis\": {\"gridcolor\": \"white\", \"linecolor\": \"white\", \"ticks\": \"\"}}, \"title\": {\"x\": 0.05}, \"xaxis\": {\"automargin\": true, \"gridcolor\": \"white\", \"linecolor\": \"white\", \"ticks\": \"\", \"title\": {\"standoff\": 15}, \"zerolinecolor\": \"white\", \"zerolinewidth\": 2}, \"yaxis\": {\"automargin\": true, \"gridcolor\": \"white\", \"linecolor\": \"white\", \"ticks\": \"\", \"title\": {\"standoff\": 15}, \"zerolinecolor\": \"white\", \"zerolinewidth\": 2}}}},\n",
              "                        {\"responsive\": true}\n",
              "                    ).then(function(){\n",
              "                            \n",
              "var gd = document.getElementById('d923b593-efe1-4927-bbd0-703b07a25c6c');\n",
              "var x = new MutationObserver(function (mutations, observer) {{\n",
              "        var display = window.getComputedStyle(gd).display;\n",
              "        if (!display || display === 'none') {{\n",
              "            console.log([gd, 'removed!']);\n",
              "            Plotly.purge(gd);\n",
              "            observer.disconnect();\n",
              "        }}\n",
              "}});\n",
              "\n",
              "// Listen for the removal of the full notebook cells\n",
              "var notebookContainer = gd.closest('#notebook-container');\n",
              "if (notebookContainer) {{\n",
              "    x.observe(notebookContainer, {childList: true});\n",
              "}}\n",
              "\n",
              "// Listen for the clearing of the current output cell\n",
              "var outputEl = gd.closest('.output');\n",
              "if (outputEl) {{\n",
              "    x.observe(outputEl, {childList: true});\n",
              "}}\n",
              "\n",
              "                        })\n",
              "                };\n",
              "                \n",
              "            </script>\n",
              "        </div>\n",
              "</body>\n",
              "</html>"
            ]
          },
          "metadata": {
            "tags": []
          }
        },
        {
          "output_type": "stream",
          "text": [
            "CPU times: user 1.01 s, sys: 258 ms, total: 1.26 s\n",
            "Wall time: 2.05 s\n"
          ],
          "name": "stdout"
        }
      ]
    },
    {
      "cell_type": "markdown",
      "metadata": {
        "id": "g5h7YyeDu_PC",
        "colab_type": "text"
      },
      "source": [
        "## Đọc file năng"
      ]
    },
    {
      "cell_type": "code",
      "metadata": {
        "id": "at018dy1CRP3",
        "colab_type": "code",
        "colab": {}
      },
      "source": [
        "import os\n",
        "import modin.pandas as pd"
      ],
      "execution_count": null,
      "outputs": []
    },
    {
      "cell_type": "code",
      "metadata": {
        "id": "VRGrMD2FvRxu",
        "colab_type": "code",
        "colab": {
          "base_uri": "https://localhost:8080/",
          "height": 51
        },
        "outputId": "2727bcdb-0b62-4755-9c90-8a78314430b2"
      },
      "source": [
        "%%time\n",
        "path='/content/drive/My Drive/Data/Sonion/V04R-V04R-SQLData.dat' # 1.88 gb\n",
        "os.environ[\"MODIN_ENGINE\"] = \"dask\"  # Modin will use Dask\n",
        "df = pd.read_csv(path,sep='\\t',header=None)"
      ],
      "execution_count": null,
      "outputs": [
        {
          "output_type": "stream",
          "text": [
            "CPU times: user 2.9 s, sys: 1.95 s, total: 4.85 s\n",
            "Wall time: 1min 18s\n"
          ],
          "name": "stdout"
        }
      ]
    },
    {
      "cell_type": "code",
      "metadata": {
        "id": "Sah_QHmj9fRK",
        "colab_type": "code",
        "colab": {}
      },
      "source": [
        "df.columns = ['c' + str(col)  for col in df.columns]"
      ],
      "execution_count": null,
      "outputs": []
    },
    {
      "cell_type": "code",
      "metadata": {
        "id": "XYqfOcwUvBcw",
        "colab_type": "code",
        "colab": {
          "base_uri": "https://localhost:8080/",
          "height": 51
        },
        "outputId": "036f7469-75d5-4c48-d926-567344fb9fc0"
      },
      "source": [
        "%%time\n",
        "df_filter=df[df['c2']=='SU3037_0112'] # 2 tr rows\n",
        "df_filter"
      ],
      "execution_count": null,
      "outputs": [
        {
          "output_type": "stream",
          "text": [
            "CPU times: user 1.38 s, sys: 176 ms, total: 1.56 s\n",
            "Wall time: 5.87 s\n"
          ],
          "name": "stdout"
        }
      ]
    },
    {
      "cell_type": "code",
      "metadata": {
        "id": "WOJbVqfvvBfY",
        "colab_type": "code",
        "colab": {
          "base_uri": "https://localhost:8080/",
          "height": 380
        },
        "outputId": "50e995a8-63f6-4572-9b51-c10809850ded"
      },
      "source": [
        "%%time\n",
        "df_filter.describe()"
      ],
      "execution_count": null,
      "outputs": [
        {
          "output_type": "stream",
          "text": [
            "CPU times: user 1.36 s, sys: 314 ms, total: 1.68 s\n",
            "Wall time: 45.5 s\n"
          ],
          "name": "stdout"
        },
        {
          "output_type": "execute_result",
          "data": {
            "text/html": [
              "<div>\n",
              "<style scoped>\n",
              "    .dataframe tbody tr th:only-of-type {\n",
              "        vertical-align: middle;\n",
              "    }\n",
              "\n",
              "    .dataframe tbody tr th {\n",
              "        vertical-align: top;\n",
              "    }\n",
              "\n",
              "    .dataframe thead th {\n",
              "        text-align: right;\n",
              "    }\n",
              "</style>\n",
              "<table border=\"1\" class=\"dataframe\">\n",
              "  <thead>\n",
              "    <tr style=\"text-align: right;\">\n",
              "      <th></th>\n",
              "      <th>c3</th>\n",
              "      <th>c6</th>\n",
              "      <th>c7</th>\n",
              "      <th>c8</th>\n",
              "      <th>c9</th>\n",
              "      <th>c10</th>\n",
              "      <th>c11</th>\n",
              "      <th>c12</th>\n",
              "      <th>c13</th>\n",
              "      <th>c14</th>\n",
              "      <th>c15</th>\n",
              "      <th>c125</th>\n",
              "      <th>c126</th>\n",
              "      <th>c127</th>\n",
              "      <th>c128</th>\n",
              "      <th>c129</th>\n",
              "      <th>c130</th>\n",
              "      <th>c131</th>\n",
              "      <th>c132</th>\n",
              "      <th>c133</th>\n",
              "      <th>c134</th>\n",
              "      <th>c135</th>\n",
              "    </tr>\n",
              "  </thead>\n",
              "  <tbody>\n",
              "    <tr>\n",
              "      <th>count</th>\n",
              "      <td>2.331513e+06</td>\n",
              "      <td>2.331513e+06</td>\n",
              "      <td>2331513.0</td>\n",
              "      <td>2331513.0</td>\n",
              "      <td>2.331513e+06</td>\n",
              "      <td>2331513.0</td>\n",
              "      <td>2331513.0</td>\n",
              "      <td>2.331513e+06</td>\n",
              "      <td>2331513.0</td>\n",
              "      <td>2331513.0</td>\n",
              "      <td>2331513.0</td>\n",
              "      <td>2.331513e+06</td>\n",
              "      <td>2.331513e+06</td>\n",
              "      <td>2331513.0</td>\n",
              "      <td>2331513.0</td>\n",
              "      <td>2331513.0</td>\n",
              "      <td>2331513.0</td>\n",
              "      <td>2331513.0</td>\n",
              "      <td>2331513.0</td>\n",
              "      <td>2331513.0</td>\n",
              "      <td>2331513.0</td>\n",
              "      <td>0.0</td>\n",
              "    </tr>\n",
              "    <tr>\n",
              "      <th>mean</th>\n",
              "      <td>9.985860e+03</td>\n",
              "      <td>1.000434e+00</td>\n",
              "      <td>0.0</td>\n",
              "      <td>933.0</td>\n",
              "      <td>3.103666e+00</td>\n",
              "      <td>0.0</td>\n",
              "      <td>1400.0</td>\n",
              "      <td>1.882470e+00</td>\n",
              "      <td>0.0</td>\n",
              "      <td>0.0</td>\n",
              "      <td>0.0</td>\n",
              "      <td>3.327882e-03</td>\n",
              "      <td>1.214233e-03</td>\n",
              "      <td>0.0</td>\n",
              "      <td>0.0</td>\n",
              "      <td>0.0</td>\n",
              "      <td>0.0</td>\n",
              "      <td>0.0</td>\n",
              "      <td>0.0</td>\n",
              "      <td>0.0</td>\n",
              "      <td>0.0</td>\n",
              "      <td>NaN</td>\n",
              "    </tr>\n",
              "    <tr>\n",
              "      <th>std</th>\n",
              "      <td>6.501723e+03</td>\n",
              "      <td>4.065484e-02</td>\n",
              "      <td>0.0</td>\n",
              "      <td>0.0</td>\n",
              "      <td>2.502048e+00</td>\n",
              "      <td>0.0</td>\n",
              "      <td>0.0</td>\n",
              "      <td>2.186195e+00</td>\n",
              "      <td>0.0</td>\n",
              "      <td>0.0</td>\n",
              "      <td>0.0</td>\n",
              "      <td>1.495133e-01</td>\n",
              "      <td>8.404189e-02</td>\n",
              "      <td>0.0</td>\n",
              "      <td>0.0</td>\n",
              "      <td>0.0</td>\n",
              "      <td>0.0</td>\n",
              "      <td>0.0</td>\n",
              "      <td>0.0</td>\n",
              "      <td>0.0</td>\n",
              "      <td>0.0</td>\n",
              "      <td>NaN</td>\n",
              "    </tr>\n",
              "    <tr>\n",
              "      <th>min</th>\n",
              "      <td>0.000000e+00</td>\n",
              "      <td>0.000000e+00</td>\n",
              "      <td>0.0</td>\n",
              "      <td>933.0</td>\n",
              "      <td>0.000000e+00</td>\n",
              "      <td>0.0</td>\n",
              "      <td>1400.0</td>\n",
              "      <td>0.000000e+00</td>\n",
              "      <td>0.0</td>\n",
              "      <td>0.0</td>\n",
              "      <td>0.0</td>\n",
              "      <td>0.000000e+00</td>\n",
              "      <td>0.000000e+00</td>\n",
              "      <td>0.0</td>\n",
              "      <td>0.0</td>\n",
              "      <td>0.0</td>\n",
              "      <td>0.0</td>\n",
              "      <td>0.0</td>\n",
              "      <td>0.0</td>\n",
              "      <td>0.0</td>\n",
              "      <td>0.0</td>\n",
              "      <td>NaN</td>\n",
              "    </tr>\n",
              "    <tr>\n",
              "      <th>25%</th>\n",
              "      <td>5.070000e+03</td>\n",
              "      <td>1.000000e+00</td>\n",
              "      <td>0.0</td>\n",
              "      <td>933.0</td>\n",
              "      <td>2.440000e+00</td>\n",
              "      <td>0.0</td>\n",
              "      <td>1400.0</td>\n",
              "      <td>1.070000e+00</td>\n",
              "      <td>0.0</td>\n",
              "      <td>0.0</td>\n",
              "      <td>0.0</td>\n",
              "      <td>0.000000e+00</td>\n",
              "      <td>0.000000e+00</td>\n",
              "      <td>0.0</td>\n",
              "      <td>0.0</td>\n",
              "      <td>0.0</td>\n",
              "      <td>0.0</td>\n",
              "      <td>0.0</td>\n",
              "      <td>0.0</td>\n",
              "      <td>0.0</td>\n",
              "      <td>0.0</td>\n",
              "      <td>NaN</td>\n",
              "    </tr>\n",
              "    <tr>\n",
              "      <th>50%</th>\n",
              "      <td>7.117000e+03</td>\n",
              "      <td>1.000000e+00</td>\n",
              "      <td>0.0</td>\n",
              "      <td>933.0</td>\n",
              "      <td>2.900000e+00</td>\n",
              "      <td>0.0</td>\n",
              "      <td>1400.0</td>\n",
              "      <td>1.630000e+00</td>\n",
              "      <td>0.0</td>\n",
              "      <td>0.0</td>\n",
              "      <td>0.0</td>\n",
              "      <td>0.000000e+00</td>\n",
              "      <td>0.000000e+00</td>\n",
              "      <td>0.0</td>\n",
              "      <td>0.0</td>\n",
              "      <td>0.0</td>\n",
              "      <td>0.0</td>\n",
              "      <td>0.0</td>\n",
              "      <td>0.0</td>\n",
              "      <td>0.0</td>\n",
              "      <td>0.0</td>\n",
              "      <td>NaN</td>\n",
              "    </tr>\n",
              "    <tr>\n",
              "      <th>75%</th>\n",
              "      <td>1.425800e+04</td>\n",
              "      <td>1.000000e+00</td>\n",
              "      <td>0.0</td>\n",
              "      <td>933.0</td>\n",
              "      <td>3.500000e+00</td>\n",
              "      <td>0.0</td>\n",
              "      <td>1400.0</td>\n",
              "      <td>2.370000e+00</td>\n",
              "      <td>0.0</td>\n",
              "      <td>0.0</td>\n",
              "      <td>0.0</td>\n",
              "      <td>0.000000e+00</td>\n",
              "      <td>0.000000e+00</td>\n",
              "      <td>0.0</td>\n",
              "      <td>0.0</td>\n",
              "      <td>0.0</td>\n",
              "      <td>0.0</td>\n",
              "      <td>0.0</td>\n",
              "      <td>0.0</td>\n",
              "      <td>0.0</td>\n",
              "      <td>0.0</td>\n",
              "      <td>NaN</td>\n",
              "    </tr>\n",
              "    <tr>\n",
              "      <th>max</th>\n",
              "      <td>6.137010e+05</td>\n",
              "      <td>3.000000e+00</td>\n",
              "      <td>0.0</td>\n",
              "      <td>933.0</td>\n",
              "      <td>1.339840e+03</td>\n",
              "      <td>0.0</td>\n",
              "      <td>1400.0</td>\n",
              "      <td>8.811300e+02</td>\n",
              "      <td>0.0</td>\n",
              "      <td>0.0</td>\n",
              "      <td>0.0</td>\n",
              "      <td>9.000000e+00</td>\n",
              "      <td>9.000000e+00</td>\n",
              "      <td>0.0</td>\n",
              "      <td>0.0</td>\n",
              "      <td>0.0</td>\n",
              "      <td>0.0</td>\n",
              "      <td>0.0</td>\n",
              "      <td>0.0</td>\n",
              "      <td>0.0</td>\n",
              "      <td>0.0</td>\n",
              "      <td>NaN</td>\n",
              "    </tr>\n",
              "  </tbody>\n",
              "</table>\n",
              "</div><p>8 rows x 131 columns</p>\n",
              "</div>"
            ],
            "text/plain": [
              "                 c3            c6         c7  ...       c133       c134  c135\n",
              "count  2.331513e+06  2.331513e+06  2331513.0  ...  2331513.0  2331513.0   0.0\n",
              "mean   9.985860e+03  1.000434e+00        0.0  ...        0.0        0.0   NaN\n",
              "std    6.501723e+03  4.065484e-02        0.0  ...        0.0        0.0   NaN\n",
              "min    0.000000e+00  0.000000e+00        0.0  ...        0.0        0.0   NaN\n",
              "25%    5.070000e+03  1.000000e+00        0.0  ...        0.0        0.0   NaN\n",
              "50%    7.117000e+03  1.000000e+00        0.0  ...        0.0        0.0   NaN\n",
              "75%    1.425800e+04  1.000000e+00        0.0  ...        0.0        0.0   NaN\n",
              "max    6.137010e+05  3.000000e+00        0.0  ...        0.0        0.0   NaN\n",
              "\n",
              "[8 rows x 131 columns]"
            ]
          },
          "metadata": {
            "tags": []
          },
          "execution_count": 5
        }
      ]
    },
    {
      "cell_type": "code",
      "metadata": {
        "id": "yFKoBG21vUy3",
        "colab_type": "code",
        "colab": {
          "base_uri": "https://localhost:8080/",
          "height": 51
        },
        "outputId": "2fd687d9-b4f1-4a98-bae1-baf502382f42"
      },
      "source": [
        "%%time\n",
        "df_filter['c5']=df_filter['c5'].astype('M8[us]')\n",
        "df_filter['c5']=df_filter['c5'].dt.date\n",
        "df_filter['c5']"
      ],
      "execution_count": null,
      "outputs": [
        {
          "output_type": "stream",
          "text": [
            "CPU times: user 42.8 ms, sys: 1.56 ms, total: 44.3 ms\n",
            "Wall time: 78.9 ms\n"
          ],
          "name": "stdout"
        }
      ]
    },
    {
      "cell_type": "code",
      "metadata": {
        "id": "B1lglx-dvU1Z",
        "colab_type": "code",
        "colab": {
          "base_uri": "https://localhost:8080/",
          "height": 51
        },
        "outputId": "62292086-085b-452b-8d84-89c112596ae9"
      },
      "source": [
        "%%time\n",
        "df_group_date=df_filter.groupby('c5')['c65'].mean() # 1 Khz\n",
        "df_group_date"
      ],
      "execution_count": null,
      "outputs": [
        {
          "output_type": "stream",
          "text": [
            "CPU times: user 10 s, sys: 1.54 s, total: 11.6 s\n",
            "Wall time: 3min 40s\n"
          ],
          "name": "stdout"
        }
      ]
    },
    {
      "cell_type": "code",
      "metadata": {
        "id": "CK3Jc34YvU4i",
        "colab_type": "code",
        "colab": {}
      },
      "source": [
        "%%time\n",
        "import plotly.graph_objects as go\n",
        "from plotly.subplots import make_subplots\n",
        "\n",
        "# Create figure with secondary y-axis\n",
        "fig =go.Figure()\n",
        "\n",
        "# Add traces\n",
        "fig.add_trace(\n",
        "    go.Scatter(x=df_group_date.index, y=df_group_date.values,\n",
        "               name=\"Mean\",line=dict( color='#FF5733'),mode='lines+markers')\n",
        ")\n",
        "\n",
        "fig.show()"
      ],
      "execution_count": null,
      "outputs": []
    },
    {
      "cell_type": "code",
      "metadata": {
        "id": "RZcj1jAHvBiP",
        "colab_type": "code",
        "colab": {}
      },
      "source": [
        ""
      ],
      "execution_count": null,
      "outputs": []
    },
    {
      "cell_type": "code",
      "metadata": {
        "id": "JPM7LBGT8-bw",
        "colab_type": "code",
        "colab": {}
      },
      "source": [
        "#%%time\n",
        "#meta = ('time', pd.Timestamp)\n",
        "#df_product_dask[5].map_partitions(pd.to_datetime, meta=meta)"
      ],
      "execution_count": null,
      "outputs": []
    },
    {
      "cell_type": "code",
      "metadata": {
        "id": "ATLRzYd09Sb4",
        "colab_type": "code",
        "colab": {}
      },
      "source": [
        "#my_ddf['time'].map_partitions(to_datetime, columns='time').compute(get=dask.async.get_sync)"
      ],
      "execution_count": null,
      "outputs": []
    },
    {
      "cell_type": "code",
      "metadata": {
        "id": "aX87_3xi9X4R",
        "colab_type": "code",
        "colab": {}
      },
      "source": [
        "#%time to_datetime(dask_df['time'].compute(), format=\"%Y%m%d %H:%M:%S.%f\" )\n",
        "\n",
        "#%time to_datetime(pandas_df.time, format=\"%Y%m%d %H:%M:%S.%f\")"
      ],
      "execution_count": null,
      "outputs": []
    },
    {
      "cell_type": "code",
      "metadata": {
        "id": "-VWTS-84pv6c",
        "colab_type": "code",
        "colab": {}
      },
      "source": [
        "#%%time\n",
        "#df_product_dask[5]=df_product_dask[5].apply(lambda x: parse(x) )\n",
        "#df_product_dask[5]=df_product_dask[5].apply(lambda x: x.date() )"
      ],
      "execution_count": null,
      "outputs": []
    },
    {
      "cell_type": "markdown",
      "metadata": {
        "id": "tKAEcbueo7ze",
        "colab_type": "text"
      },
      "source": [
        "## Ray"
      ]
    },
    {
      "cell_type": "code",
      "metadata": {
        "id": "wVRO1lic__98",
        "colab_type": "code",
        "colab": {}
      },
      "source": [
        "import os\n",
        "import modin.pandas as pd"
      ],
      "execution_count": null,
      "outputs": []
    },
    {
      "cell_type": "code",
      "metadata": {
        "id": "APf158sLnM8x",
        "colab_type": "code",
        "colab": {
          "base_uri": "https://localhost:8080/",
          "height": 51
        },
        "outputId": "58bbf6af-6d09-4d71-95f5-d96d4e161557"
      },
      "source": [
        "%%time\n",
        "path='/content/drive/My Drive/Data/Sonion/V04R-V04R-SQLData.dat' # 1.88 gb\n",
        "os.environ[\"MODIN_ENGINE\"] = \"ray\"  # Modin will use Ray\n",
        "df = pd.read_csv(path,sep='\\t',header=None)"
      ],
      "execution_count": null,
      "outputs": [
        {
          "output_type": "stream",
          "text": [
            "CPU times: user 3.66 s, sys: 2.01 s, total: 5.68 s\n",
            "Wall time: 1min 24s\n"
          ],
          "name": "stdout"
        }
      ]
    },
    {
      "cell_type": "code",
      "metadata": {
        "id": "J2ulTkROATSz",
        "colab_type": "code",
        "colab": {}
      },
      "source": [
        "df.columns = ['c' + str(col)  for col in df.columns]"
      ],
      "execution_count": null,
      "outputs": []
    },
    {
      "cell_type": "code",
      "metadata": {
        "id": "bN037eeMo2BP",
        "colab_type": "code",
        "colab": {
          "base_uri": "https://localhost:8080/",
          "height": 391
        },
        "outputId": "69c56747-79da-4b9a-80b6-89864b720ffc"
      },
      "source": [
        "%%time\n",
        "df['c2'].value_counts()"
      ],
      "execution_count": null,
      "outputs": [
        {
          "output_type": "stream",
          "text": [
            "CPU times: user 164 ms, sys: 33 ms, total: 197 ms\n",
            "Wall time: 4.37 s\n"
          ],
          "name": "stdout"
        },
        {
          "output_type": "execute_result",
          "data": {
            "text/plain": [
              "SU3037_0112       2331513\n",
              "SU3032_0112        521965\n",
              "SU3036_0110        208614\n",
              "CP_SU3032_0112      13088\n",
              "su3037_0112          7095\n",
              "su3032_0112          1726\n",
              "su3036_0110           533\n",
              "SU3037_0112t          342\n",
              "SU2010_0112           305\n",
              "5820                   75\n",
              "cp_su3032_0112         50\n",
              "tSU3037_0112           45\n",
              "33ae015                10\n",
              "su3037_0112t            3\n",
              "5070                    3\n",
              "EST65DB01               2\n",
              "t-su_ritep01            1\n",
              "CP_SU3037_0112          1\n",
              "33AE015                 1\n",
              "dtype: int64"
            ]
          },
          "metadata": {
            "tags": []
          },
          "execution_count": 4
        }
      ]
    },
    {
      "cell_type": "code",
      "metadata": {
        "id": "fp2efmHrAiSp",
        "colab_type": "code",
        "colab": {
          "base_uri": "https://localhost:8080/",
          "height": 51
        },
        "outputId": "341ff20e-8f68-4be7-f7c3-3f6596f7a2f7"
      },
      "source": [
        "%%time\n",
        "df_filter=df[df['c2']=='SU3037_0112'] # 2 tr rows\n",
        "df_filter"
      ],
      "execution_count": null,
      "outputs": [
        {
          "output_type": "stream",
          "text": [
            "CPU times: user 1.38 s, sys: 161 ms, total: 1.54 s\n",
            "Wall time: 3.25 s\n"
          ],
          "name": "stdout"
        }
      ]
    },
    {
      "cell_type": "code",
      "metadata": {
        "id": "1be7GZbJAj9C",
        "colab_type": "code",
        "colab": {
          "base_uri": "https://localhost:8080/",
          "height": 380
        },
        "outputId": "5bed68f2-43cd-45a8-db75-16a24884e4b7"
      },
      "source": [
        "%%time\n",
        "df_filter.describe()"
      ],
      "execution_count": null,
      "outputs": [
        {
          "output_type": "stream",
          "text": [
            "CPU times: user 1.39 s, sys: 304 ms, total: 1.69 s\n",
            "Wall time: 38.7 s\n"
          ],
          "name": "stdout"
        },
        {
          "output_type": "execute_result",
          "data": {
            "text/html": [
              "<div>\n",
              "<style scoped>\n",
              "    .dataframe tbody tr th:only-of-type {\n",
              "        vertical-align: middle;\n",
              "    }\n",
              "\n",
              "    .dataframe tbody tr th {\n",
              "        vertical-align: top;\n",
              "    }\n",
              "\n",
              "    .dataframe thead th {\n",
              "        text-align: right;\n",
              "    }\n",
              "</style>\n",
              "<table border=\"1\" class=\"dataframe\">\n",
              "  <thead>\n",
              "    <tr style=\"text-align: right;\">\n",
              "      <th></th>\n",
              "      <th>c3</th>\n",
              "      <th>c6</th>\n",
              "      <th>c7</th>\n",
              "      <th>c8</th>\n",
              "      <th>c9</th>\n",
              "      <th>c10</th>\n",
              "      <th>c11</th>\n",
              "      <th>c12</th>\n",
              "      <th>c13</th>\n",
              "      <th>c14</th>\n",
              "      <th>c15</th>\n",
              "      <th>c125</th>\n",
              "      <th>c126</th>\n",
              "      <th>c127</th>\n",
              "      <th>c128</th>\n",
              "      <th>c129</th>\n",
              "      <th>c130</th>\n",
              "      <th>c131</th>\n",
              "      <th>c132</th>\n",
              "      <th>c133</th>\n",
              "      <th>c134</th>\n",
              "      <th>c135</th>\n",
              "    </tr>\n",
              "  </thead>\n",
              "  <tbody>\n",
              "    <tr>\n",
              "      <th>count</th>\n",
              "      <td>2.331513e+06</td>\n",
              "      <td>2.331513e+06</td>\n",
              "      <td>2331513.0</td>\n",
              "      <td>2331513.0</td>\n",
              "      <td>2.331513e+06</td>\n",
              "      <td>2331513.0</td>\n",
              "      <td>2331513.0</td>\n",
              "      <td>2.331513e+06</td>\n",
              "      <td>2331513.0</td>\n",
              "      <td>2331513.0</td>\n",
              "      <td>2331513.0</td>\n",
              "      <td>2.331513e+06</td>\n",
              "      <td>2.331513e+06</td>\n",
              "      <td>2331513.0</td>\n",
              "      <td>2331513.0</td>\n",
              "      <td>2331513.0</td>\n",
              "      <td>2331513.0</td>\n",
              "      <td>2331513.0</td>\n",
              "      <td>2331513.0</td>\n",
              "      <td>2331513.0</td>\n",
              "      <td>2331513.0</td>\n",
              "      <td>0.0</td>\n",
              "    </tr>\n",
              "    <tr>\n",
              "      <th>mean</th>\n",
              "      <td>9.985860e+03</td>\n",
              "      <td>1.000434e+00</td>\n",
              "      <td>0.0</td>\n",
              "      <td>933.0</td>\n",
              "      <td>3.103666e+00</td>\n",
              "      <td>0.0</td>\n",
              "      <td>1400.0</td>\n",
              "      <td>1.882470e+00</td>\n",
              "      <td>0.0</td>\n",
              "      <td>0.0</td>\n",
              "      <td>0.0</td>\n",
              "      <td>3.327882e-03</td>\n",
              "      <td>1.214233e-03</td>\n",
              "      <td>0.0</td>\n",
              "      <td>0.0</td>\n",
              "      <td>0.0</td>\n",
              "      <td>0.0</td>\n",
              "      <td>0.0</td>\n",
              "      <td>0.0</td>\n",
              "      <td>0.0</td>\n",
              "      <td>0.0</td>\n",
              "      <td>NaN</td>\n",
              "    </tr>\n",
              "    <tr>\n",
              "      <th>std</th>\n",
              "      <td>6.501723e+03</td>\n",
              "      <td>4.065484e-02</td>\n",
              "      <td>0.0</td>\n",
              "      <td>0.0</td>\n",
              "      <td>2.502048e+00</td>\n",
              "      <td>0.0</td>\n",
              "      <td>0.0</td>\n",
              "      <td>2.186195e+00</td>\n",
              "      <td>0.0</td>\n",
              "      <td>0.0</td>\n",
              "      <td>0.0</td>\n",
              "      <td>1.495133e-01</td>\n",
              "      <td>8.404189e-02</td>\n",
              "      <td>0.0</td>\n",
              "      <td>0.0</td>\n",
              "      <td>0.0</td>\n",
              "      <td>0.0</td>\n",
              "      <td>0.0</td>\n",
              "      <td>0.0</td>\n",
              "      <td>0.0</td>\n",
              "      <td>0.0</td>\n",
              "      <td>NaN</td>\n",
              "    </tr>\n",
              "    <tr>\n",
              "      <th>min</th>\n",
              "      <td>0.000000e+00</td>\n",
              "      <td>0.000000e+00</td>\n",
              "      <td>0.0</td>\n",
              "      <td>933.0</td>\n",
              "      <td>0.000000e+00</td>\n",
              "      <td>0.0</td>\n",
              "      <td>1400.0</td>\n",
              "      <td>0.000000e+00</td>\n",
              "      <td>0.0</td>\n",
              "      <td>0.0</td>\n",
              "      <td>0.0</td>\n",
              "      <td>0.000000e+00</td>\n",
              "      <td>0.000000e+00</td>\n",
              "      <td>0.0</td>\n",
              "      <td>0.0</td>\n",
              "      <td>0.0</td>\n",
              "      <td>0.0</td>\n",
              "      <td>0.0</td>\n",
              "      <td>0.0</td>\n",
              "      <td>0.0</td>\n",
              "      <td>0.0</td>\n",
              "      <td>NaN</td>\n",
              "    </tr>\n",
              "    <tr>\n",
              "      <th>25%</th>\n",
              "      <td>5.070000e+03</td>\n",
              "      <td>1.000000e+00</td>\n",
              "      <td>0.0</td>\n",
              "      <td>933.0</td>\n",
              "      <td>2.440000e+00</td>\n",
              "      <td>0.0</td>\n",
              "      <td>1400.0</td>\n",
              "      <td>1.070000e+00</td>\n",
              "      <td>0.0</td>\n",
              "      <td>0.0</td>\n",
              "      <td>0.0</td>\n",
              "      <td>0.000000e+00</td>\n",
              "      <td>0.000000e+00</td>\n",
              "      <td>0.0</td>\n",
              "      <td>0.0</td>\n",
              "      <td>0.0</td>\n",
              "      <td>0.0</td>\n",
              "      <td>0.0</td>\n",
              "      <td>0.0</td>\n",
              "      <td>0.0</td>\n",
              "      <td>0.0</td>\n",
              "      <td>NaN</td>\n",
              "    </tr>\n",
              "    <tr>\n",
              "      <th>50%</th>\n",
              "      <td>7.117000e+03</td>\n",
              "      <td>1.000000e+00</td>\n",
              "      <td>0.0</td>\n",
              "      <td>933.0</td>\n",
              "      <td>2.900000e+00</td>\n",
              "      <td>0.0</td>\n",
              "      <td>1400.0</td>\n",
              "      <td>1.630000e+00</td>\n",
              "      <td>0.0</td>\n",
              "      <td>0.0</td>\n",
              "      <td>0.0</td>\n",
              "      <td>0.000000e+00</td>\n",
              "      <td>0.000000e+00</td>\n",
              "      <td>0.0</td>\n",
              "      <td>0.0</td>\n",
              "      <td>0.0</td>\n",
              "      <td>0.0</td>\n",
              "      <td>0.0</td>\n",
              "      <td>0.0</td>\n",
              "      <td>0.0</td>\n",
              "      <td>0.0</td>\n",
              "      <td>NaN</td>\n",
              "    </tr>\n",
              "    <tr>\n",
              "      <th>75%</th>\n",
              "      <td>1.425800e+04</td>\n",
              "      <td>1.000000e+00</td>\n",
              "      <td>0.0</td>\n",
              "      <td>933.0</td>\n",
              "      <td>3.500000e+00</td>\n",
              "      <td>0.0</td>\n",
              "      <td>1400.0</td>\n",
              "      <td>2.370000e+00</td>\n",
              "      <td>0.0</td>\n",
              "      <td>0.0</td>\n",
              "      <td>0.0</td>\n",
              "      <td>0.000000e+00</td>\n",
              "      <td>0.000000e+00</td>\n",
              "      <td>0.0</td>\n",
              "      <td>0.0</td>\n",
              "      <td>0.0</td>\n",
              "      <td>0.0</td>\n",
              "      <td>0.0</td>\n",
              "      <td>0.0</td>\n",
              "      <td>0.0</td>\n",
              "      <td>0.0</td>\n",
              "      <td>NaN</td>\n",
              "    </tr>\n",
              "    <tr>\n",
              "      <th>max</th>\n",
              "      <td>6.137010e+05</td>\n",
              "      <td>3.000000e+00</td>\n",
              "      <td>0.0</td>\n",
              "      <td>933.0</td>\n",
              "      <td>1.339840e+03</td>\n",
              "      <td>0.0</td>\n",
              "      <td>1400.0</td>\n",
              "      <td>8.811300e+02</td>\n",
              "      <td>0.0</td>\n",
              "      <td>0.0</td>\n",
              "      <td>0.0</td>\n",
              "      <td>9.000000e+00</td>\n",
              "      <td>9.000000e+00</td>\n",
              "      <td>0.0</td>\n",
              "      <td>0.0</td>\n",
              "      <td>0.0</td>\n",
              "      <td>0.0</td>\n",
              "      <td>0.0</td>\n",
              "      <td>0.0</td>\n",
              "      <td>0.0</td>\n",
              "      <td>0.0</td>\n",
              "      <td>NaN</td>\n",
              "    </tr>\n",
              "  </tbody>\n",
              "</table>\n",
              "</div><p>8 rows x 131 columns</p>\n",
              "</div>"
            ],
            "text/plain": [
              "                 c3            c6         c7  ...       c133       c134  c135\n",
              "count  2.331513e+06  2.331513e+06  2331513.0  ...  2331513.0  2331513.0   0.0\n",
              "mean   9.985860e+03  1.000434e+00        0.0  ...        0.0        0.0   NaN\n",
              "std    6.501723e+03  4.065484e-02        0.0  ...        0.0        0.0   NaN\n",
              "min    0.000000e+00  0.000000e+00        0.0  ...        0.0        0.0   NaN\n",
              "25%    5.070000e+03  1.000000e+00        0.0  ...        0.0        0.0   NaN\n",
              "50%    7.117000e+03  1.000000e+00        0.0  ...        0.0        0.0   NaN\n",
              "75%    1.425800e+04  1.000000e+00        0.0  ...        0.0        0.0   NaN\n",
              "max    6.137010e+05  3.000000e+00        0.0  ...        0.0        0.0   NaN\n",
              "\n",
              "[8 rows x 131 columns]"
            ]
          },
          "metadata": {
            "tags": []
          },
          "execution_count": 6
        }
      ]
    },
    {
      "cell_type": "code",
      "metadata": {
        "id": "Sc_K54C5AkEW",
        "colab_type": "code",
        "colab": {
          "base_uri": "https://localhost:8080/",
          "height": 51
        },
        "outputId": "03c59130-f283-41b6-b45d-91411f8d97fb"
      },
      "source": [
        "%%time\n",
        "df_filter['c5']=df_filter['c5'].astype('M8[us]')\n",
        "df_filter['c5']=df_filter['c5'].dt.date\n",
        "df_filter['c5']"
      ],
      "execution_count": null,
      "outputs": [
        {
          "output_type": "stream",
          "text": [
            "CPU times: user 44 ms, sys: 705 µs, total: 44.7 ms\n",
            "Wall time: 84.8 ms\n"
          ],
          "name": "stdout"
        }
      ]
    },
    {
      "cell_type": "code",
      "metadata": {
        "id": "J2s7pxohAkG5",
        "colab_type": "code",
        "colab": {
          "base_uri": "https://localhost:8080/",
          "height": 51
        },
        "outputId": "607a22f2-13fe-499a-8715-a3411f0ef1a9"
      },
      "source": [
        "%%time\n",
        "df_group_date=df_filter.groupby('c5')['c65'].mean() # 1 Khz\n",
        "df_group_date"
      ],
      "execution_count": null,
      "outputs": [
        {
          "output_type": "stream",
          "text": [
            "CPU times: user 10.6 s, sys: 1.55 s, total: 12.2 s\n",
            "Wall time: 3min 39s\n"
          ],
          "name": "stdout"
        }
      ]
    },
    {
      "cell_type": "code",
      "metadata": {
        "id": "Hfl880WJAkCi",
        "colab_type": "code",
        "colab": {
          "base_uri": "https://localhost:8080/",
          "height": 576
        },
        "outputId": "e60d6b8f-235a-4157-8343-d597a0e0bcd8"
      },
      "source": [
        "%%time\n",
        "import plotly.graph_objects as go\n",
        "from plotly.subplots import make_subplots\n",
        "\n",
        "# Create figure with secondary y-axis\n",
        "fig =go.Figure()\n",
        "\n",
        "# Add traces\n",
        "fig.add_trace(\n",
        "    go.Scatter(x=df_group_date.index, y=df_group_date.values,\n",
        "               name=\"Mean\",line=dict( color='#FF5733'),mode='lines+markers')\n",
        ")\n",
        "\n",
        "fig.show()"
      ],
      "execution_count": null,
      "outputs": [
        {
          "output_type": "display_data",
          "data": {
            "text/html": [
              "<html>\n",
              "<head><meta charset=\"utf-8\" /></head>\n",
              "<body>\n",
              "    <div>\n",
              "            <script src=\"https://cdnjs.cloudflare.com/ajax/libs/mathjax/2.7.5/MathJax.js?config=TeX-AMS-MML_SVG\"></script><script type=\"text/javascript\">if (window.MathJax) {MathJax.Hub.Config({SVG: {font: \"STIX-Web\"}});}</script>\n",
              "                <script type=\"text/javascript\">window.PlotlyConfig = {MathJaxConfig: 'local'};</script>\n",
              "        <script src=\"https://cdn.plot.ly/plotly-latest.min.js\"></script>    \n",
              "            <div id=\"543aef65-365a-4423-8df2-11fa23a50a8c\" class=\"plotly-graph-div\" style=\"height:525px; width:100%;\"></div>\n",
              "            <script type=\"text/javascript\">\n",
              "                \n",
              "                    window.PLOTLYENV=window.PLOTLYENV || {};\n",
              "                    \n",
              "                if (document.getElementById(\"543aef65-365a-4423-8df2-11fa23a50a8c\")) {\n",
              "                    Plotly.newPlot(\n",
              "                        '543aef65-365a-4423-8df2-11fa23a50a8c',\n",
              "                        [{\"line\": {\"color\": \"#FF5733\"}, \"mode\": \"lines+markers\", \"name\": \"Mean\", \"type\": \"scatter\", \"x\": [\"2018-01-12\", \"2018-01-13\", \"2018-01-14\", \"2018-01-15\", \"2018-01-16\", \"2018-01-17\", \"2018-01-18\", \"2018-01-19\", \"2018-01-20\", \"2018-01-21\", \"2018-01-22\", \"2018-01-23\", \"2018-01-24\", \"2018-01-25\", \"2018-01-26\", \"2018-01-27\", \"2018-01-28\", \"2018-01-29\", \"2018-01-30\", \"2018-01-31\", \"2018-02-01\", \"2018-02-02\", \"2018-02-03\", \"2018-02-04\", \"2018-02-05\", \"2018-02-06\", \"2018-02-07\", \"2018-02-08\", \"2018-02-09\", \"2018-02-10\", \"2018-02-11\", \"2018-02-12\", \"2018-02-21\", \"2018-02-22\", \"2018-02-23\", \"2018-02-24\", \"2018-02-25\", \"2018-02-26\", \"2018-02-27\", \"2018-02-28\", \"2018-03-01\", \"2018-03-02\", \"2018-03-03\", \"2018-03-04\", \"2018-03-05\", \"2018-03-06\", \"2018-03-07\", \"2018-03-08\", \"2018-03-09\", \"2018-03-10\", \"2018-03-11\", \"2018-03-12\", \"2018-03-13\", \"2018-03-14\", \"2018-03-15\", \"2018-03-16\", \"2018-03-17\", \"2018-03-18\", \"2018-03-19\", \"2018-03-20\", \"2018-03-21\", \"2018-03-22\", \"2018-03-23\", \"2018-03-24\", \"2018-03-25\", \"2018-03-26\", \"2018-03-27\", \"2018-03-28\", \"2018-03-29\", \"2018-03-30\", \"2018-03-31\", \"2018-04-01\", \"2018-04-02\", \"2018-04-03\", \"2018-04-04\", \"2018-04-05\", \"2018-04-06\", \"2018-04-07\", \"2018-04-08\", \"2018-04-09\", \"2018-04-10\", \"2018-04-11\", \"2018-04-12\", \"2018-04-13\", \"2018-04-14\", \"2018-04-15\", \"2018-04-16\", \"2018-04-17\", \"2018-04-18\", \"2018-04-19\", \"2018-04-20\", \"2018-04-21\", \"2018-04-22\", \"2018-04-23\", \"2018-04-24\", \"2018-04-25\", \"2018-04-26\", \"2018-04-27\", \"2018-04-28\", \"2018-04-29\", \"2018-04-30\", \"2018-05-01\", \"2018-05-02\", \"2018-05-03\", \"2018-05-04\", \"2018-05-05\", \"2018-05-06\", \"2018-05-07\", \"2018-05-08\", \"2018-05-09\", \"2018-05-10\", \"2018-05-11\", \"2018-05-12\", \"2018-05-13\", \"2018-05-14\", \"2018-05-15\", \"2018-05-16\", \"2018-05-17\", \"2018-05-18\", \"2018-05-19\", \"2018-05-20\", \"2018-05-21\", \"2018-05-22\", \"2018-05-23\", \"2018-05-24\", \"2018-05-25\", \"2018-05-26\", \"2018-05-27\", \"2018-05-28\", \"2018-05-29\", \"2018-05-30\", \"2018-05-31\", \"2018-06-01\", \"2018-06-02\", \"2018-06-03\", \"2018-06-04\", \"2018-06-05\", \"2018-06-06\", \"2018-06-07\", \"2018-06-08\", \"2018-06-09\", \"2018-06-10\", \"2018-06-11\", \"2018-06-12\", \"2018-06-13\", \"2018-06-14\", \"2018-06-15\", \"2018-06-16\", \"2018-06-17\", \"2018-06-18\", \"2018-06-19\", \"2018-06-20\", \"2018-06-21\", \"2018-06-22\", \"2018-06-23\", \"2018-06-24\", \"2018-06-25\", \"2018-06-26\", \"2018-06-27\", \"2018-06-28\", \"2018-06-29\", \"2018-06-30\", \"2018-07-01\", \"2018-07-02\", \"2018-07-03\", \"2018-07-04\", \"2018-07-05\", \"2018-07-06\", \"2018-07-07\", \"2018-07-08\", \"2018-07-09\", \"2018-07-10\", \"2018-07-11\", \"2018-07-12\", \"2018-07-13\", \"2018-07-14\", \"2018-07-15\", \"2018-07-16\", \"2018-07-17\", \"2018-07-18\", \"2018-07-19\", \"2018-07-20\", \"2018-07-21\", \"2018-07-22\", \"2018-07-23\", \"2018-07-24\", \"2018-07-25\", \"2018-07-26\", \"2018-07-27\", \"2018-07-28\", \"2018-07-29\", \"2018-07-30\", \"2018-07-31\", \"2018-08-01\", \"2018-08-02\", \"2018-08-03\", \"2018-08-04\", \"2018-08-05\", \"2018-08-06\", \"2018-08-07\", \"2018-08-08\", \"2018-08-09\", \"2018-08-10\", \"2018-08-11\", \"2018-08-12\", \"2018-08-13\", \"2018-08-14\", \"2018-08-15\", \"2018-08-16\", \"2018-08-17\", \"2018-08-18\", \"2018-08-19\", \"2018-08-20\", \"2018-08-21\", \"2018-08-22\", \"2018-08-23\", \"2018-08-24\", \"2018-08-25\", \"2018-08-26\", \"2018-08-27\", \"2018-08-28\", \"2018-08-29\", \"2018-08-30\", \"2018-08-31\", \"2018-09-01\", \"2018-09-02\", \"2018-09-04\", \"2018-09-05\", \"2018-09-06\", \"2018-09-07\", \"2018-09-08\", \"2018-09-09\", \"2018-09-10\", \"2018-09-11\", \"2018-09-12\", \"2018-09-13\", \"2018-09-14\", \"2018-09-15\", \"2018-09-16\", \"2018-09-17\", \"2018-09-18\", \"2018-09-19\", \"2018-09-20\", \"2018-09-21\", \"2018-09-22\", \"2018-09-23\", \"2018-09-24\", \"2018-09-25\", \"2018-09-26\", \"2018-09-27\", \"2018-09-28\", \"2018-09-29\", \"2018-09-30\", \"2018-10-01\", \"2018-10-02\", \"2018-10-03\", \"2018-10-04\", \"2018-10-05\", \"2018-10-06\", \"2018-10-07\", \"2018-10-08\", \"2018-10-09\", \"2018-10-10\", \"2018-10-11\", \"2018-10-12\", \"2018-10-13\", \"2018-10-14\", \"2018-10-15\", \"2018-10-16\", \"2018-10-17\", \"2018-10-18\", \"2018-10-19\", \"2018-10-20\", \"2018-10-21\", \"2018-10-22\", \"2018-10-23\", \"2018-10-24\", \"2018-10-25\", \"2018-10-26\", \"2018-10-27\", \"2018-10-28\", \"2018-10-29\", \"2018-10-30\", \"2018-10-31\", \"2018-11-01\", \"2018-11-02\", \"2018-11-03\", \"2018-11-04\", \"2018-11-05\", \"2018-11-06\", \"2018-11-07\", \"2018-11-08\", \"2018-11-09\", \"2018-11-10\", \"2018-11-11\", \"2018-11-12\", \"2018-11-13\", \"2018-11-14\", \"2018-11-15\", \"2018-11-16\", \"2018-11-17\", \"2018-11-18\", \"2018-11-19\", \"2018-11-20\", \"2018-11-21\", \"2018-11-22\", \"2018-11-23\", \"2018-11-24\", \"2018-11-25\", \"2018-11-26\", \"2018-11-27\", \"2018-11-28\", \"2018-11-29\", \"2018-11-30\", \"2018-12-01\", \"2018-12-02\", \"2018-12-03\", \"2018-12-04\", \"2018-12-05\", \"2018-12-06\", \"2018-12-07\", \"2018-12-08\", \"2018-12-09\", \"2018-12-10\", \"2018-12-11\", \"2018-12-12\", \"2018-12-13\", \"2018-12-14\", \"2018-12-15\", \"2018-12-16\", \"2018-12-17\", \"2018-12-18\", \"2018-12-19\", \"2018-12-20\", \"2018-12-21\", \"2018-12-22\", \"2018-12-23\", \"2018-12-24\", \"2018-12-25\", \"2018-12-26\", \"2018-12-27\", \"2018-12-28\", \"2018-12-29\", \"2018-12-30\", \"2018-12-31\", \"2019-01-01\", \"2019-01-02\", \"2019-01-03\", \"2019-01-04\", \"2019-01-05\", \"2019-01-06\", \"2019-01-07\", \"2019-01-08\", \"2019-01-09\", \"2019-01-10\", \"2019-01-11\", \"2019-01-12\", \"2019-01-13\", \"2019-01-14\", \"2019-01-15\", \"2019-01-16\", \"2019-01-17\", \"2019-01-18\", \"2019-01-19\", \"2019-01-20\", \"2019-01-21\", \"2019-01-22\", \"2019-01-23\", \"2019-01-24\", \"2019-01-25\", \"2019-01-26\", \"2019-01-27\", \"2019-01-28\", \"2019-01-29\", \"2019-01-30\", \"2019-01-31\", \"2019-02-01\", \"2019-02-02\", \"2019-02-11\", \"2019-02-12\", \"2019-02-13\", \"2019-02-14\", \"2019-02-15\", \"2019-02-16\", \"2019-02-17\", \"2019-02-18\", \"2019-02-19\", \"2019-02-20\", \"2019-02-21\", \"2019-02-22\", \"2019-02-23\", \"2019-02-24\", \"2019-02-25\", \"2019-02-26\", \"2019-02-27\", \"2019-02-28\", \"2019-03-01\", \"2019-03-02\", \"2019-03-03\", \"2019-03-04\", \"2019-03-05\", \"2019-03-06\", \"2019-03-07\", \"2019-03-08\", \"2019-03-09\", \"2019-03-10\", \"2019-03-11\", \"2019-03-12\", \"2019-03-13\", \"2019-03-14\", \"2019-03-15\", \"2019-03-16\", \"2019-03-17\", \"2019-03-18\", \"2019-03-19\", \"2019-03-20\", \"2019-03-21\", \"2019-03-22\", \"2019-03-23\", \"2019-03-24\", \"2019-03-25\", \"2019-03-26\", \"2019-03-27\", \"2019-03-28\", \"2019-03-29\", \"2019-03-30\", \"2019-03-31\", \"2019-04-01\", \"2019-04-02\", \"2019-04-03\", \"2019-04-04\", \"2019-04-05\", \"2019-04-06\", \"2019-04-07\", \"2019-04-08\", \"2019-04-09\", \"2019-04-10\", \"2019-04-11\", \"2019-04-12\", \"2019-04-13\", \"2019-04-14\", \"2019-04-15\", \"2019-04-16\", \"2019-04-17\", \"2019-04-18\", \"2019-04-19\", \"2019-04-20\", \"2019-04-21\", \"2019-04-22\", \"2019-04-23\", \"2019-04-24\", \"2019-04-25\", \"2019-04-26\", \"2019-04-27\", \"2019-04-28\", \"2019-05-02\", \"2019-05-03\", \"2019-05-04\", \"2019-05-05\", \"2019-05-06\", \"2019-05-07\", \"2019-05-08\", \"2019-05-09\", \"2019-05-10\", \"2019-05-11\", \"2019-05-12\", \"2019-05-13\", \"2019-05-14\", \"2019-05-15\", \"2019-05-16\", \"2019-05-17\", \"2019-05-18\", \"2019-05-19\", \"2019-05-20\", \"2019-05-21\", \"2019-05-22\", \"2019-05-23\", \"2019-05-24\", \"2019-05-25\", \"2019-05-26\", \"2019-05-27\", \"2019-05-28\", \"2019-05-29\", \"2019-05-30\", \"2019-05-31\", \"2019-06-01\", \"2019-06-02\", \"2019-06-03\", \"2019-06-04\", \"2019-06-05\", \"2019-06-06\", \"2019-06-07\", \"2019-06-08\", \"2019-06-09\", \"2019-06-10\", \"2019-06-11\", \"2019-06-12\", \"2019-06-13\", \"2019-06-14\", \"2019-06-15\", \"2019-06-16\", \"2019-06-17\", \"2019-06-18\", \"2019-06-19\", \"2019-06-20\", \"2019-06-21\", \"2019-06-22\", \"2019-06-23\", \"2019-06-24\", \"2019-06-25\", \"2019-06-26\", \"2019-06-27\", \"2019-06-28\", \"2019-06-29\", \"2019-06-30\", \"2019-07-01\", \"2019-07-02\", \"2019-07-03\", \"2019-07-04\", \"2019-07-05\", \"2019-07-06\", \"2019-07-07\", \"2019-07-08\", \"2019-07-09\", \"2019-07-10\", \"2019-07-11\", \"2019-07-12\", \"2019-07-13\", \"2019-07-14\", \"2019-07-15\", \"2019-07-16\", \"2019-07-17\", \"2019-07-18\", \"2019-07-19\", \"2019-07-20\", \"2019-07-21\", \"2019-07-22\", \"2019-07-23\", \"2019-07-24\", \"2019-07-25\", \"2019-07-26\", \"2019-07-27\", \"2019-07-28\", \"2019-07-29\", \"2019-07-30\", \"2019-07-31\", \"2019-08-01\", \"2019-08-02\", \"2019-08-03\", \"2019-08-04\", \"2019-08-05\", \"2019-08-06\", \"2019-08-07\", \"2019-08-08\", \"2019-08-09\", \"2019-08-10\", \"2019-08-11\", \"2019-08-12\", \"2019-08-13\", \"2019-08-14\", \"2019-08-15\", \"2019-08-16\", \"2019-08-17\", \"2019-08-18\", \"2019-08-19\", \"2019-08-20\", \"2019-08-21\", \"2019-08-22\", \"2019-08-23\", \"2019-08-24\", \"2019-08-25\", \"2019-08-26\", \"2019-08-27\", \"2019-08-28\", \"2019-08-29\", \"2019-08-30\", \"2019-08-31\", \"2019-09-01\", \"2019-09-03\", \"2019-09-04\", \"2019-09-05\", \"2019-09-06\", \"2019-09-07\", \"2019-09-08\", \"2019-09-09\", \"2019-09-10\", \"2019-09-11\", \"2019-09-12\", \"2019-09-13\", \"2019-09-14\", \"2019-09-15\", \"2019-09-16\", \"2019-09-17\", \"2019-09-18\", \"2019-09-19\", \"2019-09-20\"], \"y\": [104.37541556603792, 104.35829150943407, 104.50162060889929, 104.33126785714298, 104.43254289266456, 104.48041527093577, 104.52153837320576, 104.53838316831677, 104.54930837597641, 104.53361128205124, 104.44625352564081, 104.60517862634552, 104.56619617803587, 104.51618802832998, 104.47248287749933, 104.51913820078252, 104.32573830594195, 104.39709233351981, 104.45365007146287, 104.409971322358, 104.43142390594399, 104.46748127223272, 104.480661971831, 104.42333078947362, 104.50984117470752, 104.42456288762081, 104.39750902119971, 104.36560802127222, 104.36693263302116, 104.44737824956671, 104.35295533249673, 104.32523657870803, 104.35514986996074, 104.3921973175724, 104.36701032820746, 104.33898367816079, 104.29900688750406, 104.37385266903938, 104.36810678148564, 104.37947996016916, 104.43404074308657, 104.40780272580298, 104.42839625882793, 104.39743973399831, 104.430116544656, 104.36557667652872, 104.38692643474387, 104.42988886144725, 104.43946872060229, 104.44157292557708, 104.41743305084746, 104.494662150221, 104.40211050685207, 104.39697551598525, 104.41569547719436, 104.41467011803697, 104.43027623781302, 104.45946654217266, 104.47234668892624, 104.39110252722399, 104.41386633875078, 104.41897065965202, 104.39786419013369, 104.37163444466363, 104.50533710859433, 104.57499402806808, 104.50521047120421, 104.56500626159584, 104.69169407465427, 104.58375417661127, 104.55113711310435, 104.45849779559119, 104.47680384900067, 104.46743247344459, 104.49387316686447, 104.56772418358358, 104.55095450530041, 104.5726308285165, 104.54864415061807, 104.59272406039193, 104.54777911033578, 104.61764340215448, 104.62452651611262, 104.59029671574167, 104.59428591720798, 104.53691840942561, 104.59641729428151, 104.56506628308405, 104.5510815558346, 104.48640585048732, 104.52346337344333, 104.64117142857121, 104.7330070479801, 104.77779906798258, 104.57851935135142, 104.57552028264864, 104.54674152640094, 104.55569113220618, 104.61849257965959, 104.56689561270768, 104.57333112055206, 104.62017759336102, 104.50722980450024, 104.53074380165295, 104.50936138960152, 104.53674605911355, 104.4776843863066, 104.46563286499723, 104.32838826815629, 104.3004398210289, 104.29064167234732, 104.25927790917711, 104.27675737941007, 104.27971221102567, 104.2648010575014, 104.21815089309555, 104.80088386282338, 104.96925262922372, 105.074644389808, 105.00018674957138, 105.01159853479862, 104.96260742999723, 104.94615437788016, 104.92379108370875, 104.85756843501339, 104.83506070073662, 104.81746759720839, 104.79782952973724, 104.97912215478007, 104.98843983244475, 104.97392185780315, 104.90654244666928, 104.81325855679107, 104.81937243947839, 104.85037658079615, 104.9470062944717, 105.02911818609024, 105.04607048458156, 105.10805561023598, 104.98564100719447, 105.14521550855999, 105.1227511349565, 105.04674490889602, 104.97245838837522, 104.95134554288914, 104.99376545166403, 104.99602172401777, 104.93442179910623, 104.85312481426449, 105.01181402238316, 105.11539774557151, 105.03929168416634, 104.97292777556697, 105.02936631016058, 104.93482342038716, 104.94479948849104, 104.82041736183544, 104.974622315036, 104.94274955839046, 104.89977800865813, 104.91678320239411, 104.94828780689059, 104.42918292682926, 104.90780941576864, 104.88860226236095, 104.935605967276, 104.88286072144302, 104.89895799710293, 105.02450985850139, 104.99248334833462, 105.05887550316258, 105.09712222715174, 105.07830166991944, 105.06196182120023, 105.15580355110397, 105.1282861621139, 105.11487096774198, 105.12857360406115, 105.14187584789336, 105.13977864200098, 105.123086754813, 105.08783505662167, 105.07477485843698, 105.08837777777785, 105.09799720410071, 105.0492348762605, 105.02267767441883, 105.04775792312887, 105.11251073655053, 105.1259853446299, 105.18881219903663, 105.14621810182277, 105.23831774608375, 105.14279532867826, 105.08662937062918, 105.17920316804421, 105.11244419076608, 105.12678817515001, 105.06555790784583, 105.09003100775185, 104.99801691729327, 105.06046175976986, 105.05438622438199, 105.0834727008886, 104.97263534136522, 105.06434397972122, 105.12936181961643, 105.14709622501849, 105.08697789115647, 105.12091498058442, 105.14158932756396, 105.1570325510977, 105.2105181132992, 105.29923720637578, 105.1433033095935, 105.1237608816445, 105.11958402971253, 105.11542632197407, 105.05454011119947, 105.136314451929, 105.17114651525264, 105.06667444219045, 105.08347313209151, 105.1541722697434, 105.19936880341895, 105.16337302325586, 105.23320177562526, 105.1769798744862, 105.15743544951023, 105.1835920468668, 105.22628685470944, 105.2124474885848, 105.28554341603049, 105.25114765489299, 105.18476118256872, 105.09080079753527, 105.12056888336494, 105.10968540159534, 105.14572889771604, 105.13215913978486, 105.07352407481089, 105.0927602851322, 105.11564613056652, 105.09939348219666, 105.15445676402753, 105.14151851851848, 105.03675292864737, 105.01866012866763, 105.12162704549549, 105.13562794404113, 105.15414681892354, 105.19598115647518, 105.23694135159278, 105.1911717967073, 105.20428619588388, 105.16848880931057, 105.16800926735446, 105.18314177308918, 105.15194059742001, 105.24496725912067, 105.14318281136191, 105.11097365980315, 105.12171734587236, 105.0778947179301, 105.12209366441483, 105.10711535622016, 105.14219522776571, 105.10298875867011, 105.16416137467317, 105.07876486486472, 105.123879822222, 105.12059744153501, 105.12949381425346, 105.08316412556063, 104.96573619988371, 105.1183980741655, 105.10271246515352, 105.06722891321989, 105.15772635069263, 105.14094172185486, 105.0106003289472, 105.02419155354433, 105.11261173533069, 105.11790648539396, 105.11961243052073, 105.07073754863795, 105.17225693403304, 105.42410251256253, 105.25622141296444, 105.18878376844481, 105.09781154588536, 105.00763828592844, 105.06896787812074, 105.01969003304953, 104.97511586314143, 105.00554373104164, 105.14082770706534, 105.14262779198611, 105.02778311550678, 105.12515512265547, 105.11565834522115, 105.07511870026526, 105.13483780457803, 105.17203465909077, 105.12708575273987, 105.1138038006333, 105.20387404870584, 105.19379029167557, 104.98240202391898, 105.12647085806847, 105.1544221038614, 105.1171002684051, 105.09303939456773, 105.16577845351891, 105.16132832027101, 105.12351939451283, 105.12346906603207, 105.16910585533854, 105.1927368929695, 105.13148417560024, 105.19814140576408, 105.25336109481903, 105.20529289463045, 105.28730261226907, 105.19517979388995, 105.29975445578789, 105.21340907862736, 105.2475163826998, 105.21286045668695, 105.32303372939825, 105.2915767918088, 105.37384863945566, 105.32803470136776, 105.26981966726089, 105.26177034500873, 105.25036653292412, 105.22858804523426, 105.23301025641014, 105.23618925933327, 105.20667347908731, 105.23639198435964, 105.29317768471408, 105.28278452704764, 105.25500636492241, 105.21278585209004, 105.2638866599799, 105.21536227856882, 105.12914913366316, 105.20633740831283, 104.98021975147168, 104.91894841269851, 105.07423639774835, 105.21560748299342, 105.33206290018852, 105.35186456467224, 105.28290354917375, 105.34391011530391, 105.40172568807337, 105.415715108401, 105.30809987261138, 105.38963739085779, 105.35239591414529, 105.3572508549096, 105.33893459854006, 105.37115584415587, 105.35971242438345, 105.37574420362911, 105.3523602033406, 105.41840170109386, 105.49620515518109, 105.42629714405736, 105.44295497382195, 105.4626024604568, 105.46143394199807, 105.41563398855457, 105.40898171216544, 105.3822147045559, 105.4190213243546, 105.45184936539754, 105.40017544353691, 105.36769700076898, 105.33818289668805, 105.30986047180699, 105.3328604137935, 105.32247802197817, 105.31841134267181, 105.2830212596334, 105.33743705914296, 105.33776026637086, 105.23653862603568, 105.35128666281766, 105.25072230215841, 105.28724838832012, 105.38656578947393, 105.2327971854306, 105.26300745192276, 105.10574493477671, 105.22597521070871, 105.24258383233528, 105.23008500303592, 105.02842242114237, 105.02307762557115, 105.38798795986608, 105.39191512770132, 105.32493825829029, 105.21126679280977, 105.18746782250933, 105.1012352440412, 105.19392150744125, 105.17150674258345, 105.23135562599066, 105.18142061281316, 105.0887577290612, 105.04942945544555, 105.18248452220719, 105.03595609756115, 104.97372476384527, 104.98417518421678, 105.05503384891287, 104.77565981992133, 105.1261939226522, 105.09909027274908, 105.12054295081961, 105.03136196439073, 105.02949285282868, 105.02913115392074, 105.12350076045655, 105.19896275474365, 104.99585756566772, 105.01190361192774, 105.04215198041824, 105.01205691924584, 105.07562748955002, 105.05828951367802, 105.01669318948062, 104.86709466393019, 105.00029893529906, 104.94195372184124, 105.00107109812511, 104.97836854279136, 104.86756881616944, 105.20124991680522, 105.15621862464154, 105.12021771933587, 105.30417301701418, 105.37263558870534, 105.45356986421343, 105.4726584234932, 105.3745376575469, 105.34799955506091, 105.29498788028695, 105.31701680672248, 105.35723370204755, 105.34427612330205, 105.42582991452997, 105.35686401749885, 105.32670784077207, 105.23993597872787, 105.34231767719902, 105.30922645914414, 105.27494221218964, 105.27367444282446, 105.21849677955574, 105.21723999999983, 105.304948784517, 105.18400552486199, 105.24166191509154, 105.2103248596897, 105.16239927556435, 105.32449834486926, 105.26170132275132, 105.20722076923097, 105.25875979557078, 105.34795631377538, 105.32286370519954, 105.31531850230975, 105.33557177794042, 105.28469486823874, 105.29259426847663, 105.29205555555555, 105.30885129517083, 105.30011848021574, 105.2808137697519, 105.29645369195619, 105.3197225821378, 105.34435479603091, 105.35949326424864, 105.30362931556617, 105.31049004328999, 105.26429242153574, 105.32806962167008, 105.32014581909314, 105.29183317647032, 105.39901230769232, 105.37388444135068, 105.3271949115042, 105.30130333817118, 105.31832559523804, 105.2510107187894, 105.3141949855699, 105.3927188859876, 105.28792296799756, 105.15664375690639, 105.16848837724135, 105.18171334745756, 105.1433469928642, 105.22864183983162, 105.17808785046738, 105.31549365968709, 105.26982981530348, 105.24222570083928, 105.21628730904823, 105.29453457785343, 105.28351727272735, 105.31284340859433, 105.3465166081558, 105.27725201238395, 105.05120943353646, 105.35295933796476, 105.06666169053835, 105.22326413690466, 105.11195507487527, 105.18466531557638, 105.24663842384636, 105.27541443850261, 105.16154992516574, 105.20218848804166, 105.3147527816411, 105.27411434977569, 105.39327479959938, 105.31232755849274, 105.32658788130283, 105.24926205787797, 105.31051256873518, 105.25059311663459, 105.36849350649366, 105.3114499054823, 105.29322991745536, 105.26955160256415, 105.34469956638458, 105.34842399825773, 105.2880306781483, 105.3381428571428, 105.38409343434348, 105.38177191524753, 105.33545628997888, 105.33295758598827, 105.25422857142847, 105.37402168674711, 105.31845286750176, 105.3230517374522, 105.33313504417345, 105.32759994590174, 105.28252723986554, 105.29741147921501, 105.19959211252066, 105.37978422876941, 105.35875629043845, 105.30289453771576, 105.35665756005642, 105.31994509688785, 105.28279965156815, 105.33282080745327, 105.34070578512396, 105.37438322211615, 105.30740459697721, 105.3403311669128, 105.05179837837846, 105.30890956072335, 105.18544145873335, 105.27632052689353, 105.34665321278676, 105.24837289325815, 105.32699253731333, 105.28496615384637, 105.25037631932457, 105.33014784053155, 105.36965372829397, 105.35558484455935, 105.32089253606547, 105.3121265972087, 105.10335286492071, 105.28613833780184, 105.3134662681467, 105.30494364727346, 105.25499474313021, 105.22260117302059, 105.21474017367484, 105.21578499029553, 105.22159245922485, 105.14540470588223, 105.20705902348595, 105.19591554959793, 105.18098322224786, 105.21567217630852, 105.210946678582]}],\n",
              "                        {\"template\": {\"data\": {\"bar\": [{\"error_x\": {\"color\": \"#2a3f5f\"}, \"error_y\": {\"color\": \"#2a3f5f\"}, \"marker\": {\"line\": {\"color\": \"#E5ECF6\", \"width\": 0.5}}, \"type\": \"bar\"}], \"barpolar\": [{\"marker\": {\"line\": {\"color\": \"#E5ECF6\", \"width\": 0.5}}, \"type\": \"barpolar\"}], \"carpet\": [{\"aaxis\": {\"endlinecolor\": \"#2a3f5f\", \"gridcolor\": \"white\", \"linecolor\": \"white\", \"minorgridcolor\": \"white\", \"startlinecolor\": \"#2a3f5f\"}, \"baxis\": {\"endlinecolor\": \"#2a3f5f\", \"gridcolor\": \"white\", \"linecolor\": \"white\", \"minorgridcolor\": \"white\", \"startlinecolor\": \"#2a3f5f\"}, \"type\": \"carpet\"}], \"choropleth\": [{\"colorbar\": {\"outlinewidth\": 0, \"ticks\": \"\"}, \"type\": \"choropleth\"}], \"contour\": [{\"colorbar\": {\"outlinewidth\": 0, \"ticks\": \"\"}, \"colorscale\": [[0.0, \"#0d0887\"], [0.1111111111111111, \"#46039f\"], [0.2222222222222222, \"#7201a8\"], [0.3333333333333333, \"#9c179e\"], [0.4444444444444444, \"#bd3786\"], [0.5555555555555556, \"#d8576b\"], [0.6666666666666666, \"#ed7953\"], [0.7777777777777778, \"#fb9f3a\"], [0.8888888888888888, \"#fdca26\"], [1.0, \"#f0f921\"]], \"type\": \"contour\"}], \"contourcarpet\": [{\"colorbar\": {\"outlinewidth\": 0, \"ticks\": \"\"}, \"type\": \"contourcarpet\"}], \"heatmap\": [{\"colorbar\": {\"outlinewidth\": 0, \"ticks\": \"\"}, \"colorscale\": [[0.0, \"#0d0887\"], [0.1111111111111111, \"#46039f\"], [0.2222222222222222, \"#7201a8\"], [0.3333333333333333, \"#9c179e\"], [0.4444444444444444, \"#bd3786\"], [0.5555555555555556, \"#d8576b\"], [0.6666666666666666, \"#ed7953\"], [0.7777777777777778, \"#fb9f3a\"], [0.8888888888888888, \"#fdca26\"], [1.0, \"#f0f921\"]], \"type\": \"heatmap\"}], \"heatmapgl\": [{\"colorbar\": {\"outlinewidth\": 0, \"ticks\": \"\"}, \"colorscale\": [[0.0, \"#0d0887\"], [0.1111111111111111, \"#46039f\"], [0.2222222222222222, \"#7201a8\"], [0.3333333333333333, \"#9c179e\"], [0.4444444444444444, \"#bd3786\"], [0.5555555555555556, \"#d8576b\"], [0.6666666666666666, \"#ed7953\"], [0.7777777777777778, \"#fb9f3a\"], [0.8888888888888888, \"#fdca26\"], [1.0, \"#f0f921\"]], \"type\": \"heatmapgl\"}], \"histogram\": [{\"marker\": {\"colorbar\": {\"outlinewidth\": 0, \"ticks\": \"\"}}, \"type\": \"histogram\"}], \"histogram2d\": [{\"colorbar\": {\"outlinewidth\": 0, \"ticks\": \"\"}, \"colorscale\": [[0.0, \"#0d0887\"], [0.1111111111111111, \"#46039f\"], [0.2222222222222222, \"#7201a8\"], [0.3333333333333333, \"#9c179e\"], [0.4444444444444444, \"#bd3786\"], [0.5555555555555556, \"#d8576b\"], [0.6666666666666666, \"#ed7953\"], [0.7777777777777778, \"#fb9f3a\"], [0.8888888888888888, \"#fdca26\"], [1.0, \"#f0f921\"]], \"type\": \"histogram2d\"}], \"histogram2dcontour\": [{\"colorbar\": {\"outlinewidth\": 0, \"ticks\": \"\"}, \"colorscale\": [[0.0, \"#0d0887\"], [0.1111111111111111, \"#46039f\"], [0.2222222222222222, \"#7201a8\"], [0.3333333333333333, \"#9c179e\"], [0.4444444444444444, \"#bd3786\"], [0.5555555555555556, \"#d8576b\"], [0.6666666666666666, \"#ed7953\"], [0.7777777777777778, \"#fb9f3a\"], [0.8888888888888888, \"#fdca26\"], [1.0, \"#f0f921\"]], \"type\": \"histogram2dcontour\"}], \"mesh3d\": [{\"colorbar\": {\"outlinewidth\": 0, \"ticks\": \"\"}, \"type\": \"mesh3d\"}], \"parcoords\": [{\"line\": {\"colorbar\": {\"outlinewidth\": 0, \"ticks\": \"\"}}, \"type\": \"parcoords\"}], \"pie\": [{\"automargin\": true, \"type\": \"pie\"}], \"scatter\": [{\"marker\": {\"colorbar\": {\"outlinewidth\": 0, \"ticks\": \"\"}}, \"type\": \"scatter\"}], \"scatter3d\": [{\"line\": {\"colorbar\": {\"outlinewidth\": 0, \"ticks\": \"\"}}, \"marker\": {\"colorbar\": {\"outlinewidth\": 0, \"ticks\": \"\"}}, \"type\": \"scatter3d\"}], \"scattercarpet\": [{\"marker\": {\"colorbar\": {\"outlinewidth\": 0, \"ticks\": \"\"}}, \"type\": \"scattercarpet\"}], \"scattergeo\": [{\"marker\": {\"colorbar\": {\"outlinewidth\": 0, \"ticks\": \"\"}}, \"type\": \"scattergeo\"}], \"scattergl\": [{\"marker\": {\"colorbar\": {\"outlinewidth\": 0, \"ticks\": \"\"}}, \"type\": \"scattergl\"}], \"scattermapbox\": [{\"marker\": {\"colorbar\": {\"outlinewidth\": 0, \"ticks\": \"\"}}, \"type\": \"scattermapbox\"}], \"scatterpolar\": [{\"marker\": {\"colorbar\": {\"outlinewidth\": 0, \"ticks\": \"\"}}, \"type\": \"scatterpolar\"}], \"scatterpolargl\": [{\"marker\": {\"colorbar\": {\"outlinewidth\": 0, \"ticks\": \"\"}}, \"type\": \"scatterpolargl\"}], \"scatterternary\": [{\"marker\": {\"colorbar\": {\"outlinewidth\": 0, \"ticks\": \"\"}}, \"type\": \"scatterternary\"}], \"surface\": [{\"colorbar\": {\"outlinewidth\": 0, \"ticks\": \"\"}, \"colorscale\": [[0.0, \"#0d0887\"], [0.1111111111111111, \"#46039f\"], [0.2222222222222222, \"#7201a8\"], [0.3333333333333333, \"#9c179e\"], [0.4444444444444444, \"#bd3786\"], [0.5555555555555556, \"#d8576b\"], [0.6666666666666666, \"#ed7953\"], [0.7777777777777778, \"#fb9f3a\"], [0.8888888888888888, \"#fdca26\"], [1.0, \"#f0f921\"]], \"type\": \"surface\"}], \"table\": [{\"cells\": {\"fill\": {\"color\": \"#EBF0F8\"}, \"line\": {\"color\": \"white\"}}, \"header\": {\"fill\": {\"color\": \"#C8D4E3\"}, \"line\": {\"color\": \"white\"}}, \"type\": \"table\"}]}, \"layout\": {\"annotationdefaults\": {\"arrowcolor\": \"#2a3f5f\", \"arrowhead\": 0, \"arrowwidth\": 1}, \"coloraxis\": {\"colorbar\": {\"outlinewidth\": 0, \"ticks\": \"\"}}, \"colorscale\": {\"diverging\": [[0, \"#8e0152\"], [0.1, \"#c51b7d\"], [0.2, \"#de77ae\"], [0.3, \"#f1b6da\"], [0.4, \"#fde0ef\"], [0.5, \"#f7f7f7\"], [0.6, \"#e6f5d0\"], [0.7, \"#b8e186\"], [0.8, \"#7fbc41\"], [0.9, \"#4d9221\"], [1, \"#276419\"]], \"sequential\": [[0.0, \"#0d0887\"], [0.1111111111111111, \"#46039f\"], [0.2222222222222222, \"#7201a8\"], [0.3333333333333333, \"#9c179e\"], [0.4444444444444444, \"#bd3786\"], [0.5555555555555556, \"#d8576b\"], [0.6666666666666666, \"#ed7953\"], [0.7777777777777778, \"#fb9f3a\"], [0.8888888888888888, \"#fdca26\"], [1.0, \"#f0f921\"]], \"sequentialminus\": [[0.0, \"#0d0887\"], [0.1111111111111111, \"#46039f\"], [0.2222222222222222, \"#7201a8\"], [0.3333333333333333, \"#9c179e\"], [0.4444444444444444, \"#bd3786\"], [0.5555555555555556, \"#d8576b\"], [0.6666666666666666, \"#ed7953\"], [0.7777777777777778, \"#fb9f3a\"], [0.8888888888888888, \"#fdca26\"], [1.0, \"#f0f921\"]]}, \"colorway\": [\"#636efa\", \"#EF553B\", \"#00cc96\", \"#ab63fa\", \"#FFA15A\", \"#19d3f3\", \"#FF6692\", \"#B6E880\", \"#FF97FF\", \"#FECB52\"], \"font\": {\"color\": \"#2a3f5f\"}, \"geo\": {\"bgcolor\": \"white\", \"lakecolor\": \"white\", \"landcolor\": \"#E5ECF6\", \"showlakes\": true, \"showland\": true, \"subunitcolor\": \"white\"}, \"hoverlabel\": {\"align\": \"left\"}, \"hovermode\": \"closest\", \"mapbox\": {\"style\": \"light\"}, \"paper_bgcolor\": \"white\", \"plot_bgcolor\": \"#E5ECF6\", \"polar\": {\"angularaxis\": {\"gridcolor\": \"white\", \"linecolor\": \"white\", \"ticks\": \"\"}, \"bgcolor\": \"#E5ECF6\", \"radialaxis\": {\"gridcolor\": \"white\", \"linecolor\": \"white\", \"ticks\": \"\"}}, \"scene\": {\"xaxis\": {\"backgroundcolor\": \"#E5ECF6\", \"gridcolor\": \"white\", \"gridwidth\": 2, \"linecolor\": \"white\", \"showbackground\": true, \"ticks\": \"\", \"zerolinecolor\": \"white\"}, \"yaxis\": {\"backgroundcolor\": \"#E5ECF6\", \"gridcolor\": \"white\", \"gridwidth\": 2, \"linecolor\": \"white\", \"showbackground\": true, \"ticks\": \"\", \"zerolinecolor\": \"white\"}, \"zaxis\": {\"backgroundcolor\": \"#E5ECF6\", \"gridcolor\": \"white\", \"gridwidth\": 2, \"linecolor\": \"white\", \"showbackground\": true, \"ticks\": \"\", \"zerolinecolor\": \"white\"}}, \"shapedefaults\": {\"line\": {\"color\": \"#2a3f5f\"}}, \"ternary\": {\"aaxis\": {\"gridcolor\": \"white\", \"linecolor\": \"white\", \"ticks\": \"\"}, \"baxis\": {\"gridcolor\": \"white\", \"linecolor\": \"white\", \"ticks\": \"\"}, \"bgcolor\": \"#E5ECF6\", \"caxis\": {\"gridcolor\": \"white\", \"linecolor\": \"white\", \"ticks\": \"\"}}, \"title\": {\"x\": 0.05}, \"xaxis\": {\"automargin\": true, \"gridcolor\": \"white\", \"linecolor\": \"white\", \"ticks\": \"\", \"title\": {\"standoff\": 15}, \"zerolinecolor\": \"white\", \"zerolinewidth\": 2}, \"yaxis\": {\"automargin\": true, \"gridcolor\": \"white\", \"linecolor\": \"white\", \"ticks\": \"\", \"title\": {\"standoff\": 15}, \"zerolinecolor\": \"white\", \"zerolinewidth\": 2}}}},\n",
              "                        {\"responsive\": true}\n",
              "                    ).then(function(){\n",
              "                            \n",
              "var gd = document.getElementById('543aef65-365a-4423-8df2-11fa23a50a8c');\n",
              "var x = new MutationObserver(function (mutations, observer) {{\n",
              "        var display = window.getComputedStyle(gd).display;\n",
              "        if (!display || display === 'none') {{\n",
              "            console.log([gd, 'removed!']);\n",
              "            Plotly.purge(gd);\n",
              "            observer.disconnect();\n",
              "        }}\n",
              "}});\n",
              "\n",
              "// Listen for the removal of the full notebook cells\n",
              "var notebookContainer = gd.closest('#notebook-container');\n",
              "if (notebookContainer) {{\n",
              "    x.observe(notebookContainer, {childList: true});\n",
              "}}\n",
              "\n",
              "// Listen for the clearing of the current output cell\n",
              "var outputEl = gd.closest('.output');\n",
              "if (outputEl) {{\n",
              "    x.observe(outputEl, {childList: true});\n",
              "}}\n",
              "\n",
              "                        })\n",
              "                };\n",
              "                \n",
              "            </script>\n",
              "        </div>\n",
              "</body>\n",
              "</html>"
            ]
          },
          "metadata": {
            "tags": []
          }
        },
        {
          "output_type": "stream",
          "text": [
            "CPU times: user 993 ms, sys: 189 ms, total: 1.18 s\n",
            "Wall time: 2.37 s\n"
          ],
          "name": "stdout"
        }
      ]
    },
    {
      "cell_type": "markdown",
      "metadata": {
        "id": "DoXKfvbww6F8",
        "colab_type": "text"
      },
      "source": [
        "# Koalas"
      ]
    },
    {
      "cell_type": "markdown",
      "metadata": {
        "id": "BMBTlezSxBic",
        "colab_type": "text"
      },
      "source": [
        "https://koalas.readthedocs.io/en/latest/"
      ]
    },
    {
      "cell_type": "code",
      "metadata": {
        "id": "WEMLb2H5x3-y",
        "colab_type": "code",
        "colab": {}
      },
      "source": [
        "!apt-get update\n",
        "!apt-get install openjdk-8-jdk-headless -qq > /dev/null \n",
        "!wget -q https://downloads.apache.org/spark/spark-3.0.0/spark-3.0.0-bin-hadoop3.2.tgz\n",
        "!tar -xvf spark-3.0.0-bin-hadoop3.2.tgz\n",
        "!pip install -q findspark\n",
        "!pip install koalas"
      ],
      "execution_count": null,
      "outputs": []
    },
    {
      "cell_type": "code",
      "metadata": {
        "id": "ba6P2iNzx-a6",
        "colab_type": "code",
        "colab": {}
      },
      "source": [
        "import pandas as pd\n",
        "import numpy as np\n",
        "\n",
        "import os\n",
        "os.environ[\"JAVA_HOME\"] = \"/usr/lib/jvm/java-8-openjdk-amd64\"\n",
        "os.environ[\"SPARK_HOME\"] = \"/content/spark-3.0.0-bin-hadoop3.2\"\n",
        "\n",
        "import numpy as np\n",
        "import pandas as pd\n",
        "import findspark\n",
        "findspark.init()\n",
        "from pyspark.sql import SparkSession\n",
        "#spark = SparkSession.builder.master(\"local[*]\").getOrCreate()"
      ],
      "execution_count": 42,
      "outputs": []
    },
    {
      "cell_type": "code",
      "metadata": {
        "id": "-lssvzCtxPlT",
        "colab_type": "code",
        "colab": {}
      },
      "source": [
        "import databricks.koalas as ks"
      ],
      "execution_count": 43,
      "outputs": []
    },
    {
      "cell_type": "code",
      "metadata": {
        "id": "sE1pumo4AiVe",
        "colab_type": "code",
        "colab": {
          "base_uri": "https://localhost:8080/",
          "height": 51
        },
        "outputId": "d6f64148-c216-4946-c09a-0354509a3b86"
      },
      "source": [
        "%%time\n",
        "path='/content/drive/My Drive/Data/Sonion/V04R-V04R-SQLData.dat' # 1.88 gb\n",
        "df = ks.read_csv(path,sep='\\t',header=None)"
      ],
      "execution_count": 44,
      "outputs": [
        {
          "output_type": "stream",
          "text": [
            "CPU times: user 139 ms, sys: 44.6 ms, total: 184 ms\n",
            "Wall time: 1min 31s\n"
          ],
          "name": "stdout"
        }
      ]
    },
    {
      "cell_type": "code",
      "metadata": {
        "id": "tBLPWKh3AiY8",
        "colab_type": "code",
        "colab": {}
      },
      "source": [
        "%%time\n",
        "df"
      ],
      "execution_count": null,
      "outputs": []
    },
    {
      "cell_type": "code",
      "metadata": {
        "id": "fpAoKTYVwja6",
        "colab_type": "code",
        "colab": {
          "base_uri": "https://localhost:8080/",
          "height": 68
        },
        "outputId": "743b74b2-d3d6-4bf0-e996-f625f389d284"
      },
      "source": [
        "%%time\n",
        "df.shape"
      ],
      "execution_count": 46,
      "outputs": [
        {
          "output_type": "stream",
          "text": [
            "CPU times: user 3.08 ms, sys: 271 µs, total: 3.35 ms\n",
            "Wall time: 8.82 s\n"
          ],
          "name": "stdout"
        },
        {
          "output_type": "execute_result",
          "data": {
            "text/plain": [
              "(3085461, 136)"
            ]
          },
          "metadata": {
            "tags": []
          },
          "execution_count": 46
        }
      ]
    },
    {
      "cell_type": "code",
      "metadata": {
        "id": "m8PJO79Hwjqh",
        "colab_type": "code",
        "colab": {
          "base_uri": "https://localhost:8080/",
          "height": 51
        },
        "outputId": "b5196bde-3217-4f81-a5b1-004c68659cfe"
      },
      "source": [
        "%%time\n",
        "df.columns = ['c' + str(col)  for col in df.columns]"
      ],
      "execution_count": 47,
      "outputs": [
        {
          "output_type": "stream",
          "text": [
            "CPU times: user 87.5 ms, sys: 10 ms, total: 97.5 ms\n",
            "Wall time: 148 ms\n"
          ],
          "name": "stdout"
        }
      ]
    },
    {
      "cell_type": "code",
      "metadata": {
        "id": "gwFeWTEgwjuU",
        "colab_type": "code",
        "colab": {
          "base_uri": "https://localhost:8080/",
          "height": 391
        },
        "outputId": "0ae8306a-15db-47c3-967a-00bc4bc105e7"
      },
      "source": [
        "%%time\n",
        "df['c2'].value_counts()"
      ],
      "execution_count": 48,
      "outputs": [
        {
          "output_type": "stream",
          "text": [
            "CPU times: user 9.86 ms, sys: 2.47 ms, total: 12.3 ms\n",
            "Wall time: 116 ms\n"
          ],
          "name": "stdout"
        },
        {
          "output_type": "execute_result",
          "data": {
            "text/plain": [
              "SU3037_0112       2331513\n",
              "SU3032_0112        521965\n",
              "SU3036_0110        208614\n",
              "CP_SU3032_0112      13088\n",
              "su3037_0112          7095\n",
              "su3032_0112          1726\n",
              "su3036_0110           533\n",
              "SU3037_0112t          342\n",
              "SU2010_0112           305\n",
              "5820                   75\n",
              "cp_su3032_0112         50\n",
              "tSU3037_0112           45\n",
              "33ae015                10\n",
              "su3037_0112t            3\n",
              "5070                    3\n",
              "EST65DB01               2\n",
              "CP_SU3037_0112          1\n",
              "33AE015                 1\n",
              "t-su_ritep01            1\n",
              "Name: c2, dtype: int64"
            ]
          },
          "metadata": {
            "tags": []
          },
          "execution_count": 48
        }
      ]
    },
    {
      "cell_type": "code",
      "metadata": {
        "id": "UQpz2-lFwjoB",
        "colab_type": "code",
        "colab": {
          "base_uri": "https://localhost:8080/",
          "height": 51
        },
        "outputId": "41fe8b35-a47d-4113-ccd9-6d6f12d22085"
      },
      "source": [
        "%%time\n",
        "df_filter=df[df['c2']=='SU3037_0112'] # 2 tr rows\n",
        "df_filter"
      ],
      "execution_count": 49,
      "outputs": [
        {
          "output_type": "stream",
          "text": [
            "CPU times: user 53.4 ms, sys: 8.3 ms, total: 61.7 ms\n",
            "Wall time: 437 ms\n"
          ],
          "name": "stdout"
        }
      ]
    },
    {
      "cell_type": "code",
      "metadata": {
        "id": "nLacti_swjl-",
        "colab_type": "code",
        "colab": {
          "base_uri": "https://localhost:8080/",
          "height": 351
        },
        "outputId": "231e6557-7af4-4619-d037-4f287d0cfddb"
      },
      "source": [
        "%%time\n",
        "df_filter.describe()"
      ],
      "execution_count": 50,
      "outputs": [
        {
          "output_type": "stream",
          "text": [
            "CPU times: user 1.02 s, sys: 165 ms, total: 1.18 s\n",
            "Wall time: 14min 11s\n"
          ],
          "name": "stdout"
        },
        {
          "output_type": "execute_result",
          "data": {
            "text/html": [
              "<div>\n",
              "<style scoped>\n",
              "    .dataframe tbody tr th:only-of-type {\n",
              "        vertical-align: middle;\n",
              "    }\n",
              "\n",
              "    .dataframe tbody tr th {\n",
              "        vertical-align: top;\n",
              "    }\n",
              "\n",
              "    .dataframe thead th {\n",
              "        text-align: right;\n",
              "    }\n",
              "</style>\n",
              "<table border=\"1\" class=\"dataframe\">\n",
              "  <thead>\n",
              "    <tr style=\"text-align: right;\">\n",
              "      <th></th>\n",
              "      <th>c3</th>\n",
              "      <th>c6</th>\n",
              "      <th>c7</th>\n",
              "      <th>c8</th>\n",
              "      <th>c9</th>\n",
              "      <th>c10</th>\n",
              "      <th>c11</th>\n",
              "      <th>c12</th>\n",
              "      <th>c13</th>\n",
              "      <th>c14</th>\n",
              "      <th>c15</th>\n",
              "      <th>c16</th>\n",
              "      <th>c17</th>\n",
              "      <th>c18</th>\n",
              "      <th>c19</th>\n",
              "      <th>c20</th>\n",
              "      <th>c21</th>\n",
              "      <th>c22</th>\n",
              "      <th>c23</th>\n",
              "      <th>c24</th>\n",
              "      <th>c25</th>\n",
              "      <th>c26</th>\n",
              "      <th>c27</th>\n",
              "      <th>c28</th>\n",
              "      <th>c29</th>\n",
              "      <th>c30</th>\n",
              "      <th>c31</th>\n",
              "      <th>c32</th>\n",
              "      <th>c33</th>\n",
              "      <th>c34</th>\n",
              "      <th>c35</th>\n",
              "      <th>c36</th>\n",
              "      <th>c37</th>\n",
              "      <th>c38</th>\n",
              "      <th>c39</th>\n",
              "      <th>c40</th>\n",
              "      <th>c41</th>\n",
              "      <th>c42</th>\n",
              "      <th>c43</th>\n",
              "      <th>c44</th>\n",
              "      <th>c45</th>\n",
              "      <th>c46</th>\n",
              "      <th>c47</th>\n",
              "      <th>c48</th>\n",
              "      <th>c49</th>\n",
              "      <th>c50</th>\n",
              "      <th>c51</th>\n",
              "      <th>c52</th>\n",
              "      <th>c53</th>\n",
              "      <th>c54</th>\n",
              "      <th>c55</th>\n",
              "      <th>c56</th>\n",
              "      <th>c57</th>\n",
              "      <th>c58</th>\n",
              "      <th>c59</th>\n",
              "      <th>c60</th>\n",
              "      <th>c61</th>\n",
              "      <th>c62</th>\n",
              "      <th>c63</th>\n",
              "      <th>c64</th>\n",
              "      <th>c65</th>\n",
              "      <th>c66</th>\n",
              "      <th>c67</th>\n",
              "      <th>c68</th>\n",
              "      <th>c69</th>\n",
              "      <th>c70</th>\n",
              "      <th>c71</th>\n",
              "      <th>c72</th>\n",
              "      <th>c73</th>\n",
              "      <th>c74</th>\n",
              "      <th>c75</th>\n",
              "      <th>c76</th>\n",
              "      <th>c77</th>\n",
              "      <th>c78</th>\n",
              "      <th>c79</th>\n",
              "      <th>c80</th>\n",
              "      <th>c81</th>\n",
              "      <th>c82</th>\n",
              "      <th>c83</th>\n",
              "      <th>c84</th>\n",
              "      <th>c85</th>\n",
              "      <th>c86</th>\n",
              "      <th>c87</th>\n",
              "      <th>c88</th>\n",
              "      <th>c89</th>\n",
              "      <th>c90</th>\n",
              "      <th>c91</th>\n",
              "      <th>c92</th>\n",
              "      <th>c93</th>\n",
              "      <th>c94</th>\n",
              "      <th>c95</th>\n",
              "      <th>c96</th>\n",
              "      <th>c97</th>\n",
              "      <th>c98</th>\n",
              "      <th>c99</th>\n",
              "      <th>c100</th>\n",
              "      <th>c101</th>\n",
              "      <th>c102</th>\n",
              "      <th>c103</th>\n",
              "      <th>c104</th>\n",
              "      <th>c105</th>\n",
              "      <th>c106</th>\n",
              "      <th>c107</th>\n",
              "      <th>c108</th>\n",
              "      <th>c109</th>\n",
              "      <th>c110</th>\n",
              "      <th>c111</th>\n",
              "      <th>c112</th>\n",
              "      <th>c113</th>\n",
              "      <th>c114</th>\n",
              "      <th>c115</th>\n",
              "      <th>c116</th>\n",
              "      <th>c117</th>\n",
              "      <th>c118</th>\n",
              "      <th>c119</th>\n",
              "      <th>c120</th>\n",
              "      <th>c121</th>\n",
              "      <th>c122</th>\n",
              "      <th>c123</th>\n",
              "      <th>c124</th>\n",
              "      <th>c125</th>\n",
              "      <th>c126</th>\n",
              "      <th>c127</th>\n",
              "      <th>c128</th>\n",
              "      <th>c129</th>\n",
              "      <th>c130</th>\n",
              "      <th>c131</th>\n",
              "      <th>c132</th>\n",
              "      <th>c133</th>\n",
              "      <th>c134</th>\n",
              "    </tr>\n",
              "  </thead>\n",
              "  <tbody>\n",
              "    <tr>\n",
              "      <th>count</th>\n",
              "      <td>2.331513e+06</td>\n",
              "      <td>2.331513e+06</td>\n",
              "      <td>2331513.0</td>\n",
              "      <td>2331513.0</td>\n",
              "      <td>2.331513e+06</td>\n",
              "      <td>2331513.0</td>\n",
              "      <td>2331513.0</td>\n",
              "      <td>2.331513e+06</td>\n",
              "      <td>2331513.0</td>\n",
              "      <td>2331513.0</td>\n",
              "      <td>2331513.0</td>\n",
              "      <td>2331513.0</td>\n",
              "      <td>2331513.0</td>\n",
              "      <td>2331513.0</td>\n",
              "      <td>2331513.0</td>\n",
              "      <td>2331513.0</td>\n",
              "      <td>2331513.0</td>\n",
              "      <td>2331513.0</td>\n",
              "      <td>2331513.0</td>\n",
              "      <td>2331513.0</td>\n",
              "      <td>2331513.0</td>\n",
              "      <td>2331513.0</td>\n",
              "      <td>2331513.0</td>\n",
              "      <td>2331513.0</td>\n",
              "      <td>2331513.0</td>\n",
              "      <td>2331513.0</td>\n",
              "      <td>2.331513e+06</td>\n",
              "      <td>2331513.0</td>\n",
              "      <td>2331513.0</td>\n",
              "      <td>2331513.0</td>\n",
              "      <td>2331513.0</td>\n",
              "      <td>2331513.0</td>\n",
              "      <td>2331513.0</td>\n",
              "      <td>2331513.0</td>\n",
              "      <td>2.331513e+06</td>\n",
              "      <td>2.331513e+06</td>\n",
              "      <td>2.331513e+06</td>\n",
              "      <td>2.331513e+06</td>\n",
              "      <td>2331513.0</td>\n",
              "      <td>2331513.0</td>\n",
              "      <td>2331513.0</td>\n",
              "      <td>2331513.0</td>\n",
              "      <td>2331513.0</td>\n",
              "      <td>2331513.0</td>\n",
              "      <td>2331513.0</td>\n",
              "      <td>2331513.0</td>\n",
              "      <td>2331513.0</td>\n",
              "      <td>2331513.0</td>\n",
              "      <td>2331513.0</td>\n",
              "      <td>2331513.0</td>\n",
              "      <td>2331513.0</td>\n",
              "      <td>2331513.0</td>\n",
              "      <td>2331513.0</td>\n",
              "      <td>2.331513e+06</td>\n",
              "      <td>2.331513e+06</td>\n",
              "      <td>2331513.0</td>\n",
              "      <td>2.331513e+06</td>\n",
              "      <td>2.331513e+06</td>\n",
              "      <td>2331513.0</td>\n",
              "      <td>2.331513e+06</td>\n",
              "      <td>2.331513e+06</td>\n",
              "      <td>2331513.0</td>\n",
              "      <td>2.331513e+06</td>\n",
              "      <td>2.331513e+06</td>\n",
              "      <td>2331513.0</td>\n",
              "      <td>2.331513e+06</td>\n",
              "      <td>2.331513e+06</td>\n",
              "      <td>2331513.0</td>\n",
              "      <td>2.331513e+06</td>\n",
              "      <td>2.331513e+06</td>\n",
              "      <td>2331513.0</td>\n",
              "      <td>2331513.0</td>\n",
              "      <td>2331513.0</td>\n",
              "      <td>2331513.0</td>\n",
              "      <td>2331513.0</td>\n",
              "      <td>2331513.0</td>\n",
              "      <td>2331513.0</td>\n",
              "      <td>2331513.0</td>\n",
              "      <td>2331513.0</td>\n",
              "      <td>2331513.0</td>\n",
              "      <td>2331513.0</td>\n",
              "      <td>2331513.0</td>\n",
              "      <td>2331513.0</td>\n",
              "      <td>2331513.0</td>\n",
              "      <td>2331513.0</td>\n",
              "      <td>2331513.0</td>\n",
              "      <td>2331513.0</td>\n",
              "      <td>2331513.0</td>\n",
              "      <td>2331513.0</td>\n",
              "      <td>2331513.0</td>\n",
              "      <td>2331513.0</td>\n",
              "      <td>2331513.0</td>\n",
              "      <td>2331513.0</td>\n",
              "      <td>2331513.0</td>\n",
              "      <td>2331513.0</td>\n",
              "      <td>2331513.0</td>\n",
              "      <td>2331513.0</td>\n",
              "      <td>2331513.0</td>\n",
              "      <td>2331513.0</td>\n",
              "      <td>2331513.0</td>\n",
              "      <td>2331513.0</td>\n",
              "      <td>2331513.0</td>\n",
              "      <td>2331513.0</td>\n",
              "      <td>2331513.0</td>\n",
              "      <td>2331513.0</td>\n",
              "      <td>2331513.0</td>\n",
              "      <td>2331513.0</td>\n",
              "      <td>2331513.0</td>\n",
              "      <td>2331513.0</td>\n",
              "      <td>2331513.0</td>\n",
              "      <td>2331513.0</td>\n",
              "      <td>2.331513e+06</td>\n",
              "      <td>2.331513e+06</td>\n",
              "      <td>2.331513e+06</td>\n",
              "      <td>2.331513e+06</td>\n",
              "      <td>2.331513e+06</td>\n",
              "      <td>2.331513e+06</td>\n",
              "      <td>2.331513e+06</td>\n",
              "      <td>2.331513e+06</td>\n",
              "      <td>2.331513e+06</td>\n",
              "      <td>2.331513e+06</td>\n",
              "      <td>2.331513e+06</td>\n",
              "      <td>2331513.0</td>\n",
              "      <td>2331513.0</td>\n",
              "      <td>2331513.0</td>\n",
              "      <td>2331513.0</td>\n",
              "      <td>2331513.0</td>\n",
              "      <td>2331513.0</td>\n",
              "      <td>2331513.0</td>\n",
              "      <td>2331513.0</td>\n",
              "    </tr>\n",
              "    <tr>\n",
              "      <th>mean</th>\n",
              "      <td>9.985860e+03</td>\n",
              "      <td>1.000434e+00</td>\n",
              "      <td>0.0</td>\n",
              "      <td>933.0</td>\n",
              "      <td>3.103666e+00</td>\n",
              "      <td>0.0</td>\n",
              "      <td>1400.0</td>\n",
              "      <td>1.882470e+00</td>\n",
              "      <td>0.0</td>\n",
              "      <td>0.0</td>\n",
              "      <td>0.0</td>\n",
              "      <td>0.0</td>\n",
              "      <td>0.0</td>\n",
              "      <td>0.0</td>\n",
              "      <td>0.0</td>\n",
              "      <td>0.0</td>\n",
              "      <td>0.0</td>\n",
              "      <td>0.0</td>\n",
              "      <td>0.0</td>\n",
              "      <td>0.0</td>\n",
              "      <td>0.0</td>\n",
              "      <td>0.0</td>\n",
              "      <td>0.0</td>\n",
              "      <td>0.0</td>\n",
              "      <td>0.0</td>\n",
              "      <td>0.0</td>\n",
              "      <td>7.733736e+01</td>\n",
              "      <td>0.0</td>\n",
              "      <td>0.0</td>\n",
              "      <td>0.0</td>\n",
              "      <td>0.0</td>\n",
              "      <td>0.0</td>\n",
              "      <td>0.0</td>\n",
              "      <td>0.0</td>\n",
              "      <td>-7.602489e+00</td>\n",
              "      <td>1.161813e+02</td>\n",
              "      <td>1.192971e+02</td>\n",
              "      <td>1.269833e+02</td>\n",
              "      <td>0.0</td>\n",
              "      <td>0.0</td>\n",
              "      <td>0.0</td>\n",
              "      <td>0.0</td>\n",
              "      <td>0.0</td>\n",
              "      <td>0.0</td>\n",
              "      <td>0.0</td>\n",
              "      <td>0.0</td>\n",
              "      <td>0.0</td>\n",
              "      <td>0.0</td>\n",
              "      <td>0.0</td>\n",
              "      <td>16.0</td>\n",
              "      <td>0.0</td>\n",
              "      <td>0.0</td>\n",
              "      <td>0.0</td>\n",
              "      <td>1.999998e+02</td>\n",
              "      <td>1.034064e+02</td>\n",
              "      <td>0.0</td>\n",
              "      <td>4.999996e+02</td>\n",
              "      <td>1.034836e+02</td>\n",
              "      <td>0.0</td>\n",
              "      <td>9.999991e+02</td>\n",
              "      <td>1.050315e+02</td>\n",
              "      <td>0.0</td>\n",
              "      <td>2.805738e+03</td>\n",
              "      <td>1.153215e+02</td>\n",
              "      <td>1.0</td>\n",
              "      <td>6.063491e+03</td>\n",
              "      <td>9.922293e+01</td>\n",
              "      <td>2.0</td>\n",
              "      <td>8.088161e+03</td>\n",
              "      <td>1.043418e+02</td>\n",
              "      <td>1.0</td>\n",
              "      <td>0.0</td>\n",
              "      <td>0.0</td>\n",
              "      <td>-1.0</td>\n",
              "      <td>0.0</td>\n",
              "      <td>0.0</td>\n",
              "      <td>-1.0</td>\n",
              "      <td>0.0</td>\n",
              "      <td>0.0</td>\n",
              "      <td>-1.0</td>\n",
              "      <td>0.0</td>\n",
              "      <td>0.0</td>\n",
              "      <td>-1.0</td>\n",
              "      <td>0.0</td>\n",
              "      <td>0.0</td>\n",
              "      <td>-1.0</td>\n",
              "      <td>0.0</td>\n",
              "      <td>0.0</td>\n",
              "      <td>-1.0</td>\n",
              "      <td>0.0</td>\n",
              "      <td>0.0</td>\n",
              "      <td>-1.0</td>\n",
              "      <td>0.0</td>\n",
              "      <td>0.0</td>\n",
              "      <td>-1.0</td>\n",
              "      <td>0.0</td>\n",
              "      <td>0.0</td>\n",
              "      <td>-1.0</td>\n",
              "      <td>0.0</td>\n",
              "      <td>0.0</td>\n",
              "      <td>-1.0</td>\n",
              "      <td>0.0</td>\n",
              "      <td>0.0</td>\n",
              "      <td>-1.0</td>\n",
              "      <td>0.0</td>\n",
              "      <td>0.0</td>\n",
              "      <td>-1.0</td>\n",
              "      <td>0.0</td>\n",
              "      <td>0.0</td>\n",
              "      <td>-1.0</td>\n",
              "      <td>1.0</td>\n",
              "      <td>2.910227e+00</td>\n",
              "      <td>2.905062e-01</td>\n",
              "      <td>2.283483e-01</td>\n",
              "      <td>5.699218e-02</td>\n",
              "      <td>4.379216e-02</td>\n",
              "      <td>3.113600e-02</td>\n",
              "      <td>1.712407e-02</td>\n",
              "      <td>8.304479e-03</td>\n",
              "      <td>5.345885e-03</td>\n",
              "      <td>3.327882e-03</td>\n",
              "      <td>1.214233e-03</td>\n",
              "      <td>0.0</td>\n",
              "      <td>0.0</td>\n",
              "      <td>0.0</td>\n",
              "      <td>0.0</td>\n",
              "      <td>0.0</td>\n",
              "      <td>0.0</td>\n",
              "      <td>0.0</td>\n",
              "      <td>0.0</td>\n",
              "    </tr>\n",
              "    <tr>\n",
              "      <th>std</th>\n",
              "      <td>6.501723e+03</td>\n",
              "      <td>4.065484e-02</td>\n",
              "      <td>0.0</td>\n",
              "      <td>0.0</td>\n",
              "      <td>2.502048e+00</td>\n",
              "      <td>0.0</td>\n",
              "      <td>0.0</td>\n",
              "      <td>2.186195e+00</td>\n",
              "      <td>0.0</td>\n",
              "      <td>0.0</td>\n",
              "      <td>0.0</td>\n",
              "      <td>0.0</td>\n",
              "      <td>0.0</td>\n",
              "      <td>0.0</td>\n",
              "      <td>0.0</td>\n",
              "      <td>0.0</td>\n",
              "      <td>0.0</td>\n",
              "      <td>0.0</td>\n",
              "      <td>0.0</td>\n",
              "      <td>0.0</td>\n",
              "      <td>0.0</td>\n",
              "      <td>0.0</td>\n",
              "      <td>0.0</td>\n",
              "      <td>0.0</td>\n",
              "      <td>0.0</td>\n",
              "      <td>0.0</td>\n",
              "      <td>2.076534e+00</td>\n",
              "      <td>0.0</td>\n",
              "      <td>0.0</td>\n",
              "      <td>0.0</td>\n",
              "      <td>0.0</td>\n",
              "      <td>0.0</td>\n",
              "      <td>0.0</td>\n",
              "      <td>0.0</td>\n",
              "      <td>5.277865e+00</td>\n",
              "      <td>9.726577e-01</td>\n",
              "      <td>1.037887e+00</td>\n",
              "      <td>1.215421e+00</td>\n",
              "      <td>0.0</td>\n",
              "      <td>0.0</td>\n",
              "      <td>0.0</td>\n",
              "      <td>0.0</td>\n",
              "      <td>0.0</td>\n",
              "      <td>0.0</td>\n",
              "      <td>0.0</td>\n",
              "      <td>0.0</td>\n",
              "      <td>0.0</td>\n",
              "      <td>0.0</td>\n",
              "      <td>0.0</td>\n",
              "      <td>0.0</td>\n",
              "      <td>0.0</td>\n",
              "      <td>0.0</td>\n",
              "      <td>0.0</td>\n",
              "      <td>1.852362e-01</td>\n",
              "      <td>1.161148e+00</td>\n",
              "      <td>0.0</td>\n",
              "      <td>4.630906e-01</td>\n",
              "      <td>1.326904e+00</td>\n",
              "      <td>0.0</td>\n",
              "      <td>9.261812e-01</td>\n",
              "      <td>1.415799e+00</td>\n",
              "      <td>0.0</td>\n",
              "      <td>5.239877e+01</td>\n",
              "      <td>1.567398e+00</td>\n",
              "      <td>0.0</td>\n",
              "      <td>9.668432e+01</td>\n",
              "      <td>1.260387e+00</td>\n",
              "      <td>0.0</td>\n",
              "      <td>1.855318e+02</td>\n",
              "      <td>1.395490e+00</td>\n",
              "      <td>0.0</td>\n",
              "      <td>0.0</td>\n",
              "      <td>0.0</td>\n",
              "      <td>0.0</td>\n",
              "      <td>0.0</td>\n",
              "      <td>0.0</td>\n",
              "      <td>0.0</td>\n",
              "      <td>0.0</td>\n",
              "      <td>0.0</td>\n",
              "      <td>0.0</td>\n",
              "      <td>0.0</td>\n",
              "      <td>0.0</td>\n",
              "      <td>0.0</td>\n",
              "      <td>0.0</td>\n",
              "      <td>0.0</td>\n",
              "      <td>0.0</td>\n",
              "      <td>0.0</td>\n",
              "      <td>0.0</td>\n",
              "      <td>0.0</td>\n",
              "      <td>0.0</td>\n",
              "      <td>0.0</td>\n",
              "      <td>0.0</td>\n",
              "      <td>0.0</td>\n",
              "      <td>0.0</td>\n",
              "      <td>0.0</td>\n",
              "      <td>0.0</td>\n",
              "      <td>0.0</td>\n",
              "      <td>0.0</td>\n",
              "      <td>0.0</td>\n",
              "      <td>0.0</td>\n",
              "      <td>0.0</td>\n",
              "      <td>0.0</td>\n",
              "      <td>0.0</td>\n",
              "      <td>0.0</td>\n",
              "      <td>0.0</td>\n",
              "      <td>0.0</td>\n",
              "      <td>0.0</td>\n",
              "      <td>0.0</td>\n",
              "      <td>0.0</td>\n",
              "      <td>0.0</td>\n",
              "      <td>0.0</td>\n",
              "      <td>4.141108e-01</td>\n",
              "      <td>3.165864e+00</td>\n",
              "      <td>4.567470e+00</td>\n",
              "      <td>1.428062e+00</td>\n",
              "      <td>1.150125e+00</td>\n",
              "      <td>9.318482e-01</td>\n",
              "      <td>6.030038e-01</td>\n",
              "      <td>3.061302e-01</td>\n",
              "      <td>1.954171e-01</td>\n",
              "      <td>1.495133e-01</td>\n",
              "      <td>8.404189e-02</td>\n",
              "      <td>0.0</td>\n",
              "      <td>0.0</td>\n",
              "      <td>0.0</td>\n",
              "      <td>0.0</td>\n",
              "      <td>0.0</td>\n",
              "      <td>0.0</td>\n",
              "      <td>0.0</td>\n",
              "      <td>0.0</td>\n",
              "    </tr>\n",
              "    <tr>\n",
              "      <th>min</th>\n",
              "      <td>0.000000e+00</td>\n",
              "      <td>0.000000e+00</td>\n",
              "      <td>0.0</td>\n",
              "      <td>933.0</td>\n",
              "      <td>0.000000e+00</td>\n",
              "      <td>0.0</td>\n",
              "      <td>1400.0</td>\n",
              "      <td>0.000000e+00</td>\n",
              "      <td>0.0</td>\n",
              "      <td>0.0</td>\n",
              "      <td>0.0</td>\n",
              "      <td>0.0</td>\n",
              "      <td>0.0</td>\n",
              "      <td>0.0</td>\n",
              "      <td>0.0</td>\n",
              "      <td>0.0</td>\n",
              "      <td>0.0</td>\n",
              "      <td>0.0</td>\n",
              "      <td>0.0</td>\n",
              "      <td>0.0</td>\n",
              "      <td>0.0</td>\n",
              "      <td>0.0</td>\n",
              "      <td>0.0</td>\n",
              "      <td>0.0</td>\n",
              "      <td>0.0</td>\n",
              "      <td>0.0</td>\n",
              "      <td>0.000000e+00</td>\n",
              "      <td>0.0</td>\n",
              "      <td>0.0</td>\n",
              "      <td>0.0</td>\n",
              "      <td>0.0</td>\n",
              "      <td>0.0</td>\n",
              "      <td>0.0</td>\n",
              "      <td>0.0</td>\n",
              "      <td>-1.798500e+02</td>\n",
              "      <td>0.000000e+00</td>\n",
              "      <td>0.000000e+00</td>\n",
              "      <td>0.000000e+00</td>\n",
              "      <td>0.0</td>\n",
              "      <td>0.0</td>\n",
              "      <td>0.0</td>\n",
              "      <td>0.0</td>\n",
              "      <td>0.0</td>\n",
              "      <td>0.0</td>\n",
              "      <td>0.0</td>\n",
              "      <td>0.0</td>\n",
              "      <td>0.0</td>\n",
              "      <td>0.0</td>\n",
              "      <td>0.0</td>\n",
              "      <td>16.0</td>\n",
              "      <td>0.0</td>\n",
              "      <td>0.0</td>\n",
              "      <td>0.0</td>\n",
              "      <td>0.000000e+00</td>\n",
              "      <td>0.000000e+00</td>\n",
              "      <td>0.0</td>\n",
              "      <td>0.000000e+00</td>\n",
              "      <td>0.000000e+00</td>\n",
              "      <td>0.0</td>\n",
              "      <td>0.000000e+00</td>\n",
              "      <td>-1.048000e+00</td>\n",
              "      <td>0.0</td>\n",
              "      <td>0.000000e+00</td>\n",
              "      <td>0.000000e+00</td>\n",
              "      <td>1.0</td>\n",
              "      <td>0.000000e+00</td>\n",
              "      <td>0.000000e+00</td>\n",
              "      <td>2.0</td>\n",
              "      <td>0.000000e+00</td>\n",
              "      <td>0.000000e+00</td>\n",
              "      <td>1.0</td>\n",
              "      <td>0.0</td>\n",
              "      <td>0.0</td>\n",
              "      <td>-1.0</td>\n",
              "      <td>0.0</td>\n",
              "      <td>0.0</td>\n",
              "      <td>-1.0</td>\n",
              "      <td>0.0</td>\n",
              "      <td>0.0</td>\n",
              "      <td>-1.0</td>\n",
              "      <td>0.0</td>\n",
              "      <td>0.0</td>\n",
              "      <td>-1.0</td>\n",
              "      <td>0.0</td>\n",
              "      <td>0.0</td>\n",
              "      <td>-1.0</td>\n",
              "      <td>0.0</td>\n",
              "      <td>0.0</td>\n",
              "      <td>-1.0</td>\n",
              "      <td>0.0</td>\n",
              "      <td>0.0</td>\n",
              "      <td>-1.0</td>\n",
              "      <td>0.0</td>\n",
              "      <td>0.0</td>\n",
              "      <td>-1.0</td>\n",
              "      <td>0.0</td>\n",
              "      <td>0.0</td>\n",
              "      <td>-1.0</td>\n",
              "      <td>0.0</td>\n",
              "      <td>0.0</td>\n",
              "      <td>-1.0</td>\n",
              "      <td>0.0</td>\n",
              "      <td>0.0</td>\n",
              "      <td>-1.0</td>\n",
              "      <td>0.0</td>\n",
              "      <td>0.0</td>\n",
              "      <td>-1.0</td>\n",
              "      <td>0.0</td>\n",
              "      <td>0.0</td>\n",
              "      <td>-1.0</td>\n",
              "      <td>1.0</td>\n",
              "      <td>1.000000e+00</td>\n",
              "      <td>0.000000e+00</td>\n",
              "      <td>0.000000e+00</td>\n",
              "      <td>0.000000e+00</td>\n",
              "      <td>0.000000e+00</td>\n",
              "      <td>0.000000e+00</td>\n",
              "      <td>0.000000e+00</td>\n",
              "      <td>0.000000e+00</td>\n",
              "      <td>0.000000e+00</td>\n",
              "      <td>0.000000e+00</td>\n",
              "      <td>0.000000e+00</td>\n",
              "      <td>0.0</td>\n",
              "      <td>0.0</td>\n",
              "      <td>0.0</td>\n",
              "      <td>0.0</td>\n",
              "      <td>0.0</td>\n",
              "      <td>0.0</td>\n",
              "      <td>0.0</td>\n",
              "      <td>0.0</td>\n",
              "    </tr>\n",
              "    <tr>\n",
              "      <th>25%</th>\n",
              "      <td>5.070000e+03</td>\n",
              "      <td>1.000000e+00</td>\n",
              "      <td>0.0</td>\n",
              "      <td>933.0</td>\n",
              "      <td>2.440000e+00</td>\n",
              "      <td>0.0</td>\n",
              "      <td>1400.0</td>\n",
              "      <td>1.070000e+00</td>\n",
              "      <td>0.0</td>\n",
              "      <td>0.0</td>\n",
              "      <td>0.0</td>\n",
              "      <td>0.0</td>\n",
              "      <td>0.0</td>\n",
              "      <td>0.0</td>\n",
              "      <td>0.0</td>\n",
              "      <td>0.0</td>\n",
              "      <td>0.0</td>\n",
              "      <td>0.0</td>\n",
              "      <td>0.0</td>\n",
              "      <td>0.0</td>\n",
              "      <td>0.0</td>\n",
              "      <td>0.0</td>\n",
              "      <td>0.0</td>\n",
              "      <td>0.0</td>\n",
              "      <td>0.0</td>\n",
              "      <td>0.0</td>\n",
              "      <td>7.634000e+01</td>\n",
              "      <td>0.0</td>\n",
              "      <td>0.0</td>\n",
              "      <td>0.0</td>\n",
              "      <td>0.0</td>\n",
              "      <td>0.0</td>\n",
              "      <td>0.0</td>\n",
              "      <td>0.0</td>\n",
              "      <td>-8.850000e+00</td>\n",
              "      <td>1.159100e+02</td>\n",
              "      <td>1.190400e+02</td>\n",
              "      <td>1.268000e+02</td>\n",
              "      <td>0.0</td>\n",
              "      <td>0.0</td>\n",
              "      <td>0.0</td>\n",
              "      <td>0.0</td>\n",
              "      <td>0.0</td>\n",
              "      <td>0.0</td>\n",
              "      <td>0.0</td>\n",
              "      <td>0.0</td>\n",
              "      <td>0.0</td>\n",
              "      <td>0.0</td>\n",
              "      <td>0.0</td>\n",
              "      <td>16.0</td>\n",
              "      <td>0.0</td>\n",
              "      <td>0.0</td>\n",
              "      <td>0.0</td>\n",
              "      <td>2.000000e+02</td>\n",
              "      <td>1.031910e+02</td>\n",
              "      <td>0.0</td>\n",
              "      <td>5.000000e+02</td>\n",
              "      <td>1.032730e+02</td>\n",
              "      <td>0.0</td>\n",
              "      <td>1.000000e+03</td>\n",
              "      <td>1.047860e+02</td>\n",
              "      <td>0.0</td>\n",
              "      <td>2.761840e+03</td>\n",
              "      <td>1.151570e+02</td>\n",
              "      <td>1.0</td>\n",
              "      <td>6.027220e+03</td>\n",
              "      <td>9.890900e+01</td>\n",
              "      <td>2.0</td>\n",
              "      <td>7.995610e+03</td>\n",
              "      <td>1.039800e+02</td>\n",
              "      <td>1.0</td>\n",
              "      <td>0.0</td>\n",
              "      <td>0.0</td>\n",
              "      <td>-1.0</td>\n",
              "      <td>0.0</td>\n",
              "      <td>0.0</td>\n",
              "      <td>-1.0</td>\n",
              "      <td>0.0</td>\n",
              "      <td>0.0</td>\n",
              "      <td>-1.0</td>\n",
              "      <td>0.0</td>\n",
              "      <td>0.0</td>\n",
              "      <td>-1.0</td>\n",
              "      <td>0.0</td>\n",
              "      <td>0.0</td>\n",
              "      <td>-1.0</td>\n",
              "      <td>0.0</td>\n",
              "      <td>0.0</td>\n",
              "      <td>-1.0</td>\n",
              "      <td>0.0</td>\n",
              "      <td>0.0</td>\n",
              "      <td>-1.0</td>\n",
              "      <td>0.0</td>\n",
              "      <td>0.0</td>\n",
              "      <td>-1.0</td>\n",
              "      <td>0.0</td>\n",
              "      <td>0.0</td>\n",
              "      <td>-1.0</td>\n",
              "      <td>0.0</td>\n",
              "      <td>0.0</td>\n",
              "      <td>-1.0</td>\n",
              "      <td>0.0</td>\n",
              "      <td>0.0</td>\n",
              "      <td>-1.0</td>\n",
              "      <td>0.0</td>\n",
              "      <td>0.0</td>\n",
              "      <td>-1.0</td>\n",
              "      <td>0.0</td>\n",
              "      <td>0.0</td>\n",
              "      <td>-1.0</td>\n",
              "      <td>1.0</td>\n",
              "      <td>3.000000e+00</td>\n",
              "      <td>0.000000e+00</td>\n",
              "      <td>0.000000e+00</td>\n",
              "      <td>0.000000e+00</td>\n",
              "      <td>0.000000e+00</td>\n",
              "      <td>0.000000e+00</td>\n",
              "      <td>0.000000e+00</td>\n",
              "      <td>0.000000e+00</td>\n",
              "      <td>0.000000e+00</td>\n",
              "      <td>0.000000e+00</td>\n",
              "      <td>0.000000e+00</td>\n",
              "      <td>0.0</td>\n",
              "      <td>0.0</td>\n",
              "      <td>0.0</td>\n",
              "      <td>0.0</td>\n",
              "      <td>0.0</td>\n",
              "      <td>0.0</td>\n",
              "      <td>0.0</td>\n",
              "      <td>0.0</td>\n",
              "    </tr>\n",
              "    <tr>\n",
              "      <th>50%</th>\n",
              "      <td>7.117000e+03</td>\n",
              "      <td>1.000000e+00</td>\n",
              "      <td>0.0</td>\n",
              "      <td>933.0</td>\n",
              "      <td>2.900000e+00</td>\n",
              "      <td>0.0</td>\n",
              "      <td>1400.0</td>\n",
              "      <td>1.630000e+00</td>\n",
              "      <td>0.0</td>\n",
              "      <td>0.0</td>\n",
              "      <td>0.0</td>\n",
              "      <td>0.0</td>\n",
              "      <td>0.0</td>\n",
              "      <td>0.0</td>\n",
              "      <td>0.0</td>\n",
              "      <td>0.0</td>\n",
              "      <td>0.0</td>\n",
              "      <td>0.0</td>\n",
              "      <td>0.0</td>\n",
              "      <td>0.0</td>\n",
              "      <td>0.0</td>\n",
              "      <td>0.0</td>\n",
              "      <td>0.0</td>\n",
              "      <td>0.0</td>\n",
              "      <td>0.0</td>\n",
              "      <td>0.0</td>\n",
              "      <td>7.728000e+01</td>\n",
              "      <td>0.0</td>\n",
              "      <td>0.0</td>\n",
              "      <td>0.0</td>\n",
              "      <td>0.0</td>\n",
              "      <td>0.0</td>\n",
              "      <td>0.0</td>\n",
              "      <td>0.0</td>\n",
              "      <td>-7.830000e+00</td>\n",
              "      <td>1.162300e+02</td>\n",
              "      <td>1.193000e+02</td>\n",
              "      <td>1.270600e+02</td>\n",
              "      <td>0.0</td>\n",
              "      <td>0.0</td>\n",
              "      <td>0.0</td>\n",
              "      <td>0.0</td>\n",
              "      <td>0.0</td>\n",
              "      <td>0.0</td>\n",
              "      <td>0.0</td>\n",
              "      <td>0.0</td>\n",
              "      <td>0.0</td>\n",
              "      <td>0.0</td>\n",
              "      <td>0.0</td>\n",
              "      <td>16.0</td>\n",
              "      <td>0.0</td>\n",
              "      <td>0.0</td>\n",
              "      <td>0.0</td>\n",
              "      <td>2.000000e+02</td>\n",
              "      <td>1.034310e+02</td>\n",
              "      <td>0.0</td>\n",
              "      <td>5.000000e+02</td>\n",
              "      <td>1.035130e+02</td>\n",
              "      <td>0.0</td>\n",
              "      <td>1.000000e+03</td>\n",
              "      <td>1.051080e+02</td>\n",
              "      <td>0.0</td>\n",
              "      <td>2.807620e+03</td>\n",
              "      <td>1.154030e+02</td>\n",
              "      <td>1.0</td>\n",
              "      <td>6.057740e+03</td>\n",
              "      <td>9.925500e+01</td>\n",
              "      <td>2.0</td>\n",
              "      <td>8.102420e+03</td>\n",
              "      <td>1.044120e+02</td>\n",
              "      <td>1.0</td>\n",
              "      <td>0.0</td>\n",
              "      <td>0.0</td>\n",
              "      <td>-1.0</td>\n",
              "      <td>0.0</td>\n",
              "      <td>0.0</td>\n",
              "      <td>-1.0</td>\n",
              "      <td>0.0</td>\n",
              "      <td>0.0</td>\n",
              "      <td>-1.0</td>\n",
              "      <td>0.0</td>\n",
              "      <td>0.0</td>\n",
              "      <td>-1.0</td>\n",
              "      <td>0.0</td>\n",
              "      <td>0.0</td>\n",
              "      <td>-1.0</td>\n",
              "      <td>0.0</td>\n",
              "      <td>0.0</td>\n",
              "      <td>-1.0</td>\n",
              "      <td>0.0</td>\n",
              "      <td>0.0</td>\n",
              "      <td>-1.0</td>\n",
              "      <td>0.0</td>\n",
              "      <td>0.0</td>\n",
              "      <td>-1.0</td>\n",
              "      <td>0.0</td>\n",
              "      <td>0.0</td>\n",
              "      <td>-1.0</td>\n",
              "      <td>0.0</td>\n",
              "      <td>0.0</td>\n",
              "      <td>-1.0</td>\n",
              "      <td>0.0</td>\n",
              "      <td>0.0</td>\n",
              "      <td>-1.0</td>\n",
              "      <td>0.0</td>\n",
              "      <td>0.0</td>\n",
              "      <td>-1.0</td>\n",
              "      <td>0.0</td>\n",
              "      <td>0.0</td>\n",
              "      <td>-1.0</td>\n",
              "      <td>1.0</td>\n",
              "      <td>3.000000e+00</td>\n",
              "      <td>0.000000e+00</td>\n",
              "      <td>0.000000e+00</td>\n",
              "      <td>0.000000e+00</td>\n",
              "      <td>0.000000e+00</td>\n",
              "      <td>0.000000e+00</td>\n",
              "      <td>0.000000e+00</td>\n",
              "      <td>0.000000e+00</td>\n",
              "      <td>0.000000e+00</td>\n",
              "      <td>0.000000e+00</td>\n",
              "      <td>0.000000e+00</td>\n",
              "      <td>0.0</td>\n",
              "      <td>0.0</td>\n",
              "      <td>0.0</td>\n",
              "      <td>0.0</td>\n",
              "      <td>0.0</td>\n",
              "      <td>0.0</td>\n",
              "      <td>0.0</td>\n",
              "      <td>0.0</td>\n",
              "    </tr>\n",
              "    <tr>\n",
              "      <th>75%</th>\n",
              "      <td>1.425800e+04</td>\n",
              "      <td>1.000000e+00</td>\n",
              "      <td>0.0</td>\n",
              "      <td>933.0</td>\n",
              "      <td>3.500000e+00</td>\n",
              "      <td>0.0</td>\n",
              "      <td>1400.0</td>\n",
              "      <td>2.370000e+00</td>\n",
              "      <td>0.0</td>\n",
              "      <td>0.0</td>\n",
              "      <td>0.0</td>\n",
              "      <td>0.0</td>\n",
              "      <td>0.0</td>\n",
              "      <td>0.0</td>\n",
              "      <td>0.0</td>\n",
              "      <td>0.0</td>\n",
              "      <td>0.0</td>\n",
              "      <td>0.0</td>\n",
              "      <td>0.0</td>\n",
              "      <td>0.0</td>\n",
              "      <td>0.0</td>\n",
              "      <td>0.0</td>\n",
              "      <td>0.0</td>\n",
              "      <td>0.0</td>\n",
              "      <td>0.0</td>\n",
              "      <td>0.0</td>\n",
              "      <td>7.821000e+01</td>\n",
              "      <td>0.0</td>\n",
              "      <td>0.0</td>\n",
              "      <td>0.0</td>\n",
              "      <td>0.0</td>\n",
              "      <td>0.0</td>\n",
              "      <td>0.0</td>\n",
              "      <td>0.0</td>\n",
              "      <td>-6.720000e+00</td>\n",
              "      <td>1.165000e+02</td>\n",
              "      <td>1.195700e+02</td>\n",
              "      <td>1.272600e+02</td>\n",
              "      <td>0.0</td>\n",
              "      <td>0.0</td>\n",
              "      <td>0.0</td>\n",
              "      <td>0.0</td>\n",
              "      <td>0.0</td>\n",
              "      <td>0.0</td>\n",
              "      <td>0.0</td>\n",
              "      <td>0.0</td>\n",
              "      <td>0.0</td>\n",
              "      <td>0.0</td>\n",
              "      <td>0.0</td>\n",
              "      <td>16.0</td>\n",
              "      <td>0.0</td>\n",
              "      <td>0.0</td>\n",
              "      <td>0.0</td>\n",
              "      <td>2.000000e+02</td>\n",
              "      <td>1.036740e+02</td>\n",
              "      <td>0.0</td>\n",
              "      <td>5.000000e+02</td>\n",
              "      <td>1.037490e+02</td>\n",
              "      <td>0.0</td>\n",
              "      <td>1.000000e+03</td>\n",
              "      <td>1.053680e+02</td>\n",
              "      <td>0.0</td>\n",
              "      <td>2.838130e+03</td>\n",
              "      <td>1.155890e+02</td>\n",
              "      <td>1.0</td>\n",
              "      <td>6.134030e+03</td>\n",
              "      <td>9.959400e+01</td>\n",
              "      <td>2.0</td>\n",
              "      <td>8.209230e+03</td>\n",
              "      <td>1.048100e+02</td>\n",
              "      <td>1.0</td>\n",
              "      <td>0.0</td>\n",
              "      <td>0.0</td>\n",
              "      <td>-1.0</td>\n",
              "      <td>0.0</td>\n",
              "      <td>0.0</td>\n",
              "      <td>-1.0</td>\n",
              "      <td>0.0</td>\n",
              "      <td>0.0</td>\n",
              "      <td>-1.0</td>\n",
              "      <td>0.0</td>\n",
              "      <td>0.0</td>\n",
              "      <td>-1.0</td>\n",
              "      <td>0.0</td>\n",
              "      <td>0.0</td>\n",
              "      <td>-1.0</td>\n",
              "      <td>0.0</td>\n",
              "      <td>0.0</td>\n",
              "      <td>-1.0</td>\n",
              "      <td>0.0</td>\n",
              "      <td>0.0</td>\n",
              "      <td>-1.0</td>\n",
              "      <td>0.0</td>\n",
              "      <td>0.0</td>\n",
              "      <td>-1.0</td>\n",
              "      <td>0.0</td>\n",
              "      <td>0.0</td>\n",
              "      <td>-1.0</td>\n",
              "      <td>0.0</td>\n",
              "      <td>0.0</td>\n",
              "      <td>-1.0</td>\n",
              "      <td>0.0</td>\n",
              "      <td>0.0</td>\n",
              "      <td>-1.0</td>\n",
              "      <td>0.0</td>\n",
              "      <td>0.0</td>\n",
              "      <td>-1.0</td>\n",
              "      <td>0.0</td>\n",
              "      <td>0.0</td>\n",
              "      <td>-1.0</td>\n",
              "      <td>1.0</td>\n",
              "      <td>3.000000e+00</td>\n",
              "      <td>0.000000e+00</td>\n",
              "      <td>0.000000e+00</td>\n",
              "      <td>0.000000e+00</td>\n",
              "      <td>0.000000e+00</td>\n",
              "      <td>0.000000e+00</td>\n",
              "      <td>0.000000e+00</td>\n",
              "      <td>0.000000e+00</td>\n",
              "      <td>0.000000e+00</td>\n",
              "      <td>0.000000e+00</td>\n",
              "      <td>0.000000e+00</td>\n",
              "      <td>0.0</td>\n",
              "      <td>0.0</td>\n",
              "      <td>0.0</td>\n",
              "      <td>0.0</td>\n",
              "      <td>0.0</td>\n",
              "      <td>0.0</td>\n",
              "      <td>0.0</td>\n",
              "      <td>0.0</td>\n",
              "    </tr>\n",
              "    <tr>\n",
              "      <th>max</th>\n",
              "      <td>6.137010e+05</td>\n",
              "      <td>3.000000e+00</td>\n",
              "      <td>0.0</td>\n",
              "      <td>933.0</td>\n",
              "      <td>1.339840e+03</td>\n",
              "      <td>0.0</td>\n",
              "      <td>1400.0</td>\n",
              "      <td>8.811300e+02</td>\n",
              "      <td>0.0</td>\n",
              "      <td>0.0</td>\n",
              "      <td>0.0</td>\n",
              "      <td>0.0</td>\n",
              "      <td>0.0</td>\n",
              "      <td>0.0</td>\n",
              "      <td>0.0</td>\n",
              "      <td>0.0</td>\n",
              "      <td>0.0</td>\n",
              "      <td>0.0</td>\n",
              "      <td>0.0</td>\n",
              "      <td>0.0</td>\n",
              "      <td>0.0</td>\n",
              "      <td>0.0</td>\n",
              "      <td>0.0</td>\n",
              "      <td>0.0</td>\n",
              "      <td>0.0</td>\n",
              "      <td>0.0</td>\n",
              "      <td>1.101600e+02</td>\n",
              "      <td>0.0</td>\n",
              "      <td>0.0</td>\n",
              "      <td>0.0</td>\n",
              "      <td>0.0</td>\n",
              "      <td>0.0</td>\n",
              "      <td>0.0</td>\n",
              "      <td>0.0</td>\n",
              "      <td>1.797900e+02</td>\n",
              "      <td>1.397700e+02</td>\n",
              "      <td>1.405900e+02</td>\n",
              "      <td>1.423400e+02</td>\n",
              "      <td>0.0</td>\n",
              "      <td>0.0</td>\n",
              "      <td>0.0</td>\n",
              "      <td>0.0</td>\n",
              "      <td>0.0</td>\n",
              "      <td>0.0</td>\n",
              "      <td>0.0</td>\n",
              "      <td>0.0</td>\n",
              "      <td>0.0</td>\n",
              "      <td>0.0</td>\n",
              "      <td>0.0</td>\n",
              "      <td>16.0</td>\n",
              "      <td>0.0</td>\n",
              "      <td>0.0</td>\n",
              "      <td>0.0</td>\n",
              "      <td>2.000000e+02</td>\n",
              "      <td>1.142260e+02</td>\n",
              "      <td>0.0</td>\n",
              "      <td>5.000000e+02</td>\n",
              "      <td>1.127000e+02</td>\n",
              "      <td>0.0</td>\n",
              "      <td>1.000000e+03</td>\n",
              "      <td>1.132050e+02</td>\n",
              "      <td>0.0</td>\n",
              "      <td>3.082280e+03</td>\n",
              "      <td>1.179570e+02</td>\n",
              "      <td>1.0</td>\n",
              "      <td>6.729130e+03</td>\n",
              "      <td>1.055230e+02</td>\n",
              "      <td>2.0</td>\n",
              "      <td>8.728030e+03</td>\n",
              "      <td>1.089280e+02</td>\n",
              "      <td>1.0</td>\n",
              "      <td>0.0</td>\n",
              "      <td>0.0</td>\n",
              "      <td>-1.0</td>\n",
              "      <td>0.0</td>\n",
              "      <td>0.0</td>\n",
              "      <td>-1.0</td>\n",
              "      <td>0.0</td>\n",
              "      <td>0.0</td>\n",
              "      <td>-1.0</td>\n",
              "      <td>0.0</td>\n",
              "      <td>0.0</td>\n",
              "      <td>-1.0</td>\n",
              "      <td>0.0</td>\n",
              "      <td>0.0</td>\n",
              "      <td>-1.0</td>\n",
              "      <td>0.0</td>\n",
              "      <td>0.0</td>\n",
              "      <td>-1.0</td>\n",
              "      <td>0.0</td>\n",
              "      <td>0.0</td>\n",
              "      <td>-1.0</td>\n",
              "      <td>0.0</td>\n",
              "      <td>0.0</td>\n",
              "      <td>-1.0</td>\n",
              "      <td>0.0</td>\n",
              "      <td>0.0</td>\n",
              "      <td>-1.0</td>\n",
              "      <td>0.0</td>\n",
              "      <td>0.0</td>\n",
              "      <td>-1.0</td>\n",
              "      <td>0.0</td>\n",
              "      <td>0.0</td>\n",
              "      <td>-1.0</td>\n",
              "      <td>0.0</td>\n",
              "      <td>0.0</td>\n",
              "      <td>-1.0</td>\n",
              "      <td>0.0</td>\n",
              "      <td>0.0</td>\n",
              "      <td>-1.0</td>\n",
              "      <td>1.0</td>\n",
              "      <td>3.000000e+00</td>\n",
              "      <td>1.330000e+02</td>\n",
              "      <td>1.330000e+02</td>\n",
              "      <td>1.330000e+02</td>\n",
              "      <td>3.500000e+01</td>\n",
              "      <td>4.500000e+01</td>\n",
              "      <td>3.500000e+01</td>\n",
              "      <td>2.100000e+01</td>\n",
              "      <td>9.000000e+00</td>\n",
              "      <td>9.000000e+00</td>\n",
              "      <td>9.000000e+00</td>\n",
              "      <td>0.0</td>\n",
              "      <td>0.0</td>\n",
              "      <td>0.0</td>\n",
              "      <td>0.0</td>\n",
              "      <td>0.0</td>\n",
              "      <td>0.0</td>\n",
              "      <td>0.0</td>\n",
              "      <td>0.0</td>\n",
              "    </tr>\n",
              "  </tbody>\n",
              "</table>\n",
              "</div>"
            ],
            "text/plain": [
              "                 c3            c6         c7         c8            c9        c10        c11           c12        c13        c14        c15        c16        c17        c18        c19        c20        c21        c22        c23        c24        c25        c26        c27        c28        c29        c30           c31        c32        c33        c34        c35        c36        c37        c38           c39           c40           c41           c42        c43        c44        c45        c46        c47        c48        c49        c50        c51        c52        c53        c54        c55        c56        c57           c58           c59        c60           c61           c62        c63           c64           c65        c66           c67           c68        c69           c70           c71        c72           c73           c74        c75        c76        c77        c78        c79        c80        c81        c82        c83        c84        c85        c86        c87        c88        c89        c90        c91        c92        c93        c94        c95        c96        c97        c98        c99       c100       c101       c102       c103       c104       c105       c106       c107       c108       c109       c110       c111       c112       c113       c114       c115          c116          c117          c118          c119          c120          c121          c122          c123          c124          c125          c126       c127       c128       c129       c130       c131       c132       c133       c134\n",
              "count  2.331513e+06  2.331513e+06  2331513.0  2331513.0  2.331513e+06  2331513.0  2331513.0  2.331513e+06  2331513.0  2331513.0  2331513.0  2331513.0  2331513.0  2331513.0  2331513.0  2331513.0  2331513.0  2331513.0  2331513.0  2331513.0  2331513.0  2331513.0  2331513.0  2331513.0  2331513.0  2331513.0  2.331513e+06  2331513.0  2331513.0  2331513.0  2331513.0  2331513.0  2331513.0  2331513.0  2.331513e+06  2.331513e+06  2.331513e+06  2.331513e+06  2331513.0  2331513.0  2331513.0  2331513.0  2331513.0  2331513.0  2331513.0  2331513.0  2331513.0  2331513.0  2331513.0  2331513.0  2331513.0  2331513.0  2331513.0  2.331513e+06  2.331513e+06  2331513.0  2.331513e+06  2.331513e+06  2331513.0  2.331513e+06  2.331513e+06  2331513.0  2.331513e+06  2.331513e+06  2331513.0  2.331513e+06  2.331513e+06  2331513.0  2.331513e+06  2.331513e+06  2331513.0  2331513.0  2331513.0  2331513.0  2331513.0  2331513.0  2331513.0  2331513.0  2331513.0  2331513.0  2331513.0  2331513.0  2331513.0  2331513.0  2331513.0  2331513.0  2331513.0  2331513.0  2331513.0  2331513.0  2331513.0  2331513.0  2331513.0  2331513.0  2331513.0  2331513.0  2331513.0  2331513.0  2331513.0  2331513.0  2331513.0  2331513.0  2331513.0  2331513.0  2331513.0  2331513.0  2331513.0  2331513.0  2331513.0  2331513.0  2331513.0  2.331513e+06  2.331513e+06  2.331513e+06  2.331513e+06  2.331513e+06  2.331513e+06  2.331513e+06  2.331513e+06  2.331513e+06  2.331513e+06  2.331513e+06  2331513.0  2331513.0  2331513.0  2331513.0  2331513.0  2331513.0  2331513.0  2331513.0\n",
              "mean   9.985860e+03  1.000434e+00        0.0      933.0  3.103666e+00        0.0     1400.0  1.882470e+00        0.0        0.0        0.0        0.0        0.0        0.0        0.0        0.0        0.0        0.0        0.0        0.0        0.0        0.0        0.0        0.0        0.0        0.0  7.733736e+01        0.0        0.0        0.0        0.0        0.0        0.0        0.0 -7.602489e+00  1.161813e+02  1.192971e+02  1.269833e+02        0.0        0.0        0.0        0.0        0.0        0.0        0.0        0.0        0.0        0.0        0.0       16.0        0.0        0.0        0.0  1.999998e+02  1.034064e+02        0.0  4.999996e+02  1.034836e+02        0.0  9.999991e+02  1.050315e+02        0.0  2.805738e+03  1.153215e+02        1.0  6.063491e+03  9.922293e+01        2.0  8.088161e+03  1.043418e+02        1.0        0.0        0.0       -1.0        0.0        0.0       -1.0        0.0        0.0       -1.0        0.0        0.0       -1.0        0.0        0.0       -1.0        0.0        0.0       -1.0        0.0        0.0       -1.0        0.0        0.0       -1.0        0.0        0.0       -1.0        0.0        0.0       -1.0        0.0        0.0       -1.0        0.0        0.0       -1.0        0.0        0.0       -1.0        1.0  2.910227e+00  2.905062e-01  2.283483e-01  5.699218e-02  4.379216e-02  3.113600e-02  1.712407e-02  8.304479e-03  5.345885e-03  3.327882e-03  1.214233e-03        0.0        0.0        0.0        0.0        0.0        0.0        0.0        0.0\n",
              "std    6.501723e+03  4.065484e-02        0.0        0.0  2.502048e+00        0.0        0.0  2.186195e+00        0.0        0.0        0.0        0.0        0.0        0.0        0.0        0.0        0.0        0.0        0.0        0.0        0.0        0.0        0.0        0.0        0.0        0.0  2.076534e+00        0.0        0.0        0.0        0.0        0.0        0.0        0.0  5.277865e+00  9.726577e-01  1.037887e+00  1.215421e+00        0.0        0.0        0.0        0.0        0.0        0.0        0.0        0.0        0.0        0.0        0.0        0.0        0.0        0.0        0.0  1.852362e-01  1.161148e+00        0.0  4.630906e-01  1.326904e+00        0.0  9.261812e-01  1.415799e+00        0.0  5.239877e+01  1.567398e+00        0.0  9.668432e+01  1.260387e+00        0.0  1.855318e+02  1.395490e+00        0.0        0.0        0.0        0.0        0.0        0.0        0.0        0.0        0.0        0.0        0.0        0.0        0.0        0.0        0.0        0.0        0.0        0.0        0.0        0.0        0.0        0.0        0.0        0.0        0.0        0.0        0.0        0.0        0.0        0.0        0.0        0.0        0.0        0.0        0.0        0.0        0.0        0.0        0.0        0.0        0.0  4.141108e-01  3.165864e+00  4.567470e+00  1.428062e+00  1.150125e+00  9.318482e-01  6.030038e-01  3.061302e-01  1.954171e-01  1.495133e-01  8.404189e-02        0.0        0.0        0.0        0.0        0.0        0.0        0.0        0.0\n",
              "min    0.000000e+00  0.000000e+00        0.0      933.0  0.000000e+00        0.0     1400.0  0.000000e+00        0.0        0.0        0.0        0.0        0.0        0.0        0.0        0.0        0.0        0.0        0.0        0.0        0.0        0.0        0.0        0.0        0.0        0.0  0.000000e+00        0.0        0.0        0.0        0.0        0.0        0.0        0.0 -1.798500e+02  0.000000e+00  0.000000e+00  0.000000e+00        0.0        0.0        0.0        0.0        0.0        0.0        0.0        0.0        0.0        0.0        0.0       16.0        0.0        0.0        0.0  0.000000e+00  0.000000e+00        0.0  0.000000e+00  0.000000e+00        0.0  0.000000e+00 -1.048000e+00        0.0  0.000000e+00  0.000000e+00        1.0  0.000000e+00  0.000000e+00        2.0  0.000000e+00  0.000000e+00        1.0        0.0        0.0       -1.0        0.0        0.0       -1.0        0.0        0.0       -1.0        0.0        0.0       -1.0        0.0        0.0       -1.0        0.0        0.0       -1.0        0.0        0.0       -1.0        0.0        0.0       -1.0        0.0        0.0       -1.0        0.0        0.0       -1.0        0.0        0.0       -1.0        0.0        0.0       -1.0        0.0        0.0       -1.0        1.0  1.000000e+00  0.000000e+00  0.000000e+00  0.000000e+00  0.000000e+00  0.000000e+00  0.000000e+00  0.000000e+00  0.000000e+00  0.000000e+00  0.000000e+00        0.0        0.0        0.0        0.0        0.0        0.0        0.0        0.0\n",
              "25%    5.070000e+03  1.000000e+00        0.0      933.0  2.440000e+00        0.0     1400.0  1.070000e+00        0.0        0.0        0.0        0.0        0.0        0.0        0.0        0.0        0.0        0.0        0.0        0.0        0.0        0.0        0.0        0.0        0.0        0.0  7.634000e+01        0.0        0.0        0.0        0.0        0.0        0.0        0.0 -8.850000e+00  1.159100e+02  1.190400e+02  1.268000e+02        0.0        0.0        0.0        0.0        0.0        0.0        0.0        0.0        0.0        0.0        0.0       16.0        0.0        0.0        0.0  2.000000e+02  1.031910e+02        0.0  5.000000e+02  1.032730e+02        0.0  1.000000e+03  1.047860e+02        0.0  2.761840e+03  1.151570e+02        1.0  6.027220e+03  9.890900e+01        2.0  7.995610e+03  1.039800e+02        1.0        0.0        0.0       -1.0        0.0        0.0       -1.0        0.0        0.0       -1.0        0.0        0.0       -1.0        0.0        0.0       -1.0        0.0        0.0       -1.0        0.0        0.0       -1.0        0.0        0.0       -1.0        0.0        0.0       -1.0        0.0        0.0       -1.0        0.0        0.0       -1.0        0.0        0.0       -1.0        0.0        0.0       -1.0        1.0  3.000000e+00  0.000000e+00  0.000000e+00  0.000000e+00  0.000000e+00  0.000000e+00  0.000000e+00  0.000000e+00  0.000000e+00  0.000000e+00  0.000000e+00        0.0        0.0        0.0        0.0        0.0        0.0        0.0        0.0\n",
              "50%    7.117000e+03  1.000000e+00        0.0      933.0  2.900000e+00        0.0     1400.0  1.630000e+00        0.0        0.0        0.0        0.0        0.0        0.0        0.0        0.0        0.0        0.0        0.0        0.0        0.0        0.0        0.0        0.0        0.0        0.0  7.728000e+01        0.0        0.0        0.0        0.0        0.0        0.0        0.0 -7.830000e+00  1.162300e+02  1.193000e+02  1.270600e+02        0.0        0.0        0.0        0.0        0.0        0.0        0.0        0.0        0.0        0.0        0.0       16.0        0.0        0.0        0.0  2.000000e+02  1.034310e+02        0.0  5.000000e+02  1.035130e+02        0.0  1.000000e+03  1.051080e+02        0.0  2.807620e+03  1.154030e+02        1.0  6.057740e+03  9.925500e+01        2.0  8.102420e+03  1.044120e+02        1.0        0.0        0.0       -1.0        0.0        0.0       -1.0        0.0        0.0       -1.0        0.0        0.0       -1.0        0.0        0.0       -1.0        0.0        0.0       -1.0        0.0        0.0       -1.0        0.0        0.0       -1.0        0.0        0.0       -1.0        0.0        0.0       -1.0        0.0        0.0       -1.0        0.0        0.0       -1.0        0.0        0.0       -1.0        1.0  3.000000e+00  0.000000e+00  0.000000e+00  0.000000e+00  0.000000e+00  0.000000e+00  0.000000e+00  0.000000e+00  0.000000e+00  0.000000e+00  0.000000e+00        0.0        0.0        0.0        0.0        0.0        0.0        0.0        0.0\n",
              "75%    1.425800e+04  1.000000e+00        0.0      933.0  3.500000e+00        0.0     1400.0  2.370000e+00        0.0        0.0        0.0        0.0        0.0        0.0        0.0        0.0        0.0        0.0        0.0        0.0        0.0        0.0        0.0        0.0        0.0        0.0  7.821000e+01        0.0        0.0        0.0        0.0        0.0        0.0        0.0 -6.720000e+00  1.165000e+02  1.195700e+02  1.272600e+02        0.0        0.0        0.0        0.0        0.0        0.0        0.0        0.0        0.0        0.0        0.0       16.0        0.0        0.0        0.0  2.000000e+02  1.036740e+02        0.0  5.000000e+02  1.037490e+02        0.0  1.000000e+03  1.053680e+02        0.0  2.838130e+03  1.155890e+02        1.0  6.134030e+03  9.959400e+01        2.0  8.209230e+03  1.048100e+02        1.0        0.0        0.0       -1.0        0.0        0.0       -1.0        0.0        0.0       -1.0        0.0        0.0       -1.0        0.0        0.0       -1.0        0.0        0.0       -1.0        0.0        0.0       -1.0        0.0        0.0       -1.0        0.0        0.0       -1.0        0.0        0.0       -1.0        0.0        0.0       -1.0        0.0        0.0       -1.0        0.0        0.0       -1.0        1.0  3.000000e+00  0.000000e+00  0.000000e+00  0.000000e+00  0.000000e+00  0.000000e+00  0.000000e+00  0.000000e+00  0.000000e+00  0.000000e+00  0.000000e+00        0.0        0.0        0.0        0.0        0.0        0.0        0.0        0.0\n",
              "max    6.137010e+05  3.000000e+00        0.0      933.0  1.339840e+03        0.0     1400.0  8.811300e+02        0.0        0.0        0.0        0.0        0.0        0.0        0.0        0.0        0.0        0.0        0.0        0.0        0.0        0.0        0.0        0.0        0.0        0.0  1.101600e+02        0.0        0.0        0.0        0.0        0.0        0.0        0.0  1.797900e+02  1.397700e+02  1.405900e+02  1.423400e+02        0.0        0.0        0.0        0.0        0.0        0.0        0.0        0.0        0.0        0.0        0.0       16.0        0.0        0.0        0.0  2.000000e+02  1.142260e+02        0.0  5.000000e+02  1.127000e+02        0.0  1.000000e+03  1.132050e+02        0.0  3.082280e+03  1.179570e+02        1.0  6.729130e+03  1.055230e+02        2.0  8.728030e+03  1.089280e+02        1.0        0.0        0.0       -1.0        0.0        0.0       -1.0        0.0        0.0       -1.0        0.0        0.0       -1.0        0.0        0.0       -1.0        0.0        0.0       -1.0        0.0        0.0       -1.0        0.0        0.0       -1.0        0.0        0.0       -1.0        0.0        0.0       -1.0        0.0        0.0       -1.0        0.0        0.0       -1.0        0.0        0.0       -1.0        1.0  3.000000e+00  1.330000e+02  1.330000e+02  1.330000e+02  3.500000e+01  4.500000e+01  3.500000e+01  2.100000e+01  9.000000e+00  9.000000e+00  9.000000e+00        0.0        0.0        0.0        0.0        0.0        0.0        0.0        0.0"
            ]
          },
          "metadata": {
            "tags": []
          },
          "execution_count": 50
        }
      ]
    },
    {
      "cell_type": "code",
      "metadata": {
        "id": "dkpf1Zhl7QSu",
        "colab_type": "code",
        "colab": {}
      },
      "source": [
        "from dateutil.parser import parse"
      ],
      "execution_count": 57,
      "outputs": []
    },
    {
      "cell_type": "code",
      "metadata": {
        "id": "uHg7uT0dzXXT",
        "colab_type": "code",
        "colab": {
          "base_uri": "https://localhost:8080/",
          "height": 139
        },
        "outputId": "2a458231-df7b-4620-cc28-2170c9e8d9c5"
      },
      "source": [
        "%%time\n",
        "df_filter['c5']=df_filter['c5'].apply(lambda x: parse(x) )\n",
        "df_filter['c5']=df_filter['c5'].apply(lambda x: x.date() )"
      ],
      "execution_count": 58,
      "outputs": [
        {
          "output_type": "stream",
          "text": [
            "/usr/local/lib/python3.6/dist-packages/pyspark/sql/pandas/functions.py:386: UserWarning:\n",
            "\n",
            "In Python 3.6+ and Spark 3.0+, it is preferred to specify type hints for pandas UDF instead of specifying pandas UDF type which will be deprecated in the future releases. See SPARK-28264 for more details.\n",
            "\n"
          ],
          "name": "stderr"
        },
        {
          "output_type": "stream",
          "text": [
            "CPU times: user 548 ms, sys: 37.4 ms, total: 586 ms\n",
            "Wall time: 53.8 s\n"
          ],
          "name": "stdout"
        }
      ]
    },
    {
      "cell_type": "code",
      "metadata": {
        "id": "P3YPYt4MzXT8",
        "colab_type": "code",
        "colab": {
          "base_uri": "https://localhost:8080/",
          "height": 51
        },
        "outputId": "ec6f8e93-4922-4d07-ef77-f5815f258047"
      },
      "source": [
        "%%time\n",
        "df_group_date=df_filter.groupby('c5')['c65'].mean() # 1 Khz\n",
        "df_group_date"
      ],
      "execution_count": 59,
      "outputs": [
        {
          "output_type": "stream",
          "text": [
            "CPU times: user 29.5 ms, sys: 2.02 ms, total: 31.5 ms\n",
            "Wall time: 112 ms\n"
          ],
          "name": "stdout"
        }
      ]
    },
    {
      "cell_type": "code",
      "metadata": {
        "id": "zitJal2rzXRh",
        "colab_type": "code",
        "colab": {}
      },
      "source": [
        "%%time\n",
        "import plotly.graph_objects as go\n",
        "# Create figure with secondary y-axis\n",
        "fig =go.Figure()\n",
        "\n",
        "# Add traces\n",
        "fig.add_trace(\n",
        "    go.Scatter(x=df_group_date.index, y=df_group_date.values,\n",
        "               name=\"Mean\",line=dict( color='#FF5733'),mode='lines+markers')\n",
        ")\n",
        "\n",
        "fig.show()"
      ],
      "execution_count": null,
      "outputs": []
    },
    {
      "cell_type": "markdown",
      "metadata": {
        "id": "zoWilLYY8xw5",
        "colab_type": "text"
      },
      "source": [
        "# Turi Create"
      ]
    },
    {
      "cell_type": "code",
      "metadata": {
        "id": "kWX-brft9CWY",
        "colab_type": "code",
        "colab": {}
      },
      "source": [
        "!pip install turicreate"
      ],
      "execution_count": null,
      "outputs": []
    },
    {
      "cell_type": "code",
      "metadata": {
        "id": "bYq-ekc5zXOu",
        "colab_type": "code",
        "colab": {}
      },
      "source": [
        "import turicreate\n",
        "from turicreate import SFrame"
      ],
      "execution_count": 64,
      "outputs": []
    },
    {
      "cell_type": "code",
      "metadata": {
        "id": "N6G7m1WPwjgJ",
        "colab_type": "code",
        "colab": {}
      },
      "source": [
        "%%time\n",
        "path='/content/drive/My Drive/Data/Sonion/V04R-V04R-SQLData.dat' # 1.88 gb\n",
        "df = SFrame.read_csv(path)"
      ],
      "execution_count": null,
      "outputs": []
    },
    {
      "cell_type": "code",
      "metadata": {
        "id": "lobWwLm49uxJ",
        "colab_type": "code",
        "colab": {
          "base_uri": "https://localhost:8080/",
          "height": 118
        },
        "outputId": "7ca36449-ea0d-4fb4-d7ae-7658e0756935"
      },
      "source": [
        "df"
      ],
      "execution_count": 75,
      "outputs": [
        {
          "output_type": "execute_result",
          "data": {
            "text/html": [
              "<div style=\"max-height:1000px;max-width:1500px;overflow:auto;\"><table frame=\"box\" rules=\"cols\">\n",
              "    <tr>\n",
              "        <th style=\"padding-left: 1em; padding-right: 1em; text-align: center\">DEAFAULT</th>\n",
              "        <th style=\"padding-left: 1em; padding-right: 1em; text-align: center\">1</th>\n",
              "        <th style=\"padding-left: 1em; padding-right: 1em; text-align: center\">33AE015</th>\n",
              "        <th style=\"padding-left: 1em; padding-right: 1em; text-align: center\">11</th>\n",
              "        <th style=\"padding-left: 1em; padding-right: 1em; text-align: center\">0.04770</th>\n",
              "        <th style=\"padding-left: 1em; padding-right: 1em; text-align: center\">12/22/2017 8:44:4</th>\n",
              "        <th style=\"padding-left: 1em; padding-right: 1em; text-align: center\">1.1</th>\n",
              "        <th style=\"padding-left: 1em; padding-right: 1em; text-align: center\">0</th>\n",
              "        <th style=\"padding-left: 1em; padding-right: 1em; text-align: center\">300</th>\n",
              "        <th style=\"padding-left: 1em; padding-right: 1em; text-align: center\">2.34</th>\n",
              "        <th style=\"padding-left: 1em; padding-right: 1em; text-align: center\">0.1</th>\n",
              "        <th style=\"padding-left: 1em; padding-right: 1em; text-align: center\">450</th>\n",
              "    </tr>\n",
              "</table>\n",
              "<table frame=\"box\" rules=\"cols\">\n",
              "    <tr>\n",
              "        <th style=\"padding-left: 1em; padding-right: 1em; text-align: center\">1.71</th>\n",
              "        <th style=\"padding-left: 1em; padding-right: 1em; text-align: center\">0.2</th>\n",
              "        <th style=\"padding-left: 1em; padding-right: 1em; text-align: center\">0.3</th>\n",
              "        <th style=\"padding-left: 1em; padding-right: 1em; text-align: center\">0.00</th>\n",
              "        <th style=\"padding-left: 1em; padding-right: 1em; text-align: center\">0.4</th>\n",
              "        <th style=\"padding-left: 1em; padding-right: 1em; text-align: center\">0.5</th>\n",
              "        <th style=\"padding-left: 1em; padding-right: 1em; text-align: center\">0.00.1</th>\n",
              "        <th style=\"padding-left: 1em; padding-right: 1em; text-align: center\">0.6</th>\n",
              "        <th style=\"padding-left: 1em; padding-right: 1em; text-align: center\">0.7</th>\n",
              "        <th style=\"padding-left: 1em; padding-right: 1em; text-align: center\">0.00.2</th>\n",
              "        <th style=\"padding-left: 1em; padding-right: 1em; text-align: center\">0.8</th>\n",
              "        <th style=\"padding-left: 1em; padding-right: 1em; text-align: center\">0.9</th>\n",
              "        <th style=\"padding-left: 1em; padding-right: 1em; text-align: center\">0.00.3</th>\n",
              "        <th style=\"padding-left: 1em; padding-right: 1em; text-align: center\">0.10</th>\n",
              "    </tr>\n",
              "</table>\n",
              "<table frame=\"box\" rules=\"cols\">\n",
              "    <tr>\n",
              "        <th style=\"padding-left: 1em; padding-right: 1em; text-align: center\">0.11</th>\n",
              "        <th style=\"padding-left: 1em; padding-right: 1em; text-align: center\">0.00.4</th>\n",
              "        <th style=\"padding-left: 1em; padding-right: 1em; text-align: center\">0.12</th>\n",
              "        <th style=\"padding-left: 1em; padding-right: 1em; text-align: center\">0.13</th>\n",
              "        <th style=\"padding-left: 1em; padding-right: 1em; text-align: center\">0.00.5</th>\n",
              "        <th style=\"padding-left: 1em; padding-right: 1em; text-align: center\">49.22</th>\n",
              "        <th style=\"padding-left: 1em; padding-right: 1em; text-align: center\">0.00.6</th>\n",
              "        <th style=\"padding-left: 1em; padding-right: 1em; text-align: center\">0.00.7</th>\n",
              "        <th style=\"padding-left: 1em; padding-right: 1em; text-align: center\">0.00.8</th>\n",
              "        <th style=\"padding-left: 1em; padding-right: 1em; text-align: center\">0.00.9</th>\n",
              "        <th style=\"padding-left: 1em; padding-right: 1em; text-align: center\">0.00.10</th>\n",
              "        <th style=\"padding-left: 1em; padding-right: 1em; text-align: center\">0.00.11</th>\n",
              "    </tr>\n",
              "</table>\n",
              "<table frame=\"box\" rules=\"cols\">\n",
              "    <tr>\n",
              "        <th style=\"padding-left: 1em; padding-right: 1em; text-align: center\">0.00.12</th>\n",
              "        <th style=\"padding-left: 1em; padding-right: 1em; text-align: center\">-57.10</th>\n",
              "        <th style=\"padding-left: 1em; padding-right: 1em; text-align: center\">...</th>\n",
              "    </tr>\n",
              "</table>\n",
              "[0 rows x 135 columns]<br/>\n",
              "</div>"
            ],
            "text/plain": [
              "Columns:\n",
              "\tDEAFAULT\tstr\n",
              "\t1\tstr\n",
              "\t33AE015\tstr\n",
              "\t11\tstr\n",
              "\t0.04770\tstr\n",
              "\t12/22/2017 8:44:4\tstr\n",
              "\t1.1\tstr\n",
              "\t0\tstr\n",
              "\t300\tstr\n",
              "\t2.34\tstr\n",
              "\t0.1\tstr\n",
              "\t450\tstr\n",
              "\t1.71\tstr\n",
              "\t0.2\tstr\n",
              "\t0.3\tstr\n",
              "\t0.00\tstr\n",
              "\t0.4\tstr\n",
              "\t0.5\tstr\n",
              "\t0.00.1\tstr\n",
              "\t0.6\tstr\n",
              "\t0.7\tstr\n",
              "\t0.00.2\tstr\n",
              "\t0.8\tstr\n",
              "\t0.9\tstr\n",
              "\t0.00.3\tstr\n",
              "\t0.10\tstr\n",
              "\t0.11\tstr\n",
              "\t0.00.4\tstr\n",
              "\t0.12\tstr\n",
              "\t0.13\tstr\n",
              "\t0.00.5\tstr\n",
              "\t49.22\tstr\n",
              "\t0.00.6\tstr\n",
              "\t0.00.7\tstr\n",
              "\t0.00.8\tstr\n",
              "\t0.00.9\tstr\n",
              "\t0.00.10\tstr\n",
              "\t0.00.11\tstr\n",
              "\t0.00.12\tstr\n",
              "\t-57.10\tstr\n",
              "\t137.23\tstr\n",
              "\t0.00.13\tstr\n",
              "\t0.00.14\tstr\n",
              "\t0.00.15\tstr\n",
              "\t0.00.16\tstr\n",
              "\t0.00.17\tstr\n",
              "\t0.00.18\tstr\n",
              "\t0.00.19\tstr\n",
              "\t0.00.20\tstr\n",
              "\t0.00.21\tstr\n",
              "\t0.00.22\tstr\n",
              "\t0.00.23\tstr\n",
              "\t0.00.24\tstr\n",
              "\t0.00.25\tstr\n",
              "\t16.00\tstr\n",
              "\t0.00.26\tstr\n",
              "\t0.000\tstr\n",
              "\t0.14\tstr\n",
              "\t125.00\tstr\n",
              "\t113.014\tstr\n",
              "\t0.15\tstr\n",
              "\t200.00\tstr\n",
              "\t112.944\tstr\n",
              "\t0.16\tstr\n",
              "\t500.00\tstr\n",
              "\t114.126\tstr\n",
              "\t0.17\tstr\n",
              "\t900.27\tstr\n",
              "\t121.931\tstr\n",
              "\t1.2\tstr\n",
              "\t1571.66\tstr\n",
              "\t109.839\tstr\n",
              "\t2\tstr\n",
              "\t2136.23\tstr\n",
              "\t118.146\tstr\n",
              "\t1.3\tstr\n",
              "\t2853.39\tstr\n",
              "\t106.113\tstr\n",
              "\t2.1\tstr\n",
              "\t3463.75\tstr\n",
              "\t115.365\tstr\n",
              "\t1.4\tstr\n",
              "\t3967.29\tstr\n",
              "\t107.780\tstr\n",
              "\t2.2\tstr\n",
              "\t4257.20\tstr\n",
              "\t109.698\tstr\n",
              "\t1.5\tstr\n",
              "\t5126.95\tstr\n",
              "\t96.103\tstr\n",
              "\t2.3\tstr\n",
              "\t5645.75\tstr\n",
              "\t102.623\tstr\n",
              "\t1.6\tstr\n",
              "\t0.00.27\tstr\n",
              "\t0.000.1\tstr\n",
              "\t-1\tstr\n",
              "\t0.00.28\tstr\n",
              "\t0.000.2\tstr\n",
              "\t-1.1\tstr\n",
              "\t0.00.29\tstr\n",
              "\t0.000.3\tstr\n",
              "\t-1.2\tstr\n",
              "\t0.00.30\tstr\n",
              "\t0.000.4\tstr\n",
              "\t-1.3\tstr\n",
              "\t0.00.31\tstr\n",
              "\t0.000.5\tstr\n",
              "\t-1.4\tstr\n",
              "\t0.00.32\tstr\n",
              "\t0.000.6\tstr\n",
              "\t-1.5\tstr\n",
              "\t0.00.33\tstr\n",
              "\t0.000.7\tstr\n",
              "\t-1.6\tstr\n",
              "\t205471440\tstr\n",
              "\t2.4\tstr\n",
              "\t0.18\tstr\n",
              "\t0.19\tstr\n",
              "\t0.20\tstr\n",
              "\t0.21\tstr\n",
              "\t0.22\tstr\n",
              "\t0.23\tstr\n",
              "\t0.24\tstr\n",
              "\t0.25\tstr\n",
              "\t0.26\tstr\n",
              "\t0.27\tstr\n",
              "\t0.000000\tstr\n",
              "\t0.000000.1\tstr\n",
              "\t0.000000.2\tstr\n",
              "\t0.000000.3\tstr\n",
              "\t0.28\tstr\n",
              "\t0.29\tstr\n",
              "\t0.30\tstr\n",
              "\t0.31\tstr\n",
              "\n",
              "Rows: 0\n",
              "\n",
              "Data:\n",
              "\t[]"
            ]
          },
          "metadata": {
            "tags": []
          },
          "execution_count": 75
        }
      ]
    },
    {
      "cell_type": "code",
      "metadata": {
        "id": "ExWZ5Sgo-ujf",
        "colab_type": "code",
        "colab": {}
      },
      "source": [
        ""
      ],
      "execution_count": null,
      "outputs": []
    },
    {
      "cell_type": "code",
      "metadata": {
        "id": "VGAxvclX-ucI",
        "colab_type": "code",
        "colab": {}
      },
      "source": [
        ""
      ],
      "execution_count": null,
      "outputs": []
    },
    {
      "cell_type": "markdown",
      "metadata": {
        "id": "iO6p02GKAR76",
        "colab_type": "text"
      },
      "source": [
        "#Data table H2oai"
      ]
    },
    {
      "cell_type": "code",
      "metadata": {
        "id": "a7mYihXY9u1V",
        "colab_type": "code",
        "colab": {}
      },
      "source": [
        "!pip install datatable"
      ],
      "execution_count": null,
      "outputs": []
    },
    {
      "cell_type": "code",
      "metadata": {
        "id": "yqgBTjliApXi",
        "colab_type": "code",
        "colab": {
          "base_uri": "https://localhost:8080/",
          "height": 34
        },
        "outputId": "1094088b-b764-4047-cce1-0350196a1e0d"
      },
      "source": [
        "import datatable as dt"
      ],
      "execution_count": 82,
      "outputs": [
        {
          "output_type": "stream",
          "text": [
            "0.10.1\n"
          ],
          "name": "stdout"
        }
      ]
    },
    {
      "cell_type": "code",
      "metadata": {
        "id": "dmQBc57ZAYoH",
        "colab_type": "code",
        "colab": {
          "base_uri": "https://localhost:8080/",
          "height": 51
        },
        "outputId": "89f98073-6f45-47ea-8341-484326fbed85"
      },
      "source": [
        "%%time\n",
        "path='/content/drive/My Drive/Data/Sonion/V04R-V04R-SQLData.dat' # 1.88 gb\n",
        "df=dt.fread(path,sep='\\t',header=None,fill=True)\n"
      ],
      "execution_count": 85,
      "outputs": [
        {
          "output_type": "stream",
          "text": [
            "CPU times: user 24.2 s, sys: 2.07 s, total: 26.3 s\n",
            "Wall time: 15.8 s\n"
          ],
          "name": "stdout"
        }
      ]
    },
    {
      "cell_type": "code",
      "metadata": {
        "id": "CaoeTP9tAYyL",
        "colab_type": "code",
        "colab": {
          "base_uri": "https://localhost:8080/",
          "height": 546
        },
        "outputId": "78bc0941-ff67-404f-a29d-0d700a886cca"
      },
      "source": [
        "df.head()"
      ],
      "execution_count": 87,
      "outputs": [
        {
          "output_type": "stream",
          "text": [
            "\u001b[1m   \u001b[0;90m|\u001b[0;1m C0        C1  C2       C3  C4       C5                  C6  C7   C8    C9  \u001b[0;2m…\u001b[0;1m  C131  C132  C133  C134  C135\u001b[0m\n",
            "\u001b[90m-- + --------  --  -------  --  -------  ------------------  --  --  ---  ----     ----  ----  ----  ----  ----\u001b[0m\n",
            "\u001b[90m 0 |\u001b[0m DEAFAULT  1   33AE015  11  0.04770  12/22/2017 8:44:4    1   0  300  2.34  \u001b[2m…\u001b[0m     0     0     0     0    \u001b[2mNA\u001b[0m\n",
            "\u001b[90m 1 |\u001b[0m DEAFAULT  1   33ae015  11  0.04770  12/22/2017 8:44:53   1   0  300  2.35  \u001b[2m…\u001b[0m     0     0     0     0    \u001b[2mNA\u001b[0m\n",
            "\u001b[90m 2 |\u001b[0m DEAFAULT  1   33ae015  11  0.04770  12/22/2017 8:45:15   1   0  300  2.33  \u001b[2m…\u001b[0m     0     0     0     0    \u001b[2mNA\u001b[0m\n",
            "\u001b[90m 3 |\u001b[0m DEAFAULT  1   33ae015  11  0.04770  12/22/2017 8:45:54   1   0  300  2.32  \u001b[2m…\u001b[0m     0     0     0     0    \u001b[2mNA\u001b[0m\n",
            "\u001b[90m 4 |\u001b[0m DEAFAULT  1   33ae015  11  0.04770  12/22/2017 8:46:28   1   0  300  2.36  \u001b[2m…\u001b[0m     0     0     0     0    \u001b[2mNA\u001b[0m\n",
            "\u001b[90m 5 |\u001b[0m DEAFAULT  1   33ae015  11  0.04770  12/22/2017 8:46:44   1   0  300  2.3   \u001b[2m…\u001b[0m     0     0     0     0    \u001b[2mNA\u001b[0m\n",
            "\u001b[90m 6 |\u001b[0m DEAFAULT  1   33ae015  11  0.04770  12/22/2017 8:48:37   1   0  300  2.36  \u001b[2m…\u001b[0m     0     0     0     0    \u001b[2mNA\u001b[0m\n",
            "\u001b[90m 7 |\u001b[0m DEAFAULT  1   33ae015  11  0.04770  12/22/2017 8:49:26   1   0  300  2.32  \u001b[2m…\u001b[0m     0     0     0     0    \u001b[2mNA\u001b[0m\n",
            "\u001b[90m 8 |\u001b[0m DEAFAULT  1   33ae015  11  0.04770  12/22/2017 8:50:2    1   0  300  2.35  \u001b[2m…\u001b[0m     0     0     0     0    \u001b[2mNA\u001b[0m\n",
            "\u001b[90m 9 |\u001b[0m DEAFAULT  1   33ae015  11  0.04770  12/22/2017 8:50:19   1   0  300  2.33  \u001b[2m…\u001b[0m     0     0     0     0    \u001b[2mNA\u001b[0m\n",
            "\n",
            "\u001b[2m[10 rows x 136 columns]\u001b[0m\n"
          ],
          "name": "stdout"
        },
        {
          "output_type": "execute_result",
          "data": {
            "text/html": [
              "<div class='datatable'>\n",
              "  <table class='frame'>\n",
              "  <thead>\n",
              "    <tr class='colnames'><td class='row_index'></td><th>C0</th><th>C1</th><th>C2</th><th>C3</th><th>C4</th><th>C5</th><th>C6</th><th>C7</th><th>C8</th><th>C9</th><th class='vellipsis'>&hellip;</th><th>C131</th><th>C132</th><th>C133</th><th>C134</th><th>C135</th></tr>\n",
              "    <tr class='coltypes'><td class='row_index'></td><td class='string' title='str32'>&#x25AA;&#x25AA;&#x25AA;&#x25AA;</td><td class='string' title='str32'>&#x25AA;&#x25AA;&#x25AA;&#x25AA;</td><td class='string' title='str32'>&#x25AA;&#x25AA;&#x25AA;&#x25AA;</td><td class='float' title='float64'>&#x25AA;&#x25AA;&#x25AA;&#x25AA;&#x25AA;&#x25AA;&#x25AA;&#x25AA;</td><td class='string' title='str32'>&#x25AA;&#x25AA;&#x25AA;&#x25AA;</td><td class='string' title='str32'>&#x25AA;&#x25AA;&#x25AA;&#x25AA;</td><td class='integer' title='int32'>&#x25AA;&#x25AA;&#x25AA;&#x25AA;</td><td class='integer' title='int32'>&#x25AA;&#x25AA;&#x25AA;&#x25AA;</td><td class='float' title='float64'>&#x25AA;&#x25AA;&#x25AA;&#x25AA;&#x25AA;&#x25AA;&#x25AA;&#x25AA;</td><td class='float' title='float64'>&#x25AA;&#x25AA;&#x25AA;&#x25AA;&#x25AA;&#x25AA;&#x25AA;&#x25AA;</td><td></td><td class='boolean' title='bool8'>&#x25AA;</td><td class='boolean' title='bool8'>&#x25AA;</td><td class='boolean' title='bool8'>&#x25AA;</td><td class='boolean' title='bool8'>&#x25AA;</td><td class='boolean' title='bool8'>&#x25AA;</td></tr>\n",
              "  </thead>\n",
              "  <tbody>\n",
              "    <tr><td class='row_index'>0</td><td>DEAFAULT</td><td>1</td><td>33AE015</td><td>11</td><td>0.04770</td><td>12/22/2017 8:44:4</td><td>1</td><td>0</td><td>300</td><td>2.34</td><td class=vellipsis>&hellip;</td><td>0</td><td>0</td><td>0</td><td>0</td><td><span class=na>NA</span></td></tr>\n",
              "    <tr><td class='row_index'>1</td><td>DEAFAULT</td><td>1</td><td>33ae015</td><td>11</td><td>0.04770</td><td>12/22/2017 8:44:53</td><td>1</td><td>0</td><td>300</td><td>2.35</td><td class=vellipsis>&hellip;</td><td>0</td><td>0</td><td>0</td><td>0</td><td><span class=na>NA</span></td></tr>\n",
              "    <tr><td class='row_index'>2</td><td>DEAFAULT</td><td>1</td><td>33ae015</td><td>11</td><td>0.04770</td><td>12/22/2017 8:45:15</td><td>1</td><td>0</td><td>300</td><td>2.33</td><td class=vellipsis>&hellip;</td><td>0</td><td>0</td><td>0</td><td>0</td><td><span class=na>NA</span></td></tr>\n",
              "    <tr><td class='row_index'>3</td><td>DEAFAULT</td><td>1</td><td>33ae015</td><td>11</td><td>0.04770</td><td>12/22/2017 8:45:54</td><td>1</td><td>0</td><td>300</td><td>2.32</td><td class=vellipsis>&hellip;</td><td>0</td><td>0</td><td>0</td><td>0</td><td><span class=na>NA</span></td></tr>\n",
              "    <tr><td class='row_index'>4</td><td>DEAFAULT</td><td>1</td><td>33ae015</td><td>11</td><td>0.04770</td><td>12/22/2017 8:46:28</td><td>1</td><td>0</td><td>300</td><td>2.36</td><td class=vellipsis>&hellip;</td><td>0</td><td>0</td><td>0</td><td>0</td><td><span class=na>NA</span></td></tr>\n",
              "    <tr><td class='row_index'>5</td><td>DEAFAULT</td><td>1</td><td>33ae015</td><td>11</td><td>0.04770</td><td>12/22/2017 8:46:44</td><td>1</td><td>0</td><td>300</td><td>2.3</td><td class=vellipsis>&hellip;</td><td>0</td><td>0</td><td>0</td><td>0</td><td><span class=na>NA</span></td></tr>\n",
              "    <tr><td class='row_index'>6</td><td>DEAFAULT</td><td>1</td><td>33ae015</td><td>11</td><td>0.04770</td><td>12/22/2017 8:48:37</td><td>1</td><td>0</td><td>300</td><td>2.36</td><td class=vellipsis>&hellip;</td><td>0</td><td>0</td><td>0</td><td>0</td><td><span class=na>NA</span></td></tr>\n",
              "    <tr><td class='row_index'>7</td><td>DEAFAULT</td><td>1</td><td>33ae015</td><td>11</td><td>0.04770</td><td>12/22/2017 8:49:26</td><td>1</td><td>0</td><td>300</td><td>2.32</td><td class=vellipsis>&hellip;</td><td>0</td><td>0</td><td>0</td><td>0</td><td><span class=na>NA</span></td></tr>\n",
              "    <tr><td class='row_index'>8</td><td>DEAFAULT</td><td>1</td><td>33ae015</td><td>11</td><td>0.04770</td><td>12/22/2017 8:50:2</td><td>1</td><td>0</td><td>300</td><td>2.35</td><td class=vellipsis>&hellip;</td><td>0</td><td>0</td><td>0</td><td>0</td><td><span class=na>NA</span></td></tr>\n",
              "    <tr><td class='row_index'>9</td><td>DEAFAULT</td><td>1</td><td>33ae015</td><td>11</td><td>0.04770</td><td>12/22/2017 8:50:19</td><td>1</td><td>0</td><td>300</td><td>2.33</td><td class=vellipsis>&hellip;</td><td>0</td><td>0</td><td>0</td><td>0</td><td><span class=na>NA</span></td></tr>\n",
              "  </tbody>\n",
              "  </table>\n",
              "  <div class='footer'>\n",
              "    <div class='frame_dimensions'>10 rows &times; 136 columns</div>\n",
              "  </div>\n",
              "</div>\n"
            ],
            "text/plain": [
              ""
            ]
          },
          "metadata": {
            "tags": []
          },
          "execution_count": 87
        }
      ]
    },
    {
      "cell_type": "code",
      "metadata": {
        "id": "S4Aw1N9EBi1h",
        "colab_type": "code",
        "colab": {
          "base_uri": "https://localhost:8080/",
          "height": 88
        },
        "outputId": "3969e77d-a712-4a66-b5c9-1d6bfb53be28"
      },
      "source": [
        "print(df.shape)   # (nrows, ncols)\n",
        "print(df.names)   # column names\n",
        "print(df.stypes)  # column types"
      ],
      "execution_count": 92,
      "outputs": [
        {
          "output_type": "stream",
          "text": [
            "(3085461, 136)\n",
            "('C0', 'C1', 'C2', 'C3', 'C4', 'C5', 'C6', 'C7', 'C8', 'C9', 'C10', 'C11', 'C12', 'C13', 'C14', 'C15', 'C16', 'C17', 'C18', 'C19', 'C20', 'C21', 'C22', 'C23', 'C24', 'C25', 'C26', 'C27', 'C28', 'C29', 'C30', 'C31', 'C32', 'C33', 'C34', 'C35', 'C36', 'C37', 'C38', 'C39', 'C40', 'C41', 'C42', 'C43', 'C44', 'C45', 'C46', 'C47', 'C48', 'C49', 'C50', 'C51', 'C52', 'C53', 'C54', 'C55', 'C56', 'C57', 'C58', 'C59', 'C60', 'C61', 'C62', 'C63', 'C64', 'C65', 'C66', 'C67', 'C68', 'C69', 'C70', 'C71', 'C72', 'C73', 'C74', 'C75', 'C76', 'C77', 'C78', 'C79', 'C80', 'C81', 'C82', 'C83', 'C84', 'C85', 'C86', 'C87', 'C88', 'C89', 'C90', 'C91', 'C92', 'C93', 'C94', 'C95', 'C96', 'C97', 'C98', 'C99', 'C100', 'C101', 'C102', 'C103', 'C104', 'C105', 'C106', 'C107', 'C108', 'C109', 'C110', 'C111', 'C112', 'C113', 'C114', 'C115', 'C116', 'C117', 'C118', 'C119', 'C120', 'C121', 'C122', 'C123', 'C124', 'C125', 'C126', 'C127', 'C128', 'C129', 'C130', 'C131', 'C132', 'C133', 'C134', 'C135')\n",
            "(stype.str32, stype.str32, stype.str32, stype.float64, stype.str32, stype.str32, stype.int32, stype.int32, stype.float64, stype.float64, stype.int32, stype.float64, stype.float64, stype.int32, stype.float64, stype.float64, stype.int32, stype.float64, stype.float64, stype.bool8, stype.float64, stype.float64, stype.bool8, stype.float64, stype.float64, stype.bool8, stype.float64, stype.float64, stype.bool8, stype.float64, stype.float64, stype.float64, stype.float64, stype.float64, stype.float64, stype.float64, stype.float64, stype.float64, stype.float64, stype.float64, stype.float64, stype.float64, stype.float64, stype.float64, stype.float64, stype.float64, stype.float64, stype.float64, stype.float64, stype.float64, stype.float64, stype.float64, stype.float64, stype.float64, stype.float64, stype.float64, stype.float64, stype.float64, stype.float64, stype.float64, stype.float64, stype.float64, stype.float64, stype.float64, stype.float64, stype.float64, stype.float64, stype.float64, stype.float64, stype.float64, stype.float64, stype.float64, stype.float64, stype.float64, stype.float64, stype.float64, stype.float64, stype.float64, stype.float64, stype.float64, stype.float64, stype.float64, stype.float64, stype.float64, stype.float64, stype.float64, stype.float64, stype.float64, stype.float64, stype.float64, stype.float64, stype.float64, stype.float64, stype.float64, stype.float64, stype.float64, stype.float64, stype.float64, stype.float64, stype.float64, stype.float64, stype.float64, stype.float64, stype.float64, stype.float64, stype.float64, stype.float64, stype.float64, stype.float64, stype.float64, stype.float64, stype.float64, stype.float64, stype.float64, stype.int32, stype.int32, stype.int32, stype.int32, stype.int32, stype.int32, stype.int32, stype.int32, stype.int32, stype.int32, stype.int32, stype.int32, stype.float64, stype.float64, stype.float64, stype.float64, stype.float64, stype.bool8, stype.bool8, stype.bool8, stype.bool8, stype.bool8)\n"
          ],
          "name": "stdout"
        }
      ]
    },
    {
      "cell_type": "code",
      "metadata": {
        "id": "Rj64Spn6AZmc",
        "colab_type": "code",
        "colab": {
          "base_uri": "https://localhost:8080/",
          "height": 978
        },
        "outputId": "3eec0037-24fe-4237-bd6c-cb83fb6ddb63"
      },
      "source": [
        "%%time\n",
        "df['C2']"
      ],
      "execution_count": 98,
      "outputs": [
        {
          "output_type": "stream",
          "text": [
            "CPU times: user 33 µs, sys: 3 µs, total: 36 µs\n",
            "Wall time: 39.8 µs\n",
            "\u001b[1m        \u001b[0;90m|\u001b[0;1m C2         \u001b[0m\n",
            "\u001b[90m------- + -----------\u001b[0m\n",
            "\u001b[90m      0 |\u001b[0m 33AE015    \n",
            "\u001b[90m      1 |\u001b[0m 33ae015    \n",
            "\u001b[90m      2 |\u001b[0m 33ae015    \n",
            "\u001b[90m      3 |\u001b[0m 33ae015    \n",
            "\u001b[90m      4 |\u001b[0m 33ae015    \n",
            "\u001b[90m      5 |\u001b[0m 33ae015    \n",
            "\u001b[90m      6 |\u001b[0m 33ae015    \n",
            "\u001b[90m      7 |\u001b[0m 33ae015    \n",
            "\u001b[90m      8 |\u001b[0m 33ae015    \n",
            "\u001b[90m      9 |\u001b[0m 33ae015    \n",
            "\u001b[90m     10 |\u001b[0m 33ae015    \n",
            "\u001b[90m     11 |\u001b[0m SU3037_0112\n",
            "\u001b[90m     12 |\u001b[0m SU3037_0112\n",
            "\u001b[90m     13 |\u001b[0m SU3037_0112\n",
            "\u001b[90m     14 |\u001b[0m SU3037_0112\n",
            "\u001b[90m      \u001b[0;2m…\u001b[0;90m |\u001b[0m \u001b[2m…\u001b[0m          \n",
            "\u001b[90m3085456 |\u001b[0m SU3032_0112\n",
            "\u001b[90m3085457 |\u001b[0m SU3032_0112\n",
            "\u001b[90m3085458 |\u001b[0m SU3032_0112\n",
            "\u001b[90m3085459 |\u001b[0m SU3032_0112\n",
            "\u001b[90m3085460 |\u001b[0m SU3032_0112\n",
            "\n",
            "\u001b[2m[3085461 rows x 1 column]\u001b[0m\n"
          ],
          "name": "stdout"
        },
        {
          "output_type": "execute_result",
          "data": {
            "text/html": [
              "<div class='datatable'>\n",
              "  <table class='frame'>\n",
              "  <thead>\n",
              "    <tr class='colnames'><td class='row_index'></td><th>C2</th></tr>\n",
              "    <tr class='coltypes'><td class='row_index'></td><td class='string' title='str32'>&#x25AA;&#x25AA;&#x25AA;&#x25AA;</td></tr>\n",
              "  </thead>\n",
              "  <tbody>\n",
              "    <tr><td class='row_index'>0</td><td>33AE015</td></tr>\n",
              "    <tr><td class='row_index'>1</td><td>33ae015</td></tr>\n",
              "    <tr><td class='row_index'>2</td><td>33ae015</td></tr>\n",
              "    <tr><td class='row_index'>3</td><td>33ae015</td></tr>\n",
              "    <tr><td class='row_index'>4</td><td>33ae015</td></tr>\n",
              "    <tr><td class='row_index'>5</td><td>33ae015</td></tr>\n",
              "    <tr><td class='row_index'>6</td><td>33ae015</td></tr>\n",
              "    <tr><td class='row_index'>7</td><td>33ae015</td></tr>\n",
              "    <tr><td class='row_index'>8</td><td>33ae015</td></tr>\n",
              "    <tr><td class='row_index'>9</td><td>33ae015</td></tr>\n",
              "    <tr><td class='row_index'>10</td><td>33ae015</td></tr>\n",
              "    <tr><td class='row_index'>11</td><td>SU3037_0112</td></tr>\n",
              "    <tr><td class='row_index'>12</td><td>SU3037_0112</td></tr>\n",
              "    <tr><td class='row_index'>13</td><td>SU3037_0112</td></tr>\n",
              "    <tr><td class='row_index'>14</td><td>SU3037_0112</td></tr>\n",
              "    <tr><td class='row_index'>&#x22EE;</td><td class='hellipsis'>&#x22EE;</td></tr>\n",
              "    <tr><td class='row_index'>3,085,456</td><td>SU3032_0112</td></tr>\n",
              "    <tr><td class='row_index'>3,085,457</td><td>SU3032_0112</td></tr>\n",
              "    <tr><td class='row_index'>3,085,458</td><td>SU3032_0112</td></tr>\n",
              "    <tr><td class='row_index'>3,085,459</td><td>SU3032_0112</td></tr>\n",
              "    <tr><td class='row_index'>3,085,460</td><td>SU3032_0112</td></tr>\n",
              "  </tbody>\n",
              "  </table>\n",
              "  <div class='footer'>\n",
              "    <div class='frame_dimensions'>3,085,461 rows &times; 1 column</div>\n",
              "  </div>\n",
              "</div>\n"
            ],
            "text/plain": [
              ""
            ]
          },
          "metadata": {
            "tags": []
          },
          "execution_count": 98
        }
      ]
    },
    {
      "cell_type": "code",
      "metadata": {
        "id": "1N5Q9G-xAZp2",
        "colab_type": "code",
        "colab": {
          "base_uri": "https://localhost:8080/",
          "height": 146
        },
        "outputId": "17ad8703-3c9b-41b5-8586-941a0b4f51a0"
      },
      "source": [
        "%%time\n",
        "df_filter=df[df['C2']=='SU3037_0112'] # 2 tr rows\n",
        "df_filter"
      ],
      "execution_count": 97,
      "outputs": [
        {
          "output_type": "error",
          "ename": "TypeError",
          "evalue": "ignored",
          "traceback": [
            "\u001b[0;31m---------------------------------------------------------------------------\u001b[0m",
            "\u001b[0;31mTypeError\u001b[0m                                 Traceback (most recent call last)",
            "\u001b[0;32m<timed exec>\u001b[0m in \u001b[0;36m<module>\u001b[0;34m\u001b[0m\n",
            "\u001b[0;31mTypeError\u001b[0m: Column selector must be an integer or a string, not <class 'bool'>"
          ]
        }
      ]
    },
    {
      "cell_type": "code",
      "metadata": {
        "id": "8W_eQ7EfAYvB",
        "colab_type": "code",
        "colab": {}
      },
      "source": [
        ""
      ],
      "execution_count": null,
      "outputs": []
    },
    {
      "cell_type": "code",
      "metadata": {
        "id": "FWUHlY-LAYsX",
        "colab_type": "code",
        "colab": {}
      },
      "source": [
        ""
      ],
      "execution_count": null,
      "outputs": []
    },
    {
      "cell_type": "markdown",
      "metadata": {
        "id": "rmo5ybOtBQhZ",
        "colab_type": "text"
      },
      "source": [
        "# Vaex"
      ]
    },
    {
      "cell_type": "code",
      "metadata": {
        "id": "45xGfGDLBRP1",
        "colab_type": "code",
        "colab": {}
      },
      "source": [
        "!pip install vaex"
      ],
      "execution_count": null,
      "outputs": []
    },
    {
      "cell_type": "code",
      "metadata": {
        "id": "4VyWHIdUKGo8",
        "colab_type": "code",
        "colab": {}
      },
      "source": [
        "!pip install IPython==7.0.0"
      ],
      "execution_count": null,
      "outputs": []
    },
    {
      "cell_type": "code",
      "metadata": {
        "id": "DtXAn6GLJJzU",
        "colab_type": "code",
        "colab": {
          "base_uri": "https://localhost:8080/",
          "height": 51
        },
        "outputId": "e753ddb1-5cea-496e-e940-8d8ca94562c8"
      },
      "source": [
        "%%time\n",
        "import vaex\n",
        "path='/content/drive/My Drive/Data/Sonion/V04R-V04R-SQLData.dat' # 1.88 gb\n",
        "df = vaex.from_csv(path,sep='\\t',#header=None, \n",
        "                   convert=True, chunk_size=5_000_000)\n",
        "# Read file in first time 34 s, second time: 1 s"
      ],
      "execution_count": 1,
      "outputs": [
        {
          "output_type": "stream",
          "text": [
            "CPU times: user 911 ms, sys: 86.6 ms, total: 998 ms\n",
            "Wall time: 1.03 s\n"
          ],
          "name": "stdout"
        }
      ]
    },
    {
      "cell_type": "code",
      "metadata": {
        "id": "uVaBmGGCuSar",
        "colab_type": "code",
        "colab": {}
      },
      "source": [
        "df.get_column_names()"
      ],
      "execution_count": null,
      "outputs": []
    },
    {
      "cell_type": "code",
      "metadata": {
        "id": "Fj4FB7i1OHW7",
        "colab_type": "code",
        "colab": {
          "base_uri": "https://localhost:8080/",
          "height": 68
        },
        "outputId": "0020272f-e7ff-46c9-b3ec-919378734940"
      },
      "source": [
        "%%time\n",
        "df.shape"
      ],
      "execution_count": 2,
      "outputs": [
        {
          "output_type": "stream",
          "text": [
            "CPU times: user 136 µs, sys: 21 µs, total: 157 µs\n",
            "Wall time: 162 µs\n"
          ],
          "name": "stdout"
        },
        {
          "output_type": "execute_result",
          "data": {
            "text/plain": [
              "(3085460, 128)"
            ]
          },
          "metadata": {
            "tags": []
          },
          "execution_count": 2
        }
      ]
    },
    {
      "cell_type": "code",
      "metadata": {
        "id": "PKa-x1g7sSpN",
        "colab_type": "code",
        "colab": {
          "base_uri": "https://localhost:8080/",
          "height": 478
        },
        "outputId": "6674b915-2139-4345-f3b4-2672463ab5e6"
      },
      "source": [
        "df"
      ],
      "execution_count": 3,
      "outputs": [
        {
          "output_type": "execute_result",
          "data": {
            "text/plain": [
              "#          DEAFAULT    -1    33AE015      11       12/22/2017 8:44:4    -1.1    0    300    2.34    0.1    450     1.71    0.2    0.3    0.00    0.4    0.5     0.00.1    0.6    0.7    0.00.2    0.8    0.9    0.00.3    0.10    0.11    0.00.4    0.12    0.13    0.00.5    49.22    0.00.6    0.00.7    0.00.8    0.00.9    0.00.10    0.00.11    0.00.12    -57.10    137.23    0.00.13    0.00.14    0.00.15    0.00.16    0.00.17    0.00.18    0.00.19    0.00.20    0.00.21    0.00.22    0.00.23    0.00.24    0.00.25    16.00    0.00.26    0.000    0.14    125.00    113.014             0.15    200.00    112.944             0.16    500.00    114.126             0.17    900.27    121.931             -1.2    1571.66    109.839            2    2136.23    118.146             -1.3    2853.39    106.113             2.1    3463.75    115.365    -1.4    3967.29    107.780             2.2    4257.20    109.698             -1.5    5126.95    96.103             2.3    5645.75    102.623    -1.6    0.00.27    0.000.1    0.00.28    0.000.2    0.00.29    0.000.3    0.00.30    0.000.4    0.00.31    0.000.5    0.00.32    0.000.6    0.00.33    0.000.7    205471440    2.4    0.18    0.19    0.20    0.21    0.22    0.23    0.24    0.25    0.26    0.27    0.000000    0.000000.1    0.000000.2    0.000000.3    0.28    0.29    0.30    0.31    Unnamed: 135\n",
              "0          DEAFAULT    None  33ae015      11.0     12/22/2017 8:44:53   -1.0    0.0  300.0  2.35    0.0    450.0   1.76    0.0    0.0    0.0     0.0    0.0     0.0       0.0    0.0    0.0       0.0    0.0    0.0       0.0     0.0     0.0       0.0     0.0     0.0       48.94    0.0       0.0       0.0       0.0       0.0        0.0        0.0        -57.1     137.23    0.0        0.0        0.0        0.0        0.0        0.0        0.0        0.0        0.0        0.0        0.0        0.0        0.0        16.0     0.0        0.0      0.0     125.0     113.02              0.0     200.0     112.954             0.0     500.0     114.131             0.0     900.27    121.93299999999999  -1.0    1571.66    109.836            2.0  2136.23    118.149             -1.0    2853.39    106.11399999999999  2.0    3463.75    115.37     -1.0    3967.29    107.78200000000001  2.0    4257.2     109.705             -1.0    5126.95    96.10700000000001  2.0    5645.75    102.632    -1.0    0.0        0.0        0.0        0.0        0.0        0.0        0.0        0.0        0.0        0.0        0.0        0.0        0.0        0.0        205668048.0  1.0    0.0     0.0     0.0     0.0     0.0     0.0     0.0     0.0     0.0     0.0     0.0         0.0           0.0           0.0           0.0     0.0     0.0     0.0     nan\n",
              "1          DEAFAULT    None  33ae015      11.0     12/22/2017 8:45:15   -1.0    0.0  300.0  2.33    0.0    450.0   1.88    0.0    0.0    0.0     0.0    0.0     0.0       0.0    0.0    0.0       0.0    0.0    0.0       0.0     0.0     0.0       0.0     0.0     0.0       49.06    0.0       0.0       0.0       0.0       0.0        0.0        0.0        -57.19    137.23    0.0        0.0        0.0        0.0        0.0        0.0        0.0        0.0        0.0        0.0        0.0        0.0        0.0        16.0     0.0        0.0      0.0     125.0     113.027             0.0     200.0     112.958             0.0     500.0     114.132             0.0     900.27    121.93              -1.0    1586.91    109.837            2.0  2136.23    118.14299999999999  -1.0    2853.39    106.10700000000001  2.0    3448.49    115.382    -1.0    3967.29    107.765             2.0    4257.2     109.68799999999999  -1.0    5126.95    96.075             2.0    5645.75    102.601    -1.0    0.0        0.0        0.0        0.0        0.0        0.0        0.0        0.0        0.0        0.0        0.0        0.0        0.0        0.0        205668048.0  1.0    0.0     0.0     0.0     0.0     0.0     0.0     0.0     0.0     0.0     0.0     0.0         0.0           0.0           0.0           0.0     0.0     0.0     0.0     nan\n",
              "2          DEAFAULT    None  33ae015      11.0     12/22/2017 8:45:54   -1.0    0.0  300.0  2.32    0.0    450.0   1.86    0.0    0.0    0.0     0.0    0.0     0.0       0.0    0.0    0.0       0.0    0.0    0.0       0.0     0.0     0.0       0.0     0.0     0.0       49.67    0.0       0.0       0.0       0.0       0.0        0.0        0.0        -57.13    137.23    0.0        0.0        0.0        0.0        0.0        0.0        0.0        0.0        0.0        0.0        0.0        0.0        0.0        16.0     0.0        0.0      0.0     125.0     113.027             0.0     200.0     112.95700000000001  0.0     500.0     114.135             0.0     900.27    121.935             -1.0    1586.91    109.845            2.0  2136.23    118.149             -1.0    2853.39    106.115             2.0    3448.49    115.381    -1.0    3967.29    107.76700000000001  2.0    4257.2     109.69              -1.0    5126.95    96.07600000000001  2.0    5645.75    102.604    -1.0    0.0        0.0        0.0        0.0        0.0        0.0        0.0        0.0        0.0        0.0        0.0        0.0        0.0        0.0        205668048.0  1.0    0.0     0.0     0.0     0.0     0.0     0.0     0.0     0.0     0.0     0.0     0.0         0.0           0.0           0.0           0.0     0.0     0.0     0.0     nan\n",
              "3          DEAFAULT    None  33ae015      11.0     12/22/2017 8:46:28   -1.0    0.0  300.0  2.36    0.0    450.0   1.83    0.0    0.0    0.0     0.0    0.0     0.0       0.0    0.0    0.0       0.0    0.0    0.0       0.0     0.0     0.0       0.0     0.0     0.0       48.54    0.0       0.0       0.0       0.0       0.0        0.0        0.0        -57.13    137.23    0.0        0.0        0.0        0.0        0.0        0.0        0.0        0.0        0.0        0.0        0.0        0.0        0.0        16.0     0.0        0.0      0.0     125.0     113.025             0.0     200.0     112.958             0.0     500.0     114.133             0.0     900.27    121.931             -1.0    1586.91    109.844            2.0  2136.23    118.15              -1.0    2853.39    106.12              2.0    3448.49    115.382    -1.0    3967.29    107.77600000000001  2.0    4257.2     109.694             -1.0    5126.95    96.086             2.0    5645.75    102.617    -1.0    0.0        0.0        0.0        0.0        0.0        0.0        0.0        0.0        0.0        0.0        0.0        0.0        0.0        0.0        205668048.0  1.0    0.0     0.0     0.0     0.0     0.0     0.0     0.0     0.0     0.0     0.0     0.0         0.0           0.0           0.0           0.0     0.0     0.0     0.0     nan\n",
              "4          DEAFAULT    None  33ae015      11.0     12/22/2017 8:46:44   -1.0    0.0  300.0  2.3     0.0    450.0   1.85    0.0    0.0    0.0     0.0    0.0     0.0       0.0    0.0    0.0       0.0    0.0    0.0       0.0     0.0     0.0       0.0     0.0     0.0       48.56    0.0       0.0       0.0       0.0       0.0        0.0        0.0        -57.18    137.22    0.0        0.0        0.0        0.0        0.0        0.0        0.0        0.0        0.0        0.0        0.0        0.0        0.0        16.0     0.0        0.0      0.0     125.0     113.029             0.0     200.0     112.959             0.0     500.0     114.135             0.0     900.27    121.934             -1.0    1586.91    109.845            2.0  2136.23    118.15              -1.0    2853.39    106.116             2.0    3448.49    115.385    -1.0    3967.29    107.772             2.0    4257.2     109.693             -1.0    5126.95    96.081             2.0    5645.75    102.611    -1.0    0.0        0.0        0.0        0.0        0.0        0.0        0.0        0.0        0.0        0.0        0.0        0.0        0.0        0.0        205668048.0  1.0    0.0     0.0     0.0     0.0     0.0     0.0     0.0     0.0     0.0     0.0     0.0         0.0           0.0           0.0           0.0     0.0     0.0     0.0     nan\n",
              "...        ...         ...   ...          ...      ...                  ...     ...  ...    ...     ...    ...     ...     ...    ...    ...     ...    ...     ...       ...    ...    ...       ...    ...    ...       ...     ...     ...       ...     ...     ...       ...      ...       ...       ...       ...       ...        ...        ...        ...       ...       ...        ...        ...        ...        ...        ...        ...        ...        ...        ...        ...        ...        ...        ...      ...        ...      ...     ...       ...                 ...     ...       ...                 ...     ...       ...                 ...     ...       ...                 ...     ...        ...                ...  ...        ...                 ...     ...        ...                 ...    ...        ...        ...     ...        ...                 ...    ...        ...                 ...     ...        ...                ...    ...        ...        ...     ...        ...        ...        ...        ...        ...        ...        ...        ...        ...        ...        ...        ...        ...        ...          ...    ...     ...     ...     ...     ...     ...     ...     ...     ...     ...     ...         ...           ...           ...           ...     ...     ...     ...     ...\n",
              "3,085,455  C67LSG2           SU3032_0112  19787.0  9/20/2019 19:52:10   -1.0    0.0  933.0  3.2     0.0    1400.0  2.22    0.0    933.0  3.62    0.0    1400.0  3.3       0.0    0.0    0.0       0.0    0.0    0.0       0.0     0.0     0.0       0.0     0.0     0.0       0.0      0.0       0.0       0.0       0.0       0.0        0.0        0.0        161.86    105.77    0.0        0.0        0.0        0.0        0.0        0.0        0.0        0.0        0.0        0.0        0.0        0.0        0.0        16.0     0.0        0.0      0.0     200.0     101.531             0.0     500.0     101.12100000000001  0.0     1000.0    101.84899999999999  0.0     2914.43   110.361             -1.0    8224.49    87.22200000000001  2.0  0.0        0.0                 -1.0    0.0        0.0                 -1.0   0.0        0.0        -1.0    0.0        0.0                 -1.0   0.0        0.0                 -1.0    0.0        0.0                -1.0   0.0        0.0        -1.0    0.0        0.0        0.0        0.0        0.0        0.0        0.0        0.0        0.0        0.0        0.0        0.0        0.0        0.0        1.0          3.0    0.0     0.0     0.0     0.0     0.0     0.0     0.0     0.0     0.0     0.0     0.0         0.0           0.0           0.0           0.0     0.0     0.0     0.0     nan\n",
              "3,085,456  C67LSG2     None  SU3032_0112  19787.0  9/20/2019 19:52:19   -1.0    0.0  933.0  4.29    0.0    1400.0  2.72    0.0    933.0  4.95    0.0    1400.0  4.46      0.0    0.0    0.0       0.0    0.0    0.0       0.0     0.0     0.0       0.0     0.0     0.0       0.0      0.0       0.0       0.0       0.0       0.0        0.0        0.0        163.65    104.31    0.0        0.0        0.0        0.0        0.0        0.0        0.0        0.0        0.0        0.0        0.0        0.0        0.0        16.0     0.0        0.0      0.0     200.0     100.167             0.0     500.0     99.705              0.0     1000.0    100.37299999999999  0.0     2975.46   110.04899999999999  -1.0    7965.09    86.572             2.0  0.0        0.0                 -1.0    0.0        0.0                 -1.0   0.0        0.0        -1.0    0.0        0.0                 -1.0   0.0        0.0                 -1.0    0.0        0.0                -1.0   0.0        0.0        -1.0    0.0        0.0        0.0        0.0        0.0        0.0        0.0        0.0        0.0        0.0        0.0        0.0        0.0        0.0        1.0          3.0    30.0    0.0     0.0     0.0     0.0     0.0     0.0     0.0     0.0     0.0     0.0         0.0           0.0           0.0           0.0     0.0     0.0     0.0     nan\n",
              "3,085,457  C67LSG2     None  SU3032_0112  19787.0  9/20/2019 19:52:27   -1.0    0.0  933.0  2.82    0.0    1400.0  0.75    0.0    933.0  3.08    0.0    1400.0  0.98      0.0    0.0    0.0       0.0    0.0    0.0       0.0     0.0     0.0       0.0     0.0     0.0       0.0      0.0       0.0       0.0       0.0       0.0        0.0        0.0        162.52    105.64    0.0        0.0        0.0        0.0        0.0        0.0        0.0        0.0        0.0        0.0        0.0        0.0        0.0        16.0     0.0        0.0      0.0     200.0     101.45700000000001  0.0     500.0     100.976             0.0     1000.0    101.677             0.0     2914.43   109.944             -1.0    8071.9     86.436             2.0  0.0        0.0                 -1.0    0.0        0.0                 -1.0   0.0        0.0        -1.0    0.0        0.0                 -1.0   0.0        0.0                 -1.0    0.0        0.0                -1.0   0.0        0.0        -1.0    0.0        0.0        0.0        0.0        0.0        0.0        0.0        0.0        0.0        0.0        0.0        0.0        0.0        0.0        1.0          3.0    0.0     0.0     0.0     0.0     0.0     0.0     0.0     0.0     0.0     0.0     0.0         0.0           0.0           0.0           0.0     0.0     0.0     0.0     nan\n",
              "3,085,458  C67LSG2     None  SU3032_0112  19787.0  9/20/2019 19:52:34   -1.0    0.0  933.0  2.99    0.0    1400.0  1.34    0.0    933.0  3.52    0.0    1400.0  2.33      0.0    0.0    0.0       0.0    0.0    0.0       0.0     0.0     0.0       0.0     0.0     0.0       0.0      0.0       0.0       0.0       0.0       0.0        0.0        0.0        164.35    105.38    0.0        0.0        0.0        0.0        0.0        0.0        0.0        0.0        0.0        0.0        0.0        0.0        0.0        16.0     0.0        0.0      0.0     200.0     100.90299999999999  0.0     500.0     100.601             0.0     1000.0    101.51              0.0     2929.69   109.613             -1.0    8071.9     86.52              2.0  0.0        0.0                 -1.0    0.0        0.0                 -1.0   0.0        0.0        -1.0    0.0        0.0                 -1.0   0.0        0.0                 -1.0    0.0        0.0                -1.0   0.0        0.0        -1.0    0.0        0.0        0.0        0.0        0.0        0.0        0.0        0.0        0.0        0.0        0.0        0.0        0.0        0.0        1.0          3.0    0.0     0.0     0.0     0.0     0.0     0.0     0.0     0.0     0.0     0.0     0.0         0.0           0.0           0.0           0.0     0.0     0.0     0.0     nan\n",
              "3,085,459  C67LSG2     None  SU3032_0112  19787.0  9/20/2019 19:52:42   nan     0.0  933.0  4.1     0.0    1400.0  1.69    0.0    933.0  4.58    0.0    1400.0  2.26      0.0    0.0    0.0       0.0    0.0    0.0       0.0     nan     nan       nan     nan     nan       nan      nan       nan       nan       nan       nan        nan        nan        nan       nan       nan        nan        nan        nan        nan        nan        nan        nan        nan        nan        nan        nan        nan        nan      nan        nan      nan     nan       nan                 nan     nan       nan                 nan     nan       nan                 nan     nan       nan                 nan     nan        nan                nan  nan        nan                 nan     nan        nan                 nan    nan        nan        nan     nan        nan                 nan    nan        nan                 nan     nan        nan                nan    nan        nan        nan     nan        nan        nan        nan        nan        nan        nan        nan        nan        nan        nan        nan        nan        nan        nan          nan    nan     nan     nan     nan     nan     nan     nan     nan     nan     nan     nan         nan           nan           nan           nan     nan     nan     nan     nan"
            ],
            "text/html": [
              "<table>\n",
              "<thead>\n",
              "<tr><th>#                                    </th><th>DEAFAULT  </th><th>-1  </th><th>33AE015    </th><th>11     </th><th>12/22/2017 8:44:4  </th><th>-1.1  </th><th>0  </th><th>300  </th><th>2.34  </th><th>0.1  </th><th>450   </th><th>1.71  </th><th>0.2  </th><th>0.3  </th><th>0.00  </th><th>0.4  </th><th>0.5   </th><th>0.00.1  </th><th>0.6  </th><th>0.7  </th><th>0.00.2  </th><th>0.8  </th><th>0.9  </th><th>0.00.3  </th><th>0.10  </th><th>0.11  </th><th>0.00.4  </th><th>0.12  </th><th>0.13  </th><th>0.00.5  </th><th>49.22  </th><th>0.00.6  </th><th>0.00.7  </th><th>0.00.8  </th><th>0.00.9  </th><th>0.00.10  </th><th>0.00.11  </th><th>0.00.12  </th><th>-57.10  </th><th>137.23  </th><th>0.00.13  </th><th>0.00.14  </th><th>0.00.15  </th><th>0.00.16  </th><th>0.00.17  </th><th>0.00.18  </th><th>0.00.19  </th><th>0.00.20  </th><th>0.00.21  </th><th>0.00.22  </th><th>0.00.23  </th><th>0.00.24  </th><th>0.00.25  </th><th>16.00  </th><th>0.00.26  </th><th>0.000  </th><th>0.14  </th><th>125.00  </th><th>113.014           </th><th>0.15  </th><th>200.00  </th><th>112.944           </th><th>0.16  </th><th>500.00  </th><th>114.126           </th><th>0.17  </th><th>900.27  </th><th>121.931           </th><th>-1.2  </th><th>1571.66  </th><th>109.839          </th><th>2  </th><th>2136.23  </th><th>118.146           </th><th>-1.3  </th><th>2853.39  </th><th>106.113           </th><th>2.1  </th><th>3463.75  </th><th>115.365  </th><th>-1.4  </th><th>3967.29  </th><th>107.780           </th><th>2.2  </th><th>4257.20  </th><th>109.698           </th><th>-1.5  </th><th>5126.95  </th><th>96.103           </th><th>2.3  </th><th>5645.75  </th><th>102.623  </th><th>-1.6  </th><th>0.00.27  </th><th>0.000.1  </th><th>0.00.28  </th><th>0.000.2  </th><th>0.00.29  </th><th>0.000.3  </th><th>0.00.30  </th><th>0.000.4  </th><th>0.00.31  </th><th>0.000.5  </th><th>0.00.32  </th><th>0.000.6  </th><th>0.00.33  </th><th>0.000.7  </th><th>205471440  </th><th>2.4  </th><th>0.18  </th><th>0.19  </th><th>0.20  </th><th>0.21  </th><th>0.22  </th><th>0.23  </th><th>0.24  </th><th>0.25  </th><th>0.26  </th><th>0.27  </th><th>0.000000  </th><th>0.000000.1  </th><th>0.000000.2  </th><th>0.000000.3  </th><th>0.28  </th><th>0.29  </th><th>0.30  </th><th>0.31  </th><th>Unnamed: 135  </th></tr>\n",
              "</thead>\n",
              "<tbody>\n",
              "<tr><td><i style='opacity: 0.6'>0</i>        </td><td>DEAFAULT  </td><td>None</td><td>33ae015    </td><td>11.0   </td><td>12/22/2017 8:44:53 </td><td>-1.0  </td><td>0.0</td><td>300.0</td><td>2.35  </td><td>0.0  </td><td>450.0 </td><td>1.76  </td><td>0.0  </td><td>0.0  </td><td>0.0   </td><td>0.0  </td><td>0.0   </td><td>0.0     </td><td>0.0  </td><td>0.0  </td><td>0.0     </td><td>0.0  </td><td>0.0  </td><td>0.0     </td><td>0.0   </td><td>0.0   </td><td>0.0     </td><td>0.0   </td><td>0.0   </td><td>0.0     </td><td>48.94  </td><td>0.0     </td><td>0.0     </td><td>0.0     </td><td>0.0     </td><td>0.0      </td><td>0.0      </td><td>0.0      </td><td>-57.1   </td><td>137.23  </td><td>0.0      </td><td>0.0      </td><td>0.0      </td><td>0.0      </td><td>0.0      </td><td>0.0      </td><td>0.0      </td><td>0.0      </td><td>0.0      </td><td>0.0      </td><td>0.0      </td><td>0.0      </td><td>0.0      </td><td>16.0   </td><td>0.0      </td><td>0.0    </td><td>0.0   </td><td>125.0   </td><td>113.02            </td><td>0.0   </td><td>200.0   </td><td>112.954           </td><td>0.0   </td><td>500.0   </td><td>114.131           </td><td>0.0   </td><td>900.27  </td><td>121.93299999999999</td><td>-1.0  </td><td>1571.66  </td><td>109.836          </td><td>2.0</td><td>2136.23  </td><td>118.149           </td><td>-1.0  </td><td>2853.39  </td><td>106.11399999999999</td><td>2.0  </td><td>3463.75  </td><td>115.37   </td><td>-1.0  </td><td>3967.29  </td><td>107.78200000000001</td><td>2.0  </td><td>4257.2   </td><td>109.705           </td><td>-1.0  </td><td>5126.95  </td><td>96.10700000000001</td><td>2.0  </td><td>5645.75  </td><td>102.632  </td><td>-1.0  </td><td>0.0      </td><td>0.0      </td><td>0.0      </td><td>0.0      </td><td>0.0      </td><td>0.0      </td><td>0.0      </td><td>0.0      </td><td>0.0      </td><td>0.0      </td><td>0.0      </td><td>0.0      </td><td>0.0      </td><td>0.0      </td><td>205668048.0</td><td>1.0  </td><td>0.0   </td><td>0.0   </td><td>0.0   </td><td>0.0   </td><td>0.0   </td><td>0.0   </td><td>0.0   </td><td>0.0   </td><td>0.0   </td><td>0.0   </td><td>0.0       </td><td>0.0         </td><td>0.0         </td><td>0.0         </td><td>0.0   </td><td>0.0   </td><td>0.0   </td><td>0.0   </td><td>nan           </td></tr>\n",
              "<tr><td><i style='opacity: 0.6'>1</i>        </td><td>DEAFAULT  </td><td>None</td><td>33ae015    </td><td>11.0   </td><td>12/22/2017 8:45:15 </td><td>-1.0  </td><td>0.0</td><td>300.0</td><td>2.33  </td><td>0.0  </td><td>450.0 </td><td>1.88  </td><td>0.0  </td><td>0.0  </td><td>0.0   </td><td>0.0  </td><td>0.0   </td><td>0.0     </td><td>0.0  </td><td>0.0  </td><td>0.0     </td><td>0.0  </td><td>0.0  </td><td>0.0     </td><td>0.0   </td><td>0.0   </td><td>0.0     </td><td>0.0   </td><td>0.0   </td><td>0.0     </td><td>49.06  </td><td>0.0     </td><td>0.0     </td><td>0.0     </td><td>0.0     </td><td>0.0      </td><td>0.0      </td><td>0.0      </td><td>-57.19  </td><td>137.23  </td><td>0.0      </td><td>0.0      </td><td>0.0      </td><td>0.0      </td><td>0.0      </td><td>0.0      </td><td>0.0      </td><td>0.0      </td><td>0.0      </td><td>0.0      </td><td>0.0      </td><td>0.0      </td><td>0.0      </td><td>16.0   </td><td>0.0      </td><td>0.0    </td><td>0.0   </td><td>125.0   </td><td>113.027           </td><td>0.0   </td><td>200.0   </td><td>112.958           </td><td>0.0   </td><td>500.0   </td><td>114.132           </td><td>0.0   </td><td>900.27  </td><td>121.93            </td><td>-1.0  </td><td>1586.91  </td><td>109.837          </td><td>2.0</td><td>2136.23  </td><td>118.14299999999999</td><td>-1.0  </td><td>2853.39  </td><td>106.10700000000001</td><td>2.0  </td><td>3448.49  </td><td>115.382  </td><td>-1.0  </td><td>3967.29  </td><td>107.765           </td><td>2.0  </td><td>4257.2   </td><td>109.68799999999999</td><td>-1.0  </td><td>5126.95  </td><td>96.075           </td><td>2.0  </td><td>5645.75  </td><td>102.601  </td><td>-1.0  </td><td>0.0      </td><td>0.0      </td><td>0.0      </td><td>0.0      </td><td>0.0      </td><td>0.0      </td><td>0.0      </td><td>0.0      </td><td>0.0      </td><td>0.0      </td><td>0.0      </td><td>0.0      </td><td>0.0      </td><td>0.0      </td><td>205668048.0</td><td>1.0  </td><td>0.0   </td><td>0.0   </td><td>0.0   </td><td>0.0   </td><td>0.0   </td><td>0.0   </td><td>0.0   </td><td>0.0   </td><td>0.0   </td><td>0.0   </td><td>0.0       </td><td>0.0         </td><td>0.0         </td><td>0.0         </td><td>0.0   </td><td>0.0   </td><td>0.0   </td><td>0.0   </td><td>nan           </td></tr>\n",
              "<tr><td><i style='opacity: 0.6'>2</i>        </td><td>DEAFAULT  </td><td>None</td><td>33ae015    </td><td>11.0   </td><td>12/22/2017 8:45:54 </td><td>-1.0  </td><td>0.0</td><td>300.0</td><td>2.32  </td><td>0.0  </td><td>450.0 </td><td>1.86  </td><td>0.0  </td><td>0.0  </td><td>0.0   </td><td>0.0  </td><td>0.0   </td><td>0.0     </td><td>0.0  </td><td>0.0  </td><td>0.0     </td><td>0.0  </td><td>0.0  </td><td>0.0     </td><td>0.0   </td><td>0.0   </td><td>0.0     </td><td>0.0   </td><td>0.0   </td><td>0.0     </td><td>49.67  </td><td>0.0     </td><td>0.0     </td><td>0.0     </td><td>0.0     </td><td>0.0      </td><td>0.0      </td><td>0.0      </td><td>-57.13  </td><td>137.23  </td><td>0.0      </td><td>0.0      </td><td>0.0      </td><td>0.0      </td><td>0.0      </td><td>0.0      </td><td>0.0      </td><td>0.0      </td><td>0.0      </td><td>0.0      </td><td>0.0      </td><td>0.0      </td><td>0.0      </td><td>16.0   </td><td>0.0      </td><td>0.0    </td><td>0.0   </td><td>125.0   </td><td>113.027           </td><td>0.0   </td><td>200.0   </td><td>112.95700000000001</td><td>0.0   </td><td>500.0   </td><td>114.135           </td><td>0.0   </td><td>900.27  </td><td>121.935           </td><td>-1.0  </td><td>1586.91  </td><td>109.845          </td><td>2.0</td><td>2136.23  </td><td>118.149           </td><td>-1.0  </td><td>2853.39  </td><td>106.115           </td><td>2.0  </td><td>3448.49  </td><td>115.381  </td><td>-1.0  </td><td>3967.29  </td><td>107.76700000000001</td><td>2.0  </td><td>4257.2   </td><td>109.69            </td><td>-1.0  </td><td>5126.95  </td><td>96.07600000000001</td><td>2.0  </td><td>5645.75  </td><td>102.604  </td><td>-1.0  </td><td>0.0      </td><td>0.0      </td><td>0.0      </td><td>0.0      </td><td>0.0      </td><td>0.0      </td><td>0.0      </td><td>0.0      </td><td>0.0      </td><td>0.0      </td><td>0.0      </td><td>0.0      </td><td>0.0      </td><td>0.0      </td><td>205668048.0</td><td>1.0  </td><td>0.0   </td><td>0.0   </td><td>0.0   </td><td>0.0   </td><td>0.0   </td><td>0.0   </td><td>0.0   </td><td>0.0   </td><td>0.0   </td><td>0.0   </td><td>0.0       </td><td>0.0         </td><td>0.0         </td><td>0.0         </td><td>0.0   </td><td>0.0   </td><td>0.0   </td><td>0.0   </td><td>nan           </td></tr>\n",
              "<tr><td><i style='opacity: 0.6'>3</i>        </td><td>DEAFAULT  </td><td>None</td><td>33ae015    </td><td>11.0   </td><td>12/22/2017 8:46:28 </td><td>-1.0  </td><td>0.0</td><td>300.0</td><td>2.36  </td><td>0.0  </td><td>450.0 </td><td>1.83  </td><td>0.0  </td><td>0.0  </td><td>0.0   </td><td>0.0  </td><td>0.0   </td><td>0.0     </td><td>0.0  </td><td>0.0  </td><td>0.0     </td><td>0.0  </td><td>0.0  </td><td>0.0     </td><td>0.0   </td><td>0.0   </td><td>0.0     </td><td>0.0   </td><td>0.0   </td><td>0.0     </td><td>48.54  </td><td>0.0     </td><td>0.0     </td><td>0.0     </td><td>0.0     </td><td>0.0      </td><td>0.0      </td><td>0.0      </td><td>-57.13  </td><td>137.23  </td><td>0.0      </td><td>0.0      </td><td>0.0      </td><td>0.0      </td><td>0.0      </td><td>0.0      </td><td>0.0      </td><td>0.0      </td><td>0.0      </td><td>0.0      </td><td>0.0      </td><td>0.0      </td><td>0.0      </td><td>16.0   </td><td>0.0      </td><td>0.0    </td><td>0.0   </td><td>125.0   </td><td>113.025           </td><td>0.0   </td><td>200.0   </td><td>112.958           </td><td>0.0   </td><td>500.0   </td><td>114.133           </td><td>0.0   </td><td>900.27  </td><td>121.931           </td><td>-1.0  </td><td>1586.91  </td><td>109.844          </td><td>2.0</td><td>2136.23  </td><td>118.15            </td><td>-1.0  </td><td>2853.39  </td><td>106.12            </td><td>2.0  </td><td>3448.49  </td><td>115.382  </td><td>-1.0  </td><td>3967.29  </td><td>107.77600000000001</td><td>2.0  </td><td>4257.2   </td><td>109.694           </td><td>-1.0  </td><td>5126.95  </td><td>96.086           </td><td>2.0  </td><td>5645.75  </td><td>102.617  </td><td>-1.0  </td><td>0.0      </td><td>0.0      </td><td>0.0      </td><td>0.0      </td><td>0.0      </td><td>0.0      </td><td>0.0      </td><td>0.0      </td><td>0.0      </td><td>0.0      </td><td>0.0      </td><td>0.0      </td><td>0.0      </td><td>0.0      </td><td>205668048.0</td><td>1.0  </td><td>0.0   </td><td>0.0   </td><td>0.0   </td><td>0.0   </td><td>0.0   </td><td>0.0   </td><td>0.0   </td><td>0.0   </td><td>0.0   </td><td>0.0   </td><td>0.0       </td><td>0.0         </td><td>0.0         </td><td>0.0         </td><td>0.0   </td><td>0.0   </td><td>0.0   </td><td>0.0   </td><td>nan           </td></tr>\n",
              "<tr><td><i style='opacity: 0.6'>4</i>        </td><td>DEAFAULT  </td><td>None</td><td>33ae015    </td><td>11.0   </td><td>12/22/2017 8:46:44 </td><td>-1.0  </td><td>0.0</td><td>300.0</td><td>2.3   </td><td>0.0  </td><td>450.0 </td><td>1.85  </td><td>0.0  </td><td>0.0  </td><td>0.0   </td><td>0.0  </td><td>0.0   </td><td>0.0     </td><td>0.0  </td><td>0.0  </td><td>0.0     </td><td>0.0  </td><td>0.0  </td><td>0.0     </td><td>0.0   </td><td>0.0   </td><td>0.0     </td><td>0.0   </td><td>0.0   </td><td>0.0     </td><td>48.56  </td><td>0.0     </td><td>0.0     </td><td>0.0     </td><td>0.0     </td><td>0.0      </td><td>0.0      </td><td>0.0      </td><td>-57.18  </td><td>137.22  </td><td>0.0      </td><td>0.0      </td><td>0.0      </td><td>0.0      </td><td>0.0      </td><td>0.0      </td><td>0.0      </td><td>0.0      </td><td>0.0      </td><td>0.0      </td><td>0.0      </td><td>0.0      </td><td>0.0      </td><td>16.0   </td><td>0.0      </td><td>0.0    </td><td>0.0   </td><td>125.0   </td><td>113.029           </td><td>0.0   </td><td>200.0   </td><td>112.959           </td><td>0.0   </td><td>500.0   </td><td>114.135           </td><td>0.0   </td><td>900.27  </td><td>121.934           </td><td>-1.0  </td><td>1586.91  </td><td>109.845          </td><td>2.0</td><td>2136.23  </td><td>118.15            </td><td>-1.0  </td><td>2853.39  </td><td>106.116           </td><td>2.0  </td><td>3448.49  </td><td>115.385  </td><td>-1.0  </td><td>3967.29  </td><td>107.772           </td><td>2.0  </td><td>4257.2   </td><td>109.693           </td><td>-1.0  </td><td>5126.95  </td><td>96.081           </td><td>2.0  </td><td>5645.75  </td><td>102.611  </td><td>-1.0  </td><td>0.0      </td><td>0.0      </td><td>0.0      </td><td>0.0      </td><td>0.0      </td><td>0.0      </td><td>0.0      </td><td>0.0      </td><td>0.0      </td><td>0.0      </td><td>0.0      </td><td>0.0      </td><td>0.0      </td><td>0.0      </td><td>205668048.0</td><td>1.0  </td><td>0.0   </td><td>0.0   </td><td>0.0   </td><td>0.0   </td><td>0.0   </td><td>0.0   </td><td>0.0   </td><td>0.0   </td><td>0.0   </td><td>0.0   </td><td>0.0       </td><td>0.0         </td><td>0.0         </td><td>0.0         </td><td>0.0   </td><td>0.0   </td><td>0.0   </td><td>0.0   </td><td>nan           </td></tr>\n",
              "<tr><td>...                                  </td><td>...       </td><td>... </td><td>...        </td><td>...    </td><td>...                </td><td>...   </td><td>...</td><td>...  </td><td>...   </td><td>...  </td><td>...   </td><td>...   </td><td>...  </td><td>...  </td><td>...   </td><td>...  </td><td>...   </td><td>...     </td><td>...  </td><td>...  </td><td>...     </td><td>...  </td><td>...  </td><td>...     </td><td>...   </td><td>...   </td><td>...     </td><td>...   </td><td>...   </td><td>...     </td><td>...    </td><td>...     </td><td>...     </td><td>...     </td><td>...     </td><td>...      </td><td>...      </td><td>...      </td><td>...     </td><td>...     </td><td>...      </td><td>...      </td><td>...      </td><td>...      </td><td>...      </td><td>...      </td><td>...      </td><td>...      </td><td>...      </td><td>...      </td><td>...      </td><td>...      </td><td>...      </td><td>...    </td><td>...      </td><td>...    </td><td>...   </td><td>...     </td><td>...               </td><td>...   </td><td>...     </td><td>...               </td><td>...   </td><td>...     </td><td>...               </td><td>...   </td><td>...     </td><td>...               </td><td>...   </td><td>...      </td><td>...              </td><td>...</td><td>...      </td><td>...               </td><td>...   </td><td>...      </td><td>...               </td><td>...  </td><td>...      </td><td>...      </td><td>...   </td><td>...      </td><td>...               </td><td>...  </td><td>...      </td><td>...               </td><td>...   </td><td>...      </td><td>...              </td><td>...  </td><td>...      </td><td>...      </td><td>...   </td><td>...      </td><td>...      </td><td>...      </td><td>...      </td><td>...      </td><td>...      </td><td>...      </td><td>...      </td><td>...      </td><td>...      </td><td>...      </td><td>...      </td><td>...      </td><td>...      </td><td>...        </td><td>...  </td><td>...   </td><td>...   </td><td>...   </td><td>...   </td><td>...   </td><td>...   </td><td>...   </td><td>...   </td><td>...   </td><td>...   </td><td>...       </td><td>...         </td><td>...         </td><td>...         </td><td>...   </td><td>...   </td><td>...   </td><td>...   </td><td>...           </td></tr>\n",
              "<tr><td><i style='opacity: 0.6'>3,085,455</i></td><td>C67LSG2   </td><td>    </td><td>SU3032_0112</td><td>19787.0</td><td>9/20/2019 19:52:10 </td><td>-1.0  </td><td>0.0</td><td>933.0</td><td>3.2   </td><td>0.0  </td><td>1400.0</td><td>2.22  </td><td>0.0  </td><td>933.0</td><td>3.62  </td><td>0.0  </td><td>1400.0</td><td>3.3     </td><td>0.0  </td><td>0.0  </td><td>0.0     </td><td>0.0  </td><td>0.0  </td><td>0.0     </td><td>0.0   </td><td>0.0   </td><td>0.0     </td><td>0.0   </td><td>0.0   </td><td>0.0     </td><td>0.0    </td><td>0.0     </td><td>0.0     </td><td>0.0     </td><td>0.0     </td><td>0.0      </td><td>0.0      </td><td>0.0      </td><td>161.86  </td><td>105.77  </td><td>0.0      </td><td>0.0      </td><td>0.0      </td><td>0.0      </td><td>0.0      </td><td>0.0      </td><td>0.0      </td><td>0.0      </td><td>0.0      </td><td>0.0      </td><td>0.0      </td><td>0.0      </td><td>0.0      </td><td>16.0   </td><td>0.0      </td><td>0.0    </td><td>0.0   </td><td>200.0   </td><td>101.531           </td><td>0.0   </td><td>500.0   </td><td>101.12100000000001</td><td>0.0   </td><td>1000.0  </td><td>101.84899999999999</td><td>0.0   </td><td>2914.43 </td><td>110.361           </td><td>-1.0  </td><td>8224.49  </td><td>87.22200000000001</td><td>2.0</td><td>0.0      </td><td>0.0               </td><td>-1.0  </td><td>0.0      </td><td>0.0               </td><td>-1.0 </td><td>0.0      </td><td>0.0      </td><td>-1.0  </td><td>0.0      </td><td>0.0               </td><td>-1.0 </td><td>0.0      </td><td>0.0               </td><td>-1.0  </td><td>0.0      </td><td>0.0              </td><td>-1.0 </td><td>0.0      </td><td>0.0      </td><td>-1.0  </td><td>0.0      </td><td>0.0      </td><td>0.0      </td><td>0.0      </td><td>0.0      </td><td>0.0      </td><td>0.0      </td><td>0.0      </td><td>0.0      </td><td>0.0      </td><td>0.0      </td><td>0.0      </td><td>0.0      </td><td>0.0      </td><td>1.0        </td><td>3.0  </td><td>0.0   </td><td>0.0   </td><td>0.0   </td><td>0.0   </td><td>0.0   </td><td>0.0   </td><td>0.0   </td><td>0.0   </td><td>0.0   </td><td>0.0   </td><td>0.0       </td><td>0.0         </td><td>0.0         </td><td>0.0         </td><td>0.0   </td><td>0.0   </td><td>0.0   </td><td>0.0   </td><td>nan           </td></tr>\n",
              "<tr><td><i style='opacity: 0.6'>3,085,456</i></td><td>C67LSG2   </td><td>None</td><td>SU3032_0112</td><td>19787.0</td><td>9/20/2019 19:52:19 </td><td>-1.0  </td><td>0.0</td><td>933.0</td><td>4.29  </td><td>0.0  </td><td>1400.0</td><td>2.72  </td><td>0.0  </td><td>933.0</td><td>4.95  </td><td>0.0  </td><td>1400.0</td><td>4.46    </td><td>0.0  </td><td>0.0  </td><td>0.0     </td><td>0.0  </td><td>0.0  </td><td>0.0     </td><td>0.0   </td><td>0.0   </td><td>0.0     </td><td>0.0   </td><td>0.0   </td><td>0.0     </td><td>0.0    </td><td>0.0     </td><td>0.0     </td><td>0.0     </td><td>0.0     </td><td>0.0      </td><td>0.0      </td><td>0.0      </td><td>163.65  </td><td>104.31  </td><td>0.0      </td><td>0.0      </td><td>0.0      </td><td>0.0      </td><td>0.0      </td><td>0.0      </td><td>0.0      </td><td>0.0      </td><td>0.0      </td><td>0.0      </td><td>0.0      </td><td>0.0      </td><td>0.0      </td><td>16.0   </td><td>0.0      </td><td>0.0    </td><td>0.0   </td><td>200.0   </td><td>100.167           </td><td>0.0   </td><td>500.0   </td><td>99.705            </td><td>0.0   </td><td>1000.0  </td><td>100.37299999999999</td><td>0.0   </td><td>2975.46 </td><td>110.04899999999999</td><td>-1.0  </td><td>7965.09  </td><td>86.572           </td><td>2.0</td><td>0.0      </td><td>0.0               </td><td>-1.0  </td><td>0.0      </td><td>0.0               </td><td>-1.0 </td><td>0.0      </td><td>0.0      </td><td>-1.0  </td><td>0.0      </td><td>0.0               </td><td>-1.0 </td><td>0.0      </td><td>0.0               </td><td>-1.0  </td><td>0.0      </td><td>0.0              </td><td>-1.0 </td><td>0.0      </td><td>0.0      </td><td>-1.0  </td><td>0.0      </td><td>0.0      </td><td>0.0      </td><td>0.0      </td><td>0.0      </td><td>0.0      </td><td>0.0      </td><td>0.0      </td><td>0.0      </td><td>0.0      </td><td>0.0      </td><td>0.0      </td><td>0.0      </td><td>0.0      </td><td>1.0        </td><td>3.0  </td><td>30.0  </td><td>0.0   </td><td>0.0   </td><td>0.0   </td><td>0.0   </td><td>0.0   </td><td>0.0   </td><td>0.0   </td><td>0.0   </td><td>0.0   </td><td>0.0       </td><td>0.0         </td><td>0.0         </td><td>0.0         </td><td>0.0   </td><td>0.0   </td><td>0.0   </td><td>0.0   </td><td>nan           </td></tr>\n",
              "<tr><td><i style='opacity: 0.6'>3,085,457</i></td><td>C67LSG2   </td><td>None</td><td>SU3032_0112</td><td>19787.0</td><td>9/20/2019 19:52:27 </td><td>-1.0  </td><td>0.0</td><td>933.0</td><td>2.82  </td><td>0.0  </td><td>1400.0</td><td>0.75  </td><td>0.0  </td><td>933.0</td><td>3.08  </td><td>0.0  </td><td>1400.0</td><td>0.98    </td><td>0.0  </td><td>0.0  </td><td>0.0     </td><td>0.0  </td><td>0.0  </td><td>0.0     </td><td>0.0   </td><td>0.0   </td><td>0.0     </td><td>0.0   </td><td>0.0   </td><td>0.0     </td><td>0.0    </td><td>0.0     </td><td>0.0     </td><td>0.0     </td><td>0.0     </td><td>0.0      </td><td>0.0      </td><td>0.0      </td><td>162.52  </td><td>105.64  </td><td>0.0      </td><td>0.0      </td><td>0.0      </td><td>0.0      </td><td>0.0      </td><td>0.0      </td><td>0.0      </td><td>0.0      </td><td>0.0      </td><td>0.0      </td><td>0.0      </td><td>0.0      </td><td>0.0      </td><td>16.0   </td><td>0.0      </td><td>0.0    </td><td>0.0   </td><td>200.0   </td><td>101.45700000000001</td><td>0.0   </td><td>500.0   </td><td>100.976           </td><td>0.0   </td><td>1000.0  </td><td>101.677           </td><td>0.0   </td><td>2914.43 </td><td>109.944           </td><td>-1.0  </td><td>8071.9   </td><td>86.436           </td><td>2.0</td><td>0.0      </td><td>0.0               </td><td>-1.0  </td><td>0.0      </td><td>0.0               </td><td>-1.0 </td><td>0.0      </td><td>0.0      </td><td>-1.0  </td><td>0.0      </td><td>0.0               </td><td>-1.0 </td><td>0.0      </td><td>0.0               </td><td>-1.0  </td><td>0.0      </td><td>0.0              </td><td>-1.0 </td><td>0.0      </td><td>0.0      </td><td>-1.0  </td><td>0.0      </td><td>0.0      </td><td>0.0      </td><td>0.0      </td><td>0.0      </td><td>0.0      </td><td>0.0      </td><td>0.0      </td><td>0.0      </td><td>0.0      </td><td>0.0      </td><td>0.0      </td><td>0.0      </td><td>0.0      </td><td>1.0        </td><td>3.0  </td><td>0.0   </td><td>0.0   </td><td>0.0   </td><td>0.0   </td><td>0.0   </td><td>0.0   </td><td>0.0   </td><td>0.0   </td><td>0.0   </td><td>0.0   </td><td>0.0       </td><td>0.0         </td><td>0.0         </td><td>0.0         </td><td>0.0   </td><td>0.0   </td><td>0.0   </td><td>0.0   </td><td>nan           </td></tr>\n",
              "<tr><td><i style='opacity: 0.6'>3,085,458</i></td><td>C67LSG2   </td><td>None</td><td>SU3032_0112</td><td>19787.0</td><td>9/20/2019 19:52:34 </td><td>-1.0  </td><td>0.0</td><td>933.0</td><td>2.99  </td><td>0.0  </td><td>1400.0</td><td>1.34  </td><td>0.0  </td><td>933.0</td><td>3.52  </td><td>0.0  </td><td>1400.0</td><td>2.33    </td><td>0.0  </td><td>0.0  </td><td>0.0     </td><td>0.0  </td><td>0.0  </td><td>0.0     </td><td>0.0   </td><td>0.0   </td><td>0.0     </td><td>0.0   </td><td>0.0   </td><td>0.0     </td><td>0.0    </td><td>0.0     </td><td>0.0     </td><td>0.0     </td><td>0.0     </td><td>0.0      </td><td>0.0      </td><td>0.0      </td><td>164.35  </td><td>105.38  </td><td>0.0      </td><td>0.0      </td><td>0.0      </td><td>0.0      </td><td>0.0      </td><td>0.0      </td><td>0.0      </td><td>0.0      </td><td>0.0      </td><td>0.0      </td><td>0.0      </td><td>0.0      </td><td>0.0      </td><td>16.0   </td><td>0.0      </td><td>0.0    </td><td>0.0   </td><td>200.0   </td><td>100.90299999999999</td><td>0.0   </td><td>500.0   </td><td>100.601           </td><td>0.0   </td><td>1000.0  </td><td>101.51            </td><td>0.0   </td><td>2929.69 </td><td>109.613           </td><td>-1.0  </td><td>8071.9   </td><td>86.52            </td><td>2.0</td><td>0.0      </td><td>0.0               </td><td>-1.0  </td><td>0.0      </td><td>0.0               </td><td>-1.0 </td><td>0.0      </td><td>0.0      </td><td>-1.0  </td><td>0.0      </td><td>0.0               </td><td>-1.0 </td><td>0.0      </td><td>0.0               </td><td>-1.0  </td><td>0.0      </td><td>0.0              </td><td>-1.0 </td><td>0.0      </td><td>0.0      </td><td>-1.0  </td><td>0.0      </td><td>0.0      </td><td>0.0      </td><td>0.0      </td><td>0.0      </td><td>0.0      </td><td>0.0      </td><td>0.0      </td><td>0.0      </td><td>0.0      </td><td>0.0      </td><td>0.0      </td><td>0.0      </td><td>0.0      </td><td>1.0        </td><td>3.0  </td><td>0.0   </td><td>0.0   </td><td>0.0   </td><td>0.0   </td><td>0.0   </td><td>0.0   </td><td>0.0   </td><td>0.0   </td><td>0.0   </td><td>0.0   </td><td>0.0       </td><td>0.0         </td><td>0.0         </td><td>0.0         </td><td>0.0   </td><td>0.0   </td><td>0.0   </td><td>0.0   </td><td>nan           </td></tr>\n",
              "<tr><td><i style='opacity: 0.6'>3,085,459</i></td><td>C67LSG2   </td><td>None</td><td>SU3032_0112</td><td>19787.0</td><td>9/20/2019 19:52:42 </td><td>nan   </td><td>0.0</td><td>933.0</td><td>4.1   </td><td>0.0  </td><td>1400.0</td><td>1.69  </td><td>0.0  </td><td>933.0</td><td>4.58  </td><td>0.0  </td><td>1400.0</td><td>2.26    </td><td>0.0  </td><td>0.0  </td><td>0.0     </td><td>0.0  </td><td>0.0  </td><td>0.0     </td><td>0.0   </td><td>nan   </td><td>nan     </td><td>nan   </td><td>nan   </td><td>nan     </td><td>nan    </td><td>nan     </td><td>nan     </td><td>nan     </td><td>nan     </td><td>nan      </td><td>nan      </td><td>nan      </td><td>nan     </td><td>nan     </td><td>nan      </td><td>nan      </td><td>nan      </td><td>nan      </td><td>nan      </td><td>nan      </td><td>nan      </td><td>nan      </td><td>nan      </td><td>nan      </td><td>nan      </td><td>nan      </td><td>nan      </td><td>nan    </td><td>nan      </td><td>nan    </td><td>nan   </td><td>nan     </td><td>nan               </td><td>nan   </td><td>nan     </td><td>nan               </td><td>nan   </td><td>nan     </td><td>nan               </td><td>nan   </td><td>nan     </td><td>nan               </td><td>nan   </td><td>nan      </td><td>nan              </td><td>nan</td><td>nan      </td><td>nan               </td><td>nan   </td><td>nan      </td><td>nan               </td><td>nan  </td><td>nan      </td><td>nan      </td><td>nan   </td><td>nan      </td><td>nan               </td><td>nan  </td><td>nan      </td><td>nan               </td><td>nan   </td><td>nan      </td><td>nan              </td><td>nan  </td><td>nan      </td><td>nan      </td><td>nan   </td><td>nan      </td><td>nan      </td><td>nan      </td><td>nan      </td><td>nan      </td><td>nan      </td><td>nan      </td><td>nan      </td><td>nan      </td><td>nan      </td><td>nan      </td><td>nan      </td><td>nan      </td><td>nan      </td><td>nan        </td><td>nan  </td><td>nan   </td><td>nan   </td><td>nan   </td><td>nan   </td><td>nan   </td><td>nan   </td><td>nan   </td><td>nan   </td><td>nan   </td><td>nan   </td><td>nan       </td><td>nan         </td><td>nan         </td><td>nan         </td><td>nan   </td><td>nan   </td><td>nan   </td><td>nan   </td><td>nan           </td></tr>\n",
              "</tbody>\n",
              "</table>"
            ]
          },
          "metadata": {
            "tags": []
          },
          "execution_count": 3
        }
      ]
    },
    {
      "cell_type": "code",
      "metadata": {
        "id": "-64RToJrOPhX",
        "colab_type": "code",
        "colab": {
          "base_uri": "https://localhost:8080/",
          "height": 255
        },
        "outputId": "9650d4e2-8805-458b-d594-1122c8017d39"
      },
      "source": [
        "df['col_0_00']"
      ],
      "execution_count": 4,
      "outputs": [
        {
          "output_type": "execute_result",
          "data": {
            "text/plain": [
              "Expression = col_0_00\n",
              "Length: 3,085,460 dtype: float64 (expression)\n",
              "---------------------------------------------\n",
              "      0     0\n",
              "      1     0\n",
              "      2     0\n",
              "      3     0\n",
              "      4     0\n",
              "     ...     \n",
              "3085455  3.62\n",
              "3085456  4.95\n",
              "3085457  3.08\n",
              "3085458  3.52\n",
              "3085459  4.58"
            ]
          },
          "metadata": {
            "tags": []
          },
          "execution_count": 4
        }
      ]
    },
    {
      "cell_type": "code",
      "metadata": {
        "id": "3OsOEF8NJd-u",
        "colab_type": "code",
        "colab": {}
      },
      "source": [
        "#df.columns = ['c' + str(col)  for col in df.columns]\n",
        "#df"
      ],
      "execution_count": null,
      "outputs": []
    },
    {
      "cell_type": "code",
      "metadata": {
        "id": "htVcmkvYMCO6",
        "colab_type": "code",
        "colab": {
          "base_uri": "https://localhost:8080/",
          "height": 383
        },
        "outputId": "9e14603f-ec0f-49c3-b21c-2f04d3f951b1"
      },
      "source": [
        "%%time\n",
        "df.describe()"
      ],
      "execution_count": 5,
      "outputs": [
        {
          "output_type": "stream",
          "text": [
            "CPU times: user 16 s, sys: 1.19 s, total: 17.2 s\n",
            "Wall time: 38.1 s\n"
          ],
          "name": "stdout"
        },
        {
          "output_type": "execute_result",
          "data": {
            "text/html": [
              "<div>\n",
              "<style scoped>\n",
              "    .dataframe tbody tr th:only-of-type {\n",
              "        vertical-align: middle;\n",
              "    }\n",
              "\n",
              "    .dataframe tbody tr th {\n",
              "        vertical-align: top;\n",
              "    }\n",
              "\n",
              "    .dataframe thead th {\n",
              "        text-align: right;\n",
              "    }\n",
              "</style>\n",
              "<table border=\"1\" class=\"dataframe\">\n",
              "  <thead>\n",
              "    <tr style=\"text-align: right;\">\n",
              "      <th></th>\n",
              "      <th>DEAFAULT</th>\n",
              "      <th>-1</th>\n",
              "      <th>33AE015</th>\n",
              "      <th>11</th>\n",
              "      <th>12/22/2017 8:44:4</th>\n",
              "      <th>-1.1</th>\n",
              "      <th>0</th>\n",
              "      <th>300</th>\n",
              "      <th>2.34</th>\n",
              "      <th>0.1</th>\n",
              "      <th>450</th>\n",
              "      <th>1.71</th>\n",
              "      <th>0.2</th>\n",
              "      <th>0.3</th>\n",
              "      <th>0.00</th>\n",
              "      <th>0.4</th>\n",
              "      <th>0.5</th>\n",
              "      <th>0.00.1</th>\n",
              "      <th>0.6</th>\n",
              "      <th>0.7</th>\n",
              "      <th>0.00.2</th>\n",
              "      <th>0.8</th>\n",
              "      <th>0.9</th>\n",
              "      <th>0.00.3</th>\n",
              "      <th>0.10</th>\n",
              "      <th>0.11</th>\n",
              "      <th>0.00.4</th>\n",
              "      <th>0.12</th>\n",
              "      <th>0.13</th>\n",
              "      <th>0.00.5</th>\n",
              "      <th>49.22</th>\n",
              "      <th>0.00.6</th>\n",
              "      <th>0.00.7</th>\n",
              "      <th>0.00.8</th>\n",
              "      <th>0.00.9</th>\n",
              "      <th>0.00.10</th>\n",
              "      <th>0.00.11</th>\n",
              "      <th>0.00.12</th>\n",
              "      <th>-57.10</th>\n",
              "      <th>137.23</th>\n",
              "      <th>...</th>\n",
              "      <th>96.103</th>\n",
              "      <th>2.3</th>\n",
              "      <th>5645.75</th>\n",
              "      <th>102.623</th>\n",
              "      <th>-1.6</th>\n",
              "      <th>0.00.27</th>\n",
              "      <th>0.000.1</th>\n",
              "      <th>0.00.28</th>\n",
              "      <th>0.000.2</th>\n",
              "      <th>0.00.29</th>\n",
              "      <th>0.000.3</th>\n",
              "      <th>0.00.30</th>\n",
              "      <th>0.000.4</th>\n",
              "      <th>0.00.31</th>\n",
              "      <th>0.000.5</th>\n",
              "      <th>0.00.32</th>\n",
              "      <th>0.000.6</th>\n",
              "      <th>0.00.33</th>\n",
              "      <th>0.000.7</th>\n",
              "      <th>205471440</th>\n",
              "      <th>2.4</th>\n",
              "      <th>0.18</th>\n",
              "      <th>0.19</th>\n",
              "      <th>0.20</th>\n",
              "      <th>0.21</th>\n",
              "      <th>0.22</th>\n",
              "      <th>0.23</th>\n",
              "      <th>0.24</th>\n",
              "      <th>0.25</th>\n",
              "      <th>0.26</th>\n",
              "      <th>0.27</th>\n",
              "      <th>0.000000</th>\n",
              "      <th>0.000000.1</th>\n",
              "      <th>0.000000.2</th>\n",
              "      <th>0.000000.3</th>\n",
              "      <th>0.28</th>\n",
              "      <th>0.29</th>\n",
              "      <th>0.30</th>\n",
              "      <th>0.31</th>\n",
              "      <th>Unnamed: 135</th>\n",
              "    </tr>\n",
              "  </thead>\n",
              "  <tbody>\n",
              "    <tr>\n",
              "      <th>dtype</th>\n",
              "      <td>str</td>\n",
              "      <td>str</td>\n",
              "      <td>str</td>\n",
              "      <td>float64</td>\n",
              "      <td>str</td>\n",
              "      <td>float64</td>\n",
              "      <td>float64</td>\n",
              "      <td>float64</td>\n",
              "      <td>float64</td>\n",
              "      <td>float64</td>\n",
              "      <td>float64</td>\n",
              "      <td>float64</td>\n",
              "      <td>float64</td>\n",
              "      <td>float64</td>\n",
              "      <td>float64</td>\n",
              "      <td>float64</td>\n",
              "      <td>float64</td>\n",
              "      <td>float64</td>\n",
              "      <td>float64</td>\n",
              "      <td>float64</td>\n",
              "      <td>float64</td>\n",
              "      <td>float64</td>\n",
              "      <td>float64</td>\n",
              "      <td>float64</td>\n",
              "      <td>float64</td>\n",
              "      <td>float64</td>\n",
              "      <td>float64</td>\n",
              "      <td>float64</td>\n",
              "      <td>float64</td>\n",
              "      <td>float64</td>\n",
              "      <td>float64</td>\n",
              "      <td>float64</td>\n",
              "      <td>float64</td>\n",
              "      <td>float64</td>\n",
              "      <td>float64</td>\n",
              "      <td>float64</td>\n",
              "      <td>float64</td>\n",
              "      <td>float64</td>\n",
              "      <td>float64</td>\n",
              "      <td>float64</td>\n",
              "      <td>...</td>\n",
              "      <td>float64</td>\n",
              "      <td>float64</td>\n",
              "      <td>float64</td>\n",
              "      <td>float64</td>\n",
              "      <td>float64</td>\n",
              "      <td>float64</td>\n",
              "      <td>float64</td>\n",
              "      <td>float64</td>\n",
              "      <td>float64</td>\n",
              "      <td>float64</td>\n",
              "      <td>float64</td>\n",
              "      <td>float64</td>\n",
              "      <td>float64</td>\n",
              "      <td>float64</td>\n",
              "      <td>float64</td>\n",
              "      <td>float64</td>\n",
              "      <td>float64</td>\n",
              "      <td>float64</td>\n",
              "      <td>float64</td>\n",
              "      <td>float64</td>\n",
              "      <td>float64</td>\n",
              "      <td>float64</td>\n",
              "      <td>float64</td>\n",
              "      <td>float64</td>\n",
              "      <td>float64</td>\n",
              "      <td>float64</td>\n",
              "      <td>float64</td>\n",
              "      <td>float64</td>\n",
              "      <td>float64</td>\n",
              "      <td>float64</td>\n",
              "      <td>float64</td>\n",
              "      <td>float64</td>\n",
              "      <td>float64</td>\n",
              "      <td>float64</td>\n",
              "      <td>float64</td>\n",
              "      <td>float64</td>\n",
              "      <td>float64</td>\n",
              "      <td>float64</td>\n",
              "      <td>float64</td>\n",
              "      <td>float64</td>\n",
              "    </tr>\n",
              "    <tr>\n",
              "      <th>count</th>\n",
              "      <td>3085460</td>\n",
              "      <td>385435</td>\n",
              "      <td>3085371</td>\n",
              "      <td>3085382</td>\n",
              "      <td>3085382</td>\n",
              "      <td>3085381</td>\n",
              "      <td>3085382</td>\n",
              "      <td>3085382</td>\n",
              "      <td>3085382</td>\n",
              "      <td>3085382</td>\n",
              "      <td>3085382</td>\n",
              "      <td>3085382</td>\n",
              "      <td>3085382</td>\n",
              "      <td>3085382</td>\n",
              "      <td>3085382</td>\n",
              "      <td>3085382</td>\n",
              "      <td>3085382</td>\n",
              "      <td>3085382</td>\n",
              "      <td>3085382</td>\n",
              "      <td>3085382</td>\n",
              "      <td>3085382</td>\n",
              "      <td>3085382</td>\n",
              "      <td>3085382</td>\n",
              "      <td>3085382</td>\n",
              "      <td>3085382</td>\n",
              "      <td>3085381</td>\n",
              "      <td>3085381</td>\n",
              "      <td>3085381</td>\n",
              "      <td>3085381</td>\n",
              "      <td>3085381</td>\n",
              "      <td>3085381</td>\n",
              "      <td>3085381</td>\n",
              "      <td>3085381</td>\n",
              "      <td>3085381</td>\n",
              "      <td>3085381</td>\n",
              "      <td>3085381</td>\n",
              "      <td>3085381</td>\n",
              "      <td>3085381</td>\n",
              "      <td>3085381</td>\n",
              "      <td>3085381</td>\n",
              "      <td>...</td>\n",
              "      <td>3085381</td>\n",
              "      <td>3085381</td>\n",
              "      <td>3085381</td>\n",
              "      <td>3085381</td>\n",
              "      <td>3085381</td>\n",
              "      <td>3085381</td>\n",
              "      <td>3085381</td>\n",
              "      <td>3085381</td>\n",
              "      <td>3085381</td>\n",
              "      <td>3085381</td>\n",
              "      <td>3085381</td>\n",
              "      <td>3085381</td>\n",
              "      <td>3085381</td>\n",
              "      <td>3085381</td>\n",
              "      <td>3085381</td>\n",
              "      <td>3085381</td>\n",
              "      <td>3085381</td>\n",
              "      <td>3085381</td>\n",
              "      <td>3085381</td>\n",
              "      <td>3085381</td>\n",
              "      <td>3085381</td>\n",
              "      <td>3085381</td>\n",
              "      <td>3085381</td>\n",
              "      <td>3085381</td>\n",
              "      <td>3085381</td>\n",
              "      <td>3085381</td>\n",
              "      <td>3085381</td>\n",
              "      <td>3085381</td>\n",
              "      <td>3085381</td>\n",
              "      <td>3085381</td>\n",
              "      <td>3085381</td>\n",
              "      <td>3085381</td>\n",
              "      <td>3085381</td>\n",
              "      <td>3085381</td>\n",
              "      <td>3085381</td>\n",
              "      <td>3085381</td>\n",
              "      <td>3085381</td>\n",
              "      <td>3085381</td>\n",
              "      <td>3085303</td>\n",
              "      <td>0</td>\n",
              "    </tr>\n",
              "    <tr>\n",
              "      <th>NA</th>\n",
              "      <td>0</td>\n",
              "      <td>2700025</td>\n",
              "      <td>89</td>\n",
              "      <td>78</td>\n",
              "      <td>78</td>\n",
              "      <td>79</td>\n",
              "      <td>78</td>\n",
              "      <td>78</td>\n",
              "      <td>78</td>\n",
              "      <td>78</td>\n",
              "      <td>78</td>\n",
              "      <td>78</td>\n",
              "      <td>78</td>\n",
              "      <td>78</td>\n",
              "      <td>78</td>\n",
              "      <td>78</td>\n",
              "      <td>78</td>\n",
              "      <td>78</td>\n",
              "      <td>78</td>\n",
              "      <td>78</td>\n",
              "      <td>78</td>\n",
              "      <td>78</td>\n",
              "      <td>78</td>\n",
              "      <td>78</td>\n",
              "      <td>78</td>\n",
              "      <td>79</td>\n",
              "      <td>79</td>\n",
              "      <td>79</td>\n",
              "      <td>79</td>\n",
              "      <td>79</td>\n",
              "      <td>79</td>\n",
              "      <td>79</td>\n",
              "      <td>79</td>\n",
              "      <td>79</td>\n",
              "      <td>79</td>\n",
              "      <td>79</td>\n",
              "      <td>79</td>\n",
              "      <td>79</td>\n",
              "      <td>79</td>\n",
              "      <td>79</td>\n",
              "      <td>...</td>\n",
              "      <td>79</td>\n",
              "      <td>79</td>\n",
              "      <td>79</td>\n",
              "      <td>79</td>\n",
              "      <td>79</td>\n",
              "      <td>79</td>\n",
              "      <td>79</td>\n",
              "      <td>79</td>\n",
              "      <td>79</td>\n",
              "      <td>79</td>\n",
              "      <td>79</td>\n",
              "      <td>79</td>\n",
              "      <td>79</td>\n",
              "      <td>79</td>\n",
              "      <td>79</td>\n",
              "      <td>79</td>\n",
              "      <td>79</td>\n",
              "      <td>79</td>\n",
              "      <td>79</td>\n",
              "      <td>79</td>\n",
              "      <td>79</td>\n",
              "      <td>79</td>\n",
              "      <td>79</td>\n",
              "      <td>79</td>\n",
              "      <td>79</td>\n",
              "      <td>79</td>\n",
              "      <td>79</td>\n",
              "      <td>79</td>\n",
              "      <td>79</td>\n",
              "      <td>79</td>\n",
              "      <td>79</td>\n",
              "      <td>79</td>\n",
              "      <td>79</td>\n",
              "      <td>79</td>\n",
              "      <td>79</td>\n",
              "      <td>79</td>\n",
              "      <td>79</td>\n",
              "      <td>79</td>\n",
              "      <td>157</td>\n",
              "      <td>3085460</td>\n",
              "    </tr>\n",
              "    <tr>\n",
              "      <th>mean</th>\n",
              "      <td>--</td>\n",
              "      <td>--</td>\n",
              "      <td>--</td>\n",
              "      <td>10028.861773052897</td>\n",
              "      <td>--</td>\n",
              "      <td>-0.9999711542918038</td>\n",
              "      <td>0.021018467081223655</td>\n",
              "      <td>909.8222153853235</td>\n",
              "      <td>2.943490349007138</td>\n",
              "      <td>0.03153580334623071</td>\n",
              "      <td>1365.196694020384</td>\n",
              "      <td>1.7397747993604293</td>\n",
              "      <td>0.006043984180889109</td>\n",
              "      <td>203.60719533270108</td>\n",
              "      <td>0.9707064408880302</td>\n",
              "      <td>0.009075051322656319</td>\n",
              "      <td>305.5633455176701</td>\n",
              "      <td>0.5788991573814822</td>\n",
              "      <td>0.0</td>\n",
              "      <td>0.29403166285406473</td>\n",
              "      <td>0.00034209378287680415</td>\n",
              "      <td>0.0</td>\n",
              "      <td>0.09561214786370051</td>\n",
              "      <td>0.0002003609277554611</td>\n",
              "      <td>0.0</td>\n",
              "      <td>0.09885326966102403</td>\n",
              "      <td>0.00019141558206263668</td>\n",
              "      <td>0.0</td>\n",
              "      <td>0.1020943604695822</td>\n",
              "      <td>0.0014441782068405813</td>\n",
              "      <td>58.63593884839382</td>\n",
              "      <td>0.0</td>\n",
              "      <td>0.0</td>\n",
              "      <td>0.0</td>\n",
              "      <td>0.0</td>\n",
              "      <td>0.0</td>\n",
              "      <td>0.0</td>\n",
              "      <td>-0.00045409626882385025</td>\n",
              "      <td>18.739359978556685</td>\n",
              "      <td>115.54351204599958</td>\n",
              "      <td>...</td>\n",
              "      <td>0.00028612738588848507</td>\n",
              "      <td>-0.9999614310193782</td>\n",
              "      <td>0.01829838843241726</td>\n",
              "      <td>0.00030727453108708453</td>\n",
              "      <td>-0.9999458737834971</td>\n",
              "      <td>0.0</td>\n",
              "      <td>-2.5280508306753688e-05</td>\n",
              "      <td>0.0</td>\n",
              "      <td>-2.5280508306753688e-05</td>\n",
              "      <td>0.0</td>\n",
              "      <td>-2.5280508306753688e-05</td>\n",
              "      <td>0.0</td>\n",
              "      <td>-2.5280508306753688e-05</td>\n",
              "      <td>0.0</td>\n",
              "      <td>-2.5280508306753688e-05</td>\n",
              "      <td>0.0</td>\n",
              "      <td>-2.5280508306753688e-05</td>\n",
              "      <td>0.0</td>\n",
              "      <td>-2.5280508306753688e-05</td>\n",
              "      <td>668.3322766296934</td>\n",
              "      <td>2.911643975249734</td>\n",
              "      <td>0.4258851662079983</td>\n",
              "      <td>0.41739804581670786</td>\n",
              "      <td>0.08051647430252536</td>\n",
              "      <td>0.05871527697875886</td>\n",
              "      <td>0.03413646483205802</td>\n",
              "      <td>0.01826743601519553</td>\n",
              "      <td>0.009046856773928406</td>\n",
              "      <td>0.005238899182953418</td>\n",
              "      <td>0.0029630052171838745</td>\n",
              "      <td>0.0011048878566374785</td>\n",
              "      <td>0.0</td>\n",
              "      <td>0.0</td>\n",
              "      <td>0.0</td>\n",
              "      <td>0.0</td>\n",
              "      <td>0.0</td>\n",
              "      <td>0.0</td>\n",
              "      <td>0.0</td>\n",
              "      <td>0.0</td>\n",
              "      <td>nan</td>\n",
              "    </tr>\n",
              "    <tr>\n",
              "      <th>std</th>\n",
              "      <td>--</td>\n",
              "      <td>--</td>\n",
              "      <td>--</td>\n",
              "      <td>6509.51</td>\n",
              "      <td>--</td>\n",
              "      <td>0.00537074</td>\n",
              "      <td>4.23561</td>\n",
              "      <td>92.8768</td>\n",
              "      <td>3.11596</td>\n",
              "      <td>6.35521</td>\n",
              "      <td>139.434</td>\n",
              "      <td>3.18918</td>\n",
              "      <td>2.0063</td>\n",
              "      <td>369.41</td>\n",
              "      <td>3.70576</td>\n",
              "      <td>3.01247</td>\n",
              "      <td>554.368</td>\n",
              "      <td>2.7742</td>\n",
              "      <td>0</td>\n",
              "      <td>29.635</td>\n",
              "      <td>0.040047</td>\n",
              "      <td>0</td>\n",
              "      <td>16.7942</td>\n",
              "      <td>0.035465</td>\n",
              "      <td>0</td>\n",
              "      <td>17.3635</td>\n",
              "      <td>0.0339299</td>\n",
              "      <td>0</td>\n",
              "      <td>17.9328</td>\n",
              "      <td>0.315422</td>\n",
              "      <td>33.1634</td>\n",
              "      <td>0</td>\n",
              "      <td>0</td>\n",
              "      <td>0</td>\n",
              "      <td>0</td>\n",
              "      <td>0</td>\n",
              "      <td>0</td>\n",
              "      <td>0.11235</td>\n",
              "      <td>64.0833</td>\n",
              "      <td>5.83184</td>\n",
              "      <td>...</td>\n",
              "      <td>0.173048</td>\n",
              "      <td>0.00761669</td>\n",
              "      <td>10.164</td>\n",
              "      <td>0.18479</td>\n",
              "      <td>0.0102315</td>\n",
              "      <td>0</td>\n",
              "      <td>0.00502791</td>\n",
              "      <td>0</td>\n",
              "      <td>0.00502791</td>\n",
              "      <td>0</td>\n",
              "      <td>0.00502791</td>\n",
              "      <td>0</td>\n",
              "      <td>0.00502791</td>\n",
              "      <td>0</td>\n",
              "      <td>0.00502791</td>\n",
              "      <td>0</td>\n",
              "      <td>0.00502791</td>\n",
              "      <td>0</td>\n",
              "      <td>0.00502791</td>\n",
              "      <td>370677</td>\n",
              "      <td>0.411087</td>\n",
              "      <td>4.22894</td>\n",
              "      <td>6.73</td>\n",
              "      <td>1.54947</td>\n",
              "      <td>1.27945</td>\n",
              "      <td>0.898912</td>\n",
              "      <td>0.586788</td>\n",
              "      <td>0.311961</td>\n",
              "      <td>0.190983</td>\n",
              "      <td>0.140814</td>\n",
              "      <td>0.0810121</td>\n",
              "      <td>0</td>\n",
              "      <td>0</td>\n",
              "      <td>0</td>\n",
              "      <td>0</td>\n",
              "      <td>0</td>\n",
              "      <td>0</td>\n",
              "      <td>0</td>\n",
              "      <td>0</td>\n",
              "      <td>NaN</td>\n",
              "    </tr>\n",
              "    <tr>\n",
              "      <th>min</th>\n",
              "      <td>--</td>\n",
              "      <td>--</td>\n",
              "      <td>--</td>\n",
              "      <td>0</td>\n",
              "      <td>--</td>\n",
              "      <td>-1</td>\n",
              "      <td>0</td>\n",
              "      <td>0</td>\n",
              "      <td>0</td>\n",
              "      <td>0</td>\n",
              "      <td>0</td>\n",
              "      <td>0</td>\n",
              "      <td>0</td>\n",
              "      <td>0</td>\n",
              "      <td>0</td>\n",
              "      <td>0</td>\n",
              "      <td>0</td>\n",
              "      <td>0</td>\n",
              "      <td>0</td>\n",
              "      <td>0</td>\n",
              "      <td>0</td>\n",
              "      <td>0</td>\n",
              "      <td>0</td>\n",
              "      <td>0</td>\n",
              "      <td>0</td>\n",
              "      <td>0</td>\n",
              "      <td>0</td>\n",
              "      <td>0</td>\n",
              "      <td>0</td>\n",
              "      <td>0</td>\n",
              "      <td>0</td>\n",
              "      <td>0</td>\n",
              "      <td>0</td>\n",
              "      <td>0</td>\n",
              "      <td>0</td>\n",
              "      <td>0</td>\n",
              "      <td>0</td>\n",
              "      <td>-36.43</td>\n",
              "      <td>-179.99</td>\n",
              "      <td>0</td>\n",
              "      <td>...</td>\n",
              "      <td>-1</td>\n",
              "      <td>-1</td>\n",
              "      <td>0</td>\n",
              "      <td>-1</td>\n",
              "      <td>-1</td>\n",
              "      <td>0</td>\n",
              "      <td>-1</td>\n",
              "      <td>0</td>\n",
              "      <td>-1</td>\n",
              "      <td>0</td>\n",
              "      <td>-1</td>\n",
              "      <td>0</td>\n",
              "      <td>-1</td>\n",
              "      <td>0</td>\n",
              "      <td>-1</td>\n",
              "      <td>0</td>\n",
              "      <td>-1</td>\n",
              "      <td>0</td>\n",
              "      <td>-1</td>\n",
              "      <td>0</td>\n",
              "      <td>0</td>\n",
              "      <td>0</td>\n",
              "      <td>0</td>\n",
              "      <td>0</td>\n",
              "      <td>0</td>\n",
              "      <td>0</td>\n",
              "      <td>0</td>\n",
              "      <td>0</td>\n",
              "      <td>0</td>\n",
              "      <td>0</td>\n",
              "      <td>0</td>\n",
              "      <td>0</td>\n",
              "      <td>0</td>\n",
              "      <td>0</td>\n",
              "      <td>0</td>\n",
              "      <td>0</td>\n",
              "      <td>0</td>\n",
              "      <td>0</td>\n",
              "      <td>0</td>\n",
              "      <td>inf</td>\n",
              "    </tr>\n",
              "    <tr>\n",
              "      <th>max</th>\n",
              "      <td>--</td>\n",
              "      <td>--</td>\n",
              "      <td>--</td>\n",
              "      <td>613701</td>\n",
              "      <td>--</td>\n",
              "      <td>0</td>\n",
              "      <td>933</td>\n",
              "      <td>1700</td>\n",
              "      <td>1339.84</td>\n",
              "      <td>1400</td>\n",
              "      <td>2550</td>\n",
              "      <td>984.73</td>\n",
              "      <td>666</td>\n",
              "      <td>1017</td>\n",
              "      <td>2990.44</td>\n",
              "      <td>1000</td>\n",
              "      <td>1525</td>\n",
              "      <td>1570.41</td>\n",
              "      <td>0</td>\n",
              "      <td>3050</td>\n",
              "      <td>10.26</td>\n",
              "      <td>0</td>\n",
              "      <td>2950</td>\n",
              "      <td>10.17</td>\n",
              "      <td>0</td>\n",
              "      <td>3050</td>\n",
              "      <td>10.02</td>\n",
              "      <td>0</td>\n",
              "      <td>3150</td>\n",
              "      <td>103.77</td>\n",
              "      <td>110.16</td>\n",
              "      <td>0</td>\n",
              "      <td>0</td>\n",
              "      <td>0</td>\n",
              "      <td>0</td>\n",
              "      <td>0</td>\n",
              "      <td>0</td>\n",
              "      <td>0</td>\n",
              "      <td>179.99</td>\n",
              "      <td>139.77</td>\n",
              "      <td>...</td>\n",
              "      <td>96.107</td>\n",
              "      <td>2</td>\n",
              "      <td>5645.75</td>\n",
              "      <td>102.632</td>\n",
              "      <td>1</td>\n",
              "      <td>0</td>\n",
              "      <td>0</td>\n",
              "      <td>0</td>\n",
              "      <td>0</td>\n",
              "      <td>0</td>\n",
              "      <td>0</td>\n",
              "      <td>0</td>\n",
              "      <td>0</td>\n",
              "      <td>0</td>\n",
              "      <td>0</td>\n",
              "      <td>0</td>\n",
              "      <td>0</td>\n",
              "      <td>0</td>\n",
              "      <td>0</td>\n",
              "      <td>2.06127e+08</td>\n",
              "      <td>6</td>\n",
              "      <td>133</td>\n",
              "      <td>133</td>\n",
              "      <td>133</td>\n",
              "      <td>50</td>\n",
              "      <td>50</td>\n",
              "      <td>50</td>\n",
              "      <td>21</td>\n",
              "      <td>9</td>\n",
              "      <td>9</td>\n",
              "      <td>9</td>\n",
              "      <td>0</td>\n",
              "      <td>0</td>\n",
              "      <td>0</td>\n",
              "      <td>0</td>\n",
              "      <td>0</td>\n",
              "      <td>0</td>\n",
              "      <td>0</td>\n",
              "      <td>0</td>\n",
              "      <td>-inf</td>\n",
              "    </tr>\n",
              "  </tbody>\n",
              "</table>\n",
              "<p>7 rows × 128 columns</p>\n",
              "</div>"
            ],
            "text/plain": [
              "      DEAFAULT       -1  33AE015  ...     0.30     0.31 Unnamed: 135\n",
              "dtype      str      str      str  ...  float64  float64      float64\n",
              "count  3085460   385435  3085371  ...  3085381  3085303            0\n",
              "NA           0  2700025       89  ...       79      157      3085460\n",
              "mean        --       --       --  ...      0.0      0.0          nan\n",
              "std         --       --       --  ...        0        0          NaN\n",
              "min         --       --       --  ...        0        0          inf\n",
              "max         --       --       --  ...        0        0         -inf\n",
              "\n",
              "[7 rows x 128 columns]"
            ]
          },
          "metadata": {
            "tags": []
          },
          "execution_count": 5
        }
      ]
    },
    {
      "cell_type": "code",
      "metadata": {
        "id": "RvSruTSSPi-C",
        "colab_type": "code",
        "colab": {
          "base_uri": "https://localhost:8080/",
          "height": 191
        },
        "outputId": "22947f21-95d2-4a05-fb70-ce44caedf58c"
      },
      "source": [
        "df.head(3)"
      ],
      "execution_count": null,
      "outputs": [
        {
          "output_type": "execute_result",
          "data": {
            "text/plain": [
              "  #  DEAFAULT    -1    33AE015      11  12/22/2017 8:44:4      -1.1    0    300    2.34    0.1    450    1.71    0.2    0.3    0.00    0.4    0.5    0.00.1    0.6    0.7    0.00.2    0.8    0.9    0.00.3    0.10    0.11    0.00.4    0.12    0.13    0.00.5    49.22    0.00.6    0.00.7    0.00.8    0.00.9    0.00.10    0.00.11    0.00.12    -57.10    137.23    0.00.13    0.00.14    0.00.15    0.00.16    0.00.17    0.00.18    0.00.19    0.00.20    0.00.21    0.00.22    0.00.23    0.00.24    0.00.25    16.00    0.00.26    0.000    0.14    125.00    113.014    0.15    200.00    112.944    0.16    500.00    114.126    0.17    900.27    121.931    -1.2    1571.66    109.839    2    2136.23    118.146    -1.3    2853.39    106.113    2.1    3463.75    115.365    -1.4    3967.29    107.780    2.2    4257.20    109.698    -1.5    5126.95    96.103    2.3    5645.75    102.623    -1.6    0.00.27    0.000.1    0.00.28    0.000.2    0.00.29    0.000.3    0.00.30    0.000.4    0.00.31    0.000.5    0.00.32    0.000.6    0.00.33    0.000.7    205471440    2.4    0.18    0.19    0.20    0.21    0.22    0.23    0.24    0.25    0.26    0.27    0.000000    0.000000.1    0.000000.2    0.000000.3    0.28    0.29    0.30    0.31    Unnamed: 135\n",
              "  0  DEAFAULT    None  33ae015      11  12/22/2017 8:44:53       -1    0    300    2.35      0    450    1.76      0      0       0      0      0         0      0      0         0      0      0         0       0       0         0       0       0         0    48.94         0         0         0         0          0          0          0    -57.1     137.23          0          0          0          0          0          0          0          0          0          0          0          0          0       16          0        0       0       125    113.02        0       200    112.954       0       500    114.131       0    900.27    121.933      -1    1571.66    109.836    2    2136.23    118.149      -1    2853.39    106.114      2    3463.75    115.37       -1    3967.29    107.782      2     4257.2    109.705      -1    5126.95    96.107      2    5645.75    102.632      -1          0          0          0          0          0          0          0          0          0          0          0          0          0          0  2.05668e+08      1       0       0       0       0       0       0       0       0       0       0           0             0             0             0       0       0       0       0             nan\n",
              "  1  DEAFAULT    None  33ae015      11  12/22/2017 8:45:15       -1    0    300    2.33      0    450    1.88      0      0       0      0      0         0      0      0         0      0      0         0       0       0         0       0       0         0    49.06         0         0         0         0          0          0          0    -57.19    137.23          0          0          0          0          0          0          0          0          0          0          0          0          0       16          0        0       0       125    113.027       0       200    112.958       0       500    114.132       0    900.27    121.93       -1    1586.91    109.837    2    2136.23    118.143      -1    2853.39    106.107      2    3448.49    115.382      -1    3967.29    107.765      2     4257.2    109.688      -1    5126.95    96.075      2    5645.75    102.601      -1          0          0          0          0          0          0          0          0          0          0          0          0          0          0  2.05668e+08      1       0       0       0       0       0       0       0       0       0       0           0             0             0             0       0       0       0       0             nan\n",
              "  2  DEAFAULT    None  33ae015      11  12/22/2017 8:45:54       -1    0    300    2.32      0    450    1.86      0      0       0      0      0         0      0      0         0      0      0         0       0       0         0       0       0         0    49.67         0         0         0         0          0          0          0    -57.13    137.23          0          0          0          0          0          0          0          0          0          0          0          0          0       16          0        0       0       125    113.027       0       200    112.957       0       500    114.135       0    900.27    121.935      -1    1586.91    109.845    2    2136.23    118.149      -1    2853.39    106.115      2    3448.49    115.381      -1    3967.29    107.767      2     4257.2    109.69       -1    5126.95    96.076      2    5645.75    102.604      -1          0          0          0          0          0          0          0          0          0          0          0          0          0          0  2.05668e+08      1       0       0       0       0       0       0       0       0       0       0           0             0             0             0       0       0       0       0             nan"
            ],
            "text/html": [
              "<table>\n",
              "<thead>\n",
              "<tr><th>#                            </th><th>DEAFAULT  </th><th>-1  </th><th>33AE015  </th><th style=\"text-align: right;\">  11</th><th>12/22/2017 8:44:4  </th><th style=\"text-align: right;\">  -1.1</th><th style=\"text-align: right;\">  0</th><th style=\"text-align: right;\">  300</th><th style=\"text-align: right;\">  2.34</th><th style=\"text-align: right;\">  0.1</th><th style=\"text-align: right;\">  450</th><th style=\"text-align: right;\">  1.71</th><th style=\"text-align: right;\">  0.2</th><th style=\"text-align: right;\">  0.3</th><th style=\"text-align: right;\">  0.00</th><th style=\"text-align: right;\">  0.4</th><th style=\"text-align: right;\">  0.5</th><th style=\"text-align: right;\">  0.00.1</th><th style=\"text-align: right;\">  0.6</th><th style=\"text-align: right;\">  0.7</th><th style=\"text-align: right;\">  0.00.2</th><th style=\"text-align: right;\">  0.8</th><th style=\"text-align: right;\">  0.9</th><th style=\"text-align: right;\">  0.00.3</th><th style=\"text-align: right;\">  0.10</th><th style=\"text-align: right;\">  0.11</th><th style=\"text-align: right;\">  0.00.4</th><th style=\"text-align: right;\">  0.12</th><th style=\"text-align: right;\">  0.13</th><th style=\"text-align: right;\">  0.00.5</th><th style=\"text-align: right;\">  49.22</th><th style=\"text-align: right;\">  0.00.6</th><th style=\"text-align: right;\">  0.00.7</th><th style=\"text-align: right;\">  0.00.8</th><th style=\"text-align: right;\">  0.00.9</th><th style=\"text-align: right;\">  0.00.10</th><th style=\"text-align: right;\">  0.00.11</th><th style=\"text-align: right;\">  0.00.12</th><th style=\"text-align: right;\">  -57.10</th><th style=\"text-align: right;\">  137.23</th><th style=\"text-align: right;\">  0.00.13</th><th style=\"text-align: right;\">  0.00.14</th><th style=\"text-align: right;\">  0.00.15</th><th style=\"text-align: right;\">  0.00.16</th><th style=\"text-align: right;\">  0.00.17</th><th style=\"text-align: right;\">  0.00.18</th><th style=\"text-align: right;\">  0.00.19</th><th style=\"text-align: right;\">  0.00.20</th><th style=\"text-align: right;\">  0.00.21</th><th style=\"text-align: right;\">  0.00.22</th><th style=\"text-align: right;\">  0.00.23</th><th style=\"text-align: right;\">  0.00.24</th><th style=\"text-align: right;\">  0.00.25</th><th style=\"text-align: right;\">  16.00</th><th style=\"text-align: right;\">  0.00.26</th><th style=\"text-align: right;\">  0.000</th><th style=\"text-align: right;\">  0.14</th><th style=\"text-align: right;\">  125.00</th><th style=\"text-align: right;\">  113.014</th><th style=\"text-align: right;\">  0.15</th><th style=\"text-align: right;\">  200.00</th><th style=\"text-align: right;\">  112.944</th><th style=\"text-align: right;\">  0.16</th><th style=\"text-align: right;\">  500.00</th><th style=\"text-align: right;\">  114.126</th><th style=\"text-align: right;\">  0.17</th><th style=\"text-align: right;\">  900.27</th><th style=\"text-align: right;\">  121.931</th><th style=\"text-align: right;\">  -1.2</th><th style=\"text-align: right;\">  1571.66</th><th style=\"text-align: right;\">  109.839</th><th style=\"text-align: right;\">  2</th><th style=\"text-align: right;\">  2136.23</th><th style=\"text-align: right;\">  118.146</th><th style=\"text-align: right;\">  -1.3</th><th style=\"text-align: right;\">  2853.39</th><th style=\"text-align: right;\">  106.113</th><th style=\"text-align: right;\">  2.1</th><th style=\"text-align: right;\">  3463.75</th><th style=\"text-align: right;\">  115.365</th><th style=\"text-align: right;\">  -1.4</th><th style=\"text-align: right;\">  3967.29</th><th style=\"text-align: right;\">  107.780</th><th style=\"text-align: right;\">  2.2</th><th style=\"text-align: right;\">  4257.20</th><th style=\"text-align: right;\">  109.698</th><th style=\"text-align: right;\">  -1.5</th><th style=\"text-align: right;\">  5126.95</th><th style=\"text-align: right;\">  96.103</th><th style=\"text-align: right;\">  2.3</th><th style=\"text-align: right;\">  5645.75</th><th style=\"text-align: right;\">  102.623</th><th style=\"text-align: right;\">  -1.6</th><th style=\"text-align: right;\">  0.00.27</th><th style=\"text-align: right;\">  0.000.1</th><th style=\"text-align: right;\">  0.00.28</th><th style=\"text-align: right;\">  0.000.2</th><th style=\"text-align: right;\">  0.00.29</th><th style=\"text-align: right;\">  0.000.3</th><th style=\"text-align: right;\">  0.00.30</th><th style=\"text-align: right;\">  0.000.4</th><th style=\"text-align: right;\">  0.00.31</th><th style=\"text-align: right;\">  0.000.5</th><th style=\"text-align: right;\">  0.00.32</th><th style=\"text-align: right;\">  0.000.6</th><th style=\"text-align: right;\">  0.00.33</th><th style=\"text-align: right;\">  0.000.7</th><th style=\"text-align: right;\">  205471440</th><th style=\"text-align: right;\">  2.4</th><th style=\"text-align: right;\">  0.18</th><th style=\"text-align: right;\">  0.19</th><th style=\"text-align: right;\">  0.20</th><th style=\"text-align: right;\">  0.21</th><th style=\"text-align: right;\">  0.22</th><th style=\"text-align: right;\">  0.23</th><th style=\"text-align: right;\">  0.24</th><th style=\"text-align: right;\">  0.25</th><th style=\"text-align: right;\">  0.26</th><th style=\"text-align: right;\">  0.27</th><th style=\"text-align: right;\">  0.000000</th><th style=\"text-align: right;\">  0.000000.1</th><th style=\"text-align: right;\">  0.000000.2</th><th style=\"text-align: right;\">  0.000000.3</th><th style=\"text-align: right;\">  0.28</th><th style=\"text-align: right;\">  0.29</th><th style=\"text-align: right;\">  0.30</th><th style=\"text-align: right;\">  0.31</th><th style=\"text-align: right;\">  Unnamed: 135</th></tr>\n",
              "</thead>\n",
              "<tbody>\n",
              "<tr><td><i style='opacity: 0.6'>0</i></td><td>DEAFAULT  </td><td>None</td><td>33ae015  </td><td style=\"text-align: right;\">  11</td><td>12/22/2017 8:44:53 </td><td style=\"text-align: right;\">    -1</td><td style=\"text-align: right;\">  0</td><td style=\"text-align: right;\">  300</td><td style=\"text-align: right;\">  2.35</td><td style=\"text-align: right;\">    0</td><td style=\"text-align: right;\">  450</td><td style=\"text-align: right;\">  1.76</td><td style=\"text-align: right;\">    0</td><td style=\"text-align: right;\">    0</td><td style=\"text-align: right;\">     0</td><td style=\"text-align: right;\">    0</td><td style=\"text-align: right;\">    0</td><td style=\"text-align: right;\">       0</td><td style=\"text-align: right;\">    0</td><td style=\"text-align: right;\">    0</td><td style=\"text-align: right;\">       0</td><td style=\"text-align: right;\">    0</td><td style=\"text-align: right;\">    0</td><td style=\"text-align: right;\">       0</td><td style=\"text-align: right;\">     0</td><td style=\"text-align: right;\">     0</td><td style=\"text-align: right;\">       0</td><td style=\"text-align: right;\">     0</td><td style=\"text-align: right;\">     0</td><td style=\"text-align: right;\">       0</td><td style=\"text-align: right;\">  48.94</td><td style=\"text-align: right;\">       0</td><td style=\"text-align: right;\">       0</td><td style=\"text-align: right;\">       0</td><td style=\"text-align: right;\">       0</td><td style=\"text-align: right;\">        0</td><td style=\"text-align: right;\">        0</td><td style=\"text-align: right;\">        0</td><td style=\"text-align: right;\">  -57.1 </td><td style=\"text-align: right;\">  137.23</td><td style=\"text-align: right;\">        0</td><td style=\"text-align: right;\">        0</td><td style=\"text-align: right;\">        0</td><td style=\"text-align: right;\">        0</td><td style=\"text-align: right;\">        0</td><td style=\"text-align: right;\">        0</td><td style=\"text-align: right;\">        0</td><td style=\"text-align: right;\">        0</td><td style=\"text-align: right;\">        0</td><td style=\"text-align: right;\">        0</td><td style=\"text-align: right;\">        0</td><td style=\"text-align: right;\">        0</td><td style=\"text-align: right;\">        0</td><td style=\"text-align: right;\">     16</td><td style=\"text-align: right;\">        0</td><td style=\"text-align: right;\">      0</td><td style=\"text-align: right;\">     0</td><td style=\"text-align: right;\">     125</td><td style=\"text-align: right;\">  113.02 </td><td style=\"text-align: right;\">     0</td><td style=\"text-align: right;\">     200</td><td style=\"text-align: right;\">  112.954</td><td style=\"text-align: right;\">     0</td><td style=\"text-align: right;\">     500</td><td style=\"text-align: right;\">  114.131</td><td style=\"text-align: right;\">     0</td><td style=\"text-align: right;\">  900.27</td><td style=\"text-align: right;\">  121.933</td><td style=\"text-align: right;\">    -1</td><td style=\"text-align: right;\">  1571.66</td><td style=\"text-align: right;\">  109.836</td><td style=\"text-align: right;\">  2</td><td style=\"text-align: right;\">  2136.23</td><td style=\"text-align: right;\">  118.149</td><td style=\"text-align: right;\">    -1</td><td style=\"text-align: right;\">  2853.39</td><td style=\"text-align: right;\">  106.114</td><td style=\"text-align: right;\">    2</td><td style=\"text-align: right;\">  3463.75</td><td style=\"text-align: right;\">  115.37 </td><td style=\"text-align: right;\">    -1</td><td style=\"text-align: right;\">  3967.29</td><td style=\"text-align: right;\">  107.782</td><td style=\"text-align: right;\">    2</td><td style=\"text-align: right;\">   4257.2</td><td style=\"text-align: right;\">  109.705</td><td style=\"text-align: right;\">    -1</td><td style=\"text-align: right;\">  5126.95</td><td style=\"text-align: right;\">  96.107</td><td style=\"text-align: right;\">    2</td><td style=\"text-align: right;\">  5645.75</td><td style=\"text-align: right;\">  102.632</td><td style=\"text-align: right;\">    -1</td><td style=\"text-align: right;\">        0</td><td style=\"text-align: right;\">        0</td><td style=\"text-align: right;\">        0</td><td style=\"text-align: right;\">        0</td><td style=\"text-align: right;\">        0</td><td style=\"text-align: right;\">        0</td><td style=\"text-align: right;\">        0</td><td style=\"text-align: right;\">        0</td><td style=\"text-align: right;\">        0</td><td style=\"text-align: right;\">        0</td><td style=\"text-align: right;\">        0</td><td style=\"text-align: right;\">        0</td><td style=\"text-align: right;\">        0</td><td style=\"text-align: right;\">        0</td><td style=\"text-align: right;\">2.05668e+08</td><td style=\"text-align: right;\">    1</td><td style=\"text-align: right;\">     0</td><td style=\"text-align: right;\">     0</td><td style=\"text-align: right;\">     0</td><td style=\"text-align: right;\">     0</td><td style=\"text-align: right;\">     0</td><td style=\"text-align: right;\">     0</td><td style=\"text-align: right;\">     0</td><td style=\"text-align: right;\">     0</td><td style=\"text-align: right;\">     0</td><td style=\"text-align: right;\">     0</td><td style=\"text-align: right;\">         0</td><td style=\"text-align: right;\">           0</td><td style=\"text-align: right;\">           0</td><td style=\"text-align: right;\">           0</td><td style=\"text-align: right;\">     0</td><td style=\"text-align: right;\">     0</td><td style=\"text-align: right;\">     0</td><td style=\"text-align: right;\">     0</td><td style=\"text-align: right;\">           nan</td></tr>\n",
              "<tr><td><i style='opacity: 0.6'>1</i></td><td>DEAFAULT  </td><td>None</td><td>33ae015  </td><td style=\"text-align: right;\">  11</td><td>12/22/2017 8:45:15 </td><td style=\"text-align: right;\">    -1</td><td style=\"text-align: right;\">  0</td><td style=\"text-align: right;\">  300</td><td style=\"text-align: right;\">  2.33</td><td style=\"text-align: right;\">    0</td><td style=\"text-align: right;\">  450</td><td style=\"text-align: right;\">  1.88</td><td style=\"text-align: right;\">    0</td><td style=\"text-align: right;\">    0</td><td style=\"text-align: right;\">     0</td><td style=\"text-align: right;\">    0</td><td style=\"text-align: right;\">    0</td><td style=\"text-align: right;\">       0</td><td style=\"text-align: right;\">    0</td><td style=\"text-align: right;\">    0</td><td style=\"text-align: right;\">       0</td><td style=\"text-align: right;\">    0</td><td style=\"text-align: right;\">    0</td><td style=\"text-align: right;\">       0</td><td style=\"text-align: right;\">     0</td><td style=\"text-align: right;\">     0</td><td style=\"text-align: right;\">       0</td><td style=\"text-align: right;\">     0</td><td style=\"text-align: right;\">     0</td><td style=\"text-align: right;\">       0</td><td style=\"text-align: right;\">  49.06</td><td style=\"text-align: right;\">       0</td><td style=\"text-align: right;\">       0</td><td style=\"text-align: right;\">       0</td><td style=\"text-align: right;\">       0</td><td style=\"text-align: right;\">        0</td><td style=\"text-align: right;\">        0</td><td style=\"text-align: right;\">        0</td><td style=\"text-align: right;\">  -57.19</td><td style=\"text-align: right;\">  137.23</td><td style=\"text-align: right;\">        0</td><td style=\"text-align: right;\">        0</td><td style=\"text-align: right;\">        0</td><td style=\"text-align: right;\">        0</td><td style=\"text-align: right;\">        0</td><td style=\"text-align: right;\">        0</td><td style=\"text-align: right;\">        0</td><td style=\"text-align: right;\">        0</td><td style=\"text-align: right;\">        0</td><td style=\"text-align: right;\">        0</td><td style=\"text-align: right;\">        0</td><td style=\"text-align: right;\">        0</td><td style=\"text-align: right;\">        0</td><td style=\"text-align: right;\">     16</td><td style=\"text-align: right;\">        0</td><td style=\"text-align: right;\">      0</td><td style=\"text-align: right;\">     0</td><td style=\"text-align: right;\">     125</td><td style=\"text-align: right;\">  113.027</td><td style=\"text-align: right;\">     0</td><td style=\"text-align: right;\">     200</td><td style=\"text-align: right;\">  112.958</td><td style=\"text-align: right;\">     0</td><td style=\"text-align: right;\">     500</td><td style=\"text-align: right;\">  114.132</td><td style=\"text-align: right;\">     0</td><td style=\"text-align: right;\">  900.27</td><td style=\"text-align: right;\">  121.93 </td><td style=\"text-align: right;\">    -1</td><td style=\"text-align: right;\">  1586.91</td><td style=\"text-align: right;\">  109.837</td><td style=\"text-align: right;\">  2</td><td style=\"text-align: right;\">  2136.23</td><td style=\"text-align: right;\">  118.143</td><td style=\"text-align: right;\">    -1</td><td style=\"text-align: right;\">  2853.39</td><td style=\"text-align: right;\">  106.107</td><td style=\"text-align: right;\">    2</td><td style=\"text-align: right;\">  3448.49</td><td style=\"text-align: right;\">  115.382</td><td style=\"text-align: right;\">    -1</td><td style=\"text-align: right;\">  3967.29</td><td style=\"text-align: right;\">  107.765</td><td style=\"text-align: right;\">    2</td><td style=\"text-align: right;\">   4257.2</td><td style=\"text-align: right;\">  109.688</td><td style=\"text-align: right;\">    -1</td><td style=\"text-align: right;\">  5126.95</td><td style=\"text-align: right;\">  96.075</td><td style=\"text-align: right;\">    2</td><td style=\"text-align: right;\">  5645.75</td><td style=\"text-align: right;\">  102.601</td><td style=\"text-align: right;\">    -1</td><td style=\"text-align: right;\">        0</td><td style=\"text-align: right;\">        0</td><td style=\"text-align: right;\">        0</td><td style=\"text-align: right;\">        0</td><td style=\"text-align: right;\">        0</td><td style=\"text-align: right;\">        0</td><td style=\"text-align: right;\">        0</td><td style=\"text-align: right;\">        0</td><td style=\"text-align: right;\">        0</td><td style=\"text-align: right;\">        0</td><td style=\"text-align: right;\">        0</td><td style=\"text-align: right;\">        0</td><td style=\"text-align: right;\">        0</td><td style=\"text-align: right;\">        0</td><td style=\"text-align: right;\">2.05668e+08</td><td style=\"text-align: right;\">    1</td><td style=\"text-align: right;\">     0</td><td style=\"text-align: right;\">     0</td><td style=\"text-align: right;\">     0</td><td style=\"text-align: right;\">     0</td><td style=\"text-align: right;\">     0</td><td style=\"text-align: right;\">     0</td><td style=\"text-align: right;\">     0</td><td style=\"text-align: right;\">     0</td><td style=\"text-align: right;\">     0</td><td style=\"text-align: right;\">     0</td><td style=\"text-align: right;\">         0</td><td style=\"text-align: right;\">           0</td><td style=\"text-align: right;\">           0</td><td style=\"text-align: right;\">           0</td><td style=\"text-align: right;\">     0</td><td style=\"text-align: right;\">     0</td><td style=\"text-align: right;\">     0</td><td style=\"text-align: right;\">     0</td><td style=\"text-align: right;\">           nan</td></tr>\n",
              "<tr><td><i style='opacity: 0.6'>2</i></td><td>DEAFAULT  </td><td>None</td><td>33ae015  </td><td style=\"text-align: right;\">  11</td><td>12/22/2017 8:45:54 </td><td style=\"text-align: right;\">    -1</td><td style=\"text-align: right;\">  0</td><td style=\"text-align: right;\">  300</td><td style=\"text-align: right;\">  2.32</td><td style=\"text-align: right;\">    0</td><td style=\"text-align: right;\">  450</td><td style=\"text-align: right;\">  1.86</td><td style=\"text-align: right;\">    0</td><td style=\"text-align: right;\">    0</td><td style=\"text-align: right;\">     0</td><td style=\"text-align: right;\">    0</td><td style=\"text-align: right;\">    0</td><td style=\"text-align: right;\">       0</td><td style=\"text-align: right;\">    0</td><td style=\"text-align: right;\">    0</td><td style=\"text-align: right;\">       0</td><td style=\"text-align: right;\">    0</td><td style=\"text-align: right;\">    0</td><td style=\"text-align: right;\">       0</td><td style=\"text-align: right;\">     0</td><td style=\"text-align: right;\">     0</td><td style=\"text-align: right;\">       0</td><td style=\"text-align: right;\">     0</td><td style=\"text-align: right;\">     0</td><td style=\"text-align: right;\">       0</td><td style=\"text-align: right;\">  49.67</td><td style=\"text-align: right;\">       0</td><td style=\"text-align: right;\">       0</td><td style=\"text-align: right;\">       0</td><td style=\"text-align: right;\">       0</td><td style=\"text-align: right;\">        0</td><td style=\"text-align: right;\">        0</td><td style=\"text-align: right;\">        0</td><td style=\"text-align: right;\">  -57.13</td><td style=\"text-align: right;\">  137.23</td><td style=\"text-align: right;\">        0</td><td style=\"text-align: right;\">        0</td><td style=\"text-align: right;\">        0</td><td style=\"text-align: right;\">        0</td><td style=\"text-align: right;\">        0</td><td style=\"text-align: right;\">        0</td><td style=\"text-align: right;\">        0</td><td style=\"text-align: right;\">        0</td><td style=\"text-align: right;\">        0</td><td style=\"text-align: right;\">        0</td><td style=\"text-align: right;\">        0</td><td style=\"text-align: right;\">        0</td><td style=\"text-align: right;\">        0</td><td style=\"text-align: right;\">     16</td><td style=\"text-align: right;\">        0</td><td style=\"text-align: right;\">      0</td><td style=\"text-align: right;\">     0</td><td style=\"text-align: right;\">     125</td><td style=\"text-align: right;\">  113.027</td><td style=\"text-align: right;\">     0</td><td style=\"text-align: right;\">     200</td><td style=\"text-align: right;\">  112.957</td><td style=\"text-align: right;\">     0</td><td style=\"text-align: right;\">     500</td><td style=\"text-align: right;\">  114.135</td><td style=\"text-align: right;\">     0</td><td style=\"text-align: right;\">  900.27</td><td style=\"text-align: right;\">  121.935</td><td style=\"text-align: right;\">    -1</td><td style=\"text-align: right;\">  1586.91</td><td style=\"text-align: right;\">  109.845</td><td style=\"text-align: right;\">  2</td><td style=\"text-align: right;\">  2136.23</td><td style=\"text-align: right;\">  118.149</td><td style=\"text-align: right;\">    -1</td><td style=\"text-align: right;\">  2853.39</td><td style=\"text-align: right;\">  106.115</td><td style=\"text-align: right;\">    2</td><td style=\"text-align: right;\">  3448.49</td><td style=\"text-align: right;\">  115.381</td><td style=\"text-align: right;\">    -1</td><td style=\"text-align: right;\">  3967.29</td><td style=\"text-align: right;\">  107.767</td><td style=\"text-align: right;\">    2</td><td style=\"text-align: right;\">   4257.2</td><td style=\"text-align: right;\">  109.69 </td><td style=\"text-align: right;\">    -1</td><td style=\"text-align: right;\">  5126.95</td><td style=\"text-align: right;\">  96.076</td><td style=\"text-align: right;\">    2</td><td style=\"text-align: right;\">  5645.75</td><td style=\"text-align: right;\">  102.604</td><td style=\"text-align: right;\">    -1</td><td style=\"text-align: right;\">        0</td><td style=\"text-align: right;\">        0</td><td style=\"text-align: right;\">        0</td><td style=\"text-align: right;\">        0</td><td style=\"text-align: right;\">        0</td><td style=\"text-align: right;\">        0</td><td style=\"text-align: right;\">        0</td><td style=\"text-align: right;\">        0</td><td style=\"text-align: right;\">        0</td><td style=\"text-align: right;\">        0</td><td style=\"text-align: right;\">        0</td><td style=\"text-align: right;\">        0</td><td style=\"text-align: right;\">        0</td><td style=\"text-align: right;\">        0</td><td style=\"text-align: right;\">2.05668e+08</td><td style=\"text-align: right;\">    1</td><td style=\"text-align: right;\">     0</td><td style=\"text-align: right;\">     0</td><td style=\"text-align: right;\">     0</td><td style=\"text-align: right;\">     0</td><td style=\"text-align: right;\">     0</td><td style=\"text-align: right;\">     0</td><td style=\"text-align: right;\">     0</td><td style=\"text-align: right;\">     0</td><td style=\"text-align: right;\">     0</td><td style=\"text-align: right;\">     0</td><td style=\"text-align: right;\">         0</td><td style=\"text-align: right;\">           0</td><td style=\"text-align: right;\">           0</td><td style=\"text-align: right;\">           0</td><td style=\"text-align: right;\">     0</td><td style=\"text-align: right;\">     0</td><td style=\"text-align: right;\">     0</td><td style=\"text-align: right;\">     0</td><td style=\"text-align: right;\">           nan</td></tr>\n",
              "</tbody>\n",
              "</table>"
            ]
          },
          "metadata": {
            "tags": []
          },
          "execution_count": 14
        }
      ]
    },
    {
      "cell_type": "code",
      "metadata": {
        "id": "5WJeQFvdQzlk",
        "colab_type": "code",
        "colab": {
          "base_uri": "https://localhost:8080/",
          "height": 289
        },
        "outputId": "cbfe083a-c988-41d1-946f-26304d0e67ef"
      },
      "source": [
        "%%time\n",
        "df['33AE015']"
      ],
      "execution_count": 6,
      "outputs": [
        {
          "output_type": "stream",
          "text": [
            "CPU times: user 15 µs, sys: 1 µs, total: 16 µs\n",
            "Wall time: 18.8 µs\n"
          ],
          "name": "stdout"
        },
        {
          "output_type": "execute_result",
          "data": {
            "text/plain": [
              "Expression = col_33AE015\n",
              "Length: 3,085,460 dtype: str (expression)\n",
              "-----------------------------------------\n",
              "      0      33ae015\n",
              "      1      33ae015\n",
              "      2      33ae015\n",
              "      3      33ae015\n",
              "      4      33ae015\n",
              "        ...         \n",
              "3085455  SU3032_0112\n",
              "3085456  SU3032_0112\n",
              "3085457  SU3032_0112\n",
              "3085458  SU3032_0112\n",
              "3085459  SU3032_0112"
            ]
          },
          "metadata": {
            "tags": []
          },
          "execution_count": 6
        }
      ]
    },
    {
      "cell_type": "code",
      "metadata": {
        "id": "h0kU9AVaMZhO",
        "colab_type": "code",
        "colab": {
          "base_uri": "https://localhost:8080/",
          "height": 391
        },
        "outputId": "a5e3af52-dcd6-4aa8-f816-8a58ea263d8e"
      },
      "source": [
        "%%time\n",
        "df['33AE015'].value_counts()"
      ],
      "execution_count": 7,
      "outputs": [
        {
          "output_type": "stream",
          "text": [
            "CPU times: user 238 ms, sys: 11.8 ms, total: 250 ms\n",
            "Wall time: 5.41 s\n"
          ],
          "name": "stdout"
        },
        {
          "output_type": "execute_result",
          "data": {
            "text/plain": [
              "missing                89\n",
              "SU3037_0112       2331513\n",
              "SU3032_0112        521965\n",
              "SU3036_0110        208614\n",
              "CP_SU3032_0112      13088\n",
              "su3037_0112          7095\n",
              "su3032_0112          1726\n",
              "su3036_0110           533\n",
              "SU3037_0112t          342\n",
              "SU2010_0112           305\n",
              "5820                   75\n",
              "cp_su3032_0112         50\n",
              "tSU3037_0112           45\n",
              "33ae015                10\n",
              "su3037_0112t            3\n",
              "5070                    3\n",
              "EST65DB01               2\n",
              "CP_SU3037_0112          1\n",
              "t-su_ritep01            1\n",
              "dtype: int64"
            ]
          },
          "metadata": {
            "tags": []
          },
          "execution_count": 7
        }
      ]
    },
    {
      "cell_type": "code",
      "metadata": {
        "id": "tZjNMNYGPlaK",
        "colab_type": "code",
        "colab": {
          "base_uri": "https://localhost:8080/",
          "height": 34
        },
        "outputId": "66430e6d-3780-4b2b-8bd4-b0ab93293c05"
      },
      "source": [
        "type(df.columns)"
      ],
      "execution_count": 11,
      "outputs": [
        {
          "output_type": "execute_result",
          "data": {
            "text/plain": [
              "dict"
            ]
          },
          "metadata": {
            "tags": []
          },
          "execution_count": 11
        }
      ]
    },
    {
      "cell_type": "code",
      "metadata": {
        "id": "GTUBPviiPt1T",
        "colab_type": "code",
        "colab": {
          "base_uri": "https://localhost:8080/",
          "height": 54
        },
        "outputId": "bdb6af7d-eaad-49b6-c644-a71ffe44dfd7"
      },
      "source": [
        "column_name=list(df.columns.keys())\n",
        "print(column_name)"
      ],
      "execution_count": 19,
      "outputs": [
        {
          "output_type": "stream",
          "text": [
            "['DEAFAULT', 'Unnamed__135', 'col_0', 'col_0_00', 'col_0_000', 'col_0_000000', 'col_0_000000_1', 'col_0_000000_2', 'col_0_000000_3', 'col_0_000_1', 'col_0_000_2', 'col_0_000_3', 'col_0_000_4', 'col_0_000_5', 'col_0_000_6', 'col_0_000_7', 'col_0_00_1', 'col_0_00_10', 'col_0_00_11', 'col_0_00_12', 'col_0_00_13', 'col_0_00_14', 'col_0_00_15', 'col_0_00_16', 'col_0_00_17', 'col_0_00_18', 'col_0_00_19', 'col_0_00_2', 'col_0_00_20', 'col_0_00_21', 'col_0_00_22', 'col_0_00_23', 'col_0_00_24', 'col_0_00_25', 'col_0_00_26', 'col_0_00_27', 'col_0_00_28', 'col_0_00_29', 'col_0_00_3', 'col_0_00_30', 'col_0_00_31', 'col_0_00_32', 'col_0_00_33', 'col_0_00_4', 'col_0_00_5', 'col_0_00_6', 'col_0_00_7', 'col_0_00_8', 'col_0_00_9', 'col_0_1', 'col_0_10', 'col_0_11', 'col_0_12', 'col_0_13', 'col_0_14', 'col_0_15', 'col_0_16', 'col_0_17', 'col_0_18', 'col_0_19', 'col_0_2', 'col_0_20', 'col_0_21', 'col_0_22', 'col_0_23', 'col_0_24', 'col_0_25', 'col_0_26', 'col_0_27', 'col_0_28', 'col_0_29', 'col_0_3', 'col_0_30', 'col_0_31', 'col_0_4', 'col_0_5', 'col_0_6', 'col_0_7', 'col_0_8', 'col_0_9', 'col_1', 'col_102_623', 'col_106_113', 'col_107_780', 'col_109_698', 'col_109_839', 'col_11', 'col_112_944', 'col_113_014', 'col_114_126', 'col_115_365', 'col_118_146', 'col_121_931', 'col_125_00', 'col_12_22_2017_8_44_4', 'col_137_23', 'col_1571_66', 'col_16_00', 'col_1_1', 'col_1_2', 'col_1_3', 'col_1_4', 'col_1_5', 'col_1_6', 'col_1_71', 'col_2', 'col_200_00', 'col_205471440', 'col_2136_23', 'col_2853_39', 'col_2_1', 'col_2_2', 'col_2_3', 'col_2_34', 'col_2_4', 'col_300', 'col_33AE015', 'col_3463_75', 'col_3967_29', 'col_4257_20', 'col_450', 'col_49_22', 'col_500_00', 'col_5126_95', 'col_5645_75', 'col_57_10', 'col_900_27', 'col_96_103']\n"
          ],
          "name": "stdout"
        }
      ]
    },
    {
      "cell_type": "code",
      "metadata": {
        "id": "c_D1vYNCuz8c",
        "colab_type": "code",
        "colab": {
          "base_uri": "https://localhost:8080/",
          "height": 54
        },
        "outputId": "44da0be6-ef1f-4cc2-ddfa-dc02ce1f97c7"
      },
      "source": [
        "print(df.get_column_names())"
      ],
      "execution_count": 18,
      "outputs": [
        {
          "output_type": "stream",
          "text": [
            "['DEAFAULT', '-1', '33AE015', '11', '12/22/2017 8:44:4', '-1.1', '0', '300', '2.34', '0.1', '450', '1.71', '0.2', '0.3', '0.00', '0.4', '0.5', '0.00.1', '0.6', '0.7', '0.00.2', '0.8', '0.9', '0.00.3', '0.10', '0.11', '0.00.4', '0.12', '0.13', '0.00.5', '49.22', '0.00.6', '0.00.7', '0.00.8', '0.00.9', '0.00.10', '0.00.11', '0.00.12', '-57.10', '137.23', '0.00.13', '0.00.14', '0.00.15', '0.00.16', '0.00.17', '0.00.18', '0.00.19', '0.00.20', '0.00.21', '0.00.22', '0.00.23', '0.00.24', '0.00.25', '16.00', '0.00.26', '0.000', '0.14', '125.00', '113.014', '0.15', '200.00', '112.944', '0.16', '500.00', '114.126', '0.17', '900.27', '121.931', '-1.2', '1571.66', '109.839', '2', '2136.23', '118.146', '-1.3', '2853.39', '106.113', '2.1', '3463.75', '115.365', '-1.4', '3967.29', '107.780', '2.2', '4257.20', '109.698', '-1.5', '5126.95', '96.103', '2.3', '5645.75', '102.623', '-1.6', '0.00.27', '0.000.1', '0.00.28', '0.000.2', '0.00.29', '0.000.3', '0.00.30', '0.000.4', '0.00.31', '0.000.5', '0.00.32', '0.000.6', '0.00.33', '0.000.7', '205471440', '2.4', '0.18', '0.19', '0.20', '0.21', '0.22', '0.23', '0.24', '0.25', '0.26', '0.27', '0.000000', '0.000000.1', '0.000000.2', '0.000000.3', '0.28', '0.29', '0.30', '0.31', 'Unnamed: 135']\n"
          ],
          "name": "stdout"
        }
      ]
    },
    {
      "cell_type": "code",
      "metadata": {
        "id": "bXHXeGLsRCE7",
        "colab_type": "code",
        "colab": {
          "base_uri": "https://localhost:8080/",
          "height": 34
        },
        "outputId": "49ba500b-bf1f-45da-f95d-5232d65f28b1"
      },
      "source": [
        "len(column_name)"
      ],
      "execution_count": null,
      "outputs": [
        {
          "output_type": "execute_result",
          "data": {
            "text/plain": [
              "128"
            ]
          },
          "metadata": {
            "tags": []
          },
          "execution_count": 41
        }
      ]
    },
    {
      "cell_type": "code",
      "metadata": {
        "id": "2F1i8-quQEZV",
        "colab_type": "code",
        "colab": {
          "base_uri": "https://localhost:8080/",
          "height": 51
        },
        "outputId": "66f644dc-ef20-4931-c175-088034a87365"
      },
      "source": [
        "%%time\n",
        "df_filter=df[df['33AE015']=='SU3037_0112'] # 2 tr rows\n",
        "df_filter"
      ],
      "execution_count": 15,
      "outputs": [
        {
          "output_type": "stream",
          "text": [
            "CPU times: user 17 ms, sys: 460 µs, total: 17.5 ms\n",
            "Wall time: 23.4 ms\n"
          ],
          "name": "stdout"
        }
      ]
    },
    {
      "cell_type": "code",
      "metadata": {
        "id": "V5Vd-Hxeu7Er",
        "colab_type": "code",
        "colab": {
          "base_uri": "https://localhost:8080/",
          "height": 51
        },
        "outputId": "26129935-97d9-4852-d5b0-b622bb6d7e25"
      },
      "source": [
        "%%time\n",
        "df_filter=df[df['col_0']=='SU3037_0112'] # 2 tr rows\n",
        "df_filter"
      ],
      "execution_count": 20,
      "outputs": [
        {
          "output_type": "stream",
          "text": [
            "CPU times: user 12.8 ms, sys: 0 ns, total: 12.8 ms\n",
            "Wall time: 17.2 ms\n"
          ],
          "name": "stdout"
        }
      ]
    },
    {
      "cell_type": "code",
      "metadata": {
        "id": "TU8TnICAvPmP",
        "colab_type": "code",
        "colab": {}
      },
      "source": [
        ""
      ],
      "execution_count": null,
      "outputs": []
    },
    {
      "cell_type": "code",
      "metadata": {
        "id": "CozfRFx_vhwB",
        "colab_type": "code",
        "colab": {}
      },
      "source": [
        "path2='/content/drive/My Drive/Data/Time_series/vix_2011_2019.csv'\n",
        "df2 = vaex.from_csv(path2,#header=None, \n",
        "                   convert=True, chunk_size=5_000_000)"
      ],
      "execution_count": 33,
      "outputs": []
    },
    {
      "cell_type": "code",
      "metadata": {
        "id": "Ql23QURPvtGj",
        "colab_type": "code",
        "colab": {
          "base_uri": "https://localhost:8080/",
          "height": 271
        },
        "outputId": "93cfd3ff-3477-4bae-dfe3-8aac22b3045f"
      },
      "source": [
        "df2"
      ],
      "execution_count": 34,
      "outputs": [
        {
          "output_type": "execute_result",
          "data": {
            "text/plain": [
              "#      Date,Open,High,Low,Close,Adj Close,Volume\n",
              "0      '2011-01-03,17.940001,17.950001,16.910000,17.610...\n",
              "1      '2011-01-04,17.340000,18.240000,17.330000,17.379...\n",
              "2      '2011-01-05,17.809999,17.950001,16.860001,17.020...\n",
              "3      '2011-01-06,16.799999,17.559999,16.790001,17.400...\n",
              "4      '2011-01-07,17.309999,18.070000,16.570000,17.139...\n",
              "...    ...\n",
              "2,063  '2019-03-18,13.130000,13.800000,13.000000,13.100...\n",
              "2,064  '2019-03-19,12.890000,13.770000,12.370000,13.560...\n",
              "2,065  '2019-03-20,13.540000,14.300000,13.050000,13.910...\n",
              "2,066  '2019-03-21,14.110000,14.560000,13.260000,13.630...\n",
              "2,067  '2019-03-22,13.770000,17.520000,13.620000,16.480..."
            ],
            "text/html": [
              "<table>\n",
              "<thead>\n",
              "<tr><th>#                                </th><th>Date,Open,High,Low,Close,Adj Close,Volume          </th></tr>\n",
              "</thead>\n",
              "<tbody>\n",
              "<tr><td><i style='opacity: 0.6'>0</i>    </td><td>&#x27;2011-01-03,17.940001,17.950001,16.910000,17.610...</td></tr>\n",
              "<tr><td><i style='opacity: 0.6'>1</i>    </td><td>&#x27;2011-01-04,17.340000,18.240000,17.330000,17.379...</td></tr>\n",
              "<tr><td><i style='opacity: 0.6'>2</i>    </td><td>&#x27;2011-01-05,17.809999,17.950001,16.860001,17.020...</td></tr>\n",
              "<tr><td><i style='opacity: 0.6'>3</i>    </td><td>&#x27;2011-01-06,16.799999,17.559999,16.790001,17.400...</td></tr>\n",
              "<tr><td><i style='opacity: 0.6'>4</i>    </td><td>&#x27;2011-01-07,17.309999,18.070000,16.570000,17.139...</td></tr>\n",
              "<tr><td>...                              </td><td>...                                                </td></tr>\n",
              "<tr><td><i style='opacity: 0.6'>2,063</i></td><td>&#x27;2019-03-18,13.130000,13.800000,13.000000,13.100...</td></tr>\n",
              "<tr><td><i style='opacity: 0.6'>2,064</i></td><td>&#x27;2019-03-19,12.890000,13.770000,12.370000,13.560...</td></tr>\n",
              "<tr><td><i style='opacity: 0.6'>2,065</i></td><td>&#x27;2019-03-20,13.540000,14.300000,13.050000,13.910...</td></tr>\n",
              "<tr><td><i style='opacity: 0.6'>2,066</i></td><td>&#x27;2019-03-21,14.110000,14.560000,13.260000,13.630...</td></tr>\n",
              "<tr><td><i style='opacity: 0.6'>2,067</i></td><td>&#x27;2019-03-22,13.770000,17.520000,13.620000,16.480...</td></tr>\n",
              "</tbody>\n",
              "</table>"
            ]
          },
          "metadata": {
            "tags": []
          },
          "execution_count": 34
        }
      ]
    },
    {
      "cell_type": "code",
      "metadata": {
        "id": "cxfJpi5Qvylc",
        "colab_type": "code",
        "colab": {
          "base_uri": "https://localhost:8080/",
          "height": 34
        },
        "outputId": "313e92c1-8e16-4002-9cdf-ed9fdd888b9e"
      },
      "source": [
        "df2.get_column_names()"
      ],
      "execution_count": 35,
      "outputs": [
        {
          "output_type": "execute_result",
          "data": {
            "text/plain": [
              "['Date,Open,High,Low,Close,Adj Close,Volume']"
            ]
          },
          "metadata": {
            "tags": []
          },
          "execution_count": 35
        }
      ]
    },
    {
      "cell_type": "code",
      "metadata": {
        "id": "qzX4hHZWv3eK",
        "colab_type": "code",
        "colab": {
          "base_uri": "https://localhost:8080/",
          "height": 323
        },
        "outputId": "d5a36fa4-1fb5-4fd3-8733-76446ae0c593"
      },
      "source": [
        "df2['Open']"
      ],
      "execution_count": 32,
      "outputs": [
        {
          "output_type": "error",
          "ename": "NameError",
          "evalue": "ignored",
          "traceback": [
            "\u001b[0;31m---------------------------------------------------------------------------\u001b[0m",
            "\u001b[0;31mNameError\u001b[0m                                 Traceback (most recent call last)",
            "\u001b[0;32m<ipython-input-32-a35bcbffb9a6>\u001b[0m in \u001b[0;36m<module>\u001b[0;34m\u001b[0m\n\u001b[0;32m----> 1\u001b[0;31m \u001b[0mdf2\u001b[0m\u001b[0;34m[\u001b[0m\u001b[0;34m'Open'\u001b[0m\u001b[0;34m]\u001b[0m\u001b[0;34m\u001b[0m\u001b[0;34m\u001b[0m\u001b[0m\n\u001b[0m",
            "\u001b[0;32m/usr/local/lib/python3.6/dist-packages/vaex/dataframe.py\u001b[0m in \u001b[0;36m__getitem__\u001b[0;34m(self, item)\u001b[0m\n\u001b[1;32m   4585\u001b[0m             \u001b[0;31m# if item in self._virtual_expressions:\u001b[0m\u001b[0;34m\u001b[0m\u001b[0;34m\u001b[0m\u001b[0;34m\u001b[0m\u001b[0m\n\u001b[1;32m   4586\u001b[0m             \u001b[0;31m#     return self._virtual_expressions[item]\u001b[0m\u001b[0;34m\u001b[0m\u001b[0;34m\u001b[0m\u001b[0;34m\u001b[0m\u001b[0m\n\u001b[0;32m-> 4587\u001b[0;31m             \u001b[0mself\u001b[0m\u001b[0;34m.\u001b[0m\u001b[0mvalidate_expression\u001b[0m\u001b[0;34m(\u001b[0m\u001b[0mitem\u001b[0m\u001b[0;34m)\u001b[0m\u001b[0;34m\u001b[0m\u001b[0;34m\u001b[0m\u001b[0m\n\u001b[0m\u001b[1;32m   4588\u001b[0m             \u001b[0;32mreturn\u001b[0m \u001b[0mExpression\u001b[0m\u001b[0;34m(\u001b[0m\u001b[0mself\u001b[0m\u001b[0;34m,\u001b[0m \u001b[0mitem\u001b[0m\u001b[0;34m)\u001b[0m  \u001b[0;31m# TODO we'd like to return the same expression if possible\u001b[0m\u001b[0;34m\u001b[0m\u001b[0;34m\u001b[0m\u001b[0m\n\u001b[1;32m   4589\u001b[0m         \u001b[0;32melif\u001b[0m \u001b[0misinstance\u001b[0m\u001b[0;34m(\u001b[0m\u001b[0mitem\u001b[0m\u001b[0;34m,\u001b[0m \u001b[0mExpression\u001b[0m\u001b[0;34m)\u001b[0m\u001b[0;34m:\u001b[0m\u001b[0;34m\u001b[0m\u001b[0;34m\u001b[0m\u001b[0m\n",
            "\u001b[0;32m/usr/local/lib/python3.6/dist-packages/vaex/dataframe.py\u001b[0m in \u001b[0;36mvalidate_expression\u001b[0;34m(self, expression)\u001b[0m\n\u001b[1;32m   2901\u001b[0m             \u001b[0;32mreturn\u001b[0m \u001b[0mvaex\u001b[0m\u001b[0;34m.\u001b[0m\u001b[0mexpresso\u001b[0m\u001b[0;34m.\u001b[0m\u001b[0mvalidate_expression\u001b[0m\u001b[0;34m(\u001b[0m\u001b[0mexpression\u001b[0m\u001b[0;34m,\u001b[0m \u001b[0mvars\u001b[0m\u001b[0;34m,\u001b[0m \u001b[0mfuncs\u001b[0m\u001b[0;34m)\u001b[0m\u001b[0;34m\u001b[0m\u001b[0;34m\u001b[0m\u001b[0m\n\u001b[1;32m   2902\u001b[0m         \u001b[0;32mexcept\u001b[0m \u001b[0mNameError\u001b[0m \u001b[0;32mas\u001b[0m \u001b[0me\u001b[0m\u001b[0;34m:\u001b[0m\u001b[0;34m\u001b[0m\u001b[0;34m\u001b[0m\u001b[0m\n\u001b[0;32m-> 2903\u001b[0;31m             \u001b[0;32mraise\u001b[0m \u001b[0mNameError\u001b[0m\u001b[0;34m(\u001b[0m\u001b[0mstr\u001b[0m\u001b[0;34m(\u001b[0m\u001b[0me\u001b[0m\u001b[0;34m)\u001b[0m\u001b[0;34m)\u001b[0m \u001b[0;32mfrom\u001b[0m \u001b[0;32mNone\u001b[0m\u001b[0;34m\u001b[0m\u001b[0;34m\u001b[0m\u001b[0m\n\u001b[0m\u001b[1;32m   2904\u001b[0m \u001b[0;34m\u001b[0m\u001b[0m\n\u001b[1;32m   2905\u001b[0m     \u001b[0;32mdef\u001b[0m \u001b[0m_block_scope\u001b[0m\u001b[0;34m(\u001b[0m\u001b[0mself\u001b[0m\u001b[0;34m,\u001b[0m \u001b[0mi1\u001b[0m\u001b[0;34m,\u001b[0m \u001b[0mi2\u001b[0m\u001b[0;34m)\u001b[0m\u001b[0;34m:\u001b[0m\u001b[0;34m\u001b[0m\u001b[0;34m\u001b[0m\u001b[0m\n",
            "\u001b[0;31mNameError\u001b[0m: Column or variable 'Open' does not exist."
          ]
        }
      ]
    },
    {
      "cell_type": "code",
      "metadata": {
        "id": "Wx_GgKAHv9HX",
        "colab_type": "code",
        "colab": {}
      },
      "source": [
        ""
      ],
      "execution_count": null,
      "outputs": []
    }
  ]
}