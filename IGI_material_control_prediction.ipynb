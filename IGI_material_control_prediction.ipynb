{
  "nbformat": 4,
  "nbformat_minor": 0,
  "metadata": {
    "kernelspec": {
      "name": "python3",
      "display_name": "Python 3",
      "language": "python"
    },
    "language_info": {
      "mimetype": "text/x-python",
      "nbconvert_exporter": "python",
      "name": "python",
      "pygments_lexer": "ipython3",
      "version": "3.5.4",
      "file_extension": ".py",
      "codemirror_mode": {
        "version": 3,
        "name": "ipython"
      }
    },
    "colab": {
      "name": "IGI_material_control_prediction.ipynb",
      "provenance": [],
      "collapsed_sections": [],
      "include_colab_link": true
    }
  },
  "cells": [
    {
      "cell_type": "markdown",
      "metadata": {
        "id": "view-in-github",
        "colab_type": "text"
      },
      "source": [
        "<a href=\"https://colab.research.google.com/github/duybluemind1988/Data-science/blob/master/IGI_material_control_prediction.ipynb\" target=\"_parent\"><img src=\"https://colab.research.google.com/assets/colab-badge.svg\" alt=\"Open In Colab\"/></a>"
      ]
    },
    {
      "cell_type": "code",
      "metadata": {
        "jupyter": {},
        "trusted": false,
        "id": "2TNQ3e-OZ7ll",
        "colab_type": "code",
        "colab": {}
      },
      "source": [
        "#!pip install altair_viewer #Need to install this package"
      ],
      "execution_count": null,
      "outputs": []
    },
    {
      "cell_type": "code",
      "metadata": {
        "id": "N4f5Cj05oRin",
        "colab_type": "code",
        "colab": {}
      },
      "source": [
        "#!pip install jupyter altair vega #No need to install this package"
      ],
      "execution_count": null,
      "outputs": []
    },
    {
      "cell_type": "code",
      "metadata": {
        "id": "aq4NBAoTZAV8",
        "colab_type": "code",
        "colab": {
          "base_uri": "https://localhost:8080/",
          "height": 68
        },
        "outputId": "4ac5a148-62a6-4335-8e64-083b8b848d03"
      },
      "source": [
        "# VERY IMPORTANT INFORMATION\n",
        "print('Please input number of feature')\n",
        "feature_num=5\n",
        "print('Please input number of sample inspection')\n",
        "sample_num=5\n",
        "print('Please input position of sample value')\n",
        "namefile='MMD2019'\n"
      ],
      "execution_count": null,
      "outputs": [
        {
          "output_type": "stream",
          "text": [
            "Please input number of feature\n",
            "Please input number of sample inspection\n",
            "Please input position of sample value\n"
          ],
          "name": "stdout"
        }
      ]
    },
    {
      "cell_type": "code",
      "metadata": {
        "id": "4nSgR7tdm2RR",
        "colab_type": "code",
        "colab": {}
      },
      "source": [
        "import seaborn as sns; sns.set()\n",
        "import pandas as pd\n",
        "import numpy as np\n",
        "import matplotlib.pyplot as plt\n",
        "\n",
        "import plotly.graph_objects as go\n",
        "from plotly.subplots import make_subplots\n",
        "import plotly.express as px\n",
        "from plotly.offline import iplot\n",
        "import pandas as pd\n",
        "import re\n",
        "import altair as alt"
      ],
      "execution_count": null,
      "outputs": []
    },
    {
      "cell_type": "code",
      "metadata": {
        "id": "JygC8Ta5D3MP",
        "colab_type": "code",
        "colab": {}
      },
      "source": [
        "#alt.renderers.enable('notebook')\n",
        "#alt.renderers.enable('mimetype')"
      ],
      "execution_count": null,
      "outputs": []
    },
    {
      "cell_type": "code",
      "metadata": {
        "jupyter": {},
        "scrolled": true,
        "trusted": false,
        "id": "VuwXOx_IZ7lx",
        "colab_type": "code",
        "colab": {
          "base_uri": "https://localhost:8080/",
          "height": 35
        },
        "outputId": "88ed6afd-27dc-406e-8428-8c93e57259b2"
      },
      "source": [
        "import os\n",
        "os.getcwd()"
      ],
      "execution_count": null,
      "outputs": [
        {
          "output_type": "execute_result",
          "data": {
            "application/vnd.google.colaboratory.intrinsic+json": {
              "type": "string"
            },
            "text/plain": [
              "'/content'"
            ]
          },
          "metadata": {
            "tags": []
          },
          "execution_count": 7
        }
      ]
    },
    {
      "cell_type": "code",
      "metadata": {
        "jupyter": {},
        "trusted": false,
        "id": "UpKpM4btZ7l8",
        "colab_type": "code",
        "colab": {}
      },
      "source": [
        "path='/content/drive/My Drive/Data/IGI material Membrane 2019/'\n",
        "#path='/content/drive/My Drive/Data science/Sonion project/IGI material Armature/'\n",
        "#path1='/content/drive/My Drive/Data/MMD 2019/'\n",
        "#path2='/content/drive/My Drive/Data/MMD 2018/'"
      ],
      "execution_count": null,
      "outputs": []
    },
    {
      "cell_type": "markdown",
      "metadata": {
        "id": "Y2HlTJydH52E",
        "colab_type": "text"
      },
      "source": [
        "### read all excel file and sort  by day"
      ]
    },
    {
      "cell_type": "code",
      "metadata": {
        "jupyter": {},
        "trusted": false,
        "id": "uy2s1BEDZ7mr",
        "colab_type": "code",
        "colab": {
          "base_uri": "https://localhost:8080/",
          "height": 34
        },
        "outputId": "266ff4c3-8a2f-4a8c-806a-2aff7dea1957"
      },
      "source": [
        "import glob\n",
        "#print(path)\n",
        "all_files=glob.glob(path + '*.xlsx')\n",
        "#sort file in directory by reverse:\n",
        "all_files = sorted(all_files, reverse = False)\n",
        "print('number of files: ',len(all_files))"
      ],
      "execution_count": null,
      "outputs": [
        {
          "output_type": "stream",
          "text": [
            "number of files:  29\n"
          ],
          "name": "stdout"
        }
      ]
    },
    {
      "cell_type": "markdown",
      "metadata": {
        "id": "2f5dUwV1ISOF",
        "colab_type": "text"
      },
      "source": [
        "### Initial number of feature and sample:"
      ]
    },
    {
      "cell_type": "markdown",
      "metadata": {
        "id": "Katnq8DygEj0",
        "colab_type": "text"
      },
      "source": [
        "### add all dataframe to list of dataframe:"
      ]
    },
    {
      "cell_type": "code",
      "metadata": {
        "id": "CAyq344uIHIQ",
        "colab_type": "code",
        "colab": {
          "base_uri": "https://localhost:8080/",
          "height": 538
        },
        "outputId": "ebb085a9-d03c-4fc7-9517-606df862f608"
      },
      "source": [
        "finaldf=pd.DataFrame()\n",
        "for filename in all_files:\n",
        "    df = pd.read_excel(filename, index_col = None, header = 0)\n",
        "    #Create data frame feature values(newdf)\n",
        "    newdf=pd.DataFrame()\n",
        "    for i in range(feature_num+1)[1:]:\n",
        "      df_feature= df['Unnamed: '+str(i)][19:(19+sample_num)] #must be = 19 + sample_num /24 la mac dinh\n",
        "      df_feature=df_feature.reset_index(drop=True)\n",
        "      newdf=pd.concat([newdf,df_feature],axis=1)\n",
        "    #print(newdf)  \n",
        "\n",
        "    #Date transform:\n",
        "    a=df[['Unnamed: 7']][3:4] #object type - normal is [2:3]\n",
        "    if a.isna().values:\n",
        "      a=df[['Unnamed: 7']][2:3]\n",
        "      date = a.values[0][0] #timestamp type\n",
        "    else:\n",
        "      date = a.values[0][0] #timestamp type\n",
        "    if isinstance(date, str):\n",
        "      continue\n",
        "    #Create series date column (row = number of value to record, default = 5)\n",
        "    date=pd.Series(date)\n",
        "    datedf=pd.DataFrame()\n",
        "    for i in range(sample_num):\n",
        "      datedf=pd.concat([datedf,date],axis=0)\n",
        "\n",
        "    datedf.reset_index(drop=True, inplace=True)\n",
        "    newdf.reset_index(drop=True, inplace=True)\n",
        "    df_combine=pd.concat([datedf,newdf],axis=1) # combine date and features\n",
        "\n",
        "    #combine all df each filename:\n",
        "    \n",
        "    finaldf=pd.concat([finaldf,df_combine],axis=0)\n",
        "print(finaldf.isnull().sum())\n",
        "finaldf.reset_index(drop=True,inplace=True)\n",
        "finaldf.sort_values(by=finaldf.columns[0])\n",
        "finaldf"
      ],
      "execution_count": null,
      "outputs": [
        {
          "output_type": "stream",
          "text": [
            "0             0\n",
            "Unnamed: 1    0\n",
            "Unnamed: 2    0\n",
            "Unnamed: 3    0\n",
            "Unnamed: 4    0\n",
            "Unnamed: 5    0\n",
            "dtype: int64\n"
          ],
          "name": "stdout"
        },
        {
          "output_type": "execute_result",
          "data": {
            "text/html": [
              "<div>\n",
              "<style scoped>\n",
              "    .dataframe tbody tr th:only-of-type {\n",
              "        vertical-align: middle;\n",
              "    }\n",
              "\n",
              "    .dataframe tbody tr th {\n",
              "        vertical-align: top;\n",
              "    }\n",
              "\n",
              "    .dataframe thead th {\n",
              "        text-align: right;\n",
              "    }\n",
              "</style>\n",
              "<table border=\"1\" class=\"dataframe\">\n",
              "  <thead>\n",
              "    <tr style=\"text-align: right;\">\n",
              "      <th></th>\n",
              "      <th>0</th>\n",
              "      <th>Unnamed: 1</th>\n",
              "      <th>Unnamed: 2</th>\n",
              "      <th>Unnamed: 3</th>\n",
              "      <th>Unnamed: 4</th>\n",
              "      <th>Unnamed: 5</th>\n",
              "    </tr>\n",
              "  </thead>\n",
              "  <tbody>\n",
              "    <tr>\n",
              "      <th>0</th>\n",
              "      <td>2019-01-11</td>\n",
              "      <td>10.003</td>\n",
              "      <td>1.219</td>\n",
              "      <td>3.197</td>\n",
              "      <td>11.855</td>\n",
              "      <td>0.31</td>\n",
              "    </tr>\n",
              "    <tr>\n",
              "      <th>1</th>\n",
              "      <td>2019-01-11</td>\n",
              "      <td>10.005</td>\n",
              "      <td>1.219</td>\n",
              "      <td>3.19</td>\n",
              "      <td>11.855</td>\n",
              "      <td>0.31</td>\n",
              "    </tr>\n",
              "    <tr>\n",
              "      <th>2</th>\n",
              "      <td>2019-01-11</td>\n",
              "      <td>10.005</td>\n",
              "      <td>1.219</td>\n",
              "      <td>3.194</td>\n",
              "      <td>11.852</td>\n",
              "      <td>0.31</td>\n",
              "    </tr>\n",
              "    <tr>\n",
              "      <th>3</th>\n",
              "      <td>2019-01-11</td>\n",
              "      <td>10.002</td>\n",
              "      <td>1.218</td>\n",
              "      <td>3.198</td>\n",
              "      <td>11.855</td>\n",
              "      <td>0.311</td>\n",
              "    </tr>\n",
              "    <tr>\n",
              "      <th>4</th>\n",
              "      <td>2019-01-11</td>\n",
              "      <td>10.003</td>\n",
              "      <td>1.219</td>\n",
              "      <td>3.19</td>\n",
              "      <td>11.85</td>\n",
              "      <td>0.31</td>\n",
              "    </tr>\n",
              "    <tr>\n",
              "      <th>...</th>\n",
              "      <td>...</td>\n",
              "      <td>...</td>\n",
              "      <td>...</td>\n",
              "      <td>...</td>\n",
              "      <td>...</td>\n",
              "      <td>...</td>\n",
              "    </tr>\n",
              "    <tr>\n",
              "      <th>140</th>\n",
              "      <td>2019-12-31</td>\n",
              "      <td>9.991</td>\n",
              "      <td>1.218</td>\n",
              "      <td>3.199</td>\n",
              "      <td>11.85</td>\n",
              "      <td>0.313</td>\n",
              "    </tr>\n",
              "    <tr>\n",
              "      <th>141</th>\n",
              "      <td>2019-12-31</td>\n",
              "      <td>9.999</td>\n",
              "      <td>1.218</td>\n",
              "      <td>3.204</td>\n",
              "      <td>11.849</td>\n",
              "      <td>0.314</td>\n",
              "    </tr>\n",
              "    <tr>\n",
              "      <th>142</th>\n",
              "      <td>2019-12-31</td>\n",
              "      <td>10.003</td>\n",
              "      <td>1.219</td>\n",
              "      <td>3.202</td>\n",
              "      <td>11.847</td>\n",
              "      <td>0.313</td>\n",
              "    </tr>\n",
              "    <tr>\n",
              "      <th>143</th>\n",
              "      <td>2019-12-31</td>\n",
              "      <td>10.002</td>\n",
              "      <td>1.219</td>\n",
              "      <td>3.201</td>\n",
              "      <td>11.847</td>\n",
              "      <td>0.312</td>\n",
              "    </tr>\n",
              "    <tr>\n",
              "      <th>144</th>\n",
              "      <td>2019-12-31</td>\n",
              "      <td>10.002</td>\n",
              "      <td>1.218</td>\n",
              "      <td>3.201</td>\n",
              "      <td>11.848</td>\n",
              "      <td>0.312</td>\n",
              "    </tr>\n",
              "  </tbody>\n",
              "</table>\n",
              "<p>145 rows × 6 columns</p>\n",
              "</div>"
            ],
            "text/plain": [
              "             0 Unnamed: 1 Unnamed: 2 Unnamed: 3 Unnamed: 4 Unnamed: 5\n",
              "0   2019-01-11     10.003      1.219      3.197     11.855       0.31\n",
              "1   2019-01-11     10.005      1.219       3.19     11.855       0.31\n",
              "2   2019-01-11     10.005      1.219      3.194     11.852       0.31\n",
              "3   2019-01-11     10.002      1.218      3.198     11.855      0.311\n",
              "4   2019-01-11     10.003      1.219       3.19      11.85       0.31\n",
              "..         ...        ...        ...        ...        ...        ...\n",
              "140 2019-12-31      9.991      1.218      3.199      11.85      0.313\n",
              "141 2019-12-31      9.999      1.218      3.204     11.849      0.314\n",
              "142 2019-12-31     10.003      1.219      3.202     11.847      0.313\n",
              "143 2019-12-31     10.002      1.219      3.201     11.847      0.312\n",
              "144 2019-12-31     10.002      1.218      3.201     11.848      0.312\n",
              "\n",
              "[145 rows x 6 columns]"
            ]
          },
          "metadata": {
            "tags": []
          },
          "execution_count": 10
        }
      ]
    },
    {
      "cell_type": "code",
      "metadata": {
        "id": "Lc8OQM0qYowQ",
        "colab_type": "code",
        "colab": {}
      },
      "source": [
        "#finaldf.to_csv('finaldfMMD.csv')"
      ],
      "execution_count": null,
      "outputs": []
    },
    {
      "cell_type": "code",
      "metadata": {
        "id": "QVnzsVsox9in",
        "colab_type": "code",
        "colab": {
          "base_uri": "https://localhost:8080/",
          "height": 419
        },
        "outputId": "fa38c114-8ccd-4ac6-b522-65ea29ef0234"
      },
      "source": [
        "finaldf.dropna(inplace=True)\n",
        "finaldf  "
      ],
      "execution_count": null,
      "outputs": [
        {
          "output_type": "execute_result",
          "data": {
            "text/html": [
              "<div>\n",
              "<style scoped>\n",
              "    .dataframe tbody tr th:only-of-type {\n",
              "        vertical-align: middle;\n",
              "    }\n",
              "\n",
              "    .dataframe tbody tr th {\n",
              "        vertical-align: top;\n",
              "    }\n",
              "\n",
              "    .dataframe thead th {\n",
              "        text-align: right;\n",
              "    }\n",
              "</style>\n",
              "<table border=\"1\" class=\"dataframe\">\n",
              "  <thead>\n",
              "    <tr style=\"text-align: right;\">\n",
              "      <th></th>\n",
              "      <th>0</th>\n",
              "      <th>Unnamed: 1</th>\n",
              "      <th>Unnamed: 2</th>\n",
              "      <th>Unnamed: 3</th>\n",
              "      <th>Unnamed: 4</th>\n",
              "      <th>Unnamed: 5</th>\n",
              "    </tr>\n",
              "  </thead>\n",
              "  <tbody>\n",
              "    <tr>\n",
              "      <th>0</th>\n",
              "      <td>2019-01-11</td>\n",
              "      <td>10.003</td>\n",
              "      <td>1.219</td>\n",
              "      <td>3.197</td>\n",
              "      <td>11.855</td>\n",
              "      <td>0.31</td>\n",
              "    </tr>\n",
              "    <tr>\n",
              "      <th>1</th>\n",
              "      <td>2019-01-11</td>\n",
              "      <td>10.005</td>\n",
              "      <td>1.219</td>\n",
              "      <td>3.19</td>\n",
              "      <td>11.855</td>\n",
              "      <td>0.31</td>\n",
              "    </tr>\n",
              "    <tr>\n",
              "      <th>2</th>\n",
              "      <td>2019-01-11</td>\n",
              "      <td>10.005</td>\n",
              "      <td>1.219</td>\n",
              "      <td>3.194</td>\n",
              "      <td>11.852</td>\n",
              "      <td>0.31</td>\n",
              "    </tr>\n",
              "    <tr>\n",
              "      <th>3</th>\n",
              "      <td>2019-01-11</td>\n",
              "      <td>10.002</td>\n",
              "      <td>1.218</td>\n",
              "      <td>3.198</td>\n",
              "      <td>11.855</td>\n",
              "      <td>0.311</td>\n",
              "    </tr>\n",
              "    <tr>\n",
              "      <th>4</th>\n",
              "      <td>2019-01-11</td>\n",
              "      <td>10.003</td>\n",
              "      <td>1.219</td>\n",
              "      <td>3.19</td>\n",
              "      <td>11.85</td>\n",
              "      <td>0.31</td>\n",
              "    </tr>\n",
              "    <tr>\n",
              "      <th>...</th>\n",
              "      <td>...</td>\n",
              "      <td>...</td>\n",
              "      <td>...</td>\n",
              "      <td>...</td>\n",
              "      <td>...</td>\n",
              "      <td>...</td>\n",
              "    </tr>\n",
              "    <tr>\n",
              "      <th>140</th>\n",
              "      <td>2019-12-31</td>\n",
              "      <td>9.991</td>\n",
              "      <td>1.218</td>\n",
              "      <td>3.199</td>\n",
              "      <td>11.85</td>\n",
              "      <td>0.313</td>\n",
              "    </tr>\n",
              "    <tr>\n",
              "      <th>141</th>\n",
              "      <td>2019-12-31</td>\n",
              "      <td>9.999</td>\n",
              "      <td>1.218</td>\n",
              "      <td>3.204</td>\n",
              "      <td>11.849</td>\n",
              "      <td>0.314</td>\n",
              "    </tr>\n",
              "    <tr>\n",
              "      <th>142</th>\n",
              "      <td>2019-12-31</td>\n",
              "      <td>10.003</td>\n",
              "      <td>1.219</td>\n",
              "      <td>3.202</td>\n",
              "      <td>11.847</td>\n",
              "      <td>0.313</td>\n",
              "    </tr>\n",
              "    <tr>\n",
              "      <th>143</th>\n",
              "      <td>2019-12-31</td>\n",
              "      <td>10.002</td>\n",
              "      <td>1.219</td>\n",
              "      <td>3.201</td>\n",
              "      <td>11.847</td>\n",
              "      <td>0.312</td>\n",
              "    </tr>\n",
              "    <tr>\n",
              "      <th>144</th>\n",
              "      <td>2019-12-31</td>\n",
              "      <td>10.002</td>\n",
              "      <td>1.218</td>\n",
              "      <td>3.201</td>\n",
              "      <td>11.848</td>\n",
              "      <td>0.312</td>\n",
              "    </tr>\n",
              "  </tbody>\n",
              "</table>\n",
              "<p>145 rows × 6 columns</p>\n",
              "</div>"
            ],
            "text/plain": [
              "             0 Unnamed: 1 Unnamed: 2 Unnamed: 3 Unnamed: 4 Unnamed: 5\n",
              "0   2019-01-11     10.003      1.219      3.197     11.855       0.31\n",
              "1   2019-01-11     10.005      1.219       3.19     11.855       0.31\n",
              "2   2019-01-11     10.005      1.219      3.194     11.852       0.31\n",
              "3   2019-01-11     10.002      1.218      3.198     11.855      0.311\n",
              "4   2019-01-11     10.003      1.219       3.19      11.85       0.31\n",
              "..         ...        ...        ...        ...        ...        ...\n",
              "140 2019-12-31      9.991      1.218      3.199      11.85      0.313\n",
              "141 2019-12-31      9.999      1.218      3.204     11.849      0.314\n",
              "142 2019-12-31     10.003      1.219      3.202     11.847      0.313\n",
              "143 2019-12-31     10.002      1.219      3.201     11.847      0.312\n",
              "144 2019-12-31     10.002      1.218      3.201     11.848      0.312\n",
              "\n",
              "[145 rows x 6 columns]"
            ]
          },
          "metadata": {
            "tags": []
          },
          "execution_count": 12
        }
      ]
    },
    {
      "cell_type": "code",
      "metadata": {
        "id": "MZt727wVQzH1",
        "colab_type": "code",
        "colab": {
          "base_uri": "https://localhost:8080/",
          "height": 142
        },
        "outputId": "ace6a738-9e31-49af-e30d-dc402f605160"
      },
      "source": [
        "finaldf.reset_index(drop=True,inplace=True)\n",
        "column_name=[]\n",
        "column_name.append('Datef')\n",
        "for i in range(feature_num+1)[1:]:\n",
        "  #print(df['Unnamed: '+str(i)][7])\n",
        "  namecolumn_temp=df['Unnamed: '+str(i)][7]\n",
        "  namecolumn_temp=namecolumn_temp.replace('.','')\n",
        "  column_name.append(namecolumn_temp)\n",
        "finaldf.columns=column_name\n",
        "finaldf.sort_values(by='Datef') #sort dated , not depend on file sorting\n",
        "for name in finaldf.columns[1:]:\n",
        "  try:\n",
        "    finaldf[name]=finaldf[name].astype(float)\n",
        "  except:\n",
        "    continue\n",
        "finaldf[:3] "
      ],
      "execution_count": null,
      "outputs": [
        {
          "output_type": "execute_result",
          "data": {
            "text/html": [
              "<div>\n",
              "<style scoped>\n",
              "    .dataframe tbody tr th:only-of-type {\n",
              "        vertical-align: middle;\n",
              "    }\n",
              "\n",
              "    .dataframe tbody tr th {\n",
              "        vertical-align: top;\n",
              "    }\n",
              "\n",
              "    .dataframe thead th {\n",
              "        text-align: right;\n",
              "    }\n",
              "</style>\n",
              "<table border=\"1\" class=\"dataframe\">\n",
              "  <thead>\n",
              "    <tr style=\"text-align: right;\">\n",
              "      <th></th>\n",
              "      <th>Datef</th>\n",
              "      <th>C-Pitch</th>\n",
              "      <th>J</th>\n",
              "      <th>I</th>\n",
              "      <th>O</th>\n",
              "      <th>Z</th>\n",
              "    </tr>\n",
              "  </thead>\n",
              "  <tbody>\n",
              "    <tr>\n",
              "      <th>0</th>\n",
              "      <td>2019-01-11</td>\n",
              "      <td>10.003</td>\n",
              "      <td>1.219</td>\n",
              "      <td>3.197</td>\n",
              "      <td>11.855</td>\n",
              "      <td>0.31</td>\n",
              "    </tr>\n",
              "    <tr>\n",
              "      <th>1</th>\n",
              "      <td>2019-01-11</td>\n",
              "      <td>10.005</td>\n",
              "      <td>1.219</td>\n",
              "      <td>3.190</td>\n",
              "      <td>11.855</td>\n",
              "      <td>0.31</td>\n",
              "    </tr>\n",
              "    <tr>\n",
              "      <th>2</th>\n",
              "      <td>2019-01-11</td>\n",
              "      <td>10.005</td>\n",
              "      <td>1.219</td>\n",
              "      <td>3.194</td>\n",
              "      <td>11.852</td>\n",
              "      <td>0.31</td>\n",
              "    </tr>\n",
              "  </tbody>\n",
              "</table>\n",
              "</div>"
            ],
            "text/plain": [
              "       Datef  C-Pitch      J      I       O     Z\n",
              "0 2019-01-11   10.003  1.219  3.197  11.855  0.31\n",
              "1 2019-01-11   10.005  1.219  3.190  11.855  0.31\n",
              "2 2019-01-11   10.005  1.219  3.194  11.852  0.31"
            ]
          },
          "metadata": {
            "tags": []
          },
          "execution_count": 13
        }
      ]
    },
    {
      "cell_type": "code",
      "metadata": {
        "id": "cudGc6fCSeCJ",
        "colab_type": "code",
        "colab": {
          "base_uri": "https://localhost:8080/",
          "height": 136
        },
        "outputId": "2c978fff-0d92-45ac-9dac-fc07bddfae43"
      },
      "source": [
        "finaldf.dtypes"
      ],
      "execution_count": null,
      "outputs": [
        {
          "output_type": "execute_result",
          "data": {
            "text/plain": [
              "Datef      datetime64[ns]\n",
              "C-Pitch           float64\n",
              "J                 float64\n",
              "I                 float64\n",
              "O                 float64\n",
              "Z                 float64\n",
              "dtype: object"
            ]
          },
          "metadata": {
            "tags": []
          },
          "execution_count": 14
        }
      ]
    },
    {
      "cell_type": "code",
      "metadata": {
        "id": "7f9gsVIkXDwx",
        "colab_type": "code",
        "colab": {
          "base_uri": "https://localhost:8080/",
          "height": 136
        },
        "outputId": "1fc2550c-3a04-407d-ce58-1d65574692ba"
      },
      "source": [
        "finaldf = finaldf.select_dtypes(exclude=['object'])\n",
        "finaldf.dtypes"
      ],
      "execution_count": null,
      "outputs": [
        {
          "output_type": "execute_result",
          "data": {
            "text/plain": [
              "Datef      datetime64[ns]\n",
              "C-Pitch           float64\n",
              "J                 float64\n",
              "I                 float64\n",
              "O                 float64\n",
              "Z                 float64\n",
              "dtype: object"
            ]
          },
          "metadata": {
            "tags": []
          },
          "execution_count": 15
        }
      ]
    },
    {
      "cell_type": "markdown",
      "metadata": {
        "id": "okA0XAlqOOas",
        "colab_type": "text"
      },
      "source": [
        "### set up tolerance dict:USL,LSL,Nominal"
      ]
    },
    {
      "cell_type": "code",
      "metadata": {
        "jupyter": {},
        "trusted": false,
        "id": "MH1E6C7gZ7my",
        "colab_type": "code",
        "colab": {
          "base_uri": "https://localhost:8080/",
          "height": 102
        },
        "outputId": "ef13a58d-9636-4fe6-83e5-daff09624fde"
      },
      "source": [
        "#set up tolerance dict:USL,LSL,Nominal\n",
        "#Tolerance set up when not drop object type column, not reflect exactly tolerance vs data analysis\n",
        "tolerance={}\n",
        "for column in df.columns[1:(feature_num+1)]:\n",
        "    namecolumn_temp=df[column][7] #df: dataframe latest in for loop\n",
        "    namecolumn_temp=namecolumn_temp.replace('.','')\n",
        "    tolerance[namecolumn_temp] =[df[column][9],df[column][10],df[column][15]]\n",
        "tolerance"
      ],
      "execution_count": null,
      "outputs": [
        {
          "output_type": "execute_result",
          "data": {
            "text/plain": [
              "{'C-Pitch': [10.01, 9.99, 10],\n",
              " 'I': [3.21, 3.1900000000000004, 3.2],\n",
              " 'J': [1.22, 1.21, 1.21],\n",
              " 'O': [11.86, 11.84, 11.85],\n",
              " 'Z': [0.32, 0.27999999999999997, 0.3]}"
            ]
          },
          "metadata": {
            "tags": []
          },
          "execution_count": 16
        }
      ]
    },
    {
      "cell_type": "code",
      "metadata": {
        "jupyter": {},
        "scrolled": true,
        "trusted": false,
        "id": "BFap3Cp4Z7m4",
        "colab_type": "code",
        "colab": {
          "base_uri": "https://localhost:8080/",
          "height": 102
        },
        "outputId": "0f52f7c8-1edd-439a-c2c5-63ca7968c49e"
      },
      "source": [
        "#Create list of dataframe, combine feature value and USL,LSL, Nominal\n",
        "DFdict={}\n",
        "for name in finaldf.columns[1:]:\n",
        "    print('Chart: ',name)\n",
        "        \n",
        "    #Create series USL:\n",
        "    USL = tolerance[name][0]\n",
        "    USL=pd.Series(USL)\n",
        "    s1=pd.DataFrame()\n",
        "    for i in range(len(finaldf)):\n",
        "      s1=pd.concat([s1,USL],axis=0)\n",
        "    s1.rename(columns={0:'USL'},inplace=True)\n",
        "    \n",
        "    #Create series LSL:\n",
        "    LSL = tolerance[name][1]\n",
        "    LSL=pd.Series(LSL)\n",
        "    s2=pd.DataFrame()\n",
        "    for i in range(len(finaldf)):\n",
        "      s2=pd.concat([s2,LSL],axis=0)\n",
        "    s2.rename(columns={0:'LSL'},inplace=True)\n",
        "    \n",
        "    #Create series nominal:\n",
        "    nominal = tolerance[name][2]\n",
        "    nominal=pd.Series(nominal)\n",
        "    s3=pd.DataFrame()\n",
        "    for i in range(len(finaldf)):\n",
        "      s3=pd.concat([s3,nominal],axis=0)\n",
        "    s3.rename(columns={0:'Nominal'},inplace=True)\n",
        "    \n",
        "    #combine Date,feature, LSL,USL,nominal to finaldataframe (for each feature):\n",
        "    finaldf['Datef'].reset_index(drop=True,inplace=True)\n",
        "    finaldf[name].reset_index(drop=True,inplace=True)\n",
        "    s1.reset_index(drop=True,inplace=True)\n",
        "    s2.reset_index(drop=True,inplace=True)\n",
        "    s3.reset_index(drop=True,inplace=True)\n",
        "    df_temp = pd.concat([finaldf['Datef'],finaldf[name],s1,s2,s3],axis=1)  \n",
        "\n",
        "    #Create dict of dataframe for each feature columns:\n",
        "    DFdict[name]=df_temp # Include Date, name, USL, LSL, nominal each parameter(J, I, O or Z...)\n",
        "    #print(DFdict[name][:3])\n",
        "    "
      ],
      "execution_count": null,
      "outputs": [
        {
          "output_type": "stream",
          "text": [
            "Chart:  C-Pitch\n",
            "Chart:  J\n",
            "Chart:  I\n",
            "Chart:  O\n",
            "Chart:  Z\n"
          ],
          "name": "stdout"
        }
      ]
    },
    {
      "cell_type": "code",
      "metadata": {
        "id": "8NdFSyd1k3Yz",
        "colab_type": "code",
        "colab": {
          "base_uri": "https://localhost:8080/",
          "height": 459
        },
        "outputId": "e24331bb-e75b-432c-c858-4d0c36c58fbb"
      },
      "source": [
        "print(DFdict.keys())\n",
        "#df=DFdict['J']\n",
        "#print(df.columns)\n",
        "for name in DFdict.keys():\n",
        "  print(name)\n",
        "  print(DFdict[name][:3])"
      ],
      "execution_count": null,
      "outputs": [
        {
          "output_type": "stream",
          "text": [
            "dict_keys(['C-Pitch', 'J', 'I', 'O', 'Z'])\n",
            "C-Pitch\n",
            "       Datef  C-Pitch    USL   LSL  Nominal\n",
            "0 2019-01-11   10.003  10.01  9.99     10.0\n",
            "1 2019-01-11   10.005  10.01  9.99     10.0\n",
            "2 2019-01-11   10.005  10.01  9.99     10.0\n",
            "J\n",
            "       Datef      J   USL   LSL  Nominal\n",
            "0 2019-01-11  1.219  1.22  1.21     1.21\n",
            "1 2019-01-11  1.219  1.22  1.21     1.21\n",
            "2 2019-01-11  1.219  1.22  1.21     1.21\n",
            "I\n",
            "       Datef      I   USL   LSL  Nominal\n",
            "0 2019-01-11  3.197  3.21  3.19      3.2\n",
            "1 2019-01-11  3.190  3.21  3.19      3.2\n",
            "2 2019-01-11  3.194  3.21  3.19      3.2\n",
            "O\n",
            "       Datef       O    USL    LSL  Nominal\n",
            "0 2019-01-11  11.855  11.86  11.84    11.85\n",
            "1 2019-01-11  11.855  11.86  11.84    11.85\n",
            "2 2019-01-11  11.852  11.86  11.84    11.85\n",
            "Z\n",
            "       Datef     Z   USL   LSL  Nominal\n",
            "0 2019-01-11  0.31  0.32  0.28      0.3\n",
            "1 2019-01-11  0.31  0.32  0.28      0.3\n",
            "2 2019-01-11  0.31  0.32  0.28      0.3\n"
          ],
          "name": "stdout"
        }
      ]
    },
    {
      "cell_type": "code",
      "metadata": {
        "id": "X_T2eWq0jvZy",
        "colab_type": "code",
        "colab": {}
      },
      "source": [
        "DFdict_final={}\n",
        "for name in DFdict.keys():\n",
        "  df=DFdict[name].copy()\n",
        "  df_group=df.groupby('Datef').mean() # mean value by Date\n",
        "  df_group.reset_index(inplace=True)\n",
        "\n",
        "  value_name=df_group.columns[1] #'C-Pitch', 'J', 'I', 'O', 'Z'\n",
        "  df_group[value_name] = df_group[value_name].round(decimals=3)\n",
        "  #---------------------------------------------------------------#\n",
        "\n",
        "  # Create a selection that chooses the nearest point & selects based on x-value\n",
        "  #UCL,LCL,nominal:\n",
        "  sigma=3\n",
        "  df_final = df_group.assign(\n",
        "                UCL=df_group[value_name].mean() + df_group[value_name].std()*sigma,\n",
        "                LCL=df_group[value_name].mean() - df_group[value_name].std()*sigma,\n",
        "                mean=df_group[value_name].mean())\n",
        "  DFdict_final[name]=df_final"
      ],
      "execution_count": null,
      "outputs": []
    },
    {
      "cell_type": "code",
      "metadata": {
        "id": "wb397bvYnWuo",
        "colab_type": "code",
        "colab": {
          "base_uri": "https://localhost:8080/",
          "height": 459
        },
        "outputId": "c8703b57-9d9f-4023-f643-071aa6d74ce4"
      },
      "source": [
        "print(DFdict_final.keys())\n",
        "#df=DFdict['J']\n",
        "#print(df.columns)\n",
        "for name in DFdict_final.keys():\n",
        "  print(name)\n",
        "  print(DFdict_final[name][:3])"
      ],
      "execution_count": null,
      "outputs": [
        {
          "output_type": "stream",
          "text": [
            "dict_keys(['C-Pitch', 'J', 'I', 'O', 'Z'])\n",
            "C-Pitch\n",
            "       Datef  C-Pitch    USL   LSL  Nominal        UCL       LCL       mean\n",
            "0 2019-01-11   10.004  10.01  9.99     10.0  10.006001  9.997142  10.001571\n",
            "1 2019-01-22   10.001  10.01  9.99     10.0  10.006001  9.997142  10.001571\n",
            "2 2019-01-26   10.002  10.01  9.99     10.0  10.006001  9.997142  10.001571\n",
            "J\n",
            "       Datef      J   USL   LSL  Nominal       UCL       LCL      mean\n",
            "0 2019-01-11  1.219  1.22  1.21     1.21  1.222084  1.216344  1.219214\n",
            "1 2019-01-22  1.219  1.22  1.21     1.21  1.222084  1.216344  1.219214\n",
            "2 2019-01-26  1.220  1.22  1.21     1.21  1.222084  1.216344  1.219214\n",
            "I\n",
            "       Datef      I   USL   LSL  Nominal       UCL       LCL      mean\n",
            "0 2019-01-11  3.194  3.21  3.19      3.2  3.206102  3.191327  3.198714\n",
            "1 2019-01-22  3.199  3.21  3.19      3.2  3.206102  3.191327  3.198714\n",
            "2 2019-01-26  3.200  3.21  3.19      3.2  3.206102  3.191327  3.198714\n",
            "O\n",
            "       Datef       O    USL    LSL  Nominal        UCL        LCL       mean\n",
            "0 2019-01-11  11.853  11.86  11.84    11.85  11.862448  11.843409  11.852929\n",
            "1 2019-01-22  11.852  11.86  11.84    11.85  11.862448  11.843409  11.852929\n",
            "2 2019-01-26  11.853  11.86  11.84    11.85  11.862448  11.843409  11.852929\n",
            "Z\n",
            "       Datef      Z   USL   LSL  Nominal       UCL       LCL      mean\n",
            "0 2019-01-11  0.310  0.32  0.28      0.3  0.317891  0.306895  0.312393\n",
            "1 2019-01-22  0.311  0.32  0.28      0.3  0.317891  0.306895  0.312393\n",
            "2 2019-01-26  0.311  0.32  0.28      0.3  0.317891  0.306895  0.312393\n"
          ],
          "name": "stdout"
        }
      ]
    },
    {
      "cell_type": "markdown",
      "metadata": {
        "id": "SFfsyAvj9ksN",
        "colab_type": "text"
      },
      "source": [
        "### Line chart plotly"
      ]
    },
    {
      "cell_type": "code",
      "metadata": {
        "id": "HiJ1RZujQXqE",
        "colab_type": "code",
        "colab": {
          "base_uri": "https://localhost:8080/",
          "height": 1000
        },
        "outputId": "ce6c2bca-f27c-4446-8f78-ef55ebdd7086"
      },
      "source": [
        "i=1\n",
        "#Layout\n",
        "fig = make_subplots(\n",
        "    rows=len(DFdict_final), cols=1,\n",
        "    #shared_xaxes=True,\n",
        "    #vertical_spacing=0.03,\n",
        "    #column_widths=[0.8, 0.2],\n",
        "    #subplot_titles=(\"Line plot \"+name)\n",
        ")\n",
        "for name in DFdict_final.keys(): #also group\n",
        "  df=DFdict_final[name].copy()\n",
        "  df=df.sort_values(by=['Datef'])\n",
        "  for a in df.columns[1:]:\n",
        "    df[a] = df[a].round(decimals=3)\n",
        "\n",
        "  #Control chart 1 \n",
        "  fig.append_trace(go.Scatter(\n",
        "                          x=df['Datef'], y=df[name],\n",
        "                          mode='lines+markers',\n",
        "                          name='mean ' + name,line=dict( color='#4280F5')\n",
        "                          ),row=i, col=1\n",
        "                )\n",
        "  #USL, LSL\n",
        "  fig.append_trace(go.Scatter(x=df['Datef'], y=df['USL'],name='USL '+name, line=dict( color='#FF5733')),row=i, col=1)\n",
        "  fig.append_trace(go.Scatter(x=df['Datef'], y=df['LSL'],name='LSL '+name,line=dict( color='#FF5733')),row=i, col=1)\n",
        "  fig.append_trace(go.Scatter(x=df['Datef'], y=df['Nominal'],name='Nominal '+name,line=dict( color='#FF5733')),row=i, col=1)\n",
        "  # UCL, LCL\n",
        "  fig.append_trace(go.Scatter(x=df['Datef'], y=df['UCL'],name='UCL '+name, line=dict( color='#33C2FF')),row=i, col=1)\n",
        "  fig.append_trace(go.Scatter(x=df['Datef'], y=df['LCL'],name='LCL '+name, line=dict( color='#33C2FF')),row=i, col=1)\n",
        "  fig.append_trace(go.Scatter(x=df['Datef'], y=df['mean'],name='mean '+name, line=dict( color='#33C2FF')),row=i, col=1)\n",
        "\n",
        "  #Final layout:\n",
        "  #fig.update_layout(height=400, width=1400, title_text='Line chart'+name)\n",
        "  i=i+1\n",
        "  \n",
        "fig.update_layout(height=300*len(DFdict_final), width=1200, title_text='Line chart')\n",
        "fig.show()"
      ],
      "execution_count": null,
      "outputs": [
        {
          "output_type": "display_data",
          "data": {
            "text/html": [
              "<html>\n",
              "<head><meta charset=\"utf-8\" /></head>\n",
              "<body>\n",
              "    <div>\n",
              "            <script src=\"https://cdnjs.cloudflare.com/ajax/libs/mathjax/2.7.5/MathJax.js?config=TeX-AMS-MML_SVG\"></script><script type=\"text/javascript\">if (window.MathJax) {MathJax.Hub.Config({SVG: {font: \"STIX-Web\"}});}</script>\n",
              "                <script type=\"text/javascript\">window.PlotlyConfig = {MathJaxConfig: 'local'};</script>\n",
              "        <script src=\"https://cdn.plot.ly/plotly-latest.min.js\"></script>    \n",
              "            <div id=\"881d6db2-ea74-4641-88f9-c90c2c0d449b\" class=\"plotly-graph-div\" style=\"height:1500px; width:1200px;\"></div>\n",
              "            <script type=\"text/javascript\">\n",
              "                \n",
              "                    window.PLOTLYENV=window.PLOTLYENV || {};\n",
              "                    \n",
              "                if (document.getElementById(\"881d6db2-ea74-4641-88f9-c90c2c0d449b\")) {\n",
              "                    Plotly.newPlot(\n",
              "                        '881d6db2-ea74-4641-88f9-c90c2c0d449b',\n",
              "                        [{\"line\": {\"color\": \"#4280F5\"}, \"mode\": \"lines+markers\", \"name\": \"mean C-Pitch\", \"type\": \"scatter\", \"x\": [\"2019-01-11T00:00:00\", \"2019-01-22T00:00:00\", \"2019-01-26T00:00:00\", \"2019-01-31T00:00:00\", \"2019-02-11T00:00:00\", \"2019-02-22T00:00:00\", \"2019-02-27T00:00:00\", \"2019-03-07T00:00:00\", \"2019-03-15T00:00:00\", \"2019-04-05T00:00:00\", \"2019-04-16T00:00:00\", \"2019-05-27T00:00:00\", \"2019-06-03T00:00:00\", \"2019-06-10T00:00:00\", \"2019-06-17T00:00:00\", \"2019-06-25T00:00:00\", \"2019-06-28T00:00:00\", \"2019-08-07T00:00:00\", \"2019-08-19T00:00:00\", \"2019-08-26T00:00:00\", \"2019-09-05T00:00:00\", \"2019-10-17T00:00:00\", \"2019-11-01T00:00:00\", \"2019-11-13T00:00:00\", \"2019-12-05T00:00:00\", \"2019-12-10T00:00:00\", \"2019-12-26T00:00:00\", \"2019-12-31T00:00:00\"], \"xaxis\": \"x\", \"y\": [10.004, 10.001, 10.002, 10.003, 10.003, 10.002, 10.003, 10.002, 9.998, 10.002, 10.003, 10.004, 10.001, 10.0, 10.002, 10.001, 10.002, 10.001, 10.0, 10.001, 10.002, 10.0, 10.0, 10.002, 10.0, 10.003, 10.003, 9.999], \"yaxis\": \"y\"}, {\"line\": {\"color\": \"#FF5733\"}, \"name\": \"USL C-Pitch\", \"type\": \"scatter\", \"x\": [\"2019-01-11T00:00:00\", \"2019-01-22T00:00:00\", \"2019-01-26T00:00:00\", \"2019-01-31T00:00:00\", \"2019-02-11T00:00:00\", \"2019-02-22T00:00:00\", \"2019-02-27T00:00:00\", \"2019-03-07T00:00:00\", \"2019-03-15T00:00:00\", \"2019-04-05T00:00:00\", \"2019-04-16T00:00:00\", \"2019-05-27T00:00:00\", \"2019-06-03T00:00:00\", \"2019-06-10T00:00:00\", \"2019-06-17T00:00:00\", \"2019-06-25T00:00:00\", \"2019-06-28T00:00:00\", \"2019-08-07T00:00:00\", \"2019-08-19T00:00:00\", \"2019-08-26T00:00:00\", \"2019-09-05T00:00:00\", \"2019-10-17T00:00:00\", \"2019-11-01T00:00:00\", \"2019-11-13T00:00:00\", \"2019-12-05T00:00:00\", \"2019-12-10T00:00:00\", \"2019-12-26T00:00:00\", \"2019-12-31T00:00:00\"], \"xaxis\": \"x\", \"y\": [10.01, 10.01, 10.01, 10.01, 10.01, 10.01, 10.01, 10.01, 10.01, 10.01, 10.01, 10.01, 10.01, 10.01, 10.01, 10.01, 10.01, 10.01, 10.01, 10.01, 10.01, 10.01, 10.01, 10.01, 10.01, 10.01, 10.01, 10.01], \"yaxis\": \"y\"}, {\"line\": {\"color\": \"#FF5733\"}, \"name\": \"LSL C-Pitch\", \"type\": \"scatter\", \"x\": [\"2019-01-11T00:00:00\", \"2019-01-22T00:00:00\", \"2019-01-26T00:00:00\", \"2019-01-31T00:00:00\", \"2019-02-11T00:00:00\", \"2019-02-22T00:00:00\", \"2019-02-27T00:00:00\", \"2019-03-07T00:00:00\", \"2019-03-15T00:00:00\", \"2019-04-05T00:00:00\", \"2019-04-16T00:00:00\", \"2019-05-27T00:00:00\", \"2019-06-03T00:00:00\", \"2019-06-10T00:00:00\", \"2019-06-17T00:00:00\", \"2019-06-25T00:00:00\", \"2019-06-28T00:00:00\", \"2019-08-07T00:00:00\", \"2019-08-19T00:00:00\", \"2019-08-26T00:00:00\", \"2019-09-05T00:00:00\", \"2019-10-17T00:00:00\", \"2019-11-01T00:00:00\", \"2019-11-13T00:00:00\", \"2019-12-05T00:00:00\", \"2019-12-10T00:00:00\", \"2019-12-26T00:00:00\", \"2019-12-31T00:00:00\"], \"xaxis\": \"x\", \"y\": [9.99, 9.99, 9.99, 9.99, 9.99, 9.99, 9.99, 9.99, 9.99, 9.99, 9.99, 9.99, 9.99, 9.99, 9.99, 9.99, 9.99, 9.99, 9.99, 9.99, 9.99, 9.99, 9.99, 9.99, 9.99, 9.99, 9.99, 9.99], \"yaxis\": \"y\"}, {\"line\": {\"color\": \"#FF5733\"}, \"name\": \"Nominal C-Pitch\", \"type\": \"scatter\", \"x\": [\"2019-01-11T00:00:00\", \"2019-01-22T00:00:00\", \"2019-01-26T00:00:00\", \"2019-01-31T00:00:00\", \"2019-02-11T00:00:00\", \"2019-02-22T00:00:00\", \"2019-02-27T00:00:00\", \"2019-03-07T00:00:00\", \"2019-03-15T00:00:00\", \"2019-04-05T00:00:00\", \"2019-04-16T00:00:00\", \"2019-05-27T00:00:00\", \"2019-06-03T00:00:00\", \"2019-06-10T00:00:00\", \"2019-06-17T00:00:00\", \"2019-06-25T00:00:00\", \"2019-06-28T00:00:00\", \"2019-08-07T00:00:00\", \"2019-08-19T00:00:00\", \"2019-08-26T00:00:00\", \"2019-09-05T00:00:00\", \"2019-10-17T00:00:00\", \"2019-11-01T00:00:00\", \"2019-11-13T00:00:00\", \"2019-12-05T00:00:00\", \"2019-12-10T00:00:00\", \"2019-12-26T00:00:00\", \"2019-12-31T00:00:00\"], \"xaxis\": \"x\", \"y\": [10.0, 10.0, 10.0, 10.0, 10.0, 10.0, 10.0, 10.0, 10.0, 10.0, 10.0, 10.0, 10.0, 10.0, 10.0, 10.0, 10.0, 10.0, 10.0, 10.0, 10.0, 10.0, 10.0, 10.0, 10.0, 10.0, 10.0, 10.0], \"yaxis\": \"y\"}, {\"line\": {\"color\": \"#33C2FF\"}, \"name\": \"UCL C-Pitch\", \"type\": \"scatter\", \"x\": [\"2019-01-11T00:00:00\", \"2019-01-22T00:00:00\", \"2019-01-26T00:00:00\", \"2019-01-31T00:00:00\", \"2019-02-11T00:00:00\", \"2019-02-22T00:00:00\", \"2019-02-27T00:00:00\", \"2019-03-07T00:00:00\", \"2019-03-15T00:00:00\", \"2019-04-05T00:00:00\", \"2019-04-16T00:00:00\", \"2019-05-27T00:00:00\", \"2019-06-03T00:00:00\", \"2019-06-10T00:00:00\", \"2019-06-17T00:00:00\", \"2019-06-25T00:00:00\", \"2019-06-28T00:00:00\", \"2019-08-07T00:00:00\", \"2019-08-19T00:00:00\", \"2019-08-26T00:00:00\", \"2019-09-05T00:00:00\", \"2019-10-17T00:00:00\", \"2019-11-01T00:00:00\", \"2019-11-13T00:00:00\", \"2019-12-05T00:00:00\", \"2019-12-10T00:00:00\", \"2019-12-26T00:00:00\", \"2019-12-31T00:00:00\"], \"xaxis\": \"x\", \"y\": [10.006, 10.006, 10.006, 10.006, 10.006, 10.006, 10.006, 10.006, 10.006, 10.006, 10.006, 10.006, 10.006, 10.006, 10.006, 10.006, 10.006, 10.006, 10.006, 10.006, 10.006, 10.006, 10.006, 10.006, 10.006, 10.006, 10.006, 10.006], \"yaxis\": \"y\"}, {\"line\": {\"color\": \"#33C2FF\"}, \"name\": \"LCL C-Pitch\", \"type\": \"scatter\", \"x\": [\"2019-01-11T00:00:00\", \"2019-01-22T00:00:00\", \"2019-01-26T00:00:00\", \"2019-01-31T00:00:00\", \"2019-02-11T00:00:00\", \"2019-02-22T00:00:00\", \"2019-02-27T00:00:00\", \"2019-03-07T00:00:00\", \"2019-03-15T00:00:00\", \"2019-04-05T00:00:00\", \"2019-04-16T00:00:00\", \"2019-05-27T00:00:00\", \"2019-06-03T00:00:00\", \"2019-06-10T00:00:00\", \"2019-06-17T00:00:00\", \"2019-06-25T00:00:00\", \"2019-06-28T00:00:00\", \"2019-08-07T00:00:00\", \"2019-08-19T00:00:00\", \"2019-08-26T00:00:00\", \"2019-09-05T00:00:00\", \"2019-10-17T00:00:00\", \"2019-11-01T00:00:00\", \"2019-11-13T00:00:00\", \"2019-12-05T00:00:00\", \"2019-12-10T00:00:00\", \"2019-12-26T00:00:00\", \"2019-12-31T00:00:00\"], \"xaxis\": \"x\", \"y\": [9.997, 9.997, 9.997, 9.997, 9.997, 9.997, 9.997, 9.997, 9.997, 9.997, 9.997, 9.997, 9.997, 9.997, 9.997, 9.997, 9.997, 9.997, 9.997, 9.997, 9.997, 9.997, 9.997, 9.997, 9.997, 9.997, 9.997, 9.997], \"yaxis\": \"y\"}, {\"line\": {\"color\": \"#33C2FF\"}, \"name\": \"mean C-Pitch\", \"type\": \"scatter\", \"x\": [\"2019-01-11T00:00:00\", \"2019-01-22T00:00:00\", \"2019-01-26T00:00:00\", \"2019-01-31T00:00:00\", \"2019-02-11T00:00:00\", \"2019-02-22T00:00:00\", \"2019-02-27T00:00:00\", \"2019-03-07T00:00:00\", \"2019-03-15T00:00:00\", \"2019-04-05T00:00:00\", \"2019-04-16T00:00:00\", \"2019-05-27T00:00:00\", \"2019-06-03T00:00:00\", \"2019-06-10T00:00:00\", \"2019-06-17T00:00:00\", \"2019-06-25T00:00:00\", \"2019-06-28T00:00:00\", \"2019-08-07T00:00:00\", \"2019-08-19T00:00:00\", \"2019-08-26T00:00:00\", \"2019-09-05T00:00:00\", \"2019-10-17T00:00:00\", \"2019-11-01T00:00:00\", \"2019-11-13T00:00:00\", \"2019-12-05T00:00:00\", \"2019-12-10T00:00:00\", \"2019-12-26T00:00:00\", \"2019-12-31T00:00:00\"], \"xaxis\": \"x\", \"y\": [10.002, 10.002, 10.002, 10.002, 10.002, 10.002, 10.002, 10.002, 10.002, 10.002, 10.002, 10.002, 10.002, 10.002, 10.002, 10.002, 10.002, 10.002, 10.002, 10.002, 10.002, 10.002, 10.002, 10.002, 10.002, 10.002, 10.002, 10.002], \"yaxis\": \"y\"}, {\"line\": {\"color\": \"#4280F5\"}, \"mode\": \"lines+markers\", \"name\": \"mean J\", \"type\": \"scatter\", \"x\": [\"2019-01-11T00:00:00\", \"2019-01-22T00:00:00\", \"2019-01-26T00:00:00\", \"2019-01-31T00:00:00\", \"2019-02-11T00:00:00\", \"2019-02-22T00:00:00\", \"2019-02-27T00:00:00\", \"2019-03-07T00:00:00\", \"2019-03-15T00:00:00\", \"2019-04-05T00:00:00\", \"2019-04-16T00:00:00\", \"2019-05-27T00:00:00\", \"2019-06-03T00:00:00\", \"2019-06-10T00:00:00\", \"2019-06-17T00:00:00\", \"2019-06-25T00:00:00\", \"2019-06-28T00:00:00\", \"2019-08-07T00:00:00\", \"2019-08-19T00:00:00\", \"2019-08-26T00:00:00\", \"2019-09-05T00:00:00\", \"2019-10-17T00:00:00\", \"2019-11-01T00:00:00\", \"2019-11-13T00:00:00\", \"2019-12-05T00:00:00\", \"2019-12-10T00:00:00\", \"2019-12-26T00:00:00\", \"2019-12-31T00:00:00\"], \"xaxis\": \"x2\", \"y\": [1.219, 1.219, 1.22, 1.22, 1.22, 1.22, 1.22, 1.22, 1.219, 1.22, 1.22, 1.22, 1.22, 1.22, 1.218, 1.219, 1.218, 1.217, 1.217, 1.219, 1.218, 1.22, 1.22, 1.219, 1.219, 1.22, 1.219, 1.218], \"yaxis\": \"y2\"}, {\"line\": {\"color\": \"#FF5733\"}, \"name\": \"USL J\", \"type\": \"scatter\", \"x\": [\"2019-01-11T00:00:00\", \"2019-01-22T00:00:00\", \"2019-01-26T00:00:00\", \"2019-01-31T00:00:00\", \"2019-02-11T00:00:00\", \"2019-02-22T00:00:00\", \"2019-02-27T00:00:00\", \"2019-03-07T00:00:00\", \"2019-03-15T00:00:00\", \"2019-04-05T00:00:00\", \"2019-04-16T00:00:00\", \"2019-05-27T00:00:00\", \"2019-06-03T00:00:00\", \"2019-06-10T00:00:00\", \"2019-06-17T00:00:00\", \"2019-06-25T00:00:00\", \"2019-06-28T00:00:00\", \"2019-08-07T00:00:00\", \"2019-08-19T00:00:00\", \"2019-08-26T00:00:00\", \"2019-09-05T00:00:00\", \"2019-10-17T00:00:00\", \"2019-11-01T00:00:00\", \"2019-11-13T00:00:00\", \"2019-12-05T00:00:00\", \"2019-12-10T00:00:00\", \"2019-12-26T00:00:00\", \"2019-12-31T00:00:00\"], \"xaxis\": \"x2\", \"y\": [1.22, 1.22, 1.22, 1.22, 1.22, 1.22, 1.22, 1.22, 1.22, 1.22, 1.22, 1.22, 1.22, 1.22, 1.22, 1.22, 1.22, 1.22, 1.22, 1.22, 1.22, 1.22, 1.22, 1.22, 1.22, 1.22, 1.22, 1.22], \"yaxis\": \"y2\"}, {\"line\": {\"color\": \"#FF5733\"}, \"name\": \"LSL J\", \"type\": \"scatter\", \"x\": [\"2019-01-11T00:00:00\", \"2019-01-22T00:00:00\", \"2019-01-26T00:00:00\", \"2019-01-31T00:00:00\", \"2019-02-11T00:00:00\", \"2019-02-22T00:00:00\", \"2019-02-27T00:00:00\", \"2019-03-07T00:00:00\", \"2019-03-15T00:00:00\", \"2019-04-05T00:00:00\", \"2019-04-16T00:00:00\", \"2019-05-27T00:00:00\", \"2019-06-03T00:00:00\", \"2019-06-10T00:00:00\", \"2019-06-17T00:00:00\", \"2019-06-25T00:00:00\", \"2019-06-28T00:00:00\", \"2019-08-07T00:00:00\", \"2019-08-19T00:00:00\", \"2019-08-26T00:00:00\", \"2019-09-05T00:00:00\", \"2019-10-17T00:00:00\", \"2019-11-01T00:00:00\", \"2019-11-13T00:00:00\", \"2019-12-05T00:00:00\", \"2019-12-10T00:00:00\", \"2019-12-26T00:00:00\", \"2019-12-31T00:00:00\"], \"xaxis\": \"x2\", \"y\": [1.21, 1.21, 1.21, 1.21, 1.21, 1.21, 1.21, 1.21, 1.21, 1.21, 1.21, 1.21, 1.21, 1.21, 1.21, 1.21, 1.21, 1.21, 1.21, 1.21, 1.21, 1.21, 1.21, 1.21, 1.21, 1.21, 1.21, 1.21], \"yaxis\": \"y2\"}, {\"line\": {\"color\": \"#FF5733\"}, \"name\": \"Nominal J\", \"type\": \"scatter\", \"x\": [\"2019-01-11T00:00:00\", \"2019-01-22T00:00:00\", \"2019-01-26T00:00:00\", \"2019-01-31T00:00:00\", \"2019-02-11T00:00:00\", \"2019-02-22T00:00:00\", \"2019-02-27T00:00:00\", \"2019-03-07T00:00:00\", \"2019-03-15T00:00:00\", \"2019-04-05T00:00:00\", \"2019-04-16T00:00:00\", \"2019-05-27T00:00:00\", \"2019-06-03T00:00:00\", \"2019-06-10T00:00:00\", \"2019-06-17T00:00:00\", \"2019-06-25T00:00:00\", \"2019-06-28T00:00:00\", \"2019-08-07T00:00:00\", \"2019-08-19T00:00:00\", \"2019-08-26T00:00:00\", \"2019-09-05T00:00:00\", \"2019-10-17T00:00:00\", \"2019-11-01T00:00:00\", \"2019-11-13T00:00:00\", \"2019-12-05T00:00:00\", \"2019-12-10T00:00:00\", \"2019-12-26T00:00:00\", \"2019-12-31T00:00:00\"], \"xaxis\": \"x2\", \"y\": [1.21, 1.21, 1.21, 1.21, 1.21, 1.21, 1.21, 1.21, 1.21, 1.21, 1.21, 1.21, 1.21, 1.21, 1.21, 1.21, 1.21, 1.21, 1.21, 1.21, 1.21, 1.21, 1.21, 1.21, 1.21, 1.21, 1.21, 1.21], \"yaxis\": \"y2\"}, {\"line\": {\"color\": \"#33C2FF\"}, \"name\": \"UCL J\", \"type\": \"scatter\", \"x\": [\"2019-01-11T00:00:00\", \"2019-01-22T00:00:00\", \"2019-01-26T00:00:00\", \"2019-01-31T00:00:00\", \"2019-02-11T00:00:00\", \"2019-02-22T00:00:00\", \"2019-02-27T00:00:00\", \"2019-03-07T00:00:00\", \"2019-03-15T00:00:00\", \"2019-04-05T00:00:00\", \"2019-04-16T00:00:00\", \"2019-05-27T00:00:00\", \"2019-06-03T00:00:00\", \"2019-06-10T00:00:00\", \"2019-06-17T00:00:00\", \"2019-06-25T00:00:00\", \"2019-06-28T00:00:00\", \"2019-08-07T00:00:00\", \"2019-08-19T00:00:00\", \"2019-08-26T00:00:00\", \"2019-09-05T00:00:00\", \"2019-10-17T00:00:00\", \"2019-11-01T00:00:00\", \"2019-11-13T00:00:00\", \"2019-12-05T00:00:00\", \"2019-12-10T00:00:00\", \"2019-12-26T00:00:00\", \"2019-12-31T00:00:00\"], \"xaxis\": \"x2\", \"y\": [1.222, 1.222, 1.222, 1.222, 1.222, 1.222, 1.222, 1.222, 1.222, 1.222, 1.222, 1.222, 1.222, 1.222, 1.222, 1.222, 1.222, 1.222, 1.222, 1.222, 1.222, 1.222, 1.222, 1.222, 1.222, 1.222, 1.222, 1.222], \"yaxis\": \"y2\"}, {\"line\": {\"color\": \"#33C2FF\"}, \"name\": \"LCL J\", \"type\": \"scatter\", \"x\": [\"2019-01-11T00:00:00\", \"2019-01-22T00:00:00\", \"2019-01-26T00:00:00\", \"2019-01-31T00:00:00\", \"2019-02-11T00:00:00\", \"2019-02-22T00:00:00\", \"2019-02-27T00:00:00\", \"2019-03-07T00:00:00\", \"2019-03-15T00:00:00\", \"2019-04-05T00:00:00\", \"2019-04-16T00:00:00\", \"2019-05-27T00:00:00\", \"2019-06-03T00:00:00\", \"2019-06-10T00:00:00\", \"2019-06-17T00:00:00\", \"2019-06-25T00:00:00\", \"2019-06-28T00:00:00\", \"2019-08-07T00:00:00\", \"2019-08-19T00:00:00\", \"2019-08-26T00:00:00\", \"2019-09-05T00:00:00\", \"2019-10-17T00:00:00\", \"2019-11-01T00:00:00\", \"2019-11-13T00:00:00\", \"2019-12-05T00:00:00\", \"2019-12-10T00:00:00\", \"2019-12-26T00:00:00\", \"2019-12-31T00:00:00\"], \"xaxis\": \"x2\", \"y\": [1.216, 1.216, 1.216, 1.216, 1.216, 1.216, 1.216, 1.216, 1.216, 1.216, 1.216, 1.216, 1.216, 1.216, 1.216, 1.216, 1.216, 1.216, 1.216, 1.216, 1.216, 1.216, 1.216, 1.216, 1.216, 1.216, 1.216, 1.216], \"yaxis\": \"y2\"}, {\"line\": {\"color\": \"#33C2FF\"}, \"name\": \"mean J\", \"type\": \"scatter\", \"x\": [\"2019-01-11T00:00:00\", \"2019-01-22T00:00:00\", \"2019-01-26T00:00:00\", \"2019-01-31T00:00:00\", \"2019-02-11T00:00:00\", \"2019-02-22T00:00:00\", \"2019-02-27T00:00:00\", \"2019-03-07T00:00:00\", \"2019-03-15T00:00:00\", \"2019-04-05T00:00:00\", \"2019-04-16T00:00:00\", \"2019-05-27T00:00:00\", \"2019-06-03T00:00:00\", \"2019-06-10T00:00:00\", \"2019-06-17T00:00:00\", \"2019-06-25T00:00:00\", \"2019-06-28T00:00:00\", \"2019-08-07T00:00:00\", \"2019-08-19T00:00:00\", \"2019-08-26T00:00:00\", \"2019-09-05T00:00:00\", \"2019-10-17T00:00:00\", \"2019-11-01T00:00:00\", \"2019-11-13T00:00:00\", \"2019-12-05T00:00:00\", \"2019-12-10T00:00:00\", \"2019-12-26T00:00:00\", \"2019-12-31T00:00:00\"], \"xaxis\": \"x2\", \"y\": [1.219, 1.219, 1.219, 1.219, 1.219, 1.219, 1.219, 1.219, 1.219, 1.219, 1.219, 1.219, 1.219, 1.219, 1.219, 1.219, 1.219, 1.219, 1.219, 1.219, 1.219, 1.219, 1.219, 1.219, 1.219, 1.219, 1.219, 1.219], \"yaxis\": \"y2\"}, {\"line\": {\"color\": \"#4280F5\"}, \"mode\": \"lines+markers\", \"name\": \"mean I\", \"type\": \"scatter\", \"x\": [\"2019-01-11T00:00:00\", \"2019-01-22T00:00:00\", \"2019-01-26T00:00:00\", \"2019-01-31T00:00:00\", \"2019-02-11T00:00:00\", \"2019-02-22T00:00:00\", \"2019-02-27T00:00:00\", \"2019-03-07T00:00:00\", \"2019-03-15T00:00:00\", \"2019-04-05T00:00:00\", \"2019-04-16T00:00:00\", \"2019-05-27T00:00:00\", \"2019-06-03T00:00:00\", \"2019-06-10T00:00:00\", \"2019-06-17T00:00:00\", \"2019-06-25T00:00:00\", \"2019-06-28T00:00:00\", \"2019-08-07T00:00:00\", \"2019-08-19T00:00:00\", \"2019-08-26T00:00:00\", \"2019-09-05T00:00:00\", \"2019-10-17T00:00:00\", \"2019-11-01T00:00:00\", \"2019-11-13T00:00:00\", \"2019-12-05T00:00:00\", \"2019-12-10T00:00:00\", \"2019-12-26T00:00:00\", \"2019-12-31T00:00:00\"], \"xaxis\": \"x3\", \"y\": [3.194, 3.199, 3.2, 3.196, 3.195, 3.198, 3.195, 3.195, 3.199, 3.2, 3.2, 3.199, 3.2, 3.204, 3.197, 3.195, 3.2, 3.201, 3.201, 3.2, 3.201, 3.198, 3.198, 3.197, 3.199, 3.2, 3.202, 3.201], \"yaxis\": \"y3\"}, {\"line\": {\"color\": \"#FF5733\"}, \"name\": \"USL I\", \"type\": \"scatter\", \"x\": [\"2019-01-11T00:00:00\", \"2019-01-22T00:00:00\", \"2019-01-26T00:00:00\", \"2019-01-31T00:00:00\", \"2019-02-11T00:00:00\", \"2019-02-22T00:00:00\", \"2019-02-27T00:00:00\", \"2019-03-07T00:00:00\", \"2019-03-15T00:00:00\", \"2019-04-05T00:00:00\", \"2019-04-16T00:00:00\", \"2019-05-27T00:00:00\", \"2019-06-03T00:00:00\", \"2019-06-10T00:00:00\", \"2019-06-17T00:00:00\", \"2019-06-25T00:00:00\", \"2019-06-28T00:00:00\", \"2019-08-07T00:00:00\", \"2019-08-19T00:00:00\", \"2019-08-26T00:00:00\", \"2019-09-05T00:00:00\", \"2019-10-17T00:00:00\", \"2019-11-01T00:00:00\", \"2019-11-13T00:00:00\", \"2019-12-05T00:00:00\", \"2019-12-10T00:00:00\", \"2019-12-26T00:00:00\", \"2019-12-31T00:00:00\"], \"xaxis\": \"x3\", \"y\": [3.21, 3.21, 3.21, 3.21, 3.21, 3.21, 3.21, 3.21, 3.21, 3.21, 3.21, 3.21, 3.21, 3.21, 3.21, 3.21, 3.21, 3.21, 3.21, 3.21, 3.21, 3.21, 3.21, 3.21, 3.21, 3.21, 3.21, 3.21], \"yaxis\": \"y3\"}, {\"line\": {\"color\": \"#FF5733\"}, \"name\": \"LSL I\", \"type\": \"scatter\", \"x\": [\"2019-01-11T00:00:00\", \"2019-01-22T00:00:00\", \"2019-01-26T00:00:00\", \"2019-01-31T00:00:00\", \"2019-02-11T00:00:00\", \"2019-02-22T00:00:00\", \"2019-02-27T00:00:00\", \"2019-03-07T00:00:00\", \"2019-03-15T00:00:00\", \"2019-04-05T00:00:00\", \"2019-04-16T00:00:00\", \"2019-05-27T00:00:00\", \"2019-06-03T00:00:00\", \"2019-06-10T00:00:00\", \"2019-06-17T00:00:00\", \"2019-06-25T00:00:00\", \"2019-06-28T00:00:00\", \"2019-08-07T00:00:00\", \"2019-08-19T00:00:00\", \"2019-08-26T00:00:00\", \"2019-09-05T00:00:00\", \"2019-10-17T00:00:00\", \"2019-11-01T00:00:00\", \"2019-11-13T00:00:00\", \"2019-12-05T00:00:00\", \"2019-12-10T00:00:00\", \"2019-12-26T00:00:00\", \"2019-12-31T00:00:00\"], \"xaxis\": \"x3\", \"y\": [3.19, 3.19, 3.19, 3.19, 3.19, 3.19, 3.19, 3.19, 3.19, 3.19, 3.19, 3.19, 3.19, 3.19, 3.19, 3.19, 3.19, 3.19, 3.19, 3.19, 3.19, 3.19, 3.19, 3.19, 3.19, 3.19, 3.19, 3.19], \"yaxis\": \"y3\"}, {\"line\": {\"color\": \"#FF5733\"}, \"name\": \"Nominal I\", \"type\": \"scatter\", \"x\": [\"2019-01-11T00:00:00\", \"2019-01-22T00:00:00\", \"2019-01-26T00:00:00\", \"2019-01-31T00:00:00\", \"2019-02-11T00:00:00\", \"2019-02-22T00:00:00\", \"2019-02-27T00:00:00\", \"2019-03-07T00:00:00\", \"2019-03-15T00:00:00\", \"2019-04-05T00:00:00\", \"2019-04-16T00:00:00\", \"2019-05-27T00:00:00\", \"2019-06-03T00:00:00\", \"2019-06-10T00:00:00\", \"2019-06-17T00:00:00\", \"2019-06-25T00:00:00\", \"2019-06-28T00:00:00\", \"2019-08-07T00:00:00\", \"2019-08-19T00:00:00\", \"2019-08-26T00:00:00\", \"2019-09-05T00:00:00\", \"2019-10-17T00:00:00\", \"2019-11-01T00:00:00\", \"2019-11-13T00:00:00\", \"2019-12-05T00:00:00\", \"2019-12-10T00:00:00\", \"2019-12-26T00:00:00\", \"2019-12-31T00:00:00\"], \"xaxis\": \"x3\", \"y\": [3.2, 3.2, 3.2, 3.2, 3.2, 3.2, 3.2, 3.2, 3.2, 3.2, 3.2, 3.2, 3.2, 3.2, 3.2, 3.2, 3.2, 3.2, 3.2, 3.2, 3.2, 3.2, 3.2, 3.2, 3.2, 3.2, 3.2, 3.2], \"yaxis\": \"y3\"}, {\"line\": {\"color\": \"#33C2FF\"}, \"name\": \"UCL I\", \"type\": \"scatter\", \"x\": [\"2019-01-11T00:00:00\", \"2019-01-22T00:00:00\", \"2019-01-26T00:00:00\", \"2019-01-31T00:00:00\", \"2019-02-11T00:00:00\", \"2019-02-22T00:00:00\", \"2019-02-27T00:00:00\", \"2019-03-07T00:00:00\", \"2019-03-15T00:00:00\", \"2019-04-05T00:00:00\", \"2019-04-16T00:00:00\", \"2019-05-27T00:00:00\", \"2019-06-03T00:00:00\", \"2019-06-10T00:00:00\", \"2019-06-17T00:00:00\", \"2019-06-25T00:00:00\", \"2019-06-28T00:00:00\", \"2019-08-07T00:00:00\", \"2019-08-19T00:00:00\", \"2019-08-26T00:00:00\", \"2019-09-05T00:00:00\", \"2019-10-17T00:00:00\", \"2019-11-01T00:00:00\", \"2019-11-13T00:00:00\", \"2019-12-05T00:00:00\", \"2019-12-10T00:00:00\", \"2019-12-26T00:00:00\", \"2019-12-31T00:00:00\"], \"xaxis\": \"x3\", \"y\": [3.206, 3.206, 3.206, 3.206, 3.206, 3.206, 3.206, 3.206, 3.206, 3.206, 3.206, 3.206, 3.206, 3.206, 3.206, 3.206, 3.206, 3.206, 3.206, 3.206, 3.206, 3.206, 3.206, 3.206, 3.206, 3.206, 3.206, 3.206], \"yaxis\": \"y3\"}, {\"line\": {\"color\": \"#33C2FF\"}, \"name\": \"LCL I\", \"type\": \"scatter\", \"x\": [\"2019-01-11T00:00:00\", \"2019-01-22T00:00:00\", \"2019-01-26T00:00:00\", \"2019-01-31T00:00:00\", \"2019-02-11T00:00:00\", \"2019-02-22T00:00:00\", \"2019-02-27T00:00:00\", \"2019-03-07T00:00:00\", \"2019-03-15T00:00:00\", \"2019-04-05T00:00:00\", \"2019-04-16T00:00:00\", \"2019-05-27T00:00:00\", \"2019-06-03T00:00:00\", \"2019-06-10T00:00:00\", \"2019-06-17T00:00:00\", \"2019-06-25T00:00:00\", \"2019-06-28T00:00:00\", \"2019-08-07T00:00:00\", \"2019-08-19T00:00:00\", \"2019-08-26T00:00:00\", \"2019-09-05T00:00:00\", \"2019-10-17T00:00:00\", \"2019-11-01T00:00:00\", \"2019-11-13T00:00:00\", \"2019-12-05T00:00:00\", \"2019-12-10T00:00:00\", \"2019-12-26T00:00:00\", \"2019-12-31T00:00:00\"], \"xaxis\": \"x3\", \"y\": [3.191, 3.191, 3.191, 3.191, 3.191, 3.191, 3.191, 3.191, 3.191, 3.191, 3.191, 3.191, 3.191, 3.191, 3.191, 3.191, 3.191, 3.191, 3.191, 3.191, 3.191, 3.191, 3.191, 3.191, 3.191, 3.191, 3.191, 3.191], \"yaxis\": \"y3\"}, {\"line\": {\"color\": \"#33C2FF\"}, \"name\": \"mean I\", \"type\": \"scatter\", \"x\": [\"2019-01-11T00:00:00\", \"2019-01-22T00:00:00\", \"2019-01-26T00:00:00\", \"2019-01-31T00:00:00\", \"2019-02-11T00:00:00\", \"2019-02-22T00:00:00\", \"2019-02-27T00:00:00\", \"2019-03-07T00:00:00\", \"2019-03-15T00:00:00\", \"2019-04-05T00:00:00\", \"2019-04-16T00:00:00\", \"2019-05-27T00:00:00\", \"2019-06-03T00:00:00\", \"2019-06-10T00:00:00\", \"2019-06-17T00:00:00\", \"2019-06-25T00:00:00\", \"2019-06-28T00:00:00\", \"2019-08-07T00:00:00\", \"2019-08-19T00:00:00\", \"2019-08-26T00:00:00\", \"2019-09-05T00:00:00\", \"2019-10-17T00:00:00\", \"2019-11-01T00:00:00\", \"2019-11-13T00:00:00\", \"2019-12-05T00:00:00\", \"2019-12-10T00:00:00\", \"2019-12-26T00:00:00\", \"2019-12-31T00:00:00\"], \"xaxis\": \"x3\", \"y\": [3.199, 3.199, 3.199, 3.199, 3.199, 3.199, 3.199, 3.199, 3.199, 3.199, 3.199, 3.199, 3.199, 3.199, 3.199, 3.199, 3.199, 3.199, 3.199, 3.199, 3.199, 3.199, 3.199, 3.199, 3.199, 3.199, 3.199, 3.199], \"yaxis\": \"y3\"}, {\"line\": {\"color\": \"#4280F5\"}, \"mode\": \"lines+markers\", \"name\": \"mean O\", \"type\": \"scatter\", \"x\": [\"2019-01-11T00:00:00\", \"2019-01-22T00:00:00\", \"2019-01-26T00:00:00\", \"2019-01-31T00:00:00\", \"2019-02-11T00:00:00\", \"2019-02-22T00:00:00\", \"2019-02-27T00:00:00\", \"2019-03-07T00:00:00\", \"2019-03-15T00:00:00\", \"2019-04-05T00:00:00\", \"2019-04-16T00:00:00\", \"2019-05-27T00:00:00\", \"2019-06-03T00:00:00\", \"2019-06-10T00:00:00\", \"2019-06-17T00:00:00\", \"2019-06-25T00:00:00\", \"2019-06-28T00:00:00\", \"2019-08-07T00:00:00\", \"2019-08-19T00:00:00\", \"2019-08-26T00:00:00\", \"2019-09-05T00:00:00\", \"2019-10-17T00:00:00\", \"2019-11-01T00:00:00\", \"2019-11-13T00:00:00\", \"2019-12-05T00:00:00\", \"2019-12-10T00:00:00\", \"2019-12-26T00:00:00\", \"2019-12-31T00:00:00\"], \"xaxis\": \"x4\", \"y\": [11.853, 11.852, 11.853, 11.855, 11.854, 11.852, 11.855, 11.857, 11.853, 11.856, 11.853, 11.853, 11.852, 11.856, 11.859, 11.86, 11.856, 11.851, 11.849, 11.85, 11.856, 11.849, 11.849, 11.851, 11.849, 11.852, 11.849, 11.848], \"yaxis\": \"y4\"}, {\"line\": {\"color\": \"#FF5733\"}, \"name\": \"USL O\", \"type\": \"scatter\", \"x\": [\"2019-01-11T00:00:00\", \"2019-01-22T00:00:00\", \"2019-01-26T00:00:00\", \"2019-01-31T00:00:00\", \"2019-02-11T00:00:00\", \"2019-02-22T00:00:00\", \"2019-02-27T00:00:00\", \"2019-03-07T00:00:00\", \"2019-03-15T00:00:00\", \"2019-04-05T00:00:00\", \"2019-04-16T00:00:00\", \"2019-05-27T00:00:00\", \"2019-06-03T00:00:00\", \"2019-06-10T00:00:00\", \"2019-06-17T00:00:00\", \"2019-06-25T00:00:00\", \"2019-06-28T00:00:00\", \"2019-08-07T00:00:00\", \"2019-08-19T00:00:00\", \"2019-08-26T00:00:00\", \"2019-09-05T00:00:00\", \"2019-10-17T00:00:00\", \"2019-11-01T00:00:00\", \"2019-11-13T00:00:00\", \"2019-12-05T00:00:00\", \"2019-12-10T00:00:00\", \"2019-12-26T00:00:00\", \"2019-12-31T00:00:00\"], \"xaxis\": \"x4\", \"y\": [11.86, 11.86, 11.86, 11.86, 11.86, 11.86, 11.86, 11.86, 11.86, 11.86, 11.86, 11.86, 11.86, 11.86, 11.86, 11.86, 11.86, 11.86, 11.86, 11.86, 11.86, 11.86, 11.86, 11.86, 11.86, 11.86, 11.86, 11.86], \"yaxis\": \"y4\"}, {\"line\": {\"color\": \"#FF5733\"}, \"name\": \"LSL O\", \"type\": \"scatter\", \"x\": [\"2019-01-11T00:00:00\", \"2019-01-22T00:00:00\", \"2019-01-26T00:00:00\", \"2019-01-31T00:00:00\", \"2019-02-11T00:00:00\", \"2019-02-22T00:00:00\", \"2019-02-27T00:00:00\", \"2019-03-07T00:00:00\", \"2019-03-15T00:00:00\", \"2019-04-05T00:00:00\", \"2019-04-16T00:00:00\", \"2019-05-27T00:00:00\", \"2019-06-03T00:00:00\", \"2019-06-10T00:00:00\", \"2019-06-17T00:00:00\", \"2019-06-25T00:00:00\", \"2019-06-28T00:00:00\", \"2019-08-07T00:00:00\", \"2019-08-19T00:00:00\", \"2019-08-26T00:00:00\", \"2019-09-05T00:00:00\", \"2019-10-17T00:00:00\", \"2019-11-01T00:00:00\", \"2019-11-13T00:00:00\", \"2019-12-05T00:00:00\", \"2019-12-10T00:00:00\", \"2019-12-26T00:00:00\", \"2019-12-31T00:00:00\"], \"xaxis\": \"x4\", \"y\": [11.84, 11.84, 11.84, 11.84, 11.84, 11.84, 11.84, 11.84, 11.84, 11.84, 11.84, 11.84, 11.84, 11.84, 11.84, 11.84, 11.84, 11.84, 11.84, 11.84, 11.84, 11.84, 11.84, 11.84, 11.84, 11.84, 11.84, 11.84], \"yaxis\": \"y4\"}, {\"line\": {\"color\": \"#FF5733\"}, \"name\": \"Nominal O\", \"type\": \"scatter\", \"x\": [\"2019-01-11T00:00:00\", \"2019-01-22T00:00:00\", \"2019-01-26T00:00:00\", \"2019-01-31T00:00:00\", \"2019-02-11T00:00:00\", \"2019-02-22T00:00:00\", \"2019-02-27T00:00:00\", \"2019-03-07T00:00:00\", \"2019-03-15T00:00:00\", \"2019-04-05T00:00:00\", \"2019-04-16T00:00:00\", \"2019-05-27T00:00:00\", \"2019-06-03T00:00:00\", \"2019-06-10T00:00:00\", \"2019-06-17T00:00:00\", \"2019-06-25T00:00:00\", \"2019-06-28T00:00:00\", \"2019-08-07T00:00:00\", \"2019-08-19T00:00:00\", \"2019-08-26T00:00:00\", \"2019-09-05T00:00:00\", \"2019-10-17T00:00:00\", \"2019-11-01T00:00:00\", \"2019-11-13T00:00:00\", \"2019-12-05T00:00:00\", \"2019-12-10T00:00:00\", \"2019-12-26T00:00:00\", \"2019-12-31T00:00:00\"], \"xaxis\": \"x4\", \"y\": [11.85, 11.85, 11.85, 11.85, 11.85, 11.85, 11.85, 11.85, 11.85, 11.85, 11.85, 11.85, 11.85, 11.85, 11.85, 11.85, 11.85, 11.85, 11.85, 11.85, 11.85, 11.85, 11.85, 11.85, 11.85, 11.85, 11.85, 11.85], \"yaxis\": \"y4\"}, {\"line\": {\"color\": \"#33C2FF\"}, \"name\": \"UCL O\", \"type\": \"scatter\", \"x\": [\"2019-01-11T00:00:00\", \"2019-01-22T00:00:00\", \"2019-01-26T00:00:00\", \"2019-01-31T00:00:00\", \"2019-02-11T00:00:00\", \"2019-02-22T00:00:00\", \"2019-02-27T00:00:00\", \"2019-03-07T00:00:00\", \"2019-03-15T00:00:00\", \"2019-04-05T00:00:00\", \"2019-04-16T00:00:00\", \"2019-05-27T00:00:00\", \"2019-06-03T00:00:00\", \"2019-06-10T00:00:00\", \"2019-06-17T00:00:00\", \"2019-06-25T00:00:00\", \"2019-06-28T00:00:00\", \"2019-08-07T00:00:00\", \"2019-08-19T00:00:00\", \"2019-08-26T00:00:00\", \"2019-09-05T00:00:00\", \"2019-10-17T00:00:00\", \"2019-11-01T00:00:00\", \"2019-11-13T00:00:00\", \"2019-12-05T00:00:00\", \"2019-12-10T00:00:00\", \"2019-12-26T00:00:00\", \"2019-12-31T00:00:00\"], \"xaxis\": \"x4\", \"y\": [11.862, 11.862, 11.862, 11.862, 11.862, 11.862, 11.862, 11.862, 11.862, 11.862, 11.862, 11.862, 11.862, 11.862, 11.862, 11.862, 11.862, 11.862, 11.862, 11.862, 11.862, 11.862, 11.862, 11.862, 11.862, 11.862, 11.862, 11.862], \"yaxis\": \"y4\"}, {\"line\": {\"color\": \"#33C2FF\"}, \"name\": \"LCL O\", \"type\": \"scatter\", \"x\": [\"2019-01-11T00:00:00\", \"2019-01-22T00:00:00\", \"2019-01-26T00:00:00\", \"2019-01-31T00:00:00\", \"2019-02-11T00:00:00\", \"2019-02-22T00:00:00\", \"2019-02-27T00:00:00\", \"2019-03-07T00:00:00\", \"2019-03-15T00:00:00\", \"2019-04-05T00:00:00\", \"2019-04-16T00:00:00\", \"2019-05-27T00:00:00\", \"2019-06-03T00:00:00\", \"2019-06-10T00:00:00\", \"2019-06-17T00:00:00\", \"2019-06-25T00:00:00\", \"2019-06-28T00:00:00\", \"2019-08-07T00:00:00\", \"2019-08-19T00:00:00\", \"2019-08-26T00:00:00\", \"2019-09-05T00:00:00\", \"2019-10-17T00:00:00\", \"2019-11-01T00:00:00\", \"2019-11-13T00:00:00\", \"2019-12-05T00:00:00\", \"2019-12-10T00:00:00\", \"2019-12-26T00:00:00\", \"2019-12-31T00:00:00\"], \"xaxis\": \"x4\", \"y\": [11.843, 11.843, 11.843, 11.843, 11.843, 11.843, 11.843, 11.843, 11.843, 11.843, 11.843, 11.843, 11.843, 11.843, 11.843, 11.843, 11.843, 11.843, 11.843, 11.843, 11.843, 11.843, 11.843, 11.843, 11.843, 11.843, 11.843, 11.843], \"yaxis\": \"y4\"}, {\"line\": {\"color\": \"#33C2FF\"}, \"name\": \"mean O\", \"type\": \"scatter\", \"x\": [\"2019-01-11T00:00:00\", \"2019-01-22T00:00:00\", \"2019-01-26T00:00:00\", \"2019-01-31T00:00:00\", \"2019-02-11T00:00:00\", \"2019-02-22T00:00:00\", \"2019-02-27T00:00:00\", \"2019-03-07T00:00:00\", \"2019-03-15T00:00:00\", \"2019-04-05T00:00:00\", \"2019-04-16T00:00:00\", \"2019-05-27T00:00:00\", \"2019-06-03T00:00:00\", \"2019-06-10T00:00:00\", \"2019-06-17T00:00:00\", \"2019-06-25T00:00:00\", \"2019-06-28T00:00:00\", \"2019-08-07T00:00:00\", \"2019-08-19T00:00:00\", \"2019-08-26T00:00:00\", \"2019-09-05T00:00:00\", \"2019-10-17T00:00:00\", \"2019-11-01T00:00:00\", \"2019-11-13T00:00:00\", \"2019-12-05T00:00:00\", \"2019-12-10T00:00:00\", \"2019-12-26T00:00:00\", \"2019-12-31T00:00:00\"], \"xaxis\": \"x4\", \"y\": [11.853, 11.853, 11.853, 11.853, 11.853, 11.853, 11.853, 11.853, 11.853, 11.853, 11.853, 11.853, 11.853, 11.853, 11.853, 11.853, 11.853, 11.853, 11.853, 11.853, 11.853, 11.853, 11.853, 11.853, 11.853, 11.853, 11.853, 11.853], \"yaxis\": \"y4\"}, {\"line\": {\"color\": \"#4280F5\"}, \"mode\": \"lines+markers\", \"name\": \"mean Z\", \"type\": \"scatter\", \"x\": [\"2019-01-11T00:00:00\", \"2019-01-22T00:00:00\", \"2019-01-26T00:00:00\", \"2019-01-31T00:00:00\", \"2019-02-11T00:00:00\", \"2019-02-22T00:00:00\", \"2019-02-27T00:00:00\", \"2019-03-07T00:00:00\", \"2019-03-15T00:00:00\", \"2019-04-05T00:00:00\", \"2019-04-16T00:00:00\", \"2019-05-27T00:00:00\", \"2019-06-03T00:00:00\", \"2019-06-10T00:00:00\", \"2019-06-17T00:00:00\", \"2019-06-25T00:00:00\", \"2019-06-28T00:00:00\", \"2019-08-07T00:00:00\", \"2019-08-19T00:00:00\", \"2019-08-26T00:00:00\", \"2019-09-05T00:00:00\", \"2019-10-17T00:00:00\", \"2019-11-01T00:00:00\", \"2019-11-13T00:00:00\", \"2019-12-05T00:00:00\", \"2019-12-10T00:00:00\", \"2019-12-26T00:00:00\", \"2019-12-31T00:00:00\"], \"xaxis\": \"x5\", \"y\": [0.31, 0.311, 0.311, 0.311, 0.312, 0.312, 0.311, 0.311, 0.312, 0.311, 0.313, 0.313, 0.313, 0.311, 0.313, 0.316, 0.316, 0.313, 0.313, 0.313, 0.316, 0.313, 0.313, 0.315, 0.308, 0.311, 0.312, 0.313], \"yaxis\": \"y5\"}, {\"line\": {\"color\": \"#FF5733\"}, \"name\": \"USL Z\", \"type\": \"scatter\", \"x\": [\"2019-01-11T00:00:00\", \"2019-01-22T00:00:00\", \"2019-01-26T00:00:00\", \"2019-01-31T00:00:00\", \"2019-02-11T00:00:00\", \"2019-02-22T00:00:00\", \"2019-02-27T00:00:00\", \"2019-03-07T00:00:00\", \"2019-03-15T00:00:00\", \"2019-04-05T00:00:00\", \"2019-04-16T00:00:00\", \"2019-05-27T00:00:00\", \"2019-06-03T00:00:00\", \"2019-06-10T00:00:00\", \"2019-06-17T00:00:00\", \"2019-06-25T00:00:00\", \"2019-06-28T00:00:00\", \"2019-08-07T00:00:00\", \"2019-08-19T00:00:00\", \"2019-08-26T00:00:00\", \"2019-09-05T00:00:00\", \"2019-10-17T00:00:00\", \"2019-11-01T00:00:00\", \"2019-11-13T00:00:00\", \"2019-12-05T00:00:00\", \"2019-12-10T00:00:00\", \"2019-12-26T00:00:00\", \"2019-12-31T00:00:00\"], \"xaxis\": \"x5\", \"y\": [0.32, 0.32, 0.32, 0.32, 0.32, 0.32, 0.32, 0.32, 0.32, 0.32, 0.32, 0.32, 0.32, 0.32, 0.32, 0.32, 0.32, 0.32, 0.32, 0.32, 0.32, 0.32, 0.32, 0.32, 0.32, 0.32, 0.32, 0.32], \"yaxis\": \"y5\"}, {\"line\": {\"color\": \"#FF5733\"}, \"name\": \"LSL Z\", \"type\": \"scatter\", \"x\": [\"2019-01-11T00:00:00\", \"2019-01-22T00:00:00\", \"2019-01-26T00:00:00\", \"2019-01-31T00:00:00\", \"2019-02-11T00:00:00\", \"2019-02-22T00:00:00\", \"2019-02-27T00:00:00\", \"2019-03-07T00:00:00\", \"2019-03-15T00:00:00\", \"2019-04-05T00:00:00\", \"2019-04-16T00:00:00\", \"2019-05-27T00:00:00\", \"2019-06-03T00:00:00\", \"2019-06-10T00:00:00\", \"2019-06-17T00:00:00\", \"2019-06-25T00:00:00\", \"2019-06-28T00:00:00\", \"2019-08-07T00:00:00\", \"2019-08-19T00:00:00\", \"2019-08-26T00:00:00\", \"2019-09-05T00:00:00\", \"2019-10-17T00:00:00\", \"2019-11-01T00:00:00\", \"2019-11-13T00:00:00\", \"2019-12-05T00:00:00\", \"2019-12-10T00:00:00\", \"2019-12-26T00:00:00\", \"2019-12-31T00:00:00\"], \"xaxis\": \"x5\", \"y\": [0.28, 0.28, 0.28, 0.28, 0.28, 0.28, 0.28, 0.28, 0.28, 0.28, 0.28, 0.28, 0.28, 0.28, 0.28, 0.28, 0.28, 0.28, 0.28, 0.28, 0.28, 0.28, 0.28, 0.28, 0.28, 0.28, 0.28, 0.28], \"yaxis\": \"y5\"}, {\"line\": {\"color\": \"#FF5733\"}, \"name\": \"Nominal Z\", \"type\": \"scatter\", \"x\": [\"2019-01-11T00:00:00\", \"2019-01-22T00:00:00\", \"2019-01-26T00:00:00\", \"2019-01-31T00:00:00\", \"2019-02-11T00:00:00\", \"2019-02-22T00:00:00\", \"2019-02-27T00:00:00\", \"2019-03-07T00:00:00\", \"2019-03-15T00:00:00\", \"2019-04-05T00:00:00\", \"2019-04-16T00:00:00\", \"2019-05-27T00:00:00\", \"2019-06-03T00:00:00\", \"2019-06-10T00:00:00\", \"2019-06-17T00:00:00\", \"2019-06-25T00:00:00\", \"2019-06-28T00:00:00\", \"2019-08-07T00:00:00\", \"2019-08-19T00:00:00\", \"2019-08-26T00:00:00\", \"2019-09-05T00:00:00\", \"2019-10-17T00:00:00\", \"2019-11-01T00:00:00\", \"2019-11-13T00:00:00\", \"2019-12-05T00:00:00\", \"2019-12-10T00:00:00\", \"2019-12-26T00:00:00\", \"2019-12-31T00:00:00\"], \"xaxis\": \"x5\", \"y\": [0.3, 0.3, 0.3, 0.3, 0.3, 0.3, 0.3, 0.3, 0.3, 0.3, 0.3, 0.3, 0.3, 0.3, 0.3, 0.3, 0.3, 0.3, 0.3, 0.3, 0.3, 0.3, 0.3, 0.3, 0.3, 0.3, 0.3, 0.3], \"yaxis\": \"y5\"}, {\"line\": {\"color\": \"#33C2FF\"}, \"name\": \"UCL Z\", \"type\": \"scatter\", \"x\": [\"2019-01-11T00:00:00\", \"2019-01-22T00:00:00\", \"2019-01-26T00:00:00\", \"2019-01-31T00:00:00\", \"2019-02-11T00:00:00\", \"2019-02-22T00:00:00\", \"2019-02-27T00:00:00\", \"2019-03-07T00:00:00\", \"2019-03-15T00:00:00\", \"2019-04-05T00:00:00\", \"2019-04-16T00:00:00\", \"2019-05-27T00:00:00\", \"2019-06-03T00:00:00\", \"2019-06-10T00:00:00\", \"2019-06-17T00:00:00\", \"2019-06-25T00:00:00\", \"2019-06-28T00:00:00\", \"2019-08-07T00:00:00\", \"2019-08-19T00:00:00\", \"2019-08-26T00:00:00\", \"2019-09-05T00:00:00\", \"2019-10-17T00:00:00\", \"2019-11-01T00:00:00\", \"2019-11-13T00:00:00\", \"2019-12-05T00:00:00\", \"2019-12-10T00:00:00\", \"2019-12-26T00:00:00\", \"2019-12-31T00:00:00\"], \"xaxis\": \"x5\", \"y\": [0.318, 0.318, 0.318, 0.318, 0.318, 0.318, 0.318, 0.318, 0.318, 0.318, 0.318, 0.318, 0.318, 0.318, 0.318, 0.318, 0.318, 0.318, 0.318, 0.318, 0.318, 0.318, 0.318, 0.318, 0.318, 0.318, 0.318, 0.318], \"yaxis\": \"y5\"}, {\"line\": {\"color\": \"#33C2FF\"}, \"name\": \"LCL Z\", \"type\": \"scatter\", \"x\": [\"2019-01-11T00:00:00\", \"2019-01-22T00:00:00\", \"2019-01-26T00:00:00\", \"2019-01-31T00:00:00\", \"2019-02-11T00:00:00\", \"2019-02-22T00:00:00\", \"2019-02-27T00:00:00\", \"2019-03-07T00:00:00\", \"2019-03-15T00:00:00\", \"2019-04-05T00:00:00\", \"2019-04-16T00:00:00\", \"2019-05-27T00:00:00\", \"2019-06-03T00:00:00\", \"2019-06-10T00:00:00\", \"2019-06-17T00:00:00\", \"2019-06-25T00:00:00\", \"2019-06-28T00:00:00\", \"2019-08-07T00:00:00\", \"2019-08-19T00:00:00\", \"2019-08-26T00:00:00\", \"2019-09-05T00:00:00\", \"2019-10-17T00:00:00\", \"2019-11-01T00:00:00\", \"2019-11-13T00:00:00\", \"2019-12-05T00:00:00\", \"2019-12-10T00:00:00\", \"2019-12-26T00:00:00\", \"2019-12-31T00:00:00\"], \"xaxis\": \"x5\", \"y\": [0.307, 0.307, 0.307, 0.307, 0.307, 0.307, 0.307, 0.307, 0.307, 0.307, 0.307, 0.307, 0.307, 0.307, 0.307, 0.307, 0.307, 0.307, 0.307, 0.307, 0.307, 0.307, 0.307, 0.307, 0.307, 0.307, 0.307, 0.307], \"yaxis\": \"y5\"}, {\"line\": {\"color\": \"#33C2FF\"}, \"name\": \"mean Z\", \"type\": \"scatter\", \"x\": [\"2019-01-11T00:00:00\", \"2019-01-22T00:00:00\", \"2019-01-26T00:00:00\", \"2019-01-31T00:00:00\", \"2019-02-11T00:00:00\", \"2019-02-22T00:00:00\", \"2019-02-27T00:00:00\", \"2019-03-07T00:00:00\", \"2019-03-15T00:00:00\", \"2019-04-05T00:00:00\", \"2019-04-16T00:00:00\", \"2019-05-27T00:00:00\", \"2019-06-03T00:00:00\", \"2019-06-10T00:00:00\", \"2019-06-17T00:00:00\", \"2019-06-25T00:00:00\", \"2019-06-28T00:00:00\", \"2019-08-07T00:00:00\", \"2019-08-19T00:00:00\", \"2019-08-26T00:00:00\", \"2019-09-05T00:00:00\", \"2019-10-17T00:00:00\", \"2019-11-01T00:00:00\", \"2019-11-13T00:00:00\", \"2019-12-05T00:00:00\", \"2019-12-10T00:00:00\", \"2019-12-26T00:00:00\", \"2019-12-31T00:00:00\"], \"xaxis\": \"x5\", \"y\": [0.312, 0.312, 0.312, 0.312, 0.312, 0.312, 0.312, 0.312, 0.312, 0.312, 0.312, 0.312, 0.312, 0.312, 0.312, 0.312, 0.312, 0.312, 0.312, 0.312, 0.312, 0.312, 0.312, 0.312, 0.312, 0.312, 0.312, 0.312], \"yaxis\": \"y5\"}],\n",
              "                        {\"height\": 1500, \"template\": {\"data\": {\"bar\": [{\"error_x\": {\"color\": \"#2a3f5f\"}, \"error_y\": {\"color\": \"#2a3f5f\"}, \"marker\": {\"line\": {\"color\": \"#E5ECF6\", \"width\": 0.5}}, \"type\": \"bar\"}], \"barpolar\": [{\"marker\": {\"line\": {\"color\": \"#E5ECF6\", \"width\": 0.5}}, \"type\": \"barpolar\"}], \"carpet\": [{\"aaxis\": {\"endlinecolor\": \"#2a3f5f\", \"gridcolor\": \"white\", \"linecolor\": \"white\", \"minorgridcolor\": \"white\", \"startlinecolor\": \"#2a3f5f\"}, \"baxis\": {\"endlinecolor\": \"#2a3f5f\", \"gridcolor\": \"white\", \"linecolor\": \"white\", \"minorgridcolor\": \"white\", \"startlinecolor\": \"#2a3f5f\"}, \"type\": \"carpet\"}], \"choropleth\": [{\"colorbar\": {\"outlinewidth\": 0, \"ticks\": \"\"}, \"type\": \"choropleth\"}], \"contour\": [{\"colorbar\": {\"outlinewidth\": 0, \"ticks\": \"\"}, \"colorscale\": [[0.0, \"#0d0887\"], [0.1111111111111111, \"#46039f\"], [0.2222222222222222, \"#7201a8\"], [0.3333333333333333, \"#9c179e\"], [0.4444444444444444, \"#bd3786\"], [0.5555555555555556, \"#d8576b\"], [0.6666666666666666, \"#ed7953\"], [0.7777777777777778, \"#fb9f3a\"], [0.8888888888888888, \"#fdca26\"], [1.0, \"#f0f921\"]], \"type\": \"contour\"}], \"contourcarpet\": [{\"colorbar\": {\"outlinewidth\": 0, \"ticks\": \"\"}, \"type\": \"contourcarpet\"}], \"heatmap\": [{\"colorbar\": {\"outlinewidth\": 0, \"ticks\": \"\"}, \"colorscale\": [[0.0, \"#0d0887\"], [0.1111111111111111, \"#46039f\"], [0.2222222222222222, \"#7201a8\"], [0.3333333333333333, \"#9c179e\"], [0.4444444444444444, \"#bd3786\"], [0.5555555555555556, \"#d8576b\"], [0.6666666666666666, \"#ed7953\"], [0.7777777777777778, \"#fb9f3a\"], [0.8888888888888888, \"#fdca26\"], [1.0, \"#f0f921\"]], \"type\": \"heatmap\"}], \"heatmapgl\": [{\"colorbar\": {\"outlinewidth\": 0, \"ticks\": \"\"}, \"colorscale\": [[0.0, \"#0d0887\"], [0.1111111111111111, \"#46039f\"], [0.2222222222222222, \"#7201a8\"], [0.3333333333333333, \"#9c179e\"], [0.4444444444444444, \"#bd3786\"], [0.5555555555555556, \"#d8576b\"], [0.6666666666666666, \"#ed7953\"], [0.7777777777777778, \"#fb9f3a\"], [0.8888888888888888, \"#fdca26\"], [1.0, \"#f0f921\"]], \"type\": \"heatmapgl\"}], \"histogram\": [{\"marker\": {\"colorbar\": {\"outlinewidth\": 0, \"ticks\": \"\"}}, \"type\": \"histogram\"}], \"histogram2d\": [{\"colorbar\": {\"outlinewidth\": 0, \"ticks\": \"\"}, \"colorscale\": [[0.0, \"#0d0887\"], [0.1111111111111111, \"#46039f\"], [0.2222222222222222, \"#7201a8\"], [0.3333333333333333, \"#9c179e\"], [0.4444444444444444, \"#bd3786\"], [0.5555555555555556, \"#d8576b\"], [0.6666666666666666, \"#ed7953\"], [0.7777777777777778, \"#fb9f3a\"], [0.8888888888888888, \"#fdca26\"], [1.0, \"#f0f921\"]], \"type\": \"histogram2d\"}], \"histogram2dcontour\": [{\"colorbar\": {\"outlinewidth\": 0, \"ticks\": \"\"}, \"colorscale\": [[0.0, \"#0d0887\"], [0.1111111111111111, \"#46039f\"], [0.2222222222222222, \"#7201a8\"], [0.3333333333333333, \"#9c179e\"], [0.4444444444444444, \"#bd3786\"], [0.5555555555555556, \"#d8576b\"], [0.6666666666666666, \"#ed7953\"], [0.7777777777777778, \"#fb9f3a\"], [0.8888888888888888, \"#fdca26\"], [1.0, \"#f0f921\"]], \"type\": \"histogram2dcontour\"}], \"mesh3d\": [{\"colorbar\": {\"outlinewidth\": 0, \"ticks\": \"\"}, \"type\": \"mesh3d\"}], \"parcoords\": [{\"line\": {\"colorbar\": {\"outlinewidth\": 0, \"ticks\": \"\"}}, \"type\": \"parcoords\"}], \"pie\": [{\"automargin\": true, \"type\": \"pie\"}], \"scatter\": [{\"marker\": {\"colorbar\": {\"outlinewidth\": 0, \"ticks\": \"\"}}, \"type\": \"scatter\"}], \"scatter3d\": [{\"line\": {\"colorbar\": {\"outlinewidth\": 0, \"ticks\": \"\"}}, \"marker\": {\"colorbar\": {\"outlinewidth\": 0, \"ticks\": \"\"}}, \"type\": \"scatter3d\"}], \"scattercarpet\": [{\"marker\": {\"colorbar\": {\"outlinewidth\": 0, \"ticks\": \"\"}}, \"type\": \"scattercarpet\"}], \"scattergeo\": [{\"marker\": {\"colorbar\": {\"outlinewidth\": 0, \"ticks\": \"\"}}, \"type\": \"scattergeo\"}], \"scattergl\": [{\"marker\": {\"colorbar\": {\"outlinewidth\": 0, \"ticks\": \"\"}}, \"type\": \"scattergl\"}], \"scattermapbox\": [{\"marker\": {\"colorbar\": {\"outlinewidth\": 0, \"ticks\": \"\"}}, \"type\": \"scattermapbox\"}], \"scatterpolar\": [{\"marker\": {\"colorbar\": {\"outlinewidth\": 0, \"ticks\": \"\"}}, \"type\": \"scatterpolar\"}], \"scatterpolargl\": [{\"marker\": {\"colorbar\": {\"outlinewidth\": 0, \"ticks\": \"\"}}, \"type\": \"scatterpolargl\"}], \"scatterternary\": [{\"marker\": {\"colorbar\": {\"outlinewidth\": 0, \"ticks\": \"\"}}, \"type\": \"scatterternary\"}], \"surface\": [{\"colorbar\": {\"outlinewidth\": 0, \"ticks\": \"\"}, \"colorscale\": [[0.0, \"#0d0887\"], [0.1111111111111111, \"#46039f\"], [0.2222222222222222, \"#7201a8\"], [0.3333333333333333, \"#9c179e\"], [0.4444444444444444, \"#bd3786\"], [0.5555555555555556, \"#d8576b\"], [0.6666666666666666, \"#ed7953\"], [0.7777777777777778, \"#fb9f3a\"], [0.8888888888888888, \"#fdca26\"], [1.0, \"#f0f921\"]], \"type\": \"surface\"}], \"table\": [{\"cells\": {\"fill\": {\"color\": \"#EBF0F8\"}, \"line\": {\"color\": \"white\"}}, \"header\": {\"fill\": {\"color\": \"#C8D4E3\"}, \"line\": {\"color\": \"white\"}}, \"type\": \"table\"}]}, \"layout\": {\"annotationdefaults\": {\"arrowcolor\": \"#2a3f5f\", \"arrowhead\": 0, \"arrowwidth\": 1}, \"coloraxis\": {\"colorbar\": {\"outlinewidth\": 0, \"ticks\": \"\"}}, \"colorscale\": {\"diverging\": [[0, \"#8e0152\"], [0.1, \"#c51b7d\"], [0.2, \"#de77ae\"], [0.3, \"#f1b6da\"], [0.4, \"#fde0ef\"], [0.5, \"#f7f7f7\"], [0.6, \"#e6f5d0\"], [0.7, \"#b8e186\"], [0.8, \"#7fbc41\"], [0.9, \"#4d9221\"], [1, \"#276419\"]], \"sequential\": [[0.0, \"#0d0887\"], [0.1111111111111111, \"#46039f\"], [0.2222222222222222, \"#7201a8\"], [0.3333333333333333, \"#9c179e\"], [0.4444444444444444, \"#bd3786\"], [0.5555555555555556, \"#d8576b\"], [0.6666666666666666, \"#ed7953\"], [0.7777777777777778, \"#fb9f3a\"], [0.8888888888888888, \"#fdca26\"], [1.0, \"#f0f921\"]], \"sequentialminus\": [[0.0, \"#0d0887\"], [0.1111111111111111, \"#46039f\"], [0.2222222222222222, \"#7201a8\"], [0.3333333333333333, \"#9c179e\"], [0.4444444444444444, \"#bd3786\"], [0.5555555555555556, \"#d8576b\"], [0.6666666666666666, \"#ed7953\"], [0.7777777777777778, \"#fb9f3a\"], [0.8888888888888888, \"#fdca26\"], [1.0, \"#f0f921\"]]}, \"colorway\": [\"#636efa\", \"#EF553B\", \"#00cc96\", \"#ab63fa\", \"#FFA15A\", \"#19d3f3\", \"#FF6692\", \"#B6E880\", \"#FF97FF\", \"#FECB52\"], \"font\": {\"color\": \"#2a3f5f\"}, \"geo\": {\"bgcolor\": \"white\", \"lakecolor\": \"white\", \"landcolor\": \"#E5ECF6\", \"showlakes\": true, \"showland\": true, \"subunitcolor\": \"white\"}, \"hoverlabel\": {\"align\": \"left\"}, \"hovermode\": \"closest\", \"mapbox\": {\"style\": \"light\"}, \"paper_bgcolor\": \"white\", \"plot_bgcolor\": \"#E5ECF6\", \"polar\": {\"angularaxis\": {\"gridcolor\": \"white\", \"linecolor\": \"white\", \"ticks\": \"\"}, \"bgcolor\": \"#E5ECF6\", \"radialaxis\": {\"gridcolor\": \"white\", \"linecolor\": \"white\", \"ticks\": \"\"}}, \"scene\": {\"xaxis\": {\"backgroundcolor\": \"#E5ECF6\", \"gridcolor\": \"white\", \"gridwidth\": 2, \"linecolor\": \"white\", \"showbackground\": true, \"ticks\": \"\", \"zerolinecolor\": \"white\"}, \"yaxis\": {\"backgroundcolor\": \"#E5ECF6\", \"gridcolor\": \"white\", \"gridwidth\": 2, \"linecolor\": \"white\", \"showbackground\": true, \"ticks\": \"\", \"zerolinecolor\": \"white\"}, \"zaxis\": {\"backgroundcolor\": \"#E5ECF6\", \"gridcolor\": \"white\", \"gridwidth\": 2, \"linecolor\": \"white\", \"showbackground\": true, \"ticks\": \"\", \"zerolinecolor\": \"white\"}}, \"shapedefaults\": {\"line\": {\"color\": \"#2a3f5f\"}}, \"ternary\": {\"aaxis\": {\"gridcolor\": \"white\", \"linecolor\": \"white\", \"ticks\": \"\"}, \"baxis\": {\"gridcolor\": \"white\", \"linecolor\": \"white\", \"ticks\": \"\"}, \"bgcolor\": \"#E5ECF6\", \"caxis\": {\"gridcolor\": \"white\", \"linecolor\": \"white\", \"ticks\": \"\"}}, \"title\": {\"x\": 0.05}, \"xaxis\": {\"automargin\": true, \"gridcolor\": \"white\", \"linecolor\": \"white\", \"ticks\": \"\", \"title\": {\"standoff\": 15}, \"zerolinecolor\": \"white\", \"zerolinewidth\": 2}, \"yaxis\": {\"automargin\": true, \"gridcolor\": \"white\", \"linecolor\": \"white\", \"ticks\": \"\", \"title\": {\"standoff\": 15}, \"zerolinecolor\": \"white\", \"zerolinewidth\": 2}}}, \"title\": {\"text\": \"Line chart\"}, \"width\": 1200, \"xaxis\": {\"anchor\": \"y\", \"domain\": [0.0, 1.0]}, \"xaxis2\": {\"anchor\": \"y2\", \"domain\": [0.0, 1.0]}, \"xaxis3\": {\"anchor\": \"y3\", \"domain\": [0.0, 1.0]}, \"xaxis4\": {\"anchor\": \"y4\", \"domain\": [0.0, 1.0]}, \"xaxis5\": {\"anchor\": \"y5\", \"domain\": [0.0, 1.0]}, \"yaxis\": {\"anchor\": \"x\", \"domain\": [0.848, 1.0]}, \"yaxis2\": {\"anchor\": \"x2\", \"domain\": [0.6359999999999999, 0.7879999999999999]}, \"yaxis3\": {\"anchor\": \"x3\", \"domain\": [0.424, 0.576]}, \"yaxis4\": {\"anchor\": \"x4\", \"domain\": [0.212, 0.364]}, \"yaxis5\": {\"anchor\": \"x5\", \"domain\": [0.0, 0.152]}},\n",
              "                        {\"responsive\": true}\n",
              "                    ).then(function(){\n",
              "                            \n",
              "var gd = document.getElementById('881d6db2-ea74-4641-88f9-c90c2c0d449b');\n",
              "var x = new MutationObserver(function (mutations, observer) {{\n",
              "        var display = window.getComputedStyle(gd).display;\n",
              "        if (!display || display === 'none') {{\n",
              "            console.log([gd, 'removed!']);\n",
              "            Plotly.purge(gd);\n",
              "            observer.disconnect();\n",
              "        }}\n",
              "}});\n",
              "\n",
              "// Listen for the removal of the full notebook cells\n",
              "var notebookContainer = gd.closest('#notebook-container');\n",
              "if (notebookContainer) {{\n",
              "    x.observe(notebookContainer, {childList: true});\n",
              "}}\n",
              "\n",
              "// Listen for the clearing of the current output cell\n",
              "var outputEl = gd.closest('.output');\n",
              "if (outputEl) {{\n",
              "    x.observe(outputEl, {childList: true});\n",
              "}}\n",
              "\n",
              "                        })\n",
              "                };\n",
              "                \n",
              "            </script>\n",
              "        </div>\n",
              "</body>\n",
              "</html>"
            ]
          },
          "metadata": {
            "tags": []
          }
        }
      ]
    },
    {
      "cell_type": "code",
      "metadata": {
        "id": "QRT3yBW3SVcy",
        "colab_type": "code",
        "colab": {}
      },
      "source": [
        "fig.write_html('line_chart_combine_'+namefile+'.html')"
      ],
      "execution_count": null,
      "outputs": []
    },
    {
      "cell_type": "markdown",
      "metadata": {
        "id": "6VnP6zTJqRm_",
        "colab_type": "text"
      },
      "source": [
        "### Box chart altair"
      ]
    },
    {
      "cell_type": "code",
      "metadata": {
        "id": "QIU_FQBplXeW",
        "colab_type": "code",
        "colab": {}
      },
      "source": [
        "import json\n",
        "import datetime \n",
        "\n",
        "#Function convert datetime to json\n",
        "def defaulta(obj):\n",
        "      if isinstance(obj, (datetime.date, datetime.datetime)):\n",
        "          return obj.isoformat()"
      ],
      "execution_count": null,
      "outputs": []
    },
    {
      "cell_type": "code",
      "metadata": {
        "id": "ciC8wePyqftc",
        "colab_type": "code",
        "colab": {}
      },
      "source": [
        "\n",
        "#Set up width and hist for all chart\n",
        "width_main=800\n",
        "height_main=150\n",
        "width_hist=100\n",
        "\n",
        "list_chart1=[]\n",
        "for name in DFdict.keys():\n",
        "  df_box=DFdict[name].copy() #All values for each features\n",
        "  df_box['Datef']=df_box['Datef'].dt.date\n",
        "  value_name2=df_box.columns[1] #'C-Pitch', 'J', 'I', 'O', 'Z'\n",
        "  #Convert datetime to json\n",
        "  df_box['Datef']=df_box['Datef'].apply(lambda x: json.dumps(x, default = defaulta) )\n",
        "  base1 = alt.Chart(df_box).properties(width=width_main,height=height_main)\n",
        "\n",
        "  #Create box plot, USL, LSL, Nominal\n",
        "  box=base1.mark_boxplot().encode(\n",
        "      x=alt.X(\n",
        "          'Datef:O',scale=alt.Scale(),title=\"\",\n",
        "          ),\n",
        "      y=alt.Y(value_name2+':Q',scale=alt.Scale(zero=False),title=\"\")\n",
        "  ).properties(width=width_main,height=height_main)\n",
        "\n",
        "  line_USL=base1.mark_line(color='red').encode(\n",
        "      x=alt.X('Datef:O',scale=alt.Scale(zero=False)),\n",
        "      y=alt.Y('USL:Q',scale=alt.Scale(zero=False)),\n",
        "  )\n",
        "\n",
        "  line_LSL=base1.mark_line(color='red').encode(\n",
        "      x=alt.X('Datef:O',scale=alt.Scale(zero=False)),\n",
        "      y=alt.Y('LSL:Q',scale=alt.Scale(zero=False)),\n",
        "  )\n",
        "\n",
        "  line_Nominal=base1.mark_line(color='red').encode(\n",
        "      x=alt.X('Datef:O',scale=alt.Scale(zero=False)),\n",
        "      y=alt.Y('Nominal:Q',scale=alt.Scale(zero=False)),\n",
        "  )\n",
        "\n",
        "  chart=box + line_USL + line_LSL + line_Nominal\n",
        "\n",
        "  #Sub chart create (Histogram, USL, LSL, Nominal)\n",
        "  record_bar= alt.Chart(df_box).mark_bar().encode(\n",
        "      x='count()',\n",
        "      y=alt.Y(value_name2, bin=True,title=\"\")\n",
        "  ).properties(\n",
        "      height=height_main,\n",
        "      width=width_hist\n",
        "  )\n",
        "\n",
        "  USL_rule = alt.Chart(df_box).mark_rule(color='red').encode(\n",
        "      y=alt.Y('USL'),\n",
        "      size=alt.value(1)\n",
        "  )\n",
        "  LSL_rule = alt.Chart(df_box).mark_rule(color='red').encode(\n",
        "      y=alt.Y('LSL'),\n",
        "      size=alt.value(1)\n",
        "  )\n",
        "  Nominal_rule = alt.Chart(df_box).mark_rule(color='red').encode(\n",
        "      y=alt.Y('Nominal'),\n",
        "      size=alt.value(1)\n",
        "  )\n",
        "\n",
        "  sub_chart=record_bar + USL_rule + LSL_rule + Nominal_rule\n",
        "  boxchart= 'chart' + name\n",
        "  boxchart=alt.hconcat(chart,sub_chart).properties(title='Box Plot ' + value_name2)\n",
        "  list_chart1.append(boxchart)\n",
        "  boxchart\n",
        "  #altair_viewer.display(boxchart, inline=True)\n",
        "#boxchart_combine.save('boxchart_combine.html')\n"
      ],
      "execution_count": null,
      "outputs": []
    },
    {
      "cell_type": "code",
      "metadata": {
        "id": "FD5B2KXiLI8n",
        "colab_type": "code",
        "colab": {
          "base_uri": "https://localhost:8080/",
          "height": 35
        },
        "outputId": "483e5d69-48c3-48b8-9fd7-aadda7abd4e1"
      },
      "source": [
        "path=os.getcwd()\n",
        "path"
      ],
      "execution_count": null,
      "outputs": [
        {
          "output_type": "execute_result",
          "data": {
            "application/vnd.google.colaboratory.intrinsic+json": {
              "type": "string"
            },
            "text/plain": [
              "'/content'"
            ]
          },
          "metadata": {
            "tags": []
          },
          "execution_count": 35
        }
      ]
    },
    {
      "cell_type": "code",
      "metadata": {
        "id": "98xtPvioLnLI",
        "colab_type": "code",
        "colab": {
          "base_uri": "https://localhost:8080/",
          "height": 35
        },
        "outputId": "0c638e46-522e-46f2-f5c7-8354fa36448d"
      },
      "source": [
        "namefile"
      ],
      "execution_count": null,
      "outputs": [
        {
          "output_type": "execute_result",
          "data": {
            "application/vnd.google.colaboratory.intrinsic+json": {
              "type": "string"
            },
            "text/plain": [
              "'MMD2019'"
            ]
          },
          "metadata": {
            "tags": []
          },
          "execution_count": 36
        }
      ]
    },
    {
      "cell_type": "code",
      "metadata": {
        "id": "UzsJNqipqiJ8",
        "colab_type": "code",
        "colab": {
          "base_uri": "https://localhost:8080/",
          "height": 1000
        },
        "outputId": "24901f41-c627-4f28-a976-75eda38d52f8"
      },
      "source": [
        "box_chart_combine=alt.vconcat(data=df_group)\n",
        "for chart in list_chart1:\n",
        "  box_chart_combine &= chart\n",
        "#box_chart_combine.save('box_chart_combine'+namefile+'.html')\n",
        "box_chart_combine"
      ],
      "execution_count": null,
      "outputs": [
        {
          "output_type": "execute_result",
          "data": {
            "text/plain": [
              "alt.VConcatChart(...)"
            ],
            "text/html": [
              "\n",
              "<div id=\"altair-viz-955cb0defa8447c29717fe09eb3bad8b\"></div>\n",
              "<script type=\"text/javascript\">\n",
              "  (function(spec, embedOpt){\n",
              "    let outputDiv = document.currentScript.previousElementSibling;\n",
              "    if (outputDiv.id !== \"altair-viz-955cb0defa8447c29717fe09eb3bad8b\") {\n",
              "      outputDiv = document.getElementById(\"altair-viz-955cb0defa8447c29717fe09eb3bad8b\");\n",
              "    }\n",
              "    const paths = {\n",
              "      \"vega\": \"https://cdn.jsdelivr.net/npm//vega@5?noext\",\n",
              "      \"vega-lib\": \"https://cdn.jsdelivr.net/npm//vega-lib?noext\",\n",
              "      \"vega-lite\": \"https://cdn.jsdelivr.net/npm//vega-lite@4.8.1?noext\",\n",
              "      \"vega-embed\": \"https://cdn.jsdelivr.net/npm//vega-embed@6?noext\",\n",
              "    };\n",
              "\n",
              "    function loadScript(lib) {\n",
              "      return new Promise(function(resolve, reject) {\n",
              "        var s = document.createElement('script');\n",
              "        s.src = paths[lib];\n",
              "        s.async = true;\n",
              "        s.onload = () => resolve(paths[lib]);\n",
              "        s.onerror = () => reject(`Error loading script: ${paths[lib]}`);\n",
              "        document.getElementsByTagName(\"head\")[0].appendChild(s);\n",
              "      });\n",
              "    }\n",
              "\n",
              "    function showError(err) {\n",
              "      outputDiv.innerHTML = `<div class=\"error\" style=\"color:red;\">${err}</div>`;\n",
              "      throw err;\n",
              "    }\n",
              "\n",
              "    function displayChart(vegaEmbed) {\n",
              "      vegaEmbed(outputDiv, spec, embedOpt)\n",
              "        .catch(err => showError(`Javascript Error: ${err.message}<br>This usually means there's a typo in your chart specification. See the javascript console for the full traceback.`));\n",
              "    }\n",
              "\n",
              "    if(typeof define === \"function\" && define.amd) {\n",
              "      requirejs.config({paths});\n",
              "      require([\"vega-embed\"], displayChart, err => showError(`Error loading script: ${err.message}`));\n",
              "    } else if (typeof vegaEmbed === \"function\") {\n",
              "      displayChart(vegaEmbed);\n",
              "    } else {\n",
              "      loadScript(\"vega\")\n",
              "        .then(() => loadScript(\"vega-lite\"))\n",
              "        .then(() => loadScript(\"vega-embed\"))\n",
              "        .catch(showError)\n",
              "        .then(() => displayChart(vegaEmbed));\n",
              "    }\n",
              "  })({\"config\": {\"view\": {\"continuousWidth\": 400, \"continuousHeight\": 300}}, \"vconcat\": [{\"hconcat\": [{\"layer\": [{\"mark\": \"boxplot\", \"encoding\": {\"x\": {\"type\": \"ordinal\", \"field\": \"Datef\", \"scale\": {}, \"title\": \"\"}, \"y\": {\"type\": \"quantitative\", \"field\": \"C-Pitch\", \"scale\": {\"zero\": false}, \"title\": \"\"}}, \"height\": 150, \"width\": 800}, {\"mark\": {\"type\": \"line\", \"color\": \"red\"}, \"encoding\": {\"x\": {\"type\": \"ordinal\", \"field\": \"Datef\", \"scale\": {\"zero\": false}}, \"y\": {\"type\": \"quantitative\", \"field\": \"USL\", \"scale\": {\"zero\": false}}}, \"height\": 150, \"width\": 800}, {\"mark\": {\"type\": \"line\", \"color\": \"red\"}, \"encoding\": {\"x\": {\"type\": \"ordinal\", \"field\": \"Datef\", \"scale\": {\"zero\": false}}, \"y\": {\"type\": \"quantitative\", \"field\": \"LSL\", \"scale\": {\"zero\": false}}}, \"height\": 150, \"width\": 800}, {\"mark\": {\"type\": \"line\", \"color\": \"red\"}, \"encoding\": {\"x\": {\"type\": \"ordinal\", \"field\": \"Datef\", \"scale\": {\"zero\": false}}, \"y\": {\"type\": \"quantitative\", \"field\": \"Nominal\", \"scale\": {\"zero\": false}}}, \"height\": 150, \"width\": 800}]}, {\"layer\": [{\"mark\": \"bar\", \"encoding\": {\"x\": {\"type\": \"quantitative\", \"aggregate\": \"count\"}, \"y\": {\"type\": \"quantitative\", \"bin\": true, \"field\": \"C-Pitch\", \"title\": \"\"}}, \"height\": 150, \"width\": 100}, {\"mark\": {\"type\": \"rule\", \"color\": \"red\"}, \"encoding\": {\"size\": {\"value\": 1}, \"y\": {\"type\": \"quantitative\", \"field\": \"USL\"}}}, {\"mark\": {\"type\": \"rule\", \"color\": \"red\"}, \"encoding\": {\"size\": {\"value\": 1}, \"y\": {\"type\": \"quantitative\", \"field\": \"LSL\"}}}, {\"mark\": {\"type\": \"rule\", \"color\": \"red\"}, \"encoding\": {\"size\": {\"value\": 1}, \"y\": {\"type\": \"quantitative\", \"field\": \"Nominal\"}}}]}], \"data\": {\"name\": \"data-e6676b181ec920b03930151172c0c4bc\"}, \"title\": \"Box Plot C-Pitch\"}, {\"hconcat\": [{\"layer\": [{\"mark\": \"boxplot\", \"encoding\": {\"x\": {\"type\": \"ordinal\", \"field\": \"Datef\", \"scale\": {}, \"title\": \"\"}, \"y\": {\"type\": \"quantitative\", \"field\": \"J\", \"scale\": {\"zero\": false}, \"title\": \"\"}}, \"height\": 150, \"width\": 800}, {\"mark\": {\"type\": \"line\", \"color\": \"red\"}, \"encoding\": {\"x\": {\"type\": \"ordinal\", \"field\": \"Datef\", \"scale\": {\"zero\": false}}, \"y\": {\"type\": \"quantitative\", \"field\": \"USL\", \"scale\": {\"zero\": false}}}, \"height\": 150, \"width\": 800}, {\"mark\": {\"type\": \"line\", \"color\": \"red\"}, \"encoding\": {\"x\": {\"type\": \"ordinal\", \"field\": \"Datef\", \"scale\": {\"zero\": false}}, \"y\": {\"type\": \"quantitative\", \"field\": \"LSL\", \"scale\": {\"zero\": false}}}, \"height\": 150, \"width\": 800}, {\"mark\": {\"type\": \"line\", \"color\": \"red\"}, \"encoding\": {\"x\": {\"type\": \"ordinal\", \"field\": \"Datef\", \"scale\": {\"zero\": false}}, \"y\": {\"type\": \"quantitative\", \"field\": \"Nominal\", \"scale\": {\"zero\": false}}}, \"height\": 150, \"width\": 800}]}, {\"layer\": [{\"mark\": \"bar\", \"encoding\": {\"x\": {\"type\": \"quantitative\", \"aggregate\": \"count\"}, \"y\": {\"type\": \"quantitative\", \"bin\": true, \"field\": \"J\", \"title\": \"\"}}, \"height\": 150, \"width\": 100}, {\"mark\": {\"type\": \"rule\", \"color\": \"red\"}, \"encoding\": {\"size\": {\"value\": 1}, \"y\": {\"type\": \"quantitative\", \"field\": \"USL\"}}}, {\"mark\": {\"type\": \"rule\", \"color\": \"red\"}, \"encoding\": {\"size\": {\"value\": 1}, \"y\": {\"type\": \"quantitative\", \"field\": \"LSL\"}}}, {\"mark\": {\"type\": \"rule\", \"color\": \"red\"}, \"encoding\": {\"size\": {\"value\": 1}, \"y\": {\"type\": \"quantitative\", \"field\": \"Nominal\"}}}]}], \"data\": {\"name\": \"data-376069c2ee378a3be8be401b3b03beff\"}, \"title\": \"Box Plot J\"}, {\"hconcat\": [{\"layer\": [{\"mark\": \"boxplot\", \"encoding\": {\"x\": {\"type\": \"ordinal\", \"field\": \"Datef\", \"scale\": {}, \"title\": \"\"}, \"y\": {\"type\": \"quantitative\", \"field\": \"I\", \"scale\": {\"zero\": false}, \"title\": \"\"}}, \"height\": 150, \"width\": 800}, {\"mark\": {\"type\": \"line\", \"color\": \"red\"}, \"encoding\": {\"x\": {\"type\": \"ordinal\", \"field\": \"Datef\", \"scale\": {\"zero\": false}}, \"y\": {\"type\": \"quantitative\", \"field\": \"USL\", \"scale\": {\"zero\": false}}}, \"height\": 150, \"width\": 800}, {\"mark\": {\"type\": \"line\", \"color\": \"red\"}, \"encoding\": {\"x\": {\"type\": \"ordinal\", \"field\": \"Datef\", \"scale\": {\"zero\": false}}, \"y\": {\"type\": \"quantitative\", \"field\": \"LSL\", \"scale\": {\"zero\": false}}}, \"height\": 150, \"width\": 800}, {\"mark\": {\"type\": \"line\", \"color\": \"red\"}, \"encoding\": {\"x\": {\"type\": \"ordinal\", \"field\": \"Datef\", \"scale\": {\"zero\": false}}, \"y\": {\"type\": \"quantitative\", \"field\": \"Nominal\", \"scale\": {\"zero\": false}}}, \"height\": 150, \"width\": 800}]}, {\"layer\": [{\"mark\": \"bar\", \"encoding\": {\"x\": {\"type\": \"quantitative\", \"aggregate\": \"count\"}, \"y\": {\"type\": \"quantitative\", \"bin\": true, \"field\": \"I\", \"title\": \"\"}}, \"height\": 150, \"width\": 100}, {\"mark\": {\"type\": \"rule\", \"color\": \"red\"}, \"encoding\": {\"size\": {\"value\": 1}, \"y\": {\"type\": \"quantitative\", \"field\": \"USL\"}}}, {\"mark\": {\"type\": \"rule\", \"color\": \"red\"}, \"encoding\": {\"size\": {\"value\": 1}, \"y\": {\"type\": \"quantitative\", \"field\": \"LSL\"}}}, {\"mark\": {\"type\": \"rule\", \"color\": \"red\"}, \"encoding\": {\"size\": {\"value\": 1}, \"y\": {\"type\": \"quantitative\", \"field\": \"Nominal\"}}}]}], \"data\": {\"name\": \"data-89a563b4fdb08ce29bd91819ea45bf24\"}, \"title\": \"Box Plot I\"}, {\"hconcat\": [{\"layer\": [{\"mark\": \"boxplot\", \"encoding\": {\"x\": {\"type\": \"ordinal\", \"field\": \"Datef\", \"scale\": {}, \"title\": \"\"}, \"y\": {\"type\": \"quantitative\", \"field\": \"O\", \"scale\": {\"zero\": false}, \"title\": \"\"}}, \"height\": 150, \"width\": 800}, {\"mark\": {\"type\": \"line\", \"color\": \"red\"}, \"encoding\": {\"x\": {\"type\": \"ordinal\", \"field\": \"Datef\", \"scale\": {\"zero\": false}}, \"y\": {\"type\": \"quantitative\", \"field\": \"USL\", \"scale\": {\"zero\": false}}}, \"height\": 150, \"width\": 800}, {\"mark\": {\"type\": \"line\", \"color\": \"red\"}, \"encoding\": {\"x\": {\"type\": \"ordinal\", \"field\": \"Datef\", \"scale\": {\"zero\": false}}, \"y\": {\"type\": \"quantitative\", \"field\": \"LSL\", \"scale\": {\"zero\": false}}}, \"height\": 150, \"width\": 800}, {\"mark\": {\"type\": \"line\", \"color\": \"red\"}, \"encoding\": {\"x\": {\"type\": \"ordinal\", \"field\": \"Datef\", \"scale\": {\"zero\": false}}, \"y\": {\"type\": \"quantitative\", \"field\": \"Nominal\", \"scale\": {\"zero\": false}}}, \"height\": 150, \"width\": 800}]}, {\"layer\": [{\"mark\": \"bar\", \"encoding\": {\"x\": {\"type\": \"quantitative\", \"aggregate\": \"count\"}, \"y\": {\"type\": \"quantitative\", \"bin\": true, \"field\": \"O\", \"title\": \"\"}}, \"height\": 150, \"width\": 100}, {\"mark\": {\"type\": \"rule\", \"color\": \"red\"}, \"encoding\": {\"size\": {\"value\": 1}, \"y\": {\"type\": \"quantitative\", \"field\": \"USL\"}}}, {\"mark\": {\"type\": \"rule\", \"color\": \"red\"}, \"encoding\": {\"size\": {\"value\": 1}, \"y\": {\"type\": \"quantitative\", \"field\": \"LSL\"}}}, {\"mark\": {\"type\": \"rule\", \"color\": \"red\"}, \"encoding\": {\"size\": {\"value\": 1}, \"y\": {\"type\": \"quantitative\", \"field\": \"Nominal\"}}}]}], \"data\": {\"name\": \"data-167a625bfc2ce63196d8fcf511d6c30d\"}, \"title\": \"Box Plot O\"}, {\"hconcat\": [{\"layer\": [{\"mark\": \"boxplot\", \"encoding\": {\"x\": {\"type\": \"ordinal\", \"field\": \"Datef\", \"scale\": {}, \"title\": \"\"}, \"y\": {\"type\": \"quantitative\", \"field\": \"Z\", \"scale\": {\"zero\": false}, \"title\": \"\"}}, \"height\": 150, \"width\": 800}, {\"mark\": {\"type\": \"line\", \"color\": \"red\"}, \"encoding\": {\"x\": {\"type\": \"ordinal\", \"field\": \"Datef\", \"scale\": {\"zero\": false}}, \"y\": {\"type\": \"quantitative\", \"field\": \"USL\", \"scale\": {\"zero\": false}}}, \"height\": 150, \"width\": 800}, {\"mark\": {\"type\": \"line\", \"color\": \"red\"}, \"encoding\": {\"x\": {\"type\": \"ordinal\", \"field\": \"Datef\", \"scale\": {\"zero\": false}}, \"y\": {\"type\": \"quantitative\", \"field\": \"LSL\", \"scale\": {\"zero\": false}}}, \"height\": 150, \"width\": 800}, {\"mark\": {\"type\": \"line\", \"color\": \"red\"}, \"encoding\": {\"x\": {\"type\": \"ordinal\", \"field\": \"Datef\", \"scale\": {\"zero\": false}}, \"y\": {\"type\": \"quantitative\", \"field\": \"Nominal\", \"scale\": {\"zero\": false}}}, \"height\": 150, \"width\": 800}]}, {\"layer\": [{\"mark\": \"bar\", \"encoding\": {\"x\": {\"type\": \"quantitative\", \"aggregate\": \"count\"}, \"y\": {\"type\": \"quantitative\", \"bin\": true, \"field\": \"Z\", \"title\": \"\"}}, \"height\": 150, \"width\": 100}, {\"mark\": {\"type\": \"rule\", \"color\": \"red\"}, \"encoding\": {\"size\": {\"value\": 1}, \"y\": {\"type\": \"quantitative\", \"field\": \"USL\"}}}, {\"mark\": {\"type\": \"rule\", \"color\": \"red\"}, \"encoding\": {\"size\": {\"value\": 1}, \"y\": {\"type\": \"quantitative\", \"field\": \"LSL\"}}}, {\"mark\": {\"type\": \"rule\", \"color\": \"red\"}, \"encoding\": {\"size\": {\"value\": 1}, \"y\": {\"type\": \"quantitative\", \"field\": \"Nominal\"}}}]}], \"data\": {\"name\": \"data-1c5f679b5333ab88874ec7ef37d3a5c8\"}, \"title\": \"Box Plot Z\"}], \"data\": {\"name\": \"data-47a814cf3ec57a3003be7397291d8b23\"}, \"$schema\": \"https://vega.github.io/schema/vega-lite/v4.8.1.json\", \"datasets\": {\"data-47a814cf3ec57a3003be7397291d8b23\": [{\"Datef\": \"2019-01-11T00:00:00\", \"Z\": 0.31, \"USL\": 0.32, \"LSL\": 0.27999999999999997, \"Nominal\": 0.3}, {\"Datef\": \"2019-01-22T00:00:00\", \"Z\": 0.311, \"USL\": 0.32, \"LSL\": 0.27999999999999997, \"Nominal\": 0.3}, {\"Datef\": \"2019-01-26T00:00:00\", \"Z\": 0.311, \"USL\": 0.32, \"LSL\": 0.27999999999999997, \"Nominal\": 0.3}, {\"Datef\": \"2019-01-31T00:00:00\", \"Z\": 0.311, \"USL\": 0.32, \"LSL\": 0.27999999999999997, \"Nominal\": 0.3}, {\"Datef\": \"2019-02-11T00:00:00\", \"Z\": 0.312, \"USL\": 0.32, \"LSL\": 0.27999999999999997, \"Nominal\": 0.3}, {\"Datef\": \"2019-02-22T00:00:00\", \"Z\": 0.312, \"USL\": 0.32, \"LSL\": 0.27999999999999997, \"Nominal\": 0.3}, {\"Datef\": \"2019-02-27T00:00:00\", \"Z\": 0.311, \"USL\": 0.32, \"LSL\": 0.27999999999999997, \"Nominal\": 0.3}, {\"Datef\": \"2019-03-07T00:00:00\", \"Z\": 0.311, \"USL\": 0.32, \"LSL\": 0.27999999999999997, \"Nominal\": 0.3}, {\"Datef\": \"2019-03-15T00:00:00\", \"Z\": 0.312, \"USL\": 0.32, \"LSL\": 0.27999999999999997, \"Nominal\": 0.3}, {\"Datef\": \"2019-04-05T00:00:00\", \"Z\": 0.311, \"USL\": 0.32, \"LSL\": 0.27999999999999997, \"Nominal\": 0.3}, {\"Datef\": \"2019-04-16T00:00:00\", \"Z\": 0.313, \"USL\": 0.31999999999999995, \"LSL\": 0.2799999999999999, \"Nominal\": 0.29999999999999993}, {\"Datef\": \"2019-05-27T00:00:00\", \"Z\": 0.313, \"USL\": 0.32, \"LSL\": 0.27999999999999997, \"Nominal\": 0.3}, {\"Datef\": \"2019-06-03T00:00:00\", \"Z\": 0.313, \"USL\": 0.32, \"LSL\": 0.27999999999999997, \"Nominal\": 0.3}, {\"Datef\": \"2019-06-10T00:00:00\", \"Z\": 0.311, \"USL\": 0.32, \"LSL\": 0.27999999999999997, \"Nominal\": 0.3}, {\"Datef\": \"2019-06-17T00:00:00\", \"Z\": 0.313, \"USL\": 0.32, \"LSL\": 0.27999999999999997, \"Nominal\": 0.3}, {\"Datef\": \"2019-06-25T00:00:00\", \"Z\": 0.316, \"USL\": 0.32, \"LSL\": 0.27999999999999997, \"Nominal\": 0.3}, {\"Datef\": \"2019-06-28T00:00:00\", \"Z\": 0.316, \"USL\": 0.32, \"LSL\": 0.27999999999999997, \"Nominal\": 0.3}, {\"Datef\": \"2019-08-07T00:00:00\", \"Z\": 0.313, \"USL\": 0.32, \"LSL\": 0.27999999999999997, \"Nominal\": 0.3}, {\"Datef\": \"2019-08-19T00:00:00\", \"Z\": 0.313, \"USL\": 0.32, \"LSL\": 0.27999999999999997, \"Nominal\": 0.3}, {\"Datef\": \"2019-08-26T00:00:00\", \"Z\": 0.313, \"USL\": 0.32, \"LSL\": 0.27999999999999997, \"Nominal\": 0.3}, {\"Datef\": \"2019-09-05T00:00:00\", \"Z\": 0.316, \"USL\": 0.32, \"LSL\": 0.27999999999999997, \"Nominal\": 0.3}, {\"Datef\": \"2019-10-17T00:00:00\", \"Z\": 0.313, \"USL\": 0.32, \"LSL\": 0.27999999999999997, \"Nominal\": 0.3}, {\"Datef\": \"2019-11-01T00:00:00\", \"Z\": 0.313, \"USL\": 0.32, \"LSL\": 0.27999999999999997, \"Nominal\": 0.3}, {\"Datef\": \"2019-11-13T00:00:00\", \"Z\": 0.315, \"USL\": 0.32, \"LSL\": 0.27999999999999997, \"Nominal\": 0.3}, {\"Datef\": \"2019-12-05T00:00:00\", \"Z\": 0.308, \"USL\": 0.32, \"LSL\": 0.27999999999999997, \"Nominal\": 0.3}, {\"Datef\": \"2019-12-10T00:00:00\", \"Z\": 0.311, \"USL\": 0.32, \"LSL\": 0.27999999999999997, \"Nominal\": 0.3}, {\"Datef\": \"2019-12-26T00:00:00\", \"Z\": 0.312, \"USL\": 0.32, \"LSL\": 0.27999999999999997, \"Nominal\": 0.3}, {\"Datef\": \"2019-12-31T00:00:00\", \"Z\": 0.313, \"USL\": 0.32, \"LSL\": 0.27999999999999997, \"Nominal\": 0.3}], \"data-e6676b181ec920b03930151172c0c4bc\": [{\"Datef\": \"\\\"2019-01-11\\\"\", \"C-Pitch\": 10.003, \"USL\": 10.01, \"LSL\": 9.99, \"Nominal\": 10.0}, {\"Datef\": \"\\\"2019-01-11\\\"\", \"C-Pitch\": 10.005, \"USL\": 10.01, \"LSL\": 9.99, \"Nominal\": 10.0}, {\"Datef\": \"\\\"2019-01-11\\\"\", \"C-Pitch\": 10.005, \"USL\": 10.01, \"LSL\": 9.99, \"Nominal\": 10.0}, {\"Datef\": \"\\\"2019-01-11\\\"\", \"C-Pitch\": 10.002, \"USL\": 10.01, \"LSL\": 9.99, \"Nominal\": 10.0}, {\"Datef\": \"\\\"2019-01-11\\\"\", \"C-Pitch\": 10.003, \"USL\": 10.01, \"LSL\": 9.99, \"Nominal\": 10.0}, {\"Datef\": \"\\\"2019-01-22\\\"\", \"C-Pitch\": 10.002, \"USL\": 10.01, \"LSL\": 9.99, \"Nominal\": 10.0}, {\"Datef\": \"\\\"2019-01-22\\\"\", \"C-Pitch\": 9.996, \"USL\": 10.01, \"LSL\": 9.99, \"Nominal\": 10.0}, {\"Datef\": \"\\\"2019-01-22\\\"\", \"C-Pitch\": 10.005, \"USL\": 10.01, \"LSL\": 9.99, \"Nominal\": 10.0}, {\"Datef\": \"\\\"2019-01-22\\\"\", \"C-Pitch\": 10.003, \"USL\": 10.01, \"LSL\": 9.99, \"Nominal\": 10.0}, {\"Datef\": \"\\\"2019-01-22\\\"\", \"C-Pitch\": 9.998, \"USL\": 10.01, \"LSL\": 9.99, \"Nominal\": 10.0}, {\"Datef\": \"\\\"2019-01-26\\\"\", \"C-Pitch\": 10.005, \"USL\": 10.01, \"LSL\": 9.99, \"Nominal\": 10.0}, {\"Datef\": \"\\\"2019-01-26\\\"\", \"C-Pitch\": 9.995, \"USL\": 10.01, \"LSL\": 9.99, \"Nominal\": 10.0}, {\"Datef\": \"\\\"2019-01-26\\\"\", \"C-Pitch\": 10.003, \"USL\": 10.01, \"LSL\": 9.99, \"Nominal\": 10.0}, {\"Datef\": \"\\\"2019-01-26\\\"\", \"C-Pitch\": 9.997, \"USL\": 10.01, \"LSL\": 9.99, \"Nominal\": 10.0}, {\"Datef\": \"\\\"2019-01-26\\\"\", \"C-Pitch\": 10.009, \"USL\": 10.01, \"LSL\": 9.99, \"Nominal\": 10.0}, {\"Datef\": \"\\\"2019-01-31\\\"\", \"C-Pitch\": 9.997, \"USL\": 10.01, \"LSL\": 9.99, \"Nominal\": 10.0}, {\"Datef\": \"\\\"2019-01-31\\\"\", \"C-Pitch\": 10.009, \"USL\": 10.01, \"LSL\": 9.99, \"Nominal\": 10.0}, {\"Datef\": \"\\\"2019-01-31\\\"\", \"C-Pitch\": 9.997, \"USL\": 10.01, \"LSL\": 9.99, \"Nominal\": 10.0}, {\"Datef\": \"\\\"2019-01-31\\\"\", \"C-Pitch\": 10.008, \"USL\": 10.01, \"LSL\": 9.99, \"Nominal\": 10.0}, {\"Datef\": \"\\\"2019-01-31\\\"\", \"C-Pitch\": 10.005, \"USL\": 10.01, \"LSL\": 9.99, \"Nominal\": 10.0}, {\"Datef\": \"\\\"2019-02-11\\\"\", \"C-Pitch\": 10.005, \"USL\": 10.01, \"LSL\": 9.99, \"Nominal\": 10.0}, {\"Datef\": \"\\\"2019-02-11\\\"\", \"C-Pitch\": 10.003, \"USL\": 10.01, \"LSL\": 9.99, \"Nominal\": 10.0}, {\"Datef\": \"\\\"2019-02-11\\\"\", \"C-Pitch\": 10.004, \"USL\": 10.01, \"LSL\": 9.99, \"Nominal\": 10.0}, {\"Datef\": \"\\\"2019-02-11\\\"\", \"C-Pitch\": 9.998, \"USL\": 10.01, \"LSL\": 9.99, \"Nominal\": 10.0}, {\"Datef\": \"\\\"2019-02-11\\\"\", \"C-Pitch\": 10.005, \"USL\": 10.01, \"LSL\": 9.99, \"Nominal\": 10.0}, {\"Datef\": \"\\\"2019-02-22\\\"\", \"C-Pitch\": 9.995, \"USL\": 10.01, \"LSL\": 9.99, \"Nominal\": 10.0}, {\"Datef\": \"\\\"2019-02-22\\\"\", \"C-Pitch\": 10.01, \"USL\": 10.01, \"LSL\": 9.99, \"Nominal\": 10.0}, {\"Datef\": \"\\\"2019-02-22\\\"\", \"C-Pitch\": 9.999, \"USL\": 10.01, \"LSL\": 9.99, \"Nominal\": 10.0}, {\"Datef\": \"\\\"2019-02-22\\\"\", \"C-Pitch\": 10.008, \"USL\": 10.01, \"LSL\": 9.99, \"Nominal\": 10.0}, {\"Datef\": \"\\\"2019-02-22\\\"\", \"C-Pitch\": 9.999, \"USL\": 10.01, \"LSL\": 9.99, \"Nominal\": 10.0}, {\"Datef\": \"\\\"2019-02-27\\\"\", \"C-Pitch\": 10.009, \"USL\": 10.01, \"LSL\": 9.99, \"Nominal\": 10.0}, {\"Datef\": \"\\\"2019-02-27\\\"\", \"C-Pitch\": 9.999, \"USL\": 10.01, \"LSL\": 9.99, \"Nominal\": 10.0}, {\"Datef\": \"\\\"2019-02-27\\\"\", \"C-Pitch\": 10.005, \"USL\": 10.01, \"LSL\": 9.99, \"Nominal\": 10.0}, {\"Datef\": \"\\\"2019-02-27\\\"\", \"C-Pitch\": 9.996, \"USL\": 10.01, \"LSL\": 9.99, \"Nominal\": 10.0}, {\"Datef\": \"\\\"2019-02-27\\\"\", \"C-Pitch\": 10.006, \"USL\": 10.01, \"LSL\": 9.99, \"Nominal\": 10.0}, {\"Datef\": \"\\\"2019-03-07\\\"\", \"C-Pitch\": 10.001, \"USL\": 10.01, \"LSL\": 9.99, \"Nominal\": 10.0}, {\"Datef\": \"\\\"2019-03-07\\\"\", \"C-Pitch\": 10.002, \"USL\": 10.01, \"LSL\": 9.99, \"Nominal\": 10.0}, {\"Datef\": \"\\\"2019-03-07\\\"\", \"C-Pitch\": 10.001, \"USL\": 10.01, \"LSL\": 9.99, \"Nominal\": 10.0}, {\"Datef\": \"\\\"2019-03-07\\\"\", \"C-Pitch\": 10.002, \"USL\": 10.01, \"LSL\": 9.99, \"Nominal\": 10.0}, {\"Datef\": \"\\\"2019-03-07\\\"\", \"C-Pitch\": 10.002, \"USL\": 10.01, \"LSL\": 9.99, \"Nominal\": 10.0}, {\"Datef\": \"\\\"2019-03-15\\\"\", \"C-Pitch\": 9.996, \"USL\": 10.01, \"LSL\": 9.99, \"Nominal\": 10.0}, {\"Datef\": \"\\\"2019-03-15\\\"\", \"C-Pitch\": 10.004, \"USL\": 10.01, \"LSL\": 9.99, \"Nominal\": 10.0}, {\"Datef\": \"\\\"2019-03-15\\\"\", \"C-Pitch\": 9.991, \"USL\": 10.01, \"LSL\": 9.99, \"Nominal\": 10.0}, {\"Datef\": \"\\\"2019-03-15\\\"\", \"C-Pitch\": 10.0, \"USL\": 10.01, \"LSL\": 9.99, \"Nominal\": 10.0}, {\"Datef\": \"\\\"2019-03-15\\\"\", \"C-Pitch\": 10.0, \"USL\": 10.01, \"LSL\": 9.99, \"Nominal\": 10.0}, {\"Datef\": \"\\\"2019-04-05\\\"\", \"C-Pitch\": 9.998, \"USL\": 10.01, \"LSL\": 9.99, \"Nominal\": 10.0}, {\"Datef\": \"\\\"2019-04-05\\\"\", \"C-Pitch\": 10.009, \"USL\": 10.01, \"LSL\": 9.99, \"Nominal\": 10.0}, {\"Datef\": \"\\\"2019-04-05\\\"\", \"C-Pitch\": 9.999, \"USL\": 10.01, \"LSL\": 9.99, \"Nominal\": 10.0}, {\"Datef\": \"\\\"2019-04-05\\\"\", \"C-Pitch\": 10.004, \"USL\": 10.01, \"LSL\": 9.99, \"Nominal\": 10.0}, {\"Datef\": \"\\\"2019-04-05\\\"\", \"C-Pitch\": 10.002, \"USL\": 10.01, \"LSL\": 9.99, \"Nominal\": 10.0}, {\"Datef\": \"\\\"2019-04-16\\\"\", \"C-Pitch\": 10.004, \"USL\": 10.01, \"LSL\": 9.99, \"Nominal\": 10.0}, {\"Datef\": \"\\\"2019-04-16\\\"\", \"C-Pitch\": 9.993, \"USL\": 10.01, \"LSL\": 9.99, \"Nominal\": 10.0}, {\"Datef\": \"\\\"2019-04-16\\\"\", \"C-Pitch\": 10.005, \"USL\": 10.01, \"LSL\": 9.99, \"Nominal\": 10.0}, {\"Datef\": \"\\\"2019-04-16\\\"\", \"C-Pitch\": 10.003, \"USL\": 10.01, \"LSL\": 9.99, \"Nominal\": 10.0}, {\"Datef\": \"\\\"2019-04-16\\\"\", \"C-Pitch\": 10.007, \"USL\": 10.01, \"LSL\": 9.99, \"Nominal\": 10.0}, {\"Datef\": \"\\\"2019-04-16\\\"\", \"C-Pitch\": 10.005, \"USL\": 10.01, \"LSL\": 9.99, \"Nominal\": 10.0}, {\"Datef\": \"\\\"2019-04-16\\\"\", \"C-Pitch\": 10.005, \"USL\": 10.01, \"LSL\": 9.99, \"Nominal\": 10.0}, {\"Datef\": \"\\\"2019-04-16\\\"\", \"C-Pitch\": 10.008, \"USL\": 10.01, \"LSL\": 9.99, \"Nominal\": 10.0}, {\"Datef\": \"\\\"2019-04-16\\\"\", \"C-Pitch\": 9.997, \"USL\": 10.01, \"LSL\": 9.99, \"Nominal\": 10.0}, {\"Datef\": \"\\\"2019-04-16\\\"\", \"C-Pitch\": 10.005, \"USL\": 10.01, \"LSL\": 9.99, \"Nominal\": 10.0}, {\"Datef\": \"\\\"2019-05-27\\\"\", \"C-Pitch\": 10.004, \"USL\": 10.01, \"LSL\": 9.99, \"Nominal\": 10.0}, {\"Datef\": \"\\\"2019-05-27\\\"\", \"C-Pitch\": 9.998, \"USL\": 10.01, \"LSL\": 9.99, \"Nominal\": 10.0}, {\"Datef\": \"\\\"2019-05-27\\\"\", \"C-Pitch\": 10.01, \"USL\": 10.01, \"LSL\": 9.99, \"Nominal\": 10.0}, {\"Datef\": \"\\\"2019-05-27\\\"\", \"C-Pitch\": 9.999, \"USL\": 10.01, \"LSL\": 9.99, \"Nominal\": 10.0}, {\"Datef\": \"\\\"2019-05-27\\\"\", \"C-Pitch\": 10.007, \"USL\": 10.01, \"LSL\": 9.99, \"Nominal\": 10.0}, {\"Datef\": \"\\\"2019-06-03\\\"\", \"C-Pitch\": 10.005, \"USL\": 10.01, \"LSL\": 9.99, \"Nominal\": 10.0}, {\"Datef\": \"\\\"2019-06-03\\\"\", \"C-Pitch\": 10.001, \"USL\": 10.01, \"LSL\": 9.99, \"Nominal\": 10.0}, {\"Datef\": \"\\\"2019-06-03\\\"\", \"C-Pitch\": 10.001, \"USL\": 10.01, \"LSL\": 9.99, \"Nominal\": 10.0}, {\"Datef\": \"\\\"2019-06-03\\\"\", \"C-Pitch\": 9.998, \"USL\": 10.01, \"LSL\": 9.99, \"Nominal\": 10.0}, {\"Datef\": \"\\\"2019-06-03\\\"\", \"C-Pitch\": 10.001, \"USL\": 10.01, \"LSL\": 9.99, \"Nominal\": 10.0}, {\"Datef\": \"\\\"2019-06-10\\\"\", \"C-Pitch\": 9.997, \"USL\": 10.01, \"LSL\": 9.99, \"Nominal\": 10.0}, {\"Datef\": \"\\\"2019-06-10\\\"\", \"C-Pitch\": 9.999, \"USL\": 10.01, \"LSL\": 9.99, \"Nominal\": 10.0}, {\"Datef\": \"\\\"2019-06-10\\\"\", \"C-Pitch\": 9.998, \"USL\": 10.01, \"LSL\": 9.99, \"Nominal\": 10.0}, {\"Datef\": \"\\\"2019-06-10\\\"\", \"C-Pitch\": 10.001, \"USL\": 10.01, \"LSL\": 9.99, \"Nominal\": 10.0}, {\"Datef\": \"\\\"2019-06-10\\\"\", \"C-Pitch\": 10.004, \"USL\": 10.01, \"LSL\": 9.99, \"Nominal\": 10.0}, {\"Datef\": \"\\\"2019-06-17\\\"\", \"C-Pitch\": 9.999, \"USL\": 10.01, \"LSL\": 9.99, \"Nominal\": 10.0}, {\"Datef\": \"\\\"2019-06-17\\\"\", \"C-Pitch\": 10.003, \"USL\": 10.01, \"LSL\": 9.99, \"Nominal\": 10.0}, {\"Datef\": \"\\\"2019-06-17\\\"\", \"C-Pitch\": 10.004, \"USL\": 10.01, \"LSL\": 9.99, \"Nominal\": 10.0}, {\"Datef\": \"\\\"2019-06-17\\\"\", \"C-Pitch\": 9.998, \"USL\": 10.01, \"LSL\": 9.99, \"Nominal\": 10.0}, {\"Datef\": \"\\\"2019-06-17\\\"\", \"C-Pitch\": 10.004, \"USL\": 10.01, \"LSL\": 9.99, \"Nominal\": 10.0}, {\"Datef\": \"\\\"2019-06-25\\\"\", \"C-Pitch\": 10.004, \"USL\": 10.01, \"LSL\": 9.99, \"Nominal\": 10.0}, {\"Datef\": \"\\\"2019-06-25\\\"\", \"C-Pitch\": 9.999, \"USL\": 10.01, \"LSL\": 9.99, \"Nominal\": 10.0}, {\"Datef\": \"\\\"2019-06-25\\\"\", \"C-Pitch\": 9.993, \"USL\": 10.01, \"LSL\": 9.99, \"Nominal\": 10.0}, {\"Datef\": \"\\\"2019-06-25\\\"\", \"C-Pitch\": 10.005, \"USL\": 10.01, \"LSL\": 9.99, \"Nominal\": 10.0}, {\"Datef\": \"\\\"2019-06-25\\\"\", \"C-Pitch\": 10.003, \"USL\": 10.01, \"LSL\": 9.99, \"Nominal\": 10.0}, {\"Datef\": \"\\\"2019-06-28\\\"\", \"C-Pitch\": 9.994, \"USL\": 10.01, \"LSL\": 9.99, \"Nominal\": 10.0}, {\"Datef\": \"\\\"2019-06-28\\\"\", \"C-Pitch\": 10.0, \"USL\": 10.01, \"LSL\": 9.99, \"Nominal\": 10.0}, {\"Datef\": \"\\\"2019-06-28\\\"\", \"C-Pitch\": 10.001, \"USL\": 10.01, \"LSL\": 9.99, \"Nominal\": 10.0}, {\"Datef\": \"\\\"2019-06-28\\\"\", \"C-Pitch\": 10.005, \"USL\": 10.01, \"LSL\": 9.99, \"Nominal\": 10.0}, {\"Datef\": \"\\\"2019-06-28\\\"\", \"C-Pitch\": 10.01, \"USL\": 10.01, \"LSL\": 9.99, \"Nominal\": 10.0}, {\"Datef\": \"\\\"2019-08-07\\\"\", \"C-Pitch\": 10.001, \"USL\": 10.01, \"LSL\": 9.99, \"Nominal\": 10.0}, {\"Datef\": \"\\\"2019-08-07\\\"\", \"C-Pitch\": 10.002, \"USL\": 10.01, \"LSL\": 9.99, \"Nominal\": 10.0}, {\"Datef\": \"\\\"2019-08-07\\\"\", \"C-Pitch\": 10.004, \"USL\": 10.01, \"LSL\": 9.99, \"Nominal\": 10.0}, {\"Datef\": \"\\\"2019-08-07\\\"\", \"C-Pitch\": 10.001, \"USL\": 10.01, \"LSL\": 9.99, \"Nominal\": 10.0}, {\"Datef\": \"\\\"2019-08-07\\\"\", \"C-Pitch\": 9.998, \"USL\": 10.01, \"LSL\": 9.99, \"Nominal\": 10.0}, {\"Datef\": \"\\\"2019-08-19\\\"\", \"C-Pitch\": 9.993, \"USL\": 10.01, \"LSL\": 9.99, \"Nominal\": 10.0}, {\"Datef\": \"\\\"2019-08-19\\\"\", \"C-Pitch\": 10.002, \"USL\": 10.01, \"LSL\": 9.99, \"Nominal\": 10.0}, {\"Datef\": \"\\\"2019-08-19\\\"\", \"C-Pitch\": 10.003, \"USL\": 10.01, \"LSL\": 9.99, \"Nominal\": 10.0}, {\"Datef\": \"\\\"2019-08-19\\\"\", \"C-Pitch\": 10.0, \"USL\": 10.01, \"LSL\": 9.99, \"Nominal\": 10.0}, {\"Datef\": \"\\\"2019-08-19\\\"\", \"C-Pitch\": 10.003, \"USL\": 10.01, \"LSL\": 9.99, \"Nominal\": 10.0}, {\"Datef\": \"\\\"2019-08-26\\\"\", \"C-Pitch\": 10.002, \"USL\": 10.01, \"LSL\": 9.99, \"Nominal\": 10.0}, {\"Datef\": \"\\\"2019-08-26\\\"\", \"C-Pitch\": 10.002, \"USL\": 10.01, \"LSL\": 9.99, \"Nominal\": 10.0}, {\"Datef\": \"\\\"2019-08-26\\\"\", \"C-Pitch\": 9.998, \"USL\": 10.01, \"LSL\": 9.99, \"Nominal\": 10.0}, {\"Datef\": \"\\\"2019-08-26\\\"\", \"C-Pitch\": 10.003, \"USL\": 10.01, \"LSL\": 9.99, \"Nominal\": 10.0}, {\"Datef\": \"\\\"2019-08-26\\\"\", \"C-Pitch\": 10.001, \"USL\": 10.01, \"LSL\": 9.99, \"Nominal\": 10.0}, {\"Datef\": \"\\\"2019-09-05\\\"\", \"C-Pitch\": 10.0, \"USL\": 10.01, \"LSL\": 9.99, \"Nominal\": 10.0}, {\"Datef\": \"\\\"2019-09-05\\\"\", \"C-Pitch\": 10.002, \"USL\": 10.01, \"LSL\": 9.99, \"Nominal\": 10.0}, {\"Datef\": \"\\\"2019-09-05\\\"\", \"C-Pitch\": 10.0, \"USL\": 10.01, \"LSL\": 9.99, \"Nominal\": 10.0}, {\"Datef\": \"\\\"2019-09-05\\\"\", \"C-Pitch\": 10.004, \"USL\": 10.01, \"LSL\": 9.99, \"Nominal\": 10.0}, {\"Datef\": \"\\\"2019-09-05\\\"\", \"C-Pitch\": 10.002, \"USL\": 10.01, \"LSL\": 9.99, \"Nominal\": 10.0}, {\"Datef\": \"\\\"2019-10-17\\\"\", \"C-Pitch\": 10.002, \"USL\": 10.01, \"LSL\": 9.99, \"Nominal\": 10.0}, {\"Datef\": \"\\\"2019-10-17\\\"\", \"C-Pitch\": 9.998, \"USL\": 10.01, \"LSL\": 9.99, \"Nominal\": 10.0}, {\"Datef\": \"\\\"2019-10-17\\\"\", \"C-Pitch\": 10.001, \"USL\": 10.01, \"LSL\": 9.99, \"Nominal\": 10.0}, {\"Datef\": \"\\\"2019-10-17\\\"\", \"C-Pitch\": 10.003, \"USL\": 10.01, \"LSL\": 9.99, \"Nominal\": 10.0}, {\"Datef\": \"\\\"2019-10-17\\\"\", \"C-Pitch\": 9.996, \"USL\": 10.01, \"LSL\": 9.99, \"Nominal\": 10.0}, {\"Datef\": \"\\\"2019-11-01\\\"\", \"C-Pitch\": 9.999, \"USL\": 10.01, \"LSL\": 9.99, \"Nominal\": 10.0}, {\"Datef\": \"\\\"2019-11-01\\\"\", \"C-Pitch\": 9.993, \"USL\": 10.01, \"LSL\": 9.99, \"Nominal\": 10.0}, {\"Datef\": \"\\\"2019-11-01\\\"\", \"C-Pitch\": 10.003, \"USL\": 10.01, \"LSL\": 9.99, \"Nominal\": 10.0}, {\"Datef\": \"\\\"2019-11-01\\\"\", \"C-Pitch\": 10.007, \"USL\": 10.01, \"LSL\": 9.99, \"Nominal\": 10.0}, {\"Datef\": \"\\\"2019-11-01\\\"\", \"C-Pitch\": 9.998, \"USL\": 10.01, \"LSL\": 9.99, \"Nominal\": 10.0}, {\"Datef\": \"\\\"2019-11-13\\\"\", \"C-Pitch\": 10.007, \"USL\": 10.01, \"LSL\": 9.99, \"Nominal\": 10.0}, {\"Datef\": \"\\\"2019-11-13\\\"\", \"C-Pitch\": 9.999, \"USL\": 10.01, \"LSL\": 9.99, \"Nominal\": 10.0}, {\"Datef\": \"\\\"2019-11-13\\\"\", \"C-Pitch\": 10.001, \"USL\": 10.01, \"LSL\": 9.99, \"Nominal\": 10.0}, {\"Datef\": \"\\\"2019-11-13\\\"\", \"C-Pitch\": 9.998, \"USL\": 10.01, \"LSL\": 9.99, \"Nominal\": 10.0}, {\"Datef\": \"\\\"2019-11-13\\\"\", \"C-Pitch\": 10.005, \"USL\": 10.01, \"LSL\": 9.99, \"Nominal\": 10.0}, {\"Datef\": \"\\\"2019-12-05\\\"\", \"C-Pitch\": 10.004, \"USL\": 10.01, \"LSL\": 9.99, \"Nominal\": 10.0}, {\"Datef\": \"\\\"2019-12-05\\\"\", \"C-Pitch\": 10.001, \"USL\": 10.01, \"LSL\": 9.99, \"Nominal\": 10.0}, {\"Datef\": \"\\\"2019-12-05\\\"\", \"C-Pitch\": 9.998, \"USL\": 10.01, \"LSL\": 9.99, \"Nominal\": 10.0}, {\"Datef\": \"\\\"2019-12-05\\\"\", \"C-Pitch\": 10.001, \"USL\": 10.01, \"LSL\": 9.99, \"Nominal\": 10.0}, {\"Datef\": \"\\\"2019-12-05\\\"\", \"C-Pitch\": 9.997, \"USL\": 10.01, \"LSL\": 9.99, \"Nominal\": 10.0}, {\"Datef\": \"\\\"2019-12-10\\\"\", \"C-Pitch\": 10.002, \"USL\": 10.01, \"LSL\": 9.99, \"Nominal\": 10.0}, {\"Datef\": \"\\\"2019-12-10\\\"\", \"C-Pitch\": 10.009, \"USL\": 10.01, \"LSL\": 9.99, \"Nominal\": 10.0}, {\"Datef\": \"\\\"2019-12-10\\\"\", \"C-Pitch\": 10.001, \"USL\": 10.01, \"LSL\": 9.99, \"Nominal\": 10.0}, {\"Datef\": \"\\\"2019-12-10\\\"\", \"C-Pitch\": 10.001, \"USL\": 10.01, \"LSL\": 9.99, \"Nominal\": 10.0}, {\"Datef\": \"\\\"2019-12-10\\\"\", \"C-Pitch\": 10.003, \"USL\": 10.01, \"LSL\": 9.99, \"Nominal\": 10.0}, {\"Datef\": \"\\\"2019-12-26\\\"\", \"C-Pitch\": 10.003, \"USL\": 10.01, \"LSL\": 9.99, \"Nominal\": 10.0}, {\"Datef\": \"\\\"2019-12-26\\\"\", \"C-Pitch\": 10.001, \"USL\": 10.01, \"LSL\": 9.99, \"Nominal\": 10.0}, {\"Datef\": \"\\\"2019-12-26\\\"\", \"C-Pitch\": 10.004, \"USL\": 10.01, \"LSL\": 9.99, \"Nominal\": 10.0}, {\"Datef\": \"\\\"2019-12-26\\\"\", \"C-Pitch\": 10.002, \"USL\": 10.01, \"LSL\": 9.99, \"Nominal\": 10.0}, {\"Datef\": \"\\\"2019-12-26\\\"\", \"C-Pitch\": 10.006, \"USL\": 10.01, \"LSL\": 9.99, \"Nominal\": 10.0}, {\"Datef\": \"\\\"2019-12-31\\\"\", \"C-Pitch\": 9.991, \"USL\": 10.01, \"LSL\": 9.99, \"Nominal\": 10.0}, {\"Datef\": \"\\\"2019-12-31\\\"\", \"C-Pitch\": 9.999, \"USL\": 10.01, \"LSL\": 9.99, \"Nominal\": 10.0}, {\"Datef\": \"\\\"2019-12-31\\\"\", \"C-Pitch\": 10.003, \"USL\": 10.01, \"LSL\": 9.99, \"Nominal\": 10.0}, {\"Datef\": \"\\\"2019-12-31\\\"\", \"C-Pitch\": 10.002, \"USL\": 10.01, \"LSL\": 9.99, \"Nominal\": 10.0}, {\"Datef\": \"\\\"2019-12-31\\\"\", \"C-Pitch\": 10.002, \"USL\": 10.01, \"LSL\": 9.99, \"Nominal\": 10.0}], \"data-376069c2ee378a3be8be401b3b03beff\": [{\"Datef\": \"\\\"2019-01-11\\\"\", \"J\": 1.219, \"USL\": 1.22, \"LSL\": 1.21, \"Nominal\": 1.21}, {\"Datef\": \"\\\"2019-01-11\\\"\", \"J\": 1.219, \"USL\": 1.22, \"LSL\": 1.21, \"Nominal\": 1.21}, {\"Datef\": \"\\\"2019-01-11\\\"\", \"J\": 1.219, \"USL\": 1.22, \"LSL\": 1.21, \"Nominal\": 1.21}, {\"Datef\": \"\\\"2019-01-11\\\"\", \"J\": 1.218, \"USL\": 1.22, \"LSL\": 1.21, \"Nominal\": 1.21}, {\"Datef\": \"\\\"2019-01-11\\\"\", \"J\": 1.219, \"USL\": 1.22, \"LSL\": 1.21, \"Nominal\": 1.21}, {\"Datef\": \"\\\"2019-01-22\\\"\", \"J\": 1.218, \"USL\": 1.22, \"LSL\": 1.21, \"Nominal\": 1.21}, {\"Datef\": \"\\\"2019-01-22\\\"\", \"J\": 1.218, \"USL\": 1.22, \"LSL\": 1.21, \"Nominal\": 1.21}, {\"Datef\": \"\\\"2019-01-22\\\"\", \"J\": 1.22, \"USL\": 1.22, \"LSL\": 1.21, \"Nominal\": 1.21}, {\"Datef\": \"\\\"2019-01-22\\\"\", \"J\": 1.22, \"USL\": 1.22, \"LSL\": 1.21, \"Nominal\": 1.21}, {\"Datef\": \"\\\"2019-01-22\\\"\", \"J\": 1.22, \"USL\": 1.22, \"LSL\": 1.21, \"Nominal\": 1.21}, {\"Datef\": \"\\\"2019-01-26\\\"\", \"J\": 1.22, \"USL\": 1.22, \"LSL\": 1.21, \"Nominal\": 1.21}, {\"Datef\": \"\\\"2019-01-26\\\"\", \"J\": 1.22, \"USL\": 1.22, \"LSL\": 1.21, \"Nominal\": 1.21}, {\"Datef\": \"\\\"2019-01-26\\\"\", \"J\": 1.22, \"USL\": 1.22, \"LSL\": 1.21, \"Nominal\": 1.21}, {\"Datef\": \"\\\"2019-01-26\\\"\", \"J\": 1.22, \"USL\": 1.22, \"LSL\": 1.21, \"Nominal\": 1.21}, {\"Datef\": \"\\\"2019-01-26\\\"\", \"J\": 1.22, \"USL\": 1.22, \"LSL\": 1.21, \"Nominal\": 1.21}, {\"Datef\": \"\\\"2019-01-31\\\"\", \"J\": 1.22, \"USL\": 1.22, \"LSL\": 1.21, \"Nominal\": 1.21}, {\"Datef\": \"\\\"2019-01-31\\\"\", \"J\": 1.22, \"USL\": 1.22, \"LSL\": 1.21, \"Nominal\": 1.21}, {\"Datef\": \"\\\"2019-01-31\\\"\", \"J\": 1.22, \"USL\": 1.22, \"LSL\": 1.21, \"Nominal\": 1.21}, {\"Datef\": \"\\\"2019-01-31\\\"\", \"J\": 1.22, \"USL\": 1.22, \"LSL\": 1.21, \"Nominal\": 1.21}, {\"Datef\": \"\\\"2019-01-31\\\"\", \"J\": 1.22, \"USL\": 1.22, \"LSL\": 1.21, \"Nominal\": 1.21}, {\"Datef\": \"\\\"2019-02-11\\\"\", \"J\": 1.22, \"USL\": 1.22, \"LSL\": 1.21, \"Nominal\": 1.21}, {\"Datef\": \"\\\"2019-02-11\\\"\", \"J\": 1.22, \"USL\": 1.22, \"LSL\": 1.21, \"Nominal\": 1.21}, {\"Datef\": \"\\\"2019-02-11\\\"\", \"J\": 1.22, \"USL\": 1.22, \"LSL\": 1.21, \"Nominal\": 1.21}, {\"Datef\": \"\\\"2019-02-11\\\"\", \"J\": 1.22, \"USL\": 1.22, \"LSL\": 1.21, \"Nominal\": 1.21}, {\"Datef\": \"\\\"2019-02-11\\\"\", \"J\": 1.22, \"USL\": 1.22, \"LSL\": 1.21, \"Nominal\": 1.21}, {\"Datef\": \"\\\"2019-02-22\\\"\", \"J\": 1.22, \"USL\": 1.22, \"LSL\": 1.21, \"Nominal\": 1.21}, {\"Datef\": \"\\\"2019-02-22\\\"\", \"J\": 1.219, \"USL\": 1.22, \"LSL\": 1.21, \"Nominal\": 1.21}, {\"Datef\": \"\\\"2019-02-22\\\"\", \"J\": 1.22, \"USL\": 1.22, \"LSL\": 1.21, \"Nominal\": 1.21}, {\"Datef\": \"\\\"2019-02-22\\\"\", \"J\": 1.22, \"USL\": 1.22, \"LSL\": 1.21, \"Nominal\": 1.21}, {\"Datef\": \"\\\"2019-02-22\\\"\", \"J\": 1.22, \"USL\": 1.22, \"LSL\": 1.21, \"Nominal\": 1.21}, {\"Datef\": \"\\\"2019-02-27\\\"\", \"J\": 1.22, \"USL\": 1.22, \"LSL\": 1.21, \"Nominal\": 1.21}, {\"Datef\": \"\\\"2019-02-27\\\"\", \"J\": 1.22, \"USL\": 1.22, \"LSL\": 1.21, \"Nominal\": 1.21}, {\"Datef\": \"\\\"2019-02-27\\\"\", \"J\": 1.22, \"USL\": 1.22, \"LSL\": 1.21, \"Nominal\": 1.21}, {\"Datef\": \"\\\"2019-02-27\\\"\", \"J\": 1.22, \"USL\": 1.22, \"LSL\": 1.21, \"Nominal\": 1.21}, {\"Datef\": \"\\\"2019-02-27\\\"\", \"J\": 1.22, \"USL\": 1.22, \"LSL\": 1.21, \"Nominal\": 1.21}, {\"Datef\": \"\\\"2019-03-07\\\"\", \"J\": 1.22, \"USL\": 1.22, \"LSL\": 1.21, \"Nominal\": 1.21}, {\"Datef\": \"\\\"2019-03-07\\\"\", \"J\": 1.22, \"USL\": 1.22, \"LSL\": 1.21, \"Nominal\": 1.21}, {\"Datef\": \"\\\"2019-03-07\\\"\", \"J\": 1.22, \"USL\": 1.22, \"LSL\": 1.21, \"Nominal\": 1.21}, {\"Datef\": \"\\\"2019-03-07\\\"\", \"J\": 1.22, \"USL\": 1.22, \"LSL\": 1.21, \"Nominal\": 1.21}, {\"Datef\": \"\\\"2019-03-07\\\"\", \"J\": 1.22, \"USL\": 1.22, \"LSL\": 1.21, \"Nominal\": 1.21}, {\"Datef\": \"\\\"2019-03-15\\\"\", \"J\": 1.219, \"USL\": 1.22, \"LSL\": 1.21, \"Nominal\": 1.21}, {\"Datef\": \"\\\"2019-03-15\\\"\", \"J\": 1.219, \"USL\": 1.22, \"LSL\": 1.21, \"Nominal\": 1.21}, {\"Datef\": \"\\\"2019-03-15\\\"\", \"J\": 1.219, \"USL\": 1.22, \"LSL\": 1.21, \"Nominal\": 1.21}, {\"Datef\": \"\\\"2019-03-15\\\"\", \"J\": 1.218, \"USL\": 1.22, \"LSL\": 1.21, \"Nominal\": 1.21}, {\"Datef\": \"\\\"2019-03-15\\\"\", \"J\": 1.22, \"USL\": 1.22, \"LSL\": 1.21, \"Nominal\": 1.21}, {\"Datef\": \"\\\"2019-04-05\\\"\", \"J\": 1.219, \"USL\": 1.22, \"LSL\": 1.21, \"Nominal\": 1.21}, {\"Datef\": \"\\\"2019-04-05\\\"\", \"J\": 1.22, \"USL\": 1.22, \"LSL\": 1.21, \"Nominal\": 1.21}, {\"Datef\": \"\\\"2019-04-05\\\"\", \"J\": 1.22, \"USL\": 1.22, \"LSL\": 1.21, \"Nominal\": 1.21}, {\"Datef\": \"\\\"2019-04-05\\\"\", \"J\": 1.22, \"USL\": 1.22, \"LSL\": 1.21, \"Nominal\": 1.21}, {\"Datef\": \"\\\"2019-04-05\\\"\", \"J\": 1.22, \"USL\": 1.22, \"LSL\": 1.21, \"Nominal\": 1.21}, {\"Datef\": \"\\\"2019-04-16\\\"\", \"J\": 1.219, \"USL\": 1.22, \"LSL\": 1.21, \"Nominal\": 1.21}, {\"Datef\": \"\\\"2019-04-16\\\"\", \"J\": 1.22, \"USL\": 1.22, \"LSL\": 1.21, \"Nominal\": 1.21}, {\"Datef\": \"\\\"2019-04-16\\\"\", \"J\": 1.219, \"USL\": 1.22, \"LSL\": 1.21, \"Nominal\": 1.21}, {\"Datef\": \"\\\"2019-04-16\\\"\", \"J\": 1.22, \"USL\": 1.22, \"LSL\": 1.21, \"Nominal\": 1.21}, {\"Datef\": \"\\\"2019-04-16\\\"\", \"J\": 1.219, \"USL\": 1.22, \"LSL\": 1.21, \"Nominal\": 1.21}, {\"Datef\": \"\\\"2019-04-16\\\"\", \"J\": 1.22, \"USL\": 1.22, \"LSL\": 1.21, \"Nominal\": 1.21}, {\"Datef\": \"\\\"2019-04-16\\\"\", \"J\": 1.22, \"USL\": 1.22, \"LSL\": 1.21, \"Nominal\": 1.21}, {\"Datef\": \"\\\"2019-04-16\\\"\", \"J\": 1.22, \"USL\": 1.22, \"LSL\": 1.21, \"Nominal\": 1.21}, {\"Datef\": \"\\\"2019-04-16\\\"\", \"J\": 1.22, \"USL\": 1.22, \"LSL\": 1.21, \"Nominal\": 1.21}, {\"Datef\": \"\\\"2019-04-16\\\"\", \"J\": 1.22, \"USL\": 1.22, \"LSL\": 1.21, \"Nominal\": 1.21}, {\"Datef\": \"\\\"2019-05-27\\\"\", \"J\": 1.219, \"USL\": 1.22, \"LSL\": 1.21, \"Nominal\": 1.21}, {\"Datef\": \"\\\"2019-05-27\\\"\", \"J\": 1.22, \"USL\": 1.22, \"LSL\": 1.21, \"Nominal\": 1.21}, {\"Datef\": \"\\\"2019-05-27\\\"\", \"J\": 1.22, \"USL\": 1.22, \"LSL\": 1.21, \"Nominal\": 1.21}, {\"Datef\": \"\\\"2019-05-27\\\"\", \"J\": 1.22, \"USL\": 1.22, \"LSL\": 1.21, \"Nominal\": 1.21}, {\"Datef\": \"\\\"2019-05-27\\\"\", \"J\": 1.219, \"USL\": 1.22, \"LSL\": 1.21, \"Nominal\": 1.21}, {\"Datef\": \"\\\"2019-06-03\\\"\", \"J\": 1.22, \"USL\": 1.22, \"LSL\": 1.21, \"Nominal\": 1.21}, {\"Datef\": \"\\\"2019-06-03\\\"\", \"J\": 1.22, \"USL\": 1.22, \"LSL\": 1.21, \"Nominal\": 1.21}, {\"Datef\": \"\\\"2019-06-03\\\"\", \"J\": 1.22, \"USL\": 1.22, \"LSL\": 1.21, \"Nominal\": 1.21}, {\"Datef\": \"\\\"2019-06-03\\\"\", \"J\": 1.22, \"USL\": 1.22, \"LSL\": 1.21, \"Nominal\": 1.21}, {\"Datef\": \"\\\"2019-06-03\\\"\", \"J\": 1.218, \"USL\": 1.22, \"LSL\": 1.21, \"Nominal\": 1.21}, {\"Datef\": \"\\\"2019-06-10\\\"\", \"J\": 1.22, \"USL\": 1.22, \"LSL\": 1.21, \"Nominal\": 1.21}, {\"Datef\": \"\\\"2019-06-10\\\"\", \"J\": 1.22, \"USL\": 1.22, \"LSL\": 1.21, \"Nominal\": 1.21}, {\"Datef\": \"\\\"2019-06-10\\\"\", \"J\": 1.22, \"USL\": 1.22, \"LSL\": 1.21, \"Nominal\": 1.21}, {\"Datef\": \"\\\"2019-06-10\\\"\", \"J\": 1.22, \"USL\": 1.22, \"LSL\": 1.21, \"Nominal\": 1.21}, {\"Datef\": \"\\\"2019-06-10\\\"\", \"J\": 1.22, \"USL\": 1.22, \"LSL\": 1.21, \"Nominal\": 1.21}, {\"Datef\": \"\\\"2019-06-17\\\"\", \"J\": 1.219, \"USL\": 1.22, \"LSL\": 1.21, \"Nominal\": 1.21}, {\"Datef\": \"\\\"2019-06-17\\\"\", \"J\": 1.217, \"USL\": 1.22, \"LSL\": 1.21, \"Nominal\": 1.21}, {\"Datef\": \"\\\"2019-06-17\\\"\", \"J\": 1.219, \"USL\": 1.22, \"LSL\": 1.21, \"Nominal\": 1.21}, {\"Datef\": \"\\\"2019-06-17\\\"\", \"J\": 1.218, \"USL\": 1.22, \"LSL\": 1.21, \"Nominal\": 1.21}, {\"Datef\": \"\\\"2019-06-17\\\"\", \"J\": 1.219, \"USL\": 1.22, \"LSL\": 1.21, \"Nominal\": 1.21}, {\"Datef\": \"\\\"2019-06-25\\\"\", \"J\": 1.219, \"USL\": 1.22, \"LSL\": 1.21, \"Nominal\": 1.21}, {\"Datef\": \"\\\"2019-06-25\\\"\", \"J\": 1.219, \"USL\": 1.22, \"LSL\": 1.21, \"Nominal\": 1.21}, {\"Datef\": \"\\\"2019-06-25\\\"\", \"J\": 1.219, \"USL\": 1.22, \"LSL\": 1.21, \"Nominal\": 1.21}, {\"Datef\": \"\\\"2019-06-25\\\"\", \"J\": 1.219, \"USL\": 1.22, \"LSL\": 1.21, \"Nominal\": 1.21}, {\"Datef\": \"\\\"2019-06-25\\\"\", \"J\": 1.219, \"USL\": 1.22, \"LSL\": 1.21, \"Nominal\": 1.21}, {\"Datef\": \"\\\"2019-06-28\\\"\", \"J\": 1.218, \"USL\": 1.22, \"LSL\": 1.21, \"Nominal\": 1.21}, {\"Datef\": \"\\\"2019-06-28\\\"\", \"J\": 1.218, \"USL\": 1.22, \"LSL\": 1.21, \"Nominal\": 1.21}, {\"Datef\": \"\\\"2019-06-28\\\"\", \"J\": 1.216, \"USL\": 1.22, \"LSL\": 1.21, \"Nominal\": 1.21}, {\"Datef\": \"\\\"2019-06-28\\\"\", \"J\": 1.218, \"USL\": 1.22, \"LSL\": 1.21, \"Nominal\": 1.21}, {\"Datef\": \"\\\"2019-06-28\\\"\", \"J\": 1.219, \"USL\": 1.22, \"LSL\": 1.21, \"Nominal\": 1.21}, {\"Datef\": \"\\\"2019-08-07\\\"\", \"J\": 1.218, \"USL\": 1.22, \"LSL\": 1.21, \"Nominal\": 1.21}, {\"Datef\": \"\\\"2019-08-07\\\"\", \"J\": 1.217, \"USL\": 1.22, \"LSL\": 1.21, \"Nominal\": 1.21}, {\"Datef\": \"\\\"2019-08-07\\\"\", \"J\": 1.217, \"USL\": 1.22, \"LSL\": 1.21, \"Nominal\": 1.21}, {\"Datef\": \"\\\"2019-08-07\\\"\", \"J\": 1.217, \"USL\": 1.22, \"LSL\": 1.21, \"Nominal\": 1.21}, {\"Datef\": \"\\\"2019-08-07\\\"\", \"J\": 1.218, \"USL\": 1.22, \"LSL\": 1.21, \"Nominal\": 1.21}, {\"Datef\": \"\\\"2019-08-19\\\"\", \"J\": 1.217, \"USL\": 1.22, \"LSL\": 1.21, \"Nominal\": 1.21}, {\"Datef\": \"\\\"2019-08-19\\\"\", \"J\": 1.217, \"USL\": 1.22, \"LSL\": 1.21, \"Nominal\": 1.21}, {\"Datef\": \"\\\"2019-08-19\\\"\", \"J\": 1.217, \"USL\": 1.22, \"LSL\": 1.21, \"Nominal\": 1.21}, {\"Datef\": \"\\\"2019-08-19\\\"\", \"J\": 1.218, \"USL\": 1.22, \"LSL\": 1.21, \"Nominal\": 1.21}, {\"Datef\": \"\\\"2019-08-19\\\"\", \"J\": 1.217, \"USL\": 1.22, \"LSL\": 1.21, \"Nominal\": 1.21}, {\"Datef\": \"\\\"2019-08-26\\\"\", \"J\": 1.219, \"USL\": 1.22, \"LSL\": 1.21, \"Nominal\": 1.21}, {\"Datef\": \"\\\"2019-08-26\\\"\", \"J\": 1.218, \"USL\": 1.22, \"LSL\": 1.21, \"Nominal\": 1.21}, {\"Datef\": \"\\\"2019-08-26\\\"\", \"J\": 1.219, \"USL\": 1.22, \"LSL\": 1.21, \"Nominal\": 1.21}, {\"Datef\": \"\\\"2019-08-26\\\"\", \"J\": 1.219, \"USL\": 1.22, \"LSL\": 1.21, \"Nominal\": 1.21}, {\"Datef\": \"\\\"2019-08-26\\\"\", \"J\": 1.219, \"USL\": 1.22, \"LSL\": 1.21, \"Nominal\": 1.21}, {\"Datef\": \"\\\"2019-09-05\\\"\", \"J\": 1.216, \"USL\": 1.22, \"LSL\": 1.21, \"Nominal\": 1.21}, {\"Datef\": \"\\\"2019-09-05\\\"\", \"J\": 1.218, \"USL\": 1.22, \"LSL\": 1.21, \"Nominal\": 1.21}, {\"Datef\": \"\\\"2019-09-05\\\"\", \"J\": 1.218, \"USL\": 1.22, \"LSL\": 1.21, \"Nominal\": 1.21}, {\"Datef\": \"\\\"2019-09-05\\\"\", \"J\": 1.218, \"USL\": 1.22, \"LSL\": 1.21, \"Nominal\": 1.21}, {\"Datef\": \"\\\"2019-09-05\\\"\", \"J\": 1.218, \"USL\": 1.22, \"LSL\": 1.21, \"Nominal\": 1.21}, {\"Datef\": \"\\\"2019-10-17\\\"\", \"J\": 1.22, \"USL\": 1.22, \"LSL\": 1.21, \"Nominal\": 1.21}, {\"Datef\": \"\\\"2019-10-17\\\"\", \"J\": 1.22, \"USL\": 1.22, \"LSL\": 1.21, \"Nominal\": 1.21}, {\"Datef\": \"\\\"2019-10-17\\\"\", \"J\": 1.22, \"USL\": 1.22, \"LSL\": 1.21, \"Nominal\": 1.21}, {\"Datef\": \"\\\"2019-10-17\\\"\", \"J\": 1.22, \"USL\": 1.22, \"LSL\": 1.21, \"Nominal\": 1.21}, {\"Datef\": \"\\\"2019-10-17\\\"\", \"J\": 1.22, \"USL\": 1.22, \"LSL\": 1.21, \"Nominal\": 1.21}, {\"Datef\": \"\\\"2019-11-01\\\"\", \"J\": 1.22, \"USL\": 1.22, \"LSL\": 1.21, \"Nominal\": 1.21}, {\"Datef\": \"\\\"2019-11-01\\\"\", \"J\": 1.22, \"USL\": 1.22, \"LSL\": 1.21, \"Nominal\": 1.21}, {\"Datef\": \"\\\"2019-11-01\\\"\", \"J\": 1.22, \"USL\": 1.22, \"LSL\": 1.21, \"Nominal\": 1.21}, {\"Datef\": \"\\\"2019-11-01\\\"\", \"J\": 1.22, \"USL\": 1.22, \"LSL\": 1.21, \"Nominal\": 1.21}, {\"Datef\": \"\\\"2019-11-01\\\"\", \"J\": 1.22, \"USL\": 1.22, \"LSL\": 1.21, \"Nominal\": 1.21}, {\"Datef\": \"\\\"2019-11-13\\\"\", \"J\": 1.219, \"USL\": 1.22, \"LSL\": 1.21, \"Nominal\": 1.21}, {\"Datef\": \"\\\"2019-11-13\\\"\", \"J\": 1.219, \"USL\": 1.22, \"LSL\": 1.21, \"Nominal\": 1.21}, {\"Datef\": \"\\\"2019-11-13\\\"\", \"J\": 1.219, \"USL\": 1.22, \"LSL\": 1.21, \"Nominal\": 1.21}, {\"Datef\": \"\\\"2019-11-13\\\"\", \"J\": 1.219, \"USL\": 1.22, \"LSL\": 1.21, \"Nominal\": 1.21}, {\"Datef\": \"\\\"2019-11-13\\\"\", \"J\": 1.219, \"USL\": 1.22, \"LSL\": 1.21, \"Nominal\": 1.21}, {\"Datef\": \"\\\"2019-12-05\\\"\", \"J\": 1.22, \"USL\": 1.22, \"LSL\": 1.21, \"Nominal\": 1.21}, {\"Datef\": \"\\\"2019-12-05\\\"\", \"J\": 1.219, \"USL\": 1.22, \"LSL\": 1.21, \"Nominal\": 1.21}, {\"Datef\": \"\\\"2019-12-05\\\"\", \"J\": 1.219, \"USL\": 1.22, \"LSL\": 1.21, \"Nominal\": 1.21}, {\"Datef\": \"\\\"2019-12-05\\\"\", \"J\": 1.22, \"USL\": 1.22, \"LSL\": 1.21, \"Nominal\": 1.21}, {\"Datef\": \"\\\"2019-12-05\\\"\", \"J\": 1.219, \"USL\": 1.22, \"LSL\": 1.21, \"Nominal\": 1.21}, {\"Datef\": \"\\\"2019-12-10\\\"\", \"J\": 1.22, \"USL\": 1.22, \"LSL\": 1.21, \"Nominal\": 1.21}, {\"Datef\": \"\\\"2019-12-10\\\"\", \"J\": 1.22, \"USL\": 1.22, \"LSL\": 1.21, \"Nominal\": 1.21}, {\"Datef\": \"\\\"2019-12-10\\\"\", \"J\": 1.22, \"USL\": 1.22, \"LSL\": 1.21, \"Nominal\": 1.21}, {\"Datef\": \"\\\"2019-12-10\\\"\", \"J\": 1.219, \"USL\": 1.22, \"LSL\": 1.21, \"Nominal\": 1.21}, {\"Datef\": \"\\\"2019-12-10\\\"\", \"J\": 1.22, \"USL\": 1.22, \"LSL\": 1.21, \"Nominal\": 1.21}, {\"Datef\": \"\\\"2019-12-26\\\"\", \"J\": 1.22, \"USL\": 1.22, \"LSL\": 1.21, \"Nominal\": 1.21}, {\"Datef\": \"\\\"2019-12-26\\\"\", \"J\": 1.219, \"USL\": 1.22, \"LSL\": 1.21, \"Nominal\": 1.21}, {\"Datef\": \"\\\"2019-12-26\\\"\", \"J\": 1.218, \"USL\": 1.22, \"LSL\": 1.21, \"Nominal\": 1.21}, {\"Datef\": \"\\\"2019-12-26\\\"\", \"J\": 1.22, \"USL\": 1.22, \"LSL\": 1.21, \"Nominal\": 1.21}, {\"Datef\": \"\\\"2019-12-26\\\"\", \"J\": 1.219, \"USL\": 1.22, \"LSL\": 1.21, \"Nominal\": 1.21}, {\"Datef\": \"\\\"2019-12-31\\\"\", \"J\": 1.218, \"USL\": 1.22, \"LSL\": 1.21, \"Nominal\": 1.21}, {\"Datef\": \"\\\"2019-12-31\\\"\", \"J\": 1.218, \"USL\": 1.22, \"LSL\": 1.21, \"Nominal\": 1.21}, {\"Datef\": \"\\\"2019-12-31\\\"\", \"J\": 1.219, \"USL\": 1.22, \"LSL\": 1.21, \"Nominal\": 1.21}, {\"Datef\": \"\\\"2019-12-31\\\"\", \"J\": 1.219, \"USL\": 1.22, \"LSL\": 1.21, \"Nominal\": 1.21}, {\"Datef\": \"\\\"2019-12-31\\\"\", \"J\": 1.218, \"USL\": 1.22, \"LSL\": 1.21, \"Nominal\": 1.21}], \"data-89a563b4fdb08ce29bd91819ea45bf24\": [{\"Datef\": \"\\\"2019-01-11\\\"\", \"I\": 3.197, \"USL\": 3.21, \"LSL\": 3.1900000000000004, \"Nominal\": 3.2}, {\"Datef\": \"\\\"2019-01-11\\\"\", \"I\": 3.19, \"USL\": 3.21, \"LSL\": 3.1900000000000004, \"Nominal\": 3.2}, {\"Datef\": \"\\\"2019-01-11\\\"\", \"I\": 3.194, \"USL\": 3.21, \"LSL\": 3.1900000000000004, \"Nominal\": 3.2}, {\"Datef\": \"\\\"2019-01-11\\\"\", \"I\": 3.198, \"USL\": 3.21, \"LSL\": 3.1900000000000004, \"Nominal\": 3.2}, {\"Datef\": \"\\\"2019-01-11\\\"\", \"I\": 3.19, \"USL\": 3.21, \"LSL\": 3.1900000000000004, \"Nominal\": 3.2}, {\"Datef\": \"\\\"2019-01-22\\\"\", \"I\": 3.201, \"USL\": 3.21, \"LSL\": 3.1900000000000004, \"Nominal\": 3.2}, {\"Datef\": \"\\\"2019-01-22\\\"\", \"I\": 3.205, \"USL\": 3.21, \"LSL\": 3.1900000000000004, \"Nominal\": 3.2}, {\"Datef\": \"\\\"2019-01-22\\\"\", \"I\": 3.192, \"USL\": 3.21, \"LSL\": 3.1900000000000004, \"Nominal\": 3.2}, {\"Datef\": \"\\\"2019-01-22\\\"\", \"I\": 3.195, \"USL\": 3.21, \"LSL\": 3.1900000000000004, \"Nominal\": 3.2}, {\"Datef\": \"\\\"2019-01-22\\\"\", \"I\": 3.2, \"USL\": 3.21, \"LSL\": 3.1900000000000004, \"Nominal\": 3.2}, {\"Datef\": \"\\\"2019-01-26\\\"\", \"I\": 3.195, \"USL\": 3.21, \"LSL\": 3.1900000000000004, \"Nominal\": 3.2}, {\"Datef\": \"\\\"2019-01-26\\\"\", \"I\": 3.209, \"USL\": 3.21, \"LSL\": 3.1900000000000004, \"Nominal\": 3.2}, {\"Datef\": \"\\\"2019-01-26\\\"\", \"I\": 3.202, \"USL\": 3.21, \"LSL\": 3.1900000000000004, \"Nominal\": 3.2}, {\"Datef\": \"\\\"2019-01-26\\\"\", \"I\": 3.205, \"USL\": 3.21, \"LSL\": 3.1900000000000004, \"Nominal\": 3.2}, {\"Datef\": \"\\\"2019-01-26\\\"\", \"I\": 3.19, \"USL\": 3.21, \"LSL\": 3.1900000000000004, \"Nominal\": 3.2}, {\"Datef\": \"\\\"2019-01-31\\\"\", \"I\": 3.203, \"USL\": 3.21, \"LSL\": 3.1900000000000004, \"Nominal\": 3.2}, {\"Datef\": \"\\\"2019-01-31\\\"\", \"I\": 3.195, \"USL\": 3.21, \"LSL\": 3.1900000000000004, \"Nominal\": 3.2}, {\"Datef\": \"\\\"2019-01-31\\\"\", \"I\": 3.199, \"USL\": 3.21, \"LSL\": 3.1900000000000004, \"Nominal\": 3.2}, {\"Datef\": \"\\\"2019-01-31\\\"\", \"I\": 3.193, \"USL\": 3.21, \"LSL\": 3.1900000000000004, \"Nominal\": 3.2}, {\"Datef\": \"\\\"2019-01-31\\\"\", \"I\": 3.19, \"USL\": 3.21, \"LSL\": 3.1900000000000004, \"Nominal\": 3.2}, {\"Datef\": \"\\\"2019-02-11\\\"\", \"I\": 3.192, \"USL\": 3.21, \"LSL\": 3.1900000000000004, \"Nominal\": 3.2}, {\"Datef\": \"\\\"2019-02-11\\\"\", \"I\": 3.198, \"USL\": 3.21, \"LSL\": 3.1900000000000004, \"Nominal\": 3.2}, {\"Datef\": \"\\\"2019-02-11\\\"\", \"I\": 3.19, \"USL\": 3.21, \"LSL\": 3.1900000000000004, \"Nominal\": 3.2}, {\"Datef\": \"\\\"2019-02-11\\\"\", \"I\": 3.201, \"USL\": 3.21, \"LSL\": 3.1900000000000004, \"Nominal\": 3.2}, {\"Datef\": \"\\\"2019-02-11\\\"\", \"I\": 3.192, \"USL\": 3.21, \"LSL\": 3.1900000000000004, \"Nominal\": 3.2}, {\"Datef\": \"\\\"2019-02-22\\\"\", \"I\": 3.205, \"USL\": 3.21, \"LSL\": 3.1900000000000004, \"Nominal\": 3.2}, {\"Datef\": \"\\\"2019-02-22\\\"\", \"I\": 3.19, \"USL\": 3.21, \"LSL\": 3.1900000000000004, \"Nominal\": 3.2}, {\"Datef\": \"\\\"2019-02-22\\\"\", \"I\": 3.204, \"USL\": 3.21, \"LSL\": 3.1900000000000004, \"Nominal\": 3.2}, {\"Datef\": \"\\\"2019-02-22\\\"\", \"I\": 3.19, \"USL\": 3.21, \"LSL\": 3.1900000000000004, \"Nominal\": 3.2}, {\"Datef\": \"\\\"2019-02-22\\\"\", \"I\": 3.201, \"USL\": 3.21, \"LSL\": 3.1900000000000004, \"Nominal\": 3.2}, {\"Datef\": \"\\\"2019-02-27\\\"\", \"I\": 3.19, \"USL\": 3.21, \"LSL\": 3.1900000000000004, \"Nominal\": 3.2}, {\"Datef\": \"\\\"2019-02-27\\\"\", \"I\": 3.202, \"USL\": 3.21, \"LSL\": 3.1900000000000004, \"Nominal\": 3.2}, {\"Datef\": \"\\\"2019-02-27\\\"\", \"I\": 3.192, \"USL\": 3.21, \"LSL\": 3.1900000000000004, \"Nominal\": 3.2}, {\"Datef\": \"\\\"2019-02-27\\\"\", \"I\": 3.2, \"USL\": 3.21, \"LSL\": 3.1900000000000004, \"Nominal\": 3.2}, {\"Datef\": \"\\\"2019-02-27\\\"\", \"I\": 3.192, \"USL\": 3.21, \"LSL\": 3.1900000000000004, \"Nominal\": 3.2}, {\"Datef\": \"\\\"2019-03-07\\\"\", \"I\": 3.194, \"USL\": 3.21, \"LSL\": 3.1900000000000004, \"Nominal\": 3.2}, {\"Datef\": \"\\\"2019-03-07\\\"\", \"I\": 3.195, \"USL\": 3.21, \"LSL\": 3.1900000000000004, \"Nominal\": 3.2}, {\"Datef\": \"\\\"2019-03-07\\\"\", \"I\": 3.195, \"USL\": 3.21, \"LSL\": 3.1900000000000004, \"Nominal\": 3.2}, {\"Datef\": \"\\\"2019-03-07\\\"\", \"I\": 3.196, \"USL\": 3.21, \"LSL\": 3.1900000000000004, \"Nominal\": 3.2}, {\"Datef\": \"\\\"2019-03-07\\\"\", \"I\": 3.193, \"USL\": 3.21, \"LSL\": 3.1900000000000004, \"Nominal\": 3.2}, {\"Datef\": \"\\\"2019-03-15\\\"\", \"I\": 3.21, \"USL\": 3.21, \"LSL\": 3.1900000000000004, \"Nominal\": 3.2}, {\"Datef\": \"\\\"2019-03-15\\\"\", \"I\": 3.197, \"USL\": 3.21, \"LSL\": 3.1900000000000004, \"Nominal\": 3.2}, {\"Datef\": \"\\\"2019-03-15\\\"\", \"I\": 3.204, \"USL\": 3.21, \"LSL\": 3.1900000000000004, \"Nominal\": 3.2}, {\"Datef\": \"\\\"2019-03-15\\\"\", \"I\": 3.196, \"USL\": 3.21, \"LSL\": 3.1900000000000004, \"Nominal\": 3.2}, {\"Datef\": \"\\\"2019-03-15\\\"\", \"I\": 3.19, \"USL\": 3.21, \"LSL\": 3.1900000000000004, \"Nominal\": 3.2}, {\"Datef\": \"\\\"2019-04-05\\\"\", \"I\": 3.203, \"USL\": 3.21, \"LSL\": 3.1900000000000004, \"Nominal\": 3.2}, {\"Datef\": \"\\\"2019-04-05\\\"\", \"I\": 3.2, \"USL\": 3.21, \"LSL\": 3.1900000000000004, \"Nominal\": 3.2}, {\"Datef\": \"\\\"2019-04-05\\\"\", \"I\": 3.2, \"USL\": 3.21, \"LSL\": 3.1900000000000004, \"Nominal\": 3.2}, {\"Datef\": \"\\\"2019-04-05\\\"\", \"I\": 3.198, \"USL\": 3.21, \"LSL\": 3.1900000000000004, \"Nominal\": 3.2}, {\"Datef\": \"\\\"2019-04-05\\\"\", \"I\": 3.2, \"USL\": 3.21, \"LSL\": 3.1900000000000004, \"Nominal\": 3.2}, {\"Datef\": \"\\\"2019-04-16\\\"\", \"I\": 3.209, \"USL\": 3.21, \"LSL\": 3.1900000000000004, \"Nominal\": 3.2}, {\"Datef\": \"\\\"2019-04-16\\\"\", \"I\": 3.2, \"USL\": 3.21, \"LSL\": 3.1900000000000004, \"Nominal\": 3.2}, {\"Datef\": \"\\\"2019-04-16\\\"\", \"I\": 3.207, \"USL\": 3.21, \"LSL\": 3.1900000000000004, \"Nominal\": 3.2}, {\"Datef\": \"\\\"2019-04-16\\\"\", \"I\": 3.191, \"USL\": 3.21, \"LSL\": 3.1900000000000004, \"Nominal\": 3.2}, {\"Datef\": \"\\\"2019-04-16\\\"\", \"I\": 3.199, \"USL\": 3.21, \"LSL\": 3.1900000000000004, \"Nominal\": 3.2}, {\"Datef\": \"\\\"2019-04-16\\\"\", \"I\": 3.197, \"USL\": 3.21, \"LSL\": 3.1900000000000004, \"Nominal\": 3.2}, {\"Datef\": \"\\\"2019-04-16\\\"\", \"I\": 3.205, \"USL\": 3.21, \"LSL\": 3.1900000000000004, \"Nominal\": 3.2}, {\"Datef\": \"\\\"2019-04-16\\\"\", \"I\": 3.194, \"USL\": 3.21, \"LSL\": 3.1900000000000004, \"Nominal\": 3.2}, {\"Datef\": \"\\\"2019-04-16\\\"\", \"I\": 3.203, \"USL\": 3.21, \"LSL\": 3.1900000000000004, \"Nominal\": 3.2}, {\"Datef\": \"\\\"2019-04-16\\\"\", \"I\": 3.193, \"USL\": 3.21, \"LSL\": 3.1900000000000004, \"Nominal\": 3.2}, {\"Datef\": \"\\\"2019-05-27\\\"\", \"I\": 3.198, \"USL\": 3.21, \"LSL\": 3.1900000000000004, \"Nominal\": 3.2}, {\"Datef\": \"\\\"2019-05-27\\\"\", \"I\": 3.206, \"USL\": 3.21, \"LSL\": 3.1900000000000004, \"Nominal\": 3.2}, {\"Datef\": \"\\\"2019-05-27\\\"\", \"I\": 3.194, \"USL\": 3.21, \"LSL\": 3.1900000000000004, \"Nominal\": 3.2}, {\"Datef\": \"\\\"2019-05-27\\\"\", \"I\": 3.204, \"USL\": 3.21, \"LSL\": 3.1900000000000004, \"Nominal\": 3.2}, {\"Datef\": \"\\\"2019-05-27\\\"\", \"I\": 3.193, \"USL\": 3.21, \"LSL\": 3.1900000000000004, \"Nominal\": 3.2}, {\"Datef\": \"\\\"2019-06-03\\\"\", \"I\": 3.196, \"USL\": 3.21, \"LSL\": 3.1900000000000004, \"Nominal\": 3.2}, {\"Datef\": \"\\\"2019-06-03\\\"\", \"I\": 3.196, \"USL\": 3.21, \"LSL\": 3.1900000000000004, \"Nominal\": 3.2}, {\"Datef\": \"\\\"2019-06-03\\\"\", \"I\": 3.204, \"USL\": 3.21, \"LSL\": 3.1900000000000004, \"Nominal\": 3.2}, {\"Datef\": \"\\\"2019-06-03\\\"\", \"I\": 3.201, \"USL\": 3.21, \"LSL\": 3.1900000000000004, \"Nominal\": 3.2}, {\"Datef\": \"\\\"2019-06-03\\\"\", \"I\": 3.203, \"USL\": 3.21, \"LSL\": 3.1900000000000004, \"Nominal\": 3.2}, {\"Datef\": \"\\\"2019-06-10\\\"\", \"I\": 3.207, \"USL\": 3.21, \"LSL\": 3.1900000000000004, \"Nominal\": 3.2}, {\"Datef\": \"\\\"2019-06-10\\\"\", \"I\": 3.207, \"USL\": 3.21, \"LSL\": 3.1900000000000004, \"Nominal\": 3.2}, {\"Datef\": \"\\\"2019-06-10\\\"\", \"I\": 3.2, \"USL\": 3.21, \"LSL\": 3.1900000000000004, \"Nominal\": 3.2}, {\"Datef\": \"\\\"2019-06-10\\\"\", \"I\": 3.207, \"USL\": 3.21, \"LSL\": 3.1900000000000004, \"Nominal\": 3.2}, {\"Datef\": \"\\\"2019-06-10\\\"\", \"I\": 3.198, \"USL\": 3.21, \"LSL\": 3.1900000000000004, \"Nominal\": 3.2}, {\"Datef\": \"\\\"2019-06-17\\\"\", \"I\": 3.202, \"USL\": 3.21, \"LSL\": 3.1900000000000004, \"Nominal\": 3.2}, {\"Datef\": \"\\\"2019-06-17\\\"\", \"I\": 3.196, \"USL\": 3.21, \"LSL\": 3.1900000000000004, \"Nominal\": 3.2}, {\"Datef\": \"\\\"2019-06-17\\\"\", \"I\": 3.194, \"USL\": 3.21, \"LSL\": 3.1900000000000004, \"Nominal\": 3.2}, {\"Datef\": \"\\\"2019-06-17\\\"\", \"I\": 3.203, \"USL\": 3.21, \"LSL\": 3.1900000000000004, \"Nominal\": 3.2}, {\"Datef\": \"\\\"2019-06-17\\\"\", \"I\": 3.19, \"USL\": 3.21, \"LSL\": 3.1900000000000004, \"Nominal\": 3.2}, {\"Datef\": \"\\\"2019-06-25\\\"\", \"I\": 3.199, \"USL\": 3.21, \"LSL\": 3.1900000000000004, \"Nominal\": 3.2}, {\"Datef\": \"\\\"2019-06-25\\\"\", \"I\": 3.19, \"USL\": 3.21, \"LSL\": 3.1900000000000004, \"Nominal\": 3.2}, {\"Datef\": \"\\\"2019-06-25\\\"\", \"I\": 3.2, \"USL\": 3.21, \"LSL\": 3.1900000000000004, \"Nominal\": 3.2}, {\"Datef\": \"\\\"2019-06-25\\\"\", \"I\": 3.196, \"USL\": 3.21, \"LSL\": 3.1900000000000004, \"Nominal\": 3.2}, {\"Datef\": \"\\\"2019-06-25\\\"\", \"I\": 3.192, \"USL\": 3.21, \"LSL\": 3.1900000000000004, \"Nominal\": 3.2}, {\"Datef\": \"\\\"2019-06-28\\\"\", \"I\": 3.203, \"USL\": 3.21, \"LSL\": 3.1900000000000004, \"Nominal\": 3.2}, {\"Datef\": \"\\\"2019-06-28\\\"\", \"I\": 3.203, \"USL\": 3.21, \"LSL\": 3.1900000000000004, \"Nominal\": 3.2}, {\"Datef\": \"\\\"2019-06-28\\\"\", \"I\": 3.205, \"USL\": 3.21, \"LSL\": 3.1900000000000004, \"Nominal\": 3.2}, {\"Datef\": \"\\\"2019-06-28\\\"\", \"I\": 3.195, \"USL\": 3.21, \"LSL\": 3.1900000000000004, \"Nominal\": 3.2}, {\"Datef\": \"\\\"2019-06-28\\\"\", \"I\": 3.194, \"USL\": 3.21, \"LSL\": 3.1900000000000004, \"Nominal\": 3.2}, {\"Datef\": \"\\\"2019-08-07\\\"\", \"I\": 3.201, \"USL\": 3.21, \"LSL\": 3.1900000000000004, \"Nominal\": 3.2}, {\"Datef\": \"\\\"2019-08-07\\\"\", \"I\": 3.201, \"USL\": 3.21, \"LSL\": 3.1900000000000004, \"Nominal\": 3.2}, {\"Datef\": \"\\\"2019-08-07\\\"\", \"I\": 3.202, \"USL\": 3.21, \"LSL\": 3.1900000000000004, \"Nominal\": 3.2}, {\"Datef\": \"\\\"2019-08-07\\\"\", \"I\": 3.203, \"USL\": 3.21, \"LSL\": 3.1900000000000004, \"Nominal\": 3.2}, {\"Datef\": \"\\\"2019-08-07\\\"\", \"I\": 3.199, \"USL\": 3.21, \"LSL\": 3.1900000000000004, \"Nominal\": 3.2}, {\"Datef\": \"\\\"2019-08-19\\\"\", \"I\": 3.202, \"USL\": 3.21, \"LSL\": 3.1900000000000004, \"Nominal\": 3.2}, {\"Datef\": \"\\\"2019-08-19\\\"\", \"I\": 3.202, \"USL\": 3.21, \"LSL\": 3.1900000000000004, \"Nominal\": 3.2}, {\"Datef\": \"\\\"2019-08-19\\\"\", \"I\": 3.201, \"USL\": 3.21, \"LSL\": 3.1900000000000004, \"Nominal\": 3.2}, {\"Datef\": \"\\\"2019-08-19\\\"\", \"I\": 3.199, \"USL\": 3.21, \"LSL\": 3.1900000000000004, \"Nominal\": 3.2}, {\"Datef\": \"\\\"2019-08-19\\\"\", \"I\": 3.2, \"USL\": 3.21, \"LSL\": 3.1900000000000004, \"Nominal\": 3.2}, {\"Datef\": \"\\\"2019-08-26\\\"\", \"I\": 3.201, \"USL\": 3.21, \"LSL\": 3.1900000000000004, \"Nominal\": 3.2}, {\"Datef\": \"\\\"2019-08-26\\\"\", \"I\": 3.202, \"USL\": 3.21, \"LSL\": 3.1900000000000004, \"Nominal\": 3.2}, {\"Datef\": \"\\\"2019-08-26\\\"\", \"I\": 3.199, \"USL\": 3.21, \"LSL\": 3.1900000000000004, \"Nominal\": 3.2}, {\"Datef\": \"\\\"2019-08-26\\\"\", \"I\": 3.199, \"USL\": 3.21, \"LSL\": 3.1900000000000004, \"Nominal\": 3.2}, {\"Datef\": \"\\\"2019-08-26\\\"\", \"I\": 3.201, \"USL\": 3.21, \"LSL\": 3.1900000000000004, \"Nominal\": 3.2}, {\"Datef\": \"\\\"2019-09-05\\\"\", \"I\": 3.2, \"USL\": 3.21, \"LSL\": 3.1900000000000004, \"Nominal\": 3.2}, {\"Datef\": \"\\\"2019-09-05\\\"\", \"I\": 3.199, \"USL\": 3.21, \"LSL\": 3.1900000000000004, \"Nominal\": 3.2}, {\"Datef\": \"\\\"2019-09-05\\\"\", \"I\": 3.202, \"USL\": 3.21, \"LSL\": 3.1900000000000004, \"Nominal\": 3.2}, {\"Datef\": \"\\\"2019-09-05\\\"\", \"I\": 3.202, \"USL\": 3.21, \"LSL\": 3.1900000000000004, \"Nominal\": 3.2}, {\"Datef\": \"\\\"2019-09-05\\\"\", \"I\": 3.203, \"USL\": 3.21, \"LSL\": 3.1900000000000004, \"Nominal\": 3.2}, {\"Datef\": \"\\\"2019-10-17\\\"\", \"I\": 3.198, \"USL\": 3.21, \"LSL\": 3.1900000000000004, \"Nominal\": 3.2}, {\"Datef\": \"\\\"2019-10-17\\\"\", \"I\": 3.197, \"USL\": 3.21, \"LSL\": 3.1900000000000004, \"Nominal\": 3.2}, {\"Datef\": \"\\\"2019-10-17\\\"\", \"I\": 3.197, \"USL\": 3.21, \"LSL\": 3.1900000000000004, \"Nominal\": 3.2}, {\"Datef\": \"\\\"2019-10-17\\\"\", \"I\": 3.198, \"USL\": 3.21, \"LSL\": 3.1900000000000004, \"Nominal\": 3.2}, {\"Datef\": \"\\\"2019-10-17\\\"\", \"I\": 3.198, \"USL\": 3.21, \"LSL\": 3.1900000000000004, \"Nominal\": 3.2}, {\"Datef\": \"\\\"2019-11-01\\\"\", \"I\": 3.197, \"USL\": 3.21, \"LSL\": 3.1900000000000004, \"Nominal\": 3.2}, {\"Datef\": \"\\\"2019-11-01\\\"\", \"I\": 3.197, \"USL\": 3.21, \"LSL\": 3.1900000000000004, \"Nominal\": 3.2}, {\"Datef\": \"\\\"2019-11-01\\\"\", \"I\": 3.196, \"USL\": 3.21, \"LSL\": 3.1900000000000004, \"Nominal\": 3.2}, {\"Datef\": \"\\\"2019-11-01\\\"\", \"I\": 3.2, \"USL\": 3.21, \"LSL\": 3.1900000000000004, \"Nominal\": 3.2}, {\"Datef\": \"\\\"2019-11-01\\\"\", \"I\": 3.198, \"USL\": 3.21, \"LSL\": 3.1900000000000004, \"Nominal\": 3.2}, {\"Datef\": \"\\\"2019-11-13\\\"\", \"I\": 3.199, \"USL\": 3.21, \"LSL\": 3.1900000000000004, \"Nominal\": 3.2}, {\"Datef\": \"\\\"2019-11-13\\\"\", \"I\": 3.193, \"USL\": 3.21, \"LSL\": 3.1900000000000004, \"Nominal\": 3.2}, {\"Datef\": \"\\\"2019-11-13\\\"\", \"I\": 3.198, \"USL\": 3.21, \"LSL\": 3.1900000000000004, \"Nominal\": 3.2}, {\"Datef\": \"\\\"2019-11-13\\\"\", \"I\": 3.198, \"USL\": 3.21, \"LSL\": 3.1900000000000004, \"Nominal\": 3.2}, {\"Datef\": \"\\\"2019-11-13\\\"\", \"I\": 3.196, \"USL\": 3.21, \"LSL\": 3.1900000000000004, \"Nominal\": 3.2}, {\"Datef\": \"\\\"2019-12-05\\\"\", \"I\": 3.198, \"USL\": 3.21, \"LSL\": 3.1900000000000004, \"Nominal\": 3.2}, {\"Datef\": \"\\\"2019-12-05\\\"\", \"I\": 3.199, \"USL\": 3.21, \"LSL\": 3.1900000000000004, \"Nominal\": 3.2}, {\"Datef\": \"\\\"2019-12-05\\\"\", \"I\": 3.198, \"USL\": 3.21, \"LSL\": 3.1900000000000004, \"Nominal\": 3.2}, {\"Datef\": \"\\\"2019-12-05\\\"\", \"I\": 3.199, \"USL\": 3.21, \"LSL\": 3.1900000000000004, \"Nominal\": 3.2}, {\"Datef\": \"\\\"2019-12-05\\\"\", \"I\": 3.199, \"USL\": 3.21, \"LSL\": 3.1900000000000004, \"Nominal\": 3.2}, {\"Datef\": \"\\\"2019-12-10\\\"\", \"I\": 3.201, \"USL\": 3.21, \"LSL\": 3.1900000000000004, \"Nominal\": 3.2}, {\"Datef\": \"\\\"2019-12-10\\\"\", \"I\": 3.203, \"USL\": 3.21, \"LSL\": 3.1900000000000004, \"Nominal\": 3.2}, {\"Datef\": \"\\\"2019-12-10\\\"\", \"I\": 3.199, \"USL\": 3.21, \"LSL\": 3.1900000000000004, \"Nominal\": 3.2}, {\"Datef\": \"\\\"2019-12-10\\\"\", \"I\": 3.197, \"USL\": 3.21, \"LSL\": 3.1900000000000004, \"Nominal\": 3.2}, {\"Datef\": \"\\\"2019-12-10\\\"\", \"I\": 3.198, \"USL\": 3.21, \"LSL\": 3.1900000000000004, \"Nominal\": 3.2}, {\"Datef\": \"\\\"2019-12-26\\\"\", \"I\": 3.201, \"USL\": 3.21, \"LSL\": 3.1900000000000004, \"Nominal\": 3.2}, {\"Datef\": \"\\\"2019-12-26\\\"\", \"I\": 3.204, \"USL\": 3.21, \"LSL\": 3.1900000000000004, \"Nominal\": 3.2}, {\"Datef\": \"\\\"2019-12-26\\\"\", \"I\": 3.203, \"USL\": 3.21, \"LSL\": 3.1900000000000004, \"Nominal\": 3.2}, {\"Datef\": \"\\\"2019-12-26\\\"\", \"I\": 3.2, \"USL\": 3.21, \"LSL\": 3.1900000000000004, \"Nominal\": 3.2}, {\"Datef\": \"\\\"2019-12-26\\\"\", \"I\": 3.204, \"USL\": 3.21, \"LSL\": 3.1900000000000004, \"Nominal\": 3.2}, {\"Datef\": \"\\\"2019-12-31\\\"\", \"I\": 3.199, \"USL\": 3.21, \"LSL\": 3.1900000000000004, \"Nominal\": 3.2}, {\"Datef\": \"\\\"2019-12-31\\\"\", \"I\": 3.204, \"USL\": 3.21, \"LSL\": 3.1900000000000004, \"Nominal\": 3.2}, {\"Datef\": \"\\\"2019-12-31\\\"\", \"I\": 3.202, \"USL\": 3.21, \"LSL\": 3.1900000000000004, \"Nominal\": 3.2}, {\"Datef\": \"\\\"2019-12-31\\\"\", \"I\": 3.201, \"USL\": 3.21, \"LSL\": 3.1900000000000004, \"Nominal\": 3.2}, {\"Datef\": \"\\\"2019-12-31\\\"\", \"I\": 3.201, \"USL\": 3.21, \"LSL\": 3.1900000000000004, \"Nominal\": 3.2}], \"data-167a625bfc2ce63196d8fcf511d6c30d\": [{\"Datef\": \"\\\"2019-01-11\\\"\", \"O\": 11.855, \"USL\": 11.86, \"LSL\": 11.84, \"Nominal\": 11.85}, {\"Datef\": \"\\\"2019-01-11\\\"\", \"O\": 11.855, \"USL\": 11.86, \"LSL\": 11.84, \"Nominal\": 11.85}, {\"Datef\": \"\\\"2019-01-11\\\"\", \"O\": 11.852, \"USL\": 11.86, \"LSL\": 11.84, \"Nominal\": 11.85}, {\"Datef\": \"\\\"2019-01-11\\\"\", \"O\": 11.855, \"USL\": 11.86, \"LSL\": 11.84, \"Nominal\": 11.85}, {\"Datef\": \"\\\"2019-01-11\\\"\", \"O\": 11.85, \"USL\": 11.86, \"LSL\": 11.84, \"Nominal\": 11.85}, {\"Datef\": \"\\\"2019-01-22\\\"\", \"O\": 11.854, \"USL\": 11.86, \"LSL\": 11.84, \"Nominal\": 11.85}, {\"Datef\": \"\\\"2019-01-22\\\"\", \"O\": 11.853, \"USL\": 11.86, \"LSL\": 11.84, \"Nominal\": 11.85}, {\"Datef\": \"\\\"2019-01-22\\\"\", \"O\": 11.856, \"USL\": 11.86, \"LSL\": 11.84, \"Nominal\": 11.85}, {\"Datef\": \"\\\"2019-01-22\\\"\", \"O\": 11.847, \"USL\": 11.86, \"LSL\": 11.84, \"Nominal\": 11.85}, {\"Datef\": \"\\\"2019-01-22\\\"\", \"O\": 11.852, \"USL\": 11.86, \"LSL\": 11.84, \"Nominal\": 11.85}, {\"Datef\": \"\\\"2019-01-26\\\"\", \"O\": 11.854, \"USL\": 11.86, \"LSL\": 11.84, \"Nominal\": 11.85}, {\"Datef\": \"\\\"2019-01-26\\\"\", \"O\": 11.853, \"USL\": 11.86, \"LSL\": 11.84, \"Nominal\": 11.85}, {\"Datef\": \"\\\"2019-01-26\\\"\", \"O\": 11.851, \"USL\": 11.86, \"LSL\": 11.84, \"Nominal\": 11.85}, {\"Datef\": \"\\\"2019-01-26\\\"\", \"O\": 11.85, \"USL\": 11.86, \"LSL\": 11.84, \"Nominal\": 11.85}, {\"Datef\": \"\\\"2019-01-26\\\"\", \"O\": 11.856, \"USL\": 11.86, \"LSL\": 11.84, \"Nominal\": 11.85}, {\"Datef\": \"\\\"2019-01-31\\\"\", \"O\": 11.857, \"USL\": 11.86, \"LSL\": 11.84, \"Nominal\": 11.85}, {\"Datef\": \"\\\"2019-01-31\\\"\", \"O\": 11.856, \"USL\": 11.86, \"LSL\": 11.84, \"Nominal\": 11.85}, {\"Datef\": \"\\\"2019-01-31\\\"\", \"O\": 11.853, \"USL\": 11.86, \"LSL\": 11.84, \"Nominal\": 11.85}, {\"Datef\": \"\\\"2019-01-31\\\"\", \"O\": 11.854, \"USL\": 11.86, \"LSL\": 11.84, \"Nominal\": 11.85}, {\"Datef\": \"\\\"2019-01-31\\\"\", \"O\": 11.853, \"USL\": 11.86, \"LSL\": 11.84, \"Nominal\": 11.85}, {\"Datef\": \"\\\"2019-02-11\\\"\", \"O\": 11.851, \"USL\": 11.86, \"LSL\": 11.84, \"Nominal\": 11.85}, {\"Datef\": \"\\\"2019-02-11\\\"\", \"O\": 11.854, \"USL\": 11.86, \"LSL\": 11.84, \"Nominal\": 11.85}, {\"Datef\": \"\\\"2019-02-11\\\"\", \"O\": 11.854, \"USL\": 11.86, \"LSL\": 11.84, \"Nominal\": 11.85}, {\"Datef\": \"\\\"2019-02-11\\\"\", \"O\": 11.859, \"USL\": 11.86, \"LSL\": 11.84, \"Nominal\": 11.85}, {\"Datef\": \"\\\"2019-02-11\\\"\", \"O\": 11.853, \"USL\": 11.86, \"LSL\": 11.84, \"Nominal\": 11.85}, {\"Datef\": \"\\\"2019-02-22\\\"\", \"O\": 11.853, \"USL\": 11.86, \"LSL\": 11.84, \"Nominal\": 11.85}, {\"Datef\": \"\\\"2019-02-22\\\"\", \"O\": 11.849, \"USL\": 11.86, \"LSL\": 11.84, \"Nominal\": 11.85}, {\"Datef\": \"\\\"2019-02-22\\\"\", \"O\": 11.853, \"USL\": 11.86, \"LSL\": 11.84, \"Nominal\": 11.85}, {\"Datef\": \"\\\"2019-02-22\\\"\", \"O\": 11.851, \"USL\": 11.86, \"LSL\": 11.84, \"Nominal\": 11.85}, {\"Datef\": \"\\\"2019-02-22\\\"\", \"O\": 11.854, \"USL\": 11.86, \"LSL\": 11.84, \"Nominal\": 11.85}, {\"Datef\": \"\\\"2019-02-27\\\"\", \"O\": 11.854, \"USL\": 11.86, \"LSL\": 11.84, \"Nominal\": 11.85}, {\"Datef\": \"\\\"2019-02-27\\\"\", \"O\": 11.853, \"USL\": 11.86, \"LSL\": 11.84, \"Nominal\": 11.85}, {\"Datef\": \"\\\"2019-02-27\\\"\", \"O\": 11.856, \"USL\": 11.86, \"LSL\": 11.84, \"Nominal\": 11.85}, {\"Datef\": \"\\\"2019-02-27\\\"\", \"O\": 11.851, \"USL\": 11.86, \"LSL\": 11.84, \"Nominal\": 11.85}, {\"Datef\": \"\\\"2019-02-27\\\"\", \"O\": 11.859, \"USL\": 11.86, \"LSL\": 11.84, \"Nominal\": 11.85}, {\"Datef\": \"\\\"2019-03-07\\\"\", \"O\": 11.858, \"USL\": 11.86, \"LSL\": 11.84, \"Nominal\": 11.85}, {\"Datef\": \"\\\"2019-03-07\\\"\", \"O\": 11.856, \"USL\": 11.86, \"LSL\": 11.84, \"Nominal\": 11.85}, {\"Datef\": \"\\\"2019-03-07\\\"\", \"O\": 11.856, \"USL\": 11.86, \"LSL\": 11.84, \"Nominal\": 11.85}, {\"Datef\": \"\\\"2019-03-07\\\"\", \"O\": 11.859, \"USL\": 11.86, \"LSL\": 11.84, \"Nominal\": 11.85}, {\"Datef\": \"\\\"2019-03-07\\\"\", \"O\": 11.858, \"USL\": 11.86, \"LSL\": 11.84, \"Nominal\": 11.85}, {\"Datef\": \"\\\"2019-03-15\\\"\", \"O\": 11.852, \"USL\": 11.86, \"LSL\": 11.84, \"Nominal\": 11.85}, {\"Datef\": \"\\\"2019-03-15\\\"\", \"O\": 11.849, \"USL\": 11.86, \"LSL\": 11.84, \"Nominal\": 11.85}, {\"Datef\": \"\\\"2019-03-15\\\"\", \"O\": 11.857, \"USL\": 11.86, \"LSL\": 11.84, \"Nominal\": 11.85}, {\"Datef\": \"\\\"2019-03-15\\\"\", \"O\": 11.851, \"USL\": 11.86, \"LSL\": 11.84, \"Nominal\": 11.85}, {\"Datef\": \"\\\"2019-03-15\\\"\", \"O\": 11.855, \"USL\": 11.86, \"LSL\": 11.84, \"Nominal\": 11.85}, {\"Datef\": \"\\\"2019-04-05\\\"\", \"O\": 11.851, \"USL\": 11.86, \"LSL\": 11.84, \"Nominal\": 11.85}, {\"Datef\": \"\\\"2019-04-05\\\"\", \"O\": 11.847, \"USL\": 11.86, \"LSL\": 11.84, \"Nominal\": 11.85}, {\"Datef\": \"\\\"2019-04-05\\\"\", \"O\": 11.86, \"USL\": 11.86, \"LSL\": 11.84, \"Nominal\": 11.85}, {\"Datef\": \"\\\"2019-04-05\\\"\", \"O\": 11.86, \"USL\": 11.86, \"LSL\": 11.84, \"Nominal\": 11.85}, {\"Datef\": \"\\\"2019-04-05\\\"\", \"O\": 11.86, \"USL\": 11.86, \"LSL\": 11.84, \"Nominal\": 11.85}, {\"Datef\": \"\\\"2019-04-16\\\"\", \"O\": 11.846, \"USL\": 11.86, \"LSL\": 11.84, \"Nominal\": 11.85}, {\"Datef\": \"\\\"2019-04-16\\\"\", \"O\": 11.847, \"USL\": 11.86, \"LSL\": 11.84, \"Nominal\": 11.85}, {\"Datef\": \"\\\"2019-04-16\\\"\", \"O\": 11.851, \"USL\": 11.86, \"LSL\": 11.84, \"Nominal\": 11.85}, {\"Datef\": \"\\\"2019-04-16\\\"\", \"O\": 11.853, \"USL\": 11.86, \"LSL\": 11.84, \"Nominal\": 11.85}, {\"Datef\": \"\\\"2019-04-16\\\"\", \"O\": 11.85, \"USL\": 11.86, \"LSL\": 11.84, \"Nominal\": 11.85}, {\"Datef\": \"\\\"2019-04-16\\\"\", \"O\": 11.856, \"USL\": 11.86, \"LSL\": 11.84, \"Nominal\": 11.85}, {\"Datef\": \"\\\"2019-04-16\\\"\", \"O\": 11.856, \"USL\": 11.86, \"LSL\": 11.84, \"Nominal\": 11.85}, {\"Datef\": \"\\\"2019-04-16\\\"\", \"O\": 11.859, \"USL\": 11.86, \"LSL\": 11.84, \"Nominal\": 11.85}, {\"Datef\": \"\\\"2019-04-16\\\"\", \"O\": 11.856, \"USL\": 11.86, \"LSL\": 11.84, \"Nominal\": 11.85}, {\"Datef\": \"\\\"2019-04-16\\\"\", \"O\": 11.858, \"USL\": 11.86, \"LSL\": 11.84, \"Nominal\": 11.85}, {\"Datef\": \"\\\"2019-05-27\\\"\", \"O\": 11.857, \"USL\": 11.86, \"LSL\": 11.84, \"Nominal\": 11.85}, {\"Datef\": \"\\\"2019-05-27\\\"\", \"O\": 11.851, \"USL\": 11.86, \"LSL\": 11.84, \"Nominal\": 11.85}, {\"Datef\": \"\\\"2019-05-27\\\"\", \"O\": 11.852, \"USL\": 11.86, \"LSL\": 11.84, \"Nominal\": 11.85}, {\"Datef\": \"\\\"2019-05-27\\\"\", \"O\": 11.854, \"USL\": 11.86, \"LSL\": 11.84, \"Nominal\": 11.85}, {\"Datef\": \"\\\"2019-05-27\\\"\", \"O\": 11.852, \"USL\": 11.86, \"LSL\": 11.84, \"Nominal\": 11.85}, {\"Datef\": \"\\\"2019-06-03\\\"\", \"O\": 11.847, \"USL\": 11.86, \"LSL\": 11.84, \"Nominal\": 11.85}, {\"Datef\": \"\\\"2019-06-03\\\"\", \"O\": 11.852, \"USL\": 11.86, \"LSL\": 11.84, \"Nominal\": 11.85}, {\"Datef\": \"\\\"2019-06-03\\\"\", \"O\": 11.855, \"USL\": 11.86, \"LSL\": 11.84, \"Nominal\": 11.85}, {\"Datef\": \"\\\"2019-06-03\\\"\", \"O\": 11.858, \"USL\": 11.86, \"LSL\": 11.84, \"Nominal\": 11.85}, {\"Datef\": \"\\\"2019-06-03\\\"\", \"O\": 11.85, \"USL\": 11.86, \"LSL\": 11.84, \"Nominal\": 11.85}, {\"Datef\": \"\\\"2019-06-10\\\"\", \"O\": 11.851, \"USL\": 11.86, \"LSL\": 11.84, \"Nominal\": 11.85}, {\"Datef\": \"\\\"2019-06-10\\\"\", \"O\": 11.858, \"USL\": 11.86, \"LSL\": 11.84, \"Nominal\": 11.85}, {\"Datef\": \"\\\"2019-06-10\\\"\", \"O\": 11.86, \"USL\": 11.86, \"LSL\": 11.84, \"Nominal\": 11.85}, {\"Datef\": \"\\\"2019-06-10\\\"\", \"O\": 11.853, \"USL\": 11.86, \"LSL\": 11.84, \"Nominal\": 11.85}, {\"Datef\": \"\\\"2019-06-10\\\"\", \"O\": 11.856, \"USL\": 11.86, \"LSL\": 11.84, \"Nominal\": 11.85}, {\"Datef\": \"\\\"2019-06-17\\\"\", \"O\": 11.86, \"USL\": 11.86, \"LSL\": 11.84, \"Nominal\": 11.85}, {\"Datef\": \"\\\"2019-06-17\\\"\", \"O\": 11.859, \"USL\": 11.86, \"LSL\": 11.84, \"Nominal\": 11.85}, {\"Datef\": \"\\\"2019-06-17\\\"\", \"O\": 11.858, \"USL\": 11.86, \"LSL\": 11.84, \"Nominal\": 11.85}, {\"Datef\": \"\\\"2019-06-17\\\"\", \"O\": 11.857, \"USL\": 11.86, \"LSL\": 11.84, \"Nominal\": 11.85}, {\"Datef\": \"\\\"2019-06-17\\\"\", \"O\": 11.86, \"USL\": 11.86, \"LSL\": 11.84, \"Nominal\": 11.85}, {\"Datef\": \"\\\"2019-06-25\\\"\", \"O\": 11.857, \"USL\": 11.86, \"LSL\": 11.84, \"Nominal\": 11.85}, {\"Datef\": \"\\\"2019-06-25\\\"\", \"O\": 11.858, \"USL\": 11.86, \"LSL\": 11.84, \"Nominal\": 11.85}, {\"Datef\": \"\\\"2019-06-25\\\"\", \"O\": 11.861, \"USL\": 11.86, \"LSL\": 11.84, \"Nominal\": 11.85}, {\"Datef\": \"\\\"2019-06-25\\\"\", \"O\": 11.862, \"USL\": 11.86, \"LSL\": 11.84, \"Nominal\": 11.85}, {\"Datef\": \"\\\"2019-06-25\\\"\", \"O\": 11.861, \"USL\": 11.86, \"LSL\": 11.84, \"Nominal\": 11.85}, {\"Datef\": \"\\\"2019-06-28\\\"\", \"O\": 11.855, \"USL\": 11.86, \"LSL\": 11.84, \"Nominal\": 11.85}, {\"Datef\": \"\\\"2019-06-28\\\"\", \"O\": 11.858, \"USL\": 11.86, \"LSL\": 11.84, \"Nominal\": 11.85}, {\"Datef\": \"\\\"2019-06-28\\\"\", \"O\": 11.854, \"USL\": 11.86, \"LSL\": 11.84, \"Nominal\": 11.85}, {\"Datef\": \"\\\"2019-06-28\\\"\", \"O\": 11.859, \"USL\": 11.86, \"LSL\": 11.84, \"Nominal\": 11.85}, {\"Datef\": \"\\\"2019-06-28\\\"\", \"O\": 11.852, \"USL\": 11.86, \"LSL\": 11.84, \"Nominal\": 11.85}, {\"Datef\": \"\\\"2019-08-07\\\"\", \"O\": 11.851, \"USL\": 11.86, \"LSL\": 11.84, \"Nominal\": 11.85}, {\"Datef\": \"\\\"2019-08-07\\\"\", \"O\": 11.851, \"USL\": 11.86, \"LSL\": 11.84, \"Nominal\": 11.85}, {\"Datef\": \"\\\"2019-08-07\\\"\", \"O\": 11.85, \"USL\": 11.86, \"LSL\": 11.84, \"Nominal\": 11.85}, {\"Datef\": \"\\\"2019-08-07\\\"\", \"O\": 11.85, \"USL\": 11.86, \"LSL\": 11.84, \"Nominal\": 11.85}, {\"Datef\": \"\\\"2019-08-07\\\"\", \"O\": 11.852, \"USL\": 11.86, \"LSL\": 11.84, \"Nominal\": 11.85}, {\"Datef\": \"\\\"2019-08-19\\\"\", \"O\": 11.848, \"USL\": 11.86, \"LSL\": 11.84, \"Nominal\": 11.85}, {\"Datef\": \"\\\"2019-08-19\\\"\", \"O\": 11.849, \"USL\": 11.86, \"LSL\": 11.84, \"Nominal\": 11.85}, {\"Datef\": \"\\\"2019-08-19\\\"\", \"O\": 11.848, \"USL\": 11.86, \"LSL\": 11.84, \"Nominal\": 11.85}, {\"Datef\": \"\\\"2019-08-19\\\"\", \"O\": 11.849, \"USL\": 11.86, \"LSL\": 11.84, \"Nominal\": 11.85}, {\"Datef\": \"\\\"2019-08-19\\\"\", \"O\": 11.849, \"USL\": 11.86, \"LSL\": 11.84, \"Nominal\": 11.85}, {\"Datef\": \"\\\"2019-08-26\\\"\", \"O\": 11.849, \"USL\": 11.86, \"LSL\": 11.84, \"Nominal\": 11.85}, {\"Datef\": \"\\\"2019-08-26\\\"\", \"O\": 11.85, \"USL\": 11.86, \"LSL\": 11.84, \"Nominal\": 11.85}, {\"Datef\": \"\\\"2019-08-26\\\"\", \"O\": 11.852, \"USL\": 11.86, \"LSL\": 11.84, \"Nominal\": 11.85}, {\"Datef\": \"\\\"2019-08-26\\\"\", \"O\": 11.849, \"USL\": 11.86, \"LSL\": 11.84, \"Nominal\": 11.85}, {\"Datef\": \"\\\"2019-08-26\\\"\", \"O\": 11.849, \"USL\": 11.86, \"LSL\": 11.84, \"Nominal\": 11.85}, {\"Datef\": \"\\\"2019-09-05\\\"\", \"O\": 11.855, \"USL\": 11.86, \"LSL\": 11.84, \"Nominal\": 11.85}, {\"Datef\": \"\\\"2019-09-05\\\"\", \"O\": 11.855, \"USL\": 11.86, \"LSL\": 11.84, \"Nominal\": 11.85}, {\"Datef\": \"\\\"2019-09-05\\\"\", \"O\": 11.856, \"USL\": 11.86, \"LSL\": 11.84, \"Nominal\": 11.85}, {\"Datef\": \"\\\"2019-09-05\\\"\", \"O\": 11.856, \"USL\": 11.86, \"LSL\": 11.84, \"Nominal\": 11.85}, {\"Datef\": \"\\\"2019-09-05\\\"\", \"O\": 11.857, \"USL\": 11.86, \"LSL\": 11.84, \"Nominal\": 11.85}, {\"Datef\": \"\\\"2019-10-17\\\"\", \"O\": 11.848, \"USL\": 11.86, \"LSL\": 11.84, \"Nominal\": 11.85}, {\"Datef\": \"\\\"2019-10-17\\\"\", \"O\": 11.849, \"USL\": 11.86, \"LSL\": 11.84, \"Nominal\": 11.85}, {\"Datef\": \"\\\"2019-10-17\\\"\", \"O\": 11.849, \"USL\": 11.86, \"LSL\": 11.84, \"Nominal\": 11.85}, {\"Datef\": \"\\\"2019-10-17\\\"\", \"O\": 11.849, \"USL\": 11.86, \"LSL\": 11.84, \"Nominal\": 11.85}, {\"Datef\": \"\\\"2019-10-17\\\"\", \"O\": 11.85, \"USL\": 11.86, \"LSL\": 11.84, \"Nominal\": 11.85}, {\"Datef\": \"\\\"2019-11-01\\\"\", \"O\": 11.848, \"USL\": 11.86, \"LSL\": 11.84, \"Nominal\": 11.85}, {\"Datef\": \"\\\"2019-11-01\\\"\", \"O\": 11.848, \"USL\": 11.86, \"LSL\": 11.84, \"Nominal\": 11.85}, {\"Datef\": \"\\\"2019-11-01\\\"\", \"O\": 11.851, \"USL\": 11.86, \"LSL\": 11.84, \"Nominal\": 11.85}, {\"Datef\": \"\\\"2019-11-01\\\"\", \"O\": 11.849, \"USL\": 11.86, \"LSL\": 11.84, \"Nominal\": 11.85}, {\"Datef\": \"\\\"2019-11-01\\\"\", \"O\": 11.849, \"USL\": 11.86, \"LSL\": 11.84, \"Nominal\": 11.85}, {\"Datef\": \"\\\"2019-11-13\\\"\", \"O\": 11.851, \"USL\": 11.86, \"LSL\": 11.84, \"Nominal\": 11.85}, {\"Datef\": \"\\\"2019-11-13\\\"\", \"O\": 11.851, \"USL\": 11.86, \"LSL\": 11.84, \"Nominal\": 11.85}, {\"Datef\": \"\\\"2019-11-13\\\"\", \"O\": 11.851, \"USL\": 11.86, \"LSL\": 11.84, \"Nominal\": 11.85}, {\"Datef\": \"\\\"2019-11-13\\\"\", \"O\": 11.85, \"USL\": 11.86, \"LSL\": 11.84, \"Nominal\": 11.85}, {\"Datef\": \"\\\"2019-11-13\\\"\", \"O\": 11.851, \"USL\": 11.86, \"LSL\": 11.84, \"Nominal\": 11.85}, {\"Datef\": \"\\\"2019-12-05\\\"\", \"O\": 11.848, \"USL\": 11.86, \"LSL\": 11.84, \"Nominal\": 11.85}, {\"Datef\": \"\\\"2019-12-05\\\"\", \"O\": 11.849, \"USL\": 11.86, \"LSL\": 11.84, \"Nominal\": 11.85}, {\"Datef\": \"\\\"2019-12-05\\\"\", \"O\": 11.85, \"USL\": 11.86, \"LSL\": 11.84, \"Nominal\": 11.85}, {\"Datef\": \"\\\"2019-12-05\\\"\", \"O\": 11.85, \"USL\": 11.86, \"LSL\": 11.84, \"Nominal\": 11.85}, {\"Datef\": \"\\\"2019-12-05\\\"\", \"O\": 11.849, \"USL\": 11.86, \"LSL\": 11.84, \"Nominal\": 11.85}, {\"Datef\": \"\\\"2019-12-10\\\"\", \"O\": 11.852, \"USL\": 11.86, \"LSL\": 11.84, \"Nominal\": 11.85}, {\"Datef\": \"\\\"2019-12-10\\\"\", \"O\": 11.851, \"USL\": 11.86, \"LSL\": 11.84, \"Nominal\": 11.85}, {\"Datef\": \"\\\"2019-12-10\\\"\", \"O\": 11.852, \"USL\": 11.86, \"LSL\": 11.84, \"Nominal\": 11.85}, {\"Datef\": \"\\\"2019-12-10\\\"\", \"O\": 11.852, \"USL\": 11.86, \"LSL\": 11.84, \"Nominal\": 11.85}, {\"Datef\": \"\\\"2019-12-10\\\"\", \"O\": 11.853, \"USL\": 11.86, \"LSL\": 11.84, \"Nominal\": 11.85}, {\"Datef\": \"\\\"2019-12-26\\\"\", \"O\": 11.85, \"USL\": 11.86, \"LSL\": 11.84, \"Nominal\": 11.85}, {\"Datef\": \"\\\"2019-12-26\\\"\", \"O\": 11.847, \"USL\": 11.86, \"LSL\": 11.84, \"Nominal\": 11.85}, {\"Datef\": \"\\\"2019-12-26\\\"\", \"O\": 11.848, \"USL\": 11.86, \"LSL\": 11.84, \"Nominal\": 11.85}, {\"Datef\": \"\\\"2019-12-26\\\"\", \"O\": 11.85, \"USL\": 11.86, \"LSL\": 11.84, \"Nominal\": 11.85}, {\"Datef\": \"\\\"2019-12-26\\\"\", \"O\": 11.848, \"USL\": 11.86, \"LSL\": 11.84, \"Nominal\": 11.85}, {\"Datef\": \"\\\"2019-12-31\\\"\", \"O\": 11.85, \"USL\": 11.86, \"LSL\": 11.84, \"Nominal\": 11.85}, {\"Datef\": \"\\\"2019-12-31\\\"\", \"O\": 11.849, \"USL\": 11.86, \"LSL\": 11.84, \"Nominal\": 11.85}, {\"Datef\": \"\\\"2019-12-31\\\"\", \"O\": 11.847, \"USL\": 11.86, \"LSL\": 11.84, \"Nominal\": 11.85}, {\"Datef\": \"\\\"2019-12-31\\\"\", \"O\": 11.847, \"USL\": 11.86, \"LSL\": 11.84, \"Nominal\": 11.85}, {\"Datef\": \"\\\"2019-12-31\\\"\", \"O\": 11.848, \"USL\": 11.86, \"LSL\": 11.84, \"Nominal\": 11.85}], \"data-1c5f679b5333ab88874ec7ef37d3a5c8\": [{\"Datef\": \"\\\"2019-01-11\\\"\", \"Z\": 0.31, \"USL\": 0.32, \"LSL\": 0.27999999999999997, \"Nominal\": 0.3}, {\"Datef\": \"\\\"2019-01-11\\\"\", \"Z\": 0.31, \"USL\": 0.32, \"LSL\": 0.27999999999999997, \"Nominal\": 0.3}, {\"Datef\": \"\\\"2019-01-11\\\"\", \"Z\": 0.31, \"USL\": 0.32, \"LSL\": 0.27999999999999997, \"Nominal\": 0.3}, {\"Datef\": \"\\\"2019-01-11\\\"\", \"Z\": 0.311, \"USL\": 0.32, \"LSL\": 0.27999999999999997, \"Nominal\": 0.3}, {\"Datef\": \"\\\"2019-01-11\\\"\", \"Z\": 0.31, \"USL\": 0.32, \"LSL\": 0.27999999999999997, \"Nominal\": 0.3}, {\"Datef\": \"\\\"2019-01-22\\\"\", \"Z\": 0.31, \"USL\": 0.32, \"LSL\": 0.27999999999999997, \"Nominal\": 0.3}, {\"Datef\": \"\\\"2019-01-22\\\"\", \"Z\": 0.311, \"USL\": 0.32, \"LSL\": 0.27999999999999997, \"Nominal\": 0.3}, {\"Datef\": \"\\\"2019-01-22\\\"\", \"Z\": 0.311, \"USL\": 0.32, \"LSL\": 0.27999999999999997, \"Nominal\": 0.3}, {\"Datef\": \"\\\"2019-01-22\\\"\", \"Z\": 0.311, \"USL\": 0.32, \"LSL\": 0.27999999999999997, \"Nominal\": 0.3}, {\"Datef\": \"\\\"2019-01-22\\\"\", \"Z\": 0.311, \"USL\": 0.32, \"LSL\": 0.27999999999999997, \"Nominal\": 0.3}, {\"Datef\": \"\\\"2019-01-26\\\"\", \"Z\": 0.311, \"USL\": 0.32, \"LSL\": 0.27999999999999997, \"Nominal\": 0.3}, {\"Datef\": \"\\\"2019-01-26\\\"\", \"Z\": 0.311, \"USL\": 0.32, \"LSL\": 0.27999999999999997, \"Nominal\": 0.3}, {\"Datef\": \"\\\"2019-01-26\\\"\", \"Z\": 0.311, \"USL\": 0.32, \"LSL\": 0.27999999999999997, \"Nominal\": 0.3}, {\"Datef\": \"\\\"2019-01-26\\\"\", \"Z\": 0.311, \"USL\": 0.32, \"LSL\": 0.27999999999999997, \"Nominal\": 0.3}, {\"Datef\": \"\\\"2019-01-26\\\"\", \"Z\": 0.312, \"USL\": 0.32, \"LSL\": 0.27999999999999997, \"Nominal\": 0.3}, {\"Datef\": \"\\\"2019-01-31\\\"\", \"Z\": 0.311, \"USL\": 0.32, \"LSL\": 0.27999999999999997, \"Nominal\": 0.3}, {\"Datef\": \"\\\"2019-01-31\\\"\", \"Z\": 0.311, \"USL\": 0.32, \"LSL\": 0.27999999999999997, \"Nominal\": 0.3}, {\"Datef\": \"\\\"2019-01-31\\\"\", \"Z\": 0.313, \"USL\": 0.32, \"LSL\": 0.27999999999999997, \"Nominal\": 0.3}, {\"Datef\": \"\\\"2019-01-31\\\"\", \"Z\": 0.311, \"USL\": 0.32, \"LSL\": 0.27999999999999997, \"Nominal\": 0.3}, {\"Datef\": \"\\\"2019-01-31\\\"\", \"Z\": 0.311, \"USL\": 0.32, \"LSL\": 0.27999999999999997, \"Nominal\": 0.3}, {\"Datef\": \"\\\"2019-02-11\\\"\", \"Z\": 0.311, \"USL\": 0.32, \"LSL\": 0.27999999999999997, \"Nominal\": 0.3}, {\"Datef\": \"\\\"2019-02-11\\\"\", \"Z\": 0.312, \"USL\": 0.32, \"LSL\": 0.27999999999999997, \"Nominal\": 0.3}, {\"Datef\": \"\\\"2019-02-11\\\"\", \"Z\": 0.311, \"USL\": 0.32, \"LSL\": 0.27999999999999997, \"Nominal\": 0.3}, {\"Datef\": \"\\\"2019-02-11\\\"\", \"Z\": 0.313, \"USL\": 0.32, \"LSL\": 0.27999999999999997, \"Nominal\": 0.3}, {\"Datef\": \"\\\"2019-02-11\\\"\", \"Z\": 0.312, \"USL\": 0.32, \"LSL\": 0.27999999999999997, \"Nominal\": 0.3}, {\"Datef\": \"\\\"2019-02-22\\\"\", \"Z\": 0.313, \"USL\": 0.32, \"LSL\": 0.27999999999999997, \"Nominal\": 0.3}, {\"Datef\": \"\\\"2019-02-22\\\"\", \"Z\": 0.313, \"USL\": 0.32, \"LSL\": 0.27999999999999997, \"Nominal\": 0.3}, {\"Datef\": \"\\\"2019-02-22\\\"\", \"Z\": 0.31, \"USL\": 0.32, \"LSL\": 0.27999999999999997, \"Nominal\": 0.3}, {\"Datef\": \"\\\"2019-02-22\\\"\", \"Z\": 0.312, \"USL\": 0.32, \"LSL\": 0.27999999999999997, \"Nominal\": 0.3}, {\"Datef\": \"\\\"2019-02-22\\\"\", \"Z\": 0.31, \"USL\": 0.32, \"LSL\": 0.27999999999999997, \"Nominal\": 0.3}, {\"Datef\": \"\\\"2019-02-27\\\"\", \"Z\": 0.311, \"USL\": 0.32, \"LSL\": 0.27999999999999997, \"Nominal\": 0.3}, {\"Datef\": \"\\\"2019-02-27\\\"\", \"Z\": 0.311, \"USL\": 0.32, \"LSL\": 0.27999999999999997, \"Nominal\": 0.3}, {\"Datef\": \"\\\"2019-02-27\\\"\", \"Z\": 0.311, \"USL\": 0.32, \"LSL\": 0.27999999999999997, \"Nominal\": 0.3}, {\"Datef\": \"\\\"2019-02-27\\\"\", \"Z\": 0.312, \"USL\": 0.32, \"LSL\": 0.27999999999999997, \"Nominal\": 0.3}, {\"Datef\": \"\\\"2019-02-27\\\"\", \"Z\": 0.312, \"USL\": 0.32, \"LSL\": 0.27999999999999997, \"Nominal\": 0.3}, {\"Datef\": \"\\\"2019-03-07\\\"\", \"Z\": 0.312, \"USL\": 0.32, \"LSL\": 0.27999999999999997, \"Nominal\": 0.3}, {\"Datef\": \"\\\"2019-03-07\\\"\", \"Z\": 0.311, \"USL\": 0.32, \"LSL\": 0.27999999999999997, \"Nominal\": 0.3}, {\"Datef\": \"\\\"2019-03-07\\\"\", \"Z\": 0.311, \"USL\": 0.32, \"LSL\": 0.27999999999999997, \"Nominal\": 0.3}, {\"Datef\": \"\\\"2019-03-07\\\"\", \"Z\": 0.312, \"USL\": 0.32, \"LSL\": 0.27999999999999997, \"Nominal\": 0.3}, {\"Datef\": \"\\\"2019-03-07\\\"\", \"Z\": 0.31, \"USL\": 0.32, \"LSL\": 0.27999999999999997, \"Nominal\": 0.3}, {\"Datef\": \"\\\"2019-03-15\\\"\", \"Z\": 0.311, \"USL\": 0.32, \"LSL\": 0.27999999999999997, \"Nominal\": 0.3}, {\"Datef\": \"\\\"2019-03-15\\\"\", \"Z\": 0.311, \"USL\": 0.32, \"LSL\": 0.27999999999999997, \"Nominal\": 0.3}, {\"Datef\": \"\\\"2019-03-15\\\"\", \"Z\": 0.311, \"USL\": 0.32, \"LSL\": 0.27999999999999997, \"Nominal\": 0.3}, {\"Datef\": \"\\\"2019-03-15\\\"\", \"Z\": 0.313, \"USL\": 0.32, \"LSL\": 0.27999999999999997, \"Nominal\": 0.3}, {\"Datef\": \"\\\"2019-03-15\\\"\", \"Z\": 0.313, \"USL\": 0.32, \"LSL\": 0.27999999999999997, \"Nominal\": 0.3}, {\"Datef\": \"\\\"2019-04-05\\\"\", \"Z\": 0.31, \"USL\": 0.32, \"LSL\": 0.27999999999999997, \"Nominal\": 0.3}, {\"Datef\": \"\\\"2019-04-05\\\"\", \"Z\": 0.313, \"USL\": 0.32, \"LSL\": 0.27999999999999997, \"Nominal\": 0.3}, {\"Datef\": \"\\\"2019-04-05\\\"\", \"Z\": 0.311, \"USL\": 0.32, \"LSL\": 0.27999999999999997, \"Nominal\": 0.3}, {\"Datef\": \"\\\"2019-04-05\\\"\", \"Z\": 0.31, \"USL\": 0.32, \"LSL\": 0.27999999999999997, \"Nominal\": 0.3}, {\"Datef\": \"\\\"2019-04-05\\\"\", \"Z\": 0.31, \"USL\": 0.32, \"LSL\": 0.27999999999999997, \"Nominal\": 0.3}, {\"Datef\": \"\\\"2019-04-16\\\"\", \"Z\": 0.314, \"USL\": 0.32, \"LSL\": 0.27999999999999997, \"Nominal\": 0.3}, {\"Datef\": \"\\\"2019-04-16\\\"\", \"Z\": 0.314, \"USL\": 0.32, \"LSL\": 0.27999999999999997, \"Nominal\": 0.3}, {\"Datef\": \"\\\"2019-04-16\\\"\", \"Z\": 0.311, \"USL\": 0.32, \"LSL\": 0.27999999999999997, \"Nominal\": 0.3}, {\"Datef\": \"\\\"2019-04-16\\\"\", \"Z\": 0.315, \"USL\": 0.32, \"LSL\": 0.27999999999999997, \"Nominal\": 0.3}, {\"Datef\": \"\\\"2019-04-16\\\"\", \"Z\": 0.313, \"USL\": 0.32, \"LSL\": 0.27999999999999997, \"Nominal\": 0.3}, {\"Datef\": \"\\\"2019-04-16\\\"\", \"Z\": 0.313, \"USL\": 0.32, \"LSL\": 0.27999999999999997, \"Nominal\": 0.3}, {\"Datef\": \"\\\"2019-04-16\\\"\", \"Z\": 0.31, \"USL\": 0.32, \"LSL\": 0.27999999999999997, \"Nominal\": 0.3}, {\"Datef\": \"\\\"2019-04-16\\\"\", \"Z\": 0.314, \"USL\": 0.32, \"LSL\": 0.27999999999999997, \"Nominal\": 0.3}, {\"Datef\": \"\\\"2019-04-16\\\"\", \"Z\": 0.312, \"USL\": 0.32, \"LSL\": 0.27999999999999997, \"Nominal\": 0.3}, {\"Datef\": \"\\\"2019-04-16\\\"\", \"Z\": 0.311, \"USL\": 0.32, \"LSL\": 0.27999999999999997, \"Nominal\": 0.3}, {\"Datef\": \"\\\"2019-05-27\\\"\", \"Z\": 0.313, \"USL\": 0.32, \"LSL\": 0.27999999999999997, \"Nominal\": 0.3}, {\"Datef\": \"\\\"2019-05-27\\\"\", \"Z\": 0.312, \"USL\": 0.32, \"LSL\": 0.27999999999999997, \"Nominal\": 0.3}, {\"Datef\": \"\\\"2019-05-27\\\"\", \"Z\": 0.311, \"USL\": 0.32, \"LSL\": 0.27999999999999997, \"Nominal\": 0.3}, {\"Datef\": \"\\\"2019-05-27\\\"\", \"Z\": 0.313, \"USL\": 0.32, \"LSL\": 0.27999999999999997, \"Nominal\": 0.3}, {\"Datef\": \"\\\"2019-05-27\\\"\", \"Z\": 0.316, \"USL\": 0.32, \"LSL\": 0.27999999999999997, \"Nominal\": 0.3}, {\"Datef\": \"\\\"2019-06-03\\\"\", \"Z\": 0.314, \"USL\": 0.32, \"LSL\": 0.27999999999999997, \"Nominal\": 0.3}, {\"Datef\": \"\\\"2019-06-03\\\"\", \"Z\": 0.315, \"USL\": 0.32, \"LSL\": 0.27999999999999997, \"Nominal\": 0.3}, {\"Datef\": \"\\\"2019-06-03\\\"\", \"Z\": 0.311, \"USL\": 0.32, \"LSL\": 0.27999999999999997, \"Nominal\": 0.3}, {\"Datef\": \"\\\"2019-06-03\\\"\", \"Z\": 0.31, \"USL\": 0.32, \"LSL\": 0.27999999999999997, \"Nominal\": 0.3}, {\"Datef\": \"\\\"2019-06-03\\\"\", \"Z\": 0.313, \"USL\": 0.32, \"LSL\": 0.27999999999999997, \"Nominal\": 0.3}, {\"Datef\": \"\\\"2019-06-10\\\"\", \"Z\": 0.311, \"USL\": 0.32, \"LSL\": 0.27999999999999997, \"Nominal\": 0.3}, {\"Datef\": \"\\\"2019-06-10\\\"\", \"Z\": 0.311, \"USL\": 0.32, \"LSL\": 0.27999999999999997, \"Nominal\": 0.3}, {\"Datef\": \"\\\"2019-06-10\\\"\", \"Z\": 0.312, \"USL\": 0.32, \"LSL\": 0.27999999999999997, \"Nominal\": 0.3}, {\"Datef\": \"\\\"2019-06-10\\\"\", \"Z\": 0.31, \"USL\": 0.32, \"LSL\": 0.27999999999999997, \"Nominal\": 0.3}, {\"Datef\": \"\\\"2019-06-10\\\"\", \"Z\": 0.312, \"USL\": 0.32, \"LSL\": 0.27999999999999997, \"Nominal\": 0.3}, {\"Datef\": \"\\\"2019-06-17\\\"\", \"Z\": 0.313, \"USL\": 0.32, \"LSL\": 0.27999999999999997, \"Nominal\": 0.3}, {\"Datef\": \"\\\"2019-06-17\\\"\", \"Z\": 0.31, \"USL\": 0.32, \"LSL\": 0.27999999999999997, \"Nominal\": 0.3}, {\"Datef\": \"\\\"2019-06-17\\\"\", \"Z\": 0.313, \"USL\": 0.32, \"LSL\": 0.27999999999999997, \"Nominal\": 0.3}, {\"Datef\": \"\\\"2019-06-17\\\"\", \"Z\": 0.314, \"USL\": 0.32, \"LSL\": 0.27999999999999997, \"Nominal\": 0.3}, {\"Datef\": \"\\\"2019-06-17\\\"\", \"Z\": 0.314, \"USL\": 0.32, \"LSL\": 0.27999999999999997, \"Nominal\": 0.3}, {\"Datef\": \"\\\"2019-06-25\\\"\", \"Z\": 0.315, \"USL\": 0.32, \"LSL\": 0.27999999999999997, \"Nominal\": 0.3}, {\"Datef\": \"\\\"2019-06-25\\\"\", \"Z\": 0.315, \"USL\": 0.32, \"LSL\": 0.27999999999999997, \"Nominal\": 0.3}, {\"Datef\": \"\\\"2019-06-25\\\"\", \"Z\": 0.318, \"USL\": 0.32, \"LSL\": 0.27999999999999997, \"Nominal\": 0.3}, {\"Datef\": \"\\\"2019-06-25\\\"\", \"Z\": 0.318, \"USL\": 0.32, \"LSL\": 0.27999999999999997, \"Nominal\": 0.3}, {\"Datef\": \"\\\"2019-06-25\\\"\", \"Z\": 0.316, \"USL\": 0.32, \"LSL\": 0.27999999999999997, \"Nominal\": 0.3}, {\"Datef\": \"\\\"2019-06-28\\\"\", \"Z\": 0.316, \"USL\": 0.32, \"LSL\": 0.27999999999999997, \"Nominal\": 0.3}, {\"Datef\": \"\\\"2019-06-28\\\"\", \"Z\": 0.316, \"USL\": 0.32, \"LSL\": 0.27999999999999997, \"Nominal\": 0.3}, {\"Datef\": \"\\\"2019-06-28\\\"\", \"Z\": 0.315, \"USL\": 0.32, \"LSL\": 0.27999999999999997, \"Nominal\": 0.3}, {\"Datef\": \"\\\"2019-06-28\\\"\", \"Z\": 0.312, \"USL\": 0.32, \"LSL\": 0.27999999999999997, \"Nominal\": 0.3}, {\"Datef\": \"\\\"2019-06-28\\\"\", \"Z\": 0.319, \"USL\": 0.32, \"LSL\": 0.27999999999999997, \"Nominal\": 0.3}, {\"Datef\": \"\\\"2019-08-07\\\"\", \"Z\": 0.312, \"USL\": 0.32, \"LSL\": 0.27999999999999997, \"Nominal\": 0.3}, {\"Datef\": \"\\\"2019-08-07\\\"\", \"Z\": 0.316, \"USL\": 0.32, \"LSL\": 0.27999999999999997, \"Nominal\": 0.3}, {\"Datef\": \"\\\"2019-08-07\\\"\", \"Z\": 0.312, \"USL\": 0.32, \"LSL\": 0.27999999999999997, \"Nominal\": 0.3}, {\"Datef\": \"\\\"2019-08-07\\\"\", \"Z\": 0.313, \"USL\": 0.32, \"LSL\": 0.27999999999999997, \"Nominal\": 0.3}, {\"Datef\": \"\\\"2019-08-07\\\"\", \"Z\": 0.314, \"USL\": 0.32, \"LSL\": 0.27999999999999997, \"Nominal\": 0.3}, {\"Datef\": \"\\\"2019-08-19\\\"\", \"Z\": 0.314, \"USL\": 0.32, \"LSL\": 0.27999999999999997, \"Nominal\": 0.3}, {\"Datef\": \"\\\"2019-08-19\\\"\", \"Z\": 0.314, \"USL\": 0.32, \"LSL\": 0.27999999999999997, \"Nominal\": 0.3}, {\"Datef\": \"\\\"2019-08-19\\\"\", \"Z\": 0.312, \"USL\": 0.32, \"LSL\": 0.27999999999999997, \"Nominal\": 0.3}, {\"Datef\": \"\\\"2019-08-19\\\"\", \"Z\": 0.313, \"USL\": 0.32, \"LSL\": 0.27999999999999997, \"Nominal\": 0.3}, {\"Datef\": \"\\\"2019-08-19\\\"\", \"Z\": 0.311, \"USL\": 0.32, \"LSL\": 0.27999999999999997, \"Nominal\": 0.3}, {\"Datef\": \"\\\"2019-08-26\\\"\", \"Z\": 0.311, \"USL\": 0.32, \"LSL\": 0.27999999999999997, \"Nominal\": 0.3}, {\"Datef\": \"\\\"2019-08-26\\\"\", \"Z\": 0.314, \"USL\": 0.32, \"LSL\": 0.27999999999999997, \"Nominal\": 0.3}, {\"Datef\": \"\\\"2019-08-26\\\"\", \"Z\": 0.313, \"USL\": 0.32, \"LSL\": 0.27999999999999997, \"Nominal\": 0.3}, {\"Datef\": \"\\\"2019-08-26\\\"\", \"Z\": 0.314, \"USL\": 0.32, \"LSL\": 0.27999999999999997, \"Nominal\": 0.3}, {\"Datef\": \"\\\"2019-08-26\\\"\", \"Z\": 0.312, \"USL\": 0.32, \"LSL\": 0.27999999999999997, \"Nominal\": 0.3}, {\"Datef\": \"\\\"2019-09-05\\\"\", \"Z\": 0.316, \"USL\": 0.32, \"LSL\": 0.27999999999999997, \"Nominal\": 0.3}, {\"Datef\": \"\\\"2019-09-05\\\"\", \"Z\": 0.316, \"USL\": 0.32, \"LSL\": 0.27999999999999997, \"Nominal\": 0.3}, {\"Datef\": \"\\\"2019-09-05\\\"\", \"Z\": 0.316, \"USL\": 0.32, \"LSL\": 0.27999999999999997, \"Nominal\": 0.3}, {\"Datef\": \"\\\"2019-09-05\\\"\", \"Z\": 0.316, \"USL\": 0.32, \"LSL\": 0.27999999999999997, \"Nominal\": 0.3}, {\"Datef\": \"\\\"2019-09-05\\\"\", \"Z\": 0.317, \"USL\": 0.32, \"LSL\": 0.27999999999999997, \"Nominal\": 0.3}, {\"Datef\": \"\\\"2019-10-17\\\"\", \"Z\": 0.311, \"USL\": 0.32, \"LSL\": 0.27999999999999997, \"Nominal\": 0.3}, {\"Datef\": \"\\\"2019-10-17\\\"\", \"Z\": 0.313, \"USL\": 0.32, \"LSL\": 0.27999999999999997, \"Nominal\": 0.3}, {\"Datef\": \"\\\"2019-10-17\\\"\", \"Z\": 0.312, \"USL\": 0.32, \"LSL\": 0.27999999999999997, \"Nominal\": 0.3}, {\"Datef\": \"\\\"2019-10-17\\\"\", \"Z\": 0.314, \"USL\": 0.32, \"LSL\": 0.27999999999999997, \"Nominal\": 0.3}, {\"Datef\": \"\\\"2019-10-17\\\"\", \"Z\": 0.314, \"USL\": 0.32, \"LSL\": 0.27999999999999997, \"Nominal\": 0.3}, {\"Datef\": \"\\\"2019-11-01\\\"\", \"Z\": 0.313, \"USL\": 0.32, \"LSL\": 0.27999999999999997, \"Nominal\": 0.3}, {\"Datef\": \"\\\"2019-11-01\\\"\", \"Z\": 0.314, \"USL\": 0.32, \"LSL\": 0.27999999999999997, \"Nominal\": 0.3}, {\"Datef\": \"\\\"2019-11-01\\\"\", \"Z\": 0.313, \"USL\": 0.32, \"LSL\": 0.27999999999999997, \"Nominal\": 0.3}, {\"Datef\": \"\\\"2019-11-01\\\"\", \"Z\": 0.313, \"USL\": 0.32, \"LSL\": 0.27999999999999997, \"Nominal\": 0.3}, {\"Datef\": \"\\\"2019-11-01\\\"\", \"Z\": 0.313, \"USL\": 0.32, \"LSL\": 0.27999999999999997, \"Nominal\": 0.3}, {\"Datef\": \"\\\"2019-11-13\\\"\", \"Z\": 0.316, \"USL\": 0.32, \"LSL\": 0.27999999999999997, \"Nominal\": 0.3}, {\"Datef\": \"\\\"2019-11-13\\\"\", \"Z\": 0.315, \"USL\": 0.32, \"LSL\": 0.27999999999999997, \"Nominal\": 0.3}, {\"Datef\": \"\\\"2019-11-13\\\"\", \"Z\": 0.315, \"USL\": 0.32, \"LSL\": 0.27999999999999997, \"Nominal\": 0.3}, {\"Datef\": \"\\\"2019-11-13\\\"\", \"Z\": 0.315, \"USL\": 0.32, \"LSL\": 0.27999999999999997, \"Nominal\": 0.3}, {\"Datef\": \"\\\"2019-11-13\\\"\", \"Z\": 0.315, \"USL\": 0.32, \"LSL\": 0.27999999999999997, \"Nominal\": 0.3}, {\"Datef\": \"\\\"2019-12-05\\\"\", \"Z\": 0.309, \"USL\": 0.32, \"LSL\": 0.27999999999999997, \"Nominal\": 0.3}, {\"Datef\": \"\\\"2019-12-05\\\"\", \"Z\": 0.308, \"USL\": 0.32, \"LSL\": 0.27999999999999997, \"Nominal\": 0.3}, {\"Datef\": \"\\\"2019-12-05\\\"\", \"Z\": 0.308, \"USL\": 0.32, \"LSL\": 0.27999999999999997, \"Nominal\": 0.3}, {\"Datef\": \"\\\"2019-12-05\\\"\", \"Z\": 0.307, \"USL\": 0.32, \"LSL\": 0.27999999999999997, \"Nominal\": 0.3}, {\"Datef\": \"\\\"2019-12-05\\\"\", \"Z\": 0.308, \"USL\": 0.32, \"LSL\": 0.27999999999999997, \"Nominal\": 0.3}, {\"Datef\": \"\\\"2019-12-10\\\"\", \"Z\": 0.311, \"USL\": 0.32, \"LSL\": 0.27999999999999997, \"Nominal\": 0.3}, {\"Datef\": \"\\\"2019-12-10\\\"\", \"Z\": 0.313, \"USL\": 0.32, \"LSL\": 0.27999999999999997, \"Nominal\": 0.3}, {\"Datef\": \"\\\"2019-12-10\\\"\", \"Z\": 0.31, \"USL\": 0.32, \"LSL\": 0.27999999999999997, \"Nominal\": 0.3}, {\"Datef\": \"\\\"2019-12-10\\\"\", \"Z\": 0.312, \"USL\": 0.32, \"LSL\": 0.27999999999999997, \"Nominal\": 0.3}, {\"Datef\": \"\\\"2019-12-10\\\"\", \"Z\": 0.311, \"USL\": 0.32, \"LSL\": 0.27999999999999997, \"Nominal\": 0.3}, {\"Datef\": \"\\\"2019-12-26\\\"\", \"Z\": 0.313, \"USL\": 0.32, \"LSL\": 0.27999999999999997, \"Nominal\": 0.3}, {\"Datef\": \"\\\"2019-12-26\\\"\", \"Z\": 0.312, \"USL\": 0.32, \"LSL\": 0.27999999999999997, \"Nominal\": 0.3}, {\"Datef\": \"\\\"2019-12-26\\\"\", \"Z\": 0.312, \"USL\": 0.32, \"LSL\": 0.27999999999999997, \"Nominal\": 0.3}, {\"Datef\": \"\\\"2019-12-26\\\"\", \"Z\": 0.313, \"USL\": 0.32, \"LSL\": 0.27999999999999997, \"Nominal\": 0.3}, {\"Datef\": \"\\\"2019-12-26\\\"\", \"Z\": 0.312, \"USL\": 0.32, \"LSL\": 0.27999999999999997, \"Nominal\": 0.3}, {\"Datef\": \"\\\"2019-12-31\\\"\", \"Z\": 0.313, \"USL\": 0.32, \"LSL\": 0.27999999999999997, \"Nominal\": 0.3}, {\"Datef\": \"\\\"2019-12-31\\\"\", \"Z\": 0.314, \"USL\": 0.32, \"LSL\": 0.27999999999999997, \"Nominal\": 0.3}, {\"Datef\": \"\\\"2019-12-31\\\"\", \"Z\": 0.313, \"USL\": 0.32, \"LSL\": 0.27999999999999997, \"Nominal\": 0.3}, {\"Datef\": \"\\\"2019-12-31\\\"\", \"Z\": 0.312, \"USL\": 0.32, \"LSL\": 0.27999999999999997, \"Nominal\": 0.3}, {\"Datef\": \"\\\"2019-12-31\\\"\", \"Z\": 0.312, \"USL\": 0.32, \"LSL\": 0.27999999999999997, \"Nominal\": 0.3}]}}, {\"mode\": \"vega-lite\"});\n",
              "</script>"
            ]
          },
          "metadata": {
            "tags": []
          },
          "execution_count": 37
        }
      ]
    },
    {
      "cell_type": "code",
      "metadata": {
        "id": "2s9G47HPLVew",
        "colab_type": "code",
        "colab": {}
      },
      "source": [
        "box_chart_combine.save(namefile+'.html')"
      ],
      "execution_count": null,
      "outputs": []
    },
    {
      "cell_type": "code",
      "metadata": {
        "id": "flGKuIM5rLMb",
        "colab_type": "code",
        "colab": {
          "base_uri": "https://localhost:8080/",
          "height": 1000
        },
        "outputId": "c9a67231-ccec-4363-9872-d1134bb037dd"
      },
      "source": [
        "for name in DFdict.keys():\n",
        "  df_box=DFdict[name].copy() #All values for each features\n",
        "  df_box['Datef']=df_box['Datef'].dt.date\n",
        "  df_box_line=df_box.groupby('Datef').mean()#Group values for line chart\n",
        "  df_box_line.reset_index(inplace=True)\n",
        "\n",
        "  fig,ax=plt.subplots(figsize=(16,4))\n",
        "  sns.boxplot(x='Datef',y=name,data=df_box,ax=ax,color='cornflowerblue') \n",
        "  #df_box.boxplot(column='C-Pitch',by='Datef',ax=ax)#df_box: data with no group by date\n",
        "  df_box_line.plot(y='USL',kind='line',ax=ax,color='#FF5733') #df_box_line: data with group by date\n",
        "  df_box_line.plot(y='LSL',kind='line',ax=ax,color='#FF5733')\n",
        "  df_box_line.plot(y='Nominal',kind='line',ax=ax,color='#FF5733')\n",
        "\n",
        "  #plt.gca().set_xticks(df_box_line['Datef'])\n",
        "  plt.gca().set_xticklabels(df_box_line['Datef'],rotation=90)\n",
        "  plt.gca().set_title('Box plot '+name,fontsize=15)\n",
        "  plt.gca().legend(loc ='center left',bbox_to_anchor=(1.01, 0.5))\n",
        "\n",
        "  plt.xlabel('Time')\n",
        "  plt.ylabel('Values')"
      ],
      "execution_count": null,
      "outputs": [
        {
          "output_type": "display_data",
          "data": {
            "image/png": "[encoded data removed]",
            "text/plain": [
              "<Figure size 1152x288 with 1 Axes>"
            ]
          },
          "metadata": {
            "tags": []
          }
        },
        {
          "output_type": "display_data",
          "data": {
            "image/png": "[encoded data removed]",
            "text/plain": [
              "<Figure size 1152x288 with 1 Axes>"
            ]
          },
          "metadata": {
            "tags": []
          }
        },
        {
          "output_type": "display_data",
          "data": {
            "image/png": "[encoded data removed]",
            "text/plain": [
              "<Figure size 1152x288 with 1 Axes>"
            ]
          },
          "metadata": {
            "tags": []
          }
        },
        {
          "output_type": "display_data",
          "data": {
            "image/png": "[encoded data removed]",
            "text/plain": [
              "<Figure size 1152x288 with 1 Axes>"
            ]
          },
          "metadata": {
            "tags": []
          }
        },
        {
          "output_type": "display_data",
          "data": {
            "image/png": "[encoded data removed]",
            "text/plain": [
              "<Figure size 1152x288 with 1 Axes>"
            ]
          },
          "metadata": {
            "tags": []
          }
        }
      ]
    },
    {
      "cell_type": "markdown",
      "metadata": {
        "id": "L3ZfbsXtU0Wo",
        "colab_type": "text"
      },
      "source": [
        "# Forecast"
      ]
    },
    {
      "cell_type": "markdown",
      "metadata": {
        "id": "mUav2SJaYRzr",
        "colab_type": "text"
      },
      "source": [
        "## Prepare data"
      ]
    },
    {
      "cell_type": "code",
      "metadata": {
        "id": "XPXURraHyjbd",
        "colab_type": "code",
        "colab": {}
      },
      "source": [
        "from fbprophet import Prophet"
      ],
      "execution_count": null,
      "outputs": []
    },
    {
      "cell_type": "code",
      "metadata": {
        "id": "OfK4GnYBse84",
        "colab_type": "code",
        "colab": {}
      },
      "source": [
        "#for name in DFdict_final.keys(): #also group\n",
        "#  df=DFdict_final[name].copy()"
      ],
      "execution_count": null,
      "outputs": []
    },
    {
      "cell_type": "code",
      "metadata": {
        "id": "uTwpaNciVkc4",
        "colab_type": "code",
        "colab": {
          "base_uri": "https://localhost:8080/",
          "height": 204
        },
        "outputId": "7bae7848-2f58-47a9-b511-d1c72977f6cb"
      },
      "source": [
        "DFdict_final['C-Pitch'].head()"
      ],
      "execution_count": null,
      "outputs": [
        {
          "output_type": "execute_result",
          "data": {
            "text/html": [
              "<div>\n",
              "<style scoped>\n",
              "    .dataframe tbody tr th:only-of-type {\n",
              "        vertical-align: middle;\n",
              "    }\n",
              "\n",
              "    .dataframe tbody tr th {\n",
              "        vertical-align: top;\n",
              "    }\n",
              "\n",
              "    .dataframe thead th {\n",
              "        text-align: right;\n",
              "    }\n",
              "</style>\n",
              "<table border=\"1\" class=\"dataframe\">\n",
              "  <thead>\n",
              "    <tr style=\"text-align: right;\">\n",
              "      <th></th>\n",
              "      <th>Datef</th>\n",
              "      <th>C-Pitch</th>\n",
              "      <th>USL</th>\n",
              "      <th>LSL</th>\n",
              "      <th>Nominal</th>\n",
              "      <th>UCL</th>\n",
              "      <th>LCL</th>\n",
              "      <th>mean</th>\n",
              "    </tr>\n",
              "  </thead>\n",
              "  <tbody>\n",
              "    <tr>\n",
              "      <th>0</th>\n",
              "      <td>2019-01-11</td>\n",
              "      <td>10.004</td>\n",
              "      <td>10.01</td>\n",
              "      <td>9.99</td>\n",
              "      <td>10.0</td>\n",
              "      <td>10.006001</td>\n",
              "      <td>9.997142</td>\n",
              "      <td>10.001571</td>\n",
              "    </tr>\n",
              "    <tr>\n",
              "      <th>1</th>\n",
              "      <td>2019-01-22</td>\n",
              "      <td>10.001</td>\n",
              "      <td>10.01</td>\n",
              "      <td>9.99</td>\n",
              "      <td>10.0</td>\n",
              "      <td>10.006001</td>\n",
              "      <td>9.997142</td>\n",
              "      <td>10.001571</td>\n",
              "    </tr>\n",
              "    <tr>\n",
              "      <th>2</th>\n",
              "      <td>2019-01-26</td>\n",
              "      <td>10.002</td>\n",
              "      <td>10.01</td>\n",
              "      <td>9.99</td>\n",
              "      <td>10.0</td>\n",
              "      <td>10.006001</td>\n",
              "      <td>9.997142</td>\n",
              "      <td>10.001571</td>\n",
              "    </tr>\n",
              "    <tr>\n",
              "      <th>3</th>\n",
              "      <td>2019-01-31</td>\n",
              "      <td>10.003</td>\n",
              "      <td>10.01</td>\n",
              "      <td>9.99</td>\n",
              "      <td>10.0</td>\n",
              "      <td>10.006001</td>\n",
              "      <td>9.997142</td>\n",
              "      <td>10.001571</td>\n",
              "    </tr>\n",
              "    <tr>\n",
              "      <th>4</th>\n",
              "      <td>2019-02-11</td>\n",
              "      <td>10.003</td>\n",
              "      <td>10.01</td>\n",
              "      <td>9.99</td>\n",
              "      <td>10.0</td>\n",
              "      <td>10.006001</td>\n",
              "      <td>9.997142</td>\n",
              "      <td>10.001571</td>\n",
              "    </tr>\n",
              "  </tbody>\n",
              "</table>\n",
              "</div>"
            ],
            "text/plain": [
              "       Datef  C-Pitch    USL   LSL  Nominal        UCL       LCL       mean\n",
              "0 2019-01-11   10.004  10.01  9.99     10.0  10.006001  9.997142  10.001571\n",
              "1 2019-01-22   10.001  10.01  9.99     10.0  10.006001  9.997142  10.001571\n",
              "2 2019-01-26   10.002  10.01  9.99     10.0  10.006001  9.997142  10.001571\n",
              "3 2019-01-31   10.003  10.01  9.99     10.0  10.006001  9.997142  10.001571\n",
              "4 2019-02-11   10.003  10.01  9.99     10.0  10.006001  9.997142  10.001571"
            ]
          },
          "metadata": {
            "tags": []
          },
          "execution_count": 58
        }
      ]
    },
    {
      "cell_type": "code",
      "metadata": {
        "id": "-ZCUxyUvVZyR",
        "colab_type": "code",
        "colab": {
          "base_uri": "https://localhost:8080/",
          "height": 204
        },
        "outputId": "d69309ba-8b78-4125-adf2-d7493415fb16"
      },
      "source": [
        "df=DFdict_final['C-Pitch'][['Datef','C-Pitch']]\n",
        "df.head()"
      ],
      "execution_count": null,
      "outputs": [
        {
          "output_type": "execute_result",
          "data": {
            "text/html": [
              "<div>\n",
              "<style scoped>\n",
              "    .dataframe tbody tr th:only-of-type {\n",
              "        vertical-align: middle;\n",
              "    }\n",
              "\n",
              "    .dataframe tbody tr th {\n",
              "        vertical-align: top;\n",
              "    }\n",
              "\n",
              "    .dataframe thead th {\n",
              "        text-align: right;\n",
              "    }\n",
              "</style>\n",
              "<table border=\"1\" class=\"dataframe\">\n",
              "  <thead>\n",
              "    <tr style=\"text-align: right;\">\n",
              "      <th></th>\n",
              "      <th>Datef</th>\n",
              "      <th>C-Pitch</th>\n",
              "    </tr>\n",
              "  </thead>\n",
              "  <tbody>\n",
              "    <tr>\n",
              "      <th>0</th>\n",
              "      <td>2019-01-11</td>\n",
              "      <td>10.004</td>\n",
              "    </tr>\n",
              "    <tr>\n",
              "      <th>1</th>\n",
              "      <td>2019-01-22</td>\n",
              "      <td>10.001</td>\n",
              "    </tr>\n",
              "    <tr>\n",
              "      <th>2</th>\n",
              "      <td>2019-01-26</td>\n",
              "      <td>10.002</td>\n",
              "    </tr>\n",
              "    <tr>\n",
              "      <th>3</th>\n",
              "      <td>2019-01-31</td>\n",
              "      <td>10.003</td>\n",
              "    </tr>\n",
              "    <tr>\n",
              "      <th>4</th>\n",
              "      <td>2019-02-11</td>\n",
              "      <td>10.003</td>\n",
              "    </tr>\n",
              "  </tbody>\n",
              "</table>\n",
              "</div>"
            ],
            "text/plain": [
              "       Datef  C-Pitch\n",
              "0 2019-01-11   10.004\n",
              "1 2019-01-22   10.001\n",
              "2 2019-01-26   10.002\n",
              "3 2019-01-31   10.003\n",
              "4 2019-02-11   10.003"
            ]
          },
          "metadata": {
            "tags": []
          },
          "execution_count": 59
        }
      ]
    },
    {
      "cell_type": "markdown",
      "metadata": {
        "id": "IiSQFcbgYQtp",
        "colab_type": "text"
      },
      "source": [
        "## FBprophet"
      ]
    },
    {
      "cell_type": "code",
      "metadata": {
        "id": "AO8UvSj40MRU",
        "colab_type": "code",
        "colab": {
          "base_uri": "https://localhost:8080/",
          "height": 450
        },
        "outputId": "66c1635d-f9c4-44ab-f9d6-be0ed7ed7fed"
      },
      "source": [
        "df_fb=df.set_index('Datef').resample('1D').ffill()\n",
        "df_fb"
      ],
      "execution_count": null,
      "outputs": [
        {
          "output_type": "execute_result",
          "data": {
            "text/html": [
              "<div>\n",
              "<style scoped>\n",
              "    .dataframe tbody tr th:only-of-type {\n",
              "        vertical-align: middle;\n",
              "    }\n",
              "\n",
              "    .dataframe tbody tr th {\n",
              "        vertical-align: top;\n",
              "    }\n",
              "\n",
              "    .dataframe thead th {\n",
              "        text-align: right;\n",
              "    }\n",
              "</style>\n",
              "<table border=\"1\" class=\"dataframe\">\n",
              "  <thead>\n",
              "    <tr style=\"text-align: right;\">\n",
              "      <th></th>\n",
              "      <th>C-Pitch</th>\n",
              "    </tr>\n",
              "    <tr>\n",
              "      <th>Datef</th>\n",
              "      <th></th>\n",
              "    </tr>\n",
              "  </thead>\n",
              "  <tbody>\n",
              "    <tr>\n",
              "      <th>2019-01-11</th>\n",
              "      <td>10.004</td>\n",
              "    </tr>\n",
              "    <tr>\n",
              "      <th>2019-01-12</th>\n",
              "      <td>10.004</td>\n",
              "    </tr>\n",
              "    <tr>\n",
              "      <th>2019-01-13</th>\n",
              "      <td>10.004</td>\n",
              "    </tr>\n",
              "    <tr>\n",
              "      <th>2019-01-14</th>\n",
              "      <td>10.004</td>\n",
              "    </tr>\n",
              "    <tr>\n",
              "      <th>2019-01-15</th>\n",
              "      <td>10.004</td>\n",
              "    </tr>\n",
              "    <tr>\n",
              "      <th>...</th>\n",
              "      <td>...</td>\n",
              "    </tr>\n",
              "    <tr>\n",
              "      <th>2019-12-27</th>\n",
              "      <td>10.003</td>\n",
              "    </tr>\n",
              "    <tr>\n",
              "      <th>2019-12-28</th>\n",
              "      <td>10.003</td>\n",
              "    </tr>\n",
              "    <tr>\n",
              "      <th>2019-12-29</th>\n",
              "      <td>10.003</td>\n",
              "    </tr>\n",
              "    <tr>\n",
              "      <th>2019-12-30</th>\n",
              "      <td>10.003</td>\n",
              "    </tr>\n",
              "    <tr>\n",
              "      <th>2019-12-31</th>\n",
              "      <td>9.999</td>\n",
              "    </tr>\n",
              "  </tbody>\n",
              "</table>\n",
              "<p>355 rows × 1 columns</p>\n",
              "</div>"
            ],
            "text/plain": [
              "            C-Pitch\n",
              "Datef              \n",
              "2019-01-11   10.004\n",
              "2019-01-12   10.004\n",
              "2019-01-13   10.004\n",
              "2019-01-14   10.004\n",
              "2019-01-15   10.004\n",
              "...             ...\n",
              "2019-12-27   10.003\n",
              "2019-12-28   10.003\n",
              "2019-12-29   10.003\n",
              "2019-12-30   10.003\n",
              "2019-12-31    9.999\n",
              "\n",
              "[355 rows x 1 columns]"
            ]
          },
          "metadata": {
            "tags": []
          },
          "execution_count": 60
        }
      ]
    },
    {
      "cell_type": "code",
      "metadata": {
        "id": "jghql06509cj",
        "colab_type": "code",
        "colab": {}
      },
      "source": [
        "df_fb=df.reset_index(drop=True)"
      ],
      "execution_count": null,
      "outputs": []
    },
    {
      "cell_type": "code",
      "metadata": {
        "id": "eLLTPs2Z038a",
        "colab_type": "code",
        "colab": {
          "base_uri": "https://localhost:8080/",
          "height": 204
        },
        "outputId": "41ec2ed9-50a1-40e7-8f90-fd4760ca32a5"
      },
      "source": [
        "df_fb.columns=['ds','y']\n",
        "df_fb.head()"
      ],
      "execution_count": null,
      "outputs": [
        {
          "output_type": "execute_result",
          "data": {
            "text/html": [
              "<div>\n",
              "<style scoped>\n",
              "    .dataframe tbody tr th:only-of-type {\n",
              "        vertical-align: middle;\n",
              "    }\n",
              "\n",
              "    .dataframe tbody tr th {\n",
              "        vertical-align: top;\n",
              "    }\n",
              "\n",
              "    .dataframe thead th {\n",
              "        text-align: right;\n",
              "    }\n",
              "</style>\n",
              "<table border=\"1\" class=\"dataframe\">\n",
              "  <thead>\n",
              "    <tr style=\"text-align: right;\">\n",
              "      <th></th>\n",
              "      <th>ds</th>\n",
              "      <th>y</th>\n",
              "    </tr>\n",
              "  </thead>\n",
              "  <tbody>\n",
              "    <tr>\n",
              "      <th>0</th>\n",
              "      <td>2019-01-11</td>\n",
              "      <td>10.004</td>\n",
              "    </tr>\n",
              "    <tr>\n",
              "      <th>1</th>\n",
              "      <td>2019-01-22</td>\n",
              "      <td>10.001</td>\n",
              "    </tr>\n",
              "    <tr>\n",
              "      <th>2</th>\n",
              "      <td>2019-01-26</td>\n",
              "      <td>10.002</td>\n",
              "    </tr>\n",
              "    <tr>\n",
              "      <th>3</th>\n",
              "      <td>2019-01-31</td>\n",
              "      <td>10.003</td>\n",
              "    </tr>\n",
              "    <tr>\n",
              "      <th>4</th>\n",
              "      <td>2019-02-11</td>\n",
              "      <td>10.003</td>\n",
              "    </tr>\n",
              "  </tbody>\n",
              "</table>\n",
              "</div>"
            ],
            "text/plain": [
              "          ds       y\n",
              "0 2019-01-11  10.004\n",
              "1 2019-01-22  10.001\n",
              "2 2019-01-26  10.002\n",
              "3 2019-01-31  10.003\n",
              "4 2019-02-11  10.003"
            ]
          },
          "metadata": {
            "tags": []
          },
          "execution_count": 62
        }
      ]
    },
    {
      "cell_type": "code",
      "metadata": {
        "id": "2oDvFELkyX5J",
        "colab_type": "code",
        "colab": {
          "base_uri": "https://localhost:8080/",
          "height": 88
        },
        "outputId": "c60cd17d-46f9-4954-a7d8-ac0771a87ad6"
      },
      "source": [
        "model = Prophet( #yearly_seasonality=True\n",
        "                ) #instantiate Prophet with only yearly seasonality as our data is monthly \n",
        "model.fit(df_fb) #fit the model with your dataframe"
      ],
      "execution_count": null,
      "outputs": [
        {
          "output_type": "stream",
          "text": [
            "INFO:fbprophet:Disabling yearly seasonality. Run prophet with yearly_seasonality=True to override this.\n",
            "INFO:fbprophet:Disabling daily seasonality. Run prophet with daily_seasonality=True to override this.\n"
          ],
          "name": "stderr"
        },
        {
          "output_type": "execute_result",
          "data": {
            "text/plain": [
              "<fbprophet.forecaster.Prophet at 0x7f86402ece48>"
            ]
          },
          "metadata": {
            "tags": []
          },
          "execution_count": 51
        }
      ]
    },
    {
      "cell_type": "code",
      "metadata": {
        "id": "kEwWnBPlyofH",
        "colab_type": "code",
        "colab": {
          "base_uri": "https://localhost:8080/",
          "height": 204
        },
        "outputId": "6ed82a0b-91ec-4bf1-c8bb-f91e936f9009"
      },
      "source": [
        "# predict for five months in the furure and MS - month start is the frequency\n",
        "future = model.make_future_dataframe(periods = 5, freq = 'MS')  \n",
        "# now lets make the forecasts\n",
        "forecast = model.predict(future)\n",
        "forecast[['ds', 'yhat', 'yhat_lower', 'yhat_upper']].tail()"
      ],
      "execution_count": null,
      "outputs": [
        {
          "output_type": "execute_result",
          "data": {
            "text/html": [
              "<div>\n",
              "<style scoped>\n",
              "    .dataframe tbody tr th:only-of-type {\n",
              "        vertical-align: middle;\n",
              "    }\n",
              "\n",
              "    .dataframe tbody tr th {\n",
              "        vertical-align: top;\n",
              "    }\n",
              "\n",
              "    .dataframe thead th {\n",
              "        text-align: right;\n",
              "    }\n",
              "</style>\n",
              "<table border=\"1\" class=\"dataframe\">\n",
              "  <thead>\n",
              "    <tr style=\"text-align: right;\">\n",
              "      <th></th>\n",
              "      <th>ds</th>\n",
              "      <th>yhat</th>\n",
              "      <th>yhat_lower</th>\n",
              "      <th>yhat_upper</th>\n",
              "    </tr>\n",
              "  </thead>\n",
              "  <tbody>\n",
              "    <tr>\n",
              "      <th>355</th>\n",
              "      <td>2020-01-01</td>\n",
              "      <td>10.003190</td>\n",
              "      <td>10.002074</td>\n",
              "      <td>10.004377</td>\n",
              "    </tr>\n",
              "    <tr>\n",
              "      <th>356</th>\n",
              "      <td>2020-02-01</td>\n",
              "      <td>10.004531</td>\n",
              "      <td>9.996700</td>\n",
              "      <td>10.013030</td>\n",
              "    </tr>\n",
              "    <tr>\n",
              "      <th>357</th>\n",
              "      <td>2020-03-01</td>\n",
              "      <td>10.005857</td>\n",
              "      <td>9.987118</td>\n",
              "      <td>10.028888</td>\n",
              "    </tr>\n",
              "    <tr>\n",
              "      <th>358</th>\n",
              "      <td>2020-04-01</td>\n",
              "      <td>10.007301</td>\n",
              "      <td>9.971736</td>\n",
              "      <td>10.050930</td>\n",
              "    </tr>\n",
              "    <tr>\n",
              "      <th>359</th>\n",
              "      <td>2020-05-01</td>\n",
              "      <td>10.008573</td>\n",
              "      <td>9.952356</td>\n",
              "      <td>10.072796</td>\n",
              "    </tr>\n",
              "  </tbody>\n",
              "</table>\n",
              "</div>"
            ],
            "text/plain": [
              "            ds       yhat  yhat_lower  yhat_upper\n",
              "355 2020-01-01  10.003190   10.002074   10.004377\n",
              "356 2020-02-01  10.004531    9.996700   10.013030\n",
              "357 2020-03-01  10.005857    9.987118   10.028888\n",
              "358 2020-04-01  10.007301    9.971736   10.050930\n",
              "359 2020-05-01  10.008573    9.952356   10.072796"
            ]
          },
          "metadata": {
            "tags": []
          },
          "execution_count": 52
        }
      ]
    },
    {
      "cell_type": "code",
      "metadata": {
        "id": "yAM242ZzyuW2",
        "colab_type": "code",
        "colab": {
          "base_uri": "https://localhost:8080/",
          "height": 437
        },
        "outputId": "9a2ab20e-9984-407a-e795-152d8ac6c8b1"
      },
      "source": [
        "model.plot(forecast)\n",
        "plt.show()"
      ],
      "execution_count": null,
      "outputs": [
        {
          "output_type": "display_data",
          "data": {
            "image/png": "[encoded data removed]",
            "text/plain": [
              "<Figure size 720x432 with 1 Axes>"
            ]
          },
          "metadata": {
            "tags": []
          }
        }
      ]
    },
    {
      "cell_type": "code",
      "metadata": {
        "id": "JomqjG5Ry0Yv",
        "colab_type": "code",
        "colab": {
          "base_uri": "https://localhost:8080/",
          "height": 637
        },
        "outputId": "8832c0ac-228d-4f38-82ea-b9e582d8e7bd"
      },
      "source": [
        "# Python\n",
        "from fbprophet.plot import plot_plotly\n",
        "import plotly.offline as py\n",
        "#py.init_notebook_mode()\n",
        "\n",
        "fig = plot_plotly(model, forecast)  # This returns a plotly Figure\n",
        "py.iplot(fig)\n",
        "#iplot(fig)"
      ],
      "execution_count": null,
      "outputs": [
        {
          "output_type": "display_data",
          "data": {
            "text/html": [
              "<html>\n",
              "<head><meta charset=\"utf-8\" /></head>\n",
              "<body>\n",
              "    <div>\n",
              "            <script src=\"https://cdnjs.cloudflare.com/ajax/libs/mathjax/2.7.5/MathJax.js?config=TeX-AMS-MML_SVG\"></script><script type=\"text/javascript\">if (window.MathJax) {MathJax.Hub.Config({SVG: {font: \"STIX-Web\"}});}</script>\n",
              "                <script type=\"text/javascript\">window.PlotlyConfig = {MathJaxConfig: 'local'};</script>\n",
              "        <script src=\"https://cdn.plot.ly/plotly-latest.min.js\"></script>    \n",
              "            <div id=\"48cdb442-866c-41e6-ac31-3e8c0aae14f2\" class=\"plotly-graph-div\" style=\"height:600px; width:900px;\"></div>\n",
              "            <script type=\"text/javascript\">\n",
              "                \n",
              "                    window.PLOTLYENV=window.PLOTLYENV || {};\n",
              "                    \n",
              "                if (document.getElementById(\"48cdb442-866c-41e6-ac31-3e8c0aae14f2\")) {\n",
              "                    Plotly.newPlot(\n",
              "                        '48cdb442-866c-41e6-ac31-3e8c0aae14f2',\n",
              "                        [{\"marker\": {\"color\": \"black\", \"size\": 4}, \"mode\": \"markers\", \"name\": \"Actual\", \"type\": \"scatter\", \"x\": [\"2019-01-11T00:00:00\", \"2019-01-12T00:00:00\", \"2019-01-13T00:00:00\", \"2019-01-14T00:00:00\", \"2019-01-15T00:00:00\", \"2019-01-16T00:00:00\", \"2019-01-17T00:00:00\", \"2019-01-18T00:00:00\", \"2019-01-19T00:00:00\", \"2019-01-20T00:00:00\", \"2019-01-21T00:00:00\", \"2019-01-22T00:00:00\", \"2019-01-23T00:00:00\", \"2019-01-24T00:00:00\", \"2019-01-25T00:00:00\", \"2019-01-26T00:00:00\", \"2019-01-27T00:00:00\", \"2019-01-28T00:00:00\", \"2019-01-29T00:00:00\", \"2019-01-30T00:00:00\", \"2019-01-31T00:00:00\", \"2019-02-01T00:00:00\", \"2019-02-02T00:00:00\", \"2019-02-03T00:00:00\", \"2019-02-04T00:00:00\", \"2019-02-05T00:00:00\", \"2019-02-06T00:00:00\", \"2019-02-07T00:00:00\", \"2019-02-08T00:00:00\", \"2019-02-09T00:00:00\", \"2019-02-10T00:00:00\", \"2019-02-11T00:00:00\", \"2019-02-12T00:00:00\", \"2019-02-13T00:00:00\", \"2019-02-14T00:00:00\", \"2019-02-15T00:00:00\", \"2019-02-16T00:00:00\", \"2019-02-17T00:00:00\", \"2019-02-18T00:00:00\", \"2019-02-19T00:00:00\", \"2019-02-20T00:00:00\", \"2019-02-21T00:00:00\", \"2019-02-22T00:00:00\", \"2019-02-23T00:00:00\", \"2019-02-24T00:00:00\", \"2019-02-25T00:00:00\", \"2019-02-26T00:00:00\", \"2019-02-27T00:00:00\", \"2019-02-28T00:00:00\", \"2019-03-01T00:00:00\", \"2019-03-02T00:00:00\", \"2019-03-03T00:00:00\", \"2019-03-04T00:00:00\", \"2019-03-05T00:00:00\", \"2019-03-06T00:00:00\", \"2019-03-07T00:00:00\", \"2019-03-08T00:00:00\", \"2019-03-09T00:00:00\", \"2019-03-10T00:00:00\", \"2019-03-11T00:00:00\", \"2019-03-12T00:00:00\", \"2019-03-13T00:00:00\", \"2019-03-14T00:00:00\", \"2019-03-15T00:00:00\", \"2019-03-16T00:00:00\", \"2019-03-17T00:00:00\", \"2019-03-18T00:00:00\", \"2019-03-19T00:00:00\", \"2019-03-20T00:00:00\", \"2019-03-21T00:00:00\", \"2019-03-22T00:00:00\", \"2019-03-23T00:00:00\", \"2019-03-24T00:00:00\", \"2019-03-25T00:00:00\", \"2019-03-26T00:00:00\", \"2019-03-27T00:00:00\", \"2019-03-28T00:00:00\", \"2019-03-29T00:00:00\", \"2019-03-30T00:00:00\", \"2019-03-31T00:00:00\", \"2019-04-01T00:00:00\", \"2019-04-02T00:00:00\", \"2019-04-03T00:00:00\", \"2019-04-04T00:00:00\", \"2019-04-05T00:00:00\", \"2019-04-06T00:00:00\", \"2019-04-07T00:00:00\", \"2019-04-08T00:00:00\", \"2019-04-09T00:00:00\", \"2019-04-10T00:00:00\", \"2019-04-11T00:00:00\", \"2019-04-12T00:00:00\", \"2019-04-13T00:00:00\", \"2019-04-14T00:00:00\", \"2019-04-15T00:00:00\", \"2019-04-16T00:00:00\", \"2019-04-17T00:00:00\", \"2019-04-18T00:00:00\", \"2019-04-19T00:00:00\", \"2019-04-20T00:00:00\", \"2019-04-21T00:00:00\", \"2019-04-22T00:00:00\", \"2019-04-23T00:00:00\", \"2019-04-24T00:00:00\", \"2019-04-25T00:00:00\", \"2019-04-26T00:00:00\", \"2019-04-27T00:00:00\", \"2019-04-28T00:00:00\", \"2019-04-29T00:00:00\", \"2019-04-30T00:00:00\", \"2019-05-01T00:00:00\", \"2019-05-02T00:00:00\", \"2019-05-03T00:00:00\", \"2019-05-04T00:00:00\", \"2019-05-05T00:00:00\", \"2019-05-06T00:00:00\", \"2019-05-07T00:00:00\", \"2019-05-08T00:00:00\", \"2019-05-09T00:00:00\", \"2019-05-10T00:00:00\", \"2019-05-11T00:00:00\", \"2019-05-12T00:00:00\", \"2019-05-13T00:00:00\", \"2019-05-14T00:00:00\", \"2019-05-15T00:00:00\", \"2019-05-16T00:00:00\", \"2019-05-17T00:00:00\", \"2019-05-18T00:00:00\", \"2019-05-19T00:00:00\", \"2019-05-20T00:00:00\", \"2019-05-21T00:00:00\", \"2019-05-22T00:00:00\", \"2019-05-23T00:00:00\", \"2019-05-24T00:00:00\", \"2019-05-25T00:00:00\", \"2019-05-26T00:00:00\", \"2019-05-27T00:00:00\", \"2019-05-28T00:00:00\", \"2019-05-29T00:00:00\", \"2019-05-30T00:00:00\", \"2019-05-31T00:00:00\", \"2019-06-01T00:00:00\", \"2019-06-02T00:00:00\", \"2019-06-03T00:00:00\", \"2019-06-04T00:00:00\", \"2019-06-05T00:00:00\", \"2019-06-06T00:00:00\", \"2019-06-07T00:00:00\", \"2019-06-08T00:00:00\", \"2019-06-09T00:00:00\", \"2019-06-10T00:00:00\", \"2019-06-11T00:00:00\", \"2019-06-12T00:00:00\", \"2019-06-13T00:00:00\", \"2019-06-14T00:00:00\", \"2019-06-15T00:00:00\", \"2019-06-16T00:00:00\", \"2019-06-17T00:00:00\", \"2019-06-18T00:00:00\", \"2019-06-19T00:00:00\", \"2019-06-20T00:00:00\", \"2019-06-21T00:00:00\", \"2019-06-22T00:00:00\", \"2019-06-23T00:00:00\", \"2019-06-24T00:00:00\", \"2019-06-25T00:00:00\", \"2019-06-26T00:00:00\", \"2019-06-27T00:00:00\", \"2019-06-28T00:00:00\", \"2019-06-29T00:00:00\", \"2019-06-30T00:00:00\", \"2019-07-01T00:00:00\", \"2019-07-02T00:00:00\", \"2019-07-03T00:00:00\", \"2019-07-04T00:00:00\", \"2019-07-05T00:00:00\", \"2019-07-06T00:00:00\", \"2019-07-07T00:00:00\", \"2019-07-08T00:00:00\", \"2019-07-09T00:00:00\", \"2019-07-10T00:00:00\", \"2019-07-11T00:00:00\", \"2019-07-12T00:00:00\", \"2019-07-13T00:00:00\", \"2019-07-14T00:00:00\", \"2019-07-15T00:00:00\", \"2019-07-16T00:00:00\", \"2019-07-17T00:00:00\", \"2019-07-18T00:00:00\", \"2019-07-19T00:00:00\", \"2019-07-20T00:00:00\", \"2019-07-21T00:00:00\", \"2019-07-22T00:00:00\", \"2019-07-23T00:00:00\", \"2019-07-24T00:00:00\", \"2019-07-25T00:00:00\", \"2019-07-26T00:00:00\", \"2019-07-27T00:00:00\", \"2019-07-28T00:00:00\", \"2019-07-29T00:00:00\", \"2019-07-30T00:00:00\", \"2019-07-31T00:00:00\", \"2019-08-01T00:00:00\", \"2019-08-02T00:00:00\", \"2019-08-03T00:00:00\", \"2019-08-04T00:00:00\", \"2019-08-05T00:00:00\", \"2019-08-06T00:00:00\", \"2019-08-07T00:00:00\", \"2019-08-08T00:00:00\", \"2019-08-09T00:00:00\", \"2019-08-10T00:00:00\", \"2019-08-11T00:00:00\", \"2019-08-12T00:00:00\", \"2019-08-13T00:00:00\", \"2019-08-14T00:00:00\", \"2019-08-15T00:00:00\", \"2019-08-16T00:00:00\", \"2019-08-17T00:00:00\", \"2019-08-18T00:00:00\", \"2019-08-19T00:00:00\", \"2019-08-20T00:00:00\", \"2019-08-21T00:00:00\", \"2019-08-22T00:00:00\", \"2019-08-23T00:00:00\", \"2019-08-24T00:00:00\", \"2019-08-25T00:00:00\", \"2019-08-26T00:00:00\", \"2019-08-27T00:00:00\", \"2019-08-28T00:00:00\", \"2019-08-29T00:00:00\", \"2019-08-30T00:00:00\", \"2019-08-31T00:00:00\", \"2019-09-01T00:00:00\", \"2019-09-02T00:00:00\", \"2019-09-03T00:00:00\", \"2019-09-04T00:00:00\", \"2019-09-05T00:00:00\", \"2019-09-06T00:00:00\", \"2019-09-07T00:00:00\", \"2019-09-08T00:00:00\", \"2019-09-09T00:00:00\", \"2019-09-10T00:00:00\", \"2019-09-11T00:00:00\", \"2019-09-12T00:00:00\", \"2019-09-13T00:00:00\", \"2019-09-14T00:00:00\", \"2019-09-15T00:00:00\", \"2019-09-16T00:00:00\", \"2019-09-17T00:00:00\", \"2019-09-18T00:00:00\", \"2019-09-19T00:00:00\", \"2019-09-20T00:00:00\", \"2019-09-21T00:00:00\", \"2019-09-22T00:00:00\", \"2019-09-23T00:00:00\", \"2019-09-24T00:00:00\", \"2019-09-25T00:00:00\", \"2019-09-26T00:00:00\", \"2019-09-27T00:00:00\", \"2019-09-28T00:00:00\", \"2019-09-29T00:00:00\", \"2019-09-30T00:00:00\", \"2019-10-01T00:00:00\", \"2019-10-02T00:00:00\", \"2019-10-03T00:00:00\", \"2019-10-04T00:00:00\", \"2019-10-05T00:00:00\", \"2019-10-06T00:00:00\", \"2019-10-07T00:00:00\", \"2019-10-08T00:00:00\", \"2019-10-09T00:00:00\", \"2019-10-10T00:00:00\", \"2019-10-11T00:00:00\", \"2019-10-12T00:00:00\", \"2019-10-13T00:00:00\", \"2019-10-14T00:00:00\", \"2019-10-15T00:00:00\", \"2019-10-16T00:00:00\", \"2019-10-17T00:00:00\", \"2019-10-18T00:00:00\", \"2019-10-19T00:00:00\", \"2019-10-20T00:00:00\", \"2019-10-21T00:00:00\", \"2019-10-22T00:00:00\", \"2019-10-23T00:00:00\", \"2019-10-24T00:00:00\", \"2019-10-25T00:00:00\", \"2019-10-26T00:00:00\", \"2019-10-27T00:00:00\", \"2019-10-28T00:00:00\", \"2019-10-29T00:00:00\", \"2019-10-30T00:00:00\", \"2019-10-31T00:00:00\", \"2019-11-01T00:00:00\", \"2019-11-02T00:00:00\", \"2019-11-03T00:00:00\", \"2019-11-04T00:00:00\", \"2019-11-05T00:00:00\", \"2019-11-06T00:00:00\", \"2019-11-07T00:00:00\", \"2019-11-08T00:00:00\", \"2019-11-09T00:00:00\", \"2019-11-10T00:00:00\", \"2019-11-11T00:00:00\", \"2019-11-12T00:00:00\", \"2019-11-13T00:00:00\", \"2019-11-14T00:00:00\", \"2019-11-15T00:00:00\", \"2019-11-16T00:00:00\", \"2019-11-17T00:00:00\", \"2019-11-18T00:00:00\", \"2019-11-19T00:00:00\", \"2019-11-20T00:00:00\", \"2019-11-21T00:00:00\", \"2019-11-22T00:00:00\", \"2019-11-23T00:00:00\", \"2019-11-24T00:00:00\", \"2019-11-25T00:00:00\", \"2019-11-26T00:00:00\", \"2019-11-27T00:00:00\", \"2019-11-28T00:00:00\", \"2019-11-29T00:00:00\", \"2019-11-30T00:00:00\", \"2019-12-01T00:00:00\", \"2019-12-02T00:00:00\", \"2019-12-03T00:00:00\", \"2019-12-04T00:00:00\", \"2019-12-05T00:00:00\", \"2019-12-06T00:00:00\", \"2019-12-07T00:00:00\", \"2019-12-08T00:00:00\", \"2019-12-09T00:00:00\", \"2019-12-10T00:00:00\", \"2019-12-11T00:00:00\", \"2019-12-12T00:00:00\", \"2019-12-13T00:00:00\", \"2019-12-14T00:00:00\", \"2019-12-15T00:00:00\", \"2019-12-16T00:00:00\", \"2019-12-17T00:00:00\", \"2019-12-18T00:00:00\", \"2019-12-19T00:00:00\", \"2019-12-20T00:00:00\", \"2019-12-21T00:00:00\", \"2019-12-22T00:00:00\", \"2019-12-23T00:00:00\", \"2019-12-24T00:00:00\", \"2019-12-25T00:00:00\", \"2019-12-26T00:00:00\", \"2019-12-27T00:00:00\", \"2019-12-28T00:00:00\", \"2019-12-29T00:00:00\", \"2019-12-30T00:00:00\", \"2019-12-31T00:00:00\"], \"y\": [10.004, 10.004, 10.004, 10.004, 10.004, 10.004, 10.004, 10.004, 10.004, 10.004, 10.004, 10.001, 10.001, 10.001, 10.001, 10.002, 10.002, 10.002, 10.002, 10.002, 10.003, 10.003, 10.003, 10.003, 10.003, 10.003, 10.003, 10.003, 10.003, 10.003, 10.003, 10.003, 10.003, 10.003, 10.003, 10.003, 10.003, 10.003, 10.003, 10.003, 10.003, 10.003, 10.002, 10.002, 10.002, 10.002, 10.002, 10.003, 10.003, 10.003, 10.003, 10.003, 10.003, 10.003, 10.003, 10.002, 10.002, 10.002, 10.002, 10.002, 10.002, 10.002, 10.002, 9.998, 9.998, 9.998, 9.998, 9.998, 9.998, 9.998, 9.998, 9.998, 9.998, 9.998, 9.998, 9.998, 9.998, 9.998, 9.998, 9.998, 9.998, 9.998, 9.998, 9.998, 10.002, 10.002, 10.002, 10.002, 10.002, 10.002, 10.002, 10.002, 10.002, 10.002, 10.002, 10.003, 10.003, 10.003, 10.003, 10.003, 10.003, 10.003, 10.003, 10.003, 10.003, 10.003, 10.003, 10.003, 10.003, 10.003, 10.003, 10.003, 10.003, 10.003, 10.003, 10.003, 10.003, 10.003, 10.003, 10.003, 10.003, 10.003, 10.003, 10.003, 10.003, 10.003, 10.003, 10.003, 10.003, 10.003, 10.003, 10.003, 10.003, 10.003, 10.003, 10.003, 10.004, 10.004, 10.004, 10.004, 10.004, 10.004, 10.004, 10.001, 10.001, 10.001, 10.001, 10.001, 10.001, 10.001, 10.0, 10.0, 10.0, 10.0, 10.0, 10.0, 10.0, 10.002, 10.002, 10.002, 10.002, 10.002, 10.002, 10.002, 10.002, 10.001, 10.001, 10.001, 10.002, 10.002, 10.002, 10.002, 10.002, 10.002, 10.002, 10.002, 10.002, 10.002, 10.002, 10.002, 10.002, 10.002, 10.002, 10.002, 10.002, 10.002, 10.002, 10.002, 10.002, 10.002, 10.002, 10.002, 10.002, 10.002, 10.002, 10.002, 10.002, 10.002, 10.002, 10.002, 10.002, 10.002, 10.002, 10.002, 10.002, 10.002, 10.002, 10.002, 10.001, 10.001, 10.001, 10.001, 10.001, 10.001, 10.001, 10.001, 10.001, 10.001, 10.001, 10.001, 10.0, 10.0, 10.0, 10.0, 10.0, 10.0, 10.0, 10.001, 10.001, 10.001, 10.001, 10.001, 10.001, 10.001, 10.001, 10.001, 10.001, 10.002, 10.002, 10.002, 10.002, 10.002, 10.002, 10.002, 10.002, 10.002, 10.002, 10.002, 10.002, 10.002, 10.002, 10.002, 10.002, 10.002, 10.002, 10.002, 10.002, 10.002, 10.002, 10.002, 10.002, 10.002, 10.002, 10.002, 10.002, 10.002, 10.002, 10.002, 10.002, 10.002, 10.002, 10.002, 10.002, 10.002, 10.002, 10.002, 10.002, 10.002, 10.002, 10.0, 10.0, 10.0, 10.0, 10.0, 10.0, 10.0, 10.0, 10.0, 10.0, 10.0, 10.0, 10.0, 10.0, 10.0, 10.0, 10.0, 10.0, 10.0, 10.0, 10.0, 10.0, 10.0, 10.0, 10.0, 10.0, 10.0, 10.002, 10.002, 10.002, 10.002, 10.002, 10.002, 10.002, 10.002, 10.002, 10.002, 10.002, 10.002, 10.002, 10.002, 10.002, 10.002, 10.002, 10.002, 10.002, 10.002, 10.002, 10.002, 10.0, 10.0, 10.0, 10.0, 10.0, 10.003, 10.003, 10.003, 10.003, 10.003, 10.003, 10.003, 10.003, 10.003, 10.003, 10.003, 10.003, 10.003, 10.003, 10.003, 10.003, 10.003, 10.003, 10.003, 10.003, 10.003, 9.999]}, {\"hoverinfo\": \"skip\", \"line\": {\"width\": 0}, \"mode\": \"lines\", \"type\": \"scatter\", \"x\": [\"2019-01-11T00:00:00\", \"2019-01-12T00:00:00\", \"2019-01-13T00:00:00\", \"2019-01-14T00:00:00\", \"2019-01-15T00:00:00\", \"2019-01-16T00:00:00\", \"2019-01-17T00:00:00\", \"2019-01-18T00:00:00\", \"2019-01-19T00:00:00\", \"2019-01-20T00:00:00\", \"2019-01-21T00:00:00\", \"2019-01-22T00:00:00\", \"2019-01-23T00:00:00\", \"2019-01-24T00:00:00\", \"2019-01-25T00:00:00\", \"2019-01-26T00:00:00\", \"2019-01-27T00:00:00\", \"2019-01-28T00:00:00\", \"2019-01-29T00:00:00\", \"2019-01-30T00:00:00\", \"2019-01-31T00:00:00\", \"2019-02-01T00:00:00\", \"2019-02-02T00:00:00\", \"2019-02-03T00:00:00\", \"2019-02-04T00:00:00\", \"2019-02-05T00:00:00\", \"2019-02-06T00:00:00\", \"2019-02-07T00:00:00\", \"2019-02-08T00:00:00\", \"2019-02-09T00:00:00\", \"2019-02-10T00:00:00\", \"2019-02-11T00:00:00\", \"2019-02-12T00:00:00\", \"2019-02-13T00:00:00\", \"2019-02-14T00:00:00\", \"2019-02-15T00:00:00\", \"2019-02-16T00:00:00\", \"2019-02-17T00:00:00\", \"2019-02-18T00:00:00\", \"2019-02-19T00:00:00\", \"2019-02-20T00:00:00\", \"2019-02-21T00:00:00\", \"2019-02-22T00:00:00\", \"2019-02-23T00:00:00\", \"2019-02-24T00:00:00\", \"2019-02-25T00:00:00\", \"2019-02-26T00:00:00\", \"2019-02-27T00:00:00\", \"2019-02-28T00:00:00\", \"2019-03-01T00:00:00\", \"2019-03-02T00:00:00\", \"2019-03-03T00:00:00\", \"2019-03-04T00:00:00\", \"2019-03-05T00:00:00\", \"2019-03-06T00:00:00\", \"2019-03-07T00:00:00\", \"2019-03-08T00:00:00\", \"2019-03-09T00:00:00\", \"2019-03-10T00:00:00\", \"2019-03-11T00:00:00\", \"2019-03-12T00:00:00\", \"2019-03-13T00:00:00\", \"2019-03-14T00:00:00\", \"2019-03-15T00:00:00\", \"2019-03-16T00:00:00\", \"2019-03-17T00:00:00\", \"2019-03-18T00:00:00\", \"2019-03-19T00:00:00\", \"2019-03-20T00:00:00\", \"2019-03-21T00:00:00\", \"2019-03-22T00:00:00\", \"2019-03-23T00:00:00\", \"2019-03-24T00:00:00\", \"2019-03-25T00:00:00\", \"2019-03-26T00:00:00\", \"2019-03-27T00:00:00\", \"2019-03-28T00:00:00\", \"2019-03-29T00:00:00\", \"2019-03-30T00:00:00\", \"2019-03-31T00:00:00\", \"2019-04-01T00:00:00\", \"2019-04-02T00:00:00\", \"2019-04-03T00:00:00\", \"2019-04-04T00:00:00\", \"2019-04-05T00:00:00\", \"2019-04-06T00:00:00\", \"2019-04-07T00:00:00\", \"2019-04-08T00:00:00\", \"2019-04-09T00:00:00\", \"2019-04-10T00:00:00\", \"2019-04-11T00:00:00\", \"2019-04-12T00:00:00\", \"2019-04-13T00:00:00\", \"2019-04-14T00:00:00\", \"2019-04-15T00:00:00\", \"2019-04-16T00:00:00\", \"2019-04-17T00:00:00\", \"2019-04-18T00:00:00\", \"2019-04-19T00:00:00\", \"2019-04-20T00:00:00\", \"2019-04-21T00:00:00\", \"2019-04-22T00:00:00\", \"2019-04-23T00:00:00\", \"2019-04-24T00:00:00\", \"2019-04-25T00:00:00\", \"2019-04-26T00:00:00\", \"2019-04-27T00:00:00\", \"2019-04-28T00:00:00\", \"2019-04-29T00:00:00\", \"2019-04-30T00:00:00\", \"2019-05-01T00:00:00\", \"2019-05-02T00:00:00\", \"2019-05-03T00:00:00\", \"2019-05-04T00:00:00\", \"2019-05-05T00:00:00\", \"2019-05-06T00:00:00\", \"2019-05-07T00:00:00\", \"2019-05-08T00:00:00\", \"2019-05-09T00:00:00\", \"2019-05-10T00:00:00\", \"2019-05-11T00:00:00\", \"2019-05-12T00:00:00\", \"2019-05-13T00:00:00\", \"2019-05-14T00:00:00\", \"2019-05-15T00:00:00\", \"2019-05-16T00:00:00\", \"2019-05-17T00:00:00\", \"2019-05-18T00:00:00\", \"2019-05-19T00:00:00\", \"2019-05-20T00:00:00\", \"2019-05-21T00:00:00\", \"2019-05-22T00:00:00\", \"2019-05-23T00:00:00\", \"2019-05-24T00:00:00\", \"2019-05-25T00:00:00\", \"2019-05-26T00:00:00\", \"2019-05-27T00:00:00\", \"2019-05-28T00:00:00\", \"2019-05-29T00:00:00\", \"2019-05-30T00:00:00\", \"2019-05-31T00:00:00\", \"2019-06-01T00:00:00\", \"2019-06-02T00:00:00\", \"2019-06-03T00:00:00\", \"2019-06-04T00:00:00\", \"2019-06-05T00:00:00\", \"2019-06-06T00:00:00\", \"2019-06-07T00:00:00\", \"2019-06-08T00:00:00\", \"2019-06-09T00:00:00\", \"2019-06-10T00:00:00\", \"2019-06-11T00:00:00\", \"2019-06-12T00:00:00\", \"2019-06-13T00:00:00\", \"2019-06-14T00:00:00\", \"2019-06-15T00:00:00\", \"2019-06-16T00:00:00\", \"2019-06-17T00:00:00\", \"2019-06-18T00:00:00\", \"2019-06-19T00:00:00\", \"2019-06-20T00:00:00\", \"2019-06-21T00:00:00\", \"2019-06-22T00:00:00\", \"2019-06-23T00:00:00\", \"2019-06-24T00:00:00\", \"2019-06-25T00:00:00\", \"2019-06-26T00:00:00\", \"2019-06-27T00:00:00\", \"2019-06-28T00:00:00\", \"2019-06-29T00:00:00\", \"2019-06-30T00:00:00\", \"2019-07-01T00:00:00\", \"2019-07-02T00:00:00\", \"2019-07-03T00:00:00\", \"2019-07-04T00:00:00\", \"2019-07-05T00:00:00\", \"2019-07-06T00:00:00\", \"2019-07-07T00:00:00\", \"2019-07-08T00:00:00\", \"2019-07-09T00:00:00\", \"2019-07-10T00:00:00\", \"2019-07-11T00:00:00\", \"2019-07-12T00:00:00\", \"2019-07-13T00:00:00\", \"2019-07-14T00:00:00\", \"2019-07-15T00:00:00\", \"2019-07-16T00:00:00\", \"2019-07-17T00:00:00\", \"2019-07-18T00:00:00\", \"2019-07-19T00:00:00\", \"2019-07-20T00:00:00\", \"2019-07-21T00:00:00\", \"2019-07-22T00:00:00\", \"2019-07-23T00:00:00\", \"2019-07-24T00:00:00\", \"2019-07-25T00:00:00\", \"2019-07-26T00:00:00\", \"2019-07-27T00:00:00\", \"2019-07-28T00:00:00\", \"2019-07-29T00:00:00\", \"2019-07-30T00:00:00\", \"2019-07-31T00:00:00\", \"2019-08-01T00:00:00\", \"2019-08-02T00:00:00\", \"2019-08-03T00:00:00\", \"2019-08-04T00:00:00\", \"2019-08-05T00:00:00\", \"2019-08-06T00:00:00\", \"2019-08-07T00:00:00\", \"2019-08-08T00:00:00\", \"2019-08-09T00:00:00\", \"2019-08-10T00:00:00\", \"2019-08-11T00:00:00\", \"2019-08-12T00:00:00\", \"2019-08-13T00:00:00\", \"2019-08-14T00:00:00\", \"2019-08-15T00:00:00\", \"2019-08-16T00:00:00\", \"2019-08-17T00:00:00\", \"2019-08-18T00:00:00\", \"2019-08-19T00:00:00\", \"2019-08-20T00:00:00\", \"2019-08-21T00:00:00\", \"2019-08-22T00:00:00\", \"2019-08-23T00:00:00\", \"2019-08-24T00:00:00\", \"2019-08-25T00:00:00\", \"2019-08-26T00:00:00\", \"2019-08-27T00:00:00\", \"2019-08-28T00:00:00\", \"2019-08-29T00:00:00\", \"2019-08-30T00:00:00\", \"2019-08-31T00:00:00\", \"2019-09-01T00:00:00\", \"2019-09-02T00:00:00\", \"2019-09-03T00:00:00\", \"2019-09-04T00:00:00\", \"2019-09-05T00:00:00\", \"2019-09-06T00:00:00\", \"2019-09-07T00:00:00\", \"2019-09-08T00:00:00\", \"2019-09-09T00:00:00\", \"2019-09-10T00:00:00\", \"2019-09-11T00:00:00\", \"2019-09-12T00:00:00\", \"2019-09-13T00:00:00\", \"2019-09-14T00:00:00\", \"2019-09-15T00:00:00\", \"2019-09-16T00:00:00\", \"2019-09-17T00:00:00\", \"2019-09-18T00:00:00\", \"2019-09-19T00:00:00\", \"2019-09-20T00:00:00\", \"2019-09-21T00:00:00\", \"2019-09-22T00:00:00\", \"2019-09-23T00:00:00\", \"2019-09-24T00:00:00\", \"2019-09-25T00:00:00\", \"2019-09-26T00:00:00\", \"2019-09-27T00:00:00\", \"2019-09-28T00:00:00\", \"2019-09-29T00:00:00\", \"2019-09-30T00:00:00\", \"2019-10-01T00:00:00\", \"2019-10-02T00:00:00\", \"2019-10-03T00:00:00\", \"2019-10-04T00:00:00\", \"2019-10-05T00:00:00\", \"2019-10-06T00:00:00\", \"2019-10-07T00:00:00\", \"2019-10-08T00:00:00\", \"2019-10-09T00:00:00\", \"2019-10-10T00:00:00\", \"2019-10-11T00:00:00\", \"2019-10-12T00:00:00\", \"2019-10-13T00:00:00\", \"2019-10-14T00:00:00\", \"2019-10-15T00:00:00\", \"2019-10-16T00:00:00\", \"2019-10-17T00:00:00\", \"2019-10-18T00:00:00\", \"2019-10-19T00:00:00\", \"2019-10-20T00:00:00\", \"2019-10-21T00:00:00\", \"2019-10-22T00:00:00\", \"2019-10-23T00:00:00\", \"2019-10-24T00:00:00\", \"2019-10-25T00:00:00\", \"2019-10-26T00:00:00\", \"2019-10-27T00:00:00\", \"2019-10-28T00:00:00\", \"2019-10-29T00:00:00\", \"2019-10-30T00:00:00\", \"2019-10-31T00:00:00\", \"2019-11-01T00:00:00\", \"2019-11-02T00:00:00\", \"2019-11-03T00:00:00\", \"2019-11-04T00:00:00\", \"2019-11-05T00:00:00\", \"2019-11-06T00:00:00\", \"2019-11-07T00:00:00\", \"2019-11-08T00:00:00\", \"2019-11-09T00:00:00\", \"2019-11-10T00:00:00\", \"2019-11-11T00:00:00\", \"2019-11-12T00:00:00\", \"2019-11-13T00:00:00\", \"2019-11-14T00:00:00\", \"2019-11-15T00:00:00\", \"2019-11-16T00:00:00\", \"2019-11-17T00:00:00\", \"2019-11-18T00:00:00\", \"2019-11-19T00:00:00\", \"2019-11-20T00:00:00\", \"2019-11-21T00:00:00\", \"2019-11-22T00:00:00\", \"2019-11-23T00:00:00\", \"2019-11-24T00:00:00\", \"2019-11-25T00:00:00\", \"2019-11-26T00:00:00\", \"2019-11-27T00:00:00\", \"2019-11-28T00:00:00\", \"2019-11-29T00:00:00\", \"2019-11-30T00:00:00\", \"2019-12-01T00:00:00\", \"2019-12-02T00:00:00\", \"2019-12-03T00:00:00\", \"2019-12-04T00:00:00\", \"2019-12-05T00:00:00\", \"2019-12-06T00:00:00\", \"2019-12-07T00:00:00\", \"2019-12-08T00:00:00\", \"2019-12-09T00:00:00\", \"2019-12-10T00:00:00\", \"2019-12-11T00:00:00\", \"2019-12-12T00:00:00\", \"2019-12-13T00:00:00\", \"2019-12-14T00:00:00\", \"2019-12-15T00:00:00\", \"2019-12-16T00:00:00\", \"2019-12-17T00:00:00\", \"2019-12-18T00:00:00\", \"2019-12-19T00:00:00\", \"2019-12-20T00:00:00\", \"2019-12-21T00:00:00\", \"2019-12-22T00:00:00\", \"2019-12-23T00:00:00\", \"2019-12-24T00:00:00\", \"2019-12-25T00:00:00\", \"2019-12-26T00:00:00\", \"2019-12-27T00:00:00\", \"2019-12-28T00:00:00\", \"2019-12-29T00:00:00\", \"2019-12-30T00:00:00\", \"2019-12-31T00:00:00\", \"2020-01-01T00:00:00\", \"2020-02-01T00:00:00\", \"2020-03-01T00:00:00\", \"2020-04-01T00:00:00\", \"2020-05-01T00:00:00\"], \"y\": [10.00356578670609, 10.003297940455493, 10.003224882675557, 10.002848092639328, 10.0026357295012, 10.002467018919155, 10.002068190996711, 10.001883710759625, 10.001662605253477, 10.001467518820446, 10.001043835004108, 10.000783303112982, 10.001018073506255, 10.000984409583747, 10.00107664436119, 10.001142191430006, 10.00112396306241, 10.001190765824889, 10.001215101590327, 10.001305322326, 10.001374957299124, 10.001442147738974, 10.001431582939228, 10.001484208671512, 10.001557413995123, 10.001595899822787, 10.001622465087909, 10.001693575149448, 10.001723595136287, 10.00174567398246, 10.001758520487112, 10.001765702334364, 10.001786821421002, 10.001954936327646, 10.001867296878153, 10.001867634992726, 10.001681181503054, 10.001721772559867, 10.001688756665578, 10.001455035232077, 10.001707874929576, 10.001473586535703, 10.001416263074598, 10.00138086317444, 10.001345514941283, 10.001364622811959, 10.001238330569452, 10.001342313945337, 10.00132535199809, 10.001297183916432, 10.001330702880216, 10.001433569360048, 10.00132069465288, 10.001361059933886, 10.00146055812137, 10.00156603244177, 10.001368078734187, 10.001648185471595, 10.001079871474644, 10.000624314951091, 10.000045124199591, 9.999723410936818, 9.999082073580896, 9.99876598751741, 9.998244518609985, 9.997751213884142, 9.997267837559107, 9.996820428846966, 9.99642899731823, 9.996318171663493, 9.996406043872156, 9.996445930303967, 9.996554194697403, 9.996670684208096, 9.996638518485629, 9.996824298757401, 9.996738604207739, 9.996783134118479, 9.996777074421255, 9.996952055387819, 9.9973352335238, 9.997572465682723, 9.99823093206035, 9.998366408051046, 9.99880598024041, 9.999188675257432, 9.999592244448761, 9.999940970018512, 10.00016562687738, 10.000803078017515, 10.000983071501192, 10.001539829208978, 10.001497507362313, 10.00147610263565, 10.001473362327847, 10.001539779554493, 10.001623192700691, 10.001532895928708, 10.001638994651872, 10.001760453507917, 10.00167360777439, 10.001735495525125, 10.001759419447719, 10.001818737495167, 10.001748004485746, 10.001776556800982, 10.001813659983336, 10.001808428672918, 10.001810986221239, 10.00174643636055, 10.001952428525549, 10.001927513716351, 10.001907717692738, 10.001793346109592, 10.001894293942733, 10.00186149572262, 10.00178473827583, 10.001886329285645, 10.001691615832545, 10.001688005035277, 10.001595778669415, 10.00163584776962, 10.00166139355092, 10.001585679879472, 10.001595726853793, 10.001526809608492, 10.001662255958536, 10.001843223885697, 10.001937218164786, 10.002121056587326, 10.00202245441599, 10.002327966925733, 10.002464798025219, 10.002550474326044, 10.002688556972195, 10.002767755593348, 10.002929018623858, 10.002527348956836, 10.002329113963766, 10.001815084736856, 10.0015045378035, 10.001213461206245, 10.001001696677676, 10.000589401005838, 10.000267758405627, 10.000120397013546, 9.999711442385774, 9.999252675332782, 9.999223975414706, 9.999358200060104, 9.999423220487257, 9.999537023270348, 9.999837282517516, 9.999713448577653, 9.999833560566145, 9.999868599067108, 9.999942242909233, 10.000066592362904, 9.999978865493453, 10.000163820424707, 10.000107600862924, 10.000142923481972, 10.000307455488917, 10.000289857866058, 10.00043120400038, 10.000330857156758, 10.000549509200386, 10.000473048788118, 10.000468981440415, 10.000746931738725, 10.000663137684233, 10.000668444792035, 10.000729221793794, 10.00075634189072, 10.000756133343534, 10.00076409605884, 10.000789507355805, 10.000738075481792, 10.000748232225801, 10.000690117062112, 10.000875292700456, 10.000786944062282, 10.000740538769502, 10.000776382297317, 10.000836127790043, 10.00083013712456, 10.0006925784921, 10.000895548917928, 10.000837022709057, 10.00081071034913, 10.000870528778998, 10.000882489552216, 10.0008396518474, 10.000843902025835, 10.000795208406073, 10.000861245903375, 10.000838585407477, 10.000776537491229, 10.000793586909325, 10.000760947777923, 10.000669037325988, 10.000833703111095, 10.000768960122576, 10.000697513406699, 10.00076111603713, 10.000669145661822, 10.000510743872832, 10.000428669058222, 10.000408027288831, 10.000286540904895, 10.000020053007962, 9.999951551039894, 9.999934211669215, 9.999755996337694, 9.999643796489329, 9.999681064871169, 9.999560076918463, 9.999515075305785, 9.999462487117803, 9.99937498471997, 9.999342252071958, 9.999255803453435, 9.9993677333897, 9.999136036440476, 9.99905030682019, 9.999099032658354, 9.998994986503488, 9.999090272907322, 9.999218007816197, 9.999410221374967, 9.999503247667986, 9.999533947554756, 9.999902182357722, 9.99990196370303, 10.000067199522737, 10.000153921820147, 10.000350619344507, 10.000354146428988, 10.000516176256593, 10.000577871508233, 10.000576225607567, 10.000732301538669, 10.00072079297922, 10.00075284268374, 10.000780086957882, 10.000776471782686, 10.00077576937264, 10.000817841846183, 10.000825552624178, 10.000753254569894, 10.000949635019555, 10.000849749407966, 10.000768304465184, 10.000864070522756, 10.00078920979314, 10.000858914430667, 10.000821737089948, 10.000743486089636, 10.000721825377747, 10.000756835916087, 10.00071884516288, 10.00078738427116, 10.000729342526952, 10.000744635934918, 10.000885185971372, 10.000948599265753, 10.000836388855168, 10.000899182454793, 10.00096746719448, 10.000968084894295, 10.000945095424823, 10.00106316060944, 10.001071125902858, 10.000798916014642, 10.000538159612557, 10.000380140444319, 10.000153969568963, 9.999920967970933, 9.999795087416246, 9.99953291192006, 9.999308251072323, 9.999030215611196, 9.998910286881468, 9.998726975133387, 9.998637269664341, 9.998865612256527, 9.99883266149943, 9.99873968616806, 9.998889821267104, 9.998977228853896, 9.998941182976376, 9.998963150611283, 9.999111923641395, 9.99915199020356, 9.999154453549483, 9.999267692563599, 9.999283697470569, 9.999284473913939, 9.999275776627774, 9.99943925216629, 9.999387481154768, 9.999514390744046, 9.999603814963017, 9.99955545883954, 9.999625163561676, 9.999658579408697, 9.999711893869561, 9.999673978512817, 9.999764578735084, 9.999822136476523, 9.999998001092957, 10.000044479249343, 9.99990284027468, 10.000081182481804, 10.000067800938094, 10.000075089151526, 10.000140961250613, 10.000231218690287, 10.000268813056461, 10.000169925872932, 10.000400732352478, 10.00034965977471, 10.000514909110132, 10.000399118792798, 10.000666105139683, 10.000550544731672, 10.000524752482441, 10.000804377789956, 10.000691267809762, 10.000716648844644, 10.000820557355766, 10.000798355521127, 10.000816712199308, 10.000919817908208, 10.000965971313324, 10.000901967161381, 10.001079422903492, 10.00110541743355, 10.00118470414655, 10.001244496844155, 10.001212497473833, 10.001395460313866, 10.001331584302505, 10.001301676710685, 10.001418064804351, 10.001534532239694, 10.001597165511798, 10.001451289602082, 10.001678221488412, 10.001692460097248, 10.001675386292499, 10.001736998880684, 10.001909548756212, 10.001820960218861, 10.00182222744613, 10.002073969368631, 9.996699922557513, 9.987118004246735, 9.97173606616428, 9.952356298069734]}, {\"fill\": \"tonexty\", \"fillcolor\": \"rgba(0, 114, 178, 0.2)\", \"line\": {\"color\": \"#0072B2\", \"width\": 2}, \"mode\": \"lines\", \"name\": \"Predicted\", \"type\": \"scatter\", \"x\": [\"2019-01-11T00:00:00\", \"2019-01-12T00:00:00\", \"2019-01-13T00:00:00\", \"2019-01-14T00:00:00\", \"2019-01-15T00:00:00\", \"2019-01-16T00:00:00\", \"2019-01-17T00:00:00\", \"2019-01-18T00:00:00\", \"2019-01-19T00:00:00\", \"2019-01-20T00:00:00\", \"2019-01-21T00:00:00\", \"2019-01-22T00:00:00\", \"2019-01-23T00:00:00\", \"2019-01-24T00:00:00\", \"2019-01-25T00:00:00\", \"2019-01-26T00:00:00\", \"2019-01-27T00:00:00\", \"2019-01-28T00:00:00\", \"2019-01-29T00:00:00\", \"2019-01-30T00:00:00\", \"2019-01-31T00:00:00\", \"2019-02-01T00:00:00\", \"2019-02-02T00:00:00\", \"2019-02-03T00:00:00\", \"2019-02-04T00:00:00\", \"2019-02-05T00:00:00\", \"2019-02-06T00:00:00\", \"2019-02-07T00:00:00\", \"2019-02-08T00:00:00\", \"2019-02-09T00:00:00\", \"2019-02-10T00:00:00\", \"2019-02-11T00:00:00\", \"2019-02-12T00:00:00\", \"2019-02-13T00:00:00\", \"2019-02-14T00:00:00\", \"2019-02-15T00:00:00\", \"2019-02-16T00:00:00\", \"2019-02-17T00:00:00\", \"2019-02-18T00:00:00\", \"2019-02-19T00:00:00\", \"2019-02-20T00:00:00\", \"2019-02-21T00:00:00\", \"2019-02-22T00:00:00\", \"2019-02-23T00:00:00\", \"2019-02-24T00:00:00\", \"2019-02-25T00:00:00\", \"2019-02-26T00:00:00\", \"2019-02-27T00:00:00\", \"2019-02-28T00:00:00\", \"2019-03-01T00:00:00\", \"2019-03-02T00:00:00\", \"2019-03-03T00:00:00\", \"2019-03-04T00:00:00\", \"2019-03-05T00:00:00\", \"2019-03-06T00:00:00\", \"2019-03-07T00:00:00\", \"2019-03-08T00:00:00\", \"2019-03-09T00:00:00\", \"2019-03-10T00:00:00\", \"2019-03-11T00:00:00\", \"2019-03-12T00:00:00\", \"2019-03-13T00:00:00\", \"2019-03-14T00:00:00\", \"2019-03-15T00:00:00\", \"2019-03-16T00:00:00\", \"2019-03-17T00:00:00\", \"2019-03-18T00:00:00\", \"2019-03-19T00:00:00\", \"2019-03-20T00:00:00\", \"2019-03-21T00:00:00\", \"2019-03-22T00:00:00\", \"2019-03-23T00:00:00\", \"2019-03-24T00:00:00\", \"2019-03-25T00:00:00\", \"2019-03-26T00:00:00\", \"2019-03-27T00:00:00\", \"2019-03-28T00:00:00\", \"2019-03-29T00:00:00\", \"2019-03-30T00:00:00\", \"2019-03-31T00:00:00\", \"2019-04-01T00:00:00\", \"2019-04-02T00:00:00\", \"2019-04-03T00:00:00\", \"2019-04-04T00:00:00\", \"2019-04-05T00:00:00\", \"2019-04-06T00:00:00\", \"2019-04-07T00:00:00\", \"2019-04-08T00:00:00\", \"2019-04-09T00:00:00\", \"2019-04-10T00:00:00\", \"2019-04-11T00:00:00\", \"2019-04-12T00:00:00\", \"2019-04-13T00:00:00\", \"2019-04-14T00:00:00\", \"2019-04-15T00:00:00\", \"2019-04-16T00:00:00\", \"2019-04-17T00:00:00\", \"2019-04-18T00:00:00\", \"2019-04-19T00:00:00\", \"2019-04-20T00:00:00\", \"2019-04-21T00:00:00\", \"2019-04-22T00:00:00\", \"2019-04-23T00:00:00\", \"2019-04-24T00:00:00\", \"2019-04-25T00:00:00\", \"2019-04-26T00:00:00\", \"2019-04-27T00:00:00\", \"2019-04-28T00:00:00\", \"2019-04-29T00:00:00\", \"2019-04-30T00:00:00\", \"2019-05-01T00:00:00\", \"2019-05-02T00:00:00\", \"2019-05-03T00:00:00\", \"2019-05-04T00:00:00\", \"2019-05-05T00:00:00\", \"2019-05-06T00:00:00\", \"2019-05-07T00:00:00\", \"2019-05-08T00:00:00\", \"2019-05-09T00:00:00\", \"2019-05-10T00:00:00\", \"2019-05-11T00:00:00\", \"2019-05-12T00:00:00\", \"2019-05-13T00:00:00\", \"2019-05-14T00:00:00\", \"2019-05-15T00:00:00\", \"2019-05-16T00:00:00\", \"2019-05-17T00:00:00\", \"2019-05-18T00:00:00\", \"2019-05-19T00:00:00\", \"2019-05-20T00:00:00\", \"2019-05-21T00:00:00\", \"2019-05-22T00:00:00\", \"2019-05-23T00:00:00\", \"2019-05-24T00:00:00\", \"2019-05-25T00:00:00\", \"2019-05-26T00:00:00\", \"2019-05-27T00:00:00\", \"2019-05-28T00:00:00\", \"2019-05-29T00:00:00\", \"2019-05-30T00:00:00\", \"2019-05-31T00:00:00\", \"2019-06-01T00:00:00\", \"2019-06-02T00:00:00\", \"2019-06-03T00:00:00\", \"2019-06-04T00:00:00\", \"2019-06-05T00:00:00\", \"2019-06-06T00:00:00\", \"2019-06-07T00:00:00\", \"2019-06-08T00:00:00\", \"2019-06-09T00:00:00\", \"2019-06-10T00:00:00\", \"2019-06-11T00:00:00\", \"2019-06-12T00:00:00\", \"2019-06-13T00:00:00\", \"2019-06-14T00:00:00\", \"2019-06-15T00:00:00\", \"2019-06-16T00:00:00\", \"2019-06-17T00:00:00\", \"2019-06-18T00:00:00\", \"2019-06-19T00:00:00\", \"2019-06-20T00:00:00\", \"2019-06-21T00:00:00\", \"2019-06-22T00:00:00\", \"2019-06-23T00:00:00\", \"2019-06-24T00:00:00\", \"2019-06-25T00:00:00\", \"2019-06-26T00:00:00\", \"2019-06-27T00:00:00\", \"2019-06-28T00:00:00\", \"2019-06-29T00:00:00\", \"2019-06-30T00:00:00\", \"2019-07-01T00:00:00\", \"2019-07-02T00:00:00\", \"2019-07-03T00:00:00\", \"2019-07-04T00:00:00\", \"2019-07-05T00:00:00\", \"2019-07-06T00:00:00\", \"2019-07-07T00:00:00\", \"2019-07-08T00:00:00\", \"2019-07-09T00:00:00\", \"2019-07-10T00:00:00\", \"2019-07-11T00:00:00\", \"2019-07-12T00:00:00\", \"2019-07-13T00:00:00\", \"2019-07-14T00:00:00\", \"2019-07-15T00:00:00\", \"2019-07-16T00:00:00\", \"2019-07-17T00:00:00\", \"2019-07-18T00:00:00\", \"2019-07-19T00:00:00\", \"2019-07-20T00:00:00\", \"2019-07-21T00:00:00\", \"2019-07-22T00:00:00\", \"2019-07-23T00:00:00\", \"2019-07-24T00:00:00\", \"2019-07-25T00:00:00\", \"2019-07-26T00:00:00\", \"2019-07-27T00:00:00\", \"2019-07-28T00:00:00\", \"2019-07-29T00:00:00\", \"2019-07-30T00:00:00\", \"2019-07-31T00:00:00\", \"2019-08-01T00:00:00\", \"2019-08-02T00:00:00\", \"2019-08-03T00:00:00\", \"2019-08-04T00:00:00\", \"2019-08-05T00:00:00\", \"2019-08-06T00:00:00\", \"2019-08-07T00:00:00\", \"2019-08-08T00:00:00\", \"2019-08-09T00:00:00\", \"2019-08-10T00:00:00\", \"2019-08-11T00:00:00\", \"2019-08-12T00:00:00\", \"2019-08-13T00:00:00\", \"2019-08-14T00:00:00\", \"2019-08-15T00:00:00\", \"2019-08-16T00:00:00\", \"2019-08-17T00:00:00\", \"2019-08-18T00:00:00\", \"2019-08-19T00:00:00\", \"2019-08-20T00:00:00\", \"2019-08-21T00:00:00\", \"2019-08-22T00:00:00\", \"2019-08-23T00:00:00\", \"2019-08-24T00:00:00\", \"2019-08-25T00:00:00\", \"2019-08-26T00:00:00\", \"2019-08-27T00:00:00\", \"2019-08-28T00:00:00\", \"2019-08-29T00:00:00\", \"2019-08-30T00:00:00\", \"2019-08-31T00:00:00\", \"2019-09-01T00:00:00\", \"2019-09-02T00:00:00\", \"2019-09-03T00:00:00\", \"2019-09-04T00:00:00\", \"2019-09-05T00:00:00\", \"2019-09-06T00:00:00\", \"2019-09-07T00:00:00\", \"2019-09-08T00:00:00\", \"2019-09-09T00:00:00\", \"2019-09-10T00:00:00\", \"2019-09-11T00:00:00\", \"2019-09-12T00:00:00\", \"2019-09-13T00:00:00\", \"2019-09-14T00:00:00\", \"2019-09-15T00:00:00\", \"2019-09-16T00:00:00\", \"2019-09-17T00:00:00\", \"2019-09-18T00:00:00\", \"2019-09-19T00:00:00\", \"2019-09-20T00:00:00\", \"2019-09-21T00:00:00\", \"2019-09-22T00:00:00\", \"2019-09-23T00:00:00\", \"2019-09-24T00:00:00\", \"2019-09-25T00:00:00\", \"2019-09-26T00:00:00\", \"2019-09-27T00:00:00\", \"2019-09-28T00:00:00\", \"2019-09-29T00:00:00\", \"2019-09-30T00:00:00\", \"2019-10-01T00:00:00\", \"2019-10-02T00:00:00\", \"2019-10-03T00:00:00\", \"2019-10-04T00:00:00\", \"2019-10-05T00:00:00\", \"2019-10-06T00:00:00\", \"2019-10-07T00:00:00\", \"2019-10-08T00:00:00\", \"2019-10-09T00:00:00\", \"2019-10-10T00:00:00\", \"2019-10-11T00:00:00\", \"2019-10-12T00:00:00\", \"2019-10-13T00:00:00\", \"2019-10-14T00:00:00\", \"2019-10-15T00:00:00\", \"2019-10-16T00:00:00\", \"2019-10-17T00:00:00\", \"2019-10-18T00:00:00\", \"2019-10-19T00:00:00\", \"2019-10-20T00:00:00\", \"2019-10-21T00:00:00\", \"2019-10-22T00:00:00\", \"2019-10-23T00:00:00\", \"2019-10-24T00:00:00\", \"2019-10-25T00:00:00\", \"2019-10-26T00:00:00\", \"2019-10-27T00:00:00\", \"2019-10-28T00:00:00\", \"2019-10-29T00:00:00\", \"2019-10-30T00:00:00\", \"2019-10-31T00:00:00\", \"2019-11-01T00:00:00\", \"2019-11-02T00:00:00\", \"2019-11-03T00:00:00\", \"2019-11-04T00:00:00\", \"2019-11-05T00:00:00\", \"2019-11-06T00:00:00\", \"2019-11-07T00:00:00\", \"2019-11-08T00:00:00\", \"2019-11-09T00:00:00\", \"2019-11-10T00:00:00\", \"2019-11-11T00:00:00\", \"2019-11-12T00:00:00\", \"2019-11-13T00:00:00\", \"2019-11-14T00:00:00\", \"2019-11-15T00:00:00\", \"2019-11-16T00:00:00\", \"2019-11-17T00:00:00\", \"2019-11-18T00:00:00\", \"2019-11-19T00:00:00\", \"2019-11-20T00:00:00\", \"2019-11-21T00:00:00\", \"2019-11-22T00:00:00\", \"2019-11-23T00:00:00\", \"2019-11-24T00:00:00\", \"2019-11-25T00:00:00\", \"2019-11-26T00:00:00\", \"2019-11-27T00:00:00\", \"2019-11-28T00:00:00\", \"2019-11-29T00:00:00\", \"2019-11-30T00:00:00\", \"2019-12-01T00:00:00\", \"2019-12-02T00:00:00\", \"2019-12-03T00:00:00\", \"2019-12-04T00:00:00\", \"2019-12-05T00:00:00\", \"2019-12-06T00:00:00\", \"2019-12-07T00:00:00\", \"2019-12-08T00:00:00\", \"2019-12-09T00:00:00\", \"2019-12-10T00:00:00\", \"2019-12-11T00:00:00\", \"2019-12-12T00:00:00\", \"2019-12-13T00:00:00\", \"2019-12-14T00:00:00\", \"2019-12-15T00:00:00\", \"2019-12-16T00:00:00\", \"2019-12-17T00:00:00\", \"2019-12-18T00:00:00\", \"2019-12-19T00:00:00\", \"2019-12-20T00:00:00\", \"2019-12-21T00:00:00\", \"2019-12-22T00:00:00\", \"2019-12-23T00:00:00\", \"2019-12-24T00:00:00\", \"2019-12-25T00:00:00\", \"2019-12-26T00:00:00\", \"2019-12-27T00:00:00\", \"2019-12-28T00:00:00\", \"2019-12-29T00:00:00\", \"2019-12-30T00:00:00\", \"2019-12-31T00:00:00\", \"2020-01-01T00:00:00\", \"2020-02-01T00:00:00\", \"2020-03-01T00:00:00\", \"2020-04-01T00:00:00\", \"2020-05-01T00:00:00\"], \"y\": [10.004808015622807, 10.004582393355017, 10.004348718510755, 10.004086468342148, 10.00376780861904, 10.003644132209264, 10.003328840827866, 10.00306092961561, 10.002835307347823, 10.00260163250356, 10.002339382334954, 10.002020722611846, 10.00220063983593, 10.002188942088395, 10.002224624510003, 10.002302595876078, 10.002372514665677, 10.002413858130932, 10.002398792041689, 10.002578709265771, 10.002567011518236, 10.002602693939844, 10.002680665305919, 10.002750584095518, 10.002771772031098, 10.002736550412175, 10.00289631210658, 10.002864458829368, 10.002879985721298, 10.002937801557694, 10.002987564817618, 10.003008752753196, 10.002973531134273, 10.00313329282868, 10.003101439551466, 10.00302517159009, 10.00299119257318, 10.002949160979796, 10.002878554062068, 10.002751537589837, 10.002819504430937, 10.002695856300418, 10.002619588339043, 10.00258560932213, 10.002543577728748, 10.00247297081102, 10.002422754494996, 10.002567521492299, 10.002520673517983, 10.002521205712814, 10.002564026852106, 10.002598795414928, 10.002604988653403, 10.002554772337376, 10.002699539334682, 10.002652691360367, 10.002653223555196, 10.002696044694488, 10.002244444853298, 10.001764269687763, 10.001227684967727, 10.00088608356102, 10.000352867182697, 9.999867030973514, 9.999423483708796, 9.998971883867606, 9.99849170870207, 9.997955123982035, 9.997613522575328, 9.9976009005886, 9.997635658771012, 9.99771270589789, 9.997781700448293, 9.997822119674353, 9.99780612934591, 9.9979851223308, 9.99797250034407, 9.998007258526481, 9.998084305653359, 9.998153300203763, 9.998517115832863, 9.99882452190746, 9.999326911295388, 9.999637685711697, 9.999995840297148, 10.000396283827065, 10.000788674780509, 10.001152490409607, 10.001459896484205, 10.001962285872132, 10.002273060288442, 10.002631214873894, 10.002683271879556, 10.002727276308743, 10.00274270541359, 10.002701724963934, 10.002855727827606, 10.002818115719661, 10.002827883780858, 10.00287994078652, 10.00292394521571, 10.002939374320555, 10.002898393870899, 10.003035119341602, 10.002980229840686, 10.002972720508915, 10.003007500121608, 10.003034227157828, 10.003032378869703, 10.002974121027075, 10.00311084649778, 10.003055956996866, 10.003048447665094, 10.003083227277786, 10.003070860695152, 10.003029918788174, 10.002932567326695, 10.003030199178545, 10.002936216058776, 10.00288961310815, 10.00288529910199, 10.002872932519354, 10.002831990612377, 10.002734639150898, 10.002832271002747, 10.002738287882979, 10.002844825864402, 10.002993652790291, 10.003134427139706, 10.00324662616478, 10.00330241563535, 10.003553188419248, 10.00361234623153, 10.003718884212953, 10.003867711138843, 10.004008485488256, 10.00412068451333, 10.003725403901136, 10.003525106602273, 10.003133194331792, 10.002788662230454, 10.002486419073579, 10.002176123340233, 10.001837252282542, 10.001441971670351, 10.001241674371487, 10.000849762101005, 10.000505229999668, 10.000594590599917, 10.000675898623692, 10.000728631323126, 10.000724954468053, 10.000916260926315, 10.000915952412956, 10.00096302406874, 10.001052384668991, 10.001133692692767, 10.001186425392198, 10.001182748537127, 10.001362476107174, 10.0013505887056, 10.00138608147317, 10.001463863185203, 10.001533592320763, 10.001574746131979, 10.001559490388695, 10.001739217958738, 10.001727330557165, 10.001762823324732, 10.001840605036767, 10.001910334172328, 10.001909094273557, 10.001851444820286, 10.001988778680344, 10.001934497568785, 10.001927596626366, 10.001962984628413, 10.001990320053988, 10.001989080155218, 10.001931430701946, 10.002068764562004, 10.002014483450443, 10.00199773693272, 10.002023279359461, 10.002040769209728, 10.002029683735653, 10.001962188707074, 10.002089676991828, 10.002025550304962, 10.002008803787238, 10.002034346213978, 10.002051836064247, 10.00204075059017, 10.00196226092118, 10.002078754565524, 10.002003633238246, 10.001975892080111, 10.001990439866441, 10.001996935076297, 10.00197485496181, 10.00189636529282, 10.002012858937164, 10.001937737609886, 10.00190999645175, 10.001924544238083, 10.00183992102684, 10.001726722491252, 10.001557114401166, 10.001582489624406, 10.001416249876028, 10.001297390296795, 10.001220819662025, 10.001136196450782, 10.001022997915197, 10.000853389825108, 10.000878765048348, 10.000755292005826, 10.000679199132446, 10.000645395203529, 10.00060353869814, 10.000533106868406, 10.000406265484173, 10.000474407413268, 10.000350934370744, 10.000274841497363, 10.000241037568449, 10.00019918106306, 10.00032416455408, 10.000392738490598, 10.000656295740448, 10.000728238018679, 10.00084756046605, 10.00100917185789, 10.001162730673254, 10.001287714164274, 10.001356288100794, 10.001619845350643, 10.001691787628872, 10.001811110076245, 10.001853424104445, 10.001887685556172, 10.001893371683554, 10.001842648256437, 10.001986908142648, 10.00193955305724, 10.001939578140973, 10.001981892169175, 10.0020161536209, 10.002021839748284, 10.001971116321165, 10.002091593599514, 10.002020455906244, 10.001996698382118, 10.002015229802454, 10.002025708646322, 10.002007612165844, 10.001933106130863, 10.002053583409213, 10.001982445715944, 10.001958688191818, 10.001977219612156, 10.002013883919197, 10.002021972901895, 10.00197365233009, 10.002120315071616, 10.002075362841524, 10.002077790780573, 10.002122507664089, 10.00215917197113, 10.002167260953827, 10.002118940382022, 10.002265603123549, 10.002220650893456, 10.001988753602573, 10.001799145256156, 10.001601484333266, 10.001375248086033, 10.001092602284295, 10.001004939795891, 10.000725662335865, 10.000493765044983, 10.000304156698567, 10.000106495775677, 9.999880259528442, 9.999856363389622, 10.00002745056413, 10.000006922767017, 10.000033775139048, 10.000102916455546, 10.000164005195568, 10.000196518611249, 10.000172622472425, 10.000343709646934, 10.000323181849822, 10.000350034221855, 10.000419175538351, 10.000480264278373, 10.000512777694054, 10.000488881555231, 10.000659968729739, 10.000639440932629, 10.00066629330466, 10.000735434621156, 10.00079652336118, 10.00082903677686, 10.000805140638038, 10.000976227812545, 10.000955700015433, 10.000982552387466, 10.001051693703962, 10.001112782443986, 10.001145295859665, 10.00112139972084, 10.00129248689535, 10.00127195909824, 10.00129881147027, 10.001367952786769, 10.00142904152679, 10.00146155494247, 10.001437658803647, 10.001608745978157, 10.001588218181045, 10.001615070553076, 10.001684211869573, 10.001745300609597, 10.001777814025276, 10.001753917886456, 10.001925005060961, 10.00190447726385, 10.001931329635882, 10.00200047095238, 10.002061559692402, 10.002094073108081, 10.00207017696926, 10.002241264143766, 10.002220736346656, 10.002247588718689, 10.002316730035185, 10.002377818775207, 10.002410332190887, 10.002386436052063, 10.002557523226573, 10.002536995429463, 10.002563847801493, 10.00263298911799, 10.002694077858013, 10.002726591273694, 10.002702695134872, 10.002873782309377, 10.002853254512267, 10.002880106884298, 10.002949248200796, 10.00301033694082, 10.003042850356499, 10.003018954217676, 10.003190041392184, 10.004530543614822, 10.005856668686068, 10.007301409468656, 10.0085727703748]}, {\"fill\": \"tonexty\", \"fillcolor\": \"rgba(0, 114, 178, 0.2)\", \"hoverinfo\": \"skip\", \"line\": {\"width\": 0}, \"mode\": \"lines\", \"type\": \"scatter\", \"x\": [\"2019-01-11T00:00:00\", \"2019-01-12T00:00:00\", \"2019-01-13T00:00:00\", \"2019-01-14T00:00:00\", \"2019-01-15T00:00:00\", \"2019-01-16T00:00:00\", \"2019-01-17T00:00:00\", \"2019-01-18T00:00:00\", \"2019-01-19T00:00:00\", \"2019-01-20T00:00:00\", \"2019-01-21T00:00:00\", \"2019-01-22T00:00:00\", \"2019-01-23T00:00:00\", \"2019-01-24T00:00:00\", \"2019-01-25T00:00:00\", \"2019-01-26T00:00:00\", \"2019-01-27T00:00:00\", \"2019-01-28T00:00:00\", \"2019-01-29T00:00:00\", \"2019-01-30T00:00:00\", \"2019-01-31T00:00:00\", \"2019-02-01T00:00:00\", \"2019-02-02T00:00:00\", \"2019-02-03T00:00:00\", \"2019-02-04T00:00:00\", \"2019-02-05T00:00:00\", \"2019-02-06T00:00:00\", \"2019-02-07T00:00:00\", \"2019-02-08T00:00:00\", \"2019-02-09T00:00:00\", \"2019-02-10T00:00:00\", \"2019-02-11T00:00:00\", \"2019-02-12T00:00:00\", \"2019-02-13T00:00:00\", \"2019-02-14T00:00:00\", \"2019-02-15T00:00:00\", \"2019-02-16T00:00:00\", \"2019-02-17T00:00:00\", \"2019-02-18T00:00:00\", \"2019-02-19T00:00:00\", \"2019-02-20T00:00:00\", \"2019-02-21T00:00:00\", \"2019-02-22T00:00:00\", \"2019-02-23T00:00:00\", \"2019-02-24T00:00:00\", \"2019-02-25T00:00:00\", \"2019-02-26T00:00:00\", \"2019-02-27T00:00:00\", \"2019-02-28T00:00:00\", \"2019-03-01T00:00:00\", \"2019-03-02T00:00:00\", \"2019-03-03T00:00:00\", \"2019-03-04T00:00:00\", \"2019-03-05T00:00:00\", \"2019-03-06T00:00:00\", \"2019-03-07T00:00:00\", \"2019-03-08T00:00:00\", \"2019-03-09T00:00:00\", \"2019-03-10T00:00:00\", \"2019-03-11T00:00:00\", \"2019-03-12T00:00:00\", \"2019-03-13T00:00:00\", \"2019-03-14T00:00:00\", \"2019-03-15T00:00:00\", \"2019-03-16T00:00:00\", \"2019-03-17T00:00:00\", \"2019-03-18T00:00:00\", \"2019-03-19T00:00:00\", \"2019-03-20T00:00:00\", \"2019-03-21T00:00:00\", \"2019-03-22T00:00:00\", \"2019-03-23T00:00:00\", \"2019-03-24T00:00:00\", \"2019-03-25T00:00:00\", \"2019-03-26T00:00:00\", \"2019-03-27T00:00:00\", \"2019-03-28T00:00:00\", \"2019-03-29T00:00:00\", \"2019-03-30T00:00:00\", \"2019-03-31T00:00:00\", \"2019-04-01T00:00:00\", \"2019-04-02T00:00:00\", \"2019-04-03T00:00:00\", \"2019-04-04T00:00:00\", \"2019-04-05T00:00:00\", \"2019-04-06T00:00:00\", \"2019-04-07T00:00:00\", \"2019-04-08T00:00:00\", \"2019-04-09T00:00:00\", \"2019-04-10T00:00:00\", \"2019-04-11T00:00:00\", \"2019-04-12T00:00:00\", \"2019-04-13T00:00:00\", \"2019-04-14T00:00:00\", \"2019-04-15T00:00:00\", \"2019-04-16T00:00:00\", \"2019-04-17T00:00:00\", \"2019-04-18T00:00:00\", \"2019-04-19T00:00:00\", \"2019-04-20T00:00:00\", \"2019-04-21T00:00:00\", \"2019-04-22T00:00:00\", \"2019-04-23T00:00:00\", \"2019-04-24T00:00:00\", \"2019-04-25T00:00:00\", \"2019-04-26T00:00:00\", \"2019-04-27T00:00:00\", \"2019-04-28T00:00:00\", \"2019-04-29T00:00:00\", \"2019-04-30T00:00:00\", \"2019-05-01T00:00:00\", \"2019-05-02T00:00:00\", \"2019-05-03T00:00:00\", \"2019-05-04T00:00:00\", \"2019-05-05T00:00:00\", \"2019-05-06T00:00:00\", \"2019-05-07T00:00:00\", \"2019-05-08T00:00:00\", \"2019-05-09T00:00:00\", \"2019-05-10T00:00:00\", \"2019-05-11T00:00:00\", \"2019-05-12T00:00:00\", \"2019-05-13T00:00:00\", \"2019-05-14T00:00:00\", \"2019-05-15T00:00:00\", \"2019-05-16T00:00:00\", \"2019-05-17T00:00:00\", \"2019-05-18T00:00:00\", \"2019-05-19T00:00:00\", \"2019-05-20T00:00:00\", \"2019-05-21T00:00:00\", \"2019-05-22T00:00:00\", \"2019-05-23T00:00:00\", \"2019-05-24T00:00:00\", \"2019-05-25T00:00:00\", \"2019-05-26T00:00:00\", \"2019-05-27T00:00:00\", \"2019-05-28T00:00:00\", \"2019-05-29T00:00:00\", \"2019-05-30T00:00:00\", \"2019-05-31T00:00:00\", \"2019-06-01T00:00:00\", \"2019-06-02T00:00:00\", \"2019-06-03T00:00:00\", \"2019-06-04T00:00:00\", \"2019-06-05T00:00:00\", \"2019-06-06T00:00:00\", \"2019-06-07T00:00:00\", \"2019-06-08T00:00:00\", \"2019-06-09T00:00:00\", \"2019-06-10T00:00:00\", \"2019-06-11T00:00:00\", \"2019-06-12T00:00:00\", \"2019-06-13T00:00:00\", \"2019-06-14T00:00:00\", \"2019-06-15T00:00:00\", \"2019-06-16T00:00:00\", \"2019-06-17T00:00:00\", \"2019-06-18T00:00:00\", \"2019-06-19T00:00:00\", \"2019-06-20T00:00:00\", \"2019-06-21T00:00:00\", \"2019-06-22T00:00:00\", \"2019-06-23T00:00:00\", \"2019-06-24T00:00:00\", \"2019-06-25T00:00:00\", \"2019-06-26T00:00:00\", \"2019-06-27T00:00:00\", \"2019-06-28T00:00:00\", \"2019-06-29T00:00:00\", \"2019-06-30T00:00:00\", \"2019-07-01T00:00:00\", \"2019-07-02T00:00:00\", \"2019-07-03T00:00:00\", \"2019-07-04T00:00:00\", \"2019-07-05T00:00:00\", \"2019-07-06T00:00:00\", \"2019-07-07T00:00:00\", \"2019-07-08T00:00:00\", \"2019-07-09T00:00:00\", \"2019-07-10T00:00:00\", \"2019-07-11T00:00:00\", \"2019-07-12T00:00:00\", \"2019-07-13T00:00:00\", \"2019-07-14T00:00:00\", \"2019-07-15T00:00:00\", \"2019-07-16T00:00:00\", \"2019-07-17T00:00:00\", \"2019-07-18T00:00:00\", \"2019-07-19T00:00:00\", \"2019-07-20T00:00:00\", \"2019-07-21T00:00:00\", \"2019-07-22T00:00:00\", \"2019-07-23T00:00:00\", \"2019-07-24T00:00:00\", \"2019-07-25T00:00:00\", \"2019-07-26T00:00:00\", \"2019-07-27T00:00:00\", \"2019-07-28T00:00:00\", \"2019-07-29T00:00:00\", \"2019-07-30T00:00:00\", \"2019-07-31T00:00:00\", \"2019-08-01T00:00:00\", \"2019-08-02T00:00:00\", \"2019-08-03T00:00:00\", \"2019-08-04T00:00:00\", \"2019-08-05T00:00:00\", \"2019-08-06T00:00:00\", \"2019-08-07T00:00:00\", \"2019-08-08T00:00:00\", \"2019-08-09T00:00:00\", \"2019-08-10T00:00:00\", \"2019-08-11T00:00:00\", \"2019-08-12T00:00:00\", \"2019-08-13T00:00:00\", \"2019-08-14T00:00:00\", \"2019-08-15T00:00:00\", \"2019-08-16T00:00:00\", \"2019-08-17T00:00:00\", \"2019-08-18T00:00:00\", \"2019-08-19T00:00:00\", \"2019-08-20T00:00:00\", \"2019-08-21T00:00:00\", \"2019-08-22T00:00:00\", \"2019-08-23T00:00:00\", \"2019-08-24T00:00:00\", \"2019-08-25T00:00:00\", \"2019-08-26T00:00:00\", \"2019-08-27T00:00:00\", \"2019-08-28T00:00:00\", \"2019-08-29T00:00:00\", \"2019-08-30T00:00:00\", \"2019-08-31T00:00:00\", \"2019-09-01T00:00:00\", \"2019-09-02T00:00:00\", \"2019-09-03T00:00:00\", \"2019-09-04T00:00:00\", \"2019-09-05T00:00:00\", \"2019-09-06T00:00:00\", \"2019-09-07T00:00:00\", \"2019-09-08T00:00:00\", \"2019-09-09T00:00:00\", \"2019-09-10T00:00:00\", \"2019-09-11T00:00:00\", \"2019-09-12T00:00:00\", \"2019-09-13T00:00:00\", \"2019-09-14T00:00:00\", \"2019-09-15T00:00:00\", \"2019-09-16T00:00:00\", \"2019-09-17T00:00:00\", \"2019-09-18T00:00:00\", \"2019-09-19T00:00:00\", \"2019-09-20T00:00:00\", \"2019-09-21T00:00:00\", \"2019-09-22T00:00:00\", \"2019-09-23T00:00:00\", \"2019-09-24T00:00:00\", \"2019-09-25T00:00:00\", \"2019-09-26T00:00:00\", \"2019-09-27T00:00:00\", \"2019-09-28T00:00:00\", \"2019-09-29T00:00:00\", \"2019-09-30T00:00:00\", \"2019-10-01T00:00:00\", \"2019-10-02T00:00:00\", \"2019-10-03T00:00:00\", \"2019-10-04T00:00:00\", \"2019-10-05T00:00:00\", \"2019-10-06T00:00:00\", \"2019-10-07T00:00:00\", \"2019-10-08T00:00:00\", \"2019-10-09T00:00:00\", \"2019-10-10T00:00:00\", \"2019-10-11T00:00:00\", \"2019-10-12T00:00:00\", \"2019-10-13T00:00:00\", \"2019-10-14T00:00:00\", \"2019-10-15T00:00:00\", \"2019-10-16T00:00:00\", \"2019-10-17T00:00:00\", \"2019-10-18T00:00:00\", \"2019-10-19T00:00:00\", \"2019-10-20T00:00:00\", \"2019-10-21T00:00:00\", \"2019-10-22T00:00:00\", \"2019-10-23T00:00:00\", \"2019-10-24T00:00:00\", \"2019-10-25T00:00:00\", \"2019-10-26T00:00:00\", \"2019-10-27T00:00:00\", \"2019-10-28T00:00:00\", \"2019-10-29T00:00:00\", \"2019-10-30T00:00:00\", \"2019-10-31T00:00:00\", \"2019-11-01T00:00:00\", \"2019-11-02T00:00:00\", \"2019-11-03T00:00:00\", \"2019-11-04T00:00:00\", \"2019-11-05T00:00:00\", \"2019-11-06T00:00:00\", \"2019-11-07T00:00:00\", \"2019-11-08T00:00:00\", \"2019-11-09T00:00:00\", \"2019-11-10T00:00:00\", \"2019-11-11T00:00:00\", \"2019-11-12T00:00:00\", \"2019-11-13T00:00:00\", \"2019-11-14T00:00:00\", \"2019-11-15T00:00:00\", \"2019-11-16T00:00:00\", \"2019-11-17T00:00:00\", \"2019-11-18T00:00:00\", \"2019-11-19T00:00:00\", \"2019-11-20T00:00:00\", \"2019-11-21T00:00:00\", \"2019-11-22T00:00:00\", \"2019-11-23T00:00:00\", \"2019-11-24T00:00:00\", \"2019-11-25T00:00:00\", \"2019-11-26T00:00:00\", \"2019-11-27T00:00:00\", \"2019-11-28T00:00:00\", \"2019-11-29T00:00:00\", \"2019-11-30T00:00:00\", \"2019-12-01T00:00:00\", \"2019-12-02T00:00:00\", \"2019-12-03T00:00:00\", \"2019-12-04T00:00:00\", \"2019-12-05T00:00:00\", \"2019-12-06T00:00:00\", \"2019-12-07T00:00:00\", \"2019-12-08T00:00:00\", \"2019-12-09T00:00:00\", \"2019-12-10T00:00:00\", \"2019-12-11T00:00:00\", \"2019-12-12T00:00:00\", \"2019-12-13T00:00:00\", \"2019-12-14T00:00:00\", \"2019-12-15T00:00:00\", \"2019-12-16T00:00:00\", \"2019-12-17T00:00:00\", \"2019-12-18T00:00:00\", \"2019-12-19T00:00:00\", \"2019-12-20T00:00:00\", \"2019-12-21T00:00:00\", \"2019-12-22T00:00:00\", \"2019-12-23T00:00:00\", \"2019-12-24T00:00:00\", \"2019-12-25T00:00:00\", \"2019-12-26T00:00:00\", \"2019-12-27T00:00:00\", \"2019-12-28T00:00:00\", \"2019-12-29T00:00:00\", \"2019-12-30T00:00:00\", \"2019-12-31T00:00:00\", \"2020-01-01T00:00:00\", \"2020-02-01T00:00:00\", \"2020-03-01T00:00:00\", \"2020-04-01T00:00:00\", \"2020-05-01T00:00:00\"], \"y\": [10.006073622222626, 10.005761450836353, 10.005537578872008, 10.005268589329612, 10.005015122268794, 10.004750593314805, 10.004554983822546, 10.004308018789185, 10.004137969311026, 10.00388812508468, 10.003507848924459, 10.003251981603407, 10.003338556081873, 10.003425832644721, 10.003455048605241, 10.003526985028783, 10.003494994650584, 10.003582269314565, 10.003607845381772, 10.003703484519352, 10.003761829193355, 10.003786469091622, 10.003846623667878, 10.003907263628504, 10.003955532109114, 10.003982630160557, 10.004161781131844, 10.00413012758849, 10.004055791036972, 10.004120197017846, 10.004191683038812, 10.004222184315429, 10.004170702619867, 10.004313641908976, 10.004280599128645, 10.004184702080593, 10.004241143142263, 10.004168716013554, 10.004115183068185, 10.003912476639487, 10.003970000555334, 10.00391532140263, 10.003840782096532, 10.003776464487691, 10.003720921616495, 10.003694894300057, 10.003574498464614, 10.003719075128881, 10.003624881714245, 10.003736582055577, 10.003832781006533, 10.003737133201497, 10.003849861105861, 10.003770569503885, 10.00382931502475, 10.0039200099056, 10.003781480007682, 10.003922268408486, 10.003498912463744, 10.00295268261566, 10.002412396938277, 10.00204723257181, 10.001551581249162, 10.001151255407438, 10.000586072273071, 10.000136070057316, 9.999668325238353, 9.999190087038015, 9.998791431463552, 9.998771041756351, 9.998670665793917, 9.998857247629504, 9.999028136849235, 9.999059296395567, 9.999074824630783, 9.99914199801123, 9.99916444917015, 9.999231668791127, 9.999325243082037, 9.999354906774743, 9.999670906005383, 9.999998648111815, 10.000546531660973, 10.000803679493796, 10.00109137843663, 10.001591802604779, 10.001946837451852, 10.002365842218213, 10.002646009455864, 10.003173510410269, 10.003385463514306, 10.003846372609846, 10.003924382049268, 10.003873929152302, 10.004033476016733, 10.003890663304269, 10.004012222222512, 10.003979028979908, 10.003999935888608, 10.004044671870478, 10.004060531556462, 10.00407643832683, 10.004057263968802, 10.004192064396642, 10.004091124335881, 10.004114365438088, 10.004268979969478, 10.00424321943791, 10.004248301928136, 10.004187237915366, 10.004255282918516, 10.004285899455459, 10.004317669556787, 10.004256999551247, 10.004266512695738, 10.004174542579381, 10.004156545328831, 10.004291841177116, 10.004215824172585, 10.004127574311841, 10.00408536183228, 10.004026301191963, 10.004098922807534, 10.003954323559707, 10.00407368929045, 10.0039094551986, 10.004010043238877, 10.004220166274127, 10.004410193081208, 10.004388227410344, 10.004500421755152, 10.00470964290128, 10.00484897897068, 10.004980005491245, 10.005155588451528, 10.005259480130384, 10.005395402263083, 10.004911363830592, 10.004671190404608, 10.004356293427808, 10.003930552899785, 10.00368815471812, 10.003468192643918, 10.003027416007704, 10.002556605423607, 10.00240386392375, 10.001980092461022, 10.00167506441872, 10.001796427705644, 10.001934993322093, 10.001907750933288, 10.002017079912788, 10.002155710531584, 10.002047894364683, 10.002048197167118, 10.002182704811787, 10.002313943039843, 10.002439679268942, 10.002302878052841, 10.002588849408225, 10.002572443485512, 10.002491923107153, 10.002625465864865, 10.002742499377451, 10.002908330195835, 10.002819740744254, 10.003015515542648, 10.002957419572358, 10.002997925547541, 10.002976894319971, 10.00305134922294, 10.00315546594088, 10.003089692900318, 10.003249988289411, 10.003086390982313, 10.00318430238183, 10.003155631438327, 10.003117194542225, 10.003210609358872, 10.003149558946257, 10.003248638718471, 10.00327458784616, 10.00335871809592, 10.003245205362491, 10.003230430945836, 10.003320399856273, 10.003189602399207, 10.003286318640235, 10.003246421516462, 10.003144535865212, 10.003264535372503, 10.003233651448598, 10.003223415643692, 10.003256580177641, 10.003312257376098, 10.003124325983347, 10.003189638742498, 10.003168033133548, 10.003242938845492, 10.003188400265515, 10.003118398395708, 10.003134271383445, 10.003148892723917, 10.003078791170013, 10.003160865078591, 10.002970075427447, 10.002992821922481, 10.002709923610725, 10.002789144217022, 10.002646071968377, 10.002486904446037, 10.002382412894796, 10.002394024813773, 10.002268989641319, 10.002122714510259, 10.002003714860642, 10.001944466768787, 10.001951104473186, 10.001816202672739, 10.001847216147084, 10.001848017133876, 10.00164310186471, 10.001679732975312, 10.00158211225563, 10.001519938840477, 10.001329721663335, 10.00138586562749, 10.00146733932758, 10.00163241737343, 10.001856380402872, 10.001925158417276, 10.00203949248629, 10.002280538924571, 10.002362021930741, 10.002470190439466, 10.00258215100945, 10.00277123138914, 10.002876263535743, 10.002962892092613, 10.003068037163679, 10.003062511192539, 10.003134833648675, 10.002974439438523, 10.003164396076558, 10.003210420988133, 10.003098628504755, 10.003188893940747, 10.003208224530544, 10.00333471986452, 10.003252365759, 10.003357585224775, 10.003251176964906, 10.003180134890306, 10.003247520229445, 10.003206063713813, 10.003154954311231, 10.003122391238552, 10.003313385633387, 10.003230552545935, 10.003168296001556, 10.003086903976135, 10.003202318504849, 10.003243491565751, 10.003115888406528, 10.003314781354648, 10.003399989548244, 10.003277285925577, 10.003248911186208, 10.003373927324109, 10.003428574161644, 10.003278889753773, 10.003472419360945, 10.003451839274563, 10.003150702319829, 10.002962948248912, 10.002785862576252, 10.00257769433782, 10.002332099639807, 10.00219231141702, 10.0019270516626, 10.001750498968459, 10.001415033746204, 10.001244717464827, 10.00106132755441, 10.001090052634225, 10.001272673453698, 10.00123174628399, 10.00123178442797, 10.001299511097393, 10.00136590251444, 10.001365264468681, 10.001355517679393, 10.001553327148573, 10.001492147606426, 10.00154657180611, 10.001579771228693, 10.001698699319654, 10.001799978931007, 10.001698519367794, 10.001866355802871, 10.001810808407114, 10.001939586277391, 10.00193958348855, 10.002033187868923, 10.00201625841932, 10.00200215275405, 10.002206012548843, 10.00214864802945, 10.002137472788892, 10.002210227696533, 10.002338709336051, 10.00238186197935, 10.002355874485533, 10.00248684645901, 10.002422907864892, 10.00250871713993, 10.002618400494914, 10.002608463466672, 10.002626097418291, 10.00257706154768, 10.00273437062752, 10.002818849599349, 10.002758842415044, 10.002910983957612, 10.002966923208625, 10.00300147679071, 10.002917185640014, 10.003178046742711, 10.00311810293359, 10.003054004340308, 10.003139861802941, 10.003157550651702, 10.003311431086281, 10.003263375941955, 10.003369497701055, 10.003337371845516, 10.003553847611704, 10.003466579594166, 10.003544598317697, 10.003621544299923, 10.003692890787786, 10.003733673113056, 10.003630889524395, 10.003738707795415, 10.003806598158972, 10.003785341185022, 10.003954434530385, 10.003885690696702, 10.00409840548294, 10.003981670643391, 10.004069537161508, 10.004144463427522, 10.004191895088258, 10.004221240968477, 10.004202696312689, 10.004376851833255, 10.01303045766117, 10.028887514411675, 10.050929867088001, 10.072796112616567]}],\n",
              "                        {\"height\": 600, \"showlegend\": false, \"template\": {\"data\": {\"bar\": [{\"error_x\": {\"color\": \"#2a3f5f\"}, \"error_y\": {\"color\": \"#2a3f5f\"}, \"marker\": {\"line\": {\"color\": \"#E5ECF6\", \"width\": 0.5}}, \"type\": \"bar\"}], \"barpolar\": [{\"marker\": {\"line\": {\"color\": \"#E5ECF6\", \"width\": 0.5}}, \"type\": \"barpolar\"}], \"carpet\": [{\"aaxis\": {\"endlinecolor\": \"#2a3f5f\", \"gridcolor\": \"white\", \"linecolor\": \"white\", \"minorgridcolor\": \"white\", \"startlinecolor\": \"#2a3f5f\"}, \"baxis\": {\"endlinecolor\": \"#2a3f5f\", \"gridcolor\": \"white\", \"linecolor\": \"white\", \"minorgridcolor\": \"white\", \"startlinecolor\": \"#2a3f5f\"}, \"type\": \"carpet\"}], \"choropleth\": [{\"colorbar\": {\"outlinewidth\": 0, \"ticks\": \"\"}, \"type\": \"choropleth\"}], \"contour\": [{\"colorbar\": {\"outlinewidth\": 0, \"ticks\": \"\"}, \"colorscale\": [[0.0, \"#0d0887\"], [0.1111111111111111, \"#46039f\"], [0.2222222222222222, \"#7201a8\"], [0.3333333333333333, \"#9c179e\"], [0.4444444444444444, \"#bd3786\"], [0.5555555555555556, \"#d8576b\"], [0.6666666666666666, \"#ed7953\"], [0.7777777777777778, \"#fb9f3a\"], [0.8888888888888888, \"#fdca26\"], [1.0, \"#f0f921\"]], \"type\": \"contour\"}], \"contourcarpet\": [{\"colorbar\": {\"outlinewidth\": 0, \"ticks\": \"\"}, \"type\": \"contourcarpet\"}], \"heatmap\": [{\"colorbar\": {\"outlinewidth\": 0, \"ticks\": \"\"}, \"colorscale\": [[0.0, \"#0d0887\"], [0.1111111111111111, \"#46039f\"], [0.2222222222222222, \"#7201a8\"], [0.3333333333333333, \"#9c179e\"], [0.4444444444444444, \"#bd3786\"], [0.5555555555555556, \"#d8576b\"], [0.6666666666666666, \"#ed7953\"], [0.7777777777777778, \"#fb9f3a\"], [0.8888888888888888, \"#fdca26\"], [1.0, \"#f0f921\"]], \"type\": \"heatmap\"}], \"heatmapgl\": [{\"colorbar\": {\"outlinewidth\": 0, \"ticks\": \"\"}, \"colorscale\": [[0.0, \"#0d0887\"], [0.1111111111111111, \"#46039f\"], [0.2222222222222222, \"#7201a8\"], [0.3333333333333333, \"#9c179e\"], [0.4444444444444444, \"#bd3786\"], [0.5555555555555556, \"#d8576b\"], [0.6666666666666666, \"#ed7953\"], [0.7777777777777778, \"#fb9f3a\"], [0.8888888888888888, \"#fdca26\"], [1.0, \"#f0f921\"]], \"type\": \"heatmapgl\"}], \"histogram\": [{\"marker\": {\"colorbar\": {\"outlinewidth\": 0, \"ticks\": \"\"}}, \"type\": \"histogram\"}], \"histogram2d\": [{\"colorbar\": {\"outlinewidth\": 0, \"ticks\": \"\"}, \"colorscale\": [[0.0, \"#0d0887\"], [0.1111111111111111, \"#46039f\"], [0.2222222222222222, \"#7201a8\"], [0.3333333333333333, \"#9c179e\"], [0.4444444444444444, \"#bd3786\"], [0.5555555555555556, \"#d8576b\"], [0.6666666666666666, \"#ed7953\"], [0.7777777777777778, \"#fb9f3a\"], [0.8888888888888888, \"#fdca26\"], [1.0, \"#f0f921\"]], \"type\": \"histogram2d\"}], \"histogram2dcontour\": [{\"colorbar\": {\"outlinewidth\": 0, \"ticks\": \"\"}, \"colorscale\": [[0.0, \"#0d0887\"], [0.1111111111111111, \"#46039f\"], [0.2222222222222222, \"#7201a8\"], [0.3333333333333333, \"#9c179e\"], [0.4444444444444444, \"#bd3786\"], [0.5555555555555556, \"#d8576b\"], [0.6666666666666666, \"#ed7953\"], [0.7777777777777778, \"#fb9f3a\"], [0.8888888888888888, \"#fdca26\"], [1.0, \"#f0f921\"]], \"type\": \"histogram2dcontour\"}], \"mesh3d\": [{\"colorbar\": {\"outlinewidth\": 0, \"ticks\": \"\"}, \"type\": \"mesh3d\"}], \"parcoords\": [{\"line\": {\"colorbar\": {\"outlinewidth\": 0, \"ticks\": \"\"}}, \"type\": \"parcoords\"}], \"pie\": [{\"automargin\": true, \"type\": \"pie\"}], \"scatter\": [{\"marker\": {\"colorbar\": {\"outlinewidth\": 0, \"ticks\": \"\"}}, \"type\": \"scatter\"}], \"scatter3d\": [{\"line\": {\"colorbar\": {\"outlinewidth\": 0, \"ticks\": \"\"}}, \"marker\": {\"colorbar\": {\"outlinewidth\": 0, \"ticks\": \"\"}}, \"type\": \"scatter3d\"}], \"scattercarpet\": [{\"marker\": {\"colorbar\": {\"outlinewidth\": 0, \"ticks\": \"\"}}, \"type\": \"scattercarpet\"}], \"scattergeo\": [{\"marker\": {\"colorbar\": {\"outlinewidth\": 0, \"ticks\": \"\"}}, \"type\": \"scattergeo\"}], \"scattergl\": [{\"marker\": {\"colorbar\": {\"outlinewidth\": 0, \"ticks\": \"\"}}, \"type\": \"scattergl\"}], \"scattermapbox\": [{\"marker\": {\"colorbar\": {\"outlinewidth\": 0, \"ticks\": \"\"}}, \"type\": \"scattermapbox\"}], \"scatterpolar\": [{\"marker\": {\"colorbar\": {\"outlinewidth\": 0, \"ticks\": \"\"}}, \"type\": \"scatterpolar\"}], \"scatterpolargl\": [{\"marker\": {\"colorbar\": {\"outlinewidth\": 0, \"ticks\": \"\"}}, \"type\": \"scatterpolargl\"}], \"scatterternary\": [{\"marker\": {\"colorbar\": {\"outlinewidth\": 0, \"ticks\": \"\"}}, \"type\": \"scatterternary\"}], \"surface\": [{\"colorbar\": {\"outlinewidth\": 0, \"ticks\": \"\"}, \"colorscale\": [[0.0, \"#0d0887\"], [0.1111111111111111, \"#46039f\"], [0.2222222222222222, \"#7201a8\"], [0.3333333333333333, \"#9c179e\"], [0.4444444444444444, \"#bd3786\"], [0.5555555555555556, \"#d8576b\"], [0.6666666666666666, \"#ed7953\"], [0.7777777777777778, \"#fb9f3a\"], [0.8888888888888888, \"#fdca26\"], [1.0, \"#f0f921\"]], \"type\": \"surface\"}], \"table\": [{\"cells\": {\"fill\": {\"color\": \"#EBF0F8\"}, \"line\": {\"color\": \"white\"}}, \"header\": {\"fill\": {\"color\": \"#C8D4E3\"}, \"line\": {\"color\": \"white\"}}, \"type\": \"table\"}]}, \"layout\": {\"annotationdefaults\": {\"arrowcolor\": \"#2a3f5f\", \"arrowhead\": 0, \"arrowwidth\": 1}, \"coloraxis\": {\"colorbar\": {\"outlinewidth\": 0, \"ticks\": \"\"}}, \"colorscale\": {\"diverging\": [[0, \"#8e0152\"], [0.1, \"#c51b7d\"], [0.2, \"#de77ae\"], [0.3, \"#f1b6da\"], [0.4, \"#fde0ef\"], [0.5, \"#f7f7f7\"], [0.6, \"#e6f5d0\"], [0.7, \"#b8e186\"], [0.8, \"#7fbc41\"], [0.9, \"#4d9221\"], [1, \"#276419\"]], \"sequential\": [[0.0, \"#0d0887\"], [0.1111111111111111, \"#46039f\"], [0.2222222222222222, \"#7201a8\"], [0.3333333333333333, \"#9c179e\"], [0.4444444444444444, \"#bd3786\"], [0.5555555555555556, \"#d8576b\"], [0.6666666666666666, \"#ed7953\"], [0.7777777777777778, \"#fb9f3a\"], [0.8888888888888888, \"#fdca26\"], [1.0, \"#f0f921\"]], \"sequentialminus\": [[0.0, \"#0d0887\"], [0.1111111111111111, \"#46039f\"], [0.2222222222222222, \"#7201a8\"], [0.3333333333333333, \"#9c179e\"], [0.4444444444444444, \"#bd3786\"], [0.5555555555555556, \"#d8576b\"], [0.6666666666666666, \"#ed7953\"], [0.7777777777777778, \"#fb9f3a\"], [0.8888888888888888, \"#fdca26\"], [1.0, \"#f0f921\"]]}, \"colorway\": [\"#636efa\", \"#EF553B\", \"#00cc96\", \"#ab63fa\", \"#FFA15A\", \"#19d3f3\", \"#FF6692\", \"#B6E880\", \"#FF97FF\", \"#FECB52\"], \"font\": {\"color\": \"#2a3f5f\"}, \"geo\": {\"bgcolor\": \"white\", \"lakecolor\": \"white\", \"landcolor\": \"#E5ECF6\", \"showlakes\": true, \"showland\": true, \"subunitcolor\": \"white\"}, \"hoverlabel\": {\"align\": \"left\"}, \"hovermode\": \"closest\", \"mapbox\": {\"style\": \"light\"}, \"paper_bgcolor\": \"white\", \"plot_bgcolor\": \"#E5ECF6\", \"polar\": {\"angularaxis\": {\"gridcolor\": \"white\", \"linecolor\": \"white\", \"ticks\": \"\"}, \"bgcolor\": \"#E5ECF6\", \"radialaxis\": {\"gridcolor\": \"white\", \"linecolor\": \"white\", \"ticks\": \"\"}}, \"scene\": {\"xaxis\": {\"backgroundcolor\": \"#E5ECF6\", \"gridcolor\": \"white\", \"gridwidth\": 2, \"linecolor\": \"white\", \"showbackground\": true, \"ticks\": \"\", \"zerolinecolor\": \"white\"}, \"yaxis\": {\"backgroundcolor\": \"#E5ECF6\", \"gridcolor\": \"white\", \"gridwidth\": 2, \"linecolor\": \"white\", \"showbackground\": true, \"ticks\": \"\", \"zerolinecolor\": \"white\"}, \"zaxis\": {\"backgroundcolor\": \"#E5ECF6\", \"gridcolor\": \"white\", \"gridwidth\": 2, \"linecolor\": \"white\", \"showbackground\": true, \"ticks\": \"\", \"zerolinecolor\": \"white\"}}, \"shapedefaults\": {\"line\": {\"color\": \"#2a3f5f\"}}, \"ternary\": {\"aaxis\": {\"gridcolor\": \"white\", \"linecolor\": \"white\", \"ticks\": \"\"}, \"baxis\": {\"gridcolor\": \"white\", \"linecolor\": \"white\", \"ticks\": \"\"}, \"bgcolor\": \"#E5ECF6\", \"caxis\": {\"gridcolor\": \"white\", \"linecolor\": \"white\", \"ticks\": \"\"}}, \"title\": {\"x\": 0.05}, \"xaxis\": {\"automargin\": true, \"gridcolor\": \"white\", \"linecolor\": \"white\", \"ticks\": \"\", \"title\": {\"standoff\": 15}, \"zerolinecolor\": \"white\", \"zerolinewidth\": 2}, \"yaxis\": {\"automargin\": true, \"gridcolor\": \"white\", \"linecolor\": \"white\", \"ticks\": \"\", \"title\": {\"standoff\": 15}, \"zerolinecolor\": \"white\", \"zerolinewidth\": 2}}}, \"width\": 900, \"xaxis\": {\"rangeselector\": {\"buttons\": [{\"count\": 7, \"label\": \"1w\", \"step\": \"day\", \"stepmode\": \"backward\"}, {\"count\": 1, \"label\": \"1m\", \"step\": \"month\", \"stepmode\": \"backward\"}, {\"count\": 6, \"label\": \"6m\", \"step\": \"month\", \"stepmode\": \"backward\"}, {\"count\": 1, \"label\": \"1y\", \"step\": \"year\", \"stepmode\": \"backward\"}, {\"step\": \"all\"}]}, \"rangeslider\": {\"visible\": true}, \"title\": {\"text\": \"ds\"}, \"type\": \"date\"}, \"yaxis\": {\"title\": {\"text\": \"y\"}}},\n",
              "                        {\"responsive\": true}\n",
              "                    ).then(function(){\n",
              "                            \n",
              "var gd = document.getElementById('48cdb442-866c-41e6-ac31-3e8c0aae14f2');\n",
              "var x = new MutationObserver(function (mutations, observer) {{\n",
              "        var display = window.getComputedStyle(gd).display;\n",
              "        if (!display || display === 'none') {{\n",
              "            console.log([gd, 'removed!']);\n",
              "            Plotly.purge(gd);\n",
              "            observer.disconnect();\n",
              "        }}\n",
              "}});\n",
              "\n",
              "// Listen for the removal of the full notebook cells\n",
              "var notebookContainer = gd.closest('#notebook-container');\n",
              "if (notebookContainer) {{\n",
              "    x.observe(notebookContainer, {childList: true});\n",
              "}}\n",
              "\n",
              "// Listen for the clearing of the current output cell\n",
              "var outputEl = gd.closest('.output');\n",
              "if (outputEl) {{\n",
              "    x.observe(outputEl, {childList: true});\n",
              "}}\n",
              "\n",
              "                        })\n",
              "                };\n",
              "                \n",
              "            </script>\n",
              "        </div>\n",
              "</body>\n",
              "</html>"
            ]
          },
          "metadata": {
            "tags": []
          }
        }
      ]
    },
    {
      "cell_type": "code",
      "metadata": {
        "id": "ojKV08QLywIU",
        "colab_type": "code",
        "colab": {
          "base_uri": "https://localhost:8080/",
          "height": 437
        },
        "outputId": "7cd33207-7c37-4412-8e90-686474723c5e"
      },
      "source": [
        "model.plot_components(forecast)\n",
        "plt.show()"
      ],
      "execution_count": null,
      "outputs": [
        {
          "output_type": "display_data",
          "data": {
            "image/png": "[encoded data removed]",
            "text/plain": [
              "<Figure size 648x432 with 2 Axes>"
            ]
          },
          "metadata": {
            "tags": []
          }
        }
      ]
    },
    {
      "cell_type": "markdown",
      "metadata": {
        "id": "DGAiSzVvX3js",
        "colab_type": "text"
      },
      "source": [
        "## LSTM predict"
      ]
    },
    {
      "cell_type": "code",
      "metadata": {
        "id": "SDpPP4HdY1sP",
        "colab_type": "code",
        "colab": {}
      },
      "source": [
        "# univariate mlp example\n",
        "import warnings\n",
        "from numpy import array\n",
        "import matplotlib.pyplot as plt\n",
        "from keras import optimizers\n",
        "from keras.utils import plot_model\n",
        "from keras.models import Sequential, Model\n",
        "from keras.layers.convolutional import Conv1D, MaxPooling1D\n",
        "from keras.layers import Dense, LSTM, RepeatVector, TimeDistributed, Flatten\n",
        "from keras.layers import RepeatVector,TimeDistributed # For LSTM\n",
        "from keras.optimizers import Adam\n",
        "from keras import regularizers\n",
        "from keras.callbacks import EarlyStopping, ModelCheckpoint\n",
        "from keras.wrappers.scikit_learn import KerasClassifier\n",
        "from keras.regularizers import l1\n",
        "from keras.regularizers import l2\n",
        "from keras.regularizers import l1_l2\n",
        "from keras.layers import Dropout\n",
        "from keras.layers import Activation\n",
        "from keras.layers import Dense\n",
        "from keras.metrics import categorical_crossentropy\n",
        "\n",
        "from sklearn.metrics import mean_squared_error\n",
        "from sklearn.model_selection import train_test_split\n",
        "from sklearn.preprocessing import MinMaxScaler,StandardScaler"
      ],
      "execution_count": null,
      "outputs": []
    },
    {
      "cell_type": "markdown",
      "metadata": {
        "id": "lGw8VL7ka24H",
        "colab_type": "text"
      },
      "source": [
        "### Many to many (not split)"
      ]
    },
    {
      "cell_type": "code",
      "metadata": {
        "id": "ajAphXMly9iH",
        "colab_type": "code",
        "colab": {
          "base_uri": "https://localhost:8080/",
          "height": 204
        },
        "outputId": "d8fb2af9-e05a-49d3-ef57-8c2c2d033c67"
      },
      "source": [
        "df.head()"
      ],
      "execution_count": null,
      "outputs": [
        {
          "output_type": "execute_result",
          "data": {
            "text/html": [
              "<div>\n",
              "<style scoped>\n",
              "    .dataframe tbody tr th:only-of-type {\n",
              "        vertical-align: middle;\n",
              "    }\n",
              "\n",
              "    .dataframe tbody tr th {\n",
              "        vertical-align: top;\n",
              "    }\n",
              "\n",
              "    .dataframe thead th {\n",
              "        text-align: right;\n",
              "    }\n",
              "</style>\n",
              "<table border=\"1\" class=\"dataframe\">\n",
              "  <thead>\n",
              "    <tr style=\"text-align: right;\">\n",
              "      <th></th>\n",
              "      <th>Datef</th>\n",
              "      <th>C-Pitch</th>\n",
              "    </tr>\n",
              "  </thead>\n",
              "  <tbody>\n",
              "    <tr>\n",
              "      <th>0</th>\n",
              "      <td>2019-01-11</td>\n",
              "      <td>10.004</td>\n",
              "    </tr>\n",
              "    <tr>\n",
              "      <th>1</th>\n",
              "      <td>2019-01-22</td>\n",
              "      <td>10.001</td>\n",
              "    </tr>\n",
              "    <tr>\n",
              "      <th>2</th>\n",
              "      <td>2019-01-26</td>\n",
              "      <td>10.002</td>\n",
              "    </tr>\n",
              "    <tr>\n",
              "      <th>3</th>\n",
              "      <td>2019-01-31</td>\n",
              "      <td>10.003</td>\n",
              "    </tr>\n",
              "    <tr>\n",
              "      <th>4</th>\n",
              "      <td>2019-02-11</td>\n",
              "      <td>10.003</td>\n",
              "    </tr>\n",
              "  </tbody>\n",
              "</table>\n",
              "</div>"
            ],
            "text/plain": [
              "       Datef  C-Pitch\n",
              "0 2019-01-11   10.004\n",
              "1 2019-01-22   10.001\n",
              "2 2019-01-26   10.002\n",
              "3 2019-01-31   10.003\n",
              "4 2019-02-11   10.003"
            ]
          },
          "metadata": {
            "tags": []
          },
          "execution_count": 102
        }
      ]
    },
    {
      "cell_type": "code",
      "metadata": {
        "id": "2mMnY7USeUZc",
        "colab_type": "code",
        "colab": {
          "base_uri": "https://localhost:8080/",
          "height": 252
        },
        "outputId": "2e5f6b7a-7e5d-4656-ad63-4bd91433432a"
      },
      "source": [
        "df_lstm=df.set_index('Datef')\n",
        "print(df_lstm.shape)\n",
        "df_lstm.head()"
      ],
      "execution_count": null,
      "outputs": [
        {
          "output_type": "stream",
          "text": [
            "(28, 1)\n"
          ],
          "name": "stdout"
        },
        {
          "output_type": "execute_result",
          "data": {
            "text/html": [
              "<div>\n",
              "<style scoped>\n",
              "    .dataframe tbody tr th:only-of-type {\n",
              "        vertical-align: middle;\n",
              "    }\n",
              "\n",
              "    .dataframe tbody tr th {\n",
              "        vertical-align: top;\n",
              "    }\n",
              "\n",
              "    .dataframe thead th {\n",
              "        text-align: right;\n",
              "    }\n",
              "</style>\n",
              "<table border=\"1\" class=\"dataframe\">\n",
              "  <thead>\n",
              "    <tr style=\"text-align: right;\">\n",
              "      <th></th>\n",
              "      <th>C-Pitch</th>\n",
              "    </tr>\n",
              "    <tr>\n",
              "      <th>Datef</th>\n",
              "      <th></th>\n",
              "    </tr>\n",
              "  </thead>\n",
              "  <tbody>\n",
              "    <tr>\n",
              "      <th>2019-01-11</th>\n",
              "      <td>10.004</td>\n",
              "    </tr>\n",
              "    <tr>\n",
              "      <th>2019-01-22</th>\n",
              "      <td>10.001</td>\n",
              "    </tr>\n",
              "    <tr>\n",
              "      <th>2019-01-26</th>\n",
              "      <td>10.002</td>\n",
              "    </tr>\n",
              "    <tr>\n",
              "      <th>2019-01-31</th>\n",
              "      <td>10.003</td>\n",
              "    </tr>\n",
              "    <tr>\n",
              "      <th>2019-02-11</th>\n",
              "      <td>10.003</td>\n",
              "    </tr>\n",
              "  </tbody>\n",
              "</table>\n",
              "</div>"
            ],
            "text/plain": [
              "            C-Pitch\n",
              "Datef              \n",
              "2019-01-11   10.004\n",
              "2019-01-22   10.001\n",
              "2019-01-26   10.002\n",
              "2019-01-31   10.003\n",
              "2019-02-11   10.003"
            ]
          },
          "metadata": {
            "tags": []
          },
          "execution_count": 186
        }
      ]
    },
    {
      "cell_type": "code",
      "metadata": {
        "id": "vPd2FKcodrQi",
        "colab_type": "code",
        "colab": {}
      },
      "source": [
        "# Define important value\n",
        "split=int(len(df_lstm) * 0.70)\n",
        "column=0"
      ],
      "execution_count": null,
      "outputs": []
    },
    {
      "cell_type": "code",
      "metadata": {
        "id": "G_pyvoNzfkk8",
        "colab_type": "code",
        "colab": {}
      },
      "source": [
        "# split a univariate sequence into samples\n",
        "def split_sequence(sequence, n_steps_in, n_steps_out):\n",
        "\tX, y = list(), list()\n",
        "\tfor i in range(len(sequence)):\n",
        "\t\t# find the end of this pattern\n",
        "\t\tend_ix = i + n_steps_in\n",
        "\t\tout_end_ix = end_ix + n_steps_out\n",
        "\t\t# check if we are beyond the sequence\n",
        "\t\tif out_end_ix > len(sequence):\n",
        "\t\t\tbreak\n",
        "\t\t# gather input and output parts of the pattern\n",
        "\t\tseq_x, seq_y = sequence[i:end_ix], sequence[end_ix:out_end_ix]\n",
        "\t\tX.append(seq_x)\n",
        "\t\ty.append(seq_y)\n",
        "\treturn array(X), array(y)"
      ],
      "execution_count": null,
      "outputs": []
    },
    {
      "cell_type": "code",
      "metadata": {
        "id": "XXa9Jf-EhTuZ",
        "colab_type": "code",
        "colab": {
          "base_uri": "https://localhost:8080/",
          "height": 289
        },
        "outputId": "7f7c4b07-c776-4e54-f313-a1f159024225"
      },
      "source": [
        "# choose a number of time steps\n",
        "n_steps_in, n_steps_out = 10, 3\n",
        "raw_seq=df_lstm['C-Pitch']\n",
        "# split into samples\n",
        "X, y = split_sequence(raw_seq, n_steps_in, n_steps_out)\n",
        "# summarize the data\n",
        "for i in range(len(X)):\n",
        "\tprint(X[i], y[i])"
      ],
      "execution_count": null,
      "outputs": [
        {
          "output_type": "stream",
          "text": [
            "[10.004 10.001 10.002 10.003 10.003 10.002 10.003 10.002  9.998 10.002] [10.003 10.004 10.001]\n",
            "[10.001 10.002 10.003 10.003 10.002 10.003 10.002  9.998 10.002 10.003] [10.004 10.001 10.   ]\n",
            "[10.002 10.003 10.003 10.002 10.003 10.002  9.998 10.002 10.003 10.004] [10.001 10.    10.002]\n",
            "[10.003 10.003 10.002 10.003 10.002  9.998 10.002 10.003 10.004 10.001] [10.    10.002 10.001]\n",
            "[10.003 10.002 10.003 10.002  9.998 10.002 10.003 10.004 10.001 10.   ] [10.002 10.001 10.002]\n",
            "[10.002 10.003 10.002  9.998 10.002 10.003 10.004 10.001 10.    10.002] [10.001 10.002 10.001]\n",
            "[10.003 10.002  9.998 10.002 10.003 10.004 10.001 10.    10.002 10.001] [10.002 10.001 10.   ]\n",
            "[10.002  9.998 10.002 10.003 10.004 10.001 10.    10.002 10.001 10.002] [10.001 10.    10.001]\n",
            "[ 9.998 10.002 10.003 10.004 10.001 10.    10.002 10.001 10.002 10.001] [10.    10.001 10.002]\n",
            "[10.002 10.003 10.004 10.001 10.    10.002 10.001 10.002 10.001 10.   ] [10.001 10.002 10.   ]\n",
            "[10.003 10.004 10.001 10.    10.002 10.001 10.002 10.001 10.    10.001] [10.002 10.    10.   ]\n",
            "[10.004 10.001 10.    10.002 10.001 10.002 10.001 10.    10.001 10.002] [10.    10.    10.002]\n",
            "[10.001 10.    10.002 10.001 10.002 10.001 10.    10.001 10.002 10.   ] [10.    10.002 10.   ]\n",
            "[10.    10.002 10.001 10.002 10.001 10.    10.001 10.002 10.    10.   ] [10.002 10.    10.003]\n",
            "[10.002 10.001 10.002 10.001 10.    10.001 10.002 10.    10.    10.002] [10.    10.003 10.003]\n",
            "[10.001 10.002 10.001 10.    10.001 10.002 10.    10.    10.002 10.   ] [10.003 10.003  9.999]\n"
          ],
          "name": "stdout"
        }
      ]
    },
    {
      "cell_type": "code",
      "metadata": {
        "id": "baU8aD8xtORI",
        "colab_type": "code",
        "colab": {
          "base_uri": "https://localhost:8080/",
          "height": 34
        },
        "outputId": "190dd93c-628c-40dc-8d75-29a2638447b0"
      },
      "source": [
        "y.shape"
      ],
      "execution_count": null,
      "outputs": [
        {
          "output_type": "execute_result",
          "data": {
            "text/plain": [
              "(16, 3)"
            ]
          },
          "metadata": {
            "tags": []
          },
          "execution_count": 190
        }
      ]
    },
    {
      "cell_type": "code",
      "metadata": {
        "id": "G-e660hhiW4S",
        "colab_type": "code",
        "colab": {
          "base_uri": "https://localhost:8080/",
          "height": 34
        },
        "outputId": "2a3928ac-ca82-4359-f250-7890412d8fa9"
      },
      "source": [
        "# reshape from [samples, timesteps] into [samples, timesteps, features]\n",
        "n_features = 1\n",
        "X = X.reshape((X.shape[0], X.shape[1], n_features))\n",
        "X.shape"
      ],
      "execution_count": null,
      "outputs": [
        {
          "output_type": "execute_result",
          "data": {
            "text/plain": [
              "(16, 10, 1)"
            ]
          },
          "metadata": {
            "tags": []
          },
          "execution_count": 201
        }
      ]
    },
    {
      "cell_type": "markdown",
      "metadata": {
        "id": "p7kr9bQAxFeX",
        "colab_type": "text"
      },
      "source": [
        "- Mean Squared Error: mean_squared_error, MSE or mse\n",
        "- Mean Absolute Error: mean_absolute_error, MAE, mae\n",
        "- Mean Absolute Percentage Error: mean_absolute_percentage_error, MAPE, mape"
      ]
    },
    {
      "cell_type": "code",
      "metadata": {
        "id": "4vtUZEMahdbT",
        "colab_type": "code",
        "colab": {
          "base_uri": "https://localhost:8080/",
          "height": 255
        },
        "outputId": "059a481b-0486-4666-82cc-9f9f33b69222"
      },
      "source": [
        "from keras import backend\n",
        " \n",
        "def rmse(y_true, y_pred):\n",
        "\treturn backend.sqrt(backend.mean(backend.square(y_pred - y_true), axis=-1))\n",
        "# define model\n",
        "model = Sequential()\n",
        "model.add(LSTM(100, activation='relu', return_sequences=True, input_shape=(n_steps_in, n_features)))\n",
        "model.add(LSTM(100, activation='relu'))\n",
        "model.add(Dense(n_steps_out))\n",
        "model.compile(optimizer='adam', loss='mse',metrics=['mse','mae','mape',rmse])\n",
        "model.summary()\n"
      ],
      "execution_count": null,
      "outputs": [
        {
          "output_type": "stream",
          "text": [
            "Model: \"sequential_12\"\n",
            "_________________________________________________________________\n",
            "Layer (type)                 Output Shape              Param #   \n",
            "=================================================================\n",
            "lstm_23 (LSTM)               (None, 10, 100)           40800     \n",
            "_________________________________________________________________\n",
            "lstm_24 (LSTM)               (None, 100)               80400     \n",
            "_________________________________________________________________\n",
            "dense_12 (Dense)             (None, 3)                 303       \n",
            "=================================================================\n",
            "Total params: 121,503\n",
            "Trainable params: 121,503\n",
            "Non-trainable params: 0\n",
            "_________________________________________________________________\n"
          ],
          "name": "stdout"
        }
      ]
    },
    {
      "cell_type": "code",
      "metadata": {
        "id": "hU9TFymswbi4",
        "colab_type": "code",
        "colab": {}
      },
      "source": [
        "# Fitting to the training set\n",
        "callbacks = [EarlyStopping(monitor=\"val_loss\", patience=3, \n",
        "                           mode='min',restore_best_weights=True),\n",
        "            #ModelCheckpoint(filepath=\"best_model.h5\",monitor=\"val_loss\",\n",
        "             #               save_best_only=True)\n",
        "            ]\n",
        "\n",
        "history=model.fit(X,y,validation_split=0.2,epochs=100,verbose=0)"
      ],
      "execution_count": null,
      "outputs": []
    },
    {
      "cell_type": "code",
      "metadata": {
        "id": "hcjUhXdFwtsC",
        "colab_type": "code",
        "colab": {
          "base_uri": "https://localhost:8080/",
          "height": 286
        },
        "outputId": "ea2cf098-0fc5-4702-f18a-5124200104d0"
      },
      "source": [
        "plt.plot(history.history['rmse'])"
      ],
      "execution_count": null,
      "outputs": [
        {
          "output_type": "execute_result",
          "data": {
            "text/plain": [
              "[<matplotlib.lines.Line2D at 0x7f85f5e3d6d8>]"
            ]
          },
          "metadata": {
            "tags": []
          },
          "execution_count": 204
        },
        {
          "output_type": "display_data",
          "data": {
            "image/png": "[encoded data removed]",
            "text/plain": [
              "<Figure size 432x288 with 1 Axes>"
            ]
          },
          "metadata": {
            "tags": []
          }
        }
      ]
    },
    {
      "cell_type": "code",
      "metadata": {
        "id": "_z6DvIaczZyV",
        "colab_type": "code",
        "colab": {
          "base_uri": "https://localhost:8080/",
          "height": 204
        },
        "outputId": "f5ac660e-d8db-4847-b86b-743fe3df7310"
      },
      "source": [
        "# demonstrate prediction\n",
        "#x_input = array([10.002, 10.001, 10.003,10.002,10.004])\n",
        "#x_input = x_input.reshape((1, n_steps_in, n_features))\n",
        "x_input=X[-1:]\n",
        "print(x_input)\n",
        "yhat = model.predict(x_input, verbose=0)\n",
        "print(yhat)"
      ],
      "execution_count": null,
      "outputs": [
        {
          "output_type": "stream",
          "text": [
            "[[[10.001]\n",
            "  [10.002]\n",
            "  [10.001]\n",
            "  [10.   ]\n",
            "  [10.001]\n",
            "  [10.002]\n",
            "  [10.   ]\n",
            "  [10.   ]\n",
            "  [10.002]\n",
            "  [10.   ]]]\n",
            "[[ 9.989668 10.006854 10.011439]]\n"
          ],
          "name": "stdout"
        }
      ]
    },
    {
      "cell_type": "code",
      "metadata": {
        "id": "hxxBx4nNz1lt",
        "colab_type": "code",
        "colab": {}
      },
      "source": [
        ""
      ],
      "execution_count": null,
      "outputs": []
    },
    {
      "cell_type": "code",
      "metadata": {
        "id": "Gzgt0JSR1ZMU",
        "colab_type": "code",
        "colab": {}
      },
      "source": [
        ""
      ],
      "execution_count": null,
      "outputs": []
    },
    {
      "cell_type": "markdown",
      "metadata": {
        "colab_type": "text",
        "id": "gpv11e8V1Zqh"
      },
      "source": [
        "### Many to many (split train/test)"
      ]
    },
    {
      "cell_type": "code",
      "metadata": {
        "id": "Agh8RcCV_Hhx",
        "colab_type": "code",
        "colab": {
          "base_uri": "https://localhost:8080/",
          "height": 34
        },
        "outputId": "55ac7285-24a3-4dbb-85b4-6544c8bfad63"
      },
      "source": [
        "DFdict_final.keys()"
      ],
      "execution_count": 213,
      "outputs": [
        {
          "output_type": "execute_result",
          "data": {
            "text/plain": [
              "dict_keys(['C-Pitch', 'J', 'I', 'O', 'Z'])"
            ]
          },
          "metadata": {
            "tags": []
          },
          "execution_count": 213
        }
      ]
    },
    {
      "cell_type": "code",
      "metadata": {
        "id": "DAs-pRq8_xpE",
        "colab_type": "code",
        "colab": {
          "base_uri": "https://localhost:8080/",
          "height": 917
        },
        "outputId": "3f72d9c8-0f70-4f00-9b2e-6fd099c7f814"
      },
      "source": [
        "def get_nth_key(dictionary, n=0):\n",
        "    if n < 0:\n",
        "        n += len(dictionary)\n",
        "    for i, key in enumerate(dictionary.keys()):\n",
        "        if i == n:\n",
        "            return key\n",
        "    raise IndexError(\"dictionary index out of range\") \n",
        "\n",
        "df = get_nth_key(DFdict_final,0)\n",
        "df = DFdict_final[first_key]\n",
        "df"
      ],
      "execution_count": 227,
      "outputs": [
        {
          "output_type": "execute_result",
          "data": {
            "text/html": [
              "<div>\n",
              "<style scoped>\n",
              "    .dataframe tbody tr th:only-of-type {\n",
              "        vertical-align: middle;\n",
              "    }\n",
              "\n",
              "    .dataframe tbody tr th {\n",
              "        vertical-align: top;\n",
              "    }\n",
              "\n",
              "    .dataframe thead th {\n",
              "        text-align: right;\n",
              "    }\n",
              "</style>\n",
              "<table border=\"1\" class=\"dataframe\">\n",
              "  <thead>\n",
              "    <tr style=\"text-align: right;\">\n",
              "      <th></th>\n",
              "      <th>Datef</th>\n",
              "      <th>C-Pitch</th>\n",
              "      <th>USL</th>\n",
              "      <th>LSL</th>\n",
              "      <th>Nominal</th>\n",
              "      <th>UCL</th>\n",
              "      <th>LCL</th>\n",
              "      <th>mean</th>\n",
              "    </tr>\n",
              "  </thead>\n",
              "  <tbody>\n",
              "    <tr>\n",
              "      <th>0</th>\n",
              "      <td>2019-01-11</td>\n",
              "      <td>10.004</td>\n",
              "      <td>10.01</td>\n",
              "      <td>9.99</td>\n",
              "      <td>10.0</td>\n",
              "      <td>10.006001</td>\n",
              "      <td>9.997142</td>\n",
              "      <td>10.001571</td>\n",
              "    </tr>\n",
              "    <tr>\n",
              "      <th>1</th>\n",
              "      <td>2019-01-22</td>\n",
              "      <td>10.001</td>\n",
              "      <td>10.01</td>\n",
              "      <td>9.99</td>\n",
              "      <td>10.0</td>\n",
              "      <td>10.006001</td>\n",
              "      <td>9.997142</td>\n",
              "      <td>10.001571</td>\n",
              "    </tr>\n",
              "    <tr>\n",
              "      <th>2</th>\n",
              "      <td>2019-01-26</td>\n",
              "      <td>10.002</td>\n",
              "      <td>10.01</td>\n",
              "      <td>9.99</td>\n",
              "      <td>10.0</td>\n",
              "      <td>10.006001</td>\n",
              "      <td>9.997142</td>\n",
              "      <td>10.001571</td>\n",
              "    </tr>\n",
              "    <tr>\n",
              "      <th>3</th>\n",
              "      <td>2019-01-31</td>\n",
              "      <td>10.003</td>\n",
              "      <td>10.01</td>\n",
              "      <td>9.99</td>\n",
              "      <td>10.0</td>\n",
              "      <td>10.006001</td>\n",
              "      <td>9.997142</td>\n",
              "      <td>10.001571</td>\n",
              "    </tr>\n",
              "    <tr>\n",
              "      <th>4</th>\n",
              "      <td>2019-02-11</td>\n",
              "      <td>10.003</td>\n",
              "      <td>10.01</td>\n",
              "      <td>9.99</td>\n",
              "      <td>10.0</td>\n",
              "      <td>10.006001</td>\n",
              "      <td>9.997142</td>\n",
              "      <td>10.001571</td>\n",
              "    </tr>\n",
              "    <tr>\n",
              "      <th>5</th>\n",
              "      <td>2019-02-22</td>\n",
              "      <td>10.002</td>\n",
              "      <td>10.01</td>\n",
              "      <td>9.99</td>\n",
              "      <td>10.0</td>\n",
              "      <td>10.006001</td>\n",
              "      <td>9.997142</td>\n",
              "      <td>10.001571</td>\n",
              "    </tr>\n",
              "    <tr>\n",
              "      <th>6</th>\n",
              "      <td>2019-02-27</td>\n",
              "      <td>10.003</td>\n",
              "      <td>10.01</td>\n",
              "      <td>9.99</td>\n",
              "      <td>10.0</td>\n",
              "      <td>10.006001</td>\n",
              "      <td>9.997142</td>\n",
              "      <td>10.001571</td>\n",
              "    </tr>\n",
              "    <tr>\n",
              "      <th>7</th>\n",
              "      <td>2019-03-07</td>\n",
              "      <td>10.002</td>\n",
              "      <td>10.01</td>\n",
              "      <td>9.99</td>\n",
              "      <td>10.0</td>\n",
              "      <td>10.006001</td>\n",
              "      <td>9.997142</td>\n",
              "      <td>10.001571</td>\n",
              "    </tr>\n",
              "    <tr>\n",
              "      <th>8</th>\n",
              "      <td>2019-03-15</td>\n",
              "      <td>9.998</td>\n",
              "      <td>10.01</td>\n",
              "      <td>9.99</td>\n",
              "      <td>10.0</td>\n",
              "      <td>10.006001</td>\n",
              "      <td>9.997142</td>\n",
              "      <td>10.001571</td>\n",
              "    </tr>\n",
              "    <tr>\n",
              "      <th>9</th>\n",
              "      <td>2019-04-05</td>\n",
              "      <td>10.002</td>\n",
              "      <td>10.01</td>\n",
              "      <td>9.99</td>\n",
              "      <td>10.0</td>\n",
              "      <td>10.006001</td>\n",
              "      <td>9.997142</td>\n",
              "      <td>10.001571</td>\n",
              "    </tr>\n",
              "    <tr>\n",
              "      <th>10</th>\n",
              "      <td>2019-04-16</td>\n",
              "      <td>10.003</td>\n",
              "      <td>10.01</td>\n",
              "      <td>9.99</td>\n",
              "      <td>10.0</td>\n",
              "      <td>10.006001</td>\n",
              "      <td>9.997142</td>\n",
              "      <td>10.001571</td>\n",
              "    </tr>\n",
              "    <tr>\n",
              "      <th>11</th>\n",
              "      <td>2019-05-27</td>\n",
              "      <td>10.004</td>\n",
              "      <td>10.01</td>\n",
              "      <td>9.99</td>\n",
              "      <td>10.0</td>\n",
              "      <td>10.006001</td>\n",
              "      <td>9.997142</td>\n",
              "      <td>10.001571</td>\n",
              "    </tr>\n",
              "    <tr>\n",
              "      <th>12</th>\n",
              "      <td>2019-06-03</td>\n",
              "      <td>10.001</td>\n",
              "      <td>10.01</td>\n",
              "      <td>9.99</td>\n",
              "      <td>10.0</td>\n",
              "      <td>10.006001</td>\n",
              "      <td>9.997142</td>\n",
              "      <td>10.001571</td>\n",
              "    </tr>\n",
              "    <tr>\n",
              "      <th>13</th>\n",
              "      <td>2019-06-10</td>\n",
              "      <td>10.000</td>\n",
              "      <td>10.01</td>\n",
              "      <td>9.99</td>\n",
              "      <td>10.0</td>\n",
              "      <td>10.006001</td>\n",
              "      <td>9.997142</td>\n",
              "      <td>10.001571</td>\n",
              "    </tr>\n",
              "    <tr>\n",
              "      <th>14</th>\n",
              "      <td>2019-06-17</td>\n",
              "      <td>10.002</td>\n",
              "      <td>10.01</td>\n",
              "      <td>9.99</td>\n",
              "      <td>10.0</td>\n",
              "      <td>10.006001</td>\n",
              "      <td>9.997142</td>\n",
              "      <td>10.001571</td>\n",
              "    </tr>\n",
              "    <tr>\n",
              "      <th>15</th>\n",
              "      <td>2019-06-25</td>\n",
              "      <td>10.001</td>\n",
              "      <td>10.01</td>\n",
              "      <td>9.99</td>\n",
              "      <td>10.0</td>\n",
              "      <td>10.006001</td>\n",
              "      <td>9.997142</td>\n",
              "      <td>10.001571</td>\n",
              "    </tr>\n",
              "    <tr>\n",
              "      <th>16</th>\n",
              "      <td>2019-06-28</td>\n",
              "      <td>10.002</td>\n",
              "      <td>10.01</td>\n",
              "      <td>9.99</td>\n",
              "      <td>10.0</td>\n",
              "      <td>10.006001</td>\n",
              "      <td>9.997142</td>\n",
              "      <td>10.001571</td>\n",
              "    </tr>\n",
              "    <tr>\n",
              "      <th>17</th>\n",
              "      <td>2019-08-07</td>\n",
              "      <td>10.001</td>\n",
              "      <td>10.01</td>\n",
              "      <td>9.99</td>\n",
              "      <td>10.0</td>\n",
              "      <td>10.006001</td>\n",
              "      <td>9.997142</td>\n",
              "      <td>10.001571</td>\n",
              "    </tr>\n",
              "    <tr>\n",
              "      <th>18</th>\n",
              "      <td>2019-08-19</td>\n",
              "      <td>10.000</td>\n",
              "      <td>10.01</td>\n",
              "      <td>9.99</td>\n",
              "      <td>10.0</td>\n",
              "      <td>10.006001</td>\n",
              "      <td>9.997142</td>\n",
              "      <td>10.001571</td>\n",
              "    </tr>\n",
              "    <tr>\n",
              "      <th>19</th>\n",
              "      <td>2019-08-26</td>\n",
              "      <td>10.001</td>\n",
              "      <td>10.01</td>\n",
              "      <td>9.99</td>\n",
              "      <td>10.0</td>\n",
              "      <td>10.006001</td>\n",
              "      <td>9.997142</td>\n",
              "      <td>10.001571</td>\n",
              "    </tr>\n",
              "    <tr>\n",
              "      <th>20</th>\n",
              "      <td>2019-09-05</td>\n",
              "      <td>10.002</td>\n",
              "      <td>10.01</td>\n",
              "      <td>9.99</td>\n",
              "      <td>10.0</td>\n",
              "      <td>10.006001</td>\n",
              "      <td>9.997142</td>\n",
              "      <td>10.001571</td>\n",
              "    </tr>\n",
              "    <tr>\n",
              "      <th>21</th>\n",
              "      <td>2019-10-17</td>\n",
              "      <td>10.000</td>\n",
              "      <td>10.01</td>\n",
              "      <td>9.99</td>\n",
              "      <td>10.0</td>\n",
              "      <td>10.006001</td>\n",
              "      <td>9.997142</td>\n",
              "      <td>10.001571</td>\n",
              "    </tr>\n",
              "    <tr>\n",
              "      <th>22</th>\n",
              "      <td>2019-11-01</td>\n",
              "      <td>10.000</td>\n",
              "      <td>10.01</td>\n",
              "      <td>9.99</td>\n",
              "      <td>10.0</td>\n",
              "      <td>10.006001</td>\n",
              "      <td>9.997142</td>\n",
              "      <td>10.001571</td>\n",
              "    </tr>\n",
              "    <tr>\n",
              "      <th>23</th>\n",
              "      <td>2019-11-13</td>\n",
              "      <td>10.002</td>\n",
              "      <td>10.01</td>\n",
              "      <td>9.99</td>\n",
              "      <td>10.0</td>\n",
              "      <td>10.006001</td>\n",
              "      <td>9.997142</td>\n",
              "      <td>10.001571</td>\n",
              "    </tr>\n",
              "    <tr>\n",
              "      <th>24</th>\n",
              "      <td>2019-12-05</td>\n",
              "      <td>10.000</td>\n",
              "      <td>10.01</td>\n",
              "      <td>9.99</td>\n",
              "      <td>10.0</td>\n",
              "      <td>10.006001</td>\n",
              "      <td>9.997142</td>\n",
              "      <td>10.001571</td>\n",
              "    </tr>\n",
              "    <tr>\n",
              "      <th>25</th>\n",
              "      <td>2019-12-10</td>\n",
              "      <td>10.003</td>\n",
              "      <td>10.01</td>\n",
              "      <td>9.99</td>\n",
              "      <td>10.0</td>\n",
              "      <td>10.006001</td>\n",
              "      <td>9.997142</td>\n",
              "      <td>10.001571</td>\n",
              "    </tr>\n",
              "    <tr>\n",
              "      <th>26</th>\n",
              "      <td>2019-12-26</td>\n",
              "      <td>10.003</td>\n",
              "      <td>10.01</td>\n",
              "      <td>9.99</td>\n",
              "      <td>10.0</td>\n",
              "      <td>10.006001</td>\n",
              "      <td>9.997142</td>\n",
              "      <td>10.001571</td>\n",
              "    </tr>\n",
              "    <tr>\n",
              "      <th>27</th>\n",
              "      <td>2019-12-31</td>\n",
              "      <td>9.999</td>\n",
              "      <td>10.01</td>\n",
              "      <td>9.99</td>\n",
              "      <td>10.0</td>\n",
              "      <td>10.006001</td>\n",
              "      <td>9.997142</td>\n",
              "      <td>10.001571</td>\n",
              "    </tr>\n",
              "  </tbody>\n",
              "</table>\n",
              "</div>"
            ],
            "text/plain": [
              "        Datef  C-Pitch    USL   LSL  Nominal        UCL       LCL       mean\n",
              "0  2019-01-11   10.004  10.01  9.99     10.0  10.006001  9.997142  10.001571\n",
              "1  2019-01-22   10.001  10.01  9.99     10.0  10.006001  9.997142  10.001571\n",
              "2  2019-01-26   10.002  10.01  9.99     10.0  10.006001  9.997142  10.001571\n",
              "3  2019-01-31   10.003  10.01  9.99     10.0  10.006001  9.997142  10.001571\n",
              "4  2019-02-11   10.003  10.01  9.99     10.0  10.006001  9.997142  10.001571\n",
              "5  2019-02-22   10.002  10.01  9.99     10.0  10.006001  9.997142  10.001571\n",
              "6  2019-02-27   10.003  10.01  9.99     10.0  10.006001  9.997142  10.001571\n",
              "7  2019-03-07   10.002  10.01  9.99     10.0  10.006001  9.997142  10.001571\n",
              "8  2019-03-15    9.998  10.01  9.99     10.0  10.006001  9.997142  10.001571\n",
              "9  2019-04-05   10.002  10.01  9.99     10.0  10.006001  9.997142  10.001571\n",
              "10 2019-04-16   10.003  10.01  9.99     10.0  10.006001  9.997142  10.001571\n",
              "11 2019-05-27   10.004  10.01  9.99     10.0  10.006001  9.997142  10.001571\n",
              "12 2019-06-03   10.001  10.01  9.99     10.0  10.006001  9.997142  10.001571\n",
              "13 2019-06-10   10.000  10.01  9.99     10.0  10.006001  9.997142  10.001571\n",
              "14 2019-06-17   10.002  10.01  9.99     10.0  10.006001  9.997142  10.001571\n",
              "15 2019-06-25   10.001  10.01  9.99     10.0  10.006001  9.997142  10.001571\n",
              "16 2019-06-28   10.002  10.01  9.99     10.0  10.006001  9.997142  10.001571\n",
              "17 2019-08-07   10.001  10.01  9.99     10.0  10.006001  9.997142  10.001571\n",
              "18 2019-08-19   10.000  10.01  9.99     10.0  10.006001  9.997142  10.001571\n",
              "19 2019-08-26   10.001  10.01  9.99     10.0  10.006001  9.997142  10.001571\n",
              "20 2019-09-05   10.002  10.01  9.99     10.0  10.006001  9.997142  10.001571\n",
              "21 2019-10-17   10.000  10.01  9.99     10.0  10.006001  9.997142  10.001571\n",
              "22 2019-11-01   10.000  10.01  9.99     10.0  10.006001  9.997142  10.001571\n",
              "23 2019-11-13   10.002  10.01  9.99     10.0  10.006001  9.997142  10.001571\n",
              "24 2019-12-05   10.000  10.01  9.99     10.0  10.006001  9.997142  10.001571\n",
              "25 2019-12-10   10.003  10.01  9.99     10.0  10.006001  9.997142  10.001571\n",
              "26 2019-12-26   10.003  10.01  9.99     10.0  10.006001  9.997142  10.001571\n",
              "27 2019-12-31    9.999  10.01  9.99     10.0  10.006001  9.997142  10.001571"
            ]
          },
          "metadata": {
            "tags": []
          },
          "execution_count": 227
        }
      ]
    },
    {
      "cell_type": "code",
      "metadata": {
        "id": "dpL7hpQuB5bH",
        "colab_type": "code",
        "colab": {
          "base_uri": "https://localhost:8080/",
          "height": 948
        },
        "outputId": "eeae7703-9a96-441c-b90f-ce7686bfbf5f"
      },
      "source": [
        "df=df[[df.columns[0],df.columns[1]]].set_index(df.columns[0])\n",
        "df"
      ],
      "execution_count": 228,
      "outputs": [
        {
          "output_type": "execute_result",
          "data": {
            "text/html": [
              "<div>\n",
              "<style scoped>\n",
              "    .dataframe tbody tr th:only-of-type {\n",
              "        vertical-align: middle;\n",
              "    }\n",
              "\n",
              "    .dataframe tbody tr th {\n",
              "        vertical-align: top;\n",
              "    }\n",
              "\n",
              "    .dataframe thead th {\n",
              "        text-align: right;\n",
              "    }\n",
              "</style>\n",
              "<table border=\"1\" class=\"dataframe\">\n",
              "  <thead>\n",
              "    <tr style=\"text-align: right;\">\n",
              "      <th></th>\n",
              "      <th>C-Pitch</th>\n",
              "    </tr>\n",
              "    <tr>\n",
              "      <th>Datef</th>\n",
              "      <th></th>\n",
              "    </tr>\n",
              "  </thead>\n",
              "  <tbody>\n",
              "    <tr>\n",
              "      <th>2019-01-11</th>\n",
              "      <td>10.004</td>\n",
              "    </tr>\n",
              "    <tr>\n",
              "      <th>2019-01-22</th>\n",
              "      <td>10.001</td>\n",
              "    </tr>\n",
              "    <tr>\n",
              "      <th>2019-01-26</th>\n",
              "      <td>10.002</td>\n",
              "    </tr>\n",
              "    <tr>\n",
              "      <th>2019-01-31</th>\n",
              "      <td>10.003</td>\n",
              "    </tr>\n",
              "    <tr>\n",
              "      <th>2019-02-11</th>\n",
              "      <td>10.003</td>\n",
              "    </tr>\n",
              "    <tr>\n",
              "      <th>2019-02-22</th>\n",
              "      <td>10.002</td>\n",
              "    </tr>\n",
              "    <tr>\n",
              "      <th>2019-02-27</th>\n",
              "      <td>10.003</td>\n",
              "    </tr>\n",
              "    <tr>\n",
              "      <th>2019-03-07</th>\n",
              "      <td>10.002</td>\n",
              "    </tr>\n",
              "    <tr>\n",
              "      <th>2019-03-15</th>\n",
              "      <td>9.998</td>\n",
              "    </tr>\n",
              "    <tr>\n",
              "      <th>2019-04-05</th>\n",
              "      <td>10.002</td>\n",
              "    </tr>\n",
              "    <tr>\n",
              "      <th>2019-04-16</th>\n",
              "      <td>10.003</td>\n",
              "    </tr>\n",
              "    <tr>\n",
              "      <th>2019-05-27</th>\n",
              "      <td>10.004</td>\n",
              "    </tr>\n",
              "    <tr>\n",
              "      <th>2019-06-03</th>\n",
              "      <td>10.001</td>\n",
              "    </tr>\n",
              "    <tr>\n",
              "      <th>2019-06-10</th>\n",
              "      <td>10.000</td>\n",
              "    </tr>\n",
              "    <tr>\n",
              "      <th>2019-06-17</th>\n",
              "      <td>10.002</td>\n",
              "    </tr>\n",
              "    <tr>\n",
              "      <th>2019-06-25</th>\n",
              "      <td>10.001</td>\n",
              "    </tr>\n",
              "    <tr>\n",
              "      <th>2019-06-28</th>\n",
              "      <td>10.002</td>\n",
              "    </tr>\n",
              "    <tr>\n",
              "      <th>2019-08-07</th>\n",
              "      <td>10.001</td>\n",
              "    </tr>\n",
              "    <tr>\n",
              "      <th>2019-08-19</th>\n",
              "      <td>10.000</td>\n",
              "    </tr>\n",
              "    <tr>\n",
              "      <th>2019-08-26</th>\n",
              "      <td>10.001</td>\n",
              "    </tr>\n",
              "    <tr>\n",
              "      <th>2019-09-05</th>\n",
              "      <td>10.002</td>\n",
              "    </tr>\n",
              "    <tr>\n",
              "      <th>2019-10-17</th>\n",
              "      <td>10.000</td>\n",
              "    </tr>\n",
              "    <tr>\n",
              "      <th>2019-11-01</th>\n",
              "      <td>10.000</td>\n",
              "    </tr>\n",
              "    <tr>\n",
              "      <th>2019-11-13</th>\n",
              "      <td>10.002</td>\n",
              "    </tr>\n",
              "    <tr>\n",
              "      <th>2019-12-05</th>\n",
              "      <td>10.000</td>\n",
              "    </tr>\n",
              "    <tr>\n",
              "      <th>2019-12-10</th>\n",
              "      <td>10.003</td>\n",
              "    </tr>\n",
              "    <tr>\n",
              "      <th>2019-12-26</th>\n",
              "      <td>10.003</td>\n",
              "    </tr>\n",
              "    <tr>\n",
              "      <th>2019-12-31</th>\n",
              "      <td>9.999</td>\n",
              "    </tr>\n",
              "  </tbody>\n",
              "</table>\n",
              "</div>"
            ],
            "text/plain": [
              "            C-Pitch\n",
              "Datef              \n",
              "2019-01-11   10.004\n",
              "2019-01-22   10.001\n",
              "2019-01-26   10.002\n",
              "2019-01-31   10.003\n",
              "2019-02-11   10.003\n",
              "2019-02-22   10.002\n",
              "2019-02-27   10.003\n",
              "2019-03-07   10.002\n",
              "2019-03-15    9.998\n",
              "2019-04-05   10.002\n",
              "2019-04-16   10.003\n",
              "2019-05-27   10.004\n",
              "2019-06-03   10.001\n",
              "2019-06-10   10.000\n",
              "2019-06-17   10.002\n",
              "2019-06-25   10.001\n",
              "2019-06-28   10.002\n",
              "2019-08-07   10.001\n",
              "2019-08-19   10.000\n",
              "2019-08-26   10.001\n",
              "2019-09-05   10.002\n",
              "2019-10-17   10.000\n",
              "2019-11-01   10.000\n",
              "2019-11-13   10.002\n",
              "2019-12-05   10.000\n",
              "2019-12-10   10.003\n",
              "2019-12-26   10.003\n",
              "2019-12-31    9.999"
            ]
          },
          "metadata": {
            "tags": []
          },
          "execution_count": 228
        }
      ]
    },
    {
      "cell_type": "code",
      "metadata": {
        "id": "PwzZWgCK-x57",
        "colab_type": "code",
        "colab": {}
      },
      "source": [
        "# Define important value\n",
        "split=int(len(dataset) * 0.80)\n",
        "column=0\n",
        "# choose a number of time steps\n",
        "n_steps_in, n_steps_out = 10, 3"
      ],
      "execution_count": null,
      "outputs": []
    },
    {
      "cell_type": "code",
      "metadata": {
        "id": "mQgklHWaCIRK",
        "colab_type": "code",
        "colab": {
          "base_uri": "https://localhost:8080/",
          "height": 51
        },
        "outputId": "e04a0096-fb1b-4d44-cc88-3d76dcdb08f8"
      },
      "source": [
        "training_set=dataset[:split][dataset.columns[column]].values.reshape(-1,1) # y train\n",
        "test_set=dataset[split:][dataset.columns[column]].values.reshape(-1,1) #reshape -1: lay het len\n",
        "y_test=test_set # y test\n",
        "print(training_set.shape)\n",
        "print(test_set.shape)"
      ],
      "execution_count": 229,
      "outputs": [
        {
          "output_type": "stream",
          "text": [
            "(19, 1)\n",
            "(9, 1)\n"
          ],
          "name": "stdout"
        }
      ]
    },
    {
      "cell_type": "code",
      "metadata": {
        "colab_type": "code",
        "id": "THT6dq1P1Zqp",
        "colab": {}
      },
      "source": [
        "# split a univariate sequence into samples\n",
        "def split_sequence(sequence, n_steps_in, n_steps_out):\n",
        "\tX, y = list(), list()\n",
        "\tfor i in range(len(sequence)):\n",
        "\t\t# find the end of this pattern\n",
        "\t\tend_ix = i + n_steps_in\n",
        "\t\tout_end_ix = end_ix + n_steps_out\n",
        "\t\t# check if we are beyond the sequence\n",
        "\t\tif out_end_ix > len(sequence):\n",
        "\t\t\tbreak\n",
        "\t\t# gather input and output parts of the pattern\n",
        "\t\tseq_x, seq_y = sequence[i:end_ix], sequence[end_ix:out_end_ix]\n",
        "\t\tX.append(seq_x)\n",
        "\t\ty.append(seq_y)\n",
        "\treturn array(X), array(y)"
      ],
      "execution_count": 230,
      "outputs": []
    },
    {
      "cell_type": "code",
      "metadata": {
        "colab_type": "code",
        "id": "jSbts0uk1Zqr",
        "colab": {
          "base_uri": "https://localhost:8080/",
          "height": 1000
        },
        "outputId": "676df59b-c1f6-4b52-da5e-71b1458a2f0f"
      },
      "source": [
        "sequence=training_set\n",
        "# split into samples\n",
        "X, y = split_sequence(sequence, n_steps_in, n_steps_out)\n",
        "# summarize the data\n",
        "for i in range(len(X)):\n",
        "\tprint(X[i], y[i])"
      ],
      "execution_count": 231,
      "outputs": [
        {
          "output_type": "stream",
          "text": [
            "[[10.004]\n",
            " [10.001]\n",
            " [10.002]\n",
            " [10.003]\n",
            " [10.003]\n",
            " [10.002]\n",
            " [10.003]\n",
            " [10.002]\n",
            " [ 9.998]\n",
            " [10.002]] [[10.003]\n",
            " [10.004]\n",
            " [10.001]]\n",
            "[[10.001]\n",
            " [10.002]\n",
            " [10.003]\n",
            " [10.003]\n",
            " [10.002]\n",
            " [10.003]\n",
            " [10.002]\n",
            " [ 9.998]\n",
            " [10.002]\n",
            " [10.003]] [[10.004]\n",
            " [10.001]\n",
            " [10.   ]]\n",
            "[[10.002]\n",
            " [10.003]\n",
            " [10.003]\n",
            " [10.002]\n",
            " [10.003]\n",
            " [10.002]\n",
            " [ 9.998]\n",
            " [10.002]\n",
            " [10.003]\n",
            " [10.004]] [[10.001]\n",
            " [10.   ]\n",
            " [10.002]]\n",
            "[[10.003]\n",
            " [10.003]\n",
            " [10.002]\n",
            " [10.003]\n",
            " [10.002]\n",
            " [ 9.998]\n",
            " [10.002]\n",
            " [10.003]\n",
            " [10.004]\n",
            " [10.001]] [[10.   ]\n",
            " [10.002]\n",
            " [10.001]]\n",
            "[[10.003]\n",
            " [10.002]\n",
            " [10.003]\n",
            " [10.002]\n",
            " [ 9.998]\n",
            " [10.002]\n",
            " [10.003]\n",
            " [10.004]\n",
            " [10.001]\n",
            " [10.   ]] [[10.002]\n",
            " [10.001]\n",
            " [10.002]]\n",
            "[[10.002]\n",
            " [10.003]\n",
            " [10.002]\n",
            " [ 9.998]\n",
            " [10.002]\n",
            " [10.003]\n",
            " [10.004]\n",
            " [10.001]\n",
            " [10.   ]\n",
            " [10.002]] [[10.001]\n",
            " [10.002]\n",
            " [10.001]]\n",
            "[[10.003]\n",
            " [10.002]\n",
            " [ 9.998]\n",
            " [10.002]\n",
            " [10.003]\n",
            " [10.004]\n",
            " [10.001]\n",
            " [10.   ]\n",
            " [10.002]\n",
            " [10.001]] [[10.002]\n",
            " [10.001]\n",
            " [10.   ]]\n"
          ],
          "name": "stdout"
        }
      ]
    },
    {
      "cell_type": "code",
      "metadata": {
        "colab_type": "code",
        "id": "SDerr71I1Zqt",
        "colab": {
          "base_uri": "https://localhost:8080/",
          "height": 34
        },
        "outputId": "190dd93c-628c-40dc-8d75-29a2638447b0"
      },
      "source": [
        "y.shape"
      ],
      "execution_count": null,
      "outputs": [
        {
          "output_type": "execute_result",
          "data": {
            "text/plain": [
              "(16, 3)"
            ]
          },
          "metadata": {
            "tags": []
          },
          "execution_count": 190
        }
      ]
    },
    {
      "cell_type": "code",
      "metadata": {
        "colab_type": "code",
        "id": "1MvpDEmA1Zqv",
        "colab": {
          "base_uri": "https://localhost:8080/",
          "height": 34
        },
        "outputId": "2a3928ac-ca82-4359-f250-7890412d8fa9"
      },
      "source": [
        "# reshape from [samples, timesteps] into [samples, timesteps, features]\n",
        "n_features = 1\n",
        "X = X.reshape((X.shape[0], X.shape[1], n_features))\n",
        "X.shape"
      ],
      "execution_count": null,
      "outputs": [
        {
          "output_type": "execute_result",
          "data": {
            "text/plain": [
              "(16, 10, 1)"
            ]
          },
          "metadata": {
            "tags": []
          },
          "execution_count": 201
        }
      ]
    },
    {
      "cell_type": "markdown",
      "metadata": {
        "colab_type": "text",
        "id": "194Gyt4s1Zqy"
      },
      "source": [
        "- Mean Squared Error: mean_squared_error, MSE or mse\n",
        "- Mean Absolute Error: mean_absolute_error, MAE, mae\n",
        "- Mean Absolute Percentage Error: mean_absolute_percentage_error, MAPE, mape"
      ]
    },
    {
      "cell_type": "code",
      "metadata": {
        "colab_type": "code",
        "id": "jZShe4dw1Zqy",
        "colab": {
          "base_uri": "https://localhost:8080/",
          "height": 255
        },
        "outputId": "059a481b-0486-4666-82cc-9f9f33b69222"
      },
      "source": [
        "from keras import backend\n",
        " \n",
        "def rmse(y_true, y_pred):\n",
        "\treturn backend.sqrt(backend.mean(backend.square(y_pred - y_true), axis=-1))\n",
        "# define model\n",
        "model = Sequential()\n",
        "model.add(LSTM(100, activation='relu', return_sequences=True, input_shape=(n_steps_in, n_features)))\n",
        "model.add(LSTM(100, activation='relu'))\n",
        "model.add(Dense(n_steps_out))\n",
        "model.compile(optimizer='adam', loss='mse',metrics=['mse','mae','mape',rmse])\n",
        "model.summary()\n"
      ],
      "execution_count": null,
      "outputs": [
        {
          "output_type": "stream",
          "text": [
            "Model: \"sequential_12\"\n",
            "_________________________________________________________________\n",
            "Layer (type)                 Output Shape              Param #   \n",
            "=================================================================\n",
            "lstm_23 (LSTM)               (None, 10, 100)           40800     \n",
            "_________________________________________________________________\n",
            "lstm_24 (LSTM)               (None, 100)               80400     \n",
            "_________________________________________________________________\n",
            "dense_12 (Dense)             (None, 3)                 303       \n",
            "=================================================================\n",
            "Total params: 121,503\n",
            "Trainable params: 121,503\n",
            "Non-trainable params: 0\n",
            "_________________________________________________________________\n"
          ],
          "name": "stdout"
        }
      ]
    },
    {
      "cell_type": "code",
      "metadata": {
        "colab_type": "code",
        "id": "cAkqiYbL1Zq0",
        "colab": {}
      },
      "source": [
        "# Fitting to the training set\n",
        "callbacks = [EarlyStopping(monitor=\"val_loss\", patience=3, \n",
        "                           mode='min',restore_best_weights=True),\n",
        "            #ModelCheckpoint(filepath=\"best_model.h5\",monitor=\"val_loss\",\n",
        "             #               save_best_only=True)\n",
        "            ]\n",
        "\n",
        "history=model.fit(X,y,validation_split=0.2,epochs=100,verbose=0)"
      ],
      "execution_count": null,
      "outputs": []
    },
    {
      "cell_type": "code",
      "metadata": {
        "colab_type": "code",
        "id": "ZbQO_Fmt1Zq3",
        "colab": {
          "base_uri": "https://localhost:8080/",
          "height": 286
        },
        "outputId": "ea2cf098-0fc5-4702-f18a-5124200104d0"
      },
      "source": [
        "plt.plot(history.history['rmse'])"
      ],
      "execution_count": null,
      "outputs": [
        {
          "output_type": "execute_result",
          "data": {
            "text/plain": [
              "[<matplotlib.lines.Line2D at 0x7f85f5e3d6d8>]"
            ]
          },
          "metadata": {
            "tags": []
          },
          "execution_count": 204
        },
        {
          "output_type": "display_data",
          "data": {
            "image/png": "[encoded data removed]",
            "text/plain": [
              "<Figure size 432x288 with 1 Axes>"
            ]
          },
          "metadata": {
            "tags": []
          }
        }
      ]
    },
    {
      "cell_type": "code",
      "metadata": {
        "colab_type": "code",
        "id": "FOeqEKMk1Zq7",
        "colab": {
          "base_uri": "https://localhost:8080/",
          "height": 204
        },
        "outputId": "f5ac660e-d8db-4847-b86b-743fe3df7310"
      },
      "source": [
        "# demonstrate prediction\n",
        "#x_input = array([10.002, 10.001, 10.003,10.002,10.004])\n",
        "#x_input = x_input.reshape((1, n_steps_in, n_features))\n",
        "x_input=X[-1:]\n",
        "print(x_input)\n",
        "yhat = model.predict(x_input, verbose=0)\n",
        "print(yhat)"
      ],
      "execution_count": null,
      "outputs": [
        {
          "output_type": "stream",
          "text": [
            "[[[10.001]\n",
            "  [10.002]\n",
            "  [10.001]\n",
            "  [10.   ]\n",
            "  [10.001]\n",
            "  [10.002]\n",
            "  [10.   ]\n",
            "  [10.   ]\n",
            "  [10.002]\n",
            "  [10.   ]]]\n",
            "[[ 9.989668 10.006854 10.011439]]\n"
          ],
          "name": "stdout"
        }
      ]
    },
    {
      "cell_type": "code",
      "metadata": {
        "colab_type": "code",
        "id": "4DzeAGOB1Zq9",
        "colab": {}
      },
      "source": [
        ""
      ],
      "execution_count": null,
      "outputs": []
    }
  ]
}