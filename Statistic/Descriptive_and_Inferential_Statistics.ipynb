{
  "nbformat": 4,
  "nbformat_minor": 0,
  "metadata": {
    "colab": {
      "name": "Descriptive and Inferential Statistics.ipynb",
      "provenance": [],
      "collapsed_sections": [],
      "authorship_tag": "ABX9TyMqPfJoF6wS1E3Mn8B0N2zd",
      "include_colab_link": true
    },
    "kernelspec": {
      "name": "python3",
      "display_name": "Python 3"
    }
  },
  "cells": [
    {
      "cell_type": "markdown",
      "metadata": {
        "id": "view-in-github",
        "colab_type": "text"
      },
      "source": [
        "<a href=\"https://colab.research.google.com/github/duybluemind1988/Data-science/blob/master/Descriptive_and_Inferential_Statistics.ipynb\" target=\"_parent\"><img src=\"https://colab.research.google.com/assets/colab-badge.svg\" alt=\"Open In Colab\"/></a>"
      ]
    },
    {
      "cell_type": "markdown",
      "metadata": {
        "id": "rako1my4A4MW",
        "colab_type": "text"
      },
      "source": [
        "# Stats ANOVA"
      ]
    },
    {
      "cell_type": "markdown",
      "metadata": {
        "id": "JS9QFMNmA9t9",
        "colab_type": "text"
      },
      "source": [
        "https://www.statsmodels.org/stable/examples/notebooks/generated/interactions_anova.html"
      ]
    },
    {
      "cell_type": "code",
      "metadata": {
        "id": "DA1LdMb35Wxk",
        "colab_type": "code",
        "colab": {
          "base_uri": "https://localhost:8080/",
          "height": 71
        },
        "outputId": "200c2549-5869-41ec-e663-5c1ed52830f5"
      },
      "source": [
        "\n",
        "from urllib.request import urlopen\n",
        "import numpy as np\n",
        "np.set_printoptions(precision=4, suppress=True)\n",
        "\n",
        "import pandas as pd\n",
        "pd.set_option(\"display.width\", 100)\n",
        "import matplotlib.pyplot as plt\n",
        "from statsmodels.formula.api import ols\n",
        "from statsmodels.graphics.api import interaction_plot, abline_plot\n",
        "from statsmodels.stats.anova import anova_lm"
      ],
      "execution_count": 1,
      "outputs": [
        {
          "output_type": "stream",
          "text": [
            "/usr/local/lib/python3.6/dist-packages/statsmodels/tools/_testing.py:19: FutureWarning: pandas.util.testing is deprecated. Use the functions in the public API at pandas.testing instead.\n",
            "  import pandas.util.testing as tm\n"
          ],
          "name": "stderr"
        }
      ]
    },
    {
      "cell_type": "code",
      "metadata": {
        "id": "mnl4QfbX5Zvh",
        "colab_type": "code",
        "colab": {
          "base_uri": "https://localhost:8080/",
          "height": 204
        },
        "outputId": "115ebf45-a762-48fe-e489-0f743de6e28b"
      },
      "source": [
        "url = 'http://stats191.stanford.edu/data/salary.table'\n",
        "fh = urlopen(url)\n",
        "salary_table = pd.read_table(fh)\n",
        "salary_table.head()"
      ],
      "execution_count": 3,
      "outputs": [
        {
          "output_type": "execute_result",
          "data": {
            "text/html": [
              "<div>\n",
              "<style scoped>\n",
              "    .dataframe tbody tr th:only-of-type {\n",
              "        vertical-align: middle;\n",
              "    }\n",
              "\n",
              "    .dataframe tbody tr th {\n",
              "        vertical-align: top;\n",
              "    }\n",
              "\n",
              "    .dataframe thead th {\n",
              "        text-align: right;\n",
              "    }\n",
              "</style>\n",
              "<table border=\"1\" class=\"dataframe\">\n",
              "  <thead>\n",
              "    <tr style=\"text-align: right;\">\n",
              "      <th></th>\n",
              "      <th>S</th>\n",
              "      <th>X</th>\n",
              "      <th>E</th>\n",
              "      <th>M</th>\n",
              "    </tr>\n",
              "  </thead>\n",
              "  <tbody>\n",
              "    <tr>\n",
              "      <th>0</th>\n",
              "      <td>13876</td>\n",
              "      <td>1</td>\n",
              "      <td>1</td>\n",
              "      <td>1</td>\n",
              "    </tr>\n",
              "    <tr>\n",
              "      <th>1</th>\n",
              "      <td>11608</td>\n",
              "      <td>1</td>\n",
              "      <td>3</td>\n",
              "      <td>0</td>\n",
              "    </tr>\n",
              "    <tr>\n",
              "      <th>2</th>\n",
              "      <td>18701</td>\n",
              "      <td>1</td>\n",
              "      <td>3</td>\n",
              "      <td>1</td>\n",
              "    </tr>\n",
              "    <tr>\n",
              "      <th>3</th>\n",
              "      <td>11283</td>\n",
              "      <td>1</td>\n",
              "      <td>2</td>\n",
              "      <td>0</td>\n",
              "    </tr>\n",
              "    <tr>\n",
              "      <th>4</th>\n",
              "      <td>11767</td>\n",
              "      <td>1</td>\n",
              "      <td>3</td>\n",
              "      <td>0</td>\n",
              "    </tr>\n",
              "  </tbody>\n",
              "</table>\n",
              "</div>"
            ],
            "text/plain": [
              "       S  X  E  M\n",
              "0  13876  1  1  1\n",
              "1  11608  1  3  0\n",
              "2  18701  1  3  1\n",
              "3  11283  1  2  0\n",
              "4  11767  1  3  0"
            ]
          },
          "metadata": {
            "tags": []
          },
          "execution_count": 3
        }
      ]
    },
    {
      "cell_type": "code",
      "metadata": {
        "id": "F6BAXPrl5e2A",
        "colab_type": "code",
        "colab": {}
      },
      "source": [
        "E = salary_table.E\n",
        "M = salary_table.M\n",
        "X = salary_table.X\n",
        "S = salary_table.S"
      ],
      "execution_count": 4,
      "outputs": []
    },
    {
      "cell_type": "code",
      "metadata": {
        "id": "topRSPXN7oy4",
        "colab_type": "code",
        "colab": {
          "base_uri": "https://localhost:8080/",
          "height": 1000
        },
        "outputId": "ef171990-3522-4e9b-e45d-c9bc43294848"
      },
      "source": [
        "factor_groups = salary_table.groupby(['E','M'])\n",
        "for values, group in factor_groups:\n",
        "  print(values)\n",
        "  print(group)"
      ],
      "execution_count": 7,
      "outputs": [
        {
          "output_type": "stream",
          "text": [
            "(1, 0)\n",
            "        S   X  E  M\n",
            "7   10535   2  1  0\n",
            "13  11417   4  1  0\n",
            "20  12336   6  1  0\n",
            "28  13548   8  1  0\n",
            "29  14467  10  1  0\n",
            "34  14861  11  1  0\n",
            "37  15990  13  1  0\n",
            "43  17483  16  1  0\n",
            "45  19346  20  1  0\n",
            "(1, 1)\n",
            "        S  X  E  M\n",
            "0   13876  1  1  1\n",
            "10  14975  3  1  1\n",
            "19  15965  5  1  1\n",
            "24  16978  7  1  1\n",
            "26  17404  8  1  1\n",
            "(2, 0)\n",
            "        S   X  E  M\n",
            "3   11283   1  2  0\n",
            "6   11772   2  2  0\n",
            "9   12313   3  2  0\n",
            "16  12884   4  2  0\n",
            "17  13245   5  2  0\n",
            "22  13839   6  2  0\n",
            "25  14803   8  2  0\n",
            "30  15942  10  2  0\n",
            "35  16882  12  2  0\n",
            "39  17949  14  2  0\n",
            "42  18838  16  2  0\n",
            "44  19207  17  2  0\n",
            "(2, 1)\n",
            "        S   X  E  M\n",
            "5   20872   2  2  1\n",
            "11  21371   3  2  1\n",
            "23  22884   6  2  1\n",
            "32  23780  10  2  1\n",
            "33  25410  11  2  1\n",
            "38  26330  13  2  1\n",
            "41  27837  16  2  1\n",
            "(3, 0)\n",
            "        S  X  E  M\n",
            "1   11608  1  3  0\n",
            "4   11767  1  3  0\n",
            "8   12195  2  3  0\n",
            "15  13231  4  3  0\n",
            "18  13677  5  3  0\n",
            "(3, 1)\n",
            "        S   X  E  M\n",
            "2   18701   1  3  1\n",
            "12  19800   3  3  1\n",
            "14  20263   4  3  1\n",
            "21  21352   6  3  1\n",
            "27  22184   8  3  1\n",
            "31  23174  10  3  1\n",
            "36  24170  12  3  1\n",
            "40  25685  15  3  1\n"
          ],
          "name": "stdout"
        }
      ]
    },
    {
      "cell_type": "code",
      "metadata": {
        "id": "zgbzwe6i5miG",
        "colab_type": "code",
        "colab": {
          "base_uri": "https://localhost:8080/",
          "height": 490
        },
        "outputId": "01db361d-4245-4564-843a-a49a556ed80d"
      },
      "source": [
        "plt.figure(figsize=(6,6))\n",
        "symbols = ['D', '^']\n",
        "colors = ['r', 'g', 'blue']\n",
        "factor_groups = salary_table.groupby(['E','M'])\n",
        "for values, group in factor_groups:\n",
        "    i,j = values\n",
        "    print(i,j)\n",
        "    plt.scatter(group['X'], group['S'], marker=symbols[j], color=colors[i-1],\n",
        "               s=144)\n",
        "plt.xlabel('Experience');\n",
        "plt.ylabel('Salary');\n",
        "# X: Experience\n",
        "# S: Salary\n",
        "# E: group 1,2,3 - color r, g, blue\n",
        "# M: group 0,1 - marker: 'D' and '^'"
      ],
      "execution_count": 8,
      "outputs": [
        {
          "output_type": "stream",
          "text": [
            "1 0\n",
            "1 1\n",
            "2 0\n",
            "2 1\n",
            "3 0\n",
            "3 1\n"
          ],
          "name": "stdout"
        },
        {
          "output_type": "display_data",
          "data": {
            "image/png": "[encoded data removed]",
            "text/plain": [
              "<Figure size 432x432 with 1 Axes>"
            ]
          },
          "metadata": {
            "tags": [],
            "needs_background": "light"
          }
        }
      ]
    },
    {
      "cell_type": "markdown",
      "metadata": {
        "id": "1togv6ru_0hJ",
        "colab_type": "text"
      },
      "source": [
        "- Fit a linear model:"
      ]
    },
    {
      "cell_type": "code",
      "metadata": {
        "id": "lAWJl3Cd544H",
        "colab_type": "code",
        "colab": {
          "base_uri": "https://localhost:8080/",
          "height": 493
        },
        "outputId": "45445a6b-c193-491d-e6e9-1f44c85a65ff"
      },
      "source": [
        "formula = 'S ~ C(E) + C(M) + X'\n",
        "lm = ols(formula, salary_table).fit()\n",
        "print(lm.summary())"
      ],
      "execution_count": 9,
      "outputs": [
        {
          "output_type": "stream",
          "text": [
            "                            OLS Regression Results                            \n",
            "==============================================================================\n",
            "Dep. Variable:                      S   R-squared:                       0.957\n",
            "Model:                            OLS   Adj. R-squared:                  0.953\n",
            "Method:                 Least Squares   F-statistic:                     226.8\n",
            "Date:                Tue, 30 Jun 2020   Prob (F-statistic):           2.23e-27\n",
            "Time:                        02:12:44   Log-Likelihood:                -381.63\n",
            "No. Observations:                  46   AIC:                             773.3\n",
            "Df Residuals:                      41   BIC:                             782.4\n",
            "Df Model:                           4                                         \n",
            "Covariance Type:            nonrobust                                         \n",
            "==============================================================================\n",
            "                 coef    std err          t      P>|t|      [0.025      0.975]\n",
            "------------------------------------------------------------------------------\n",
            "Intercept   8035.5976    386.689     20.781      0.000    7254.663    8816.532\n",
            "C(E)[T.2]   3144.0352    361.968      8.686      0.000    2413.025    3875.045\n",
            "C(E)[T.3]   2996.2103    411.753      7.277      0.000    2164.659    3827.762\n",
            "C(M)[T.1]   6883.5310    313.919     21.928      0.000    6249.559    7517.503\n",
            "X            546.1840     30.519     17.896      0.000     484.549     607.819\n",
            "==============================================================================\n",
            "Omnibus:                        2.293   Durbin-Watson:                   2.237\n",
            "Prob(Omnibus):                  0.318   Jarque-Bera (JB):                1.362\n",
            "Skew:                          -0.077   Prob(JB):                        0.506\n",
            "Kurtosis:                       2.171   Cond. No.                         33.5\n",
            "==============================================================================\n",
            "\n",
            "Warnings:\n",
            "[1] Standard Errors assume that the covariance matrix of the errors is correctly specified.\n"
          ],
          "name": "stdout"
        }
      ]
    },
    {
      "cell_type": "code",
      "metadata": {
        "id": "yvBJi5tR_3tm",
        "colab_type": "code",
        "colab": {
          "base_uri": "https://localhost:8080/",
          "height": 102
        },
        "outputId": "1e4880e7-29ae-4d37-850d-7b0ae29afff7"
      },
      "source": [
        "lm.model.exog[:5]"
      ],
      "execution_count": 10,
      "outputs": [
        {
          "output_type": "execute_result",
          "data": {
            "text/plain": [
              "array([[1., 0., 0., 1., 1.],\n",
              "       [1., 0., 1., 0., 1.],\n",
              "       [1., 0., 1., 1., 1.],\n",
              "       [1., 1., 0., 0., 1.],\n",
              "       [1., 0., 1., 0., 1.]])"
            ]
          },
          "metadata": {
            "tags": []
          },
          "execution_count": 10
        }
      ]
    },
    {
      "cell_type": "code",
      "metadata": {
        "id": "sOyWVDyRAmaj",
        "colab_type": "code",
        "colab": {
          "base_uri": "https://localhost:8080/",
          "height": 204
        },
        "outputId": "2a11a928-779d-4203-b543-d370fef47e94"
      },
      "source": [
        "lm.model.data.orig_exog[:5]"
      ],
      "execution_count": 11,
      "outputs": [
        {
          "output_type": "execute_result",
          "data": {
            "text/html": [
              "<div>\n",
              "<style scoped>\n",
              "    .dataframe tbody tr th:only-of-type {\n",
              "        vertical-align: middle;\n",
              "    }\n",
              "\n",
              "    .dataframe tbody tr th {\n",
              "        vertical-align: top;\n",
              "    }\n",
              "\n",
              "    .dataframe thead th {\n",
              "        text-align: right;\n",
              "    }\n",
              "</style>\n",
              "<table border=\"1\" class=\"dataframe\">\n",
              "  <thead>\n",
              "    <tr style=\"text-align: right;\">\n",
              "      <th></th>\n",
              "      <th>Intercept</th>\n",
              "      <th>C(E)[T.2]</th>\n",
              "      <th>C(E)[T.3]</th>\n",
              "      <th>C(M)[T.1]</th>\n",
              "      <th>X</th>\n",
              "    </tr>\n",
              "  </thead>\n",
              "  <tbody>\n",
              "    <tr>\n",
              "      <th>0</th>\n",
              "      <td>1.0</td>\n",
              "      <td>0.0</td>\n",
              "      <td>0.0</td>\n",
              "      <td>1.0</td>\n",
              "      <td>1.0</td>\n",
              "    </tr>\n",
              "    <tr>\n",
              "      <th>1</th>\n",
              "      <td>1.0</td>\n",
              "      <td>0.0</td>\n",
              "      <td>1.0</td>\n",
              "      <td>0.0</td>\n",
              "      <td>1.0</td>\n",
              "    </tr>\n",
              "    <tr>\n",
              "      <th>2</th>\n",
              "      <td>1.0</td>\n",
              "      <td>0.0</td>\n",
              "      <td>1.0</td>\n",
              "      <td>1.0</td>\n",
              "      <td>1.0</td>\n",
              "    </tr>\n",
              "    <tr>\n",
              "      <th>3</th>\n",
              "      <td>1.0</td>\n",
              "      <td>1.0</td>\n",
              "      <td>0.0</td>\n",
              "      <td>0.0</td>\n",
              "      <td>1.0</td>\n",
              "    </tr>\n",
              "    <tr>\n",
              "      <th>4</th>\n",
              "      <td>1.0</td>\n",
              "      <td>0.0</td>\n",
              "      <td>1.0</td>\n",
              "      <td>0.0</td>\n",
              "      <td>1.0</td>\n",
              "    </tr>\n",
              "  </tbody>\n",
              "</table>\n",
              "</div>"
            ],
            "text/plain": [
              "   Intercept  C(E)[T.2]  C(E)[T.3]  C(M)[T.1]    X\n",
              "0        1.0        0.0        0.0        1.0  1.0\n",
              "1        1.0        0.0        1.0        0.0  1.0\n",
              "2        1.0        0.0        1.0        1.0  1.0\n",
              "3        1.0        1.0        0.0        0.0  1.0\n",
              "4        1.0        0.0        1.0        0.0  1.0"
            ]
          },
          "metadata": {
            "tags": []
          },
          "execution_count": 11
        }
      ]
    },
    {
      "cell_type": "code",
      "metadata": {
        "id": "9V5GtN2oAnYl",
        "colab_type": "code",
        "colab": {
          "base_uri": "https://localhost:8080/",
          "height": 204
        },
        "outputId": "d8273031-14df-4b39-c409-f0300079c20d"
      },
      "source": [
        "lm.model.data.frame[:5]"
      ],
      "execution_count": 12,
      "outputs": [
        {
          "output_type": "execute_result",
          "data": {
            "text/html": [
              "<div>\n",
              "<style scoped>\n",
              "    .dataframe tbody tr th:only-of-type {\n",
              "        vertical-align: middle;\n",
              "    }\n",
              "\n",
              "    .dataframe tbody tr th {\n",
              "        vertical-align: top;\n",
              "    }\n",
              "\n",
              "    .dataframe thead th {\n",
              "        text-align: right;\n",
              "    }\n",
              "</style>\n",
              "<table border=\"1\" class=\"dataframe\">\n",
              "  <thead>\n",
              "    <tr style=\"text-align: right;\">\n",
              "      <th></th>\n",
              "      <th>S</th>\n",
              "      <th>X</th>\n",
              "      <th>E</th>\n",
              "      <th>M</th>\n",
              "    </tr>\n",
              "  </thead>\n",
              "  <tbody>\n",
              "    <tr>\n",
              "      <th>0</th>\n",
              "      <td>13876</td>\n",
              "      <td>1</td>\n",
              "      <td>1</td>\n",
              "      <td>1</td>\n",
              "    </tr>\n",
              "    <tr>\n",
              "      <th>1</th>\n",
              "      <td>11608</td>\n",
              "      <td>1</td>\n",
              "      <td>3</td>\n",
              "      <td>0</td>\n",
              "    </tr>\n",
              "    <tr>\n",
              "      <th>2</th>\n",
              "      <td>18701</td>\n",
              "      <td>1</td>\n",
              "      <td>3</td>\n",
              "      <td>1</td>\n",
              "    </tr>\n",
              "    <tr>\n",
              "      <th>3</th>\n",
              "      <td>11283</td>\n",
              "      <td>1</td>\n",
              "      <td>2</td>\n",
              "      <td>0</td>\n",
              "    </tr>\n",
              "    <tr>\n",
              "      <th>4</th>\n",
              "      <td>11767</td>\n",
              "      <td>1</td>\n",
              "      <td>3</td>\n",
              "      <td>0</td>\n",
              "    </tr>\n",
              "  </tbody>\n",
              "</table>\n",
              "</div>"
            ],
            "text/plain": [
              "       S  X  E  M\n",
              "0  13876  1  1  1\n",
              "1  11608  1  3  0\n",
              "2  18701  1  3  1\n",
              "3  11283  1  2  0\n",
              "4  11767  1  3  0"
            ]
          },
          "metadata": {
            "tags": []
          },
          "execution_count": 12
        }
      ]
    },
    {
      "cell_type": "markdown",
      "metadata": {
        "id": "th9qI-ALAtQ-",
        "colab_type": "text"
      },
      "source": [
        "Influence statistics"
      ]
    },
    {
      "cell_type": "code",
      "metadata": {
        "id": "tYmzmZivAox9",
        "colab_type": "code",
        "colab": {
          "base_uri": "https://localhost:8080/",
          "height": 884
        },
        "outputId": "0a1b07c1-1927-4983-8e68-04f67379db7b"
      },
      "source": [
        "infl = lm.get_influence()\n",
        "print(infl.summary_table())"
      ],
      "execution_count": 13,
      "outputs": [
        {
          "output_type": "stream",
          "text": [
            "==================================================================================================\n",
            "       obs      endog     fitted     Cook's   student.   hat diag    dffits   ext.stud.     dffits\n",
            "                           value          d   residual              internal   residual           \n",
            "--------------------------------------------------------------------------------------------------\n",
            "         0  13876.000  15465.313      0.104     -1.683      0.155     -0.722     -1.723     -0.739\n",
            "         1  11608.000  11577.992      0.000      0.031      0.130      0.012      0.031      0.012\n",
            "         2  18701.000  18461.523      0.001      0.247      0.109      0.086      0.244      0.085\n",
            "         3  11283.000  11725.817      0.005     -0.458      0.113     -0.163     -0.453     -0.162\n",
            "         4  11767.000  11577.992      0.001      0.197      0.130      0.076      0.195      0.075\n",
            "         5  20872.000  19155.532      0.092      1.787      0.126      0.678      1.838      0.698\n",
            "         6  11772.000  12272.001      0.006     -0.513      0.101     -0.172     -0.509     -0.170\n",
            "         7  10535.000   9127.966      0.056      1.457      0.116      0.529      1.478      0.537\n",
            "         8  12195.000  12124.176      0.000      0.074      0.123      0.028      0.073      0.027\n",
            "         9  12313.000  12818.185      0.005     -0.516      0.091     -0.163     -0.511     -0.161\n",
            "        10  14975.000  16557.681      0.084     -1.655      0.134     -0.650     -1.692     -0.664\n",
            "        11  21371.000  19701.716      0.078      1.728      0.116      0.624      1.772      0.640\n",
            "        12  19800.000  19553.891      0.001      0.252      0.096      0.082      0.249      0.081\n",
            "        13  11417.000  10220.334      0.033      1.227      0.098      0.405      1.234      0.408\n",
            "        14  20263.000  20100.075      0.001      0.166      0.093      0.053      0.165      0.053\n",
            "        15  13231.000  13216.544      0.000      0.015      0.114      0.005      0.015      0.005\n",
            "        16  12884.000  13364.369      0.004     -0.488      0.082     -0.146     -0.483     -0.145\n",
            "        17  13245.000  13910.553      0.007     -0.674      0.075     -0.192     -0.669     -0.191\n",
            "        18  13677.000  13762.728      0.000     -0.089      0.113     -0.032     -0.087     -0.031\n",
            "        19  15965.000  17650.049      0.082     -1.747      0.119     -0.642     -1.794     -0.659\n",
            "        20  12336.000  11312.702      0.021      1.043      0.087      0.323      1.044      0.323\n",
            "        21  21352.000  21192.443      0.001      0.163      0.091      0.052      0.161      0.051\n",
            "        22  13839.000  14456.737      0.006     -0.624      0.070     -0.171     -0.619     -0.170\n",
            "        23  22884.000  21340.268      0.052      1.579      0.095      0.511      1.610      0.521\n",
            "        24  16978.000  18742.417      0.083     -1.822      0.111     -0.644     -1.877     -0.664\n",
            "        25  14803.000  15549.105      0.008     -0.751      0.065     -0.199     -0.747     -0.198\n",
            "        26  17404.000  19288.601      0.093     -1.944      0.110     -0.684     -2.016     -0.709\n",
            "        27  22184.000  22284.811      0.000     -0.103      0.096     -0.034     -0.102     -0.033\n",
            "        28  13548.000  12405.070      0.025      1.162      0.083      0.350      1.167      0.352\n",
            "        29  14467.000  13497.438      0.018      0.987      0.086      0.304      0.987      0.304\n",
            "        30  15942.000  16641.473      0.007     -0.705      0.068     -0.190     -0.701     -0.189\n",
            "        31  23174.000  23377.179      0.001     -0.209      0.108     -0.073     -0.207     -0.072\n",
            "        32  23780.000  23525.004      0.001      0.260      0.092      0.083      0.257      0.082\n",
            "        33  25410.000  24071.188      0.040      1.370      0.096      0.446      1.386      0.451\n",
            "        34  14861.000  14043.622      0.014      0.834      0.091      0.263      0.831      0.262\n",
            "        35  16882.000  17733.841      0.012     -0.863      0.077     -0.249     -0.860     -0.249\n",
            "        36  24170.000  24469.547      0.003     -0.312      0.127     -0.119     -0.309     -0.118\n",
            "        37  15990.000  15135.990      0.018      0.878      0.104      0.300      0.876      0.299\n",
            "        38  26330.000  25163.556      0.035      1.202      0.109      0.420      1.209      0.422\n",
            "        39  17949.000  18826.209      0.017     -0.897      0.093     -0.288     -0.895     -0.287\n",
            "        40  25685.000  26108.099      0.008     -0.452      0.169     -0.204     -0.447     -0.202\n",
            "        41  27837.000  26802.108      0.039      1.087      0.141      0.440      1.089      0.441\n",
            "        42  18838.000  19918.577      0.033     -1.119      0.117     -0.407     -1.123     -0.408\n",
            "        43  17483.000  16774.542      0.018      0.743      0.138      0.297      0.739      0.295\n",
            "        44  19207.000  20464.761      0.052     -1.313      0.131     -0.511     -1.325     -0.515\n",
            "        45  19346.000  18959.278      0.009      0.423      0.208      0.216      0.419      0.214\n",
            "==================================================================================================\n"
          ],
          "name": "stdout"
        }
      ]
    },
    {
      "cell_type": "code",
      "metadata": {
        "id": "EX9b_ZveAvPN",
        "colab_type": "code",
        "colab": {
          "base_uri": "https://localhost:8080/",
          "height": 241
        },
        "outputId": "017086dc-20f9-4c16-d23b-7ceead47ec82"
      },
      "source": [
        "df_infl = infl.summary_frame()\n",
        "df_infl[:5]"
      ],
      "execution_count": 14,
      "outputs": [
        {
          "output_type": "execute_result",
          "data": {
            "text/html": [
              "<div>\n",
              "<style scoped>\n",
              "    .dataframe tbody tr th:only-of-type {\n",
              "        vertical-align: middle;\n",
              "    }\n",
              "\n",
              "    .dataframe tbody tr th {\n",
              "        vertical-align: top;\n",
              "    }\n",
              "\n",
              "    .dataframe thead th {\n",
              "        text-align: right;\n",
              "    }\n",
              "</style>\n",
              "<table border=\"1\" class=\"dataframe\">\n",
              "  <thead>\n",
              "    <tr style=\"text-align: right;\">\n",
              "      <th></th>\n",
              "      <th>dfb_Intercept</th>\n",
              "      <th>dfb_C(E)[T.2]</th>\n",
              "      <th>dfb_C(E)[T.3]</th>\n",
              "      <th>dfb_C(M)[T.1]</th>\n",
              "      <th>dfb_X</th>\n",
              "      <th>cooks_d</th>\n",
              "      <th>standard_resid</th>\n",
              "      <th>hat_diag</th>\n",
              "      <th>dffits_internal</th>\n",
              "      <th>student_resid</th>\n",
              "      <th>dffits</th>\n",
              "    </tr>\n",
              "  </thead>\n",
              "  <tbody>\n",
              "    <tr>\n",
              "      <th>0</th>\n",
              "      <td>-0.505123</td>\n",
              "      <td>0.376134</td>\n",
              "      <td>0.483977</td>\n",
              "      <td>-0.369677</td>\n",
              "      <td>0.399111</td>\n",
              "      <td>0.104186</td>\n",
              "      <td>-1.683099</td>\n",
              "      <td>0.155327</td>\n",
              "      <td>-0.721753</td>\n",
              "      <td>-1.723037</td>\n",
              "      <td>-0.738880</td>\n",
              "    </tr>\n",
              "    <tr>\n",
              "      <th>1</th>\n",
              "      <td>0.004663</td>\n",
              "      <td>0.000145</td>\n",
              "      <td>0.006733</td>\n",
              "      <td>-0.006220</td>\n",
              "      <td>-0.004449</td>\n",
              "      <td>0.000029</td>\n",
              "      <td>0.031318</td>\n",
              "      <td>0.130266</td>\n",
              "      <td>0.012120</td>\n",
              "      <td>0.030934</td>\n",
              "      <td>0.011972</td>\n",
              "    </tr>\n",
              "    <tr>\n",
              "      <th>2</th>\n",
              "      <td>0.013627</td>\n",
              "      <td>0.000367</td>\n",
              "      <td>0.036876</td>\n",
              "      <td>0.030514</td>\n",
              "      <td>-0.034970</td>\n",
              "      <td>0.001492</td>\n",
              "      <td>0.246931</td>\n",
              "      <td>0.109021</td>\n",
              "      <td>0.086377</td>\n",
              "      <td>0.244082</td>\n",
              "      <td>0.085380</td>\n",
              "    </tr>\n",
              "    <tr>\n",
              "      <th>3</th>\n",
              "      <td>-0.083152</td>\n",
              "      <td>-0.074411</td>\n",
              "      <td>0.009704</td>\n",
              "      <td>0.053783</td>\n",
              "      <td>0.105122</td>\n",
              "      <td>0.005338</td>\n",
              "      <td>-0.457630</td>\n",
              "      <td>0.113030</td>\n",
              "      <td>-0.163364</td>\n",
              "      <td>-0.453173</td>\n",
              "      <td>-0.161773</td>\n",
              "    </tr>\n",
              "    <tr>\n",
              "      <th>4</th>\n",
              "      <td>0.029382</td>\n",
              "      <td>0.000917</td>\n",
              "      <td>0.042425</td>\n",
              "      <td>-0.039198</td>\n",
              "      <td>-0.028036</td>\n",
              "      <td>0.001166</td>\n",
              "      <td>0.197257</td>\n",
              "      <td>0.130266</td>\n",
              "      <td>0.076340</td>\n",
              "      <td>0.194929</td>\n",
              "      <td>0.075439</td>\n",
              "    </tr>\n",
              "  </tbody>\n",
              "</table>\n",
              "</div>"
            ],
            "text/plain": [
              "   dfb_Intercept  dfb_C(E)[T.2]  ...  student_resid    dffits\n",
              "0      -0.505123       0.376134  ...      -1.723037 -0.738880\n",
              "1       0.004663       0.000145  ...       0.030934  0.011972\n",
              "2       0.013627       0.000367  ...       0.244082  0.085380\n",
              "3      -0.083152      -0.074411  ...      -0.453173 -0.161773\n",
              "4       0.029382       0.000917  ...       0.194929  0.075439\n",
              "\n",
              "[5 rows x 11 columns]"
            ]
          },
          "metadata": {
            "tags": []
          },
          "execution_count": 14
        }
      ]
    },
    {
      "cell_type": "markdown",
      "metadata": {
        "id": "4YgxWAF2A2a-",
        "colab_type": "text"
      },
      "source": [
        "# 1. DESCRIPTIVE STATISTICS WITH PYTHON"
      ]
    },
    {
      "cell_type": "markdown",
      "metadata": {
        "id": "mIYttEw7GFR6",
        "colab_type": "text"
      },
      "source": [
        "https://www.pythonfordatascience.org/descriptive-statistics-python/"
      ]
    },
    {
      "cell_type": "code",
      "metadata": {
        "id": "4ZBUHUAPBEm3",
        "colab_type": "code",
        "colab": {
          "base_uri": "https://localhost:8080/",
          "height": 241
        },
        "outputId": "9c62f82d-bef9-4e59-f9dd-7a94ecf3d4b7"
      },
      "source": [
        "!pip install researchpy"
      ],
      "execution_count": 16,
      "outputs": [
        {
          "output_type": "stream",
          "text": [
            "Collecting researchpy\n",
            "  Downloading https://files.pythonhosted.org/packages/ee/d9/5e21cbe6ca16af4c1e11980e66f54d2ca3ba35ff57608c6d2a82b62e377e/researchpy-0.2.2-py3-none-any.whl\n",
            "Requirement already satisfied: scipy in /usr/local/lib/python3.6/dist-packages (from researchpy) (1.4.1)\n",
            "Requirement already satisfied: statsmodels in /usr/local/lib/python3.6/dist-packages (from researchpy) (0.10.2)\n",
            "Requirement already satisfied: numpy in /usr/local/lib/python3.6/dist-packages (from researchpy) (1.18.5)\n",
            "Requirement already satisfied: pandas in /usr/local/lib/python3.6/dist-packages (from researchpy) (1.0.5)\n",
            "Requirement already satisfied: patsy>=0.4.0 in /usr/local/lib/python3.6/dist-packages (from statsmodels->researchpy) (0.5.1)\n",
            "Requirement already satisfied: pytz>=2017.2 in /usr/local/lib/python3.6/dist-packages (from pandas->researchpy) (2018.9)\n",
            "Requirement already satisfied: python-dateutil>=2.6.1 in /usr/local/lib/python3.6/dist-packages (from pandas->researchpy) (2.8.1)\n",
            "Requirement already satisfied: six in /usr/local/lib/python3.6/dist-packages (from patsy>=0.4.0->statsmodels->researchpy) (1.12.0)\n",
            "Installing collected packages: researchpy\n",
            "Successfully installed researchpy-0.2.2\n"
          ],
          "name": "stdout"
        }
      ]
    },
    {
      "cell_type": "code",
      "metadata": {
        "id": "hFSruC0ZAx7j",
        "colab_type": "code",
        "colab": {
          "base_uri": "https://localhost:8080/",
          "height": 419
        },
        "outputId": "ab0e6201-7d0b-4428-c0a7-1aa0d22cbee5"
      },
      "source": [
        "import pandas as pd\n",
        "import researchpy as rp\n",
        "import seaborn as sns; sns.set()\n",
        "import matplotlib.pyplot as plt\n",
        "\n",
        "df = pd.read_csv(\"https://raw.githubusercontent.com/researchpy/Data-sets/master/blood_pressure.csv\") \n",
        "df"
      ],
      "execution_count": 32,
      "outputs": [
        {
          "output_type": "execute_result",
          "data": {
            "text/html": [
              "<div>\n",
              "<style scoped>\n",
              "    .dataframe tbody tr th:only-of-type {\n",
              "        vertical-align: middle;\n",
              "    }\n",
              "\n",
              "    .dataframe tbody tr th {\n",
              "        vertical-align: top;\n",
              "    }\n",
              "\n",
              "    .dataframe thead th {\n",
              "        text-align: right;\n",
              "    }\n",
              "</style>\n",
              "<table border=\"1\" class=\"dataframe\">\n",
              "  <thead>\n",
              "    <tr style=\"text-align: right;\">\n",
              "      <th></th>\n",
              "      <th>patient</th>\n",
              "      <th>sex</th>\n",
              "      <th>agegrp</th>\n",
              "      <th>bp_before</th>\n",
              "      <th>bp_after</th>\n",
              "    </tr>\n",
              "  </thead>\n",
              "  <tbody>\n",
              "    <tr>\n",
              "      <th>0</th>\n",
              "      <td>1</td>\n",
              "      <td>Male</td>\n",
              "      <td>30-45</td>\n",
              "      <td>143</td>\n",
              "      <td>153</td>\n",
              "    </tr>\n",
              "    <tr>\n",
              "      <th>1</th>\n",
              "      <td>2</td>\n",
              "      <td>Male</td>\n",
              "      <td>30-45</td>\n",
              "      <td>163</td>\n",
              "      <td>170</td>\n",
              "    </tr>\n",
              "    <tr>\n",
              "      <th>2</th>\n",
              "      <td>3</td>\n",
              "      <td>Male</td>\n",
              "      <td>30-45</td>\n",
              "      <td>153</td>\n",
              "      <td>168</td>\n",
              "    </tr>\n",
              "    <tr>\n",
              "      <th>3</th>\n",
              "      <td>4</td>\n",
              "      <td>Male</td>\n",
              "      <td>30-45</td>\n",
              "      <td>153</td>\n",
              "      <td>142</td>\n",
              "    </tr>\n",
              "    <tr>\n",
              "      <th>4</th>\n",
              "      <td>5</td>\n",
              "      <td>Male</td>\n",
              "      <td>30-45</td>\n",
              "      <td>146</td>\n",
              "      <td>141</td>\n",
              "    </tr>\n",
              "    <tr>\n",
              "      <th>...</th>\n",
              "      <td>...</td>\n",
              "      <td>...</td>\n",
              "      <td>...</td>\n",
              "      <td>...</td>\n",
              "      <td>...</td>\n",
              "    </tr>\n",
              "    <tr>\n",
              "      <th>115</th>\n",
              "      <td>116</td>\n",
              "      <td>Female</td>\n",
              "      <td>60+</td>\n",
              "      <td>152</td>\n",
              "      <td>152</td>\n",
              "    </tr>\n",
              "    <tr>\n",
              "      <th>116</th>\n",
              "      <td>117</td>\n",
              "      <td>Female</td>\n",
              "      <td>60+</td>\n",
              "      <td>161</td>\n",
              "      <td>152</td>\n",
              "    </tr>\n",
              "    <tr>\n",
              "      <th>117</th>\n",
              "      <td>118</td>\n",
              "      <td>Female</td>\n",
              "      <td>60+</td>\n",
              "      <td>165</td>\n",
              "      <td>174</td>\n",
              "    </tr>\n",
              "    <tr>\n",
              "      <th>118</th>\n",
              "      <td>119</td>\n",
              "      <td>Female</td>\n",
              "      <td>60+</td>\n",
              "      <td>149</td>\n",
              "      <td>151</td>\n",
              "    </tr>\n",
              "    <tr>\n",
              "      <th>119</th>\n",
              "      <td>120</td>\n",
              "      <td>Female</td>\n",
              "      <td>60+</td>\n",
              "      <td>185</td>\n",
              "      <td>163</td>\n",
              "    </tr>\n",
              "  </tbody>\n",
              "</table>\n",
              "<p>120 rows × 5 columns</p>\n",
              "</div>"
            ],
            "text/plain": [
              "     patient     sex agegrp  bp_before  bp_after\n",
              "0          1    Male  30-45        143       153\n",
              "1          2    Male  30-45        163       170\n",
              "2          3    Male  30-45        153       168\n",
              "3          4    Male  30-45        153       142\n",
              "4          5    Male  30-45        146       141\n",
              "..       ...     ...    ...        ...       ...\n",
              "115      116  Female    60+        152       152\n",
              "116      117  Female    60+        161       152\n",
              "117      118  Female    60+        165       174\n",
              "118      119  Female    60+        149       151\n",
              "119      120  Female    60+        185       163\n",
              "\n",
              "[120 rows x 5 columns]"
            ]
          },
          "metadata": {
            "tags": []
          },
          "execution_count": 32
        }
      ]
    },
    {
      "cell_type": "markdown",
      "metadata": {
        "id": "aVmK9mNgBthj",
        "colab_type": "text"
      },
      "source": [
        "## Continuous Variables"
      ]
    },
    {
      "cell_type": "code",
      "metadata": {
        "id": "Pr-wzq5XBAc8",
        "colab_type": "code",
        "colab": {
          "base_uri": "https://localhost:8080/",
          "height": 221
        },
        "outputId": "0bd7af9f-89fc-4cb6-c38c-3d876f9e7828"
      },
      "source": [
        "df.info()"
      ],
      "execution_count": 19,
      "outputs": [
        {
          "output_type": "stream",
          "text": [
            "<class 'pandas.core.frame.DataFrame'>\n",
            "RangeIndex: 120 entries, 0 to 119\n",
            "Data columns (total 5 columns):\n",
            " #   Column     Non-Null Count  Dtype \n",
            "---  ------     --------------  ----- \n",
            " 0   patient    120 non-null    int64 \n",
            " 1   sex        120 non-null    object\n",
            " 2   agegrp     120 non-null    object\n",
            " 3   bp_before  120 non-null    int64 \n",
            " 4   bp_after   120 non-null    int64 \n",
            "dtypes: int64(3), object(2)\n",
            "memory usage: 4.8+ KB\n"
          ],
          "name": "stdout"
        }
      ]
    },
    {
      "cell_type": "code",
      "metadata": {
        "id": "TwLQ1ZeKBLLj",
        "colab_type": "code",
        "colab": {
          "base_uri": "https://localhost:8080/",
          "height": 297
        },
        "outputId": "20530023-3752-44e3-ce80-d6e60dac375c"
      },
      "source": [
        "df.describe()"
      ],
      "execution_count": 20,
      "outputs": [
        {
          "output_type": "execute_result",
          "data": {
            "text/html": [
              "<div>\n",
              "<style scoped>\n",
              "    .dataframe tbody tr th:only-of-type {\n",
              "        vertical-align: middle;\n",
              "    }\n",
              "\n",
              "    .dataframe tbody tr th {\n",
              "        vertical-align: top;\n",
              "    }\n",
              "\n",
              "    .dataframe thead th {\n",
              "        text-align: right;\n",
              "    }\n",
              "</style>\n",
              "<table border=\"1\" class=\"dataframe\">\n",
              "  <thead>\n",
              "    <tr style=\"text-align: right;\">\n",
              "      <th></th>\n",
              "      <th>patient</th>\n",
              "      <th>bp_before</th>\n",
              "      <th>bp_after</th>\n",
              "    </tr>\n",
              "  </thead>\n",
              "  <tbody>\n",
              "    <tr>\n",
              "      <th>count</th>\n",
              "      <td>120.000000</td>\n",
              "      <td>120.000000</td>\n",
              "      <td>120.000000</td>\n",
              "    </tr>\n",
              "    <tr>\n",
              "      <th>mean</th>\n",
              "      <td>60.500000</td>\n",
              "      <td>156.450000</td>\n",
              "      <td>151.358333</td>\n",
              "    </tr>\n",
              "    <tr>\n",
              "      <th>std</th>\n",
              "      <td>34.785054</td>\n",
              "      <td>11.389845</td>\n",
              "      <td>14.177622</td>\n",
              "    </tr>\n",
              "    <tr>\n",
              "      <th>min</th>\n",
              "      <td>1.000000</td>\n",
              "      <td>138.000000</td>\n",
              "      <td>125.000000</td>\n",
              "    </tr>\n",
              "    <tr>\n",
              "      <th>25%</th>\n",
              "      <td>30.750000</td>\n",
              "      <td>147.000000</td>\n",
              "      <td>140.750000</td>\n",
              "    </tr>\n",
              "    <tr>\n",
              "      <th>50%</th>\n",
              "      <td>60.500000</td>\n",
              "      <td>154.500000</td>\n",
              "      <td>149.500000</td>\n",
              "    </tr>\n",
              "    <tr>\n",
              "      <th>75%</th>\n",
              "      <td>90.250000</td>\n",
              "      <td>164.000000</td>\n",
              "      <td>161.000000</td>\n",
              "    </tr>\n",
              "    <tr>\n",
              "      <th>max</th>\n",
              "      <td>120.000000</td>\n",
              "      <td>185.000000</td>\n",
              "      <td>185.000000</td>\n",
              "    </tr>\n",
              "  </tbody>\n",
              "</table>\n",
              "</div>"
            ],
            "text/plain": [
              "          patient   bp_before    bp_after\n",
              "count  120.000000  120.000000  120.000000\n",
              "mean    60.500000  156.450000  151.358333\n",
              "std     34.785054   11.389845   14.177622\n",
              "min      1.000000  138.000000  125.000000\n",
              "25%     30.750000  147.000000  140.750000\n",
              "50%     60.500000  154.500000  149.500000\n",
              "75%     90.250000  164.000000  161.000000\n",
              "max    120.000000  185.000000  185.000000"
            ]
          },
          "metadata": {
            "tags": []
          },
          "execution_count": 20
        }
      ]
    },
    {
      "cell_type": "code",
      "metadata": {
        "id": "e607NRjrBQJz",
        "colab_type": "code",
        "colab": {
          "base_uri": "https://localhost:8080/",
          "height": 170
        },
        "outputId": "4494ea34-ba72-40fc-eab2-280bd703b20e"
      },
      "source": [
        "df['bp_before'].describe()"
      ],
      "execution_count": 21,
      "outputs": [
        {
          "output_type": "execute_result",
          "data": {
            "text/plain": [
              "count    120.000000\n",
              "mean     156.450000\n",
              "std       11.389845\n",
              "min      138.000000\n",
              "25%      147.000000\n",
              "50%      154.500000\n",
              "75%      164.000000\n",
              "max      185.000000\n",
              "Name: bp_before, dtype: float64"
            ]
          },
          "metadata": {
            "tags": []
          },
          "execution_count": 21
        }
      ]
    },
    {
      "cell_type": "markdown",
      "metadata": {
        "id": "gXPDPIjsBexF",
        "colab_type": "text"
      },
      "source": [
        "This method returns many useful descriptive statistics with a mix of measures of central tendency and measures of variability. This includes the number of non-missing observations; the mean; standard deviation; minimum value; 25th, 50th (a.k.a. the median), and 75th percentile; as well as the maximum value. It's missing some useful information that is typically desired regarding the mean, this is the standard error and the 95% confidence interval. No worries though, pairing this with Researcpy's summary_cont() method provides the descriptive statistic information that is wanted - this method will be shown later."
      ]
    },
    {
      "cell_type": "markdown",
      "metadata": {
        "id": "wmg6HlXOBufU",
        "colab_type": "text"
      },
      "source": [
        "## Categorical Variables"
      ]
    },
    {
      "cell_type": "code",
      "metadata": {
        "id": "qMcojc1zBU5r",
        "colab_type": "code",
        "colab": {
          "base_uri": "https://localhost:8080/",
          "height": 102
        },
        "outputId": "089c695a-1d9e-4140-f26b-074bdcbe99aa"
      },
      "source": [
        "df['sex'].describe()"
      ],
      "execution_count": 23,
      "outputs": [
        {
          "output_type": "execute_result",
          "data": {
            "text/plain": [
              "count        120\n",
              "unique         2\n",
              "top       Female\n",
              "freq          60\n",
              "Name: sex, dtype: object"
            ]
          },
          "metadata": {
            "tags": []
          },
          "execution_count": 23
        }
      ]
    },
    {
      "cell_type": "code",
      "metadata": {
        "id": "b5SEV0-KBxwL",
        "colab_type": "code",
        "colab": {
          "base_uri": "https://localhost:8080/",
          "height": 68
        },
        "outputId": "8797ddea-4045-4830-8b34-2eceeeafebda"
      },
      "source": [
        "df['sex'].value_counts()"
      ],
      "execution_count": 24,
      "outputs": [
        {
          "output_type": "execute_result",
          "data": {
            "text/plain": [
              "Female    60\n",
              "Male      60\n",
              "Name: sex, dtype: int64"
            ]
          },
          "metadata": {
            "tags": []
          },
          "execution_count": 24
        }
      ]
    },
    {
      "cell_type": "markdown",
      "metadata": {
        "id": "hIzyDa-aB-vz",
        "colab_type": "text"
      },
      "source": [
        "Using both the describe() and value_counts() methods are useful since they compliment each other with the information returned. The describe() method says that \"Female\" occurs more than \"Male\" but one can see that is not the case since they both occur an equal amount.\n",
        "\n",
        "For more information about these methods, please see their official documentation page for describe() and value_counts()."
      ]
    },
    {
      "cell_type": "code",
      "metadata": {
        "id": "wMhN-0SFCE4a",
        "colab_type": "code",
        "colab": {
          "base_uri": "https://localhost:8080/",
          "height": 34
        },
        "outputId": "ccf97de7-0073-4813-a738-6d4bbca2be75"
      },
      "source": [
        "df.columns"
      ],
      "execution_count": 26,
      "outputs": [
        {
          "output_type": "execute_result",
          "data": {
            "text/plain": [
              "Index(['patient', 'sex', 'agegrp', 'bp_before', 'bp_after'], dtype='object')"
            ]
          },
          "metadata": {
            "tags": []
          },
          "execution_count": 26
        }
      ]
    },
    {
      "cell_type": "code",
      "metadata": {
        "id": "oK_UWJbYCBvR",
        "colab_type": "code",
        "colab": {
          "base_uri": "https://localhost:8080/",
          "height": 102
        },
        "outputId": "8f3e5e01-34f8-4b7b-a3d0-72430677a090"
      },
      "source": [
        "df['agegrp'].describe()"
      ],
      "execution_count": 27,
      "outputs": [
        {
          "output_type": "execute_result",
          "data": {
            "text/plain": [
              "count     120\n",
              "unique      3\n",
              "top       60+\n",
              "freq       40\n",
              "Name: agegrp, dtype: object"
            ]
          },
          "metadata": {
            "tags": []
          },
          "execution_count": 27
        }
      ]
    },
    {
      "cell_type": "code",
      "metadata": {
        "id": "clvQDlaQB0P6",
        "colab_type": "code",
        "colab": {
          "base_uri": "https://localhost:8080/",
          "height": 85
        },
        "outputId": "a7d7c44e-ef3a-4aa4-844c-b12c44d14b5b"
      },
      "source": [
        "df['agegrp'].value_counts()"
      ],
      "execution_count": 28,
      "outputs": [
        {
          "output_type": "execute_result",
          "data": {
            "text/plain": [
              "60+      40\n",
              "46-59    40\n",
              "30-45    40\n",
              "Name: agegrp, dtype: int64"
            ]
          },
          "metadata": {
            "tags": []
          },
          "execution_count": 28
        }
      ]
    },
    {
      "cell_type": "markdown",
      "metadata": {
        "id": "3WsGAnRLCQLA",
        "colab_type": "text"
      },
      "source": [
        "## Distribution Measures"
      ]
    },
    {
      "cell_type": "code",
      "metadata": {
        "id": "kGNdf051CJWD",
        "colab_type": "code",
        "colab": {
          "base_uri": "https://localhost:8080/",
          "height": 34
        },
        "outputId": "a0621eeb-f9d1-4406-e500-ae0fcdc9f5ef"
      },
      "source": [
        "df['bp_before'].kurtosis()"
      ],
      "execution_count": 29,
      "outputs": [
        {
          "output_type": "execute_result",
          "data": {
            "text/plain": [
              "-0.4385909267217518"
            ]
          },
          "metadata": {
            "tags": []
          },
          "execution_count": 29
        }
      ]
    },
    {
      "cell_type": "markdown",
      "metadata": {
        "id": "7q6EY6EgCZVC",
        "colab_type": "text"
      },
      "source": [
        "Kurtosis obtained using Fisher’s definition of kurtosis (kurtosis of normal == 0.0). Normalized by N-1."
      ]
    },
    {
      "cell_type": "code",
      "metadata": {
        "id": "cINFmcUmCS37",
        "colab_type": "code",
        "colab": {
          "base_uri": "https://localhost:8080/",
          "height": 34
        },
        "outputId": "804f60ec-b0a1-4681-fbd2-5c65c4bddfe0"
      },
      "source": [
        "df['bp_before'].skew()"
      ],
      "execution_count": 30,
      "outputs": [
        {
          "output_type": "execute_result",
          "data": {
            "text/plain": [
              "0.5542441047738688"
            ]
          },
          "metadata": {
            "tags": []
          },
          "execution_count": 30
        }
      ]
    },
    {
      "cell_type": "markdown",
      "metadata": {
        "id": "fU1FbUoHCavj",
        "colab_type": "text"
      },
      "source": [
        "Return unbiased skew over requested axis."
      ]
    },
    {
      "cell_type": "code",
      "metadata": {
        "id": "Jgr_W7CvCxTW",
        "colab_type": "code",
        "colab": {
          "base_uri": "https://localhost:8080/",
          "height": 305
        },
        "outputId": "aa979412-9760-4519-d956-f3dc00d8e5e1"
      },
      "source": [
        "sns.distplot(df['bp_before'])"
      ],
      "execution_count": 33,
      "outputs": [
        {
          "output_type": "execute_result",
          "data": {
            "text/plain": [
              "<matplotlib.axes._subplots.AxesSubplot at 0x7f72ca637470>"
            ]
          },
          "metadata": {
            "tags": []
          },
          "execution_count": 33
        },
        {
          "output_type": "display_data",
          "data": {
            "image/png": "[encoded data removed]",
            "text/plain": [
              "<Figure size 432x288 with 1 Axes>"
            ]
          },
          "metadata": {
            "tags": []
          }
        }
      ]
    },
    {
      "cell_type": "markdown",
      "metadata": {
        "id": "9Vl0af11FD-m",
        "colab_type": "text"
      },
      "source": [
        "## RESEARCHPY"
      ]
    },
    {
      "cell_type": "code",
      "metadata": {
        "id": "HnM_KAvUDppp",
        "colab_type": "code",
        "colab": {
          "base_uri": "https://localhost:8080/",
          "height": 114
        },
        "outputId": "bcb8262b-2d98-424e-a516-bb3b37cc7ff5"
      },
      "source": [
        "rp.summary_cont(df['bp_before'])"
      ],
      "execution_count": 36,
      "outputs": [
        {
          "output_type": "stream",
          "text": [
            "\n",
            "\n"
          ],
          "name": "stdout"
        },
        {
          "output_type": "execute_result",
          "data": {
            "text/html": [
              "<div>\n",
              "<style scoped>\n",
              "    .dataframe tbody tr th:only-of-type {\n",
              "        vertical-align: middle;\n",
              "    }\n",
              "\n",
              "    .dataframe tbody tr th {\n",
              "        vertical-align: top;\n",
              "    }\n",
              "\n",
              "    .dataframe thead th {\n",
              "        text-align: right;\n",
              "    }\n",
              "</style>\n",
              "<table border=\"1\" class=\"dataframe\">\n",
              "  <thead>\n",
              "    <tr style=\"text-align: right;\">\n",
              "      <th></th>\n",
              "      <th>Variable</th>\n",
              "      <th>N</th>\n",
              "      <th>Mean</th>\n",
              "      <th>SD</th>\n",
              "      <th>SE</th>\n",
              "      <th>95% Conf.</th>\n",
              "      <th>Interval</th>\n",
              "    </tr>\n",
              "  </thead>\n",
              "  <tbody>\n",
              "    <tr>\n",
              "      <th>0</th>\n",
              "      <td>bp_before</td>\n",
              "      <td>120.0</td>\n",
              "      <td>156.45</td>\n",
              "      <td>11.389845</td>\n",
              "      <td>1.039746</td>\n",
              "      <td>154.391199</td>\n",
              "      <td>158.508801</td>\n",
              "    </tr>\n",
              "  </tbody>\n",
              "</table>\n",
              "</div>"
            ],
            "text/plain": [
              "    Variable      N    Mean         SD        SE   95% Conf.    Interval\n",
              "0  bp_before  120.0  156.45  11.389845  1.039746  154.391199  158.508801"
            ]
          },
          "metadata": {
            "tags": []
          },
          "execution_count": 36
        }
      ]
    },
    {
      "cell_type": "markdown",
      "metadata": {
        "id": "Vtwk0_l6FO2S",
        "colab_type": "text"
      },
      "source": [
        "This method returns less overall information compared to the describe() method, but it does return more in-depth information regarding the mean. It returns the non-missing count, mean, stand deviation (SD). standard error (SE), and the 95% confidence interval."
      ]
    },
    {
      "cell_type": "code",
      "metadata": {
        "id": "utfbrd5WF7Ap",
        "colab_type": "code",
        "colab": {
          "base_uri": "https://localhost:8080/",
          "height": 111
        },
        "outputId": "829c4ec5-b614-42f1-c264-9dfa81115131"
      },
      "source": [
        "rp.summary_cat(df['sex'])"
      ],
      "execution_count": 38,
      "outputs": [
        {
          "output_type": "execute_result",
          "data": {
            "text/html": [
              "<div>\n",
              "<style scoped>\n",
              "    .dataframe tbody tr th:only-of-type {\n",
              "        vertical-align: middle;\n",
              "    }\n",
              "\n",
              "    .dataframe tbody tr th {\n",
              "        vertical-align: top;\n",
              "    }\n",
              "\n",
              "    .dataframe thead th {\n",
              "        text-align: right;\n",
              "    }\n",
              "</style>\n",
              "<table border=\"1\" class=\"dataframe\">\n",
              "  <thead>\n",
              "    <tr style=\"text-align: right;\">\n",
              "      <th></th>\n",
              "      <th>Variable</th>\n",
              "      <th>Outcome</th>\n",
              "      <th>Count</th>\n",
              "      <th>Percent</th>\n",
              "    </tr>\n",
              "  </thead>\n",
              "  <tbody>\n",
              "    <tr>\n",
              "      <th>0</th>\n",
              "      <td>sex</td>\n",
              "      <td>Female</td>\n",
              "      <td>60</td>\n",
              "      <td>50.0</td>\n",
              "    </tr>\n",
              "    <tr>\n",
              "      <th>1</th>\n",
              "      <td></td>\n",
              "      <td>Male</td>\n",
              "      <td>60</td>\n",
              "      <td>50.0</td>\n",
              "    </tr>\n",
              "  </tbody>\n",
              "</table>\n",
              "</div>"
            ],
            "text/plain": [
              "  Variable Outcome  Count  Percent\n",
              "0      sex  Female     60     50.0\n",
              "1             Male     60     50.0"
            ]
          },
          "metadata": {
            "tags": []
          },
          "execution_count": 38
        }
      ]
    },
    {
      "cell_type": "markdown",
      "metadata": {
        "id": "L4neK90JF_iO",
        "colab_type": "text"
      },
      "source": [
        "The method returns the variable name, the non-missing count, and the percentage of each category of a variable. By default, the outcomes are sorted in descending order."
      ]
    },
    {
      "cell_type": "markdown",
      "metadata": {
        "id": "dj7snlBKGSrS",
        "colab_type": "text"
      },
      "source": [
        "# 2. INFERENTIAL STATISTICS"
      ]
    },
    {
      "cell_type": "code",
      "metadata": {
        "id": "SOqde4BsIYf_",
        "colab_type": "code",
        "colab": {}
      },
      "source": [
        "import pandas as pd\n",
        "import scipy.stats as stats\n",
        "import statsmodels.formula.api as smf"
      ],
      "execution_count": 44,
      "outputs": []
    },
    {
      "cell_type": "markdown",
      "metadata": {
        "id": "tAvffXlSGaPS",
        "colab_type": "text"
      },
      "source": [
        "https://www.pythonfordatascience.org/parametric-assumptions-python/"
      ]
    },
    {
      "cell_type": "markdown",
      "metadata": {
        "id": "FOIaXfDHGW5z",
        "colab_type": "text"
      },
      "source": [
        "## PARAMETRIC ASSUMPTIONS"
      ]
    },
    {
      "cell_type": "markdown",
      "metadata": {
        "id": "xwqSF-WGIDrH",
        "colab_type": "text"
      },
      "source": [
        "Parametric tests have the same assumptions, or conditions, that need to be met in order for the analysis to be considered reliable.\n",
        "\n",
        "Parametric test assumptions\n",
        "\n",
        "1. Independence\n",
        "2. Population distributions are normal\n",
        "3. Samples have equal variances\n",
        "\n",
        "It is best to check the assumptions in the order above since some equal variance tests are sensitive to the distribution being normal."
      ]
    },
    {
      "cell_type": "markdown",
      "metadata": {
        "id": "jMq2gJ5TIOIA",
        "colab_type": "text"
      },
      "source": [
        "### NORMALITY TESTS"
      ]
    },
    {
      "cell_type": "markdown",
      "metadata": {
        "id": "cc0U1kxuJIpZ",
        "colab_type": "text"
      },
      "source": [
        "#### Shapiro-Wilk (SW) Test"
      ]
    },
    {
      "cell_type": "markdown",
      "metadata": {
        "id": "8y6K-4GWJQKn",
        "colab_type": "text"
      },
      "source": [
        "The null hypothesis is that the data is normal. The Shapiro-Wilk test is an omnibus test (D'Agostino, 1971). It evaluates normality by comparing the data's distribution (values ordered) to the hypothesized normal distribution (Shapiro & Wilk, 1965). This can be completed in Python by using the shapiro() method from Scipy.stats."
      ]
    },
    {
      "cell_type": "markdown",
      "metadata": {
        "id": "xT3_Vk91IfsY",
        "colab_type": "text"
      },
      "source": [
        "Coming from independent t-test framework"
      ]
    },
    {
      "cell_type": "code",
      "metadata": {
        "id": "v6fk9vuVF7UM",
        "colab_type": "code",
        "colab": {
          "base_uri": "https://localhost:8080/",
          "height": 102
        },
        "outputId": "5d3b1d27-edae-4962-cae4-951282934d67"
      },
      "source": [
        "sampling_difference = df['bp_after'][df['sex'] == 'Male'].values - \\\n",
        "                      df['bp_after'][df['sex'] == 'Female'].values\n",
        "sampling_difference"
      ],
      "execution_count": 39,
      "outputs": [
        {
          "output_type": "execute_result",
          "data": {
            "text/plain": [
              "array([  4,  28,  22,   4,  10,   2,  -1,   6,   0, -10,  31,  24, -33,\n",
              "        15,   6, -25,  13, -13, -13,  15,  41,   5,  -2, -15,   3,  14,\n",
              "       -12,  47,   6,  30,   6,   7,  18,  44,  14,  17, -12,  14,   3,\n",
              "        31, -11,  17,  19,  11,  15,  21,   2, -10,  33,   9, -15,  17,\n",
              "        16, -14,  43,  -6,  24, -27,  10,   1])"
            ]
          },
          "metadata": {
            "tags": []
          },
          "execution_count": 39
        }
      ]
    },
    {
      "cell_type": "code",
      "metadata": {
        "id": "cM3UX7AiITBG",
        "colab_type": "code",
        "colab": {
          "base_uri": "https://localhost:8080/",
          "height": 34
        },
        "outputId": "858db879-7ab3-4f1c-fc85-d83fb444d3ba"
      },
      "source": [
        "stats.shapiro(sampling_difference)"
      ],
      "execution_count": 42,
      "outputs": [
        {
          "output_type": "execute_result",
          "data": {
            "text/plain": [
              "(0.98586106300354, 0.7147841453552246)"
            ]
          },
          "metadata": {
            "tags": []
          },
          "execution_count": 42
        }
      ]
    },
    {
      "cell_type": "markdown",
      "metadata": {
        "id": "nxqNkGPCIo47",
        "colab_type": "text"
      },
      "source": [
        "From regression or ANOVA framework"
      ]
    },
    {
      "cell_type": "code",
      "metadata": {
        "id": "KV_pOiwOIV3l",
        "colab_type": "code",
        "colab": {
          "base_uri": "https://localhost:8080/",
          "height": 34
        },
        "outputId": "025ef2db-3169-427b-deb7-2b99e9f2eee8"
      },
      "source": [
        "model = smf.ols(\"bp_after ~ C(sex) + C(agegrp)\", data= df).fit()\n",
        "\n",
        "stats.shapiro(model.resid)"
      ],
      "execution_count": 46,
      "outputs": [
        {
          "output_type": "execute_result",
          "data": {
            "text/plain": [
              "(0.9816310405731201, 0.10094476491212845)"
            ]
          },
          "metadata": {
            "tags": []
          },
          "execution_count": 46
        }
      ]
    },
    {
      "cell_type": "markdown",
      "metadata": {
        "id": "kkMpuhpQJGJI",
        "colab_type": "text"
      },
      "source": [
        "Unfortunately it's not labelled, but the output is (W test statistic, p-value)."
      ]
    },
    {
      "cell_type": "markdown",
      "metadata": {
        "id": "mveyKEG2JMi-",
        "colab_type": "text"
      },
      "source": [
        "#### D'Agostino-Pearson K2 Test"
      ]
    },
    {
      "cell_type": "markdown",
      "metadata": {
        "id": "MEdYie_AJWUq",
        "colab_type": "text"
      },
      "source": [
        "The null hypothesis is that the data is normal. The D'Agostino-Pearson test is an omnibus test and evaluates normality by assessing the skewness and kurtosis (D'Agostino, 1971)."
      ]
    },
    {
      "cell_type": "code",
      "metadata": {
        "id": "pcG06cTgIrIV",
        "colab_type": "code",
        "colab": {
          "base_uri": "https://localhost:8080/",
          "height": 34
        },
        "outputId": "a5f85a87-e077-44e5-aea7-046e88b0f513"
      },
      "source": [
        "sampling_difference = df['bp_after'][df['sex'] == 'Male'].values - \\\n",
        "                    df['bp_after'][df['sex'] == 'Female'].values\n",
        "\n",
        "stats.normaltest(sampling_difference)"
      ],
      "execution_count": 47,
      "outputs": [
        {
          "output_type": "execute_result",
          "data": {
            "text/plain": [
              "NormaltestResult(statistic=0.003175119018886905, pvalue=0.9984136999965528)"
            ]
          },
          "metadata": {
            "tags": []
          },
          "execution_count": 47
        }
      ]
    },
    {
      "cell_type": "code",
      "metadata": {
        "id": "gAjGsJpTJYyl",
        "colab_type": "code",
        "colab": {
          "base_uri": "https://localhost:8080/",
          "height": 34
        },
        "outputId": "de2815f3-2dfb-4d82-feff-b0ea38828bcf"
      },
      "source": [
        "model = smf.ols(\"bp_after ~ C(sex) + C(agegrp)\", data= df).fit()\n",
        "\n",
        "stats.normaltest(model.resid)"
      ],
      "execution_count": 48,
      "outputs": [
        {
          "output_type": "execute_result",
          "data": {
            "text/plain": [
              "NormaltestResult(statistic=2.9626037518316215, pvalue=0.22734152518547265)"
            ]
          },
          "metadata": {
            "tags": []
          },
          "execution_count": 48
        }
      ]
    },
    {
      "cell_type": "markdown",
      "metadata": {
        "id": "iI8MoWQOJkEP",
        "colab_type": "text"
      },
      "source": [
        "#### Kolmogorov-Smirnov (KS) Test"
      ]
    },
    {
      "cell_type": "markdown",
      "metadata": {
        "id": "L2i2gc-EJoBf",
        "colab_type": "text"
      },
      "source": [
        "The null hypothesis is that the data is normal (matches compared distribution). The Kolmogorov-Smirnov test is a distance test (D'Agostino, 1971). It evaluates normality by comparing the data's empirical distribution function to the expected cumulative distribution function of the comparison distribution (Öztuna D., Elhan A., & Tüccar, 2006).\n",
        "\n",
        "If testing the difference between two groups, then this can be completed using the ks_2samp() method from Scipy.stats."
      ]
    },
    {
      "cell_type": "code",
      "metadata": {
        "id": "xPSSqFzxJf9s",
        "colab_type": "code",
        "colab": {
          "base_uri": "https://localhost:8080/",
          "height": 34
        },
        "outputId": "7931d35b-97d0-415b-c834-c15cf7686271"
      },
      "source": [
        "stats.ks_2samp(df['bp_after'][df['sex'] == 'Male'],\n",
        "               df['bp_after'][df['sex'] == 'Female'])"
      ],
      "execution_count": 49,
      "outputs": [
        {
          "output_type": "execute_result",
          "data": {
            "text/plain": [
              "Ks_2sampResult(statistic=0.36666666666666664, pvalue=0.0005569710611454617)"
            ]
          },
          "metadata": {
            "tags": []
          },
          "execution_count": 49
        }
      ]
    },
    {
      "cell_type": "code",
      "metadata": {
        "id": "STCxd_qFJpOM",
        "colab_type": "code",
        "colab": {
          "base_uri": "https://localhost:8080/",
          "height": 34
        },
        "outputId": "6bdadc34-5b58-460f-f84b-2854bcd04ce3"
      },
      "source": [
        "model = smf.ols(\"bp_after ~ C(sex) + C(agegrp)\", data= df).fit()\n",
        "\n",
        "stats.kstest(model.resid, 'norm')"
      ],
      "execution_count": 50,
      "outputs": [
        {
          "output_type": "execute_result",
          "data": {
            "text/plain": [
              "KstestResult(statistic=0.450217970843921, pvalue=1.0174625716712685e-22)"
            ]
          },
          "metadata": {
            "tags": []
          },
          "execution_count": 50
        }
      ]
    },
    {
      "cell_type": "markdown",
      "metadata": {
        "id": "BPlQX4WRJtVx",
        "colab_type": "text"
      },
      "source": [
        "#### Anderson-Darling"
      ]
    },
    {
      "cell_type": "code",
      "metadata": {
        "id": "eXEP5atJJqqT",
        "colab_type": "code",
        "colab": {
          "base_uri": "https://localhost:8080/",
          "height": 119
        },
        "outputId": "e3c218f3-36af-4c3f-b9af-4ddcb5fe5ad3"
      },
      "source": [
        "sampling_difference = df['bp_after'][df['sex'] == 'Male'].values - \\\n",
        "                      df['bp_after'][df['sex'] == 'Female'].values\n",
        "\n",
        "result = stats.anderson(sampling_difference)\n",
        "\n",
        "print(f'Test statistic: {result.statistic: .4f}')\n",
        "\n",
        "for i in range(len(result.critical_values)):\n",
        "    sig, crit = result.significance_level[i], result.critical_values[i]\n",
        "\n",
        "    if result.statistic < result.critical_values[i]:\n",
        "        print(f\"At {sig}% significance,{result.statistic: .4f} <{result.critical_values[i]: .4f} data looks normal (fail to reject H0)\")\n",
        "    else:\n",
        "        print(f\"At {sig}% significance,{result.statistic: .4f} >{result.critical_values[i]: .4f} data does not look normal (reject H0)\")\n"
      ],
      "execution_count": 51,
      "outputs": [
        {
          "output_type": "stream",
          "text": [
            "Test statistic:  0.2987\n",
            "At 15.0% significance, 0.2987 < 0.5440 data looks normal (fail to reject H0)\n",
            "At 10.0% significance, 0.2987 < 0.6190 data looks normal (fail to reject H0)\n",
            "At 5.0% significance, 0.2987 < 0.7430 data looks normal (fail to reject H0)\n",
            "At 2.5% significance, 0.2987 < 0.8660 data looks normal (fail to reject H0)\n",
            "At 1.0% significance, 0.2987 < 1.0300 data looks normal (fail to reject H0)\n"
          ],
          "name": "stdout"
        }
      ]
    },
    {
      "cell_type": "code",
      "metadata": {
        "id": "vuNi0YHmKEJv",
        "colab_type": "code",
        "colab": {
          "base_uri": "https://localhost:8080/",
          "height": 34
        },
        "outputId": "9c961d6b-0a05-4983-ef8a-de7b5c8e56c7"
      },
      "source": [
        "result.critical_values"
      ],
      "execution_count": 52,
      "outputs": [
        {
          "output_type": "execute_result",
          "data": {
            "text/plain": [
              "array([0.544, 0.619, 0.743, 0.866, 1.03 ])"
            ]
          },
          "metadata": {
            "tags": []
          },
          "execution_count": 52
        }
      ]
    },
    {
      "cell_type": "code",
      "metadata": {
        "id": "mqElxhAcJ1ws",
        "colab_type": "code",
        "colab": {
          "base_uri": "https://localhost:8080/",
          "height": 119
        },
        "outputId": "ac5dcafa-c033-4ef3-a7a1-357f2ad4b6b9"
      },
      "source": [
        "model = smf.ols(\"bp_after ~ C(sex) + C(agegrp)\", data= df).fit()\n",
        "\n",
        "result = stats.anderson(model.resid)\n",
        "\n",
        "print(f'Test statistic: {result.statistic: .4f}')\n",
        "for i in range(len(result.critical_values)):\n",
        "    sig, crit = result.significance_level[i], result.critical_values[i]\n",
        "\n",
        "    if result.statistic < result.critical_values[i]:\n",
        "        print(f\"At {sig}% significance,{result.statistic: .4f} <{result.critical_values[i]: .4f} data looks normal (fail to reject H0)\")\n",
        "    else:\n",
        "        print(f\"At {sig}% significance,{result.statistic: .4f} >{result.critical_values[i]: .4f} data does not look normal (reject H0)\")"
      ],
      "execution_count": 53,
      "outputs": [
        {
          "output_type": "stream",
          "text": [
            "Test statistic:  0.4467\n",
            "At 15.0% significance, 0.4467 < 0.5580 data looks normal (fail to reject H0)\n",
            "At 10.0% significance, 0.4467 < 0.6360 data looks normal (fail to reject H0)\n",
            "At 5.0% significance, 0.4467 < 0.7630 data looks normal (fail to reject H0)\n",
            "At 2.5% significance, 0.4467 < 0.8900 data looks normal (fail to reject H0)\n",
            "At 1.0% significance, 0.4467 < 1.0590 data looks normal (fail to reject H0)\n"
          ],
          "name": "stdout"
        }
      ]
    },
    {
      "cell_type": "markdown",
      "metadata": {
        "id": "lJhXxIJNKXtL",
        "colab_type": "text"
      },
      "source": [
        "### GRAPHICAL METHODS"
      ]
    },
    {
      "cell_type": "code",
      "metadata": {
        "id": "UM2orl-fKQIf",
        "colab_type": "code",
        "colab": {
          "base_uri": "https://localhost:8080/",
          "height": 642
        },
        "outputId": "234b2674-a5ac-4ada-8fd9-91dba571bb37"
      },
      "source": [
        "\n",
        "model = smf.ols(\"bp_after ~ C(sex) + C(agegrp)\", data= df).fit()\n",
        "\n",
        "fig = plt.figure(figsize= (10, 10))\n",
        "ax = fig.add_subplot(111)\n",
        "\n",
        "normality_plot, stat = stats.probplot(model.resid, plot= plt, rvalue= True)\n",
        "ax.set_title(\"Probability plot of regression residuals \\n with R value\")\n",
        "ax.set\n",
        "\n",
        "plt.show()"
      ],
      "execution_count": 56,
      "outputs": [
        {
          "output_type": "display_data",
          "data": {
            "image/png": "[encoded data removed]",
            "text/plain": [
              "<Figure size 720x720 with 1 Axes>"
            ]
          },
          "metadata": {
            "tags": []
          }
        }
      ]
    },
    {
      "cell_type": "markdown",
      "metadata": {
        "id": "D7OEMCO7K9YU",
        "colab_type": "text"
      },
      "source": [
        "### HOMOGENEITY OF VARIANCES"
      ]
    },
    {
      "cell_type": "code",
      "metadata": {
        "id": "9VEZHTF5Kb50",
        "colab_type": "code",
        "colab": {
          "base_uri": "https://localhost:8080/",
          "height": 34
        },
        "outputId": "56fdafc5-b358-491b-bb35-c1bcf93192fe"
      },
      "source": [
        "stats.bartlett(df['bp_after'][df['sex'] == 'Male'],\n",
        "               df['bp_after'][df['sex'] == 'Female'])"
      ],
      "execution_count": 57,
      "outputs": [
        {
          "output_type": "execute_result",
          "data": {
            "text/plain": [
              "BartlettResult(statistic=3.9379638422812793, pvalue=0.047207884641474476)"
            ]
          },
          "metadata": {
            "tags": []
          },
          "execution_count": 57
        }
      ]
    },
    {
      "cell_type": "code",
      "metadata": {
        "id": "fW4rt0C3LHLC",
        "colab_type": "code",
        "colab": {
          "base_uri": "https://localhost:8080/",
          "height": 34
        },
        "outputId": "5f6005a4-3914-41ee-8743-25093ba9bd80"
      },
      "source": [
        "stats.levene(df['bp_after'][df['sex'] == 'Male'],\n",
        "             df['bp_after'][df['sex'] == 'Female'])\n"
      ],
      "execution_count": 58,
      "outputs": [
        {
          "output_type": "execute_result",
          "data": {
            "text/plain": [
              "LeveneResult(statistic=5.0464151793144625, pvalue=0.026537264851214513)"
            ]
          },
          "metadata": {
            "tags": []
          },
          "execution_count": 58
        }
      ]
    },
    {
      "cell_type": "code",
      "metadata": {
        "id": "J3arRKxLLJHb",
        "colab_type": "code",
        "colab": {
          "base_uri": "https://localhost:8080/",
          "height": 34
        },
        "outputId": "7a465550-7ded-4dca-f1ab-e7a07b783066"
      },
      "source": [
        "# Using the median\n",
        "\n",
        "stats.levene(df['bp_after'][df['sex'] == 'Male'],\n",
        "             df['bp_after'][df['sex'] == 'Female'], center= \"median\")"
      ],
      "execution_count": 59,
      "outputs": [
        {
          "output_type": "execute_result",
          "data": {
            "text/plain": [
              "LeveneResult(statistic=5.0464151793144625, pvalue=0.026537264851214513)"
            ]
          },
          "metadata": {
            "tags": []
          },
          "execution_count": 59
        }
      ]
    },
    {
      "cell_type": "code",
      "metadata": {
        "id": "uzS55vaKLN5b",
        "colab_type": "code",
        "colab": {
          "base_uri": "https://localhost:8080/",
          "height": 34
        },
        "outputId": "146a2d91-98ff-4e79-b211-eeae0442ee67"
      },
      "source": [
        "# Using the trimmed mean (Default is to cut 10% total - 5% from each tail)\n",
        "\n",
        "stats.levene(df['bp_after'][df['sex'] == 'Male'],\n",
        "             df['bp_after'][df['sex'] == 'Female'], center= \"trimmed\")"
      ],
      "execution_count": 60,
      "outputs": [
        {
          "output_type": "execute_result",
          "data": {
            "text/plain": [
              "LeveneResult(statistic=7.769755793226307, pvalue=0.006297605035462623)"
            ]
          },
          "metadata": {
            "tags": []
          },
          "execution_count": 60
        }
      ]
    },
    {
      "cell_type": "markdown",
      "metadata": {
        "id": "1bPo8DJsLTyD",
        "colab_type": "text"
      },
      "source": [
        "WHAT IF HOMOGENEITY OF VARIANCES IS VIOLATED?\n",
        "If there is not equal variances between groups there are a few routes to consider, these are in no particular order:\n",
        "\n",
        "- Use a non-parametric statistical test\n",
        "- Transform the data\n",
        "\n",
        "Common data transformation methods will be provided in the next section."
      ]
    },
    {
      "cell_type": "markdown",
      "metadata": {
        "id": "TGUWvktnNXVm",
        "colab_type": "text"
      },
      "source": [
        "### DATA TRANSFORMATION\n",
        "\n",
        "If the assumption(s) of normality or homogeneity of variances are not met then a route to consider is transforming the data. If this is the route that is decided on to try and correct not meeting one or both of the assumptions don't forget to back-transform the data for reporting and interpreting. Some data transformations effect normality and variances differently so different transformations should be tested. There are of course, common transformations that are used."
      ]
    },
    {
      "cell_type": "markdown",
      "metadata": {
        "id": "lT2Wd_21N2vo",
        "colab_type": "text"
      },
      "source": [
        "## Variance, Covariance and correlation"
      ]
    },
    {
      "cell_type": "markdown",
      "metadata": {
        "id": "W6LUubY_N9Cf",
        "colab_type": "text"
      },
      "source": [
        "###DEFINITIONS AND DATA\n",
        "\n",
        "The difference between variance, covariance, and correlation is:\n",
        "\n",
        "- Variance is a measure of variability from the mean\n",
        "- Covariance is a measure of relationship between the variability of 2 variables - covariance is scale dependent because it is not standardized\n",
        "- Correlation is a of relationship between the variability of of 2 variables - correlation is standardized making it not scale dependent\n",
        "\n",
        "A more in-depth look into each of these will be discussed below. First to import the required packages and create some fake data."
      ]
    },
    {
      "cell_type": "code",
      "metadata": {
        "id": "TxFRZDG3LPGa",
        "colab_type": "code",
        "colab": {
          "base_uri": "https://localhost:8080/",
          "height": 204
        },
        "outputId": "a57e4d8f-1eb6-4f4e-8bdf-efb74a092d10"
      },
      "source": [
        "# Setting a seed so the example is reproducible\n",
        "np.random.seed(4272018)\n",
        "\n",
        "df = pd.DataFrame(np.random.randint(low= 0, high= 20, size= (5, 2)),\n",
        "                  columns= ['Commercials Watched', 'Product Purchases'])\n",
        "\n",
        "df"
      ],
      "execution_count": 61,
      "outputs": [
        {
          "output_type": "execute_result",
          "data": {
            "text/html": [
              "<div>\n",
              "<style scoped>\n",
              "    .dataframe tbody tr th:only-of-type {\n",
              "        vertical-align: middle;\n",
              "    }\n",
              "\n",
              "    .dataframe tbody tr th {\n",
              "        vertical-align: top;\n",
              "    }\n",
              "\n",
              "    .dataframe thead th {\n",
              "        text-align: right;\n",
              "    }\n",
              "</style>\n",
              "<table border=\"1\" class=\"dataframe\">\n",
              "  <thead>\n",
              "    <tr style=\"text-align: right;\">\n",
              "      <th></th>\n",
              "      <th>Commercials Watched</th>\n",
              "      <th>Product Purchases</th>\n",
              "    </tr>\n",
              "  </thead>\n",
              "  <tbody>\n",
              "    <tr>\n",
              "      <th>0</th>\n",
              "      <td>10</td>\n",
              "      <td>13</td>\n",
              "    </tr>\n",
              "    <tr>\n",
              "      <th>1</th>\n",
              "      <td>15</td>\n",
              "      <td>0</td>\n",
              "    </tr>\n",
              "    <tr>\n",
              "      <th>2</th>\n",
              "      <td>7</td>\n",
              "      <td>7</td>\n",
              "    </tr>\n",
              "    <tr>\n",
              "      <th>3</th>\n",
              "      <td>2</td>\n",
              "      <td>4</td>\n",
              "    </tr>\n",
              "    <tr>\n",
              "      <th>4</th>\n",
              "      <td>16</td>\n",
              "      <td>11</td>\n",
              "    </tr>\n",
              "  </tbody>\n",
              "</table>\n",
              "</div>"
            ],
            "text/plain": [
              "   Commercials Watched  Product Purchases\n",
              "0                   10                 13\n",
              "1                   15                  0\n",
              "2                    7                  7\n",
              "3                    2                  4\n",
              "4                   16                 11"
            ]
          },
          "metadata": {
            "tags": []
          },
          "execution_count": 61
        }
      ]
    },
    {
      "cell_type": "code",
      "metadata": {
        "id": "NYFYK8W1OSwY",
        "colab_type": "code",
        "colab": {
          "base_uri": "https://localhost:8080/",
          "height": 111
        },
        "outputId": "7922c0b1-7755-451c-aa1c-902bee410d5d"
      },
      "source": [
        "df.agg([\"mean\", \"std\"])"
      ],
      "execution_count": 62,
      "outputs": [
        {
          "output_type": "execute_result",
          "data": {
            "text/html": [
              "<div>\n",
              "<style scoped>\n",
              "    .dataframe tbody tr th:only-of-type {\n",
              "        vertical-align: middle;\n",
              "    }\n",
              "\n",
              "    .dataframe tbody tr th {\n",
              "        vertical-align: top;\n",
              "    }\n",
              "\n",
              "    .dataframe thead th {\n",
              "        text-align: right;\n",
              "    }\n",
              "</style>\n",
              "<table border=\"1\" class=\"dataframe\">\n",
              "  <thead>\n",
              "    <tr style=\"text-align: right;\">\n",
              "      <th></th>\n",
              "      <th>Commercials Watched</th>\n",
              "      <th>Product Purchases</th>\n",
              "    </tr>\n",
              "  </thead>\n",
              "  <tbody>\n",
              "    <tr>\n",
              "      <th>mean</th>\n",
              "      <td>10.000000</td>\n",
              "      <td>7.000000</td>\n",
              "    </tr>\n",
              "    <tr>\n",
              "      <th>std</th>\n",
              "      <td>5.787918</td>\n",
              "      <td>5.244044</td>\n",
              "    </tr>\n",
              "  </tbody>\n",
              "</table>\n",
              "</div>"
            ],
            "text/plain": [
              "      Commercials Watched  Product Purchases\n",
              "mean            10.000000           7.000000\n",
              "std              5.787918           5.244044"
            ]
          },
          "metadata": {
            "tags": []
          },
          "execution_count": 62
        }
      ]
    },
    {
      "cell_type": "markdown",
      "metadata": {
        "id": "FlswXfbEPBJ-",
        "colab_type": "text"
      },
      "source": [
        "### Variance"
      ]
    },
    {
      "cell_type": "markdown",
      "metadata": {
        "id": "7XRdXfM1PFWI",
        "colab_type": "text"
      },
      "source": [
        "Variance is a measure of how much the data for a variable varies from it's mean. This can be represented with the following equation:"
      ]
    },
    {
      "cell_type": "code",
      "metadata": {
        "id": "4cKPBC_POyHZ",
        "colab_type": "code",
        "colab": {
          "base_uri": "https://localhost:8080/",
          "height": 68
        },
        "outputId": "0c53e6f4-c083-4a4a-9c73-256e19302c56"
      },
      "source": [
        "df.var()"
      ],
      "execution_count": 63,
      "outputs": [
        {
          "output_type": "execute_result",
          "data": {
            "text/plain": [
              "Commercials Watched    33.5\n",
              "Product Purchases      27.5\n",
              "dtype: float64"
            ]
          },
          "metadata": {
            "tags": []
          },
          "execution_count": 63
        }
      ]
    },
    {
      "cell_type": "markdown",
      "metadata": {
        "id": "3wESHaZ2PLGO",
        "colab_type": "text"
      },
      "source": [
        "### Covariance"
      ]
    },
    {
      "cell_type": "markdown",
      "metadata": {
        "id": "tixPQZ8TPNIX",
        "colab_type": "text"
      },
      "source": [
        "Covariance is a measure of relationship between 2 variables that is scale dependent, i.e. how much will a variable change when another variable changes."
      ]
    },
    {
      "cell_type": "code",
      "metadata": {
        "id": "YJ_B4j--PEL4",
        "colab_type": "code",
        "colab": {
          "base_uri": "https://localhost:8080/",
          "height": 111
        },
        "outputId": "6175503e-741e-41ae-ca59-7454902e2d5c"
      },
      "source": [
        "df.cov()"
      ],
      "execution_count": 64,
      "outputs": [
        {
          "output_type": "execute_result",
          "data": {
            "text/html": [
              "<div>\n",
              "<style scoped>\n",
              "    .dataframe tbody tr th:only-of-type {\n",
              "        vertical-align: middle;\n",
              "    }\n",
              "\n",
              "    .dataframe tbody tr th {\n",
              "        vertical-align: top;\n",
              "    }\n",
              "\n",
              "    .dataframe thead th {\n",
              "        text-align: right;\n",
              "    }\n",
              "</style>\n",
              "<table border=\"1\" class=\"dataframe\">\n",
              "  <thead>\n",
              "    <tr style=\"text-align: right;\">\n",
              "      <th></th>\n",
              "      <th>Commercials Watched</th>\n",
              "      <th>Product Purchases</th>\n",
              "    </tr>\n",
              "  </thead>\n",
              "  <tbody>\n",
              "    <tr>\n",
              "      <th>Commercials Watched</th>\n",
              "      <td>33.50</td>\n",
              "      <td>3.25</td>\n",
              "    </tr>\n",
              "    <tr>\n",
              "      <th>Product Purchases</th>\n",
              "      <td>3.25</td>\n",
              "      <td>27.50</td>\n",
              "    </tr>\n",
              "  </tbody>\n",
              "</table>\n",
              "</div>"
            ],
            "text/plain": [
              "                     Commercials Watched  Product Purchases\n",
              "Commercials Watched                33.50               3.25\n",
              "Product Purchases                   3.25              27.50"
            ]
          },
          "metadata": {
            "tags": []
          },
          "execution_count": 64
        }
      ]
    },
    {
      "cell_type": "markdown",
      "metadata": {
        "id": "91WskM6ZPo2W",
        "colab_type": "text"
      },
      "source": [
        "Interpreting covariance is hard to gain any meaning from since the values are not scale dependent and does not have any upper bound. This is where correlation comes in."
      ]
    },
    {
      "cell_type": "markdown",
      "metadata": {
        "id": "WId2BwKAPrqb",
        "colab_type": "text"
      },
      "source": [
        "### CORRELATION"
      ]
    },
    {
      "cell_type": "markdown",
      "metadata": {
        "id": "7gAKvpC_Ptf6",
        "colab_type": "text"
      },
      "source": [
        "Correlation overcomes the lack of scale dependency that is present in covariance by standardizing the values. This standardization converts the values to the same scale, the example below will the using the Pearson Correlation Coeffiecient. The equation for converting data to Z-scores is:"
      ]
    },
    {
      "cell_type": "code",
      "metadata": {
        "id": "wn4g4_GfPh6d",
        "colab_type": "code",
        "colab": {
          "base_uri": "https://localhost:8080/",
          "height": 111
        },
        "outputId": "fd8367f3-ee16-4031-9774-97dc4e49f1ca"
      },
      "source": [
        "df.corr()"
      ],
      "execution_count": 65,
      "outputs": [
        {
          "output_type": "execute_result",
          "data": {
            "text/html": [
              "<div>\n",
              "<style scoped>\n",
              "    .dataframe tbody tr th:only-of-type {\n",
              "        vertical-align: middle;\n",
              "    }\n",
              "\n",
              "    .dataframe tbody tr th {\n",
              "        vertical-align: top;\n",
              "    }\n",
              "\n",
              "    .dataframe thead th {\n",
              "        text-align: right;\n",
              "    }\n",
              "</style>\n",
              "<table border=\"1\" class=\"dataframe\">\n",
              "  <thead>\n",
              "    <tr style=\"text-align: right;\">\n",
              "      <th></th>\n",
              "      <th>Commercials Watched</th>\n",
              "      <th>Product Purchases</th>\n",
              "    </tr>\n",
              "  </thead>\n",
              "  <tbody>\n",
              "    <tr>\n",
              "      <th>Commercials Watched</th>\n",
              "      <td>1.000000</td>\n",
              "      <td>0.107077</td>\n",
              "    </tr>\n",
              "    <tr>\n",
              "      <th>Product Purchases</th>\n",
              "      <td>0.107077</td>\n",
              "      <td>1.000000</td>\n",
              "    </tr>\n",
              "  </tbody>\n",
              "</table>\n",
              "</div>"
            ],
            "text/plain": [
              "                     Commercials Watched  Product Purchases\n",
              "Commercials Watched             1.000000           0.107077\n",
              "Product Purchases               0.107077           1.000000"
            ]
          },
          "metadata": {
            "tags": []
          },
          "execution_count": 65
        }
      ]
    },
    {
      "cell_type": "markdown",
      "metadata": {
        "id": "nwoBTVtSQI5Z",
        "colab_type": "text"
      },
      "source": [
        "## INDEPENDENT T-TEST"
      ]
    },
    {
      "cell_type": "markdown",
      "metadata": {
        "id": "oxwrVp5jQNGV",
        "colab_type": "text"
      },
      "source": [
        "The indepentent T-test is a parametric test used to test for a statistically significant difference in the means between 2 groups. As with all parametric tests, there are certain conditions that need to be met in order for the test results to be considered reliable."
      ]
    },
    {
      "cell_type": "markdown",
      "metadata": {
        "id": "Ls8DcXiOQXqW",
        "colab_type": "text"
      },
      "source": [
        "Parametric test assumptions\n",
        "\n",
        "- Population distributions are normal\n",
        "- Samples have equal variances\n",
        "- The two samples are independent\n",
        "\n",
        " \n",
        " \n",
        " \n",
        " \n",
        "One rejects the the null hypothesis, \n",
        ", if the computed t value is greater than or less than the critical t value. The critical t value is determined by the degrees of freedom and alpha, , value. Degrees of freedom is calculated as \n",
        " and  is commonly set to 0.05. Reject \n",
        " if:\n",
        " \n",
        "Before the decision to accept or reject the null hypothesis the assumptions need to be checked. See this page on how to check the parametric assumptions."
      ]
    },
    {
      "cell_type": "code",
      "metadata": {
        "id": "MjMEbFeIPzFe",
        "colab_type": "code",
        "colab": {
          "base_uri": "https://localhost:8080/",
          "height": 221
        },
        "outputId": "94e5fcd7-52d7-48f5-ec5f-25a53c59ab57"
      },
      "source": [
        "df = pd.read_csv(\"https://raw.githubusercontent.com/researchpy/Data-sets/master/blood_pressure.csv\")\n",
        "df.info()"
      ],
      "execution_count": 66,
      "outputs": [
        {
          "output_type": "stream",
          "text": [
            "<class 'pandas.core.frame.DataFrame'>\n",
            "RangeIndex: 120 entries, 0 to 119\n",
            "Data columns (total 5 columns):\n",
            " #   Column     Non-Null Count  Dtype \n",
            "---  ------     --------------  ----- \n",
            " 0   patient    120 non-null    int64 \n",
            " 1   sex        120 non-null    object\n",
            " 2   agegrp     120 non-null    object\n",
            " 3   bp_before  120 non-null    int64 \n",
            " 4   bp_after   120 non-null    int64 \n",
            "dtypes: int64(3), object(2)\n",
            "memory usage: 4.8+ KB\n"
          ],
          "name": "stdout"
        }
      ]
    },
    {
      "cell_type": "markdown",
      "metadata": {
        "id": "PRfz8tkHQto8",
        "colab_type": "text"
      },
      "source": [
        "### INDEPDENT T-TEST USING RESEARCHPY"
      ]
    },
    {
      "cell_type": "code",
      "metadata": {
        "id": "eIzMJ-xCQw6M",
        "colab_type": "code",
        "colab": {
          "base_uri": "https://localhost:8080/",
          "height": 85
        },
        "outputId": "f0b9caf6-b654-470b-8716-e78c5c9a96ad"
      },
      "source": [
        "summary, results = rp.ttest(group1= df['bp_after'][df['sex'] == 'Male'], group1_name= \"Male\",\n",
        "                            group2= df['bp_after'][df['sex'] == 'Female'], group2_name= \"Female\")\n",
        "print(summary)"
      ],
      "execution_count": 68,
      "outputs": [
        {
          "output_type": "stream",
          "text": [
            "   Variable      N        Mean         SD        SE   95% Conf.    Interval\n",
            "0      Male   60.0  155.516667  15.243217  1.967891  151.578926  159.454407\n",
            "1    Female   60.0  147.200000  11.742722  1.515979  144.166533  150.233467\n",
            "2  combined  120.0  151.358333  14.177622  1.294234  148.795621  153.921046\n"
          ],
          "name": "stdout"
        }
      ]
    },
    {
      "cell_type": "code",
      "metadata": {
        "id": "QiPS-HcNRDjQ",
        "colab_type": "code",
        "colab": {
          "base_uri": "https://localhost:8080/",
          "height": 204
        },
        "outputId": "ffa3773d-11de-45cc-c5f7-c63d85764cb1"
      },
      "source": [
        "print(results)"
      ],
      "execution_count": 69,
      "outputs": [
        {
          "output_type": "stream",
          "text": [
            "              Independent t-test   results\n",
            "0  Difference (Male - Female) =     8.3167\n",
            "1          Degrees of freedom =   118.0000\n",
            "2                           t =     3.3480\n",
            "3       Two side test p value =     0.0011\n",
            "4      Difference < 0 p value =     0.9995\n",
            "5      Difference > 0 p value =     0.0005\n",
            "6                   Cohen's d =     0.6112\n",
            "7                   Hedge's g =     0.6074\n",
            "8               Glass's delta =     0.5456\n",
            "9                           r =     0.2945\n"
          ],
          "name": "stdout"
        }
      ]
    },
    {
      "cell_type": "markdown",
      "metadata": {
        "id": "bAVA28gARPMg",
        "colab_type": "text"
      },
      "source": [
        "Interpretation\n",
        "\n",
        "The average blood pressure after the treatment for males, M= 155.2 (151.6, 159.5), was statistically signigicantly higher than females, M= 147.2 (144.2, 150.2); t(118)= 3.3480, p= 0.001."
      ]
    },
    {
      "cell_type": "markdown",
      "metadata": {
        "id": "qq3qEAW_RRuQ",
        "colab_type": "text"
      },
      "source": [
        "### INDEPDENT T-TEST USING SCIPY.STATS"
      ]
    },
    {
      "cell_type": "code",
      "metadata": {
        "id": "E1H3kx6UREn5",
        "colab_type": "code",
        "colab": {
          "base_uri": "https://localhost:8080/",
          "height": 34
        },
        "outputId": "dcbc9083-89de-4c55-c1d4-9c654c9928ca"
      },
      "source": [
        "stats.ttest_ind(df['bp_after'][df['sex'] == 'Male'],\n",
        "                df['bp_after'][df['sex'] == 'Female'])"
      ],
      "execution_count": 70,
      "outputs": [
        {
          "output_type": "execute_result",
          "data": {
            "text/plain": [
              "Ttest_indResult(statistic=3.3479506182111387, pvalue=0.0010930222986154283)"
            ]
          },
          "metadata": {
            "tags": []
          },
          "execution_count": 70
        }
      ]
    },
    {
      "cell_type": "markdown",
      "metadata": {
        "id": "ZLOHAGCkRdhI",
        "colab_type": "text"
      },
      "source": [
        "Interpretation\n",
        "\n",
        "There is a statistically significant difference in the average post blood pressure between males and females, t= 3.3480, p= 0.001."
      ]
    },
    {
      "cell_type": "markdown",
      "metadata": {
        "id": "gw3VP9s_Rk-l",
        "colab_type": "text"
      },
      "source": [
        "### ASSUMPTION CHECK"
      ]
    },
    {
      "cell_type": "markdown",
      "metadata": {
        "id": "dlNilxr_Ro6O",
        "colab_type": "text"
      },
      "source": [
        "The assumptions in this section need to be met in order for the test results to be considered valid. A more in-depth look at parametric assumptions is provided here, which includes some potential remedies.\n",
        "\n",
        "THE TWO SAMPLES ARE INDEPENDENT\n",
        "\n",
        "This assumption is tested when the study is designed. What this means is that no individual has data in group A and B.\n",
        "\n",
        "POPULATION DISTRIBUTIONS ARE NORMAL\n",
        "\n",
        "One of the assumptions is that the sampling distribution is normally distributed. This test of normality applies to the difference in values between the groups. One method for testing this assumption is the Shapiro-Wilk test. This can be completed using the shapiro() method from Scipy.stats."
      ]
    },
    {
      "cell_type": "code",
      "metadata": {
        "id": "YYJbRzezRq12",
        "colab_type": "code",
        "colab": {
          "base_uri": "https://localhost:8080/",
          "height": 34
        },
        "outputId": "98805570-26a4-45f6-e4f3-10660dd2ab73"
      },
      "source": [
        "sampling_difference = df['bp_after'][df['sex'] == 'Male'].values - \\\n",
        "                      df['bp_after'][df['sex'] == 'Female'].values\n",
        "\n",
        "stats.shapiro(sampling_difference)"
      ],
      "execution_count": 71,
      "outputs": [
        {
          "output_type": "execute_result",
          "data": {
            "text/plain": [
              "(0.98586106300354, 0.7147841453552246)"
            ]
          },
          "metadata": {
            "tags": []
          },
          "execution_count": 71
        }
      ]
    },
    {
      "cell_type": "markdown",
      "metadata": {
        "id": "Ez74Q1ceR0lI",
        "colab_type": "text"
      },
      "source": [
        "Unfortunately, the output is not labelled but is in the format of (W test statistic, p-value). The test is not significant which indicates the sampling distribution is normally distributed.\n",
        "\n",
        "Another way to test the assumption is through a visual check- this is helpful when the sample is large. The reason this is true is that as the sample size increases, the statistical test's ability to reject the null hypothesis increases, i.e. it gains power to detect smaller differences as the sample size n increases.\n",
        "\n",
        "One method of visually checking the distribution is to use a probability plot with or without the correlation value, \n",
        ", to assess the observed values correlation with the theoretical distribution in question - in the current case it would be the Gaussian (a.k.a the normal) distribution. This can be completed by using the probplot() method from Scipy.stats."
      ]
    },
    {
      "cell_type": "code",
      "metadata": {
        "id": "hFh0MhMxRt1G",
        "colab_type": "code",
        "colab": {
          "base_uri": "https://localhost:8080/",
          "height": 428
        },
        "outputId": "e3fe5e53-40d6-4595-ca92-f98d06ee71ea"
      },
      "source": [
        "fig = plt.figure(figsize= (20, 10))\n",
        "ax = fig.add_subplot(111)\n",
        "\n",
        "normality_plot, stat = stats.probplot(sampling_difference, plot= plt, rvalue= True)\n",
        "ax.set_title(\"Probability plot of sampling difference\", fontsize= 20)\n",
        "ax.set\n",
        "\n",
        "plt.show()"
      ],
      "execution_count": 72,
      "outputs": [
        {
          "output_type": "display_data",
          "data": {
            "image/png": "[encoded data removed]",
            "text/plain": [
              "<Figure size 1440x720 with 1 Axes>"
            ]
          },
          "metadata": {
            "tags": []
          }
        }
      ]
    },
    {
      "cell_type": "markdown",
      "metadata": {
        "id": "v7lEzDAUR9pC",
        "colab_type": "text"
      },
      "source": [
        "Both methods support the same finding which is that the sampling distribution is normally distributed."
      ]
    },
    {
      "cell_type": "markdown",
      "metadata": {
        "id": "bVgzVyH0R_Mf",
        "colab_type": "text"
      },
      "source": [
        "### HOMOGENEITY OF VARIANCE"
      ]
    },
    {
      "cell_type": "markdown",
      "metadata": {
        "id": "twyFp63RSPTW",
        "colab_type": "text"
      },
      "source": [
        "One of the assumptions is that both groups have equal variances. One method for testing this assumption is the Levene's test of homogeneity of variances. This can be completed using the levene() method from Scipy.stats."
      ]
    },
    {
      "cell_type": "code",
      "metadata": {
        "id": "5Ell9c0FR4p4",
        "colab_type": "code",
        "colab": {
          "base_uri": "https://localhost:8080/",
          "height": 34
        },
        "outputId": "8cdd9f53-f6d6-4dd7-b749-669d63c9c73e"
      },
      "source": [
        "stats.levene(df['bp_after'][df['sex'] == 'Male'],\n",
        "             df['bp_after'][df['sex'] == 'Female'],\n",
        "             center= 'mean')"
      ],
      "execution_count": 73,
      "outputs": [
        {
          "output_type": "execute_result",
          "data": {
            "text/plain": [
              "LeveneResult(statistic=5.865854141268659, pvalue=0.01695904277978066)"
            ]
          },
          "metadata": {
            "tags": []
          },
          "execution_count": 73
        }
      ]
    },
    {
      "cell_type": "markdown",
      "metadata": {
        "id": "4p6Zln-tSVgn",
        "colab_type": "text"
      },
      "source": [
        "The test is significant which indicates the groups have a different amount of variation and that the t-test may not be the best statistical method to be used. Again, it may be worthwhile to check this assumption visually as well."
      ]
    },
    {
      "cell_type": "code",
      "metadata": {
        "id": "YGuSyaTUSQZ2",
        "colab_type": "code",
        "colab": {
          "base_uri": "https://localhost:8080/",
          "height": 460
        },
        "outputId": "815bfbf7-f326-41c0-92f1-da8bb3cc33b1"
      },
      "source": [
        "fig = plt.figure(figsize= (20, 10))\n",
        "ax = fig.add_subplot(111)\n",
        "\n",
        "\n",
        "p_bp_male = plt.hist(df['bp_after'][df['sex'] == 'Male'], label= \"Male\",\n",
        "                     density= True,\n",
        "                     alpha=0.75)\n",
        "p_bp_female = plt.hist(df['bp_after'][df['sex'] == 'Female'], label= \"Female\",\n",
        "                       density= True,\n",
        "                       alpha=0.75)\n",
        "\n",
        "\n",
        "plt.suptitle(\"Distribution of Post-Blood Pressure \\n between Males and Females\", fontsize= 20)\n",
        "plt.xlabel(\"Blood Pressure\", fontsize= 16)\n",
        "plt.ylabel(\"Probability density\", fontsize= 16)\n",
        "\n",
        "plt.text(133, .025,\n",
        "         f\"$\\mu= {df['bp_after'][df['sex'] == 'Female'].mean(): .1f}, \\ \\sigma= {df['bp_after'][df['sex'] == 'Female'].std(): .1f}$\")\n",
        "plt.text(160, .025,\n",
        "         f\"$\\mu= {df['bp_after'][df['sex'] == 'Male'].mean(): .1f}, \\ \\sigma= {df['bp_after'][df['sex'] == 'Male'].std(): .1f}$\")\n",
        "\n",
        "\n",
        "plt.show()"
      ],
      "execution_count": 74,
      "outputs": [
        {
          "output_type": "display_data",
          "data": {
            "image/png": "[encoded data removed]",
            "text/plain": [
              "<Figure size 1440x720 with 1 Axes>"
            ]
          },
          "metadata": {
            "tags": []
          }
        }
      ]
    },
    {
      "cell_type": "markdown",
      "metadata": {
        "id": "4WXet9RcShd1",
        "colab_type": "text"
      },
      "source": [
        "There are different ways to handle heteroskedasticity (unequal variance) and a decision needs to be made. Some options include, but is not limited to, transformming the dependent variable (outcome), could use trimmed means, robust standard errors, or use a parametric test suchs as the Welch's t-test."
      ]
    },
    {
      "cell_type": "code",
      "metadata": {
        "id": "vwV5reaXSWn9",
        "colab_type": "code",
        "colab": {
          "base_uri": "https://localhost:8080/",
          "height": 51
        },
        "outputId": "192f7e5f-f144-48e7-c078-04be011b0227"
      },
      "source": [
        "t, p = stats.ttest_ind(\n",
        "  df['bp_after'][df['sex'] == 'Male'],\n",
        "  df['bp_after'][df['sex'] == 'Female'],\n",
        "    equal_var=False\n",
        ")\n",
        "print('t',t)\n",
        "print('p',p)"
      ],
      "execution_count": 75,
      "outputs": [
        {
          "output_type": "stream",
          "text": [
            "t 3.3479506182111387\n",
            "p 0.0011129010557490865\n"
          ],
          "name": "stdout"
        }
      ]
    },
    {
      "cell_type": "code",
      "metadata": {
        "id": "vSuSpn5oSt3B",
        "colab_type": "code",
        "colab": {
          "base_uri": "https://localhost:8080/",
          "height": 51
        },
        "outputId": "50703bc5-b135-4c6c-b1c2-7afe1ddb700a"
      },
      "source": [
        "t, p = stats.ttest_ind(\n",
        "  df['bp_after'][df['sex'] == 'Male'],\n",
        "  df['bp_after'][df['sex'] == 'Female'],\n",
        "    equal_var=True\n",
        ")\n",
        "print('t',t)\n",
        "print('p',p)"
      ],
      "execution_count": 77,
      "outputs": [
        {
          "output_type": "stream",
          "text": [
            "t 3.3479506182111387\n",
            "p 0.0010930222986154283\n"
          ],
          "name": "stdout"
        }
      ]
    },
    {
      "cell_type": "markdown",
      "metadata": {
        "id": "is2YDC0jTGTG",
        "colab_type": "text"
      },
      "source": [
        "## CHI-SQUARE TEST OF INDEPENDENCE"
      ]
    },
    {
      "cell_type": "markdown",
      "metadata": {
        "id": "qlq6nuCPTljI",
        "colab_type": "text"
      },
      "source": [
        "The  test of independence tests for dependence between categorical variables and is an omnibus test. Meaning, that if a significant relationship is found and one wants to test for differences between groups then post-hoc testing will need to be conducted. Typically, a proportions test is used as a follow-up post-hoc test.\n",
        "\n",
        "The  test of independence analysis utilizes a cross tabulation table between the variables of interest  rows and  columns. Based on the cell counts, it is possible to test if there is a relationship, dependence, between the variables and to estimate the strength of the relationship. This is done by testing the difference between the expected count, , and the observed count, . The subscript i will be used to denote the row group, i.e. , and j will be used to denote the column group, i.e. , meaning the cell will be denoted with the appropriate row and column group subscripts, i.e.  and  will be . Let's take a look at an example cross tabulation."
      ]
    },
    {
      "cell_type": "code",
      "metadata": {
        "id": "JU28vA1kS5Kw",
        "colab_type": "code",
        "colab": {
          "base_uri": "https://localhost:8080/",
          "height": 419
        },
        "outputId": "56faf0ae-672c-4a65-992e-11eb6dc45aad"
      },
      "source": [
        "# To load a sample dataset for this demonstration\n",
        "import statsmodels.api as sm\n",
        "import researchpy as rp\n",
        "import scipy.stats as stats\n",
        "\n",
        "df = sm.datasets.webuse(\"citytemp2\")\n",
        "df"
      ],
      "execution_count": 82,
      "outputs": [
        {
          "output_type": "execute_result",
          "data": {
            "text/html": [
              "<div>\n",
              "<style scoped>\n",
              "    .dataframe tbody tr th:only-of-type {\n",
              "        vertical-align: middle;\n",
              "    }\n",
              "\n",
              "    .dataframe tbody tr th {\n",
              "        vertical-align: top;\n",
              "    }\n",
              "\n",
              "    .dataframe thead th {\n",
              "        text-align: right;\n",
              "    }\n",
              "</style>\n",
              "<table border=\"1\" class=\"dataframe\">\n",
              "  <thead>\n",
              "    <tr style=\"text-align: right;\">\n",
              "      <th></th>\n",
              "      <th>division</th>\n",
              "      <th>region</th>\n",
              "      <th>heatdd</th>\n",
              "      <th>cooldd</th>\n",
              "      <th>tempjan</th>\n",
              "      <th>tempjuly</th>\n",
              "      <th>agecat</th>\n",
              "    </tr>\n",
              "  </thead>\n",
              "  <tbody>\n",
              "    <tr>\n",
              "      <th>0</th>\n",
              "      <td>N. Eng.</td>\n",
              "      <td>NE</td>\n",
              "      <td>NaN</td>\n",
              "      <td>NaN</td>\n",
              "      <td>16.600000</td>\n",
              "      <td>69.599998</td>\n",
              "      <td>19-29</td>\n",
              "    </tr>\n",
              "    <tr>\n",
              "      <th>1</th>\n",
              "      <td>N. Eng.</td>\n",
              "      <td>NE</td>\n",
              "      <td>7947.0</td>\n",
              "      <td>250.0</td>\n",
              "      <td>18.200001</td>\n",
              "      <td>68.000000</td>\n",
              "      <td>19-29</td>\n",
              "    </tr>\n",
              "    <tr>\n",
              "      <th>2</th>\n",
              "      <td>Mid Atl</td>\n",
              "      <td>NE</td>\n",
              "      <td>7480.0</td>\n",
              "      <td>424.0</td>\n",
              "      <td>18.400000</td>\n",
              "      <td>70.199997</td>\n",
              "      <td>19-29</td>\n",
              "    </tr>\n",
              "    <tr>\n",
              "      <th>3</th>\n",
              "      <td>N. Eng.</td>\n",
              "      <td>NE</td>\n",
              "      <td>7482.0</td>\n",
              "      <td>353.0</td>\n",
              "      <td>19.900000</td>\n",
              "      <td>69.500000</td>\n",
              "      <td>19-29</td>\n",
              "    </tr>\n",
              "    <tr>\n",
              "      <th>4</th>\n",
              "      <td>N. Eng.</td>\n",
              "      <td>NE</td>\n",
              "      <td>7482.0</td>\n",
              "      <td>353.0</td>\n",
              "      <td>19.900000</td>\n",
              "      <td>69.500000</td>\n",
              "      <td>19-29</td>\n",
              "    </tr>\n",
              "    <tr>\n",
              "      <th>...</th>\n",
              "      <td>...</td>\n",
              "      <td>...</td>\n",
              "      <td>...</td>\n",
              "      <td>...</td>\n",
              "      <td>...</td>\n",
              "      <td>...</td>\n",
              "      <td>...</td>\n",
              "    </tr>\n",
              "    <tr>\n",
              "      <th>951</th>\n",
              "      <td>Pacific</td>\n",
              "      <td>West</td>\n",
              "      <td>0.0</td>\n",
              "      <td>3134.0</td>\n",
              "      <td>71.400002</td>\n",
              "      <td>75.400002</td>\n",
              "      <td>35+</td>\n",
              "    </tr>\n",
              "    <tr>\n",
              "      <th>952</th>\n",
              "      <td>Pacific</td>\n",
              "      <td>West</td>\n",
              "      <td>0.0</td>\n",
              "      <td>4389.0</td>\n",
              "      <td>72.599998</td>\n",
              "      <td>80.099998</td>\n",
              "      <td>35+</td>\n",
              "    </tr>\n",
              "    <tr>\n",
              "      <th>953</th>\n",
              "      <td>Pacific</td>\n",
              "      <td>West</td>\n",
              "      <td>0.0</td>\n",
              "      <td>4389.0</td>\n",
              "      <td>72.599998</td>\n",
              "      <td>80.099998</td>\n",
              "      <td>35+</td>\n",
              "    </tr>\n",
              "    <tr>\n",
              "      <th>954</th>\n",
              "      <td>Pacific</td>\n",
              "      <td>West</td>\n",
              "      <td>0.0</td>\n",
              "      <td>4389.0</td>\n",
              "      <td>72.599998</td>\n",
              "      <td>80.099998</td>\n",
              "      <td>35+</td>\n",
              "    </tr>\n",
              "    <tr>\n",
              "      <th>955</th>\n",
              "      <td>Pacific</td>\n",
              "      <td>West</td>\n",
              "      <td>0.0</td>\n",
              "      <td>4389.0</td>\n",
              "      <td>72.599998</td>\n",
              "      <td>80.099998</td>\n",
              "      <td>35+</td>\n",
              "    </tr>\n",
              "  </tbody>\n",
              "</table>\n",
              "<p>956 rows × 7 columns</p>\n",
              "</div>"
            ],
            "text/plain": [
              "    division region  heatdd  cooldd    tempjan   tempjuly agecat\n",
              "0    N. Eng.     NE     NaN     NaN  16.600000  69.599998  19-29\n",
              "1    N. Eng.     NE  7947.0   250.0  18.200001  68.000000  19-29\n",
              "2    Mid Atl     NE  7480.0   424.0  18.400000  70.199997  19-29\n",
              "3    N. Eng.     NE  7482.0   353.0  19.900000  69.500000  19-29\n",
              "4    N. Eng.     NE  7482.0   353.0  19.900000  69.500000  19-29\n",
              "..       ...    ...     ...     ...        ...        ...    ...\n",
              "951  Pacific   West     0.0  3134.0  71.400002  75.400002    35+\n",
              "952  Pacific   West     0.0  4389.0  72.599998  80.099998    35+\n",
              "953  Pacific   West     0.0  4389.0  72.599998  80.099998    35+\n",
              "954  Pacific   West     0.0  4389.0  72.599998  80.099998    35+\n",
              "955  Pacific   West     0.0  4389.0  72.599998  80.099998    35+\n",
              "\n",
              "[956 rows x 7 columns]"
            ]
          },
          "metadata": {
            "tags": []
          },
          "execution_count": 82
        }
      ]
    },
    {
      "cell_type": "code",
      "metadata": {
        "id": "eCHdGrIkTpPB",
        "colab_type": "code",
        "colab": {
          "base_uri": "https://localhost:8080/",
          "height": 255
        },
        "outputId": "01ceb180-ace6-426f-bc3f-37c6a8906421"
      },
      "source": [
        "df.info()"
      ],
      "execution_count": 80,
      "outputs": [
        {
          "output_type": "stream",
          "text": [
            "<class 'pandas.core.frame.DataFrame'>\n",
            "Int64Index: 956 entries, 0 to 955\n",
            "Data columns (total 7 columns):\n",
            " #   Column    Non-Null Count  Dtype   \n",
            "---  ------    --------------  -----   \n",
            " 0   division  956 non-null    category\n",
            " 1   region    956 non-null    category\n",
            " 2   heatdd    953 non-null    float64 \n",
            " 3   cooldd    953 non-null    float64 \n",
            " 4   tempjan   954 non-null    float32 \n",
            " 5   tempjuly  954 non-null    float32 \n",
            " 6   agecat    956 non-null    category\n",
            "dtypes: category(3), float32(2), float64(2)\n",
            "memory usage: 33.3 KB\n"
          ],
          "name": "stdout"
        }
      ]
    },
    {
      "cell_type": "code",
      "metadata": {
        "id": "zRWZe96QTrl4",
        "colab_type": "code",
        "colab": {
          "base_uri": "https://localhost:8080/",
          "height": 266
        },
        "outputId": "b0bd4b1f-d0e3-4d72-e9ea-fadb0057688f"
      },
      "source": [
        "rp.summary_cat(df[[\"agecat\", \"region\"]])"
      ],
      "execution_count": 81,
      "outputs": [
        {
          "output_type": "execute_result",
          "data": {
            "text/html": [
              "<div>\n",
              "<style scoped>\n",
              "    .dataframe tbody tr th:only-of-type {\n",
              "        vertical-align: middle;\n",
              "    }\n",
              "\n",
              "    .dataframe tbody tr th {\n",
              "        vertical-align: top;\n",
              "    }\n",
              "\n",
              "    .dataframe thead th {\n",
              "        text-align: right;\n",
              "    }\n",
              "</style>\n",
              "<table border=\"1\" class=\"dataframe\">\n",
              "  <thead>\n",
              "    <tr style=\"text-align: right;\">\n",
              "      <th></th>\n",
              "      <th>Variable</th>\n",
              "      <th>Outcome</th>\n",
              "      <th>Count</th>\n",
              "      <th>Percent</th>\n",
              "    </tr>\n",
              "  </thead>\n",
              "  <tbody>\n",
              "    <tr>\n",
              "      <th>0</th>\n",
              "      <td>agecat</td>\n",
              "      <td>19-29</td>\n",
              "      <td>507</td>\n",
              "      <td>53.03</td>\n",
              "    </tr>\n",
              "    <tr>\n",
              "      <th>1</th>\n",
              "      <td></td>\n",
              "      <td>30-34</td>\n",
              "      <td>316</td>\n",
              "      <td>33.05</td>\n",
              "    </tr>\n",
              "    <tr>\n",
              "      <th>2</th>\n",
              "      <td></td>\n",
              "      <td>35+</td>\n",
              "      <td>133</td>\n",
              "      <td>13.91</td>\n",
              "    </tr>\n",
              "    <tr>\n",
              "      <th>3</th>\n",
              "      <td>region</td>\n",
              "      <td>N Cntrl</td>\n",
              "      <td>284</td>\n",
              "      <td>29.71</td>\n",
              "    </tr>\n",
              "    <tr>\n",
              "      <th>4</th>\n",
              "      <td></td>\n",
              "      <td>West</td>\n",
              "      <td>256</td>\n",
              "      <td>26.78</td>\n",
              "    </tr>\n",
              "    <tr>\n",
              "      <th>5</th>\n",
              "      <td></td>\n",
              "      <td>South</td>\n",
              "      <td>250</td>\n",
              "      <td>26.15</td>\n",
              "    </tr>\n",
              "    <tr>\n",
              "      <th>6</th>\n",
              "      <td></td>\n",
              "      <td>NE</td>\n",
              "      <td>166</td>\n",
              "      <td>17.36</td>\n",
              "    </tr>\n",
              "  </tbody>\n",
              "</table>\n",
              "</div>"
            ],
            "text/plain": [
              "  Variable  Outcome  Count  Percent\n",
              "0   agecat    19-29    507    53.03\n",
              "1             30-34    316    33.05\n",
              "2               35+    133    13.91\n",
              "3   region  N Cntrl    284    29.71\n",
              "4              West    256    26.78\n",
              "5             South    250    26.15\n",
              "6                NE    166    17.36"
            ]
          },
          "metadata": {
            "tags": []
          },
          "execution_count": 81
        }
      ]
    },
    {
      "cell_type": "markdown",
      "metadata": {
        "id": "0DgQJlw9VKwh",
        "colab_type": "text"
      },
      "source": [
        "### CHI-SQUARE TEST OF INDEPENDENCE WITH SCIPY.STATS"
      ]
    },
    {
      "cell_type": "code",
      "metadata": {
        "id": "pI5syUu9UE0t",
        "colab_type": "code",
        "colab": {
          "base_uri": "https://localhost:8080/",
          "height": 204
        },
        "outputId": "29876811-a31c-4438-c9c0-e58d62a95528"
      },
      "source": [
        "crosstab = pd.crosstab(df[\"region\"], df[\"agecat\"])\n",
        "\n",
        "crosstab"
      ],
      "execution_count": 84,
      "outputs": [
        {
          "output_type": "execute_result",
          "data": {
            "text/html": [
              "<div>\n",
              "<style scoped>\n",
              "    .dataframe tbody tr th:only-of-type {\n",
              "        vertical-align: middle;\n",
              "    }\n",
              "\n",
              "    .dataframe tbody tr th {\n",
              "        vertical-align: top;\n",
              "    }\n",
              "\n",
              "    .dataframe thead th {\n",
              "        text-align: right;\n",
              "    }\n",
              "</style>\n",
              "<table border=\"1\" class=\"dataframe\">\n",
              "  <thead>\n",
              "    <tr style=\"text-align: right;\">\n",
              "      <th>agecat</th>\n",
              "      <th>19-29</th>\n",
              "      <th>30-34</th>\n",
              "      <th>35+</th>\n",
              "    </tr>\n",
              "    <tr>\n",
              "      <th>region</th>\n",
              "      <th></th>\n",
              "      <th></th>\n",
              "      <th></th>\n",
              "    </tr>\n",
              "  </thead>\n",
              "  <tbody>\n",
              "    <tr>\n",
              "      <th>NE</th>\n",
              "      <td>46</td>\n",
              "      <td>83</td>\n",
              "      <td>37</td>\n",
              "    </tr>\n",
              "    <tr>\n",
              "      <th>N Cntrl</th>\n",
              "      <td>162</td>\n",
              "      <td>92</td>\n",
              "      <td>30</td>\n",
              "    </tr>\n",
              "    <tr>\n",
              "      <th>South</th>\n",
              "      <td>139</td>\n",
              "      <td>68</td>\n",
              "      <td>43</td>\n",
              "    </tr>\n",
              "    <tr>\n",
              "      <th>West</th>\n",
              "      <td>160</td>\n",
              "      <td>73</td>\n",
              "      <td>23</td>\n",
              "    </tr>\n",
              "  </tbody>\n",
              "</table>\n",
              "</div>"
            ],
            "text/plain": [
              "agecat   19-29  30-34  35+\n",
              "region                    \n",
              "NE          46     83   37\n",
              "N Cntrl    162     92   30\n",
              "South      139     68   43\n",
              "West       160     73   23"
            ]
          },
          "metadata": {
            "tags": []
          },
          "execution_count": 84
        }
      ]
    },
    {
      "cell_type": "code",
      "metadata": {
        "id": "9adUHiCCVPZW",
        "colab_type": "code",
        "colab": {
          "base_uri": "https://localhost:8080/",
          "height": 136
        },
        "outputId": "5c2a1fcd-a545-414c-f3e7-e03149646a2b"
      },
      "source": [
        "stats.chi2_contingency(crosstab)"
      ],
      "execution_count": 85,
      "outputs": [
        {
          "output_type": "execute_result",
          "data": {
            "text/plain": [
              "(61.28767688406036,\n",
              " 2.463382670201326e-11,\n",
              " 6,\n",
              " array([[ 88.0356,  54.8703,  23.0941],\n",
              "        [150.6151,  93.8745,  39.5105],\n",
              "        [132.5837,  82.636 ,  34.7803],\n",
              "        [135.7657,  84.6192,  35.6151]]))"
            ]
          },
          "metadata": {
            "tags": []
          },
          "execution_count": 85
        }
      ]
    },
    {
      "cell_type": "markdown",
      "metadata": {
        "id": "lVbz8GvnVsmy",
        "colab_type": "text"
      },
      "source": [
        "Returns\n",
        "chi2: float,The test statistic.\n",
        "\n",
        "p:float,The p-value of the test\n",
        "\n",
        "dof: int, Degrees of freedom\n",
        "\n",
        "expected: ndarray, same shape as observed:\n",
        "The expected frequencies, based on the marginal sums of the table."
      ]
    },
    {
      "cell_type": "markdown",
      "metadata": {
        "id": "yt9L2wW7VeRN",
        "colab_type": "text"
      },
      "source": [
        "There is a relationship between region and the age distribution, X^2 (6) = 61.29, p< 0.0001."
      ]
    },
    {
      "cell_type": "markdown",
      "metadata": {
        "id": "iq7w768xV9DN",
        "colab_type": "text"
      },
      "source": [
        "### CHI-SQUARE TEST OF INDEPENDENCE WITH RESEARCHPY"
      ]
    },
    {
      "cell_type": "code",
      "metadata": {
        "id": "RpszMULjVVTU",
        "colab_type": "code",
        "colab": {
          "base_uri": "https://localhost:8080/",
          "height": 266
        },
        "outputId": "d867e420-fab1-4484-c746-573aadae43cc"
      },
      "source": [
        "crosstab, test_results, expected = rp.crosstab(df[\"region\"], df[\"agecat\"],\n",
        "                                               test= \"chi-square\",\n",
        "                                               expected_freqs= True,\n",
        "                                               prop= \"cell\")\n",
        "\n",
        "crosstab"
      ],
      "execution_count": 86,
      "outputs": [
        {
          "output_type": "execute_result",
          "data": {
            "text/html": [
              "<div>\n",
              "<style scoped>\n",
              "    .dataframe tbody tr th:only-of-type {\n",
              "        vertical-align: middle;\n",
              "    }\n",
              "\n",
              "    .dataframe tbody tr th {\n",
              "        vertical-align: top;\n",
              "    }\n",
              "\n",
              "    .dataframe thead tr th {\n",
              "        text-align: left;\n",
              "    }\n",
              "\n",
              "    .dataframe thead tr:last-of-type th {\n",
              "        text-align: right;\n",
              "    }\n",
              "</style>\n",
              "<table border=\"1\" class=\"dataframe\">\n",
              "  <thead>\n",
              "    <tr>\n",
              "      <th></th>\n",
              "      <th colspan=\"4\" halign=\"left\">agecat</th>\n",
              "    </tr>\n",
              "    <tr>\n",
              "      <th>agecat</th>\n",
              "      <th>19-29</th>\n",
              "      <th>30-34</th>\n",
              "      <th>35+</th>\n",
              "      <th>All</th>\n",
              "    </tr>\n",
              "    <tr>\n",
              "      <th>region</th>\n",
              "      <th></th>\n",
              "      <th></th>\n",
              "      <th></th>\n",
              "      <th></th>\n",
              "    </tr>\n",
              "  </thead>\n",
              "  <tbody>\n",
              "    <tr>\n",
              "      <th>NE</th>\n",
              "      <td>4.81</td>\n",
              "      <td>8.68</td>\n",
              "      <td>3.87</td>\n",
              "      <td>17.36</td>\n",
              "    </tr>\n",
              "    <tr>\n",
              "      <th>N Cntrl</th>\n",
              "      <td>16.95</td>\n",
              "      <td>9.62</td>\n",
              "      <td>3.14</td>\n",
              "      <td>29.71</td>\n",
              "    </tr>\n",
              "    <tr>\n",
              "      <th>South</th>\n",
              "      <td>14.54</td>\n",
              "      <td>7.11</td>\n",
              "      <td>4.50</td>\n",
              "      <td>26.15</td>\n",
              "    </tr>\n",
              "    <tr>\n",
              "      <th>West</th>\n",
              "      <td>16.74</td>\n",
              "      <td>7.64</td>\n",
              "      <td>2.41</td>\n",
              "      <td>26.78</td>\n",
              "    </tr>\n",
              "    <tr>\n",
              "      <th>All</th>\n",
              "      <td>53.03</td>\n",
              "      <td>33.05</td>\n",
              "      <td>13.91</td>\n",
              "      <td>100.00</td>\n",
              "    </tr>\n",
              "  </tbody>\n",
              "</table>\n",
              "</div>"
            ],
            "text/plain": [
              "        agecat                      \n",
              "agecat   19-29  30-34    35+     All\n",
              "region                              \n",
              "NE        4.81   8.68   3.87   17.36\n",
              "N Cntrl  16.95   9.62   3.14   29.71\n",
              "South    14.54   7.11   4.50   26.15\n",
              "West     16.74   7.64   2.41   26.78\n",
              "All      53.03  33.05  13.91  100.00"
            ]
          },
          "metadata": {
            "tags": []
          },
          "execution_count": 86
        }
      ]
    },
    {
      "cell_type": "code",
      "metadata": {
        "id": "GK_2cZ9PWCjU",
        "colab_type": "code",
        "colab": {
          "base_uri": "https://localhost:8080/",
          "height": 142
        },
        "outputId": "0a604c34-0147-463b-fe74-4cd16b34988e"
      },
      "source": [
        "test_results"
      ],
      "execution_count": 87,
      "outputs": [
        {
          "output_type": "execute_result",
          "data": {
            "text/html": [
              "<div>\n",
              "<style scoped>\n",
              "    .dataframe tbody tr th:only-of-type {\n",
              "        vertical-align: middle;\n",
              "    }\n",
              "\n",
              "    .dataframe tbody tr th {\n",
              "        vertical-align: top;\n",
              "    }\n",
              "\n",
              "    .dataframe thead th {\n",
              "        text-align: right;\n",
              "    }\n",
              "</style>\n",
              "<table border=\"1\" class=\"dataframe\">\n",
              "  <thead>\n",
              "    <tr style=\"text-align: right;\">\n",
              "      <th></th>\n",
              "      <th>Chi-square test</th>\n",
              "      <th>results</th>\n",
              "    </tr>\n",
              "  </thead>\n",
              "  <tbody>\n",
              "    <tr>\n",
              "      <th>0</th>\n",
              "      <td>Pearson Chi-square ( 6.0) =</td>\n",
              "      <td>61.2877</td>\n",
              "    </tr>\n",
              "    <tr>\n",
              "      <th>1</th>\n",
              "      <td>p-value =</td>\n",
              "      <td>0.0000</td>\n",
              "    </tr>\n",
              "    <tr>\n",
              "      <th>2</th>\n",
              "      <td>Cramer's V =</td>\n",
              "      <td>0.1790</td>\n",
              "    </tr>\n",
              "  </tbody>\n",
              "</table>\n",
              "</div>"
            ],
            "text/plain": [
              "                Chi-square test  results\n",
              "0  Pearson Chi-square ( 6.0) =   61.2877\n",
              "1                    p-value =    0.0000\n",
              "2                 Cramer's V =    0.1790"
            ]
          },
          "metadata": {
            "tags": []
          },
          "execution_count": 87
        }
      ]
    },
    {
      "cell_type": "markdown",
      "metadata": {
        "id": "Z1CZk_NtWYpr",
        "colab_type": "text"
      },
      "source": [
        "### ASSUMPTION CHECK\n",
        "\n",
        "Checking the assumptions for the  test of independence is easy. Let's recall what they are:\n",
        "\n",
        "- The two samples are independent\n",
        "\n",
        "The variables were collected independently of each other, i.e. the answer from one variable was not dependent on the answer of the other\n",
        "\n",
        "- No expected cell count is = 0\n",
        "- No more than 20% of the cells have and expected cell count < 5\n",
        "\n",
        "The last two assumptions can be checked by looking at the expected frequency table."
      ]
    },
    {
      "cell_type": "code",
      "metadata": {
        "id": "RJQTQcinWE1y",
        "colab_type": "code",
        "colab": {
          "base_uri": "https://localhost:8080/",
          "height": 235
        },
        "outputId": "efa35e8c-cd6e-4453-efa2-9c1975d00798"
      },
      "source": [
        "expected"
      ],
      "execution_count": 88,
      "outputs": [
        {
          "output_type": "execute_result",
          "data": {
            "text/html": [
              "<div>\n",
              "<style scoped>\n",
              "    .dataframe tbody tr th:only-of-type {\n",
              "        vertical-align: middle;\n",
              "    }\n",
              "\n",
              "    .dataframe tbody tr th {\n",
              "        vertical-align: top;\n",
              "    }\n",
              "\n",
              "    .dataframe thead tr th {\n",
              "        text-align: left;\n",
              "    }\n",
              "\n",
              "    .dataframe thead tr:last-of-type th {\n",
              "        text-align: right;\n",
              "    }\n",
              "</style>\n",
              "<table border=\"1\" class=\"dataframe\">\n",
              "  <thead>\n",
              "    <tr>\n",
              "      <th></th>\n",
              "      <th colspan=\"3\" halign=\"left\">agecat</th>\n",
              "    </tr>\n",
              "    <tr>\n",
              "      <th>agecat</th>\n",
              "      <th>19-29</th>\n",
              "      <th>30-34</th>\n",
              "      <th>35+</th>\n",
              "    </tr>\n",
              "    <tr>\n",
              "      <th>region</th>\n",
              "      <th></th>\n",
              "      <th></th>\n",
              "      <th></th>\n",
              "    </tr>\n",
              "  </thead>\n",
              "  <tbody>\n",
              "    <tr>\n",
              "      <th>NE</th>\n",
              "      <td>88.035565</td>\n",
              "      <td>54.870293</td>\n",
              "      <td>23.094142</td>\n",
              "    </tr>\n",
              "    <tr>\n",
              "      <th>N Cntrl</th>\n",
              "      <td>150.615063</td>\n",
              "      <td>93.874477</td>\n",
              "      <td>39.510460</td>\n",
              "    </tr>\n",
              "    <tr>\n",
              "      <th>South</th>\n",
              "      <td>132.583682</td>\n",
              "      <td>82.635983</td>\n",
              "      <td>34.780335</td>\n",
              "    </tr>\n",
              "    <tr>\n",
              "      <th>West</th>\n",
              "      <td>135.765690</td>\n",
              "      <td>84.619247</td>\n",
              "      <td>35.615063</td>\n",
              "    </tr>\n",
              "  </tbody>\n",
              "</table>\n",
              "</div>"
            ],
            "text/plain": [
              "             agecat                      \n",
              "agecat        19-29      30-34        35+\n",
              "region                                   \n",
              "NE        88.035565  54.870293  23.094142\n",
              "N Cntrl  150.615063  93.874477  39.510460\n",
              "South    132.583682  82.635983  34.780335\n",
              "West     135.765690  84.619247  35.615063"
            ]
          },
          "metadata": {
            "tags": []
          },
          "execution_count": 88
        }
      ]
    },
    {
      "cell_type": "markdown",
      "metadata": {
        "id": "C7hgFiShWwrv",
        "colab_type": "text"
      },
      "source": [
        "It can be seen that all the assumptions are met which indicates the statistical test results are reliable."
      ]
    },
    {
      "cell_type": "markdown",
      "metadata": {
        "id": "OP0m4Qd5W0Il",
        "colab_type": "text"
      },
      "source": [
        "## ONE-WAY ANOVA"
      ]
    },
    {
      "cell_type": "markdown",
      "metadata": {
        "id": "ryHA07zsXiSA",
        "colab_type": "text"
      },
      "source": [
        "\n",
        "ANOVA stands for \"Analysis of Variance\" and is an omnibus test, meaning it tests for a difference overall between all groups. The one-way ANOVA, also referred to as one factor ANOVA, is a parametric test used to test for a statistically significant difference of an outcome between 3 or more groups. Since it is an omnibus test, it tests for a difference overall, i.e. at least one of the groups is statistically significantly different than the others. However, if the ANOVA is significant one cannot tell which group is different. In order to tell which group is different, one has to conduct planned or post-hoc comparisons. As with all parametric tests, there are certain conditions that need to be met in order for the test results to be considered reliable.\n",
        "\n",
        "The reason why it's called an one-way or one factor ANOVA even though there are 3 or more groups being tested is because those groups are under one categorical variable, such as race or education level, and the name is referring to the number of variables in the analysis and not the number of groups. If there are two variables being compared it would technically be called a two-way, or two factor, ANOVA if both variables are categorical, or it could be called an ANCOVA if the 2nd variable is continuous. The \"C\" doesn't stand for continuous, it stands for covariate.\n",
        "\n",
        "When working from the ANOVA framework, independent variables are sometimes referred to as factors and the number of groups within each variable are called levels, i.e. one variable with 3 categories could be referred to as a factor with 3 levels."
      ]
    },
    {
      "cell_type": "code",
      "metadata": {
        "id": "7-nkrOheWXCj",
        "colab_type": "code",
        "colab": {
          "base_uri": "https://localhost:8080/",
          "height": 514
        },
        "outputId": "494abf71-61a0-46c1-df85-aaebe52cba34"
      },
      "source": [
        "df = pd.read_csv(\"https://raw.githubusercontent.com/researchpy/Data-sets/master/difficile.csv\")\n",
        "df.drop('person', axis= 1, inplace= True)\n",
        "# Recoding value from numeric to string\n",
        "df['dose'].replace({1: 'placebo', 2: 'low', 3: 'high'}, inplace= True)\n",
        "df"
      ],
      "execution_count": 93,
      "outputs": [
        {
          "output_type": "execute_result",
          "data": {
            "text/html": [
              "<div>\n",
              "<style scoped>\n",
              "    .dataframe tbody tr th:only-of-type {\n",
              "        vertical-align: middle;\n",
              "    }\n",
              "\n",
              "    .dataframe tbody tr th {\n",
              "        vertical-align: top;\n",
              "    }\n",
              "\n",
              "    .dataframe thead th {\n",
              "        text-align: right;\n",
              "    }\n",
              "</style>\n",
              "<table border=\"1\" class=\"dataframe\">\n",
              "  <thead>\n",
              "    <tr style=\"text-align: right;\">\n",
              "      <th></th>\n",
              "      <th>dose</th>\n",
              "      <th>libido</th>\n",
              "    </tr>\n",
              "  </thead>\n",
              "  <tbody>\n",
              "    <tr>\n",
              "      <th>0</th>\n",
              "      <td>placebo</td>\n",
              "      <td>3</td>\n",
              "    </tr>\n",
              "    <tr>\n",
              "      <th>1</th>\n",
              "      <td>placebo</td>\n",
              "      <td>2</td>\n",
              "    </tr>\n",
              "    <tr>\n",
              "      <th>2</th>\n",
              "      <td>placebo</td>\n",
              "      <td>1</td>\n",
              "    </tr>\n",
              "    <tr>\n",
              "      <th>3</th>\n",
              "      <td>placebo</td>\n",
              "      <td>1</td>\n",
              "    </tr>\n",
              "    <tr>\n",
              "      <th>4</th>\n",
              "      <td>placebo</td>\n",
              "      <td>4</td>\n",
              "    </tr>\n",
              "    <tr>\n",
              "      <th>5</th>\n",
              "      <td>low</td>\n",
              "      <td>5</td>\n",
              "    </tr>\n",
              "    <tr>\n",
              "      <th>6</th>\n",
              "      <td>low</td>\n",
              "      <td>2</td>\n",
              "    </tr>\n",
              "    <tr>\n",
              "      <th>7</th>\n",
              "      <td>low</td>\n",
              "      <td>4</td>\n",
              "    </tr>\n",
              "    <tr>\n",
              "      <th>8</th>\n",
              "      <td>low</td>\n",
              "      <td>2</td>\n",
              "    </tr>\n",
              "    <tr>\n",
              "      <th>9</th>\n",
              "      <td>low</td>\n",
              "      <td>3</td>\n",
              "    </tr>\n",
              "    <tr>\n",
              "      <th>10</th>\n",
              "      <td>high</td>\n",
              "      <td>7</td>\n",
              "    </tr>\n",
              "    <tr>\n",
              "      <th>11</th>\n",
              "      <td>high</td>\n",
              "      <td>4</td>\n",
              "    </tr>\n",
              "    <tr>\n",
              "      <th>12</th>\n",
              "      <td>high</td>\n",
              "      <td>5</td>\n",
              "    </tr>\n",
              "    <tr>\n",
              "      <th>13</th>\n",
              "      <td>high</td>\n",
              "      <td>3</td>\n",
              "    </tr>\n",
              "    <tr>\n",
              "      <th>14</th>\n",
              "      <td>high</td>\n",
              "      <td>6</td>\n",
              "    </tr>\n",
              "  </tbody>\n",
              "</table>\n",
              "</div>"
            ],
            "text/plain": [
              "       dose  libido\n",
              "0   placebo       3\n",
              "1   placebo       2\n",
              "2   placebo       1\n",
              "3   placebo       1\n",
              "4   placebo       4\n",
              "5       low       5\n",
              "6       low       2\n",
              "7       low       4\n",
              "8       low       2\n",
              "9       low       3\n",
              "10     high       7\n",
              "11     high       4\n",
              "12     high       5\n",
              "13     high       3\n",
              "14     high       6"
            ]
          },
          "metadata": {
            "tags": []
          },
          "execution_count": 93
        }
      ]
    },
    {
      "cell_type": "code",
      "metadata": {
        "id": "7nFYBYxFYjXj",
        "colab_type": "code",
        "colab": {
          "base_uri": "https://localhost:8080/",
          "height": 114
        },
        "outputId": "4459185e-9b25-4fc6-df12-badb8694111d"
      },
      "source": [
        "rp.summary_cont(df['libido'])"
      ],
      "execution_count": 94,
      "outputs": [
        {
          "output_type": "stream",
          "text": [
            "\n",
            "\n"
          ],
          "name": "stdout"
        },
        {
          "output_type": "execute_result",
          "data": {
            "text/html": [
              "<div>\n",
              "<style scoped>\n",
              "    .dataframe tbody tr th:only-of-type {\n",
              "        vertical-align: middle;\n",
              "    }\n",
              "\n",
              "    .dataframe tbody tr th {\n",
              "        vertical-align: top;\n",
              "    }\n",
              "\n",
              "    .dataframe thead th {\n",
              "        text-align: right;\n",
              "    }\n",
              "</style>\n",
              "<table border=\"1\" class=\"dataframe\">\n",
              "  <thead>\n",
              "    <tr style=\"text-align: right;\">\n",
              "      <th></th>\n",
              "      <th>Variable</th>\n",
              "      <th>N</th>\n",
              "      <th>Mean</th>\n",
              "      <th>SD</th>\n",
              "      <th>SE</th>\n",
              "      <th>95% Conf.</th>\n",
              "      <th>Interval</th>\n",
              "    </tr>\n",
              "  </thead>\n",
              "  <tbody>\n",
              "    <tr>\n",
              "      <th>0</th>\n",
              "      <td>libido</td>\n",
              "      <td>15.0</td>\n",
              "      <td>3.466667</td>\n",
              "      <td>1.76743</td>\n",
              "      <td>0.456349</td>\n",
              "      <td>2.487896</td>\n",
              "      <td>4.445437</td>\n",
              "    </tr>\n",
              "  </tbody>\n",
              "</table>\n",
              "</div>"
            ],
            "text/plain": [
              "  Variable     N      Mean       SD        SE  95% Conf.  Interval\n",
              "0   libido  15.0  3.466667  1.76743  0.456349   2.487896  4.445437"
            ]
          },
          "metadata": {
            "tags": []
          },
          "execution_count": 94
        }
      ]
    },
    {
      "cell_type": "code",
      "metadata": {
        "id": "BjQCjCmLYn-z",
        "colab_type": "code",
        "colab": {
          "base_uri": "https://localhost:8080/",
          "height": 207
        },
        "outputId": "1b755ccf-000f-400b-c3e4-a974d4ed7025"
      },
      "source": [
        "rp.summary_cont(df['libido'].groupby(df['dose']))"
      ],
      "execution_count": 95,
      "outputs": [
        {
          "output_type": "stream",
          "text": [
            "\n",
            "\n"
          ],
          "name": "stdout"
        },
        {
          "output_type": "execute_result",
          "data": {
            "text/html": [
              "<div>\n",
              "<style scoped>\n",
              "    .dataframe tbody tr th:only-of-type {\n",
              "        vertical-align: middle;\n",
              "    }\n",
              "\n",
              "    .dataframe tbody tr th {\n",
              "        vertical-align: top;\n",
              "    }\n",
              "\n",
              "    .dataframe thead th {\n",
              "        text-align: right;\n",
              "    }\n",
              "</style>\n",
              "<table border=\"1\" class=\"dataframe\">\n",
              "  <thead>\n",
              "    <tr style=\"text-align: right;\">\n",
              "      <th></th>\n",
              "      <th>N</th>\n",
              "      <th>Mean</th>\n",
              "      <th>SD</th>\n",
              "      <th>SE</th>\n",
              "      <th>95% Conf.</th>\n",
              "      <th>Interval</th>\n",
              "    </tr>\n",
              "    <tr>\n",
              "      <th>dose</th>\n",
              "      <th></th>\n",
              "      <th></th>\n",
              "      <th></th>\n",
              "      <th></th>\n",
              "      <th></th>\n",
              "      <th></th>\n",
              "    </tr>\n",
              "  </thead>\n",
              "  <tbody>\n",
              "    <tr>\n",
              "      <th>high</th>\n",
              "      <td>5</td>\n",
              "      <td>5.0</td>\n",
              "      <td>1.581139</td>\n",
              "      <td>0.707107</td>\n",
              "      <td>3.450484</td>\n",
              "      <td>6.549516</td>\n",
              "    </tr>\n",
              "    <tr>\n",
              "      <th>low</th>\n",
              "      <td>5</td>\n",
              "      <td>3.2</td>\n",
              "      <td>1.303840</td>\n",
              "      <td>0.583095</td>\n",
              "      <td>1.922236</td>\n",
              "      <td>4.477764</td>\n",
              "    </tr>\n",
              "    <tr>\n",
              "      <th>placebo</th>\n",
              "      <td>5</td>\n",
              "      <td>2.2</td>\n",
              "      <td>1.303840</td>\n",
              "      <td>0.583095</td>\n",
              "      <td>0.922236</td>\n",
              "      <td>3.477764</td>\n",
              "    </tr>\n",
              "  </tbody>\n",
              "</table>\n",
              "</div>"
            ],
            "text/plain": [
              "         N  Mean        SD        SE  95% Conf.  Interval\n",
              "dose                                                     \n",
              "high     5   5.0  1.581139  0.707107   3.450484  6.549516\n",
              "low      5   3.2  1.303840  0.583095   1.922236  4.477764\n",
              "placebo  5   2.2  1.303840  0.583095   0.922236  3.477764"
            ]
          },
          "metadata": {
            "tags": []
          },
          "execution_count": 95
        }
      ]
    },
    {
      "cell_type": "markdown",
      "metadata": {
        "id": "DIJDHOcIY-rl",
        "colab_type": "text"
      },
      "source": [
        "### ONE-WAY ANOVA USING SCIPY.STATS"
      ]
    },
    {
      "cell_type": "code",
      "metadata": {
        "id": "9MT-7TSbYqCK",
        "colab_type": "code",
        "colab": {
          "base_uri": "https://localhost:8080/",
          "height": 34
        },
        "outputId": "0abe3852-f95a-421e-d491-97b2bf6e3450"
      },
      "source": [
        "stats.f_oneway(df['libido'][df['dose'] == 'high'],\n",
        "               df['libido'][df['dose'] == 'low'],\n",
        "               df['libido'][df['dose'] == 'placebo'])"
      ],
      "execution_count": 96,
      "outputs": [
        {
          "output_type": "execute_result",
          "data": {
            "text/plain": [
              "F_onewayResult(statistic=5.11864406779661, pvalue=0.024694289538222603)"
            ]
          },
          "metadata": {
            "tags": []
          },
          "execution_count": 96
        }
      ]
    },
    {
      "cell_type": "markdown",
      "metadata": {
        "id": "5wRvH8zPZVnF",
        "colab_type": "text"
      },
      "source": [
        "Interpretation\n",
        "\n",
        "A new medication was developed to increase the libido of those who take the medication. The purpose of this study was to test for a difference between the dosage levels. The overall average libido was 3.5 95% CI(2.5, 4.4) with group averages of 2.2 95% CI(0.9, 3.5) for the placebo group; 3.2 95% CI(1.9, 4.5) for the low dose group; and 5.0 95% CI(3.5, 6.5) for the high dose group. There is a statistically significant difference between the groups and their effects the libido, F= 5.12, p-value= 0.0247."
      ]
    },
    {
      "cell_type": "markdown",
      "metadata": {
        "id": "JBZEW3IcZyAd",
        "colab_type": "text"
      },
      "source": [
        "### ONE-WAY ANOVA USING STATSMODELS"
      ]
    },
    {
      "cell_type": "markdown",
      "metadata": {
        "id": "n-uKjxxQZ1YX",
        "colab_type": "text"
      },
      "source": [
        "This method conducts a one-way ANOVA in two steps:\n",
        "\n",
        "1. Fit the model using an estimation method,\n",
        "The default estimation method in most statistical software packages is ordinary least squares\n",
        "\n",
        "Not going to dive into estimation methods as it's out of scope of this section's topic\n",
        "\n",
        "If you are not familiar with it and don't care to really dive into it, then just know it's one of many types of estimation methods that aim to provide estimates of the parameter (mean, propertion, etc.) being tested\n",
        "\n",
        "2. Pass fitted model into ANOVA method to produce ANOVA table\n",
        "\n",
        "Here is the official StatsModels documentation on an ANOVA. The general structure for entering the equation is:"
      ]
    },
    {
      "cell_type": "code",
      "metadata": {
        "id": "IwoN_3OLZECq",
        "colab_type": "code",
        "colab": {}
      },
      "source": [
        "# ols(\"outcome_variable ~ independent_variable\", data= data_frame).fit()"
      ],
      "execution_count": 98,
      "outputs": []
    },
    {
      "cell_type": "code",
      "metadata": {
        "id": "JErUYkqJZ_NA",
        "colab_type": "code",
        "colab": {
          "base_uri": "https://localhost:8080/",
          "height": 111
        },
        "outputId": "d67277c0-8230-4027-82ff-d73cc93a1ec0"
      },
      "source": [
        "import statsmodels.api as sm\n",
        "from statsmodels.formula.api import ols\n",
        "\n",
        "model = ols('libido ~ C(dose)', data=df).fit()\n",
        "aov_table = sm.stats.anova_lm(model, typ=2)\n",
        "aov_table"
      ],
      "execution_count": 99,
      "outputs": [
        {
          "output_type": "execute_result",
          "data": {
            "text/html": [
              "<div>\n",
              "<style scoped>\n",
              "    .dataframe tbody tr th:only-of-type {\n",
              "        vertical-align: middle;\n",
              "    }\n",
              "\n",
              "    .dataframe tbody tr th {\n",
              "        vertical-align: top;\n",
              "    }\n",
              "\n",
              "    .dataframe thead th {\n",
              "        text-align: right;\n",
              "    }\n",
              "</style>\n",
              "<table border=\"1\" class=\"dataframe\">\n",
              "  <thead>\n",
              "    <tr style=\"text-align: right;\">\n",
              "      <th></th>\n",
              "      <th>sum_sq</th>\n",
              "      <th>df</th>\n",
              "      <th>F</th>\n",
              "      <th>PR(&gt;F)</th>\n",
              "    </tr>\n",
              "  </thead>\n",
              "  <tbody>\n",
              "    <tr>\n",
              "      <th>C(dose)</th>\n",
              "      <td>20.133333</td>\n",
              "      <td>2.0</td>\n",
              "      <td>5.118644</td>\n",
              "      <td>0.024694</td>\n",
              "    </tr>\n",
              "    <tr>\n",
              "      <th>Residual</th>\n",
              "      <td>23.600000</td>\n",
              "      <td>12.0</td>\n",
              "      <td>NaN</td>\n",
              "      <td>NaN</td>\n",
              "    </tr>\n",
              "  </tbody>\n",
              "</table>\n",
              "</div>"
            ],
            "text/plain": [
              "             sum_sq    df         F    PR(>F)\n",
              "C(dose)   20.133333   2.0  5.118644  0.024694\n",
              "Residual  23.600000  12.0       NaN       NaN"
            ]
          },
          "metadata": {
            "tags": []
          },
          "execution_count": 99
        }
      ]
    },
    {
      "cell_type": "markdown",
      "metadata": {
        "id": "lN48c00zbsah",
        "colab_type": "text"
      },
      "source": [
        "This table provides all the information one needs in order to interprete if the results are significant; however, it does not provide any effect size measures to tell if the statistical significance is meaningful. The function below calculates eta-squared (\n",
        ") and omega-squared (\n",
        "). A quick note, \n",
        " is the exact same thing as \n",
        " except when coming from the ANOVA framework people call it \n",
        "; \n",
        " is considered a better measure of effect size since it is unbiased in it's calculation by accounting for the degrees of freedom in the model."
      ]
    },
    {
      "cell_type": "code",
      "metadata": {
        "id": "FZThc2n3aHGv",
        "colab_type": "code",
        "colab": {
          "base_uri": "https://localhost:8080/",
          "height": 111
        },
        "outputId": "5d2a5667-e164-476d-d19f-47526a20b185"
      },
      "source": [
        "\"\"\"\n",
        "The function below was created specifically for the one-way ANOVA table results returned for Type II sum of squares\n",
        "\"\"\"\n",
        "\n",
        "def anova_table(aov):\n",
        "    aov['mean_sq'] = aov[:]['sum_sq']/aov[:]['df']\n",
        "\n",
        "    aov['eta_sq'] = aov[:-1]['sum_sq']/sum(aov['sum_sq'])\n",
        "\n",
        "    aov['omega_sq'] = (aov[:-1]['sum_sq']-(aov[:-1]['df']*aov['mean_sq'][-1]))/(sum(aov['sum_sq'])+aov['mean_sq'][-1])\n",
        "\n",
        "    cols = ['sum_sq', 'df', 'mean_sq', 'F', 'PR(>F)', 'eta_sq', 'omega_sq']\n",
        "    aov = aov[cols]\n",
        "    return aov\n",
        "\n",
        "anova_table(aov_table)"
      ],
      "execution_count": 100,
      "outputs": [
        {
          "output_type": "execute_result",
          "data": {
            "text/html": [
              "<div>\n",
              "<style scoped>\n",
              "    .dataframe tbody tr th:only-of-type {\n",
              "        vertical-align: middle;\n",
              "    }\n",
              "\n",
              "    .dataframe tbody tr th {\n",
              "        vertical-align: top;\n",
              "    }\n",
              "\n",
              "    .dataframe thead th {\n",
              "        text-align: right;\n",
              "    }\n",
              "</style>\n",
              "<table border=\"1\" class=\"dataframe\">\n",
              "  <thead>\n",
              "    <tr style=\"text-align: right;\">\n",
              "      <th></th>\n",
              "      <th>sum_sq</th>\n",
              "      <th>df</th>\n",
              "      <th>mean_sq</th>\n",
              "      <th>F</th>\n",
              "      <th>PR(&gt;F)</th>\n",
              "      <th>eta_sq</th>\n",
              "      <th>omega_sq</th>\n",
              "    </tr>\n",
              "  </thead>\n",
              "  <tbody>\n",
              "    <tr>\n",
              "      <th>C(dose)</th>\n",
              "      <td>20.133333</td>\n",
              "      <td>2.0</td>\n",
              "      <td>10.066667</td>\n",
              "      <td>5.118644</td>\n",
              "      <td>0.024694</td>\n",
              "      <td>0.460366</td>\n",
              "      <td>0.354486</td>\n",
              "    </tr>\n",
              "    <tr>\n",
              "      <th>Residual</th>\n",
              "      <td>23.600000</td>\n",
              "      <td>12.0</td>\n",
              "      <td>1.966667</td>\n",
              "      <td>NaN</td>\n",
              "      <td>NaN</td>\n",
              "      <td>NaN</td>\n",
              "      <td>NaN</td>\n",
              "    </tr>\n",
              "  </tbody>\n",
              "</table>\n",
              "</div>"
            ],
            "text/plain": [
              "             sum_sq    df    mean_sq         F    PR(>F)    eta_sq  omega_sq\n",
              "C(dose)   20.133333   2.0  10.066667  5.118644  0.024694  0.460366  0.354486\n",
              "Residual  23.600000  12.0   1.966667       NaN       NaN       NaN       NaN"
            ]
          },
          "metadata": {
            "tags": []
          },
          "execution_count": 100
        }
      ]
    },
    {
      "cell_type": "markdown",
      "metadata": {
        "id": "4ez4JWoabvsw",
        "colab_type": "text"
      },
      "source": [
        "Interpretation\n",
        "\n",
        "A new medication was developed to increase libido. The purpose of this study was to test for a difference between the dosage levels. The overall average libido was 3.5 95% CI(2.5, 4.4) with group averages of 2.2 95% CI(0.9, 3.5) for the placebo group; 3.2 95% CI(1.9, 4.5) for the low dose group; and 5.0 95% CI(3.5, 6.5) for the high dose group. There is a statistically significant difference between the groups and their effects the libido, F= 5.12, p-value= 0.0247, with an overall large effect, \n",
        "= 0.35.\n",
        "\n",
        "In order to tell which groups differed significantly, post-hoc tests need to be conducted. Before one goes through that work, the assumptions should be checked first in case any modifications need to be made to the model."
      ]
    },
    {
      "cell_type": "markdown",
      "metadata": {
        "id": "_jqADfbSb_A8",
        "colab_type": "text"
      },
      "source": [
        "### ASSUMPTION CHECK"
      ]
    },
    {
      "cell_type": "code",
      "metadata": {
        "id": "8M5PxYh4bqV0",
        "colab_type": "code",
        "colab": {
          "base_uri": "https://localhost:8080/",
          "height": 34
        },
        "outputId": "fb20a99d-874d-46dd-ef74-6e88e380537a"
      },
      "source": [
        "stats.shapiro(model.resid)"
      ],
      "execution_count": 101,
      "outputs": [
        {
          "output_type": "execute_result",
          "data": {
            "text/plain": [
              "(0.916691780090332, 0.1714704930782318)"
            ]
          },
          "metadata": {
            "tags": []
          },
          "execution_count": 101
        }
      ]
    },
    {
      "cell_type": "markdown",
      "metadata": {
        "id": "ThWTs7_RcGjA",
        "colab_type": "text"
      },
      "source": [
        "The test is non-significant, W= 0.9167, p= 0.1715, which indicates that the residuals are normally distributed.\n",
        "\n",
        "Another way to test the assumption is through a visual check- this is helpful when the sample is large. The reason this is true is that as the sample size increases, the statistical test's ability to reject the null hypothesis increases, i.e. it gains power to detect smaller differences as the sample size n increases.\n",
        "\n",
        "One method of visually checking the distribution is to use a probability plot with or without the correlation value, \n",
        ", to assess the observed values correlation with the theoretical distribution in question - in the current case it would be the Gaussian (a.k.a the normal) distribution. This can be completed by using the probplot() method from Scipy.stats. If using the \n",
        " measure, one can refer to the NIST/SEMATECH e-handbook of statistical methods to see if the value is significant."
      ]
    },
    {
      "cell_type": "code",
      "metadata": {
        "id": "kGNwSdwZcBd3",
        "colab_type": "code",
        "colab": {
          "base_uri": "https://localhost:8080/",
          "height": 632
        },
        "outputId": "d508ca85-673e-46c5-8b65-ac44b3c02bfd"
      },
      "source": [
        "import matplotlib.pyplot as plt\n",
        "\n",
        "fig = plt.figure(figsize= (10, 10))\n",
        "ax = fig.add_subplot(111)\n",
        "\n",
        "normality_plot, stat = stats.probplot(model.resid, plot= plt, rvalue= True)\n",
        "ax.set_title(\"Probability plot of model residual's\", fontsize= 20)\n",
        "ax.set\n",
        "\n",
        "plt.show()"
      ],
      "execution_count": 102,
      "outputs": [
        {
          "output_type": "display_data",
          "data": {
            "image/png": "[encoded data removed]",
            "text/plain": [
              "<Figure size 720x720 with 1 Axes>"
            ]
          },
          "metadata": {
            "tags": []
          }
        }
      ]
    },
    {
      "cell_type": "markdown",
      "metadata": {
        "id": "2FZoXlJccQ3j",
        "colab_type": "text"
      },
      "source": [
        "This is a case where the statistical testing method indicated the residuals were normally distributed, but the probability plot correlation coefficient (PPCC) indicated non-normality. Given the current example's sample size is small, N= 15, the Shapiro-Wilk test indicated normality, and that the calculated PPCC, \n",
        "= 0.9349, is ever so slightly smaller than the table PPC, \n",
        "= 0.9376, it is reasonable to state this assumption is met. However, looking at the plotted probability plot and the residual structure it would also be reasonable to transform the data for the analysis, or to use a non-parametric statistical test such as Welch's ANOVA or the Kruskal-Wallis ANOVA."
      ]
    },
    {
      "cell_type": "markdown",
      "metadata": {
        "id": "QIPhU-6kcT_7",
        "colab_type": "text"
      },
      "source": [
        "### HOMOGENEITY OF VARIANCE"
      ]
    },
    {
      "cell_type": "markdown",
      "metadata": {
        "id": "zDfWws92cWmW",
        "colab_type": "text"
      },
      "source": [
        "The final assumption is that all groups have equal variances. One method for testing this assumption is the Levene's test of homogeneity of variances. This can be completed using the levene() method from Scipy.stats."
      ]
    },
    {
      "cell_type": "code",
      "metadata": {
        "id": "DhlRuJ7LcH71",
        "colab_type": "code",
        "colab": {
          "base_uri": "https://localhost:8080/",
          "height": 34
        },
        "outputId": "889d596a-675a-4ae0-bcdc-402e849bce4f"
      },
      "source": [
        "stats.levene(df['libido'][df['dose'] == 'high'],\n",
        "             df['libido'][df['dose'] == 'low'],\n",
        "             df['libido'][df['dose'] == 'placebo'])"
      ],
      "execution_count": 103,
      "outputs": [
        {
          "output_type": "execute_result",
          "data": {
            "text/plain": [
              "LeveneResult(statistic=0.11764705882352934, pvalue=0.8900225182757423)"
            ]
          },
          "metadata": {
            "tags": []
          },
          "execution_count": 103
        }
      ]
    },
    {
      "cell_type": "markdown",
      "metadata": {
        "id": "RHN91LCEcaYn",
        "colab_type": "text"
      },
      "source": [
        "The Levene's test of homogeneity of variances is not significant which indicates that the groups have non-statistically significant difference in their varability. Again, it may be worthwhile to check this assumption visually as well."
      ]
    },
    {
      "cell_type": "code",
      "metadata": {
        "id": "d8Ox1og_cXsz",
        "colab_type": "code",
        "colab": {
          "base_uri": "https://localhost:8080/",
          "height": 632
        },
        "outputId": "8a2de557-2444-4e41-8088-aefd85c9ba63"
      },
      "source": [
        "fig = plt.figure(figsize= (10, 10))\n",
        "ax = fig.add_subplot(111)\n",
        "\n",
        "ax.set_title(\"Box Plot of Libido by Dosage\", fontsize= 20)\n",
        "ax.set\n",
        "\n",
        "data = [df['libido'][df['dose'] == 'placebo'],\n",
        "        df['libido'][df['dose'] == 'low'],\n",
        "        df['libido'][df['dose'] == 'high']]\n",
        "\n",
        "ax.boxplot(data,\n",
        "           labels= ['Placebo', 'Low', 'High'],\n",
        "           showmeans= True)\n",
        "\n",
        "plt.xlabel(\"Drug Dosage\")\n",
        "plt.ylabel(\"Libido Score\")\n",
        "\n",
        "plt.show()"
      ],
      "execution_count": 104,
      "outputs": [
        {
          "output_type": "display_data",
          "data": {
            "image/png": "[encoded data removed]",
            "text/plain": [
              "<Figure size 720x720 with 1 Axes>"
            ]
          },
          "metadata": {
            "tags": []
          }
        }
      ]
    },
    {
      "cell_type": "markdown",
      "metadata": {
        "id": "4C2yyAA7ckJu",
        "colab_type": "text"
      },
      "source": [
        "The graphical testing of homogeneity of variances supports the statistical testing findings which is the groups have equal variance.\n",
        "\n",
        "By default box plots show the median (orange line in graph above). The green triangle is the mean for each group which was an additional argument that was passed into the method.\n",
        "\n",
        "There are different ways to handle heteroskedasticity (unequal variance) and a decision needs to be made. Some options include, but is not limited to, transformming the dependent variable (outcome), could use trimmed means, robust standard errors, or use a parametric test suchs as the Welch's t-test. For a more in-depth look at the assumptions and some potential remedies, please check out this page."
      ]
    },
    {
      "cell_type": "markdown",
      "metadata": {
        "id": "US_3llNtcq27",
        "colab_type": "text"
      },
      "source": [
        "### POST-HOC TESTING"
      ]
    },
    {
      "cell_type": "markdown",
      "metadata": {
        "id": "YhZNTKzrcvXY",
        "colab_type": "text"
      },
      "source": [
        "By conducting post-hoc tests or planned comparisons it allows one to see which group(s) significantly differ from each other; remember that the ANOVA is an omnibus test! There are a few different approaches that can be taken while conducting these tests, ones that are implemented in StatsModels currently are:"
      ]
    },
    {
      "cell_type": "markdown",
      "metadata": {
        "id": "Qgde_MAedVbL",
        "colab_type": "text"
      },
      "source": [
        "#### TUKEY HONESTLY SIGNIFICANT DIFFERENCE (HSD)"
      ]
    },
    {
      "cell_type": "code",
      "metadata": {
        "id": "BzW-0XJVcbkT",
        "colab_type": "code",
        "colab": {
          "base_uri": "https://localhost:8080/",
          "height": 120
        },
        "outputId": "ab360667-442f-44d9-ded5-2d27d1f4129a"
      },
      "source": [
        "import statsmodels.stats.multicomp as mc\n",
        "\n",
        "comp = mc.MultiComparison(df['libido'], df['dose'])\n",
        "post_hoc_res = comp.tukeyhsd()\n",
        "post_hoc_res.summary()"
      ],
      "execution_count": 105,
      "outputs": [
        {
          "output_type": "execute_result",
          "data": {
            "text/html": [
              "<table class=\"simpletable\">\n",
              "<caption>Multiple Comparison of Means - Tukey HSD, FWER=0.05</caption>\n",
              "<tr>\n",
              "  <th>group1</th> <th>group2</th>  <th>meandiff</th>  <th>p-adj</th>  <th>lower</th>   <th>upper</th>  <th>reject</th>\n",
              "</tr>\n",
              "<tr>\n",
              "   <td>high</td>    <td>low</td>     <td>-1.8</td>   <td>0.1472</td> <td>-4.1651</td> <td>0.5651</td>   <td>False</td>\n",
              "</tr>\n",
              "<tr>\n",
              "   <td>high</td>  <td>placebo</td>   <td>-2.8</td>   <td>0.0209</td> <td>-5.1651</td> <td>-0.4349</td>  <td>True</td> \n",
              "</tr>\n",
              "<tr>\n",
              "    <td>low</td>  <td>placebo</td>   <td>-1.0</td>   <td>0.5171</td> <td>-3.3651</td> <td>1.3651</td>   <td>False</td>\n",
              "</tr>\n",
              "</table>"
            ],
            "text/plain": [
              "<class 'statsmodels.iolib.table.SimpleTable'>"
            ]
          },
          "metadata": {
            "tags": []
          },
          "execution_count": 105
        }
      ]
    },
    {
      "cell_type": "markdown",
      "metadata": {
        "id": "nAFwrgKlc5mC",
        "colab_type": "text"
      },
      "source": [
        "Now to make sense of the table.\n",
        "\n",
        "- At the top the table testing information is provided\n",
        "FWER is the familywise error rate, i.e. what  is being set to and controlled at\n",
        "- group1 and group2 columns are the groups being compared\n",
        "- meandiff is the difference between the group means\n",
        "- p-adj is the corrected p-value which takes into account the multiple comparisons being conducted\n",
        "- lower is the lower band of the confidence interval. In the current example the confidence interval at the 95% level since = 0.05.\n",
        "- upper is the upper band of the confidence interval. In the current example the confidence interval at the 95% level since = 0.05.\n",
        "- reject is the decision rule based on the corrected p-value\n",
        "It is possible to plot the difference using this method as well!"
      ]
    },
    {
      "cell_type": "code",
      "metadata": {
        "id": "VOpX9ZOVcyPW",
        "colab_type": "code",
        "colab": {
          "base_uri": "https://localhost:8080/",
          "height": 803
        },
        "outputId": "6810c2ec-a803-4b0f-92e0-a761a375d40d"
      },
      "source": [
        "post_hoc_res.plot_simultaneous(ylabel= \"Drug Dose\", xlabel= \"Score Difference\")"
      ],
      "execution_count": 107,
      "outputs": [
        {
          "output_type": "execute_result",
          "data": {
            "image/png": "[encoded data removed]",
            "text/plain": [
              "<Figure size 720x432 with 1 Axes>"
            ]
          },
          "metadata": {
            "tags": []
          },
          "execution_count": 107
        },
        {
          "output_type": "display_data",
          "data": {
            "image/png": "[encoded data removed]",
            "text/plain": [
              "<Figure size 720x432 with 1 Axes>"
            ]
          },
          "metadata": {
            "tags": []
          }
        }
      ]
    },
    {
      "cell_type": "markdown",
      "metadata": {
        "id": "bPoiQFdrdFkZ",
        "colab_type": "text"
      },
      "source": [
        "Using Tukey HSD to test for differences between groups indicates that there is a statistically significant difference in libido score between those who took the placebo and those who took the high dosage of the medication, no other groups differed significantly. What this indicates is that the high dosage of the medication is effective at increasing libido, but the low dosage is not."
      ]
    },
    {
      "cell_type": "markdown",
      "metadata": {
        "id": "5tYxNX5beBYS",
        "colab_type": "text"
      },
      "source": [
        "#### BONFERRONI CORRECTION"
      ]
    },
    {
      "cell_type": "code",
      "metadata": {
        "id": "0KzuApSUdDRD",
        "colab_type": "code",
        "colab": {
          "base_uri": "https://localhost:8080/",
          "height": 154
        },
        "outputId": "e4fc2b13-815b-40e7-aca6-1ad4647383f1"
      },
      "source": [
        "comp = mc.MultiComparison(df['libido'], df['dose'])\n",
        "tbl, a1, a2 = comp.allpairtest(stats.ttest_ind, method= \"bonf\")\n",
        "\n",
        "tbl"
      ],
      "execution_count": 109,
      "outputs": [
        {
          "output_type": "execute_result",
          "data": {
            "text/html": [
              "<table class=\"simpletable\">\n",
              "<caption>Test Multiple Comparison ttest_ind \n",
              "FWER=0.05 method=bonf\n",
              "alphacSidak=0.02, alphacBonf=0.017</caption>\n",
              "<tr>\n",
              "  <th>group1</th> <th>group2</th>   <th>stat</th>   <th>pval</th>  <th>pval_corr</th> <th>reject</th>\n",
              "</tr>\n",
              "<tr>\n",
              "   <td>high</td>    <td>low</td>    <td>1.964</td> <td>0.0851</td>  <td>0.2554</td>    <td>False</td>\n",
              "</tr>\n",
              "<tr>\n",
              "   <td>high</td>  <td>placebo</td> <td>3.0551</td> <td>0.0157</td>  <td>0.0471</td>    <td>True</td> \n",
              "</tr>\n",
              "<tr>\n",
              "    <td>low</td>  <td>placebo</td> <td>1.2127</td> <td>0.2598</td>  <td>0.7795</td>    <td>False</td>\n",
              "</tr>\n",
              "</table>"
            ],
            "text/plain": [
              "<class 'statsmodels.iolib.table.SimpleTable'>"
            ]
          },
          "metadata": {
            "tags": []
          },
          "execution_count": 109
        }
      ]
    },
    {
      "cell_type": "markdown",
      "metadata": {
        "id": "eSxBwHBVvftJ",
        "colab_type": "text"
      },
      "source": [
        "stat is the test statistic value; in this case it would be the t statistic\n",
        "\n",
        "pval is the uncorrected p-value returned from the supplied \"statistical_test_method\"\n",
        "\n",
        "pval_corr is the corrected p-value which has been corrected using whichever \"correction_method\" was supplied\n",
        "\n",
        "reject is the decision rule based on the corrected p-value"
      ]
    },
    {
      "cell_type": "markdown",
      "metadata": {
        "id": "klSX7MHXvj4p",
        "colab_type": "text"
      },
      "source": [
        "#### ŠIDÁK CORRECTION (A.K.A. DUNN-ŠIDÁK CORRECTION)"
      ]
    },
    {
      "cell_type": "code",
      "metadata": {
        "id": "mZ8tv7e1vW8t",
        "colab_type": "code",
        "colab": {
          "base_uri": "https://localhost:8080/",
          "height": 154
        },
        "outputId": "ed337df3-e9bd-4eeb-b568-0b27a1670a59"
      },
      "source": [
        "comp = mc.MultiComparison(df['libido'], df['dose'])\n",
        "tbl, a1, a2 = comp.allpairtest(stats.ttest_ind, method= \"sidak\")\n",
        "\n",
        "tbl"
      ],
      "execution_count": 112,
      "outputs": [
        {
          "output_type": "execute_result",
          "data": {
            "text/html": [
              "<table class=\"simpletable\">\n",
              "<caption>Test Multiple Comparison ttest_ind \n",
              "FWER=0.05 method=sidak\n",
              "alphacSidak=0.02, alphacBonf=0.017</caption>\n",
              "<tr>\n",
              "  <th>group1</th> <th>group2</th>   <th>stat</th>   <th>pval</th>  <th>pval_corr</th> <th>reject</th>\n",
              "</tr>\n",
              "<tr>\n",
              "   <td>high</td>    <td>low</td>    <td>1.964</td> <td>0.0851</td>  <td>0.2343</td>    <td>False</td>\n",
              "</tr>\n",
              "<tr>\n",
              "   <td>high</td>  <td>placebo</td> <td>3.0551</td> <td>0.0157</td>  <td>0.0464</td>    <td>True</td> \n",
              "</tr>\n",
              "<tr>\n",
              "    <td>low</td>  <td>placebo</td> <td>1.2127</td> <td>0.2598</td>  <td>0.5945</td>    <td>False</td>\n",
              "</tr>\n",
              "</table>"
            ],
            "text/plain": [
              "<class 'statsmodels.iolib.table.SimpleTable'>"
            ]
          },
          "metadata": {
            "tags": []
          },
          "execution_count": 112
        }
      ]
    },
    {
      "cell_type": "markdown",
      "metadata": {
        "id": "IWtJ1dqAwBTV",
        "colab_type": "text"
      },
      "source": [
        "## N-WAY ANOVA"
      ]
    },
    {
      "cell_type": "markdown",
      "metadata": {
        "id": "X6gywIXKwPXB",
        "colab_type": "text"
      },
      "source": [
        "When conducting an ANOVA with multiple factors, like in the current demonstration, all factors should be tested for an interaction before looking at their individual main effects. If the interaction between the variables are non-significant, then remove a variable from the interaction and conduct the analysis again. First a 2-factor ANOVA example will be discussed then the discussion will be expanded to discuss a 3-factor ANOVA which will exemplify how complex ANOVAs can get when using multiple factors."
      ]
    },
    {
      "cell_type": "code",
      "metadata": {
        "id": "O7zT9DbGvrwl",
        "colab_type": "code",
        "colab": {
          "base_uri": "https://localhost:8080/",
          "height": 204
        },
        "outputId": "774bcd90-9ea1-4c87-8efa-7446c9e90039"
      },
      "source": [
        "manufac = sm.datasets.webuse('manuf')\n",
        "manufac.head()\n"
      ],
      "execution_count": 115,
      "outputs": [
        {
          "output_type": "execute_result",
          "data": {
            "text/html": [
              "<div>\n",
              "<style scoped>\n",
              "    .dataframe tbody tr th:only-of-type {\n",
              "        vertical-align: middle;\n",
              "    }\n",
              "\n",
              "    .dataframe tbody tr th {\n",
              "        vertical-align: top;\n",
              "    }\n",
              "\n",
              "    .dataframe thead th {\n",
              "        text-align: right;\n",
              "    }\n",
              "</style>\n",
              "<table border=\"1\" class=\"dataframe\">\n",
              "  <thead>\n",
              "    <tr style=\"text-align: right;\">\n",
              "      <th></th>\n",
              "      <th>temperature</th>\n",
              "      <th>chemical</th>\n",
              "      <th>method</th>\n",
              "      <th>yield</th>\n",
              "    </tr>\n",
              "  </thead>\n",
              "  <tbody>\n",
              "    <tr>\n",
              "      <th>0</th>\n",
              "      <td>low</td>\n",
              "      <td>A</td>\n",
              "      <td>stir</td>\n",
              "      <td>5</td>\n",
              "    </tr>\n",
              "    <tr>\n",
              "      <th>1</th>\n",
              "      <td>low</td>\n",
              "      <td>A</td>\n",
              "      <td>stir</td>\n",
              "      <td>13</td>\n",
              "    </tr>\n",
              "    <tr>\n",
              "      <th>2</th>\n",
              "      <td>low</td>\n",
              "      <td>A</td>\n",
              "      <td>stir</td>\n",
              "      <td>9</td>\n",
              "    </tr>\n",
              "    <tr>\n",
              "      <th>3</th>\n",
              "      <td>low</td>\n",
              "      <td>A</td>\n",
              "      <td>fold</td>\n",
              "      <td>8</td>\n",
              "    </tr>\n",
              "    <tr>\n",
              "      <th>4</th>\n",
              "      <td>low</td>\n",
              "      <td>A</td>\n",
              "      <td>fold</td>\n",
              "      <td>7</td>\n",
              "    </tr>\n",
              "  </tbody>\n",
              "</table>\n",
              "</div>"
            ],
            "text/plain": [
              "  temperature chemical method  yield\n",
              "0         low        A   stir      5\n",
              "1         low        A   stir     13\n",
              "2         low        A   stir      9\n",
              "3         low        A   fold      8\n",
              "4         low        A   fold      7"
            ]
          },
          "metadata": {
            "tags": []
          },
          "execution_count": 115
        }
      ]
    },
    {
      "cell_type": "code",
      "metadata": {
        "id": "X2N_J_H7wYxH",
        "colab_type": "code",
        "colab": {
          "base_uri": "https://localhost:8080/",
          "height": 204
        },
        "outputId": "fce69f7f-ad36-4204-dbda-7556dbda66c3"
      },
      "source": [
        "manufac.info()"
      ],
      "execution_count": 114,
      "outputs": [
        {
          "output_type": "stream",
          "text": [
            "<class 'pandas.core.frame.DataFrame'>\n",
            "Int64Index: 36 entries, 0 to 35\n",
            "Data columns (total 4 columns):\n",
            " #   Column       Non-Null Count  Dtype   \n",
            "---  ------       --------------  -----   \n",
            " 0   temperature  36 non-null     category\n",
            " 1   chemical     36 non-null     category\n",
            " 2   method       36 non-null     category\n",
            " 3   yield        36 non-null     int8    \n",
            "dtypes: category(3), int8(1)\n",
            "memory usage: 728.0 bytes\n"
          ],
          "name": "stdout"
        }
      ]
    },
    {
      "cell_type": "code",
      "metadata": {
        "id": "TOGoCGBvwZL3",
        "colab_type": "code",
        "colab": {
          "base_uri": "https://localhost:8080/",
          "height": 266
        },
        "outputId": "718ff405-f28b-40ba-df0a-87ed9705e4c6"
      },
      "source": [
        "rp.summary_cat(manufac[[\"temperature\", \"chemical\", \"method\"]])"
      ],
      "execution_count": 116,
      "outputs": [
        {
          "output_type": "execute_result",
          "data": {
            "text/html": [
              "<div>\n",
              "<style scoped>\n",
              "    .dataframe tbody tr th:only-of-type {\n",
              "        vertical-align: middle;\n",
              "    }\n",
              "\n",
              "    .dataframe tbody tr th {\n",
              "        vertical-align: top;\n",
              "    }\n",
              "\n",
              "    .dataframe thead th {\n",
              "        text-align: right;\n",
              "    }\n",
              "</style>\n",
              "<table border=\"1\" class=\"dataframe\">\n",
              "  <thead>\n",
              "    <tr style=\"text-align: right;\">\n",
              "      <th></th>\n",
              "      <th>Variable</th>\n",
              "      <th>Outcome</th>\n",
              "      <th>Count</th>\n",
              "      <th>Percent</th>\n",
              "    </tr>\n",
              "  </thead>\n",
              "  <tbody>\n",
              "    <tr>\n",
              "      <th>0</th>\n",
              "      <td>temperature</td>\n",
              "      <td>high</td>\n",
              "      <td>12</td>\n",
              "      <td>33.33</td>\n",
              "    </tr>\n",
              "    <tr>\n",
              "      <th>1</th>\n",
              "      <td></td>\n",
              "      <td>medium</td>\n",
              "      <td>12</td>\n",
              "      <td>33.33</td>\n",
              "    </tr>\n",
              "    <tr>\n",
              "      <th>2</th>\n",
              "      <td></td>\n",
              "      <td>low</td>\n",
              "      <td>12</td>\n",
              "      <td>33.33</td>\n",
              "    </tr>\n",
              "    <tr>\n",
              "      <th>3</th>\n",
              "      <td>chemical</td>\n",
              "      <td>B</td>\n",
              "      <td>18</td>\n",
              "      <td>50.00</td>\n",
              "    </tr>\n",
              "    <tr>\n",
              "      <th>4</th>\n",
              "      <td></td>\n",
              "      <td>A</td>\n",
              "      <td>18</td>\n",
              "      <td>50.00</td>\n",
              "    </tr>\n",
              "    <tr>\n",
              "      <th>5</th>\n",
              "      <td>method</td>\n",
              "      <td>fold</td>\n",
              "      <td>18</td>\n",
              "      <td>50.00</td>\n",
              "    </tr>\n",
              "    <tr>\n",
              "      <th>6</th>\n",
              "      <td></td>\n",
              "      <td>stir</td>\n",
              "      <td>18</td>\n",
              "      <td>50.00</td>\n",
              "    </tr>\n",
              "  </tbody>\n",
              "</table>\n",
              "</div>"
            ],
            "text/plain": [
              "      Variable Outcome  Count  Percent\n",
              "0  temperature    high     12    33.33\n",
              "1               medium     12    33.33\n",
              "2                  low     12    33.33\n",
              "3     chemical       B     18    50.00\n",
              "4                    A     18    50.00\n",
              "5       method    fold     18    50.00\n",
              "6                 stir     18    50.00"
            ]
          },
          "metadata": {
            "tags": []
          },
          "execution_count": 116
        }
      ]
    },
    {
      "cell_type": "code",
      "metadata": {
        "id": "nxju4G3VwgaV",
        "colab_type": "code",
        "colab": {
          "base_uri": "https://localhost:8080/",
          "height": 114
        },
        "outputId": "d0146028-eca2-48fa-9dff-625a91edd3dc"
      },
      "source": [
        "rp.summary_cont(manufac[\"yield\"])"
      ],
      "execution_count": 117,
      "outputs": [
        {
          "output_type": "stream",
          "text": [
            "\n",
            "\n"
          ],
          "name": "stdout"
        },
        {
          "output_type": "execute_result",
          "data": {
            "text/html": [
              "<div>\n",
              "<style scoped>\n",
              "    .dataframe tbody tr th:only-of-type {\n",
              "        vertical-align: middle;\n",
              "    }\n",
              "\n",
              "    .dataframe tbody tr th {\n",
              "        vertical-align: top;\n",
              "    }\n",
              "\n",
              "    .dataframe thead th {\n",
              "        text-align: right;\n",
              "    }\n",
              "</style>\n",
              "<table border=\"1\" class=\"dataframe\">\n",
              "  <thead>\n",
              "    <tr style=\"text-align: right;\">\n",
              "      <th></th>\n",
              "      <th>Variable</th>\n",
              "      <th>N</th>\n",
              "      <th>Mean</th>\n",
              "      <th>SD</th>\n",
              "      <th>SE</th>\n",
              "      <th>95% Conf.</th>\n",
              "      <th>Interval</th>\n",
              "    </tr>\n",
              "  </thead>\n",
              "  <tbody>\n",
              "    <tr>\n",
              "      <th>0</th>\n",
              "      <td>yield</td>\n",
              "      <td>36.0</td>\n",
              "      <td>7.583333</td>\n",
              "      <td>3.237062</td>\n",
              "      <td>0.53951</td>\n",
              "      <td>6.488069</td>\n",
              "      <td>8.678598</td>\n",
              "    </tr>\n",
              "  </tbody>\n",
              "</table>\n",
              "</div>"
            ],
            "text/plain": [
              "  Variable     N      Mean        SD       SE  95% Conf.  Interval\n",
              "0    yield  36.0  7.583333  3.237062  0.53951   6.488069  8.678598"
            ]
          },
          "metadata": {
            "tags": []
          },
          "execution_count": 117
        }
      ]
    },
    {
      "cell_type": "markdown",
      "metadata": {
        "id": "9OKEZ5lAxGQJ",
        "colab_type": "text"
      },
      "source": [
        "### 3-FACTOR ANOVA USING STATSMODELS"
      ]
    },
    {
      "cell_type": "code",
      "metadata": {
        "id": "OdfkHplRwjDn",
        "colab_type": "code",
        "colab": {
          "base_uri": "https://localhost:8080/",
          "height": 328
        },
        "outputId": "0e41019d-6889-4db4-c869-53fcec44768a"
      },
      "source": [
        "manufac[\"Yield\"] = manufac[\"yield\"]\n",
        "\n",
        "model = ols(\"Yield ~ C(temperature, Sum) + C(chemical, Sum) + C(method, Sum) + \\\n",
        "C(temperature, Sum)*C(chemical, Sum)*C(method, Sum)\", \n",
        "            data=manufac).fit()\n",
        "\n",
        "aov_table = sm.stats.anova_lm(model, typ=3)\n",
        "aov_table"
      ],
      "execution_count": 119,
      "outputs": [
        {
          "output_type": "execute_result",
          "data": {
            "text/html": [
              "<div>\n",
              "<style scoped>\n",
              "    .dataframe tbody tr th:only-of-type {\n",
              "        vertical-align: middle;\n",
              "    }\n",
              "\n",
              "    .dataframe tbody tr th {\n",
              "        vertical-align: top;\n",
              "    }\n",
              "\n",
              "    .dataframe thead th {\n",
              "        text-align: right;\n",
              "    }\n",
              "</style>\n",
              "<table border=\"1\" class=\"dataframe\">\n",
              "  <thead>\n",
              "    <tr style=\"text-align: right;\">\n",
              "      <th></th>\n",
              "      <th>sum_sq</th>\n",
              "      <th>df</th>\n",
              "      <th>F</th>\n",
              "      <th>PR(&gt;F)</th>\n",
              "    </tr>\n",
              "  </thead>\n",
              "  <tbody>\n",
              "    <tr>\n",
              "      <th>Intercept</th>\n",
              "      <td>2070.25</td>\n",
              "      <td>1.0</td>\n",
              "      <td>299.313253</td>\n",
              "      <td>4.675019e-15</td>\n",
              "    </tr>\n",
              "    <tr>\n",
              "      <th>C(temperature, Sum)</th>\n",
              "      <td>30.50</td>\n",
              "      <td>2.0</td>\n",
              "      <td>2.204819</td>\n",
              "      <td>1.321133e-01</td>\n",
              "    </tr>\n",
              "    <tr>\n",
              "      <th>C(chemical, Sum)</th>\n",
              "      <td>12.25</td>\n",
              "      <td>1.0</td>\n",
              "      <td>1.771084</td>\n",
              "      <td>1.957540e-01</td>\n",
              "    </tr>\n",
              "    <tr>\n",
              "      <th>C(method, Sum)</th>\n",
              "      <td>42.25</td>\n",
              "      <td>1.0</td>\n",
              "      <td>6.108434</td>\n",
              "      <td>2.093730e-02</td>\n",
              "    </tr>\n",
              "    <tr>\n",
              "      <th>C(temperature, Sum):C(chemical, Sum)</th>\n",
              "      <td>24.50</td>\n",
              "      <td>2.0</td>\n",
              "      <td>1.771084</td>\n",
              "      <td>1.916714e-01</td>\n",
              "    </tr>\n",
              "    <tr>\n",
              "      <th>C(temperature, Sum):C(method, Sum)</th>\n",
              "      <td>87.50</td>\n",
              "      <td>2.0</td>\n",
              "      <td>6.325301</td>\n",
              "      <td>6.216723e-03</td>\n",
              "    </tr>\n",
              "    <tr>\n",
              "      <th>C(chemical, Sum):C(method, Sum)</th>\n",
              "      <td>0.25</td>\n",
              "      <td>1.0</td>\n",
              "      <td>0.036145</td>\n",
              "      <td>8.508161e-01</td>\n",
              "    </tr>\n",
              "    <tr>\n",
              "      <th>C(temperature, Sum):C(chemical, Sum):C(method, Sum)</th>\n",
              "      <td>3.50</td>\n",
              "      <td>2.0</td>\n",
              "      <td>0.253012</td>\n",
              "      <td>7.785036e-01</td>\n",
              "    </tr>\n",
              "    <tr>\n",
              "      <th>Residual</th>\n",
              "      <td>166.00</td>\n",
              "      <td>24.0</td>\n",
              "      <td>NaN</td>\n",
              "      <td>NaN</td>\n",
              "    </tr>\n",
              "  </tbody>\n",
              "</table>\n",
              "</div>"
            ],
            "text/plain": [
              "                                                     sum_sq  ...        PR(>F)\n",
              "Intercept                                           2070.25  ...  4.675019e-15\n",
              "C(temperature, Sum)                                   30.50  ...  1.321133e-01\n",
              "C(chemical, Sum)                                      12.25  ...  1.957540e-01\n",
              "C(method, Sum)                                        42.25  ...  2.093730e-02\n",
              "C(temperature, Sum):C(chemical, Sum)                  24.50  ...  1.916714e-01\n",
              "C(temperature, Sum):C(method, Sum)                    87.50  ...  6.216723e-03\n",
              "C(chemical, Sum):C(method, Sum)                        0.25  ...  8.508161e-01\n",
              "C(temperature, Sum):C(chemical, Sum):C(method, ...     3.50  ...  7.785036e-01\n",
              "Residual                                             166.00  ...           NaN\n",
              "\n",
              "[9 rows x 4 columns]"
            ]
          },
          "metadata": {
            "tags": []
          },
          "execution_count": 119
        }
      ]
    },
    {
      "cell_type": "markdown",
      "metadata": {
        "id": "qJ2DABkVxdAq",
        "colab_type": "text"
      },
      "source": [
        "The interaction between temperature, chemical type, and method is statistically non-significant. This indicates that different level combinations of the factors do not produce a significant difference in the yield. Thus this term should be removed from the ANOVA model and re-ran looking at the 2-factor interactions."
      ]
    },
    {
      "cell_type": "code",
      "metadata": {
        "id": "_raomjakxONF",
        "colab_type": "code",
        "colab": {
          "base_uri": "https://localhost:8080/",
          "height": 297
        },
        "outputId": "08e22e6b-cc39-4ca1-9214-e5ba0c469d80"
      },
      "source": [
        "model = ols(\"Yield ~ C(temperature, Sum) + C(chemical, Sum) + C(method, Sum) +\\\n",
        " C(temperature, Sum):C(chemical, Sum) + C(temperature, Sum):C(method, Sum) +\\\n",
        "  C(chemical, Sum):C(method, Sum)\", data=manufac).fit()\n",
        "\n",
        "aov_table = sm.stats.anova_lm(model, typ=3)\n",
        "aov_table"
      ],
      "execution_count": 120,
      "outputs": [
        {
          "output_type": "execute_result",
          "data": {
            "text/html": [
              "<div>\n",
              "<style scoped>\n",
              "    .dataframe tbody tr th:only-of-type {\n",
              "        vertical-align: middle;\n",
              "    }\n",
              "\n",
              "    .dataframe tbody tr th {\n",
              "        vertical-align: top;\n",
              "    }\n",
              "\n",
              "    .dataframe thead th {\n",
              "        text-align: right;\n",
              "    }\n",
              "</style>\n",
              "<table border=\"1\" class=\"dataframe\">\n",
              "  <thead>\n",
              "    <tr style=\"text-align: right;\">\n",
              "      <th></th>\n",
              "      <th>sum_sq</th>\n",
              "      <th>df</th>\n",
              "      <th>F</th>\n",
              "      <th>PR(&gt;F)</th>\n",
              "    </tr>\n",
              "  </thead>\n",
              "  <tbody>\n",
              "    <tr>\n",
              "      <th>Intercept</th>\n",
              "      <td>2070.25</td>\n",
              "      <td>1.0</td>\n",
              "      <td>317.560472</td>\n",
              "      <td>4.292571e-16</td>\n",
              "    </tr>\n",
              "    <tr>\n",
              "      <th>C(temperature, Sum)</th>\n",
              "      <td>30.50</td>\n",
              "      <td>2.0</td>\n",
              "      <td>2.339233</td>\n",
              "      <td>1.163633e-01</td>\n",
              "    </tr>\n",
              "    <tr>\n",
              "      <th>C(chemical, Sum)</th>\n",
              "      <td>12.25</td>\n",
              "      <td>1.0</td>\n",
              "      <td>1.879056</td>\n",
              "      <td>1.821599e-01</td>\n",
              "    </tr>\n",
              "    <tr>\n",
              "      <th>C(method, Sum)</th>\n",
              "      <td>42.25</td>\n",
              "      <td>1.0</td>\n",
              "      <td>6.480826</td>\n",
              "      <td>1.717637e-02</td>\n",
              "    </tr>\n",
              "    <tr>\n",
              "      <th>C(temperature, Sum):C(chemical, Sum)</th>\n",
              "      <td>24.50</td>\n",
              "      <td>2.0</td>\n",
              "      <td>1.879056</td>\n",
              "      <td>1.728955e-01</td>\n",
              "    </tr>\n",
              "    <tr>\n",
              "      <th>C(temperature, Sum):C(method, Sum)</th>\n",
              "      <td>87.50</td>\n",
              "      <td>2.0</td>\n",
              "      <td>6.710914</td>\n",
              "      <td>4.467613e-03</td>\n",
              "    </tr>\n",
              "    <tr>\n",
              "      <th>C(chemical, Sum):C(method, Sum)</th>\n",
              "      <td>0.25</td>\n",
              "      <td>1.0</td>\n",
              "      <td>0.038348</td>\n",
              "      <td>8.462683e-01</td>\n",
              "    </tr>\n",
              "    <tr>\n",
              "      <th>Residual</th>\n",
              "      <td>169.50</td>\n",
              "      <td>26.0</td>\n",
              "      <td>NaN</td>\n",
              "      <td>NaN</td>\n",
              "    </tr>\n",
              "  </tbody>\n",
              "</table>\n",
              "</div>"
            ],
            "text/plain": [
              "                                       sum_sq    df           F        PR(>F)\n",
              "Intercept                             2070.25   1.0  317.560472  4.292571e-16\n",
              "C(temperature, Sum)                     30.50   2.0    2.339233  1.163633e-01\n",
              "C(chemical, Sum)                        12.25   1.0    1.879056  1.821599e-01\n",
              "C(method, Sum)                          42.25   1.0    6.480826  1.717637e-02\n",
              "C(temperature, Sum):C(chemical, Sum)    24.50   2.0    1.879056  1.728955e-01\n",
              "C(temperature, Sum):C(method, Sum)      87.50   2.0    6.710914  4.467613e-03\n",
              "C(chemical, Sum):C(method, Sum)          0.25   1.0    0.038348  8.462683e-01\n",
              "Residual                               169.50  26.0         NaN           NaN"
            ]
          },
          "metadata": {
            "tags": []
          },
          "execution_count": 120
        }
      ]
    },
    {
      "cell_type": "markdown",
      "metadata": {
        "id": "2THE9CaWx0jA",
        "colab_type": "text"
      },
      "source": [
        "The only 2-factor interaction that is statistically significant is between temperature and method, the other 2-factor interactions should be removed and the model needs to be re-ran."
      ]
    },
    {
      "cell_type": "code",
      "metadata": {
        "id": "YCW9QYmPxkAC",
        "colab_type": "code",
        "colab": {
          "base_uri": "https://localhost:8080/",
          "height": 235
        },
        "outputId": "df5b4cbc-538b-47f9-af7f-cd23fb72eb2b"
      },
      "source": [
        "model = ols(\"Yield ~ C(temperature, Sum) + C(chemical, Sum) + C(method, Sum) +\\\n",
        " C(temperature, Sum):C(method, Sum)\", data=manufac).fit()\n",
        "\n",
        "aov_table = sm.stats.anova_lm(model, typ=3)\n",
        "aov_table"
      ],
      "execution_count": 121,
      "outputs": [
        {
          "output_type": "execute_result",
          "data": {
            "text/html": [
              "<div>\n",
              "<style scoped>\n",
              "    .dataframe tbody tr th:only-of-type {\n",
              "        vertical-align: middle;\n",
              "    }\n",
              "\n",
              "    .dataframe tbody tr th {\n",
              "        vertical-align: top;\n",
              "    }\n",
              "\n",
              "    .dataframe thead th {\n",
              "        text-align: right;\n",
              "    }\n",
              "</style>\n",
              "<table border=\"1\" class=\"dataframe\">\n",
              "  <thead>\n",
              "    <tr style=\"text-align: right;\">\n",
              "      <th></th>\n",
              "      <th>sum_sq</th>\n",
              "      <th>df</th>\n",
              "      <th>F</th>\n",
              "      <th>PR(&gt;F)</th>\n",
              "    </tr>\n",
              "  </thead>\n",
              "  <tbody>\n",
              "    <tr>\n",
              "      <th>Intercept</th>\n",
              "      <td>2070.25</td>\n",
              "      <td>1.0</td>\n",
              "      <td>309.072072</td>\n",
              "      <td>5.239664e-17</td>\n",
              "    </tr>\n",
              "    <tr>\n",
              "      <th>C(temperature, Sum)</th>\n",
              "      <td>30.50</td>\n",
              "      <td>2.0</td>\n",
              "      <td>2.276705</td>\n",
              "      <td>1.206672e-01</td>\n",
              "    </tr>\n",
              "    <tr>\n",
              "      <th>C(chemical, Sum)</th>\n",
              "      <td>12.25</td>\n",
              "      <td>1.0</td>\n",
              "      <td>1.828829</td>\n",
              "      <td>1.867181e-01</td>\n",
              "    </tr>\n",
              "    <tr>\n",
              "      <th>C(method, Sum)</th>\n",
              "      <td>42.25</td>\n",
              "      <td>1.0</td>\n",
              "      <td>6.307593</td>\n",
              "      <td>1.784464e-02</td>\n",
              "    </tr>\n",
              "    <tr>\n",
              "      <th>C(temperature, Sum):C(method, Sum)</th>\n",
              "      <td>87.50</td>\n",
              "      <td>2.0</td>\n",
              "      <td>6.531532</td>\n",
              "      <td>4.552060e-03</td>\n",
              "    </tr>\n",
              "    <tr>\n",
              "      <th>Residual</th>\n",
              "      <td>194.25</td>\n",
              "      <td>29.0</td>\n",
              "      <td>NaN</td>\n",
              "      <td>NaN</td>\n",
              "    </tr>\n",
              "  </tbody>\n",
              "</table>\n",
              "</div>"
            ],
            "text/plain": [
              "                                     sum_sq    df           F        PR(>F)\n",
              "Intercept                           2070.25   1.0  309.072072  5.239664e-17\n",
              "C(temperature, Sum)                   30.50   2.0    2.276705  1.206672e-01\n",
              "C(chemical, Sum)                      12.25   1.0    1.828829  1.867181e-01\n",
              "C(method, Sum)                        42.25   1.0    6.307593  1.784464e-02\n",
              "C(temperature, Sum):C(method, Sum)    87.50   2.0    6.531532  4.552060e-03\n",
              "Residual                             194.25  29.0         NaN           NaN"
            ]
          },
          "metadata": {
            "tags": []
          },
          "execution_count": 121
        }
      ]
    },
    {
      "cell_type": "markdown",
      "metadata": {
        "id": "tDjlhaDgyBQ5",
        "colab_type": "text"
      },
      "source": [
        "The sum of squares that each factor accounted for did not change while removing non-significant factors from the model due to the nature of Type III sum of squares. The information that did change are the F-statistics and their respective p-values, as well as the residual sum of squares and the residual degrees of freedom."
      ]
    },
    {
      "cell_type": "markdown",
      "metadata": {
        "id": "QQeySm45yEjb",
        "colab_type": "text"
      },
      "source": [
        "**Interpretation**\n",
        "\n",
        "A study was designed to determine the optimal operating conditions to maximize yield. The study assessed temperature settings, chemical supply companies, and two mixing methods. The overall interaction between the three factors was statistically non-significant, F(2, 24.0)= 0.2530, p-value= 0.7786. After looking at the reduced model which included all possible 2-factor interactions, the only significant interaction was between temperature and method. The non-signifance interactions were removed and the final model showed that temperature and method have a statistically significant interaction effect on yield, F(2, 29)=6.5315, p-value= 0.0045.\n",
        "\n",
        "Note: It's important to include the other model's in documentation to show full model results of all model's tested."
      ]
    },
    {
      "cell_type": "markdown",
      "metadata": {
        "id": "sw79quq8ylor",
        "colab_type": "text"
      },
      "source": [
        "### ASSUMPTION CHECK AND POST-HOC TESTING"
      ]
    },
    {
      "cell_type": "markdown",
      "metadata": {
        "id": "yHgeMQfuytpf",
        "colab_type": "text"
      },
      "source": [
        "To see how to check the assumptions using an ANOVA model please refer to the assumption check section of the one-way ANOVA. For a more in-depth look at the assumptions and some potential remedies, please check out this page.\n",
        "\n",
        "To see how to conduct post-hoc testing, please refer to the post-hoc testing section of the one-way ANOVA page. Before you leave and conduct post-hoc testing it should be noted that an easy way to test for group difference of the interaction term using StatsModels is to create a column in the data frame which represents the possible group combinations of the significant interaction term and use this instead of trying to use a groupby object. A quick demonstration is below, but still refer to the post-hoc testing page as mentioned for a more in-depth demonstration."
      ]
    },
    {
      "cell_type": "code",
      "metadata": {
        "id": "OAC8OPwnzDYd",
        "colab_type": "code",
        "colab": {
          "base_uri": "https://localhost:8080/",
          "height": 646
        },
        "outputId": "61c06d1b-e03c-4c71-a6dd-7efe056f1d9d"
      },
      "source": [
        "manufac.temperature.astype(str)"
      ],
      "execution_count": 124,
      "outputs": [
        {
          "output_type": "execute_result",
          "data": {
            "text/plain": [
              "0        low\n",
              "1        low\n",
              "2        low\n",
              "3        low\n",
              "4        low\n",
              "5        low\n",
              "6        low\n",
              "7        low\n",
              "8        low\n",
              "9        low\n",
              "10       low\n",
              "11       low\n",
              "12    medium\n",
              "13    medium\n",
              "14    medium\n",
              "15    medium\n",
              "16    medium\n",
              "17    medium\n",
              "18    medium\n",
              "19    medium\n",
              "20    medium\n",
              "21    medium\n",
              "22    medium\n",
              "23    medium\n",
              "24      high\n",
              "25      high\n",
              "26      high\n",
              "27      high\n",
              "28      high\n",
              "29      high\n",
              "30      high\n",
              "31      high\n",
              "32      high\n",
              "33      high\n",
              "34      high\n",
              "35      high\n",
              "Name: temperature, dtype: object"
            ]
          },
          "metadata": {
            "tags": []
          },
          "execution_count": 124
        }
      ]
    },
    {
      "cell_type": "code",
      "metadata": {
        "id": "vkXFLMCkx5mT",
        "colab_type": "code",
        "colab": {
          "base_uri": "https://localhost:8080/",
          "height": 372
        },
        "outputId": "9331f048-fd23-4f3a-b85a-5eb009d3b567"
      },
      "source": [
        "interaction_groups = \"Temp_\" + manufac.temperature.astype(str) + \" & \" + \"Method_\" +\\\n",
        " manufac.method.astype(str)\n",
        "\n",
        "comp = mc.MultiComparison(manufac[\"Yield\"], interaction_groups)\n",
        "post_hoc_res = comp.tukeyhsd()\n",
        "post_hoc_res.summary()"
      ],
      "execution_count": 122,
      "outputs": [
        {
          "output_type": "execute_result",
          "data": {
            "text/html": [
              "<table class=\"simpletable\">\n",
              "<caption>Multiple Comparison of Means - Tukey HSD, FWER=0.05</caption>\n",
              "<tr>\n",
              "           <th>group1</th>                    <th>group2</th>           <th>meandiff</th>  <th>p-adj</th>   <th>lower</th>   <th>upper</th>  <th>reject</th>\n",
              "</tr>\n",
              "<tr>\n",
              "   <td>Temp_high & Method_fold</td>   <td>Temp_high & Method_stir</td>    <td>-5.5</td>   <td>0.0121</td> <td>-10.1071</td> <td>-0.8929</td>  <td>True</td> \n",
              "</tr>\n",
              "<tr>\n",
              "   <td>Temp_high & Method_fold</td>   <td>Temp_low & Method_fold</td>     <td>-6.0</td>   <td>0.0052</td> <td>-10.6071</td> <td>-1.3929</td>  <td>True</td> \n",
              "</tr>\n",
              "<tr>\n",
              "   <td>Temp_high & Method_fold</td>   <td>Temp_low & Method_stir</td>     <td>-4.0</td>   <td>0.1186</td>  <td>-8.6071</td> <td>0.6071</td>   <td>False</td>\n",
              "</tr>\n",
              "<tr>\n",
              "   <td>Temp_high & Method_fold</td>  <td>Temp_medium & Method_fold</td>   <td>-2.5</td>   <td>0.5645</td>  <td>-7.1071</td> <td>2.1071</td>   <td>False</td>\n",
              "</tr>\n",
              "<tr>\n",
              "   <td>Temp_high & Method_fold</td>  <td>Temp_medium & Method_stir</td>   <td>-5.5</td>   <td>0.0121</td> <td>-10.1071</td> <td>-0.8929</td>  <td>True</td> \n",
              "</tr>\n",
              "<tr>\n",
              "   <td>Temp_high & Method_stir</td>   <td>Temp_low & Method_fold</td>     <td>-0.5</td>     <td>0.9</td>   <td>-5.1071</td> <td>4.1071</td>   <td>False</td>\n",
              "</tr>\n",
              "<tr>\n",
              "   <td>Temp_high & Method_stir</td>   <td>Temp_low & Method_stir</td>      <td>1.5</td>     <td>0.9</td>   <td>-3.1071</td> <td>6.1071</td>   <td>False</td>\n",
              "</tr>\n",
              "<tr>\n",
              "   <td>Temp_high & Method_stir</td>  <td>Temp_medium & Method_fold</td>    <td>3.0</td>   <td>0.3775</td>  <td>-1.6071</td> <td>7.6071</td>   <td>False</td>\n",
              "</tr>\n",
              "<tr>\n",
              "   <td>Temp_high & Method_stir</td>  <td>Temp_medium & Method_stir</td>    <td>0.0</td>     <td>0.9</td>   <td>-4.6071</td> <td>4.6071</td>   <td>False</td>\n",
              "</tr>\n",
              "<tr>\n",
              "   <td>Temp_low & Method_fold</td>    <td>Temp_low & Method_stir</td>      <td>2.0</td>   <td>0.7462</td>  <td>-2.6071</td> <td>6.6071</td>   <td>False</td>\n",
              "</tr>\n",
              "<tr>\n",
              "   <td>Temp_low & Method_fold</td>   <td>Temp_medium & Method_fold</td>    <td>3.5</td>   <td>0.2213</td>  <td>-1.1071</td> <td>8.1071</td>   <td>False</td>\n",
              "</tr>\n",
              "<tr>\n",
              "   <td>Temp_low & Method_fold</td>   <td>Temp_medium & Method_stir</td>    <td>0.5</td>     <td>0.9</td>   <td>-4.1071</td> <td>5.1071</td>   <td>False</td>\n",
              "</tr>\n",
              "<tr>\n",
              "   <td>Temp_low & Method_stir</td>   <td>Temp_medium & Method_fold</td>    <td>1.5</td>     <td>0.9</td>   <td>-3.1071</td> <td>6.1071</td>   <td>False</td>\n",
              "</tr>\n",
              "<tr>\n",
              "   <td>Temp_low & Method_stir</td>   <td>Temp_medium & Method_stir</td>   <td>-1.5</td>     <td>0.9</td>   <td>-6.1071</td> <td>3.1071</td>   <td>False</td>\n",
              "</tr>\n",
              "<tr>\n",
              "  <td>Temp_medium & Method_fold</td> <td>Temp_medium & Method_stir</td>   <td>-3.0</td>   <td>0.3775</td>  <td>-7.6071</td> <td>1.6071</td>   <td>False</td>\n",
              "</tr>\n",
              "</table>"
            ],
            "text/plain": [
              "<class 'statsmodels.iolib.table.SimpleTable'>"
            ]
          },
          "metadata": {
            "tags": []
          },
          "execution_count": 122
        }
      ]
    },
    {
      "cell_type": "markdown",
      "metadata": {
        "id": "ie3EHzBGzgRt",
        "colab_type": "text"
      },
      "source": [
        "## Linear Regression"
      ]
    },
    {
      "cell_type": "markdown",
      "metadata": {
        "id": "xpLnkfBJ1jnB",
        "colab_type": "text"
      },
      "source": [
        "https://www.pythonfordatascience.org/linear-regression-python/"
      ]
    },
    {
      "cell_type": "markdown",
      "metadata": {
        "id": "vvDdpWSh0rdo",
        "colab_type": "text"
      },
      "source": [
        "Linear regression is used to test the relationship between independent variable(s) and a continous dependent variable. The overall regression model needs to be significant before one looks at the individual coeffiecients themselves. The model's signifance is measured by the F-statistic and a corresponding p-value. If the overall F-statistic is not significant, it indicates that the current model is no better than using the mean value of the dependent variable at predicting the outcome.\n",
        "\n",
        "Regression models are useful because it allows one to see which variable(s) are important while taking into account other variables that could influence the outcome as well. Furthermore, once a regression model is decided on, there is a good amount of additional post-estimation work that can be done to further explore the relationship(s) that may be present.\n",
        "\n",
        "Since linear regression is a parametric test it has the typical parametric testing assumptions. In addition to this, there is an additional concern of multicollinearity. While multicollinearity is not an assumption of the regression model, it's an aspect that needs to be checked. Multicollinearity occurs when an independent variable is able to be predicted, with good accuracy, by another independent variable in the same model. Multicollinearity is a concern because it weakens significance of independent variables. How to test for this will be demonstrated later on.\n",
        "\n",
        "For this demonstration, the conventional p-value of 0.05 will be used.\n",
        "\n",
        "Parametric test assumptions\n",
        "\n",
        "- Population distributions are normal\n",
        "- Samples have equal variances\n",
        "- Independence"
      ]
    },
    {
      "cell_type": "code",
      "metadata": {
        "id": "1Mur4HoEyoUB",
        "colab_type": "code",
        "colab": {
          "base_uri": "https://localhost:8080/",
          "height": 340
        },
        "outputId": "d161e03e-3581-49d1-935a-2de0c67bdbae"
      },
      "source": [
        "import pandas as pd\n",
        "import researchpy as rp\n",
        "import statsmodels.api as sm\n",
        "\n",
        "\n",
        "df = sm.datasets.webuse('auto')\n",
        "df.info()"
      ],
      "execution_count": 125,
      "outputs": [
        {
          "output_type": "stream",
          "text": [
            "<class 'pandas.core.frame.DataFrame'>\n",
            "Int64Index: 74 entries, 0 to 73\n",
            "Data columns (total 12 columns):\n",
            " #   Column        Non-Null Count  Dtype   \n",
            "---  ------        --------------  -----   \n",
            " 0   make          74 non-null     object  \n",
            " 1   price         74 non-null     int16   \n",
            " 2   mpg           74 non-null     int16   \n",
            " 3   rep78         69 non-null     float64 \n",
            " 4   headroom      74 non-null     float32 \n",
            " 5   trunk         74 non-null     int16   \n",
            " 6   weight        74 non-null     int16   \n",
            " 7   length        74 non-null     int16   \n",
            " 8   turn          74 non-null     int16   \n",
            " 9   displacement  74 non-null     int16   \n",
            " 10  gear_ratio    74 non-null     float32 \n",
            " 11  foreign       74 non-null     category\n",
            "dtypes: category(1), float32(2), float64(1), int16(7), object(1)\n",
            "memory usage: 3.5+ KB\n"
          ],
          "name": "stdout"
        }
      ]
    },
    {
      "cell_type": "code",
      "metadata": {
        "id": "B2vi2g8J0xha",
        "colab_type": "code",
        "colab": {
          "base_uri": "https://localhost:8080/",
          "height": 309
        },
        "outputId": "9ddfe0a3-f209-40a8-b2bd-4b55e557a176"
      },
      "source": [
        "df.head()"
      ],
      "execution_count": 126,
      "outputs": [
        {
          "output_type": "execute_result",
          "data": {
            "text/html": [
              "<div>\n",
              "<style scoped>\n",
              "    .dataframe tbody tr th:only-of-type {\n",
              "        vertical-align: middle;\n",
              "    }\n",
              "\n",
              "    .dataframe tbody tr th {\n",
              "        vertical-align: top;\n",
              "    }\n",
              "\n",
              "    .dataframe thead th {\n",
              "        text-align: right;\n",
              "    }\n",
              "</style>\n",
              "<table border=\"1\" class=\"dataframe\">\n",
              "  <thead>\n",
              "    <tr style=\"text-align: right;\">\n",
              "      <th></th>\n",
              "      <th>make</th>\n",
              "      <th>price</th>\n",
              "      <th>mpg</th>\n",
              "      <th>rep78</th>\n",
              "      <th>headroom</th>\n",
              "      <th>trunk</th>\n",
              "      <th>weight</th>\n",
              "      <th>length</th>\n",
              "      <th>turn</th>\n",
              "      <th>displacement</th>\n",
              "      <th>gear_ratio</th>\n",
              "      <th>foreign</th>\n",
              "    </tr>\n",
              "  </thead>\n",
              "  <tbody>\n",
              "    <tr>\n",
              "      <th>0</th>\n",
              "      <td>AMC Concord</td>\n",
              "      <td>4099</td>\n",
              "      <td>22</td>\n",
              "      <td>3.0</td>\n",
              "      <td>2.5</td>\n",
              "      <td>11</td>\n",
              "      <td>2930</td>\n",
              "      <td>186</td>\n",
              "      <td>40</td>\n",
              "      <td>121</td>\n",
              "      <td>3.58</td>\n",
              "      <td>Domestic</td>\n",
              "    </tr>\n",
              "    <tr>\n",
              "      <th>1</th>\n",
              "      <td>AMC Pacer</td>\n",
              "      <td>4749</td>\n",
              "      <td>17</td>\n",
              "      <td>3.0</td>\n",
              "      <td>3.0</td>\n",
              "      <td>11</td>\n",
              "      <td>3350</td>\n",
              "      <td>173</td>\n",
              "      <td>40</td>\n",
              "      <td>258</td>\n",
              "      <td>2.53</td>\n",
              "      <td>Domestic</td>\n",
              "    </tr>\n",
              "    <tr>\n",
              "      <th>2</th>\n",
              "      <td>AMC Spirit</td>\n",
              "      <td>3799</td>\n",
              "      <td>22</td>\n",
              "      <td>NaN</td>\n",
              "      <td>3.0</td>\n",
              "      <td>12</td>\n",
              "      <td>2640</td>\n",
              "      <td>168</td>\n",
              "      <td>35</td>\n",
              "      <td>121</td>\n",
              "      <td>3.08</td>\n",
              "      <td>Domestic</td>\n",
              "    </tr>\n",
              "    <tr>\n",
              "      <th>3</th>\n",
              "      <td>Buick Century</td>\n",
              "      <td>4816</td>\n",
              "      <td>20</td>\n",
              "      <td>3.0</td>\n",
              "      <td>4.5</td>\n",
              "      <td>16</td>\n",
              "      <td>3250</td>\n",
              "      <td>196</td>\n",
              "      <td>40</td>\n",
              "      <td>196</td>\n",
              "      <td>2.93</td>\n",
              "      <td>Domestic</td>\n",
              "    </tr>\n",
              "    <tr>\n",
              "      <th>4</th>\n",
              "      <td>Buick Electra</td>\n",
              "      <td>7827</td>\n",
              "      <td>15</td>\n",
              "      <td>4.0</td>\n",
              "      <td>4.0</td>\n",
              "      <td>20</td>\n",
              "      <td>4080</td>\n",
              "      <td>222</td>\n",
              "      <td>43</td>\n",
              "      <td>350</td>\n",
              "      <td>2.41</td>\n",
              "      <td>Domestic</td>\n",
              "    </tr>\n",
              "  </tbody>\n",
              "</table>\n",
              "</div>"
            ],
            "text/plain": [
              "            make  price  mpg  rep78  ...  turn  displacement  gear_ratio   foreign\n",
              "0    AMC Concord   4099   22    3.0  ...    40           121        3.58  Domestic\n",
              "1      AMC Pacer   4749   17    3.0  ...    40           258        2.53  Domestic\n",
              "2     AMC Spirit   3799   22    NaN  ...    35           121        3.08  Domestic\n",
              "3  Buick Century   4816   20    3.0  ...    40           196        2.93  Domestic\n",
              "4  Buick Electra   7827   15    4.0  ...    43           350        2.41  Domestic\n",
              "\n",
              "[5 rows x 12 columns]"
            ]
          },
          "metadata": {
            "tags": []
          },
          "execution_count": 126
        }
      ]
    },
    {
      "cell_type": "code",
      "metadata": {
        "id": "U_VM1DoX00FR",
        "colab_type": "code",
        "colab": {
          "base_uri": "https://localhost:8080/",
          "height": 145
        },
        "outputId": "f224edb5-7039-4498-aea3-fa46279314b4"
      },
      "source": [
        "rp.summary_cont(df[['weight', 'mpg']])"
      ],
      "execution_count": 127,
      "outputs": [
        {
          "output_type": "stream",
          "text": [
            "\n",
            "\n"
          ],
          "name": "stdout"
        },
        {
          "output_type": "execute_result",
          "data": {
            "text/html": [
              "<div>\n",
              "<style scoped>\n",
              "    .dataframe tbody tr th:only-of-type {\n",
              "        vertical-align: middle;\n",
              "    }\n",
              "\n",
              "    .dataframe tbody tr th {\n",
              "        vertical-align: top;\n",
              "    }\n",
              "\n",
              "    .dataframe thead th {\n",
              "        text-align: right;\n",
              "    }\n",
              "</style>\n",
              "<table border=\"1\" class=\"dataframe\">\n",
              "  <thead>\n",
              "    <tr style=\"text-align: right;\">\n",
              "      <th></th>\n",
              "      <th>Variable</th>\n",
              "      <th>N</th>\n",
              "      <th>Mean</th>\n",
              "      <th>SD</th>\n",
              "      <th>SE</th>\n",
              "      <th>95% Conf.</th>\n",
              "      <th>Interval</th>\n",
              "    </tr>\n",
              "  </thead>\n",
              "  <tbody>\n",
              "    <tr>\n",
              "      <th>0</th>\n",
              "      <td>weight</td>\n",
              "      <td>74.0</td>\n",
              "      <td>3019.459459</td>\n",
              "      <td>777.193567</td>\n",
              "      <td>90.346917</td>\n",
              "      <td>2839.398314</td>\n",
              "      <td>3199.520605</td>\n",
              "    </tr>\n",
              "    <tr>\n",
              "      <th>1</th>\n",
              "      <td>mpg</td>\n",
              "      <td>74.0</td>\n",
              "      <td>21.297297</td>\n",
              "      <td>5.785503</td>\n",
              "      <td>0.672551</td>\n",
              "      <td>19.956905</td>\n",
              "      <td>22.637690</td>\n",
              "    </tr>\n",
              "  </tbody>\n",
              "</table>\n",
              "</div>"
            ],
            "text/plain": [
              "  Variable     N         Mean          SD         SE    95% Conf.     Interval\n",
              "0   weight  74.0  3019.459459  777.193567  90.346917  2839.398314  3199.520605\n",
              "1      mpg  74.0    21.297297    5.785503   0.672551    19.956905    22.637690"
            ]
          },
          "metadata": {
            "tags": []
          },
          "execution_count": 127
        }
      ]
    },
    {
      "cell_type": "code",
      "metadata": {
        "id": "Rw8i9Bfi05ZS",
        "colab_type": "code",
        "colab": {
          "base_uri": "https://localhost:8080/",
          "height": 111
        },
        "outputId": "2a8246fd-3ffa-4c63-b0d0-369dfae9bc32"
      },
      "source": [
        "rp.summary_cat(df['foreign'])"
      ],
      "execution_count": 128,
      "outputs": [
        {
          "output_type": "execute_result",
          "data": {
            "text/html": [
              "<div>\n",
              "<style scoped>\n",
              "    .dataframe tbody tr th:only-of-type {\n",
              "        vertical-align: middle;\n",
              "    }\n",
              "\n",
              "    .dataframe tbody tr th {\n",
              "        vertical-align: top;\n",
              "    }\n",
              "\n",
              "    .dataframe thead th {\n",
              "        text-align: right;\n",
              "    }\n",
              "</style>\n",
              "<table border=\"1\" class=\"dataframe\">\n",
              "  <thead>\n",
              "    <tr style=\"text-align: right;\">\n",
              "      <th></th>\n",
              "      <th>Variable</th>\n",
              "      <th>Outcome</th>\n",
              "      <th>Count</th>\n",
              "      <th>Percent</th>\n",
              "    </tr>\n",
              "  </thead>\n",
              "  <tbody>\n",
              "    <tr>\n",
              "      <th>0</th>\n",
              "      <td>foreign</td>\n",
              "      <td>Domestic</td>\n",
              "      <td>52</td>\n",
              "      <td>70.27</td>\n",
              "    </tr>\n",
              "    <tr>\n",
              "      <th>1</th>\n",
              "      <td></td>\n",
              "      <td>Foreign</td>\n",
              "      <td>22</td>\n",
              "      <td>29.73</td>\n",
              "    </tr>\n",
              "  </tbody>\n",
              "</table>\n",
              "</div>"
            ],
            "text/plain": [
              "  Variable   Outcome  Count  Percent\n",
              "0  foreign  Domestic     52    70.27\n",
              "1            Foreign     22    29.73"
            ]
          },
          "metadata": {
            "tags": []
          },
          "execution_count": 128
        }
      ]
    },
    {
      "cell_type": "markdown",
      "metadata": {
        "id": "gv2xnS3k1KN6",
        "colab_type": "text"
      },
      "source": [
        "From the descriptive statistics it can be seen that the average weight is 3,019.46, we'll say the unit of measure is pounds (lbs.), and the average miles per galloon (mpg) is 21.30. The sample consists of approx. 40% more cases from foreign makers than domestic. Since foreign is a categorical variable, let's look at mpg by manufacturer."
      ]
    },
    {
      "cell_type": "code",
      "metadata": {
        "id": "wEV7pQXH07Z5",
        "colab_type": "code",
        "colab": {
          "base_uri": "https://localhost:8080/",
          "height": 176
        },
        "outputId": "4eee9178-8d4b-4192-d9fc-7fef60660499"
      },
      "source": [
        "rp.summary_cont(df.groupby('foreign')['mpg'])"
      ],
      "execution_count": 129,
      "outputs": [
        {
          "output_type": "stream",
          "text": [
            "\n",
            "\n"
          ],
          "name": "stdout"
        },
        {
          "output_type": "execute_result",
          "data": {
            "text/html": [
              "<div>\n",
              "<style scoped>\n",
              "    .dataframe tbody tr th:only-of-type {\n",
              "        vertical-align: middle;\n",
              "    }\n",
              "\n",
              "    .dataframe tbody tr th {\n",
              "        vertical-align: top;\n",
              "    }\n",
              "\n",
              "    .dataframe thead th {\n",
              "        text-align: right;\n",
              "    }\n",
              "</style>\n",
              "<table border=\"1\" class=\"dataframe\">\n",
              "  <thead>\n",
              "    <tr style=\"text-align: right;\">\n",
              "      <th></th>\n",
              "      <th>N</th>\n",
              "      <th>Mean</th>\n",
              "      <th>SD</th>\n",
              "      <th>SE</th>\n",
              "      <th>95% Conf.</th>\n",
              "      <th>Interval</th>\n",
              "    </tr>\n",
              "    <tr>\n",
              "      <th>foreign</th>\n",
              "      <th></th>\n",
              "      <th></th>\n",
              "      <th></th>\n",
              "      <th></th>\n",
              "      <th></th>\n",
              "      <th></th>\n",
              "    </tr>\n",
              "  </thead>\n",
              "  <tbody>\n",
              "    <tr>\n",
              "      <th>Domestic</th>\n",
              "      <td>52</td>\n",
              "      <td>19.826923</td>\n",
              "      <td>4.743297</td>\n",
              "      <td>0.657777</td>\n",
              "      <td>18.525102</td>\n",
              "      <td>21.128744</td>\n",
              "    </tr>\n",
              "    <tr>\n",
              "      <th>Foreign</th>\n",
              "      <td>22</td>\n",
              "      <td>24.772727</td>\n",
              "      <td>6.611187</td>\n",
              "      <td>1.409510</td>\n",
              "      <td>21.945076</td>\n",
              "      <td>27.600379</td>\n",
              "    </tr>\n",
              "  </tbody>\n",
              "</table>\n",
              "</div>"
            ],
            "text/plain": [
              "           N       Mean        SD        SE  95% Conf.   Interval\n",
              "foreign                                                          \n",
              "Domestic  52  19.826923  4.743297  0.657777  18.525102  21.128744\n",
              "Foreign   22  24.772727  6.611187  1.409510  21.945076  27.600379"
            ]
          },
          "metadata": {
            "tags": []
          },
          "execution_count": 129
        }
      ]
    },
    {
      "cell_type": "markdown",
      "metadata": {
        "id": "75uzLgcV1Lvy",
        "colab_type": "text"
      },
      "source": [
        "The amount of varability in mpg between the manufacturer types appears to be pretty equal. There is a way to formally test this, but right now this eye ball test will suffice. Now for the linear regression model."
      ]
    },
    {
      "cell_type": "markdown",
      "metadata": {
        "id": "BQPYS0ln1R9T",
        "colab_type": "text"
      },
      "source": [
        "### LINEAR REGRESSION USING STATSMODELS"
      ]
    },
    {
      "cell_type": "markdown",
      "metadata": {
        "id": "2Kb44v7W1WqG",
        "colab_type": "text"
      },
      "source": [
        "To tell the model that a variable is categorical, it needs to be wrapped in C(independent_variable). The pseudo code with a categorical independent variable looks like:"
      ]
    },
    {
      "cell_type": "code",
      "metadata": {
        "id": "aVEoZEbz09sn",
        "colab_type": "code",
        "colab": {
          "base_uri": "https://localhost:8080/",
          "height": 499
        },
        "outputId": "5a9f25f4-1757-4e59-82de-cf1308350cbc"
      },
      "source": [
        "import statsmodels.formula.api as smf\n",
        "model = smf.ols(\"mpg ~ weight + C(foreign)\", df).fit()\n",
        "model.summary()"
      ],
      "execution_count": 130,
      "outputs": [
        {
          "output_type": "execute_result",
          "data": {
            "text/html": [
              "<table class=\"simpletable\">\n",
              "<caption>OLS Regression Results</caption>\n",
              "<tr>\n",
              "  <th>Dep. Variable:</th>           <td>mpg</td>       <th>  R-squared:         </th> <td>   0.663</td>\n",
              "</tr>\n",
              "<tr>\n",
              "  <th>Model:</th>                   <td>OLS</td>       <th>  Adj. R-squared:    </th> <td>   0.653</td>\n",
              "</tr>\n",
              "<tr>\n",
              "  <th>Method:</th>             <td>Least Squares</td>  <th>  F-statistic:       </th> <td>   69.75</td>\n",
              "</tr>\n",
              "<tr>\n",
              "  <th>Date:</th>             <td>Tue, 30 Jun 2020</td> <th>  Prob (F-statistic):</th> <td>1.76e-17</td>\n",
              "</tr>\n",
              "<tr>\n",
              "  <th>Time:</th>                 <td>06:07:37</td>     <th>  Log-Likelihood:    </th> <td> -194.18</td>\n",
              "</tr>\n",
              "<tr>\n",
              "  <th>No. Observations:</th>      <td>    74</td>      <th>  AIC:               </th> <td>   394.4</td>\n",
              "</tr>\n",
              "<tr>\n",
              "  <th>Df Residuals:</th>          <td>    71</td>      <th>  BIC:               </th> <td>   401.3</td>\n",
              "</tr>\n",
              "<tr>\n",
              "  <th>Df Model:</th>              <td>     2</td>      <th>                     </th>     <td> </td>   \n",
              "</tr>\n",
              "<tr>\n",
              "  <th>Covariance Type:</th>      <td>nonrobust</td>    <th>                     </th>     <td> </td>   \n",
              "</tr>\n",
              "</table>\n",
              "<table class=\"simpletable\">\n",
              "<tr>\n",
              "            <td></td>               <th>coef</th>     <th>std err</th>      <th>t</th>      <th>P>|t|</th>  <th>[0.025</th>    <th>0.975]</th>  \n",
              "</tr>\n",
              "<tr>\n",
              "  <th>Intercept</th>             <td>   41.6797</td> <td>    2.166</td> <td>   19.247</td> <td> 0.000</td> <td>   37.362</td> <td>   45.998</td>\n",
              "</tr>\n",
              "<tr>\n",
              "  <th>C(foreign)[T.Foreign]</th> <td>   -1.6500</td> <td>    1.076</td> <td>   -1.533</td> <td> 0.130</td> <td>   -3.796</td> <td>    0.495</td>\n",
              "</tr>\n",
              "<tr>\n",
              "  <th>weight</th>                <td>   -0.0066</td> <td>    0.001</td> <td>  -10.340</td> <td> 0.000</td> <td>   -0.008</td> <td>   -0.005</td>\n",
              "</tr>\n",
              "</table>\n",
              "<table class=\"simpletable\">\n",
              "<tr>\n",
              "  <th>Omnibus:</th>       <td>37.830</td> <th>  Durbin-Watson:     </th> <td>   2.421</td>\n",
              "</tr>\n",
              "<tr>\n",
              "  <th>Prob(Omnibus):</th> <td> 0.000</td> <th>  Jarque-Bera (JB):  </th> <td>  92.107</td>\n",
              "</tr>\n",
              "<tr>\n",
              "  <th>Skew:</th>          <td> 1.727</td> <th>  Prob(JB):          </th> <td>9.98e-21</td>\n",
              "</tr>\n",
              "<tr>\n",
              "  <th>Kurtosis:</th>      <td> 7.236</td> <th>  Cond. No.          </th> <td>1.81e+04</td>\n",
              "</tr>\n",
              "</table><br/><br/>Warnings:<br/>[1] Standard Errors assume that the covariance matrix of the errors is correctly specified.<br/>[2] The condition number is large, 1.81e+04. This might indicate that there are<br/>strong multicollinearity or other numerical problems."
            ],
            "text/plain": [
              "<class 'statsmodels.iolib.summary.Summary'>\n",
              "\"\"\"\n",
              "                            OLS Regression Results                            \n",
              "==============================================================================\n",
              "Dep. Variable:                    mpg   R-squared:                       0.663\n",
              "Model:                            OLS   Adj. R-squared:                  0.653\n",
              "Method:                 Least Squares   F-statistic:                     69.75\n",
              "Date:                Tue, 30 Jun 2020   Prob (F-statistic):           1.76e-17\n",
              "Time:                        06:07:37   Log-Likelihood:                -194.18\n",
              "No. Observations:                  74   AIC:                             394.4\n",
              "Df Residuals:                      71   BIC:                             401.3\n",
              "Df Model:                           2                                         \n",
              "Covariance Type:            nonrobust                                         \n",
              "=========================================================================================\n",
              "                            coef    std err          t      P>|t|      [0.025      0.975]\n",
              "-----------------------------------------------------------------------------------------\n",
              "Intercept                41.6797      2.166     19.247      0.000      37.362      45.998\n",
              "C(foreign)[T.Foreign]    -1.6500      1.076     -1.533      0.130      -3.796       0.495\n",
              "weight                   -0.0066      0.001    -10.340      0.000      -0.008      -0.005\n",
              "==============================================================================\n",
              "Omnibus:                       37.830   Durbin-Watson:                   2.421\n",
              "Prob(Omnibus):                  0.000   Jarque-Bera (JB):               92.107\n",
              "Skew:                           1.727   Prob(JB):                     9.98e-21\n",
              "Kurtosis:                       7.236   Cond. No.                     1.81e+04\n",
              "==============================================================================\n",
              "\n",
              "Warnings:\n",
              "[1] Standard Errors assume that the covariance matrix of the errors is correctly specified.\n",
              "[2] The condition number is large, 1.81e+04. This might indicate that there are\n",
              "strong multicollinearity or other numerical problems.\n",
              "\"\"\""
            ]
          },
          "metadata": {
            "tags": []
          },
          "execution_count": 130
        }
      ]
    },
    {
      "cell_type": "markdown",
      "metadata": {
        "id": "Q8NLus_31wrq",
        "colab_type": "text"
      },
      "source": [
        "StatsModels provides some useful model diagnostics with the summary output, let's go over them since they will be used to evaluate the model.\n",
        "\n",
        "- Omnibus: Tests for normality of residuals\n",
        "- Prob(Omnibus): P-value associated with omnibus test\n",
        "- Skew: Value indicates the slant, for ease of explanation, of the distribution\n",
        "- Kurtosis: Value indicates the sharpness of the peak of the distribution\n",
        "- Durbin-Watson: Tests for autocorrelation in the residuals. Unfortunately a table for critical values is not provided, but there are some available through a Google search\n",
        "- Jarque-bera (JB): Another test for normality of residuals\n",
        "- Prob(JB): P-value associated with JB test statistic\n",
        "- Cond. No.: A test for multicollinearity and estimation instability\n",
        "\n",
        "Using this information, one can evaluate the regression model. The current overal model is significant which indicates it's better than using the mean to predict the mpg, no observations were dropped, but StatsModels diagnostic information is indicating there may be a concern of multicollinearity, or other numerical problems such as estimation concerns, based on the condition number."
      ]
    },
    {
      "cell_type": "markdown",
      "metadata": {
        "id": "PB62_gkh2Qb2",
        "colab_type": "text"
      },
      "source": [
        "# TO BE continued..."
      ]
    },
    {
      "cell_type": "code",
      "metadata": {
        "id": "TITLz4VZ1oZU",
        "colab_type": "code",
        "colab": {}
      },
      "source": [
        ""
      ],
      "execution_count": null,
      "outputs": []
    }
  ]
}