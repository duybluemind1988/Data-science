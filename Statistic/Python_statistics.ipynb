{
  "nbformat": 4,
  "nbformat_minor": 0,
  "metadata": {
    "colab": {
      "name": "Python_statistics.ipynb",
      "provenance": [],
      "collapsed_sections": [],
      "authorship_tag": "ABX9TyMycl8n3veUyamLgDHbLYre",
      "include_colab_link": true
    },
    "kernelspec": {
      "name": "python3",
      "display_name": "Python 3"
    }
  },
  "cells": [
    {
      "cell_type": "markdown",
      "metadata": {
        "id": "view-in-github",
        "colab_type": "text"
      },
      "source": [
        "<a href=\"https://colab.research.google.com/github/duybluemind1988/Data-science/blob/master/Statistic/Python_statistics.ipynb\" target=\"_parent\"><img src=\"https://colab.research.google.com/assets/colab-badge.svg\" alt=\"Open In Colab\"/></a>"
      ]
    },
    {
      "cell_type": "markdown",
      "metadata": {
        "id": "PHZrgQCkk92P",
        "colab_type": "text"
      },
      "source": [
        "https://reneshbedre.github.io/blog/anova.html"
      ]
    },
    {
      "cell_type": "markdown",
      "metadata": {
        "id": "vKxvl-MWlWFo",
        "colab_type": "text"
      },
      "source": [
        "# One-way (one factor) ANOVA with Python"
      ]
    },
    {
      "cell_type": "markdown",
      "metadata": {
        "id": "1T5a0TtglDnT",
        "colab_type": "text"
      },
      "source": [
        "ANOVA Hypotheses\n",
        "\n",
        "- Null hypotheses: Groups means are equal (no variation in means of groups)\n",
        "- Alternative hypotheses: At least, one group mean is different from other groups\n",
        "\n",
        "ANOVA Assumptions\n",
        "\n",
        "- Residuals (experimental error) are normally distributed (Shapiro-Wilks Test)\n",
        "- Homogeneity of variances (variances are equal between treatment groups) (Levene or Bartlett Test)\n",
        "- Observations are sampled independently from each other\n",
        "\n",
        "How ANOVA works?\n",
        "\n",
        "- Check sample sizes: equal number of observation in each group\n",
        "- Calculate Mean Square for each group (MS) (SS of group/level-1); level-1 is a degree of freedom (df) for a group\n",
        "- Calculate Mean Square error (MSE) (SS error/df of residuals)\n",
        "- Calculate F-value (MS of group/MSE)"
      ]
    },
    {
      "cell_type": "code",
      "metadata": {
        "id": "RWNSN4-Qk7Mf",
        "colab_type": "code",
        "colab": {
          "base_uri": "https://localhost:8080/",
          "height": 204
        },
        "outputId": "4d4cd0d0-ece4-40fa-df38-e8f5a6429bc0"
      },
      "source": [
        "# I am using Python 3\n",
        "# load packages\n",
        "import pandas as pd\n",
        "# load data file\n",
        "d = pd.read_csv(\"https://reneshbedre.github.io/assets/posts/anova/onewayanova.txt\", sep=\"\\t\")\n",
        "d"
      ],
      "execution_count": null,
      "outputs": [
        {
          "output_type": "execute_result",
          "data": {
            "text/html": [
              "<div>\n",
              "<style scoped>\n",
              "    .dataframe tbody tr th:only-of-type {\n",
              "        vertical-align: middle;\n",
              "    }\n",
              "\n",
              "    .dataframe tbody tr th {\n",
              "        vertical-align: top;\n",
              "    }\n",
              "\n",
              "    .dataframe thead th {\n",
              "        text-align: right;\n",
              "    }\n",
              "</style>\n",
              "<table border=\"1\" class=\"dataframe\">\n",
              "  <thead>\n",
              "    <tr style=\"text-align: right;\">\n",
              "      <th></th>\n",
              "      <th>A</th>\n",
              "      <th>B</th>\n",
              "      <th>C</th>\n",
              "      <th>D</th>\n",
              "    </tr>\n",
              "  </thead>\n",
              "  <tbody>\n",
              "    <tr>\n",
              "      <th>0</th>\n",
              "      <td>25</td>\n",
              "      <td>45</td>\n",
              "      <td>30</td>\n",
              "      <td>54</td>\n",
              "    </tr>\n",
              "    <tr>\n",
              "      <th>1</th>\n",
              "      <td>30</td>\n",
              "      <td>55</td>\n",
              "      <td>29</td>\n",
              "      <td>60</td>\n",
              "    </tr>\n",
              "    <tr>\n",
              "      <th>2</th>\n",
              "      <td>28</td>\n",
              "      <td>29</td>\n",
              "      <td>33</td>\n",
              "      <td>51</td>\n",
              "    </tr>\n",
              "    <tr>\n",
              "      <th>3</th>\n",
              "      <td>36</td>\n",
              "      <td>56</td>\n",
              "      <td>37</td>\n",
              "      <td>62</td>\n",
              "    </tr>\n",
              "    <tr>\n",
              "      <th>4</th>\n",
              "      <td>29</td>\n",
              "      <td>40</td>\n",
              "      <td>27</td>\n",
              "      <td>73</td>\n",
              "    </tr>\n",
              "  </tbody>\n",
              "</table>\n",
              "</div>"
            ],
            "text/plain": [
              "    A   B   C   D\n",
              "0  25  45  30  54\n",
              "1  30  55  29  60\n",
              "2  28  29  33  51\n",
              "3  36  56  37  62\n",
              "4  29  40  27  73"
            ]
          },
          "metadata": {
            "tags": []
          },
          "execution_count": 37
        }
      ]
    },
    {
      "cell_type": "code",
      "metadata": {
        "id": "geQBDX2Fk-Va",
        "colab_type": "code",
        "colab": {
          "base_uri": "https://localhost:8080/",
          "height": 282
        },
        "outputId": "34fafea7-a510-4fa1-ed8c-05296cb4b8a1"
      },
      "source": [
        "# generate a boxplot to see the data distribution by treatments. Using boxplot, we can easily detect the differences \n",
        "# between different treatments\n",
        "d.boxplot(column=['A', 'B', 'C', 'D'], grid=False)"
      ],
      "execution_count": null,
      "outputs": [
        {
          "output_type": "execute_result",
          "data": {
            "text/plain": [
              "<matplotlib.axes._subplots.AxesSubplot at 0x7fbc5e4d9438>"
            ]
          },
          "metadata": {
            "tags": []
          },
          "execution_count": 38
        },
        {
          "output_type": "display_data",
          "data": {
            "image/png": "[encoded data removed]",
            "text/plain": [
              "<Figure size 432x288 with 1 Axes>"
            ]
          },
          "metadata": {
            "tags": [],
            "needs_background": "light"
          }
        }
      ]
    },
    {
      "cell_type": "code",
      "metadata": {
        "id": "oWaJVyRpk-D-",
        "colab_type": "code",
        "colab": {
          "base_uri": "https://localhost:8080/",
          "height": 34
        },
        "outputId": "495f2918-aabc-469d-87b1-250b21cd662e"
      },
      "source": [
        "# load packages\n",
        "import scipy.stats as stats\n",
        "# stats f_oneway functions takes the groups as input and returns F and P-value\n",
        "fvalue, pvalue = stats.f_oneway(d['A'], d['B'], d['C'], d['D'])\n",
        "print(fvalue, pvalue)"
      ],
      "execution_count": null,
      "outputs": [
        {
          "output_type": "stream",
          "text": [
            "17.492810457516338 2.639241146210922e-05\n"
          ],
          "name": "stdout"
        }
      ]
    },
    {
      "cell_type": "code",
      "metadata": {
        "id": "AjvrxiPVmtHu",
        "colab_type": "code",
        "colab": {
          "base_uri": "https://localhost:8080/",
          "height": 669
        },
        "outputId": "18684233-f8a0-4778-89e4-1e4eec818fc3"
      },
      "source": [
        "# get ANOVA table as R like output\n",
        "import statsmodels.api as sm\n",
        "from statsmodels.formula.api import ols\n",
        "# reshape the d dataframe suitable for statsmodels package \n",
        "d_melt = pd.melt(d.reset_index(), id_vars=['index'], value_vars=['A', 'B', 'C', 'D'])\n",
        "# replace column names\n",
        "d_melt.columns = ['index', 'treatments', 'value']\n",
        "d_melt"
      ],
      "execution_count": null,
      "outputs": [
        {
          "output_type": "execute_result",
          "data": {
            "text/html": [
              "<div>\n",
              "<style scoped>\n",
              "    .dataframe tbody tr th:only-of-type {\n",
              "        vertical-align: middle;\n",
              "    }\n",
              "\n",
              "    .dataframe tbody tr th {\n",
              "        vertical-align: top;\n",
              "    }\n",
              "\n",
              "    .dataframe thead th {\n",
              "        text-align: right;\n",
              "    }\n",
              "</style>\n",
              "<table border=\"1\" class=\"dataframe\">\n",
              "  <thead>\n",
              "    <tr style=\"text-align: right;\">\n",
              "      <th></th>\n",
              "      <th>index</th>\n",
              "      <th>treatments</th>\n",
              "      <th>value</th>\n",
              "    </tr>\n",
              "  </thead>\n",
              "  <tbody>\n",
              "    <tr>\n",
              "      <th>0</th>\n",
              "      <td>0</td>\n",
              "      <td>A</td>\n",
              "      <td>25</td>\n",
              "    </tr>\n",
              "    <tr>\n",
              "      <th>1</th>\n",
              "      <td>1</td>\n",
              "      <td>A</td>\n",
              "      <td>30</td>\n",
              "    </tr>\n",
              "    <tr>\n",
              "      <th>2</th>\n",
              "      <td>2</td>\n",
              "      <td>A</td>\n",
              "      <td>28</td>\n",
              "    </tr>\n",
              "    <tr>\n",
              "      <th>3</th>\n",
              "      <td>3</td>\n",
              "      <td>A</td>\n",
              "      <td>36</td>\n",
              "    </tr>\n",
              "    <tr>\n",
              "      <th>4</th>\n",
              "      <td>4</td>\n",
              "      <td>A</td>\n",
              "      <td>29</td>\n",
              "    </tr>\n",
              "    <tr>\n",
              "      <th>5</th>\n",
              "      <td>0</td>\n",
              "      <td>B</td>\n",
              "      <td>45</td>\n",
              "    </tr>\n",
              "    <tr>\n",
              "      <th>6</th>\n",
              "      <td>1</td>\n",
              "      <td>B</td>\n",
              "      <td>55</td>\n",
              "    </tr>\n",
              "    <tr>\n",
              "      <th>7</th>\n",
              "      <td>2</td>\n",
              "      <td>B</td>\n",
              "      <td>29</td>\n",
              "    </tr>\n",
              "    <tr>\n",
              "      <th>8</th>\n",
              "      <td>3</td>\n",
              "      <td>B</td>\n",
              "      <td>56</td>\n",
              "    </tr>\n",
              "    <tr>\n",
              "      <th>9</th>\n",
              "      <td>4</td>\n",
              "      <td>B</td>\n",
              "      <td>40</td>\n",
              "    </tr>\n",
              "    <tr>\n",
              "      <th>10</th>\n",
              "      <td>0</td>\n",
              "      <td>C</td>\n",
              "      <td>30</td>\n",
              "    </tr>\n",
              "    <tr>\n",
              "      <th>11</th>\n",
              "      <td>1</td>\n",
              "      <td>C</td>\n",
              "      <td>29</td>\n",
              "    </tr>\n",
              "    <tr>\n",
              "      <th>12</th>\n",
              "      <td>2</td>\n",
              "      <td>C</td>\n",
              "      <td>33</td>\n",
              "    </tr>\n",
              "    <tr>\n",
              "      <th>13</th>\n",
              "      <td>3</td>\n",
              "      <td>C</td>\n",
              "      <td>37</td>\n",
              "    </tr>\n",
              "    <tr>\n",
              "      <th>14</th>\n",
              "      <td>4</td>\n",
              "      <td>C</td>\n",
              "      <td>27</td>\n",
              "    </tr>\n",
              "    <tr>\n",
              "      <th>15</th>\n",
              "      <td>0</td>\n",
              "      <td>D</td>\n",
              "      <td>54</td>\n",
              "    </tr>\n",
              "    <tr>\n",
              "      <th>16</th>\n",
              "      <td>1</td>\n",
              "      <td>D</td>\n",
              "      <td>60</td>\n",
              "    </tr>\n",
              "    <tr>\n",
              "      <th>17</th>\n",
              "      <td>2</td>\n",
              "      <td>D</td>\n",
              "      <td>51</td>\n",
              "    </tr>\n",
              "    <tr>\n",
              "      <th>18</th>\n",
              "      <td>3</td>\n",
              "      <td>D</td>\n",
              "      <td>62</td>\n",
              "    </tr>\n",
              "    <tr>\n",
              "      <th>19</th>\n",
              "      <td>4</td>\n",
              "      <td>D</td>\n",
              "      <td>73</td>\n",
              "    </tr>\n",
              "  </tbody>\n",
              "</table>\n",
              "</div>"
            ],
            "text/plain": [
              "    index treatments  value\n",
              "0       0          A     25\n",
              "1       1          A     30\n",
              "2       2          A     28\n",
              "3       3          A     36\n",
              "4       4          A     29\n",
              "5       0          B     45\n",
              "6       1          B     55\n",
              "7       2          B     29\n",
              "8       3          B     56\n",
              "9       4          B     40\n",
              "10      0          C     30\n",
              "11      1          C     29\n",
              "12      2          C     33\n",
              "13      3          C     37\n",
              "14      4          C     27\n",
              "15      0          D     54\n",
              "16      1          D     60\n",
              "17      2          D     51\n",
              "18      3          D     62\n",
              "19      4          D     73"
            ]
          },
          "metadata": {
            "tags": []
          },
          "execution_count": 40
        }
      ]
    },
    {
      "cell_type": "code",
      "metadata": {
        "id": "EZ1bLp7mnFHg",
        "colab_type": "code",
        "colab": {
          "base_uri": "https://localhost:8080/",
          "height": 111
        },
        "outputId": "f7804c38-4d9b-4fa2-d9dd-aa14cc568b81"
      },
      "source": [
        "# Ordinary Least Squares (OLS) model\n",
        "model = ols('value ~ C(treatments)', data=d_melt).fit()\n",
        "anova_table = sm.stats.anova_lm(model, typ=2)\n",
        "anova_table"
      ],
      "execution_count": null,
      "outputs": [
        {
          "output_type": "execute_result",
          "data": {
            "text/html": [
              "<div>\n",
              "<style scoped>\n",
              "    .dataframe tbody tr th:only-of-type {\n",
              "        vertical-align: middle;\n",
              "    }\n",
              "\n",
              "    .dataframe tbody tr th {\n",
              "        vertical-align: top;\n",
              "    }\n",
              "\n",
              "    .dataframe thead th {\n",
              "        text-align: right;\n",
              "    }\n",
              "</style>\n",
              "<table border=\"1\" class=\"dataframe\">\n",
              "  <thead>\n",
              "    <tr style=\"text-align: right;\">\n",
              "      <th></th>\n",
              "      <th>sum_sq</th>\n",
              "      <th>df</th>\n",
              "      <th>F</th>\n",
              "      <th>PR(&gt;F)</th>\n",
              "    </tr>\n",
              "  </thead>\n",
              "  <tbody>\n",
              "    <tr>\n",
              "      <th>C(treatments)</th>\n",
              "      <td>3010.95</td>\n",
              "      <td>3.0</td>\n",
              "      <td>17.49281</td>\n",
              "      <td>0.000026</td>\n",
              "    </tr>\n",
              "    <tr>\n",
              "      <th>Residual</th>\n",
              "      <td>918.00</td>\n",
              "      <td>16.0</td>\n",
              "      <td>NaN</td>\n",
              "      <td>NaN</td>\n",
              "    </tr>\n",
              "  </tbody>\n",
              "</table>\n",
              "</div>"
            ],
            "text/plain": [
              "                sum_sq    df         F    PR(>F)\n",
              "C(treatments)  3010.95   3.0  17.49281  0.000026\n",
              "Residual        918.00  16.0       NaN       NaN"
            ]
          },
          "metadata": {
            "tags": []
          },
          "execution_count": 41
        }
      ]
    },
    {
      "cell_type": "code",
      "metadata": {
        "id": "nfMOvDWRmzMR",
        "colab_type": "code",
        "colab": {}
      },
      "source": [
        "# note: if the data is balanced (equal sample size for each group), Type 1, 2, and 3 sums of squares\n",
        "# (typ parameter) will produce similar results."
      ],
      "execution_count": null,
      "outputs": []
    },
    {
      "cell_type": "markdown",
      "metadata": {
        "id": "mX-OQ5BJm_SQ",
        "colab_type": "text"
      },
      "source": [
        "Interpretation: The P-value obtained from ANOVA analysis is significant (P<0.05), and therefore, we conclude that there are significant differences among treatments."
      ]
    },
    {
      "cell_type": "markdown",
      "metadata": {
        "id": "MJy9JpTHnPY6",
        "colab_type": "text"
      },
      "source": [
        "From ANOVA analysis, we know that treatment differences are statistically significant, but ANOVA does not tell which treatments are significantly different from each other. To know the pairs of significant different treatments, we will perform multiple pairwise comparison (Post-hoc comparison) analysis using Tukey HSD test."
      ]
    },
    {
      "cell_type": "markdown",
      "metadata": {
        "id": "Mc_8w96VsmVY",
        "colab_type": "text"
      },
      "source": [
        "## Test ANOVA assumptions"
      ]
    },
    {
      "cell_type": "markdown",
      "metadata": {
        "id": "9xOrGAJlt0Fq",
        "colab_type": "text"
      },
      "source": [
        "ANOVA Assumptions\n",
        "\n",
        "- Residuals (experimental error) are normally distributed (Shapiro-Wilks Test)\n",
        "- Homogeneity of variances (variances are equal between treatment groups) (Levene or Bartlett Test)\n",
        "- Observations are sampled independently from each other"
      ]
    },
    {
      "cell_type": "markdown",
      "metadata": {
        "id": "XsoqNo2zsyC6",
        "colab_type": "text"
      },
      "source": [
        "The Shapiro-Wilk test can be used to check the normal distribution of residuals . Null hypothesis: data is drawn from normal distribution."
      ]
    },
    {
      "cell_type": "code",
      "metadata": {
        "id": "0-t7lm_iuCG8",
        "colab_type": "code",
        "colab": {
          "base_uri": "https://localhost:8080/",
          "height": 374
        },
        "outputId": "91f9a16e-3e4d-41b5-ab29-3e7063be7618"
      },
      "source": [
        "model.resid"
      ],
      "execution_count": null,
      "outputs": [
        {
          "output_type": "execute_result",
          "data": {
            "text/plain": [
              "0    -4.600000e+00\n",
              "1     4.000000e-01\n",
              "2    -1.600000e+00\n",
              "3     6.400000e+00\n",
              "4    -6.000000e-01\n",
              "5     0.000000e+00\n",
              "6     1.000000e+01\n",
              "7    -1.600000e+01\n",
              "8     1.100000e+01\n",
              "9    -5.000000e+00\n",
              "10   -1.200000e+00\n",
              "11   -2.200000e+00\n",
              "12    1.800000e+00\n",
              "13    5.800000e+00\n",
              "14   -4.200000e+00\n",
              "15   -6.000000e+00\n",
              "16    7.105427e-15\n",
              "17   -9.000000e+00\n",
              "18    2.000000e+00\n",
              "19    1.300000e+01\n",
              "dtype: float64"
            ]
          },
          "metadata": {
            "tags": []
          },
          "execution_count": 28
        }
      ]
    },
    {
      "cell_type": "code",
      "metadata": {
        "id": "Mbm-XvEqsimF",
        "colab_type": "code",
        "colab": {
          "base_uri": "https://localhost:8080/",
          "height": 34
        },
        "outputId": "51e084ab-ff4f-4556-84f3-9672e10dfae0"
      },
      "source": [
        "# load packages\n",
        "import scipy.stats as stats\n",
        "w, pvalue = stats.shapiro(model.resid)\n",
        "print(w, pvalue)"
      ],
      "execution_count": null,
      "outputs": [
        {
          "output_type": "stream",
          "text": [
            "0.9685019850730896 0.7229772806167603\n"
          ],
          "name": "stdout"
        }
      ]
    },
    {
      "cell_type": "markdown",
      "metadata": {
        "id": "9riYqC7gskcd",
        "colab_type": "text"
      },
      "source": [
        "As the P-value is non significant, we fail to reject null hypothesis and conclude that data is drawn from normal distribution."
      ]
    },
    {
      "cell_type": "markdown",
      "metadata": {
        "id": "wULk8-y1s43n",
        "colab_type": "text"
      },
      "source": [
        "As the data is drawn from normal distribution, use Bartlett’s test to check the Homogeneity of variances. Null hypothesis: samples from populations have equal variances."
      ]
    },
    {
      "cell_type": "code",
      "metadata": {
        "id": "8vBEHzSbs5lQ",
        "colab_type": "code",
        "colab": {
          "base_uri": "https://localhost:8080/",
          "height": 34
        },
        "outputId": "7329c0f7-4864-449e-c549-9ec982c3d06b"
      },
      "source": [
        "# load packages\n",
        "import scipy.stats as stats\n",
        "w, pvalue = stats.bartlett(d['A'], d['B'], d['C'], d['D'])\n",
        "print(w, pvalue)"
      ],
      "execution_count": null,
      "outputs": [
        {
          "output_type": "stream",
          "text": [
            "5.687843565012841 0.1278253399753447\n"
          ],
          "name": "stdout"
        }
      ]
    },
    {
      "cell_type": "markdown",
      "metadata": {
        "id": "FCn7oFA5s-G-",
        "colab_type": "text"
      },
      "source": [
        "As the P-value (0.12) is non significant, we fail to reject null hypothesis and conclude that treatments have equal variances."
      ]
    },
    {
      "cell_type": "markdown",
      "metadata": {
        "id": "UEDNtZE5tK9V",
        "colab_type": "text"
      },
      "source": [
        "Levene test can be used to check the Homogeneity of variances when the data is not drawn from normal distribution."
      ]
    },
    {
      "cell_type": "code",
      "metadata": {
        "id": "GPFQSCCgtUJh",
        "colab_type": "code",
        "colab": {
          "base_uri": "https://localhost:8080/",
          "height": 34
        },
        "outputId": "d295d0ea-dd7e-445a-f2c6-93f24684aa8a"
      },
      "source": [
        "from scipy.stats import levene\n",
        "stat, pvalue = levene(d['A'], d['B'], d['C'], d['D'])\n",
        "print(stat, pvalue)"
      ],
      "execution_count": null,
      "outputs": [
        {
          "output_type": "stream",
          "text": [
            "1.9219593192195938 0.16673281219949276\n"
          ],
          "name": "stdout"
        }
      ]
    },
    {
      "cell_type": "markdown",
      "metadata": {
        "id": "1FoWy-WOnQwg",
        "colab_type": "text"
      },
      "source": [
        "## Tukey HSD test"
      ]
    },
    {
      "cell_type": "code",
      "metadata": {
        "id": "Cdl_UGAWnVcE",
        "colab_type": "code",
        "colab": {}
      },
      "source": [
        "#!pip install pingouin"
      ],
      "execution_count": null,
      "outputs": []
    },
    {
      "cell_type": "code",
      "metadata": {
        "id": "1Rr7QWiqm7g6",
        "colab_type": "code",
        "colab": {
          "base_uri": "https://localhost:8080/",
          "height": 235
        },
        "outputId": "7cc553cc-fc11-42a7-b245-9c8f5631d8d4"
      },
      "source": [
        "# load packages\n",
        "from pingouin import pairwise_tukey\n",
        "# perform multiple pairwise comparison (Tukey HSD)\n",
        "# for unbalanced (unequal sample size) data, pairwise_tukey uses Tukey-Kramer test\n",
        "m_comp = pairwise_tukey(data=d_melt, dv='value', between='treatments').round(3)\n",
        "m_comp"
      ],
      "execution_count": null,
      "outputs": [
        {
          "output_type": "execute_result",
          "data": {
            "text/html": [
              "<div>\n",
              "<style scoped>\n",
              "    .dataframe tbody tr th:only-of-type {\n",
              "        vertical-align: middle;\n",
              "    }\n",
              "\n",
              "    .dataframe tbody tr th {\n",
              "        vertical-align: top;\n",
              "    }\n",
              "\n",
              "    .dataframe thead th {\n",
              "        text-align: right;\n",
              "    }\n",
              "</style>\n",
              "<table border=\"1\" class=\"dataframe\">\n",
              "  <thead>\n",
              "    <tr style=\"text-align: right;\">\n",
              "      <th></th>\n",
              "      <th>A</th>\n",
              "      <th>B</th>\n",
              "      <th>mean(A)</th>\n",
              "      <th>mean(B)</th>\n",
              "      <th>diff</th>\n",
              "      <th>se</th>\n",
              "      <th>T</th>\n",
              "      <th>p-tukey</th>\n",
              "      <th>hedges</th>\n",
              "    </tr>\n",
              "  </thead>\n",
              "  <tbody>\n",
              "    <tr>\n",
              "      <th>0</th>\n",
              "      <td>A</td>\n",
              "      <td>B</td>\n",
              "      <td>29.6</td>\n",
              "      <td>45.0</td>\n",
              "      <td>-15.4</td>\n",
              "      <td>4.790616</td>\n",
              "      <td>-3.214618</td>\n",
              "      <td>0.010718</td>\n",
              "      <td>-1.836351</td>\n",
              "    </tr>\n",
              "    <tr>\n",
              "      <th>1</th>\n",
              "      <td>A</td>\n",
              "      <td>C</td>\n",
              "      <td>29.6</td>\n",
              "      <td>31.2</td>\n",
              "      <td>-1.6</td>\n",
              "      <td>4.790616</td>\n",
              "      <td>-0.333986</td>\n",
              "      <td>0.900000</td>\n",
              "      <td>-0.190790</td>\n",
              "    </tr>\n",
              "    <tr>\n",
              "      <th>2</th>\n",
              "      <td>A</td>\n",
              "      <td>D</td>\n",
              "      <td>29.6</td>\n",
              "      <td>60.0</td>\n",
              "      <td>-30.4</td>\n",
              "      <td>4.790616</td>\n",
              "      <td>-6.345739</td>\n",
              "      <td>0.001000</td>\n",
              "      <td>-3.625005</td>\n",
              "    </tr>\n",
              "    <tr>\n",
              "      <th>3</th>\n",
              "      <td>B</td>\n",
              "      <td>C</td>\n",
              "      <td>45.0</td>\n",
              "      <td>31.2</td>\n",
              "      <td>13.8</td>\n",
              "      <td>4.790616</td>\n",
              "      <td>2.880632</td>\n",
              "      <td>0.027410</td>\n",
              "      <td>1.645561</td>\n",
              "    </tr>\n",
              "    <tr>\n",
              "      <th>4</th>\n",
              "      <td>B</td>\n",
              "      <td>D</td>\n",
              "      <td>45.0</td>\n",
              "      <td>60.0</td>\n",
              "      <td>-15.0</td>\n",
              "      <td>4.790616</td>\n",
              "      <td>-3.131121</td>\n",
              "      <td>0.013679</td>\n",
              "      <td>-1.788654</td>\n",
              "    </tr>\n",
              "    <tr>\n",
              "      <th>5</th>\n",
              "      <td>C</td>\n",
              "      <td>D</td>\n",
              "      <td>31.2</td>\n",
              "      <td>60.0</td>\n",
              "      <td>-28.8</td>\n",
              "      <td>4.790616</td>\n",
              "      <td>-6.011753</td>\n",
              "      <td>0.001000</td>\n",
              "      <td>-3.434215</td>\n",
              "    </tr>\n",
              "  </tbody>\n",
              "</table>\n",
              "</div>"
            ],
            "text/plain": [
              "   A  B  mean(A)  mean(B)  diff        se         T   p-tukey    hedges\n",
              "0  A  B     29.6     45.0 -15.4  4.790616 -3.214618  0.010718 -1.836351\n",
              "1  A  C     29.6     31.2  -1.6  4.790616 -0.333986  0.900000 -0.190790\n",
              "2  A  D     29.6     60.0 -30.4  4.790616 -6.345739  0.001000 -3.625005\n",
              "3  B  C     45.0     31.2  13.8  4.790616  2.880632  0.027410  1.645561\n",
              "4  B  D     45.0     60.0 -15.0  4.790616 -3.131121  0.013679 -1.788654\n",
              "5  C  D     31.2     60.0 -28.8  4.790616 -6.011753  0.001000 -3.434215"
            ]
          },
          "metadata": {
            "tags": []
          },
          "execution_count": 17
        }
      ]
    },
    {
      "cell_type": "code",
      "metadata": {
        "id": "bW54Q55Ingsz",
        "colab_type": "code",
        "colab": {}
      },
      "source": [
        "m_comp['Result']=m_comp['p-tukey'].apply(lambda x: 'Different'if x<0.05 else 'Not different')"
      ],
      "execution_count": null,
      "outputs": []
    },
    {
      "cell_type": "code",
      "metadata": {
        "id": "9wBuToeBozwb",
        "colab_type": "code",
        "colab": {
          "base_uri": "https://localhost:8080/",
          "height": 235
        },
        "outputId": "84d60f04-3b8b-4094-d15a-74e54de9eca9"
      },
      "source": [
        "m_comp"
      ],
      "execution_count": null,
      "outputs": [
        {
          "output_type": "execute_result",
          "data": {
            "text/html": [
              "<div>\n",
              "<style scoped>\n",
              "    .dataframe tbody tr th:only-of-type {\n",
              "        vertical-align: middle;\n",
              "    }\n",
              "\n",
              "    .dataframe tbody tr th {\n",
              "        vertical-align: top;\n",
              "    }\n",
              "\n",
              "    .dataframe thead th {\n",
              "        text-align: right;\n",
              "    }\n",
              "</style>\n",
              "<table border=\"1\" class=\"dataframe\">\n",
              "  <thead>\n",
              "    <tr style=\"text-align: right;\">\n",
              "      <th></th>\n",
              "      <th>A</th>\n",
              "      <th>B</th>\n",
              "      <th>mean(A)</th>\n",
              "      <th>mean(B)</th>\n",
              "      <th>diff</th>\n",
              "      <th>se</th>\n",
              "      <th>T</th>\n",
              "      <th>p-tukey</th>\n",
              "      <th>hedges</th>\n",
              "      <th>Result</th>\n",
              "    </tr>\n",
              "  </thead>\n",
              "  <tbody>\n",
              "    <tr>\n",
              "      <th>0</th>\n",
              "      <td>A</td>\n",
              "      <td>B</td>\n",
              "      <td>29.6</td>\n",
              "      <td>45.0</td>\n",
              "      <td>-15.4</td>\n",
              "      <td>4.790616</td>\n",
              "      <td>-3.214618</td>\n",
              "      <td>0.010718</td>\n",
              "      <td>-1.836351</td>\n",
              "      <td>Different</td>\n",
              "    </tr>\n",
              "    <tr>\n",
              "      <th>1</th>\n",
              "      <td>A</td>\n",
              "      <td>C</td>\n",
              "      <td>29.6</td>\n",
              "      <td>31.2</td>\n",
              "      <td>-1.6</td>\n",
              "      <td>4.790616</td>\n",
              "      <td>-0.333986</td>\n",
              "      <td>0.900000</td>\n",
              "      <td>-0.190790</td>\n",
              "      <td>Not different</td>\n",
              "    </tr>\n",
              "    <tr>\n",
              "      <th>2</th>\n",
              "      <td>A</td>\n",
              "      <td>D</td>\n",
              "      <td>29.6</td>\n",
              "      <td>60.0</td>\n",
              "      <td>-30.4</td>\n",
              "      <td>4.790616</td>\n",
              "      <td>-6.345739</td>\n",
              "      <td>0.001000</td>\n",
              "      <td>-3.625005</td>\n",
              "      <td>Different</td>\n",
              "    </tr>\n",
              "    <tr>\n",
              "      <th>3</th>\n",
              "      <td>B</td>\n",
              "      <td>C</td>\n",
              "      <td>45.0</td>\n",
              "      <td>31.2</td>\n",
              "      <td>13.8</td>\n",
              "      <td>4.790616</td>\n",
              "      <td>2.880632</td>\n",
              "      <td>0.027410</td>\n",
              "      <td>1.645561</td>\n",
              "      <td>Different</td>\n",
              "    </tr>\n",
              "    <tr>\n",
              "      <th>4</th>\n",
              "      <td>B</td>\n",
              "      <td>D</td>\n",
              "      <td>45.0</td>\n",
              "      <td>60.0</td>\n",
              "      <td>-15.0</td>\n",
              "      <td>4.790616</td>\n",
              "      <td>-3.131121</td>\n",
              "      <td>0.013679</td>\n",
              "      <td>-1.788654</td>\n",
              "      <td>Different</td>\n",
              "    </tr>\n",
              "    <tr>\n",
              "      <th>5</th>\n",
              "      <td>C</td>\n",
              "      <td>D</td>\n",
              "      <td>31.2</td>\n",
              "      <td>60.0</td>\n",
              "      <td>-28.8</td>\n",
              "      <td>4.790616</td>\n",
              "      <td>-6.011753</td>\n",
              "      <td>0.001000</td>\n",
              "      <td>-3.434215</td>\n",
              "      <td>Different</td>\n",
              "    </tr>\n",
              "  </tbody>\n",
              "</table>\n",
              "</div>"
            ],
            "text/plain": [
              "   A  B  mean(A)  mean(B)  ...         T   p-tukey    hedges         Result\n",
              "0  A  B     29.6     45.0  ... -3.214618  0.010718 -1.836351      Different\n",
              "1  A  C     29.6     31.2  ... -0.333986  0.900000 -0.190790  Not different\n",
              "2  A  D     29.6     60.0  ... -6.345739  0.001000 -3.625005      Different\n",
              "3  B  C     45.0     31.2  ...  2.880632  0.027410  1.645561      Different\n",
              "4  B  D     45.0     60.0  ... -3.131121  0.013679 -1.788654      Different\n",
              "5  C  D     31.2     60.0  ... -6.011753  0.001000 -3.434215      Different\n",
              "\n",
              "[6 rows x 10 columns]"
            ]
          },
          "metadata": {
            "tags": []
          },
          "execution_count": 24
        }
      ]
    },
    {
      "cell_type": "markdown",
      "metadata": {
        "id": "8I1BFG3xsNhK",
        "colab_type": "text"
      },
      "source": [
        "Above results from Tukey HSD suggests that except A-C, all other pairwise comparisons for treatments rejects null hypothesis (P-tukey<0.05) and indicates statistical significant differences."
      ]
    },
    {
      "cell_type": "markdown",
      "metadata": {
        "id": "TnWTBTXguwo3",
        "colab_type": "text"
      },
      "source": [
        "# Two-way (two factor) ANOVA with Python"
      ]
    },
    {
      "cell_type": "markdown",
      "metadata": {
        "id": "BeHNvT0ruz3Q",
        "colab_type": "text"
      },
      "source": [
        "From dataset, there are two factors (independent variables) viz. genotypes and yield in years. Genotypes and years has five and three levels respectively (see one-way ANOVA to know factors and levels).\n",
        "\n",
        "For this experimental design, there are two factors to evaluate, and therefore, two-way ANOVA method is suitable for analysis. Here, using two-way ANOVA, we can simultaneously evaluate how type of genotype and years affects the yields of plants. If you apply one-way ANOVA here, you can able to evaluate only one factor at a time.\n",
        "\n",
        "From two-way ANOVA, we can tests three hypotheses 1) effect of genotype on yield 2) effect of time (years) on yield, and 3) effect of genotype and time (years) interactions on yield"
      ]
    },
    {
      "cell_type": "code",
      "metadata": {
        "id": "407J5V5lpANc",
        "colab_type": "code",
        "colab": {
          "base_uri": "https://localhost:8080/",
          "height": 607
        },
        "outputId": "8c75ade7-f968-46e4-f100-55450429a538"
      },
      "source": [
        "# load packages\n",
        "import pandas as pd\n",
        "import seaborn as sns\n",
        "# load data file\n",
        "d = pd.read_csv(\"https://reneshbedre.github.io/assets/posts/anova/twowayanova.txt\", sep=\"\\t\")\n",
        "d"
      ],
      "execution_count": null,
      "outputs": [
        {
          "output_type": "execute_result",
          "data": {
            "text/html": [
              "<div>\n",
              "<style scoped>\n",
              "    .dataframe tbody tr th:only-of-type {\n",
              "        vertical-align: middle;\n",
              "    }\n",
              "\n",
              "    .dataframe tbody tr th {\n",
              "        vertical-align: top;\n",
              "    }\n",
              "\n",
              "    .dataframe thead th {\n",
              "        text-align: right;\n",
              "    }\n",
              "</style>\n",
              "<table border=\"1\" class=\"dataframe\">\n",
              "  <thead>\n",
              "    <tr style=\"text-align: right;\">\n",
              "      <th></th>\n",
              "      <th>Genotype</th>\n",
              "      <th>1_year</th>\n",
              "      <th>2_year</th>\n",
              "      <th>3_year</th>\n",
              "    </tr>\n",
              "  </thead>\n",
              "  <tbody>\n",
              "    <tr>\n",
              "      <th>0</th>\n",
              "      <td>A</td>\n",
              "      <td>1.53</td>\n",
              "      <td>4.08</td>\n",
              "      <td>6.69</td>\n",
              "    </tr>\n",
              "    <tr>\n",
              "      <th>1</th>\n",
              "      <td>A</td>\n",
              "      <td>1.83</td>\n",
              "      <td>3.84</td>\n",
              "      <td>5.97</td>\n",
              "    </tr>\n",
              "    <tr>\n",
              "      <th>2</th>\n",
              "      <td>A</td>\n",
              "      <td>1.38</td>\n",
              "      <td>3.96</td>\n",
              "      <td>6.33</td>\n",
              "    </tr>\n",
              "    <tr>\n",
              "      <th>3</th>\n",
              "      <td>B</td>\n",
              "      <td>3.60</td>\n",
              "      <td>5.70</td>\n",
              "      <td>8.55</td>\n",
              "    </tr>\n",
              "    <tr>\n",
              "      <th>4</th>\n",
              "      <td>B</td>\n",
              "      <td>2.94</td>\n",
              "      <td>5.07</td>\n",
              "      <td>7.95</td>\n",
              "    </tr>\n",
              "    <tr>\n",
              "      <th>5</th>\n",
              "      <td>B</td>\n",
              "      <td>4.02</td>\n",
              "      <td>7.20</td>\n",
              "      <td>8.94</td>\n",
              "    </tr>\n",
              "    <tr>\n",
              "      <th>6</th>\n",
              "      <td>C</td>\n",
              "      <td>3.99</td>\n",
              "      <td>6.09</td>\n",
              "      <td>10.02</td>\n",
              "    </tr>\n",
              "    <tr>\n",
              "      <th>7</th>\n",
              "      <td>C</td>\n",
              "      <td>3.30</td>\n",
              "      <td>5.88</td>\n",
              "      <td>9.63</td>\n",
              "    </tr>\n",
              "    <tr>\n",
              "      <th>8</th>\n",
              "      <td>C</td>\n",
              "      <td>4.41</td>\n",
              "      <td>6.51</td>\n",
              "      <td>10.38</td>\n",
              "    </tr>\n",
              "    <tr>\n",
              "      <th>9</th>\n",
              "      <td>D</td>\n",
              "      <td>3.75</td>\n",
              "      <td>5.19</td>\n",
              "      <td>11.40</td>\n",
              "    </tr>\n",
              "    <tr>\n",
              "      <th>10</th>\n",
              "      <td>D</td>\n",
              "      <td>3.63</td>\n",
              "      <td>5.37</td>\n",
              "      <td>9.66</td>\n",
              "    </tr>\n",
              "    <tr>\n",
              "      <th>11</th>\n",
              "      <td>D</td>\n",
              "      <td>3.57</td>\n",
              "      <td>5.55</td>\n",
              "      <td>10.53</td>\n",
              "    </tr>\n",
              "    <tr>\n",
              "      <th>12</th>\n",
              "      <td>E</td>\n",
              "      <td>1.71</td>\n",
              "      <td>3.60</td>\n",
              "      <td>6.87</td>\n",
              "    </tr>\n",
              "    <tr>\n",
              "      <th>13</th>\n",
              "      <td>E</td>\n",
              "      <td>2.01</td>\n",
              "      <td>5.10</td>\n",
              "      <td>6.93</td>\n",
              "    </tr>\n",
              "    <tr>\n",
              "      <th>14</th>\n",
              "      <td>E</td>\n",
              "      <td>2.04</td>\n",
              "      <td>6.99</td>\n",
              "      <td>6.84</td>\n",
              "    </tr>\n",
              "    <tr>\n",
              "      <th>15</th>\n",
              "      <td>F</td>\n",
              "      <td>3.96</td>\n",
              "      <td>5.25</td>\n",
              "      <td>9.84</td>\n",
              "    </tr>\n",
              "    <tr>\n",
              "      <th>16</th>\n",
              "      <td>F</td>\n",
              "      <td>4.77</td>\n",
              "      <td>5.28</td>\n",
              "      <td>9.87</td>\n",
              "    </tr>\n",
              "    <tr>\n",
              "      <th>17</th>\n",
              "      <td>F</td>\n",
              "      <td>4.65</td>\n",
              "      <td>5.07</td>\n",
              "      <td>10.08</td>\n",
              "    </tr>\n",
              "  </tbody>\n",
              "</table>\n",
              "</div>"
            ],
            "text/plain": [
              "   Genotype  1_year  2_year  3_year\n",
              "0         A    1.53    4.08    6.69\n",
              "1         A    1.83    3.84    5.97\n",
              "2         A    1.38    3.96    6.33\n",
              "3         B    3.60    5.70    8.55\n",
              "4         B    2.94    5.07    7.95\n",
              "5         B    4.02    7.20    8.94\n",
              "6         C    3.99    6.09   10.02\n",
              "7         C    3.30    5.88    9.63\n",
              "8         C    4.41    6.51   10.38\n",
              "9         D    3.75    5.19   11.40\n",
              "10        D    3.63    5.37    9.66\n",
              "11        D    3.57    5.55   10.53\n",
              "12        E    1.71    3.60    6.87\n",
              "13        E    2.01    5.10    6.93\n",
              "14        E    2.04    6.99    6.84\n",
              "15        F    3.96    5.25    9.84\n",
              "16        F    4.77    5.28    9.87\n",
              "17        F    4.65    5.07   10.08"
            ]
          },
          "metadata": {
            "tags": []
          },
          "execution_count": 57
        }
      ]
    },
    {
      "cell_type": "code",
      "metadata": {
        "id": "FhfJ1pZku3FB",
        "colab_type": "code",
        "colab": {
          "base_uri": "https://localhost:8080/",
          "height": 359
        },
        "outputId": "1598717d-cd2d-4760-c53f-bbd7865cacc5"
      },
      "source": [
        "# reshape the d dataframe suitable for statsmodels package \n",
        "# you do not need to reshape if your data is already in stacked format. Compare d and d_melt tables for detail \n",
        "# understanding \n",
        "d_melt = pd.melt(d, id_vars=['Genotype'], value_vars=['1_year', '2_year', '3_year'])\n",
        "# replace column names\n",
        "d_melt.columns = ['Genotype', 'years', 'value']\n",
        "d_melt.head(10)"
      ],
      "execution_count": null,
      "outputs": [
        {
          "output_type": "execute_result",
          "data": {
            "text/html": [
              "<div>\n",
              "<style scoped>\n",
              "    .dataframe tbody tr th:only-of-type {\n",
              "        vertical-align: middle;\n",
              "    }\n",
              "\n",
              "    .dataframe tbody tr th {\n",
              "        vertical-align: top;\n",
              "    }\n",
              "\n",
              "    .dataframe thead th {\n",
              "        text-align: right;\n",
              "    }\n",
              "</style>\n",
              "<table border=\"1\" class=\"dataframe\">\n",
              "  <thead>\n",
              "    <tr style=\"text-align: right;\">\n",
              "      <th></th>\n",
              "      <th>Genotype</th>\n",
              "      <th>years</th>\n",
              "      <th>value</th>\n",
              "    </tr>\n",
              "  </thead>\n",
              "  <tbody>\n",
              "    <tr>\n",
              "      <th>0</th>\n",
              "      <td>A</td>\n",
              "      <td>1_year</td>\n",
              "      <td>1.53</td>\n",
              "    </tr>\n",
              "    <tr>\n",
              "      <th>1</th>\n",
              "      <td>A</td>\n",
              "      <td>1_year</td>\n",
              "      <td>1.83</td>\n",
              "    </tr>\n",
              "    <tr>\n",
              "      <th>2</th>\n",
              "      <td>A</td>\n",
              "      <td>1_year</td>\n",
              "      <td>1.38</td>\n",
              "    </tr>\n",
              "    <tr>\n",
              "      <th>3</th>\n",
              "      <td>B</td>\n",
              "      <td>1_year</td>\n",
              "      <td>3.60</td>\n",
              "    </tr>\n",
              "    <tr>\n",
              "      <th>4</th>\n",
              "      <td>B</td>\n",
              "      <td>1_year</td>\n",
              "      <td>2.94</td>\n",
              "    </tr>\n",
              "    <tr>\n",
              "      <th>5</th>\n",
              "      <td>B</td>\n",
              "      <td>1_year</td>\n",
              "      <td>4.02</td>\n",
              "    </tr>\n",
              "    <tr>\n",
              "      <th>6</th>\n",
              "      <td>C</td>\n",
              "      <td>1_year</td>\n",
              "      <td>3.99</td>\n",
              "    </tr>\n",
              "    <tr>\n",
              "      <th>7</th>\n",
              "      <td>C</td>\n",
              "      <td>1_year</td>\n",
              "      <td>3.30</td>\n",
              "    </tr>\n",
              "    <tr>\n",
              "      <th>8</th>\n",
              "      <td>C</td>\n",
              "      <td>1_year</td>\n",
              "      <td>4.41</td>\n",
              "    </tr>\n",
              "    <tr>\n",
              "      <th>9</th>\n",
              "      <td>D</td>\n",
              "      <td>1_year</td>\n",
              "      <td>3.75</td>\n",
              "    </tr>\n",
              "  </tbody>\n",
              "</table>\n",
              "</div>"
            ],
            "text/plain": [
              "  Genotype   years  value\n",
              "0        A  1_year   1.53\n",
              "1        A  1_year   1.83\n",
              "2        A  1_year   1.38\n",
              "3        B  1_year   3.60\n",
              "4        B  1_year   2.94\n",
              "5        B  1_year   4.02\n",
              "6        C  1_year   3.99\n",
              "7        C  1_year   3.30\n",
              "8        C  1_year   4.41\n",
              "9        D  1_year   3.75"
            ]
          },
          "metadata": {
            "tags": []
          },
          "execution_count": 58
        }
      ]
    },
    {
      "cell_type": "code",
      "metadata": {
        "id": "ySWSua-evsHf",
        "colab_type": "code",
        "colab": {
          "base_uri": "https://localhost:8080/",
          "height": 296
        },
        "outputId": "f243bd9a-f41d-4f14-8c75-b67b17b5d1b6"
      },
      "source": [
        "# generate a boxplot to see the data distribution by genotypes and years. Using boxplot, we can easily detect the \n",
        "# differences between different groups\n",
        "sns.boxplot(x=\"Genotype\", y=\"value\", hue=\"years\", data=d_melt, palette=\"Set3\") "
      ],
      "execution_count": null,
      "outputs": [
        {
          "output_type": "execute_result",
          "data": {
            "text/plain": [
              "<matplotlib.axes._subplots.AxesSubplot at 0x7fbc5ddea278>"
            ]
          },
          "metadata": {
            "tags": []
          },
          "execution_count": 59
        },
        {
          "output_type": "display_data",
          "data": {
            "image/png": "[encoded data removed]",
            "text/plain": [
              "<Figure size 432x288 with 1 Axes>"
            ]
          },
          "metadata": {
            "tags": [],
            "needs_background": "light"
          }
        }
      ]
    },
    {
      "cell_type": "code",
      "metadata": {
        "id": "7XVzdEM9wHfg",
        "colab_type": "code",
        "colab": {
          "base_uri": "https://localhost:8080/",
          "height": 173
        },
        "outputId": "409617c0-84c5-4ba4-e233-8b72ef6f162c"
      },
      "source": [
        "# load packages\n",
        "import statsmodels.api as sm\n",
        "from statsmodels.formula.api import ols\n",
        "# Ordinary Least Squares (OLS) model\n",
        "# C(Genotype):C(years) represent interaction term\n",
        "model = ols('value ~ C(Genotype) + C(years) + C(Genotype):C(years)', data=d_melt).fit()\n",
        "anova_table = sm.stats.anova_lm(model, typ=2) #typ = 3 for unblanced\n",
        "anova_table"
      ],
      "execution_count": null,
      "outputs": [
        {
          "output_type": "execute_result",
          "data": {
            "text/html": [
              "<div>\n",
              "<style scoped>\n",
              "    .dataframe tbody tr th:only-of-type {\n",
              "        vertical-align: middle;\n",
              "    }\n",
              "\n",
              "    .dataframe tbody tr th {\n",
              "        vertical-align: top;\n",
              "    }\n",
              "\n",
              "    .dataframe thead th {\n",
              "        text-align: right;\n",
              "    }\n",
              "</style>\n",
              "<table border=\"1\" class=\"dataframe\">\n",
              "  <thead>\n",
              "    <tr style=\"text-align: right;\">\n",
              "      <th></th>\n",
              "      <th>sum_sq</th>\n",
              "      <th>df</th>\n",
              "      <th>F</th>\n",
              "      <th>PR(&gt;F)</th>\n",
              "    </tr>\n",
              "  </thead>\n",
              "  <tbody>\n",
              "    <tr>\n",
              "      <th>C(Genotype)</th>\n",
              "      <td>58.551733</td>\n",
              "      <td>5.0</td>\n",
              "      <td>32.748581</td>\n",
              "      <td>1.931655e-12</td>\n",
              "    </tr>\n",
              "    <tr>\n",
              "      <th>C(years)</th>\n",
              "      <td>278.925633</td>\n",
              "      <td>2.0</td>\n",
              "      <td>390.014868</td>\n",
              "      <td>4.006243e-25</td>\n",
              "    </tr>\n",
              "    <tr>\n",
              "      <th>C(Genotype):C(years)</th>\n",
              "      <td>17.122967</td>\n",
              "      <td>10.0</td>\n",
              "      <td>4.788525</td>\n",
              "      <td>2.230094e-04</td>\n",
              "    </tr>\n",
              "    <tr>\n",
              "      <th>Residual</th>\n",
              "      <td>12.873000</td>\n",
              "      <td>36.0</td>\n",
              "      <td>NaN</td>\n",
              "      <td>NaN</td>\n",
              "    </tr>\n",
              "  </tbody>\n",
              "</table>\n",
              "</div>"
            ],
            "text/plain": [
              "                          sum_sq    df           F        PR(>F)\n",
              "C(Genotype)            58.551733   5.0   32.748581  1.931655e-12\n",
              "C(years)              278.925633   2.0  390.014868  4.006243e-25\n",
              "C(Genotype):C(years)   17.122967  10.0    4.788525  2.230094e-04\n",
              "Residual               12.873000  36.0         NaN           NaN"
            ]
          },
          "metadata": {
            "tags": []
          },
          "execution_count": 60
        }
      ]
    },
    {
      "cell_type": "markdown",
      "metadata": {
        "id": "2P6isDB-wo6x",
        "colab_type": "text"
      },
      "source": [
        "Interpretation: The P-value obtained from ANOVA analysis for genotype, years, and interaction are statistically significant (P<0.05). We conclude that type of genotype significantly affects the yield outcome, time (years) significantly affects the yield outcome, and interaction of both genotype and time (years) significantly affects the yield outcome."
      ]
    },
    {
      "cell_type": "markdown",
      "metadata": {
        "id": "E2OS-HJ7wqsB",
        "colab_type": "text"
      },
      "source": [
        "Note: If you have unbalanced (unequal sample size for each group) data, you can perform similar steps as described for two-way ANOVA with the balanced design but set `typ=3`. Type 3 sums of squares (SS) is recommended for an unbalanced design for multifactorial ANOVA."
      ]
    },
    {
      "cell_type": "markdown",
      "metadata": {
        "id": "2otKDPRuxLdc",
        "colab_type": "text"
      },
      "source": [
        "## Test ANOVA assumptions"
      ]
    },
    {
      "cell_type": "markdown",
      "metadata": {
        "id": "gy3G5BnhxKpF",
        "colab_type": "text"
      },
      "source": [
        "Similar to one-way ANOVA, you can use Levene and Shapiro-Wilk test to validate the assumptions for homogeneity of variances and normal distribution of residuals."
      ]
    },
    {
      "cell_type": "code",
      "metadata": {
        "id": "EX0iGiZ2zN5i",
        "colab_type": "code",
        "colab": {
          "base_uri": "https://localhost:8080/",
          "height": 34
        },
        "outputId": "f2baa4a2-da3a-433d-a429-4dd484222a23"
      },
      "source": [
        "# load packages\n",
        "import scipy.stats as stats\n",
        "w, pvalue = stats.shapiro(model.resid)\n",
        "print(w, pvalue)"
      ],
      "execution_count": null,
      "outputs": [
        {
          "output_type": "stream",
          "text": [
            "0.8978845477104187 0.00023986827000044286\n"
          ],
          "name": "stdout"
        }
      ]
    },
    {
      "cell_type": "markdown",
      "metadata": {
        "id": "Kag_KCORzY-h",
        "colab_type": "text"
      },
      "source": [
        "As the P-value is  significant, we reject null hypothesis and conclude that data is drawn from non normal distribution."
      ]
    },
    {
      "cell_type": "markdown",
      "metadata": {
        "id": "AWY48y2vzdhX",
        "colab_type": "text"
      },
      "source": [
        "Levene test can be used to check the Homogeneity of variances when the data is not drawn from normal distribution."
      ]
    },
    {
      "cell_type": "code",
      "metadata": {
        "id": "acTErLaHzN8T",
        "colab_type": "code",
        "colab": {
          "base_uri": "https://localhost:8080/",
          "height": 34
        },
        "outputId": "fc43e106-b9c9-4eb2-8405-2aebede41c77"
      },
      "source": [
        "from scipy.stats import levene\n",
        "stat, pvalue = levene(d['1_year'], d['2_year'], d['3_year'])\n",
        "print(stat, pvalue)"
      ],
      "execution_count": null,
      "outputs": [
        {
          "output_type": "stream",
          "text": [
            "3.7640414132406605 0.02987100822975102\n"
          ],
          "name": "stdout"
        }
      ]
    },
    {
      "cell_type": "markdown",
      "metadata": {
        "id": "o7H3hCXZzy3j",
        "colab_type": "text"
      },
      "source": [
        "As the P-value is significant, we reject null hypothesis and conclude that treatments have non equal variances."
      ]
    },
    {
      "cell_type": "markdown",
      "metadata": {
        "id": "GcOIPVv-xCbV",
        "colab_type": "text"
      },
      "source": [
        "## Tukey HSD test."
      ]
    },
    {
      "cell_type": "markdown",
      "metadata": {
        "id": "z-xk6z1mw9ab",
        "colab_type": "text"
      },
      "source": [
        "Now, we know that genotype and time (years) differences are statistically significant, but ANOVA does not tell which genotype and time (years) are significantly different from each other. To know the pairs of significant different genotype and time (years), perform multiple pairwise comparison (Post-hoc comparison) analysis using Tukey HSD test.\n",
        "\n"
      ]
    },
    {
      "cell_type": "code",
      "metadata": {
        "id": "BK1GmUtixzD2",
        "colab_type": "code",
        "colab": {
          "base_uri": "https://localhost:8080/",
          "height": 204
        },
        "outputId": "79c40e2b-e9ce-4894-83cf-05e47ceafb75"
      },
      "source": [
        "d_melt.head()"
      ],
      "execution_count": null,
      "outputs": [
        {
          "output_type": "execute_result",
          "data": {
            "text/html": [
              "<div>\n",
              "<style scoped>\n",
              "    .dataframe tbody tr th:only-of-type {\n",
              "        vertical-align: middle;\n",
              "    }\n",
              "\n",
              "    .dataframe tbody tr th {\n",
              "        vertical-align: top;\n",
              "    }\n",
              "\n",
              "    .dataframe thead th {\n",
              "        text-align: right;\n",
              "    }\n",
              "</style>\n",
              "<table border=\"1\" class=\"dataframe\">\n",
              "  <thead>\n",
              "    <tr style=\"text-align: right;\">\n",
              "      <th></th>\n",
              "      <th>Genotype</th>\n",
              "      <th>years</th>\n",
              "      <th>value</th>\n",
              "    </tr>\n",
              "  </thead>\n",
              "  <tbody>\n",
              "    <tr>\n",
              "      <th>0</th>\n",
              "      <td>A</td>\n",
              "      <td>1_year</td>\n",
              "      <td>1.53</td>\n",
              "    </tr>\n",
              "    <tr>\n",
              "      <th>1</th>\n",
              "      <td>A</td>\n",
              "      <td>1_year</td>\n",
              "      <td>1.83</td>\n",
              "    </tr>\n",
              "    <tr>\n",
              "      <th>2</th>\n",
              "      <td>A</td>\n",
              "      <td>1_year</td>\n",
              "      <td>1.38</td>\n",
              "    </tr>\n",
              "    <tr>\n",
              "      <th>3</th>\n",
              "      <td>B</td>\n",
              "      <td>1_year</td>\n",
              "      <td>3.60</td>\n",
              "    </tr>\n",
              "    <tr>\n",
              "      <th>4</th>\n",
              "      <td>B</td>\n",
              "      <td>1_year</td>\n",
              "      <td>2.94</td>\n",
              "    </tr>\n",
              "  </tbody>\n",
              "</table>\n",
              "</div>"
            ],
            "text/plain": [
              "  Genotype   years  value\n",
              "0        A  1_year   1.53\n",
              "1        A  1_year   1.83\n",
              "2        A  1_year   1.38\n",
              "3        B  1_year   3.60\n",
              "4        B  1_year   2.94"
            ]
          },
          "metadata": {
            "tags": []
          },
          "execution_count": 48
        }
      ]
    },
    {
      "cell_type": "code",
      "metadata": {
        "id": "2mZX9QeVwTnC",
        "colab_type": "code",
        "colab": {
          "base_uri": "https://localhost:8080/",
          "height": 514
        },
        "outputId": "51422216-1ddf-4563-dae5-83cbc582cee8"
      },
      "source": [
        "# load packages\n",
        "from pingouin import pairwise_tukey\n",
        "# perform multiple pairwise comparison (Tukey HSD)\n",
        "# for unbalanced (unequal sample size) data, pairwise_tukey uses Tukey-Kramer test\n",
        "m_comp = pairwise_tukey(data=d_melt, dv='value', between='Genotype').round(3)\n",
        "m_comp['Result']=m_comp['p-tukey'].apply(lambda x: 'Different'if x<0.05 else 'Not different')\n",
        "m_comp"
      ],
      "execution_count": null,
      "outputs": [
        {
          "output_type": "execute_result",
          "data": {
            "text/html": [
              "<div>\n",
              "<style scoped>\n",
              "    .dataframe tbody tr th:only-of-type {\n",
              "        vertical-align: middle;\n",
              "    }\n",
              "\n",
              "    .dataframe tbody tr th {\n",
              "        vertical-align: top;\n",
              "    }\n",
              "\n",
              "    .dataframe thead th {\n",
              "        text-align: right;\n",
              "    }\n",
              "</style>\n",
              "<table border=\"1\" class=\"dataframe\">\n",
              "  <thead>\n",
              "    <tr style=\"text-align: right;\">\n",
              "      <th></th>\n",
              "      <th>A</th>\n",
              "      <th>B</th>\n",
              "      <th>mean(A)</th>\n",
              "      <th>mean(B)</th>\n",
              "      <th>diff</th>\n",
              "      <th>se</th>\n",
              "      <th>T</th>\n",
              "      <th>p-tukey</th>\n",
              "      <th>hedges</th>\n",
              "      <th>Result</th>\n",
              "    </tr>\n",
              "  </thead>\n",
              "  <tbody>\n",
              "    <tr>\n",
              "      <th>0</th>\n",
              "      <td>A</td>\n",
              "      <td>B</td>\n",
              "      <td>3.957</td>\n",
              "      <td>5.997</td>\n",
              "      <td>-2.040</td>\n",
              "      <td>1.196</td>\n",
              "      <td>-1.706</td>\n",
              "      <td>0.523</td>\n",
              "      <td>-0.766</td>\n",
              "      <td>Not different</td>\n",
              "    </tr>\n",
              "    <tr>\n",
              "      <th>1</th>\n",
              "      <td>A</td>\n",
              "      <td>C</td>\n",
              "      <td>3.957</td>\n",
              "      <td>6.690</td>\n",
              "      <td>-2.733</td>\n",
              "      <td>1.196</td>\n",
              "      <td>-2.286</td>\n",
              "      <td>0.207</td>\n",
              "      <td>-1.026</td>\n",
              "      <td>Not different</td>\n",
              "    </tr>\n",
              "    <tr>\n",
              "      <th>2</th>\n",
              "      <td>A</td>\n",
              "      <td>D</td>\n",
              "      <td>3.957</td>\n",
              "      <td>6.517</td>\n",
              "      <td>-2.560</td>\n",
              "      <td>1.196</td>\n",
              "      <td>-2.141</td>\n",
              "      <td>0.273</td>\n",
              "      <td>-0.961</td>\n",
              "      <td>Not different</td>\n",
              "    </tr>\n",
              "    <tr>\n",
              "      <th>3</th>\n",
              "      <td>A</td>\n",
              "      <td>E</td>\n",
              "      <td>3.957</td>\n",
              "      <td>4.677</td>\n",
              "      <td>-0.720</td>\n",
              "      <td>1.196</td>\n",
              "      <td>-0.602</td>\n",
              "      <td>0.900</td>\n",
              "      <td>-0.270</td>\n",
              "      <td>Not different</td>\n",
              "    </tr>\n",
              "    <tr>\n",
              "      <th>4</th>\n",
              "      <td>A</td>\n",
              "      <td>F</td>\n",
              "      <td>3.957</td>\n",
              "      <td>6.530</td>\n",
              "      <td>-2.573</td>\n",
              "      <td>1.196</td>\n",
              "      <td>-2.152</td>\n",
              "      <td>0.267</td>\n",
              "      <td>-0.966</td>\n",
              "      <td>Not different</td>\n",
              "    </tr>\n",
              "    <tr>\n",
              "      <th>5</th>\n",
              "      <td>B</td>\n",
              "      <td>C</td>\n",
              "      <td>5.997</td>\n",
              "      <td>6.690</td>\n",
              "      <td>-0.693</td>\n",
              "      <td>1.196</td>\n",
              "      <td>-0.580</td>\n",
              "      <td>0.900</td>\n",
              "      <td>-0.260</td>\n",
              "      <td>Not different</td>\n",
              "    </tr>\n",
              "    <tr>\n",
              "      <th>6</th>\n",
              "      <td>B</td>\n",
              "      <td>D</td>\n",
              "      <td>5.997</td>\n",
              "      <td>6.517</td>\n",
              "      <td>-0.520</td>\n",
              "      <td>1.196</td>\n",
              "      <td>-0.435</td>\n",
              "      <td>0.900</td>\n",
              "      <td>-0.195</td>\n",
              "      <td>Not different</td>\n",
              "    </tr>\n",
              "    <tr>\n",
              "      <th>7</th>\n",
              "      <td>B</td>\n",
              "      <td>E</td>\n",
              "      <td>5.997</td>\n",
              "      <td>4.677</td>\n",
              "      <td>1.320</td>\n",
              "      <td>1.196</td>\n",
              "      <td>1.104</td>\n",
              "      <td>0.864</td>\n",
              "      <td>0.496</td>\n",
              "      <td>Not different</td>\n",
              "    </tr>\n",
              "    <tr>\n",
              "      <th>8</th>\n",
              "      <td>B</td>\n",
              "      <td>F</td>\n",
              "      <td>5.997</td>\n",
              "      <td>6.530</td>\n",
              "      <td>-0.533</td>\n",
              "      <td>1.196</td>\n",
              "      <td>-0.446</td>\n",
              "      <td>0.900</td>\n",
              "      <td>-0.200</td>\n",
              "      <td>Not different</td>\n",
              "    </tr>\n",
              "    <tr>\n",
              "      <th>9</th>\n",
              "      <td>C</td>\n",
              "      <td>D</td>\n",
              "      <td>6.690</td>\n",
              "      <td>6.517</td>\n",
              "      <td>0.173</td>\n",
              "      <td>1.196</td>\n",
              "      <td>0.145</td>\n",
              "      <td>0.900</td>\n",
              "      <td>0.065</td>\n",
              "      <td>Not different</td>\n",
              "    </tr>\n",
              "    <tr>\n",
              "      <th>10</th>\n",
              "      <td>C</td>\n",
              "      <td>E</td>\n",
              "      <td>6.690</td>\n",
              "      <td>4.677</td>\n",
              "      <td>2.013</td>\n",
              "      <td>1.196</td>\n",
              "      <td>1.684</td>\n",
              "      <td>0.536</td>\n",
              "      <td>0.756</td>\n",
              "      <td>Not different</td>\n",
              "    </tr>\n",
              "    <tr>\n",
              "      <th>11</th>\n",
              "      <td>C</td>\n",
              "      <td>F</td>\n",
              "      <td>6.690</td>\n",
              "      <td>6.530</td>\n",
              "      <td>0.160</td>\n",
              "      <td>1.196</td>\n",
              "      <td>0.134</td>\n",
              "      <td>0.900</td>\n",
              "      <td>0.060</td>\n",
              "      <td>Not different</td>\n",
              "    </tr>\n",
              "    <tr>\n",
              "      <th>12</th>\n",
              "      <td>D</td>\n",
              "      <td>E</td>\n",
              "      <td>6.517</td>\n",
              "      <td>4.677</td>\n",
              "      <td>1.840</td>\n",
              "      <td>1.196</td>\n",
              "      <td>1.539</td>\n",
              "      <td>0.618</td>\n",
              "      <td>0.691</td>\n",
              "      <td>Not different</td>\n",
              "    </tr>\n",
              "    <tr>\n",
              "      <th>13</th>\n",
              "      <td>D</td>\n",
              "      <td>F</td>\n",
              "      <td>6.517</td>\n",
              "      <td>6.530</td>\n",
              "      <td>-0.013</td>\n",
              "      <td>1.196</td>\n",
              "      <td>-0.011</td>\n",
              "      <td>0.900</td>\n",
              "      <td>-0.005</td>\n",
              "      <td>Not different</td>\n",
              "    </tr>\n",
              "    <tr>\n",
              "      <th>14</th>\n",
              "      <td>E</td>\n",
              "      <td>F</td>\n",
              "      <td>4.677</td>\n",
              "      <td>6.530</td>\n",
              "      <td>-1.853</td>\n",
              "      <td>1.196</td>\n",
              "      <td>-1.550</td>\n",
              "      <td>0.612</td>\n",
              "      <td>-0.696</td>\n",
              "      <td>Not different</td>\n",
              "    </tr>\n",
              "  </tbody>\n",
              "</table>\n",
              "</div>"
            ],
            "text/plain": [
              "    A  B  mean(A)  mean(B)   diff     se      T  p-tukey  hedges         Result\n",
              "0   A  B    3.957    5.997 -2.040  1.196 -1.706    0.523  -0.766  Not different\n",
              "1   A  C    3.957    6.690 -2.733  1.196 -2.286    0.207  -1.026  Not different\n",
              "2   A  D    3.957    6.517 -2.560  1.196 -2.141    0.273  -0.961  Not different\n",
              "3   A  E    3.957    4.677 -0.720  1.196 -0.602    0.900  -0.270  Not different\n",
              "4   A  F    3.957    6.530 -2.573  1.196 -2.152    0.267  -0.966  Not different\n",
              "5   B  C    5.997    6.690 -0.693  1.196 -0.580    0.900  -0.260  Not different\n",
              "6   B  D    5.997    6.517 -0.520  1.196 -0.435    0.900  -0.195  Not different\n",
              "7   B  E    5.997    4.677  1.320  1.196  1.104    0.864   0.496  Not different\n",
              "8   B  F    5.997    6.530 -0.533  1.196 -0.446    0.900  -0.200  Not different\n",
              "9   C  D    6.690    6.517  0.173  1.196  0.145    0.900   0.065  Not different\n",
              "10  C  E    6.690    4.677  2.013  1.196  1.684    0.536   0.756  Not different\n",
              "11  C  F    6.690    6.530  0.160  1.196  0.134    0.900   0.060  Not different\n",
              "12  D  E    6.517    4.677  1.840  1.196  1.539    0.618   0.691  Not different\n",
              "13  D  F    6.517    6.530 -0.013  1.196 -0.011    0.900  -0.005  Not different\n",
              "14  E  F    4.677    6.530 -1.853  1.196 -1.550    0.612  -0.696  Not different"
            ]
          },
          "metadata": {
            "tags": []
          },
          "execution_count": 54
        }
      ]
    },
    {
      "cell_type": "code",
      "metadata": {
        "id": "i5BPK7vexv60",
        "colab_type": "code",
        "colab": {
          "base_uri": "https://localhost:8080/",
          "height": 142
        },
        "outputId": "9cb38a29-1017-431b-8f9e-dd6367f9a8d7"
      },
      "source": [
        "m_comp = pairwise_tukey(data=d_melt, dv='value', between='years').round(3)\n",
        "m_comp['Result']=m_comp['p-tukey'].apply(lambda x: 'Different'if x<0.05 else 'Not different')\n",
        "m_comp"
      ],
      "execution_count": null,
      "outputs": [
        {
          "output_type": "execute_result",
          "data": {
            "text/html": [
              "<div>\n",
              "<style scoped>\n",
              "    .dataframe tbody tr th:only-of-type {\n",
              "        vertical-align: middle;\n",
              "    }\n",
              "\n",
              "    .dataframe tbody tr th {\n",
              "        vertical-align: top;\n",
              "    }\n",
              "\n",
              "    .dataframe thead th {\n",
              "        text-align: right;\n",
              "    }\n",
              "</style>\n",
              "<table border=\"1\" class=\"dataframe\">\n",
              "  <thead>\n",
              "    <tr style=\"text-align: right;\">\n",
              "      <th></th>\n",
              "      <th>A</th>\n",
              "      <th>B</th>\n",
              "      <th>mean(A)</th>\n",
              "      <th>mean(B)</th>\n",
              "      <th>diff</th>\n",
              "      <th>se</th>\n",
              "      <th>T</th>\n",
              "      <th>p-tukey</th>\n",
              "      <th>hedges</th>\n",
              "      <th>Result</th>\n",
              "    </tr>\n",
              "  </thead>\n",
              "  <tbody>\n",
              "    <tr>\n",
              "      <th>0</th>\n",
              "      <td>1_year</td>\n",
              "      <td>2_year</td>\n",
              "      <td>3.172</td>\n",
              "      <td>5.318</td>\n",
              "      <td>-2.147</td>\n",
              "      <td>0.439</td>\n",
              "      <td>-4.887</td>\n",
              "      <td>0.001</td>\n",
              "      <td>-1.593</td>\n",
              "      <td>Different</td>\n",
              "    </tr>\n",
              "    <tr>\n",
              "      <th>1</th>\n",
              "      <td>1_year</td>\n",
              "      <td>3_year</td>\n",
              "      <td>3.172</td>\n",
              "      <td>8.693</td>\n",
              "      <td>-5.522</td>\n",
              "      <td>0.439</td>\n",
              "      <td>-12.572</td>\n",
              "      <td>0.001</td>\n",
              "      <td>-4.097</td>\n",
              "      <td>Different</td>\n",
              "    </tr>\n",
              "    <tr>\n",
              "      <th>2</th>\n",
              "      <td>2_year</td>\n",
              "      <td>3_year</td>\n",
              "      <td>5.318</td>\n",
              "      <td>8.693</td>\n",
              "      <td>-3.375</td>\n",
              "      <td>0.439</td>\n",
              "      <td>-7.684</td>\n",
              "      <td>0.001</td>\n",
              "      <td>-2.504</td>\n",
              "      <td>Different</td>\n",
              "    </tr>\n",
              "  </tbody>\n",
              "</table>\n",
              "</div>"
            ],
            "text/plain": [
              "        A       B  mean(A)  mean(B)  ...       T  p-tukey  hedges     Result\n",
              "0  1_year  2_year    3.172    5.318  ...  -4.887    0.001  -1.593  Different\n",
              "1  1_year  3_year    3.172    8.693  ... -12.572    0.001  -4.097  Different\n",
              "2  2_year  3_year    5.318    8.693  ...  -7.684    0.001  -2.504  Different\n",
              "\n",
              "[3 rows x 10 columns]"
            ]
          },
          "metadata": {
            "tags": []
          },
          "execution_count": 55
        }
      ]
    },
    {
      "cell_type": "markdown",
      "metadata": {
        "id": "S9czJrQ7zACX",
        "colab_type": "text"
      },
      "source": [
        "# pingouin Statistic"
      ]
    },
    {
      "cell_type": "markdown",
      "metadata": {
        "id": "qZ_FAg0wy-C-",
        "colab_type": "text"
      },
      "source": [
        "https://pingouin-stats.org/index.html"
      ]
    },
    {
      "cell_type": "code",
      "metadata": {
        "id": "nkB4sTk2x_SN",
        "colab_type": "code",
        "colab": {}
      },
      "source": [
        "import numpy as np\n",
        "import pingouin as pg\n",
        "\n",
        "np.random.seed(123)\n",
        "mean, cov, n = [4, 5], [(1, .6), (.6, 1)], 30\n",
        "x, y = np.random.multivariate_normal(mean, cov, n).T"
      ],
      "execution_count": null,
      "outputs": []
    },
    {
      "cell_type": "code",
      "metadata": {
        "id": "JKVfm7ho0dCI",
        "colab_type": "code",
        "colab": {
          "base_uri": "https://localhost:8080/",
          "height": 119
        },
        "outputId": "1d1ea5cf-7968-4d17-d5cf-afdfbf502742"
      },
      "source": [
        "x"
      ],
      "execution_count": null,
      "outputs": [
        {
          "output_type": "execute_result",
          "data": {
            "text/plain": [
              "array([4.52499109, 4.42053181, 3.77897093, 6.36230346, 3.25533028,\n",
              "       4.64956937, 2.95178623, 4.59135733, 1.04899568, 2.92923908,\n",
              "       2.67380187, 4.31118852, 5.40671611, 3.82758588, 4.51066978,\n",
              "       5.48020001, 5.89750199, 3.24810462, 3.68967198, 4.65983923,\n",
              "       5.492979  , 4.09301762, 3.7024475 , 1.67554352, 2.12366377,\n",
              "       5.62202531, 2.79728088, 3.49523787, 2.41851903, 2.18400827])"
            ]
          },
          "metadata": {
            "tags": []
          },
          "execution_count": 64
        }
      ]
    },
    {
      "cell_type": "code",
      "metadata": {
        "id": "MOakkf5L0dmU",
        "colab_type": "code",
        "colab": {
          "base_uri": "https://localhost:8080/",
          "height": 119
        },
        "outputId": "c0566b61-9c30-416b-eae2-6e3bb099b51f"
      },
      "source": [
        "y"
      ],
      "execution_count": null,
      "outputs": [
        {
          "output_type": "execute_result",
          "data": {
            "text/plain": [
              "array([6.41704397, 4.07326086, 6.25606067, 6.97867234, 3.4800941 ,\n",
              "       5.5648591 , 3.38033491, 5.20286174, 4.00491662, 4.2746547 ,\n",
              "       5.00715313, 6.36288199, 5.83629382, 3.54973502, 4.73989277,\n",
              "       3.97706582, 6.27151276, 4.09280014, 5.30523709, 5.91352322,\n",
              "       4.94770443, 5.60624519, 4.69186599, 3.04486339, 5.12552003,\n",
              "       5.69290489, 3.08347187, 5.45166315, 4.98813694, 4.14050216])"
            ]
          },
          "metadata": {
            "tags": []
          },
          "execution_count": 65
        }
      ]
    },
    {
      "cell_type": "code",
      "metadata": {
        "id": "nIYJ38g_0edI",
        "colab_type": "code",
        "colab": {
          "base_uri": "https://localhost:8080/",
          "height": 80
        },
        "outputId": "2b5d68fe-2a9f-43e9-e67f-a4a26bdc9414"
      },
      "source": [
        "# T-test\n",
        "pg.ttest(x, y)"
      ],
      "execution_count": null,
      "outputs": [
        {
          "output_type": "execute_result",
          "data": {
            "text/html": [
              "<div>\n",
              "<style scoped>\n",
              "    .dataframe tbody tr th:only-of-type {\n",
              "        vertical-align: middle;\n",
              "    }\n",
              "\n",
              "    .dataframe tbody tr th {\n",
              "        vertical-align: top;\n",
              "    }\n",
              "\n",
              "    .dataframe thead th {\n",
              "        text-align: right;\n",
              "    }\n",
              "</style>\n",
              "<table border=\"1\" class=\"dataframe\">\n",
              "  <thead>\n",
              "    <tr style=\"text-align: right;\">\n",
              "      <th></th>\n",
              "      <th>T</th>\n",
              "      <th>dof</th>\n",
              "      <th>tail</th>\n",
              "      <th>p-val</th>\n",
              "      <th>CI95%</th>\n",
              "      <th>cohen-d</th>\n",
              "      <th>BF10</th>\n",
              "      <th>power</th>\n",
              "    </tr>\n",
              "  </thead>\n",
              "  <tbody>\n",
              "    <tr>\n",
              "      <th>T-test</th>\n",
              "      <td>-3.400706</td>\n",
              "      <td>58</td>\n",
              "      <td>two-sided</td>\n",
              "      <td>0.001222</td>\n",
              "      <td>[-1.68, -0.43]</td>\n",
              "      <td>0.878059</td>\n",
              "      <td>26.155</td>\n",
              "      <td>0.916807</td>\n",
              "    </tr>\n",
              "  </tbody>\n",
              "</table>\n",
              "</div>"
            ],
            "text/plain": [
              "               T  dof       tail  ...   cohen-d    BF10     power\n",
              "T-test -3.400706   58  two-sided  ...  0.878059  26.155  0.916807\n",
              "\n",
              "[1 rows x 8 columns]"
            ]
          },
          "metadata": {
            "tags": []
          },
          "execution_count": 66
        }
      ]
    },
    {
      "cell_type": "code",
      "metadata": {
        "id": "caaUH2Pf0gII",
        "colab_type": "code",
        "colab": {
          "base_uri": "https://localhost:8080/",
          "height": 80
        },
        "outputId": "ed5c1aee-f2c4-47fe-c16a-c619e2811b49"
      },
      "source": [
        "#2. Pearson’s correlation\n",
        "pg.corr(x, y)"
      ],
      "execution_count": null,
      "outputs": [
        {
          "output_type": "execute_result",
          "data": {
            "text/html": [
              "<div>\n",
              "<style scoped>\n",
              "    .dataframe tbody tr th:only-of-type {\n",
              "        vertical-align: middle;\n",
              "    }\n",
              "\n",
              "    .dataframe tbody tr th {\n",
              "        vertical-align: top;\n",
              "    }\n",
              "\n",
              "    .dataframe thead th {\n",
              "        text-align: right;\n",
              "    }\n",
              "</style>\n",
              "<table border=\"1\" class=\"dataframe\">\n",
              "  <thead>\n",
              "    <tr style=\"text-align: right;\">\n",
              "      <th></th>\n",
              "      <th>n</th>\n",
              "      <th>r</th>\n",
              "      <th>CI95%</th>\n",
              "      <th>r2</th>\n",
              "      <th>adj_r2</th>\n",
              "      <th>p-val</th>\n",
              "      <th>BF10</th>\n",
              "      <th>power</th>\n",
              "    </tr>\n",
              "  </thead>\n",
              "  <tbody>\n",
              "    <tr>\n",
              "      <th>pearson</th>\n",
              "      <td>30</td>\n",
              "      <td>0.594785</td>\n",
              "      <td>[0.3, 0.79]</td>\n",
              "      <td>0.353769</td>\n",
              "      <td>0.3059</td>\n",
              "      <td>0.000527</td>\n",
              "      <td>69.723</td>\n",
              "      <td>0.950373</td>\n",
              "    </tr>\n",
              "  </tbody>\n",
              "</table>\n",
              "</div>"
            ],
            "text/plain": [
              "          n         r        CI95%  ...     p-val    BF10     power\n",
              "pearson  30  0.594785  [0.3, 0.79]  ...  0.000527  69.723  0.950373\n",
              "\n",
              "[1 rows x 8 columns]"
            ]
          },
          "metadata": {
            "tags": []
          },
          "execution_count": 67
        }
      ]
    },
    {
      "cell_type": "code",
      "metadata": {
        "id": "nF19Nne50ivY",
        "colab_type": "code",
        "colab": {
          "base_uri": "https://localhost:8080/",
          "height": 97
        },
        "outputId": "acdca948-7382-4b89-ccee-9251e086dba8"
      },
      "source": [
        "# Introduce an outlier\n",
        "x[5] = 18\n",
        "# Use the robust Shepherd's pi correlation\n",
        "pg.corr(x, y, method=\"shepherd\")"
      ],
      "execution_count": null,
      "outputs": [
        {
          "output_type": "execute_result",
          "data": {
            "text/html": [
              "<div>\n",
              "<style scoped>\n",
              "    .dataframe tbody tr th:only-of-type {\n",
              "        vertical-align: middle;\n",
              "    }\n",
              "\n",
              "    .dataframe tbody tr th {\n",
              "        vertical-align: top;\n",
              "    }\n",
              "\n",
              "    .dataframe thead th {\n",
              "        text-align: right;\n",
              "    }\n",
              "</style>\n",
              "<table border=\"1\" class=\"dataframe\">\n",
              "  <thead>\n",
              "    <tr style=\"text-align: right;\">\n",
              "      <th></th>\n",
              "      <th>n</th>\n",
              "      <th>outliers</th>\n",
              "      <th>r</th>\n",
              "      <th>CI95%</th>\n",
              "      <th>r2</th>\n",
              "      <th>adj_r2</th>\n",
              "      <th>p-val</th>\n",
              "      <th>power</th>\n",
              "    </tr>\n",
              "  </thead>\n",
              "  <tbody>\n",
              "    <tr>\n",
              "      <th>shepherd</th>\n",
              "      <td>30</td>\n",
              "      <td>1</td>\n",
              "      <td>0.561084</td>\n",
              "      <td>[0.25, 0.77]</td>\n",
              "      <td>0.314815</td>\n",
              "      <td>0.264061</td>\n",
              "      <td>0.001543</td>\n",
              "      <td>0.916576</td>\n",
              "    </tr>\n",
              "  </tbody>\n",
              "</table>\n",
              "</div>"
            ],
            "text/plain": [
              "           n  outliers         r  ...    adj_r2     p-val     power\n",
              "shepherd  30         1  0.561084  ...  0.264061  0.001543  0.916576\n",
              "\n",
              "[1 rows x 8 columns]"
            ]
          },
          "metadata": {
            "tags": []
          },
          "execution_count": 68
        }
      ]
    },
    {
      "cell_type": "code",
      "metadata": {
        "id": "DWCInyEY1ADo",
        "colab_type": "code",
        "colab": {
          "base_uri": "https://localhost:8080/",
          "height": 97
        },
        "outputId": "09c59863-7463-45c0-8856-73db4885f1d7"
      },
      "source": [
        "# 4. Test the normality of the data\n",
        "display(pg.normality(x))                                    # Univariate normality\n",
        "pg.multivariate_normality(np.column_stack((x, y))) "
      ],
      "execution_count": null,
      "outputs": [
        {
          "output_type": "display_data",
          "data": {
            "text/html": [
              "<div>\n",
              "<style scoped>\n",
              "    .dataframe tbody tr th:only-of-type {\n",
              "        vertical-align: middle;\n",
              "    }\n",
              "\n",
              "    .dataframe tbody tr th {\n",
              "        vertical-align: top;\n",
              "    }\n",
              "\n",
              "    .dataframe thead th {\n",
              "        text-align: right;\n",
              "    }\n",
              "</style>\n",
              "<table border=\"1\" class=\"dataframe\">\n",
              "  <thead>\n",
              "    <tr style=\"text-align: right;\">\n",
              "      <th></th>\n",
              "      <th>W</th>\n",
              "      <th>pval</th>\n",
              "      <th>normal</th>\n",
              "    </tr>\n",
              "  </thead>\n",
              "  <tbody>\n",
              "    <tr>\n",
              "      <th>0</th>\n",
              "      <td>0.615321</td>\n",
              "      <td>1.128503e-07</td>\n",
              "      <td>False</td>\n",
              "    </tr>\n",
              "  </tbody>\n",
              "</table>\n",
              "</div>"
            ],
            "text/plain": [
              "          W          pval  normal\n",
              "0  0.615321  1.128503e-07   False"
            ]
          },
          "metadata": {
            "tags": []
          }
        },
        {
          "output_type": "execute_result",
          "data": {
            "text/plain": [
              "HZResults(hz=1.6967733646126617, pval=0.00018201726664169923, normal=False)"
            ]
          },
          "metadata": {
            "tags": []
          },
          "execution_count": 69
        }
      ]
    },
    {
      "cell_type": "markdown",
      "metadata": {
        "id": "_YYLd4Z91G_a",
        "colab_type": "text"
      },
      "source": [
        "## 5. One-way ANOVA using a pandas DataFrame"
      ]
    },
    {
      "cell_type": "code",
      "metadata": {
        "id": "PQL65XXE1DFw",
        "colab_type": "code",
        "colab": {
          "base_uri": "https://localhost:8080/",
          "height": 419
        },
        "outputId": "1b263ec3-b174-4db8-917c-4f149db59c50"
      },
      "source": [
        "# Read an example dataset\n",
        "df = pg.read_dataset('mixed_anova')\n",
        "df"
      ],
      "execution_count": null,
      "outputs": [
        {
          "output_type": "execute_result",
          "data": {
            "text/html": [
              "<div>\n",
              "<style scoped>\n",
              "    .dataframe tbody tr th:only-of-type {\n",
              "        vertical-align: middle;\n",
              "    }\n",
              "\n",
              "    .dataframe tbody tr th {\n",
              "        vertical-align: top;\n",
              "    }\n",
              "\n",
              "    .dataframe thead th {\n",
              "        text-align: right;\n",
              "    }\n",
              "</style>\n",
              "<table border=\"1\" class=\"dataframe\">\n",
              "  <thead>\n",
              "    <tr style=\"text-align: right;\">\n",
              "      <th></th>\n",
              "      <th>Scores</th>\n",
              "      <th>Time</th>\n",
              "      <th>Group</th>\n",
              "      <th>Subject</th>\n",
              "    </tr>\n",
              "  </thead>\n",
              "  <tbody>\n",
              "    <tr>\n",
              "      <th>0</th>\n",
              "      <td>5.971435</td>\n",
              "      <td>August</td>\n",
              "      <td>Control</td>\n",
              "      <td>0</td>\n",
              "    </tr>\n",
              "    <tr>\n",
              "      <th>1</th>\n",
              "      <td>4.309024</td>\n",
              "      <td>August</td>\n",
              "      <td>Control</td>\n",
              "      <td>1</td>\n",
              "    </tr>\n",
              "    <tr>\n",
              "      <th>2</th>\n",
              "      <td>6.932707</td>\n",
              "      <td>August</td>\n",
              "      <td>Control</td>\n",
              "      <td>2</td>\n",
              "    </tr>\n",
              "    <tr>\n",
              "      <th>3</th>\n",
              "      <td>5.187348</td>\n",
              "      <td>August</td>\n",
              "      <td>Control</td>\n",
              "      <td>3</td>\n",
              "    </tr>\n",
              "    <tr>\n",
              "      <th>4</th>\n",
              "      <td>4.779411</td>\n",
              "      <td>August</td>\n",
              "      <td>Control</td>\n",
              "      <td>4</td>\n",
              "    </tr>\n",
              "    <tr>\n",
              "      <th>...</th>\n",
              "      <td>...</td>\n",
              "      <td>...</td>\n",
              "      <td>...</td>\n",
              "      <td>...</td>\n",
              "    </tr>\n",
              "    <tr>\n",
              "      <th>175</th>\n",
              "      <td>6.176981</td>\n",
              "      <td>June</td>\n",
              "      <td>Meditation</td>\n",
              "      <td>55</td>\n",
              "    </tr>\n",
              "    <tr>\n",
              "      <th>176</th>\n",
              "      <td>8.523692</td>\n",
              "      <td>June</td>\n",
              "      <td>Meditation</td>\n",
              "      <td>56</td>\n",
              "    </tr>\n",
              "    <tr>\n",
              "      <th>177</th>\n",
              "      <td>6.522273</td>\n",
              "      <td>June</td>\n",
              "      <td>Meditation</td>\n",
              "      <td>57</td>\n",
              "    </tr>\n",
              "    <tr>\n",
              "      <th>178</th>\n",
              "      <td>4.990568</td>\n",
              "      <td>June</td>\n",
              "      <td>Meditation</td>\n",
              "      <td>58</td>\n",
              "    </tr>\n",
              "    <tr>\n",
              "      <th>179</th>\n",
              "      <td>7.822986</td>\n",
              "      <td>June</td>\n",
              "      <td>Meditation</td>\n",
              "      <td>59</td>\n",
              "    </tr>\n",
              "  </tbody>\n",
              "</table>\n",
              "<p>180 rows × 4 columns</p>\n",
              "</div>"
            ],
            "text/plain": [
              "       Scores    Time       Group  Subject\n",
              "0    5.971435  August     Control        0\n",
              "1    4.309024  August     Control        1\n",
              "2    6.932707  August     Control        2\n",
              "3    5.187348  August     Control        3\n",
              "4    4.779411  August     Control        4\n",
              "..        ...     ...         ...      ...\n",
              "175  6.176981    June  Meditation       55\n",
              "176  8.523692    June  Meditation       56\n",
              "177  6.522273    June  Meditation       57\n",
              "178  4.990568    June  Meditation       58\n",
              "179  7.822986    June  Meditation       59\n",
              "\n",
              "[180 rows x 4 columns]"
            ]
          },
          "metadata": {
            "tags": []
          },
          "execution_count": 70
        }
      ]
    },
    {
      "cell_type": "code",
      "metadata": {
        "id": "HuKD_HU71Iay",
        "colab_type": "code",
        "colab": {
          "base_uri": "https://localhost:8080/",
          "height": 111
        },
        "outputId": "f957efbd-771b-43f2-e744-37ac5b7cfd60"
      },
      "source": [
        "# Run the ANOVA\n",
        "aov = pg.anova(data=df, dv='Scores', between='Group', detailed=True)\n",
        "aov"
      ],
      "execution_count": null,
      "outputs": [
        {
          "output_type": "execute_result",
          "data": {
            "text/html": [
              "<div>\n",
              "<style scoped>\n",
              "    .dataframe tbody tr th:only-of-type {\n",
              "        vertical-align: middle;\n",
              "    }\n",
              "\n",
              "    .dataframe tbody tr th {\n",
              "        vertical-align: top;\n",
              "    }\n",
              "\n",
              "    .dataframe thead th {\n",
              "        text-align: right;\n",
              "    }\n",
              "</style>\n",
              "<table border=\"1\" class=\"dataframe\">\n",
              "  <thead>\n",
              "    <tr style=\"text-align: right;\">\n",
              "      <th></th>\n",
              "      <th>Source</th>\n",
              "      <th>SS</th>\n",
              "      <th>DF</th>\n",
              "      <th>MS</th>\n",
              "      <th>F</th>\n",
              "      <th>p-unc</th>\n",
              "      <th>np2</th>\n",
              "    </tr>\n",
              "  </thead>\n",
              "  <tbody>\n",
              "    <tr>\n",
              "      <th>0</th>\n",
              "      <td>Group</td>\n",
              "      <td>5.459963</td>\n",
              "      <td>1</td>\n",
              "      <td>5.459963</td>\n",
              "      <td>5.243656</td>\n",
              "      <td>0.0232</td>\n",
              "      <td>0.028616</td>\n",
              "    </tr>\n",
              "    <tr>\n",
              "      <th>1</th>\n",
              "      <td>Within</td>\n",
              "      <td>185.342729</td>\n",
              "      <td>178</td>\n",
              "      <td>1.041251</td>\n",
              "      <td>NaN</td>\n",
              "      <td>NaN</td>\n",
              "      <td>NaN</td>\n",
              "    </tr>\n",
              "  </tbody>\n",
              "</table>\n",
              "</div>"
            ],
            "text/plain": [
              "   Source          SS   DF        MS         F   p-unc       np2\n",
              "0   Group    5.459963    1  5.459963  5.243656  0.0232  0.028616\n",
              "1  Within  185.342729  178  1.041251       NaN     NaN       NaN"
            ]
          },
          "metadata": {
            "tags": []
          },
          "execution_count": 71
        }
      ]
    },
    {
      "cell_type": "markdown",
      "metadata": {
        "id": "6C25wPDv1Of-",
        "colab_type": "text"
      },
      "source": [
        "## 6. Repeated measures ANOVA"
      ]
    },
    {
      "cell_type": "code",
      "metadata": {
        "id": "fym8PWZh1Lxl",
        "colab_type": "code",
        "colab": {
          "base_uri": "https://localhost:8080/",
          "height": 111
        },
        "outputId": "25b0f423-ae82-411d-e8e8-31faa9dff2e9"
      },
      "source": [
        "pg.rm_anova(data=df, dv='Scores', within='Time', subject='Subject', detailed=True)"
      ],
      "execution_count": null,
      "outputs": [
        {
          "output_type": "execute_result",
          "data": {
            "text/html": [
              "<div>\n",
              "<style scoped>\n",
              "    .dataframe tbody tr th:only-of-type {\n",
              "        vertical-align: middle;\n",
              "    }\n",
              "\n",
              "    .dataframe tbody tr th {\n",
              "        vertical-align: top;\n",
              "    }\n",
              "\n",
              "    .dataframe thead th {\n",
              "        text-align: right;\n",
              "    }\n",
              "</style>\n",
              "<table border=\"1\" class=\"dataframe\">\n",
              "  <thead>\n",
              "    <tr style=\"text-align: right;\">\n",
              "      <th></th>\n",
              "      <th>Source</th>\n",
              "      <th>SS</th>\n",
              "      <th>DF</th>\n",
              "      <th>MS</th>\n",
              "      <th>F</th>\n",
              "      <th>p-unc</th>\n",
              "      <th>np2</th>\n",
              "      <th>eps</th>\n",
              "    </tr>\n",
              "  </thead>\n",
              "  <tbody>\n",
              "    <tr>\n",
              "      <th>0</th>\n",
              "      <td>Time</td>\n",
              "      <td>7.628428</td>\n",
              "      <td>2</td>\n",
              "      <td>3.814214</td>\n",
              "      <td>3.912796</td>\n",
              "      <td>0.022629</td>\n",
              "      <td>0.062194</td>\n",
              "      <td>0.998751</td>\n",
              "    </tr>\n",
              "    <tr>\n",
              "      <th>1</th>\n",
              "      <td>Error</td>\n",
              "      <td>115.027023</td>\n",
              "      <td>118</td>\n",
              "      <td>0.974805</td>\n",
              "      <td>NaN</td>\n",
              "      <td>NaN</td>\n",
              "      <td>NaN</td>\n",
              "      <td>NaN</td>\n",
              "    </tr>\n",
              "  </tbody>\n",
              "</table>\n",
              "</div>"
            ],
            "text/plain": [
              "  Source          SS   DF        MS         F     p-unc       np2       eps\n",
              "0   Time    7.628428    2  3.814214  3.912796  0.022629  0.062194  0.998751\n",
              "1  Error  115.027023  118  0.974805       NaN       NaN       NaN       NaN"
            ]
          },
          "metadata": {
            "tags": []
          },
          "execution_count": 72
        }
      ]
    },
    {
      "cell_type": "markdown",
      "metadata": {
        "id": "BqtL4LMa1vst",
        "colab_type": "text"
      },
      "source": [
        "he detailed ANOVA summary table includes the following columns:\n",
        "\n",
        "- SS : sums of squares\n",
        "- DF : degrees of freedom\n",
        "- MS : mean squares (= SS / DF)\n",
        "- F : F-value (test statistic)\n",
        "- p-unc : uncorrected p-values\n",
        "- np2 : partial eta-square effect size *\n",
        "\n",
        "In one-way ANOVA, partial eta-square is the same as eta-square and generalized eta-square.\n",
        "\n",
        "In the example above, there is a main effect of group (F(3, 15) = 6.79, p = .004)), so we can reject the null hypothesis that the groups have equal means."
      ]
    },
    {
      "cell_type": "markdown",
      "metadata": {
        "id": "p49aDNR_2LT8",
        "colab_type": "text"
      },
      "source": [
        "## 8. Post-hoc tests corrected for multiple-comparisons"
      ]
    },
    {
      "cell_type": "code",
      "metadata": {
        "id": "u8_7CmvX2Pj2",
        "colab_type": "code",
        "colab": {
          "base_uri": "https://localhost:8080/",
          "height": 204
        },
        "outputId": "ae41696f-31f2-4a2f-f79d-00c0ced3bc79"
      },
      "source": [
        "df.head()"
      ],
      "execution_count": null,
      "outputs": [
        {
          "output_type": "execute_result",
          "data": {
            "text/html": [
              "<div>\n",
              "<style scoped>\n",
              "    .dataframe tbody tr th:only-of-type {\n",
              "        vertical-align: middle;\n",
              "    }\n",
              "\n",
              "    .dataframe tbody tr th {\n",
              "        vertical-align: top;\n",
              "    }\n",
              "\n",
              "    .dataframe thead th {\n",
              "        text-align: right;\n",
              "    }\n",
              "</style>\n",
              "<table border=\"1\" class=\"dataframe\">\n",
              "  <thead>\n",
              "    <tr style=\"text-align: right;\">\n",
              "      <th></th>\n",
              "      <th>Scores</th>\n",
              "      <th>Time</th>\n",
              "      <th>Group</th>\n",
              "      <th>Subject</th>\n",
              "    </tr>\n",
              "  </thead>\n",
              "  <tbody>\n",
              "    <tr>\n",
              "      <th>0</th>\n",
              "      <td>5.971435</td>\n",
              "      <td>August</td>\n",
              "      <td>Control</td>\n",
              "      <td>0</td>\n",
              "    </tr>\n",
              "    <tr>\n",
              "      <th>1</th>\n",
              "      <td>4.309024</td>\n",
              "      <td>August</td>\n",
              "      <td>Control</td>\n",
              "      <td>1</td>\n",
              "    </tr>\n",
              "    <tr>\n",
              "      <th>2</th>\n",
              "      <td>6.932707</td>\n",
              "      <td>August</td>\n",
              "      <td>Control</td>\n",
              "      <td>2</td>\n",
              "    </tr>\n",
              "    <tr>\n",
              "      <th>3</th>\n",
              "      <td>5.187348</td>\n",
              "      <td>August</td>\n",
              "      <td>Control</td>\n",
              "      <td>3</td>\n",
              "    </tr>\n",
              "    <tr>\n",
              "      <th>4</th>\n",
              "      <td>4.779411</td>\n",
              "      <td>August</td>\n",
              "      <td>Control</td>\n",
              "      <td>4</td>\n",
              "    </tr>\n",
              "  </tbody>\n",
              "</table>\n",
              "</div>"
            ],
            "text/plain": [
              "     Scores    Time    Group  Subject\n",
              "0  5.971435  August  Control        0\n",
              "1  4.309024  August  Control        1\n",
              "2  6.932707  August  Control        2\n",
              "3  5.187348  August  Control        3\n",
              "4  4.779411  August  Control        4"
            ]
          },
          "metadata": {
            "tags": []
          },
          "execution_count": 74
        }
      ]
    },
    {
      "cell_type": "code",
      "metadata": {
        "id": "Q3-G7lYG1QTm",
        "colab_type": "code",
        "colab": {
          "base_uri": "https://localhost:8080/",
          "height": 224
        },
        "outputId": "f39ce703-c365-427b-bc98-01e512bb21ab"
      },
      "source": [
        "# FDR-corrected post hocs with Hedges'g effect size\n",
        "posthoc = pg.pairwise_ttests(data=df, dv='Scores', within='Time', subject='Subject',\n",
        "                             parametric=True, padjust='fdr_bh', effsize='hedges')\n",
        "\n",
        "# Pretty printing of table\n",
        "pg.print_table(posthoc, floatfmt='.3f')"
      ],
      "execution_count": null,
      "outputs": [
        {
          "output_type": "stream",
          "text": [
            "\n",
            "==============\n",
            "POST HOC TESTS\n",
            "==============\n",
            "\n",
            "Contrast    A        B        Paired    Parametric         T     dof  Tail         p-unc    p-corr  p-adjust      BF10    hedges\n",
            "----------  -------  -------  --------  ------------  ------  ------  ---------  -------  --------  ----------  ------  --------\n",
            "Time        August   January  True      True          -1.740  59.000  two-sided    0.087     0.131  fdr_bh       0.582    -0.328\n",
            "Time        August   June     True      True          -2.743  59.000  two-sided    0.008     0.024  fdr_bh       4.232    -0.483\n",
            "Time        January  June     True      True          -1.024  59.000  two-sided    0.310     0.310  fdr_bh       0.232    -0.170\n",
            "\n"
          ],
          "name": "stdout"
        }
      ]
    },
    {
      "cell_type": "markdown",
      "metadata": {
        "id": "0lN2HnVm2aSI",
        "colab_type": "text"
      },
      "source": [
        "## 9. Two-way mixed ANOVA"
      ]
    },
    {
      "cell_type": "code",
      "metadata": {
        "id": "2If8Ib1J2JM4",
        "colab_type": "code",
        "colab": {
          "base_uri": "https://localhost:8080/",
          "height": 204
        },
        "outputId": "7cbd19d9-a380-49bb-cbf8-461759e071d8"
      },
      "source": [
        "# Compute the two-way mixed ANOVA and export to a .csv file\n",
        "aov = pg.mixed_anova(data=df, dv='Scores', between='Group', within='Time',\n",
        "                     subject='Subject', correction=False, effsize=\"np2\")\n",
        "pg.print_table(aov)"
      ],
      "execution_count": null,
      "outputs": [
        {
          "output_type": "stream",
          "text": [
            "\n",
            "=============\n",
            "ANOVA SUMMARY\n",
            "=============\n",
            "\n",
            "Source          SS    DF1    DF2     MS      F    p-unc    np2      eps\n",
            "-----------  -----  -----  -----  -----  -----  -------  -----  -------\n",
            "Group        5.460      1     58  5.460  5.052    0.028  0.080  nan\n",
            "Time         7.628      2    116  3.814  4.027    0.020  0.065    0.999\n",
            "Interaction  5.167      2    116  2.584  2.728    0.070  0.045  nan\n",
            "\n"
          ],
          "name": "stdout"
        }
      ]
    },
    {
      "cell_type": "markdown",
      "metadata": {
        "id": "R6wZstpDFmzJ",
        "colab_type": "text"
      },
      "source": [
        "# Apply ANOVA to Sonion data (Gage RnR)"
      ]
    },
    {
      "cell_type": "markdown",
      "metadata": {
        "id": "JY5l0IsVL3L7",
        "colab_type": "text"
      },
      "source": [
        "## Import data"
      ]
    },
    {
      "cell_type": "code",
      "metadata": {
        "id": "5AuaAokJ2Yxz",
        "colab_type": "code",
        "colab": {}
      },
      "source": [
        "import pandas as pd\n",
        "import numpy as np\n",
        "import matplotlib.pyplot as plt\n",
        "import seaborn as sns; sns.set()"
      ],
      "execution_count": 52,
      "outputs": []
    },
    {
      "cell_type": "code",
      "metadata": {
        "id": "nX_5tsfCH33m",
        "colab_type": "code",
        "colab": {
          "base_uri": "https://localhost:8080/",
          "height": 796
        },
        "outputId": "4c3f825b-5017-4fa3-b38f-26b14922bb11"
      },
      "source": [
        "path='https://github.com/duybluemind1988/Data-science/blob/master/Data/Raw%20data%20for%20python%20RnR.xlsx?raw=true'\n",
        "df=pd.read_excel(path)\n",
        "df"
      ],
      "execution_count": 53,
      "outputs": [
        {
          "output_type": "execute_result",
          "data": {
            "text/html": [
              "<div>\n",
              "<style scoped>\n",
              "    .dataframe tbody tr th:only-of-type {\n",
              "        vertical-align: middle;\n",
              "    }\n",
              "\n",
              "    .dataframe tbody tr th {\n",
              "        vertical-align: top;\n",
              "    }\n",
              "\n",
              "    .dataframe thead th {\n",
              "        text-align: right;\n",
              "    }\n",
              "</style>\n",
              "<table border=\"1\" class=\"dataframe\">\n",
              "  <thead>\n",
              "    <tr style=\"text-align: right;\">\n",
              "      <th></th>\n",
              "      <th>Norm file</th>\n",
              "      <th>ID</th>\n",
              "      <th>Sensitivity</th>\n",
              "      <th>Time</th>\n",
              "      <th>Unnamed: 4</th>\n",
              "      <th>Unnamed: 5</th>\n",
              "      <th>Unnamed: 6</th>\n",
              "      <th>THD 1</th>\n",
              "      <th>Unnamed: 8</th>\n",
              "      <th>Unnamed: 9</th>\n",
              "      <th>THD 2</th>\n",
              "      <th>Unnamed: 11</th>\n",
              "      <th>Unnamed: 12</th>\n",
              "      <th>THD3</th>\n",
              "      <th>Unnamed: 14</th>\n",
              "      <th>Unnamed: 15</th>\n",
              "      <th>THD4</th>\n",
              "      <th>Unnamed: 17</th>\n",
              "      <th>Unnamed: 18</th>\n",
              "      <th>Unnamed: 19</th>\n",
              "      <th>Unnamed: 20</th>\n",
              "      <th>Unnamed: 21</th>\n",
              "      <th>Unnamed: 22</th>\n",
              "      <th>Unnamed: 23</th>\n",
              "      <th>Unnamed: 24</th>\n",
              "      <th>Unnamed: 25</th>\n",
              "      <th>Unnamed: 26</th>\n",
              "      <th>Unnamed: 27</th>\n",
              "      <th>Unnamed: 28</th>\n",
              "      <th>Rubbing</th>\n",
              "      <th>Unnamed: 30</th>\n",
              "      <th>Unnamed: 31</th>\n",
              "      <th>Unnamed: 32</th>\n",
              "      <th>Unnamed: 33</th>\n",
              "      <th>Unnamed: 34</th>\n",
              "      <th>Unnamed: 35</th>\n",
              "      <th>Unnamed: 36</th>\n",
              "      <th>Phase</th>\n",
              "      <th>SSPL 1</th>\n",
              "      <th>SSPL 2</th>\n",
              "      <th>...</th>\n",
              "      <th>SPL 13</th>\n",
              "      <th>Unnamed: 94</th>\n",
              "      <th>FREQ 14</th>\n",
              "      <th>SPL 14</th>\n",
              "      <th>Unnamed: 97</th>\n",
              "      <th>FREQ 15</th>\n",
              "      <th>SPL 15</th>\n",
              "      <th>Unnamed: 100</th>\n",
              "      <th>FREQ 16</th>\n",
              "      <th>SPL 16</th>\n",
              "      <th>Unnamed: 103</th>\n",
              "      <th>FREQ 17</th>\n",
              "      <th>SPL 17</th>\n",
              "      <th>Unnamed: 106</th>\n",
              "      <th>FREQ 18</th>\n",
              "      <th>SPL 18</th>\n",
              "      <th>FREQ 19</th>\n",
              "      <th>SPL 19</th>\n",
              "      <th>FREQ 20</th>\n",
              "      <th>Unnamed: 112</th>\n",
              "      <th>Unnamed: 113</th>\n",
              "      <th>Unnamed: 114</th>\n",
              "      <th>Unnamed: 115</th>\n",
              "      <th>Unnamed: 116</th>\n",
              "      <th>Unnamed: 117</th>\n",
              "      <th>Unnamed: 118</th>\n",
              "      <th>Unnamed: 119</th>\n",
              "      <th>Unnamed: 120</th>\n",
              "      <th>Unnamed: 121</th>\n",
              "      <th>Unnamed: 122</th>\n",
              "      <th>Unnamed: 123</th>\n",
              "      <th>Unnamed: 124</th>\n",
              "      <th>Unnamed: 125</th>\n",
              "      <th>Unnamed: 126</th>\n",
              "      <th>Unnamed: 127</th>\n",
              "      <th>Unnamed: 128</th>\n",
              "      <th>Unnamed: 129</th>\n",
              "      <th>Unnamed: 130</th>\n",
              "      <th>Unnamed: 131</th>\n",
              "      <th>Unnamed: 132</th>\n",
              "    </tr>\n",
              "  </thead>\n",
              "  <tbody>\n",
              "    <tr>\n",
              "      <th>0</th>\n",
              "      <td>2323</td>\n",
              "      <td>10</td>\n",
              "      <td>0.0128</td>\n",
              "      <td>2019-03-05 13:23:41</td>\n",
              "      <td>1</td>\n",
              "      <td>0</td>\n",
              "      <td>850</td>\n",
              "      <td>2.77</td>\n",
              "      <td>0</td>\n",
              "      <td>1300</td>\n",
              "      <td>2.07</td>\n",
              "      <td>0</td>\n",
              "      <td>0</td>\n",
              "      <td>0</td>\n",
              "      <td>0</td>\n",
              "      <td>0</td>\n",
              "      <td>0</td>\n",
              "      <td>0</td>\n",
              "      <td>0</td>\n",
              "      <td>0</td>\n",
              "      <td>0</td>\n",
              "      <td>0</td>\n",
              "      <td>0</td>\n",
              "      <td>0</td>\n",
              "      <td>0</td>\n",
              "      <td>0</td>\n",
              "      <td>0</td>\n",
              "      <td>0</td>\n",
              "      <td>0</td>\n",
              "      <td>63.33</td>\n",
              "      <td>0</td>\n",
              "      <td>0</td>\n",
              "      <td>0</td>\n",
              "      <td>0</td>\n",
              "      <td>0</td>\n",
              "      <td>0</td>\n",
              "      <td>0</td>\n",
              "      <td>-8.82</td>\n",
              "      <td>0</td>\n",
              "      <td>0</td>\n",
              "      <td>...</td>\n",
              "      <td>0</td>\n",
              "      <td>-1</td>\n",
              "      <td>0</td>\n",
              "      <td>0</td>\n",
              "      <td>-1</td>\n",
              "      <td>0</td>\n",
              "      <td>0</td>\n",
              "      <td>-1</td>\n",
              "      <td>0</td>\n",
              "      <td>0</td>\n",
              "      <td>-1</td>\n",
              "      <td>0</td>\n",
              "      <td>0</td>\n",
              "      <td>-1</td>\n",
              "      <td>0</td>\n",
              "      <td>0</td>\n",
              "      <td>-1</td>\n",
              "      <td>0</td>\n",
              "      <td>0</td>\n",
              "      <td>-1</td>\n",
              "      <td>0</td>\n",
              "      <td>1</td>\n",
              "      <td>0</td>\n",
              "      <td>0</td>\n",
              "      <td>0</td>\n",
              "      <td>0</td>\n",
              "      <td>0</td>\n",
              "      <td>0</td>\n",
              "      <td>0</td>\n",
              "      <td>0</td>\n",
              "      <td>0</td>\n",
              "      <td>0</td>\n",
              "      <td>0</td>\n",
              "      <td>0</td>\n",
              "      <td>0</td>\n",
              "      <td>0</td>\n",
              "      <td>0</td>\n",
              "      <td>0</td>\n",
              "      <td>0</td>\n",
              "      <td>0</td>\n",
              "    </tr>\n",
              "    <tr>\n",
              "      <th>1</th>\n",
              "      <td>2323</td>\n",
              "      <td>10</td>\n",
              "      <td>0.0128</td>\n",
              "      <td>2019-03-05 13:23:53</td>\n",
              "      <td>1</td>\n",
              "      <td>0</td>\n",
              "      <td>850</td>\n",
              "      <td>2.83</td>\n",
              "      <td>0</td>\n",
              "      <td>1300</td>\n",
              "      <td>1.94</td>\n",
              "      <td>0</td>\n",
              "      <td>0</td>\n",
              "      <td>0</td>\n",
              "      <td>0</td>\n",
              "      <td>0</td>\n",
              "      <td>0</td>\n",
              "      <td>0</td>\n",
              "      <td>0</td>\n",
              "      <td>0</td>\n",
              "      <td>0</td>\n",
              "      <td>0</td>\n",
              "      <td>0</td>\n",
              "      <td>0</td>\n",
              "      <td>0</td>\n",
              "      <td>0</td>\n",
              "      <td>0</td>\n",
              "      <td>0</td>\n",
              "      <td>0</td>\n",
              "      <td>61.71</td>\n",
              "      <td>0</td>\n",
              "      <td>0</td>\n",
              "      <td>0</td>\n",
              "      <td>0</td>\n",
              "      <td>0</td>\n",
              "      <td>0</td>\n",
              "      <td>0</td>\n",
              "      <td>-7.53</td>\n",
              "      <td>0</td>\n",
              "      <td>0</td>\n",
              "      <td>...</td>\n",
              "      <td>0</td>\n",
              "      <td>-1</td>\n",
              "      <td>0</td>\n",
              "      <td>0</td>\n",
              "      <td>-1</td>\n",
              "      <td>0</td>\n",
              "      <td>0</td>\n",
              "      <td>-1</td>\n",
              "      <td>0</td>\n",
              "      <td>0</td>\n",
              "      <td>-1</td>\n",
              "      <td>0</td>\n",
              "      <td>0</td>\n",
              "      <td>-1</td>\n",
              "      <td>0</td>\n",
              "      <td>0</td>\n",
              "      <td>-1</td>\n",
              "      <td>0</td>\n",
              "      <td>0</td>\n",
              "      <td>-1</td>\n",
              "      <td>0</td>\n",
              "      <td>1</td>\n",
              "      <td>0</td>\n",
              "      <td>0</td>\n",
              "      <td>0</td>\n",
              "      <td>0</td>\n",
              "      <td>0</td>\n",
              "      <td>0</td>\n",
              "      <td>0</td>\n",
              "      <td>0</td>\n",
              "      <td>0</td>\n",
              "      <td>0</td>\n",
              "      <td>0</td>\n",
              "      <td>0</td>\n",
              "      <td>0</td>\n",
              "      <td>0</td>\n",
              "      <td>0</td>\n",
              "      <td>0</td>\n",
              "      <td>0</td>\n",
              "      <td>0</td>\n",
              "    </tr>\n",
              "    <tr>\n",
              "      <th>2</th>\n",
              "      <td>2323</td>\n",
              "      <td>10</td>\n",
              "      <td>0.0128</td>\n",
              "      <td>2019-03-05 13:24:14</td>\n",
              "      <td>1</td>\n",
              "      <td>0</td>\n",
              "      <td>850</td>\n",
              "      <td>3.08</td>\n",
              "      <td>0</td>\n",
              "      <td>1300</td>\n",
              "      <td>2.85</td>\n",
              "      <td>0</td>\n",
              "      <td>0</td>\n",
              "      <td>0</td>\n",
              "      <td>0</td>\n",
              "      <td>0</td>\n",
              "      <td>0</td>\n",
              "      <td>0</td>\n",
              "      <td>0</td>\n",
              "      <td>0</td>\n",
              "      <td>0</td>\n",
              "      <td>0</td>\n",
              "      <td>0</td>\n",
              "      <td>0</td>\n",
              "      <td>0</td>\n",
              "      <td>0</td>\n",
              "      <td>0</td>\n",
              "      <td>0</td>\n",
              "      <td>0</td>\n",
              "      <td>58.04</td>\n",
              "      <td>0</td>\n",
              "      <td>0</td>\n",
              "      <td>0</td>\n",
              "      <td>0</td>\n",
              "      <td>0</td>\n",
              "      <td>0</td>\n",
              "      <td>0</td>\n",
              "      <td>-10.39</td>\n",
              "      <td>0</td>\n",
              "      <td>0</td>\n",
              "      <td>...</td>\n",
              "      <td>0</td>\n",
              "      <td>-1</td>\n",
              "      <td>0</td>\n",
              "      <td>0</td>\n",
              "      <td>-1</td>\n",
              "      <td>0</td>\n",
              "      <td>0</td>\n",
              "      <td>-1</td>\n",
              "      <td>0</td>\n",
              "      <td>0</td>\n",
              "      <td>-1</td>\n",
              "      <td>0</td>\n",
              "      <td>0</td>\n",
              "      <td>-1</td>\n",
              "      <td>0</td>\n",
              "      <td>0</td>\n",
              "      <td>-1</td>\n",
              "      <td>0</td>\n",
              "      <td>0</td>\n",
              "      <td>-1</td>\n",
              "      <td>0</td>\n",
              "      <td>1</td>\n",
              "      <td>0</td>\n",
              "      <td>0</td>\n",
              "      <td>0</td>\n",
              "      <td>0</td>\n",
              "      <td>0</td>\n",
              "      <td>0</td>\n",
              "      <td>0</td>\n",
              "      <td>0</td>\n",
              "      <td>0</td>\n",
              "      <td>0</td>\n",
              "      <td>0</td>\n",
              "      <td>0</td>\n",
              "      <td>0</td>\n",
              "      <td>0</td>\n",
              "      <td>0</td>\n",
              "      <td>0</td>\n",
              "      <td>0</td>\n",
              "      <td>0</td>\n",
              "    </tr>\n",
              "    <tr>\n",
              "      <th>3</th>\n",
              "      <td>2323</td>\n",
              "      <td>10</td>\n",
              "      <td>0.0128</td>\n",
              "      <td>2019-03-05 13:24:29</td>\n",
              "      <td>1</td>\n",
              "      <td>0</td>\n",
              "      <td>850</td>\n",
              "      <td>2.69</td>\n",
              "      <td>0</td>\n",
              "      <td>1300</td>\n",
              "      <td>2.21</td>\n",
              "      <td>0</td>\n",
              "      <td>0</td>\n",
              "      <td>0</td>\n",
              "      <td>0</td>\n",
              "      <td>0</td>\n",
              "      <td>0</td>\n",
              "      <td>0</td>\n",
              "      <td>0</td>\n",
              "      <td>0</td>\n",
              "      <td>0</td>\n",
              "      <td>0</td>\n",
              "      <td>0</td>\n",
              "      <td>0</td>\n",
              "      <td>0</td>\n",
              "      <td>0</td>\n",
              "      <td>0</td>\n",
              "      <td>0</td>\n",
              "      <td>0</td>\n",
              "      <td>61.70</td>\n",
              "      <td>0</td>\n",
              "      <td>0</td>\n",
              "      <td>0</td>\n",
              "      <td>0</td>\n",
              "      <td>0</td>\n",
              "      <td>0</td>\n",
              "      <td>0</td>\n",
              "      <td>-9.52</td>\n",
              "      <td>0</td>\n",
              "      <td>0</td>\n",
              "      <td>...</td>\n",
              "      <td>0</td>\n",
              "      <td>-1</td>\n",
              "      <td>0</td>\n",
              "      <td>0</td>\n",
              "      <td>-1</td>\n",
              "      <td>0</td>\n",
              "      <td>0</td>\n",
              "      <td>-1</td>\n",
              "      <td>0</td>\n",
              "      <td>0</td>\n",
              "      <td>-1</td>\n",
              "      <td>0</td>\n",
              "      <td>0</td>\n",
              "      <td>-1</td>\n",
              "      <td>0</td>\n",
              "      <td>0</td>\n",
              "      <td>-1</td>\n",
              "      <td>0</td>\n",
              "      <td>0</td>\n",
              "      <td>-1</td>\n",
              "      <td>0</td>\n",
              "      <td>1</td>\n",
              "      <td>0</td>\n",
              "      <td>0</td>\n",
              "      <td>0</td>\n",
              "      <td>0</td>\n",
              "      <td>0</td>\n",
              "      <td>0</td>\n",
              "      <td>0</td>\n",
              "      <td>0</td>\n",
              "      <td>0</td>\n",
              "      <td>0</td>\n",
              "      <td>0</td>\n",
              "      <td>0</td>\n",
              "      <td>0</td>\n",
              "      <td>0</td>\n",
              "      <td>0</td>\n",
              "      <td>0</td>\n",
              "      <td>0</td>\n",
              "      <td>0</td>\n",
              "    </tr>\n",
              "    <tr>\n",
              "      <th>4</th>\n",
              "      <td>2323</td>\n",
              "      <td>10</td>\n",
              "      <td>0.0128</td>\n",
              "      <td>2019-03-05 13:24:40</td>\n",
              "      <td>1</td>\n",
              "      <td>0</td>\n",
              "      <td>850</td>\n",
              "      <td>2.28</td>\n",
              "      <td>0</td>\n",
              "      <td>1300</td>\n",
              "      <td>2.02</td>\n",
              "      <td>0</td>\n",
              "      <td>0</td>\n",
              "      <td>0</td>\n",
              "      <td>0</td>\n",
              "      <td>0</td>\n",
              "      <td>0</td>\n",
              "      <td>0</td>\n",
              "      <td>0</td>\n",
              "      <td>0</td>\n",
              "      <td>0</td>\n",
              "      <td>0</td>\n",
              "      <td>0</td>\n",
              "      <td>0</td>\n",
              "      <td>0</td>\n",
              "      <td>0</td>\n",
              "      <td>0</td>\n",
              "      <td>0</td>\n",
              "      <td>0</td>\n",
              "      <td>54.15</td>\n",
              "      <td>0</td>\n",
              "      <td>0</td>\n",
              "      <td>0</td>\n",
              "      <td>0</td>\n",
              "      <td>0</td>\n",
              "      <td>0</td>\n",
              "      <td>0</td>\n",
              "      <td>-8.66</td>\n",
              "      <td>0</td>\n",
              "      <td>0</td>\n",
              "      <td>...</td>\n",
              "      <td>0</td>\n",
              "      <td>-1</td>\n",
              "      <td>0</td>\n",
              "      <td>0</td>\n",
              "      <td>-1</td>\n",
              "      <td>0</td>\n",
              "      <td>0</td>\n",
              "      <td>-1</td>\n",
              "      <td>0</td>\n",
              "      <td>0</td>\n",
              "      <td>-1</td>\n",
              "      <td>0</td>\n",
              "      <td>0</td>\n",
              "      <td>-1</td>\n",
              "      <td>0</td>\n",
              "      <td>0</td>\n",
              "      <td>-1</td>\n",
              "      <td>0</td>\n",
              "      <td>0</td>\n",
              "      <td>-1</td>\n",
              "      <td>0</td>\n",
              "      <td>1</td>\n",
              "      <td>0</td>\n",
              "      <td>0</td>\n",
              "      <td>0</td>\n",
              "      <td>0</td>\n",
              "      <td>0</td>\n",
              "      <td>0</td>\n",
              "      <td>0</td>\n",
              "      <td>0</td>\n",
              "      <td>0</td>\n",
              "      <td>0</td>\n",
              "      <td>0</td>\n",
              "      <td>0</td>\n",
              "      <td>0</td>\n",
              "      <td>0</td>\n",
              "      <td>0</td>\n",
              "      <td>0</td>\n",
              "      <td>0</td>\n",
              "      <td>0</td>\n",
              "    </tr>\n",
              "    <tr>\n",
              "      <th>...</th>\n",
              "      <td>...</td>\n",
              "      <td>...</td>\n",
              "      <td>...</td>\n",
              "      <td>...</td>\n",
              "      <td>...</td>\n",
              "      <td>...</td>\n",
              "      <td>...</td>\n",
              "      <td>...</td>\n",
              "      <td>...</td>\n",
              "      <td>...</td>\n",
              "      <td>...</td>\n",
              "      <td>...</td>\n",
              "      <td>...</td>\n",
              "      <td>...</td>\n",
              "      <td>...</td>\n",
              "      <td>...</td>\n",
              "      <td>...</td>\n",
              "      <td>...</td>\n",
              "      <td>...</td>\n",
              "      <td>...</td>\n",
              "      <td>...</td>\n",
              "      <td>...</td>\n",
              "      <td>...</td>\n",
              "      <td>...</td>\n",
              "      <td>...</td>\n",
              "      <td>...</td>\n",
              "      <td>...</td>\n",
              "      <td>...</td>\n",
              "      <td>...</td>\n",
              "      <td>...</td>\n",
              "      <td>...</td>\n",
              "      <td>...</td>\n",
              "      <td>...</td>\n",
              "      <td>...</td>\n",
              "      <td>...</td>\n",
              "      <td>...</td>\n",
              "      <td>...</td>\n",
              "      <td>...</td>\n",
              "      <td>...</td>\n",
              "      <td>...</td>\n",
              "      <td>...</td>\n",
              "      <td>...</td>\n",
              "      <td>...</td>\n",
              "      <td>...</td>\n",
              "      <td>...</td>\n",
              "      <td>...</td>\n",
              "      <td>...</td>\n",
              "      <td>...</td>\n",
              "      <td>...</td>\n",
              "      <td>...</td>\n",
              "      <td>...</td>\n",
              "      <td>...</td>\n",
              "      <td>...</td>\n",
              "      <td>...</td>\n",
              "      <td>...</td>\n",
              "      <td>...</td>\n",
              "      <td>...</td>\n",
              "      <td>...</td>\n",
              "      <td>...</td>\n",
              "      <td>...</td>\n",
              "      <td>...</td>\n",
              "      <td>...</td>\n",
              "      <td>...</td>\n",
              "      <td>...</td>\n",
              "      <td>...</td>\n",
              "      <td>...</td>\n",
              "      <td>...</td>\n",
              "      <td>...</td>\n",
              "      <td>...</td>\n",
              "      <td>...</td>\n",
              "      <td>...</td>\n",
              "      <td>...</td>\n",
              "      <td>...</td>\n",
              "      <td>...</td>\n",
              "      <td>...</td>\n",
              "      <td>...</td>\n",
              "      <td>...</td>\n",
              "      <td>...</td>\n",
              "      <td>...</td>\n",
              "      <td>...</td>\n",
              "      <td>...</td>\n",
              "    </tr>\n",
              "    <tr>\n",
              "      <th>85</th>\n",
              "      <td>2323</td>\n",
              "      <td>10</td>\n",
              "      <td>0.0128</td>\n",
              "      <td>2019-03-05 13:46:55</td>\n",
              "      <td>1</td>\n",
              "      <td>0</td>\n",
              "      <td>850</td>\n",
              "      <td>3.02</td>\n",
              "      <td>0</td>\n",
              "      <td>1300</td>\n",
              "      <td>3.05</td>\n",
              "      <td>0</td>\n",
              "      <td>0</td>\n",
              "      <td>0</td>\n",
              "      <td>0</td>\n",
              "      <td>0</td>\n",
              "      <td>0</td>\n",
              "      <td>0</td>\n",
              "      <td>0</td>\n",
              "      <td>0</td>\n",
              "      <td>0</td>\n",
              "      <td>0</td>\n",
              "      <td>0</td>\n",
              "      <td>0</td>\n",
              "      <td>0</td>\n",
              "      <td>0</td>\n",
              "      <td>0</td>\n",
              "      <td>0</td>\n",
              "      <td>0</td>\n",
              "      <td>59.71</td>\n",
              "      <td>0</td>\n",
              "      <td>0</td>\n",
              "      <td>0</td>\n",
              "      <td>0</td>\n",
              "      <td>0</td>\n",
              "      <td>0</td>\n",
              "      <td>0</td>\n",
              "      <td>-9.45</td>\n",
              "      <td>0</td>\n",
              "      <td>0</td>\n",
              "      <td>...</td>\n",
              "      <td>0</td>\n",
              "      <td>-1</td>\n",
              "      <td>0</td>\n",
              "      <td>0</td>\n",
              "      <td>-1</td>\n",
              "      <td>0</td>\n",
              "      <td>0</td>\n",
              "      <td>-1</td>\n",
              "      <td>0</td>\n",
              "      <td>0</td>\n",
              "      <td>-1</td>\n",
              "      <td>0</td>\n",
              "      <td>0</td>\n",
              "      <td>-1</td>\n",
              "      <td>0</td>\n",
              "      <td>0</td>\n",
              "      <td>-1</td>\n",
              "      <td>0</td>\n",
              "      <td>0</td>\n",
              "      <td>-1</td>\n",
              "      <td>0</td>\n",
              "      <td>1</td>\n",
              "      <td>0</td>\n",
              "      <td>0</td>\n",
              "      <td>0</td>\n",
              "      <td>0</td>\n",
              "      <td>0</td>\n",
              "      <td>0</td>\n",
              "      <td>0</td>\n",
              "      <td>0</td>\n",
              "      <td>0</td>\n",
              "      <td>0</td>\n",
              "      <td>0</td>\n",
              "      <td>0</td>\n",
              "      <td>0</td>\n",
              "      <td>0</td>\n",
              "      <td>0</td>\n",
              "      <td>0</td>\n",
              "      <td>0</td>\n",
              "      <td>0</td>\n",
              "    </tr>\n",
              "    <tr>\n",
              "      <th>86</th>\n",
              "      <td>2323</td>\n",
              "      <td>10</td>\n",
              "      <td>0.0128</td>\n",
              "      <td>2019-03-05 13:47:10</td>\n",
              "      <td>1</td>\n",
              "      <td>0</td>\n",
              "      <td>850</td>\n",
              "      <td>3.14</td>\n",
              "      <td>0</td>\n",
              "      <td>1300</td>\n",
              "      <td>2.58</td>\n",
              "      <td>0</td>\n",
              "      <td>0</td>\n",
              "      <td>0</td>\n",
              "      <td>0</td>\n",
              "      <td>0</td>\n",
              "      <td>0</td>\n",
              "      <td>0</td>\n",
              "      <td>0</td>\n",
              "      <td>0</td>\n",
              "      <td>0</td>\n",
              "      <td>0</td>\n",
              "      <td>0</td>\n",
              "      <td>0</td>\n",
              "      <td>0</td>\n",
              "      <td>0</td>\n",
              "      <td>0</td>\n",
              "      <td>0</td>\n",
              "      <td>0</td>\n",
              "      <td>59.57</td>\n",
              "      <td>0</td>\n",
              "      <td>0</td>\n",
              "      <td>0</td>\n",
              "      <td>0</td>\n",
              "      <td>0</td>\n",
              "      <td>0</td>\n",
              "      <td>0</td>\n",
              "      <td>-7.78</td>\n",
              "      <td>0</td>\n",
              "      <td>0</td>\n",
              "      <td>...</td>\n",
              "      <td>0</td>\n",
              "      <td>-1</td>\n",
              "      <td>0</td>\n",
              "      <td>0</td>\n",
              "      <td>-1</td>\n",
              "      <td>0</td>\n",
              "      <td>0</td>\n",
              "      <td>-1</td>\n",
              "      <td>0</td>\n",
              "      <td>0</td>\n",
              "      <td>-1</td>\n",
              "      <td>0</td>\n",
              "      <td>0</td>\n",
              "      <td>-1</td>\n",
              "      <td>0</td>\n",
              "      <td>0</td>\n",
              "      <td>-1</td>\n",
              "      <td>0</td>\n",
              "      <td>0</td>\n",
              "      <td>-1</td>\n",
              "      <td>0</td>\n",
              "      <td>1</td>\n",
              "      <td>0</td>\n",
              "      <td>0</td>\n",
              "      <td>0</td>\n",
              "      <td>0</td>\n",
              "      <td>0</td>\n",
              "      <td>0</td>\n",
              "      <td>0</td>\n",
              "      <td>0</td>\n",
              "      <td>0</td>\n",
              "      <td>0</td>\n",
              "      <td>0</td>\n",
              "      <td>0</td>\n",
              "      <td>0</td>\n",
              "      <td>0</td>\n",
              "      <td>0</td>\n",
              "      <td>0</td>\n",
              "      <td>0</td>\n",
              "      <td>0</td>\n",
              "    </tr>\n",
              "    <tr>\n",
              "      <th>87</th>\n",
              "      <td>2323</td>\n",
              "      <td>10</td>\n",
              "      <td>0.0128</td>\n",
              "      <td>2019-03-05 13:47:24</td>\n",
              "      <td>1</td>\n",
              "      <td>0</td>\n",
              "      <td>850</td>\n",
              "      <td>2.84</td>\n",
              "      <td>0</td>\n",
              "      <td>1300</td>\n",
              "      <td>3.06</td>\n",
              "      <td>0</td>\n",
              "      <td>0</td>\n",
              "      <td>0</td>\n",
              "      <td>0</td>\n",
              "      <td>0</td>\n",
              "      <td>0</td>\n",
              "      <td>0</td>\n",
              "      <td>0</td>\n",
              "      <td>0</td>\n",
              "      <td>0</td>\n",
              "      <td>0</td>\n",
              "      <td>0</td>\n",
              "      <td>0</td>\n",
              "      <td>0</td>\n",
              "      <td>0</td>\n",
              "      <td>0</td>\n",
              "      <td>0</td>\n",
              "      <td>0</td>\n",
              "      <td>63.93</td>\n",
              "      <td>0</td>\n",
              "      <td>0</td>\n",
              "      <td>0</td>\n",
              "      <td>0</td>\n",
              "      <td>0</td>\n",
              "      <td>0</td>\n",
              "      <td>0</td>\n",
              "      <td>-11.19</td>\n",
              "      <td>0</td>\n",
              "      <td>0</td>\n",
              "      <td>...</td>\n",
              "      <td>0</td>\n",
              "      <td>-1</td>\n",
              "      <td>0</td>\n",
              "      <td>0</td>\n",
              "      <td>-1</td>\n",
              "      <td>0</td>\n",
              "      <td>0</td>\n",
              "      <td>-1</td>\n",
              "      <td>0</td>\n",
              "      <td>0</td>\n",
              "      <td>-1</td>\n",
              "      <td>0</td>\n",
              "      <td>0</td>\n",
              "      <td>-1</td>\n",
              "      <td>0</td>\n",
              "      <td>0</td>\n",
              "      <td>-1</td>\n",
              "      <td>0</td>\n",
              "      <td>0</td>\n",
              "      <td>-1</td>\n",
              "      <td>0</td>\n",
              "      <td>1</td>\n",
              "      <td>0</td>\n",
              "      <td>0</td>\n",
              "      <td>0</td>\n",
              "      <td>0</td>\n",
              "      <td>0</td>\n",
              "      <td>0</td>\n",
              "      <td>0</td>\n",
              "      <td>0</td>\n",
              "      <td>0</td>\n",
              "      <td>0</td>\n",
              "      <td>0</td>\n",
              "      <td>0</td>\n",
              "      <td>0</td>\n",
              "      <td>0</td>\n",
              "      <td>0</td>\n",
              "      <td>0</td>\n",
              "      <td>0</td>\n",
              "      <td>0</td>\n",
              "    </tr>\n",
              "    <tr>\n",
              "      <th>88</th>\n",
              "      <td>2323</td>\n",
              "      <td>10</td>\n",
              "      <td>0.0128</td>\n",
              "      <td>2019-03-05 13:47:36</td>\n",
              "      <td>1</td>\n",
              "      <td>0</td>\n",
              "      <td>850</td>\n",
              "      <td>3.11</td>\n",
              "      <td>0</td>\n",
              "      <td>1300</td>\n",
              "      <td>2.75</td>\n",
              "      <td>0</td>\n",
              "      <td>0</td>\n",
              "      <td>0</td>\n",
              "      <td>0</td>\n",
              "      <td>0</td>\n",
              "      <td>0</td>\n",
              "      <td>0</td>\n",
              "      <td>0</td>\n",
              "      <td>0</td>\n",
              "      <td>0</td>\n",
              "      <td>0</td>\n",
              "      <td>0</td>\n",
              "      <td>0</td>\n",
              "      <td>0</td>\n",
              "      <td>0</td>\n",
              "      <td>0</td>\n",
              "      <td>0</td>\n",
              "      <td>0</td>\n",
              "      <td>61.58</td>\n",
              "      <td>0</td>\n",
              "      <td>0</td>\n",
              "      <td>0</td>\n",
              "      <td>0</td>\n",
              "      <td>0</td>\n",
              "      <td>0</td>\n",
              "      <td>0</td>\n",
              "      <td>-8.18</td>\n",
              "      <td>0</td>\n",
              "      <td>0</td>\n",
              "      <td>...</td>\n",
              "      <td>0</td>\n",
              "      <td>-1</td>\n",
              "      <td>0</td>\n",
              "      <td>0</td>\n",
              "      <td>-1</td>\n",
              "      <td>0</td>\n",
              "      <td>0</td>\n",
              "      <td>-1</td>\n",
              "      <td>0</td>\n",
              "      <td>0</td>\n",
              "      <td>-1</td>\n",
              "      <td>0</td>\n",
              "      <td>0</td>\n",
              "      <td>-1</td>\n",
              "      <td>0</td>\n",
              "      <td>0</td>\n",
              "      <td>-1</td>\n",
              "      <td>0</td>\n",
              "      <td>0</td>\n",
              "      <td>-1</td>\n",
              "      <td>0</td>\n",
              "      <td>1</td>\n",
              "      <td>0</td>\n",
              "      <td>0</td>\n",
              "      <td>0</td>\n",
              "      <td>0</td>\n",
              "      <td>0</td>\n",
              "      <td>0</td>\n",
              "      <td>0</td>\n",
              "      <td>0</td>\n",
              "      <td>0</td>\n",
              "      <td>0</td>\n",
              "      <td>0</td>\n",
              "      <td>0</td>\n",
              "      <td>0</td>\n",
              "      <td>0</td>\n",
              "      <td>0</td>\n",
              "      <td>0</td>\n",
              "      <td>0</td>\n",
              "      <td>0</td>\n",
              "    </tr>\n",
              "    <tr>\n",
              "      <th>89</th>\n",
              "      <td>2323</td>\n",
              "      <td>10</td>\n",
              "      <td>0.0128</td>\n",
              "      <td>2019-03-05 13:47:55</td>\n",
              "      <td>1</td>\n",
              "      <td>0</td>\n",
              "      <td>850</td>\n",
              "      <td>4.57</td>\n",
              "      <td>0</td>\n",
              "      <td>1300</td>\n",
              "      <td>4.22</td>\n",
              "      <td>0</td>\n",
              "      <td>0</td>\n",
              "      <td>0</td>\n",
              "      <td>0</td>\n",
              "      <td>0</td>\n",
              "      <td>0</td>\n",
              "      <td>0</td>\n",
              "      <td>0</td>\n",
              "      <td>0</td>\n",
              "      <td>0</td>\n",
              "      <td>0</td>\n",
              "      <td>0</td>\n",
              "      <td>0</td>\n",
              "      <td>0</td>\n",
              "      <td>0</td>\n",
              "      <td>0</td>\n",
              "      <td>0</td>\n",
              "      <td>0</td>\n",
              "      <td>62.47</td>\n",
              "      <td>0</td>\n",
              "      <td>0</td>\n",
              "      <td>0</td>\n",
              "      <td>0</td>\n",
              "      <td>0</td>\n",
              "      <td>0</td>\n",
              "      <td>0</td>\n",
              "      <td>-10.90</td>\n",
              "      <td>0</td>\n",
              "      <td>0</td>\n",
              "      <td>...</td>\n",
              "      <td>0</td>\n",
              "      <td>-1</td>\n",
              "      <td>0</td>\n",
              "      <td>0</td>\n",
              "      <td>-1</td>\n",
              "      <td>0</td>\n",
              "      <td>0</td>\n",
              "      <td>-1</td>\n",
              "      <td>0</td>\n",
              "      <td>0</td>\n",
              "      <td>-1</td>\n",
              "      <td>0</td>\n",
              "      <td>0</td>\n",
              "      <td>-1</td>\n",
              "      <td>0</td>\n",
              "      <td>0</td>\n",
              "      <td>-1</td>\n",
              "      <td>0</td>\n",
              "      <td>0</td>\n",
              "      <td>-1</td>\n",
              "      <td>0</td>\n",
              "      <td>1</td>\n",
              "      <td>0</td>\n",
              "      <td>0</td>\n",
              "      <td>0</td>\n",
              "      <td>0</td>\n",
              "      <td>0</td>\n",
              "      <td>0</td>\n",
              "      <td>0</td>\n",
              "      <td>0</td>\n",
              "      <td>0</td>\n",
              "      <td>0</td>\n",
              "      <td>0</td>\n",
              "      <td>0</td>\n",
              "      <td>0</td>\n",
              "      <td>0</td>\n",
              "      <td>0</td>\n",
              "      <td>0</td>\n",
              "      <td>0</td>\n",
              "      <td>0</td>\n",
              "    </tr>\n",
              "  </tbody>\n",
              "</table>\n",
              "<p>90 rows × 133 columns</p>\n",
              "</div>"
            ],
            "text/plain": [
              "    Norm file  ID  Sensitivity  ... Unnamed: 130  Unnamed: 131  Unnamed: 132\n",
              "0        2323  10       0.0128  ...            0             0             0\n",
              "1        2323  10       0.0128  ...            0             0             0\n",
              "2        2323  10       0.0128  ...            0             0             0\n",
              "3        2323  10       0.0128  ...            0             0             0\n",
              "4        2323  10       0.0128  ...            0             0             0\n",
              "..        ...  ..          ...  ...          ...           ...           ...\n",
              "85       2323  10       0.0128  ...            0             0             0\n",
              "86       2323  10       0.0128  ...            0             0             0\n",
              "87       2323  10       0.0128  ...            0             0             0\n",
              "88       2323  10       0.0128  ...            0             0             0\n",
              "89       2323  10       0.0128  ...            0             0             0\n",
              "\n",
              "[90 rows x 133 columns]"
            ]
          },
          "metadata": {
            "tags": []
          },
          "execution_count": 53
        }
      ]
    },
    {
      "cell_type": "code",
      "metadata": {
        "id": "b14s6tCbIoJL",
        "colab_type": "code",
        "colab": {}
      },
      "source": [
        "x=np.array([1,2,3])\n",
        "appraiser=np.repeat(x,30)\n",
        "df['Appraiser']=appraiser\n",
        "x=np.array(range(1,11))\n",
        "sample=np.tile(x,9)\n",
        "df['Sample']=sample"
      ],
      "execution_count": 54,
      "outputs": []
    },
    {
      "cell_type": "code",
      "metadata": {
        "id": "eZnCWUhXI5mO",
        "colab_type": "code",
        "colab": {
          "base_uri": "https://localhost:8080/",
          "height": 423
        },
        "outputId": "3d30a343-ed31-4872-cd37-1e73d98ce60d"
      },
      "source": [
        "cols = df.columns.tolist()\n",
        "cols = cols[-2:] + cols[:-2]\n",
        "df = df[cols]\n",
        "df.columns = df.columns.str.replace(' ', '')\n",
        "df.head()"
      ],
      "execution_count": 55,
      "outputs": [
        {
          "output_type": "execute_result",
          "data": {
            "text/html": [
              "<div>\n",
              "<style scoped>\n",
              "    .dataframe tbody tr th:only-of-type {\n",
              "        vertical-align: middle;\n",
              "    }\n",
              "\n",
              "    .dataframe tbody tr th {\n",
              "        vertical-align: top;\n",
              "    }\n",
              "\n",
              "    .dataframe thead th {\n",
              "        text-align: right;\n",
              "    }\n",
              "</style>\n",
              "<table border=\"1\" class=\"dataframe\">\n",
              "  <thead>\n",
              "    <tr style=\"text-align: right;\">\n",
              "      <th></th>\n",
              "      <th>Appraiser</th>\n",
              "      <th>Sample</th>\n",
              "      <th>Normfile</th>\n",
              "      <th>ID</th>\n",
              "      <th>Sensitivity</th>\n",
              "      <th>Time</th>\n",
              "      <th>Unnamed:4</th>\n",
              "      <th>Unnamed:5</th>\n",
              "      <th>Unnamed:6</th>\n",
              "      <th>THD1</th>\n",
              "      <th>Unnamed:8</th>\n",
              "      <th>Unnamed:9</th>\n",
              "      <th>THD2</th>\n",
              "      <th>Unnamed:11</th>\n",
              "      <th>Unnamed:12</th>\n",
              "      <th>THD3</th>\n",
              "      <th>Unnamed:14</th>\n",
              "      <th>Unnamed:15</th>\n",
              "      <th>THD4</th>\n",
              "      <th>Unnamed:17</th>\n",
              "      <th>Unnamed:18</th>\n",
              "      <th>Unnamed:19</th>\n",
              "      <th>Unnamed:20</th>\n",
              "      <th>Unnamed:21</th>\n",
              "      <th>Unnamed:22</th>\n",
              "      <th>Unnamed:23</th>\n",
              "      <th>Unnamed:24</th>\n",
              "      <th>Unnamed:25</th>\n",
              "      <th>Unnamed:26</th>\n",
              "      <th>Unnamed:27</th>\n",
              "      <th>Unnamed:28</th>\n",
              "      <th>Rubbing</th>\n",
              "      <th>Unnamed:30</th>\n",
              "      <th>Unnamed:31</th>\n",
              "      <th>Unnamed:32</th>\n",
              "      <th>Unnamed:33</th>\n",
              "      <th>Unnamed:34</th>\n",
              "      <th>Unnamed:35</th>\n",
              "      <th>Unnamed:36</th>\n",
              "      <th>Phase</th>\n",
              "      <th>...</th>\n",
              "      <th>SPL13</th>\n",
              "      <th>Unnamed:94</th>\n",
              "      <th>FREQ14</th>\n",
              "      <th>SPL14</th>\n",
              "      <th>Unnamed:97</th>\n",
              "      <th>FREQ15</th>\n",
              "      <th>SPL15</th>\n",
              "      <th>Unnamed:100</th>\n",
              "      <th>FREQ16</th>\n",
              "      <th>SPL16</th>\n",
              "      <th>Unnamed:103</th>\n",
              "      <th>FREQ17</th>\n",
              "      <th>SPL17</th>\n",
              "      <th>Unnamed:106</th>\n",
              "      <th>FREQ18</th>\n",
              "      <th>SPL18</th>\n",
              "      <th>FREQ19</th>\n",
              "      <th>SPL19</th>\n",
              "      <th>FREQ20</th>\n",
              "      <th>Unnamed:112</th>\n",
              "      <th>Unnamed:113</th>\n",
              "      <th>Unnamed:114</th>\n",
              "      <th>Unnamed:115</th>\n",
              "      <th>Unnamed:116</th>\n",
              "      <th>Unnamed:117</th>\n",
              "      <th>Unnamed:118</th>\n",
              "      <th>Unnamed:119</th>\n",
              "      <th>Unnamed:120</th>\n",
              "      <th>Unnamed:121</th>\n",
              "      <th>Unnamed:122</th>\n",
              "      <th>Unnamed:123</th>\n",
              "      <th>Unnamed:124</th>\n",
              "      <th>Unnamed:125</th>\n",
              "      <th>Unnamed:126</th>\n",
              "      <th>Unnamed:127</th>\n",
              "      <th>Unnamed:128</th>\n",
              "      <th>Unnamed:129</th>\n",
              "      <th>Unnamed:130</th>\n",
              "      <th>Unnamed:131</th>\n",
              "      <th>Unnamed:132</th>\n",
              "    </tr>\n",
              "  </thead>\n",
              "  <tbody>\n",
              "    <tr>\n",
              "      <th>0</th>\n",
              "      <td>1</td>\n",
              "      <td>1</td>\n",
              "      <td>2323</td>\n",
              "      <td>10</td>\n",
              "      <td>0.0128</td>\n",
              "      <td>2019-03-05 13:23:41</td>\n",
              "      <td>1</td>\n",
              "      <td>0</td>\n",
              "      <td>850</td>\n",
              "      <td>2.77</td>\n",
              "      <td>0</td>\n",
              "      <td>1300</td>\n",
              "      <td>2.07</td>\n",
              "      <td>0</td>\n",
              "      <td>0</td>\n",
              "      <td>0</td>\n",
              "      <td>0</td>\n",
              "      <td>0</td>\n",
              "      <td>0</td>\n",
              "      <td>0</td>\n",
              "      <td>0</td>\n",
              "      <td>0</td>\n",
              "      <td>0</td>\n",
              "      <td>0</td>\n",
              "      <td>0</td>\n",
              "      <td>0</td>\n",
              "      <td>0</td>\n",
              "      <td>0</td>\n",
              "      <td>0</td>\n",
              "      <td>0</td>\n",
              "      <td>0</td>\n",
              "      <td>63.33</td>\n",
              "      <td>0</td>\n",
              "      <td>0</td>\n",
              "      <td>0</td>\n",
              "      <td>0</td>\n",
              "      <td>0</td>\n",
              "      <td>0</td>\n",
              "      <td>0</td>\n",
              "      <td>-8.82</td>\n",
              "      <td>...</td>\n",
              "      <td>0</td>\n",
              "      <td>-1</td>\n",
              "      <td>0</td>\n",
              "      <td>0</td>\n",
              "      <td>-1</td>\n",
              "      <td>0</td>\n",
              "      <td>0</td>\n",
              "      <td>-1</td>\n",
              "      <td>0</td>\n",
              "      <td>0</td>\n",
              "      <td>-1</td>\n",
              "      <td>0</td>\n",
              "      <td>0</td>\n",
              "      <td>-1</td>\n",
              "      <td>0</td>\n",
              "      <td>0</td>\n",
              "      <td>-1</td>\n",
              "      <td>0</td>\n",
              "      <td>0</td>\n",
              "      <td>-1</td>\n",
              "      <td>0</td>\n",
              "      <td>1</td>\n",
              "      <td>0</td>\n",
              "      <td>0</td>\n",
              "      <td>0</td>\n",
              "      <td>0</td>\n",
              "      <td>0</td>\n",
              "      <td>0</td>\n",
              "      <td>0</td>\n",
              "      <td>0</td>\n",
              "      <td>0</td>\n",
              "      <td>0</td>\n",
              "      <td>0</td>\n",
              "      <td>0</td>\n",
              "      <td>0</td>\n",
              "      <td>0</td>\n",
              "      <td>0</td>\n",
              "      <td>0</td>\n",
              "      <td>0</td>\n",
              "      <td>0</td>\n",
              "    </tr>\n",
              "    <tr>\n",
              "      <th>1</th>\n",
              "      <td>1</td>\n",
              "      <td>2</td>\n",
              "      <td>2323</td>\n",
              "      <td>10</td>\n",
              "      <td>0.0128</td>\n",
              "      <td>2019-03-05 13:23:53</td>\n",
              "      <td>1</td>\n",
              "      <td>0</td>\n",
              "      <td>850</td>\n",
              "      <td>2.83</td>\n",
              "      <td>0</td>\n",
              "      <td>1300</td>\n",
              "      <td>1.94</td>\n",
              "      <td>0</td>\n",
              "      <td>0</td>\n",
              "      <td>0</td>\n",
              "      <td>0</td>\n",
              "      <td>0</td>\n",
              "      <td>0</td>\n",
              "      <td>0</td>\n",
              "      <td>0</td>\n",
              "      <td>0</td>\n",
              "      <td>0</td>\n",
              "      <td>0</td>\n",
              "      <td>0</td>\n",
              "      <td>0</td>\n",
              "      <td>0</td>\n",
              "      <td>0</td>\n",
              "      <td>0</td>\n",
              "      <td>0</td>\n",
              "      <td>0</td>\n",
              "      <td>61.71</td>\n",
              "      <td>0</td>\n",
              "      <td>0</td>\n",
              "      <td>0</td>\n",
              "      <td>0</td>\n",
              "      <td>0</td>\n",
              "      <td>0</td>\n",
              "      <td>0</td>\n",
              "      <td>-7.53</td>\n",
              "      <td>...</td>\n",
              "      <td>0</td>\n",
              "      <td>-1</td>\n",
              "      <td>0</td>\n",
              "      <td>0</td>\n",
              "      <td>-1</td>\n",
              "      <td>0</td>\n",
              "      <td>0</td>\n",
              "      <td>-1</td>\n",
              "      <td>0</td>\n",
              "      <td>0</td>\n",
              "      <td>-1</td>\n",
              "      <td>0</td>\n",
              "      <td>0</td>\n",
              "      <td>-1</td>\n",
              "      <td>0</td>\n",
              "      <td>0</td>\n",
              "      <td>-1</td>\n",
              "      <td>0</td>\n",
              "      <td>0</td>\n",
              "      <td>-1</td>\n",
              "      <td>0</td>\n",
              "      <td>1</td>\n",
              "      <td>0</td>\n",
              "      <td>0</td>\n",
              "      <td>0</td>\n",
              "      <td>0</td>\n",
              "      <td>0</td>\n",
              "      <td>0</td>\n",
              "      <td>0</td>\n",
              "      <td>0</td>\n",
              "      <td>0</td>\n",
              "      <td>0</td>\n",
              "      <td>0</td>\n",
              "      <td>0</td>\n",
              "      <td>0</td>\n",
              "      <td>0</td>\n",
              "      <td>0</td>\n",
              "      <td>0</td>\n",
              "      <td>0</td>\n",
              "      <td>0</td>\n",
              "    </tr>\n",
              "    <tr>\n",
              "      <th>2</th>\n",
              "      <td>1</td>\n",
              "      <td>3</td>\n",
              "      <td>2323</td>\n",
              "      <td>10</td>\n",
              "      <td>0.0128</td>\n",
              "      <td>2019-03-05 13:24:14</td>\n",
              "      <td>1</td>\n",
              "      <td>0</td>\n",
              "      <td>850</td>\n",
              "      <td>3.08</td>\n",
              "      <td>0</td>\n",
              "      <td>1300</td>\n",
              "      <td>2.85</td>\n",
              "      <td>0</td>\n",
              "      <td>0</td>\n",
              "      <td>0</td>\n",
              "      <td>0</td>\n",
              "      <td>0</td>\n",
              "      <td>0</td>\n",
              "      <td>0</td>\n",
              "      <td>0</td>\n",
              "      <td>0</td>\n",
              "      <td>0</td>\n",
              "      <td>0</td>\n",
              "      <td>0</td>\n",
              "      <td>0</td>\n",
              "      <td>0</td>\n",
              "      <td>0</td>\n",
              "      <td>0</td>\n",
              "      <td>0</td>\n",
              "      <td>0</td>\n",
              "      <td>58.04</td>\n",
              "      <td>0</td>\n",
              "      <td>0</td>\n",
              "      <td>0</td>\n",
              "      <td>0</td>\n",
              "      <td>0</td>\n",
              "      <td>0</td>\n",
              "      <td>0</td>\n",
              "      <td>-10.39</td>\n",
              "      <td>...</td>\n",
              "      <td>0</td>\n",
              "      <td>-1</td>\n",
              "      <td>0</td>\n",
              "      <td>0</td>\n",
              "      <td>-1</td>\n",
              "      <td>0</td>\n",
              "      <td>0</td>\n",
              "      <td>-1</td>\n",
              "      <td>0</td>\n",
              "      <td>0</td>\n",
              "      <td>-1</td>\n",
              "      <td>0</td>\n",
              "      <td>0</td>\n",
              "      <td>-1</td>\n",
              "      <td>0</td>\n",
              "      <td>0</td>\n",
              "      <td>-1</td>\n",
              "      <td>0</td>\n",
              "      <td>0</td>\n",
              "      <td>-1</td>\n",
              "      <td>0</td>\n",
              "      <td>1</td>\n",
              "      <td>0</td>\n",
              "      <td>0</td>\n",
              "      <td>0</td>\n",
              "      <td>0</td>\n",
              "      <td>0</td>\n",
              "      <td>0</td>\n",
              "      <td>0</td>\n",
              "      <td>0</td>\n",
              "      <td>0</td>\n",
              "      <td>0</td>\n",
              "      <td>0</td>\n",
              "      <td>0</td>\n",
              "      <td>0</td>\n",
              "      <td>0</td>\n",
              "      <td>0</td>\n",
              "      <td>0</td>\n",
              "      <td>0</td>\n",
              "      <td>0</td>\n",
              "    </tr>\n",
              "    <tr>\n",
              "      <th>3</th>\n",
              "      <td>1</td>\n",
              "      <td>4</td>\n",
              "      <td>2323</td>\n",
              "      <td>10</td>\n",
              "      <td>0.0128</td>\n",
              "      <td>2019-03-05 13:24:29</td>\n",
              "      <td>1</td>\n",
              "      <td>0</td>\n",
              "      <td>850</td>\n",
              "      <td>2.69</td>\n",
              "      <td>0</td>\n",
              "      <td>1300</td>\n",
              "      <td>2.21</td>\n",
              "      <td>0</td>\n",
              "      <td>0</td>\n",
              "      <td>0</td>\n",
              "      <td>0</td>\n",
              "      <td>0</td>\n",
              "      <td>0</td>\n",
              "      <td>0</td>\n",
              "      <td>0</td>\n",
              "      <td>0</td>\n",
              "      <td>0</td>\n",
              "      <td>0</td>\n",
              "      <td>0</td>\n",
              "      <td>0</td>\n",
              "      <td>0</td>\n",
              "      <td>0</td>\n",
              "      <td>0</td>\n",
              "      <td>0</td>\n",
              "      <td>0</td>\n",
              "      <td>61.70</td>\n",
              "      <td>0</td>\n",
              "      <td>0</td>\n",
              "      <td>0</td>\n",
              "      <td>0</td>\n",
              "      <td>0</td>\n",
              "      <td>0</td>\n",
              "      <td>0</td>\n",
              "      <td>-9.52</td>\n",
              "      <td>...</td>\n",
              "      <td>0</td>\n",
              "      <td>-1</td>\n",
              "      <td>0</td>\n",
              "      <td>0</td>\n",
              "      <td>-1</td>\n",
              "      <td>0</td>\n",
              "      <td>0</td>\n",
              "      <td>-1</td>\n",
              "      <td>0</td>\n",
              "      <td>0</td>\n",
              "      <td>-1</td>\n",
              "      <td>0</td>\n",
              "      <td>0</td>\n",
              "      <td>-1</td>\n",
              "      <td>0</td>\n",
              "      <td>0</td>\n",
              "      <td>-1</td>\n",
              "      <td>0</td>\n",
              "      <td>0</td>\n",
              "      <td>-1</td>\n",
              "      <td>0</td>\n",
              "      <td>1</td>\n",
              "      <td>0</td>\n",
              "      <td>0</td>\n",
              "      <td>0</td>\n",
              "      <td>0</td>\n",
              "      <td>0</td>\n",
              "      <td>0</td>\n",
              "      <td>0</td>\n",
              "      <td>0</td>\n",
              "      <td>0</td>\n",
              "      <td>0</td>\n",
              "      <td>0</td>\n",
              "      <td>0</td>\n",
              "      <td>0</td>\n",
              "      <td>0</td>\n",
              "      <td>0</td>\n",
              "      <td>0</td>\n",
              "      <td>0</td>\n",
              "      <td>0</td>\n",
              "    </tr>\n",
              "    <tr>\n",
              "      <th>4</th>\n",
              "      <td>1</td>\n",
              "      <td>5</td>\n",
              "      <td>2323</td>\n",
              "      <td>10</td>\n",
              "      <td>0.0128</td>\n",
              "      <td>2019-03-05 13:24:40</td>\n",
              "      <td>1</td>\n",
              "      <td>0</td>\n",
              "      <td>850</td>\n",
              "      <td>2.28</td>\n",
              "      <td>0</td>\n",
              "      <td>1300</td>\n",
              "      <td>2.02</td>\n",
              "      <td>0</td>\n",
              "      <td>0</td>\n",
              "      <td>0</td>\n",
              "      <td>0</td>\n",
              "      <td>0</td>\n",
              "      <td>0</td>\n",
              "      <td>0</td>\n",
              "      <td>0</td>\n",
              "      <td>0</td>\n",
              "      <td>0</td>\n",
              "      <td>0</td>\n",
              "      <td>0</td>\n",
              "      <td>0</td>\n",
              "      <td>0</td>\n",
              "      <td>0</td>\n",
              "      <td>0</td>\n",
              "      <td>0</td>\n",
              "      <td>0</td>\n",
              "      <td>54.15</td>\n",
              "      <td>0</td>\n",
              "      <td>0</td>\n",
              "      <td>0</td>\n",
              "      <td>0</td>\n",
              "      <td>0</td>\n",
              "      <td>0</td>\n",
              "      <td>0</td>\n",
              "      <td>-8.66</td>\n",
              "      <td>...</td>\n",
              "      <td>0</td>\n",
              "      <td>-1</td>\n",
              "      <td>0</td>\n",
              "      <td>0</td>\n",
              "      <td>-1</td>\n",
              "      <td>0</td>\n",
              "      <td>0</td>\n",
              "      <td>-1</td>\n",
              "      <td>0</td>\n",
              "      <td>0</td>\n",
              "      <td>-1</td>\n",
              "      <td>0</td>\n",
              "      <td>0</td>\n",
              "      <td>-1</td>\n",
              "      <td>0</td>\n",
              "      <td>0</td>\n",
              "      <td>-1</td>\n",
              "      <td>0</td>\n",
              "      <td>0</td>\n",
              "      <td>-1</td>\n",
              "      <td>0</td>\n",
              "      <td>1</td>\n",
              "      <td>0</td>\n",
              "      <td>0</td>\n",
              "      <td>0</td>\n",
              "      <td>0</td>\n",
              "      <td>0</td>\n",
              "      <td>0</td>\n",
              "      <td>0</td>\n",
              "      <td>0</td>\n",
              "      <td>0</td>\n",
              "      <td>0</td>\n",
              "      <td>0</td>\n",
              "      <td>0</td>\n",
              "      <td>0</td>\n",
              "      <td>0</td>\n",
              "      <td>0</td>\n",
              "      <td>0</td>\n",
              "      <td>0</td>\n",
              "      <td>0</td>\n",
              "    </tr>\n",
              "  </tbody>\n",
              "</table>\n",
              "<p>5 rows × 135 columns</p>\n",
              "</div>"
            ],
            "text/plain": [
              "   Appraiser  Sample  Normfile  ...  Unnamed:130  Unnamed:131 Unnamed:132\n",
              "0          1       1      2323  ...            0            0           0\n",
              "1          1       2      2323  ...            0            0           0\n",
              "2          1       3      2323  ...            0            0           0\n",
              "3          1       4      2323  ...            0            0           0\n",
              "4          1       5      2323  ...            0            0           0\n",
              "\n",
              "[5 rows x 135 columns]"
            ]
          },
          "metadata": {
            "tags": []
          },
          "execution_count": 55
        }
      ]
    },
    {
      "cell_type": "markdown",
      "metadata": {
        "id": "zhzF0y-aL4iG",
        "colab_type": "text"
      },
      "source": [
        "## ANOVA "
      ]
    },
    {
      "cell_type": "code",
      "metadata": {
        "id": "m-OF0MzJLrEo",
        "colab_type": "code",
        "colab": {}
      },
      "source": [
        "!pip install pingouin"
      ],
      "execution_count": null,
      "outputs": []
    },
    {
      "cell_type": "code",
      "metadata": {
        "id": "2X2hNRjPSPKy",
        "colab_type": "code",
        "colab": {}
      },
      "source": [
        "import pingouin as pg"
      ],
      "execution_count": 65,
      "outputs": []
    },
    {
      "cell_type": "code",
      "metadata": {
        "id": "k0g1H0gIMc1T",
        "colab_type": "code",
        "colab": {
          "base_uri": "https://localhost:8080/",
          "height": 136
        },
        "outputId": "f754bf6f-87ea-409e-c6a5-7fe4e3203d84"
      },
      "source": [
        "df.columns"
      ],
      "execution_count": 57,
      "outputs": [
        {
          "output_type": "execute_result",
          "data": {
            "text/plain": [
              "Index(['Appraiser', 'Sample', 'Normfile', 'ID', 'Sensitivity', 'Time',\n",
              "       'Unnamed:4', 'Unnamed:5', 'Unnamed:6', 'THD1',\n",
              "       ...\n",
              "       'Unnamed:123', 'Unnamed:124', 'Unnamed:125', 'Unnamed:126',\n",
              "       'Unnamed:127', 'Unnamed:128', 'Unnamed:129', 'Unnamed:130',\n",
              "       'Unnamed:131', 'Unnamed:132'],\n",
              "      dtype='object', length=135)"
            ]
          },
          "metadata": {
            "tags": []
          },
          "execution_count": 57
        }
      ]
    },
    {
      "cell_type": "code",
      "metadata": {
        "id": "mYc1H7v9L_dG",
        "colab_type": "code",
        "colab": {
          "base_uri": "https://localhost:8080/",
          "height": 302
        },
        "outputId": "c76e72e0-3673-44e2-ed3f-bcefe02f9962"
      },
      "source": [
        "sns.pointplot(data=df, x='Sample', y='SPL4', hue='Appraiser', dodge=True, capsize=.1, ci='sd')"
      ],
      "execution_count": 58,
      "outputs": [
        {
          "output_type": "execute_result",
          "data": {
            "text/plain": [
              "<matplotlib.axes._subplots.AxesSubplot at 0x7f22fdfa3630>"
            ]
          },
          "metadata": {
            "tags": []
          },
          "execution_count": 58
        },
        {
          "output_type": "display_data",
          "data": {
            "image/png": "[encoded data removed]",
            "text/plain": [
              "<Figure size 432x288 with 1 Axes>"
            ]
          },
          "metadata": {
            "tags": []
          }
        }
      ]
    },
    {
      "cell_type": "code",
      "metadata": {
        "id": "kc2Stvg4Rn24",
        "colab_type": "code",
        "colab": {
          "base_uri": "https://localhost:8080/",
          "height": 302
        },
        "outputId": "ec87c93f-062e-4532-9605-541fd73030e2"
      },
      "source": [
        "sns.pointplot(data=df, x='Appraiser', y='SPL4', dodge=True, capsize=.1, ci='sd'\n",
        "            )"
      ],
      "execution_count": 63,
      "outputs": [
        {
          "output_type": "execute_result",
          "data": {
            "text/plain": [
              "<matplotlib.axes._subplots.AxesSubplot at 0x7f22fdb72e10>"
            ]
          },
          "metadata": {
            "tags": []
          },
          "execution_count": 63
        },
        {
          "output_type": "display_data",
          "data": {
            "image/png": "[encoded data removed]",
            "text/plain": [
              "<Figure size 432x288 with 1 Axes>"
            ]
          },
          "metadata": {
            "tags": []
          }
        }
      ]
    },
    {
      "cell_type": "code",
      "metadata": {
        "id": "xbEoYIVJMZJF",
        "colab_type": "code",
        "colab": {
          "base_uri": "https://localhost:8080/",
          "height": 302
        },
        "outputId": "fa172655-7b60-4f9d-8a83-0b407a3f5175"
      },
      "source": [
        "sns.boxplot(x=\"Sample\", y=\"SPL4\", hue=\"Appraiser\", data=df, palette=\"Set3\") "
      ],
      "execution_count": 59,
      "outputs": [
        {
          "output_type": "execute_result",
          "data": {
            "text/plain": [
              "<matplotlib.axes._subplots.AxesSubplot at 0x7f22fde4c940>"
            ]
          },
          "metadata": {
            "tags": []
          },
          "execution_count": 59
        },
        {
          "output_type": "display_data",
          "data": {
            "image/png": "[encoded data removed]",
            "text/plain": [
              "<Figure size 432x288 with 1 Axes>"
            ]
          },
          "metadata": {
            "tags": []
          }
        }
      ]
    },
    {
      "cell_type": "code",
      "metadata": {
        "id": "g1dUI4OeNKQU",
        "colab_type": "code",
        "colab": {
          "base_uri": "https://localhost:8080/",
          "height": 173
        },
        "outputId": "d204e85b-0ccc-4ab0-e7f5-5aa9ec74dbbb"
      },
      "source": [
        "# load packages\n",
        "import statsmodels.api as sm\n",
        "from statsmodels.formula.api import ols\n",
        "# Ordinary Least Squares (OLS) model\n",
        "# C(Genotype):C(years) represent interaction term\n",
        "model = ols('(SPL4) ~ C(Appraiser) + C(Sample) + C(Appraiser):C(Sample)', data=df).fit()\n",
        "anova_table = sm.stats.anova_lm(model, typ=2) #typ = 3 for unblanced\n",
        "anova_table # PR (>F) is P"
      ],
      "execution_count": 60,
      "outputs": [
        {
          "output_type": "execute_result",
          "data": {
            "text/html": [
              "<div>\n",
              "<style scoped>\n",
              "    .dataframe tbody tr th:only-of-type {\n",
              "        vertical-align: middle;\n",
              "    }\n",
              "\n",
              "    .dataframe tbody tr th {\n",
              "        vertical-align: top;\n",
              "    }\n",
              "\n",
              "    .dataframe thead th {\n",
              "        text-align: right;\n",
              "    }\n",
              "</style>\n",
              "<table border=\"1\" class=\"dataframe\">\n",
              "  <thead>\n",
              "    <tr style=\"text-align: right;\">\n",
              "      <th></th>\n",
              "      <th>sum_sq</th>\n",
              "      <th>df</th>\n",
              "      <th>F</th>\n",
              "      <th>PR(&gt;F)</th>\n",
              "    </tr>\n",
              "  </thead>\n",
              "  <tbody>\n",
              "    <tr>\n",
              "      <th>C(Appraiser)</th>\n",
              "      <td>0.011008</td>\n",
              "      <td>2.0</td>\n",
              "      <td>0.928600</td>\n",
              "      <td>4.007094e-01</td>\n",
              "    </tr>\n",
              "    <tr>\n",
              "      <th>C(Sample)</th>\n",
              "      <td>28.532622</td>\n",
              "      <td>9.0</td>\n",
              "      <td>534.870670</td>\n",
              "      <td>8.011557e-54</td>\n",
              "    </tr>\n",
              "    <tr>\n",
              "      <th>C(Appraiser):C(Sample)</th>\n",
              "      <td>0.060493</td>\n",
              "      <td>18.0</td>\n",
              "      <td>0.566998</td>\n",
              "      <td>9.092123e-01</td>\n",
              "    </tr>\n",
              "    <tr>\n",
              "      <th>Residual</th>\n",
              "      <td>0.355633</td>\n",
              "      <td>60.0</td>\n",
              "      <td>NaN</td>\n",
              "      <td>NaN</td>\n",
              "    </tr>\n",
              "  </tbody>\n",
              "</table>\n",
              "</div>"
            ],
            "text/plain": [
              "                           sum_sq    df           F        PR(>F)\n",
              "C(Appraiser)             0.011008   2.0    0.928600  4.007094e-01\n",
              "C(Sample)               28.532622   9.0  534.870670  8.011557e-54\n",
              "C(Appraiser):C(Sample)   0.060493  18.0    0.566998  9.092123e-01\n",
              "Residual                 0.355633  60.0         NaN           NaN"
            ]
          },
          "metadata": {
            "tags": []
          },
          "execution_count": 60
        }
      ]
    },
    {
      "cell_type": "code",
      "metadata": {
        "id": "UZVj_WpuNbbE",
        "colab_type": "code",
        "colab": {
          "base_uri": "https://localhost:8080/",
          "height": 173
        },
        "outputId": "df76533a-12d5-4302-c77a-21753dde944e"
      },
      "source": [
        "#Two-way ANOVA with balanced design\n",
        "df.anova(dv=\"SPL4\", between=[\"Appraiser\", \"Sample\"]).round(3)"
      ],
      "execution_count": 67,
      "outputs": [
        {
          "output_type": "execute_result",
          "data": {
            "text/html": [
              "<div>\n",
              "<style scoped>\n",
              "    .dataframe tbody tr th:only-of-type {\n",
              "        vertical-align: middle;\n",
              "    }\n",
              "\n",
              "    .dataframe tbody tr th {\n",
              "        vertical-align: top;\n",
              "    }\n",
              "\n",
              "    .dataframe thead th {\n",
              "        text-align: right;\n",
              "    }\n",
              "</style>\n",
              "<table border=\"1\" class=\"dataframe\">\n",
              "  <thead>\n",
              "    <tr style=\"text-align: right;\">\n",
              "      <th></th>\n",
              "      <th>Source</th>\n",
              "      <th>SS</th>\n",
              "      <th>DF</th>\n",
              "      <th>MS</th>\n",
              "      <th>F</th>\n",
              "      <th>p-unc</th>\n",
              "      <th>np2</th>\n",
              "    </tr>\n",
              "  </thead>\n",
              "  <tbody>\n",
              "    <tr>\n",
              "      <th>0</th>\n",
              "      <td>Appraiser</td>\n",
              "      <td>0.011</td>\n",
              "      <td>2</td>\n",
              "      <td>0.006</td>\n",
              "      <td>0.929</td>\n",
              "      <td>0.401</td>\n",
              "      <td>0.030</td>\n",
              "    </tr>\n",
              "    <tr>\n",
              "      <th>1</th>\n",
              "      <td>Sample</td>\n",
              "      <td>28.533</td>\n",
              "      <td>9</td>\n",
              "      <td>3.170</td>\n",
              "      <td>534.871</td>\n",
              "      <td>0.000</td>\n",
              "      <td>0.988</td>\n",
              "    </tr>\n",
              "    <tr>\n",
              "      <th>2</th>\n",
              "      <td>Appraiser * Sample</td>\n",
              "      <td>0.060</td>\n",
              "      <td>18</td>\n",
              "      <td>0.003</td>\n",
              "      <td>0.567</td>\n",
              "      <td>0.909</td>\n",
              "      <td>0.145</td>\n",
              "    </tr>\n",
              "    <tr>\n",
              "      <th>3</th>\n",
              "      <td>Residual</td>\n",
              "      <td>0.356</td>\n",
              "      <td>60</td>\n",
              "      <td>0.006</td>\n",
              "      <td>NaN</td>\n",
              "      <td>NaN</td>\n",
              "      <td>NaN</td>\n",
              "    </tr>\n",
              "  </tbody>\n",
              "</table>\n",
              "</div>"
            ],
            "text/plain": [
              "               Source      SS  DF     MS        F  p-unc    np2\n",
              "0           Appraiser   0.011   2  0.006    0.929  0.401  0.030\n",
              "1              Sample  28.533   9  3.170  534.871  0.000  0.988\n",
              "2  Appraiser * Sample   0.060  18  0.003    0.567  0.909  0.145\n",
              "3            Residual   0.356  60  0.006      NaN    NaN    NaN"
            ]
          },
          "metadata": {
            "tags": []
          },
          "execution_count": 67
        }
      ]
    },
    {
      "cell_type": "code",
      "metadata": {
        "id": "G6ebbcFTSJCL",
        "colab_type": "code",
        "colab": {
          "base_uri": "https://localhost:8080/",
          "height": 173
        },
        "outputId": "ab9aad93-0ffd-4f46-c7be-94800f211d90"
      },
      "source": [
        "#Two-way ANOVA with unbalanced design (requires statsmodels)\n",
        "df.anova(dv=\"SPL4\", between=[\"Appraiser\", \"Sample\"],effsize='n2').round(3)"
      ],
      "execution_count": 68,
      "outputs": [
        {
          "output_type": "execute_result",
          "data": {
            "text/html": [
              "<div>\n",
              "<style scoped>\n",
              "    .dataframe tbody tr th:only-of-type {\n",
              "        vertical-align: middle;\n",
              "    }\n",
              "\n",
              "    .dataframe tbody tr th {\n",
              "        vertical-align: top;\n",
              "    }\n",
              "\n",
              "    .dataframe thead th {\n",
              "        text-align: right;\n",
              "    }\n",
              "</style>\n",
              "<table border=\"1\" class=\"dataframe\">\n",
              "  <thead>\n",
              "    <tr style=\"text-align: right;\">\n",
              "      <th></th>\n",
              "      <th>Source</th>\n",
              "      <th>SS</th>\n",
              "      <th>DF</th>\n",
              "      <th>MS</th>\n",
              "      <th>F</th>\n",
              "      <th>p-unc</th>\n",
              "      <th>n2</th>\n",
              "    </tr>\n",
              "  </thead>\n",
              "  <tbody>\n",
              "    <tr>\n",
              "      <th>0</th>\n",
              "      <td>Appraiser</td>\n",
              "      <td>0.011</td>\n",
              "      <td>2</td>\n",
              "      <td>0.006</td>\n",
              "      <td>0.929</td>\n",
              "      <td>0.401</td>\n",
              "      <td>0.000</td>\n",
              "    </tr>\n",
              "    <tr>\n",
              "      <th>1</th>\n",
              "      <td>Sample</td>\n",
              "      <td>28.533</td>\n",
              "      <td>9</td>\n",
              "      <td>3.170</td>\n",
              "      <td>534.871</td>\n",
              "      <td>0.000</td>\n",
              "      <td>0.985</td>\n",
              "    </tr>\n",
              "    <tr>\n",
              "      <th>2</th>\n",
              "      <td>Appraiser * Sample</td>\n",
              "      <td>0.060</td>\n",
              "      <td>18</td>\n",
              "      <td>0.003</td>\n",
              "      <td>0.567</td>\n",
              "      <td>0.909</td>\n",
              "      <td>0.002</td>\n",
              "    </tr>\n",
              "    <tr>\n",
              "      <th>3</th>\n",
              "      <td>Residual</td>\n",
              "      <td>0.356</td>\n",
              "      <td>60</td>\n",
              "      <td>0.006</td>\n",
              "      <td>NaN</td>\n",
              "      <td>NaN</td>\n",
              "      <td>NaN</td>\n",
              "    </tr>\n",
              "  </tbody>\n",
              "</table>\n",
              "</div>"
            ],
            "text/plain": [
              "               Source      SS  DF     MS        F  p-unc     n2\n",
              "0           Appraiser   0.011   2  0.006    0.929  0.401  0.000\n",
              "1              Sample  28.533   9  3.170  534.871  0.000  0.985\n",
              "2  Appraiser * Sample   0.060  18  0.003    0.567  0.909  0.002\n",
              "3            Residual   0.356  60  0.006      NaN    NaN    NaN"
            ]
          },
          "metadata": {
            "tags": []
          },
          "execution_count": 68
        }
      ]
    },
    {
      "cell_type": "markdown",
      "metadata": {
        "id": "Kdz8bHjyUOnG",
        "colab_type": "text"
      },
      "source": [
        "## Test ANOVA assumptions"
      ]
    },
    {
      "cell_type": "code",
      "metadata": {
        "id": "NGOwfjjOS-Hx",
        "colab_type": "code",
        "colab": {
          "base_uri": "https://localhost:8080/",
          "height": 34
        },
        "outputId": "ff6ab968-2c4f-4321-f237-354248af92bc"
      },
      "source": [
        "# load packages\n",
        "import scipy.stats as stats\n",
        "w, pvalue = stats.shapiro(model.resid)\n",
        "print(w, pvalue)"
      ],
      "execution_count": 69,
      "outputs": [
        {
          "output_type": "stream",
          "text": [
            "0.7692556381225586 1.424336343314181e-10\n"
          ],
          "name": "stdout"
        }
      ]
    },
    {
      "cell_type": "markdown",
      "metadata": {
        "id": "OhcYP9BzUWBE",
        "colab_type": "text"
      },
      "source": [
        "As the P-value is significant, we reject null hypothesis and conclude that data is drawn from non normal distribution."
      ]
    },
    {
      "cell_type": "code",
      "metadata": {
        "id": "HequRq6MUSkx",
        "colab_type": "code",
        "colab": {
          "base_uri": "https://localhost:8080/",
          "height": 142
        },
        "outputId": "22979107-0368-487b-8aff-7d37bb3da898"
      },
      "source": [
        "pg.normality(df, group='Appraiser', dv='SPL4')"
      ],
      "execution_count": 70,
      "outputs": [
        {
          "output_type": "execute_result",
          "data": {
            "text/html": [
              "<div>\n",
              "<style scoped>\n",
              "    .dataframe tbody tr th:only-of-type {\n",
              "        vertical-align: middle;\n",
              "    }\n",
              "\n",
              "    .dataframe tbody tr th {\n",
              "        vertical-align: top;\n",
              "    }\n",
              "\n",
              "    .dataframe thead th {\n",
              "        text-align: right;\n",
              "    }\n",
              "</style>\n",
              "<table border=\"1\" class=\"dataframe\">\n",
              "  <thead>\n",
              "    <tr style=\"text-align: right;\">\n",
              "      <th></th>\n",
              "      <th>W</th>\n",
              "      <th>pval</th>\n",
              "      <th>normal</th>\n",
              "    </tr>\n",
              "  </thead>\n",
              "  <tbody>\n",
              "    <tr>\n",
              "      <th>1</th>\n",
              "      <td>0.898836</td>\n",
              "      <td>0.007867</td>\n",
              "      <td>False</td>\n",
              "    </tr>\n",
              "    <tr>\n",
              "      <th>2</th>\n",
              "      <td>0.889896</td>\n",
              "      <td>0.004797</td>\n",
              "      <td>False</td>\n",
              "    </tr>\n",
              "    <tr>\n",
              "      <th>3</th>\n",
              "      <td>0.888017</td>\n",
              "      <td>0.004331</td>\n",
              "      <td>False</td>\n",
              "    </tr>\n",
              "  </tbody>\n",
              "</table>\n",
              "</div>"
            ],
            "text/plain": [
              "          W      pval  normal\n",
              "1  0.898836  0.007867   False\n",
              "2  0.889896  0.004797   False\n",
              "3  0.888017  0.004331   False"
            ]
          },
          "metadata": {
            "tags": []
          },
          "execution_count": 70
        }
      ]
    },
    {
      "cell_type": "code",
      "metadata": {
        "id": "R5AXniubUm3n",
        "colab_type": "code",
        "colab": {
          "base_uri": "https://localhost:8080/",
          "height": 359
        },
        "outputId": "e65d6c72-112f-4078-9819-6d69509ed150"
      },
      "source": [
        "pg.normality(df, group='Sample', dv='SPL4')"
      ],
      "execution_count": 71,
      "outputs": [
        {
          "output_type": "execute_result",
          "data": {
            "text/html": [
              "<div>\n",
              "<style scoped>\n",
              "    .dataframe tbody tr th:only-of-type {\n",
              "        vertical-align: middle;\n",
              "    }\n",
              "\n",
              "    .dataframe tbody tr th {\n",
              "        vertical-align: top;\n",
              "    }\n",
              "\n",
              "    .dataframe thead th {\n",
              "        text-align: right;\n",
              "    }\n",
              "</style>\n",
              "<table border=\"1\" class=\"dataframe\">\n",
              "  <thead>\n",
              "    <tr style=\"text-align: right;\">\n",
              "      <th></th>\n",
              "      <th>W</th>\n",
              "      <th>pval</th>\n",
              "      <th>normal</th>\n",
              "    </tr>\n",
              "  </thead>\n",
              "  <tbody>\n",
              "    <tr>\n",
              "      <th>1</th>\n",
              "      <td>0.966669</td>\n",
              "      <td>0.864836</td>\n",
              "      <td>True</td>\n",
              "    </tr>\n",
              "    <tr>\n",
              "      <th>2</th>\n",
              "      <td>0.828212</td>\n",
              "      <td>0.042638</td>\n",
              "      <td>False</td>\n",
              "    </tr>\n",
              "    <tr>\n",
              "      <th>3</th>\n",
              "      <td>0.891066</td>\n",
              "      <td>0.204620</td>\n",
              "      <td>True</td>\n",
              "    </tr>\n",
              "    <tr>\n",
              "      <th>4</th>\n",
              "      <td>0.973317</td>\n",
              "      <td>0.921517</td>\n",
              "      <td>True</td>\n",
              "    </tr>\n",
              "    <tr>\n",
              "      <th>5</th>\n",
              "      <td>0.781469</td>\n",
              "      <td>0.012522</td>\n",
              "      <td>False</td>\n",
              "    </tr>\n",
              "    <tr>\n",
              "      <th>6</th>\n",
              "      <td>0.604953</td>\n",
              "      <td>0.000109</td>\n",
              "      <td>False</td>\n",
              "    </tr>\n",
              "    <tr>\n",
              "      <th>7</th>\n",
              "      <td>0.685514</td>\n",
              "      <td>0.000961</td>\n",
              "      <td>False</td>\n",
              "    </tr>\n",
              "    <tr>\n",
              "      <th>8</th>\n",
              "      <td>0.905054</td>\n",
              "      <td>0.282774</td>\n",
              "      <td>True</td>\n",
              "    </tr>\n",
              "    <tr>\n",
              "      <th>9</th>\n",
              "      <td>0.922736</td>\n",
              "      <td>0.415377</td>\n",
              "      <td>True</td>\n",
              "    </tr>\n",
              "    <tr>\n",
              "      <th>10</th>\n",
              "      <td>0.948302</td>\n",
              "      <td>0.671433</td>\n",
              "      <td>True</td>\n",
              "    </tr>\n",
              "  </tbody>\n",
              "</table>\n",
              "</div>"
            ],
            "text/plain": [
              "           W      pval  normal\n",
              "1   0.966669  0.864836    True\n",
              "2   0.828212  0.042638   False\n",
              "3   0.891066  0.204620    True\n",
              "4   0.973317  0.921517    True\n",
              "5   0.781469  0.012522   False\n",
              "6   0.604953  0.000109   False\n",
              "7   0.685514  0.000961   False\n",
              "8   0.905054  0.282774    True\n",
              "9   0.922736  0.415377    True\n",
              "10  0.948302  0.671433    True"
            ]
          },
          "metadata": {
            "tags": []
          },
          "execution_count": 71
        }
      ]
    },
    {
      "cell_type": "markdown",
      "metadata": {
        "id": "HeCR6UOVU2f9",
        "colab_type": "text"
      },
      "source": [
        "Test variance of the samples are all equal (levene test for non normal distribution)"
      ]
    },
    {
      "cell_type": "code",
      "metadata": {
        "id": "1T76Z50dUo_3",
        "colab_type": "code",
        "colab": {
          "base_uri": "https://localhost:8080/",
          "height": 80
        },
        "outputId": "c6fd559d-6fa2-4718-da6c-922f6db4b26e"
      },
      "source": [
        "pg.homoscedasticity(df, group='Sample', dv='SPL4')"
      ],
      "execution_count": 73,
      "outputs": [
        {
          "output_type": "execute_result",
          "data": {
            "text/html": [
              "<div>\n",
              "<style scoped>\n",
              "    .dataframe tbody tr th:only-of-type {\n",
              "        vertical-align: middle;\n",
              "    }\n",
              "\n",
              "    .dataframe tbody tr th {\n",
              "        vertical-align: top;\n",
              "    }\n",
              "\n",
              "    .dataframe thead th {\n",
              "        text-align: right;\n",
              "    }\n",
              "</style>\n",
              "<table border=\"1\" class=\"dataframe\">\n",
              "  <thead>\n",
              "    <tr style=\"text-align: right;\">\n",
              "      <th></th>\n",
              "      <th>W</th>\n",
              "      <th>pval</th>\n",
              "      <th>equal_var</th>\n",
              "    </tr>\n",
              "  </thead>\n",
              "  <tbody>\n",
              "    <tr>\n",
              "      <th>levene</th>\n",
              "      <td>1.323825</td>\n",
              "      <td>0.237946</td>\n",
              "      <td>True</td>\n",
              "    </tr>\n",
              "  </tbody>\n",
              "</table>\n",
              "</div>"
            ],
            "text/plain": [
              "               W      pval  equal_var\n",
              "levene  1.323825  0.237946       True"
            ]
          },
          "metadata": {
            "tags": []
          },
          "execution_count": 73
        }
      ]
    },
    {
      "cell_type": "code",
      "metadata": {
        "id": "ohQ8NIdwUwJH",
        "colab_type": "code",
        "colab": {
          "base_uri": "https://localhost:8080/",
          "height": 80
        },
        "outputId": "fcf63602-42de-4f90-c2f0-63cd73a13ec1"
      },
      "source": [
        "pg.homoscedasticity(df, group='Appraiser', dv='SPL4')"
      ],
      "execution_count": 74,
      "outputs": [
        {
          "output_type": "execute_result",
          "data": {
            "text/html": [
              "<div>\n",
              "<style scoped>\n",
              "    .dataframe tbody tr th:only-of-type {\n",
              "        vertical-align: middle;\n",
              "    }\n",
              "\n",
              "    .dataframe tbody tr th {\n",
              "        vertical-align: top;\n",
              "    }\n",
              "\n",
              "    .dataframe thead th {\n",
              "        text-align: right;\n",
              "    }\n",
              "</style>\n",
              "<table border=\"1\" class=\"dataframe\">\n",
              "  <thead>\n",
              "    <tr style=\"text-align: right;\">\n",
              "      <th></th>\n",
              "      <th>W</th>\n",
              "      <th>pval</th>\n",
              "      <th>equal_var</th>\n",
              "    </tr>\n",
              "  </thead>\n",
              "  <tbody>\n",
              "    <tr>\n",
              "      <th>levene</th>\n",
              "      <td>0.043634</td>\n",
              "      <td>0.957325</td>\n",
              "      <td>True</td>\n",
              "    </tr>\n",
              "  </tbody>\n",
              "</table>\n",
              "</div>"
            ],
            "text/plain": [
              "               W      pval  equal_var\n",
              "levene  0.043634  0.957325       True"
            ]
          },
          "metadata": {
            "tags": []
          },
          "execution_count": 74
        }
      ]
    },
    {
      "cell_type": "markdown",
      "metadata": {
        "id": "wsfd1jwaVXG5",
        "colab_type": "text"
      },
      "source": [
        "##  POST-HOC TESTING (with Tukey HSD test or more)"
      ]
    },
    {
      "cell_type": "markdown",
      "metadata": {
        "id": "H6T85eOyVhVc",
        "colab_type": "text"
      },
      "source": [
        "For equal variance"
      ]
    },
    {
      "cell_type": "code",
      "metadata": {
        "id": "ZvXjcDeVU1c-",
        "colab_type": "code",
        "colab": {
          "base_uri": "https://localhost:8080/",
          "height": 142
        },
        "outputId": "3cc21094-08f0-47d5-92ca-a92291477024"
      },
      "source": [
        "# load packages\n",
        "from pingouin import pairwise_tukey\n",
        "# perform multiple pairwise comparison (Tukey HSD)\n",
        "# for unbalanced (unequal sample size) data, pairwise_tukey uses Tukey-Kramer test\n",
        "m_comp = pairwise_tukey(data=df, dv='SPL4', between='Appraiser').round(3)\n",
        "m_comp['Result']=m_comp['p-tukey'].apply(lambda x: 'Different'if x<0.05 else 'Not different')\n",
        "m_comp"
      ],
      "execution_count": 75,
      "outputs": [
        {
          "output_type": "execute_result",
          "data": {
            "text/html": [
              "<div>\n",
              "<style scoped>\n",
              "    .dataframe tbody tr th:only-of-type {\n",
              "        vertical-align: middle;\n",
              "    }\n",
              "\n",
              "    .dataframe tbody tr th {\n",
              "        vertical-align: top;\n",
              "    }\n",
              "\n",
              "    .dataframe thead th {\n",
              "        text-align: right;\n",
              "    }\n",
              "</style>\n",
              "<table border=\"1\" class=\"dataframe\">\n",
              "  <thead>\n",
              "    <tr style=\"text-align: right;\">\n",
              "      <th></th>\n",
              "      <th>A</th>\n",
              "      <th>B</th>\n",
              "      <th>mean(A)</th>\n",
              "      <th>mean(B)</th>\n",
              "      <th>diff</th>\n",
              "      <th>se</th>\n",
              "      <th>T</th>\n",
              "      <th>p-tukey</th>\n",
              "      <th>hedges</th>\n",
              "      <th>Result</th>\n",
              "    </tr>\n",
              "  </thead>\n",
              "  <tbody>\n",
              "    <tr>\n",
              "      <th>0</th>\n",
              "      <td>1</td>\n",
              "      <td>2</td>\n",
              "      <td>102.825</td>\n",
              "      <td>102.798</td>\n",
              "      <td>0.027</td>\n",
              "      <td>0.149</td>\n",
              "      <td>0.182</td>\n",
              "      <td>0.9</td>\n",
              "      <td>0.046</td>\n",
              "      <td>Not different</td>\n",
              "    </tr>\n",
              "    <tr>\n",
              "      <th>1</th>\n",
              "      <td>1</td>\n",
              "      <td>3</td>\n",
              "      <td>102.825</td>\n",
              "      <td>102.810</td>\n",
              "      <td>0.015</td>\n",
              "      <td>0.149</td>\n",
              "      <td>0.101</td>\n",
              "      <td>0.9</td>\n",
              "      <td>0.026</td>\n",
              "      <td>Not different</td>\n",
              "    </tr>\n",
              "    <tr>\n",
              "      <th>2</th>\n",
              "      <td>2</td>\n",
              "      <td>3</td>\n",
              "      <td>102.798</td>\n",
              "      <td>102.810</td>\n",
              "      <td>-0.012</td>\n",
              "      <td>0.149</td>\n",
              "      <td>-0.081</td>\n",
              "      <td>0.9</td>\n",
              "      <td>-0.021</td>\n",
              "      <td>Not different</td>\n",
              "    </tr>\n",
              "  </tbody>\n",
              "</table>\n",
              "</div>"
            ],
            "text/plain": [
              "   A  B  mean(A)  mean(B)   diff     se      T  p-tukey  hedges         Result\n",
              "0  1  2  102.825  102.798  0.027  0.149  0.182      0.9   0.046  Not different\n",
              "1  1  3  102.825  102.810  0.015  0.149  0.101      0.9   0.026  Not different\n",
              "2  2  3  102.798  102.810 -0.012  0.149 -0.081      0.9  -0.021  Not different"
            ]
          },
          "metadata": {
            "tags": []
          },
          "execution_count": 75
        }
      ]
    },
    {
      "cell_type": "code",
      "metadata": {
        "id": "tppuLW6JXBdL",
        "colab_type": "code",
        "colab": {
          "base_uri": "https://localhost:8080/",
          "height": 137
        },
        "outputId": "c9d22807-ed97-450f-94fb-c4ccfead3f7e"
      },
      "source": [
        "import statsmodels.stats.multicomp as mc\n",
        "\n",
        "comp = mc.MultiComparison(df['SPL4'], df['Appraiser'])\n",
        "post_hoc_res = comp.tukeyhsd()\n",
        "post_hoc_res.summary()"
      ],
      "execution_count": 81,
      "outputs": [
        {
          "output_type": "execute_result",
          "data": {
            "text/html": [
              "<table class=\"simpletable\">\n",
              "<caption>Multiple Comparison of Means - Tukey HSD, FWER=0.05</caption>\n",
              "<tr>\n",
              "  <th>group1</th> <th>group2</th> <th>meandiff</th> <th>p-adj</th>  <th>lower</th>   <th>upper</th> <th>reject</th>\n",
              "</tr>\n",
              "<tr>\n",
              "     <td>1</td>      <td>2</td>    <td>-0.027</td>   <td>0.9</td>  <td>-0.3822</td> <td>0.3281</td>  <td>False</td>\n",
              "</tr>\n",
              "<tr>\n",
              "     <td>1</td>      <td>3</td>    <td>-0.015</td>   <td>0.9</td>  <td>-0.3702</td> <td>0.3401</td>  <td>False</td>\n",
              "</tr>\n",
              "<tr>\n",
              "     <td>2</td>      <td>3</td>     <td>0.012</td>   <td>0.9</td>  <td>-0.3432</td> <td>0.3672</td>  <td>False</td>\n",
              "</tr>\n",
              "</table>"
            ],
            "text/plain": [
              "<class 'statsmodels.iolib.table.SimpleTable'>"
            ]
          },
          "metadata": {
            "tags": []
          },
          "execution_count": 81
        }
      ]
    },
    {
      "cell_type": "code",
      "metadata": {
        "id": "8QTZ2BdCXiIZ",
        "colab_type": "code",
        "colab": {
          "base_uri": "https://localhost:8080/",
          "height": 410
        },
        "outputId": "748b73b5-b740-4f80-c689-90d29ef88881"
      },
      "source": [
        "post_hoc_res.plot_simultaneous(ylabel= \"Appraiser\", xlabel= \"Score Difference\")\n",
        "plt.show()"
      ],
      "execution_count": 83,
      "outputs": [
        {
          "output_type": "display_data",
          "data": {
            "image/png": "[encoded data removed]",
            "text/plain": [
              "<Figure size 720x432 with 1 Axes>"
            ]
          },
          "metadata": {
            "tags": []
          }
        }
      ]
    },
    {
      "cell_type": "markdown",
      "metadata": {
        "id": "4c0A1iVDVjfj",
        "colab_type": "text"
      },
      "source": [
        "For unequal variance"
      ]
    },
    {
      "cell_type": "code",
      "metadata": {
        "id": "jrxamuH3Vk79",
        "colab_type": "code",
        "colab": {
          "base_uri": "https://localhost:8080/",
          "height": 142
        },
        "outputId": "da9e2689-987d-4dc7-eab7-e6151bdfe1b4"
      },
      "source": [
        "m_comp=pg.pairwise_gameshowell(data=df, dv='SPL4', between='Appraiser')\n",
        "m_comp['Result']=m_comp['pval'].apply(lambda x: 'Different'if x<0.05 else 'Not different')\n",
        "m_comp"
      ],
      "execution_count": 80,
      "outputs": [
        {
          "output_type": "execute_result",
          "data": {
            "text/html": [
              "<div>\n",
              "<style scoped>\n",
              "    .dataframe tbody tr th:only-of-type {\n",
              "        vertical-align: middle;\n",
              "    }\n",
              "\n",
              "    .dataframe tbody tr th {\n",
              "        vertical-align: top;\n",
              "    }\n",
              "\n",
              "    .dataframe thead th {\n",
              "        text-align: right;\n",
              "    }\n",
              "</style>\n",
              "<table border=\"1\" class=\"dataframe\">\n",
              "  <thead>\n",
              "    <tr style=\"text-align: right;\">\n",
              "      <th></th>\n",
              "      <th>A</th>\n",
              "      <th>B</th>\n",
              "      <th>mean(A)</th>\n",
              "      <th>mean(B)</th>\n",
              "      <th>diff</th>\n",
              "      <th>se</th>\n",
              "      <th>T</th>\n",
              "      <th>df</th>\n",
              "      <th>pval</th>\n",
              "      <th>hedges</th>\n",
              "      <th>Result</th>\n",
              "    </tr>\n",
              "  </thead>\n",
              "  <tbody>\n",
              "    <tr>\n",
              "      <th>0</th>\n",
              "      <td>1</td>\n",
              "      <td>2</td>\n",
              "      <td>102.824600</td>\n",
              "      <td>102.797567</td>\n",
              "      <td>0.027033</td>\n",
              "      <td>0.149210</td>\n",
              "      <td>0.181176</td>\n",
              "      <td>57.984596</td>\n",
              "      <td>0.9</td>\n",
              "      <td>0.046172</td>\n",
              "      <td>Not different</td>\n",
              "    </tr>\n",
              "    <tr>\n",
              "      <th>1</th>\n",
              "      <td>1</td>\n",
              "      <td>3</td>\n",
              "      <td>102.824600</td>\n",
              "      <td>102.809567</td>\n",
              "      <td>0.015033</td>\n",
              "      <td>0.148193</td>\n",
              "      <td>0.101444</td>\n",
              "      <td>57.999563</td>\n",
              "      <td>0.9</td>\n",
              "      <td>0.025853</td>\n",
              "      <td>Not different</td>\n",
              "    </tr>\n",
              "    <tr>\n",
              "      <th>2</th>\n",
              "      <td>2</td>\n",
              "      <td>3</td>\n",
              "      <td>102.797567</td>\n",
              "      <td>102.809567</td>\n",
              "      <td>-0.012000</td>\n",
              "      <td>0.149412</td>\n",
              "      <td>-0.080315</td>\n",
              "      <td>57.989347</td>\n",
              "      <td>0.9</td>\n",
              "      <td>-0.020468</td>\n",
              "      <td>Not different</td>\n",
              "    </tr>\n",
              "  </tbody>\n",
              "</table>\n",
              "</div>"
            ],
            "text/plain": [
              "   A  B     mean(A)     mean(B)  ...         df  pval    hedges         Result\n",
              "0  1  2  102.824600  102.797567  ...  57.984596   0.9  0.046172  Not different\n",
              "1  1  3  102.824600  102.809567  ...  57.999563   0.9  0.025853  Not different\n",
              "2  2  3  102.797567  102.809567  ...  57.989347   0.9 -0.020468  Not different\n",
              "\n",
              "[3 rows x 11 columns]"
            ]
          },
          "metadata": {
            "tags": []
          },
          "execution_count": 80
        }
      ]
    },
    {
      "cell_type": "code",
      "metadata": {
        "id": "rPLpJ5twV_LD",
        "colab_type": "code",
        "colab": {}
      },
      "source": [
        ""
      ],
      "execution_count": null,
      "outputs": []
    }
  ]
}