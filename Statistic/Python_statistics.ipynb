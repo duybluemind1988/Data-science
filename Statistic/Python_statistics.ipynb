{
  "nbformat": 4,
  "nbformat_minor": 0,
  "metadata": {
    "colab": {
      "name": "Python_statistics.ipynb",
      "provenance": [],
      "collapsed_sections": [],
      "authorship_tag": "ABX9TyMuMEfSGnW51ZS85o/hqDdC",
      "include_colab_link": true
    },
    "kernelspec": {
      "name": "python3",
      "display_name": "Python 3"
    }
  },
  "cells": [
    {
      "cell_type": "markdown",
      "metadata": {
        "id": "view-in-github",
        "colab_type": "text"
      },
      "source": [
        "<a href=\"https://colab.research.google.com/github/duybluemind1988/Data-science/blob/master/Statistic/Python_statistics.ipynb\" target=\"_parent\"><img src=\"https://colab.research.google.com/assets/colab-badge.svg\" alt=\"Open In Colab\"/></a>"
      ]
    },
    {
      "cell_type": "markdown",
      "metadata": {
        "id": "PHZrgQCkk92P",
        "colab_type": "text"
      },
      "source": [
        "https://reneshbedre.github.io/blog/anova.html"
      ]
    },
    {
      "cell_type": "markdown",
      "metadata": {
        "id": "vKxvl-MWlWFo",
        "colab_type": "text"
      },
      "source": [
        "# One-way (one factor) ANOVA with Python"
      ]
    },
    {
      "cell_type": "markdown",
      "metadata": {
        "id": "1T5a0TtglDnT",
        "colab_type": "text"
      },
      "source": [
        "ANOVA Hypotheses\n",
        "\n",
        "- Null hypotheses: Groups means are equal (no variation in means of groups)\n",
        "- Alternative hypotheses: At least, one group mean is different from other groups\n",
        "\n",
        "ANOVA Assumptions\n",
        "\n",
        "- Residuals (experimental error) are normally distributed (Shapiro-Wilks Test)\n",
        "- Homogeneity of variances (variances are equal between treatment groups) (Levene or Bartlett Test)\n",
        "- Observations are sampled independently from each other\n",
        "\n",
        "How ANOVA works?\n",
        "\n",
        "- Check sample sizes: equal number of observation in each group\n",
        "- Calculate Mean Square for each group (MS) (SS of group/level-1); level-1 is a degree of freedom (df) for a group\n",
        "- Calculate Mean Square error (MSE) (SS error/df of residuals)\n",
        "- Calculate F-value (MS of group/MSE)"
      ]
    },
    {
      "cell_type": "code",
      "metadata": {
        "id": "RWNSN4-Qk7Mf",
        "colab_type": "code",
        "colab": {
          "base_uri": "https://localhost:8080/",
          "height": 204
        },
        "outputId": "4d4cd0d0-ece4-40fa-df38-e8f5a6429bc0"
      },
      "source": [
        "# I am using Python 3\n",
        "# load packages\n",
        "import pandas as pd\n",
        "# load data file\n",
        "d = pd.read_csv(\"https://reneshbedre.github.io/assets/posts/anova/onewayanova.txt\", sep=\"\\t\")\n",
        "d"
      ],
      "execution_count": 37,
      "outputs": [
        {
          "output_type": "execute_result",
          "data": {
            "text/html": [
              "<div>\n",
              "<style scoped>\n",
              "    .dataframe tbody tr th:only-of-type {\n",
              "        vertical-align: middle;\n",
              "    }\n",
              "\n",
              "    .dataframe tbody tr th {\n",
              "        vertical-align: top;\n",
              "    }\n",
              "\n",
              "    .dataframe thead th {\n",
              "        text-align: right;\n",
              "    }\n",
              "</style>\n",
              "<table border=\"1\" class=\"dataframe\">\n",
              "  <thead>\n",
              "    <tr style=\"text-align: right;\">\n",
              "      <th></th>\n",
              "      <th>A</th>\n",
              "      <th>B</th>\n",
              "      <th>C</th>\n",
              "      <th>D</th>\n",
              "    </tr>\n",
              "  </thead>\n",
              "  <tbody>\n",
              "    <tr>\n",
              "      <th>0</th>\n",
              "      <td>25</td>\n",
              "      <td>45</td>\n",
              "      <td>30</td>\n",
              "      <td>54</td>\n",
              "    </tr>\n",
              "    <tr>\n",
              "      <th>1</th>\n",
              "      <td>30</td>\n",
              "      <td>55</td>\n",
              "      <td>29</td>\n",
              "      <td>60</td>\n",
              "    </tr>\n",
              "    <tr>\n",
              "      <th>2</th>\n",
              "      <td>28</td>\n",
              "      <td>29</td>\n",
              "      <td>33</td>\n",
              "      <td>51</td>\n",
              "    </tr>\n",
              "    <tr>\n",
              "      <th>3</th>\n",
              "      <td>36</td>\n",
              "      <td>56</td>\n",
              "      <td>37</td>\n",
              "      <td>62</td>\n",
              "    </tr>\n",
              "    <tr>\n",
              "      <th>4</th>\n",
              "      <td>29</td>\n",
              "      <td>40</td>\n",
              "      <td>27</td>\n",
              "      <td>73</td>\n",
              "    </tr>\n",
              "  </tbody>\n",
              "</table>\n",
              "</div>"
            ],
            "text/plain": [
              "    A   B   C   D\n",
              "0  25  45  30  54\n",
              "1  30  55  29  60\n",
              "2  28  29  33  51\n",
              "3  36  56  37  62\n",
              "4  29  40  27  73"
            ]
          },
          "metadata": {
            "tags": []
          },
          "execution_count": 37
        }
      ]
    },
    {
      "cell_type": "code",
      "metadata": {
        "id": "geQBDX2Fk-Va",
        "colab_type": "code",
        "colab": {
          "base_uri": "https://localhost:8080/",
          "height": 282
        },
        "outputId": "34fafea7-a510-4fa1-ed8c-05296cb4b8a1"
      },
      "source": [
        "# generate a boxplot to see the data distribution by treatments. Using boxplot, we can easily detect the differences \n",
        "# between different treatments\n",
        "d.boxplot(column=['A', 'B', 'C', 'D'], grid=False)"
      ],
      "execution_count": 38,
      "outputs": [
        {
          "output_type": "execute_result",
          "data": {
            "text/plain": [
              "<matplotlib.axes._subplots.AxesSubplot at 0x7fbc5e4d9438>"
            ]
          },
          "metadata": {
            "tags": []
          },
          "execution_count": 38
        },
        {
          "output_type": "display_data",
          "data": {
            "image/png": "[encoded data removed]",
            "text/plain": [
              "<Figure size 432x288 with 1 Axes>"
            ]
          },
          "metadata": {
            "tags": [],
            "needs_background": "light"
          }
        }
      ]
    },
    {
      "cell_type": "code",
      "metadata": {
        "id": "oWaJVyRpk-D-",
        "colab_type": "code",
        "colab": {
          "base_uri": "https://localhost:8080/",
          "height": 34
        },
        "outputId": "495f2918-aabc-469d-87b1-250b21cd662e"
      },
      "source": [
        "# load packages\n",
        "import scipy.stats as stats\n",
        "# stats f_oneway functions takes the groups as input and returns F and P-value\n",
        "fvalue, pvalue = stats.f_oneway(d['A'], d['B'], d['C'], d['D'])\n",
        "print(fvalue, pvalue)"
      ],
      "execution_count": 39,
      "outputs": [
        {
          "output_type": "stream",
          "text": [
            "17.492810457516338 2.639241146210922e-05\n"
          ],
          "name": "stdout"
        }
      ]
    },
    {
      "cell_type": "code",
      "metadata": {
        "id": "AjvrxiPVmtHu",
        "colab_type": "code",
        "colab": {
          "base_uri": "https://localhost:8080/",
          "height": 669
        },
        "outputId": "18684233-f8a0-4778-89e4-1e4eec818fc3"
      },
      "source": [
        "# get ANOVA table as R like output\n",
        "import statsmodels.api as sm\n",
        "from statsmodels.formula.api import ols\n",
        "# reshape the d dataframe suitable for statsmodels package \n",
        "d_melt = pd.melt(d.reset_index(), id_vars=['index'], value_vars=['A', 'B', 'C', 'D'])\n",
        "# replace column names\n",
        "d_melt.columns = ['index', 'treatments', 'value']\n",
        "d_melt"
      ],
      "execution_count": 40,
      "outputs": [
        {
          "output_type": "execute_result",
          "data": {
            "text/html": [
              "<div>\n",
              "<style scoped>\n",
              "    .dataframe tbody tr th:only-of-type {\n",
              "        vertical-align: middle;\n",
              "    }\n",
              "\n",
              "    .dataframe tbody tr th {\n",
              "        vertical-align: top;\n",
              "    }\n",
              "\n",
              "    .dataframe thead th {\n",
              "        text-align: right;\n",
              "    }\n",
              "</style>\n",
              "<table border=\"1\" class=\"dataframe\">\n",
              "  <thead>\n",
              "    <tr style=\"text-align: right;\">\n",
              "      <th></th>\n",
              "      <th>index</th>\n",
              "      <th>treatments</th>\n",
              "      <th>value</th>\n",
              "    </tr>\n",
              "  </thead>\n",
              "  <tbody>\n",
              "    <tr>\n",
              "      <th>0</th>\n",
              "      <td>0</td>\n",
              "      <td>A</td>\n",
              "      <td>25</td>\n",
              "    </tr>\n",
              "    <tr>\n",
              "      <th>1</th>\n",
              "      <td>1</td>\n",
              "      <td>A</td>\n",
              "      <td>30</td>\n",
              "    </tr>\n",
              "    <tr>\n",
              "      <th>2</th>\n",
              "      <td>2</td>\n",
              "      <td>A</td>\n",
              "      <td>28</td>\n",
              "    </tr>\n",
              "    <tr>\n",
              "      <th>3</th>\n",
              "      <td>3</td>\n",
              "      <td>A</td>\n",
              "      <td>36</td>\n",
              "    </tr>\n",
              "    <tr>\n",
              "      <th>4</th>\n",
              "      <td>4</td>\n",
              "      <td>A</td>\n",
              "      <td>29</td>\n",
              "    </tr>\n",
              "    <tr>\n",
              "      <th>5</th>\n",
              "      <td>0</td>\n",
              "      <td>B</td>\n",
              "      <td>45</td>\n",
              "    </tr>\n",
              "    <tr>\n",
              "      <th>6</th>\n",
              "      <td>1</td>\n",
              "      <td>B</td>\n",
              "      <td>55</td>\n",
              "    </tr>\n",
              "    <tr>\n",
              "      <th>7</th>\n",
              "      <td>2</td>\n",
              "      <td>B</td>\n",
              "      <td>29</td>\n",
              "    </tr>\n",
              "    <tr>\n",
              "      <th>8</th>\n",
              "      <td>3</td>\n",
              "      <td>B</td>\n",
              "      <td>56</td>\n",
              "    </tr>\n",
              "    <tr>\n",
              "      <th>9</th>\n",
              "      <td>4</td>\n",
              "      <td>B</td>\n",
              "      <td>40</td>\n",
              "    </tr>\n",
              "    <tr>\n",
              "      <th>10</th>\n",
              "      <td>0</td>\n",
              "      <td>C</td>\n",
              "      <td>30</td>\n",
              "    </tr>\n",
              "    <tr>\n",
              "      <th>11</th>\n",
              "      <td>1</td>\n",
              "      <td>C</td>\n",
              "      <td>29</td>\n",
              "    </tr>\n",
              "    <tr>\n",
              "      <th>12</th>\n",
              "      <td>2</td>\n",
              "      <td>C</td>\n",
              "      <td>33</td>\n",
              "    </tr>\n",
              "    <tr>\n",
              "      <th>13</th>\n",
              "      <td>3</td>\n",
              "      <td>C</td>\n",
              "      <td>37</td>\n",
              "    </tr>\n",
              "    <tr>\n",
              "      <th>14</th>\n",
              "      <td>4</td>\n",
              "      <td>C</td>\n",
              "      <td>27</td>\n",
              "    </tr>\n",
              "    <tr>\n",
              "      <th>15</th>\n",
              "      <td>0</td>\n",
              "      <td>D</td>\n",
              "      <td>54</td>\n",
              "    </tr>\n",
              "    <tr>\n",
              "      <th>16</th>\n",
              "      <td>1</td>\n",
              "      <td>D</td>\n",
              "      <td>60</td>\n",
              "    </tr>\n",
              "    <tr>\n",
              "      <th>17</th>\n",
              "      <td>2</td>\n",
              "      <td>D</td>\n",
              "      <td>51</td>\n",
              "    </tr>\n",
              "    <tr>\n",
              "      <th>18</th>\n",
              "      <td>3</td>\n",
              "      <td>D</td>\n",
              "      <td>62</td>\n",
              "    </tr>\n",
              "    <tr>\n",
              "      <th>19</th>\n",
              "      <td>4</td>\n",
              "      <td>D</td>\n",
              "      <td>73</td>\n",
              "    </tr>\n",
              "  </tbody>\n",
              "</table>\n",
              "</div>"
            ],
            "text/plain": [
              "    index treatments  value\n",
              "0       0          A     25\n",
              "1       1          A     30\n",
              "2       2          A     28\n",
              "3       3          A     36\n",
              "4       4          A     29\n",
              "5       0          B     45\n",
              "6       1          B     55\n",
              "7       2          B     29\n",
              "8       3          B     56\n",
              "9       4          B     40\n",
              "10      0          C     30\n",
              "11      1          C     29\n",
              "12      2          C     33\n",
              "13      3          C     37\n",
              "14      4          C     27\n",
              "15      0          D     54\n",
              "16      1          D     60\n",
              "17      2          D     51\n",
              "18      3          D     62\n",
              "19      4          D     73"
            ]
          },
          "metadata": {
            "tags": []
          },
          "execution_count": 40
        }
      ]
    },
    {
      "cell_type": "code",
      "metadata": {
        "id": "EZ1bLp7mnFHg",
        "colab_type": "code",
        "colab": {
          "base_uri": "https://localhost:8080/",
          "height": 111
        },
        "outputId": "f7804c38-4d9b-4fa2-d9dd-aa14cc568b81"
      },
      "source": [
        "# Ordinary Least Squares (OLS) model\n",
        "model = ols('value ~ C(treatments)', data=d_melt).fit()\n",
        "anova_table = sm.stats.anova_lm(model, typ=2)\n",
        "anova_table"
      ],
      "execution_count": 41,
      "outputs": [
        {
          "output_type": "execute_result",
          "data": {
            "text/html": [
              "<div>\n",
              "<style scoped>\n",
              "    .dataframe tbody tr th:only-of-type {\n",
              "        vertical-align: middle;\n",
              "    }\n",
              "\n",
              "    .dataframe tbody tr th {\n",
              "        vertical-align: top;\n",
              "    }\n",
              "\n",
              "    .dataframe thead th {\n",
              "        text-align: right;\n",
              "    }\n",
              "</style>\n",
              "<table border=\"1\" class=\"dataframe\">\n",
              "  <thead>\n",
              "    <tr style=\"text-align: right;\">\n",
              "      <th></th>\n",
              "      <th>sum_sq</th>\n",
              "      <th>df</th>\n",
              "      <th>F</th>\n",
              "      <th>PR(&gt;F)</th>\n",
              "    </tr>\n",
              "  </thead>\n",
              "  <tbody>\n",
              "    <tr>\n",
              "      <th>C(treatments)</th>\n",
              "      <td>3010.95</td>\n",
              "      <td>3.0</td>\n",
              "      <td>17.49281</td>\n",
              "      <td>0.000026</td>\n",
              "    </tr>\n",
              "    <tr>\n",
              "      <th>Residual</th>\n",
              "      <td>918.00</td>\n",
              "      <td>16.0</td>\n",
              "      <td>NaN</td>\n",
              "      <td>NaN</td>\n",
              "    </tr>\n",
              "  </tbody>\n",
              "</table>\n",
              "</div>"
            ],
            "text/plain": [
              "                sum_sq    df         F    PR(>F)\n",
              "C(treatments)  3010.95   3.0  17.49281  0.000026\n",
              "Residual        918.00  16.0       NaN       NaN"
            ]
          },
          "metadata": {
            "tags": []
          },
          "execution_count": 41
        }
      ]
    },
    {
      "cell_type": "code",
      "metadata": {
        "id": "nfMOvDWRmzMR",
        "colab_type": "code",
        "colab": {}
      },
      "source": [
        "# note: if the data is balanced (equal sample size for each group), Type 1, 2, and 3 sums of squares\n",
        "# (typ parameter) will produce similar results."
      ],
      "execution_count": 16,
      "outputs": []
    },
    {
      "cell_type": "markdown",
      "metadata": {
        "id": "mX-OQ5BJm_SQ",
        "colab_type": "text"
      },
      "source": [
        "Interpretation: The P-value obtained from ANOVA analysis is significant (P<0.05), and therefore, we conclude that there are significant differences among treatments."
      ]
    },
    {
      "cell_type": "markdown",
      "metadata": {
        "id": "MJy9JpTHnPY6",
        "colab_type": "text"
      },
      "source": [
        "From ANOVA analysis, we know that treatment differences are statistically significant, but ANOVA does not tell which treatments are significantly different from each other. To know the pairs of significant different treatments, we will perform multiple pairwise comparison (Post-hoc comparison) analysis using Tukey HSD test."
      ]
    },
    {
      "cell_type": "markdown",
      "metadata": {
        "id": "Mc_8w96VsmVY",
        "colab_type": "text"
      },
      "source": [
        "## Test ANOVA assumptions"
      ]
    },
    {
      "cell_type": "markdown",
      "metadata": {
        "id": "9xOrGAJlt0Fq",
        "colab_type": "text"
      },
      "source": [
        "ANOVA Assumptions\n",
        "\n",
        "- Residuals (experimental error) are normally distributed (Shapiro-Wilks Test)\n",
        "- Homogeneity of variances (variances are equal between treatment groups) (Levene or Bartlett Test)\n",
        "- Observations are sampled independently from each other"
      ]
    },
    {
      "cell_type": "markdown",
      "metadata": {
        "id": "XsoqNo2zsyC6",
        "colab_type": "text"
      },
      "source": [
        "The Shapiro-Wilk test can be used to check the normal distribution of residuals . Null hypothesis: data is drawn from normal distribution."
      ]
    },
    {
      "cell_type": "code",
      "metadata": {
        "id": "0-t7lm_iuCG8",
        "colab_type": "code",
        "colab": {
          "base_uri": "https://localhost:8080/",
          "height": 374
        },
        "outputId": "91f9a16e-3e4d-41b5-ab29-3e7063be7618"
      },
      "source": [
        "model.resid"
      ],
      "execution_count": 28,
      "outputs": [
        {
          "output_type": "execute_result",
          "data": {
            "text/plain": [
              "0    -4.600000e+00\n",
              "1     4.000000e-01\n",
              "2    -1.600000e+00\n",
              "3     6.400000e+00\n",
              "4    -6.000000e-01\n",
              "5     0.000000e+00\n",
              "6     1.000000e+01\n",
              "7    -1.600000e+01\n",
              "8     1.100000e+01\n",
              "9    -5.000000e+00\n",
              "10   -1.200000e+00\n",
              "11   -2.200000e+00\n",
              "12    1.800000e+00\n",
              "13    5.800000e+00\n",
              "14   -4.200000e+00\n",
              "15   -6.000000e+00\n",
              "16    7.105427e-15\n",
              "17   -9.000000e+00\n",
              "18    2.000000e+00\n",
              "19    1.300000e+01\n",
              "dtype: float64"
            ]
          },
          "metadata": {
            "tags": []
          },
          "execution_count": 28
        }
      ]
    },
    {
      "cell_type": "code",
      "metadata": {
        "id": "Mbm-XvEqsimF",
        "colab_type": "code",
        "colab": {
          "base_uri": "https://localhost:8080/",
          "height": 34
        },
        "outputId": "51e084ab-ff4f-4556-84f3-9672e10dfae0"
      },
      "source": [
        "# load packages\n",
        "import scipy.stats as stats\n",
        "w, pvalue = stats.shapiro(model.resid)\n",
        "print(w, pvalue)"
      ],
      "execution_count": 25,
      "outputs": [
        {
          "output_type": "stream",
          "text": [
            "0.9685019850730896 0.7229772806167603\n"
          ],
          "name": "stdout"
        }
      ]
    },
    {
      "cell_type": "markdown",
      "metadata": {
        "id": "9riYqC7gskcd",
        "colab_type": "text"
      },
      "source": [
        "As the P-value is non significant, we fail to reject null hypothesis and conclude that data is drawn from normal distribution."
      ]
    },
    {
      "cell_type": "markdown",
      "metadata": {
        "id": "wULk8-y1s43n",
        "colab_type": "text"
      },
      "source": [
        "As the data is drawn from normal distribution, use Bartlett’s test to check the Homogeneity of variances. Null hypothesis: samples from populations have equal variances."
      ]
    },
    {
      "cell_type": "code",
      "metadata": {
        "id": "8vBEHzSbs5lQ",
        "colab_type": "code",
        "colab": {
          "base_uri": "https://localhost:8080/",
          "height": 34
        },
        "outputId": "7329c0f7-4864-449e-c549-9ec982c3d06b"
      },
      "source": [
        "# load packages\n",
        "import scipy.stats as stats\n",
        "w, pvalue = stats.bartlett(d['A'], d['B'], d['C'], d['D'])\n",
        "print(w, pvalue)"
      ],
      "execution_count": 26,
      "outputs": [
        {
          "output_type": "stream",
          "text": [
            "5.687843565012841 0.1278253399753447\n"
          ],
          "name": "stdout"
        }
      ]
    },
    {
      "cell_type": "markdown",
      "metadata": {
        "id": "FCn7oFA5s-G-",
        "colab_type": "text"
      },
      "source": [
        "As the P-value (0.12) is non significant, we fail to reject null hypothesis and conclude that treatments have equal variances."
      ]
    },
    {
      "cell_type": "markdown",
      "metadata": {
        "id": "UEDNtZE5tK9V",
        "colab_type": "text"
      },
      "source": [
        "Levene test can be used to check the Homogeneity of variances when the data is not drawn from normal distribution."
      ]
    },
    {
      "cell_type": "code",
      "metadata": {
        "id": "GPFQSCCgtUJh",
        "colab_type": "code",
        "colab": {
          "base_uri": "https://localhost:8080/",
          "height": 34
        },
        "outputId": "d295d0ea-dd7e-445a-f2c6-93f24684aa8a"
      },
      "source": [
        "from scipy.stats import levene\n",
        "stat, pvalue = levene(d['A'], d['B'], d['C'], d['D'])\n",
        "print(stat, pvalue)"
      ],
      "execution_count": 27,
      "outputs": [
        {
          "output_type": "stream",
          "text": [
            "1.9219593192195938 0.16673281219949276\n"
          ],
          "name": "stdout"
        }
      ]
    },
    {
      "cell_type": "markdown",
      "metadata": {
        "id": "1FoWy-WOnQwg",
        "colab_type": "text"
      },
      "source": [
        "## Tukey HSD test"
      ]
    },
    {
      "cell_type": "code",
      "metadata": {
        "id": "Cdl_UGAWnVcE",
        "colab_type": "code",
        "colab": {}
      },
      "source": [
        "#!pip install pingouin"
      ],
      "execution_count": null,
      "outputs": []
    },
    {
      "cell_type": "code",
      "metadata": {
        "id": "1Rr7QWiqm7g6",
        "colab_type": "code",
        "colab": {
          "base_uri": "https://localhost:8080/",
          "height": 235
        },
        "outputId": "7cc553cc-fc11-42a7-b245-9c8f5631d8d4"
      },
      "source": [
        "# load packages\n",
        "from pingouin import pairwise_tukey\n",
        "# perform multiple pairwise comparison (Tukey HSD)\n",
        "# for unbalanced (unequal sample size) data, pairwise_tukey uses Tukey-Kramer test\n",
        "m_comp = pairwise_tukey(data=d_melt, dv='value', between='treatments').round(3)\n",
        "m_comp"
      ],
      "execution_count": 17,
      "outputs": [
        {
          "output_type": "execute_result",
          "data": {
            "text/html": [
              "<div>\n",
              "<style scoped>\n",
              "    .dataframe tbody tr th:only-of-type {\n",
              "        vertical-align: middle;\n",
              "    }\n",
              "\n",
              "    .dataframe tbody tr th {\n",
              "        vertical-align: top;\n",
              "    }\n",
              "\n",
              "    .dataframe thead th {\n",
              "        text-align: right;\n",
              "    }\n",
              "</style>\n",
              "<table border=\"1\" class=\"dataframe\">\n",
              "  <thead>\n",
              "    <tr style=\"text-align: right;\">\n",
              "      <th></th>\n",
              "      <th>A</th>\n",
              "      <th>B</th>\n",
              "      <th>mean(A)</th>\n",
              "      <th>mean(B)</th>\n",
              "      <th>diff</th>\n",
              "      <th>se</th>\n",
              "      <th>T</th>\n",
              "      <th>p-tukey</th>\n",
              "      <th>hedges</th>\n",
              "    </tr>\n",
              "  </thead>\n",
              "  <tbody>\n",
              "    <tr>\n",
              "      <th>0</th>\n",
              "      <td>A</td>\n",
              "      <td>B</td>\n",
              "      <td>29.6</td>\n",
              "      <td>45.0</td>\n",
              "      <td>-15.4</td>\n",
              "      <td>4.790616</td>\n",
              "      <td>-3.214618</td>\n",
              "      <td>0.010718</td>\n",
              "      <td>-1.836351</td>\n",
              "    </tr>\n",
              "    <tr>\n",
              "      <th>1</th>\n",
              "      <td>A</td>\n",
              "      <td>C</td>\n",
              "      <td>29.6</td>\n",
              "      <td>31.2</td>\n",
              "      <td>-1.6</td>\n",
              "      <td>4.790616</td>\n",
              "      <td>-0.333986</td>\n",
              "      <td>0.900000</td>\n",
              "      <td>-0.190790</td>\n",
              "    </tr>\n",
              "    <tr>\n",
              "      <th>2</th>\n",
              "      <td>A</td>\n",
              "      <td>D</td>\n",
              "      <td>29.6</td>\n",
              "      <td>60.0</td>\n",
              "      <td>-30.4</td>\n",
              "      <td>4.790616</td>\n",
              "      <td>-6.345739</td>\n",
              "      <td>0.001000</td>\n",
              "      <td>-3.625005</td>\n",
              "    </tr>\n",
              "    <tr>\n",
              "      <th>3</th>\n",
              "      <td>B</td>\n",
              "      <td>C</td>\n",
              "      <td>45.0</td>\n",
              "      <td>31.2</td>\n",
              "      <td>13.8</td>\n",
              "      <td>4.790616</td>\n",
              "      <td>2.880632</td>\n",
              "      <td>0.027410</td>\n",
              "      <td>1.645561</td>\n",
              "    </tr>\n",
              "    <tr>\n",
              "      <th>4</th>\n",
              "      <td>B</td>\n",
              "      <td>D</td>\n",
              "      <td>45.0</td>\n",
              "      <td>60.0</td>\n",
              "      <td>-15.0</td>\n",
              "      <td>4.790616</td>\n",
              "      <td>-3.131121</td>\n",
              "      <td>0.013679</td>\n",
              "      <td>-1.788654</td>\n",
              "    </tr>\n",
              "    <tr>\n",
              "      <th>5</th>\n",
              "      <td>C</td>\n",
              "      <td>D</td>\n",
              "      <td>31.2</td>\n",
              "      <td>60.0</td>\n",
              "      <td>-28.8</td>\n",
              "      <td>4.790616</td>\n",
              "      <td>-6.011753</td>\n",
              "      <td>0.001000</td>\n",
              "      <td>-3.434215</td>\n",
              "    </tr>\n",
              "  </tbody>\n",
              "</table>\n",
              "</div>"
            ],
            "text/plain": [
              "   A  B  mean(A)  mean(B)  diff        se         T   p-tukey    hedges\n",
              "0  A  B     29.6     45.0 -15.4  4.790616 -3.214618  0.010718 -1.836351\n",
              "1  A  C     29.6     31.2  -1.6  4.790616 -0.333986  0.900000 -0.190790\n",
              "2  A  D     29.6     60.0 -30.4  4.790616 -6.345739  0.001000 -3.625005\n",
              "3  B  C     45.0     31.2  13.8  4.790616  2.880632  0.027410  1.645561\n",
              "4  B  D     45.0     60.0 -15.0  4.790616 -3.131121  0.013679 -1.788654\n",
              "5  C  D     31.2     60.0 -28.8  4.790616 -6.011753  0.001000 -3.434215"
            ]
          },
          "metadata": {
            "tags": []
          },
          "execution_count": 17
        }
      ]
    },
    {
      "cell_type": "code",
      "metadata": {
        "id": "bW54Q55Ingsz",
        "colab_type": "code",
        "colab": {}
      },
      "source": [
        "m_comp['Result']=m_comp['p-tukey'].apply(lambda x: 'Different'if x<0.05 else 'Not different')"
      ],
      "execution_count": 23,
      "outputs": []
    },
    {
      "cell_type": "code",
      "metadata": {
        "id": "9wBuToeBozwb",
        "colab_type": "code",
        "colab": {
          "base_uri": "https://localhost:8080/",
          "height": 235
        },
        "outputId": "84d60f04-3b8b-4094-d15a-74e54de9eca9"
      },
      "source": [
        "m_comp"
      ],
      "execution_count": 24,
      "outputs": [
        {
          "output_type": "execute_result",
          "data": {
            "text/html": [
              "<div>\n",
              "<style scoped>\n",
              "    .dataframe tbody tr th:only-of-type {\n",
              "        vertical-align: middle;\n",
              "    }\n",
              "\n",
              "    .dataframe tbody tr th {\n",
              "        vertical-align: top;\n",
              "    }\n",
              "\n",
              "    .dataframe thead th {\n",
              "        text-align: right;\n",
              "    }\n",
              "</style>\n",
              "<table border=\"1\" class=\"dataframe\">\n",
              "  <thead>\n",
              "    <tr style=\"text-align: right;\">\n",
              "      <th></th>\n",
              "      <th>A</th>\n",
              "      <th>B</th>\n",
              "      <th>mean(A)</th>\n",
              "      <th>mean(B)</th>\n",
              "      <th>diff</th>\n",
              "      <th>se</th>\n",
              "      <th>T</th>\n",
              "      <th>p-tukey</th>\n",
              "      <th>hedges</th>\n",
              "      <th>Result</th>\n",
              "    </tr>\n",
              "  </thead>\n",
              "  <tbody>\n",
              "    <tr>\n",
              "      <th>0</th>\n",
              "      <td>A</td>\n",
              "      <td>B</td>\n",
              "      <td>29.6</td>\n",
              "      <td>45.0</td>\n",
              "      <td>-15.4</td>\n",
              "      <td>4.790616</td>\n",
              "      <td>-3.214618</td>\n",
              "      <td>0.010718</td>\n",
              "      <td>-1.836351</td>\n",
              "      <td>Different</td>\n",
              "    </tr>\n",
              "    <tr>\n",
              "      <th>1</th>\n",
              "      <td>A</td>\n",
              "      <td>C</td>\n",
              "      <td>29.6</td>\n",
              "      <td>31.2</td>\n",
              "      <td>-1.6</td>\n",
              "      <td>4.790616</td>\n",
              "      <td>-0.333986</td>\n",
              "      <td>0.900000</td>\n",
              "      <td>-0.190790</td>\n",
              "      <td>Not different</td>\n",
              "    </tr>\n",
              "    <tr>\n",
              "      <th>2</th>\n",
              "      <td>A</td>\n",
              "      <td>D</td>\n",
              "      <td>29.6</td>\n",
              "      <td>60.0</td>\n",
              "      <td>-30.4</td>\n",
              "      <td>4.790616</td>\n",
              "      <td>-6.345739</td>\n",
              "      <td>0.001000</td>\n",
              "      <td>-3.625005</td>\n",
              "      <td>Different</td>\n",
              "    </tr>\n",
              "    <tr>\n",
              "      <th>3</th>\n",
              "      <td>B</td>\n",
              "      <td>C</td>\n",
              "      <td>45.0</td>\n",
              "      <td>31.2</td>\n",
              "      <td>13.8</td>\n",
              "      <td>4.790616</td>\n",
              "      <td>2.880632</td>\n",
              "      <td>0.027410</td>\n",
              "      <td>1.645561</td>\n",
              "      <td>Different</td>\n",
              "    </tr>\n",
              "    <tr>\n",
              "      <th>4</th>\n",
              "      <td>B</td>\n",
              "      <td>D</td>\n",
              "      <td>45.0</td>\n",
              "      <td>60.0</td>\n",
              "      <td>-15.0</td>\n",
              "      <td>4.790616</td>\n",
              "      <td>-3.131121</td>\n",
              "      <td>0.013679</td>\n",
              "      <td>-1.788654</td>\n",
              "      <td>Different</td>\n",
              "    </tr>\n",
              "    <tr>\n",
              "      <th>5</th>\n",
              "      <td>C</td>\n",
              "      <td>D</td>\n",
              "      <td>31.2</td>\n",
              "      <td>60.0</td>\n",
              "      <td>-28.8</td>\n",
              "      <td>4.790616</td>\n",
              "      <td>-6.011753</td>\n",
              "      <td>0.001000</td>\n",
              "      <td>-3.434215</td>\n",
              "      <td>Different</td>\n",
              "    </tr>\n",
              "  </tbody>\n",
              "</table>\n",
              "</div>"
            ],
            "text/plain": [
              "   A  B  mean(A)  mean(B)  ...         T   p-tukey    hedges         Result\n",
              "0  A  B     29.6     45.0  ... -3.214618  0.010718 -1.836351      Different\n",
              "1  A  C     29.6     31.2  ... -0.333986  0.900000 -0.190790  Not different\n",
              "2  A  D     29.6     60.0  ... -6.345739  0.001000 -3.625005      Different\n",
              "3  B  C     45.0     31.2  ...  2.880632  0.027410  1.645561      Different\n",
              "4  B  D     45.0     60.0  ... -3.131121  0.013679 -1.788654      Different\n",
              "5  C  D     31.2     60.0  ... -6.011753  0.001000 -3.434215      Different\n",
              "\n",
              "[6 rows x 10 columns]"
            ]
          },
          "metadata": {
            "tags": []
          },
          "execution_count": 24
        }
      ]
    },
    {
      "cell_type": "markdown",
      "metadata": {
        "id": "8I1BFG3xsNhK",
        "colab_type": "text"
      },
      "source": [
        "Above results from Tukey HSD suggests that except A-C, all other pairwise comparisons for treatments rejects null hypothesis (P-tukey<0.05) and indicates statistical significant differences."
      ]
    },
    {
      "cell_type": "markdown",
      "metadata": {
        "id": "TnWTBTXguwo3",
        "colab_type": "text"
      },
      "source": [
        "# Two-way (two factor) ANOVA with Python"
      ]
    },
    {
      "cell_type": "markdown",
      "metadata": {
        "id": "BeHNvT0ruz3Q",
        "colab_type": "text"
      },
      "source": [
        "From dataset, there are two factors (independent variables) viz. genotypes and yield in years. Genotypes and years has five and three levels respectively (see one-way ANOVA to know factors and levels).\n",
        "\n",
        "For this experimental design, there are two factors to evaluate, and therefore, two-way ANOVA method is suitable for analysis. Here, using two-way ANOVA, we can simultaneously evaluate how type of genotype and years affects the yields of plants. If you apply one-way ANOVA here, you can able to evaluate only one factor at a time.\n",
        "\n",
        "From two-way ANOVA, we can tests three hypotheses 1) effect of genotype on yield 2) effect of time (years) on yield, and 3) effect of genotype and time (years) interactions on yield"
      ]
    },
    {
      "cell_type": "code",
      "metadata": {
        "id": "407J5V5lpANc",
        "colab_type": "code",
        "colab": {
          "base_uri": "https://localhost:8080/",
          "height": 607
        },
        "outputId": "53063f18-5d88-4c63-c2f1-fd4c0a12c0d4"
      },
      "source": [
        "# load packages\n",
        "import pandas as pd\n",
        "import seaborn as sns\n",
        "# load data file\n",
        "d = pd.read_csv(\"https://reneshbedre.github.io/assets/posts/anova/twowayanova.txt\", sep=\"\\t\")\n",
        "d"
      ],
      "execution_count": 44,
      "outputs": [
        {
          "output_type": "execute_result",
          "data": {
            "text/html": [
              "<div>\n",
              "<style scoped>\n",
              "    .dataframe tbody tr th:only-of-type {\n",
              "        vertical-align: middle;\n",
              "    }\n",
              "\n",
              "    .dataframe tbody tr th {\n",
              "        vertical-align: top;\n",
              "    }\n",
              "\n",
              "    .dataframe thead th {\n",
              "        text-align: right;\n",
              "    }\n",
              "</style>\n",
              "<table border=\"1\" class=\"dataframe\">\n",
              "  <thead>\n",
              "    <tr style=\"text-align: right;\">\n",
              "      <th></th>\n",
              "      <th>Genotype</th>\n",
              "      <th>1_year</th>\n",
              "      <th>2_year</th>\n",
              "      <th>3_year</th>\n",
              "    </tr>\n",
              "  </thead>\n",
              "  <tbody>\n",
              "    <tr>\n",
              "      <th>0</th>\n",
              "      <td>A</td>\n",
              "      <td>1.53</td>\n",
              "      <td>4.08</td>\n",
              "      <td>6.69</td>\n",
              "    </tr>\n",
              "    <tr>\n",
              "      <th>1</th>\n",
              "      <td>A</td>\n",
              "      <td>1.83</td>\n",
              "      <td>3.84</td>\n",
              "      <td>5.97</td>\n",
              "    </tr>\n",
              "    <tr>\n",
              "      <th>2</th>\n",
              "      <td>A</td>\n",
              "      <td>1.38</td>\n",
              "      <td>3.96</td>\n",
              "      <td>6.33</td>\n",
              "    </tr>\n",
              "    <tr>\n",
              "      <th>3</th>\n",
              "      <td>B</td>\n",
              "      <td>3.60</td>\n",
              "      <td>5.70</td>\n",
              "      <td>8.55</td>\n",
              "    </tr>\n",
              "    <tr>\n",
              "      <th>4</th>\n",
              "      <td>B</td>\n",
              "      <td>2.94</td>\n",
              "      <td>5.07</td>\n",
              "      <td>7.95</td>\n",
              "    </tr>\n",
              "    <tr>\n",
              "      <th>5</th>\n",
              "      <td>B</td>\n",
              "      <td>4.02</td>\n",
              "      <td>7.20</td>\n",
              "      <td>8.94</td>\n",
              "    </tr>\n",
              "    <tr>\n",
              "      <th>6</th>\n",
              "      <td>C</td>\n",
              "      <td>3.99</td>\n",
              "      <td>6.09</td>\n",
              "      <td>10.02</td>\n",
              "    </tr>\n",
              "    <tr>\n",
              "      <th>7</th>\n",
              "      <td>C</td>\n",
              "      <td>3.30</td>\n",
              "      <td>5.88</td>\n",
              "      <td>9.63</td>\n",
              "    </tr>\n",
              "    <tr>\n",
              "      <th>8</th>\n",
              "      <td>C</td>\n",
              "      <td>4.41</td>\n",
              "      <td>6.51</td>\n",
              "      <td>10.38</td>\n",
              "    </tr>\n",
              "    <tr>\n",
              "      <th>9</th>\n",
              "      <td>D</td>\n",
              "      <td>3.75</td>\n",
              "      <td>5.19</td>\n",
              "      <td>11.40</td>\n",
              "    </tr>\n",
              "    <tr>\n",
              "      <th>10</th>\n",
              "      <td>D</td>\n",
              "      <td>3.63</td>\n",
              "      <td>5.37</td>\n",
              "      <td>9.66</td>\n",
              "    </tr>\n",
              "    <tr>\n",
              "      <th>11</th>\n",
              "      <td>D</td>\n",
              "      <td>3.57</td>\n",
              "      <td>5.55</td>\n",
              "      <td>10.53</td>\n",
              "    </tr>\n",
              "    <tr>\n",
              "      <th>12</th>\n",
              "      <td>E</td>\n",
              "      <td>1.71</td>\n",
              "      <td>3.60</td>\n",
              "      <td>6.87</td>\n",
              "    </tr>\n",
              "    <tr>\n",
              "      <th>13</th>\n",
              "      <td>E</td>\n",
              "      <td>2.01</td>\n",
              "      <td>5.10</td>\n",
              "      <td>6.93</td>\n",
              "    </tr>\n",
              "    <tr>\n",
              "      <th>14</th>\n",
              "      <td>E</td>\n",
              "      <td>2.04</td>\n",
              "      <td>6.99</td>\n",
              "      <td>6.84</td>\n",
              "    </tr>\n",
              "    <tr>\n",
              "      <th>15</th>\n",
              "      <td>F</td>\n",
              "      <td>3.96</td>\n",
              "      <td>5.25</td>\n",
              "      <td>9.84</td>\n",
              "    </tr>\n",
              "    <tr>\n",
              "      <th>16</th>\n",
              "      <td>F</td>\n",
              "      <td>4.77</td>\n",
              "      <td>5.28</td>\n",
              "      <td>9.87</td>\n",
              "    </tr>\n",
              "    <tr>\n",
              "      <th>17</th>\n",
              "      <td>F</td>\n",
              "      <td>4.65</td>\n",
              "      <td>5.07</td>\n",
              "      <td>10.08</td>\n",
              "    </tr>\n",
              "  </tbody>\n",
              "</table>\n",
              "</div>"
            ],
            "text/plain": [
              "   Genotype  1_year  2_year  3_year\n",
              "0         A    1.53    4.08    6.69\n",
              "1         A    1.83    3.84    5.97\n",
              "2         A    1.38    3.96    6.33\n",
              "3         B    3.60    5.70    8.55\n",
              "4         B    2.94    5.07    7.95\n",
              "5         B    4.02    7.20    8.94\n",
              "6         C    3.99    6.09   10.02\n",
              "7         C    3.30    5.88    9.63\n",
              "8         C    4.41    6.51   10.38\n",
              "9         D    3.75    5.19   11.40\n",
              "10        D    3.63    5.37    9.66\n",
              "11        D    3.57    5.55   10.53\n",
              "12        E    1.71    3.60    6.87\n",
              "13        E    2.01    5.10    6.93\n",
              "14        E    2.04    6.99    6.84\n",
              "15        F    3.96    5.25    9.84\n",
              "16        F    4.77    5.28    9.87\n",
              "17        F    4.65    5.07   10.08"
            ]
          },
          "metadata": {
            "tags": []
          },
          "execution_count": 44
        }
      ]
    },
    {
      "cell_type": "code",
      "metadata": {
        "id": "FhfJ1pZku3FB",
        "colab_type": "code",
        "colab": {
          "base_uri": "https://localhost:8080/",
          "height": 359
        },
        "outputId": "616a9a79-c421-4251-e6e2-575eb66f082f"
      },
      "source": [
        "# reshape the d dataframe suitable for statsmodels package \n",
        "# you do not need to reshape if your data is already in stacked format. Compare d and d_melt tables for detail \n",
        "# understanding \n",
        "d_melt = pd.melt(d, id_vars=['Genotype'], value_vars=['1_year', '2_year', '3_year'])\n",
        "# replace column names\n",
        "d_melt.columns = ['Genotype', 'years', 'value']\n",
        "d_melt.head(10)"
      ],
      "execution_count": 45,
      "outputs": [
        {
          "output_type": "execute_result",
          "data": {
            "text/html": [
              "<div>\n",
              "<style scoped>\n",
              "    .dataframe tbody tr th:only-of-type {\n",
              "        vertical-align: middle;\n",
              "    }\n",
              "\n",
              "    .dataframe tbody tr th {\n",
              "        vertical-align: top;\n",
              "    }\n",
              "\n",
              "    .dataframe thead th {\n",
              "        text-align: right;\n",
              "    }\n",
              "</style>\n",
              "<table border=\"1\" class=\"dataframe\">\n",
              "  <thead>\n",
              "    <tr style=\"text-align: right;\">\n",
              "      <th></th>\n",
              "      <th>Genotype</th>\n",
              "      <th>years</th>\n",
              "      <th>value</th>\n",
              "    </tr>\n",
              "  </thead>\n",
              "  <tbody>\n",
              "    <tr>\n",
              "      <th>0</th>\n",
              "      <td>A</td>\n",
              "      <td>1_year</td>\n",
              "      <td>1.53</td>\n",
              "    </tr>\n",
              "    <tr>\n",
              "      <th>1</th>\n",
              "      <td>A</td>\n",
              "      <td>1_year</td>\n",
              "      <td>1.83</td>\n",
              "    </tr>\n",
              "    <tr>\n",
              "      <th>2</th>\n",
              "      <td>A</td>\n",
              "      <td>1_year</td>\n",
              "      <td>1.38</td>\n",
              "    </tr>\n",
              "    <tr>\n",
              "      <th>3</th>\n",
              "      <td>B</td>\n",
              "      <td>1_year</td>\n",
              "      <td>3.60</td>\n",
              "    </tr>\n",
              "    <tr>\n",
              "      <th>4</th>\n",
              "      <td>B</td>\n",
              "      <td>1_year</td>\n",
              "      <td>2.94</td>\n",
              "    </tr>\n",
              "    <tr>\n",
              "      <th>5</th>\n",
              "      <td>B</td>\n",
              "      <td>1_year</td>\n",
              "      <td>4.02</td>\n",
              "    </tr>\n",
              "    <tr>\n",
              "      <th>6</th>\n",
              "      <td>C</td>\n",
              "      <td>1_year</td>\n",
              "      <td>3.99</td>\n",
              "    </tr>\n",
              "    <tr>\n",
              "      <th>7</th>\n",
              "      <td>C</td>\n",
              "      <td>1_year</td>\n",
              "      <td>3.30</td>\n",
              "    </tr>\n",
              "    <tr>\n",
              "      <th>8</th>\n",
              "      <td>C</td>\n",
              "      <td>1_year</td>\n",
              "      <td>4.41</td>\n",
              "    </tr>\n",
              "    <tr>\n",
              "      <th>9</th>\n",
              "      <td>D</td>\n",
              "      <td>1_year</td>\n",
              "      <td>3.75</td>\n",
              "    </tr>\n",
              "  </tbody>\n",
              "</table>\n",
              "</div>"
            ],
            "text/plain": [
              "  Genotype   years  value\n",
              "0        A  1_year   1.53\n",
              "1        A  1_year   1.83\n",
              "2        A  1_year   1.38\n",
              "3        B  1_year   3.60\n",
              "4        B  1_year   2.94\n",
              "5        B  1_year   4.02\n",
              "6        C  1_year   3.99\n",
              "7        C  1_year   3.30\n",
              "8        C  1_year   4.41\n",
              "9        D  1_year   3.75"
            ]
          },
          "metadata": {
            "tags": []
          },
          "execution_count": 45
        }
      ]
    },
    {
      "cell_type": "code",
      "metadata": {
        "id": "ySWSua-evsHf",
        "colab_type": "code",
        "colab": {
          "base_uri": "https://localhost:8080/",
          "height": 296
        },
        "outputId": "c1e76c75-c08b-4a30-8c09-ff7e749ae1d2"
      },
      "source": [
        "# generate a boxplot to see the data distribution by genotypes and years. Using boxplot, we can easily detect the \n",
        "# differences between different groups\n",
        "sns.boxplot(x=\"Genotype\", y=\"value\", hue=\"years\", data=d_melt, palette=\"Set3\") "
      ],
      "execution_count": 46,
      "outputs": [
        {
          "output_type": "execute_result",
          "data": {
            "text/plain": [
              "<matplotlib.axes._subplots.AxesSubplot at 0x7fbc5e24e278>"
            ]
          },
          "metadata": {
            "tags": []
          },
          "execution_count": 46
        },
        {
          "output_type": "display_data",
          "data": {
            "image/png": "[encoded data removed]",
            "text/plain": [
              "<Figure size 432x288 with 1 Axes>"
            ]
          },
          "metadata": {
            "tags": [],
            "needs_background": "light"
          }
        }
      ]
    },
    {
      "cell_type": "code",
      "metadata": {
        "id": "7XVzdEM9wHfg",
        "colab_type": "code",
        "colab": {
          "base_uri": "https://localhost:8080/",
          "height": 173
        },
        "outputId": "f5ed9db9-29fe-4178-ee7d-d11315467f06"
      },
      "source": [
        "# load packages\n",
        "import statsmodels.api as sm\n",
        "from statsmodels.formula.api import ols\n",
        "# Ordinary Least Squares (OLS) model\n",
        "# C(Genotype):C(years) represent interaction term\n",
        "model = ols('value ~ C(Genotype) + C(years) + C(Genotype):C(years)', data=d_melt).fit()\n",
        "anova_table = sm.stats.anova_lm(model, typ=2) #typ = 3 for unblanced\n",
        "anova_table"
      ],
      "execution_count": 35,
      "outputs": [
        {
          "output_type": "execute_result",
          "data": {
            "text/html": [
              "<div>\n",
              "<style scoped>\n",
              "    .dataframe tbody tr th:only-of-type {\n",
              "        vertical-align: middle;\n",
              "    }\n",
              "\n",
              "    .dataframe tbody tr th {\n",
              "        vertical-align: top;\n",
              "    }\n",
              "\n",
              "    .dataframe thead th {\n",
              "        text-align: right;\n",
              "    }\n",
              "</style>\n",
              "<table border=\"1\" class=\"dataframe\">\n",
              "  <thead>\n",
              "    <tr style=\"text-align: right;\">\n",
              "      <th></th>\n",
              "      <th>sum_sq</th>\n",
              "      <th>df</th>\n",
              "      <th>F</th>\n",
              "      <th>PR(&gt;F)</th>\n",
              "    </tr>\n",
              "  </thead>\n",
              "  <tbody>\n",
              "    <tr>\n",
              "      <th>C(Genotype)</th>\n",
              "      <td>58.551733</td>\n",
              "      <td>5.0</td>\n",
              "      <td>32.748581</td>\n",
              "      <td>1.931655e-12</td>\n",
              "    </tr>\n",
              "    <tr>\n",
              "      <th>C(years)</th>\n",
              "      <td>278.925633</td>\n",
              "      <td>2.0</td>\n",
              "      <td>390.014868</td>\n",
              "      <td>4.006243e-25</td>\n",
              "    </tr>\n",
              "    <tr>\n",
              "      <th>C(Genotype):C(years)</th>\n",
              "      <td>17.122967</td>\n",
              "      <td>10.0</td>\n",
              "      <td>4.788525</td>\n",
              "      <td>2.230094e-04</td>\n",
              "    </tr>\n",
              "    <tr>\n",
              "      <th>Residual</th>\n",
              "      <td>12.873000</td>\n",
              "      <td>36.0</td>\n",
              "      <td>NaN</td>\n",
              "      <td>NaN</td>\n",
              "    </tr>\n",
              "  </tbody>\n",
              "</table>\n",
              "</div>"
            ],
            "text/plain": [
              "                          sum_sq    df           F        PR(>F)\n",
              "C(Genotype)            58.551733   5.0   32.748581  1.931655e-12\n",
              "C(years)              278.925633   2.0  390.014868  4.006243e-25\n",
              "C(Genotype):C(years)   17.122967  10.0    4.788525  2.230094e-04\n",
              "Residual               12.873000  36.0         NaN           NaN"
            ]
          },
          "metadata": {
            "tags": []
          },
          "execution_count": 35
        }
      ]
    },
    {
      "cell_type": "markdown",
      "metadata": {
        "id": "2P6isDB-wo6x",
        "colab_type": "text"
      },
      "source": [
        "Interpretation: The P-value obtained from ANOVA analysis for genotype, years, and interaction are statistically significant (P<0.05). We conclude that type of genotype significantly affects the yield outcome, time (years) significantly affects the yield outcome, and interaction of both genotype and time (years) significantly affects the yield outcome."
      ]
    },
    {
      "cell_type": "markdown",
      "metadata": {
        "id": "E2OS-HJ7wqsB",
        "colab_type": "text"
      },
      "source": [
        "Note: If you have unbalanced (unequal sample size for each group) data, you can perform similar steps as described for two-way ANOVA with the balanced design but set `typ=3`. Type 3 sums of squares (SS) is recommended for an unbalanced design for multifactorial ANOVA."
      ]
    },
    {
      "cell_type": "markdown",
      "metadata": {
        "id": "2otKDPRuxLdc",
        "colab_type": "text"
      },
      "source": [
        "## Test ANOVA assumptions"
      ]
    },
    {
      "cell_type": "markdown",
      "metadata": {
        "id": "gy3G5BnhxKpF",
        "colab_type": "text"
      },
      "source": [
        "Similar to one-way ANOVA, you can use Levene and Shapiro-Wilk test to validate the assumptions for homogeneity of variances and normal distribution of residuals."
      ]
    },
    {
      "cell_type": "markdown",
      "metadata": {
        "id": "GcOIPVv-xCbV",
        "colab_type": "text"
      },
      "source": [
        "## Tukey HSD test."
      ]
    },
    {
      "cell_type": "markdown",
      "metadata": {
        "id": "z-xk6z1mw9ab",
        "colab_type": "text"
      },
      "source": [
        "Now, we know that genotype and time (years) differences are statistically significant, but ANOVA does not tell which genotype and time (years) are significantly different from each other. To know the pairs of significant different genotype and time (years), perform multiple pairwise comparison (Post-hoc comparison) analysis using Tukey HSD test.\n",
        "\n"
      ]
    },
    {
      "cell_type": "code",
      "metadata": {
        "id": "BK1GmUtixzD2",
        "colab_type": "code",
        "colab": {
          "base_uri": "https://localhost:8080/",
          "height": 204
        },
        "outputId": "79c40e2b-e9ce-4894-83cf-05e47ceafb75"
      },
      "source": [
        "d_melt.head()"
      ],
      "execution_count": 48,
      "outputs": [
        {
          "output_type": "execute_result",
          "data": {
            "text/html": [
              "<div>\n",
              "<style scoped>\n",
              "    .dataframe tbody tr th:only-of-type {\n",
              "        vertical-align: middle;\n",
              "    }\n",
              "\n",
              "    .dataframe tbody tr th {\n",
              "        vertical-align: top;\n",
              "    }\n",
              "\n",
              "    .dataframe thead th {\n",
              "        text-align: right;\n",
              "    }\n",
              "</style>\n",
              "<table border=\"1\" class=\"dataframe\">\n",
              "  <thead>\n",
              "    <tr style=\"text-align: right;\">\n",
              "      <th></th>\n",
              "      <th>Genotype</th>\n",
              "      <th>years</th>\n",
              "      <th>value</th>\n",
              "    </tr>\n",
              "  </thead>\n",
              "  <tbody>\n",
              "    <tr>\n",
              "      <th>0</th>\n",
              "      <td>A</td>\n",
              "      <td>1_year</td>\n",
              "      <td>1.53</td>\n",
              "    </tr>\n",
              "    <tr>\n",
              "      <th>1</th>\n",
              "      <td>A</td>\n",
              "      <td>1_year</td>\n",
              "      <td>1.83</td>\n",
              "    </tr>\n",
              "    <tr>\n",
              "      <th>2</th>\n",
              "      <td>A</td>\n",
              "      <td>1_year</td>\n",
              "      <td>1.38</td>\n",
              "    </tr>\n",
              "    <tr>\n",
              "      <th>3</th>\n",
              "      <td>B</td>\n",
              "      <td>1_year</td>\n",
              "      <td>3.60</td>\n",
              "    </tr>\n",
              "    <tr>\n",
              "      <th>4</th>\n",
              "      <td>B</td>\n",
              "      <td>1_year</td>\n",
              "      <td>2.94</td>\n",
              "    </tr>\n",
              "  </tbody>\n",
              "</table>\n",
              "</div>"
            ],
            "text/plain": [
              "  Genotype   years  value\n",
              "0        A  1_year   1.53\n",
              "1        A  1_year   1.83\n",
              "2        A  1_year   1.38\n",
              "3        B  1_year   3.60\n",
              "4        B  1_year   2.94"
            ]
          },
          "metadata": {
            "tags": []
          },
          "execution_count": 48
        }
      ]
    },
    {
      "cell_type": "code",
      "metadata": {
        "id": "2mZX9QeVwTnC",
        "colab_type": "code",
        "colab": {
          "base_uri": "https://localhost:8080/",
          "height": 514
        },
        "outputId": "51422216-1ddf-4563-dae5-83cbc582cee8"
      },
      "source": [
        "# load packages\n",
        "from pingouin import pairwise_tukey\n",
        "# perform multiple pairwise comparison (Tukey HSD)\n",
        "# for unbalanced (unequal sample size) data, pairwise_tukey uses Tukey-Kramer test\n",
        "m_comp = pairwise_tukey(data=d_melt, dv='value', between='Genotype').round(3)\n",
        "m_comp['Result']=m_comp['p-tukey'].apply(lambda x: 'Different'if x<0.05 else 'Not different')\n",
        "m_comp"
      ],
      "execution_count": 54,
      "outputs": [
        {
          "output_type": "execute_result",
          "data": {
            "text/html": [
              "<div>\n",
              "<style scoped>\n",
              "    .dataframe tbody tr th:only-of-type {\n",
              "        vertical-align: middle;\n",
              "    }\n",
              "\n",
              "    .dataframe tbody tr th {\n",
              "        vertical-align: top;\n",
              "    }\n",
              "\n",
              "    .dataframe thead th {\n",
              "        text-align: right;\n",
              "    }\n",
              "</style>\n",
              "<table border=\"1\" class=\"dataframe\">\n",
              "  <thead>\n",
              "    <tr style=\"text-align: right;\">\n",
              "      <th></th>\n",
              "      <th>A</th>\n",
              "      <th>B</th>\n",
              "      <th>mean(A)</th>\n",
              "      <th>mean(B)</th>\n",
              "      <th>diff</th>\n",
              "      <th>se</th>\n",
              "      <th>T</th>\n",
              "      <th>p-tukey</th>\n",
              "      <th>hedges</th>\n",
              "      <th>Result</th>\n",
              "    </tr>\n",
              "  </thead>\n",
              "  <tbody>\n",
              "    <tr>\n",
              "      <th>0</th>\n",
              "      <td>A</td>\n",
              "      <td>B</td>\n",
              "      <td>3.957</td>\n",
              "      <td>5.997</td>\n",
              "      <td>-2.040</td>\n",
              "      <td>1.196</td>\n",
              "      <td>-1.706</td>\n",
              "      <td>0.523</td>\n",
              "      <td>-0.766</td>\n",
              "      <td>Not different</td>\n",
              "    </tr>\n",
              "    <tr>\n",
              "      <th>1</th>\n",
              "      <td>A</td>\n",
              "      <td>C</td>\n",
              "      <td>3.957</td>\n",
              "      <td>6.690</td>\n",
              "      <td>-2.733</td>\n",
              "      <td>1.196</td>\n",
              "      <td>-2.286</td>\n",
              "      <td>0.207</td>\n",
              "      <td>-1.026</td>\n",
              "      <td>Not different</td>\n",
              "    </tr>\n",
              "    <tr>\n",
              "      <th>2</th>\n",
              "      <td>A</td>\n",
              "      <td>D</td>\n",
              "      <td>3.957</td>\n",
              "      <td>6.517</td>\n",
              "      <td>-2.560</td>\n",
              "      <td>1.196</td>\n",
              "      <td>-2.141</td>\n",
              "      <td>0.273</td>\n",
              "      <td>-0.961</td>\n",
              "      <td>Not different</td>\n",
              "    </tr>\n",
              "    <tr>\n",
              "      <th>3</th>\n",
              "      <td>A</td>\n",
              "      <td>E</td>\n",
              "      <td>3.957</td>\n",
              "      <td>4.677</td>\n",
              "      <td>-0.720</td>\n",
              "      <td>1.196</td>\n",
              "      <td>-0.602</td>\n",
              "      <td>0.900</td>\n",
              "      <td>-0.270</td>\n",
              "      <td>Not different</td>\n",
              "    </tr>\n",
              "    <tr>\n",
              "      <th>4</th>\n",
              "      <td>A</td>\n",
              "      <td>F</td>\n",
              "      <td>3.957</td>\n",
              "      <td>6.530</td>\n",
              "      <td>-2.573</td>\n",
              "      <td>1.196</td>\n",
              "      <td>-2.152</td>\n",
              "      <td>0.267</td>\n",
              "      <td>-0.966</td>\n",
              "      <td>Not different</td>\n",
              "    </tr>\n",
              "    <tr>\n",
              "      <th>5</th>\n",
              "      <td>B</td>\n",
              "      <td>C</td>\n",
              "      <td>5.997</td>\n",
              "      <td>6.690</td>\n",
              "      <td>-0.693</td>\n",
              "      <td>1.196</td>\n",
              "      <td>-0.580</td>\n",
              "      <td>0.900</td>\n",
              "      <td>-0.260</td>\n",
              "      <td>Not different</td>\n",
              "    </tr>\n",
              "    <tr>\n",
              "      <th>6</th>\n",
              "      <td>B</td>\n",
              "      <td>D</td>\n",
              "      <td>5.997</td>\n",
              "      <td>6.517</td>\n",
              "      <td>-0.520</td>\n",
              "      <td>1.196</td>\n",
              "      <td>-0.435</td>\n",
              "      <td>0.900</td>\n",
              "      <td>-0.195</td>\n",
              "      <td>Not different</td>\n",
              "    </tr>\n",
              "    <tr>\n",
              "      <th>7</th>\n",
              "      <td>B</td>\n",
              "      <td>E</td>\n",
              "      <td>5.997</td>\n",
              "      <td>4.677</td>\n",
              "      <td>1.320</td>\n",
              "      <td>1.196</td>\n",
              "      <td>1.104</td>\n",
              "      <td>0.864</td>\n",
              "      <td>0.496</td>\n",
              "      <td>Not different</td>\n",
              "    </tr>\n",
              "    <tr>\n",
              "      <th>8</th>\n",
              "      <td>B</td>\n",
              "      <td>F</td>\n",
              "      <td>5.997</td>\n",
              "      <td>6.530</td>\n",
              "      <td>-0.533</td>\n",
              "      <td>1.196</td>\n",
              "      <td>-0.446</td>\n",
              "      <td>0.900</td>\n",
              "      <td>-0.200</td>\n",
              "      <td>Not different</td>\n",
              "    </tr>\n",
              "    <tr>\n",
              "      <th>9</th>\n",
              "      <td>C</td>\n",
              "      <td>D</td>\n",
              "      <td>6.690</td>\n",
              "      <td>6.517</td>\n",
              "      <td>0.173</td>\n",
              "      <td>1.196</td>\n",
              "      <td>0.145</td>\n",
              "      <td>0.900</td>\n",
              "      <td>0.065</td>\n",
              "      <td>Not different</td>\n",
              "    </tr>\n",
              "    <tr>\n",
              "      <th>10</th>\n",
              "      <td>C</td>\n",
              "      <td>E</td>\n",
              "      <td>6.690</td>\n",
              "      <td>4.677</td>\n",
              "      <td>2.013</td>\n",
              "      <td>1.196</td>\n",
              "      <td>1.684</td>\n",
              "      <td>0.536</td>\n",
              "      <td>0.756</td>\n",
              "      <td>Not different</td>\n",
              "    </tr>\n",
              "    <tr>\n",
              "      <th>11</th>\n",
              "      <td>C</td>\n",
              "      <td>F</td>\n",
              "      <td>6.690</td>\n",
              "      <td>6.530</td>\n",
              "      <td>0.160</td>\n",
              "      <td>1.196</td>\n",
              "      <td>0.134</td>\n",
              "      <td>0.900</td>\n",
              "      <td>0.060</td>\n",
              "      <td>Not different</td>\n",
              "    </tr>\n",
              "    <tr>\n",
              "      <th>12</th>\n",
              "      <td>D</td>\n",
              "      <td>E</td>\n",
              "      <td>6.517</td>\n",
              "      <td>4.677</td>\n",
              "      <td>1.840</td>\n",
              "      <td>1.196</td>\n",
              "      <td>1.539</td>\n",
              "      <td>0.618</td>\n",
              "      <td>0.691</td>\n",
              "      <td>Not different</td>\n",
              "    </tr>\n",
              "    <tr>\n",
              "      <th>13</th>\n",
              "      <td>D</td>\n",
              "      <td>F</td>\n",
              "      <td>6.517</td>\n",
              "      <td>6.530</td>\n",
              "      <td>-0.013</td>\n",
              "      <td>1.196</td>\n",
              "      <td>-0.011</td>\n",
              "      <td>0.900</td>\n",
              "      <td>-0.005</td>\n",
              "      <td>Not different</td>\n",
              "    </tr>\n",
              "    <tr>\n",
              "      <th>14</th>\n",
              "      <td>E</td>\n",
              "      <td>F</td>\n",
              "      <td>4.677</td>\n",
              "      <td>6.530</td>\n",
              "      <td>-1.853</td>\n",
              "      <td>1.196</td>\n",
              "      <td>-1.550</td>\n",
              "      <td>0.612</td>\n",
              "      <td>-0.696</td>\n",
              "      <td>Not different</td>\n",
              "    </tr>\n",
              "  </tbody>\n",
              "</table>\n",
              "</div>"
            ],
            "text/plain": [
              "    A  B  mean(A)  mean(B)   diff     se      T  p-tukey  hedges         Result\n",
              "0   A  B    3.957    5.997 -2.040  1.196 -1.706    0.523  -0.766  Not different\n",
              "1   A  C    3.957    6.690 -2.733  1.196 -2.286    0.207  -1.026  Not different\n",
              "2   A  D    3.957    6.517 -2.560  1.196 -2.141    0.273  -0.961  Not different\n",
              "3   A  E    3.957    4.677 -0.720  1.196 -0.602    0.900  -0.270  Not different\n",
              "4   A  F    3.957    6.530 -2.573  1.196 -2.152    0.267  -0.966  Not different\n",
              "5   B  C    5.997    6.690 -0.693  1.196 -0.580    0.900  -0.260  Not different\n",
              "6   B  D    5.997    6.517 -0.520  1.196 -0.435    0.900  -0.195  Not different\n",
              "7   B  E    5.997    4.677  1.320  1.196  1.104    0.864   0.496  Not different\n",
              "8   B  F    5.997    6.530 -0.533  1.196 -0.446    0.900  -0.200  Not different\n",
              "9   C  D    6.690    6.517  0.173  1.196  0.145    0.900   0.065  Not different\n",
              "10  C  E    6.690    4.677  2.013  1.196  1.684    0.536   0.756  Not different\n",
              "11  C  F    6.690    6.530  0.160  1.196  0.134    0.900   0.060  Not different\n",
              "12  D  E    6.517    4.677  1.840  1.196  1.539    0.618   0.691  Not different\n",
              "13  D  F    6.517    6.530 -0.013  1.196 -0.011    0.900  -0.005  Not different\n",
              "14  E  F    4.677    6.530 -1.853  1.196 -1.550    0.612  -0.696  Not different"
            ]
          },
          "metadata": {
            "tags": []
          },
          "execution_count": 54
        }
      ]
    },
    {
      "cell_type": "code",
      "metadata": {
        "id": "i5BPK7vexv60",
        "colab_type": "code",
        "colab": {
          "base_uri": "https://localhost:8080/",
          "height": 142
        },
        "outputId": "9cb38a29-1017-431b-8f9e-dd6367f9a8d7"
      },
      "source": [
        "m_comp = pairwise_tukey(data=d_melt, dv='value', between='years').round(3)\n",
        "m_comp['Result']=m_comp['p-tukey'].apply(lambda x: 'Different'if x<0.05 else 'Not different')\n",
        "m_comp"
      ],
      "execution_count": 55,
      "outputs": [
        {
          "output_type": "execute_result",
          "data": {
            "text/html": [
              "<div>\n",
              "<style scoped>\n",
              "    .dataframe tbody tr th:only-of-type {\n",
              "        vertical-align: middle;\n",
              "    }\n",
              "\n",
              "    .dataframe tbody tr th {\n",
              "        vertical-align: top;\n",
              "    }\n",
              "\n",
              "    .dataframe thead th {\n",
              "        text-align: right;\n",
              "    }\n",
              "</style>\n",
              "<table border=\"1\" class=\"dataframe\">\n",
              "  <thead>\n",
              "    <tr style=\"text-align: right;\">\n",
              "      <th></th>\n",
              "      <th>A</th>\n",
              "      <th>B</th>\n",
              "      <th>mean(A)</th>\n",
              "      <th>mean(B)</th>\n",
              "      <th>diff</th>\n",
              "      <th>se</th>\n",
              "      <th>T</th>\n",
              "      <th>p-tukey</th>\n",
              "      <th>hedges</th>\n",
              "      <th>Result</th>\n",
              "    </tr>\n",
              "  </thead>\n",
              "  <tbody>\n",
              "    <tr>\n",
              "      <th>0</th>\n",
              "      <td>1_year</td>\n",
              "      <td>2_year</td>\n",
              "      <td>3.172</td>\n",
              "      <td>5.318</td>\n",
              "      <td>-2.147</td>\n",
              "      <td>0.439</td>\n",
              "      <td>-4.887</td>\n",
              "      <td>0.001</td>\n",
              "      <td>-1.593</td>\n",
              "      <td>Different</td>\n",
              "    </tr>\n",
              "    <tr>\n",
              "      <th>1</th>\n",
              "      <td>1_year</td>\n",
              "      <td>3_year</td>\n",
              "      <td>3.172</td>\n",
              "      <td>8.693</td>\n",
              "      <td>-5.522</td>\n",
              "      <td>0.439</td>\n",
              "      <td>-12.572</td>\n",
              "      <td>0.001</td>\n",
              "      <td>-4.097</td>\n",
              "      <td>Different</td>\n",
              "    </tr>\n",
              "    <tr>\n",
              "      <th>2</th>\n",
              "      <td>2_year</td>\n",
              "      <td>3_year</td>\n",
              "      <td>5.318</td>\n",
              "      <td>8.693</td>\n",
              "      <td>-3.375</td>\n",
              "      <td>0.439</td>\n",
              "      <td>-7.684</td>\n",
              "      <td>0.001</td>\n",
              "      <td>-2.504</td>\n",
              "      <td>Different</td>\n",
              "    </tr>\n",
              "  </tbody>\n",
              "</table>\n",
              "</div>"
            ],
            "text/plain": [
              "        A       B  mean(A)  mean(B)  ...       T  p-tukey  hedges     Result\n",
              "0  1_year  2_year    3.172    5.318  ...  -4.887    0.001  -1.593  Different\n",
              "1  1_year  3_year    3.172    8.693  ... -12.572    0.001  -4.097  Different\n",
              "2  2_year  3_year    5.318    8.693  ...  -7.684    0.001  -2.504  Different\n",
              "\n",
              "[3 rows x 10 columns]"
            ]
          },
          "metadata": {
            "tags": []
          },
          "execution_count": 55
        }
      ]
    },
    {
      "cell_type": "code",
      "metadata": {
        "id": "nkB4sTk2x_SN",
        "colab_type": "code",
        "colab": {}
      },
      "source": [
        ""
      ],
      "execution_count": null,
      "outputs": []
    }
  ]
}