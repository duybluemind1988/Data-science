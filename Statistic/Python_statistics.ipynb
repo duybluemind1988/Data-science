{
  "nbformat": 4,
  "nbformat_minor": 0,
  "metadata": {
    "colab": {
      "name": "Python_statistics.ipynb",
      "provenance": [],
      "collapsed_sections": [],
      "mount_file_id": "https://github.com/duybluemind1988/Data-science/blob/master/Statistic/Python_statistics.ipynb",
      "authorship_tag": "ABX9TyPEaX7xrMsmtSs7kRk9ewg/",
      "include_colab_link": true
    },
    "kernelspec": {
      "name": "python3",
      "display_name": "Python 3"
    }
  },
  "cells": [
    {
      "cell_type": "markdown",
      "metadata": {
        "id": "view-in-github",
        "colab_type": "text"
      },
      "source": [
        "<a href=\"https://colab.research.google.com/github/duybluemind1988/Data-science/blob/master/Statistic/Python_statistics.ipynb\" target=\"_parent\"><img src=\"https://colab.research.google.com/assets/colab-badge.svg\" alt=\"Open In Colab\"/></a>"
      ]
    },
    {
      "cell_type": "markdown",
      "metadata": {
        "id": "PHZrgQCkk92P"
      },
      "source": [
        "https://reneshbedre.github.io/blog/anova.html"
      ]
    },
    {
      "cell_type": "markdown",
      "metadata": {
        "id": "vKxvl-MWlWFo"
      },
      "source": [
        "# One-way (one factor) ANOVA with Python"
      ]
    },
    {
      "cell_type": "markdown",
      "metadata": {
        "id": "1T5a0TtglDnT"
      },
      "source": [
        "ANOVA Hypotheses\n",
        "\n",
        "- Null hypotheses: Groups means are equal (no variation in means of groups)\n",
        "- Alternative hypotheses: At least, one group mean is different from other groups\n",
        "\n",
        "ANOVA Assumptions\n",
        "\n",
        "- Residuals (experimental error) are normally distributed (Shapiro-Wilks Test)\n",
        "- Homogeneity of variances (variances are equal between treatment groups) (Levene or Bartlett Test)\n",
        "- Observations are sampled independently from each other\n",
        "\n",
        "How ANOVA works?\n",
        "\n",
        "- Check sample sizes: equal number of observation in each group\n",
        "- Calculate Mean Square for each group (MS) (SS of group/level-1); level-1 is a degree of freedom (df) for a group\n",
        "- Calculate Mean Square error (MSE) (SS error/df of residuals)\n",
        "- Calculate F-value (MS of group/MSE)"
      ]
    },
    {
      "cell_type": "code",
      "metadata": {
        "id": "RWNSN4-Qk7Mf",
        "outputId": "4d4cd0d0-ece4-40fa-df38-e8f5a6429bc0",
        "colab": {
          "base_uri": "https://localhost:8080/",
          "height": 204
        }
      },
      "source": [
        "# I am using Python 3\n",
        "# load packages\n",
        "import pandas as pd\n",
        "# load data file\n",
        "d = pd.read_csv(\"https://reneshbedre.github.io/assets/posts/anova/onewayanova.txt\", sep=\"\\t\")\n",
        "d"
      ],
      "execution_count": null,
      "outputs": [
        {
          "output_type": "execute_result",
          "data": {
            "text/html": [
              "<div>\n",
              "<style scoped>\n",
              "    .dataframe tbody tr th:only-of-type {\n",
              "        vertical-align: middle;\n",
              "    }\n",
              "\n",
              "    .dataframe tbody tr th {\n",
              "        vertical-align: top;\n",
              "    }\n",
              "\n",
              "    .dataframe thead th {\n",
              "        text-align: right;\n",
              "    }\n",
              "</style>\n",
              "<table border=\"1\" class=\"dataframe\">\n",
              "  <thead>\n",
              "    <tr style=\"text-align: right;\">\n",
              "      <th></th>\n",
              "      <th>A</th>\n",
              "      <th>B</th>\n",
              "      <th>C</th>\n",
              "      <th>D</th>\n",
              "    </tr>\n",
              "  </thead>\n",
              "  <tbody>\n",
              "    <tr>\n",
              "      <th>0</th>\n",
              "      <td>25</td>\n",
              "      <td>45</td>\n",
              "      <td>30</td>\n",
              "      <td>54</td>\n",
              "    </tr>\n",
              "    <tr>\n",
              "      <th>1</th>\n",
              "      <td>30</td>\n",
              "      <td>55</td>\n",
              "      <td>29</td>\n",
              "      <td>60</td>\n",
              "    </tr>\n",
              "    <tr>\n",
              "      <th>2</th>\n",
              "      <td>28</td>\n",
              "      <td>29</td>\n",
              "      <td>33</td>\n",
              "      <td>51</td>\n",
              "    </tr>\n",
              "    <tr>\n",
              "      <th>3</th>\n",
              "      <td>36</td>\n",
              "      <td>56</td>\n",
              "      <td>37</td>\n",
              "      <td>62</td>\n",
              "    </tr>\n",
              "    <tr>\n",
              "      <th>4</th>\n",
              "      <td>29</td>\n",
              "      <td>40</td>\n",
              "      <td>27</td>\n",
              "      <td>73</td>\n",
              "    </tr>\n",
              "  </tbody>\n",
              "</table>\n",
              "</div>"
            ],
            "text/plain": [
              "    A   B   C   D\n",
              "0  25  45  30  54\n",
              "1  30  55  29  60\n",
              "2  28  29  33  51\n",
              "3  36  56  37  62\n",
              "4  29  40  27  73"
            ]
          },
          "metadata": {
            "tags": []
          },
          "execution_count": 37
        }
      ]
    },
    {
      "cell_type": "code",
      "metadata": {
        "id": "geQBDX2Fk-Va",
        "outputId": "34fafea7-a510-4fa1-ed8c-05296cb4b8a1",
        "colab": {
          "base_uri": "https://localhost:8080/",
          "height": 282
        }
      },
      "source": [
        "# generate a boxplot to see the data distribution by treatments. Using boxplot, we can easily detect the differences \n",
        "# between different treatments\n",
        "d.boxplot(column=['A', 'B', 'C', 'D'], grid=False)"
      ],
      "execution_count": null,
      "outputs": [
        {
          "output_type": "execute_result",
          "data": {
            "text/plain": [
              "<matplotlib.axes._subplots.AxesSubplot at 0x7fbc5e4d9438>"
            ]
          },
          "metadata": {
            "tags": []
          },
          "execution_count": 38
        },
        {
          "output_type": "display_data",
          "data": {
            "image/png": "[encoded data removed]",
            "text/plain": [
              "<Figure size 432x288 with 1 Axes>"
            ]
          },
          "metadata": {
            "tags": [],
            "needs_background": "light"
          }
        }
      ]
    },
    {
      "cell_type": "code",
      "metadata": {
        "id": "oWaJVyRpk-D-",
        "outputId": "495f2918-aabc-469d-87b1-250b21cd662e",
        "colab": {
          "base_uri": "https://localhost:8080/",
          "height": 34
        }
      },
      "source": [
        "# load packages\n",
        "import scipy.stats as stats\n",
        "# stats f_oneway functions takes the groups as input and returns F and P-value\n",
        "fvalue, pvalue = stats.f_oneway(d['A'], d['B'], d['C'], d['D'])\n",
        "print(fvalue, pvalue)"
      ],
      "execution_count": null,
      "outputs": [
        {
          "output_type": "stream",
          "text": [
            "17.492810457516338 2.639241146210922e-05\n"
          ],
          "name": "stdout"
        }
      ]
    },
    {
      "cell_type": "code",
      "metadata": {
        "id": "AjvrxiPVmtHu",
        "outputId": "18684233-f8a0-4778-89e4-1e4eec818fc3",
        "colab": {
          "base_uri": "https://localhost:8080/",
          "height": 669
        }
      },
      "source": [
        "# get ANOVA table as R like output\n",
        "import statsmodels.api as sm\n",
        "from statsmodels.formula.api import ols\n",
        "# reshape the d dataframe suitable for statsmodels package \n",
        "d_melt = pd.melt(d.reset_index(), id_vars=['index'], value_vars=['A', 'B', 'C', 'D'])\n",
        "# replace column names\n",
        "d_melt.columns = ['index', 'treatments', 'value']\n",
        "d_melt"
      ],
      "execution_count": null,
      "outputs": [
        {
          "output_type": "execute_result",
          "data": {
            "text/html": [
              "<div>\n",
              "<style scoped>\n",
              "    .dataframe tbody tr th:only-of-type {\n",
              "        vertical-align: middle;\n",
              "    }\n",
              "\n",
              "    .dataframe tbody tr th {\n",
              "        vertical-align: top;\n",
              "    }\n",
              "\n",
              "    .dataframe thead th {\n",
              "        text-align: right;\n",
              "    }\n",
              "</style>\n",
              "<table border=\"1\" class=\"dataframe\">\n",
              "  <thead>\n",
              "    <tr style=\"text-align: right;\">\n",
              "      <th></th>\n",
              "      <th>index</th>\n",
              "      <th>treatments</th>\n",
              "      <th>value</th>\n",
              "    </tr>\n",
              "  </thead>\n",
              "  <tbody>\n",
              "    <tr>\n",
              "      <th>0</th>\n",
              "      <td>0</td>\n",
              "      <td>A</td>\n",
              "      <td>25</td>\n",
              "    </tr>\n",
              "    <tr>\n",
              "      <th>1</th>\n",
              "      <td>1</td>\n",
              "      <td>A</td>\n",
              "      <td>30</td>\n",
              "    </tr>\n",
              "    <tr>\n",
              "      <th>2</th>\n",
              "      <td>2</td>\n",
              "      <td>A</td>\n",
              "      <td>28</td>\n",
              "    </tr>\n",
              "    <tr>\n",
              "      <th>3</th>\n",
              "      <td>3</td>\n",
              "      <td>A</td>\n",
              "      <td>36</td>\n",
              "    </tr>\n",
              "    <tr>\n",
              "      <th>4</th>\n",
              "      <td>4</td>\n",
              "      <td>A</td>\n",
              "      <td>29</td>\n",
              "    </tr>\n",
              "    <tr>\n",
              "      <th>5</th>\n",
              "      <td>0</td>\n",
              "      <td>B</td>\n",
              "      <td>45</td>\n",
              "    </tr>\n",
              "    <tr>\n",
              "      <th>6</th>\n",
              "      <td>1</td>\n",
              "      <td>B</td>\n",
              "      <td>55</td>\n",
              "    </tr>\n",
              "    <tr>\n",
              "      <th>7</th>\n",
              "      <td>2</td>\n",
              "      <td>B</td>\n",
              "      <td>29</td>\n",
              "    </tr>\n",
              "    <tr>\n",
              "      <th>8</th>\n",
              "      <td>3</td>\n",
              "      <td>B</td>\n",
              "      <td>56</td>\n",
              "    </tr>\n",
              "    <tr>\n",
              "      <th>9</th>\n",
              "      <td>4</td>\n",
              "      <td>B</td>\n",
              "      <td>40</td>\n",
              "    </tr>\n",
              "    <tr>\n",
              "      <th>10</th>\n",
              "      <td>0</td>\n",
              "      <td>C</td>\n",
              "      <td>30</td>\n",
              "    </tr>\n",
              "    <tr>\n",
              "      <th>11</th>\n",
              "      <td>1</td>\n",
              "      <td>C</td>\n",
              "      <td>29</td>\n",
              "    </tr>\n",
              "    <tr>\n",
              "      <th>12</th>\n",
              "      <td>2</td>\n",
              "      <td>C</td>\n",
              "      <td>33</td>\n",
              "    </tr>\n",
              "    <tr>\n",
              "      <th>13</th>\n",
              "      <td>3</td>\n",
              "      <td>C</td>\n",
              "      <td>37</td>\n",
              "    </tr>\n",
              "    <tr>\n",
              "      <th>14</th>\n",
              "      <td>4</td>\n",
              "      <td>C</td>\n",
              "      <td>27</td>\n",
              "    </tr>\n",
              "    <tr>\n",
              "      <th>15</th>\n",
              "      <td>0</td>\n",
              "      <td>D</td>\n",
              "      <td>54</td>\n",
              "    </tr>\n",
              "    <tr>\n",
              "      <th>16</th>\n",
              "      <td>1</td>\n",
              "      <td>D</td>\n",
              "      <td>60</td>\n",
              "    </tr>\n",
              "    <tr>\n",
              "      <th>17</th>\n",
              "      <td>2</td>\n",
              "      <td>D</td>\n",
              "      <td>51</td>\n",
              "    </tr>\n",
              "    <tr>\n",
              "      <th>18</th>\n",
              "      <td>3</td>\n",
              "      <td>D</td>\n",
              "      <td>62</td>\n",
              "    </tr>\n",
              "    <tr>\n",
              "      <th>19</th>\n",
              "      <td>4</td>\n",
              "      <td>D</td>\n",
              "      <td>73</td>\n",
              "    </tr>\n",
              "  </tbody>\n",
              "</table>\n",
              "</div>"
            ],
            "text/plain": [
              "    index treatments  value\n",
              "0       0          A     25\n",
              "1       1          A     30\n",
              "2       2          A     28\n",
              "3       3          A     36\n",
              "4       4          A     29\n",
              "5       0          B     45\n",
              "6       1          B     55\n",
              "7       2          B     29\n",
              "8       3          B     56\n",
              "9       4          B     40\n",
              "10      0          C     30\n",
              "11      1          C     29\n",
              "12      2          C     33\n",
              "13      3          C     37\n",
              "14      4          C     27\n",
              "15      0          D     54\n",
              "16      1          D     60\n",
              "17      2          D     51\n",
              "18      3          D     62\n",
              "19      4          D     73"
            ]
          },
          "metadata": {
            "tags": []
          },
          "execution_count": 40
        }
      ]
    },
    {
      "cell_type": "code",
      "metadata": {
        "id": "EZ1bLp7mnFHg",
        "outputId": "f7804c38-4d9b-4fa2-d9dd-aa14cc568b81",
        "colab": {
          "base_uri": "https://localhost:8080/",
          "height": 111
        }
      },
      "source": [
        "# Ordinary Least Squares (OLS) model\n",
        "model = ols('value ~ C(treatments)', data=d_melt).fit()\n",
        "anova_table = sm.stats.anova_lm(model, typ=2)\n",
        "anova_table"
      ],
      "execution_count": null,
      "outputs": [
        {
          "output_type": "execute_result",
          "data": {
            "text/html": [
              "<div>\n",
              "<style scoped>\n",
              "    .dataframe tbody tr th:only-of-type {\n",
              "        vertical-align: middle;\n",
              "    }\n",
              "\n",
              "    .dataframe tbody tr th {\n",
              "        vertical-align: top;\n",
              "    }\n",
              "\n",
              "    .dataframe thead th {\n",
              "        text-align: right;\n",
              "    }\n",
              "</style>\n",
              "<table border=\"1\" class=\"dataframe\">\n",
              "  <thead>\n",
              "    <tr style=\"text-align: right;\">\n",
              "      <th></th>\n",
              "      <th>sum_sq</th>\n",
              "      <th>df</th>\n",
              "      <th>F</th>\n",
              "      <th>PR(&gt;F)</th>\n",
              "    </tr>\n",
              "  </thead>\n",
              "  <tbody>\n",
              "    <tr>\n",
              "      <th>C(treatments)</th>\n",
              "      <td>3010.95</td>\n",
              "      <td>3.0</td>\n",
              "      <td>17.49281</td>\n",
              "      <td>0.000026</td>\n",
              "    </tr>\n",
              "    <tr>\n",
              "      <th>Residual</th>\n",
              "      <td>918.00</td>\n",
              "      <td>16.0</td>\n",
              "      <td>NaN</td>\n",
              "      <td>NaN</td>\n",
              "    </tr>\n",
              "  </tbody>\n",
              "</table>\n",
              "</div>"
            ],
            "text/plain": [
              "                sum_sq    df         F    PR(>F)\n",
              "C(treatments)  3010.95   3.0  17.49281  0.000026\n",
              "Residual        918.00  16.0       NaN       NaN"
            ]
          },
          "metadata": {
            "tags": []
          },
          "execution_count": 41
        }
      ]
    },
    {
      "cell_type": "code",
      "metadata": {
        "id": "nfMOvDWRmzMR"
      },
      "source": [
        "# note: if the data is balanced (equal sample size for each group), Type 1, 2, and 3 sums of squares\n",
        "# (typ parameter) will produce similar results."
      ],
      "execution_count": null,
      "outputs": []
    },
    {
      "cell_type": "markdown",
      "metadata": {
        "id": "mX-OQ5BJm_SQ"
      },
      "source": [
        "Interpretation: The P-value obtained from ANOVA analysis is significant (P<0.05), and therefore, we conclude that there are significant differences among treatments."
      ]
    },
    {
      "cell_type": "markdown",
      "metadata": {
        "id": "MJy9JpTHnPY6"
      },
      "source": [
        "From ANOVA analysis, we know that treatment differences are statistically significant, but ANOVA does not tell which treatments are significantly different from each other. To know the pairs of significant different treatments, we will perform multiple pairwise comparison (Post-hoc comparison) analysis using Tukey HSD test."
      ]
    },
    {
      "cell_type": "markdown",
      "metadata": {
        "id": "Mc_8w96VsmVY"
      },
      "source": [
        "## Test ANOVA assumptions"
      ]
    },
    {
      "cell_type": "markdown",
      "metadata": {
        "id": "9xOrGAJlt0Fq"
      },
      "source": [
        "ANOVA Assumptions\n",
        "\n",
        "- Residuals (experimental error) are normally distributed (Shapiro-Wilks Test)\n",
        "- Homogeneity of variances (variances are equal between treatment groups) (Levene or Bartlett Test)\n",
        "- Observations are sampled independently from each other"
      ]
    },
    {
      "cell_type": "markdown",
      "metadata": {
        "id": "XsoqNo2zsyC6"
      },
      "source": [
        "The Shapiro-Wilk test can be used to check the normal distribution of residuals . Null hypothesis: data is drawn from normal distribution."
      ]
    },
    {
      "cell_type": "code",
      "metadata": {
        "id": "0-t7lm_iuCG8",
        "outputId": "91f9a16e-3e4d-41b5-ab29-3e7063be7618",
        "colab": {
          "base_uri": "https://localhost:8080/",
          "height": 374
        }
      },
      "source": [
        "model.resid"
      ],
      "execution_count": null,
      "outputs": [
        {
          "output_type": "execute_result",
          "data": {
            "text/plain": [
              "0    -4.600000e+00\n",
              "1     4.000000e-01\n",
              "2    -1.600000e+00\n",
              "3     6.400000e+00\n",
              "4    -6.000000e-01\n",
              "5     0.000000e+00\n",
              "6     1.000000e+01\n",
              "7    -1.600000e+01\n",
              "8     1.100000e+01\n",
              "9    -5.000000e+00\n",
              "10   -1.200000e+00\n",
              "11   -2.200000e+00\n",
              "12    1.800000e+00\n",
              "13    5.800000e+00\n",
              "14   -4.200000e+00\n",
              "15   -6.000000e+00\n",
              "16    7.105427e-15\n",
              "17   -9.000000e+00\n",
              "18    2.000000e+00\n",
              "19    1.300000e+01\n",
              "dtype: float64"
            ]
          },
          "metadata": {
            "tags": []
          },
          "execution_count": 28
        }
      ]
    },
    {
      "cell_type": "code",
      "metadata": {
        "id": "Mbm-XvEqsimF",
        "outputId": "51e084ab-ff4f-4556-84f3-9672e10dfae0",
        "colab": {
          "base_uri": "https://localhost:8080/",
          "height": 34
        }
      },
      "source": [
        "# load packages\n",
        "import scipy.stats as stats\n",
        "w, pvalue = stats.shapiro(model.resid)\n",
        "print(w, pvalue)"
      ],
      "execution_count": null,
      "outputs": [
        {
          "output_type": "stream",
          "text": [
            "0.9685019850730896 0.7229772806167603\n"
          ],
          "name": "stdout"
        }
      ]
    },
    {
      "cell_type": "markdown",
      "metadata": {
        "id": "9riYqC7gskcd"
      },
      "source": [
        "As the P-value is non significant, we fail to reject null hypothesis and conclude that data is drawn from normal distribution."
      ]
    },
    {
      "cell_type": "markdown",
      "metadata": {
        "id": "wULk8-y1s43n"
      },
      "source": [
        "As the data is drawn from normal distribution, use Bartlett’s test to check the Homogeneity of variances. Null hypothesis: samples from populations have equal variances."
      ]
    },
    {
      "cell_type": "code",
      "metadata": {
        "id": "8vBEHzSbs5lQ",
        "outputId": "7329c0f7-4864-449e-c549-9ec982c3d06b",
        "colab": {
          "base_uri": "https://localhost:8080/",
          "height": 34
        }
      },
      "source": [
        "# load packages\n",
        "import scipy.stats as stats\n",
        "w, pvalue = stats.bartlett(d['A'], d['B'], d['C'], d['D'])\n",
        "print(w, pvalue)"
      ],
      "execution_count": null,
      "outputs": [
        {
          "output_type": "stream",
          "text": [
            "5.687843565012841 0.1278253399753447\n"
          ],
          "name": "stdout"
        }
      ]
    },
    {
      "cell_type": "markdown",
      "metadata": {
        "id": "FCn7oFA5s-G-"
      },
      "source": [
        "As the P-value (0.12) is non significant, we fail to reject null hypothesis and conclude that treatments have equal variances."
      ]
    },
    {
      "cell_type": "markdown",
      "metadata": {
        "id": "UEDNtZE5tK9V"
      },
      "source": [
        "Levene test can be used to check the Homogeneity of variances when the data is not drawn from normal distribution."
      ]
    },
    {
      "cell_type": "code",
      "metadata": {
        "id": "GPFQSCCgtUJh",
        "outputId": "d295d0ea-dd7e-445a-f2c6-93f24684aa8a",
        "colab": {
          "base_uri": "https://localhost:8080/",
          "height": 34
        }
      },
      "source": [
        "from scipy.stats import levene\n",
        "stat, pvalue = levene(d['A'], d['B'], d['C'], d['D'])\n",
        "print(stat, pvalue)"
      ],
      "execution_count": null,
      "outputs": [
        {
          "output_type": "stream",
          "text": [
            "1.9219593192195938 0.16673281219949276\n"
          ],
          "name": "stdout"
        }
      ]
    },
    {
      "cell_type": "markdown",
      "metadata": {
        "id": "1FoWy-WOnQwg"
      },
      "source": [
        "## Tukey HSD test"
      ]
    },
    {
      "cell_type": "code",
      "metadata": {
        "id": "Cdl_UGAWnVcE"
      },
      "source": [
        "#!pip install pingouin"
      ],
      "execution_count": null,
      "outputs": []
    },
    {
      "cell_type": "code",
      "metadata": {
        "id": "1Rr7QWiqm7g6",
        "outputId": "7cc553cc-fc11-42a7-b245-9c8f5631d8d4",
        "colab": {
          "base_uri": "https://localhost:8080/",
          "height": 235
        }
      },
      "source": [
        "# load packages\n",
        "from pingouin import pairwise_tukey\n",
        "# perform multiple pairwise comparison (Tukey HSD)\n",
        "# for unbalanced (unequal sample size) data, pairwise_tukey uses Tukey-Kramer test\n",
        "m_comp = pairwise_tukey(data=d_melt, dv='value', between='treatments').round(3)\n",
        "m_comp"
      ],
      "execution_count": null,
      "outputs": [
        {
          "output_type": "execute_result",
          "data": {
            "text/html": [
              "<div>\n",
              "<style scoped>\n",
              "    .dataframe tbody tr th:only-of-type {\n",
              "        vertical-align: middle;\n",
              "    }\n",
              "\n",
              "    .dataframe tbody tr th {\n",
              "        vertical-align: top;\n",
              "    }\n",
              "\n",
              "    .dataframe thead th {\n",
              "        text-align: right;\n",
              "    }\n",
              "</style>\n",
              "<table border=\"1\" class=\"dataframe\">\n",
              "  <thead>\n",
              "    <tr style=\"text-align: right;\">\n",
              "      <th></th>\n",
              "      <th>A</th>\n",
              "      <th>B</th>\n",
              "      <th>mean(A)</th>\n",
              "      <th>mean(B)</th>\n",
              "      <th>diff</th>\n",
              "      <th>se</th>\n",
              "      <th>T</th>\n",
              "      <th>p-tukey</th>\n",
              "      <th>hedges</th>\n",
              "    </tr>\n",
              "  </thead>\n",
              "  <tbody>\n",
              "    <tr>\n",
              "      <th>0</th>\n",
              "      <td>A</td>\n",
              "      <td>B</td>\n",
              "      <td>29.6</td>\n",
              "      <td>45.0</td>\n",
              "      <td>-15.4</td>\n",
              "      <td>4.790616</td>\n",
              "      <td>-3.214618</td>\n",
              "      <td>0.010718</td>\n",
              "      <td>-1.836351</td>\n",
              "    </tr>\n",
              "    <tr>\n",
              "      <th>1</th>\n",
              "      <td>A</td>\n",
              "      <td>C</td>\n",
              "      <td>29.6</td>\n",
              "      <td>31.2</td>\n",
              "      <td>-1.6</td>\n",
              "      <td>4.790616</td>\n",
              "      <td>-0.333986</td>\n",
              "      <td>0.900000</td>\n",
              "      <td>-0.190790</td>\n",
              "    </tr>\n",
              "    <tr>\n",
              "      <th>2</th>\n",
              "      <td>A</td>\n",
              "      <td>D</td>\n",
              "      <td>29.6</td>\n",
              "      <td>60.0</td>\n",
              "      <td>-30.4</td>\n",
              "      <td>4.790616</td>\n",
              "      <td>-6.345739</td>\n",
              "      <td>0.001000</td>\n",
              "      <td>-3.625005</td>\n",
              "    </tr>\n",
              "    <tr>\n",
              "      <th>3</th>\n",
              "      <td>B</td>\n",
              "      <td>C</td>\n",
              "      <td>45.0</td>\n",
              "      <td>31.2</td>\n",
              "      <td>13.8</td>\n",
              "      <td>4.790616</td>\n",
              "      <td>2.880632</td>\n",
              "      <td>0.027410</td>\n",
              "      <td>1.645561</td>\n",
              "    </tr>\n",
              "    <tr>\n",
              "      <th>4</th>\n",
              "      <td>B</td>\n",
              "      <td>D</td>\n",
              "      <td>45.0</td>\n",
              "      <td>60.0</td>\n",
              "      <td>-15.0</td>\n",
              "      <td>4.790616</td>\n",
              "      <td>-3.131121</td>\n",
              "      <td>0.013679</td>\n",
              "      <td>-1.788654</td>\n",
              "    </tr>\n",
              "    <tr>\n",
              "      <th>5</th>\n",
              "      <td>C</td>\n",
              "      <td>D</td>\n",
              "      <td>31.2</td>\n",
              "      <td>60.0</td>\n",
              "      <td>-28.8</td>\n",
              "      <td>4.790616</td>\n",
              "      <td>-6.011753</td>\n",
              "      <td>0.001000</td>\n",
              "      <td>-3.434215</td>\n",
              "    </tr>\n",
              "  </tbody>\n",
              "</table>\n",
              "</div>"
            ],
            "text/plain": [
              "   A  B  mean(A)  mean(B)  diff        se         T   p-tukey    hedges\n",
              "0  A  B     29.6     45.0 -15.4  4.790616 -3.214618  0.010718 -1.836351\n",
              "1  A  C     29.6     31.2  -1.6  4.790616 -0.333986  0.900000 -0.190790\n",
              "2  A  D     29.6     60.0 -30.4  4.790616 -6.345739  0.001000 -3.625005\n",
              "3  B  C     45.0     31.2  13.8  4.790616  2.880632  0.027410  1.645561\n",
              "4  B  D     45.0     60.0 -15.0  4.790616 -3.131121  0.013679 -1.788654\n",
              "5  C  D     31.2     60.0 -28.8  4.790616 -6.011753  0.001000 -3.434215"
            ]
          },
          "metadata": {
            "tags": []
          },
          "execution_count": 17
        }
      ]
    },
    {
      "cell_type": "code",
      "metadata": {
        "id": "bW54Q55Ingsz"
      },
      "source": [
        "m_comp['Result']=m_comp['p-tukey'].apply(lambda x: 'Different'if x<0.05 else 'Not different')"
      ],
      "execution_count": null,
      "outputs": []
    },
    {
      "cell_type": "code",
      "metadata": {
        "id": "9wBuToeBozwb",
        "outputId": "84d60f04-3b8b-4094-d15a-74e54de9eca9",
        "colab": {
          "base_uri": "https://localhost:8080/",
          "height": 235
        }
      },
      "source": [
        "m_comp"
      ],
      "execution_count": null,
      "outputs": [
        {
          "output_type": "execute_result",
          "data": {
            "text/html": [
              "<div>\n",
              "<style scoped>\n",
              "    .dataframe tbody tr th:only-of-type {\n",
              "        vertical-align: middle;\n",
              "    }\n",
              "\n",
              "    .dataframe tbody tr th {\n",
              "        vertical-align: top;\n",
              "    }\n",
              "\n",
              "    .dataframe thead th {\n",
              "        text-align: right;\n",
              "    }\n",
              "</style>\n",
              "<table border=\"1\" class=\"dataframe\">\n",
              "  <thead>\n",
              "    <tr style=\"text-align: right;\">\n",
              "      <th></th>\n",
              "      <th>A</th>\n",
              "      <th>B</th>\n",
              "      <th>mean(A)</th>\n",
              "      <th>mean(B)</th>\n",
              "      <th>diff</th>\n",
              "      <th>se</th>\n",
              "      <th>T</th>\n",
              "      <th>p-tukey</th>\n",
              "      <th>hedges</th>\n",
              "      <th>Result</th>\n",
              "    </tr>\n",
              "  </thead>\n",
              "  <tbody>\n",
              "    <tr>\n",
              "      <th>0</th>\n",
              "      <td>A</td>\n",
              "      <td>B</td>\n",
              "      <td>29.6</td>\n",
              "      <td>45.0</td>\n",
              "      <td>-15.4</td>\n",
              "      <td>4.790616</td>\n",
              "      <td>-3.214618</td>\n",
              "      <td>0.010718</td>\n",
              "      <td>-1.836351</td>\n",
              "      <td>Different</td>\n",
              "    </tr>\n",
              "    <tr>\n",
              "      <th>1</th>\n",
              "      <td>A</td>\n",
              "      <td>C</td>\n",
              "      <td>29.6</td>\n",
              "      <td>31.2</td>\n",
              "      <td>-1.6</td>\n",
              "      <td>4.790616</td>\n",
              "      <td>-0.333986</td>\n",
              "      <td>0.900000</td>\n",
              "      <td>-0.190790</td>\n",
              "      <td>Not different</td>\n",
              "    </tr>\n",
              "    <tr>\n",
              "      <th>2</th>\n",
              "      <td>A</td>\n",
              "      <td>D</td>\n",
              "      <td>29.6</td>\n",
              "      <td>60.0</td>\n",
              "      <td>-30.4</td>\n",
              "      <td>4.790616</td>\n",
              "      <td>-6.345739</td>\n",
              "      <td>0.001000</td>\n",
              "      <td>-3.625005</td>\n",
              "      <td>Different</td>\n",
              "    </tr>\n",
              "    <tr>\n",
              "      <th>3</th>\n",
              "      <td>B</td>\n",
              "      <td>C</td>\n",
              "      <td>45.0</td>\n",
              "      <td>31.2</td>\n",
              "      <td>13.8</td>\n",
              "      <td>4.790616</td>\n",
              "      <td>2.880632</td>\n",
              "      <td>0.027410</td>\n",
              "      <td>1.645561</td>\n",
              "      <td>Different</td>\n",
              "    </tr>\n",
              "    <tr>\n",
              "      <th>4</th>\n",
              "      <td>B</td>\n",
              "      <td>D</td>\n",
              "      <td>45.0</td>\n",
              "      <td>60.0</td>\n",
              "      <td>-15.0</td>\n",
              "      <td>4.790616</td>\n",
              "      <td>-3.131121</td>\n",
              "      <td>0.013679</td>\n",
              "      <td>-1.788654</td>\n",
              "      <td>Different</td>\n",
              "    </tr>\n",
              "    <tr>\n",
              "      <th>5</th>\n",
              "      <td>C</td>\n",
              "      <td>D</td>\n",
              "      <td>31.2</td>\n",
              "      <td>60.0</td>\n",
              "      <td>-28.8</td>\n",
              "      <td>4.790616</td>\n",
              "      <td>-6.011753</td>\n",
              "      <td>0.001000</td>\n",
              "      <td>-3.434215</td>\n",
              "      <td>Different</td>\n",
              "    </tr>\n",
              "  </tbody>\n",
              "</table>\n",
              "</div>"
            ],
            "text/plain": [
              "   A  B  mean(A)  mean(B)  ...         T   p-tukey    hedges         Result\n",
              "0  A  B     29.6     45.0  ... -3.214618  0.010718 -1.836351      Different\n",
              "1  A  C     29.6     31.2  ... -0.333986  0.900000 -0.190790  Not different\n",
              "2  A  D     29.6     60.0  ... -6.345739  0.001000 -3.625005      Different\n",
              "3  B  C     45.0     31.2  ...  2.880632  0.027410  1.645561      Different\n",
              "4  B  D     45.0     60.0  ... -3.131121  0.013679 -1.788654      Different\n",
              "5  C  D     31.2     60.0  ... -6.011753  0.001000 -3.434215      Different\n",
              "\n",
              "[6 rows x 10 columns]"
            ]
          },
          "metadata": {
            "tags": []
          },
          "execution_count": 24
        }
      ]
    },
    {
      "cell_type": "markdown",
      "metadata": {
        "id": "8I1BFG3xsNhK"
      },
      "source": [
        "Above results from Tukey HSD suggests that except A-C, all other pairwise comparisons for treatments rejects null hypothesis (P-tukey<0.05) and indicates statistical significant differences."
      ]
    },
    {
      "cell_type": "markdown",
      "metadata": {
        "id": "TnWTBTXguwo3"
      },
      "source": [
        "# Two-way (two factor) ANOVA with Python"
      ]
    },
    {
      "cell_type": "markdown",
      "metadata": {
        "id": "BeHNvT0ruz3Q"
      },
      "source": [
        "From dataset, there are two factors (independent variables) viz. genotypes and yield in years. Genotypes and years has five and three levels respectively (see one-way ANOVA to know factors and levels).\n",
        "\n",
        "For this experimental design, there are two factors to evaluate, and therefore, two-way ANOVA method is suitable for analysis. Here, using two-way ANOVA, we can simultaneously evaluate how type of genotype and years affects the yields of plants. If you apply one-way ANOVA here, you can able to evaluate only one factor at a time.\n",
        "\n",
        "From two-way ANOVA, we can tests three hypotheses 1) effect of genotype on yield 2) effect of time (years) on yield, and 3) effect of genotype and time (years) interactions on yield"
      ]
    },
    {
      "cell_type": "code",
      "metadata": {
        "id": "407J5V5lpANc",
        "outputId": "8c75ade7-f968-46e4-f100-55450429a538",
        "colab": {
          "base_uri": "https://localhost:8080/",
          "height": 607
        }
      },
      "source": [
        "# load packages\n",
        "import pandas as pd\n",
        "import seaborn as sns\n",
        "# load data file\n",
        "d = pd.read_csv(\"https://reneshbedre.github.io/assets/posts/anova/twowayanova.txt\", sep=\"\\t\")\n",
        "d"
      ],
      "execution_count": null,
      "outputs": [
        {
          "output_type": "execute_result",
          "data": {
            "text/html": [
              "<div>\n",
              "<style scoped>\n",
              "    .dataframe tbody tr th:only-of-type {\n",
              "        vertical-align: middle;\n",
              "    }\n",
              "\n",
              "    .dataframe tbody tr th {\n",
              "        vertical-align: top;\n",
              "    }\n",
              "\n",
              "    .dataframe thead th {\n",
              "        text-align: right;\n",
              "    }\n",
              "</style>\n",
              "<table border=\"1\" class=\"dataframe\">\n",
              "  <thead>\n",
              "    <tr style=\"text-align: right;\">\n",
              "      <th></th>\n",
              "      <th>Genotype</th>\n",
              "      <th>1_year</th>\n",
              "      <th>2_year</th>\n",
              "      <th>3_year</th>\n",
              "    </tr>\n",
              "  </thead>\n",
              "  <tbody>\n",
              "    <tr>\n",
              "      <th>0</th>\n",
              "      <td>A</td>\n",
              "      <td>1.53</td>\n",
              "      <td>4.08</td>\n",
              "      <td>6.69</td>\n",
              "    </tr>\n",
              "    <tr>\n",
              "      <th>1</th>\n",
              "      <td>A</td>\n",
              "      <td>1.83</td>\n",
              "      <td>3.84</td>\n",
              "      <td>5.97</td>\n",
              "    </tr>\n",
              "    <tr>\n",
              "      <th>2</th>\n",
              "      <td>A</td>\n",
              "      <td>1.38</td>\n",
              "      <td>3.96</td>\n",
              "      <td>6.33</td>\n",
              "    </tr>\n",
              "    <tr>\n",
              "      <th>3</th>\n",
              "      <td>B</td>\n",
              "      <td>3.60</td>\n",
              "      <td>5.70</td>\n",
              "      <td>8.55</td>\n",
              "    </tr>\n",
              "    <tr>\n",
              "      <th>4</th>\n",
              "      <td>B</td>\n",
              "      <td>2.94</td>\n",
              "      <td>5.07</td>\n",
              "      <td>7.95</td>\n",
              "    </tr>\n",
              "    <tr>\n",
              "      <th>5</th>\n",
              "      <td>B</td>\n",
              "      <td>4.02</td>\n",
              "      <td>7.20</td>\n",
              "      <td>8.94</td>\n",
              "    </tr>\n",
              "    <tr>\n",
              "      <th>6</th>\n",
              "      <td>C</td>\n",
              "      <td>3.99</td>\n",
              "      <td>6.09</td>\n",
              "      <td>10.02</td>\n",
              "    </tr>\n",
              "    <tr>\n",
              "      <th>7</th>\n",
              "      <td>C</td>\n",
              "      <td>3.30</td>\n",
              "      <td>5.88</td>\n",
              "      <td>9.63</td>\n",
              "    </tr>\n",
              "    <tr>\n",
              "      <th>8</th>\n",
              "      <td>C</td>\n",
              "      <td>4.41</td>\n",
              "      <td>6.51</td>\n",
              "      <td>10.38</td>\n",
              "    </tr>\n",
              "    <tr>\n",
              "      <th>9</th>\n",
              "      <td>D</td>\n",
              "      <td>3.75</td>\n",
              "      <td>5.19</td>\n",
              "      <td>11.40</td>\n",
              "    </tr>\n",
              "    <tr>\n",
              "      <th>10</th>\n",
              "      <td>D</td>\n",
              "      <td>3.63</td>\n",
              "      <td>5.37</td>\n",
              "      <td>9.66</td>\n",
              "    </tr>\n",
              "    <tr>\n",
              "      <th>11</th>\n",
              "      <td>D</td>\n",
              "      <td>3.57</td>\n",
              "      <td>5.55</td>\n",
              "      <td>10.53</td>\n",
              "    </tr>\n",
              "    <tr>\n",
              "      <th>12</th>\n",
              "      <td>E</td>\n",
              "      <td>1.71</td>\n",
              "      <td>3.60</td>\n",
              "      <td>6.87</td>\n",
              "    </tr>\n",
              "    <tr>\n",
              "      <th>13</th>\n",
              "      <td>E</td>\n",
              "      <td>2.01</td>\n",
              "      <td>5.10</td>\n",
              "      <td>6.93</td>\n",
              "    </tr>\n",
              "    <tr>\n",
              "      <th>14</th>\n",
              "      <td>E</td>\n",
              "      <td>2.04</td>\n",
              "      <td>6.99</td>\n",
              "      <td>6.84</td>\n",
              "    </tr>\n",
              "    <tr>\n",
              "      <th>15</th>\n",
              "      <td>F</td>\n",
              "      <td>3.96</td>\n",
              "      <td>5.25</td>\n",
              "      <td>9.84</td>\n",
              "    </tr>\n",
              "    <tr>\n",
              "      <th>16</th>\n",
              "      <td>F</td>\n",
              "      <td>4.77</td>\n",
              "      <td>5.28</td>\n",
              "      <td>9.87</td>\n",
              "    </tr>\n",
              "    <tr>\n",
              "      <th>17</th>\n",
              "      <td>F</td>\n",
              "      <td>4.65</td>\n",
              "      <td>5.07</td>\n",
              "      <td>10.08</td>\n",
              "    </tr>\n",
              "  </tbody>\n",
              "</table>\n",
              "</div>"
            ],
            "text/plain": [
              "   Genotype  1_year  2_year  3_year\n",
              "0         A    1.53    4.08    6.69\n",
              "1         A    1.83    3.84    5.97\n",
              "2         A    1.38    3.96    6.33\n",
              "3         B    3.60    5.70    8.55\n",
              "4         B    2.94    5.07    7.95\n",
              "5         B    4.02    7.20    8.94\n",
              "6         C    3.99    6.09   10.02\n",
              "7         C    3.30    5.88    9.63\n",
              "8         C    4.41    6.51   10.38\n",
              "9         D    3.75    5.19   11.40\n",
              "10        D    3.63    5.37    9.66\n",
              "11        D    3.57    5.55   10.53\n",
              "12        E    1.71    3.60    6.87\n",
              "13        E    2.01    5.10    6.93\n",
              "14        E    2.04    6.99    6.84\n",
              "15        F    3.96    5.25    9.84\n",
              "16        F    4.77    5.28    9.87\n",
              "17        F    4.65    5.07   10.08"
            ]
          },
          "metadata": {
            "tags": []
          },
          "execution_count": 57
        }
      ]
    },
    {
      "cell_type": "code",
      "metadata": {
        "id": "FhfJ1pZku3FB",
        "outputId": "1598717d-cd2d-4760-c53f-bbd7865cacc5",
        "colab": {
          "base_uri": "https://localhost:8080/",
          "height": 359
        }
      },
      "source": [
        "# reshape the d dataframe suitable for statsmodels package \n",
        "# you do not need to reshape if your data is already in stacked format. Compare d and d_melt tables for detail \n",
        "# understanding \n",
        "d_melt = pd.melt(d, id_vars=['Genotype'], value_vars=['1_year', '2_year', '3_year'])\n",
        "# replace column names\n",
        "d_melt.columns = ['Genotype', 'years', 'value']\n",
        "d_melt.head(10)"
      ],
      "execution_count": null,
      "outputs": [
        {
          "output_type": "execute_result",
          "data": {
            "text/html": [
              "<div>\n",
              "<style scoped>\n",
              "    .dataframe tbody tr th:only-of-type {\n",
              "        vertical-align: middle;\n",
              "    }\n",
              "\n",
              "    .dataframe tbody tr th {\n",
              "        vertical-align: top;\n",
              "    }\n",
              "\n",
              "    .dataframe thead th {\n",
              "        text-align: right;\n",
              "    }\n",
              "</style>\n",
              "<table border=\"1\" class=\"dataframe\">\n",
              "  <thead>\n",
              "    <tr style=\"text-align: right;\">\n",
              "      <th></th>\n",
              "      <th>Genotype</th>\n",
              "      <th>years</th>\n",
              "      <th>value</th>\n",
              "    </tr>\n",
              "  </thead>\n",
              "  <tbody>\n",
              "    <tr>\n",
              "      <th>0</th>\n",
              "      <td>A</td>\n",
              "      <td>1_year</td>\n",
              "      <td>1.53</td>\n",
              "    </tr>\n",
              "    <tr>\n",
              "      <th>1</th>\n",
              "      <td>A</td>\n",
              "      <td>1_year</td>\n",
              "      <td>1.83</td>\n",
              "    </tr>\n",
              "    <tr>\n",
              "      <th>2</th>\n",
              "      <td>A</td>\n",
              "      <td>1_year</td>\n",
              "      <td>1.38</td>\n",
              "    </tr>\n",
              "    <tr>\n",
              "      <th>3</th>\n",
              "      <td>B</td>\n",
              "      <td>1_year</td>\n",
              "      <td>3.60</td>\n",
              "    </tr>\n",
              "    <tr>\n",
              "      <th>4</th>\n",
              "      <td>B</td>\n",
              "      <td>1_year</td>\n",
              "      <td>2.94</td>\n",
              "    </tr>\n",
              "    <tr>\n",
              "      <th>5</th>\n",
              "      <td>B</td>\n",
              "      <td>1_year</td>\n",
              "      <td>4.02</td>\n",
              "    </tr>\n",
              "    <tr>\n",
              "      <th>6</th>\n",
              "      <td>C</td>\n",
              "      <td>1_year</td>\n",
              "      <td>3.99</td>\n",
              "    </tr>\n",
              "    <tr>\n",
              "      <th>7</th>\n",
              "      <td>C</td>\n",
              "      <td>1_year</td>\n",
              "      <td>3.30</td>\n",
              "    </tr>\n",
              "    <tr>\n",
              "      <th>8</th>\n",
              "      <td>C</td>\n",
              "      <td>1_year</td>\n",
              "      <td>4.41</td>\n",
              "    </tr>\n",
              "    <tr>\n",
              "      <th>9</th>\n",
              "      <td>D</td>\n",
              "      <td>1_year</td>\n",
              "      <td>3.75</td>\n",
              "    </tr>\n",
              "  </tbody>\n",
              "</table>\n",
              "</div>"
            ],
            "text/plain": [
              "  Genotype   years  value\n",
              "0        A  1_year   1.53\n",
              "1        A  1_year   1.83\n",
              "2        A  1_year   1.38\n",
              "3        B  1_year   3.60\n",
              "4        B  1_year   2.94\n",
              "5        B  1_year   4.02\n",
              "6        C  1_year   3.99\n",
              "7        C  1_year   3.30\n",
              "8        C  1_year   4.41\n",
              "9        D  1_year   3.75"
            ]
          },
          "metadata": {
            "tags": []
          },
          "execution_count": 58
        }
      ]
    },
    {
      "cell_type": "code",
      "metadata": {
        "id": "ySWSua-evsHf",
        "outputId": "f243bd9a-f41d-4f14-8c75-b67b17b5d1b6",
        "colab": {
          "base_uri": "https://localhost:8080/",
          "height": 296
        }
      },
      "source": [
        "# generate a boxplot to see the data distribution by genotypes and years. Using boxplot, we can easily detect the \n",
        "# differences between different groups\n",
        "sns.boxplot(x=\"Genotype\", y=\"value\", hue=\"years\", data=d_melt, palette=\"Set3\") "
      ],
      "execution_count": null,
      "outputs": [
        {
          "output_type": "execute_result",
          "data": {
            "text/plain": [
              "<matplotlib.axes._subplots.AxesSubplot at 0x7fbc5ddea278>"
            ]
          },
          "metadata": {
            "tags": []
          },
          "execution_count": 59
        },
        {
          "output_type": "display_data",
          "data": {
            "image/png": "[encoded data removed]",
            "text/plain": [
              "<Figure size 432x288 with 1 Axes>"
            ]
          },
          "metadata": {
            "tags": [],
            "needs_background": "light"
          }
        }
      ]
    },
    {
      "cell_type": "code",
      "metadata": {
        "id": "7XVzdEM9wHfg",
        "outputId": "409617c0-84c5-4ba4-e233-8b72ef6f162c",
        "colab": {
          "base_uri": "https://localhost:8080/",
          "height": 173
        }
      },
      "source": [
        "# load packages\n",
        "import statsmodels.api as sm\n",
        "from statsmodels.formula.api import ols\n",
        "# Ordinary Least Squares (OLS) model\n",
        "# C(Genotype):C(years) represent interaction term\n",
        "model = ols('value ~ C(Genotype) + C(years) + C(Genotype):C(years)', data=d_melt).fit()\n",
        "anova_table = sm.stats.anova_lm(model, typ=2) #typ = 3 for unblanced\n",
        "anova_table"
      ],
      "execution_count": null,
      "outputs": [
        {
          "output_type": "execute_result",
          "data": {
            "text/html": [
              "<div>\n",
              "<style scoped>\n",
              "    .dataframe tbody tr th:only-of-type {\n",
              "        vertical-align: middle;\n",
              "    }\n",
              "\n",
              "    .dataframe tbody tr th {\n",
              "        vertical-align: top;\n",
              "    }\n",
              "\n",
              "    .dataframe thead th {\n",
              "        text-align: right;\n",
              "    }\n",
              "</style>\n",
              "<table border=\"1\" class=\"dataframe\">\n",
              "  <thead>\n",
              "    <tr style=\"text-align: right;\">\n",
              "      <th></th>\n",
              "      <th>sum_sq</th>\n",
              "      <th>df</th>\n",
              "      <th>F</th>\n",
              "      <th>PR(&gt;F)</th>\n",
              "    </tr>\n",
              "  </thead>\n",
              "  <tbody>\n",
              "    <tr>\n",
              "      <th>C(Genotype)</th>\n",
              "      <td>58.551733</td>\n",
              "      <td>5.0</td>\n",
              "      <td>32.748581</td>\n",
              "      <td>1.931655e-12</td>\n",
              "    </tr>\n",
              "    <tr>\n",
              "      <th>C(years)</th>\n",
              "      <td>278.925633</td>\n",
              "      <td>2.0</td>\n",
              "      <td>390.014868</td>\n",
              "      <td>4.006243e-25</td>\n",
              "    </tr>\n",
              "    <tr>\n",
              "      <th>C(Genotype):C(years)</th>\n",
              "      <td>17.122967</td>\n",
              "      <td>10.0</td>\n",
              "      <td>4.788525</td>\n",
              "      <td>2.230094e-04</td>\n",
              "    </tr>\n",
              "    <tr>\n",
              "      <th>Residual</th>\n",
              "      <td>12.873000</td>\n",
              "      <td>36.0</td>\n",
              "      <td>NaN</td>\n",
              "      <td>NaN</td>\n",
              "    </tr>\n",
              "  </tbody>\n",
              "</table>\n",
              "</div>"
            ],
            "text/plain": [
              "                          sum_sq    df           F        PR(>F)\n",
              "C(Genotype)            58.551733   5.0   32.748581  1.931655e-12\n",
              "C(years)              278.925633   2.0  390.014868  4.006243e-25\n",
              "C(Genotype):C(years)   17.122967  10.0    4.788525  2.230094e-04\n",
              "Residual               12.873000  36.0         NaN           NaN"
            ]
          },
          "metadata": {
            "tags": []
          },
          "execution_count": 60
        }
      ]
    },
    {
      "cell_type": "markdown",
      "metadata": {
        "id": "2P6isDB-wo6x"
      },
      "source": [
        "Interpretation: The P-value obtained from ANOVA analysis for genotype, years, and interaction are statistically significant (P<0.05). We conclude that type of genotype significantly affects the yield outcome, time (years) significantly affects the yield outcome, and interaction of both genotype and time (years) significantly affects the yield outcome."
      ]
    },
    {
      "cell_type": "markdown",
      "metadata": {
        "id": "E2OS-HJ7wqsB"
      },
      "source": [
        "Note: If you have unbalanced (unequal sample size for each group) data, you can perform similar steps as described for two-way ANOVA with the balanced design but set `typ=3`. Type 3 sums of squares (SS) is recommended for an unbalanced design for multifactorial ANOVA."
      ]
    },
    {
      "cell_type": "markdown",
      "metadata": {
        "id": "2otKDPRuxLdc"
      },
      "source": [
        "## Test ANOVA assumptions"
      ]
    },
    {
      "cell_type": "markdown",
      "metadata": {
        "id": "gy3G5BnhxKpF"
      },
      "source": [
        "Similar to one-way ANOVA, you can use Levene and Shapiro-Wilk test to validate the assumptions for homogeneity of variances and normal distribution of residuals."
      ]
    },
    {
      "cell_type": "code",
      "metadata": {
        "id": "EX0iGiZ2zN5i",
        "outputId": "f2baa4a2-da3a-433d-a429-4dd484222a23",
        "colab": {
          "base_uri": "https://localhost:8080/",
          "height": 34
        }
      },
      "source": [
        "# load packages\n",
        "import scipy.stats as stats\n",
        "w, pvalue = stats.shapiro(model.resid)\n",
        "print(w, pvalue)"
      ],
      "execution_count": null,
      "outputs": [
        {
          "output_type": "stream",
          "text": [
            "0.8978845477104187 0.00023986827000044286\n"
          ],
          "name": "stdout"
        }
      ]
    },
    {
      "cell_type": "markdown",
      "metadata": {
        "id": "Kag_KCORzY-h"
      },
      "source": [
        "As the P-value is  significant, we reject null hypothesis and conclude that data is drawn from non normal distribution."
      ]
    },
    {
      "cell_type": "markdown",
      "metadata": {
        "id": "AWY48y2vzdhX"
      },
      "source": [
        "Levene test can be used to check the Homogeneity of variances when the data is not drawn from normal distribution."
      ]
    },
    {
      "cell_type": "code",
      "metadata": {
        "id": "acTErLaHzN8T",
        "outputId": "fc43e106-b9c9-4eb2-8405-2aebede41c77",
        "colab": {
          "base_uri": "https://localhost:8080/",
          "height": 34
        }
      },
      "source": [
        "from scipy.stats import levene\n",
        "stat, pvalue = levene(d['1_year'], d['2_year'], d['3_year'])\n",
        "print(stat, pvalue)"
      ],
      "execution_count": null,
      "outputs": [
        {
          "output_type": "stream",
          "text": [
            "3.7640414132406605 0.02987100822975102\n"
          ],
          "name": "stdout"
        }
      ]
    },
    {
      "cell_type": "markdown",
      "metadata": {
        "id": "o7H3hCXZzy3j"
      },
      "source": [
        "As the P-value is significant, we reject null hypothesis and conclude that treatments have non equal variances."
      ]
    },
    {
      "cell_type": "markdown",
      "metadata": {
        "id": "GcOIPVv-xCbV"
      },
      "source": [
        "## Tukey HSD test."
      ]
    },
    {
      "cell_type": "markdown",
      "metadata": {
        "id": "z-xk6z1mw9ab"
      },
      "source": [
        "Now, we know that genotype and time (years) differences are statistically significant, but ANOVA does not tell which genotype and time (years) are significantly different from each other. To know the pairs of significant different genotype and time (years), perform multiple pairwise comparison (Post-hoc comparison) analysis using Tukey HSD test.\n",
        "\n"
      ]
    },
    {
      "cell_type": "code",
      "metadata": {
        "id": "BK1GmUtixzD2",
        "outputId": "79c40e2b-e9ce-4894-83cf-05e47ceafb75",
        "colab": {
          "base_uri": "https://localhost:8080/",
          "height": 204
        }
      },
      "source": [
        "d_melt.head()"
      ],
      "execution_count": null,
      "outputs": [
        {
          "output_type": "execute_result",
          "data": {
            "text/html": [
              "<div>\n",
              "<style scoped>\n",
              "    .dataframe tbody tr th:only-of-type {\n",
              "        vertical-align: middle;\n",
              "    }\n",
              "\n",
              "    .dataframe tbody tr th {\n",
              "        vertical-align: top;\n",
              "    }\n",
              "\n",
              "    .dataframe thead th {\n",
              "        text-align: right;\n",
              "    }\n",
              "</style>\n",
              "<table border=\"1\" class=\"dataframe\">\n",
              "  <thead>\n",
              "    <tr style=\"text-align: right;\">\n",
              "      <th></th>\n",
              "      <th>Genotype</th>\n",
              "      <th>years</th>\n",
              "      <th>value</th>\n",
              "    </tr>\n",
              "  </thead>\n",
              "  <tbody>\n",
              "    <tr>\n",
              "      <th>0</th>\n",
              "      <td>A</td>\n",
              "      <td>1_year</td>\n",
              "      <td>1.53</td>\n",
              "    </tr>\n",
              "    <tr>\n",
              "      <th>1</th>\n",
              "      <td>A</td>\n",
              "      <td>1_year</td>\n",
              "      <td>1.83</td>\n",
              "    </tr>\n",
              "    <tr>\n",
              "      <th>2</th>\n",
              "      <td>A</td>\n",
              "      <td>1_year</td>\n",
              "      <td>1.38</td>\n",
              "    </tr>\n",
              "    <tr>\n",
              "      <th>3</th>\n",
              "      <td>B</td>\n",
              "      <td>1_year</td>\n",
              "      <td>3.60</td>\n",
              "    </tr>\n",
              "    <tr>\n",
              "      <th>4</th>\n",
              "      <td>B</td>\n",
              "      <td>1_year</td>\n",
              "      <td>2.94</td>\n",
              "    </tr>\n",
              "  </tbody>\n",
              "</table>\n",
              "</div>"
            ],
            "text/plain": [
              "  Genotype   years  value\n",
              "0        A  1_year   1.53\n",
              "1        A  1_year   1.83\n",
              "2        A  1_year   1.38\n",
              "3        B  1_year   3.60\n",
              "4        B  1_year   2.94"
            ]
          },
          "metadata": {
            "tags": []
          },
          "execution_count": 48
        }
      ]
    },
    {
      "cell_type": "code",
      "metadata": {
        "id": "2mZX9QeVwTnC",
        "outputId": "51422216-1ddf-4563-dae5-83cbc582cee8",
        "colab": {
          "base_uri": "https://localhost:8080/",
          "height": 514
        }
      },
      "source": [
        "# load packages\n",
        "from pingouin import pairwise_tukey\n",
        "# perform multiple pairwise comparison (Tukey HSD)\n",
        "# for unbalanced (unequal sample size) data, pairwise_tukey uses Tukey-Kramer test\n",
        "m_comp = pairwise_tukey(data=d_melt, dv='value', between='Genotype').round(3)\n",
        "m_comp['Result']=m_comp['p-tukey'].apply(lambda x: 'Different'if x<0.05 else 'Not different')\n",
        "m_comp"
      ],
      "execution_count": null,
      "outputs": [
        {
          "output_type": "execute_result",
          "data": {
            "text/html": [
              "<div>\n",
              "<style scoped>\n",
              "    .dataframe tbody tr th:only-of-type {\n",
              "        vertical-align: middle;\n",
              "    }\n",
              "\n",
              "    .dataframe tbody tr th {\n",
              "        vertical-align: top;\n",
              "    }\n",
              "\n",
              "    .dataframe thead th {\n",
              "        text-align: right;\n",
              "    }\n",
              "</style>\n",
              "<table border=\"1\" class=\"dataframe\">\n",
              "  <thead>\n",
              "    <tr style=\"text-align: right;\">\n",
              "      <th></th>\n",
              "      <th>A</th>\n",
              "      <th>B</th>\n",
              "      <th>mean(A)</th>\n",
              "      <th>mean(B)</th>\n",
              "      <th>diff</th>\n",
              "      <th>se</th>\n",
              "      <th>T</th>\n",
              "      <th>p-tukey</th>\n",
              "      <th>hedges</th>\n",
              "      <th>Result</th>\n",
              "    </tr>\n",
              "  </thead>\n",
              "  <tbody>\n",
              "    <tr>\n",
              "      <th>0</th>\n",
              "      <td>A</td>\n",
              "      <td>B</td>\n",
              "      <td>3.957</td>\n",
              "      <td>5.997</td>\n",
              "      <td>-2.040</td>\n",
              "      <td>1.196</td>\n",
              "      <td>-1.706</td>\n",
              "      <td>0.523</td>\n",
              "      <td>-0.766</td>\n",
              "      <td>Not different</td>\n",
              "    </tr>\n",
              "    <tr>\n",
              "      <th>1</th>\n",
              "      <td>A</td>\n",
              "      <td>C</td>\n",
              "      <td>3.957</td>\n",
              "      <td>6.690</td>\n",
              "      <td>-2.733</td>\n",
              "      <td>1.196</td>\n",
              "      <td>-2.286</td>\n",
              "      <td>0.207</td>\n",
              "      <td>-1.026</td>\n",
              "      <td>Not different</td>\n",
              "    </tr>\n",
              "    <tr>\n",
              "      <th>2</th>\n",
              "      <td>A</td>\n",
              "      <td>D</td>\n",
              "      <td>3.957</td>\n",
              "      <td>6.517</td>\n",
              "      <td>-2.560</td>\n",
              "      <td>1.196</td>\n",
              "      <td>-2.141</td>\n",
              "      <td>0.273</td>\n",
              "      <td>-0.961</td>\n",
              "      <td>Not different</td>\n",
              "    </tr>\n",
              "    <tr>\n",
              "      <th>3</th>\n",
              "      <td>A</td>\n",
              "      <td>E</td>\n",
              "      <td>3.957</td>\n",
              "      <td>4.677</td>\n",
              "      <td>-0.720</td>\n",
              "      <td>1.196</td>\n",
              "      <td>-0.602</td>\n",
              "      <td>0.900</td>\n",
              "      <td>-0.270</td>\n",
              "      <td>Not different</td>\n",
              "    </tr>\n",
              "    <tr>\n",
              "      <th>4</th>\n",
              "      <td>A</td>\n",
              "      <td>F</td>\n",
              "      <td>3.957</td>\n",
              "      <td>6.530</td>\n",
              "      <td>-2.573</td>\n",
              "      <td>1.196</td>\n",
              "      <td>-2.152</td>\n",
              "      <td>0.267</td>\n",
              "      <td>-0.966</td>\n",
              "      <td>Not different</td>\n",
              "    </tr>\n",
              "    <tr>\n",
              "      <th>5</th>\n",
              "      <td>B</td>\n",
              "      <td>C</td>\n",
              "      <td>5.997</td>\n",
              "      <td>6.690</td>\n",
              "      <td>-0.693</td>\n",
              "      <td>1.196</td>\n",
              "      <td>-0.580</td>\n",
              "      <td>0.900</td>\n",
              "      <td>-0.260</td>\n",
              "      <td>Not different</td>\n",
              "    </tr>\n",
              "    <tr>\n",
              "      <th>6</th>\n",
              "      <td>B</td>\n",
              "      <td>D</td>\n",
              "      <td>5.997</td>\n",
              "      <td>6.517</td>\n",
              "      <td>-0.520</td>\n",
              "      <td>1.196</td>\n",
              "      <td>-0.435</td>\n",
              "      <td>0.900</td>\n",
              "      <td>-0.195</td>\n",
              "      <td>Not different</td>\n",
              "    </tr>\n",
              "    <tr>\n",
              "      <th>7</th>\n",
              "      <td>B</td>\n",
              "      <td>E</td>\n",
              "      <td>5.997</td>\n",
              "      <td>4.677</td>\n",
              "      <td>1.320</td>\n",
              "      <td>1.196</td>\n",
              "      <td>1.104</td>\n",
              "      <td>0.864</td>\n",
              "      <td>0.496</td>\n",
              "      <td>Not different</td>\n",
              "    </tr>\n",
              "    <tr>\n",
              "      <th>8</th>\n",
              "      <td>B</td>\n",
              "      <td>F</td>\n",
              "      <td>5.997</td>\n",
              "      <td>6.530</td>\n",
              "      <td>-0.533</td>\n",
              "      <td>1.196</td>\n",
              "      <td>-0.446</td>\n",
              "      <td>0.900</td>\n",
              "      <td>-0.200</td>\n",
              "      <td>Not different</td>\n",
              "    </tr>\n",
              "    <tr>\n",
              "      <th>9</th>\n",
              "      <td>C</td>\n",
              "      <td>D</td>\n",
              "      <td>6.690</td>\n",
              "      <td>6.517</td>\n",
              "      <td>0.173</td>\n",
              "      <td>1.196</td>\n",
              "      <td>0.145</td>\n",
              "      <td>0.900</td>\n",
              "      <td>0.065</td>\n",
              "      <td>Not different</td>\n",
              "    </tr>\n",
              "    <tr>\n",
              "      <th>10</th>\n",
              "      <td>C</td>\n",
              "      <td>E</td>\n",
              "      <td>6.690</td>\n",
              "      <td>4.677</td>\n",
              "      <td>2.013</td>\n",
              "      <td>1.196</td>\n",
              "      <td>1.684</td>\n",
              "      <td>0.536</td>\n",
              "      <td>0.756</td>\n",
              "      <td>Not different</td>\n",
              "    </tr>\n",
              "    <tr>\n",
              "      <th>11</th>\n",
              "      <td>C</td>\n",
              "      <td>F</td>\n",
              "      <td>6.690</td>\n",
              "      <td>6.530</td>\n",
              "      <td>0.160</td>\n",
              "      <td>1.196</td>\n",
              "      <td>0.134</td>\n",
              "      <td>0.900</td>\n",
              "      <td>0.060</td>\n",
              "      <td>Not different</td>\n",
              "    </tr>\n",
              "    <tr>\n",
              "      <th>12</th>\n",
              "      <td>D</td>\n",
              "      <td>E</td>\n",
              "      <td>6.517</td>\n",
              "      <td>4.677</td>\n",
              "      <td>1.840</td>\n",
              "      <td>1.196</td>\n",
              "      <td>1.539</td>\n",
              "      <td>0.618</td>\n",
              "      <td>0.691</td>\n",
              "      <td>Not different</td>\n",
              "    </tr>\n",
              "    <tr>\n",
              "      <th>13</th>\n",
              "      <td>D</td>\n",
              "      <td>F</td>\n",
              "      <td>6.517</td>\n",
              "      <td>6.530</td>\n",
              "      <td>-0.013</td>\n",
              "      <td>1.196</td>\n",
              "      <td>-0.011</td>\n",
              "      <td>0.900</td>\n",
              "      <td>-0.005</td>\n",
              "      <td>Not different</td>\n",
              "    </tr>\n",
              "    <tr>\n",
              "      <th>14</th>\n",
              "      <td>E</td>\n",
              "      <td>F</td>\n",
              "      <td>4.677</td>\n",
              "      <td>6.530</td>\n",
              "      <td>-1.853</td>\n",
              "      <td>1.196</td>\n",
              "      <td>-1.550</td>\n",
              "      <td>0.612</td>\n",
              "      <td>-0.696</td>\n",
              "      <td>Not different</td>\n",
              "    </tr>\n",
              "  </tbody>\n",
              "</table>\n",
              "</div>"
            ],
            "text/plain": [
              "    A  B  mean(A)  mean(B)   diff     se      T  p-tukey  hedges         Result\n",
              "0   A  B    3.957    5.997 -2.040  1.196 -1.706    0.523  -0.766  Not different\n",
              "1   A  C    3.957    6.690 -2.733  1.196 -2.286    0.207  -1.026  Not different\n",
              "2   A  D    3.957    6.517 -2.560  1.196 -2.141    0.273  -0.961  Not different\n",
              "3   A  E    3.957    4.677 -0.720  1.196 -0.602    0.900  -0.270  Not different\n",
              "4   A  F    3.957    6.530 -2.573  1.196 -2.152    0.267  -0.966  Not different\n",
              "5   B  C    5.997    6.690 -0.693  1.196 -0.580    0.900  -0.260  Not different\n",
              "6   B  D    5.997    6.517 -0.520  1.196 -0.435    0.900  -0.195  Not different\n",
              "7   B  E    5.997    4.677  1.320  1.196  1.104    0.864   0.496  Not different\n",
              "8   B  F    5.997    6.530 -0.533  1.196 -0.446    0.900  -0.200  Not different\n",
              "9   C  D    6.690    6.517  0.173  1.196  0.145    0.900   0.065  Not different\n",
              "10  C  E    6.690    4.677  2.013  1.196  1.684    0.536   0.756  Not different\n",
              "11  C  F    6.690    6.530  0.160  1.196  0.134    0.900   0.060  Not different\n",
              "12  D  E    6.517    4.677  1.840  1.196  1.539    0.618   0.691  Not different\n",
              "13  D  F    6.517    6.530 -0.013  1.196 -0.011    0.900  -0.005  Not different\n",
              "14  E  F    4.677    6.530 -1.853  1.196 -1.550    0.612  -0.696  Not different"
            ]
          },
          "metadata": {
            "tags": []
          },
          "execution_count": 54
        }
      ]
    },
    {
      "cell_type": "code",
      "metadata": {
        "id": "i5BPK7vexv60",
        "outputId": "9cb38a29-1017-431b-8f9e-dd6367f9a8d7",
        "colab": {
          "base_uri": "https://localhost:8080/",
          "height": 142
        }
      },
      "source": [
        "m_comp = pairwise_tukey(data=d_melt, dv='value', between='years').round(3)\n",
        "m_comp['Result']=m_comp['p-tukey'].apply(lambda x: 'Different'if x<0.05 else 'Not different')\n",
        "m_comp"
      ],
      "execution_count": null,
      "outputs": [
        {
          "output_type": "execute_result",
          "data": {
            "text/html": [
              "<div>\n",
              "<style scoped>\n",
              "    .dataframe tbody tr th:only-of-type {\n",
              "        vertical-align: middle;\n",
              "    }\n",
              "\n",
              "    .dataframe tbody tr th {\n",
              "        vertical-align: top;\n",
              "    }\n",
              "\n",
              "    .dataframe thead th {\n",
              "        text-align: right;\n",
              "    }\n",
              "</style>\n",
              "<table border=\"1\" class=\"dataframe\">\n",
              "  <thead>\n",
              "    <tr style=\"text-align: right;\">\n",
              "      <th></th>\n",
              "      <th>A</th>\n",
              "      <th>B</th>\n",
              "      <th>mean(A)</th>\n",
              "      <th>mean(B)</th>\n",
              "      <th>diff</th>\n",
              "      <th>se</th>\n",
              "      <th>T</th>\n",
              "      <th>p-tukey</th>\n",
              "      <th>hedges</th>\n",
              "      <th>Result</th>\n",
              "    </tr>\n",
              "  </thead>\n",
              "  <tbody>\n",
              "    <tr>\n",
              "      <th>0</th>\n",
              "      <td>1_year</td>\n",
              "      <td>2_year</td>\n",
              "      <td>3.172</td>\n",
              "      <td>5.318</td>\n",
              "      <td>-2.147</td>\n",
              "      <td>0.439</td>\n",
              "      <td>-4.887</td>\n",
              "      <td>0.001</td>\n",
              "      <td>-1.593</td>\n",
              "      <td>Different</td>\n",
              "    </tr>\n",
              "    <tr>\n",
              "      <th>1</th>\n",
              "      <td>1_year</td>\n",
              "      <td>3_year</td>\n",
              "      <td>3.172</td>\n",
              "      <td>8.693</td>\n",
              "      <td>-5.522</td>\n",
              "      <td>0.439</td>\n",
              "      <td>-12.572</td>\n",
              "      <td>0.001</td>\n",
              "      <td>-4.097</td>\n",
              "      <td>Different</td>\n",
              "    </tr>\n",
              "    <tr>\n",
              "      <th>2</th>\n",
              "      <td>2_year</td>\n",
              "      <td>3_year</td>\n",
              "      <td>5.318</td>\n",
              "      <td>8.693</td>\n",
              "      <td>-3.375</td>\n",
              "      <td>0.439</td>\n",
              "      <td>-7.684</td>\n",
              "      <td>0.001</td>\n",
              "      <td>-2.504</td>\n",
              "      <td>Different</td>\n",
              "    </tr>\n",
              "  </tbody>\n",
              "</table>\n",
              "</div>"
            ],
            "text/plain": [
              "        A       B  mean(A)  mean(B)  ...       T  p-tukey  hedges     Result\n",
              "0  1_year  2_year    3.172    5.318  ...  -4.887    0.001  -1.593  Different\n",
              "1  1_year  3_year    3.172    8.693  ... -12.572    0.001  -4.097  Different\n",
              "2  2_year  3_year    5.318    8.693  ...  -7.684    0.001  -2.504  Different\n",
              "\n",
              "[3 rows x 10 columns]"
            ]
          },
          "metadata": {
            "tags": []
          },
          "execution_count": 55
        }
      ]
    },
    {
      "cell_type": "markdown",
      "metadata": {
        "id": "S9czJrQ7zACX"
      },
      "source": [
        "# pingouin Statistic"
      ]
    },
    {
      "cell_type": "markdown",
      "metadata": {
        "id": "qZ_FAg0wy-C-"
      },
      "source": [
        "https://pingouin-stats.org/index.html"
      ]
    },
    {
      "cell_type": "code",
      "metadata": {
        "id": "nkB4sTk2x_SN"
      },
      "source": [
        "import numpy as np\n",
        "import pingouin as pg\n",
        "\n",
        "np.random.seed(123)\n",
        "mean, cov, n = [4, 5], [(1, .6), (.6, 1)], 30\n",
        "x, y = np.random.multivariate_normal(mean, cov, n).T"
      ],
      "execution_count": null,
      "outputs": []
    },
    {
      "cell_type": "code",
      "metadata": {
        "id": "JKVfm7ho0dCI",
        "outputId": "1d1ea5cf-7968-4d17-d5cf-afdfbf502742",
        "colab": {
          "base_uri": "https://localhost:8080/",
          "height": 119
        }
      },
      "source": [
        "x"
      ],
      "execution_count": null,
      "outputs": [
        {
          "output_type": "execute_result",
          "data": {
            "text/plain": [
              "array([4.52499109, 4.42053181, 3.77897093, 6.36230346, 3.25533028,\n",
              "       4.64956937, 2.95178623, 4.59135733, 1.04899568, 2.92923908,\n",
              "       2.67380187, 4.31118852, 5.40671611, 3.82758588, 4.51066978,\n",
              "       5.48020001, 5.89750199, 3.24810462, 3.68967198, 4.65983923,\n",
              "       5.492979  , 4.09301762, 3.7024475 , 1.67554352, 2.12366377,\n",
              "       5.62202531, 2.79728088, 3.49523787, 2.41851903, 2.18400827])"
            ]
          },
          "metadata": {
            "tags": []
          },
          "execution_count": 64
        }
      ]
    },
    {
      "cell_type": "code",
      "metadata": {
        "id": "MOakkf5L0dmU",
        "outputId": "c0566b61-9c30-416b-eae2-6e3bb099b51f",
        "colab": {
          "base_uri": "https://localhost:8080/",
          "height": 119
        }
      },
      "source": [
        "y"
      ],
      "execution_count": null,
      "outputs": [
        {
          "output_type": "execute_result",
          "data": {
            "text/plain": [
              "array([6.41704397, 4.07326086, 6.25606067, 6.97867234, 3.4800941 ,\n",
              "       5.5648591 , 3.38033491, 5.20286174, 4.00491662, 4.2746547 ,\n",
              "       5.00715313, 6.36288199, 5.83629382, 3.54973502, 4.73989277,\n",
              "       3.97706582, 6.27151276, 4.09280014, 5.30523709, 5.91352322,\n",
              "       4.94770443, 5.60624519, 4.69186599, 3.04486339, 5.12552003,\n",
              "       5.69290489, 3.08347187, 5.45166315, 4.98813694, 4.14050216])"
            ]
          },
          "metadata": {
            "tags": []
          },
          "execution_count": 65
        }
      ]
    },
    {
      "cell_type": "code",
      "metadata": {
        "id": "nIYJ38g_0edI",
        "outputId": "2b5d68fe-2a9f-43e9-e67f-a4a26bdc9414",
        "colab": {
          "base_uri": "https://localhost:8080/",
          "height": 80
        }
      },
      "source": [
        "# T-test\n",
        "pg.ttest(x, y)"
      ],
      "execution_count": null,
      "outputs": [
        {
          "output_type": "execute_result",
          "data": {
            "text/html": [
              "<div>\n",
              "<style scoped>\n",
              "    .dataframe tbody tr th:only-of-type {\n",
              "        vertical-align: middle;\n",
              "    }\n",
              "\n",
              "    .dataframe tbody tr th {\n",
              "        vertical-align: top;\n",
              "    }\n",
              "\n",
              "    .dataframe thead th {\n",
              "        text-align: right;\n",
              "    }\n",
              "</style>\n",
              "<table border=\"1\" class=\"dataframe\">\n",
              "  <thead>\n",
              "    <tr style=\"text-align: right;\">\n",
              "      <th></th>\n",
              "      <th>T</th>\n",
              "      <th>dof</th>\n",
              "      <th>tail</th>\n",
              "      <th>p-val</th>\n",
              "      <th>CI95%</th>\n",
              "      <th>cohen-d</th>\n",
              "      <th>BF10</th>\n",
              "      <th>power</th>\n",
              "    </tr>\n",
              "  </thead>\n",
              "  <tbody>\n",
              "    <tr>\n",
              "      <th>T-test</th>\n",
              "      <td>-3.400706</td>\n",
              "      <td>58</td>\n",
              "      <td>two-sided</td>\n",
              "      <td>0.001222</td>\n",
              "      <td>[-1.68, -0.43]</td>\n",
              "      <td>0.878059</td>\n",
              "      <td>26.155</td>\n",
              "      <td>0.916807</td>\n",
              "    </tr>\n",
              "  </tbody>\n",
              "</table>\n",
              "</div>"
            ],
            "text/plain": [
              "               T  dof       tail  ...   cohen-d    BF10     power\n",
              "T-test -3.400706   58  two-sided  ...  0.878059  26.155  0.916807\n",
              "\n",
              "[1 rows x 8 columns]"
            ]
          },
          "metadata": {
            "tags": []
          },
          "execution_count": 66
        }
      ]
    },
    {
      "cell_type": "code",
      "metadata": {
        "id": "caaUH2Pf0gII",
        "outputId": "ed5c1aee-f2c4-47fe-c16a-c619e2811b49",
        "colab": {
          "base_uri": "https://localhost:8080/",
          "height": 80
        }
      },
      "source": [
        "#2. Pearson’s correlation\n",
        "pg.corr(x, y)"
      ],
      "execution_count": null,
      "outputs": [
        {
          "output_type": "execute_result",
          "data": {
            "text/html": [
              "<div>\n",
              "<style scoped>\n",
              "    .dataframe tbody tr th:only-of-type {\n",
              "        vertical-align: middle;\n",
              "    }\n",
              "\n",
              "    .dataframe tbody tr th {\n",
              "        vertical-align: top;\n",
              "    }\n",
              "\n",
              "    .dataframe thead th {\n",
              "        text-align: right;\n",
              "    }\n",
              "</style>\n",
              "<table border=\"1\" class=\"dataframe\">\n",
              "  <thead>\n",
              "    <tr style=\"text-align: right;\">\n",
              "      <th></th>\n",
              "      <th>n</th>\n",
              "      <th>r</th>\n",
              "      <th>CI95%</th>\n",
              "      <th>r2</th>\n",
              "      <th>adj_r2</th>\n",
              "      <th>p-val</th>\n",
              "      <th>BF10</th>\n",
              "      <th>power</th>\n",
              "    </tr>\n",
              "  </thead>\n",
              "  <tbody>\n",
              "    <tr>\n",
              "      <th>pearson</th>\n",
              "      <td>30</td>\n",
              "      <td>0.594785</td>\n",
              "      <td>[0.3, 0.79]</td>\n",
              "      <td>0.353769</td>\n",
              "      <td>0.3059</td>\n",
              "      <td>0.000527</td>\n",
              "      <td>69.723</td>\n",
              "      <td>0.950373</td>\n",
              "    </tr>\n",
              "  </tbody>\n",
              "</table>\n",
              "</div>"
            ],
            "text/plain": [
              "          n         r        CI95%  ...     p-val    BF10     power\n",
              "pearson  30  0.594785  [0.3, 0.79]  ...  0.000527  69.723  0.950373\n",
              "\n",
              "[1 rows x 8 columns]"
            ]
          },
          "metadata": {
            "tags": []
          },
          "execution_count": 67
        }
      ]
    },
    {
      "cell_type": "code",
      "metadata": {
        "id": "nF19Nne50ivY",
        "outputId": "acdca948-7382-4b89-ccee-9251e086dba8",
        "colab": {
          "base_uri": "https://localhost:8080/",
          "height": 97
        }
      },
      "source": [
        "# Introduce an outlier\n",
        "x[5] = 18\n",
        "# Use the robust Shepherd's pi correlation\n",
        "pg.corr(x, y, method=\"shepherd\")"
      ],
      "execution_count": null,
      "outputs": [
        {
          "output_type": "execute_result",
          "data": {
            "text/html": [
              "<div>\n",
              "<style scoped>\n",
              "    .dataframe tbody tr th:only-of-type {\n",
              "        vertical-align: middle;\n",
              "    }\n",
              "\n",
              "    .dataframe tbody tr th {\n",
              "        vertical-align: top;\n",
              "    }\n",
              "\n",
              "    .dataframe thead th {\n",
              "        text-align: right;\n",
              "    }\n",
              "</style>\n",
              "<table border=\"1\" class=\"dataframe\">\n",
              "  <thead>\n",
              "    <tr style=\"text-align: right;\">\n",
              "      <th></th>\n",
              "      <th>n</th>\n",
              "      <th>outliers</th>\n",
              "      <th>r</th>\n",
              "      <th>CI95%</th>\n",
              "      <th>r2</th>\n",
              "      <th>adj_r2</th>\n",
              "      <th>p-val</th>\n",
              "      <th>power</th>\n",
              "    </tr>\n",
              "  </thead>\n",
              "  <tbody>\n",
              "    <tr>\n",
              "      <th>shepherd</th>\n",
              "      <td>30</td>\n",
              "      <td>1</td>\n",
              "      <td>0.561084</td>\n",
              "      <td>[0.25, 0.77]</td>\n",
              "      <td>0.314815</td>\n",
              "      <td>0.264061</td>\n",
              "      <td>0.001543</td>\n",
              "      <td>0.916576</td>\n",
              "    </tr>\n",
              "  </tbody>\n",
              "</table>\n",
              "</div>"
            ],
            "text/plain": [
              "           n  outliers         r  ...    adj_r2     p-val     power\n",
              "shepherd  30         1  0.561084  ...  0.264061  0.001543  0.916576\n",
              "\n",
              "[1 rows x 8 columns]"
            ]
          },
          "metadata": {
            "tags": []
          },
          "execution_count": 68
        }
      ]
    },
    {
      "cell_type": "code",
      "metadata": {
        "id": "DWCInyEY1ADo",
        "outputId": "09c59863-7463-45c0-8856-73db4885f1d7",
        "colab": {
          "base_uri": "https://localhost:8080/",
          "height": 97
        }
      },
      "source": [
        "# 4. Test the normality of the data\n",
        "display(pg.normality(x))                                    # Univariate normality\n",
        "pg.multivariate_normality(np.column_stack((x, y))) "
      ],
      "execution_count": null,
      "outputs": [
        {
          "output_type": "display_data",
          "data": {
            "text/html": [
              "<div>\n",
              "<style scoped>\n",
              "    .dataframe tbody tr th:only-of-type {\n",
              "        vertical-align: middle;\n",
              "    }\n",
              "\n",
              "    .dataframe tbody tr th {\n",
              "        vertical-align: top;\n",
              "    }\n",
              "\n",
              "    .dataframe thead th {\n",
              "        text-align: right;\n",
              "    }\n",
              "</style>\n",
              "<table border=\"1\" class=\"dataframe\">\n",
              "  <thead>\n",
              "    <tr style=\"text-align: right;\">\n",
              "      <th></th>\n",
              "      <th>W</th>\n",
              "      <th>pval</th>\n",
              "      <th>normal</th>\n",
              "    </tr>\n",
              "  </thead>\n",
              "  <tbody>\n",
              "    <tr>\n",
              "      <th>0</th>\n",
              "      <td>0.615321</td>\n",
              "      <td>1.128503e-07</td>\n",
              "      <td>False</td>\n",
              "    </tr>\n",
              "  </tbody>\n",
              "</table>\n",
              "</div>"
            ],
            "text/plain": [
              "          W          pval  normal\n",
              "0  0.615321  1.128503e-07   False"
            ]
          },
          "metadata": {
            "tags": []
          }
        },
        {
          "output_type": "execute_result",
          "data": {
            "text/plain": [
              "HZResults(hz=1.6967733646126617, pval=0.00018201726664169923, normal=False)"
            ]
          },
          "metadata": {
            "tags": []
          },
          "execution_count": 69
        }
      ]
    },
    {
      "cell_type": "markdown",
      "metadata": {
        "id": "_YYLd4Z91G_a"
      },
      "source": [
        "## 5. One-way ANOVA using a pandas DataFrame"
      ]
    },
    {
      "cell_type": "code",
      "metadata": {
        "id": "PQL65XXE1DFw",
        "outputId": "1b263ec3-b174-4db8-917c-4f149db59c50",
        "colab": {
          "base_uri": "https://localhost:8080/",
          "height": 419
        }
      },
      "source": [
        "# Read an example dataset\n",
        "df = pg.read_dataset('mixed_anova')\n",
        "df"
      ],
      "execution_count": null,
      "outputs": [
        {
          "output_type": "execute_result",
          "data": {
            "text/html": [
              "<div>\n",
              "<style scoped>\n",
              "    .dataframe tbody tr th:only-of-type {\n",
              "        vertical-align: middle;\n",
              "    }\n",
              "\n",
              "    .dataframe tbody tr th {\n",
              "        vertical-align: top;\n",
              "    }\n",
              "\n",
              "    .dataframe thead th {\n",
              "        text-align: right;\n",
              "    }\n",
              "</style>\n",
              "<table border=\"1\" class=\"dataframe\">\n",
              "  <thead>\n",
              "    <tr style=\"text-align: right;\">\n",
              "      <th></th>\n",
              "      <th>Scores</th>\n",
              "      <th>Time</th>\n",
              "      <th>Group</th>\n",
              "      <th>Subject</th>\n",
              "    </tr>\n",
              "  </thead>\n",
              "  <tbody>\n",
              "    <tr>\n",
              "      <th>0</th>\n",
              "      <td>5.971435</td>\n",
              "      <td>August</td>\n",
              "      <td>Control</td>\n",
              "      <td>0</td>\n",
              "    </tr>\n",
              "    <tr>\n",
              "      <th>1</th>\n",
              "      <td>4.309024</td>\n",
              "      <td>August</td>\n",
              "      <td>Control</td>\n",
              "      <td>1</td>\n",
              "    </tr>\n",
              "    <tr>\n",
              "      <th>2</th>\n",
              "      <td>6.932707</td>\n",
              "      <td>August</td>\n",
              "      <td>Control</td>\n",
              "      <td>2</td>\n",
              "    </tr>\n",
              "    <tr>\n",
              "      <th>3</th>\n",
              "      <td>5.187348</td>\n",
              "      <td>August</td>\n",
              "      <td>Control</td>\n",
              "      <td>3</td>\n",
              "    </tr>\n",
              "    <tr>\n",
              "      <th>4</th>\n",
              "      <td>4.779411</td>\n",
              "      <td>August</td>\n",
              "      <td>Control</td>\n",
              "      <td>4</td>\n",
              "    </tr>\n",
              "    <tr>\n",
              "      <th>...</th>\n",
              "      <td>...</td>\n",
              "      <td>...</td>\n",
              "      <td>...</td>\n",
              "      <td>...</td>\n",
              "    </tr>\n",
              "    <tr>\n",
              "      <th>175</th>\n",
              "      <td>6.176981</td>\n",
              "      <td>June</td>\n",
              "      <td>Meditation</td>\n",
              "      <td>55</td>\n",
              "    </tr>\n",
              "    <tr>\n",
              "      <th>176</th>\n",
              "      <td>8.523692</td>\n",
              "      <td>June</td>\n",
              "      <td>Meditation</td>\n",
              "      <td>56</td>\n",
              "    </tr>\n",
              "    <tr>\n",
              "      <th>177</th>\n",
              "      <td>6.522273</td>\n",
              "      <td>June</td>\n",
              "      <td>Meditation</td>\n",
              "      <td>57</td>\n",
              "    </tr>\n",
              "    <tr>\n",
              "      <th>178</th>\n",
              "      <td>4.990568</td>\n",
              "      <td>June</td>\n",
              "      <td>Meditation</td>\n",
              "      <td>58</td>\n",
              "    </tr>\n",
              "    <tr>\n",
              "      <th>179</th>\n",
              "      <td>7.822986</td>\n",
              "      <td>June</td>\n",
              "      <td>Meditation</td>\n",
              "      <td>59</td>\n",
              "    </tr>\n",
              "  </tbody>\n",
              "</table>\n",
              "<p>180 rows × 4 columns</p>\n",
              "</div>"
            ],
            "text/plain": [
              "       Scores    Time       Group  Subject\n",
              "0    5.971435  August     Control        0\n",
              "1    4.309024  August     Control        1\n",
              "2    6.932707  August     Control        2\n",
              "3    5.187348  August     Control        3\n",
              "4    4.779411  August     Control        4\n",
              "..        ...     ...         ...      ...\n",
              "175  6.176981    June  Meditation       55\n",
              "176  8.523692    June  Meditation       56\n",
              "177  6.522273    June  Meditation       57\n",
              "178  4.990568    June  Meditation       58\n",
              "179  7.822986    June  Meditation       59\n",
              "\n",
              "[180 rows x 4 columns]"
            ]
          },
          "metadata": {
            "tags": []
          },
          "execution_count": 70
        }
      ]
    },
    {
      "cell_type": "code",
      "metadata": {
        "id": "HuKD_HU71Iay",
        "outputId": "f957efbd-771b-43f2-e744-37ac5b7cfd60",
        "colab": {
          "base_uri": "https://localhost:8080/",
          "height": 111
        }
      },
      "source": [
        "# Run the ANOVA\n",
        "aov = pg.anova(data=df, dv='Scores', between='Group', detailed=True)\n",
        "aov"
      ],
      "execution_count": null,
      "outputs": [
        {
          "output_type": "execute_result",
          "data": {
            "text/html": [
              "<div>\n",
              "<style scoped>\n",
              "    .dataframe tbody tr th:only-of-type {\n",
              "        vertical-align: middle;\n",
              "    }\n",
              "\n",
              "    .dataframe tbody tr th {\n",
              "        vertical-align: top;\n",
              "    }\n",
              "\n",
              "    .dataframe thead th {\n",
              "        text-align: right;\n",
              "    }\n",
              "</style>\n",
              "<table border=\"1\" class=\"dataframe\">\n",
              "  <thead>\n",
              "    <tr style=\"text-align: right;\">\n",
              "      <th></th>\n",
              "      <th>Source</th>\n",
              "      <th>SS</th>\n",
              "      <th>DF</th>\n",
              "      <th>MS</th>\n",
              "      <th>F</th>\n",
              "      <th>p-unc</th>\n",
              "      <th>np2</th>\n",
              "    </tr>\n",
              "  </thead>\n",
              "  <tbody>\n",
              "    <tr>\n",
              "      <th>0</th>\n",
              "      <td>Group</td>\n",
              "      <td>5.459963</td>\n",
              "      <td>1</td>\n",
              "      <td>5.459963</td>\n",
              "      <td>5.243656</td>\n",
              "      <td>0.0232</td>\n",
              "      <td>0.028616</td>\n",
              "    </tr>\n",
              "    <tr>\n",
              "      <th>1</th>\n",
              "      <td>Within</td>\n",
              "      <td>185.342729</td>\n",
              "      <td>178</td>\n",
              "      <td>1.041251</td>\n",
              "      <td>NaN</td>\n",
              "      <td>NaN</td>\n",
              "      <td>NaN</td>\n",
              "    </tr>\n",
              "  </tbody>\n",
              "</table>\n",
              "</div>"
            ],
            "text/plain": [
              "   Source          SS   DF        MS         F   p-unc       np2\n",
              "0   Group    5.459963    1  5.459963  5.243656  0.0232  0.028616\n",
              "1  Within  185.342729  178  1.041251       NaN     NaN       NaN"
            ]
          },
          "metadata": {
            "tags": []
          },
          "execution_count": 71
        }
      ]
    },
    {
      "cell_type": "markdown",
      "metadata": {
        "id": "6C25wPDv1Of-"
      },
      "source": [
        "## 6. Repeated measures ANOVA"
      ]
    },
    {
      "cell_type": "code",
      "metadata": {
        "id": "fym8PWZh1Lxl",
        "outputId": "25b0f423-ae82-411d-e8e8-31faa9dff2e9",
        "colab": {
          "base_uri": "https://localhost:8080/",
          "height": 111
        }
      },
      "source": [
        "pg.rm_anova(data=df, dv='Scores', within='Time', subject='Subject', detailed=True)"
      ],
      "execution_count": null,
      "outputs": [
        {
          "output_type": "execute_result",
          "data": {
            "text/html": [
              "<div>\n",
              "<style scoped>\n",
              "    .dataframe tbody tr th:only-of-type {\n",
              "        vertical-align: middle;\n",
              "    }\n",
              "\n",
              "    .dataframe tbody tr th {\n",
              "        vertical-align: top;\n",
              "    }\n",
              "\n",
              "    .dataframe thead th {\n",
              "        text-align: right;\n",
              "    }\n",
              "</style>\n",
              "<table border=\"1\" class=\"dataframe\">\n",
              "  <thead>\n",
              "    <tr style=\"text-align: right;\">\n",
              "      <th></th>\n",
              "      <th>Source</th>\n",
              "      <th>SS</th>\n",
              "      <th>DF</th>\n",
              "      <th>MS</th>\n",
              "      <th>F</th>\n",
              "      <th>p-unc</th>\n",
              "      <th>np2</th>\n",
              "      <th>eps</th>\n",
              "    </tr>\n",
              "  </thead>\n",
              "  <tbody>\n",
              "    <tr>\n",
              "      <th>0</th>\n",
              "      <td>Time</td>\n",
              "      <td>7.628428</td>\n",
              "      <td>2</td>\n",
              "      <td>3.814214</td>\n",
              "      <td>3.912796</td>\n",
              "      <td>0.022629</td>\n",
              "      <td>0.062194</td>\n",
              "      <td>0.998751</td>\n",
              "    </tr>\n",
              "    <tr>\n",
              "      <th>1</th>\n",
              "      <td>Error</td>\n",
              "      <td>115.027023</td>\n",
              "      <td>118</td>\n",
              "      <td>0.974805</td>\n",
              "      <td>NaN</td>\n",
              "      <td>NaN</td>\n",
              "      <td>NaN</td>\n",
              "      <td>NaN</td>\n",
              "    </tr>\n",
              "  </tbody>\n",
              "</table>\n",
              "</div>"
            ],
            "text/plain": [
              "  Source          SS   DF        MS         F     p-unc       np2       eps\n",
              "0   Time    7.628428    2  3.814214  3.912796  0.022629  0.062194  0.998751\n",
              "1  Error  115.027023  118  0.974805       NaN       NaN       NaN       NaN"
            ]
          },
          "metadata": {
            "tags": []
          },
          "execution_count": 72
        }
      ]
    },
    {
      "cell_type": "markdown",
      "metadata": {
        "id": "BqtL4LMa1vst"
      },
      "source": [
        "he detailed ANOVA summary table includes the following columns:\n",
        "\n",
        "- SS : sums of squares\n",
        "- DF : degrees of freedom\n",
        "- MS : mean squares (= SS / DF)\n",
        "- F : F-value (test statistic)\n",
        "- p-unc : uncorrected p-values\n",
        "- np2 : partial eta-square effect size *\n",
        "\n",
        "In one-way ANOVA, partial eta-square is the same as eta-square and generalized eta-square.\n",
        "\n",
        "In the example above, there is a main effect of group (F(3, 15) = 6.79, p = .004)), so we can reject the null hypothesis that the groups have equal means."
      ]
    },
    {
      "cell_type": "markdown",
      "metadata": {
        "id": "p49aDNR_2LT8"
      },
      "source": [
        "## 8. Post-hoc tests corrected for multiple-comparisons"
      ]
    },
    {
      "cell_type": "code",
      "metadata": {
        "id": "u8_7CmvX2Pj2",
        "outputId": "ae41696f-31f2-4a2f-f79d-00c0ced3bc79",
        "colab": {
          "base_uri": "https://localhost:8080/",
          "height": 204
        }
      },
      "source": [
        "df.head()"
      ],
      "execution_count": null,
      "outputs": [
        {
          "output_type": "execute_result",
          "data": {
            "text/html": [
              "<div>\n",
              "<style scoped>\n",
              "    .dataframe tbody tr th:only-of-type {\n",
              "        vertical-align: middle;\n",
              "    }\n",
              "\n",
              "    .dataframe tbody tr th {\n",
              "        vertical-align: top;\n",
              "    }\n",
              "\n",
              "    .dataframe thead th {\n",
              "        text-align: right;\n",
              "    }\n",
              "</style>\n",
              "<table border=\"1\" class=\"dataframe\">\n",
              "  <thead>\n",
              "    <tr style=\"text-align: right;\">\n",
              "      <th></th>\n",
              "      <th>Scores</th>\n",
              "      <th>Time</th>\n",
              "      <th>Group</th>\n",
              "      <th>Subject</th>\n",
              "    </tr>\n",
              "  </thead>\n",
              "  <tbody>\n",
              "    <tr>\n",
              "      <th>0</th>\n",
              "      <td>5.971435</td>\n",
              "      <td>August</td>\n",
              "      <td>Control</td>\n",
              "      <td>0</td>\n",
              "    </tr>\n",
              "    <tr>\n",
              "      <th>1</th>\n",
              "      <td>4.309024</td>\n",
              "      <td>August</td>\n",
              "      <td>Control</td>\n",
              "      <td>1</td>\n",
              "    </tr>\n",
              "    <tr>\n",
              "      <th>2</th>\n",
              "      <td>6.932707</td>\n",
              "      <td>August</td>\n",
              "      <td>Control</td>\n",
              "      <td>2</td>\n",
              "    </tr>\n",
              "    <tr>\n",
              "      <th>3</th>\n",
              "      <td>5.187348</td>\n",
              "      <td>August</td>\n",
              "      <td>Control</td>\n",
              "      <td>3</td>\n",
              "    </tr>\n",
              "    <tr>\n",
              "      <th>4</th>\n",
              "      <td>4.779411</td>\n",
              "      <td>August</td>\n",
              "      <td>Control</td>\n",
              "      <td>4</td>\n",
              "    </tr>\n",
              "  </tbody>\n",
              "</table>\n",
              "</div>"
            ],
            "text/plain": [
              "     Scores    Time    Group  Subject\n",
              "0  5.971435  August  Control        0\n",
              "1  4.309024  August  Control        1\n",
              "2  6.932707  August  Control        2\n",
              "3  5.187348  August  Control        3\n",
              "4  4.779411  August  Control        4"
            ]
          },
          "metadata": {
            "tags": []
          },
          "execution_count": 74
        }
      ]
    },
    {
      "cell_type": "code",
      "metadata": {
        "id": "Q3-G7lYG1QTm",
        "outputId": "f39ce703-c365-427b-bc98-01e512bb21ab",
        "colab": {
          "base_uri": "https://localhost:8080/",
          "height": 224
        }
      },
      "source": [
        "# FDR-corrected post hocs with Hedges'g effect size\n",
        "posthoc = pg.pairwise_ttests(data=df, dv='Scores', within='Time', subject='Subject',\n",
        "                             parametric=True, padjust='fdr_bh', effsize='hedges')\n",
        "\n",
        "# Pretty printing of table\n",
        "pg.print_table(posthoc, floatfmt='.3f')"
      ],
      "execution_count": null,
      "outputs": [
        {
          "output_type": "stream",
          "text": [
            "\n",
            "==============\n",
            "POST HOC TESTS\n",
            "==============\n",
            "\n",
            "Contrast    A        B        Paired    Parametric         T     dof  Tail         p-unc    p-corr  p-adjust      BF10    hedges\n",
            "----------  -------  -------  --------  ------------  ------  ------  ---------  -------  --------  ----------  ------  --------\n",
            "Time        August   January  True      True          -1.740  59.000  two-sided    0.087     0.131  fdr_bh       0.582    -0.328\n",
            "Time        August   June     True      True          -2.743  59.000  two-sided    0.008     0.024  fdr_bh       4.232    -0.483\n",
            "Time        January  June     True      True          -1.024  59.000  two-sided    0.310     0.310  fdr_bh       0.232    -0.170\n",
            "\n"
          ],
          "name": "stdout"
        }
      ]
    },
    {
      "cell_type": "markdown",
      "metadata": {
        "id": "0lN2HnVm2aSI"
      },
      "source": [
        "## 9. Two-way mixed ANOVA"
      ]
    },
    {
      "cell_type": "code",
      "metadata": {
        "id": "2If8Ib1J2JM4",
        "outputId": "7cbd19d9-a380-49bb-cbf8-461759e071d8",
        "colab": {
          "base_uri": "https://localhost:8080/",
          "height": 204
        }
      },
      "source": [
        "# Compute the two-way mixed ANOVA and export to a .csv file\n",
        "aov = pg.mixed_anova(data=df, dv='Scores', between='Group', within='Time',\n",
        "                     subject='Subject', correction=False, effsize=\"np2\")\n",
        "pg.print_table(aov)"
      ],
      "execution_count": null,
      "outputs": [
        {
          "output_type": "stream",
          "text": [
            "\n",
            "=============\n",
            "ANOVA SUMMARY\n",
            "=============\n",
            "\n",
            "Source          SS    DF1    DF2     MS      F    p-unc    np2      eps\n",
            "-----------  -----  -----  -----  -----  -----  -------  -----  -------\n",
            "Group        5.460      1     58  5.460  5.052    0.028  0.080  nan\n",
            "Time         7.628      2    116  3.814  4.027    0.020  0.065    0.999\n",
            "Interaction  5.167      2    116  2.584  2.728    0.070  0.045  nan\n",
            "\n"
          ],
          "name": "stdout"
        }
      ]
    },
    {
      "cell_type": "markdown",
      "metadata": {
        "id": "R6wZstpDFmzJ"
      },
      "source": [
        "# Apply ANOVA to Sonion data (Gage RnR)"
      ]
    },
    {
      "cell_type": "markdown",
      "metadata": {
        "id": "JY5l0IsVL3L7"
      },
      "source": [
        "## Import data"
      ]
    },
    {
      "cell_type": "code",
      "metadata": {
        "id": "5AuaAokJ2Yxz"
      },
      "source": [
        "import pandas as pd\n",
        "import numpy as np\n",
        "import matplotlib.pyplot as plt\n",
        "import seaborn as sns; sns.set()"
      ],
      "execution_count": 1,
      "outputs": []
    },
    {
      "cell_type": "code",
      "metadata": {
        "id": "2nHeuKueZUat",
        "outputId": "d857c90c-78a1-4e9a-c35f-b226a44dfa12",
        "colab": {
          "base_uri": "https://localhost:8080/",
          "height": 119
        }
      },
      "source": [
        "!wget https://github.com/duybluemind1988/Data-science/blob/master/Data/Raw%20data%20Rec%20RnR.xlsx?raw=true"
      ],
      "execution_count": 6,
      "outputs": [
        {
          "output_type": "stream",
          "text": [
            "--2020-10-09 08:06:08--  https://github.com/duybluemind1988/Data-science/blob/master/Data/Raw%20data%20Rec%20RnR.xlsx?raw=true\n",
            "Resolving github.com (github.com)... 140.82.112.3\n",
            "Connecting to github.com (github.com)|140.82.112.3|:443... connected.\n",
            "HTTP request sent, awaiting response... 404 Not Found\n",
            "2020-10-09 08:06:09 ERROR 404: Not Found.\n",
            "\n"
          ],
          "name": "stdout"
        }
      ]
    },
    {
      "cell_type": "code",
      "metadata": {
        "id": "nX_5tsfCH33m",
        "outputId": "eae75515-690c-4562-d2e2-f00eba291692",
        "colab": {
          "base_uri": "https://localhost:8080/",
          "height": 525
        }
      },
      "source": [
        "path='/content/drive/My Drive/Data/Sonion/RnR/Raw data Rec RnR.xlsx'\n",
        "df=pd.read_excel(path)\n",
        "df.head()"
      ],
      "execution_count": 12,
      "outputs": [
        {
          "output_type": "execute_result",
          "data": {
            "text/html": [
              "<div>\n",
              "<style scoped>\n",
              "    .dataframe tbody tr th:only-of-type {\n",
              "        vertical-align: middle;\n",
              "    }\n",
              "\n",
              "    .dataframe tbody tr th {\n",
              "        vertical-align: top;\n",
              "    }\n",
              "\n",
              "    .dataframe thead th {\n",
              "        text-align: right;\n",
              "    }\n",
              "</style>\n",
              "<table border=\"1\" class=\"dataframe\">\n",
              "  <thead>\n",
              "    <tr style=\"text-align: right;\">\n",
              "      <th></th>\n",
              "      <th>Unnamed: 0</th>\n",
              "      <th>Operator</th>\n",
              "      <th>Norm file</th>\n",
              "      <th>ID</th>\n",
              "      <th>Sensitivity</th>\n",
              "      <th>Time</th>\n",
              "      <th>Unnamed: 6</th>\n",
              "      <th>Unnamed: 7</th>\n",
              "      <th>Unnamed: 8</th>\n",
              "      <th>THD 1</th>\n",
              "      <th>Unnamed: 10</th>\n",
              "      <th>Unnamed: 11</th>\n",
              "      <th>THD 2</th>\n",
              "      <th>Unnamed: 13</th>\n",
              "      <th>Unnamed: 14</th>\n",
              "      <th>THD 3</th>\n",
              "      <th>Unnamed: 16</th>\n",
              "      <th>Unnamed: 17</th>\n",
              "      <th>THD 4</th>\n",
              "      <th>Unnamed: 19</th>\n",
              "      <th>Unnamed: 20</th>\n",
              "      <th>THD 5</th>\n",
              "      <th>Unnamed: 22</th>\n",
              "      <th>Unnamed: 23</th>\n",
              "      <th>THD 6</th>\n",
              "      <th>Unnamed: 25</th>\n",
              "      <th>Unnamed: 26</th>\n",
              "      <th>THD 7</th>\n",
              "      <th>Unnamed: 28</th>\n",
              "      <th>Unnamed: 29</th>\n",
              "      <th>THD 8</th>\n",
              "      <th>Rubbing</th>\n",
              "      <th>Rubbing 2</th>\n",
              "      <th>Rubbing 3</th>\n",
              "      <th>Rubbing 4</th>\n",
              "      <th>Rubbing 5</th>\n",
              "      <th>Rubbing 6</th>\n",
              "      <th>Rubbing 7</th>\n",
              "      <th>Rubbing 8</th>\n",
              "      <th>Phase</th>\n",
              "      <th>...</th>\n",
              "      <th>SPL 13</th>\n",
              "      <th>Unnamed: 96</th>\n",
              "      <th>FREQ 14</th>\n",
              "      <th>SPL 14</th>\n",
              "      <th>Unnamed: 99</th>\n",
              "      <th>FREQ 15</th>\n",
              "      <th>SPL 15</th>\n",
              "      <th>Unnamed: 102</th>\n",
              "      <th>FREQ 16</th>\n",
              "      <th>SPL 16</th>\n",
              "      <th>Unnamed: 105</th>\n",
              "      <th>FREQ 17</th>\n",
              "      <th>SPL 17</th>\n",
              "      <th>Unnamed: 108</th>\n",
              "      <th>FREQ 18</th>\n",
              "      <th>SPL 18</th>\n",
              "      <th>FREQ 19</th>\n",
              "      <th>SPL 19</th>\n",
              "      <th>FREQ 20</th>\n",
              "      <th>Unnamed: 114</th>\n",
              "      <th>Unnamed: 115</th>\n",
              "      <th>Unnamed: 116</th>\n",
              "      <th>Unnamed: 117</th>\n",
              "      <th>Unnamed: 118</th>\n",
              "      <th>Unnamed: 119</th>\n",
              "      <th>Unnamed: 120</th>\n",
              "      <th>Unnamed: 121</th>\n",
              "      <th>Unnamed: 122</th>\n",
              "      <th>Unnamed: 123</th>\n",
              "      <th>Unnamed: 124</th>\n",
              "      <th>Unnamed: 125</th>\n",
              "      <th>Unnamed: 126</th>\n",
              "      <th>Unnamed: 127</th>\n",
              "      <th>Unnamed: 128</th>\n",
              "      <th>Unnamed: 129</th>\n",
              "      <th>Unnamed: 130</th>\n",
              "      <th>Unnamed: 131</th>\n",
              "      <th>Unnamed: 132</th>\n",
              "      <th>Unnamed: 133</th>\n",
              "      <th>Unnamed: 134</th>\n",
              "    </tr>\n",
              "  </thead>\n",
              "  <tbody>\n",
              "    <tr>\n",
              "      <th>0</th>\n",
              "      <td>DEFAULT</td>\n",
              "      <td>R&amp;R QA LAB 2323 PHUONG L1</td>\n",
              "      <td>2323</td>\n",
              "      <td>10</td>\n",
              "      <td>0.0128</td>\n",
              "      <td>2019-03-05 13:23:41</td>\n",
              "      <td>1</td>\n",
              "      <td>0</td>\n",
              "      <td>850</td>\n",
              "      <td>2.77</td>\n",
              "      <td>0</td>\n",
              "      <td>1300</td>\n",
              "      <td>2.07</td>\n",
              "      <td>0</td>\n",
              "      <td>0</td>\n",
              "      <td>0</td>\n",
              "      <td>0</td>\n",
              "      <td>0</td>\n",
              "      <td>0</td>\n",
              "      <td>0</td>\n",
              "      <td>0</td>\n",
              "      <td>0</td>\n",
              "      <td>0</td>\n",
              "      <td>0</td>\n",
              "      <td>0</td>\n",
              "      <td>0</td>\n",
              "      <td>0</td>\n",
              "      <td>0</td>\n",
              "      <td>0</td>\n",
              "      <td>0</td>\n",
              "      <td>0</td>\n",
              "      <td>63.33</td>\n",
              "      <td>0</td>\n",
              "      <td>0</td>\n",
              "      <td>0</td>\n",
              "      <td>0</td>\n",
              "      <td>0</td>\n",
              "      <td>0</td>\n",
              "      <td>0</td>\n",
              "      <td>-8.82</td>\n",
              "      <td>...</td>\n",
              "      <td>0</td>\n",
              "      <td>-1</td>\n",
              "      <td>0</td>\n",
              "      <td>0</td>\n",
              "      <td>-1</td>\n",
              "      <td>0</td>\n",
              "      <td>0</td>\n",
              "      <td>-1</td>\n",
              "      <td>0</td>\n",
              "      <td>0</td>\n",
              "      <td>-1</td>\n",
              "      <td>0</td>\n",
              "      <td>0</td>\n",
              "      <td>-1</td>\n",
              "      <td>0</td>\n",
              "      <td>0</td>\n",
              "      <td>-1</td>\n",
              "      <td>0</td>\n",
              "      <td>0</td>\n",
              "      <td>-1</td>\n",
              "      <td>0</td>\n",
              "      <td>1</td>\n",
              "      <td>0</td>\n",
              "      <td>0</td>\n",
              "      <td>0</td>\n",
              "      <td>0</td>\n",
              "      <td>0</td>\n",
              "      <td>0</td>\n",
              "      <td>0</td>\n",
              "      <td>0</td>\n",
              "      <td>0</td>\n",
              "      <td>0</td>\n",
              "      <td>0</td>\n",
              "      <td>0</td>\n",
              "      <td>0</td>\n",
              "      <td>0</td>\n",
              "      <td>0</td>\n",
              "      <td>0</td>\n",
              "      <td>0</td>\n",
              "      <td>0</td>\n",
              "    </tr>\n",
              "    <tr>\n",
              "      <th>1</th>\n",
              "      <td>DEFAULT</td>\n",
              "      <td>R&amp;R QA LAB 2323 PHUONG L1</td>\n",
              "      <td>2323</td>\n",
              "      <td>10</td>\n",
              "      <td>0.0128</td>\n",
              "      <td>2019-03-05 13:23:53</td>\n",
              "      <td>1</td>\n",
              "      <td>0</td>\n",
              "      <td>850</td>\n",
              "      <td>2.83</td>\n",
              "      <td>0</td>\n",
              "      <td>1300</td>\n",
              "      <td>1.94</td>\n",
              "      <td>0</td>\n",
              "      <td>0</td>\n",
              "      <td>0</td>\n",
              "      <td>0</td>\n",
              "      <td>0</td>\n",
              "      <td>0</td>\n",
              "      <td>0</td>\n",
              "      <td>0</td>\n",
              "      <td>0</td>\n",
              "      <td>0</td>\n",
              "      <td>0</td>\n",
              "      <td>0</td>\n",
              "      <td>0</td>\n",
              "      <td>0</td>\n",
              "      <td>0</td>\n",
              "      <td>0</td>\n",
              "      <td>0</td>\n",
              "      <td>0</td>\n",
              "      <td>61.71</td>\n",
              "      <td>0</td>\n",
              "      <td>0</td>\n",
              "      <td>0</td>\n",
              "      <td>0</td>\n",
              "      <td>0</td>\n",
              "      <td>0</td>\n",
              "      <td>0</td>\n",
              "      <td>-7.53</td>\n",
              "      <td>...</td>\n",
              "      <td>0</td>\n",
              "      <td>-1</td>\n",
              "      <td>0</td>\n",
              "      <td>0</td>\n",
              "      <td>-1</td>\n",
              "      <td>0</td>\n",
              "      <td>0</td>\n",
              "      <td>-1</td>\n",
              "      <td>0</td>\n",
              "      <td>0</td>\n",
              "      <td>-1</td>\n",
              "      <td>0</td>\n",
              "      <td>0</td>\n",
              "      <td>-1</td>\n",
              "      <td>0</td>\n",
              "      <td>0</td>\n",
              "      <td>-1</td>\n",
              "      <td>0</td>\n",
              "      <td>0</td>\n",
              "      <td>-1</td>\n",
              "      <td>0</td>\n",
              "      <td>1</td>\n",
              "      <td>0</td>\n",
              "      <td>0</td>\n",
              "      <td>0</td>\n",
              "      <td>0</td>\n",
              "      <td>0</td>\n",
              "      <td>0</td>\n",
              "      <td>0</td>\n",
              "      <td>0</td>\n",
              "      <td>0</td>\n",
              "      <td>0</td>\n",
              "      <td>0</td>\n",
              "      <td>0</td>\n",
              "      <td>0</td>\n",
              "      <td>0</td>\n",
              "      <td>0</td>\n",
              "      <td>0</td>\n",
              "      <td>0</td>\n",
              "      <td>0</td>\n",
              "    </tr>\n",
              "    <tr>\n",
              "      <th>2</th>\n",
              "      <td>DEFAULT</td>\n",
              "      <td>R&amp;R QA LAB 2323 PHUONG L1</td>\n",
              "      <td>2323</td>\n",
              "      <td>10</td>\n",
              "      <td>0.0128</td>\n",
              "      <td>2019-03-05 13:24:14</td>\n",
              "      <td>1</td>\n",
              "      <td>0</td>\n",
              "      <td>850</td>\n",
              "      <td>3.08</td>\n",
              "      <td>0</td>\n",
              "      <td>1300</td>\n",
              "      <td>2.85</td>\n",
              "      <td>0</td>\n",
              "      <td>0</td>\n",
              "      <td>0</td>\n",
              "      <td>0</td>\n",
              "      <td>0</td>\n",
              "      <td>0</td>\n",
              "      <td>0</td>\n",
              "      <td>0</td>\n",
              "      <td>0</td>\n",
              "      <td>0</td>\n",
              "      <td>0</td>\n",
              "      <td>0</td>\n",
              "      <td>0</td>\n",
              "      <td>0</td>\n",
              "      <td>0</td>\n",
              "      <td>0</td>\n",
              "      <td>0</td>\n",
              "      <td>0</td>\n",
              "      <td>58.04</td>\n",
              "      <td>0</td>\n",
              "      <td>0</td>\n",
              "      <td>0</td>\n",
              "      <td>0</td>\n",
              "      <td>0</td>\n",
              "      <td>0</td>\n",
              "      <td>0</td>\n",
              "      <td>-10.39</td>\n",
              "      <td>...</td>\n",
              "      <td>0</td>\n",
              "      <td>-1</td>\n",
              "      <td>0</td>\n",
              "      <td>0</td>\n",
              "      <td>-1</td>\n",
              "      <td>0</td>\n",
              "      <td>0</td>\n",
              "      <td>-1</td>\n",
              "      <td>0</td>\n",
              "      <td>0</td>\n",
              "      <td>-1</td>\n",
              "      <td>0</td>\n",
              "      <td>0</td>\n",
              "      <td>-1</td>\n",
              "      <td>0</td>\n",
              "      <td>0</td>\n",
              "      <td>-1</td>\n",
              "      <td>0</td>\n",
              "      <td>0</td>\n",
              "      <td>-1</td>\n",
              "      <td>0</td>\n",
              "      <td>1</td>\n",
              "      <td>0</td>\n",
              "      <td>0</td>\n",
              "      <td>0</td>\n",
              "      <td>0</td>\n",
              "      <td>0</td>\n",
              "      <td>0</td>\n",
              "      <td>0</td>\n",
              "      <td>0</td>\n",
              "      <td>0</td>\n",
              "      <td>0</td>\n",
              "      <td>0</td>\n",
              "      <td>0</td>\n",
              "      <td>0</td>\n",
              "      <td>0</td>\n",
              "      <td>0</td>\n",
              "      <td>0</td>\n",
              "      <td>0</td>\n",
              "      <td>0</td>\n",
              "    </tr>\n",
              "    <tr>\n",
              "      <th>3</th>\n",
              "      <td>DEFAULT</td>\n",
              "      <td>R&amp;R QA LAB 2323 PHUONG L1</td>\n",
              "      <td>2323</td>\n",
              "      <td>10</td>\n",
              "      <td>0.0128</td>\n",
              "      <td>2019-03-05 13:24:29</td>\n",
              "      <td>1</td>\n",
              "      <td>0</td>\n",
              "      <td>850</td>\n",
              "      <td>2.69</td>\n",
              "      <td>0</td>\n",
              "      <td>1300</td>\n",
              "      <td>2.21</td>\n",
              "      <td>0</td>\n",
              "      <td>0</td>\n",
              "      <td>0</td>\n",
              "      <td>0</td>\n",
              "      <td>0</td>\n",
              "      <td>0</td>\n",
              "      <td>0</td>\n",
              "      <td>0</td>\n",
              "      <td>0</td>\n",
              "      <td>0</td>\n",
              "      <td>0</td>\n",
              "      <td>0</td>\n",
              "      <td>0</td>\n",
              "      <td>0</td>\n",
              "      <td>0</td>\n",
              "      <td>0</td>\n",
              "      <td>0</td>\n",
              "      <td>0</td>\n",
              "      <td>61.70</td>\n",
              "      <td>0</td>\n",
              "      <td>0</td>\n",
              "      <td>0</td>\n",
              "      <td>0</td>\n",
              "      <td>0</td>\n",
              "      <td>0</td>\n",
              "      <td>0</td>\n",
              "      <td>-9.52</td>\n",
              "      <td>...</td>\n",
              "      <td>0</td>\n",
              "      <td>-1</td>\n",
              "      <td>0</td>\n",
              "      <td>0</td>\n",
              "      <td>-1</td>\n",
              "      <td>0</td>\n",
              "      <td>0</td>\n",
              "      <td>-1</td>\n",
              "      <td>0</td>\n",
              "      <td>0</td>\n",
              "      <td>-1</td>\n",
              "      <td>0</td>\n",
              "      <td>0</td>\n",
              "      <td>-1</td>\n",
              "      <td>0</td>\n",
              "      <td>0</td>\n",
              "      <td>-1</td>\n",
              "      <td>0</td>\n",
              "      <td>0</td>\n",
              "      <td>-1</td>\n",
              "      <td>0</td>\n",
              "      <td>1</td>\n",
              "      <td>0</td>\n",
              "      <td>0</td>\n",
              "      <td>0</td>\n",
              "      <td>0</td>\n",
              "      <td>0</td>\n",
              "      <td>0</td>\n",
              "      <td>0</td>\n",
              "      <td>0</td>\n",
              "      <td>0</td>\n",
              "      <td>0</td>\n",
              "      <td>0</td>\n",
              "      <td>0</td>\n",
              "      <td>0</td>\n",
              "      <td>0</td>\n",
              "      <td>0</td>\n",
              "      <td>0</td>\n",
              "      <td>0</td>\n",
              "      <td>0</td>\n",
              "    </tr>\n",
              "    <tr>\n",
              "      <th>4</th>\n",
              "      <td>DEFAULT</td>\n",
              "      <td>R&amp;R QA LAB 2323 PHUONG L1</td>\n",
              "      <td>2323</td>\n",
              "      <td>10</td>\n",
              "      <td>0.0128</td>\n",
              "      <td>2019-03-05 13:24:40</td>\n",
              "      <td>1</td>\n",
              "      <td>0</td>\n",
              "      <td>850</td>\n",
              "      <td>2.28</td>\n",
              "      <td>0</td>\n",
              "      <td>1300</td>\n",
              "      <td>2.02</td>\n",
              "      <td>0</td>\n",
              "      <td>0</td>\n",
              "      <td>0</td>\n",
              "      <td>0</td>\n",
              "      <td>0</td>\n",
              "      <td>0</td>\n",
              "      <td>0</td>\n",
              "      <td>0</td>\n",
              "      <td>0</td>\n",
              "      <td>0</td>\n",
              "      <td>0</td>\n",
              "      <td>0</td>\n",
              "      <td>0</td>\n",
              "      <td>0</td>\n",
              "      <td>0</td>\n",
              "      <td>0</td>\n",
              "      <td>0</td>\n",
              "      <td>0</td>\n",
              "      <td>54.15</td>\n",
              "      <td>0</td>\n",
              "      <td>0</td>\n",
              "      <td>0</td>\n",
              "      <td>0</td>\n",
              "      <td>0</td>\n",
              "      <td>0</td>\n",
              "      <td>0</td>\n",
              "      <td>-8.66</td>\n",
              "      <td>...</td>\n",
              "      <td>0</td>\n",
              "      <td>-1</td>\n",
              "      <td>0</td>\n",
              "      <td>0</td>\n",
              "      <td>-1</td>\n",
              "      <td>0</td>\n",
              "      <td>0</td>\n",
              "      <td>-1</td>\n",
              "      <td>0</td>\n",
              "      <td>0</td>\n",
              "      <td>-1</td>\n",
              "      <td>0</td>\n",
              "      <td>0</td>\n",
              "      <td>-1</td>\n",
              "      <td>0</td>\n",
              "      <td>0</td>\n",
              "      <td>-1</td>\n",
              "      <td>0</td>\n",
              "      <td>0</td>\n",
              "      <td>-1</td>\n",
              "      <td>0</td>\n",
              "      <td>1</td>\n",
              "      <td>0</td>\n",
              "      <td>0</td>\n",
              "      <td>0</td>\n",
              "      <td>0</td>\n",
              "      <td>0</td>\n",
              "      <td>0</td>\n",
              "      <td>0</td>\n",
              "      <td>0</td>\n",
              "      <td>0</td>\n",
              "      <td>0</td>\n",
              "      <td>0</td>\n",
              "      <td>0</td>\n",
              "      <td>0</td>\n",
              "      <td>0</td>\n",
              "      <td>0</td>\n",
              "      <td>0</td>\n",
              "      <td>0</td>\n",
              "      <td>0</td>\n",
              "    </tr>\n",
              "  </tbody>\n",
              "</table>\n",
              "<p>5 rows × 135 columns</p>\n",
              "</div>"
            ],
            "text/plain": [
              "  Unnamed: 0                   Operator  ...  Unnamed: 133  Unnamed: 134\n",
              "0    DEFAULT  R&R QA LAB 2323 PHUONG L1  ...             0             0\n",
              "1    DEFAULT  R&R QA LAB 2323 PHUONG L1  ...             0             0\n",
              "2    DEFAULT  R&R QA LAB 2323 PHUONG L1  ...             0             0\n",
              "3    DEFAULT  R&R QA LAB 2323 PHUONG L1  ...             0             0\n",
              "4    DEFAULT  R&R QA LAB 2323 PHUONG L1  ...             0             0\n",
              "\n",
              "[5 rows x 135 columns]"
            ]
          },
          "metadata": {
            "tags": []
          },
          "execution_count": 12
        }
      ]
    },
    {
      "cell_type": "code",
      "metadata": {
        "id": "b14s6tCbIoJL"
      },
      "source": [
        "x=np.array([1,2,3])\n",
        "appraiser=np.repeat(x,30)\n",
        "df['Appraiser']=appraiser\n",
        "x=np.array(range(1,11))\n",
        "sample=np.tile(x,9)\n",
        "df['Sample']=sample"
      ],
      "execution_count": 13,
      "outputs": []
    },
    {
      "cell_type": "code",
      "metadata": {
        "id": "eZnCWUhXI5mO",
        "outputId": "9b5b7e9e-8798-433f-958e-e09056d0f8da",
        "colab": {
          "base_uri": "https://localhost:8080/",
          "height": 508
        }
      },
      "source": [
        "cols = df.columns.tolist()\n",
        "cols = cols[-2:] + cols[:-2]\n",
        "df = df[cols]\n",
        "df.columns = df.columns.str.replace(' ', '')\n",
        "df.head()"
      ],
      "execution_count": 14,
      "outputs": [
        {
          "output_type": "execute_result",
          "data": {
            "text/html": [
              "<div>\n",
              "<style scoped>\n",
              "    .dataframe tbody tr th:only-of-type {\n",
              "        vertical-align: middle;\n",
              "    }\n",
              "\n",
              "    .dataframe tbody tr th {\n",
              "        vertical-align: top;\n",
              "    }\n",
              "\n",
              "    .dataframe thead th {\n",
              "        text-align: right;\n",
              "    }\n",
              "</style>\n",
              "<table border=\"1\" class=\"dataframe\">\n",
              "  <thead>\n",
              "    <tr style=\"text-align: right;\">\n",
              "      <th></th>\n",
              "      <th>Appraiser</th>\n",
              "      <th>Sample</th>\n",
              "      <th>Unnamed:0</th>\n",
              "      <th>Operator</th>\n",
              "      <th>Normfile</th>\n",
              "      <th>ID</th>\n",
              "      <th>Sensitivity</th>\n",
              "      <th>Time</th>\n",
              "      <th>Unnamed:6</th>\n",
              "      <th>Unnamed:7</th>\n",
              "      <th>Unnamed:8</th>\n",
              "      <th>THD1</th>\n",
              "      <th>Unnamed:10</th>\n",
              "      <th>Unnamed:11</th>\n",
              "      <th>THD2</th>\n",
              "      <th>Unnamed:13</th>\n",
              "      <th>Unnamed:14</th>\n",
              "      <th>THD3</th>\n",
              "      <th>Unnamed:16</th>\n",
              "      <th>Unnamed:17</th>\n",
              "      <th>THD4</th>\n",
              "      <th>Unnamed:19</th>\n",
              "      <th>Unnamed:20</th>\n",
              "      <th>THD5</th>\n",
              "      <th>Unnamed:22</th>\n",
              "      <th>Unnamed:23</th>\n",
              "      <th>THD6</th>\n",
              "      <th>Unnamed:25</th>\n",
              "      <th>Unnamed:26</th>\n",
              "      <th>THD7</th>\n",
              "      <th>Unnamed:28</th>\n",
              "      <th>Unnamed:29</th>\n",
              "      <th>THD8</th>\n",
              "      <th>Rubbing</th>\n",
              "      <th>Rubbing2</th>\n",
              "      <th>Rubbing3</th>\n",
              "      <th>Rubbing4</th>\n",
              "      <th>Rubbing5</th>\n",
              "      <th>Rubbing6</th>\n",
              "      <th>Rubbing7</th>\n",
              "      <th>...</th>\n",
              "      <th>SPL13</th>\n",
              "      <th>Unnamed:96</th>\n",
              "      <th>FREQ14</th>\n",
              "      <th>SPL14</th>\n",
              "      <th>Unnamed:99</th>\n",
              "      <th>FREQ15</th>\n",
              "      <th>SPL15</th>\n",
              "      <th>Unnamed:102</th>\n",
              "      <th>FREQ16</th>\n",
              "      <th>SPL16</th>\n",
              "      <th>Unnamed:105</th>\n",
              "      <th>FREQ17</th>\n",
              "      <th>SPL17</th>\n",
              "      <th>Unnamed:108</th>\n",
              "      <th>FREQ18</th>\n",
              "      <th>SPL18</th>\n",
              "      <th>FREQ19</th>\n",
              "      <th>SPL19</th>\n",
              "      <th>FREQ20</th>\n",
              "      <th>Unnamed:114</th>\n",
              "      <th>Unnamed:115</th>\n",
              "      <th>Unnamed:116</th>\n",
              "      <th>Unnamed:117</th>\n",
              "      <th>Unnamed:118</th>\n",
              "      <th>Unnamed:119</th>\n",
              "      <th>Unnamed:120</th>\n",
              "      <th>Unnamed:121</th>\n",
              "      <th>Unnamed:122</th>\n",
              "      <th>Unnamed:123</th>\n",
              "      <th>Unnamed:124</th>\n",
              "      <th>Unnamed:125</th>\n",
              "      <th>Unnamed:126</th>\n",
              "      <th>Unnamed:127</th>\n",
              "      <th>Unnamed:128</th>\n",
              "      <th>Unnamed:129</th>\n",
              "      <th>Unnamed:130</th>\n",
              "      <th>Unnamed:131</th>\n",
              "      <th>Unnamed:132</th>\n",
              "      <th>Unnamed:133</th>\n",
              "      <th>Unnamed:134</th>\n",
              "    </tr>\n",
              "  </thead>\n",
              "  <tbody>\n",
              "    <tr>\n",
              "      <th>0</th>\n",
              "      <td>1</td>\n",
              "      <td>1</td>\n",
              "      <td>DEFAULT</td>\n",
              "      <td>R&amp;R QA LAB 2323 PHUONG L1</td>\n",
              "      <td>2323</td>\n",
              "      <td>10</td>\n",
              "      <td>0.0128</td>\n",
              "      <td>2019-03-05 13:23:41</td>\n",
              "      <td>1</td>\n",
              "      <td>0</td>\n",
              "      <td>850</td>\n",
              "      <td>2.77</td>\n",
              "      <td>0</td>\n",
              "      <td>1300</td>\n",
              "      <td>2.07</td>\n",
              "      <td>0</td>\n",
              "      <td>0</td>\n",
              "      <td>0</td>\n",
              "      <td>0</td>\n",
              "      <td>0</td>\n",
              "      <td>0</td>\n",
              "      <td>0</td>\n",
              "      <td>0</td>\n",
              "      <td>0</td>\n",
              "      <td>0</td>\n",
              "      <td>0</td>\n",
              "      <td>0</td>\n",
              "      <td>0</td>\n",
              "      <td>0</td>\n",
              "      <td>0</td>\n",
              "      <td>0</td>\n",
              "      <td>0</td>\n",
              "      <td>0</td>\n",
              "      <td>63.33</td>\n",
              "      <td>0</td>\n",
              "      <td>0</td>\n",
              "      <td>0</td>\n",
              "      <td>0</td>\n",
              "      <td>0</td>\n",
              "      <td>0</td>\n",
              "      <td>...</td>\n",
              "      <td>0</td>\n",
              "      <td>-1</td>\n",
              "      <td>0</td>\n",
              "      <td>0</td>\n",
              "      <td>-1</td>\n",
              "      <td>0</td>\n",
              "      <td>0</td>\n",
              "      <td>-1</td>\n",
              "      <td>0</td>\n",
              "      <td>0</td>\n",
              "      <td>-1</td>\n",
              "      <td>0</td>\n",
              "      <td>0</td>\n",
              "      <td>-1</td>\n",
              "      <td>0</td>\n",
              "      <td>0</td>\n",
              "      <td>-1</td>\n",
              "      <td>0</td>\n",
              "      <td>0</td>\n",
              "      <td>-1</td>\n",
              "      <td>0</td>\n",
              "      <td>1</td>\n",
              "      <td>0</td>\n",
              "      <td>0</td>\n",
              "      <td>0</td>\n",
              "      <td>0</td>\n",
              "      <td>0</td>\n",
              "      <td>0</td>\n",
              "      <td>0</td>\n",
              "      <td>0</td>\n",
              "      <td>0</td>\n",
              "      <td>0</td>\n",
              "      <td>0</td>\n",
              "      <td>0</td>\n",
              "      <td>0</td>\n",
              "      <td>0</td>\n",
              "      <td>0</td>\n",
              "      <td>0</td>\n",
              "      <td>0</td>\n",
              "      <td>0</td>\n",
              "    </tr>\n",
              "    <tr>\n",
              "      <th>1</th>\n",
              "      <td>1</td>\n",
              "      <td>2</td>\n",
              "      <td>DEFAULT</td>\n",
              "      <td>R&amp;R QA LAB 2323 PHUONG L1</td>\n",
              "      <td>2323</td>\n",
              "      <td>10</td>\n",
              "      <td>0.0128</td>\n",
              "      <td>2019-03-05 13:23:53</td>\n",
              "      <td>1</td>\n",
              "      <td>0</td>\n",
              "      <td>850</td>\n",
              "      <td>2.83</td>\n",
              "      <td>0</td>\n",
              "      <td>1300</td>\n",
              "      <td>1.94</td>\n",
              "      <td>0</td>\n",
              "      <td>0</td>\n",
              "      <td>0</td>\n",
              "      <td>0</td>\n",
              "      <td>0</td>\n",
              "      <td>0</td>\n",
              "      <td>0</td>\n",
              "      <td>0</td>\n",
              "      <td>0</td>\n",
              "      <td>0</td>\n",
              "      <td>0</td>\n",
              "      <td>0</td>\n",
              "      <td>0</td>\n",
              "      <td>0</td>\n",
              "      <td>0</td>\n",
              "      <td>0</td>\n",
              "      <td>0</td>\n",
              "      <td>0</td>\n",
              "      <td>61.71</td>\n",
              "      <td>0</td>\n",
              "      <td>0</td>\n",
              "      <td>0</td>\n",
              "      <td>0</td>\n",
              "      <td>0</td>\n",
              "      <td>0</td>\n",
              "      <td>...</td>\n",
              "      <td>0</td>\n",
              "      <td>-1</td>\n",
              "      <td>0</td>\n",
              "      <td>0</td>\n",
              "      <td>-1</td>\n",
              "      <td>0</td>\n",
              "      <td>0</td>\n",
              "      <td>-1</td>\n",
              "      <td>0</td>\n",
              "      <td>0</td>\n",
              "      <td>-1</td>\n",
              "      <td>0</td>\n",
              "      <td>0</td>\n",
              "      <td>-1</td>\n",
              "      <td>0</td>\n",
              "      <td>0</td>\n",
              "      <td>-1</td>\n",
              "      <td>0</td>\n",
              "      <td>0</td>\n",
              "      <td>-1</td>\n",
              "      <td>0</td>\n",
              "      <td>1</td>\n",
              "      <td>0</td>\n",
              "      <td>0</td>\n",
              "      <td>0</td>\n",
              "      <td>0</td>\n",
              "      <td>0</td>\n",
              "      <td>0</td>\n",
              "      <td>0</td>\n",
              "      <td>0</td>\n",
              "      <td>0</td>\n",
              "      <td>0</td>\n",
              "      <td>0</td>\n",
              "      <td>0</td>\n",
              "      <td>0</td>\n",
              "      <td>0</td>\n",
              "      <td>0</td>\n",
              "      <td>0</td>\n",
              "      <td>0</td>\n",
              "      <td>0</td>\n",
              "    </tr>\n",
              "    <tr>\n",
              "      <th>2</th>\n",
              "      <td>1</td>\n",
              "      <td>3</td>\n",
              "      <td>DEFAULT</td>\n",
              "      <td>R&amp;R QA LAB 2323 PHUONG L1</td>\n",
              "      <td>2323</td>\n",
              "      <td>10</td>\n",
              "      <td>0.0128</td>\n",
              "      <td>2019-03-05 13:24:14</td>\n",
              "      <td>1</td>\n",
              "      <td>0</td>\n",
              "      <td>850</td>\n",
              "      <td>3.08</td>\n",
              "      <td>0</td>\n",
              "      <td>1300</td>\n",
              "      <td>2.85</td>\n",
              "      <td>0</td>\n",
              "      <td>0</td>\n",
              "      <td>0</td>\n",
              "      <td>0</td>\n",
              "      <td>0</td>\n",
              "      <td>0</td>\n",
              "      <td>0</td>\n",
              "      <td>0</td>\n",
              "      <td>0</td>\n",
              "      <td>0</td>\n",
              "      <td>0</td>\n",
              "      <td>0</td>\n",
              "      <td>0</td>\n",
              "      <td>0</td>\n",
              "      <td>0</td>\n",
              "      <td>0</td>\n",
              "      <td>0</td>\n",
              "      <td>0</td>\n",
              "      <td>58.04</td>\n",
              "      <td>0</td>\n",
              "      <td>0</td>\n",
              "      <td>0</td>\n",
              "      <td>0</td>\n",
              "      <td>0</td>\n",
              "      <td>0</td>\n",
              "      <td>...</td>\n",
              "      <td>0</td>\n",
              "      <td>-1</td>\n",
              "      <td>0</td>\n",
              "      <td>0</td>\n",
              "      <td>-1</td>\n",
              "      <td>0</td>\n",
              "      <td>0</td>\n",
              "      <td>-1</td>\n",
              "      <td>0</td>\n",
              "      <td>0</td>\n",
              "      <td>-1</td>\n",
              "      <td>0</td>\n",
              "      <td>0</td>\n",
              "      <td>-1</td>\n",
              "      <td>0</td>\n",
              "      <td>0</td>\n",
              "      <td>-1</td>\n",
              "      <td>0</td>\n",
              "      <td>0</td>\n",
              "      <td>-1</td>\n",
              "      <td>0</td>\n",
              "      <td>1</td>\n",
              "      <td>0</td>\n",
              "      <td>0</td>\n",
              "      <td>0</td>\n",
              "      <td>0</td>\n",
              "      <td>0</td>\n",
              "      <td>0</td>\n",
              "      <td>0</td>\n",
              "      <td>0</td>\n",
              "      <td>0</td>\n",
              "      <td>0</td>\n",
              "      <td>0</td>\n",
              "      <td>0</td>\n",
              "      <td>0</td>\n",
              "      <td>0</td>\n",
              "      <td>0</td>\n",
              "      <td>0</td>\n",
              "      <td>0</td>\n",
              "      <td>0</td>\n",
              "    </tr>\n",
              "    <tr>\n",
              "      <th>3</th>\n",
              "      <td>1</td>\n",
              "      <td>4</td>\n",
              "      <td>DEFAULT</td>\n",
              "      <td>R&amp;R QA LAB 2323 PHUONG L1</td>\n",
              "      <td>2323</td>\n",
              "      <td>10</td>\n",
              "      <td>0.0128</td>\n",
              "      <td>2019-03-05 13:24:29</td>\n",
              "      <td>1</td>\n",
              "      <td>0</td>\n",
              "      <td>850</td>\n",
              "      <td>2.69</td>\n",
              "      <td>0</td>\n",
              "      <td>1300</td>\n",
              "      <td>2.21</td>\n",
              "      <td>0</td>\n",
              "      <td>0</td>\n",
              "      <td>0</td>\n",
              "      <td>0</td>\n",
              "      <td>0</td>\n",
              "      <td>0</td>\n",
              "      <td>0</td>\n",
              "      <td>0</td>\n",
              "      <td>0</td>\n",
              "      <td>0</td>\n",
              "      <td>0</td>\n",
              "      <td>0</td>\n",
              "      <td>0</td>\n",
              "      <td>0</td>\n",
              "      <td>0</td>\n",
              "      <td>0</td>\n",
              "      <td>0</td>\n",
              "      <td>0</td>\n",
              "      <td>61.70</td>\n",
              "      <td>0</td>\n",
              "      <td>0</td>\n",
              "      <td>0</td>\n",
              "      <td>0</td>\n",
              "      <td>0</td>\n",
              "      <td>0</td>\n",
              "      <td>...</td>\n",
              "      <td>0</td>\n",
              "      <td>-1</td>\n",
              "      <td>0</td>\n",
              "      <td>0</td>\n",
              "      <td>-1</td>\n",
              "      <td>0</td>\n",
              "      <td>0</td>\n",
              "      <td>-1</td>\n",
              "      <td>0</td>\n",
              "      <td>0</td>\n",
              "      <td>-1</td>\n",
              "      <td>0</td>\n",
              "      <td>0</td>\n",
              "      <td>-1</td>\n",
              "      <td>0</td>\n",
              "      <td>0</td>\n",
              "      <td>-1</td>\n",
              "      <td>0</td>\n",
              "      <td>0</td>\n",
              "      <td>-1</td>\n",
              "      <td>0</td>\n",
              "      <td>1</td>\n",
              "      <td>0</td>\n",
              "      <td>0</td>\n",
              "      <td>0</td>\n",
              "      <td>0</td>\n",
              "      <td>0</td>\n",
              "      <td>0</td>\n",
              "      <td>0</td>\n",
              "      <td>0</td>\n",
              "      <td>0</td>\n",
              "      <td>0</td>\n",
              "      <td>0</td>\n",
              "      <td>0</td>\n",
              "      <td>0</td>\n",
              "      <td>0</td>\n",
              "      <td>0</td>\n",
              "      <td>0</td>\n",
              "      <td>0</td>\n",
              "      <td>0</td>\n",
              "    </tr>\n",
              "    <tr>\n",
              "      <th>4</th>\n",
              "      <td>1</td>\n",
              "      <td>5</td>\n",
              "      <td>DEFAULT</td>\n",
              "      <td>R&amp;R QA LAB 2323 PHUONG L1</td>\n",
              "      <td>2323</td>\n",
              "      <td>10</td>\n",
              "      <td>0.0128</td>\n",
              "      <td>2019-03-05 13:24:40</td>\n",
              "      <td>1</td>\n",
              "      <td>0</td>\n",
              "      <td>850</td>\n",
              "      <td>2.28</td>\n",
              "      <td>0</td>\n",
              "      <td>1300</td>\n",
              "      <td>2.02</td>\n",
              "      <td>0</td>\n",
              "      <td>0</td>\n",
              "      <td>0</td>\n",
              "      <td>0</td>\n",
              "      <td>0</td>\n",
              "      <td>0</td>\n",
              "      <td>0</td>\n",
              "      <td>0</td>\n",
              "      <td>0</td>\n",
              "      <td>0</td>\n",
              "      <td>0</td>\n",
              "      <td>0</td>\n",
              "      <td>0</td>\n",
              "      <td>0</td>\n",
              "      <td>0</td>\n",
              "      <td>0</td>\n",
              "      <td>0</td>\n",
              "      <td>0</td>\n",
              "      <td>54.15</td>\n",
              "      <td>0</td>\n",
              "      <td>0</td>\n",
              "      <td>0</td>\n",
              "      <td>0</td>\n",
              "      <td>0</td>\n",
              "      <td>0</td>\n",
              "      <td>...</td>\n",
              "      <td>0</td>\n",
              "      <td>-1</td>\n",
              "      <td>0</td>\n",
              "      <td>0</td>\n",
              "      <td>-1</td>\n",
              "      <td>0</td>\n",
              "      <td>0</td>\n",
              "      <td>-1</td>\n",
              "      <td>0</td>\n",
              "      <td>0</td>\n",
              "      <td>-1</td>\n",
              "      <td>0</td>\n",
              "      <td>0</td>\n",
              "      <td>-1</td>\n",
              "      <td>0</td>\n",
              "      <td>0</td>\n",
              "      <td>-1</td>\n",
              "      <td>0</td>\n",
              "      <td>0</td>\n",
              "      <td>-1</td>\n",
              "      <td>0</td>\n",
              "      <td>1</td>\n",
              "      <td>0</td>\n",
              "      <td>0</td>\n",
              "      <td>0</td>\n",
              "      <td>0</td>\n",
              "      <td>0</td>\n",
              "      <td>0</td>\n",
              "      <td>0</td>\n",
              "      <td>0</td>\n",
              "      <td>0</td>\n",
              "      <td>0</td>\n",
              "      <td>0</td>\n",
              "      <td>0</td>\n",
              "      <td>0</td>\n",
              "      <td>0</td>\n",
              "      <td>0</td>\n",
              "      <td>0</td>\n",
              "      <td>0</td>\n",
              "      <td>0</td>\n",
              "    </tr>\n",
              "  </tbody>\n",
              "</table>\n",
              "<p>5 rows × 137 columns</p>\n",
              "</div>"
            ],
            "text/plain": [
              "   Appraiser  Sample Unnamed:0  ... Unnamed:132  Unnamed:133  Unnamed:134\n",
              "0          1       1   DEFAULT  ...           0            0            0\n",
              "1          1       2   DEFAULT  ...           0            0            0\n",
              "2          1       3   DEFAULT  ...           0            0            0\n",
              "3          1       4   DEFAULT  ...           0            0            0\n",
              "4          1       5   DEFAULT  ...           0            0            0\n",
              "\n",
              "[5 rows x 137 columns]"
            ]
          },
          "metadata": {
            "tags": []
          },
          "execution_count": 14
        }
      ]
    },
    {
      "cell_type": "markdown",
      "metadata": {
        "id": "zhzF0y-aL4iG"
      },
      "source": [
        "## ANOVA "
      ]
    },
    {
      "cell_type": "code",
      "metadata": {
        "id": "m-OF0MzJLrEo"
      },
      "source": [
        "!pip install pingouin"
      ],
      "execution_count": null,
      "outputs": []
    },
    {
      "cell_type": "code",
      "metadata": {
        "id": "2X2hNRjPSPKy"
      },
      "source": [
        "import pingouin as pg"
      ],
      "execution_count": 17,
      "outputs": []
    },
    {
      "cell_type": "code",
      "metadata": {
        "id": "k0g1H0gIMc1T",
        "outputId": "d49860f1-04ad-4bf9-8279-7bb8cbcd0721",
        "colab": {
          "base_uri": "https://localhost:8080/",
          "height": 136
        }
      },
      "source": [
        "df.columns"
      ],
      "execution_count": 18,
      "outputs": [
        {
          "output_type": "execute_result",
          "data": {
            "text/plain": [
              "Index(['Appraiser', 'Sample', 'Unnamed:0', 'Operator', 'Normfile', 'ID',\n",
              "       'Sensitivity', 'Time', 'Unnamed:6', 'Unnamed:7',\n",
              "       ...\n",
              "       'Unnamed:125', 'Unnamed:126', 'Unnamed:127', 'Unnamed:128',\n",
              "       'Unnamed:129', 'Unnamed:130', 'Unnamed:131', 'Unnamed:132',\n",
              "       'Unnamed:133', 'Unnamed:134'],\n",
              "      dtype='object', length=137)"
            ]
          },
          "metadata": {
            "tags": []
          },
          "execution_count": 18
        }
      ]
    },
    {
      "cell_type": "code",
      "metadata": {
        "id": "2IAekyf8axW2"
      },
      "source": [
        "features='SPL5'"
      ],
      "execution_count": 25,
      "outputs": []
    },
    {
      "cell_type": "code",
      "metadata": {
        "id": "mYc1H7v9L_dG",
        "outputId": "57bead2c-9ce8-4687-b049-e146a1feda9b",
        "colab": {
          "base_uri": "https://localhost:8080/",
          "height": 302
        }
      },
      "source": [
        "sns.pointplot(data=df, x='Sample', y=features, hue='Appraiser', dodge=True, capsize=.1, ci='sd')"
      ],
      "execution_count": 24,
      "outputs": [
        {
          "output_type": "execute_result",
          "data": {
            "text/plain": [
              "<matplotlib.axes._subplots.AxesSubplot at 0x7f25b3ee55f8>"
            ]
          },
          "metadata": {
            "tags": []
          },
          "execution_count": 24
        },
        {
          "output_type": "display_data",
          "data": {
            "image/png": "[encoded data removed]",
            "text/plain": [
              "<Figure size 432x288 with 1 Axes>"
            ]
          },
          "metadata": {
            "tags": [],
            "needs_background": "light"
          }
        }
      ]
    },
    {
      "cell_type": "code",
      "metadata": {
        "id": "kc2Stvg4Rn24",
        "outputId": "6093cf05-c17e-4967-96af-45e14f4d9fcc",
        "colab": {
          "base_uri": "https://localhost:8080/",
          "height": 304
        }
      },
      "source": [
        "sns.pointplot(data=df, x='Appraiser', y=features, dodge=True, capsize=.1, ci='sd'\n",
        "            )"
      ],
      "execution_count": 26,
      "outputs": [
        {
          "output_type": "execute_result",
          "data": {
            "text/plain": [
              "<matplotlib.axes._subplots.AxesSubplot at 0x7f25b3eca3c8>"
            ]
          },
          "metadata": {
            "tags": []
          },
          "execution_count": 26
        },
        {
          "output_type": "display_data",
          "data": {
            "image/png": "[encoded data removed]",
            "text/plain": [
              "<Figure size 432x288 with 1 Axes>"
            ]
          },
          "metadata": {
            "tags": [],
            "needs_background": "light"
          }
        }
      ]
    },
    {
      "cell_type": "code",
      "metadata": {
        "id": "xbEoYIVJMZJF",
        "outputId": "f8ddf996-fdf1-4e18-81ac-dd6bd3263ce3",
        "colab": {
          "base_uri": "https://localhost:8080/",
          "height": 302
        }
      },
      "source": [
        "sns.boxplot(x=\"Sample\", y=features, hue=\"Appraiser\", data=df, palette=\"Set3\") "
      ],
      "execution_count": 27,
      "outputs": [
        {
          "output_type": "execute_result",
          "data": {
            "text/plain": [
              "<matplotlib.axes._subplots.AxesSubplot at 0x7f25b3cc5278>"
            ]
          },
          "metadata": {
            "tags": []
          },
          "execution_count": 27
        },
        {
          "output_type": "display_data",
          "data": {
            "image/png": "[encoded data removed]",
            "text/plain": [
              "<Figure size 432x288 with 1 Axes>"
            ]
          },
          "metadata": {
            "tags": [],
            "needs_background": "light"
          }
        }
      ]
    },
    {
      "cell_type": "code",
      "metadata": {
        "id": "g1dUI4OeNKQU",
        "outputId": "01e1133a-34f2-4deb-82e0-b89b60a6eb3a",
        "colab": {
          "base_uri": "https://localhost:8080/",
          "height": 227
        }
      },
      "source": [
        "# load packages\n",
        "import statsmodels.api as sm\n",
        "from statsmodels.formula.api import ols\n",
        "# Ordinary Least Squares (OLS) model\n",
        "# C(Genotype):C(years) represent interaction term\n",
        "model = ols('(SPL5) ~ C(Appraiser) + C(Sample) + C(Appraiser):C(Sample)', data=df).fit()\n",
        "anova_table = sm.stats.anova_lm(model, typ=2) #typ = 3 for unblanced\n",
        "anova_table # PR (>F) is P"
      ],
      "execution_count": 28,
      "outputs": [
        {
          "output_type": "stream",
          "text": [
            "/usr/local/lib/python3.6/dist-packages/statsmodels/tools/_testing.py:19: FutureWarning: pandas.util.testing is deprecated. Use the functions in the public API at pandas.testing instead.\n",
            "  import pandas.util.testing as tm\n"
          ],
          "name": "stderr"
        },
        {
          "output_type": "execute_result",
          "data": {
            "text/html": [
              "<div>\n",
              "<style scoped>\n",
              "    .dataframe tbody tr th:only-of-type {\n",
              "        vertical-align: middle;\n",
              "    }\n",
              "\n",
              "    .dataframe tbody tr th {\n",
              "        vertical-align: top;\n",
              "    }\n",
              "\n",
              "    .dataframe thead th {\n",
              "        text-align: right;\n",
              "    }\n",
              "</style>\n",
              "<table border=\"1\" class=\"dataframe\">\n",
              "  <thead>\n",
              "    <tr style=\"text-align: right;\">\n",
              "      <th></th>\n",
              "      <th>sum_sq</th>\n",
              "      <th>df</th>\n",
              "      <th>F</th>\n",
              "      <th>PR(&gt;F)</th>\n",
              "    </tr>\n",
              "  </thead>\n",
              "  <tbody>\n",
              "    <tr>\n",
              "      <th>C(Appraiser)</th>\n",
              "      <td>0.241177</td>\n",
              "      <td>2.0</td>\n",
              "      <td>3.332179</td>\n",
              "      <td>4.243522e-02</td>\n",
              "    </tr>\n",
              "    <tr>\n",
              "      <th>C(Sample)</th>\n",
              "      <td>2.254329</td>\n",
              "      <td>9.0</td>\n",
              "      <td>6.921465</td>\n",
              "      <td>9.094848e-07</td>\n",
              "    </tr>\n",
              "    <tr>\n",
              "      <th>C(Appraiser):C(Sample)</th>\n",
              "      <td>0.556000</td>\n",
              "      <td>18.0</td>\n",
              "      <td>0.853544</td>\n",
              "      <td>6.327271e-01</td>\n",
              "    </tr>\n",
              "    <tr>\n",
              "      <th>Residual</th>\n",
              "      <td>2.171341</td>\n",
              "      <td>60.0</td>\n",
              "      <td>NaN</td>\n",
              "      <td>NaN</td>\n",
              "    </tr>\n",
              "  </tbody>\n",
              "</table>\n",
              "</div>"
            ],
            "text/plain": [
              "                          sum_sq    df         F        PR(>F)\n",
              "C(Appraiser)            0.241177   2.0  3.332179  4.243522e-02\n",
              "C(Sample)               2.254329   9.0  6.921465  9.094848e-07\n",
              "C(Appraiser):C(Sample)  0.556000  18.0  0.853544  6.327271e-01\n",
              "Residual                2.171341  60.0       NaN           NaN"
            ]
          },
          "metadata": {
            "tags": []
          },
          "execution_count": 28
        }
      ]
    },
    {
      "cell_type": "code",
      "metadata": {
        "id": "UZVj_WpuNbbE",
        "outputId": "856e98e9-c667-48b8-bf51-e83733d96457",
        "colab": {
          "base_uri": "https://localhost:8080/",
          "height": 173
        }
      },
      "source": [
        "#Two-way ANOVA with balanced design\n",
        "df.anova(dv=features, between=[\"Appraiser\", \"Sample\"]).round(3)"
      ],
      "execution_count": 30,
      "outputs": [
        {
          "output_type": "execute_result",
          "data": {
            "text/html": [
              "<div>\n",
              "<style scoped>\n",
              "    .dataframe tbody tr th:only-of-type {\n",
              "        vertical-align: middle;\n",
              "    }\n",
              "\n",
              "    .dataframe tbody tr th {\n",
              "        vertical-align: top;\n",
              "    }\n",
              "\n",
              "    .dataframe thead th {\n",
              "        text-align: right;\n",
              "    }\n",
              "</style>\n",
              "<table border=\"1\" class=\"dataframe\">\n",
              "  <thead>\n",
              "    <tr style=\"text-align: right;\">\n",
              "      <th></th>\n",
              "      <th>Source</th>\n",
              "      <th>SS</th>\n",
              "      <th>DF</th>\n",
              "      <th>MS</th>\n",
              "      <th>F</th>\n",
              "      <th>p-unc</th>\n",
              "      <th>np2</th>\n",
              "    </tr>\n",
              "  </thead>\n",
              "  <tbody>\n",
              "    <tr>\n",
              "      <th>0</th>\n",
              "      <td>Appraiser</td>\n",
              "      <td>0.241</td>\n",
              "      <td>2</td>\n",
              "      <td>0.121</td>\n",
              "      <td>3.332</td>\n",
              "      <td>0.042</td>\n",
              "      <td>0.100</td>\n",
              "    </tr>\n",
              "    <tr>\n",
              "      <th>1</th>\n",
              "      <td>Sample</td>\n",
              "      <td>2.254</td>\n",
              "      <td>9</td>\n",
              "      <td>0.250</td>\n",
              "      <td>6.921</td>\n",
              "      <td>0.000</td>\n",
              "      <td>0.509</td>\n",
              "    </tr>\n",
              "    <tr>\n",
              "      <th>2</th>\n",
              "      <td>Appraiser * Sample</td>\n",
              "      <td>0.556</td>\n",
              "      <td>18</td>\n",
              "      <td>0.031</td>\n",
              "      <td>0.854</td>\n",
              "      <td>0.633</td>\n",
              "      <td>0.204</td>\n",
              "    </tr>\n",
              "    <tr>\n",
              "      <th>3</th>\n",
              "      <td>Residual</td>\n",
              "      <td>2.171</td>\n",
              "      <td>60</td>\n",
              "      <td>0.036</td>\n",
              "      <td>NaN</td>\n",
              "      <td>NaN</td>\n",
              "      <td>NaN</td>\n",
              "    </tr>\n",
              "  </tbody>\n",
              "</table>\n",
              "</div>"
            ],
            "text/plain": [
              "               Source     SS  DF     MS      F  p-unc    np2\n",
              "0           Appraiser  0.241   2  0.121  3.332  0.042  0.100\n",
              "1              Sample  2.254   9  0.250  6.921  0.000  0.509\n",
              "2  Appraiser * Sample  0.556  18  0.031  0.854  0.633  0.204\n",
              "3            Residual  2.171  60  0.036    NaN    NaN    NaN"
            ]
          },
          "metadata": {
            "tags": []
          },
          "execution_count": 30
        }
      ]
    },
    {
      "cell_type": "code",
      "metadata": {
        "id": "G6ebbcFTSJCL",
        "outputId": "1ed2a50a-f646-4c94-d23e-df321808adf8",
        "colab": {
          "base_uri": "https://localhost:8080/",
          "height": 173
        }
      },
      "source": [
        "#Two-way ANOVA with unbalanced design (requires statsmodels)\n",
        "df.anova(dv=features, between=[\"Appraiser\", \"Sample\"],effsize='n2').round(3)"
      ],
      "execution_count": 31,
      "outputs": [
        {
          "output_type": "execute_result",
          "data": {
            "text/html": [
              "<div>\n",
              "<style scoped>\n",
              "    .dataframe tbody tr th:only-of-type {\n",
              "        vertical-align: middle;\n",
              "    }\n",
              "\n",
              "    .dataframe tbody tr th {\n",
              "        vertical-align: top;\n",
              "    }\n",
              "\n",
              "    .dataframe thead th {\n",
              "        text-align: right;\n",
              "    }\n",
              "</style>\n",
              "<table border=\"1\" class=\"dataframe\">\n",
              "  <thead>\n",
              "    <tr style=\"text-align: right;\">\n",
              "      <th></th>\n",
              "      <th>Source</th>\n",
              "      <th>SS</th>\n",
              "      <th>DF</th>\n",
              "      <th>MS</th>\n",
              "      <th>F</th>\n",
              "      <th>p-unc</th>\n",
              "      <th>n2</th>\n",
              "    </tr>\n",
              "  </thead>\n",
              "  <tbody>\n",
              "    <tr>\n",
              "      <th>0</th>\n",
              "      <td>Appraiser</td>\n",
              "      <td>0.241</td>\n",
              "      <td>2</td>\n",
              "      <td>0.121</td>\n",
              "      <td>3.332</td>\n",
              "      <td>0.042</td>\n",
              "      <td>0.046</td>\n",
              "    </tr>\n",
              "    <tr>\n",
              "      <th>1</th>\n",
              "      <td>Sample</td>\n",
              "      <td>2.254</td>\n",
              "      <td>9</td>\n",
              "      <td>0.250</td>\n",
              "      <td>6.921</td>\n",
              "      <td>0.000</td>\n",
              "      <td>0.432</td>\n",
              "    </tr>\n",
              "    <tr>\n",
              "      <th>2</th>\n",
              "      <td>Appraiser * Sample</td>\n",
              "      <td>0.556</td>\n",
              "      <td>18</td>\n",
              "      <td>0.031</td>\n",
              "      <td>0.854</td>\n",
              "      <td>0.633</td>\n",
              "      <td>0.106</td>\n",
              "    </tr>\n",
              "    <tr>\n",
              "      <th>3</th>\n",
              "      <td>Residual</td>\n",
              "      <td>2.171</td>\n",
              "      <td>60</td>\n",
              "      <td>0.036</td>\n",
              "      <td>NaN</td>\n",
              "      <td>NaN</td>\n",
              "      <td>NaN</td>\n",
              "    </tr>\n",
              "  </tbody>\n",
              "</table>\n",
              "</div>"
            ],
            "text/plain": [
              "               Source     SS  DF     MS      F  p-unc     n2\n",
              "0           Appraiser  0.241   2  0.121  3.332  0.042  0.046\n",
              "1              Sample  2.254   9  0.250  6.921  0.000  0.432\n",
              "2  Appraiser * Sample  0.556  18  0.031  0.854  0.633  0.106\n",
              "3            Residual  2.171  60  0.036    NaN    NaN    NaN"
            ]
          },
          "metadata": {
            "tags": []
          },
          "execution_count": 31
        }
      ]
    },
    {
      "cell_type": "markdown",
      "metadata": {
        "id": "Kdz8bHjyUOnG"
      },
      "source": [
        "## Test ANOVA assumptions"
      ]
    },
    {
      "cell_type": "code",
      "metadata": {
        "id": "NGOwfjjOS-Hx",
        "outputId": "bedbfc14-75a1-435e-fc8f-0584ffe2539e",
        "colab": {
          "base_uri": "https://localhost:8080/",
          "height": 34
        }
      },
      "source": [
        "# load packages\n",
        "import scipy.stats as stats\n",
        "w, pvalue = stats.shapiro(model.resid)\n",
        "print(w, pvalue)"
      ],
      "execution_count": 32,
      "outputs": [
        {
          "output_type": "stream",
          "text": [
            "0.846505343914032 3.191544450942274e-08\n"
          ],
          "name": "stdout"
        }
      ]
    },
    {
      "cell_type": "markdown",
      "metadata": {
        "id": "OhcYP9BzUWBE"
      },
      "source": [
        "As the P-value is significant, we reject null hypothesis and conclude that data is drawn from non normal distribution."
      ]
    },
    {
      "cell_type": "code",
      "metadata": {
        "id": "HequRq6MUSkx",
        "outputId": "10d49bb4-4584-4974-e5a5-69e6bc71cf17",
        "colab": {
          "base_uri": "https://localhost:8080/",
          "height": 142
        }
      },
      "source": [
        "pg.normality(df, group='Appraiser', dv=features)"
      ],
      "execution_count": 33,
      "outputs": [
        {
          "output_type": "execute_result",
          "data": {
            "text/html": [
              "<div>\n",
              "<style scoped>\n",
              "    .dataframe tbody tr th:only-of-type {\n",
              "        vertical-align: middle;\n",
              "    }\n",
              "\n",
              "    .dataframe tbody tr th {\n",
              "        vertical-align: top;\n",
              "    }\n",
              "\n",
              "    .dataframe thead th {\n",
              "        text-align: right;\n",
              "    }\n",
              "</style>\n",
              "<table border=\"1\" class=\"dataframe\">\n",
              "  <thead>\n",
              "    <tr style=\"text-align: right;\">\n",
              "      <th></th>\n",
              "      <th>W</th>\n",
              "      <th>pval</th>\n",
              "      <th>normal</th>\n",
              "    </tr>\n",
              "  </thead>\n",
              "  <tbody>\n",
              "    <tr>\n",
              "      <th>1</th>\n",
              "      <td>0.957101</td>\n",
              "      <td>0.260708</td>\n",
              "      <td>True</td>\n",
              "    </tr>\n",
              "    <tr>\n",
              "      <th>2</th>\n",
              "      <td>0.926845</td>\n",
              "      <td>0.040511</td>\n",
              "      <td>False</td>\n",
              "    </tr>\n",
              "    <tr>\n",
              "      <th>3</th>\n",
              "      <td>0.885084</td>\n",
              "      <td>0.003697</td>\n",
              "      <td>False</td>\n",
              "    </tr>\n",
              "  </tbody>\n",
              "</table>\n",
              "</div>"
            ],
            "text/plain": [
              "          W      pval  normal\n",
              "1  0.957101  0.260708    True\n",
              "2  0.926845  0.040511   False\n",
              "3  0.885084  0.003697   False"
            ]
          },
          "metadata": {
            "tags": []
          },
          "execution_count": 33
        }
      ]
    },
    {
      "cell_type": "code",
      "metadata": {
        "id": "R5AXniubUm3n",
        "outputId": "09445e06-7f6b-4e3c-ded0-611b4d3e390b",
        "colab": {
          "base_uri": "https://localhost:8080/",
          "height": 359
        }
      },
      "source": [
        "pg.normality(df, group='Sample', dv=features)"
      ],
      "execution_count": 34,
      "outputs": [
        {
          "output_type": "execute_result",
          "data": {
            "text/html": [
              "<div>\n",
              "<style scoped>\n",
              "    .dataframe tbody tr th:only-of-type {\n",
              "        vertical-align: middle;\n",
              "    }\n",
              "\n",
              "    .dataframe tbody tr th {\n",
              "        vertical-align: top;\n",
              "    }\n",
              "\n",
              "    .dataframe thead th {\n",
              "        text-align: right;\n",
              "    }\n",
              "</style>\n",
              "<table border=\"1\" class=\"dataframe\">\n",
              "  <thead>\n",
              "    <tr style=\"text-align: right;\">\n",
              "      <th></th>\n",
              "      <th>W</th>\n",
              "      <th>pval</th>\n",
              "      <th>normal</th>\n",
              "    </tr>\n",
              "  </thead>\n",
              "  <tbody>\n",
              "    <tr>\n",
              "      <th>1</th>\n",
              "      <td>0.688827</td>\n",
              "      <td>0.001051</td>\n",
              "      <td>False</td>\n",
              "    </tr>\n",
              "    <tr>\n",
              "      <th>2</th>\n",
              "      <td>0.838866</td>\n",
              "      <td>0.056100</td>\n",
              "      <td>True</td>\n",
              "    </tr>\n",
              "    <tr>\n",
              "      <th>3</th>\n",
              "      <td>0.675421</td>\n",
              "      <td>0.000732</td>\n",
              "      <td>False</td>\n",
              "    </tr>\n",
              "    <tr>\n",
              "      <th>4</th>\n",
              "      <td>0.696605</td>\n",
              "      <td>0.001295</td>\n",
              "      <td>False</td>\n",
              "    </tr>\n",
              "    <tr>\n",
              "      <th>5</th>\n",
              "      <td>0.692441</td>\n",
              "      <td>0.001158</td>\n",
              "      <td>False</td>\n",
              "    </tr>\n",
              "    <tr>\n",
              "      <th>6</th>\n",
              "      <td>0.481308</td>\n",
              "      <td>0.000004</td>\n",
              "      <td>False</td>\n",
              "    </tr>\n",
              "    <tr>\n",
              "      <th>7</th>\n",
              "      <td>0.710201</td>\n",
              "      <td>0.001867</td>\n",
              "      <td>False</td>\n",
              "    </tr>\n",
              "    <tr>\n",
              "      <th>8</th>\n",
              "      <td>0.715312</td>\n",
              "      <td>0.002141</td>\n",
              "      <td>False</td>\n",
              "    </tr>\n",
              "    <tr>\n",
              "      <th>9</th>\n",
              "      <td>0.823065</td>\n",
              "      <td>0.037314</td>\n",
              "      <td>False</td>\n",
              "    </tr>\n",
              "    <tr>\n",
              "      <th>10</th>\n",
              "      <td>0.766061</td>\n",
              "      <td>0.008318</td>\n",
              "      <td>False</td>\n",
              "    </tr>\n",
              "  </tbody>\n",
              "</table>\n",
              "</div>"
            ],
            "text/plain": [
              "           W      pval  normal\n",
              "1   0.688827  0.001051   False\n",
              "2   0.838866  0.056100    True\n",
              "3   0.675421  0.000732   False\n",
              "4   0.696605  0.001295   False\n",
              "5   0.692441  0.001158   False\n",
              "6   0.481308  0.000004   False\n",
              "7   0.710201  0.001867   False\n",
              "8   0.715312  0.002141   False\n",
              "9   0.823065  0.037314   False\n",
              "10  0.766061  0.008318   False"
            ]
          },
          "metadata": {
            "tags": []
          },
          "execution_count": 34
        }
      ]
    },
    {
      "cell_type": "markdown",
      "metadata": {
        "id": "HeCR6UOVU2f9"
      },
      "source": [
        "Test variance of the samples are all equal (levene test for non normal distribution)"
      ]
    },
    {
      "cell_type": "code",
      "metadata": {
        "id": "1T76Z50dUo_3",
        "outputId": "b458f09e-3462-4dd1-848c-fbb778e29599",
        "colab": {
          "base_uri": "https://localhost:8080/",
          "height": 80
        }
      },
      "source": [
        "pg.homoscedasticity(df, group='Sample', dv=features)"
      ],
      "execution_count": 35,
      "outputs": [
        {
          "output_type": "execute_result",
          "data": {
            "text/html": [
              "<div>\n",
              "<style scoped>\n",
              "    .dataframe tbody tr th:only-of-type {\n",
              "        vertical-align: middle;\n",
              "    }\n",
              "\n",
              "    .dataframe tbody tr th {\n",
              "        vertical-align: top;\n",
              "    }\n",
              "\n",
              "    .dataframe thead th {\n",
              "        text-align: right;\n",
              "    }\n",
              "</style>\n",
              "<table border=\"1\" class=\"dataframe\">\n",
              "  <thead>\n",
              "    <tr style=\"text-align: right;\">\n",
              "      <th></th>\n",
              "      <th>W</th>\n",
              "      <th>pval</th>\n",
              "      <th>equal_var</th>\n",
              "    </tr>\n",
              "  </thead>\n",
              "  <tbody>\n",
              "    <tr>\n",
              "      <th>levene</th>\n",
              "      <td>0.739349</td>\n",
              "      <td>0.67179</td>\n",
              "      <td>True</td>\n",
              "    </tr>\n",
              "  </tbody>\n",
              "</table>\n",
              "</div>"
            ],
            "text/plain": [
              "               W     pval  equal_var\n",
              "levene  0.739349  0.67179       True"
            ]
          },
          "metadata": {
            "tags": []
          },
          "execution_count": 35
        }
      ]
    },
    {
      "cell_type": "code",
      "metadata": {
        "id": "ohQ8NIdwUwJH",
        "outputId": "f2685191-7ed2-4af9-9d0f-26e88151202a",
        "colab": {
          "base_uri": "https://localhost:8080/",
          "height": 80
        }
      },
      "source": [
        "pg.homoscedasticity(df, group='Appraiser', dv=features)"
      ],
      "execution_count": 36,
      "outputs": [
        {
          "output_type": "execute_result",
          "data": {
            "text/html": [
              "<div>\n",
              "<style scoped>\n",
              "    .dataframe tbody tr th:only-of-type {\n",
              "        vertical-align: middle;\n",
              "    }\n",
              "\n",
              "    .dataframe tbody tr th {\n",
              "        vertical-align: top;\n",
              "    }\n",
              "\n",
              "    .dataframe thead th {\n",
              "        text-align: right;\n",
              "    }\n",
              "</style>\n",
              "<table border=\"1\" class=\"dataframe\">\n",
              "  <thead>\n",
              "    <tr style=\"text-align: right;\">\n",
              "      <th></th>\n",
              "      <th>W</th>\n",
              "      <th>pval</th>\n",
              "      <th>equal_var</th>\n",
              "    </tr>\n",
              "  </thead>\n",
              "  <tbody>\n",
              "    <tr>\n",
              "      <th>levene</th>\n",
              "      <td>3.079752</td>\n",
              "      <td>0.051016</td>\n",
              "      <td>True</td>\n",
              "    </tr>\n",
              "  </tbody>\n",
              "</table>\n",
              "</div>"
            ],
            "text/plain": [
              "               W      pval  equal_var\n",
              "levene  3.079752  0.051016       True"
            ]
          },
          "metadata": {
            "tags": []
          },
          "execution_count": 36
        }
      ]
    },
    {
      "cell_type": "markdown",
      "metadata": {
        "id": "wsfd1jwaVXG5"
      },
      "source": [
        "##  POST-HOC TESTING (with Tukey HSD test or more)"
      ]
    },
    {
      "cell_type": "markdown",
      "metadata": {
        "id": "H6T85eOyVhVc"
      },
      "source": [
        "For equal variance"
      ]
    },
    {
      "cell_type": "code",
      "metadata": {
        "id": "ZvXjcDeVU1c-",
        "outputId": "d7e5074b-5b10-49b3-c7ff-faf9ddd81490",
        "colab": {
          "base_uri": "https://localhost:8080/",
          "height": 142
        }
      },
      "source": [
        "# load packages\n",
        "from pingouin import pairwise_tukey\n",
        "# perform multiple pairwise comparison (Tukey HSD)\n",
        "# for unbalanced (unequal sample size) data, pairwise_tukey uses Tukey-Kramer test\n",
        "m_comp = pairwise_tukey(data=df, dv=features, between='Appraiser').round(3)\n",
        "m_comp['Result']=m_comp['p-tukey'].apply(lambda x: 'Different'if x<0.05 else 'Not different')\n",
        "m_comp"
      ],
      "execution_count": 37,
      "outputs": [
        {
          "output_type": "execute_result",
          "data": {
            "text/html": [
              "<div>\n",
              "<style scoped>\n",
              "    .dataframe tbody tr th:only-of-type {\n",
              "        vertical-align: middle;\n",
              "    }\n",
              "\n",
              "    .dataframe tbody tr th {\n",
              "        vertical-align: top;\n",
              "    }\n",
              "\n",
              "    .dataframe thead th {\n",
              "        text-align: right;\n",
              "    }\n",
              "</style>\n",
              "<table border=\"1\" class=\"dataframe\">\n",
              "  <thead>\n",
              "    <tr style=\"text-align: right;\">\n",
              "      <th></th>\n",
              "      <th>A</th>\n",
              "      <th>B</th>\n",
              "      <th>mean(A)</th>\n",
              "      <th>mean(B)</th>\n",
              "      <th>diff</th>\n",
              "      <th>se</th>\n",
              "      <th>T</th>\n",
              "      <th>p-tukey</th>\n",
              "      <th>hedges</th>\n",
              "      <th>Result</th>\n",
              "    </tr>\n",
              "  </thead>\n",
              "  <tbody>\n",
              "    <tr>\n",
              "      <th>0</th>\n",
              "      <td>1</td>\n",
              "      <td>2</td>\n",
              "      <td>115.264</td>\n",
              "      <td>115.370</td>\n",
              "      <td>-0.106</td>\n",
              "      <td>0.062</td>\n",
              "      <td>-1.719</td>\n",
              "      <td>0.199</td>\n",
              "      <td>-0.438</td>\n",
              "      <td>Not different</td>\n",
              "    </tr>\n",
              "    <tr>\n",
              "      <th>1</th>\n",
              "      <td>1</td>\n",
              "      <td>3</td>\n",
              "      <td>115.264</td>\n",
              "      <td>115.257</td>\n",
              "      <td>0.007</td>\n",
              "      <td>0.062</td>\n",
              "      <td>0.112</td>\n",
              "      <td>0.900</td>\n",
              "      <td>0.028</td>\n",
              "      <td>Not different</td>\n",
              "    </tr>\n",
              "    <tr>\n",
              "      <th>2</th>\n",
              "      <td>2</td>\n",
              "      <td>3</td>\n",
              "      <td>115.370</td>\n",
              "      <td>115.257</td>\n",
              "      <td>0.113</td>\n",
              "      <td>0.062</td>\n",
              "      <td>1.831</td>\n",
              "      <td>0.161</td>\n",
              "      <td>0.467</td>\n",
              "      <td>Not different</td>\n",
              "    </tr>\n",
              "  </tbody>\n",
              "</table>\n",
              "</div>"
            ],
            "text/plain": [
              "   A  B  mean(A)  mean(B)   diff     se      T  p-tukey  hedges         Result\n",
              "0  1  2  115.264  115.370 -0.106  0.062 -1.719    0.199  -0.438  Not different\n",
              "1  1  3  115.264  115.257  0.007  0.062  0.112    0.900   0.028  Not different\n",
              "2  2  3  115.370  115.257  0.113  0.062  1.831    0.161   0.467  Not different"
            ]
          },
          "metadata": {
            "tags": []
          },
          "execution_count": 37
        }
      ]
    },
    {
      "cell_type": "code",
      "metadata": {
        "id": "tppuLW6JXBdL",
        "outputId": "6f5e5e16-d745-4167-f0f8-eb129809c3d0",
        "colab": {
          "base_uri": "https://localhost:8080/",
          "height": 120
        }
      },
      "source": [
        "import statsmodels.stats.multicomp as mc\n",
        "\n",
        "comp = mc.MultiComparison(df[features], df['Appraiser'])\n",
        "post_hoc_res = comp.tukeyhsd()\n",
        "post_hoc_res.summary()"
      ],
      "execution_count": 38,
      "outputs": [
        {
          "output_type": "execute_result",
          "data": {
            "text/html": [
              "<table class=\"simpletable\">\n",
              "<caption>Multiple Comparison of Means - Tukey HSD, FWER=0.05</caption>\n",
              "<tr>\n",
              "  <th>group1</th> <th>group2</th> <th>meandiff</th>  <th>p-adj</th>  <th>lower</th>   <th>upper</th> <th>reject</th>\n",
              "</tr>\n",
              "<tr>\n",
              "     <td>1</td>      <td>2</td>    <td>0.1062</td>  <td>0.2041</td> <td>-0.0411</td> <td>0.2535</td>  <td>False</td>\n",
              "</tr>\n",
              "<tr>\n",
              "     <td>1</td>      <td>3</td>    <td>-0.0069</td>   <td>0.9</td>  <td>-0.1542</td> <td>0.1404</td>  <td>False</td>\n",
              "</tr>\n",
              "<tr>\n",
              "     <td>2</td>      <td>3</td>    <td>-0.1131</td> <td>0.1659</td> <td>-0.2604</td> <td>0.0342</td>  <td>False</td>\n",
              "</tr>\n",
              "</table>"
            ],
            "text/plain": [
              "<class 'statsmodels.iolib.table.SimpleTable'>"
            ]
          },
          "metadata": {
            "tags": []
          },
          "execution_count": 38
        }
      ]
    },
    {
      "cell_type": "code",
      "metadata": {
        "id": "8QTZ2BdCXiIZ",
        "outputId": "3ffd574c-3eec-40f6-be7e-647bf2a9eec1",
        "colab": {
          "base_uri": "https://localhost:8080/",
          "height": 410
        }
      },
      "source": [
        "post_hoc_res.plot_simultaneous(ylabel= \"Appraiser\", xlabel= \"Score Difference\")\n",
        "plt.show()"
      ],
      "execution_count": 39,
      "outputs": [
        {
          "output_type": "display_data",
          "data": {
            "image/png": "[encoded data removed]",
            "text/plain": [
              "<Figure size 720x432 with 1 Axes>"
            ]
          },
          "metadata": {
            "tags": [],
            "needs_background": "light"
          }
        }
      ]
    },
    {
      "cell_type": "markdown",
      "metadata": {
        "id": "4c0A1iVDVjfj"
      },
      "source": [
        "For unequal variance"
      ]
    },
    {
      "cell_type": "code",
      "metadata": {
        "id": "jrxamuH3Vk79",
        "outputId": "2b82ca38-1f18-4005-8d63-8ee8a283b341",
        "colab": {
          "base_uri": "https://localhost:8080/",
          "height": 142
        }
      },
      "source": [
        "m_comp=pg.pairwise_gameshowell(data=df, dv=features, between='Appraiser')\n",
        "m_comp['Result']=m_comp['pval'].apply(lambda x: 'Different'if x<0.05 else 'Not different')\n",
        "m_comp"
      ],
      "execution_count": 40,
      "outputs": [
        {
          "output_type": "execute_result",
          "data": {
            "text/html": [
              "<div>\n",
              "<style scoped>\n",
              "    .dataframe tbody tr th:only-of-type {\n",
              "        vertical-align: middle;\n",
              "    }\n",
              "\n",
              "    .dataframe tbody tr th {\n",
              "        vertical-align: top;\n",
              "    }\n",
              "\n",
              "    .dataframe thead th {\n",
              "        text-align: right;\n",
              "    }\n",
              "</style>\n",
              "<table border=\"1\" class=\"dataframe\">\n",
              "  <thead>\n",
              "    <tr style=\"text-align: right;\">\n",
              "      <th></th>\n",
              "      <th>A</th>\n",
              "      <th>B</th>\n",
              "      <th>mean(A)</th>\n",
              "      <th>mean(B)</th>\n",
              "      <th>diff</th>\n",
              "      <th>se</th>\n",
              "      <th>T</th>\n",
              "      <th>df</th>\n",
              "      <th>pval</th>\n",
              "      <th>hedges</th>\n",
              "      <th>Result</th>\n",
              "    </tr>\n",
              "  </thead>\n",
              "  <tbody>\n",
              "    <tr>\n",
              "      <th>0</th>\n",
              "      <td>1</td>\n",
              "      <td>2</td>\n",
              "      <td>115.2643</td>\n",
              "      <td>115.3705</td>\n",
              "      <td>-0.1062</td>\n",
              "      <td>0.047853</td>\n",
              "      <td>-2.219289</td>\n",
              "      <td>54.024821</td>\n",
              "      <td>0.069733</td>\n",
              "      <td>-0.565576</td>\n",
              "      <td>Not different</td>\n",
              "    </tr>\n",
              "    <tr>\n",
              "      <th>1</th>\n",
              "      <td>1</td>\n",
              "      <td>3</td>\n",
              "      <td>115.2643</td>\n",
              "      <td>115.2574</td>\n",
              "      <td>0.0069</td>\n",
              "      <td>0.069941</td>\n",
              "      <td>0.098655</td>\n",
              "      <td>49.830928</td>\n",
              "      <td>0.900000</td>\n",
              "      <td>0.025142</td>\n",
              "      <td>Not different</td>\n",
              "    </tr>\n",
              "    <tr>\n",
              "      <th>2</th>\n",
              "      <td>2</td>\n",
              "      <td>3</td>\n",
              "      <td>115.3705</td>\n",
              "      <td>115.2574</td>\n",
              "      <td>0.1131</td>\n",
              "      <td>0.065349</td>\n",
              "      <td>1.730703</td>\n",
              "      <td>42.299713</td>\n",
              "      <td>0.196026</td>\n",
              "      <td>0.441062</td>\n",
              "      <td>Not different</td>\n",
              "    </tr>\n",
              "  </tbody>\n",
              "</table>\n",
              "</div>"
            ],
            "text/plain": [
              "   A  B   mean(A)   mean(B)  ...         df      pval    hedges         Result\n",
              "0  1  2  115.2643  115.3705  ...  54.024821  0.069733 -0.565576  Not different\n",
              "1  1  3  115.2643  115.2574  ...  49.830928  0.900000  0.025142  Not different\n",
              "2  2  3  115.3705  115.2574  ...  42.299713  0.196026  0.441062  Not different\n",
              "\n",
              "[3 rows x 11 columns]"
            ]
          },
          "metadata": {
            "tags": []
          },
          "execution_count": 40
        }
      ]
    },
    {
      "cell_type": "code",
      "metadata": {
        "id": "rPLpJ5twV_LD"
      },
      "source": [
        ""
      ],
      "execution_count": null,
      "outputs": []
    }
  ]
}