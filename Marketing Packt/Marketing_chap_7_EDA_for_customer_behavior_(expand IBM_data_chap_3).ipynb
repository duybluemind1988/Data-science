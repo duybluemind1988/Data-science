{
  "nbformat": 4,
  "nbformat_minor": 0,
  "metadata": {
    "colab": {
      "name": "Marketing chap 7 EDA for customer behavior  (IBM data chap 3).ipynb",
      "provenance": [],
      "collapsed_sections": [],
      "authorship_tag": "ABX9TyPJVgI3CjarpflgQb9DxV2i",
      "include_colab_link": true
    },
    "kernelspec": {
      "name": "python3",
      "display_name": "Python 3"
    }
  },
  "cells": [
    {
      "cell_type": "markdown",
      "metadata": {
        "id": "view-in-github",
        "colab_type": "text"
      },
      "source": [
        "<a href=\"https://colab.research.google.com/github/duybluemind1988/Data-science/blob/master/Marketing_chap_7_EDA_for_customer_behavior_(expand%20IBM_data_chap_3).ipynb\" target=\"_parent\"><img src=\"https://colab.research.google.com/assets/colab-badge.svg\" alt=\"Open In Colab\"/></a>"
      ]
    },
    {
      "cell_type": "code",
      "metadata": {
        "id": "6ijOLuZQP0jM",
        "colab_type": "code",
        "colab": {
          "base_uri": "https://localhost:8080/",
          "height": 105
        },
        "outputId": "66404694-3619-4903-a909-abbbd80bada8"
      },
      "source": [
        "# Load basic library\n",
        "import re\n",
        "import numpy as np\n",
        "import time\n",
        "import pandas as pd\n",
        "from tensorflow import random\n",
        "from sklearn.externals import joblib \n",
        "from scipy import stats\n",
        "\n",
        "# import require packages for plotting\n",
        "import matplotlib.patches as mpatches\n",
        "import matplotlib.pyplot as plt \n",
        "import seaborn as sns\n",
        "sns.set()\n",
        "import plotly\n",
        "import plotly.graph_objects as go\n",
        "from plotly.subplots import make_subplots\n",
        "import plotly.express as px\n",
        "import altair as alt # no need to add altviewer"
      ],
      "execution_count": null,
      "outputs": [
        {
          "output_type": "stream",
          "text": [
            "/usr/local/lib/python3.6/dist-packages/sklearn/externals/joblib/__init__.py:15: FutureWarning: sklearn.externals.joblib is deprecated in 0.21 and will be removed in 0.23. Please import this functionality directly from joblib, which can be installed with: pip install joblib. If this warning is raised when loading pickled models, you may need to re-serialize those models with scikit-learn 0.21+.\n",
            "  warnings.warn(msg, category=FutureWarning)\n",
            "/usr/local/lib/python3.6/dist-packages/statsmodels/tools/_testing.py:19: FutureWarning: pandas.util.testing is deprecated. Use the functions in the public API at pandas.testing instead.\n",
            "  import pandas.util.testing as tm\n"
          ],
          "name": "stderr"
        }
      ]
    },
    {
      "cell_type": "code",
      "metadata": {
        "id": "BJXa_bAeYBTW",
        "colab_type": "code",
        "colab": {
          "base_uri": "https://localhost:8080/",
          "height": 445
        },
        "outputId": "2098c5b9-06e9-4e2c-bd0d-b32143f29e76"
      },
      "source": [
        "#file='/content/drive/My Drive/Data/WA_Fn-UseC_-Marketing-Customer-Value-Analysis.csv'\n",
        "file='https://raw.githubusercontent.com/pthiagu2/DataMining/master/WA_Fn-UseC_-Marketing-Customer-Value-Analysis.csv'\n",
        "df = pd.read_csv(file)\n",
        "print(df.shape)\n",
        "df.head()"
      ],
      "execution_count": null,
      "outputs": [
        {
          "output_type": "stream",
          "text": [
            "(9134, 24)\n"
          ],
          "name": "stdout"
        },
        {
          "output_type": "execute_result",
          "data": {
            "text/html": [
              "<div>\n",
              "<style scoped>\n",
              "    .dataframe tbody tr th:only-of-type {\n",
              "        vertical-align: middle;\n",
              "    }\n",
              "\n",
              "    .dataframe tbody tr th {\n",
              "        vertical-align: top;\n",
              "    }\n",
              "\n",
              "    .dataframe thead th {\n",
              "        text-align: right;\n",
              "    }\n",
              "</style>\n",
              "<table border=\"1\" class=\"dataframe\">\n",
              "  <thead>\n",
              "    <tr style=\"text-align: right;\">\n",
              "      <th></th>\n",
              "      <th>Customer</th>\n",
              "      <th>State</th>\n",
              "      <th>Customer Lifetime Value</th>\n",
              "      <th>Response</th>\n",
              "      <th>Coverage</th>\n",
              "      <th>Education</th>\n",
              "      <th>Effective To Date</th>\n",
              "      <th>EmploymentStatus</th>\n",
              "      <th>Gender</th>\n",
              "      <th>Income</th>\n",
              "      <th>Location Code</th>\n",
              "      <th>Marital Status</th>\n",
              "      <th>Monthly Premium Auto</th>\n",
              "      <th>Months Since Last Claim</th>\n",
              "      <th>Months Since Policy Inception</th>\n",
              "      <th>Number of Open Complaints</th>\n",
              "      <th>Number of Policies</th>\n",
              "      <th>Policy Type</th>\n",
              "      <th>Policy</th>\n",
              "      <th>Renew Offer Type</th>\n",
              "      <th>Sales Channel</th>\n",
              "      <th>Total Claim Amount</th>\n",
              "      <th>Vehicle Class</th>\n",
              "      <th>Vehicle Size</th>\n",
              "    </tr>\n",
              "  </thead>\n",
              "  <tbody>\n",
              "    <tr>\n",
              "      <th>0</th>\n",
              "      <td>BU79786</td>\n",
              "      <td>Washington</td>\n",
              "      <td>2763.519279</td>\n",
              "      <td>No</td>\n",
              "      <td>Basic</td>\n",
              "      <td>Bachelor</td>\n",
              "      <td>2/24/11</td>\n",
              "      <td>Employed</td>\n",
              "      <td>F</td>\n",
              "      <td>56274</td>\n",
              "      <td>Suburban</td>\n",
              "      <td>Married</td>\n",
              "      <td>69</td>\n",
              "      <td>32</td>\n",
              "      <td>5</td>\n",
              "      <td>0</td>\n",
              "      <td>1</td>\n",
              "      <td>Corporate Auto</td>\n",
              "      <td>Corporate L3</td>\n",
              "      <td>Offer1</td>\n",
              "      <td>Agent</td>\n",
              "      <td>384.811147</td>\n",
              "      <td>Two-Door Car</td>\n",
              "      <td>Medsize</td>\n",
              "    </tr>\n",
              "    <tr>\n",
              "      <th>1</th>\n",
              "      <td>QZ44356</td>\n",
              "      <td>Arizona</td>\n",
              "      <td>6979.535903</td>\n",
              "      <td>No</td>\n",
              "      <td>Extended</td>\n",
              "      <td>Bachelor</td>\n",
              "      <td>1/31/11</td>\n",
              "      <td>Unemployed</td>\n",
              "      <td>F</td>\n",
              "      <td>0</td>\n",
              "      <td>Suburban</td>\n",
              "      <td>Single</td>\n",
              "      <td>94</td>\n",
              "      <td>13</td>\n",
              "      <td>42</td>\n",
              "      <td>0</td>\n",
              "      <td>8</td>\n",
              "      <td>Personal Auto</td>\n",
              "      <td>Personal L3</td>\n",
              "      <td>Offer3</td>\n",
              "      <td>Agent</td>\n",
              "      <td>1131.464935</td>\n",
              "      <td>Four-Door Car</td>\n",
              "      <td>Medsize</td>\n",
              "    </tr>\n",
              "    <tr>\n",
              "      <th>2</th>\n",
              "      <td>AI49188</td>\n",
              "      <td>Nevada</td>\n",
              "      <td>12887.431650</td>\n",
              "      <td>No</td>\n",
              "      <td>Premium</td>\n",
              "      <td>Bachelor</td>\n",
              "      <td>2/19/11</td>\n",
              "      <td>Employed</td>\n",
              "      <td>F</td>\n",
              "      <td>48767</td>\n",
              "      <td>Suburban</td>\n",
              "      <td>Married</td>\n",
              "      <td>108</td>\n",
              "      <td>18</td>\n",
              "      <td>38</td>\n",
              "      <td>0</td>\n",
              "      <td>2</td>\n",
              "      <td>Personal Auto</td>\n",
              "      <td>Personal L3</td>\n",
              "      <td>Offer1</td>\n",
              "      <td>Agent</td>\n",
              "      <td>566.472247</td>\n",
              "      <td>Two-Door Car</td>\n",
              "      <td>Medsize</td>\n",
              "    </tr>\n",
              "    <tr>\n",
              "      <th>3</th>\n",
              "      <td>WW63253</td>\n",
              "      <td>California</td>\n",
              "      <td>7645.861827</td>\n",
              "      <td>No</td>\n",
              "      <td>Basic</td>\n",
              "      <td>Bachelor</td>\n",
              "      <td>1/20/11</td>\n",
              "      <td>Unemployed</td>\n",
              "      <td>M</td>\n",
              "      <td>0</td>\n",
              "      <td>Suburban</td>\n",
              "      <td>Married</td>\n",
              "      <td>106</td>\n",
              "      <td>18</td>\n",
              "      <td>65</td>\n",
              "      <td>0</td>\n",
              "      <td>7</td>\n",
              "      <td>Corporate Auto</td>\n",
              "      <td>Corporate L2</td>\n",
              "      <td>Offer1</td>\n",
              "      <td>Call Center</td>\n",
              "      <td>529.881344</td>\n",
              "      <td>SUV</td>\n",
              "      <td>Medsize</td>\n",
              "    </tr>\n",
              "    <tr>\n",
              "      <th>4</th>\n",
              "      <td>HB64268</td>\n",
              "      <td>Washington</td>\n",
              "      <td>2813.692575</td>\n",
              "      <td>No</td>\n",
              "      <td>Basic</td>\n",
              "      <td>Bachelor</td>\n",
              "      <td>2/3/11</td>\n",
              "      <td>Employed</td>\n",
              "      <td>M</td>\n",
              "      <td>43836</td>\n",
              "      <td>Rural</td>\n",
              "      <td>Single</td>\n",
              "      <td>73</td>\n",
              "      <td>12</td>\n",
              "      <td>44</td>\n",
              "      <td>0</td>\n",
              "      <td>1</td>\n",
              "      <td>Personal Auto</td>\n",
              "      <td>Personal L1</td>\n",
              "      <td>Offer1</td>\n",
              "      <td>Agent</td>\n",
              "      <td>138.130879</td>\n",
              "      <td>Four-Door Car</td>\n",
              "      <td>Medsize</td>\n",
              "    </tr>\n",
              "  </tbody>\n",
              "</table>\n",
              "</div>"
            ],
            "text/plain": [
              "  Customer       State  ...  Vehicle Class Vehicle Size\n",
              "0  BU79786  Washington  ...   Two-Door Car      Medsize\n",
              "1  QZ44356     Arizona  ...  Four-Door Car      Medsize\n",
              "2  AI49188      Nevada  ...   Two-Door Car      Medsize\n",
              "3  WW63253  California  ...            SUV      Medsize\n",
              "4  HB64268  Washington  ...  Four-Door Car      Medsize\n",
              "\n",
              "[5 rows x 24 columns]"
            ]
          },
          "metadata": {
            "tags": []
          },
          "execution_count": 3
        }
      ]
    },
    {
      "cell_type": "code",
      "metadata": {
        "id": "LfkHWM1_vKtf",
        "colab_type": "code",
        "colab": {
          "base_uri": "https://localhost:8080/",
          "height": 428
        },
        "outputId": "51104366-7935-46b8-d0b6-6c401fb28cfe"
      },
      "source": [
        "df['conversion'] = df['Response'].apply(lambda x: 0 if x == 'No' else 1)\n",
        "df.head()"
      ],
      "execution_count": null,
      "outputs": [
        {
          "output_type": "execute_result",
          "data": {
            "text/html": [
              "<div>\n",
              "<style scoped>\n",
              "    .dataframe tbody tr th:only-of-type {\n",
              "        vertical-align: middle;\n",
              "    }\n",
              "\n",
              "    .dataframe tbody tr th {\n",
              "        vertical-align: top;\n",
              "    }\n",
              "\n",
              "    .dataframe thead th {\n",
              "        text-align: right;\n",
              "    }\n",
              "</style>\n",
              "<table border=\"1\" class=\"dataframe\">\n",
              "  <thead>\n",
              "    <tr style=\"text-align: right;\">\n",
              "      <th></th>\n",
              "      <th>Customer</th>\n",
              "      <th>State</th>\n",
              "      <th>Customer Lifetime Value</th>\n",
              "      <th>Response</th>\n",
              "      <th>Coverage</th>\n",
              "      <th>Education</th>\n",
              "      <th>Effective To Date</th>\n",
              "      <th>EmploymentStatus</th>\n",
              "      <th>Gender</th>\n",
              "      <th>Income</th>\n",
              "      <th>Location Code</th>\n",
              "      <th>Marital Status</th>\n",
              "      <th>Monthly Premium Auto</th>\n",
              "      <th>Months Since Last Claim</th>\n",
              "      <th>Months Since Policy Inception</th>\n",
              "      <th>Number of Open Complaints</th>\n",
              "      <th>Number of Policies</th>\n",
              "      <th>Policy Type</th>\n",
              "      <th>Policy</th>\n",
              "      <th>Renew Offer Type</th>\n",
              "      <th>Sales Channel</th>\n",
              "      <th>Total Claim Amount</th>\n",
              "      <th>Vehicle Class</th>\n",
              "      <th>Vehicle Size</th>\n",
              "      <th>conversion</th>\n",
              "    </tr>\n",
              "  </thead>\n",
              "  <tbody>\n",
              "    <tr>\n",
              "      <th>0</th>\n",
              "      <td>BU79786</td>\n",
              "      <td>Washington</td>\n",
              "      <td>2763.519279</td>\n",
              "      <td>No</td>\n",
              "      <td>Basic</td>\n",
              "      <td>Bachelor</td>\n",
              "      <td>2/24/11</td>\n",
              "      <td>Employed</td>\n",
              "      <td>F</td>\n",
              "      <td>56274</td>\n",
              "      <td>Suburban</td>\n",
              "      <td>Married</td>\n",
              "      <td>69</td>\n",
              "      <td>32</td>\n",
              "      <td>5</td>\n",
              "      <td>0</td>\n",
              "      <td>1</td>\n",
              "      <td>Corporate Auto</td>\n",
              "      <td>Corporate L3</td>\n",
              "      <td>Offer1</td>\n",
              "      <td>Agent</td>\n",
              "      <td>384.811147</td>\n",
              "      <td>Two-Door Car</td>\n",
              "      <td>Medsize</td>\n",
              "      <td>0</td>\n",
              "    </tr>\n",
              "    <tr>\n",
              "      <th>1</th>\n",
              "      <td>QZ44356</td>\n",
              "      <td>Arizona</td>\n",
              "      <td>6979.535903</td>\n",
              "      <td>No</td>\n",
              "      <td>Extended</td>\n",
              "      <td>Bachelor</td>\n",
              "      <td>1/31/11</td>\n",
              "      <td>Unemployed</td>\n",
              "      <td>F</td>\n",
              "      <td>0</td>\n",
              "      <td>Suburban</td>\n",
              "      <td>Single</td>\n",
              "      <td>94</td>\n",
              "      <td>13</td>\n",
              "      <td>42</td>\n",
              "      <td>0</td>\n",
              "      <td>8</td>\n",
              "      <td>Personal Auto</td>\n",
              "      <td>Personal L3</td>\n",
              "      <td>Offer3</td>\n",
              "      <td>Agent</td>\n",
              "      <td>1131.464935</td>\n",
              "      <td>Four-Door Car</td>\n",
              "      <td>Medsize</td>\n",
              "      <td>0</td>\n",
              "    </tr>\n",
              "    <tr>\n",
              "      <th>2</th>\n",
              "      <td>AI49188</td>\n",
              "      <td>Nevada</td>\n",
              "      <td>12887.431650</td>\n",
              "      <td>No</td>\n",
              "      <td>Premium</td>\n",
              "      <td>Bachelor</td>\n",
              "      <td>2/19/11</td>\n",
              "      <td>Employed</td>\n",
              "      <td>F</td>\n",
              "      <td>48767</td>\n",
              "      <td>Suburban</td>\n",
              "      <td>Married</td>\n",
              "      <td>108</td>\n",
              "      <td>18</td>\n",
              "      <td>38</td>\n",
              "      <td>0</td>\n",
              "      <td>2</td>\n",
              "      <td>Personal Auto</td>\n",
              "      <td>Personal L3</td>\n",
              "      <td>Offer1</td>\n",
              "      <td>Agent</td>\n",
              "      <td>566.472247</td>\n",
              "      <td>Two-Door Car</td>\n",
              "      <td>Medsize</td>\n",
              "      <td>0</td>\n",
              "    </tr>\n",
              "    <tr>\n",
              "      <th>3</th>\n",
              "      <td>WW63253</td>\n",
              "      <td>California</td>\n",
              "      <td>7645.861827</td>\n",
              "      <td>No</td>\n",
              "      <td>Basic</td>\n",
              "      <td>Bachelor</td>\n",
              "      <td>1/20/11</td>\n",
              "      <td>Unemployed</td>\n",
              "      <td>M</td>\n",
              "      <td>0</td>\n",
              "      <td>Suburban</td>\n",
              "      <td>Married</td>\n",
              "      <td>106</td>\n",
              "      <td>18</td>\n",
              "      <td>65</td>\n",
              "      <td>0</td>\n",
              "      <td>7</td>\n",
              "      <td>Corporate Auto</td>\n",
              "      <td>Corporate L2</td>\n",
              "      <td>Offer1</td>\n",
              "      <td>Call Center</td>\n",
              "      <td>529.881344</td>\n",
              "      <td>SUV</td>\n",
              "      <td>Medsize</td>\n",
              "      <td>0</td>\n",
              "    </tr>\n",
              "    <tr>\n",
              "      <th>4</th>\n",
              "      <td>HB64268</td>\n",
              "      <td>Washington</td>\n",
              "      <td>2813.692575</td>\n",
              "      <td>No</td>\n",
              "      <td>Basic</td>\n",
              "      <td>Bachelor</td>\n",
              "      <td>2/3/11</td>\n",
              "      <td>Employed</td>\n",
              "      <td>M</td>\n",
              "      <td>43836</td>\n",
              "      <td>Rural</td>\n",
              "      <td>Single</td>\n",
              "      <td>73</td>\n",
              "      <td>12</td>\n",
              "      <td>44</td>\n",
              "      <td>0</td>\n",
              "      <td>1</td>\n",
              "      <td>Personal Auto</td>\n",
              "      <td>Personal L1</td>\n",
              "      <td>Offer1</td>\n",
              "      <td>Agent</td>\n",
              "      <td>138.130879</td>\n",
              "      <td>Four-Door Car</td>\n",
              "      <td>Medsize</td>\n",
              "      <td>0</td>\n",
              "    </tr>\n",
              "  </tbody>\n",
              "</table>\n",
              "</div>"
            ],
            "text/plain": [
              "  Customer       State  ...  Vehicle Size conversion\n",
              "0  BU79786  Washington  ...       Medsize          0\n",
              "1  QZ44356     Arizona  ...       Medsize          0\n",
              "2  AI49188      Nevada  ...       Medsize          0\n",
              "3  WW63253  California  ...       Medsize          0\n",
              "4  HB64268  Washington  ...       Medsize          0\n",
              "\n",
              "[5 rows x 25 columns]"
            ]
          },
          "metadata": {
            "tags": []
          },
          "execution_count": 27
        }
      ]
    },
    {
      "cell_type": "markdown",
      "metadata": {
        "id": "9vDzwyWfQNQU",
        "colab_type": "text"
      },
      "source": [
        "# Analytics on Engaged Customers"
      ]
    },
    {
      "cell_type": "markdown",
      "metadata": {
        "id": "ICbVfynjYmCv",
        "colab_type": "text"
      },
      "source": [
        "As you can see from this data, there is a column named Response, which contains\n",
        "information about whether a customer responded to the marketing efforts. Also, the Renew\n",
        "Offer Type and Sales Channel columns represent the type of the renewal offer\n",
        "presented to the customer and which sales channel was used to contact the customer. There\n",
        "are numerous other columns that represent the socio-economic backgrounds of the\n",
        "customers and types of insurance coverage that the customers currently have. We will be\n",
        "utilizing this information to analyze and understand the customer behavior better,\n",
        "especially in regards to their responses and engagement with the marketing and sales\n",
        "efforts."
      ]
    },
    {
      "cell_type": "markdown",
      "metadata": {
        "id": "emx3AKWHY0dt",
        "colab_type": "text"
      },
      "source": [
        "Analytics on engaged customers\n",
        "Now that we have loaded the data into our Python environment, we are going to analyze it\n",
        "to understand how different customers behave and react to different marketing strategies.\n",
        "We are going to follow these steps:\n",
        "1. Overall engagement rate\n",
        "2. Engagement rates by offer type\n",
        "3. Engagement rates by offer type and vehicle class\n",
        "4. Engagement rates by sales channel\n",
        "5. Engagement rates by sales channel and vehicle size"
      ]
    },
    {
      "cell_type": "markdown",
      "metadata": {
        "id": "OXg865MVZpEO",
        "colab_type": "text"
      },
      "source": [
        "## Overall Engagement Rate"
      ]
    },
    {
      "cell_type": "code",
      "metadata": {
        "id": "pbtg88Z8YBmM",
        "colab_type": "code",
        "colab": {
          "base_uri": "https://localhost:8080/",
          "height": 85
        },
        "outputId": "93edaddb-6eea-4449-da4c-3d6eabef95fd"
      },
      "source": [
        "df.groupby('Response').count()['Customer']"
      ],
      "execution_count": null,
      "outputs": [
        {
          "output_type": "execute_result",
          "data": {
            "text/plain": [
              "Response\n",
              "No     7826\n",
              "Yes    1308\n",
              "Name: Customer, dtype: int64"
            ]
          },
          "metadata": {
            "tags": []
          },
          "execution_count": 4
        }
      ]
    },
    {
      "cell_type": "code",
      "metadata": {
        "id": "0p-C8LsEZs60",
        "colab_type": "code",
        "colab": {
          "base_uri": "https://localhost:8080/",
          "height": 472
        },
        "outputId": "4377bd8f-3703-434e-d42f-abd74098db87"
      },
      "source": [
        "\n",
        "ax = df.groupby('Response').count()['Customer'].plot(\n",
        "    kind='bar',\n",
        "    color='skyblue',\n",
        "    grid=True,\n",
        "    figsize=(10, 7),\n",
        "    title='Marketing Engagment'\n",
        ")\n",
        "\n",
        "ax.set_xlabel('Engaged')\n",
        "ax.set_ylabel('Count')\n",
        "\n",
        "plt.show()"
      ],
      "execution_count": null,
      "outputs": [
        {
          "output_type": "display_data",
          "data": {
            "image/png": "[encoded data removed]",
            "text/plain": [
              "<Figure size 720x504 with 1 Axes>"
            ]
          },
          "metadata": {
            "tags": []
          }
        }
      ]
    },
    {
      "cell_type": "code",
      "metadata": {
        "id": "e4dGhx6EaKKC",
        "colab_type": "code",
        "colab": {
          "base_uri": "https://localhost:8080/",
          "height": 68
        },
        "outputId": "a870cc16-a4b7-422f-b4c2-1d71407e706b"
      },
      "source": [
        "df['Response'].value_counts(normalize=True)"
      ],
      "execution_count": null,
      "outputs": [
        {
          "output_type": "execute_result",
          "data": {
            "text/plain": [
              "No     0.856799\n",
              "Yes    0.143201\n",
              "Name: Response, dtype: float64"
            ]
          },
          "metadata": {
            "tags": []
          },
          "execution_count": 6
        }
      ]
    },
    {
      "cell_type": "markdown",
      "metadata": {
        "id": "P6xBF7O8tOMi",
        "colab_type": "text"
      },
      "source": [
        "## Engagement Rates by Offer Type"
      ]
    },
    {
      "cell_type": "code",
      "metadata": {
        "id": "S_4hIjv2tGtT",
        "colab_type": "code",
        "colab": {
          "base_uri": "https://localhost:8080/",
          "height": 119
        },
        "outputId": "ea871f8c-f429-42af-ebaa-6b89db087f22"
      },
      "source": [
        "by_offer_type_df = \n",
        "df.loc[df['Response'] == 'Yes'].groupby(['Renew Offer Type']).count()['Customer']\\\n",
        "/df.groupby('Renew Offer Type').count()['Customer']\n",
        "\n",
        "by_offer_type_df"
      ],
      "execution_count": null,
      "outputs": [
        {
          "output_type": "execute_result",
          "data": {
            "text/plain": [
              "Renew Offer Type\n",
              "Offer1    0.158316\n",
              "Offer2    0.233766\n",
              "Offer3    0.020950\n",
              "Offer4         NaN\n",
              "Name: Customer, dtype: float64"
            ]
          },
          "metadata": {
            "tags": []
          },
          "execution_count": 7
        }
      ]
    },
    {
      "cell_type": "code",
      "metadata": {
        "id": "GBY09yXDFfmM",
        "colab_type": "code",
        "colab": {
          "base_uri": "https://localhost:8080/",
          "height": 34
        },
        "outputId": "4245415a-aba1-4ac8-90fe-be9bc68fbd0b"
      },
      "source": [
        "by_offer_type_df.index"
      ],
      "execution_count": null,
      "outputs": [
        {
          "output_type": "execute_result",
          "data": {
            "text/plain": [
              "Index(['Offer1', 'Offer2', 'Offer3', 'Offer4'], dtype='object', name='Renew Offer Type')"
            ]
          },
          "metadata": {
            "tags": []
          },
          "execution_count": 18
        }
      ]
    },
    {
      "cell_type": "code",
      "metadata": {
        "id": "0QY2iYGztSoA",
        "colab_type": "code",
        "colab": {
          "base_uri": "https://localhost:8080/",
          "height": 507
        },
        "outputId": "c165e6c8-2a85-4d89-b3ae-ee344626adfc"
      },
      "source": [
        "ax = (by_offer_type_df*100.0).plot(\n",
        "    kind='bar',\n",
        "    figsize=(7, 7),\n",
        "    color='skyblue',\n",
        "    grid=True\n",
        ")\n",
        "\n",
        "ax.set_ylabel('Engagement Rate (%)')\n",
        "#---Label------\n",
        "x=range(len(by_offer_type_df.index))\n",
        "y=by_offer_type_df.values*100\n",
        "\n",
        "for x,y in zip(x,y):\n",
        "    label = \"{:.2f} %\".format(y)\n",
        "    plt.annotate(label, # this is the text\n",
        "                (x,y), # this is the point to label\n",
        "                textcoords=\"offset points\", # how to position the text\n",
        "                xytext=(0,10), # distance from text to points (x,y)\n",
        "                ha='center') # \n",
        "plt.tight_layout()\n",
        "plt.show()"
      ],
      "execution_count": null,
      "outputs": [
        {
          "output_type": "display_data",
          "data": {
            "image/png": "[encoded data removed]",
            "text/plain": [
              "<Figure size 504x504 with 1 Axes>"
            ]
          },
          "metadata": {
            "tags": []
          }
        }
      ]
    },
    {
      "cell_type": "code",
      "metadata": {
        "id": "TjItWJ9Ou3PS",
        "colab_type": "code",
        "colab": {}
      },
      "source": [
        "def conversion(name):\n",
        "  conversion_rate_by_marital = df.groupby(by=name)['conversion'].sum() \\\n",
        "  / df.groupby(by=name)['conversion'].count() * 100.0\n",
        "  conversion_rate_by_marital=pd.DataFrame(conversion_rate_by_marital)\n",
        "  x=conversion_rate_by_marital.index\n",
        "  y=conversion_rate_by_marital.conversion\n",
        "\n",
        "  plt.figure(figsize=(10,5))\n",
        "  plt.bar(x,y,color='skyblue')\n",
        "  #plt.title('conversions_by_'+ name)\n",
        "  plt.xlabel('conversions_by_'+ name)\n",
        "  plt.ylabel('Conversion Rate (%)')\n",
        "  plt.xticks(rotation='vertical')\n",
        "\n",
        "  for x,y in zip(x,y):\n",
        "      label = \"{:.2f} %\".format(y)\n",
        "      plt.annotate(label, # this is the text\n",
        "                  (x,y), # this is the point to label\n",
        "                  textcoords=\"offset points\", # how to position the text\n",
        "                  xytext=(0,10), # distance from text to points (x,y)\n",
        "                  ha='center') # \n",
        "  plt.tight_layout()\n",
        "  plt.show()"
      ],
      "execution_count": null,
      "outputs": []
    },
    {
      "cell_type": "code",
      "metadata": {
        "id": "VMD0SKU8G9jq",
        "colab_type": "code",
        "colab": {
          "base_uri": "https://localhost:8080/",
          "height": 365
        },
        "outputId": "df069b5d-5b0d-4869-d844-e6ac6b0aa025"
      },
      "source": [
        "conversion('Renew Offer Type')"
      ],
      "execution_count": null,
      "outputs": [
        {
          "output_type": "display_data",
          "data": {
            "image/png": "[encoded data removed]",
            "text/plain": [
              "<Figure size 720x360 with 1 Axes>"
            ]
          },
          "metadata": {
            "tags": []
          }
        }
      ]
    },
    {
      "cell_type": "markdown",
      "metadata": {
        "id": "KoOGCwRUuHXX",
        "colab_type": "text"
      },
      "source": [
        "## Offer Type & Vehicle Class"
      ]
    },
    {
      "cell_type": "code",
      "metadata": {
        "id": "tIiFknEgI1hz",
        "colab_type": "code",
        "colab": {
          "base_uri": "https://localhost:8080/",
          "height": 428
        },
        "outputId": "b2d413e9-3b78-482e-ddbe-6888fd0f07c3"
      },
      "source": [
        "df.head()"
      ],
      "execution_count": null,
      "outputs": [
        {
          "output_type": "execute_result",
          "data": {
            "text/html": [
              "<div>\n",
              "<style scoped>\n",
              "    .dataframe tbody tr th:only-of-type {\n",
              "        vertical-align: middle;\n",
              "    }\n",
              "\n",
              "    .dataframe tbody tr th {\n",
              "        vertical-align: top;\n",
              "    }\n",
              "\n",
              "    .dataframe thead th {\n",
              "        text-align: right;\n",
              "    }\n",
              "</style>\n",
              "<table border=\"1\" class=\"dataframe\">\n",
              "  <thead>\n",
              "    <tr style=\"text-align: right;\">\n",
              "      <th></th>\n",
              "      <th>Customer</th>\n",
              "      <th>State</th>\n",
              "      <th>Customer Lifetime Value</th>\n",
              "      <th>Response</th>\n",
              "      <th>Coverage</th>\n",
              "      <th>Education</th>\n",
              "      <th>Effective To Date</th>\n",
              "      <th>EmploymentStatus</th>\n",
              "      <th>Gender</th>\n",
              "      <th>Income</th>\n",
              "      <th>Location Code</th>\n",
              "      <th>Marital Status</th>\n",
              "      <th>Monthly Premium Auto</th>\n",
              "      <th>Months Since Last Claim</th>\n",
              "      <th>Months Since Policy Inception</th>\n",
              "      <th>Number of Open Complaints</th>\n",
              "      <th>Number of Policies</th>\n",
              "      <th>Policy Type</th>\n",
              "      <th>Policy</th>\n",
              "      <th>Renew Offer Type</th>\n",
              "      <th>Sales Channel</th>\n",
              "      <th>Total Claim Amount</th>\n",
              "      <th>Vehicle Class</th>\n",
              "      <th>Vehicle Size</th>\n",
              "      <th>conversion</th>\n",
              "    </tr>\n",
              "  </thead>\n",
              "  <tbody>\n",
              "    <tr>\n",
              "      <th>0</th>\n",
              "      <td>BU79786</td>\n",
              "      <td>Washington</td>\n",
              "      <td>2763.519279</td>\n",
              "      <td>No</td>\n",
              "      <td>Basic</td>\n",
              "      <td>Bachelor</td>\n",
              "      <td>2/24/11</td>\n",
              "      <td>Employed</td>\n",
              "      <td>F</td>\n",
              "      <td>56274</td>\n",
              "      <td>Suburban</td>\n",
              "      <td>Married</td>\n",
              "      <td>69</td>\n",
              "      <td>32</td>\n",
              "      <td>5</td>\n",
              "      <td>0</td>\n",
              "      <td>1</td>\n",
              "      <td>Corporate Auto</td>\n",
              "      <td>Corporate L3</td>\n",
              "      <td>Offer1</td>\n",
              "      <td>Agent</td>\n",
              "      <td>384.811147</td>\n",
              "      <td>Two-Door Car</td>\n",
              "      <td>Medsize</td>\n",
              "      <td>0</td>\n",
              "    </tr>\n",
              "    <tr>\n",
              "      <th>1</th>\n",
              "      <td>QZ44356</td>\n",
              "      <td>Arizona</td>\n",
              "      <td>6979.535903</td>\n",
              "      <td>No</td>\n",
              "      <td>Extended</td>\n",
              "      <td>Bachelor</td>\n",
              "      <td>1/31/11</td>\n",
              "      <td>Unemployed</td>\n",
              "      <td>F</td>\n",
              "      <td>0</td>\n",
              "      <td>Suburban</td>\n",
              "      <td>Single</td>\n",
              "      <td>94</td>\n",
              "      <td>13</td>\n",
              "      <td>42</td>\n",
              "      <td>0</td>\n",
              "      <td>8</td>\n",
              "      <td>Personal Auto</td>\n",
              "      <td>Personal L3</td>\n",
              "      <td>Offer3</td>\n",
              "      <td>Agent</td>\n",
              "      <td>1131.464935</td>\n",
              "      <td>Four-Door Car</td>\n",
              "      <td>Medsize</td>\n",
              "      <td>0</td>\n",
              "    </tr>\n",
              "    <tr>\n",
              "      <th>2</th>\n",
              "      <td>AI49188</td>\n",
              "      <td>Nevada</td>\n",
              "      <td>12887.431650</td>\n",
              "      <td>No</td>\n",
              "      <td>Premium</td>\n",
              "      <td>Bachelor</td>\n",
              "      <td>2/19/11</td>\n",
              "      <td>Employed</td>\n",
              "      <td>F</td>\n",
              "      <td>48767</td>\n",
              "      <td>Suburban</td>\n",
              "      <td>Married</td>\n",
              "      <td>108</td>\n",
              "      <td>18</td>\n",
              "      <td>38</td>\n",
              "      <td>0</td>\n",
              "      <td>2</td>\n",
              "      <td>Personal Auto</td>\n",
              "      <td>Personal L3</td>\n",
              "      <td>Offer1</td>\n",
              "      <td>Agent</td>\n",
              "      <td>566.472247</td>\n",
              "      <td>Two-Door Car</td>\n",
              "      <td>Medsize</td>\n",
              "      <td>0</td>\n",
              "    </tr>\n",
              "    <tr>\n",
              "      <th>3</th>\n",
              "      <td>WW63253</td>\n",
              "      <td>California</td>\n",
              "      <td>7645.861827</td>\n",
              "      <td>No</td>\n",
              "      <td>Basic</td>\n",
              "      <td>Bachelor</td>\n",
              "      <td>1/20/11</td>\n",
              "      <td>Unemployed</td>\n",
              "      <td>M</td>\n",
              "      <td>0</td>\n",
              "      <td>Suburban</td>\n",
              "      <td>Married</td>\n",
              "      <td>106</td>\n",
              "      <td>18</td>\n",
              "      <td>65</td>\n",
              "      <td>0</td>\n",
              "      <td>7</td>\n",
              "      <td>Corporate Auto</td>\n",
              "      <td>Corporate L2</td>\n",
              "      <td>Offer1</td>\n",
              "      <td>Call Center</td>\n",
              "      <td>529.881344</td>\n",
              "      <td>SUV</td>\n",
              "      <td>Medsize</td>\n",
              "      <td>0</td>\n",
              "    </tr>\n",
              "    <tr>\n",
              "      <th>4</th>\n",
              "      <td>HB64268</td>\n",
              "      <td>Washington</td>\n",
              "      <td>2813.692575</td>\n",
              "      <td>No</td>\n",
              "      <td>Basic</td>\n",
              "      <td>Bachelor</td>\n",
              "      <td>2/3/11</td>\n",
              "      <td>Employed</td>\n",
              "      <td>M</td>\n",
              "      <td>43836</td>\n",
              "      <td>Rural</td>\n",
              "      <td>Single</td>\n",
              "      <td>73</td>\n",
              "      <td>12</td>\n",
              "      <td>44</td>\n",
              "      <td>0</td>\n",
              "      <td>1</td>\n",
              "      <td>Personal Auto</td>\n",
              "      <td>Personal L1</td>\n",
              "      <td>Offer1</td>\n",
              "      <td>Agent</td>\n",
              "      <td>138.130879</td>\n",
              "      <td>Four-Door Car</td>\n",
              "      <td>Medsize</td>\n",
              "      <td>0</td>\n",
              "    </tr>\n",
              "  </tbody>\n",
              "</table>\n",
              "</div>"
            ],
            "text/plain": [
              "  Customer       State  ...  Vehicle Size conversion\n",
              "0  BU79786  Washington  ...       Medsize          0\n",
              "1  QZ44356     Arizona  ...       Medsize          0\n",
              "2  AI49188      Nevada  ...       Medsize          0\n",
              "3  WW63253  California  ...       Medsize          0\n",
              "4  HB64268  Washington  ...       Medsize          0\n",
              "\n",
              "[5 rows x 25 columns]"
            ]
          },
          "metadata": {
            "tags": []
          },
          "execution_count": 51
        }
      ]
    },
    {
      "cell_type": "code",
      "metadata": {
        "id": "QU_IXHlbIx3t",
        "colab_type": "code",
        "colab": {
          "base_uri": "https://localhost:8080/",
          "height": 289
        },
        "outputId": "1fe31048-66e4-4cc2-b87f-2ec760c04403"
      },
      "source": [
        "df.loc[\n",
        "    df['Response'] == 'Yes'\n",
        "].groupby([\n",
        "    'Renew Offer Type', 'Vehicle Class'\n",
        "]).count()['Customer']"
      ],
      "execution_count": null,
      "outputs": [
        {
          "output_type": "execute_result",
          "data": {
            "text/plain": [
              "Renew Offer Type  Vehicle Class\n",
              "Offer1            Four-Door Car    264\n",
              "                  Luxury Car         6\n",
              "                  Luxury SUV        18\n",
              "                  SUV              168\n",
              "                  Sports Car        42\n",
              "                  Two-Door Car      96\n",
              "Offer2            Four-Door Car    336\n",
              "                  Luxury Car         6\n",
              "                  Luxury SUV        12\n",
              "                  SUV              120\n",
              "                  Sports Car        48\n",
              "                  Two-Door Car     162\n",
              "Offer3            Four-Door Car     24\n",
              "                  Two-Door Car       6\n",
              "Name: Customer, dtype: int64"
            ]
          },
          "metadata": {
            "tags": []
          },
          "execution_count": 49
        }
      ]
    },
    {
      "cell_type": "code",
      "metadata": {
        "id": "qmAMk_B_I-HL",
        "colab_type": "code",
        "colab": {
          "base_uri": "https://localhost:8080/",
          "height": 119
        },
        "outputId": "440c5f1e-0d06-4b34-d527-811ebe803726"
      },
      "source": [
        "df.groupby('Renew Offer Type').count()['Customer']"
      ],
      "execution_count": null,
      "outputs": [
        {
          "output_type": "execute_result",
          "data": {
            "text/plain": [
              "Renew Offer Type\n",
              "Offer1    3752\n",
              "Offer2    2926\n",
              "Offer3    1432\n",
              "Offer4    1024\n",
              "Name: Customer, dtype: int64"
            ]
          },
          "metadata": {
            "tags": []
          },
          "execution_count": 52
        }
      ]
    },
    {
      "cell_type": "code",
      "metadata": {
        "id": "ENpyGAL8tu5x",
        "colab_type": "code",
        "colab": {
          "base_uri": "https://localhost:8080/",
          "height": 289
        },
        "outputId": "05ee5604-1419-44bd-e907-4db8d86cac86"
      },
      "source": [
        "\n",
        "by_offer_type_df = df.loc[\n",
        "    df['Response'] == 'Yes'\n",
        "].groupby([\n",
        "    'Renew Offer Type', 'Vehicle Class'\n",
        "]).count()['Customer']/df.groupby('Renew Offer Type').count()['Customer']\n",
        "\n",
        "by_offer_type_df"
      ],
      "execution_count": null,
      "outputs": [
        {
          "output_type": "execute_result",
          "data": {
            "text/plain": [
              "Renew Offer Type  Vehicle Class\n",
              "Offer1            Four-Door Car    0.070362\n",
              "                  Luxury Car       0.001599\n",
              "                  Luxury SUV       0.004797\n",
              "                  SUV              0.044776\n",
              "                  Sports Car       0.011194\n",
              "                  Two-Door Car     0.025586\n",
              "Offer2            Four-Door Car    0.114833\n",
              "                  Luxury Car       0.002051\n",
              "                  Luxury SUV       0.004101\n",
              "                  SUV              0.041012\n",
              "                  Sports Car       0.016405\n",
              "                  Two-Door Car     0.055366\n",
              "Offer3            Four-Door Car    0.016760\n",
              "                  Two-Door Car     0.004190\n",
              "Name: Customer, dtype: float64"
            ]
          },
          "metadata": {
            "tags": []
          },
          "execution_count": 48
        }
      ]
    },
    {
      "cell_type": "code",
      "metadata": {
        "id": "d4Oh6B2lIvsT",
        "colab_type": "code",
        "colab": {
          "base_uri": "https://localhost:8080/",
          "height": 173
        },
        "outputId": "5efc0ff3-5a72-44e1-88b2-d016e327d104"
      },
      "source": [
        "by_offer_type_df = by_offer_type_df.unstack().fillna(0)\n",
        "by_offer_type_df"
      ],
      "execution_count": null,
      "outputs": [
        {
          "output_type": "execute_result",
          "data": {
            "text/html": [
              "<div>\n",
              "<style scoped>\n",
              "    .dataframe tbody tr th:only-of-type {\n",
              "        vertical-align: middle;\n",
              "    }\n",
              "\n",
              "    .dataframe tbody tr th {\n",
              "        vertical-align: top;\n",
              "    }\n",
              "\n",
              "    .dataframe thead th {\n",
              "        text-align: right;\n",
              "    }\n",
              "</style>\n",
              "<table border=\"1\" class=\"dataframe\">\n",
              "  <thead>\n",
              "    <tr style=\"text-align: right;\">\n",
              "      <th>Vehicle Class</th>\n",
              "      <th>Four-Door Car</th>\n",
              "      <th>Luxury Car</th>\n",
              "      <th>Luxury SUV</th>\n",
              "      <th>SUV</th>\n",
              "      <th>Sports Car</th>\n",
              "      <th>Two-Door Car</th>\n",
              "    </tr>\n",
              "    <tr>\n",
              "      <th>Renew Offer Type</th>\n",
              "      <th></th>\n",
              "      <th></th>\n",
              "      <th></th>\n",
              "      <th></th>\n",
              "      <th></th>\n",
              "      <th></th>\n",
              "    </tr>\n",
              "  </thead>\n",
              "  <tbody>\n",
              "    <tr>\n",
              "      <th>Offer1</th>\n",
              "      <td>0.070362</td>\n",
              "      <td>0.001599</td>\n",
              "      <td>0.004797</td>\n",
              "      <td>0.044776</td>\n",
              "      <td>0.011194</td>\n",
              "      <td>0.025586</td>\n",
              "    </tr>\n",
              "    <tr>\n",
              "      <th>Offer2</th>\n",
              "      <td>0.114833</td>\n",
              "      <td>0.002051</td>\n",
              "      <td>0.004101</td>\n",
              "      <td>0.041012</td>\n",
              "      <td>0.016405</td>\n",
              "      <td>0.055366</td>\n",
              "    </tr>\n",
              "    <tr>\n",
              "      <th>Offer3</th>\n",
              "      <td>0.016760</td>\n",
              "      <td>0.000000</td>\n",
              "      <td>0.000000</td>\n",
              "      <td>0.000000</td>\n",
              "      <td>0.000000</td>\n",
              "      <td>0.004190</td>\n",
              "    </tr>\n",
              "  </tbody>\n",
              "</table>\n",
              "</div>"
            ],
            "text/plain": [
              "Vehicle Class     Four-Door Car  Luxury Car  ...  Sports Car  Two-Door Car\n",
              "Renew Offer Type                             ...                          \n",
              "Offer1                 0.070362    0.001599  ...    0.011194      0.025586\n",
              "Offer2                 0.114833    0.002051  ...    0.016405      0.055366\n",
              "Offer3                 0.016760    0.000000  ...    0.000000      0.004190\n",
              "\n",
              "[3 rows x 6 columns]"
            ]
          },
          "metadata": {
            "tags": []
          },
          "execution_count": 53
        }
      ]
    },
    {
      "cell_type": "code",
      "metadata": {
        "id": "k0mGVi2jJC-C",
        "colab_type": "code",
        "colab": {
          "base_uri": "https://localhost:8080/",
          "height": 475
        },
        "outputId": "a7d121c7-00f9-4174-b2c0-014ab9e1456f"
      },
      "source": [
        "ax = (by_offer_type_df*100.0).plot(\n",
        "    kind='bar',\n",
        "    figsize=(10, 7),\n",
        "    grid=True\n",
        ")\n",
        "\n",
        "ax.set_ylabel('Engagement Rate (%)')\n",
        "\n",
        "plt.show()"
      ],
      "execution_count": null,
      "outputs": [
        {
          "output_type": "display_data",
          "data": {
            "image/png": "[encoded data removed]",
            "text/plain": [
              "<Figure size 720x504 with 1 Axes>"
            ]
          },
          "metadata": {
            "tags": []
          }
        }
      ]
    },
    {
      "cell_type": "markdown",
      "metadata": {
        "id": "vDXMkMiBMzrH",
        "colab_type": "text"
      },
      "source": [
        "## Note: Cách tính toán ở đây sai, xem cách ở dưới"
      ]
    },
    {
      "cell_type": "markdown",
      "metadata": {
        "id": "XBaWg4WyOCIL",
        "colab_type": "text"
      },
      "source": [
        "không thể lấy lượng engagement của từng loại xe chia cho tổng loại xe mà phải lấy lượng engagement của từng loại xe chia cho số lượng khảo sát từng loại xe đó (vì lượng xe nhiều nhưng engagement ít sẽ chiếm tỉ trong yes rất cao)"
      ]
    },
    {
      "cell_type": "code",
      "metadata": {
        "id": "k0i7FGH3Ks1j",
        "colab_type": "code",
        "colab": {
          "base_uri": "https://localhost:8080/",
          "height": 459
        },
        "outputId": "02b335ae-5ba0-44ce-b144-007a40eb9ac9"
      },
      "source": [
        "by_offer_type_df = df.loc[\n",
        "    df['Response'] == 'Yes'\n",
        "].groupby([\n",
        "    'Renew Offer Type', 'Vehicle Class'\n",
        "]).count()['Customer']/df.groupby([\n",
        "    'Renew Offer Type', 'Vehicle Class'\n",
        "]).count()['Customer']\n",
        "\n",
        "by_offer_type_df"
      ],
      "execution_count": null,
      "outputs": [
        {
          "output_type": "execute_result",
          "data": {
            "text/plain": [
              "Renew Offer Type  Vehicle Class\n",
              "Offer1            Four-Door Car    0.146912\n",
              "                  Luxury Car       0.088235\n",
              "                  Luxury SUV       0.202247\n",
              "                  SUV              0.188341\n",
              "                  Sports Car       0.185022\n",
              "                  Two-Door Car     0.141384\n",
              "Offer2            Four-Door Car    0.219178\n",
              "                  Luxury Car       0.146341\n",
              "                  Luxury SUV       0.255319\n",
              "                  SUV              0.250000\n",
              "                  Sports Car       0.311688\n",
              "                  Two-Door Car     0.241431\n",
              "Offer3            Four-Door Car    0.032215\n",
              "                  Luxury Car            NaN\n",
              "                  Luxury SUV            NaN\n",
              "                  SUV                   NaN\n",
              "                  Sports Car            NaN\n",
              "                  Two-Door Car     0.021053\n",
              "Offer4            Four-Door Car         NaN\n",
              "                  Luxury Car            NaN\n",
              "                  Luxury SUV            NaN\n",
              "                  SUV                   NaN\n",
              "                  Sports Car            NaN\n",
              "                  Two-Door Car          NaN\n",
              "Name: Customer, dtype: float64"
            ]
          },
          "metadata": {
            "tags": []
          },
          "execution_count": 58
        }
      ]
    },
    {
      "cell_type": "code",
      "metadata": {
        "id": "ZoYN5rqNMZSl",
        "colab_type": "code",
        "colab": {
          "base_uri": "https://localhost:8080/",
          "height": 204
        },
        "outputId": "7e4ca936-11a7-48a2-b71b-00871c8a6474"
      },
      "source": [
        "by_offer_type_df = by_offer_type_df.unstack().fillna(0)\n",
        "by_offer_type_df"
      ],
      "execution_count": null,
      "outputs": [
        {
          "output_type": "execute_result",
          "data": {
            "text/html": [
              "<div>\n",
              "<style scoped>\n",
              "    .dataframe tbody tr th:only-of-type {\n",
              "        vertical-align: middle;\n",
              "    }\n",
              "\n",
              "    .dataframe tbody tr th {\n",
              "        vertical-align: top;\n",
              "    }\n",
              "\n",
              "    .dataframe thead th {\n",
              "        text-align: right;\n",
              "    }\n",
              "</style>\n",
              "<table border=\"1\" class=\"dataframe\">\n",
              "  <thead>\n",
              "    <tr style=\"text-align: right;\">\n",
              "      <th>Vehicle Class</th>\n",
              "      <th>Four-Door Car</th>\n",
              "      <th>Luxury Car</th>\n",
              "      <th>Luxury SUV</th>\n",
              "      <th>SUV</th>\n",
              "      <th>Sports Car</th>\n",
              "      <th>Two-Door Car</th>\n",
              "    </tr>\n",
              "    <tr>\n",
              "      <th>Renew Offer Type</th>\n",
              "      <th></th>\n",
              "      <th></th>\n",
              "      <th></th>\n",
              "      <th></th>\n",
              "      <th></th>\n",
              "      <th></th>\n",
              "    </tr>\n",
              "  </thead>\n",
              "  <tbody>\n",
              "    <tr>\n",
              "      <th>Offer1</th>\n",
              "      <td>0.146912</td>\n",
              "      <td>0.088235</td>\n",
              "      <td>0.202247</td>\n",
              "      <td>0.188341</td>\n",
              "      <td>0.185022</td>\n",
              "      <td>0.141384</td>\n",
              "    </tr>\n",
              "    <tr>\n",
              "      <th>Offer2</th>\n",
              "      <td>0.219178</td>\n",
              "      <td>0.146341</td>\n",
              "      <td>0.255319</td>\n",
              "      <td>0.250000</td>\n",
              "      <td>0.311688</td>\n",
              "      <td>0.241431</td>\n",
              "    </tr>\n",
              "    <tr>\n",
              "      <th>Offer3</th>\n",
              "      <td>0.032215</td>\n",
              "      <td>0.000000</td>\n",
              "      <td>0.000000</td>\n",
              "      <td>0.000000</td>\n",
              "      <td>0.000000</td>\n",
              "      <td>0.021053</td>\n",
              "    </tr>\n",
              "    <tr>\n",
              "      <th>Offer4</th>\n",
              "      <td>0.000000</td>\n",
              "      <td>0.000000</td>\n",
              "      <td>0.000000</td>\n",
              "      <td>0.000000</td>\n",
              "      <td>0.000000</td>\n",
              "      <td>0.000000</td>\n",
              "    </tr>\n",
              "  </tbody>\n",
              "</table>\n",
              "</div>"
            ],
            "text/plain": [
              "Vehicle Class     Four-Door Car  Luxury Car  ...  Sports Car  Two-Door Car\n",
              "Renew Offer Type                             ...                          \n",
              "Offer1                 0.146912    0.088235  ...    0.185022      0.141384\n",
              "Offer2                 0.219178    0.146341  ...    0.311688      0.241431\n",
              "Offer3                 0.032215    0.000000  ...    0.000000      0.021053\n",
              "Offer4                 0.000000    0.000000  ...    0.000000      0.000000\n",
              "\n",
              "[4 rows x 6 columns]"
            ]
          },
          "metadata": {
            "tags": []
          },
          "execution_count": 59
        }
      ]
    },
    {
      "cell_type": "code",
      "metadata": {
        "id": "NqHvD8WdMpkN",
        "colab_type": "code",
        "colab": {
          "base_uri": "https://localhost:8080/",
          "height": 473
        },
        "outputId": "8a89fd10-67c0-4db8-c999-c8df7edb740f"
      },
      "source": [
        "ax = (by_offer_type_df*100.0).plot(\n",
        "    kind='bar',\n",
        "    figsize=(10, 7),\n",
        "    grid=True\n",
        ")\n",
        "\n",
        "ax.set_ylabel('Engagement Rate (%)')\n",
        "\n",
        "plt.show()"
      ],
      "execution_count": null,
      "outputs": [
        {
          "output_type": "display_data",
          "data": {
            "image/png": "[encoded data removed]",
            "text/plain": [
              "<Figure size 720x504 with 1 Axes>"
            ]
          },
          "metadata": {
            "tags": []
          }
        }
      ]
    },
    {
      "cell_type": "markdown",
      "metadata": {
        "id": "rBr1s1SMNxeX",
        "colab_type": "text"
      },
      "source": [
        "## Engagement Rates by Sales Channel"
      ]
    },
    {
      "cell_type": "code",
      "metadata": {
        "id": "IbOvdP8-Mr0j",
        "colab_type": "code",
        "colab": {
          "base_uri": "https://localhost:8080/",
          "height": 119
        },
        "outputId": "76b7b47c-7c32-4b81-b84c-84c799513bc7"
      },
      "source": [
        "by_sales_channel_df = df.loc[\n",
        "    df['Response'] == 'Yes'\n",
        "].groupby([\n",
        "    'Sales Channel'\n",
        "]).count()['Customer']/df.groupby('Sales Channel').count()['Customer']\n",
        "\n",
        "by_sales_channel_df"
      ],
      "execution_count": null,
      "outputs": [
        {
          "output_type": "execute_result",
          "data": {
            "text/plain": [
              "Sales Channel\n",
              "Agent          0.191544\n",
              "Branch         0.114531\n",
              "Call Center    0.108782\n",
              "Web            0.117736\n",
              "Name: Customer, dtype: float64"
            ]
          },
          "metadata": {
            "tags": []
          },
          "execution_count": 62
        }
      ]
    },
    {
      "cell_type": "code",
      "metadata": {
        "id": "vWzlQ-P1N3C6",
        "colab_type": "code",
        "colab": {
          "base_uri": "https://localhost:8080/",
          "height": 501
        },
        "outputId": "e899f291-1dfc-4f64-c26b-ad7238161efd"
      },
      "source": [
        "ax = (by_sales_channel_df*100.0).plot(\n",
        "    kind='bar',\n",
        "    figsize=(7, 7),\n",
        "    color='skyblue',\n",
        "    grid=True\n",
        ")\n",
        "\n",
        "ax.set_ylabel('Engagement Rate (%)')\n",
        "\n",
        "plt.show()"
      ],
      "execution_count": null,
      "outputs": [
        {
          "output_type": "display_data",
          "data": {
            "image/png": "[encoded data removed]",
            "text/plain": [
              "<Figure size 504x504 with 1 Axes>"
            ]
          },
          "metadata": {
            "tags": []
          }
        }
      ]
    },
    {
      "cell_type": "markdown",
      "metadata": {
        "id": "RC79rANrN-Eq",
        "colab_type": "text"
      },
      "source": [
        "## Sales Channel & Vehicle Size"
      ]
    },
    {
      "cell_type": "code",
      "metadata": {
        "id": "C8wZ5IBtN6ao",
        "colab_type": "code",
        "colab": {
          "base_uri": "https://localhost:8080/",
          "height": 204
        },
        "outputId": "e188dfae-53ee-4264-dc73-b62b0ea75e67"
      },
      "source": [
        "by_sales_channel_df = df.loc[\n",
        "    df['Response'] == 'Yes'\n",
        "].groupby([\n",
        "    'Sales Channel', 'Vehicle Size'\n",
        "]).count()['Customer']/df.groupby('Sales Channel').count()['Customer']\n",
        "\n",
        "by_sales_channel_df = by_sales_channel_df.unstack().fillna(0)\n",
        "by_sales_channel_df"
      ],
      "execution_count": null,
      "outputs": [
        {
          "output_type": "execute_result",
          "data": {
            "text/html": [
              "<div>\n",
              "<style scoped>\n",
              "    .dataframe tbody tr th:only-of-type {\n",
              "        vertical-align: middle;\n",
              "    }\n",
              "\n",
              "    .dataframe tbody tr th {\n",
              "        vertical-align: top;\n",
              "    }\n",
              "\n",
              "    .dataframe thead th {\n",
              "        text-align: right;\n",
              "    }\n",
              "</style>\n",
              "<table border=\"1\" class=\"dataframe\">\n",
              "  <thead>\n",
              "    <tr style=\"text-align: right;\">\n",
              "      <th>Vehicle Size</th>\n",
              "      <th>Large</th>\n",
              "      <th>Medsize</th>\n",
              "      <th>Small</th>\n",
              "    </tr>\n",
              "    <tr>\n",
              "      <th>Sales Channel</th>\n",
              "      <th></th>\n",
              "      <th></th>\n",
              "      <th></th>\n",
              "    </tr>\n",
              "  </thead>\n",
              "  <tbody>\n",
              "    <tr>\n",
              "      <th>Agent</th>\n",
              "      <td>0.020708</td>\n",
              "      <td>0.144953</td>\n",
              "      <td>0.025884</td>\n",
              "    </tr>\n",
              "    <tr>\n",
              "      <th>Branch</th>\n",
              "      <td>0.021036</td>\n",
              "      <td>0.074795</td>\n",
              "      <td>0.018699</td>\n",
              "    </tr>\n",
              "    <tr>\n",
              "      <th>Call Center</th>\n",
              "      <td>0.013598</td>\n",
              "      <td>0.067989</td>\n",
              "      <td>0.027195</td>\n",
              "    </tr>\n",
              "    <tr>\n",
              "      <th>Web</th>\n",
              "      <td>0.013585</td>\n",
              "      <td>0.095094</td>\n",
              "      <td>0.009057</td>\n",
              "    </tr>\n",
              "  </tbody>\n",
              "</table>\n",
              "</div>"
            ],
            "text/plain": [
              "Vehicle Size      Large   Medsize     Small\n",
              "Sales Channel                              \n",
              "Agent          0.020708  0.144953  0.025884\n",
              "Branch         0.021036  0.074795  0.018699\n",
              "Call Center    0.013598  0.067989  0.027195\n",
              "Web            0.013585  0.095094  0.009057"
            ]
          },
          "metadata": {
            "tags": []
          },
          "execution_count": 64
        }
      ]
    },
    {
      "cell_type": "code",
      "metadata": {
        "id": "8MAJT9FUOKEH",
        "colab_type": "code",
        "colab": {
          "base_uri": "https://localhost:8080/",
          "height": 499
        },
        "outputId": "e329ea7e-12f5-4dfd-f839-baa8d80a7358"
      },
      "source": [
        "ax = (by_sales_channel_df*100.0).plot(\n",
        "    kind='bar',\n",
        "    figsize=(10, 7),\n",
        "    grid=True\n",
        ")\n",
        "\n",
        "ax.set_ylabel('Engagement Rate (%)')\n",
        "\n",
        "plt.show()"
      ],
      "execution_count": null,
      "outputs": [
        {
          "output_type": "display_data",
          "data": {
            "image/png": "[encoded data removed]",
            "text/plain": [
              "<Figure size 720x504 with 1 Axes>"
            ]
          },
          "metadata": {
            "tags": []
          }
        }
      ]
    },
    {
      "cell_type": "markdown",
      "metadata": {
        "id": "WQvaZokcONQb",
        "colab_type": "text"
      },
      "source": [
        "## Cách này sai, xem cách dưới:"
      ]
    },
    {
      "cell_type": "code",
      "metadata": {
        "id": "CvxgBEatPDuA",
        "colab_type": "code",
        "colab": {
          "base_uri": "https://localhost:8080/",
          "height": 255
        },
        "outputId": "904c9d14-ae00-4d0e-ee79-9965a6655e50"
      },
      "source": [
        "df.loc[\n",
        "    df['Response'] == 'Yes'\n",
        "].groupby([\n",
        "    'Sales Channel', 'Vehicle Size'\n",
        "]).count()['Customer']"
      ],
      "execution_count": null,
      "outputs": [
        {
          "output_type": "execute_result",
          "data": {
            "text/plain": [
              "Sales Channel  Vehicle Size\n",
              "Agent          Large            72\n",
              "               Medsize         504\n",
              "               Small            90\n",
              "Branch         Large            54\n",
              "               Medsize         192\n",
              "               Small            48\n",
              "Call Center    Large            24\n",
              "               Medsize         120\n",
              "               Small            48\n",
              "Web            Large            18\n",
              "               Medsize         126\n",
              "               Small            12\n",
              "Name: Customer, dtype: int64"
            ]
          },
          "metadata": {
            "tags": []
          },
          "execution_count": 73
        }
      ]
    },
    {
      "cell_type": "code",
      "metadata": {
        "id": "1jDJK1NIPH2h",
        "colab_type": "code",
        "colab": {
          "base_uri": "https://localhost:8080/",
          "height": 255
        },
        "outputId": "e1defe17-921a-4fff-a840-6be74da9e777"
      },
      "source": [
        "df.groupby([\n",
        "    'Sales Channel', 'Vehicle Size'\n",
        "]).count()['Customer']"
      ],
      "execution_count": null,
      "outputs": [
        {
          "output_type": "execute_result",
          "data": {
            "text/plain": [
              "Sales Channel  Vehicle Size\n",
              "Agent          Large            341\n",
              "               Medsize         2471\n",
              "               Small            665\n",
              "Branch         Large            291\n",
              "               Medsize         1780\n",
              "               Small            496\n",
              "Call Center    Large            185\n",
              "               Medsize         1218\n",
              "               Small            362\n",
              "Web            Large            129\n",
              "               Medsize          955\n",
              "               Small            241\n",
              "Name: Customer, dtype: int64"
            ]
          },
          "metadata": {
            "tags": []
          },
          "execution_count": 74
        }
      ]
    },
    {
      "cell_type": "code",
      "metadata": {
        "id": "B-hElZPsOLCg",
        "colab_type": "code",
        "colab": {
          "base_uri": "https://localhost:8080/",
          "height": 204
        },
        "outputId": "2e405939-0f5a-49d5-cf69-c3439d055d33"
      },
      "source": [
        "by_sales_channel_df  = df.loc[\n",
        "    df['Response'] == 'Yes'\n",
        "].groupby([\n",
        "    'Sales Channel', 'Vehicle Size'\n",
        "]).count()['Customer']/df.groupby([\n",
        "    'Sales Channel', 'Vehicle Size'\n",
        "]).count()['Customer']\n",
        "\n",
        "by_sales_channel_df = by_sales_channel_df.unstack().fillna(0)\n",
        "by_sales_channel_df"
      ],
      "execution_count": null,
      "outputs": [
        {
          "output_type": "execute_result",
          "data": {
            "text/html": [
              "<div>\n",
              "<style scoped>\n",
              "    .dataframe tbody tr th:only-of-type {\n",
              "        vertical-align: middle;\n",
              "    }\n",
              "\n",
              "    .dataframe tbody tr th {\n",
              "        vertical-align: top;\n",
              "    }\n",
              "\n",
              "    .dataframe thead th {\n",
              "        text-align: right;\n",
              "    }\n",
              "</style>\n",
              "<table border=\"1\" class=\"dataframe\">\n",
              "  <thead>\n",
              "    <tr style=\"text-align: right;\">\n",
              "      <th>Vehicle Size</th>\n",
              "      <th>Large</th>\n",
              "      <th>Medsize</th>\n",
              "      <th>Small</th>\n",
              "    </tr>\n",
              "    <tr>\n",
              "      <th>Sales Channel</th>\n",
              "      <th></th>\n",
              "      <th></th>\n",
              "      <th></th>\n",
              "    </tr>\n",
              "  </thead>\n",
              "  <tbody>\n",
              "    <tr>\n",
              "      <th>Agent</th>\n",
              "      <td>0.211144</td>\n",
              "      <td>0.203966</td>\n",
              "      <td>0.135338</td>\n",
              "    </tr>\n",
              "    <tr>\n",
              "      <th>Branch</th>\n",
              "      <td>0.185567</td>\n",
              "      <td>0.107865</td>\n",
              "      <td>0.096774</td>\n",
              "    </tr>\n",
              "    <tr>\n",
              "      <th>Call Center</th>\n",
              "      <td>0.129730</td>\n",
              "      <td>0.098522</td>\n",
              "      <td>0.132597</td>\n",
              "    </tr>\n",
              "    <tr>\n",
              "      <th>Web</th>\n",
              "      <td>0.139535</td>\n",
              "      <td>0.131937</td>\n",
              "      <td>0.049793</td>\n",
              "    </tr>\n",
              "  </tbody>\n",
              "</table>\n",
              "</div>"
            ],
            "text/plain": [
              "Vehicle Size      Large   Medsize     Small\n",
              "Sales Channel                              \n",
              "Agent          0.211144  0.203966  0.135338\n",
              "Branch         0.185567  0.107865  0.096774\n",
              "Call Center    0.129730  0.098522  0.132597\n",
              "Web            0.139535  0.131937  0.049793"
            ]
          },
          "metadata": {
            "tags": []
          },
          "execution_count": 70
        }
      ]
    },
    {
      "cell_type": "code",
      "metadata": {
        "id": "i-ZeTPAQOe4R",
        "colab_type": "code",
        "colab": {
          "base_uri": "https://localhost:8080/",
          "height": 499
        },
        "outputId": "75d8ae19-0b57-4b8c-dd53-85bc62c6e16c"
      },
      "source": [
        "ax = (by_sales_channel_df*100.0).plot(\n",
        "    kind='bar',\n",
        "    figsize=(10, 7),\n",
        "    grid=True\n",
        ")\n",
        "\n",
        "ax.set_ylabel('Engagement Rate (%)')\n",
        "\n",
        "plt.show()"
      ],
      "execution_count": null,
      "outputs": [
        {
          "output_type": "display_data",
          "data": {
            "image/png": "[encoded data removed]",
            "text/plain": [
              "<Figure size 720x504 with 1 Axes>"
            ]
          },
          "metadata": {
            "tags": []
          }
        }
      ]
    },
    {
      "cell_type": "markdown",
      "metadata": {
        "id": "9E6mwO8hQcCk",
        "colab_type": "text"
      },
      "source": [
        "## Engagement Rates by Months Since Policy Inception"
      ]
    },
    {
      "cell_type": "code",
      "metadata": {
        "id": "m2m0dcDLOjqe",
        "colab_type": "code",
        "colab": {
          "base_uri": "https://localhost:8080/",
          "height": 238
        },
        "outputId": "278a170c-18c7-41c8-edcb-6e6297fe4fef"
      },
      "source": [
        "by_months_since_inception_df = df.loc[\n",
        "    df['Response'] == 'Yes'\n",
        "].groupby(\n",
        "    by='Months Since Policy Inception'\n",
        ")['Response'].count() / df.groupby(\n",
        "    by='Months Since Policy Inception'\n",
        ")['Response'].count() * 100.0\n",
        "\n",
        "by_months_since_inception_df.fillna(0)"
      ],
      "execution_count": null,
      "outputs": [
        {
          "output_type": "execute_result",
          "data": {
            "text/plain": [
              "Months Since Policy Inception\n",
              "0     14.457831\n",
              "1     14.117647\n",
              "2     20.224719\n",
              "3     26.315789\n",
              "4     19.780220\n",
              "        ...    \n",
              "95    15.584416\n",
              "96    17.910448\n",
              "97     0.000000\n",
              "98     0.000000\n",
              "99     7.692308\n",
              "Name: Response, Length: 100, dtype: float64"
            ]
          },
          "metadata": {
            "tags": []
          },
          "execution_count": 75
        }
      ]
    },
    {
      "cell_type": "code",
      "metadata": {
        "id": "qYIb0lvVQjDg",
        "colab_type": "code",
        "colab": {
          "base_uri": "https://localhost:8080/",
          "height": 464
        },
        "outputId": "00ab2933-0631-4512-f293-f03f8b03d7aa"
      },
      "source": [
        "\n",
        "ax = by_months_since_inception_df.fillna(0).plot(\n",
        "    figsize=(10, 7),\n",
        "    title='Engagement Rates by Months Since Inception',\n",
        "    grid=True,\n",
        "    color='skyblue'\n",
        ")\n",
        "\n",
        "ax.set_xlabel('Months Since Policy Inception')\n",
        "ax.set_ylabel('Engagement Rate (%)')\n",
        "\n",
        "plt.show()"
      ],
      "execution_count": null,
      "outputs": [
        {
          "output_type": "display_data",
          "data": {
            "image/png": "[encoded data removed]",
            "text/plain": [
              "<Figure size 720x504 with 1 Axes>"
            ]
          },
          "metadata": {
            "tags": []
          }
        }
      ]
    },
    {
      "cell_type": "markdown",
      "metadata": {
        "id": "PHp6xdN4SoCN",
        "colab_type": "text"
      },
      "source": [
        "# Customer Segmentation by CLV & Months Since Policy Inception"
      ]
    },
    {
      "cell_type": "code",
      "metadata": {
        "id": "zd8W9zA5SL-u",
        "colab_type": "code",
        "colab": {
          "base_uri": "https://localhost:8080/",
          "height": 170
        },
        "outputId": "39c04aca-ab71-4ecd-bc0d-9ba3a8e18142"
      },
      "source": [
        "df['Customer Lifetime Value'].describe()"
      ],
      "execution_count": null,
      "outputs": [
        {
          "output_type": "execute_result",
          "data": {
            "text/plain": [
              "count     9134.000000\n",
              "mean      8004.940475\n",
              "std       6870.967608\n",
              "min       1898.007675\n",
              "25%       3994.251794\n",
              "50%       5780.182197\n",
              "75%       8962.167041\n",
              "max      83325.381190\n",
              "Name: Customer Lifetime Value, dtype: float64"
            ]
          },
          "metadata": {
            "tags": []
          },
          "execution_count": 77
        }
      ]
    },
    {
      "cell_type": "code",
      "metadata": {
        "id": "NFTkS2q2SrEY",
        "colab_type": "code",
        "colab": {
          "base_uri": "https://localhost:8080/",
          "height": 221
        },
        "outputId": "d5729b68-4eba-4895-d748-d795ea877d31"
      },
      "source": [
        "df['CLV Segment'] = df['Customer Lifetime Value'].apply(\n",
        "    lambda x: 'High' if x > df['Customer Lifetime Value'].median() else 'Low'\n",
        ")\n",
        "df['CLV Segment'] "
      ],
      "execution_count": null,
      "outputs": [
        {
          "output_type": "execute_result",
          "data": {
            "text/plain": [
              "0        Low\n",
              "1       High\n",
              "2       High\n",
              "3       High\n",
              "4        Low\n",
              "        ... \n",
              "9129    High\n",
              "9130     Low\n",
              "9131    High\n",
              "9132    High\n",
              "9133     Low\n",
              "Name: CLV Segment, Length: 9134, dtype: object"
            ]
          },
          "metadata": {
            "tags": []
          },
          "execution_count": 78
        }
      ]
    },
    {
      "cell_type": "code",
      "metadata": {
        "id": "fW-ffq_jS1Bh",
        "colab_type": "code",
        "colab": {
          "base_uri": "https://localhost:8080/",
          "height": 170
        },
        "outputId": "80213f3a-be5d-407a-9b20-d77ade62aa4c"
      },
      "source": [
        "df['Months Since Policy Inception'].describe()"
      ],
      "execution_count": null,
      "outputs": [
        {
          "output_type": "execute_result",
          "data": {
            "text/plain": [
              "count    9134.000000\n",
              "mean       48.064594\n",
              "std        27.905991\n",
              "min         0.000000\n",
              "25%        24.000000\n",
              "50%        48.000000\n",
              "75%        71.000000\n",
              "max        99.000000\n",
              "Name: Months Since Policy Inception, dtype: float64"
            ]
          },
          "metadata": {
            "tags": []
          },
          "execution_count": 79
        }
      ]
    },
    {
      "cell_type": "code",
      "metadata": {
        "id": "3jK7ZUS_VZGk",
        "colab_type": "code",
        "colab": {}
      },
      "source": [
        "\n",
        "df['Policy Age Segment'] = df['Months Since Policy Inception'].apply(\n",
        "    lambda x: 'High' if x > df['Months Since Policy Inception'].median() else 'Low'\n",
        ")"
      ],
      "execution_count": null,
      "outputs": []
    },
    {
      "cell_type": "code",
      "metadata": {
        "id": "U3DdvMknVtPC",
        "colab_type": "code",
        "colab": {
          "base_uri": "https://localhost:8080/",
          "height": 428
        },
        "outputId": "5ccbc73c-a678-47c1-d2f4-52945b16be8c"
      },
      "source": [
        "df.head()"
      ],
      "execution_count": null,
      "outputs": [
        {
          "output_type": "execute_result",
          "data": {
            "text/html": [
              "<div>\n",
              "<style scoped>\n",
              "    .dataframe tbody tr th:only-of-type {\n",
              "        vertical-align: middle;\n",
              "    }\n",
              "\n",
              "    .dataframe tbody tr th {\n",
              "        vertical-align: top;\n",
              "    }\n",
              "\n",
              "    .dataframe thead th {\n",
              "        text-align: right;\n",
              "    }\n",
              "</style>\n",
              "<table border=\"1\" class=\"dataframe\">\n",
              "  <thead>\n",
              "    <tr style=\"text-align: right;\">\n",
              "      <th></th>\n",
              "      <th>Customer</th>\n",
              "      <th>State</th>\n",
              "      <th>Customer Lifetime Value</th>\n",
              "      <th>Response</th>\n",
              "      <th>Coverage</th>\n",
              "      <th>Education</th>\n",
              "      <th>Effective To Date</th>\n",
              "      <th>EmploymentStatus</th>\n",
              "      <th>Gender</th>\n",
              "      <th>Income</th>\n",
              "      <th>Location Code</th>\n",
              "      <th>Marital Status</th>\n",
              "      <th>Monthly Premium Auto</th>\n",
              "      <th>Months Since Last Claim</th>\n",
              "      <th>Months Since Policy Inception</th>\n",
              "      <th>Number of Open Complaints</th>\n",
              "      <th>Number of Policies</th>\n",
              "      <th>Policy Type</th>\n",
              "      <th>Policy</th>\n",
              "      <th>Renew Offer Type</th>\n",
              "      <th>Sales Channel</th>\n",
              "      <th>Total Claim Amount</th>\n",
              "      <th>Vehicle Class</th>\n",
              "      <th>Vehicle Size</th>\n",
              "      <th>conversion</th>\n",
              "      <th>CLV Segment</th>\n",
              "      <th>Policy Age Segment</th>\n",
              "    </tr>\n",
              "  </thead>\n",
              "  <tbody>\n",
              "    <tr>\n",
              "      <th>0</th>\n",
              "      <td>BU79786</td>\n",
              "      <td>Washington</td>\n",
              "      <td>2763.519279</td>\n",
              "      <td>No</td>\n",
              "      <td>Basic</td>\n",
              "      <td>Bachelor</td>\n",
              "      <td>2/24/11</td>\n",
              "      <td>Employed</td>\n",
              "      <td>F</td>\n",
              "      <td>56274</td>\n",
              "      <td>Suburban</td>\n",
              "      <td>Married</td>\n",
              "      <td>69</td>\n",
              "      <td>32</td>\n",
              "      <td>5</td>\n",
              "      <td>0</td>\n",
              "      <td>1</td>\n",
              "      <td>Corporate Auto</td>\n",
              "      <td>Corporate L3</td>\n",
              "      <td>Offer1</td>\n",
              "      <td>Agent</td>\n",
              "      <td>384.811147</td>\n",
              "      <td>Two-Door Car</td>\n",
              "      <td>Medsize</td>\n",
              "      <td>0</td>\n",
              "      <td>Low</td>\n",
              "      <td>Low</td>\n",
              "    </tr>\n",
              "    <tr>\n",
              "      <th>1</th>\n",
              "      <td>QZ44356</td>\n",
              "      <td>Arizona</td>\n",
              "      <td>6979.535903</td>\n",
              "      <td>No</td>\n",
              "      <td>Extended</td>\n",
              "      <td>Bachelor</td>\n",
              "      <td>1/31/11</td>\n",
              "      <td>Unemployed</td>\n",
              "      <td>F</td>\n",
              "      <td>0</td>\n",
              "      <td>Suburban</td>\n",
              "      <td>Single</td>\n",
              "      <td>94</td>\n",
              "      <td>13</td>\n",
              "      <td>42</td>\n",
              "      <td>0</td>\n",
              "      <td>8</td>\n",
              "      <td>Personal Auto</td>\n",
              "      <td>Personal L3</td>\n",
              "      <td>Offer3</td>\n",
              "      <td>Agent</td>\n",
              "      <td>1131.464935</td>\n",
              "      <td>Four-Door Car</td>\n",
              "      <td>Medsize</td>\n",
              "      <td>0</td>\n",
              "      <td>High</td>\n",
              "      <td>Low</td>\n",
              "    </tr>\n",
              "    <tr>\n",
              "      <th>2</th>\n",
              "      <td>AI49188</td>\n",
              "      <td>Nevada</td>\n",
              "      <td>12887.431650</td>\n",
              "      <td>No</td>\n",
              "      <td>Premium</td>\n",
              "      <td>Bachelor</td>\n",
              "      <td>2/19/11</td>\n",
              "      <td>Employed</td>\n",
              "      <td>F</td>\n",
              "      <td>48767</td>\n",
              "      <td>Suburban</td>\n",
              "      <td>Married</td>\n",
              "      <td>108</td>\n",
              "      <td>18</td>\n",
              "      <td>38</td>\n",
              "      <td>0</td>\n",
              "      <td>2</td>\n",
              "      <td>Personal Auto</td>\n",
              "      <td>Personal L3</td>\n",
              "      <td>Offer1</td>\n",
              "      <td>Agent</td>\n",
              "      <td>566.472247</td>\n",
              "      <td>Two-Door Car</td>\n",
              "      <td>Medsize</td>\n",
              "      <td>0</td>\n",
              "      <td>High</td>\n",
              "      <td>Low</td>\n",
              "    </tr>\n",
              "    <tr>\n",
              "      <th>3</th>\n",
              "      <td>WW63253</td>\n",
              "      <td>California</td>\n",
              "      <td>7645.861827</td>\n",
              "      <td>No</td>\n",
              "      <td>Basic</td>\n",
              "      <td>Bachelor</td>\n",
              "      <td>1/20/11</td>\n",
              "      <td>Unemployed</td>\n",
              "      <td>M</td>\n",
              "      <td>0</td>\n",
              "      <td>Suburban</td>\n",
              "      <td>Married</td>\n",
              "      <td>106</td>\n",
              "      <td>18</td>\n",
              "      <td>65</td>\n",
              "      <td>0</td>\n",
              "      <td>7</td>\n",
              "      <td>Corporate Auto</td>\n",
              "      <td>Corporate L2</td>\n",
              "      <td>Offer1</td>\n",
              "      <td>Call Center</td>\n",
              "      <td>529.881344</td>\n",
              "      <td>SUV</td>\n",
              "      <td>Medsize</td>\n",
              "      <td>0</td>\n",
              "      <td>High</td>\n",
              "      <td>High</td>\n",
              "    </tr>\n",
              "    <tr>\n",
              "      <th>4</th>\n",
              "      <td>HB64268</td>\n",
              "      <td>Washington</td>\n",
              "      <td>2813.692575</td>\n",
              "      <td>No</td>\n",
              "      <td>Basic</td>\n",
              "      <td>Bachelor</td>\n",
              "      <td>2/3/11</td>\n",
              "      <td>Employed</td>\n",
              "      <td>M</td>\n",
              "      <td>43836</td>\n",
              "      <td>Rural</td>\n",
              "      <td>Single</td>\n",
              "      <td>73</td>\n",
              "      <td>12</td>\n",
              "      <td>44</td>\n",
              "      <td>0</td>\n",
              "      <td>1</td>\n",
              "      <td>Personal Auto</td>\n",
              "      <td>Personal L1</td>\n",
              "      <td>Offer1</td>\n",
              "      <td>Agent</td>\n",
              "      <td>138.130879</td>\n",
              "      <td>Four-Door Car</td>\n",
              "      <td>Medsize</td>\n",
              "      <td>0</td>\n",
              "      <td>Low</td>\n",
              "      <td>Low</td>\n",
              "    </tr>\n",
              "  </tbody>\n",
              "</table>\n",
              "</div>"
            ],
            "text/plain": [
              "  Customer       State  ...  CLV Segment Policy Age Segment\n",
              "0  BU79786  Washington  ...          Low                Low\n",
              "1  QZ44356     Arizona  ...         High                Low\n",
              "2  AI49188      Nevada  ...         High                Low\n",
              "3  WW63253  California  ...         High               High\n",
              "4  HB64268  Washington  ...          Low                Low\n",
              "\n",
              "[5 rows x 27 columns]"
            ]
          },
          "metadata": {
            "tags": []
          },
          "execution_count": 81
        }
      ]
    },
    {
      "cell_type": "code",
      "metadata": {
        "id": "Y6X7k-wYVugi",
        "colab_type": "code",
        "colab": {
          "base_uri": "https://localhost:8080/",
          "height": 464
        },
        "outputId": "bc816427-4084-424a-dc50-4804080c3a54"
      },
      "source": [
        "ax = df.loc[\n",
        "    (df['CLV Segment'] == 'High') & (df['Policy Age Segment'] == 'High')\n",
        "].plot.scatter(\n",
        "    x='Months Since Policy Inception',\n",
        "    y='Customer Lifetime Value',\n",
        "    logy=True,\n",
        "    color='red'\n",
        ")\n",
        "\n",
        "df.loc[\n",
        "    (df['CLV Segment'] == 'Low') & (df['Policy Age Segment'] == 'High')\n",
        "].plot.scatter(\n",
        "    ax=ax,\n",
        "    x='Months Since Policy Inception',\n",
        "    y='Customer Lifetime Value',\n",
        "    logy=True,\n",
        "    color='blue'\n",
        ")\n",
        "\n",
        "df.loc[\n",
        "    (df['CLV Segment'] == 'High') & (df['Policy Age Segment'] == 'Low')\n",
        "].plot.scatter(\n",
        "    ax=ax,\n",
        "    x='Months Since Policy Inception',\n",
        "    y='Customer Lifetime Value',\n",
        "    logy=True,\n",
        "    color='orange'\n",
        ")\n",
        "\n",
        "df.loc[\n",
        "    (df['CLV Segment'] == 'Low') & (df['Policy Age Segment'] == 'Low')\n",
        "].plot.scatter(\n",
        "    ax=ax,\n",
        "    x='Months Since Policy Inception',\n",
        "    y='Customer Lifetime Value',\n",
        "    logy=True,\n",
        "    color='green',\n",
        "    grid=True,\n",
        "    figsize=(10, 7)\n",
        ")\n",
        "\n",
        "ax.set_ylabel('CLV (in log scale)')\n",
        "ax.set_xlabel('Months Since Policy Inception')\n",
        "\n",
        "ax.set_title('Segments by CLV and Policy Age')\n",
        "\n",
        "plt.show()"
      ],
      "execution_count": null,
      "outputs": [
        {
          "output_type": "display_data",
          "data": {
            "image/png": "[encoded data removed]",
            "text/plain": [
              "<Figure size 720x504 with 1 Axes>"
            ]
          },
          "metadata": {
            "tags": []
          }
        }
      ]
    },
    {
      "cell_type": "code",
      "metadata": {
        "id": "4OR_MY_6ixQa",
        "colab_type": "code",
        "colab": {
          "base_uri": "https://localhost:8080/",
          "height": 119
        },
        "outputId": "3fbac917-9f9c-40c1-8f14-84cf4041507c"
      },
      "source": [
        "df.loc[\n",
        "    df['Response'] == 'Yes'\n",
        "].groupby(\n",
        "    ['CLV Segment', 'Policy Age Segment']\n",
        ").count()['Customer']"
      ],
      "execution_count": null,
      "outputs": [
        {
          "output_type": "execute_result",
          "data": {
            "text/plain": [
              "CLV Segment  Policy Age Segment\n",
              "High         High                  312\n",
              "             Low                   306\n",
              "Low          High                  366\n",
              "             Low                   324\n",
              "Name: Customer, dtype: int64"
            ]
          },
          "metadata": {
            "tags": []
          },
          "execution_count": 87
        }
      ]
    },
    {
      "cell_type": "code",
      "metadata": {
        "id": "VrGMP85pi0Ra",
        "colab_type": "code",
        "colab": {
          "base_uri": "https://localhost:8080/",
          "height": 119
        },
        "outputId": "7cbeea8d-1da0-40bb-d5b6-a15221c4e9ce"
      },
      "source": [
        "df.groupby(\n",
        "    ['CLV Segment', 'Policy Age Segment']\n",
        ").count()['Customer']"
      ],
      "execution_count": null,
      "outputs": [
        {
          "output_type": "execute_result",
          "data": {
            "text/plain": [
              "CLV Segment  Policy Age Segment\n",
              "High         High                  2249\n",
              "             Low                   2317\n",
              "Low          High                  2253\n",
              "             Low                   2315\n",
              "Name: Customer, dtype: int64"
            ]
          },
          "metadata": {
            "tags": []
          },
          "execution_count": 88
        }
      ]
    },
    {
      "cell_type": "code",
      "metadata": {
        "id": "rZTtsiJUV5vv",
        "colab_type": "code",
        "colab": {
          "base_uri": "https://localhost:8080/",
          "height": 119
        },
        "outputId": "33d2d2fd-8128-417c-c819-bf8de8ebc038"
      },
      "source": [
        "\n",
        "engagment_rates_by_segment_df = df.loc[\n",
        "    df['Response'] == 'Yes'\n",
        "].groupby(\n",
        "    ['CLV Segment', 'Policy Age Segment']\n",
        ").count()['Customer']/df.groupby(\n",
        "    ['CLV Segment', 'Policy Age Segment']\n",
        ").count()['Customer']\n",
        "\n",
        "engagment_rates_by_segment_df"
      ],
      "execution_count": null,
      "outputs": [
        {
          "output_type": "execute_result",
          "data": {
            "text/plain": [
              "CLV Segment  Policy Age Segment\n",
              "High         High                  0.138728\n",
              "             Low                   0.132067\n",
              "Low          High                  0.162450\n",
              "             Low                   0.139957\n",
              "Name: Customer, dtype: float64"
            ]
          },
          "metadata": {
            "tags": []
          },
          "execution_count": 83
        }
      ]
    },
    {
      "cell_type": "code",
      "metadata": {
        "id": "r0QSvLzLWUuy",
        "colab_type": "code",
        "colab": {
          "base_uri": "https://localhost:8080/",
          "height": 142
        },
        "outputId": "69059760-fabd-4b82-8e17-d4558a3d1012"
      },
      "source": [
        "engagment_rates_by_segment_df.unstack()*100.0"
      ],
      "execution_count": null,
      "outputs": [
        {
          "output_type": "execute_result",
          "data": {
            "text/html": [
              "<div>\n",
              "<style scoped>\n",
              "    .dataframe tbody tr th:only-of-type {\n",
              "        vertical-align: middle;\n",
              "    }\n",
              "\n",
              "    .dataframe tbody tr th {\n",
              "        vertical-align: top;\n",
              "    }\n",
              "\n",
              "    .dataframe thead th {\n",
              "        text-align: right;\n",
              "    }\n",
              "</style>\n",
              "<table border=\"1\" class=\"dataframe\">\n",
              "  <thead>\n",
              "    <tr style=\"text-align: right;\">\n",
              "      <th>Policy Age Segment</th>\n",
              "      <th>High</th>\n",
              "      <th>Low</th>\n",
              "    </tr>\n",
              "    <tr>\n",
              "      <th>CLV Segment</th>\n",
              "      <th></th>\n",
              "      <th></th>\n",
              "    </tr>\n",
              "  </thead>\n",
              "  <tbody>\n",
              "    <tr>\n",
              "      <th>High</th>\n",
              "      <td>13.872832</td>\n",
              "      <td>13.206733</td>\n",
              "    </tr>\n",
              "    <tr>\n",
              "      <th>Low</th>\n",
              "      <td>16.245007</td>\n",
              "      <td>13.995680</td>\n",
              "    </tr>\n",
              "  </tbody>\n",
              "</table>\n",
              "</div>"
            ],
            "text/plain": [
              "Policy Age Segment       High        Low\n",
              "CLV Segment                             \n",
              "High                13.872832  13.206733\n",
              "Low                 16.245007  13.995680"
            ]
          },
          "metadata": {
            "tags": []
          },
          "execution_count": 86
        }
      ]
    },
    {
      "cell_type": "code",
      "metadata": {
        "id": "hLwg99KlV7tG",
        "colab_type": "code",
        "colab": {
          "base_uri": "https://localhost:8080/",
          "height": 479
        },
        "outputId": "ac8e35cf-d2da-47f3-a211-af3091c67199"
      },
      "source": [
        "ax = (engagment_rates_by_segment_df.unstack()*100.0).plot(\n",
        "    kind='bar',\n",
        "    figsize=(10, 7),\n",
        "    grid=True\n",
        ")\n",
        "ax.set_ylabel('Engagement Rate (%)')\n",
        "ax.set_title('Engagement Rates by Customer Segments')\n",
        "\n",
        "plt.show()"
      ],
      "execution_count": null,
      "outputs": [
        {
          "output_type": "display_data",
          "data": {
            "image/png": "[encoded data removed]",
            "text/plain": [
              "<Figure size 720x504 with 1 Axes>"
            ]
          },
          "metadata": {
            "tags": []
          }
        }
      ]
    },
    {
      "cell_type": "code",
      "metadata": {
        "id": "nHqhF8gGV9Dt",
        "colab_type": "code",
        "colab": {}
      },
      "source": [
        ""
      ],
      "execution_count": null,
      "outputs": []
    }
  ]
}