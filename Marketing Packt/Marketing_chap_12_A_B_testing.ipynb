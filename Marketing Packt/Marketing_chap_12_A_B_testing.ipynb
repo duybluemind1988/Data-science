{
  "nbformat": 4,
  "nbformat_minor": 0,
  "metadata": {
    "colab": {
      "name": "Marketing chap 12 A/B testing.ipynb",
      "provenance": [],
      "collapsed_sections": [],
      "authorship_tag": "ABX9TyMs1N7mDuUcrVLopamwxFIS",
      "include_colab_link": true
    },
    "kernelspec": {
      "name": "python3",
      "display_name": "Python 3"
    }
  },
  "cells": [
    {
      "cell_type": "markdown",
      "metadata": {
        "id": "view-in-github",
        "colab_type": "text"
      },
      "source": [
        "<a href=\"https://colab.research.google.com/github/duybluemind1988/Data-science/blob/master/Marketing_chap_12_A_B_testing.ipynb\" target=\"_parent\"><img src=\"https://colab.research.google.com/assets/colab-badge.svg\" alt=\"Open In Colab\"/></a>"
      ]
    },
    {
      "cell_type": "code",
      "metadata": {
        "id": "pCXO3Uf5UCs7",
        "colab_type": "code",
        "colab": {}
      },
      "source": [
        "# Load basic library\n",
        "import numpy as np\n",
        "import matplotlib.pyplot as plt\n",
        "import pandas as pd\n",
        "from scipy import stats\n",
        "\n",
        "# Load Keras\n",
        "from tensorflow import random\n",
        "import tensorflow as tf\n",
        "from tensorflow import keras\n",
        "from keras.datasets import imdb\n",
        "from keras.preprocessing.text import Tokenizer\n",
        "from keras import models\n",
        "from keras import layers\n",
        "from keras.models import Sequential\n",
        "from keras.layers import Dense\n",
        "from keras import regularizers\n",
        "from keras.callbacks import EarlyStopping, ModelCheckpoint\n",
        "from keras.wrappers.scikit_learn import KerasClassifier\n",
        "from keras.regularizers import l1\n",
        "from keras.regularizers import l2\n",
        "from keras.regularizers import l1_l2\n",
        "from keras.layers import Dropout\n",
        "\n",
        "#Load sklearn\n",
        "from sklearn.preprocessing import StandardScaler\n",
        "from sklearn.preprocessing import OneHotEncoder\n",
        "from sklearn.model_selection import train_test_split\n",
        "from sklearn.model_selection import KFold\n",
        "from sklearn.model_selection import StratifiedKFold\n",
        "from sklearn.model_selection import cross_val_score\n",
        "from sklearn.model_selection import cross_validate\n",
        "from sklearn.model_selection import RandomizedSearchCV\n",
        "from sklearn.model_selection import GridSearchCV\n",
        "from sklearn.pipeline import Pipeline\n",
        "from sklearn.compose import ColumnTransformer\n",
        "from sklearn.utils import shuffle\n",
        "\n",
        "from sklearn.metrics import log_loss \n",
        "from sklearn.metrics import classification_report\n",
        "from sklearn.metrics import confusion_matrix\n",
        "from sklearn.metrics import accuracy_score\n",
        "from sklearn.metrics import recall_score, precision_score\n",
        "from sklearn.metrics import make_scorer\n",
        "from sklearn.metrics import roc_curve, auc\n",
        "from sklearn.metrics import precision_recall_curve\n",
        "from sklearn.metrics import f1_score,balanced_accuracy_score\n",
        "from sklearn.metrics import average_precision_score \n",
        "\n",
        "from sklearn.pipeline import Pipeline\n",
        "from sklearn.decomposition import PCA, NMF\n",
        "\n",
        "#ML normal ML\n",
        "from sklearn.linear_model import LogisticRegression\n",
        "from sklearn.tree import DecisionTreeClassifier\n",
        "from sklearn.neighbors import KNeighborsClassifier\n",
        "from sklearn.discriminant_analysis import LinearDiscriminantAnalysis\n",
        "from sklearn.naive_bayes import GaussianNB\n",
        "from sklearn.svm import SVC\n",
        "\n",
        "#ML ensembles\n",
        "from sklearn.ensemble import AdaBoostClassifier\n",
        "from sklearn.ensemble import GradientBoostingClassifier\n",
        "from sklearn.ensemble import RandomForestClassifier\n",
        "from sklearn.ensemble import ExtraTreesClassifier\n",
        "from sklearn.ensemble import BaggingClassifier\n",
        "from sklearn.ensemble import VotingClassifier\n",
        "from sklearn.ensemble import StackingClassifier\n",
        "\n",
        "#Special\n",
        "import xgboost as xgb\n",
        "from xgboost import XGBClassifier\n",
        "import lightgbm as lgb\n",
        "from lightgbm import LGBMClassifier\n",
        "\n",
        "#Load visual neural:\n",
        "from IPython.display import SVG\n",
        "from keras.utils.vis_utils import model_to_dot\n",
        "from keras.utils import plot_model\n",
        "# import require packages for plotting\n",
        "import matplotlib.pyplot as plt \n",
        "import seaborn as sns\n",
        "sns.set()\n"
      ],
      "execution_count": 36,
      "outputs": []
    },
    {
      "cell_type": "markdown",
      "metadata": {
        "id": "RObHDo5FYJak",
        "colab_type": "text"
      },
      "source": [
        "# Load Data"
      ]
    },
    {
      "cell_type": "code",
      "metadata": {
        "id": "DHoISGiBX34V",
        "colab_type": "code",
        "colab": {
          "base_uri": "https://localhost:8080/",
          "height": 34
        },
        "outputId": "542c76bc-2a6d-41c0-ab16-e5f535196df3"
      },
      "source": [
        "df = pd.read_csv('https://raw.githubusercontent.com/pthiagu2/DataMining/master/WA_Fn-UseC_-Marketing-Campaign-Eff-UseC_-FastF.csv')\n",
        "df.shape"
      ],
      "execution_count": 2,
      "outputs": [
        {
          "output_type": "execute_result",
          "data": {
            "text/plain": [
              "(548, 7)"
            ]
          },
          "metadata": {
            "tags": []
          },
          "execution_count": 2
        }
      ]
    },
    {
      "cell_type": "code",
      "metadata": {
        "id": "USfFSo7UX7re",
        "colab_type": "code",
        "colab": {
          "base_uri": "https://localhost:8080/",
          "height": 514
        },
        "outputId": "d17a5fe0-54f6-43f0-8536-86a04f193bb8"
      },
      "source": [
        "df.head(15)"
      ],
      "execution_count": 3,
      "outputs": [
        {
          "output_type": "execute_result",
          "data": {
            "text/html": [
              "<div>\n",
              "<style scoped>\n",
              "    .dataframe tbody tr th:only-of-type {\n",
              "        vertical-align: middle;\n",
              "    }\n",
              "\n",
              "    .dataframe tbody tr th {\n",
              "        vertical-align: top;\n",
              "    }\n",
              "\n",
              "    .dataframe thead th {\n",
              "        text-align: right;\n",
              "    }\n",
              "</style>\n",
              "<table border=\"1\" class=\"dataframe\">\n",
              "  <thead>\n",
              "    <tr style=\"text-align: right;\">\n",
              "      <th></th>\n",
              "      <th>MarketID</th>\n",
              "      <th>MarketSize</th>\n",
              "      <th>LocationID</th>\n",
              "      <th>AgeOfStore</th>\n",
              "      <th>Promotion</th>\n",
              "      <th>week</th>\n",
              "      <th>SalesInThousands</th>\n",
              "    </tr>\n",
              "  </thead>\n",
              "  <tbody>\n",
              "    <tr>\n",
              "      <th>0</th>\n",
              "      <td>1</td>\n",
              "      <td>Medium</td>\n",
              "      <td>1</td>\n",
              "      <td>4</td>\n",
              "      <td>3</td>\n",
              "      <td>1</td>\n",
              "      <td>33.73</td>\n",
              "    </tr>\n",
              "    <tr>\n",
              "      <th>1</th>\n",
              "      <td>1</td>\n",
              "      <td>Medium</td>\n",
              "      <td>1</td>\n",
              "      <td>4</td>\n",
              "      <td>3</td>\n",
              "      <td>2</td>\n",
              "      <td>35.67</td>\n",
              "    </tr>\n",
              "    <tr>\n",
              "      <th>2</th>\n",
              "      <td>1</td>\n",
              "      <td>Medium</td>\n",
              "      <td>1</td>\n",
              "      <td>4</td>\n",
              "      <td>3</td>\n",
              "      <td>3</td>\n",
              "      <td>29.03</td>\n",
              "    </tr>\n",
              "    <tr>\n",
              "      <th>3</th>\n",
              "      <td>1</td>\n",
              "      <td>Medium</td>\n",
              "      <td>1</td>\n",
              "      <td>4</td>\n",
              "      <td>3</td>\n",
              "      <td>4</td>\n",
              "      <td>39.25</td>\n",
              "    </tr>\n",
              "    <tr>\n",
              "      <th>4</th>\n",
              "      <td>1</td>\n",
              "      <td>Medium</td>\n",
              "      <td>2</td>\n",
              "      <td>5</td>\n",
              "      <td>2</td>\n",
              "      <td>1</td>\n",
              "      <td>27.81</td>\n",
              "    </tr>\n",
              "    <tr>\n",
              "      <th>5</th>\n",
              "      <td>1</td>\n",
              "      <td>Medium</td>\n",
              "      <td>2</td>\n",
              "      <td>5</td>\n",
              "      <td>2</td>\n",
              "      <td>2</td>\n",
              "      <td>34.67</td>\n",
              "    </tr>\n",
              "    <tr>\n",
              "      <th>6</th>\n",
              "      <td>1</td>\n",
              "      <td>Medium</td>\n",
              "      <td>2</td>\n",
              "      <td>5</td>\n",
              "      <td>2</td>\n",
              "      <td>3</td>\n",
              "      <td>27.98</td>\n",
              "    </tr>\n",
              "    <tr>\n",
              "      <th>7</th>\n",
              "      <td>1</td>\n",
              "      <td>Medium</td>\n",
              "      <td>2</td>\n",
              "      <td>5</td>\n",
              "      <td>2</td>\n",
              "      <td>4</td>\n",
              "      <td>27.72</td>\n",
              "    </tr>\n",
              "    <tr>\n",
              "      <th>8</th>\n",
              "      <td>1</td>\n",
              "      <td>Medium</td>\n",
              "      <td>3</td>\n",
              "      <td>12</td>\n",
              "      <td>1</td>\n",
              "      <td>1</td>\n",
              "      <td>44.54</td>\n",
              "    </tr>\n",
              "    <tr>\n",
              "      <th>9</th>\n",
              "      <td>1</td>\n",
              "      <td>Medium</td>\n",
              "      <td>3</td>\n",
              "      <td>12</td>\n",
              "      <td>1</td>\n",
              "      <td>2</td>\n",
              "      <td>37.94</td>\n",
              "    </tr>\n",
              "    <tr>\n",
              "      <th>10</th>\n",
              "      <td>1</td>\n",
              "      <td>Medium</td>\n",
              "      <td>3</td>\n",
              "      <td>12</td>\n",
              "      <td>1</td>\n",
              "      <td>3</td>\n",
              "      <td>45.49</td>\n",
              "    </tr>\n",
              "    <tr>\n",
              "      <th>11</th>\n",
              "      <td>1</td>\n",
              "      <td>Medium</td>\n",
              "      <td>3</td>\n",
              "      <td>12</td>\n",
              "      <td>1</td>\n",
              "      <td>4</td>\n",
              "      <td>34.75</td>\n",
              "    </tr>\n",
              "    <tr>\n",
              "      <th>12</th>\n",
              "      <td>1</td>\n",
              "      <td>Medium</td>\n",
              "      <td>4</td>\n",
              "      <td>1</td>\n",
              "      <td>2</td>\n",
              "      <td>1</td>\n",
              "      <td>39.28</td>\n",
              "    </tr>\n",
              "    <tr>\n",
              "      <th>13</th>\n",
              "      <td>1</td>\n",
              "      <td>Medium</td>\n",
              "      <td>4</td>\n",
              "      <td>1</td>\n",
              "      <td>2</td>\n",
              "      <td>2</td>\n",
              "      <td>39.80</td>\n",
              "    </tr>\n",
              "    <tr>\n",
              "      <th>14</th>\n",
              "      <td>1</td>\n",
              "      <td>Medium</td>\n",
              "      <td>4</td>\n",
              "      <td>1</td>\n",
              "      <td>2</td>\n",
              "      <td>3</td>\n",
              "      <td>24.77</td>\n",
              "    </tr>\n",
              "  </tbody>\n",
              "</table>\n",
              "</div>"
            ],
            "text/plain": [
              "    MarketID MarketSize  LocationID  ...  Promotion  week  SalesInThousands\n",
              "0          1     Medium           1  ...          3     1             33.73\n",
              "1          1     Medium           1  ...          3     2             35.67\n",
              "2          1     Medium           1  ...          3     3             29.03\n",
              "3          1     Medium           1  ...          3     4             39.25\n",
              "4          1     Medium           2  ...          2     1             27.81\n",
              "5          1     Medium           2  ...          2     2             34.67\n",
              "6          1     Medium           2  ...          2     3             27.98\n",
              "7          1     Medium           2  ...          2     4             27.72\n",
              "8          1     Medium           3  ...          1     1             44.54\n",
              "9          1     Medium           3  ...          1     2             37.94\n",
              "10         1     Medium           3  ...          1     3             45.49\n",
              "11         1     Medium           3  ...          1     4             34.75\n",
              "12         1     Medium           4  ...          2     1             39.28\n",
              "13         1     Medium           4  ...          2     2             39.80\n",
              "14         1     Medium           4  ...          2     3             24.77\n",
              "\n",
              "[15 rows x 7 columns]"
            ]
          },
          "metadata": {
            "tags": []
          },
          "execution_count": 3
        }
      ]
    },
    {
      "cell_type": "markdown",
      "metadata": {
        "id": "pbLE6sLrYbzt",
        "colab_type": "text"
      },
      "source": [
        "There are a total of seven variables in the dataset. You can find the descriptions of these\n",
        "variables on the IBM Watson Analytics Community page, but we will reiterate in the\n",
        "following:\n",
        "- MarketID: unique identifier for market\n",
        "- MarketSize: size of market area by sales\n",
        "- LocationID: unique identifier for store location\n",
        "- AgeOfStore: age of store in years\n",
        "- Promotion: one of three promotions that was tested\n",
        "- week: one of four weeks when the promotions were run\n",
        "- SalesInThousands: sales amount for specific LocationID, Promotion, and week"
      ]
    },
    {
      "cell_type": "markdown",
      "metadata": {
        "id": "-DtrmsTEYHSV",
        "colab_type": "text"
      },
      "source": [
        "# Data analysis"
      ]
    },
    {
      "cell_type": "markdown",
      "metadata": {
        "id": "5Ks8qtnPYO--",
        "colab_type": "text"
      },
      "source": [
        "\n",
        "- Total Sales"
      ]
    },
    {
      "cell_type": "code",
      "metadata": {
        "id": "YUcGvcvBYEJv",
        "colab_type": "code",
        "colab": {
          "base_uri": "https://localhost:8080/",
          "height": 170
        },
        "outputId": "0a611dab-94f0-4cbf-c558-57792ca114c8"
      },
      "source": [
        "df['SalesInThousands'].describe()"
      ],
      "execution_count": 4,
      "outputs": [
        {
          "output_type": "execute_result",
          "data": {
            "text/plain": [
              "count    548.000000\n",
              "mean      53.466204\n",
              "std       16.755216\n",
              "min       17.340000\n",
              "25%       42.545000\n",
              "50%       50.200000\n",
              "75%       60.477500\n",
              "max       99.650000\n",
              "Name: SalesInThousands, dtype: float64"
            ]
          },
          "metadata": {
            "tags": []
          },
          "execution_count": 4
        }
      ]
    },
    {
      "cell_type": "code",
      "metadata": {
        "id": "tjDeHRtaYL8c",
        "colab_type": "code",
        "colab": {
          "base_uri": "https://localhost:8080/",
          "height": 427
        },
        "outputId": "1c571551-9865-401c-ef46-9f1f0fa6f2c9"
      },
      "source": [
        "ax = df.groupby(\n",
        "    'Promotion'\n",
        ").sum()[\n",
        "    'SalesInThousands'\n",
        "].plot.pie(\n",
        "    figsize=(7, 7),\n",
        "    autopct='%1.0f%%'\n",
        ")\n",
        "\n",
        "ax.set_ylabel('')\n",
        "ax.set_title('sales distribution across different promotions')\n",
        "\n",
        "plt.show()"
      ],
      "execution_count": 5,
      "outputs": [
        {
          "output_type": "display_data",
          "data": {
            "image/png": "[encoded data removed]",
            "text/plain": [
              "<Figure size 504x504 with 1 Axes>"
            ]
          },
          "metadata": {
            "tags": []
          }
        }
      ]
    },
    {
      "cell_type": "code",
      "metadata": {
        "id": "TiCl68qKYSix",
        "colab_type": "code",
        "colab": {
          "base_uri": "https://localhost:8080/",
          "height": 85
        },
        "outputId": "33fdac9f-447e-437a-af8a-a51ce4a09cc1"
      },
      "source": [
        "df.Promotion.value_counts(normalize=True)"
      ],
      "execution_count": 7,
      "outputs": [
        {
          "output_type": "execute_result",
          "data": {
            "text/plain": [
              "3    0.343066\n",
              "2    0.343066\n",
              "1    0.313869\n",
              "Name: Promotion, dtype: float64"
            ]
          },
          "metadata": {
            "tags": []
          },
          "execution_count": 7
        }
      ]
    },
    {
      "cell_type": "markdown",
      "metadata": {
        "id": "UrMMLx4kZJI6",
        "colab_type": "text"
      },
      "source": [
        "- Market Size"
      ]
    },
    {
      "cell_type": "code",
      "metadata": {
        "id": "46z7UabOY6s0",
        "colab_type": "code",
        "colab": {
          "base_uri": "https://localhost:8080/",
          "height": 102
        },
        "outputId": "5a5a61a2-1b17-4ae5-b241-bae7d7796ce6"
      },
      "source": [
        "df.groupby('MarketSize').count()['MarketID']"
      ],
      "execution_count": 8,
      "outputs": [
        {
          "output_type": "execute_result",
          "data": {
            "text/plain": [
              "MarketSize\n",
              "Large     168\n",
              "Medium    320\n",
              "Small      60\n",
              "Name: MarketID, dtype: int64"
            ]
          },
          "metadata": {
            "tags": []
          },
          "execution_count": 8
        }
      ]
    },
    {
      "cell_type": "code",
      "metadata": {
        "id": "WsHaia01ZLZQ",
        "colab_type": "code",
        "colab": {
          "base_uri": "https://localhost:8080/",
          "height": 624
        },
        "outputId": "74308ad0-ec75-4bc7-bc48-a90da5b8c6d3"
      },
      "source": [
        "ax = df.groupby([\n",
        "    'Promotion', 'MarketSize'\n",
        "]).count()[\n",
        "    'MarketID'\n",
        "].unstack(\n",
        "    'MarketSize'\n",
        ").plot(\n",
        "    kind='bar',\n",
        "    figsize=(12,10),\n",
        "    grid=True,\n",
        ")\n",
        "\n",
        "ax.set_ylabel('count')\n",
        "ax.set_title('breakdowns of market sizes across different promotions')\n",
        "\n",
        "plt.show()"
      ],
      "execution_count": 9,
      "outputs": [
        {
          "output_type": "display_data",
          "data": {
            "image/png": "[encoded data removed]",
            "text/plain": [
              "<Figure size 864x720 with 1 Axes>"
            ]
          },
          "metadata": {
            "tags": [],
            "needs_background": "light"
          }
        }
      ]
    },
    {
      "cell_type": "code",
      "metadata": {
        "id": "FHLsecdycqyg",
        "colab_type": "code",
        "colab": {
          "base_uri": "https://localhost:8080/",
          "height": 173
        },
        "outputId": "a4d4e709-4276-4805-d9f5-3cfe1670feee"
      },
      "source": [
        "ax = df.groupby([\n",
        "    'Promotion', 'MarketSize'\n",
        "]).count()[\n",
        "    'MarketID'\n",
        "].unstack(\n",
        "    'Promotion'\n",
        ")\n",
        "ax"
      ],
      "execution_count": null,
      "outputs": [
        {
          "output_type": "execute_result",
          "data": {
            "text/html": [
              "<div>\n",
              "<style scoped>\n",
              "    .dataframe tbody tr th:only-of-type {\n",
              "        vertical-align: middle;\n",
              "    }\n",
              "\n",
              "    .dataframe tbody tr th {\n",
              "        vertical-align: top;\n",
              "    }\n",
              "\n",
              "    .dataframe thead th {\n",
              "        text-align: right;\n",
              "    }\n",
              "</style>\n",
              "<table border=\"1\" class=\"dataframe\">\n",
              "  <thead>\n",
              "    <tr style=\"text-align: right;\">\n",
              "      <th>Promotion</th>\n",
              "      <th>1</th>\n",
              "      <th>2</th>\n",
              "      <th>3</th>\n",
              "    </tr>\n",
              "    <tr>\n",
              "      <th>MarketSize</th>\n",
              "      <th></th>\n",
              "      <th></th>\n",
              "      <th></th>\n",
              "    </tr>\n",
              "  </thead>\n",
              "  <tbody>\n",
              "    <tr>\n",
              "      <th>Large</th>\n",
              "      <td>56</td>\n",
              "      <td>64</td>\n",
              "      <td>48</td>\n",
              "    </tr>\n",
              "    <tr>\n",
              "      <th>Medium</th>\n",
              "      <td>96</td>\n",
              "      <td>108</td>\n",
              "      <td>116</td>\n",
              "    </tr>\n",
              "    <tr>\n",
              "      <th>Small</th>\n",
              "      <td>20</td>\n",
              "      <td>16</td>\n",
              "      <td>24</td>\n",
              "    </tr>\n",
              "  </tbody>\n",
              "</table>\n",
              "</div>"
            ],
            "text/plain": [
              "Promotion    1    2    3\n",
              "MarketSize              \n",
              "Large       56   64   48\n",
              "Medium      96  108  116\n",
              "Small       20   16   24"
            ]
          },
          "metadata": {
            "tags": []
          },
          "execution_count": 25
        }
      ]
    },
    {
      "cell_type": "code",
      "metadata": {
        "id": "LDy_o-YDaQtv",
        "colab_type": "code",
        "colab": {
          "base_uri": "https://localhost:8080/",
          "height": 624
        },
        "outputId": "d8fbd22a-d9ea-4c4c-ab8b-116781adb7c3"
      },
      "source": [
        "\n",
        "ax = df.groupby([\n",
        "    'Promotion', 'MarketSize'\n",
        "]).sum()[\n",
        "    'SalesInThousands'\n",
        "].unstack(\n",
        "    'MarketSize'\n",
        ").plot(\n",
        "    kind='bar',\n",
        "    figsize=(12,10),\n",
        "    grid=True,\n",
        "    stacked=True\n",
        ")\n",
        "\n",
        "ax.set_ylabel('Sales (in Thousands)')\n",
        "ax.set_title('breakdowns of market sizes across different promotions')\n",
        "\n",
        "plt.show()"
      ],
      "execution_count": 10,
      "outputs": [
        {
          "output_type": "display_data",
          "data": {
            "image/png": "[encoded data removed]",
            "text/plain": [
              "<Figure size 864x720 with 1 Axes>"
            ]
          },
          "metadata": {
            "tags": [],
            "needs_background": "light"
          }
        }
      ]
    },
    {
      "cell_type": "code",
      "metadata": {
        "id": "Ar5imvpfctup",
        "colab_type": "code",
        "colab": {
          "base_uri": "https://localhost:8080/",
          "height": 173
        },
        "outputId": "f4344036-eb70-40ae-e279-2327740ff4db"
      },
      "source": [
        "ax = df.groupby([\n",
        "    'Promotion', 'MarketSize'\n",
        "]).sum()[\n",
        "    'SalesInThousands'\n",
        "].unstack(\n",
        "    'MarketSize'\n",
        ")\n",
        "ax"
      ],
      "execution_count": 23,
      "outputs": [
        {
          "output_type": "execute_result",
          "data": {
            "text/html": [
              "<div>\n",
              "<style scoped>\n",
              "    .dataframe tbody tr th:only-of-type {\n",
              "        vertical-align: middle;\n",
              "    }\n",
              "\n",
              "    .dataframe tbody tr th {\n",
              "        vertical-align: top;\n",
              "    }\n",
              "\n",
              "    .dataframe thead th {\n",
              "        text-align: right;\n",
              "    }\n",
              "</style>\n",
              "<table border=\"1\" class=\"dataframe\">\n",
              "  <thead>\n",
              "    <tr style=\"text-align: right;\">\n",
              "      <th>MarketSize</th>\n",
              "      <th>Large</th>\n",
              "      <th>Medium</th>\n",
              "      <th>Small</th>\n",
              "    </tr>\n",
              "    <tr>\n",
              "      <th>Promotion</th>\n",
              "      <th></th>\n",
              "      <th></th>\n",
              "      <th></th>\n",
              "    </tr>\n",
              "  </thead>\n",
              "  <tbody>\n",
              "    <tr>\n",
              "      <th>1</th>\n",
              "      <td>4213.21</td>\n",
              "      <td>4576.57</td>\n",
              "      <td>1203.25</td>\n",
              "    </tr>\n",
              "    <tr>\n",
              "      <th>2</th>\n",
              "      <td>3860.61</td>\n",
              "      <td>4224.35</td>\n",
              "      <td>812.97</td>\n",
              "    </tr>\n",
              "    <tr>\n",
              "      <th>3</th>\n",
              "      <td>3705.79</td>\n",
              "      <td>5274.39</td>\n",
              "      <td>1428.34</td>\n",
              "    </tr>\n",
              "  </tbody>\n",
              "</table>\n",
              "</div>"
            ],
            "text/plain": [
              "MarketSize    Large   Medium    Small\n",
              "Promotion                            \n",
              "1           4213.21  4576.57  1203.25\n",
              "2           3860.61  4224.35   812.97\n",
              "3           3705.79  5274.39  1428.34"
            ]
          },
          "metadata": {
            "tags": []
          },
          "execution_count": 23
        }
      ]
    },
    {
      "cell_type": "markdown",
      "metadata": {
        "id": "hi6-pMO4azny",
        "colab_type": "text"
      },
      "source": [
        "As you can see from this bar chart, the medium market size occupies the most among all\n",
        "three promotion groups, while the small market size occupies the least. We can verify that\n",
        "the compositions of different market sizes are similar among the three promotion groups\n",
        "from this plot."
      ]
    },
    {
      "cell_type": "markdown",
      "metadata": {
        "id": "SQFulufUa-75",
        "colab_type": "text"
      },
      "source": [
        "- Store Age"
      ]
    },
    {
      "cell_type": "code",
      "metadata": {
        "id": "nZUa6LAcadGQ",
        "colab_type": "code",
        "colab": {
          "base_uri": "https://localhost:8080/",
          "height": 170
        },
        "outputId": "0a848779-3e9a-4ea1-a128-0410f30029b6"
      },
      "source": [
        "df['AgeOfStore'].describe()"
      ],
      "execution_count": 11,
      "outputs": [
        {
          "output_type": "execute_result",
          "data": {
            "text/plain": [
              "count    548.000000\n",
              "mean       8.503650\n",
              "std        6.638345\n",
              "min        1.000000\n",
              "25%        4.000000\n",
              "50%        7.000000\n",
              "75%       12.000000\n",
              "max       28.000000\n",
              "Name: AgeOfStore, dtype: float64"
            ]
          },
          "metadata": {
            "tags": []
          },
          "execution_count": 11
        }
      ]
    },
    {
      "cell_type": "code",
      "metadata": {
        "id": "XrQe-JNcbAH6",
        "colab_type": "code",
        "colab": {
          "base_uri": "https://localhost:8080/",
          "height": 468
        },
        "outputId": "e34f0e0f-3909-4e98-ad08-9b7eb2f637d4"
      },
      "source": [
        "ax = df.groupby(\n",
        "    'AgeOfStore'\n",
        ").count()[\n",
        "    'MarketID'\n",
        "].plot(\n",
        "    kind='bar', \n",
        "    color='skyblue',\n",
        "    figsize=(10,7),\n",
        "    grid=True\n",
        ")\n",
        "\n",
        "ax.set_xlabel('age')\n",
        "ax.set_ylabel('count')\n",
        "ax.set_title('overall distributions of age of store')\n",
        "\n",
        "plt.show()"
      ],
      "execution_count": 12,
      "outputs": [
        {
          "output_type": "display_data",
          "data": {
            "image/png": "[encoded data removed]",
            "text/plain": [
              "<Figure size 720x504 with 1 Axes>"
            ]
          },
          "metadata": {
            "tags": [],
            "needs_background": "light"
          }
        }
      ]
    },
    {
      "cell_type": "markdown",
      "metadata": {
        "id": "Mt8msqPxbkh9",
        "colab_type": "text"
      },
      "source": [
        "As you can see from this plot, a large number of stores are 1 year old and the majority of\n",
        "stores are 10 years old or less. However, what we are more interested in is whether the\n",
        "stores in the three different promotion groups have similar store age profiles. Take a look at\n",
        "the following code:"
      ]
    },
    {
      "cell_type": "code",
      "metadata": {
        "id": "GG-mVSQIbBX8",
        "colab_type": "code",
        "colab": {
          "base_uri": "https://localhost:8080/",
          "height": 899
        },
        "outputId": "bb0ca6d4-3ef3-4a43-9009-d159c48de082"
      },
      "source": [
        "ax = df.groupby(\n",
        "    ['AgeOfStore', 'Promotion']\n",
        ").count()[\n",
        "    'MarketID'\n",
        "].unstack(\n",
        "    'Promotion'\n",
        ").iloc[::-1].plot(\n",
        "    kind='barh', \n",
        "    figsize=(12,15),\n",
        "    grid=True\n",
        ")\n",
        "\n",
        "ax.set_ylabel('age')\n",
        "ax.set_xlabel('count')\n",
        "ax.set_title('overall distributions of age of store')\n",
        "\n",
        "plt.show()"
      ],
      "execution_count": 13,
      "outputs": [
        {
          "output_type": "display_data",
          "data": {
            "image/png": "[encoded data removed]",
            "text/plain": [
              "<Figure size 864x1080 with 1 Axes>"
            ]
          },
          "metadata": {
            "tags": [],
            "needs_background": "light"
          }
        }
      ]
    },
    {
      "cell_type": "markdown",
      "metadata": {
        "id": "DgQ_bnepb6Vz",
        "colab_type": "text"
      },
      "source": [
        "The store age distributions across the three different promotion groups seem to align with\n",
        "each other, but it is quite difficult to digest the information presented from this plot. It will\n",
        "be easier to look at the summary statistics of store ages across the three promotion groups.\n",
        "Take a look at the following code:"
      ]
    },
    {
      "cell_type": "code",
      "metadata": {
        "id": "iSKuiMtAdb6C",
        "colab_type": "code",
        "colab": {
          "base_uri": "https://localhost:8080/",
          "height": 102
        },
        "outputId": "e41e3c65-b740-4676-eec1-bb37c8a542b3"
      },
      "source": [
        "df.groupby('Promotion')['AgeOfStore'].count()"
      ],
      "execution_count": 28,
      "outputs": [
        {
          "output_type": "execute_result",
          "data": {
            "text/plain": [
              "Promotion\n",
              "1    172\n",
              "2    188\n",
              "3    188\n",
              "Name: AgeOfStore, dtype: int64"
            ]
          },
          "metadata": {
            "tags": []
          },
          "execution_count": 28
        }
      ]
    },
    {
      "cell_type": "code",
      "metadata": {
        "id": "s_OJTNRPbmiI",
        "colab_type": "code",
        "colab": {
          "base_uri": "https://localhost:8080/",
          "height": 173
        },
        "outputId": "dda598d2-a109-4327-9d62-dd1cb63500f1"
      },
      "source": [
        "df.groupby('Promotion').describe()['AgeOfStore']"
      ],
      "execution_count": 14,
      "outputs": [
        {
          "output_type": "execute_result",
          "data": {
            "text/html": [
              "<div>\n",
              "<style scoped>\n",
              "    .dataframe tbody tr th:only-of-type {\n",
              "        vertical-align: middle;\n",
              "    }\n",
              "\n",
              "    .dataframe tbody tr th {\n",
              "        vertical-align: top;\n",
              "    }\n",
              "\n",
              "    .dataframe thead th {\n",
              "        text-align: right;\n",
              "    }\n",
              "</style>\n",
              "<table border=\"1\" class=\"dataframe\">\n",
              "  <thead>\n",
              "    <tr style=\"text-align: right;\">\n",
              "      <th></th>\n",
              "      <th>count</th>\n",
              "      <th>mean</th>\n",
              "      <th>std</th>\n",
              "      <th>min</th>\n",
              "      <th>25%</th>\n",
              "      <th>50%</th>\n",
              "      <th>75%</th>\n",
              "      <th>max</th>\n",
              "    </tr>\n",
              "    <tr>\n",
              "      <th>Promotion</th>\n",
              "      <th></th>\n",
              "      <th></th>\n",
              "      <th></th>\n",
              "      <th></th>\n",
              "      <th></th>\n",
              "      <th></th>\n",
              "      <th></th>\n",
              "      <th></th>\n",
              "    </tr>\n",
              "  </thead>\n",
              "  <tbody>\n",
              "    <tr>\n",
              "      <th>1</th>\n",
              "      <td>172.0</td>\n",
              "      <td>8.279070</td>\n",
              "      <td>6.636160</td>\n",
              "      <td>1.0</td>\n",
              "      <td>3.0</td>\n",
              "      <td>6.0</td>\n",
              "      <td>12.0</td>\n",
              "      <td>27.0</td>\n",
              "    </tr>\n",
              "    <tr>\n",
              "      <th>2</th>\n",
              "      <td>188.0</td>\n",
              "      <td>7.978723</td>\n",
              "      <td>6.597648</td>\n",
              "      <td>1.0</td>\n",
              "      <td>3.0</td>\n",
              "      <td>7.0</td>\n",
              "      <td>10.0</td>\n",
              "      <td>28.0</td>\n",
              "    </tr>\n",
              "    <tr>\n",
              "      <th>3</th>\n",
              "      <td>188.0</td>\n",
              "      <td>9.234043</td>\n",
              "      <td>6.651646</td>\n",
              "      <td>1.0</td>\n",
              "      <td>5.0</td>\n",
              "      <td>8.0</td>\n",
              "      <td>12.0</td>\n",
              "      <td>24.0</td>\n",
              "    </tr>\n",
              "  </tbody>\n",
              "</table>\n",
              "</div>"
            ],
            "text/plain": [
              "           count      mean       std  min  25%  50%   75%   max\n",
              "Promotion                                                      \n",
              "1          172.0  8.279070  6.636160  1.0  3.0  6.0  12.0  27.0\n",
              "2          188.0  7.978723  6.597648  1.0  3.0  7.0  10.0  28.0\n",
              "3          188.0  9.234043  6.651646  1.0  5.0  8.0  12.0  24.0"
            ]
          },
          "metadata": {
            "tags": []
          },
          "execution_count": 14
        }
      ]
    },
    {
      "cell_type": "markdown",
      "metadata": {
        "id": "s8hv9S_mpdim",
        "colab_type": "text"
      },
      "source": [
        "As you may notice from this output, it is much easier to understand the overall store age\n",
        "distributions from these summary statistics. We can see that all three test groups seem to\n",
        "have similar store age profiles. The average ages of stores for the three groups are 8–9 years\n",
        "old and the majority of the stores are 10–12 years old or younger.\n",
        "\n",
        "By analyzing how each promotion or test group is comprised, we could verify that the store\n",
        "profiles are similar to each other. This suggests that the sample groups are well controlled\n",
        "and the A/B testing results will be meaningful and trustworthy."
      ]
    },
    {
      "cell_type": "markdown",
      "metadata": {
        "id": "05Ntce2epVb_",
        "colab_type": "text"
      },
      "source": [
        "- Week Number"
      ]
    },
    {
      "cell_type": "code",
      "metadata": {
        "id": "aSd1_virb8NF",
        "colab_type": "code",
        "colab": {
          "base_uri": "https://localhost:8080/",
          "height": 119
        },
        "outputId": "37177da3-69c5-42de-a593-6e430953dfb0"
      },
      "source": [
        "df.groupby('week').count()['MarketID']"
      ],
      "execution_count": 32,
      "outputs": [
        {
          "output_type": "execute_result",
          "data": {
            "text/plain": [
              "week\n",
              "1    137\n",
              "2    137\n",
              "3    137\n",
              "4    137\n",
              "Name: MarketID, dtype: int64"
            ]
          },
          "metadata": {
            "tags": []
          },
          "execution_count": 32
        }
      ]
    },
    {
      "cell_type": "code",
      "metadata": {
        "id": "JJWxrR8RqCH3",
        "colab_type": "code",
        "colab": {
          "base_uri": "https://localhost:8080/",
          "height": 255
        },
        "outputId": "6b908540-aa14-4bb9-828b-22d886c0d062"
      },
      "source": [
        "\n",
        "df.groupby(['Promotion', 'week']).count()['MarketID']"
      ],
      "execution_count": 33,
      "outputs": [
        {
          "output_type": "execute_result",
          "data": {
            "text/plain": [
              "Promotion  week\n",
              "1          1       43\n",
              "           2       43\n",
              "           3       43\n",
              "           4       43\n",
              "2          1       47\n",
              "           2       47\n",
              "           3       47\n",
              "           4       47\n",
              "3          1       47\n",
              "           2       47\n",
              "           3       47\n",
              "           4       47\n",
              "Name: MarketID, dtype: int64"
            ]
          },
          "metadata": {
            "tags": []
          },
          "execution_count": 33
        }
      ]
    },
    {
      "cell_type": "code",
      "metadata": {
        "id": "r7H6NqKBqJwA",
        "colab_type": "code",
        "colab": {
          "base_uri": "https://localhost:8080/",
          "height": 263
        },
        "outputId": "082344aa-49be-47ab-bd9e-6bc6d3501b63"
      },
      "source": [
        "ax1, ax2, ax3 = df.groupby(\n",
        "    ['week', 'Promotion']\n",
        ").count()[\n",
        "    'MarketID'\n",
        "].unstack('Promotion').plot.pie(\n",
        "    subplots=True,\n",
        "    figsize=(24, 8),\n",
        "    autopct='%1.0f%%'\n",
        ")\n",
        "\n",
        "ax1.set_ylabel('Promotion #1')\n",
        "ax2.set_ylabel('Promotion #2')\n",
        "ax3.set_ylabel('Promotion #3')\n",
        "\n",
        "ax1.set_xlabel('distribution across different weeks')\n",
        "ax2.set_xlabel('distribution across different weeks')\n",
        "ax3.set_xlabel('distribution across different weeks')\n",
        "\n",
        "plt.show()"
      ],
      "execution_count": 35,
      "outputs": [
        {
          "output_type": "display_data",
          "data": {
            "image/png": "[encoded data removed]",
            "text/plain": [
              "<Figure size 1728x576 with 3 Axes>"
            ]
          },
          "metadata": {
            "tags": []
          }
        }
      ]
    },
    {
      "cell_type": "markdown",
      "metadata": {
        "id": "u1GcvqbAqXFa",
        "colab_type": "text"
      },
      "source": [
        "# Statistical Significance"
      ]
    },
    {
      "cell_type": "markdown",
      "metadata": {
        "id": "UvH1Kss3qgOQ",
        "colab_type": "text"
      },
      "source": [
        "## t test"
      ]
    },
    {
      "cell_type": "markdown",
      "metadata": {
        "id": "BTNkygZeqzuY",
        "colab_type": "text"
      },
      "source": [
        "Computing t-value and p-value from the equations: The first approach is to\n",
        "manually calculate the t-value using the equation we have learned in the\n",
        "previous section. As you may recall, there are three things we need to compute to\n",
        "get the t-value—the mean, the standard deviation, and the number of samples.\n",
        "Take a look at the following code:"
      ]
    },
    {
      "cell_type": "code",
      "metadata": {
        "id": "HG-T0UocqMcS",
        "colab_type": "code",
        "colab": {
          "base_uri": "https://localhost:8080/",
          "height": 102
        },
        "outputId": "0a106ff6-dd02-4f61-e5f7-b301712def05"
      },
      "source": [
        "means = df.groupby('Promotion').mean()['SalesInThousands']\n",
        "means"
      ],
      "execution_count": 37,
      "outputs": [
        {
          "output_type": "execute_result",
          "data": {
            "text/plain": [
              "Promotion\n",
              "1    58.099012\n",
              "2    47.329415\n",
              "3    55.364468\n",
              "Name: SalesInThousands, dtype: float64"
            ]
          },
          "metadata": {
            "tags": []
          },
          "execution_count": 37
        }
      ]
    },
    {
      "cell_type": "code",
      "metadata": {
        "id": "s91JxA7mqiWb",
        "colab_type": "code",
        "colab": {
          "base_uri": "https://localhost:8080/",
          "height": 102
        },
        "outputId": "2995bb93-9d67-4bae-f06c-2010b57629e4"
      },
      "source": [
        "stds = df.groupby('Promotion').std()['SalesInThousands']\n",
        "stds"
      ],
      "execution_count": 38,
      "outputs": [
        {
          "output_type": "execute_result",
          "data": {
            "text/plain": [
              "Promotion\n",
              "1    16.553782\n",
              "2    15.108955\n",
              "3    16.766231\n",
              "Name: SalesInThousands, dtype: float64"
            ]
          },
          "metadata": {
            "tags": []
          },
          "execution_count": 38
        }
      ]
    },
    {
      "cell_type": "code",
      "metadata": {
        "id": "gU0GMt6mqm3g",
        "colab_type": "code",
        "colab": {
          "base_uri": "https://localhost:8080/",
          "height": 102
        },
        "outputId": "a1c3860b-17e5-484d-9c9d-c58c58ad704d"
      },
      "source": [
        "ns = df.groupby('Promotion').count()['SalesInThousands']\n",
        "ns"
      ],
      "execution_count": 39,
      "outputs": [
        {
          "output_type": "execute_result",
          "data": {
            "text/plain": [
              "Promotion\n",
              "1    172\n",
              "2    188\n",
              "3    188\n",
              "Name: SalesInThousands, dtype: int64"
            ]
          },
          "metadata": {
            "tags": []
          },
          "execution_count": 39
        }
      ]
    },
    {
      "cell_type": "markdown",
      "metadata": {
        "id": "Ng5V_iIRqq03",
        "colab_type": "text"
      },
      "source": [
        "\n",
        "- Promotion 1 vs. 2"
      ]
    },
    {
      "cell_type": "code",
      "metadata": {
        "id": "HnbovGVEqnxt",
        "colab_type": "code",
        "colab": {
          "base_uri": "https://localhost:8080/",
          "height": 34
        },
        "outputId": "f7055e7e-312e-4b42-e9b9-a1a06fd53c44"
      },
      "source": [
        "t_1_vs_2 = (\n",
        "    means.iloc[0] - means.iloc[1]\n",
        ")/ np.sqrt(\n",
        "    (stds.iloc[0]**2/ns.iloc[0]) + (stds.iloc[1]**2/ns.iloc[1])\n",
        ")\n",
        "t_1_vs_2"
      ],
      "execution_count": 43,
      "outputs": [
        {
          "output_type": "execute_result",
          "data": {
            "text/plain": [
              "6.427528670907475"
            ]
          },
          "metadata": {
            "tags": []
          },
          "execution_count": 43
        }
      ]
    },
    {
      "cell_type": "code",
      "metadata": {
        "id": "c2OAsEyZquBf",
        "colab_type": "code",
        "colab": {
          "base_uri": "https://localhost:8080/",
          "height": 34
        },
        "outputId": "49aabaf1-62d9-4907-ec4a-862f9676f6da"
      },
      "source": [
        "df_1_vs_1 = ns.iloc[0] + ns.iloc[1] - 2\n",
        "p_1_vs_2 = (1 - stats.t.cdf(t_1_vs_2, df=df_1_vs_1))*2\n",
        "\n",
        "p_1_vs_2"
      ],
      "execution_count": 44,
      "outputs": [
        {
          "output_type": "execute_result",
          "data": {
            "text/plain": [
              "4.143296816749853e-10"
            ]
          },
          "metadata": {
            "tags": []
          },
          "execution_count": 44
        }
      ]
    },
    {
      "cell_type": "markdown",
      "metadata": {
        "id": "UQF_JKE3rCPL",
        "colab_type": "text"
      },
      "source": [
        "As discussed\n",
        "earlier, a p-value closer to 0 suggests that there is a strong evidence against the\n",
        "null hypothesis and that the difference between the two test groups is significant.\n",
        "The average sales (in thousands) for promotion group 1 is about 58.1, and for\n",
        "promotion group 2 it's about 47.33. From our t-test, we have shown that the\n",
        "marketing performances for these two groups are significantly different and that\n",
        "promotion group 1 outperforms promotion group 2. However, if we run a t-test\n",
        "between the promotion group 1 and promotion group 3, we see different results."
      ]
    },
    {
      "cell_type": "markdown",
      "metadata": {
        "id": "RKiBkqAqragy",
        "colab_type": "text"
      },
      "source": [
        "- Promotion 1 vs. 3"
      ]
    },
    {
      "cell_type": "code",
      "metadata": {
        "id": "9lr3kLdlqu-y",
        "colab_type": "code",
        "colab": {}
      },
      "source": [
        "t_1_vs_3 = (\n",
        "    means.iloc[0] - means.iloc[2]\n",
        ")/ np.sqrt(\n",
        "    (stds.iloc[0]**2/ns.iloc[0]) + (stds.iloc[2]**2/ns.iloc[2])\n",
        ")\n",
        "\n",
        "df_1_vs_3 = ns.iloc[0] + ns.iloc[1] - 2\n",
        "\n",
        "p_1_vs_3 = (1 - stats.t.cdf(t_1_vs_3, df=df_1_vs_3))*2"
      ],
      "execution_count": 45,
      "outputs": []
    },
    {
      "cell_type": "code",
      "metadata": {
        "id": "ueb36a_Drb5V",
        "colab_type": "code",
        "colab": {
          "base_uri": "https://localhost:8080/",
          "height": 34
        },
        "outputId": "621020a3-43fe-4a24-bb40-5fbb60a8f126"
      },
      "source": [
        "t_1_vs_3"
      ],
      "execution_count": 46,
      "outputs": [
        {
          "output_type": "execute_result",
          "data": {
            "text/plain": [
              "1.5560224307759116"
            ]
          },
          "metadata": {
            "tags": []
          },
          "execution_count": 46
        }
      ]
    },
    {
      "cell_type": "code",
      "metadata": {
        "id": "i8JHGBjirc6w",
        "colab_type": "code",
        "colab": {
          "base_uri": "https://localhost:8080/",
          "height": 34
        },
        "outputId": "0272d7f2-c6c3-40f2-bdb7-818aa372a163"
      },
      "source": [
        "p_1_vs_3"
      ],
      "execution_count": 47,
      "outputs": [
        {
          "output_type": "execute_result",
          "data": {
            "text/plain": [
              "0.12058631176433687"
            ]
          },
          "metadata": {
            "tags": []
          },
          "execution_count": 47
        }
      ]
    },
    {
      "cell_type": "markdown",
      "metadata": {
        "id": "hMR-x_CRrh4S",
        "colab_type": "text"
      },
      "source": [
        "On the surface, the average sales from promotion group 1 (58.1) looks higher\n",
        "than those from promotion group 2 (55.36). However, when we run a t-test\n",
        "between these two groups, we get a t-value of 1.556 and a p-value of 0.121. The\n",
        "computed p-value is much higher than 0.05, which is a generally accepted cutoff line. This suggests that the marketing performance from promotion group 1 is\n",
        "not statistically different from the marketing performance from promotion group 2 . Thus, even though promotion group 1's average sales number is higher than\n",
        "the promotion group 2's from the A/B test, the difference is not statistically\n",
        "significant and we cannot conclude that promotion group 1 performs much better\n",
        "than promotion group 2. From these evaluation results, we can conclude that\n",
        "promotion groups 1 and 3 outperform promotion group 2, but the difference\n",
        "between promotion groups 1 and 3 is not statistically significant."
      ]
    },
    {
      "cell_type": "markdown",
      "metadata": {
        "id": "qNopP4-Grn9N",
        "colab_type": "text"
      },
      "source": [
        "\n",
        "## using scipy"
      ]
    },
    {
      "cell_type": "code",
      "metadata": {
        "id": "eKf2x1BkreGP",
        "colab_type": "code",
        "colab": {
          "base_uri": "https://localhost:8080/",
          "height": 51
        },
        "outputId": "bc1834bb-fc97-4875-a2ab-3db918a70df5"
      },
      "source": [
        "t, p = stats.ttest_ind(\n",
        "    df.loc[df['Promotion'] == 1, 'SalesInThousands'].values, \n",
        "    df.loc[df['Promotion'] == 2, 'SalesInThousands'].values, \n",
        "    equal_var=False\n",
        ")\n",
        "print('t',t)\n",
        "print('p',p)"
      ],
      "execution_count": 48,
      "outputs": [
        {
          "output_type": "stream",
          "text": [
            "t 6.42752867090748\n",
            "p 4.2903687179871785e-10\n"
          ],
          "name": "stdout"
        }
      ]
    },
    {
      "cell_type": "code",
      "metadata": {
        "id": "T0YSElDort1S",
        "colab_type": "code",
        "colab": {
          "base_uri": "https://localhost:8080/",
          "height": 51
        },
        "outputId": "c20be8b0-14a0-4e3b-c9b0-507c8dc4173b"
      },
      "source": [
        "t, p = stats.ttest_ind(\n",
        "    df.loc[df['Promotion'] == 1, 'SalesInThousands'].values, \n",
        "    df.loc[df['Promotion'] == 3, 'SalesInThousands'].values, \n",
        "    equal_var=False\n",
        ")\n",
        "print('t',t)\n",
        "print('p',p)"
      ],
      "execution_count": 49,
      "outputs": [
        {
          "output_type": "stream",
          "text": [
            "t 1.5560224307758634\n",
            "p 0.12059147742229478\n"
          ],
          "name": "stdout"
        }
      ]
    },
    {
      "cell_type": "code",
      "metadata": {
        "id": "CPCgw39rrw8v",
        "colab_type": "code",
        "colab": {
          "base_uri": "https://localhost:8080/",
          "height": 51
        },
        "outputId": "35607061-6b9e-42b1-829c-71036c2fbac1"
      },
      "source": [
        "t, p = stats.ttest_ind(\n",
        "    df.loc[df['Promotion'] == 2, 'SalesInThousands'].values, \n",
        "    df.loc[df['Promotion'] == 3, 'SalesInThousands'].values, \n",
        "    equal_var=False\n",
        ")\n",
        "print('t',t)\n",
        "print('p',p)"
      ],
      "execution_count": 50,
      "outputs": [
        {
          "output_type": "stream",
          "text": [
            "t -4.88139271089348\n",
            "p 1.5692733176039892e-06\n"
          ],
          "name": "stdout"
        }
      ]
    },
    {
      "cell_type": "code",
      "metadata": {
        "id": "MoslRSpbryoN",
        "colab_type": "code",
        "colab": {}
      },
      "source": [
        ""
      ],
      "execution_count": null,
      "outputs": []
    }
  ]
}