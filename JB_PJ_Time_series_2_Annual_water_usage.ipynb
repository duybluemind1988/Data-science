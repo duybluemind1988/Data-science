{
  "nbformat": 4,
  "nbformat_minor": 0,
  "metadata": {
    "colab": {
      "name": "JB PJ Time series 2: Annual water usage.ipynb",
      "provenance": [],
      "collapsed_sections": [],
      "authorship_tag": "ABX9TyMXyxno6cqFTxJxheTWvC3N",
      "include_colab_link": true
    },
    "kernelspec": {
      "name": "python3",
      "display_name": "Python 3"
    }
  },
  "cells": [
    {
      "cell_type": "markdown",
      "metadata": {
        "id": "view-in-github",
        "colab_type": "text"
      },
      "source": [
        "<a href=\"https://colab.research.google.com/github/duybluemind1988/Data-science/blob/master/JB_PJ_Time_series_2_Annual_water_usage.ipynb\" target=\"_parent\"><img src=\"https://colab.research.google.com/assets/colab-badge.svg\" alt=\"Open In Colab\"/></a>"
      ]
    },
    {
      "cell_type": "markdown",
      "metadata": {
        "id": "OMiZXfBQ0AYx",
        "colab_type": "text"
      },
      "source": [
        "31.2 Problem Description\n",
        "\n",
        "The problem is to predict annual water usage. The dataset provides the annual water usage\n",
        "in Baltimore from 1885 to 1963, or 79 years of data. The values are in the units of liters per\n",
        "capita per day, and there are 79 observations. The dataset is credited to Hipel and McLeod,\n",
        "1994 . Below is a sample of the first few rows of the dataset."
      ]
    },
    {
      "cell_type": "code",
      "metadata": {
        "id": "3bBZakiV0CtE",
        "colab_type": "code",
        "colab": {}
      },
      "source": [
        "# evaluate the finalized model on the validation dataset\n",
        "import warnings\n",
        "import pandas as pd\n",
        "from pandas import datetime\n",
        "from pandas import DataFrame\n",
        "from pandas import concat\n",
        "from pandas import read_csv\n",
        "from pandas import Grouper\n",
        "from pandas import Series\n",
        "import numpy as np\n",
        "from matplotlib import pyplot\n",
        "import seaborn as sns; sns.set()\n",
        "from statsmodels.tsa.arima_model import ARIMA\n",
        "from statsmodels.tsa.arima_model import ARIMAResults\n",
        "from statsmodels.tsa.stattools import adfuller\n",
        "from statsmodels.graphics.tsaplots import plot_acf\n",
        "from statsmodels.graphics.tsaplots import plot_pacf\n",
        "from statsmodels.tsa.ar_model import AR\n",
        "\n",
        "from pandas.plotting import lag_plot\n",
        "from pandas.plotting import autocorrelation_plot\n",
        "from scipy.stats import boxcox\n",
        "from sklearn.metrics import mean_squared_error\n",
        "from math import sqrt\n",
        "from math import exp\n",
        "from math import log"
      ],
      "execution_count": null,
      "outputs": []
    },
    {
      "cell_type": "code",
      "metadata": {
        "id": "0EoRyil1AxMR",
        "colab_type": "code",
        "colab": {}
      },
      "source": [
        "#Load and split data\n",
        "series = read_csv('https://raw.githubusercontent.com/jbrownlee/Datasets/master/yearly-water-usage.csv',\n",
        "                  header=0, index_col=0, parse_dates=True, squeeze=True)\n",
        "series.plot()"
      ],
      "execution_count": null,
      "outputs": []
    },
    {
      "cell_type": "code",
      "metadata": {
        "id": "BJeCg8v250OA",
        "colab_type": "code",
        "colab": {
          "base_uri": "https://localhost:8080/",
          "height": 296
        },
        "outputId": "b4c92b66-6f4e-4dae-8210-dc102d87e26d"
      },
      "source": [
        "#split_point = int(len(series) * 0.7)\n",
        "split_point = len(series) - 10\n",
        "dataset, validation = series[0:split_point], series[split_point:]\n",
        "print('Dataset %d, Validation %d' % (len(dataset), len(validation)))"
      ],
      "execution_count": 4,
      "outputs": [
        {
          "output_type": "execute_result",
          "data": {
            "text/plain": [
              "<matplotlib.axes._subplots.AxesSubplot at 0x7f649531c208>"
            ]
          },
          "metadata": {
            "tags": []
          },
          "execution_count": 4
        },
        {
          "output_type": "display_data",
          "data": {
            "image/png": "[encoded data removed]",
            "text/plain": [
              "<Figure size 432x288 with 1 Axes>"
            ]
          },
          "metadata": {
            "tags": [],
            "needs_background": "light"
          }
        }
      ]
    },
    {
      "cell_type": "markdown",
      "metadata": {
        "id": "9S46aaQf5ciL",
        "colab_type": "text"
      },
      "source": [
        "# Persistence"
      ]
    },
    {
      "cell_type": "code",
      "metadata": {
        "id": "7WgChQ_30zKf",
        "colab_type": "code",
        "colab": {
          "base_uri": "https://localhost:8080/",
          "height": 629
        },
        "outputId": "3624e827-07d7-452b-efe1-40a63a734410"
      },
      "source": [
        "X = dataset.values\n",
        "X = X.astype('float32')\n",
        "train_size = int(len(X) * 0.50)\n",
        "train, test = X[0:train_size], X[train_size:]\n",
        "# walk-forward validation\n",
        "history = [x for x in train]\n",
        "predictions = list()\n",
        "for i in range(len(test)):\n",
        "  # predict\n",
        "  yhat = history[-1]\n",
        "  predictions.append(yhat)\n",
        "  # observation\n",
        "  obs = test[i]\n",
        "  history.append(obs)\n",
        "  print('>Predicted=%.3f, Expected=%.3f' % (yhat, obs))\n",
        "# report performance\n",
        "rmse = sqrt(mean_squared_error(test, predictions))\n",
        "print('RMSE: %.3f' % rmse)"
      ],
      "execution_count": 3,
      "outputs": [
        {
          "output_type": "stream",
          "text": [
            ">Predicted=503.000, Expected=503.000\n",
            ">Predicted=503.000, Expected=503.000\n",
            ">Predicted=503.000, Expected=515.000\n",
            ">Predicted=515.000, Expected=522.000\n",
            ">Predicted=522.000, Expected=492.000\n",
            ">Predicted=492.000, Expected=503.000\n",
            ">Predicted=503.000, Expected=503.000\n",
            ">Predicted=503.000, Expected=450.000\n",
            ">Predicted=450.000, Expected=432.000\n",
            ">Predicted=432.000, Expected=432.000\n",
            ">Predicted=432.000, Expected=458.000\n",
            ">Predicted=458.000, Expected=462.000\n",
            ">Predicted=462.000, Expected=503.000\n",
            ">Predicted=503.000, Expected=488.000\n",
            ">Predicted=488.000, Expected=466.000\n",
            ">Predicted=466.000, Expected=492.000\n",
            ">Predicted=492.000, Expected=503.000\n",
            ">Predicted=503.000, Expected=515.000\n",
            ">Predicted=515.000, Expected=500.000\n",
            ">Predicted=500.000, Expected=522.000\n",
            ">Predicted=522.000, Expected=575.000\n",
            ">Predicted=575.000, Expected=583.000\n",
            ">Predicted=583.000, Expected=587.000\n",
            ">Predicted=587.000, Expected=628.000\n",
            ">Predicted=628.000, Expected=640.000\n",
            ">Predicted=640.000, Expected=609.000\n",
            ">Predicted=609.000, Expected=606.000\n",
            ">Predicted=606.000, Expected=632.000\n",
            ">Predicted=632.000, Expected=617.000\n",
            ">Predicted=617.000, Expected=613.000\n",
            ">Predicted=613.000, Expected=598.000\n",
            ">Predicted=598.000, Expected=575.000\n",
            ">Predicted=575.000, Expected=564.000\n",
            ">Predicted=564.000, Expected=549.000\n",
            ">Predicted=549.000, Expected=538.000\n",
            "RMSE: 21.975\n"
          ],
          "name": "stdout"
        }
      ]
    },
    {
      "cell_type": "code",
      "metadata": {
        "id": "yim1nHFw5lFP",
        "colab_type": "code",
        "colab": {
          "base_uri": "https://localhost:8080/",
          "height": 279
        },
        "outputId": "8073c5b7-ba85-4211-9203-6bd5765d97d8"
      },
      "source": [
        "series=dataset\n",
        "series.plot()\n",
        "pyplot.show()"
      ],
      "execution_count": 6,
      "outputs": [
        {
          "output_type": "display_data",
          "data": {
            "image/png": "[encoded data removed]",
            "text/plain": [
              "<Figure size 432x288 with 1 Axes>"
            ]
          },
          "metadata": {
            "tags": [],
            "needs_background": "light"
          }
        }
      ]
    },
    {
      "cell_type": "markdown",
      "metadata": {
        "id": "Tg9UeFg26Qko",
        "colab_type": "text"
      },
      "source": [
        "There may be some benefit in explicitly modeling the trend component and removing it. You\n",
        "may also explore using differencing with one or two levels in order to make the series stationary"
      ]
    },
    {
      "cell_type": "code",
      "metadata": {
        "id": "RFAK6uhn6Hna",
        "colab_type": "code",
        "colab": {
          "base_uri": "https://localhost:8080/",
          "height": 265
        },
        "outputId": "99b1ce42-059f-441f-b3c5-2f3779b72d15"
      },
      "source": [
        "pyplot.figure(1)\n",
        "pyplot.subplot(211)\n",
        "series.hist()\n",
        "pyplot.subplot(212)\n",
        "series.plot(kind='kde')\n",
        "pyplot.show()"
      ],
      "execution_count": 8,
      "outputs": [
        {
          "output_type": "display_data",
          "data": {
            "image/png": "[encoded data removed]",
            "text/plain": [
              "<Figure size 432x288 with 2 Axes>"
            ]
          },
          "metadata": {
            "tags": [],
            "needs_background": "light"
          }
        }
      ]
    },
    {
      "cell_type": "markdown",
      "metadata": {
        "id": "BZafUUEM6VqQ",
        "colab_type": "text"
      },
      "source": [
        " The distribution is not Gaussian, but is pretty close.\n",
        "\n",
        " The distribution has a long right tail and may suggest an exponential distribution or a\n",
        "double Gaussian.\n",
        "\n",
        "This suggests it may be worth exploring some power transforms of the data prior to modeling."
      ]
    },
    {
      "cell_type": "code",
      "metadata": {
        "id": "eYAXvzOj6LTc",
        "colab_type": "code",
        "colab": {
          "base_uri": "https://localhost:8080/",
          "height": 268
        },
        "outputId": "ab151270-3702-43d5-9950-ecb08c94ca21"
      },
      "source": [
        "groups = series.groupby(Grouper(freq='10YS'))\n",
        "decades = DataFrame()\n",
        "for name, group in groups:\n",
        "  if len(group.values) is 10:\n",
        "    decades[name.year] = group.values\n",
        "decades.boxplot()\n",
        "pyplot.show()"
      ],
      "execution_count": 13,
      "outputs": [
        {
          "output_type": "display_data",
          "data": {
            "image/png": "[encoded data removed]",
            "text/plain": [
              "<Figure size 432x288 with 1 Axes>"
            ]
          },
          "metadata": {
            "tags": []
          }
        }
      ]
    },
    {
      "cell_type": "markdown",
      "metadata": {
        "id": "d0WDMqmv7OzW",
        "colab_type": "text"
      },
      "source": [
        " The median values for each year (red line) may show an increasing trend that may not be\n",
        "linear.\n",
        "\n",
        " The spread, or middle 50% of the data (blue boxes), does show some variability.\n",
        "\n",
        " There maybe outliers in some decades (crosses outside of the box and whiskers).\n",
        "\n",
        " The second to last decade seems to have a lower average consumption, perhaps related to\n",
        "the first world war."
      ]
    },
    {
      "cell_type": "markdown",
      "metadata": {
        "id": "_DWCo2WM7R7p",
        "colab_type": "text"
      },
      "source": [
        "# ARIMA Models"
      ]
    },
    {
      "cell_type": "markdown",
      "metadata": {
        "id": "jXFBE1cg7eDC",
        "colab_type": "text"
      },
      "source": [
        "# Manually Configured ARIMA"
      ]
    },
    {
      "cell_type": "code",
      "metadata": {
        "id": "fBRXJ04a6dhL",
        "colab_type": "code",
        "colab": {}
      },
      "source": [
        "# create a differenced time series\n",
        "def difference(dataset):\n",
        "  diff = list()\n",
        "  for i in range(1, len(dataset)):\n",
        "    value = dataset[i] - dataset[i - 1]\n",
        "    diff.append(value)\n",
        "  return Series(diff)"
      ],
      "execution_count": 18,
      "outputs": []
    },
    {
      "cell_type": "code",
      "metadata": {
        "id": "9WDR8Ddn8AIp",
        "colab_type": "code",
        "colab": {
          "base_uri": "https://localhost:8080/",
          "height": 387
        },
        "outputId": "41e95fe6-1ca4-4775-d18a-1d5077bb1167"
      },
      "source": [
        "# difference data\n",
        "series=dataset\n",
        "X = series.values\n",
        "X = X.astype('float32')\n",
        "stationary = difference(X)\n",
        "stationary.index = series.index[1:]\n",
        "# check if stationary\n",
        "result = adfuller(stationary)\n",
        "print('ADF Statistic: %f' % result[0])\n",
        "print('p-value: %f' % result[1])\n",
        "print('Critical Values:')\n",
        "for key, value in result[4].items():\n",
        "  print('\\t%s: %.3f' % (key, value))\n",
        "# plot differenced data\n",
        "stationary.plot()\n",
        "pyplot.show()"
      ],
      "execution_count": 19,
      "outputs": [
        {
          "output_type": "stream",
          "text": [
            "ADF Statistic: -6.126719\n",
            "p-value: 0.000000\n",
            "Critical Values:\n",
            "\t1%: -3.534\n",
            "\t5%: -2.906\n",
            "\t10%: -2.591\n"
          ],
          "name": "stdout"
        },
        {
          "output_type": "display_data",
          "data": {
            "image/png": "[encoded data removed]",
            "text/plain": [
              "<Figure size 432x288 with 1 Axes>"
            ]
          },
          "metadata": {
            "tags": []
          }
        }
      ]
    },
    {
      "cell_type": "markdown",
      "metadata": {
        "id": "_xp6gC4C8bJl",
        "colab_type": "text"
      },
      "source": [
        "Running the example outputs the result of a statistical significance test of whether the\n",
        "differenced series is stationary. Specifically, the augmented Dickey-Fuller test. The results show\n",
        "that the test statistic value -6.126719 is smaller than the critical value at 1% of -3.534. This\n",
        "suggests that we can reject the null hypothesis with a significance level of less than 1% (i.e. a\n",
        "low probability that the result is a statistical fluke). Rejecting the null hypothesis means that\n",
        "the process has no unit root, and in turn that the time series is stationary or does not have\n",
        "time-dependent structure."
      ]
    },
    {
      "cell_type": "markdown",
      "metadata": {
        "id": "vMVgQVkm8eh6",
        "colab_type": "text"
      },
      "source": [
        "This suggests that at least one level of differencing is required. The d parameter in our\n",
        "ARIMA model should at least be a value of 1. A plot of the differenced data is also created. It\n",
        "suggests that this has indeed removed the increasing trend"
      ]
    },
    {
      "cell_type": "code",
      "metadata": {
        "id": "xv9YKaCh8GjQ",
        "colab_type": "code",
        "colab": {
          "base_uri": "https://localhost:8080/",
          "height": 293
        },
        "outputId": "e7537013-403e-44ec-90cb-635e5eb4f85b"
      },
      "source": [
        "series = dataset\n",
        "pyplot.figure()\n",
        "pyplot.subplot(211)\n",
        "plot_acf(series, lags=20, ax=pyplot.gca())\n",
        "pyplot.subplot(212)\n",
        "plot_pacf(series, lags=20, ax=pyplot.gca())\n",
        "pyplot.tight_layout()\n",
        "pyplot.show()"
      ],
      "execution_count": 21,
      "outputs": [
        {
          "output_type": "display_data",
          "data": {
            "image/png": "[encoded data removed]",
            "text/plain": [
              "<Figure size 432x288 with 2 Axes>"
            ]
          },
          "metadata": {
            "tags": []
          }
        }
      ]
    },
    {
      "cell_type": "markdown",
      "metadata": {
        "id": "dZ16uxUD8ykg",
        "colab_type": "text"
      },
      "source": [
        "Run the example and review the plots for insights into how to set the p and q variables for\n",
        "the ARIMA model. Below are some observations from the plots.\n",
        "\n",
        " The ACF shows significant lags to 4 time steps.\n",
        "\n",
        " The PACF shows significant lags to 1 time step.\n",
        "\n",
        "A good starting point for the p is 4 and q is 1."
      ]
    },
    {
      "cell_type": "markdown",
      "metadata": {
        "id": "tTPH6FWd82Ui",
        "colab_type": "text"
      },
      "source": [
        "This quick analysis suggests an ARIMA(4,1,1) on the raw data may be a good starting point.\n",
        "The complete manual ARIMA example is listed below."
      ]
    },
    {
      "cell_type": "code",
      "metadata": {
        "id": "6jILebok8ksZ",
        "colab_type": "code",
        "colab": {
          "base_uri": "https://localhost:8080/",
          "height": 629
        },
        "outputId": "35b0e6f6-2efc-47f0-d63c-a8ee763c27ee"
      },
      "source": [
        "# evaluate manually configured ARIMA model\n",
        "from pandas import read_csv\n",
        "from sklearn.metrics import mean_squared_error\n",
        "from statsmodels.tsa.arima_model import ARIMA\n",
        "from math import sqrt\n",
        "# prepare data\n",
        "X = dataset\n",
        "X = X.astype('float32')\n",
        "train_size = int(len(X) * 0.50)\n",
        "train, test = X[0:train_size], X[train_size:]\n",
        "# walk-forward validation\n",
        "history = [x for x in train]\n",
        "predictions = list()\n",
        "for i in range(len(test)):\n",
        "  # predict\n",
        "  model = ARIMA(history, order=(4,1,1))\n",
        "  model_fit = model.fit(disp=0)\n",
        "  yhat = model_fit.forecast()[0]\n",
        "  predictions.append(yhat)\n",
        "  # observation\n",
        "  obs = test[i]\n",
        "  history.append(obs)\n",
        "  print('>Predicted=%.3f, Expected=%.3f' % (yhat, obs))\n",
        "# report performance\n",
        "rmse = sqrt(mean_squared_error(test, predictions))\n",
        "print('RMSE: %.3f' % rmse)"
      ],
      "execution_count": 22,
      "outputs": [
        {
          "output_type": "stream",
          "text": [
            ">Predicted=548.319, Expected=503.000\n",
            ">Predicted=545.085, Expected=503.000\n",
            ">Predicted=546.061, Expected=515.000\n",
            ">Predicted=550.660, Expected=522.000\n",
            ">Predicted=552.011, Expected=492.000\n",
            ">Predicted=519.221, Expected=503.000\n",
            ">Predicted=527.953, Expected=503.000\n",
            ">Predicted=534.026, Expected=450.000\n",
            ">Predicted=474.119, Expected=432.000\n",
            ">Predicted=456.458, Expected=432.000\n",
            ">Predicted=465.408, Expected=458.000\n",
            ">Predicted=481.425, Expected=462.000\n",
            ">Predicted=476.156, Expected=503.000\n",
            ">Predicted=511.083, Expected=488.000\n",
            ">Predicted=497.183, Expected=466.000\n",
            ">Predicted=460.301, Expected=492.000\n",
            ">Predicted=506.310, Expected=503.000\n",
            ">Predicted=515.928, Expected=515.000\n",
            ">Predicted=516.368, Expected=500.000\n",
            ">Predicted=504.364, Expected=522.000\n",
            ">Predicted=525.885, Expected=575.000\n",
            ">Predicted=579.358, Expected=583.000\n",
            ">Predicted=575.313, Expected=587.000\n",
            ">Predicted=573.357, Expected=628.000\n",
            ">Predicted=622.134, Expected=640.000\n",
            ">Predicted=632.300, Expected=609.000\n",
            ">Predicted=595.784, Expected=606.000\n",
            ">Predicted=602.450, Expected=632.000\n",
            ">Predicted=635.947, Expected=617.000\n",
            ">Predicted=614.241, Expected=613.000\n",
            ">Predicted=609.030, Expected=598.000\n",
            ">Predicted=601.829, Expected=575.000\n",
            ">Predicted=580.316, Expected=564.000\n",
            ">Predicted=574.084, Expected=549.000\n",
            ">Predicted=562.009, Expected=538.000\n",
            "RMSE: 31.097\n"
          ],
          "name": "stdout"
        }
      ]
    },
    {
      "cell_type": "markdown",
      "metadata": {
        "id": "P47ZspoUAWVu",
        "colab_type": "text"
      },
      "source": [
        "# Grid Search ARIMA Hyperparameters"
      ]
    },
    {
      "cell_type": "code",
      "metadata": {
        "id": "hQahyOpC9KSP",
        "colab_type": "code",
        "colab": {
          "base_uri": "https://localhost:8080/",
          "height": 629
        },
        "outputId": "d6479bb9-d807-4865-c8c5-385b0a80b249"
      },
      "source": [
        "# grid search ARIMA parameters for time series\n",
        "# evaluate an ARIMA model for a given order (p,d,q) and return RMSE\n",
        "def evaluate_arima_model(X, arima_order):\n",
        "  # prepare training dataset\n",
        "  X = X.astype('float32')\n",
        "  train_size = int(len(X) * 0.50)\n",
        "  train, test = X[0:train_size], X[train_size:]\n",
        "  history = [x for x in train]\n",
        "  # make predictions\n",
        "  predictions = list()\n",
        "  for t in range(len(test)):\n",
        "    model = ARIMA(history, order=arima_order)\n",
        "    model_fit = model.fit(disp=0)\n",
        "    yhat = model_fit.forecast()[0]\n",
        "    predictions.append(yhat)\n",
        "    history.append(test[t])\n",
        "  # calculate out of sample error\n",
        "  rmse = sqrt(mean_squared_error(test, predictions))\n",
        "  return rmse\n",
        "\n",
        "# evaluate combinations of p, d and q values for an ARIMA model\n",
        "def evaluate_models(dataset, p_values, d_values, q_values):\n",
        "  dataset = dataset.astype('float32')\n",
        "  best_score, best_cfg = float(\"inf\"), None\n",
        "  for p in p_values:\n",
        "    for d in d_values:\n",
        "      for q in q_values:\n",
        "        order = (p,d,q)\n",
        "        try:\n",
        "          rmse = evaluate_arima_model(dataset, order)\n",
        "          if rmse < best_score:\n",
        "            best_score, best_cfg = rmse, order\n",
        "          print('ARIMA%s RMSE=%.3f' % (order,rmse))\n",
        "        except:\n",
        "            continue\n",
        "  print('Best ARIMA%s RMSE=%.3f' % (best_cfg, best_score))\n",
        "# load dataset  \n",
        "series = dataset\n",
        "# evaluate parameters\n",
        "p_values = range(0,5)\n",
        "d_values = range(0, 3)\n",
        "q_values = range(0, 5)\n",
        "warnings.filterwarnings(\"ignore\")\n",
        "evaluate_models(series.values, p_values, d_values, q_values)"
      ],
      "execution_count": 25,
      "outputs": [
        {
          "output_type": "stream",
          "text": [
            "ARIMA(0, 0, 0) RMSE=76.755\n",
            "ARIMA(0, 0, 1) RMSE=47.346\n",
            "ARIMA(0, 1, 0) RMSE=22.311\n",
            "ARIMA(0, 1, 1) RMSE=22.258\n",
            "ARIMA(0, 1, 2) RMSE=28.430\n",
            "ARIMA(0, 1, 3) RMSE=30.054\n",
            "ARIMA(0, 1, 4) RMSE=30.029\n",
            "ARIMA(0, 2, 0) RMSE=29.335\n",
            "ARIMA(0, 2, 1) RMSE=23.072\n",
            "ARIMA(0, 2, 2) RMSE=22.954\n",
            "ARIMA(1, 0, 0) RMSE=23.958\n",
            "ARIMA(1, 0, 1) RMSE=23.998\n",
            "ARIMA(1, 0, 2) RMSE=25.412\n",
            "ARIMA(1, 0, 3) RMSE=28.865\n",
            "ARIMA(1, 1, 0) RMSE=22.270\n",
            "ARIMA(1, 2, 0) RMSE=27.786\n",
            "ARIMA(1, 2, 1) RMSE=22.979\n",
            "ARIMA(2, 0, 0) RMSE=24.131\n",
            "ARIMA(2, 0, 1) RMSE=24.140\n",
            "ARIMA(2, 1, 0) RMSE=22.084\n",
            "ARIMA(2, 2, 0) RMSE=25.616\n",
            "ARIMA(3, 0, 0) RMSE=24.183\n",
            "ARIMA(3, 0, 1) RMSE=24.636\n",
            "ARIMA(3, 1, 0) RMSE=25.060\n",
            "ARIMA(3, 1, 1) RMSE=32.092\n",
            "ARIMA(3, 2, 0) RMSE=26.126\n",
            "ARIMA(3, 2, 1) RMSE=25.594\n",
            "ARIMA(4, 0, 0) RMSE=25.113\n",
            "ARIMA(4, 0, 1) RMSE=25.122\n",
            "ARIMA(4, 1, 0) RMSE=26.213\n",
            "ARIMA(4, 1, 1) RMSE=31.097\n",
            "ARIMA(4, 1, 2) RMSE=32.604\n",
            "ARIMA(4, 2, 0) RMSE=27.798\n",
            "ARIMA(4, 2, 1) RMSE=26.394\n",
            "ARIMA(4, 2, 2) RMSE=27.393\n",
            "Best ARIMA(2, 1, 0) RMSE=22.084\n"
          ],
          "name": "stdout"
        }
      ]
    },
    {
      "cell_type": "markdown",
      "metadata": {
        "id": "dMBWOf3pA0dL",
        "colab_type": "text"
      },
      "source": [
        "We will select this ARIMA(2,1,0) model going forward."
      ]
    },
    {
      "cell_type": "markdown",
      "metadata": {
        "id": "hAXYIDv9A4N_",
        "colab_type": "text"
      },
      "source": [
        "# Review Residual Errors"
      ]
    },
    {
      "cell_type": "markdown",
      "metadata": {
        "id": "3Ri-f_YgBNXL",
        "colab_type": "text"
      },
      "source": [
        "A good final check of a model is to review residual forecast errors. Ideally, the distribution of\n",
        "residual errors should be a Gaussian with a zero mean. We can check this by using summary\n",
        "statistics and plots to investigate the residual errors from the ARIMA(2,1,0) model. The example\n",
        "below calculates and summarizes the residual forecast errors."
      ]
    },
    {
      "cell_type": "code",
      "metadata": {
        "id": "RbWj2zDzApZz",
        "colab_type": "code",
        "colab": {
          "base_uri": "https://localhost:8080/",
          "height": 454
        },
        "outputId": "4fcefc5c-479e-4dfd-a10d-53c18ad28726"
      },
      "source": [
        "# plot residual errors for ARIMA model\n",
        "# prepare data\n",
        "series=dataset\n",
        "X = series.values\n",
        "X = X.astype('float32')\n",
        "train_size = int(len(X) * 0.50)\n",
        "train, test = X[0:train_size], X[train_size:]\n",
        "# walk-forward validation\n",
        "history = [x for x in train]\n",
        "predictions = list()\n",
        "for i in range(len(test)):\n",
        "  # predict\n",
        "  model = ARIMA(history, order=(2,1,0))\n",
        "  model_fit = model.fit(trend='nc', disp=0)\n",
        "  yhat = model_fit.forecast()[0]\n",
        "  predictions.append(yhat)\n",
        "  # observation\n",
        "  obs = test[i]\n",
        "  history.append(obs)\n",
        "# report performance\n",
        "rmse = sqrt(mean_squared_error(test, predictions))\n",
        "print('RMSE: %.3f' % rmse)\n",
        "# errors\n",
        "residuals = [test[i]-predictions[i] for i in range(len(test))]\n",
        "residuals = DataFrame(residuals)\n",
        "print(residuals.describe())\n",
        "pyplot.figure()\n",
        "pyplot.subplot(211)\n",
        "residuals.hist(ax=pyplot.gca())\n",
        "pyplot.subplot(212)\n",
        "residuals.plot(kind='kde', ax=pyplot.gca())\n",
        "pyplot.show()"
      ],
      "execution_count": 31,
      "outputs": [
        {
          "output_type": "stream",
          "text": [
            "RMSE: 21.733\n",
            "               0\n",
            "count  35.000000\n",
            "mean    1.081625\n",
            "std    22.022566\n",
            "min   -52.103811\n",
            "25%   -16.202280\n",
            "50%    -0.459805\n",
            "75%    12.085093\n",
            "max    51.284333\n"
          ],
          "name": "stdout"
        },
        {
          "output_type": "display_data",
          "data": {
            "image/png": "[encoded data removed]",
            "text/plain": [
              "<Figure size 432x288 with 2 Axes>"
            ]
          },
          "metadata": {
            "tags": []
          }
        }
      ]
    },
    {
      "cell_type": "markdown",
      "metadata": {
        "id": "2SyDGd4zCVX0",
        "colab_type": "text"
      },
      "source": [
        "Running the example first describes the distribution of the residuals. We can see that the\n",
        "distribution has a right shift and that the mean is non-zero at 1.081624. This is perhaps a sign\n",
        "that the predictions are biased."
      ]
    },
    {
      "cell_type": "markdown",
      "metadata": {
        "id": "gMk1dURTBToi",
        "colab_type": "text"
      },
      "source": [
        "We could use this information to bias-correct predictions by adding the mean residual error\n",
        "of 1.081624 to each forecast made. The example below performs this bias-correction."
      ]
    },
    {
      "cell_type": "code",
      "metadata": {
        "id": "DQZebUHMBPEl",
        "colab_type": "code",
        "colab": {
          "base_uri": "https://localhost:8080/",
          "height": 454
        },
        "outputId": "0a0033c0-f17a-4027-f3e2-cdde72ced2ae"
      },
      "source": [
        "series=dataset\n",
        "X = series.values\n",
        "X = X.astype('float32')\n",
        "train_size = int(len(X) * 0.50)\n",
        "train, test = X[0:train_size], X[train_size:]\n",
        "# walk-forward validation\n",
        "history = [x for x in train]\n",
        "predictions = list()\n",
        "bias = 1.081624\n",
        "for i in range(len(test)):\n",
        "  # predict\n",
        "  model = ARIMA(history, order=(2,1,0))\n",
        "  model_fit = model.fit(trend='nc', disp=0)\n",
        "  yhat = bias + float(model_fit.forecast()[0])\n",
        "  predictions.append(yhat)\n",
        "  # observation\n",
        "  obs = test[i]\n",
        "  history.append(obs)\n",
        "\n",
        "# report performance\n",
        "rmse = sqrt(mean_squared_error(test, predictions))\n",
        "print('RMSE: %.3f' % rmse)\n",
        "# summarize residual errors\n",
        "residuals = [test[i]-predictions[i] for i in range(len(test))]\n",
        "residuals = DataFrame(residuals)\n",
        "print(residuals.describe())\n",
        "# plot residual errors\n",
        "pyplot.figure()\n",
        "pyplot.subplot(211)\n",
        "residuals.hist(ax=pyplot.gca())\n",
        "pyplot.subplot(212)\n",
        "residuals.plot(kind='kde', ax=pyplot.gca())\n",
        "pyplot.show()"
      ],
      "execution_count": 30,
      "outputs": [
        {
          "output_type": "stream",
          "text": [
            "RMSE: 21.706\n",
            "                  0\n",
            "count  3.500000e+01\n",
            "mean   6.256219e-07\n",
            "std    2.202257e+01\n",
            "min   -5.318544e+01\n",
            "25%   -1.728390e+01\n",
            "50%   -1.541429e+00\n",
            "75%    1.100347e+01\n",
            "max    5.020271e+01\n"
          ],
          "name": "stdout"
        },
        {
          "output_type": "display_data",
          "data": {
            "image/png": "[encoded data removed]",
            "text/plain": [
              "<Figure size 432x288 with 2 Axes>"
            ]
          },
          "metadata": {
            "tags": []
          }
        }
      ]
    },
    {
      "cell_type": "markdown",
      "metadata": {
        "id": "m7g1c7ndC5Ym",
        "colab_type": "text"
      },
      "source": [
        "# Model Validation"
      ]
    },
    {
      "cell_type": "code",
      "metadata": {
        "id": "DhmF2o6RBrni",
        "colab_type": "code",
        "colab": {
          "base_uri": "https://localhost:8080/",
          "height": 472
        },
        "outputId": "9f19fe46-cdf2-4df9-a5d1-fccbd3c3d785"
      },
      "source": [
        "print('Dataset %d, Validation %d' % (len(dataset), len(validation)))\n",
        "\n",
        "X = dataset.values.astype('float32')\n",
        "history = [x for x in X]\n",
        "\n",
        "y = validation.values.astype('float32')\n",
        "\n",
        "# fit model\n",
        "model = ARIMA(X, order=(2,1,0))\n",
        "model_fit = model.fit(trend='nc', disp=0)\n",
        "\n",
        "# bias constant, could be calculated from in-sample mean residual\n",
        "bias = 1.081624\n",
        "\n",
        "# make first prediction\n",
        "predictions = list()\n",
        "yhat = bias + float(model_fit.forecast()[0])\n",
        "predictions.append(yhat)\n",
        "history.append(y[0])\n",
        "print('>Predicted=%.3f, Expected=%.3f' % (yhat, y[0]))\n",
        "\n",
        "# rolling forecasts\n",
        "for i in range(1, len(y)):\n",
        "  # predict\n",
        "  model = ARIMA(history, order=(2,1,0))\n",
        "  model_fit = model.fit(trend='nc', disp=0)\n",
        "  yhat = bias + float(model_fit.forecast()[0])\n",
        "  predictions.append(yhat)\n",
        "  # observation\n",
        "  obs = y[i]\n",
        "  history.append(obs)\n",
        "  print('>Predicted=%.3f, Expected=%.3f' % (yhat, obs))\n",
        "# report performance\n",
        "rmse = sqrt(mean_squared_error(y, predictions))\n",
        "print('RMSE: %.3f' % rmse)\n",
        "pyplot.plot(y)\n",
        "pyplot.plot(predictions, color='red')\n",
        "pyplot.show()"
      ],
      "execution_count": 32,
      "outputs": [
        {
          "output_type": "stream",
          "text": [
            "Dataset 69, Validation 10\n",
            ">Predicted=540.013, Expected=568.000\n",
            ">Predicted=571.589, Expected=575.000\n",
            ">Predicted=573.289, Expected=579.000\n",
            ">Predicted=579.561, Expected=587.000\n",
            ">Predicted=588.063, Expected=602.000\n",
            ">Predicted=603.022, Expected=594.000\n",
            ">Predicted=593.178, Expected=587.000\n",
            ">Predicted=588.558, Expected=587.000\n",
            ">Predicted=588.797, Expected=625.000\n",
            ">Predicted=627.941, Expected=613.000\n",
            "RMSE: 16.532\n"
          ],
          "name": "stdout"
        },
        {
          "output_type": "display_data",
          "data": {
            "image/png": "[encoded data removed]",
            "text/plain": [
              "<Figure size 432x288 with 1 Axes>"
            ]
          },
          "metadata": {
            "tags": []
          }
        }
      ]
    },
    {
      "cell_type": "code",
      "metadata": {
        "id": "JffO64y3D0Py",
        "colab_type": "code",
        "colab": {}
      },
      "source": [
        ""
      ],
      "execution_count": null,
      "outputs": []
    }
  ]
}