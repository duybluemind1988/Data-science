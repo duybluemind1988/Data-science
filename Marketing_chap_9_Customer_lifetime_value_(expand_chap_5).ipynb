{
  "nbformat": 4,
  "nbformat_minor": 0,
  "metadata": {
    "colab": {
      "name": "Marketing chap 9 Customer lifetime value (expand chap 5).ipynb",
      "provenance": [],
      "collapsed_sections": [],
      "authorship_tag": "ABX9TyPnvQxC0VSt2NGYsxiFWxuh",
      "include_colab_link": true
    },
    "kernelspec": {
      "name": "python3",
      "display_name": "Python 3"
    }
  },
  "cells": [
    {
      "cell_type": "markdown",
      "metadata": {
        "id": "view-in-github",
        "colab_type": "text"
      },
      "source": [
        "<a href=\"https://colab.research.google.com/github/duybluemind1988/Data-science/blob/master/Marketing_chap_9_Customer_lifetime_value_(expand_chap_5).ipynb\" target=\"_parent\"><img src=\"https://colab.research.google.com/assets/colab-badge.svg\" alt=\"Open In Colab\"/></a>"
      ]
    },
    {
      "cell_type": "code",
      "metadata": {
        "id": "kHaj5GsHpjcs",
        "colab_type": "code",
        "colab": {}
      },
      "source": [
        "import pandas as pd\n",
        "import seaborn as sns\n",
        "sns.set()\n",
        "import matplotlib as mpl\n",
        "import matplotlib.pyplot as plt\n",
        "import numpy as np\n",
        "import os\n",
        "import sklearn\n",
        "import time\n",
        "\n",
        "from sklearn.model_selection import train_test_split\n",
        "from sklearn.model_selection import KFold\n",
        "from sklearn.model_selection import StratifiedKFold\n",
        "from sklearn.model_selection import StratifiedShuffleSplit\n",
        "from sklearn.model_selection import RepeatedStratifiedKFold\n",
        "from sklearn.model_selection import cross_val_score\n",
        "from sklearn.model_selection import cross_validate, cross_val_predict\n",
        "from sklearn.model_selection import RandomizedSearchCV\n",
        "from sklearn.model_selection import GridSearchCV\n",
        "\n",
        "from sklearn.metrics import classification_report\n",
        "from sklearn.metrics import confusion_matrix\n",
        "from sklearn.metrics import accuracy_score\n",
        "from sklearn.metrics import recall_score\n",
        "from sklearn.metrics import make_scorer\n",
        "\n",
        "from sklearn.pipeline import Pipeline\n",
        "from sklearn.decomposition import PCA, NMF\n",
        "from sklearn.pipeline import Pipeline\n",
        "from sklearn.preprocessing import StandardScaler\n",
        "from sklearn.preprocessing import OneHotEncoder\n",
        "from sklearn.impute import SimpleImputer \n",
        "from sklearn.compose import ColumnTransformer\n",
        "from sklearn.compose import make_column_selector as selector\n",
        "from sklearn.model_selection import learning_curve\n",
        "from sklearn.pipeline import make_pipeline\n",
        "\n",
        "#ML algorithm\n",
        "from sklearn.linear_model import LinearRegression\n",
        "from sklearn.linear_model import Lasso\n",
        "from sklearn.linear_model import Ridge\n",
        "from sklearn.linear_model import ElasticNet\n",
        "from sklearn.tree import DecisionTreeRegressor\n",
        "from sklearn.neighbors import KNeighborsRegressor\n",
        "from sklearn.svm import SVR\n",
        "from sklearn.decomposition import PCA\n",
        "from sklearn.linear_model import TheilSenRegressor, HuberRegressor\n",
        "from sklearn.linear_model import RANSACRegressor\n",
        "from sklearn.preprocessing import PolynomialFeatures\n",
        "\n",
        "\n",
        "# ensembles\n",
        "from sklearn.ensemble import RandomForestRegressor\n",
        "from sklearn.ensemble import GradientBoostingRegressor\n",
        "from sklearn.ensemble import ExtraTreesRegressor\n",
        "from sklearn.ensemble import AdaBoostRegressor\n",
        "\n",
        "#New from Matt cookbook\n",
        "from xgboost import XGBRegressor\n",
        "from lightgbm import LGBMRegressor\n",
        "from sklearn.ensemble import BaggingRegressor\n",
        "from sklearn.ensemble import VotingRegressor\n",
        "from sklearn.ensemble import StackingRegressor\n",
        "\n",
        "from sklearn.pipeline import make_pipeline\n",
        "from sklearn.experimental import enable_hist_gradient_boosting  # noqa\n",
        "from sklearn.ensemble import HistGradientBoostingRegressor\n",
        "from sklearn.linear_model import LassoCV\n",
        "from sklearn.linear_model import RidgeCV\n",
        "\n",
        "\n",
        "from sklearn.metrics import r2_score\n",
        "from sklearn.metrics import mean_squared_error\n",
        "from sklearn.metrics import mean_absolute_error,median_absolute_error\n",
        "\n",
        "#Visual\n",
        "from sklearn.inspection import plot_partial_dependence"
      ],
      "execution_count": 128,
      "outputs": []
    },
    {
      "cell_type": "code",
      "metadata": {
        "id": "cGdEGAFvsjiU",
        "colab_type": "code",
        "colab": {
          "base_uri": "https://localhost:8080/",
          "height": 374
        },
        "outputId": "ed39b9f7-1c68-4d4f-eae3-1312d6f5b80e"
      },
      "source": [
        "df=pd.read_excel('https://github.com/mrinmaisharma/Online-Retail-Dataset/blob/master/OnlineRetail.xlsx?raw=true',sep=';')\n",
        "print(df.shape)\n",
        "df.head()"
      ],
      "execution_count": 36,
      "outputs": [
        {
          "output_type": "stream",
          "text": [
            "(541909, 8)\n"
          ],
          "name": "stdout"
        },
        {
          "output_type": "execute_result",
          "data": {
            "text/html": [
              "<div>\n",
              "<style scoped>\n",
              "    .dataframe tbody tr th:only-of-type {\n",
              "        vertical-align: middle;\n",
              "    }\n",
              "\n",
              "    .dataframe tbody tr th {\n",
              "        vertical-align: top;\n",
              "    }\n",
              "\n",
              "    .dataframe thead th {\n",
              "        text-align: right;\n",
              "    }\n",
              "</style>\n",
              "<table border=\"1\" class=\"dataframe\">\n",
              "  <thead>\n",
              "    <tr style=\"text-align: right;\">\n",
              "      <th></th>\n",
              "      <th>InvoiceNo</th>\n",
              "      <th>StockCode</th>\n",
              "      <th>Description</th>\n",
              "      <th>Quantity</th>\n",
              "      <th>InvoiceDate</th>\n",
              "      <th>UnitPrice</th>\n",
              "      <th>CustomerID</th>\n",
              "      <th>Country</th>\n",
              "    </tr>\n",
              "  </thead>\n",
              "  <tbody>\n",
              "    <tr>\n",
              "      <th>0</th>\n",
              "      <td>536365</td>\n",
              "      <td>85123A</td>\n",
              "      <td>WHITE HANGING HEART T-LIGHT HOLDER</td>\n",
              "      <td>6</td>\n",
              "      <td>2010-12-01 08:26:00</td>\n",
              "      <td>2.55</td>\n",
              "      <td>17850.0</td>\n",
              "      <td>United Kingdom</td>\n",
              "    </tr>\n",
              "    <tr>\n",
              "      <th>1</th>\n",
              "      <td>536365</td>\n",
              "      <td>71053</td>\n",
              "      <td>WHITE METAL LANTERN</td>\n",
              "      <td>6</td>\n",
              "      <td>2010-12-01 08:26:00</td>\n",
              "      <td>3.39</td>\n",
              "      <td>17850.0</td>\n",
              "      <td>United Kingdom</td>\n",
              "    </tr>\n",
              "    <tr>\n",
              "      <th>2</th>\n",
              "      <td>536365</td>\n",
              "      <td>84406B</td>\n",
              "      <td>CREAM CUPID HEARTS COAT HANGER</td>\n",
              "      <td>8</td>\n",
              "      <td>2010-12-01 08:26:00</td>\n",
              "      <td>2.75</td>\n",
              "      <td>17850.0</td>\n",
              "      <td>United Kingdom</td>\n",
              "    </tr>\n",
              "    <tr>\n",
              "      <th>3</th>\n",
              "      <td>536365</td>\n",
              "      <td>84029G</td>\n",
              "      <td>KNITTED UNION FLAG HOT WATER BOTTLE</td>\n",
              "      <td>6</td>\n",
              "      <td>2010-12-01 08:26:00</td>\n",
              "      <td>3.39</td>\n",
              "      <td>17850.0</td>\n",
              "      <td>United Kingdom</td>\n",
              "    </tr>\n",
              "    <tr>\n",
              "      <th>4</th>\n",
              "      <td>536365</td>\n",
              "      <td>84029E</td>\n",
              "      <td>RED WOOLLY HOTTIE WHITE HEART.</td>\n",
              "      <td>6</td>\n",
              "      <td>2010-12-01 08:26:00</td>\n",
              "      <td>3.39</td>\n",
              "      <td>17850.0</td>\n",
              "      <td>United Kingdom</td>\n",
              "    </tr>\n",
              "  </tbody>\n",
              "</table>\n",
              "</div>"
            ],
            "text/plain": [
              "  InvoiceNo StockCode  ... CustomerID         Country\n",
              "0    536365    85123A  ...    17850.0  United Kingdom\n",
              "1    536365     71053  ...    17850.0  United Kingdom\n",
              "2    536365    84406B  ...    17850.0  United Kingdom\n",
              "3    536365    84029G  ...    17850.0  United Kingdom\n",
              "4    536365    84029E  ...    17850.0  United Kingdom\n",
              "\n",
              "[5 rows x 8 columns]"
            ]
          },
          "metadata": {
            "tags": []
          },
          "execution_count": 36
        }
      ]
    },
    {
      "cell_type": "markdown",
      "metadata": {
        "id": "LvFqGsE1ssGz",
        "colab_type": "text"
      },
      "source": [
        "Attribute Information:\n",
        "\n",
        "- InvoiceNo: Invoice number. Nominal, a 6-digit integral number uniquely assigned to each transaction. If this code starts with letter 'c', it indicates a cancellation.\n",
        "- StockCode: Product (item) code. Nominal, a 5-digit integral number uniquely assigned to each distinct product.\n",
        "- Description: Product (item) name. Nominal.\n",
        "- Quantity: The quantities of each product (item) per transaction. Numeric.\n",
        "- InvoiceDate: Invice Date and time. Numeric, the day and time when each transaction was generated.\n",
        "- UnitPrice: Unit price. Numeric, Product price per unit in sterling.\n",
        "- CustomerID: Customer number. Nominal, a 5-digit integral number uniquely assigned to each customer.\n",
        "- Country: Country name. Nominal, the name of the country where each customer resides."
      ]
    },
    {
      "cell_type": "markdown",
      "metadata": {
        "id": "uz8gPaeBxSQt",
        "colab_type": "text"
      },
      "source": [
        "CLV\n",
        "\n",
        "In marketing, the CLV is one of the key metrics to have and monitor. The CLV measures\n",
        "customers' total worth to the business over the course of their lifetime relationship with the\n",
        "company. This metric is especially important to keep track of for acquiring new customers.\n",
        "It is generally more expensive to acquire new customers than to keep existing customers, so\n",
        "knowing the lifetime value and the costs associated with acquiring new customers is\n",
        "essential in order to build marketing strategies with a positive ROI. For example, if the\n",
        "average CLV of your customer is 100 and it only costs 10 to acquire a new customer, then\n",
        "your business will be generating more revenue as you acquire new customers."
      ]
    },
    {
      "cell_type": "markdown",
      "metadata": {
        "id": "agc_7RUQx8Cz",
        "colab_type": "text"
      },
      "source": [
        "Because we do not typically know the lifetime span of customers, we often try to estimate\n",
        "CLV over the course of a certain period. It can be done by estimating a customer's 12-month\n",
        "CLV, 24-month CLV, or can also be a 3-month CLV. Aside from the method we discussed\n",
        "through an example, CLV can also be estimated through building predictive models. Using\n",
        "machine learning algorithms and customers' purchase history data, we can build machine\n",
        "learning models that predict customers' CLV over the course of a certain period. In the\n",
        "programming exercises in this chapter, we are going to learn how to build a regression\n",
        "model that predicts customers' 3-month CLV."
      ]
    },
    {
      "cell_type": "markdown",
      "metadata": {
        "id": "FXVKH4nDyrgT",
        "colab_type": "text"
      },
      "source": [
        "# Data Clean-Up"
      ]
    },
    {
      "cell_type": "markdown",
      "metadata": {
        "id": "APgkGb4RzWdZ",
        "colab_type": "text"
      },
      "source": [
        "\n",
        "- Negative Quantity"
      ]
    },
    {
      "cell_type": "code",
      "metadata": {
        "id": "9qcmsbKEywI-",
        "colab_type": "code",
        "colab": {
          "base_uri": "https://localhost:8080/",
          "height": 34
        },
        "outputId": "f53907f3-b56b-48fb-f684-91560a5340a4"
      },
      "source": [
        "df.loc[df['Quantity'] <= 0].shape"
      ],
      "execution_count": 37,
      "outputs": [
        {
          "output_type": "execute_result",
          "data": {
            "text/plain": [
              "(10624, 8)"
            ]
          },
          "metadata": {
            "tags": []
          },
          "execution_count": 37
        }
      ]
    },
    {
      "cell_type": "code",
      "metadata": {
        "id": "SYgwDpf0sq7R",
        "colab_type": "code",
        "colab": {}
      },
      "source": [
        "df = df.loc[df['Quantity'] > 0]"
      ],
      "execution_count": 38,
      "outputs": []
    },
    {
      "cell_type": "code",
      "metadata": {
        "id": "QnKUOS9xyxzE",
        "colab_type": "code",
        "colab": {
          "base_uri": "https://localhost:8080/",
          "height": 34
        },
        "outputId": "a453e94d-24f9-4fa3-91c8-fda927b5ddec"
      },
      "source": [
        "df.shape"
      ],
      "execution_count": 39,
      "outputs": [
        {
          "output_type": "execute_result",
          "data": {
            "text/plain": [
              "(531285, 8)"
            ]
          },
          "metadata": {
            "tags": []
          },
          "execution_count": 39
        }
      ]
    },
    {
      "cell_type": "code",
      "metadata": {
        "id": "5wfpO4JByyjk",
        "colab_type": "code",
        "colab": {
          "base_uri": "https://localhost:8080/",
          "height": 170
        },
        "outputId": "7433b46e-a282-4fa8-a930-124e388d1400"
      },
      "source": [
        "df.isnull().sum()"
      ],
      "execution_count": 40,
      "outputs": [
        {
          "output_type": "execute_result",
          "data": {
            "text/plain": [
              "InvoiceNo           0\n",
              "StockCode           0\n",
              "Description       592\n",
              "Quantity            0\n",
              "InvoiceDate         0\n",
              "UnitPrice           0\n",
              "CustomerID     133361\n",
              "Country             0\n",
              "dtype: int64"
            ]
          },
          "metadata": {
            "tags": []
          },
          "execution_count": 40
        }
      ]
    },
    {
      "cell_type": "markdown",
      "metadata": {
        "id": "rb4oXHomzaLC",
        "colab_type": "text"
      },
      "source": [
        "- Missing CustomerID"
      ]
    },
    {
      "cell_type": "code",
      "metadata": {
        "id": "gEOlZTaLzGRX",
        "colab_type": "code",
        "colab": {
          "base_uri": "https://localhost:8080/",
          "height": 34
        },
        "outputId": "3b99e3bb-f9d3-49ac-b23c-93ad650253c2"
      },
      "source": [
        "df = df[pd.notnull(df['CustomerID'])]\n",
        "df.shape"
      ],
      "execution_count": 41,
      "outputs": [
        {
          "output_type": "execute_result",
          "data": {
            "text/plain": [
              "(397924, 8)"
            ]
          },
          "metadata": {
            "tags": []
          },
          "execution_count": 41
        }
      ]
    },
    {
      "cell_type": "markdown",
      "metadata": {
        "id": "t2aNRcyazSGZ",
        "colab_type": "text"
      },
      "source": [
        "\n",
        "- Excluding Incomplete Month"
      ]
    },
    {
      "cell_type": "code",
      "metadata": {
        "id": "He1X--cTzNJL",
        "colab_type": "code",
        "colab": {
          "base_uri": "https://localhost:8080/",
          "height": 34
        },
        "outputId": "a1783aa0-06d0-42a7-9b28-0fa78a14796a"
      },
      "source": [
        "print('Date Range: %s ~ %s' % (df['InvoiceDate'].min(), df['InvoiceDate'].max()))"
      ],
      "execution_count": 42,
      "outputs": [
        {
          "output_type": "stream",
          "text": [
            "Date Range: 2010-12-01 08:26:00 ~ 2011-12-09 12:50:00\n"
          ],
          "name": "stdout"
        }
      ]
    },
    {
      "cell_type": "code",
      "metadata": {
        "id": "I6dXdEXOzc8o",
        "colab_type": "code",
        "colab": {
          "base_uri": "https://localhost:8080/",
          "height": 34
        },
        "outputId": "1ba41136-4bd6-4a34-b59d-b83bb18dee51"
      },
      "source": [
        "\n",
        "df.loc[df['InvoiceDate'] >= '2011-12-01'].shape"
      ],
      "execution_count": 43,
      "outputs": [
        {
          "output_type": "execute_result",
          "data": {
            "text/plain": [
              "(17304, 8)"
            ]
          },
          "metadata": {
            "tags": []
          },
          "execution_count": 43
        }
      ]
    },
    {
      "cell_type": "code",
      "metadata": {
        "id": "uEHZleQ8zeRv",
        "colab_type": "code",
        "colab": {
          "base_uri": "https://localhost:8080/",
          "height": 34
        },
        "outputId": "ee9cd5f8-95dc-4f43-ff82-9563b4e149b1"
      },
      "source": [
        "\n",
        "df = df.loc[df['InvoiceDate'] < '2011-12-01']\n",
        "df.shape"
      ],
      "execution_count": 44,
      "outputs": [
        {
          "output_type": "execute_result",
          "data": {
            "text/plain": [
              "(380620, 8)"
            ]
          },
          "metadata": {
            "tags": []
          },
          "execution_count": 44
        }
      ]
    },
    {
      "cell_type": "markdown",
      "metadata": {
        "id": "KeWl77xtzky8",
        "colab_type": "text"
      },
      "source": [
        "- Total Sales"
      ]
    },
    {
      "cell_type": "code",
      "metadata": {
        "id": "_81klSUgziop",
        "colab_type": "code",
        "colab": {
          "base_uri": "https://localhost:8080/",
          "height": 496
        },
        "outputId": "59e8e2f5-ba8b-43c0-922c-911f9c412595"
      },
      "source": [
        "df['Sales'] = df['Quantity'] * df['UnitPrice']\n",
        "df.head()"
      ],
      "execution_count": 45,
      "outputs": [
        {
          "output_type": "execute_result",
          "data": {
            "text/html": [
              "<div>\n",
              "<style scoped>\n",
              "    .dataframe tbody tr th:only-of-type {\n",
              "        vertical-align: middle;\n",
              "    }\n",
              "\n",
              "    .dataframe tbody tr th {\n",
              "        vertical-align: top;\n",
              "    }\n",
              "\n",
              "    .dataframe thead th {\n",
              "        text-align: right;\n",
              "    }\n",
              "</style>\n",
              "<table border=\"1\" class=\"dataframe\">\n",
              "  <thead>\n",
              "    <tr style=\"text-align: right;\">\n",
              "      <th></th>\n",
              "      <th>InvoiceNo</th>\n",
              "      <th>StockCode</th>\n",
              "      <th>Description</th>\n",
              "      <th>Quantity</th>\n",
              "      <th>InvoiceDate</th>\n",
              "      <th>UnitPrice</th>\n",
              "      <th>CustomerID</th>\n",
              "      <th>Country</th>\n",
              "      <th>Sales</th>\n",
              "    </tr>\n",
              "  </thead>\n",
              "  <tbody>\n",
              "    <tr>\n",
              "      <th>0</th>\n",
              "      <td>536365</td>\n",
              "      <td>85123A</td>\n",
              "      <td>WHITE HANGING HEART T-LIGHT HOLDER</td>\n",
              "      <td>6</td>\n",
              "      <td>2010-12-01 08:26:00</td>\n",
              "      <td>2.55</td>\n",
              "      <td>17850.0</td>\n",
              "      <td>United Kingdom</td>\n",
              "      <td>15.30</td>\n",
              "    </tr>\n",
              "    <tr>\n",
              "      <th>1</th>\n",
              "      <td>536365</td>\n",
              "      <td>71053</td>\n",
              "      <td>WHITE METAL LANTERN</td>\n",
              "      <td>6</td>\n",
              "      <td>2010-12-01 08:26:00</td>\n",
              "      <td>3.39</td>\n",
              "      <td>17850.0</td>\n",
              "      <td>United Kingdom</td>\n",
              "      <td>20.34</td>\n",
              "    </tr>\n",
              "    <tr>\n",
              "      <th>2</th>\n",
              "      <td>536365</td>\n",
              "      <td>84406B</td>\n",
              "      <td>CREAM CUPID HEARTS COAT HANGER</td>\n",
              "      <td>8</td>\n",
              "      <td>2010-12-01 08:26:00</td>\n",
              "      <td>2.75</td>\n",
              "      <td>17850.0</td>\n",
              "      <td>United Kingdom</td>\n",
              "      <td>22.00</td>\n",
              "    </tr>\n",
              "    <tr>\n",
              "      <th>3</th>\n",
              "      <td>536365</td>\n",
              "      <td>84029G</td>\n",
              "      <td>KNITTED UNION FLAG HOT WATER BOTTLE</td>\n",
              "      <td>6</td>\n",
              "      <td>2010-12-01 08:26:00</td>\n",
              "      <td>3.39</td>\n",
              "      <td>17850.0</td>\n",
              "      <td>United Kingdom</td>\n",
              "      <td>20.34</td>\n",
              "    </tr>\n",
              "    <tr>\n",
              "      <th>4</th>\n",
              "      <td>536365</td>\n",
              "      <td>84029E</td>\n",
              "      <td>RED WOOLLY HOTTIE WHITE HEART.</td>\n",
              "      <td>6</td>\n",
              "      <td>2010-12-01 08:26:00</td>\n",
              "      <td>3.39</td>\n",
              "      <td>17850.0</td>\n",
              "      <td>United Kingdom</td>\n",
              "      <td>20.34</td>\n",
              "    </tr>\n",
              "  </tbody>\n",
              "</table>\n",
              "</div>"
            ],
            "text/plain": [
              "  InvoiceNo StockCode  ...         Country  Sales\n",
              "0    536365    85123A  ...  United Kingdom  15.30\n",
              "1    536365     71053  ...  United Kingdom  20.34\n",
              "2    536365    84406B  ...  United Kingdom  22.00\n",
              "3    536365    84029G  ...  United Kingdom  20.34\n",
              "4    536365    84029E  ...  United Kingdom  20.34\n",
              "\n",
              "[5 rows x 9 columns]"
            ]
          },
          "metadata": {
            "tags": []
          },
          "execution_count": 45
        }
      ]
    },
    {
      "cell_type": "markdown",
      "metadata": {
        "id": "GYcepRsDz99m",
        "colab_type": "text"
      },
      "source": [
        "\n",
        "- Per Order Data"
      ]
    },
    {
      "cell_type": "code",
      "metadata": {
        "id": "vF-k0UHvzm9Z",
        "colab_type": "code",
        "colab": {
          "base_uri": "https://localhost:8080/",
          "height": 450
        },
        "outputId": "7d8a1b64-532a-4f50-fb8d-e867496c65f0"
      },
      "source": [
        "orders_df = df.groupby(['CustomerID', 'InvoiceNo']).agg({\n",
        "    'Sales': sum,\n",
        "    'InvoiceDate': max\n",
        "})\n",
        "orders_df"
      ],
      "execution_count": 46,
      "outputs": [
        {
          "output_type": "execute_result",
          "data": {
            "text/html": [
              "<div>\n",
              "<style scoped>\n",
              "    .dataframe tbody tr th:only-of-type {\n",
              "        vertical-align: middle;\n",
              "    }\n",
              "\n",
              "    .dataframe tbody tr th {\n",
              "        vertical-align: top;\n",
              "    }\n",
              "\n",
              "    .dataframe thead th {\n",
              "        text-align: right;\n",
              "    }\n",
              "</style>\n",
              "<table border=\"1\" class=\"dataframe\">\n",
              "  <thead>\n",
              "    <tr style=\"text-align: right;\">\n",
              "      <th></th>\n",
              "      <th></th>\n",
              "      <th>Sales</th>\n",
              "      <th>InvoiceDate</th>\n",
              "    </tr>\n",
              "    <tr>\n",
              "      <th>CustomerID</th>\n",
              "      <th>InvoiceNo</th>\n",
              "      <th></th>\n",
              "      <th></th>\n",
              "    </tr>\n",
              "  </thead>\n",
              "  <tbody>\n",
              "    <tr>\n",
              "      <th>12346.0</th>\n",
              "      <th>541431</th>\n",
              "      <td>77183.60</td>\n",
              "      <td>2011-01-18 10:01:00</td>\n",
              "    </tr>\n",
              "    <tr>\n",
              "      <th rowspan=\"4\" valign=\"top\">12347.0</th>\n",
              "      <th>537626</th>\n",
              "      <td>711.79</td>\n",
              "      <td>2010-12-07 14:57:00</td>\n",
              "    </tr>\n",
              "    <tr>\n",
              "      <th>542237</th>\n",
              "      <td>475.39</td>\n",
              "      <td>2011-01-26 14:30:00</td>\n",
              "    </tr>\n",
              "    <tr>\n",
              "      <th>549222</th>\n",
              "      <td>636.25</td>\n",
              "      <td>2011-04-07 10:43:00</td>\n",
              "    </tr>\n",
              "    <tr>\n",
              "      <th>556201</th>\n",
              "      <td>382.52</td>\n",
              "      <td>2011-06-09 13:01:00</td>\n",
              "    </tr>\n",
              "    <tr>\n",
              "      <th>...</th>\n",
              "      <th>...</th>\n",
              "      <td>...</td>\n",
              "      <td>...</td>\n",
              "    </tr>\n",
              "    <tr>\n",
              "      <th rowspan=\"2\" valign=\"top\">18283.0</th>\n",
              "      <th>578262</th>\n",
              "      <td>313.65</td>\n",
              "      <td>2011-11-23 13:27:00</td>\n",
              "    </tr>\n",
              "    <tr>\n",
              "      <th>579673</th>\n",
              "      <td>223.61</td>\n",
              "      <td>2011-11-30 12:59:00</td>\n",
              "    </tr>\n",
              "    <tr>\n",
              "      <th rowspan=\"3\" valign=\"top\">18287.0</th>\n",
              "      <th>554065</th>\n",
              "      <td>765.28</td>\n",
              "      <td>2011-05-22 10:39:00</td>\n",
              "    </tr>\n",
              "    <tr>\n",
              "      <th>570715</th>\n",
              "      <td>1001.32</td>\n",
              "      <td>2011-10-12 10:23:00</td>\n",
              "    </tr>\n",
              "    <tr>\n",
              "      <th>573167</th>\n",
              "      <td>70.68</td>\n",
              "      <td>2011-10-28 09:29:00</td>\n",
              "    </tr>\n",
              "  </tbody>\n",
              "</table>\n",
              "<p>17758 rows × 2 columns</p>\n",
              "</div>"
            ],
            "text/plain": [
              "                         Sales         InvoiceDate\n",
              "CustomerID InvoiceNo                              \n",
              "12346.0    541431     77183.60 2011-01-18 10:01:00\n",
              "12347.0    537626       711.79 2010-12-07 14:57:00\n",
              "           542237       475.39 2011-01-26 14:30:00\n",
              "           549222       636.25 2011-04-07 10:43:00\n",
              "           556201       382.52 2011-06-09 13:01:00\n",
              "...                        ...                 ...\n",
              "18283.0    578262       313.65 2011-11-23 13:27:00\n",
              "           579673       223.61 2011-11-30 12:59:00\n",
              "18287.0    554065       765.28 2011-05-22 10:39:00\n",
              "           570715      1001.32 2011-10-12 10:23:00\n",
              "           573167        70.68 2011-10-28 09:29:00\n",
              "\n",
              "[17758 rows x 2 columns]"
            ]
          },
          "metadata": {
            "tags": []
          },
          "execution_count": 46
        }
      ]
    },
    {
      "cell_type": "markdown",
      "metadata": {
        "id": "-iDaYyC90RKv",
        "colab_type": "text"
      },
      "source": [
        "# Data Analysis"
      ]
    },
    {
      "cell_type": "code",
      "metadata": {
        "id": "t__JP0og0ACM",
        "colab_type": "code",
        "colab": {}
      },
      "source": [
        "def groupby_mean(x):\n",
        "    return x.mean()\n",
        "\n",
        "def groupby_count(x):\n",
        "    return x.count()\n",
        "\n",
        "def purchase_duration(x):\n",
        "    return (x.max() - x.min()).days\n",
        "\n",
        "def avg_frequency(x):\n",
        "    return (x.max() - x.min()).days/x.count()\n",
        "\n",
        "groupby_mean.__name__ = 'avg' # No need\n",
        "groupby_count.__name__ = 'count' # No need\n",
        "purchase_duration.__name__ = 'purchase_duration'\n",
        "avg_frequency.__name__ = 'purchase_frequency'"
      ],
      "execution_count": 47,
      "outputs": []
    },
    {
      "cell_type": "code",
      "metadata": {
        "id": "Z-Y202Vr0VBt",
        "colab_type": "code",
        "colab": {
          "base_uri": "https://localhost:8080/",
          "height": 473
        },
        "outputId": "c02ac6c9-71bd-4612-d501-65ee0cdabb73"
      },
      "source": [
        "summary_df = orders_df.reset_index().groupby('CustomerID').agg({\n",
        "    'Sales': [min, max, sum, groupby_mean, groupby_count],\n",
        "    'InvoiceDate': [min, max, purchase_duration, avg_frequency]\n",
        "})\n",
        "print(summary_df.shape)\n",
        "summary_df.head()"
      ],
      "execution_count": 48,
      "outputs": [
        {
          "output_type": "stream",
          "text": [
            "(4298, 9)\n"
          ],
          "name": "stdout"
        },
        {
          "output_type": "execute_result",
          "data": {
            "text/html": [
              "<div>\n",
              "<style scoped>\n",
              "    .dataframe tbody tr th:only-of-type {\n",
              "        vertical-align: middle;\n",
              "    }\n",
              "\n",
              "    .dataframe tbody tr th {\n",
              "        vertical-align: top;\n",
              "    }\n",
              "\n",
              "    .dataframe thead tr th {\n",
              "        text-align: left;\n",
              "    }\n",
              "\n",
              "    .dataframe thead tr:last-of-type th {\n",
              "        text-align: right;\n",
              "    }\n",
              "</style>\n",
              "<table border=\"1\" class=\"dataframe\">\n",
              "  <thead>\n",
              "    <tr>\n",
              "      <th></th>\n",
              "      <th colspan=\"5\" halign=\"left\">Sales</th>\n",
              "      <th colspan=\"4\" halign=\"left\">InvoiceDate</th>\n",
              "    </tr>\n",
              "    <tr>\n",
              "      <th></th>\n",
              "      <th>min</th>\n",
              "      <th>max</th>\n",
              "      <th>sum</th>\n",
              "      <th>avg</th>\n",
              "      <th>count</th>\n",
              "      <th>min</th>\n",
              "      <th>max</th>\n",
              "      <th>purchase_duration</th>\n",
              "      <th>purchase_frequency</th>\n",
              "    </tr>\n",
              "    <tr>\n",
              "      <th>CustomerID</th>\n",
              "      <th></th>\n",
              "      <th></th>\n",
              "      <th></th>\n",
              "      <th></th>\n",
              "      <th></th>\n",
              "      <th></th>\n",
              "      <th></th>\n",
              "      <th></th>\n",
              "      <th></th>\n",
              "    </tr>\n",
              "  </thead>\n",
              "  <tbody>\n",
              "    <tr>\n",
              "      <th>12346.0</th>\n",
              "      <td>77183.60</td>\n",
              "      <td>77183.60</td>\n",
              "      <td>77183.60</td>\n",
              "      <td>77183.600000</td>\n",
              "      <td>1.0</td>\n",
              "      <td>2011-01-18 10:01:00</td>\n",
              "      <td>2011-01-18 10:01:00</td>\n",
              "      <td>0</td>\n",
              "      <td>0.0</td>\n",
              "    </tr>\n",
              "    <tr>\n",
              "      <th>12347.0</th>\n",
              "      <td>382.52</td>\n",
              "      <td>1294.32</td>\n",
              "      <td>4085.18</td>\n",
              "      <td>680.863333</td>\n",
              "      <td>6.0</td>\n",
              "      <td>2010-12-07 14:57:00</td>\n",
              "      <td>2011-10-31 12:25:00</td>\n",
              "      <td>327</td>\n",
              "      <td>54.5</td>\n",
              "    </tr>\n",
              "    <tr>\n",
              "      <th>12348.0</th>\n",
              "      <td>227.44</td>\n",
              "      <td>892.80</td>\n",
              "      <td>1797.24</td>\n",
              "      <td>449.310000</td>\n",
              "      <td>4.0</td>\n",
              "      <td>2010-12-16 19:09:00</td>\n",
              "      <td>2011-09-25 13:13:00</td>\n",
              "      <td>282</td>\n",
              "      <td>70.5</td>\n",
              "    </tr>\n",
              "    <tr>\n",
              "      <th>12349.0</th>\n",
              "      <td>1757.55</td>\n",
              "      <td>1757.55</td>\n",
              "      <td>1757.55</td>\n",
              "      <td>1757.550000</td>\n",
              "      <td>1.0</td>\n",
              "      <td>2011-11-21 09:51:00</td>\n",
              "      <td>2011-11-21 09:51:00</td>\n",
              "      <td>0</td>\n",
              "      <td>0.0</td>\n",
              "    </tr>\n",
              "    <tr>\n",
              "      <th>12350.0</th>\n",
              "      <td>334.40</td>\n",
              "      <td>334.40</td>\n",
              "      <td>334.40</td>\n",
              "      <td>334.400000</td>\n",
              "      <td>1.0</td>\n",
              "      <td>2011-02-02 16:01:00</td>\n",
              "      <td>2011-02-02 16:01:00</td>\n",
              "      <td>0</td>\n",
              "      <td>0.0</td>\n",
              "    </tr>\n",
              "  </tbody>\n",
              "</table>\n",
              "</div>"
            ],
            "text/plain": [
              "               Sales            ...       InvoiceDate                   \n",
              "                 min       max  ... purchase_duration purchase_frequency\n",
              "CustomerID                      ...                                     \n",
              "12346.0     77183.60  77183.60  ...                 0                0.0\n",
              "12347.0       382.52   1294.32  ...               327               54.5\n",
              "12348.0       227.44    892.80  ...               282               70.5\n",
              "12349.0      1757.55   1757.55  ...                 0                0.0\n",
              "12350.0       334.40    334.40  ...                 0                0.0\n",
              "\n",
              "[5 rows x 9 columns]"
            ]
          },
          "metadata": {
            "tags": []
          },
          "execution_count": 48
        }
      ]
    },
    {
      "cell_type": "code",
      "metadata": {
        "id": "dK_FT_6h3jjd",
        "colab_type": "code",
        "colab": {
          "base_uri": "https://localhost:8080/",
          "height": 640
        },
        "outputId": "66ea7d84-7074-4134-ceb7-009acb21fb59"
      },
      "source": [
        "summary_df.columns = ['_'.join(col).lower() for col in summary_df.columns]\n",
        "summary_df"
      ],
      "execution_count": 49,
      "outputs": [
        {
          "output_type": "execute_result",
          "data": {
            "text/html": [
              "<div>\n",
              "<style scoped>\n",
              "    .dataframe tbody tr th:only-of-type {\n",
              "        vertical-align: middle;\n",
              "    }\n",
              "\n",
              "    .dataframe tbody tr th {\n",
              "        vertical-align: top;\n",
              "    }\n",
              "\n",
              "    .dataframe thead th {\n",
              "        text-align: right;\n",
              "    }\n",
              "</style>\n",
              "<table border=\"1\" class=\"dataframe\">\n",
              "  <thead>\n",
              "    <tr style=\"text-align: right;\">\n",
              "      <th></th>\n",
              "      <th>sales_min</th>\n",
              "      <th>sales_max</th>\n",
              "      <th>sales_sum</th>\n",
              "      <th>sales_avg</th>\n",
              "      <th>sales_count</th>\n",
              "      <th>invoicedate_min</th>\n",
              "      <th>invoicedate_max</th>\n",
              "      <th>invoicedate_purchase_duration</th>\n",
              "      <th>invoicedate_purchase_frequency</th>\n",
              "    </tr>\n",
              "    <tr>\n",
              "      <th>CustomerID</th>\n",
              "      <th></th>\n",
              "      <th></th>\n",
              "      <th></th>\n",
              "      <th></th>\n",
              "      <th></th>\n",
              "      <th></th>\n",
              "      <th></th>\n",
              "      <th></th>\n",
              "      <th></th>\n",
              "    </tr>\n",
              "  </thead>\n",
              "  <tbody>\n",
              "    <tr>\n",
              "      <th>12346.0</th>\n",
              "      <td>77183.60</td>\n",
              "      <td>77183.60</td>\n",
              "      <td>77183.60</td>\n",
              "      <td>77183.600000</td>\n",
              "      <td>1.0</td>\n",
              "      <td>2011-01-18 10:01:00</td>\n",
              "      <td>2011-01-18 10:01:00</td>\n",
              "      <td>0</td>\n",
              "      <td>0.000000</td>\n",
              "    </tr>\n",
              "    <tr>\n",
              "      <th>12347.0</th>\n",
              "      <td>382.52</td>\n",
              "      <td>1294.32</td>\n",
              "      <td>4085.18</td>\n",
              "      <td>680.863333</td>\n",
              "      <td>6.0</td>\n",
              "      <td>2010-12-07 14:57:00</td>\n",
              "      <td>2011-10-31 12:25:00</td>\n",
              "      <td>327</td>\n",
              "      <td>54.500000</td>\n",
              "    </tr>\n",
              "    <tr>\n",
              "      <th>12348.0</th>\n",
              "      <td>227.44</td>\n",
              "      <td>892.80</td>\n",
              "      <td>1797.24</td>\n",
              "      <td>449.310000</td>\n",
              "      <td>4.0</td>\n",
              "      <td>2010-12-16 19:09:00</td>\n",
              "      <td>2011-09-25 13:13:00</td>\n",
              "      <td>282</td>\n",
              "      <td>70.500000</td>\n",
              "    </tr>\n",
              "    <tr>\n",
              "      <th>12349.0</th>\n",
              "      <td>1757.55</td>\n",
              "      <td>1757.55</td>\n",
              "      <td>1757.55</td>\n",
              "      <td>1757.550000</td>\n",
              "      <td>1.0</td>\n",
              "      <td>2011-11-21 09:51:00</td>\n",
              "      <td>2011-11-21 09:51:00</td>\n",
              "      <td>0</td>\n",
              "      <td>0.000000</td>\n",
              "    </tr>\n",
              "    <tr>\n",
              "      <th>12350.0</th>\n",
              "      <td>334.40</td>\n",
              "      <td>334.40</td>\n",
              "      <td>334.40</td>\n",
              "      <td>334.400000</td>\n",
              "      <td>1.0</td>\n",
              "      <td>2011-02-02 16:01:00</td>\n",
              "      <td>2011-02-02 16:01:00</td>\n",
              "      <td>0</td>\n",
              "      <td>0.000000</td>\n",
              "    </tr>\n",
              "    <tr>\n",
              "      <th>...</th>\n",
              "      <td>...</td>\n",
              "      <td>...</td>\n",
              "      <td>...</td>\n",
              "      <td>...</td>\n",
              "      <td>...</td>\n",
              "      <td>...</td>\n",
              "      <td>...</td>\n",
              "      <td>...</td>\n",
              "      <td>...</td>\n",
              "    </tr>\n",
              "    <tr>\n",
              "      <th>18280.0</th>\n",
              "      <td>180.60</td>\n",
              "      <td>180.60</td>\n",
              "      <td>180.60</td>\n",
              "      <td>180.600000</td>\n",
              "      <td>1.0</td>\n",
              "      <td>2011-03-07 09:52:00</td>\n",
              "      <td>2011-03-07 09:52:00</td>\n",
              "      <td>0</td>\n",
              "      <td>0.000000</td>\n",
              "    </tr>\n",
              "    <tr>\n",
              "      <th>18281.0</th>\n",
              "      <td>80.82</td>\n",
              "      <td>80.82</td>\n",
              "      <td>80.82</td>\n",
              "      <td>80.820000</td>\n",
              "      <td>1.0</td>\n",
              "      <td>2011-06-12 10:53:00</td>\n",
              "      <td>2011-06-12 10:53:00</td>\n",
              "      <td>0</td>\n",
              "      <td>0.000000</td>\n",
              "    </tr>\n",
              "    <tr>\n",
              "      <th>18282.0</th>\n",
              "      <td>100.21</td>\n",
              "      <td>100.21</td>\n",
              "      <td>100.21</td>\n",
              "      <td>100.210000</td>\n",
              "      <td>1.0</td>\n",
              "      <td>2011-08-05 13:35:00</td>\n",
              "      <td>2011-08-05 13:35:00</td>\n",
              "      <td>0</td>\n",
              "      <td>0.000000</td>\n",
              "    </tr>\n",
              "    <tr>\n",
              "      <th>18283.0</th>\n",
              "      <td>1.95</td>\n",
              "      <td>313.65</td>\n",
              "      <td>1886.88</td>\n",
              "      <td>125.792000</td>\n",
              "      <td>15.0</td>\n",
              "      <td>2011-01-06 14:14:00</td>\n",
              "      <td>2011-11-30 12:59:00</td>\n",
              "      <td>327</td>\n",
              "      <td>21.800000</td>\n",
              "    </tr>\n",
              "    <tr>\n",
              "      <th>18287.0</th>\n",
              "      <td>70.68</td>\n",
              "      <td>1001.32</td>\n",
              "      <td>1837.28</td>\n",
              "      <td>612.426667</td>\n",
              "      <td>3.0</td>\n",
              "      <td>2011-05-22 10:39:00</td>\n",
              "      <td>2011-10-28 09:29:00</td>\n",
              "      <td>158</td>\n",
              "      <td>52.666667</td>\n",
              "    </tr>\n",
              "  </tbody>\n",
              "</table>\n",
              "<p>4298 rows × 9 columns</p>\n",
              "</div>"
            ],
            "text/plain": [
              "            sales_min  ...  invoicedate_purchase_frequency\n",
              "CustomerID             ...                                \n",
              "12346.0      77183.60  ...                        0.000000\n",
              "12347.0        382.52  ...                       54.500000\n",
              "12348.0        227.44  ...                       70.500000\n",
              "12349.0       1757.55  ...                        0.000000\n",
              "12350.0        334.40  ...                        0.000000\n",
              "...               ...  ...                             ...\n",
              "18280.0        180.60  ...                        0.000000\n",
              "18281.0         80.82  ...                        0.000000\n",
              "18282.0        100.21  ...                        0.000000\n",
              "18283.0          1.95  ...                       21.800000\n",
              "18287.0         70.68  ...                       52.666667\n",
              "\n",
              "[4298 rows x 9 columns]"
            ]
          },
          "metadata": {
            "tags": []
          },
          "execution_count": 49
        }
      ]
    },
    {
      "cell_type": "code",
      "metadata": {
        "id": "-ySaV2AT3jmn",
        "colab_type": "code",
        "colab": {
          "base_uri": "https://localhost:8080/",
          "height": 34
        },
        "outputId": "139c71b8-9cd7-44f0-9552-833d095e5897"
      },
      "source": [
        "summary_df.shape"
      ],
      "execution_count": 50,
      "outputs": [
        {
          "output_type": "execute_result",
          "data": {
            "text/plain": [
              "(4298, 9)"
            ]
          },
          "metadata": {
            "tags": []
          },
          "execution_count": 50
        }
      ]
    },
    {
      "cell_type": "code",
      "metadata": {
        "id": "5O6lgtWh1ysG",
        "colab_type": "code",
        "colab": {}
      },
      "source": [
        "summary_df = summary_df.loc[summary_df['invoicedate_purchase_duration'] > 0]"
      ],
      "execution_count": 51,
      "outputs": []
    },
    {
      "cell_type": "code",
      "metadata": {
        "id": "pnb-NqNl4CgA",
        "colab_type": "code",
        "colab": {
          "base_uri": "https://localhost:8080/",
          "height": 34
        },
        "outputId": "dfe85181-bf61-4a83-87c7-84c5dd50e1cb"
      },
      "source": [
        "summary_df.shape"
      ],
      "execution_count": 52,
      "outputs": [
        {
          "output_type": "execute_result",
          "data": {
            "text/plain": [
              "(2692, 9)"
            ]
          },
          "metadata": {
            "tags": []
          },
          "execution_count": 52
        }
      ]
    },
    {
      "cell_type": "markdown",
      "metadata": {
        "id": "kb6zR6lu5tZx",
        "colab_type": "text"
      },
      "source": [
        "As you can see from this code, we clean up the column names of the\n",
        "DataFrame, summary_df, in the first line. Then, we are only taking the customers who have\n",
        "made at least two or more purchases, which represents repeat customers. Lastly, we group\n",
        "by the sales_count column and count how many customers belong to each category. The\n",
        "resulting plot looks as follows:"
      ]
    },
    {
      "cell_type": "code",
      "metadata": {
        "id": "TwSX-dRI4Ekq",
        "colab_type": "code",
        "colab": {
          "base_uri": "https://localhost:8080/",
          "height": 170
        },
        "outputId": "20b4a79e-799d-43af-8a68-c4a3cc0547da"
      },
      "source": [
        "\n",
        "summary_df['sales_count'].describe()"
      ],
      "execution_count": 54,
      "outputs": [
        {
          "output_type": "execute_result",
          "data": {
            "text/plain": [
              "count    2692.000000\n",
              "mean        5.971025\n",
              "std         8.878128\n",
              "min         2.000000\n",
              "25%         2.000000\n",
              "50%         4.000000\n",
              "75%         6.000000\n",
              "max       201.000000\n",
              "Name: sales_count, dtype: float64"
            ]
          },
          "metadata": {
            "tags": []
          },
          "execution_count": 54
        }
      ]
    },
    {
      "cell_type": "code",
      "metadata": {
        "id": "QhhcG9754iyL",
        "colab_type": "code",
        "colab": {
          "base_uri": "https://localhost:8080/",
          "height": 170
        },
        "outputId": "6e296e5a-76ab-4118-f2d4-64607ebe70af"
      },
      "source": [
        "summary_df['sales_avg'].describe()"
      ],
      "execution_count": 55,
      "outputs": [
        {
          "output_type": "execute_result",
          "data": {
            "text/plain": [
              "count     2692.000000\n",
              "mean       391.458687\n",
              "std        465.584404\n",
              "min          3.450000\n",
              "25%        197.661000\n",
              "50%        306.043333\n",
              "75%        444.524000\n",
              "max      14844.766667\n",
              "Name: sales_avg, dtype: float64"
            ]
          },
          "metadata": {
            "tags": []
          },
          "execution_count": 55
        }
      ]
    },
    {
      "cell_type": "code",
      "metadata": {
        "id": "1pMlWi2r4azp",
        "colab_type": "code",
        "colab": {
          "base_uri": "https://localhost:8080/",
          "height": 462
        },
        "outputId": "0e942902-7f7e-4ecb-f9a9-52db1fb4c144"
      },
      "source": [
        "ax = summary_df.groupby('sales_count').count()['sales_avg'][:20].plot(\n",
        "    kind='bar', \n",
        "    color='skyblue',\n",
        "    figsize=(12,7), \n",
        "    grid=True\n",
        ")\n",
        "\n",
        "ax.set_ylabel('count')\n",
        "\n",
        "plt.show()"
      ],
      "execution_count": 53,
      "outputs": [
        {
          "output_type": "display_data",
          "data": {
            "image/png": "[encoded data removed]",
            "text/plain": [
              "<Figure size 864x504 with 1 Axes>"
            ]
          },
          "metadata": {
            "tags": []
          }
        }
      ]
    },
    {
      "cell_type": "markdown",
      "metadata": {
        "id": "xvKo1-WHYOfe",
        "colab_type": "text"
      },
      "source": [
        "As you can see from this plot, the majority of customers have made 10 or less purchases\n",
        "historically. Let's take a look at the average number of days between purchases for these\n",
        "repeat customers. Take a look at the following code first:"
      ]
    },
    {
      "cell_type": "code",
      "metadata": {
        "id": "Z2bWRcAr4jxs",
        "colab_type": "code",
        "colab": {
          "base_uri": "https://localhost:8080/",
          "height": 448
        },
        "outputId": "dd11e76c-6e96-470d-8c26-c9789fd1af44"
      },
      "source": [
        "ax = summary_df['invoicedate_purchase_frequency'].hist(\n",
        "    bins=20,\n",
        "    color='skyblue',\n",
        "    rwidth=0.7,\n",
        "    figsize=(12,7)\n",
        ")\n",
        "\n",
        "ax.set_xlabel('avg. number of days between purchases')\n",
        "ax.set_ylabel('count')\n",
        "\n",
        "plt.show()"
      ],
      "execution_count": 56,
      "outputs": [
        {
          "output_type": "display_data",
          "data": {
            "image/png": "[encoded data removed]",
            "text/plain": [
              "<Figure size 864x504 with 1 Axes>"
            ]
          },
          "metadata": {
            "tags": []
          }
        }
      ]
    },
    {
      "cell_type": "markdown",
      "metadata": {
        "id": "oEUgxVCT5-wR",
        "colab_type": "text"
      },
      "source": [
        "This plot tells us the overall view of how frequently repeat customers made purchases\n",
        "historically. As you can see from this plot, the majority of repeat customers made purchases\n",
        "every 20 to 50 days."
      ]
    },
    {
      "cell_type": "code",
      "metadata": {
        "id": "FIDWmi7g4qLw",
        "colab_type": "code",
        "colab": {
          "base_uri": "https://localhost:8080/",
          "height": 170
        },
        "outputId": "478edd19-07a7-4e42-8245-64299abfe1a8"
      },
      "source": [
        "summary_df['invoicedate_purchase_frequency'].describe()"
      ],
      "execution_count": 57,
      "outputs": [
        {
          "output_type": "execute_result",
          "data": {
            "text/plain": [
              "count    2692.000000\n",
              "mean       46.999022\n",
              "std        32.395004\n",
              "min         0.029412\n",
              "25%        23.500000\n",
              "50%        40.500000\n",
              "75%        62.333333\n",
              "max       182.000000\n",
              "Name: invoicedate_purchase_frequency, dtype: float64"
            ]
          },
          "metadata": {
            "tags": []
          },
          "execution_count": 57
        }
      ]
    },
    {
      "cell_type": "code",
      "metadata": {
        "id": "me3fTij04rjA",
        "colab_type": "code",
        "colab": {
          "base_uri": "https://localhost:8080/",
          "height": 170
        },
        "outputId": "268ea2f7-dcd0-4ed7-9e5d-22b976105646"
      },
      "source": [
        "summary_df['invoicedate_purchase_duration'].describe()"
      ],
      "execution_count": 58,
      "outputs": [
        {
          "output_type": "execute_result",
          "data": {
            "text/plain": [
              "count    2692.000000\n",
              "mean      199.720282\n",
              "std       107.816559\n",
              "min         1.000000\n",
              "25%       107.000000\n",
              "50%       209.000000\n",
              "75%       296.000000\n",
              "max       364.000000\n",
              "Name: invoicedate_purchase_duration, dtype: float64"
            ]
          },
          "metadata": {
            "tags": []
          },
          "execution_count": 58
        }
      ]
    },
    {
      "cell_type": "markdown",
      "metadata": {
        "id": "3oG4-f8Z6Dxy",
        "colab_type": "text"
      },
      "source": [
        "# Predicting the 3 month CLV"
      ]
    },
    {
      "cell_type": "markdown",
      "metadata": {
        "id": "hCFtBEGt6xB3",
        "colab_type": "text"
      },
      "source": [
        "##  Data Preparation"
      ]
    },
    {
      "cell_type": "code",
      "metadata": {
        "id": "wN9yEZ11evCJ",
        "colab_type": "code",
        "colab": {
          "base_uri": "https://localhost:8080/",
          "height": 173
        },
        "outputId": "28c17889-1eff-4400-a57a-0359d587f291"
      },
      "source": [
        "a=orders_df.reset_index()\n",
        "a[a.CustomerID==12348.0]"
      ],
      "execution_count": 72,
      "outputs": [
        {
          "output_type": "execute_result",
          "data": {
            "text/html": [
              "<div>\n",
              "<style scoped>\n",
              "    .dataframe tbody tr th:only-of-type {\n",
              "        vertical-align: middle;\n",
              "    }\n",
              "\n",
              "    .dataframe tbody tr th {\n",
              "        vertical-align: top;\n",
              "    }\n",
              "\n",
              "    .dataframe thead th {\n",
              "        text-align: right;\n",
              "    }\n",
              "</style>\n",
              "<table border=\"1\" class=\"dataframe\">\n",
              "  <thead>\n",
              "    <tr style=\"text-align: right;\">\n",
              "      <th></th>\n",
              "      <th>CustomerID</th>\n",
              "      <th>InvoiceNo</th>\n",
              "      <th>Sales</th>\n",
              "      <th>InvoiceDate</th>\n",
              "    </tr>\n",
              "  </thead>\n",
              "  <tbody>\n",
              "    <tr>\n",
              "      <th>7</th>\n",
              "      <td>12348.0</td>\n",
              "      <td>539318</td>\n",
              "      <td>892.80</td>\n",
              "      <td>2010-12-16 19:09:00</td>\n",
              "    </tr>\n",
              "    <tr>\n",
              "      <th>8</th>\n",
              "      <td>12348.0</td>\n",
              "      <td>541998</td>\n",
              "      <td>227.44</td>\n",
              "      <td>2011-01-25 10:42:00</td>\n",
              "    </tr>\n",
              "    <tr>\n",
              "      <th>9</th>\n",
              "      <td>12348.0</td>\n",
              "      <td>548955</td>\n",
              "      <td>367.00</td>\n",
              "      <td>2011-04-05 10:47:00</td>\n",
              "    </tr>\n",
              "    <tr>\n",
              "      <th>10</th>\n",
              "      <td>12348.0</td>\n",
              "      <td>568172</td>\n",
              "      <td>310.00</td>\n",
              "      <td>2011-09-25 13:13:00</td>\n",
              "    </tr>\n",
              "  </tbody>\n",
              "</table>\n",
              "</div>"
            ],
            "text/plain": [
              "    CustomerID  InvoiceNo   Sales         InvoiceDate\n",
              "7      12348.0     539318  892.80 2010-12-16 19:09:00\n",
              "8      12348.0     541998  227.44 2011-01-25 10:42:00\n",
              "9      12348.0     548955  367.00 2011-04-05 10:47:00\n",
              "10     12348.0     568172  310.00 2011-09-25 13:13:00"
            ]
          },
          "metadata": {
            "tags": []
          },
          "execution_count": 72
        }
      ]
    },
    {
      "cell_type": "code",
      "metadata": {
        "id": "9DF6su2E4tDC",
        "colab_type": "code",
        "colab": {
          "base_uri": "https://localhost:8080/",
          "height": 481
        },
        "outputId": "b82dcd49-0b5c-42f6-e760-cf5e2c9ca028"
      },
      "source": [
        "clv_freq = '3M'\n",
        "\n",
        "data_df = orders_df.reset_index().groupby([\n",
        "    'CustomerID',\n",
        "    pd.Grouper(key='InvoiceDate', freq=clv_freq)\n",
        "]).agg({\n",
        "    'Sales': [sum, groupby_mean, groupby_count],\n",
        "})\n",
        "\n",
        "data_df"
      ],
      "execution_count": 68,
      "outputs": [
        {
          "output_type": "execute_result",
          "data": {
            "text/html": [
              "<div>\n",
              "<style scoped>\n",
              "    .dataframe tbody tr th:only-of-type {\n",
              "        vertical-align: middle;\n",
              "    }\n",
              "\n",
              "    .dataframe tbody tr th {\n",
              "        vertical-align: top;\n",
              "    }\n",
              "\n",
              "    .dataframe thead tr th {\n",
              "        text-align: left;\n",
              "    }\n",
              "\n",
              "    .dataframe thead tr:last-of-type th {\n",
              "        text-align: right;\n",
              "    }\n",
              "</style>\n",
              "<table border=\"1\" class=\"dataframe\">\n",
              "  <thead>\n",
              "    <tr>\n",
              "      <th></th>\n",
              "      <th></th>\n",
              "      <th colspan=\"3\" halign=\"left\">Sales</th>\n",
              "    </tr>\n",
              "    <tr>\n",
              "      <th></th>\n",
              "      <th></th>\n",
              "      <th>sum</th>\n",
              "      <th>avg</th>\n",
              "      <th>count</th>\n",
              "    </tr>\n",
              "    <tr>\n",
              "      <th>CustomerID</th>\n",
              "      <th>InvoiceDate</th>\n",
              "      <th></th>\n",
              "      <th></th>\n",
              "      <th></th>\n",
              "    </tr>\n",
              "  </thead>\n",
              "  <tbody>\n",
              "    <tr>\n",
              "      <th>12346.0</th>\n",
              "      <th>2011-03-31</th>\n",
              "      <td>77183.60</td>\n",
              "      <td>77183.600000</td>\n",
              "      <td>1.0</td>\n",
              "    </tr>\n",
              "    <tr>\n",
              "      <th rowspan=\"4\" valign=\"top\">12347.0</th>\n",
              "      <th>2010-12-31</th>\n",
              "      <td>711.79</td>\n",
              "      <td>711.790000</td>\n",
              "      <td>1.0</td>\n",
              "    </tr>\n",
              "    <tr>\n",
              "      <th>2011-03-31</th>\n",
              "      <td>475.39</td>\n",
              "      <td>475.390000</td>\n",
              "      <td>1.0</td>\n",
              "    </tr>\n",
              "    <tr>\n",
              "      <th>2011-06-30</th>\n",
              "      <td>1018.77</td>\n",
              "      <td>509.385000</td>\n",
              "      <td>2.0</td>\n",
              "    </tr>\n",
              "    <tr>\n",
              "      <th>2011-09-30</th>\n",
              "      <td>584.91</td>\n",
              "      <td>584.910000</td>\n",
              "      <td>1.0</td>\n",
              "    </tr>\n",
              "    <tr>\n",
              "      <th>...</th>\n",
              "      <th>...</th>\n",
              "      <td>...</td>\n",
              "      <td>...</td>\n",
              "      <td>...</td>\n",
              "    </tr>\n",
              "    <tr>\n",
              "      <th rowspan=\"3\" valign=\"top\">18283.0</th>\n",
              "      <th>2011-06-30</th>\n",
              "      <td>524.68</td>\n",
              "      <td>131.170000</td>\n",
              "      <td>4.0</td>\n",
              "    </tr>\n",
              "    <tr>\n",
              "      <th>2011-09-30</th>\n",
              "      <td>278.09</td>\n",
              "      <td>92.696667</td>\n",
              "      <td>3.0</td>\n",
              "    </tr>\n",
              "    <tr>\n",
              "      <th>2011-12-31</th>\n",
              "      <td>766.21</td>\n",
              "      <td>153.242000</td>\n",
              "      <td>5.0</td>\n",
              "    </tr>\n",
              "    <tr>\n",
              "      <th rowspan=\"2\" valign=\"top\">18287.0</th>\n",
              "      <th>2011-06-30</th>\n",
              "      <td>765.28</td>\n",
              "      <td>765.280000</td>\n",
              "      <td>1.0</td>\n",
              "    </tr>\n",
              "    <tr>\n",
              "      <th>2011-12-31</th>\n",
              "      <td>1072.00</td>\n",
              "      <td>536.000000</td>\n",
              "      <td>2.0</td>\n",
              "    </tr>\n",
              "  </tbody>\n",
              "</table>\n",
              "<p>9220 rows × 3 columns</p>\n",
              "</div>"
            ],
            "text/plain": [
              "                           Sales                    \n",
              "                             sum           avg count\n",
              "CustomerID InvoiceDate                              \n",
              "12346.0    2011-03-31   77183.60  77183.600000   1.0\n",
              "12347.0    2010-12-31     711.79    711.790000   1.0\n",
              "           2011-03-31     475.39    475.390000   1.0\n",
              "           2011-06-30    1018.77    509.385000   2.0\n",
              "           2011-09-30     584.91    584.910000   1.0\n",
              "...                          ...           ...   ...\n",
              "18283.0    2011-06-30     524.68    131.170000   4.0\n",
              "           2011-09-30     278.09     92.696667   3.0\n",
              "           2011-12-31     766.21    153.242000   5.0\n",
              "18287.0    2011-06-30     765.28    765.280000   1.0\n",
              "           2011-12-31    1072.00    536.000000   2.0\n",
              "\n",
              "[9220 rows x 3 columns]"
            ]
          },
          "metadata": {
            "tags": []
          },
          "execution_count": 68
        }
      ]
    },
    {
      "cell_type": "code",
      "metadata": {
        "id": "Eulgy-Iq7BZD",
        "colab_type": "code",
        "colab": {
          "base_uri": "https://localhost:8080/",
          "height": 359
        },
        "outputId": "f4fab32c-f06a-4068-ad66-399aeb529aa8"
      },
      "source": [
        "\n",
        "data_df.columns = ['_'.join(col).lower() for col in data_df.columns]\n",
        "data_df = data_df.reset_index()\n",
        "data_df.head(10)"
      ],
      "execution_count": 73,
      "outputs": [
        {
          "output_type": "execute_result",
          "data": {
            "text/html": [
              "<div>\n",
              "<style scoped>\n",
              "    .dataframe tbody tr th:only-of-type {\n",
              "        vertical-align: middle;\n",
              "    }\n",
              "\n",
              "    .dataframe tbody tr th {\n",
              "        vertical-align: top;\n",
              "    }\n",
              "\n",
              "    .dataframe thead th {\n",
              "        text-align: right;\n",
              "    }\n",
              "</style>\n",
              "<table border=\"1\" class=\"dataframe\">\n",
              "  <thead>\n",
              "    <tr style=\"text-align: right;\">\n",
              "      <th></th>\n",
              "      <th>CustomerID</th>\n",
              "      <th>InvoiceDate</th>\n",
              "      <th>sales_sum</th>\n",
              "      <th>sales_avg</th>\n",
              "      <th>sales_count</th>\n",
              "    </tr>\n",
              "  </thead>\n",
              "  <tbody>\n",
              "    <tr>\n",
              "      <th>0</th>\n",
              "      <td>12346.0</td>\n",
              "      <td>2011-03-31</td>\n",
              "      <td>77183.60</td>\n",
              "      <td>77183.600</td>\n",
              "      <td>1.0</td>\n",
              "    </tr>\n",
              "    <tr>\n",
              "      <th>1</th>\n",
              "      <td>12347.0</td>\n",
              "      <td>2010-12-31</td>\n",
              "      <td>711.79</td>\n",
              "      <td>711.790</td>\n",
              "      <td>1.0</td>\n",
              "    </tr>\n",
              "    <tr>\n",
              "      <th>2</th>\n",
              "      <td>12347.0</td>\n",
              "      <td>2011-03-31</td>\n",
              "      <td>475.39</td>\n",
              "      <td>475.390</td>\n",
              "      <td>1.0</td>\n",
              "    </tr>\n",
              "    <tr>\n",
              "      <th>3</th>\n",
              "      <td>12347.0</td>\n",
              "      <td>2011-06-30</td>\n",
              "      <td>1018.77</td>\n",
              "      <td>509.385</td>\n",
              "      <td>2.0</td>\n",
              "    </tr>\n",
              "    <tr>\n",
              "      <th>4</th>\n",
              "      <td>12347.0</td>\n",
              "      <td>2011-09-30</td>\n",
              "      <td>584.91</td>\n",
              "      <td>584.910</td>\n",
              "      <td>1.0</td>\n",
              "    </tr>\n",
              "    <tr>\n",
              "      <th>5</th>\n",
              "      <td>12347.0</td>\n",
              "      <td>2011-12-31</td>\n",
              "      <td>1294.32</td>\n",
              "      <td>1294.320</td>\n",
              "      <td>1.0</td>\n",
              "    </tr>\n",
              "    <tr>\n",
              "      <th>6</th>\n",
              "      <td>12348.0</td>\n",
              "      <td>2010-12-31</td>\n",
              "      <td>892.80</td>\n",
              "      <td>892.800</td>\n",
              "      <td>1.0</td>\n",
              "    </tr>\n",
              "    <tr>\n",
              "      <th>7</th>\n",
              "      <td>12348.0</td>\n",
              "      <td>2011-03-31</td>\n",
              "      <td>227.44</td>\n",
              "      <td>227.440</td>\n",
              "      <td>1.0</td>\n",
              "    </tr>\n",
              "    <tr>\n",
              "      <th>8</th>\n",
              "      <td>12348.0</td>\n",
              "      <td>2011-06-30</td>\n",
              "      <td>367.00</td>\n",
              "      <td>367.000</td>\n",
              "      <td>1.0</td>\n",
              "    </tr>\n",
              "    <tr>\n",
              "      <th>9</th>\n",
              "      <td>12348.0</td>\n",
              "      <td>2011-09-30</td>\n",
              "      <td>310.00</td>\n",
              "      <td>310.000</td>\n",
              "      <td>1.0</td>\n",
              "    </tr>\n",
              "  </tbody>\n",
              "</table>\n",
              "</div>"
            ],
            "text/plain": [
              "   CustomerID InvoiceDate  sales_sum  sales_avg  sales_count\n",
              "0     12346.0  2011-03-31   77183.60  77183.600          1.0\n",
              "1     12347.0  2010-12-31     711.79    711.790          1.0\n",
              "2     12347.0  2011-03-31     475.39    475.390          1.0\n",
              "3     12347.0  2011-06-30    1018.77    509.385          2.0\n",
              "4     12347.0  2011-09-30     584.91    584.910          1.0\n",
              "5     12347.0  2011-12-31    1294.32   1294.320          1.0\n",
              "6     12348.0  2010-12-31     892.80    892.800          1.0\n",
              "7     12348.0  2011-03-31     227.44    227.440          1.0\n",
              "8     12348.0  2011-06-30     367.00    367.000          1.0\n",
              "9     12348.0  2011-09-30     310.00    310.000          1.0"
            ]
          },
          "metadata": {
            "tags": []
          },
          "execution_count": 73
        }
      ]
    },
    {
      "cell_type": "code",
      "metadata": {
        "id": "KAK7ftRO7af7",
        "colab_type": "code",
        "colab": {
          "base_uri": "https://localhost:8080/",
          "height": 102
        },
        "outputId": "668f038b-6ccf-4d04-eee5-9407c2b1ef72"
      },
      "source": [
        "date_month_map = {\n",
        "    str(x)[:10]: 'M_%s' % (i+1) for i, x in enumerate(\n",
        "        sorted(data_df.reset_index()['InvoiceDate'].unique(), reverse=True)\n",
        "    )\n",
        "}\n",
        "date_month_map"
      ],
      "execution_count": 74,
      "outputs": [
        {
          "output_type": "execute_result",
          "data": {
            "text/plain": [
              "{'2010-12-31': 'M_5',\n",
              " '2011-03-31': 'M_4',\n",
              " '2011-06-30': 'M_3',\n",
              " '2011-09-30': 'M_2',\n",
              " '2011-12-31': 'M_1'}"
            ]
          },
          "metadata": {
            "tags": []
          },
          "execution_count": 74
        }
      ]
    },
    {
      "cell_type": "code",
      "metadata": {
        "id": "zaS3ro8r7ai1",
        "colab_type": "code",
        "colab": {
          "base_uri": "https://localhost:8080/",
          "height": 221
        },
        "outputId": "c24566a7-029f-4203-c5a5-b13ddf33919d"
      },
      "source": [
        "data_df['M'] = data_df['InvoiceDate'].apply(lambda x: date_month_map[str(x)[:10]])\n",
        "data_df['M']"
      ],
      "execution_count": 75,
      "outputs": [
        {
          "output_type": "execute_result",
          "data": {
            "text/plain": [
              "0       M_4\n",
              "1       M_5\n",
              "2       M_4\n",
              "3       M_3\n",
              "4       M_2\n",
              "       ... \n",
              "9215    M_3\n",
              "9216    M_2\n",
              "9217    M_1\n",
              "9218    M_3\n",
              "9219    M_1\n",
              "Name: M, Length: 9220, dtype: object"
            ]
          },
          "metadata": {
            "tags": []
          },
          "execution_count": 75
        }
      ]
    },
    {
      "cell_type": "code",
      "metadata": {
        "id": "jMIAVGYV7alb",
        "colab_type": "code",
        "colab": {
          "base_uri": "https://localhost:8080/",
          "height": 359
        },
        "outputId": "b37c04cb-39aa-4d7b-af83-f7f60eb9b423"
      },
      "source": [
        "\n",
        "data_df.head(10)"
      ],
      "execution_count": 76,
      "outputs": [
        {
          "output_type": "execute_result",
          "data": {
            "text/html": [
              "<div>\n",
              "<style scoped>\n",
              "    .dataframe tbody tr th:only-of-type {\n",
              "        vertical-align: middle;\n",
              "    }\n",
              "\n",
              "    .dataframe tbody tr th {\n",
              "        vertical-align: top;\n",
              "    }\n",
              "\n",
              "    .dataframe thead th {\n",
              "        text-align: right;\n",
              "    }\n",
              "</style>\n",
              "<table border=\"1\" class=\"dataframe\">\n",
              "  <thead>\n",
              "    <tr style=\"text-align: right;\">\n",
              "      <th></th>\n",
              "      <th>CustomerID</th>\n",
              "      <th>InvoiceDate</th>\n",
              "      <th>sales_sum</th>\n",
              "      <th>sales_avg</th>\n",
              "      <th>sales_count</th>\n",
              "      <th>M</th>\n",
              "    </tr>\n",
              "  </thead>\n",
              "  <tbody>\n",
              "    <tr>\n",
              "      <th>0</th>\n",
              "      <td>12346.0</td>\n",
              "      <td>2011-03-31</td>\n",
              "      <td>77183.60</td>\n",
              "      <td>77183.600</td>\n",
              "      <td>1.0</td>\n",
              "      <td>M_4</td>\n",
              "    </tr>\n",
              "    <tr>\n",
              "      <th>1</th>\n",
              "      <td>12347.0</td>\n",
              "      <td>2010-12-31</td>\n",
              "      <td>711.79</td>\n",
              "      <td>711.790</td>\n",
              "      <td>1.0</td>\n",
              "      <td>M_5</td>\n",
              "    </tr>\n",
              "    <tr>\n",
              "      <th>2</th>\n",
              "      <td>12347.0</td>\n",
              "      <td>2011-03-31</td>\n",
              "      <td>475.39</td>\n",
              "      <td>475.390</td>\n",
              "      <td>1.0</td>\n",
              "      <td>M_4</td>\n",
              "    </tr>\n",
              "    <tr>\n",
              "      <th>3</th>\n",
              "      <td>12347.0</td>\n",
              "      <td>2011-06-30</td>\n",
              "      <td>1018.77</td>\n",
              "      <td>509.385</td>\n",
              "      <td>2.0</td>\n",
              "      <td>M_3</td>\n",
              "    </tr>\n",
              "    <tr>\n",
              "      <th>4</th>\n",
              "      <td>12347.0</td>\n",
              "      <td>2011-09-30</td>\n",
              "      <td>584.91</td>\n",
              "      <td>584.910</td>\n",
              "      <td>1.0</td>\n",
              "      <td>M_2</td>\n",
              "    </tr>\n",
              "    <tr>\n",
              "      <th>5</th>\n",
              "      <td>12347.0</td>\n",
              "      <td>2011-12-31</td>\n",
              "      <td>1294.32</td>\n",
              "      <td>1294.320</td>\n",
              "      <td>1.0</td>\n",
              "      <td>M_1</td>\n",
              "    </tr>\n",
              "    <tr>\n",
              "      <th>6</th>\n",
              "      <td>12348.0</td>\n",
              "      <td>2010-12-31</td>\n",
              "      <td>892.80</td>\n",
              "      <td>892.800</td>\n",
              "      <td>1.0</td>\n",
              "      <td>M_5</td>\n",
              "    </tr>\n",
              "    <tr>\n",
              "      <th>7</th>\n",
              "      <td>12348.0</td>\n",
              "      <td>2011-03-31</td>\n",
              "      <td>227.44</td>\n",
              "      <td>227.440</td>\n",
              "      <td>1.0</td>\n",
              "      <td>M_4</td>\n",
              "    </tr>\n",
              "    <tr>\n",
              "      <th>8</th>\n",
              "      <td>12348.0</td>\n",
              "      <td>2011-06-30</td>\n",
              "      <td>367.00</td>\n",
              "      <td>367.000</td>\n",
              "      <td>1.0</td>\n",
              "      <td>M_3</td>\n",
              "    </tr>\n",
              "    <tr>\n",
              "      <th>9</th>\n",
              "      <td>12348.0</td>\n",
              "      <td>2011-09-30</td>\n",
              "      <td>310.00</td>\n",
              "      <td>310.000</td>\n",
              "      <td>1.0</td>\n",
              "      <td>M_2</td>\n",
              "    </tr>\n",
              "  </tbody>\n",
              "</table>\n",
              "</div>"
            ],
            "text/plain": [
              "   CustomerID InvoiceDate  sales_sum  sales_avg  sales_count    M\n",
              "0     12346.0  2011-03-31   77183.60  77183.600          1.0  M_4\n",
              "1     12347.0  2010-12-31     711.79    711.790          1.0  M_5\n",
              "2     12347.0  2011-03-31     475.39    475.390          1.0  M_4\n",
              "3     12347.0  2011-06-30    1018.77    509.385          2.0  M_3\n",
              "4     12347.0  2011-09-30     584.91    584.910          1.0  M_2\n",
              "5     12347.0  2011-12-31    1294.32   1294.320          1.0  M_1\n",
              "6     12348.0  2010-12-31     892.80    892.800          1.0  M_5\n",
              "7     12348.0  2011-03-31     227.44    227.440          1.0  M_4\n",
              "8     12348.0  2011-06-30     367.00    367.000          1.0  M_3\n",
              "9     12348.0  2011-09-30     310.00    310.000          1.0  M_2"
            ]
          },
          "metadata": {
            "tags": []
          },
          "execution_count": 76
        }
      ]
    },
    {
      "cell_type": "markdown",
      "metadata": {
        "id": "3BQf92NFargM",
        "colab_type": "text"
      },
      "source": [
        "- Building Sample Set"
      ]
    },
    {
      "cell_type": "code",
      "metadata": {
        "id": "xb9k7YrR7o5k",
        "colab_type": "code",
        "colab": {
          "base_uri": "https://localhost:8080/",
          "height": 266
        },
        "outputId": "28ad1818-6c8e-414e-a4ac-a3ac0eee1da8"
      },
      "source": [
        "features_df = pd.pivot_table(\n",
        "    data_df.loc[data_df['M'] != 'M_1'], \n",
        "    values=['sales_sum', 'sales_avg', 'sales_count'], \n",
        "    columns='M', \n",
        "    index='CustomerID'\n",
        ")\n",
        "features_df.head()"
      ],
      "execution_count": 95,
      "outputs": [
        {
          "output_type": "execute_result",
          "data": {
            "text/html": [
              "<div>\n",
              "<style scoped>\n",
              "    .dataframe tbody tr th:only-of-type {\n",
              "        vertical-align: middle;\n",
              "    }\n",
              "\n",
              "    .dataframe tbody tr th {\n",
              "        vertical-align: top;\n",
              "    }\n",
              "\n",
              "    .dataframe thead tr th {\n",
              "        text-align: left;\n",
              "    }\n",
              "\n",
              "    .dataframe thead tr:last-of-type th {\n",
              "        text-align: right;\n",
              "    }\n",
              "</style>\n",
              "<table border=\"1\" class=\"dataframe\">\n",
              "  <thead>\n",
              "    <tr>\n",
              "      <th></th>\n",
              "      <th colspan=\"4\" halign=\"left\">sales_avg</th>\n",
              "      <th colspan=\"4\" halign=\"left\">sales_count</th>\n",
              "      <th colspan=\"4\" halign=\"left\">sales_sum</th>\n",
              "    </tr>\n",
              "    <tr>\n",
              "      <th>M</th>\n",
              "      <th>M_2</th>\n",
              "      <th>M_3</th>\n",
              "      <th>M_4</th>\n",
              "      <th>M_5</th>\n",
              "      <th>M_2</th>\n",
              "      <th>M_3</th>\n",
              "      <th>M_4</th>\n",
              "      <th>M_5</th>\n",
              "      <th>M_2</th>\n",
              "      <th>M_3</th>\n",
              "      <th>M_4</th>\n",
              "      <th>M_5</th>\n",
              "    </tr>\n",
              "    <tr>\n",
              "      <th>CustomerID</th>\n",
              "      <th></th>\n",
              "      <th></th>\n",
              "      <th></th>\n",
              "      <th></th>\n",
              "      <th></th>\n",
              "      <th></th>\n",
              "      <th></th>\n",
              "      <th></th>\n",
              "      <th></th>\n",
              "      <th></th>\n",
              "      <th></th>\n",
              "      <th></th>\n",
              "    </tr>\n",
              "  </thead>\n",
              "  <tbody>\n",
              "    <tr>\n",
              "      <th>12346.0</th>\n",
              "      <td>NaN</td>\n",
              "      <td>NaN</td>\n",
              "      <td>77183.600</td>\n",
              "      <td>NaN</td>\n",
              "      <td>NaN</td>\n",
              "      <td>NaN</td>\n",
              "      <td>1.0</td>\n",
              "      <td>NaN</td>\n",
              "      <td>NaN</td>\n",
              "      <td>NaN</td>\n",
              "      <td>77183.60</td>\n",
              "      <td>NaN</td>\n",
              "    </tr>\n",
              "    <tr>\n",
              "      <th>12347.0</th>\n",
              "      <td>584.91</td>\n",
              "      <td>509.385</td>\n",
              "      <td>475.390</td>\n",
              "      <td>711.79</td>\n",
              "      <td>1.0</td>\n",
              "      <td>2.0</td>\n",
              "      <td>1.0</td>\n",
              "      <td>1.0</td>\n",
              "      <td>584.91</td>\n",
              "      <td>1018.77</td>\n",
              "      <td>475.39</td>\n",
              "      <td>711.79</td>\n",
              "    </tr>\n",
              "    <tr>\n",
              "      <th>12348.0</th>\n",
              "      <td>310.00</td>\n",
              "      <td>367.000</td>\n",
              "      <td>227.440</td>\n",
              "      <td>892.80</td>\n",
              "      <td>1.0</td>\n",
              "      <td>1.0</td>\n",
              "      <td>1.0</td>\n",
              "      <td>1.0</td>\n",
              "      <td>310.00</td>\n",
              "      <td>367.00</td>\n",
              "      <td>227.44</td>\n",
              "      <td>892.80</td>\n",
              "    </tr>\n",
              "    <tr>\n",
              "      <th>12350.0</th>\n",
              "      <td>NaN</td>\n",
              "      <td>NaN</td>\n",
              "      <td>334.400</td>\n",
              "      <td>NaN</td>\n",
              "      <td>NaN</td>\n",
              "      <td>NaN</td>\n",
              "      <td>1.0</td>\n",
              "      <td>NaN</td>\n",
              "      <td>NaN</td>\n",
              "      <td>NaN</td>\n",
              "      <td>334.40</td>\n",
              "      <td>NaN</td>\n",
              "    </tr>\n",
              "    <tr>\n",
              "      <th>12352.0</th>\n",
              "      <td>316.25</td>\n",
              "      <td>NaN</td>\n",
              "      <td>312.362</td>\n",
              "      <td>NaN</td>\n",
              "      <td>2.0</td>\n",
              "      <td>NaN</td>\n",
              "      <td>5.0</td>\n",
              "      <td>NaN</td>\n",
              "      <td>632.50</td>\n",
              "      <td>NaN</td>\n",
              "      <td>1561.81</td>\n",
              "      <td>NaN</td>\n",
              "    </tr>\n",
              "  </tbody>\n",
              "</table>\n",
              "</div>"
            ],
            "text/plain": [
              "           sales_avg                      ... sales_sum                  \n",
              "M                M_2      M_3        M_4  ...       M_3       M_4     M_5\n",
              "CustomerID                                ...                            \n",
              "12346.0          NaN      NaN  77183.600  ...       NaN  77183.60     NaN\n",
              "12347.0       584.91  509.385    475.390  ...   1018.77    475.39  711.79\n",
              "12348.0       310.00  367.000    227.440  ...    367.00    227.44  892.80\n",
              "12350.0          NaN      NaN    334.400  ...       NaN    334.40     NaN\n",
              "12352.0       316.25      NaN    312.362  ...       NaN   1561.81     NaN\n",
              "\n",
              "[5 rows x 12 columns]"
            ]
          },
          "metadata": {
            "tags": []
          },
          "execution_count": 95
        }
      ]
    },
    {
      "cell_type": "code",
      "metadata": {
        "id": "lSJadM_Was5G",
        "colab_type": "code",
        "colab": {
          "base_uri": "https://localhost:8080/",
          "height": 34
        },
        "outputId": "551a71a5-796c-4938-b343-739189d94ade"
      },
      "source": [
        "features_df.columns = ['_'.join(col) for col in features_df.columns]\n",
        "features_df.shape"
      ],
      "execution_count": 96,
      "outputs": [
        {
          "output_type": "execute_result",
          "data": {
            "text/plain": [
              "(3616, 12)"
            ]
          },
          "metadata": {
            "tags": []
          },
          "execution_count": 96
        }
      ]
    },
    {
      "cell_type": "code",
      "metadata": {
        "id": "IyWR_u44avNT",
        "colab_type": "code",
        "colab": {
          "base_uri": "https://localhost:8080/",
          "height": 410
        },
        "outputId": "e3511771-4805-4590-925d-33c3636ae051"
      },
      "source": [
        "features_df.head(10)"
      ],
      "execution_count": 97,
      "outputs": [
        {
          "output_type": "execute_result",
          "data": {
            "text/html": [
              "<div>\n",
              "<style scoped>\n",
              "    .dataframe tbody tr th:only-of-type {\n",
              "        vertical-align: middle;\n",
              "    }\n",
              "\n",
              "    .dataframe tbody tr th {\n",
              "        vertical-align: top;\n",
              "    }\n",
              "\n",
              "    .dataframe thead th {\n",
              "        text-align: right;\n",
              "    }\n",
              "</style>\n",
              "<table border=\"1\" class=\"dataframe\">\n",
              "  <thead>\n",
              "    <tr style=\"text-align: right;\">\n",
              "      <th></th>\n",
              "      <th>sales_avg_M_2</th>\n",
              "      <th>sales_avg_M_3</th>\n",
              "      <th>sales_avg_M_4</th>\n",
              "      <th>sales_avg_M_5</th>\n",
              "      <th>sales_count_M_2</th>\n",
              "      <th>sales_count_M_3</th>\n",
              "      <th>sales_count_M_4</th>\n",
              "      <th>sales_count_M_5</th>\n",
              "      <th>sales_sum_M_2</th>\n",
              "      <th>sales_sum_M_3</th>\n",
              "      <th>sales_sum_M_4</th>\n",
              "      <th>sales_sum_M_5</th>\n",
              "    </tr>\n",
              "    <tr>\n",
              "      <th>CustomerID</th>\n",
              "      <th></th>\n",
              "      <th></th>\n",
              "      <th></th>\n",
              "      <th></th>\n",
              "      <th></th>\n",
              "      <th></th>\n",
              "      <th></th>\n",
              "      <th></th>\n",
              "      <th></th>\n",
              "      <th></th>\n",
              "      <th></th>\n",
              "      <th></th>\n",
              "    </tr>\n",
              "  </thead>\n",
              "  <tbody>\n",
              "    <tr>\n",
              "      <th>12346.0</th>\n",
              "      <td>NaN</td>\n",
              "      <td>NaN</td>\n",
              "      <td>77183.600</td>\n",
              "      <td>NaN</td>\n",
              "      <td>NaN</td>\n",
              "      <td>NaN</td>\n",
              "      <td>1.0</td>\n",
              "      <td>NaN</td>\n",
              "      <td>NaN</td>\n",
              "      <td>NaN</td>\n",
              "      <td>77183.60</td>\n",
              "      <td>NaN</td>\n",
              "    </tr>\n",
              "    <tr>\n",
              "      <th>12347.0</th>\n",
              "      <td>584.91</td>\n",
              "      <td>509.385</td>\n",
              "      <td>475.390</td>\n",
              "      <td>711.79</td>\n",
              "      <td>1.0</td>\n",
              "      <td>2.0</td>\n",
              "      <td>1.0</td>\n",
              "      <td>1.0</td>\n",
              "      <td>584.91</td>\n",
              "      <td>1018.77</td>\n",
              "      <td>475.39</td>\n",
              "      <td>711.79</td>\n",
              "    </tr>\n",
              "    <tr>\n",
              "      <th>12348.0</th>\n",
              "      <td>310.00</td>\n",
              "      <td>367.000</td>\n",
              "      <td>227.440</td>\n",
              "      <td>892.80</td>\n",
              "      <td>1.0</td>\n",
              "      <td>1.0</td>\n",
              "      <td>1.0</td>\n",
              "      <td>1.0</td>\n",
              "      <td>310.00</td>\n",
              "      <td>367.00</td>\n",
              "      <td>227.44</td>\n",
              "      <td>892.80</td>\n",
              "    </tr>\n",
              "    <tr>\n",
              "      <th>12350.0</th>\n",
              "      <td>NaN</td>\n",
              "      <td>NaN</td>\n",
              "      <td>334.400</td>\n",
              "      <td>NaN</td>\n",
              "      <td>NaN</td>\n",
              "      <td>NaN</td>\n",
              "      <td>1.0</td>\n",
              "      <td>NaN</td>\n",
              "      <td>NaN</td>\n",
              "      <td>NaN</td>\n",
              "      <td>334.40</td>\n",
              "      <td>NaN</td>\n",
              "    </tr>\n",
              "    <tr>\n",
              "      <th>12352.0</th>\n",
              "      <td>316.25</td>\n",
              "      <td>NaN</td>\n",
              "      <td>312.362</td>\n",
              "      <td>NaN</td>\n",
              "      <td>2.0</td>\n",
              "      <td>NaN</td>\n",
              "      <td>5.0</td>\n",
              "      <td>NaN</td>\n",
              "      <td>632.50</td>\n",
              "      <td>NaN</td>\n",
              "      <td>1561.81</td>\n",
              "      <td>NaN</td>\n",
              "    </tr>\n",
              "    <tr>\n",
              "      <th>12353.0</th>\n",
              "      <td>NaN</td>\n",
              "      <td>89.000</td>\n",
              "      <td>NaN</td>\n",
              "      <td>NaN</td>\n",
              "      <td>NaN</td>\n",
              "      <td>1.0</td>\n",
              "      <td>NaN</td>\n",
              "      <td>NaN</td>\n",
              "      <td>NaN</td>\n",
              "      <td>89.00</td>\n",
              "      <td>NaN</td>\n",
              "      <td>NaN</td>\n",
              "    </tr>\n",
              "    <tr>\n",
              "      <th>12354.0</th>\n",
              "      <td>NaN</td>\n",
              "      <td>1079.400</td>\n",
              "      <td>NaN</td>\n",
              "      <td>NaN</td>\n",
              "      <td>NaN</td>\n",
              "      <td>1.0</td>\n",
              "      <td>NaN</td>\n",
              "      <td>NaN</td>\n",
              "      <td>NaN</td>\n",
              "      <td>1079.40</td>\n",
              "      <td>NaN</td>\n",
              "      <td>NaN</td>\n",
              "    </tr>\n",
              "    <tr>\n",
              "      <th>12355.0</th>\n",
              "      <td>NaN</td>\n",
              "      <td>459.400</td>\n",
              "      <td>NaN</td>\n",
              "      <td>NaN</td>\n",
              "      <td>NaN</td>\n",
              "      <td>1.0</td>\n",
              "      <td>NaN</td>\n",
              "      <td>NaN</td>\n",
              "      <td>NaN</td>\n",
              "      <td>459.40</td>\n",
              "      <td>NaN</td>\n",
              "      <td>NaN</td>\n",
              "    </tr>\n",
              "    <tr>\n",
              "      <th>12356.0</th>\n",
              "      <td>NaN</td>\n",
              "      <td>481.460</td>\n",
              "      <td>2271.620</td>\n",
              "      <td>NaN</td>\n",
              "      <td>NaN</td>\n",
              "      <td>1.0</td>\n",
              "      <td>1.0</td>\n",
              "      <td>NaN</td>\n",
              "      <td>NaN</td>\n",
              "      <td>481.46</td>\n",
              "      <td>2271.62</td>\n",
              "      <td>NaN</td>\n",
              "    </tr>\n",
              "    <tr>\n",
              "      <th>12358.0</th>\n",
              "      <td>484.86</td>\n",
              "      <td>NaN</td>\n",
              "      <td>NaN</td>\n",
              "      <td>NaN</td>\n",
              "      <td>1.0</td>\n",
              "      <td>NaN</td>\n",
              "      <td>NaN</td>\n",
              "      <td>NaN</td>\n",
              "      <td>484.86</td>\n",
              "      <td>NaN</td>\n",
              "      <td>NaN</td>\n",
              "      <td>NaN</td>\n",
              "    </tr>\n",
              "  </tbody>\n",
              "</table>\n",
              "</div>"
            ],
            "text/plain": [
              "            sales_avg_M_2  sales_avg_M_3  ...  sales_sum_M_4  sales_sum_M_5\n",
              "CustomerID                                ...                              \n",
              "12346.0               NaN            NaN  ...       77183.60            NaN\n",
              "12347.0            584.91        509.385  ...         475.39         711.79\n",
              "12348.0            310.00        367.000  ...         227.44         892.80\n",
              "12350.0               NaN            NaN  ...         334.40            NaN\n",
              "12352.0            316.25            NaN  ...        1561.81            NaN\n",
              "12353.0               NaN         89.000  ...            NaN            NaN\n",
              "12354.0               NaN       1079.400  ...            NaN            NaN\n",
              "12355.0               NaN        459.400  ...            NaN            NaN\n",
              "12356.0               NaN        481.460  ...        2271.62            NaN\n",
              "12358.0            484.86            NaN  ...            NaN            NaN\n",
              "\n",
              "[10 rows x 12 columns]"
            ]
          },
          "metadata": {
            "tags": []
          },
          "execution_count": 97
        }
      ]
    },
    {
      "cell_type": "code",
      "metadata": {
        "id": "dyy8H-d-azmV",
        "colab_type": "code",
        "colab": {
          "base_uri": "https://localhost:8080/",
          "height": 255
        },
        "outputId": "9951c3e6-e342-4db1-c824-e3984356171d"
      },
      "source": [
        "features_df = features_df.fillna(0)\n",
        "features_df.head()"
      ],
      "execution_count": 98,
      "outputs": [
        {
          "output_type": "execute_result",
          "data": {
            "text/html": [
              "<div>\n",
              "<style scoped>\n",
              "    .dataframe tbody tr th:only-of-type {\n",
              "        vertical-align: middle;\n",
              "    }\n",
              "\n",
              "    .dataframe tbody tr th {\n",
              "        vertical-align: top;\n",
              "    }\n",
              "\n",
              "    .dataframe thead th {\n",
              "        text-align: right;\n",
              "    }\n",
              "</style>\n",
              "<table border=\"1\" class=\"dataframe\">\n",
              "  <thead>\n",
              "    <tr style=\"text-align: right;\">\n",
              "      <th></th>\n",
              "      <th>sales_avg_M_2</th>\n",
              "      <th>sales_avg_M_3</th>\n",
              "      <th>sales_avg_M_4</th>\n",
              "      <th>sales_avg_M_5</th>\n",
              "      <th>sales_count_M_2</th>\n",
              "      <th>sales_count_M_3</th>\n",
              "      <th>sales_count_M_4</th>\n",
              "      <th>sales_count_M_5</th>\n",
              "      <th>sales_sum_M_2</th>\n",
              "      <th>sales_sum_M_3</th>\n",
              "      <th>sales_sum_M_4</th>\n",
              "      <th>sales_sum_M_5</th>\n",
              "    </tr>\n",
              "    <tr>\n",
              "      <th>CustomerID</th>\n",
              "      <th></th>\n",
              "      <th></th>\n",
              "      <th></th>\n",
              "      <th></th>\n",
              "      <th></th>\n",
              "      <th></th>\n",
              "      <th></th>\n",
              "      <th></th>\n",
              "      <th></th>\n",
              "      <th></th>\n",
              "      <th></th>\n",
              "      <th></th>\n",
              "    </tr>\n",
              "  </thead>\n",
              "  <tbody>\n",
              "    <tr>\n",
              "      <th>12346.0</th>\n",
              "      <td>0.00</td>\n",
              "      <td>0.000</td>\n",
              "      <td>77183.600</td>\n",
              "      <td>0.00</td>\n",
              "      <td>0.0</td>\n",
              "      <td>0.0</td>\n",
              "      <td>1.0</td>\n",
              "      <td>0.0</td>\n",
              "      <td>0.00</td>\n",
              "      <td>0.00</td>\n",
              "      <td>77183.60</td>\n",
              "      <td>0.00</td>\n",
              "    </tr>\n",
              "    <tr>\n",
              "      <th>12347.0</th>\n",
              "      <td>584.91</td>\n",
              "      <td>509.385</td>\n",
              "      <td>475.390</td>\n",
              "      <td>711.79</td>\n",
              "      <td>1.0</td>\n",
              "      <td>2.0</td>\n",
              "      <td>1.0</td>\n",
              "      <td>1.0</td>\n",
              "      <td>584.91</td>\n",
              "      <td>1018.77</td>\n",
              "      <td>475.39</td>\n",
              "      <td>711.79</td>\n",
              "    </tr>\n",
              "    <tr>\n",
              "      <th>12348.0</th>\n",
              "      <td>310.00</td>\n",
              "      <td>367.000</td>\n",
              "      <td>227.440</td>\n",
              "      <td>892.80</td>\n",
              "      <td>1.0</td>\n",
              "      <td>1.0</td>\n",
              "      <td>1.0</td>\n",
              "      <td>1.0</td>\n",
              "      <td>310.00</td>\n",
              "      <td>367.00</td>\n",
              "      <td>227.44</td>\n",
              "      <td>892.80</td>\n",
              "    </tr>\n",
              "    <tr>\n",
              "      <th>12350.0</th>\n",
              "      <td>0.00</td>\n",
              "      <td>0.000</td>\n",
              "      <td>334.400</td>\n",
              "      <td>0.00</td>\n",
              "      <td>0.0</td>\n",
              "      <td>0.0</td>\n",
              "      <td>1.0</td>\n",
              "      <td>0.0</td>\n",
              "      <td>0.00</td>\n",
              "      <td>0.00</td>\n",
              "      <td>334.40</td>\n",
              "      <td>0.00</td>\n",
              "    </tr>\n",
              "    <tr>\n",
              "      <th>12352.0</th>\n",
              "      <td>316.25</td>\n",
              "      <td>0.000</td>\n",
              "      <td>312.362</td>\n",
              "      <td>0.00</td>\n",
              "      <td>2.0</td>\n",
              "      <td>0.0</td>\n",
              "      <td>5.0</td>\n",
              "      <td>0.0</td>\n",
              "      <td>632.50</td>\n",
              "      <td>0.00</td>\n",
              "      <td>1561.81</td>\n",
              "      <td>0.00</td>\n",
              "    </tr>\n",
              "  </tbody>\n",
              "</table>\n",
              "</div>"
            ],
            "text/plain": [
              "            sales_avg_M_2  sales_avg_M_3  ...  sales_sum_M_4  sales_sum_M_5\n",
              "CustomerID                                ...                              \n",
              "12346.0              0.00          0.000  ...       77183.60           0.00\n",
              "12347.0            584.91        509.385  ...         475.39         711.79\n",
              "12348.0            310.00        367.000  ...         227.44         892.80\n",
              "12350.0              0.00          0.000  ...         334.40           0.00\n",
              "12352.0            316.25          0.000  ...        1561.81           0.00\n",
              "\n",
              "[5 rows x 12 columns]"
            ]
          },
          "metadata": {
            "tags": []
          },
          "execution_count": 98
        }
      ]
    },
    {
      "cell_type": "code",
      "metadata": {
        "id": "AMZry-KZgmdi",
        "colab_type": "code",
        "colab": {
          "base_uri": "https://localhost:8080/",
          "height": 204
        },
        "outputId": "8958329e-7847-432a-8374-18ffa1931f25"
      },
      "source": [
        "data_df.head()"
      ],
      "execution_count": 99,
      "outputs": [
        {
          "output_type": "execute_result",
          "data": {
            "text/html": [
              "<div>\n",
              "<style scoped>\n",
              "    .dataframe tbody tr th:only-of-type {\n",
              "        vertical-align: middle;\n",
              "    }\n",
              "\n",
              "    .dataframe tbody tr th {\n",
              "        vertical-align: top;\n",
              "    }\n",
              "\n",
              "    .dataframe thead th {\n",
              "        text-align: right;\n",
              "    }\n",
              "</style>\n",
              "<table border=\"1\" class=\"dataframe\">\n",
              "  <thead>\n",
              "    <tr style=\"text-align: right;\">\n",
              "      <th></th>\n",
              "      <th>CustomerID</th>\n",
              "      <th>InvoiceDate</th>\n",
              "      <th>sales_sum</th>\n",
              "      <th>sales_avg</th>\n",
              "      <th>sales_count</th>\n",
              "      <th>M</th>\n",
              "    </tr>\n",
              "  </thead>\n",
              "  <tbody>\n",
              "    <tr>\n",
              "      <th>0</th>\n",
              "      <td>12346.0</td>\n",
              "      <td>2011-03-31</td>\n",
              "      <td>77183.60</td>\n",
              "      <td>77183.600</td>\n",
              "      <td>1.0</td>\n",
              "      <td>M_4</td>\n",
              "    </tr>\n",
              "    <tr>\n",
              "      <th>1</th>\n",
              "      <td>12347.0</td>\n",
              "      <td>2010-12-31</td>\n",
              "      <td>711.79</td>\n",
              "      <td>711.790</td>\n",
              "      <td>1.0</td>\n",
              "      <td>M_5</td>\n",
              "    </tr>\n",
              "    <tr>\n",
              "      <th>2</th>\n",
              "      <td>12347.0</td>\n",
              "      <td>2011-03-31</td>\n",
              "      <td>475.39</td>\n",
              "      <td>475.390</td>\n",
              "      <td>1.0</td>\n",
              "      <td>M_4</td>\n",
              "    </tr>\n",
              "    <tr>\n",
              "      <th>3</th>\n",
              "      <td>12347.0</td>\n",
              "      <td>2011-06-30</td>\n",
              "      <td>1018.77</td>\n",
              "      <td>509.385</td>\n",
              "      <td>2.0</td>\n",
              "      <td>M_3</td>\n",
              "    </tr>\n",
              "    <tr>\n",
              "      <th>4</th>\n",
              "      <td>12347.0</td>\n",
              "      <td>2011-09-30</td>\n",
              "      <td>584.91</td>\n",
              "      <td>584.910</td>\n",
              "      <td>1.0</td>\n",
              "      <td>M_2</td>\n",
              "    </tr>\n",
              "  </tbody>\n",
              "</table>\n",
              "</div>"
            ],
            "text/plain": [
              "   CustomerID InvoiceDate  sales_sum  sales_avg  sales_count    M\n",
              "0     12346.0  2011-03-31   77183.60  77183.600          1.0  M_4\n",
              "1     12347.0  2010-12-31     711.79    711.790          1.0  M_5\n",
              "2     12347.0  2011-03-31     475.39    475.390          1.0  M_4\n",
              "3     12347.0  2011-06-30    1018.77    509.385          2.0  M_3\n",
              "4     12347.0  2011-09-30     584.91    584.910          1.0  M_2"
            ]
          },
          "metadata": {
            "tags": []
          },
          "execution_count": 99
        }
      ]
    },
    {
      "cell_type": "markdown",
      "metadata": {
        "id": "fY9FQYyOiRjq",
        "colab_type": "text"
      },
      "source": [
        "Now that we have built the features DataFrame, let's build the target variables. Take a look\n",
        "at the following code:"
      ]
    },
    {
      "cell_type": "code",
      "metadata": {
        "id": "SXJ04m_KgdLZ",
        "colab_type": "code",
        "colab": {
          "base_uri": "https://localhost:8080/",
          "height": 204
        },
        "outputId": "77454368-343f-4da6-f9ae-0d7e11a77ec1"
      },
      "source": [
        "response_df = data_df.loc[\n",
        "    data_df['M'] == 'M_1',\n",
        "    ['CustomerID', 'sales_sum']\n",
        "]\n",
        "response_df.head()"
      ],
      "execution_count": 100,
      "outputs": [
        {
          "output_type": "execute_result",
          "data": {
            "text/html": [
              "<div>\n",
              "<style scoped>\n",
              "    .dataframe tbody tr th:only-of-type {\n",
              "        vertical-align: middle;\n",
              "    }\n",
              "\n",
              "    .dataframe tbody tr th {\n",
              "        vertical-align: top;\n",
              "    }\n",
              "\n",
              "    .dataframe thead th {\n",
              "        text-align: right;\n",
              "    }\n",
              "</style>\n",
              "<table border=\"1\" class=\"dataframe\">\n",
              "  <thead>\n",
              "    <tr style=\"text-align: right;\">\n",
              "      <th></th>\n",
              "      <th>CustomerID</th>\n",
              "      <th>sales_sum</th>\n",
              "    </tr>\n",
              "  </thead>\n",
              "  <tbody>\n",
              "    <tr>\n",
              "      <th>5</th>\n",
              "      <td>12347.0</td>\n",
              "      <td>1294.32</td>\n",
              "    </tr>\n",
              "    <tr>\n",
              "      <th>10</th>\n",
              "      <td>12349.0</td>\n",
              "      <td>1757.55</td>\n",
              "    </tr>\n",
              "    <tr>\n",
              "      <th>14</th>\n",
              "      <td>12352.0</td>\n",
              "      <td>311.73</td>\n",
              "    </tr>\n",
              "    <tr>\n",
              "      <th>20</th>\n",
              "      <td>12356.0</td>\n",
              "      <td>58.35</td>\n",
              "    </tr>\n",
              "    <tr>\n",
              "      <th>21</th>\n",
              "      <td>12357.0</td>\n",
              "      <td>6207.67</td>\n",
              "    </tr>\n",
              "  </tbody>\n",
              "</table>\n",
              "</div>"
            ],
            "text/plain": [
              "    CustomerID  sales_sum\n",
              "5      12347.0    1294.32\n",
              "10     12349.0    1757.55\n",
              "14     12352.0     311.73\n",
              "20     12356.0      58.35\n",
              "21     12357.0    6207.67"
            ]
          },
          "metadata": {
            "tags": []
          },
          "execution_count": 100
        }
      ]
    },
    {
      "cell_type": "markdown",
      "metadata": {
        "id": "K_Ft8J_xiaef",
        "colab_type": "text"
      },
      "source": [
        "As you can see from this code, we are taking the last 3 month period, the M_1 group, as the\n",
        "target variable. The target column will be sales_sum, as we want to predict the next 3\n",
        "month customer value, which is the total purchase amount that a given customer is likely to\n",
        "make in the next 3 months. The target variable looks like the following:"
      ]
    },
    {
      "cell_type": "code",
      "metadata": {
        "id": "ht0Jtm4ogjtO",
        "colab_type": "code",
        "colab": {
          "base_uri": "https://localhost:8080/",
          "height": 376
        },
        "outputId": "e7751f54-f18e-4c12-ef82-6de01cc7a4ba"
      },
      "source": [
        "response_df.columns = ['CustomerID', 'CLV_'+clv_freq]\n",
        "print(response_df.shape)\n",
        "response_df.head(10) # only M1"
      ],
      "execution_count": 101,
      "outputs": [
        {
          "output_type": "stream",
          "text": [
            "(2407, 2)\n"
          ],
          "name": "stdout"
        },
        {
          "output_type": "execute_result",
          "data": {
            "text/html": [
              "<div>\n",
              "<style scoped>\n",
              "    .dataframe tbody tr th:only-of-type {\n",
              "        vertical-align: middle;\n",
              "    }\n",
              "\n",
              "    .dataframe tbody tr th {\n",
              "        vertical-align: top;\n",
              "    }\n",
              "\n",
              "    .dataframe thead th {\n",
              "        text-align: right;\n",
              "    }\n",
              "</style>\n",
              "<table border=\"1\" class=\"dataframe\">\n",
              "  <thead>\n",
              "    <tr style=\"text-align: right;\">\n",
              "      <th></th>\n",
              "      <th>CustomerID</th>\n",
              "      <th>CLV_3M</th>\n",
              "    </tr>\n",
              "  </thead>\n",
              "  <tbody>\n",
              "    <tr>\n",
              "      <th>5</th>\n",
              "      <td>12347.0</td>\n",
              "      <td>1294.32</td>\n",
              "    </tr>\n",
              "    <tr>\n",
              "      <th>10</th>\n",
              "      <td>12349.0</td>\n",
              "      <td>1757.55</td>\n",
              "    </tr>\n",
              "    <tr>\n",
              "      <th>14</th>\n",
              "      <td>12352.0</td>\n",
              "      <td>311.73</td>\n",
              "    </tr>\n",
              "    <tr>\n",
              "      <th>20</th>\n",
              "      <td>12356.0</td>\n",
              "      <td>58.35</td>\n",
              "    </tr>\n",
              "    <tr>\n",
              "      <th>21</th>\n",
              "      <td>12357.0</td>\n",
              "      <td>6207.67</td>\n",
              "    </tr>\n",
              "    <tr>\n",
              "      <th>25</th>\n",
              "      <td>12359.0</td>\n",
              "      <td>2876.85</td>\n",
              "    </tr>\n",
              "    <tr>\n",
              "      <th>28</th>\n",
              "      <td>12360.0</td>\n",
              "      <td>1043.78</td>\n",
              "    </tr>\n",
              "    <tr>\n",
              "      <th>33</th>\n",
              "      <td>12362.0</td>\n",
              "      <td>2119.85</td>\n",
              "    </tr>\n",
              "    <tr>\n",
              "      <th>37</th>\n",
              "      <td>12364.0</td>\n",
              "      <td>299.06</td>\n",
              "    </tr>\n",
              "    <tr>\n",
              "      <th>41</th>\n",
              "      <td>12370.0</td>\n",
              "      <td>739.28</td>\n",
              "    </tr>\n",
              "  </tbody>\n",
              "</table>\n",
              "</div>"
            ],
            "text/plain": [
              "    CustomerID   CLV_3M\n",
              "5      12347.0  1294.32\n",
              "10     12349.0  1757.55\n",
              "14     12352.0   311.73\n",
              "20     12356.0    58.35\n",
              "21     12357.0  6207.67\n",
              "25     12359.0  2876.85\n",
              "28     12360.0  1043.78\n",
              "33     12362.0  2119.85\n",
              "37     12364.0   299.06\n",
              "41     12370.0   739.28"
            ]
          },
          "metadata": {
            "tags": []
          },
          "execution_count": 101
        }
      ]
    },
    {
      "cell_type": "markdown",
      "metadata": {
        "id": "ifDwsX2GidyG",
        "colab_type": "text"
      },
      "source": [
        "There is only one thing left to build, which is a sample set for building machine learning\n",
        "models, combining features and response data together. Take a look at the following code:"
      ]
    },
    {
      "cell_type": "code",
      "metadata": {
        "id": "EvF5Kh9fg0VA",
        "colab_type": "code",
        "colab": {
          "base_uri": "https://localhost:8080/",
          "height": 34
        },
        "outputId": "5745974c-9351-4d65-9057-6a751e638961"
      },
      "source": [
        "\n",
        "sample_set_df = features_df.merge(\n",
        "    response_df, \n",
        "    left_index=True, \n",
        "    right_on='CustomerID',\n",
        "    how='left'\n",
        ")\n",
        "\n",
        "sample_set_df.shape"
      ],
      "execution_count": 102,
      "outputs": [
        {
          "output_type": "execute_result",
          "data": {
            "text/plain": [
              "(3616, 14)"
            ]
          },
          "metadata": {
            "tags": []
          },
          "execution_count": 102
        }
      ]
    },
    {
      "cell_type": "code",
      "metadata": {
        "id": "C28S_8lNhLew",
        "colab_type": "code",
        "colab": {
          "base_uri": "https://localhost:8080/",
          "height": 379
        },
        "outputId": "0a0fcbdb-a1b2-414f-b0b3-a65a27066a18"
      },
      "source": [
        "sample_set_df.head(10)\n",
        "#CLV 3M: Sale sum M1 (month 10,11,12)"
      ],
      "execution_count": 103,
      "outputs": [
        {
          "output_type": "execute_result",
          "data": {
            "text/html": [
              "<div>\n",
              "<style scoped>\n",
              "    .dataframe tbody tr th:only-of-type {\n",
              "        vertical-align: middle;\n",
              "    }\n",
              "\n",
              "    .dataframe tbody tr th {\n",
              "        vertical-align: top;\n",
              "    }\n",
              "\n",
              "    .dataframe thead th {\n",
              "        text-align: right;\n",
              "    }\n",
              "</style>\n",
              "<table border=\"1\" class=\"dataframe\">\n",
              "  <thead>\n",
              "    <tr style=\"text-align: right;\">\n",
              "      <th></th>\n",
              "      <th>sales_avg_M_2</th>\n",
              "      <th>sales_avg_M_3</th>\n",
              "      <th>sales_avg_M_4</th>\n",
              "      <th>sales_avg_M_5</th>\n",
              "      <th>sales_count_M_2</th>\n",
              "      <th>sales_count_M_3</th>\n",
              "      <th>sales_count_M_4</th>\n",
              "      <th>sales_count_M_5</th>\n",
              "      <th>sales_sum_M_2</th>\n",
              "      <th>sales_sum_M_3</th>\n",
              "      <th>sales_sum_M_4</th>\n",
              "      <th>sales_sum_M_5</th>\n",
              "      <th>CustomerID</th>\n",
              "      <th>CLV_3M</th>\n",
              "    </tr>\n",
              "  </thead>\n",
              "  <tbody>\n",
              "    <tr>\n",
              "      <th>NaN</th>\n",
              "      <td>0.00</td>\n",
              "      <td>0.000</td>\n",
              "      <td>77183.600</td>\n",
              "      <td>0.00</td>\n",
              "      <td>0.0</td>\n",
              "      <td>0.0</td>\n",
              "      <td>1.0</td>\n",
              "      <td>0.0</td>\n",
              "      <td>0.00</td>\n",
              "      <td>0.00</td>\n",
              "      <td>77183.60</td>\n",
              "      <td>0.00</td>\n",
              "      <td>12346.0</td>\n",
              "      <td>NaN</td>\n",
              "    </tr>\n",
              "    <tr>\n",
              "      <th>5.0</th>\n",
              "      <td>584.91</td>\n",
              "      <td>509.385</td>\n",
              "      <td>475.390</td>\n",
              "      <td>711.79</td>\n",
              "      <td>1.0</td>\n",
              "      <td>2.0</td>\n",
              "      <td>1.0</td>\n",
              "      <td>1.0</td>\n",
              "      <td>584.91</td>\n",
              "      <td>1018.77</td>\n",
              "      <td>475.39</td>\n",
              "      <td>711.79</td>\n",
              "      <td>12347.0</td>\n",
              "      <td>1294.32</td>\n",
              "    </tr>\n",
              "    <tr>\n",
              "      <th>NaN</th>\n",
              "      <td>310.00</td>\n",
              "      <td>367.000</td>\n",
              "      <td>227.440</td>\n",
              "      <td>892.80</td>\n",
              "      <td>1.0</td>\n",
              "      <td>1.0</td>\n",
              "      <td>1.0</td>\n",
              "      <td>1.0</td>\n",
              "      <td>310.00</td>\n",
              "      <td>367.00</td>\n",
              "      <td>227.44</td>\n",
              "      <td>892.80</td>\n",
              "      <td>12348.0</td>\n",
              "      <td>NaN</td>\n",
              "    </tr>\n",
              "    <tr>\n",
              "      <th>NaN</th>\n",
              "      <td>0.00</td>\n",
              "      <td>0.000</td>\n",
              "      <td>334.400</td>\n",
              "      <td>0.00</td>\n",
              "      <td>0.0</td>\n",
              "      <td>0.0</td>\n",
              "      <td>1.0</td>\n",
              "      <td>0.0</td>\n",
              "      <td>0.00</td>\n",
              "      <td>0.00</td>\n",
              "      <td>334.40</td>\n",
              "      <td>0.00</td>\n",
              "      <td>12350.0</td>\n",
              "      <td>NaN</td>\n",
              "    </tr>\n",
              "    <tr>\n",
              "      <th>14.0</th>\n",
              "      <td>316.25</td>\n",
              "      <td>0.000</td>\n",
              "      <td>312.362</td>\n",
              "      <td>0.00</td>\n",
              "      <td>2.0</td>\n",
              "      <td>0.0</td>\n",
              "      <td>5.0</td>\n",
              "      <td>0.0</td>\n",
              "      <td>632.50</td>\n",
              "      <td>0.00</td>\n",
              "      <td>1561.81</td>\n",
              "      <td>0.00</td>\n",
              "      <td>12352.0</td>\n",
              "      <td>311.73</td>\n",
              "    </tr>\n",
              "    <tr>\n",
              "      <th>NaN</th>\n",
              "      <td>0.00</td>\n",
              "      <td>89.000</td>\n",
              "      <td>0.000</td>\n",
              "      <td>0.00</td>\n",
              "      <td>0.0</td>\n",
              "      <td>1.0</td>\n",
              "      <td>0.0</td>\n",
              "      <td>0.0</td>\n",
              "      <td>0.00</td>\n",
              "      <td>89.00</td>\n",
              "      <td>0.00</td>\n",
              "      <td>0.00</td>\n",
              "      <td>12353.0</td>\n",
              "      <td>NaN</td>\n",
              "    </tr>\n",
              "    <tr>\n",
              "      <th>NaN</th>\n",
              "      <td>0.00</td>\n",
              "      <td>1079.400</td>\n",
              "      <td>0.000</td>\n",
              "      <td>0.00</td>\n",
              "      <td>0.0</td>\n",
              "      <td>1.0</td>\n",
              "      <td>0.0</td>\n",
              "      <td>0.0</td>\n",
              "      <td>0.00</td>\n",
              "      <td>1079.40</td>\n",
              "      <td>0.00</td>\n",
              "      <td>0.00</td>\n",
              "      <td>12354.0</td>\n",
              "      <td>NaN</td>\n",
              "    </tr>\n",
              "    <tr>\n",
              "      <th>NaN</th>\n",
              "      <td>0.00</td>\n",
              "      <td>459.400</td>\n",
              "      <td>0.000</td>\n",
              "      <td>0.00</td>\n",
              "      <td>0.0</td>\n",
              "      <td>1.0</td>\n",
              "      <td>0.0</td>\n",
              "      <td>0.0</td>\n",
              "      <td>0.00</td>\n",
              "      <td>459.40</td>\n",
              "      <td>0.00</td>\n",
              "      <td>0.00</td>\n",
              "      <td>12355.0</td>\n",
              "      <td>NaN</td>\n",
              "    </tr>\n",
              "    <tr>\n",
              "      <th>20.0</th>\n",
              "      <td>0.00</td>\n",
              "      <td>481.460</td>\n",
              "      <td>2271.620</td>\n",
              "      <td>0.00</td>\n",
              "      <td>0.0</td>\n",
              "      <td>1.0</td>\n",
              "      <td>1.0</td>\n",
              "      <td>0.0</td>\n",
              "      <td>0.00</td>\n",
              "      <td>481.46</td>\n",
              "      <td>2271.62</td>\n",
              "      <td>0.00</td>\n",
              "      <td>12356.0</td>\n",
              "      <td>58.35</td>\n",
              "    </tr>\n",
              "    <tr>\n",
              "      <th>NaN</th>\n",
              "      <td>484.86</td>\n",
              "      <td>0.000</td>\n",
              "      <td>0.000</td>\n",
              "      <td>0.00</td>\n",
              "      <td>1.0</td>\n",
              "      <td>0.0</td>\n",
              "      <td>0.0</td>\n",
              "      <td>0.0</td>\n",
              "      <td>484.86</td>\n",
              "      <td>0.00</td>\n",
              "      <td>0.00</td>\n",
              "      <td>0.00</td>\n",
              "      <td>12358.0</td>\n",
              "      <td>NaN</td>\n",
              "    </tr>\n",
              "  </tbody>\n",
              "</table>\n",
              "</div>"
            ],
            "text/plain": [
              "      sales_avg_M_2  sales_avg_M_3  ...  CustomerID   CLV_3M\n",
              "NaN            0.00          0.000  ...     12346.0      NaN\n",
              "5.0          584.91        509.385  ...     12347.0  1294.32\n",
              "NaN          310.00        367.000  ...     12348.0      NaN\n",
              "NaN            0.00          0.000  ...     12350.0      NaN\n",
              "14.0         316.25          0.000  ...     12352.0   311.73\n",
              "NaN            0.00         89.000  ...     12353.0      NaN\n",
              "NaN            0.00       1079.400  ...     12354.0      NaN\n",
              "NaN            0.00        459.400  ...     12355.0      NaN\n",
              "20.0           0.00        481.460  ...     12356.0    58.35\n",
              "NaN          484.86          0.000  ...     12358.0      NaN\n",
              "\n",
              "[10 rows x 14 columns]"
            ]
          },
          "metadata": {
            "tags": []
          },
          "execution_count": 103
        }
      ]
    },
    {
      "cell_type": "code",
      "metadata": {
        "id": "fL-SmW4yh4G8",
        "colab_type": "code",
        "colab": {
          "base_uri": "https://localhost:8080/",
          "height": 224
        },
        "outputId": "7f72f592-5e53-445c-d83e-5bbf28cc5513"
      },
      "source": [
        "sample_set_df = sample_set_df.fillna(0)\n",
        "sample_set_df.head()"
      ],
      "execution_count": 104,
      "outputs": [
        {
          "output_type": "execute_result",
          "data": {
            "text/html": [
              "<div>\n",
              "<style scoped>\n",
              "    .dataframe tbody tr th:only-of-type {\n",
              "        vertical-align: middle;\n",
              "    }\n",
              "\n",
              "    .dataframe tbody tr th {\n",
              "        vertical-align: top;\n",
              "    }\n",
              "\n",
              "    .dataframe thead th {\n",
              "        text-align: right;\n",
              "    }\n",
              "</style>\n",
              "<table border=\"1\" class=\"dataframe\">\n",
              "  <thead>\n",
              "    <tr style=\"text-align: right;\">\n",
              "      <th></th>\n",
              "      <th>sales_avg_M_2</th>\n",
              "      <th>sales_avg_M_3</th>\n",
              "      <th>sales_avg_M_4</th>\n",
              "      <th>sales_avg_M_5</th>\n",
              "      <th>sales_count_M_2</th>\n",
              "      <th>sales_count_M_3</th>\n",
              "      <th>sales_count_M_4</th>\n",
              "      <th>sales_count_M_5</th>\n",
              "      <th>sales_sum_M_2</th>\n",
              "      <th>sales_sum_M_3</th>\n",
              "      <th>sales_sum_M_4</th>\n",
              "      <th>sales_sum_M_5</th>\n",
              "      <th>CustomerID</th>\n",
              "      <th>CLV_3M</th>\n",
              "    </tr>\n",
              "  </thead>\n",
              "  <tbody>\n",
              "    <tr>\n",
              "      <th>NaN</th>\n",
              "      <td>0.00</td>\n",
              "      <td>0.000</td>\n",
              "      <td>77183.600</td>\n",
              "      <td>0.00</td>\n",
              "      <td>0.0</td>\n",
              "      <td>0.0</td>\n",
              "      <td>1.0</td>\n",
              "      <td>0.0</td>\n",
              "      <td>0.00</td>\n",
              "      <td>0.00</td>\n",
              "      <td>77183.60</td>\n",
              "      <td>0.00</td>\n",
              "      <td>12346.0</td>\n",
              "      <td>0.00</td>\n",
              "    </tr>\n",
              "    <tr>\n",
              "      <th>5.0</th>\n",
              "      <td>584.91</td>\n",
              "      <td>509.385</td>\n",
              "      <td>475.390</td>\n",
              "      <td>711.79</td>\n",
              "      <td>1.0</td>\n",
              "      <td>2.0</td>\n",
              "      <td>1.0</td>\n",
              "      <td>1.0</td>\n",
              "      <td>584.91</td>\n",
              "      <td>1018.77</td>\n",
              "      <td>475.39</td>\n",
              "      <td>711.79</td>\n",
              "      <td>12347.0</td>\n",
              "      <td>1294.32</td>\n",
              "    </tr>\n",
              "    <tr>\n",
              "      <th>NaN</th>\n",
              "      <td>310.00</td>\n",
              "      <td>367.000</td>\n",
              "      <td>227.440</td>\n",
              "      <td>892.80</td>\n",
              "      <td>1.0</td>\n",
              "      <td>1.0</td>\n",
              "      <td>1.0</td>\n",
              "      <td>1.0</td>\n",
              "      <td>310.00</td>\n",
              "      <td>367.00</td>\n",
              "      <td>227.44</td>\n",
              "      <td>892.80</td>\n",
              "      <td>12348.0</td>\n",
              "      <td>0.00</td>\n",
              "    </tr>\n",
              "    <tr>\n",
              "      <th>NaN</th>\n",
              "      <td>0.00</td>\n",
              "      <td>0.000</td>\n",
              "      <td>334.400</td>\n",
              "      <td>0.00</td>\n",
              "      <td>0.0</td>\n",
              "      <td>0.0</td>\n",
              "      <td>1.0</td>\n",
              "      <td>0.0</td>\n",
              "      <td>0.00</td>\n",
              "      <td>0.00</td>\n",
              "      <td>334.40</td>\n",
              "      <td>0.00</td>\n",
              "      <td>12350.0</td>\n",
              "      <td>0.00</td>\n",
              "    </tr>\n",
              "    <tr>\n",
              "      <th>14.0</th>\n",
              "      <td>316.25</td>\n",
              "      <td>0.000</td>\n",
              "      <td>312.362</td>\n",
              "      <td>0.00</td>\n",
              "      <td>2.0</td>\n",
              "      <td>0.0</td>\n",
              "      <td>5.0</td>\n",
              "      <td>0.0</td>\n",
              "      <td>632.50</td>\n",
              "      <td>0.00</td>\n",
              "      <td>1561.81</td>\n",
              "      <td>0.00</td>\n",
              "      <td>12352.0</td>\n",
              "      <td>311.73</td>\n",
              "    </tr>\n",
              "  </tbody>\n",
              "</table>\n",
              "</div>"
            ],
            "text/plain": [
              "      sales_avg_M_2  sales_avg_M_3  ...  CustomerID   CLV_3M\n",
              "NaN            0.00          0.000  ...     12346.0     0.00\n",
              "5.0          584.91        509.385  ...     12347.0  1294.32\n",
              "NaN          310.00        367.000  ...     12348.0     0.00\n",
              "NaN            0.00          0.000  ...     12350.0     0.00\n",
              "14.0         316.25          0.000  ...     12352.0   311.73\n",
              "\n",
              "[5 rows x 14 columns]"
            ]
          },
          "metadata": {
            "tags": []
          },
          "execution_count": 104
        }
      ]
    },
    {
      "cell_type": "code",
      "metadata": {
        "id": "upawhDPrhMWN",
        "colab_type": "code",
        "colab": {
          "base_uri": "https://localhost:8080/",
          "height": 170
        },
        "outputId": "4063e77c-d252-466e-eace-e80e0062bb6f"
      },
      "source": [
        "sample_set_df['CLV_'+clv_freq].describe()"
      ],
      "execution_count": 105,
      "outputs": [
        {
          "output_type": "execute_result",
          "data": {
            "text/plain": [
              "count     3616.000000\n",
              "mean       511.558520\n",
              "std       2371.743293\n",
              "min          0.000000\n",
              "25%          0.000000\n",
              "50%          0.000000\n",
              "75%        458.662500\n",
              "max      68012.350000\n",
              "Name: CLV_3M, dtype: float64"
            ]
          },
          "metadata": {
            "tags": []
          },
          "execution_count": 105
        }
      ]
    },
    {
      "cell_type": "markdown",
      "metadata": {
        "id": "sHon1Yval637",
        "colab_type": "text"
      },
      "source": [
        "# Regression Models"
      ]
    },
    {
      "cell_type": "code",
      "metadata": {
        "id": "bILaMl0aiAc4",
        "colab_type": "code",
        "colab": {}
      },
      "source": [
        "target_var = 'CLV_'+clv_freq\n",
        "all_features = [x for x in sample_set_df.columns if x not in ['CustomerID', target_var]]"
      ],
      "execution_count": 106,
      "outputs": []
    },
    {
      "cell_type": "code",
      "metadata": {
        "id": "NQ38rtp1mCZY",
        "colab_type": "code",
        "colab": {}
      },
      "source": [
        "\n",
        "x_train, x_test, y_train, y_test = train_test_split(\n",
        "    sample_set_df[all_features], \n",
        "    sample_set_df[target_var], \n",
        "    #stratify=sample_set_df[target_var],\n",
        "    test_size=0.3\n",
        ")"
      ],
      "execution_count": 108,
      "outputs": []
    },
    {
      "cell_type": "code",
      "metadata": {
        "id": "q7rQztrvmLKD",
        "colab_type": "code",
        "colab": {
          "base_uri": "https://localhost:8080/",
          "height": 439
        },
        "outputId": "7eb3e30c-cb72-4b3c-8b87-549f164a20c6"
      },
      "source": [
        "x_train"
      ],
      "execution_count": 109,
      "outputs": [
        {
          "output_type": "execute_result",
          "data": {
            "text/html": [
              "<div>\n",
              "<style scoped>\n",
              "    .dataframe tbody tr th:only-of-type {\n",
              "        vertical-align: middle;\n",
              "    }\n",
              "\n",
              "    .dataframe tbody tr th {\n",
              "        vertical-align: top;\n",
              "    }\n",
              "\n",
              "    .dataframe thead th {\n",
              "        text-align: right;\n",
              "    }\n",
              "</style>\n",
              "<table border=\"1\" class=\"dataframe\">\n",
              "  <thead>\n",
              "    <tr style=\"text-align: right;\">\n",
              "      <th></th>\n",
              "      <th>sales_avg_M_2</th>\n",
              "      <th>sales_avg_M_3</th>\n",
              "      <th>sales_avg_M_4</th>\n",
              "      <th>sales_avg_M_5</th>\n",
              "      <th>sales_count_M_2</th>\n",
              "      <th>sales_count_M_3</th>\n",
              "      <th>sales_count_M_4</th>\n",
              "      <th>sales_count_M_5</th>\n",
              "      <th>sales_sum_M_2</th>\n",
              "      <th>sales_sum_M_3</th>\n",
              "      <th>sales_sum_M_4</th>\n",
              "      <th>sales_sum_M_5</th>\n",
              "    </tr>\n",
              "  </thead>\n",
              "  <tbody>\n",
              "    <tr>\n",
              "      <th>153.0</th>\n",
              "      <td>0.000000</td>\n",
              "      <td>1338.886667</td>\n",
              "      <td>0.000</td>\n",
              "      <td>0.00</td>\n",
              "      <td>0.0</td>\n",
              "      <td>3.0</td>\n",
              "      <td>0.0</td>\n",
              "      <td>0.0</td>\n",
              "      <td>0.00</td>\n",
              "      <td>4016.66</td>\n",
              "      <td>0.00</td>\n",
              "      <td>0.00</td>\n",
              "    </tr>\n",
              "    <tr>\n",
              "      <th>NaN</th>\n",
              "      <td>0.000000</td>\n",
              "      <td>35.400000</td>\n",
              "      <td>0.000</td>\n",
              "      <td>111.80</td>\n",
              "      <td>0.0</td>\n",
              "      <td>1.0</td>\n",
              "      <td>0.0</td>\n",
              "      <td>1.0</td>\n",
              "      <td>0.00</td>\n",
              "      <td>35.40</td>\n",
              "      <td>0.00</td>\n",
              "      <td>111.80</td>\n",
              "    </tr>\n",
              "    <tr>\n",
              "      <th>5979.0</th>\n",
              "      <td>155.536667</td>\n",
              "      <td>118.372857</td>\n",
              "      <td>145.450</td>\n",
              "      <td>275.80</td>\n",
              "      <td>9.0</td>\n",
              "      <td>7.0</td>\n",
              "      <td>2.0</td>\n",
              "      <td>1.0</td>\n",
              "      <td>1399.83</td>\n",
              "      <td>828.61</td>\n",
              "      <td>290.90</td>\n",
              "      <td>275.80</td>\n",
              "    </tr>\n",
              "    <tr>\n",
              "      <th>NaN</th>\n",
              "      <td>793.880000</td>\n",
              "      <td>712.240000</td>\n",
              "      <td>0.000</td>\n",
              "      <td>0.00</td>\n",
              "      <td>1.0</td>\n",
              "      <td>1.0</td>\n",
              "      <td>0.0</td>\n",
              "      <td>0.0</td>\n",
              "      <td>793.88</td>\n",
              "      <td>712.24</td>\n",
              "      <td>0.00</td>\n",
              "      <td>0.00</td>\n",
              "    </tr>\n",
              "    <tr>\n",
              "      <th>4538.0</th>\n",
              "      <td>0.000000</td>\n",
              "      <td>251.750000</td>\n",
              "      <td>312.535</td>\n",
              "      <td>0.00</td>\n",
              "      <td>0.0</td>\n",
              "      <td>1.0</td>\n",
              "      <td>2.0</td>\n",
              "      <td>0.0</td>\n",
              "      <td>0.00</td>\n",
              "      <td>251.75</td>\n",
              "      <td>625.07</td>\n",
              "      <td>0.00</td>\n",
              "    </tr>\n",
              "    <tr>\n",
              "      <th>...</th>\n",
              "      <td>...</td>\n",
              "      <td>...</td>\n",
              "      <td>...</td>\n",
              "      <td>...</td>\n",
              "      <td>...</td>\n",
              "      <td>...</td>\n",
              "      <td>...</td>\n",
              "      <td>...</td>\n",
              "      <td>...</td>\n",
              "      <td>...</td>\n",
              "      <td>...</td>\n",
              "      <td>...</td>\n",
              "    </tr>\n",
              "    <tr>\n",
              "      <th>NaN</th>\n",
              "      <td>0.000000</td>\n",
              "      <td>306.720000</td>\n",
              "      <td>0.000</td>\n",
              "      <td>0.00</td>\n",
              "      <td>0.0</td>\n",
              "      <td>1.0</td>\n",
              "      <td>0.0</td>\n",
              "      <td>0.0</td>\n",
              "      <td>0.00</td>\n",
              "      <td>306.72</td>\n",
              "      <td>0.00</td>\n",
              "      <td>0.00</td>\n",
              "    </tr>\n",
              "    <tr>\n",
              "      <th>NaN</th>\n",
              "      <td>260.760000</td>\n",
              "      <td>0.000000</td>\n",
              "      <td>122.700</td>\n",
              "      <td>214.74</td>\n",
              "      <td>1.0</td>\n",
              "      <td>0.0</td>\n",
              "      <td>1.0</td>\n",
              "      <td>1.0</td>\n",
              "      <td>260.76</td>\n",
              "      <td>0.00</td>\n",
              "      <td>122.70</td>\n",
              "      <td>214.74</td>\n",
              "    </tr>\n",
              "    <tr>\n",
              "      <th>NaN</th>\n",
              "      <td>120.710000</td>\n",
              "      <td>228.630000</td>\n",
              "      <td>164.575</td>\n",
              "      <td>0.00</td>\n",
              "      <td>1.0</td>\n",
              "      <td>1.0</td>\n",
              "      <td>2.0</td>\n",
              "      <td>0.0</td>\n",
              "      <td>120.71</td>\n",
              "      <td>228.63</td>\n",
              "      <td>329.15</td>\n",
              "      <td>0.00</td>\n",
              "    </tr>\n",
              "    <tr>\n",
              "      <th>NaN</th>\n",
              "      <td>57.300000</td>\n",
              "      <td>136.150000</td>\n",
              "      <td>0.000</td>\n",
              "      <td>0.00</td>\n",
              "      <td>1.0</td>\n",
              "      <td>2.0</td>\n",
              "      <td>0.0</td>\n",
              "      <td>0.0</td>\n",
              "      <td>57.30</td>\n",
              "      <td>272.30</td>\n",
              "      <td>0.00</td>\n",
              "      <td>0.00</td>\n",
              "    </tr>\n",
              "    <tr>\n",
              "      <th>NaN</th>\n",
              "      <td>4366.780000</td>\n",
              "      <td>0.000000</td>\n",
              "      <td>0.000</td>\n",
              "      <td>0.00</td>\n",
              "      <td>1.0</td>\n",
              "      <td>0.0</td>\n",
              "      <td>0.0</td>\n",
              "      <td>0.0</td>\n",
              "      <td>4366.78</td>\n",
              "      <td>0.00</td>\n",
              "      <td>0.00</td>\n",
              "      <td>0.00</td>\n",
              "    </tr>\n",
              "  </tbody>\n",
              "</table>\n",
              "<p>2531 rows × 12 columns</p>\n",
              "</div>"
            ],
            "text/plain": [
              "        sales_avg_M_2  sales_avg_M_3  ...  sales_sum_M_4  sales_sum_M_5\n",
              "153.0        0.000000    1338.886667  ...           0.00           0.00\n",
              "NaN          0.000000      35.400000  ...           0.00         111.80\n",
              "5979.0     155.536667     118.372857  ...         290.90         275.80\n",
              "NaN        793.880000     712.240000  ...           0.00           0.00\n",
              "4538.0       0.000000     251.750000  ...         625.07           0.00\n",
              "...               ...            ...  ...            ...            ...\n",
              "NaN          0.000000     306.720000  ...           0.00           0.00\n",
              "NaN        260.760000       0.000000  ...         122.70         214.74\n",
              "NaN        120.710000     228.630000  ...         329.15           0.00\n",
              "NaN         57.300000     136.150000  ...           0.00           0.00\n",
              "NaN       4366.780000       0.000000  ...           0.00           0.00\n",
              "\n",
              "[2531 rows x 12 columns]"
            ]
          },
          "metadata": {
            "tags": []
          },
          "execution_count": 109
        }
      ]
    },
    {
      "cell_type": "code",
      "metadata": {
        "id": "ikrXpRt0mTiP",
        "colab_type": "code",
        "colab": {
          "base_uri": "https://localhost:8080/",
          "height": 221
        },
        "outputId": "2f187806-7783-4859-b169-42c3921cfcd3"
      },
      "source": [
        "y_train"
      ],
      "execution_count": 110,
      "outputs": [
        {
          "output_type": "execute_result",
          "data": {
            "text/plain": [
              "153.0     1042.66\n",
              "NaN          0.00\n",
              "5979.0     992.46\n",
              "NaN          0.00\n",
              "4538.0     342.58\n",
              "           ...   \n",
              "NaN          0.00\n",
              "NaN          0.00\n",
              "NaN          0.00\n",
              "NaN          0.00\n",
              "NaN          0.00\n",
              "Name: CLV_3M, Length: 2531, dtype: float64"
            ]
          },
          "metadata": {
            "tags": []
          },
          "execution_count": 110
        }
      ]
    },
    {
      "cell_type": "code",
      "metadata": {
        "id": "tqa0KtpYmVki",
        "colab_type": "code",
        "colab": {
          "base_uri": "https://localhost:8080/",
          "height": 34
        },
        "outputId": "79a9158e-9356-42b0-a8a5-baaa92914ce5"
      },
      "source": [
        "reg_fit = LinearRegression()\n",
        "reg_fit.fit(x_train, y_train)"
      ],
      "execution_count": 113,
      "outputs": [
        {
          "output_type": "execute_result",
          "data": {
            "text/plain": [
              "LinearRegression(copy_X=True, fit_intercept=True, n_jobs=None, normalize=False)"
            ]
          },
          "metadata": {
            "tags": []
          },
          "execution_count": 113
        }
      ]
    },
    {
      "cell_type": "code",
      "metadata": {
        "id": "sw5DZ5S5moRA",
        "colab_type": "code",
        "colab": {
          "base_uri": "https://localhost:8080/",
          "height": 421
        },
        "outputId": "fbfcfde7-3cb0-47a9-b3a8-d61aa6ee2304"
      },
      "source": [
        "\n",
        "coef = pd.DataFrame(list(zip(all_features, reg_fit.coef_)))\n",
        "coef.columns = ['feature', 'coef']\n",
        "\n",
        "coef"
      ],
      "execution_count": 114,
      "outputs": [
        {
          "output_type": "execute_result",
          "data": {
            "text/html": [
              "<div>\n",
              "<style scoped>\n",
              "    .dataframe tbody tr th:only-of-type {\n",
              "        vertical-align: middle;\n",
              "    }\n",
              "\n",
              "    .dataframe tbody tr th {\n",
              "        vertical-align: top;\n",
              "    }\n",
              "\n",
              "    .dataframe thead th {\n",
              "        text-align: right;\n",
              "    }\n",
              "</style>\n",
              "<table border=\"1\" class=\"dataframe\">\n",
              "  <thead>\n",
              "    <tr style=\"text-align: right;\">\n",
              "      <th></th>\n",
              "      <th>feature</th>\n",
              "      <th>coef</th>\n",
              "    </tr>\n",
              "  </thead>\n",
              "  <tbody>\n",
              "    <tr>\n",
              "      <th>0</th>\n",
              "      <td>sales_avg_M_2</td>\n",
              "      <td>0.220570</td>\n",
              "    </tr>\n",
              "    <tr>\n",
              "      <th>1</th>\n",
              "      <td>sales_avg_M_3</td>\n",
              "      <td>-0.420656</td>\n",
              "    </tr>\n",
              "    <tr>\n",
              "      <th>2</th>\n",
              "      <td>sales_avg_M_4</td>\n",
              "      <td>0.579718</td>\n",
              "    </tr>\n",
              "    <tr>\n",
              "      <th>3</th>\n",
              "      <td>sales_avg_M_5</td>\n",
              "      <td>-1.508162</td>\n",
              "    </tr>\n",
              "    <tr>\n",
              "      <th>4</th>\n",
              "      <td>sales_count_M_2</td>\n",
              "      <td>123.376015</td>\n",
              "    </tr>\n",
              "    <tr>\n",
              "      <th>5</th>\n",
              "      <td>sales_count_M_3</td>\n",
              "      <td>8.614143</td>\n",
              "    </tr>\n",
              "    <tr>\n",
              "      <th>6</th>\n",
              "      <td>sales_count_M_4</td>\n",
              "      <td>-200.214974</td>\n",
              "    </tr>\n",
              "    <tr>\n",
              "      <th>7</th>\n",
              "      <td>sales_count_M_5</td>\n",
              "      <td>32.255347</td>\n",
              "    </tr>\n",
              "    <tr>\n",
              "      <th>8</th>\n",
              "      <td>sales_sum_M_2</td>\n",
              "      <td>0.170938</td>\n",
              "    </tr>\n",
              "    <tr>\n",
              "      <th>9</th>\n",
              "      <td>sales_sum_M_3</td>\n",
              "      <td>0.249064</td>\n",
              "    </tr>\n",
              "    <tr>\n",
              "      <th>10</th>\n",
              "      <td>sales_sum_M_4</td>\n",
              "      <td>0.271474</td>\n",
              "    </tr>\n",
              "    <tr>\n",
              "      <th>11</th>\n",
              "      <td>sales_sum_M_5</td>\n",
              "      <td>1.500503</td>\n",
              "    </tr>\n",
              "  </tbody>\n",
              "</table>\n",
              "</div>"
            ],
            "text/plain": [
              "            feature        coef\n",
              "0     sales_avg_M_2    0.220570\n",
              "1     sales_avg_M_3   -0.420656\n",
              "2     sales_avg_M_4    0.579718\n",
              "3     sales_avg_M_5   -1.508162\n",
              "4   sales_count_M_2  123.376015\n",
              "5   sales_count_M_3    8.614143\n",
              "6   sales_count_M_4 -200.214974\n",
              "7   sales_count_M_5   32.255347\n",
              "8     sales_sum_M_2    0.170938\n",
              "9     sales_sum_M_3    0.249064\n",
              "10    sales_sum_M_4    0.271474\n",
              "11    sales_sum_M_5    1.500503"
            ]
          },
          "metadata": {
            "tags": []
          },
          "execution_count": 114
        }
      ]
    },
    {
      "cell_type": "code",
      "metadata": {
        "id": "TFTi2CzJnZlK",
        "colab_type": "code",
        "colab": {}
      },
      "source": [
        "train_preds =  reg_fit.predict(x_train)\n",
        "test_preds = reg_fit.predict(x_test)"
      ],
      "execution_count": 115,
      "outputs": []
    },
    {
      "cell_type": "code",
      "metadata": {
        "id": "0YnN4h4jnfpv",
        "colab_type": "code",
        "colab": {
          "base_uri": "https://localhost:8080/",
          "height": 51
        },
        "outputId": "6affb64b-a467-4c71-d76c-29584922c54e"
      },
      "source": [
        "print('In-Sample R-Squared: %0.4f' % r2_score(y_true=y_train, y_pred=train_preds))\n",
        "print('Out-of-Sample R-Squared: %0.4f' % r2_score(y_true=y_test, y_pred=test_preds))"
      ],
      "execution_count": 116,
      "outputs": [
        {
          "output_type": "stream",
          "text": [
            "In-Sample R-Squared: 0.7550\n",
            "Out-of-Sample R-Squared: -3.1234\n"
          ],
          "name": "stdout"
        }
      ]
    },
    {
      "cell_type": "code",
      "metadata": {
        "id": "x6eLXqvrngFP",
        "colab_type": "code",
        "colab": {
          "base_uri": "https://localhost:8080/",
          "height": 51
        },
        "outputId": "84709b7e-b92e-4191-ae8e-af5baf81f26f"
      },
      "source": [
        "print('In-Sample MSE: %0.4f' % median_absolute_error(y_true=y_train, y_pred=train_preds))\n",
        "print('Out-of-Sample MSE: %0.4f' % median_absolute_error(y_true=y_test, y_pred=test_preds))"
      ],
      "execution_count": 119,
      "outputs": [
        {
          "output_type": "stream",
          "text": [
            "In-Sample MSE: 232.8537\n",
            "Out-of-Sample MSE: 230.6453\n"
          ],
          "name": "stdout"
        }
      ]
    },
    {
      "cell_type": "code",
      "metadata": {
        "id": "PBh0FZDGniKs",
        "colab_type": "code",
        "colab": {
          "base_uri": "https://localhost:8080/",
          "height": 301
        },
        "outputId": "f6be7239-0477-4fc3-c30d-53d1aad519e0"
      },
      "source": [
        "\n",
        "plt.scatter(y_train, train_preds)\n",
        "plt.plot([0, max(y_train)], [0, max(train_preds)], color='gray', lw=1, linestyle='--')\n",
        "\n",
        "plt.xlabel('actual')\n",
        "plt.ylabel('predicted')\n",
        "plt.title('In-Sample Actual vs. Predicted')\n",
        "plt.grid()\n",
        "\n",
        "plt.show()"
      ],
      "execution_count": 120,
      "outputs": [
        {
          "output_type": "display_data",
          "data": {
            "image/png": "[encoded data removed]",
            "text/plain": [
              "<Figure size 432x288 with 1 Axes>"
            ]
          },
          "metadata": {
            "tags": []
          }
        }
      ]
    },
    {
      "cell_type": "code",
      "metadata": {
        "id": "x4sa5sFDnyhe",
        "colab_type": "code",
        "colab": {
          "base_uri": "https://localhost:8080/",
          "height": 301
        },
        "outputId": "1e7c472d-7342-41f0-e48b-9f302f794dac"
      },
      "source": [
        "\n",
        "plt.scatter(y_test, test_preds)\n",
        "plt.plot([0, max(y_test)], [0, max(test_preds)], color='gray', lw=1, linestyle='--')\n",
        "\n",
        "plt.xlabel('actual')\n",
        "plt.ylabel('predicted')\n",
        "plt.title('Out-of-Sample Actual vs. Predicted')\n",
        "plt.grid()\n",
        "\n",
        "plt.show()"
      ],
      "execution_count": 121,
      "outputs": [
        {
          "output_type": "display_data",
          "data": {
            "image/png": "[encoded data removed]",
            "text/plain": [
              "<Figure size 432x288 with 1 Axes>"
            ]
          },
          "metadata": {
            "tags": []
          }
        }
      ]
    },
    {
      "cell_type": "markdown",
      "metadata": {
        "id": "XYPbvCDzn-QN",
        "colab_type": "text"
      },
      "source": [
        "# Spot check all ML model"
      ]
    },
    {
      "cell_type": "code",
      "metadata": {
        "id": "0rgneOirn0jL",
        "colab_type": "code",
        "colab": {}
      },
      "source": [
        "regressors={\n",
        "    'LR':LinearRegression(),\n",
        "    'LASSO':Lasso(),\n",
        "    'Ridge':Ridge(),\n",
        "    'EN':ElasticNet(),\n",
        "    'KNN':KNeighborsRegressor(),\n",
        "    'CART':DecisionTreeRegressor(),\n",
        "    'SVR': SVR(),\n",
        "    # ensembles\n",
        "    'AB':AdaBoostRegressor(),\n",
        "    'GBM':GradientBoostingRegressor(),\n",
        "    'RF':RandomForestRegressor(),\n",
        "    'ET':ExtraTreesRegressor(),\n",
        "    #New:\n",
        "    'XGB':XGBRegressor(), \n",
        "    'LGBM':LGBMRegressor(),\n",
        "    'Ransac':RANSACRegressor(), \n",
        "    'Theil':TheilSenRegressor(), \n",
        "    'Huber':HuberRegressor(),\n",
        "    'Poly2':Pipeline([\n",
        "              ('Poly2', PolynomialFeatures(degree=2)),\n",
        "              ('linear', LinearRegression(fit_intercept=False))]) \n",
        "}"
      ],
      "execution_count": 122,
      "outputs": []
    },
    {
      "cell_type": "code",
      "metadata": {
        "id": "DSf5nln3oc3P",
        "colab_type": "code",
        "colab": {
          "base_uri": "https://localhost:8080/",
          "height": 54
        },
        "outputId": "2f45f4d0-2fc6-4de2-8faa-3737277ba652"
      },
      "source": [
        "sklearn.metrics.SCORERS.keys()"
      ],
      "execution_count": 123,
      "outputs": [
        {
          "output_type": "execute_result",
          "data": {
            "text/plain": [
              "dict_keys(['explained_variance', 'r2', 'max_error', 'neg_median_absolute_error', 'neg_mean_absolute_error', 'neg_mean_squared_error', 'neg_mean_squared_log_error', 'neg_root_mean_squared_error', 'neg_mean_poisson_deviance', 'neg_mean_gamma_deviance', 'accuracy', 'roc_auc', 'roc_auc_ovr', 'roc_auc_ovo', 'roc_auc_ovr_weighted', 'roc_auc_ovo_weighted', 'balanced_accuracy', 'average_precision', 'neg_log_loss', 'neg_brier_score', 'adjusted_rand_score', 'homogeneity_score', 'completeness_score', 'v_measure_score', 'mutual_info_score', 'adjusted_mutual_info_score', 'normalized_mutual_info_score', 'fowlkes_mallows_score', 'precision', 'precision_macro', 'precision_micro', 'precision_samples', 'precision_weighted', 'recall', 'recall_macro', 'recall_micro', 'recall_samples', 'recall_weighted', 'f1', 'f1_macro', 'f1_micro', 'f1_samples', 'f1_weighted', 'jaccard', 'jaccard_macro', 'jaccard_micro', 'jaccard_samples', 'jaccard_weighted'])"
            ]
          },
          "metadata": {
            "tags": []
          },
          "execution_count": 123
        }
      ]
    },
    {
      "cell_type": "code",
      "metadata": {
        "id": "rRoHIt1qoFFv",
        "colab_type": "code",
        "colab": {
          "base_uri": "https://localhost:8080/",
          "height": 1000
        },
        "outputId": "43482b4b-0b28-4e6b-8eb6-86758001ca85"
      },
      "source": [
        "num_folds=5\n",
        "seed=42\n",
        "scoring = {'r2': 'r2',\n",
        "            'mse': \"neg_mean_squared_error\",\n",
        "            'rmse': 'neg_root_mean_squared_error'}\n",
        "\n",
        "time_=[]\n",
        "\n",
        "names = []\n",
        "cv_results_r2=[]\n",
        "cv_results_mse=[]\n",
        "cv_results_rmse=[]\n",
        "cv_results_rmse_std=[]\n",
        "\n",
        "for name, model in regressors.items():\n",
        "\n",
        "  print(name)\n",
        "  start = time.time()\n",
        "  estimator = model\n",
        "  #kfold = StratifiedKFold(n_splits=num_folds, random_state=seed,shuffle=True)\n",
        "  cv_results = cross_validate(estimator, x_train, y_train, cv=num_folds, scoring=scoring,\n",
        "                               return_train_score=True)\n",
        "  names.append(name)\n",
        "  cv_results_r2.append(cv_results['test_r2'].mean())\n",
        "  cv_results_mse.append(cv_results['test_mse'].mean())\n",
        "  cv_results_rmse.append(cv_results['test_rmse'].mean())\n",
        "  cv_results_rmse_std.append(cv_results['test_rmse'].std())\n",
        "\n",
        "  \n",
        "  time_cal=time.time() - start\n",
        "  print('rmse: %0.2f time : %0.3f' % (cv_results['test_rmse'].mean(),time_cal))\n",
        "  time_.append(time_cal)"
      ],
      "execution_count": 130,
      "outputs": [
        {
          "output_type": "stream",
          "text": [
            "LR\n",
            "rmse: -1563.93 time : 0.048\n",
            "LASSO\n",
            "rmse: -1564.27 time : 0.066\n",
            "Ridge\n",
            "rmse: -1563.94 time : 0.040\n",
            "EN\n",
            "rmse: -1572.47 time : 0.067\n",
            "KNN\n",
            "rmse: -1698.52 time : 0.221\n",
            "CART\n",
            "rmse: -2466.20 time : 0.112\n",
            "SVR\n",
            "rmse: -2636.91 time : 2.600\n",
            "AB\n",
            "rmse: -2120.48 time : 0.815\n",
            "GBM\n",
            "rmse: -1638.73 time : 1.752\n",
            "RF\n",
            "rmse: -1578.30 time : 5.611\n",
            "ET\n",
            "rmse: -1578.09 time : 2.932\n",
            "XGB\n",
            "[22:44:12] WARNING: /workspace/src/objective/regression_obj.cu:152: reg:linear is now deprecated in favor of reg:squarederror.\n",
            "[22:44:12] WARNING: /workspace/src/objective/regression_obj.cu:152: reg:linear is now deprecated in favor of reg:squarederror.\n",
            "[22:44:12] WARNING: /workspace/src/objective/regression_obj.cu:152: reg:linear is now deprecated in favor of reg:squarederror.\n",
            "[22:44:12] WARNING: /workspace/src/objective/regression_obj.cu:152: reg:linear is now deprecated in favor of reg:squarederror.\n",
            "[22:44:13] WARNING: /workspace/src/objective/regression_obj.cu:152: reg:linear is now deprecated in favor of reg:squarederror.\n",
            "rmse: -1587.52 time : 0.823\n",
            "LGBM\n",
            "rmse: -1873.01 time : 1.047\n",
            "Ransac\n"
          ],
          "name": "stdout"
        },
        {
          "output_type": "stream",
          "text": [
            "/usr/local/lib/python3.6/dist-packages/sklearn/model_selection/_validation.py:536: FitFailedWarning:\n",
            "\n",
            "Estimator fit failed. The score on this train-test partition for these parameters will be set to nan. Details: \n",
            "ValueError: RANSAC could not find a valid consensus set. All `max_trials` iterations were skipped because each randomly chosen sub-sample failed the passing criteria. See estimator attributes for diagnostics (n_skips*).\n",
            "\n",
            "\n",
            "/usr/local/lib/python3.6/dist-packages/sklearn/model_selection/_validation.py:536: FitFailedWarning:\n",
            "\n",
            "Estimator fit failed. The score on this train-test partition for these parameters will be set to nan. Details: \n",
            "ValueError: RANSAC could not find a valid consensus set. All `max_trials` iterations were skipped because each randomly chosen sub-sample failed the passing criteria. See estimator attributes for diagnostics (n_skips*).\n",
            "\n",
            "\n",
            "/usr/local/lib/python3.6/dist-packages/sklearn/model_selection/_validation.py:536: FitFailedWarning:\n",
            "\n",
            "Estimator fit failed. The score on this train-test partition for these parameters will be set to nan. Details: \n",
            "ValueError: RANSAC could not find a valid consensus set. All `max_trials` iterations were skipped because each randomly chosen sub-sample failed the passing criteria. See estimator attributes for diagnostics (n_skips*).\n",
            "\n",
            "\n",
            "/usr/local/lib/python3.6/dist-packages/sklearn/model_selection/_validation.py:536: FitFailedWarning:\n",
            "\n",
            "Estimator fit failed. The score on this train-test partition for these parameters will be set to nan. Details: \n",
            "ValueError: RANSAC could not find a valid consensus set. All `max_trials` iterations were skipped because each randomly chosen sub-sample failed the passing criteria. See estimator attributes for diagnostics (n_skips*).\n",
            "\n",
            "\n",
            "/usr/local/lib/python3.6/dist-packages/sklearn/model_selection/_validation.py:536: FitFailedWarning:\n",
            "\n",
            "Estimator fit failed. The score on this train-test partition for these parameters will be set to nan. Details: \n",
            "ValueError: RANSAC could not find a valid consensus set. All `max_trials` iterations were skipped because each randomly chosen sub-sample failed the passing criteria. See estimator attributes for diagnostics (n_skips*).\n",
            "\n",
            "\n"
          ],
          "name": "stderr"
        },
        {
          "output_type": "stream",
          "text": [
            "rmse: nan time : 0.495\n",
            "Theil\n",
            "rmse: -1396.75 time : 6.364\n",
            "Huber\n"
          ],
          "name": "stdout"
        },
        {
          "output_type": "stream",
          "text": [
            "/usr/local/lib/python3.6/dist-packages/sklearn/linear_model/_huber.py:296: ConvergenceWarning:\n",
            "\n",
            "lbfgs failed to converge (status=1):\n",
            "STOP: TOTAL NO. of ITERATIONS REACHED LIMIT.\n",
            "\n",
            "Increase the number of iterations (max_iter) or scale the data as shown in:\n",
            "    https://scikit-learn.org/stable/modules/preprocessing.html\n",
            "\n",
            "/usr/local/lib/python3.6/dist-packages/sklearn/linear_model/_huber.py:296: ConvergenceWarning:\n",
            "\n",
            "lbfgs failed to converge (status=1):\n",
            "STOP: TOTAL NO. of ITERATIONS REACHED LIMIT.\n",
            "\n",
            "Increase the number of iterations (max_iter) or scale the data as shown in:\n",
            "    https://scikit-learn.org/stable/modules/preprocessing.html\n",
            "\n"
          ],
          "name": "stderr"
        },
        {
          "output_type": "stream",
          "text": [
            "rmse: -1556.19 time : 0.480\n",
            "Poly2\n",
            "rmse: -35711.75 time : 0.152\n"
          ],
          "name": "stdout"
        },
        {
          "output_type": "stream",
          "text": [
            "/usr/local/lib/python3.6/dist-packages/sklearn/linear_model/_huber.py:296: ConvergenceWarning:\n",
            "\n",
            "lbfgs failed to converge (status=1):\n",
            "STOP: TOTAL NO. of ITERATIONS REACHED LIMIT.\n",
            "\n",
            "Increase the number of iterations (max_iter) or scale the data as shown in:\n",
            "    https://scikit-learn.org/stable/modules/preprocessing.html\n",
            "\n"
          ],
          "name": "stderr"
        }
      ]
    },
    {
      "cell_type": "code",
      "metadata": {
        "id": "bdRdZfPeogZ-",
        "colab_type": "code",
        "colab": {
          "base_uri": "https://localhost:8080/",
          "height": 576
        },
        "outputId": "81b53c0f-411a-485b-d25f-5827d18bc8a0"
      },
      "source": [
        "df_results_val=pd.DataFrame(list(zip(names,cv_results_rmse,cv_results_mse,cv_results_r2,time_)),\n",
        "                  columns=['Names','CV_rmse','CV_mse','CV_r2','Time'])\n",
        "df_results_val=df_results_val.sort_values(by='CV_rmse',ascending=False)\n",
        "df_results_val"
      ],
      "execution_count": 139,
      "outputs": [
        {
          "output_type": "execute_result",
          "data": {
            "text/html": [
              "<div>\n",
              "<style scoped>\n",
              "    .dataframe tbody tr th:only-of-type {\n",
              "        vertical-align: middle;\n",
              "    }\n",
              "\n",
              "    .dataframe tbody tr th {\n",
              "        vertical-align: top;\n",
              "    }\n",
              "\n",
              "    .dataframe thead th {\n",
              "        text-align: right;\n",
              "    }\n",
              "</style>\n",
              "<table border=\"1\" class=\"dataframe\">\n",
              "  <thead>\n",
              "    <tr style=\"text-align: right;\">\n",
              "      <th></th>\n",
              "      <th>Names</th>\n",
              "      <th>CV_rmse</th>\n",
              "      <th>CV_mse</th>\n",
              "      <th>CV_r2</th>\n",
              "      <th>Time</th>\n",
              "    </tr>\n",
              "  </thead>\n",
              "  <tbody>\n",
              "    <tr>\n",
              "      <th>14</th>\n",
              "      <td>Theil</td>\n",
              "      <td>-1396.751398</td>\n",
              "      <td>-2.157984e+06</td>\n",
              "      <td>0.596636</td>\n",
              "      <td>6.364108</td>\n",
              "    </tr>\n",
              "    <tr>\n",
              "      <th>15</th>\n",
              "      <td>Huber</td>\n",
              "      <td>-1556.192622</td>\n",
              "      <td>-2.715075e+06</td>\n",
              "      <td>0.554530</td>\n",
              "      <td>0.479927</td>\n",
              "    </tr>\n",
              "    <tr>\n",
              "      <th>0</th>\n",
              "      <td>LR</td>\n",
              "      <td>-1563.928467</td>\n",
              "      <td>-2.878953e+06</td>\n",
              "      <td>0.550613</td>\n",
              "      <td>0.048322</td>\n",
              "    </tr>\n",
              "    <tr>\n",
              "      <th>2</th>\n",
              "      <td>Ridge</td>\n",
              "      <td>-1563.939165</td>\n",
              "      <td>-2.878994e+06</td>\n",
              "      <td>0.550604</td>\n",
              "      <td>0.040478</td>\n",
              "    </tr>\n",
              "    <tr>\n",
              "      <th>1</th>\n",
              "      <td>LASSO</td>\n",
              "      <td>-1564.271805</td>\n",
              "      <td>-2.880594e+06</td>\n",
              "      <td>0.550478</td>\n",
              "      <td>0.066239</td>\n",
              "    </tr>\n",
              "    <tr>\n",
              "      <th>3</th>\n",
              "      <td>EN</td>\n",
              "      <td>-1572.465328</td>\n",
              "      <td>-2.908743e+06</td>\n",
              "      <td>0.543858</td>\n",
              "      <td>0.066609</td>\n",
              "    </tr>\n",
              "    <tr>\n",
              "      <th>10</th>\n",
              "      <td>ET</td>\n",
              "      <td>-1578.092783</td>\n",
              "      <td>-2.624249e+06</td>\n",
              "      <td>0.522743</td>\n",
              "      <td>2.932047</td>\n",
              "    </tr>\n",
              "    <tr>\n",
              "      <th>9</th>\n",
              "      <td>RF</td>\n",
              "      <td>-1578.300419</td>\n",
              "      <td>-2.571221e+06</td>\n",
              "      <td>0.496728</td>\n",
              "      <td>5.611251</td>\n",
              "    </tr>\n",
              "    <tr>\n",
              "      <th>11</th>\n",
              "      <td>XGB</td>\n",
              "      <td>-1587.515669</td>\n",
              "      <td>-2.632110e+06</td>\n",
              "      <td>0.468943</td>\n",
              "      <td>0.823293</td>\n",
              "    </tr>\n",
              "    <tr>\n",
              "      <th>8</th>\n",
              "      <td>GBM</td>\n",
              "      <td>-1638.733853</td>\n",
              "      <td>-2.811753e+06</td>\n",
              "      <td>0.325791</td>\n",
              "      <td>1.751806</td>\n",
              "    </tr>\n",
              "    <tr>\n",
              "      <th>4</th>\n",
              "      <td>KNN</td>\n",
              "      <td>-1698.518741</td>\n",
              "      <td>-3.051418e+06</td>\n",
              "      <td>0.470078</td>\n",
              "      <td>0.220996</td>\n",
              "    </tr>\n",
              "    <tr>\n",
              "      <th>12</th>\n",
              "      <td>LGBM</td>\n",
              "      <td>-1873.013557</td>\n",
              "      <td>-3.721554e+06</td>\n",
              "      <td>0.397359</td>\n",
              "      <td>1.047268</td>\n",
              "    </tr>\n",
              "    <tr>\n",
              "      <th>7</th>\n",
              "      <td>AB</td>\n",
              "      <td>-2120.475987</td>\n",
              "      <td>-4.610059e+06</td>\n",
              "      <td>0.042769</td>\n",
              "      <td>0.815398</td>\n",
              "    </tr>\n",
              "    <tr>\n",
              "      <th>5</th>\n",
              "      <td>CART</td>\n",
              "      <td>-2466.200020</td>\n",
              "      <td>-6.329578e+06</td>\n",
              "      <td>-0.378658</td>\n",
              "      <td>0.111593</td>\n",
              "    </tr>\n",
              "    <tr>\n",
              "      <th>6</th>\n",
              "      <td>SVR</td>\n",
              "      <td>-2636.908653</td>\n",
              "      <td>-7.754227e+06</td>\n",
              "      <td>-0.047291</td>\n",
              "      <td>2.599715</td>\n",
              "    </tr>\n",
              "    <tr>\n",
              "      <th>16</th>\n",
              "      <td>Poly2</td>\n",
              "      <td>-35711.751679</td>\n",
              "      <td>-3.351508e+09</td>\n",
              "      <td>-266.920198</td>\n",
              "      <td>0.151689</td>\n",
              "    </tr>\n",
              "    <tr>\n",
              "      <th>13</th>\n",
              "      <td>Ransac</td>\n",
              "      <td>NaN</td>\n",
              "      <td>NaN</td>\n",
              "      <td>NaN</td>\n",
              "      <td>0.495454</td>\n",
              "    </tr>\n",
              "  </tbody>\n",
              "</table>\n",
              "</div>"
            ],
            "text/plain": [
              "     Names       CV_rmse        CV_mse       CV_r2      Time\n",
              "14   Theil  -1396.751398 -2.157984e+06    0.596636  6.364108\n",
              "15   Huber  -1556.192622 -2.715075e+06    0.554530  0.479927\n",
              "0       LR  -1563.928467 -2.878953e+06    0.550613  0.048322\n",
              "2    Ridge  -1563.939165 -2.878994e+06    0.550604  0.040478\n",
              "1    LASSO  -1564.271805 -2.880594e+06    0.550478  0.066239\n",
              "3       EN  -1572.465328 -2.908743e+06    0.543858  0.066609\n",
              "10      ET  -1578.092783 -2.624249e+06    0.522743  2.932047\n",
              "9       RF  -1578.300419 -2.571221e+06    0.496728  5.611251\n",
              "11     XGB  -1587.515669 -2.632110e+06    0.468943  0.823293\n",
              "8      GBM  -1638.733853 -2.811753e+06    0.325791  1.751806\n",
              "4      KNN  -1698.518741 -3.051418e+06    0.470078  0.220996\n",
              "12    LGBM  -1873.013557 -3.721554e+06    0.397359  1.047268\n",
              "7       AB  -2120.475987 -4.610059e+06    0.042769  0.815398\n",
              "5     CART  -2466.200020 -6.329578e+06   -0.378658  0.111593\n",
              "6      SVR  -2636.908653 -7.754227e+06   -0.047291  2.599715\n",
              "16   Poly2 -35711.751679 -3.351508e+09 -266.920198  0.151689\n",
              "13  Ransac           NaN           NaN         NaN  0.495454"
            ]
          },
          "metadata": {
            "tags": []
          },
          "execution_count": 139
        }
      ]
    },
    {
      "cell_type": "code",
      "metadata": {
        "id": "Rb4nfY-Yrpd2",
        "colab_type": "code",
        "colab": {}
      },
      "source": [
        "df_results_val=df_results_val[:-2]"
      ],
      "execution_count": 140,
      "outputs": []
    },
    {
      "cell_type": "code",
      "metadata": {
        "id": "-rK06mo3qown",
        "colab_type": "code",
        "colab": {
          "base_uri": "https://localhost:8080/",
          "height": 437
        },
        "outputId": "19bbf4fc-0944-42a5-f9e3-21ae4110620e"
      },
      "source": [
        "# Define name:\n",
        "\n",
        "name=df_results_val['Names']\n",
        "test_rmse=df_results_val['CV_rmse']\n",
        "test_r2=df_results_val['CV_r2']\n",
        "# Plot:\n",
        "x = np.arange(len(name))\n",
        "fig, ax = plt.subplots(figsize=(10,6))\n",
        "rects1 = ax.bar(x, test_rmse, color = 'b', width = 0.25,label='CV_rmse')\n",
        "\n",
        "\n",
        "ax2 = ax.twinx()\n",
        "ax2.plot(x, test_r2, color = 'g',marker='o',label='CV_r2')\n",
        "ax2.secondary_yaxis('right')\n",
        "\n",
        "ax.set_xticks(x)\n",
        "ax.set_xticklabels(name,fontsize=15,rotation=45)\n",
        "ax.set_ylabel('RMSE',fontsize=15)\n",
        "ax2.set_ylabel('R2',fontsize=15)\n",
        "#plt.gca().legend(loc ='center',bbox_to_anchor=(0.5, -0.2))\n",
        "legend1=ax.legend(loc='center',bbox_to_anchor=(0.5, -0.2),shadow=True, fontsize='medium')\n",
        "legend2=ax2.legend(loc='center',bbox_to_anchor=(0.9, -0.2),shadow=True, fontsize='medium')\n",
        "\n",
        "plt.axis('off')\n",
        "fig.tight_layout()\n",
        "plt.show()"
      ],
      "execution_count": 145,
      "outputs": [
        {
          "output_type": "display_data",
          "data": {
            "image/png": "[encoded data removed]",
            "text/plain": [
              "<Figure size 720x432 with 2 Axes>"
            ]
          },
          "metadata": {
            "tags": []
          }
        }
      ]
    },
    {
      "cell_type": "markdown",
      "metadata": {
        "id": "8ynwIBuyOeTo",
        "colab_type": "text"
      },
      "source": [
        "# Predict all model"
      ]
    },
    {
      "cell_type": "code",
      "metadata": {
        "id": "lpPT65qAqozW",
        "colab_type": "code",
        "colab": {
          "base_uri": "https://localhost:8080/",
          "height": 51
        },
        "outputId": "1cb360cb-6064-42e8-94b3-a385a07fa97b"
      },
      "source": [
        "reg_fit = TheilSenRegressor()\n",
        "reg_fit.fit(x_train, y_train)\n",
        "y_pred=reg_fit.predict(x_test)\n",
        "mse=mean_squared_error(y_test,y_pred)\n",
        "rmse=np.sqrt(mse)\n",
        "r2=r2_score(y_test,y_pred)\n",
        "print('rmse: ',rmse)\n",
        "print('r2: ',r2)"
      ],
      "execution_count": 146,
      "outputs": [
        {
          "output_type": "stream",
          "text": [
            "rmse:  701.217287016921\n",
            "r2:  0.594869350352728\n"
          ],
          "name": "stdout"
        }
      ]
    },
    {
      "cell_type": "code",
      "metadata": {
        "id": "ObFMfn-gtqNx",
        "colab_type": "code",
        "colab": {
          "base_uri": "https://localhost:8080/",
          "height": 51
        },
        "outputId": "ffd6242f-3cb4-437f-cb78-8c3c02c964ec"
      },
      "source": [
        "reg_fit = LinearRegression()\n",
        "reg_fit.fit(x_train, y_train)\n",
        "y_pred=reg_fit.predict(x_test)\n",
        "mse=mean_squared_error(y_test,y_pred)\n",
        "rmse=np.sqrt(mse)\n",
        "r2=r2_score(y_test,y_pred)\n",
        "print('rmse: ',rmse)\n",
        "print('r2: ',r2)"
      ],
      "execution_count": 147,
      "outputs": [
        {
          "output_type": "stream",
          "text": [
            "rmse:  2237.090167899021\n",
            "r2:  -3.1234131372061755\n"
          ],
          "name": "stdout"
        }
      ]
    },
    {
      "cell_type": "code",
      "metadata": {
        "id": "DZY5MgGeunYo",
        "colab_type": "code",
        "colab": {}
      },
      "source": [
        "regressors={\n",
        "    'LR':LinearRegression(),\n",
        "    'LASSO':Lasso(),\n",
        "    'Ridge':Ridge(),\n",
        "    'EN':ElasticNet(),\n",
        "    'KNN':KNeighborsRegressor(),\n",
        "    'CART':DecisionTreeRegressor(),\n",
        "    'SVR': SVR(),\n",
        "    # ensembles\n",
        "    'AB':AdaBoostRegressor(),\n",
        "    'GBM':GradientBoostingRegressor(),\n",
        "    'RF':RandomForestRegressor(),\n",
        "    'ET':ExtraTreesRegressor(),\n",
        "    #New:\n",
        "    'XGB':XGBRegressor(), \n",
        "    'LGBM':LGBMRegressor(),\n",
        "    #'Ransac':RANSACRegressor(), \n",
        "    'Theil':TheilSenRegressor(), \n",
        "    'Huber':HuberRegressor(), very high\n",
        "    'Poly2':Pipeline([\n",
        "              #('Poly2', PolynomialFeatures(degree=2)),\n",
        "              #('linear', LinearRegression(fit_intercept=False))]) \n",
        "}"
      ],
      "execution_count": 158,
      "outputs": []
    },
    {
      "cell_type": "code",
      "metadata": {
        "id": "Wf6wrjrKtuMn",
        "colab_type": "code",
        "colab": {
          "base_uri": "https://localhost:8080/",
          "height": 309
        },
        "outputId": "df82b6a3-a611-4dae-a968-98685c37e77f"
      },
      "source": [
        "name_=[]\n",
        "rmse_=[]\n",
        "r2_=[]\n",
        "for name, model in regressors.items():\n",
        "  print(name)\n",
        "  name_.append(name)\n",
        "  reg_fit = model\n",
        "  reg_fit.fit(x_train, y_train)\n",
        "  y_pred=reg_fit.predict(x_test)\n",
        "  mse=mean_squared_error(y_test,y_pred)\n",
        "  rmse=np.sqrt(mse)\n",
        "  r2=r2_score(y_test,y_pred)\n",
        "  rmse_.append(rmse)\n",
        "  r2_.append(r2)"
      ],
      "execution_count": 159,
      "outputs": [
        {
          "output_type": "stream",
          "text": [
            "LR\n",
            "LASSO\n",
            "Ridge\n",
            "EN\n",
            "KNN\n",
            "CART\n",
            "SVR\n",
            "AB\n",
            "GBM\n",
            "RF\n",
            "ET\n",
            "XGB\n",
            "[23:09:13] WARNING: /workspace/src/objective/regression_obj.cu:152: reg:linear is now deprecated in favor of reg:squarederror.\n",
            "LGBM\n",
            "Theil\n",
            "Poly2\n"
          ],
          "name": "stdout"
        }
      ]
    },
    {
      "cell_type": "code",
      "metadata": {
        "id": "Z67QSNhRufNL",
        "colab_type": "code",
        "colab": {
          "base_uri": "https://localhost:8080/",
          "height": 514
        },
        "outputId": "04d44af9-0766-4b90-9624-f9c92638ee69"
      },
      "source": [
        "df_results=pd.DataFrame(list(zip(name_,rmse_,r2_,)),\n",
        "                  columns=['Names','rmse_','r2_'])\n",
        "df_results=df_results.sort_values(by='rmse_',ascending=True)\n",
        "df_results"
      ],
      "execution_count": 160,
      "outputs": [
        {
          "output_type": "execute_result",
          "data": {
            "text/html": [
              "<div>\n",
              "<style scoped>\n",
              "    .dataframe tbody tr th:only-of-type {\n",
              "        vertical-align: middle;\n",
              "    }\n",
              "\n",
              "    .dataframe tbody tr th {\n",
              "        vertical-align: top;\n",
              "    }\n",
              "\n",
              "    .dataframe thead th {\n",
              "        text-align: right;\n",
              "    }\n",
              "</style>\n",
              "<table border=\"1\" class=\"dataframe\">\n",
              "  <thead>\n",
              "    <tr style=\"text-align: right;\">\n",
              "      <th></th>\n",
              "      <th>Names</th>\n",
              "      <th>rmse_</th>\n",
              "      <th>r2_</th>\n",
              "    </tr>\n",
              "  </thead>\n",
              "  <tbody>\n",
              "    <tr>\n",
              "      <th>9</th>\n",
              "      <td>RF</td>\n",
              "      <td>718.723031</td>\n",
              "      <td>0.574389</td>\n",
              "    </tr>\n",
              "    <tr>\n",
              "      <th>12</th>\n",
              "      <td>LGBM</td>\n",
              "      <td>733.702710</td>\n",
              "      <td>0.556463</td>\n",
              "    </tr>\n",
              "    <tr>\n",
              "      <th>13</th>\n",
              "      <td>Theil</td>\n",
              "      <td>736.086117</td>\n",
              "      <td>0.553576</td>\n",
              "    </tr>\n",
              "    <tr>\n",
              "      <th>10</th>\n",
              "      <td>ET</td>\n",
              "      <td>783.288965</td>\n",
              "      <td>0.494485</td>\n",
              "    </tr>\n",
              "    <tr>\n",
              "      <th>8</th>\n",
              "      <td>GBM</td>\n",
              "      <td>966.642262</td>\n",
              "      <td>0.230123</td>\n",
              "    </tr>\n",
              "    <tr>\n",
              "      <th>11</th>\n",
              "      <td>XGB</td>\n",
              "      <td>982.319656</td>\n",
              "      <td>0.204948</td>\n",
              "    </tr>\n",
              "    <tr>\n",
              "      <th>4</th>\n",
              "      <td>KNN</td>\n",
              "      <td>991.642260</td>\n",
              "      <td>0.189786</td>\n",
              "    </tr>\n",
              "    <tr>\n",
              "      <th>5</th>\n",
              "      <td>CART</td>\n",
              "      <td>1003.559692</td>\n",
              "      <td>0.170195</td>\n",
              "    </tr>\n",
              "    <tr>\n",
              "      <th>6</th>\n",
              "      <td>SVR</td>\n",
              "      <td>1144.609018</td>\n",
              "      <td>-0.079454</td>\n",
              "    </tr>\n",
              "    <tr>\n",
              "      <th>7</th>\n",
              "      <td>AB</td>\n",
              "      <td>2018.588231</td>\n",
              "      <td>-2.357263</td>\n",
              "    </tr>\n",
              "    <tr>\n",
              "      <th>3</th>\n",
              "      <td>EN</td>\n",
              "      <td>2086.651712</td>\n",
              "      <td>-2.587483</td>\n",
              "    </tr>\n",
              "    <tr>\n",
              "      <th>1</th>\n",
              "      <td>LASSO</td>\n",
              "      <td>2233.629676</td>\n",
              "      <td>-3.110666</td>\n",
              "    </tr>\n",
              "    <tr>\n",
              "      <th>2</th>\n",
              "      <td>Ridge</td>\n",
              "      <td>2236.899658</td>\n",
              "      <td>-3.122711</td>\n",
              "    </tr>\n",
              "    <tr>\n",
              "      <th>0</th>\n",
              "      <td>LR</td>\n",
              "      <td>2237.090168</td>\n",
              "      <td>-3.123413</td>\n",
              "    </tr>\n",
              "    <tr>\n",
              "      <th>14</th>\n",
              "      <td>Poly2</td>\n",
              "      <td>16522.117698</td>\n",
              "      <td>-223.916489</td>\n",
              "    </tr>\n",
              "  </tbody>\n",
              "</table>\n",
              "</div>"
            ],
            "text/plain": [
              "    Names         rmse_         r2_\n",
              "9      RF    718.723031    0.574389\n",
              "12   LGBM    733.702710    0.556463\n",
              "13  Theil    736.086117    0.553576\n",
              "10     ET    783.288965    0.494485\n",
              "8     GBM    966.642262    0.230123\n",
              "11    XGB    982.319656    0.204948\n",
              "4     KNN    991.642260    0.189786\n",
              "5    CART   1003.559692    0.170195\n",
              "6     SVR   1144.609018   -0.079454\n",
              "7      AB   2018.588231   -2.357263\n",
              "3      EN   2086.651712   -2.587483\n",
              "1   LASSO   2233.629676   -3.110666\n",
              "2   Ridge   2236.899658   -3.122711\n",
              "0      LR   2237.090168   -3.123413\n",
              "14  Poly2  16522.117698 -223.916489"
            ]
          },
          "metadata": {
            "tags": []
          },
          "execution_count": 160
        }
      ]
    },
    {
      "cell_type": "code",
      "metadata": {
        "id": "g9gI_fgpvw0x",
        "colab_type": "code",
        "colab": {}
      },
      "source": [
        "df_results=df_results[:-1]"
      ],
      "execution_count": 162,
      "outputs": []
    },
    {
      "cell_type": "code",
      "metadata": {
        "id": "dw8qc9ifuzit",
        "colab_type": "code",
        "colab": {
          "base_uri": "https://localhost:8080/",
          "height": 438
        },
        "outputId": "8d3008ea-79ce-49c4-f420-e43782968ff5"
      },
      "source": [
        "# Define name:\n",
        "\n",
        "name=df_results['Names']\n",
        "test_rmse=df_results['rmse_']\n",
        "test_r2=df_results['r2_']\n",
        "# Plot:\n",
        "x = np.arange(len(name))\n",
        "fig, ax = plt.subplots(figsize=(10,6))\n",
        "rects1 = ax.bar(x, test_rmse, color = 'b', width = 0.25,label='CV_rmse')\n",
        "\n",
        "\n",
        "ax2 = ax.twinx()\n",
        "ax2.plot(x, test_r2, color = 'g',marker='o',label='CV_r2')\n",
        "ax2.secondary_yaxis('right')\n",
        "\n",
        "ax.set_xticks(x)\n",
        "ax.set_xticklabels(name,fontsize=15,rotation=45)\n",
        "ax.set_ylabel('RMSE',fontsize=15)\n",
        "ax2.set_ylabel('R2',fontsize=15)\n",
        "#plt.gca().legend(loc ='center',bbox_to_anchor=(0.5, -0.2))\n",
        "legend1=ax.legend(loc='center',bbox_to_anchor=(0.5, -0.2),shadow=True, fontsize='medium')\n",
        "legend2=ax2.legend(loc='center',bbox_to_anchor=(0.9, -0.2),shadow=True, fontsize='medium')\n",
        "\n",
        "plt.axis('off')\n",
        "fig.tight_layout()\n",
        "plt.show()"
      ],
      "execution_count": 163,
      "outputs": [
        {
          "output_type": "display_data",
          "data": {
            "image/png": "[encoded data removed]",
            "text/plain": [
              "<Figure size 720x432 with 2 Axes>"
            ]
          },
          "metadata": {
            "tags": []
          }
        }
      ]
    },
    {
      "cell_type": "code",
      "metadata": {
        "id": "E4GY2xxxu81x",
        "colab_type": "code",
        "colab": {}
      },
      "source": [
        ""
      ],
      "execution_count": null,
      "outputs": []
    }
  ]
}