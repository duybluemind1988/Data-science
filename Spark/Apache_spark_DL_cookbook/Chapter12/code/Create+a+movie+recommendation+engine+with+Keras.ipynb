{
 "cells": [
  {
   "cell_type": "code",
   "execution_count": 1,
   "metadata": {
    "collapsed": true
   },
   "outputs": [],
   "source": [
    "spark = SparkSession.builder \\\n",
    "   .master(\"local\") \\\n",
    "   .appName(\"RecommendationEngine\") \\\n",
    "   .config(\"spark.executor.memory\", \"6gb\") \\\n",
    "   .getOrCreate()"
   ]
  },
  {
   "cell_type": "code",
   "execution_count": 2,
   "metadata": {},
   "outputs": [
    {
     "data": {
      "text/plain": [
       "['tags.csv', 'links.csv', 'README.txt', 'ratings.csv', 'movies.csv']"
      ]
     },
     "execution_count": 2,
     "metadata": {},
     "output_type": "execute_result"
    }
   ],
   "source": [
    "import os\n",
    "os.listdir('ml-latest-small/')"
   ]
  },
  {
   "cell_type": "code",
   "execution_count": 3,
   "metadata": {
    "collapsed": true
   },
   "outputs": [],
   "source": [
    "movies = spark.read.format('com.databricks.spark.csv')\\\n",
    "            .options(header='true', inferschema='true')\\\n",
    "            .load('ml-latest-small/movies.csv')\n",
    "tags = spark.read.format('com.databricks.spark.csv')\\\n",
    "            .options(header='true', inferschema='true')\\\n",
    "            .load('ml-latest-small/tags.csv')\n",
    "links = spark.read.format('com.databricks.spark.csv')\\\n",
    "            .options(header='true', inferschema='true')\\\n",
    "            .load('ml-latest-small/links.csv')\n",
    "ratings = spark.read.format('com.databricks.spark.csv')\\\n",
    "            .options(header='true', inferschema='true')\\\n",
    "            .load('ml-latest-small/ratings.csv')"
   ]
  },
  {
   "cell_type": "code",
   "execution_count": 4,
   "metadata": {},
   "outputs": [
    {
     "data": {
      "text/plain": [
       "['userId', 'movieId', 'rating', 'timestamp']"
      ]
     },
     "execution_count": 4,
     "metadata": {},
     "output_type": "execute_result"
    }
   ],
   "source": [
    "ratings.columns"
   ]
  },
  {
   "cell_type": "code",
   "execution_count": 5,
   "metadata": {},
   "outputs": [
    {
     "name": "stdout",
     "output_type": "stream",
     "text": [
      "+------+-------+------+----------+\n",
      "|userId|movieId|rating|timestamp |\n",
      "+------+-------+------+----------+\n",
      "|1     |31     |2.5   |1260759144|\n",
      "|1     |1029   |3.0   |1260759179|\n",
      "|1     |1061   |3.0   |1260759182|\n",
      "|1     |1129   |2.0   |1260759185|\n",
      "|1     |1172   |4.0   |1260759205|\n",
      "|1     |1263   |2.0   |1260759151|\n",
      "|1     |1287   |2.0   |1260759187|\n",
      "|1     |1293   |2.0   |1260759148|\n",
      "|1     |1339   |3.5   |1260759125|\n",
      "|1     |1343   |2.0   |1260759131|\n",
      "|1     |1371   |2.5   |1260759135|\n",
      "|1     |1405   |1.0   |1260759203|\n",
      "|1     |1953   |4.0   |1260759191|\n",
      "|1     |2105   |4.0   |1260759139|\n",
      "|1     |2150   |3.0   |1260759194|\n",
      "|1     |2193   |2.0   |1260759198|\n",
      "|1     |2294   |2.0   |1260759108|\n",
      "|1     |2455   |2.5   |1260759113|\n",
      "|1     |2968   |1.0   |1260759200|\n",
      "|1     |3671   |3.0   |1260759117|\n",
      "+------+-------+------+----------+\n",
      "only showing top 20 rows\n",
      "\n"
     ]
    }
   ],
   "source": [
    "ratings.show(truncate=False)"
   ]
  },
  {
   "cell_type": "code",
   "execution_count": 6,
   "metadata": {},
   "outputs": [
    {
     "name": "stdout",
     "output_type": "stream",
     "text": [
      "+------+-------+-----------------------+----------+\n",
      "|userId|movieId|tag                    |timestamp |\n",
      "+------+-------+-----------------------+----------+\n",
      "|15    |339    |sandra 'boring' bullock|1138537770|\n",
      "|15    |1955   |dentist                |1193435061|\n",
      "|15    |7478   |Cambodia               |1170560997|\n",
      "|15    |32892  |Russian                |1170626366|\n",
      "|15    |34162  |forgettable            |1141391765|\n",
      "|15    |35957  |short                  |1141391873|\n",
      "|15    |37729  |dull story             |1141391806|\n",
      "|15    |45950  |powerpoint             |1169616291|\n",
      "|15    |100365 |activist               |1425876220|\n",
      "|15    |100365 |documentary            |1425876220|\n",
      "|15    |100365 |uganda                 |1425876220|\n",
      "|23    |150    |Ron Howard             |1148672905|\n",
      "|68    |2174   |music                  |1249808064|\n",
      "|68    |2174   |weird                  |1249808102|\n",
      "|68    |8623   |Steve Martin           |1249808497|\n",
      "|73    |107999 |action                 |1430799184|\n",
      "|73    |107999 |anime                  |1430799184|\n",
      "|73    |107999 |kung fu                |1430799184|\n",
      "|73    |111624 |drama                  |1431584497|\n",
      "|73    |111624 |indie                  |1431584497|\n",
      "+------+-------+-----------------------+----------+\n",
      "only showing top 20 rows\n",
      "\n"
     ]
    }
   ],
   "source": [
    "tags.show(truncate = False)"
   ]
  },
  {
   "cell_type": "code",
   "execution_count": 7,
   "metadata": {},
   "outputs": [
    {
     "name": "stdout",
     "output_type": "stream",
     "text": [
      "+------------------------------------------+\n",
      "|genres                                    |\n",
      "+------------------------------------------+\n",
      "|Comedy|Horror|Thriller                    |\n",
      "|Adventure|Sci-Fi|Thriller                 |\n",
      "|Action|Adventure|Drama|Fantasy            |\n",
      "|Action|Drama|Horror                       |\n",
      "|Comedy|Drama|Horror|Thriller              |\n",
      "|Action|Animation|Comedy|Sci-Fi            |\n",
      "|Animation|Children|Drama|Musical|Romance  |\n",
      "|Action|Adventure|Drama                    |\n",
      "|Adventure|Animation                       |\n",
      "|Adventure|Sci-Fi                          |\n",
      "|Documentary|Musical|IMAX                  |\n",
      "|Adventure|Children|Fantasy|Sci-Fi|Thriller|\n",
      "|Documentary|Sci-Fi                        |\n",
      "|Musical|Romance|War                       |\n",
      "|Action|Adventure|Fantasy|Romance          |\n",
      "|Adventure|Children|Drama|Fantasy|IMAX     |\n",
      "|Crime|Drama|Fantasy|Horror|Thriller       |\n",
      "|Comedy|Mystery|Thriller                   |\n",
      "|Adventure|Fantasy                         |\n",
      "|Action|Animation|Children|Fantasy|Sci-Fi  |\n",
      "+------------------------------------------+\n",
      "only showing top 20 rows\n",
      "\n"
     ]
    }
   ],
   "source": [
    "movies.select('genres').distinct().show(truncate = False)"
   ]
  },
  {
   "cell_type": "code",
   "execution_count": 8,
   "metadata": {},
   "outputs": [
    {
     "name": "stdout",
     "output_type": "stream",
     "text": [
      "+-------+------+------+\n",
      "|movieId|imdbId|tmdbId|\n",
      "+-------+------+------+\n",
      "|      1|114709|   862|\n",
      "|      2|113497|  8844|\n",
      "|      3|113228| 15602|\n",
      "|      4|114885| 31357|\n",
      "|      5|113041| 11862|\n",
      "|      6|113277|   949|\n",
      "|      7|114319| 11860|\n",
      "|      8|112302| 45325|\n",
      "|      9|114576|  9091|\n",
      "|     10|113189|   710|\n",
      "|     11|112346|  9087|\n",
      "|     12|112896| 12110|\n",
      "|     13|112453| 21032|\n",
      "|     14|113987| 10858|\n",
      "|     15|112760|  1408|\n",
      "|     16|112641|   524|\n",
      "|     17|114388|  4584|\n",
      "|     18|113101|     5|\n",
      "|     19|112281|  9273|\n",
      "|     20|113845| 11517|\n",
      "+-------+------+------+\n",
      "only showing top 20 rows\n",
      "\n"
     ]
    }
   ],
   "source": [
    "links.show()"
   ]
  },
  {
   "cell_type": "code",
   "execution_count": 9,
   "metadata": {},
   "outputs": [
    {
     "name": "stdout",
     "output_type": "stream",
     "text": [
      "The number of rows in movies dataset is 9125\n",
      "The number of rows in ratings dataset is 100004\n",
      "The number of rows in tags dataset is 1296\n",
      "The number of rows in links dataset is 9125\n"
     ]
    }
   ],
   "source": [
    "print('The number of rows in movies dataset is {}'.format(movies.toPandas().shape[0]))\n",
    "print('The number of rows in ratings dataset is {}'.format(ratings.toPandas().shape[0]))\n",
    "print('The number of rows in tags dataset is {}'.format(tags.toPandas().shape[0]))\n",
    "print('The number of rows in links dataset is {}'.format(links.toPandas().shape[0]))"
   ]
  },
  {
   "cell_type": "code",
   "execution_count": 10,
   "metadata": {
    "collapsed": true
   },
   "outputs": [],
   "source": [
    "for i in ratings.columns:\n",
    "    ratings = ratings.withColumnRenamed(i, i+'_1')    "
   ]
  },
  {
   "cell_type": "code",
   "execution_count": 11,
   "metadata": {},
   "outputs": [
    {
     "name": "stdout",
     "output_type": "stream",
     "text": [
      "+--------+---------+--------+-----------+\n",
      "|userId_1|movieId_1|rating_1|timestamp_1|\n",
      "+--------+---------+--------+-----------+\n",
      "|       1|       31|     2.5| 1260759144|\n",
      "|       1|     1029|     3.0| 1260759179|\n",
      "|       1|     1061|     3.0| 1260759182|\n",
      "|       1|     1129|     2.0| 1260759185|\n",
      "|       1|     1172|     4.0| 1260759205|\n",
      "|       1|     1263|     2.0| 1260759151|\n",
      "|       1|     1287|     2.0| 1260759187|\n",
      "|       1|     1293|     2.0| 1260759148|\n",
      "|       1|     1339|     3.5| 1260759125|\n",
      "|       1|     1343|     2.0| 1260759131|\n",
      "|       1|     1371|     2.5| 1260759135|\n",
      "|       1|     1405|     1.0| 1260759203|\n",
      "|       1|     1953|     4.0| 1260759191|\n",
      "|       1|     2105|     4.0| 1260759139|\n",
      "|       1|     2150|     3.0| 1260759194|\n",
      "|       1|     2193|     2.0| 1260759198|\n",
      "|       1|     2294|     2.0| 1260759108|\n",
      "|       1|     2455|     2.5| 1260759113|\n",
      "|       1|     2968|     1.0| 1260759200|\n",
      "|       1|     3671|     3.0| 1260759117|\n",
      "+--------+---------+--------+-----------+\n",
      "only showing top 20 rows\n",
      "\n"
     ]
    }
   ],
   "source": [
    "ratings.show()"
   ]
  },
  {
   "cell_type": "code",
   "execution_count": 12,
   "metadata": {
    "collapsed": true
   },
   "outputs": [],
   "source": [
    "temp1 = ratings.join(movies, ratings.movieId_1 == movies.movieId, how = 'inner')"
   ]
  },
  {
   "cell_type": "code",
   "execution_count": 13,
   "metadata": {
    "collapsed": true
   },
   "outputs": [],
   "source": [
    "temp2 = temp1.join(links, temp1.movieId_1 == links.movieId, how = 'inner')"
   ]
  },
  {
   "cell_type": "code",
   "execution_count": 14,
   "metadata": {
    "collapsed": true
   },
   "outputs": [],
   "source": [
    "mainDF = temp2.join(tags, (temp2.userId_1 == tags.userId) &\n",
    "                    (temp2.movieId_1 == tags.movieId), how = 'left')"
   ]
  },
  {
   "cell_type": "code",
   "execution_count": 15,
   "metadata": {},
   "outputs": [
    {
     "name": "stdout",
     "output_type": "stream",
     "text": [
      "100004\n",
      "100004\n",
      "100441\n"
     ]
    }
   ],
   "source": [
    "print(temp1.count())\n",
    "print(temp2.count())\n",
    "print(mainDF.count())"
   ]
  },
  {
   "cell_type": "code",
   "execution_count": 16,
   "metadata": {},
   "outputs": [
    {
     "name": "stdout",
     "output_type": "stream",
     "text": [
      "+------------+---------+\n",
      "|         tag|Row Count|\n",
      "+------------+---------+\n",
      "|        null|    99502|\n",
      "|   toplist07|       22|\n",
      "|   toplist12|       18|\n",
      "|   toplist11|       16|\n",
      "|   toplist15|       16|\n",
      "|   toplist10|       16|\n",
      "|   toplist09|       15|\n",
      "|   toplist06|       15|\n",
      "|   toplist08|       15|\n",
      "|   toplist13|       14|\n",
      "|       funny|       13|\n",
      "|   toplist14|       13|\n",
      "|twist ending|       12|\n",
      "|       anime|       10|\n",
      "|      sci-fi|       10|\n",
      "|      comedy|       10|\n",
      "|      quirky|        8|\n",
      "|martial arts|        8|\n",
      "| dark comedy|        7|\n",
      "|  psychology|        7|\n",
      "+------------+---------+\n",
      "only showing top 20 rows\n",
      "\n"
     ]
    }
   ],
   "source": [
    "mainDF.groupBy(['tag']).agg({'rating_1':'count'})\\\n",
    "            .withColumnRenamed('count(rating_1)', 'Row Count').orderBy([\"Row Count\"],ascending=False)\\\n",
    "            .show()"
   ]
  },
  {
   "cell_type": "code",
   "execution_count": 17,
   "metadata": {},
   "outputs": [
    {
     "data": {
      "text/plain": [
       "['userId_1',\n",
       " 'movieId_1',\n",
       " 'rating_1',\n",
       " 'timestamp_1',\n",
       " 'movieId',\n",
       " 'title',\n",
       " 'genres',\n",
       " 'movieId',\n",
       " 'imdbId',\n",
       " 'tmdbId',\n",
       " 'userId',\n",
       " 'movieId',\n",
       " 'tag',\n",
       " 'timestamp']"
      ]
     },
     "execution_count": 17,
     "metadata": {},
     "output_type": "execute_result"
    }
   ],
   "source": [
    "mainDF.columns"
   ]
  },
  {
   "cell_type": "code",
   "execution_count": 18,
   "metadata": {
    "collapsed": true
   },
   "outputs": [],
   "source": [
    "mainDF = mainDF.select('userId_1','movieId_1','rating_1','title','genres', 'imdbId','tmdbId', 'timestamp_1')\\\n",
    "               .distinct()"
   ]
  },
  {
   "cell_type": "code",
   "execution_count": 19,
   "metadata": {},
   "outputs": [
    {
     "data": {
      "text/plain": [
       "100004"
      ]
     },
     "execution_count": 19,
     "metadata": {},
     "output_type": "execute_result"
    }
   ],
   "source": [
    "mainDF.count()"
   ]
  },
  {
   "cell_type": "code",
   "execution_count": 20,
   "metadata": {
    "collapsed": true
   },
   "outputs": [],
   "source": [
    "movies.createOrReplaceTempView('movies_')\n",
    "links.createOrReplaceTempView('links_')\n",
    "ratings.createOrReplaceTempView('ratings_')"
   ]
  },
  {
   "cell_type": "code",
   "execution_count": 21,
   "metadata": {
    "collapsed": true
   },
   "outputs": [],
   "source": [
    "mainDF_SQL = \\\n",
    "sqlContext.sql(\n",
    "\"\"\"\n",
    "select\n",
    "r.userId_1\n",
    ",r.movieId_1\n",
    ",r.rating_1\n",
    ",m.title\n",
    ",m.genres\n",
    ",l.imdbId\n",
    ",l.tmdbId\n",
    ",r.timestamp_1\n",
    "from ratings_ r\n",
    "inner join movies_ m on \n",
    "r.movieId_1 =  m.movieId\n",
    "inner join links_ l on \n",
    "r.movieId_1 = l.movieId\n",
    "\"\"\"\n",
    ")"
   ]
  },
  {
   "cell_type": "code",
   "execution_count": 22,
   "metadata": {},
   "outputs": [
    {
     "name": "stdout",
     "output_type": "stream",
     "text": [
      "+--------+---------+--------+--------------------+--------------------+------+------+-----------+\n",
      "|userId_1|movieId_1|rating_1|               title|              genres|imdbId|tmdbId|timestamp_1|\n",
      "+--------+---------+--------+--------------------+--------------------+------+------+-----------+\n",
      "|       1|       31|     2.5|Dangerous Minds (...|               Drama|112792|  9909| 1260759144|\n",
      "|       1|     1029|     3.0|        Dumbo (1941)|Animation|Childre...| 33563| 11360| 1260759179|\n",
      "|       1|     1061|     3.0|     Sleepers (1996)|            Thriller|117665|   819| 1260759182|\n",
      "|       1|     1129|     2.0|Escape from New Y...|Action|Adventure|...| 82340|  1103| 1260759185|\n",
      "|       1|     1172|     4.0|Cinema Paradiso (...|               Drama| 95765| 11216| 1260759205|\n",
      "+--------+---------+--------+--------------------+--------------------+------+------+-----------+\n",
      "only showing top 5 rows\n",
      "\n"
     ]
    }
   ],
   "source": [
    "mainDF_SQL.show(n =  5)"
   ]
  },
  {
   "cell_type": "code",
   "execution_count": 23,
   "metadata": {},
   "outputs": [
    {
     "data": {
      "text/plain": [
       "100004"
      ]
     },
     "execution_count": 23,
     "metadata": {},
     "output_type": "execute_result"
    }
   ],
   "source": [
    "mainDF_SQL.count()"
   ]
  },
  {
   "cell_type": "code",
   "execution_count": 24,
   "metadata": {},
   "outputs": [
    {
     "name": "stdout",
     "output_type": "stream",
     "text": [
      "+-------+------------------+\n",
      "|summary|          rating_1|\n",
      "+-------+------------------+\n",
      "|  count|            100004|\n",
      "|   mean| 3.543608255669773|\n",
      "| stddev|1.0580641091070384|\n",
      "|    min|               0.5|\n",
      "|    max|               5.0|\n",
      "+-------+------------------+\n",
      "\n"
     ]
    }
   ],
   "source": [
    "mainDF.describe('rating_1').show()"
   ]
  },
  {
   "cell_type": "code",
   "execution_count": 25,
   "metadata": {
    "scrolled": false
   },
   "outputs": [
    {
     "data": {
      "image/png": "[encoded data removed]",
      "text/plain": [
       "<matplotlib.figure.Figure at 0x7f046e261c88>"
      ]
     },
     "metadata": {},
     "output_type": "display_data"
    }
   ],
   "source": [
    "import matplotlib.pyplot as plt\n",
    "%matplotlib inline\n",
    "\n",
    "mainDF.select('rating_1').toPandas().hist(figsize=(16, 6), grid=True)\n",
    "plt.title('Histogram of Ratings')\n",
    "plt.show()"
   ]
  },
  {
   "cell_type": "code",
   "execution_count": 26,
   "metadata": {},
   "outputs": [
    {
     "name": "stdout",
     "output_type": "stream",
     "text": [
      "+--------+---------+\n",
      "|rating_1|Row Count|\n",
      "+--------+---------+\n",
      "|     4.0|    28750|\n",
      "|     3.0|    20064|\n",
      "|     5.0|    15095|\n",
      "|     3.5|    10538|\n",
      "|     4.5|     7723|\n",
      "|     2.0|     7271|\n",
      "|     2.5|     4449|\n",
      "|     1.0|     3326|\n",
      "|     1.5|     1687|\n",
      "|     0.5|     1101|\n",
      "+--------+---------+\n",
      "\n"
     ]
    }
   ],
   "source": [
    "mainDF.groupBy(['rating_1']).agg({'rating_1':'count'})\\\n",
    "            .withColumnRenamed('count(rating_1)', 'Row Count').orderBy([\"Row Count\"],ascending=False)\\\n",
    "            .show()"
   ]
  },
  {
   "cell_type": "code",
   "execution_count": 27,
   "metadata": {
    "collapsed": true
   },
   "outputs": [],
   "source": [
    "userId_frequency = mainDF.groupBy(['userId_1']).agg({'rating_1':'count'})\\\n",
    "            .withColumnRenamed('count(rating_1)', '# of Reviews')\\\n",
    "            .orderBy([\"# of Reviews\"],ascending=False)"
   ]
  },
  {
   "cell_type": "code",
   "execution_count": 28,
   "metadata": {},
   "outputs": [
    {
     "name": "stdout",
     "output_type": "stream",
     "text": [
      "+--------+------------+\n",
      "|userId_1|# of Reviews|\n",
      "+--------+------------+\n",
      "|     547|        2391|\n",
      "|     564|        1868|\n",
      "|     624|        1735|\n",
      "|      15|        1700|\n",
      "|      73|        1610|\n",
      "|     452|        1340|\n",
      "|     468|        1291|\n",
      "|     380|        1063|\n",
      "|     311|        1019|\n",
      "|      30|        1011|\n",
      "|     294|         947|\n",
      "|     509|         923|\n",
      "|     580|         922|\n",
      "|     213|         910|\n",
      "|     212|         876|\n",
      "|     472|         830|\n",
      "|     388|         792|\n",
      "|      23|         726|\n",
      "|     457|         713|\n",
      "|     518|         707|\n",
      "+--------+------------+\n",
      "only showing top 20 rows\n",
      "\n"
     ]
    }
   ],
   "source": [
    "userId_frequency.show()"
   ]
  },
  {
   "cell_type": "code",
   "execution_count": 29,
   "metadata": {},
   "outputs": [
    {
     "data": {
      "image/png": "[encoded data removed]",
      "text/plain": [
       "<matplotlib.figure.Figure at 0x7f046d049be0>"
      ]
     },
     "metadata": {},
     "output_type": "display_data"
    }
   ],
   "source": [
    "userId_frequency.select('# of Reviews').toPandas().hist(figsize=(16, 6), grid=True)\n",
    "plt.title('Histogram of User Ratings')\n",
    "plt.show()"
   ]
  },
  {
   "cell_type": "code",
   "execution_count": 30,
   "metadata": {
    "collapsed": true
   },
   "outputs": [],
   "source": [
    "mainDF = mainDF.withColumnRenamed('userId_1', 'userid')\n",
    "mainDF = mainDF.withColumnRenamed('movieId_1', 'movieid')\n",
    "mainDF = mainDF.withColumnRenamed('rating_1', 'rating')\n",
    "mainDF = mainDF.withColumnRenamed('timestamp_1', 'timestamp')\n",
    "mainDF = mainDF.withColumnRenamed('imdbId', 'imdbid')\n",
    "mainDF = mainDF.withColumnRenamed('tmdbId', 'tmdbid')"
   ]
  },
  {
   "cell_type": "code",
   "execution_count": 31,
   "metadata": {},
   "outputs": [
    {
     "data": {
      "text/plain": [
       "['userid',\n",
       " 'movieid',\n",
       " 'rating',\n",
       " 'title',\n",
       " 'genres',\n",
       " 'imdbid',\n",
       " 'tmdbid',\n",
       " 'timestamp']"
      ]
     },
     "execution_count": 31,
     "metadata": {},
     "output_type": "execute_result"
    }
   ],
   "source": [
    "mainDF.columns"
   ]
  },
  {
   "cell_type": "code",
   "execution_count": 32,
   "metadata": {},
   "outputs": [],
   "source": [
    "import pyspark.sql.functions as F\n",
    "mainDF = mainDF.withColumn(\"rating\", F.round(mainDF[\"rating\"], 0))"
   ]
  },
  {
   "cell_type": "code",
   "execution_count": 33,
   "metadata": {},
   "outputs": [
    {
     "name": "stdout",
     "output_type": "stream",
     "text": [
      "+------+-------+------+--------------------+--------------------+-------+------+----------+----------+\n",
      "|userid|movieid|rating|               title|              genres| imdbid|tmdbid| timestamp|genreCount|\n",
      "+------+-------+------+--------------------+--------------------+-------+------+----------+----------+\n",
      "|     2|    367|   3.0|    Mask, The (1994)|Action|Comedy|Cri...| 110475|   854| 835355619|     119.0|\n",
      "|     4|    913|   5.0|Maltese Falcon, T...|   Film-Noir|Mystery|  33870|   963| 949919247|     231.0|\n",
      "|     4|   1344|   5.0|    Cape Fear (1962)|Crime|Drama|Thriller|  55824| 11349| 949919247|      15.0|\n",
      "|     4|   2454|   5.0|     Fly, The (1958)|Horror|Mystery|Sc...|  51622| 11815| 949982274|     448.0|\n",
      "|     4|   2986|   3.0|    RoboCop 2 (1990)|Action|Crime|Sci-...| 100502|  5549| 949896015|     406.0|\n",
      "|    15|   3755|   2.0|Perfect Storm, Th...|      Drama|Thriller| 177971|  2133|1416119541|      11.0|\n",
      "|    15|   3994|   4.0|  Unbreakable (2000)|        Drama|Sci-Fi| 217869|  9741| 997937442|      65.0|\n",
      "|    15|   5956|   3.0|Gangs of New York...|         Crime|Drama| 217505|  3131|1163876422|       6.0|\n",
      "|    15|  71282|   3.0|   Food, Inc. (2008)|         Documentary|1286537| 18570|1465793912|      13.0|\n",
      "|    15| 110553|   1.0|The Amazing Spide...|  Action|Sci-Fi|IMAX|1872181|102382|1416120149|     238.0|\n",
      "|    15| 152081|   3.0|     Zootopia (2016)|Action|Adventure|...|2948356|269149|1460076733|     126.0|\n",
      "|    16|    527|   4.0|Schindler's List ...|           Drama|War| 108052|   424|1178364921|      12.0|\n",
      "|    19|    805|   3.0|Time to Kill, A (...|      Drama|Thriller| 117913|  1645| 855190199|      11.0|\n",
      "|    19|   1073|   4.0|Willy Wonka & the...|Children|Comedy|F...|  67992|   252| 855190128|      83.0|\n",
      "|    21|     21|   3.0|   Get Shorty (1995)|Comedy|Crime|Thri...| 113161|  8012| 853846669|      67.0|\n",
      "|    21|   1321|   4.0|American Werewolf...|Comedy|Horror|Thr...|  82010|   814| 853851156|     154.0|\n",
      "|    22|   1645|   3.0|The Devil's Advoc...|Drama|Mystery|Thr...| 118971|  1813|1131662268|      20.0|\n",
      "|    26|   2692|   5.0|Run Lola Run (Lol...|        Action|Crime| 130827|   104|1354752751|      48.0|\n",
      "|    26|  30810|   3.0|Life Aquatic with...|Adventure|Comedy|...| 362270|   421|1353708965|      61.0|\n",
      "|    27|   1704|   5.0|Good Will Hunting...|       Drama|Romance| 119217|   489| 939080090|       3.0|\n",
      "+------+-------+------+--------------------+--------------------+-------+------+----------+----------+\n",
      "only showing top 20 rows\n",
      "\n"
     ]
    }
   ],
   "source": [
    "from pyspark.ml.feature import StringIndexer\n",
    "string_indexer = StringIndexer(inputCol=\"genres\", outputCol=\"genreCount\")\n",
    "mainDF = string_indexer.fit(mainDF).transform(mainDF)\n",
    "mainDF.show()"
   ]
  },
  {
   "cell_type": "code",
   "execution_count": 34,
   "metadata": {
    "collapsed": true
   },
   "outputs": [],
   "source": [
    "mainDF = mainDF.select('rating', 'userid', 'movieid', 'imdbid', 'tmdbid', 'timestamp', 'genreCount')"
   ]
  },
  {
   "cell_type": "code",
   "execution_count": 35,
   "metadata": {},
   "outputs": [
    {
     "name": "stdout",
     "output_type": "stream",
     "text": [
      "+------+------+-------+-------+------+----------+----------+\n",
      "|rating|userid|movieid| imdbid|tmdbid| timestamp|genreCount|\n",
      "+------+------+-------+-------+------+----------+----------+\n",
      "|   3.0|     2|    367| 110475|   854| 835355619|     119.0|\n",
      "|   5.0|     4|    913|  33870|   963| 949919247|     231.0|\n",
      "|   5.0|     4|   1344|  55824| 11349| 949919247|      15.0|\n",
      "|   5.0|     4|   2454|  51622| 11815| 949982274|     448.0|\n",
      "|   3.0|     4|   2986| 100502|  5549| 949896015|     406.0|\n",
      "|   2.0|    15|   3755| 177971|  2133|1416119541|      11.0|\n",
      "|   4.0|    15|   3994| 217869|  9741| 997937442|      65.0|\n",
      "|   3.0|    15|   5956| 217505|  3131|1163876422|       6.0|\n",
      "|   3.0|    15|  71282|1286537| 18570|1465793912|      13.0|\n",
      "|   1.0|    15| 110553|1872181|102382|1416120149|     238.0|\n",
      "|   3.0|    15| 152081|2948356|269149|1460076733|     126.0|\n",
      "|   4.0|    16|    527| 108052|   424|1178364921|      12.0|\n",
      "|   3.0|    19|    805| 117913|  1645| 855190199|      11.0|\n",
      "|   4.0|    19|   1073|  67992|   252| 855190128|      83.0|\n",
      "|   3.0|    21|     21| 113161|  8012| 853846669|      67.0|\n",
      "|   4.0|    21|   1321|  82010|   814| 853851156|     154.0|\n",
      "|   3.0|    22|   1645| 118971|  1813|1131662268|      20.0|\n",
      "|   5.0|    26|   2692| 130827|   104|1354752751|      48.0|\n",
      "|   3.0|    26|  30810| 362270|   421|1353708965|      61.0|\n",
      "|   5.0|    27|   1704| 119217|   489| 939080090|       3.0|\n",
      "+------+------+-------+-------+------+----------+----------+\n",
      "only showing top 20 rows\n",
      "\n"
     ]
    }
   ],
   "source": [
    "mainDF.show()"
   ]
  },
  {
   "cell_type": "code",
   "execution_count": 36,
   "metadata": {
    "collapsed": true
   },
   "outputs": [],
   "source": [
    "trainDF, testDF = mainDF.randomSplit([0.8, 0.2], seed=1234)"
   ]
  },
  {
   "cell_type": "code",
   "execution_count": 37,
   "metadata": {},
   "outputs": [
    {
     "name": "stdout",
     "output_type": "stream",
     "text": [
      "The number of rows in mainDF is 100004\n",
      "The number of rows in trainDF is 80146\n",
      "The number of rows in testDF is 19858\n"
     ]
    }
   ],
   "source": [
    "print('The number of rows in mainDF is {}'.format(mainDF.count()))\n",
    "print('The number of rows in trainDF is {}'.format(trainDF.count()))\n",
    "print('The number of rows in testDF is {}'.format(testDF.count()))"
   ]
  },
  {
   "cell_type": "code",
   "execution_count": 38,
   "metadata": {
    "collapsed": true
   },
   "outputs": [],
   "source": [
    "import numpy as np\n",
    "xtrain_array = np.array(trainDF.select('userid','movieid', 'genreCount').collect())\n",
    "xtest_array = np.array(testDF.select('userid','movieid', 'genreCount').collect())"
   ]
  },
  {
   "cell_type": "code",
   "execution_count": 39,
   "metadata": {
    "collapsed": true
   },
   "outputs": [],
   "source": [
    "ytrain_array = np.array(trainDF.select('rating').collect())\n",
    "ytest_array = np.array(testDF.select('rating').collect())"
   ]
  },
  {
   "cell_type": "code",
   "execution_count": 40,
   "metadata": {},
   "outputs": [
    {
     "name": "stdout",
     "output_type": "stream",
     "text": [
      "(19858, 3)\n",
      "(19858, 1)\n",
      "(80146, 3)\n",
      "(80146, 1)\n"
     ]
    }
   ],
   "source": [
    "print(xtest_array.shape)\n",
    "print(ytest_array.shape)\n",
    "print(xtrain_array.shape)\n",
    "print(ytrain_array.shape)"
   ]
  },
  {
   "cell_type": "code",
   "execution_count": 41,
   "metadata": {},
   "outputs": [
    {
     "name": "stderr",
     "output_type": "stream",
     "text": [
      "Using TensorFlow backend.\n"
     ]
    }
   ],
   "source": [
    "import keras.utils as u\n",
    "ytrain_OHE = u.to_categorical(ytrain_array)\n",
    "ytest_OHE = u.to_categorical(ytest_array)"
   ]
  },
  {
   "cell_type": "code",
   "execution_count": 42,
   "metadata": {},
   "outputs": [
    {
     "name": "stdout",
     "output_type": "stream",
     "text": [
      "(80146, 6)\n",
      "(19858, 6)\n"
     ]
    }
   ],
   "source": [
    "print(ytrain_OHE.shape)\n",
    "print(ytest_OHE.shape)"
   ]
  },
  {
   "cell_type": "code",
   "execution_count": 43,
   "metadata": {
    "collapsed": true
   },
   "outputs": [],
   "source": [
    "from keras.models import Sequential\n",
    "from keras.layers import Dense, Activation"
   ]
  },
  {
   "cell_type": "code",
   "execution_count": 44,
   "metadata": {
    "collapsed": true
   },
   "outputs": [],
   "source": [
    "model = Sequential()\n",
    "model.add(Dense(32, activation='relu', input_dim=xtrain_array.shape[1]))\n",
    "model.add(Dense(10, activation='relu'))\n",
    "model.add(Dense(ytrain_OHE.shape[1], activation='softmax'))\n",
    "model.compile(optimizer='adam', loss='categorical_crossentropy', metrics=['accuracy'])"
   ]
  },
  {
   "cell_type": "code",
   "execution_count": 45,
   "metadata": {
    "scrolled": true
   },
   "outputs": [
    {
     "name": "stdout",
     "output_type": "stream",
     "text": [
      "Epoch 1/20\n",
      "80146/80146 [==============================] - 4s 45us/step - loss: 4.4843 - acc: 0.3385\n",
      "Epoch 2/20\n",
      "80146/80146 [==============================] - 4s 56us/step - loss: 1.4123 - acc: 0.3939\n",
      "Epoch 3/20\n",
      "80146/80146 [==============================] - 4s 46us/step - loss: 1.4056 - acc: 0.3939\n",
      "Epoch 4/20\n",
      "80146/80146 [==============================] - 3s 43us/step - loss: 1.4037 - acc: 0.3939\n",
      "Epoch 5/20\n",
      "80146/80146 [==============================] - 3s 42us/step - loss: 1.4031 - acc: 0.3939\n",
      "Epoch 6/20\n",
      "80146/80146 [==============================] - 3s 43us/step - loss: 1.4028 - acc: 0.3939\n",
      "Epoch 7/20\n",
      "80146/80146 [==============================] - 3s 43us/step - loss: 1.4028 - acc: 0.3939\n",
      "Epoch 8/20\n",
      "80146/80146 [==============================] - 4s 45us/step - loss: 1.4028 - acc: 0.3939\n",
      "Epoch 9/20\n",
      "80146/80146 [==============================] - 4s 53us/step - loss: 1.4027 - acc: 0.3939\n",
      "Epoch 10/20\n",
      "80146/80146 [==============================] - 4s 44us/step - loss: 1.4027 - acc: 0.3939\n",
      "Epoch 11/20\n",
      "80146/80146 [==============================] - 4s 45us/step - loss: 1.4027 - acc: 0.3939\n",
      "Epoch 12/20\n",
      "80146/80146 [==============================] - 4s 44us/step - loss: 1.4027 - acc: 0.3939\n",
      "Epoch 13/20\n",
      "80146/80146 [==============================] - 4s 44us/step - loss: 1.4027 - acc: 0.3939\n",
      "Epoch 14/20\n",
      "80146/80146 [==============================] - 4s 44us/step - loss: 1.4027 - acc: 0.3939\n",
      "Epoch 15/20\n",
      "80146/80146 [==============================] - 4s 49us/step - loss: 1.4027 - acc: 0.3939\n",
      "Epoch 16/20\n",
      "80146/80146 [==============================] - 4s 45us/step - loss: 1.4027 - acc: 0.3939\n",
      "Epoch 17/20\n",
      "80146/80146 [==============================] - 4s 44us/step - loss: 1.4027 - acc: 0.3939\n",
      "Epoch 18/20\n",
      "80146/80146 [==============================] - 4s 45us/step - loss: 1.4027 - acc: 0.3939\n",
      "Epoch 19/20\n",
      "80146/80146 [==============================] - 4s 47us/step - loss: 1.4027 - acc: 0.3939\n",
      "Epoch 20/20\n",
      "80146/80146 [==============================] - 4s 46us/step - loss: 1.4027 - acc: 0.3939\n"
     ]
    }
   ],
   "source": [
    "accuracy_history = model.fit(xtrain_array, ytrain_OHE, epochs=20, batch_size=32)"
   ]
  },
  {
   "cell_type": "code",
   "execution_count": 46,
   "metadata": {},
   "outputs": [
    {
     "data": {
      "image/png": "[encoded data removed]",
      "text/plain": [
       "<matplotlib.figure.Figure at 0x7f0452fc37f0>"
      ]
     },
     "metadata": {},
     "output_type": "display_data"
    },
    {
     "data": {
      "image/png": "[encoded data removed]",
      "text/plain": [
       "<matplotlib.figure.Figure at 0x7f0452fa2b38>"
      ]
     },
     "metadata": {},
     "output_type": "display_data"
    }
   ],
   "source": [
    "plt.plot(accuracy_history.history['acc'])\n",
    "plt.title('Accuracy vs. Epoch')\n",
    "plt.xlabel('Epoch')\n",
    "plt.ylabel('Accuracy')\n",
    "plt.show()\n",
    "plt.plot(accuracy_history.history['loss'])\n",
    "plt.title('Loss vs. Epoch')\n",
    "plt.xlabel('Epoch')\n",
    "plt.ylabel('Loss')\n",
    "plt.show()"
   ]
  },
  {
   "cell_type": "code",
   "execution_count": 47,
   "metadata": {},
   "outputs": [
    {
     "name": "stdout",
     "output_type": "stream",
     "text": [
      "19858/19858 [==============================] - 0s 9us/step\n",
      "accuracy is 38.87%\n"
     ]
    }
   ],
   "source": [
    "score = model.evaluate(xtest_array, ytest_OHE, batch_size=128)\n",
    "accuracy_rate = score[1]*100\n",
    "print('accuracy is {}%'.format(round(accuracy_rate,2)))"
   ]
  }
 ],
 "metadata": {
  "kernelspec": {
   "display_name": "Python 3",
   "language": "python",
   "name": "python3"
  },
  "language_info": {
   "codemirror_mode": {
    "name": "ipython",
    "version": 3
   },
   "file_extension": ".py",
   "mimetype": "text/x-python",
   "name": "python",
   "nbconvert_exporter": "python",
   "pygments_lexer": "ipython3",
   "version": "3.6.1"
  }
 },
 "nbformat": 4,
 "nbformat_minor": 2
}
