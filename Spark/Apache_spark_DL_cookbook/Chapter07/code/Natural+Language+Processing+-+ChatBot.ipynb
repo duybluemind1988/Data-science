{
 "cells": [
  {
   "cell_type": "code",
   "execution_count": 1,
   "metadata": {
    "collapsed": true
   },
   "outputs": [],
   "source": [
    "spark = SparkSession.builder \\\n",
    "   .master(\"local\") \\\n",
    "   .appName(\"Natural Language Processing\") \\\n",
    "   .config(\"spark.executor.memory\", \"6gb\") \\\n",
    "   .getOrCreate()"
   ]
  },
  {
   "cell_type": "code",
   "execution_count": 2,
   "metadata": {
    "collapsed": true
   },
   "outputs": [],
   "source": [
    "df = spark.read.format('com.databricks.spark.csv')\\\n",
    "                    .options(header='true', inferschema='true')\\\n",
    "                    .load('TherapyBotSession.csv')\n"
   ]
  },
  {
   "cell_type": "code",
   "execution_count": 3,
   "metadata": {
    "scrolled": false
   },
   "outputs": [
    {
     "name": "stdout",
     "output_type": "stream",
     "text": [
      "+---+---------------+--------------------+----+----+----+----+\n",
      "| id|          label|                chat| _c3| _c4| _c5| _c6|\n",
      "+---+---------------+--------------------+----+----+----+----+\n",
      "|  1|       escalate|I had a friend th...|null|null|null|null|\n",
      "|  2|       escalate|\"My friend dealt ...|null|null|null|null|\n",
      "|  3|       escalate|Friend who had bi...|null|null|null|null|\n",
      "|  4|do_not_escalate|Over the internet...|null|null|null|null|\n",
      "|  5|       escalate|Having gone throu...|null|null|null|null|\n",
      "|  6|       escalate|My now girlfriend...|null|null|null|null|\n",
      "|  7|do_not_escalate|\"Only really one ...|null|null|null|null|\n",
      "|  8|do_not_escalate|Now that I've bee...|null|null|null|null|\n",
      "|  9|do_not_escalate|I've always been ...|null|null|null|null|\n",
      "| 10|       escalate|I feel completely...|null|null|null|null|\n",
      "| 11|do_not_escalate|Took a week off w...|null|null|null|null|\n",
      "| 12|       escalate|One of my best fr...|null|null|null|null|\n",
      "| 13|       escalate|I've had some fri...|null|null|null|null|\n",
      "| 14|do_not_escalate|Haha. In eight gr...|null|null|null|null|\n",
      "| 15|do_not_escalate|Some of my friend...|null|null|null|null|\n",
      "| 16|       escalate|I feel like depre...|null|null|null|null|\n",
      "| 17|       escalate|i've had a couple...|null|null|null|null|\n",
      "| 18|       escalate|I will always lis...|null|null|null|null|\n",
      "| 19|do_not_escalate|A lot for my frie...|null|null|null|null|\n",
      "| 20|do_not_escalate|When my friend ne...|null|null|null|null|\n",
      "+---+---------------+--------------------+----+----+----+----+\n",
      "only showing top 20 rows\n",
      "\n"
     ]
    }
   ],
   "source": [
    "df.show()"
   ]
  },
  {
   "cell_type": "code",
   "execution_count": 4,
   "metadata": {
    "collapsed": true
   },
   "outputs": [],
   "source": [
    "df = df.select('id', 'label', 'chat')"
   ]
  },
  {
   "cell_type": "code",
   "execution_count": 5,
   "metadata": {},
   "outputs": [
    {
     "name": "stdout",
     "output_type": "stream",
     "text": [
      "+---+---------------+--------------------+\n",
      "| id|          label|                chat|\n",
      "+---+---------------+--------------------+\n",
      "|  1|       escalate|I had a friend th...|\n",
      "|  2|       escalate|\"My friend dealt ...|\n",
      "|  3|       escalate|Friend who had bi...|\n",
      "|  4|do_not_escalate|Over the internet...|\n",
      "|  5|       escalate|Having gone throu...|\n",
      "|  6|       escalate|My now girlfriend...|\n",
      "|  7|do_not_escalate|\"Only really one ...|\n",
      "|  8|do_not_escalate|Now that I've bee...|\n",
      "|  9|do_not_escalate|I've always been ...|\n",
      "| 10|       escalate|I feel completely...|\n",
      "| 11|do_not_escalate|Took a week off w...|\n",
      "| 12|       escalate|One of my best fr...|\n",
      "| 13|       escalate|I've had some fri...|\n",
      "| 14|do_not_escalate|Haha. In eight gr...|\n",
      "| 15|do_not_escalate|Some of my friend...|\n",
      "| 16|       escalate|I feel like depre...|\n",
      "| 17|       escalate|i've had a couple...|\n",
      "| 18|       escalate|I will always lis...|\n",
      "| 19|do_not_escalate|A lot for my frie...|\n",
      "| 20|do_not_escalate|When my friend ne...|\n",
      "+---+---------------+--------------------+\n",
      "only showing top 20 rows\n",
      "\n"
     ]
    }
   ],
   "source": [
    "df.show()"
   ]
  },
  {
   "cell_type": "code",
   "execution_count": 6,
   "metadata": {
    "scrolled": true
   },
   "outputs": [
    {
     "name": "stdout",
     "output_type": "stream",
     "text": [
      "+---------------+-----+\n",
      "|          label|count|\n",
      "+---------------+-----+\n",
      "|do_not_escalate|   65|\n",
      "|       escalate|   35|\n",
      "+---------------+-----+\n",
      "\n"
     ]
    }
   ],
   "source": [
    "df.groupBy(\"label\") \\\n",
    "    .count() \\\n",
    "    .orderBy(\"count\", ascending = False) \\\n",
    "    .show()"
   ]
  },
  {
   "cell_type": "code",
   "execution_count": 7,
   "metadata": {},
   "outputs": [],
   "source": [
    "import pyspark.sql.functions as F\n",
    "df = df.withColumn('word_count',F.size(F.split(F.col('chat'),' ')))"
   ]
  },
  {
   "cell_type": "code",
   "execution_count": 8,
   "metadata": {
    "scrolled": true
   },
   "outputs": [
    {
     "name": "stdout",
     "output_type": "stream",
     "text": [
      "+---+---------------+--------------------+----------+\n",
      "| id|          label|                chat|word_count|\n",
      "+---+---------------+--------------------+----------+\n",
      "|  1|       escalate|I had a friend th...|       304|\n",
      "|  2|       escalate|\"My friend dealt ...|       184|\n",
      "|  3|       escalate|Friend who had bi...|        90|\n",
      "|  4|do_not_escalate|Over the internet...|        88|\n",
      "|  5|       escalate|Having gone throu...|        71|\n",
      "|  6|       escalate|My now girlfriend...|        73|\n",
      "|  7|do_not_escalate|\"Only really one ...|        74|\n",
      "|  8|do_not_escalate|Now that I've bee...|        62|\n",
      "|  9|do_not_escalate|I've always been ...|        60|\n",
      "| 10|       escalate|I feel completely...|        56|\n",
      "| 11|do_not_escalate|Took a week off w...|        60|\n",
      "| 12|       escalate|One of my best fr...|        59|\n",
      "| 13|       escalate|I've had some fri...|        50|\n",
      "| 14|do_not_escalate|Haha. In eight gr...|        55|\n",
      "| 15|do_not_escalate|Some of my friend...|        49|\n",
      "| 16|       escalate|I feel like depre...|        41|\n",
      "| 17|       escalate|i've had a couple...|        38|\n",
      "| 18|       escalate|I will always lis...|        41|\n",
      "| 19|do_not_escalate|A lot for my frie...|        44|\n",
      "| 20|do_not_escalate|When my friend ne...|        42|\n",
      "+---+---------------+--------------------+----------+\n",
      "only showing top 20 rows\n",
      "\n"
     ]
    }
   ],
   "source": [
    "df.show()"
   ]
  },
  {
   "cell_type": "code",
   "execution_count": 9,
   "metadata": {},
   "outputs": [
    {
     "name": "stdout",
     "output_type": "stream",
     "text": [
      "+---------------+-----------------+\n",
      "|          label|   avg_word_count|\n",
      "+---------------+-----------------+\n",
      "|       escalate|             44.0|\n",
      "|do_not_escalate|20.29230769230769|\n",
      "+---------------+-----------------+\n",
      "\n"
     ]
    }
   ],
   "source": [
    "df.groupBy('label')\\\n",
    "    .agg(F.avg('word_count').alias('avg_word_count'))\\\n",
    "    .orderBy('avg_word_count', ascending = False) \\\n",
    "    .show()\n"
   ]
  },
  {
   "cell_type": "code",
   "execution_count": 10,
   "metadata": {},
   "outputs": [],
   "source": [
    "df_plot = df.select('id', 'word_count').toPandas()"
   ]
  },
  {
   "cell_type": "code",
   "execution_count": 11,
   "metadata": {},
   "outputs": [
    {
     "data": {
      "image/png": "[encoded data removed]",
      "text/plain": [
       "<matplotlib.figure.Figure at 0x7fb3441606d8>"
      ]
     },
     "metadata": {},
     "output_type": "display_data"
    }
   ],
   "source": [
    "import matplotlib.pyplot as plt\n",
    "%matplotlib inline\n",
    "\n",
    "df_plot.set_index('id', inplace=True)\n",
    "df_plot.plot(kind='bar', figsize=(16, 6))\n",
    "plt.ylabel('Word Count')\n",
    "plt.title('Word Count distribution')\n",
    "plt.show()"
   ]
  },
  {
   "cell_type": "code",
   "execution_count": 12,
   "metadata": {
    "collapsed": true
   },
   "outputs": [],
   "source": [
    "from textblob import TextBlob\n",
    "def sentiment_score(chat):\n",
    "        return TextBlob(chat).sentiment.polarity"
   ]
  },
  {
   "cell_type": "code",
   "execution_count": 13,
   "metadata": {},
   "outputs": [],
   "source": [
    "from pyspark.sql.types import FloatType\n",
    "sentiment_score_udf = F.udf(lambda x: sentiment_score(x), FloatType())\n"
   ]
  },
  {
   "cell_type": "code",
   "execution_count": 14,
   "metadata": {},
   "outputs": [
    {
     "name": "stdout",
     "output_type": "stream",
     "text": [
      "+---+---------------+--------------------+----------+---------------+\n",
      "| id|          label|                chat|word_count|sentiment_score|\n",
      "+---+---------------+--------------------+----------+---------------+\n",
      "|  1|       escalate|I had a friend th...|       304|    0.018961353|\n",
      "|  2|       escalate|\"My friend dealt ...|       184|     0.20601852|\n",
      "|  3|       escalate|Friend who had bi...|        90|    0.008333334|\n",
      "|  4|do_not_escalate|Over the internet...|        88|    0.045833334|\n",
      "|  5|       escalate|Having gone throu...|        71|         0.0125|\n",
      "|  6|       escalate|My now girlfriend...|        73|     0.06333333|\n",
      "|  7|do_not_escalate|\"Only really one ...|        74|    0.036363635|\n",
      "|  8|do_not_escalate|Now that I've bee...|        62|          0.125|\n",
      "|  9|do_not_escalate|I've always been ...|        60|           0.31|\n",
      "| 10|       escalate|I feel completely...|        56|      -0.078125|\n",
      "| 11|do_not_escalate|Took a week off w...|        60|     0.16666667|\n",
      "| 12|       escalate|One of my best fr...|        59|            0.4|\n",
      "| 13|       escalate|I've had some fri...|        50|           0.19|\n",
      "| 14|do_not_escalate|Haha. In eight gr...|        55|     0.29666665|\n",
      "| 15|do_not_escalate|Some of my friend...|        49|            0.4|\n",
      "| 16|       escalate|I feel like depre...|        41|           0.05|\n",
      "| 17|       escalate|i've had a couple...|        38|     0.16666667|\n",
      "| 18|       escalate|I will always lis...|        41|         -0.025|\n",
      "| 19|do_not_escalate|A lot for my frie...|        44|    0.035858586|\n",
      "| 20|do_not_escalate|When my friend ne...|        42|   -0.094444446|\n",
      "+---+---------------+--------------------+----------+---------------+\n",
      "only showing top 20 rows\n",
      "\n"
     ]
    }
   ],
   "source": [
    "df = df.select('id', 'label', 'chat','word_count',\n",
    "                   sentiment_score_udf('chat').alias('sentiment_score'))\n",
    "df.show()"
   ]
  },
  {
   "cell_type": "code",
   "execution_count": 15,
   "metadata": {},
   "outputs": [
    {
     "name": "stdout",
     "output_type": "stream",
     "text": [
      "+---------------+--------------------+\n",
      "|          label| avg_sentiment_score|\n",
      "+---------------+--------------------+\n",
      "|       escalate| 0.06338859780558519|\n",
      "|do_not_escalate|0.031975071089198955|\n",
      "+---------------+--------------------+\n",
      "\n"
     ]
    }
   ],
   "source": [
    "df.groupBy('label')\\\n",
    "    .agg(F.avg('sentiment_score').alias('avg_sentiment_score'))\\\n",
    "    .orderBy('avg_sentiment_score', ascending = False) \\\n",
    "    .show()"
   ]
  },
  {
   "cell_type": "code",
   "execution_count": 16,
   "metadata": {},
   "outputs": [
    {
     "name": "stdout",
     "output_type": "stream",
     "text": [
      "+---+---------------+--------------------+----------+---------------+--------------------+\n",
      "| id|          label|                chat|word_count|sentiment_score|               words|\n",
      "+---+---------------+--------------------+----------+---------------+--------------------+\n",
      "|  1|       escalate|I had a friend th...|       304|    0.018961353|[I, had, a, frien...|\n",
      "|  2|       escalate|\"My friend dealt ...|       184|     0.20601852|[\"My, friend, dea...|\n",
      "|  3|       escalate|Friend who had bi...|        90|    0.008333334|[Friend, who, had...|\n",
      "|  4|do_not_escalate|Over the internet...|        88|    0.045833334|[Over, the, inter...|\n",
      "|  5|       escalate|Having gone throu...|        71|         0.0125|[Having, gone, th...|\n",
      "|  6|       escalate|My now girlfriend...|        73|     0.06333333|[My, now, girlfri...|\n",
      "|  7|do_not_escalate|\"Only really one ...|        74|    0.036363635|[\"Only, really, o...|\n",
      "|  8|do_not_escalate|Now that I've bee...|        62|          0.125|[Now, that, I've,...|\n",
      "|  9|do_not_escalate|I've always been ...|        60|           0.31|[I've, always, be...|\n",
      "| 10|       escalate|I feel completely...|        56|      -0.078125|[I, feel, complet...|\n",
      "| 11|do_not_escalate|Took a week off w...|        60|     0.16666667|[Took, a, week, o...|\n",
      "| 12|       escalate|One of my best fr...|        59|            0.4|[One, of, my, bes...|\n",
      "| 13|       escalate|I've had some fri...|        50|           0.19|[I've, had, some,...|\n",
      "| 14|do_not_escalate|Haha. In eight gr...|        55|     0.29666665|[Haha., In, eight...|\n",
      "| 15|do_not_escalate|Some of my friend...|        49|            0.4|[Some, of, my, fr...|\n",
      "| 16|       escalate|I feel like depre...|        41|           0.05|[I, feel, like, d...|\n",
      "| 17|       escalate|i've had a couple...|        38|     0.16666667|[i've, had, a, co...|\n",
      "| 18|       escalate|I will always lis...|        41|         -0.025|[I, will, always,...|\n",
      "| 19|do_not_escalate|A lot for my frie...|        44|    0.035858586|[A, lot, for, my,...|\n",
      "| 20|do_not_escalate|When my friend ne...|        42|   -0.094444446|[When, my, friend...|\n",
      "+---+---------------+--------------------+----------+---------------+--------------------+\n",
      "only showing top 20 rows\n",
      "\n"
     ]
    }
   ],
   "source": [
    "df = df.withColumn('words',F.split(F.col('chat'),' '))\n",
    "df.show()"
   ]
  },
  {
   "cell_type": "code",
   "execution_count": 17,
   "metadata": {
    "collapsed": true
   },
   "outputs": [],
   "source": [
    "stop_words = ['i','me','my','myself','we','our','ours','ourselves',\n",
    "              'you','your','yours','yourself','yourselves','he','him',\n",
    "              'his','himself','she','her','hers','herself','it','its',\n",
    "              'itself','they','them','their','theirs','themselves',\n",
    "              'what','which','who','whom','this','that','these','those',\n",
    "              'am','is','are','was','were','be','been','being','have',\n",
    "              'has','had','having','do','does','did','doing','a','an',\n",
    "              'the','and','but','if','or','because','as','until','while',\n",
    "              'of','at','by','for','with','about','against','between',\n",
    "              'into','through','during','before','after','above','below',\n",
    "              'to','from','up','down','in','out','on','off','over','under',\n",
    "              'again','further','then','once','here','there','when','where',\n",
    "              'why','how','all','any','both','each','few','more','most',\n",
    "              'other','some','such','no','nor','not','only','own','same',\n",
    "              'so','than','too','very','can','will','just','don','should','now']"
   ]
  },
  {
   "cell_type": "code",
   "execution_count": 18,
   "metadata": {
    "collapsed": true
   },
   "outputs": [],
   "source": [
    "from pyspark.ml.feature import StopWordsRemover "
   ]
  },
  {
   "cell_type": "code",
   "execution_count": 19,
   "metadata": {
    "collapsed": true
   },
   "outputs": [],
   "source": [
    "stopwordsRemovalFeature = StopWordsRemover(inputCol=\"words\", \n",
    "                                           outputCol=\"words without stop\").setStopWords(stop_words)"
   ]
  },
  {
   "cell_type": "code",
   "execution_count": 20,
   "metadata": {
    "collapsed": true
   },
   "outputs": [],
   "source": [
    "from pyspark.ml import Pipeline\n",
    "stopWordRemovalPipeline = Pipeline(stages=[stopwordsRemovalFeature])\n",
    "pipelineFitRemoveStopWords = stopWordRemovalPipeline.fit(df)"
   ]
  },
  {
   "cell_type": "code",
   "execution_count": 21,
   "metadata": {
    "scrolled": false
   },
   "outputs": [
    {
     "name": "stdout",
     "output_type": "stream",
     "text": [
      "+--------------------+--------------------+\n",
      "|               words|  words without stop|\n",
      "+--------------------+--------------------+\n",
      "|[I, had, a, frien...|[friend, would, g...|\n",
      "|[\"My, friend, dea...|[\"My, friend, dea...|\n",
      "|[Friend, who, had...|[Friend, big, add...|\n",
      "|[Over, the, inter...|[internet, LOT, p...|\n",
      "|[Having, gone, th...|[gone, depression...|\n",
      "+--------------------+--------------------+\n",
      "only showing top 5 rows\n",
      "\n"
     ]
    }
   ],
   "source": [
    "df = pipelineFitRemoveStopWords.transform(df)\n",
    "df.select('words', 'words without stop').show(5)"
   ]
  },
  {
   "cell_type": "code",
   "execution_count": 22,
   "metadata": {},
   "outputs": [],
   "source": [
    "label = F.udf(lambda x: 1.0 if x == 'escalate' else 0.0, FloatType())\n",
    "df = df.withColumn('label', label('label'))"
   ]
  },
  {
   "cell_type": "code",
   "execution_count": 23,
   "metadata": {},
   "outputs": [
    {
     "name": "stdout",
     "output_type": "stream",
     "text": [
      "+-----+\n",
      "|label|\n",
      "+-----+\n",
      "|  1.0|\n",
      "|  1.0|\n",
      "|  1.0|\n",
      "|  0.0|\n",
      "|  1.0|\n",
      "|  1.0|\n",
      "|  0.0|\n",
      "|  0.0|\n",
      "|  0.0|\n",
      "|  1.0|\n",
      "|  0.0|\n",
      "|  1.0|\n",
      "|  1.0|\n",
      "|  0.0|\n",
      "|  0.0|\n",
      "|  1.0|\n",
      "|  1.0|\n",
      "|  1.0|\n",
      "|  0.0|\n",
      "|  0.0|\n",
      "+-----+\n",
      "only showing top 20 rows\n",
      "\n"
     ]
    }
   ],
   "source": [
    "df.select('label').show()"
   ]
  },
  {
   "cell_type": "code",
   "execution_count": 24,
   "metadata": {
    "collapsed": true
   },
   "outputs": [],
   "source": [
    "import pyspark.ml.feature as feat\n",
    "TF_ = feat.HashingTF(inputCol=\"words without stop\", \n",
    "                     outputCol=\"rawFeatures\", numFeatures=100000)\n",
    "IDF_ = feat.IDF(inputCol=\"rawFeatures\", outputCol=\"features\")"
   ]
  },
  {
   "cell_type": "code",
   "execution_count": 25,
   "metadata": {
    "collapsed": true
   },
   "outputs": [],
   "source": [
    "pipelineTFIDF = Pipeline(stages=[TF_, IDF_])"
   ]
  },
  {
   "cell_type": "code",
   "execution_count": 26,
   "metadata": {},
   "outputs": [],
   "source": [
    "pipelineFit = pipelineTFIDF.fit(df)\n",
    "df = pipelineFit.transform(df)"
   ]
  },
  {
   "cell_type": "code",
   "execution_count": 27,
   "metadata": {},
   "outputs": [
    {
     "name": "stdout",
     "output_type": "stream",
     "text": [
      "+-----+--------------------+--------------------+\n",
      "|label|         rawFeatures|            features|\n",
      "+-----+--------------------+--------------------+\n",
      "|  1.0|(100000,[76,1583,...|(100000,[76,1583,...|\n",
      "|  1.0|(100000,[5319,105...|(100000,[5319,105...|\n",
      "|  1.0|(100000,[618,7515...|(100000,[618,7515...|\n",
      "|  0.0|(100000,[3370,444...|(100000,[3370,444...|\n",
      "|  1.0|(100000,[4442,101...|(100000,[4442,101...|\n",
      "|  1.0|(100000,[7369,775...|(100000,[7369,775...|\n",
      "|  0.0|(100000,[232,6124...|(100000,[232,6124...|\n",
      "|  0.0|(100000,[2732,335...|(100000,[2732,335...|\n",
      "|  0.0|(100000,[4047,425...|(100000,[4047,425...|\n",
      "|  1.0|(100000,[6531,135...|(100000,[6531,135...|\n",
      "|  0.0|(100000,[5330,120...|(100000,[5330,120...|\n",
      "|  1.0|(100000,[1197,444...|(100000,[1197,444...|\n",
      "|  1.0|(100000,[4442,107...|(100000,[4442,107...|\n",
      "|  0.0|(100000,[232,4441...|(100000,[232,4441...|\n",
      "|  0.0|(100000,[781,3526...|(100000,[781,3526...|\n",
      "|  1.0|(100000,[13806,14...|(100000,[13806,14...|\n",
      "|  1.0|(100000,[4442,108...|(100000,[4442,108...|\n",
      "|  1.0|(100000,[76,11034...|(100000,[76,11034...|\n",
      "|  0.0|(100000,[10001,27...|(100000,[10001,27...|\n",
      "|  0.0|(100000,[29385,39...|(100000,[29385,39...|\n",
      "+-----+--------------------+--------------------+\n",
      "only showing top 20 rows\n",
      "\n"
     ]
    }
   ],
   "source": [
    "df.select('label', 'rawFeatures','features').show()"
   ]
  },
  {
   "cell_type": "code",
   "execution_count": 28,
   "metadata": {
    "collapsed": true
   },
   "outputs": [],
   "source": [
    "(trainingDF, testDF) = df.randomSplit([0.75, 0.25], seed = 1234)"
   ]
  },
  {
   "cell_type": "code",
   "execution_count": 29,
   "metadata": {
    "collapsed": true
   },
   "outputs": [],
   "source": [
    "from pyspark.ml.classification import LogisticRegression\n",
    "logreg = LogisticRegression(regParam=0.025)"
   ]
  },
  {
   "cell_type": "code",
   "execution_count": 30,
   "metadata": {},
   "outputs": [],
   "source": [
    "logregModel = logreg.fit(trainingDF)"
   ]
  },
  {
   "cell_type": "code",
   "execution_count": 31,
   "metadata": {
    "collapsed": true
   },
   "outputs": [],
   "source": [
    "predictionDF = logregModel.transform(testDF)"
   ]
  },
  {
   "cell_type": "code",
   "execution_count": 32,
   "metadata": {},
   "outputs": [
    {
     "name": "stdout",
     "output_type": "stream",
     "text": [
      "+-----+--------------------+----------+\n",
      "|label|         probability|prediction|\n",
      "+-----+--------------------+----------+\n",
      "|  1.0|[0.00339966489826...|       1.0|\n",
      "|  1.0|[0.55815635574642...|       0.0|\n",
      "|  1.0|[0.03557500295368...|       1.0|\n",
      "|  0.0|[0.52714451276392...|       0.0|\n",
      "|  0.0|[0.64630042307877...|       0.0|\n",
      "|  0.0|[0.69042286406135...|       0.0|\n",
      "|  1.0|[0.44672236248681...|       1.0|\n",
      "|  0.0|[0.67209249316671...|       0.0|\n",
      "|  0.0|[0.96010780703860...|       0.0|\n",
      "|  1.0|[0.75210799156076...|       0.0|\n",
      "|  0.0|[0.90904812079420...|       0.0|\n",
      "|  0.0|[0.97354469378068...|       0.0|\n",
      "|  0.0|[0.96576753489686...|       0.0|\n",
      "|  0.0|[0.89685928798301...|       0.0|\n",
      "|  0.0|[0.92552854921657...|       0.0|\n",
      "|  0.0|[0.94649994610325...|       0.0|\n",
      "|  0.0|[0.89486269398390...|       0.0|\n",
      "|  0.0|[0.65225541621797...|       0.0|\n",
      "|  0.0|[0.95636713428689...|       0.0|\n",
      "|  0.0|[0.95927102608436...|       0.0|\n",
      "+-----+--------------------+----------+\n",
      "only showing top 20 rows\n",
      "\n"
     ]
    }
   ],
   "source": [
    "predictionDF.select('label', 'probability', 'prediction').show()"
   ]
  },
  {
   "cell_type": "code",
   "execution_count": 33,
   "metadata": {},
   "outputs": [
    {
     "name": "stdout",
     "output_type": "stream",
     "text": [
      "+----------------+---+---+\n",
      "|label_prediction|0.0|1.0|\n",
      "+----------------+---+---+\n",
      "|             1.0|  2|  3|\n",
      "|             0.0| 19|  0|\n",
      "+----------------+---+---+\n",
      "\n"
     ]
    }
   ],
   "source": [
    "predictionDF.crosstab('label', 'prediction').show()"
   ]
  },
  {
   "cell_type": "code",
   "execution_count": 34,
   "metadata": {
    "collapsed": true
   },
   "outputs": [],
   "source": [
    "from sklearn import metrics\n",
    "actual = predictionDF.select('label').toPandas()\n",
    "predicted = predictionDF.select('prediction').toPandas()"
   ]
  },
  {
   "cell_type": "code",
   "execution_count": 35,
   "metadata": {},
   "outputs": [
    {
     "name": "stdout",
     "output_type": "stream",
     "text": [
      "accuracy score: 91.7%\n"
     ]
    }
   ],
   "source": [
    "print('accuracy score: {}%'.format(round(metrics.accuracy_score(actual, predicted),3)*100))"
   ]
  },
  {
   "cell_type": "code",
   "execution_count": 36,
   "metadata": {},
   "outputs": [
    {
     "name": "stdout",
     "output_type": "stream",
     "text": [
      "The ROC score is 93.7%\n"
     ]
    }
   ],
   "source": [
    "from pyspark.ml.evaluation import BinaryClassificationEvaluator\n",
    "\n",
    "scores = predictionDF.select('label', 'rawPrediction')\n",
    "evaluator = BinaryClassificationEvaluator()\n",
    "print('The ROC score is {}%'.format(round(evaluator.evaluate(scores),3)*100))"
   ]
  },
  {
   "cell_type": "code",
   "execution_count": 37,
   "metadata": {
    "scrolled": true
   },
   "outputs": [
    {
     "name": "stdout",
     "output_type": "stream",
     "text": [
      "+-------+-------------------+\n",
      "|summary|              label|\n",
      "+-------+-------------------+\n",
      "|  count|                 24|\n",
      "|   mean|0.20833333333333334|\n",
      "| stddev|0.41485111699905336|\n",
      "|    min|                0.0|\n",
      "|    max|                1.0|\n",
      "+-------+-------------------+\n",
      "\n"
     ]
    }
   ],
   "source": [
    "predictionDF.describe('label').show()"
   ]
  },
  {
   "cell_type": "code",
   "execution_count": null,
   "metadata": {
    "collapsed": true
   },
   "outputs": [],
   "source": []
  }
 ],
 "metadata": {
  "kernelspec": {
   "display_name": "Python 3",
   "language": "python",
   "name": "python3"
  },
  "language_info": {
   "codemirror_mode": {
    "name": "ipython",
    "version": 3
   },
   "file_extension": ".py",
   "mimetype": "text/x-python",
   "name": "python",
   "nbconvert_exporter": "python",
   "pygments_lexer": "ipython3",
   "version": "3.6.1"
  }
 },
 "nbformat": 4,
 "nbformat_minor": 2
}
