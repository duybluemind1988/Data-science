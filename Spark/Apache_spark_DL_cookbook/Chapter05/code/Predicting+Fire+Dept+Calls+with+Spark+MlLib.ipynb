{
 "cells": [
  {
   "cell_type": "code",
   "execution_count": 1,
   "metadata": {
    "collapsed": true
   },
   "outputs": [],
   "source": [
    "from pyspark.sql import SparkSession"
   ]
  },
  {
   "cell_type": "code",
   "execution_count": 2,
   "metadata": {
    "collapsed": true
   },
   "outputs": [],
   "source": [
    "spark = SparkSession.builder \\\n",
    "   .master(\"local\") \\\n",
    "   .appName(\"Predicting Fire Dept Calls\") \\\n",
    "   .config(\"spark.executor.memory\", \"6gb\") \\\n",
    "   .getOrCreate()"
   ]
  },
  {
   "cell_type": "code",
   "execution_count": 3,
   "metadata": {
    "collapsed": true
   },
   "outputs": [],
   "source": [
    "df = spark.read.format('com.databricks.spark.csv')\\\n",
    "                    .options(header='true', inferschema='true')\\\n",
    "                    .load('Fire_Department_Calls_for_Service.csv')\n"
   ]
  },
  {
   "cell_type": "code",
   "execution_count": 4,
   "metadata": {
    "scrolled": true
   },
   "outputs": [
    {
     "name": "stdout",
     "output_type": "stream",
     "text": [
      "+-----------+-------+---------------+----------------+----------+----------+--------------------+--------------------+--------------------+--------------------+--------------------+--------------------+--------------------+----------------------+--------------------+--------------------+----+-------------------+---------+------------+----+-----------------+--------+--------------+--------+---------------+----------------+---------+------------------------------+------------------------+-------------------+------------------------------------+--------------------+-------------+\n",
      "|Call Number|Unit ID|Incident Number|       Call Type| Call Date|Watch Date|       Received DtTm|          Entry DtTm|       Dispatch DtTm|       Response DtTm|       On Scene DtTm|      Transport DtTm|       Hospital DtTm|Call Final Disposition|      Available DtTm|             Address|City|Zipcode of Incident|Battalion|Station Area| Box|Original Priority|Priority|Final Priority|ALS Unit|Call Type Group|Number of Alarms|Unit Type|Unit sequence in call dispatch|Fire Prevention District|Supervisor District|Neighborhooods - Analysis Boundaries|            Location|        RowID|\n",
      "+-----------+-------+---------------+----------------+----------+----------+--------------------+--------------------+--------------------+--------------------+--------------------+--------------------+--------------------+----------------------+--------------------+--------------------+----+-------------------+---------+------------+----+-----------------+--------+--------------+--------+---------------+----------------+---------+------------------------------+------------------------+-------------------+------------------------------------+--------------------+-------------+\n",
      "|    1030101|    E18|         306091|Medical Incident|04/12/2000|04/12/2000|04/12/2000 09:00:...|04/12/2000 09:01:...|04/12/2000 09:02:...|                null|                null|                null|                null|                 Other|                null|2000 Block of 37T...|  SF|              94116|      B08|          18|0757|                3|       3|             3|   false|           null|               1|   ENGINE|                             1|                       8|                  4|                     Sunset/Parkside|(37.7487247711275...|001030101-E18|\n",
      "|    1030104|    M14|          30612|Medical Incident|04/12/2000|04/12/2000|04/12/2000 09:09:...|04/12/2000 09:10:...|04/12/2000 09:10:...|04/12/2000 09:12:...|04/12/2000 09:19:...|04/12/2000 09:43:...|04/12/2000 10:03:...|                 Other|04/12/2000 10:23:...|1700 Block of 43R...|  SF|              94122|      B08|          23|7651|                3|       3|             3|    true|           null|               1|    MEDIC|                             2|                       8|                  4|                     Sunset/Parkside|(37.7540326780595...|001030104-M14|\n",
      "+-----------+-------+---------------+----------------+----------+----------+--------------------+--------------------+--------------------+--------------------+--------------------+--------------------+--------------------+----------------------+--------------------+--------------------+----+-------------------+---------+------------+----+-----------------+--------+--------------+--------+---------------+----------------+---------+------------------------------+------------------------+-------------------+------------------------------------+--------------------+-------------+\n",
      "only showing top 2 rows\n",
      "\n"
     ]
    }
   ],
   "source": [
    "df.show(2)"
   ]
  },
  {
   "cell_type": "code",
   "execution_count": 5,
   "metadata": {
    "scrolled": true
   },
   "outputs": [
    {
     "name": "stdout",
     "output_type": "stream",
     "text": [
      "+--------------------+\n",
      "|     Call Type Group|\n",
      "+--------------------+\n",
      "|               Alarm|\n",
      "|                null|\n",
      "|Potentially Life-...|\n",
      "|Non Life-threatening|\n",
      "|                Fire|\n",
      "+--------------------+\n",
      "\n"
     ]
    }
   ],
   "source": [
    "df.select('Call Type Group').distinct().show()"
   ]
  },
  {
   "cell_type": "code",
   "execution_count": 6,
   "metadata": {},
   "outputs": [
    {
     "name": "stdout",
     "output_type": "stream",
     "text": [
      "+--------------------+-------+\n",
      "|     Call Type Group|  count|\n",
      "+--------------------+-------+\n",
      "|               Alarm| 429831|\n",
      "|                null|2804459|\n",
      "|Potentially Life-...| 874195|\n",
      "|Non Life-threatening| 414806|\n",
      "|                Fire|  75797|\n",
      "+--------------------+-------+\n",
      "\n"
     ]
    }
   ],
   "source": [
    "df.groupBy('Call Type Group').count().show()"
   ]
  },
  {
   "cell_type": "code",
   "execution_count": 7,
   "metadata": {
    "collapsed": true
   },
   "outputs": [],
   "source": [
    "df2 = df.groupBy('Call Type Group').count()"
   ]
  },
  {
   "cell_type": "code",
   "execution_count": 8,
   "metadata": {
    "collapsed": true
   },
   "outputs": [],
   "source": [
    "graphDF = df2.toPandas()\n",
    "graphDF = graphDF.sort_values('count', ascending=False)"
   ]
  },
  {
   "cell_type": "code",
   "execution_count": 9,
   "metadata": {
    "collapsed": true
   },
   "outputs": [],
   "source": [
    "import matplotlib.pyplot as plt\n",
    "%matplotlib inline"
   ]
  },
  {
   "cell_type": "code",
   "execution_count": 10,
   "metadata": {
    "scrolled": false
   },
   "outputs": [
    {
     "data": {
      "image/png": "[encoded data removed]",
      "text/plain": [
       "<matplotlib.figure.Figure at 0x7f0b133fb780>"
      ]
     },
     "metadata": {},
     "output_type": "display_data"
    }
   ],
   "source": [
    "graphDF.plot(x='Call Type Group', y = 'count', kind='bar')\n",
    "plt.title('Call Type Group by Count')\n",
    "plt.show()"
   ]
  },
  {
   "cell_type": "code",
   "execution_count": 11,
   "metadata": {
    "scrolled": true
   },
   "outputs": [
    {
     "name": "stdout",
     "output_type": "stream",
     "text": [
      "+--------------------+-------+\n",
      "|           Call Type|  count|\n",
      "+--------------------+-------+\n",
      "|    Medical Incident|2979993|\n",
      "|      Structure Fire| 609473|\n",
      "|              Alarms| 491741|\n",
      "|   Traffic Collision| 188097|\n",
      "|               Other|  74038|\n",
      "|Citizen Assist / ...|  69549|\n",
      "|        Outside Fire|  53682|\n",
      "|        Vehicle Fire|  22492|\n",
      "|        Water Rescue|  21861|\n",
      "|Gas Leak (Natural...|  17147|\n",
      "|   Electrical Hazard|  12845|\n",
      "|Odor (Strange / U...|  12339|\n",
      "|Elevator / Escala...|  12028|\n",
      "|Smoke Investigati...|  10118|\n",
      "|          Fuel Spill|   5386|\n",
      "|              HazMat|   3839|\n",
      "|Industrial Accidents|   2803|\n",
      "|           Explosion|   2530|\n",
      "|  Aircraft Emergency|   1511|\n",
      "|       Assist Police|   1318|\n",
      "|Train / Rail Inci...|   1224|\n",
      "|   High Angle Rescue|   1154|\n",
      "|Watercraft in Dis...|    884|\n",
      "|Extrication / Ent...|    672|\n",
      "|           Oil Spill|    516|\n",
      "|Confined Space / ...|    467|\n",
      "|Mutual Aid / Assi...|    423|\n",
      "|         Marine Fire|    359|\n",
      "|  Suspicious Package|    314|\n",
      "|      Administrative|    266|\n",
      "|   Train / Rail Fire|     10|\n",
      "|Lightning Strike ...|      9|\n",
      "+--------------------+-------+\n",
      "\n"
     ]
    }
   ],
   "source": [
    "df.groupBy('Call Type').count().orderBy('count', ascending=False).show(100)"
   ]
  },
  {
   "cell_type": "code",
   "execution_count": 12,
   "metadata": {
    "scrolled": false
   },
   "outputs": [
    {
     "name": "stdout",
     "output_type": "stream",
     "text": [
      "+--------------------+--------------+\n",
      "|           Call Type|Fire Indicator|\n",
      "+--------------------+--------------+\n",
      "|    Medical Incident|             0|\n",
      "|    Medical Incident|             0|\n",
      "|    Medical Incident|             0|\n",
      "|              Alarms|             0|\n",
      "|    Medical Incident|             0|\n",
      "|Citizen Assist / ...|             0|\n",
      "|   Electrical Hazard|             0|\n",
      "|Odor (Strange / U...|             0|\n",
      "|    Medical Incident|             0|\n",
      "|    Medical Incident|             0|\n",
      "|              Alarms|             0|\n",
      "|    Medical Incident|             0|\n",
      "|    Medical Incident|             0|\n",
      "|    Medical Incident|             0|\n",
      "|              Alarms|             0|\n",
      "|              Alarms|             0|\n",
      "|    Medical Incident|             0|\n",
      "|               Other|             0|\n",
      "|    Medical Incident|             0|\n",
      "|      Structure Fire|             1|\n",
      "+--------------------+--------------+\n",
      "only showing top 20 rows\n",
      "\n"
     ]
    }
   ],
   "source": [
    "from pyspark.sql import functions as F\n",
    "fireIndicator = df.select(df[\"Call Type\"],F.when(df[\"Call Type\"].like(\"%Fire%\"),1).otherwise(0))\n",
    "fireIndicator = fireIndicator.\\\n",
    "                withColumnRenamed('CASE WHEN Call Type LIKE %Fire% THEN 1 ELSE 0 END', 'Fire Indicator')\n",
    "fireIndicator.show()"
   ]
  },
  {
   "cell_type": "code",
   "execution_count": 13,
   "metadata": {
    "scrolled": false
   },
   "outputs": [
    {
     "name": "stdout",
     "output_type": "stream",
     "text": [
      "+--------------+-------+\n",
      "|Fire Indicator|  count|\n",
      "+--------------+-------+\n",
      "|             1| 686016|\n",
      "|             0|3913072|\n",
      "+--------------+-------+\n",
      "\n"
     ]
    }
   ],
   "source": [
    "fireIndicator.groupBy('Fire Indicator').count().show()"
   ]
  },
  {
   "cell_type": "code",
   "execution_count": 14,
   "metadata": {
    "collapsed": true
   },
   "outputs": [],
   "source": [
    "df = df.withColumn(\"fireIndicator\", F.when(df[\"Call Type\"].like(\"%Fire%\"),1).otherwise(0))"
   ]
  },
  {
   "cell_type": "code",
   "execution_count": 15,
   "metadata": {
    "scrolled": false
   },
   "outputs": [
    {
     "name": "stdout",
     "output_type": "stream",
     "text": [
      "root\n",
      " |-- Call Number: integer (nullable = true)\n",
      " |-- Unit ID: string (nullable = true)\n",
      " |-- Incident Number: integer (nullable = true)\n",
      " |-- Call Type: string (nullable = true)\n",
      " |-- Call Date: string (nullable = true)\n",
      " |-- Watch Date: string (nullable = true)\n",
      " |-- Received DtTm: string (nullable = true)\n",
      " |-- Entry DtTm: string (nullable = true)\n",
      " |-- Dispatch DtTm: string (nullable = true)\n",
      " |-- Response DtTm: string (nullable = true)\n",
      " |-- On Scene DtTm: string (nullable = true)\n",
      " |-- Transport DtTm: string (nullable = true)\n",
      " |-- Hospital DtTm: string (nullable = true)\n",
      " |-- Call Final Disposition: string (nullable = true)\n",
      " |-- Available DtTm: string (nullable = true)\n",
      " |-- Address: string (nullable = true)\n",
      " |-- City: string (nullable = true)\n",
      " |-- Zipcode of Incident: integer (nullable = true)\n",
      " |-- Battalion: string (nullable = true)\n",
      " |-- Station Area: string (nullable = true)\n",
      " |-- Box: string (nullable = true)\n",
      " |-- Original Priority: string (nullable = true)\n",
      " |-- Priority: string (nullable = true)\n",
      " |-- Final Priority: integer (nullable = true)\n",
      " |-- ALS Unit: boolean (nullable = true)\n",
      " |-- Call Type Group: string (nullable = true)\n",
      " |-- Number of Alarms: integer (nullable = true)\n",
      " |-- Unit Type: string (nullable = true)\n",
      " |-- Unit sequence in call dispatch: integer (nullable = true)\n",
      " |-- Fire Prevention District: string (nullable = true)\n",
      " |-- Supervisor District: string (nullable = true)\n",
      " |-- Neighborhooods - Analysis Boundaries: string (nullable = true)\n",
      " |-- Location: string (nullable = true)\n",
      " |-- RowID: string (nullable = true)\n",
      " |-- fireIndicator: integer (nullable = false)\n",
      "\n"
     ]
    }
   ],
   "source": [
    "df.printSchema()"
   ]
  },
  {
   "cell_type": "code",
   "execution_count": 16,
   "metadata": {},
   "outputs": [
    {
     "name": "stdout",
     "output_type": "stream",
     "text": [
      "+--------------------+-------------+\n",
      "|           Call Type|fireIndicator|\n",
      "+--------------------+-------------+\n",
      "|    Medical Incident|            0|\n",
      "|    Medical Incident|            0|\n",
      "|    Medical Incident|            0|\n",
      "|              Alarms|            0|\n",
      "|    Medical Incident|            0|\n",
      "|Citizen Assist / ...|            0|\n",
      "|   Electrical Hazard|            0|\n",
      "|Odor (Strange / U...|            0|\n",
      "|    Medical Incident|            0|\n",
      "|    Medical Incident|            0|\n",
      "|              Alarms|            0|\n",
      "|    Medical Incident|            0|\n",
      "|    Medical Incident|            0|\n",
      "|    Medical Incident|            0|\n",
      "|              Alarms|            0|\n",
      "|              Alarms|            0|\n",
      "|    Medical Incident|            0|\n",
      "|               Other|            0|\n",
      "|    Medical Incident|            0|\n",
      "|      Structure Fire|            1|\n",
      "+--------------------+-------------+\n",
      "only showing top 20 rows\n",
      "\n"
     ]
    }
   ],
   "source": [
    "df.select('Call Type', 'fireIndicator').show(20)"
   ]
  },
  {
   "cell_type": "code",
   "execution_count": 17,
   "metadata": {
    "scrolled": true
   },
   "outputs": [
    {
     "name": "stdout",
     "output_type": "stream",
     "text": [
      "+-------------+-------------------+---------+------------+----+----------------+------------------------------+------------------------------------+------------------------+-------------------+--------------+\n",
      "|fireIndicator|Zipcode of Incident|Battalion|Station Area| Box|Number of Alarms|Unit sequence in call dispatch|Neighborhooods - Analysis Boundaries|Fire Prevention District|Supervisor District|final priority|\n",
      "+-------------+-------------------+---------+------------+----+----------------+------------------------------+------------------------------------+------------------------+-------------------+--------------+\n",
      "|            0|              94116|      B08|          18|0757|               1|                             1|                     Sunset/Parkside|                       8|                  4|             3|\n",
      "|            0|              94122|      B08|          23|7651|               1|                             2|                     Sunset/Parkside|                       8|                  4|             3|\n",
      "|            0|              94102|      B02|          36|3111|               1|                             1|                          Tenderloin|                       2|                  6|             3|\n",
      "|            0|              94102|      B03|          01|1456|               1|                             3|                          Tenderloin|                       3|                  6|             3|\n",
      "|            0|              94108|      B03|          01|1322|               1|                             2|                Financial Distric...|                       1|                  3|             3|\n",
      "|            0|              94109|      B01|          03|1463|               1|                             1|                            Nob Hill|                       1|                  3|             3|\n",
      "|            0|              94109|      B04|          38|3155|               1|                             1|                            Nob Hill|                       4|                  2|             3|\n",
      "|            0|              94112|      B09|          15|8331|               1|                             1|                       Outer Mission|                       9|                 11|             3|\n",
      "|            0|               null|      B03|          08|2226|               1|                             1|                                None|                       3|                  6|             3|\n",
      "|            0|              94124|      B10|          17|6516|               1|                             1|                Bayview Hunters P...|                      10|                 10|             2|\n",
      "|            0|              94111|      B01|          13|1166|               1|                             1|                           Chinatown|                       1|                  3|             3|\n",
      "|            0|              94122|      B08|          22|7424|               1|                             1|                     Sunset/Parkside|                       8|                  4|             2|\n",
      "|            0|              94110|      B06|          07|5455|               1|                             1|                             Mission|                       6|                  9|             2|\n",
      "|            0|              94107|      B03|          08|2236|               1|                             1|                         Mission Bay|                       3|                  6|             3|\n",
      "|            0|              94115|      B04|          05|3623|               1|                             1|                    Western Addition|                       5|                  5|             3|\n",
      "|            0|              94115|      B04|          05|3623|               1|                             2|                    Western Addition|                       5|                  5|             3|\n",
      "|            0|              94116|      B08|          18|7637|               1|                             1|                     Sunset/Parkside|                       8|                  4|             2|\n",
      "|            0|              94127|      B08|          39|8645|               1|                             1|                  West of Twin Peaks|                       9|                  7|             3|\n",
      "|            0|              94118|      B05|          21|4564|               1|                             1|                   Lone Mountain/USF|                       5|                  1|             3|\n",
      "|            1|              94112|      B09|          33|8374|               1|                             1|                Oceanview/Merced/...|                       9|                 11|             3|\n",
      "+-------------+-------------------+---------+------------+----+----------------+------------------------------+------------------------------------+------------------------+-------------------+--------------+\n",
      "only showing top 20 rows\n",
      "\n"
     ]
    }
   ],
   "source": [
    "df = df.select('fireIndicator', \n",
    "               'Zipcode of Incident',\n",
    "               'Battalion',\n",
    "               'Station Area',\n",
    "               'Box', \n",
    "               'Number of Alarms',\n",
    "               'Unit sequence in call dispatch',\n",
    "               'Neighborhooods - Analysis Boundaries',\n",
    "               'Fire Prevention District',\n",
    "               'Supervisor District',\n",
    "               'final priority')\n",
    "df.show()"
   ]
  },
  {
   "cell_type": "code",
   "execution_count": 18,
   "metadata": {},
   "outputs": [
    {
     "name": "stdout",
     "output_type": "stream",
     "text": [
      "Total Rows\n"
     ]
    },
    {
     "data": {
      "text/plain": [
       "4599088"
      ]
     },
     "execution_count": 18,
     "metadata": {},
     "output_type": "execute_result"
    }
   ],
   "source": [
    "print('Total Rows')\n",
    "df.count()"
   ]
  },
  {
   "cell_type": "code",
   "execution_count": 19,
   "metadata": {},
   "outputs": [
    {
     "name": "stdout",
     "output_type": "stream",
     "text": [
      "Rows without Null values\n"
     ]
    },
    {
     "data": {
      "text/plain": [
       "4582537"
      ]
     },
     "execution_count": 19,
     "metadata": {},
     "output_type": "execute_result"
    }
   ],
   "source": [
    "print('Rows without Null values')\n",
    "df.dropna().count()"
   ]
  },
  {
   "cell_type": "code",
   "execution_count": 20,
   "metadata": {},
   "outputs": [
    {
     "name": "stdout",
     "output_type": "stream",
     "text": [
      "Row with Null Values\n"
     ]
    },
    {
     "data": {
      "text/plain": [
       "16551"
      ]
     },
     "execution_count": 20,
     "metadata": {},
     "output_type": "execute_result"
    }
   ],
   "source": [
    "print('Row with Null Values')\n",
    "df.count()-df.dropna().count()"
   ]
  },
  {
   "cell_type": "code",
   "execution_count": 21,
   "metadata": {
    "collapsed": true
   },
   "outputs": [],
   "source": [
    "df = df.dropna()"
   ]
  },
  {
   "cell_type": "code",
   "execution_count": 22,
   "metadata": {},
   "outputs": [
    {
     "name": "stdout",
     "output_type": "stream",
     "text": [
      "+-------------+-------+\n",
      "|fireIndicator|  count|\n",
      "+-------------+-------+\n",
      "|            0|3897625|\n",
      "|            1| 684912|\n",
      "+-------------+-------+\n",
      "\n"
     ]
    }
   ],
   "source": [
    "df.groupBy('fireIndicator').count().orderBy('count', ascending = False).show()"
   ]
  },
  {
   "cell_type": "code",
   "execution_count": 23,
   "metadata": {
    "collapsed": true
   },
   "outputs": [],
   "source": [
    "from pyspark.ml.feature import StringIndexer"
   ]
  },
  {
   "cell_type": "code",
   "execution_count": 24,
   "metadata": {
    "collapsed": true
   },
   "outputs": [],
   "source": [
    "Neighborhoods_indexer = StringIndexer(inputCol='Neighborhooods - Analysis Boundaries', outputCol='Neighbors')\n",
    "zip_indexer = StringIndexer(inputCol='Zipcode of Incident', outputCol='Zip')\n",
    "batallion_indexer = StringIndexer(inputCol='Battalion', outputCol='Battalion_')\n",
    "stationarea_indexer = StringIndexer(inputCol='Station Area', outputCol='StationArea')\n",
    "box_indexer = StringIndexer(inputCol='Box', outputCol='Box_')\n",
    "fireDistrict_indexer = StringIndexer(inputCol='Fire Prevention District', outputCol='FireDistrict')\n",
    "supervisorDistrict_indexer = StringIndexer(inputCol='Supervisor District', outputCol='SupervisorDistrict')"
   ]
  },
  {
   "cell_type": "code",
   "execution_count": 25,
   "metadata": {
    "collapsed": true
   },
   "outputs": [],
   "source": [
    "Neighborhoods_indexer_model = Neighborhoods_indexer.fit(df)\n",
    "zip_indexer_model  = zip_indexer.fit(df)\n",
    "batallion_indexer_model  = batallion_indexer.fit(df)\n",
    "stationarea_indexer_model  = stationarea_indexer.fit(df)\n",
    "box_indexer_model  = box_indexer.fit(df)\n",
    "fireDistrict_model  = fireDistrict_indexer.fit(df)\n",
    "supervisorDistrict_model  = supervisorDistrict_indexer.fit(df)"
   ]
  },
  {
   "cell_type": "code",
   "execution_count": 26,
   "metadata": {
    "collapsed": true,
    "scrolled": true
   },
   "outputs": [],
   "source": [
    "df = Neighborhoods_indexer_model.transform(df)\n",
    "df = zip_indexer_model.transform(df)\n",
    "df = batallion_indexer_model.transform(df)\n",
    "df = stationarea_indexer_model.transform(df)\n",
    "df = box_indexer_model.transform(df)\n",
    "df = fireDistrict_model.transform(df)\n",
    "df = supervisorDistrict_model.transform(df)"
   ]
  },
  {
   "cell_type": "code",
   "execution_count": 27,
   "metadata": {
    "scrolled": false
   },
   "outputs": [
    {
     "data": {
      "text/plain": [
       "['fireIndicator',\n",
       " 'Zipcode of Incident',\n",
       " 'Battalion',\n",
       " 'Station Area',\n",
       " 'Box',\n",
       " 'Number of Alarms',\n",
       " 'Unit sequence in call dispatch',\n",
       " 'Neighborhooods - Analysis Boundaries',\n",
       " 'Fire Prevention District',\n",
       " 'Supervisor District',\n",
       " 'final priority',\n",
       " 'Neighbors',\n",
       " 'Zip',\n",
       " 'Battalion_',\n",
       " 'StationArea',\n",
       " 'Box_',\n",
       " 'FireDistrict',\n",
       " 'SupervisorDistrict']"
      ]
     },
     "execution_count": 27,
     "metadata": {},
     "output_type": "execute_result"
    }
   ],
   "source": [
    "df.columns"
   ]
  },
  {
   "cell_type": "code",
   "execution_count": 28,
   "metadata": {},
   "outputs": [
    {
     "name": "stdout",
     "output_type": "stream",
     "text": [
      "+------------------------------------+---------+\n",
      "|Neighborhooods - Analysis Boundaries|Neighbors|\n",
      "+------------------------------------+---------+\n",
      "|                     Sunset/Parkside|      5.0|\n",
      "|                     Sunset/Parkside|      5.0|\n",
      "|                          Tenderloin|      0.0|\n",
      "|                          Tenderloin|      0.0|\n",
      "|                Financial Distric...|      3.0|\n",
      "|                            Nob Hill|      7.0|\n",
      "|                            Nob Hill|      7.0|\n",
      "|                       Outer Mission|     22.0|\n",
      "|                Bayview Hunters P...|      4.0|\n",
      "|                           Chinatown|     13.0|\n",
      "|                     Sunset/Parkside|      5.0|\n",
      "|                             Mission|      2.0|\n",
      "|                         Mission Bay|     29.0|\n",
      "|                    Western Addition|      6.0|\n",
      "|                    Western Addition|      6.0|\n",
      "|                     Sunset/Parkside|      5.0|\n",
      "|                  West of Twin Peaks|     11.0|\n",
      "|                   Lone Mountain/USF|     27.0|\n",
      "|                Oceanview/Merced/...|     23.0|\n",
      "|                     South of Market|      1.0|\n",
      "+------------------------------------+---------+\n",
      "only showing top 20 rows\n",
      "\n"
     ]
    }
   ],
   "source": [
    "df.select('Neighborhooods - Analysis Boundaries', 'Neighbors').show()"
   ]
  },
  {
   "cell_type": "code",
   "execution_count": 29,
   "metadata": {
    "collapsed": true
   },
   "outputs": [],
   "source": [
    "df = df.select('fireIndicator',\\\n",
    "          'Neighbors',\\\n",
    "          'Zip',\\\n",
    "          'Battalion_',\\\n",
    "          'StationArea',\\\n",
    "          'Box_',\\\n",
    "          'Number Of Alarms',\\\n",
    "          'Unit sequence in call dispatch',\\\n",
    "          'FireDistrict',\\\n",
    "          'SupervisorDistrict',\\\n",
    "          'final priority')"
   ]
  },
  {
   "cell_type": "code",
   "execution_count": 30,
   "metadata": {
    "scrolled": true
   },
   "outputs": [
    {
     "name": "stdout",
     "output_type": "stream",
     "text": [
      "root\n",
      " |-- fireIndicator: integer (nullable = false)\n",
      " |-- Neighbors: double (nullable = true)\n",
      " |-- Zip: double (nullable = true)\n",
      " |-- Battalion_: double (nullable = true)\n",
      " |-- StationArea: double (nullable = true)\n",
      " |-- Box_: double (nullable = true)\n",
      " |-- Number Of Alarms: integer (nullable = true)\n",
      " |-- Unit sequence in call dispatch: integer (nullable = true)\n",
      " |-- FireDistrict: double (nullable = true)\n",
      " |-- SupervisorDistrict: double (nullable = true)\n",
      " |-- final priority: integer (nullable = true)\n",
      "\n"
     ]
    }
   ],
   "source": [
    "df.printSchema()"
   ]
  },
  {
   "cell_type": "code",
   "execution_count": 31,
   "metadata": {
    "scrolled": true
   },
   "outputs": [
    {
     "name": "stdout",
     "output_type": "stream",
     "text": [
      "+-------------+---------+----+----------+-----------+------+----------------+------------------------------+------------+------------------+--------------+\n",
      "|fireIndicator|Neighbors| Zip|Battalion_|StationArea|  Box_|Number Of Alarms|Unit sequence in call dispatch|FireDistrict|SupervisorDistrict|final priority|\n",
      "+-------------+---------+----+----------+-----------+------+----------------+------------------------------+------------+------------------+--------------+\n",
      "|            0|      5.0|18.0|       5.0|       29.0|1733.0|               1|                             1|         7.0|              10.0|             3|\n",
      "|            0|      5.0| 8.0|       5.0|       31.0|1274.0|               1|                             2|         7.0|              10.0|             3|\n",
      "|            0|      0.0| 0.0|       1.0|        2.0|  61.0|               1|                             1|         0.0|               0.0|             3|\n",
      "|            0|      0.0| 0.0|       0.0|        0.0|   7.0|               1|                             3|         1.0|               0.0|             3|\n",
      "|            0|      3.0|17.0|       0.0|        0.0|  47.0|               1|                             2|         2.0|               1.0|             3|\n",
      "|            0|      7.0| 3.0|       2.0|        1.0| 189.0|               1|                             1|         2.0|               1.0|             3|\n",
      "|            0|      7.0| 3.0|       3.0|       17.0| 209.0|               1|                             1|         3.0|               6.0|             3|\n",
      "|            0|     22.0| 5.0|       6.0|       18.0| 834.0|               1|                             1|         5.0|               9.0|             3|\n",
      "|            0|      4.0| 4.0|       4.0|        7.0| 488.0|               1|                             1|         4.0|               3.0|             2|\n",
      "|            0|     13.0|21.0|       2.0|        4.0| 594.0|               1|                             1|         2.0|               1.0|             3|\n",
      "|            0|      5.0| 8.0|       5.0|       26.0| 289.0|               1|                             1|         7.0|              10.0|             2|\n",
      "|            0|      2.0| 2.0|       7.0|        3.0|  68.0|               1|                             1|         6.0|               4.0|             2|\n",
      "|            0|     29.0| 7.0|       0.0|        8.0| 248.0|               1|                             1|         1.0|               0.0|             3|\n",
      "|            0|      6.0| 6.0|       3.0|        6.0| 234.0|               1|                             1|         8.0|               2.0|             3|\n",
      "|            0|      6.0| 6.0|       3.0|        6.0| 234.0|               1|                             2|         8.0|               2.0|             3|\n",
      "|            0|      5.0|18.0|       5.0|       29.0|1024.0|               1|                             1|         7.0|              10.0|             2|\n",
      "|            0|     11.0|22.0|       5.0|       37.0| 403.0|               1|                             1|         5.0|               7.0|             3|\n",
      "|            0|     27.0|11.0|       8.0|       12.0|1310.0|               1|                             1|         8.0|               8.0|             3|\n",
      "|            1|     23.0| 5.0|       6.0|       21.0| 273.0|               1|                             1|         5.0|               9.0|             3|\n",
      "|            0|      1.0| 1.0|       1.0|        2.0|  46.0|               1|                             1|         0.0|               0.0|             3|\n",
      "+-------------+---------+----+----------+-----------+------+----------------+------------------------------+------------+------------------+--------------+\n",
      "only showing top 20 rows\n",
      "\n"
     ]
    }
   ],
   "source": [
    "df.show()"
   ]
  },
  {
   "cell_type": "code",
   "execution_count": 32,
   "metadata": {
    "collapsed": true
   },
   "outputs": [],
   "source": [
    "features = ['Neighbors',\n",
    " 'Zip',\n",
    " 'Battalion_',\n",
    " 'StationArea',\n",
    " 'Box_',\n",
    " 'Number Of Alarms',\n",
    " 'Unit sequence in call dispatch',\n",
    " 'FireDistrict',\n",
    " 'SupervisorDistrict',\n",
    " 'final priority']"
   ]
  },
  {
   "cell_type": "code",
   "execution_count": 33,
   "metadata": {
    "collapsed": true
   },
   "outputs": [],
   "source": [
    "from pyspark.ml.feature import VectorAssembler\n",
    "\n",
    "feature_vectors = VectorAssembler(\n",
    "        inputCols = features,\n",
    "        outputCol = \"features\")"
   ]
  },
  {
   "cell_type": "code",
   "execution_count": 34,
   "metadata": {},
   "outputs": [],
   "source": [
    "df = feature_vectors.transform(df)"
   ]
  },
  {
   "cell_type": "code",
   "execution_count": 35,
   "metadata": {},
   "outputs": [
    {
     "data": {
      "text/plain": [
       "['fireIndicator',\n",
       " 'Neighbors',\n",
       " 'Zip',\n",
       " 'Battalion_',\n",
       " 'StationArea',\n",
       " 'Box_',\n",
       " 'Number Of Alarms',\n",
       " 'Unit sequence in call dispatch',\n",
       " 'FireDistrict',\n",
       " 'SupervisorDistrict',\n",
       " 'final priority',\n",
       " 'features']"
      ]
     },
     "execution_count": 35,
     "metadata": {},
     "output_type": "execute_result"
    }
   ],
   "source": [
    "df.columns"
   ]
  },
  {
   "cell_type": "code",
   "execution_count": 36,
   "metadata": {},
   "outputs": [],
   "source": [
    "df = df.drop(\"Neighbors\",\n",
    " \"Zip\",\n",
    " \"Battalion_\",\n",
    " \"StationArea\",\n",
    " \"Box_\",\n",
    " \"Number Of Alarms\",\n",
    " \"Unit sequence in call dispatch\",\n",
    " \"FireDistrict\",\n",
    " \"SupervisorDistrict\",\n",
    " \"final priority\")"
   ]
  },
  {
   "cell_type": "code",
   "execution_count": 37,
   "metadata": {
    "collapsed": true
   },
   "outputs": [],
   "source": [
    "df = df.withColumnRenamed('fireIndicator', 'label')"
   ]
  },
  {
   "cell_type": "code",
   "execution_count": 38,
   "metadata": {},
   "outputs": [
    {
     "name": "stdout",
     "output_type": "stream",
     "text": [
      "+-----+--------------------+\n",
      "|label|            features|\n",
      "+-----+--------------------+\n",
      "|    0|[5.0,18.0,5.0,29....|\n",
      "|    0|[5.0,8.0,5.0,31.0...|\n",
      "|    0|[0.0,0.0,1.0,2.0,...|\n",
      "|    0|(10,[4,5,6,7,9],[...|\n",
      "|    0|[3.0,17.0,0.0,0.0...|\n",
      "|    0|[7.0,3.0,2.0,1.0,...|\n",
      "|    0|[7.0,3.0,3.0,17.0...|\n",
      "|    0|[22.0,5.0,6.0,18....|\n",
      "|    0|[4.0,4.0,4.0,7.0,...|\n",
      "|    0|[13.0,21.0,2.0,4....|\n",
      "|    0|[5.0,8.0,5.0,26.0...|\n",
      "|    0|[2.0,2.0,7.0,3.0,...|\n",
      "|    0|[29.0,7.0,0.0,8.0...|\n",
      "|    0|[6.0,6.0,3.0,6.0,...|\n",
      "|    0|[6.0,6.0,3.0,6.0,...|\n",
      "|    0|[5.0,18.0,5.0,29....|\n",
      "|    0|[11.0,22.0,5.0,37...|\n",
      "|    0|[27.0,11.0,8.0,12...|\n",
      "|    1|[23.0,5.0,6.0,21....|\n",
      "|    0|[1.0,1.0,1.0,2.0,...|\n",
      "+-----+--------------------+\n",
      "only showing top 20 rows\n",
      "\n"
     ]
    }
   ],
   "source": [
    "df.show()"
   ]
  },
  {
   "cell_type": "code",
   "execution_count": 39,
   "metadata": {},
   "outputs": [],
   "source": [
    "(trainDF, testDF) = df.randomSplit([0.75, 0.25], seed = 12345)"
   ]
  },
  {
   "cell_type": "code",
   "execution_count": 40,
   "metadata": {},
   "outputs": [
    {
     "name": "stdout",
     "output_type": "stream",
     "text": [
      "3436948\n",
      "1145589\n"
     ]
    }
   ],
   "source": [
    "print(trainDF.count())\n",
    "print(testDF.count())"
   ]
  },
  {
   "cell_type": "code",
   "execution_count": null,
   "metadata": {
    "collapsed": true
   },
   "outputs": [],
   "source": []
  },
  {
   "cell_type": "code",
   "execution_count": null,
   "metadata": {
    "collapsed": true
   },
   "outputs": [],
   "source": []
  },
  {
   "cell_type": "code",
   "execution_count": null,
   "metadata": {
    "collapsed": true
   },
   "outputs": [],
   "source": []
  },
  {
   "cell_type": "code",
   "execution_count": 41,
   "metadata": {
    "collapsed": true
   },
   "outputs": [],
   "source": [
    "from pyspark.ml.classification import LogisticRegression\n",
    "logreg = LogisticRegression(labelCol=\"label\", featuresCol=\"features\", maxIter=10)\n",
    "LogisticRegressionModel = logreg.fit(trainDF)"
   ]
  },
  {
   "cell_type": "code",
   "execution_count": 42,
   "metadata": {
    "collapsed": true
   },
   "outputs": [],
   "source": [
    "df_predicted = LogisticRegressionModel.transform(testDF)"
   ]
  },
  {
   "cell_type": "code",
   "execution_count": 43,
   "metadata": {},
   "outputs": [
    {
     "name": "stdout",
     "output_type": "stream",
     "text": [
      "root\n",
      " |-- label: integer (nullable = false)\n",
      " |-- features: vector (nullable = true)\n",
      " |-- rawPrediction: vector (nullable = true)\n",
      " |-- probability: vector (nullable = true)\n",
      " |-- prediction: double (nullable = true)\n",
      "\n"
     ]
    }
   ],
   "source": [
    "df_predicted.printSchema()"
   ]
  },
  {
   "cell_type": "code",
   "execution_count": 44,
   "metadata": {},
   "outputs": [
    {
     "name": "stdout",
     "output_type": "stream",
     "text": [
      "+-----+--------------------+--------------------+--------------------+----------+\n",
      "|label|            features|       rawPrediction|         probability|prediction|\n",
      "+-----+--------------------+--------------------+--------------------+----------+\n",
      "|    0|(10,[2,4,5,6,9],[...|[3.35781787060131...|[0.96635991125568...|       0.0|\n",
      "|    0|(10,[2,4,5,6,9],[...|[1.37857521738786...|[0.79876207643672...|       0.0|\n",
      "|    0|(10,[2,4,5,6,9],[...|[0.89555143586602...|[0.71003446414467...|       0.0|\n",
      "|    0|(10,[2,4,5,6,9],[...|[3.35359673300900...|[0.96622241822593...|       0.0|\n",
      "|    0|(10,[2,4,5,6,9],[...|[3.35359673300900...|[0.96622241822593...|       0.0|\n",
      "+-----+--------------------+--------------------+--------------------+----------+\n",
      "only showing top 5 rows\n",
      "\n"
     ]
    }
   ],
   "source": [
    "df_predicted.show(5)"
   ]
  },
  {
   "cell_type": "code",
   "execution_count": 45,
   "metadata": {},
   "outputs": [
    {
     "name": "stdout",
     "output_type": "stream",
     "text": [
      "+----------------+------+-----+\n",
      "|label_prediction|   0.0|  1.0|\n",
      "+----------------+------+-----+\n",
      "|               1|123166|48034|\n",
      "|               0|964980| 9409|\n",
      "+----------------+------+-----+\n",
      "\n"
     ]
    }
   ],
   "source": [
    "df_predicted.crosstab('label', 'prediction').show()"
   ]
  },
  {
   "cell_type": "code",
   "execution_count": 46,
   "metadata": {
    "collapsed": true
   },
   "outputs": [],
   "source": [
    "from sklearn import metrics"
   ]
  },
  {
   "cell_type": "code",
   "execution_count": 47,
   "metadata": {
    "collapsed": true
   },
   "outputs": [],
   "source": [
    "actual = df_predicted.select('label').toPandas()"
   ]
  },
  {
   "cell_type": "code",
   "execution_count": 48,
   "metadata": {
    "collapsed": true
   },
   "outputs": [],
   "source": [
    "predicted = df_predicted.select('prediction').toPandas()"
   ]
  },
  {
   "cell_type": "code",
   "execution_count": 49,
   "metadata": {},
   "outputs": [
    {
     "data": {
      "text/plain": [
       "0.88427350472115218"
      ]
     },
     "execution_count": 49,
     "metadata": {},
     "output_type": "execute_result"
    }
   ],
   "source": [
    "metrics.accuracy_score(actual, predicted)"
   ]
  },
  {
   "cell_type": "code",
   "execution_count": 50,
   "metadata": {},
   "outputs": [
    {
     "name": "stdout",
     "output_type": "stream",
     "text": [
      "+-----+------+\n",
      "|label| count|\n",
      "+-----+------+\n",
      "|    1|171200|\n",
      "|    0|974389|\n",
      "+-----+------+\n",
      "\n"
     ]
    }
   ],
   "source": [
    "df_predicted.groupBy('label').count().show()"
   ]
  },
  {
   "cell_type": "code",
   "execution_count": 51,
   "metadata": {},
   "outputs": [
    {
     "name": "stdout",
     "output_type": "stream",
     "text": [
      "+-------+------------------+\n",
      "|summary|             label|\n",
      "+-------+------------------+\n",
      "|  count|           1145589|\n",
      "|   mean|0.1494427757249764|\n",
      "| stddev|0.3565245341689551|\n",
      "|    min|                 0|\n",
      "|    max|                 1|\n",
      "+-------+------------------+\n",
      "\n"
     ]
    }
   ],
   "source": [
    "df_predicted.describe('label').show()"
   ]
  },
  {
   "cell_type": "code",
   "execution_count": null,
   "metadata": {
    "collapsed": true
   },
   "outputs": [],
   "source": [
    "##################################################"
   ]
  },
  {
   "cell_type": "code",
   "execution_count": null,
   "metadata": {
    "collapsed": true
   },
   "outputs": [],
   "source": [
    "from pyspark.ml.tuning import ParamGridBuilder\n",
    "param_grid = ParamGridBuilder().\\\n",
    "    addGrid(logreg.regParam, [0, 0.5, 1, 2]).\\\n",
    "    addGrid(logreg.elasticNetParam, [0, 0.5, 1]).\\\n",
    "    build()"
   ]
  },
  {
   "cell_type": "code",
   "execution_count": null,
   "metadata": {
    "collapsed": true
   },
   "outputs": [],
   "source": [
    "from pyspark.ml.evaluation import BinaryClassificationEvaluator\n",
    "evaluator = BinaryClassificationEvaluator(rawPredictionCol=\"rawPrediction\")"
   ]
  },
  {
   "cell_type": "code",
   "execution_count": null,
   "metadata": {
    "collapsed": true
   },
   "outputs": [],
   "source": [
    "from pyspark.ml.tuning import CrossValidator\n",
    "cv = CrossValidator(estimator=logreg, estimatorParamMaps=param_grid, evaluator=evaluator, numFolds=4)"
   ]
  },
  {
   "cell_type": "code",
   "execution_count": null,
   "metadata": {
    "collapsed": true
   },
   "outputs": [],
   "source": [
    "cv_model = cv.fit(df)"
   ]
  },
  {
   "cell_type": "code",
   "execution_count": null,
   "metadata": {
    "collapsed": true
   },
   "outputs": [],
   "source": [
    "pred_training_cv = cv_model.transform(trainDF)"
   ]
  },
  {
   "cell_type": "code",
   "execution_count": null,
   "metadata": {
    "collapsed": true
   },
   "outputs": [],
   "source": [
    "pred_test_cv = cv_model.transform(testDF)"
   ]
  },
  {
   "cell_type": "code",
   "execution_count": null,
   "metadata": {},
   "outputs": [],
   "source": [
    "print('Intercept: ' + str(cv_model.bestModel.intercept) + \"\\n\"\n",
    "     'coefficients: ' + str(cv_model.bestModel.coefficients))"
   ]
  }
 ],
 "metadata": {
  "kernelspec": {
   "display_name": "Python 3",
   "language": "python",
   "name": "python3"
  },
  "language_info": {
   "codemirror_mode": {
    "name": "ipython",
    "version": 3
   },
   "file_extension": ".py",
   "mimetype": "text/x-python",
   "name": "python",
   "nbconvert_exporter": "python",
   "pygments_lexer": "ipython3",
   "version": "3.6.1"
  }
 },
 "nbformat": 4,
 "nbformat_minor": 2
}
