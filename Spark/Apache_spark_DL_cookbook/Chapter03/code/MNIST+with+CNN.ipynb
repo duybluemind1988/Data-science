{
 "cells": [
  {
   "cell_type": "code",
   "execution_count": 1,
   "metadata": {},
   "outputs": [
    {
     "name": "stderr",
     "output_type": "stream",
     "text": [
      "/home/asherif844/anaconda3/lib/python3.6/importlib/_bootstrap.py:205: RuntimeWarning: compiletime version 3.5 of module 'tensorflow.python.framework.fast_tensor_util' does not match runtime version 3.6\n",
      "  return f(*args, **kwds)\n"
     ]
    }
   ],
   "source": [
    "import tensorflow as tf"
   ]
  },
  {
   "cell_type": "code",
   "execution_count": 2,
   "metadata": {},
   "outputs": [
    {
     "name": "stdout",
     "output_type": "stream",
     "text": [
      "1.4.1\n"
     ]
    }
   ],
   "source": [
    "print(tf.__version__)"
   ]
  },
  {
   "cell_type": "code",
   "execution_count": 3,
   "metadata": {
    "scrolled": true
   },
   "outputs": [
    {
     "name": "stdout",
     "output_type": "stream",
     "text": [
      "Extracting MNIST/train-images-idx3-ubyte.gz\n",
      "Extracting MNIST/train-labels-idx1-ubyte.gz\n",
      "Extracting MNIST/t10k-images-idx3-ubyte.gz\n",
      "Extracting MNIST/t10k-labels-idx1-ubyte.gz\n"
     ]
    }
   ],
   "source": [
    "from tensorflow.examples.tutorials.mnist import input_data\n",
    "data = input_data.read_data_sets('MNIST/', one_hot=True)"
   ]
  },
  {
   "cell_type": "code",
   "execution_count": 4,
   "metadata": {},
   "outputs": [
    {
     "data": {
      "text/plain": [
       "['t10k-images-idx3-ubyte.gz',\n",
       " 'images',\n",
       " 't10k-labels-idx1-ubyte.gz',\n",
       " 'train-labels-idx1-ubyte.gz',\n",
       " 'train-images-idx3-ubyte.gz']"
      ]
     },
     "execution_count": 4,
     "metadata": {},
     "output_type": "execute_result"
    }
   ],
   "source": [
    "import os\n",
    "os.listdir('MNIST/')"
   ]
  },
  {
   "cell_type": "code",
   "execution_count": 5,
   "metadata": {},
   "outputs": [
    {
     "name": "stdout",
     "output_type": "stream",
     "text": [
      "Image Inventory\n",
      "----------\n",
      "Training: 55000\n",
      "Testing:  10000\n",
      "----------\n"
     ]
    }
   ],
   "source": [
    "print('Image Inventory')\n",
    "print('----------')\n",
    "print('Training: {}'.format(len(data.train.labels)))\n",
    "print('Testing:  {}'.format(len(data.test.labels)))\n",
    "print('----------')"
   ]
  },
  {
   "cell_type": "code",
   "execution_count": 6,
   "metadata": {
    "collapsed": true
   },
   "outputs": [],
   "source": [
    "import numpy as np\n",
    "import matplotlib.pyplot as plt\n",
    "%matplotlib inline"
   ]
  },
  {
   "cell_type": "code",
   "execution_count": 7,
   "metadata": {
    "scrolled": false
   },
   "outputs": [
    {
     "name": "stdout",
     "output_type": "stream",
     "text": [
      "-----------------\n",
      "[0. 0. 0. 0. 0. 0. 0. 1. 0. 0.]\n"
     ]
    },
    {
     "data": {
      "image/png": "[encoded data removed]",
      "text/plain": [
       "<matplotlib.figure.Figure at 0x7fe18d1df5f8>"
      ]
     },
     "metadata": {},
     "output_type": "display_data"
    },
    {
     "name": "stdout",
     "output_type": "stream",
     "text": [
      "-----------------\n",
      "[0. 0. 0. 1. 0. 0. 0. 0. 0. 0.]\n"
     ]
    },
    {
     "data": {
      "image/png": "[encoded data removed]",
      "text/plain": [
       "<matplotlib.figure.Figure at 0x7fe18d1c0278>"
      ]
     },
     "metadata": {},
     "output_type": "display_data"
    }
   ],
   "source": [
    "for i in range(2):\n",
    "    image = data.train.images[i]\n",
    "    image = np.array(image, dtype='float')\n",
    "    label = data.train.labels[i]\n",
    "    pixels = image.reshape((28, 28))\n",
    "    plt.imshow(pixels, cmap='gray')\n",
    "    print('-----------------')\n",
    "    print(label)\n",
    "    plt.show()\n",
    "    "
   ]
  },
  {
   "cell_type": "code",
   "execution_count": 8,
   "metadata": {
    "collapsed": true
   },
   "outputs": [],
   "source": [
    "if not os.path.exists('MNIST/images'):\n",
    "    os.makedirs('MNIST/images/')\n",
    "os.chdir('MNIST/images/')"
   ]
  },
  {
   "cell_type": "code",
   "execution_count": 9,
   "metadata": {
    "collapsed": true
   },
   "outputs": [],
   "source": [
    "from matplotlib import image\n",
    "for i in range(1,10):\n",
    "    png = data.train.images[i]\n",
    "    png = np.array(png, dtype='float')\n",
    "    pixels = png.reshape((28, 28))\n",
    "    image.imsave('image_no_{}.png'.format(i), pixels, cmap = 'gray')"
   ]
  },
  {
   "cell_type": "code",
   "execution_count": 10,
   "metadata": {},
   "outputs": [
    {
     "name": "stdout",
     "output_type": "stream",
     "text": [
      "['image_no_9.png', 'image_no_3.png', 'image_no_4.png', 'image_no_7.png', 'output', 'image_no_2.png', 'image_no_5.png', 'image_no_8.png', 'image_no_1.png', 'image_no_6.png']\n"
     ]
    }
   ],
   "source": [
    "print(os.listdir())"
   ]
  },
  {
   "cell_type": "code",
   "execution_count": 11,
   "metadata": {
    "collapsed": true
   },
   "outputs": [],
   "source": [
    "from Augmentor import Pipeline"
   ]
  },
  {
   "cell_type": "code",
   "execution_count": 12,
   "metadata": {},
   "outputs": [
    {
     "name": "stdout",
     "output_type": "stream",
     "text": [
      "Initialised with 9 image(s) found.\n",
      "Output directory set to /home/asherif844/sparkNotebooks/Ch03/MNIST/images/output."
     ]
    }
   ],
   "source": [
    "augmentor = Pipeline('/home/asherif844/sparkNotebooks/Ch03/MNIST/images')"
   ]
  },
  {
   "cell_type": "code",
   "execution_count": 13,
   "metadata": {
    "collapsed": true
   },
   "outputs": [],
   "source": [
    "augmentor.rotate(probability=0.9, max_left_rotation=25, max_right_rotation=25)"
   ]
  },
  {
   "cell_type": "code",
   "execution_count": 14,
   "metadata": {},
   "outputs": [
    {
     "name": "stderr",
     "output_type": "stream",
     "text": [
      "Processing <PIL.Image.Image image mode=RGBA size=28x28 at 0x7FE18C76FA58>: 100%|██████████| 10/10 [00:00<00:00, 160.13 Samples/s]\n",
      "Processing <PIL.Image.Image image mode=RGBA size=28x28 at 0x7FE18C76F898>: 100%|██████████| 10/10 [00:00<00:00, 125.24 Samples/s]\n"
     ]
    }
   ],
   "source": [
    "for i in range(1,3):\n",
    "    augmentor.sample(10)"
   ]
  },
  {
   "cell_type": "code",
   "execution_count": 15,
   "metadata": {
    "collapsed": true
   },
   "outputs": [],
   "source": [
    "xtrain = data.train.images\n",
    "ytrain = np.asarray(data.train.labels)\n",
    "xtest = data.test.images \n",
    "ytest = np.asarray(data.test.labels)"
   ]
  },
  {
   "cell_type": "code",
   "execution_count": 16,
   "metadata": {},
   "outputs": [],
   "source": [
    "xtrain = xtrain.reshape( xtrain.shape[0],28,28,1)\n",
    "xtest = xtest.reshape(xtest.shape[0],28,28,1)\n",
    "ytest= ytest.reshape(ytest.shape[0],10)\n",
    "ytrain = ytrain.reshape(ytrain.shape[0],10)"
   ]
  },
  {
   "cell_type": "code",
   "execution_count": 17,
   "metadata": {},
   "outputs": [
    {
     "name": "stdout",
     "output_type": "stream",
     "text": [
      "(55000, 28, 28, 1)\n",
      "(55000, 10)\n",
      "(10000, 28, 28, 1)\n",
      "(10000, 10)\n"
     ]
    }
   ],
   "source": [
    "print(xtrain.shape)\n",
    "print(ytrain.shape)\n",
    "print(xtest.shape)\n",
    "print(ytest.shape)"
   ]
  },
  {
   "cell_type": "code",
   "execution_count": 18,
   "metadata": {},
   "outputs": [
    {
     "name": "stderr",
     "output_type": "stream",
     "text": [
      "Using TensorFlow backend.\n"
     ]
    }
   ],
   "source": [
    "import keras\n",
    "import keras.backend as K\n",
    "from keras.models import Sequential\n",
    "from keras.layers import Dense, Flatten, Conv2D\n",
    "\n",
    "K.set_image_dim_ordering('tf')\n",
    "\n",
    "model = Sequential()\n",
    "\n",
    "model.add(Conv2D(32, kernel_size=(5, 5),activation='relu', input_shape=(28,28,1)))\n",
    "model.add(Flatten())\n",
    "model.add(Dense(128, activation='relu'))\n",
    "model.add(Dense(10, activation='sigmoid'))\n"
   ]
  },
  {
   "cell_type": "code",
   "execution_count": 19,
   "metadata": {},
   "outputs": [],
   "source": [
    "model.compile(optimizer='adam',loss='categorical_crossentropy', \n",
    "              metrics=['accuracy'])\n"
   ]
  },
  {
   "cell_type": "code",
   "execution_count": 20,
   "metadata": {},
   "outputs": [
    {
     "name": "stdout",
     "output_type": "stream",
     "text": [
      "Train on 55000 samples, validate on 10000 samples\n",
      "Epoch 1/5\n",
      "55000/55000 [==============================] - 46s 832us/step - loss: 0.3617 - acc: 0.9032 - val_loss: 0.1214 - val_acc: 0.9651\n",
      "Epoch 2/5\n",
      "55000/55000 [==============================] - 44s 797us/step - loss: 0.0928 - acc: 0.9731 - val_loss: 0.0809 - val_acc: 0.9770\n",
      "Epoch 3/5\n",
      "55000/55000 [==============================] - 44s 796us/step - loss: 0.0555 - acc: 0.9837 - val_loss: 0.0521 - val_acc: 0.9839\n",
      "Epoch 4/5\n",
      "55000/55000 [==============================] - 42s 756us/step - loss: 0.0410 - acc: 0.9881 - val_loss: 0.0521 - val_acc: 0.9823\n",
      "Epoch 5/5\n",
      "55000/55000 [==============================] - 43s 782us/step - loss: 0.0309 - acc: 0.9909 - val_loss: 0.0457 - val_acc: 0.9861\n"
     ]
    },
    {
     "data": {
      "text/plain": [
       "<keras.callbacks.History at 0x7fe18d115c88>"
      ]
     },
     "execution_count": 20,
     "metadata": {},
     "output_type": "execute_result"
    }
   ],
   "source": [
    "model.fit(xtrain,ytrain,batch_size=512,\n",
    "          epochs=5,\n",
    "          validation_data=(xtest, ytest))"
   ]
  },
  {
   "cell_type": "code",
   "execution_count": 21,
   "metadata": {},
   "outputs": [
    {
     "name": "stdout",
     "output_type": "stream",
     "text": [
      "10000/10000 [==============================] - 3s 324us/step\n",
      "The accuracy rate is 98.6%\n",
      "The loss rate is 5.0%\n"
     ]
    }
   ],
   "source": [
    "stats = model.evaluate(xtest, ytest)\n",
    "print('The accuracy rate is {}%'.format(round(stats[1],3)*100))\n",
    "print('The loss rate is {}%'.format(round(stats[0],2)*100))"
   ]
  },
  {
   "cell_type": "code",
   "execution_count": 22,
   "metadata": {},
   "outputs": [
    {
     "name": "stdout",
     "output_type": "stream",
     "text": [
      "_________________________________________________________________\n",
      "Layer (type)                 Output Shape              Param #   \n",
      "=================================================================\n",
      "conv2d_1 (Conv2D)            (None, 24, 24, 32)        832       \n",
      "_________________________________________________________________\n",
      "flatten_1 (Flatten)          (None, 18432)             0         \n",
      "_________________________________________________________________\n",
      "dense_1 (Dense)              (None, 128)               2359424   \n",
      "_________________________________________________________________\n",
      "dense_2 (Dense)              (None, 10)                1290      \n",
      "=================================================================\n",
      "Total params: 2,361,546\n",
      "Trainable params: 2,361,546\n",
      "Non-trainable params: 0\n",
      "_________________________________________________________________\n"
     ]
    }
   ],
   "source": [
    "model.summary()"
   ]
  },
  {
   "cell_type": "code",
   "execution_count": null,
   "metadata": {
    "collapsed": true
   },
   "outputs": [],
   "source": []
  }
 ],
 "metadata": {
  "kernelspec": {
   "display_name": "Python 3",
   "language": "python",
   "name": "python3"
  },
  "language_info": {
   "codemirror_mode": {
    "name": "ipython",
    "version": 3
   },
   "file_extension": ".py",
   "mimetype": "text/x-python",
   "name": "python",
   "nbconvert_exporter": "python",
   "pygments_lexer": "ipython3",
   "version": "3.6.1"
  }
 },
 "nbformat": 4,
 "nbformat_minor": 2
}
