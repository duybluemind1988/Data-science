{
 "cells": [
  {
   "cell_type": "code",
   "execution_count": 1,
   "metadata": {},
   "outputs": [],
   "source": [
    "spark = SparkSession.builder \\\n",
    "   .master(\"local\") \\\n",
    "   .appName(\"ImageClassification\") \\\n",
    "   .config(\"spark.executor.memory\", \"6gb\") \\\n",
    "   .getOrCreate()"
   ]
  },
  {
   "cell_type": "code",
   "execution_count": 2,
   "metadata": {},
   "outputs": [
    {
     "name": "stderr",
     "output_type": "stream",
     "text": [
      "Using TensorFlow backend.\n",
      "/home/asherif844/anaconda3/lib/python3.6/importlib/_bootstrap.py:205: RuntimeWarning: compiletime version 3.5 of module 'tensorflow.python.framework.fast_tensor_util' does not match runtime version 3.6\n",
      "  return f(*args, **kwds)\n"
     ]
    }
   ],
   "source": [
    "import pyspark.sql.functions as f\n",
    "import sparkdl as dl"
   ]
  },
  {
   "cell_type": "code",
   "execution_count": 3,
   "metadata": {
    "collapsed": true
   },
   "outputs": [],
   "source": [
    "dfMessi = dl.readImages('football/messi/').withColumn('label', f.lit(0))\n",
    "dfRonaldo = dl.readImages('football/ronaldo/').withColumn('label', f.lit(1))"
   ]
  },
  {
   "cell_type": "code",
   "execution_count": 4,
   "metadata": {},
   "outputs": [
    {
     "name": "stdout",
     "output_type": "stream",
     "text": [
      "+---------------------------------------------------------------------+---------------------------+-----+\n",
      "|filePath                                                             |image                      |label|\n",
      "+---------------------------------------------------------------------+---------------------------+-----+\n",
      "|file:/home/asherif844/sparkNotebooks/Ch14/football/messi/messi3.jpeg |[RGB,173,292,3,[B@43647d0f]|0    |\n",
      "|file:/home/asherif844/sparkNotebooks/Ch14/football/messi/messi14.jpeg|[RGB,187,270,3,[B@28fe803] |0    |\n",
      "|file:/home/asherif844/sparkNotebooks/Ch14/football/messi/messi29.jpeg|[RGB,194,259,3,[B@669635ee]|0    |\n",
      "|file:/home/asherif844/sparkNotebooks/Ch14/football/messi/messi18.jpeg|[RGB,194,259,3,[B@6e004f55]|0    |\n",
      "|file:/home/asherif844/sparkNotebooks/Ch14/football/messi/messi8.jpeg |[RGB,168,300,3,[B@eecdb9f] |0    |\n",
      "|file:/home/asherif844/sparkNotebooks/Ch14/football/messi/messi22.jpeg|[RGB,194,259,3,[B@73def5b1]|0    |\n",
      "|file:/home/asherif844/sparkNotebooks/Ch14/football/messi/messi2.jpeg |[RGB,275,183,3,[B@24308761]|0    |\n",
      "|file:/home/asherif844/sparkNotebooks/Ch14/football/messi/messi5.jpeg |[RGB,183,275,3,[B@48a60e55]|0    |\n",
      "|file:/home/asherif844/sparkNotebooks/Ch14/football/messi/messi13.jpeg|[RGB,183,275,3,[B@207e14fd]|0    |\n",
      "|file:/home/asherif844/sparkNotebooks/Ch14/football/messi/messi11.jpeg|[RGB,175,288,3,[B@24890e3e]|0    |\n",
      "+---------------------------------------------------------------------+---------------------------+-----+\n",
      "only showing top 10 rows\n",
      "\n"
     ]
    }
   ],
   "source": [
    "dfMessi.show(n=10,truncate=False)"
   ]
  },
  {
   "cell_type": "code",
   "execution_count": 5,
   "metadata": {},
   "outputs": [
    {
     "name": "stdout",
     "output_type": "stream",
     "text": [
      "+-------------------------------------------------------------------------+---------------------------+-----+\n",
      "|filePath                                                                 |image                      |label|\n",
      "+-------------------------------------------------------------------------+---------------------------+-----+\n",
      "|file:/home/asherif844/sparkNotebooks/Ch14/football/ronaldo/ronaldo24.jpg |[RGB,350,590,3,[B@7b3b3c6] |1    |\n",
      "|file:/home/asherif844/sparkNotebooks/Ch14/football/ronaldo/ronaldo2.jpeg |[RGB,225,225,3,[B@61826869]|1    |\n",
      "|file:/home/asherif844/sparkNotebooks/Ch14/football/ronaldo/ronaldo21.jpeg|[RGB,193,261,3,[B@1d739c7f]|1    |\n",
      "|file:/home/asherif844/sparkNotebooks/Ch14/football/ronaldo/ronaldo17.jpeg|[RGB,183,275,3,[B@59b36a5b]|1    |\n",
      "|file:/home/asherif844/sparkNotebooks/Ch14/football/ronaldo/ronaldo30.jpeg|[RGB,184,273,3,[B@4304cf28]|1    |\n",
      "|file:/home/asherif844/sparkNotebooks/Ch14/football/ronaldo/ronaldo14.jpeg|[RGB,154,328,3,[B@31b73601]|1    |\n",
      "|file:/home/asherif844/sparkNotebooks/Ch14/football/ronaldo/ronaldo5.jpeg |[RGB,168,300,3,[B@30a6d42c]|1    |\n",
      "|file:/home/asherif844/sparkNotebooks/Ch14/football/ronaldo/ronaldo18.jpeg|[RGB,261,193,3,[B@728581d1]|1    |\n",
      "|file:/home/asherif844/sparkNotebooks/Ch14/football/ronaldo/ronaldo1.jpeg |[RGB,168,300,3,[B@171d6d26]|1    |\n",
      "|file:/home/asherif844/sparkNotebooks/Ch14/football/ronaldo/ronaldo19.jpeg|[RGB,258,195,3,[B@1f1256fa]|1    |\n",
      "+-------------------------------------------------------------------------+---------------------------+-----+\n",
      "only showing top 10 rows\n",
      "\n"
     ]
    }
   ],
   "source": [
    "dfRonaldo.show(n=10,truncate=False)"
   ]
  },
  {
   "cell_type": "code",
   "execution_count": 6,
   "metadata": {
    "collapsed": true
   },
   "outputs": [],
   "source": [
    "trainDFmessi, testDFmessi = dfMessi.randomSplit([66.7, 33.3], seed =12)\n",
    "trainDFronaldo, testDFronaldo = dfRonaldo.randomSplit([66.7, 33.3], seed=12)"
   ]
  },
  {
   "cell_type": "code",
   "execution_count": 7,
   "metadata": {},
   "outputs": [
    {
     "name": "stdout",
     "output_type": "stream",
     "text": [
      "The number of images in trainDFmessi is 18\n",
      "The number of images in testDFmessi is 12\n",
      "The number of images in trainDFronaldo is 18\n",
      "The number of images in testDFronaldo is 12\n"
     ]
    }
   ],
   "source": [
    "print('The number of images in trainDFmessi is {}'.format(trainDFmessi.toPandas().shape[0]))\n",
    "print('The number of images in testDFmessi is {}'.format(testDFmessi.toPandas().shape[0]))\n",
    "print('The number of images in trainDFronaldo is {}'.format(trainDFronaldo.toPandas().shape[0]))\n",
    "print('The number of images in testDFronaldo is {}'.format(testDFronaldo.toPandas().shape[0]))"
   ]
  },
  {
   "cell_type": "code",
   "execution_count": 8,
   "metadata": {
    "collapsed": true
   },
   "outputs": [],
   "source": [
    "trainDF = trainDFmessi.unionAll(trainDFronaldo)\n",
    "testDF = testDFmessi.unionAll(testDFronaldo)"
   ]
  },
  {
   "cell_type": "code",
   "execution_count": 9,
   "metadata": {},
   "outputs": [
    {
     "name": "stdout",
     "output_type": "stream",
     "text": [
      "The number of images in the training data is 36\n",
      "The number of images in the testing  data is 24\n"
     ]
    }
   ],
   "source": [
    "print('The number of images in the training data is {}' .format(trainDF.toPandas().shape[0]))\n",
    "print('The number of images in the testing  data is {}' .format(testDF.toPandas().shape[0]))"
   ]
  },
  {
   "cell_type": "code",
   "execution_count": 10,
   "metadata": {},
   "outputs": [
    {
     "name": "stdout",
     "output_type": "stream",
     "text": [
      "INFO:tensorflow:Froze 376 variables.\n",
      "Converted 376 variables to const ops.\n",
      "INFO:tensorflow:Froze 0 variables.\n",
      "Converted 0 variables to const ops.\n"
     ]
    }
   ],
   "source": [
    "from pyspark.ml.classification import LogisticRegression\n",
    "from pyspark.ml import Pipeline\n",
    "\n",
    "vectorizer = dl.DeepImageFeaturizer(inputCol=\"image\", outputCol=\"features\", modelName='InceptionV3')\n",
    "logreg = LogisticRegression(maxIter=30,labelCol = \"label\", featuresCol=\"features\")\n",
    "pipeline = Pipeline(stages=[vectorizer, logreg])\n",
    "\n",
    "pipeline_model = pipeline.fit(trainDF)"
   ]
  },
  {
   "cell_type": "code",
   "execution_count": 11,
   "metadata": {},
   "outputs": [
    {
     "name": "stdout",
     "output_type": "stream",
     "text": [
      "INFO:tensorflow:Froze 376 variables.\n",
      "Converted 376 variables to const ops.\n",
      "INFO:tensorflow:Froze 0 variables.\n",
      "Converted 0 variables to const ops.\n",
      "+-----+----------+\n",
      "|label|prediction|\n",
      "+-----+----------+\n",
      "|0    |1.0       |\n",
      "|0    |0.0       |\n",
      "|0    |0.0       |\n",
      "|0    |0.0       |\n",
      "|0    |0.0       |\n",
      "|0    |0.0       |\n",
      "|0    |0.0       |\n",
      "|0    |1.0       |\n",
      "|0    |0.0       |\n",
      "|0    |0.0       |\n",
      "|0    |0.0       |\n",
      "|0    |0.0       |\n",
      "|1    |1.0       |\n",
      "|1    |1.0       |\n",
      "|1    |1.0       |\n",
      "|1    |1.0       |\n",
      "|1    |1.0       |\n",
      "|1    |0.0       |\n",
      "|1    |1.0       |\n",
      "|1    |1.0       |\n",
      "|1    |1.0       |\n",
      "|1    |1.0       |\n",
      "|1    |1.0       |\n",
      "|1    |1.0       |\n",
      "+-----+----------+\n",
      "\n"
     ]
    }
   ],
   "source": [
    "predictDF = pipeline_model.transform(testDF)\n",
    "predictDF.select('label', 'prediction').show(n = testDF.toPandas().shape[0], truncate=False)"
   ]
  },
  {
   "cell_type": "code",
   "execution_count": 12,
   "metadata": {},
   "outputs": [
    {
     "name": "stdout",
     "output_type": "stream",
     "text": [
      "+----------------+---+---+\n",
      "|prediction_label|  0|  1|\n",
      "+----------------+---+---+\n",
      "|             1.0|  2| 11|\n",
      "|             0.0| 10|  1|\n",
      "+----------------+---+---+\n",
      "\n"
     ]
    }
   ],
   "source": [
    "predictDF.crosstab('prediction', 'label').show()"
   ]
  },
  {
   "cell_type": "code",
   "execution_count": 13,
   "metadata": {},
   "outputs": [
    {
     "name": "stdout",
     "output_type": "stream",
     "text": [
      "accuracy: 87.5%\n"
     ]
    }
   ],
   "source": [
    "from pyspark.ml.evaluation import MulticlassClassificationEvaluator\n",
    "scoring = predictDF.select(\"prediction\", \"label\")\n",
    "accuracy_score = MulticlassClassificationEvaluator(metricName=\"accuracy\")\n",
    "rate = accuracy_score.evaluate(scoring)*100\n",
    "print(\"accuracy: {}%\" .format(round(rate,2)))"
   ]
  },
  {
   "cell_type": "code",
   "execution_count": 14,
   "metadata": {},
   "outputs": [
    {
     "name": "stdout",
     "output_type": "stream",
     "text": [
      "accuracy: 87.5%\n"
     ]
    }
   ],
   "source": [
    "from pyspark.ml.evaluation import BinaryClassificationEvaluator\n",
    "\n",
    "binaryevaluator = BinaryClassificationEvaluator(rawPredictionCol=\"prediction\")\n",
    "binary_rate = binaryevaluator.evaluate(predictDF)*100\n",
    "print(\"accuracy: {}%\" .format(round(binary_rate,2)))"
   ]
  },
  {
   "cell_type": "code",
   "execution_count": 15,
   "metadata": {},
   "outputs": [
    {
     "name": "stdout",
     "output_type": "stream",
     "text": [
      "INFO:tensorflow:Froze 376 variables.\n",
      "Converted 376 variables to const ops.\n",
      "INFO:tensorflow:Froze 0 variables.\n",
      "Converted 0 variables to const ops.\n"
     ]
    }
   ],
   "source": [
    "logregFT = LogisticRegression(\n",
    "    regParam=0.05, \n",
    "    elasticNetParam=0.3,\n",
    "    maxIter=15,labelCol = \"label\", featuresCol=\"features\")\n",
    "pipelineFT = Pipeline(stages=[vectorizer, logregFT])\n",
    "\n",
    "pipeline_model_FT = pipelineFT.fit(trainDF)"
   ]
  },
  {
   "cell_type": "code",
   "execution_count": 16,
   "metadata": {},
   "outputs": [
    {
     "name": "stdout",
     "output_type": "stream",
     "text": [
      "INFO:tensorflow:Froze 376 variables.\n",
      "Converted 376 variables to const ops.\n",
      "INFO:tensorflow:Froze 0 variables.\n",
      "Converted 0 variables to const ops.\n",
      "+----------------+---+---+\n",
      "|prediction_label|  0|  1|\n",
      "+----------------+---+---+\n",
      "|             1.0|  0| 11|\n",
      "|             0.0| 12|  1|\n",
      "+----------------+---+---+\n",
      "\n"
     ]
    }
   ],
   "source": [
    "predictDF_FT = pipeline_model_FT.transform(testDF)\n",
    "predictDF_FT.crosstab('prediction', 'label').show()"
   ]
  },
  {
   "cell_type": "code",
   "execution_count": 17,
   "metadata": {},
   "outputs": [
    {
     "name": "stdout",
     "output_type": "stream",
     "text": [
      "accuracy: 95.83%\n"
     ]
    }
   ],
   "source": [
    "binary_rate_FT = binaryevaluator.evaluate(predictDF_FT)*100\n",
    "print(\"accuracy: {}%\" .format(round(binary_rate_FT,2)))"
   ]
  }
 ],
 "metadata": {
  "kernelspec": {
   "display_name": "Python 3",
   "language": "python",
   "name": "python3"
  },
  "language_info": {
   "codemirror_mode": {
    "name": "ipython",
    "version": 3
   },
   "file_extension": ".py",
   "mimetype": "text/x-python",
   "name": "python",
   "nbconvert_exporter": "python",
   "pygments_lexer": "ipython3",
   "version": "3.6.1"
  }
 },
 "nbformat": 4,
 "nbformat_minor": 2
}
