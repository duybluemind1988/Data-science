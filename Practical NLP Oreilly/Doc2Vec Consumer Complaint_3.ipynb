{
  "nbformat": 4,
  "nbformat_minor": 0,
  "metadata": {
    "kernelspec": {
      "display_name": "Python 3",
      "language": "python",
      "name": "python3"
    },
    "language_info": {
      "codemirror_mode": {
        "name": "ipython",
        "version": 3
      },
      "file_extension": ".py",
      "mimetype": "text/x-python",
      "name": "python",
      "nbconvert_exporter": "python",
      "pygments_lexer": "ipython3",
      "version": "3.6.4"
    },
    "colab": {
      "name": "Doc2Vec Consumer Complaint_3.ipynb",
      "provenance": []
    }
  },
  "cells": [
    {
      "cell_type": "code",
      "metadata": {
        "id": "pBlSTHm2egUt",
        "colab_type": "code",
        "colab": {
          "base_uri": "https://localhost:8080/",
          "height": 71
        },
        "outputId": "05f6df60-a59f-4dc9-9da9-7f09329a6b40"
      },
      "source": [
        "import pandas as pd\n",
        "import numpy as np\n",
        "from tqdm import tqdm\n",
        "tqdm.pandas(desc=\"progress-bar\")\n",
        "from gensim.models import Doc2Vec\n",
        "from sklearn import utils\n",
        "from sklearn.model_selection import train_test_split\n",
        "import gensim\n",
        "from sklearn.linear_model import LogisticRegression\n",
        "from gensim.models.doc2vec import TaggedDocument\n",
        "import re\n",
        "import seaborn as sns\n",
        "import matplotlib.pyplot as plt"
      ],
      "execution_count": 2,
      "outputs": [
        {
          "output_type": "stream",
          "text": [
            "/usr/local/lib/python3.6/dist-packages/statsmodels/tools/_testing.py:19: FutureWarning: pandas.util.testing is deprecated. Use the functions in the public API at pandas.testing instead.\n",
            "  import pandas.util.testing as tm\n"
          ],
          "name": "stderr"
        }
      ]
    },
    {
      "cell_type": "markdown",
      "metadata": {
        "id": "j1lz_ci3xAbR",
        "colab_type": "text"
      },
      "source": [
        "https://towardsdatascience.com/multi-class-text-classification-with-doc2vec-logistic-regression-9da9947b43f4"
      ]
    },
    {
      "cell_type": "markdown",
      "metadata": {
        "id": "MKYuFgObh6Qx",
        "colab_type": "text"
      },
      "source": [
        "The Consumer Complaint Database is a collection of complaints about consumer financial products and services that we sent to companies for response. Complaints are published after the company responds, confirming a commercial relationship with the consumer, or after 15 days, whichever comes first. Complaints referred to other regulators, such as complaints about depository institutions with less than $10 billion in assets, are not published in the Consumer Complaint Database. The database generally updates daily."
      ]
    },
    {
      "cell_type": "markdown",
      "metadata": {
        "id": "9ZGAMhM2h7c3",
        "colab_type": "text"
      },
      "source": [
        "https://catalog.data.gov/dataset/consumer-complaint-database"
      ]
    },
    {
      "cell_type": "code",
      "metadata": {
        "id": "_1E8dsVXgYor",
        "colab_type": "code",
        "colab": {}
      },
      "source": [
        "path_to_zip_file='/content/drive/My Drive/Data/NLP/complaints.csv.zip'\n",
        "import zipfile\n",
        "with zipfile.ZipFile(path_to_zip_file, 'r') as zip_ref:\n",
        "    zip_ref.extractall()"
      ],
      "execution_count": 12,
      "outputs": []
    },
    {
      "cell_type": "code",
      "metadata": {
        "id": "W_rtq0Nigqjz",
        "colab_type": "code",
        "colab": {
          "base_uri": "https://localhost:8080/",
          "height": 88
        },
        "outputId": "d62234cf-f02a-4d85-8c3e-cab929e57001"
      },
      "source": [
        "%%time\n",
        "df = pd.read_csv('/content/complaints.csv')"
      ],
      "execution_count": 3,
      "outputs": [
        {
          "output_type": "stream",
          "text": [
            "<string>:2: DtypeWarning: Columns (5,9,16) have mixed types.Specify dtype option on import or set low_memory=False.\n"
          ],
          "name": "stderr"
        },
        {
          "output_type": "stream",
          "text": [
            "CPU times: user 8.94 s, sys: 960 ms, total: 9.9 s\n",
            "Wall time: 20.2 s\n"
          ],
          "name": "stdout"
        }
      ]
    },
    {
      "cell_type": "code",
      "metadata": {
        "id": "JbjJY1o2hPvg",
        "colab_type": "code",
        "colab": {
          "base_uri": "https://localhost:8080/",
          "height": 462
        },
        "outputId": "748ac707-3953-4e2e-ef3c-1cf6141f72b1"
      },
      "source": [
        "print(df.shape)\n",
        "df.head()"
      ],
      "execution_count": 4,
      "outputs": [
        {
          "output_type": "stream",
          "text": [
            "(1531946, 18)\n"
          ],
          "name": "stdout"
        },
        {
          "output_type": "execute_result",
          "data": {
            "text/html": [
              "<div>\n",
              "<style scoped>\n",
              "    .dataframe tbody tr th:only-of-type {\n",
              "        vertical-align: middle;\n",
              "    }\n",
              "\n",
              "    .dataframe tbody tr th {\n",
              "        vertical-align: top;\n",
              "    }\n",
              "\n",
              "    .dataframe thead th {\n",
              "        text-align: right;\n",
              "    }\n",
              "</style>\n",
              "<table border=\"1\" class=\"dataframe\">\n",
              "  <thead>\n",
              "    <tr style=\"text-align: right;\">\n",
              "      <th></th>\n",
              "      <th>Date received</th>\n",
              "      <th>Product</th>\n",
              "      <th>Sub-product</th>\n",
              "      <th>Issue</th>\n",
              "      <th>Sub-issue</th>\n",
              "      <th>Consumer complaint narrative</th>\n",
              "      <th>Company public response</th>\n",
              "      <th>Company</th>\n",
              "      <th>State</th>\n",
              "      <th>ZIP code</th>\n",
              "      <th>Tags</th>\n",
              "      <th>Consumer consent provided?</th>\n",
              "      <th>Submitted via</th>\n",
              "      <th>Date sent to company</th>\n",
              "      <th>Company response to consumer</th>\n",
              "      <th>Timely response?</th>\n",
              "      <th>Consumer disputed?</th>\n",
              "      <th>Complaint ID</th>\n",
              "    </tr>\n",
              "  </thead>\n",
              "  <tbody>\n",
              "    <tr>\n",
              "      <th>0</th>\n",
              "      <td>2012-01-30</td>\n",
              "      <td>Credit card</td>\n",
              "      <td>NaN</td>\n",
              "      <td>Payoff process</td>\n",
              "      <td>NaN</td>\n",
              "      <td>NaN</td>\n",
              "      <td>NaN</td>\n",
              "      <td>BARCLAYS BANK DELAWARE</td>\n",
              "      <td>FL</td>\n",
              "      <td>33634</td>\n",
              "      <td>NaN</td>\n",
              "      <td>NaN</td>\n",
              "      <td>Web</td>\n",
              "      <td>2012-01-31</td>\n",
              "      <td>Closed with relief</td>\n",
              "      <td>Yes</td>\n",
              "      <td>No</td>\n",
              "      <td>18663</td>\n",
              "    </tr>\n",
              "    <tr>\n",
              "      <th>1</th>\n",
              "      <td>2013-08-07</td>\n",
              "      <td>Credit card</td>\n",
              "      <td>NaN</td>\n",
              "      <td>Billing disputes</td>\n",
              "      <td>NaN</td>\n",
              "      <td>NaN</td>\n",
              "      <td>NaN</td>\n",
              "      <td>FIRST HAWAIIAN, INC.</td>\n",
              "      <td>HI</td>\n",
              "      <td>96816</td>\n",
              "      <td>NaN</td>\n",
              "      <td>NaN</td>\n",
              "      <td>Web</td>\n",
              "      <td>2013-08-07</td>\n",
              "      <td>Closed with explanation</td>\n",
              "      <td>Yes</td>\n",
              "      <td>No</td>\n",
              "      <td>482822</td>\n",
              "    </tr>\n",
              "    <tr>\n",
              "      <th>2</th>\n",
              "      <td>2011-12-01</td>\n",
              "      <td>Credit card</td>\n",
              "      <td>NaN</td>\n",
              "      <td>Billing disputes</td>\n",
              "      <td>NaN</td>\n",
              "      <td>NaN</td>\n",
              "      <td>NaN</td>\n",
              "      <td>CITIBANK, N.A.</td>\n",
              "      <td>WA</td>\n",
              "      <td>98275</td>\n",
              "      <td>NaN</td>\n",
              "      <td>NaN</td>\n",
              "      <td>Web</td>\n",
              "      <td>2011-12-11</td>\n",
              "      <td>Closed with relief</td>\n",
              "      <td>Yes</td>\n",
              "      <td>No</td>\n",
              "      <td>2329</td>\n",
              "    </tr>\n",
              "    <tr>\n",
              "      <th>3</th>\n",
              "      <td>2013-05-16</td>\n",
              "      <td>Credit card</td>\n",
              "      <td>NaN</td>\n",
              "      <td>Billing disputes</td>\n",
              "      <td>NaN</td>\n",
              "      <td>NaN</td>\n",
              "      <td>NaN</td>\n",
              "      <td>DISCOVER BANK</td>\n",
              "      <td>LA</td>\n",
              "      <td>70809</td>\n",
              "      <td>NaN</td>\n",
              "      <td>NaN</td>\n",
              "      <td>Web</td>\n",
              "      <td>2013-05-17</td>\n",
              "      <td>Closed with explanation</td>\n",
              "      <td>Yes</td>\n",
              "      <td>No</td>\n",
              "      <td>409064</td>\n",
              "    </tr>\n",
              "    <tr>\n",
              "      <th>4</th>\n",
              "      <td>2013-02-19</td>\n",
              "      <td>Credit card</td>\n",
              "      <td>NaN</td>\n",
              "      <td>Credit reporting</td>\n",
              "      <td>NaN</td>\n",
              "      <td>NaN</td>\n",
              "      <td>NaN</td>\n",
              "      <td>SYNCHRONY FINANCIAL</td>\n",
              "      <td>VA</td>\n",
              "      <td>22546</td>\n",
              "      <td>NaN</td>\n",
              "      <td>NaN</td>\n",
              "      <td>Web</td>\n",
              "      <td>2013-02-21</td>\n",
              "      <td>Closed with non-monetary relief</td>\n",
              "      <td>Yes</td>\n",
              "      <td>No</td>\n",
              "      <td>318532</td>\n",
              "    </tr>\n",
              "  </tbody>\n",
              "</table>\n",
              "</div>"
            ],
            "text/plain": [
              "  Date received      Product  ... Consumer disputed? Complaint ID\n",
              "0    2012-01-30  Credit card  ...                 No        18663\n",
              "1    2013-08-07  Credit card  ...                 No       482822\n",
              "2    2011-12-01  Credit card  ...                 No         2329\n",
              "3    2013-05-16  Credit card  ...                 No       409064\n",
              "4    2013-02-19  Credit card  ...                 No       318532\n",
              "\n",
              "[5 rows x 18 columns]"
            ]
          },
          "metadata": {
            "tags": []
          },
          "execution_count": 4
        }
      ]
    },
    {
      "cell_type": "code",
      "metadata": {
        "id": "VQU_Df6jegVA",
        "colab_type": "code",
        "colab": {
          "base_uri": "https://localhost:8080/",
          "height": 376
        },
        "outputId": "ba70d8e1-95a7-4a66-c01b-737446727cf9"
      },
      "source": [
        "\n",
        "df = df[['Consumer complaint narrative','Product']]\n",
        "df = df[pd.notnull(df['Consumer complaint narrative'])]\n",
        "df.rename(columns = {'Consumer complaint narrative':'narrative'}, inplace = True)\n",
        "print(df.shape)\n",
        "df.head(10)"
      ],
      "execution_count": 5,
      "outputs": [
        {
          "output_type": "stream",
          "text": [
            "(511545, 2)\n"
          ],
          "name": "stdout"
        },
        {
          "output_type": "execute_result",
          "data": {
            "text/html": [
              "<div>\n",
              "<style scoped>\n",
              "    .dataframe tbody tr th:only-of-type {\n",
              "        vertical-align: middle;\n",
              "    }\n",
              "\n",
              "    .dataframe tbody tr th {\n",
              "        vertical-align: top;\n",
              "    }\n",
              "\n",
              "    .dataframe thead th {\n",
              "        text-align: right;\n",
              "    }\n",
              "</style>\n",
              "<table border=\"1\" class=\"dataframe\">\n",
              "  <thead>\n",
              "    <tr style=\"text-align: right;\">\n",
              "      <th></th>\n",
              "      <th>narrative</th>\n",
              "      <th>Product</th>\n",
              "    </tr>\n",
              "  </thead>\n",
              "  <tbody>\n",
              "    <tr>\n",
              "      <th>328</th>\n",
              "      <td>I have a Target credit card issued by TD Bank....</td>\n",
              "      <td>Credit card</td>\n",
              "    </tr>\n",
              "    <tr>\n",
              "      <th>351</th>\n",
              "      <td>Hello, my name is XXXX. I am at my wits end. I...</td>\n",
              "      <td>Mortgage</td>\n",
              "    </tr>\n",
              "    <tr>\n",
              "      <th>361</th>\n",
              "      <td>We went with the mortgage company, Guaranteed ...</td>\n",
              "      <td>Mortgage</td>\n",
              "    </tr>\n",
              "    <tr>\n",
              "      <th>780</th>\n",
              "      <td>New flood zone maps were being drawn up for ou...</td>\n",
              "      <td>Mortgage</td>\n",
              "    </tr>\n",
              "    <tr>\n",
              "      <th>878</th>\n",
              "      <td>My mortgage lender Chase has been providing me...</td>\n",
              "      <td>Mortgage</td>\n",
              "    </tr>\n",
              "    <tr>\n",
              "      <th>894</th>\n",
              "      <td>On XX/XX/2018 Santander repossessed my vehicle...</td>\n",
              "      <td>Vehicle loan or lease</td>\n",
              "    </tr>\n",
              "    <tr>\n",
              "      <th>975</th>\n",
              "      <td>I have been battling Selene Finance since XXXX...</td>\n",
              "      <td>Mortgage</td>\n",
              "    </tr>\n",
              "    <tr>\n",
              "      <th>996</th>\n",
              "      <td>I have been on an on Income Driven repayment p...</td>\n",
              "      <td>Student loan</td>\n",
              "    </tr>\n",
              "    <tr>\n",
              "      <th>999</th>\n",
              "      <td>1. ) Navient created obstacles to repayment by...</td>\n",
              "      <td>Student loan</td>\n",
              "    </tr>\n",
              "    <tr>\n",
              "      <th>1032</th>\n",
              "      <td>Please make this a rush as I have a sale sched...</td>\n",
              "      <td>Mortgage</td>\n",
              "    </tr>\n",
              "  </tbody>\n",
              "</table>\n",
              "</div>"
            ],
            "text/plain": [
              "                                              narrative                Product\n",
              "328   I have a Target credit card issued by TD Bank....            Credit card\n",
              "351   Hello, my name is XXXX. I am at my wits end. I...               Mortgage\n",
              "361   We went with the mortgage company, Guaranteed ...               Mortgage\n",
              "780   New flood zone maps were being drawn up for ou...               Mortgage\n",
              "878   My mortgage lender Chase has been providing me...               Mortgage\n",
              "894   On XX/XX/2018 Santander repossessed my vehicle...  Vehicle loan or lease\n",
              "975   I have been battling Selene Finance since XXXX...               Mortgage\n",
              "996   I have been on an on Income Driven repayment p...           Student loan\n",
              "999   1. ) Navient created obstacles to repayment by...           Student loan\n",
              "1032  Please make this a rush as I have a sale sched...               Mortgage"
            ]
          },
          "metadata": {
            "tags": []
          },
          "execution_count": 5
        }
      ]
    },
    {
      "cell_type": "code",
      "metadata": {
        "id": "IOkcnE_AegVe",
        "colab_type": "code",
        "colab": {
          "base_uri": "https://localhost:8080/",
          "height": 419
        },
        "outputId": "fafd38c1-dd32-454f-fde6-478b47060241"
      },
      "source": [
        "#df.index = range(511545)\n",
        "df.reset_index(drop=True,inplace=True)\n",
        "df"
      ],
      "execution_count": 6,
      "outputs": [
        {
          "output_type": "execute_result",
          "data": {
            "text/html": [
              "<div>\n",
              "<style scoped>\n",
              "    .dataframe tbody tr th:only-of-type {\n",
              "        vertical-align: middle;\n",
              "    }\n",
              "\n",
              "    .dataframe tbody tr th {\n",
              "        vertical-align: top;\n",
              "    }\n",
              "\n",
              "    .dataframe thead th {\n",
              "        text-align: right;\n",
              "    }\n",
              "</style>\n",
              "<table border=\"1\" class=\"dataframe\">\n",
              "  <thead>\n",
              "    <tr style=\"text-align: right;\">\n",
              "      <th></th>\n",
              "      <th>narrative</th>\n",
              "      <th>Product</th>\n",
              "    </tr>\n",
              "  </thead>\n",
              "  <tbody>\n",
              "    <tr>\n",
              "      <th>0</th>\n",
              "      <td>I have a Target credit card issued by TD Bank....</td>\n",
              "      <td>Credit card</td>\n",
              "    </tr>\n",
              "    <tr>\n",
              "      <th>1</th>\n",
              "      <td>Hello, my name is XXXX. I am at my wits end. I...</td>\n",
              "      <td>Mortgage</td>\n",
              "    </tr>\n",
              "    <tr>\n",
              "      <th>2</th>\n",
              "      <td>We went with the mortgage company, Guaranteed ...</td>\n",
              "      <td>Mortgage</td>\n",
              "    </tr>\n",
              "    <tr>\n",
              "      <th>3</th>\n",
              "      <td>New flood zone maps were being drawn up for ou...</td>\n",
              "      <td>Mortgage</td>\n",
              "    </tr>\n",
              "    <tr>\n",
              "      <th>4</th>\n",
              "      <td>My mortgage lender Chase has been providing me...</td>\n",
              "      <td>Mortgage</td>\n",
              "    </tr>\n",
              "    <tr>\n",
              "      <th>...</th>\n",
              "      <td>...</td>\n",
              "      <td>...</td>\n",
              "    </tr>\n",
              "    <tr>\n",
              "      <th>511540</th>\n",
              "      <td>I closed on a HELOC loan with Pentagon Federal...</td>\n",
              "      <td>Mortgage</td>\n",
              "    </tr>\n",
              "    <tr>\n",
              "      <th>511541</th>\n",
              "      <td>To whom it may concern, I had applied for a pe...</td>\n",
              "      <td>Payday loan, title loan, or personal loan</td>\n",
              "    </tr>\n",
              "    <tr>\n",
              "      <th>511542</th>\n",
              "      <td>I have a mortgage with Specialized Loan Servic...</td>\n",
              "      <td>Mortgage</td>\n",
              "    </tr>\n",
              "    <tr>\n",
              "      <th>511543</th>\n",
              "      <td>SCREENING REPORTS, obtained my background chec...</td>\n",
              "      <td>Credit reporting, credit repair services, or o...</td>\n",
              "    </tr>\n",
              "    <tr>\n",
              "      <th>511544</th>\n",
              "      <td>I never owed anything to these people. Show my...</td>\n",
              "      <td>Debt collection</td>\n",
              "    </tr>\n",
              "  </tbody>\n",
              "</table>\n",
              "<p>511545 rows × 2 columns</p>\n",
              "</div>"
            ],
            "text/plain": [
              "                                                narrative                                            Product\n",
              "0       I have a Target credit card issued by TD Bank....                                        Credit card\n",
              "1       Hello, my name is XXXX. I am at my wits end. I...                                           Mortgage\n",
              "2       We went with the mortgage company, Guaranteed ...                                           Mortgage\n",
              "3       New flood zone maps were being drawn up for ou...                                           Mortgage\n",
              "4       My mortgage lender Chase has been providing me...                                           Mortgage\n",
              "...                                                   ...                                                ...\n",
              "511540  I closed on a HELOC loan with Pentagon Federal...                                           Mortgage\n",
              "511541  To whom it may concern, I had applied for a pe...          Payday loan, title loan, or personal loan\n",
              "511542  I have a mortgage with Specialized Loan Servic...                                           Mortgage\n",
              "511543  SCREENING REPORTS, obtained my background chec...  Credit reporting, credit repair services, or o...\n",
              "511544  I never owed anything to these people. Show my...                                    Debt collection\n",
              "\n",
              "[511545 rows x 2 columns]"
            ]
          },
          "metadata": {
            "tags": []
          },
          "execution_count": 6
        }
      ]
    },
    {
      "cell_type": "code",
      "metadata": {
        "id": "dlB1u5D5egVu",
        "colab_type": "code",
        "colab": {
          "base_uri": "https://localhost:8080/",
          "height": 34
        },
        "outputId": "8fd018c8-e835-4b0b-8f68-157be120ec55"
      },
      "source": [
        "df['narrative'].apply(lambda x: len(x.split(' '))).sum()"
      ],
      "execution_count": 7,
      "outputs": [
        {
          "output_type": "execute_result",
          "data": {
            "text/plain": [
              "100697752"
            ]
          },
          "metadata": {
            "tags": []
          },
          "execution_count": 7
        }
      ]
    },
    {
      "cell_type": "markdown",
      "metadata": {
        "id": "bY3GoGj7egWC",
        "colab_type": "text"
      },
      "source": [
        "We have over 100 million words, it is not a small data set (update 2020)"
      ]
    },
    {
      "cell_type": "code",
      "metadata": {
        "id": "WUowGM5eegWD",
        "colab_type": "code",
        "colab": {
          "base_uri": "https://localhost:8080/",
          "height": 648
        },
        "outputId": "76e8d910-0ff3-4d47-ad65-2cfdc970787c"
      },
      "source": [
        "cnt_pro = df['Product'].value_counts()\n",
        "\n",
        "plt.figure(figsize=(12,4))\n",
        "sns.barplot(cnt_pro.index, cnt_pro.values, alpha=0.8)\n",
        "plt.ylabel('Number of Occurrences', fontsize=12)\n",
        "plt.xlabel('Product', fontsize=12)\n",
        "plt.xticks(rotation=90)\n",
        "plt.show();"
      ],
      "execution_count": 8,
      "outputs": [
        {
          "output_type": "display_data",
          "data": {
            "image/png": "[encoded data removed]",
            "text/plain": [
              "<Figure size 864x288 with 1 Axes>"
            ]
          },
          "metadata": {
            "tags": [],
            "needs_background": "light"
          }
        }
      ]
    },
    {
      "cell_type": "markdown",
      "metadata": {
        "id": "WWO3eDpnegWS",
        "colab_type": "text"
      },
      "source": [
        "The classes are imbalanced. However, a naive classifier that predicts everything to be Debt collection will only achieve over 20% accuracy."
      ]
    },
    {
      "cell_type": "markdown",
      "metadata": {
        "id": "hK3xclnFegWS",
        "colab_type": "text"
      },
      "source": [
        "Let's have a look a few examples of complaint narrative and its associated product."
      ]
    },
    {
      "cell_type": "code",
      "metadata": {
        "id": "34gdKIoaegWZ",
        "colab_type": "code",
        "colab": {}
      },
      "source": [
        "def print_complaint(index):\n",
        "    example = df[df.index == index][['narrative', 'Product']].values[0]\n",
        "    if len(example) > 0:\n",
        "        print(example[0])\n",
        "        print('Product:', example[1])"
      ],
      "execution_count": 9,
      "outputs": []
    },
    {
      "cell_type": "code",
      "metadata": {
        "id": "rkuQ4_wnegWp",
        "colab_type": "code",
        "colab": {
          "base_uri": "https://localhost:8080/",
          "height": 71
        },
        "outputId": "07025f37-2aaa-4f6d-d571-12d233e41981"
      },
      "source": [
        "print_complaint(12)"
      ],
      "execution_count": 10,
      "outputs": [
        {
          "output_type": "stream",
          "text": [
            "XXXX XXXX company is reporting information on my credit report that is not my account this information is not true by law they cant do it\n",
            "Product: Credit reporting, credit repair services, or other personal consumer reports\n"
          ],
          "name": "stdout"
        }
      ]
    },
    {
      "cell_type": "code",
      "metadata": {
        "id": "TDRcfewhegXK",
        "colab_type": "code",
        "colab": {
          "base_uri": "https://localhost:8080/",
          "height": 275
        },
        "outputId": "a75ccc3a-d369-45c1-a236-cf7c8461b959"
      },
      "source": [
        "print_complaint(20)"
      ],
      "execution_count": 11,
      "outputs": [
        {
          "output_type": "stream",
          "text": [
            "1. XX/XX/XXXX. Began employment at the facility in XXXX, TX. Signed relocation package valued at {$12000.00}, ( exhibit 1 ).\n",
            "\n",
            "2. XX/XX/XXXX. Relocated to the facility in XXXX, TX. Signed relocation package valued at {$12000.00}, ( exhibit 2 ). \n",
            "2a. As noted in both relocation packages, the relocation to XXXX nullified the original relocation commitment. \n",
            "3. During the summer of XXXX, I was temporally travelling back to and forth the XXXX, TX facility to work on equipment. During these times, I would still report to my assigned location of XXXX, TX to get a company truck and drive to XXXX. During that time, I would also return to XXXX on the weekend, and at the end of the hitch. There was no change in my reporting structure, as this was a temporary assignment. \n",
            "4. In XXXX of XXXX, I was told I was being dedicated to XXXX. From that point forward, I began reporting directly to the XXXX, TX, facility as opposed to the XXXX facility I had been assigned to. My job function had substantially changed, as I was no longer covering fleets in the field as I had been hired for, and my reporting structure had changed to include a manager from the XXXX XXXX XXXX department from XXXX, TX. Also, I was no longer required to follow the same policies and procedures of the XXXX facility when it came to submitting reports and documentation. This dedication was a de facto relocation without compensation for all intents and purposes. \n",
            "4a. Based on the notes in the two relocation packages referenced above, being relocated nullifies any previous relocation commitment. \n",
            "5. XX/XX/XXXX. I submitted my 2 week notice of resignation to XXXX. On XX/XX/XXXX, I drove from XXXX to XXXX for out processing. \n",
            "6. On my final owed check, XXXX XXXX XXXX retained the amount of {$1700.00} as money owed due to the initial relocation package to XXXX. Since this agreement was nullified by the subsequent relocation, this was money that was not legally retained by my employer ; however I was willing to not pursue this issue. \n",
            "7. In the first part of XXXX, I received a letter from XXXX stating I still owed them relocation reimbursement. \n",
            "7a. In the agreements, ( exhibits 1 and 2 ) it states, that i ) the company shall recover funds from the employees final paycheck. Since, however, my final pay was issued for {$66.00}. A reasonable person would believe that any claimed liability had been satisfied. And ii ) it is also stated that any outstanding balance would be paid back within 30 days of separation. Yet it took the company almost 6 weeks to initially contact me. \n",
            "8. On XX/XX/XXXX, I contacted XXXX and requested they send me the documents supporting their claim. They forwarded an incomplete package, including only the signature page of the contract, not the contract in its entirety. That same day, I requested the complete contract and, to this date, have not received the entire document. \n",
            "9. XXXX has since sent this matter to a collection agency, Cedar Financial, for resolution. I have requested the completed documentation package from them as well and have been unable to obtain it.\n",
            "Product: Debt collection\n"
          ],
          "name": "stdout"
        }
      ]
    },
    {
      "cell_type": "markdown",
      "metadata": {
        "id": "sykL4NBEegXX",
        "colab_type": "text"
      },
      "source": [
        "### Text preprocessing\n",
        "\n",
        "Below we define a function to convert text to lower-case and strip punctuation/symbols from words and so on."
      ]
    },
    {
      "cell_type": "code",
      "metadata": {
        "id": "GAuyUwSuegXX",
        "colab_type": "code",
        "colab": {}
      },
      "source": [
        "from bs4 import BeautifulSoup\n",
        "def cleanText(text):\n",
        "    text = BeautifulSoup(text, \"lxml\").text\n",
        "    text = re.sub(r'\\|\\|\\|', r' ', text) \n",
        "    text = re.sub(r'http\\S+', r'<URL>', text)\n",
        "    text = text.lower()\n",
        "    text = text.replace('x', '')\n",
        "    return text\n",
        "df['narrative'] = df['narrative'].apply(cleanText)"
      ],
      "execution_count": 12,
      "outputs": []
    },
    {
      "cell_type": "code",
      "metadata": {
        "id": "ayqIHqzFegXn",
        "colab_type": "code",
        "colab": {
          "base_uri": "https://localhost:8080/",
          "height": 205
        },
        "outputId": "0ce7b91f-2333-4f5e-ccf6-2764cd6dc8fd"
      },
      "source": [
        "df['narrative'][20]"
      ],
      "execution_count": 13,
      "outputs": [
        {
          "output_type": "execute_result",
          "data": {
            "application/vnd.google.colaboratory.intrinsic+json": {
              "type": "string"
            },
            "text/plain": [
              "'1. //. began employment at the facility in , t. signed relocation package valued at {$12000.00}, ( ehibit 1 ).\\n\\n2. //. relocated to the facility in , t. signed relocation package valued at {$12000.00}, ( ehibit 2 ). \\n2a. as noted in both relocation packages, the relocation to  nullified the original relocation commitment. \\n3. during the summer of , i was temporally travelling back to and forth the , t facility to work on equipment. during these times, i would still report to my assigned location of , t to get a company truck and drive to . during that time, i would also return to  on the weekend, and at the end of the hitch. there was no change in my reporting structure, as this was a temporary assignment. \\n4. in  of , i was told i was being dedicated to . from that point forward, i began reporting directly to the , t, facility as opposed to the  facility i had been assigned to. my job function had substantially changed, as i was no longer covering fleets in the field as i had been hired for, and my reporting structure had changed to include a manager from the    department from , t. also, i was no longer required to follow the same policies and procedures of the  facility when it came to submitting reports and documentation. this dedication was a de facto relocation without compensation for all intents and purposes. \\n4a. based on the notes in the two relocation packages referenced above, being relocated nullifies any previous relocation commitment. \\n5. //. i submitted my 2 week notice of resignation to . on //, i drove from  to  for out processing. \\n6. on my final owed check,    retained the amount of {$1700.00} as money owed due to the initial relocation package to . since this agreement was nullified by the subsequent relocation, this was money that was not legally retained by my employer ; however i was willing to not pursue this issue. \\n7. in the first part of , i received a letter from  stating i still owed them relocation reimbursement. \\n7a. in the agreements, ( ehibits 1 and 2 ) it states, that i ) the company shall recover funds from the employees final paycheck. since, however, my final pay was issued for {$66.00}. a reasonable person would believe that any claimed liability had been satisfied. and ii ) it is also stated that any outstanding balance would be paid back within 30 days of separation. yet it took the company almost 6 weeks to initially contact me. \\n8. on //, i contacted  and requested they send me the documents supporting their claim. they forwarded an incomplete package, including only the signature page of the contract, not the contract in its entirety. that same day, i requested the complete contract and, to this date, have not received the entire document. \\n9.  has since sent this matter to a collection agency, cedar financial, for resolution. i have requested the completed documentation package from them as well and have been unable to obtain it.'"
            ]
          },
          "metadata": {
            "tags": []
          },
          "execution_count": 13
        }
      ]
    },
    {
      "cell_type": "markdown",
      "metadata": {
        "id": "SRbRKiRurYjD",
        "colab_type": "text"
      },
      "source": [
        "The following steps include train/test split of 70/30, remove stop-words and tokenize text using NLTK tokenizer. For our first try we tag every complaint narrative with its product."
      ]
    },
    {
      "cell_type": "code",
      "metadata": {
        "id": "2VMwlBahegX8",
        "colab_type": "code",
        "colab": {}
      },
      "source": [
        "train, test = train_test_split(df, test_size=0.3, random_state=42)"
      ],
      "execution_count": 14,
      "outputs": []
    },
    {
      "cell_type": "code",
      "metadata": {
        "id": "eke4qNCAegYB",
        "colab_type": "code",
        "colab": {
          "base_uri": "https://localhost:8080/",
          "height": 51
        },
        "outputId": "6c3aec41-9fd9-4185-f1ff-342fe9030667"
      },
      "source": [
        "import nltk\n",
        "nltk.download('punkt')\n",
        "from nltk.corpus import stopwords\n",
        "def tokenize_text(text):\n",
        "    tokens = []\n",
        "    for sent in nltk.sent_tokenize(text):\n",
        "        for word in nltk.word_tokenize(sent):\n",
        "            if len(word) < 2:\n",
        "                continue\n",
        "            tokens.append(word.lower())\n",
        "    return tokens"
      ],
      "execution_count": 15,
      "outputs": [
        {
          "output_type": "stream",
          "text": [
            "[nltk_data] Downloading package punkt to /root/nltk_data...\n",
            "[nltk_data]   Package punkt is already up-to-date!\n"
          ],
          "name": "stdout"
        }
      ]
    },
    {
      "cell_type": "code",
      "metadata": {
        "id": "xRiOAi0hegYI",
        "colab_type": "code",
        "colab": {}
      },
      "source": [
        "train_tagged = train.apply(\n",
        "    lambda r: TaggedDocument(words=tokenize_text(r['narrative']), tags=[r.Product]), axis=1)\n",
        "test_tagged = test.apply(\n",
        "    lambda r: TaggedDocument(words=tokenize_text(r['narrative']), tags=[r.Product]), axis=1)"
      ],
      "execution_count": null,
      "outputs": []
    },
    {
      "cell_type": "markdown",
      "metadata": {
        "id": "Q84TlvwbegYW",
        "colab_type": "text"
      },
      "source": [
        "This is what a training entry looks like - an example complaint narrative tagged by 'Credit reporting'."
      ]
    },
    {
      "cell_type": "code",
      "metadata": {
        "id": "OXWrDrKyr-A0",
        "colab_type": "code",
        "colab": {}
      },
      "source": [
        "train_tagged[:5]"
      ],
      "execution_count": null,
      "outputs": []
    },
    {
      "cell_type": "code",
      "metadata": {
        "id": "AuGha09RegYX",
        "colab_type": "code",
        "colab": {},
        "outputId": "15fd7d43-d891-46f4-f399-52610701ca70"
      },
      "source": [
        "train_tagged.values[30]"
      ],
      "execution_count": null,
      "outputs": [
        {
          "output_type": "execute_result",
          "data": {
            "text/plain": [
              "TaggedDocument(words=['had', 'bankruptcy', 'years', 'ago', 'and', 'it', 'is', 'still', 'showing', 'up', 'on', 'equifa', 'which', 'is', 'preventing', 'me', 'from', 'buying', 'home', 'at', 'good', 'rate', 'they', 'need', 'to', 'take', 'it', 'off', 'like', 'did', 'so', 'my', 'score', 'will', 'be'], tags=['Credit reporting'])"
            ]
          },
          "metadata": {
            "tags": []
          },
          "execution_count": 16
        }
      ]
    },
    {
      "cell_type": "markdown",
      "metadata": {
        "id": "0AemcP49egYe",
        "colab_type": "text"
      },
      "source": [
        "## Training the model\n",
        "\n",
        "We'll instantiate a Doc2Vec model-Distributed Bag of Words (DBOW). In the Word2Vec architecture, the two algorithm names are “continuous bag of words” (cbow) and “skip-gram” (sg); in the Doc2Vec architecture, the corresponding algorithms are “distributed bag of words” (dbow) and “distributed memory” (dm)."
      ]
    },
    {
      "cell_type": "markdown",
      "metadata": {
        "id": "KR0ZaLIGegYe",
        "colab_type": "text"
      },
      "source": [
        "### DBOW\n",
        "\n",
        "DBOW is the Doc2Vec model analogous to Skip-gram model in Word2Vec. The paragraph vectors are obtained by training a neural network on the task of predicting a probability distribution of words in a paragraph given a randomly-sampled word from the paragraph.\n",
        "\n",
        "Training a Doc2Vec model is rather straight forward in Gensim, we initialize the model and train for 30 epochs:"
      ]
    },
    {
      "cell_type": "markdown",
      "metadata": {
        "id": "yUC0m6D9egYf",
        "colab_type": "text"
      },
      "source": [
        "We set the minimum word count to 2 in order to discard words with very few occurrences. "
      ]
    },
    {
      "cell_type": "code",
      "metadata": {
        "id": "dF57myyDegYf",
        "colab_type": "code",
        "colab": {}
      },
      "source": [
        "import multiprocessing\n",
        "\n",
        "cores = multiprocessing.cpu_count()"
      ],
      "execution_count": null,
      "outputs": []
    },
    {
      "cell_type": "markdown",
      "metadata": {
        "id": "SP6ckBFFegYu",
        "colab_type": "text"
      },
      "source": [
        "Build a vocabulary"
      ]
    },
    {
      "cell_type": "code",
      "metadata": {
        "id": "dkEaSb6-egYv",
        "colab_type": "code",
        "colab": {},
        "outputId": "712b76ec-d306-4883-95af-655c0a36cdab"
      },
      "source": [
        "model_dbow = Doc2Vec(dm=0, vector_size=300, negative=5, hs=0, min_count=2, sample = 0, workers=cores)\n",
        "model_dbow.build_vocab([x for x in tqdm(train_tagged.values)])"
      ],
      "execution_count": null,
      "outputs": [
        {
          "output_type": "stream",
          "text": [
            "100%|██████████| 223102/223102 [00:00<00:00, 2855261.21it/s]\n"
          ],
          "name": "stderr"
        }
      ]
    },
    {
      "cell_type": "code",
      "metadata": {
        "id": "BYZAEwoKegY6",
        "colab_type": "code",
        "colab": {},
        "outputId": "e6f02c17-4338-4ea4-d357-243bbfb2bee7"
      },
      "source": [
        "%%time\n",
        "for epoch in range(30):\n",
        "    model_dbow.train(utils.shuffle([x for x in tqdm(train_tagged.values)]), \n",
        "                     total_examples=len(train_tagged.values), epochs=1)\n",
        "    model_dbow.alpha -= 0.002\n",
        "    model_dbow.min_alpha = model_dbow.alpha"
      ],
      "execution_count": null,
      "outputs": [
        {
          "output_type": "stream",
          "text": [
            "100%|██████████| 223102/223102 [00:00<00:00, 2379615.48it/s]\n",
            "100%|██████████| 223102/223102 [00:00<00:00, 2849340.50it/s]\n",
            "100%|██████████| 223102/223102 [00:00<00:00, 2100357.58it/s]\n",
            "100%|██████████| 223102/223102 [00:00<00:00, 1596907.77it/s]\n",
            "100%|██████████| 223102/223102 [00:00<00:00, 2576198.16it/s]\n",
            "100%|██████████| 223102/223102 [00:00<00:00, 1961591.50it/s]\n",
            "100%|██████████| 223102/223102 [00:00<00:00, 1799270.90it/s]\n",
            "100%|██████████| 223102/223102 [00:00<00:00, 1216525.65it/s]\n",
            "100%|██████████| 223102/223102 [00:00<00:00, 1879469.14it/s]\n",
            "100%|██████████| 223102/223102 [00:00<00:00, 2159058.65it/s]\n",
            "100%|██████████| 223102/223102 [00:00<00:00, 1851940.21it/s]\n",
            "100%|██████████| 223102/223102 [00:00<00:00, 1868324.12it/s]\n",
            "100%|██████████| 223102/223102 [00:00<00:00, 2222950.33it/s]\n",
            "100%|██████████| 223102/223102 [00:00<00:00, 2035760.37it/s]\n",
            "100%|██████████| 223102/223102 [00:00<00:00, 1791036.78it/s]\n",
            "100%|██████████| 223102/223102 [00:00<00:00, 2039549.64it/s]\n",
            "100%|██████████| 223102/223102 [00:00<00:00, 3569332.45it/s]\n",
            "100%|██████████| 223102/223102 [00:00<00:00, 2855374.47it/s]\n",
            "100%|██████████| 223102/223102 [00:00<00:00, 2855418.04it/s]\n",
            "100%|██████████| 223102/223102 [00:00<00:00, 2379567.07it/s]\n",
            "100%|██████████| 223102/223102 [00:00<00:00, 2039580.76it/s]\n",
            "100%|██████████| 223102/223102 [00:00<00:00, 2322399.87it/s]\n",
            "100%|██████████| 223102/223102 [00:00<00:00, 2517534.79it/s]\n",
            "100%|██████████| 223102/223102 [00:00<00:00, 1888184.11it/s]\n",
            "100%|██████████| 223102/223102 [00:00<00:00, 919457.47it/s]\n",
            "100%|██████████| 223102/223102 [00:00<00:00, 2060277.88it/s]\n",
            "100%|██████████| 223102/223102 [00:00<00:00, 1885517.07it/s]\n",
            "100%|██████████| 223102/223102 [00:00<00:00, 1539867.75it/s]\n",
            "100%|██████████| 223102/223102 [00:00<00:00, 2726717.42it/s]\n",
            "100%|██████████| 223102/223102 [00:00<00:00, 2033057.94it/s]\n"
          ],
          "name": "stderr"
        },
        {
          "output_type": "stream",
          "text": [
            "Wall time: 18min 24s\n"
          ],
          "name": "stdout"
        }
      ]
    },
    {
      "cell_type": "markdown",
      "metadata": {
        "id": "7zGnRQCJegZF",
        "colab_type": "text"
      },
      "source": [
        "### Buliding the final vector feature for the classifier."
      ]
    },
    {
      "cell_type": "code",
      "metadata": {
        "id": "ECEpATt9egZJ",
        "colab_type": "code",
        "colab": {}
      },
      "source": [
        "def vec_for_learning(model, tagged_docs):\n",
        "    sents = tagged_docs.values\n",
        "    targets, regressors = zip(*[(doc.tags[0], \n",
        "                                 model.infer_vector(doc.words, steps=20)) for doc in sents])\n",
        "    return targets, regressors"
      ],
      "execution_count": null,
      "outputs": []
    },
    {
      "cell_type": "code",
      "metadata": {
        "id": "fBBv2b6BegZM",
        "colab_type": "code",
        "colab": {}
      },
      "source": [
        "y_train, X_train = vec_for_learning(model_dbow, train_tagged)\n",
        "y_test, X_test = vec_for_learning(model_dbow, test_tagged)"
      ],
      "execution_count": null,
      "outputs": []
    },
    {
      "cell_type": "code",
      "metadata": {
        "id": "jFeZX8lqegZV",
        "colab_type": "code",
        "colab": {}
      },
      "source": [
        "logreg = LogisticRegression(n_jobs=1, C=1e5)\n",
        "logreg.fit(X_train, y_train)\n",
        "y_pred = logreg.predict(X_test)"
      ],
      "execution_count": null,
      "outputs": []
    },
    {
      "cell_type": "code",
      "metadata": {
        "id": "y2V1EgIbegZf",
        "colab_type": "code",
        "colab": {},
        "outputId": "eda46242-d79c-415d-bea2-1f5dcfba21ee"
      },
      "source": [
        "from sklearn.metrics import accuracy_score, f1_score\n",
        "\n",
        "print('Testing accuracy %s' % accuracy_score(y_test, y_pred))\n",
        "print('Testing F1 score: {}'.format(f1_score(y_test, y_pred, average='weighted')))"
      ],
      "execution_count": null,
      "outputs": [
        {
          "output_type": "stream",
          "text": [
            "Testing accuracy 0.6683609437751004\n",
            "Testing F1 score: 0.651646431211616\n"
          ],
          "name": "stdout"
        }
      ]
    },
    {
      "cell_type": "markdown",
      "metadata": {
        "id": "-0CCh_KBegZ2",
        "colab_type": "text"
      },
      "source": [
        "### Distributed Memory with Averaging\n",
        "\n",
        "Distributed Memory (DM) acts as a memory that remembers what is missing from the current context — or as the topic of the paragraph. While the word vectors represent the concept of a word, the document vector intends to represent the concept of a document.\n",
        "We again instantiate a Doc2Vec model with a vector size with 300 words and iterating over the training corpus 30 times."
      ]
    },
    {
      "cell_type": "code",
      "metadata": {
        "id": "c8IqkWc9egZ3",
        "colab_type": "code",
        "colab": {},
        "outputId": "1a2f96a0-83c5-4435-9a2b-4499c60d94fd"
      },
      "source": [
        "model_dmm = Doc2Vec(dm=1, dm_mean=1, vector_size=300, window=10, negative=5, min_count=1, workers=5, alpha=0.065, min_alpha=0.065)\n",
        "model_dmm.build_vocab([x for x in tqdm(train_tagged.values)])"
      ],
      "execution_count": null,
      "outputs": [
        {
          "output_type": "stream",
          "text": [
            "100%|██████████| 223102/223102 [00:00<00:00, 1886113.74it/s]\n"
          ],
          "name": "stderr"
        }
      ]
    },
    {
      "cell_type": "code",
      "metadata": {
        "id": "tiZ4qoJhegZ-",
        "colab_type": "code",
        "colab": {},
        "outputId": "c39035f2-fb40-4bbb-f61c-b0b25ffc6175"
      },
      "source": [
        "%%time\n",
        "for epoch in range(30):\n",
        "    model_dmm.train(utils.shuffle([x for x in tqdm(train_tagged.values)]), total_examples=len(train_tagged.values), epochs=1)\n",
        "    model_dmm.alpha -= 0.002\n",
        "    model_dmm.min_alpha = model_dmm.alpha"
      ],
      "execution_count": null,
      "outputs": [
        {
          "output_type": "stream",
          "text": [
            "100%|██████████| 223102/223102 [00:00<00:00, 2855531.31it/s]\n",
            "100%|██████████| 223102/223102 [00:00<00:00, 1578083.26it/s]\n",
            "100%|██████████| 223102/223102 [00:00<00:00, 1745168.51it/s]\n",
            "100%|██████████| 223102/223102 [00:00<00:00, 1854244.79it/s]\n",
            "100%|██████████| 223102/223102 [00:00<00:00, 1893698.00it/s]\n",
            "100%|██████████| 223102/223102 [00:00<00:00, 1885653.85it/s]\n",
            "100%|██████████| 223102/223102 [00:00<00:00, 1869836.11it/s]\n",
            "100%|██████████| 223102/223102 [00:00<00:00, 1869832.37it/s]\n",
            "100%|██████████| 223102/223102 [00:00<00:00, 2445159.40it/s]\n",
            "100%|██████████| 223102/223102 [00:00<00:00, 2022787.35it/s]\n",
            "100%|██████████| 223102/223102 [00:00<00:00, 1165813.40it/s]\n",
            "100%|██████████| 223102/223102 [00:00<00:00, 2379542.86it/s]\n",
            "100%|██████████| 223102/223102 [00:00<00:00, 2379585.22it/s]\n",
            "100%|██████████| 223102/223102 [00:00<00:00, 1784628.78it/s]\n",
            "100%|██████████| 223102/223102 [00:00<00:00, 1784628.78it/s]\n",
            "100%|██████████| 223102/223102 [00:00<00:00, 1940508.05it/s]\n",
            "100%|██████████| 223102/223102 [00:00<00:00, 2039602.98it/s]\n",
            "100%|██████████| 223102/223102 [00:00<00:00, 1104039.77it/s]\n",
            "100%|██████████| 223102/223102 [00:00<00:00, 2039647.44it/s]\n",
            "100%|██████████| 223102/223102 [00:00<00:00, 2039562.97it/s]\n",
            "100%|██████████| 223102/223102 [00:00<00:00, 2379573.12it/s]\n",
            "100%|██████████| 223102/223102 [00:00<00:00, 2855418.04it/s]\n",
            "100%|██████████| 223102/223102 [00:00<00:00, 2379506.56it/s]\n",
            "100%|██████████| 223102/223102 [00:00<00:00, 2039554.08it/s]\n",
            "100%|██████████| 223102/223102 [00:00<00:00, 1784632.19it/s]\n",
            "100%|██████████| 223102/223102 [00:00<00:00, 1751177.79it/s]\n",
            "100%|██████████| 223102/223102 [00:00<00:00, 1892361.48it/s]\n",
            "100%|██████████| 223102/223102 [00:00<00:00, 1959722.32it/s]\n",
            "100%|██████████| 223102/223102 [00:00<00:00, 1649827.85it/s]\n",
            "100%|██████████| 223102/223102 [00:00<00:00, 2778023.03it/s]\n"
          ],
          "name": "stderr"
        },
        {
          "output_type": "stream",
          "text": [
            "Wall time: 33min 28s\n"
          ],
          "name": "stdout"
        }
      ]
    },
    {
      "cell_type": "markdown",
      "metadata": {
        "id": "cjROJkSzegaN",
        "colab_type": "text"
      },
      "source": [
        "### Train Logistic Regression"
      ]
    },
    {
      "cell_type": "code",
      "metadata": {
        "id": "6KPBFHFeegaO",
        "colab_type": "code",
        "colab": {},
        "outputId": "933c39a2-cfc0-4c86-ba5b-708c9719a91d"
      },
      "source": [
        "y_train, X_train = vec_for_learning(model_dmm, train_tagged)\n",
        "y_test, X_test = vec_for_learning(model_dmm, test_tagged)\n",
        "\n",
        "logreg.fit(X_train, y_train)\n",
        "y_pred = logreg.predict(X_test)\n",
        "\n",
        "print('Testing accuracy %s' % accuracy_score(y_test, y_pred))\n",
        "print('Testing F1 score: {}'.format(f1_score(y_test, y_pred, average='weighted')))"
      ],
      "execution_count": null,
      "outputs": [
        {
          "output_type": "stream",
          "text": [
            "Testing accuracy 0.47498326639892907\n",
            "Testing F1 score: 0.4445833078167434\n"
          ],
          "name": "stdout"
        }
      ]
    },
    {
      "cell_type": "code",
      "metadata": {
        "id": "Rm0HlgM0egak",
        "colab_type": "code",
        "colab": {}
      },
      "source": [
        "model_dbow.delete_temporary_training_data(keep_doctags_vectors=True, keep_inference=True)\n",
        "model_dmm.delete_temporary_training_data(keep_doctags_vectors=True, keep_inference=True)"
      ],
      "execution_count": null,
      "outputs": []
    },
    {
      "cell_type": "code",
      "metadata": {
        "id": "s9aaRSrYegaz",
        "colab_type": "code",
        "colab": {}
      },
      "source": [
        "from gensim.test.test_doc2vec import ConcatenatedDoc2Vec\n",
        "new_model = ConcatenatedDoc2Vec([model_dbow, model_dmm])"
      ],
      "execution_count": null,
      "outputs": []
    },
    {
      "cell_type": "code",
      "metadata": {
        "id": "dYt5zWBAega2",
        "colab_type": "code",
        "colab": {}
      },
      "source": [
        "def get_vectors(model, tagged_docs):\n",
        "    sents = tagged_docs.values\n",
        "    targets, regressors = zip(*[(doc.tags[0], model.infer_vector(doc.words, steps=20)) for doc in sents])\n",
        "    return targets, regressors"
      ],
      "execution_count": null,
      "outputs": []
    },
    {
      "cell_type": "code",
      "metadata": {
        "id": "hIKh-ts0egbO",
        "colab_type": "code",
        "colab": {}
      },
      "source": [
        "y_train, X_train = get_vectors(new_model, train_tagged)\n",
        "y_test, X_test = get_vectors(new_model, test_tagged)"
      ],
      "execution_count": null,
      "outputs": []
    },
    {
      "cell_type": "code",
      "metadata": {
        "id": "aY1ItMk4egbS",
        "colab_type": "code",
        "colab": {},
        "outputId": "ecbbfcb9-9a82-484f-84d2-bc530baff976"
      },
      "source": [
        "logreg.fit(X_train, y_train)\n",
        "y_pred = logreg.predict(X_test)\n",
        "\n",
        "print('Testing accuracy %s' % accuracy_score(y_test, y_pred))\n",
        "print('Testing F1 score: {}'.format(f1_score(y_test, y_pred, average='weighted')))"
      ],
      "execution_count": null,
      "outputs": [
        {
          "output_type": "stream",
          "text": [
            "Testing accuracy 0.6778572623828648\n",
            "Testing F1 score: 0.664561533967402\n"
          ],
          "name": "stdout"
        }
      ]
    },
    {
      "cell_type": "code",
      "metadata": {
        "id": "A5N70a4Fegbf",
        "colab_type": "code",
        "colab": {}
      },
      "source": [
        ""
      ],
      "execution_count": null,
      "outputs": []
    }
  ]
}