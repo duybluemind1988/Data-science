{
  "nbformat": 4,
  "nbformat_minor": 0,
  "metadata": {
    "colab": {
      "name": "CNN_RNN_ATIS_intents.ipynb",
      "provenance": []
    },
    "kernelspec": {
      "display_name": "Python 3",
      "language": "python",
      "name": "python3"
    },
    "language_info": {
      "codemirror_mode": {
        "name": "ipython",
        "version": 3
      },
      "file_extension": ".py",
      "mimetype": "text/x-python",
      "name": "python",
      "nbconvert_exporter": "python",
      "pygments_lexer": "ipython3",
      "version": "3.8.3"
    },
    "toc": {
      "base_numbering": 1,
      "nav_menu": {},
      "number_sections": true,
      "sideBar": true,
      "skip_h1_title": false,
      "title_cell": "Table of Contents",
      "title_sidebar": "Contents",
      "toc_cell": false,
      "toc_position": {},
      "toc_section_display": true,
      "toc_window_display": false
    },
    "varInspector": {
      "cols": {
        "lenName": 16,
        "lenType": 16,
        "lenVar": 40
      },
      "kernels_config": {
        "python": {
          "delete_cmd_postfix": "",
          "delete_cmd_prefix": "del ",
          "library": "var_list.py",
          "varRefreshCmd": "print(var_dic_list())"
        },
        "r": {
          "delete_cmd_postfix": ") ",
          "delete_cmd_prefix": "rm(",
          "library": "var_list.r",
          "varRefreshCmd": "cat(var_dic_list()) "
        }
      },
      "types_to_exclude": [
        "module",
        "function",
        "builtin_function_or_method",
        "instance",
        "_Feature"
      ],
      "window_display": false
    }
  },
  "cells": [
    {
      "cell_type": "markdown",
      "metadata": {
        "colab_type": "text",
        "id": "Wz0jLNgTnMwF"
      },
      "source": [
        "In this notebook we will demonstrate various CNN and RNN models for the task of intent detection on the ATIS dataset. "
      ]
    },
    {
      "cell_type": "code",
      "metadata": {
        "ExecuteTime": {
          "end_time": "2020-01-21T02:51:26.312446Z",
          "start_time": "2020-01-21T02:51:15.878759Z"
        },
        "colab_type": "code",
        "id": "7GnbW58Yi_7P",
        "colab": {}
      },
      "source": [
        "\n",
        "#making the necessary imports\n",
        "import os\n",
        "import sys\n",
        "import numpy as np\n",
        "from keras.preprocessing.text import Tokenizer\n",
        "from keras.preprocessing.sequence import pad_sequences\n",
        "from keras.utils import to_categorical\n",
        "from keras.layers import Dense, Input, GlobalMaxPooling1D\n",
        "from keras.layers import Conv1D, MaxPooling1D, Embedding, LSTM\n",
        "from keras.models import Model, Sequential\n",
        "from keras.initializers import Constant\n",
        "\n",
        "from sklearn.preprocessing import LabelEncoder\n",
        "\n",
        "import random\n",
        "random.seed(0)#for reproducability of results\n",
        "\n",
        "import pandas as pd\n",
        "import numpy as np"
      ],
      "execution_count": 25,
      "outputs": []
    },
    {
      "cell_type": "code",
      "metadata": {
        "id": "tYZ8Ap2T85ft",
        "colab_type": "code",
        "colab": {
          "base_uri": "https://localhost:8080/",
          "height": 34
        },
        "outputId": "fd086d28-b5a7-4d6a-9430-95dd589310d4"
      },
      "source": [
        "from google.colab import drive\n",
        "drive.mount('/content/drive')"
      ],
      "execution_count": 26,
      "outputs": [
        {
          "output_type": "stream",
          "text": [
            "Drive already mounted at /content/drive; to attempt to forcibly remount, call drive.mount(\"/content/drive\", force_remount=True).\n"
          ],
          "name": "stdout"
        }
      ]
    },
    {
      "cell_type": "markdown",
      "metadata": {
        "colab_type": "text",
        "id": "LGFhMpnjo4L1"
      },
      "source": [
        "Loading the training data"
      ]
    },
    {
      "cell_type": "code",
      "metadata": {
        "id": "74d9Wj3rGVoJ",
        "colab_type": "code",
        "colab": {
          "base_uri": "https://localhost:8080/",
          "height": 35
        },
        "outputId": "29bc450d-2e7e-40ea-f00a-cab72ee2e87f"
      },
      "source": [
        "import os\n",
        "os.getcwd()"
      ],
      "execution_count": 27,
      "outputs": [
        {
          "output_type": "execute_result",
          "data": {
            "application/vnd.google.colaboratory.intrinsic+json": {
              "type": "string"
            },
            "text/plain": [
              "'/content'"
            ]
          },
          "metadata": {
            "tags": []
          },
          "execution_count": 27
        }
      ]
    },
    {
      "cell_type": "code",
      "metadata": {
        "id": "F1v6sG3bHVE4",
        "colab_type": "code",
        "colab": {}
      },
      "source": [
        "import pandas as pd\n",
        "import numpy as np\n",
        "\n",
        "def get_data(filename):\n",
        "    df = pd.read_csv(filename,delim_whitespace=True,names=['word','label'])\n",
        "    beg_indices = list(df[df['word'] == 'BOS'].index)+[df.shape[0]]\n",
        "    sents,labels,intents = [],[],[]\n",
        "    for i in range(len(beg_indices[:-1])):\n",
        "        sents.append(df[beg_indices[i]+1:beg_indices[i+1]-1]['word'].values)\n",
        "        labels.append(df[beg_indices[i]+1:beg_indices[i+1]-1]['label'].values)\n",
        "        intents.append(df.loc[beg_indices[i+1]-1]['label'])    \n",
        "    return np.array(sents, dtype=object), np.array(labels, dtype=object), np.array(intents, dtype=object)\n",
        "\n",
        "def get_data2(filename):\n",
        "    with open(filename) as f:\n",
        "        contents = f.read()\n",
        "    sents,labels,intents = [],[],[]\n",
        "    for line in contents.strip().split('\\n'):\n",
        "        words,labs = [i.split(' ') for i in line.split('\\t')]\n",
        "        sents.append(words[1:-1])\n",
        "        labels.append(labs[1:-1])\n",
        "        intents.append(labs[-1])\n",
        "    return np.array(sents, dtype=object), np.array(labels, dtype=object), np.array(intents, dtype=object)\n",
        "\n",
        "read_method = {'/content/drive/My Drive/Data/NLP/Practical_NLP_Oreilly/Chap6/data2/atis-2.dev.w-intent.iob':get_data,\n",
        "               '/content/drive/My Drive/Data/NLP/Practical_NLP_Oreilly/Chap6/data2/atis.train.w-intent.iob':get_data2,\n",
        "               '/content/drive/My Drive/Data/NLP/Practical_NLP_Oreilly/Chap6/data2/atis.test.w-intent.iob':get_data,\n",
        "              '/content/drive/My Drive/Data/NLP/Practical_NLP_Oreilly/Chap6/data2/atis-2.train.w-intent.iob':get_data2}\n",
        "\n",
        "def fetch_data(fname):\n",
        "    func = read_method[fname]\n",
        "    return func(fname)"
      ],
      "execution_count": 28,
      "outputs": []
    },
    {
      "cell_type": "code",
      "metadata": {
        "id": "dSVy7y5kGUAi",
        "colab_type": "code",
        "colab": {
          "base_uri": "https://localhost:8080/",
          "height": 34
        },
        "outputId": "b9770325-9a11-4abf-badb-0b96344d6fa7"
      },
      "source": [
        "#utils is included in this repository'c Ch6 folder under folder name \"Data\"\n",
        "#from Data.utils import fetch_data, read_method\n",
        "sents,labels,intents = fetch_data('/content/drive/My Drive/Data/NLP/Practical_NLP_Oreilly/Chap6/data2/atis.train.w-intent.iob')\n",
        "print(len(sents),len(labels),len(intents))"
      ],
      "execution_count": 29,
      "outputs": [
        {
          "output_type": "stream",
          "text": [
            "4978 4978 4978\n"
          ],
          "name": "stdout"
        }
      ]
    },
    {
      "cell_type": "code",
      "metadata": {
        "id": "1lkbFqT8HuHx",
        "colab_type": "code",
        "colab": {
          "base_uri": "https://localhost:8080/",
          "height": 153
        },
        "outputId": "cc37b3ca-e661-4c37-d89b-a0714dda24bf"
      },
      "source": [
        "sents"
      ],
      "execution_count": 30,
      "outputs": [
        {
          "output_type": "execute_result",
          "data": {
            "text/plain": [
              "array([list(['i', 'want', 'to', 'fly', 'from', 'boston', 'at', '838', 'am', 'and', 'arrive', 'in', 'denver', 'at', '1110', 'in', 'the', 'morning']),\n",
              "       list(['what', 'flights', 'are', 'available', 'from', 'pittsburgh', 'to', 'baltimore', 'on', 'thursday', 'morning']),\n",
              "       list(['what', 'is', 'the', 'arrival', 'time', 'in', 'san', 'francisco', 'for', 'the', '755', 'am', 'flight', 'leaving', 'washington']),\n",
              "       ...,\n",
              "       list(['which', 'airlines', 'fly', 'into', 'and', 'out', 'of', 'denver']),\n",
              "       list(['does', 'continental', 'fly', 'from', 'boston', 'to', 'san', 'francisco', 'with', 'a', 'stop', 'in', 'denver']),\n",
              "       list(['is', 'there', 'a', 'delta', 'flight', 'from', 'denver', 'to', 'san', 'francisco'])],\n",
              "      dtype=object)"
            ]
          },
          "metadata": {
            "tags": []
          },
          "execution_count": 30
        }
      ]
    },
    {
      "cell_type": "code",
      "metadata": {
        "id": "33MN56gaHhAz",
        "colab_type": "code",
        "colab": {
          "base_uri": "https://localhost:8080/",
          "height": 156
        },
        "outputId": "6bee9d36-b0c7-4cda-af62-e592fd4f3b5b"
      },
      "source": [
        "labels"
      ],
      "execution_count": 31,
      "outputs": [
        {
          "output_type": "execute_result",
          "data": {
            "text/plain": [
              "array([list(['O', 'O', 'O', 'O', 'O', 'O', 'B-fromloc.city_name', 'O', 'B-depart_time.time', 'I-depart_time.time', 'O', 'O', 'O', 'B-toloc.city_name', 'O', 'B-arrive_time.time', 'O', 'O', 'B-arrive_time.period_of_day']),\n",
              "       list(['O', 'O', 'O', 'O', 'O', 'B-fromloc.city_name', 'O', 'B-toloc.city_name', 'O', 'B-depart_date.day_name', 'B-depart_time.period_of_day']),\n",
              "       list(['O', 'O', 'O', 'B-flight_time', 'I-flight_time', 'O', 'B-fromloc.city_name', 'I-fromloc.city_name', 'O', 'O', 'B-depart_time.time', 'I-depart_time.time', 'O', 'O', 'B-fromloc.city_name']),\n",
              "       ..., list(['O', 'O', 'O', 'O', 'O', 'O', 'O', 'B-city_name']),\n",
              "       list(['O', 'B-airline_name', 'O', 'O', 'B-fromloc.city_name', 'O', 'B-toloc.city_name', 'I-toloc.city_name', 'O', 'O', 'O', 'O', 'B-stoploc.city_name']),\n",
              "       list(['O', 'O', 'O', 'B-airline_name', 'O', 'O', 'B-fromloc.city_name', 'O', 'B-toloc.city_name', 'I-toloc.city_name'])],\n",
              "      dtype=object)"
            ]
          },
          "metadata": {
            "tags": []
          },
          "execution_count": 31
        }
      ]
    },
    {
      "cell_type": "code",
      "metadata": {
        "id": "g3eNdjKJHips",
        "colab_type": "code",
        "colab": {
          "base_uri": "https://localhost:8080/",
          "height": 51
        },
        "outputId": "f7c90fc9-3488-41da-8486-1d687a1c0a2f"
      },
      "source": [
        "intents"
      ],
      "execution_count": 32,
      "outputs": [
        {
          "output_type": "execute_result",
          "data": {
            "text/plain": [
              "array(['atis_flight', 'atis_flight', 'atis_flight_time', ...,\n",
              "       'atis_airline', 'atis_flight', 'atis_flight'], dtype=object)"
            ]
          },
          "metadata": {
            "tags": []
          },
          "execution_count": 32
        }
      ]
    },
    {
      "cell_type": "code",
      "metadata": {
        "id": "sBuAPzU6IBve",
        "colab_type": "code",
        "colab": {
          "base_uri": "https://localhost:8080/",
          "height": 187
        },
        "outputId": "394f352a-64f1-4cd7-9d83-12d9b9ca1a04"
      },
      "source": [
        "train_sentences = [\" \".join(i) for i in sents]\n",
        "train_sentences[:10]"
      ],
      "execution_count": 33,
      "outputs": [
        {
          "output_type": "execute_result",
          "data": {
            "text/plain": [
              "['i want to fly from boston at 838 am and arrive in denver at 1110 in the morning',\n",
              " 'what flights are available from pittsburgh to baltimore on thursday morning',\n",
              " 'what is the arrival time in san francisco for the 755 am flight leaving washington',\n",
              " 'cheapest airfare from tacoma to orlando',\n",
              " 'round trip fares from pittsburgh to philadelphia under 1000 dollars',\n",
              " 'i need a flight tomorrow from columbus to minneapolis',\n",
              " 'what kind of aircraft is used on a flight from cleveland to dallas',\n",
              " 'show me the flights from pittsburgh to los angeles on thursday',\n",
              " 'all flights from boston to washington',\n",
              " 'what kind of ground transportation is available in denver']"
            ]
          },
          "metadata": {
            "tags": []
          },
          "execution_count": 33
        }
      ]
    },
    {
      "cell_type": "code",
      "metadata": {
        "id": "ZWCYx_sAIJ7m",
        "colab_type": "code",
        "colab": {
          "base_uri": "https://localhost:8080/",
          "height": 102
        },
        "outputId": "ab82308e-32d4-4d08-d4df-5655f7448ab0"
      },
      "source": [
        "train_texts = train_sentences\n",
        "train_labels= intents.tolist()\n",
        "train_labels[:5]"
      ],
      "execution_count": 34,
      "outputs": [
        {
          "output_type": "execute_result",
          "data": {
            "text/plain": [
              "['atis_flight',\n",
              " 'atis_flight',\n",
              " 'atis_flight_time',\n",
              " 'atis_airfare',\n",
              " 'atis_airfare']"
            ]
          },
          "metadata": {
            "tags": []
          },
          "execution_count": 34
        }
      ]
    },
    {
      "cell_type": "code",
      "metadata": {
        "id": "xR3NN8X8IO22",
        "colab_type": "code",
        "colab": {
          "base_uri": "https://localhost:8080/",
          "height": 391
        },
        "outputId": "b8ebe0e1-ea32-408f-bba6-0c06ce03d155"
      },
      "source": [
        "set(train_labels)"
      ],
      "execution_count": 35,
      "outputs": [
        {
          "output_type": "execute_result",
          "data": {
            "text/plain": [
              "{'atis_abbreviation',\n",
              " 'atis_aircraft',\n",
              " 'atis_aircraft#atis_flight#atis_flight_no',\n",
              " 'atis_airfare',\n",
              " 'atis_airfare#atis_flight_time',\n",
              " 'atis_airline',\n",
              " 'atis_airline#atis_flight_no',\n",
              " 'atis_airport',\n",
              " 'atis_capacity',\n",
              " 'atis_cheapest',\n",
              " 'atis_city',\n",
              " 'atis_distance',\n",
              " 'atis_flight',\n",
              " 'atis_flight#atis_airfare',\n",
              " 'atis_flight_no',\n",
              " 'atis_flight_time',\n",
              " 'atis_ground_fare',\n",
              " 'atis_ground_service',\n",
              " 'atis_ground_service#atis_ground_fare',\n",
              " 'atis_meal',\n",
              " 'atis_quantity',\n",
              " 'atis_restriction'}"
            ]
          },
          "metadata": {
            "tags": []
          },
          "execution_count": 35
        }
      ]
    },
    {
      "cell_type": "code",
      "metadata": {
        "ExecuteTime": {
          "end_time": "2020-01-21T03:16:45.725380Z",
          "start_time": "2020-01-21T03:16:45.669373Z"
        },
        "colab_type": "code",
        "id": "pl5A0Kwji_7h",
        "colab": {
          "base_uri": "https://localhost:8080/",
          "height": 136
        },
        "outputId": "ba0c0212-b237-4646-9527-3439601bbd0f"
      },
      "source": [
        "vals = []\n",
        "\n",
        "for i in range(len(train_labels)):\n",
        "    if \"#\" in train_labels[i]:\n",
        "        vals.append(i)\n",
        "        \n",
        "for i in vals[::-1]:\n",
        "    train_labels.pop(i)\n",
        "    train_texts.pop(i)\n",
        "\n",
        "print (\"Number of training sentences :\",len(train_texts))\n",
        "print (\"Number of unique intents :\",len(set(train_labels)))\n",
        "\n",
        "for i in zip(train_texts[:5], train_labels[:5]):\n",
        "    print(i)"
      ],
      "execution_count": 36,
      "outputs": [
        {
          "output_type": "stream",
          "text": [
            "Number of training sentences : 4952\n",
            "Number of unique intents : 17\n",
            "('i want to fly from boston at 838 am and arrive in denver at 1110 in the morning', 'atis_flight')\n",
            "('what flights are available from pittsburgh to baltimore on thursday morning', 'atis_flight')\n",
            "('what is the arrival time in san francisco for the 755 am flight leaving washington', 'atis_flight_time')\n",
            "('cheapest airfare from tacoma to orlando', 'atis_airfare')\n",
            "('round trip fares from pittsburgh to philadelphia under 1000 dollars', 'atis_airfare')\n"
          ],
          "name": "stdout"
        }
      ]
    },
    {
      "cell_type": "markdown",
      "metadata": {
        "colab_type": "text",
        "id": "qckNEPKRo8_V"
      },
      "source": [
        "Loading the test data"
      ]
    },
    {
      "cell_type": "code",
      "metadata": {
        "ExecuteTime": {
          "end_time": "2020-01-21T03:16:53.184193Z",
          "start_time": "2020-01-21T03:16:52.523898Z"
        },
        "colab_type": "code",
        "id": "zQynEfVmi_7m",
        "colab": {
          "base_uri": "https://localhost:8080/",
          "height": 170
        },
        "outputId": "e5a29e4d-db2c-4bdd-b064-d9d76c92e26c"
      },
      "source": [
        "#from Data.utils import fetch_data, read_method\n",
        "\n",
        "sents,labels,intents = fetch_data('/content/drive/My Drive/Data/NLP/Practical_NLP_Oreilly/Chap6/data2/atis.test.w-intent.iob')\n",
        "\n",
        "test_sentences = [\" \".join(i) for i in sents]\n",
        "\n",
        "test_texts = test_sentences\n",
        "test_labels = intents.tolist()\n",
        "\n",
        "new_labels = set(test_labels) - set(train_labels)\n",
        "\n",
        "vals = []\n",
        "\n",
        "for i in range(len(test_labels)):\n",
        "    if \"#\" in test_labels[i]:\n",
        "        vals.append(i)\n",
        "    elif test_labels[i] in new_labels:\n",
        "        print(test_labels[i])\n",
        "        vals.append(i)\n",
        "        \n",
        "for i in vals[::-1]:\n",
        "    test_labels.pop(i)\n",
        "    test_texts.pop(i)\n",
        "\n",
        "print (\"Number of testing sentences :\",len(test_texts))\n",
        "print (\"Number of unique intents :\",len(set(test_labels)))\n",
        "\n",
        "for i in zip(test_texts[:5], test_labels[:5]):\n",
        "    print(i)"
      ],
      "execution_count": 37,
      "outputs": [
        {
          "output_type": "stream",
          "text": [
            "atis_day_name\n",
            "atis_day_name\n",
            "Number of testing sentences : 876\n",
            "Number of unique intents : 15\n",
            "('i would like to find a flight from charlotte to las vegas that makes a stop in st. louis', 'atis_flight')\n",
            "('on april first i need a ticket from tacoma to san jose departing before 7 am', 'atis_airfare')\n",
            "('on april first i need a flight going from phoenix to san diego', 'atis_flight')\n",
            "('i would like a flight traveling one way from phoenix to san diego on april first', 'atis_flight')\n",
            "('i would like a flight from orlando to salt lake city for april first on delta airlines', 'atis_flight')\n"
          ],
          "name": "stdout"
        }
      ]
    },
    {
      "cell_type": "code",
      "metadata": {
        "id": "2pVDgEGtNZ-w",
        "colab_type": "code",
        "colab": {
          "base_uri": "https://localhost:8080/",
          "height": 272
        },
        "outputId": "c6633ab6-4dc4-4b81-e556-08c591eab6d1"
      },
      "source": [
        "set(test_labels)"
      ],
      "execution_count": 38,
      "outputs": [
        {
          "output_type": "execute_result",
          "data": {
            "text/plain": [
              "{'atis_abbreviation',\n",
              " 'atis_aircraft',\n",
              " 'atis_airfare',\n",
              " 'atis_airline',\n",
              " 'atis_airport',\n",
              " 'atis_capacity',\n",
              " 'atis_city',\n",
              " 'atis_distance',\n",
              " 'atis_flight',\n",
              " 'atis_flight_no',\n",
              " 'atis_flight_time',\n",
              " 'atis_ground_fare',\n",
              " 'atis_ground_service',\n",
              " 'atis_meal',\n",
              " 'atis_quantity'}"
            ]
          },
          "metadata": {
            "tags": []
          },
          "execution_count": 38
        }
      ]
    },
    {
      "cell_type": "markdown",
      "metadata": {
        "colab_type": "text",
        "id": "nUZsI3ZmpBA2"
      },
      "source": [
        "Pre-Processing"
      ]
    },
    {
      "cell_type": "code",
      "metadata": {
        "id": "yQzl42klF77J",
        "colab_type": "code",
        "colab": {}
      },
      "source": [
        "MAX_SEQUENCE_LENGTH = 300\n",
        "MAX_NUM_WORDS = 20000 \n",
        "EMBEDDING_DIM = 100 \n",
        "VALIDATION_SPLIT = 0.3"
      ],
      "execution_count": 39,
      "outputs": []
    },
    {
      "cell_type": "markdown",
      "metadata": {
        "id": "lIubwWF0N8GS",
        "colab_type": "text"
      },
      "source": [
        "Su dung Toeknizer (max 20,000 tu) de hoc toan bo tu trong train_texts, sau do se ma hoa tung tu trong cau theo word index (sap xep theo thu tu pho bien nhat)"
      ]
    },
    {
      "cell_type": "code",
      "metadata": {
        "ExecuteTime": {
          "end_time": "2020-01-21T03:16:58.708150Z",
          "start_time": "2020-01-21T03:16:58.445025Z"
        },
        "colab_type": "code",
        "id": "sk1EXJANi_7p",
        "colab": {
          "base_uri": "https://localhost:8080/",
          "height": 34
        },
        "outputId": "fbbccf2c-cd43-423f-f728-2679e4c0c740"
      },
      "source": [
        "tokenizer = Tokenizer(num_words=MAX_NUM_WORDS)\n",
        "tokenizer.fit_on_texts(train_texts)\n",
        "train_sequences = tokenizer.texts_to_sequences(train_texts) #Converting text to a vector of word indexes\n",
        "test_sequences = tokenizer.texts_to_sequences(test_texts)\n",
        "word_index = tokenizer.word_index\n",
        "print('Found %s unique tokens.' % len(word_index))"
      ],
      "execution_count": 40,
      "outputs": [
        {
          "output_type": "stream",
          "text": [
            "Found 897 unique tokens.\n"
          ],
          "name": "stdout"
        }
      ]
    },
    {
      "cell_type": "code",
      "metadata": {
        "id": "ifxxDrpONp99",
        "colab_type": "code",
        "colab": {
          "base_uri": "https://localhost:8080/",
          "height": 1000
        },
        "outputId": "fcfb0282-a932-488a-9e10-65549b8ddc96"
      },
      "source": [
        "word_index"
      ],
      "execution_count": 41,
      "outputs": [
        {
          "output_type": "execute_result",
          "data": {
            "text/plain": [
              "{'0900': 846,\n",
              " '1': 308,\n",
              " '10': 148,\n",
              " '100': 539,\n",
              " '1000': 227,\n",
              " '1017': 844,\n",
              " '1020': 805,\n",
              " '1024': 638,\n",
              " '1026': 682,\n",
              " '1030': 656,\n",
              " '1039': 694,\n",
              " '1045': 758,\n",
              " '1055': 771,\n",
              " '1059': 731,\n",
              " '106': 664,\n",
              " '1083': 845,\n",
              " '11': 379,\n",
              " '110': 722,\n",
              " '1100': 672,\n",
              " '1110': 530,\n",
              " '1115': 446,\n",
              " '1130': 657,\n",
              " '1133': 851,\n",
              " '1145': 582,\n",
              " '1158': 739,\n",
              " '12': 176,\n",
              " '1200': 833,\n",
              " '1205': 780,\n",
              " '1209': 871,\n",
              " '1220': 715,\n",
              " '1222': 572,\n",
              " '1230': 836,\n",
              " '124': 683,\n",
              " '1245': 447,\n",
              " '1288': 645,\n",
              " '1291': 501,\n",
              " '130': 747,\n",
              " '1300': 873,\n",
              " '137338': 828,\n",
              " '139': 670,\n",
              " '150': 721,\n",
              " '1500': 868,\n",
              " '1505': 813,\n",
              " '1600': 706,\n",
              " '163': 890,\n",
              " '1700': 548,\n",
              " '1765': 553,\n",
              " '1850': 812,\n",
              " '19': 668,\n",
              " '1940': 881,\n",
              " '1991': 258,\n",
              " '1992': 450,\n",
              " '1993': 809,\n",
              " '2': 228,\n",
              " '200': 697,\n",
              " '201': 567,\n",
              " '21': 502,\n",
              " '210': 578,\n",
              " '2100': 461,\n",
              " '212': 855,\n",
              " '2134': 550,\n",
              " '2153': 659,\n",
              " '217': 590,\n",
              " '225': 738,\n",
              " '229': 841,\n",
              " '230': 434,\n",
              " '257': 646,\n",
              " '269': 612,\n",
              " '270': 523,\n",
              " '271': 732,\n",
              " '279': 827,\n",
              " '281': 397,\n",
              " '296': 513,\n",
              " '297': 700,\n",
              " '3': 272,\n",
              " '300': 799,\n",
              " '305': 856,\n",
              " '311': 791,\n",
              " '315': 693,\n",
              " '323': 840,\n",
              " '324': 594,\n",
              " '329': 635,\n",
              " '3357': 839,\n",
              " '343': 581,\n",
              " '345': 667,\n",
              " '352': 636,\n",
              " '3724': 577,\n",
              " '4': 191,\n",
              " '400': 807,\n",
              " '402': 803,\n",
              " '405': 772,\n",
              " '415': 525,\n",
              " '416': 677,\n",
              " '417': 894,\n",
              " '420': 673,\n",
              " '428': 824,\n",
              " '43': 852,\n",
              " '430': 413,\n",
              " '4400': 850,\n",
              " '445': 719,\n",
              " '459': 710,\n",
              " '466': 377,\n",
              " '497766': 864,\n",
              " '5': 127,\n",
              " '500': 821,\n",
              " '505': 631,\n",
              " '515': 720,\n",
              " '530': 412,\n",
              " '539': 830,\n",
              " '55': 762,\n",
              " '555': 496,\n",
              " '57': 335,\n",
              " '6': 146,\n",
              " '615': 641,\n",
              " '630': 394,\n",
              " '645': 847,\n",
              " '650': 703,\n",
              " '7': 171,\n",
              " '705': 765,\n",
              " '71': 661,\n",
              " '718': 457,\n",
              " '720': 532,\n",
              " '723': 815,\n",
              " '727': 592,\n",
              " '72s': 562,\n",
              " '730': 806,\n",
              " '733': 782,\n",
              " '734': 843,\n",
              " '737': 480,\n",
              " '73s': 752,\n",
              " '746': 652,\n",
              " '747': 426,\n",
              " '755': 531,\n",
              " '757': 614,\n",
              " '767': 611,\n",
              " '771': 858,\n",
              " '8': 156,\n",
              " '80': 489,\n",
              " '810': 778,\n",
              " '813': 485,\n",
              " '815': 689,\n",
              " '819': 893,\n",
              " '82': 669,\n",
              " '823': 730,\n",
              " '825': 451,\n",
              " '838': 402,\n",
              " '845': 619,\n",
              " '852': 541,\n",
              " '9': 218,\n",
              " '928': 690,\n",
              " '932': 584,\n",
              " '934': 515,\n",
              " '98': 825,\n",
              " 'a': 13,\n",
              " 'aa': 709,\n",
              " 'abbreviation': 380,\n",
              " 'abbreviations': 540,\n",
              " 'able': 733,\n",
              " 'about': 152,\n",
              " 'ac': 613,\n",
              " 'across': 647,\n",
              " 'actually': 625,\n",
              " 'advertises': 876,\n",
              " 'after': 45,\n",
              " 'afternoon': 63,\n",
              " 'afternoons': 885,\n",
              " 'afterwards': 666,\n",
              " 'again': 325,\n",
              " 'air': 121,\n",
              " 'aircraft': 135,\n",
              " 'airfare': 274,\n",
              " 'airfares': 822,\n",
              " 'airline': 117,\n",
              " 'airlines': 28,\n",
              " 'airplane': 344,\n",
              " 'airplanes': 620,\n",
              " 'airport': 81,\n",
              " 'airports': 236,\n",
              " 'alaska': 595,\n",
              " 'all': 23,\n",
              " 'along': 599,\n",
              " 'also': 268,\n",
              " 'am': 86,\n",
              " 'america': 473,\n",
              " 'american': 64,\n",
              " \"american's\": 607,\n",
              " 'amount': 460,\n",
              " 'an': 145,\n",
              " 'and': 16,\n",
              " 'angeles': 139,\n",
              " 'another': 467,\n",
              " 'any': 100,\n",
              " 'anything': 857,\n",
              " 'anywhere': 432,\n",
              " 'ap': 298,\n",
              " 'ap57': 458,\n",
              " 'ap68': 849,\n",
              " 'ap80': 527,\n",
              " 'approximately': 542,\n",
              " 'april': 242,\n",
              " 'are': 26,\n",
              " 'area': 433,\n",
              " 'arizona': 598,\n",
              " 'around': 143,\n",
              " 'arrange': 387,\n",
              " 'arrangements': 282,\n",
              " 'arrival': 403,\n",
              " 'arrivals': 405,\n",
              " 'arrive': 79,\n",
              " 'arrives': 223,\n",
              " 'arriving': 57,\n",
              " 'as': 240,\n",
              " 'at': 67,\n",
              " 'atl': 615,\n",
              " 'atlanta': 17,\n",
              " \"atlanta's\": 606,\n",
              " 'august': 107,\n",
              " 'available': 58,\n",
              " 'b': 588,\n",
              " 'back': 287,\n",
              " 'baltimore': 22,\n",
              " 'bay': 802,\n",
              " 'be': 232,\n",
              " 'beach': 194,\n",
              " 'before': 61,\n",
              " 'beginning': 633,\n",
              " 'begins': 741,\n",
              " 'being': 634,\n",
              " 'belong': 718,\n",
              " 'besides': 783,\n",
              " 'between': 31,\n",
              " 'bna': 663,\n",
              " 'boeing': 374,\n",
              " 'book': 188,\n",
              " 'booking': 388,\n",
              " 'boston': 9,\n",
              " 'both': 369,\n",
              " 'bound': 591,\n",
              " 'breakfast': 233,\n",
              " 'bring': 817,\n",
              " 'bur': 692,\n",
              " 'burbank': 234,\n",
              " 'business': 260,\n",
              " 'but': 363,\n",
              " 'buy': 621,\n",
              " 'bwi': 292,\n",
              " 'by': 151,\n",
              " 'c': 534,\n",
              " 'california': 207,\n",
              " 'calling': 711,\n",
              " 'can': 88,\n",
              " 'canada': 396,\n",
              " 'canadian': 328,\n",
              " 'capacities': 729,\n",
              " 'capacity': 329,\n",
              " 'car': 243,\n",
              " 'carolina': 318,\n",
              " 'carried': 744,\n",
              " 'carries': 564,\n",
              " 'cars': 519,\n",
              " 'catch': 767,\n",
              " 'charges': 724,\n",
              " 'charlotte': 103,\n",
              " 'cheap': 435,\n",
              " 'cheapest': 52,\n",
              " 'chicago': 101,\n",
              " 'choices': 487,\n",
              " 'cincinnati': 185,\n",
              " 'cities': 248,\n",
              " 'city': 56,\n",
              " 'class': 53,\n",
              " 'classes': 306,\n",
              " 'cleveland': 136,\n",
              " 'close': 479,\n",
              " 'closest': 883,\n",
              " 'co': 493,\n",
              " 'coach': 196,\n",
              " 'code': 131,\n",
              " 'codes': 386,\n",
              " 'colorado': 334,\n",
              " 'columbus': 213,\n",
              " 'come': 823,\n",
              " 'coming': 389,\n",
              " 'companies': 880,\n",
              " 'concerning': 834,\n",
              " 'connect': 456,\n",
              " 'connecting': 257,\n",
              " 'connection': 547,\n",
              " 'connections': 499,\n",
              " 'connects': 723,\n",
              " 'continent': 648,\n",
              " 'continental': 106,\n",
              " 'continuing': 748,\n",
              " 'cost': 137,\n",
              " 'costs': 441,\n",
              " 'could': 163,\n",
              " 'county': 296,\n",
              " 'cover': 777,\n",
              " 'cp': 563,\n",
              " 'currently': 759,\n",
              " 'd': 575,\n",
              " 'd10': 829,\n",
              " 'd9s': 665,\n",
              " 'daily': 187,\n",
              " 'dallas': 21,\n",
              " 'database': 551,\n",
              " 'day': 203,\n",
              " 'days': 418,\n",
              " 'dc': 74,\n",
              " 'dc10': 511,\n",
              " 'december': 222,\n",
              " 'define': 498,\n",
              " 'delta': 97,\n",
              " \"delta's\": 514,\n",
              " 'denver': 12,\n",
              " 'depart': 193,\n",
              " 'departing': 174,\n",
              " 'departs': 469,\n",
              " 'departure': 352,\n",
              " 'departures': 442,\n",
              " 'describe': 505,\n",
              " 'designate': 712,\n",
              " 'destination': 466,\n",
              " 'determine': 763,\n",
              " 'detroit': 202,\n",
              " 'dfw': 362,\n",
              " 'diego': 113,\n",
              " 'difference': 544,\n",
              " 'different': 512,\n",
              " 'dinner': 263,\n",
              " 'dinnertime': 570,\n",
              " 'direct': 229,\n",
              " 'directly': 716,\n",
              " 'discount': 658,\n",
              " 'display': 294,\n",
              " 'distance': 370,\n",
              " 'dl': 253,\n",
              " 'do': 105,\n",
              " 'does': 50,\n",
              " \"doesn't\": 808,\n",
              " 'dollars': 169,\n",
              " \"don't\": 637,\n",
              " 'downtown': 133,\n",
              " 'dulles': 605,\n",
              " 'during': 392,\n",
              " 'ea': 425,\n",
              " 'each': 378,\n",
              " 'earlier': 626,\n",
              " 'earliest': 75,\n",
              " 'early': 118,\n",
              " 'eastern': 246,\n",
              " 'economic': 801,\n",
              " 'economy': 195,\n",
              " 'eight': 555,\n",
              " 'eighteenth': 417,\n",
              " 'eighth': 256,\n",
              " 'either': 315,\n",
              " 'eleven': 794,\n",
              " 'eleventh': 311,\n",
              " 'else': 787,\n",
              " 'enroute': 874,\n",
              " 'equal': 773,\n",
              " 'equipment': 740,\n",
              " 'evening': 94,\n",
              " 'everywhere': 751,\n",
              " 'ewr': 353,\n",
              " 'expensive': 162,\n",
              " 'explain': 336,\n",
              " 'express': 302,\n",
              " 'eye': 757,\n",
              " 'f': 321,\n",
              " 'f28': 481,\n",
              " 'far': 368,\n",
              " 'fare': 40,\n",
              " 'fares': 71,\n",
              " 'february': 401,\n",
              " 'ff': 424,\n",
              " 'field': 211,\n",
              " 'fifteen': 684,\n",
              " 'fifteenth': 276,\n",
              " 'fifth': 251,\n",
              " 'final': 728,\n",
              " 'find': 90,\n",
              " 'fine': 831,\n",
              " 'first': 41,\n",
              " 'fit': 490,\n",
              " 'flies': 297,\n",
              " 'flight': 8,\n",
              " 'flights': 3,\n",
              " 'florida': 310,\n",
              " 'fly': 38,\n",
              " 'flying': 225,\n",
              " 'fn': 492,\n",
              " 'following': 459,\n",
              " 'for': 37,\n",
              " 'fort': 110,\n",
              " 'four': 545,\n",
              " 'fourteenth': 341,\n",
              " 'fourth': 252,\n",
              " 'francisco': 14,\n",
              " 'friday': 114,\n",
              " \"friday's\": 878,\n",
              " 'fridays': 766,\n",
              " 'friends': 600,\n",
              " 'from': 2,\n",
              " 'general': 220,\n",
              " 'georgia': 468,\n",
              " 'get': 158,\n",
              " 'gets': 884,\n",
              " 'give': 66,\n",
              " 'go': 84,\n",
              " 'goes': 250,\n",
              " 'going': 140,\n",
              " 'got': 785,\n",
              " 'great': 528,\n",
              " 'greatest': 797,\n",
              " 'ground': 46,\n",
              " 'grounds': 696,\n",
              " 'guardia': 330,\n",
              " 'h': 327,\n",
              " 'hartfield': 736,\n",
              " 'has': 249,\n",
              " 'have': 60,\n",
              " 'having': 877,\n",
              " 'heading': 477,\n",
              " 'hello': 445,\n",
              " 'help': 452,\n",
              " 'here': 566,\n",
              " 'hi': 346,\n",
              " 'highest': 546,\n",
              " 'hold': 869,\n",
              " 'home': 811,\n",
              " 'hopefully': 774,\n",
              " 'hou': 714,\n",
              " 'hours': 385,\n",
              " 'houston': 122,\n",
              " 'how': 83,\n",
              " 'hp': 381,\n",
              " 'i': 18,\n",
              " \"i'd\": 47,\n",
              " \"i'll\": 431,\n",
              " \"i'm\": 166,\n",
              " \"i've\": 784,\n",
              " 'iah': 835,\n",
              " 'if': 333,\n",
              " 'in': 15,\n",
              " 'include': 517,\n",
              " 'includes': 681,\n",
              " 'including': 687,\n",
              " 'indiana': 745,\n",
              " 'indianapolis': 129,\n",
              " 'inexpensive': 842,\n",
              " 'inform': 707,\n",
              " 'information': 85,\n",
              " 'instead': 793,\n",
              " 'intercontinental': 726,\n",
              " 'interested': 259,\n",
              " 'international': 179,\n",
              " 'into': 190,\n",
              " 'is': 20,\n",
              " 'it': 215,\n",
              " \"it's\": 796,\n",
              " 'itinerary': 624,\n",
              " 'j31': 804,\n",
              " 'january': 348,\n",
              " 'jersey': 331,\n",
              " 'jet': 859,\n",
              " 'jfk': 416,\n",
              " 'jose': 167,\n",
              " 'july': 112,\n",
              " 'june': 155,\n",
              " 'just': 574,\n",
              " 'k': 708,\n",
              " 'kansas': 128,\n",
              " 'kind': 219,\n",
              " 'kindly': 678,\n",
              " 'kinds': 471,\n",
              " 'know': 183,\n",
              " 'la': 237,\n",
              " 'lake': 142,\n",
              " 'land': 448,\n",
              " 'landing': 587,\n",
              " 'landings': 364,\n",
              " 'lands': 742,\n",
              " 'largest': 886,\n",
              " 'las': 98,\n",
              " 'last': 201,\n",
              " 'lastest': 571,\n",
              " 'late': 254,\n",
              " 'later': 399,\n",
              " 'latest': 132,\n",
              " 'lax': 800,\n",
              " 'laying': 702,\n",
              " 'layover': 361,\n",
              " 'least': 186,\n",
              " 'leave': 72,\n",
              " 'leaves': 172,\n",
              " 'leaving': 33,\n",
              " 'less': 199,\n",
              " 'lester': 749,\n",
              " 'let': 838,\n",
              " \"let's\": 421,\n",
              " 'level': 789,\n",
              " 'like': 25,\n",
              " 'limo': 576,\n",
              " 'limousine': 299,\n",
              " 'limousines': 679,\n",
              " 'list': 27,\n",
              " 'listed': 770,\n",
              " 'listing': 309,\n",
              " 'listings': 870,\n",
              " 'live': 351,\n",
              " 'lives': 610,\n",
              " 'local': 650,\n",
              " 'locate': 735,\n",
              " 'located': 569,\n",
              " 'logan': 373,\n",
              " 'long': 177,\n",
              " 'longest': 695,\n",
              " 'look': 559,\n",
              " 'looking': 244,\n",
              " 'los': 138,\n",
              " 'louis': 178,\n",
              " 'love': 210,\n",
              " 'lowest': 197,\n",
              " 'ls': 705,\n",
              " 'lufthansa': 423,\n",
              " 'lunch': 322,\n",
              " 'm': 561,\n",
              " 'm80': 560,\n",
              " 'make': 231,\n",
              " 'makes': 343,\n",
              " 'making': 427,\n",
              " 'many': 147,\n",
              " 'march': 357,\n",
              " 'maximum': 486,\n",
              " 'may': 157,\n",
              " 'mco': 338,\n",
              " 'me': 7,\n",
              " 'meal': 189,\n",
              " 'meals': 332,\n",
              " 'mealtime': 642,\n",
              " 'mean': 159,\n",
              " 'meaning': 524,\n",
              " 'memphis': 150,\n",
              " 'mia': 792,\n",
              " 'miami': 92,\n",
              " 'michigan': 596,\n",
              " 'midnight': 406,\n",
              " 'midway': 589,\n",
              " 'midwest': 301,\n",
              " 'milwaukee': 89,\n",
              " 'minimum': 725,\n",
              " 'minneapolis': 170,\n",
              " 'minnesota': 482,\n",
              " 'missouri': 603,\n",
              " 'mitchell': 221,\n",
              " 'monday': 76,\n",
              " 'mondays': 781,\n",
              " 'month': 617,\n",
              " 'montreal': 149,\n",
              " 'more': 463,\n",
              " 'morning': 35,\n",
              " 'mornings': 428,\n",
              " 'most': 275,\n",
              " 'much': 175,\n",
              " 'must': 698,\n",
              " 'my': 345,\n",
              " 'name': 422,\n",
              " 'names': 630,\n",
              " 'nashville': 165,\n",
              " 'nationair': 414,\n",
              " 'near': 465,\n",
              " 'need': 54,\n",
              " 'nevada': 860,\n",
              " 'new': 68,\n",
              " 'newark': 99,\n",
              " 'next': 116,\n",
              " 'night': 205,\n",
              " 'nights': 675,\n",
              " 'nighttime': 892,\n",
              " 'nineteenth': 359,\n",
              " 'ninth': 286,\n",
              " 'no': 358,\n",
              " 'non': 820,\n",
              " 'nonstop': 78,\n",
              " 'nonstops': 585,\n",
              " 'noon': 96,\n",
              " 'noontime': 508,\n",
              " 'north': 317,\n",
              " 'northwest': 214,\n",
              " 'november': 198,\n",
              " 'now': 216,\n",
              " 'number': 265,\n",
              " 'numbers': 404,\n",
              " 'nw': 504,\n",
              " \"o'clock\": 102,\n",
              " \"o'hare\": 688,\n",
              " 'oak': 887,\n",
              " 'oakland': 42,\n",
              " 'october': 316,\n",
              " 'of': 29,\n",
              " 'off': 795,\n",
              " 'offer': 372,\n",
              " 'offered': 754,\n",
              " 'offers': 488,\n",
              " 'oh': 685,\n",
              " 'ohio': 411,\n",
              " 'okay': 192,\n",
              " 'on': 5,\n",
              " 'once': 853,\n",
              " 'one': 65,\n",
              " \"one's\": 891,\n",
              " 'only': 307,\n",
              " 'ontario': 271,\n",
              " 'operating': 779,\n",
              " 'operation': 699,\n",
              " 'options': 507,\n",
              " 'or': 130,\n",
              " 'ord': 549,\n",
              " 'order': 863,\n",
              " 'originate': 558,\n",
              " 'originating': 506,\n",
              " 'orlando': 119,\n",
              " 'other': 283,\n",
              " 'out': 230,\n",
              " 'over': 384,\n",
              " 'overnight': 649,\n",
              " 'passengers': 443,\n",
              " 'paul': 200,\n",
              " 'pearson': 750,\n",
              " 'pennsylvania': 438,\n",
              " 'people': 366,\n",
              " 'petersburg': 164,\n",
              " 'philadelphia': 24,\n",
              " 'philly': 568,\n",
              " 'phoenix': 104,\n",
              " 'pittsburgh': 19,\n",
              " 'place': 680,\n",
              " 'plan': 497,\n",
              " 'plane': 288,\n",
              " 'planes': 354,\n",
              " 'planning': 769,\n",
              " 'please': 34,\n",
              " 'pm': 36,\n",
              " 'possible': 241,\n",
              " 'prefer': 644,\n",
              " 'preferably': 837,\n",
              " 'price': 255,\n",
              " 'priced': 882,\n",
              " 'prices': 264,\n",
              " 'proper': 632,\n",
              " 'provide': 520,\n",
              " 'provided': 420,\n",
              " 'provides': 643,\n",
              " 'put': 734,\n",
              " 'q': 390,\n",
              " 'qo': 400,\n",
              " 'qualify': 826,\n",
              " 'quebec': 557,\n",
              " 'question': 701,\n",
              " 'qw': 391,\n",
              " 'qx': 314,\n",
              " 'rate': 536,\n",
              " 'rates': 444,\n",
              " 'reaches': 743,\n",
              " 'reaching': 628,\n",
              " 'red': 756,\n",
              " 'regarding': 674,\n",
              " 'rent': 407,\n",
              " 'rental': 281,\n",
              " 'rentals': 475,\n",
              " 'repeat': 895,\n",
              " 'repeating': 671,\n",
              " 'represented': 653,\n",
              " 'requesting': 470,\n",
              " 'reservation': 472,\n",
              " 'reservations': 608,\n",
              " 'restriction': 247,\n",
              " 'restrictions': 565,\n",
              " 'return': 217,\n",
              " 'returning': 285,\n",
              " 'reverse': 717,\n",
              " 'right': 367,\n",
              " 'round': 55,\n",
              " 'route': 651,\n",
              " 'run': 867,\n",
              " 'runs': 814,\n",
              " 's': 462,\n",
              " 'sa': 491,\n",
              " 'salt': 141,\n",
              " 'same': 289,\n",
              " 'san': 11,\n",
              " 'saturday': 108,\n",
              " 'saturdays': 439,\n",
              " 'say': 543,\n",
              " 'scenario': 897,\n",
              " 'schedule': 239,\n",
              " 'scheduled': 737,\n",
              " 'schedules': 583,\n",
              " 'sd': 872,\n",
              " 'seat': 727,\n",
              " 'seating': 340,\n",
              " 'seats': 437,\n",
              " 'seattle': 124,\n",
              " 'second': 212,\n",
              " 'see': 153,\n",
              " 'september': 206,\n",
              " 'serve': 204,\n",
              " 'served': 262,\n",
              " 'serves': 209,\n",
              " 'service': 182,\n",
              " 'serviced': 538,\n",
              " 'services': 494,\n",
              " 'serving': 371,\n",
              " 'seven': 676,\n",
              " 'seventeen': 879,\n",
              " 'seventeenth': 360,\n",
              " 'seventh': 123,\n",
              " 'sfo': 393,\n",
              " 'shortest': 337,\n",
              " 'should': 324,\n",
              " 'show': 10,\n",
              " 'single': 848,\n",
              " 'six': 453,\n",
              " 'sixteen': 440,\n",
              " 'sixteenth': 339,\n",
              " 'sixth': 293,\n",
              " 'smallest': 320,\n",
              " 'snack': 535,\n",
              " 'so': 449,\n",
              " 'some': 355,\n",
              " 'somebody': 786,\n",
              " 'sometime': 429,\n",
              " 'soon': 554,\n",
              " 'sorry': 476,\n",
              " 'sort': 776,\n",
              " 'sounds': 865,\n",
              " 'southwest': 408,\n",
              " 'spend': 713,\n",
              " 'st': 87,\n",
              " 'stand': 290,\n",
              " 'stands': 526,\n",
              " 'stapleton': 579,\n",
              " 'start': 866,\n",
              " 'starting': 419,\n",
              " 'staying': 861,\n",
              " 'still': 623,\n",
              " 'stop': 109,\n",
              " 'stopover': 144,\n",
              " 'stopovers': 409,\n",
              " 'stopping': 245,\n",
              " 'stops': 226,\n",
              " 'straight': 768,\n",
              " 'such': 639,\n",
              " 'summer': 798,\n",
              " 'sunday': 93,\n",
              " \"sunday's\": 622,\n",
              " 'sundays': 522,\n",
              " 'supper': 662,\n",
              " 'sure': 537,\n",
              " 'symbols': 775,\n",
              " 'tacoma': 181,\n",
              " 'take': 238,\n",
              " 'takeoff': 593,\n",
              " 'takeoffs': 398,\n",
              " 'takes': 875,\n",
              " 'taking': 618,\n",
              " 'tampa': 160,\n",
              " 'taxi': 495,\n",
              " 'tell': 126,\n",
              " 'ten': 509,\n",
              " 'tennessee': 510,\n",
              " 'tenth': 312,\n",
              " 'texas': 503,\n",
              " 'than': 173,\n",
              " 'thank': 356,\n",
              " 'thanks': 816,\n",
              " 'that': 30,\n",
              " \"that's\": 889,\n",
              " 'the': 4,\n",
              " 'their': 483,\n",
              " 'them': 761,\n",
              " 'then': 295,\n",
              " 'there': 43,\n",
              " 'thereafter': 660,\n",
              " 'these': 430,\n",
              " 'they': 573,\n",
              " 'thing': 764,\n",
              " 'third': 224,\n",
              " 'thirteenth': 601,\n",
              " 'thirtieth': 303,\n",
              " 'thirty': 342,\n",
              " 'this': 261,\n",
              " 'those': 436,\n",
              " 'three': 529,\n",
              " 'thrift': 410,\n",
              " 'through': 279,\n",
              " 'thursday': 77,\n",
              " 'thursdays': 500,\n",
              " 'ticket': 161,\n",
              " 'tickets': 313,\n",
              " 'time': 180,\n",
              " 'times': 235,\n",
              " 'to': 1,\n",
              " 'today': 284,\n",
              " 'tomorrow': 134,\n",
              " 'tonight': 704,\n",
              " 'too': 616,\n",
              " 'toronto': 115,\n",
              " 'total': 455,\n",
              " 'toward': 810,\n",
              " 'tower': 552,\n",
              " 'town': 854,\n",
              " 'train': 597,\n",
              " 'trans': 654,\n",
              " 'transcontinental': 602,\n",
              " 'transport': 326,\n",
              " 'transportation': 51,\n",
              " 'travel': 184,\n",
              " 'traveling': 365,\n",
              " 'travels': 862,\n",
              " 'trip': 49,\n",
              " 'trips': 484,\n",
              " 'try': 746,\n",
              " 'trying': 395,\n",
              " 'tuesday': 82,\n",
              " 'tuesdays': 454,\n",
              " 'turboprop': 521,\n",
              " 'twa': 154,\n",
              " 'twelfth': 323,\n",
              " 'twelve': 888,\n",
              " 'twentieth': 266,\n",
              " 'twenty': 91,\n",
              " 'two': 269,\n",
              " 'type': 168,\n",
              " 'types': 300,\n",
              " 'ua': 273,\n",
              " 'under': 319,\n",
              " 'united': 80,\n",
              " 'up': 556,\n",
              " 'us': 120,\n",
              " 'usa': 755,\n",
              " 'use': 383,\n",
              " 'used': 208,\n",
              " 'uses': 382,\n",
              " 'using': 278,\n",
              " 'utah': 604,\n",
              " 'various': 627,\n",
              " 'vegas': 95,\n",
              " 'very': 629,\n",
              " 'via': 270,\n",
              " 'vicinity': 790,\n",
              " 'visit': 760,\n",
              " 'want': 70,\n",
              " 'wanted': 640,\n",
              " 'wants': 788,\n",
              " 'washington': 32,\n",
              " 'way': 69,\n",
              " \"we're\": 518,\n",
              " 'wednesday': 44,\n",
              " \"wednesday's\": 691,\n",
              " 'wednesdays': 304,\n",
              " 'week': 267,\n",
              " 'weekday': 349,\n",
              " 'weekdays': 464,\n",
              " 'well': 516,\n",
              " 'west': 474,\n",
              " 'westchester': 277,\n",
              " 'what': 6,\n",
              " \"what're\": 415,\n",
              " \"what's\": 125,\n",
              " 'when': 350,\n",
              " 'where': 305,\n",
              " 'whether': 753,\n",
              " 'which': 62,\n",
              " 'while': 832,\n",
              " 'who': 580,\n",
              " 'will': 280,\n",
              " 'wish': 478,\n",
              " 'with': 59,\n",
              " 'within': 533,\n",
              " 'without': 586,\n",
              " 'working': 896,\n",
              " 'world': 655,\n",
              " 'worth': 111,\n",
              " 'would': 39,\n",
              " 'y': 347,\n",
              " 'year': 686,\n",
              " 'yes': 375,\n",
              " 'yn': 376,\n",
              " 'york': 73,\n",
              " \"york's\": 609,\n",
              " 'you': 48,\n",
              " 'your': 291,\n",
              " 'yyz': 819,\n",
              " 'zone': 818}"
            ]
          },
          "metadata": {
            "tags": []
          },
          "execution_count": 41
        }
      ]
    },
    {
      "cell_type": "code",
      "metadata": {
        "id": "VKA17pDYNglh",
        "colab_type": "code",
        "colab": {
          "base_uri": "https://localhost:8080/",
          "height": 68
        },
        "outputId": "7388e8e6-86c2-430e-b234-c2a4e8004ff0"
      },
      "source": [
        "train_sequences[:3]"
      ],
      "execution_count": 42,
      "outputs": [
        {
          "output_type": "execute_result",
          "data": {
            "text/plain": [
              "[[18, 70, 1, 38, 2, 9, 67, 402, 86, 16, 79, 15, 12, 67, 530, 15, 4, 35],\n",
              " [6, 3, 26, 58, 2, 19, 1, 22, 5, 77, 35],\n",
              " [6, 20, 4, 403, 180, 15, 11, 14, 37, 4, 531, 86, 8, 33, 32]]"
            ]
          },
          "metadata": {
            "tags": []
          },
          "execution_count": 42
        }
      ]
    },
    {
      "cell_type": "code",
      "metadata": {
        "ExecuteTime": {
          "end_time": "2020-01-21T03:17:08.464993Z",
          "start_time": "2020-01-21T03:17:08.455586Z"
        },
        "colab_type": "code",
        "id": "PyTlYCLQi_76",
        "colab": {
          "base_uri": "https://localhost:8080/",
          "height": 68
        },
        "outputId": "16f02387-ed4f-47dd-f7b7-8ee83663b82b"
      },
      "source": [
        "le = LabelEncoder()\n",
        "le.fit(train_labels)\n",
        "train_labels = le.transform(train_labels)\n",
        "test_labels = le.transform(test_labels)\n",
        "print(train_labels.shape)\n",
        "print(np.unique(train_labels))\n",
        "train_labels"
      ],
      "execution_count": 43,
      "outputs": [
        {
          "output_type": "stream",
          "text": [
            "(4952,)\n",
            "[ 0  1  2  3  4  5  6  7  8  9 10 11 12 13 14 15 16]\n"
          ],
          "name": "stdout"
        },
        {
          "output_type": "execute_result",
          "data": {
            "text/plain": [
              "array([ 9,  9, 11, ...,  3,  9,  9])"
            ]
          },
          "metadata": {
            "tags": []
          },
          "execution_count": 43
        }
      ]
    },
    {
      "cell_type": "code",
      "metadata": {
        "id": "dKWvNvC7Og8U",
        "colab_type": "code",
        "colab": {
          "base_uri": "https://localhost:8080/",
          "height": 153
        },
        "outputId": "72046fe2-3f20-4ba0-d78b-5da16695241c"
      },
      "source": [
        "#Converting this to sequences to be fed into neural network. Max seq. len is 1000 as set earlier\n",
        " #initial padding of 0s, until vector is of size MAX_SEQUENCE_LENGTH\n",
        "trainvalid_data = pad_sequences(train_sequences, maxlen=MAX_SEQUENCE_LENGTH)\n",
        "test_data = pad_sequences(test_sequences, maxlen=MAX_SEQUENCE_LENGTH)\n",
        "trainvalid_labels = to_categorical(train_labels)\n",
        "print(trainvalid_data.shape)\n",
        "trainvalid_data"
      ],
      "execution_count": 44,
      "outputs": [
        {
          "output_type": "stream",
          "text": [
            "(4952, 300)\n"
          ],
          "name": "stdout"
        },
        {
          "output_type": "execute_result",
          "data": {
            "text/plain": [
              "array([[  0,   0,   0, ...,  15,   4,  35],\n",
              "       [  0,   0,   0, ...,   5,  77,  35],\n",
              "       [  0,   0,   0, ...,   8,  33,  32],\n",
              "       ...,\n",
              "       [  0,   0,   0, ..., 230,  29,  12],\n",
              "       [  0,   0,   0, ..., 109,  15,  12],\n",
              "       [  0,   0,   0, ...,   1,  11,  14]], dtype=int32)"
            ]
          },
          "metadata": {
            "tags": []
          },
          "execution_count": 44
        }
      ]
    },
    {
      "cell_type": "code",
      "metadata": {
        "id": "rS0-2WyiBcNd",
        "colab_type": "code",
        "colab": {
          "base_uri": "https://localhost:8080/",
          "height": 153
        },
        "outputId": "8ff57482-3182-4042-a77b-ff1bebc441b4"
      },
      "source": [
        "print(trainvalid_labels.shape)\n",
        "trainvalid_labels"
      ],
      "execution_count": 58,
      "outputs": [
        {
          "output_type": "stream",
          "text": [
            "(4952, 17)\n"
          ],
          "name": "stdout"
        },
        {
          "output_type": "execute_result",
          "data": {
            "text/plain": [
              "array([[0., 0., 0., ..., 0., 0., 0.],\n",
              "       [0., 0., 0., ..., 0., 0., 0.],\n",
              "       [0., 0., 0., ..., 0., 0., 0.],\n",
              "       ...,\n",
              "       [0., 0., 0., ..., 0., 0., 0.],\n",
              "       [0., 0., 0., ..., 0., 0., 0.],\n",
              "       [0., 0., 0., ..., 0., 0., 0.]], dtype=float32)"
            ]
          },
          "metadata": {
            "tags": []
          },
          "execution_count": 58
        }
      ]
    },
    {
      "cell_type": "code",
      "metadata": {
        "id": "PBzdSm7cOyPl",
        "colab_type": "code",
        "colab": {
          "base_uri": "https://localhost:8080/",
          "height": 918
        },
        "outputId": "29518ef1-0022-492b-9db0-9c87c2dea4d9"
      },
      "source": [
        "print(np.unique(test_labels))\n",
        "test_labels"
      ],
      "execution_count": 45,
      "outputs": [
        {
          "output_type": "stream",
          "text": [
            "[ 0  1  2  3  4  5  7  8  9 10 11 12 13 14 15]\n"
          ],
          "name": "stdout"
        },
        {
          "output_type": "execute_result",
          "data": {
            "text/plain": [
              "array([ 9,  2,  9,  9,  9,  9,  9,  9,  9,  9,  9,  9,  9,  9,  9,  9,  9,\n",
              "        9,  9,  9,  9,  9,  9,  9,  9,  9,  9,  9,  9,  9,  9, 13,  9,  9,\n",
              "        9,  9,  9,  9,  9,  9,  9,  9,  9,  9,  9,  9,  9, 14, 14,  9,  9,\n",
              "        9,  9,  9,  9,  9,  9,  9,  9,  9,  9,  9,  9,  9,  9,  9,  9,  9,\n",
              "        9,  9,  9,  9,  9,  9,  9,  9,  9,  9,  9,  9,  9,  9,  9,  9,  9,\n",
              "        9,  9,  9,  9,  9,  4,  9,  9,  9,  9,  9,  9,  9,  9,  9,  2,  3,\n",
              "       11,  9,  9,  7,  3,  9,  9,  9,  9,  9,  9,  9,  9,  9, 13,  9,  9,\n",
              "        9,  9,  9,  9,  9,  9,  9,  3,  9,  9,  9,  9,  9,  9, 13, 12, 12,\n",
              "        9, 13,  9,  9,  9,  9,  9,  9,  9,  9,  9,  9,  9,  9,  9,  3,  9,\n",
              "        9,  9,  9,  9,  9,  9,  9, 15, 15, 15,  9,  9,  4,  9,  9,  9,  2,\n",
              "        2,  9,  0, 14,  9,  9,  9,  9,  9,  9,  9,  9,  9,  9,  9,  9,  9,\n",
              "        8,  8,  8,  8, 12, 12, 12, 12,  3,  9,  9,  2,  1,  9,  2,  9,  9,\n",
              "        9,  9,  9,  3,  3,  8,  9,  9,  9,  9,  9,  9,  9,  9,  9,  9,  9,\n",
              "        9,  0,  8,  8,  8,  8, 12,  9,  9,  9,  9,  9,  3,  5,  5,  9,  9,\n",
              "        9,  9,  9,  9,  9,  2,  0,  9,  9,  9,  9,  9,  9,  9,  9,  3,  2,\n",
              "        2,  9,  9,  9,  9,  9,  9,  9,  9,  9,  9,  9,  9,  9,  9,  9,  9,\n",
              "        0,  9,  9,  9,  9,  9,  9,  9,  9,  9,  9,  0,  3,  9,  9,  9,  9,\n",
              "        9,  9,  9,  9,  9,  9,  9,  3,  9,  9,  9,  9,  2,  2,  2,  2, 13,\n",
              "        9, 13,  3,  2,  9,  9,  9,  9,  9,  9,  9,  9,  0,  9,  9, 14, 13,\n",
              "        9,  9,  2,  0,  2,  9,  9,  9,  9,  9,  0,  0,  9,  9,  9,  0,  9,\n",
              "        9,  9,  9, 13,  9, 13,  9,  9,  9,  3,  9,  0,  0,  9,  0,  9,  3,\n",
              "        9,  9, 13,  5,  5,  9, 13,  5,  9,  3,  9,  9, 13,  9, 13,  9, 13,\n",
              "        1,  9,  9,  9,  9,  9,  9,  9,  9,  9,  9,  9,  9,  9,  9,  9,  9,\n",
              "        9,  9,  9,  9,  9,  9,  2,  2,  2,  9,  9,  9,  9,  9,  9,  9,  9,\n",
              "        9,  9,  9,  9, 13,  9,  9,  9,  9,  9,  9,  9,  9,  9,  9,  9,  9,\n",
              "        9,  2,  9,  2,  2,  9,  9,  9,  9,  9,  9,  9, 13,  9, 13,  9,  9,\n",
              "        9,  9,  9,  9,  9,  9,  9,  9,  2,  9,  9,  2,  2,  2,  2,  2,  2,\n",
              "        9,  9,  9,  9,  9,  9,  9,  9,  9,  9,  9,  9,  9,  9, 13,  9,  9,\n",
              "        9,  9,  9,  9, 13, 13,  9, 13,  9, 10,  4,  4,  4,  4,  9,  4,  4,\n",
              "        9,  9,  3,  9,  0,  9,  9,  1,  9,  9,  2,  2,  9, 13,  9,  9,  9,\n",
              "        9,  9,  9, 10,  9,  0,  9,  0,  2,  9,  0,  0,  0,  0,  9,  9,  9,\n",
              "        3,  9,  9,  3,  9,  0,  9,  0,  0,  0,  0,  9,  9,  9,  9,  9,  9,\n",
              "        9,  9,  9,  9,  9,  9,  3, 13, 13,  9,  9,  9,  3,  3,  3,  3,  3,\n",
              "        9,  3,  9,  9,  9,  3,  9,  9,  3, 13,  9, 13,  9,  9,  9,  9,  9,\n",
              "        9,  0,  9,  0,  0,  3,  3,  3,  3,  9,  9,  9,  9,  9,  3,  9,  9,\n",
              "        9,  9,  9,  9,  9,  9,  9,  9,  9,  9,  8,  4,  4,  4,  4,  4,  4,\n",
              "        4,  7,  7,  9,  9,  9,  9,  9,  9,  9,  9,  9,  9,  1,  0,  9,  2,\n",
              "        2,  9,  9,  9,  9,  9,  3,  9,  5,  9, 13, 13,  9,  9,  9,  9,  2,\n",
              "        9,  2,  9,  9,  9,  9,  9,  9,  9,  9,  9,  9,  9,  9,  9,  9,  9,\n",
              "        9,  9,  9,  9,  9,  9,  2,  2, 10, 10,  9, 10, 10, 10, 10,  2,  2,\n",
              "        9,  9,  9,  9,  9,  9,  9,  2,  2,  9,  9,  9,  9,  9,  9,  9,  9,\n",
              "        9,  9,  9,  9,  9,  9,  9,  9,  9,  9,  9,  7,  7,  7,  9,  9,  9,\n",
              "        9,  0,  1,  0,  4,  9,  9,  9, 14, 14,  9,  9,  9,  9,  2,  2,  2,\n",
              "        2,  2,  9,  9,  9,  9,  9,  9,  9,  9,  9,  5,  5,  5,  5,  5,  5,\n",
              "        3,  3,  3,  9,  5,  0,  5,  5,  5,  5,  9,  9,  9,  5,  1,  1,  1,\n",
              "        5,  5,  5,  9,  9,  9,  9,  9, 13,  9,  0, 13, 13, 13, 13,  9,  9,\n",
              "       13,  9,  9,  9,  9,  3,  9,  9,  9,  9,  9,  2,  9,  9,  9,  9,  9,\n",
              "        9,  9,  9,  9,  1,  9,  9,  9,  9,  9, 13, 13,  9,  9,  9,  9,  9,\n",
              "        9,  9,  9,  9,  9,  9,  9,  9,  9,  9,  9,  9,  9,  9,  9,  9,  9,\n",
              "        9,  9,  9,  9,  9,  9,  9,  9,  9,  9,  9,  9,  9,  9,  9,  9,  9,\n",
              "        9,  9,  9,  9,  9,  9,  9,  9,  9,  9,  9,  9,  9,  9,  3,  9,  9,\n",
              "        9,  4,  9,  4,  9,  9,  9,  9,  9])"
            ]
          },
          "metadata": {
            "tags": []
          },
          "execution_count": 45
        }
      ]
    },
    {
      "cell_type": "code",
      "metadata": {
        "id": "64uuN39wA2sM",
        "colab_type": "code",
        "colab": {
          "base_uri": "https://localhost:8080/",
          "height": 34
        },
        "outputId": "ed686144-aa9f-4960-b9d9-51869ef7f9d7"
      },
      "source": [
        "len(set(train_labels))"
      ],
      "execution_count": 53,
      "outputs": [
        {
          "output_type": "execute_result",
          "data": {
            "text/plain": [
              "17"
            ]
          },
          "metadata": {
            "tags": []
          },
          "execution_count": 53
        }
      ]
    },
    {
      "cell_type": "code",
      "metadata": {
        "id": "NM6HY0U7AyUB",
        "colab_type": "code",
        "colab": {
          "base_uri": "https://localhost:8080/",
          "height": 34
        },
        "outputId": "86155b1c-caef-428a-ee3c-c33dbd0126a7"
      },
      "source": [
        "trainvalid_labels.shape"
      ],
      "execution_count": 49,
      "outputs": [
        {
          "output_type": "execute_result",
          "data": {
            "text/plain": [
              "(4952, 17)"
            ]
          },
          "metadata": {
            "tags": []
          },
          "execution_count": 49
        }
      ]
    },
    {
      "cell_type": "code",
      "metadata": {
        "id": "3q3DPsRcBSDB",
        "colab_type": "code",
        "colab": {
          "base_uri": "https://localhost:8080/",
          "height": 34
        },
        "outputId": "48de903e-e5a5-46de-ad2a-c93012c9a350"
      },
      "source": [
        "len(set(test_labels))"
      ],
      "execution_count": 56,
      "outputs": [
        {
          "output_type": "execute_result",
          "data": {
            "text/plain": [
              "15"
            ]
          },
          "metadata": {
            "tags": []
          },
          "execution_count": 56
        }
      ]
    },
    {
      "cell_type": "code",
      "metadata": {
        "id": "WcsNLF7VAsqY",
        "colab_type": "code",
        "colab": {
          "base_uri": "https://localhost:8080/",
          "height": 34
        },
        "outputId": "80f667fc-3540-4e0c-95bc-dbde34a7eedd"
      },
      "source": [
        "test_labels.shape"
      ],
      "execution_count": 47,
      "outputs": [
        {
          "output_type": "execute_result",
          "data": {
            "text/plain": [
              "(876,)"
            ]
          },
          "metadata": {
            "tags": []
          },
          "execution_count": 47
        }
      ]
    },
    {
      "cell_type": "code",
      "metadata": {
        "id": "zb_Py_MwOpVb",
        "colab_type": "code",
        "colab": {
          "base_uri": "https://localhost:8080/",
          "height": 153
        },
        "outputId": "46a3c57e-c3e7-4497-b406-817668196679"
      },
      "source": [
        "#DNN change test_labels = test_labels_new:\n",
        "# Trainlabel co 17 unique label, hot encoding thanh 4952x17, ap dung cung shape encoding nay cho test label (15 unique thoi)\n",
        "test_labels_new = to_categorical(np.asarray(test_labels), num_classes= trainvalid_labels.shape[1])\n",
        "print(test_labels_new.shape)\n",
        "test_labels_new"
      ],
      "execution_count": 46,
      "outputs": [
        {
          "output_type": "stream",
          "text": [
            "(876, 17)\n"
          ],
          "name": "stdout"
        },
        {
          "output_type": "execute_result",
          "data": {
            "text/plain": [
              "array([[0., 0., 0., ..., 0., 0., 0.],\n",
              "       [0., 0., 1., ..., 0., 0., 0.],\n",
              "       [0., 0., 0., ..., 0., 0., 0.],\n",
              "       ...,\n",
              "       [0., 0., 0., ..., 0., 0., 0.],\n",
              "       [0., 0., 0., ..., 0., 0., 0.],\n",
              "       [0., 0., 0., ..., 0., 0., 0.]], dtype=float32)"
            ]
          },
          "metadata": {
            "tags": []
          },
          "execution_count": 46
        }
      ]
    },
    {
      "cell_type": "code",
      "metadata": {
        "ExecuteTime": {
          "end_time": "2020-01-21T03:18:09.843555Z",
          "start_time": "2020-01-21T03:18:09.802336Z"
        },
        "colab_type": "code",
        "id": "XPdDoAAli_8K",
        "colab": {
          "base_uri": "https://localhost:8080/",
          "height": 34
        },
        "outputId": "5ce195b8-1230-438c-f330-b1331d22b363"
      },
      "source": [
        "# split the training data into a training set and a validation set\n",
        "indices = np.arange(trainvalid_data.shape[0])\n",
        "np.random.shuffle(indices)\n",
        "trainvalid_data = trainvalid_data[indices]\n",
        "trainvalid_labels = trainvalid_labels[indices]\n",
        "num_validation_samples = int(VALIDATION_SPLIT * trainvalid_data.shape[0])\n",
        "x_train = trainvalid_data[:-num_validation_samples]\n",
        "y_train = trainvalid_labels[:-num_validation_samples]\n",
        "x_val = trainvalid_data[-num_validation_samples:]\n",
        "y_val = trainvalid_labels[-num_validation_samples:]\n",
        "#This is the data we will use for CNN and RNN training\n",
        "print('Splitting the train data into train and valid is done')"
      ],
      "execution_count": 59,
      "outputs": [
        {
          "output_type": "stream",
          "text": [
            "Splitting the train data into train and valid is done\n"
          ],
          "name": "stdout"
        }
      ]
    },
    {
      "cell_type": "code",
      "metadata": {
        "id": "RfwoQv-MCE8o",
        "colab_type": "code",
        "colab": {
          "base_uri": "https://localhost:8080/",
          "height": 85
        },
        "outputId": "77c2b307-c217-47d4-a3ab-a01cf01ee2ec"
      },
      "source": [
        "print(x_train.shape)\n",
        "print(y_train.shape)\n",
        "print(x_val.shape)\n",
        "print(y_val.shape)"
      ],
      "execution_count": 65,
      "outputs": [
        {
          "output_type": "stream",
          "text": [
            "(3467, 300)\n",
            "(3467, 17)\n",
            "(1485, 300)\n",
            "(1485, 17)\n"
          ],
          "name": "stdout"
        }
      ]
    },
    {
      "cell_type": "code",
      "metadata": {
        "id": "Dzw0bCvNBuL2",
        "colab_type": "code",
        "colab": {
          "base_uri": "https://localhost:8080/",
          "height": 153
        },
        "outputId": "88c469f7-6bc0-458a-eac6-5f7673dc7c64"
      },
      "source": [
        "\n",
        "x_train"
      ],
      "execution_count": 61,
      "outputs": [
        {
          "output_type": "stream",
          "text": [
            "(3467, 300)\n"
          ],
          "name": "stdout"
        },
        {
          "output_type": "execute_result",
          "data": {
            "text/plain": [
              "array([[  0,   0,   0, ..., 172,  82,  63],\n",
              "       [  0,   0,   0, ..., 171, 102,  36],\n",
              "       [  0,   0,   0, ...,  12,   1,  24],\n",
              "       ...,\n",
              "       [  0,   0,   0, ...,   9,   1,  24],\n",
              "       [  0,   0,   0, ...,  19,  16,  17],\n",
              "       [  0,   0,   0, ...,   9,   1,  19]], dtype=int32)"
            ]
          },
          "metadata": {
            "tags": []
          },
          "execution_count": 61
        }
      ]
    },
    {
      "cell_type": "code",
      "metadata": {
        "id": "rzNtLoRSByDE",
        "colab_type": "code",
        "colab": {
          "base_uri": "https://localhost:8080/",
          "height": 153
        },
        "outputId": "8452d9aa-6dec-4940-bcf9-0ef4bf48df9b"
      },
      "source": [
        "\n",
        "y_train"
      ],
      "execution_count": 64,
      "outputs": [
        {
          "output_type": "stream",
          "text": [
            "(3467, 17)\n"
          ],
          "name": "stdout"
        },
        {
          "output_type": "execute_result",
          "data": {
            "text/plain": [
              "array([[0., 0., 0., ..., 0., 0., 0.],\n",
              "       [0., 0., 0., ..., 0., 0., 0.],\n",
              "       [0., 0., 0., ..., 0., 0., 0.],\n",
              "       ...,\n",
              "       [0., 0., 0., ..., 0., 0., 0.],\n",
              "       [0., 0., 0., ..., 0., 0., 0.],\n",
              "       [0., 0., 0., ..., 0., 0., 0.]], dtype=float32)"
            ]
          },
          "metadata": {
            "tags": []
          },
          "execution_count": 64
        }
      ]
    },
    {
      "cell_type": "code",
      "metadata": {
        "id": "14yBFPC7DaLv",
        "colab_type": "code",
        "colab": {
          "base_uri": "https://localhost:8080/",
          "height": 54
        },
        "outputId": "c8dc408d-92f4-4ad0-813e-76a0b0ca94d9"
      },
      "source": [
        "word_index.items()"
      ],
      "execution_count": 68,
      "outputs": [
        {
          "output_type": "execute_result",
          "data": {
            "text/plain": [
              "dict_items([('to', 1), ('from', 2), ('flights', 3), ('the', 4), ('on', 5), ('what', 6), ('me', 7), ('flight', 8), ('boston', 9), ('show', 10), ('san', 11), ('denver', 12), ('a', 13), ('francisco', 14), ('in', 15), ('and', 16), ('atlanta', 17), ('i', 18), ('pittsburgh', 19), ('is', 20), ('dallas', 21), ('baltimore', 22), ('all', 23), ('philadelphia', 24), ('like', 25), ('are', 26), ('list', 27), ('airlines', 28), ('of', 29), ('that', 30), ('between', 31), ('washington', 32), ('leaving', 33), ('please', 34), ('morning', 35), ('pm', 36), ('for', 37), ('fly', 38), ('would', 39), ('fare', 40), ('first', 41), ('oakland', 42), ('there', 43), ('wednesday', 44), ('after', 45), ('ground', 46), (\"i'd\", 47), ('you', 48), ('trip', 49), ('does', 50), ('transportation', 51), ('cheapest', 52), ('class', 53), ('need', 54), ('round', 55), ('city', 56), ('arriving', 57), ('available', 58), ('with', 59), ('have', 60), ('before', 61), ('which', 62), ('afternoon', 63), ('american', 64), ('one', 65), ('give', 66), ('at', 67), ('new', 68), ('way', 69), ('want', 70), ('fares', 71), ('leave', 72), ('york', 73), ('dc', 74), ('earliest', 75), ('monday', 76), ('thursday', 77), ('nonstop', 78), ('arrive', 79), ('united', 80), ('airport', 81), ('tuesday', 82), ('how', 83), ('go', 84), ('information', 85), ('am', 86), ('st', 87), ('can', 88), ('milwaukee', 89), ('find', 90), ('twenty', 91), ('miami', 92), ('sunday', 93), ('evening', 94), ('vegas', 95), ('noon', 96), ('delta', 97), ('las', 98), ('newark', 99), ('any', 100), ('chicago', 101), (\"o'clock\", 102), ('charlotte', 103), ('phoenix', 104), ('do', 105), ('continental', 106), ('august', 107), ('saturday', 108), ('stop', 109), ('fort', 110), ('worth', 111), ('july', 112), ('diego', 113), ('friday', 114), ('toronto', 115), ('next', 116), ('airline', 117), ('early', 118), ('orlando', 119), ('us', 120), ('air', 121), ('houston', 122), ('seventh', 123), ('seattle', 124), (\"what's\", 125), ('tell', 126), ('5', 127), ('kansas', 128), ('indianapolis', 129), ('or', 130), ('code', 131), ('latest', 132), ('downtown', 133), ('tomorrow', 134), ('aircraft', 135), ('cleveland', 136), ('cost', 137), ('los', 138), ('angeles', 139), ('going', 140), ('salt', 141), ('lake', 142), ('around', 143), ('stopover', 144), ('an', 145), ('6', 146), ('many', 147), ('10', 148), ('montreal', 149), ('memphis', 150), ('by', 151), ('about', 152), ('see', 153), ('twa', 154), ('june', 155), ('8', 156), ('may', 157), ('get', 158), ('mean', 159), ('tampa', 160), ('ticket', 161), ('expensive', 162), ('could', 163), ('petersburg', 164), ('nashville', 165), (\"i'm\", 166), ('jose', 167), ('type', 168), ('dollars', 169), ('minneapolis', 170), ('7', 171), ('leaves', 172), ('than', 173), ('departing', 174), ('much', 175), ('12', 176), ('long', 177), ('louis', 178), ('international', 179), ('time', 180), ('tacoma', 181), ('service', 182), ('know', 183), ('travel', 184), ('cincinnati', 185), ('least', 186), ('daily', 187), ('book', 188), ('meal', 189), ('into', 190), ('4', 191), ('okay', 192), ('depart', 193), ('beach', 194), ('economy', 195), ('coach', 196), ('lowest', 197), ('november', 198), ('less', 199), ('paul', 200), ('last', 201), ('detroit', 202), ('day', 203), ('serve', 204), ('night', 205), ('september', 206), ('california', 207), ('used', 208), ('serves', 209), ('love', 210), ('field', 211), ('second', 212), ('columbus', 213), ('northwest', 214), ('it', 215), ('now', 216), ('return', 217), ('9', 218), ('kind', 219), ('general', 220), ('mitchell', 221), ('december', 222), ('arrives', 223), ('third', 224), ('flying', 225), ('stops', 226), ('1000', 227), ('2', 228), ('direct', 229), ('out', 230), ('make', 231), ('be', 232), ('breakfast', 233), ('burbank', 234), ('times', 235), ('airports', 236), ('la', 237), ('take', 238), ('schedule', 239), ('as', 240), ('possible', 241), ('april', 242), ('car', 243), ('looking', 244), ('stopping', 245), ('eastern', 246), ('restriction', 247), ('cities', 248), ('has', 249), ('goes', 250), ('fifth', 251), ('fourth', 252), ('dl', 253), ('late', 254), ('price', 255), ('eighth', 256), ('connecting', 257), ('1991', 258), ('interested', 259), ('business', 260), ('this', 261), ('served', 262), ('dinner', 263), ('prices', 264), ('number', 265), ('twentieth', 266), ('week', 267), ('also', 268), ('two', 269), ('via', 270), ('ontario', 271), ('3', 272), ('ua', 273), ('airfare', 274), ('most', 275), ('fifteenth', 276), ('westchester', 277), ('using', 278), ('through', 279), ('will', 280), ('rental', 281), ('arrangements', 282), ('other', 283), ('today', 284), ('returning', 285), ('ninth', 286), ('back', 287), ('plane', 288), ('same', 289), ('stand', 290), ('your', 291), ('bwi', 292), ('sixth', 293), ('display', 294), ('then', 295), ('county', 296), ('flies', 297), ('ap', 298), ('limousine', 299), ('types', 300), ('midwest', 301), ('express', 302), ('thirtieth', 303), ('wednesdays', 304), ('where', 305), ('classes', 306), ('only', 307), ('1', 308), ('listing', 309), ('florida', 310), ('eleventh', 311), ('tenth', 312), ('tickets', 313), ('qx', 314), ('either', 315), ('october', 316), ('north', 317), ('carolina', 318), ('under', 319), ('smallest', 320), ('f', 321), ('lunch', 322), ('twelfth', 323), ('should', 324), ('again', 325), ('transport', 326), ('h', 327), ('canadian', 328), ('capacity', 329), ('guardia', 330), ('jersey', 331), ('meals', 332), ('if', 333), ('colorado', 334), ('57', 335), ('explain', 336), ('shortest', 337), ('mco', 338), ('sixteenth', 339), ('seating', 340), ('fourteenth', 341), ('thirty', 342), ('makes', 343), ('airplane', 344), ('my', 345), ('hi', 346), ('y', 347), ('january', 348), ('weekday', 349), ('when', 350), ('live', 351), ('departure', 352), ('ewr', 353), ('planes', 354), ('some', 355), ('thank', 356), ('march', 357), ('no', 358), ('nineteenth', 359), ('seventeenth', 360), ('layover', 361), ('dfw', 362), ('but', 363), ('landings', 364), ('traveling', 365), ('people', 366), ('right', 367), ('far', 368), ('both', 369), ('distance', 370), ('serving', 371), ('offer', 372), ('logan', 373), ('boeing', 374), ('yes', 375), ('yn', 376), ('466', 377), ('each', 378), ('11', 379), ('abbreviation', 380), ('hp', 381), ('uses', 382), ('use', 383), ('over', 384), ('hours', 385), ('codes', 386), ('arrange', 387), ('booking', 388), ('coming', 389), ('q', 390), ('qw', 391), ('during', 392), ('sfo', 393), ('630', 394), ('trying', 395), ('canada', 396), ('281', 397), ('takeoffs', 398), ('later', 399), ('qo', 400), ('february', 401), ('838', 402), ('arrival', 403), ('numbers', 404), ('arrivals', 405), ('midnight', 406), ('rent', 407), ('southwest', 408), ('stopovers', 409), ('thrift', 410), ('ohio', 411), ('530', 412), ('430', 413), ('nationair', 414), (\"what're\", 415), ('jfk', 416), ('eighteenth', 417), ('days', 418), ('starting', 419), ('provided', 420), (\"let's\", 421), ('name', 422), ('lufthansa', 423), ('ff', 424), ('ea', 425), ('747', 426), ('making', 427), ('mornings', 428), ('sometime', 429), ('these', 430), (\"i'll\", 431), ('anywhere', 432), ('area', 433), ('230', 434), ('cheap', 435), ('those', 436), ('seats', 437), ('pennsylvania', 438), ('saturdays', 439), ('sixteen', 440), ('costs', 441), ('departures', 442), ('passengers', 443), ('rates', 444), ('hello', 445), ('1115', 446), ('1245', 447), ('land', 448), ('so', 449), ('1992', 450), ('825', 451), ('help', 452), ('six', 453), ('tuesdays', 454), ('total', 455), ('connect', 456), ('718', 457), ('ap57', 458), ('following', 459), ('amount', 460), ('2100', 461), ('s', 462), ('more', 463), ('weekdays', 464), ('near', 465), ('destination', 466), ('another', 467), ('georgia', 468), ('departs', 469), ('requesting', 470), ('kinds', 471), ('reservation', 472), ('america', 473), ('west', 474), ('rentals', 475), ('sorry', 476), ('heading', 477), ('wish', 478), ('close', 479), ('737', 480), ('f28', 481), ('minnesota', 482), ('their', 483), ('trips', 484), ('813', 485), ('maximum', 486), ('choices', 487), ('offers', 488), ('80', 489), ('fit', 490), ('sa', 491), ('fn', 492), ('co', 493), ('services', 494), ('taxi', 495), ('555', 496), ('plan', 497), ('define', 498), ('connections', 499), ('thursdays', 500), ('1291', 501), ('21', 502), ('texas', 503), ('nw', 504), ('describe', 505), ('originating', 506), ('options', 507), ('noontime', 508), ('ten', 509), ('tennessee', 510), ('dc10', 511), ('different', 512), ('296', 513), (\"delta's\", 514), ('934', 515), ('well', 516), ('include', 517), (\"we're\", 518), ('cars', 519), ('provide', 520), ('turboprop', 521), ('sundays', 522), ('270', 523), ('meaning', 524), ('415', 525), ('stands', 526), ('ap80', 527), ('great', 528), ('three', 529), ('1110', 530), ('755', 531), ('720', 532), ('within', 533), ('c', 534), ('snack', 535), ('rate', 536), ('sure', 537), ('serviced', 538), ('100', 539), ('abbreviations', 540), ('852', 541), ('approximately', 542), ('say', 543), ('difference', 544), ('four', 545), ('highest', 546), ('connection', 547), ('1700', 548), ('ord', 549), ('2134', 550), ('database', 551), ('tower', 552), ('1765', 553), ('soon', 554), ('eight', 555), ('up', 556), ('quebec', 557), ('originate', 558), ('look', 559), ('m80', 560), ('m', 561), ('72s', 562), ('cp', 563), ('carries', 564), ('restrictions', 565), ('here', 566), ('201', 567), ('philly', 568), ('located', 569), ('dinnertime', 570), ('lastest', 571), ('1222', 572), ('they', 573), ('just', 574), ('d', 575), ('limo', 576), ('3724', 577), ('210', 578), ('stapleton', 579), ('who', 580), ('343', 581), ('1145', 582), ('schedules', 583), ('932', 584), ('nonstops', 585), ('without', 586), ('landing', 587), ('b', 588), ('midway', 589), ('217', 590), ('bound', 591), ('727', 592), ('takeoff', 593), ('324', 594), ('alaska', 595), ('michigan', 596), ('train', 597), ('arizona', 598), ('along', 599), ('friends', 600), ('thirteenth', 601), ('transcontinental', 602), ('missouri', 603), ('utah', 604), ('dulles', 605), (\"atlanta's\", 606), (\"american's\", 607), ('reservations', 608), (\"york's\", 609), ('lives', 610), ('767', 611), ('269', 612), ('ac', 613), ('757', 614), ('atl', 615), ('too', 616), ('month', 617), ('taking', 618), ('845', 619), ('airplanes', 620), ('buy', 621), (\"sunday's\", 622), ('still', 623), ('itinerary', 624), ('actually', 625), ('earlier', 626), ('various', 627), ('reaching', 628), ('very', 629), ('names', 630), ('505', 631), ('proper', 632), ('beginning', 633), ('being', 634), ('329', 635), ('352', 636), (\"don't\", 637), ('1024', 638), ('such', 639), ('wanted', 640), ('615', 641), ('mealtime', 642), ('provides', 643), ('prefer', 644), ('1288', 645), ('257', 646), ('across', 647), ('continent', 648), ('overnight', 649), ('local', 650), ('route', 651), ('746', 652), ('represented', 653), ('trans', 654), ('world', 655), ('1030', 656), ('1130', 657), ('discount', 658), ('2153', 659), ('thereafter', 660), ('71', 661), ('supper', 662), ('bna', 663), ('106', 664), ('d9s', 665), ('afterwards', 666), ('345', 667), ('19', 668), ('82', 669), ('139', 670), ('repeating', 671), ('1100', 672), ('420', 673), ('regarding', 674), ('nights', 675), ('seven', 676), ('416', 677), ('kindly', 678), ('limousines', 679), ('place', 680), ('includes', 681), ('1026', 682), ('124', 683), ('fifteen', 684), ('oh', 685), ('year', 686), ('including', 687), (\"o'hare\", 688), ('815', 689), ('928', 690), (\"wednesday's\", 691), ('bur', 692), ('315', 693), ('1039', 694), ('longest', 695), ('grounds', 696), ('200', 697), ('must', 698), ('operation', 699), ('297', 700), ('question', 701), ('laying', 702), ('650', 703), ('tonight', 704), ('ls', 705), ('1600', 706), ('inform', 707), ('k', 708), ('aa', 709), ('459', 710), ('calling', 711), ('designate', 712), ('spend', 713), ('hou', 714), ('1220', 715), ('directly', 716), ('reverse', 717), ('belong', 718), ('445', 719), ('515', 720), ('150', 721), ('110', 722), ('connects', 723), ('charges', 724), ('minimum', 725), ('intercontinental', 726), ('seat', 727), ('final', 728), ('capacities', 729), ('823', 730), ('1059', 731), ('271', 732), ('able', 733), ('put', 734), ('locate', 735), ('hartfield', 736), ('scheduled', 737), ('225', 738), ('1158', 739), ('equipment', 740), ('begins', 741), ('lands', 742), ('reaches', 743), ('carried', 744), ('indiana', 745), ('try', 746), ('130', 747), ('continuing', 748), ('lester', 749), ('pearson', 750), ('everywhere', 751), ('73s', 752), ('whether', 753), ('offered', 754), ('usa', 755), ('red', 756), ('eye', 757), ('1045', 758), ('currently', 759), ('visit', 760), ('them', 761), ('55', 762), ('determine', 763), ('thing', 764), ('705', 765), ('fridays', 766), ('catch', 767), ('straight', 768), ('planning', 769), ('listed', 770), ('1055', 771), ('405', 772), ('equal', 773), ('hopefully', 774), ('symbols', 775), ('sort', 776), ('cover', 777), ('810', 778), ('operating', 779), ('1205', 780), ('mondays', 781), ('733', 782), ('besides', 783), (\"i've\", 784), ('got', 785), ('somebody', 786), ('else', 787), ('wants', 788), ('level', 789), ('vicinity', 790), ('311', 791), ('mia', 792), ('instead', 793), ('eleven', 794), ('off', 795), (\"it's\", 796), ('greatest', 797), ('summer', 798), ('300', 799), ('lax', 800), ('economic', 801), ('bay', 802), ('402', 803), ('j31', 804), ('1020', 805), ('730', 806), ('400', 807), (\"doesn't\", 808), ('1993', 809), ('toward', 810), ('home', 811), ('1850', 812), ('1505', 813), ('runs', 814), ('723', 815), ('thanks', 816), ('bring', 817), ('zone', 818), ('yyz', 819), ('non', 820), ('500', 821), ('airfares', 822), ('come', 823), ('428', 824), ('98', 825), ('qualify', 826), ('279', 827), ('137338', 828), ('d10', 829), ('539', 830), ('fine', 831), ('while', 832), ('1200', 833), ('concerning', 834), ('iah', 835), ('1230', 836), ('preferably', 837), ('let', 838), ('3357', 839), ('323', 840), ('229', 841), ('inexpensive', 842), ('734', 843), ('1017', 844), ('1083', 845), ('0900', 846), ('645', 847), ('single', 848), ('ap68', 849), ('4400', 850), ('1133', 851), ('43', 852), ('once', 853), ('town', 854), ('212', 855), ('305', 856), ('anything', 857), ('771', 858), ('jet', 859), ('nevada', 860), ('staying', 861), ('travels', 862), ('order', 863), ('497766', 864), ('sounds', 865), ('start', 866), ('run', 867), ('1500', 868), ('hold', 869), ('listings', 870), ('1209', 871), ('sd', 872), ('1300', 873), ('enroute', 874), ('takes', 875), ('advertises', 876), ('having', 877), (\"friday's\", 878), ('seventeen', 879), ('companies', 880), ('1940', 881), ('priced', 882), ('closest', 883), ('gets', 884), ('afternoons', 885), ('largest', 886), ('oak', 887), ('twelve', 888), (\"that's\", 889), ('163', 890), (\"one's\", 891), ('nighttime', 892), ('819', 893), ('417', 894), ('repeat', 895), ('working', 896), ('scenario', 897)])"
            ]
          },
          "metadata": {
            "tags": []
          },
          "execution_count": 68
        }
      ]
    },
    {
      "cell_type": "code",
      "metadata": {
        "ExecuteTime": {
          "end_time": "2020-01-21T03:18:41.097840Z",
          "start_time": "2020-01-21T03:18:14.824841Z"
        },
        "colab_type": "code",
        "id": "gSKw8NHxi_8O",
        "colab": {
          "base_uri": "https://localhost:8080/",
          "height": 68
        },
        "outputId": "01394bc7-67b5-472e-dfcb-618cd15e8f1c"
      },
      "source": [
        "print('Preparing embedding matrix.')\n",
        "\n",
        "# first, build index mapping words in the embeddings set\n",
        "# to their embedding vector\n",
        "\n",
        "# Download GloVe 6B from here: https://nlp.stanford.edu/projects/glove/\n",
        "#BASE_DIR = 'Data'\n",
        "#GLOVE_DIR = os.path.join(BASE_DIR, 'glove.6B')\n",
        "path='/content/drive/My Drive/Data/NLP/glove.6B.100d.txt'\n",
        "embeddings_index = {}\n",
        "with open(path, encoding=\"utf-8\") as f:\n",
        "    for line in f:\n",
        "        values = line.split()\n",
        "        word = values[0]\n",
        "        coefs = np.asarray(values[1:], dtype='float32')\n",
        "        embeddings_index[word] = coefs\n",
        "\n",
        "print('Found %s word vectors in Glove embeddings.' % len(embeddings_index))\n",
        "#print(embeddings_index[\"google\"])\n",
        "\n",
        "# prepare embedding matrix - rows are the words from word_index, columns are the embeddings of that word from glove.\n",
        "num_words = min(MAX_NUM_WORDS, len(word_index)) + 1\n",
        "embedding_matrix = np.zeros((num_words, EMBEDDING_DIM))\n",
        "for word, i in word_index.items():\n",
        "    if i > MAX_NUM_WORDS:\n",
        "        continue\n",
        "    embedding_vector = embeddings_index.get(word)\n",
        "    if embedding_vector is not None:\n",
        "        # words not found in embedding index will be all-zeros.\n",
        "        embedding_matrix[i] = embedding_vector\n",
        "\n",
        "# load these pre-trained word embeddings into an Embedding layer\n",
        "# note that we set trainable = False so as to keep the embeddings fixed\n",
        "embedding_layer = Embedding(num_words,\n",
        "                            EMBEDDING_DIM,\n",
        "                            embeddings_initializer=Constant(embedding_matrix),\n",
        "                            input_length=MAX_SEQUENCE_LENGTH,\n",
        "                            trainable=False)\n",
        "print(\"Preparing of embedding matrix is done\")"
      ],
      "execution_count": 67,
      "outputs": [
        {
          "output_type": "stream",
          "text": [
            "Preparing embedding matrix.\n",
            "Found 400000 word vectors in Glove embeddings.\n",
            "Preparing of embedding matrix is done\n"
          ],
          "name": "stdout"
        }
      ]
    },
    {
      "cell_type": "code",
      "metadata": {
        "id": "_Ry3fDkgEJEE",
        "colab_type": "code",
        "colab": {
          "base_uri": "https://localhost:8080/",
          "height": 51
        },
        "outputId": "a7e3e471-f135-455a-908d-c369ffcda78b"
      },
      "source": [
        "print(x_train.shape)\n",
        "print(y_train.shape)"
      ],
      "execution_count": 70,
      "outputs": [
        {
          "output_type": "stream",
          "text": [
            "(3467, 300)\n",
            "(3467, 17)\n"
          ],
          "name": "stdout"
        }
      ]
    },
    {
      "cell_type": "code",
      "metadata": {
        "ExecuteTime": {
          "end_time": "2020-01-21T03:19:56.592225Z",
          "start_time": "2020-01-21T03:19:49.795954Z"
        },
        "colab_type": "code",
        "id": "w1sdtUNYi_8T",
        "colab": {
          "base_uri": "https://localhost:8080/",
          "height": 530
        },
        "outputId": "137edf98-64cd-460e-ed4f-bc466cda6a76"
      },
      "source": [
        "print('Define a 1D CNN model.')\n",
        "\n",
        "cnnmodel = Sequential()\n",
        "cnnmodel.add(embedding_layer)\n",
        "cnnmodel.add(Conv1D(128, 5, activation='relu'))\n",
        "cnnmodel.add(MaxPooling1D(5))\n",
        "cnnmodel.add(Conv1D(128, 5, activation='relu'))\n",
        "cnnmodel.add(MaxPooling1D(5))\n",
        "cnnmodel.add(Conv1D(128, 5, activation='relu'))\n",
        "cnnmodel.add(GlobalMaxPooling1D())\n",
        "cnnmodel.add(Dense(128, activation='relu'))\n",
        "cnnmodel.add(Dense(len(trainvalid_labels[0]), activation='softmax'))\n",
        "\n",
        "cnnmodel.compile(loss='categorical_crossentropy',\n",
        "              optimizer='rmsprop',\n",
        "              metrics=['acc'])\n",
        "\n",
        "cnnmodel.summary()\n",
        "\n",
        "#Train the model. Tune to validation set. \n",
        "cnnmodel.fit(x_train, y_train,\n",
        "          batch_size=128,\n",
        "          epochs=1, validation_data=(x_val, y_val))\n"
      ],
      "execution_count": 72,
      "outputs": [
        {
          "output_type": "stream",
          "text": [
            "Define a 1D CNN model.\n",
            "Model: \"sequential_1\"\n",
            "_________________________________________________________________\n",
            "Layer (type)                 Output Shape              Param #   \n",
            "=================================================================\n",
            "embedding (Embedding)        (None, 300, 100)          89800     \n",
            "_________________________________________________________________\n",
            "conv1d_3 (Conv1D)            (None, 296, 128)          64128     \n",
            "_________________________________________________________________\n",
            "max_pooling1d_2 (MaxPooling1 (None, 59, 128)           0         \n",
            "_________________________________________________________________\n",
            "conv1d_4 (Conv1D)            (None, 55, 128)           82048     \n",
            "_________________________________________________________________\n",
            "max_pooling1d_3 (MaxPooling1 (None, 11, 128)           0         \n",
            "_________________________________________________________________\n",
            "conv1d_5 (Conv1D)            (None, 7, 128)            82048     \n",
            "_________________________________________________________________\n",
            "global_max_pooling1d_1 (Glob (None, 128)               0         \n",
            "_________________________________________________________________\n",
            "dense_2 (Dense)              (None, 128)               16512     \n",
            "_________________________________________________________________\n",
            "dense_3 (Dense)              (None, 17)                2193      \n",
            "=================================================================\n",
            "Total params: 336,729\n",
            "Trainable params: 246,929\n",
            "Non-trainable params: 89,800\n",
            "_________________________________________________________________\n",
            "28/28 [==============================] - 10s 374ms/step - loss: 1.1068 - acc: 0.7124 - val_loss: 0.7975 - val_acc: 0.7966\n"
          ],
          "name": "stdout"
        },
        {
          "output_type": "execute_result",
          "data": {
            "text/plain": [
              "<tensorflow.python.keras.callbacks.History at 0x7f1bb78ab6a0>"
            ]
          },
          "metadata": {
            "tags": []
          },
          "execution_count": 72
        }
      ]
    },
    {
      "cell_type": "code",
      "metadata": {
        "id": "MbGb8V3jG5Zx",
        "colab_type": "code",
        "colab": {
          "base_uri": "https://localhost:8080/",
          "height": 255
        },
        "outputId": "09efd1c1-4062-465f-b7d6-f2ead46f964f"
      },
      "source": [
        "y_predict=cnnmodel.predict(test_data)\n",
        "print(y_predict.shape)\n",
        "y_predict"
      ],
      "execution_count": 88,
      "outputs": [
        {
          "output_type": "stream",
          "text": [
            "(876, 17)\n"
          ],
          "name": "stdout"
        },
        {
          "output_type": "execute_result",
          "data": {
            "text/plain": [
              "array([[2.4512003e-03, 1.1557563e-03, 7.9398407e-03, ..., 8.8100336e-05,\n",
              "        5.0305965e-04, 6.0530852e-05],\n",
              "       [2.5701636e-02, 1.3447735e-02, 5.1745933e-02, ..., 2.3322753e-03,\n",
              "        7.5318613e-03, 1.6836181e-03],\n",
              "       [1.2119862e-02, 6.1163111e-03, 2.9348634e-02, ..., 8.0645038e-04,\n",
              "        3.1490212e-03, 5.6940404e-04],\n",
              "       ...,\n",
              "       [1.6184507e-02, 8.3069159e-03, 3.6921248e-02, ..., 1.2111645e-03,\n",
              "        4.4140299e-03, 8.6560915e-04],\n",
              "       [1.0893756e-02, 5.5145561e-03, 2.6579374e-02, ..., 6.9075776e-04,\n",
              "        2.7596392e-03, 4.8628321e-04],\n",
              "       [1.3420280e-02, 6.7542442e-03, 3.2132156e-02, ..., 9.3006023e-04,\n",
              "        3.5091774e-03, 6.6274719e-04]], dtype=float32)"
            ]
          },
          "metadata": {
            "tags": []
          },
          "execution_count": 88
        }
      ]
    },
    {
      "cell_type": "code",
      "metadata": {
        "id": "MBeyxqsVJKbC",
        "colab_type": "code",
        "colab": {
          "base_uri": "https://localhost:8080/",
          "height": 697
        },
        "outputId": "7f1caacb-9598-4db0-c2f5-e87187442cc8"
      },
      "source": [
        "cnnmodel.predict_classes(test_data)"
      ],
      "execution_count": 97,
      "outputs": [
        {
          "output_type": "execute_result",
          "data": {
            "text/plain": [
              "array([9, 9, 9, 9, 9, 9, 9, 9, 9, 9, 9, 9, 9, 9, 9, 9, 9, 9, 9, 9, 9, 9,\n",
              "       9, 9, 9, 9, 9, 9, 9, 9, 9, 9, 9, 9, 9, 9, 9, 9, 9, 9, 9, 9, 9, 9,\n",
              "       9, 9, 9, 9, 9, 9, 9, 9, 9, 9, 9, 9, 9, 9, 9, 9, 9, 9, 9, 9, 9, 9,\n",
              "       9, 9, 9, 9, 9, 9, 9, 9, 9, 9, 9, 9, 9, 9, 9, 9, 9, 9, 9, 9, 9, 9,\n",
              "       9, 9, 9, 9, 9, 9, 9, 9, 9, 9, 9, 9, 9, 9, 9, 9, 9, 9, 9, 9, 9, 9,\n",
              "       9, 9, 9, 9, 9, 9, 9, 9, 9, 9, 9, 9, 9, 9, 9, 9, 9, 9, 9, 9, 9, 9,\n",
              "       9, 9, 9, 9, 9, 9, 9, 9, 9, 9, 9, 9, 9, 9, 9, 9, 9, 9, 9, 9, 9, 9,\n",
              "       9, 9, 9, 9, 9, 9, 9, 9, 9, 9, 9, 9, 9, 9, 9, 9, 9, 9, 9, 9, 9, 9,\n",
              "       9, 9, 9, 9, 9, 9, 9, 9, 9, 9, 9, 9, 9, 9, 9, 9, 9, 9, 9, 9, 9, 9,\n",
              "       9, 9, 9, 9, 9, 9, 9, 9, 9, 9, 9, 9, 9, 9, 9, 9, 9, 9, 9, 9, 9, 9,\n",
              "       9, 9, 9, 9, 9, 9, 9, 9, 9, 9, 9, 9, 9, 9, 9, 9, 9, 9, 9, 9, 9, 9,\n",
              "       9, 9, 9, 9, 9, 9, 9, 9, 9, 9, 9, 9, 9, 9, 9, 9, 9, 9, 9, 9, 9, 9,\n",
              "       9, 9, 9, 9, 9, 9, 9, 9, 9, 9, 9, 9, 9, 9, 9, 9, 9, 9, 9, 9, 9, 9,\n",
              "       9, 9, 9, 9, 9, 9, 9, 9, 9, 9, 9, 9, 9, 9, 9, 9, 9, 9, 9, 9, 9, 9,\n",
              "       9, 9, 9, 9, 9, 9, 9, 9, 9, 9, 9, 9, 9, 9, 9, 9, 9, 9, 9, 9, 9, 9,\n",
              "       9, 9, 9, 9, 9, 9, 9, 9, 9, 9, 9, 9, 9, 9, 9, 9, 9, 9, 9, 9, 9, 9,\n",
              "       9, 9, 9, 9, 9, 9, 9, 9, 9, 9, 9, 9, 9, 9, 9, 9, 9, 9, 9, 9, 9, 9,\n",
              "       9, 9, 9, 9, 9, 9, 9, 9, 9, 9, 9, 9, 9, 9, 9, 9, 9, 9, 9, 9, 9, 9,\n",
              "       9, 9, 9, 9, 9, 9, 9, 9, 9, 9, 9, 9, 9, 9, 9, 9, 9, 9, 9, 9, 9, 9,\n",
              "       9, 9, 9, 9, 9, 9, 9, 9, 9, 9, 9, 9, 9, 9, 9, 9, 9, 9, 9, 9, 9, 9,\n",
              "       9, 9, 9, 9, 9, 9, 9, 9, 9, 9, 9, 9, 9, 9, 9, 9, 9, 9, 9, 9, 9, 9,\n",
              "       9, 9, 9, 9, 9, 9, 9, 9, 9, 9, 9, 9, 9, 9, 9, 9, 9, 9, 9, 9, 9, 9,\n",
              "       9, 9, 9, 9, 9, 9, 9, 9, 9, 9, 9, 9, 9, 9, 9, 9, 9, 9, 9, 9, 9, 9,\n",
              "       9, 9, 9, 9, 9, 9, 9, 9, 9, 9, 9, 9, 9, 9, 9, 9, 9, 9, 9, 9, 9, 9,\n",
              "       9, 9, 9, 9, 9, 9, 9, 9, 9, 9, 9, 9, 9, 9, 9, 9, 9, 9, 9, 9, 9, 9,\n",
              "       9, 9, 9, 9, 9, 9, 9, 9, 9, 9, 9, 9, 9, 9, 9, 9, 9, 9, 9, 9, 9, 9,\n",
              "       9, 9, 9, 9, 9, 9, 9, 9, 9, 9, 9, 9, 9, 9, 9, 9, 9, 9, 9, 9, 9, 9,\n",
              "       9, 9, 9, 9, 9, 9, 9, 9, 9, 9, 9, 9, 9, 9, 9, 9, 9, 9, 9, 9, 9, 9,\n",
              "       9, 9, 9, 9, 9, 9, 9, 9, 9, 9, 9, 9, 9, 9, 9, 9, 9, 9, 9, 9, 9, 9,\n",
              "       9, 9, 9, 9, 9, 9, 9, 9, 9, 9, 9, 9, 9, 9, 9, 9, 9, 9, 9, 9, 9, 9,\n",
              "       9, 9, 9, 9, 9, 9, 9, 9, 9, 9, 9, 9, 9, 9, 9, 9, 9, 9, 9, 9, 9, 9,\n",
              "       9, 9, 9, 9, 9, 9, 9, 9, 9, 9, 9, 9, 9, 9, 9, 9, 9, 9, 9, 9, 9, 9,\n",
              "       9, 9, 9, 9, 9, 9, 9, 9, 9, 9, 9, 9, 9, 9, 9, 9, 9, 9, 9, 9, 9, 9,\n",
              "       9, 9, 9, 9, 9, 9, 9, 9, 9, 9, 9, 9, 9, 9, 9, 9, 9, 9, 9, 9, 9, 9,\n",
              "       9, 9, 9, 9, 9, 9, 9, 9, 9, 9, 9, 9, 9, 9, 9, 9, 9, 9, 9, 9, 9, 9,\n",
              "       9, 9, 9, 9, 9, 9, 9, 9, 9, 9, 9, 9, 9, 9, 9, 9, 9, 9, 9, 9, 9, 9,\n",
              "       9, 9, 9, 9, 9, 9, 9, 9, 9, 9, 9, 9, 9, 9, 9, 9, 9, 9, 9, 9, 9, 9,\n",
              "       9, 9, 9, 9, 9, 9, 9, 9, 9, 9, 9, 9, 9, 9, 9, 9, 9, 9, 9, 9, 9, 9,\n",
              "       9, 9, 9, 9, 9, 9, 9, 9, 9, 9, 9, 9, 9, 9, 9, 9, 9, 9, 9, 9, 9, 9,\n",
              "       9, 9, 9, 9, 9, 9, 9, 9, 9, 9, 9, 9, 9, 9, 9, 9, 9, 9])"
            ]
          },
          "metadata": {
            "tags": []
          },
          "execution_count": 97
        }
      ]
    },
    {
      "cell_type": "code",
      "metadata": {
        "id": "98l9yAJMJF1t",
        "colab_type": "code",
        "colab": {
          "base_uri": "https://localhost:8080/",
          "height": 901
        },
        "outputId": "57388d3b-e1e0-432d-9e6c-b3ca29ddd03c"
      },
      "source": [
        "test_labels"
      ],
      "execution_count": 96,
      "outputs": [
        {
          "output_type": "execute_result",
          "data": {
            "text/plain": [
              "array([ 9,  2,  9,  9,  9,  9,  9,  9,  9,  9,  9,  9,  9,  9,  9,  9,  9,\n",
              "        9,  9,  9,  9,  9,  9,  9,  9,  9,  9,  9,  9,  9,  9, 13,  9,  9,\n",
              "        9,  9,  9,  9,  9,  9,  9,  9,  9,  9,  9,  9,  9, 14, 14,  9,  9,\n",
              "        9,  9,  9,  9,  9,  9,  9,  9,  9,  9,  9,  9,  9,  9,  9,  9,  9,\n",
              "        9,  9,  9,  9,  9,  9,  9,  9,  9,  9,  9,  9,  9,  9,  9,  9,  9,\n",
              "        9,  9,  9,  9,  9,  4,  9,  9,  9,  9,  9,  9,  9,  9,  9,  2,  3,\n",
              "       11,  9,  9,  7,  3,  9,  9,  9,  9,  9,  9,  9,  9,  9, 13,  9,  9,\n",
              "        9,  9,  9,  9,  9,  9,  9,  3,  9,  9,  9,  9,  9,  9, 13, 12, 12,\n",
              "        9, 13,  9,  9,  9,  9,  9,  9,  9,  9,  9,  9,  9,  9,  9,  3,  9,\n",
              "        9,  9,  9,  9,  9,  9,  9, 15, 15, 15,  9,  9,  4,  9,  9,  9,  2,\n",
              "        2,  9,  0, 14,  9,  9,  9,  9,  9,  9,  9,  9,  9,  9,  9,  9,  9,\n",
              "        8,  8,  8,  8, 12, 12, 12, 12,  3,  9,  9,  2,  1,  9,  2,  9,  9,\n",
              "        9,  9,  9,  3,  3,  8,  9,  9,  9,  9,  9,  9,  9,  9,  9,  9,  9,\n",
              "        9,  0,  8,  8,  8,  8, 12,  9,  9,  9,  9,  9,  3,  5,  5,  9,  9,\n",
              "        9,  9,  9,  9,  9,  2,  0,  9,  9,  9,  9,  9,  9,  9,  9,  3,  2,\n",
              "        2,  9,  9,  9,  9,  9,  9,  9,  9,  9,  9,  9,  9,  9,  9,  9,  9,\n",
              "        0,  9,  9,  9,  9,  9,  9,  9,  9,  9,  9,  0,  3,  9,  9,  9,  9,\n",
              "        9,  9,  9,  9,  9,  9,  9,  3,  9,  9,  9,  9,  2,  2,  2,  2, 13,\n",
              "        9, 13,  3,  2,  9,  9,  9,  9,  9,  9,  9,  9,  0,  9,  9, 14, 13,\n",
              "        9,  9,  2,  0,  2,  9,  9,  9,  9,  9,  0,  0,  9,  9,  9,  0,  9,\n",
              "        9,  9,  9, 13,  9, 13,  9,  9,  9,  3,  9,  0,  0,  9,  0,  9,  3,\n",
              "        9,  9, 13,  5,  5,  9, 13,  5,  9,  3,  9,  9, 13,  9, 13,  9, 13,\n",
              "        1,  9,  9,  9,  9,  9,  9,  9,  9,  9,  9,  9,  9,  9,  9,  9,  9,\n",
              "        9,  9,  9,  9,  9,  9,  2,  2,  2,  9,  9,  9,  9,  9,  9,  9,  9,\n",
              "        9,  9,  9,  9, 13,  9,  9,  9,  9,  9,  9,  9,  9,  9,  9,  9,  9,\n",
              "        9,  2,  9,  2,  2,  9,  9,  9,  9,  9,  9,  9, 13,  9, 13,  9,  9,\n",
              "        9,  9,  9,  9,  9,  9,  9,  9,  2,  9,  9,  2,  2,  2,  2,  2,  2,\n",
              "        9,  9,  9,  9,  9,  9,  9,  9,  9,  9,  9,  9,  9,  9, 13,  9,  9,\n",
              "        9,  9,  9,  9, 13, 13,  9, 13,  9, 10,  4,  4,  4,  4,  9,  4,  4,\n",
              "        9,  9,  3,  9,  0,  9,  9,  1,  9,  9,  2,  2,  9, 13,  9,  9,  9,\n",
              "        9,  9,  9, 10,  9,  0,  9,  0,  2,  9,  0,  0,  0,  0,  9,  9,  9,\n",
              "        3,  9,  9,  3,  9,  0,  9,  0,  0,  0,  0,  9,  9,  9,  9,  9,  9,\n",
              "        9,  9,  9,  9,  9,  9,  3, 13, 13,  9,  9,  9,  3,  3,  3,  3,  3,\n",
              "        9,  3,  9,  9,  9,  3,  9,  9,  3, 13,  9, 13,  9,  9,  9,  9,  9,\n",
              "        9,  0,  9,  0,  0,  3,  3,  3,  3,  9,  9,  9,  9,  9,  3,  9,  9,\n",
              "        9,  9,  9,  9,  9,  9,  9,  9,  9,  9,  8,  4,  4,  4,  4,  4,  4,\n",
              "        4,  7,  7,  9,  9,  9,  9,  9,  9,  9,  9,  9,  9,  1,  0,  9,  2,\n",
              "        2,  9,  9,  9,  9,  9,  3,  9,  5,  9, 13, 13,  9,  9,  9,  9,  2,\n",
              "        9,  2,  9,  9,  9,  9,  9,  9,  9,  9,  9,  9,  9,  9,  9,  9,  9,\n",
              "        9,  9,  9,  9,  9,  9,  2,  2, 10, 10,  9, 10, 10, 10, 10,  2,  2,\n",
              "        9,  9,  9,  9,  9,  9,  9,  2,  2,  9,  9,  9,  9,  9,  9,  9,  9,\n",
              "        9,  9,  9,  9,  9,  9,  9,  9,  9,  9,  9,  7,  7,  7,  9,  9,  9,\n",
              "        9,  0,  1,  0,  4,  9,  9,  9, 14, 14,  9,  9,  9,  9,  2,  2,  2,\n",
              "        2,  2,  9,  9,  9,  9,  9,  9,  9,  9,  9,  5,  5,  5,  5,  5,  5,\n",
              "        3,  3,  3,  9,  5,  0,  5,  5,  5,  5,  9,  9,  9,  5,  1,  1,  1,\n",
              "        5,  5,  5,  9,  9,  9,  9,  9, 13,  9,  0, 13, 13, 13, 13,  9,  9,\n",
              "       13,  9,  9,  9,  9,  3,  9,  9,  9,  9,  9,  2,  9,  9,  9,  9,  9,\n",
              "        9,  9,  9,  9,  1,  9,  9,  9,  9,  9, 13, 13,  9,  9,  9,  9,  9,\n",
              "        9,  9,  9,  9,  9,  9,  9,  9,  9,  9,  9,  9,  9,  9,  9,  9,  9,\n",
              "        9,  9,  9,  9,  9,  9,  9,  9,  9,  9,  9,  9,  9,  9,  9,  9,  9,\n",
              "        9,  9,  9,  9,  9,  9,  9,  9,  9,  9,  9,  9,  9,  9,  3,  9,  9,\n",
              "        9,  4,  9,  4,  9,  9,  9,  9,  9])"
            ]
          },
          "metadata": {
            "tags": []
          },
          "execution_count": 96
        }
      ]
    },
    {
      "cell_type": "code",
      "metadata": {
        "id": "Sleus_aaHKhM",
        "colab_type": "code",
        "colab": {
          "base_uri": "https://localhost:8080/",
          "height": 136
        },
        "outputId": "103396e1-1d95-482c-9cd6-bea9b1db1f15"
      },
      "source": [
        "test_labels_new"
      ],
      "execution_count": 93,
      "outputs": [
        {
          "output_type": "execute_result",
          "data": {
            "text/plain": [
              "array([[0., 0., 0., ..., 0., 0., 0.],\n",
              "       [0., 0., 1., ..., 0., 0., 0.],\n",
              "       [0., 0., 0., ..., 0., 0., 0.],\n",
              "       ...,\n",
              "       [0., 0., 0., ..., 0., 0., 0.],\n",
              "       [0., 0., 0., ..., 0., 0., 0.],\n",
              "       [0., 0., 0., ..., 0., 0., 0.]], dtype=float32)"
            ]
          },
          "metadata": {
            "tags": []
          },
          "execution_count": 93
        }
      ]
    },
    {
      "cell_type": "code",
      "metadata": {
        "id": "2coVySbrI2Pt",
        "colab_type": "code",
        "colab": {
          "base_uri": "https://localhost:8080/",
          "height": 102
        },
        "outputId": "163410c3-17d4-48e3-d341-e357287bd7b9"
      },
      "source": [
        "print(test_labels_new[0])\n",
        "print(y_predict[0])"
      ],
      "execution_count": 94,
      "outputs": [
        {
          "output_type": "stream",
          "text": [
            "[0. 0. 0. 0. 0. 0. 0. 0. 0. 1. 0. 0. 0. 0. 0. 0. 0.]\n",
            "[2.4512003e-03 1.1557563e-03 7.9398407e-03 3.1934285e-03 5.3925969e-04\n",
            " 3.9139597e-04 5.1026462e-05 2.5046832e-04 6.7450514e-05 9.7949743e-01\n",
            " 2.7148463e-04 9.4396400e-04 3.0375275e-04 2.2918175e-03 8.8100336e-05\n",
            " 5.0305965e-04 6.0530852e-05]\n"
          ],
          "name": "stdout"
        }
      ]
    },
    {
      "cell_type": "code",
      "metadata": {
        "id": "hxnyTdfoI8Yn",
        "colab_type": "code",
        "colab": {
          "base_uri": "https://localhost:8080/",
          "height": 85
        },
        "outputId": "e6f3a878-8442-44a7-f4ab-b16c15615ae9"
      },
      "source": [
        "print(test_labels_new[1])\n",
        "print(y_predict[1])"
      ],
      "execution_count": 95,
      "outputs": [
        {
          "output_type": "stream",
          "text": [
            "[0. 0. 1. 0. 0. 0. 0. 0. 0. 0. 0. 0. 0. 0. 0. 0. 0.]\n",
            "[0.02570164 0.01344774 0.05174593 0.02511717 0.00547589 0.00561662\n",
            " 0.00148131 0.00471546 0.0021219  0.809255   0.00413144 0.01166215\n",
            " 0.00456476 0.02341527 0.00233228 0.00753186 0.00168362]\n"
          ],
          "name": "stdout"
        }
      ]
    },
    {
      "cell_type": "code",
      "metadata": {
        "id": "rD2pzyy9Egwv",
        "colab_type": "code",
        "colab": {
          "base_uri": "https://localhost:8080/",
          "height": 51
        },
        "outputId": "3150e188-fbb1-4f7e-d442-863655110324"
      },
      "source": [
        "#Evaluate on test set:\n",
        "score, acc = cnnmodel.evaluate(test_data, test_labels_new)\n",
        "print('Test accuracy with CNN:', acc)"
      ],
      "execution_count": 75,
      "outputs": [
        {
          "output_type": "stream",
          "text": [
            "28/28 [==============================] - 1s 31ms/step - loss: 0.9768 - acc: 0.7580\n",
            "Test accuracy with CNN: 0.7579908967018127\n"
          ],
          "name": "stdout"
        }
      ]
    },
    {
      "cell_type": "code",
      "metadata": {
        "id": "KZ2zSExuKBkG",
        "colab_type": "code",
        "colab": {
          "base_uri": "https://localhost:8080/",
          "height": 34
        },
        "outputId": "cc4163d4-6d71-40f5-8033-df75bc98d9fc"
      },
      "source": [
        "MAX_NUM_WORDS"
      ],
      "execution_count": 98,
      "outputs": [
        {
          "output_type": "execute_result",
          "data": {
            "text/plain": [
              "20000"
            ]
          },
          "metadata": {
            "tags": []
          },
          "execution_count": 98
        }
      ]
    },
    {
      "cell_type": "code",
      "metadata": {
        "ExecuteTime": {
          "end_time": "2020-01-21T03:20:48.874312Z",
          "start_time": "2020-01-21T03:20:39.637994Z"
        },
        "colab_type": "code",
        "id": "ekMBb2Ski_8j",
        "colab": {
          "base_uri": "https://localhost:8080/",
          "height": 547
        },
        "outputId": "0546eec3-d5ea-4b70-b09b-6c02a01d86ba"
      },
      "source": [
        "print(\"Defining and training a CNN model, training embedding layer on the fly instead of using pre-trained embeddings\")\n",
        "cnnmodel = Sequential()\n",
        "cnnmodel.add(Embedding(MAX_NUM_WORDS, 128))\n",
        "cnnmodel.add(Conv1D(128, 5, activation='relu'))\n",
        "cnnmodel.add(MaxPooling1D(5))\n",
        "cnnmodel.add(Conv1D(128, 5, activation='relu'))\n",
        "cnnmodel.add(MaxPooling1D(5))\n",
        "cnnmodel.add(Conv1D(128, 5, activation='relu'))\n",
        "cnnmodel.add(GlobalMaxPooling1D())\n",
        "cnnmodel.add(Dense(128, activation='relu'))\n",
        "cnnmodel.add(Dense(len(trainvalid_labels[0]), activation='softmax'))\n",
        "\n",
        "cnnmodel.compile(loss='categorical_crossentropy',\n",
        "              optimizer='rmsprop',\n",
        "              metrics=['acc'])\n",
        "\n",
        "cnnmodel.summary()\n",
        "\n",
        "#Train the model. Tune to validation set. \n",
        "cnnmodel.fit(x_train, y_train,\n",
        "          batch_size=128,\n",
        "          epochs=1, validation_data=(x_val, y_val))\n",
        "#Evaluate on test set:\n",
        "score, acc = cnnmodel.evaluate(test_data, test_labels_new)\n",
        "print('Test accuracy with CNN:', acc)\n"
      ],
      "execution_count": 76,
      "outputs": [
        {
          "output_type": "stream",
          "text": [
            "Defining and training a CNN model, training embedding layer on the fly instead of using pre-trained embeddings\n",
            "Model: \"sequential_2\"\n",
            "_________________________________________________________________\n",
            "Layer (type)                 Output Shape              Param #   \n",
            "=================================================================\n",
            "embedding_1 (Embedding)      (None, None, 128)         2560000   \n",
            "_________________________________________________________________\n",
            "conv1d_6 (Conv1D)            (None, None, 128)         82048     \n",
            "_________________________________________________________________\n",
            "max_pooling1d_4 (MaxPooling1 (None, None, 128)         0         \n",
            "_________________________________________________________________\n",
            "conv1d_7 (Conv1D)            (None, None, 128)         82048     \n",
            "_________________________________________________________________\n",
            "max_pooling1d_5 (MaxPooling1 (None, None, 128)         0         \n",
            "_________________________________________________________________\n",
            "conv1d_8 (Conv1D)            (None, None, 128)         82048     \n",
            "_________________________________________________________________\n",
            "global_max_pooling1d_2 (Glob (None, 128)               0         \n",
            "_________________________________________________________________\n",
            "dense_4 (Dense)              (None, 128)               16512     \n",
            "_________________________________________________________________\n",
            "dense_5 (Dense)              (None, 17)                2193      \n",
            "=================================================================\n",
            "Total params: 2,824,849\n",
            "Trainable params: 2,824,849\n",
            "Non-trainable params: 0\n",
            "_________________________________________________________________\n",
            "28/28 [==============================] - 16s 575ms/step - loss: 1.2609 - acc: 0.7093 - val_loss: 0.8202 - val_acc: 0.7508\n",
            "28/28 [==============================] - 1s 35ms/step - loss: 0.9631 - acc: 0.7215\n",
            "Test accuracy with CNN: 0.7214611768722534\n"
          ],
          "name": "stdout"
        }
      ]
    },
    {
      "cell_type": "code",
      "metadata": {
        "ExecuteTime": {
          "end_time": "2020-01-21T03:23:06.806061Z",
          "start_time": "2020-01-21T03:21:34.339598Z"
        },
        "colab_type": "code",
        "id": "lE5578-ei_8m",
        "colab": {
          "base_uri": "https://localhost:8080/",
          "height": 360
        },
        "outputId": "34a32b2a-650a-409b-fb40-88a67fb700f5"
      },
      "source": [
        "print(\"Defining and training an LSTM model, training embedding layer on the fly\")\n",
        "\n",
        "#modified from: \n",
        "\n",
        "rnnmodel = Sequential()\n",
        "rnnmodel.add(Embedding(MAX_NUM_WORDS, 128))\n",
        "rnnmodel.add(LSTM(128, dropout=0.2, recurrent_dropout=0.2))\n",
        "rnnmodel.add(Dense(len(trainvalid_labels[0]), activation='sigmoid'))\n",
        "rnnmodel.compile(loss='binary_crossentropy',\n",
        "              optimizer='adam',\n",
        "              metrics=['accuracy'])\n",
        "\n",
        "rnnmodel.summary()\n",
        "\n",
        "print('Training the RNN')\n",
        "rnnmodel.fit(x_train, y_train,\n",
        "          batch_size=32,\n",
        "          epochs=1,\n",
        "          validation_data=(x_val, y_val))\n",
        "score, acc = rnnmodel.evaluate(test_data, test_labels_new,\n",
        "                            batch_size=32)\n",
        "print('Test accuracy with RNN:', acc)\n"
      ],
      "execution_count": 77,
      "outputs": [
        {
          "output_type": "stream",
          "text": [
            "Defining and training an LSTM model, training embedding layer on the fly\n",
            "Model: \"sequential_3\"\n",
            "_________________________________________________________________\n",
            "Layer (type)                 Output Shape              Param #   \n",
            "=================================================================\n",
            "embedding_2 (Embedding)      (None, None, 128)         2560000   \n",
            "_________________________________________________________________\n",
            "lstm (LSTM)                  (None, 128)               131584    \n",
            "_________________________________________________________________\n",
            "dense_6 (Dense)              (None, 17)                2193      \n",
            "=================================================================\n",
            "Total params: 2,693,777\n",
            "Trainable params: 2,693,777\n",
            "Non-trainable params: 0\n",
            "_________________________________________________________________\n",
            "Training the RNN\n",
            "109/109 [==============================] - 101s 923ms/step - loss: 0.1639 - accuracy: 0.7124 - val_loss: 0.0973 - val_accuracy: 0.7508\n",
            "28/28 [==============================] - 3s 97ms/step - loss: 0.1142 - accuracy: 0.7215\n",
            "Test accuracy with RNN: 0.7214611768722534\n"
          ],
          "name": "stdout"
        }
      ]
    },
    {
      "cell_type": "code",
      "metadata": {
        "ExecuteTime": {
          "end_time": "2020-01-21T03:25:33.571529Z",
          "start_time": "2020-01-21T03:24:04.513325Z"
        },
        "colab_type": "code",
        "id": "tTTJqKFHi_8x",
        "colab": {
          "base_uri": "https://localhost:8080/",
          "height": 360
        },
        "outputId": "83eaec4b-8e1e-46d7-d2a7-85be853b97d0"
      },
      "source": [
        "print(\"Defining and training an LSTM model, using pre-trained embedding layer\")\n",
        "\n",
        "#modified from: \n",
        "\n",
        "rnnmodel2 = Sequential()\n",
        "rnnmodel2.add(embedding_layer)\n",
        "rnnmodel2.add(LSTM(128, dropout=0.2, recurrent_dropout=0.2))\n",
        "rnnmodel2.add(Dense(len(trainvalid_labels[0]), activation='sigmoid'))\n",
        "rnnmodel2.compile(loss='binary_crossentropy',\n",
        "              optimizer='adam',\n",
        "              metrics=['accuracy'])\n",
        "\n",
        "rnnmodel2.summary()\n",
        "\n",
        "print('Training the RNN')\n",
        "rnnmodel2.fit(x_train, y_train,\n",
        "          batch_size=32,\n",
        "          epochs=1,\n",
        "          validation_data=(x_val, y_val))\n",
        "score, acc = rnnmodel2.evaluate(test_data, test_labels_new,\n",
        "                            batch_size=32)\n",
        "print('Test accuracy with RNN:', acc)\n"
      ],
      "execution_count": 78,
      "outputs": [
        {
          "output_type": "stream",
          "text": [
            "Defining and training an LSTM model, using pre-trained embedding layer\n",
            "Model: \"sequential_4\"\n",
            "_________________________________________________________________\n",
            "Layer (type)                 Output Shape              Param #   \n",
            "=================================================================\n",
            "embedding (Embedding)        (None, 300, 100)          89800     \n",
            "_________________________________________________________________\n",
            "lstm_1 (LSTM)                (None, 128)               117248    \n",
            "_________________________________________________________________\n",
            "dense_7 (Dense)              (None, 17)                2193      \n",
            "=================================================================\n",
            "Total params: 209,241\n",
            "Trainable params: 119,441\n",
            "Non-trainable params: 89,800\n",
            "_________________________________________________________________\n",
            "Training the RNN\n",
            "109/109 [==============================] - 87s 797ms/step - loss: 0.1524 - accuracy: 0.7000 - val_loss: 0.0874 - val_accuracy: 0.7508\n",
            "28/28 [==============================] - 3s 92ms/step - loss: 0.1003 - accuracy: 0.7215\n",
            "Test accuracy with RNN: 0.7214611768722534\n"
          ],
          "name": "stdout"
        }
      ]
    },
    {
      "cell_type": "code",
      "metadata": {
        "colab_type": "code",
        "id": "zTlSMklki_83",
        "colab": {}
      },
      "source": [
        ""
      ],
      "execution_count": null,
      "outputs": []
    }
  ]
}