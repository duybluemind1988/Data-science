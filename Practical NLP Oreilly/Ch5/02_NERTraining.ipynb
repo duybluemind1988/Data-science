{
  "nbformat": 4,
  "nbformat_minor": 0,
  "metadata": {
    "colab": {
      "name": "NERTraining.ipynb",
      "provenance": []
    },
    "kernelspec": {
      "name": "python3",
      "display_name": "Python 3"
    }
  },
  "cells": [
    {
      "cell_type": "markdown",
      "metadata": {
        "colab_type": "text",
        "id": "P7pplVJgcnAQ"
      },
      "source": [
        "This notebook illustrates how to train a NER model using the well known CONLL dataset, and sklearn_crfsuite library. "
      ]
    },
    {
      "cell_type": "markdown",
      "metadata": {
        "colab_type": "text",
        "id": "_EImA3uAeUoS"
      },
      "source": [
        "### Importing Necessary Libraries"
      ]
    },
    {
      "cell_type": "code",
      "metadata": {
        "colab_type": "code",
        "id": "260mW70zcnAR",
        "colab": {}
      },
      "source": [
        "#Make the necessary imports\n",
        "from nltk.tag import pos_tag\n",
        "from sklearn_crfsuite import CRF, metrics\n",
        "from sklearn.metrics import make_scorer,confusion_matrix\n",
        "from pprint import pprint\n",
        "from sklearn.metrics import f1_score,classification_report\n",
        "from sklearn.pipeline import Pipeline\n",
        "import string\n"
      ],
      "execution_count": 7,
      "outputs": []
    },
    {
      "cell_type": "markdown",
      "metadata": {
        "colab_type": "text",
        "id": "23NhWgM4eT9l"
      },
      "source": [
        "### Loading The Data"
      ]
    },
    {
      "cell_type": "code",
      "metadata": {
        "colab_type": "code",
        "id": "3f-Pvr5tcnAg",
        "colab": {}
      },
      "source": [
        "\"\"\"\n",
        "Load the training/testing data. \n",
        "input: conll format data, but with only 2 tab separated colums - words and NEtags.\n",
        "output: A list where each item is 2 lists.  sentence as a list of tokens, NER tags as a list for each token.\n",
        "\"\"\"\n",
        "def load__data_conll(file_path):\n",
        "    myoutput,words,tags = [],[],[]\n",
        "    fh = open(file_path)\n",
        "    for line in fh:\n",
        "        line = line.strip()\n",
        "        if \"\\t\" not in line:\n",
        "            #Sentence ended.\n",
        "            myoutput.append([words,tags])\n",
        "            words,tags = [],[]\n",
        "        else:\n",
        "            word, tag = line.split(\"\\t\")\n",
        "            words.append(word)\n",
        "            tags.append(tag)\n",
        "    fh.close()\n",
        "    return myoutput\n"
      ],
      "execution_count": 8,
      "outputs": []
    },
    {
      "cell_type": "code",
      "metadata": {
        "colab_type": "code",
        "id": "EZNEu753cnAl",
        "colab": {}
      },
      "source": [
        "\"\"\"\n",
        "Get features for all words in the sentence\n",
        "Features:\n",
        "- word context: a window of 2 words on either side of the current word, and current word.\n",
        "- POS context: a window of 2 POS tags on either side of the current word, and current tag. \n",
        "input: sentence as a list of tokens.\n",
        "output: list of dictionaries. each dict represents features for that word.\n",
        "\"\"\"\n",
        "def sent2feats(sentence):\n",
        "    feats = []\n",
        "    sen_tags = pos_tag(sentence) #This format is specific to this POS tagger!\n",
        "    for i in range(0,len(sentence)):\n",
        "        word = sentence[i]\n",
        "        wordfeats = {}\n",
        "       #word features: word, prev 2 words, next 2 words in the sentence.\n",
        "        wordfeats['word'] = word\n",
        "        if i == 0:\n",
        "            wordfeats[\"prevWord\"] = wordfeats[\"prevSecondWord\"] = \"<S>\"\n",
        "        elif i==1:\n",
        "            wordfeats[\"prevWord\"] = sentence[0]\n",
        "            wordfeats[\"prevSecondWord\"] = \"</S>\"\n",
        "        else:\n",
        "            wordfeats[\"prevWord\"] = sentence[i-1]\n",
        "            wordfeats[\"prevSecondWord\"] = sentence[i-2]\n",
        "        #next two words as features\n",
        "        if i == len(sentence)-2:\n",
        "            wordfeats[\"nextWord\"] = sentence[i+1]\n",
        "            wordfeats[\"nextNextWord\"] = \"</S>\"\n",
        "        elif i==len(sentence)-1:\n",
        "            wordfeats[\"nextWord\"] = \"</S>\"\n",
        "            wordfeats[\"nextNextWord\"] = \"</S>\"\n",
        "        else:\n",
        "            wordfeats[\"nextWord\"] = sentence[i+1]\n",
        "            wordfeats[\"nextNextWord\"] = sentence[i+2]\n",
        "        \n",
        "        #POS tag features: current tag, previous and next 2 tags.\n",
        "        wordfeats['tag'] = sen_tags[i][1]\n",
        "        if i == 0:\n",
        "            wordfeats[\"prevTag\"] = wordfeats[\"prevSecondTag\"] = \"<S>\"\n",
        "        elif i == 1:\n",
        "            wordfeats[\"prevTag\"] = sen_tags[0][1]\n",
        "            wordfeats[\"prevSecondTag\"] = \"</S>\"\n",
        "        else:\n",
        "            wordfeats[\"prevTag\"] = sen_tags[i - 1][1]\n",
        "\n",
        "            wordfeats[\"prevSecondTag\"] = sen_tags[i - 2][1]\n",
        "            # next two words as features\n",
        "        if i == len(sentence) - 2:\n",
        "            wordfeats[\"nextTag\"] = sen_tags[i + 1][1]\n",
        "            wordfeats[\"nextNextTag\"] = \"</S>\"\n",
        "        elif i == len(sentence) - 1:\n",
        "            wordfeats[\"nextTag\"] = \"</S>\"\n",
        "            wordfeats[\"nextNextTag\"] = \"</S>\"\n",
        "        else:\n",
        "            wordfeats[\"nextTag\"] = sen_tags[i + 1][1]\n",
        "            wordfeats[\"nextNextTag\"] = sen_tags[i + 2][1]\n",
        "        #That is it! You can add whatever you want!\n",
        "        feats.append(wordfeats)\n",
        "    return feats\n"
      ],
      "execution_count": 9,
      "outputs": []
    },
    {
      "cell_type": "markdown",
      "metadata": {
        "colab_type": "text",
        "id": "kBNaaDJce102"
      },
      "source": [
        "### Extracting Features"
      ]
    },
    {
      "cell_type": "code",
      "metadata": {
        "colab_type": "code",
        "id": "LmB5emVicnA1",
        "colab": {}
      },
      "source": [
        "#Extract features from the conll data, after loading it.\n",
        "def get_feats_conll(conll_data):\n",
        "    feats = []\n",
        "    labels = []\n",
        "    for sentence in conll_data:\n",
        "        feats.append(sent2feats(sentence[0]))\n",
        "        labels.append(sentence[1])\n",
        "    return feats, labels"
      ],
      "execution_count": 10,
      "outputs": []
    },
    {
      "cell_type": "markdown",
      "metadata": {
        "colab_type": "text",
        "id": "S7TO_UXBe6Lg"
      },
      "source": [
        "### Training a Model"
      ]
    },
    {
      "cell_type": "code",
      "metadata": {
        "colab_type": "code",
        "id": "7bo-XzixcnBA",
        "colab": {}
      },
      "source": [
        "\n",
        "#Train a sequence model\n",
        "def train_seq(X_train,Y_train,X_dev,Y_dev):\n",
        "   # crf = CRF(algorithm='lbfgs', c1=0.1, c2=0.1, max_iterations=50, all_possible_states=True)\n",
        "    crf = CRF(algorithm='lbfgs', c1=0.1, c2=10, max_iterations=50)#, all_possible_states=True)\n",
        "    #Just to fit on training data\n",
        "    crf.fit(X_train, Y_train)\n",
        "    labels = list(crf.classes_)\n",
        "    #testing:\n",
        "    y_pred = crf.predict(X_dev)\n",
        "    sorted_labels = sorted(labels, key=lambda name: (name[1:], name[0]))\n",
        "    print(metrics.flat_f1_score(Y_dev, y_pred,average='weighted', labels=labels))\n",
        "    print(metrics.flat_classification_report(Y_dev, y_pred, labels=sorted_labels, digits=3))\n",
        "    #print(metrics.sequence_accuracy_score(Y_dev, y_pred))\n",
        "    get_confusion_matrix(Y_dev, y_pred,labels=sorted_labels)\n"
      ],
      "execution_count": 11,
      "outputs": []
    },
    {
      "cell_type": "markdown",
      "metadata": {
        "colab_type": "text",
        "id": "8OyfLwkYe_lz"
      },
      "source": [
        "Confusion Matrix helper function . Source for this function is [here](https://gist.github.com/zachguo/10296432)"
      ]
    },
    {
      "cell_type": "code",
      "metadata": {
        "colab_type": "code",
        "id": "khGXUWBScnBL",
        "colab": {}
      },
      "source": [
        "def print_cm(cm, labels):\n",
        "    print(\"\\n\")\n",
        "    \"\"\"pretty print for confusion matrixes\"\"\"\n",
        "    columnwidth = max([len(x) for x in labels] + [5])  # 5 is value length\n",
        "    empty_cell = \" \" * columnwidth\n",
        "    # Print header\n",
        "    print(\"    \" + empty_cell, end=\" \")\n",
        "    for label in labels:\n",
        "        print(\"%{0}s\".format(columnwidth) % label, end=\" \")\n",
        "    print()\n",
        "    # Print rows\n",
        "    for i, label1 in enumerate(labels):\n",
        "        print(\"    %{0}s\".format(columnwidth) % label1, end=\" \")\n",
        "        sum = 0\n",
        "        for j in range(len(labels)):\n",
        "            cell = \"%{0}.0f\".format(columnwidth) % cm[i, j]\n",
        "            sum =  sum + int(cell)\n",
        "            print(cell, end=\" \")\n",
        "        print(sum) #Prints the total number of instances per cat at the end.\n"
      ],
      "execution_count": 12,
      "outputs": []
    },
    {
      "cell_type": "code",
      "metadata": {
        "colab_type": "code",
        "id": "5vy2dLg2cnBe",
        "colab": {}
      },
      "source": [
        "#python-crfsuite does not have a confusion matrix function, \n",
        "#so writing it using sklearn's confusion matrix and print_cm from github\n",
        "def get_confusion_matrix(y_true,y_pred,labels):\n",
        "    trues,preds = [], []\n",
        "    for yseq_true, yseq_pred in zip(y_true, y_pred):\n",
        "        trues.extend(yseq_true)\n",
        "        preds.extend(yseq_pred)\n",
        "    print_cm(confusion_matrix(trues,preds,labels),labels)\n"
      ],
      "execution_count": 13,
      "outputs": []
    },
    {
      "cell_type": "markdown",
      "metadata": {
        "colab_type": "text",
        "id": "IYAlUXyRfPzf"
      },
      "source": [
        "### Call all our functions inside the main method"
      ]
    },
    {
      "cell_type": "code",
      "metadata": {
        "id": "G5FN3kPmgUzt",
        "colab_type": "code",
        "colab": {}
      },
      "source": [
        "from google.colab import files\n",
        "import requests  \n",
        "import numpy as np\n",
        "import pandas as pd"
      ],
      "execution_count": 14,
      "outputs": []
    },
    {
      "cell_type": "code",
      "metadata": {
        "id": "4S-PAj5LiNqx",
        "colab_type": "code",
        "colab": {}
      },
      "source": [
        "train_path = 'https://raw.githubusercontent.com/duybluemind1988/Data-science/master/Practical%20NLP%20Oreilly/Ch5/Data/conlldata/train.txt'\n",
        "r1 = requests.get(train_path, stream = True)  \n",
        "with open(\"train_1.txt\", \"wb\") as file:  \n",
        "    for block in r1.iter_content(chunk_size = 1024): \n",
        "         if block:  \n",
        "             file.write(block) \n"
      ],
      "execution_count": 15,
      "outputs": []
    },
    {
      "cell_type": "code",
      "metadata": {
        "id": "i25ax8nUjfnx",
        "colab_type": "code",
        "colab": {}
      },
      "source": [
        "test_path = 'https://raw.githubusercontent.com/duybluemind1988/Data-science/master/Practical%20NLP%20Oreilly/Ch5/Data/conlldata/test.txt'\n",
        "r2 = requests.get(test_path, stream = True)  \n",
        "with open(\"test_1.txt\", \"wb\") as file:  \n",
        "    for block in r2.iter_content(chunk_size = 1024): \n",
        "         if block:  \n",
        "             file.write(block) "
      ],
      "execution_count": 16,
      "outputs": []
    },
    {
      "cell_type": "code",
      "metadata": {
        "id": "PiOj3tOqjTat",
        "colab_type": "code",
        "colab": {
          "base_uri": "https://localhost:8080/",
          "height": 102
        },
        "outputId": "502c728e-9b3b-4c9a-a9fd-a3e86f8454ad"
      },
      "source": [
        "import nltk\n",
        "nltk.download('averaged_perceptron_tagger')"
      ],
      "execution_count": 17,
      "outputs": [
        {
          "output_type": "stream",
          "text": [
            "[nltk_data] Downloading package averaged_perceptron_tagger to\n",
            "[nltk_data]     /root/nltk_data...\n",
            "[nltk_data]   Package averaged_perceptron_tagger is already up-to-\n",
            "[nltk_data]       date!\n"
          ],
          "name": "stdout"
        },
        {
          "output_type": "execute_result",
          "data": {
            "text/plain": [
              "True"
            ]
          },
          "metadata": {
            "tags": []
          },
          "execution_count": 17
        }
      ]
    },
    {
      "cell_type": "code",
      "metadata": {
        "colab_type": "code",
        "id": "GtkLBZF-cnBr",
        "colab": {
          "base_uri": "https://localhost:8080/",
          "height": 544
        },
        "outputId": "6aa50534-2b3d-4f27-a704-e5169f5e8493"
      },
      "source": [
        "def main():\n",
        "    train_path = '/content/train_1.txt'\n",
        "    test_path = '/content/test_1.txt'\n",
        "    conll_train = load__data_conll(train_path)\n",
        "    conll_dev = load__data_conll(test_path)\n",
        "    \n",
        "    print(\"Training a Sequence classification model with CRF\")\n",
        "    feats, labels = get_feats_conll(conll_train)\n",
        "    devfeats, devlabels = get_feats_conll(conll_dev)\n",
        "    train_seq(feats, labels, devfeats, devlabels)\n",
        "    print(\"Done with sequence model\")\n",
        "\n",
        "if __name__==\"__main__\":\n",
        "    main()\n"
      ],
      "execution_count": 18,
      "outputs": [
        {
          "output_type": "stream",
          "text": [
            "Training a Sequence classification model with CRF\n",
            "0.9255103670420659\n",
            "              precision    recall  f1-score   support\n",
            "\n",
            "           O      0.973     0.981     0.977     38323\n",
            "       B-LOC      0.694     0.765     0.728      1668\n",
            "       I-LOC      0.738     0.482     0.584       257\n",
            "      B-MISC      0.648     0.309     0.419       702\n",
            "      I-MISC      0.626     0.505     0.559       216\n",
            "       B-ORG      0.670     0.561     0.611      1661\n",
            "       I-ORG      0.551     0.704     0.618       835\n",
            "       B-PER      0.773     0.766     0.769      1617\n",
            "       I-PER      0.819     0.886     0.851      1156\n",
            "\n",
            "    accuracy                          0.928     46435\n",
            "   macro avg      0.721     0.662     0.679     46435\n",
            "weighted avg      0.926     0.928     0.926     46435\n",
            "\n",
            "\n",
            "\n",
            "                O  B-LOC  I-LOC B-MISC I-MISC  B-ORG  I-ORG  B-PER  I-PER \n",
            "         O  37579    118      3     22     32    193    224     88     64 38323\n",
            "     B-LOC    143   1276      1     36      1     95     14     98      4 1668\n",
            "     I-LOC     32      6    124      1      5      0     52      0     37 257\n",
            "    B-MISC    344     48      1    217      2     56     13     19      2 702\n",
            "    I-MISC     58      1      4      4    109      2     29      0      9 216\n",
            "     B-ORG    265    236      0     48      3    932     20    151      6 1661\n",
            "     I-ORG     76     15     18      2     15     21    588      8     92 835\n",
            "     B-PER     86    138      1      5      3     90     44   1238     12 1617\n",
            "     I-PER     26      1     16      0      4      2     83      0   1024 1156\n",
            "Done with sequence model\n"
          ],
          "name": "stdout"
        }
      ]
    },
    {
      "cell_type": "markdown",
      "metadata": {
        "colab_type": "text",
        "id": "-xwubY50cnB1"
      },
      "source": [
        "This is pretty good. We already have a model which has an F-score of 92%!!!"
      ]
    },
    {
      "cell_type": "markdown",
      "metadata": {
        "id": "4fgQ7Bq_lZ4e",
        "colab_type": "text"
      },
      "source": [
        "# EXPLAIN DNN"
      ]
    },
    {
      "cell_type": "code",
      "metadata": {
        "colab_type": "code",
        "id": "reO-wnZocnB2",
        "colab": {}
      },
      "source": [
        "#Make the necessary imports\n",
        "from nltk.tag import pos_tag\n",
        "from sklearn_crfsuite import CRF, metrics\n",
        "from sklearn.metrics import make_scorer,confusion_matrix\n",
        "from pprint import pprint\n",
        "from sklearn.metrics import f1_score,classification_report\n",
        "from sklearn.pipeline import Pipeline\n",
        "import string\n",
        "import requests  \n",
        "import numpy as np\n",
        "import pandas as pd\n",
        "\n",
        "train_path = 'https://raw.githubusercontent.com/duybluemind1988/Data-science/master/Practical%20NLP%20Oreilly/Ch5/Data/conlldata/train.txt'\n",
        "r1 = requests.get(train_path, stream = True)  \n",
        "with open(\"train_1.txt\", \"wb\") as file:  \n",
        "    for block in r1.iter_content(chunk_size = 1024): \n",
        "         if block:  \n",
        "             file.write(block) \n",
        "test_path = 'https://raw.githubusercontent.com/duybluemind1988/Data-science/master/Practical%20NLP%20Oreilly/Ch5/Data/conlldata/test.txt'\n",
        "r2 = requests.get(test_path, stream = True)  \n",
        "with open(\"test_1.txt\", \"wb\") as file:  \n",
        "    for block in r2.iter_content(chunk_size = 1024): \n",
        "         if block:  \n",
        "             file.write(block) "
      ],
      "execution_count": 18,
      "outputs": []
    },
    {
      "cell_type": "code",
      "metadata": {
        "id": "K2TqJb0voauG",
        "colab_type": "code",
        "colab": {
          "base_uri": "https://localhost:8080/",
          "height": 391
        },
        "outputId": "97a9a02e-cb50-4453-ab0a-6b214801789a"
      },
      "source": [
        "train_path = '/content/train_1.txt'\n",
        "f = open(train_path, \"r\")\n",
        "print(f.read(200))"
      ],
      "execution_count": 45,
      "outputs": [
        {
          "output_type": "stream",
          "text": [
            "EU\tB-ORG\n",
            "rejects\tO\n",
            "German\tB-MISC\n",
            "call\tO\n",
            "to\tO\n",
            "boycott\tO\n",
            "British\tB-MISC\n",
            "lamb\tO\n",
            ".\tO\n",
            "\n",
            "Peter\tB-PER\n",
            "Blackburn\tI-PER\n",
            "\n",
            "BRUSSELS\tB-LOC\n",
            "1996-08-22\tO\n",
            "\n",
            "The\tO\n",
            "European\tB-ORG\n",
            "Commission\tI-ORG\n",
            "said\tO\n",
            "on\tO\n",
            "Thursday\tO\n"
          ],
          "name": "stdout"
        }
      ]
    },
    {
      "cell_type": "code",
      "metadata": {
        "id": "4NMhRBjwllQb",
        "colab_type": "code",
        "colab": {
          "base_uri": "https://localhost:8080/",
          "height": 68
        },
        "outputId": "e1b3b769-6e7d-4e88-86bd-2096a8da3036"
      },
      "source": [
        "#def load__data_conll(file_path):\n",
        "myoutput_train,words,tags = [],[],[]\n",
        "fh = open(train_path)\n",
        "for line in fh:\n",
        "    line = line.strip()\n",
        "    if \"\\t\" not in line:\n",
        "        #Sentence ended.\n",
        "        myoutput_train.append([words,tags])\n",
        "        words,tags = [],[]\n",
        "    else:\n",
        "        word, tag = line.split(\"\\t\")\n",
        "        words.append(word)\n",
        "        tags.append(tag)\n",
        "fh.close()\n",
        "conll_train=myoutput_train\n",
        "print(len(myoutput_train))\n",
        "myoutput_train[0]"
      ],
      "execution_count": 48,
      "outputs": [
        {
          "output_type": "stream",
          "text": [
            "14041\n"
          ],
          "name": "stdout"
        },
        {
          "output_type": "execute_result",
          "data": {
            "text/plain": [
              "[['EU', 'rejects', 'German', 'call', 'to', 'boycott', 'British', 'lamb', '.'],\n",
              " ['B-ORG', 'O', 'B-MISC', 'O', 'O', 'O', 'B-MISC', 'O', 'O']]"
            ]
          },
          "metadata": {
            "tags": []
          },
          "execution_count": 48
        }
      ]
    },
    {
      "cell_type": "code",
      "metadata": {
        "id": "7ujF5JNDm7cS",
        "colab_type": "code",
        "colab": {
          "base_uri": "https://localhost:8080/",
          "height": 442
        },
        "outputId": "5e9ea71c-d964-4e07-f370-836e1fc8178e"
      },
      "source": [
        "test_path = '/content/test_1.txt'\n",
        "f = open(test_path, \"r\")\n",
        "print(f.read(200))"
      ],
      "execution_count": 43,
      "outputs": [
        {
          "output_type": "stream",
          "text": [
            "SOCCER\tO\n",
            "-\tO\n",
            "JAPAN\tB-LOC\n",
            "GET\tO\n",
            "LUCKY\tO\n",
            "WIN\tO\n",
            ",\tO\n",
            "CHINA\tB-PER\n",
            "IN\tO\n",
            "SURPRISE\tO\n",
            "DEFEAT\tO\n",
            ".\tO\n",
            "\n",
            "Nadim\tB-PER\n",
            "Ladki\tI-PER\n",
            "\n",
            "AL-AIN\tB-LOC\n",
            ",\tO\n",
            "United\tB-LOC\n",
            "Arab\tI-LOC\n",
            "Emirates\tI-LOC\n",
            "1996-12-06\tO\n",
            "\n",
            "Japan\tB-LOC\n",
            "be\n"
          ],
          "name": "stdout"
        }
      ]
    },
    {
      "cell_type": "code",
      "metadata": {
        "id": "CnqgKaGmmcUC",
        "colab_type": "code",
        "colab": {
          "base_uri": "https://localhost:8080/",
          "height": 255
        },
        "outputId": "2cae3f71-4b13-469a-b1ac-de3cced889e6"
      },
      "source": [
        "#def load__data_conll(file_path):\n",
        "myoutput_test,words,tags = [],[],[]\n",
        "fh = open(test_path)\n",
        "for line in fh:\n",
        "    line = line.strip()\n",
        "    if \"\\t\" not in line:\n",
        "        #Sentence ended.\n",
        "        myoutput_test.append([words,tags])\n",
        "        words,tags = [],[]\n",
        "    else:\n",
        "        word, tag = line.split(\"\\t\")\n",
        "        words.append(word)\n",
        "        tags.append(tag)\n",
        "fh.close()\n",
        "conll_dev=myoutput_test\n",
        "print(len(myoutput_test))\n",
        "myoutput_test[0]\n",
        "# cu moi myoutput se co 2 list: 1 list text va 1 list label"
      ],
      "execution_count": 49,
      "outputs": [
        {
          "output_type": "stream",
          "text": [
            "3453\n"
          ],
          "name": "stdout"
        },
        {
          "output_type": "execute_result",
          "data": {
            "text/plain": [
              "[['SOCCER',\n",
              "  '-',\n",
              "  'JAPAN',\n",
              "  'GET',\n",
              "  'LUCKY',\n",
              "  'WIN',\n",
              "  ',',\n",
              "  'CHINA',\n",
              "  'IN',\n",
              "  'SURPRISE',\n",
              "  'DEFEAT',\n",
              "  '.'],\n",
              " ['O', 'O', 'B-LOC', 'O', 'O', 'O', 'O', 'B-PER', 'O', 'O', 'O', 'O']]"
            ]
          },
          "metadata": {
            "tags": []
          },
          "execution_count": 49
        }
      ]
    },
    {
      "cell_type": "code",
      "metadata": {
        "id": "i5qJYo1fmnuN",
        "colab_type": "code",
        "colab": {
          "base_uri": "https://localhost:8080/",
          "height": 34
        },
        "outputId": "2eeed958-997b-446b-80a9-fc2056f22721"
      },
      "source": [
        "myoutput_test[1]"
      ],
      "execution_count": 44,
      "outputs": [
        {
          "output_type": "execute_result",
          "data": {
            "text/plain": [
              "[['Nadim', 'Ladki'], ['B-PER', 'I-PER']]"
            ]
          },
          "metadata": {
            "tags": []
          },
          "execution_count": 44
        }
      ]
    },
    {
      "cell_type": "code",
      "metadata": {
        "id": "vtrdNMCJpmVg",
        "colab_type": "code",
        "colab": {
          "base_uri": "https://localhost:8080/",
          "height": 119
        },
        "outputId": "1b28e3cc-3d29-4fb5-8b5c-016b0c4fcc15"
      },
      "source": [
        "conll_data=conll_train\n",
        "for sentence in conll_data[:3]:\n",
        "  print('sentence0',sentence[0])\n",
        "  print('sentence1',sentence[1])"
      ],
      "execution_count": 53,
      "outputs": [
        {
          "output_type": "stream",
          "text": [
            "sentence0 ['EU', 'rejects', 'German', 'call', 'to', 'boycott', 'British', 'lamb', '.']\n",
            "sentence1 ['B-ORG', 'O', 'B-MISC', 'O', 'O', 'O', 'B-MISC', 'O', 'O']\n",
            "sentence0 ['Peter', 'Blackburn']\n",
            "sentence1 ['B-PER', 'I-PER']\n",
            "sentence0 ['BRUSSELS', '1996-08-22']\n",
            "sentence1 ['B-LOC', 'O']\n"
          ],
          "name": "stdout"
        }
      ]
    },
    {
      "cell_type": "code",
      "metadata": {
        "id": "lNxowWmOoxF5",
        "colab_type": "code",
        "colab": {}
      },
      "source": [
        "print(\"Training a Sequence classification model with CRF\")\n",
        "\n",
        "#Extract features from the conll data, after loading it.\n",
        "conll_data=conll_train\n",
        "feats = []\n",
        "labels = []\n",
        "for sentence in conll_data:\n",
        "  feats = []\n",
        "  sen_tags = pos_tag(sentence) #This format is specific to this POS tagger!\n",
        "  for i in range(0,len(sentence)):\n",
        "      word = sentence[i]\n",
        "      wordfeats = {}\n",
        "      #word features: word, prev 2 words, next 2 words in the sentence.\n",
        "      wordfeats['word'] = word\n",
        "      if i == 0:\n",
        "          wordfeats[\"prevWord\"] = wordfeats[\"prevSecondWord\"] = \"<S>\"\n",
        "      elif i==1:\n",
        "          wordfeats[\"prevWord\"] = sentence[0]\n",
        "          wordfeats[\"prevSecondWord\"] = \"</S>\"\n",
        "      else:\n",
        "          wordfeats[\"prevWord\"] = sentence[i-1]\n",
        "          wordfeats[\"prevSecondWord\"] = sentence[i-2]\n",
        "      #next two words as features\n",
        "      if i == len(sentence)-2:\n",
        "          wordfeats[\"nextWord\"] = sentence[i+1]\n",
        "          wordfeats[\"nextNextWord\"] = \"</S>\"\n",
        "      elif i==len(sentence)-1:\n",
        "          wordfeats[\"nextWord\"] = \"</S>\"\n",
        "          wordfeats[\"nextNextWord\"] = \"</S>\"\n",
        "      else:\n",
        "          wordfeats[\"nextWord\"] = sentence[i+1]\n",
        "          wordfeats[\"nextNextWord\"] = sentence[i+2]\n",
        "      \n",
        "      #POS tag features: current tag, previous and next 2 tags.\n",
        "      wordfeats['tag'] = sen_tags[i][1]\n",
        "      if i == 0:\n",
        "          wordfeats[\"prevTag\"] = wordfeats[\"prevSecondTag\"] = \"<S>\"\n",
        "      elif i == 1:\n",
        "          wordfeats[\"prevTag\"] = sen_tags[0][1]\n",
        "          wordfeats[\"prevSecondTag\"] = \"</S>\"\n",
        "      else:\n",
        "          wordfeats[\"prevTag\"] = sen_tags[i - 1][1]\n",
        "\n",
        "          wordfeats[\"prevSecondTag\"] = sen_tags[i - 2][1]\n",
        "          # next two words as features\n",
        "      if i == len(sentence) - 2:\n",
        "          wordfeats[\"nextTag\"] = sen_tags[i + 1][1]\n",
        "          wordfeats[\"nextNextTag\"] = \"</S>\"\n",
        "      elif i == len(sentence) - 1:\n",
        "          wordfeats[\"nextTag\"] = \"</S>\"\n",
        "          wordfeats[\"nextNextTag\"] = \"</S>\"\n",
        "      else:\n",
        "          wordfeats[\"nextTag\"] = sen_tags[i + 1][1]\n",
        "          wordfeats[\"nextNextTag\"] = sen_tags[i + 2][1]\n",
        "      #That is it! You can add whatever you want!\n",
        "      feats.append(wordfeats)\n",
        "      #return feats\n",
        "\n",
        "  feats.append(sent2feats(sentence[0]))\n",
        "  labels.append(sentence[1])\n",
        "#return feats, labels"
      ],
      "execution_count": null,
      "outputs": []
    },
    {
      "cell_type": "code",
      "metadata": {
        "id": "QWK3SNwDpn9Y",
        "colab_type": "code",
        "colab": {}
      },
      "source": [
        ""
      ],
      "execution_count": null,
      "outputs": []
    }
  ]
}