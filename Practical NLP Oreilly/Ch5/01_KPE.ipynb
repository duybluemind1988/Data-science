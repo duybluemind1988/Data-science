{
  "nbformat": 4,
  "nbformat_minor": 0,
  "metadata": {
    "kernelspec": {
      "display_name": "Python 2",
      "language": "python",
      "name": "python2"
    },
    "language_info": {
      "codemirror_mode": {
        "name": "ipython",
        "version": 2
      },
      "file_extension": ".py",
      "mimetype": "text/x-python",
      "name": "python",
      "nbconvert_exporter": "python",
      "pygments_lexer": "ipython2",
      "version": "2.7.17"
    },
    "colab": {
      "name": "01_KPE.ipynb",
      "provenance": []
    }
  },
  "cells": [
    {
      "cell_type": "code",
      "metadata": {
        "id": "f05ckwCwME67",
        "colab_type": "code",
        "colab": {}
      },
      "source": [
        "!pip install textacy"
      ],
      "execution_count": null,
      "outputs": []
    },
    {
      "cell_type": "code",
      "metadata": {
        "id": "4rR22kWtMJl4",
        "colab_type": "code",
        "colab": {
          "base_uri": "https://localhost:8080/",
          "height": 88
        },
        "outputId": "21d6ab3f-0b92-4cc6-b0b1-42783ff22809"
      },
      "source": [
        "#We need texacy, which inturn loads spacy library\n",
        "!python -m spacy download en_core_web_sm"
      ],
      "execution_count": 1,
      "outputs": [
        {
          "output_type": "stream",
          "text": [
            "Requirement already satisfied: en_core_web_sm==2.1.0 from https://github.com/explosion/spacy-models/releases/download/en_core_web_sm-2.1.0/en_core_web_sm-2.1.0.tar.gz#egg=en_core_web_sm==2.1.0 in /usr/local/lib/python2.7/dist-packages (2.1.0)\n",
            "\u001b[38;5;2m✔ Download and installation successful\u001b[0m\n",
            "You can now load the model via spacy.load('en_core_web_sm')\n"
          ],
          "name": "stdout"
        }
      ]
    },
    {
      "cell_type": "code",
      "metadata": {
        "id": "xFiI6A1s-5O_",
        "colab_type": "code",
        "colab": {}
      },
      "source": [
        "import pandas as pd\n",
        "import numpy as np\n",
        "import spacy\n",
        "import textacy.ke\n",
        "from textacy import *"
      ],
      "execution_count": 5,
      "outputs": []
    },
    {
      "cell_type": "code",
      "metadata": {
        "id": "5kOqUhcwMYNI",
        "colab_type": "code",
        "colab": {
          "base_uri": "https://localhost:8080/",
          "height": 34
        },
        "outputId": "1fe300bc-6e1a-41a6-8ea9-b906366c9ee6"
      },
      "source": [
        "#Load a spacy model, which will be used for all further processing.\n",
        "en = textacy.load_spacy_lang(\"en_core_web_sm\")\n",
        "en"
      ],
      "execution_count": 3,
      "outputs": [
        {
          "output_type": "execute_result",
          "data": {
            "text/plain": [
              "<spacy.lang.en.English at 0x7fb091158310>"
            ]
          },
          "metadata": {
            "tags": []
          },
          "execution_count": 3
        }
      ]
    },
    {
      "cell_type": "code",
      "metadata": {
        "id": "xE14fuaM-5PF",
        "colab_type": "code",
        "colab": {
          "base_uri": "https://localhost:8080/",
          "height": 103
        },
        "outputId": "1172b86c-c019-4f5f-add4-8b6a5beeccfc"
      },
      "source": [
        "#Let us use a sample text file, nlphistory.txt, which is the text from the history section of Wikipedia's\n",
        "#page on Natural Language Processing \n",
        "#https://en.wikipedia.org/wiki/Natural_language_processing\n",
        "#path = 'PATH TO REPO'\n",
        "#mytext = open(path+'./Data/nlphistory.txt').read()\n",
        "path='https://raw.githubusercontent.com/duybluemind1988/Data-science/master/Practical%20NLP%20Oreilly/Ch5/Data/nlphistory.txt'\n",
        "path_2='/content/nlphistory.txt'\n",
        "mytext = open(path_2).read()\n",
        "mytext"
      ],
      "execution_count": 27,
      "outputs": [
        {
          "output_type": "execute_result",
          "data": {
            "application/vnd.google.colaboratory.intrinsic+json": {
              "type": "string"
            },
            "text/plain": [
              "'The history of natural language processing generally started in the 1950s, although work can be found from earlier periods. In 1950, Alan Turing published an article titled \"Intelligence\" which proposed what is now called the Turing test as a criterion of intelligence.\\n\\nThe Georgetown experiment in 1954 involved fully automatic translation of more than sixty Russian sentences into English. The authors claimed that within three or five years, machine translation would be a solved problem.[2] However, real progress was much slower, and after the ALPAC report in 1966, which found that ten-year-long research had failed to fulfill the expectations, funding for machine translation was dramatically reduced. Little further research in machine translation was conducted until the late 1980s, when the first statistical machine translation systems were developed.\\n\\nSome notably successful natural language processing systems developed in the 1960s were SHRDLU, a natural language system working in restricted \"blocks worlds\" with restricted vocabularies, and ELIZA, a simulation of a Rogerian psychotherapist, written by Joseph Weizenbaum between 1964 and 1966. Using almost no information about human thought or emotion, ELIZA sometimes provided a startlingly human-like interaction. When the \"patient\" exceeded the very small knowledge base, ELIZA might provide a generic response, for example, responding to \"My head hurts\" with \"Why do you say your head hurts?\".\\n\\nDuring the 1970s, many programmers began to write \"conceptual ontologies\", which structured real-world information into computer-understandable data. Examples are MARGIE (Schank, 1975), SAM (Cullingford, 1978), PAM (Wilensky, 1978), TaleSpin (Meehan, 1976), QUALM (Lehnert, 1977), Politics (Carbonell, 1979), and Plot Units (Lehnert 1981). During this time, many chatterbots were written including PARRY, Racter, and Jabberwacky.\\n\\nUp to the 1980s,most natural language processing systems were based on complex sets of hand-written rules. Starting in the late 1980s, however, there was a revolution in natural language processing with the introduction of machine learning algorithms for language processing. This was due to both the steady increase in computational power (see Moore\\'s law) and the gradual lessening of the dominance of Chomskyan theories of linguistics (e.g. transformational grammar), whose theoretical underpinnings discouraged the sort of corpus linguistics that underlies the machine-learning approach to language processing.[3] Some of the earliest-used machine learning algorithms, such as decision trees, produced systems of hard if-then rules similar to existing hand-written rules. However, part-of-speech tagging introduced the use of hidden Markov models to natural language processing, and increasingly, research has focused on statistical models, which make soft, probabilistic decisions based on attaching real-valued weights to the features making up the input data. The cache language models upon which many speech recognition systems now rely are examples of such statistical models. Such models are generally more robust when given unfamiliar input, especially input that contains errors (as is very common for real-world data), and produce more reliable results when integrated into a larger system comprising multiple subtasks.\\n\\nMany of the notable early successes occurred in the field of machine translation, due especially to work at IBM Research, where successively more complicated statistical models were developed. These systems were able to take advantage of existing multilingual textual corpora that had been produced by the Parliament of Canada and the European Union as a result of laws calling for the translation of all governmental proceedings into all official languages of the corresponding systems of government. However, most other systems depended on corpora specifically developed for the tasks implemented by these systems, which was (and often continues to be) a major limitation in the success of these systems. As a result, a great deal of research has gone into methods of more effectively learning from limited amounts of data.\\n\\nRecent research has increasingly focused on unsupervised and semi-supervised learning algorithms. Such algorithms are able to learn from data that has not been hand-annotated with the desired answers, or using a combination of annotated and non-annotated data. Generally, this task is much more difficult than supervised learning, and typically produces less accurate results for a given amount of input data. However, there is an enormous amount of non-annotated data available (including, among other things, the entire content of the World Wide Web), which can often make up for the inferior results if the algorithm used has a low enough time complexity to be practical.\\n\\nIn the 2010s, representation learning and deep neural network-style machine learning methods became widespread in natural language processing, due in part to a flurry of results showing that such techniques[4][5] can achieve state-of-the-art results in many natural language tasks, for example in language modeling,[6] parsing,[7][8] and many others. Popular techniques include the use of word embeddings to capture semantic properties of words, and an increase in end-to-end learning of a higher-level task (e.g., question answering) instead of relying on a pipeline of separate intermediate tasks (e.g., part-of-speech tagging and dependency parsing). In some areas, this shift has entailed substantial changes in how NLP systems are designed, such that deep neural network-based approaches may be viewed as a new paradigm distinct from statistical natural language processing. For instance, the term neural machine translation (NMT) emphasizes the fact that deep learning-based approaches to machine translation directly learn sequence-to-sequence transformations, obviating the need for intermediate steps such as word alignment and language modeling that were used in statistical machine translation (SMT). \\n'"
            ]
          },
          "metadata": {
            "tags": []
          },
          "execution_count": 27
        }
      ]
    },
    {
      "cell_type": "code",
      "metadata": {
        "id": "RePjXXvsPUeb",
        "colab_type": "code",
        "colab": {
          "base_uri": "https://localhost:8080/",
          "height": 309
        },
        "outputId": "e80206f6-2272-4793-a66b-aa917a683698"
      },
      "source": [
        "import requests\n",
        "url = path\n",
        "mytext2 = requests.get(url)\n",
        "mytext2=mytext2.text\n",
        "print(mytext2)"
      ],
      "execution_count": 29,
      "outputs": [
        {
          "output_type": "stream",
          "text": [
            "The history of natural language processing generally started in the 1950s, although work can be found from earlier periods. In 1950, Alan Turing published an article titled \"Intelligence\" which proposed what is now called the Turing test as a criterion of intelligence.\n",
            "\n",
            "The Georgetown experiment in 1954 involved fully automatic translation of more than sixty Russian sentences into English. The authors claimed that within three or five years, machine translation would be a solved problem.[2] However, real progress was much slower, and after the ALPAC report in 1966, which found that ten-year-long research had failed to fulfill the expectations, funding for machine translation was dramatically reduced. Little further research in machine translation was conducted until the late 1980s, when the first statistical machine translation systems were developed.\n",
            "\n",
            "Some notably successful natural language processing systems developed in the 1960s were SHRDLU, a natural language system working in restricted \"blocks worlds\" with restricted vocabularies, and ELIZA, a simulation of a Rogerian psychotherapist, written by Joseph Weizenbaum between 1964 and 1966. Using almost no information about human thought or emotion, ELIZA sometimes provided a startlingly human-like interaction. When the \"patient\" exceeded the very small knowledge base, ELIZA might provide a generic response, for example, responding to \"My head hurts\" with \"Why do you say your head hurts?\".\n",
            "\n",
            "During the 1970s, many programmers began to write \"conceptual ontologies\", which structured real-world information into computer-understandable data. Examples are MARGIE (Schank, 1975), SAM (Cullingford, 1978), PAM (Wilensky, 1978), TaleSpin (Meehan, 1976), QUALM (Lehnert, 1977), Politics (Carbonell, 1979), and Plot Units (Lehnert 1981). During this time, many chatterbots were written including PARRY, Racter, and Jabberwacky.\n",
            "\n",
            "Up to the 1980s,most natural language processing systems were based on complex sets of hand-written rules. Starting in the late 1980s, however, there was a revolution in natural language processing with the introduction of machine learning algorithms for language processing. This was due to both the steady increase in computational power (see Moore's law) and the gradual lessening of the dominance of Chomskyan theories of linguistics (e.g. transformational grammar), whose theoretical underpinnings discouraged the sort of corpus linguistics that underlies the machine-learning approach to language processing.[3] Some of the earliest-used machine learning algorithms, such as decision trees, produced systems of hard if-then rules similar to existing hand-written rules. However, part-of-speech tagging introduced the use of hidden Markov models to natural language processing, and increasingly, research has focused on statistical models, which make soft, probabilistic decisions based on attaching real-valued weights to the features making up the input data. The cache language models upon which many speech recognition systems now rely are examples of such statistical models. Such models are generally more robust when given unfamiliar input, especially input that contains errors (as is very common for real-world data), and produce more reliable results when integrated into a larger system comprising multiple subtasks.\n",
            "\n",
            "Many of the notable early successes occurred in the field of machine translation, due especially to work at IBM Research, where successively more complicated statistical models were developed. These systems were able to take advantage of existing multilingual textual corpora that had been produced by the Parliament of Canada and the European Union as a result of laws calling for the translation of all governmental proceedings into all official languages of the corresponding systems of government. However, most other systems depended on corpora specifically developed for the tasks implemented by these systems, which was (and often continues to be) a major limitation in the success of these systems. As a result, a great deal of research has gone into methods of more effectively learning from limited amounts of data.\n",
            "\n",
            "Recent research has increasingly focused on unsupervised and semi-supervised learning algorithms. Such algorithms are able to learn from data that has not been hand-annotated with the desired answers, or using a combination of annotated and non-annotated data. Generally, this task is much more difficult than supervised learning, and typically produces less accurate results for a given amount of input data. However, there is an enormous amount of non-annotated data available (including, among other things, the entire content of the World Wide Web), which can often make up for the inferior results if the algorithm used has a low enough time complexity to be practical.\n",
            "\n",
            "In the 2010s, representation learning and deep neural network-style machine learning methods became widespread in natural language processing, due in part to a flurry of results showing that such techniques[4][5] can achieve state-of-the-art results in many natural language tasks, for example in language modeling,[6] parsing,[7][8] and many others. Popular techniques include the use of word embeddings to capture semantic properties of words, and an increase in end-to-end learning of a higher-level task (e.g., question answering) instead of relying on a pipeline of separate intermediate tasks (e.g., part-of-speech tagging and dependency parsing). In some areas, this shift has entailed substantial changes in how NLP systems are designed, such that deep neural network-based approaches may be viewed as a new paradigm distinct from statistical natural language processing. For instance, the term neural machine translation (NMT) emphasizes the fact that deep learning-based approaches to machine translation directly learn sequence-to-sequence transformations, obviating the need for intermediate steps such as word alignment and language modeling that were used in statistical machine translation (SMT). \n",
            "\n"
          ],
          "name": "stdout"
        }
      ]
    },
    {
      "cell_type": "code",
      "metadata": {
        "id": "2FpdoM2lMt3P",
        "colab_type": "code",
        "colab": {
          "base_uri": "https://localhost:8080/",
          "height": 34
        },
        "outputId": "c5bf15b2-9ea0-4cc3-d230-cafcdbf94321"
      },
      "source": [
        "#convert the text into a spacy document.\n",
        "doc = textacy.make_spacy_doc(mytext2, lang=en)\n",
        "doc._.preview"
      ],
      "execution_count": 33,
      "outputs": [
        {
          "output_type": "execute_result",
          "data": {
            "text/plain": [
              "u'Doc(1090 tokens: \"The history of natural language processing gene...\")'"
            ]
          },
          "metadata": {
            "tags": []
          },
          "execution_count": 33
        }
      ]
    },
    {
      "cell_type": "code",
      "metadata": {
        "id": "6NO_Y6ekREsg",
        "colab_type": "code",
        "colab": {
          "base_uri": "https://localhost:8080/",
          "height": 102
        },
        "outputId": "12f726cf-0750-43ab-f5e1-e14aff8d6728"
      },
      "source": [
        "textacy.ke.textrank(doc, topn=5)"
      ],
      "execution_count": 34,
      "outputs": [
        {
          "output_type": "execute_result",
          "data": {
            "text/plain": [
              "[(u'successful natural language processing system', 0.02477763226482553),\n",
              " (u'statistical machine translation system', 0.024691643927525625),\n",
              " (u'natural language system', 0.020534645561892825),\n",
              " (u'statistical natural language processing', 0.018614712584248353),\n",
              " (u'natural language task', 0.015808223689229454)]"
            ]
          },
          "metadata": {
            "tags": []
          },
          "execution_count": 34
        }
      ]
    },
    {
      "cell_type": "code",
      "metadata": {
        "id": "uIpK0SZbRYhB",
        "colab_type": "code",
        "colab": {
          "base_uri": "https://localhost:8080/",
          "height": 71
        },
        "outputId": "ed3cba17-7392-4284-a5b1-30aa8645371f"
      },
      "source": [
        "#Print the keywords using TextRank algorithm, as implemented in Textacy.\n",
        "print(\"Textrank output: \", [kps for kps, weights in textacy.ke.textrank(doc, normalize=\"lemma\", topn=5)])\\\n",
        "#Print the key words and phrases, using SGRank algorithm, as implemented in Textacy\n",
        "print(\"SGRank output: \", [kps for kps, weights in textacy.ke.sgrank(doc, topn=5)])"
      ],
      "execution_count": 35,
      "outputs": [
        {
          "output_type": "stream",
          "text": [
            "('Textrank output: ', [u'successful natural language processing system', u'statistical machine translation system', u'natural language system', u'statistical natural language processing', u'natural language task'])\n",
            "('SGRank output: ', [u'natural language processing system', u'machine translation', u'successful natural language', u'statistical machine translation system', u'low enough time complexity'])\n"
          ],
          "name": "stdout"
        }
      ]
    },
    {
      "cell_type": "code",
      "metadata": {
        "id": "LPb2zgig-5PT",
        "colab_type": "code",
        "colab": {
          "base_uri": "https://localhost:8080/",
          "height": 187
        },
        "outputId": "6f7c6040-4fd3-43bf-f1aa-df3c53c39486"
      },
      "source": [
        "#To address the issue of overlapping key phrases, textacy has a function: aggregage_term_variants.\n",
        "#Choosing one of the grouped terms per item will give us a list of non-overlapping key phrases!\n",
        "terms = set([term for term,weight in textacy.ke.sgrank(doc)])\n",
        "terms"
      ],
      "execution_count": 37,
      "outputs": [
        {
          "output_type": "execute_result",
          "data": {
            "text/plain": [
              "{u'early',\n",
              " u'example',\n",
              " u'late 1980',\n",
              " u'low enough time complexity',\n",
              " u'machine translation',\n",
              " u'natural language processing system',\n",
              " u'real',\n",
              " u'research',\n",
              " u'statistical machine translation system',\n",
              " u'successful natural language'}"
            ]
          },
          "metadata": {
            "tags": []
          },
          "execution_count": 37
        }
      ]
    },
    {
      "cell_type": "code",
      "metadata": {
        "id": "SDTNogn2SaDr",
        "colab_type": "code",
        "colab": {
          "base_uri": "https://localhost:8080/",
          "height": 54
        },
        "outputId": "b3f7d173-3c45-4e0d-9f5c-c8a8273b08bd"
      },
      "source": [
        "print(textacy.ke.utils.aggregate_term_variants(terms))"
      ],
      "execution_count": 38,
      "outputs": [
        {
          "output_type": "stream",
          "text": [
            "[set([u'statistical machine translation system']), set([u'natural language processing system']), set([u'successful natural language']), set([u'low enough time complexity']), set([u'machine translation']), set([u'late 1980']), set([u'research']), set([u'example']), set([u'early']), set([u'real'])]\n"
          ],
          "name": "stdout"
        }
      ]
    },
    {
      "cell_type": "code",
      "metadata": {
        "id": "Gx-Sqtju-5PW",
        "colab_type": "code",
        "colab": {
          "base_uri": "https://localhost:8080/",
          "height": 54
        },
        "outputId": "c07f6913-a6ca-47d1-8854-f6595bfec75c"
      },
      "source": [
        "#A way to look at key phrases is just consider all noun chunks as potential ones. \n",
        "#However, keep in mind this will result in a lot of phrases, and no way to rank them!\n",
        "\n",
        "print([chunk for chunk in textacy.extract.noun_chunks(doc)])"
      ],
      "execution_count": 39,
      "outputs": [
        {
          "output_type": "stream",
          "text": [
            "[history, natural language processing, 1950s, work, earlier periods, Alan Turing, article, what, criterion, intelligence, Georgetown experiment, fully automatic translation, more than sixty Russian sentences, English, authors, three or five years, machine translation, solved problem.[2, real progress, ALPAC report, ten-year-long research, expectations, machine translation, Little further research, machine translation, late 1980s, first statistical machine translation systems, notably successful natural language processing systems, 1960s, SHRDLU, natural language system, restricted \"blocks worlds, restricted vocabularies, ELIZA, simulation, Rogerian psychotherapist, Joseph Weizenbaum, almost no information, human thought, emotion, ELIZA, startlingly human-like interaction, \"patient, very small knowledge base, ELIZA, generic response, example, \"My head, you, head, 1970s, many programmers, \"conceptual ontologies, real-world information, computer-understandable data, Examples, MARGIE, (Schank, SAM, (Cullingford, PAM, (Wilensky, TaleSpin, (Meehan, QUALM, (Lehnert, Politics, (Carbonell, Plot Units, Lehnert, time, many chatterbots, PARRY, Racter, Jabberwacky, 1980s, most natural language processing systems, complex sets, hand-written rules, late 1980s, revolution, natural language processing, introduction, algorithms, language processing, the steady increase, computational power, Moore's law, gradual lessening, dominance, Chomskyan theories, linguistics, e.g. transformational grammar, theoretical underpinnings, sort, corpus linguistics, machine-learning approach, language, earliest-used machine learning algorithms, decision trees, produced systems, existing hand-written rules, speech, use, hidden Markov models, natural language processing, research, statistical models, soft, probabilistic decisions, real-valued weights, features, input data, cache language models, many speech recognition systems, examples, such statistical models, Such models, unfamiliar input, errors, real-world data, more reliable results, larger system, multiple subtasks, notable early successes, field, machine translation, IBM Research, more complicated statistical models, systems, advantage, existing multilingual textual corpora, Parliament, Canada, European Union, result, laws, translation, governmental proceedings, official languages, corresponding systems, government, However, most other systems, corpora, tasks, systems, major limitation, success, systems, result, great deal, research, methods, limited amounts, data, Recent research, unsupervised and semi-supervised learning algorithms, Such algorithms, data, desired answers, combination, annotated and non-annotated data, task, supervised learning, less accurate results, given amount, input data, enormous amount, non-annotated data, other things, entire content, World Wide Web, inferior results, algorithm, low enough time complexity, representation learning, deep neural network-style machine learning methods, natural language processing, part, flurry, results, such techniques[4][5, -art, many natural language tasks, example, language, Popular techniques, use, word embeddings, semantic properties, words, increase, end, higher-level task, (e.g., question, pipeline, separate intermediate tasks, speech, dependency parsing, areas, shift, substantial changes, NLP systems, deep neural network-based approaches, new paradigm, statistical natural language processing, instance, term neural machine translation, NMT, fact, deep learning-based approaches, machine translation, sequence, need, intermediate steps, word alignment, language modeling, statistical machine translation, SMT]\n"
          ],
          "name": "stdout"
        }
      ]
    },
    {
      "cell_type": "markdown",
      "metadata": {
        "id": "6lD3c7mn-5PZ",
        "colab_type": "text"
      },
      "source": [
        "Textacy also has a bunch of other information extraction functions, many of them based on regular expression patterns and heuristics to address extracting specific expressions such as acronyms and quotations. Apart from these, we can also extract matching custom regular expressions including POS tag patterns, or look for statements involving an entity, subject-verb-object tuples etc. We will discuss some of these as they come, in this chapter. \n",
        "\n",
        "Documentation: https://chartbeat-labs.github.io/textacy/build/html/index.html"
      ]
    },
    {
      "cell_type": "markdown",
      "metadata": {
        "id": "LIhBRoakfpad",
        "colab_type": "text"
      },
      "source": [
        "# Learn Textacy (outside book)"
      ]
    },
    {
      "cell_type": "markdown",
      "metadata": {
        "id": "ksIzErvkfoj-",
        "colab_type": "text"
      },
      "source": [
        "https://chartbeat-labs.github.io/textacy/build/html/getting_started/quickstart.html"
      ]
    },
    {
      "cell_type": "code",
      "metadata": {
        "id": "ikMtqE2t-5Pa",
        "colab_type": "code",
        "colab": {
          "base_uri": "https://localhost:8080/",
          "height": 120
        },
        "outputId": "5aacdee7-88f1-4623-84ba-4e1b4c9e824d"
      },
      "source": [
        "text = (\n",
        "\"Since the so-called \\\"statistical revolution\\\" in the late 1980s and mid 1990s, \"\n",
        "\"much Natural Language Processing research has relied heavily on machine learning. \"\n",
        "\"Formerly, many language-processing tasks typically involved the direct hand coding \"\n",
        "\"of rules, which is not in general robust to natural language variation. \"\n",
        "\"The machine-learning paradigm calls instead for using statistical inference \"\n",
        "\"to automatically learn such rules through the analysis of large corpora \"\n",
        "\"of typical real-world examples.\")\n",
        "text"
      ],
      "execution_count": 42,
      "outputs": [
        {
          "output_type": "execute_result",
          "data": {
            "application/vnd.google.colaboratory.intrinsic+json": {
              "type": "string"
            },
            "text/plain": [
              "'Since the so-called \"statistical revolution\" in the late 1980s and mid 1990s, much Natural Language Processing research has relied heavily on machine learning. Formerly, many language-processing tasks typically involved the direct hand coding of rules, which is not in general robust to natural language variation. The machine-learning paradigm calls instead for using statistical inference to automatically learn such rules through the analysis of large corpora of typical real-world examples.'"
            ]
          },
          "metadata": {
            "tags": []
          },
          "execution_count": 42
        }
      ]
    },
    {
      "cell_type": "code",
      "metadata": {
        "id": "DScUde1vfhbM",
        "colab_type": "code",
        "colab": {}
      },
      "source": [
        ""
      ],
      "execution_count": null,
      "outputs": []
    }
  ]
}