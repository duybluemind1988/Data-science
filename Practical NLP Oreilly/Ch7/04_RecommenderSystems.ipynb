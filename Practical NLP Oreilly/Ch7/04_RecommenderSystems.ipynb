{
  "nbformat": 4,
  "nbformat_minor": 0,
  "metadata": {
    "kernelspec": {
      "display_name": "Python 3",
      "language": "python",
      "name": "python3"
    },
    "language_info": {
      "codemirror_mode": {
        "name": "ipython",
        "version": 3
      },
      "file_extension": ".py",
      "mimetype": "text/x-python",
      "name": "python",
      "nbconvert_exporter": "python",
      "pygments_lexer": "ipython3",
      "version": "3.5.6"
    },
    "colab": {
      "name": "04_RecommenderSystems.ipynb",
      "provenance": []
    }
  },
  "cells": [
    {
      "cell_type": "markdown",
      "metadata": {
        "id": "4L_zBaKu_Lzk",
        "colab_type": "text"
      },
      "source": [
        "This notebook shows an example recommendation system using doc2vec.\n"
      ]
    },
    {
      "cell_type": "code",
      "metadata": {
        "id": "9AdVbCuu_Lzm",
        "colab_type": "code",
        "colab": {}
      },
      "source": [
        "#!pip install gensim\n",
        "#!pip install nltk\n",
        "#todo: add pip for downloading nltk data?"
      ],
      "execution_count": null,
      "outputs": []
    },
    {
      "cell_type": "code",
      "metadata": {
        "id": "Y37eZTis_Lzr",
        "colab_type": "code",
        "colab": {}
      },
      "source": [
        "from nltk.tokenize import word_tokenize\n",
        "from gensim.models.doc2vec import Doc2Vec, TaggedDocument\n"
      ],
      "execution_count": null,
      "outputs": []
    },
    {
      "cell_type": "code",
      "metadata": {
        "id": "rYoc2AZe_Lzv",
        "colab_type": "code",
        "colab": {}
      },
      "source": [
        "#Read the dataset’s README to understand the data format. \n",
        "data_path = \"/content/drive/My Drive/Data/NLP/Practical_NLP_Oreilly/booksummaries.txt\"\n",
        "mydata = {} #titles-summaries dictionary object\n",
        "for line in open(data_path, encoding=\"utf-8\"):\n",
        "    temp = line.split(\"\\t\")\n",
        "    mydata[temp[2]] = temp[6]\n",
        "\n"
      ],
      "execution_count": null,
      "outputs": []
    },
    {
      "cell_type": "code",
      "metadata": {
        "id": "_xV4zx_H_Lzy",
        "colab_type": "code",
        "colab": {}
      },
      "source": [
        "#prepare the data for doc2vec, build and save a doc2vec model\n",
        "train_doc2vec = [TaggedDocument((word_tokenize(mydata[t])), tags=[t]) for t in mydata.keys()]\n",
        "model = Doc2Vec(vector_size=50, alpha=0.025, min_count=10, dm =1, epochs=100)\n",
        "model.build_vocab(train_doc2vec)\n",
        "model.train(train_doc2vec, total_examples=model.corpus_count, epochs=model.epochs)\n",
        "model.save(\"d2v.model\")\n",
        "\n"
      ],
      "execution_count": null,
      "outputs": []
    },
    {
      "cell_type": "code",
      "metadata": {
        "id": "CsFzD5Wo_Lz1",
        "colab_type": "code",
        "colab": {},
        "outputId": "05c8cdc0-dc2b-4acb-88cb-7bb5aa1fd216"
      },
      "source": [
        "#Use the model to look for similar texts\n",
        "model= Doc2Vec.load(\"d2v.model\")\n",
        "\n",
        "#This is a sentence from the summary of “Animal Farm” on Wikipedia:\n",
        "#https://en.wikipedia.org/wiki/Animal_Farm\n",
        "sample = \"\"\"\n",
        "Napoleon enacts changes to the governance structure of the farm, replacing meetings with a committee of pigs who will run the farm.\n",
        " \"\"\"\n",
        "new_vector = model.infer_vector(word_tokenize(sample))\n",
        "sims = model.docvecs.most_similar([new_vector]) #gives 10 most similar titles\n",
        "print(sims)"
      ],
      "execution_count": null,
      "outputs": [
        {
          "output_type": "stream",
          "text": [
            "[('Animal Farm', 0.6777619123458862), ('The Wild Irish Girl', 0.6119967699050903), (\"Snowball's Chance\", 0.60667884349823), ('Family Matters', 0.5831906199455261), ('Settlers in Canada', 0.582908570766449), ('Poor White', 0.5771366953849792), ('The Road to Omaha', 0.576944887638092), ('Ponni', 0.5766265988349915), (\"Family Guy: Stewie's Guide to World Domination\", 0.5674009323120117), ('Texas Fever', 0.5643234848976135)]\n"
          ],
          "name": "stdout"
        }
      ]
    },
    {
      "cell_type": "code",
      "metadata": {
        "id": "B9zyoac-_Lz4",
        "colab_type": "code",
        "colab": {}
      },
      "source": [
        ""
      ],
      "execution_count": null,
      "outputs": []
    }
  ]
}