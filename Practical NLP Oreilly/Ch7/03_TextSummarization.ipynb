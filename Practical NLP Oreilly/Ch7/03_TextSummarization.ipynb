{
 "cells": [
  {
   "cell_type": "markdown",
   "metadata": {
    "colab_type": "text",
    "id": "nDRrAaF6B0Qd"
   },
   "source": [
    "## Text Summarization\n",
    "\n",
    "### There are broadly two types of summarization — Extractive and Abstractive\n",
    "\n",
    "    1. Extractive— These approaches select sentences from the corpus that best represent it and arrange them to form a summary.\n",
    "    2. Abstractive— These approaches use natural language techniques to summarize a text using novel sentences.\n",
    "\n",
    "In this notebook, let us see a few examples of existing summarization approaches.\n",
    "The first one comes from the python library sumy, which implements several popular summarization approaches from literature. The second example uses gensim's summarizer implementation. Then we move on to Summa and finally we wrap up extractive summarization using BERT. "
   ]
  },
  {
   "cell_type": "markdown",
   "metadata": {
    "colab_type": "text",
    "id": "XlIo08bpB0Qm"
   },
   "source": [
    "## Summarization with Sumy\n",
    "\n",
    "### Sumy offers several algorithms and methods for summarization such as:\n",
    "\n",
    "\n",
    "\n",
    "    1. Luhn – Heurestic method\n",
    "    2. Latent Semantic Analysis\n",
    "    4. LexRank – Unsupervised approach inspired by algorithms PageRank and HITS\n",
    "    5. TextRank - Graph-based summarization technique with keyword extractions in from document\n",
    "There are many more which you can find in the github repo of [sumy](https://github.com/miso-belica/sumy)"
   ]
  },
  {
   "cell_type": "code",
   "execution_count": 0,
   "metadata": {
    "colab": {},
    "colab_type": "code",
    "id": "fE-e9HKKB0Qv",
    "outputId": "fcecd5af-f0d5-4245-b3f3-849815c26fb3",
    "scrolled": true
   },
   "outputs": [
    {
     "name": "stdout",
     "output_type": "stream",
     "text": [
      "Requirement already satisfied: sumy in /home/etherealenvy/miniconda3/envs/practicalnlp/lib/python3.5/site-packages (0.8.1)\n",
      "Requirement already satisfied: breadability>=0.1.20 in /home/etherealenvy/miniconda3/envs/practicalnlp/lib/python3.5/site-packages (from sumy) (0.1.20)\n",
      "Requirement already satisfied: pycountry>=18.2.23 in /home/etherealenvy/miniconda3/envs/practicalnlp/lib/python3.5/site-packages (from sumy) (19.8.18)\n",
      "Requirement already satisfied: requests>=2.7.0 in /home/etherealenvy/miniconda3/envs/practicalnlp/lib/python3.5/site-packages (from sumy) (2.23.0)\n",
      "Requirement already satisfied: docopt<0.7,>=0.6.1 in /home/etherealenvy/miniconda3/envs/practicalnlp/lib/python3.5/site-packages (from sumy) (0.6.2)\n",
      "Requirement already satisfied: nltk>=3.0.2 in /home/etherealenvy/miniconda3/envs/practicalnlp/lib/python3.5/site-packages (from sumy) (3.5)\n",
      "Requirement already satisfied: lxml>=2.0 in /home/etherealenvy/miniconda3/envs/practicalnlp/lib/python3.5/site-packages (from breadability>=0.1.20->sumy) (4.5.0)\n",
      "Requirement already satisfied: chardet in /home/etherealenvy/miniconda3/envs/practicalnlp/lib/python3.5/site-packages (from breadability>=0.1.20->sumy) (3.0.4)\n",
      "Requirement already satisfied: urllib3!=1.25.0,!=1.25.1,<1.26,>=1.21.1 in /home/etherealenvy/miniconda3/envs/practicalnlp/lib/python3.5/site-packages (from requests>=2.7.0->sumy) (1.25.9)\n",
      "Requirement already satisfied: idna<3,>=2.5 in /home/etherealenvy/miniconda3/envs/practicalnlp/lib/python3.5/site-packages (from requests>=2.7.0->sumy) (2.9)\n",
      "Requirement already satisfied: certifi>=2017.4.17 in /home/etherealenvy/miniconda3/envs/practicalnlp/lib/python3.5/site-packages (from requests>=2.7.0->sumy) (2018.8.24)\n",
      "Requirement already satisfied: tqdm in /home/etherealenvy/miniconda3/envs/practicalnlp/lib/python3.5/site-packages (from nltk>=3.0.2->sumy) (4.46.0)\n",
      "Requirement already satisfied: click in /home/etherealenvy/miniconda3/envs/practicalnlp/lib/python3.5/site-packages (from nltk>=3.0.2->sumy) (7.1.2)\n",
      "Requirement already satisfied: regex in /home/etherealenvy/miniconda3/envs/practicalnlp/lib/python3.5/site-packages (from nltk>=3.0.2->sumy) (2020.4.4)\n",
      "Requirement already satisfied: joblib in /home/etherealenvy/miniconda3/envs/practicalnlp/lib/python3.5/site-packages (from nltk>=3.0.2->sumy) (0.14.1)\n"
     ]
    }
   ],
   "source": [
    "!pip install sumy #install sumy"
   ]
  },
  {
   "cell_type": "code",
   "execution_count": 0,
   "metadata": {
    "colab": {},
    "colab_type": "code",
    "id": "ZVKqAHCEB0R0",
    "outputId": "8723b0bf-d3a8-4d08-de38-61c0d242647b"
   },
   "outputs": [
    {
     "name": "stderr",
     "output_type": "stream",
     "text": [
      "[nltk_data] Downloading package punkt to\n",
      "[nltk_data]     /home/etherealenvy/nltk_data...\n",
      "[nltk_data]   Unzipping tokenizers/punkt.zip.\n"
     ]
    },
    {
     "data": {
      "text/plain": [
       "True"
      ]
     },
     "execution_count": 5,
     "metadata": {
      "tags": []
     },
     "output_type": "execute_result"
    }
   ],
   "source": [
    "import nltk\n",
    "# nltk.download('punkt')"
   ]
  },
  {
   "cell_type": "code",
   "execution_count": 0,
   "metadata": {
    "colab": {},
    "colab_type": "code",
    "id": "SVu_YDlXB0SR",
    "outputId": "396bccc7-eeeb-43c4-dc60-a4c718d2dd67"
   },
   "outputs": [
    {
     "name": "stdout",
     "output_type": "stream",
     "text": [
      "TextRankSummarizer:\n",
      "For text, extraction is analogous to the process of skimming, where the summary (if available), headings and subheadings, figures, the first and last paragraphs of a section, and optionally the first and last sentences in a paragraph are read before one chooses to read the entire document in detail.\n",
      "Once the graph is constructed, it is used to form a stochastic matrix, combined with a damping factor (as in the \"random surfer model\"), and the ranking over vertices is obtained by finding the eigenvector corresponding to eigenvalue 1 (i.e., the stationary distribution of the random walk on the graph).\n",
      "------------------------------\n",
      "LexRankSummarizer:\n",
      "An example of a summarization problem is document summarization, which attempts to automatically produce an abstract from a given document.\n",
      "The main difficulty in supervised extractive summarization is that the known summaries must be manually created by extracting sentences so the sentences in an original training document can be labeled as \"in summary\" or \"not in summary\".\n",
      "------------------------------\n",
      "LuhnSummarizer:\n",
      "This tool does not use word frequency, does not need training or preprocessing of any kind and works by generating ideograms that represent the meaning of each sentence and then summarizes using two user-supplied parameters: equivalence (when are two sentences to be considered equivalent) and relevance (how long is the desired summary).\n",
      "A Class of Submodular Functions for Document Summarization \", The 49th Annual Meeting of the Association for Computational Linguistics: Human Language Technologies (ACL-HLT), 2011 ^ Sebastian Tschiatschek, Rishabh Iyer, Hoachen Wei and Jeff Bilmes, Learning Mixtures of Submodular Functions for Image Collection Summarization , In Advances of Neural Information Processing Systems (NIPS), Montreal, Canada, December - 2014.\n",
      "------------------------------\n",
      "LsaSummarizer\n",
      "For instance, in the above text, we might learn a rule that says phrases with initial capital letters are likely to be keyphrases.\n",
      "Hulth uses a reduced set of features, which were found most successful in the KEA (Keyphrase Extraction Algorithm) work derived from Turney’s seminal paper.\n",
      "------------------------------\n"
     ]
    }
   ],
   "source": [
    "#Code to summarize a given webpage using Sumy's TextRank implementation. \n",
    "from sumy.parsers.html import HtmlParser\n",
    "from sumy.nlp.tokenizers import Tokenizer\n",
    "from sumy.summarizers.text_rank import TextRankSummarizer\n",
    "from sumy.summarizers.lex_rank import LexRankSummarizer\n",
    "from sumy.summarizers.luhn import LuhnSummarizer\n",
    "from sumy.summarizers.lsa import LsaSummarizer\n",
    "\n",
    "num_sentences_in_summary = 2\n",
    "url = \"https://en.wikipedia.org/wiki/Automatic_summarization\"\n",
    "parser = HtmlParser.from_url(url, Tokenizer(\"english\"))\n",
    "\n",
    "summarizer_list=(\"TextRankSummarizer:\",\"LexRankSummarizer:\",\"LuhnSummarizer:\",\"LsaSummarizer\") #list of summarizers\n",
    "summarizers = [TextRankSummarizer(), LexRankSummarizer(), LuhnSummarizer(), LsaSummarizer()]\n",
    "\n",
    "for i,summarizer in enumerate(summarizers):\n",
    "    print(summarizer_list[i])\n",
    "    for sentence in summarizer(parser.document, num_sentences_in_summary):\n",
    "        print((sentence))\n",
    "    print(\"-\"*30)"
   ]
  },
  {
   "cell_type": "markdown",
   "metadata": {
    "colab_type": "text",
    "id": "i5Qyd9M2B0Ss"
   },
   "source": [
    "Clearly there are other summarizers and options in sumy. We leave their exploration as an exercise to you!\n",
    "\n",
    "## Summarization example with Gensim"
   ]
  },
  {
   "cell_type": "code",
   "execution_count": 0,
   "metadata": {
    "colab": {},
    "colab_type": "code",
    "id": "TZOIdGesB0Sy",
    "outputId": "373be4d4-565b-46a2-be01-d3ccbb8e3fc5"
   },
   "outputs": [
    {
     "name": "stdout",
     "output_type": "stream",
     "text": [
      "Collecting gensim\n",
      "  Downloading gensim-3.8.3-cp36-cp36m-manylinux1_x86_64.whl (24.2 MB)\n",
      "\u001b[K     |████████████████████████████████| 24.2 MB 117 kB/s eta 0:00:01\n",
      "\u001b[?25hRequirement already satisfied: scipy>=0.18.1 in /home/etherealenvy/miniconda3/envs/practicalnlp/lib/python3.6/site-packages (from gensim) (1.4.1)\n",
      "Requirement already satisfied: numpy>=1.11.3 in /home/etherealenvy/miniconda3/envs/practicalnlp/lib/python3.6/site-packages (from gensim) (1.18.4)\n",
      "Collecting smart-open>=1.8.1\n",
      "  Using cached smart_open-2.0.0.tar.gz (103 kB)\n",
      "Requirement already satisfied: six>=1.5.0 in /home/etherealenvy/miniconda3/envs/practicalnlp/lib/python3.6/site-packages (from gensim) (1.14.0)\n",
      "Requirement already satisfied: requests in /home/etherealenvy/.local/lib/python3.6/site-packages (from smart-open>=1.8.1->gensim) (2.23.0)\n",
      "Collecting boto\n",
      "  Using cached boto-2.49.0-py2.py3-none-any.whl (1.4 MB)\n",
      "Requirement already satisfied: boto3 in /home/etherealenvy/miniconda3/envs/practicalnlp/lib/python3.6/site-packages (from smart-open>=1.8.1->gensim) (1.13.4)\n",
      "Requirement already satisfied: idna<3,>=2.5 in /home/etherealenvy/.local/lib/python3.6/site-packages (from requests->smart-open>=1.8.1->gensim) (2.9)\n",
      "Requirement already satisfied: urllib3!=1.25.0,!=1.25.1,<1.26,>=1.21.1 in /home/etherealenvy/.local/lib/python3.6/site-packages (from requests->smart-open>=1.8.1->gensim) (1.25.9)\n",
      "Requirement already satisfied: chardet<4,>=3.0.2 in /home/etherealenvy/.local/lib/python3.6/site-packages (from requests->smart-open>=1.8.1->gensim) (3.0.4)\n",
      "Requirement already satisfied: certifi>=2017.4.17 in /home/etherealenvy/.local/lib/python3.6/site-packages (from requests->smart-open>=1.8.1->gensim) (2020.4.5.1)\n",
      "Requirement already satisfied: botocore<1.17.0,>=1.16.4 in /home/etherealenvy/miniconda3/envs/practicalnlp/lib/python3.6/site-packages (from boto3->smart-open>=1.8.1->gensim) (1.16.4)\n",
      "Requirement already satisfied: jmespath<1.0.0,>=0.7.1 in /home/etherealenvy/miniconda3/envs/practicalnlp/lib/python3.6/site-packages (from boto3->smart-open>=1.8.1->gensim) (0.9.5)\n",
      "Requirement already satisfied: s3transfer<0.4.0,>=0.3.0 in /home/etherealenvy/miniconda3/envs/practicalnlp/lib/python3.6/site-packages (from boto3->smart-open>=1.8.1->gensim) (0.3.3)\n",
      "Requirement already satisfied: docutils<0.16,>=0.10 in /home/etherealenvy/miniconda3/envs/practicalnlp/lib/python3.6/site-packages (from botocore<1.17.0,>=1.16.4->boto3->smart-open>=1.8.1->gensim) (0.15.2)\n",
      "Requirement already satisfied: python-dateutil<3.0.0,>=2.1 in /home/etherealenvy/miniconda3/envs/practicalnlp/lib/python3.6/site-packages (from botocore<1.17.0,>=1.16.4->boto3->smart-open>=1.8.1->gensim) (2.8.1)\n",
      "Building wheels for collected packages: smart-open\n",
      "  Building wheel for smart-open (setup.py) ... \u001b[?25ldone\n",
      "\u001b[?25h  Created wheel for smart-open: filename=smart_open-2.0.0-py3-none-any.whl size=101341 sha256=ea090b3b65b0b537ff5b71ea0f1f683dc02f3a05bb489f90eb65da4f3c619a9a\n",
      "  Stored in directory: /home/etherealenvy/.cache/pip/wheels/16/64/85/f3205b74e01a98fb81e081c0d61c2ecd04e4645a986db3726e\n",
      "Successfully built smart-open\n",
      "Installing collected packages: boto, smart-open, gensim\n",
      "Successfully installed boto-2.49.0 gensim-3.8.3 smart-open-2.0.0\n"
     ]
    }
   ],
   "source": [
    "!pip install gensim #installation of the library"
   ]
  },
  {
   "cell_type": "markdown",
   "metadata": {
    "colab_type": "text",
    "id": "YB6IqAnrB0TL"
   },
   "source": [
    "Gensim does not have a HTML parser like sumy. So, let us use the example text from Chapter 5 (nlphistory.txt) to see what its summarized version looks like! \n"
   ]
  },
  {
   "cell_type": "code",
   "execution_count": 0,
   "metadata": {
    "colab": {},
    "colab_type": "code",
    "id": "8dHkUgCoB0TP",
    "outputId": "5f2e675e-7be7-47a7-8bd4-3a7077aef9dc"
   },
   "outputs": [
    {
     "name": "stdout",
     "output_type": "stream",
     "text": [
      "Summarize:\n",
      " Some notably successful natural language processing systems developed in the 1960s were SHRDLU, a natural language system working in restricted \"blocks worlds\" with restricted vocabularies, and ELIZA, a simulation of a Rogerian psychotherapist, written by Joseph Weizenbaum between 1964 and 1966.\n",
      "This was due to both the steady increase in computational power (see Moore's law) and the gradual lessening of the dominance of Chomskyan theories of linguistics (e.g. transformational grammar), whose theoretical underpinnings discouraged the sort of corpus linguistics that underlies the machine-learning approach to language processing.[3] Some of the earliest-used machine learning algorithms, such as decision trees, produced systems of hard if-then rules similar to existing hand-written rules.\n",
      "However, part-of-speech tagging introduced the use of hidden Markov models to natural language processing, and increasingly, research has focused on statistical models, which make soft, probabilistic decisions based on attaching real-valued weights to the features making up the input data.\n",
      "Generally, this task is much more difficult than supervised learning, and typically produces less accurate results for a given amount of input data.\n",
      "In some areas, this shift has entailed substantial changes in how NLP systems are designed, such that deep neural network-based approaches may be viewed as a new paradigm distinct from statistical natural language processing.\n",
      "------------------------------ \n",
      "Summarize Corpus\n",
      " [[(3, 1), (7, 1), (10, 1), (11, 1), (12, 1), (22, 1), (24, 1), (27, 1), (80, 1), (94, 1), (95, 1), (193, 1), (199, 1), (214, 1), (249, 1), (262, 1), (413, 1), (418, 1), (449, 1), (450, 1), (451, 1), (452, 1), (453, 1), (454, 1), (455, 1), (456, 1), (457, 1), (458, 1), (459, 1), (460, 1), (461, 1), (462, 1), (463, 1), (464, 1)], [(11, 1), (12, 1), (13, 1), (17, 3), (38, 1), (55, 1), (57, 1), (76, 1), (82, 2), (94, 1), (164, 1), (203, 1), (206, 2), (257, 1), (258, 1), (259, 1), (260, 1), (261, 1), (262, 1), (263, 1), (264, 1), (265, 1), (266, 1), (267, 1), (268, 1), (269, 1), (270, 1), (271, 1), (272, 1), (273, 1), (274, 1), (275, 1), (276, 1), (277, 1), (278, 1), (279, 1)]]\n"
     ]
    }
   ],
   "source": [
    "from gensim.summarization import summarize,summarize_corpus\n",
    "from gensim.summarization.textcleaner import split_sentences\n",
    "from gensim import corpora\n",
    "\n",
    "text = open(\"nlphistory.txt\").read()\n",
    "\n",
    "#summarize method extracts the most relevant sentences in a text\n",
    "print(\"Summarize:\\n\",summarize(text, word_count=200, ratio = 0.1))\n",
    "\n",
    "\n",
    "#the summarize_corpus selects the most important documents in a corpus:\n",
    "sentences = split_sentences(text)# Creates a corpus where each document is a sentence.\n",
    "tokens = [sentence.split() for sentence in sentences]\n",
    "dictionary = corpora.Dictionary(tokens)\n",
    "corpus = [dictionary.doc2bow(sentence_tokens) for sentence_tokens in tokens]\n",
    "\n",
    "# Extracts the most important documents (shown here in BoW representation)\n",
    "print(\"-\"*30,\"\\nSummarize Corpus\\n\",summarize_corpus(corpus,ratio=0.1))\n",
    "\n",
    "\n"
   ]
  },
  {
   "cell_type": "markdown",
   "metadata": {
    "colab_type": "text",
    "id": "5XGqBqPQB0T7"
   },
   "source": [
    "The two parameters **word_count** and **ratio** we can adjust how much text the summarizer outputs\n",
    "1. word_count: maximum amount of words we want in the summary\n",
    "2. ratio: fraction of sentences in the original text should be returned as output\n",
    "\n",
    "### Todo: Explore other options in gensim summarizer, what are possible shortcomings (e.g., sensitive to input's format etc)\n",
    "[Short-Comings\n",
    "1. gensim's summarizer uses TextRank by default, an algorithm that uses PageRank. In gensim it is unfortunately implemented using a Python list of PageRank graph nodes, so it may fail if your graph is too big.]\n",
    "\n",
    "\n",
    "\n",
    "## Summa Summarizer\n",
    "The summa summarizer uses TextRank too but with optimizations on similar functions. More information about the optimizations can be found in the following [paper](https://arxiv.org/pdf/1602.03606.pdf). "
   ]
  },
  {
   "cell_type": "code",
   "execution_count": 0,
   "metadata": {
    "colab": {},
    "colab_type": "code",
    "id": "5p5qBTf7B0T_",
    "outputId": "76dad3b1-099d-4306-e5e3-0eae8b1ffcf3"
   },
   "outputs": [
    {
     "name": "stdout",
     "output_type": "stream",
     "text": [
      "Requirement already satisfied: summa in /home/etherealenvy/miniconda3/envs/practicalnlp/lib/python3.5/site-packages (1.2.0)\r\n",
      "Requirement already satisfied: scipy>=0.19 in /home/etherealenvy/miniconda3/envs/practicalnlp/lib/python3.5/site-packages (from summa) (1.4.1)\r\n",
      "Requirement already satisfied: numpy>=1.13.3 in /home/etherealenvy/miniconda3/envs/practicalnlp/lib/python3.5/site-packages (from scipy>=0.19->summa) (1.18.4)\r\n"
     ]
    }
   ],
   "source": [
    "!pip install summa"
   ]
  },
  {
   "cell_type": "code",
   "execution_count": 0,
   "metadata": {
    "colab": {},
    "colab_type": "code",
    "id": "EcBq0k1mB0UX",
    "outputId": "4c8f3982-cbd9-4850-f298-9318746af1f9"
   },
   "outputs": [
    {
     "name": "stdout",
     "output_type": "stream",
     "text": [
      "Summary:\n",
      "However, part-of-speech tagging introduced the use of hidden Markov models to natural language processing, and increasingly, research has focused on statistical models, which make soft, probabilistic decisions based on attaching real-valued weights to the features making up the input data.\n",
      "In the 2010s, representation learning and deep neural network-style machine learning methods became widespread in natural language processing, due in part to a flurry of results showing that such techniques[4][5] can achieve state-of-the-art results in many natural language tasks, for example in language modeling,[6] parsing,[7][8] and many others.\n"
     ]
    }
   ],
   "source": [
    "from summa import summarizer\n",
    "from summa import keywords\n",
    "text = open(\"nlphistory.txt\").read()\n",
    "\n",
    "print(\"Summary:\")\n",
    "print (summarizer.summarize(text,ratio=0.1))"
   ]
  },
  {
   "cell_type": "markdown",
   "metadata": {
    "colab_type": "text",
    "id": "0_x7UTe3B0Up"
   },
   "source": [
    "### BERT for Extractive Summarization\n",
    "Lets see how we can use BERT for extractive summarization"
   ]
  },
  {
   "cell_type": "code",
   "execution_count": 0,
   "metadata": {
    "colab": {},
    "colab_type": "code",
    "id": "jN3afk2nB0Ut",
    "outputId": "232f50c2-7a72-4ff9-88c8-63626564177c"
   },
   "outputs": [
    {
     "name": "stdout",
     "output_type": "stream",
     "text": [
      "Python 3.6.10 :: Anaconda, Inc.\r\n"
     ]
    }
   ],
   "source": []
  },
  {
   "cell_type": "code",
   "execution_count": 0,
   "metadata": {
    "colab": {},
    "colab_type": "code",
    "id": "iEGOmpwjB0VE",
    "outputId": "a13ba70e-859f-467a-d2c7-48ab3db91c56"
   },
   "outputs": [
    {
     "name": "stdout",
     "output_type": "stream",
     "text": [
      "Requirement already satisfied: bert-extractive-summarizer in /home/etherealenvy/miniconda3/envs/practicalnlp/lib/python3.6/site-packages (0.4.2)\n",
      "Requirement already satisfied: transformers in /home/etherealenvy/miniconda3/envs/practicalnlp/lib/python3.6/site-packages (from bert-extractive-summarizer) (2.2.2)\n",
      "Requirement already satisfied: spacy in /home/etherealenvy/miniconda3/envs/practicalnlp/lib/python3.6/site-packages (from bert-extractive-summarizer) (2.1.3)\n",
      "Requirement already satisfied: scikit-learn in /home/etherealenvy/miniconda3/envs/practicalnlp/lib/python3.6/site-packages (from bert-extractive-summarizer) (0.22.2.post1)\n",
      "Requirement already satisfied: boto3 in /home/etherealenvy/miniconda3/envs/practicalnlp/lib/python3.6/site-packages (from transformers->bert-extractive-summarizer) (1.13.4)\n",
      "Requirement already satisfied: regex in /home/etherealenvy/.local/lib/python3.6/site-packages (from transformers->bert-extractive-summarizer) (2020.4.4)\n",
      "Requirement already satisfied: numpy in /home/etherealenvy/miniconda3/envs/practicalnlp/lib/python3.6/site-packages (from transformers->bert-extractive-summarizer) (1.18.4)\n",
      "Requirement already satisfied: sacremoses in /home/etherealenvy/miniconda3/envs/practicalnlp/lib/python3.6/site-packages (from transformers->bert-extractive-summarizer) (0.0.43)\n",
      "Requirement already satisfied: tqdm in /home/etherealenvy/.local/lib/python3.6/site-packages (from transformers->bert-extractive-summarizer) (4.46.0)\n",
      "Requirement already satisfied: requests in /home/etherealenvy/.local/lib/python3.6/site-packages (from transformers->bert-extractive-summarizer) (2.23.0)\n",
      "Requirement already satisfied: sentencepiece in /home/etherealenvy/miniconda3/envs/practicalnlp/lib/python3.6/site-packages (from transformers->bert-extractive-summarizer) (0.1.86)\n",
      "Requirement already satisfied: blis<0.3.0,>=0.2.2 in /home/etherealenvy/miniconda3/envs/practicalnlp/lib/python3.6/site-packages (from spacy->bert-extractive-summarizer) (0.2.4)\n",
      "Requirement already satisfied: wasabi<1.1.0,>=0.2.0 in /home/etherealenvy/miniconda3/envs/practicalnlp/lib/python3.6/site-packages (from spacy->bert-extractive-summarizer) (0.6.0)\n",
      "Requirement already satisfied: thinc<7.1.0,>=7.0.2 in /home/etherealenvy/miniconda3/envs/practicalnlp/lib/python3.6/site-packages (from spacy->bert-extractive-summarizer) (7.0.8)\n",
      "Requirement already satisfied: plac<1.0.0,>=0.9.6 in /home/etherealenvy/miniconda3/envs/practicalnlp/lib/python3.6/site-packages (from spacy->bert-extractive-summarizer) (0.9.6)\n",
      "Requirement already satisfied: preshed<2.1.0,>=2.0.1 in /home/etherealenvy/miniconda3/envs/practicalnlp/lib/python3.6/site-packages (from spacy->bert-extractive-summarizer) (2.0.1)\n",
      "Requirement already satisfied: murmurhash<1.1.0,>=0.28.0 in /home/etherealenvy/miniconda3/envs/practicalnlp/lib/python3.6/site-packages (from spacy->bert-extractive-summarizer) (1.0.2)\n",
      "Requirement already satisfied: jsonschema<3.0.0,>=2.6.0 in /home/etherealenvy/miniconda3/envs/practicalnlp/lib/python3.6/site-packages (from spacy->bert-extractive-summarizer) (2.6.0)\n",
      "Requirement already satisfied: srsly<1.1.0,>=0.0.5 in /home/etherealenvy/miniconda3/envs/practicalnlp/lib/python3.6/site-packages (from spacy->bert-extractive-summarizer) (1.0.2)\n",
      "Requirement already satisfied: cymem<2.1.0,>=2.0.2 in /home/etherealenvy/miniconda3/envs/practicalnlp/lib/python3.6/site-packages (from spacy->bert-extractive-summarizer) (2.0.3)\n",
      "Requirement already satisfied: joblib>=0.11 in /home/etherealenvy/.local/lib/python3.6/site-packages (from scikit-learn->bert-extractive-summarizer) (0.14.1)\n",
      "Requirement already satisfied: scipy>=0.17.0 in /home/etherealenvy/miniconda3/envs/practicalnlp/lib/python3.6/site-packages (from scikit-learn->bert-extractive-summarizer) (1.4.1)\n",
      "Requirement already satisfied: s3transfer<0.4.0,>=0.3.0 in /home/etherealenvy/miniconda3/envs/practicalnlp/lib/python3.6/site-packages (from boto3->transformers->bert-extractive-summarizer) (0.3.3)\n",
      "Requirement already satisfied: botocore<1.17.0,>=1.16.4 in /home/etherealenvy/miniconda3/envs/practicalnlp/lib/python3.6/site-packages (from boto3->transformers->bert-extractive-summarizer) (1.16.4)\n",
      "Requirement already satisfied: jmespath<1.0.0,>=0.7.1 in /home/etherealenvy/miniconda3/envs/practicalnlp/lib/python3.6/site-packages (from boto3->transformers->bert-extractive-summarizer) (0.9.5)\n",
      "Requirement already satisfied: six in /home/etherealenvy/miniconda3/envs/practicalnlp/lib/python3.6/site-packages (from sacremoses->transformers->bert-extractive-summarizer) (1.14.0)\n",
      "Requirement already satisfied: click in /home/etherealenvy/.local/lib/python3.6/site-packages (from sacremoses->transformers->bert-extractive-summarizer) (7.1.2)\n",
      "Requirement already satisfied: urllib3!=1.25.0,!=1.25.1,<1.26,>=1.21.1 in /home/etherealenvy/.local/lib/python3.6/site-packages (from requests->transformers->bert-extractive-summarizer) (1.25.9)\n",
      "Requirement already satisfied: chardet<4,>=3.0.2 in /home/etherealenvy/.local/lib/python3.6/site-packages (from requests->transformers->bert-extractive-summarizer) (3.0.4)\n",
      "Requirement already satisfied: certifi>=2017.4.17 in /home/etherealenvy/.local/lib/python3.6/site-packages (from requests->transformers->bert-extractive-summarizer) (2020.4.5.1)\n",
      "Requirement already satisfied: idna<3,>=2.5 in /home/etherealenvy/.local/lib/python3.6/site-packages (from requests->transformers->bert-extractive-summarizer) (2.9)\n",
      "Requirement already satisfied: python-dateutil<3.0.0,>=2.1 in /home/etherealenvy/miniconda3/envs/practicalnlp/lib/python3.6/site-packages (from botocore<1.17.0,>=1.16.4->boto3->transformers->bert-extractive-summarizer) (2.8.1)\n",
      "Requirement already satisfied: docutils<0.16,>=0.10 in /home/etherealenvy/miniconda3/envs/practicalnlp/lib/python3.6/site-packages (from botocore<1.17.0,>=1.16.4->boto3->transformers->bert-extractive-summarizer) (0.15.2)\n",
      "Requirement already satisfied: spacy==2.1.3 in /home/etherealenvy/miniconda3/envs/practicalnlp/lib/python3.6/site-packages (2.1.3)\n",
      "Requirement already satisfied: murmurhash<1.1.0,>=0.28.0 in /home/etherealenvy/miniconda3/envs/practicalnlp/lib/python3.6/site-packages (from spacy==2.1.3) (1.0.2)\n",
      "Requirement already satisfied: blis<0.3.0,>=0.2.2 in /home/etherealenvy/miniconda3/envs/practicalnlp/lib/python3.6/site-packages (from spacy==2.1.3) (0.2.4)\n",
      "Requirement already satisfied: requests<3.0.0,>=2.13.0 in /home/etherealenvy/.local/lib/python3.6/site-packages (from spacy==2.1.3) (2.23.0)\n",
      "Requirement already satisfied: numpy>=1.15.0 in /home/etherealenvy/miniconda3/envs/practicalnlp/lib/python3.6/site-packages (from spacy==2.1.3) (1.18.4)\n",
      "Requirement already satisfied: thinc<7.1.0,>=7.0.2 in /home/etherealenvy/miniconda3/envs/practicalnlp/lib/python3.6/site-packages (from spacy==2.1.3) (7.0.8)\n",
      "Requirement already satisfied: wasabi<1.1.0,>=0.2.0 in /home/etherealenvy/miniconda3/envs/practicalnlp/lib/python3.6/site-packages (from spacy==2.1.3) (0.6.0)\n",
      "Requirement already satisfied: plac<1.0.0,>=0.9.6 in /home/etherealenvy/miniconda3/envs/practicalnlp/lib/python3.6/site-packages (from spacy==2.1.3) (0.9.6)\n",
      "Requirement already satisfied: srsly<1.1.0,>=0.0.5 in /home/etherealenvy/miniconda3/envs/practicalnlp/lib/python3.6/site-packages (from spacy==2.1.3) (1.0.2)\n",
      "Requirement already satisfied: cymem<2.1.0,>=2.0.2 in /home/etherealenvy/miniconda3/envs/practicalnlp/lib/python3.6/site-packages (from spacy==2.1.3) (2.0.3)\n",
      "Requirement already satisfied: jsonschema<3.0.0,>=2.6.0 in /home/etherealenvy/miniconda3/envs/practicalnlp/lib/python3.6/site-packages (from spacy==2.1.3) (2.6.0)\n",
      "Requirement already satisfied: preshed<2.1.0,>=2.0.1 in /home/etherealenvy/miniconda3/envs/practicalnlp/lib/python3.6/site-packages (from spacy==2.1.3) (2.0.1)\n",
      "Requirement already satisfied: urllib3!=1.25.0,!=1.25.1,<1.26,>=1.21.1 in /home/etherealenvy/.local/lib/python3.6/site-packages (from requests<3.0.0,>=2.13.0->spacy==2.1.3) (1.25.9)\n",
      "Requirement already satisfied: chardet<4,>=3.0.2 in /home/etherealenvy/.local/lib/python3.6/site-packages (from requests<3.0.0,>=2.13.0->spacy==2.1.3) (3.0.4)\n",
      "Requirement already satisfied: certifi>=2017.4.17 in /home/etherealenvy/.local/lib/python3.6/site-packages (from requests<3.0.0,>=2.13.0->spacy==2.1.3) (2020.4.5.1)\n",
      "Requirement already satisfied: idna<3,>=2.5 in /home/etherealenvy/.local/lib/python3.6/site-packages (from requests<3.0.0,>=2.13.0->spacy==2.1.3) (2.9)\n",
      "Requirement already satisfied: tqdm<5.0.0,>=4.10.0 in /home/etherealenvy/.local/lib/python3.6/site-packages (from thinc<7.1.0,>=7.0.2->spacy==2.1.3) (4.46.0)\n"
     ]
    },
    {
     "name": "stdout",
     "output_type": "stream",
     "text": [
      "Requirement already satisfied: transformers==2.2.2 in /home/etherealenvy/miniconda3/envs/practicalnlp/lib/python3.6/site-packages (2.2.2)\n",
      "Requirement already satisfied: requests in /home/etherealenvy/.local/lib/python3.6/site-packages (from transformers==2.2.2) (2.23.0)\n",
      "Requirement already satisfied: sentencepiece in /home/etherealenvy/miniconda3/envs/practicalnlp/lib/python3.6/site-packages (from transformers==2.2.2) (0.1.86)\n",
      "Requirement already satisfied: sacremoses in /home/etherealenvy/miniconda3/envs/practicalnlp/lib/python3.6/site-packages (from transformers==2.2.2) (0.0.43)\n",
      "Requirement already satisfied: regex in /home/etherealenvy/.local/lib/python3.6/site-packages (from transformers==2.2.2) (2020.4.4)\n",
      "Requirement already satisfied: numpy in /home/etherealenvy/miniconda3/envs/practicalnlp/lib/python3.6/site-packages (from transformers==2.2.2) (1.18.4)\n",
      "Requirement already satisfied: boto3 in /home/etherealenvy/miniconda3/envs/practicalnlp/lib/python3.6/site-packages (from transformers==2.2.2) (1.13.4)\n",
      "Requirement already satisfied: tqdm in /home/etherealenvy/.local/lib/python3.6/site-packages (from transformers==2.2.2) (4.46.0)\n",
      "Requirement already satisfied: idna<3,>=2.5 in /home/etherealenvy/.local/lib/python3.6/site-packages (from requests->transformers==2.2.2) (2.9)\n",
      "Requirement already satisfied: chardet<4,>=3.0.2 in /home/etherealenvy/.local/lib/python3.6/site-packages (from requests->transformers==2.2.2) (3.0.4)\n",
      "Requirement already satisfied: certifi>=2017.4.17 in /home/etherealenvy/.local/lib/python3.6/site-packages (from requests->transformers==2.2.2) (2020.4.5.1)\n",
      "Requirement already satisfied: urllib3!=1.25.0,!=1.25.1,<1.26,>=1.21.1 in /home/etherealenvy/.local/lib/python3.6/site-packages (from requests->transformers==2.2.2) (1.25.9)\n",
      "Requirement already satisfied: click in /home/etherealenvy/.local/lib/python3.6/site-packages (from sacremoses->transformers==2.2.2) (7.1.2)\n",
      "Requirement already satisfied: six in /home/etherealenvy/miniconda3/envs/practicalnlp/lib/python3.6/site-packages (from sacremoses->transformers==2.2.2) (1.14.0)\n",
      "Requirement already satisfied: joblib in /home/etherealenvy/.local/lib/python3.6/site-packages (from sacremoses->transformers==2.2.2) (0.14.1)\n",
      "Requirement already satisfied: s3transfer<0.4.0,>=0.3.0 in /home/etherealenvy/miniconda3/envs/practicalnlp/lib/python3.6/site-packages (from boto3->transformers==2.2.2) (0.3.3)\n",
      "Requirement already satisfied: jmespath<1.0.0,>=0.7.1 in /home/etherealenvy/miniconda3/envs/practicalnlp/lib/python3.6/site-packages (from boto3->transformers==2.2.2) (0.9.5)\n",
      "Requirement already satisfied: botocore<1.17.0,>=1.16.4 in /home/etherealenvy/miniconda3/envs/practicalnlp/lib/python3.6/site-packages (from boto3->transformers==2.2.2) (1.16.4)\n",
      "Requirement already satisfied: python-dateutil<3.0.0,>=2.1 in /home/etherealenvy/miniconda3/envs/practicalnlp/lib/python3.6/site-packages (from botocore<1.17.0,>=1.16.4->boto3->transformers==2.2.2) (2.8.1)\n",
      "Requirement already satisfied: docutils<0.16,>=0.10 in /home/etherealenvy/miniconda3/envs/practicalnlp/lib/python3.6/site-packages (from botocore<1.17.0,>=1.16.4->boto3->transformers==2.2.2) (0.15.2)\n",
      "Requirement already satisfied: neuralcoref in /home/etherealenvy/miniconda3/envs/practicalnlp/lib/python3.6/site-packages (4.0)\n",
      "Requirement already satisfied: requests<3.0.0,>=2.13.0 in /home/etherealenvy/.local/lib/python3.6/site-packages (from neuralcoref) (2.23.0)\n",
      "Requirement already satisfied: numpy>=1.15.0 in /home/etherealenvy/miniconda3/envs/practicalnlp/lib/python3.6/site-packages (from neuralcoref) (1.18.4)\n",
      "Requirement already satisfied: boto3 in /home/etherealenvy/miniconda3/envs/practicalnlp/lib/python3.6/site-packages (from neuralcoref) (1.13.4)\n",
      "Requirement already satisfied: spacy>=2.1.0 in /home/etherealenvy/miniconda3/envs/practicalnlp/lib/python3.6/site-packages (from neuralcoref) (2.1.3)\n",
      "Requirement already satisfied: idna<3,>=2.5 in /home/etherealenvy/.local/lib/python3.6/site-packages (from requests<3.0.0,>=2.13.0->neuralcoref) (2.9)\n",
      "Requirement already satisfied: chardet<4,>=3.0.2 in /home/etherealenvy/.local/lib/python3.6/site-packages (from requests<3.0.0,>=2.13.0->neuralcoref) (3.0.4)\n",
      "Requirement already satisfied: certifi>=2017.4.17 in /home/etherealenvy/.local/lib/python3.6/site-packages (from requests<3.0.0,>=2.13.0->neuralcoref) (2020.4.5.1)\n",
      "Requirement already satisfied: urllib3!=1.25.0,!=1.25.1,<1.26,>=1.21.1 in /home/etherealenvy/.local/lib/python3.6/site-packages (from requests<3.0.0,>=2.13.0->neuralcoref) (1.25.9)\n",
      "Requirement already satisfied: jmespath<1.0.0,>=0.7.1 in /home/etherealenvy/miniconda3/envs/practicalnlp/lib/python3.6/site-packages (from boto3->neuralcoref) (0.9.5)\n",
      "Requirement already satisfied: botocore<1.17.0,>=1.16.4 in /home/etherealenvy/miniconda3/envs/practicalnlp/lib/python3.6/site-packages (from boto3->neuralcoref) (1.16.4)\n",
      "Requirement already satisfied: s3transfer<0.4.0,>=0.3.0 in /home/etherealenvy/miniconda3/envs/practicalnlp/lib/python3.6/site-packages (from boto3->neuralcoref) (0.3.3)\n",
      "Requirement already satisfied: blis<0.3.0,>=0.2.2 in /home/etherealenvy/miniconda3/envs/practicalnlp/lib/python3.6/site-packages (from spacy>=2.1.0->neuralcoref) (0.2.4)\n",
      "Requirement already satisfied: wasabi<1.1.0,>=0.2.0 in /home/etherealenvy/miniconda3/envs/practicalnlp/lib/python3.6/site-packages (from spacy>=2.1.0->neuralcoref) (0.6.0)\n",
      "Requirement already satisfied: murmurhash<1.1.0,>=0.28.0 in /home/etherealenvy/miniconda3/envs/practicalnlp/lib/python3.6/site-packages (from spacy>=2.1.0->neuralcoref) (1.0.2)\n",
      "Requirement already satisfied: srsly<1.1.0,>=0.0.5 in /home/etherealenvy/miniconda3/envs/practicalnlp/lib/python3.6/site-packages (from spacy>=2.1.0->neuralcoref) (1.0.2)\n",
      "Requirement already satisfied: cymem<2.1.0,>=2.0.2 in /home/etherealenvy/miniconda3/envs/practicalnlp/lib/python3.6/site-packages (from spacy>=2.1.0->neuralcoref) (2.0.3)\n",
      "Requirement already satisfied: preshed<2.1.0,>=2.0.1 in /home/etherealenvy/miniconda3/envs/practicalnlp/lib/python3.6/site-packages (from spacy>=2.1.0->neuralcoref) (2.0.1)\n",
      "Requirement already satisfied: jsonschema<3.0.0,>=2.6.0 in /home/etherealenvy/miniconda3/envs/practicalnlp/lib/python3.6/site-packages (from spacy>=2.1.0->neuralcoref) (2.6.0)\n",
      "Requirement already satisfied: plac<1.0.0,>=0.9.6 in /home/etherealenvy/miniconda3/envs/practicalnlp/lib/python3.6/site-packages (from spacy>=2.1.0->neuralcoref) (0.9.6)\n",
      "Requirement already satisfied: thinc<7.1.0,>=7.0.2 in /home/etherealenvy/miniconda3/envs/practicalnlp/lib/python3.6/site-packages (from spacy>=2.1.0->neuralcoref) (7.0.8)\n",
      "Requirement already satisfied: python-dateutil<3.0.0,>=2.1 in /home/etherealenvy/miniconda3/envs/practicalnlp/lib/python3.6/site-packages (from botocore<1.17.0,>=1.16.4->boto3->neuralcoref) (2.8.1)\n",
      "Requirement already satisfied: docutils<0.16,>=0.10 in /home/etherealenvy/miniconda3/envs/practicalnlp/lib/python3.6/site-packages (from botocore<1.17.0,>=1.16.4->boto3->neuralcoref) (0.15.2)\n",
      "Requirement already satisfied: tqdm<5.0.0,>=4.10.0 in /home/etherealenvy/.local/lib/python3.6/site-packages (from thinc<7.1.0,>=7.0.2->spacy>=2.1.0->neuralcoref) (4.46.0)\n",
      "Requirement already satisfied: six>=1.5 in /home/etherealenvy/miniconda3/envs/practicalnlp/lib/python3.6/site-packages (from python-dateutil<3.0.0,>=2.1->botocore<1.17.0,>=1.16.4->boto3->neuralcoref) (1.14.0)\n",
      "Requirement already satisfied: torch in /home/etherealenvy/miniconda3/envs/practicalnlp/lib/python3.6/site-packages (1.5.0)\n",
      "Requirement already satisfied: numpy in /home/etherealenvy/miniconda3/envs/practicalnlp/lib/python3.6/site-packages (from torch) (1.18.4)\n",
      "Requirement already satisfied: future in /home/etherealenvy/miniconda3/envs/practicalnlp/lib/python3.6/site-packages (from torch) (0.18.2)\n",
      "Requirement already satisfied: neuralcoref in /home/etherealenvy/miniconda3/envs/practicalnlp/lib/python3.6/site-packages (4.0)\n",
      "Requirement already satisfied: boto3 in /home/etherealenvy/miniconda3/envs/practicalnlp/lib/python3.6/site-packages (from neuralcoref) (1.13.4)\n",
      "Requirement already satisfied: numpy>=1.15.0 in /home/etherealenvy/miniconda3/envs/practicalnlp/lib/python3.6/site-packages (from neuralcoref) (1.18.4)\n",
      "Requirement already satisfied: requests<3.0.0,>=2.13.0 in /home/etherealenvy/.local/lib/python3.6/site-packages (from neuralcoref) (2.23.0)\n",
      "Requirement already satisfied: spacy>=2.1.0 in /home/etherealenvy/miniconda3/envs/practicalnlp/lib/python3.6/site-packages (from neuralcoref) (2.1.3)\n"
     ]
    },
    {
     "name": "stdout",
     "output_type": "stream",
     "text": [
      "Requirement already satisfied: jmespath<1.0.0,>=0.7.1 in /home/etherealenvy/miniconda3/envs/practicalnlp/lib/python3.6/site-packages (from boto3->neuralcoref) (0.9.5)\n",
      "Requirement already satisfied: s3transfer<0.4.0,>=0.3.0 in /home/etherealenvy/miniconda3/envs/practicalnlp/lib/python3.6/site-packages (from boto3->neuralcoref) (0.3.3)\n",
      "Requirement already satisfied: botocore<1.17.0,>=1.16.4 in /home/etherealenvy/miniconda3/envs/practicalnlp/lib/python3.6/site-packages (from boto3->neuralcoref) (1.16.4)\n",
      "Requirement already satisfied: urllib3!=1.25.0,!=1.25.1,<1.26,>=1.21.1 in /home/etherealenvy/.local/lib/python3.6/site-packages (from requests<3.0.0,>=2.13.0->neuralcoref) (1.25.9)\n",
      "Requirement already satisfied: certifi>=2017.4.17 in /home/etherealenvy/.local/lib/python3.6/site-packages (from requests<3.0.0,>=2.13.0->neuralcoref) (2020.4.5.1)\n",
      "Requirement already satisfied: idna<3,>=2.5 in /home/etherealenvy/.local/lib/python3.6/site-packages (from requests<3.0.0,>=2.13.0->neuralcoref) (2.9)\n",
      "Requirement already satisfied: chardet<4,>=3.0.2 in /home/etherealenvy/.local/lib/python3.6/site-packages (from requests<3.0.0,>=2.13.0->neuralcoref) (3.0.4)\n",
      "Requirement already satisfied: cymem<2.1.0,>=2.0.2 in /home/etherealenvy/miniconda3/envs/practicalnlp/lib/python3.6/site-packages (from spacy>=2.1.0->neuralcoref) (2.0.3)\n",
      "Requirement already satisfied: wasabi<1.1.0,>=0.2.0 in /home/etherealenvy/miniconda3/envs/practicalnlp/lib/python3.6/site-packages (from spacy>=2.1.0->neuralcoref) (0.6.0)\n",
      "Requirement already satisfied: srsly<1.1.0,>=0.0.5 in /home/etherealenvy/miniconda3/envs/practicalnlp/lib/python3.6/site-packages (from spacy>=2.1.0->neuralcoref) (1.0.2)\n",
      "Requirement already satisfied: plac<1.0.0,>=0.9.6 in /home/etherealenvy/miniconda3/envs/practicalnlp/lib/python3.6/site-packages (from spacy>=2.1.0->neuralcoref) (0.9.6)\n",
      "Requirement already satisfied: jsonschema<3.0.0,>=2.6.0 in /home/etherealenvy/miniconda3/envs/practicalnlp/lib/python3.6/site-packages (from spacy>=2.1.0->neuralcoref) (2.6.0)\n",
      "Requirement already satisfied: thinc<7.1.0,>=7.0.2 in /home/etherealenvy/miniconda3/envs/practicalnlp/lib/python3.6/site-packages (from spacy>=2.1.0->neuralcoref) (7.0.8)\n",
      "Requirement already satisfied: murmurhash<1.1.0,>=0.28.0 in /home/etherealenvy/miniconda3/envs/practicalnlp/lib/python3.6/site-packages (from spacy>=2.1.0->neuralcoref) (1.0.2)\n",
      "Requirement already satisfied: preshed<2.1.0,>=2.0.1 in /home/etherealenvy/miniconda3/envs/practicalnlp/lib/python3.6/site-packages (from spacy>=2.1.0->neuralcoref) (2.0.1)\n",
      "Requirement already satisfied: blis<0.3.0,>=0.2.2 in /home/etherealenvy/miniconda3/envs/practicalnlp/lib/python3.6/site-packages (from spacy>=2.1.0->neuralcoref) (0.2.4)\n",
      "Requirement already satisfied: python-dateutil<3.0.0,>=2.1 in /home/etherealenvy/miniconda3/envs/practicalnlp/lib/python3.6/site-packages (from botocore<1.17.0,>=1.16.4->boto3->neuralcoref) (2.8.1)\n",
      "Requirement already satisfied: docutils<0.16,>=0.10 in /home/etherealenvy/miniconda3/envs/practicalnlp/lib/python3.6/site-packages (from botocore<1.17.0,>=1.16.4->boto3->neuralcoref) (0.15.2)\n",
      "Requirement already satisfied: tqdm<5.0.0,>=4.10.0 in /home/etherealenvy/.local/lib/python3.6/site-packages (from thinc<7.1.0,>=7.0.2->spacy>=2.1.0->neuralcoref) (4.46.0)\n",
      "Requirement already satisfied: six>=1.5 in /home/etherealenvy/miniconda3/envs/practicalnlp/lib/python3.6/site-packages (from python-dateutil<3.0.0,>=2.1->botocore<1.17.0,>=1.16.4->boto3->neuralcoref) (1.14.0)\n",
      "Requirement already satisfied: en_core_web_sm==2.1.0 from https://github.com/explosion/spacy-models/releases/download/en_core_web_sm-2.1.0/en_core_web_sm-2.1.0.tar.gz#egg=en_core_web_sm==2.1.0 in /home/etherealenvy/miniconda3/envs/practicalnlp/lib/python3.6/site-packages (2.1.0)\n",
      "\u001b[38;5;2m✔ Download and installation successful\u001b[0m\n",
      "You can now load the model via spacy.load('en_core_web_sm')\n"
     ]
    }
   ],
   "source": [
    "#Install the required libraries\n",
    "!pip install bert-extractive-summarizer\n",
    "!pip install spacy==2.1.3\n",
    "!pip install transformers==2.2.2\n",
    "!pip install neuralcoref\n",
    "!pip install torch #you can comment this line if u already have tensorflow2.0 installed\n",
    "!pip install neuralcoref --no-binary neuralcoref\n",
    "!python -m spacy download en_core_web_sm"
   ]
  },
  {
   "cell_type": "code",
   "execution_count": 0,
   "metadata": {
    "colab": {},
    "colab_type": "code",
    "id": "aAmOJjZvB0VX",
    "outputId": "e875e731-e434-49e6-f49c-87d0ca0c699a"
   },
   "outputs": [
    {
     "name": "stdout",
     "output_type": "stream",
     "text": [
      "Without Coreference:\n",
      "The authors claimed that within three or five years, machine translation would be a solved problem.[2] However, real progress was much slower, and after the ALPAC report in 1966, which found that ten-year-long research had failed to fulfill the expectations, funding for machine translation was dramatically reduced. This was due to both the steady increase in computational power (see Moore's law) and the gradual lessening of the dominance of Chomskyan theories of linguistics (e.g. transformational grammar), whose theoretical underpinnings discouraged the sort of corpus linguistics that underlies the machine-learning approach to language processing.[3] Some of the earliest-used machine learning algorithms, such as decision trees, produced systems of hard if-then rules similar to existing hand-written rules.\n",
      "With Coreference:\n",
      "However, real progress was much slower, and after the ALPAC report in 1966, which found that ten-year-long research had failed to fulfill the expectations, funding for machine translation was dramatically reduced. This was due to both the steady increase in computational power (see Moore's law) and the gradual lessening of the dominance of Chomskyan theories of linguistics (e.g. transformational grammar), whose theoretical underpinnings discouraged the sort of corpus linguistics that underlies the machine-learning approach to language processing.[3]\n"
     ]
    }
   ],
   "source": [
    "#sowyma could you please look at this coreference vs without coreference. I personally think we need to use a better input.\n",
    "#currently using the same one as above the nlphistory.txt\n",
    "\n",
    "from summarizer import Summarizer\n",
    "from summarizer.coreference_handler import CoreferenceHandler\n",
    "\n",
    "model = Summarizer()\n",
    "\n",
    "print(\"Without Coreference:\")\n",
    "result = model(text, min_length=200,ratio=0.01)\n",
    "full = ''.join(result)\n",
    "print(full)\n",
    "\n",
    "\n",
    "print(\"With Coreference:\")\n",
    "handler = CoreferenceHandler(greedyness=.35)\n",
    "\n",
    "model = Summarizer(sentence_handler=handler)\n",
    "result = model(text, min_length=200,ratio=0.01)\n",
    "full = ''.join(result)\n",
    "print(full)"
   ]
  },
  {
   "cell_type": "markdown",
   "metadata": {
    "colab_type": "text",
    "id": "5OwLSKz0B0Vx"
   },
   "source": [
    "We are done with discussing different Extractive Summarization techniques and examples. Lets move on to Abstractive Summarization.\n",
    "## Abstractive Summariazation\n",
    "There have been even efforts to use **RL** for summarization.<br>\n",
    "The past few years **RNN**s using encoder — decoder models have become popular for abstractive summarization. <br>\n",
    "Recently **Transformers** which use attention mechanism have become popular for abstractive summarization. \n",
    "\n",
    "As mentioned in Ch7  abstractive summarization is more of a research topic than a practical application. \n",
    "\n",
    "We will demo simple abstractive text summarization with pretrained T5 — Text-To-Text Transfer Transformer."
   ]
  },
  {
   "cell_type": "code",
   "execution_count": 15,
   "metadata": {
    "colab": {
     "base_uri": "https://localhost:8080/",
     "height": 364
    },
    "colab_type": "code",
    "id": "94W3znKkB0V0",
    "outputId": "a0ddec6f-8282-416f-c462-381db55e6083"
   },
   "outputs": [
    {
     "name": "stdout",
     "output_type": "stream",
     "text": [
      "Requirement already satisfied: transformers in /usr/local/lib/python3.6/dist-packages (2.9.0)\n",
      "Requirement already satisfied: requests in /usr/local/lib/python3.6/dist-packages (from transformers) (2.23.0)\n",
      "Requirement already satisfied: tqdm>=4.27 in /usr/local/lib/python3.6/dist-packages (from transformers) (4.41.1)\n",
      "Requirement already satisfied: tokenizers==0.7.0 in /usr/local/lib/python3.6/dist-packages (from transformers) (0.7.0)\n",
      "Requirement already satisfied: filelock in /usr/local/lib/python3.6/dist-packages (from transformers) (3.0.12)\n",
      "Requirement already satisfied: sentencepiece in /usr/local/lib/python3.6/dist-packages (from transformers) (0.1.86)\n",
      "Requirement already satisfied: dataclasses; python_version < \"3.7\" in /usr/local/lib/python3.6/dist-packages (from transformers) (0.7)\n",
      "Requirement already satisfied: numpy in /usr/local/lib/python3.6/dist-packages (from transformers) (1.18.4)\n",
      "Requirement already satisfied: regex!=2019.12.17 in /usr/local/lib/python3.6/dist-packages (from transformers) (2019.12.20)\n",
      "Requirement already satisfied: sacremoses in /usr/local/lib/python3.6/dist-packages (from transformers) (0.0.43)\n",
      "Requirement already satisfied: urllib3!=1.25.0,!=1.25.1,<1.26,>=1.21.1 in /usr/local/lib/python3.6/dist-packages (from requests->transformers) (1.24.3)\n",
      "Requirement already satisfied: idna<3,>=2.5 in /usr/local/lib/python3.6/dist-packages (from requests->transformers) (2.9)\n",
      "Requirement already satisfied: certifi>=2017.4.17 in /usr/local/lib/python3.6/dist-packages (from requests->transformers) (2020.4.5.1)\n",
      "Requirement already satisfied: chardet<4,>=3.0.2 in /usr/local/lib/python3.6/dist-packages (from requests->transformers) (3.0.4)\n",
      "Requirement already satisfied: click in /usr/local/lib/python3.6/dist-packages (from sacremoses->transformers) (7.1.2)\n",
      "Requirement already satisfied: joblib in /usr/local/lib/python3.6/dist-packages (from sacremoses->transformers) (0.14.1)\n",
      "Requirement already satisfied: six in /usr/local/lib/python3.6/dist-packages (from sacremoses->transformers) (1.12.0)\n",
      "Requirement already satisfied: torch in /usr/local/lib/python3.6/dist-packages (1.5.0+cu101)\n",
      "Requirement already satisfied: future in /usr/local/lib/python3.6/dist-packages (from torch) (0.16.0)\n",
      "Requirement already satisfied: numpy in /usr/local/lib/python3.6/dist-packages (from torch) (1.18.4)\n"
     ]
    }
   ],
   "source": [
    "!pip install transformers\n",
    "!pip install torch"
   ]
  },
  {
   "cell_type": "code",
   "execution_count": 17,
   "metadata": {
    "colab": {
     "base_uri": "https://localhost:8080/",
     "height": 141
    },
    "colab_type": "code",
    "id": "Z7sj1wDtGz5r",
    "outputId": "2f24608f-4492-4d97-cd92-88c1aa3f19b3"
   },
   "outputs": [
    {
     "name": "stdout",
     "output_type": "stream",
     "text": [
      "original text preprocessed: \n",
      " don’t build your own MT system if you don’t have to. It is more practical to make use of the translation APIs. When we use such APIs, it is important to pay closer attention to pricing policies. It would perhaps make sense to store the translations of frequently used text (called a translation memory or a translation cache). If you’re working with a entirely new language, or say a new domain where existing translation APIs do poorly, it would make sense to start with a domain knowledge based rule based translation system addressing the restricted scenario you deal with. Another approach to address such data scarce scenarios is to augment your training data by doing “back translation”. Let us say we want to translate from English to Navajo language. English is a popular language for MT, but Navajo is not. We do have a few examples of English-Navajo translation. In such a case, one can build a first MT model between Navajo-English, and use this system to translate a few Navajo sentences into English. At this point, these machine translated Navajo-English pairs can be added as additional training data to English-Navajo MT system. This results in a translation system with more examples to train on (even though some of these examples are synthetic). In general, though, if accuracy of translation is paramount, it would perhaps make sense to form a hybrid MT system which combines the neural models with rules and some form of post-processing, though.\n",
      "\n",
      "\n",
      "Summarized text: \n",
      " MT system is more practical to make use of the translation APIs. it would make sense to store translations of frequently used text (called translation memory or a translation cache)\n"
     ]
    }
   ],
   "source": [
    "import torch\n",
    "from transformers import T5Tokenizer, T5ForConditionalGeneration, T5Config\n",
    "\n",
    "model = T5ForConditionalGeneration.from_pretrained('t5-small')\n",
    "tokenizer = T5Tokenizer.from_pretrained('t5-small')\n",
    "\n",
    "device = torch.device('cpu')\n",
    "\n",
    "text =\"\"\"\n",
    "don’t build your own MT system if you don’t have to. It is more practical to make use of the translation APIs. When we use such APIs, it is important to pay closer attention to pricing policies. It would perhaps make sense to store the translations of frequently used text (called a translation memory or a translation cache). \n",
    "\n",
    "If you’re working with a entirely new language, or say a new domain where existing translation APIs do poorly, it would make sense to start with a domain knowledge based rule based translation system addressing the restricted scenario you deal with. Another approach to address such data scarce scenarios is to augment your training data by doing “back translation”. Let us say we want to translate from English to Navajo language. English is a popular language for MT, but Navajo is not. We do have a few examples of English-Navajo translation. In such a case, one can build a first MT model between Navajo-English, and use this system to translate a few Navajo sentences into English. At this point, these machine translated Navajo-English pairs can be added as additional training data to English-Navajo MT system. This results in a translation system with more examples to train on (even though some of these examples are synthetic). In general, though, if accuracy of translation is paramount, it would perhaps make sense to form a hybrid MT system which combines the neural models with rules and some form of post-processing, though. \n",
    "\n",
    "\"\"\"\n",
    "\n",
    "\n",
    "preprocess_text = text.strip().replace(\"\\n\",\"\")\n",
    "t5_prepared_Text = \"summarize: \"+preprocess_text\n",
    "print (\"original text preprocessed: \\n\", preprocess_text)\n",
    "\n",
    "tokenized_text = tokenizer.encode(t5_prepared_Text, return_tensors=\"pt\").to(device)\n",
    "\n",
    "\n",
    "# summmarize \n",
    "summary_ids = model.generate(tokenized_text,\n",
    "                                    num_beams=4,\n",
    "                                    no_repeat_ngram_size=2,\n",
    "                                    min_length=30,\n",
    "                                    max_length=100,\n",
    "                                    early_stopping=True)\n",
    "#there are more parameters which can be found at https://huggingface.co/transformers/model_doc/t5.html\n",
    "\n",
    "output = tokenizer.decode(summary_ids[0], skip_special_tokens=True)\n",
    "\n",
    "print (\"\\n\\nSummarized text: \\n\",output)"
   ]
  },
  {
   "cell_type": "code",
   "execution_count": 0,
   "metadata": {
    "colab": {},
    "colab_type": "code",
    "id": "yvpff-KJH84c"
   },
   "outputs": [],
   "source": []
  }
 ],
 "metadata": {
  "accelerator": "GPU",
  "colab": {
   "name": "TextSummarization.ipynb",
   "provenance": []
  },
  "kernelspec": {
   "display_name": "Python 2",
   "language": "python",
   "name": "python2"
  },
  "language_info": {
   "codemirror_mode": {
    "name": "ipython",
    "version": 2
   },
   "file_extension": ".py",
   "mimetype": "text/x-python",
   "name": "python",
   "nbconvert_exporter": "python",
   "pygments_lexer": "ipython2",
   "version": "2.7.17"
  }
 },
 "nbformat": 4,
 "nbformat_minor": 1
}
