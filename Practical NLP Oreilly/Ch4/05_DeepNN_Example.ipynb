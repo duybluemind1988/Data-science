{
  "nbformat": 4,
  "nbformat_minor": 0,
  "metadata": {
    "kernelspec": {
      "display_name": "Python 3",
      "language": "python",
      "name": "python3"
    },
    "language_info": {
      "codemirror_mode": {
        "name": "ipython",
        "version": 3
      },
      "file_extension": ".py",
      "mimetype": "text/x-python",
      "name": "python",
      "nbconvert_exporter": "python",
      "pygments_lexer": "ipython3",
      "version": "3.6.5"
    },
    "colab": {
      "name": "DeepNN_Example.ipynb",
      "provenance": []
    }
  },
  "cells": [
    {
      "cell_type": "markdown",
      "metadata": {
        "id": "aLNg_Puse6EX",
        "colab_type": "text"
      },
      "source": [
        "In this notebook we will demonstrate different text classification models trained using the IMDB reviews dataset. "
      ]
    },
    {
      "cell_type": "code",
      "metadata": {
        "id": "xqUcb7NBb5--",
        "colab_type": "code",
        "colab": {}
      },
      "source": [
        "#Make the necessary imports\n",
        "import os\n",
        "import sys\n",
        "import pandas as pd\n",
        "import numpy as np\n",
        "from keras.preprocessing.text import Tokenizer\n",
        "from keras.preprocessing.sequence import pad_sequences\n",
        "from keras.utils import to_categorical\n",
        "from keras.layers import Dense, Input, GlobalMaxPooling1D\n",
        "from keras.layers import Conv1D, MaxPooling1D, Embedding, LSTM\n",
        "from keras.models import Model, Sequential\n",
        "from keras.initializers import Constant"
      ],
      "execution_count": null,
      "outputs": []
    },
    {
      "cell_type": "markdown",
      "metadata": {
        "id": "0MqW5vWwfiCP",
        "colab_type": "text"
      },
      "source": [
        "Here we set all the paths of all the external datasets and models such as [glove](https://nlp.stanford.edu/projects/glove/) and [IMDB reviews dataset](http://ai.stanford.edu/~amaas/data/sentiment/)."
      ]
    },
    {
      "cell_type": "markdown",
      "metadata": {
        "id": "w4b9qzs2E_9w",
        "colab_type": "text"
      },
      "source": [
        "Extract zip file from web link"
      ]
    },
    {
      "cell_type": "code",
      "metadata": {
        "id": "kmbsdztRDE2D",
        "colab_type": "code",
        "colab": {
          "base_uri": "https://localhost:8080/",
          "height": 357
        },
        "outputId": "68d5066a-3921-4d66-9492-711db1fd8a35"
      },
      "source": [
        "link_to_zip_file='http://nlp.stanford.edu/data/glove.6B.zip' #862 mb (extract ? mb)\n",
        "!wget -c 'http://nlp.stanford.edu/data/glove.6B.zip'"
      ],
      "execution_count": null,
      "outputs": [
        {
          "output_type": "stream",
          "text": [
            "--2020-08-02 14:27:29--  http://nlp.stanford.edu/data/glove.6B.zip\n",
            "Resolving nlp.stanford.edu (nlp.stanford.edu)... 171.64.67.140\n",
            "Connecting to nlp.stanford.edu (nlp.stanford.edu)|171.64.67.140|:80... connected.\n",
            "HTTP request sent, awaiting response... 302 Found\n",
            "Location: https://nlp.stanford.edu/data/glove.6B.zip [following]\n",
            "--2020-08-02 14:27:30--  https://nlp.stanford.edu/data/glove.6B.zip\n",
            "Connecting to nlp.stanford.edu (nlp.stanford.edu)|171.64.67.140|:443... connected.\n",
            "HTTP request sent, awaiting response... 301 Moved Permanently\n",
            "Location: http://downloads.cs.stanford.edu/nlp/data/glove.6B.zip [following]\n",
            "--2020-08-02 14:27:30--  http://downloads.cs.stanford.edu/nlp/data/glove.6B.zip\n",
            "Resolving downloads.cs.stanford.edu (downloads.cs.stanford.edu)... 171.64.64.22\n",
            "Connecting to downloads.cs.stanford.edu (downloads.cs.stanford.edu)|171.64.64.22|:80... connected.\n",
            "HTTP request sent, awaiting response... 200 OK\n",
            "Length: 862182613 (822M) [application/zip]\n",
            "Saving to: ‘glove.6B.zip’\n",
            "\n",
            "glove.6B.zip        100%[===================>] 822.24M  2.00MB/s    in 6m 30s  \n",
            "\n",
            "2020-08-02 14:34:00 (2.11 MB/s) - ‘glove.6B.zip’ saved [862182613/862182613]\n",
            "\n"
          ],
          "name": "stdout"
        }
      ]
    },
    {
      "cell_type": "code",
      "metadata": {
        "id": "KwbAz4QXCNLX",
        "colab_type": "code",
        "colab": {}
      },
      "source": [
        "import zipfile\n",
        "with zipfile.ZipFile('/content/glove.6B.zip', 'r') as zip_ref:\n",
        "    zip_ref.extractall()"
      ],
      "execution_count": null,
      "outputs": []
    },
    {
      "cell_type": "markdown",
      "metadata": {
        "id": "Wrvwn56oE4NG",
        "colab_type": "text"
      },
      "source": [
        "Extract gz file from web link"
      ]
    },
    {
      "cell_type": "code",
      "metadata": {
        "id": "h7v7Oq0kEkuG",
        "colab_type": "code",
        "colab": {
          "base_uri": "https://localhost:8080/",
          "height": 204
        },
        "outputId": "2d12fe44-1dca-4642-dfdf-5dc9c4b1f4cc"
      },
      "source": [
        "link_to_gz_file='http://ai.stanford.edu/~amaas/data/sentiment/aclImdb_v1.tar.gz' # 84 mb (extract to 240 mb)\n",
        "!wget -c 'http://ai.stanford.edu/~amaas/data/sentiment/aclImdb_v1.tar.gz'"
      ],
      "execution_count": null,
      "outputs": [
        {
          "output_type": "stream",
          "text": [
            "--2020-08-02 14:35:31--  http://ai.stanford.edu/~amaas/data/sentiment/aclImdb_v1.tar.gz\n",
            "Resolving ai.stanford.edu (ai.stanford.edu)... 171.64.68.10\n",
            "Connecting to ai.stanford.edu (ai.stanford.edu)|171.64.68.10|:80... connected.\n",
            "HTTP request sent, awaiting response... 200 OK\n",
            "Length: 84125825 (80M) [application/x-gzip]\n",
            "Saving to: ‘aclImdb_v1.tar.gz’\n",
            "\n",
            "aclImdb_v1.tar.gz   100%[===================>]  80.23M  19.3MB/s    in 8.9s    \n",
            "\n",
            "2020-08-02 14:35:40 (9.00 MB/s) - ‘aclImdb_v1.tar.gz’ saved [84125825/84125825]\n",
            "\n"
          ],
          "name": "stdout"
        }
      ]
    },
    {
      "cell_type": "code",
      "metadata": {
        "id": "wLHvBJkVExl2",
        "colab_type": "code",
        "colab": {}
      },
      "source": [
        "import tarfile \n",
        "tar = tarfile.open(\"/content/aclImdb_v1.tar.gz\") \n",
        "tar.extractall() \n",
        "for member in tar.getmembers(): \n",
        "  #print(\"Extracting %s\" % member.name) \n",
        "  tar.extract(member) "
      ],
      "execution_count": null,
      "outputs": []
    },
    {
      "cell_type": "markdown",
      "metadata": {
        "id": "bC3DarGFMx3g",
        "colab_type": "text"
      },
      "source": [
        "Preprocess"
      ]
    },
    {
      "cell_type": "code",
      "metadata": {
        "id": "k6SeU1jIb5_E",
        "colab_type": "code",
        "colab": {}
      },
      "source": [
        "#Declaring some of the constants we will use\n",
        "BASE_DIR = '/content/' #change this to your local folder with these below datasets\n",
        "#GLOVE_DIR = os.path.join(BASE_DIR, 'glove.6B')#source: https://nlp.stanford.edu/projects/glove/\n",
        "GLOVE_DIR=BASE_DIR\n",
        "TRAIN_DATA_DIR = os.path.join(BASE_DIR, 'aclImdb/train') #source: http://ai.stanford.edu/~amaas/data/sentiment/\n",
        "TEST_DATA_DIR = os.path.join(BASE_DIR, 'aclImdb/test') \n",
        "\n",
        "#Within these, I only have a pos/ and a neg/ folder containing text files \n",
        "MAX_SEQUENCE_LENGTH = 1000\n",
        "MAX_NUM_WORDS = 20000 \n",
        "EMBEDDING_DIM = 100 \n",
        "VALIDATION_SPLIT = 0.2\n",
        "\n",
        "#started off from: https://github.com/keras-team/keras/blob/master/examples/pretrained_word_embeddings.py\n",
        "#and from: https://github.com/keras-team/keras/blob/master/examples/imdb_lstm.py"
      ],
      "execution_count": null,
      "outputs": []
    },
    {
      "cell_type": "code",
      "metadata": {
        "id": "MODQ4opTMbr4",
        "colab_type": "code",
        "colab": {
          "base_uri": "https://localhost:8080/",
          "height": 35
        },
        "outputId": "e4f2eac0-108f-47ff-b650-f98fc9c33c9d"
      },
      "source": [
        "TRAIN_DATA_DIR"
      ],
      "execution_count": null,
      "outputs": [
        {
          "output_type": "execute_result",
          "data": {
            "application/vnd.google.colaboratory.intrinsic+json": {
              "type": "string"
            },
            "text/plain": [
              "'/content/aclImdb/train'"
            ]
          },
          "metadata": {
            "tags": []
          },
          "execution_count": 12
        }
      ]
    },
    {
      "cell_type": "code",
      "metadata": {
        "id": "i1Ur4AdvNI73",
        "colab_type": "code",
        "colab": {
          "base_uri": "https://localhost:8080/",
          "height": 35
        },
        "outputId": "d039cd28-9139-4b5f-8dd8-4ff366edfdc7"
      },
      "source": [
        "TEST_DATA_DIR\n",
        "#/content/aclImdb/test"
      ],
      "execution_count": null,
      "outputs": [
        {
          "output_type": "execute_result",
          "data": {
            "application/vnd.google.colaboratory.intrinsic+json": {
              "type": "string"
            },
            "text/plain": [
              "'/content/aclImdb/test'"
            ]
          },
          "metadata": {
            "tags": []
          },
          "execution_count": 13
        }
      ]
    },
    {
      "cell_type": "code",
      "metadata": {
        "id": "Im6HmnjhMgBI",
        "colab_type": "code",
        "colab": {
          "base_uri": "https://localhost:8080/",
          "height": 35
        },
        "outputId": "17dd7a39-67f8-4a94-c9ca-a9277a70cd54"
      },
      "source": [
        "GLOVE_DIR"
      ],
      "execution_count": null,
      "outputs": [
        {
          "output_type": "execute_result",
          "data": {
            "application/vnd.google.colaboratory.intrinsic+json": {
              "type": "string"
            },
            "text/plain": [
              "'/content/'"
            ]
          },
          "metadata": {
            "tags": []
          },
          "execution_count": 14
        }
      ]
    },
    {
      "cell_type": "markdown",
      "metadata": {
        "id": "EmifkoA8b5_N",
        "colab_type": "text"
      },
      "source": [
        "### Loading and Preprocessing\n",
        " "
      ]
    },
    {
      "cell_type": "code",
      "metadata": {
        "id": "-oSyM1M7NiN1",
        "colab_type": "code",
        "colab": {
          "base_uri": "https://localhost:8080/",
          "height": 153
        },
        "outputId": "86ee9c85-ca5f-4ded-d907-64d58b920170"
      },
      "source": [
        "os.listdir(TRAIN_DATA_DIR)"
      ],
      "execution_count": null,
      "outputs": [
        {
          "output_type": "execute_result",
          "data": {
            "text/plain": [
              "['unsup',\n",
              " 'pos',\n",
              " 'labeledBow.feat',\n",
              " 'urls_unsup.txt',\n",
              " 'unsupBow.feat',\n",
              " 'neg',\n",
              " 'urls_pos.txt',\n",
              " 'urls_neg.txt']"
            ]
          },
          "metadata": {
            "tags": []
          },
          "execution_count": 15
        }
      ]
    },
    {
      "cell_type": "code",
      "metadata": {
        "id": "bq3pnaNkPNUI",
        "colab_type": "code",
        "colab": {
          "base_uri": "https://localhost:8080/",
          "height": 34
        },
        "outputId": "a0d51330-7f65-4f7a-8c11-5f361ce4c748"
      },
      "source": [
        "path='/content/sample_data'\n",
        "os.path.isdir(path) "
      ],
      "execution_count": null,
      "outputs": [
        {
          "output_type": "execute_result",
          "data": {
            "text/plain": [
              "True"
            ]
          },
          "metadata": {
            "tags": []
          },
          "execution_count": 16
        }
      ]
    },
    {
      "cell_type": "code",
      "metadata": {
        "id": "19Evik9cPbwK",
        "colab_type": "code",
        "colab": {
          "base_uri": "https://localhost:8080/",
          "height": 34
        },
        "outputId": "7eea59b1-0dbe-42e4-ab82-1177c0df8d0d"
      },
      "source": [
        "path='/content/aclImdb/train/pos'\n",
        "os.path.isdir(path) "
      ],
      "execution_count": null,
      "outputs": [
        {
          "output_type": "execute_result",
          "data": {
            "text/plain": [
              "True"
            ]
          },
          "metadata": {
            "tags": []
          },
          "execution_count": 17
        }
      ]
    },
    {
      "cell_type": "code",
      "metadata": {
        "id": "kCBAplEtPjNx",
        "colab_type": "code",
        "colab": {
          "base_uri": "https://localhost:8080/",
          "height": 34
        },
        "outputId": "f093228b-cff6-4d36-cf7b-21321b4eed7d"
      },
      "source": [
        "path='/content/aclImdb/train/urls_neg.txt'\n",
        "os.path.isdir(path) "
      ],
      "execution_count": null,
      "outputs": [
        {
          "output_type": "execute_result",
          "data": {
            "text/plain": [
              "False"
            ]
          },
          "metadata": {
            "tags": []
          },
          "execution_count": 18
        }
      ]
    },
    {
      "cell_type": "code",
      "metadata": {
        "id": "WI4O1usEb5_O",
        "colab_type": "code",
        "colab": {
          "base_uri": "https://localhost:8080/",
          "height": 221
        },
        "outputId": "28a056b0-cabf-4291-deb9-8f1b370a7c83"
      },
      "source": [
        "#Function to load the data from the dataset into the notebook. Will be called twice - for train and test.\n",
        "def get_data(data_dir):\n",
        "    texts = []  # list of text samples\n",
        "    labels_index = {'pos':1, 'neg':0,'unsup':-1}  # dictionary mapping label name to numeric id\n",
        "    # Add upsup: -1 to avoid error below\n",
        "    labels = []  # list of label ids\n",
        "    for name in sorted(os.listdir(data_dir)):\n",
        "        path = os.path.join(data_dir, name)\n",
        "        if path=='/content/aclImdb/train/unsup': continue\n",
        "        print('path:',path)\n",
        "        if os.path.isdir(path): #check xem path file co phai la folder hay khong\n",
        "          label_id = labels_index[name] #folder name is also a label\n",
        "          for fname in sorted(os.listdir(path)):\n",
        "              fpath = os.path.join(path, fname)\n",
        "              text = open(fpath).read()\n",
        "              texts.append(text)\n",
        "              labels.append(label_id)\n",
        "    return texts, labels\n",
        "\n",
        "train_texts, train_labels = get_data(TRAIN_DATA_DIR)\n",
        "test_texts, test_labels = get_data(TEST_DATA_DIR)\n",
        "labels_index = {'pos':1, 'neg':0} "
      ],
      "execution_count": null,
      "outputs": [
        {
          "output_type": "stream",
          "text": [
            "path: /content/aclImdb/train/labeledBow.feat\n",
            "path: /content/aclImdb/train/neg\n",
            "path: /content/aclImdb/train/pos\n",
            "path: /content/aclImdb/train/unsupBow.feat\n",
            "path: /content/aclImdb/train/urls_neg.txt\n",
            "path: /content/aclImdb/train/urls_pos.txt\n",
            "path: /content/aclImdb/train/urls_unsup.txt\n",
            "path: /content/aclImdb/test/labeledBow.feat\n",
            "path: /content/aclImdb/test/neg\n",
            "path: /content/aclImdb/test/pos\n",
            "path: /content/aclImdb/test/urls_neg.txt\n",
            "path: /content/aclImdb/test/urls_pos.txt\n"
          ],
          "name": "stdout"
        }
      ]
    },
    {
      "cell_type": "code",
      "metadata": {
        "id": "UsKJn4LqQSNL",
        "colab_type": "code",
        "colab": {
          "base_uri": "https://localhost:8080/",
          "height": 173
        },
        "outputId": "1658a4be-750b-430d-9a8d-ef846f9a12ec"
      },
      "source": [
        "#Just to see how the data looks like. \n",
        "print(len(train_texts))\n",
        "print(train_texts[0])\n",
        "print(len(train_texts[0]))\n",
        "print(train_labels[0])\n",
        "\n",
        "print(len(test_texts))\n",
        "print(test_texts[24999])\n",
        "print(len(test_texts[0]))\n",
        "print(test_labels[24999])"
      ],
      "execution_count": null,
      "outputs": [
        {
          "output_type": "stream",
          "text": [
            "25000\n",
            "Story of a man who has unnatural feelings for a pig. Starts out with a opening scene that is a terrific example of absurd comedy. A formal orchestra audience is turned into an insane, violent mob by the crazy chantings of it's singers. Unfortunately it stays absurd the WHOLE time with no general narrative eventually making it just too off putting. Even those from the era should be turned off. The cryptic dialogue would make Shakespeare seem easy to a third grader. On a technical level it's better than you might think with some good cinematography by future great Vilmos Zsigmond. Future stars Sally Kirkland and Frederic Forrest can be seen briefly.\n",
            "655\n",
            "0\n",
            "25000\n",
            "I've seen this story before but my kids haven't. Boy with troubled past joins military, faces his past, falls in love and becomes a man. The mentor this time is played perfectly by Kevin Costner; An ordinary man with common everyday problems who lives an extraordinary conviction, to save lives. After losing his team he takes a teaching position training the next generation of heroes. The young troubled recruit is played by Kutcher. While his scenes with the local love interest are a tad stiff and don't generate enough heat to melt butter, he compliments Costner well. I never really understood Sela Ward as the neglected wife and felt she should of wanted Costner to quit out of concern for his safety as opposed to her selfish needs. But her presence on screen is a pleasure. The two unaccredited stars of this movie are the Coast Guard and the Sea. Both powerful forces which should not be taken for granted in real life or this movie. The movie has some slow spots and could have used the wasted 15 minutes to strengthen the character relationships. But it still works. The rescue scenes are intense and well filmed and edited to provide maximum impact. This movie earns the audience applause. And the applause of my two sons.\n",
            "900\n",
            "1\n"
          ],
          "name": "stdout"
        }
      ]
    },
    {
      "cell_type": "code",
      "metadata": {
        "id": "gJKXn1recNyk",
        "colab_type": "code",
        "colab": {
          "base_uri": "https://localhost:8080/",
          "height": 68
        },
        "outputId": "a8a1904d-2b9b-4e73-d3b3-6908b8181efc"
      },
      "source": [
        "pd.DataFrame(train_labels)[0].value_counts()"
      ],
      "execution_count": null,
      "outputs": [
        {
          "output_type": "execute_result",
          "data": {
            "text/plain": [
              "1    12500\n",
              "0    12500\n",
              "Name: 0, dtype: int64"
            ]
          },
          "metadata": {
            "tags": []
          },
          "execution_count": 50
        }
      ]
    },
    {
      "cell_type": "code",
      "metadata": {
        "id": "fjngqxZzdWii",
        "colab_type": "code",
        "colab": {
          "base_uri": "https://localhost:8080/",
          "height": 68
        },
        "outputId": "c63e55ea-e8c9-4539-e2bd-ccfdc95bd9a3"
      },
      "source": [
        "pd.DataFrame(test_labels)[0].value_counts()"
      ],
      "execution_count": null,
      "outputs": [
        {
          "output_type": "execute_result",
          "data": {
            "text/plain": [
              "1    12500\n",
              "0    12500\n",
              "Name: 0, dtype: int64"
            ]
          },
          "metadata": {
            "tags": []
          },
          "execution_count": 51
        }
      ]
    },
    {
      "cell_type": "markdown",
      "metadata": {
        "id": "y3qfsd3POOYK",
        "colab_type": "text"
      },
      "source": [
        "# 1. Tokenize the texts and convert them into word index vectors"
      ]
    },
    {
      "cell_type": "code",
      "metadata": {
        "id": "TJy6mEqub5_X",
        "colab_type": "code",
        "colab": {
          "base_uri": "https://localhost:8080/",
          "height": 34
        },
        "outputId": "ad3b6ab7-a962-464a-d30a-d37220e631af"
      },
      "source": [
        "#Vectorize these text samples into a 2D integer tensor using Keras Tokenizer\n",
        "#Tokenizer is fit on training data only, and that is used to tokenize both train and test data.\n",
        "tokenizer = Tokenizer(num_words=MAX_NUM_WORDS) #20000\n",
        "tokenizer.fit_on_texts(train_texts)\n",
        "train_sequences = tokenizer.texts_to_sequences(train_texts) #Converting text to a vector of word indexes\n",
        "test_sequences = tokenizer.texts_to_sequences(test_texts)\n",
        "word_index = tokenizer.word_index\n",
        "print('Found %s unique tokens.' % len(word_index))\n",
        "# max 20000 words keep in sequences, word index is just a show case, not use (> max words)\n"
      ],
      "execution_count": null,
      "outputs": [
        {
          "output_type": "stream",
          "text": [
            "Found 88582 unique tokens.\n"
          ],
          "name": "stdout"
        }
      ]
    },
    {
      "cell_type": "code",
      "metadata": {
        "id": "qPZDzZh6L5ME",
        "colab_type": "code",
        "colab": {
          "base_uri": "https://localhost:8080/",
          "height": 1000
        },
        "outputId": "14567fcd-9896-4cda-8a0d-27ec50acf847"
      },
      "source": [
        "word_index"
      ],
      "execution_count": null,
      "outputs": [
        {
          "output_type": "execute_result",
          "data": {
            "text/plain": [
              "{'the': 1,\n",
              " 'and': 2,\n",
              " 'a': 3,\n",
              " 'of': 4,\n",
              " 'to': 5,\n",
              " 'is': 6,\n",
              " 'br': 7,\n",
              " 'in': 8,\n",
              " 'it': 9,\n",
              " 'i': 10,\n",
              " 'this': 11,\n",
              " 'that': 12,\n",
              " 'was': 13,\n",
              " 'as': 14,\n",
              " 'for': 15,\n",
              " 'with': 16,\n",
              " 'movie': 17,\n",
              " 'but': 18,\n",
              " 'film': 19,\n",
              " 'on': 20,\n",
              " 'not': 21,\n",
              " 'you': 22,\n",
              " 'are': 23,\n",
              " 'his': 24,\n",
              " 'have': 25,\n",
              " 'he': 26,\n",
              " 'be': 27,\n",
              " 'one': 28,\n",
              " 'all': 29,\n",
              " 'at': 30,\n",
              " 'by': 31,\n",
              " 'an': 32,\n",
              " 'they': 33,\n",
              " 'who': 34,\n",
              " 'so': 35,\n",
              " 'from': 36,\n",
              " 'like': 37,\n",
              " 'her': 38,\n",
              " 'or': 39,\n",
              " 'just': 40,\n",
              " 'about': 41,\n",
              " \"it's\": 42,\n",
              " 'out': 43,\n",
              " 'has': 44,\n",
              " 'if': 45,\n",
              " 'some': 46,\n",
              " 'there': 47,\n",
              " 'what': 48,\n",
              " 'good': 49,\n",
              " 'more': 50,\n",
              " 'when': 51,\n",
              " 'very': 52,\n",
              " 'up': 53,\n",
              " 'no': 54,\n",
              " 'time': 55,\n",
              " 'she': 56,\n",
              " 'even': 57,\n",
              " 'my': 58,\n",
              " 'would': 59,\n",
              " 'which': 60,\n",
              " 'only': 61,\n",
              " 'story': 62,\n",
              " 'really': 63,\n",
              " 'see': 64,\n",
              " 'their': 65,\n",
              " 'had': 66,\n",
              " 'can': 67,\n",
              " 'were': 68,\n",
              " 'me': 69,\n",
              " 'well': 70,\n",
              " 'than': 71,\n",
              " 'we': 72,\n",
              " 'much': 73,\n",
              " 'been': 74,\n",
              " 'bad': 75,\n",
              " 'get': 76,\n",
              " 'will': 77,\n",
              " 'do': 78,\n",
              " 'also': 79,\n",
              " 'into': 80,\n",
              " 'people': 81,\n",
              " 'other': 82,\n",
              " 'first': 83,\n",
              " 'great': 84,\n",
              " 'because': 85,\n",
              " 'how': 86,\n",
              " 'him': 87,\n",
              " 'most': 88,\n",
              " \"don't\": 89,\n",
              " 'made': 90,\n",
              " 'its': 91,\n",
              " 'then': 92,\n",
              " 'way': 93,\n",
              " 'make': 94,\n",
              " 'them': 95,\n",
              " 'too': 96,\n",
              " 'could': 97,\n",
              " 'any': 98,\n",
              " 'movies': 99,\n",
              " 'after': 100,\n",
              " 'think': 101,\n",
              " 'characters': 102,\n",
              " 'watch': 103,\n",
              " 'two': 104,\n",
              " 'films': 105,\n",
              " 'character': 106,\n",
              " 'seen': 107,\n",
              " 'many': 108,\n",
              " 'being': 109,\n",
              " 'life': 110,\n",
              " 'plot': 111,\n",
              " 'never': 112,\n",
              " 'acting': 113,\n",
              " 'little': 114,\n",
              " 'best': 115,\n",
              " 'love': 116,\n",
              " 'over': 117,\n",
              " 'where': 118,\n",
              " 'did': 119,\n",
              " 'show': 120,\n",
              " 'know': 121,\n",
              " 'off': 122,\n",
              " 'ever': 123,\n",
              " 'does': 124,\n",
              " 'better': 125,\n",
              " 'your': 126,\n",
              " 'end': 127,\n",
              " 'still': 128,\n",
              " 'man': 129,\n",
              " 'here': 130,\n",
              " 'these': 131,\n",
              " 'say': 132,\n",
              " 'scene': 133,\n",
              " 'while': 134,\n",
              " 'why': 135,\n",
              " 'scenes': 136,\n",
              " 'go': 137,\n",
              " 'such': 138,\n",
              " 'something': 139,\n",
              " 'through': 140,\n",
              " 'should': 141,\n",
              " 'back': 142,\n",
              " \"i'm\": 143,\n",
              " 'real': 144,\n",
              " 'those': 145,\n",
              " 'watching': 146,\n",
              " 'now': 147,\n",
              " 'though': 148,\n",
              " \"doesn't\": 149,\n",
              " 'years': 150,\n",
              " 'old': 151,\n",
              " 'thing': 152,\n",
              " 'actors': 153,\n",
              " 'work': 154,\n",
              " '10': 155,\n",
              " 'before': 156,\n",
              " 'another': 157,\n",
              " \"didn't\": 158,\n",
              " 'new': 159,\n",
              " 'funny': 160,\n",
              " 'nothing': 161,\n",
              " 'actually': 162,\n",
              " 'makes': 163,\n",
              " 'director': 164,\n",
              " 'look': 165,\n",
              " 'find': 166,\n",
              " 'going': 167,\n",
              " 'few': 168,\n",
              " 'same': 169,\n",
              " 'part': 170,\n",
              " 'again': 171,\n",
              " 'every': 172,\n",
              " 'lot': 173,\n",
              " 'cast': 174,\n",
              " 'us': 175,\n",
              " 'quite': 176,\n",
              " 'down': 177,\n",
              " 'want': 178,\n",
              " 'world': 179,\n",
              " 'things': 180,\n",
              " 'pretty': 181,\n",
              " 'young': 182,\n",
              " 'seems': 183,\n",
              " 'around': 184,\n",
              " 'got': 185,\n",
              " 'horror': 186,\n",
              " 'however': 187,\n",
              " \"can't\": 188,\n",
              " 'fact': 189,\n",
              " 'take': 190,\n",
              " 'big': 191,\n",
              " 'enough': 192,\n",
              " 'long': 193,\n",
              " 'thought': 194,\n",
              " \"that's\": 195,\n",
              " 'both': 196,\n",
              " 'between': 197,\n",
              " 'series': 198,\n",
              " 'give': 199,\n",
              " 'may': 200,\n",
              " 'original': 201,\n",
              " 'action': 202,\n",
              " 'own': 203,\n",
              " \"i've\": 204,\n",
              " 'right': 205,\n",
              " 'without': 206,\n",
              " 'always': 207,\n",
              " 'times': 208,\n",
              " 'comedy': 209,\n",
              " 'point': 210,\n",
              " 'gets': 211,\n",
              " 'must': 212,\n",
              " 'come': 213,\n",
              " 'role': 214,\n",
              " \"isn't\": 215,\n",
              " 'saw': 216,\n",
              " 'almost': 217,\n",
              " 'interesting': 218,\n",
              " 'least': 219,\n",
              " 'family': 220,\n",
              " 'done': 221,\n",
              " \"there's\": 222,\n",
              " 'whole': 223,\n",
              " 'bit': 224,\n",
              " 'music': 225,\n",
              " 'script': 226,\n",
              " 'far': 227,\n",
              " 'making': 228,\n",
              " 'anything': 229,\n",
              " 'guy': 230,\n",
              " 'minutes': 231,\n",
              " 'feel': 232,\n",
              " 'last': 233,\n",
              " 'since': 234,\n",
              " 'might': 235,\n",
              " 'performance': 236,\n",
              " \"he's\": 237,\n",
              " '2': 238,\n",
              " 'probably': 239,\n",
              " 'kind': 240,\n",
              " 'am': 241,\n",
              " 'away': 242,\n",
              " 'yet': 243,\n",
              " 'rather': 244,\n",
              " 'tv': 245,\n",
              " 'worst': 246,\n",
              " 'girl': 247,\n",
              " 'day': 248,\n",
              " 'sure': 249,\n",
              " 'fun': 250,\n",
              " 'hard': 251,\n",
              " 'woman': 252,\n",
              " 'played': 253,\n",
              " 'each': 254,\n",
              " 'found': 255,\n",
              " 'anyone': 256,\n",
              " 'having': 257,\n",
              " 'although': 258,\n",
              " 'especially': 259,\n",
              " 'our': 260,\n",
              " 'course': 261,\n",
              " 'believe': 262,\n",
              " 'comes': 263,\n",
              " 'looking': 264,\n",
              " 'screen': 265,\n",
              " 'trying': 266,\n",
              " 'set': 267,\n",
              " 'goes': 268,\n",
              " 'looks': 269,\n",
              " 'place': 270,\n",
              " 'book': 271,\n",
              " 'different': 272,\n",
              " 'put': 273,\n",
              " 'ending': 274,\n",
              " 'money': 275,\n",
              " 'maybe': 276,\n",
              " 'once': 277,\n",
              " 'sense': 278,\n",
              " 'reason': 279,\n",
              " 'true': 280,\n",
              " 'actor': 281,\n",
              " 'everything': 282,\n",
              " \"wasn't\": 283,\n",
              " 'shows': 284,\n",
              " 'dvd': 285,\n",
              " 'three': 286,\n",
              " 'worth': 287,\n",
              " 'year': 288,\n",
              " 'job': 289,\n",
              " 'main': 290,\n",
              " 'someone': 291,\n",
              " 'together': 292,\n",
              " 'watched': 293,\n",
              " 'play': 294,\n",
              " 'plays': 295,\n",
              " 'american': 296,\n",
              " '1': 297,\n",
              " 'said': 298,\n",
              " 'effects': 299,\n",
              " 'later': 300,\n",
              " 'takes': 301,\n",
              " 'instead': 302,\n",
              " 'seem': 303,\n",
              " 'beautiful': 304,\n",
              " 'john': 305,\n",
              " 'himself': 306,\n",
              " 'version': 307,\n",
              " 'audience': 308,\n",
              " 'high': 309,\n",
              " 'house': 310,\n",
              " 'night': 311,\n",
              " 'during': 312,\n",
              " 'everyone': 313,\n",
              " 'left': 314,\n",
              " 'special': 315,\n",
              " 'seeing': 316,\n",
              " 'half': 317,\n",
              " 'excellent': 318,\n",
              " 'wife': 319,\n",
              " 'star': 320,\n",
              " 'shot': 321,\n",
              " 'war': 322,\n",
              " 'idea': 323,\n",
              " 'nice': 324,\n",
              " 'black': 325,\n",
              " 'less': 326,\n",
              " 'mind': 327,\n",
              " 'simply': 328,\n",
              " 'read': 329,\n",
              " 'second': 330,\n",
              " 'else': 331,\n",
              " \"you're\": 332,\n",
              " 'father': 333,\n",
              " 'fan': 334,\n",
              " 'help': 335,\n",
              " 'poor': 336,\n",
              " 'completely': 337,\n",
              " 'death': 338,\n",
              " '3': 339,\n",
              " 'used': 340,\n",
              " 'home': 341,\n",
              " 'either': 342,\n",
              " 'short': 343,\n",
              " 'line': 344,\n",
              " 'given': 345,\n",
              " 'men': 346,\n",
              " 'top': 347,\n",
              " 'dead': 348,\n",
              " 'budget': 349,\n",
              " 'try': 350,\n",
              " 'performances': 351,\n",
              " 'wrong': 352,\n",
              " 'classic': 353,\n",
              " 'boring': 354,\n",
              " 'enjoy': 355,\n",
              " 'need': 356,\n",
              " 'rest': 357,\n",
              " 'use': 358,\n",
              " 'hollywood': 359,\n",
              " 'kids': 360,\n",
              " 'low': 361,\n",
              " 'production': 362,\n",
              " 'until': 363,\n",
              " 'along': 364,\n",
              " 'full': 365,\n",
              " 'friends': 366,\n",
              " 'camera': 367,\n",
              " 'truly': 368,\n",
              " 'women': 369,\n",
              " 'awful': 370,\n",
              " 'video': 371,\n",
              " 'next': 372,\n",
              " 'tell': 373,\n",
              " 'remember': 374,\n",
              " 'couple': 375,\n",
              " 'stupid': 376,\n",
              " 'start': 377,\n",
              " 'stars': 378,\n",
              " 'perhaps': 379,\n",
              " 'mean': 380,\n",
              " 'sex': 381,\n",
              " 'came': 382,\n",
              " 'recommend': 383,\n",
              " 'let': 384,\n",
              " 'moments': 385,\n",
              " 'wonderful': 386,\n",
              " 'episode': 387,\n",
              " 'understand': 388,\n",
              " 'small': 389,\n",
              " 'face': 390,\n",
              " 'terrible': 391,\n",
              " 'playing': 392,\n",
              " 'school': 393,\n",
              " 'getting': 394,\n",
              " 'written': 395,\n",
              " 'often': 396,\n",
              " 'doing': 397,\n",
              " 'keep': 398,\n",
              " 'early': 399,\n",
              " 'name': 400,\n",
              " 'perfect': 401,\n",
              " 'style': 402,\n",
              " 'human': 403,\n",
              " 'definitely': 404,\n",
              " 'gives': 405,\n",
              " 'others': 406,\n",
              " 'itself': 407,\n",
              " 'lines': 408,\n",
              " 'live': 409,\n",
              " 'become': 410,\n",
              " 'dialogue': 411,\n",
              " 'person': 412,\n",
              " 'lost': 413,\n",
              " 'finally': 414,\n",
              " 'piece': 415,\n",
              " 'head': 416,\n",
              " 'felt': 417,\n",
              " 'case': 418,\n",
              " 'yes': 419,\n",
              " 'liked': 420,\n",
              " 'supposed': 421,\n",
              " 'title': 422,\n",
              " \"couldn't\": 423,\n",
              " 'absolutely': 424,\n",
              " 'white': 425,\n",
              " 'against': 426,\n",
              " 'boy': 427,\n",
              " 'picture': 428,\n",
              " 'sort': 429,\n",
              " 'worse': 430,\n",
              " 'certainly': 431,\n",
              " 'went': 432,\n",
              " 'entire': 433,\n",
              " 'waste': 434,\n",
              " 'cinema': 435,\n",
              " 'problem': 436,\n",
              " 'hope': 437,\n",
              " 'entertaining': 438,\n",
              " \"she's\": 439,\n",
              " 'mr': 440,\n",
              " 'overall': 441,\n",
              " 'evil': 442,\n",
              " 'called': 443,\n",
              " 'loved': 444,\n",
              " 'based': 445,\n",
              " 'oh': 446,\n",
              " 'several': 447,\n",
              " 'fans': 448,\n",
              " 'mother': 449,\n",
              " 'drama': 450,\n",
              " 'beginning': 451,\n",
              " 'killer': 452,\n",
              " 'lives': 453,\n",
              " '5': 454,\n",
              " 'direction': 455,\n",
              " 'care': 456,\n",
              " 'becomes': 457,\n",
              " 'already': 458,\n",
              " 'example': 459,\n",
              " 'laugh': 460,\n",
              " 'friend': 461,\n",
              " 'dark': 462,\n",
              " 'under': 463,\n",
              " 'despite': 464,\n",
              " 'seemed': 465,\n",
              " 'throughout': 466,\n",
              " '4': 467,\n",
              " 'turn': 468,\n",
              " 'unfortunately': 469,\n",
              " 'wanted': 470,\n",
              " \"i'd\": 471,\n",
              " '\\x96': 472,\n",
              " 'children': 473,\n",
              " 'final': 474,\n",
              " 'fine': 475,\n",
              " 'history': 476,\n",
              " 'amazing': 477,\n",
              " 'sound': 478,\n",
              " 'guess': 479,\n",
              " 'heart': 480,\n",
              " 'totally': 481,\n",
              " 'humor': 482,\n",
              " 'lead': 483,\n",
              " 'writing': 484,\n",
              " 'michael': 485,\n",
              " 'quality': 486,\n",
              " \"you'll\": 487,\n",
              " 'close': 488,\n",
              " 'son': 489,\n",
              " 'guys': 490,\n",
              " 'wants': 491,\n",
              " 'works': 492,\n",
              " 'behind': 493,\n",
              " 'tries': 494,\n",
              " 'art': 495,\n",
              " 'side': 496,\n",
              " 'game': 497,\n",
              " 'past': 498,\n",
              " 'able': 499,\n",
              " 'b': 500,\n",
              " 'days': 501,\n",
              " 'turns': 502,\n",
              " 'child': 503,\n",
              " \"they're\": 504,\n",
              " 'hand': 505,\n",
              " 'flick': 506,\n",
              " 'enjoyed': 507,\n",
              " 'act': 508,\n",
              " 'genre': 509,\n",
              " 'town': 510,\n",
              " 'favorite': 511,\n",
              " 'soon': 512,\n",
              " 'kill': 513,\n",
              " 'starts': 514,\n",
              " 'sometimes': 515,\n",
              " 'car': 516,\n",
              " 'gave': 517,\n",
              " 'run': 518,\n",
              " 'late': 519,\n",
              " 'actress': 520,\n",
              " 'etc': 521,\n",
              " 'eyes': 522,\n",
              " 'directed': 523,\n",
              " 'horrible': 524,\n",
              " \"won't\": 525,\n",
              " 'brilliant': 526,\n",
              " 'viewer': 527,\n",
              " 'parts': 528,\n",
              " 'themselves': 529,\n",
              " 'self': 530,\n",
              " 'hour': 531,\n",
              " 'expect': 532,\n",
              " 'thinking': 533,\n",
              " 'stories': 534,\n",
              " 'stuff': 535,\n",
              " 'girls': 536,\n",
              " 'obviously': 537,\n",
              " 'blood': 538,\n",
              " 'decent': 539,\n",
              " 'city': 540,\n",
              " 'voice': 541,\n",
              " 'highly': 542,\n",
              " 'myself': 543,\n",
              " 'feeling': 544,\n",
              " 'fight': 545,\n",
              " 'except': 546,\n",
              " 'slow': 547,\n",
              " 'matter': 548,\n",
              " 'type': 549,\n",
              " 'kid': 550,\n",
              " 'anyway': 551,\n",
              " 'roles': 552,\n",
              " 'heard': 553,\n",
              " 'killed': 554,\n",
              " 'says': 555,\n",
              " 'god': 556,\n",
              " 'age': 557,\n",
              " 'moment': 558,\n",
              " 'took': 559,\n",
              " 'leave': 560,\n",
              " 'writer': 561,\n",
              " 'strong': 562,\n",
              " 'cannot': 563,\n",
              " 'violence': 564,\n",
              " 'police': 565,\n",
              " 'hit': 566,\n",
              " 'happens': 567,\n",
              " 'stop': 568,\n",
              " 'particularly': 569,\n",
              " 'known': 570,\n",
              " 'involved': 571,\n",
              " 'happened': 572,\n",
              " 'extremely': 573,\n",
              " 'daughter': 574,\n",
              " 'obvious': 575,\n",
              " 'told': 576,\n",
              " 'chance': 577,\n",
              " 'living': 578,\n",
              " 'coming': 579,\n",
              " 'lack': 580,\n",
              " 'experience': 581,\n",
              " 'alone': 582,\n",
              " 'including': 583,\n",
              " \"wouldn't\": 584,\n",
              " 'murder': 585,\n",
              " 'attempt': 586,\n",
              " 's': 587,\n",
              " 'james': 588,\n",
              " 'please': 589,\n",
              " 'happen': 590,\n",
              " 'wonder': 591,\n",
              " 'crap': 592,\n",
              " 'brother': 593,\n",
              " 'ago': 594,\n",
              " \"film's\": 595,\n",
              " 'gore': 596,\n",
              " 'complete': 597,\n",
              " 'none': 598,\n",
              " 'interest': 599,\n",
              " 'score': 600,\n",
              " 'group': 601,\n",
              " 'cut': 602,\n",
              " 'simple': 603,\n",
              " 'save': 604,\n",
              " 'looked': 605,\n",
              " 'ok': 606,\n",
              " 'hell': 607,\n",
              " 'career': 608,\n",
              " 'number': 609,\n",
              " 'song': 610,\n",
              " 'possible': 611,\n",
              " 'seriously': 612,\n",
              " 'annoying': 613,\n",
              " 'exactly': 614,\n",
              " 'sad': 615,\n",
              " 'shown': 616,\n",
              " 'running': 617,\n",
              " 'serious': 618,\n",
              " 'musical': 619,\n",
              " 'yourself': 620,\n",
              " 'taken': 621,\n",
              " 'whose': 622,\n",
              " 'released': 623,\n",
              " 'cinematography': 624,\n",
              " 'david': 625,\n",
              " 'scary': 626,\n",
              " 'ends': 627,\n",
              " 'english': 628,\n",
              " 'hero': 629,\n",
              " 'usually': 630,\n",
              " 'hours': 631,\n",
              " 'reality': 632,\n",
              " 'opening': 633,\n",
              " \"i'll\": 634,\n",
              " 'across': 635,\n",
              " 'light': 636,\n",
              " 'jokes': 637,\n",
              " 'today': 638,\n",
              " 'hilarious': 639,\n",
              " 'somewhat': 640,\n",
              " 'usual': 641,\n",
              " 'body': 642,\n",
              " 'ridiculous': 643,\n",
              " 'cool': 644,\n",
              " 'started': 645,\n",
              " 'level': 646,\n",
              " 'view': 647,\n",
              " 'relationship': 648,\n",
              " 'change': 649,\n",
              " 'opinion': 650,\n",
              " 'happy': 651,\n",
              " 'middle': 652,\n",
              " 'taking': 653,\n",
              " 'wish': 654,\n",
              " 'finds': 655,\n",
              " 'husband': 656,\n",
              " 'order': 657,\n",
              " 'saying': 658,\n",
              " 'shots': 659,\n",
              " 'talking': 660,\n",
              " 'ones': 661,\n",
              " 'documentary': 662,\n",
              " 'huge': 663,\n",
              " 'novel': 664,\n",
              " 'mostly': 665,\n",
              " 'female': 666,\n",
              " 'robert': 667,\n",
              " 'power': 668,\n",
              " 'episodes': 669,\n",
              " 'room': 670,\n",
              " 'important': 671,\n",
              " 'rating': 672,\n",
              " 'talent': 673,\n",
              " 'five': 674,\n",
              " 'major': 675,\n",
              " 'turned': 676,\n",
              " 'strange': 677,\n",
              " 'word': 678,\n",
              " 'modern': 679,\n",
              " 'call': 680,\n",
              " 'apparently': 681,\n",
              " 'disappointed': 682,\n",
              " 'single': 683,\n",
              " 'events': 684,\n",
              " 'due': 685,\n",
              " 'four': 686,\n",
              " 'songs': 687,\n",
              " 'basically': 688,\n",
              " 'attention': 689,\n",
              " '7': 690,\n",
              " 'knows': 691,\n",
              " 'clearly': 692,\n",
              " 'supporting': 693,\n",
              " 'knew': 694,\n",
              " 'non': 695,\n",
              " 'comic': 696,\n",
              " 'television': 697,\n",
              " 'british': 698,\n",
              " 'fast': 699,\n",
              " 'earth': 700,\n",
              " 'country': 701,\n",
              " 'future': 702,\n",
              " 'class': 703,\n",
              " 'cheap': 704,\n",
              " 'thriller': 705,\n",
              " 'silly': 706,\n",
              " '8': 707,\n",
              " 'king': 708,\n",
              " 'problems': 709,\n",
              " \"aren't\": 710,\n",
              " 'easily': 711,\n",
              " 'words': 712,\n",
              " 'tells': 713,\n",
              " 'jack': 714,\n",
              " 'miss': 715,\n",
              " 'local': 716,\n",
              " 'sequence': 717,\n",
              " 'entertainment': 718,\n",
              " 'bring': 719,\n",
              " 'paul': 720,\n",
              " 'beyond': 721,\n",
              " 'upon': 722,\n",
              " 'whether': 723,\n",
              " 'predictable': 724,\n",
              " 'moving': 725,\n",
              " 'romantic': 726,\n",
              " 'straight': 727,\n",
              " 'similar': 728,\n",
              " 'sets': 729,\n",
              " 'review': 730,\n",
              " 'oscar': 731,\n",
              " 'falls': 732,\n",
              " 'mystery': 733,\n",
              " 'enjoyable': 734,\n",
              " 'appears': 735,\n",
              " 'talk': 736,\n",
              " 'rock': 737,\n",
              " 'needs': 738,\n",
              " 'george': 739,\n",
              " 'giving': 740,\n",
              " 'eye': 741,\n",
              " 'richard': 742,\n",
              " 'within': 743,\n",
              " 'ten': 744,\n",
              " 'animation': 745,\n",
              " 'message': 746,\n",
              " 'near': 747,\n",
              " 'theater': 748,\n",
              " 'above': 749,\n",
              " 'dull': 750,\n",
              " 'sequel': 751,\n",
              " 'nearly': 752,\n",
              " 'theme': 753,\n",
              " 'points': 754,\n",
              " 'stand': 755,\n",
              " \"'\": 756,\n",
              " 'mention': 757,\n",
              " 'bunch': 758,\n",
              " 'add': 759,\n",
              " 'lady': 760,\n",
              " 'herself': 761,\n",
              " 'feels': 762,\n",
              " 'release': 763,\n",
              " 'red': 764,\n",
              " 'team': 765,\n",
              " 'storyline': 766,\n",
              " 'surprised': 767,\n",
              " 'ways': 768,\n",
              " 'using': 769,\n",
              " 'named': 770,\n",
              " \"haven't\": 771,\n",
              " 'easy': 772,\n",
              " 'lots': 773,\n",
              " 'fantastic': 774,\n",
              " 'begins': 775,\n",
              " 'actual': 776,\n",
              " 'working': 777,\n",
              " 'effort': 778,\n",
              " 'york': 779,\n",
              " 'die': 780,\n",
              " 'hate': 781,\n",
              " 'french': 782,\n",
              " 'tale': 783,\n",
              " 'minute': 784,\n",
              " 'stay': 785,\n",
              " '9': 786,\n",
              " 'clear': 787,\n",
              " 'elements': 788,\n",
              " 'feature': 789,\n",
              " 'among': 790,\n",
              " 'follow': 791,\n",
              " 'comments': 792,\n",
              " 're': 793,\n",
              " 'viewers': 794,\n",
              " 'avoid': 795,\n",
              " 'sister': 796,\n",
              " 'typical': 797,\n",
              " 'showing': 798,\n",
              " 'editing': 799,\n",
              " 'tried': 800,\n",
              " \"what's\": 801,\n",
              " 'famous': 802,\n",
              " 'sorry': 803,\n",
              " 'dialog': 804,\n",
              " 'fall': 805,\n",
              " 'check': 806,\n",
              " 'period': 807,\n",
              " 'form': 808,\n",
              " 'season': 809,\n",
              " 'certain': 810,\n",
              " 'filmed': 811,\n",
              " 'weak': 812,\n",
              " 'soundtrack': 813,\n",
              " 'means': 814,\n",
              " 'material': 815,\n",
              " 'buy': 816,\n",
              " 'realistic': 817,\n",
              " 'somehow': 818,\n",
              " 'figure': 819,\n",
              " 'crime': 820,\n",
              " 'gone': 821,\n",
              " 'doubt': 822,\n",
              " 'peter': 823,\n",
              " 'tom': 824,\n",
              " 'viewing': 825,\n",
              " 'kept': 826,\n",
              " 't': 827,\n",
              " 'general': 828,\n",
              " 'leads': 829,\n",
              " 'greatest': 830,\n",
              " 'space': 831,\n",
              " 'lame': 832,\n",
              " 'suspense': 833,\n",
              " 'dance': 834,\n",
              " 'brought': 835,\n",
              " 'imagine': 836,\n",
              " 'third': 837,\n",
              " 'atmosphere': 838,\n",
              " 'hear': 839,\n",
              " 'particular': 840,\n",
              " 'whatever': 841,\n",
              " 'sequences': 842,\n",
              " 'parents': 843,\n",
              " 'lee': 844,\n",
              " 'move': 845,\n",
              " 'indeed': 846,\n",
              " 'eventually': 847,\n",
              " 'rent': 848,\n",
              " 'learn': 849,\n",
              " 'de': 850,\n",
              " 'note': 851,\n",
              " 'forget': 852,\n",
              " 'deal': 853,\n",
              " 'reviews': 854,\n",
              " 'wait': 855,\n",
              " 'average': 856,\n",
              " 'japanese': 857,\n",
              " 'poorly': 858,\n",
              " 'sexual': 859,\n",
              " 'okay': 860,\n",
              " 'premise': 861,\n",
              " 'surprise': 862,\n",
              " 'zombie': 863,\n",
              " 'believable': 864,\n",
              " 'stage': 865,\n",
              " 'sit': 866,\n",
              " 'possibly': 867,\n",
              " \"who's\": 868,\n",
              " 'decided': 869,\n",
              " 'expected': 870,\n",
              " \"you've\": 871,\n",
              " 'subject': 872,\n",
              " 'nature': 873,\n",
              " 'became': 874,\n",
              " 'difficult': 875,\n",
              " 'free': 876,\n",
              " 'screenplay': 877,\n",
              " 'killing': 878,\n",
              " 'truth': 879,\n",
              " 'romance': 880,\n",
              " 'dr': 881,\n",
              " 'nor': 882,\n",
              " 'reading': 883,\n",
              " 'needed': 884,\n",
              " 'question': 885,\n",
              " 'leaves': 886,\n",
              " 'street': 887,\n",
              " '20': 888,\n",
              " 'meets': 889,\n",
              " 'hot': 890,\n",
              " 'unless': 891,\n",
              " 'begin': 892,\n",
              " 'baby': 893,\n",
              " 'credits': 894,\n",
              " 'otherwise': 895,\n",
              " 'imdb': 896,\n",
              " 'superb': 897,\n",
              " 'write': 898,\n",
              " 'shame': 899,\n",
              " \"let's\": 900,\n",
              " 'situation': 901,\n",
              " 'dramatic': 902,\n",
              " 'memorable': 903,\n",
              " 'directors': 904,\n",
              " 'earlier': 905,\n",
              " 'badly': 906,\n",
              " 'meet': 907,\n",
              " 'open': 908,\n",
              " 'disney': 909,\n",
              " 'dog': 910,\n",
              " 'joe': 911,\n",
              " 'male': 912,\n",
              " 'weird': 913,\n",
              " 'forced': 914,\n",
              " 'acted': 915,\n",
              " 'laughs': 916,\n",
              " 'sci': 917,\n",
              " 'emotional': 918,\n",
              " 'older': 919,\n",
              " 'realize': 920,\n",
              " 'fi': 921,\n",
              " 'dream': 922,\n",
              " 'society': 923,\n",
              " 'writers': 924,\n",
              " 'interested': 925,\n",
              " 'footage': 926,\n",
              " 'comment': 927,\n",
              " 'forward': 928,\n",
              " 'crazy': 929,\n",
              " 'deep': 930,\n",
              " 'whom': 931,\n",
              " 'plus': 932,\n",
              " 'beauty': 933,\n",
              " 'america': 934,\n",
              " 'sounds': 935,\n",
              " 'fantasy': 936,\n",
              " 'directing': 937,\n",
              " 'keeps': 938,\n",
              " 'development': 939,\n",
              " 'ask': 940,\n",
              " 'features': 941,\n",
              " 'air': 942,\n",
              " 'quickly': 943,\n",
              " 'mess': 944,\n",
              " 'creepy': 945,\n",
              " 'towards': 946,\n",
              " 'perfectly': 947,\n",
              " 'mark': 948,\n",
              " 'worked': 949,\n",
              " 'box': 950,\n",
              " 'cheesy': 951,\n",
              " 'unique': 952,\n",
              " 'hands': 953,\n",
              " 'setting': 954,\n",
              " 'plenty': 955,\n",
              " 'previous': 956,\n",
              " 'brings': 957,\n",
              " 'result': 958,\n",
              " 'total': 959,\n",
              " 'e': 960,\n",
              " 'effect': 961,\n",
              " 'incredibly': 962,\n",
              " 'personal': 963,\n",
              " 'monster': 964,\n",
              " 'rate': 965,\n",
              " 'fire': 966,\n",
              " 'business': 967,\n",
              " 'leading': 968,\n",
              " 'apart': 969,\n",
              " 'casting': 970,\n",
              " 'admit': 971,\n",
              " 'background': 972,\n",
              " 'powerful': 973,\n",
              " 'appear': 974,\n",
              " 'joke': 975,\n",
              " 'girlfriend': 976,\n",
              " 'telling': 977,\n",
              " 'meant': 978,\n",
              " 'hardly': 979,\n",
              " 'present': 980,\n",
              " 'christmas': 981,\n",
              " 'battle': 982,\n",
              " 'potential': 983,\n",
              " 'create': 984,\n",
              " 'break': 985,\n",
              " 'bill': 986,\n",
              " 'pay': 987,\n",
              " 'masterpiece': 988,\n",
              " 'gay': 989,\n",
              " 'return': 990,\n",
              " 'political': 991,\n",
              " 'dumb': 992,\n",
              " 'fails': 993,\n",
              " 'fighting': 994,\n",
              " 'various': 995,\n",
              " 'era': 996,\n",
              " 'portrayed': 997,\n",
              " 'co': 998,\n",
              " 'cop': 999,\n",
              " 'secret': 1000,\n",
              " ...}"
            ]
          },
          "metadata": {
            "tags": []
          },
          "execution_count": 53
        }
      ]
    },
    {
      "cell_type": "markdown",
      "metadata": {
        "id": "GTJm67ZeLPHk",
        "colab_type": "text"
      },
      "source": [
        "####EXPLAIN:"
      ]
    },
    {
      "cell_type": "markdown",
      "metadata": {
        "id": "U7atjIwmGpkI",
        "colab_type": "text"
      },
      "source": [
        "keras.Tokenizer:\n",
        "\n",
        "- num_words: the maximum number of words to keep, based on word frequency. Only the most common num_words-1 words will be kept.\n",
        "- filters: a string where each element is a character that will be filtered from the texts. The default is all punctuation, plus tabs and line breaks, minus the ' character.\n",
        "- lower: boolean. Whether to convert the texts to lowercase.\n",
        "- split: str. Separator for word splitting.\n",
        "- char_level: if True, every character will be treated as a token.\n",
        "- oov_token: if given, it will be added to word_index and used to replace out-of-vocabulary words during text_to_sequence calls"
      ]
    },
    {
      "cell_type": "markdown",
      "metadata": {
        "id": "8lM7TyqRK3Jj",
        "colab_type": "text"
      },
      "source": [
        "tokenizer.texts_to_sequences: give you a list of integer sequences encoding the words in your sentence, which is probably your use case:"
      ]
    },
    {
      "cell_type": "code",
      "metadata": {
        "id": "r8r0gP7clkQg",
        "colab_type": "code",
        "colab": {
          "base_uri": "https://localhost:8080/",
          "height": 289
        },
        "outputId": "eda77299-4dda-4506-dae4-ba87294f8009"
      },
      "source": [
        "from keras.preprocessing.text import Tokenizer\n",
        "# define 5 documents\n",
        "docs = ['Well done!',\n",
        "\t\t'Good work',\n",
        "\t\t'Great effort',\n",
        "    'Great job, man',\n",
        "    'So good, keep working great',\n",
        "\t\t'nice work',\n",
        "\t\t'Excellent!']\n",
        "# create the tokenizer\n",
        "t = Tokenizer(num_words=5)\n",
        "# fit the tokenizer on the documents\n",
        "t.fit_on_texts(docs)\n",
        "# summarize what was learned\n",
        "print('word_counts\\n',t.word_counts) #A dictionary of words and their counts.\n",
        "print('document_count\\n',t.document_count) # A dictionary of words and how many documents each appeared in.\n",
        "print('word_index\\n',t.word_index)# A dictionary of words and their uniquely assigned integers.\n",
        "print('word_docs\\n',t.word_docs)#An integer count of the total number of documents that were used to fit the Tokenizer.\n",
        "# integer encode documents\n",
        "encoded_docs = t.texts_to_matrix(docs, mode='count')\n",
        "print('encoded_docs\\n',encoded_docs)"
      ],
      "execution_count": null,
      "outputs": [
        {
          "output_type": "stream",
          "text": [
            "word_counts\n",
            " OrderedDict([('well', 1), ('done', 1), ('good', 2), ('work', 2), ('great', 3), ('effort', 1), ('job', 1), ('man', 1), ('so', 1), ('keep', 1), ('working', 1), ('nice', 1), ('excellent', 1)])\n",
            "document_count\n",
            " 7\n",
            "word_index\n",
            " {'great': 1, 'good': 2, 'work': 3, 'well': 4, 'done': 5, 'effort': 6, 'job': 7, 'man': 8, 'so': 9, 'keep': 10, 'working': 11, 'nice': 12, 'excellent': 13}\n",
            "word_docs\n",
            " defaultdict(<class 'int'>, {'done': 1, 'well': 1, 'good': 2, 'work': 2, 'great': 3, 'effort': 1, 'job': 1, 'man': 1, 'so': 1, 'keep': 1, 'working': 1, 'nice': 1, 'excellent': 1})\n",
            "encoded_docs\n",
            " [[0. 0. 0. 0. 1.]\n",
            " [0. 0. 1. 1. 0.]\n",
            " [0. 1. 0. 0. 0.]\n",
            " [0. 1. 0. 0. 0.]\n",
            " [0. 1. 1. 0. 0.]\n",
            " [0. 0. 0. 1. 0.]\n",
            " [0. 0. 0. 0. 0.]]\n"
          ],
          "name": "stdout"
        }
      ]
    },
    {
      "cell_type": "code",
      "metadata": {
        "id": "OHfOLoVfvVAd",
        "colab_type": "code",
        "colab": {
          "base_uri": "https://localhost:8080/",
          "height": 34
        },
        "outputId": "b65a5ce9-9928-47f6-9a06-127385ff06ba"
      },
      "source": [
        "text_sequences=t.texts_to_sequences(docs)\n",
        "text_sequences"
      ],
      "execution_count": null,
      "outputs": [
        {
          "output_type": "execute_result",
          "data": {
            "text/plain": [
              "[[4], [2, 3], [1], [1], [2, 1], [3], []]"
            ]
          },
          "metadata": {
            "tags": []
          },
          "execution_count": 27
        }
      ]
    },
    {
      "cell_type": "markdown",
      "metadata": {
        "id": "yx2K8PqHLQ0D",
        "colab_type": "text"
      },
      "source": [
        "#### CONTINUE CHAPTER:"
      ]
    },
    {
      "cell_type": "code",
      "metadata": {
        "id": "JModTUacLe8H",
        "colab_type": "code",
        "colab": {
          "base_uri": "https://localhost:8080/",
          "height": 85
        },
        "outputId": "63e26ae9-b42d-458a-c610-620810965b3a"
      },
      "source": [
        "print(len(train_texts))\n",
        "print(len(train_texts[0]))\n",
        "print(len(test_texts))\n",
        "print(len(test_texts[0]))"
      ],
      "execution_count": null,
      "outputs": [
        {
          "output_type": "stream",
          "text": [
            "25000\n",
            "655\n",
            "25000\n",
            "900\n"
          ],
          "name": "stdout"
        }
      ]
    },
    {
      "cell_type": "code",
      "metadata": {
        "id": "opo6wc5FRX16",
        "colab_type": "code",
        "colab": {
          "base_uri": "https://localhost:8080/",
          "height": 85
        },
        "outputId": "b7952f03-1a5b-48f0-bd07-211e9f87938f"
      },
      "source": [
        "print(len(train_sequences)) # train_texts --> train_sequences\n",
        "print(len(train_sequences[0]))\n",
        "print(len(test_sequences))\n",
        "print(len(test_sequences[0]))"
      ],
      "execution_count": null,
      "outputs": [
        {
          "output_type": "stream",
          "text": [
            "25000\n",
            "109\n",
            "25000\n",
            "164\n"
          ],
          "name": "stdout"
        }
      ]
    },
    {
      "cell_type": "code",
      "metadata": {
        "id": "8WxR4QmJKcJb",
        "colab_type": "code",
        "colab": {
          "base_uri": "https://localhost:8080/",
          "height": 71
        },
        "outputId": "8d47d48b-b2bb-4206-bd81-23ffde49ba95"
      },
      "source": [
        "print(train_texts[0])\n",
        "print(len(train_texts[0]))"
      ],
      "execution_count": null,
      "outputs": [
        {
          "output_type": "stream",
          "text": [
            "Story of a man who has unnatural feelings for a pig. Starts out with a opening scene that is a terrific example of absurd comedy. A formal orchestra audience is turned into an insane, violent mob by the crazy chantings of it's singers. Unfortunately it stays absurd the WHOLE time with no general narrative eventually making it just too off putting. Even those from the era should be turned off. The cryptic dialogue would make Shakespeare seem easy to a third grader. On a technical level it's better than you might think with some good cinematography by future great Vilmos Zsigmond. Future stars Sally Kirkland and Frederic Forrest can be seen briefly.\n",
            "655\n"
          ],
          "name": "stdout"
        }
      ]
    },
    {
      "cell_type": "code",
      "metadata": {
        "id": "nRBddLjPpndJ",
        "colab_type": "code",
        "colab": {
          "base_uri": "https://localhost:8080/",
          "height": 71
        },
        "outputId": "a73d5792-a2c2-4008-e85d-cde4a173fa6d"
      },
      "source": [
        "print(train_sequences[0]) # max 10000 words in sequences\n",
        "print(len(train_sequences[0]))"
      ],
      "execution_count": null,
      "outputs": [
        {
          "output_type": "stream",
          "text": [
            "[62, 4, 3, 129, 34, 44, 7576, 1414, 15, 3, 4252, 514, 43, 16, 3, 633, 133, 12, 6, 3, 1301, 459, 4, 1751, 209, 3, 10785, 7693, 308, 6, 676, 80, 32, 2137, 1110, 3008, 31, 1, 929, 4, 42, 5120, 469, 9, 2665, 1751, 1, 223, 55, 16, 54, 828, 1318, 847, 228, 9, 40, 96, 122, 1484, 57, 145, 36, 1, 996, 141, 27, 676, 122, 1, 13886, 411, 59, 94, 2278, 303, 772, 5, 3, 837, 11037, 20, 3, 1755, 646, 42, 125, 71, 22, 235, 101, 16, 46, 49, 624, 31, 702, 84, 702, 378, 3493, 12997, 2, 16816, 8422, 67, 27, 107, 3348]\n",
            "109\n"
          ],
          "name": "stdout"
        }
      ]
    },
    {
      "cell_type": "markdown",
      "metadata": {
        "id": "dSimTDKJOFUL",
        "colab_type": "text"
      },
      "source": [
        "# 2. Pad the text sequences so that all text vectors are of the same length."
      ]
    },
    {
      "cell_type": "markdown",
      "metadata": {
        "id": "Fuzo4zp7_gQv",
        "colab_type": "text"
      },
      "source": [
        "#### Explain"
      ]
    },
    {
      "cell_type": "code",
      "metadata": {
        "id": "8cGollo5_QNo",
        "colab_type": "code",
        "colab": {
          "base_uri": "https://localhost:8080/",
          "height": 68
        },
        "outputId": "4f82ee87-ff73-434f-9e22-728cfcbb41c5"
      },
      "source": [
        "import tensorflow as tf\n",
        "sequence = [[1], [10,8], [4, 9, 6]]\n",
        "tf.keras.preprocessing.sequence.pad_sequences(sequence,maxlen=5)"
      ],
      "execution_count": null,
      "outputs": [
        {
          "output_type": "execute_result",
          "data": {
            "text/plain": [
              "array([[ 0,  0,  0,  0,  1],\n",
              "       [ 0,  0,  0, 10,  8],\n",
              "       [ 0,  0,  4,  9,  6]], dtype=int32)"
            ]
          },
          "metadata": {
            "tags": []
          },
          "execution_count": 32
        }
      ]
    },
    {
      "cell_type": "code",
      "metadata": {
        "id": "jPmnCVvpAFpK",
        "colab_type": "code",
        "colab": {
          "base_uri": "https://localhost:8080/",
          "height": 71
        },
        "outputId": "0e49b312-99b8-4383-9084-fc6e21ab1d30"
      },
      "source": [
        "sequence = [train_sequences[0]]\n",
        "print(sequence)\n",
        "print(len(sequence[0]))"
      ],
      "execution_count": null,
      "outputs": [
        {
          "output_type": "stream",
          "text": [
            "[[62, 4, 3, 129, 34, 44, 7576, 1414, 15, 3, 4252, 514, 43, 16, 3, 633, 133, 12, 6, 3, 1301, 459, 4, 1751, 209, 3, 10785, 7693, 308, 6, 676, 80, 32, 2137, 1110, 3008, 31, 1, 929, 4, 42, 5120, 469, 9, 2665, 1751, 1, 223, 55, 16, 54, 828, 1318, 847, 228, 9, 40, 96, 122, 1484, 57, 145, 36, 1, 996, 141, 27, 676, 122, 1, 13886, 411, 59, 94, 2278, 303, 772, 5, 3, 837, 11037, 20, 3, 1755, 646, 42, 125, 71, 22, 235, 101, 16, 46, 49, 624, 31, 702, 84, 702, 378, 3493, 12997, 2, 16816, 8422, 67, 27, 107, 3348]]\n",
            "109\n"
          ],
          "name": "stdout"
        }
      ]
    },
    {
      "cell_type": "code",
      "metadata": {
        "id": "L327pIc5_rD5",
        "colab_type": "code",
        "colab": {
          "base_uri": "https://localhost:8080/",
          "height": 408
        },
        "outputId": "2276dae1-668d-4c87-e0ee-6f8a8fa494f4"
      },
      "source": [
        "a=tf.keras.preprocessing.sequence.pad_sequences(sequence,maxlen=200)\n",
        "a"
      ],
      "execution_count": null,
      "outputs": [
        {
          "output_type": "execute_result",
          "data": {
            "text/plain": [
              "array([[    0,     0,     0,     0,     0,     0,     0,     0,     0,\n",
              "            0,     0,     0,     0,     0,     0,     0,     0,     0,\n",
              "            0,     0,     0,     0,     0,     0,     0,     0,     0,\n",
              "            0,     0,     0,     0,     0,     0,     0,     0,     0,\n",
              "            0,     0,     0,     0,     0,     0,     0,     0,     0,\n",
              "            0,     0,     0,     0,     0,     0,     0,     0,     0,\n",
              "            0,     0,     0,     0,     0,     0,     0,     0,     0,\n",
              "            0,     0,     0,     0,     0,     0,     0,     0,     0,\n",
              "            0,     0,     0,     0,     0,     0,     0,     0,     0,\n",
              "            0,     0,     0,     0,     0,     0,     0,     0,     0,\n",
              "            0,    62,     4,     3,   129,    34,    44,  7576,  1414,\n",
              "           15,     3,  4252,   514,    43,    16,     3,   633,   133,\n",
              "           12,     6,     3,  1301,   459,     4,  1751,   209,     3,\n",
              "        10785,  7693,   308,     6,   676,    80,    32,  2137,  1110,\n",
              "         3008,    31,     1,   929,     4,    42,  5120,   469,     9,\n",
              "         2665,  1751,     1,   223,    55,    16,    54,   828,  1318,\n",
              "          847,   228,     9,    40,    96,   122,  1484,    57,   145,\n",
              "           36,     1,   996,   141,    27,   676,   122,     1, 13886,\n",
              "          411,    59,    94,  2278,   303,   772,     5,     3,   837,\n",
              "        11037,    20,     3,  1755,   646,    42,   125,    71,    22,\n",
              "          235,   101,    16,    46,    49,   624,    31,   702,    84,\n",
              "          702,   378,  3493, 12997,     2, 16816,  8422,    67,    27,\n",
              "          107,  3348]], dtype=int32)"
            ]
          },
          "metadata": {
            "tags": []
          },
          "execution_count": 34
        }
      ]
    },
    {
      "cell_type": "code",
      "metadata": {
        "id": "705o9T__IBLy",
        "colab_type": "code",
        "colab": {
          "base_uri": "https://localhost:8080/",
          "height": 534
        },
        "outputId": "de66d56a-b4df-47d2-d21d-52e4b6550438"
      },
      "source": [
        "pd.DataFrame(sequence[0]).plot()\n",
        "pd.DataFrame(a[0]).plot()"
      ],
      "execution_count": null,
      "outputs": [
        {
          "output_type": "execute_result",
          "data": {
            "text/plain": [
              "<matplotlib.axes._subplots.AxesSubplot at 0x7f26664d1780>"
            ]
          },
          "metadata": {
            "tags": []
          },
          "execution_count": 35
        },
        {
          "output_type": "display_data",
          "data": {
            "image/png": "[encoded data removed]",
            "text/plain": [
              "<Figure size 432x288 with 1 Axes>"
            ]
          },
          "metadata": {
            "tags": [],
            "needs_background": "light"
          }
        },
        {
          "output_type": "display_data",
          "data": {
            "image/png": "[encoded data removed]",
            "text/plain": [
              "<Figure size 432x288 with 1 Axes>"
            ]
          },
          "metadata": {
            "tags": [],
            "needs_background": "light"
          }
        }
      ]
    },
    {
      "cell_type": "markdown",
      "metadata": {
        "id": "t3jo6qXR_iG8",
        "colab_type": "text"
      },
      "source": [
        "#### Continue"
      ]
    },
    {
      "cell_type": "code",
      "metadata": {
        "id": "tDY3UtmWuKgc",
        "colab_type": "code",
        "colab": {}
      },
      "source": [
        "#Converting this to sequences to be fed into neural network. Max seq. len is 1000 as set earlier\n",
        "#initial padding of 0s, until vector is of size MAX_SEQUENCE_LENGTH\n",
        "trainvalid_data = pad_sequences(train_sequences, maxlen=MAX_SEQUENCE_LENGTH) #1000\n",
        "test_data = pad_sequences(test_sequences, maxlen=MAX_SEQUENCE_LENGTH) #1000"
      ],
      "execution_count": null,
      "outputs": []
    },
    {
      "cell_type": "code",
      "metadata": {
        "id": "pj51CZxa7qJa",
        "colab_type": "code",
        "colab": {
          "base_uri": "https://localhost:8080/",
          "height": 88
        },
        "outputId": "2d5b14c4-cb6c-4889-8868-8c3844b47242"
      },
      "source": [
        "print(len(train_sequences)) # train_texts --> train_sequences\n",
        "print(len(train_sequences[0]))\n",
        "print(train_sequences[0])"
      ],
      "execution_count": null,
      "outputs": [
        {
          "output_type": "stream",
          "text": [
            "25000\n",
            "109\n",
            "[62, 4, 3, 129, 34, 44, 7576, 1414, 15, 3, 4252, 514, 43, 16, 3, 633, 133, 12, 6, 3, 1301, 459, 4, 1751, 209, 3, 10785, 7693, 308, 6, 676, 80, 32, 2137, 1110, 3008, 31, 1, 929, 4, 42, 5120, 469, 9, 2665, 1751, 1, 223, 55, 16, 54, 828, 1318, 847, 228, 9, 40, 96, 122, 1484, 57, 145, 36, 1, 996, 141, 27, 676, 122, 1, 13886, 411, 59, 94, 2278, 303, 772, 5, 3, 837, 11037, 20, 3, 1755, 646, 42, 125, 71, 22, 235, 101, 16, 46, 49, 624, 31, 702, 84, 702, 378, 3493, 12997, 2, 16816, 8422, 67, 27, 107, 3348]\n"
          ],
          "name": "stdout"
        }
      ]
    },
    {
      "cell_type": "code",
      "metadata": {
        "id": "RMIO-5_Tr155",
        "colab_type": "code",
        "colab": {
          "base_uri": "https://localhost:8080/",
          "height": 153
        },
        "outputId": "f5b94ad1-906a-48fa-b9da-fc47aabf9fc8"
      },
      "source": [
        "print(trainvalid_data.shape)\n",
        "trainvalid_data"
      ],
      "execution_count": null,
      "outputs": [
        {
          "output_type": "stream",
          "text": [
            "(25000, 1000)\n"
          ],
          "name": "stdout"
        },
        {
          "output_type": "execute_result",
          "data": {
            "text/plain": [
              "array([[   0,    0,    0, ...,   27,  107, 3348],\n",
              "       [   0,    0,    0, ...,    1, 4517, 5457],\n",
              "       [   0,    0,    0, ..., 1906,   15,  620],\n",
              "       ...,\n",
              "       [   0,    0,    0, ..., 1110,  205, 9755],\n",
              "       [   0,    0,    0, ..., 3713,   14,   70],\n",
              "       [   0,    0,    0, ...,   82,   93,   36]], dtype=int32)"
            ]
          },
          "metadata": {
            "tags": []
          },
          "execution_count": 60
        }
      ]
    },
    {
      "cell_type": "code",
      "metadata": {
        "id": "q8tpG4Fow-WV",
        "colab_type": "code",
        "colab": {
          "base_uri": "https://localhost:8080/",
          "height": 534
        },
        "outputId": "d1662ffa-84f1-4053-a820-24ea1f9efb68"
      },
      "source": [
        "pd.DataFrame(train_sequences[0]).plot()\n",
        "# plot 109 tu, moi tu duoc the hien bang sequend index trong 20,000 tu\n",
        "pd.DataFrame(trainvalid_data[0]).plot()\n",
        "# plot 109 tu, moi tu duoc the hien bang sequend index trong 20,000 tu, tuy nhien\n",
        "# tat ca duoc the hien trong padding 1000 (tu 900 --> 1000)"
      ],
      "execution_count": null,
      "outputs": [
        {
          "output_type": "execute_result",
          "data": {
            "text/plain": [
              "<matplotlib.axes._subplots.AxesSubplot at 0x7f26657524e0>"
            ]
          },
          "metadata": {
            "tags": []
          },
          "execution_count": 61
        },
        {
          "output_type": "display_data",
          "data": {
            "image/png": "[encoded data removed]",
            "text/plain": [
              "<Figure size 432x288 with 1 Axes>"
            ]
          },
          "metadata": {
            "tags": [],
            "needs_background": "light"
          }
        },
        {
          "output_type": "display_data",
          "data": {
            "image/png": "[encoded data removed]",
            "text/plain": [
              "<Figure size 432x288 with 1 Axes>"
            ]
          },
          "metadata": {
            "tags": [],
            "needs_background": "light"
          }
        }
      ]
    },
    {
      "cell_type": "code",
      "metadata": {
        "id": "JSSlJt6J-HOj",
        "colab_type": "code",
        "colab": {
          "base_uri": "https://localhost:8080/",
          "height": 532
        },
        "outputId": "2520b6ce-2fa0-425c-cb69-a282f3497c9b"
      },
      "source": [
        "num=3\n",
        "pd.DataFrame(train_sequences[num]).plot()\n",
        "pd.DataFrame(trainvalid_data[num]).plot()"
      ],
      "execution_count": null,
      "outputs": [
        {
          "output_type": "execute_result",
          "data": {
            "text/plain": [
              "<matplotlib.axes._subplots.AxesSubplot at 0x7f2665afe2e8>"
            ]
          },
          "metadata": {
            "tags": []
          },
          "execution_count": 62
        },
        {
          "output_type": "display_data",
          "data": {
            "image/png": "[encoded data removed]",
            "text/plain": [
              "<Figure size 432x288 with 1 Axes>"
            ]
          },
          "metadata": {
            "tags": [],
            "needs_background": "light"
          }
        },
        {
          "output_type": "display_data",
          "data": {
            "image/png": "[encoded data removed]",
            "text/plain": [
              "<Figure size 432x288 with 1 Axes>"
            ]
          },
          "metadata": {
            "tags": [],
            "needs_background": "light"
          }
        }
      ]
    },
    {
      "cell_type": "code",
      "metadata": {
        "id": "Yho7RWjDrt09",
        "colab_type": "code",
        "colab": {}
      },
      "source": [
        "trainvalid_labels = to_categorical(np.asarray(train_labels))\n",
        "test_labels = to_categorical(np.asarray(test_labels))"
      ],
      "execution_count": null,
      "outputs": []
    },
    {
      "cell_type": "code",
      "metadata": {
        "id": "wn9bthOJNS_G",
        "colab_type": "code",
        "colab": {
          "base_uri": "https://localhost:8080/",
          "height": 170
        },
        "outputId": "f3bfc1c8-e148-46ee-c783-d1cb7fe6bb54"
      },
      "source": [
        "print(train_labels[:3])\n",
        "print(trainvalid_labels.shape)\n",
        "trainvalid_labels"
      ],
      "execution_count": null,
      "outputs": [
        {
          "output_type": "stream",
          "text": [
            "[0, 0, 0]\n",
            "(25000, 2)\n"
          ],
          "name": "stdout"
        },
        {
          "output_type": "execute_result",
          "data": {
            "text/plain": [
              "array([[1., 0.],\n",
              "       [1., 0.],\n",
              "       [1., 0.],\n",
              "       ...,\n",
              "       [0., 1.],\n",
              "       [0., 1.],\n",
              "       [0., 1.]], dtype=float32)"
            ]
          },
          "metadata": {
            "tags": []
          },
          "execution_count": 64
        }
      ]
    },
    {
      "cell_type": "code",
      "metadata": {
        "id": "t8DTzqC7Nkpm",
        "colab_type": "code",
        "colab": {
          "base_uri": "https://localhost:8080/",
          "height": 51
        },
        "outputId": "5b9dafe2-8191-444a-8aaa-ab1defda6b95"
      },
      "source": [
        "print(VALIDATION_SPLIT)\n",
        "print(trainvalid_data.shape[0])"
      ],
      "execution_count": null,
      "outputs": [
        {
          "output_type": "stream",
          "text": [
            "0.2\n",
            "25000\n"
          ],
          "name": "stdout"
        }
      ]
    },
    {
      "cell_type": "markdown",
      "metadata": {
        "id": "d83GVPPJl5Df",
        "colab_type": "text"
      },
      "source": [
        "# Split the training data into a training set and a validation set"
      ]
    },
    {
      "cell_type": "code",
      "metadata": {
        "id": "_e0V1-bBb5_d",
        "colab_type": "code",
        "colab": {
          "base_uri": "https://localhost:8080/",
          "height": 34
        },
        "outputId": "b983dcbf-43e6-4ab5-b0cf-792c9016b94f"
      },
      "source": [
        "indices = np.arange(trainvalid_data.shape[0])\n",
        "np.random.shuffle(indices)\n",
        "trainvalid_data = trainvalid_data[indices]\n",
        "trainvalid_labels = trainvalid_labels[indices]\n",
        "num_validation_samples = int(VALIDATION_SPLIT * trainvalid_data.shape[0])\n",
        "x_train = trainvalid_data[:-num_validation_samples]\n",
        "y_train = trainvalid_labels[:-num_validation_samples]\n",
        "x_val = trainvalid_data[-num_validation_samples:]\n",
        "y_val = trainvalid_labels[-num_validation_samples:]\n",
        "#This is the data we will use for CNN and RNN training\n",
        "print('Splitting the train data into train and valid is done')"
      ],
      "execution_count": null,
      "outputs": [
        {
          "output_type": "stream",
          "text": [
            "Splitting the train data into train and valid is done\n"
          ],
          "name": "stdout"
        }
      ]
    },
    {
      "cell_type": "code",
      "metadata": {
        "id": "l_gKDPeWNwV0",
        "colab_type": "code",
        "colab": {
          "base_uri": "https://localhost:8080/",
          "height": 68
        },
        "outputId": "693fa29c-e712-41b6-c3a0-967d162d27e0"
      },
      "source": [
        "print(x_train.shape)\n",
        "print(y_train.shape)\n",
        "print(x_val.shape)"
      ],
      "execution_count": null,
      "outputs": [
        {
          "output_type": "stream",
          "text": [
            "(20000, 1000)\n",
            "(20000, 2)\n",
            "(5000, 1000)\n"
          ],
          "name": "stdout"
        }
      ]
    },
    {
      "cell_type": "code",
      "metadata": {
        "id": "C63JLEKkN3p8",
        "colab_type": "code",
        "colab": {
          "base_uri": "https://localhost:8080/",
          "height": 136
        },
        "outputId": "9ef92a95-5fc3-4fec-e50c-b4a3f8d77db4"
      },
      "source": [
        "x_train"
      ],
      "execution_count": null,
      "outputs": [
        {
          "output_type": "execute_result",
          "data": {
            "text/plain": [
              "array([[    0,     0,     0, ...,   721,  3000,  1453],\n",
              "       [    0,     0,     0, ...,     8,     1,   390],\n",
              "       [    0,     0,     0, ...,     5,    58, 16590],\n",
              "       ...,\n",
              "       [    0,     0,     0, ...,   970,     2,   455],\n",
              "       [    0,     0,     0, ...,     7,     7,   795],\n",
              "       [    0,     0,     0, ...,   389,    15,    38]], dtype=int32)"
            ]
          },
          "metadata": {
            "tags": []
          },
          "execution_count": 68
        }
      ]
    },
    {
      "cell_type": "markdown",
      "metadata": {
        "id": "t0X4KlpTORsf",
        "colab_type": "text"
      },
      "source": [
        "#3. Map every word index to an embedding vector (for pre-train model| can skip if no need pre train)\n",
        "\n",
        "We do that by multiplying\n",
        "word index vectors with the embedding matrix. The embedding matrix can\n",
        "either be populated using pre-trained embeddings or it can be trained for\n",
        "embeddings on this corpus"
      ]
    },
    {
      "cell_type": "markdown",
      "metadata": {
        "id": "AeH3Bvy5O_En",
        "colab_type": "text"
      },
      "source": [
        "Step 3: If we want to use pre-trained embeddings to convert the train and test data\n",
        "into an embedding matrix like we did in the earlier examples with Word2vec and\n",
        "fastText, we have to download them and use them to convert our data into the input\n",
        "format for the neural networks. The following code snippet shows an example of\n",
        "how to do this using GloVe embeddings, which were introduced in Chapter 3. GloVe\n",
        "embeddings come with multiple dimensionalities, and we chose 100 as our\n",
        "dimension here. The value of dimensionality is a hyperparameter, and we can\n",
        "experiment with other dimensions as well:"
      ]
    },
    {
      "cell_type": "markdown",
      "metadata": {
        "id": "iBVwwcIcYQn_",
        "colab_type": "text"
      },
      "source": [
        "#### Explain:"
      ]
    },
    {
      "cell_type": "code",
      "metadata": {
        "id": "0ENkpSyaYP72",
        "colab_type": "code",
        "colab": {
          "base_uri": "https://localhost:8080/",
          "height": 683
        },
        "outputId": "58c30f1b-1546-4fdf-838a-3e8966b6e023"
      },
      "source": [
        "with open(os.path.join(GLOVE_DIR, 'glove.6B.100d.txt')) as f:\n",
        "    i=0\n",
        "    for line in f:\n",
        "        values = line.split()\n",
        "        print(values)\n",
        "        word = values[0] # vocabulary name\n",
        "        print(word)\n",
        "        coefs = np.asarray(values[1:], dtype='float32') # embedding 100 dim\n",
        "        print(coefs)\n",
        "        print(len(coefs))\n",
        "        embeddings_index[word] = coefs\n",
        "        i+=1\n",
        "        if i ==2 : break"
      ],
      "execution_count": null,
      "outputs": [
        {
          "output_type": "stream",
          "text": [
            "['the', '-0.038194', '-0.24487', '0.72812', '-0.39961', '0.083172', '0.043953', '-0.39141', '0.3344', '-0.57545', '0.087459', '0.28787', '-0.06731', '0.30906', '-0.26384', '-0.13231', '-0.20757', '0.33395', '-0.33848', '-0.31743', '-0.48336', '0.1464', '-0.37304', '0.34577', '0.052041', '0.44946', '-0.46971', '0.02628', '-0.54155', '-0.15518', '-0.14107', '-0.039722', '0.28277', '0.14393', '0.23464', '-0.31021', '0.086173', '0.20397', '0.52624', '0.17164', '-0.082378', '-0.71787', '-0.41531', '0.20335', '-0.12763', '0.41367', '0.55187', '0.57908', '-0.33477', '-0.36559', '-0.54857', '-0.062892', '0.26584', '0.30205', '0.99775', '-0.80481', '-3.0243', '0.01254', '-0.36942', '2.2167', '0.72201', '-0.24978', '0.92136', '0.034514', '0.46745', '1.1079', '-0.19358', '-0.074575', '0.23353', '-0.052062', '-0.22044', '0.057162', '-0.15806', '-0.30798', '-0.41625', '0.37972', '0.15006', '-0.53212', '-0.2055', '-1.2526', '0.071624', '0.70565', '0.49744', '-0.42063', '0.26148', '-1.538', '-0.30223', '-0.073438', '-0.28312', '0.37104', '-0.25217', '0.016215', '-0.017099', '-0.38984', '0.87424', '-0.72569', '-0.51058', '-0.52028', '-0.1459', '0.8278', '0.27062']\n",
            "the\n",
            "[-0.038194 -0.24487   0.72812  -0.39961   0.083172  0.043953 -0.39141\n",
            "  0.3344   -0.57545   0.087459  0.28787  -0.06731   0.30906  -0.26384\n",
            " -0.13231  -0.20757   0.33395  -0.33848  -0.31743  -0.48336   0.1464\n",
            " -0.37304   0.34577   0.052041  0.44946  -0.46971   0.02628  -0.54155\n",
            " -0.15518  -0.14107  -0.039722  0.28277   0.14393   0.23464  -0.31021\n",
            "  0.086173  0.20397   0.52624   0.17164  -0.082378 -0.71787  -0.41531\n",
            "  0.20335  -0.12763   0.41367   0.55187   0.57908  -0.33477  -0.36559\n",
            " -0.54857  -0.062892  0.26584   0.30205   0.99775  -0.80481  -3.0243\n",
            "  0.01254  -0.36942   2.2167    0.72201  -0.24978   0.92136   0.034514\n",
            "  0.46745   1.1079   -0.19358  -0.074575  0.23353  -0.052062 -0.22044\n",
            "  0.057162 -0.15806  -0.30798  -0.41625   0.37972   0.15006  -0.53212\n",
            " -0.2055   -1.2526    0.071624  0.70565   0.49744  -0.42063   0.26148\n",
            " -1.538    -0.30223  -0.073438 -0.28312   0.37104  -0.25217   0.016215\n",
            " -0.017099 -0.38984   0.87424  -0.72569  -0.51058  -0.52028  -0.1459\n",
            "  0.8278    0.27062 ]\n",
            "100\n",
            "[',', '-0.10767', '0.11053', '0.59812', '-0.54361', '0.67396', '0.10663', '0.038867', '0.35481', '0.06351', '-0.094189', '0.15786', '-0.81665', '0.14172', '0.21939', '0.58505', '-0.52158', '0.22783', '-0.16642', '-0.68228', '0.3587', '0.42568', '0.19021', '0.91963', '0.57555', '0.46185', '0.42363', '-0.095399', '-0.42749', '-0.16567', '-0.056842', '-0.29595', '0.26037', '-0.26606', '-0.070404', '-0.27662', '0.15821', '0.69825', '0.43081', '0.27952', '-0.45437', '-0.33801', '-0.58184', '0.22364', '-0.5778', '-0.26862', '-0.20425', '0.56394', '-0.58524', '-0.14365', '-0.64218', '0.0054697', '-0.35248', '0.16162', '1.1796', '-0.47674', '-2.7553', '-0.1321', '-0.047729', '1.0655', '1.1034', '-0.2208', '0.18669', '0.13177', '0.15117', '0.7131', '-0.35215', '0.91348', '0.61783', '0.70992', '0.23955', '-0.14571', '-0.37859', '-0.045959', '-0.47368', '0.2385', '0.20536', '-0.18996', '0.32507', '-1.1112', '-0.36341', '0.98679', '-0.084776', '-0.54008', '0.11726', '-1.0194', '-0.24424', '0.12771', '0.013884', '0.080374', '-0.35414', '0.34951', '-0.7226', '0.37549', '0.4441', '-0.99059', '0.61214', '-0.35111', '-0.83155', '0.45293', '0.082577']\n",
            ",\n",
            "[-0.10767    0.11053    0.59812   -0.54361    0.67396    0.10663\n",
            "  0.038867   0.35481    0.06351   -0.094189   0.15786   -0.81665\n",
            "  0.14172    0.21939    0.58505   -0.52158    0.22783   -0.16642\n",
            " -0.68228    0.3587     0.42568    0.19021    0.91963    0.57555\n",
            "  0.46185    0.42363   -0.095399  -0.42749   -0.16567   -0.056842\n",
            " -0.29595    0.26037   -0.26606   -0.070404  -0.27662    0.15821\n",
            "  0.69825    0.43081    0.27952   -0.45437   -0.33801   -0.58184\n",
            "  0.22364   -0.5778    -0.26862   -0.20425    0.56394   -0.58524\n",
            " -0.14365   -0.64218    0.0054697 -0.35248    0.16162    1.1796\n",
            " -0.47674   -2.7553    -0.1321    -0.047729   1.0655     1.1034\n",
            " -0.2208     0.18669    0.13177    0.15117    0.7131    -0.35215\n",
            "  0.91348    0.61783    0.70992    0.23955   -0.14571   -0.37859\n",
            " -0.045959  -0.47368    0.2385     0.20536   -0.18996    0.32507\n",
            " -1.1112    -0.36341    0.98679   -0.084776  -0.54008    0.11726\n",
            " -1.0194    -0.24424    0.12771    0.013884   0.080374  -0.35414\n",
            "  0.34951   -0.7226     0.37549    0.4441    -0.99059    0.61214\n",
            " -0.35111   -0.83155    0.45293    0.082577 ]\n",
            "100\n"
          ],
          "name": "stdout"
        }
      ]
    },
    {
      "cell_type": "markdown",
      "metadata": {
        "id": "Zu5VghsVYR9R",
        "colab_type": "text"
      },
      "source": [
        "#### End explain"
      ]
    },
    {
      "cell_type": "code",
      "metadata": {
        "id": "qqgjdjFuPyqK",
        "colab_type": "code",
        "colab": {
          "base_uri": "https://localhost:8080/",
          "height": 306
        },
        "outputId": "107bc3eb-5cba-44f7-cb5d-9f5686f4b2c7"
      },
      "source": [
        "print('Preparing embedding matrix.')\n",
        "\n",
        "# first, build index mapping words in the embeddings set\n",
        "# to their embedding vector\n",
        "embeddings_index = {}\n",
        "with open(os.path.join(GLOVE_DIR, 'glove.6B.100d.txt')) as f:\n",
        "    for line in f:\n",
        "        values = line.split()\n",
        "        word = values[0] # vocabulary name\n",
        "        coefs = np.asarray(values[1:], dtype='float32') # embedding 100 dim\n",
        "        embeddings_index[word] = coefs\n",
        "\n",
        "print('Found %s word vectors in Glove embeddings.' % len(embeddings_index))\n",
        "print(embeddings_index[\"google\"])"
      ],
      "execution_count": null,
      "outputs": [
        {
          "output_type": "stream",
          "text": [
            "Preparing embedding matrix.\n",
            "Found 400000 word vectors in Glove embeddings.\n",
            "[ 0.22575  -0.56253  -0.05156  -0.079389  1.1876   -0.48397  -0.23342\n",
            " -0.85278   0.97495  -0.33344   0.71692   0.12644   0.31962  -1.4136\n",
            " -0.57903  -0.037286 -0.0164    0.45155  -0.29005   0.52599  -0.22534\n",
            " -0.29556  -0.032407  1.5608   -0.013499 -0.064558  0.26625   0.78595\n",
            " -0.71693  -0.93025   0.80461   1.6035   -0.30602  -0.34764   0.93872\n",
            "  0.38137  -0.26743  -0.56519   0.58899  -0.14554  -0.34324   0.21291\n",
            " -0.39887   0.090042 -0.8495    0.38803  -0.5045   -0.22488   1.0644\n",
            " -0.2624    1.0334    0.06348  -0.39989   0.24236  -0.65636  -1.8107\n",
            " -0.061801  0.13795   1.1658   -0.30046  -0.50143   0.16509   0.039835\n",
            "  0.62541   0.56935   0.64125   0.21308   0.30276   0.39673   0.38973\n",
            "  0.28183   0.79481  -0.11962  -0.49598  -0.53195  -0.14897   0.51254\n",
            " -0.39208  -0.58535  -0.078509  0.81721  -0.73497  -0.68131   0.099243\n",
            " -0.87608   0.029632  0.33402  -0.14305   0.16964  -0.035178  0.39777\n",
            "  0.71769   0.25867  -0.36201   0.45698  -0.39156  -0.49343  -0.11224\n",
            "  0.29046   0.73216 ]\n"
          ],
          "name": "stdout"
        }
      ]
    },
    {
      "cell_type": "code",
      "metadata": {
        "id": "A1LTW_EsXJEV",
        "colab_type": "code",
        "colab": {
          "base_uri": "https://localhost:8080/",
          "height": 51
        },
        "outputId": "f908b78e-c6db-408c-f62b-3dd2dc650309"
      },
      "source": [
        "# dang su dung embedding 100d cua glove, co the su dung thu vien 200 or 300d tuy luc\n",
        "print(len(embeddings_index[\"google\"]))\n",
        "print(len(embeddings_index[\"apple\"]))"
      ],
      "execution_count": null,
      "outputs": [
        {
          "output_type": "stream",
          "text": [
            "100\n",
            "100\n"
          ],
          "name": "stdout"
        }
      ]
    },
    {
      "cell_type": "code",
      "metadata": {
        "id": "M6IIY2b6PbZF",
        "colab_type": "code",
        "colab": {
          "base_uri": "https://localhost:8080/",
          "height": 51
        },
        "outputId": "d42a5053-62d1-47f1-a1c7-1be4af2fdfdb"
      },
      "source": [
        "print(MAX_NUM_WORDS)\n",
        "print(EMBEDDING_DIM)"
      ],
      "execution_count": null,
      "outputs": [
        {
          "output_type": "stream",
          "text": [
            "20000\n",
            "100\n"
          ],
          "name": "stdout"
        }
      ]
    },
    {
      "cell_type": "code",
      "metadata": {
        "id": "Yq9I-vmvY0S5",
        "colab_type": "code",
        "colab": {
          "base_uri": "https://localhost:8080/",
          "height": 51
        },
        "outputId": "d07467fd-e970-4c90-8118-d146b853f4b6"
      },
      "source": [
        "# prepare embedding matrix - rows are the words from word_index, columns are the embeddings of that word from glove.\n",
        "num_words = min(MAX_NUM_WORDS, len(word_index)) + 1\n",
        "embedding_matrix = np.zeros((num_words, EMBEDDING_DIM))\n",
        "print(num_words)\n",
        "print(embedding_matrix.shape)"
      ],
      "execution_count": null,
      "outputs": [
        {
          "output_type": "stream",
          "text": [
            "20001\n",
            "(20001, 100)\n"
          ],
          "name": "stdout"
        }
      ]
    },
    {
      "cell_type": "markdown",
      "metadata": {
        "id": "3LVsm7SkZZZI",
        "colab_type": "text"
      },
      "source": [
        "embeddings_index : chua toan bo embeddings words tu glove"
      ]
    },
    {
      "cell_type": "code",
      "metadata": {
        "id": "O14lJkeUZ3D8",
        "colab_type": "code",
        "colab": {
          "base_uri": "https://localhost:8080/",
          "height": 51
        },
        "outputId": "b5c29a6b-9443-498e-91b7-ad4057103b2a"
      },
      "source": [
        "print(len(word_index)) # max 20000 tu hay gap nhat thoi, index nay khong xai het\n",
        "print(len(embeddings_index))"
      ],
      "execution_count": null,
      "outputs": [
        {
          "output_type": "stream",
          "text": [
            "88582\n",
            "400000\n"
          ],
          "name": "stdout"
        }
      ]
    },
    {
      "cell_type": "markdown",
      "metadata": {
        "id": "bKCQOZ4PtSgp",
        "colab_type": "text"
      },
      "source": [
        "word_index.items() :\n",
        "\n",
        "dict_items([('the', 1), ('and', 2), ('a', 3), ('of', 4), ('to', 5), ('is', 6), ('br', 7), ('in', 8), ('it', 9), ('i', 10), ('this', 11), ('that', 12),"
      ]
    },
    {
      "cell_type": "code",
      "metadata": {
        "id": "dCs1FFYuP6aK",
        "colab_type": "code",
        "colab": {}
      },
      "source": [
        "for word, i in word_index.items():\n",
        "    if i > MAX_NUM_WORDS: # chi thuc hien get embedding word < max_num_words(20000)\n",
        "        continue\n",
        "    embedding_vector = embeddings_index.get(word) #lay 100d embedding cho tung tu\n",
        "    if embedding_vector is not None:\n",
        "        # words not found in embedding index will be all-zeros.\n",
        "        embedding_matrix[i] = embedding_vector"
      ],
      "execution_count": null,
      "outputs": []
    },
    {
      "cell_type": "code",
      "metadata": {
        "id": "HKywzkOqZpF0",
        "colab_type": "code",
        "colab": {
          "base_uri": "https://localhost:8080/",
          "height": 374
        },
        "outputId": "ca6c26dd-c4f7-414d-bc6c-d21b6f19d94b"
      },
      "source": [
        "print(embedding_matrix.shape)\n",
        "embedding_matrix[1]"
      ],
      "execution_count": null,
      "outputs": [
        {
          "output_type": "stream",
          "text": [
            "(20001, 100)\n"
          ],
          "name": "stdout"
        },
        {
          "output_type": "execute_result",
          "data": {
            "text/plain": [
              "array([-0.038194  , -0.24487001,  0.72812003, -0.39961001,  0.083172  ,\n",
              "        0.043953  , -0.39140999,  0.3344    , -0.57545   ,  0.087459  ,\n",
              "        0.28786999, -0.06731   ,  0.30906001, -0.26383999, -0.13231   ,\n",
              "       -0.20757   ,  0.33395001, -0.33848   , -0.31742999, -0.48335999,\n",
              "        0.1464    , -0.37303999,  0.34577   ,  0.052041  ,  0.44946   ,\n",
              "       -0.46970999,  0.02628   , -0.54154998, -0.15518001, -0.14106999,\n",
              "       -0.039722  ,  0.28277001,  0.14393   ,  0.23464   , -0.31020999,\n",
              "        0.086173  ,  0.20397   ,  0.52623999,  0.17163999, -0.082378  ,\n",
              "       -0.71787   , -0.41531   ,  0.20334999, -0.12763   ,  0.41367   ,\n",
              "        0.55186999,  0.57907999, -0.33476999, -0.36559001, -0.54856998,\n",
              "       -0.062892  ,  0.26583999,  0.30204999,  0.99774998, -0.80480999,\n",
              "       -3.0243001 ,  0.01254   , -0.36941999,  2.21670008,  0.72201002,\n",
              "       -0.24978   ,  0.92136002,  0.034514  ,  0.46744999,  1.10790002,\n",
              "       -0.19358   , -0.074575  ,  0.23353   , -0.052062  , -0.22044   ,\n",
              "        0.057162  , -0.15806   , -0.30798   , -0.41624999,  0.37972   ,\n",
              "        0.15006   , -0.53211999, -0.20550001, -1.25259995,  0.071624  ,\n",
              "        0.70564997,  0.49744001, -0.42063001,  0.26148   , -1.53799999,\n",
              "       -0.30223   , -0.073438  , -0.28312001,  0.37103999, -0.25217   ,\n",
              "        0.016215  , -0.017099  , -0.38984001,  0.87423998, -0.72569001,\n",
              "       -0.51058   , -0.52028   , -0.1459    ,  0.82779998,  0.27061999])"
            ]
          },
          "metadata": {
            "tags": []
          },
          "execution_count": 76
        }
      ]
    },
    {
      "cell_type": "markdown",
      "metadata": {
        "id": "vh_jlne_QFsh",
        "colab_type": "text"
      },
      "source": [
        "Step 4: Now, we’re ready to train DL models for text classification! DL architectures\n",
        "consist of an input layer, an output layer, and several hidden layers in between the\n",
        "two. Depending on the architecture, different hidden layers are used. The input layer\n",
        "for textual input is typically an embedding layer. The output layer, especially in the\n",
        "context of text classification, is a softmax layer with categorical output. If we want\n",
        "to train the input layer instead of using pre-trained embeddings, the easiest way is to\n",
        "call the Embedding layer class in Keras, specifying the input and output\n",
        "dimensions. However, since we want to use pre-trained embeddings, we should create a custom embedding layer that uses the embedding matrix we just built. The\n",
        "following code snippet shows how to do that:"
      ]
    },
    {
      "cell_type": "code",
      "metadata": {
        "id": "WUHqg2vvb5_l",
        "colab_type": "code",
        "colab": {
          "base_uri": "https://localhost:8080/",
          "height": 34
        },
        "outputId": "bd6a5e60-f080-41df-fd04-e7f198de80d2"
      },
      "source": [
        "# load these pre-trained word embeddings into an Embedding layer\n",
        "# note that we set trainable = False so as to keep the embeddings fixed\n",
        "embedding_layer = Embedding(input_dim=num_words,#20001\n",
        "                            output_dim=EMBEDDING_DIM, #100\n",
        "                            embeddings_initializer=Constant(embedding_matrix), #(20001, 100)\n",
        "                            input_length=MAX_SEQUENCE_LENGTH, #1000\n",
        "                            trainable=False)\n",
        "print(\"Preparing of embedding matrix is done\")"
      ],
      "execution_count": null,
      "outputs": [
        {
          "output_type": "stream",
          "text": [
            "Preparing of embedding matrix is done\n"
          ],
          "name": "stdout"
        }
      ]
    },
    {
      "cell_type": "markdown",
      "metadata": {
        "id": "hKOiSV4KP4wh",
        "colab_type": "text"
      },
      "source": [
        "tf.keras.layers.Embedding(\n",
        "\n",
        "    input_dim: integer. Size of the vocabulary, i.e. maximum integer index + 1.\n",
        "    output_dim:  Integer. Dimension of the dense embedding.\n",
        "    embeddings_initializer=\"uniform\": Initializer for the embeddings matrix\n",
        "    embeddings_regularizer=None:Regularizer function applied to the embeddings matrix \n",
        "    activity_regularizer=None:\n",
        "    embeddings_constraint=None:\n",
        "    mask_zero=False:\n",
        "    input_length=None:Length of input sequences, when it is constant. This argument is required if you are \n",
        "    going to connectFlatten then Dense layers upstream (without it, the shape of the dense outputs cannot be computed).\n",
        "    **kwargs\n",
        ")"
      ]
    },
    {
      "cell_type": "markdown",
      "metadata": {
        "id": "X_yYdtH0QJ2M",
        "colab_type": "text"
      },
      "source": [
        "This will serve as the input layer for any neural network we want to use (CNN or\n",
        "LSTM). Now that we know how to pre-process the input and define an input layer,\n",
        "let’s move on to specifying the rest of the neural network architecture using CNNs\n",
        "and LSTMs."
      ]
    },
    {
      "cell_type": "markdown",
      "metadata": {
        "id": "ULnIdFP2OXNm",
        "colab_type": "text"
      },
      "source": [
        "# Build model"
      ]
    },
    {
      "cell_type": "markdown",
      "metadata": {
        "id": "vEastnX8gdxR",
        "colab_type": "text"
      },
      "source": [
        "### 1D CNN Model with pre-trained embedding"
      ]
    },
    {
      "cell_type": "markdown",
      "metadata": {
        "id": "r5f-7IIYQNpA",
        "colab_type": "text"
      },
      "source": [
        "Let’s now look at how to define, train, and evaluate a CNN model for text\n",
        "classification. CNNs typically consist of a series of convolution and pooling layers\n",
        "as the hidden layers. In the context of text classification, CNNs can be thought of as\n",
        "learning the most useful bag-of-words/n-grams features instead of taking the entire\n",
        "collection of words/n-grams as features, as we did earlier in this chapter. Since our\n",
        "dataset has only two classes—positive and negative—the output layer has two\n",
        "outputs, with the softmax activation function. We’ll define a CNN with three\n",
        "convolution-pooling layers using the Sequential model class in Keras, which\n",
        "allows us to specify DL models as a sequential stack of layers—one after another.\n",
        "Once the layers and their activation functions are specified, the next task is to define\n",
        "other important parameters, such as the optimizer, loss function, and the evaluation\n",
        "metric to tune the hyperparameters of the model. Once all this is done, the next step\n",
        "is to train and evaluate the model. The following code snippet shows one way of\n",
        "specifying a CNN architecture for this task using the Python library Keras and prints\n",
        "the results with the IMDB dataset for this model:"
      ]
    },
    {
      "cell_type": "code",
      "metadata": {
        "id": "DwakuEm4VMgg",
        "colab_type": "code",
        "colab": {
          "base_uri": "https://localhost:8080/",
          "height": 34
        },
        "outputId": "daff4526-4076-4d64-97e9-b947829ee20d"
      },
      "source": [
        "# load these pre-trained word embeddings into an Embedding layer\n",
        "# note that we set trainable = False so as to keep the embeddings fixed\n",
        "embedding_layer = Embedding(input_dim=num_words,#20001\n",
        "                            output_dim=EMBEDDING_DIM, #100\n",
        "                            embeddings_initializer=Constant(embedding_matrix), #(20001, 100)\n",
        "                            input_length=MAX_SEQUENCE_LENGTH, #1000\n",
        "                            trainable=False)\n",
        "print(\"Preparing of embedding matrix is done\")"
      ],
      "execution_count": null,
      "outputs": [
        {
          "output_type": "stream",
          "text": [
            "Preparing of embedding matrix is done\n"
          ],
          "name": "stdout"
        }
      ]
    },
    {
      "cell_type": "code",
      "metadata": {
        "id": "TTiDQwt2RlJ9",
        "colab_type": "code",
        "colab": {
          "base_uri": "https://localhost:8080/",
          "height": 476
        },
        "outputId": "f47d5b22-26aa-4fa3-9f41-63f4e617c9ad"
      },
      "source": [
        "print('Define a 1D CNN model.')\n",
        "\n",
        "cnnmodel = Sequential()\n",
        "cnnmodel.add(embedding_layer)\n",
        "cnnmodel.add(Conv1D(filters=128, kernel_size=5, activation='relu'))\n",
        "cnnmodel.add(MaxPooling1D(5))\n",
        "cnnmodel.add(Conv1D(128, 5, activation='relu'))\n",
        "cnnmodel.add(MaxPooling1D(5))\n",
        "cnnmodel.add(Conv1D(128, 5, activation='relu'))\n",
        "cnnmodel.add(GlobalMaxPooling1D())\n",
        "cnnmodel.add(Dense(128, activation='relu'))\n",
        "cnnmodel.add(Dense(len(labels_index), activation='softmax'))\n",
        "\n",
        "cnnmodel.compile(loss='categorical_crossentropy',\n",
        "              optimizer='rmsprop',\n",
        "              metrics=['acc'])\n",
        "cnnmodel.summary()"
      ],
      "execution_count": null,
      "outputs": [
        {
          "output_type": "stream",
          "text": [
            "Define a 1D CNN model.\n",
            "Model: \"sequential_2\"\n",
            "_________________________________________________________________\n",
            "Layer (type)                 Output Shape              Param #   \n",
            "=================================================================\n",
            "embedding_2 (Embedding)      (None, 1000, 100)         2000100   \n",
            "_________________________________________________________________\n",
            "conv1d_1 (Conv1D)            (None, 996, 128)          64128     \n",
            "_________________________________________________________________\n",
            "max_pooling1d_1 (MaxPooling1 (None, 199, 128)          0         \n",
            "_________________________________________________________________\n",
            "conv1d_2 (Conv1D)            (None, 195, 128)          82048     \n",
            "_________________________________________________________________\n",
            "max_pooling1d_2 (MaxPooling1 (None, 39, 128)           0         \n",
            "_________________________________________________________________\n",
            "conv1d_3 (Conv1D)            (None, 35, 128)           82048     \n",
            "_________________________________________________________________\n",
            "global_max_pooling1d_1 (Glob (None, 128)               0         \n",
            "_________________________________________________________________\n",
            "dense_1 (Dense)              (None, 128)               16512     \n",
            "_________________________________________________________________\n",
            "dense_2 (Dense)              (None, 2)                 258       \n",
            "=================================================================\n",
            "Total params: 2,245,094\n",
            "Trainable params: 244,994\n",
            "Non-trainable params: 2,000,100\n",
            "_________________________________________________________________\n"
          ],
          "name": "stdout"
        }
      ]
    },
    {
      "cell_type": "code",
      "metadata": {
        "id": "oVPTrTmrkLLq",
        "colab_type": "code",
        "colab": {
          "base_uri": "https://localhost:8080/",
          "height": 1000
        },
        "outputId": "573aae51-37fe-4a5e-90e7-530190d9ccb7"
      },
      "source": [
        "from keras.utils.vis_utils import plot_model\n",
        "plot_model(cnnmodel, to_file='model_plot.png', show_shapes=True, show_layer_names=True)"
      ],
      "execution_count": null,
      "outputs": [
        {
          "output_type": "execute_result",
          "data": {
            "image/png": "[encoded data removed]",
            "text/plain": [
              "<IPython.core.display.Image object>"
            ]
          },
          "metadata": {
            "tags": []
          },
          "execution_count": 80
        }
      ]
    },
    {
      "cell_type": "code",
      "metadata": {
        "id": "TTY-4K-Ob5_t",
        "colab_type": "code",
        "colab": {
          "base_uri": "https://localhost:8080/",
          "height": 102
        },
        "outputId": "71f90592-5c4e-4581-958b-618d4f35b241"
      },
      "source": [
        "#Train the model. Tune to validation set. \n",
        "cnnmodel.fit(x_train, y_train,\n",
        "          batch_size=128,\n",
        "          epochs=1, validation_data=(x_val, y_val))\n",
        "#Evaluate on test set:\n",
        "score, acc = cnnmodel.evaluate(test_data, test_labels)\n",
        "print('Test accuracy with CNN:', acc)"
      ],
      "execution_count": null,
      "outputs": [
        {
          "output_type": "stream",
          "text": [
            "Train on 20000 samples, validate on 5000 samples\n",
            "Epoch 1/1\n",
            "20000/20000 [==============================] - 200s 10ms/step - loss: 0.6735 - acc: 0.6008 - val_loss: 0.5377 - val_acc: 0.7384\n",
            "25000/25000 [==============================] - 86s 3ms/step\n",
            "Test accuracy with CNN: 0.7266799807548523\n"
          ],
          "name": "stdout"
        }
      ]
    },
    {
      "cell_type": "markdown",
      "metadata": {
        "id": "VdDj2FJzgi_W",
        "colab_type": "text"
      },
      "source": [
        "### 1D CNN model with training your own embedding"
      ]
    },
    {
      "cell_type": "code",
      "metadata": {
        "id": "KeDkpcwcLRCx",
        "colab_type": "code",
        "colab": {
          "base_uri": "https://localhost:8080/",
          "height": 476
        },
        "outputId": "b2aecc00-6fc2-4db1-826b-d7dade143dfe"
      },
      "source": [
        "print(\"Defining and training a CNN model, training embedding layer on the fly instead of using pre-trained embeddings\")\n",
        "cnnmodel = Sequential()\n",
        "cnnmodel.add(Embedding(MAX_NUM_WORDS, 128))\n",
        "cnnmodel.add(Conv1D(128, 5, activation='relu'))\n",
        "cnnmodel.add(MaxPooling1D(5))\n",
        "cnnmodel.add(Conv1D(128, 5, activation='relu'))\n",
        "cnnmodel.add(MaxPooling1D(5))\n",
        "cnnmodel.add(Conv1D(128, 5, activation='relu'))\n",
        "cnnmodel.add(GlobalMaxPooling1D())\n",
        "cnnmodel.add(Dense(128, activation='relu'))\n",
        "cnnmodel.add(Dense(len(labels_index), activation='softmax'))\n",
        "\n",
        "cnnmodel.compile(loss='categorical_crossentropy',\n",
        "              optimizer='rmsprop',\n",
        "              metrics=['acc'])\n",
        "cnnmodel.summary()"
      ],
      "execution_count": null,
      "outputs": [
        {
          "output_type": "stream",
          "text": [
            "Defining and training a CNN model, training embedding layer on the fly instead of using pre-trained embeddings\n",
            "Model: \"sequential_3\"\n",
            "_________________________________________________________________\n",
            "Layer (type)                 Output Shape              Param #   \n",
            "=================================================================\n",
            "embedding_3 (Embedding)      (None, None, 128)         2560000   \n",
            "_________________________________________________________________\n",
            "conv1d_4 (Conv1D)            (None, None, 128)         82048     \n",
            "_________________________________________________________________\n",
            "max_pooling1d_3 (MaxPooling1 (None, None, 128)         0         \n",
            "_________________________________________________________________\n",
            "conv1d_5 (Conv1D)            (None, None, 128)         82048     \n",
            "_________________________________________________________________\n",
            "max_pooling1d_4 (MaxPooling1 (None, None, 128)         0         \n",
            "_________________________________________________________________\n",
            "conv1d_6 (Conv1D)            (None, None, 128)         82048     \n",
            "_________________________________________________________________\n",
            "global_max_pooling1d_2 (Glob (None, 128)               0         \n",
            "_________________________________________________________________\n",
            "dense_3 (Dense)              (None, 128)               16512     \n",
            "_________________________________________________________________\n",
            "dense_4 (Dense)              (None, 2)                 258       \n",
            "=================================================================\n",
            "Total params: 2,822,914\n",
            "Trainable params: 2,822,914\n",
            "Non-trainable params: 0\n",
            "_________________________________________________________________\n"
          ],
          "name": "stdout"
        }
      ]
    },
    {
      "cell_type": "code",
      "metadata": {
        "id": "Kfy0N3CcnKDP",
        "colab_type": "code",
        "colab": {
          "base_uri": "https://localhost:8080/",
          "height": 1000
        },
        "outputId": "db14182f-a80f-4198-b1ae-8c0692a7922d"
      },
      "source": [
        "plot_model(cnnmodel, to_file='model_plot.png', show_shapes=True, show_layer_names=True)"
      ],
      "execution_count": null,
      "outputs": [
        {
          "output_type": "execute_result",
          "data": {
            "image/png": "[encoded data removed]",
            "text/plain": [
              "<IPython.core.display.Image object>"
            ]
          },
          "metadata": {
            "tags": []
          },
          "execution_count": 82
        }
      ]
    },
    {
      "cell_type": "code",
      "metadata": {
        "id": "zI0bISwRb5_w",
        "colab_type": "code",
        "colab": {
          "base_uri": "https://localhost:8080/",
          "height": 173
        },
        "outputId": "bbad8f95-9e35-4482-9aab-9bb566f43cfb"
      },
      "source": [
        "\n",
        "#Train the model. Tune to validation set. \n",
        "cnnmodel.fit(x_train, y_train,\n",
        "          batch_size=128,\n",
        "          epochs=1, validation_data=(x_val, y_val))\n",
        "#Evaluate on test set:\n",
        "score, acc = cnnmodel.evaluate(test_data, test_labels)\n",
        "print('Test accuracy with CNN:', acc)"
      ],
      "execution_count": null,
      "outputs": [
        {
          "output_type": "stream",
          "text": [
            "Defining and training a CNN model, training embedding layer on the fly instead of using pre-trained embeddings\n"
          ],
          "name": "stdout"
        },
        {
          "output_type": "stream",
          "text": [
            "/usr/local/lib/python3.6/dist-packages/tensorflow/python/framework/indexed_slices.py:434: UserWarning: Converting sparse IndexedSlices to a dense Tensor of unknown shape. This may consume a large amount of memory.\n",
            "  \"Converting sparse IndexedSlices to a dense Tensor of unknown shape. \"\n"
          ],
          "name": "stderr"
        },
        {
          "output_type": "stream",
          "text": [
            "Train on 20000 samples, validate on 5000 samples\n",
            "Epoch 1/1\n",
            "20000/20000 [==============================] - 300s 15ms/step - loss: 0.5156 - acc: 0.7194 - val_loss: 0.3852 - val_acc: 0.8258\n",
            "25000/25000 [==============================] - 102s 4ms/step\n",
            "Test accuracy with CNN: 0.815559983253479\n"
          ],
          "name": "stdout"
        }
      ]
    },
    {
      "cell_type": "markdown",
      "metadata": {
        "id": "6GwhXpmSgt4H",
        "colab_type": "text"
      },
      "source": [
        "### LSTM Model with training your own embedding "
      ]
    },
    {
      "cell_type": "code",
      "metadata": {
        "id": "KFuHU7qRLUZP",
        "colab_type": "code",
        "colab": {
          "base_uri": "https://localhost:8080/",
          "height": 272
        },
        "outputId": "9746f69a-8508-4811-95e9-dc3157f9cfe5"
      },
      "source": [
        "print(\"Defining and training an LSTM model, training embedding layer on the fly\")\n",
        "\n",
        "#model\n",
        "rnnmodel = Sequential()\n",
        "rnnmodel.add(Embedding(MAX_NUM_WORDS, 128))\n",
        "rnnmodel.add(LSTM(128, dropout=0.2, recurrent_dropout=0.2))\n",
        "rnnmodel.add(Dense(2, activation='sigmoid'))\n",
        "rnnmodel.compile(loss='binary_crossentropy',\n",
        "              optimizer='adam',\n",
        "              metrics=['accuracy'])\n",
        "rnnmodel.summary()"
      ],
      "execution_count": null,
      "outputs": [
        {
          "output_type": "stream",
          "text": [
            "Defining and training an LSTM model, training embedding layer on the fly\n",
            "Model: \"sequential_4\"\n",
            "_________________________________________________________________\n",
            "Layer (type)                 Output Shape              Param #   \n",
            "=================================================================\n",
            "embedding_4 (Embedding)      (None, None, 128)         2560000   \n",
            "_________________________________________________________________\n",
            "lstm_1 (LSTM)                (None, 128)               131584    \n",
            "_________________________________________________________________\n",
            "dense_5 (Dense)              (None, 2)                 258       \n",
            "=================================================================\n",
            "Total params: 2,691,842\n",
            "Trainable params: 2,691,842\n",
            "Non-trainable params: 0\n",
            "_________________________________________________________________\n"
          ],
          "name": "stdout"
        }
      ]
    },
    {
      "cell_type": "code",
      "metadata": {
        "id": "O9woyBhDnO9I",
        "colab_type": "code",
        "colab": {
          "base_uri": "https://localhost:8080/",
          "height": 422
        },
        "outputId": "772e5cff-b7ca-43dc-ce05-4cf1ad87992f"
      },
      "source": [
        "plot_model(rnnmodel, to_file='model_plot.png', show_shapes=True, show_layer_names=True)"
      ],
      "execution_count": null,
      "outputs": [
        {
          "output_type": "execute_result",
          "data": {
            "image/png": "[encoded data removed]",
            "text/plain": [
              "<IPython.core.display.Image object>"
            ]
          },
          "metadata": {
            "tags": []
          },
          "execution_count": 84
        }
      ]
    },
    {
      "cell_type": "code",
      "metadata": {
        "id": "SvBt2Brib5_4",
        "colab_type": "code",
        "colab": {
          "base_uri": "https://localhost:8080/",
          "height": 190
        },
        "outputId": "2b487160-5f95-4fc2-8d0e-17d038f47864"
      },
      "source": [
        "\n",
        "print('Training the RNN')\n",
        "\n",
        "rnnmodel.fit(x_train, y_train,\n",
        "          batch_size=32,\n",
        "          epochs=1,\n",
        "          validation_data=(x_val, y_val))\n",
        "score, acc = rnnmodel.evaluate(test_data, test_labels,\n",
        "                            batch_size=32)\n",
        "print('Test accuracy with RNN:', acc)"
      ],
      "execution_count": null,
      "outputs": [
        {
          "output_type": "stream",
          "text": [
            "Defining and training an LSTM model, training embedding layer on the fly\n",
            "Training the RNN\n"
          ],
          "name": "stdout"
        },
        {
          "output_type": "stream",
          "text": [
            "/usr/local/lib/python3.6/dist-packages/tensorflow/python/framework/indexed_slices.py:434: UserWarning: Converting sparse IndexedSlices to a dense Tensor of unknown shape. This may consume a large amount of memory.\n",
            "  \"Converting sparse IndexedSlices to a dense Tensor of unknown shape. \"\n"
          ],
          "name": "stderr"
        },
        {
          "output_type": "stream",
          "text": [
            "Train on 20000 samples, validate on 5000 samples\n",
            "Epoch 1/1\n",
            "20000/20000 [==============================] - 1013s 51ms/step - loss: 0.4960 - accuracy: 0.7628 - val_loss: 0.4879 - val_accuracy: 0.7682\n",
            "25000/25000 [==============================] - 230s 9ms/step\n",
            "Test accuracy with RNN: 0.7614399790763855\n"
          ],
          "name": "stdout"
        }
      ]
    },
    {
      "cell_type": "markdown",
      "metadata": {
        "id": "tJYzsZFSg9z-",
        "colab_type": "text"
      },
      "source": [
        "### LSTM Model using pre-trained Embedding Layer"
      ]
    },
    {
      "cell_type": "code",
      "metadata": {
        "id": "Eymx0IyCb5_-",
        "colab_type": "code",
        "colab": {
          "base_uri": "https://localhost:8080/",
          "height": 136
        },
        "outputId": "a78e0396-b696-4b8f-9872-8393c052cfed"
      },
      "source": [
        "print(\"Defining and training an LSTM model, using pre-trained embedding layer\")\n",
        "\n",
        "rnnmodel2 = Sequential()\n",
        "rnnmodel2.add(embedding_layer)\n",
        "rnnmodel2.add(LSTM(128, dropout=0.2, recurrent_dropout=0.2))\n",
        "rnnmodel2.add(Dense(2, activation='sigmoid'))\n",
        "rnnmodel2.compile(loss='binary_crossentropy',\n",
        "              optimizer='adam',\n",
        "              metrics=['accuracy'])\n",
        "print('Training the RNN')\n",
        "\n",
        "rnnmodel2.fit(x_train, y_train,\n",
        "          batch_size=32,\n",
        "          epochs=1,\n",
        "          validation_data=(x_val, y_val))\n",
        "score, acc = rnnmodel2.evaluate(test_data, test_labels,\n",
        "                            batch_size=32)\n",
        "print('Test accuracy with RNN:', acc)"
      ],
      "execution_count": null,
      "outputs": [
        {
          "output_type": "stream",
          "text": [
            "Defining and training an LSTM model, using pre-trained embedding layer\n",
            "Training the RNN\n",
            "Train on 20000 samples, validate on 5000 samples\n",
            "Epoch 1/1\n",
            "20000/20000 [==============================] - 787s 39ms/step - loss: 0.6084 - accuracy: 0.6618 - val_loss: 0.4535 - val_accuracy: 0.8057\n",
            "25000/25000 [==============================] - 267s 11ms/step\n",
            "Test accuracy with RNN: 0.7980599999427795\n"
          ],
          "name": "stdout"
        }
      ]
    },
    {
      "cell_type": "markdown",
      "metadata": {
        "id": "WCCQUI1OMqCH",
        "colab_type": "text"
      },
      "source": [
        "# Explain word embedding layer\n",
        "https://machinelearningmastery.com/use-word-embedding-layers-deep-learning-keras/"
      ]
    },
    {
      "cell_type": "markdown",
      "metadata": {
        "id": "JRci8BH_gjO_",
        "colab_type": "text"
      },
      "source": [
        "## Example of Learning an Embedding"
      ]
    },
    {
      "cell_type": "code",
      "metadata": {
        "id": "lE1hlyo4Mrpq",
        "colab_type": "code",
        "colab": {}
      },
      "source": [
        "# load these pre-trained word embeddings into an Embedding layer\n",
        "# note that we set trainable = False so as to keep the embeddings fixed\n",
        "embedding_layer = Embedding(input_dim=num_words,#20001 , data encode interger 0-20001 (word index)\n",
        "                            output_dim=EMBEDDING_DIM, #100\n",
        "                            embeddings_initializer=Constant(embedding_matrix), #(20001, 100)\n",
        "                            input_length=MAX_SEQUENCE_LENGTH, #1000\n",
        "                            trainable=False)"
      ],
      "execution_count": null,
      "outputs": []
    },
    {
      "cell_type": "markdown",
      "metadata": {
        "id": "28UsRM5zaaJP",
        "colab_type": "text"
      },
      "source": [
        "- input_dim: This is the size of the vocabulary in the text data. For example, if your data is integer encoded to values between 0-10, then the size of the vocabulary would be 11 words.\n",
        "- output_dim: This is the size of the vector space in which words will be embedded. It defines the size of the output vectors from this layer for each word. For example, it could be 32 or 100 or even larger. Test different values for your problem.\n",
        "- input_length: This is the length of input sequences, as you would define for any input layer of a Keras model. For example, if all of your input documents are comprised of 1000 words, this would be 1000."
      ]
    },
    {
      "cell_type": "code",
      "metadata": {
        "id": "vdHw3kzIfMEz",
        "colab_type": "code",
        "colab": {
          "base_uri": "https://localhost:8080/",
          "height": 34
        },
        "outputId": "2f0081ff-f6cb-44c4-b51d-d195d4219553"
      },
      "source": [
        "from numpy import array\n",
        "from keras.preprocessing.text import one_hot\n",
        "from keras.preprocessing.sequence import pad_sequences\n",
        "from keras.models import Sequential\n",
        "from keras.layers import Dense\n",
        "from keras.layers import Flatten\n",
        "from keras.layers.embeddings import Embedding"
      ],
      "execution_count": 2,
      "outputs": [
        {
          "output_type": "stream",
          "text": [
            "Using TensorFlow backend.\n"
          ],
          "name": "stderr"
        }
      ]
    },
    {
      "cell_type": "code",
      "metadata": {
        "id": "dug1cMbEadWi",
        "colab_type": "code",
        "colab": {}
      },
      "source": [
        "# define documents\n",
        "docs = ['Well done!',\n",
        "\t\t'Good work',\n",
        "\t\t'Great effort',\n",
        "\t\t'nice work',\n",
        "\t\t'Excellent!',\n",
        "\t\t'Weak',\n",
        "\t\t'Poor effort!',\n",
        "\t\t'not good',\n",
        "\t\t'poor work',\n",
        "\t\t'Could have done better.']\n",
        "# define class labels\n",
        "labels = array([1,1,1,1,1,0,0,0,0,0])"
      ],
      "execution_count": 3,
      "outputs": []
    },
    {
      "cell_type": "markdown",
      "metadata": {
        "id": "LKf3hNf-fhY5",
        "colab_type": "text"
      },
      "source": [
        "Next, we can integer encode each document. This means that as input the Embedding layer will have sequences of integers. We could experiment with other more sophisticated bag of word model encoding like counts or TF-IDF.\n",
        "\n",
        "Keras provides the one_hot() function that creates a hash of each word as an efficient integer encoding. We will estimate the vocabulary size of 50, which is much larger than needed to reduce the probability of collisions from the hash function."
      ]
    },
    {
      "cell_type": "code",
      "metadata": {
        "id": "Sl06YJ4TfHfZ",
        "colab_type": "code",
        "colab": {
          "base_uri": "https://localhost:8080/",
          "height": 54
        },
        "outputId": "6f73012b-1085-48d9-bae7-a39da7bb864e"
      },
      "source": [
        "# integer encode the documents\n",
        "vocab_size = 50\n",
        "encoded_docs = [one_hot(d, vocab_size) for d in docs]\n",
        "print(encoded_docs)"
      ],
      "execution_count": 4,
      "outputs": [
        {
          "output_type": "stream",
          "text": [
            "[[15, 35], [41, 44], [12, 31], [18, 44], [1], [5], [44, 31], [43, 41], [44, 44], [20, 6, 35, 5]]\n"
          ],
          "name": "stdout"
        }
      ]
    },
    {
      "cell_type": "markdown",
      "metadata": {
        "id": "g_eEzRFKfiwY",
        "colab_type": "text"
      },
      "source": [
        "The sequences have different lengths and Keras prefers inputs to be vectorized and all inputs to have the same length. We will pad all input sequences to have the length of 4. Again, we can do this with a built in Keras function, in this case the pad_sequences() function."
      ]
    },
    {
      "cell_type": "code",
      "metadata": {
        "id": "-x0zex2ifXXG",
        "colab_type": "code",
        "colab": {
          "base_uri": "https://localhost:8080/",
          "height": 187
        },
        "outputId": "326364ba-3265-4935-e1be-cd3f3dafe97c"
      },
      "source": [
        "# pad documents to a max length of 4 words\n",
        "max_length = 4\n",
        "padded_docs = pad_sequences(encoded_docs, maxlen=max_length, padding='post')\n",
        "print(padded_docs)"
      ],
      "execution_count": 5,
      "outputs": [
        {
          "output_type": "stream",
          "text": [
            "[[15 35  0  0]\n",
            " [41 44  0  0]\n",
            " [12 31  0  0]\n",
            " [18 44  0  0]\n",
            " [ 1  0  0  0]\n",
            " [ 5  0  0  0]\n",
            " [44 31  0  0]\n",
            " [43 41  0  0]\n",
            " [44 44  0  0]\n",
            " [20  6 35  5]]\n"
          ],
          "name": "stdout"
        }
      ]
    },
    {
      "cell_type": "markdown",
      "metadata": {
        "id": "ALf3ymdOf446",
        "colab_type": "text"
      },
      "source": [
        "We are now ready to define our Embedding layer as part of our neural network model.\n",
        "\n",
        "The Embedding has a vocabulary of 50 and an input length of 4. We will choose a small embedding space of 8 dimensions.\n",
        "\n",
        "The model is a simple binary classification model. Importantly, the output from the Embedding layer will be 4 vectors of 8 dimensions each, one for each word. We flatten this to a one 32-element vector to pass on to the Dense output layer."
      ]
    },
    {
      "cell_type": "code",
      "metadata": {
        "id": "eytoyA5Bfkqx",
        "colab_type": "code",
        "colab": {
          "base_uri": "https://localhost:8080/",
          "height": 272
        },
        "outputId": "1b42c0e8-faee-4235-8ed0-261573047f3b"
      },
      "source": [
        "# define the model\n",
        "#max_length = 4 words(padding)\n",
        "#vocab_size = 50\n",
        "model = Sequential()\n",
        "model.add(Embedding(input_dim=vocab_size, output_dim=8, input_length=max_length))\n",
        "# output: 4 vectors of 8 dimensions each.\n",
        "model.add(Flatten())\n",
        "model.add(Dense(1, activation='sigmoid'))\n",
        "# compile the model\n",
        "model.compile(optimizer='adam', loss='binary_crossentropy', metrics=['accuracy'])\n",
        "# summarize the model\n",
        "print(model.summary())"
      ],
      "execution_count": 11,
      "outputs": [
        {
          "output_type": "stream",
          "text": [
            "Model: \"sequential_3\"\n",
            "_________________________________________________________________\n",
            "Layer (type)                 Output Shape              Param #   \n",
            "=================================================================\n",
            "embedding_3 (Embedding)      (None, 4, 8)              400       \n",
            "_________________________________________________________________\n",
            "flatten_3 (Flatten)          (None, 32)                0         \n",
            "_________________________________________________________________\n",
            "dense_3 (Dense)              (None, 1)                 33        \n",
            "=================================================================\n",
            "Total params: 433\n",
            "Trainable params: 433\n",
            "Non-trainable params: 0\n",
            "_________________________________________________________________\n",
            "None\n"
          ],
          "name": "stdout"
        }
      ]
    },
    {
      "cell_type": "code",
      "metadata": {
        "id": "Quv0GvlZgQ1X",
        "colab_type": "code",
        "colab": {
          "base_uri": "https://localhost:8080/",
          "height": 187
        },
        "outputId": "98c6e8ea-d46c-4241-a124-841eb0aa2f99"
      },
      "source": [
        "padded_docs"
      ],
      "execution_count": 7,
      "outputs": [
        {
          "output_type": "execute_result",
          "data": {
            "text/plain": [
              "array([[15, 35,  0,  0],\n",
              "       [41, 44,  0,  0],\n",
              "       [12, 31,  0,  0],\n",
              "       [18, 44,  0,  0],\n",
              "       [ 1,  0,  0,  0],\n",
              "       [ 5,  0,  0,  0],\n",
              "       [44, 31,  0,  0],\n",
              "       [43, 41,  0,  0],\n",
              "       [44, 44,  0,  0],\n",
              "       [20,  6, 35,  5]], dtype=int32)"
            ]
          },
          "metadata": {
            "tags": []
          },
          "execution_count": 7
        }
      ]
    },
    {
      "cell_type": "code",
      "metadata": {
        "id": "LfwsCTsfgSPN",
        "colab_type": "code",
        "colab": {
          "base_uri": "https://localhost:8080/",
          "height": 34
        },
        "outputId": "08d1b1d5-a71d-4ab3-f0e8-c9d98d6199cf"
      },
      "source": [
        "labels"
      ],
      "execution_count": 8,
      "outputs": [
        {
          "output_type": "execute_result",
          "data": {
            "text/plain": [
              "array([1, 1, 1, 1, 1, 0, 0, 0, 0, 0])"
            ]
          },
          "metadata": {
            "tags": []
          },
          "execution_count": 8
        }
      ]
    },
    {
      "cell_type": "code",
      "metadata": {
        "id": "TtAFWSYLf_fX",
        "colab_type": "code",
        "colab": {
          "base_uri": "https://localhost:8080/",
          "height": 88
        },
        "outputId": "7a4a35b1-f108-4c46-c57f-645e26b0606c"
      },
      "source": [
        "# fit the model\n",
        "model.fit(padded_docs, labels, epochs=50, verbose=0)\n",
        "# evaluate the model\n",
        "loss, accuracy = model.evaluate(padded_docs, labels, verbose=0)\n",
        "print('Accuracy: %f' % (accuracy*100))"
      ],
      "execution_count": 9,
      "outputs": [
        {
          "output_type": "stream",
          "text": [
            "/usr/local/lib/python3.6/dist-packages/tensorflow/python/framework/indexed_slices.py:434: UserWarning: Converting sparse IndexedSlices to a dense Tensor of unknown shape. This may consume a large amount of memory.\n",
            "  \"Converting sparse IndexedSlices to a dense Tensor of unknown shape. \"\n"
          ],
          "name": "stderr"
        },
        {
          "output_type": "stream",
          "text": [
            "Accuracy: 80.000001\n"
          ],
          "name": "stdout"
        }
      ]
    },
    {
      "cell_type": "code",
      "metadata": {
        "id": "9s6urIFlgS_y",
        "colab_type": "code",
        "colab": {
          "base_uri": "https://localhost:8080/",
          "height": 530
        },
        "outputId": "0e098a58-b25a-4e70-c886-704b929614fd"
      },
      "source": [
        "from numpy import array\n",
        "from keras.preprocessing.text import one_hot\n",
        "from keras.preprocessing.sequence import pad_sequences\n",
        "from keras.models import Sequential\n",
        "from keras.layers import Dense\n",
        "from keras.layers import Flatten\n",
        "from keras.layers.embeddings import Embedding\n",
        "# define documents\n",
        "docs = ['Well done!',\n",
        "\t\t'Good work',\n",
        "\t\t'Great effort',\n",
        "\t\t'nice work',\n",
        "\t\t'Excellent!',\n",
        "\t\t'Weak',\n",
        "\t\t'Poor effort!',\n",
        "\t\t'not good',\n",
        "\t\t'poor work',\n",
        "\t\t'Could have done better.']\n",
        "# define class labels\n",
        "labels = array([1,1,1,1,1,0,0,0,0,0])\n",
        "# integer encode the documents\n",
        "vocab_size = 50\n",
        "encoded_docs = [one_hot(d, vocab_size) for d in docs]\n",
        "print(encoded_docs)\n",
        "# pad documents to a max length of 4 words\n",
        "max_length = 4\n",
        "padded_docs = pad_sequences(encoded_docs, maxlen=max_length, padding='post')\n",
        "print(padded_docs)\n",
        "# define the model\n",
        "model = Sequential()\n",
        "model.add(Embedding(vocab_size, 8, input_length=max_length))\n",
        "model.add(Flatten())\n",
        "model.add(Dense(1, activation='sigmoid'))\n",
        "# compile the model\n",
        "model.compile(optimizer='adam', loss='binary_crossentropy', metrics=['accuracy'])\n",
        "# summarize the model\n",
        "print(model.summary())\n",
        "# fit the model\n",
        "model.fit(padded_docs, labels, epochs=50, verbose=0)\n",
        "# evaluate the model\n",
        "loss, accuracy = model.evaluate(padded_docs, labels, verbose=0)\n",
        "print('Accuracy: %f' % (accuracy*100))"
      ],
      "execution_count": 10,
      "outputs": [
        {
          "output_type": "stream",
          "text": [
            "[[15, 35], [41, 44], [12, 31], [18, 44], [1], [5], [44, 31], [43, 41], [44, 44], [20, 6, 35, 5]]\n",
            "[[15 35  0  0]\n",
            " [41 44  0  0]\n",
            " [12 31  0  0]\n",
            " [18 44  0  0]\n",
            " [ 1  0  0  0]\n",
            " [ 5  0  0  0]\n",
            " [44 31  0  0]\n",
            " [43 41  0  0]\n",
            " [44 44  0  0]\n",
            " [20  6 35  5]]\n",
            "Model: \"sequential_2\"\n",
            "_________________________________________________________________\n",
            "Layer (type)                 Output Shape              Param #   \n",
            "=================================================================\n",
            "embedding_2 (Embedding)      (None, 4, 8)              400       \n",
            "_________________________________________________________________\n",
            "flatten_2 (Flatten)          (None, 32)                0         \n",
            "_________________________________________________________________\n",
            "dense_2 (Dense)              (None, 1)                 33        \n",
            "=================================================================\n",
            "Total params: 433\n",
            "Trainable params: 433\n",
            "Non-trainable params: 0\n",
            "_________________________________________________________________\n",
            "None\n"
          ],
          "name": "stdout"
        },
        {
          "output_type": "stream",
          "text": [
            "/usr/local/lib/python3.6/dist-packages/tensorflow/python/framework/indexed_slices.py:434: UserWarning: Converting sparse IndexedSlices to a dense Tensor of unknown shape. This may consume a large amount of memory.\n",
            "  \"Converting sparse IndexedSlices to a dense Tensor of unknown shape. \"\n"
          ],
          "name": "stderr"
        },
        {
          "output_type": "stream",
          "text": [
            "Accuracy: 100.000000\n"
          ],
          "name": "stdout"
        }
      ]
    },
    {
      "cell_type": "markdown",
      "metadata": {
        "id": "okz3W9h_hlWF",
        "colab_type": "text"
      },
      "source": [
        "## Example of Using Pre-Trained GloVe Embedding"
      ]
    },
    {
      "cell_type": "code",
      "metadata": {
        "id": "4ItXq_EigazS",
        "colab_type": "code",
        "colab": {}
      },
      "source": [
        "from numpy import array\n",
        "from numpy import asarray\n",
        "from numpy import zeros\n",
        "from keras.preprocessing.text import Tokenizer\n",
        "from keras.preprocessing.sequence import pad_sequences\n",
        "from keras.models import Sequential\n",
        "from keras.layers import Dense\n",
        "from keras.layers import Flatten\n",
        "from keras.layers import Embedding"
      ],
      "execution_count": 22,
      "outputs": []
    },
    {
      "cell_type": "code",
      "metadata": {
        "id": "6jCHUIOIh4NX",
        "colab_type": "code",
        "colab": {
          "base_uri": "https://localhost:8080/",
          "height": 306
        },
        "outputId": "0621bb74-904e-400a-ad25-d6e93ab68b37"
      },
      "source": [
        "docs = ['Well done!',\n",
        "\t\t'Good work',\n",
        "\t\t'Great effort',\n",
        "\t\t'nice work',\n",
        "\t\t'Excellent!',\n",
        "\t\t'Weak',\n",
        "\t\t'Poor effort!',\n",
        "\t\t'not good',\n",
        "\t\t'poor work',\n",
        "\t\t'Could have done better.']\n",
        "# define class labels\n",
        "labels = array([1,1,1,1,1,0,0,0,0,0])\n",
        "# prepare tokenizer\n",
        "t = Tokenizer()\n",
        "t.fit_on_texts(docs)\n",
        "print('word_docs\\n',t.word_docs)\n",
        "print('word_index\\n',t.word_index)\n",
        "vocab_size = len(t.word_index) + 1\n",
        "# integer encode the documents\n",
        "encoded_docs = t.texts_to_sequences(docs)\n",
        "print('encoded_docs: \\n',encoded_docs)\n",
        "# pad documents to a max length of 4 words\n",
        "max_length = 4\n",
        "padded_docs = pad_sequences(encoded_docs, maxlen=max_length, padding='post')\n",
        "print('padded_docs \\n',padded_docs)"
      ],
      "execution_count": 23,
      "outputs": [
        {
          "output_type": "stream",
          "text": [
            "word_docs\n",
            " defaultdict(<class 'int'>, {'done': 2, 'well': 1, 'work': 3, 'good': 2, 'effort': 2, 'great': 1, 'nice': 1, 'excellent': 1, 'weak': 1, 'poor': 2, 'not': 1, 'could': 1, 'have': 1, 'better': 1})\n",
            "word_index\n",
            " {'work': 1, 'done': 2, 'good': 3, 'effort': 4, 'poor': 5, 'well': 6, 'great': 7, 'nice': 8, 'excellent': 9, 'weak': 10, 'not': 11, 'could': 12, 'have': 13, 'better': 14}\n",
            "encoded_docs: \n",
            " [[6, 2], [3, 1], [7, 4], [8, 1], [9], [10], [5, 4], [11, 3], [5, 1], [12, 13, 2, 14]]\n",
            "padded_docs \n",
            " [[ 6  2  0  0]\n",
            " [ 3  1  0  0]\n",
            " [ 7  4  0  0]\n",
            " [ 8  1  0  0]\n",
            " [ 9  0  0  0]\n",
            " [10  0  0  0]\n",
            " [ 5  4  0  0]\n",
            " [11  3  0  0]\n",
            " [ 5  1  0  0]\n",
            " [12 13  2 14]]\n"
          ],
          "name": "stdout"
        }
      ]
    },
    {
      "cell_type": "code",
      "metadata": {
        "id": "ObAJQiz9iY-M",
        "colab_type": "code",
        "colab": {
          "base_uri": "https://localhost:8080/",
          "height": 34
        },
        "outputId": "2f84dfac-b318-4f8c-d9d4-372d7140e06d"
      },
      "source": [
        "# load the whole embedding into memory\n",
        "embeddings_index = dict()\n",
        "f = open('/content/drive/My Drive/Data/NLP/glove.6B.100d.txt')\n",
        "for line in f:\n",
        "\tvalues = line.split()\n",
        "\tword = values[0]\n",
        "\tcoefs = asarray(values[1:], dtype='float32')\n",
        "\tembeddings_index[word] = coefs\n",
        "f.close()\n",
        "print('Loaded %s word vectors.' % len(embeddings_index))"
      ],
      "execution_count": 24,
      "outputs": [
        {
          "output_type": "stream",
          "text": [
            "Loaded 400000 word vectors.\n"
          ],
          "name": "stdout"
        }
      ]
    },
    {
      "cell_type": "markdown",
      "metadata": {
        "id": "qOCP-9zbkEXY",
        "colab_type": "text"
      },
      "source": [
        "This is pretty slow. It might be better to filter the embedding for the unique words in your training data.\n",
        "\n",
        "Next, we need to create a matrix of one embedding for each word in the training dataset. We can do that by enumerating all unique words in the Tokenizer.word_index and locating the embedding weight vector from the loaded GloVe embedding.\n",
        "\n",
        "The result is a matrix of weights only for words we will see during training."
      ]
    },
    {
      "cell_type": "code",
      "metadata": {
        "id": "-1slXWOekEmZ",
        "colab_type": "code",
        "colab": {}
      },
      "source": [
        "# create a weight matrix for words in training docs\n",
        "embedding_matrix = zeros((vocab_size, 100))\n",
        "for word, i in t.word_index.items():\n",
        "\tembedding_vector = embeddings_index.get(word)\n",
        "\tif embedding_vector is not None:\n",
        "\t\tembedding_matrix[i] = embedding_vector"
      ],
      "execution_count": 25,
      "outputs": []
    },
    {
      "cell_type": "markdown",
      "metadata": {
        "id": "oq4UgT3JkK6m",
        "colab_type": "text"
      },
      "source": [
        "Now we can define our model, fit, and evaluate it as before.\n",
        "\n",
        "The key difference is that the embedding layer can be seeded with the GloVe word embedding weights. We chose the 100-dimensional version, therefore the Embedding layer must be defined with output_dim set to 100. Finally, we do not want to update the learned word weights in this model, therefore we will set the trainable attribute for the model to be False."
      ]
    },
    {
      "cell_type": "code",
      "metadata": {
        "id": "E2XIXXUDkLOo",
        "colab_type": "code",
        "colab": {}
      },
      "source": [
        "e = Embedding(vocab_size, 100, weights=[embedding_matrix], input_length=4, trainable=False)"
      ],
      "execution_count": 26,
      "outputs": []
    },
    {
      "cell_type": "code",
      "metadata": {
        "id": "IgxN1tABuhEL",
        "colab_type": "code",
        "colab": {
          "base_uri": "https://localhost:8080/",
          "height": 374
        },
        "outputId": "6336d618-0a3d-4b2b-fcbe-53a4dffaef1f"
      },
      "source": [
        "model.add(e)\n",
        "model.add(Flatten())\n",
        "model.add(Dense(1, activation='sigmoid'))\n",
        "# compile the model\n",
        "model.compile(optimizer='adam', loss='binary_crossentropy', metrics=['accuracy'])\n",
        "# summarize the model\n",
        "print(model.summary())"
      ],
      "execution_count": 27,
      "outputs": [
        {
          "output_type": "error",
          "ename": "ValueError",
          "evalue": "ignored",
          "traceback": [
            "\u001b[0;31m---------------------------------------------------------------------------\u001b[0m",
            "\u001b[0;31mValueError\u001b[0m                                Traceback (most recent call last)",
            "\u001b[0;32m<ipython-input-27-35c702dc9b81>\u001b[0m in \u001b[0;36m<module>\u001b[0;34m()\u001b[0m\n\u001b[0;32m----> 1\u001b[0;31m \u001b[0mmodel\u001b[0m\u001b[0;34m.\u001b[0m\u001b[0madd\u001b[0m\u001b[0;34m(\u001b[0m\u001b[0me\u001b[0m\u001b[0;34m)\u001b[0m\u001b[0;34m\u001b[0m\u001b[0;34m\u001b[0m\u001b[0m\n\u001b[0m\u001b[1;32m      2\u001b[0m \u001b[0mmodel\u001b[0m\u001b[0;34m.\u001b[0m\u001b[0madd\u001b[0m\u001b[0;34m(\u001b[0m\u001b[0mFlatten\u001b[0m\u001b[0;34m(\u001b[0m\u001b[0;34m)\u001b[0m\u001b[0;34m)\u001b[0m\u001b[0;34m\u001b[0m\u001b[0;34m\u001b[0m\u001b[0m\n\u001b[1;32m      3\u001b[0m \u001b[0mmodel\u001b[0m\u001b[0;34m.\u001b[0m\u001b[0madd\u001b[0m\u001b[0;34m(\u001b[0m\u001b[0mDense\u001b[0m\u001b[0;34m(\u001b[0m\u001b[0;36m1\u001b[0m\u001b[0;34m,\u001b[0m \u001b[0mactivation\u001b[0m\u001b[0;34m=\u001b[0m\u001b[0;34m'sigmoid'\u001b[0m\u001b[0;34m)\u001b[0m\u001b[0;34m)\u001b[0m\u001b[0;34m\u001b[0m\u001b[0;34m\u001b[0m\u001b[0m\n\u001b[1;32m      4\u001b[0m \u001b[0;31m# compile the model\u001b[0m\u001b[0;34m\u001b[0m\u001b[0;34m\u001b[0m\u001b[0;34m\u001b[0m\u001b[0m\n\u001b[1;32m      5\u001b[0m \u001b[0mmodel\u001b[0m\u001b[0;34m.\u001b[0m\u001b[0mcompile\u001b[0m\u001b[0;34m(\u001b[0m\u001b[0moptimizer\u001b[0m\u001b[0;34m=\u001b[0m\u001b[0;34m'adam'\u001b[0m\u001b[0;34m,\u001b[0m \u001b[0mloss\u001b[0m\u001b[0;34m=\u001b[0m\u001b[0;34m'binary_crossentropy'\u001b[0m\u001b[0;34m,\u001b[0m \u001b[0mmetrics\u001b[0m\u001b[0;34m=\u001b[0m\u001b[0;34m[\u001b[0m\u001b[0;34m'accuracy'\u001b[0m\u001b[0;34m]\u001b[0m\u001b[0;34m)\u001b[0m\u001b[0;34m\u001b[0m\u001b[0;34m\u001b[0m\u001b[0m\n",
            "\u001b[0;32m/usr/local/lib/python3.6/dist-packages/keras/engine/sequential.py\u001b[0m in \u001b[0;36madd\u001b[0;34m(self, layer)\u001b[0m\n\u001b[1;32m    180\u001b[0m                 \u001b[0mself\u001b[0m\u001b[0;34m.\u001b[0m\u001b[0minputs\u001b[0m \u001b[0;34m=\u001b[0m \u001b[0mnetwork\u001b[0m\u001b[0;34m.\u001b[0m\u001b[0mget_source_inputs\u001b[0m\u001b[0;34m(\u001b[0m\u001b[0mself\u001b[0m\u001b[0;34m.\u001b[0m\u001b[0moutputs\u001b[0m\u001b[0;34m[\u001b[0m\u001b[0;36m0\u001b[0m\u001b[0;34m]\u001b[0m\u001b[0;34m)\u001b[0m\u001b[0;34m\u001b[0m\u001b[0;34m\u001b[0m\u001b[0m\n\u001b[1;32m    181\u001b[0m         \u001b[0;32melif\u001b[0m \u001b[0mself\u001b[0m\u001b[0;34m.\u001b[0m\u001b[0moutputs\u001b[0m\u001b[0;34m:\u001b[0m\u001b[0;34m\u001b[0m\u001b[0;34m\u001b[0m\u001b[0m\n\u001b[0;32m--> 182\u001b[0;31m             \u001b[0moutput_tensor\u001b[0m \u001b[0;34m=\u001b[0m \u001b[0mlayer\u001b[0m\u001b[0;34m(\u001b[0m\u001b[0mself\u001b[0m\u001b[0;34m.\u001b[0m\u001b[0moutputs\u001b[0m\u001b[0;34m[\u001b[0m\u001b[0;36m0\u001b[0m\u001b[0;34m]\u001b[0m\u001b[0;34m)\u001b[0m\u001b[0;34m\u001b[0m\u001b[0;34m\u001b[0m\u001b[0m\n\u001b[0m\u001b[1;32m    183\u001b[0m             \u001b[0;32mif\u001b[0m \u001b[0misinstance\u001b[0m\u001b[0;34m(\u001b[0m\u001b[0moutput_tensor\u001b[0m\u001b[0;34m,\u001b[0m \u001b[0mlist\u001b[0m\u001b[0;34m)\u001b[0m\u001b[0;34m:\u001b[0m\u001b[0;34m\u001b[0m\u001b[0;34m\u001b[0m\u001b[0m\n\u001b[1;32m    184\u001b[0m                 raise TypeError('All layers in a Sequential model '\n",
            "\u001b[0;32m/usr/local/lib/python3.6/dist-packages/keras/backend/tensorflow_backend.py\u001b[0m in \u001b[0;36msymbolic_fn_wrapper\u001b[0;34m(*args, **kwargs)\u001b[0m\n\u001b[1;32m     73\u001b[0m         \u001b[0;32mif\u001b[0m \u001b[0m_SYMBOLIC_SCOPE\u001b[0m\u001b[0;34m.\u001b[0m\u001b[0mvalue\u001b[0m\u001b[0;34m:\u001b[0m\u001b[0;34m\u001b[0m\u001b[0;34m\u001b[0m\u001b[0m\n\u001b[1;32m     74\u001b[0m             \u001b[0;32mwith\u001b[0m \u001b[0mget_graph\u001b[0m\u001b[0;34m(\u001b[0m\u001b[0;34m)\u001b[0m\u001b[0;34m.\u001b[0m\u001b[0mas_default\u001b[0m\u001b[0;34m(\u001b[0m\u001b[0;34m)\u001b[0m\u001b[0;34m:\u001b[0m\u001b[0;34m\u001b[0m\u001b[0;34m\u001b[0m\u001b[0m\n\u001b[0;32m---> 75\u001b[0;31m                 \u001b[0;32mreturn\u001b[0m \u001b[0mfunc\u001b[0m\u001b[0;34m(\u001b[0m\u001b[0;34m*\u001b[0m\u001b[0margs\u001b[0m\u001b[0;34m,\u001b[0m \u001b[0;34m**\u001b[0m\u001b[0mkwargs\u001b[0m\u001b[0;34m)\u001b[0m\u001b[0;34m\u001b[0m\u001b[0;34m\u001b[0m\u001b[0m\n\u001b[0m\u001b[1;32m     76\u001b[0m         \u001b[0;32melse\u001b[0m\u001b[0;34m:\u001b[0m\u001b[0;34m\u001b[0m\u001b[0;34m\u001b[0m\u001b[0m\n\u001b[1;32m     77\u001b[0m             \u001b[0;32mreturn\u001b[0m \u001b[0mfunc\u001b[0m\u001b[0;34m(\u001b[0m\u001b[0;34m*\u001b[0m\u001b[0margs\u001b[0m\u001b[0;34m,\u001b[0m \u001b[0;34m**\u001b[0m\u001b[0mkwargs\u001b[0m\u001b[0;34m)\u001b[0m\u001b[0;34m\u001b[0m\u001b[0;34m\u001b[0m\u001b[0m\n",
            "\u001b[0;32m/usr/local/lib/python3.6/dist-packages/keras/engine/base_layer.py\u001b[0m in \u001b[0;36m__call__\u001b[0;34m(self, inputs, **kwargs)\u001b[0m\n\u001b[1;32m    504\u001b[0m             if all([s is not None\n\u001b[1;32m    505\u001b[0m                     for s in to_list(input_shape)]):\n\u001b[0;32m--> 506\u001b[0;31m                 \u001b[0moutput_shape\u001b[0m \u001b[0;34m=\u001b[0m \u001b[0mself\u001b[0m\u001b[0;34m.\u001b[0m\u001b[0mcompute_output_shape\u001b[0m\u001b[0;34m(\u001b[0m\u001b[0minput_shape\u001b[0m\u001b[0;34m)\u001b[0m\u001b[0;34m\u001b[0m\u001b[0;34m\u001b[0m\u001b[0m\n\u001b[0m\u001b[1;32m    507\u001b[0m             \u001b[0;32melse\u001b[0m\u001b[0;34m:\u001b[0m\u001b[0;34m\u001b[0m\u001b[0;34m\u001b[0m\u001b[0m\n\u001b[1;32m    508\u001b[0m                 \u001b[0;32mif\u001b[0m \u001b[0misinstance\u001b[0m\u001b[0;34m(\u001b[0m\u001b[0minput_shape\u001b[0m\u001b[0;34m,\u001b[0m \u001b[0mlist\u001b[0m\u001b[0;34m)\u001b[0m\u001b[0;34m:\u001b[0m\u001b[0;34m\u001b[0m\u001b[0;34m\u001b[0m\u001b[0m\n",
            "\u001b[0;32m/usr/local/lib/python3.6/dist-packages/keras/layers/embeddings.py\u001b[0m in \u001b[0;36mcompute_output_shape\u001b[0;34m(self, input_shape)\u001b[0m\n\u001b[1;32m    134\u001b[0m                         raise ValueError(\n\u001b[1;32m    135\u001b[0m                             \u001b[0;34m'\"input_length\" is %s, but received input has shape %s'\u001b[0m \u001b[0;34m%\u001b[0m\u001b[0;34m\u001b[0m\u001b[0;34m\u001b[0m\u001b[0m\n\u001b[0;32m--> 136\u001b[0;31m                             (str(self.input_length), str(input_shape)))\n\u001b[0m\u001b[1;32m    137\u001b[0m                     \u001b[0;32melif\u001b[0m \u001b[0ms1\u001b[0m \u001b[0;32mis\u001b[0m \u001b[0;32mNone\u001b[0m\u001b[0;34m:\u001b[0m\u001b[0;34m\u001b[0m\u001b[0;34m\u001b[0m\u001b[0m\n\u001b[1;32m    138\u001b[0m                         \u001b[0min_lens\u001b[0m\u001b[0;34m[\u001b[0m\u001b[0mi\u001b[0m\u001b[0;34m]\u001b[0m \u001b[0;34m=\u001b[0m \u001b[0ms2\u001b[0m\u001b[0;34m\u001b[0m\u001b[0;34m\u001b[0m\u001b[0m\n",
            "\u001b[0;31mValueError\u001b[0m: \"input_length\" is 4, but received input has shape (None, 1)"
          ]
        }
      ]
    },
    {
      "cell_type": "code",
      "metadata": {
        "id": "o_G2qR9qumsr",
        "colab_type": "code",
        "colab": {}
      },
      "source": [
        "# fit the model\n",
        "model.fit(padded_docs, labels, epochs=50, verbose=0)\n",
        "# evaluate the model\n",
        "loss, accuracy = model.evaluate(padded_docs, labels, verbose=0)\n",
        "print('Accuracy: %f' % (accuracy*100))"
      ],
      "execution_count": null,
      "outputs": []
    },
    {
      "cell_type": "code",
      "metadata": {
        "id": "OyXVWH8FkP8g",
        "colab_type": "code",
        "colab": {
          "base_uri": "https://localhost:8080/",
          "height": 493
        },
        "outputId": "0291c527-20b0-4489-b650-a0d28624f1db"
      },
      "source": [
        "from numpy import array\n",
        "from numpy import asarray\n",
        "from numpy import zeros\n",
        "from keras.preprocessing.text import Tokenizer\n",
        "from keras.preprocessing.sequence import pad_sequences\n",
        "from keras.models import Sequential\n",
        "from keras.layers import Dense\n",
        "from keras.layers import Flatten\n",
        "from keras.layers import Embedding\n",
        "# define documents\n",
        "docs = ['Well done!',\n",
        "\t\t'Good work',\n",
        "\t\t'Great effort',\n",
        "\t\t'nice work',\n",
        "\t\t'Excellent!',\n",
        "\t\t'Weak',\n",
        "\t\t'Poor effort!',\n",
        "\t\t'not good',\n",
        "\t\t'poor work',\n",
        "\t\t'Could have done better.']\n",
        "# define class labels\n",
        "labels = array([1,1,1,1,1,0,0,0,0,0])\n",
        "# prepare tokenizer\n",
        "t = Tokenizer()\n",
        "t.fit_on_texts(docs)\n",
        "vocab_size = len(t.word_index) + 1\n",
        "# integer encode the documents\n",
        "encoded_docs = t.texts_to_sequences(docs)\n",
        "print(encoded_docs)\n",
        "# pad documents to a max length of 4 words\n",
        "max_length = 4\n",
        "padded_docs = pad_sequences(encoded_docs, maxlen=max_length, padding='post')\n",
        "print(padded_docs)\n",
        "# load the whole embedding into memory\n",
        "embeddings_index = dict()\n",
        "f = open('/content/drive/My Drive/Data/NLP/glove.6B.100d.txt')\n",
        "for line in f:\n",
        "\tvalues = line.split()\n",
        "\tword = values[0]\n",
        "\tcoefs = asarray(values[1:], dtype='float32')\n",
        "\tembeddings_index[word] = coefs\n",
        "f.close()\n",
        "print('Loaded %s word vectors.' % len(embeddings_index))\n",
        "# create a weight matrix for words in training docs\n",
        "embedding_matrix = zeros((vocab_size, 100))\n",
        "for word, i in t.word_index.items():\n",
        "\tembedding_vector = embeddings_index.get(word)\n",
        "\tif embedding_vector is not None:\n",
        "\t\tembedding_matrix[i] = embedding_vector\n",
        "# define model\n",
        "model = Sequential()\n",
        "e = Embedding(vocab_size, 100, weights=[embedding_matrix], input_length=4, trainable=False)\n",
        "model.add(e)\n",
        "model.add(Flatten())\n",
        "model.add(Dense(1, activation='sigmoid'))\n",
        "# compile the model\n",
        "model.compile(optimizer='adam', loss='binary_crossentropy', metrics=['accuracy'])\n",
        "# summarize the model\n",
        "print(model.summary())\n",
        "# fit the model\n",
        "model.fit(padded_docs, labels, epochs=50, verbose=0)\n",
        "# evaluate the model\n",
        "loss, accuracy = model.evaluate(padded_docs, labels, verbose=0)\n",
        "print('Accuracy: %f' % (accuracy*100))"
      ],
      "execution_count": 29,
      "outputs": [
        {
          "output_type": "stream",
          "text": [
            "[[6, 2], [3, 1], [7, 4], [8, 1], [9], [10], [5, 4], [11, 3], [5, 1], [12, 13, 2, 14]]\n",
            "[[ 6  2  0  0]\n",
            " [ 3  1  0  0]\n",
            " [ 7  4  0  0]\n",
            " [ 8  1  0  0]\n",
            " [ 9  0  0  0]\n",
            " [10  0  0  0]\n",
            " [ 5  4  0  0]\n",
            " [11  3  0  0]\n",
            " [ 5  1  0  0]\n",
            " [12 13  2 14]]\n",
            "Loaded 400000 word vectors.\n",
            "Model: \"sequential_4\"\n",
            "_________________________________________________________________\n",
            "Layer (type)                 Output Shape              Param #   \n",
            "=================================================================\n",
            "embedding_5 (Embedding)      (None, 4, 100)            1500      \n",
            "_________________________________________________________________\n",
            "flatten_4 (Flatten)          (None, 400)               0         \n",
            "_________________________________________________________________\n",
            "dense_4 (Dense)              (None, 1)                 401       \n",
            "=================================================================\n",
            "Total params: 1,901\n",
            "Trainable params: 401\n",
            "Non-trainable params: 1,500\n",
            "_________________________________________________________________\n",
            "None\n",
            "Accuracy: 100.000000\n"
          ],
          "name": "stdout"
        }
      ]
    },
    {
      "cell_type": "code",
      "metadata": {
        "id": "ybeA86lqu0-S",
        "colab_type": "code",
        "colab": {}
      },
      "source": [
        ""
      ],
      "execution_count": null,
      "outputs": []
    }
  ]
}