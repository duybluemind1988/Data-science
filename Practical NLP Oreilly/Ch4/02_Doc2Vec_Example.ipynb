{
  "nbformat": 4,
  "nbformat_minor": 0,
  "metadata": {
    "colab": {
      "name": "Doc2Vec_Example.ipynb",
      "provenance": []
    },
    "kernelspec": {
      "display_name": "Python 3",
      "language": "python",
      "name": "python3"
    },
    "language_info": {
      "codemirror_mode": {
        "name": "ipython",
        "version": 3
      },
      "file_extension": ".py",
      "mimetype": "text/x-python",
      "name": "python",
      "nbconvert_exporter": "python",
      "pygments_lexer": "ipython3",
      "version": "3.6.10"
    }
  },
  "cells": [
    {
      "cell_type": "markdown",
      "metadata": {
        "colab_type": "text",
        "id": "LCgVnQopb6TI"
      },
      "source": [
        "# Doc2Vec demonstration \n",
        "\n",
        "In this notebook, let us take a look at how to \"learn\" document embeddings and use them for text classification. We will be using the dataset of \"Sentiment and Emotion in Text\" from [Kaggle](https://www.kaggle.com/c/sa-emotions/data).\n",
        "\n",
        "\"In a variation on the popular task of sentiment analysis, this dataset contains labels for the emotional content (such as happiness, sadness, and anger) of texts. Hundreds to thousands of examples across 13 labels. A subset of this data is used in an experiment we uploaded to Microsoft’s Cortana Intelligence Gallery.\"\n"
      ]
    },
    {
      "cell_type": "code",
      "metadata": {
        "colab_type": "code",
        "id": "hSB6W1seb6TJ",
        "colab": {}
      },
      "source": [
        "import pandas as pd\n",
        "from nltk.tokenize import TweetTokenizer\n",
        "from nltk.corpus import stopwords\n",
        "from sklearn.model_selection import train_test_split\n",
        "from gensim.models.doc2vec import Doc2Vec, TaggedDocument"
      ],
      "execution_count": 2,
      "outputs": []
    },
    {
      "cell_type": "code",
      "metadata": {
        "colab_type": "code",
        "id": "lSvnHBYPb6TQ",
        "colab": {
          "base_uri": "https://localhost:8080/",
          "height": 221
        },
        "outputId": "c49f29e8-f3c4-4163-a9e3-04e0e2d8a5d4"
      },
      "source": [
        "#Load the dataset and explore.\n",
        "filepath = \"https://github.com/duybluemind1988/Data-science/blob/master/Practical%20NLP%20Oreilly/Ch4/Data/Sentiment%20and%20Emotion%20in%20Text/text_emotion.csv?raw=true\"\n",
        "df = pd.read_csv(filepath)\n",
        "print(df.shape)\n",
        "df.head()"
      ],
      "execution_count": 7,
      "outputs": [
        {
          "output_type": "stream",
          "text": [
            "(40000, 4)\n"
          ],
          "name": "stdout"
        },
        {
          "output_type": "execute_result",
          "data": {
            "text/html": [
              "<div>\n",
              "<style scoped>\n",
              "    .dataframe tbody tr th:only-of-type {\n",
              "        vertical-align: middle;\n",
              "    }\n",
              "\n",
              "    .dataframe tbody tr th {\n",
              "        vertical-align: top;\n",
              "    }\n",
              "\n",
              "    .dataframe thead th {\n",
              "        text-align: right;\n",
              "    }\n",
              "</style>\n",
              "<table border=\"1\" class=\"dataframe\">\n",
              "  <thead>\n",
              "    <tr style=\"text-align: right;\">\n",
              "      <th></th>\n",
              "      <th>tweet_id</th>\n",
              "      <th>sentiment</th>\n",
              "      <th>author</th>\n",
              "      <th>content</th>\n",
              "    </tr>\n",
              "  </thead>\n",
              "  <tbody>\n",
              "    <tr>\n",
              "      <th>0</th>\n",
              "      <td>1956967341</td>\n",
              "      <td>empty</td>\n",
              "      <td>xoshayzers</td>\n",
              "      <td>@tiffanylue i know  i was listenin to bad habi...</td>\n",
              "    </tr>\n",
              "    <tr>\n",
              "      <th>1</th>\n",
              "      <td>1956967666</td>\n",
              "      <td>sadness</td>\n",
              "      <td>wannamama</td>\n",
              "      <td>Layin n bed with a headache  ughhhh...waitin o...</td>\n",
              "    </tr>\n",
              "    <tr>\n",
              "      <th>2</th>\n",
              "      <td>1956967696</td>\n",
              "      <td>sadness</td>\n",
              "      <td>coolfunky</td>\n",
              "      <td>Funeral ceremony...gloomy friday...</td>\n",
              "    </tr>\n",
              "    <tr>\n",
              "      <th>3</th>\n",
              "      <td>1956967789</td>\n",
              "      <td>enthusiasm</td>\n",
              "      <td>czareaquino</td>\n",
              "      <td>wants to hang out with friends SOON!</td>\n",
              "    </tr>\n",
              "    <tr>\n",
              "      <th>4</th>\n",
              "      <td>1956968416</td>\n",
              "      <td>neutral</td>\n",
              "      <td>xkilljoyx</td>\n",
              "      <td>@dannycastillo We want to trade with someone w...</td>\n",
              "    </tr>\n",
              "  </tbody>\n",
              "</table>\n",
              "</div>"
            ],
            "text/plain": [
              "     tweet_id  ...                                            content\n",
              "0  1956967341  ...  @tiffanylue i know  i was listenin to bad habi...\n",
              "1  1956967666  ...  Layin n bed with a headache  ughhhh...waitin o...\n",
              "2  1956967696  ...                Funeral ceremony...gloomy friday...\n",
              "3  1956967789  ...               wants to hang out with friends SOON!\n",
              "4  1956968416  ...  @dannycastillo We want to trade with someone w...\n",
              "\n",
              "[5 rows x 4 columns]"
            ]
          },
          "metadata": {
            "tags": []
          },
          "execution_count": 7
        }
      ]
    },
    {
      "cell_type": "code",
      "metadata": {
        "colab_type": "code",
        "id": "5JEI6SH7b6TU",
        "colab": {
          "base_uri": "https://localhost:8080/",
          "height": 255
        },
        "outputId": "e88e05c2-4fd8-478c-dc4a-8f6b5ef14c4b"
      },
      "source": [
        "df['sentiment'].value_counts()"
      ],
      "execution_count": 8,
      "outputs": [
        {
          "output_type": "execute_result",
          "data": {
            "text/plain": [
              "neutral       8638\n",
              "worry         8459\n",
              "happiness     5209\n",
              "sadness       5165\n",
              "love          3842\n",
              "surprise      2187\n",
              "fun           1776\n",
              "relief        1526\n",
              "hate          1323\n",
              "empty          827\n",
              "enthusiasm     759\n",
              "boredom        179\n",
              "anger          110\n",
              "Name: sentiment, dtype: int64"
            ]
          },
          "metadata": {
            "tags": []
          },
          "execution_count": 8
        }
      ]
    },
    {
      "cell_type": "code",
      "metadata": {
        "colab_type": "code",
        "id": "CHajyKpmb6TY",
        "colab": {
          "base_uri": "https://localhost:8080/",
          "height": 34
        },
        "outputId": "19f3b490-1d9c-4833-909a-5c039dccc370"
      },
      "source": [
        "#Let us take the top 3 categories and leave out the rest.\n",
        "shortlist = ['neutral', \"happiness\", \"worry\"]\n",
        "df_subset = df[df['sentiment'].isin(shortlist)]\n",
        "df_subset.shape"
      ],
      "execution_count": 9,
      "outputs": [
        {
          "output_type": "execute_result",
          "data": {
            "text/plain": [
              "(22306, 4)"
            ]
          },
          "metadata": {
            "tags": []
          },
          "execution_count": 9
        }
      ]
    },
    {
      "cell_type": "markdown",
      "metadata": {
        "colab_type": "text",
        "id": "m2oiZzU5b6Tf"
      },
      "source": [
        "# Text pre-processing:\n",
        "Tweets are different. Somethings to consider:\n",
        "- Removing @mentions, and urls perhaps?\n",
        "- using NLTK Tweet tokenizer instead of a regular one\n",
        "- stopwords, numbers as usual."
      ]
    },
    {
      "cell_type": "markdown",
      "metadata": {
        "id": "PtNRgu8Le1GM",
        "colab_type": "text"
      },
      "source": [
        "After loading the dataset and taking a subset of the three most frequent labels, an\n",
        "important step to consider here is pre-processing the data. What’s different here\n",
        "compared to previous examples? Why can’t we just follow the same procedure as\n",
        "before? There are a few things that are different about tweets compared to news\n",
        "articles or other such text, as we briefly discussed in Chapter 2 when we talked\n",
        "about text pre-processing. First, they are very short. Second, our traditional\n",
        "tokenizers may not work well with tweets, splitting smileys, hashtags, Twitter\n",
        "handles, etc., into multiple tokens. Such specialized needs prompted a lot of\n",
        "research into NLP for Twitter in the recent past, which resulted in several preprocessing options for tweets. One such solution is a TweetTokenizer,\n",
        "implemented in the NLTK [21] library in Python. We’ll discuss more on this topic in\n",
        "Chapter 8. For now, let’s see how we can use a TweetTokenizer in the following\n",
        "code snippet:"
      ]
    },
    {
      "cell_type": "code",
      "metadata": {
        "id": "v7_nAxwuZ_kK",
        "colab_type": "code",
        "colab": {
          "base_uri": "https://localhost:8080/",
          "height": 68
        },
        "outputId": "91328f4b-0a58-4c4b-dae5-21a35a62c20d"
      },
      "source": [
        "import nltk\n",
        "nltk.download('stopwords')"
      ],
      "execution_count": 11,
      "outputs": [
        {
          "output_type": "stream",
          "text": [
            "[nltk_data] Downloading package stopwords to /root/nltk_data...\n",
            "[nltk_data]   Unzipping corpora/stopwords.zip.\n"
          ],
          "name": "stdout"
        },
        {
          "output_type": "execute_result",
          "data": {
            "text/plain": [
              "True"
            ]
          },
          "metadata": {
            "tags": []
          },
          "execution_count": 11
        }
      ]
    },
    {
      "cell_type": "code",
      "metadata": {
        "id": "lwzED_gJbpSA",
        "colab_type": "code",
        "colab": {
          "base_uri": "https://localhost:8080/",
          "height": 34
        },
        "outputId": "6a8d2633-8346-4d7f-bd6d-81139a0d2f69"
      },
      "source": [
        "tweeter.tokenize('We want to trade with someone')"
      ],
      "execution_count": 24,
      "outputs": [
        {
          "output_type": "execute_result",
          "data": {
            "text/plain": [
              "['we', 'want', 'to', 'trade', 'with', 'someone']"
            ]
          },
          "metadata": {
            "tags": []
          },
          "execution_count": 24
        }
      ]
    },
    {
      "cell_type": "code",
      "metadata": {
        "colab_type": "code",
        "id": "Rl-FfMdLb6Th",
        "colab": {
          "base_uri": "https://localhost:8080/",
          "height": 34
        },
        "outputId": "2825e200-c170-4996-d2e6-cc13255cac25"
      },
      "source": [
        "#strip_handles removes personal information such as twitter handles, which don't\n",
        "#contribute to emotion in the tweet. preserve_case=False converts everything to lowercase.\n",
        "tweeter = TweetTokenizer(strip_handles=True,preserve_case=False)\n",
        "mystopwords = set(stopwords.words(\"english\"))\n",
        "\n",
        "#Function to tokenize tweets, remove stopwords and numbers. \n",
        "#Keeping punctuations and emoticon symbols could be relevant for this task!\n",
        "def preprocess_corpus(texts):\n",
        "    def remove_stops_digits(tokens):\n",
        "        #Nested function that removes stopwords and digits from a list of tokens\n",
        "        return [token for token in tokens if token not in mystopwords and not token.isdigit()]\n",
        "    #This return statement below uses the above function to process twitter tokenizer output further. \n",
        "    return [remove_stops_digits(tweeter.tokenize(content)) for content in texts]\n",
        "    #explain return: tach texts thanh tung cau van nho, tung cau van nay se duoc \n",
        "    # token thanh tung tu, sau do se remove stopwords va digit cac tu nay\n",
        "#df_subset contains only the three categories we chose. \n",
        "mydata = preprocess_corpus(df_subset['content'])\n",
        "mycats = df_subset['sentiment']\n",
        "print(len(mydata), len(mycats))"
      ],
      "execution_count": 12,
      "outputs": [
        {
          "output_type": "stream",
          "text": [
            "22306 22306\n"
          ],
          "name": "stdout"
        }
      ]
    },
    {
      "cell_type": "code",
      "metadata": {
        "id": "ZqQEkYIkZ80M",
        "colab_type": "code",
        "colab": {
          "base_uri": "https://localhost:8080/",
          "height": 221
        },
        "outputId": "3c6dfa20-6ba1-488f-85c7-888509d93f55"
      },
      "source": [
        "df_subset['content']"
      ],
      "execution_count": 13,
      "outputs": [
        {
          "output_type": "execute_result",
          "data": {
            "text/plain": [
              "4        @dannycastillo We want to trade with someone w...\n",
              "5        Re-pinging @ghostridah14: why didn't you go to...\n",
              "7                     Hmmm. http://www.djhero.com/ is down\n",
              "10                                        cant fall asleep\n",
              "11                                 Choked on her retainers\n",
              "                               ...                        \n",
              "39992    @jasimmo Ooo showing of your French skills!! l...\n",
              "39993    @sendsome2me haha, yeah. Twitter has many uses...\n",
              "39994                        Succesfully following Tayla!!\n",
              "39995                                     @JohnLloydTaylor\n",
              "39998    @niariley WASSUP BEAUTIFUL!!! FOLLOW ME!!  PEE...\n",
              "Name: content, Length: 22306, dtype: object"
            ]
          },
          "metadata": {
            "tags": []
          },
          "execution_count": 13
        }
      ]
    },
    {
      "cell_type": "code",
      "metadata": {
        "id": "IAueqy9laFdg",
        "colab_type": "code",
        "colab": {
          "base_uri": "https://localhost:8080/",
          "height": 102
        },
        "outputId": "88ea2d5d-94a6-43b2-c0a1-83b68a273758"
      },
      "source": [
        "mydata[:5] #after tweeter.tokenize and remove stopword, digit each toeknize"
      ],
      "execution_count": 17,
      "outputs": [
        {
          "output_type": "execute_result",
          "data": {
            "text/plain": [
              "[['want', 'trade', 'someone', 'houston', 'tickets', ',', 'one', '.'],\n",
              " ['re-pinging', ':', 'go', 'prom', '?', 'bc', 'bf', 'like', 'friends'],\n",
              " ['hmmm', '.', 'http://www.djhero.com/'],\n",
              " ['cant', 'fall', 'asleep'],\n",
              " ['choked', 'retainers']]"
            ]
          },
          "metadata": {
            "tags": []
          },
          "execution_count": 17
        }
      ]
    },
    {
      "cell_type": "code",
      "metadata": {
        "id": "e-zsxanfaD7m",
        "colab_type": "code",
        "colab": {}
      },
      "source": [
        "#Split data into train and test, following the usual process\n",
        "train_data, test_data, train_cats, test_cats = train_test_split(mydata,mycats,random_state=1234)"
      ],
      "execution_count": 19,
      "outputs": []
    },
    {
      "cell_type": "code",
      "metadata": {
        "id": "8U-1crZCcPHA",
        "colab_type": "code",
        "colab": {
          "base_uri": "https://localhost:8080/",
          "height": 85
        },
        "outputId": "d8aaa59f-cf94-4e3f-dd00-34191e1e6c05"
      },
      "source": [
        "print(len(mydata))\n",
        "print(len(train_data))\n",
        "print(len(test_data))\n",
        "print('split:',len(test_data)/len(mydata))"
      ],
      "execution_count": 28,
      "outputs": [
        {
          "output_type": "stream",
          "text": [
            "22306\n",
            "16729\n",
            "5577\n",
            "split: 0.25002241549358917\n"
          ],
          "name": "stdout"
        }
      ]
    },
    {
      "cell_type": "code",
      "metadata": {
        "id": "z4F3Oev0cr7M",
        "colab_type": "code",
        "colab": {
          "base_uri": "https://localhost:8080/",
          "height": 54
        },
        "outputId": "2a514a2d-6e37-4dac-c40c-245eeb16f6ad"
      },
      "source": [
        "print(train_data[:5])"
      ],
      "execution_count": 39,
      "outputs": [
        {
          "output_type": "stream",
          "text": [
            "[['good', 'morning', 'plan', 'day', ':', 'church', 'followed', 'f1', '&', 'lunch', 'mum', '&', 'dads', '.', 'dm', 'discussions', 'star', 'trek', '!'], ['happy', 'anniversary', '.', 'know', 'whyyyy', '.', 'three', 'years', 'baby', '!', '!', '!'], ['never', '...'], ['lol', '...', 'maybe', '...', 'still', 'go', 'monday', '.'], ['got', 'home', 'leave']]\n"
          ],
          "name": "stdout"
        }
      ]
    },
    {
      "cell_type": "markdown",
      "metadata": {
        "id": "BNBeOrBlir_q",
        "colab_type": "text"
      },
      "source": [
        "The next step in this process is to train a Doc2vec model to learn tweet\n",
        "representations. Ideally, any large dataset of tweets will work for this step. However,\n",
        "since we don’t have such a ready-made corpus, we’ll split our dataset into train-test\n",
        "and use the training data for learning the Doc2vec representations. The first part of\n",
        "this process involves converting the data into a format readable by the Doc2vec\n",
        "implementation, which can be done using the TaggedDocument class. It’s used to\n",
        "represent a document as a list of tokens, followed by a “tag,” which in its simplest\n",
        "form can be just the filename or ID of the document. However, Doc2vec by itself\n",
        "can also be used as a nearest neighbor classifier for both multiclass and multilabel\n",
        "classification problems using . We’ll leave this as an exploratory exercise for the\n",
        "reader. Let’s now see how to train a Doc2vec classifier for tweets through the code\n",
        "snippet below:"
      ]
    },
    {
      "cell_type": "code",
      "metadata": {
        "id": "4QWQDhfOcllJ",
        "colab_type": "code",
        "colab": {
          "base_uri": "https://localhost:8080/",
          "height": 122
        },
        "outputId": "22c157bd-1ba1-4517-dd99-33ceb36bced8"
      },
      "source": [
        "#prepare training data in doc2vec format:\n",
        "train_doc2vec = [TaggedDocument((d), tags=[str(i)]) for i, d in enumerate(train_data)]\n",
        "train_doc2vec[:5]"
      ],
      "execution_count": 30,
      "outputs": [
        {
          "output_type": "execute_result",
          "data": {
            "text/plain": [
              "[TaggedDocument(words=['good', 'morning', 'plan', 'day', ':', 'church', 'followed', 'f1', '&', 'lunch', 'mum', '&', 'dads', '.', 'dm', 'discussions', 'star', 'trek', '!'], tags=['0']),\n",
              " TaggedDocument(words=['happy', 'anniversary', '.', 'know', 'whyyyy', '.', 'three', 'years', 'baby', '!', '!', '!'], tags=['1']),\n",
              " TaggedDocument(words=['never', '...'], tags=['2']),\n",
              " TaggedDocument(words=['lol', '...', 'maybe', '...', 'still', 'go', 'monday', '.'], tags=['3']),\n",
              " TaggedDocument(words=['got', 'home', 'leave'], tags=['4'])]"
            ]
          },
          "metadata": {
            "tags": []
          },
          "execution_count": 30
        }
      ]
    },
    {
      "cell_type": "code",
      "metadata": {
        "colab_type": "code",
        "id": "rsGwfVebb6Tl",
        "colab": {
          "base_uri": "https://localhost:8080/",
          "height": 88
        },
        "outputId": "5d7ba497-fbcb-49d9-95f8-98d3edfe51ed"
      },
      "source": [
        "#Train a doc2vec model to learn tweet representations. Use only training data!!\n",
        "model = Doc2Vec(vector_size=50, alpha=0.025, min_count=10, dm =1, epochs=100)\n",
        "model.build_vocab(train_doc2vec)\n",
        "model.train(train_doc2vec, total_examples=model.corpus_count, epochs=model.epochs)\n",
        "model.save(\"d2v.model\")\n",
        "print(\"Model Saved\")"
      ],
      "execution_count": 22,
      "outputs": [
        {
          "output_type": "stream",
          "text": [
            "Model Saved\n"
          ],
          "name": "stdout"
        },
        {
          "output_type": "stream",
          "text": [
            "/usr/local/lib/python3.6/dist-packages/smart_open/smart_open_lib.py:254: UserWarning: This function is deprecated, use smart_open.open instead. See the migration notes for details: https://github.com/RaRe-Technologies/smart_open/blob/master/README.rst#migrating-to-the-new-open-function\n",
            "  'See the migration notes for details: %s' % _MIGRATION_NOTES_URL\n"
          ],
          "name": "stderr"
        }
      ]
    },
    {
      "cell_type": "markdown",
      "metadata": {
        "id": "Z5ox4QaVjfqV",
        "colab_type": "text"
      },
      "source": [
        "Training for Doc2vec involves making several choices regarding parameters, as seen\n",
        "in the model definition in the code snippet above. vector_size refers to the\n",
        "dimensionality of the learned embeddings; alpha is the learning rate; min_count\n",
        "is the minimum frequency of words that remain in vocabulary; dm, which stands for\n",
        "distributed memory, is one of the representation learners implemented in Doc2vec\n",
        "(the other is dbow, or distributed bag of words); and epochs are the number of\n",
        "training iterations. There are a few other parameters that can be customized. While\n",
        "there are some guidelines on choosing optimal parameters for training Doc2vec\n",
        "models [22], these are not exhaustively validated, and we don’t know if the\n",
        "guidelines work for tweets. \n",
        "\n",
        "The best way to address this issue is to explore a range of values for the ones that\n",
        "matter to us (e.g., dm versus dbow, vector sizes, learning rate) and compare\n",
        "multiple models. How do we compare these models, as they only learn the text\n",
        "representation? One way to do it is to start using these learned representations in a downstream task—in this case, text classification. Doc2vec’s infer_vector\n",
        "function can be used to infer the vector representation for a given text using a pretrained model. Since there is some amount of randomness due to the choice of\n",
        "hyperparameters, the inferred vectors differ each time we extract them. For this\n",
        "reason, to get a stable representation, we run it multiple times (called steps) and\n",
        "aggregate the vectors. Let’s use the learned model to infer features for our data and\n",
        "train a logistic regression classifier:"
      ]
    },
    {
      "cell_type": "code",
      "metadata": {
        "id": "1v9C7WsQdB74",
        "colab_type": "code",
        "colab": {}
      },
      "source": [
        "#Infer the feature representation for training and test data using the trained model\n",
        "model= Doc2Vec.load(\"d2v.model\")"
      ],
      "execution_count": null,
      "outputs": []
    },
    {
      "cell_type": "code",
      "metadata": {
        "id": "XndGXiLldEbw",
        "colab_type": "code",
        "colab": {}
      },
      "source": [
        "#infer in multiple steps to get a stable representation. \n",
        "train_vectors =  [model.infer_vector(list_of_tokens, steps=50) for list_of_tokens in train_data]\n",
        "test_vectors = [model.infer_vector(list_of_tokens, steps=50) for list_of_tokens in test_data]"
      ],
      "execution_count": 32,
      "outputs": []
    },
    {
      "cell_type": "code",
      "metadata": {
        "id": "qL18Cu79dFqX",
        "colab_type": "code",
        "colab": {
          "base_uri": "https://localhost:8080/",
          "height": 425
        },
        "outputId": "35e9de5b-d298-4216-d49e-a35af497daec"
      },
      "source": [
        "print(len(train_vectors))\n",
        "print(len(train_vectors[0]))\n",
        "train_vectors[:2]\n",
        "# train data khoang 16000 cau, do do train vector cung chua 16000 cau nay, tuy nhien\n",
        "# da duoc vector thanh 50 features bang model Doc2Vec (size=50)"
      ],
      "execution_count": 38,
      "outputs": [
        {
          "output_type": "stream",
          "text": [
            "16729\n",
            "50\n"
          ],
          "name": "stdout"
        },
        {
          "output_type": "execute_result",
          "data": {
            "text/plain": [
              "[array([-0.10931911, -0.7313683 , -0.7262368 ,  0.25416514,  0.64902323,\n",
              "         0.8690006 , -0.21135978, -0.42349106,  1.2730827 , -1.3717281 ,\n",
              "        -0.5986231 ,  0.08442881, -0.42836455, -0.1387815 ,  0.33349255,\n",
              "        -0.08933026, -0.6297568 ,  0.15202159, -0.26946872, -0.9958995 ,\n",
              "         0.01033765, -0.27450958, -0.86155444, -0.1431924 ,  0.36794204,\n",
              "         0.88481367, -0.7720944 ,  0.427225  , -0.461724  ,  1.1377105 ,\n",
              "         0.7434162 , -0.499262  , -0.20816197, -0.4692031 , -0.23724903,\n",
              "        -1.2255505 ,  0.04729887, -0.45278624,  0.7991501 ,  0.05607954,\n",
              "        -0.39569253,  0.8643881 , -0.68532467, -0.9694727 ,  0.22574818,\n",
              "        -0.1878743 , -0.04316855, -0.2019228 , -0.18028729,  0.41176215],\n",
              "       dtype=float32),\n",
              " array([ 0.01172177, -0.33072165,  0.5792671 ,  0.11403397, -0.7678863 ,\n",
              "         0.23992556, -0.31349587, -0.69862753, -0.44846058,  0.35984936,\n",
              "        -0.05374104, -0.22830594, -0.24324952, -0.24897365,  0.6162712 ,\n",
              "        -0.20070425, -0.5503571 , -0.00712979,  0.43104964, -0.00699009,\n",
              "         0.23535115, -0.2527579 ,  0.4822836 ,  0.37464496,  0.11645032,\n",
              "        -0.7485127 , -0.16505063,  0.33463493,  0.66176516,  0.34859914,\n",
              "         0.9363931 ,  0.2989575 , -0.38858312,  0.08483923, -0.00363823,\n",
              "        -0.21418637, -1.127914  ,  0.20001917,  0.40298718,  0.00655789,\n",
              "         0.3647622 ,  0.03478801,  0.13897763,  0.3928591 , -0.19187497,\n",
              "        -0.8514942 , -0.41607076, -0.20372438, -0.36739963, -1.2568569 ],\n",
              "       dtype=float32)]"
            ]
          },
          "metadata": {
            "tags": []
          },
          "execution_count": 38
        }
      ]
    },
    {
      "cell_type": "code",
      "metadata": {
        "colab_type": "code",
        "id": "hTqo26Vsb6Ts",
        "colab": {
          "base_uri": "https://localhost:8080/",
          "height": 241
        },
        "outputId": "559a15af-0ca5-4bd1-9706-2c890b342595"
      },
      "source": [
        "#Use any regular classifier like logistic regression\n",
        "from sklearn.linear_model import LogisticRegression\n",
        "\n",
        "myclass = LogisticRegression(class_weight=\"balanced\") #because classes are not balanced. \n",
        "myclass.fit(train_vectors, train_cats)\n",
        "\n",
        "preds = myclass.predict(test_vectors)\n",
        "from sklearn.metrics import classification_report, confusion_matrix\n",
        "print(classification_report(test_cats, preds))\n",
        "\n",
        "#print(confusion_matrix(test_cats,preds))\n"
      ],
      "execution_count": 23,
      "outputs": [
        {
          "output_type": "stream",
          "text": [
            "/usr/local/lib/python3.6/dist-packages/smart_open/smart_open_lib.py:254: UserWarning: This function is deprecated, use smart_open.open instead. See the migration notes for details: https://github.com/RaRe-Technologies/smart_open/blob/master/README.rst#migrating-to-the-new-open-function\n",
            "  'See the migration notes for details: %s' % _MIGRATION_NOTES_URL\n"
          ],
          "name": "stderr"
        },
        {
          "output_type": "stream",
          "text": [
            "              precision    recall  f1-score   support\n",
            "\n",
            "   happiness       0.46      0.54      0.50      1331\n",
            "     neutral       0.49      0.55      0.52      2143\n",
            "       worry       0.57      0.43      0.49      2103\n",
            "\n",
            "    accuracy                           0.50      5577\n",
            "   macro avg       0.51      0.51      0.50      5577\n",
            "weighted avg       0.51      0.50      0.50      5577\n",
            "\n"
          ],
          "name": "stdout"
        }
      ]
    },
    {
      "cell_type": "markdown",
      "metadata": {
        "id": "OhDeIHaHjyTw",
        "colab_type": "text"
      },
      "source": [
        "Now, the performance of this model seems rather poor, achieving an F1 score of\n",
        "0.51 on a reasonably large corpus, with only three classes. There are a couple of\n",
        "interpretations for this poor result. First, unlike full news articles or even wellformed sentences, tweets contain very little data per instance. Further, people write\n",
        "with a wide variety in spelling and syntax when they tweet. There are a lot of\n",
        "emoticons in different forms. Our feature representation should be able to capture\n",
        "such aspects. While tuning the algorithms by searching a large parameter space for\n",
        "the best model may help, an alternative could be to explore problem-specific feature\n",
        "representations, as we discussed in Chapter 3. We’ll see how to do this for tweets in\n",
        "Chapter 8. An important point to keep in mind when using Doc2vec is the same as\n",
        "for fastText: if we have to use Doc2vec for feature representation, we have to store\n",
        "the model that learned the representation. While it’s not typically as bulky as\n",
        "fastText, it’s also not as fast to train. Such trade-offs need to be considered and\n",
        "compared before we make a deployment decision"
      ]
    },
    {
      "cell_type": "code",
      "metadata": {
        "id": "DuaL4HoJbSkh",
        "colab_type": "code",
        "colab": {}
      },
      "source": [
        ""
      ],
      "execution_count": null,
      "outputs": []
    }
  ]
}