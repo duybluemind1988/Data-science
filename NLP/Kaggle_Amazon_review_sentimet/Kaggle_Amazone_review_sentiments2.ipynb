{
  "nbformat": 4,
  "nbformat_minor": 0,
  "metadata": {
    "colab": {
      "name": "Kaggle_Amazone_review_sentiments.ipynb",
      "provenance": []
    },
    "kernelspec": {
      "name": "python3",
      "display_name": "Python 3"
    },
    "accelerator": "GPU"
  },
  "cells": [
    {
      "cell_type": "code",
      "metadata": {
        "id": "VAJddn9lp0Tr",
        "colab_type": "code",
        "colab": {}
      },
      "source": [
        "import numpy as np \n",
        "import pandas as pd \n",
        "import bz2\n",
        "import gc\n",
        "import chardet\n",
        "import re\n",
        "import os"
      ],
      "execution_count": null,
      "outputs": []
    },
    {
      "cell_type": "code",
      "metadata": {
        "id": "uVC4bZHGrTnA",
        "colab_type": "code",
        "colab": {}
      },
      "source": [
        "train_file = bz2.BZ2File('/content/drive/My Drive/Data/NLP/Kaggle_Amazone_review_sentiment/train.ft.txt.bz2')\n",
        "test_file = bz2.BZ2File('/content/drive/My Drive/Data/NLP/Kaggle_Amazone_review_sentiment/test.ft.txt.bz2')"
      ],
      "execution_count": null,
      "outputs": []
    },
    {
      "cell_type": "code",
      "metadata": {
        "id": "CkELqPpYz5EV",
        "colab_type": "code",
        "colab": {
          "base_uri": "https://localhost:8080/",
          "height": 34
        },
        "outputId": "8d768abc-4346-46ae-a7cf-7a52ff513e88"
      },
      "source": [
        "train_file"
      ],
      "execution_count": null,
      "outputs": [
        {
          "output_type": "execute_result",
          "data": {
            "text/plain": [
              "<bz2.BZ2File at 0x7fb4b8afbc18>"
            ]
          },
          "metadata": {
            "tags": []
          },
          "execution_count": 7
        }
      ]
    },
    {
      "cell_type": "code",
      "metadata": {
        "id": "tXbztI3WyMHt",
        "colab_type": "code",
        "colab": {}
      },
      "source": [
        "train_file_lines = train_file.readlines()\n",
        "test_file_lines = test_file.readlines()"
      ],
      "execution_count": null,
      "outputs": []
    },
    {
      "cell_type": "code",
      "metadata": {
        "id": "VMkf0ynOrj6h",
        "colab_type": "code",
        "colab": {}
      },
      "source": [
        "train_file_lines = [x.decode('utf-8') for x in train_file_lines]\n",
        "test_file_lines = [x.decode('utf-8') for x in test_file_lines]"
      ],
      "execution_count": null,
      "outputs": []
    },
    {
      "cell_type": "code",
      "metadata": {
        "id": "L6G7l3p_0DVR",
        "colab_type": "code",
        "colab": {
          "base_uri": "https://localhost:8080/",
          "height": 122
        },
        "outputId": "86b49516-6b50-4e4e-c679-34287e420761"
      },
      "source": [
        "train_file_lines[:5]"
      ],
      "execution_count": null,
      "outputs": [
        {
          "output_type": "execute_result",
          "data": {
            "text/plain": [
              "['__label__2 Stuning even for the non-gamer: This sound track was beautiful! It paints the senery in your mind so well I would recomend it even to people who hate vid. game music! I have played the game Chrono Cross but out of all of the games I have ever played it has the best music! It backs away from crude keyboarding and takes a fresher step with grate guitars and soulful orchestras. It would impress anyone who cares to listen! ^_^\\n',\n",
              " \"__label__2 The best soundtrack ever to anything.: I'm reading a lot of reviews saying that this is the best 'game soundtrack' and I figured that I'd write a review to disagree a bit. This in my opinino is Yasunori Mitsuda's ultimate masterpiece. The music is timeless and I'm been listening to it for years now and its beauty simply refuses to fade.The price tag on this is pretty staggering I must say, but if you are going to buy any cd for this much money, this is the only one that I feel would be worth every penny.\\n\",\n",
              " '__label__2 Amazing!: This soundtrack is my favorite music of all time, hands down. The intense sadness of \"Prisoners of Fate\" (which means all the more if you\\'ve played the game) and the hope in \"A Distant Promise\" and \"Girl who Stole the Star\" have been an important inspiration to me personally throughout my teen years. The higher energy tracks like \"Chrono Cross ~ Time\\'s Scar~\", \"Time of the Dreamwatch\", and \"Chronomantique\" (indefinably remeniscent of Chrono Trigger) are all absolutely superb as well.This soundtrack is amazing music, probably the best of this composer\\'s work (I haven\\'t heard the Xenogears soundtrack, so I can\\'t say for sure), and even if you\\'ve never played the game, it would be worth twice the price to buy it.I wish I could give it 6 stars.\\n',\n",
              " \"__label__2 Excellent Soundtrack: I truly like this soundtrack and I enjoy video game music. I have played this game and most of the music on here I enjoy and it's truly relaxing and peaceful.On disk one. my favorites are Scars Of Time, Between Life and Death, Forest Of Illusion, Fortress of Ancient Dragons, Lost Fragment, and Drowned Valley.Disk Two: The Draggons, Galdorb - Home, Chronomantique, Prisoners of Fate, Gale, and my girlfriend likes ZelbessDisk Three: The best of the three. Garden Of God, Chronopolis, Fates, Jellyfish sea, Burning Orphange, Dragon's Prayer, Tower Of Stars, Dragon God, and Radical Dreamers - Unstealable Jewel.Overall, this is a excellent soundtrack and should be brought by those that like video game music.Xander Cross\\n\",\n",
              " \"__label__2 Remember, Pull Your Jaw Off The Floor After Hearing it: If you've played the game, you know how divine the music is! Every single song tells a story of the game, it's that good! The greatest songs are without a doubt, Chrono Cross: Time's Scar, Magical Dreamers: The Wind, The Stars, and the Sea and Radical Dreamers: Unstolen Jewel. (Translation varies) This music is perfect if you ask me, the best it can be. Yasunori Mitsuda just poured his heart on and wrote it down on paper.\\n\"]"
            ]
          },
          "metadata": {
            "tags": []
          },
          "execution_count": 10
        }
      ]
    },
    {
      "cell_type": "code",
      "metadata": {
        "id": "ROw81W0BrkDV",
        "colab_type": "code",
        "colab": {}
      },
      "source": [
        "train_labels = [0 if x.split(' ')[0] == '__label__1' else 1 for x in train_file_lines]\n",
        "train_sentences = [x.split(' ', 1)[1][:-1].lower() for x in train_file_lines]"
      ],
      "execution_count": null,
      "outputs": []
    },
    {
      "cell_type": "code",
      "metadata": {
        "id": "hXyJYGoVrkGR",
        "colab_type": "code",
        "colab": {
          "base_uri": "https://localhost:8080/",
          "height": 34
        },
        "outputId": "029cbff0-2ec0-4e77-f53d-1d9b511131d4"
      },
      "source": [
        "train_labels[:5]"
      ],
      "execution_count": null,
      "outputs": [
        {
          "output_type": "execute_result",
          "data": {
            "text/plain": [
              "[1, 1, 1, 1, 1]"
            ]
          },
          "metadata": {
            "tags": []
          },
          "execution_count": 12
        }
      ]
    },
    {
      "cell_type": "code",
      "metadata": {
        "id": "v9VCj3ze0K3K",
        "colab_type": "code",
        "colab": {}
      },
      "source": [
        "train_sentences[:5]"
      ],
      "execution_count": null,
      "outputs": []
    },
    {
      "cell_type": "code",
      "metadata": {
        "id": "Op-m_QDL0OHO",
        "colab_type": "code",
        "colab": {}
      },
      "source": [
        "for i in range(len(train_sentences)):\n",
        "    train_sentences[i] = re.sub('\\d','0',train_sentences[i])"
      ],
      "execution_count": null,
      "outputs": []
    },
    {
      "cell_type": "code",
      "metadata": {
        "id": "JrCrNx4I0XRY",
        "colab_type": "code",
        "colab": {}
      },
      "source": [
        "train_sentences[:5]"
      ],
      "execution_count": null,
      "outputs": []
    },
    {
      "cell_type": "code",
      "metadata": {
        "id": "qa9nxicQ0kKG",
        "colab_type": "code",
        "colab": {
          "base_uri": "https://localhost:8080/",
          "height": 34
        },
        "outputId": "1482e490-34aa-4f55-b16f-eaed38489953"
      },
      "source": [
        "print(len(train_sentences))"
      ],
      "execution_count": null,
      "outputs": [
        {
          "output_type": "stream",
          "text": [
            "3600000\n"
          ],
          "name": "stdout"
        }
      ]
    },
    {
      "cell_type": "code",
      "metadata": {
        "id": "X9oE82Ih0gZL",
        "colab_type": "code",
        "colab": {}
      },
      "source": [
        "test_labels = [0 if x.split(' ')[0] == '__label__1' else 1 for x in test_file_lines]\n",
        "test_sentences = [x.split(' ', 1)[1][:-1].lower() for x in test_file_lines]\n",
        "\n",
        "for i in range(len(test_sentences)):\n",
        "    test_sentences[i] = re.sub('\\d','0',test_sentences[i])"
      ],
      "execution_count": null,
      "outputs": []
    },
    {
      "cell_type": "code",
      "metadata": {
        "id": "62-5qitp0rHW",
        "colab_type": "code",
        "colab": {
          "base_uri": "https://localhost:8080/",
          "height": 34
        },
        "outputId": "44c33299-7715-4d31-8a23-3fdafa7c6247"
      },
      "source": [
        "print(len(test_sentences))"
      ],
      "execution_count": null,
      "outputs": [
        {
          "output_type": "stream",
          "text": [
            "400000\n"
          ],
          "name": "stdout"
        }
      ]
    },
    {
      "cell_type": "code",
      "metadata": {
        "id": "iPf8LC5x0svY",
        "colab_type": "code",
        "colab": {}
      },
      "source": [
        "for i in range(len(train_sentences)):\n",
        "    if 'www.' in train_sentences[i] or 'http:' in train_sentences[i] or 'https:' in train_sentences[i] or '.com' in train_sentences[i]:\n",
        "        train_sentences[i] = re.sub(r\"([^ ]+(?<=\\.[a-z]{3}))\", \"<url>\", train_sentences[i])\n",
        "        \n",
        "for i in range(len(test_sentences)):\n",
        "    if 'www.' in test_sentences[i] or 'http:' in test_sentences[i] or 'https:' in test_sentences[i] or '.com' in test_sentences[i]:\n",
        "        test_sentences[i] = re.sub(r\"([^ ]+(?<=\\.[a-z]{3}))\", \"<url>\", test_sentences[i])"
      ],
      "execution_count": null,
      "outputs": []
    },
    {
      "cell_type": "code",
      "metadata": {
        "id": "KLtxAAwq0z_H",
        "colab_type": "code",
        "colab": {}
      },
      "source": [
        "del train_file_lines, test_file_lines"
      ],
      "execution_count": null,
      "outputs": []
    },
    {
      "cell_type": "code",
      "metadata": {
        "id": "nVAsL5oT05ca",
        "colab_type": "code",
        "colab": {
          "base_uri": "https://localhost:8080/",
          "height": 34
        },
        "outputId": "b16dfc74-48e9-44fa-84b6-33c91c14944c"
      },
      "source": [
        "gc.collect()"
      ],
      "execution_count": null,
      "outputs": [
        {
          "output_type": "execute_result",
          "data": {
            "text/plain": [
              "397"
            ]
          },
          "metadata": {
            "tags": []
          },
          "execution_count": 22
        }
      ]
    },
    {
      "cell_type": "code",
      "metadata": {
        "id": "hIYScaNu1Sfe",
        "colab_type": "code",
        "colab": {}
      },
      "source": [
        "train_sentences\n",
        "train_labels\n",
        "test_sentences\n",
        "test_labels"
      ],
      "execution_count": null,
      "outputs": []
    },
    {
      "cell_type": "code",
      "metadata": {
        "id": "yU9Is0Kh4xBW",
        "colab_type": "code",
        "colab": {
          "base_uri": "https://localhost:8080/",
          "height": 204
        },
        "outputId": "1212d493-94dd-4295-b98b-ac00782157ba"
      },
      "source": [
        "train_set=pd.concat([pd.DataFrame(train_sentences),pd.DataFrame(train_labels)],axis=1)\n",
        "train_set.columns=['review','label']\n",
        "train_set.head()"
      ],
      "execution_count": null,
      "outputs": [
        {
          "output_type": "execute_result",
          "data": {
            "text/html": [
              "<div>\n",
              "<style scoped>\n",
              "    .dataframe tbody tr th:only-of-type {\n",
              "        vertical-align: middle;\n",
              "    }\n",
              "\n",
              "    .dataframe tbody tr th {\n",
              "        vertical-align: top;\n",
              "    }\n",
              "\n",
              "    .dataframe thead th {\n",
              "        text-align: right;\n",
              "    }\n",
              "</style>\n",
              "<table border=\"1\" class=\"dataframe\">\n",
              "  <thead>\n",
              "    <tr style=\"text-align: right;\">\n",
              "      <th></th>\n",
              "      <th>review</th>\n",
              "      <th>label</th>\n",
              "    </tr>\n",
              "  </thead>\n",
              "  <tbody>\n",
              "    <tr>\n",
              "      <th>0</th>\n",
              "      <td>stuning even for the non-gamer: this sound tra...</td>\n",
              "      <td>1</td>\n",
              "    </tr>\n",
              "    <tr>\n",
              "      <th>1</th>\n",
              "      <td>the best soundtrack ever to anything.: i'm rea...</td>\n",
              "      <td>1</td>\n",
              "    </tr>\n",
              "    <tr>\n",
              "      <th>2</th>\n",
              "      <td>amazing!: this soundtrack is my favorite music...</td>\n",
              "      <td>1</td>\n",
              "    </tr>\n",
              "    <tr>\n",
              "      <th>3</th>\n",
              "      <td>excellent soundtrack: i truly like this soundt...</td>\n",
              "      <td>1</td>\n",
              "    </tr>\n",
              "    <tr>\n",
              "      <th>4</th>\n",
              "      <td>remember, pull your jaw off the floor after he...</td>\n",
              "      <td>1</td>\n",
              "    </tr>\n",
              "  </tbody>\n",
              "</table>\n",
              "</div>"
            ],
            "text/plain": [
              "                                              review  label\n",
              "0  stuning even for the non-gamer: this sound tra...      1\n",
              "1  the best soundtrack ever to anything.: i'm rea...      1\n",
              "2  amazing!: this soundtrack is my favorite music...      1\n",
              "3  excellent soundtrack: i truly like this soundt...      1\n",
              "4  remember, pull your jaw off the floor after he...      1"
            ]
          },
          "metadata": {
            "tags": []
          },
          "execution_count": 38
        }
      ]
    },
    {
      "cell_type": "code",
      "metadata": {
        "id": "facG0nYb5gir",
        "colab_type": "code",
        "colab": {
          "base_uri": "https://localhost:8080/",
          "height": 204
        },
        "outputId": "5118316e-3f35-42c8-fa38-32e86c726923"
      },
      "source": [
        "test_set=pd.concat([pd.DataFrame(test_sentences),pd.DataFrame(test_labels)],axis=1)\n",
        "test_set.columns=['review','label']\n",
        "test_set.head()"
      ],
      "execution_count": null,
      "outputs": [
        {
          "output_type": "execute_result",
          "data": {
            "text/html": [
              "<div>\n",
              "<style scoped>\n",
              "    .dataframe tbody tr th:only-of-type {\n",
              "        vertical-align: middle;\n",
              "    }\n",
              "\n",
              "    .dataframe tbody tr th {\n",
              "        vertical-align: top;\n",
              "    }\n",
              "\n",
              "    .dataframe thead th {\n",
              "        text-align: right;\n",
              "    }\n",
              "</style>\n",
              "<table border=\"1\" class=\"dataframe\">\n",
              "  <thead>\n",
              "    <tr style=\"text-align: right;\">\n",
              "      <th></th>\n",
              "      <th>review</th>\n",
              "      <th>label</th>\n",
              "    </tr>\n",
              "  </thead>\n",
              "  <tbody>\n",
              "    <tr>\n",
              "      <th>0</th>\n",
              "      <td>great cd: my lovely pat has one of the great v...</td>\n",
              "      <td>1</td>\n",
              "    </tr>\n",
              "    <tr>\n",
              "      <th>1</th>\n",
              "      <td>one of the best game music soundtracks - for a...</td>\n",
              "      <td>1</td>\n",
              "    </tr>\n",
              "    <tr>\n",
              "      <th>2</th>\n",
              "      <td>batteries died within a year ...: i bought thi...</td>\n",
              "      <td>0</td>\n",
              "    </tr>\n",
              "    <tr>\n",
              "      <th>3</th>\n",
              "      <td>works fine, but maha energy is better: check o...</td>\n",
              "      <td>1</td>\n",
              "    </tr>\n",
              "    <tr>\n",
              "      <th>4</th>\n",
              "      <td>great for the non-audiophile: reviewed quite a...</td>\n",
              "      <td>1</td>\n",
              "    </tr>\n",
              "  </tbody>\n",
              "</table>\n",
              "</div>"
            ],
            "text/plain": [
              "                                              review  label\n",
              "0  great cd: my lovely pat has one of the great v...      1\n",
              "1  one of the best game music soundtracks - for a...      1\n",
              "2  batteries died within a year ...: i bought thi...      0\n",
              "3  works fine, but maha energy is better: check o...      1\n",
              "4  great for the non-audiophile: reviewed quite a...      1"
            ]
          },
          "metadata": {
            "tags": []
          },
          "execution_count": 37
        }
      ]
    },
    {
      "cell_type": "code",
      "metadata": {
        "id": "FmhAij4D5myT",
        "colab_type": "code",
        "colab": {}
      },
      "source": [
        "train_set.to_csv('/content/drive/My Drive/Data/NLP/Kaggle_Amazone_review_sentiment/train_set.csv')\n",
        "test_set.to_csv('/content/drive/My Drive/Data/NLP/Kaggle_Amazone_review_sentiment/test_set.csv')"
      ],
      "execution_count": null,
      "outputs": []
    },
    {
      "cell_type": "markdown",
      "metadata": {
        "id": "ny_ZASKb6PWP",
        "colab_type": "text"
      },
      "source": [
        "# Code for re-process text data from Text_analytic Apress"
      ]
    },
    {
      "cell_type": "code",
      "metadata": {
        "id": "O-tCZjzJ6VFa",
        "colab_type": "code",
        "colab": {}
      },
      "source": [
        "# -*- coding: utf-8 -*-\n",
        "\"\"\"\n",
        "Created on Mon Aug 01 01:11:02 2016\n",
        "@author: DIP\n",
        "\"\"\"\n",
        "\n",
        "CONTRACTION_MAP = {\n",
        "\"ain't\": \"is not\",\n",
        "\"aren't\": \"are not\",\n",
        "\"can't\": \"cannot\",\n",
        "\"can't've\": \"cannot have\",\n",
        "\"'cause\": \"because\",\n",
        "\"could've\": \"could have\",\n",
        "\"couldn't\": \"could not\",\n",
        "\"couldn't've\": \"could not have\",\n",
        "\"didn't\": \"did not\",\n",
        "\"doesn't\": \"does not\",\n",
        "\"don't\": \"do not\",\n",
        "\"hadn't\": \"had not\",\n",
        "\"hadn't've\": \"had not have\",\n",
        "\"hasn't\": \"has not\",\n",
        "\"haven't\": \"have not\",\n",
        "\"he'd\": \"he would\",\n",
        "\"he'd've\": \"he would have\",\n",
        "\"he'll\": \"he will\",\n",
        "\"he'll've\": \"he he will have\",\n",
        "\"he's\": \"he is\",\n",
        "\"how'd\": \"how did\",\n",
        "\"how'd'y\": \"how do you\",\n",
        "\"how'll\": \"how will\",\n",
        "\"how's\": \"how is\",\n",
        "\"I'd\": \"I would\",\n",
        "\"I'd've\": \"I would have\",\n",
        "\"I'll\": \"I will\",\n",
        "\"I'll've\": \"I will have\",\n",
        "\"I'm\": \"I am\",\n",
        "\"I've\": \"I have\",\n",
        "\"i'd\": \"i would\",\n",
        "\"i'd've\": \"i would have\",\n",
        "\"i'll\": \"i will\",\n",
        "\"i'll've\": \"i will have\",\n",
        "\"i'm\": \"i am\",\n",
        "\"i've\": \"i have\",\n",
        "\"isn't\": \"is not\",\n",
        "\"it'd\": \"it would\",\n",
        "\"it'd've\": \"it would have\",\n",
        "\"it'll\": \"it will\",\n",
        "\"it'll've\": \"it will have\",\n",
        "\"it's\": \"it is\",\n",
        "\"let's\": \"let us\",\n",
        "\"ma'am\": \"madam\",\n",
        "\"mayn't\": \"may not\",\n",
        "\"might've\": \"might have\",\n",
        "\"mightn't\": \"might not\",\n",
        "\"mightn't've\": \"might not have\",\n",
        "\"must've\": \"must have\",\n",
        "\"mustn't\": \"must not\",\n",
        "\"mustn't've\": \"must not have\",\n",
        "\"needn't\": \"need not\",\n",
        "\"needn't've\": \"need not have\",\n",
        "\"o'clock\": \"of the clock\",\n",
        "\"oughtn't\": \"ought not\",\n",
        "\"oughtn't've\": \"ought not have\",\n",
        "\"shan't\": \"shall not\",\n",
        "\"sha'n't\": \"shall not\",\n",
        "\"shan't've\": \"shall not have\",\n",
        "\"she'd\": \"she would\",\n",
        "\"she'd've\": \"she would have\",\n",
        "\"she'll\": \"she will\",\n",
        "\"she'll've\": \"she will have\",\n",
        "\"she's\": \"she is\",\n",
        "\"should've\": \"should have\",\n",
        "\"shouldn't\": \"should not\",\n",
        "\"shouldn't've\": \"should not have\",\n",
        "\"so've\": \"so have\",\n",
        "\"so's\": \"so as\",\n",
        "\"that'd\": \"that would\",\n",
        "\"that'd've\": \"that would have\",\n",
        "\"that's\": \"that is\",\n",
        "\"there'd\": \"there would\",\n",
        "\"there'd've\": \"there would have\",\n",
        "\"there's\": \"there is\",\n",
        "\"they'd\": \"they would\",\n",
        "\"they'd've\": \"they would have\",\n",
        "\"they'll\": \"they will\",\n",
        "\"they'll've\": \"they will have\",\n",
        "\"they're\": \"they are\",\n",
        "\"they've\": \"they have\",\n",
        "\"to've\": \"to have\",\n",
        "\"wasn't\": \"was not\",\n",
        "\"we'd\": \"we would\",\n",
        "\"we'd've\": \"we would have\",\n",
        "\"we'll\": \"we will\",\n",
        "\"we'll've\": \"we will have\",\n",
        "\"we're\": \"we are\",\n",
        "\"we've\": \"we have\",\n",
        "\"weren't\": \"were not\",\n",
        "\"what'll\": \"what will\",\n",
        "\"what'll've\": \"what will have\",\n",
        "\"what're\": \"what are\",\n",
        "\"what's\": \"what is\",\n",
        "\"what've\": \"what have\",\n",
        "\"when's\": \"when is\",\n",
        "\"when've\": \"when have\",\n",
        "\"where'd\": \"where did\",\n",
        "\"where's\": \"where is\",\n",
        "\"where've\": \"where have\",\n",
        "\"who'll\": \"who will\",\n",
        "\"who'll've\": \"who will have\",\n",
        "\"who's\": \"who is\",\n",
        "\"who've\": \"who have\",\n",
        "\"why's\": \"why is\",\n",
        "\"why've\": \"why have\",\n",
        "\"will've\": \"will have\",\n",
        "\"won't\": \"will not\",\n",
        "\"won't've\": \"will not have\",\n",
        "\"would've\": \"would have\",\n",
        "\"wouldn't\": \"would not\",\n",
        "\"wouldn't've\": \"would not have\",\n",
        "\"y'all\": \"you all\",\n",
        "\"y'all'd\": \"you all would\",\n",
        "\"y'all'd've\": \"you all would have\",\n",
        "\"y'all're\": \"you all are\",\n",
        "\"y'all've\": \"you all have\",\n",
        "\"you'd\": \"you would\",\n",
        "\"you'd've\": \"you would have\",\n",
        "\"you'll\": \"you will\",\n",
        "\"you'll've\": \"you will have\",\n",
        "\"you're\": \"you are\",\n",
        "\"you've\": \"you have\"\n",
        "}"
      ],
      "execution_count": null,
      "outputs": []
    },
    {
      "cell_type": "code",
      "metadata": {
        "id": "ODHmdls06WNo",
        "colab_type": "code",
        "colab": {
          "base_uri": "https://localhost:8080/",
          "height": 51
        },
        "outputId": "7cc18082-88c1-44b3-efec-5c400c85c96d"
      },
      "source": [
        "import nltk\n",
        "import spacy\n",
        "import unicodedata\n",
        "#from contractions import CONTRACTION_MAP\n",
        "import re\n",
        "from nltk.corpus import wordnet\n",
        "nltk.download('stopwords')\n",
        "import collections\n",
        "#from textblob import Word\n",
        "from nltk.tokenize.toktok import ToktokTokenizer\n",
        "from bs4 import BeautifulSoup\n",
        "\n",
        "tokenizer = ToktokTokenizer()\n",
        "stopword_list = nltk.corpus.stopwords.words('english')\n",
        "nlp = spacy.load('en', parse=True, tag=True, entity=True)\n",
        "# nlp_vec = spacy.load('en_vectors_web_lg', parse=True, tag=True, entity=True)\n",
        "\n",
        "\n",
        "\n",
        "def strip_html_tags(text):\n",
        "    soup = BeautifulSoup(text, \"html.parser\")\n",
        "    if bool(soup.find()):\n",
        "        [s.extract() for s in soup(['iframe', 'script'])]\n",
        "        stripped_text = soup.get_text()\n",
        "        stripped_text = re.sub(r'[\\r|\\n|\\r\\n]+', '\\n', stripped_text)\n",
        "    else:\n",
        "        stripped_text = text\n",
        "    return stripped_text\n",
        "\n",
        "\n",
        "#def correct_spellings_textblob(tokens):\n",
        "#\treturn [Word(token).correct() for token in tokens]  \n",
        "\n",
        "\n",
        "def simple_porter_stemming(text):\n",
        "    ps = nltk.porter.PorterStemmer()\n",
        "    text = ' '.join([ps.stem(word) for word in text.split()])\n",
        "    return text\n",
        "\n",
        "\n",
        "def lemmatize_text(text):\n",
        "    text = nlp(text)\n",
        "    text = ' '.join([word.lemma_ if word.lemma_ != '-PRON-' else word.text for word in text])\n",
        "    return text\n",
        "\n",
        "\n",
        "def remove_repeated_characters(tokens):\n",
        "    repeat_pattern = re.compile(r'(\\w*)(\\w)\\2(\\w*)')\n",
        "    match_substitution = r'\\1\\2\\3'\n",
        "    def replace(old_word):\n",
        "        if wordnet.synsets(old_word):\n",
        "            return old_word\n",
        "        new_word = repeat_pattern.sub(match_substitution, old_word)\n",
        "        return replace(new_word) if new_word != old_word else new_word\n",
        "            \n",
        "    correct_tokens = [replace(word) for word in tokens]\n",
        "    return correct_tokens\n",
        "\n",
        "\n",
        "def expand_contractions(text, contraction_mapping=CONTRACTION_MAP):\n",
        "    \n",
        "    contractions_pattern = re.compile('({})'.format('|'.join(contraction_mapping.keys())), \n",
        "                                      flags=re.IGNORECASE|re.DOTALL)\n",
        "    def expand_match(contraction):\n",
        "        match = contraction.group(0)\n",
        "        first_char = match[0]\n",
        "        expanded_contraction = contraction_mapping.get(match)\\\n",
        "                                if contraction_mapping.get(match)\\\n",
        "                                else contraction_mapping.get(match.lower())                       \n",
        "        expanded_contraction = first_char+expanded_contraction[1:]\n",
        "        return expanded_contraction\n",
        "        \n",
        "    expanded_text = contractions_pattern.sub(expand_match, text)\n",
        "    expanded_text = re.sub(\"'\", \"\", expanded_text)\n",
        "    return expanded_text\n",
        "\n",
        "\n",
        "def remove_accented_chars(text):\n",
        "    text = unicodedata.normalize('NFKD', text).encode('ascii', 'ignore').decode('utf-8', 'ignore')\n",
        "    return text\n",
        "\n",
        "\n",
        "def remove_special_characters(text, remove_digits=False):\n",
        "    pattern = r'[^a-zA-Z0-9\\s]|\\[|\\]' if not remove_digits else r'[^a-zA-Z\\s]|\\[|\\]'\n",
        "    text = re.sub(pattern, '', text)\n",
        "    return text\n",
        "\n",
        "\n",
        "def remove_stopwords(text, is_lower_case=False, stopwords=stopword_list):\n",
        "    tokens = tokenizer.tokenize(text)\n",
        "    tokens = [token.strip() for token in tokens]\n",
        "    if is_lower_case:\n",
        "        filtered_tokens = [token for token in tokens if token not in stopwords]\n",
        "    else:\n",
        "        filtered_tokens = [token for token in tokens if token.lower() not in stopwords]\n",
        "    filtered_text = ' '.join(filtered_tokens)    \n",
        "    return filtered_text\n",
        "\n",
        "\n",
        "def normalize_corpus(corpus, html_stripping=True, contraction_expansion=True,\n",
        "                     accented_char_removal=True, text_lower_case=True, \n",
        "                     text_stemming=False, text_lemmatization=True, \n",
        "                     special_char_removal=True, remove_digits=True,\n",
        "                     stopword_removal=True, stopwords=stopword_list):\n",
        "    \n",
        "    normalized_corpus = []\n",
        "    # normalize each document in the corpus\n",
        "    for doc in corpus:\n",
        "\n",
        "        # strip HTML\n",
        "        if html_stripping:\n",
        "            doc = strip_html_tags(doc)\n",
        "\n",
        "        # remove extra newlines\n",
        "        doc = doc.translate(doc.maketrans(\"\\n\\t\\r\", \"   \"))\n",
        "\n",
        "        # remove accented characters\n",
        "        if accented_char_removal:\n",
        "            doc = remove_accented_chars(doc)\n",
        "\n",
        "        # expand contractions    \n",
        "        if contraction_expansion:\n",
        "            doc = expand_contractions(doc)\n",
        "\n",
        "        # lemmatize text\n",
        "        if text_lemmatization:\n",
        "            doc = lemmatize_text(doc)\n",
        "\n",
        "        # stem text\n",
        "        if text_stemming and not text_lemmatization:\n",
        "        \tdoc = simple_porter_stemming(doc)\n",
        "\n",
        "        # remove special characters and\\or digits    \n",
        "        if special_char_removal:\n",
        "            # insert spaces between special characters to isolate them    \n",
        "            special_char_pattern = re.compile(r'([{.(-)!}])')\n",
        "            doc = special_char_pattern.sub(\" \\\\1 \", doc)\n",
        "            doc = remove_special_characters(doc, remove_digits=remove_digits)  \n",
        "\n",
        "        # remove extra whitespace\n",
        "        doc = re.sub(' +', ' ', doc)\n",
        "\n",
        "         # lowercase the text    \n",
        "        if text_lower_case:\n",
        "            doc = doc.lower()\n",
        "\n",
        "        # remove stopwords\n",
        "        if stopword_removal:\n",
        "            doc = remove_stopwords(doc, is_lower_case=text_lower_case, stopwords=stopwords)\n",
        "\n",
        "        # remove extra whitespace\n",
        "        doc = re.sub(' +', ' ', doc)\n",
        "        doc = doc.strip()\n",
        "            \n",
        "        normalized_corpus.append(doc)\n",
        "        \n",
        "    return normalized_corpus"
      ],
      "execution_count": null,
      "outputs": [
        {
          "output_type": "stream",
          "text": [
            "[nltk_data] Downloading package stopwords to /root/nltk_data...\n",
            "[nltk_data]   Unzipping corpora/stopwords.zip.\n"
          ],
          "name": "stdout"
        }
      ]
    },
    {
      "cell_type": "markdown",
      "metadata": {
        "id": "u4itx8LE1OC7",
        "colab_type": "text"
      },
      "source": [
        "# Ch09a - Sentiment Analysis - Unsupervised Lexical.ipynb"
      ]
    },
    {
      "cell_type": "markdown",
      "metadata": {
        "id": "YF3Q4cAxtRod",
        "colab_type": "text"
      },
      "source": [
        "No need to re-process data before training"
      ]
    },
    {
      "cell_type": "markdown",
      "metadata": {
        "id": "UCH_xUOS6GMY",
        "colab_type": "text"
      },
      "source": [
        "## Sentiment Analysis with textblob"
      ]
    },
    {
      "cell_type": "code",
      "metadata": {
        "id": "jMwRJ05y6Clx",
        "colab_type": "code",
        "colab": {}
      },
      "source": [
        "import pandas as pd\n",
        "import numpy as np\n",
        "#import text_normalizer as tn # specific ebook library\n",
        "#import model_evaluation_utils as meu # specific ebook library\n",
        "import nltk\n",
        "import textblob\n",
        "from sklearn.model_selection import train_test_split\n",
        "from sklearn.metrics import confusion_matrix\n",
        "from sklearn.metrics import classification_report\n",
        "from sklearn.metrics import accuracy_score"
      ],
      "execution_count": null,
      "outputs": []
    },
    {
      "cell_type": "code",
      "metadata": {
        "id": "Qfk5j-aI07TF",
        "colab_type": "code",
        "colab": {}
      },
      "source": [
        "train_set=pd.read_csv('/content/drive/My Drive/Data/NLP/Kaggle_Amazone_review_sentiment/train_set.csv')\n",
        "test_set=pd.read_csv('/content/drive/My Drive/Data/NLP/Kaggle_Amazone_review_sentiment/test_set.csv')"
      ],
      "execution_count": null,
      "outputs": []
    },
    {
      "cell_type": "code",
      "metadata": {
        "id": "CsuRJU6E59Nm",
        "colab_type": "code",
        "colab": {
          "base_uri": "https://localhost:8080/",
          "height": 51
        },
        "outputId": "7d686988-63ce-4283-d12e-746aae9dbbc4"
      },
      "source": [
        "print(train_set.shape)\n",
        "print(test_set.shape)"
      ],
      "execution_count": null,
      "outputs": [
        {
          "output_type": "stream",
          "text": [
            "(3600000, 3)\n",
            "(400000, 3)\n"
          ],
          "name": "stdout"
        }
      ]
    },
    {
      "cell_type": "code",
      "metadata": {
        "id": "W9s4SsF-6ubT",
        "colab_type": "code",
        "colab": {
          "base_uri": "https://localhost:8080/",
          "height": 204
        },
        "outputId": "5c08c9c0-7182-476a-8de8-938b025d3a1f"
      },
      "source": [
        "test_set.head()"
      ],
      "execution_count": null,
      "outputs": [
        {
          "output_type": "execute_result",
          "data": {
            "text/html": [
              "<div>\n",
              "<style scoped>\n",
              "    .dataframe tbody tr th:only-of-type {\n",
              "        vertical-align: middle;\n",
              "    }\n",
              "\n",
              "    .dataframe tbody tr th {\n",
              "        vertical-align: top;\n",
              "    }\n",
              "\n",
              "    .dataframe thead th {\n",
              "        text-align: right;\n",
              "    }\n",
              "</style>\n",
              "<table border=\"1\" class=\"dataframe\">\n",
              "  <thead>\n",
              "    <tr style=\"text-align: right;\">\n",
              "      <th></th>\n",
              "      <th>Unnamed: 0</th>\n",
              "      <th>review</th>\n",
              "      <th>label</th>\n",
              "    </tr>\n",
              "  </thead>\n",
              "  <tbody>\n",
              "    <tr>\n",
              "      <th>0</th>\n",
              "      <td>0</td>\n",
              "      <td>great cd: my lovely pat has one of the great v...</td>\n",
              "      <td>1</td>\n",
              "    </tr>\n",
              "    <tr>\n",
              "      <th>1</th>\n",
              "      <td>1</td>\n",
              "      <td>one of the best game music soundtracks - for a...</td>\n",
              "      <td>1</td>\n",
              "    </tr>\n",
              "    <tr>\n",
              "      <th>2</th>\n",
              "      <td>2</td>\n",
              "      <td>batteries died within a year ...: i bought thi...</td>\n",
              "      <td>0</td>\n",
              "    </tr>\n",
              "    <tr>\n",
              "      <th>3</th>\n",
              "      <td>3</td>\n",
              "      <td>works fine, but maha energy is better: check o...</td>\n",
              "      <td>1</td>\n",
              "    </tr>\n",
              "    <tr>\n",
              "      <th>4</th>\n",
              "      <td>4</td>\n",
              "      <td>great for the non-audiophile: reviewed quite a...</td>\n",
              "      <td>1</td>\n",
              "    </tr>\n",
              "  </tbody>\n",
              "</table>\n",
              "</div>"
            ],
            "text/plain": [
              "   Unnamed: 0                                             review  label\n",
              "0           0  great cd: my lovely pat has one of the great v...      1\n",
              "1           1  one of the best game music soundtracks - for a...      1\n",
              "2           2  batteries died within a year ...: i bought thi...      0\n",
              "3           3  works fine, but maha energy is better: check o...      1\n",
              "4           4  great for the non-audiophile: reviewed quite a...      1"
            ]
          },
          "metadata": {
            "tags": []
          },
          "execution_count": 5
        }
      ]
    },
    {
      "cell_type": "code",
      "metadata": {
        "id": "rUt_F1q96qeN",
        "colab_type": "code",
        "colab": {}
      },
      "source": [
        "reviews = np.array(test_set['review'])\n",
        "sentiments = np.array(test_set['label'])\n",
        "split_ratio=0.7\n",
        "split=int(test_set.shape[0]*0.7)\n",
        "test_reviews = reviews[split:]\n",
        "test_sentiments = sentiments[split:]\n",
        "sample_review_ids = [0, 200, 500]"
      ],
      "execution_count": null,
      "outputs": []
    },
    {
      "cell_type": "code",
      "metadata": {
        "id": "Bexjv1pK60tQ",
        "colab_type": "code",
        "colab": {
          "base_uri": "https://localhost:8080/",
          "height": 241
        },
        "outputId": "b46bff1d-05a5-4624-e83d-2f0074e97c1c"
      },
      "source": [
        "for review, sentiment in zip(test_reviews[sample_review_ids], test_sentiments[sample_review_ids]):\n",
        "    print('REVIEW:', review)\n",
        "    print('Actual Sentiment:', sentiment)\n",
        "    print('Predicted Sentiment polarity:', textblob.TextBlob(review).sentiment.polarity)\n",
        "    print('-'*60)"
      ],
      "execution_count": null,
      "outputs": [
        {
          "output_type": "stream",
          "text": [
            "REVIEW: amazing compositions, performances and recording quality!: having purchased and enjoyed the other 0 star disc of this group i had to see what \"closer\" was like.this disc is even better in many respects.the compositions are so clever, the arrangements perfect and the recording/mixing are stunning.would love to see a live concert here in new zealand!\n",
            "Actual Sentiment: 1\n",
            "Predicted Sentiment polarity: 0.40984848484848485\n",
            "------------------------------------------------------------\n",
            "REVIEW: i liked it: great story, no violence, nudity, profanity, a movie everyone can watch and enjoy. i would recommend this movie to anyone\n",
            "Actual Sentiment: 1\n",
            "Predicted Sentiment polarity: 0.6\n",
            "------------------------------------------------------------\n",
            "REVIEW: poor bob, victim of himself!: awful. i mean, really awful...and i liked \"self portrait\" because you knew dylan was just trying to have some fun with his image. this album is just a disaster. the lyrics are ok on most songs (i've seen worse by dylan), but the music is unexciting, not very creative, and downright embarrassing on some tracks. why, oh, why did you have to make an album like this, bob? such talented people at your disposal for these sessions, and you threw it away on garbage arrangements. shameful. really sad.\n",
            "Actual Sentiment: 0\n",
            "Predicted Sentiment polarity: -0.007039835164835172\n",
            "------------------------------------------------------------\n"
          ],
          "name": "stdout"
        }
      ]
    },
    {
      "cell_type": "code",
      "metadata": {
        "id": "NTiG2btK7NcT",
        "colab_type": "code",
        "colab": {
          "base_uri": "https://localhost:8080/",
          "height": 170
        },
        "outputId": "f51f1c76-45d9-489c-ae23-82e04c50113c"
      },
      "source": [
        "sentiment_polarity = [textblob.TextBlob(review).sentiment.polarity for review in test_reviews]\n",
        "predicted_sentiments = [1 if score >= 0.1 else 0 for score in sentiment_polarity]\n",
        "print(classification_report(test_sentiments,predicted_sentiments))"
      ],
      "execution_count": null,
      "outputs": [
        {
          "output_type": "stream",
          "text": [
            "              precision    recall  f1-score   support\n",
            "\n",
            "           0       0.83      0.65      0.73     60301\n",
            "           1       0.71      0.87      0.78     59699\n",
            "\n",
            "    accuracy                           0.76    120000\n",
            "   macro avg       0.77      0.76      0.76    120000\n",
            "weighted avg       0.77      0.76      0.76    120000\n",
            "\n"
          ],
          "name": "stdout"
        }
      ]
    },
    {
      "cell_type": "markdown",
      "metadata": {
        "id": "JhvBk9kC7eh8",
        "colab_type": "text"
      },
      "source": [
        "## Sentiment Analysis with AFINN"
      ]
    },
    {
      "cell_type": "code",
      "metadata": {
        "id": "zZvs_jTW7Xyc",
        "colab_type": "code",
        "colab": {
          "base_uri": "https://localhost:8080/",
          "height": 207
        },
        "outputId": "16e1b948-245d-4f32-9fea-800e5ee8106a"
      },
      "source": [
        "!pip install afinn\n",
        "from afinn import Afinn\n",
        "afn = Afinn(emoticons=True)"
      ],
      "execution_count": null,
      "outputs": [
        {
          "output_type": "stream",
          "text": [
            "Collecting afinn\n",
            "\u001b[?25l  Downloading https://files.pythonhosted.org/packages/86/e5/ffbb7ee3cca21ac6d310ac01944fb163c20030b45bda25421d725d8a859a/afinn-0.1.tar.gz (52kB)\n",
            "\r\u001b[K     |██████▎                         | 10kB 17.6MB/s eta 0:00:01\r\u001b[K     |████████████▌                   | 20kB 1.7MB/s eta 0:00:01\r\u001b[K     |██████████████████▊             | 30kB 2.3MB/s eta 0:00:01\r\u001b[K     |█████████████████████████       | 40kB 2.6MB/s eta 0:00:01\r\u001b[K     |███████████████████████████████▏| 51kB 2.0MB/s eta 0:00:01\r\u001b[K     |████████████████████████████████| 61kB 1.9MB/s \n",
            "\u001b[?25hBuilding wheels for collected packages: afinn\n",
            "  Building wheel for afinn (setup.py) ... \u001b[?25l\u001b[?25hdone\n",
            "  Created wheel for afinn: filename=afinn-0.1-cp36-none-any.whl size=53452 sha256=001d03417353dd2aadb3386448da728e155d6b6bf9a505f507cd1799791be206\n",
            "  Stored in directory: /root/.cache/pip/wheels/b5/1c/de/428301f3333ca509dcf20ff358690eb23a1388fbcbbde008b2\n",
            "Successfully built afinn\n",
            "Installing collected packages: afinn\n",
            "Successfully installed afinn-0.1\n"
          ],
          "name": "stdout"
        }
      ]
    },
    {
      "cell_type": "code",
      "metadata": {
        "id": "d8WVtTAz7hsV",
        "colab_type": "code",
        "colab": {
          "base_uri": "https://localhost:8080/",
          "height": 241
        },
        "outputId": "97110629-b292-4ade-a856-687b83a8e02b"
      },
      "source": [
        "for review, sentiment in zip(test_reviews[sample_review_ids], test_sentiments[sample_review_ids]):\n",
        "    print('REVIEW:', review)\n",
        "    print('Actual Sentiment:', sentiment)\n",
        "    print('Predicted Sentiment polarity:', afn.score(review))\n",
        "    print('-'*60)"
      ],
      "execution_count": null,
      "outputs": [
        {
          "output_type": "stream",
          "text": [
            "REVIEW: amazing compositions, performances and recording quality!: having purchased and enjoyed the other 0 star disc of this group i had to see what \"closer\" was like.this disc is even better in many respects.the compositions are so clever, the arrangements perfect and the recording/mixing are stunning.would love to see a live concert here in new zealand!\n",
            "Actual Sentiment: 1\n",
            "Predicted Sentiment polarity: 26.0\n",
            "------------------------------------------------------------\n",
            "REVIEW: i liked it: great story, no violence, nudity, profanity, a movie everyone can watch and enjoy. i would recommend this movie to anyone\n",
            "Actual Sentiment: 1\n",
            "Predicted Sentiment polarity: 5.0\n",
            "------------------------------------------------------------\n",
            "REVIEW: poor bob, victim of himself!: awful. i mean, really awful...and i liked \"self portrait\" because you knew dylan was just trying to have some fun with his image. this album is just a disaster. the lyrics are ok on most songs (i've seen worse by dylan), but the music is unexciting, not very creative, and downright embarrassing on some tracks. why, oh, why did you have to make an album like this, bob? such talented people at your disposal for these sessions, and you threw it away on garbage arrangements. shameful. really sad.\n",
            "Actual Sentiment: 0\n",
            "Predicted Sentiment polarity: -13.0\n",
            "------------------------------------------------------------\n"
          ],
          "name": "stdout"
        }
      ]
    },
    {
      "cell_type": "code",
      "metadata": {
        "id": "lBLIgknu7hxp",
        "colab_type": "code",
        "colab": {
          "base_uri": "https://localhost:8080/",
          "height": 170
        },
        "outputId": "cbfdad77-0674-419f-967e-304941015c58"
      },
      "source": [
        "sentiment_polarity = [afn.score(review) for review in test_reviews]\n",
        "predicted_sentiments = [1 if score >= 1.0 else 0 for score in sentiment_polarity]\n",
        "print(classification_report(test_sentiments,predicted_sentiments))"
      ],
      "execution_count": null,
      "outputs": [
        {
          "output_type": "stream",
          "text": [
            "              precision    recall  f1-score   support\n",
            "\n",
            "           0       0.86      0.50      0.63     60301\n",
            "           1       0.64      0.92      0.76     59699\n",
            "\n",
            "    accuracy                           0.71    120000\n",
            "   macro avg       0.75      0.71      0.69    120000\n",
            "weighted avg       0.75      0.71      0.69    120000\n",
            "\n"
          ],
          "name": "stdout"
        }
      ]
    },
    {
      "cell_type": "markdown",
      "metadata": {
        "id": "TgT_8STq7yxE",
        "colab_type": "text"
      },
      "source": [
        "## Sentiment Analysis with SentiWordNet (VERY LONG, not stable)"
      ]
    },
    {
      "cell_type": "code",
      "metadata": {
        "id": "EoCe0OTT7h01",
        "colab_type": "code",
        "colab": {
          "base_uri": "https://localhost:8080/",
          "height": 136
        },
        "outputId": "975de5fe-e7ae-4a90-9462-91628bec9392"
      },
      "source": [
        "from nltk.corpus import sentiwordnet as swn\n",
        "import nltk\n",
        "nltk.download('sentiwordnet')\n",
        "nltk.download('wordnet')\n",
        "\n",
        "awesome = list(swn.senti_synsets('awesome', 'a'))[0]\n",
        "print('Positive Polarity Score:', awesome.pos_score())\n",
        "print('Negative Polarity Score:', awesome.neg_score())\n",
        "print('Objective Score:', awesome.obj_score())"
      ],
      "execution_count": null,
      "outputs": [
        {
          "output_type": "stream",
          "text": [
            "[nltk_data] Downloading package sentiwordnet to /root/nltk_data...\n",
            "[nltk_data]   Package sentiwordnet is already up-to-date!\n",
            "[nltk_data] Downloading package wordnet to /root/nltk_data...\n",
            "[nltk_data]   Package wordnet is already up-to-date!\n",
            "Positive Polarity Score: 0.875\n",
            "Negative Polarity Score: 0.125\n",
            "Objective Score: 0.0\n"
          ],
          "name": "stdout"
        }
      ]
    },
    {
      "cell_type": "code",
      "metadata": {
        "id": "LsJeGIF071P_",
        "colab_type": "code",
        "colab": {}
      },
      "source": [
        "def analyze_sentiment_sentiwordnet_lexicon(review,\n",
        "                                           verbose=False):\n",
        "\n",
        "    # tokenize and POS tag text tokens\n",
        "    tagged_text = [(token.text, token.tag_) for token in nlp(review)] # from text_normalizer.py\n",
        "    pos_score = neg_score = token_count = obj_score = 0\n",
        "    # get wordnet synsets based on POS tags\n",
        "    # get sentiment scores if synsets are found\n",
        "    for word, tag in tagged_text:\n",
        "        ss_set = None\n",
        "        if 'NN' in tag and list(swn.senti_synsets(word, 'n')):\n",
        "            ss_set = list(swn.senti_synsets(word, 'n'))[0]\n",
        "        elif 'VB' in tag and list(swn.senti_synsets(word, 'v')):\n",
        "            ss_set = list(swn.senti_synsets(word, 'v'))[0]\n",
        "        elif 'JJ' in tag and list(swn.senti_synsets(word, 'a')):\n",
        "            ss_set = list(swn.senti_synsets(word, 'a'))[0]\n",
        "        elif 'RB' in tag and list(swn.senti_synsets(word, 'r')):\n",
        "            ss_set = list(swn.senti_synsets(word, 'r'))[0]\n",
        "        # if senti-synset is found        \n",
        "        if ss_set:\n",
        "            # add scores for all found synsets\n",
        "            pos_score += ss_set.pos_score()\n",
        "            neg_score += ss_set.neg_score()\n",
        "            obj_score += ss_set.obj_score()\n",
        "            token_count += 1\n",
        "    \n",
        "    # aggregate final scores\n",
        "    final_score = pos_score - neg_score\n",
        "    norm_final_score = round(float(final_score) / token_count, 2)\n",
        "    final_sentiment = 1 if norm_final_score >= 0 else 0\n",
        "    if verbose:\n",
        "        norm_obj_score = round(float(obj_score) / token_count, 2)\n",
        "        norm_pos_score = round(float(pos_score) / token_count, 2)\n",
        "        norm_neg_score = round(float(neg_score) / token_count, 2)\n",
        "        # to display results in a nice table\n",
        "        sentiment_frame = pd.DataFrame([[final_sentiment, norm_obj_score, norm_pos_score, \n",
        "                                         norm_neg_score, norm_final_score]],\n",
        "                                       columns = ['Predicted Sentiment', 'Objectivity',\n",
        "                                                     'Positive', 'Negative', 'Overall']\n",
        "                                       #columns=pd.MultiIndex(levels=[['SENTIMENT STATS:'], \n",
        "                                       #                      ['Predicted Sentiment', 'Objectivity',\n",
        "                                        #                      'Positive', 'Negative', 'Overall']], \n",
        "                                       #                      labels=[[0,0,0,0,0],[0,1,2,3,4]])\n",
        "                                       )\n",
        "        print(sentiment_frame)\n",
        "        \n",
        "    return final_sentiment"
      ],
      "execution_count": null,
      "outputs": []
    },
    {
      "cell_type": "code",
      "metadata": {
        "id": "cJ-hndov74hd",
        "colab_type": "code",
        "colab": {
          "base_uri": "https://localhost:8080/",
          "height": 292
        },
        "outputId": "a143c89c-a232-4ef4-ed2f-cf3ff568bc3b"
      },
      "source": [
        "for review, sentiment in zip(test_reviews[sample_review_ids], test_sentiments[sample_review_ids]):\n",
        "    print('REVIEW:', review)\n",
        "    print('Actual Sentiment:', sentiment)\n",
        "    pred = analyze_sentiment_sentiwordnet_lexicon(review, verbose=True)    \n",
        "    print('-'*60)"
      ],
      "execution_count": null,
      "outputs": [
        {
          "output_type": "stream",
          "text": [
            "REVIEW: amazing compositions, performances and recording quality!: having purchased and enjoyed the other 0 star disc of this group i had to see what \"closer\" was like.this disc is even better in many respects.the compositions are so clever, the arrangements perfect and the recording/mixing are stunning.would love to see a live concert here in new zealand!\n",
            "Actual Sentiment: 1\n",
            "   Predicted Sentiment  Objectivity  Positive  Negative  Overall\n",
            "0                    1         0.81      0.15      0.04     0.11\n",
            "------------------------------------------------------------\n",
            "REVIEW: i liked it: great story, no violence, nudity, profanity, a movie everyone can watch and enjoy. i would recommend this movie to anyone\n",
            "Actual Sentiment: 1\n",
            "   Predicted Sentiment  Objectivity  Positive  Negative  Overall\n",
            "0                    1         0.88      0.07      0.06     0.01\n",
            "------------------------------------------------------------\n",
            "REVIEW: poor bob, victim of himself!: awful. i mean, really awful...and i liked \"self portrait\" because you knew dylan was just trying to have some fun with his image. this album is just a disaster. the lyrics are ok on most songs (i've seen worse by dylan), but the music is unexciting, not very creative, and downright embarrassing on some tracks. why, oh, why did you have to make an album like this, bob? such talented people at your disposal for these sessions, and you threw it away on garbage arrangements. shameful. really sad.\n",
            "Actual Sentiment: 0\n",
            "   Predicted Sentiment  Objectivity  Positive  Negative  Overall\n",
            "0                    0         0.77       0.1      0.13    -0.03\n",
            "------------------------------------------------------------\n"
          ],
          "name": "stdout"
        }
      ]
    },
    {
      "cell_type": "code",
      "metadata": {
        "id": "4aDN5YCL7hvo",
        "colab_type": "code",
        "colab": {
          "base_uri": "https://localhost:8080/",
          "height": 340
        },
        "outputId": "3bd3c163-69a7-497d-8c49-2e90df8556ae"
      },
      "source": [
        "#norm_test_reviews = normalize_corpus(test_reviews)\n",
        "#predicted_sentiments = [analyze_sentiment_sentiwordnet_lexicon(review, verbose=False) for review in norm_test_reviews]"
      ],
      "execution_count": null,
      "outputs": [
        {
          "output_type": "error",
          "ename": "ZeroDivisionError",
          "evalue": "ignored",
          "traceback": [
            "\u001b[0;31m---------------------------------------------------------------------------\u001b[0m",
            "\u001b[0;31mZeroDivisionError\u001b[0m                         Traceback (most recent call last)",
            "\u001b[0;32m<ipython-input-25-17a9bd005996>\u001b[0m in \u001b[0;36m<module>\u001b[0;34m()\u001b[0m\n\u001b[1;32m      1\u001b[0m \u001b[0mnorm_test_reviews\u001b[0m \u001b[0;34m=\u001b[0m \u001b[0mnormalize_corpus\u001b[0m\u001b[0;34m(\u001b[0m\u001b[0mtest_reviews\u001b[0m\u001b[0;34m)\u001b[0m\u001b[0;34m\u001b[0m\u001b[0;34m\u001b[0m\u001b[0m\n\u001b[0;32m----> 2\u001b[0;31m \u001b[0mpredicted_sentiments\u001b[0m \u001b[0;34m=\u001b[0m \u001b[0;34m[\u001b[0m\u001b[0manalyze_sentiment_sentiwordnet_lexicon\u001b[0m\u001b[0;34m(\u001b[0m\u001b[0mreview\u001b[0m\u001b[0;34m,\u001b[0m \u001b[0mverbose\u001b[0m\u001b[0;34m=\u001b[0m\u001b[0;32mFalse\u001b[0m\u001b[0;34m)\u001b[0m \u001b[0;32mfor\u001b[0m \u001b[0mreview\u001b[0m \u001b[0;32min\u001b[0m \u001b[0mnorm_test_reviews\u001b[0m\u001b[0;34m]\u001b[0m\u001b[0;34m\u001b[0m\u001b[0;34m\u001b[0m\u001b[0m\n\u001b[0m",
            "\u001b[0;32m<ipython-input-25-17a9bd005996>\u001b[0m in \u001b[0;36m<listcomp>\u001b[0;34m(.0)\u001b[0m\n\u001b[1;32m      1\u001b[0m \u001b[0mnorm_test_reviews\u001b[0m \u001b[0;34m=\u001b[0m \u001b[0mnormalize_corpus\u001b[0m\u001b[0;34m(\u001b[0m\u001b[0mtest_reviews\u001b[0m\u001b[0;34m)\u001b[0m\u001b[0;34m\u001b[0m\u001b[0;34m\u001b[0m\u001b[0m\n\u001b[0;32m----> 2\u001b[0;31m \u001b[0mpredicted_sentiments\u001b[0m \u001b[0;34m=\u001b[0m \u001b[0;34m[\u001b[0m\u001b[0manalyze_sentiment_sentiwordnet_lexicon\u001b[0m\u001b[0;34m(\u001b[0m\u001b[0mreview\u001b[0m\u001b[0;34m,\u001b[0m \u001b[0mverbose\u001b[0m\u001b[0;34m=\u001b[0m\u001b[0;32mFalse\u001b[0m\u001b[0;34m)\u001b[0m \u001b[0;32mfor\u001b[0m \u001b[0mreview\u001b[0m \u001b[0;32min\u001b[0m \u001b[0mnorm_test_reviews\u001b[0m\u001b[0;34m]\u001b[0m\u001b[0;34m\u001b[0m\u001b[0;34m\u001b[0m\u001b[0m\n\u001b[0m",
            "\u001b[0;32m<ipython-input-23-abc0c0544880>\u001b[0m in \u001b[0;36manalyze_sentiment_sentiwordnet_lexicon\u001b[0;34m(review, verbose)\u001b[0m\n\u001b[1;32m     27\u001b[0m     \u001b[0;31m# aggregate final scores\u001b[0m\u001b[0;34m\u001b[0m\u001b[0;34m\u001b[0m\u001b[0;34m\u001b[0m\u001b[0m\n\u001b[1;32m     28\u001b[0m     \u001b[0mfinal_score\u001b[0m \u001b[0;34m=\u001b[0m \u001b[0mpos_score\u001b[0m \u001b[0;34m-\u001b[0m \u001b[0mneg_score\u001b[0m\u001b[0;34m\u001b[0m\u001b[0;34m\u001b[0m\u001b[0m\n\u001b[0;32m---> 29\u001b[0;31m     \u001b[0mnorm_final_score\u001b[0m \u001b[0;34m=\u001b[0m \u001b[0mround\u001b[0m\u001b[0;34m(\u001b[0m\u001b[0mfloat\u001b[0m\u001b[0;34m(\u001b[0m\u001b[0mfinal_score\u001b[0m\u001b[0;34m)\u001b[0m \u001b[0;34m/\u001b[0m \u001b[0mtoken_count\u001b[0m\u001b[0;34m,\u001b[0m \u001b[0;36m2\u001b[0m\u001b[0;34m)\u001b[0m\u001b[0;34m\u001b[0m\u001b[0;34m\u001b[0m\u001b[0m\n\u001b[0m\u001b[1;32m     30\u001b[0m     \u001b[0mfinal_sentiment\u001b[0m \u001b[0;34m=\u001b[0m \u001b[0;36m1\u001b[0m \u001b[0;32mif\u001b[0m \u001b[0mnorm_final_score\u001b[0m \u001b[0;34m>=\u001b[0m \u001b[0;36m0\u001b[0m \u001b[0;32melse\u001b[0m \u001b[0;36m0\u001b[0m\u001b[0;34m\u001b[0m\u001b[0;34m\u001b[0m\u001b[0m\n\u001b[1;32m     31\u001b[0m     \u001b[0;32mif\u001b[0m \u001b[0mverbose\u001b[0m\u001b[0;34m:\u001b[0m\u001b[0;34m\u001b[0m\u001b[0;34m\u001b[0m\u001b[0m\n",
            "\u001b[0;31mZeroDivisionError\u001b[0m: float division by zero"
          ]
        }
      ]
    },
    {
      "cell_type": "code",
      "metadata": {
        "id": "w4nnNfTV8CSo",
        "colab_type": "code",
        "colab": {}
      },
      "source": [
        "print(classification_report(test_sentiments,predicted_sentiments))"
      ],
      "execution_count": null,
      "outputs": []
    },
    {
      "cell_type": "markdown",
      "metadata": {
        "id": "Hj-V4Ayk8Xi3",
        "colab_type": "text"
      },
      "source": [
        "## Sentiment Analysis with VADER"
      ]
    },
    {
      "cell_type": "code",
      "metadata": {
        "id": "zcAloXxG8WPr",
        "colab_type": "code",
        "colab": {
          "base_uri": "https://localhost:8080/",
          "height": 105
        },
        "outputId": "6b1d9b4e-3dba-4abd-d75f-acdfc816aad9"
      },
      "source": [
        "from nltk.sentiment.vader import SentimentIntensityAnalyzer\n",
        "import nltk\n",
        "nltk.download('vader_lexicon')"
      ],
      "execution_count": null,
      "outputs": [
        {
          "output_type": "stream",
          "text": [
            "[nltk_data] Downloading package vader_lexicon to /root/nltk_data...\n"
          ],
          "name": "stdout"
        },
        {
          "output_type": "stream",
          "text": [
            "/usr/local/lib/python3.6/dist-packages/nltk/twitter/__init__.py:20: UserWarning: The twython library has not been installed. Some functionality from the twitter package will not be available.\n",
            "  warnings.warn(\"The twython library has not been installed. \"\n"
          ],
          "name": "stderr"
        },
        {
          "output_type": "execute_result",
          "data": {
            "text/plain": [
              "True"
            ]
          },
          "metadata": {
            "tags": []
          },
          "execution_count": 18
        }
      ]
    },
    {
      "cell_type": "code",
      "metadata": {
        "id": "y1vUtH5h8ZN6",
        "colab_type": "code",
        "colab": {}
      },
      "source": [
        "def analyze_sentiment_vader_lexicon(review, \n",
        "                                    threshold=0.1,\n",
        "                                    verbose=False):\n",
        "    # pre-process text\n",
        "    review = strip_html_tags(review)\n",
        "    review = remove_accented_chars(review)\n",
        "    review = expand_contractions(review)\n",
        "    \n",
        "    # analyze the sentiment for review\n",
        "    analyzer = SentimentIntensityAnalyzer()\n",
        "    scores = analyzer.polarity_scores(review)\n",
        "    # get aggregate scores and final sentiment\n",
        "    agg_score = scores['compound']\n",
        "    final_sentiment = 1 if agg_score >= threshold else 0\n",
        "    #1: positive, o: negative\n",
        "    if verbose:\n",
        "        # display detailed sentiment statistics\n",
        "        positive = str(round(scores['pos'], 2)*100)+'%'\n",
        "        final = round(agg_score, 2)\n",
        "        negative = str(round(scores['neg'], 2)*100)+'%'\n",
        "        neutral = str(round(scores['neu'], 2)*100)+'%'\n",
        "        sentiment_frame = pd.DataFrame([[final_sentiment, final, positive,\n",
        "                                        negative, neutral]],\n",
        "                                       columns = ['Predicted Sentiment', 'Polarity Score',\n",
        "                                                     'Positive', 'Negative', 'Overall']\n",
        "                                        #columns=pd.MultiIndex(levels=[['SENTIMENT STATS:'], \n",
        "                                        #                              ['Predicted Sentiment', 'Polarity Score',\n",
        "                                         #                              'Positive', 'Negative', 'Neutral']], \n",
        "                                          #                    labels=[[0,0,0,0,0],[0,1,2,3,4]])\n",
        "                                        )\n",
        "        print(sentiment_frame)\n",
        "    \n",
        "    return final_sentiment"
      ],
      "execution_count": null,
      "outputs": []
    },
    {
      "cell_type": "code",
      "metadata": {
        "id": "YxUL2W0t8aNi",
        "colab_type": "code",
        "colab": {
          "base_uri": "https://localhost:8080/",
          "height": 292
        },
        "outputId": "286631c7-8f24-417e-c4fd-eff280b85b08"
      },
      "source": [
        "for review, sentiment in zip(test_reviews[sample_review_ids], test_sentiments[sample_review_ids]):\n",
        "    print('REVIEW:', review)\n",
        "    print('Actual Sentiment:', sentiment)\n",
        "    pred = analyze_sentiment_vader_lexicon(review, threshold=0.4, verbose=True)    \n",
        "    print('-'*60)"
      ],
      "execution_count": null,
      "outputs": [
        {
          "output_type": "stream",
          "text": [
            "REVIEW: amazing compositions, performances and recording quality!: having purchased and enjoyed the other 0 star disc of this group i had to see what \"closer\" was like.this disc is even better in many respects.the compositions are so clever, the arrangements perfect and the recording/mixing are stunning.would love to see a live concert here in new zealand!\n",
            "Actual Sentiment: 1\n",
            "   Predicted Sentiment  Polarity Score Positive Negative Overall\n",
            "0                    1            0.97    33.0%     0.0%   67.0%\n",
            "------------------------------------------------------------\n",
            "REVIEW: i liked it: great story, no violence, nudity, profanity, a movie everyone can watch and enjoy. i would recommend this movie to anyone\n",
            "Actual Sentiment: 1\n",
            "   Predicted Sentiment  Polarity Score Positive Negative Overall\n",
            "0                    1            0.74    38.0%    19.0%   43.0%\n",
            "------------------------------------------------------------\n",
            "REVIEW: poor bob, victim of himself!: awful. i mean, really awful...and i liked \"self portrait\" because you knew dylan was just trying to have some fun with his image. this album is just a disaster. the lyrics are ok on most songs (i've seen worse by dylan), but the music is unexciting, not very creative, and downright embarrassing on some tracks. why, oh, why did you have to make an album like this, bob? such talented people at your disposal for these sessions, and you threw it away on garbage arrangements. shameful. really sad.\n",
            "Actual Sentiment: 0\n",
            "   Predicted Sentiment  Polarity Score Positive Negative Overall\n",
            "0                    0           -0.91    12.0%    23.0%   66.0%\n",
            "------------------------------------------------------------\n"
          ],
          "name": "stdout"
        }
      ]
    },
    {
      "cell_type": "code",
      "metadata": {
        "id": "P6E40Pso8epc",
        "colab_type": "code",
        "colab": {
          "base_uri": "https://localhost:8080/",
          "height": 170
        },
        "outputId": "391c4451-fd4d-4d16-e15e-367015ff1716"
      },
      "source": [
        "predicted_sentiments = [analyze_sentiment_vader_lexicon(review, threshold=0.4, verbose=False) for review in test_reviews]\n",
        "print(classification_report(test_sentiments,predicted_sentiments))"
      ],
      "execution_count": null,
      "outputs": [
        {
          "output_type": "stream",
          "text": [
            "              precision    recall  f1-score   support\n",
            "\n",
            "           0       0.84      0.63      0.72     60301\n",
            "           1       0.70      0.88      0.78     59699\n",
            "\n",
            "    accuracy                           0.76    120000\n",
            "   macro avg       0.77      0.76      0.75    120000\n",
            "weighted avg       0.77      0.76      0.75    120000\n",
            "\n"
          ],
          "name": "stdout"
        }
      ]
    },
    {
      "cell_type": "markdown",
      "metadata": {
        "id": "gJd2_hz7slBm",
        "colab_type": "text"
      },
      "source": [
        "# Ch09b - Sentiment Analysis - Supervised.ipynb"
      ]
    },
    {
      "cell_type": "code",
      "metadata": {
        "id": "LjGfdzWl8ij7",
        "colab_type": "code",
        "colab": {}
      },
      "source": [
        "import pandas as pd\n",
        "import numpy as np\n",
        "#import text_normalizer as tn\n",
        "#import model_evaluation_utils as meu\n",
        "import nltk\n",
        "\n",
        "np.set_printoptions(precision=2, linewidth=80)"
      ],
      "execution_count": null,
      "outputs": []
    },
    {
      "cell_type": "code",
      "metadata": {
        "id": "Tkwil7HHsqFY",
        "colab_type": "code",
        "colab": {
          "base_uri": "https://localhost:8080/",
          "height": 238
        },
        "outputId": "1714ef0c-cb28-4cf8-f9c6-e2de4dfd3a13"
      },
      "source": [
        "train_set=pd.read_csv('/content/drive/My Drive/Data/NLP/Kaggle_Amazone_review_sentiment/train_set.csv')\n",
        "test_set=pd.read_csv('/content/drive/My Drive/Data/NLP/Kaggle_Amazone_review_sentiment/test_set.csv')\n",
        "print(train_set.shape)\n",
        "print(test_set.shape)\n",
        "test_set.head()"
      ],
      "execution_count": null,
      "outputs": [
        {
          "output_type": "stream",
          "text": [
            "(3600000, 3)\n",
            "(400000, 3)\n"
          ],
          "name": "stdout"
        },
        {
          "output_type": "execute_result",
          "data": {
            "text/html": [
              "<div>\n",
              "<style scoped>\n",
              "    .dataframe tbody tr th:only-of-type {\n",
              "        vertical-align: middle;\n",
              "    }\n",
              "\n",
              "    .dataframe tbody tr th {\n",
              "        vertical-align: top;\n",
              "    }\n",
              "\n",
              "    .dataframe thead th {\n",
              "        text-align: right;\n",
              "    }\n",
              "</style>\n",
              "<table border=\"1\" class=\"dataframe\">\n",
              "  <thead>\n",
              "    <tr style=\"text-align: right;\">\n",
              "      <th></th>\n",
              "      <th>Unnamed: 0</th>\n",
              "      <th>review</th>\n",
              "      <th>label</th>\n",
              "    </tr>\n",
              "  </thead>\n",
              "  <tbody>\n",
              "    <tr>\n",
              "      <th>0</th>\n",
              "      <td>0</td>\n",
              "      <td>great cd: my lovely pat has one of the great v...</td>\n",
              "      <td>1</td>\n",
              "    </tr>\n",
              "    <tr>\n",
              "      <th>1</th>\n",
              "      <td>1</td>\n",
              "      <td>one of the best game music soundtracks - for a...</td>\n",
              "      <td>1</td>\n",
              "    </tr>\n",
              "    <tr>\n",
              "      <th>2</th>\n",
              "      <td>2</td>\n",
              "      <td>batteries died within a year ...: i bought thi...</td>\n",
              "      <td>0</td>\n",
              "    </tr>\n",
              "    <tr>\n",
              "      <th>3</th>\n",
              "      <td>3</td>\n",
              "      <td>works fine, but maha energy is better: check o...</td>\n",
              "      <td>1</td>\n",
              "    </tr>\n",
              "    <tr>\n",
              "      <th>4</th>\n",
              "      <td>4</td>\n",
              "      <td>great for the non-audiophile: reviewed quite a...</td>\n",
              "      <td>1</td>\n",
              "    </tr>\n",
              "  </tbody>\n",
              "</table>\n",
              "</div>"
            ],
            "text/plain": [
              "   Unnamed: 0                                             review  label\n",
              "0           0  great cd: my lovely pat has one of the great v...      1\n",
              "1           1  one of the best game music soundtracks - for a...      1\n",
              "2           2  batteries died within a year ...: i bought thi...      0\n",
              "3           3  works fine, but maha energy is better: check o...      1\n",
              "4           4  great for the non-audiophile: reviewed quite a...      1"
            ]
          },
          "metadata": {
            "tags": []
          },
          "execution_count": 27
        }
      ]
    },
    {
      "cell_type": "code",
      "metadata": {
        "id": "OgKr8Pn4tY-P",
        "colab_type": "code",
        "colab": {}
      },
      "source": [
        "reviews = np.array(train_set['review'])\n",
        "sentiments = np.array(train_set['label'])\n",
        "# build train and test datasets\n",
        "train_reviews = reviews[:35000]\n",
        "train_sentiments = sentiments[:35000]\n",
        "test_reviews = reviews[35000:50000]\n",
        "test_sentiments = sentiments[35000:50000]"
      ],
      "execution_count": null,
      "outputs": []
    },
    {
      "cell_type": "code",
      "metadata": {
        "id": "KjUuDbHF96cm",
        "colab_type": "code",
        "colab": {}
      },
      "source": [
        "# normalize datasets\n",
        "stop_words = nltk.corpus.stopwords.words('english')\n",
        "stop_words.remove('no')\n",
        "stop_words.remove('but')\n",
        "stop_words.remove('not')\n",
        "\n",
        "norm_train_reviews = normalize_corpus(train_reviews, stopwords=stop_words)\n",
        "norm_test_reviews = normalize_corpus(test_reviews, stopwords=stop_words)"
      ],
      "execution_count": null,
      "outputs": []
    },
    {
      "cell_type": "code",
      "metadata": {
        "id": "sI-KE3JmC_RV",
        "colab_type": "code",
        "colab": {}
      },
      "source": [
        "pd.DataFrame(norm_train_reviews).to_csv('/content/drive/My Drive/Data/NLP/Kaggle_Amazone_review_sentiment/norm_train_reviews.csv')\n",
        "pd.DataFrame(norm_test_reviews).to_csv('/content/drive/My Drive/Data/NLP/Kaggle_Amazone_review_sentiment/norm_test_reviews.csv')"
      ],
      "execution_count": null,
      "outputs": []
    },
    {
      "cell_type": "markdown",
      "metadata": {
        "id": "_J6mNwaY-Dtp",
        "colab_type": "text"
      },
      "source": [
        "## Traditional Supervised Machine Learning Models"
      ]
    },
    {
      "cell_type": "markdown",
      "metadata": {
        "id": "h4QpRLxS-JS0",
        "colab_type": "text"
      },
      "source": [
        "### Feature Engineering (LOAD FILE AFTER PRE PROCESS BENGIN HERE)"
      ]
    },
    {
      "cell_type": "code",
      "metadata": {
        "id": "-bBG4tHIDSTy",
        "colab_type": "code",
        "colab": {}
      },
      "source": [
        "norm_train_reviews=pd.read_csv('/content/drive/My Drive/Data/NLP/Kaggle_Amazone_review_sentiment/norm_train_reviews.csv')\n",
        "norm_test_reviews=pd.read_csv('/content/drive/My Drive/Data/NLP/Kaggle_Amazone_review_sentiment/norm_test_reviews.csv')\n",
        "norm_train_reviews=norm_train_reviews['0']\n",
        "norm_test_reviews=norm_test_reviews['0']"
      ],
      "execution_count": null,
      "outputs": []
    },
    {
      "cell_type": "code",
      "metadata": {
        "id": "tSIo_cDv9_Ro",
        "colab_type": "code",
        "colab": {}
      },
      "source": [
        "from sklearn.feature_extraction.text import CountVectorizer, TfidfVectorizer\n",
        "\n",
        "# build BOW features on train reviews\n",
        "cv = CountVectorizer(binary=False, min_df=0.0, max_df=1.0, ngram_range=(1,2))\n",
        "cv_train_features = cv.fit_transform(norm_train_reviews)\n",
        "# build TFIDF features on train reviews\n",
        "tv = TfidfVectorizer(use_idf=True, min_df=0.0, max_df=1.0, ngram_range=(1,2),\n",
        "                     sublinear_tf=True)\n",
        "tv_train_features = tv.fit_transform(norm_train_reviews)"
      ],
      "execution_count": null,
      "outputs": []
    },
    {
      "cell_type": "code",
      "metadata": {
        "id": "nHmiDfU8-Tdq",
        "colab_type": "code",
        "colab": {}
      },
      "source": [
        "# transform test reviews into features\n",
        "cv_test_features = cv.transform(norm_test_reviews)\n",
        "tv_test_features = tv.transform(norm_test_reviews)"
      ],
      "execution_count": null,
      "outputs": []
    },
    {
      "cell_type": "code",
      "metadata": {
        "id": "JBPaGSEm-WC1",
        "colab_type": "code",
        "colab": {
          "base_uri": "https://localhost:8080/",
          "height": 51
        },
        "outputId": "eb932536-4de2-4ad4-af38-68a9938659e6"
      },
      "source": [
        "print('BOW model:> Train features shape:', cv_train_features.shape, ' Test features shape:', cv_test_features.shape)\n",
        "print('TFIDF model:> Train features shape:', tv_train_features.shape, ' Test features shape:', tv_test_features.shape)"
      ],
      "execution_count": null,
      "outputs": [
        {
          "output_type": "stream",
          "text": [
            "BOW model:> Train features shape: (35000, 816540)  Test features shape: (15000, 816540)\n",
            "TFIDF model:> Train features shape: (35000, 816540)  Test features shape: (15000, 816540)\n"
          ],
          "name": "stdout"
        }
      ]
    },
    {
      "cell_type": "markdown",
      "metadata": {
        "id": "2HcRkTV2-0Bc",
        "colab_type": "text"
      },
      "source": [
        "### Model Training, Prediction and Performance Evaluation"
      ]
    },
    {
      "cell_type": "code",
      "metadata": {
        "id": "90q4bJOj-WM9",
        "colab_type": "code",
        "colab": {}
      },
      "source": [
        "from sklearn.linear_model import SGDClassifier, LogisticRegression\n",
        "from sklearn.metrics import classification_report\n",
        "\n",
        "lr = LogisticRegression(penalty='l2', max_iter=100, C=1)\n",
        "svm = SGDClassifier(loss='hinge', max_iter=100)"
      ],
      "execution_count": null,
      "outputs": []
    },
    {
      "cell_type": "markdown",
      "metadata": {
        "id": "MODny1dGBuIG",
        "colab_type": "text"
      },
      "source": [
        "model on BOW features"
      ]
    },
    {
      "cell_type": "code",
      "metadata": {
        "id": "_LgkCzZ8-WKx",
        "colab_type": "code",
        "colab": {
          "base_uri": "https://localhost:8080/",
          "height": 326
        },
        "outputId": "a2a29169-8903-49bd-b08b-1d06f8f9f6fc"
      },
      "source": [
        "lr.fit(cv_train_features, train_sentiments)\n",
        "y_pred = lr.predict(cv_test_features)\n",
        "print(classification_report(test_sentiments,y_pred))"
      ],
      "execution_count": null,
      "outputs": [
        {
          "output_type": "stream",
          "text": [
            "              precision    recall  f1-score   support\n",
            "\n",
            "           0       0.89      0.88      0.89      7143\n",
            "           1       0.89      0.90      0.90      7857\n",
            "\n",
            "    accuracy                           0.89     15000\n",
            "   macro avg       0.89      0.89      0.89     15000\n",
            "weighted avg       0.89      0.89      0.89     15000\n",
            "\n"
          ],
          "name": "stdout"
        },
        {
          "output_type": "stream",
          "text": [
            "/usr/local/lib/python3.6/dist-packages/sklearn/linear_model/_logistic.py:940: ConvergenceWarning: lbfgs failed to converge (status=1):\n",
            "STOP: TOTAL NO. of ITERATIONS REACHED LIMIT.\n",
            "\n",
            "Increase the number of iterations (max_iter) or scale the data as shown in:\n",
            "    https://scikit-learn.org/stable/modules/preprocessing.html\n",
            "Please also refer to the documentation for alternative solver options:\n",
            "    https://scikit-learn.org/stable/modules/linear_model.html#logistic-regression\n",
            "  extra_warning_msg=_LOGISTIC_SOLVER_CONVERGENCE_MSG)\n"
          ],
          "name": "stderr"
        }
      ]
    },
    {
      "cell_type": "code",
      "metadata": {
        "id": "LJujB9PH-WGj",
        "colab_type": "code",
        "colab": {
          "base_uri": "https://localhost:8080/",
          "height": 170
        },
        "outputId": "29e3650b-96ff-4baf-b31b-f34a78e93edf"
      },
      "source": [
        "svm.fit(cv_train_features, train_sentiments)\n",
        "y_pred = svm.predict(cv_test_features)\n",
        "print(classification_report(test_sentiments,y_pred))"
      ],
      "execution_count": null,
      "outputs": [
        {
          "output_type": "stream",
          "text": [
            "              precision    recall  f1-score   support\n",
            "\n",
            "           0       0.88      0.89      0.89      7143\n",
            "           1       0.90      0.89      0.90      7857\n",
            "\n",
            "    accuracy                           0.89     15000\n",
            "   macro avg       0.89      0.89      0.89     15000\n",
            "weighted avg       0.89      0.89      0.89     15000\n",
            "\n"
          ],
          "name": "stdout"
        }
      ]
    },
    {
      "cell_type": "markdown",
      "metadata": {
        "id": "kup-NVJxBq8Q",
        "colab_type": "text"
      },
      "source": [
        "model on TF-IDF features"
      ]
    },
    {
      "cell_type": "code",
      "metadata": {
        "id": "QJO_QN_S-WIB",
        "colab_type": "code",
        "colab": {
          "base_uri": "https://localhost:8080/",
          "height": 170
        },
        "outputId": "5fa53617-6088-470d-8522-99e451934ace"
      },
      "source": [
        "lr.fit(tv_train_features, train_sentiments)\n",
        "y_pred = lr.predict(tv_test_features)\n",
        "print(classification_report(test_sentiments,y_pred))"
      ],
      "execution_count": null,
      "outputs": [
        {
          "output_type": "stream",
          "text": [
            "              precision    recall  f1-score   support\n",
            "\n",
            "           0       0.88      0.88      0.88      7143\n",
            "           1       0.89      0.89      0.89      7857\n",
            "\n",
            "    accuracy                           0.89     15000\n",
            "   macro avg       0.89      0.89      0.89     15000\n",
            "weighted avg       0.89      0.89      0.89     15000\n",
            "\n"
          ],
          "name": "stdout"
        }
      ]
    },
    {
      "cell_type": "code",
      "metadata": {
        "id": "qZDszGWmANjj",
        "colab_type": "code",
        "colab": {
          "base_uri": "https://localhost:8080/",
          "height": 170
        },
        "outputId": "fe0d41ee-1bc3-4d62-ab2d-146c19caebae"
      },
      "source": [
        "svm.fit(tv_train_features, train_sentiments)\n",
        "y_pred = svm.predict(tv_test_features)\n",
        "print(classification_report(test_sentiments,y_pred))"
      ],
      "execution_count": null,
      "outputs": [
        {
          "output_type": "stream",
          "text": [
            "              precision    recall  f1-score   support\n",
            "\n",
            "           0       0.88      0.89      0.89      7143\n",
            "           1       0.90      0.89      0.89      7857\n",
            "\n",
            "    accuracy                           0.89     15000\n",
            "   macro avg       0.89      0.89      0.89     15000\n",
            "weighted avg       0.89      0.89      0.89     15000\n",
            "\n"
          ],
          "name": "stdout"
        }
      ]
    },
    {
      "cell_type": "markdown",
      "metadata": {
        "id": "6v_AsiblD4UX",
        "colab_type": "text"
      },
      "source": [
        "## Newer Supervised Deep Learning Models"
      ]
    },
    {
      "cell_type": "code",
      "metadata": {
        "id": "8YcOsejtD0Wj",
        "colab_type": "code",
        "colab": {}
      },
      "source": [
        "import gensim\n",
        "import keras\n",
        "from keras.models import Sequential\n",
        "from keras.layers import Dropout, Activation, Dense\n",
        "from sklearn.preprocessing import LabelEncoder\n",
        "from keras.layers.normalization import BatchNormalization"
      ],
      "execution_count": null,
      "outputs": []
    },
    {
      "cell_type": "markdown",
      "metadata": {
        "id": "_pRv_SDLEDV8",
        "colab_type": "text"
      },
      "source": [
        "### Prediction class label encoding"
      ]
    },
    {
      "cell_type": "code",
      "metadata": {
        "id": "1Cy3gvyNNm5A",
        "colab_type": "code",
        "colab": {}
      },
      "source": [
        "#norm_train_reviews\n",
        "#norm_test_reviews\n",
        "#train_sentiments\n",
        "#test_sentiments"
      ],
      "execution_count": null,
      "outputs": []
    },
    {
      "cell_type": "code",
      "metadata": {
        "id": "b4NJ53SNN6Mx",
        "colab_type": "code",
        "colab": {}
      },
      "source": [
        "# tokenize train reviews & encode train labels\n",
        "tokenized_train = [tokenizer.tokenize(text)\n",
        "                   for text in norm_train_reviews]\n",
        "# tokenize test reviews & encode test labels\n",
        "tokenized_test = [tokenizer.tokenize(text)\n",
        "                   for text in norm_test_reviews]"
      ],
      "execution_count": null,
      "outputs": []
    },
    {
      "cell_type": "code",
      "metadata": {
        "id": "CjzlrtAAOlWa",
        "colab_type": "code",
        "colab": {
          "base_uri": "https://localhost:8080/",
          "height": 54
        },
        "outputId": "70d726a0-d899-4184-b794-719f991f2542"
      },
      "source": [
        "print(tokenized_train[0])"
      ],
      "execution_count": null,
      "outputs": [
        {
          "output_type": "stream",
          "text": [
            "['stun', 'even', 'non', 'gamer', 'sound', 'track', 'beautiful', 'paint', 'senery', 'mind', 'well', 'would', 'recomend', 'even', 'people', 'hate', 'vid', 'game', 'music', 'play', 'game', 'chrono', 'cross', 'but', 'game', 'ever', 'play', 'good', 'music', 'back', 'away', 'crude', 'keyboarding', 'take', 'fresher', 'step', 'grate', 'guitar', 'soulful', 'orchestra', 'would', 'impress', 'anyone', 'care', 'listen']\n"
          ],
          "name": "stdout"
        }
      ]
    },
    {
      "cell_type": "markdown",
      "metadata": {
        "id": "591GZgYeOgBQ",
        "colab_type": "text"
      },
      "source": [
        "### Feature Engineering with word embeddings"
      ]
    },
    {
      "cell_type": "markdown",
      "metadata": {
        "id": "2vul4U2uS26C",
        "colab_type": "text"
      },
      "source": [
        "feature engineering with word2vec"
      ]
    },
    {
      "cell_type": "code",
      "metadata": {
        "id": "TyXyC5pQN9z3",
        "colab_type": "code",
        "colab": {
          "base_uri": "https://localhost:8080/",
          "height": 51
        },
        "outputId": "8318fabc-5033-46da-aaff-5e5f3a48dbfe"
      },
      "source": [
        "%%time\n",
        "# build word2vec model\n",
        "w2v_num_features = 512\n",
        "w2v_model = gensim.models.Word2Vec(tokenized_train, size=w2v_num_features, window=150,\n",
        "                                   min_count=10, sample=1e-3, workers=16)"
      ],
      "execution_count": null,
      "outputs": [
        {
          "output_type": "stream",
          "text": [
            "CPU times: user 1min 27s, sys: 231 ms, total: 1min 27s\n",
            "Wall time: 45.9 s\n"
          ],
          "name": "stdout"
        }
      ]
    },
    {
      "cell_type": "code",
      "metadata": {
        "id": "25RJBmk2N95A",
        "colab_type": "code",
        "colab": {}
      },
      "source": [
        "def averaged_word2vec_vectorizer(corpus, model, num_features):\n",
        "    vocabulary = set(model.wv.index2word)\n",
        "    \n",
        "    def average_word_vectors(words, model, vocabulary, num_features):\n",
        "        feature_vector = np.zeros((num_features,), dtype=\"float64\")\n",
        "        nwords = 0.\n",
        "        \n",
        "        for word in words:\n",
        "            if word in vocabulary: \n",
        "                nwords = nwords + 1.\n",
        "                feature_vector = np.add(feature_vector, model.wv[word])\n",
        "        if nwords:\n",
        "            feature_vector = np.divide(feature_vector, nwords)\n",
        "\n",
        "        return feature_vector\n",
        "\n",
        "    features = [average_word_vectors(tokenized_sentence, model, vocabulary, num_features)\n",
        "                    for tokenized_sentence in corpus]\n",
        "    return np.array(features)"
      ],
      "execution_count": null,
      "outputs": []
    },
    {
      "cell_type": "code",
      "metadata": {
        "id": "xCuaNorBN92j",
        "colab_type": "code",
        "colab": {}
      },
      "source": [
        "# generate averaged word vector features from word2vec model\n",
        "avg_wv_train_features = averaged_word2vec_vectorizer(corpus=tokenized_train, model=w2v_model,\n",
        "                                                     num_features=w2v_num_features)\n",
        "avg_wv_test_features = averaged_word2vec_vectorizer(corpus=tokenized_test, model=w2v_model,\n",
        "                                                    num_features=w2v_num_features)"
      ],
      "execution_count": null,
      "outputs": []
    },
    {
      "cell_type": "code",
      "metadata": {
        "id": "ggYUvI68PVIe",
        "colab_type": "code",
        "colab": {
          "base_uri": "https://localhost:8080/",
          "height": 51
        },
        "outputId": "74adcea3-cc52-4c58-89cc-ae3ab07a8bd5"
      },
      "source": [
        "print(avg_wv_train_features.shape)\n",
        "print(avg_wv_test_features.shape)"
      ],
      "execution_count": null,
      "outputs": [
        {
          "output_type": "stream",
          "text": [
            "(35000, 512)\n",
            "(15000, 512)\n"
          ],
          "name": "stdout"
        }
      ]
    },
    {
      "cell_type": "code",
      "metadata": {
        "id": "pLZQgsnvPeYI",
        "colab_type": "code",
        "colab": {
          "base_uri": "https://localhost:8080/",
          "height": 136
        },
        "outputId": "1b3cffae-9c4c-4936-c4fb-5f41515c62a6"
      },
      "source": [
        "avg_wv_test_features"
      ],
      "execution_count": null,
      "outputs": [
        {
          "output_type": "execute_result",
          "data": {
            "text/plain": [
              "array([[-0.09,  0.1 , -0.25, ..., -0.28,  0.37, -0.39],\n",
              "       [-0.16,  0.02, -0.11, ..., -0.39,  0.35, -0.46],\n",
              "       [-0.06, -0.05,  0.22, ...,  0.06,  0.08,  0.16],\n",
              "       ...,\n",
              "       [ 0.41,  0.37, -0.44, ..., -0.  ,  0.16, -0.19],\n",
              "       [ 0.46,  0.69, -0.52, ..., -0.03,  0.08, -0.22],\n",
              "       [-0.04,  0.05,  0.2 , ...,  0.02,  0.03, -0.12]])"
            ]
          },
          "metadata": {
            "tags": []
          },
          "execution_count": 63
        }
      ]
    },
    {
      "cell_type": "code",
      "metadata": {
        "id": "0mPER2Y8QQNZ",
        "colab_type": "code",
        "colab": {}
      },
      "source": [
        "#!python -m spacy download en_vectors_web_lg"
      ],
      "execution_count": null,
      "outputs": []
    },
    {
      "cell_type": "code",
      "metadata": {
        "id": "dF8AzqwEV7Ul",
        "colab_type": "code",
        "colab": {
          "base_uri": "https://localhost:8080/",
          "height": 85
        },
        "outputId": "f746c912-4dfc-4272-f144-972e168cfc94"
      },
      "source": [
        "!python -m spacy link en_vectors_web_lg en_vectors_web_lg_link"
      ],
      "execution_count": null,
      "outputs": [
        {
          "output_type": "stream",
          "text": [
            "\u001b[38;5;2m✔ Linking successful\u001b[0m\n",
            "/usr/local/lib/python3.6/dist-packages/en_vectors_web_lg -->\n",
            "/usr/local/lib/python3.6/dist-packages/spacy/data/en_vectors_web_lg_link\n",
            "You can now load the model via spacy.load('en_vectors_web_lg_link')\n"
          ],
          "name": "stdout"
        }
      ]
    },
    {
      "cell_type": "code",
      "metadata": {
        "id": "BfJrizt4P7OD",
        "colab_type": "code",
        "colab": {}
      },
      "source": [
        "nlp_vec = spacy.load('en_vectors_web_lg_link', parse=True, tag=True, entity=True)"
      ],
      "execution_count": null,
      "outputs": []
    },
    {
      "cell_type": "markdown",
      "metadata": {
        "id": "nE-sRzCNS0Up",
        "colab_type": "text"
      },
      "source": [
        "feature engineering with GloVe model"
      ]
    },
    {
      "cell_type": "code",
      "metadata": {
        "id": "y7ud4iK0SjEx",
        "colab_type": "code",
        "colab": {}
      },
      "source": [
        "# feature engineering with GloVe model\n",
        "train_nlp = [nlp_vec(item) for item in norm_train_reviews]\n",
        "train_glove_features = np.array([item.vector for item in train_nlp])\n",
        "\n",
        "test_nlp = [nlp_vec(item) for item in norm_test_reviews]\n",
        "test_glove_features = np.array([item.vector for item in test_nlp])"
      ],
      "execution_count": null,
      "outputs": []
    },
    {
      "cell_type": "code",
      "metadata": {
        "id": "x7AosxYeN6Pd",
        "colab_type": "code",
        "colab": {}
      },
      "source": [
        "# feature engineering with GloVe model\n",
        "#Replace nlp_vec = nlp (space.load('en') instead of 'en_vectors_web_lg')\n",
        "#train_nlp = [nlp(item) for item in norm_train_reviews]\n",
        "#train_glove_features = np.array([item.vector for item in train_nlp])\n",
        "\n",
        "#test_nlp = [nlp(item) for item in norm_test_reviews]\n",
        "#test_glove_features = np.array([item.vector for item in test_nlp])"
      ],
      "execution_count": null,
      "outputs": []
    },
    {
      "cell_type": "code",
      "metadata": {
        "id": "KS1vq5LccMPK",
        "colab_type": "code",
        "colab": {
          "base_uri": "https://localhost:8080/",
          "height": 136
        },
        "outputId": "738601cb-d857-4b5c-bdb3-9c04d6cdec17"
      },
      "source": [
        "train_glove_features"
      ],
      "execution_count": null,
      "outputs": [
        {
          "output_type": "execute_result",
          "data": {
            "text/plain": [
              "array([[-0.02,  0.16, -0.15, ..., -0.02,  0.01,  0.18],\n",
              "       [-0.16,  0.2 , -0.08, ..., -0.11,  0.12,  0.05],\n",
              "       [-0.04,  0.2 , -0.11, ..., -0.07,  0.04,  0.13],\n",
              "       ...,\n",
              "       [-0.07,  0.02, -0.12, ..., -0.15,  0.1 ,  0.03],\n",
              "       [-0.17,  0.06, -0.15, ..., -0.12,  0.07, -0.03],\n",
              "       [-0.21,  0.05, -0.16, ..., -0.2 ,  0.17,  0.03]], dtype=float32)"
            ]
          },
          "metadata": {
            "tags": []
          },
          "execution_count": 87
        }
      ]
    },
    {
      "cell_type": "code",
      "metadata": {
        "id": "SOaN1jBCN6U-",
        "colab_type": "code",
        "colab": {
          "base_uri": "https://localhost:8080/",
          "height": 51
        },
        "outputId": "65af5244-f062-4308-dabc-88c619b466e4"
      },
      "source": [
        "print('Word2Vec model:> Train features shape:', avg_wv_train_features.shape, ' Test features shape:', avg_wv_test_features.shape)\n",
        "print('GloVe model:> Train features shape:', train_glove_features.shape, ' Test features shape:', test_glove_features.shape)"
      ],
      "execution_count": null,
      "outputs": [
        {
          "output_type": "stream",
          "text": [
            "Word2Vec model:> Train features shape: (35000, 512)  Test features shape: (15000, 512)\n",
            "GloVe model:> Train features shape: (35000, 300)  Test features shape: (15000, 300)\n"
          ],
          "name": "stdout"
        }
      ]
    },
    {
      "cell_type": "markdown",
      "metadata": {
        "id": "zmGOXqRjWXiE",
        "colab_type": "text"
      },
      "source": [
        "### Modeling with deep neural networks"
      ]
    },
    {
      "cell_type": "code",
      "metadata": {
        "id": "eZSCCO4AN6YJ",
        "colab_type": "code",
        "colab": {}
      },
      "source": [
        "def construct_deepnn_architecture(num_input_features):\n",
        "    dnn_model = Sequential()\n",
        "    dnn_model.add(Dense(512, input_shape=(num_input_features,), kernel_initializer='glorot_uniform'))\n",
        "    dnn_model.add(BatchNormalization())\n",
        "    dnn_model.add(Activation('relu'))\n",
        "    dnn_model.add(Dropout(0.2))\n",
        "    \n",
        "    dnn_model.add(Dense(512, kernel_initializer='glorot_uniform'))\n",
        "    dnn_model.add(BatchNormalization())\n",
        "    dnn_model.add(Activation('relu'))\n",
        "    dnn_model.add(Dropout(0.2))\n",
        "    \n",
        "    dnn_model.add(Dense(512, kernel_initializer='glorot_uniform'))\n",
        "    dnn_model.add(BatchNormalization())\n",
        "    dnn_model.add(Activation('relu'))\n",
        "    dnn_model.add(Dropout(0.2))\n",
        "    \n",
        "    dnn_model.add(Dense(1))\n",
        "    dnn_model.add(Activation('softmax'))\n",
        "\n",
        "    dnn_model.compile(loss='binary_crossentropy', optimizer='adam',                 \n",
        "                      metrics=['accuracy'])\n",
        "    return dnn_model"
      ],
      "execution_count": null,
      "outputs": []
    },
    {
      "cell_type": "markdown",
      "metadata": {
        "id": "C5QhjVG-c8Ud",
        "colab_type": "text"
      },
      "source": [
        "Deep learning for w2v"
      ]
    },
    {
      "cell_type": "code",
      "metadata": {
        "id": "s8epgZTYbn_N",
        "colab_type": "code",
        "colab": {
          "base_uri": "https://localhost:8080/",
          "height": 34
        },
        "outputId": "6c7d74ad-22fa-474f-a0f6-88138be549bd"
      },
      "source": [
        "w2v_num_features"
      ],
      "execution_count": null,
      "outputs": [
        {
          "output_type": "execute_result",
          "data": {
            "text/plain": [
              "512"
            ]
          },
          "metadata": {
            "tags": []
          },
          "execution_count": 82
        }
      ]
    },
    {
      "cell_type": "code",
      "metadata": {
        "id": "b4iYlQaIN6b2",
        "colab_type": "code",
        "colab": {}
      },
      "source": [
        "w2v_dnn = construct_deepnn_architecture(num_input_features=w2v_num_features)"
      ],
      "execution_count": null,
      "outputs": []
    },
    {
      "cell_type": "code",
      "metadata": {
        "id": "9Vs8jkIFbq1z",
        "colab_type": "code",
        "colab": {
          "base_uri": "https://localhost:8080/",
          "height": 394
        },
        "outputId": "29f04347-66b5-4729-b327-aff4222f0b16"
      },
      "source": [
        "batch_size = 100\n",
        "w2v_dnn.fit(avg_wv_train_features, train_sentiments, epochs=10, batch_size=batch_size, \n",
        "            shuffle=True, validation_split=0.1, verbose=1)"
      ],
      "execution_count": null,
      "outputs": [
        {
          "output_type": "stream",
          "text": [
            "Epoch 1/10\n",
            "315/315 [==============================] - 7s 23ms/step - loss: 7.4610 - accuracy: 0.5107 - val_loss: 8.4481 - val_accuracy: 0.4460\n",
            "Epoch 2/10\n",
            "315/315 [==============================] - 7s 22ms/step - loss: 7.4610 - accuracy: 0.5107 - val_loss: 8.4481 - val_accuracy: 0.4460\n",
            "Epoch 3/10\n",
            "315/315 [==============================] - 7s 22ms/step - loss: 7.4610 - accuracy: 0.5107 - val_loss: 8.4481 - val_accuracy: 0.4460\n",
            "Epoch 4/10\n",
            "315/315 [==============================] - 7s 21ms/step - loss: 7.4610 - accuracy: 0.5107 - val_loss: 8.4481 - val_accuracy: 0.4460\n",
            "Epoch 5/10\n",
            "315/315 [==============================] - 7s 22ms/step - loss: 7.4610 - accuracy: 0.5107 - val_loss: 8.4481 - val_accuracy: 0.4460\n",
            "Epoch 6/10\n",
            "315/315 [==============================] - 7s 22ms/step - loss: 7.4610 - accuracy: 0.5107 - val_loss: 8.4481 - val_accuracy: 0.4460\n",
            "Epoch 7/10\n",
            "315/315 [==============================] - 7s 22ms/step - loss: 7.4610 - accuracy: 0.5107 - val_loss: 8.4481 - val_accuracy: 0.4460\n",
            "Epoch 8/10\n",
            "315/315 [==============================] - 7s 22ms/step - loss: 7.4610 - accuracy: 0.5107 - val_loss: 8.4481 - val_accuracy: 0.4460\n",
            "Epoch 9/10\n",
            "315/315 [==============================] - 7s 21ms/step - loss: 7.4610 - accuracy: 0.5107 - val_loss: 8.4481 - val_accuracy: 0.4460\n",
            "Epoch 10/10\n",
            "315/315 [==============================] - 7s 21ms/step - loss: 7.4610 - accuracy: 0.5107 - val_loss: 8.4481 - val_accuracy: 0.4460\n"
          ],
          "name": "stdout"
        },
        {
          "output_type": "execute_result",
          "data": {
            "text/plain": [
              "<tensorflow.python.keras.callbacks.History at 0x7ff108239fd0>"
            ]
          },
          "metadata": {
            "tags": []
          },
          "execution_count": 88
        }
      ]
    },
    {
      "cell_type": "code",
      "metadata": {
        "id": "howB_KDWcNaz",
        "colab_type": "code",
        "colab": {
          "base_uri": "https://localhost:8080/",
          "height": 275
        },
        "outputId": "4ce6cd73-46c7-4322-bea2-d6167e60c2bc"
      },
      "source": [
        "y_pred = w2v_dnn.predict_classes(avg_wv_test_features)\n",
        "print(classification_report(test_sentiments,y_pred))"
      ],
      "execution_count": null,
      "outputs": [
        {
          "output_type": "stream",
          "text": [
            "WARNING:tensorflow:From <ipython-input-89-0f4c1c2b0e5c>:1: Sequential.predict_classes (from tensorflow.python.keras.engine.sequential) is deprecated and will be removed after 2021-01-01.\n",
            "Instructions for updating:\n",
            "Please use instead:* `np.argmax(model.predict(x), axis=-1)`,   if your model does multi-class classification   (e.g. if it uses a `softmax` last-layer activation).* `(model.predict(x) > 0.5).astype(\"int32\")`,   if your model does binary classification   (e.g. if it uses a `sigmoid` last-layer activation).\n",
            "              precision    recall  f1-score   support\n",
            "\n",
            "           0       0.00      0.00      0.00      7143\n",
            "           1       0.52      1.00      0.69      7857\n",
            "\n",
            "    accuracy                           0.52     15000\n",
            "   macro avg       0.26      0.50      0.34     15000\n",
            "weighted avg       0.27      0.52      0.36     15000\n",
            "\n"
          ],
          "name": "stdout"
        },
        {
          "output_type": "stream",
          "text": [
            "/usr/local/lib/python3.6/dist-packages/sklearn/metrics/_classification.py:1272: UndefinedMetricWarning: Precision and F-score are ill-defined and being set to 0.0 in labels with no predicted samples. Use `zero_division` parameter to control this behavior.\n",
            "  _warn_prf(average, modifier, msg_start, len(result))\n"
          ],
          "name": "stderr"
        }
      ]
    },
    {
      "cell_type": "markdown",
      "metadata": {
        "id": "doOWwRduc3o7",
        "colab_type": "text"
      },
      "source": [
        "Deep learning for glove_features"
      ]
    },
    {
      "cell_type": "code",
      "metadata": {
        "id": "jRviJToMcjW7",
        "colab_type": "code",
        "colab": {
          "base_uri": "https://localhost:8080/",
          "height": 394
        },
        "outputId": "dd229c3b-c61d-4fbe-c888-87d3181106b4"
      },
      "source": [
        "glove_dnn = construct_deepnn_architecture(num_input_features=300)\n",
        "batch_size = 100\n",
        "glove_dnn.fit(train_glove_features, train_sentiments, epochs=10, batch_size=batch_size, \n",
        "              shuffle=True, validation_split=0.1, verbose=1)"
      ],
      "execution_count": null,
      "outputs": [
        {
          "output_type": "stream",
          "text": [
            "Epoch 1/10\n",
            "315/315 [==============================] - 7s 21ms/step - loss: 7.4610 - accuracy: 0.5107 - val_loss: 8.4481 - val_accuracy: 0.4460\n",
            "Epoch 2/10\n",
            "315/315 [==============================] - 6s 21ms/step - loss: 7.4610 - accuracy: 0.5107 - val_loss: 8.4481 - val_accuracy: 0.4460\n",
            "Epoch 3/10\n",
            "315/315 [==============================] - 6s 20ms/step - loss: 7.4610 - accuracy: 0.5107 - val_loss: 8.4481 - val_accuracy: 0.4460\n",
            "Epoch 4/10\n",
            "315/315 [==============================] - 6s 20ms/step - loss: 7.4610 - accuracy: 0.5107 - val_loss: 8.4481 - val_accuracy: 0.4460\n",
            "Epoch 5/10\n",
            "315/315 [==============================] - 6s 20ms/step - loss: 7.4610 - accuracy: 0.5107 - val_loss: 8.4481 - val_accuracy: 0.4460\n",
            "Epoch 6/10\n",
            "315/315 [==============================] - 6s 20ms/step - loss: 7.4610 - accuracy: 0.5107 - val_loss: 8.4481 - val_accuracy: 0.4460\n",
            "Epoch 7/10\n",
            "315/315 [==============================] - 6s 20ms/step - loss: 7.4610 - accuracy: 0.5107 - val_loss: 8.4481 - val_accuracy: 0.4460\n",
            "Epoch 8/10\n",
            "315/315 [==============================] - 6s 20ms/step - loss: 7.4610 - accuracy: 0.5107 - val_loss: 8.4481 - val_accuracy: 0.4460\n",
            "Epoch 9/10\n",
            "315/315 [==============================] - 6s 20ms/step - loss: 7.4610 - accuracy: 0.5107 - val_loss: 8.4481 - val_accuracy: 0.4460\n",
            "Epoch 10/10\n",
            "315/315 [==============================] - 6s 20ms/step - loss: 7.4610 - accuracy: 0.5107 - val_loss: 8.4481 - val_accuracy: 0.4460\n"
          ],
          "name": "stdout"
        },
        {
          "output_type": "execute_result",
          "data": {
            "text/plain": [
              "<tensorflow.python.keras.callbacks.History at 0x7ff1037ab710>"
            ]
          },
          "metadata": {
            "tags": []
          },
          "execution_count": 91
        }
      ]
    },
    {
      "cell_type": "code",
      "metadata": {
        "id": "SG9N_vkkcq6M",
        "colab_type": "code",
        "colab": {
          "base_uri": "https://localhost:8080/",
          "height": 224
        },
        "outputId": "e2123c47-732c-4a20-8b9b-75089677407f"
      },
      "source": [
        "y_pred = glove_dnn.predict_classes(test_glove_features)\n",
        "print(classification_report(test_sentiments,y_pred))"
      ],
      "execution_count": null,
      "outputs": [
        {
          "output_type": "stream",
          "text": [
            "              precision    recall  f1-score   support\n",
            "\n",
            "           0       0.00      0.00      0.00      7143\n",
            "           1       0.52      1.00      0.69      7857\n",
            "\n",
            "    accuracy                           0.52     15000\n",
            "   macro avg       0.26      0.50      0.34     15000\n",
            "weighted avg       0.27      0.52      0.36     15000\n",
            "\n"
          ],
          "name": "stdout"
        },
        {
          "output_type": "stream",
          "text": [
            "/usr/local/lib/python3.6/dist-packages/sklearn/metrics/_classification.py:1272: UndefinedMetricWarning: Precision and F-score are ill-defined and being set to 0.0 in labels with no predicted samples. Use `zero_division` parameter to control this behavior.\n",
            "  _warn_prf(average, modifier, msg_start, len(result))\n"
          ],
          "name": "stderr"
        }
      ]
    },
    {
      "cell_type": "markdown",
      "metadata": {
        "id": "Gv5asQkQdV37",
        "colab_type": "text"
      },
      "source": [
        "# Ch09c - Sentiment Analysis - Advanced Deep Learning.ipynb"
      ]
    },
    {
      "cell_type": "code",
      "metadata": {
        "id": "OKCLYSmjTjXK",
        "colab_type": "code",
        "colab": {}
      },
      "source": [
        "norm_train_reviews=pd.read_csv('/content/drive/My Drive/Data/NLP/Kaggle_Amazone_review_sentiment/norm_train_reviews.csv')\n",
        "norm_test_reviews=pd.read_csv('/content/drive/My Drive/Data/NLP/Kaggle_Amazone_review_sentiment/norm_test_reviews.csv')\n",
        "norm_train_reviews=norm_train_reviews['0']\n",
        "norm_test_reviews=norm_test_reviews['0']"
      ],
      "execution_count": null,
      "outputs": []
    },
    {
      "cell_type": "code",
      "metadata": {
        "id": "CfzWRMX0Ts7u",
        "colab_type": "code",
        "colab": {
          "base_uri": "https://localhost:8080/",
          "height": 51
        },
        "outputId": "408e25b0-ad53-40fd-f1db-eafaea95d9a4"
      },
      "source": [
        "print(len(norm_train_reviews))\n",
        "print(len(norm_test_reviews))"
      ],
      "execution_count": null,
      "outputs": [
        {
          "output_type": "stream",
          "text": [
            "35000\n",
            "15000\n"
          ],
          "name": "stdout"
        }
      ]
    },
    {
      "cell_type": "code",
      "metadata": {
        "id": "b1CmhIePbBE9",
        "colab_type": "code",
        "colab": {
          "base_uri": "https://localhost:8080/",
          "height": 34
        },
        "outputId": "4af63a1f-44d6-4de3-f524-8ef82dea5da3"
      },
      "source": [
        "train_set=pd.read_csv('/content/drive/My Drive/Data/NLP/Kaggle_Amazone_review_sentiment/train_set.csv')\n",
        "print(train_set.shape)\n",
        "reviews = np.array(train_set['review'])\n",
        "sentiments = np.array(train_set['label'])\n",
        "train_sentiments = sentiments[:35000]\n",
        "test_sentiments = sentiments[35000:50000]"
      ],
      "execution_count": null,
      "outputs": [
        {
          "output_type": "stream",
          "text": [
            "(3600000, 3)\n"
          ],
          "name": "stdout"
        }
      ]
    },
    {
      "cell_type": "markdown",
      "metadata": {
        "id": "28lrW9a7dwoh",
        "colab_type": "text"
      },
      "source": [
        "## Tokenize train & test datasets"
      ]
    },
    {
      "cell_type": "code",
      "metadata": {
        "id": "y5KLqyILduUj",
        "colab_type": "code",
        "colab": {}
      },
      "source": [
        "# from text_normalizer.py\n",
        "tokenized_train = [tokenizer.tokenize(text) for text in norm_train_reviews]\n",
        "tokenized_test = [tokenizer.tokenize(text) for text in norm_test_reviews]"
      ],
      "execution_count": null,
      "outputs": []
    },
    {
      "cell_type": "code",
      "metadata": {
        "id": "sjNnUTUBT0pV",
        "colab_type": "code",
        "colab": {
          "base_uri": "https://localhost:8080/",
          "height": 71
        },
        "outputId": "29f67503-6259-46df-eaa4-9c8aff478c4a"
      },
      "source": [
        "print(len(tokenized_train))\n",
        "print(tokenized_train[0])"
      ],
      "execution_count": null,
      "outputs": [
        {
          "output_type": "stream",
          "text": [
            "35000\n",
            "['stun', 'even', 'non', 'gamer', 'sound', 'track', 'beautiful', 'paint', 'senery', 'mind', 'well', 'would', 'recomend', 'even', 'people', 'hate', 'vid', 'game', 'music', 'play', 'game', 'chrono', 'cross', 'but', 'game', 'ever', 'play', 'good', 'music', 'back', 'away', 'crude', 'keyboarding', 'take', 'fresher', 'step', 'grate', 'guitar', 'soulful', 'orchestra', 'would', 'impress', 'anyone', 'care', 'listen']\n"
          ],
          "name": "stdout"
        }
      ]
    },
    {
      "cell_type": "markdown",
      "metadata": {
        "id": "2PfMIOtkSLxE",
        "colab_type": "text"
      },
      "source": [
        "## Build Vocabulary Mapping (word to index)"
      ]
    },
    {
      "cell_type": "code",
      "metadata": {
        "id": "KZbEZPrKU3nG",
        "colab_type": "code",
        "colab": {
          "base_uri": "https://localhost:8080/",
          "height": 51
        },
        "outputId": "2856ddf3-2c11-4489-839f-5958932f7645"
      },
      "source": [
        "from collections import Counter\n",
        "from itertools import islice\n",
        "\n",
        "# build word to index vocabulary\n",
        "token_counter = Counter([token for review in tokenized_train for token in review])\n",
        "print(len(token_counter))\n",
        "# see inside token_counter\n",
        "lengths = Counter()\n",
        "lengths.update(dict(islice(token_counter.items(), 5)))\n",
        "print(lengths)"
      ],
      "execution_count": null,
      "outputs": [
        {
          "output_type": "stream",
          "text": [
            "53312\n",
            "Counter({'even': 5123, 'sound': 2542, 'non': 527, 'gamer': 12, 'stun': 7})\n"
          ],
          "name": "stdout"
        }
      ]
    },
    {
      "cell_type": "code",
      "metadata": {
        "id": "CaRx7iyRWgQc",
        "colab_type": "code",
        "colab": {
          "base_uri": "https://localhost:8080/",
          "height": 51
        },
        "outputId": "db336c30-7874-4501-e57e-223715e24a4c"
      },
      "source": [
        "vocab_map = {item[0]: index+1 for index, item in enumerate(dict(token_counter).items())}\n",
        "print(len(vocab_map))\n",
        "# see inside token_counter\n",
        "lengths = Counter()\n",
        "lengths.update(dict(islice(vocab_map.items(), 5)))\n",
        "print(lengths)"
      ],
      "execution_count": null,
      "outputs": [
        {
          "output_type": "stream",
          "text": [
            "53312\n",
            "Counter({'sound': 5, 'gamer': 4, 'non': 3, 'even': 2, 'stun': 1})\n"
          ],
          "name": "stdout"
        }
      ]
    },
    {
      "cell_type": "code",
      "metadata": {
        "id": "5YLnEHdxXOa6",
        "colab_type": "code",
        "colab": {
          "base_uri": "https://localhost:8080/",
          "height": 34
        },
        "outputId": "77110304-ec39-4f2b-b557-da79036b710f"
      },
      "source": [
        "max_index = np.max(list(vocab_map.values()))\n",
        "max_index"
      ],
      "execution_count": null,
      "outputs": [
        {
          "output_type": "execute_result",
          "data": {
            "text/plain": [
              "53312"
            ]
          },
          "metadata": {
            "tags": []
          },
          "execution_count": 28
        }
      ]
    },
    {
      "cell_type": "code",
      "metadata": {
        "id": "V_vXDNz0XcvW",
        "colab_type": "code",
        "colab": {
          "base_uri": "https://localhost:8080/",
          "height": 34
        },
        "outputId": "a389723e-b6ce-4c0a-b309-112acb4cc794"
      },
      "source": [
        "vocab_map['PAD_INDEX'] = 0\n",
        "vocab_map['NOT_FOUND_INDEX'] = max_index+1\n",
        "vocab_size = len(vocab_map)\n",
        "# view vocabulary size and part of the vocabulary map\n",
        "print('Vocabulary Size:', vocab_size)"
      ],
      "execution_count": null,
      "outputs": [
        {
          "output_type": "stream",
          "text": [
            "Vocabulary Size: 53314\n"
          ],
          "name": "stdout"
        }
      ]
    },
    {
      "cell_type": "code",
      "metadata": {
        "id": "yK1RreFNSQ2R",
        "colab_type": "code",
        "colab": {
          "base_uri": "https://localhost:8080/",
          "height": 34
        },
        "outputId": "42f3134b-57c0-4257-98a2-d01252c7f169"
      },
      "source": [
        "# see inside token_counter\n",
        "lengths = Counter()\n",
        "lengths.update(dict(islice(vocab_map.items(), 5)))\n",
        "print(lengths)"
      ],
      "execution_count": null,
      "outputs": [
        {
          "output_type": "stream",
          "text": [
            "Counter({'sound': 5, 'gamer': 4, 'non': 3, 'even': 2, 'stun': 1})\n"
          ],
          "name": "stdout"
        }
      ]
    },
    {
      "cell_type": "markdown",
      "metadata": {
        "id": "2zXHZ6d3Zggy",
        "colab_type": "text"
      },
      "source": [
        "## Encode and Pad datasets & Encode prediction class labels"
      ]
    },
    {
      "cell_type": "code",
      "metadata": {
        "id": "r2lUv4GWbgN5",
        "colab_type": "code",
        "colab": {
          "base_uri": "https://localhost:8080/",
          "height": 34
        },
        "outputId": "223beff1-e0d2-47f5-c675-7633ae46f0b4"
      },
      "source": [
        "from keras.preprocessing import sequence\n",
        "from sklearn.preprocessing import LabelEncoder\n",
        "\n",
        "# get max length of train corpus and initialize label encoder\n",
        "le = LabelEncoder()\n",
        "num_classes=2 # positive -> 1, negative -> 0\n",
        "max_len = np.max([len(review) for review in tokenized_train])\n",
        "print(max_len) # So tu nhieu nhat trong 1 cau"
      ],
      "execution_count": null,
      "outputs": [
        {
          "output_type": "stream",
          "text": [
            "146\n"
          ],
          "name": "stdout"
        }
      ]
    },
    {
      "cell_type": "code",
      "metadata": {
        "id": "bxF_oZXEUKei",
        "colab_type": "code",
        "colab": {
          "base_uri": "https://localhost:8080/",
          "height": 51
        },
        "outputId": "e1139c29-2715-4643-a47a-b055d47a0ffa"
      },
      "source": [
        "## Train reviews data corpus\n",
        "# Convert tokenized text reviews to numeric vectors\n",
        "train_X = [[vocab_map[token] for token in tokenized_review] for tokenized_review in tokenized_train]\n",
        "train_X = sequence.pad_sequences(train_X, maxlen=max_len) # pad \n",
        "## Train prediction class labels\n",
        "# Convert text sentiment labels (negative\\positive) to binary encodings (0/1)\n",
        "train_y = le.fit_transform(train_sentiments)\n",
        "\n",
        "## Test reviews data corpus\n",
        "# Convert tokenized text reviews to numeric vectors\n",
        "test_X = [[vocab_map[token] if vocab_map.get(token) else vocab_map['NOT_FOUND_INDEX'] \n",
        "           for token in tokenized_review] \n",
        "              for tokenized_review in tokenized_test]\n",
        "test_X = sequence.pad_sequences(test_X, maxlen=max_len)\n",
        "## Test prediction class labels\n",
        "# Convert text sentiment labels (negative\\positive) to binary encodings (0/1)\n",
        "test_y = le.transform(test_sentiments)\n",
        "\n",
        "# view vector shapes\n",
        "print('Max length of train review vectors:', max_len)\n",
        "print('Train review vectors shape:', train_X.shape, ' Test review vectors shape:', test_X.shape)"
      ],
      "execution_count": null,
      "outputs": [
        {
          "output_type": "stream",
          "text": [
            "Max length of train review vectors: 146\n",
            "Train review vectors shape: (35000, 146)  Test review vectors shape: (15000, 146)\n"
          ],
          "name": "stdout"
        }
      ]
    },
    {
      "cell_type": "code",
      "metadata": {
        "id": "2VVwPGu6bQqv",
        "colab_type": "code",
        "colab": {
          "base_uri": "https://localhost:8080/",
          "height": 136
        },
        "outputId": "43e139c1-5fd9-4d01-b335-ded9c3d18613"
      },
      "source": [
        "train_X"
      ],
      "execution_count": null,
      "outputs": [
        {
          "output_type": "execute_result",
          "data": {
            "text/plain": [
              "array([[    0,     0,     0, ...,    37,    38,    39],\n",
              "       [    0,     0,     0, ...,    73,    74,    75],\n",
              "       [    0,     0,     0, ...,   117,   118,    90],\n",
              "       ...,\n",
              "       [    0,     0,     0, ...,   248,   110,  1883],\n",
              "       [    0,     0,     0, ..., 30344,  3014,   418],\n",
              "       [    0,     0,     0, ...,   110,   985,    42]], dtype=int32)"
            ]
          },
          "metadata": {
            "tags": []
          },
          "execution_count": 46
        }
      ]
    },
    {
      "cell_type": "code",
      "metadata": {
        "id": "18O2kqM1c_MP",
        "colab_type": "code",
        "colab": {
          "base_uri": "https://localhost:8080/",
          "height": 34
        },
        "outputId": "5780b74d-c715-4b40-b541-d237febce6b4"
      },
      "source": [
        "train_y"
      ],
      "execution_count": null,
      "outputs": [
        {
          "output_type": "execute_result",
          "data": {
            "text/plain": [
              "array([1, 1, 1, ..., 0, 0, 0])"
            ]
          },
          "metadata": {
            "tags": []
          },
          "execution_count": 48
        }
      ]
    },
    {
      "cell_type": "markdown",
      "metadata": {
        "id": "OZJ9WfGTdLkh",
        "colab_type": "text"
      },
      "source": [
        "## Build the LSTM Model Architecture"
      ]
    },
    {
      "cell_type": "code",
      "metadata": {
        "id": "8vrk4KacdBUQ",
        "colab_type": "code",
        "colab": {
          "base_uri": "https://localhost:8080/",
          "height": 306
        },
        "outputId": "38807f63-2772-4f37-c247-b9a119d21413"
      },
      "source": [
        "from keras.models import Sequential\n",
        "from keras.layers import Dense, Embedding, Dropout, SpatialDropout1D\n",
        "from keras.layers import LSTM\n",
        "\n",
        "EMBEDDING_DIM = 128 # dimension for dense embeddings for each token\n",
        "LSTM_DIM = 64 # total LSTM units\n",
        "vocab_size # max vocal in transet 53314\n",
        "max_len # max sequence length 146\n",
        "\n",
        "model = Sequential()\n",
        "model.add(Embedding(input_dim=vocab_size, output_dim=EMBEDDING_DIM, input_length=max_len))\n",
        "model.add(SpatialDropout1D(0.2))\n",
        "model.add(LSTM(LSTM_DIM, dropout=0.2, recurrent_dropout=0.2))\n",
        "model.add(Dense(1, activation=\"sigmoid\"))\n",
        "\n",
        "model.compile(loss=\"binary_crossentropy\", optimizer=\"adam\",\n",
        "              metrics=[\"accuracy\"])\n",
        "\n",
        "print(model.summary())"
      ],
      "execution_count": null,
      "outputs": [
        {
          "output_type": "stream",
          "text": [
            "Model: \"sequential\"\n",
            "_________________________________________________________________\n",
            "Layer (type)                 Output Shape              Param #   \n",
            "=================================================================\n",
            "embedding (Embedding)        (None, 146, 128)          6824192   \n",
            "_________________________________________________________________\n",
            "spatial_dropout1d (SpatialDr (None, 146, 128)          0         \n",
            "_________________________________________________________________\n",
            "lstm (LSTM)                  (None, 64)                49408     \n",
            "_________________________________________________________________\n",
            "dense (Dense)                (None, 1)                 65        \n",
            "=================================================================\n",
            "Total params: 6,873,665\n",
            "Trainable params: 6,873,665\n",
            "Non-trainable params: 0\n",
            "_________________________________________________________________\n",
            "None\n"
          ],
          "name": "stdout"
        }
      ]
    },
    {
      "cell_type": "code",
      "metadata": {
        "id": "7UJ2WWNIdhhx",
        "colab_type": "code",
        "colab": {
          "base_uri": "https://localhost:8080/",
          "height": 533
        },
        "outputId": "10ec0afa-f1aa-48b3-eaf7-c81f093409ca"
      },
      "source": [
        "from keras.utils.vis_utils import plot_model\n",
        "plot_model(model, show_shapes=True, show_layer_names=True)"
      ],
      "execution_count": null,
      "outputs": [
        {
          "output_type": "execute_result",
          "data": {
            "image/png": "[encoded data removed]",
            "text/plain": [
              "<IPython.core.display.Image object>"
            ]
          },
          "metadata": {
            "tags": []
          },
          "execution_count": 51
        }
      ]
    },
    {
      "cell_type": "code",
      "metadata": {
        "id": "VzV5qTeLevEy",
        "colab_type": "code",
        "colab": {
          "base_uri": "https://localhost:8080/",
          "height": 204
        },
        "outputId": "f380fc01-2782-4d28-839e-3eae38205ab5"
      },
      "source": [
        "batch_size = 100\n",
        "model.fit(train_X, train_y, epochs=5, batch_size=batch_size, \n",
        "          shuffle=True, validation_split=0.1, verbose=1)"
      ],
      "execution_count": null,
      "outputs": [
        {
          "output_type": "stream",
          "text": [
            "Epoch 1/5\n",
            "315/315 [==============================] - 134s 427ms/step - loss: 0.3204 - accuracy: 0.8678 - val_loss: 0.2869 - val_accuracy: 0.8777\n",
            "Epoch 2/5\n",
            "315/315 [==============================] - 132s 419ms/step - loss: 0.1854 - accuracy: 0.9319 - val_loss: 0.3238 - val_accuracy: 0.8723\n",
            "Epoch 3/5\n",
            "315/315 [==============================] - 132s 420ms/step - loss: 0.1221 - accuracy: 0.9564 - val_loss: 0.4521 - val_accuracy: 0.8631\n",
            "Epoch 4/5\n",
            "315/315 [==============================] - 133s 421ms/step - loss: 0.0807 - accuracy: 0.9721 - val_loss: 0.4570 - val_accuracy: 0.8637\n",
            "Epoch 5/5\n",
            "315/315 [==============================] - 131s 416ms/step - loss: 0.0642 - accuracy: 0.9772 - val_loss: 0.4067 - val_accuracy: 0.8703\n"
          ],
          "name": "stdout"
        },
        {
          "output_type": "execute_result",
          "data": {
            "text/plain": [
              "<tensorflow.python.keras.callbacks.History at 0x7f1903cb2e80>"
            ]
          },
          "metadata": {
            "tags": []
          },
          "execution_count": 54
        }
      ]
    },
    {
      "cell_type": "code",
      "metadata": {
        "id": "6l4O5Wlte9Kz",
        "colab_type": "code",
        "colab": {
          "base_uri": "https://localhost:8080/",
          "height": 241
        },
        "outputId": "8e997776-2a58-4010-d165-571695124f40"
      },
      "source": [
        "from sklearn.metrics import classification_report\n",
        "y_pred = model.predict_classes(test_X)\n",
        "print(classification_report(test_y,y_pred))"
      ],
      "execution_count": null,
      "outputs": [
        {
          "output_type": "stream",
          "text": [
            "WARNING:tensorflow:From <ipython-input-55-ab74e0d8dd84>:2: Sequential.predict_classes (from tensorflow.python.keras.engine.sequential) is deprecated and will be removed after 2021-01-01.\n",
            "Instructions for updating:\n",
            "Please use instead:* `np.argmax(model.predict(x), axis=-1)`,   if your model does multi-class classification   (e.g. if it uses a `softmax` last-layer activation).* `(model.predict(x) > 0.5).astype(\"int32\")`,   if your model does binary classification   (e.g. if it uses a `sigmoid` last-layer activation).\n",
            "              precision    recall  f1-score   support\n",
            "\n",
            "           0       0.85      0.85      0.85      7143\n",
            "           1       0.87      0.87      0.87      7857\n",
            "\n",
            "    accuracy                           0.86     15000\n",
            "   macro avg       0.86      0.86      0.86     15000\n",
            "weighted avg       0.86      0.86      0.86     15000\n",
            "\n"
          ],
          "name": "stdout"
        }
      ]
    },
    {
      "cell_type": "markdown",
      "metadata": {
        "id": "0-sXBOLai_Jy",
        "colab_type": "text"
      },
      "source": [
        "## CNN model with own embedding"
      ]
    },
    {
      "cell_type": "code",
      "metadata": {
        "id": "KFaOLgUgjpa7",
        "colab_type": "code",
        "colab": {}
      },
      "source": [
        "#Make the necessary imports\n",
        "import os\n",
        "import sys\n",
        "import pandas as pd\n",
        "import numpy as np\n",
        "from sklearn.model_selection import train_test_split\n",
        "from sklearn.metrics import classification_report\n",
        "from keras.preprocessing.text import Tokenizer\n",
        "from keras.preprocessing.sequence import pad_sequences\n",
        "from keras.utils import to_categorical\n",
        "from keras.layers import Dense, Input, GlobalMaxPooling1D\n",
        "from keras.layers import Conv1D, MaxPooling1D, Embedding, LSTM\n",
        "from keras.models import Model, Sequential\n",
        "from keras.initializers import Constant"
      ],
      "execution_count": null,
      "outputs": []
    },
    {
      "cell_type": "code",
      "metadata": {
        "id": "99iMyfq_h32W",
        "colab_type": "code",
        "colab": {
          "base_uri": "https://localhost:8080/",
          "height": 34
        },
        "outputId": "14a14acd-156e-4ead-e97f-b16388a1d9e6"
      },
      "source": [
        "EMBEDDING_DIM = 128 # dimension for dense embeddings for each token\n",
        "vocab_size # max vocal in transet 53314 MAX_NUM_WORDS\n",
        "max_len # max sequence length 146 MAX_SEQUENCE_LENGTH"
      ],
      "execution_count": null,
      "outputs": [
        {
          "output_type": "execute_result",
          "data": {
            "text/plain": [
              "146"
            ]
          },
          "metadata": {
            "tags": []
          },
          "execution_count": 73
        }
      ]
    },
    {
      "cell_type": "code",
      "metadata": {
        "id": "1D7pKBwOjHwe",
        "colab_type": "code",
        "colab": {
          "base_uri": "https://localhost:8080/",
          "height": 445
        },
        "outputId": "bf2f88a7-0725-4b5a-fdfd-6a88a3eb0acc"
      },
      "source": [
        "print(\"Defining and training a CNN model, training embedding layer on the fly instead of using pre-trained embeddings\")\n",
        "cnnmodel2 = Sequential()\n",
        "cnnmodel2.add(Embedding(input_dim=vocab_size, output_dim=EMBEDDING_DIM, input_length=max_len))\n",
        "cnnmodel2.add(Conv1D(128, 5, activation='relu'))\n",
        "cnnmodel2.add(MaxPooling1D(5))\n",
        "cnnmodel2.add(Conv1D(128, 5, activation='relu'))\n",
        "#cnnmodel2.add(MaxPooling1D(5))\n",
        "#cnnmodel2.add(Conv1D(128, 5, activation='relu'))\n",
        "cnnmodel2.add(GlobalMaxPooling1D())\n",
        "cnnmodel2.add(Dense(128, activation='relu'))\n",
        "cnnmodel2.add(Dense(1, activation='softmax'))\n",
        "\n",
        "cnnmodel2.compile(loss='binary_crossentropy',\n",
        "              optimizer='adam',\n",
        "              metrics=['acc'])\n",
        "print(cnnmodel2.summary())"
      ],
      "execution_count": null,
      "outputs": [
        {
          "output_type": "stream",
          "text": [
            "Defining and training a CNN model, training embedding layer on the fly instead of using pre-trained embeddings\n",
            "Model: \"sequential_7\"\n",
            "_________________________________________________________________\n",
            "Layer (type)                 Output Shape              Param #   \n",
            "=================================================================\n",
            "embedding_6 (Embedding)      (None, 146, 128)          6824192   \n",
            "_________________________________________________________________\n",
            "conv1d_12 (Conv1D)           (None, 142, 128)          82048     \n",
            "_________________________________________________________________\n",
            "max_pooling1d_8 (MaxPooling1 (None, 28, 128)           0         \n",
            "_________________________________________________________________\n",
            "conv1d_13 (Conv1D)           (None, 24, 128)           82048     \n",
            "_________________________________________________________________\n",
            "global_max_pooling1d_1 (Glob (None, 128)               0         \n",
            "_________________________________________________________________\n",
            "dense_3 (Dense)              (None, 128)               16512     \n",
            "_________________________________________________________________\n",
            "dense_4 (Dense)              (None, 1)                 129       \n",
            "=================================================================\n",
            "Total params: 7,004,929\n",
            "Trainable params: 7,004,929\n",
            "Non-trainable params: 0\n",
            "_________________________________________________________________\n",
            "None\n"
          ],
          "name": "stdout"
        }
      ]
    },
    {
      "cell_type": "code",
      "metadata": {
        "id": "Pi2t-dPEkxal",
        "colab_type": "code",
        "colab": {
          "base_uri": "https://localhost:8080/",
          "height": 34
        },
        "outputId": "21d2899e-f71b-4589-9d2e-2175c9af07c3"
      },
      "source": [
        "print(train_X.shape,train_y.shape)"
      ],
      "execution_count": null,
      "outputs": [
        {
          "output_type": "stream",
          "text": [
            "(35000, 146) (35000,)\n"
          ],
          "name": "stdout"
        }
      ]
    },
    {
      "cell_type": "code",
      "metadata": {
        "id": "7LPIvVXfjeYv",
        "colab_type": "code",
        "colab": {
          "base_uri": "https://localhost:8080/",
          "height": 204
        },
        "outputId": "95d1dde4-94be-467c-9884-91eabb131853"
      },
      "source": [
        "batch_size = 100\n",
        "cnnmodel2.fit(train_X, train_y, epochs=5, batch_size=batch_size,verbose=1,\n",
        "              validation_split=0.1)"
      ],
      "execution_count": null,
      "outputs": [
        {
          "output_type": "stream",
          "text": [
            "Epoch 1/5\n",
            "315/315 [==============================] - 86s 272ms/step - loss: 7.4610 - acc: 0.5107 - val_loss: 8.4481 - val_acc: 0.4460\n",
            "Epoch 2/5\n",
            "315/315 [==============================] - 86s 273ms/step - loss: 7.4610 - acc: 0.5107 - val_loss: 8.4481 - val_acc: 0.4460\n",
            "Epoch 3/5\n",
            "315/315 [==============================] - 86s 274ms/step - loss: 7.4610 - acc: 0.5107 - val_loss: 8.4481 - val_acc: 0.4460\n",
            "Epoch 4/5\n",
            "315/315 [==============================] - 86s 273ms/step - loss: 7.4610 - acc: 0.5107 - val_loss: 8.4481 - val_acc: 0.4460\n",
            "Epoch 5/5\n",
            "315/315 [==============================] - 87s 276ms/step - loss: 7.4610 - acc: 0.5107 - val_loss: 8.4481 - val_acc: 0.4460\n"
          ],
          "name": "stdout"
        },
        {
          "output_type": "execute_result",
          "data": {
            "text/plain": [
              "<tensorflow.python.keras.callbacks.History at 0x7f1903b6f208>"
            ]
          },
          "metadata": {
            "tags": []
          },
          "execution_count": 79
        }
      ]
    },
    {
      "cell_type": "code",
      "metadata": {
        "id": "mRjeCJH_jj-o",
        "colab_type": "code",
        "colab": {
          "base_uri": "https://localhost:8080/",
          "height": 224
        },
        "outputId": "91e6c584-e850-49b4-b9c3-d429a4721336"
      },
      "source": [
        "#Evaluate on test set:\n",
        "y_pred = cnnmodel2.predict_classes(test_X)\n",
        "print(classification_report(test_y,y_pred))"
      ],
      "execution_count": null,
      "outputs": [
        {
          "output_type": "stream",
          "text": [
            "              precision    recall  f1-score   support\n",
            "\n",
            "           0       0.00      0.00      0.00      7143\n",
            "           1       0.52      1.00      0.69      7857\n",
            "\n",
            "    accuracy                           0.52     15000\n",
            "   macro avg       0.26      0.50      0.34     15000\n",
            "weighted avg       0.27      0.52      0.36     15000\n",
            "\n"
          ],
          "name": "stdout"
        },
        {
          "output_type": "stream",
          "text": [
            "/usr/local/lib/python3.6/dist-packages/sklearn/metrics/_classification.py:1272: UndefinedMetricWarning: Precision and F-score are ill-defined and being set to 0.0 in labels with no predicted samples. Use `zero_division` parameter to control this behavior.\n",
            "  _warn_prf(average, modifier, msg_start, len(result))\n"
          ],
          "name": "stderr"
        }
      ]
    },
    {
      "cell_type": "markdown",
      "metadata": {
        "id": "1powul9wmsfG",
        "colab_type": "text"
      },
      "source": [
        "# Kaggle CuDNNLSTM"
      ]
    },
    {
      "cell_type": "code",
      "metadata": {
        "id": "gx0jp2Her04y",
        "colab_type": "code",
        "colab": {}
      },
      "source": [
        "import numpy as np \n",
        "import pandas as pd \n",
        "import bz2\n",
        "import gc\n",
        "import chardet\n",
        "import re\n",
        "import os\n",
        "from keras.models import Model, Sequential\n",
        "from keras.layers import LSTM,Dense, Embedding, Input, Conv1D, GlobalMaxPool1D, Dropout, concatenate, Layer, InputSpec\n",
        "from keras.preprocessing import text, sequence\n",
        "from keras.callbacks import EarlyStopping, ModelCheckpoint\n",
        "from keras import backend as K\n",
        "from keras import activations, initializers, regularizers, constraints\n",
        "from keras.utils.conv_utils import conv_output_length\n",
        "from keras.regularizers import l2\n",
        "from keras.constraints import maxnorm"
      ],
      "execution_count": null,
      "outputs": []
    },
    {
      "cell_type": "code",
      "metadata": {
        "id": "yWAyjw6osnsT",
        "colab_type": "code",
        "colab": {}
      },
      "source": [
        "#!pip install --upgrade keras"
      ],
      "execution_count": null,
      "outputs": []
    },
    {
      "cell_type": "markdown",
      "metadata": {
        "id": "TKw6Ugsemv3-",
        "colab_type": "text"
      },
      "source": [
        "https://www.kaggle.com/anshulrai/cudnnlstm-implementation-93-7-accuracy"
      ]
    },
    {
      "cell_type": "code",
      "metadata": {
        "id": "4hjKAhEAn-Hw",
        "colab_type": "code",
        "colab": {
          "base_uri": "https://localhost:8080/",
          "height": 51
        },
        "outputId": "12dc5f81-f77a-4ce0-8f25-9649d433240d"
      },
      "source": [
        "norm_train_reviews=pd.read_csv('/content/drive/My Drive/Data/NLP/Kaggle_Amazone_review_sentiment/norm_train_reviews.csv')\n",
        "norm_test_reviews=pd.read_csv('/content/drive/My Drive/Data/NLP/Kaggle_Amazone_review_sentiment/norm_test_reviews.csv')\n",
        "norm_train_reviews=norm_train_reviews['0']\n",
        "norm_test_reviews=norm_test_reviews['0']\n",
        "print(len(norm_train_reviews))\n",
        "print(len(norm_test_reviews))"
      ],
      "execution_count": 11,
      "outputs": [
        {
          "output_type": "stream",
          "text": [
            "35000\n",
            "15000\n"
          ],
          "name": "stdout"
        }
      ]
    },
    {
      "cell_type": "code",
      "metadata": {
        "id": "JzomoHtbqqJH",
        "colab_type": "code",
        "colab": {
          "base_uri": "https://localhost:8080/",
          "height": 34
        },
        "outputId": "9d2e2cfd-f9ae-4573-ebc4-72a0fdb6ea39"
      },
      "source": [
        "train_set=pd.read_csv('/content/drive/My Drive/Data/NLP/Kaggle_Amazone_review_sentiment/train_set.csv')\n",
        "print(train_set.shape)\n",
        "reviews = np.array(train_set['review'])\n",
        "sentiments = np.array(train_set['label'])\n",
        "train_sentiments = sentiments[:35000]\n",
        "test_sentiments = sentiments[35000:50000]"
      ],
      "execution_count": 12,
      "outputs": [
        {
          "output_type": "stream",
          "text": [
            "(3600000, 3)\n"
          ],
          "name": "stdout"
        }
      ]
    },
    {
      "cell_type": "code",
      "metadata": {
        "id": "my4u2NYRr4IL",
        "colab_type": "code",
        "colab": {}
      },
      "source": [
        "max_features = 20000\n",
        "maxlen = 100"
      ],
      "execution_count": null,
      "outputs": []
    },
    {
      "cell_type": "code",
      "metadata": {
        "id": "6eyE377dr9Xb",
        "colab_type": "code",
        "colab": {}
      },
      "source": [
        "tokenizer = text.Tokenizer(num_words=max_features)\n",
        "tokenizer.fit_on_texts(norm_train_reviews)"
      ],
      "execution_count": null,
      "outputs": []
    },
    {
      "cell_type": "code",
      "metadata": {
        "id": "2t1ZGedur9Sv",
        "colab_type": "code",
        "colab": {}
      },
      "source": [
        "tokenized_train = tokenizer.texts_to_sequences(norm_train_reviews)\n",
        "X_train = sequence.pad_sequences(tokenized_train, maxlen=maxlen)"
      ],
      "execution_count": null,
      "outputs": []
    },
    {
      "cell_type": "code",
      "metadata": {
        "id": "jVz0Qu8Zr9QK",
        "colab_type": "code",
        "colab": {
          "base_uri": "https://localhost:8080/",
          "height": 153
        },
        "outputId": "43ae5621-6dea-43d1-a4dc-e7213dba685c"
      },
      "source": [
        "print(X_train.shape)\n",
        "X_train"
      ],
      "execution_count": null,
      "outputs": [
        {
          "output_type": "stream",
          "text": [
            "(35000, 100)\n"
          ],
          "name": "stdout"
        },
        {
          "output_type": "execute_result",
          "data": {
            "text/plain": [
              "array([[    0,     0,     0, ...,   107,   316,   109],\n",
              "       [    0,     0,     0, ...,    88,    78,  2396],\n",
              "       [    0,     0,     0, ...,    30,    34,    75],\n",
              "       ...,\n",
              "       [    0,     0,     0, ...,   164,     1,   588],\n",
              "       [    0,     0,     0, ..., 18416,  1112,  1056],\n",
              "       [    0,     0,     0, ...,     1,   420,     9]], dtype=int32)"
            ]
          },
          "metadata": {
            "tags": []
          },
          "execution_count": 13
        }
      ]
    },
    {
      "cell_type": "code",
      "metadata": {
        "id": "OFqjPnu7r8o2",
        "colab_type": "code",
        "colab": {
          "base_uri": "https://localhost:8080/",
          "height": 34
        },
        "outputId": "a578b9ce-6b66-4c8e-cd4d-1a0c8016b05c"
      },
      "source": [
        "tokenized_test = tokenizer.texts_to_sequences(norm_test_reviews)\n",
        "X_test = sequence.pad_sequences(tokenized_test, maxlen=maxlen)\n",
        "print(X_test.shape)"
      ],
      "execution_count": null,
      "outputs": [
        {
          "output_type": "stream",
          "text": [
            "(15000, 100)\n"
          ],
          "name": "stdout"
        }
      ]
    },
    {
      "cell_type": "code",
      "metadata": {
        "id": "GuhvnOCNtOjo",
        "colab_type": "code",
        "colab": {}
      },
      "source": [
        "EMBEDDING_FILE = '/content/drive/My Drive/Data/NLP/glove.6B.100d.txt'"
      ],
      "execution_count": null,
      "outputs": []
    },
    {
      "cell_type": "code",
      "metadata": {
        "id": "hYOoOMw0t3B9",
        "colab_type": "code",
        "colab": {}
      },
      "source": [
        "def get_coefs(word, *arr): \n",
        "  return word, np.asarray(arr, dtype='float32')\n",
        "embeddings_index = dict(get_coefs(*o.rstrip().rsplit(' ')) for o in open(EMBEDDING_FILE))"
      ],
      "execution_count": null,
      "outputs": []
    },
    {
      "cell_type": "code",
      "metadata": {
        "id": "yMBARGaPt71M",
        "colab_type": "code",
        "colab": {
          "base_uri": "https://localhost:8080/",
          "height": 71
        },
        "outputId": "e13fe0fe-6ee5-4d76-aaab-c077c7d3b593"
      },
      "source": [
        "all_embs = np.stack(embeddings_index.values())\n",
        "emb_mean,emb_std = all_embs.mean(), all_embs.std()\n",
        "embed_size = all_embs.shape[1]\n",
        "\n",
        "word_index = tokenizer.word_index\n",
        "nb_words = min(max_features, len(word_index))\n",
        "#change below line if computing normal stats is too slow\n",
        "embedding_matrix = np.random.normal(emb_mean, emb_std, (nb_words, embed_size)) #embedding_matrix = np.zeros((nb_words, embed_size))\n",
        "for word, i in word_index.items():\n",
        "    if i >= max_features: continue\n",
        "    embedding_vector = embeddings_index.get(word)\n",
        "    if embedding_vector is not None: embedding_matrix[i] = embedding_vector"
      ],
      "execution_count": null,
      "outputs": [
        {
          "output_type": "stream",
          "text": [
            "/usr/local/lib/python3.6/dist-packages/IPython/core/interactiveshell.py:2822: FutureWarning: arrays to stack must be passed as a \"sequence\" type such as list or tuple. Support for non-sequence iterables such as generators is deprecated as of NumPy 1.16 and will raise an error in the future.\n",
            "  if self.run_code(code, result):\n"
          ],
          "name": "stderr"
        }
      ]
    },
    {
      "cell_type": "code",
      "metadata": {
        "id": "jZ-2NOtdt_uN",
        "colab_type": "code",
        "colab": {
          "base_uri": "https://localhost:8080/",
          "height": 255
        },
        "outputId": "a89f4e6a-267a-45ed-80e4-5e7983d22aff"
      },
      "source": [
        "print(embedding_matrix.shape)\n",
        "embedding_matrix"
      ],
      "execution_count": null,
      "outputs": [
        {
          "output_type": "stream",
          "text": [
            "(20000, 100)\n"
          ],
          "name": "stdout"
        },
        {
          "output_type": "execute_result",
          "data": {
            "text/plain": [
              "array([[-3.73279406e-01, -1.08945996e-01, -3.23282658e-01, ...,\n",
              "        -2.71308239e-01,  2.56275949e-01,  2.68222112e-01],\n",
              "       [-1.91039994e-01,  1.76009998e-01,  3.69199991e-01, ...,\n",
              "        -5.96800029e-01,  8.08430016e-02,  2.78659999e-01],\n",
              "       [-1.97439998e-01,  4.48309988e-01,  1.36889994e-01, ...,\n",
              "        -5.69679976e-01,  1.53739995e-03,  6.66000009e-01],\n",
              "       ...,\n",
              "       [-3.97029996e-01, -4.21180010e-01,  4.91499990e-01, ...,\n",
              "         2.89440006e-01,  5.59660017e-01,  9.49620008e-01],\n",
              "       [-4.53359991e-01,  5.52269995e-01,  2.18989998e-01, ...,\n",
              "        -5.59360027e-01,  1.59140003e+00,  7.47829974e-02],\n",
              "       [-6.30200028e-01,  1.06739998e+00, -5.99319994e-01, ...,\n",
              "         7.62539983e-01, -3.41219991e-01,  1.09800005e+00]])"
            ]
          },
          "metadata": {
            "tags": []
          },
          "execution_count": 18
        }
      ]
    },
    {
      "cell_type": "code",
      "metadata": {
        "id": "2m003kRDuC0X",
        "colab_type": "code",
        "colab": {}
      },
      "source": [
        "#del tokenized_test, tokenized_train, tokenizer, word_index, embeddings_index, all_embs, nb_words\n",
        "#gc.collect()"
      ],
      "execution_count": null,
      "outputs": []
    },
    {
      "cell_type": "code",
      "metadata": {
        "id": "9-asvranuMhL",
        "colab_type": "code",
        "colab": {}
      },
      "source": [
        "batch_size = 2048\n",
        "epochs = 7\n",
        "embed_size = 100"
      ],
      "execution_count": null,
      "outputs": []
    },
    {
      "cell_type": "code",
      "metadata": {
        "id": "x57Svjs0uR-2",
        "colab_type": "code",
        "colab": {
          "base_uri": "https://localhost:8080/",
          "height": 700
        },
        "outputId": "a6b88511-341f-4e36-b023-94bff9d8469e"
      },
      "source": [
        "def cudnnlstm_model(conv_layers = 2, max_dilation_rate = 3):\n",
        "    inp = Input(shape=(maxlen, ))\n",
        "    x = Embedding(max_features, embed_size, weights=[embedding_matrix], trainable=True)(inp)\n",
        "    x = Dropout(0.25)(x)\n",
        "    x = Conv1D(2*embed_size, kernel_size = 3)(x)\n",
        "    prefilt = Conv1D(2*embed_size, kernel_size = 3)(x)\n",
        "    x = prefilt\n",
        "    for strides in [1, 1, 2]:\n",
        "        x = Conv1D(128*2**(strides), strides = strides, kernel_regularizer=l2(4e-6), bias_regularizer=l2(4e-6), kernel_size=3, kernel_constraint=maxnorm(10), bias_constraint=maxnorm(10))(x)\n",
        "    x_f = LSTM(512, kernel_regularizer=l2(4e-6), bias_regularizer=l2(4e-6), kernel_constraint=maxnorm(10), bias_constraint=maxnorm(10))(x)  \n",
        "    x_b = LSTM(512, kernel_regularizer=l2(4e-6), bias_regularizer=l2(4e-6), kernel_constraint=maxnorm(10), bias_constraint=maxnorm(10))(x)\n",
        "    x = concatenate([x_f, x_b])\n",
        "    x = Dropout(0.5)(x)\n",
        "    x = Dense(64, activation=\"relu\")(x)\n",
        "    x = Dropout(0.1)(x)\n",
        "    x = Dense(1, activation=\"sigmoid\")(x)\n",
        "    model = Model(inputs=inp, outputs=x)\n",
        "    model.compile(loss='binary_crossentropy',\n",
        "                  optimizer='adam',\n",
        "                  metrics=['binary_accuracy'])\n",
        "\n",
        "    return model\n",
        "\n",
        "cudnnlstm_model = cudnnlstm_model()\n",
        "cudnnlstm_model.summary()"
      ],
      "execution_count": null,
      "outputs": [
        {
          "output_type": "stream",
          "text": [
            "Model: \"functional_1\"\n",
            "__________________________________________________________________________________________________\n",
            "Layer (type)                    Output Shape         Param #     Connected to                     \n",
            "==================================================================================================\n",
            "input_1 (InputLayer)            [(None, 100)]        0                                            \n",
            "__________________________________________________________________________________________________\n",
            "embedding (Embedding)           (None, 100, 100)     2000000     input_1[0][0]                    \n",
            "__________________________________________________________________________________________________\n",
            "dropout (Dropout)               (None, 100, 100)     0           embedding[0][0]                  \n",
            "__________________________________________________________________________________________________\n",
            "conv1d (Conv1D)                 (None, 98, 200)      60200       dropout[0][0]                    \n",
            "__________________________________________________________________________________________________\n",
            "conv1d_1 (Conv1D)               (None, 96, 200)      120200      conv1d[0][0]                     \n",
            "__________________________________________________________________________________________________\n",
            "conv1d_2 (Conv1D)               (None, 94, 256)      153856      conv1d_1[0][0]                   \n",
            "__________________________________________________________________________________________________\n",
            "conv1d_3 (Conv1D)               (None, 92, 256)      196864      conv1d_2[0][0]                   \n",
            "__________________________________________________________________________________________________\n",
            "conv1d_4 (Conv1D)               (None, 45, 512)      393728      conv1d_3[0][0]                   \n",
            "__________________________________________________________________________________________________\n",
            "lstm (LSTM)                     (None, 512)          2099200     conv1d_4[0][0]                   \n",
            "__________________________________________________________________________________________________\n",
            "lstm_1 (LSTM)                   (None, 512)          2099200     conv1d_4[0][0]                   \n",
            "__________________________________________________________________________________________________\n",
            "concatenate (Concatenate)       (None, 1024)         0           lstm[0][0]                       \n",
            "                                                                 lstm_1[0][0]                     \n",
            "__________________________________________________________________________________________________\n",
            "dropout_1 (Dropout)             (None, 1024)         0           concatenate[0][0]                \n",
            "__________________________________________________________________________________________________\n",
            "dense (Dense)                   (None, 64)           65600       dropout_1[0][0]                  \n",
            "__________________________________________________________________________________________________\n",
            "dropout_2 (Dropout)             (None, 64)           0           dense[0][0]                      \n",
            "__________________________________________________________________________________________________\n",
            "dense_1 (Dense)                 (None, 1)            65          dropout_2[0][0]                  \n",
            "==================================================================================================\n",
            "Total params: 7,188,913\n",
            "Trainable params: 7,188,913\n",
            "Non-trainable params: 0\n",
            "__________________________________________________________________________________________________\n"
          ],
          "name": "stdout"
        }
      ]
    },
    {
      "cell_type": "code",
      "metadata": {
        "id": "9Tm2wxZmuWi2",
        "colab_type": "code",
        "colab": {}
      },
      "source": [
        "weight_path=\"early_weights.hdf5\"\n",
        "checkpoint = ModelCheckpoint(weight_path, monitor='val_loss', verbose=1, save_best_only=True, mode='min')\n",
        "early_stopping = EarlyStopping(monitor=\"val_loss\", mode=\"min\", patience=5)\n",
        "callbacks = [checkpoint, early_stopping]"
      ],
      "execution_count": null,
      "outputs": []
    },
    {
      "cell_type": "code",
      "metadata": {
        "id": "ge3XkIhhukqF",
        "colab_type": "code",
        "colab": {
          "base_uri": "https://localhost:8080/",
          "height": 530
        },
        "outputId": "b58daf01-f230-452b-d40c-a9228206cf3b"
      },
      "source": [
        "cudnnlstm_model.fit(X_train, train_sentiments, batch_size=batch_size, \n",
        "                    epochs=epochs, shuffle = True, validation_split=0.20, \n",
        "                    callbacks=callbacks,verbose=1)"
      ],
      "execution_count": null,
      "outputs": [
        {
          "output_type": "stream",
          "text": [
            "Epoch 1/7\n",
            "14/14 [==============================] - ETA: 0s - loss: 0.7399 - binary_accuracy: 0.5462\n",
            "Epoch 00001: val_loss improved from inf to 0.61902, saving model to early_weights.hdf5\n",
            "14/14 [==============================] - 28s 2s/step - loss: 0.7399 - binary_accuracy: 0.5462 - val_loss: 0.6190 - val_binary_accuracy: 0.6850\n",
            "Epoch 2/7\n",
            "14/14 [==============================] - ETA: 0s - loss: 0.6037 - binary_accuracy: 0.6963\n",
            "Epoch 00002: val_loss improved from 0.61902 to 0.56850, saving model to early_weights.hdf5\n",
            "14/14 [==============================] - 26s 2s/step - loss: 0.6037 - binary_accuracy: 0.6963 - val_loss: 0.5685 - val_binary_accuracy: 0.8120\n",
            "Epoch 3/7\n",
            "14/14 [==============================] - ETA: 0s - loss: 0.5185 - binary_accuracy: 0.7637\n",
            "Epoch 00003: val_loss improved from 0.56850 to 0.41932, saving model to early_weights.hdf5\n",
            "14/14 [==============================] - 26s 2s/step - loss: 0.5185 - binary_accuracy: 0.7637 - val_loss: 0.4193 - val_binary_accuracy: 0.8226\n",
            "Epoch 4/7\n",
            "14/14 [==============================] - ETA: 0s - loss: 0.4361 - binary_accuracy: 0.8131\n",
            "Epoch 00004: val_loss improved from 0.41932 to 0.37817, saving model to early_weights.hdf5\n",
            "14/14 [==============================] - 26s 2s/step - loss: 0.4361 - binary_accuracy: 0.8131 - val_loss: 0.3782 - val_binary_accuracy: 0.8439\n",
            "Epoch 5/7\n",
            "14/14 [==============================] - ETA: 0s - loss: 0.3904 - binary_accuracy: 0.8354\n",
            "Epoch 00005: val_loss improved from 0.37817 to 0.34417, saving model to early_weights.hdf5\n",
            "14/14 [==============================] - 26s 2s/step - loss: 0.3904 - binary_accuracy: 0.8354 - val_loss: 0.3442 - val_binary_accuracy: 0.8586\n",
            "Epoch 6/7\n",
            "14/14 [==============================] - ETA: 0s - loss: 0.3594 - binary_accuracy: 0.8505\n",
            "Epoch 00006: val_loss improved from 0.34417 to 0.31961, saving model to early_weights.hdf5\n",
            "14/14 [==============================] - 26s 2s/step - loss: 0.3594 - binary_accuracy: 0.8505 - val_loss: 0.3196 - val_binary_accuracy: 0.8721\n",
            "Epoch 7/7\n",
            "14/14 [==============================] - ETA: 0s - loss: 0.3404 - binary_accuracy: 0.8608\n",
            "Epoch 00007: val_loss did not improve from 0.31961\n",
            "14/14 [==============================] - 26s 2s/step - loss: 0.3404 - binary_accuracy: 0.8608 - val_loss: 0.3477 - val_binary_accuracy: 0.8590\n"
          ],
          "name": "stdout"
        },
        {
          "output_type": "execute_result",
          "data": {
            "text/plain": [
              "<tensorflow.python.keras.callbacks.History at 0x7f0d72842fd0>"
            ]
          },
          "metadata": {
            "tags": []
          },
          "execution_count": 23
        }
      ]
    },
    {
      "cell_type": "code",
      "metadata": {
        "id": "FbS6oeAJupKF",
        "colab_type": "code",
        "colab": {
          "base_uri": "https://localhost:8080/",
          "height": 68
        },
        "outputId": "f74566cd-d53c-4999-b544-1310883a7eff"
      },
      "source": [
        "score, acc = cudnnlstm_model.evaluate(X_test, test_sentiments, batch_size=batch_size)\n",
        "print('Test score:', score)\n",
        "print('Test accuracy:', acc)"
      ],
      "execution_count": null,
      "outputs": [
        {
          "output_type": "stream",
          "text": [
            "8/8 [==============================] - 4s 529ms/step - loss: 0.3603 - binary_accuracy: 0.8494\n",
            "Test score: 0.36029815673828125\n",
            "Test accuracy: 0.849399983882904\n"
          ],
          "name": "stdout"
        }
      ]
    },
    {
      "cell_type": "code",
      "metadata": {
        "id": "5x3JWUesvJcH",
        "colab_type": "code",
        "colab": {
          "base_uri": "https://localhost:8080/",
          "height": 136
        },
        "outputId": "5dbf6c6e-aa8d-49c0-86a1-f9c9b6f2cb1f"
      },
      "source": [
        "#Evaluate on test set:\n",
        "\n",
        "y_pred = cudnnlstm_model.predict(X_test)\n",
        "y_pred"
      ],
      "execution_count": null,
      "outputs": [
        {
          "output_type": "execute_result",
          "data": {
            "text/plain": [
              "array([[0.01546661],\n",
              "       [0.0285088 ],\n",
              "       [0.8842947 ],\n",
              "       ...,\n",
              "       [0.13450688],\n",
              "       [0.9937104 ],\n",
              "       [0.96193534]], dtype=float32)"
            ]
          },
          "metadata": {
            "tags": []
          },
          "execution_count": 26
        }
      ]
    },
    {
      "cell_type": "code",
      "metadata": {
        "id": "_E5lqEJwyh99",
        "colab_type": "code",
        "colab": {}
      },
      "source": [
        "y_pred=np.round(y_pred)"
      ],
      "execution_count": null,
      "outputs": []
    },
    {
      "cell_type": "code",
      "metadata": {
        "id": "yy_FpwQJvWUl",
        "colab_type": "code",
        "colab": {
          "base_uri": "https://localhost:8080/",
          "height": 170
        },
        "outputId": "4aefdca2-cfc6-4ec7-b313-19179ca4b403"
      },
      "source": [
        "from sklearn.metrics import classification_report\n",
        "print(classification_report(test_sentiments,y_pred))"
      ],
      "execution_count": null,
      "outputs": [
        {
          "output_type": "stream",
          "text": [
            "              precision    recall  f1-score   support\n",
            "\n",
            "           0       0.91      0.76      0.83      7143\n",
            "           1       0.81      0.93      0.87      7857\n",
            "\n",
            "    accuracy                           0.85     15000\n",
            "   macro avg       0.86      0.85      0.85     15000\n",
            "weighted avg       0.86      0.85      0.85     15000\n",
            "\n"
          ],
          "name": "stdout"
        }
      ]
    },
    {
      "cell_type": "markdown",
      "metadata": {
        "id": "49IUocgm5HPq",
        "colab_type": "text"
      },
      "source": [
        "# Fast text supervised model"
      ]
    },
    {
      "cell_type": "markdown",
      "metadata": {
        "id": "vTjq7os_5NVa",
        "colab_type": "text"
      },
      "source": [
        "One of the fastest and most accessible text classifier to anyone, without GPU\n",
        "\n",
        "FastText is well known for its distributed representation, which ultimately gets used as an embedding layer in a typical Deep Learning model such as a CNN or an LSTM. However, many don't know that FastText is also a supervised model. To prove the point, this Amazon dataset has been created to support the FastText format. And yet, 6 months later, no one has even tried to post a kernel for using FastText supervised model. What many also don't know is that, it is in fact a pretty good supervised model. Probably one of the fastest and the best out there without using a GPU. I'll cut straight to the chase and demonstrate how this is done. For a full writeup that's about to come soon, check out my blog post here:"
      ]
    },
    {
      "cell_type": "markdown",
      "metadata": {
        "id": "C5J7Zrk05KUj",
        "colab_type": "text"
      },
      "source": [
        "https://www.kaggle.com/ejlok1/fasttext-model-91-7"
      ]
    },
    {
      "cell_type": "code",
      "metadata": {
        "id": "T_E884oO6HEk",
        "colab_type": "code",
        "colab": {
          "base_uri": "https://localhost:8080/",
          "height": 258
        },
        "outputId": "1a9a4da9-de95-4846-d780-8797877344f6"
      },
      "source": [
        "!pip install fasttext"
      ],
      "execution_count": null,
      "outputs": [
        {
          "output_type": "stream",
          "text": [
            "Collecting fasttext\n",
            "\u001b[?25l  Downloading https://files.pythonhosted.org/packages/f8/85/e2b368ab6d3528827b147fdb814f8189acc981a4bc2f99ab894650e05c40/fasttext-0.9.2.tar.gz (68kB)\n",
            "\r\u001b[K     |████▊                           | 10kB 11.8MB/s eta 0:00:01\r\u001b[K     |█████████▌                      | 20kB 2.2MB/s eta 0:00:01\r\u001b[K     |██████████████▎                 | 30kB 2.7MB/s eta 0:00:01\r\u001b[K     |███████████████████             | 40kB 3.0MB/s eta 0:00:01\r\u001b[K     |███████████████████████▉        | 51kB 2.6MB/s eta 0:00:01\r\u001b[K     |████████████████████████████▋   | 61kB 2.8MB/s eta 0:00:01\r\u001b[K     |████████████████████████████████| 71kB 2.4MB/s \n",
            "\u001b[?25hRequirement already satisfied: pybind11>=2.2 in /usr/local/lib/python3.6/dist-packages (from fasttext) (2.5.0)\n",
            "Requirement already satisfied: setuptools>=0.7.0 in /usr/local/lib/python3.6/dist-packages (from fasttext) (49.2.0)\n",
            "Requirement already satisfied: numpy in /usr/local/lib/python3.6/dist-packages (from fasttext) (1.18.5)\n",
            "Building wheels for collected packages: fasttext\n",
            "  Building wheel for fasttext (setup.py) ... \u001b[?25l\u001b[?25hdone\n",
            "  Created wheel for fasttext: filename=fasttext-0.9.2-cp36-cp36m-linux_x86_64.whl size=3020490 sha256=6019c9cc2d643c67ba9e8c1b0b312c5c59914710478088bb6781ad4f9f7e82eb\n",
            "  Stored in directory: /root/.cache/pip/wheels/98/ba/7f/b154944a1cf5a8cee91c154b75231136cc3a3321ab0e30f592\n",
            "Successfully built fasttext\n",
            "Installing collected packages: fasttext\n",
            "Successfully installed fasttext-0.9.2\n"
          ],
          "name": "stdout"
        }
      ]
    },
    {
      "cell_type": "code",
      "metadata": {
        "id": "vRpTj98P6FMb",
        "colab_type": "code",
        "colab": {}
      },
      "source": [
        "import numpy as np # linear algebra\n",
        "import pandas as pd # data processing, CSV file I/O (e.g. pd.read_csv)\n",
        "import fasttext\n",
        "import bz2\n",
        "import csv\n",
        "from sklearn.metrics import roc_auc_score\n",
        "import os"
      ],
      "execution_count": null,
      "outputs": []
    },
    {
      "cell_type": "code",
      "metadata": {
        "id": "UddMHAK95U4Q",
        "colab_type": "code",
        "colab": {
          "base_uri": "https://localhost:8080/",
          "height": 34
        },
        "outputId": "8b8dc400-0270-46fc-e60e-bc964f73e65c"
      },
      "source": [
        "data = bz2.BZ2File('/content/drive/My Drive/Data/NLP/Kaggle_Amazone_review_sentiment/train.ft.txt.bz2')\n",
        "data = data.readlines()\n",
        "data = [x.decode('utf-8') for x in data]\n",
        "print(len(data)) "
      ],
      "execution_count": null,
      "outputs": [
        {
          "output_type": "stream",
          "text": [
            "3600000\n"
          ],
          "name": "stdout"
        }
      ]
    },
    {
      "cell_type": "code",
      "metadata": {
        "id": "xyRr9rz75VGu",
        "colab_type": "code",
        "colab": {
          "base_uri": "https://localhost:8080/",
          "height": 105
        },
        "outputId": "0b20ff12-1479-468e-d375-338d09ddff2f"
      },
      "source": [
        "# 3.6mil rows! Lets inspect a few records to see the format and get a feel for the data\n",
        "data[1:5]"
      ],
      "execution_count": null,
      "outputs": [
        {
          "output_type": "execute_result",
          "data": {
            "text/plain": [
              "[\"__label__2 The best soundtrack ever to anything.: I'm reading a lot of reviews saying that this is the best 'game soundtrack' and I figured that I'd write a review to disagree a bit. This in my opinino is Yasunori Mitsuda's ultimate masterpiece. The music is timeless and I'm been listening to it for years now and its beauty simply refuses to fade.The price tag on this is pretty staggering I must say, but if you are going to buy any cd for this much money, this is the only one that I feel would be worth every penny.\\n\",\n",
              " '__label__2 Amazing!: This soundtrack is my favorite music of all time, hands down. The intense sadness of \"Prisoners of Fate\" (which means all the more if you\\'ve played the game) and the hope in \"A Distant Promise\" and \"Girl who Stole the Star\" have been an important inspiration to me personally throughout my teen years. The higher energy tracks like \"Chrono Cross ~ Time\\'s Scar~\", \"Time of the Dreamwatch\", and \"Chronomantique\" (indefinably remeniscent of Chrono Trigger) are all absolutely superb as well.This soundtrack is amazing music, probably the best of this composer\\'s work (I haven\\'t heard the Xenogears soundtrack, so I can\\'t say for sure), and even if you\\'ve never played the game, it would be worth twice the price to buy it.I wish I could give it 6 stars.\\n',\n",
              " \"__label__2 Excellent Soundtrack: I truly like this soundtrack and I enjoy video game music. I have played this game and most of the music on here I enjoy and it's truly relaxing and peaceful.On disk one. my favorites are Scars Of Time, Between Life and Death, Forest Of Illusion, Fortress of Ancient Dragons, Lost Fragment, and Drowned Valley.Disk Two: The Draggons, Galdorb - Home, Chronomantique, Prisoners of Fate, Gale, and my girlfriend likes ZelbessDisk Three: The best of the three. Garden Of God, Chronopolis, Fates, Jellyfish sea, Burning Orphange, Dragon's Prayer, Tower Of Stars, Dragon God, and Radical Dreamers - Unstealable Jewel.Overall, this is a excellent soundtrack and should be brought by those that like video game music.Xander Cross\\n\",\n",
              " \"__label__2 Remember, Pull Your Jaw Off The Floor After Hearing it: If you've played the game, you know how divine the music is! Every single song tells a story of the game, it's that good! The greatest songs are without a doubt, Chrono Cross: Time's Scar, Magical Dreamers: The Wind, The Stars, and the Sea and Radical Dreamers: Unstolen Jewel. (Translation varies) This music is perfect if you ask me, the best it can be. Yasunori Mitsuda just poured his heart on and wrote it down on paper.\\n\"]"
            ]
          },
          "metadata": {
            "tags": []
          },
          "execution_count": 43
        }
      ]
    },
    {
      "cell_type": "markdown",
      "metadata": {
        "id": "WZwqmBky6VU3",
        "colab_type": "text"
      },
      "source": [
        "## Data prep and modelling\n",
        "A slight inconvenience with the FastText model is the need to save the dataset into a text file. And the annoying encoding of the \"__label __#\". Basically, the target and the text is all in the same cell. They are distinguished by the prefix of '__label __#'. Lets say if have 2 labels and one is 'Ham' and the other 'Spam', then your labels would be '__label __Ham' and '__label __Spam'. You can include as many labels as well, not just 2.\n",
        "\n",
        "Thankfully, this dataset has already been formated in that way as you can see from the first 5 records I printed out. We just need to write it out to disk."
      ]
    },
    {
      "cell_type": "code",
      "metadata": {
        "id": "CAkL-nJg5VD-",
        "colab_type": "code",
        "colab": {
          "base_uri": "https://localhost:8080/",
          "height": 54
        },
        "outputId": "117c3945-0d76-4345-bf3b-c8b88f7a7d6f"
      },
      "source": [
        "# Data Prep\n",
        "data = pd.DataFrame(data)\n",
        "data.to_csv(\"train.txt\", index=False, sep=' ', header=False, quoting=csv.QUOTE_NONE, quotechar=\"\", escapechar=\" \")\n",
        "\n",
        "# Modelling\n",
        "# This routine takes about 5 to 10 minutes \n",
        "model = fasttext.train_supervised('train.txt',label_prefix='__label__', thread=4, epoch = 10)\n",
        "print(model.labels, 'are the labels or targets the model is predicting')"
      ],
      "execution_count": null,
      "outputs": [
        {
          "output_type": "stream",
          "text": [
            "['__label__1', '__label__2'] are the labels or targets the model is predicting\n"
          ],
          "name": "stdout"
        }
      ]
    },
    {
      "cell_type": "markdown",
      "metadata": {
        "id": "Oo8B-PD36tyk",
        "colab_type": "text"
      },
      "source": [
        "## Apply predictions\n",
        "\n",
        "Ok after about 10 minutes or so, the model is finished. Now lets apply the predictions to the test dataset. Thankfully, we don't have to write out a physical text file to do the prediction. You could if you want to, but I'm just going to use the data object"
      ]
    },
    {
      "cell_type": "code",
      "metadata": {
        "id": "GZRnW3g-5VAR",
        "colab_type": "code",
        "colab": {
          "base_uri": "https://localhost:8080/",
          "height": 68
        },
        "outputId": "29d9e842-2863-4ae1-ff88-017ffb2cea86"
      },
      "source": [
        "# Load the test data \n",
        "test = bz2.BZ2File(\"/content/drive/My Drive/Data/NLP/Kaggle_Amazone_review_sentiment/test.ft.txt.bz2\")\n",
        "test = test.readlines()\n",
        "test = [x.decode('utf-8') for x in test]\n",
        "print(len(test), 'number of records in the test set') \n",
        "\n",
        "# To run the predict function, we need to remove the __label__1 and __label__2 from the testset.  \n",
        "new = [w.replace('__label__2 ', '') for w in test]\n",
        "new = [w.replace('__label__1 ', '') for w in new]\n",
        "new = [w.replace('\\n', '') for w in new]\n",
        "\n",
        "# Use the predict function \n",
        "pred = model.predict(new)\n",
        "\n",
        "# check the first record outputs\n",
        "print(pred[0][0], 'is the predicted label')\n",
        "print(pred[0][1], 'is the probability score')"
      ],
      "execution_count": null,
      "outputs": [
        {
          "output_type": "stream",
          "text": [
            "400000 number of records in the test set\n",
            "['__label__2'] is the predicted label\n",
            "['__label__2'] is the probability score\n"
          ],
          "name": "stdout"
        }
      ]
    },
    {
      "cell_type": "code",
      "metadata": {
        "id": "465I_Wdd5U9Y",
        "colab_type": "code",
        "colab": {}
      },
      "source": [
        "# Lets recode the actual targets to 1's and 0's from both the test set and the actual predictions  \n",
        "labels = [0 if x.split(' ')[0] == '__label__1' else 1 for x in test]\n",
        "pred_labels = [0 if x == ['__label__1'] else 1 for x in pred[0]]"
      ],
      "execution_count": null,
      "outputs": []
    },
    {
      "cell_type": "code",
      "metadata": {
        "id": "AmTHqs2k5U1Z",
        "colab_type": "code",
        "colab": {
          "base_uri": "https://localhost:8080/",
          "height": 170
        },
        "outputId": "a6b6603e-af3e-4bcb-a8c6-6768f13ad190"
      },
      "source": [
        "from sklearn.metrics import classification_report\n",
        "print(classification_report(labels, pred_labels))"
      ],
      "execution_count": null,
      "outputs": [
        {
          "output_type": "stream",
          "text": [
            "              precision    recall  f1-score   support\n",
            "\n",
            "           0       0.92      0.92      0.92    200000\n",
            "           1       0.92      0.92      0.92    200000\n",
            "\n",
            "    accuracy                           0.92    400000\n",
            "   macro avg       0.92      0.92      0.92    400000\n",
            "weighted avg       0.92      0.92      0.92    400000\n",
            "\n"
          ],
          "name": "stdout"
        }
      ]
    },
    {
      "cell_type": "markdown",
      "metadata": {
        "id": "BmIaZqQP7wxQ",
        "colab_type": "text"
      },
      "source": [
        "# DistilBert"
      ]
    },
    {
      "cell_type": "markdown",
      "metadata": {
        "id": "zDLqZquF7yTL",
        "colab_type": "text"
      },
      "source": [
        "https://www.kaggle.com/alexalex02/sentiment-analysis-distilbert-amazon-reviews"
      ]
    },
    {
      "cell_type": "code",
      "metadata": {
        "id": "b9wfAUs5AKtB",
        "colab_type": "code",
        "colab": {
          "base_uri": "https://localhost:8080/",
          "height": 224
        },
        "outputId": "387852c8-cbca-4b6a-b3aa-7e610d02d28e"
      },
      "source": [
        "!pip install eli5"
      ],
      "execution_count": null,
      "outputs": [
        {
          "output_type": "stream",
          "text": [
            "Requirement already satisfied: eli5 in /usr/local/lib/python3.6/dist-packages (0.10.1)\n",
            "Requirement already satisfied: graphviz in /usr/local/lib/python3.6/dist-packages (from eli5) (0.10.1)\n",
            "Requirement already satisfied: six in /usr/local/lib/python3.6/dist-packages (from eli5) (1.15.0)\n",
            "Requirement already satisfied: attrs>16.0.0 in /usr/local/lib/python3.6/dist-packages (from eli5) (19.3.0)\n",
            "Requirement already satisfied: numpy>=1.9.0 in /usr/local/lib/python3.6/dist-packages (from eli5) (1.18.5)\n",
            "Requirement already satisfied: tabulate>=0.7.7 in /usr/local/lib/python3.6/dist-packages (from eli5) (0.8.7)\n",
            "Requirement already satisfied: jinja2 in /usr/local/lib/python3.6/dist-packages (from eli5) (2.11.2)\n",
            "Requirement already satisfied: scipy in /usr/local/lib/python3.6/dist-packages (from eli5) (1.4.1)\n",
            "Requirement already satisfied: scikit-learn>=0.18 in /usr/local/lib/python3.6/dist-packages (from eli5) (0.22.2.post1)\n",
            "Requirement already satisfied: MarkupSafe>=0.23 in /usr/local/lib/python3.6/dist-packages (from jinja2->eli5) (1.1.1)\n",
            "Requirement already satisfied: joblib>=0.11 in /usr/local/lib/python3.6/dist-packages (from scikit-learn>=0.18->eli5) (0.16.0)\n"
          ],
          "name": "stdout"
        }
      ]
    },
    {
      "cell_type": "code",
      "metadata": {
        "id": "iBf4Ar0n5Jch",
        "colab_type": "code",
        "colab": {}
      },
      "source": [
        "import pandas as pd\n",
        "import numpy as np\n",
        "import matplotlib.pyplot as plt\n",
        "import os\n",
        "import warnings\n",
        "import seaborn as sns\n",
        "warnings.filterwarnings('ignore')\n",
        "\n",
        "from sklearn.feature_extraction.text import TfidfVectorizer\n",
        "from sklearn.linear_model import LogisticRegression\n",
        "from sklearn.metrics import accuracy_score, f1_score, confusion_matrix\n",
        "from sklearn.model_selection import train_test_split\n",
        "import joblib\n",
        "#import eli5"
      ],
      "execution_count": 2,
      "outputs": []
    },
    {
      "cell_type": "markdown",
      "metadata": {
        "id": "FtRisiM08R_R",
        "colab_type": "text"
      },
      "source": [
        "## EDA"
      ]
    },
    {
      "cell_type": "code",
      "metadata": {
        "id": "ZxeAIaPl8GI5",
        "colab_type": "code",
        "colab": {
          "base_uri": "https://localhost:8080/",
          "height": 374
        },
        "outputId": "a3de3b98-43ca-4880-a8a1-dae07cfff482"
      },
      "source": [
        "path='/content/drive/My Drive/Data/NLP/Kaggle_Amazone_review_sentiment/train_set.csv'\n",
        "train_val = pd.read_csv(path, index_col=0)\n",
        "train_val.reset_index(drop=True, inplace=True)\n",
        "print(train_val.info())\n",
        "display(train_val.head())"
      ],
      "execution_count": 3,
      "outputs": [
        {
          "output_type": "stream",
          "text": [
            "<class 'pandas.core.frame.DataFrame'>\n",
            "RangeIndex: 3600000 entries, 0 to 3599999\n",
            "Data columns (total 2 columns):\n",
            " #   Column  Dtype \n",
            "---  ------  ----- \n",
            " 0   review  object\n",
            " 1   label   int64 \n",
            "dtypes: int64(1), object(1)\n",
            "memory usage: 54.9+ MB\n",
            "None\n"
          ],
          "name": "stdout"
        },
        {
          "output_type": "display_data",
          "data": {
            "text/html": [
              "<div>\n",
              "<style scoped>\n",
              "    .dataframe tbody tr th:only-of-type {\n",
              "        vertical-align: middle;\n",
              "    }\n",
              "\n",
              "    .dataframe tbody tr th {\n",
              "        vertical-align: top;\n",
              "    }\n",
              "\n",
              "    .dataframe thead th {\n",
              "        text-align: right;\n",
              "    }\n",
              "</style>\n",
              "<table border=\"1\" class=\"dataframe\">\n",
              "  <thead>\n",
              "    <tr style=\"text-align: right;\">\n",
              "      <th></th>\n",
              "      <th>review</th>\n",
              "      <th>label</th>\n",
              "    </tr>\n",
              "  </thead>\n",
              "  <tbody>\n",
              "    <tr>\n",
              "      <th>0</th>\n",
              "      <td>stuning even for the non-gamer: this sound tra...</td>\n",
              "      <td>1</td>\n",
              "    </tr>\n",
              "    <tr>\n",
              "      <th>1</th>\n",
              "      <td>the best soundtrack ever to anything.: i'm rea...</td>\n",
              "      <td>1</td>\n",
              "    </tr>\n",
              "    <tr>\n",
              "      <th>2</th>\n",
              "      <td>amazing!: this soundtrack is my favorite music...</td>\n",
              "      <td>1</td>\n",
              "    </tr>\n",
              "    <tr>\n",
              "      <th>3</th>\n",
              "      <td>excellent soundtrack: i truly like this soundt...</td>\n",
              "      <td>1</td>\n",
              "    </tr>\n",
              "    <tr>\n",
              "      <th>4</th>\n",
              "      <td>remember, pull your jaw off the floor after he...</td>\n",
              "      <td>1</td>\n",
              "    </tr>\n",
              "  </tbody>\n",
              "</table>\n",
              "</div>"
            ],
            "text/plain": [
              "                                              review  label\n",
              "0  stuning even for the non-gamer: this sound tra...      1\n",
              "1  the best soundtrack ever to anything.: i'm rea...      1\n",
              "2  amazing!: this soundtrack is my favorite music...      1\n",
              "3  excellent soundtrack: i truly like this soundt...      1\n",
              "4  remember, pull your jaw off the floor after he...      1"
            ]
          },
          "metadata": {
            "tags": []
          }
        }
      ]
    },
    {
      "cell_type": "code",
      "metadata": {
        "id": "x_1LpBK2Dqat",
        "colab_type": "code",
        "colab": {
          "base_uri": "https://localhost:8080/",
          "height": 34
        },
        "outputId": "28381d3d-2d06-4ac7-cda6-f06271e1b7cd"
      },
      "source": [
        "train_val=train_val[:50000]\n",
        "train_val.shape"
      ],
      "execution_count": 4,
      "outputs": [
        {
          "output_type": "execute_result",
          "data": {
            "text/plain": [
              "(50000, 2)"
            ]
          },
          "metadata": {
            "tags": []
          },
          "execution_count": 4
        }
      ]
    },
    {
      "cell_type": "code",
      "metadata": {
        "id": "RUOSE-er8OSk",
        "colab_type": "code",
        "colab": {
          "base_uri": "https://localhost:8080/",
          "height": 295
        },
        "outputId": "614f7f6a-b536-4151-a256-54d6eb88b847"
      },
      "source": [
        "sns.countplot(train_val['label']);\n",
        "plt.title('Labels distribution');"
      ],
      "execution_count": null,
      "outputs": [
        {
          "output_type": "display_data",
          "data": {
            "image/png": "[encoded data removed]",
            "text/plain": [
              "<Figure size 432x288 with 1 Axes>"
            ]
          },
          "metadata": {
            "tags": [],
            "needs_background": "light"
          }
        }
      ]
    },
    {
      "cell_type": "code",
      "metadata": {
        "id": "s0knsx438OQa",
        "colab_type": "code",
        "colab": {
          "base_uri": "https://localhost:8080/",
          "height": 279
        },
        "outputId": "0a89761b-0b56-45a2-ef54-21bd48239fce"
      },
      "source": [
        "train_val['len'] = train_val['review'].apply(lambda x: len(x.split()))\n",
        "sns.distplot(train_val['len']);"
      ],
      "execution_count": null,
      "outputs": [
        {
          "output_type": "display_data",
          "data": {
            "image/png": "[encoded data removed]",
            "text/plain": [
              "<Figure size 432x288 with 1 Axes>"
            ]
          },
          "metadata": {
            "tags": [],
            "needs_background": "light"
          }
        }
      ]
    },
    {
      "cell_type": "code",
      "metadata": {
        "id": "gEiH2Ans8ONs",
        "colab_type": "code",
        "colab": {
          "base_uri": "https://localhost:8080/",
          "height": 420
        },
        "outputId": "fcf9f52a-9777-4539-ac4a-1d3baae019df"
      },
      "source": [
        "neg_mean_len = train_val.groupby('label')['len'].mean().values[0]\n",
        "pos_mean_len = train_val.groupby('label')['len'].mean().values[1]\n",
        "\n",
        "print(f\"Negative mean length: {neg_mean_len:.2f}\")\n",
        "print(f\"Positive mean length: {pos_mean_len:.2f}\")\n",
        "print(f\"Mean Difference: {neg_mean_len-pos_mean_len:.2f}\")\n",
        "ax = sns.catplot(x='label', y='len', data=train_val, kind='box')"
      ],
      "execution_count": null,
      "outputs": [
        {
          "output_type": "stream",
          "text": [
            "Negative mean length: 81.50\n",
            "Positive mean length: 75.46\n",
            "Mean Difference: 6.04\n"
          ],
          "name": "stdout"
        },
        {
          "output_type": "display_data",
          "data": {
            "image/png": "[encoded data removed]",
            "text/plain": [
              "<Figure size 360x360 with 1 Axes>"
            ]
          },
          "metadata": {
            "tags": [],
            "needs_background": "light"
          }
        }
      ]
    },
    {
      "cell_type": "markdown",
      "metadata": {
        "id": "Z4qph_-AAb7q",
        "colab_type": "text"
      },
      "source": [
        "We can see that negative sentences are longer on average. To say how significant this difference, we use permutation testing and calculate p-value.\n",
        "\n",
        "First, we define a function to generate a permutation sample from two arrays. Then, we generate permutation replicates, which are a single statistic computed from permutation sample. Last, we compute the probability of getting at least 5.91 difference in mean under the hypothesis that the distributions of words are identical."
      ]
    },
    {
      "cell_type": "code",
      "metadata": {
        "id": "JItyl0Kg8OLa",
        "colab_type": "code",
        "colab": {}
      },
      "source": [
        "neg_array = train_val[train_val['label']==0]['len'].values\n",
        "pos_array = train_val[train_val['label']==1]['len'].values\n",
        "mean_diff = neg_mean_len - pos_mean_len"
      ],
      "execution_count": null,
      "outputs": []
    },
    {
      "cell_type": "code",
      "metadata": {
        "id": "ak641N6U8OIw",
        "colab_type": "code",
        "colab": {}
      },
      "source": [
        "def permutation_sample(data1, data2):\n",
        "    # Permute the concatenated array: permuted_data\n",
        "    data = np.concatenate((data1,data2))\n",
        "    permuted_data = np.random.permutation(data)\n",
        "\n",
        "    # Split the permuted array into two: perm_sample_1, perm_sample_2\n",
        "    perm_sample_1 = permuted_data[:len(data1)]\n",
        "    perm_sample_2 = permuted_data[len(data1):]\n",
        "\n",
        "    return perm_sample_1, perm_sample_2"
      ],
      "execution_count": null,
      "outputs": []
    },
    {
      "cell_type": "code",
      "metadata": {
        "id": "v6bLBErPAxVv",
        "colab_type": "code",
        "colab": {}
      },
      "source": [
        "def draw_perm_reps(data_1, data_2, size=1):\n",
        "\n",
        "    perm_replicates = np.empty(size)\n",
        "\n",
        "    for i in range(size):\n",
        "        # Generate permutation sample\n",
        "        perm_sample_1, perm_sample_2 = permutation_sample(data_1, data_2)\n",
        "\n",
        "        # Compute the test statistic\n",
        "        perm_replicates[i] = np.mean(perm_sample_1) - np.mean(perm_sample_2)\n",
        "\n",
        "    return perm_replicates"
      ],
      "execution_count": null,
      "outputs": []
    },
    {
      "cell_type": "code",
      "metadata": {
        "id": "DpB2tvOYA01k",
        "colab_type": "code",
        "colab": {}
      },
      "source": [
        "perm_replicates = draw_perm_reps(neg_array, pos_array,\n",
        "                                 size=10000)\n",
        "\n",
        "# Compute p-value: p\n",
        "p = np.sum(perm_replicates >= mean_diff) / len(perm_replicates)\n",
        "\n",
        "print(f'p-value = {p}')\n",
        "# p-value = 0.0"
      ],
      "execution_count": null,
      "outputs": []
    },
    {
      "cell_type": "markdown",
      "metadata": {
        "id": "1EcDkSV2A4_6",
        "colab_type": "text"
      },
      "source": [
        "The p-value tells us that the null hypothesis is false."
      ]
    },
    {
      "cell_type": "markdown",
      "metadata": {
        "id": "1lmCJt4jA-nH",
        "colab_type": "text"
      },
      "source": [
        "## Baseline - LogReg (Tf-Idf)"
      ]
    },
    {
      "cell_type": "code",
      "metadata": {
        "id": "-9nf3fKFA3Om",
        "colab_type": "code",
        "colab": {}
      },
      "source": [
        "from sklearn.metrics import classification_report\n",
        "\n",
        "def prediction(model, X_train, y_train, X_valid, y_valid):\n",
        "    model.fit(X_train, y_train)\n",
        "    pred = model.predict(X_valid)\n",
        "    acc = accuracy_score(y_valid, pred)\n",
        "    print(classification_report(y_valid, pred))\n",
        "    f1 = f1_score(y_valid, pred)\n",
        "    conf = confusion_matrix(y_valid, pred)\n",
        "    joblib.dump(model, f\"model_acc_{acc:.5f}.pkl\")\n",
        "    return model, acc, f1, conf"
      ],
      "execution_count": null,
      "outputs": []
    },
    {
      "cell_type": "code",
      "metadata": {
        "id": "ajV8DJr7BBRe",
        "colab_type": "code",
        "colab": {}
      },
      "source": [
        "transformer = TfidfVectorizer(stop_words='english', ngram_range=(1, 3), \n",
        "                              lowercase=True, max_features=100000)\n",
        "X = transformer.fit_transform(train_val['review'])\n",
        "y = train_val.label"
      ],
      "execution_count": null,
      "outputs": []
    },
    {
      "cell_type": "code",
      "metadata": {
        "id": "HUdnJUNWBDN5",
        "colab_type": "code",
        "colab": {
          "base_uri": "https://localhost:8080/",
          "height": 68
        },
        "outputId": "5c753f15-0f1b-49ce-8f5e-5e45f192f1d4"
      },
      "source": [
        "X_train, X_valid, y_train, y_valid = train_test_split(X, y, test_size=0.2, \n",
        "                                                      random_state=42, stratify=y)\n",
        "print(X_train.shape, y_train.shape)\n",
        "X_train"
      ],
      "execution_count": null,
      "outputs": [
        {
          "output_type": "stream",
          "text": [
            "(40000, 100000) (40000,)\n"
          ],
          "name": "stdout"
        },
        {
          "output_type": "execute_result",
          "data": {
            "text/plain": [
              "<40000x100000 sparse matrix of type '<class 'numpy.float64'>'\n",
              "\twith 1709950 stored elements in Compressed Sparse Row format>"
            ]
          },
          "metadata": {
            "tags": []
          },
          "execution_count": 7
        }
      ]
    },
    {
      "cell_type": "code",
      "metadata": {
        "id": "wXDQa3EKCAch",
        "colab_type": "code",
        "colab": {
          "base_uri": "https://localhost:8080/",
          "height": 170
        },
        "outputId": "fa65a66d-35ef-4f57-ec1f-37a6cf7eaad8"
      },
      "source": [
        "model = LogisticRegression(C=1, random_state=42, n_jobs=-1)\n",
        "fit_model, acc, f1, conf = prediction(model, X_train, y_train, X_valid, y_valid)"
      ],
      "execution_count": null,
      "outputs": [
        {
          "output_type": "stream",
          "text": [
            "              precision    recall  f1-score   support\n",
            "\n",
            "           0       0.89      0.87      0.88      4899\n",
            "           1       0.88      0.89      0.89      5101\n",
            "\n",
            "    accuracy                           0.88     10000\n",
            "   macro avg       0.88      0.88      0.88     10000\n",
            "weighted avg       0.88      0.88      0.88     10000\n",
            "\n"
          ],
          "name": "stdout"
        }
      ]
    },
    {
      "cell_type": "code",
      "metadata": {
        "id": "82dlTB7IBEoL",
        "colab_type": "code",
        "colab": {
          "base_uri": "https://localhost:8080/",
          "height": 85
        },
        "outputId": "5fecf435-e8c6-45bf-95f5-85d738386444"
      },
      "source": [
        "print(f\"Accuracy: {acc:.5f}\")\n",
        "print(f\"F1_Score: {f1:.5f}\")\n",
        "print(f\"Confusion Matrix: {conf}\")"
      ],
      "execution_count": null,
      "outputs": [
        {
          "output_type": "stream",
          "text": [
            "Accuracy: 0.88420\n",
            "F1_Score: 0.88729\n",
            "Confusion Matrix: [[4284  615]\n",
            " [ 543 4558]]\n"
          ],
          "name": "stdout"
        }
      ]
    },
    {
      "cell_type": "code",
      "metadata": {
        "id": "2r3N7J6vBIbv",
        "colab_type": "code",
        "colab": {
          "base_uri": "https://localhost:8080/",
          "height": 804
        },
        "outputId": "ab899a1c-fd33-41f2-ae42-8616751e640d"
      },
      "source": [
        "eli5.show_weights(estimator=fit_model, \n",
        "                  feature_names= list(transformer.get_feature_names()),\n",
        "                    top=(20,20))"
      ],
      "execution_count": null,
      "outputs": [
        {
          "output_type": "execute_result",
          "data": {
            "text/html": [
              "\n",
              "    <style>\n",
              "    table.eli5-weights tr:hover {\n",
              "        filter: brightness(85%);\n",
              "    }\n",
              "</style>\n",
              "\n",
              "\n",
              "\n",
              "    \n",
              "\n",
              "    \n",
              "\n",
              "    \n",
              "\n",
              "    \n",
              "\n",
              "    \n",
              "\n",
              "    \n",
              "\n",
              "\n",
              "    \n",
              "\n",
              "    \n",
              "\n",
              "    \n",
              "\n",
              "    \n",
              "        \n",
              "\n",
              "    \n",
              "\n",
              "        \n",
              "            \n",
              "                \n",
              "                \n",
              "    \n",
              "        <p style=\"margin-bottom: 0.5em; margin-top: 0em\">\n",
              "            <b>\n",
              "    \n",
              "        y=1\n",
              "    \n",
              "</b>\n",
              "\n",
              "top features\n",
              "        </p>\n",
              "    \n",
              "    <table class=\"eli5-weights\"\n",
              "           style=\"border-collapse: collapse; border: none; margin-top: 0em; table-layout: auto; margin-bottom: 2em;\">\n",
              "        <thead>\n",
              "        <tr style=\"border: none;\">\n",
              "            \n",
              "                <th style=\"padding: 0 1em 0 0.5em; text-align: right; border: none;\" title=\"Feature weights. Note that weights do not account for feature value scales, so if feature values have different scales, features with highest weights might not be the most important.\">\n",
              "                    Weight<sup>?</sup>\n",
              "                </th>\n",
              "            \n",
              "            <th style=\"padding: 0 0.5em 0 0.5em; text-align: left; border: none;\">Feature</th>\n",
              "            \n",
              "        </tr>\n",
              "        </thead>\n",
              "        <tbody>\n",
              "        \n",
              "            <tr style=\"background-color: hsl(120, 100.00%, 80.00%); border: none;\">\n",
              "    <td style=\"padding: 0 1em 0 0.5em; text-align: right; border: none;\">\n",
              "        +12.115\n",
              "    </td>\n",
              "    <td style=\"padding: 0 0.5em 0 0.5em; text-align: left; border: none;\">\n",
              "        great\n",
              "    </td>\n",
              "    \n",
              "</tr>\n",
              "        \n",
              "            <tr style=\"background-color: hsl(120, 100.00%, 83.53%); border: none;\">\n",
              "    <td style=\"padding: 0 1em 0 0.5em; text-align: right; border: none;\">\n",
              "        +9.180\n",
              "    </td>\n",
              "    <td style=\"padding: 0 0.5em 0 0.5em; text-align: left; border: none;\">\n",
              "        excellent\n",
              "    </td>\n",
              "    \n",
              "</tr>\n",
              "        \n",
              "            <tr style=\"background-color: hsl(120, 100.00%, 84.49%); border: none;\">\n",
              "    <td style=\"padding: 0 1em 0 0.5em; text-align: right; border: none;\">\n",
              "        +8.426\n",
              "    </td>\n",
              "    <td style=\"padding: 0 0.5em 0 0.5em; text-align: left; border: none;\">\n",
              "        best\n",
              "    </td>\n",
              "    \n",
              "</tr>\n",
              "        \n",
              "            <tr style=\"background-color: hsl(120, 100.00%, 85.67%); border: none;\">\n",
              "    <td style=\"padding: 0 1em 0 0.5em; text-align: right; border: none;\">\n",
              "        +7.523\n",
              "    </td>\n",
              "    <td style=\"padding: 0 0.5em 0 0.5em; text-align: left; border: none;\">\n",
              "        love\n",
              "    </td>\n",
              "    \n",
              "</tr>\n",
              "        \n",
              "            <tr style=\"background-color: hsl(120, 100.00%, 86.19%); border: none;\">\n",
              "    <td style=\"padding: 0 1em 0 0.5em; text-align: right; border: none;\">\n",
              "        +7.140\n",
              "    </td>\n",
              "    <td style=\"padding: 0 0.5em 0 0.5em; text-align: left; border: none;\">\n",
              "        perfect\n",
              "    </td>\n",
              "    \n",
              "</tr>\n",
              "        \n",
              "            <tr style=\"background-color: hsl(120, 100.00%, 86.65%); border: none;\">\n",
              "    <td style=\"padding: 0 1em 0 0.5em; text-align: right; border: none;\">\n",
              "        +6.802\n",
              "    </td>\n",
              "    <td style=\"padding: 0 0.5em 0 0.5em; text-align: left; border: none;\">\n",
              "        awesome\n",
              "    </td>\n",
              "    \n",
              "</tr>\n",
              "        \n",
              "            <tr style=\"background-color: hsl(120, 100.00%, 87.73%); border: none;\">\n",
              "    <td style=\"padding: 0 1em 0 0.5em; text-align: right; border: none;\">\n",
              "        +6.031\n",
              "    </td>\n",
              "    <td style=\"padding: 0 0.5em 0 0.5em; text-align: left; border: none;\">\n",
              "        amazing\n",
              "    </td>\n",
              "    \n",
              "</tr>\n",
              "        \n",
              "            <tr style=\"background-color: hsl(120, 100.00%, 87.91%); border: none;\">\n",
              "    <td style=\"padding: 0 1em 0 0.5em; text-align: right; border: none;\">\n",
              "        +5.904\n",
              "    </td>\n",
              "    <td style=\"padding: 0 0.5em 0 0.5em; text-align: left; border: none;\">\n",
              "        wonderful\n",
              "    </td>\n",
              "    \n",
              "</tr>\n",
              "        \n",
              "            <tr style=\"background-color: hsl(120, 100.00%, 88.22%); border: none;\">\n",
              "    <td style=\"padding: 0 1em 0 0.5em; text-align: right; border: none;\">\n",
              "        +5.689\n",
              "    </td>\n",
              "    <td style=\"padding: 0 0.5em 0 0.5em; text-align: left; border: none;\">\n",
              "        favorite\n",
              "    </td>\n",
              "    \n",
              "</tr>\n",
              "        \n",
              "            <tr style=\"background-color: hsl(120, 100.00%, 88.75%); border: none;\">\n",
              "    <td style=\"padding: 0 1em 0 0.5em; text-align: right; border: none;\">\n",
              "        +5.327\n",
              "    </td>\n",
              "    <td style=\"padding: 0 0.5em 0 0.5em; text-align: left; border: none;\">\n",
              "        easy\n",
              "    </td>\n",
              "    \n",
              "</tr>\n",
              "        \n",
              "            <tr style=\"background-color: hsl(120, 100.00%, 89.07%); border: none;\">\n",
              "    <td style=\"padding: 0 1em 0 0.5em; text-align: right; border: none;\">\n",
              "        +5.111\n",
              "    </td>\n",
              "    <td style=\"padding: 0 0.5em 0 0.5em; text-align: left; border: none;\">\n",
              "        good\n",
              "    </td>\n",
              "    \n",
              "</tr>\n",
              "        \n",
              "            <tr style=\"background-color: hsl(120, 100.00%, 89.21%); border: none;\">\n",
              "    <td style=\"padding: 0 1em 0 0.5em; text-align: right; border: none;\">\n",
              "        +5.020\n",
              "    </td>\n",
              "    <td style=\"padding: 0 0.5em 0 0.5em; text-align: left; border: none;\">\n",
              "        loved\n",
              "    </td>\n",
              "    \n",
              "</tr>\n",
              "        \n",
              "            <tr style=\"background-color: hsl(120, 100.00%, 89.57%); border: none;\">\n",
              "    <td style=\"padding: 0 1em 0 0.5em; text-align: right; border: none;\">\n",
              "        +4.778\n",
              "    </td>\n",
              "    <td style=\"padding: 0 0.5em 0 0.5em; text-align: left; border: none;\">\n",
              "        enjoyed\n",
              "    </td>\n",
              "    \n",
              "</tr>\n",
              "        \n",
              "            <tr style=\"background-color: hsl(120, 100.00%, 89.79%); border: none;\">\n",
              "    <td style=\"padding: 0 1em 0 0.5em; text-align: right; border: none;\">\n",
              "        +4.634\n",
              "    </td>\n",
              "    <td style=\"padding: 0 0.5em 0 0.5em; text-align: left; border: none;\">\n",
              "        highly\n",
              "    </td>\n",
              "    \n",
              "</tr>\n",
              "        \n",
              "            <tr style=\"background-color: hsl(120, 100.00%, 89.83%); border: none;\">\n",
              "    <td style=\"padding: 0 1em 0 0.5em; text-align: right; border: none;\">\n",
              "        +4.609\n",
              "    </td>\n",
              "    <td style=\"padding: 0 0.5em 0 0.5em; text-align: left; border: none;\">\n",
              "        fantastic\n",
              "    </td>\n",
              "    \n",
              "</tr>\n",
              "        \n",
              "            <tr style=\"background-color: hsl(120, 100.00%, 89.96%); border: none;\">\n",
              "    <td style=\"padding: 0 1em 0 0.5em; text-align: right; border: none;\">\n",
              "        +4.527\n",
              "    </td>\n",
              "    <td style=\"padding: 0 0.5em 0 0.5em; text-align: left; border: none;\">\n",
              "        loves\n",
              "    </td>\n",
              "    \n",
              "</tr>\n",
              "        \n",
              "            <tr style=\"background-color: hsl(120, 100.00%, 90.07%); border: none;\">\n",
              "    <td style=\"padding: 0 1em 0 0.5em; text-align: right; border: none;\">\n",
              "        +4.455\n",
              "    </td>\n",
              "    <td style=\"padding: 0 0.5em 0 0.5em; text-align: left; border: none;\">\n",
              "        fun\n",
              "    </td>\n",
              "    \n",
              "</tr>\n",
              "        \n",
              "            <tr style=\"background-color: hsl(120, 100.00%, 90.98%); border: none;\">\n",
              "    <td style=\"padding: 0 1em 0 0.5em; text-align: right; border: none;\">\n",
              "        +3.886\n",
              "    </td>\n",
              "    <td style=\"padding: 0 0.5em 0 0.5em; text-align: left; border: none;\">\n",
              "        works\n",
              "    </td>\n",
              "    \n",
              "</tr>\n",
              "        \n",
              "            <tr style=\"background-color: hsl(120, 100.00%, 91.05%); border: none;\">\n",
              "    <td style=\"padding: 0 1em 0 0.5em; text-align: right; border: none;\">\n",
              "        +3.840\n",
              "    </td>\n",
              "    <td style=\"padding: 0 0.5em 0 0.5em; text-align: left; border: none;\">\n",
              "        beautiful\n",
              "    </td>\n",
              "    \n",
              "</tr>\n",
              "        \n",
              "            <tr style=\"background-color: hsl(120, 100.00%, 91.10%); border: none;\">\n",
              "    <td style=\"padding: 0 1em 0 0.5em; text-align: right; border: none;\">\n",
              "        +3.812\n",
              "    </td>\n",
              "    <td style=\"padding: 0 0.5em 0 0.5em; text-align: left; border: none;\">\n",
              "        classic\n",
              "    </td>\n",
              "    \n",
              "</tr>\n",
              "        \n",
              "        \n",
              "            <tr style=\"background-color: hsl(120, 100.00%, 91.10%); border: none;\">\n",
              "                <td colspan=\"2\" style=\"padding: 0 0.5em 0 0.5em; text-align: center; border: none; white-space: nowrap;\">\n",
              "                    <i>&hellip; 49954 more positive &hellip;</i>\n",
              "                </td>\n",
              "            </tr>\n",
              "        \n",
              "\n",
              "        \n",
              "            <tr style=\"background-color: hsl(0, 100.00%, 90.98%); border: none;\">\n",
              "                <td colspan=\"2\" style=\"padding: 0 0.5em 0 0.5em; text-align: center; border: none; white-space: nowrap;\">\n",
              "                    <i>&hellip; 49570 more negative &hellip;</i>\n",
              "                </td>\n",
              "            </tr>\n",
              "        \n",
              "        \n",
              "            <tr style=\"background-color: hsl(0, 100.00%, 90.98%); border: none;\">\n",
              "    <td style=\"padding: 0 1em 0 0.5em; text-align: right; border: none;\">\n",
              "        -3.885\n",
              "    </td>\n",
              "    <td style=\"padding: 0 0.5em 0 0.5em; text-align: left; border: none;\">\n",
              "        dull\n",
              "    </td>\n",
              "    \n",
              "</tr>\n",
              "        \n",
              "            <tr style=\"background-color: hsl(0, 100.00%, 90.96%); border: none;\">\n",
              "    <td style=\"padding: 0 1em 0 0.5em; text-align: right; border: none;\">\n",
              "        -3.895\n",
              "    </td>\n",
              "    <td style=\"padding: 0 0.5em 0 0.5em; text-align: left; border: none;\">\n",
              "        ok\n",
              "    </td>\n",
              "    \n",
              "</tr>\n",
              "        \n",
              "            <tr style=\"background-color: hsl(0, 100.00%, 90.77%); border: none;\">\n",
              "    <td style=\"padding: 0 1em 0 0.5em; text-align: right; border: none;\">\n",
              "        -4.016\n",
              "    </td>\n",
              "    <td style=\"padding: 0 0.5em 0 0.5em; text-align: left; border: none;\">\n",
              "        didn\n",
              "    </td>\n",
              "    \n",
              "</tr>\n",
              "        \n",
              "            <tr style=\"background-color: hsl(0, 100.00%, 90.35%); border: none;\">\n",
              "    <td style=\"padding: 0 1em 0 0.5em; text-align: right; border: none;\">\n",
              "        -4.274\n",
              "    </td>\n",
              "    <td style=\"padding: 0 0.5em 0 0.5em; text-align: left; border: none;\">\n",
              "        worse\n",
              "    </td>\n",
              "    \n",
              "</tr>\n",
              "        \n",
              "            <tr style=\"background-color: hsl(0, 100.00%, 90.32%); border: none;\">\n",
              "    <td style=\"padding: 0 1em 0 0.5em; text-align: right; border: none;\">\n",
              "        -4.297\n",
              "    </td>\n",
              "    <td style=\"padding: 0 0.5em 0 0.5em; text-align: left; border: none;\">\n",
              "        return\n",
              "    </td>\n",
              "    \n",
              "</tr>\n",
              "        \n",
              "            <tr style=\"background-color: hsl(0, 100.00%, 89.77%); border: none;\">\n",
              "    <td style=\"padding: 0 1em 0 0.5em; text-align: right; border: none;\">\n",
              "        -4.650\n",
              "    </td>\n",
              "    <td style=\"padding: 0 0.5em 0 0.5em; text-align: left; border: none;\">\n",
              "        instead\n",
              "    </td>\n",
              "    \n",
              "</tr>\n",
              "        \n",
              "            <tr style=\"background-color: hsl(0, 100.00%, 89.73%); border: none;\">\n",
              "    <td style=\"padding: 0 1em 0 0.5em; text-align: right; border: none;\">\n",
              "        -4.678\n",
              "    </td>\n",
              "    <td style=\"padding: 0 0.5em 0 0.5em; text-align: left; border: none;\">\n",
              "        poorly\n",
              "    </td>\n",
              "    \n",
              "</tr>\n",
              "        \n",
              "            <tr style=\"background-color: hsl(0, 100.00%, 88.89%); border: none;\">\n",
              "    <td style=\"padding: 0 1em 0 0.5em; text-align: right; border: none;\">\n",
              "        -5.234\n",
              "    </td>\n",
              "    <td style=\"padding: 0 0.5em 0 0.5em; text-align: left; border: none;\">\n",
              "        unfortunately\n",
              "    </td>\n",
              "    \n",
              "</tr>\n",
              "        \n",
              "            <tr style=\"background-color: hsl(0, 100.00%, 88.81%); border: none;\">\n",
              "    <td style=\"padding: 0 1em 0 0.5em; text-align: right; border: none;\">\n",
              "        -5.286\n",
              "    </td>\n",
              "    <td style=\"padding: 0 0.5em 0 0.5em; text-align: left; border: none;\">\n",
              "        awful\n",
              "    </td>\n",
              "    \n",
              "</tr>\n",
              "        \n",
              "            <tr style=\"background-color: hsl(0, 100.00%, 88.42%); border: none;\">\n",
              "    <td style=\"padding: 0 1em 0 0.5em; text-align: right; border: none;\">\n",
              "        -5.550\n",
              "    </td>\n",
              "    <td style=\"padding: 0 0.5em 0 0.5em; text-align: left; border: none;\">\n",
              "        money\n",
              "    </td>\n",
              "    \n",
              "</tr>\n",
              "        \n",
              "            <tr style=\"background-color: hsl(0, 100.00%, 87.23%); border: none;\">\n",
              "    <td style=\"padding: 0 1em 0 0.5em; text-align: right; border: none;\">\n",
              "        -6.386\n",
              "    </td>\n",
              "    <td style=\"padding: 0 0.5em 0 0.5em; text-align: left; border: none;\">\n",
              "        disappointment\n",
              "    </td>\n",
              "    \n",
              "</tr>\n",
              "        \n",
              "            <tr style=\"background-color: hsl(0, 100.00%, 87.03%); border: none;\">\n",
              "    <td style=\"padding: 0 1em 0 0.5em; text-align: right; border: none;\">\n",
              "        -6.523\n",
              "    </td>\n",
              "    <td style=\"padding: 0 0.5em 0 0.5em; text-align: left; border: none;\">\n",
              "        terrible\n",
              "    </td>\n",
              "    \n",
              "</tr>\n",
              "        \n",
              "            <tr style=\"background-color: hsl(0, 100.00%, 86.60%); border: none;\">\n",
              "    <td style=\"padding: 0 1em 0 0.5em; text-align: right; border: none;\">\n",
              "        -6.837\n",
              "    </td>\n",
              "    <td style=\"padding: 0 0.5em 0 0.5em; text-align: left; border: none;\">\n",
              "        bad\n",
              "    </td>\n",
              "    \n",
              "</tr>\n",
              "        \n",
              "            <tr style=\"background-color: hsl(0, 100.00%, 86.22%); border: none;\">\n",
              "    <td style=\"padding: 0 1em 0 0.5em; text-align: right; border: none;\">\n",
              "        -7.116\n",
              "    </td>\n",
              "    <td style=\"padding: 0 0.5em 0 0.5em; text-align: left; border: none;\">\n",
              "        horrible\n",
              "    </td>\n",
              "    \n",
              "</tr>\n",
              "        \n",
              "            <tr style=\"background-color: hsl(0, 100.00%, 85.75%); border: none;\">\n",
              "    <td style=\"padding: 0 1em 0 0.5em; text-align: right; border: none;\">\n",
              "        -7.463\n",
              "    </td>\n",
              "    <td style=\"padding: 0 0.5em 0 0.5em; text-align: left; border: none;\">\n",
              "        disappointing\n",
              "    </td>\n",
              "    \n",
              "</tr>\n",
              "        \n",
              "            <tr style=\"background-color: hsl(0, 100.00%, 85.43%); border: none;\">\n",
              "    <td style=\"padding: 0 1em 0 0.5em; text-align: right; border: none;\">\n",
              "        -7.702\n",
              "    </td>\n",
              "    <td style=\"padding: 0 0.5em 0 0.5em; text-align: left; border: none;\">\n",
              "        waste\n",
              "    </td>\n",
              "    \n",
              "</tr>\n",
              "        \n",
              "            <tr style=\"background-color: hsl(0, 100.00%, 85.04%); border: none;\">\n",
              "    <td style=\"padding: 0 1em 0 0.5em; text-align: right; border: none;\">\n",
              "        -8.003\n",
              "    </td>\n",
              "    <td style=\"padding: 0 0.5em 0 0.5em; text-align: left; border: none;\">\n",
              "        poor\n",
              "    </td>\n",
              "    \n",
              "</tr>\n",
              "        \n",
              "            <tr style=\"background-color: hsl(0, 100.00%, 84.25%); border: none;\">\n",
              "    <td style=\"padding: 0 1em 0 0.5em; text-align: right; border: none;\">\n",
              "        -8.609\n",
              "    </td>\n",
              "    <td style=\"padding: 0 0.5em 0 0.5em; text-align: left; border: none;\">\n",
              "        disappointed\n",
              "    </td>\n",
              "    \n",
              "</tr>\n",
              "        \n",
              "            <tr style=\"background-color: hsl(0, 100.00%, 84.01%); border: none;\">\n",
              "    <td style=\"padding: 0 1em 0 0.5em; text-align: right; border: none;\">\n",
              "        -8.800\n",
              "    </td>\n",
              "    <td style=\"padding: 0 0.5em 0 0.5em; text-align: left; border: none;\">\n",
              "        worst\n",
              "    </td>\n",
              "    \n",
              "</tr>\n",
              "        \n",
              "            <tr style=\"background-color: hsl(0, 100.00%, 82.56%); border: none;\">\n",
              "    <td style=\"padding: 0 1em 0 0.5em; text-align: right; border: none;\">\n",
              "        -9.961\n",
              "    </td>\n",
              "    <td style=\"padding: 0 0.5em 0 0.5em; text-align: left; border: none;\">\n",
              "        boring\n",
              "    </td>\n",
              "    \n",
              "</tr>\n",
              "        \n",
              "\n",
              "        </tbody>\n",
              "    </table>\n",
              "\n",
              "            \n",
              "        \n",
              "\n",
              "        \n",
              "\n",
              "\n",
              "\n",
              "    \n",
              "\n",
              "    \n",
              "\n",
              "    \n",
              "\n",
              "    \n",
              "\n",
              "\n",
              "    \n",
              "\n",
              "    \n",
              "\n",
              "    \n",
              "\n",
              "    \n",
              "\n",
              "    \n",
              "\n",
              "    \n",
              "\n",
              "\n",
              "    \n",
              "\n",
              "    \n",
              "\n",
              "    \n",
              "\n",
              "    \n",
              "\n",
              "    \n",
              "\n",
              "    \n",
              "\n",
              "\n",
              "\n"
            ],
            "text/plain": [
              "<IPython.core.display.HTML object>"
            ]
          },
          "metadata": {
            "tags": []
          },
          "execution_count": 10
        }
      ]
    },
    {
      "cell_type": "markdown",
      "metadata": {
        "id": "s7AGvubFCTz4",
        "colab_type": "text"
      },
      "source": [
        "## DistilBert"
      ]
    },
    {
      "cell_type": "markdown",
      "metadata": {
        "id": "SG4GDemHCWCG",
        "colab_type": "text"
      },
      "source": [
        "Here we'll use DistilBert from transformers. And catalyst for running experiment.\n",
        "\n",
        "First, we install torch nightly for Mixed-precision training."
      ]
    },
    {
      "cell_type": "code",
      "metadata": {
        "id": "tWGXDDo9CPfs",
        "colab_type": "code",
        "colab": {}
      },
      "source": [
        "#!pip install --pre torch==1.7.0.dev20200701+cu101 torchvision==0.8.0.dev20200701+cu101 -f https://download.pytorch.org/whl/nightly/cu101/torch_nightly.html"
      ],
      "execution_count": null,
      "outputs": []
    },
    {
      "cell_type": "code",
      "metadata": {
        "id": "n3TWYMGuFWiQ",
        "colab_type": "code",
        "colab": {}
      },
      "source": [
        "!pip install transformers"
      ],
      "execution_count": null,
      "outputs": []
    },
    {
      "cell_type": "code",
      "metadata": {
        "id": "wFLt4nFoFfby",
        "colab_type": "code",
        "colab": {}
      },
      "source": [
        "!pip install catalyst"
      ],
      "execution_count": null,
      "outputs": []
    },
    {
      "cell_type": "code",
      "metadata": {
        "id": "R7howCmGGrzT",
        "colab_type": "code",
        "colab": {}
      },
      "source": [
        "!pip install wandb"
      ],
      "execution_count": null,
      "outputs": []
    },
    {
      "cell_type": "code",
      "metadata": {
        "id": "XDdkaqcnCgvW",
        "colab_type": "code",
        "colab": {}
      },
      "source": [
        "import os\n",
        "os.environ['WANDB_SILENT'] = 'True'\n",
        "os.environ['CUDA_VISIBLE_DEVICES'] = \"0\"\n",
        "\n",
        "from typing import Mapping, List\n",
        "from tqdm import tqdm\n",
        "import warnings\n",
        "warnings.filterwarnings('ignore')\n",
        "\n",
        "import numpy as np\n",
        "import pandas as pd\n",
        "from sklearn.model_selection import train_test_split\n",
        "\n",
        "import torch\n",
        "import torch.nn as nn\n",
        "from torch.utils.data import Dataset, DataLoader\n",
        "import torch.nn.functional as F\n",
        "\n",
        "from transformers import AutoConfig, AutoTokenizer, AutoModel\n",
        "\n",
        "from catalyst.dl import SupervisedRunner\n",
        "from catalyst.dl.callbacks import AccuracyCallback, OptimizerCallback, CheckpointCallback,WandbLogger\n",
        "from catalyst.utils import set_global_seed, prepare_cudnn\n",
        "from catalyst.contrib.nn import RAdam, Lookahead, OneCycleLRWithWarmup\n",
        "#import wandb"
      ],
      "execution_count": 1,
      "outputs": []
    },
    {
      "cell_type": "code",
      "metadata": {
        "id": "FIgpkjqZIFnc",
        "colab_type": "code",
        "colab": {}
      },
      "source": [
        "#!pip install pytorch_lightning"
      ],
      "execution_count": null,
      "outputs": []
    },
    {
      "cell_type": "code",
      "metadata": {
        "id": "HpgQXrXQHT5k",
        "colab_type": "code",
        "colab": {}
      },
      "source": [
        "#import pytorch_lightning as pl\n",
        "#from pytorch_lightning.loggers import WandbLogger"
      ],
      "execution_count": null,
      "outputs": []
    },
    {
      "cell_type": "code",
      "metadata": {
        "id": "cdL7T_3pCgsw",
        "colab_type": "code",
        "colab": {}
      },
      "source": [
        "#Config setup\n",
        "MODEL_NAME = 'distilbert-base-uncased'\n",
        "LOG_DIR = \"./amazon\" \n",
        "NUM_EPOCHS = 2 \n",
        "LEARNING_RATE = 5e-5\n",
        "MAX_SEQ_LENGTH = 512\n",
        "BATCH_SIZE = 32\n",
        "WEIGHT_DECAY = 1e-3\n",
        "ACCUMULATION_STEPS = 3\n",
        "SEED = 42\n",
        "FP_16 = dict(opt_level=\"O1\")"
      ],
      "execution_count": 5,
      "outputs": []
    },
    {
      "cell_type": "code",
      "metadata": {
        "id": "-TYWW9bYCgpk",
        "colab_type": "code",
        "colab": {}
      },
      "source": [
        "#For reproducibility\n",
        "set_global_seed(SEED)\n",
        "prepare_cudnn(deterministic=True, benchmark=True)"
      ],
      "execution_count": 6,
      "outputs": []
    },
    {
      "cell_type": "markdown",
      "metadata": {
        "id": "A1iMyVoaCr9q",
        "colab_type": "text"
      },
      "source": [
        "We'll create dataset. Instantiate tokenizer. Then, we convert tokens to integers, add special tokens, use padding to max_length. Return 'input_ids', 'attention_mask', 'targets'"
      ]
    },
    {
      "cell_type": "code",
      "metadata": {
        "id": "5km0_9NcCgnJ",
        "colab_type": "code",
        "colab": {}
      },
      "source": [
        "class ReviewDataset(Dataset):\n",
        "\n",
        "    \n",
        "    def __init__(self,\n",
        "                 sentences: List[str],\n",
        "                 labels: List[str] = None,\n",
        "                 max_seq_length: int = MAX_SEQ_LENGTH,\n",
        "                 model_name: str = 'distilbert-base-uncased'):\n",
        "\n",
        "        self.sentences = sentences\n",
        "        self.labels = labels\n",
        "        self.max_seq_length = max_seq_length\n",
        "\n",
        "        self.tokenizer = AutoTokenizer.from_pretrained(model_name)\n",
        "\n",
        "        \n",
        "    def __len__(self):\n",
        "\n",
        "        return len(self.sentences)\n",
        "\n",
        "    \n",
        "    def __getitem__(self, index) -> Mapping[str, torch.Tensor]:\n",
        "\n",
        "        sentence = self.sentences[index]\n",
        "        encoded = self.tokenizer.encode_plus(sentence, add_special_tokens=True, \n",
        "                                        pad_to_max_length=True, max_length=self.max_seq_length, \n",
        "                                        return_tensors=\"pt\",)\n",
        "        \n",
        "        output = {\n",
        "            'input_ids': encoded['input_ids'],\n",
        "            'attention_mask': encoded['attention_mask']\n",
        "        }\n",
        "        \n",
        "        output['targets'] = torch.tensor(self.labels[index], dtype=torch.long)\n",
        "        \n",
        "        return output"
      ],
      "execution_count": 7,
      "outputs": []
    },
    {
      "cell_type": "markdown",
      "metadata": {
        "id": "xWEAxXKRCxZ_",
        "colab_type": "text"
      },
      "source": [
        "Making train_test_split, defining datasets and loaders"
      ]
    },
    {
      "cell_type": "code",
      "metadata": {
        "id": "JM9rhnmSCwCj",
        "colab_type": "code",
        "colab": {
          "base_uri": "https://localhost:8080/",
          "height": 34
        },
        "outputId": "2682c502-23fd-4b40-fa73-c014b1bb2bcd"
      },
      "source": [
        "df_train, df_valid = train_test_split(\n",
        "            train_val,\n",
        "            test_size=0.2,\n",
        "            random_state=42,\n",
        "            stratify = train_val.label.values\n",
        "        )\n",
        "print(df_train.shape, df_valid.shape)"
      ],
      "execution_count": 8,
      "outputs": [
        {
          "output_type": "stream",
          "text": [
            "(40000, 2) (10000, 2)\n"
          ],
          "name": "stdout"
        }
      ]
    },
    {
      "cell_type": "code",
      "metadata": {
        "id": "mXj9zNuECwAC",
        "colab_type": "code",
        "colab": {}
      },
      "source": [
        "train_dataset = ReviewDataset(\n",
        "    sentences=df_train['review'].values.tolist(),\n",
        "    labels=df_train['label'].values,\n",
        "    max_seq_length=MAX_SEQ_LENGTH,\n",
        "    model_name=MODEL_NAME\n",
        ")\n",
        "\n",
        "valid_dataset = ReviewDataset(\n",
        "    sentences=df_valid['review'].values.tolist(),\n",
        "    labels=df_valid['label'].values,\n",
        "    max_seq_length=MAX_SEQ_LENGTH,\n",
        "    model_name=MODEL_NAME\n",
        ")"
      ],
      "execution_count": 9,
      "outputs": []
    },
    {
      "cell_type": "code",
      "metadata": {
        "id": "s2ZWnw0kC5za",
        "colab_type": "code",
        "colab": {}
      },
      "source": [
        "train_val_loaders = {\n",
        "    \"train\": DataLoader(dataset=train_dataset,\n",
        "                        batch_size=BATCH_SIZE, \n",
        "                        shuffle=True, num_workers=2, pin_memory=True),\n",
        "    \"valid\": DataLoader(dataset=valid_dataset,\n",
        "                        batch_size=BATCH_SIZE, \n",
        "                        shuffle=False, num_workers=2, pin_memory=True)    \n",
        "}"
      ],
      "execution_count": 10,
      "outputs": []
    },
    {
      "cell_type": "code",
      "metadata": {
        "id": "p5ji214vC5wJ",
        "colab_type": "code",
        "colab": {
          "base_uri": "https://localhost:8080/",
          "height": 1000
        },
        "outputId": "499f233b-2fc8-4e44-b48d-f31f2f849ae8"
      },
      "source": [
        "print(df_valid.review.values[50])\n",
        "valid_dataset[50]"
      ],
      "execution_count": 11,
      "outputs": [
        {
          "output_type": "stream",
          "text": [
            "Truncation was not explicitely activated but `max_length` is provided a specific value, please use `truncation=True` to explicitely truncate examples to max length. Defaulting to 'longest_first' truncation strategy. If you encode pairs of sequences (GLUE-style) with the tokenizer you can select this strategy more precisely by providing a specific strategy to `truncation`.\n"
          ],
          "name": "stderr"
        },
        {
          "output_type": "stream",
          "text": [
            "incredible: this cd is undoubtedly the most impressive cd i have heard in years. aiken truly delivers on his debut album. a great mixture of ballads and pop/rock songs make this cd a must-have. aiken's voice is crisp and clear, flawless and fresh. he certainly has proven he can sing anything given to him.it's great to finally have someone in this era who can have a positive impact on the young and old. he is truly an american idol. i don't know who said you have to promote \"sex, violence, and more sex\" to be a successful recording artist, but aiken has shown you can make it as a respectful person. cudos to aiken for staying a role model for all!!! i look forward to his other projects.\n"
          ],
          "name": "stdout"
        },
        {
          "output_type": "execute_result",
          "data": {
            "text/plain": [
              "{'attention_mask': tensor([[1, 1, 1, 1, 1, 1, 1, 1, 1, 1, 1, 1, 1, 1, 1, 1, 1, 1, 1, 1, 1, 1, 1, 1,\n",
              "          1, 1, 1, 1, 1, 1, 1, 1, 1, 1, 1, 1, 1, 1, 1, 1, 1, 1, 1, 1, 1, 1, 1, 1,\n",
              "          1, 1, 1, 1, 1, 1, 1, 1, 1, 1, 1, 1, 1, 1, 1, 1, 1, 1, 1, 1, 1, 1, 1, 1,\n",
              "          1, 1, 1, 1, 1, 1, 1, 1, 1, 1, 1, 1, 1, 1, 1, 1, 1, 1, 1, 1, 1, 1, 1, 1,\n",
              "          1, 1, 1, 1, 1, 1, 1, 1, 1, 1, 1, 1, 1, 1, 1, 1, 1, 1, 1, 1, 1, 1, 1, 1,\n",
              "          1, 1, 1, 1, 1, 1, 1, 1, 1, 1, 1, 1, 1, 1, 1, 1, 1, 1, 1, 1, 1, 1, 1, 1,\n",
              "          1, 1, 1, 1, 1, 1, 1, 1, 1, 1, 1, 1, 1, 1, 1, 1, 1, 1, 1, 1, 1, 0, 0, 0,\n",
              "          0, 0, 0, 0, 0, 0, 0, 0, 0, 0, 0, 0, 0, 0, 0, 0, 0, 0, 0, 0, 0, 0, 0, 0,\n",
              "          0, 0, 0, 0, 0, 0, 0, 0, 0, 0, 0, 0, 0, 0, 0, 0, 0, 0, 0, 0, 0, 0, 0, 0,\n",
              "          0, 0, 0, 0, 0, 0, 0, 0, 0, 0, 0, 0, 0, 0, 0, 0, 0, 0, 0, 0, 0, 0, 0, 0,\n",
              "          0, 0, 0, 0, 0, 0, 0, 0, 0, 0, 0, 0, 0, 0, 0, 0, 0, 0, 0, 0, 0, 0, 0, 0,\n",
              "          0, 0, 0, 0, 0, 0, 0, 0, 0, 0, 0, 0, 0, 0, 0, 0, 0, 0, 0, 0, 0, 0, 0, 0,\n",
              "          0, 0, 0, 0, 0, 0, 0, 0, 0, 0, 0, 0, 0, 0, 0, 0, 0, 0, 0, 0, 0, 0, 0, 0,\n",
              "          0, 0, 0, 0, 0, 0, 0, 0, 0, 0, 0, 0, 0, 0, 0, 0, 0, 0, 0, 0, 0, 0, 0, 0,\n",
              "          0, 0, 0, 0, 0, 0, 0, 0, 0, 0, 0, 0, 0, 0, 0, 0, 0, 0, 0, 0, 0, 0, 0, 0,\n",
              "          0, 0, 0, 0, 0, 0, 0, 0, 0, 0, 0, 0, 0, 0, 0, 0, 0, 0, 0, 0, 0, 0, 0, 0,\n",
              "          0, 0, 0, 0, 0, 0, 0, 0, 0, 0, 0, 0, 0, 0, 0, 0, 0, 0, 0, 0, 0, 0, 0, 0,\n",
              "          0, 0, 0, 0, 0, 0, 0, 0, 0, 0, 0, 0, 0, 0, 0, 0, 0, 0, 0, 0, 0, 0, 0, 0,\n",
              "          0, 0, 0, 0, 0, 0, 0, 0, 0, 0, 0, 0, 0, 0, 0, 0, 0, 0, 0, 0, 0, 0, 0, 0,\n",
              "          0, 0, 0, 0, 0, 0, 0, 0, 0, 0, 0, 0, 0, 0, 0, 0, 0, 0, 0, 0, 0, 0, 0, 0,\n",
              "          0, 0, 0, 0, 0, 0, 0, 0, 0, 0, 0, 0, 0, 0, 0, 0, 0, 0, 0, 0, 0, 0, 0, 0,\n",
              "          0, 0, 0, 0, 0, 0, 0, 0]]),\n",
              " 'input_ids': tensor([[  101,  9788,  1024,  2023,  3729,  2003, 17319,  1996,  2087,  8052,\n",
              "           3729,  1045,  2031,  2657,  1999,  2086,  1012,  9932,  7520,  5621,\n",
              "          18058,  2006,  2010,  2834,  2201,  1012,  1037,  2307,  8150,  1997,\n",
              "          18456,  1998,  3769,  1013,  2600,  2774,  2191,  2023,  3729,  1037,\n",
              "           2442,  1011,  2031,  1012,  9932,  7520,  1005,  1055,  2376,  2003,\n",
              "          15594,  1998,  3154,  1010, 27503,  1998,  4840,  1012,  2002,  5121,\n",
              "           2038, 10003,  2002,  2064,  6170,  2505,  2445,  2000,  2032,  1012,\n",
              "           2009,  1005,  1055,  2307,  2000,  2633,  2031,  2619,  1999,  2023,\n",
              "           3690,  2040,  2064,  2031,  1037,  3893,  4254,  2006,  1996,  2402,\n",
              "           1998,  2214,  1012,  2002,  2003,  5621,  2019,  2137, 10282,  1012,\n",
              "           1045,  2123,  1005,  1056,  2113,  2040,  2056,  2017,  2031,  2000,\n",
              "           5326,  1000,  3348,  1010,  4808,  1010,  1998,  2062,  3348,  1000,\n",
              "           2000,  2022,  1037,  3144,  3405,  3063,  1010,  2021,  9932,  7520,\n",
              "           2038,  3491,  2017,  2064,  2191,  2009,  2004,  1037, 26438,  2711,\n",
              "           1012, 12731, 12269,  2000,  9932,  7520,  2005,  6595,  1037,  2535,\n",
              "           2944,  2005,  2035,   999,   999,   999,  1045,  2298,  2830,  2000,\n",
              "           2010,  2060,  3934,  1012,   102,     0,     0,     0,     0,     0,\n",
              "              0,     0,     0,     0,     0,     0,     0,     0,     0,     0,\n",
              "              0,     0,     0,     0,     0,     0,     0,     0,     0,     0,\n",
              "              0,     0,     0,     0,     0,     0,     0,     0,     0,     0,\n",
              "              0,     0,     0,     0,     0,     0,     0,     0,     0,     0,\n",
              "              0,     0,     0,     0,     0,     0,     0,     0,     0,     0,\n",
              "              0,     0,     0,     0,     0,     0,     0,     0,     0,     0,\n",
              "              0,     0,     0,     0,     0,     0,     0,     0,     0,     0,\n",
              "              0,     0,     0,     0,     0,     0,     0,     0,     0,     0,\n",
              "              0,     0,     0,     0,     0,     0,     0,     0,     0,     0,\n",
              "              0,     0,     0,     0,     0,     0,     0,     0,     0,     0,\n",
              "              0,     0,     0,     0,     0,     0,     0,     0,     0,     0,\n",
              "              0,     0,     0,     0,     0,     0,     0,     0,     0,     0,\n",
              "              0,     0,     0,     0,     0,     0,     0,     0,     0,     0,\n",
              "              0,     0,     0,     0,     0,     0,     0,     0,     0,     0,\n",
              "              0,     0,     0,     0,     0,     0,     0,     0,     0,     0,\n",
              "              0,     0,     0,     0,     0,     0,     0,     0,     0,     0,\n",
              "              0,     0,     0,     0,     0,     0,     0,     0,     0,     0,\n",
              "              0,     0,     0,     0,     0,     0,     0,     0,     0,     0,\n",
              "              0,     0,     0,     0,     0,     0,     0,     0,     0,     0,\n",
              "              0,     0,     0,     0,     0,     0,     0,     0,     0,     0,\n",
              "              0,     0,     0,     0,     0,     0,     0,     0,     0,     0,\n",
              "              0,     0,     0,     0,     0,     0,     0,     0,     0,     0,\n",
              "              0,     0,     0,     0,     0,     0,     0,     0,     0,     0,\n",
              "              0,     0,     0,     0,     0,     0,     0,     0,     0,     0,\n",
              "              0,     0,     0,     0,     0,     0,     0,     0,     0,     0,\n",
              "              0,     0,     0,     0,     0,     0,     0,     0,     0,     0,\n",
              "              0,     0,     0,     0,     0,     0,     0,     0,     0,     0,\n",
              "              0,     0,     0,     0,     0,     0,     0,     0,     0,     0,\n",
              "              0,     0,     0,     0,     0,     0,     0,     0,     0,     0,\n",
              "              0,     0,     0,     0,     0,     0,     0,     0,     0,     0,\n",
              "              0,     0,     0,     0,     0,     0,     0,     0,     0,     0,\n",
              "              0,     0,     0,     0,     0,     0,     0,     0,     0,     0,\n",
              "              0,     0,     0,     0,     0,     0,     0,     0,     0,     0,\n",
              "              0,     0,     0,     0,     0,     0,     0,     0,     0,     0,\n",
              "              0,     0]]),\n",
              " 'targets': tensor(1)}"
            ]
          },
          "metadata": {
            "tags": []
          },
          "execution_count": 11
        }
      ]
    },
    {
      "cell_type": "code",
      "metadata": {
        "id": "Toe92z_kC5s9",
        "colab_type": "code",
        "colab": {}
      },
      "source": [
        "class DistilBert(nn.Module):\n",
        "\n",
        "    def __init__(self, pretrained_model_name: str = MODEL_NAME, num_classes: int = 2):\n",
        "\n",
        "        super().__init__()\n",
        "\n",
        "        config = AutoConfig.from_pretrained(\n",
        "             pretrained_model_name)\n",
        "\n",
        "        self.distilbert = AutoModel.from_pretrained(pretrained_model_name,\n",
        "                                                    config=config)\n",
        "        self.pre_classifier = nn.Linear(config.dim, config.dim)\n",
        "        self.classifier = nn.Linear(config.dim, num_classes)\n",
        "        self.dropout = nn.Dropout(config.seq_classif_dropout)\n",
        "\n",
        "    def forward(self, input_ids, attention_mask=None, head_mask=None):\n",
        "\n",
        "        assert attention_mask is not None, \"attention mask is none\"\n",
        "        distilbert_output = self.distilbert(input_ids=input_ids,\n",
        "                                            attention_mask=attention_mask,\n",
        "                                            head_mask=head_mask)\n",
        "        hidden_state = distilbert_output[0]  # [BATCH_SIZE=32, MAX_SEQ_LENGTH = 512, DIM = 768]\n",
        "        pooled_output = hidden_state[:, 0]  # [32, 768]\n",
        "        pooled_output = self.pre_classifier(pooled_output)  # [32, 768]\n",
        "        pooled_output = F.relu(pooled_output)  # [32, 768]\n",
        "        pooled_output = self.dropout(pooled_output)  # [32, 768]\n",
        "        logits = self.classifier(pooled_output)  # [32, 2]\n",
        "\n",
        "        return logits"
      ],
      "execution_count": 12,
      "outputs": []
    },
    {
      "cell_type": "code",
      "metadata": {
        "id": "hZsnHgFTC5p0",
        "colab_type": "code",
        "colab": {}
      },
      "source": [
        "model = DistilBert()"
      ],
      "execution_count": 13,
      "outputs": []
    },
    {
      "cell_type": "markdown",
      "metadata": {
        "id": "kLDGbr6ADD1O",
        "colab_type": "text"
      },
      "source": [
        "Training setup:\n",
        "\n",
        "We'll apply weight decay for all parameters except 'bias' and 'LayerNorm'\n",
        "Lookahead optimizer(improves the learning stability and lowers the variance of its inner optimizer)\n",
        "OneCycleLRWithWarmup with 0 warmup steps, cosine annealing from 5e-5 to 1e-8.\n",
        "Gradient accumulation for large batch training."
      ]
    },
    {
      "cell_type": "code",
      "metadata": {
        "id": "-uk474IrDDZO",
        "colab_type": "code",
        "colab": {}
      },
      "source": [
        "param_optim = list(model.named_parameters())\n",
        "no_decay = ['bias', 'LayerNorm.bias', 'LayerNorm.weight']"
      ],
      "execution_count": 14,
      "outputs": []
    },
    {
      "cell_type": "code",
      "metadata": {
        "id": "9o5PogjTCv8s",
        "colab_type": "code",
        "colab": {}
      },
      "source": [
        "criterion = nn.CrossEntropyLoss()\n",
        "\n",
        "base_optimizer = RAdam([\n",
        "    {'params': [p for n,p in param_optim if not any(nd in n for nd in no_decay)],\n",
        "     'weight_decay': WEIGHT_DECAY}, \n",
        "    {'params': [p for n,p in param_optim if any(nd in n for nd in no_decay)],\n",
        "     'weight_decay': 0.0}\n",
        "])\n",
        "optimizer = Lookahead(base_optimizer)\n",
        "scheduler = OneCycleLRWithWarmup(\n",
        "    optimizer, \n",
        "    num_steps=NUM_EPOCHS, \n",
        "    lr_range=(LEARNING_RATE, 1e-8),\n",
        "    init_lr=LEARNING_RATE,\n",
        "    warmup_steps=0,\n",
        ")"
      ],
      "execution_count": 15,
      "outputs": []
    },
    {
      "cell_type": "code",
      "metadata": {
        "id": "GdVgk0u1Cv6J",
        "colab_type": "code",
        "colab": {
          "base_uri": "https://localhost:8080/",
          "height": 357
        },
        "outputId": "e24ee63c-4883-4a4b-e029-089ef17cff48"
      },
      "source": [
        "runner = SupervisedRunner(\n",
        "    input_key=(\n",
        "        \"input_ids\",\n",
        "        \"attention_mask\"\n",
        "    )\n",
        ")\n",
        "# model training\n",
        "runner.train(\n",
        "    model=model,\n",
        "    criterion=criterion,\n",
        "    optimizer=optimizer,\n",
        "    scheduler=scheduler,\n",
        "    loaders=train_val_loaders,\n",
        "    callbacks=[\n",
        "        AccuracyCallback(num_classes=2),\n",
        "        OptimizerCallback(accumulation_steps=ACCUMULATION_STEPS),\n",
        "        WandbLogger(name=\"Name\", project=\"sentiment-analysis\"),\n",
        "    ],\n",
        "    fp16=FP_16,\n",
        "    logdir=LOG_DIR,\n",
        "    num_epochs=NUM_EPOCHS,\n",
        "    verbose=True\n",
        ")"
      ],
      "execution_count": 16,
      "outputs": [
        {
          "output_type": "error",
          "ename": "ValueError",
          "evalue": "ignored",
          "traceback": [
            "\u001b[0;31m---------------------------------------------------------------------------\u001b[0m",
            "\u001b[0;31mValueError\u001b[0m                                Traceback (most recent call last)",
            "\u001b[0;32m<ipython-input-16-fb9a7e486652>\u001b[0m in \u001b[0;36m<module>\u001b[0;34m()\u001b[0m\n\u001b[1;32m     20\u001b[0m     \u001b[0mlogdir\u001b[0m\u001b[0;34m=\u001b[0m\u001b[0mLOG_DIR\u001b[0m\u001b[0;34m,\u001b[0m\u001b[0;34m\u001b[0m\u001b[0;34m\u001b[0m\u001b[0m\n\u001b[1;32m     21\u001b[0m     \u001b[0mnum_epochs\u001b[0m\u001b[0;34m=\u001b[0m\u001b[0mNUM_EPOCHS\u001b[0m\u001b[0;34m,\u001b[0m\u001b[0;34m\u001b[0m\u001b[0;34m\u001b[0m\u001b[0m\n\u001b[0;32m---> 22\u001b[0;31m     \u001b[0mverbose\u001b[0m\u001b[0;34m=\u001b[0m\u001b[0;32mTrue\u001b[0m\u001b[0;34m\u001b[0m\u001b[0;34m\u001b[0m\u001b[0m\n\u001b[0m\u001b[1;32m     23\u001b[0m )\n",
            "\u001b[0;32m/usr/local/lib/python3.6/dist-packages/catalyst/dl/runner/runner.py\u001b[0m in \u001b[0;36mtrain\u001b[0;34m(self, model, criterion, optimizer, scheduler, datasets, loaders, callbacks, logdir, resume, num_epochs, valid_loader, main_metric, minimize_metric, verbose, stage_kwargs, checkpoint_data, fp16, distributed, check, overfit, timeit, load_best_on_end, initial_seed, state_kwargs)\u001b[0m\n\u001b[1;32m    161\u001b[0m         )\n\u001b[1;32m    162\u001b[0m         \u001b[0mself\u001b[0m\u001b[0;34m.\u001b[0m\u001b[0mexperiment\u001b[0m \u001b[0;34m=\u001b[0m \u001b[0mexperiment\u001b[0m\u001b[0;34m\u001b[0m\u001b[0;34m\u001b[0m\u001b[0m\n\u001b[0;32m--> 163\u001b[0;31m         \u001b[0mutils\u001b[0m\u001b[0;34m.\u001b[0m\u001b[0mdistributed_cmd_run\u001b[0m\u001b[0;34m(\u001b[0m\u001b[0mself\u001b[0m\u001b[0;34m.\u001b[0m\u001b[0mrun_experiment\u001b[0m\u001b[0;34m,\u001b[0m \u001b[0mdistributed\u001b[0m\u001b[0;34m)\u001b[0m\u001b[0;34m\u001b[0m\u001b[0;34m\u001b[0m\u001b[0m\n\u001b[0m\u001b[1;32m    164\u001b[0m \u001b[0;34m\u001b[0m\u001b[0m\n\u001b[1;32m    165\u001b[0m     def infer(\n",
            "\u001b[0;32m/usr/local/lib/python3.6/dist-packages/catalyst/utils/scripts.py\u001b[0m in \u001b[0;36mdistributed_cmd_run\u001b[0;34m(worker_fn, distributed, *args, **kwargs)\u001b[0m\n\u001b[1;32m    130\u001b[0m         \u001b[0;32mor\u001b[0m \u001b[0mworld_size\u001b[0m \u001b[0;34m<=\u001b[0m \u001b[0;36m1\u001b[0m\u001b[0;34m\u001b[0m\u001b[0;34m\u001b[0m\u001b[0m\n\u001b[1;32m    131\u001b[0m     ):\n\u001b[0;32m--> 132\u001b[0;31m         \u001b[0mworker_fn\u001b[0m\u001b[0;34m(\u001b[0m\u001b[0;34m*\u001b[0m\u001b[0margs\u001b[0m\u001b[0;34m,\u001b[0m \u001b[0;34m**\u001b[0m\u001b[0mkwargs\u001b[0m\u001b[0;34m)\u001b[0m\u001b[0;34m\u001b[0m\u001b[0;34m\u001b[0m\u001b[0m\n\u001b[0m\u001b[1;32m    133\u001b[0m     \u001b[0;32melif\u001b[0m \u001b[0mlocal_rank\u001b[0m \u001b[0;32mis\u001b[0m \u001b[0;32mnot\u001b[0m \u001b[0;32mNone\u001b[0m\u001b[0;34m:\u001b[0m\u001b[0;34m\u001b[0m\u001b[0;34m\u001b[0m\u001b[0m\n\u001b[1;32m    134\u001b[0m         \u001b[0mtorch\u001b[0m\u001b[0;34m.\u001b[0m\u001b[0mcuda\u001b[0m\u001b[0;34m.\u001b[0m\u001b[0mset_device\u001b[0m\u001b[0;34m(\u001b[0m\u001b[0mint\u001b[0m\u001b[0;34m(\u001b[0m\u001b[0mlocal_rank\u001b[0m\u001b[0;34m)\u001b[0m\u001b[0;34m)\u001b[0m\u001b[0;34m\u001b[0m\u001b[0;34m\u001b[0m\u001b[0m\n",
            "\u001b[0;32m/usr/local/lib/python3.6/dist-packages/catalyst/core/runner.py\u001b[0m in \u001b[0;36mrun_experiment\u001b[0;34m(self, experiment)\u001b[0m\n\u001b[1;32m    985\u001b[0m             \u001b[0;32mif\u001b[0m \u001b[0m_exception_handler_check\u001b[0m\u001b[0;34m(\u001b[0m\u001b[0mgetattr\u001b[0m\u001b[0;34m(\u001b[0m\u001b[0mself\u001b[0m\u001b[0;34m,\u001b[0m \u001b[0;34m\"callbacks\"\u001b[0m\u001b[0;34m,\u001b[0m \u001b[0;32mNone\u001b[0m\u001b[0;34m)\u001b[0m\u001b[0;34m)\u001b[0m\u001b[0;34m:\u001b[0m\u001b[0;34m\u001b[0m\u001b[0;34m\u001b[0m\u001b[0m\n\u001b[1;32m    986\u001b[0m                 \u001b[0mself\u001b[0m\u001b[0;34m.\u001b[0m\u001b[0mexception\u001b[0m \u001b[0;34m=\u001b[0m \u001b[0mex\u001b[0m\u001b[0;34m\u001b[0m\u001b[0;34m\u001b[0m\u001b[0m\n\u001b[0;32m--> 987\u001b[0;31m                 \u001b[0mself\u001b[0m\u001b[0;34m.\u001b[0m\u001b[0m_run_event\u001b[0m\u001b[0;34m(\u001b[0m\u001b[0;34m\"on_exception\"\u001b[0m\u001b[0;34m)\u001b[0m\u001b[0;34m\u001b[0m\u001b[0;34m\u001b[0m\u001b[0m\n\u001b[0m\u001b[1;32m    988\u001b[0m             \u001b[0;32melse\u001b[0m\u001b[0;34m:\u001b[0m\u001b[0;34m\u001b[0m\u001b[0;34m\u001b[0m\u001b[0m\n\u001b[1;32m    989\u001b[0m                 \u001b[0;32mraise\u001b[0m \u001b[0mex\u001b[0m\u001b[0;34m\u001b[0m\u001b[0;34m\u001b[0m\u001b[0m\n",
            "\u001b[0;32m/usr/local/lib/python3.6/dist-packages/catalyst/core/runner.py\u001b[0m in \u001b[0;36m_run_event\u001b[0;34m(self, event)\u001b[0m\n\u001b[1;32m    778\u001b[0m         \"\"\"\n\u001b[1;32m    779\u001b[0m         \u001b[0;32mfor\u001b[0m \u001b[0mcallback\u001b[0m \u001b[0;32min\u001b[0m \u001b[0mself\u001b[0m\u001b[0;34m.\u001b[0m\u001b[0mcallbacks\u001b[0m\u001b[0;34m.\u001b[0m\u001b[0mvalues\u001b[0m\u001b[0;34m(\u001b[0m\u001b[0;34m)\u001b[0m\u001b[0;34m:\u001b[0m\u001b[0;34m\u001b[0m\u001b[0;34m\u001b[0m\u001b[0m\n\u001b[0;32m--> 780\u001b[0;31m             \u001b[0mgetattr\u001b[0m\u001b[0;34m(\u001b[0m\u001b[0mcallback\u001b[0m\u001b[0;34m,\u001b[0m \u001b[0mevent\u001b[0m\u001b[0;34m)\u001b[0m\u001b[0;34m(\u001b[0m\u001b[0mself\u001b[0m\u001b[0;34m)\u001b[0m\u001b[0;34m\u001b[0m\u001b[0;34m\u001b[0m\u001b[0m\n\u001b[0m\u001b[1;32m    781\u001b[0m \u001b[0;34m\u001b[0m\u001b[0m\n\u001b[1;32m    782\u001b[0m     def _batch2device(\n",
            "\u001b[0;32m/usr/local/lib/python3.6/dist-packages/catalyst/core/callbacks/exception.py\u001b[0m in \u001b[0;36mon_exception\u001b[0;34m(self, runner)\u001b[0m\n\u001b[1;32m     22\u001b[0m \u001b[0;34m\u001b[0m\u001b[0m\n\u001b[1;32m     23\u001b[0m         \u001b[0;32mif\u001b[0m \u001b[0mrunner\u001b[0m\u001b[0;34m.\u001b[0m\u001b[0mneed_exception_reraise\u001b[0m\u001b[0;34m:\u001b[0m\u001b[0;34m\u001b[0m\u001b[0;34m\u001b[0m\u001b[0m\n\u001b[0;32m---> 24\u001b[0;31m             \u001b[0;32mraise\u001b[0m \u001b[0mexception\u001b[0m\u001b[0;34m\u001b[0m\u001b[0;34m\u001b[0m\u001b[0m\n\u001b[0m\u001b[1;32m     25\u001b[0m \u001b[0;34m\u001b[0m\u001b[0m\n\u001b[1;32m     26\u001b[0m \u001b[0;34m\u001b[0m\u001b[0m\n",
            "\u001b[0;32m/usr/local/lib/python3.6/dist-packages/catalyst/core/runner.py\u001b[0m in \u001b[0;36mrun_experiment\u001b[0;34m(self, experiment)\u001b[0m\n\u001b[1;32m    973\u001b[0m         \u001b[0;32mtry\u001b[0m\u001b[0;34m:\u001b[0m\u001b[0;34m\u001b[0m\u001b[0;34m\u001b[0m\u001b[0m\n\u001b[1;32m    974\u001b[0m             \u001b[0;32mfor\u001b[0m \u001b[0mstage\u001b[0m \u001b[0;32min\u001b[0m \u001b[0mself\u001b[0m\u001b[0;34m.\u001b[0m\u001b[0mexperiment\u001b[0m\u001b[0;34m.\u001b[0m\u001b[0mstages\u001b[0m\u001b[0;34m:\u001b[0m\u001b[0;34m\u001b[0m\u001b[0;34m\u001b[0m\u001b[0m\n\u001b[0;32m--> 975\u001b[0;31m                 \u001b[0mself\u001b[0m\u001b[0;34m.\u001b[0m\u001b[0m_run_stage\u001b[0m\u001b[0;34m(\u001b[0m\u001b[0mstage\u001b[0m\u001b[0;34m)\u001b[0m\u001b[0;34m\u001b[0m\u001b[0;34m\u001b[0m\u001b[0m\n\u001b[0m\u001b[1;32m    976\u001b[0m         \u001b[0;32mexcept\u001b[0m \u001b[0;34m(\u001b[0m\u001b[0mException\u001b[0m\u001b[0;34m,\u001b[0m \u001b[0mKeyboardInterrupt\u001b[0m\u001b[0;34m)\u001b[0m \u001b[0;32mas\u001b[0m \u001b[0mex\u001b[0m\u001b[0;34m:\u001b[0m\u001b[0;34m\u001b[0m\u001b[0;34m\u001b[0m\u001b[0m\n\u001b[1;32m    977\u001b[0m             \u001b[0;32mfrom\u001b[0m \u001b[0mcatalyst\u001b[0m\u001b[0;34m.\u001b[0m\u001b[0mcore\u001b[0m\u001b[0;34m.\u001b[0m\u001b[0mcallbacks\u001b[0m\u001b[0;34m.\u001b[0m\u001b[0mexception\u001b[0m \u001b[0;32mimport\u001b[0m \u001b[0mExceptionCallback\u001b[0m\u001b[0;34m\u001b[0m\u001b[0;34m\u001b[0m\u001b[0m\n",
            "\u001b[0;32m/usr/local/lib/python3.6/dist-packages/catalyst/core/runner.py\u001b[0m in \u001b[0;36m_run_stage\u001b[0;34m(self, stage)\u001b[0m\n\u001b[1;32m    935\u001b[0m         \u001b[0mself\u001b[0m\u001b[0;34m.\u001b[0m\u001b[0m_prepare_for_stage\u001b[0m\u001b[0;34m(\u001b[0m\u001b[0mstage\u001b[0m\u001b[0;34m)\u001b[0m\u001b[0;34m\u001b[0m\u001b[0;34m\u001b[0m\u001b[0m\n\u001b[1;32m    936\u001b[0m \u001b[0;34m\u001b[0m\u001b[0m\n\u001b[0;32m--> 937\u001b[0;31m         \u001b[0mself\u001b[0m\u001b[0;34m.\u001b[0m\u001b[0m_run_event\u001b[0m\u001b[0;34m(\u001b[0m\u001b[0;34m\"on_stage_start\"\u001b[0m\u001b[0;34m)\u001b[0m\u001b[0;34m\u001b[0m\u001b[0;34m\u001b[0m\u001b[0m\n\u001b[0m\u001b[1;32m    938\u001b[0m         \u001b[0;32mwhile\u001b[0m \u001b[0mself\u001b[0m\u001b[0;34m.\u001b[0m\u001b[0mepoch\u001b[0m \u001b[0;34m<\u001b[0m \u001b[0mself\u001b[0m\u001b[0;34m.\u001b[0m\u001b[0mnum_epochs\u001b[0m \u001b[0;34m+\u001b[0m \u001b[0;36m1\u001b[0m\u001b[0;34m:\u001b[0m\u001b[0;34m\u001b[0m\u001b[0;34m\u001b[0m\u001b[0m\n\u001b[1;32m    939\u001b[0m             utils.set_global_seed(\n",
            "\u001b[0;32m/usr/local/lib/python3.6/dist-packages/catalyst/core/runner.py\u001b[0m in \u001b[0;36m_run_event\u001b[0;34m(self, event)\u001b[0m\n\u001b[1;32m    778\u001b[0m         \"\"\"\n\u001b[1;32m    779\u001b[0m         \u001b[0;32mfor\u001b[0m \u001b[0mcallback\u001b[0m \u001b[0;32min\u001b[0m \u001b[0mself\u001b[0m\u001b[0;34m.\u001b[0m\u001b[0mcallbacks\u001b[0m\u001b[0;34m.\u001b[0m\u001b[0mvalues\u001b[0m\u001b[0;34m(\u001b[0m\u001b[0;34m)\u001b[0m\u001b[0;34m:\u001b[0m\u001b[0;34m\u001b[0m\u001b[0;34m\u001b[0m\u001b[0m\n\u001b[0;32m--> 780\u001b[0;31m             \u001b[0mgetattr\u001b[0m\u001b[0;34m(\u001b[0m\u001b[0mcallback\u001b[0m\u001b[0;34m,\u001b[0m \u001b[0mevent\u001b[0m\u001b[0;34m)\u001b[0m\u001b[0;34m(\u001b[0m\u001b[0mself\u001b[0m\u001b[0;34m)\u001b[0m\u001b[0;34m\u001b[0m\u001b[0;34m\u001b[0m\u001b[0m\n\u001b[0m\u001b[1;32m    781\u001b[0m \u001b[0;34m\u001b[0m\u001b[0m\n\u001b[1;32m    782\u001b[0m     def _batch2device(\n",
            "\u001b[0;32m/usr/local/lib/python3.6/dist-packages/catalyst/contrib/dl/callbacks/wandb_logger.py\u001b[0m in \u001b[0;36mon_stage_start\u001b[0;34m(self, runner)\u001b[0m\n\u001b[1;32m    144\u001b[0m         \u001b[0mwandb\u001b[0m\u001b[0;34m.\u001b[0m\u001b[0minit\u001b[0m\u001b[0;34m(\u001b[0m\u001b[0;34m**\u001b[0m\u001b[0mself\u001b[0m\u001b[0;34m.\u001b[0m\u001b[0mlogging_params\u001b[0m\u001b[0;34m,\u001b[0m \u001b[0mreinit\u001b[0m\u001b[0;34m=\u001b[0m\u001b[0;32mTrue\u001b[0m\u001b[0;34m,\u001b[0m \u001b[0mdir\u001b[0m\u001b[0;34m=\u001b[0m\u001b[0mstr\u001b[0m\u001b[0;34m(\u001b[0m\u001b[0mrunner\u001b[0m\u001b[0;34m.\u001b[0m\u001b[0mlogdir\u001b[0m\u001b[0;34m)\u001b[0m\u001b[0;34m)\u001b[0m\u001b[0;34m\u001b[0m\u001b[0;34m\u001b[0m\u001b[0m\n\u001b[1;32m    145\u001b[0m         wandb.watch(\n\u001b[0;32m--> 146\u001b[0;31m             \u001b[0mmodels\u001b[0m\u001b[0;34m=\u001b[0m\u001b[0mrunner\u001b[0m\u001b[0;34m.\u001b[0m\u001b[0mmodel\u001b[0m\u001b[0;34m,\u001b[0m \u001b[0mcriterion\u001b[0m\u001b[0;34m=\u001b[0m\u001b[0mrunner\u001b[0m\u001b[0;34m.\u001b[0m\u001b[0mcriterion\u001b[0m\u001b[0;34m,\u001b[0m \u001b[0mlog\u001b[0m\u001b[0;34m=\u001b[0m\u001b[0mself\u001b[0m\u001b[0;34m.\u001b[0m\u001b[0mlog\u001b[0m\u001b[0;34m\u001b[0m\u001b[0;34m\u001b[0m\u001b[0m\n\u001b[0m\u001b[1;32m    147\u001b[0m         )\n\u001b[1;32m    148\u001b[0m \u001b[0;34m\u001b[0m\u001b[0m\n",
            "\u001b[0;32m/usr/local/lib/python3.6/dist-packages/wandb/__init__.py\u001b[0m in \u001b[0;36mwatch\u001b[0;34m(models, criterion, log, log_freq, idx)\u001b[0m\n\u001b[1;32m    154\u001b[0m     \u001b[0;32mif\u001b[0m \u001b[0mrun\u001b[0m \u001b[0;32mis\u001b[0m \u001b[0;32mNone\u001b[0m\u001b[0;34m:\u001b[0m\u001b[0;34m\u001b[0m\u001b[0;34m\u001b[0m\u001b[0m\n\u001b[1;32m    155\u001b[0m         raise ValueError(\n\u001b[0;32m--> 156\u001b[0;31m             \"You must call `wandb.init` before calling watch\")\n\u001b[0m\u001b[1;32m    157\u001b[0m \u001b[0;34m\u001b[0m\u001b[0m\n\u001b[1;32m    158\u001b[0m     \u001b[0min_jupyter\u001b[0m \u001b[0;34m=\u001b[0m \u001b[0m_get_python_type\u001b[0m\u001b[0;34m(\u001b[0m\u001b[0;34m)\u001b[0m \u001b[0;34m!=\u001b[0m \u001b[0;34m\"python\"\u001b[0m\u001b[0;34m\u001b[0m\u001b[0;34m\u001b[0m\u001b[0m\n",
            "\u001b[0;31mValueError\u001b[0m: You must call `wandb.init` before calling watch"
          ]
        }
      ]
    },
    {
      "cell_type": "markdown",
      "metadata": {
        "id": "-DEk4C6mDO3X",
        "colab_type": "text"
      },
      "source": [
        "After two epochs, we’ll able to reach 96.22% accuracy, which is on 6% higher than logistic regression.\n",
        "\n",
        "To improve our result even more, we can continue fine-tuning with frozen encoder."
      ]
    },
    {
      "cell_type": "markdown",
      "metadata": {
        "id": "hYXpLfM6DQty",
        "colab_type": "text"
      },
      "source": [
        "Test"
      ]
    },
    {
      "cell_type": "code",
      "metadata": {
        "id": "3tSFg5DADNAz",
        "colab_type": "code",
        "colab": {}
      },
      "source": [
        "tokenizer = AutoTokenizer.from_pretrained(MODEL_NAME)\n",
        "def prediction(model, sentence: str, max_len: int = 512, device = 'cpu'):\n",
        "    x_encoded = tokenizer.encode_plus(sentence, add_special_tokens=True, pad_to_max_length=True, max_length=max_len, return_tensors=\"pt\",).to(device)\n",
        "    logits = model(x_encoded['input_ids'], x_encoded['attention_mask'])\n",
        "    probabilities = F.softmax(logits.detach(), dim=1)\n",
        "    output = probabilities.max(axis=1)\n",
        "    print(sentence)\n",
        "    print(f\"Class: {['Negative' if output.indices[0] == 0 else 'Positive'][0]}, Probability: {output.values[0]:.4f}\")"
      ],
      "execution_count": null,
      "outputs": []
    },
    {
      "cell_type": "code",
      "metadata": {
        "id": "dxiLKNiSDM96",
        "colab_type": "code",
        "colab": {}
      },
      "source": [
        "prediction(plain_model, df_valid['sentences'].values[20])"
      ],
      "execution_count": null,
      "outputs": []
    },
    {
      "cell_type": "code",
      "metadata": {
        "id": "ohU9GkU2DM7E",
        "colab_type": "code",
        "colab": {}
      },
      "source": [
        ""
      ],
      "execution_count": null,
      "outputs": []
    },
    {
      "cell_type": "code",
      "metadata": {
        "id": "AUtZ94MqDM4a",
        "colab_type": "code",
        "colab": {}
      },
      "source": [
        ""
      ],
      "execution_count": null,
      "outputs": []
    }
  ]
}