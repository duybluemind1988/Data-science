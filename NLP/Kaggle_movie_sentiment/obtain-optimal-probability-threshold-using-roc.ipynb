{
 "cells": [
  {
   "cell_type": "markdown",
   "metadata": {},
   "source": [
    "# Obtain Optimal Probability Threshold Using ROC Curve\n",
    "\n",
    "The aim of this notebook is to demonstrate how to use the ROC curve to obtain optimal probability threshold to improve the predictive capability of a machine learning model.\n",
    "\n",
    "Also, **thresholder**, a Python package that I have created, which uses the ROC Curve to obtain optimal probability threshold to improve the predictive capability of a machine learning model, can obtain these thresholds and subsequent predictions easily.\n",
    "\n",
    "The package can be found at the following Github Repo:\n",
    "\n",
    "https://github.com/nicholaslaw/roc-optimal-cutoff"
   ]
  },
  {
   "cell_type": "markdown",
   "metadata": {},
   "source": [
    "## Table of Contents\n",
    "\n",
    "1. [Import Packages](#1)\n",
    "2. [Import Data](#2)\n",
    "3. [Extracting X, Y](#3)\n",
    "4. [Preprocess Texts](#4)\n",
    "5. [Train Test Split](#5)\n",
    "6. [Feature Extraction and Train Model](#6)\n",
    "7. [Evaluate Model (Before Thresholding)](#7)\n",
    "8. [Confusion Matrix of Model (Before Thresholding)](#8)\n",
    "9. [ROC Curve](#9)\n",
    "10. [Obtain Optimal Probability Thresholds with ROC Curve](#10)\n",
    "11. [Evaluate Model (After Thresholding)](#11)\n",
    "12. [Confusion Matrix of Model (After Thresholding)](#12)\n",
    "13. [Conclusion](#13)\n",
    "14. [References](#14)"
   ]
  },
  {
   "cell_type": "markdown",
   "metadata": {},
   "source": [
    "## Import Packages <a class=\"anchor\" id=\"1\"></a>"
   ]
  },
  {
   "cell_type": "code",
   "execution_count": 1,
   "metadata": {
    "_cell_guid": "b1076dfc-b9ad-4769-8c92-a6c4dae69d19",
    "_uuid": "8f2839f25d086af736a60e9eeb907d3b93b6e0e5"
   },
   "outputs": [
    {
     "name": "stderr",
     "output_type": "stream",
     "text": [
      "Using TensorFlow backend.\n"
     ]
    },
    {
     "name": "stdout",
     "output_type": "stream",
     "text": [
      "/kaggle/input/sentiment-analysis-on-movie-reviews/train.tsv.zip\n",
      "/kaggle/input/sentiment-analysis-on-movie-reviews/sampleSubmission.csv\n",
      "/kaggle/input/sentiment-analysis-on-movie-reviews/test.tsv.zip\n"
     ]
    }
   ],
   "source": [
    "import numpy as np, pandas as pd\n",
    "from sklearn.model_selection import train_test_split\n",
    "from sklearn.tree import DecisionTreeClassifier\n",
    "from sklearn.metrics import accuracy_score, precision_score, recall_score, f1_score, roc_auc_score, roc_curve\n",
    "import nltk\n",
    "from nltk.corpus import stopwords\n",
    "from bs4 import BeautifulSoup\n",
    "import re\n",
    "from sklearn.feature_extraction.text import CountVectorizer, TfidfVectorizer\n",
    "from nltk.stem.wordnet import WordNetLemmatizer\n",
    "from sklearn.model_selection import train_test_split\n",
    "from sklearn.pipeline import Pipeline\n",
    "from imblearn.over_sampling import SMOTE\n",
    "import matplotlib.pyplot as plt\n",
    "import warnings\n",
    "warnings.filterwarnings(\"ignore\")\n",
    "%matplotlib inline\n",
    "\n",
    "import os\n",
    "for dirname, _, filenames in os.walk('/kaggle/input'):\n",
    "    for filename in filenames:\n",
    "        print(os.path.join(dirname, filename))"
   ]
  },
  {
   "cell_type": "markdown",
   "metadata": {
    "_cell_guid": "79c7e3d0-c299-4dcb-8224-4455121ee9b0",
    "_uuid": "d629ff2d2480ee46fbb7e2d37f6b5fab8052498a",
    "collapsed": true
   },
   "source": [
    "## Import Data <a class=\"anchor\" id=\"2\"></a>\n",
    "\n",
    "With respect to the dataset, we will only focus on the columns named \"Phrase\" and \"Sentiment\". The unique values in \"Sentiment\" are 0, 1, 2, 3, 4, where increasing values would represent more positive sentiment. Hence, this would make this a binary classification problem.\n",
    "\n",
    "**For this notebook, we shall just focus on the training set as the main objective is to showcase the retrieval of optimal probability thresholds using the ROC Curve.**"
   ]
  },
  {
   "cell_type": "code",
   "execution_count": 2,
   "metadata": {},
   "outputs": [
    {
     "data": {
      "text/html": [
       "<div>\n",
       "<style scoped>\n",
       "    .dataframe tbody tr th:only-of-type {\n",
       "        vertical-align: middle;\n",
       "    }\n",
       "\n",
       "    .dataframe tbody tr th {\n",
       "        vertical-align: top;\n",
       "    }\n",
       "\n",
       "    .dataframe thead th {\n",
       "        text-align: right;\n",
       "    }\n",
       "</style>\n",
       "<table border=\"1\" class=\"dataframe\">\n",
       "  <thead>\n",
       "    <tr style=\"text-align: right;\">\n",
       "      <th></th>\n",
       "      <th>PhraseId</th>\n",
       "      <th>SentenceId</th>\n",
       "      <th>Phrase</th>\n",
       "      <th>Sentiment</th>\n",
       "    </tr>\n",
       "  </thead>\n",
       "  <tbody>\n",
       "    <tr>\n",
       "      <th>0</th>\n",
       "      <td>1</td>\n",
       "      <td>1</td>\n",
       "      <td>A series of escapades demonstrating the adage ...</td>\n",
       "      <td>1</td>\n",
       "    </tr>\n",
       "    <tr>\n",
       "      <th>1</th>\n",
       "      <td>2</td>\n",
       "      <td>1</td>\n",
       "      <td>A series of escapades demonstrating the adage ...</td>\n",
       "      <td>2</td>\n",
       "    </tr>\n",
       "    <tr>\n",
       "      <th>2</th>\n",
       "      <td>3</td>\n",
       "      <td>1</td>\n",
       "      <td>A series</td>\n",
       "      <td>2</td>\n",
       "    </tr>\n",
       "    <tr>\n",
       "      <th>3</th>\n",
       "      <td>4</td>\n",
       "      <td>1</td>\n",
       "      <td>A</td>\n",
       "      <td>2</td>\n",
       "    </tr>\n",
       "    <tr>\n",
       "      <th>4</th>\n",
       "      <td>5</td>\n",
       "      <td>1</td>\n",
       "      <td>series</td>\n",
       "      <td>2</td>\n",
       "    </tr>\n",
       "  </tbody>\n",
       "</table>\n",
       "</div>"
      ],
      "text/plain": [
       "   PhraseId  SentenceId                                             Phrase  \\\n",
       "0         1           1  A series of escapades demonstrating the adage ...   \n",
       "1         2           1  A series of escapades demonstrating the adage ...   \n",
       "2         3           1                                           A series   \n",
       "3         4           1                                                  A   \n",
       "4         5           1                                             series   \n",
       "\n",
       "   Sentiment  \n",
       "0          1  \n",
       "1          2  \n",
       "2          2  \n",
       "3          2  \n",
       "4          2  "
      ]
     },
     "execution_count": 2,
     "metadata": {},
     "output_type": "execute_result"
    }
   ],
   "source": [
    "df = pd.read_csv(\"/kaggle/input/sentiment-analysis-on-movie-reviews/train.tsv.zip\", sep=\"\\t\")\n",
    "df.head()"
   ]
  },
  {
   "cell_type": "code",
   "execution_count": 3,
   "metadata": {},
   "outputs": [
    {
     "name": "stdout",
     "output_type": "stream",
     "text": [
      "Unique Values of Sentiment are: 1, 2, 3, 4, 0\n"
     ]
    }
   ],
   "source": [
    "print(\"Unique Values of Sentiment are: {}\".format(\", \".join(list(map(str,df[\"Sentiment\"].unique())))))"
   ]
  },
  {
   "cell_type": "markdown",
   "metadata": {},
   "source": [
    "## Extracting X, Y <a class=\"anchor\" id=\"3\"></a>\n",
    "\n",
    "For this dataset, we shall let sentiment values above 2 represent positive ones. As a result, positive movie reviews make up less than 50% of the dataset. "
   ]
  },
  {
   "cell_type": "code",
   "execution_count": 4,
   "metadata": {},
   "outputs": [],
   "source": [
    "X = df[\"Phrase\"].tolist()\n",
    "Y = df[\"Sentiment\"].apply(lambda i: 0 if i <= 2 else 1)"
   ]
  },
  {
   "cell_type": "code",
   "execution_count": 5,
   "metadata": {},
   "outputs": [
    {
     "data": {
      "text/plain": [
       "0    113927\n",
       "1     42133\n",
       "Name: Sentiment, dtype: int64"
      ]
     },
     "execution_count": 5,
     "metadata": {},
     "output_type": "execute_result"
    }
   ],
   "source": [
    "Y.value_counts()"
   ]
  },
  {
   "cell_type": "markdown",
   "metadata": {},
   "source": [
    "## Preprocess Texts <a class=\"anchor\" id=\"4\"></a>\n",
    "\n",
    "Some typical text preprocessing steps will be performed:\n",
    "\n",
    "1. Removal of markup, html\n",
    "2. Obtain only words in lower case\n",
    "3. Lemmatization\n",
    "4. Removal of stop words"
   ]
  },
  {
   "cell_type": "code",
   "execution_count": 6,
   "metadata": {},
   "outputs": [],
   "source": [
    "lemmatizer = WordNetLemmatizer()\n",
    "def proc_text(messy): #input is a single string\n",
    "    first = BeautifulSoup(messy, \"lxml\").get_text() #gets text without tags or markup, remove html\n",
    "    second = re.sub(\"[^a-zA-Z]\",\" \",first) #obtain only letters\n",
    "    third = second.lower().split() #obtains a list of words in lower case\n",
    "    fourth = set([lemmatizer.lemmatize(str(x)) for x in third]) #lemmatizing\n",
    "    stops = set(stopwords.words(\"english\")) #faster to search through a set than a list\n",
    "    almost = [w for w in fourth if not w in stops] #remove stop words\n",
    "    final = \" \".join(almost)\n",
    "    return final"
   ]
  },
  {
   "cell_type": "code",
   "execution_count": 7,
   "metadata": {},
   "outputs": [],
   "source": [
    "X = [proc_text(i) for i in X]"
   ]
  },
  {
   "cell_type": "markdown",
   "metadata": {},
   "source": [
    "## Train Test Split <a class=\"anchor\" id=\"5\"></a>"
   ]
  },
  {
   "cell_type": "code",
   "execution_count": 8,
   "metadata": {},
   "outputs": [
    {
     "name": "stdout",
     "output_type": "stream",
     "text": [
      "Training Set has 33706 Positive Labels and 91142 Negative Labels\n",
      "Test Set has 8427 Positive Labels and 22785 Negative Labels\n"
     ]
    }
   ],
   "source": [
    "X_train, X_test, y_train, y_test = train_test_split(X, Y, random_state=100, test_size=0.2, stratify=Y)\n",
    "print(\"Training Set has {} Positive Labels and {} Negative Labels\".format(sum(y_train), len(y_train) - sum(y_train)))\n",
    "print(\"Test Set has {} Positive Labels and {} Negative Labels\".format(sum(y_test), len(y_test) - sum(y_test)))"
   ]
  },
  {
   "cell_type": "markdown",
   "metadata": {},
   "source": [
    "## Feature Extraction and Train Model <a class=\"anchor\" id=\"6\"></a>\n",
    "\n",
    "Features will be built using tfidf.\n",
    "\n",
    "Model selected here is the RandomForestClassifier, larger weight is given to the positive class since the number of samples with positive labels are significantly smaller. The weights would be calculated as \n",
    "\n",
    "$$ W_p = \\frac{N_n}{N_p}, $$\n",
    "\n",
    "where $ W_p $ is a float indicating the weight for positive class, $ N_n $ is the number of negative samples and $ N_p $ is the number of positive samples. The output of this computation will be included in the *class_weight* parameter of DecisionTreeClassifier.\n",
    "\n",
    "These steps will be collated by using sklearn's Pipeline."
   ]
  },
  {
   "cell_type": "code",
   "execution_count": 9,
   "metadata": {},
   "outputs": [],
   "source": [
    "pos_weights = (len(y_train) - sum(y_train)) / (sum(y_train)) \n",
    "pipeline_tf = Pipeline([\n",
    "    ('tfidf', TfidfVectorizer()),\n",
    "    ('classifier', DecisionTreeClassifier(random_state=100, class_weight={0: 1, 1: pos_weights}))\n",
    "])"
   ]
  },
  {
   "cell_type": "code",
   "execution_count": 10,
   "metadata": {},
   "outputs": [
    {
     "data": {
      "text/plain": [
       "Pipeline(memory=None,\n",
       "         steps=[('tfidf',\n",
       "                 TfidfVectorizer(analyzer='word', binary=False,\n",
       "                                 decode_error='strict',\n",
       "                                 dtype=<class 'numpy.float64'>,\n",
       "                                 encoding='utf-8', input='content',\n",
       "                                 lowercase=True, max_df=1.0, max_features=None,\n",
       "                                 min_df=1, ngram_range=(1, 1), norm='l2',\n",
       "                                 preprocessor=None, smooth_idf=True,\n",
       "                                 stop_words=None, strip_accents=None,\n",
       "                                 sublinear_tf=False,\n",
       "                                 token_pattern='...\n",
       "                ('classifier',\n",
       "                 DecisionTreeClassifier(ccp_alpha=0.0,\n",
       "                                        class_weight={0: 1,\n",
       "                                                      1: 2.7040289562689135},\n",
       "                                        criterion='gini', max_depth=None,\n",
       "                                        max_features=None, max_leaf_nodes=None,\n",
       "                                        min_impurity_decrease=0.0,\n",
       "                                        min_impurity_split=None,\n",
       "                                        min_samples_leaf=1, min_samples_split=2,\n",
       "                                        min_weight_fraction_leaf=0.0,\n",
       "                                        presort='deprecated', random_state=100,\n",
       "                                        splitter='best'))],\n",
       "         verbose=False)"
      ]
     },
     "execution_count": 10,
     "metadata": {},
     "output_type": "execute_result"
    }
   ],
   "source": [
    "pipeline_tf.fit(X_train, y_train)"
   ]
  },
  {
   "cell_type": "markdown",
   "metadata": {},
   "source": [
    "## Evaluate Model (Before Thresholding) <a class=\"anchor\" id=\"7\"></a>"
   ]
  },
  {
   "cell_type": "code",
   "execution_count": 11,
   "metadata": {},
   "outputs": [],
   "source": [
    "predictions = pipeline_tf.predict(X_test)\n",
    "predicted_proba = pipeline_tf.predict_proba(X_test)"
   ]
  },
  {
   "cell_type": "code",
   "execution_count": 12,
   "metadata": {},
   "outputs": [
    {
     "name": "stdout",
     "output_type": "stream",
     "text": [
      "Accuracy Score Before Thresholding: 0.827277970011534\n",
      "Precision Score Before Thresholding: 0.6602279924002533\n",
      "Recall Score Before Thresholding: 0.7422570309718761\n",
      "F1 Score Before Thresholding: 0.6988436400201106\n",
      "ROC AUC Score: 0.8129862348519299\n"
     ]
    }
   ],
   "source": [
    "print(\"Accuracy Score Before Thresholding: {}\".format(accuracy_score(y_test, predictions)))\n",
    "print(\"Precision Score Before Thresholding: {}\".format(precision_score(y_test, predictions)))\n",
    "print(\"Recall Score Before Thresholding: {}\".format(recall_score(y_test, predictions)))\n",
    "print(\"F1 Score Before Thresholding: {}\".format(f1_score(y_test, predictions)))\n",
    "print(\"ROC AUC Score: {}\".format(roc_auc_score(y_test, predicted_proba[:, -1])))"
   ]
  },
  {
   "cell_type": "markdown",
   "metadata": {},
   "source": [
    "## Confusion Matrix of Model (Before Thresholding) <a class=\"anchor\" id=\"8\"></a>"
   ]
  },
  {
   "cell_type": "code",
   "execution_count": 13,
   "metadata": {},
   "outputs": [
    {
     "name": "stdout",
     "output_type": "stream",
     "text": [
      "Predicted     0     1   All\n",
      "Actual                     \n",
      "0          3281  1440  4721\n",
      "1          1057   529  1586\n",
      "All        4338  1969  6307\n"
     ]
    }
   ],
   "source": [
    "y_actual = pd.Series(y_test, name='Actual')\n",
    "y_predict_tf = pd.Series(predictions, name='Predicted')\n",
    "df_confusion = pd.crosstab(y_actual, y_predict_tf, rownames=['Actual'], colnames=['Predicted'], margins=True)\n",
    "print(df_confusion)"
   ]
  },
  {
   "cell_type": "markdown",
   "metadata": {},
   "source": [
    "## ROC Curve <a class=\"anchor\" id=\"9\"></a>\n",
    "\n",
    "The curve is plots values of true positive rates (y-axis) against those of false positive rates (x-axis) and these values are plotted at various probability thresholds.\n",
    "\n",
    "There can be two ways of obtaining a more optimal probability threshold for the positive class:\n",
    "\n",
    "1. Youden's J Statistic\n",
    "    - Its computed as $$ J = True Positive Rate + True Negative Rate - 1 = True Positive Rate - False Positive Rate $$\n",
    "    - Find the maximum difference between true positive rate and false positive rate and the probability threshold tied tagged to this largest difference would be the selected one\n",
    "2. Euclidean Distance\n",
    "    - The most optimal ROC curve would be one that leans towards the top left of the plot, i.e. true positive rate of 1 and false positive rate of 0.\n",
    "    - Select the probability threshold as the most optimal one if its true positive rate and false positive rate are closest to the ones mentioned in the previous point in terms of Euclidean distance, i.e. $$ d(tpr, fpr) = \\sqrt{({tpr_1 - tpr_2})^{2} + {fpr_1 - fpr_2})^{2}}. $$"
   ]
  },
  {
   "cell_type": "code",
   "execution_count": 14,
   "metadata": {},
   "outputs": [
    {
     "data": {
      "text/plain": [
       "<matplotlib.legend.Legend at 0x7f8ee857a390>"
      ]
     },
     "execution_count": 14,
     "metadata": {},
     "output_type": "execute_result"
    },
    {
     "data": {
      "image/png": "[encoded data removed]",
      "text/plain": [
       "<Figure size 432x288 with 1 Axes>"
      ]
     },
     "metadata": {
      "needs_background": "light"
     },
     "output_type": "display_data"
    }
   ],
   "source": [
    "false_pos_rate, true_pos_rate, proba = roc_curve(y_test, predicted_proba[:, -1])\n",
    "plt.figure()\n",
    "plt.plot([0,1], [0,1], linestyle=\"--\") # plot random curve\n",
    "plt.plot(false_pos_rate, true_pos_rate, marker=\".\", label=f\"AUC = {roc_auc_score(y_test, predicted_proba[:, -1])}\")\n",
    "plt.title(\"ROC Curve\")\n",
    "plt.ylabel(\"True Positive Rate\")\n",
    "plt.xlabel(\"False Positive Rate\")\n",
    "plt.legend(loc=\"lower right\")"
   ]
  },
  {
   "cell_type": "markdown",
   "metadata": {},
   "source": [
    "## Obtain Optimal Probability Thresholds with ROC Curve <a class=\"anchor\" id=\"10\"></a>\n",
    "\n",
    "In this notebook, we will be using the Youden's J statistic to obtain the optimal probability threshold and this method gives equal weights to both false positives and false negatives."
   ]
  },
  {
   "cell_type": "code",
   "execution_count": 15,
   "metadata": {},
   "outputs": [],
   "source": [
    "optimal_proba_cutoff = sorted(list(zip(np.abs(true_pos_rate - false_pos_rate), proba)), key=lambda i: i[0], reverse=True)[0][1]\n",
    "roc_predictions = [1 if i >= optimal_proba_cutoff else 0 for i in predicted_proba[:, -1]]"
   ]
  },
  {
   "cell_type": "markdown",
   "metadata": {},
   "source": [
    "## Evaluate Model (After Thresholding) <a class=\"anchor\" id=\"11\"></a>\n",
    "\n",
    "We can see that the optimal probability threshold managed to suppress the number of false positives"
   ]
  },
  {
   "cell_type": "code",
   "execution_count": 16,
   "metadata": {},
   "outputs": [
    {
     "name": "stdout",
     "output_type": "stream",
     "text": [
      "Accuracy Score Before and After Thresholding: 0.827277970011534, 0.8339741125208253\n",
      "Precision Score Before and After Thresholding: 0.6602279924002533, 0.6785124876224007\n",
      "Recall Score Before and After Thresholding: 0.7422570309718761, 0.731814406075709\n",
      "F1 Score Before and After Thresholding: 0.6988436400201106, 0.7041562000456725\n"
     ]
    }
   ],
   "source": [
    "print(\"Accuracy Score Before and After Thresholding: {}, {}\".format(accuracy_score(y_test, predictions), accuracy_score(y_test, roc_predictions)))\n",
    "print(\"Precision Score Before and After Thresholding: {}, {}\".format(precision_score(y_test, predictions), precision_score(y_test, roc_predictions)))\n",
    "print(\"Recall Score Before and After Thresholding: {}, {}\".format(recall_score(y_test, predictions), recall_score(y_test, roc_predictions)))\n",
    "print(\"F1 Score Before and After Thresholding: {}, {}\".format(f1_score(y_test, predictions), f1_score(y_test, roc_predictions)))"
   ]
  },
  {
   "cell_type": "markdown",
   "metadata": {},
   "source": [
    "## Confusion Matrix of Model (After Thresholding) <a class=\"anchor\" id=\"12\"></a>\n",
    "\n",
    "We can see that the new predictions have fewer false positives but more false negatives in the process. F1 score and accuracy have improved."
   ]
  },
  {
   "cell_type": "code",
   "execution_count": 17,
   "metadata": {},
   "outputs": [
    {
     "name": "stdout",
     "output_type": "stream",
     "text": [
      "Predicted     0     1   All\n",
      "Actual                     \n",
      "0          3323  1398  4721\n",
      "1          1080   506  1586\n",
      "All        4403  1904  6307\n"
     ]
    }
   ],
   "source": [
    "y_actual = pd.Series(y_test, name='Actual')\n",
    "y_predict_tf = pd.Series(roc_predictions, name='Predicted')\n",
    "df_confusion = pd.crosstab(y_actual, y_predict_tf, rownames=['Actual'], colnames=['Predicted'], margins=True)\n",
    "print (df_confusion)"
   ]
  },
  {
   "cell_type": "markdown",
   "metadata": {},
   "source": [
    "## Conclusion <a class=\"anchor\" id=\"13\"></a>\n",
    "\n",
    "Obtaining optimal probability thresholds using the ROC curves is one way of maximizing the predictive capability of your machine learning model. There are a few ways of obtaining these thresholds and they have different assumptions, so please choose wisely. \n",
    "\n",
    "Again, please take a look at the Python package, *thresholder*, I have created which could make the generation of predictions based on the optimal thresholds obtained by the ROC curve convenient and easy. "
   ]
  },
  {
   "cell_type": "markdown",
   "metadata": {},
   "source": [
    "## References <a class=\"anchor\" id=\"14\"></a>\n",
    "\n",
    "- https://github.com/nicholaslaw/roc-optimal-cutoff\n",
    "- https://en.wikipedia.org/wiki/Youden%27s_J_statistic"
   ]
  }
 ],
 "metadata": {
  "kernelspec": {
   "display_name": "Python 3",
   "language": "python",
   "name": "python3"
  },
  "language_info": {
   "codemirror_mode": {
    "name": "ipython",
    "version": 3
   },
   "file_extension": ".py",
   "mimetype": "text/x-python",
   "name": "python",
   "nbconvert_exporter": "python",
   "pygments_lexer": "ipython3",
   "version": "3.6.6"
  }
 },
 "nbformat": 4,
 "nbformat_minor": 4
}
