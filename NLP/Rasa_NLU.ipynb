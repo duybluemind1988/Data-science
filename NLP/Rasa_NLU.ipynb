{
  "nbformat": 4,
  "nbformat_minor": 0,
  "metadata": {
    "colab": {
      "name": "Rasa_NLU.ipynb",
      "provenance": [],
      "authorship_tag": "ABX9TyPnf8zoVWITfuqGN+GnzDqs",
      "include_colab_link": true
    },
    "kernelspec": {
      "name": "python3",
      "display_name": "Python 3"
    }
  },
  "cells": [
    {
      "cell_type": "markdown",
      "metadata": {
        "id": "view-in-github",
        "colab_type": "text"
      },
      "source": [
        "<a href=\"https://colab.research.google.com/github/duybluemind1988/Data-science/blob/master/NLP/Rasa_NLU.ipynb\" target=\"_parent\"><img src=\"https://colab.research.google.com/assets/colab-badge.svg\" alt=\"Open In Colab\"/></a>"
      ]
    },
    {
      "cell_type": "markdown",
      "metadata": {
        "id": "iofcWuCwcH0-",
        "colab_type": "text"
      },
      "source": [
        "Rasa NLU chatbot"
      ]
    },
    {
      "cell_type": "code",
      "metadata": {
        "id": "fSPlZXO7dcVS",
        "colab_type": "code",
        "colab": {}
      },
      "source": [
        "!pip install rasa"
      ],
      "execution_count": null,
      "outputs": []
    },
    {
      "cell_type": "code",
      "metadata": {
        "id": "I47l10XodMQr",
        "colab_type": "code",
        "colab": {}
      },
      "source": [
        "!pip install -U ipython"
      ],
      "execution_count": null,
      "outputs": []
    },
    {
      "cell_type": "code",
      "metadata": {
        "id": "uyGnrMwBeC6n",
        "colab_type": "code",
        "colab": {
          "base_uri": "https://localhost:8080/",
          "height": 938
        },
        "outputId": "e3261682-ce6a-406c-a188-c3053d3b4f9f"
      },
      "source": [
        "!rasa init --no-prompt"
      ],
      "execution_count": 1,
      "outputs": [
        {
          "output_type": "stream",
          "text": [
            "\u001b[92mWelcome to Rasa! 🤖\n",
            "\u001b[0m\n",
            "To get started quickly, an initial project will be created.\n",
            "If you need some help, check out the documentation at https://rasa.com/docs/rasa.\n",
            "\n",
            "Created project directory at '/content'.\n",
            "\u001b[92mFinished creating project structure.\u001b[0m\n",
            "\u001b[92mTraining an initial model...\u001b[0m\n",
            "\u001b[94mTraining Core model...\u001b[0m\n",
            "2020-08-14 00:57:31 \u001b[1;30mINFO    \u001b[0m \u001b[34mroot\u001b[0m  - Generating grammar tables from /usr/lib/python3.6/lib2to3/Grammar.txt\n",
            "2020-08-14 00:57:31 \u001b[1;30mINFO    \u001b[0m \u001b[34mroot\u001b[0m  - Generating grammar tables from /usr/lib/python3.6/lib2to3/PatternGrammar.txt\n",
            "Processed Story Blocks: 100% 5/5 [00:00<00:00, 4081.65it/s, # trackers=1]\n",
            "Processed Story Blocks: 100% 5/5 [00:00<00:00, 1663.61it/s, # trackers=5]\n",
            "Processed Story Blocks: 100% 5/5 [00:00<00:00, 379.66it/s, # trackers=20]\n",
            "Processed Story Blocks: 100% 5/5 [00:00<00:00, 248.30it/s, # trackers=24]\n",
            "Processed trackers: 100% 5/5 [00:00<00:00, 3053.96it/s, # actions=16]\n",
            "Processed actions: 16it [00:00, 8866.28it/s, # examples=16]\n",
            "Processed trackers: 100% 231/231 [00:00<00:00, 572.50it/s, # actions=126]\n",
            "2020-08-14 00:57:33.034160: E tensorflow/stream_executor/cuda/cuda_driver.cc:351] failed call to cuInit: CUDA_ERROR_NO_DEVICE: no CUDA-capable device is detected\n",
            "Epochs: 100% 100/100 [00:14<00:00,  7.08it/s, t_loss=1.124, loss=1.051, acc=1.000]\n",
            "2020-08-14 00:57:54 \u001b[1;30mINFO    \u001b[0m \u001b[34mrasa.utils.tensorflow.models\u001b[0m  - Finished training.\n",
            "2020-08-14 00:57:54 \u001b[1;30mINFO    \u001b[0m \u001b[34mrasa.core.agent\u001b[0m  - Persisted model to '/tmp/tmpuwtiuxmr/core'\n",
            "\u001b[94mCore model training completed.\u001b[0m\n",
            "\u001b[94mTraining NLU model...\u001b[0m\n",
            "2020-08-14 00:57:54 \u001b[1;30mINFO    \u001b[0m \u001b[34mrasa.nlu.training_data.training_data\u001b[0m  - Training data stats:\n",
            "2020-08-14 00:57:54 \u001b[1;30mINFO    \u001b[0m \u001b[34mrasa.nlu.training_data.training_data\u001b[0m  - Number of intent examples: 43 (7 distinct intents)\n",
            "2020-08-14 00:57:54 \u001b[1;30mINFO    \u001b[0m \u001b[34mrasa.nlu.training_data.training_data\u001b[0m  -   Found intents: 'deny', 'mood_unhappy', 'greet', 'mood_great', 'affirm', 'goodbye', 'bot_challenge'\n",
            "2020-08-14 00:57:54 \u001b[1;30mINFO    \u001b[0m \u001b[34mrasa.nlu.training_data.training_data\u001b[0m  - Number of response examples: 0 (0 distinct responses)\n",
            "2020-08-14 00:57:54 \u001b[1;30mINFO    \u001b[0m \u001b[34mrasa.nlu.training_data.training_data\u001b[0m  - Number of entity examples: 0 (0 distinct entities)\n",
            "2020-08-14 00:57:54 \u001b[1;30mINFO    \u001b[0m \u001b[34mrasa.nlu.model\u001b[0m  - Starting to train component WhitespaceTokenizer\n",
            "2020-08-14 00:57:54 \u001b[1;30mINFO    \u001b[0m \u001b[34mrasa.nlu.model\u001b[0m  - Finished training component.\n",
            "2020-08-14 00:57:54 \u001b[1;30mINFO    \u001b[0m \u001b[34mrasa.nlu.model\u001b[0m  - Starting to train component RegexFeaturizer\n",
            "2020-08-14 00:57:54 \u001b[1;30mINFO    \u001b[0m \u001b[34mrasa.nlu.model\u001b[0m  - Finished training component.\n",
            "2020-08-14 00:57:54 \u001b[1;30mINFO    \u001b[0m \u001b[34mrasa.nlu.model\u001b[0m  - Starting to train component LexicalSyntacticFeaturizer\n",
            "2020-08-14 00:57:54 \u001b[1;30mINFO    \u001b[0m \u001b[34mrasa.nlu.model\u001b[0m  - Finished training component.\n",
            "2020-08-14 00:57:54 \u001b[1;30mINFO    \u001b[0m \u001b[34mrasa.nlu.model\u001b[0m  - Starting to train component CountVectorsFeaturizer\n",
            "2020-08-14 00:57:54 \u001b[1;30mINFO    \u001b[0m \u001b[34mrasa.nlu.model\u001b[0m  - Finished training component.\n",
            "2020-08-14 00:57:54 \u001b[1;30mINFO    \u001b[0m \u001b[34mrasa.nlu.model\u001b[0m  - Starting to train component CountVectorsFeaturizer\n",
            "2020-08-14 00:57:54 \u001b[1;30mINFO    \u001b[0m \u001b[34mrasa.nlu.model\u001b[0m  - Finished training component.\n",
            "2020-08-14 00:57:54 \u001b[1;30mINFO    \u001b[0m \u001b[34mrasa.nlu.model\u001b[0m  - Starting to train component DIETClassifier\n",
            "\u001b[93m/usr/local/lib/python3.6/dist-packages/rasa/utils/common.py:363: UserWarning: You specified 'DIET' to train entities, but no entities are present in the training data. Skip training of entities.\n",
            "Epochs: 100% 100/100 [00:15<00:00,  6.36it/s, t_loss=1.557, i_loss=0.174, i_acc=1.000]\n",
            "2020-08-14 00:58:16 \u001b[1;30mINFO    \u001b[0m \u001b[34mrasa.utils.tensorflow.models\u001b[0m  - Finished training.\n",
            "2020-08-14 00:58:17 \u001b[1;30mINFO    \u001b[0m \u001b[34mrasa.nlu.model\u001b[0m  - Finished training component.\n",
            "2020-08-14 00:58:17 \u001b[1;30mINFO    \u001b[0m \u001b[34mrasa.nlu.model\u001b[0m  - Starting to train component EntitySynonymMapper\n",
            "2020-08-14 00:58:17 \u001b[1;30mINFO    \u001b[0m \u001b[34mrasa.nlu.model\u001b[0m  - Finished training component.\n",
            "2020-08-14 00:58:17 \u001b[1;30mINFO    \u001b[0m \u001b[34mrasa.nlu.model\u001b[0m  - Starting to train component ResponseSelector\n",
            "2020-08-14 00:58:17 \u001b[1;30mINFO    \u001b[0m \u001b[34mrasa.nlu.selectors.response_selector\u001b[0m  - Retrieval intent parameter was left to its default value. This response selector will be trained on training examples combining all retrieval intents.\n",
            "2020-08-14 00:58:17 \u001b[1;30mINFO    \u001b[0m \u001b[34mrasa.nlu.model\u001b[0m  - Finished training component.\n",
            "2020-08-14 00:58:17 \u001b[1;30mINFO    \u001b[0m \u001b[34mrasa.nlu.model\u001b[0m  - Successfully saved model into '/tmp/tmpuwtiuxmr/nlu'\n",
            "\u001b[94mNLU model training completed.\u001b[0m\n",
            "\u001b[92mYour Rasa model is trained and saved at '/content/models/20200814-005731.tar.gz'.\u001b[0m\n",
            "If you want to speak to the assistant, run 'rasa shell' at any time inside the project directory.\n"
          ],
          "name": "stdout"
        }
      ]
    },
    {
      "cell_type": "code",
      "metadata": {
        "id": "HeFMvymTeLsW",
        "colab_type": "code",
        "colab": {
          "base_uri": "https://localhost:8080/",
          "height": 190
        },
        "outputId": "5c6ab1ef-3508-4c71-a450-95f5631f5e69"
      },
      "source": [
        "!rasa shell"
      ],
      "execution_count": 2,
      "outputs": [
        {
          "output_type": "stream",
          "text": [
            "2020-08-14 00:59:15 \u001b[1;30mINFO    \u001b[0m \u001b[34mroot\u001b[0m  - Generating grammar tables from /usr/lib/python3.6/lib2to3/Grammar.txt\n",
            "2020-08-14 00:59:15 \u001b[1;30mINFO    \u001b[0m \u001b[34mroot\u001b[0m  - Generating grammar tables from /usr/lib/python3.6/lib2to3/PatternGrammar.txt\n",
            "2020-08-14 00:59:16 \u001b[1;30mINFO    \u001b[0m \u001b[34mroot\u001b[0m  - Connecting to channel 'cmdline' which was specified by the '--connector' argument. Any other channels will be ignored. To connect to all given channels, omit the '--connector' argument.\n",
            "2020-08-14 00:59:16 \u001b[1;30mINFO    \u001b[0m \u001b[34mroot\u001b[0m  - Starting Rasa server on http://localhost:5005\n",
            "2020-08-14 00:59:16.877741: E tensorflow/stream_executor/cuda/cuda_driver.cc:351] failed call to cuInit: CUDA_ERROR_NO_DEVICE: no CUDA-capable device is detected\n",
            "2020-08-14 00:59:23 \u001b[1;30mINFO    \u001b[0m \u001b[34mroot\u001b[0m  - Rasa server is up and running.\n",
            "\u001b[92mBot loaded. Type a message and press enter (use '/stop' to exit): \u001b[0m\n",
            "\u001b[15C\u001b[?7h\u001b[0m\u001b[?12l\u001b[?25h\u001b[15D\u001b[J\u001b[0m\u001b[?7h\u001b[?2004l\u001b[?1lWARNING: your terminal doesn't support cursor position requests (CPR).\n",
            "\u001b[15C\u001b[?7h\u001b[0m\u001b[?12l\u001b[?25h^C\n"
          ],
          "name": "stdout"
        }
      ]
    },
    {
      "cell_type": "code",
      "metadata": {
        "id": "H1uYLDxeelC8",
        "colab_type": "code",
        "colab": {
          "base_uri": "https://localhost:8080/",
          "height": 224
        },
        "outputId": "df97cadd-a351-47ee-b1c1-16160c11fc0c"
      },
      "source": [
        "!pip install pyngrok"
      ],
      "execution_count": 3,
      "outputs": [
        {
          "output_type": "stream",
          "text": [
            "Collecting pyngrok\n",
            "  Downloading https://files.pythonhosted.org/packages/a0/7f/487f2974ef4cea69657537ed525ea00a9fdec1f664fcc2252d48e19c5f42/pyngrok-4.1.9.tar.gz\n",
            "Requirement already satisfied: future in /usr/local/lib/python3.6/dist-packages (from pyngrok) (0.17.1)\n",
            "Requirement already satisfied: PyYAML in /usr/local/lib/python3.6/dist-packages (from pyngrok) (3.13)\n",
            "Building wheels for collected packages: pyngrok\n",
            "  Building wheel for pyngrok (setup.py) ... \u001b[?25l\u001b[?25hdone\n",
            "  Created wheel for pyngrok: filename=pyngrok-4.1.9-cp36-none-any.whl size=16370 sha256=351acaefa50fe58a4b3faf3d8cf90a12a91e30831e9ee098f10efd446f5f2a6d\n",
            "  Stored in directory: /root/.cache/pip/wheels/f1/b2/11/55e048fed27ce46e1996cef077d057f1a07fa2153e32aa2eee\n",
            "Successfully built pyngrok\n",
            "Installing collected packages: pyngrok\n",
            "Successfully installed pyngrok-4.1.9\n"
          ],
          "name": "stdout"
        }
      ]
    },
    {
      "cell_type": "code",
      "metadata": {
        "id": "5rlXJXatgYQW",
        "colab_type": "code",
        "colab": {}
      },
      "source": [
        "!pip install jupyter-dash"
      ],
      "execution_count": null,
      "outputs": []
    },
    {
      "cell_type": "code",
      "metadata": {
        "id": "qYGQdVh0gL6K",
        "colab_type": "code",
        "colab": {}
      },
      "source": [
        "import plotly.express as px\n",
        "from jupyter_dash import JupyterDash\n",
        "import dash_core_components as dcc\n",
        "import dash_html_components as html\n",
        "from dash.dependencies import Input, Output# Load Data\n",
        "df = px.data.tips()# Build App\n",
        "\n",
        "app = JupyterDash(__name__)\n",
        "\n",
        "app.layout = html.Div([\n",
        "    html.H1(\"1littlecoder deploy ML App Colab ngrok Demo\"),\n",
        "    dcc.Graph(id='graph'),\n",
        "    html.Label([\n",
        "        \"colorscale\",\n",
        "        dcc.Dropdown(\n",
        "            id='colorscale-dropdown', clearable=False,\n",
        "            value='plasma', options=[\n",
        "                {'label': c, 'value': c}\n",
        "                for c in px.colors.named_colorscales()\n",
        "            ])\n",
        "    ]),\n",
        "])# Define callback to update graph\n",
        "@app.callback(\n",
        "    Output('graph', 'figure'),\n",
        "    [Input(\"colorscale-dropdown\", \"value\")]\n",
        ")\n",
        "def update_figure(colorscale):\n",
        "    return px.scatter(\n",
        "        df, x=\"total_bill\", y=\"tip\", color=\"size\",\n",
        "        color_continuous_scale=colorscale,\n",
        "        render_mode=\"webgl\", title=\"Tips\"\n",
        "    )# Run app and display result inline in the notebook\n"
      ],
      "execution_count": 6,
      "outputs": []
    },
    {
      "cell_type": "code",
      "metadata": {
        "id": "JVbN2P3ogWku",
        "colab_type": "code",
        "colab": {
          "base_uri": "https://localhost:8080/",
          "height": 51
        },
        "outputId": "b6b6b218-b40d-40a8-84d1-f544d947353e"
      },
      "source": [
        "app.run_server(mode='external')"
      ],
      "execution_count": 7,
      "outputs": [
        {
          "output_type": "stream",
          "text": [
            "Dash app running on:\n"
          ],
          "name": "stdout"
        },
        {
          "output_type": "display_data",
          "data": {
            "application/javascript": [
              "(async (port, path, text, element) => {\n",
              "    if (!google.colab.kernel.accessAllowed) {\n",
              "      return;\n",
              "    }\n",
              "    element.appendChild(document.createTextNode(''));\n",
              "    const url = await google.colab.kernel.proxyPort(port);\n",
              "    const anchor = document.createElement('a');\n",
              "    anchor.href = url + path;\n",
              "    anchor.target = '_blank';\n",
              "    anchor.setAttribute('data-href', url + path);\n",
              "    anchor.textContent = text;\n",
              "    element.appendChild(anchor);\n",
              "  })(8050, \"/\", \"http://127.0.0.1:8050/\", window.element)"
            ],
            "text/plain": [
              "<IPython.core.display.Javascript object>"
            ]
          },
          "metadata": {
            "tags": []
          }
        }
      ]
    },
    {
      "cell_type": "code",
      "metadata": {
        "id": "-m-HlIF0gf49",
        "colab_type": "code",
        "colab": {
          "base_uri": "https://localhost:8080/",
          "height": 17
        },
        "outputId": "34d1e7e4-a3a0-40f3-914e-50e926edb4b3"
      },
      "source": [
        "from pyngrok import ngrok\n",
        "# Open a HTTP tunnel on the default port 80\n",
        "public_url = ngrok.connect(port = '8050')"
      ],
      "execution_count": 8,
      "outputs": [
        {
          "output_type": "stream",
          "text": [
            ""
          ],
          "name": "stdout"
        }
      ]
    },
    {
      "cell_type": "code",
      "metadata": {
        "id": "RsRq6sYUgmlk",
        "colab_type": "code",
        "colab": {
          "base_uri": "https://localhost:8080/",
          "height": 35
        },
        "outputId": "7e277840-5b69-4081-bb48-12bab2a47a2d"
      },
      "source": [
        "public_url"
      ],
      "execution_count": 9,
      "outputs": [
        {
          "output_type": "execute_result",
          "data": {
            "application/vnd.google.colaboratory.intrinsic+json": {
              "type": "string"
            },
            "text/plain": [
              "'http://83bb290039a1.ngrok.io'"
            ]
          },
          "metadata": {
            "tags": []
          },
          "execution_count": 9
        }
      ]
    },
    {
      "cell_type": "code",
      "metadata": {
        "id": "mTjmvf3rgp1E",
        "colab_type": "code",
        "colab": {}
      },
      "source": [
        ""
      ],
      "execution_count": null,
      "outputs": []
    }
  ]
}