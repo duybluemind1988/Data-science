{
  "nbformat": 4,
  "nbformat_minor": 0,
  "metadata": {
    "kernelspec": {
      "display_name": "Python 3",
      "language": "python",
      "name": "python3"
    },
    "language_info": {
      "codemirror_mode": {
        "name": "ipython",
        "version": 3
      },
      "file_extension": ".py",
      "mimetype": "text/x-python",
      "name": "python",
      "nbconvert_exporter": "python",
      "pygments_lexer": "ipython3",
      "version": "3.6.5"
    },
    "colab": {
      "name": "Ch07a - Analyzing Term Similarity.ipynb",
      "provenance": []
    }
  },
  "cells": [
    {
      "cell_type": "code",
      "metadata": {
        "id": "9eesrbWvT5w5",
        "colab_type": "code",
        "colab": {}
      },
      "source": [
        "import numpy as np\n",
        "import pandas as pd"
      ],
      "execution_count": 9,
      "outputs": []
    },
    {
      "cell_type": "code",
      "metadata": {
        "id": "W6wgSl9AT5w9",
        "colab_type": "code",
        "colab": {}
      },
      "source": [
        "def vectorize_terms(terms):\n",
        "    terms = [term.lower() for term in terms]\n",
        "    terms = [np.array(list(term)) for term in terms]\n",
        "    terms = [np.array([ord(char) for char in term]) \n",
        "                for term in terms]\n",
        "    return terms"
      ],
      "execution_count": 10,
      "outputs": []
    },
    {
      "cell_type": "code",
      "metadata": {
        "id": "4mCjTtp_T5xA",
        "colab_type": "code",
        "colab": {
          "base_uri": "https://localhost:8080/",
          "height": 34
        },
        "outputId": "594ea860-70bb-4eeb-87ac-0d543008f2fa"
      },
      "source": [
        "root = 'Believe'\n",
        "term1 = 'beleive'\n",
        "term2 = 'bargain'\n",
        "term3 = 'Elephant'    \n",
        "\n",
        "terms = [root, term1, term2, term3]\n",
        "terms"
      ],
      "execution_count": 11,
      "outputs": [
        {
          "output_type": "execute_result",
          "data": {
            "text/plain": [
              "['Believe', 'beleive', 'bargain', 'Elephant']"
            ]
          },
          "metadata": {
            "tags": []
          },
          "execution_count": 11
        }
      ]
    },
    {
      "cell_type": "code",
      "metadata": {
        "id": "4GEj714cT5xE",
        "colab_type": "code",
        "colab": {
          "base_uri": "https://localhost:8080/",
          "height": 102
        },
        "outputId": "be2d4297-1dc7-447c-a5bb-4e5b23dc34fe"
      },
      "source": [
        "# Character vectorization\n",
        "term_vectors = vectorize_terms(terms)\n",
        "\n",
        "# show vector representations\n",
        "vec_df = pd.DataFrame(term_vectors, index=terms)\n",
        "print(vec_df)"
      ],
      "execution_count": 12,
      "outputs": [
        {
          "output_type": "stream",
          "text": [
            "            0    1    2    3    4    5    6      7\n",
            "Believe    98  101  108  105  101  118  101    NaN\n",
            "beleive    98  101  108  101  105  118  101    NaN\n",
            "bargain    98   97  114  103   97  105  110    NaN\n",
            "Elephant  101  108  101  112  104   97  110  116.0\n"
          ],
          "name": "stdout"
        }
      ]
    },
    {
      "cell_type": "markdown",
      "metadata": {
        "id": "M44OtgxhsqIp",
        "colab_type": "text"
      },
      "source": [
        "Explain"
      ]
    },
    {
      "cell_type": "code",
      "metadata": {
        "id": "Adgrz2aqstLV",
        "colab_type": "code",
        "colab": {
          "base_uri": "https://localhost:8080/",
          "height": 88
        },
        "outputId": "d836d1f1-fb64-4da3-a217-2623604d4734"
      },
      "source": [
        "terms = 'bargain'\n",
        "terms = [term.lower() for term in terms]\n",
        "print(terms)\n",
        "terms = [np.array(list(term)) for term in terms]\n",
        "print(terms)\n",
        "terms = [np.array([ord(char) for char in term]) \n",
        "            for term in terms]\n",
        "print(terms)"
      ],
      "execution_count": 7,
      "outputs": [
        {
          "output_type": "stream",
          "text": [
            "['b', 'a', 'r', 'g', 'a', 'i', 'n']\n",
            "[array(['b'], dtype='<U1'), array(['a'], dtype='<U1'), array(['r'], dtype='<U1'), array(['g'], dtype='<U1'), array(['a'], dtype='<U1'), array(['i'], dtype='<U1'), array(['n'], dtype='<U1')]\n",
            "[array([98]), array([97]), array([114]), array([103]), array([97]), array([105]), array([110])]\n"
          ],
          "name": "stdout"
        }
      ]
    },
    {
      "cell_type": "markdown",
      "metadata": {
        "id": "fcEM7K-AsrJg",
        "colab_type": "text"
      },
      "source": [
        "End"
      ]
    },
    {
      "cell_type": "code",
      "metadata": {
        "id": "GZ8a0hpAT5xH",
        "colab_type": "code",
        "colab": {}
      },
      "source": [
        "root_term = root\n",
        "other_terms = [term1, term2, term3]\n",
        "\n",
        "root_term_vec = vec_df[vec_df.index == root_term].dropna(axis=1).values[0]\n",
        "other_term_vecs = [vec_df[vec_df.index == term].dropna(axis=1).values[0]\n",
        "                      for term in other_terms]"
      ],
      "execution_count": 13,
      "outputs": []
    },
    {
      "cell_type": "code",
      "metadata": {
        "id": "PYE5SSTvtNCb",
        "colab_type": "code",
        "colab": {
          "base_uri": "https://localhost:8080/",
          "height": 34
        },
        "outputId": "7cfdda87-0db9-414e-d4aa-de81263e4976"
      },
      "source": [
        "root_term_vec"
      ],
      "execution_count": 15,
      "outputs": [
        {
          "output_type": "execute_result",
          "data": {
            "text/plain": [
              "array([ 98, 101, 108, 105, 101, 118, 101])"
            ]
          },
          "metadata": {
            "tags": []
          },
          "execution_count": 15
        }
      ]
    },
    {
      "cell_type": "code",
      "metadata": {
        "id": "Yfya-hlWtLUv",
        "colab_type": "code",
        "colab": {
          "base_uri": "https://localhost:8080/",
          "height": 68
        },
        "outputId": "21b99bcc-3d72-4996-c8f4-2e8b8ae54576"
      },
      "source": [
        "other_term_vecs"
      ],
      "execution_count": 14,
      "outputs": [
        {
          "output_type": "execute_result",
          "data": {
            "text/plain": [
              "[array([ 98, 101, 108, 101, 105, 118, 101]),\n",
              " array([ 98,  97, 114, 103,  97, 105, 110]),\n",
              " array([101., 108., 101., 112., 104.,  97., 110., 116.])]"
            ]
          },
          "metadata": {
            "tags": []
          },
          "execution_count": 14
        }
      ]
    },
    {
      "cell_type": "code",
      "metadata": {
        "id": "vjW65sDuT5xK",
        "colab_type": "code",
        "colab": {}
      },
      "source": [
        "def hamming_distance(u, v, norm=False):\n",
        "    if u.shape != v.shape:\n",
        "        raise ValueError('The vectors must have equal lengths.')\n",
        "    return (u != v).sum() if not norm else (u != v).mean()"
      ],
      "execution_count": 16,
      "outputs": []
    },
    {
      "cell_type": "code",
      "metadata": {
        "id": "0xdSOG_8T5xN",
        "colab_type": "code",
        "colab": {
          "base_uri": "https://localhost:8080/",
          "height": 367
        },
        "outputId": "4b3a3529-4f38-449e-9a95-1beb620c4dba"
      },
      "source": [
        "for term, term_vector in zip(other_terms, other_term_vecs):\n",
        "    print('Hamming distance between root: {} and term: {} is {}'.format(root_term,\n",
        "                                                                        term,\n",
        "                                                                        hamming_distance(root_term_vec, \n",
        "                                                                                         term_vector, norm=False)))"
      ],
      "execution_count": 17,
      "outputs": [
        {
          "output_type": "stream",
          "text": [
            "Hamming distance between root: Believe and term: beleive is 2\n",
            "Hamming distance between root: Believe and term: bargain is 6\n"
          ],
          "name": "stdout"
        },
        {
          "output_type": "error",
          "ename": "ValueError",
          "evalue": "ignored",
          "traceback": [
            "\u001b[0;31m---------------------------------------------------------------------------\u001b[0m",
            "\u001b[0;31mValueError\u001b[0m                                Traceback (most recent call last)",
            "\u001b[0;32m<ipython-input-17-2d0d3b221585>\u001b[0m in \u001b[0;36m<module>\u001b[0;34m()\u001b[0m\n\u001b[1;32m      3\u001b[0m                                                                         \u001b[0mterm\u001b[0m\u001b[0;34m,\u001b[0m\u001b[0;34m\u001b[0m\u001b[0;34m\u001b[0m\u001b[0m\n\u001b[1;32m      4\u001b[0m                                                                         hamming_distance(root_term_vec, \n\u001b[0;32m----> 5\u001b[0;31m                                                                                          term_vector, norm=False)))\n\u001b[0m",
            "\u001b[0;32m<ipython-input-16-2034efa805fa>\u001b[0m in \u001b[0;36mhamming_distance\u001b[0;34m(u, v, norm)\u001b[0m\n\u001b[1;32m      1\u001b[0m \u001b[0;32mdef\u001b[0m \u001b[0mhamming_distance\u001b[0m\u001b[0;34m(\u001b[0m\u001b[0mu\u001b[0m\u001b[0;34m,\u001b[0m \u001b[0mv\u001b[0m\u001b[0;34m,\u001b[0m \u001b[0mnorm\u001b[0m\u001b[0;34m=\u001b[0m\u001b[0;32mFalse\u001b[0m\u001b[0;34m)\u001b[0m\u001b[0;34m:\u001b[0m\u001b[0;34m\u001b[0m\u001b[0;34m\u001b[0m\u001b[0m\n\u001b[1;32m      2\u001b[0m     \u001b[0;32mif\u001b[0m \u001b[0mu\u001b[0m\u001b[0;34m.\u001b[0m\u001b[0mshape\u001b[0m \u001b[0;34m!=\u001b[0m \u001b[0mv\u001b[0m\u001b[0;34m.\u001b[0m\u001b[0mshape\u001b[0m\u001b[0;34m:\u001b[0m\u001b[0;34m\u001b[0m\u001b[0;34m\u001b[0m\u001b[0m\n\u001b[0;32m----> 3\u001b[0;31m         \u001b[0;32mraise\u001b[0m \u001b[0mValueError\u001b[0m\u001b[0;34m(\u001b[0m\u001b[0;34m'The vectors must have equal lengths.'\u001b[0m\u001b[0;34m)\u001b[0m\u001b[0;34m\u001b[0m\u001b[0;34m\u001b[0m\u001b[0m\n\u001b[0m\u001b[1;32m      4\u001b[0m     \u001b[0;32mreturn\u001b[0m \u001b[0;34m(\u001b[0m\u001b[0mu\u001b[0m \u001b[0;34m!=\u001b[0m \u001b[0mv\u001b[0m\u001b[0;34m)\u001b[0m\u001b[0;34m.\u001b[0m\u001b[0msum\u001b[0m\u001b[0;34m(\u001b[0m\u001b[0;34m)\u001b[0m \u001b[0;32mif\u001b[0m \u001b[0;32mnot\u001b[0m \u001b[0mnorm\u001b[0m \u001b[0;32melse\u001b[0m \u001b[0;34m(\u001b[0m\u001b[0mu\u001b[0m \u001b[0;34m!=\u001b[0m \u001b[0mv\u001b[0m\u001b[0;34m)\u001b[0m\u001b[0;34m.\u001b[0m\u001b[0mmean\u001b[0m\u001b[0;34m(\u001b[0m\u001b[0;34m)\u001b[0m\u001b[0;34m\u001b[0m\u001b[0;34m\u001b[0m\u001b[0m\n",
            "\u001b[0;31mValueError\u001b[0m: The vectors must have equal lengths."
          ]
        }
      ]
    },
    {
      "cell_type": "markdown",
      "metadata": {
        "id": "zu4ey0G0uXcG",
        "colab_type": "text"
      },
      "source": [
        "Explain"
      ]
    },
    {
      "cell_type": "code",
      "metadata": {
        "id": "TeYIfxnouYsS",
        "colab_type": "code",
        "colab": {
          "base_uri": "https://localhost:8080/",
          "height": 85
        },
        "outputId": "aa7f4d32-c19b-4b69-d800-97458822c3d5"
      },
      "source": [
        "u=root_term_vec #Believe\n",
        "v=other_term_vecs[0] #believe\n",
        "print(u)\n",
        "print(v)\n",
        "print((u != v).sum()) # 2 ký tự khác nhau\n",
        "print((u != v).mean())"
      ],
      "execution_count": 36,
      "outputs": [
        {
          "output_type": "stream",
          "text": [
            "[ 98 101 108 105 101 118 101]\n",
            "[ 98 101 108 101 105 118 101]\n",
            "2\n",
            "0.2857142857142857\n"
          ],
          "name": "stdout"
        }
      ]
    },
    {
      "cell_type": "code",
      "metadata": {
        "id": "GwHngNPrvwb1",
        "colab_type": "code",
        "colab": {
          "base_uri": "https://localhost:8080/",
          "height": 85
        },
        "outputId": "0bf61f8b-7d1e-4d59-bc5c-f795d8a48f7c"
      },
      "source": [
        "u=root_term_vec #Believe\n",
        "v=other_term_vecs[1] #bargain\n",
        "print(u)\n",
        "print(v)\n",
        "print((u != v).sum()) # 6 ký tự khác nhau\n",
        "print((u != v).mean())"
      ],
      "execution_count": 37,
      "outputs": [
        {
          "output_type": "stream",
          "text": [
            "[ 98 101 108 105 101 118 101]\n",
            "[ 98  97 114 103  97 105 110]\n",
            "6\n",
            "0.8571428571428571\n"
          ],
          "name": "stdout"
        }
      ]
    },
    {
      "cell_type": "markdown",
      "metadata": {
        "id": "kWNV0zyZuY7o",
        "colab_type": "text"
      },
      "source": [
        "End"
      ]
    },
    {
      "cell_type": "code",
      "metadata": {
        "id": "wqNVsOR-T5xS",
        "colab_type": "code",
        "colab": {
          "base_uri": "https://localhost:8080/",
          "height": 435
        },
        "outputId": "4c7594fb-a1c7-43c1-a3ee-7333c6030fd0"
      },
      "source": [
        "for term, term_vector in zip(other_terms, other_term_vecs):\n",
        "    print('Normalized Hamming distance between root: {} and term: {} is {}'.format(root_term,\n",
        "                                                                                   term,\n",
        "                                                                                   round(hamming_distance(root_term_vec, \n",
        "                                                                                         term_vector, norm=True),\n",
        "                                                                                         2)\n",
        "                                                                                   ))"
      ],
      "execution_count": 18,
      "outputs": [
        {
          "output_type": "stream",
          "text": [
            "Normalized Hamming distance between root: Believe and term: beleive is 0.29\n",
            "Normalized Hamming distance between root: Believe and term: bargain is 0.86\n"
          ],
          "name": "stdout"
        },
        {
          "output_type": "error",
          "ename": "ValueError",
          "evalue": "ignored",
          "traceback": [
            "\u001b[0;31m---------------------------------------------------------------------------\u001b[0m",
            "\u001b[0;31mValueError\u001b[0m                                Traceback (most recent call last)",
            "\u001b[0;32m<ipython-input-18-8a3d8bb2149c>\u001b[0m in \u001b[0;36m<module>\u001b[0;34m()\u001b[0m\n\u001b[1;32m      3\u001b[0m                                                                                    \u001b[0mterm\u001b[0m\u001b[0;34m,\u001b[0m\u001b[0;34m\u001b[0m\u001b[0;34m\u001b[0m\u001b[0m\n\u001b[1;32m      4\u001b[0m                                                                                    round(hamming_distance(root_term_vec, \n\u001b[0;32m----> 5\u001b[0;31m                                                                                          term_vector, norm=True),\n\u001b[0m\u001b[1;32m      6\u001b[0m                                                                                          2)\n\u001b[1;32m      7\u001b[0m                                                                                    ))\n",
            "\u001b[0;32m<ipython-input-16-2034efa805fa>\u001b[0m in \u001b[0;36mhamming_distance\u001b[0;34m(u, v, norm)\u001b[0m\n\u001b[1;32m      1\u001b[0m \u001b[0;32mdef\u001b[0m \u001b[0mhamming_distance\u001b[0m\u001b[0;34m(\u001b[0m\u001b[0mu\u001b[0m\u001b[0;34m,\u001b[0m \u001b[0mv\u001b[0m\u001b[0;34m,\u001b[0m \u001b[0mnorm\u001b[0m\u001b[0;34m=\u001b[0m\u001b[0;32mFalse\u001b[0m\u001b[0;34m)\u001b[0m\u001b[0;34m:\u001b[0m\u001b[0;34m\u001b[0m\u001b[0;34m\u001b[0m\u001b[0m\n\u001b[1;32m      2\u001b[0m     \u001b[0;32mif\u001b[0m \u001b[0mu\u001b[0m\u001b[0;34m.\u001b[0m\u001b[0mshape\u001b[0m \u001b[0;34m!=\u001b[0m \u001b[0mv\u001b[0m\u001b[0;34m.\u001b[0m\u001b[0mshape\u001b[0m\u001b[0;34m:\u001b[0m\u001b[0;34m\u001b[0m\u001b[0;34m\u001b[0m\u001b[0m\n\u001b[0;32m----> 3\u001b[0;31m         \u001b[0;32mraise\u001b[0m \u001b[0mValueError\u001b[0m\u001b[0;34m(\u001b[0m\u001b[0;34m'The vectors must have equal lengths.'\u001b[0m\u001b[0;34m)\u001b[0m\u001b[0;34m\u001b[0m\u001b[0;34m\u001b[0m\u001b[0m\n\u001b[0m\u001b[1;32m      4\u001b[0m     \u001b[0;32mreturn\u001b[0m \u001b[0;34m(\u001b[0m\u001b[0mu\u001b[0m \u001b[0;34m!=\u001b[0m \u001b[0mv\u001b[0m\u001b[0;34m)\u001b[0m\u001b[0;34m.\u001b[0m\u001b[0msum\u001b[0m\u001b[0;34m(\u001b[0m\u001b[0;34m)\u001b[0m \u001b[0;32mif\u001b[0m \u001b[0;32mnot\u001b[0m \u001b[0mnorm\u001b[0m \u001b[0;32melse\u001b[0m \u001b[0;34m(\u001b[0m\u001b[0mu\u001b[0m \u001b[0;34m!=\u001b[0m \u001b[0mv\u001b[0m\u001b[0;34m)\u001b[0m\u001b[0;34m.\u001b[0m\u001b[0mmean\u001b[0m\u001b[0;34m(\u001b[0m\u001b[0;34m)\u001b[0m\u001b[0;34m\u001b[0m\u001b[0;34m\u001b[0m\u001b[0m\n",
            "\u001b[0;31mValueError\u001b[0m: The vectors must have equal lengths."
          ]
        }
      ]
    },
    {
      "cell_type": "code",
      "metadata": {
        "id": "EPBezfz8T5xV",
        "colab_type": "code",
        "colab": {}
      },
      "source": [
        "def manhattan_distance(u, v, norm=False):\n",
        "    if u.shape != v.shape:\n",
        "        raise ValueError('The vectors must have equal lengths.')\n",
        "    return abs(u - v).sum() if not norm else abs(u - v).mean()"
      ],
      "execution_count": 19,
      "outputs": []
    },
    {
      "cell_type": "code",
      "metadata": {
        "id": "ujmVVCq3T5xY",
        "colab_type": "code",
        "colab": {
          "base_uri": "https://localhost:8080/",
          "height": 367
        },
        "outputId": "2685e2b3-9ea3-4808-d3af-ce1e55f0014e"
      },
      "source": [
        "for term, term_vector in zip(other_terms, other_term_vecs):\n",
        "    print('Manhattan distance between root: {} and term: {} is {}'.format(root_term,\n",
        "                                                                          term,\n",
        "                                                                          manhattan_distance(root_term_vec, \n",
        "                                                                                             term_vector, norm=False)))"
      ],
      "execution_count": 20,
      "outputs": [
        {
          "output_type": "stream",
          "text": [
            "Manhattan distance between root: Believe and term: beleive is 8\n",
            "Manhattan distance between root: Believe and term: bargain is 38\n"
          ],
          "name": "stdout"
        },
        {
          "output_type": "error",
          "ename": "ValueError",
          "evalue": "ignored",
          "traceback": [
            "\u001b[0;31m---------------------------------------------------------------------------\u001b[0m",
            "\u001b[0;31mValueError\u001b[0m                                Traceback (most recent call last)",
            "\u001b[0;32m<ipython-input-20-121f10f6ef21>\u001b[0m in \u001b[0;36m<module>\u001b[0;34m()\u001b[0m\n\u001b[1;32m      3\u001b[0m                                                                           \u001b[0mterm\u001b[0m\u001b[0;34m,\u001b[0m\u001b[0;34m\u001b[0m\u001b[0;34m\u001b[0m\u001b[0m\n\u001b[1;32m      4\u001b[0m                                                                           manhattan_distance(root_term_vec, \n\u001b[0;32m----> 5\u001b[0;31m                                                                                              term_vector, norm=False)))\n\u001b[0m",
            "\u001b[0;32m<ipython-input-19-f76af5f725e0>\u001b[0m in \u001b[0;36mmanhattan_distance\u001b[0;34m(u, v, norm)\u001b[0m\n\u001b[1;32m      1\u001b[0m \u001b[0;32mdef\u001b[0m \u001b[0mmanhattan_distance\u001b[0m\u001b[0;34m(\u001b[0m\u001b[0mu\u001b[0m\u001b[0;34m,\u001b[0m \u001b[0mv\u001b[0m\u001b[0;34m,\u001b[0m \u001b[0mnorm\u001b[0m\u001b[0;34m=\u001b[0m\u001b[0;32mFalse\u001b[0m\u001b[0;34m)\u001b[0m\u001b[0;34m:\u001b[0m\u001b[0;34m\u001b[0m\u001b[0;34m\u001b[0m\u001b[0m\n\u001b[1;32m      2\u001b[0m     \u001b[0;32mif\u001b[0m \u001b[0mu\u001b[0m\u001b[0;34m.\u001b[0m\u001b[0mshape\u001b[0m \u001b[0;34m!=\u001b[0m \u001b[0mv\u001b[0m\u001b[0;34m.\u001b[0m\u001b[0mshape\u001b[0m\u001b[0;34m:\u001b[0m\u001b[0;34m\u001b[0m\u001b[0;34m\u001b[0m\u001b[0m\n\u001b[0;32m----> 3\u001b[0;31m         \u001b[0;32mraise\u001b[0m \u001b[0mValueError\u001b[0m\u001b[0;34m(\u001b[0m\u001b[0;34m'The vectors must have equal lengths.'\u001b[0m\u001b[0;34m)\u001b[0m\u001b[0;34m\u001b[0m\u001b[0;34m\u001b[0m\u001b[0m\n\u001b[0m\u001b[1;32m      4\u001b[0m     \u001b[0;32mreturn\u001b[0m \u001b[0mabs\u001b[0m\u001b[0;34m(\u001b[0m\u001b[0mu\u001b[0m \u001b[0;34m-\u001b[0m \u001b[0mv\u001b[0m\u001b[0;34m)\u001b[0m\u001b[0;34m.\u001b[0m\u001b[0msum\u001b[0m\u001b[0;34m(\u001b[0m\u001b[0;34m)\u001b[0m \u001b[0;32mif\u001b[0m \u001b[0;32mnot\u001b[0m \u001b[0mnorm\u001b[0m \u001b[0;32melse\u001b[0m \u001b[0mabs\u001b[0m\u001b[0;34m(\u001b[0m\u001b[0mu\u001b[0m \u001b[0;34m-\u001b[0m \u001b[0mv\u001b[0m\u001b[0;34m)\u001b[0m\u001b[0;34m.\u001b[0m\u001b[0mmean\u001b[0m\u001b[0;34m(\u001b[0m\u001b[0;34m)\u001b[0m\u001b[0;34m\u001b[0m\u001b[0;34m\u001b[0m\u001b[0m\n",
            "\u001b[0;31mValueError\u001b[0m: The vectors must have equal lengths."
          ]
        }
      ]
    },
    {
      "cell_type": "code",
      "metadata": {
        "id": "ZOwXmdJPT5xb",
        "colab_type": "code",
        "colab": {
          "base_uri": "https://localhost:8080/",
          "height": 435
        },
        "outputId": "1cbfc519-3b9b-4830-d281-61abe2503170"
      },
      "source": [
        "for term, term_vector in zip(other_terms, other_term_vecs):\n",
        "    print('Normalized Manhattan distance between root: {} and term: {} is {}'.format(root_term,\n",
        "                                                                                     term,\n",
        "                                                                                     round(manhattan_distance(root_term_vec, \n",
        "                                                                                           term_vector, norm=True),\n",
        "                                                                                           2)\n",
        "                                                                                     ))"
      ],
      "execution_count": 21,
      "outputs": [
        {
          "output_type": "stream",
          "text": [
            "Normalized Manhattan distance between root: Believe and term: beleive is 1.14\n",
            "Normalized Manhattan distance between root: Believe and term: bargain is 5.43\n"
          ],
          "name": "stdout"
        },
        {
          "output_type": "error",
          "ename": "ValueError",
          "evalue": "ignored",
          "traceback": [
            "\u001b[0;31m---------------------------------------------------------------------------\u001b[0m",
            "\u001b[0;31mValueError\u001b[0m                                Traceback (most recent call last)",
            "\u001b[0;32m<ipython-input-21-29295406e2b7>\u001b[0m in \u001b[0;36m<module>\u001b[0;34m()\u001b[0m\n\u001b[1;32m      3\u001b[0m                                                                                      \u001b[0mterm\u001b[0m\u001b[0;34m,\u001b[0m\u001b[0;34m\u001b[0m\u001b[0;34m\u001b[0m\u001b[0m\n\u001b[1;32m      4\u001b[0m                                                                                      round(manhattan_distance(root_term_vec, \n\u001b[0;32m----> 5\u001b[0;31m                                                                                            term_vector, norm=True),\n\u001b[0m\u001b[1;32m      6\u001b[0m                                                                                            2)\n\u001b[1;32m      7\u001b[0m                                                                                      ))\n",
            "\u001b[0;32m<ipython-input-19-f76af5f725e0>\u001b[0m in \u001b[0;36mmanhattan_distance\u001b[0;34m(u, v, norm)\u001b[0m\n\u001b[1;32m      1\u001b[0m \u001b[0;32mdef\u001b[0m \u001b[0mmanhattan_distance\u001b[0m\u001b[0;34m(\u001b[0m\u001b[0mu\u001b[0m\u001b[0;34m,\u001b[0m \u001b[0mv\u001b[0m\u001b[0;34m,\u001b[0m \u001b[0mnorm\u001b[0m\u001b[0;34m=\u001b[0m\u001b[0;32mFalse\u001b[0m\u001b[0;34m)\u001b[0m\u001b[0;34m:\u001b[0m\u001b[0;34m\u001b[0m\u001b[0;34m\u001b[0m\u001b[0m\n\u001b[1;32m      2\u001b[0m     \u001b[0;32mif\u001b[0m \u001b[0mu\u001b[0m\u001b[0;34m.\u001b[0m\u001b[0mshape\u001b[0m \u001b[0;34m!=\u001b[0m \u001b[0mv\u001b[0m\u001b[0;34m.\u001b[0m\u001b[0mshape\u001b[0m\u001b[0;34m:\u001b[0m\u001b[0;34m\u001b[0m\u001b[0;34m\u001b[0m\u001b[0m\n\u001b[0;32m----> 3\u001b[0;31m         \u001b[0;32mraise\u001b[0m \u001b[0mValueError\u001b[0m\u001b[0;34m(\u001b[0m\u001b[0;34m'The vectors must have equal lengths.'\u001b[0m\u001b[0;34m)\u001b[0m\u001b[0;34m\u001b[0m\u001b[0;34m\u001b[0m\u001b[0m\n\u001b[0m\u001b[1;32m      4\u001b[0m     \u001b[0;32mreturn\u001b[0m \u001b[0mabs\u001b[0m\u001b[0;34m(\u001b[0m\u001b[0mu\u001b[0m \u001b[0;34m-\u001b[0m \u001b[0mv\u001b[0m\u001b[0;34m)\u001b[0m\u001b[0;34m.\u001b[0m\u001b[0msum\u001b[0m\u001b[0;34m(\u001b[0m\u001b[0;34m)\u001b[0m \u001b[0;32mif\u001b[0m \u001b[0;32mnot\u001b[0m \u001b[0mnorm\u001b[0m \u001b[0;32melse\u001b[0m \u001b[0mabs\u001b[0m\u001b[0;34m(\u001b[0m\u001b[0mu\u001b[0m \u001b[0;34m-\u001b[0m \u001b[0mv\u001b[0m\u001b[0;34m)\u001b[0m\u001b[0;34m.\u001b[0m\u001b[0mmean\u001b[0m\u001b[0;34m(\u001b[0m\u001b[0;34m)\u001b[0m\u001b[0;34m\u001b[0m\u001b[0;34m\u001b[0m\u001b[0m\n",
            "\u001b[0;31mValueError\u001b[0m: The vectors must have equal lengths."
          ]
        }
      ]
    },
    {
      "cell_type": "code",
      "metadata": {
        "id": "bEujT7JhT5xd",
        "colab_type": "code",
        "colab": {}
      },
      "source": [
        "def euclidean_distance(u,v):\n",
        "    if u.shape != v.shape:\n",
        "        raise ValueError('The vectors must have equal lengths.')\n",
        "    distance = np.sqrt(np.sum(np.square(u - v)))\n",
        "    return distance"
      ],
      "execution_count": 22,
      "outputs": []
    },
    {
      "cell_type": "code",
      "metadata": {
        "id": "xxUGIkXQT5xg",
        "colab_type": "code",
        "colab": {
          "base_uri": "https://localhost:8080/",
          "height": 384
        },
        "outputId": "4d65d356-e1ff-4465-a7b9-4bbc2f811aa5"
      },
      "source": [
        "for term, term_vector in zip(other_terms, other_term_vecs):\n",
        "    print('Euclidean distance between root: {} and term: {} is {}'.format(root_term,\n",
        "                                                                          term,\n",
        "                                                                          round(euclidean_distance(root_term_vec, \n",
        "                                                                                                   term_vector),\n",
        "                                                                                2)\n",
        "                                                                          ))"
      ],
      "execution_count": 23,
      "outputs": [
        {
          "output_type": "stream",
          "text": [
            "Euclidean distance between root: Believe and term: beleive is 5.66\n",
            "Euclidean distance between root: Believe and term: bargain is 17.94\n"
          ],
          "name": "stdout"
        },
        {
          "output_type": "error",
          "ename": "ValueError",
          "evalue": "ignored",
          "traceback": [
            "\u001b[0;31m---------------------------------------------------------------------------\u001b[0m",
            "\u001b[0;31mValueError\u001b[0m                                Traceback (most recent call last)",
            "\u001b[0;32m<ipython-input-23-146abd47aef2>\u001b[0m in \u001b[0;36m<module>\u001b[0;34m()\u001b[0m\n\u001b[1;32m      3\u001b[0m                                                                           \u001b[0mterm\u001b[0m\u001b[0;34m,\u001b[0m\u001b[0;34m\u001b[0m\u001b[0;34m\u001b[0m\u001b[0m\n\u001b[1;32m      4\u001b[0m                                                                           round(euclidean_distance(root_term_vec, \n\u001b[0;32m----> 5\u001b[0;31m                                                                                                    term_vector),\n\u001b[0m\u001b[1;32m      6\u001b[0m                                                                                 2)\n\u001b[1;32m      7\u001b[0m                                                                           ))\n",
            "\u001b[0;32m<ipython-input-22-654771f3cf5d>\u001b[0m in \u001b[0;36meuclidean_distance\u001b[0;34m(u, v)\u001b[0m\n\u001b[1;32m      1\u001b[0m \u001b[0;32mdef\u001b[0m \u001b[0meuclidean_distance\u001b[0m\u001b[0;34m(\u001b[0m\u001b[0mu\u001b[0m\u001b[0;34m,\u001b[0m\u001b[0mv\u001b[0m\u001b[0;34m)\u001b[0m\u001b[0;34m:\u001b[0m\u001b[0;34m\u001b[0m\u001b[0;34m\u001b[0m\u001b[0m\n\u001b[1;32m      2\u001b[0m     \u001b[0;32mif\u001b[0m \u001b[0mu\u001b[0m\u001b[0;34m.\u001b[0m\u001b[0mshape\u001b[0m \u001b[0;34m!=\u001b[0m \u001b[0mv\u001b[0m\u001b[0;34m.\u001b[0m\u001b[0mshape\u001b[0m\u001b[0;34m:\u001b[0m\u001b[0;34m\u001b[0m\u001b[0;34m\u001b[0m\u001b[0m\n\u001b[0;32m----> 3\u001b[0;31m         \u001b[0;32mraise\u001b[0m \u001b[0mValueError\u001b[0m\u001b[0;34m(\u001b[0m\u001b[0;34m'The vectors must have equal lengths.'\u001b[0m\u001b[0;34m)\u001b[0m\u001b[0;34m\u001b[0m\u001b[0;34m\u001b[0m\u001b[0m\n\u001b[0m\u001b[1;32m      4\u001b[0m     \u001b[0mdistance\u001b[0m \u001b[0;34m=\u001b[0m \u001b[0mnp\u001b[0m\u001b[0;34m.\u001b[0m\u001b[0msqrt\u001b[0m\u001b[0;34m(\u001b[0m\u001b[0mnp\u001b[0m\u001b[0;34m.\u001b[0m\u001b[0msum\u001b[0m\u001b[0;34m(\u001b[0m\u001b[0mnp\u001b[0m\u001b[0;34m.\u001b[0m\u001b[0msquare\u001b[0m\u001b[0;34m(\u001b[0m\u001b[0mu\u001b[0m \u001b[0;34m-\u001b[0m \u001b[0mv\u001b[0m\u001b[0;34m)\u001b[0m\u001b[0;34m)\u001b[0m\u001b[0;34m)\u001b[0m\u001b[0;34m\u001b[0m\u001b[0;34m\u001b[0m\u001b[0m\n\u001b[1;32m      5\u001b[0m     \u001b[0;32mreturn\u001b[0m \u001b[0mdistance\u001b[0m\u001b[0;34m\u001b[0m\u001b[0;34m\u001b[0m\u001b[0m\n",
            "\u001b[0;31mValueError\u001b[0m: The vectors must have equal lengths."
          ]
        }
      ]
    },
    {
      "cell_type": "code",
      "metadata": {
        "id": "TT2rx1BNT5xi",
        "colab_type": "code",
        "colab": {}
      },
      "source": [
        "import copy\n",
        "import pandas as pd\n",
        "\n",
        "def levenshtein_edit_distance(u, v):\n",
        "    # convert to lower case\n",
        "    u = u.lower()\n",
        "    v = v.lower()\n",
        "    # base cases\n",
        "    if u == v: return 0\n",
        "    elif len(u) == 0: return len(v)\n",
        "    elif len(v) == 0: return len(u)\n",
        "    # initialize edit distance matrix\n",
        "    edit_matrix = []\n",
        "    # initialize two distance matrices \n",
        "    du = [0] * (len(v) + 1)\n",
        "    dv = [0] * (len(v) + 1)\n",
        "    # du: the previous row of edit distances\n",
        "    for i in range(len(du)):\n",
        "        du[i] = i\n",
        "    # dv : the current row of edit distances    \n",
        "    for i in range(len(u)):\n",
        "        dv[0] = i + 1\n",
        "        # compute cost as per algorithm\n",
        "        for j in range(len(v)):\n",
        "            cost = 0 if u[i] == v[j] else 1\n",
        "            dv[j + 1] = min(dv[j] + 1, du[j + 1] + 1, du[j] + cost)\n",
        "        # assign dv to du for next iteration\n",
        "        for j in range(len(du)):\n",
        "            du[j] = dv[j]\n",
        "        # copy dv to the edit matrix\n",
        "        edit_matrix.append(copy.copy(dv))\n",
        "    # compute the final edit distance and edit matrix    \n",
        "    distance = dv[len(v)]\n",
        "    edit_matrix = np.array(edit_matrix)\n",
        "    edit_matrix = edit_matrix.T\n",
        "    edit_matrix = edit_matrix[1:,]\n",
        "    edit_matrix = pd.DataFrame(data=edit_matrix,\n",
        "                               index=list(v),\n",
        "                               columns=list(u))\n",
        "    return distance, edit_matrix"
      ],
      "execution_count": 24,
      "outputs": []
    },
    {
      "cell_type": "code",
      "metadata": {
        "id": "k7tp76WDT5xl",
        "colab_type": "code",
        "colab": {
          "base_uri": "https://localhost:8080/",
          "height": 646
        },
        "outputId": "b70e69bc-f141-4e57-f5fb-7f738c8a3cf5"
      },
      "source": [
        "for term in other_terms:\n",
        "    edit_d, edit_m = levenshtein_edit_distance(root_term, term)\n",
        "    print('Computing distance between root: {} and term: {}'.format(root_term,\n",
        "                                                                    term))\n",
        "    print('Levenshtein edit distance is {}'.format(edit_d))\n",
        "    print('The complete edit distance matrix is depicted below')\n",
        "    print(edit_m)\n",
        "    print('-'*30)"
      ],
      "execution_count": 25,
      "outputs": [
        {
          "output_type": "stream",
          "text": [
            "Computing distance between root: Believe and term: beleive\n",
            "Levenshtein edit distance is 2\n",
            "The complete edit distance matrix is depicted below\n",
            "   b  e  l  i  e  v  e\n",
            "b  0  1  2  3  4  5  6\n",
            "e  1  0  1  2  3  4  5\n",
            "l  2  1  0  1  2  3  4\n",
            "e  3  2  1  1  1  2  3\n",
            "i  4  3  2  1  2  2  3\n",
            "v  5  4  3  2  2  2  3\n",
            "e  6  5  4  3  2  3  2\n",
            "------------------------------\n",
            "Computing distance between root: Believe and term: bargain\n",
            "Levenshtein edit distance is 6\n",
            "The complete edit distance matrix is depicted below\n",
            "   b  e  l  i  e  v  e\n",
            "b  0  1  2  3  4  5  6\n",
            "a  1  1  2  3  4  5  6\n",
            "r  2  2  2  3  4  5  6\n",
            "g  3  3  3  3  4  5  6\n",
            "a  4  4  4  4  4  5  6\n",
            "i  5  5  5  4  5  5  6\n",
            "n  6  6  6  5  5  6  6\n",
            "------------------------------\n",
            "Computing distance between root: Believe and term: Elephant\n",
            "Levenshtein edit distance is 7\n",
            "The complete edit distance matrix is depicted below\n",
            "   b  e  l  i  e  v  e\n",
            "e  1  1  2  3  4  5  6\n",
            "l  2  2  1  2  3  4  5\n",
            "e  3  2  2  2  2  3  4\n",
            "p  4  3  3  3  3  3  4\n",
            "h  5  4  4  4  4  4  4\n",
            "a  6  5  5  5  5  5  5\n",
            "n  7  6  6  6  6  6  6\n",
            "t  8  7  7  7  7  7  7\n",
            "------------------------------\n"
          ],
          "name": "stdout"
        }
      ]
    },
    {
      "cell_type": "code",
      "metadata": {
        "id": "LrJGz0rmT5xo",
        "colab_type": "code",
        "colab": {}
      },
      "source": [
        "def boc_term_vectors(word_list):\n",
        "    word_list = [word.lower() for word in word_list]\n",
        "    unique_chars = np.unique(\n",
        "                        np.hstack([list(word) \n",
        "                        for word in word_list]))\n",
        "    word_list_term_counts = [{char: count \n",
        "                                  for char, count in np.stack(\n",
        "                                                         np.unique(list(word), \n",
        "                                                                   return_counts=True),\n",
        "                                                         axis=1)}\n",
        "                                 for word in word_list]\n",
        "    \n",
        "    boc_vectors = [np.array([int(word_term_counts.get(char, 0)) \n",
        "                            for char in unique_chars])\n",
        "                   for word_term_counts in word_list_term_counts]\n",
        "    return list(unique_chars), boc_vectors"
      ],
      "execution_count": 26,
      "outputs": []
    },
    {
      "cell_type": "code",
      "metadata": {
        "id": "-9zbH7lJT5xr",
        "colab_type": "code",
        "colab": {
          "base_uri": "https://localhost:8080/",
          "height": 102
        },
        "outputId": "7560508d-f777-44e0-ecd2-976a382b5e18"
      },
      "source": [
        "# Bag of characters vectorization\n",
        "import pandas as pd\n",
        "\n",
        "feature_names, feature_vectors = boc_term_vectors(terms)\n",
        "boc_df = pd.DataFrame(feature_vectors, columns=feature_names, index=terms)\n",
        "print(boc_df)"
      ],
      "execution_count": 27,
      "outputs": [
        {
          "output_type": "stream",
          "text": [
            "          a  b  e  g  h  i  l  n  p  r  t  v\n",
            "Believe   0  1  3  0  0  1  1  0  0  0  0  1\n",
            "beleive   0  1  3  0  0  1  1  0  0  0  0  1\n",
            "bargain   2  1  0  1  0  1  0  1  0  1  0  0\n",
            "Elephant  1  0  2  0  1  0  1  1  1  0  1  0\n"
          ],
          "name": "stdout"
        }
      ]
    },
    {
      "cell_type": "code",
      "metadata": {
        "id": "xx0Wue9qT5xt",
        "colab_type": "code",
        "colab": {}
      },
      "source": [
        "root_term_boc = boc_df[vec_df.index == root_term].values[0]\n",
        "other_term_bocs = [boc_df[vec_df.index == term].values[0]\n",
        "                      for term in other_terms]"
      ],
      "execution_count": 28,
      "outputs": []
    },
    {
      "cell_type": "code",
      "metadata": {
        "id": "LOQKoXj3T5xy",
        "colab_type": "code",
        "colab": {}
      },
      "source": [
        "def cosine_distance(u, v):\n",
        "    distance = 1.0 - (np.dot(u, v) / \n",
        "                        (np.sqrt(sum(np.square(u))) * np.sqrt(sum(np.square(v))))\n",
        "                     )\n",
        "    return distance"
      ],
      "execution_count": 29,
      "outputs": []
    },
    {
      "cell_type": "code",
      "metadata": {
        "id": "vHIk-rWAT5x1",
        "colab_type": "code",
        "colab": {
          "base_uri": "https://localhost:8080/",
          "height": 221
        },
        "outputId": "bfb5cda4-ffd5-4da7-87b6-c8713edf9f7c"
      },
      "source": [
        "for term, boc_term in zip(other_terms, other_term_bocs):\n",
        "    print('Analyzing similarity between root: {} and term: {}'.format(root_term,\n",
        "                                                                      term))\n",
        "    distance = round(cosine_distance(root_term_boc, boc_term), 2)\n",
        "    similarity = round(1 - distance, 2)                                                           \n",
        "    print('Cosine distance  is {}'.format(distance))\n",
        "    print('Cosine similarity  is {}'.format(similarity))\n",
        "    print('-'*40)"
      ],
      "execution_count": 30,
      "outputs": [
        {
          "output_type": "stream",
          "text": [
            "Analyzing similarity between root: Believe and term: beleive\n",
            "Cosine distance  is -0.0\n",
            "Cosine similarity  is 1.0\n",
            "----------------------------------------\n",
            "Analyzing similarity between root: Believe and term: bargain\n",
            "Cosine distance  is 0.82\n",
            "Cosine similarity  is 0.18\n",
            "----------------------------------------\n",
            "Analyzing similarity between root: Believe and term: Elephant\n",
            "Cosine distance  is 0.39\n",
            "Cosine similarity  is 0.61\n",
            "----------------------------------------\n"
          ],
          "name": "stdout"
        }
      ]
    },
    {
      "cell_type": "code",
      "metadata": {
        "id": "PMXkO7qGt6dA",
        "colab_type": "code",
        "colab": {}
      },
      "source": [
        ""
      ],
      "execution_count": null,
      "outputs": []
    }
  ]
}