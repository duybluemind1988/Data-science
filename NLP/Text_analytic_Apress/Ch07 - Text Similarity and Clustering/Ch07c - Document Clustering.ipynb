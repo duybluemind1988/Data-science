{
  "nbformat": 4,
  "nbformat_minor": 0,
  "metadata": {
    "anaconda-cloud": {},
    "kernelspec": {
      "display_name": "Python 3",
      "language": "python",
      "name": "python3"
    },
    "language_info": {
      "codemirror_mode": {
        "name": "ipython",
        "version": 3
      },
      "file_extension": ".py",
      "mimetype": "text/x-python",
      "name": "python",
      "nbconvert_exporter": "python",
      "pygments_lexer": "ipython3",
      "version": "3.6.5"
    },
    "colab": {
      "name": "Ch07c - Document Clustering.ipynb",
      "provenance": []
    }
  },
  "cells": [
    {
      "cell_type": "markdown",
      "metadata": {
        "id": "92ET0ufD5Xyj",
        "colab_type": "text"
      },
      "source": [
        "# Understanding Document Clustering\n",
        "\n",
        "Clustering is one of the most important Unsupervised Machine Learning Techniques. These algorithms come in handy, especially in situations where labelled data is a luxury. Clustering techniques help us understand the underlying patterns in data (more so around them being similar) along with the ability to bootstrap certain supervised learning approaches as well.\n",
        "\n",
        "![](https://github.com/duybluemind1988/Data-science/blob/master/NLP/Text_analytic_Apress/Ch07%20-%20Text%20Similarity%20and%20Clustering/avengers.jpg?raw=1)\n",
        "\n",
        "Clustering techniques have been studied in depth over the years and there are some very powerful clustering algorithms available. For this tutorial, we will be working with a movie dataset containing movie plot, cast, genres and related other information. We will be working with __K-Means__ and __Ward-Hierarchical-Clustering__ methods."
      ]
    },
    {
      "cell_type": "markdown",
      "metadata": {
        "id": "1x6SE6-15Xyk",
        "colab_type": "text"
      },
      "source": [
        "# Load Dataset"
      ]
    },
    {
      "cell_type": "code",
      "metadata": {
        "id": "RvgeQWmV5Xyl",
        "colab_type": "code",
        "colab": {
          "base_uri": "https://localhost:8080/",
          "height": 476
        },
        "outputId": "2308df5e-f257-436d-f788-c770b2e363ba"
      },
      "source": [
        "import pandas as pd\n",
        "\n",
        "df = pd.read_csv('https://github.com/duybluemind1988/Data-science/blob/master/NLP/Text_analytic_Apress/Ch07%20-%20Text%20Similarity%20and%20Clustering/tmdb_5000_movies.csv.gz?raw=true', \n",
        "                 compression='gzip')\n",
        "df.info()"
      ],
      "execution_count": 2,
      "outputs": [
        {
          "output_type": "stream",
          "text": [
            "<class 'pandas.core.frame.DataFrame'>\n",
            "RangeIndex: 4803 entries, 0 to 4802\n",
            "Data columns (total 20 columns):\n",
            " #   Column                Non-Null Count  Dtype  \n",
            "---  ------                --------------  -----  \n",
            " 0   budget                4803 non-null   int64  \n",
            " 1   genres                4803 non-null   object \n",
            " 2   homepage              1712 non-null   object \n",
            " 3   id                    4803 non-null   int64  \n",
            " 4   keywords              4803 non-null   object \n",
            " 5   original_language     4803 non-null   object \n",
            " 6   original_title        4803 non-null   object \n",
            " 7   overview              4800 non-null   object \n",
            " 8   popularity            4803 non-null   float64\n",
            " 9   production_companies  4803 non-null   object \n",
            " 10  production_countries  4803 non-null   object \n",
            " 11  release_date          4802 non-null   object \n",
            " 12  revenue               4803 non-null   int64  \n",
            " 13  runtime               4801 non-null   float64\n",
            " 14  spoken_languages      4803 non-null   object \n",
            " 15  status                4803 non-null   object \n",
            " 16  tagline               3959 non-null   object \n",
            " 17  title                 4803 non-null   object \n",
            " 18  vote_average          4803 non-null   float64\n",
            " 19  vote_count            4803 non-null   int64  \n",
            "dtypes: float64(3), int64(4), object(13)\n",
            "memory usage: 750.6+ KB\n"
          ],
          "name": "stdout"
        }
      ]
    },
    {
      "cell_type": "code",
      "metadata": {
        "id": "iJDbLmHr5Xyp",
        "colab_type": "code",
        "colab": {
          "base_uri": "https://localhost:8080/",
          "height": 649
        },
        "outputId": "ff9a8802-fb69-41bf-aeff-7aea387b9786"
      },
      "source": [
        "df.head()"
      ],
      "execution_count": 3,
      "outputs": [
        {
          "output_type": "execute_result",
          "data": {
            "text/html": [
              "<div>\n",
              "<style scoped>\n",
              "    .dataframe tbody tr th:only-of-type {\n",
              "        vertical-align: middle;\n",
              "    }\n",
              "\n",
              "    .dataframe tbody tr th {\n",
              "        vertical-align: top;\n",
              "    }\n",
              "\n",
              "    .dataframe thead th {\n",
              "        text-align: right;\n",
              "    }\n",
              "</style>\n",
              "<table border=\"1\" class=\"dataframe\">\n",
              "  <thead>\n",
              "    <tr style=\"text-align: right;\">\n",
              "      <th></th>\n",
              "      <th>budget</th>\n",
              "      <th>genres</th>\n",
              "      <th>homepage</th>\n",
              "      <th>id</th>\n",
              "      <th>keywords</th>\n",
              "      <th>original_language</th>\n",
              "      <th>original_title</th>\n",
              "      <th>overview</th>\n",
              "      <th>popularity</th>\n",
              "      <th>production_companies</th>\n",
              "      <th>production_countries</th>\n",
              "      <th>release_date</th>\n",
              "      <th>revenue</th>\n",
              "      <th>runtime</th>\n",
              "      <th>spoken_languages</th>\n",
              "      <th>status</th>\n",
              "      <th>tagline</th>\n",
              "      <th>title</th>\n",
              "      <th>vote_average</th>\n",
              "      <th>vote_count</th>\n",
              "    </tr>\n",
              "  </thead>\n",
              "  <tbody>\n",
              "    <tr>\n",
              "      <th>0</th>\n",
              "      <td>237000000</td>\n",
              "      <td>[{\"id\": 28, \"name\": \"Action\"}, {\"id\": 12, \"nam...</td>\n",
              "      <td>http://www.avatarmovie.com/</td>\n",
              "      <td>19995</td>\n",
              "      <td>[{\"id\": 1463, \"name\": \"culture clash\"}, {\"id\":...</td>\n",
              "      <td>en</td>\n",
              "      <td>Avatar</td>\n",
              "      <td>In the 22nd century, a paraplegic Marine is di...</td>\n",
              "      <td>150.437577</td>\n",
              "      <td>[{\"name\": \"Ingenious Film Partners\", \"id\": 289...</td>\n",
              "      <td>[{\"iso_3166_1\": \"US\", \"name\": \"United States o...</td>\n",
              "      <td>2009-12-10</td>\n",
              "      <td>2787965087</td>\n",
              "      <td>162.0</td>\n",
              "      <td>[{\"iso_639_1\": \"en\", \"name\": \"English\"}, {\"iso...</td>\n",
              "      <td>Released</td>\n",
              "      <td>Enter the World of Pandora.</td>\n",
              "      <td>Avatar</td>\n",
              "      <td>7.2</td>\n",
              "      <td>11800</td>\n",
              "    </tr>\n",
              "    <tr>\n",
              "      <th>1</th>\n",
              "      <td>300000000</td>\n",
              "      <td>[{\"id\": 12, \"name\": \"Adventure\"}, {\"id\": 14, \"...</td>\n",
              "      <td>http://disney.go.com/disneypictures/pirates/</td>\n",
              "      <td>285</td>\n",
              "      <td>[{\"id\": 270, \"name\": \"ocean\"}, {\"id\": 726, \"na...</td>\n",
              "      <td>en</td>\n",
              "      <td>Pirates of the Caribbean: At World's End</td>\n",
              "      <td>Captain Barbossa, long believed to be dead, ha...</td>\n",
              "      <td>139.082615</td>\n",
              "      <td>[{\"name\": \"Walt Disney Pictures\", \"id\": 2}, {\"...</td>\n",
              "      <td>[{\"iso_3166_1\": \"US\", \"name\": \"United States o...</td>\n",
              "      <td>2007-05-19</td>\n",
              "      <td>961000000</td>\n",
              "      <td>169.0</td>\n",
              "      <td>[{\"iso_639_1\": \"en\", \"name\": \"English\"}]</td>\n",
              "      <td>Released</td>\n",
              "      <td>At the end of the world, the adventure begins.</td>\n",
              "      <td>Pirates of the Caribbean: At World's End</td>\n",
              "      <td>6.9</td>\n",
              "      <td>4500</td>\n",
              "    </tr>\n",
              "    <tr>\n",
              "      <th>2</th>\n",
              "      <td>245000000</td>\n",
              "      <td>[{\"id\": 28, \"name\": \"Action\"}, {\"id\": 12, \"nam...</td>\n",
              "      <td>http://www.sonypictures.com/movies/spectre/</td>\n",
              "      <td>206647</td>\n",
              "      <td>[{\"id\": 470, \"name\": \"spy\"}, {\"id\": 818, \"name...</td>\n",
              "      <td>en</td>\n",
              "      <td>Spectre</td>\n",
              "      <td>A cryptic message from Bond’s past sends him o...</td>\n",
              "      <td>107.376788</td>\n",
              "      <td>[{\"name\": \"Columbia Pictures\", \"id\": 5}, {\"nam...</td>\n",
              "      <td>[{\"iso_3166_1\": \"GB\", \"name\": \"United Kingdom\"...</td>\n",
              "      <td>2015-10-26</td>\n",
              "      <td>880674609</td>\n",
              "      <td>148.0</td>\n",
              "      <td>[{\"iso_639_1\": \"fr\", \"name\": \"Fran\\u00e7ais\"},...</td>\n",
              "      <td>Released</td>\n",
              "      <td>A Plan No One Escapes</td>\n",
              "      <td>Spectre</td>\n",
              "      <td>6.3</td>\n",
              "      <td>4466</td>\n",
              "    </tr>\n",
              "    <tr>\n",
              "      <th>3</th>\n",
              "      <td>250000000</td>\n",
              "      <td>[{\"id\": 28, \"name\": \"Action\"}, {\"id\": 80, \"nam...</td>\n",
              "      <td>http://www.thedarkknightrises.com/</td>\n",
              "      <td>49026</td>\n",
              "      <td>[{\"id\": 849, \"name\": \"dc comics\"}, {\"id\": 853,...</td>\n",
              "      <td>en</td>\n",
              "      <td>The Dark Knight Rises</td>\n",
              "      <td>Following the death of District Attorney Harve...</td>\n",
              "      <td>112.312950</td>\n",
              "      <td>[{\"name\": \"Legendary Pictures\", \"id\": 923}, {\"...</td>\n",
              "      <td>[{\"iso_3166_1\": \"US\", \"name\": \"United States o...</td>\n",
              "      <td>2012-07-16</td>\n",
              "      <td>1084939099</td>\n",
              "      <td>165.0</td>\n",
              "      <td>[{\"iso_639_1\": \"en\", \"name\": \"English\"}]</td>\n",
              "      <td>Released</td>\n",
              "      <td>The Legend Ends</td>\n",
              "      <td>The Dark Knight Rises</td>\n",
              "      <td>7.6</td>\n",
              "      <td>9106</td>\n",
              "    </tr>\n",
              "    <tr>\n",
              "      <th>4</th>\n",
              "      <td>260000000</td>\n",
              "      <td>[{\"id\": 28, \"name\": \"Action\"}, {\"id\": 12, \"nam...</td>\n",
              "      <td>http://movies.disney.com/john-carter</td>\n",
              "      <td>49529</td>\n",
              "      <td>[{\"id\": 818, \"name\": \"based on novel\"}, {\"id\":...</td>\n",
              "      <td>en</td>\n",
              "      <td>John Carter</td>\n",
              "      <td>John Carter is a war-weary, former military ca...</td>\n",
              "      <td>43.926995</td>\n",
              "      <td>[{\"name\": \"Walt Disney Pictures\", \"id\": 2}]</td>\n",
              "      <td>[{\"iso_3166_1\": \"US\", \"name\": \"United States o...</td>\n",
              "      <td>2012-03-07</td>\n",
              "      <td>284139100</td>\n",
              "      <td>132.0</td>\n",
              "      <td>[{\"iso_639_1\": \"en\", \"name\": \"English\"}]</td>\n",
              "      <td>Released</td>\n",
              "      <td>Lost in our world, found in another.</td>\n",
              "      <td>John Carter</td>\n",
              "      <td>6.1</td>\n",
              "      <td>2124</td>\n",
              "    </tr>\n",
              "  </tbody>\n",
              "</table>\n",
              "</div>"
            ],
            "text/plain": [
              "      budget  ... vote_count\n",
              "0  237000000  ...      11800\n",
              "1  300000000  ...       4500\n",
              "2  245000000  ...       4466\n",
              "3  250000000  ...       9106\n",
              "4  260000000  ...       2124\n",
              "\n",
              "[5 rows x 20 columns]"
            ]
          },
          "metadata": {
            "tags": []
          },
          "execution_count": 3
        }
      ]
    },
    {
      "cell_type": "code",
      "metadata": {
        "id": "g_WgQCuI5Xys",
        "colab_type": "code",
        "colab": {
          "base_uri": "https://localhost:8080/",
          "height": 238
        },
        "outputId": "6002499d-6970-4426-82e6-2d066250d5ca"
      },
      "source": [
        "df = df[['title', 'tagline', 'overview', 'genres', 'popularity']]\n",
        "df.tagline.fillna('', inplace=True)\n",
        "df['description'] = df['tagline'].map(str) + ' ' + df['overview']\n",
        "df.dropna(inplace=True)\n",
        "df.info()"
      ],
      "execution_count": 4,
      "outputs": [
        {
          "output_type": "stream",
          "text": [
            "<class 'pandas.core.frame.DataFrame'>\n",
            "Int64Index: 4800 entries, 0 to 4802\n",
            "Data columns (total 6 columns):\n",
            " #   Column       Non-Null Count  Dtype  \n",
            "---  ------       --------------  -----  \n",
            " 0   title        4800 non-null   object \n",
            " 1   tagline      4800 non-null   object \n",
            " 2   overview     4800 non-null   object \n",
            " 3   genres       4800 non-null   object \n",
            " 4   popularity   4800 non-null   float64\n",
            " 5   description  4800 non-null   object \n",
            "dtypes: float64(1), object(5)\n",
            "memory usage: 262.5+ KB\n"
          ],
          "name": "stdout"
        }
      ]
    },
    {
      "cell_type": "code",
      "metadata": {
        "id": "NLFx0lRx5Xyv",
        "colab_type": "code",
        "colab": {
          "base_uri": "https://localhost:8080/",
          "height": 476
        },
        "outputId": "4905128e-cc1d-46d4-a4d8-4e2342d86b2e"
      },
      "source": [
        "df.head()"
      ],
      "execution_count": 5,
      "outputs": [
        {
          "output_type": "execute_result",
          "data": {
            "text/html": [
              "<div>\n",
              "<style scoped>\n",
              "    .dataframe tbody tr th:only-of-type {\n",
              "        vertical-align: middle;\n",
              "    }\n",
              "\n",
              "    .dataframe tbody tr th {\n",
              "        vertical-align: top;\n",
              "    }\n",
              "\n",
              "    .dataframe thead th {\n",
              "        text-align: right;\n",
              "    }\n",
              "</style>\n",
              "<table border=\"1\" class=\"dataframe\">\n",
              "  <thead>\n",
              "    <tr style=\"text-align: right;\">\n",
              "      <th></th>\n",
              "      <th>title</th>\n",
              "      <th>tagline</th>\n",
              "      <th>overview</th>\n",
              "      <th>genres</th>\n",
              "      <th>popularity</th>\n",
              "      <th>description</th>\n",
              "    </tr>\n",
              "  </thead>\n",
              "  <tbody>\n",
              "    <tr>\n",
              "      <th>0</th>\n",
              "      <td>Avatar</td>\n",
              "      <td>Enter the World of Pandora.</td>\n",
              "      <td>In the 22nd century, a paraplegic Marine is di...</td>\n",
              "      <td>[{\"id\": 28, \"name\": \"Action\"}, {\"id\": 12, \"nam...</td>\n",
              "      <td>150.437577</td>\n",
              "      <td>Enter the World of Pandora. In the 22nd centur...</td>\n",
              "    </tr>\n",
              "    <tr>\n",
              "      <th>1</th>\n",
              "      <td>Pirates of the Caribbean: At World's End</td>\n",
              "      <td>At the end of the world, the adventure begins.</td>\n",
              "      <td>Captain Barbossa, long believed to be dead, ha...</td>\n",
              "      <td>[{\"id\": 12, \"name\": \"Adventure\"}, {\"id\": 14, \"...</td>\n",
              "      <td>139.082615</td>\n",
              "      <td>At the end of the world, the adventure begins....</td>\n",
              "    </tr>\n",
              "    <tr>\n",
              "      <th>2</th>\n",
              "      <td>Spectre</td>\n",
              "      <td>A Plan No One Escapes</td>\n",
              "      <td>A cryptic message from Bond’s past sends him o...</td>\n",
              "      <td>[{\"id\": 28, \"name\": \"Action\"}, {\"id\": 12, \"nam...</td>\n",
              "      <td>107.376788</td>\n",
              "      <td>A Plan No One Escapes A cryptic message from B...</td>\n",
              "    </tr>\n",
              "    <tr>\n",
              "      <th>3</th>\n",
              "      <td>The Dark Knight Rises</td>\n",
              "      <td>The Legend Ends</td>\n",
              "      <td>Following the death of District Attorney Harve...</td>\n",
              "      <td>[{\"id\": 28, \"name\": \"Action\"}, {\"id\": 80, \"nam...</td>\n",
              "      <td>112.312950</td>\n",
              "      <td>The Legend Ends Following the death of Distric...</td>\n",
              "    </tr>\n",
              "    <tr>\n",
              "      <th>4</th>\n",
              "      <td>John Carter</td>\n",
              "      <td>Lost in our world, found in another.</td>\n",
              "      <td>John Carter is a war-weary, former military ca...</td>\n",
              "      <td>[{\"id\": 28, \"name\": \"Action\"}, {\"id\": 12, \"nam...</td>\n",
              "      <td>43.926995</td>\n",
              "      <td>Lost in our world, found in another. John Cart...</td>\n",
              "    </tr>\n",
              "  </tbody>\n",
              "</table>\n",
              "</div>"
            ],
            "text/plain": [
              "                                      title  ...                                        description\n",
              "0                                    Avatar  ...  Enter the World of Pandora. In the 22nd centur...\n",
              "1  Pirates of the Caribbean: At World's End  ...  At the end of the world, the adventure begins....\n",
              "2                                   Spectre  ...  A Plan No One Escapes A cryptic message from B...\n",
              "3                     The Dark Knight Rises  ...  The Legend Ends Following the death of Distric...\n",
              "4                               John Carter  ...  Lost in our world, found in another. John Cart...\n",
              "\n",
              "[5 rows x 6 columns]"
            ]
          },
          "metadata": {
            "tags": []
          },
          "execution_count": 5
        }
      ]
    },
    {
      "cell_type": "markdown",
      "metadata": {
        "id": "MIB_jXe_5Xyy",
        "colab_type": "text"
      },
      "source": [
        "## Your Turn: Cluster Similar Movies\n",
        "\n",
        "Here you will learn how to cluster text documents (in this case movies). We will use the following pipeline:\n",
        "- Text pre-processing\n",
        "- Feature Engineering\n",
        "- Clustering Using K-Means\n",
        "- Finding Optimal Value for K\n",
        "- Prepare Movie Clusters\n",
        "\n",
        "Clustering is an unsupervised approach to find groups of similar items in any given dataset. There are different clustering algorithms and __K-Means__ is a pretty simple yet affect one. Most movies span different emotions and can be categorized into multiple genres (same is the case with movies listed in our current dataset). Can clustering of movie descriptions help us understand these groupings?\n",
        "\n",
        "Similarity analysis (in the previous section) was a good starting point, but can we do better? "
      ]
    },
    {
      "cell_type": "markdown",
      "metadata": {
        "id": "GsAigMpN5Xyz",
        "colab_type": "text"
      },
      "source": [
        "## Text pre-processing\n",
        "\n",
        "We will do some basic text pre-processing on our movie descriptions before we build our features"
      ]
    },
    {
      "cell_type": "code",
      "metadata": {
        "id": "3cJg2X8l5Xyz",
        "colab_type": "code",
        "colab": {
          "base_uri": "https://localhost:8080/",
          "height": 102
        },
        "outputId": "1b9c1270-16ab-40c5-b86b-70f558e4d3f1"
      },
      "source": [
        "import nltk\n",
        "nltk.download('stopwords')\n",
        "nltk.download('punkt')\n",
        "import re\n",
        "import numpy as np\n",
        "\n",
        "stop_words = nltk.corpus.stopwords.words('english')\n",
        "\n",
        "def normalize_document(doc):\n",
        "    # lower case and remove special characters\\whitespaces\n",
        "    doc = re.sub(r'[^a-zA-Z0-9\\s]', '', doc, re.I|re.A)\n",
        "    doc = doc.lower()\n",
        "    doc = doc.strip()\n",
        "    # tokenize document\n",
        "    tokens = nltk.word_tokenize(doc)\n",
        "    # filter stopwords out of document\n",
        "    filtered_tokens = [token for token in tokens if token not in stop_words]\n",
        "    # re-create document from filtered tokens\n",
        "    doc = ' '.join(filtered_tokens)\n",
        "    return doc\n",
        "\n",
        "normalize_corpus = np.vectorize(normalize_document)\n",
        "\n",
        "norm_corpus = normalize_corpus(list(df['description']))\n",
        "len(norm_corpus)"
      ],
      "execution_count": 6,
      "outputs": [
        {
          "output_type": "stream",
          "text": [
            "[nltk_data] Downloading package stopwords to /root/nltk_data...\n",
            "[nltk_data]   Unzipping corpora/stopwords.zip.\n",
            "[nltk_data] Downloading package punkt to /root/nltk_data...\n",
            "[nltk_data]   Unzipping tokenizers/punkt.zip.\n"
          ],
          "name": "stdout"
        },
        {
          "output_type": "execute_result",
          "data": {
            "text/plain": [
              "4800"
            ]
          },
          "metadata": {
            "tags": []
          },
          "execution_count": 6
        }
      ]
    },
    {
      "cell_type": "markdown",
      "metadata": {
        "id": "mpo9AYTy5Xy2",
        "colab_type": "text"
      },
      "source": [
        "## Extract TF-IDF Features"
      ]
    },
    {
      "cell_type": "code",
      "metadata": {
        "id": "kCv6HYMz5Xy3",
        "colab_type": "code",
        "colab": {
          "base_uri": "https://localhost:8080/",
          "height": 34
        },
        "outputId": "2e559328-9e21-4ad4-f553-b27913da17d3"
      },
      "source": [
        "from sklearn.feature_extraction.text import CountVectorizer\n",
        "\n",
        "stop_words = stop_words + ['one', 'two', 'get']\n",
        "cv = CountVectorizer(ngram_range=(1, 2), min_df=10, max_df=0.8, stop_words=stop_words)\n",
        "cv_matrix = cv.fit_transform(norm_corpus)\n",
        "cv_matrix.shape"
      ],
      "execution_count": 7,
      "outputs": [
        {
          "output_type": "execute_result",
          "data": {
            "text/plain": [
              "(4800, 3012)"
            ]
          },
          "metadata": {
            "tags": []
          },
          "execution_count": 7
        }
      ]
    },
    {
      "cell_type": "markdown",
      "metadata": {
        "id": "mYb3RVm45Xy6",
        "colab_type": "text"
      },
      "source": [
        "## Cluster Movies using K-Means"
      ]
    },
    {
      "cell_type": "code",
      "metadata": {
        "id": "kxxpCO4b5Xy7",
        "colab_type": "code",
        "colab": {
          "base_uri": "https://localhost:8080/",
          "height": 68
        },
        "outputId": "0fdd9b6d-0653-4cf2-d2c8-706e2a5d91aa"
      },
      "source": [
        "from sklearn.cluster import KMeans\n",
        "\n",
        "NUM_CLUSTERS = 6\n",
        "km = KMeans(n_clusters=NUM_CLUSTERS, max_iter=10000, n_init=50, random_state=42).fit(cv_matrix)\n",
        "km"
      ],
      "execution_count": 8,
      "outputs": [
        {
          "output_type": "execute_result",
          "data": {
            "text/plain": [
              "KMeans(algorithm='auto', copy_x=True, init='k-means++', max_iter=10000,\n",
              "       n_clusters=6, n_init=50, n_jobs=None, precompute_distances='auto',\n",
              "       random_state=42, tol=0.0001, verbose=0)"
            ]
          },
          "metadata": {
            "tags": []
          },
          "execution_count": 8
        }
      ]
    },
    {
      "cell_type": "code",
      "metadata": {
        "id": "lHoTdTFy5Xy-",
        "colab_type": "code",
        "colab": {
          "base_uri": "https://localhost:8080/",
          "height": 34
        },
        "outputId": "d7aa1fb9-ee74-4ae8-a0bb-aeacf2665972"
      },
      "source": [
        "from collections import Counter\n",
        "\n",
        "Counter(km.labels_)"
      ],
      "execution_count": 9,
      "outputs": [
        {
          "output_type": "execute_result",
          "data": {
            "text/plain": [
              "Counter({0: 387, 1: 662, 2: 509, 3: 1, 4: 512, 5: 2729})"
            ]
          },
          "metadata": {
            "tags": []
          },
          "execution_count": 9
        }
      ]
    },
    {
      "cell_type": "code",
      "metadata": {
        "id": "SB0T5Dtw5XzA",
        "colab_type": "code",
        "colab": {}
      },
      "source": [
        "df['kmeans_cluster'] = km.labels_"
      ],
      "execution_count": 10,
      "outputs": []
    },
    {
      "cell_type": "code",
      "metadata": {
        "id": "pkaXctrhlhgN",
        "colab_type": "code",
        "colab": {
          "base_uri": "https://localhost:8080/",
          "height": 476
        },
        "outputId": "59905b3f-7ca0-4d1d-e585-2be206d25029"
      },
      "source": [
        "df.head()"
      ],
      "execution_count": 24,
      "outputs": [
        {
          "output_type": "execute_result",
          "data": {
            "text/html": [
              "<div>\n",
              "<style scoped>\n",
              "    .dataframe tbody tr th:only-of-type {\n",
              "        vertical-align: middle;\n",
              "    }\n",
              "\n",
              "    .dataframe tbody tr th {\n",
              "        vertical-align: top;\n",
              "    }\n",
              "\n",
              "    .dataframe thead th {\n",
              "        text-align: right;\n",
              "    }\n",
              "</style>\n",
              "<table border=\"1\" class=\"dataframe\">\n",
              "  <thead>\n",
              "    <tr style=\"text-align: right;\">\n",
              "      <th></th>\n",
              "      <th>title</th>\n",
              "      <th>tagline</th>\n",
              "      <th>overview</th>\n",
              "      <th>genres</th>\n",
              "      <th>popularity</th>\n",
              "      <th>description</th>\n",
              "      <th>kmeans_cluster</th>\n",
              "    </tr>\n",
              "  </thead>\n",
              "  <tbody>\n",
              "    <tr>\n",
              "      <th>0</th>\n",
              "      <td>Avatar</td>\n",
              "      <td>Enter the World of Pandora.</td>\n",
              "      <td>In the 22nd century, a paraplegic Marine is di...</td>\n",
              "      <td>[{\"id\": 28, \"name\": \"Action\"}, {\"id\": 12, \"nam...</td>\n",
              "      <td>150.437577</td>\n",
              "      <td>Enter the World of Pandora. In the 22nd centur...</td>\n",
              "      <td>2</td>\n",
              "    </tr>\n",
              "    <tr>\n",
              "      <th>1</th>\n",
              "      <td>Pirates of the Caribbean: At World's End</td>\n",
              "      <td>At the end of the world, the adventure begins.</td>\n",
              "      <td>Captain Barbossa, long believed to be dead, ha...</td>\n",
              "      <td>[{\"id\": 12, \"name\": \"Adventure\"}, {\"id\": 14, \"...</td>\n",
              "      <td>139.082615</td>\n",
              "      <td>At the end of the world, the adventure begins....</td>\n",
              "      <td>2</td>\n",
              "    </tr>\n",
              "    <tr>\n",
              "      <th>2</th>\n",
              "      <td>Spectre</td>\n",
              "      <td>A Plan No One Escapes</td>\n",
              "      <td>A cryptic message from Bond’s past sends him o...</td>\n",
              "      <td>[{\"id\": 28, \"name\": \"Action\"}, {\"id\": 12, \"nam...</td>\n",
              "      <td>107.376788</td>\n",
              "      <td>A Plan No One Escapes A cryptic message from B...</td>\n",
              "      <td>5</td>\n",
              "    </tr>\n",
              "    <tr>\n",
              "      <th>3</th>\n",
              "      <td>The Dark Knight Rises</td>\n",
              "      <td>The Legend Ends</td>\n",
              "      <td>Following the death of District Attorney Harve...</td>\n",
              "      <td>[{\"id\": 28, \"name\": \"Action\"}, {\"id\": 80, \"nam...</td>\n",
              "      <td>112.312950</td>\n",
              "      <td>The Legend Ends Following the death of Distric...</td>\n",
              "      <td>4</td>\n",
              "    </tr>\n",
              "    <tr>\n",
              "      <th>4</th>\n",
              "      <td>John Carter</td>\n",
              "      <td>Lost in our world, found in another.</td>\n",
              "      <td>John Carter is a war-weary, former military ca...</td>\n",
              "      <td>[{\"id\": 28, \"name\": \"Action\"}, {\"id\": 12, \"nam...</td>\n",
              "      <td>43.926995</td>\n",
              "      <td>Lost in our world, found in another. John Cart...</td>\n",
              "      <td>2</td>\n",
              "    </tr>\n",
              "  </tbody>\n",
              "</table>\n",
              "</div>"
            ],
            "text/plain": [
              "                                      title  ... kmeans_cluster\n",
              "0                                    Avatar  ...              2\n",
              "1  Pirates of the Caribbean: At World's End  ...              2\n",
              "2                                   Spectre  ...              5\n",
              "3                     The Dark Knight Rises  ...              4\n",
              "4                               John Carter  ...              2\n",
              "\n",
              "[5 rows x 7 columns]"
            ]
          },
          "metadata": {
            "tags": []
          },
          "execution_count": 24
        }
      ]
    },
    {
      "cell_type": "code",
      "metadata": {
        "id": "l3ESZs-2l0RQ",
        "colab_type": "code",
        "colab": {
          "base_uri": "https://localhost:8080/",
          "height": 419
        },
        "outputId": "4b6ea10a-4db1-4d7f-bb93-e09e1bf14227"
      },
      "source": [
        "(df[['title', 'kmeans_cluster', 'popularity']]\n",
        "                  .sort_values(by=['kmeans_cluster', 'popularity'], \n",
        "                               ascending=False)\n",
        "                  #.groupby('kmeans_cluster').head(20)\n",
        "                  )"
      ],
      "execution_count": 28,
      "outputs": [
        {
          "output_type": "execute_result",
          "data": {
            "text/html": [
              "<div>\n",
              "<style scoped>\n",
              "    .dataframe tbody tr th:only-of-type {\n",
              "        vertical-align: middle;\n",
              "    }\n",
              "\n",
              "    .dataframe tbody tr th {\n",
              "        vertical-align: top;\n",
              "    }\n",
              "\n",
              "    .dataframe thead th {\n",
              "        text-align: right;\n",
              "    }\n",
              "</style>\n",
              "<table border=\"1\" class=\"dataframe\">\n",
              "  <thead>\n",
              "    <tr style=\"text-align: right;\">\n",
              "      <th></th>\n",
              "      <th>title</th>\n",
              "      <th>kmeans_cluster</th>\n",
              "      <th>popularity</th>\n",
              "    </tr>\n",
              "  </thead>\n",
              "  <tbody>\n",
              "    <tr>\n",
              "      <th>95</th>\n",
              "      <td>Interstellar</td>\n",
              "      <td>5</td>\n",
              "      <td>724.247784</td>\n",
              "    </tr>\n",
              "    <tr>\n",
              "      <th>94</th>\n",
              "      <td>Guardians of the Galaxy</td>\n",
              "      <td>5</td>\n",
              "      <td>481.098624</td>\n",
              "    </tr>\n",
              "    <tr>\n",
              "      <th>199</th>\n",
              "      <td>Pirates of the Caribbean: The Curse of the Bla...</td>\n",
              "      <td>5</td>\n",
              "      <td>271.972889</td>\n",
              "    </tr>\n",
              "    <tr>\n",
              "      <th>82</th>\n",
              "      <td>Dawn of the Planet of the Apes</td>\n",
              "      <td>5</td>\n",
              "      <td>243.791743</td>\n",
              "    </tr>\n",
              "    <tr>\n",
              "      <th>200</th>\n",
              "      <td>The Hunger Games: Mockingjay - Part 1</td>\n",
              "      <td>5</td>\n",
              "      <td>206.227151</td>\n",
              "    </tr>\n",
              "    <tr>\n",
              "      <th>...</th>\n",
              "      <td>...</td>\n",
              "      <td>...</td>\n",
              "      <td>...</td>\n",
              "    </tr>\n",
              "    <tr>\n",
              "      <th>3670</th>\n",
              "      <td>Running Forever</td>\n",
              "      <td>0</td>\n",
              "      <td>0.028756</td>\n",
              "    </tr>\n",
              "    <tr>\n",
              "      <th>4181</th>\n",
              "      <td>Ed and His Dead Mother</td>\n",
              "      <td>0</td>\n",
              "      <td>0.023436</td>\n",
              "    </tr>\n",
              "    <tr>\n",
              "      <th>4797</th>\n",
              "      <td>Cavite</td>\n",
              "      <td>0</td>\n",
              "      <td>0.022173</td>\n",
              "    </tr>\n",
              "    <tr>\n",
              "      <th>4051</th>\n",
              "      <td>8 Days</td>\n",
              "      <td>0</td>\n",
              "      <td>0.015295</td>\n",
              "    </tr>\n",
              "    <tr>\n",
              "      <th>4553</th>\n",
              "      <td>America Is Still the Place</td>\n",
              "      <td>0</td>\n",
              "      <td>0.000000</td>\n",
              "    </tr>\n",
              "  </tbody>\n",
              "</table>\n",
              "<p>4800 rows × 3 columns</p>\n",
              "</div>"
            ],
            "text/plain": [
              "                                                  title  ...  popularity\n",
              "95                                         Interstellar  ...  724.247784\n",
              "94                              Guardians of the Galaxy  ...  481.098624\n",
              "199   Pirates of the Caribbean: The Curse of the Bla...  ...  271.972889\n",
              "82                       Dawn of the Planet of the Apes  ...  243.791743\n",
              "200               The Hunger Games: Mockingjay - Part 1  ...  206.227151\n",
              "...                                                 ...  ...         ...\n",
              "3670                                    Running Forever  ...    0.028756\n",
              "4181                             Ed and His Dead Mother  ...    0.023436\n",
              "4797                                             Cavite  ...    0.022173\n",
              "4051                                             8 Days  ...    0.015295\n",
              "4553                         America Is Still the Place  ...    0.000000\n",
              "\n",
              "[4800 rows x 3 columns]"
            ]
          },
          "metadata": {
            "tags": []
          },
          "execution_count": 28
        }
      ]
    },
    {
      "cell_type": "code",
      "metadata": {
        "id": "6b7OMGJpmAi8",
        "colab_type": "code",
        "colab": {
          "base_uri": "https://localhost:8080/",
          "height": 419
        },
        "outputId": "843c11e4-a430-4eb6-dc21-357a841e41bb"
      },
      "source": [
        "(df[['title', 'kmeans_cluster', 'popularity']]\n",
        "                  .sort_values(by=['kmeans_cluster', 'popularity'], \n",
        "                               ascending=False)\n",
        "                  .groupby('kmeans_cluster').head(20)\n",
        "                  )\n",
        "# Lay 20 phim cua tung cluster theo popularity"
      ],
      "execution_count": 29,
      "outputs": [
        {
          "output_type": "execute_result",
          "data": {
            "text/html": [
              "<div>\n",
              "<style scoped>\n",
              "    .dataframe tbody tr th:only-of-type {\n",
              "        vertical-align: middle;\n",
              "    }\n",
              "\n",
              "    .dataframe tbody tr th {\n",
              "        vertical-align: top;\n",
              "    }\n",
              "\n",
              "    .dataframe thead th {\n",
              "        text-align: right;\n",
              "    }\n",
              "</style>\n",
              "<table border=\"1\" class=\"dataframe\">\n",
              "  <thead>\n",
              "    <tr style=\"text-align: right;\">\n",
              "      <th></th>\n",
              "      <th>title</th>\n",
              "      <th>kmeans_cluster</th>\n",
              "      <th>popularity</th>\n",
              "    </tr>\n",
              "  </thead>\n",
              "  <tbody>\n",
              "    <tr>\n",
              "      <th>95</th>\n",
              "      <td>Interstellar</td>\n",
              "      <td>5</td>\n",
              "      <td>724.247784</td>\n",
              "    </tr>\n",
              "    <tr>\n",
              "      <th>94</th>\n",
              "      <td>Guardians of the Galaxy</td>\n",
              "      <td>5</td>\n",
              "      <td>481.098624</td>\n",
              "    </tr>\n",
              "    <tr>\n",
              "      <th>199</th>\n",
              "      <td>Pirates of the Caribbean: The Curse of the Bla...</td>\n",
              "      <td>5</td>\n",
              "      <td>271.972889</td>\n",
              "    </tr>\n",
              "    <tr>\n",
              "      <th>82</th>\n",
              "      <td>Dawn of the Planet of the Apes</td>\n",
              "      <td>5</td>\n",
              "      <td>243.791743</td>\n",
              "    </tr>\n",
              "    <tr>\n",
              "      <th>200</th>\n",
              "      <td>The Hunger Games: Mockingjay - Part 1</td>\n",
              "      <td>5</td>\n",
              "      <td>206.227151</td>\n",
              "    </tr>\n",
              "    <tr>\n",
              "      <th>...</th>\n",
              "      <td>...</td>\n",
              "      <td>...</td>\n",
              "      <td>...</td>\n",
              "    </tr>\n",
              "    <tr>\n",
              "      <th>589</th>\n",
              "      <td>Dracula Untold</td>\n",
              "      <td>0</td>\n",
              "      <td>64.457947</td>\n",
              "    </tr>\n",
              "    <tr>\n",
              "      <th>234</th>\n",
              "      <td>The Croods</td>\n",
              "      <td>0</td>\n",
              "      <td>64.183321</td>\n",
              "    </tr>\n",
              "    <tr>\n",
              "      <th>1847</th>\n",
              "      <td>GoodFellas</td>\n",
              "      <td>0</td>\n",
              "      <td>63.654244</td>\n",
              "    </tr>\n",
              "    <tr>\n",
              "      <th>107</th>\n",
              "      <td>Warcraft</td>\n",
              "      <td>0</td>\n",
              "      <td>63.148529</td>\n",
              "    </tr>\n",
              "    <tr>\n",
              "      <th>464</th>\n",
              "      <td>Hotel Transylvania 2</td>\n",
              "      <td>0</td>\n",
              "      <td>61.692197</td>\n",
              "    </tr>\n",
              "  </tbody>\n",
              "</table>\n",
              "<p>101 rows × 3 columns</p>\n",
              "</div>"
            ],
            "text/plain": [
              "                                                  title  ...  popularity\n",
              "95                                         Interstellar  ...  724.247784\n",
              "94                              Guardians of the Galaxy  ...  481.098624\n",
              "199   Pirates of the Caribbean: The Curse of the Bla...  ...  271.972889\n",
              "82                       Dawn of the Planet of the Apes  ...  243.791743\n",
              "200               The Hunger Games: Mockingjay - Part 1  ...  206.227151\n",
              "...                                                 ...  ...         ...\n",
              "589                                      Dracula Untold  ...   64.457947\n",
              "234                                          The Croods  ...   64.183321\n",
              "1847                                         GoodFellas  ...   63.654244\n",
              "107                                            Warcraft  ...   63.148529\n",
              "464                                Hotel Transylvania 2  ...   61.692197\n",
              "\n",
              "[101 rows x 3 columns]"
            ]
          },
          "metadata": {
            "tags": []
          },
          "execution_count": 29
        }
      ]
    },
    {
      "cell_type": "code",
      "metadata": {
        "id": "ChwFv_qD5XzD",
        "colab_type": "code",
        "colab": {}
      },
      "source": [
        "movie_clusters = (df[['title', 'kmeans_cluster', 'popularity']]\n",
        "                  .sort_values(by=['kmeans_cluster', 'popularity'], \n",
        "                               ascending=False)\n",
        "                  .groupby('kmeans_cluster').head(20))\n",
        "movie_clusters = movie_clusters.copy(deep=True)"
      ],
      "execution_count": 11,
      "outputs": []
    },
    {
      "cell_type": "code",
      "metadata": {
        "id": "38eNWDa77ByH",
        "colab_type": "code",
        "colab": {
          "base_uri": "https://localhost:8080/",
          "height": 419
        },
        "outputId": "0a29a5d1-2798-4fbe-9ac6-6e39b1cd32ae"
      },
      "source": [
        "movie_clusters"
      ],
      "execution_count": 12,
      "outputs": [
        {
          "output_type": "execute_result",
          "data": {
            "text/html": [
              "<div>\n",
              "<style scoped>\n",
              "    .dataframe tbody tr th:only-of-type {\n",
              "        vertical-align: middle;\n",
              "    }\n",
              "\n",
              "    .dataframe tbody tr th {\n",
              "        vertical-align: top;\n",
              "    }\n",
              "\n",
              "    .dataframe thead th {\n",
              "        text-align: right;\n",
              "    }\n",
              "</style>\n",
              "<table border=\"1\" class=\"dataframe\">\n",
              "  <thead>\n",
              "    <tr style=\"text-align: right;\">\n",
              "      <th></th>\n",
              "      <th>title</th>\n",
              "      <th>kmeans_cluster</th>\n",
              "      <th>popularity</th>\n",
              "    </tr>\n",
              "  </thead>\n",
              "  <tbody>\n",
              "    <tr>\n",
              "      <th>95</th>\n",
              "      <td>Interstellar</td>\n",
              "      <td>5</td>\n",
              "      <td>724.247784</td>\n",
              "    </tr>\n",
              "    <tr>\n",
              "      <th>94</th>\n",
              "      <td>Guardians of the Galaxy</td>\n",
              "      <td>5</td>\n",
              "      <td>481.098624</td>\n",
              "    </tr>\n",
              "    <tr>\n",
              "      <th>199</th>\n",
              "      <td>Pirates of the Caribbean: The Curse of the Bla...</td>\n",
              "      <td>5</td>\n",
              "      <td>271.972889</td>\n",
              "    </tr>\n",
              "    <tr>\n",
              "      <th>82</th>\n",
              "      <td>Dawn of the Planet of the Apes</td>\n",
              "      <td>5</td>\n",
              "      <td>243.791743</td>\n",
              "    </tr>\n",
              "    <tr>\n",
              "      <th>200</th>\n",
              "      <td>The Hunger Games: Mockingjay - Part 1</td>\n",
              "      <td>5</td>\n",
              "      <td>206.227151</td>\n",
              "    </tr>\n",
              "    <tr>\n",
              "      <th>...</th>\n",
              "      <td>...</td>\n",
              "      <td>...</td>\n",
              "      <td>...</td>\n",
              "    </tr>\n",
              "    <tr>\n",
              "      <th>589</th>\n",
              "      <td>Dracula Untold</td>\n",
              "      <td>0</td>\n",
              "      <td>64.457947</td>\n",
              "    </tr>\n",
              "    <tr>\n",
              "      <th>234</th>\n",
              "      <td>The Croods</td>\n",
              "      <td>0</td>\n",
              "      <td>64.183321</td>\n",
              "    </tr>\n",
              "    <tr>\n",
              "      <th>1847</th>\n",
              "      <td>GoodFellas</td>\n",
              "      <td>0</td>\n",
              "      <td>63.654244</td>\n",
              "    </tr>\n",
              "    <tr>\n",
              "      <th>107</th>\n",
              "      <td>Warcraft</td>\n",
              "      <td>0</td>\n",
              "      <td>63.148529</td>\n",
              "    </tr>\n",
              "    <tr>\n",
              "      <th>464</th>\n",
              "      <td>Hotel Transylvania 2</td>\n",
              "      <td>0</td>\n",
              "      <td>61.692197</td>\n",
              "    </tr>\n",
              "  </tbody>\n",
              "</table>\n",
              "<p>101 rows × 3 columns</p>\n",
              "</div>"
            ],
            "text/plain": [
              "                                                  title  ...  popularity\n",
              "95                                         Interstellar  ...  724.247784\n",
              "94                              Guardians of the Galaxy  ...  481.098624\n",
              "199   Pirates of the Caribbean: The Curse of the Bla...  ...  271.972889\n",
              "82                       Dawn of the Planet of the Apes  ...  243.791743\n",
              "200               The Hunger Games: Mockingjay - Part 1  ...  206.227151\n",
              "...                                                 ...  ...         ...\n",
              "589                                      Dracula Untold  ...   64.457947\n",
              "234                                          The Croods  ...   64.183321\n",
              "1847                                         GoodFellas  ...   63.654244\n",
              "107                                            Warcraft  ...   63.148529\n",
              "464                                Hotel Transylvania 2  ...   61.692197\n",
              "\n",
              "[101 rows x 3 columns]"
            ]
          },
          "metadata": {
            "tags": []
          },
          "execution_count": 12
        }
      ]
    },
    {
      "cell_type": "code",
      "metadata": {
        "id": "eZlnVgqzmNFQ",
        "colab_type": "code",
        "colab": {
          "base_uri": "https://localhost:8080/",
          "height": 136
        },
        "outputId": "985541c3-a75d-495a-a93b-74af9e528876"
      },
      "source": [
        "movie_clusters.kmeans_cluster.value_counts()"
      ],
      "execution_count": 30,
      "outputs": [
        {
          "output_type": "execute_result",
          "data": {
            "text/plain": [
              "5    20\n",
              "4    20\n",
              "2    20\n",
              "1    20\n",
              "0    20\n",
              "3     1\n",
              "Name: kmeans_cluster, dtype: int64"
            ]
          },
          "metadata": {
            "tags": []
          },
          "execution_count": 30
        }
      ]
    },
    {
      "cell_type": "code",
      "metadata": {
        "id": "DDdr5EWB7jqq",
        "colab_type": "code",
        "colab": {
          "base_uri": "https://localhost:8080/",
          "height": 34
        },
        "outputId": "965c4fe7-c882-4bf4-fa1b-4742e1ffff4f"
      },
      "source": [
        "feature_names = cv.get_feature_names()\n",
        "feature_names[:5]"
      ],
      "execution_count": 13,
      "outputs": [
        {
          "output_type": "execute_result",
          "data": {
            "text/plain": [
              "['007', '10', '10 years', '100', '10yearold']"
            ]
          },
          "metadata": {
            "tags": []
          },
          "execution_count": 13
        }
      ]
    },
    {
      "cell_type": "code",
      "metadata": {
        "id": "hbflOHML9PVb",
        "colab_type": "code",
        "colab": {
          "base_uri": "https://localhost:8080/",
          "height": 34
        },
        "outputId": "3102621d-9047-4ce3-d89f-b2fd83e8aa4a"
      },
      "source": [
        "len(feature_names)"
      ],
      "execution_count": 14,
      "outputs": [
        {
          "output_type": "execute_result",
          "data": {
            "text/plain": [
              "3012"
            ]
          },
          "metadata": {
            "tags": []
          },
          "execution_count": 14
        }
      ]
    },
    {
      "cell_type": "code",
      "metadata": {
        "id": "zF85XLdS9VYR",
        "colab_type": "code",
        "colab": {
          "base_uri": "https://localhost:8080/",
          "height": 238
        },
        "outputId": "bc6fd057-fb76-4dd8-c215-d38675ad1b8a"
      },
      "source": [
        "print(km.cluster_centers_.shape)\n",
        "km.cluster_centers_\n",
        "# return vi tri tung cluster theo 3012 features (tu vung)"
      ],
      "execution_count": 15,
      "outputs": [
        {
          "output_type": "stream",
          "text": [
            "(6, 3012)\n"
          ],
          "name": "stdout"
        },
        {
          "output_type": "execute_result",
          "data": {
            "text/plain": [
              "array([[0.        , 0.00516796, 0.00258398, ..., 0.00258398, 0.        ,\n",
              "        0.00516796],\n",
              "       [0.00302115, 0.00453172, 0.00302115, ..., 0.        , 0.00151057,\n",
              "        0.00906344],\n",
              "       [0.00196464, 0.        , 0.        , ..., 0.01375246, 0.01571709,\n",
              "        0.        ],\n",
              "       [0.        , 0.        , 0.        , ..., 0.        , 0.        ,\n",
              "        0.        ],\n",
              "       [0.        , 0.0078125 , 0.00390625, ..., 0.        , 0.00585938,\n",
              "        0.00390625],\n",
              "       [0.00476365, 0.00659582, 0.00293148, ..., 0.00476365, 0.00293148,\n",
              "        0.00073287]])"
            ]
          },
          "metadata": {
            "tags": []
          },
          "execution_count": 15
        }
      ]
    },
    {
      "cell_type": "code",
      "metadata": {
        "id": "speGE2W_hygc",
        "colab_type": "code",
        "colab": {
          "base_uri": "https://localhost:8080/",
          "height": 119
        },
        "outputId": "84c42b8f-7f79-4bae-b0bd-97152ef0e404"
      },
      "source": [
        "km.cluster_centers_.argsort()"
      ],
      "execution_count": 18,
      "outputs": [
        {
          "output_type": "execute_result",
          "data": {
            "text/plain": [
              "array([[   0, 1343, 1351, ..., 1278, 1544,  960],\n",
              "       [1042,  413, 1483, ..., 1626, 1592, 1544],\n",
              "       [3011, 1871, 1867, ..., 2529, 2885, 2968],\n",
              "       [   0, 1997, 1998, ..., 2858,  646, 2032],\n",
              "       [   0, 1748,  376, ..., 1819, 2990, 1814],\n",
              "       [ 960, 2770, 1886, ..., 1626, 2529, 2993]])"
            ]
          },
          "metadata": {
            "tags": []
          },
          "execution_count": 18
        }
      ]
    },
    {
      "cell_type": "code",
      "metadata": {
        "id": "iZdqRSvw9co4",
        "colab_type": "code",
        "colab": {
          "base_uri": "https://localhost:8080/",
          "height": 136
        },
        "outputId": "bd281288-78f0-4146-8a30-e7bfb88fff00"
      },
      "source": [
        "print(km.cluster_centers_.argsort()[:, ::-1].shape)\n",
        "km.cluster_centers_.argsort()[:, ::-1]"
      ],
      "execution_count": 16,
      "outputs": [
        {
          "output_type": "stream",
          "text": [
            "(6, 3012)\n"
          ],
          "name": "stdout"
        },
        {
          "output_type": "execute_result",
          "data": {
            "text/plain": [
              "array([[ 960, 1544, 1278, ..., 1351, 1343,    0],\n",
              "       [1544, 1592, 1626, ..., 1483,  413, 1042],\n",
              "       [2968, 2885, 2529, ..., 1867, 1871, 3011],\n",
              "       [2032,  646, 2858, ..., 1998, 1997,    0],\n",
              "       [1814, 2990, 1819, ...,  376, 1748,    0],\n",
              "       [2993, 2529, 1626, ..., 1886, 2770,  960]])"
            ]
          },
          "metadata": {
            "tags": []
          },
          "execution_count": 16
        }
      ]
    },
    {
      "cell_type": "code",
      "metadata": {
        "id": "eZu70q0Q7kyD",
        "colab_type": "code",
        "colab": {
          "base_uri": "https://localhost:8080/",
          "height": 136
        },
        "outputId": "b602120f-76dc-4a18-95d1-21a626d2bd20"
      },
      "source": [
        "ordered_centroids = km.cluster_centers_.argsort()[:, ::-1]\n",
        "print(ordered_centroids.shape)\n",
        "ordered_centroids\n",
        "#Lets find out which top word (in 3012 words) belong to which cluster"
      ],
      "execution_count": 17,
      "outputs": [
        {
          "output_type": "stream",
          "text": [
            "(6, 3012)\n"
          ],
          "name": "stdout"
        },
        {
          "output_type": "execute_result",
          "data": {
            "text/plain": [
              "array([[ 960, 1544, 1278, ..., 1351, 1343,    0],\n",
              "       [1544, 1592, 1626, ..., 1483,  413, 1042],\n",
              "       [2968, 2885, 2529, ..., 1867, 1871, 3011],\n",
              "       [2032,  646, 2858, ..., 1998, 1997,    0],\n",
              "       [1814, 2990, 1819, ...,  376, 1748,    0],\n",
              "       [2993, 2529, 1626, ..., 1886, 2770,  960]])"
            ]
          },
          "metadata": {
            "tags": []
          },
          "execution_count": 17
        }
      ]
    },
    {
      "cell_type": "code",
      "metadata": {
        "id": "qQuyMM3u5XzI",
        "colab_type": "code",
        "colab": {
          "base_uri": "https://localhost:8080/",
          "height": 445
        },
        "outputId": "7d49d4cd-2db5-4c00-e081-74b425204519"
      },
      "source": [
        "topn_features = 15\n",
        "# get key features for each cluster\n",
        "# get movies belonging to each cluster\n",
        "for cluster_num in range(NUM_CLUSTERS):\n",
        "    key_features = [feature_names[index] \n",
        "                        for index in ordered_centroids[cluster_num, :topn_features]]\n",
        "    movies = movie_clusters[movie_clusters['kmeans_cluster'] == cluster_num]['title'].values.tolist()\n",
        "    print('CLUSTER #'+str(cluster_num+1))\n",
        "    print('Key Features:', key_features)\n",
        "    print('Popular Movies:', movies)\n",
        "    print('-'*80)"
      ],
      "execution_count": 22,
      "outputs": [
        {
          "output_type": "stream",
          "text": [
            "CLUSTER #1\n",
            "Key Features: ['family', 'life', 'home', 'young', 'father', 'new', 'man', 'lives', 'back', 'story', 'finds', 'son', 'friends', 'find', 'help']\n",
            "Popular Movies: ['Frozen', 'The Godfather', 'The Godfather: Part II', 'Furious 7', \"We're the Millers\", 'The Twilight Saga: Breaking Dawn - Part 2', 'Gladiator', 'Birdman', 'Prisoners', 'American Sniper', 'The Hunger Games: Catching Fire', 'Run All Night', 'The Grand Budapest Hotel', 'Aliens', 'Southpaw', 'Dracula Untold', 'The Croods', 'GoodFellas', 'Warcraft', 'Hotel Transylvania 2']\n",
            "--------------------------------------------------------------------------------\n",
            "CLUSTER #2\n",
            "Key Features: ['life', 'love', 'man', 'story', 'young', 'new', 'back', 'time', 'years', 'find', 'woman', 'hes', 'finds', 'way', 'death']\n",
            "Popular Movies: ['Deadpool', 'Mad Max: Fury Road', 'Inception', 'Forrest Gump', 'The Shawshank Redemption', 'Harry Potter and the Chamber of Secrets', 'Inside Out', 'Twilight', 'Maleficent', \"Harry Potter and the Philosopher's Stone\", 'Bruce Almighty', 'The Hobbit: An Unexpected Journey', 'The Twilight Saga: Eclipse', 'Titanic', 'Fifty Shades of Grey', 'Blade Runner', 'Psycho', 'Up', 'The Lion King', 'Taken 3']\n",
            "--------------------------------------------------------------------------------\n",
            "CLUSTER #3\n",
            "Key Features: ['world', 'war', 'story', 'young', 'world war', 'man', 'find', 'must', 'new', 'save', 'time', 'way', 'evil', 'love', 'ii']\n",
            "Popular Movies: ['Minions', 'Jurassic World', 'Captain America: Civil War', 'Batman v Superman: Dawn of Justice', 'Avatar', 'The Imitation Game', 'The Avengers', 'Fury', \"Pirates of the Caribbean: At World's End\", 'The Maze Runner', 'Tomorrowland', 'Ant-Man', 'Spirited Away', 'Chappie', 'Monsters, Inc.', \"Schindler's List\", 'The Matrix', 'Man of Steel', 'Skyfall', 'The Adventures of Tintin']\n",
            "--------------------------------------------------------------------------------\n",
            "CLUSTER #4\n",
            "Key Features: ['prison', 'danny', 'violent', 'gang', 'going', 'keep', 'years', 'killing', 'white', 'brother', 'fresh', 'determined', 'thugs', 'becomes', 'throughout']\n",
            "Popular Movies: ['American History X']\n",
            "--------------------------------------------------------------------------------\n",
            "CLUSTER #5\n",
            "Key Features: ['new', 'york', 'new york', 'city', 'young', 'love', 'york city', 'man', 'years', 'find', 'friends', 'must', 'town', 'story', 'life']\n",
            "Popular Movies: ['Terminator Genisys', 'Fight Club', 'Teenage Mutant Ninja Turtles', 'Pixels', 'Despicable Me 2', 'Avengers: Age of Ultron', 'Night at the Museum: Secret of the Tomb', 'Batman Begins', 'The Dark Knight Rises', 'The Lord of the Rings: The Two Towers', 'How to Train Your Dragon 2', '12 Years a Slave', 'The Wolf of Wall Street', 'Men in Black II', \"Pan's Labyrinth\", 'The Bourne Legacy', 'The Amazing Spider-Man 2', 'The Devil Wears Prada', 'Non-Stop', 'Horrible Bosses 2']\n",
            "--------------------------------------------------------------------------------\n",
            "CLUSTER #6\n",
            "Key Features: ['young', 'story', 'man', 'love', 'find', 'must', 'time', 'back', 'friends', 'film', 'way', 'years', 'take', 'help', 'woman']\n",
            "Popular Movies: ['Interstellar', 'Guardians of the Galaxy', 'Pirates of the Caribbean: The Curse of the Black Pearl', 'Dawn of the Planet of the Apes', 'The Hunger Games: Mockingjay - Part 1', 'Big Hero 6', 'Whiplash', 'The Dark Knight', 'The Martian', \"Pirates of the Caribbean: Dead Man's Chest\", 'Gone Girl', 'X-Men: Apocalypse', 'Rise of the Planet of the Apes', 'The Lord of the Rings: The Fellowship of the Ring', 'Pirates of the Caribbean: On Stranger Tides', \"One Flew Over the Cuckoo's Nest\", 'The Hunger Games: Mockingjay - Part 2', 'Star Wars', 'Brave', 'The Lord of the Rings: The Return of the King']\n",
            "--------------------------------------------------------------------------------\n"
          ],
          "name": "stdout"
        }
      ]
    },
    {
      "cell_type": "code",
      "metadata": {
        "id": "hGS4UgNunIb7",
        "colab_type": "code",
        "colab": {}
      },
      "source": [
        "from sklearn.metrics.pairwise import cosine_similarity\n",
        "\n",
        "cosine_sim_features = cosine_similarity(cv_matrix)"
      ],
      "execution_count": 31,
      "outputs": []
    },
    {
      "cell_type": "code",
      "metadata": {
        "id": "wdqlBvscnJT3",
        "colab_type": "code",
        "colab": {
          "base_uri": "https://localhost:8080/",
          "height": 34
        },
        "outputId": "e48041ee-b88d-4e08-8682-0c2221dfa1b1"
      },
      "source": [
        "cosine_sim_features.shape"
      ],
      "execution_count": 32,
      "outputs": [
        {
          "output_type": "execute_result",
          "data": {
            "text/plain": [
              "(4800, 4800)"
            ]
          },
          "metadata": {
            "tags": []
          },
          "execution_count": 32
        }
      ]
    },
    {
      "cell_type": "code",
      "metadata": {
        "id": "ktn21Ofrnm_s",
        "colab_type": "code",
        "colab": {
          "base_uri": "https://localhost:8080/",
          "height": 238
        },
        "outputId": "bc9fa78a-e363-4e9f-897f-c223f92d8c80"
      },
      "source": [
        "cosine_sim_features"
      ],
      "execution_count": 33,
      "outputs": [
        {
          "output_type": "execute_result",
          "data": {
            "text/plain": [
              "array([[1.        , 0.05976143, 0.        , ..., 0.04652421, 0.        ,\n",
              "        0.        ],\n",
              "       [0.05976143, 1.        , 0.0438529 , ..., 0.07784989, 0.03676073,\n",
              "        0.        ],\n",
              "       [0.        , 0.0438529 , 1.        , ..., 0.03413944, 0.        ,\n",
              "        0.        ],\n",
              "       ...,\n",
              "       [0.04652421, 0.07784989, 0.03413944, ..., 1.        , 0.02861819,\n",
              "        0.        ],\n",
              "       [0.        , 0.03676073, 0.        , ..., 0.02861819, 1.        ,\n",
              "        0.05479966],\n",
              "       [0.        , 0.        , 0.        , ..., 0.        , 0.05479966,\n",
              "        1.        ]])"
            ]
          },
          "metadata": {
            "tags": []
          },
          "execution_count": 33
        }
      ]
    },
    {
      "cell_type": "code",
      "metadata": {
        "id": "0Iw25Jv05XzL",
        "colab_type": "code",
        "colab": {
          "base_uri": "https://localhost:8080/",
          "height": 34
        },
        "outputId": "cfdcedb7-75d6-440c-bb60-556793e3b9e9"
      },
      "source": [
        "\n",
        "km = KMeans(n_clusters=NUM_CLUSTERS, max_iter=10000, n_init=50, random_state=42).fit(cosine_sim_features)\n",
        "Counter(km.labels_)"
      ],
      "execution_count": null,
      "outputs": [
        {
          "output_type": "execute_result",
          "data": {
            "text/plain": [
              "Counter({0: 723, 1: 424, 2: 357, 3: 883, 4: 503, 5: 1910})"
            ]
          },
          "metadata": {
            "tags": []
          },
          "execution_count": 23
        }
      ]
    },
    {
      "cell_type": "code",
      "metadata": {
        "id": "MC5i1c_NnxTp",
        "colab_type": "code",
        "colab": {
          "base_uri": "https://localhost:8080/",
          "height": 419
        },
        "outputId": "380b04f1-7959-411b-cc36-0ef22f64c1cf"
      },
      "source": [
        "df['kmeans_cluster'] = km.labels_\n",
        "\n",
        "movie_clusters = (df[['title', 'kmeans_cluster', 'popularity']]\n",
        "                  .sort_values(by=['kmeans_cluster', 'popularity'], \n",
        "                               ascending=False)\n",
        "                  .groupby('kmeans_cluster').head(20))\n",
        "movie_clusters = movie_clusters.copy(deep=True)\n",
        "movie_clusters"
      ],
      "execution_count": 34,
      "outputs": [
        {
          "output_type": "execute_result",
          "data": {
            "text/html": [
              "<div>\n",
              "<style scoped>\n",
              "    .dataframe tbody tr th:only-of-type {\n",
              "        vertical-align: middle;\n",
              "    }\n",
              "\n",
              "    .dataframe tbody tr th {\n",
              "        vertical-align: top;\n",
              "    }\n",
              "\n",
              "    .dataframe thead th {\n",
              "        text-align: right;\n",
              "    }\n",
              "</style>\n",
              "<table border=\"1\" class=\"dataframe\">\n",
              "  <thead>\n",
              "    <tr style=\"text-align: right;\">\n",
              "      <th></th>\n",
              "      <th>title</th>\n",
              "      <th>kmeans_cluster</th>\n",
              "      <th>popularity</th>\n",
              "    </tr>\n",
              "  </thead>\n",
              "  <tbody>\n",
              "    <tr>\n",
              "      <th>95</th>\n",
              "      <td>Interstellar</td>\n",
              "      <td>5</td>\n",
              "      <td>724.247784</td>\n",
              "    </tr>\n",
              "    <tr>\n",
              "      <th>94</th>\n",
              "      <td>Guardians of the Galaxy</td>\n",
              "      <td>5</td>\n",
              "      <td>481.098624</td>\n",
              "    </tr>\n",
              "    <tr>\n",
              "      <th>199</th>\n",
              "      <td>Pirates of the Caribbean: The Curse of the Bla...</td>\n",
              "      <td>5</td>\n",
              "      <td>271.972889</td>\n",
              "    </tr>\n",
              "    <tr>\n",
              "      <th>82</th>\n",
              "      <td>Dawn of the Planet of the Apes</td>\n",
              "      <td>5</td>\n",
              "      <td>243.791743</td>\n",
              "    </tr>\n",
              "    <tr>\n",
              "      <th>200</th>\n",
              "      <td>The Hunger Games: Mockingjay - Part 1</td>\n",
              "      <td>5</td>\n",
              "      <td>206.227151</td>\n",
              "    </tr>\n",
              "    <tr>\n",
              "      <th>...</th>\n",
              "      <td>...</td>\n",
              "      <td>...</td>\n",
              "      <td>...</td>\n",
              "    </tr>\n",
              "    <tr>\n",
              "      <th>589</th>\n",
              "      <td>Dracula Untold</td>\n",
              "      <td>0</td>\n",
              "      <td>64.457947</td>\n",
              "    </tr>\n",
              "    <tr>\n",
              "      <th>234</th>\n",
              "      <td>The Croods</td>\n",
              "      <td>0</td>\n",
              "      <td>64.183321</td>\n",
              "    </tr>\n",
              "    <tr>\n",
              "      <th>1847</th>\n",
              "      <td>GoodFellas</td>\n",
              "      <td>0</td>\n",
              "      <td>63.654244</td>\n",
              "    </tr>\n",
              "    <tr>\n",
              "      <th>107</th>\n",
              "      <td>Warcraft</td>\n",
              "      <td>0</td>\n",
              "      <td>63.148529</td>\n",
              "    </tr>\n",
              "    <tr>\n",
              "      <th>464</th>\n",
              "      <td>Hotel Transylvania 2</td>\n",
              "      <td>0</td>\n",
              "      <td>61.692197</td>\n",
              "    </tr>\n",
              "  </tbody>\n",
              "</table>\n",
              "<p>101 rows × 3 columns</p>\n",
              "</div>"
            ],
            "text/plain": [
              "                                                  title  ...  popularity\n",
              "95                                         Interstellar  ...  724.247784\n",
              "94                              Guardians of the Galaxy  ...  481.098624\n",
              "199   Pirates of the Caribbean: The Curse of the Bla...  ...  271.972889\n",
              "82                       Dawn of the Planet of the Apes  ...  243.791743\n",
              "200               The Hunger Games: Mockingjay - Part 1  ...  206.227151\n",
              "...                                                 ...  ...         ...\n",
              "589                                      Dracula Untold  ...   64.457947\n",
              "234                                          The Croods  ...   64.183321\n",
              "1847                                         GoodFellas  ...   63.654244\n",
              "107                                            Warcraft  ...   63.148529\n",
              "464                                Hotel Transylvania 2  ...   61.692197\n",
              "\n",
              "[101 rows x 3 columns]"
            ]
          },
          "metadata": {
            "tags": []
          },
          "execution_count": 34
        }
      ]
    },
    {
      "cell_type": "code",
      "metadata": {
        "id": "exJbjZ6i5XzN",
        "colab_type": "code",
        "colab": {
          "base_uri": "https://localhost:8080/",
          "height": 343
        },
        "outputId": "b262efa5-f020-4ec7-88a4-982933405120"
      },
      "source": [
        "\n",
        "\n",
        "# get movies belonging to each cluster\n",
        "for cluster_num in range(NUM_CLUSTERS):\n",
        "    movies = movie_clusters[movie_clusters['kmeans_cluster'] == cluster_num]['title'].values.tolist()\n",
        "    print('CLUSTER #'+str(cluster_num+1))\n",
        "    print('Popular Movies:', movies)\n",
        "    print('-'*80)"
      ],
      "execution_count": 35,
      "outputs": [
        {
          "output_type": "stream",
          "text": [
            "CLUSTER #1\n",
            "Popular Movies: ['Frozen', 'The Godfather', 'The Godfather: Part II', 'Furious 7', \"We're the Millers\", 'The Twilight Saga: Breaking Dawn - Part 2', 'Gladiator', 'Birdman', 'Prisoners', 'American Sniper', 'The Hunger Games: Catching Fire', 'Run All Night', 'The Grand Budapest Hotel', 'Aliens', 'Southpaw', 'Dracula Untold', 'The Croods', 'GoodFellas', 'Warcraft', 'Hotel Transylvania 2']\n",
            "--------------------------------------------------------------------------------\n",
            "CLUSTER #2\n",
            "Popular Movies: ['Deadpool', 'Mad Max: Fury Road', 'Inception', 'Forrest Gump', 'The Shawshank Redemption', 'Harry Potter and the Chamber of Secrets', 'Inside Out', 'Twilight', 'Maleficent', \"Harry Potter and the Philosopher's Stone\", 'Bruce Almighty', 'The Hobbit: An Unexpected Journey', 'The Twilight Saga: Eclipse', 'Titanic', 'Fifty Shades of Grey', 'Blade Runner', 'Psycho', 'Up', 'The Lion King', 'Taken 3']\n",
            "--------------------------------------------------------------------------------\n",
            "CLUSTER #3\n",
            "Popular Movies: ['Minions', 'Jurassic World', 'Captain America: Civil War', 'Batman v Superman: Dawn of Justice', 'Avatar', 'The Imitation Game', 'The Avengers', 'Fury', \"Pirates of the Caribbean: At World's End\", 'The Maze Runner', 'Tomorrowland', 'Ant-Man', 'Spirited Away', 'Chappie', 'Monsters, Inc.', \"Schindler's List\", 'The Matrix', 'Man of Steel', 'Skyfall', 'The Adventures of Tintin']\n",
            "--------------------------------------------------------------------------------\n",
            "CLUSTER #4\n",
            "Popular Movies: ['American History X']\n",
            "--------------------------------------------------------------------------------\n",
            "CLUSTER #5\n",
            "Popular Movies: ['Terminator Genisys', 'Fight Club', 'Teenage Mutant Ninja Turtles', 'Pixels', 'Despicable Me 2', 'Avengers: Age of Ultron', 'Night at the Museum: Secret of the Tomb', 'Batman Begins', 'The Dark Knight Rises', 'The Lord of the Rings: The Two Towers', 'How to Train Your Dragon 2', '12 Years a Slave', 'The Wolf of Wall Street', 'Men in Black II', \"Pan's Labyrinth\", 'The Bourne Legacy', 'The Amazing Spider-Man 2', 'The Devil Wears Prada', 'Non-Stop', 'Horrible Bosses 2']\n",
            "--------------------------------------------------------------------------------\n",
            "CLUSTER #6\n",
            "Popular Movies: ['Interstellar', 'Guardians of the Galaxy', 'Pirates of the Caribbean: The Curse of the Black Pearl', 'Dawn of the Planet of the Apes', 'The Hunger Games: Mockingjay - Part 1', 'Big Hero 6', 'Whiplash', 'The Dark Knight', 'The Martian', \"Pirates of the Caribbean: Dead Man's Chest\", 'Gone Girl', 'X-Men: Apocalypse', 'Rise of the Planet of the Apes', 'The Lord of the Rings: The Fellowship of the Ring', 'Pirates of the Caribbean: On Stranger Tides', \"One Flew Over the Cuckoo's Nest\", 'The Hunger Games: Mockingjay - Part 2', 'Star Wars', 'Brave', 'The Lord of the Rings: The Return of the King']\n",
            "--------------------------------------------------------------------------------\n"
          ],
          "name": "stdout"
        }
      ]
    },
    {
      "cell_type": "markdown",
      "metadata": {
        "id": "8YGVlQXs5XzQ",
        "colab_type": "text"
      },
      "source": [
        "# Affinity Propagation"
      ]
    },
    {
      "cell_type": "code",
      "metadata": {
        "scrolled": true,
        "id": "KTlfy8C85XzQ",
        "colab_type": "code",
        "colab": {
          "base_uri": "https://localhost:8080/",
          "height": 187
        },
        "outputId": "d90bedc7-16d2-44db-846e-ac56929aa709"
      },
      "source": [
        "from sklearn.cluster import AffinityPropagation\n",
        "\n",
        "ap = AffinityPropagation(max_iter=1000)\n",
        "ap.fit(cosine_sim_features)\n",
        "res = Counter(ap.labels_)\n",
        "res.most_common(10)"
      ],
      "execution_count": 36,
      "outputs": [
        {
          "output_type": "execute_result",
          "data": {
            "text/plain": [
              "[(183, 1355),\n",
              " (182, 93),\n",
              " (159, 80),\n",
              " (54, 74),\n",
              " (81, 57),\n",
              " (16, 51),\n",
              " (26, 47),\n",
              " (24, 45),\n",
              " (48, 43),\n",
              " (89, 42)]"
            ]
          },
          "metadata": {
            "tags": []
          },
          "execution_count": 36
        }
      ]
    },
    {
      "cell_type": "code",
      "metadata": {
        "id": "203HxYFoosLJ",
        "colab_type": "code",
        "colab": {
          "base_uri": "https://localhost:8080/",
          "height": 221
        },
        "outputId": "4f8dc4dd-9351-4b7e-efdb-48ef5534f7d6"
      },
      "source": [
        "df['affprop_cluster'] = ap.labels_\n",
        "df['affprop_cluster'].value_counts()"
      ],
      "execution_count": 37,
      "outputs": [
        {
          "output_type": "execute_result",
          "data": {
            "text/plain": [
              "183    1355\n",
              "182      93\n",
              "159      80\n",
              "54       74\n",
              "81       57\n",
              "       ... \n",
              "19        5\n",
              "202       5\n",
              "207       5\n",
              "203       4\n",
              "53        4\n",
              "Name: affprop_cluster, Length: 208, dtype: int64"
            ]
          },
          "metadata": {
            "tags": []
          },
          "execution_count": 37
        }
      ]
    },
    {
      "cell_type": "code",
      "metadata": {
        "id": "yBoSC1_95XzT",
        "colab_type": "code",
        "colab": {},
        "outputId": "48ad5a54-47ed-4555-8e5e-6ca76b435fda"
      },
      "source": [
        "\n",
        "filtered_clusters = [item[0] for item in res.most_common(8)]\n",
        "filtered_df = df[df['affprop_cluster'].isin(filtered_clusters)]\n",
        "movie_clusters = (filtered_df[['title', 'affprop_cluster', 'popularity']]\n",
        "                  .sort_values(by=['affprop_cluster', 'popularity'], \n",
        "                               ascending=False)\n",
        "                  .groupby('affprop_cluster').head(20))\n",
        "movie_clusters = movie_clusters.copy(deep=True)\n",
        "\n",
        "# get key features for each cluster\n",
        "# get movies belonging to each cluster\n",
        "for cluster_num in range(len(filtered_clusters)):\n",
        "    movies = movie_clusters[movie_clusters['affprop_cluster'] == filtered_clusters[cluster_num]]['title'].values.tolist()\n",
        "    print('CLUSTER #'+str(filtered_clusters[cluster_num]))\n",
        "    print('Popular Movies:', movies)\n",
        "    print('-'*80)"
      ],
      "execution_count": null,
      "outputs": [
        {
          "output_type": "stream",
          "text": [
            "CLUSTER #183\n",
            "Popular Movies: ['Interstellar', 'Dawn of the Planet of the Apes', 'Big Hero 6', 'The Dark Knight', \"Pirates of the Caribbean: Dead Man's Chest\", 'The Hunger Games: Mockingjay - Part 2', 'Star Wars', 'Brave', 'The Lord of the Rings: The Return of the King', 'The Hobbit: The Battle of the Five Armies', 'Iron Man', 'Transformers: Age of Extinction', 'Lucy', 'Mission: Impossible - Rogue Nation', 'Maze Runner: The Scorch Trials', 'Spectre', 'The Green Mile', 'Terminator 2: Judgment Day', 'Exodus: Gods and Kings', 'Harry Potter and the Goblet of Fire']\n",
            "--------------------------------------------------------------------------------\n",
            "CLUSTER #182\n",
            "Popular Movies: ['Inception', 'Harry Potter and the Chamber of Secrets', 'The Hobbit: An Unexpected Journey', 'Django Unchained', 'American Beauty', 'Snowpiercer', 'Trainspotting', 'First Blood', 'The Bourne Supremacy', 'Yes Man', 'The Secret Life of Walter Mitty', 'RED', 'Casino', 'The Passion of the Christ', 'Annie', 'Fantasia', 'Vicky Cristina Barcelona', 'The Butler', 'The Secret Life of Pets', 'Edge of Darkness']\n",
            "--------------------------------------------------------------------------------\n",
            "CLUSTER #159\n",
            "Popular Movies: ['Gone Girl', 'Pulp Fiction', 'Gladiator', 'Saving Private Ryan', 'The Game', 'Jack Reacher', 'The Fugitive', 'The Purge: Election Year', 'The Thing', 'The Rock', '3:10 to Yuma', 'Wild Card', 'Blackhat', 'Knight and Day', 'Equilibrium', 'Black Hawk Down', 'Immortals', '1408', 'The Call', 'Up in the Air']\n",
            "--------------------------------------------------------------------------------\n",
            "CLUSTER #54\n",
            "Popular Movies: ['Despicable Me 2', 'The Lord of the Rings: The Two Towers', 'The Bourne Legacy', 'Horrible Bosses 2', 'Sherlock Holmes: A Game of Shadows', \"Ocean's Twelve\", 'Raiders of the Lost Ark', 'Star Trek Beyond', 'Fantastic 4: Rise of the Silver Surfer', 'Sherlock Holmes', 'Dead Poets Society', 'Batman & Robin', 'Madagascar: Escape 2 Africa', 'Paul Blart: Mall Cop 2', 'Kick-Ass 2', 'Anchorman 2: The Legend Continues', 'The Pacifier', \"The Devil's Advocate\", 'Tremors', 'Wild Hogs']\n",
            "--------------------------------------------------------------------------------\n",
            "CLUSTER #81\n",
            "Popular Movies: ['Whiplash', 'Sicario', 'Jack Ryan: Shadow Recruit', 'The Untouchables', 'Young Frankenstein', 'Point Break', '8 Mile', 'The Final Destination', 'Savages', 'Scooby-Doo', 'The Artist', 'The Last King of Scotland', 'Sinister 2', 'Another Earth', 'The Darkest Hour', 'Wall Street: Money Never Sleeps', 'The Score', 'Doubt', 'Revolutionary Road', 'Crimson Tide']\n",
            "--------------------------------------------------------------------------------\n",
            "CLUSTER #16\n",
            "Popular Movies: ['The Shawshank Redemption', 'Inside Out', 'Batman Begins', 'Psycho', 'Cars', 'Ice Age: Dawn of the Dinosaurs', 'The Chronicles of Narnia: Prince Caspian', 'Kung Fu Panda 2', 'The Witch', 'Madagascar', 'Wild', 'Shame', 'Scream 2', '16 Blocks', 'Last Action Hero', 'Garden State', '25th Hour', 'The House Bunny', 'The Jacket', 'Any Given Sunday']\n",
            "--------------------------------------------------------------------------------\n",
            "CLUSTER #26\n",
            "Popular Movies: ['Minions', 'Avatar', 'Penguins of Madagascar', 'Iron Man 3', 'London Has Fallen', 'The Great Gatsby', 'Transcendence', 'The 5th Wave', 'Zombieland', 'Hotel Transylvania', 'Ghost Rider: Spirit of Vengeance', 'Warm Bodies', 'Paul', 'The Road', 'Alexander', 'This Is the End', \"Bridget Jones's Diary\", 'G.I. Joe: The Rise of Cobra', 'Hairspray', 'Step Up Revolution']\n",
            "--------------------------------------------------------------------------------\n",
            "CLUSTER #24\n",
            "Popular Movies: ['Spider-Man', 'Chronicle', '21 Jump Street', '22 Jump Street', 'Project X', 'Kick-Ass', 'Grown Ups', 'American Wedding', 'Kiss Kiss Bang Bang', 'I Know What You Did Last Summer', 'Here Comes the Boom', 'Dazed and Confused', 'Not Another Teen Movie', 'WarGames', 'Fast Times at Ridgemont High', 'American Graffiti', 'The Gallows', 'Dumb and Dumberer: When Harry Met Lloyd', 'Bring It On', 'The New Guy']\n",
            "--------------------------------------------------------------------------------\n"
          ],
          "name": "stdout"
        }
      ]
    },
    {
      "cell_type": "markdown",
      "metadata": {
        "id": "AioFNVXp5XzV",
        "colab_type": "text"
      },
      "source": [
        "## Hierarchical Clustering\n",
        "So far, we were successfull in clustering movies using __K-Means__. But is there any further level of understanding we can extract from this dataset in an unsupervised manner?\n",
        "\n",
        "Hierarchical Clustering to the rescue. K-Means helped us understand similarities amongst movies, with hierarchical clustering we can aim at understanding abstract or higher level concepts which are common across groups of movies. There are primarily two ways in which hierarchical clustering can be performed:\n",
        "\n",
        "- Divisive : The algorithm begins with every element in one big generic cluster and then goes on dividing them into specific clusters in a recursive manner.\n",
        "- Agglomerative : In this case, the algorithm starts by placing every element into a cluster of its own and then goes on merging them into more general clusters in a recursive manner (till they all merge into one big cluster).\n",
        "\n",
        "For this tutorial, we will work with __Ward clustering algorithm__. Ward clustering is an agglomerative clustering method, i.e. at each stage, the pair of clusters with minimum _between-cluster distance_ (or wcss) are merged. \n",
        "\n",
        "To work with Ward Clustering Algorithm, we perform the following steps:\n",
        "-  Prepare a cosine distance matrix\n",
        "-  Calclate a linkage_matrix\n",
        "-  Plot the hierarchical structure as a dendrogram.  "
      ]
    },
    {
      "cell_type": "code",
      "metadata": {
        "id": "vshQXJ435XzW",
        "colab_type": "code",
        "colab": {}
      },
      "source": [
        "from scipy.cluster.hierarchy import ward, dendrogram\n",
        "from sklearn.metrics.pairwise import cosine_similarity"
      ],
      "execution_count": 38,
      "outputs": []
    },
    {
      "cell_type": "markdown",
      "metadata": {
        "id": "Rcmjet585XzY",
        "colab_type": "text"
      },
      "source": [
        "### Calculate Linkage Matrix using Cosine Similarity"
      ]
    },
    {
      "cell_type": "code",
      "metadata": {
        "id": "qNA9PYFC5XzZ",
        "colab_type": "code",
        "colab": {}
      },
      "source": [
        "def ward_hierarchical_clustering(feature_matrix):\n",
        "    \n",
        "    cosine_distance = 1 - cosine_similarity(feature_matrix)\n",
        "    linkage_matrix = ward(cosine_distance)\n",
        "    return linkage_matrix"
      ],
      "execution_count": 39,
      "outputs": []
    },
    {
      "cell_type": "markdown",
      "metadata": {
        "id": "TkkHQdMX5Xzb",
        "colab_type": "text"
      },
      "source": [
        "### Plot Hierarchical Structure as a Dendrogram"
      ]
    },
    {
      "cell_type": "code",
      "metadata": {
        "id": "iGhm-bxD5Xzc",
        "colab_type": "code",
        "colab": {}
      },
      "source": [
        "def plot_hierarchical_clusters(linkage_matrix, movie_data, p=100, figure_size=(8,12)):\n",
        "    # set size\n",
        "    fig, ax = plt.subplots(figsize=figure_size) \n",
        "    movie_titles = movie_data['title'].values.tolist()\n",
        "    # plot dendrogram\n",
        "    R = dendrogram(linkage_matrix, orientation=\"left\", labels=movie_titles,\n",
        "                    truncate_mode='lastp', \n",
        "                    p=p,  \n",
        "                    no_plot=True)\n",
        "    temp = {R[\"leaves\"][ii]: movie_titles[ii] for ii in range(len(R[\"leaves\"]))}\n",
        "    def llf(xx):\n",
        "        return \"{}\".format(temp[xx])\n",
        "    ax = dendrogram(\n",
        "            linkage_matrix,\n",
        "            truncate_mode='lastp',\n",
        "            orientation=\"left\",\n",
        "            p=p,  \n",
        "            leaf_label_func=llf, \n",
        "            leaf_font_size=10.,\n",
        "            )\n",
        "    plt.tick_params(axis= 'x',   \n",
        "                    which='both',  \n",
        "                    bottom='off',\n",
        "                    top='off',\n",
        "                    labelbottom='off')\n",
        "    plt.tight_layout()\n",
        "    plt.savefig('movie_hierachical_clusters.png', dpi=200)"
      ],
      "execution_count": 40,
      "outputs": []
    },
    {
      "cell_type": "code",
      "metadata": {
        "id": "OV9AN3Qz5Xze",
        "colab_type": "code",
        "colab": {}
      },
      "source": [
        "linkage_matrix = ward_hierarchical_clustering(cv_matrix)"
      ],
      "execution_count": 41,
      "outputs": []
    },
    {
      "cell_type": "code",
      "metadata": {
        "id": "p2WcTH3RrgSQ",
        "colab_type": "code",
        "colab": {}
      },
      "source": [
        "import matplotlib.pyplot as plt\n"
      ],
      "execution_count": 43,
      "outputs": []
    },
    {
      "cell_type": "code",
      "metadata": {
        "id": "Jw8joi1G5Xzg",
        "colab_type": "code",
        "colab": {
          "base_uri": "https://localhost:8080/",
          "height": 953
        },
        "outputId": "c1936d23-44d1-4c15-ca4a-721e0d8f1f96"
      },
      "source": [
        "plot_hierarchical_clusters(linkage_matrix,\n",
        "                           p=100,\n",
        "                           movie_data=df,\n",
        "                           figure_size=(12, 14))"
      ],
      "execution_count": 44,
      "outputs": [
        {
          "output_type": "display_data",
          "data": {
            "image/png": "[encoded data removed]",
            "text/plain": [
              "<Figure size 864x1008 with 1 Axes>"
            ]
          },
          "metadata": {
            "tags": [],
            "needs_background": "light"
          }
        }
      ]
    },
    {
      "cell_type": "code",
      "metadata": {
        "id": "-ZGNENbarPwI",
        "colab_type": "code",
        "colab": {}
      },
      "source": [
        ""
      ],
      "execution_count": null,
      "outputs": []
    }
  ]
}