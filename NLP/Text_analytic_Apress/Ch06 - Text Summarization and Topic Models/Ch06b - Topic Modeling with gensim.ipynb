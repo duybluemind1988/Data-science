{
  "nbformat": 4,
  "nbformat_minor": 0,
  "metadata": {
    "kernelspec": {
      "display_name": "Python 3",
      "language": "python",
      "name": "python3"
    },
    "language_info": {
      "codemirror_mode": {
        "name": "ipython",
        "version": 3
      },
      "file_extension": ".py",
      "mimetype": "text/x-python",
      "name": "python",
      "nbconvert_exporter": "python",
      "pygments_lexer": "ipython3",
      "version": "3.6.5"
    },
    "colab": {
      "name": "Ch06b - Topic Modeling with gensim.ipynb",
      "provenance": []
    }
  },
  "cells": [
    {
      "cell_type": "markdown",
      "metadata": {
        "id": "9oafBS6D68Az",
        "colab_type": "text"
      },
      "source": [
        "# Data Retrieval\n",
        "\n",
        "This may not work on windows so just use the extracted NIPS papers data from the __`nipstxt/`__ folder present in the same directory as this notebook which already has the data pre-downloaded and extracted"
      ]
    },
    {
      "cell_type": "code",
      "metadata": {
        "id": "_AGTJPuM68A1",
        "colab_type": "code",
        "colab": {
          "base_uri": "https://localhost:8080/",
          "height": 204
        },
        "outputId": "ddd06896-8038-4987-8d04-fdb9313bdd44"
      },
      "source": [
        "!wget https://cs.nyu.edu/~roweis/data/nips12raw_str602.tgz"
      ],
      "execution_count": 1,
      "outputs": [
        {
          "output_type": "stream",
          "text": [
            "--2020-08-22 02:08:18--  https://cs.nyu.edu/~roweis/data/nips12raw_str602.tgz\n",
            "Resolving cs.nyu.edu (cs.nyu.edu)... 128.122.49.30\n",
            "Connecting to cs.nyu.edu (cs.nyu.edu)|128.122.49.30|:443... connected.\n",
            "HTTP request sent, awaiting response... 200 OK\n",
            "Length: 12851423 (12M) [application/x-gzip]\n",
            "Saving to: ‘nips12raw_str602.tgz’\n",
            "\n",
            "nips12raw_str602.tg 100%[===================>]  12.26M  21.7MB/s    in 0.6s    \n",
            "\n",
            "2020-08-22 02:08:18 (21.7 MB/s) - ‘nips12raw_str602.tgz’ saved [12851423/12851423]\n",
            "\n"
          ],
          "name": "stdout"
        }
      ]
    },
    {
      "cell_type": "markdown",
      "metadata": {
        "id": "XOrqdaJ_68BA",
        "colab_type": "text"
      },
      "source": [
        "# Data Extraction"
      ]
    },
    {
      "cell_type": "code",
      "metadata": {
        "id": "MUGI_ZxA68BB",
        "colab_type": "code",
        "colab": {}
      },
      "source": [
        "!tar -xzf nips12raw_str602.tgz"
      ],
      "execution_count": 2,
      "outputs": []
    },
    {
      "cell_type": "markdown",
      "metadata": {
        "id": "9pcVzc4M68BF",
        "colab_type": "text"
      },
      "source": [
        "# Load and Pre-process Data"
      ]
    },
    {
      "cell_type": "code",
      "metadata": {
        "id": "bFfcUOP668BF",
        "colab_type": "code",
        "colab": {
          "base_uri": "https://localhost:8080/",
          "height": 54
        },
        "outputId": "acb0a074-28bd-42c0-f2f9-b437056ed101"
      },
      "source": [
        "import os\n",
        "import numpy as np\n",
        "import pandas as pd\n",
        "\n",
        "DATA_PATH = 'nipstxt/'\n",
        "print(os.listdir(DATA_PATH))"
      ],
      "execution_count": 3,
      "outputs": [
        {
          "output_type": "stream",
          "text": [
            "['nips08', 'idx', 'nips09', 'MATLAB_NOTES', 'nips04', 'nips07', 'nips11', 'nips03', 'nips05', 'orig', 'nips06', 'nips02', 'README_yann', 'nips00', 'nips01', 'RAW_DATA_NOTES', 'nips12', 'nips10']\n"
          ],
          "name": "stdout"
        }
      ]
    },
    {
      "cell_type": "code",
      "metadata": {
        "id": "CYDzMv5v68BJ",
        "colab_type": "code",
        "colab": {
          "base_uri": "https://localhost:8080/",
          "height": 255
        },
        "outputId": "14871654-08aa-4755-fbe6-a6c95ec17f72"
      },
      "source": [
        "folders = [\"nips{0:02}\".format(i) for i in range(0,13)]\n",
        "# Read all texts into a list.\n",
        "papers = []\n",
        "for folder in folders:\n",
        "    print(folder)\n",
        "    file_names = os.listdir(DATA_PATH + folder)\n",
        "    for file_name in file_names:\n",
        "        #print(file_names)\n",
        "        with open(DATA_PATH + folder + '/' + file_name, encoding='utf-8', errors='ignore', mode='r+') as f:\n",
        "            data = f.read()\n",
        "        papers.append(data)\n",
        "len(papers)"
      ],
      "execution_count": 7,
      "outputs": [
        {
          "output_type": "stream",
          "text": [
            "nips00\n",
            "nips01\n",
            "nips02\n",
            "nips03\n",
            "nips04\n",
            "nips05\n",
            "nips06\n",
            "nips07\n",
            "nips08\n",
            "nips09\n",
            "nips10\n",
            "nips11\n",
            "nips12\n"
          ],
          "name": "stdout"
        },
        {
          "output_type": "execute_result",
          "data": {
            "text/plain": [
              "1740"
            ]
          },
          "metadata": {
            "tags": []
          },
          "execution_count": 7
        }
      ]
    },
    {
      "cell_type": "markdown",
      "metadata": {
        "id": "hI0ctekKB5KC",
        "colab_type": "text"
      },
      "source": [
        "Co 1740 tai lieu trong papers"
      ]
    },
    {
      "cell_type": "code",
      "metadata": {
        "id": "AFMtRM1068BP",
        "colab_type": "code",
        "colab": {
          "base_uri": "https://localhost:8080/",
          "height": 323
        },
        "outputId": "a7768315-b0c9-4d88-a86f-8a1ecd9b90b8"
      },
      "source": [
        "print(papers[0][:1000])"
      ],
      "execution_count": 9,
      "outputs": [
        {
          "output_type": "stream",
          "text": [
            "573 \n",
            "BIT - SERIAL NEURAL NETWORKS \n",
            "Alan F. Murray, Anthony V. W. Smith and Zoe F. Buffer. \n",
            "Department of Electrical Engineering, University of Edinburgh, \n",
            "The King's Buildings, Mayfield Road, Edinburgh, \n",
            "Scoff and, EH9 3JL. \n",
            "ABSTRACT \n",
            "A bit - serial VLSI neural network is described from an initial architecture for a \n",
            "synapse array through to silicon layout and board design. The issues surrounding bit \n",
            "- serial computation, and analog/digital arithmetic are discussed and the parallel \n",
            "development of a hybrid analog/digital neural network is outlined. Learning and \n",
            "recall capabilities are reported for the bit - serial network along with a projected \n",
            "specification for a 64 - neuron, bit - serial board operating at 20 MHz. This tech- \n",
            "nique is extended to a 256 (2562 synapses) network with an update time of 3ms, \n",
            "using a \"paging\" technique to time - multiplex calculations through the synapse \n",
            "array. \n",
            "1. INTRODUCTION \n",
            "The functions a synthetic neural network may aspire to mimic are the abil\n"
          ],
          "name": "stdout"
        }
      ]
    },
    {
      "cell_type": "markdown",
      "metadata": {
        "id": "sU-eBLba68BS",
        "colab_type": "text"
      },
      "source": [
        "## Basic Text Wrangling"
      ]
    },
    {
      "cell_type": "code",
      "metadata": {
        "id": "YnEzy7vy68BS",
        "colab_type": "code",
        "colab": {
          "base_uri": "https://localhost:8080/",
          "height": 136
        },
        "outputId": "a97f52c2-ecdb-4a90-b22d-4b3cb5fe077d"
      },
      "source": [
        "%%time\n",
        "import nltk\n",
        "nltk.download('stopwords')\n",
        "nltk.download('wordnet')\n",
        "  \n",
        "\n",
        "stop_words = nltk.corpus.stopwords.words('english')\n",
        "wtk = nltk.tokenize.RegexpTokenizer(r'\\w+')\n",
        "wnl = nltk.stem.wordnet.WordNetLemmatizer()\n",
        "\n",
        "def normalize_corpus(papers):\n",
        "    norm_papers = []\n",
        "    for paper in papers:\n",
        "        paper = paper.lower()\n",
        "        paper_tokens = [token.strip() for token in wtk.tokenize(paper)]\n",
        "        paper_tokens = [wnl.lemmatize(token) for token in paper_tokens if not token.isnumeric()]\n",
        "        paper_tokens = [token for token in paper_tokens if len(token) > 1]\n",
        "        paper_tokens = [token for token in paper_tokens if token not in stop_words]\n",
        "        paper_tokens = list(filter(None, paper_tokens))\n",
        "        if paper_tokens:\n",
        "            norm_papers.append(paper_tokens)\n",
        "            \n",
        "    return norm_papers\n",
        "    \n",
        "norm_papers = normalize_corpus(papers)\n",
        "print(len(norm_papers))"
      ],
      "execution_count": 12,
      "outputs": [
        {
          "output_type": "stream",
          "text": [
            "[nltk_data] Downloading package stopwords to /root/nltk_data...\n",
            "[nltk_data]   Package stopwords is already up-to-date!\n",
            "[nltk_data] Downloading package wordnet to /root/nltk_data...\n",
            "[nltk_data]   Unzipping corpora/wordnet.zip.\n",
            "1740\n",
            "CPU times: user 28.5 s, sys: 242 ms, total: 28.7 s\n",
            "Wall time: 29.2 s\n"
          ],
          "name": "stdout"
        }
      ]
    },
    {
      "cell_type": "code",
      "metadata": {
        "id": "siyTRGvZF3EX",
        "colab_type": "code",
        "colab": {
          "base_uri": "https://localhost:8080/",
          "height": 102
        },
        "outputId": "0762e162-f735-4718-8ae7-bc069020a837"
      },
      "source": [
        "print(papers[0][:200])"
      ],
      "execution_count": 15,
      "outputs": [
        {
          "output_type": "stream",
          "text": [
            "573 \n",
            "BIT - SERIAL NEURAL NETWORKS \n",
            "Alan F. Murray, Anthony V. W. Smith and Zoe F. Buffer. \n",
            "Department of Electrical Engineering, University of Edinburgh, \n",
            "The King's Buildings, Mayfield Road, Edinburg\n"
          ],
          "name": "stdout"
        }
      ]
    },
    {
      "cell_type": "code",
      "metadata": {
        "id": "knvzkEH-68BY",
        "colab_type": "code",
        "colab": {
          "base_uri": "https://localhost:8080/",
          "height": 54
        },
        "outputId": "34a30847-9b79-4fe5-c062-625da5b1393e"
      },
      "source": [
        "print(norm_papers[0][:50])"
      ],
      "execution_count": 13,
      "outputs": [
        {
          "output_type": "stream",
          "text": [
            "['bit', 'serial', 'neural', 'network', 'alan', 'murray', 'anthony', 'smith', 'zoe', 'buffer', 'department', 'electrical', 'engineering', 'university', 'edinburgh', 'king', 'building', 'mayfield', 'road', 'edinburgh', 'scoff', 'eh9', '3jl', 'abstract', 'bit', 'serial', 'vlsi', 'neural', 'network', 'described', 'initial', 'architecture', 'synapse', 'array', 'silicon', 'layout', 'board', 'design', 'issue', 'surrounding', 'bit', 'serial', 'computation', 'analog', 'digital', 'arithmetic', 'discussed', 'parallel', 'development', 'hybrid']\n"
          ],
          "name": "stdout"
        }
      ]
    },
    {
      "cell_type": "markdown",
      "metadata": {
        "id": "uEfdrQEi68Bb",
        "colab_type": "text"
      },
      "source": [
        "# Text Representation with Feature Engineering"
      ]
    },
    {
      "cell_type": "markdown",
      "metadata": {
        "id": "0nLN6IBeJupX",
        "colab_type": "text"
      },
      "source": [
        "Before feature engineering and vectorization, we want to extract some useful bi-gram\n",
        "based phrases from our research papers and remove some unnecessary terms. We\n",
        "leverage the very useful gensim.models.Phrases class for this. This capability helps us\n",
        "automatically detect common phrases from a stream of sentences, which are typically\n",
        "multi-word expressions/word n-grams. This implementation draws inspiration\n",
        "from the famous paper by Mikolov, et al., “Distributed Representations of Words and\n",
        "Phrases and their Compositionality,” which you can check out at https://arxiv.org/\n",
        "abs/1310.4546. We start by extracting and generating words and bi-grams as phrases for\n",
        "each tokenized research paper. We can build this phrase generation model easily with\n",
        "the following code and test it on a sample paper"
      ]
    },
    {
      "cell_type": "markdown",
      "metadata": {
        "id": "RuLw5a-BKLcW",
        "colab_type": "text"
      },
      "source": [
        "I got the solution for the problem , There was two parameters I didn't take care of it which should be passed to Phrases() model, those are\n",
        "\n",
        "min_count ignore all words and bigrams with total collected count lower than this. Bydefault it value is 5\n",
        "\n",
        "threshold represents a threshold for forming the phrases (higher means fewer phrases). A phrase of words a and b is accepted if (cnt(a, b) - min_count) * N / (cnt(a) * cnt(b)) > threshold, where N is the total vocabulary size. Bydefault it value is 10.0"
      ]
    },
    {
      "cell_type": "code",
      "metadata": {
        "id": "J-yzd0PZ68Bc",
        "colab_type": "code",
        "colab": {
          "base_uri": "https://localhost:8080/",
          "height": 54
        },
        "outputId": "75988d20-4ebc-44a7-c858-80439a0c8b2f"
      },
      "source": [
        "import gensim\n",
        "\n",
        "bigram = gensim.models.Phrases(norm_papers, min_count=20, threshold=20, delimiter=b'_') \n",
        "# higher threshold fewer phrases.\n",
        "bigram_model = gensim.models.phrases.Phraser(bigram)\n",
        "\n",
        "print(bigram_model[norm_papers[0]][:50])"
      ],
      "execution_count": 16,
      "outputs": [
        {
          "output_type": "stream",
          "text": [
            "['bit', 'serial', 'neural_network', 'alan', 'murray', 'anthony', 'smith', 'zoe', 'buffer', 'department_electrical', 'engineering_university', 'edinburgh', 'king', 'building', 'mayfield', 'road', 'edinburgh', 'scoff', 'eh9', '3jl', 'abstract', 'bit', 'serial', 'vlsi', 'neural_network', 'described', 'initial', 'architecture', 'synapse', 'array', 'silicon', 'layout', 'board', 'design', 'issue', 'surrounding', 'bit', 'serial', 'computation', 'analog_digital', 'arithmetic', 'discussed', 'parallel', 'development', 'hybrid', 'analog_digital', 'neural_network', 'outlined', 'learning', 'recall']\n"
          ],
          "name": "stdout"
        }
      ]
    },
    {
      "cell_type": "code",
      "metadata": {
        "id": "wqtJpIj_68Bi",
        "colab_type": "code",
        "colab": {}
      },
      "source": [
        "norm_corpus_bigrams = [bigram_model[doc] for doc in norm_papers]"
      ],
      "execution_count": null,
      "outputs": []
    },
    {
      "cell_type": "code",
      "metadata": {
        "id": "5O3L_uz_KkY5",
        "colab_type": "code",
        "colab": {
          "base_uri": "https://localhost:8080/",
          "height": 54
        },
        "outputId": "9a9fcee6-4b1b-44c3-cd4a-b769ece15a8c"
      },
      "source": [
        "print(norm_corpus_bigrams[0])"
      ],
      "execution_count": 24,
      "outputs": [
        {
          "output_type": "stream",
          "text": [
            "['bit', 'serial', 'neural_network', 'alan', 'murray', 'anthony', 'smith', 'zoe', 'buffer', 'department_electrical', 'engineering_university', 'edinburgh', 'king', 'building', 'mayfield', 'road', 'edinburgh', 'scoff', 'eh9', '3jl', 'abstract', 'bit', 'serial', 'vlsi', 'neural_network', 'described', 'initial', 'architecture', 'synapse', 'array', 'silicon', 'layout', 'board', 'design', 'issue', 'surrounding', 'bit', 'serial', 'computation', 'analog_digital', 'arithmetic', 'discussed', 'parallel', 'development', 'hybrid', 'analog_digital', 'neural_network', 'outlined', 'learning', 'recall', 'capability', 'reported', 'bit', 'serial', 'network', 'along', 'projected', 'specification', 'neuron', 'bit', 'serial', 'board', 'operating', 'mhz', 'tech_nique', 'extended', 'synapsis', 'network', 'update', 'time', '3ms', 'using', 'paging', 'technique', 'time', 'multiplex', 'calculation', 'synapse', 'array', 'introduction', 'function', 'synthetic', 'neural_network', 'may', 'aspire', 'mimic', 'ability', 'con', 'sider', 'many', 'solution', 'simultaneously', 'ability', 'work', 'corrupted', 'data', 'natural', 'fault_tolerance', 'arises', 'parallelism', 'distributed', 'knowledge', 'representation', 'give_rise', 'gentle', 'degradation', 'fault', 'appear', 'func_tions', 'attractive', 'implementation', 'vlsi', 'wsi', 'example', 'natural', 'fault_tolerance', 'could', 'useful', 'silicon', 'wafer', 'imperfect', 'yield', 'network', 'degradation', 'approximately', 'proportional', 'non', 'functioning', 'silicon', 'area', 'cast', 'neural_network', 'engineering', 'language', 'neuron', 'state', 'machine', 'either', 'general', 'assumes', 'intermediate', 'state', 'switch', 'smoothly', 'extremum', 'synapsis', 'weighting', 'signal', 'transmitting', 'neuron', 'le', 'excitatory_inhibitory', 'receiv', 'ing', 'neuron', 'set', 'synaptic', 'weight', 'determines', 'stable', 'state', 'represents', 'learned', 'information', 'system', 'neural', 'state', 'vi', 'related', 'total', 'neural', 'activity', 'stimulated', 'input', 'neuron', 'activation', 'function', 'neural', 'activity', 'level', 'excita', 'tion', 'neuron', 'activation', 'way', 'reacts', 'response', 'change', 'activation', 'neural', 'output', 'state', 'time', 'related', 'activation', 'function', 'squashing_function', 'ensuring', 'say', 'vi', 'xi', 'large', 'xi', 'small', 'neural', 'update', 'function', 'therefore', 'straight_forward', 'represents', 'rate', 'change', 'neural', 'activity', 'tq', 'synaptic', 'weight', 'number', 'term', 'giving', 'neuron', 'array', 'although', 'neural', 'function', 'simple', 'enough', 'totally', 'interconnected', 'neu_ron', 'network', 'synapsis', 'requiring', 'multiplication', 'summation', 'american_institute', 'physic', 'large', 'number', 'interconnects', 'challenge', 'vlsi', 'therefore', 'design', 'sim', 'ple', 'compact', 'synapse', 'repeated', 'build', 'vlsi', 'neural_network', 'manageable', 'interconnect', 'network', 'fixed', 'functionality', 'relatively', 'straightforward', 'network', 'able_learn', 'however', 'synaptic', 'weight', 'must', 'programmable', 'therefore', 'complicated', 'designing', 'neural_network', 'vlsi', 'fundamentally', 'two', 'approach', 'implementing', 'function', 'silicon', 'digital', 'analog', 'technique', 'ha', 'advantage', 'disadvantage', 'listed', 'along', 'merit', 'demerit', 'bit', 'serial', 'architecture', 'digital', 'synchronous', 'system', 'digital', 'analog', 'primary', 'advantage', 'digital', 'design', 'synapse', 'array', 'digital', 'memory', 'well_understood', 'incorporated', 'easily', 'learning', 'network', 'therefore', 'possible', 'without', 'recourse', 'unusual', 'technique', 'technolo', 'gy', 'strength', 'digital', 'approach', 'design', 'technique', 'advanced', 'automated', 'well_understood', 'noise', 'immunity', 'computational', 'speed', 'high', 'unattractive', 'feature', 'digital', 'circuit', 'complexity', 'need', 'synchronous', 'state', 'activity', 'quantised', 'real', 'neural_network', 'asynchronous', 'unquantised', 'furthermore', 'digital', 'multiplier', 'occupy', 'large', 'silicon', 'area', 'giving', 'low', 'synapse', 'count', 'single', 'chip', 'advantage', 'analog', 'circuitry', 'asynchronous', 'behaviour', 'smooth', 'neural', 'activation', 'automatic', 'circuit', 'element', 'small', 'noise', 'immunity', 'relatively', 'low', 'arbitrarily', 'high', 'precision', 'possible', 'importantly', 'reliable', 'analog', 'non_volatile', 'memory', 'technology', 'yet', 'readily', 'available', 'reason', 'learning', 'network', 'lend', 'naturally', 'digital', 'design', 'implementation', 'several', 'group', 'developing', 'neural', 'chip', 'board', 'following', 'listing', 'doe', 'pretend', 'exhaustive', 'included', 'rather', 'indicate', 'spread', 'activity', 'field', 'analog', 'technique', 'used', 'build', 'resistor', 'opera', 'tional', 'amplifier', 'network', 'similar', 'proposed', 'hopfield_tank', 'large', 'group', 'caltech', 'developing', 'network', 'implementing', 'early_vision', 'auditory', 'processing', 'function', 'using', 'intrinsic', 'nonlinearities', 'mo_transistor', 'subthreshold', 'regime', 'problem', 'implementing', 'analog', 'network', 'electrically', 'programmable', 'synapsis', 'ha', 'addressed', 'using', 'ccd', 'mnos', 'technol', 'ogy', 'finally', 'garth', 'developing', 'digital', 'neural', 'accelerator', 'board', 'let', 'sire', 'effectively', 'fast', 'simd', 'processor', 'supporting', 'memory', 'com', 'munications', 'chip', 'bit', 'serial', 'bit', 'parallel', 'bit', 'serial', 'arithmetic', 'communication', 'efficient', 'computational', 'process', 'allowing', 'good', 'communication', 'within', 'vlsi_chip', 'tightly', 'pipelined', 'arithmetic', 'structure', 'ideal', 'neural_net', 'work', 'minimises', 'interconnect', 'requirement', 'eliminating', 'multi', 'wire', 'bus', 'although', 'bit', 'parallel', 'design', 'would', 'free', 'computational', 'latency', 'delay', 'input', 'output', 'pipelining', 'make', 'optimal', 'use', 'high', 'bit', 'rate', 'possible', 'serial', 'systernx', 'make', 'efficient', 'circuit', 'usage', 'asynchronous', 'pulse_stream', 'vlsi', 'neural_network', 'addition', 'digital', 'system', 'form', 'substance', 'paper', 'developing', 'hybrid', 'analog_digital', 'network', 'family', 'work', 'outlined', 'ha', 'reported', 'greater', 'detail', 'elsewhere', 'generic', 'logical', 'layout', 'architecture', 'single', 'network', 'totally', 'interconnected', 'neuron', 'shown', 'schematically', 'figure', 'neuron', 'represented', 'circle', 'signal', 'state', 'vi', 'upward', 'matrix', 'synaptic', 'operator', 'state', 'signal', 'con', 'neeted', 'bit', 'horizontal', 'bus', 'running', 'synaptic', 'array', 'con', 'nection', 'synaptic', 'operator', 'every', 'column', 'column', 'operator', 'denoted', 'square', 'operator', 'add', 'synaptic', 'contribution', 'vj', 'running', 'total', 'activity', 'neuron', 'foot', 'column', 'synaptic', 'function', 'therefore', 'multiply', 'signalling', 'neuron', 'state', 'vi', 'synaptic', 'weight', 't0', 'add', 'product', 'running', 'total', 'architecture', 'com', 'mon', 'bit', 'serial', 'pulse_stream', 'network', '_1', 'synapse', 'state', 'vj', 'neuron', 'figure', 'generic', 'architecture', 'network', 'totally', 'interconnected', 'neuron', 'type', 'architecture', 'ha', 'many', 'attraction', 'implementation', 'dimensional', 'silicon', 'summation', 'distributed', 'space', 'interconnect', 'requirement', 'input', 'neuron', 'therefore', 'distributed', 'column', 'reducing', 'need', 'long_range', 'wiring', 'architecture', 'modular', 'regular', 'easily', 'expanded', 'hybrid', 'analog_digital', 'system', 'circuitry', 'us', 'pulse_stream', 'signalling', 'method', 'similar', 'natural', 'neural', 'system', 'neuron', 'indicate', 'state', 'presence_absence', 'pulse', 'output', 'synapfic', 'weighting', 'achieved', 'time', 'chopping', 'presynaptic', 'pulse_stream', 'prior', 'adding', 'postsynaptic', 'activity', 'summation', 'therefore', 'asynchronous', 'imposes', 'fun', 'damental', 'limitation', 'activation', 'neural', 'state', 'figure_show', 'pulse_stream', 'mechanism', 'detail', 'synaptic', 'weight', 'stored', 'digital', 'memory', 'local', 'operator', 'synaptic', 'operator', 'ha', 'excitatory_inhibitory', 'pulse_stream', 'input', 'output', 'resultant', 'product', 'synaptic', 'operation', 'added', 'running', 'total', 'propagating', 'either', 'excitatory_inhibitory', 'channel', 'one', 'binary', 'bit', 'msbit', 'stored', 'determines', 'whether', 'con', 'tribution', 'excitatory_inhibitory', 'incoming', 'excitatory_inhibitory', 'pulse_stream', 'input', 'neuron', 'integrated', 'give', 'neural', 'activation', 'potential', 'varies', 'smoothly', 'potential', 'control', 'feedback_loop', 'odd', 'number', 'logic', 'inversion', 'exe', 'znh', 'exe', 'yi', 'figure', 'pulse_stream', 'arithmetic', 'neuron', 'denoted', 'synaptic', 'operator', 'bye', 'thus', 'form', 'switched', 'ring', 'oscillator', 'inhibitory', 'input', 'dominates', 'feed_back', 'loop', 'broken', 'excitatory', 'spike', 'subsequently', 'dominate', 'input', 'neural', 'activity', 'rise', '5v', 'feedback_loop', 'oscillates', 'period', 'determined', 'delay', 'around', 'loop', 'resultant', 'periodic', 'waveform', 'converted', 'series', 'voltage', 'spike', 'whose', 'pulse', 'rate', 'represents', 'neural', 'state', 'vi', 'interest', 'ingly', 'dissimilar', 'technique', 'reported', 'elsewhere', 'volume', 'although', 'synapse', 'function', 'executed', 'differently', 'state', 'bit', 'serial', 'neural_network', 'overall', 'architecture', 'state', 'bit', 'serial', 'neural_network', 'identical', 'pulse_stream', 'network', 'array', 'interconnected', 'synchronous', 'synaptic', 'operator', 'whereas', 'pulse_stream', 'method', 'allowed', 'vi', 'assume', 'value', 'state', 'network', 'vj', 'constrained', 'resultant', 'activation', 'function', 'shown_figure', 'full', 'digital', 'multiplica', 'tion', 'costly', 'silicon', 'area', 'multiplication', 'vj', 'merely', 'requires', 'synaptic', 'weight', 'right', 'shifted', 'bit', 'similarly', 'multiplication', 'involves', 'right', 'shift', 'multiplication', 'trivially', 'easy', 'vj', 'problematic', 'switchable', 'adder', 'subtractor', 'much', 'complex', 'adder', 'five', 'neural', 'state', 'therefore', 'feasible', 'circuitry', 'slightly', 'complex', 'simple', 'serial', 'adder', 'neural', 'state', 'expands', 'bit', 'bit', 'state', 'representation', 'bit', 'represent', 'add', 'subtract', 'shift', 'multiply', 'figure_show', 'part', 'synaptic', 'array', 'synaptic', 'operator', 'includes', 'bit', 'shift_register', 'memory', 'block', 'holding', 'synaptic', 'weight', 'bit', 'bus', 'neural', 'state', 'run', 'horizontally', 'synaptic', 'row', 'single', 'phase', 'dynamic', 'cmos', 'ha', 'used', 'clock', 'frequency', 'excess', 'mhz', 'detail', 'synaptic', 'operator', 'shown_figure', 'synaptic', 'weight', 'cycle', 'around', 'shift_register', 'neural', 'state', 'vj', 'present', 'state', 'bus', 'first', 'clock_cycle', 'synaptic', 'weight', 'multiplied', 'neural', 'state', 'second', 'significant', 'bit', 'msbit', 'resultant', 'vj', 'sign', 'extended', 'threshold', 'sme', 'aclivry', 'state', 'vj', 'harper', 'state', 'sigm', 'activity', 'xj', 'figure', 'hard', 'threshold', 'state', 'sigmoid', 'activation', 'function', 'itsjv', 'figure', 'section', 'synaptic', 'array', 'state', 'activation', 'function', 'neural_net', 'work', 'bit', 'allow', 'word', 'growth', 'running', 'summation', 'least', 'significant', 'bit', 'lsbit', 'signal', 'running', 'synaptic', 'column', 'indicates', 'arrival', 'lsbit', 'xi', 'running', 'total', 'neural', 'state', 'synaptic', 'weight', 'right', 'shined', 'bit', 'added', 'subtracted', 'running', 'total', 'multipli', 'cation', 'add', 'subtracts', 'weight', 'total', 'multiplication', 'add', 'subtract', 'add', 'subtract', 'itiiv', 'figure', 'synaptic', 'operator', 'state', 'activation', 'function', 'doe', 'alter', 'running', 'summation', 'final', 'summation', 'foot', 'column', 'thresholded', 'externally', 'according', 'state', 'activation', 'function', 'figure', 'neuron', 'activity', 'xj', 'increase', 'threshold', 'value', 'ideal', 'sigmoidal', 'activation', 'represents', 'smooth', 'switch', 'neural', 'state', 'state', 'staircase', 'function', 'give', 'superficially', 'much_better', 'approximation', 'sigrnoid', 'ment', 'threshold', 'function', 'sharpness', 'tune', 'neural', 'dynamic', 'learning', 'referred', 'temperature', 'analogy', 'form', 'high', 'temperature', 'give', 'smoother', 'form', 'much_simpler', 'imple', 'transition', 'controlled', 'computation', 'control', 'parameter', 'statistical', 'function', 'sigmoidal', 'staircase', 'sigrnoid', 'tempera', 'ture', 'reduces', 'iopfield', 'like', 'threshold', 'function', 'effect', 'temperature', 'learning', 'recall', 'threshold', 'state', 'activation', 'option', 'discussed_section', 'learning', 'recall', 'vlsi', 'constraint', 'implementing', 'reduced', 'arithmetic', 'network', 'vlsi', 'simulation', 'experi_ments', 'conducted', 'verify', 'state', 'model', 'represented', 'worthwhile', 'enhancement', 'simple', 'threshold', 'activation', 'qaenchmark', 'problem', 'wa', 'chosen', 'ubiquitousness', 'rather', 'intrinsic', 'value', 'implication', 'learning', 'recall', 'state', 'model', 'threshold', 'state', 'model', 'smooth', 'sigrnoidal', 'activation', 'state', 'compared', 'varying', 'temperature', 'restricted', 'dynamic', 'range', 'weight', 'simulation', 'totally', 'interconnected', 'node', 'network', 'attempted', 'learn', 'random', 'pattern', 'using', 'delta_rule', 'learning', 'algorithm', 'see', 'example', 'pattern', 'wa', 'cor', 'rupted', 'noise', 'recall', 'attempted', 'probe', 'content_addressable', 'memory', 'property', 'three', 'different', 'activation', 'option', 'learning', 'individual', 'weight', 'become', 'large', 'positive_negative', 'weight', 'driven', 'beyond', 'maximum', 'value', 'hardware_implementation', 'determined', 'size', 'synaptic', 'weight', 'block', 'limiting', 'mechanism', 'must', 'introduced', 'example', 'eight', 'bit', 'weight', 'register', 'limitation', 'tii', 'integer', 'weight', 'seen', 'prob_lem', 'dynamic', 'range', 'relafonship', 'smallest', 'possible', 'weight', 'largest', 'issue', 'result', 'fig', 'show', 'example', 'result', 'obtained', 'studying', 'learning', 'using', 'state', 'activation', 'different', 'temperature', 'recall', 'using', 'state', 'thres', 'hold', 'activation', 'temperature', 'state', 'threshold', 'model', 'degenerate', 'result', 'identical', 'increasing', 'smoothness', 'activation', 'tempera', 'ture', 'learning', 'improves', 'quality', 'learning', 'regardless', 'activation', 'function', 'used', 'recall', 'pattern', 'recognised', 'succeasfully', 'using', 'state', 'activation', 'recall', 'effective', 'simple', 'threshold', 'activation', 'effect', 'dynamic', 'range', 'restriction', 'assessed', 'horizontal_axis', 'shown', 'result', 'many', 'experiment', 'may', 'summarised', 'follows', 'stste', 'activation', 'threshold', 'learning', 'state', 'activation', 'wa', 'protracted', 'threshold', 'activation', 'binary', 'pattern', 'learnt', 'inclusion', 'intermediate', 'value', 'added', 'extra', 'degree_freedom', 'weight', 'set', 'learnt', 'using', 'state', 'activation', 'function', 'etter', 'learnt', 'via', 'threshold', 'activation', 'recall', 'property', 'state', 'threshold', 'network', 'using', 'weight', 'set', 'robust', 'noise', 'full', 'sigmoidal', 'activation', 'wa', 'better', 'state', 'enhancement', 'wa', 'le', 'significant', 'incurred', 'moving', 'threshold', 'state', 'suggests', 'law', 'diminishing', 'return', 'applies', 'addition', 'level', 'neural', 'state', 'vj', 'issue', 'ha', 'studied', 'mathematically', 'result', 'agree', 'qualitatively', 'weight', 'saturation', 'three', 'method', 'tried', 'deal', 'weight', 'saturation', 'firstly', 'inclusion', 'decay', 'forgetting', 'term', 'wa', 'included', 'learning', 'cycle', 'view', 'technique', 'produce', 'desired', 'weight', 'limiting', 'property', 'time', 'available', 'experiment', 'unable', 'tune', 'rate', 'decay', 'sufficiently', 'well', 'confirm', 'renormalisafion', 'weight', 'division', 'bring', 'large', 'weight', 'back', 'dynamic', 'range', 'wa', 'unsuccessful', 'suggesting', 'information', 'distributed', 'throughout', 'numerically', 'small', 'weight', 'wa', 'destroyed', 'finally', 'weight', 'allowed', 'clip', 'ie', 'weight', 'outside', 'dynamic', 'range', 'wa', 'set', 'maximum', 'allowed', 'value', 'method', 'proved', 'successful', 'learn_ing', 'algorithm', 'adjusted', 'weight', 'still', 'control', 'compensate', 'saturation', 'effect', 'interesting_note', 'experiment', 'indicated', 'hopfield', 'net', 'forget', 'different', 'way', 'different', 'learning', 'control', 'giving', 'preference', 'recently', 'acquired', 'memory', 'result', 'satura', 'tion', 'experiment', 'pattern', 'node', 'problem', 'integer', 'weight', 'dynamic', 'range', 'greater', 'necessary', 'give', 'enough', 'storage', 'capability', 'weight', 'maximum', 'value', 'ti', 'clipping', 'occurs', 'net_work', 'performance', 'seriously', 'degraded', 'unrestricted', 'weight', 'set', 'limit', 'state', 'activation', 'function', 'recall', 'limit', 'hopfield', 'activation', 'function', 'recall', 'figure', 'recall', 'pattern', 'learned', 'state', 'activation', 'function', 'subse', 'quently', 'restored', 'using', 'state', 'hard', 'threshold', 'activation', 'function', 'temperature', 'smoothness', 'activation', 'function', 'limit', 'value', 'result', 'showed', 'state', 'model', 'wa', 'worthy', 'implementation', 'vlsi', 'neural', 'board', 'suggested', 'bit', 'weight', 'sufficient', 'projected', 'specification', 'hardware', 'neural', 'board', 'specification', 'neuron', 'board', 'given', 'using', 'state', 'bit', 'serial', 'synapse', 'array', 'derated', 'clock', 'speed', 'mhz', 'synaptic', 'weight', 'bit', 'word', 'word', 'length', 'running', 'summation', 'bit', 'allow', 'growth', 'synapse', 'column', 'ha', 'computational', 'latency', 'clock_cycle', 'bit', 'giving', 'update', 'time', 'network', 'time', 'load', 'weight', 'array', 'limited', 'supporting', 'ram', 'access', 'time', '120ns', 'load', 'update', 'time', 'mean', 'network', 'executing', 'operation', 'second', 'one', 'operation', 'jvj', 'much_faster', 'natural', 'neural_network', 'much_faster', 'necessary', 'hardware', 'accelera', 'tor', 'therefore', 'developed', 'paging', 'architecture', 'effectively', 'trade', 'excessive', 'speed', 'increased', 'network', 'size', 'moving', 'patch', 'neural', 'board', 'array', 'state', 'synapsis', 'currently', 'fabricated', 'vlsi', 'integrated_circuit', 'shift_register', 'adder', 'subtractor', 'synapse', 'occupy', 'disappointingly', 'large', 'silicon', 'area', 'allow', 'ing', 'synaptic', 'array', 'achieve', 'suitable', 'size', 'neural_network', 'array', 'several', 'chip', 'need', 'included', 'board', 'memory', 'control', 'circu', 'itry', 'moving', 'patch', 'concept', 'shown_figure', 'small', 'array', 'synapsis', 'passed', 'much_larger', 'synaptic', 'array', 'time', 'array', 'moved', 'represent', 'another', 'set', 'synapsis', 'new', 'weight', 'must', 'loaded', 'example', 'first', 'set', 'weight', 'tu', 't2j', 'second', 'set', 'tj', 'etc', 'final', 'weight', 'loaded', 'oooo', 'neuron', 'nxn', 'synaptic', 'array', 'small', 'patch', 'move', 'array', 'figure', 'moving', 'patch', 'concept', 'passing', 'small', 'synaptic', 'oatch', 'larger', 'nxn', 'synapse', 'array', 'static', 'shelf', 'ram', 'used', 'store', 'weight', 'whole', 'opera', 'tion', 'pipelined', 'maximum', 'efficiency', 'figure_show', 'board', 'level', 'design', 'network', 'synaptic', 'accelerator', 'chip', 'host', 'figure', 'moving', 'patch', 'neural_network', 'board', 'small', 'patch', 'move', 'around', 'array', 'give', 'neuron', 'comprises', 'vlsi', 'synaptic', 'accelerator', 'chip', 'give', 'synaptic', 'array', 'number', 'neuron', 'simulated', 'weight', 'stored', 'mb', 'ram', 'load', 'time', '8ms', 'patch', 'movement', 'partial', 'runninz', 'summatin', 'calculated', 'column', 'stored', 'separate', 'ram', 'required', 'added', 'next', 'appropriate', 'summation', 'update', 'time', 'board', '3ms', 'giving', 'operation', 'second', 'slower', 'neuron', 'specification', 'network', 'time', 'larger', 'arithmetic', 'element', 'used', 'efficiently', 'achieve', 'network', 'greater', 'neuron', 'ram', 'required', 'store', 'weight', 'network', 'slower', 'unless', 'larger', 'number', 'accelerator', 'chip', 'used', 'give', 'larger', 'moving', 'patch', 'conclusion', 'strategy', 'design', 'method', 'ha', 'given', 'construction', 'bit', 'serial', 'vlsi', 'neural_network', 'chip', 'circuit', 'board', 'bit', 'serial', 'arithmetic', 'coupled', 'reduced', 'arithmetic', 'style', 'enhances', 'level', 'integration', 'possible', 'beyond', 'conventional', 'digital', 'bit', 'parallel', 'scheme', 'restriction', 'imposed', 'synal', 'tic', 'weight', 'size', 'arithmetic', 'precision', 'vlsi', 'constraint', 'examined', 'shown', 'tolerable', 'using', 'associative_memory', 'problem', 'test', 'believe', 'digital', 'approach', 'represent', 'good', 'compromise', 'arithmetic', 'accuracy', 'circuit', 'complexity', 'acknowledge', 'level', 'integration', 'disappoinfingly', 'low', 'belief', 'digital', 'approach', 'may', 'interesting', 'useful', 'medium', 'term', 'essentially', 'hardware', 'accelera', 'tor', 'neural', 'simulation', 'analog', 'technique', 'represent', 'best', 'ultimate', 'option', 'dimensional', 'silicon', 'end', 'currently', 'pursuing', 'technique', 'analog', 'pseudo', 'static', 'memory', 'using', 'standard', 'cmos_technology', 'event', 'full', 'development', 'nonvolatile', 'analog', 'memory', 'technology', 'mnos', 'tech_nique', 'key', 'long_term', 'future', 'vlsi', 'neural_net', 'learn', 'acknowledgement_author', 'acknowledge_support', 'science_engineering', 'research_council', 'uk', 'execution', 'work', 'reference', 'grossberg', 'physiological', 'biochemical', 'consequence', 'psycho', 'logical', 'postulate', 'proc_natl', 'acad_sci', 'usa', 'vol_pp', 'graf', 'jackel', 'howard', 'straughn', 'denker', 'hubbard', 'tennant', 'schwartz', 'vlsi_implementation', 'neural_network', 'memory', 'several_hundred', 'neuron', 'proc', 'alp', 'conference', 'neural_network', 'computing', 'snowbird', 'pp', 'mackie', 'graf', 'denker', 'microelectronic', 'implementa', 'tion', 'connectionist', 'neural_network', 'model', 'ieee', 'conference', 'neural', 'information_processing', 'system', 'denver', 'hopfield_tank', 'neural_computation', 'decision', 'optim', 'isation', 'problem', 'biol_cybern', 'vol_pp', 'sivilotti', 'mahowald_mead', 'real_time', 'visual', 'com', 'putations', 'using', 'analog', 'cmos', 'processing', 'array', 'published', 'mead', 'network', 'real_time', 'sensory', 'processing', 'ieee', 'confer_ence', 'neural', 'information_processing', 'system', 'denver', 'sage', 'thompson', 'withers', 'artificial_neural', 'network', 'integrated_circuit', 'based', 'mnos', 'ccd', 'principle', 'proc', 'aip', 'conference', 'neural_network', 'computing', 'snowbird', 'pp', 'garth', 'chipset', 'high_speed', 'simulation', 'neural_network', 'sys_tems', 'ieee', 'conference', 'neural_network', 'san_diego', 'murray', 'smith', 'novel', 'computational', 'signalling', 'method', 'vlsi', 'neural_network', 'european', 'solid', 'state', 'circuit', 'conference', 'murray', 'smith', 'asynchronous', 'arithmetic', 'vlsi', 'neural', 'system', 'electronics', 'letter', 'vol', 'june', 'murray', 'smith', 'asynchronous', 'vlsi', 'neural_network', 'using', 'pulse_stream', 'arithmetic', 'ieee', 'journal', 'solid', 'state', 'circuit', 'sys_tems', 'published', 'gaspar', 'pulsed', 'neural_network', 'hardware', 'software', 'hop_field', 'afd', 'converter', 'example', 'ieee', 'conference', 'neural', 'information', 'pro_cessing', 'system', 'denver', 'mcgregor', 'denyet', 'murray', 'single', 'phase', 'clock', 'ing', 'scheme', 'cmos', 'vlsi', 'advanced_research', 'vlsi', 'proceeding', 'stanford', 'conference', 'rumelhart_hinton', 'williams', 'learning', 'internal_representation', 'error', 'propagation', 'parallel_distributed', 'processing_exploration', 'microstructure_cognition', 'vol_pp', 'fleisher', 'levin', 'hopfiled', 'model', 'multilevel', 'neuron', 'model', 'ieee', 'conference', 'neural', 'information_processing', 'system', 'denver', 'parisi', 'memory', 'forgets', 'phys_math', 'gert', 'vol_pp', 'l617', 'l620']\n"
          ],
          "name": "stdout"
        }
      ]
    },
    {
      "cell_type": "code",
      "metadata": {
        "id": "lSGbc1v6KnJa",
        "colab_type": "code",
        "colab": {
          "base_uri": "https://localhost:8080/",
          "height": 34
        },
        "outputId": "a8191ae2-0509-4b20-c7c7-6f7da4de57ec"
      },
      "source": [
        "# Create a dictionary representation of the documents.\n",
        "# Dictionary encapsulates the mapping between normalized words and their integer ids.\n",
        "dictionary = gensim.corpora.Dictionary(norm_corpus_bigrams)\n",
        "dictionary"
      ],
      "execution_count": 25,
      "outputs": [
        {
          "output_type": "execute_result",
          "data": {
            "text/plain": [
              "<gensim.corpora.dictionary.Dictionary at 0x7fd7e5c71f60>"
            ]
          },
          "metadata": {
            "tags": []
          },
          "execution_count": 25
        }
      ]
    },
    {
      "cell_type": "code",
      "metadata": {
        "id": "CBf0W2dEKYoy",
        "colab_type": "code",
        "colab": {
          "base_uri": "https://localhost:8080/",
          "height": 71
        },
        "outputId": "91fce874-d9a6-412b-e4d1-8ad648fbcfe2"
      },
      "source": [
        "print('Sample word to number mappings:', list(dictionary.items())[:15])\n",
        "print('Total Vocabulary Size:', len(dictionary))"
      ],
      "execution_count": 26,
      "outputs": [
        {
          "output_type": "stream",
          "text": [
            "Sample word to number mappings: [(0, '120ns'), (1, '3jl'), (2, '3ms'), (3, '5v'), (4, '8ms'), (5, '_1'), (6, 'ability'), (7, 'able_learn'), (8, 'abstract'), (9, 'acad_sci'), (10, 'accelera'), (11, 'accelerator'), (12, 'access'), (13, 'according'), (14, 'accuracy')]\n",
            "Total Vocabulary Size: 78892\n"
          ],
          "name": "stdout"
        }
      ]
    },
    {
      "cell_type": "code",
      "metadata": {
        "id": "hcT0I_6t68Bl",
        "colab_type": "code",
        "colab": {
          "base_uri": "https://localhost:8080/",
          "height": 71
        },
        "outputId": "6d00d614-936d-4f99-c561-cd3b0f472098"
      },
      "source": [
        "# Filter out words that occur less than 20 documents, or more than 50% of the documents.\n",
        "dictionary.filter_extremes(no_below=20, no_above=0.6)\n",
        "print('Sample word to number mappings:', list(dictionary.items())[:15])\n",
        "print('Total Vocabulary Size:', len(dictionary))"
      ],
      "execution_count": 27,
      "outputs": [
        {
          "output_type": "stream",
          "text": [
            "Sample word to number mappings: [(0, '5v'), (1, '_1'), (2, 'ability'), (3, 'able_learn'), (4, 'abstract'), (5, 'acad_sci'), (6, 'access'), (7, 'according'), (8, 'accuracy'), (9, 'achieve'), (10, 'achieved'), (11, 'acknowledge'), (12, 'acknowledgement_author'), (13, 'acquired'), (14, 'activation')]\n",
            "Total Vocabulary Size: 7756\n"
          ],
          "name": "stdout"
        }
      ]
    },
    {
      "cell_type": "markdown",
      "metadata": {
        "id": "5-qRInvPMuw4",
        "colab_type": "text"
      },
      "source": [
        "Explain dictionary"
      ]
    },
    {
      "cell_type": "code",
      "metadata": {
        "id": "MvUvB8OpM83U",
        "colab_type": "code",
        "colab": {
          "base_uri": "https://localhost:8080/",
          "height": 54
        },
        "outputId": "4f3f0421-79a2-4807-c77b-fa075beec336"
      },
      "source": [
        "print(norm_corpus_bigrams[:1])"
      ],
      "execution_count": 37,
      "outputs": [
        {
          "output_type": "stream",
          "text": [
            "[['bit', 'serial', 'neural_network', 'alan', 'murray', 'anthony', 'smith', 'zoe', 'buffer', 'department_electrical', 'engineering_university', 'edinburgh', 'king', 'building', 'mayfield', 'road', 'edinburgh', 'scoff', 'eh9', '3jl', 'abstract', 'bit', 'serial', 'vlsi', 'neural_network', 'described', 'initial', 'architecture', 'synapse', 'array', 'silicon', 'layout', 'board', 'design', 'issue', 'surrounding', 'bit', 'serial', 'computation', 'analog_digital', 'arithmetic', 'discussed', 'parallel', 'development', 'hybrid', 'analog_digital', 'neural_network', 'outlined', 'learning', 'recall', 'capability', 'reported', 'bit', 'serial', 'network', 'along', 'projected', 'specification', 'neuron', 'bit', 'serial', 'board', 'operating', 'mhz', 'tech_nique', 'extended', 'synapsis', 'network', 'update', 'time', '3ms', 'using', 'paging', 'technique', 'time', 'multiplex', 'calculation', 'synapse', 'array', 'introduction', 'function', 'synthetic', 'neural_network', 'may', 'aspire', 'mimic', 'ability', 'con', 'sider', 'many', 'solution', 'simultaneously', 'ability', 'work', 'corrupted', 'data', 'natural', 'fault_tolerance', 'arises', 'parallelism', 'distributed', 'knowledge', 'representation', 'give_rise', 'gentle', 'degradation', 'fault', 'appear', 'func_tions', 'attractive', 'implementation', 'vlsi', 'wsi', 'example', 'natural', 'fault_tolerance', 'could', 'useful', 'silicon', 'wafer', 'imperfect', 'yield', 'network', 'degradation', 'approximately', 'proportional', 'non', 'functioning', 'silicon', 'area', 'cast', 'neural_network', 'engineering', 'language', 'neuron', 'state', 'machine', 'either', 'general', 'assumes', 'intermediate', 'state', 'switch', 'smoothly', 'extremum', 'synapsis', 'weighting', 'signal', 'transmitting', 'neuron', 'le', 'excitatory_inhibitory', 'receiv', 'ing', 'neuron', 'set', 'synaptic', 'weight', 'determines', 'stable', 'state', 'represents', 'learned', 'information', 'system', 'neural', 'state', 'vi', 'related', 'total', 'neural', 'activity', 'stimulated', 'input', 'neuron', 'activation', 'function', 'neural', 'activity', 'level', 'excita', 'tion', 'neuron', 'activation', 'way', 'reacts', 'response', 'change', 'activation', 'neural', 'output', 'state', 'time', 'related', 'activation', 'function', 'squashing_function', 'ensuring', 'say', 'vi', 'xi', 'large', 'xi', 'small', 'neural', 'update', 'function', 'therefore', 'straight_forward', 'represents', 'rate', 'change', 'neural', 'activity', 'tq', 'synaptic', 'weight', 'number', 'term', 'giving', 'neuron', 'array', 'although', 'neural', 'function', 'simple', 'enough', 'totally', 'interconnected', 'neu_ron', 'network', 'synapsis', 'requiring', 'multiplication', 'summation', 'american_institute', 'physic', 'large', 'number', 'interconnects', 'challenge', 'vlsi', 'therefore', 'design', 'sim', 'ple', 'compact', 'synapse', 'repeated', 'build', 'vlsi', 'neural_network', 'manageable', 'interconnect', 'network', 'fixed', 'functionality', 'relatively', 'straightforward', 'network', 'able_learn', 'however', 'synaptic', 'weight', 'must', 'programmable', 'therefore', 'complicated', 'designing', 'neural_network', 'vlsi', 'fundamentally', 'two', 'approach', 'implementing', 'function', 'silicon', 'digital', 'analog', 'technique', 'ha', 'advantage', 'disadvantage', 'listed', 'along', 'merit', 'demerit', 'bit', 'serial', 'architecture', 'digital', 'synchronous', 'system', 'digital', 'analog', 'primary', 'advantage', 'digital', 'design', 'synapse', 'array', 'digital', 'memory', 'well_understood', 'incorporated', 'easily', 'learning', 'network', 'therefore', 'possible', 'without', 'recourse', 'unusual', 'technique', 'technolo', 'gy', 'strength', 'digital', 'approach', 'design', 'technique', 'advanced', 'automated', 'well_understood', 'noise', 'immunity', 'computational', 'speed', 'high', 'unattractive', 'feature', 'digital', 'circuit', 'complexity', 'need', 'synchronous', 'state', 'activity', 'quantised', 'real', 'neural_network', 'asynchronous', 'unquantised', 'furthermore', 'digital', 'multiplier', 'occupy', 'large', 'silicon', 'area', 'giving', 'low', 'synapse', 'count', 'single', 'chip', 'advantage', 'analog', 'circuitry', 'asynchronous', 'behaviour', 'smooth', 'neural', 'activation', 'automatic', 'circuit', 'element', 'small', 'noise', 'immunity', 'relatively', 'low', 'arbitrarily', 'high', 'precision', 'possible', 'importantly', 'reliable', 'analog', 'non_volatile', 'memory', 'technology', 'yet', 'readily', 'available', 'reason', 'learning', 'network', 'lend', 'naturally', 'digital', 'design', 'implementation', 'several', 'group', 'developing', 'neural', 'chip', 'board', 'following', 'listing', 'doe', 'pretend', 'exhaustive', 'included', 'rather', 'indicate', 'spread', 'activity', 'field', 'analog', 'technique', 'used', 'build', 'resistor', 'opera', 'tional', 'amplifier', 'network', 'similar', 'proposed', 'hopfield_tank', 'large', 'group', 'caltech', 'developing', 'network', 'implementing', 'early_vision', 'auditory', 'processing', 'function', 'using', 'intrinsic', 'nonlinearities', 'mo_transistor', 'subthreshold', 'regime', 'problem', 'implementing', 'analog', 'network', 'electrically', 'programmable', 'synapsis', 'ha', 'addressed', 'using', 'ccd', 'mnos', 'technol', 'ogy', 'finally', 'garth', 'developing', 'digital', 'neural', 'accelerator', 'board', 'let', 'sire', 'effectively', 'fast', 'simd', 'processor', 'supporting', 'memory', 'com', 'munications', 'chip', 'bit', 'serial', 'bit', 'parallel', 'bit', 'serial', 'arithmetic', 'communication', 'efficient', 'computational', 'process', 'allowing', 'good', 'communication', 'within', 'vlsi_chip', 'tightly', 'pipelined', 'arithmetic', 'structure', 'ideal', 'neural_net', 'work', 'minimises', 'interconnect', 'requirement', 'eliminating', 'multi', 'wire', 'bus', 'although', 'bit', 'parallel', 'design', 'would', 'free', 'computational', 'latency', 'delay', 'input', 'output', 'pipelining', 'make', 'optimal', 'use', 'high', 'bit', 'rate', 'possible', 'serial', 'systernx', 'make', 'efficient', 'circuit', 'usage', 'asynchronous', 'pulse_stream', 'vlsi', 'neural_network', 'addition', 'digital', 'system', 'form', 'substance', 'paper', 'developing', 'hybrid', 'analog_digital', 'network', 'family', 'work', 'outlined', 'ha', 'reported', 'greater', 'detail', 'elsewhere', 'generic', 'logical', 'layout', 'architecture', 'single', 'network', 'totally', 'interconnected', 'neuron', 'shown', 'schematically', 'figure', 'neuron', 'represented', 'circle', 'signal', 'state', 'vi', 'upward', 'matrix', 'synaptic', 'operator', 'state', 'signal', 'con', 'neeted', 'bit', 'horizontal', 'bus', 'running', 'synaptic', 'array', 'con', 'nection', 'synaptic', 'operator', 'every', 'column', 'column', 'operator', 'denoted', 'square', 'operator', 'add', 'synaptic', 'contribution', 'vj', 'running', 'total', 'activity', 'neuron', 'foot', 'column', 'synaptic', 'function', 'therefore', 'multiply', 'signalling', 'neuron', 'state', 'vi', 'synaptic', 'weight', 't0', 'add', 'product', 'running', 'total', 'architecture', 'com', 'mon', 'bit', 'serial', 'pulse_stream', 'network', '_1', 'synapse', 'state', 'vj', 'neuron', 'figure', 'generic', 'architecture', 'network', 'totally', 'interconnected', 'neuron', 'type', 'architecture', 'ha', 'many', 'attraction', 'implementation', 'dimensional', 'silicon', 'summation', 'distributed', 'space', 'interconnect', 'requirement', 'input', 'neuron', 'therefore', 'distributed', 'column', 'reducing', 'need', 'long_range', 'wiring', 'architecture', 'modular', 'regular', 'easily', 'expanded', 'hybrid', 'analog_digital', 'system', 'circuitry', 'us', 'pulse_stream', 'signalling', 'method', 'similar', 'natural', 'neural', 'system', 'neuron', 'indicate', 'state', 'presence_absence', 'pulse', 'output', 'synapfic', 'weighting', 'achieved', 'time', 'chopping', 'presynaptic', 'pulse_stream', 'prior', 'adding', 'postsynaptic', 'activity', 'summation', 'therefore', 'asynchronous', 'imposes', 'fun', 'damental', 'limitation', 'activation', 'neural', 'state', 'figure_show', 'pulse_stream', 'mechanism', 'detail', 'synaptic', 'weight', 'stored', 'digital', 'memory', 'local', 'operator', 'synaptic', 'operator', 'ha', 'excitatory_inhibitory', 'pulse_stream', 'input', 'output', 'resultant', 'product', 'synaptic', 'operation', 'added', 'running', 'total', 'propagating', 'either', 'excitatory_inhibitory', 'channel', 'one', 'binary', 'bit', 'msbit', 'stored', 'determines', 'whether', 'con', 'tribution', 'excitatory_inhibitory', 'incoming', 'excitatory_inhibitory', 'pulse_stream', 'input', 'neuron', 'integrated', 'give', 'neural', 'activation', 'potential', 'varies', 'smoothly', 'potential', 'control', 'feedback_loop', 'odd', 'number', 'logic', 'inversion', 'exe', 'znh', 'exe', 'yi', 'figure', 'pulse_stream', 'arithmetic', 'neuron', 'denoted', 'synaptic', 'operator', 'bye', 'thus', 'form', 'switched', 'ring', 'oscillator', 'inhibitory', 'input', 'dominates', 'feed_back', 'loop', 'broken', 'excitatory', 'spike', 'subsequently', 'dominate', 'input', 'neural', 'activity', 'rise', '5v', 'feedback_loop', 'oscillates', 'period', 'determined', 'delay', 'around', 'loop', 'resultant', 'periodic', 'waveform', 'converted', 'series', 'voltage', 'spike', 'whose', 'pulse', 'rate', 'represents', 'neural', 'state', 'vi', 'interest', 'ingly', 'dissimilar', 'technique', 'reported', 'elsewhere', 'volume', 'although', 'synapse', 'function', 'executed', 'differently', 'state', 'bit', 'serial', 'neural_network', 'overall', 'architecture', 'state', 'bit', 'serial', 'neural_network', 'identical', 'pulse_stream', 'network', 'array', 'interconnected', 'synchronous', 'synaptic', 'operator', 'whereas', 'pulse_stream', 'method', 'allowed', 'vi', 'assume', 'value', 'state', 'network', 'vj', 'constrained', 'resultant', 'activation', 'function', 'shown_figure', 'full', 'digital', 'multiplica', 'tion', 'costly', 'silicon', 'area', 'multiplication', 'vj', 'merely', 'requires', 'synaptic', 'weight', 'right', 'shifted', 'bit', 'similarly', 'multiplication', 'involves', 'right', 'shift', 'multiplication', 'trivially', 'easy', 'vj', 'problematic', 'switchable', 'adder', 'subtractor', 'much', 'complex', 'adder', 'five', 'neural', 'state', 'therefore', 'feasible', 'circuitry', 'slightly', 'complex', 'simple', 'serial', 'adder', 'neural', 'state', 'expands', 'bit', 'bit', 'state', 'representation', 'bit', 'represent', 'add', 'subtract', 'shift', 'multiply', 'figure_show', 'part', 'synaptic', 'array', 'synaptic', 'operator', 'includes', 'bit', 'shift_register', 'memory', 'block', 'holding', 'synaptic', 'weight', 'bit', 'bus', 'neural', 'state', 'run', 'horizontally', 'synaptic', 'row', 'single', 'phase', 'dynamic', 'cmos', 'ha', 'used', 'clock', 'frequency', 'excess', 'mhz', 'detail', 'synaptic', 'operator', 'shown_figure', 'synaptic', 'weight', 'cycle', 'around', 'shift_register', 'neural', 'state', 'vj', 'present', 'state', 'bus', 'first', 'clock_cycle', 'synaptic', 'weight', 'multiplied', 'neural', 'state', 'second', 'significant', 'bit', 'msbit', 'resultant', 'vj', 'sign', 'extended', 'threshold', 'sme', 'aclivry', 'state', 'vj', 'harper', 'state', 'sigm', 'activity', 'xj', 'figure', 'hard', 'threshold', 'state', 'sigmoid', 'activation', 'function', 'itsjv', 'figure', 'section', 'synaptic', 'array', 'state', 'activation', 'function', 'neural_net', 'work', 'bit', 'allow', 'word', 'growth', 'running', 'summation', 'least', 'significant', 'bit', 'lsbit', 'signal', 'running', 'synaptic', 'column', 'indicates', 'arrival', 'lsbit', 'xi', 'running', 'total', 'neural', 'state', 'synaptic', 'weight', 'right', 'shined', 'bit', 'added', 'subtracted', 'running', 'total', 'multipli', 'cation', 'add', 'subtracts', 'weight', 'total', 'multiplication', 'add', 'subtract', 'add', 'subtract', 'itiiv', 'figure', 'synaptic', 'operator', 'state', 'activation', 'function', 'doe', 'alter', 'running', 'summation', 'final', 'summation', 'foot', 'column', 'thresholded', 'externally', 'according', 'state', 'activation', 'function', 'figure', 'neuron', 'activity', 'xj', 'increase', 'threshold', 'value', 'ideal', 'sigmoidal', 'activation', 'represents', 'smooth', 'switch', 'neural', 'state', 'state', 'staircase', 'function', 'give', 'superficially', 'much_better', 'approximation', 'sigrnoid', 'ment', 'threshold', 'function', 'sharpness', 'tune', 'neural', 'dynamic', 'learning', 'referred', 'temperature', 'analogy', 'form', 'high', 'temperature', 'give', 'smoother', 'form', 'much_simpler', 'imple', 'transition', 'controlled', 'computation', 'control', 'parameter', 'statistical', 'function', 'sigmoidal', 'staircase', 'sigrnoid', 'tempera', 'ture', 'reduces', 'iopfield', 'like', 'threshold', 'function', 'effect', 'temperature', 'learning', 'recall', 'threshold', 'state', 'activation', 'option', 'discussed_section', 'learning', 'recall', 'vlsi', 'constraint', 'implementing', 'reduced', 'arithmetic', 'network', 'vlsi', 'simulation', 'experi_ments', 'conducted', 'verify', 'state', 'model', 'represented', 'worthwhile', 'enhancement', 'simple', 'threshold', 'activation', 'qaenchmark', 'problem', 'wa', 'chosen', 'ubiquitousness', 'rather', 'intrinsic', 'value', 'implication', 'learning', 'recall', 'state', 'model', 'threshold', 'state', 'model', 'smooth', 'sigrnoidal', 'activation', 'state', 'compared', 'varying', 'temperature', 'restricted', 'dynamic', 'range', 'weight', 'simulation', 'totally', 'interconnected', 'node', 'network', 'attempted', 'learn', 'random', 'pattern', 'using', 'delta_rule', 'learning', 'algorithm', 'see', 'example', 'pattern', 'wa', 'cor', 'rupted', 'noise', 'recall', 'attempted', 'probe', 'content_addressable', 'memory', 'property', 'three', 'different', 'activation', 'option', 'learning', 'individual', 'weight', 'become', 'large', 'positive_negative', 'weight', 'driven', 'beyond', 'maximum', 'value', 'hardware_implementation', 'determined', 'size', 'synaptic', 'weight', 'block', 'limiting', 'mechanism', 'must', 'introduced', 'example', 'eight', 'bit', 'weight', 'register', 'limitation', 'tii', 'integer', 'weight', 'seen', 'prob_lem', 'dynamic', 'range', 'relafonship', 'smallest', 'possible', 'weight', 'largest', 'issue', 'result', 'fig', 'show', 'example', 'result', 'obtained', 'studying', 'learning', 'using', 'state', 'activation', 'different', 'temperature', 'recall', 'using', 'state', 'thres', 'hold', 'activation', 'temperature', 'state', 'threshold', 'model', 'degenerate', 'result', 'identical', 'increasing', 'smoothness', 'activation', 'tempera', 'ture', 'learning', 'improves', 'quality', 'learning', 'regardless', 'activation', 'function', 'used', 'recall', 'pattern', 'recognised', 'succeasfully', 'using', 'state', 'activation', 'recall', 'effective', 'simple', 'threshold', 'activation', 'effect', 'dynamic', 'range', 'restriction', 'assessed', 'horizontal_axis', 'shown', 'result', 'many', 'experiment', 'may', 'summarised', 'follows', 'stste', 'activation', 'threshold', 'learning', 'state', 'activation', 'wa', 'protracted', 'threshold', 'activation', 'binary', 'pattern', 'learnt', 'inclusion', 'intermediate', 'value', 'added', 'extra', 'degree_freedom', 'weight', 'set', 'learnt', 'using', 'state', 'activation', 'function', 'etter', 'learnt', 'via', 'threshold', 'activation', 'recall', 'property', 'state', 'threshold', 'network', 'using', 'weight', 'set', 'robust', 'noise', 'full', 'sigmoidal', 'activation', 'wa', 'better', 'state', 'enhancement', 'wa', 'le', 'significant', 'incurred', 'moving', 'threshold', 'state', 'suggests', 'law', 'diminishing', 'return', 'applies', 'addition', 'level', 'neural', 'state', 'vj', 'issue', 'ha', 'studied', 'mathematically', 'result', 'agree', 'qualitatively', 'weight', 'saturation', 'three', 'method', 'tried', 'deal', 'weight', 'saturation', 'firstly', 'inclusion', 'decay', 'forgetting', 'term', 'wa', 'included', 'learning', 'cycle', 'view', 'technique', 'produce', 'desired', 'weight', 'limiting', 'property', 'time', 'available', 'experiment', 'unable', 'tune', 'rate', 'decay', 'sufficiently', 'well', 'confirm', 'renormalisafion', 'weight', 'division', 'bring', 'large', 'weight', 'back', 'dynamic', 'range', 'wa', 'unsuccessful', 'suggesting', 'information', 'distributed', 'throughout', 'numerically', 'small', 'weight', 'wa', 'destroyed', 'finally', 'weight', 'allowed', 'clip', 'ie', 'weight', 'outside', 'dynamic', 'range', 'wa', 'set', 'maximum', 'allowed', 'value', 'method', 'proved', 'successful', 'learn_ing', 'algorithm', 'adjusted', 'weight', 'still', 'control', 'compensate', 'saturation', 'effect', 'interesting_note', 'experiment', 'indicated', 'hopfield', 'net', 'forget', 'different', 'way', 'different', 'learning', 'control', 'giving', 'preference', 'recently', 'acquired', 'memory', 'result', 'satura', 'tion', 'experiment', 'pattern', 'node', 'problem', 'integer', 'weight', 'dynamic', 'range', 'greater', 'necessary', 'give', 'enough', 'storage', 'capability', 'weight', 'maximum', 'value', 'ti', 'clipping', 'occurs', 'net_work', 'performance', 'seriously', 'degraded', 'unrestricted', 'weight', 'set', 'limit', 'state', 'activation', 'function', 'recall', 'limit', 'hopfield', 'activation', 'function', 'recall', 'figure', 'recall', 'pattern', 'learned', 'state', 'activation', 'function', 'subse', 'quently', 'restored', 'using', 'state', 'hard', 'threshold', 'activation', 'function', 'temperature', 'smoothness', 'activation', 'function', 'limit', 'value', 'result', 'showed', 'state', 'model', 'wa', 'worthy', 'implementation', 'vlsi', 'neural', 'board', 'suggested', 'bit', 'weight', 'sufficient', 'projected', 'specification', 'hardware', 'neural', 'board', 'specification', 'neuron', 'board', 'given', 'using', 'state', 'bit', 'serial', 'synapse', 'array', 'derated', 'clock', 'speed', 'mhz', 'synaptic', 'weight', 'bit', 'word', 'word', 'length', 'running', 'summation', 'bit', 'allow', 'growth', 'synapse', 'column', 'ha', 'computational', 'latency', 'clock_cycle', 'bit', 'giving', 'update', 'time', 'network', 'time', 'load', 'weight', 'array', 'limited', 'supporting', 'ram', 'access', 'time', '120ns', 'load', 'update', 'time', 'mean', 'network', 'executing', 'operation', 'second', 'one', 'operation', 'jvj', 'much_faster', 'natural', 'neural_network', 'much_faster', 'necessary', 'hardware', 'accelera', 'tor', 'therefore', 'developed', 'paging', 'architecture', 'effectively', 'trade', 'excessive', 'speed', 'increased', 'network', 'size', 'moving', 'patch', 'neural', 'board', 'array', 'state', 'synapsis', 'currently', 'fabricated', 'vlsi', 'integrated_circuit', 'shift_register', 'adder', 'subtractor', 'synapse', 'occupy', 'disappointingly', 'large', 'silicon', 'area', 'allow', 'ing', 'synaptic', 'array', 'achieve', 'suitable', 'size', 'neural_network', 'array', 'several', 'chip', 'need', 'included', 'board', 'memory', 'control', 'circu', 'itry', 'moving', 'patch', 'concept', 'shown_figure', 'small', 'array', 'synapsis', 'passed', 'much_larger', 'synaptic', 'array', 'time', 'array', 'moved', 'represent', 'another', 'set', 'synapsis', 'new', 'weight', 'must', 'loaded', 'example', 'first', 'set', 'weight', 'tu', 't2j', 'second', 'set', 'tj', 'etc', 'final', 'weight', 'loaded', 'oooo', 'neuron', 'nxn', 'synaptic', 'array', 'small', 'patch', 'move', 'array', 'figure', 'moving', 'patch', 'concept', 'passing', 'small', 'synaptic', 'oatch', 'larger', 'nxn', 'synapse', 'array', 'static', 'shelf', 'ram', 'used', 'store', 'weight', 'whole', 'opera', 'tion', 'pipelined', 'maximum', 'efficiency', 'figure_show', 'board', 'level', 'design', 'network', 'synaptic', 'accelerator', 'chip', 'host', 'figure', 'moving', 'patch', 'neural_network', 'board', 'small', 'patch', 'move', 'around', 'array', 'give', 'neuron', 'comprises', 'vlsi', 'synaptic', 'accelerator', 'chip', 'give', 'synaptic', 'array', 'number', 'neuron', 'simulated', 'weight', 'stored', 'mb', 'ram', 'load', 'time', '8ms', 'patch', 'movement', 'partial', 'runninz', 'summatin', 'calculated', 'column', 'stored', 'separate', 'ram', 'required', 'added', 'next', 'appropriate', 'summation', 'update', 'time', 'board', '3ms', 'giving', 'operation', 'second', 'slower', 'neuron', 'specification', 'network', 'time', 'larger', 'arithmetic', 'element', 'used', 'efficiently', 'achieve', 'network', 'greater', 'neuron', 'ram', 'required', 'store', 'weight', 'network', 'slower', 'unless', 'larger', 'number', 'accelerator', 'chip', 'used', 'give', 'larger', 'moving', 'patch', 'conclusion', 'strategy', 'design', 'method', 'ha', 'given', 'construction', 'bit', 'serial', 'vlsi', 'neural_network', 'chip', 'circuit', 'board', 'bit', 'serial', 'arithmetic', 'coupled', 'reduced', 'arithmetic', 'style', 'enhances', 'level', 'integration', 'possible', 'beyond', 'conventional', 'digital', 'bit', 'parallel', 'scheme', 'restriction', 'imposed', 'synal', 'tic', 'weight', 'size', 'arithmetic', 'precision', 'vlsi', 'constraint', 'examined', 'shown', 'tolerable', 'using', 'associative_memory', 'problem', 'test', 'believe', 'digital', 'approach', 'represent', 'good', 'compromise', 'arithmetic', 'accuracy', 'circuit', 'complexity', 'acknowledge', 'level', 'integration', 'disappoinfingly', 'low', 'belief', 'digital', 'approach', 'may', 'interesting', 'useful', 'medium', 'term', 'essentially', 'hardware', 'accelera', 'tor', 'neural', 'simulation', 'analog', 'technique', 'represent', 'best', 'ultimate', 'option', 'dimensional', 'silicon', 'end', 'currently', 'pursuing', 'technique', 'analog', 'pseudo', 'static', 'memory', 'using', 'standard', 'cmos_technology', 'event', 'full', 'development', 'nonvolatile', 'analog', 'memory', 'technology', 'mnos', 'tech_nique', 'key', 'long_term', 'future', 'vlsi', 'neural_net', 'learn', 'acknowledgement_author', 'acknowledge_support', 'science_engineering', 'research_council', 'uk', 'execution', 'work', 'reference', 'grossberg', 'physiological', 'biochemical', 'consequence', 'psycho', 'logical', 'postulate', 'proc_natl', 'acad_sci', 'usa', 'vol_pp', 'graf', 'jackel', 'howard', 'straughn', 'denker', 'hubbard', 'tennant', 'schwartz', 'vlsi_implementation', 'neural_network', 'memory', 'several_hundred', 'neuron', 'proc', 'alp', 'conference', 'neural_network', 'computing', 'snowbird', 'pp', 'mackie', 'graf', 'denker', 'microelectronic', 'implementa', 'tion', 'connectionist', 'neural_network', 'model', 'ieee', 'conference', 'neural', 'information_processing', 'system', 'denver', 'hopfield_tank', 'neural_computation', 'decision', 'optim', 'isation', 'problem', 'biol_cybern', 'vol_pp', 'sivilotti', 'mahowald_mead', 'real_time', 'visual', 'com', 'putations', 'using', 'analog', 'cmos', 'processing', 'array', 'published', 'mead', 'network', 'real_time', 'sensory', 'processing', 'ieee', 'confer_ence', 'neural', 'information_processing', 'system', 'denver', 'sage', 'thompson', 'withers', 'artificial_neural', 'network', 'integrated_circuit', 'based', 'mnos', 'ccd', 'principle', 'proc', 'aip', 'conference', 'neural_network', 'computing', 'snowbird', 'pp', 'garth', 'chipset', 'high_speed', 'simulation', 'neural_network', 'sys_tems', 'ieee', 'conference', 'neural_network', 'san_diego', 'murray', 'smith', 'novel', 'computational', 'signalling', 'method', 'vlsi', 'neural_network', 'european', 'solid', 'state', 'circuit', 'conference', 'murray', 'smith', 'asynchronous', 'arithmetic', 'vlsi', 'neural', 'system', 'electronics', 'letter', 'vol', 'june', 'murray', 'smith', 'asynchronous', 'vlsi', 'neural_network', 'using', 'pulse_stream', 'arithmetic', 'ieee', 'journal', 'solid', 'state', 'circuit', 'sys_tems', 'published', 'gaspar', 'pulsed', 'neural_network', 'hardware', 'software', 'hop_field', 'afd', 'converter', 'example', 'ieee', 'conference', 'neural', 'information', 'pro_cessing', 'system', 'denver', 'mcgregor', 'denyet', 'murray', 'single', 'phase', 'clock', 'ing', 'scheme', 'cmos', 'vlsi', 'advanced_research', 'vlsi', 'proceeding', 'stanford', 'conference', 'rumelhart_hinton', 'williams', 'learning', 'internal_representation', 'error', 'propagation', 'parallel_distributed', 'processing_exploration', 'microstructure_cognition', 'vol_pp', 'fleisher', 'levin', 'hopfiled', 'model', 'multilevel', 'neuron', 'model', 'ieee', 'conference', 'neural', 'information_processing', 'system', 'denver', 'parisi', 'memory', 'forgets', 'phys_math', 'gert', 'vol_pp', 'l617', 'l620']]\n"
          ],
          "name": "stdout"
        }
      ]
    },
    {
      "cell_type": "code",
      "metadata": {
        "id": "2X5u0NoTNaVE",
        "colab_type": "code",
        "colab": {
          "base_uri": "https://localhost:8080/",
          "height": 34
        },
        "outputId": "4ea5b75e-323c-4fba-eae7-b582cfda8e7a"
      },
      "source": [
        "print(len(norm_corpus_bigrams[:1][0]))"
      ],
      "execution_count": 40,
      "outputs": [
        {
          "output_type": "stream",
          "text": [
            "2160\n"
          ],
          "name": "stdout"
        }
      ]
    },
    {
      "cell_type": "code",
      "metadata": {
        "id": "q8tijmSIMwki",
        "colab_type": "code",
        "colab": {
          "base_uri": "https://localhost:8080/",
          "height": 71
        },
        "outputId": "409e2acf-c862-48f7-eff4-0be20d24c080"
      },
      "source": [
        "a=gensim.corpora.Dictionary(norm_corpus_bigrams[:1])\n",
        "print('Sample word to number mappings:', list(a.items()))\n",
        "print('Total Vocabulary Size:', len(a))"
      ],
      "execution_count": 52,
      "outputs": [
        {
          "output_type": "stream",
          "text": [
            "Sample word to number mappings: [(0, '120ns'), (1, '3jl'), (2, '3ms'), (3, '5v'), (4, '8ms'), (5, '_1'), (6, 'ability'), (7, 'able_learn'), (8, 'abstract'), (9, 'acad_sci'), (10, 'accelera'), (11, 'accelerator'), (12, 'access'), (13, 'according'), (14, 'accuracy'), (15, 'achieve'), (16, 'achieved'), (17, 'acknowledge'), (18, 'acknowledge_support'), (19, 'acknowledgement_author'), (20, 'aclivry'), (21, 'acquired'), (22, 'activation'), (23, 'activity'), (24, 'add'), (25, 'added'), (26, 'adder'), (27, 'adding'), (28, 'addition'), (29, 'addressed'), (30, 'adjusted'), (31, 'advanced'), (32, 'advanced_research'), (33, 'advantage'), (34, 'afd'), (35, 'agree'), (36, 'aip'), (37, 'alan'), (38, 'algorithm'), (39, 'allow'), (40, 'allowed'), (41, 'allowing'), (42, 'along'), (43, 'alp'), (44, 'alter'), (45, 'although'), (46, 'american_institute'), (47, 'amplifier'), (48, 'analog'), (49, 'analog_digital'), (50, 'analogy'), (51, 'another'), (52, 'anthony'), (53, 'appear'), (54, 'applies'), (55, 'approach'), (56, 'appropriate'), (57, 'approximately'), (58, 'approximation'), (59, 'arbitrarily'), (60, 'architecture'), (61, 'area'), (62, 'arises'), (63, 'arithmetic'), (64, 'around'), (65, 'array'), (66, 'arrival'), (67, 'artificial_neural'), (68, 'aspire'), (69, 'assessed'), (70, 'associative_memory'), (71, 'assume'), (72, 'assumes'), (73, 'asynchronous'), (74, 'attempted'), (75, 'attraction'), (76, 'attractive'), (77, 'auditory'), (78, 'automated'), (79, 'automatic'), (80, 'available'), (81, 'back'), (82, 'based'), (83, 'become'), (84, 'behaviour'), (85, 'belief'), (86, 'believe'), (87, 'best'), (88, 'better'), (89, 'beyond'), (90, 'binary'), (91, 'biochemical'), (92, 'biol_cybern'), (93, 'bit'), (94, 'block'), (95, 'board'), (96, 'bring'), (97, 'broken'), (98, 'buffer'), (99, 'build'), (100, 'building'), (101, 'bus'), (102, 'bye'), (103, 'calculated'), (104, 'calculation'), (105, 'caltech'), (106, 'capability'), (107, 'cast'), (108, 'cation'), (109, 'ccd'), (110, 'challenge'), (111, 'change'), (112, 'channel'), (113, 'chip'), (114, 'chipset'), (115, 'chopping'), (116, 'chosen'), (117, 'circle'), (118, 'circu'), (119, 'circuit'), (120, 'circuitry'), (121, 'clip'), (122, 'clipping'), (123, 'clock'), (124, 'clock_cycle'), (125, 'cmos'), (126, 'cmos_technology'), (127, 'column'), (128, 'com'), (129, 'communication'), (130, 'compact'), (131, 'compared'), (132, 'compensate'), (133, 'complex'), (134, 'complexity'), (135, 'complicated'), (136, 'comprises'), (137, 'compromise'), (138, 'computation'), (139, 'computational'), (140, 'computing'), (141, 'con'), (142, 'concept'), (143, 'conclusion'), (144, 'conducted'), (145, 'confer_ence'), (146, 'conference'), (147, 'confirm'), (148, 'connectionist'), (149, 'consequence'), (150, 'constrained'), (151, 'constraint'), (152, 'construction'), (153, 'content_addressable'), (154, 'contribution'), (155, 'control'), (156, 'controlled'), (157, 'conventional'), (158, 'converted'), (159, 'converter'), (160, 'cor'), (161, 'corrupted'), (162, 'costly'), (163, 'could'), (164, 'count'), (165, 'coupled'), (166, 'currently'), (167, 'cycle'), (168, 'damental'), (169, 'data'), (170, 'deal'), (171, 'decay'), (172, 'decision'), (173, 'degenerate'), (174, 'degradation'), (175, 'degraded'), (176, 'degree_freedom'), (177, 'delay'), (178, 'delta_rule'), (179, 'demerit'), (180, 'denker'), (181, 'denoted'), (182, 'denver'), (183, 'denyet'), (184, 'department_electrical'), (185, 'derated'), (186, 'described'), (187, 'design'), (188, 'designing'), (189, 'desired'), (190, 'destroyed'), (191, 'detail'), (192, 'determined'), (193, 'determines'), (194, 'developed'), (195, 'developing'), (196, 'development'), (197, 'different'), (198, 'differently'), (199, 'digital'), (200, 'dimensional'), (201, 'diminishing'), (202, 'disadvantage'), (203, 'disappoinfingly'), (204, 'disappointingly'), (205, 'discussed'), (206, 'discussed_section'), (207, 'dissimilar'), (208, 'distributed'), (209, 'division'), (210, 'doe'), (211, 'dominate'), (212, 'dominates'), (213, 'driven'), (214, 'dynamic'), (215, 'early_vision'), (216, 'easily'), (217, 'easy'), (218, 'edinburgh'), (219, 'effect'), (220, 'effective'), (221, 'effectively'), (222, 'efficiency'), (223, 'efficient'), (224, 'efficiently'), (225, 'eh9'), (226, 'eight'), (227, 'either'), (228, 'electrically'), (229, 'electronics'), (230, 'element'), (231, 'eliminating'), (232, 'elsewhere'), (233, 'end'), (234, 'engineering'), (235, 'engineering_university'), (236, 'enhancement'), (237, 'enhances'), (238, 'enough'), (239, 'ensuring'), (240, 'error'), (241, 'essentially'), (242, 'etc'), (243, 'etter'), (244, 'european'), (245, 'event'), (246, 'every'), (247, 'examined'), (248, 'example'), (249, 'excess'), (250, 'excessive'), (251, 'excita'), (252, 'excitatory'), (253, 'excitatory_inhibitory'), (254, 'exe'), (255, 'executed'), (256, 'executing'), (257, 'execution'), (258, 'exhaustive'), (259, 'expanded'), (260, 'expands'), (261, 'experi_ments'), (262, 'experiment'), (263, 'extended'), (264, 'externally'), (265, 'extra'), (266, 'extremum'), (267, 'fabricated'), (268, 'family'), (269, 'fast'), (270, 'fault'), (271, 'fault_tolerance'), (272, 'feasible'), (273, 'feature'), (274, 'feed_back'), (275, 'feedback_loop'), (276, 'field'), (277, 'fig'), (278, 'figure'), (279, 'figure_show'), (280, 'final'), (281, 'finally'), (282, 'first'), (283, 'firstly'), (284, 'five'), (285, 'fixed'), (286, 'fleisher'), (287, 'following'), (288, 'follows'), (289, 'foot'), (290, 'forget'), (291, 'forgets'), (292, 'forgetting'), (293, 'form'), (294, 'free'), (295, 'frequency'), (296, 'full'), (297, 'fun'), (298, 'func_tions'), (299, 'function'), (300, 'functionality'), (301, 'functioning'), (302, 'fundamentally'), (303, 'furthermore'), (304, 'future'), (305, 'garth'), (306, 'gaspar'), (307, 'general'), (308, 'generic'), (309, 'gentle'), (310, 'gert'), (311, 'give'), (312, 'give_rise'), (313, 'given'), (314, 'giving'), (315, 'good'), (316, 'graf'), (317, 'greater'), (318, 'grossberg'), (319, 'group'), (320, 'growth'), (321, 'gy'), (322, 'ha'), (323, 'hard'), (324, 'hardware'), (325, 'hardware_implementation'), (326, 'harper'), (327, 'high'), (328, 'high_speed'), (329, 'hold'), (330, 'holding'), (331, 'hop_field'), (332, 'hopfield'), (333, 'hopfield_tank'), (334, 'hopfiled'), (335, 'horizontal'), (336, 'horizontal_axis'), (337, 'horizontally'), (338, 'host'), (339, 'howard'), (340, 'however'), (341, 'hubbard'), (342, 'hybrid'), (343, 'ideal'), (344, 'identical'), (345, 'ie'), (346, 'ieee'), (347, 'immunity'), (348, 'imperfect'), (349, 'imple'), (350, 'implementa'), (351, 'implementation'), (352, 'implementing'), (353, 'implication'), (354, 'importantly'), (355, 'imposed'), (356, 'imposes'), (357, 'improves'), (358, 'included'), (359, 'includes'), (360, 'inclusion'), (361, 'incoming'), (362, 'incorporated'), (363, 'increase'), (364, 'increased'), (365, 'increasing'), (366, 'incurred'), (367, 'indicate'), (368, 'indicated'), (369, 'indicates'), (370, 'individual'), (371, 'information'), (372, 'information_processing'), (373, 'ing'), (374, 'ingly'), (375, 'inhibitory'), (376, 'initial'), (377, 'input'), (378, 'integer'), (379, 'integrated'), (380, 'integrated_circuit'), (381, 'integration'), (382, 'interconnect'), (383, 'interconnected'), (384, 'interconnects'), (385, 'interest'), (386, 'interesting'), (387, 'interesting_note'), (388, 'intermediate'), (389, 'internal_representation'), (390, 'intrinsic'), (391, 'introduced'), (392, 'introduction'), (393, 'inversion'), (394, 'involves'), (395, 'iopfield'), (396, 'isation'), (397, 'issue'), (398, 'itiiv'), (399, 'itry'), (400, 'itsjv'), (401, 'jackel'), (402, 'journal'), (403, 'june'), (404, 'jvj'), (405, 'key'), (406, 'king'), (407, 'knowledge'), (408, 'l617'), (409, 'l620'), (410, 'language'), (411, 'large'), (412, 'larger'), (413, 'largest'), (414, 'latency'), (415, 'law'), (416, 'layout'), (417, 'le'), (418, 'learn'), (419, 'learn_ing'), (420, 'learned'), (421, 'learning'), (422, 'learnt'), (423, 'least'), (424, 'lend'), (425, 'length'), (426, 'let'), (427, 'letter'), (428, 'level'), (429, 'levin'), (430, 'like'), (431, 'limit'), (432, 'limitation'), (433, 'limited'), (434, 'limiting'), (435, 'listed'), (436, 'listing'), (437, 'load'), (438, 'loaded'), (439, 'local'), (440, 'logic'), (441, 'logical'), (442, 'long_range'), (443, 'long_term'), (444, 'loop'), (445, 'low'), (446, 'lsbit'), (447, 'machine'), (448, 'mackie'), (449, 'mahowald_mead'), (450, 'make'), (451, 'manageable'), (452, 'many'), (453, 'mathematically'), (454, 'matrix'), (455, 'maximum'), (456, 'may'), (457, 'mayfield'), (458, 'mb'), (459, 'mcgregor'), (460, 'mead'), (461, 'mean'), (462, 'mechanism'), (463, 'medium'), (464, 'memory'), (465, 'ment'), (466, 'merely'), (467, 'merit'), (468, 'method'), (469, 'mhz'), (470, 'microelectronic'), (471, 'microstructure_cognition'), (472, 'mimic'), (473, 'minimises'), (474, 'mnos'), (475, 'mo_transistor'), (476, 'model'), (477, 'modular'), (478, 'mon'), (479, 'move'), (480, 'moved'), (481, 'movement'), (482, 'moving'), (483, 'msbit'), (484, 'much'), (485, 'much_better'), (486, 'much_faster'), (487, 'much_larger'), (488, 'much_simpler'), (489, 'multi'), (490, 'multilevel'), (491, 'multiplex'), (492, 'multipli'), (493, 'multiplica'), (494, 'multiplication'), (495, 'multiplied'), (496, 'multiplier'), (497, 'multiply'), (498, 'munications'), (499, 'murray'), (500, 'must'), (501, 'natural'), (502, 'naturally'), (503, 'necessary'), (504, 'nection'), (505, 'need'), (506, 'neeted'), (507, 'net'), (508, 'net_work'), (509, 'network'), (510, 'neu_ron'), (511, 'neural'), (512, 'neural_computation'), (513, 'neural_net'), (514, 'neural_network'), (515, 'neuron'), (516, 'new'), (517, 'next'), (518, 'node'), (519, 'noise'), (520, 'non'), (521, 'non_volatile'), (522, 'nonlinearities'), (523, 'nonvolatile'), (524, 'novel'), (525, 'number'), (526, 'numerically'), (527, 'nxn'), (528, 'oatch'), (529, 'obtained'), (530, 'occupy'), (531, 'occurs'), (532, 'odd'), (533, 'ogy'), (534, 'one'), (535, 'oooo'), (536, 'opera'), (537, 'operating'), (538, 'operation'), (539, 'operator'), (540, 'optim'), (541, 'optimal'), (542, 'option'), (543, 'oscillates'), (544, 'oscillator'), (545, 'outlined'), (546, 'output'), (547, 'outside'), (548, 'overall'), (549, 'paging'), (550, 'paper'), (551, 'parallel'), (552, 'parallel_distributed'), (553, 'parallelism'), (554, 'parameter'), (555, 'parisi'), (556, 'part'), (557, 'partial'), (558, 'passed'), (559, 'passing'), (560, 'patch'), (561, 'pattern'), (562, 'performance'), (563, 'period'), (564, 'periodic'), (565, 'phase'), (566, 'phys_math'), (567, 'physic'), (568, 'physiological'), (569, 'pipelined'), (570, 'pipelining'), (571, 'ple'), (572, 'positive_negative'), (573, 'possible'), (574, 'postsynaptic'), (575, 'postulate'), (576, 'potential'), (577, 'pp'), (578, 'precision'), (579, 'preference'), (580, 'presence_absence'), (581, 'present'), (582, 'presynaptic'), (583, 'pretend'), (584, 'primary'), (585, 'principle'), (586, 'prior'), (587, 'pro_cessing'), (588, 'prob_lem'), (589, 'probe'), (590, 'problem'), (591, 'problematic'), (592, 'proc'), (593, 'proc_natl'), (594, 'proceeding'), (595, 'process'), (596, 'processing'), (597, 'processing_exploration'), (598, 'processor'), (599, 'produce'), (600, 'product'), (601, 'programmable'), (602, 'projected'), (603, 'propagating'), (604, 'propagation'), (605, 'property'), (606, 'proportional'), (607, 'proposed'), (608, 'protracted'), (609, 'proved'), (610, 'pseudo'), (611, 'psycho'), (612, 'published'), (613, 'pulse'), (614, 'pulse_stream'), (615, 'pulsed'), (616, 'pursuing'), (617, 'putations'), (618, 'qaenchmark'), (619, 'qualitatively'), (620, 'quality'), (621, 'quantised'), (622, 'quently'), (623, 'ram'), (624, 'random'), (625, 'range'), (626, 'rate'), (627, 'rather'), (628, 'reacts'), (629, 'readily'), (630, 'real'), (631, 'real_time'), (632, 'reason'), (633, 'recall'), (634, 'receiv'), (635, 'recently'), (636, 'recognised'), (637, 'recourse'), (638, 'reduced'), (639, 'reduces'), (640, 'reducing'), (641, 'reference'), (642, 'referred'), (643, 'regardless'), (644, 'regime'), (645, 'register'), (646, 'regular'), (647, 'relafonship'), (648, 'related'), (649, 'relatively'), (650, 'reliable'), (651, 'renormalisafion'), (652, 'repeated'), (653, 'reported'), (654, 'represent'), (655, 'representation'), (656, 'represented'), (657, 'represents'), (658, 'required'), (659, 'requirement'), (660, 'requires'), (661, 'requiring'), (662, 'research_council'), (663, 'resistor'), (664, 'response'), (665, 'restored'), (666, 'restricted'), (667, 'restriction'), (668, 'result'), (669, 'resultant'), (670, 'return'), (671, 'right'), (672, 'ring'), (673, 'rise'), (674, 'road'), (675, 'robust'), (676, 'row'), (677, 'rumelhart_hinton'), (678, 'run'), (679, 'running'), (680, 'runninz'), (681, 'rupted'), (682, 'sage'), (683, 'san_diego'), (684, 'satura'), (685, 'saturation'), (686, 'say'), (687, 'schematically'), (688, 'scheme'), (689, 'schwartz'), (690, 'science_engineering'), (691, 'scoff'), (692, 'second'), (693, 'section'), (694, 'see'), (695, 'seen'), (696, 'sensory'), (697, 'separate'), (698, 'serial'), (699, 'series'), (700, 'seriously'), (701, 'set'), (702, 'several'), (703, 'several_hundred'), (704, 'sharpness'), (705, 'shelf'), (706, 'shift'), (707, 'shift_register'), (708, 'shifted'), (709, 'shined'), (710, 'show'), (711, 'showed'), (712, 'shown'), (713, 'shown_figure'), (714, 'sider'), (715, 'sigm'), (716, 'sigmoid'), (717, 'sigmoidal'), (718, 'sign'), (719, 'signal'), (720, 'signalling'), (721, 'significant'), (722, 'sigrnoid'), (723, 'sigrnoidal'), (724, 'silicon'), (725, 'sim'), (726, 'simd'), (727, 'similar'), (728, 'similarly'), (729, 'simple'), (730, 'simulated'), (731, 'simulation'), (732, 'simultaneously'), (733, 'single'), (734, 'sire'), (735, 'sivilotti'), (736, 'size'), (737, 'slightly'), (738, 'slower'), (739, 'small'), (740, 'smallest'), (741, 'sme'), (742, 'smith'), (743, 'smooth'), (744, 'smoother'), (745, 'smoothly'), (746, 'smoothness'), (747, 'snowbird'), (748, 'software'), (749, 'solid'), (750, 'solution'), (751, 'space'), (752, 'specification'), (753, 'speed'), (754, 'spike'), (755, 'spread'), (756, 'square'), (757, 'squashing_function'), (758, 'stable'), (759, 'staircase'), (760, 'standard'), (761, 'stanford'), (762, 'state'), (763, 'static'), (764, 'statistical'), (765, 'still'), (766, 'stimulated'), (767, 'storage'), (768, 'store'), (769, 'stored'), (770, 'straight_forward'), (771, 'straightforward'), (772, 'strategy'), (773, 'straughn'), (774, 'strength'), (775, 'structure'), (776, 'stste'), (777, 'studied'), (778, 'studying'), (779, 'style'), (780, 'subse'), (781, 'subsequently'), (782, 'substance'), (783, 'subthreshold'), (784, 'subtract'), (785, 'subtracted'), (786, 'subtractor'), (787, 'subtracts'), (788, 'succeasfully'), (789, 'successful'), (790, 'sufficient'), (791, 'sufficiently'), (792, 'suggested'), (793, 'suggesting'), (794, 'suggests'), (795, 'suitable'), (796, 'summarised'), (797, 'summatin'), (798, 'summation'), (799, 'superficially'), (800, 'supporting'), (801, 'surrounding'), (802, 'switch'), (803, 'switchable'), (804, 'switched'), (805, 'synal'), (806, 'synapfic'), (807, 'synapse'), (808, 'synapsis'), (809, 'synaptic'), (810, 'synchronous'), (811, 'synthetic'), (812, 'sys_tems'), (813, 'system'), (814, 'systernx'), (815, 't0'), (816, 't2j'), (817, 'tech_nique'), (818, 'technique'), (819, 'technol'), (820, 'technolo'), (821, 'technology'), (822, 'tempera'), (823, 'temperature'), (824, 'tennant'), (825, 'term'), (826, 'test'), (827, 'therefore'), (828, 'thompson'), (829, 'three'), (830, 'thres'), (831, 'threshold'), (832, 'thresholded'), (833, 'throughout'), (834, 'thus'), (835, 'ti'), (836, 'tic'), (837, 'tightly'), (838, 'tii'), (839, 'time'), (840, 'tion'), (841, 'tional'), (842, 'tj'), (843, 'tolerable'), (844, 'tor'), (845, 'total'), (846, 'totally'), (847, 'tq'), (848, 'trade'), (849, 'transition'), (850, 'transmitting'), (851, 'tribution'), (852, 'tried'), (853, 'trivially'), (854, 'tu'), (855, 'tune'), (856, 'ture'), (857, 'two'), (858, 'type'), (859, 'ubiquitousness'), (860, 'uk'), (861, 'ultimate'), (862, 'unable'), (863, 'unattractive'), (864, 'unless'), (865, 'unquantised'), (866, 'unrestricted'), (867, 'unsuccessful'), (868, 'unusual'), (869, 'update'), (870, 'upward'), (871, 'us'), (872, 'usa'), (873, 'usage'), (874, 'use'), (875, 'used'), (876, 'useful'), (877, 'using'), (878, 'value'), (879, 'varies'), (880, 'varying'), (881, 'verify'), (882, 'vi'), (883, 'via'), (884, 'view'), (885, 'visual'), (886, 'vj'), (887, 'vlsi'), (888, 'vlsi_chip'), (889, 'vlsi_implementation'), (890, 'vol'), (891, 'vol_pp'), (892, 'voltage'), (893, 'volume'), (894, 'wa'), (895, 'wafer'), (896, 'waveform'), (897, 'way'), (898, 'weight'), (899, 'weighting'), (900, 'well'), (901, 'well_understood'), (902, 'whereas'), (903, 'whether'), (904, 'whole'), (905, 'whose'), (906, 'williams'), (907, 'wire'), (908, 'wiring'), (909, 'withers'), (910, 'within'), (911, 'without'), (912, 'word'), (913, 'work'), (914, 'worthwhile'), (915, 'worthy'), (916, 'would'), (917, 'wsi'), (918, 'xi'), (919, 'xj'), (920, 'yet'), (921, 'yi'), (922, 'yield'), (923, 'znh'), (924, 'zoe')]\n",
            "Total Vocabulary Size: 925\n"
          ],
          "name": "stdout"
        }
      ]
    },
    {
      "cell_type": "code",
      "metadata": {
        "id": "R_bBgHigNoOL",
        "colab_type": "code",
        "colab": {
          "base_uri": "https://localhost:8080/",
          "height": 51
        },
        "outputId": "6f3cef04-6cb2-4d86-f43f-0df1d249850e"
      },
      "source": [
        "a.filter_extremes(no_below=20, no_above=0.6)\n",
        "print('Sample word to number mappings:', list(a.items()))\n",
        "print('Total Vocabulary Size:', len(a))"
      ],
      "execution_count": 53,
      "outputs": [
        {
          "output_type": "stream",
          "text": [
            "Sample word to number mappings: []\n",
            "Total Vocabulary Size: 0\n"
          ],
          "name": "stdout"
        }
      ]
    },
    {
      "cell_type": "markdown",
      "metadata": {
        "id": "yNqMfv73MxNU",
        "colab_type": "text"
      },
      "source": [
        "End"
      ]
    },
    {
      "cell_type": "code",
      "metadata": {
        "id": "uk4KfOk-68Bp",
        "colab_type": "code",
        "colab": {
          "base_uri": "https://localhost:8080/",
          "height": 54
        },
        "outputId": "60814a62-ee92-4fd8-bc9f-7f38344fd6ae"
      },
      "source": [
        "# Transforming corpus into bag of words vectors\n",
        "bow_corpus = [dictionary.doc2bow(text) for text in norm_corpus_bigrams]\n",
        "print(bow_corpus[1][:50])"
      ],
      "execution_count": 19,
      "outputs": [
        {
          "output_type": "stream",
          "text": [
            "[(2, 2), (6, 1), (7, 1), (26, 1), (33, 1), (34, 1), (36, 1), (44, 1), (47, 1), (57, 4), (66, 1), (68, 1), (72, 1), (75, 3), (77, 10), (98, 4), (109, 1), (110, 3), (116, 2), (118, 1), (122, 1), (125, 1), (130, 3), (153, 1), (159, 1), (181, 1), (193, 1), (196, 1), (201, 1), (203, 2), (231, 1), (237, 1), (241, 2), (242, 7), (245, 1), (251, 1), (269, 3), (286, 1), (293, 1), (332, 1), (339, 1), (340, 6), (342, 1), (346, 2), (347, 1), (352, 1), (358, 2), (359, 3), (365, 3), (371, 2)]\n"
          ],
          "name": "stdout"
        }
      ]
    },
    {
      "cell_type": "markdown",
      "metadata": {
        "id": "mzuV9OGILOOH",
        "colab_type": "text"
      },
      "source": [
        "Explain bow_corpus"
      ]
    },
    {
      "cell_type": "markdown",
      "metadata": {
        "id": "B6YldPv4PiP0",
        "colab_type": "text"
      },
      "source": [
        "doc2bow: \n",
        "Convert document (a list of words) into the bag-of-words format = list of (token_id, token_count) 2-tuples. Each word is assumed to be a tokenized and normalized string (either unicode or utf8-encoded). No further preprocessing is done on the words in document; apply tokenization, stemming etc. before calling this method.\n",
        "\n",
        "If allow_update is set, then also update dictionary in the process: create ids for new words. At the same time, update document frequencies -- for each word appearing in this document, increase its document frequency (self.dfs) by one.\n",
        "\n",
        "If allow_update is not set, this function is const, aka read-only."
      ]
    },
    {
      "cell_type": "code",
      "metadata": {
        "id": "L8-iLRgnLQ0W",
        "colab_type": "code",
        "colab": {
          "base_uri": "https://localhost:8080/",
          "height": 71
        },
        "outputId": "c1f643a2-4109-4082-ed16-a07948141312"
      },
      "source": [
        "for text in norm_corpus_bigrams:\n",
        "  print(text)\n",
        "  print(dictionary.doc2bow(text))\n",
        "  break\n",
        "# Cac tu nay se theo thu tu id xuat hien trong cau (1,2,3,4,5...), moi id nay duoc dem frequency"
      ],
      "execution_count": 30,
      "outputs": [
        {
          "output_type": "stream",
          "text": [
            "['bit', 'serial', 'neural_network', 'alan', 'murray', 'anthony', 'smith', 'zoe', 'buffer', 'department_electrical', 'engineering_university', 'edinburgh', 'king', 'building', 'mayfield', 'road', 'edinburgh', 'scoff', 'eh9', '3jl', 'abstract', 'bit', 'serial', 'vlsi', 'neural_network', 'described', 'initial', 'architecture', 'synapse', 'array', 'silicon', 'layout', 'board', 'design', 'issue', 'surrounding', 'bit', 'serial', 'computation', 'analog_digital', 'arithmetic', 'discussed', 'parallel', 'development', 'hybrid', 'analog_digital', 'neural_network', 'outlined', 'learning', 'recall', 'capability', 'reported', 'bit', 'serial', 'network', 'along', 'projected', 'specification', 'neuron', 'bit', 'serial', 'board', 'operating', 'mhz', 'tech_nique', 'extended', 'synapsis', 'network', 'update', 'time', '3ms', 'using', 'paging', 'technique', 'time', 'multiplex', 'calculation', 'synapse', 'array', 'introduction', 'function', 'synthetic', 'neural_network', 'may', 'aspire', 'mimic', 'ability', 'con', 'sider', 'many', 'solution', 'simultaneously', 'ability', 'work', 'corrupted', 'data', 'natural', 'fault_tolerance', 'arises', 'parallelism', 'distributed', 'knowledge', 'representation', 'give_rise', 'gentle', 'degradation', 'fault', 'appear', 'func_tions', 'attractive', 'implementation', 'vlsi', 'wsi', 'example', 'natural', 'fault_tolerance', 'could', 'useful', 'silicon', 'wafer', 'imperfect', 'yield', 'network', 'degradation', 'approximately', 'proportional', 'non', 'functioning', 'silicon', 'area', 'cast', 'neural_network', 'engineering', 'language', 'neuron', 'state', 'machine', 'either', 'general', 'assumes', 'intermediate', 'state', 'switch', 'smoothly', 'extremum', 'synapsis', 'weighting', 'signal', 'transmitting', 'neuron', 'le', 'excitatory_inhibitory', 'receiv', 'ing', 'neuron', 'set', 'synaptic', 'weight', 'determines', 'stable', 'state', 'represents', 'learned', 'information', 'system', 'neural', 'state', 'vi', 'related', 'total', 'neural', 'activity', 'stimulated', 'input', 'neuron', 'activation', 'function', 'neural', 'activity', 'level', 'excita', 'tion', 'neuron', 'activation', 'way', 'reacts', 'response', 'change', 'activation', 'neural', 'output', 'state', 'time', 'related', 'activation', 'function', 'squashing_function', 'ensuring', 'say', 'vi', 'xi', 'large', 'xi', 'small', 'neural', 'update', 'function', 'therefore', 'straight_forward', 'represents', 'rate', 'change', 'neural', 'activity', 'tq', 'synaptic', 'weight', 'number', 'term', 'giving', 'neuron', 'array', 'although', 'neural', 'function', 'simple', 'enough', 'totally', 'interconnected', 'neu_ron', 'network', 'synapsis', 'requiring', 'multiplication', 'summation', 'american_institute', 'physic', 'large', 'number', 'interconnects', 'challenge', 'vlsi', 'therefore', 'design', 'sim', 'ple', 'compact', 'synapse', 'repeated', 'build', 'vlsi', 'neural_network', 'manageable', 'interconnect', 'network', 'fixed', 'functionality', 'relatively', 'straightforward', 'network', 'able_learn', 'however', 'synaptic', 'weight', 'must', 'programmable', 'therefore', 'complicated', 'designing', 'neural_network', 'vlsi', 'fundamentally', 'two', 'approach', 'implementing', 'function', 'silicon', 'digital', 'analog', 'technique', 'ha', 'advantage', 'disadvantage', 'listed', 'along', 'merit', 'demerit', 'bit', 'serial', 'architecture', 'digital', 'synchronous', 'system', 'digital', 'analog', 'primary', 'advantage', 'digital', 'design', 'synapse', 'array', 'digital', 'memory', 'well_understood', 'incorporated', 'easily', 'learning', 'network', 'therefore', 'possible', 'without', 'recourse', 'unusual', 'technique', 'technolo', 'gy', 'strength', 'digital', 'approach', 'design', 'technique', 'advanced', 'automated', 'well_understood', 'noise', 'immunity', 'computational', 'speed', 'high', 'unattractive', 'feature', 'digital', 'circuit', 'complexity', 'need', 'synchronous', 'state', 'activity', 'quantised', 'real', 'neural_network', 'asynchronous', 'unquantised', 'furthermore', 'digital', 'multiplier', 'occupy', 'large', 'silicon', 'area', 'giving', 'low', 'synapse', 'count', 'single', 'chip', 'advantage', 'analog', 'circuitry', 'asynchronous', 'behaviour', 'smooth', 'neural', 'activation', 'automatic', 'circuit', 'element', 'small', 'noise', 'immunity', 'relatively', 'low', 'arbitrarily', 'high', 'precision', 'possible', 'importantly', 'reliable', 'analog', 'non_volatile', 'memory', 'technology', 'yet', 'readily', 'available', 'reason', 'learning', 'network', 'lend', 'naturally', 'digital', 'design', 'implementation', 'several', 'group', 'developing', 'neural', 'chip', 'board', 'following', 'listing', 'doe', 'pretend', 'exhaustive', 'included', 'rather', 'indicate', 'spread', 'activity', 'field', 'analog', 'technique', 'used', 'build', 'resistor', 'opera', 'tional', 'amplifier', 'network', 'similar', 'proposed', 'hopfield_tank', 'large', 'group', 'caltech', 'developing', 'network', 'implementing', 'early_vision', 'auditory', 'processing', 'function', 'using', 'intrinsic', 'nonlinearities', 'mo_transistor', 'subthreshold', 'regime', 'problem', 'implementing', 'analog', 'network', 'electrically', 'programmable', 'synapsis', 'ha', 'addressed', 'using', 'ccd', 'mnos', 'technol', 'ogy', 'finally', 'garth', 'developing', 'digital', 'neural', 'accelerator', 'board', 'let', 'sire', 'effectively', 'fast', 'simd', 'processor', 'supporting', 'memory', 'com', 'munications', 'chip', 'bit', 'serial', 'bit', 'parallel', 'bit', 'serial', 'arithmetic', 'communication', 'efficient', 'computational', 'process', 'allowing', 'good', 'communication', 'within', 'vlsi_chip', 'tightly', 'pipelined', 'arithmetic', 'structure', 'ideal', 'neural_net', 'work', 'minimises', 'interconnect', 'requirement', 'eliminating', 'multi', 'wire', 'bus', 'although', 'bit', 'parallel', 'design', 'would', 'free', 'computational', 'latency', 'delay', 'input', 'output', 'pipelining', 'make', 'optimal', 'use', 'high', 'bit', 'rate', 'possible', 'serial', 'systernx', 'make', 'efficient', 'circuit', 'usage', 'asynchronous', 'pulse_stream', 'vlsi', 'neural_network', 'addition', 'digital', 'system', 'form', 'substance', 'paper', 'developing', 'hybrid', 'analog_digital', 'network', 'family', 'work', 'outlined', 'ha', 'reported', 'greater', 'detail', 'elsewhere', 'generic', 'logical', 'layout', 'architecture', 'single', 'network', 'totally', 'interconnected', 'neuron', 'shown', 'schematically', 'figure', 'neuron', 'represented', 'circle', 'signal', 'state', 'vi', 'upward', 'matrix', 'synaptic', 'operator', 'state', 'signal', 'con', 'neeted', 'bit', 'horizontal', 'bus', 'running', 'synaptic', 'array', 'con', 'nection', 'synaptic', 'operator', 'every', 'column', 'column', 'operator', 'denoted', 'square', 'operator', 'add', 'synaptic', 'contribution', 'vj', 'running', 'total', 'activity', 'neuron', 'foot', 'column', 'synaptic', 'function', 'therefore', 'multiply', 'signalling', 'neuron', 'state', 'vi', 'synaptic', 'weight', 't0', 'add', 'product', 'running', 'total', 'architecture', 'com', 'mon', 'bit', 'serial', 'pulse_stream', 'network', '_1', 'synapse', 'state', 'vj', 'neuron', 'figure', 'generic', 'architecture', 'network', 'totally', 'interconnected', 'neuron', 'type', 'architecture', 'ha', 'many', 'attraction', 'implementation', 'dimensional', 'silicon', 'summation', 'distributed', 'space', 'interconnect', 'requirement', 'input', 'neuron', 'therefore', 'distributed', 'column', 'reducing', 'need', 'long_range', 'wiring', 'architecture', 'modular', 'regular', 'easily', 'expanded', 'hybrid', 'analog_digital', 'system', 'circuitry', 'us', 'pulse_stream', 'signalling', 'method', 'similar', 'natural', 'neural', 'system', 'neuron', 'indicate', 'state', 'presence_absence', 'pulse', 'output', 'synapfic', 'weighting', 'achieved', 'time', 'chopping', 'presynaptic', 'pulse_stream', 'prior', 'adding', 'postsynaptic', 'activity', 'summation', 'therefore', 'asynchronous', 'imposes', 'fun', 'damental', 'limitation', 'activation', 'neural', 'state', 'figure_show', 'pulse_stream', 'mechanism', 'detail', 'synaptic', 'weight', 'stored', 'digital', 'memory', 'local', 'operator', 'synaptic', 'operator', 'ha', 'excitatory_inhibitory', 'pulse_stream', 'input', 'output', 'resultant', 'product', 'synaptic', 'operation', 'added', 'running', 'total', 'propagating', 'either', 'excitatory_inhibitory', 'channel', 'one', 'binary', 'bit', 'msbit', 'stored', 'determines', 'whether', 'con', 'tribution', 'excitatory_inhibitory', 'incoming', 'excitatory_inhibitory', 'pulse_stream', 'input', 'neuron', 'integrated', 'give', 'neural', 'activation', 'potential', 'varies', 'smoothly', 'potential', 'control', 'feedback_loop', 'odd', 'number', 'logic', 'inversion', 'exe', 'znh', 'exe', 'yi', 'figure', 'pulse_stream', 'arithmetic', 'neuron', 'denoted', 'synaptic', 'operator', 'bye', 'thus', 'form', 'switched', 'ring', 'oscillator', 'inhibitory', 'input', 'dominates', 'feed_back', 'loop', 'broken', 'excitatory', 'spike', 'subsequently', 'dominate', 'input', 'neural', 'activity', 'rise', '5v', 'feedback_loop', 'oscillates', 'period', 'determined', 'delay', 'around', 'loop', 'resultant', 'periodic', 'waveform', 'converted', 'series', 'voltage', 'spike', 'whose', 'pulse', 'rate', 'represents', 'neural', 'state', 'vi', 'interest', 'ingly', 'dissimilar', 'technique', 'reported', 'elsewhere', 'volume', 'although', 'synapse', 'function', 'executed', 'differently', 'state', 'bit', 'serial', 'neural_network', 'overall', 'architecture', 'state', 'bit', 'serial', 'neural_network', 'identical', 'pulse_stream', 'network', 'array', 'interconnected', 'synchronous', 'synaptic', 'operator', 'whereas', 'pulse_stream', 'method', 'allowed', 'vi', 'assume', 'value', 'state', 'network', 'vj', 'constrained', 'resultant', 'activation', 'function', 'shown_figure', 'full', 'digital', 'multiplica', 'tion', 'costly', 'silicon', 'area', 'multiplication', 'vj', 'merely', 'requires', 'synaptic', 'weight', 'right', 'shifted', 'bit', 'similarly', 'multiplication', 'involves', 'right', 'shift', 'multiplication', 'trivially', 'easy', 'vj', 'problematic', 'switchable', 'adder', 'subtractor', 'much', 'complex', 'adder', 'five', 'neural', 'state', 'therefore', 'feasible', 'circuitry', 'slightly', 'complex', 'simple', 'serial', 'adder', 'neural', 'state', 'expands', 'bit', 'bit', 'state', 'representation', 'bit', 'represent', 'add', 'subtract', 'shift', 'multiply', 'figure_show', 'part', 'synaptic', 'array', 'synaptic', 'operator', 'includes', 'bit', 'shift_register', 'memory', 'block', 'holding', 'synaptic', 'weight', 'bit', 'bus', 'neural', 'state', 'run', 'horizontally', 'synaptic', 'row', 'single', 'phase', 'dynamic', 'cmos', 'ha', 'used', 'clock', 'frequency', 'excess', 'mhz', 'detail', 'synaptic', 'operator', 'shown_figure', 'synaptic', 'weight', 'cycle', 'around', 'shift_register', 'neural', 'state', 'vj', 'present', 'state', 'bus', 'first', 'clock_cycle', 'synaptic', 'weight', 'multiplied', 'neural', 'state', 'second', 'significant', 'bit', 'msbit', 'resultant', 'vj', 'sign', 'extended', 'threshold', 'sme', 'aclivry', 'state', 'vj', 'harper', 'state', 'sigm', 'activity', 'xj', 'figure', 'hard', 'threshold', 'state', 'sigmoid', 'activation', 'function', 'itsjv', 'figure', 'section', 'synaptic', 'array', 'state', 'activation', 'function', 'neural_net', 'work', 'bit', 'allow', 'word', 'growth', 'running', 'summation', 'least', 'significant', 'bit', 'lsbit', 'signal', 'running', 'synaptic', 'column', 'indicates', 'arrival', 'lsbit', 'xi', 'running', 'total', 'neural', 'state', 'synaptic', 'weight', 'right', 'shined', 'bit', 'added', 'subtracted', 'running', 'total', 'multipli', 'cation', 'add', 'subtracts', 'weight', 'total', 'multiplication', 'add', 'subtract', 'add', 'subtract', 'itiiv', 'figure', 'synaptic', 'operator', 'state', 'activation', 'function', 'doe', 'alter', 'running', 'summation', 'final', 'summation', 'foot', 'column', 'thresholded', 'externally', 'according', 'state', 'activation', 'function', 'figure', 'neuron', 'activity', 'xj', 'increase', 'threshold', 'value', 'ideal', 'sigmoidal', 'activation', 'represents', 'smooth', 'switch', 'neural', 'state', 'state', 'staircase', 'function', 'give', 'superficially', 'much_better', 'approximation', 'sigrnoid', 'ment', 'threshold', 'function', 'sharpness', 'tune', 'neural', 'dynamic', 'learning', 'referred', 'temperature', 'analogy', 'form', 'high', 'temperature', 'give', 'smoother', 'form', 'much_simpler', 'imple', 'transition', 'controlled', 'computation', 'control', 'parameter', 'statistical', 'function', 'sigmoidal', 'staircase', 'sigrnoid', 'tempera', 'ture', 'reduces', 'iopfield', 'like', 'threshold', 'function', 'effect', 'temperature', 'learning', 'recall', 'threshold', 'state', 'activation', 'option', 'discussed_section', 'learning', 'recall', 'vlsi', 'constraint', 'implementing', 'reduced', 'arithmetic', 'network', 'vlsi', 'simulation', 'experi_ments', 'conducted', 'verify', 'state', 'model', 'represented', 'worthwhile', 'enhancement', 'simple', 'threshold', 'activation', 'qaenchmark', 'problem', 'wa', 'chosen', 'ubiquitousness', 'rather', 'intrinsic', 'value', 'implication', 'learning', 'recall', 'state', 'model', 'threshold', 'state', 'model', 'smooth', 'sigrnoidal', 'activation', 'state', 'compared', 'varying', 'temperature', 'restricted', 'dynamic', 'range', 'weight', 'simulation', 'totally', 'interconnected', 'node', 'network', 'attempted', 'learn', 'random', 'pattern', 'using', 'delta_rule', 'learning', 'algorithm', 'see', 'example', 'pattern', 'wa', 'cor', 'rupted', 'noise', 'recall', 'attempted', 'probe', 'content_addressable', 'memory', 'property', 'three', 'different', 'activation', 'option', 'learning', 'individual', 'weight', 'become', 'large', 'positive_negative', 'weight', 'driven', 'beyond', 'maximum', 'value', 'hardware_implementation', 'determined', 'size', 'synaptic', 'weight', 'block', 'limiting', 'mechanism', 'must', 'introduced', 'example', 'eight', 'bit', 'weight', 'register', 'limitation', 'tii', 'integer', 'weight', 'seen', 'prob_lem', 'dynamic', 'range', 'relafonship', 'smallest', 'possible', 'weight', 'largest', 'issue', 'result', 'fig', 'show', 'example', 'result', 'obtained', 'studying', 'learning', 'using', 'state', 'activation', 'different', 'temperature', 'recall', 'using', 'state', 'thres', 'hold', 'activation', 'temperature', 'state', 'threshold', 'model', 'degenerate', 'result', 'identical', 'increasing', 'smoothness', 'activation', 'tempera', 'ture', 'learning', 'improves', 'quality', 'learning', 'regardless', 'activation', 'function', 'used', 'recall', 'pattern', 'recognised', 'succeasfully', 'using', 'state', 'activation', 'recall', 'effective', 'simple', 'threshold', 'activation', 'effect', 'dynamic', 'range', 'restriction', 'assessed', 'horizontal_axis', 'shown', 'result', 'many', 'experiment', 'may', 'summarised', 'follows', 'stste', 'activation', 'threshold', 'learning', 'state', 'activation', 'wa', 'protracted', 'threshold', 'activation', 'binary', 'pattern', 'learnt', 'inclusion', 'intermediate', 'value', 'added', 'extra', 'degree_freedom', 'weight', 'set', 'learnt', 'using', 'state', 'activation', 'function', 'etter', 'learnt', 'via', 'threshold', 'activation', 'recall', 'property', 'state', 'threshold', 'network', 'using', 'weight', 'set', 'robust', 'noise', 'full', 'sigmoidal', 'activation', 'wa', 'better', 'state', 'enhancement', 'wa', 'le', 'significant', 'incurred', 'moving', 'threshold', 'state', 'suggests', 'law', 'diminishing', 'return', 'applies', 'addition', 'level', 'neural', 'state', 'vj', 'issue', 'ha', 'studied', 'mathematically', 'result', 'agree', 'qualitatively', 'weight', 'saturation', 'three', 'method', 'tried', 'deal', 'weight', 'saturation', 'firstly', 'inclusion', 'decay', 'forgetting', 'term', 'wa', 'included', 'learning', 'cycle', 'view', 'technique', 'produce', 'desired', 'weight', 'limiting', 'property', 'time', 'available', 'experiment', 'unable', 'tune', 'rate', 'decay', 'sufficiently', 'well', 'confirm', 'renormalisafion', 'weight', 'division', 'bring', 'large', 'weight', 'back', 'dynamic', 'range', 'wa', 'unsuccessful', 'suggesting', 'information', 'distributed', 'throughout', 'numerically', 'small', 'weight', 'wa', 'destroyed', 'finally', 'weight', 'allowed', 'clip', 'ie', 'weight', 'outside', 'dynamic', 'range', 'wa', 'set', 'maximum', 'allowed', 'value', 'method', 'proved', 'successful', 'learn_ing', 'algorithm', 'adjusted', 'weight', 'still', 'control', 'compensate', 'saturation', 'effect', 'interesting_note', 'experiment', 'indicated', 'hopfield', 'net', 'forget', 'different', 'way', 'different', 'learning', 'control', 'giving', 'preference', 'recently', 'acquired', 'memory', 'result', 'satura', 'tion', 'experiment', 'pattern', 'node', 'problem', 'integer', 'weight', 'dynamic', 'range', 'greater', 'necessary', 'give', 'enough', 'storage', 'capability', 'weight', 'maximum', 'value', 'ti', 'clipping', 'occurs', 'net_work', 'performance', 'seriously', 'degraded', 'unrestricted', 'weight', 'set', 'limit', 'state', 'activation', 'function', 'recall', 'limit', 'hopfield', 'activation', 'function', 'recall', 'figure', 'recall', 'pattern', 'learned', 'state', 'activation', 'function', 'subse', 'quently', 'restored', 'using', 'state', 'hard', 'threshold', 'activation', 'function', 'temperature', 'smoothness', 'activation', 'function', 'limit', 'value', 'result', 'showed', 'state', 'model', 'wa', 'worthy', 'implementation', 'vlsi', 'neural', 'board', 'suggested', 'bit', 'weight', 'sufficient', 'projected', 'specification', 'hardware', 'neural', 'board', 'specification', 'neuron', 'board', 'given', 'using', 'state', 'bit', 'serial', 'synapse', 'array', 'derated', 'clock', 'speed', 'mhz', 'synaptic', 'weight', 'bit', 'word', 'word', 'length', 'running', 'summation', 'bit', 'allow', 'growth', 'synapse', 'column', 'ha', 'computational', 'latency', 'clock_cycle', 'bit', 'giving', 'update', 'time', 'network', 'time', 'load', 'weight', 'array', 'limited', 'supporting', 'ram', 'access', 'time', '120ns', 'load', 'update', 'time', 'mean', 'network', 'executing', 'operation', 'second', 'one', 'operation', 'jvj', 'much_faster', 'natural', 'neural_network', 'much_faster', 'necessary', 'hardware', 'accelera', 'tor', 'therefore', 'developed', 'paging', 'architecture', 'effectively', 'trade', 'excessive', 'speed', 'increased', 'network', 'size', 'moving', 'patch', 'neural', 'board', 'array', 'state', 'synapsis', 'currently', 'fabricated', 'vlsi', 'integrated_circuit', 'shift_register', 'adder', 'subtractor', 'synapse', 'occupy', 'disappointingly', 'large', 'silicon', 'area', 'allow', 'ing', 'synaptic', 'array', 'achieve', 'suitable', 'size', 'neural_network', 'array', 'several', 'chip', 'need', 'included', 'board', 'memory', 'control', 'circu', 'itry', 'moving', 'patch', 'concept', 'shown_figure', 'small', 'array', 'synapsis', 'passed', 'much_larger', 'synaptic', 'array', 'time', 'array', 'moved', 'represent', 'another', 'set', 'synapsis', 'new', 'weight', 'must', 'loaded', 'example', 'first', 'set', 'weight', 'tu', 't2j', 'second', 'set', 'tj', 'etc', 'final', 'weight', 'loaded', 'oooo', 'neuron', 'nxn', 'synaptic', 'array', 'small', 'patch', 'move', 'array', 'figure', 'moving', 'patch', 'concept', 'passing', 'small', 'synaptic', 'oatch', 'larger', 'nxn', 'synapse', 'array', 'static', 'shelf', 'ram', 'used', 'store', 'weight', 'whole', 'opera', 'tion', 'pipelined', 'maximum', 'efficiency', 'figure_show', 'board', 'level', 'design', 'network', 'synaptic', 'accelerator', 'chip', 'host', 'figure', 'moving', 'patch', 'neural_network', 'board', 'small', 'patch', 'move', 'around', 'array', 'give', 'neuron', 'comprises', 'vlsi', 'synaptic', 'accelerator', 'chip', 'give', 'synaptic', 'array', 'number', 'neuron', 'simulated', 'weight', 'stored', 'mb', 'ram', 'load', 'time', '8ms', 'patch', 'movement', 'partial', 'runninz', 'summatin', 'calculated', 'column', 'stored', 'separate', 'ram', 'required', 'added', 'next', 'appropriate', 'summation', 'update', 'time', 'board', '3ms', 'giving', 'operation', 'second', 'slower', 'neuron', 'specification', 'network', 'time', 'larger', 'arithmetic', 'element', 'used', 'efficiently', 'achieve', 'network', 'greater', 'neuron', 'ram', 'required', 'store', 'weight', 'network', 'slower', 'unless', 'larger', 'number', 'accelerator', 'chip', 'used', 'give', 'larger', 'moving', 'patch', 'conclusion', 'strategy', 'design', 'method', 'ha', 'given', 'construction', 'bit', 'serial', 'vlsi', 'neural_network', 'chip', 'circuit', 'board', 'bit', 'serial', 'arithmetic', 'coupled', 'reduced', 'arithmetic', 'style', 'enhances', 'level', 'integration', 'possible', 'beyond', 'conventional', 'digital', 'bit', 'parallel', 'scheme', 'restriction', 'imposed', 'synal', 'tic', 'weight', 'size', 'arithmetic', 'precision', 'vlsi', 'constraint', 'examined', 'shown', 'tolerable', 'using', 'associative_memory', 'problem', 'test', 'believe', 'digital', 'approach', 'represent', 'good', 'compromise', 'arithmetic', 'accuracy', 'circuit', 'complexity', 'acknowledge', 'level', 'integration', 'disappoinfingly', 'low', 'belief', 'digital', 'approach', 'may', 'interesting', 'useful', 'medium', 'term', 'essentially', 'hardware', 'accelera', 'tor', 'neural', 'simulation', 'analog', 'technique', 'represent', 'best', 'ultimate', 'option', 'dimensional', 'silicon', 'end', 'currently', 'pursuing', 'technique', 'analog', 'pseudo', 'static', 'memory', 'using', 'standard', 'cmos_technology', 'event', 'full', 'development', 'nonvolatile', 'analog', 'memory', 'technology', 'mnos', 'tech_nique', 'key', 'long_term', 'future', 'vlsi', 'neural_net', 'learn', 'acknowledgement_author', 'acknowledge_support', 'science_engineering', 'research_council', 'uk', 'execution', 'work', 'reference', 'grossberg', 'physiological', 'biochemical', 'consequence', 'psycho', 'logical', 'postulate', 'proc_natl', 'acad_sci', 'usa', 'vol_pp', 'graf', 'jackel', 'howard', 'straughn', 'denker', 'hubbard', 'tennant', 'schwartz', 'vlsi_implementation', 'neural_network', 'memory', 'several_hundred', 'neuron', 'proc', 'alp', 'conference', 'neural_network', 'computing', 'snowbird', 'pp', 'mackie', 'graf', 'denker', 'microelectronic', 'implementa', 'tion', 'connectionist', 'neural_network', 'model', 'ieee', 'conference', 'neural', 'information_processing', 'system', 'denver', 'hopfield_tank', 'neural_computation', 'decision', 'optim', 'isation', 'problem', 'biol_cybern', 'vol_pp', 'sivilotti', 'mahowald_mead', 'real_time', 'visual', 'com', 'putations', 'using', 'analog', 'cmos', 'processing', 'array', 'published', 'mead', 'network', 'real_time', 'sensory', 'processing', 'ieee', 'confer_ence', 'neural', 'information_processing', 'system', 'denver', 'sage', 'thompson', 'withers', 'artificial_neural', 'network', 'integrated_circuit', 'based', 'mnos', 'ccd', 'principle', 'proc', 'aip', 'conference', 'neural_network', 'computing', 'snowbird', 'pp', 'garth', 'chipset', 'high_speed', 'simulation', 'neural_network', 'sys_tems', 'ieee', 'conference', 'neural_network', 'san_diego', 'murray', 'smith', 'novel', 'computational', 'signalling', 'method', 'vlsi', 'neural_network', 'european', 'solid', 'state', 'circuit', 'conference', 'murray', 'smith', 'asynchronous', 'arithmetic', 'vlsi', 'neural', 'system', 'electronics', 'letter', 'vol', 'june', 'murray', 'smith', 'asynchronous', 'vlsi', 'neural_network', 'using', 'pulse_stream', 'arithmetic', 'ieee', 'journal', 'solid', 'state', 'circuit', 'sys_tems', 'published', 'gaspar', 'pulsed', 'neural_network', 'hardware', 'software', 'hop_field', 'afd', 'converter', 'example', 'ieee', 'conference', 'neural', 'information', 'pro_cessing', 'system', 'denver', 'mcgregor', 'denyet', 'murray', 'single', 'phase', 'clock', 'ing', 'scheme', 'cmos', 'vlsi', 'advanced_research', 'vlsi', 'proceeding', 'stanford', 'conference', 'rumelhart_hinton', 'williams', 'learning', 'internal_representation', 'error', 'propagation', 'parallel_distributed', 'processing_exploration', 'microstructure_cognition', 'vol_pp', 'fleisher', 'levin', 'hopfiled', 'model', 'multilevel', 'neuron', 'model', 'ieee', 'conference', 'neural', 'information_processing', 'system', 'denver', 'parisi', 'memory', 'forgets', 'phys_math', 'gert', 'vol_pp', 'l617', 'l620']\n",
            "[(0, 1), (1, 1), (2, 2), (3, 1), (4, 1), (5, 1), (6, 1), (7, 1), (8, 1), (9, 2), (10, 1), (11, 1), (12, 1), (13, 1), (14, 34), (15, 10), (16, 6), (17, 4), (18, 1), (19, 2), (20, 1), (21, 1), (22, 1), (23, 1), (24, 3), (25, 1), (26, 1), (27, 1), (28, 3), (29, 3), (30, 1), (31, 2), (32, 1), (33, 3), (34, 1), (35, 1), (36, 10), (37, 4), (38, 1), (39, 1), (40, 1), (41, 1), (42, 1), (43, 1), (44, 1), (45, 1), (46, 1), (47, 9), (48, 4), (49, 1), (50, 12), (51, 3), (52, 22), (53, 1), (54, 1), (55, 1), (56, 1), (57, 1), (58, 1), (59, 6), (60, 2), (61, 1), (62, 1), (63, 1), (64, 1), (65, 1), (66, 2), (67, 1), (68, 1), (69, 1), (70, 1), (71, 1), (72, 1), (73, 1), (74, 2), (75, 2), (76, 1), (77, 35), (78, 2), (79, 13), (80, 1), (81, 1), (82, 1), (83, 2), (84, 1), (85, 4), (86, 1), (87, 1), (88, 1), (89, 2), (90, 1), (91, 1), (92, 1), (93, 2), (94, 1), (95, 8), (96, 1), (97, 1), (98, 7), (99, 3), (100, 3), (101, 3), (102, 1), (103, 8), (104, 3), (105, 2), (106, 1), (107, 1), (108, 1), (109, 2), (110, 2), (111, 1), (112, 1), (113, 1), (114, 2), (115, 5), (116, 2), (117, 4), (118, 2), (119, 1), (120, 1), (121, 1), (122, 8), (123, 1), (124, 1), (125, 1), (126, 1), (127, 2), (128, 1), (129, 1), (130, 1), (131, 5), (132, 1), (133, 1), (134, 1), (135, 1), (136, 1), (137, 1), (138, 1), (139, 1), (140, 1), (141, 1), (142, 2), (143, 2), (144, 1), (145, 2), (146, 1), (147, 1), (148, 2), (149, 1), (150, 1), (151, 2), (152, 1), (153, 2), (154, 2), (155, 4), (156, 1), (157, 8), (158, 1), (159, 1), (160, 3), (161, 2), (162, 2), (163, 1), (164, 4), (165, 2), (166, 1), (167, 16), (168, 2), (169, 1), (170, 1), (171, 1), (172, 1), (173, 4), (174, 1), (175, 1), (176, 1), (177, 1), (178, 8), (179, 1), (180, 2), (181, 1), (182, 2), (183, 3), (184, 1), (185, 2), (186, 1), (187, 2), (188, 1), (189, 1), (190, 2), (191, 1), (192, 1), (193, 2), (194, 1), (195, 2), (196, 1), (197, 1), (198, 1), (199, 2), (200, 1), (201, 2), (202, 1), (203, 1), (204, 1), (205, 1), (206, 1), (207, 1), (208, 1), (209, 1), (210, 1), (211, 1), (212, 5), (213, 1), (214, 1), (215, 1), (216, 1), (217, 1), (218, 1), (219, 1), (220, 4), (221, 2), (222, 1), (223, 1), (224, 1), (225, 1), (226, 1), (227, 1), (228, 1), (229, 2), (230, 1), (231, 1), (232, 1), (233, 2), (234, 1), (235, 1), (236, 3), (237, 2), (238, 2), (239, 1), (240, 1), (241, 1), (242, 1), (243, 1), (244, 1), (245, 1), (246, 3), (247, 1), (248, 1), (249, 1), (250, 1), (251, 1), (252, 1), (253, 2), (254, 7), (255, 1), (256, 5), (257, 2), (258, 2), (259, 3), (260, 1), (261, 2), (262, 2), (263, 1), (264, 2), (265, 4), (266, 1), (267, 4), (268, 1), (269, 1), (270, 1), (271, 1), (272, 2), (273, 2), (274, 1), (275, 1), (276, 1), (277, 1), (278, 1), (279, 1), (280, 3), (281, 2), (282, 2), (283, 1), (284, 6), (285, 1), (286, 1), (287, 1), (288, 4), (289, 4), (290, 1), (291, 1), (292, 1), (293, 1), (294, 1), (295, 3), (296, 1), (297, 2), (298, 1), (299, 1), (300, 1), (301, 1), (302, 1), (303, 1), (304, 2), (305, 1), (306, 1), (307, 1), (308, 3), (309, 3), (310, 1), (311, 1), (312, 2), (313, 1), (314, 2), (315, 2), (316, 5), (317, 1), (318, 1), (319, 1), (320, 2), (321, 1), (322, 2), (323, 1), (324, 1), (325, 1), (326, 3), (327, 1), (328, 1), (329, 1), (330, 1), (331, 1), (332, 1), (333, 1), (334, 4), (335, 1), (336, 2), (337, 1), (338, 2), (339, 2), (340, 2), (341, 1), (342, 2), (343, 3), (344, 1), (345, 1), (346, 1), (347, 1), (348, 1), (349, 5), (350, 1), (351, 1), (352, 3), (353, 2), (354, 1), (355, 2), (356, 1), (357, 3), (358, 2), (359, 1), (360, 1), (361, 2), (362, 1), (363, 1), (364, 2), (365, 3), (366, 1), (367, 1), (368, 1), (369, 1), (370, 1), (371, 4), (372, 1), (373, 2), (374, 1), (375, 12), (376, 1), (377, 1), (378, 1), (379, 3), (380, 1), (381, 1), (382, 1), (383, 1), (384, 1), (385, 2), (386, 1), (387, 1), (388, 6), (389, 1), (390, 1), (391, 2), (392, 1), (393, 1), (394, 1), (395, 5), (396, 1), (397, 1), (398, 2), (399, 5), (400, 3), (401, 4), (402, 1), (403, 2), (404, 3), (405, 1), (406, 1), (407, 1), (408, 33), (409, 1), (410, 3), (411, 26), (412, 1), (413, 2), (414, 4), (415, 1), (416, 1), (417, 1), (418, 1), (419, 1), (420, 2), (421, 1), (422, 1), (423, 1), (424, 1), (425, 2), (426, 1), (427, 4), (428, 11), (429, 1), (430, 3), (431, 1), (432, 1), (433, 2), (434, 1), (435, 1), (436, 4), (437, 1), (438, 1), (439, 1), (440, 1), (441, 1), (442, 1), (443, 1), (444, 8), (445, 6), (446, 1), (447, 1), (448, 2), (449, 1), (450, 1), (451, 1), (452, 1), (453, 1), (454, 1), (455, 2), (456, 2), (457, 2), (458, 1), (459, 1), (460, 1), (461, 1), (462, 1), (463, 1), (464, 1), (465, 1), (466, 1), (467, 1), (468, 1), (469, 2), (470, 1), (471, 1), (472, 3), (473, 1), (474, 1), (475, 1), (476, 2), (477, 2), (478, 2), (479, 1), (480, 1), (481, 3), (482, 1), (483, 1), (484, 1), (485, 1), (486, 2), (487, 2), (488, 1), (489, 1), (490, 1), (491, 5), (492, 1), (493, 6), (494, 4), (495, 2), (496, 1), (497, 1), (498, 2), (499, 1), (500, 12), (501, 1), (502, 2), (503, 1), (504, 1), (505, 1), (506, 1), (507, 1), (508, 1), (509, 1), (510, 2), (511, 2), (512, 1), (513, 1), (514, 3), (515, 4), (516, 2), (517, 2), (518, 4), (519, 2), (520, 2), (521, 1), (522, 1), (523, 1), (524, 1), (525, 1), (526, 1), (527, 2), (528, 4), (529, 1), (530, 3), (531, 1), (532, 1), (533, 1), (534, 1), (535, 1), (536, 1), (537, 1), (538, 10), (539, 1), (540, 3), (541, 1), (542, 1), (543, 2), (544, 1), (545, 1), (546, 1), (547, 1), (548, 1), (549, 1), (550, 16), (551, 1), (552, 2), (553, 1), (554, 2), (555, 1), (556, 1), (557, 3), (558, 1), (559, 1), (560, 3), (561, 1), (562, 4), (563, 3), (564, 9), (565, 1), (566, 1), (567, 1), (568, 1), (569, 4), (570, 1), (571, 4), (572, 1), (573, 2), (574, 1), (575, 4), (576, 3), (577, 1), (578, 2), (579, 2), (580, 1), (581, 2), (582, 1), (583, 4), (584, 3), (585, 2), (586, 1), (587, 1), (588, 1), (589, 1), (590, 1), (591, 1), (592, 55), (593, 2), (594, 1), (595, 1), (596, 1), (597, 1), (598, 2), (599, 4), (600, 1), (601, 1), (602, 1), (603, 1), (604, 1), (605, 1), (606, 1), (607, 1), (608, 1), (609, 1), (610, 3), (611, 1), (612, 1), (613, 1), (614, 1), (615, 1), (616, 1), (617, 1), (618, 1), (619, 8), (620, 2), (621, 1), (622, 2), (623, 1), (624, 11), (625, 7), (626, 35), (627, 3), (628, 1), (629, 2), (630, 1), (631, 2), (632, 9), (633, 2), (634, 7), (635, 1), (636, 9), (637, 16), (638, 1), (639, 1), (640, 1), (641, 1), (642, 1), (643, 5), (644, 1), (645, 1), (646, 2), (647, 7), (648, 4), (649, 1), (650, 1), (651, 1), (652, 1), (653, 1), (654, 1), (655, 2), (656, 2), (657, 1), (658, 1), (659, 1), (660, 1), (661, 1), (662, 1), (663, 1), (664, 5), (665, 1), (666, 1), (667, 1), (668, 1), (669, 2), (670, 1), (671, 1), (672, 1), (673, 6), (674, 1), (675, 1), (676, 1), (677, 9), (678, 19), (679, 1), (680, 1), (681, 1), (682, 4), (683, 1), (684, 1), (685, 1), (686, 2), (687, 2), (688, 1), (689, 1), (690, 1), (691, 1), (692, 1), (693, 1), (694, 1), (695, 1), (696, 1), (697, 3), (698, 1), (699, 3), (700, 2), (701, 1), (702, 1), (703, 1)]\n"
          ],
          "name": "stdout"
        }
      ]
    },
    {
      "cell_type": "markdown",
      "metadata": {
        "id": "GMJeETgWLRHD",
        "colab_type": "text"
      },
      "source": [
        "End Explain bow_corpus"
      ]
    },
    {
      "cell_type": "code",
      "metadata": {
        "id": "gHWG9llo68Bt",
        "colab_type": "code",
        "colab": {
          "base_uri": "https://localhost:8080/",
          "height": 54
        },
        "outputId": "53a94f11-665c-4f0e-b837-f1f544567710"
      },
      "source": [
        "print([(dictionary[idx] , freq) for idx, freq in bow_corpus[1][:50]])"
      ],
      "execution_count": 20,
      "outputs": [
        {
          "output_type": "stream",
          "text": [
            "[('ability', 2), ('access', 1), ('according', 1), ('aip', 1), ('although', 1), ('american_institute', 1), ('analog', 1), ('approximately', 1), ('architecture', 1), ('assume', 4), ('available', 1), ('become', 1), ('best', 1), ('binary', 3), ('bit', 10), ('circuit', 4), ('complex', 1), ('complexity', 3), ('computing', 2), ('concept', 1), ('conference', 1), ('consequence', 1), ('contribution', 3), ('denker', 1), ('desired', 1), ('easy', 1), ('element', 1), ('end', 1), ('enough', 1), ('essentially', 2), ('feature', 1), ('final', 1), ('fixed', 2), ('follows', 7), ('frequency', 1), ('furthermore', 1), ('hold', 3), ('imple', 1), ('imposes', 1), ('knowledge', 1), ('le', 1), ('learn', 6), ('learned', 1), ('length', 2), ('let', 1), ('limit', 1), ('loaded', 2), ('local', 3), ('low', 3), ('maximum', 2)]\n"
          ],
          "name": "stdout"
        }
      ]
    },
    {
      "cell_type": "code",
      "metadata": {
        "id": "69U7XefT68By",
        "colab_type": "code",
        "colab": {
          "base_uri": "https://localhost:8080/",
          "height": 34
        },
        "outputId": "bead9cb3-e81d-429e-9d71-fcaf6274dd3d"
      },
      "source": [
        "print('Total number of papers:', len(bow_corpus))"
      ],
      "execution_count": 21,
      "outputs": [
        {
          "output_type": "stream",
          "text": [
            "Total number of papers: 1740\n"
          ],
          "name": "stdout"
        }
      ]
    },
    {
      "cell_type": "markdown",
      "metadata": {
        "id": "aE9kTOWc68B4",
        "colab_type": "text"
      },
      "source": [
        "# Topic Models with Latent Semantic Indexing (LSI)"
      ]
    },
    {
      "cell_type": "code",
      "metadata": {
        "id": "sVaZBDOR68B5",
        "colab_type": "code",
        "colab": {
          "base_uri": "https://localhost:8080/",
          "height": 51
        },
        "outputId": "54822ebb-a6e7-4254-badc-e1ec1b65ed07"
      },
      "source": [
        "%%time\n",
        "# Wraning: mat 7 phut (khong phai 56 phut)\n",
        "TOTAL_TOPICS = 10\n",
        "lsi_bow = gensim.models.LsiModel(bow_corpus, id2word=dictionary, num_topics=TOTAL_TOPICS,\n",
        "                                 onepass=True, chunksize=1740, power_iters=1000)"
      ],
      "execution_count": 54,
      "outputs": [
        {
          "output_type": "stream",
          "text": [
            "CPU times: user 6min 13s, sys: 1min 41s, total: 7min 55s\n",
            "Wall time: 4min 51s\n"
          ],
          "name": "stdout"
        }
      ]
    },
    {
      "cell_type": "code",
      "metadata": {
        "id": "Y3U97jcP68CB",
        "colab_type": "code",
        "colab": {
          "base_uri": "https://localhost:8080/",
          "height": 547
        },
        "outputId": "ae2c7002-acfc-43af-acda-52f6f894a127"
      },
      "source": [
        "for topic_id, topic in lsi_bow.print_topics(num_topics=10, num_words=20):\n",
        "    print('Topic #'+str(topic_id+1)+':')\n",
        "    print(topic)\n",
        "    print()"
      ],
      "execution_count": 55,
      "outputs": [
        {
          "output_type": "stream",
          "text": [
            "Topic #1:\n",
            "0.215*\"unit\" + 0.212*\"state\" + 0.187*\"training\" + 0.177*\"neuron\" + 0.162*\"pattern\" + 0.145*\"image\" + 0.140*\"vector\" + 0.125*\"feature\" + 0.122*\"cell\" + 0.110*\"layer\" + 0.101*\"task\" + 0.097*\"class\" + 0.091*\"probability\" + 0.089*\"signal\" + 0.087*\"step\" + 0.086*\"response\" + 0.085*\"representation\" + 0.083*\"noise\" + 0.082*\"rule\" + 0.081*\"distribution\"\n",
            "\n",
            "Topic #2:\n",
            "-0.487*\"neuron\" + -0.396*\"cell\" + 0.257*\"state\" + -0.191*\"response\" + 0.187*\"training\" + -0.170*\"stimulus\" + -0.117*\"activity\" + 0.109*\"class\" + -0.099*\"spike\" + -0.097*\"pattern\" + -0.096*\"circuit\" + -0.096*\"synaptic\" + 0.095*\"vector\" + -0.090*\"signal\" + -0.090*\"firing\" + -0.088*\"visual\" + 0.084*\"classifier\" + 0.083*\"action\" + 0.078*\"word\" + -0.078*\"cortical\"\n",
            "\n",
            "Topic #3:\n",
            "-0.627*\"state\" + 0.395*\"image\" + -0.219*\"neuron\" + 0.209*\"feature\" + -0.188*\"action\" + 0.137*\"unit\" + 0.131*\"object\" + -0.130*\"control\" + 0.129*\"training\" + -0.109*\"policy\" + 0.103*\"classifier\" + 0.090*\"class\" + -0.081*\"step\" + -0.081*\"dynamic\" + 0.080*\"classification\" + 0.078*\"layer\" + 0.076*\"recognition\" + -0.074*\"reinforcement_learning\" + 0.069*\"representation\" + 0.068*\"pattern\"\n",
            "\n",
            "Topic #4:\n",
            "0.686*\"unit\" + -0.433*\"image\" + 0.182*\"pattern\" + 0.131*\"layer\" + 0.123*\"hidden_unit\" + 0.121*\"net\" + 0.114*\"training\" + -0.112*\"feature\" + 0.109*\"activation\" + 0.107*\"rule\" + -0.097*\"neuron\" + 0.078*\"word\" + -0.070*\"pixel\" + 0.070*\"connection\" + -0.067*\"object\" + -0.065*\"state\" + -0.060*\"distribution\" + -0.059*\"face\" + 0.057*\"architecture\" + -0.055*\"estimate\"\n",
            "\n",
            "Topic #5:\n",
            "0.428*\"image\" + 0.348*\"state\" + -0.266*\"neuron\" + 0.264*\"unit\" + -0.181*\"training\" + -0.174*\"class\" + 0.168*\"object\" + -0.167*\"classifier\" + 0.147*\"action\" + 0.122*\"visual\" + -0.117*\"vector\" + -0.115*\"node\" + -0.105*\"distribution\" + 0.103*\"motion\" + 0.099*\"feature\" + -0.097*\"classification\" + 0.097*\"control\" + 0.095*\"task\" + 0.087*\"cell\" + 0.083*\"representation\"\n",
            "\n",
            "Topic #6:\n",
            "-0.660*\"cell\" + 0.508*\"neuron\" + 0.213*\"image\" + 0.103*\"chip\" + 0.097*\"unit\" + -0.093*\"response\" + 0.090*\"object\" + -0.083*\"rat\" + -0.076*\"distribution\" + 0.070*\"circuit\" + -0.069*\"probability\" + -0.064*\"stimulus\" + 0.061*\"memory\" + 0.058*\"analog\" + 0.058*\"activation\" + -0.055*\"class\" + 0.053*\"bit\" + 0.052*\"net\" + -0.051*\"cortical\" + -0.050*\"firing\"\n",
            "\n",
            "Topic #7:\n",
            "0.353*\"word\" + -0.281*\"unit\" + 0.272*\"training\" + 0.257*\"classifier\" + 0.177*\"recognition\" + -0.159*\"distribution\" + 0.152*\"feature\" + 0.144*\"state\" + 0.142*\"pattern\" + -0.141*\"vector\" + 0.128*\"cell\" + 0.128*\"task\" + -0.122*\"approximation\" + -0.121*\"variable\" + -0.110*\"equation\" + 0.107*\"classification\" + -0.106*\"noise\" + 0.103*\"class\" + -0.101*\"matrix\" + 0.098*\"neuron\"\n",
            "\n",
            "Topic #8:\n",
            "0.303*\"pattern\" + -0.243*\"signal\" + -0.236*\"control\" + -0.202*\"training\" + 0.181*\"rule\" + 0.178*\"state\" + -0.167*\"noise\" + 0.166*\"class\" + -0.162*\"word\" + 0.155*\"cell\" + 0.154*\"feature\" + -0.147*\"motion\" + -0.140*\"task\" + 0.127*\"node\" + 0.124*\"neuron\" + -0.116*\"target\" + -0.114*\"circuit\" + 0.114*\"probability\" + 0.110*\"classifier\" + 0.109*\"image\"\n",
            "\n",
            "Topic #9:\n",
            "0.472*\"node\" + 0.254*\"circuit\" + -0.214*\"word\" + 0.201*\"chip\" + -0.190*\"neuron\" + -0.172*\"stimulus\" + 0.160*\"classifier\" + 0.152*\"current\" + -0.147*\"feature\" + 0.146*\"voltage\" + -0.145*\"distribution\" + 0.141*\"control\" + 0.124*\"rule\" + 0.110*\"layer\" + 0.105*\"analog\" + 0.091*\"tree\" + -0.084*\"response\" + -0.080*\"state\" + -0.079*\"probability\" + -0.079*\"estimate\"\n",
            "\n",
            "Topic #10:\n",
            "-0.518*\"word\" + 0.254*\"training\" + -0.236*\"vector\" + 0.222*\"task\" + 0.194*\"pattern\" + 0.156*\"classifier\" + -0.149*\"node\" + -0.146*\"recognition\" + 0.139*\"control\" + -0.138*\"sequence\" + 0.126*\"rule\" + -0.125*\"circuit\" + -0.123*\"cell\" + 0.113*\"action\" + 0.105*\"neuron\" + -0.094*\"hmm\" + -0.093*\"character\" + -0.088*\"chip\" + -0.088*\"matrix\" + -0.085*\"structure\"\n",
            "\n"
          ],
          "name": "stdout"
        }
      ]
    },
    {
      "cell_type": "code",
      "metadata": {
        "id": "TVQkFRzb68CF",
        "colab_type": "code",
        "colab": {
          "base_uri": "https://localhost:8080/",
          "height": 1000
        },
        "outputId": "746ad53c-1ea4-44e0-a39f-e6c53a4f095e"
      },
      "source": [
        "for n in range(TOTAL_TOPICS):\n",
        "    print('Topic #'+str(n+1)+':')\n",
        "    print('='*50)\n",
        "    d1 = []\n",
        "    d2 = []\n",
        "    for term, wt in lsi_bow.show_topic(n, topn=20):\n",
        "        if wt >= 0:\n",
        "            d1.append((term, round(wt, 3)))\n",
        "        else:\n",
        "            d2.append((term, round(wt, 3)))\n",
        "\n",
        "    print('Direction 1:', d1)\n",
        "    print('-'*50)\n",
        "    print('Direction 2:', d2)\n",
        "    print('-'*50)\n",
        "    print()\n",
        "    "
      ],
      "execution_count": 56,
      "outputs": [
        {
          "output_type": "stream",
          "text": [
            "Topic #1:\n",
            "==================================================\n",
            "Direction 1: [('unit', 0.215), ('state', 0.212), ('training', 0.187), ('neuron', 0.177), ('pattern', 0.162), ('image', 0.145), ('vector', 0.14), ('feature', 0.125), ('cell', 0.122), ('layer', 0.11), ('task', 0.101), ('class', 0.097), ('probability', 0.091), ('signal', 0.089), ('step', 0.087), ('response', 0.086), ('representation', 0.085), ('noise', 0.083), ('rule', 0.082), ('distribution', 0.081)]\n",
            "--------------------------------------------------\n",
            "Direction 2: []\n",
            "--------------------------------------------------\n",
            "\n",
            "Topic #2:\n",
            "==================================================\n",
            "Direction 1: [('state', 0.257), ('training', 0.187), ('class', 0.109), ('vector', 0.095), ('classifier', 0.084), ('action', 0.083), ('word', 0.078)]\n",
            "--------------------------------------------------\n",
            "Direction 2: [('neuron', -0.487), ('cell', -0.396), ('response', -0.191), ('stimulus', -0.17), ('activity', -0.117), ('spike', -0.099), ('pattern', -0.097), ('circuit', -0.096), ('synaptic', -0.096), ('signal', -0.09), ('firing', -0.09), ('visual', -0.088), ('cortical', -0.078)]\n",
            "--------------------------------------------------\n",
            "\n",
            "Topic #3:\n",
            "==================================================\n",
            "Direction 1: [('image', 0.395), ('feature', 0.209), ('unit', 0.137), ('object', 0.131), ('training', 0.129), ('classifier', 0.103), ('class', 0.09), ('classification', 0.08), ('layer', 0.078), ('recognition', 0.076), ('representation', 0.069), ('pattern', 0.068)]\n",
            "--------------------------------------------------\n",
            "Direction 2: [('state', -0.627), ('neuron', -0.219), ('action', -0.188), ('control', -0.13), ('policy', -0.109), ('step', -0.081), ('dynamic', -0.081), ('reinforcement_learning', -0.074)]\n",
            "--------------------------------------------------\n",
            "\n",
            "Topic #4:\n",
            "==================================================\n",
            "Direction 1: [('unit', 0.686), ('pattern', 0.182), ('layer', 0.131), ('hidden_unit', 0.123), ('net', 0.121), ('training', 0.114), ('activation', 0.109), ('rule', 0.107), ('word', 0.078), ('connection', 0.07), ('architecture', 0.057)]\n",
            "--------------------------------------------------\n",
            "Direction 2: [('image', -0.433), ('feature', -0.112), ('neuron', -0.097), ('pixel', -0.07), ('object', -0.067), ('state', -0.065), ('distribution', -0.06), ('face', -0.059), ('estimate', -0.055)]\n",
            "--------------------------------------------------\n",
            "\n",
            "Topic #5:\n",
            "==================================================\n",
            "Direction 1: [('image', 0.428), ('state', 0.348), ('unit', 0.264), ('object', 0.168), ('action', 0.147), ('visual', 0.122), ('motion', 0.103), ('feature', 0.099), ('control', 0.097), ('task', 0.095), ('cell', 0.087), ('representation', 0.083)]\n",
            "--------------------------------------------------\n",
            "Direction 2: [('neuron', -0.266), ('training', -0.181), ('class', -0.174), ('classifier', -0.167), ('vector', -0.117), ('node', -0.115), ('distribution', -0.105), ('classification', -0.097)]\n",
            "--------------------------------------------------\n",
            "\n",
            "Topic #6:\n",
            "==================================================\n",
            "Direction 1: [('neuron', 0.508), ('image', 0.213), ('chip', 0.103), ('unit', 0.097), ('object', 0.09), ('circuit', 0.07), ('memory', 0.061), ('analog', 0.058), ('activation', 0.058), ('bit', 0.053), ('net', 0.052)]\n",
            "--------------------------------------------------\n",
            "Direction 2: [('cell', -0.66), ('response', -0.093), ('rat', -0.083), ('distribution', -0.076), ('probability', -0.069), ('stimulus', -0.064), ('class', -0.055), ('cortical', -0.051), ('firing', -0.05)]\n",
            "--------------------------------------------------\n",
            "\n",
            "Topic #7:\n",
            "==================================================\n",
            "Direction 1: [('word', 0.353), ('training', 0.272), ('classifier', 0.257), ('recognition', 0.177), ('feature', 0.152), ('state', 0.144), ('pattern', 0.142), ('cell', 0.128), ('task', 0.128), ('classification', 0.107), ('class', 0.103), ('neuron', 0.098)]\n",
            "--------------------------------------------------\n",
            "Direction 2: [('unit', -0.281), ('distribution', -0.159), ('vector', -0.141), ('approximation', -0.122), ('variable', -0.121), ('equation', -0.11), ('noise', -0.106), ('matrix', -0.101)]\n",
            "--------------------------------------------------\n",
            "\n",
            "Topic #8:\n",
            "==================================================\n",
            "Direction 1: [('pattern', 0.303), ('rule', 0.181), ('state', 0.178), ('class', 0.166), ('cell', 0.155), ('feature', 0.154), ('node', 0.127), ('neuron', 0.124), ('probability', 0.114), ('classifier', 0.11), ('image', 0.109)]\n",
            "--------------------------------------------------\n",
            "Direction 2: [('signal', -0.243), ('control', -0.236), ('training', -0.202), ('noise', -0.167), ('word', -0.162), ('motion', -0.147), ('task', -0.14), ('target', -0.116), ('circuit', -0.114)]\n",
            "--------------------------------------------------\n",
            "\n",
            "Topic #9:\n",
            "==================================================\n",
            "Direction 1: [('node', 0.472), ('circuit', 0.254), ('chip', 0.201), ('classifier', 0.16), ('current', 0.152), ('voltage', 0.146), ('control', 0.141), ('rule', 0.124), ('layer', 0.11), ('analog', 0.105), ('tree', 0.091)]\n",
            "--------------------------------------------------\n",
            "Direction 2: [('word', -0.214), ('neuron', -0.19), ('stimulus', -0.172), ('feature', -0.147), ('distribution', -0.145), ('response', -0.084), ('state', -0.08), ('probability', -0.079), ('estimate', -0.079)]\n",
            "--------------------------------------------------\n",
            "\n",
            "Topic #10:\n",
            "==================================================\n",
            "Direction 1: [('training', 0.254), ('task', 0.222), ('pattern', 0.194), ('classifier', 0.156), ('control', 0.139), ('rule', 0.126), ('action', 0.113), ('neuron', 0.105)]\n",
            "--------------------------------------------------\n",
            "Direction 2: [('word', -0.518), ('vector', -0.236), ('node', -0.149), ('recognition', -0.146), ('sequence', -0.138), ('circuit', -0.125), ('cell', -0.123), ('hmm', -0.094), ('character', -0.093), ('chip', -0.088), ('matrix', -0.088), ('structure', -0.085)]\n",
            "--------------------------------------------------\n",
            "\n"
          ],
          "name": "stdout"
        }
      ]
    },
    {
      "cell_type": "code",
      "metadata": {
        "id": "EaTO8YRr68CI",
        "colab_type": "code",
        "colab": {
          "base_uri": "https://localhost:8080/",
          "height": 88
        },
        "outputId": "065ddd02-29b9-4be3-b900-9b50b36d849c"
      },
      "source": [
        "term_topic = lsi_bow.projection.u\n",
        "singular_values = lsi_bow.projection.s\n",
        "topic_document = (gensim.matutils.corpus2dense(lsi_bow[bow_corpus], len(singular_values)).T / singular_values).T\n",
        "term_topic.shape, singular_values.shape, topic_document.shape"
      ],
      "execution_count": 57,
      "outputs": [
        {
          "output_type": "stream",
          "text": [
            "/usr/local/lib/python3.6/dist-packages/gensim/matutils.py:502: FutureWarning: arrays to stack must be passed as a \"sequence\" type such as list or tuple. Support for non-sequence iterables such as generators is deprecated as of NumPy 1.16 and will raise an error in the future.\n",
            "  result = np.column_stack(sparse2full(doc, num_terms) for doc in corpus)\n"
          ],
          "name": "stderr"
        },
        {
          "output_type": "execute_result",
          "data": {
            "text/plain": [
              "((7756, 10), (10,), (10, 1740))"
            ]
          },
          "metadata": {
            "tags": []
          },
          "execution_count": 57
        }
      ]
    },
    {
      "cell_type": "code",
      "metadata": {
        "id": "X-TyWQJx68CL",
        "colab_type": "code",
        "colab": {
          "base_uri": "https://localhost:8080/",
          "height": 514
        },
        "outputId": "c63a08d5-0d33-432c-de5e-8acd390a8f62"
      },
      "source": [
        "document_topics = pd.DataFrame(np.round(topic_document.T, 3), \n",
        "                               columns=['T'+str(i) for i in range(1, TOTAL_TOPICS+1)])\n",
        "document_topics.head(15)"
      ],
      "execution_count": 58,
      "outputs": [
        {
          "output_type": "execute_result",
          "data": {
            "text/html": [
              "<div>\n",
              "<style scoped>\n",
              "    .dataframe tbody tr th:only-of-type {\n",
              "        vertical-align: middle;\n",
              "    }\n",
              "\n",
              "    .dataframe tbody tr th {\n",
              "        vertical-align: top;\n",
              "    }\n",
              "\n",
              "    .dataframe thead th {\n",
              "        text-align: right;\n",
              "    }\n",
              "</style>\n",
              "<table border=\"1\" class=\"dataframe\">\n",
              "  <thead>\n",
              "    <tr style=\"text-align: right;\">\n",
              "      <th></th>\n",
              "      <th>T1</th>\n",
              "      <th>T2</th>\n",
              "      <th>T3</th>\n",
              "      <th>T4</th>\n",
              "      <th>T5</th>\n",
              "      <th>T6</th>\n",
              "      <th>T7</th>\n",
              "      <th>T8</th>\n",
              "      <th>T9</th>\n",
              "      <th>T10</th>\n",
              "    </tr>\n",
              "  </thead>\n",
              "  <tbody>\n",
              "    <tr>\n",
              "      <th>0</th>\n",
              "      <td>0.039</td>\n",
              "      <td>-0.018</td>\n",
              "      <td>-0.078</td>\n",
              "      <td>-0.010</td>\n",
              "      <td>0.011</td>\n",
              "      <td>0.066</td>\n",
              "      <td>0.027</td>\n",
              "      <td>0.022</td>\n",
              "      <td>0.034</td>\n",
              "      <td>-0.026</td>\n",
              "    </tr>\n",
              "    <tr>\n",
              "      <th>1</th>\n",
              "      <td>0.016</td>\n",
              "      <td>-0.017</td>\n",
              "      <td>-0.013</td>\n",
              "      <td>-0.008</td>\n",
              "      <td>-0.024</td>\n",
              "      <td>0.028</td>\n",
              "      <td>-0.000</td>\n",
              "      <td>0.019</td>\n",
              "      <td>-0.008</td>\n",
              "      <td>0.006</td>\n",
              "    </tr>\n",
              "    <tr>\n",
              "      <th>2</th>\n",
              "      <td>0.025</td>\n",
              "      <td>0.010</td>\n",
              "      <td>0.019</td>\n",
              "      <td>-0.023</td>\n",
              "      <td>0.014</td>\n",
              "      <td>0.006</td>\n",
              "      <td>-0.001</td>\n",
              "      <td>-0.001</td>\n",
              "      <td>0.017</td>\n",
              "      <td>-0.014</td>\n",
              "    </tr>\n",
              "    <tr>\n",
              "      <th>3</th>\n",
              "      <td>0.030</td>\n",
              "      <td>-0.046</td>\n",
              "      <td>-0.011</td>\n",
              "      <td>-0.026</td>\n",
              "      <td>-0.057</td>\n",
              "      <td>0.046</td>\n",
              "      <td>0.017</td>\n",
              "      <td>0.009</td>\n",
              "      <td>-0.048</td>\n",
              "      <td>0.017</td>\n",
              "    </tr>\n",
              "    <tr>\n",
              "      <th>4</th>\n",
              "      <td>0.032</td>\n",
              "      <td>0.018</td>\n",
              "      <td>0.016</td>\n",
              "      <td>-0.017</td>\n",
              "      <td>-0.055</td>\n",
              "      <td>0.013</td>\n",
              "      <td>0.007</td>\n",
              "      <td>0.064</td>\n",
              "      <td>0.013</td>\n",
              "      <td>-0.031</td>\n",
              "    </tr>\n",
              "    <tr>\n",
              "      <th>5</th>\n",
              "      <td>0.010</td>\n",
              "      <td>-0.005</td>\n",
              "      <td>-0.010</td>\n",
              "      <td>-0.009</td>\n",
              "      <td>-0.011</td>\n",
              "      <td>0.017</td>\n",
              "      <td>-0.013</td>\n",
              "      <td>0.003</td>\n",
              "      <td>0.005</td>\n",
              "      <td>-0.010</td>\n",
              "    </tr>\n",
              "    <tr>\n",
              "      <th>6</th>\n",
              "      <td>0.019</td>\n",
              "      <td>0.003</td>\n",
              "      <td>0.014</td>\n",
              "      <td>0.032</td>\n",
              "      <td>-0.011</td>\n",
              "      <td>0.002</td>\n",
              "      <td>0.011</td>\n",
              "      <td>0.041</td>\n",
              "      <td>0.029</td>\n",
              "      <td>0.016</td>\n",
              "    </tr>\n",
              "    <tr>\n",
              "      <th>7</th>\n",
              "      <td>0.029</td>\n",
              "      <td>-0.028</td>\n",
              "      <td>-0.010</td>\n",
              "      <td>-0.016</td>\n",
              "      <td>-0.031</td>\n",
              "      <td>0.031</td>\n",
              "      <td>-0.005</td>\n",
              "      <td>-0.035</td>\n",
              "      <td>0.007</td>\n",
              "      <td>-0.000</td>\n",
              "    </tr>\n",
              "    <tr>\n",
              "      <th>8</th>\n",
              "      <td>0.038</td>\n",
              "      <td>-0.003</td>\n",
              "      <td>0.009</td>\n",
              "      <td>0.078</td>\n",
              "      <td>0.023</td>\n",
              "      <td>0.031</td>\n",
              "      <td>-0.044</td>\n",
              "      <td>0.015</td>\n",
              "      <td>0.068</td>\n",
              "      <td>-0.037</td>\n",
              "    </tr>\n",
              "    <tr>\n",
              "      <th>9</th>\n",
              "      <td>0.029</td>\n",
              "      <td>-0.052</td>\n",
              "      <td>0.001</td>\n",
              "      <td>0.021</td>\n",
              "      <td>-0.003</td>\n",
              "      <td>-0.055</td>\n",
              "      <td>0.041</td>\n",
              "      <td>0.052</td>\n",
              "      <td>0.019</td>\n",
              "      <td>0.013</td>\n",
              "    </tr>\n",
              "    <tr>\n",
              "      <th>10</th>\n",
              "      <td>0.017</td>\n",
              "      <td>0.002</td>\n",
              "      <td>-0.009</td>\n",
              "      <td>-0.011</td>\n",
              "      <td>-0.017</td>\n",
              "      <td>0.002</td>\n",
              "      <td>-0.027</td>\n",
              "      <td>0.009</td>\n",
              "      <td>-0.002</td>\n",
              "      <td>-0.005</td>\n",
              "    </tr>\n",
              "    <tr>\n",
              "      <th>11</th>\n",
              "      <td>0.027</td>\n",
              "      <td>-0.030</td>\n",
              "      <td>-0.027</td>\n",
              "      <td>-0.011</td>\n",
              "      <td>-0.023</td>\n",
              "      <td>0.059</td>\n",
              "      <td>-0.010</td>\n",
              "      <td>0.023</td>\n",
              "      <td>0.004</td>\n",
              "      <td>-0.006</td>\n",
              "    </tr>\n",
              "    <tr>\n",
              "      <th>12</th>\n",
              "      <td>0.020</td>\n",
              "      <td>-0.033</td>\n",
              "      <td>-0.008</td>\n",
              "      <td>0.007</td>\n",
              "      <td>0.005</td>\n",
              "      <td>-0.070</td>\n",
              "      <td>0.004</td>\n",
              "      <td>0.032</td>\n",
              "      <td>0.003</td>\n",
              "      <td>-0.010</td>\n",
              "    </tr>\n",
              "    <tr>\n",
              "      <th>13</th>\n",
              "      <td>0.032</td>\n",
              "      <td>-0.020</td>\n",
              "      <td>-0.013</td>\n",
              "      <td>-0.013</td>\n",
              "      <td>0.003</td>\n",
              "      <td>-0.058</td>\n",
              "      <td>0.006</td>\n",
              "      <td>0.050</td>\n",
              "      <td>0.061</td>\n",
              "      <td>-0.036</td>\n",
              "    </tr>\n",
              "    <tr>\n",
              "      <th>14</th>\n",
              "      <td>0.022</td>\n",
              "      <td>0.004</td>\n",
              "      <td>-0.033</td>\n",
              "      <td>-0.008</td>\n",
              "      <td>0.029</td>\n",
              "      <td>-0.008</td>\n",
              "      <td>0.009</td>\n",
              "      <td>0.007</td>\n",
              "      <td>-0.016</td>\n",
              "      <td>-0.003</td>\n",
              "    </tr>\n",
              "  </tbody>\n",
              "</table>\n",
              "</div>"
            ],
            "text/plain": [
              "       T1     T2     T3     T4     T5     T6     T7     T8     T9    T10\n",
              "0   0.039 -0.018 -0.078 -0.010  0.011  0.066  0.027  0.022  0.034 -0.026\n",
              "1   0.016 -0.017 -0.013 -0.008 -0.024  0.028 -0.000  0.019 -0.008  0.006\n",
              "2   0.025  0.010  0.019 -0.023  0.014  0.006 -0.001 -0.001  0.017 -0.014\n",
              "3   0.030 -0.046 -0.011 -0.026 -0.057  0.046  0.017  0.009 -0.048  0.017\n",
              "4   0.032  0.018  0.016 -0.017 -0.055  0.013  0.007  0.064  0.013 -0.031\n",
              "5   0.010 -0.005 -0.010 -0.009 -0.011  0.017 -0.013  0.003  0.005 -0.010\n",
              "6   0.019  0.003  0.014  0.032 -0.011  0.002  0.011  0.041  0.029  0.016\n",
              "7   0.029 -0.028 -0.010 -0.016 -0.031  0.031 -0.005 -0.035  0.007 -0.000\n",
              "8   0.038 -0.003  0.009  0.078  0.023  0.031 -0.044  0.015  0.068 -0.037\n",
              "9   0.029 -0.052  0.001  0.021 -0.003 -0.055  0.041  0.052  0.019  0.013\n",
              "10  0.017  0.002 -0.009 -0.011 -0.017  0.002 -0.027  0.009 -0.002 -0.005\n",
              "11  0.027 -0.030 -0.027 -0.011 -0.023  0.059 -0.010  0.023  0.004 -0.006\n",
              "12  0.020 -0.033 -0.008  0.007  0.005 -0.070  0.004  0.032  0.003 -0.010\n",
              "13  0.032 -0.020 -0.013 -0.013  0.003 -0.058  0.006  0.050  0.061 -0.036\n",
              "14  0.022  0.004 -0.033 -0.008  0.029 -0.008  0.009  0.007 -0.016 -0.003"
            ]
          },
          "metadata": {
            "tags": []
          },
          "execution_count": 58
        }
      ]
    },
    {
      "cell_type": "code",
      "metadata": {
        "id": "fEiPn_2268CO",
        "colab_type": "code",
        "colab": {
          "base_uri": "https://localhost:8080/",
          "height": 935
        },
        "outputId": "5aee309f-0b24-42c5-e573-7f8f198097aa"
      },
      "source": [
        "document_numbers = [13, 250, 500]\n",
        "\n",
        "for document_number in document_numbers:\n",
        "    top_topics = list(document_topics.columns[np.argsort(-np.absolute(document_topics.iloc[document_number].values))[:3]])\n",
        "    print('Document #'+str(document_number)+':')\n",
        "    print('Dominant Topics (top 3):', top_topics)\n",
        "    print('Paper Summary:')\n",
        "    print(papers[document_number][:500])\n",
        "    print()"
      ],
      "execution_count": 59,
      "outputs": [
        {
          "output_type": "stream",
          "text": [
            "Document #13:\n",
            "Dominant Topics (top 3): ['T9', 'T6', 'T8']\n",
            "Paper Summary:\n",
            "74O \n",
            "SPATIAL ORGANIZATION OF NEURAL NETWORKS: \n",
            "A PROBABILISTIC MODELING APPROACH \n",
            "A. Stafylopati s \n",
            "M. Dikaiakos \n",
            "D. Kontoravdi s \n",
            "National Technical University of Athens, Department of Electri- \n",
            "cal Engineering, Computer Science Division, 157 73 Zographos, \n",
            "Athens, Greece. \n",
            "ABSTRACT \n",
            "The aim of this paper is to explore the spatial organization of \n",
            "neural networks under Markovian assumptions, in what concerns the be- \n",
            "haviour of individual cells and the interconnection mechanism. Space- \n",
            "organiz\n",
            "\n",
            "Document #250:\n",
            "Dominant Topics (top 3): ['T1', 'T2', 'T9']\n",
            "Paper Summary:\n",
            "60 Nelson and Bower \n",
            "Computational E.ciency: \n",
            "A Common Organizing Principle for \n",
            "Parallel Computer Maps and Brain Maps \n",
            "Mark E. Nelson James M. Bower \n",
            "Computation and Neural Systems Program \n",
            "Division of Biology, 216-76 \n",
            "California Institute of Technology \n",
            "Pasadena, CA 91125 \n",
            "ABSTRACT \n",
            "It is well-known that neural responses in particular brain regions \n",
            "are spatially organized, but no general principles have been de- \n",
            "veloped that relate the structure of a brain map to the nature of \n",
            "the associate\n",
            "\n",
            "Document #500:\n",
            "Dominant Topics (top 3): ['T1', 'T10', 'T7']\n",
            "Paper Summary:\n",
            "Learning Global Direct Inverse Kinematics \n",
            "David DeMers* \n",
            "Computer Science & Eng. \n",
            "UC San Diego \n",
            "La Jolla, CA 92093-0114 \n",
            "Kenneth Kreutz-Deigado I \n",
            "Electrical & Computer Eng. \n",
            "UC San Diego \n",
            "La Jolla, CA 92093-0407 \n",
            "Abstract \n",
            "We introduce and demonstrate a bootstrap method for construction of an in- \n",
            "verse function for the robot kinematic mapping using only sample configuration- \n",
            "space/workspace data. Unsupervised learning (clustering) techniques are used on \n",
            "pre-image neighborhoods in order to l\n",
            "\n"
          ],
          "name": "stdout"
        }
      ]
    },
    {
      "cell_type": "markdown",
      "metadata": {
        "id": "KpCy6Njp68CU",
        "colab_type": "text"
      },
      "source": [
        "# Implementing LSI Topic Models from Scratch"
      ]
    },
    {
      "cell_type": "code",
      "metadata": {
        "id": "BQxKaQL-68CU",
        "colab_type": "code",
        "colab": {},
        "outputId": "6e1f96a8-360d-4c12-bab7-7e5ccf6ec72d"
      },
      "source": [
        "td_matrix = gensim.matutils.corpus2dense(corpus=bow_corpus, num_terms=len(dictionary))\n",
        "print(td_matrix.shape)\n",
        "td_matrix"
      ],
      "execution_count": null,
      "outputs": [
        {
          "output_type": "stream",
          "text": [
            "(7756, 1740)\n"
          ],
          "name": "stdout"
        },
        {
          "output_type": "execute_result",
          "data": {
            "text/plain": [
              "array([[1., 0., 1., ..., 0., 2., 1.],\n",
              "       [1., 0., 1., ..., 1., 1., 0.],\n",
              "       [1., 0., 0., ..., 0., 0., 0.],\n",
              "       ...,\n",
              "       [0., 0., 0., ..., 0., 0., 0.],\n",
              "       [0., 0., 0., ..., 0., 0., 0.],\n",
              "       [0., 0., 0., ..., 0., 0., 0.]], dtype=float32)"
            ]
          },
          "metadata": {
            "tags": []
          },
          "execution_count": 20
        }
      ]
    },
    {
      "cell_type": "code",
      "metadata": {
        "id": "YbvtvOS_68CX",
        "colab_type": "code",
        "colab": {},
        "outputId": "d7a5624a-c398-4b24-f8d8-a462123722f4"
      },
      "source": [
        "vocabulary = np.array(list(dictionary.values()))\n",
        "print('Total vocabulary size:', len(vocabulary))\n",
        "vocabulary"
      ],
      "execution_count": null,
      "outputs": [
        {
          "output_type": "stream",
          "text": [
            "Total vocabulary size: 7756\n"
          ],
          "name": "stdout"
        },
        {
          "output_type": "execute_result",
          "data": {
            "text/plain": [
              "array(['able', 'abstract', 'accommodate', ..., 'support_vector',\n",
              "       'mozer_jordan', 'kearns_solla'], dtype='<U28')"
            ]
          },
          "metadata": {
            "tags": []
          },
          "execution_count": 21
        }
      ]
    },
    {
      "cell_type": "code",
      "metadata": {
        "id": "ZNuxVEGi68Ca",
        "colab_type": "code",
        "colab": {},
        "outputId": "bda022a1-396b-4dca-a2bb-4c931fec8092"
      },
      "source": [
        "dictionary[0]"
      ],
      "execution_count": null,
      "outputs": [
        {
          "output_type": "execute_result",
          "data": {
            "text/plain": [
              "'able'"
            ]
          },
          "metadata": {
            "tags": []
          },
          "execution_count": 22
        }
      ]
    },
    {
      "cell_type": "code",
      "metadata": {
        "id": "_kaaFXv268Cd",
        "colab_type": "code",
        "colab": {},
        "outputId": "74b1ec7a-dd82-4333-cf8b-24792458ab75"
      },
      "source": [
        "from scipy.sparse.linalg import svds\n",
        "\n",
        "u, s, vt = svds(td_matrix, k=TOTAL_TOPICS, maxiter=10000)\n",
        "term_topic = u\n",
        "singular_values = s\n",
        "topic_document = vt\n",
        "term_topic.shape, singular_values.shape, topic_document.shape"
      ],
      "execution_count": null,
      "outputs": [
        {
          "output_type": "execute_result",
          "data": {
            "text/plain": [
              "((7756, 10), (10,), (10, 1740))"
            ]
          },
          "metadata": {
            "tags": []
          },
          "execution_count": 23
        }
      ]
    },
    {
      "cell_type": "code",
      "metadata": {
        "id": "j2UNzU7b68Ck",
        "colab_type": "code",
        "colab": {},
        "outputId": "eeceb34e-99e9-47b6-bd6f-56317e2f5756"
      },
      "source": [
        "tt_weights = term_topic.transpose() * singular_values[:, None]\n",
        "tt_weights.shape"
      ],
      "execution_count": null,
      "outputs": [
        {
          "output_type": "execute_result",
          "data": {
            "text/plain": [
              "(10, 7756)"
            ]
          },
          "metadata": {
            "tags": []
          },
          "execution_count": 24
        }
      ]
    },
    {
      "cell_type": "code",
      "metadata": {
        "id": "thJecJIv68Cm",
        "colab_type": "code",
        "colab": {},
        "outputId": "64cfa8dc-0ccf-42a4-a3d5-734cfe019f22"
      },
      "source": [
        "top_terms = 20\n",
        "topic_key_term_idxs = np.argsort(-np.absolute(tt_weights), axis=1)[:, :top_terms]\n",
        "topic_keyterm_weights = np.array([tt_weights[row, columns] \n",
        "                             for row, columns in list(zip(np.arange(TOTAL_TOPICS), topic_key_term_idxs))])\n",
        "topic_keyterms = vocabulary[topic_key_term_idxs]\n",
        "topic_keyterms_weights = list(zip(topic_keyterms, topic_keyterm_weights))\n",
        "for n in range(TOTAL_TOPICS):\n",
        "    print('Topic #'+str(n+1)+':')\n",
        "    print('='*50)\n",
        "    d1 = []\n",
        "    d2 = []\n",
        "    terms, weights = topic_keyterms_weights[n]\n",
        "    term_weights = sorted([(t, w) for t, w in zip(terms, weights)], \n",
        "                          key=lambda row: -abs(row[1]))\n",
        "    for term, wt in term_weights:\n",
        "        if wt >= 0:\n",
        "            d1.append((term, round(wt, 3)))\n",
        "        else:\n",
        "            d2.append((term, round(wt, 3)))\n",
        "\n",
        "    print('Direction 1:', d1)\n",
        "    print('-'*50)\n",
        "    print('Direction 2:', d2)\n",
        "    print('-'*50)\n",
        "    print()"
      ],
      "execution_count": null,
      "outputs": [
        {
          "output_type": "stream",
          "text": [
            "Topic #1:\n",
            "==================================================\n",
            "Direction 1: [('training', 92.618), ('task', 80.732), ('pattern', 70.619), ('classifier', 56.989), ('control', 50.677), ('rule', 45.926), ('action', 41.202), ('neuron', 38.193)]\n",
            "--------------------------------------------------\n",
            "Direction 2: [('word', -188.488), ('vector', -85.973), ('node', -54.376), ('recognition', -53.232), ('sequence', -50.351), ('circuit', -45.394), ('cell', -44.811), ('hmm', -34.086), ('character', -34.022), ('chip', -32.16), ('matrix', -32.093), ('structure', -30.993)]\n",
            "--------------------------------------------------\n",
            "\n",
            "Topic #2:\n",
            "==================================================\n",
            "Direction 1: [('word', 78.347), ('neuron', 69.793), ('stimulus', 63.234), ('feature', 53.819), ('distribution', 53.119), ('response', 30.954), ('state', 29.343), ('probability', 29.099), ('estimate', 28.908)]\n",
            "--------------------------------------------------\n",
            "Direction 2: [('node', -173.277), ('circuit', -93.0), ('chip', -73.593), ('classifier', -58.717), ('current', -55.844), ('voltage', -53.489), ('control', -51.708), ('rule', -45.293), ('layer', -40.265), ('analog', -38.344), ('tree', -33.483)]\n",
            "--------------------------------------------------\n",
            "\n",
            "Topic #3:\n",
            "==================================================\n",
            "Direction 1: [('pattern', 116.971), ('rule', 69.783), ('state', 68.605), ('class', 64.259), ('cell', 59.979), ('feature', 59.606), ('node', 49.175), ('neuron', 47.998), ('probability', 43.812), ('classifier', 42.612), ('image', 42.061)]\n",
            "--------------------------------------------------\n",
            "Direction 2: [('signal', -93.805), ('control', -91.041), ('training', -77.88), ('noise', -64.397), ('word', -62.392), ('motion', -56.699), ('task', -53.883), ('target', -44.765), ('circuit', -44.129)]\n",
            "--------------------------------------------------\n",
            "\n",
            "Topic #4:\n",
            "==================================================\n",
            "Direction 1: [('unit', 117.727), ('distribution', 66.719), ('vector', 58.881), ('approximation', 50.931), ('variable', 50.83), ('equation', 46.229), ('noise', 44.247), ('matrix', 42.214)]\n",
            "--------------------------------------------------\n",
            "Direction 2: [('word', -147.792), ('training', -113.693), ('classifier', -107.386), ('recognition', -73.948), ('feature', -63.454), ('state', -60.126), ('pattern', -59.562), ('cell', -53.768), ('task', -53.693), ('classification', -44.936), ('class', -43.161), ('neuron', -41.092)]\n",
            "--------------------------------------------------\n",
            "\n",
            "Topic #5:\n",
            "==================================================\n",
            "Direction 1: [('neuron', 220.116), ('image', 92.39), ('chip', 44.422), ('unit', 41.922), ('object', 39.001), ('circuit', 30.444), ('memory', 26.475), ('analog', 25.207), ('activation', 24.953), ('bit', 22.997), ('net', 22.699)]\n",
            "--------------------------------------------------\n",
            "Direction 2: [('cell', -285.803), ('response', -40.216), ('rat', -35.975), ('distribution', -33.085), ('probability', -29.79), ('stimulus', -27.789), ('class', -24.02), ('cortical', -22.185), ('firing', -21.66)]\n",
            "--------------------------------------------------\n",
            "\n",
            "Topic #6:\n",
            "==================================================\n",
            "Direction 1: [('image', 209.793), ('state', 170.207), ('unit', 129.108), ('object', 82.185), ('action', 72.136), ('visual', 59.502), ('motion', 50.605), ('feature', 48.665), ('control', 47.427), ('task', 46.496), ('cell', 42.366), ('representation', 40.564)]\n",
            "--------------------------------------------------\n",
            "Direction 2: [('neuron', -130.053), ('training', -88.668), ('class', -85.213), ('classifier', -81.921), ('vector', -57.532), ('node', -56.341), ('distribution', -51.622), ('classification', -47.645)]\n",
            "--------------------------------------------------\n",
            "\n",
            "Topic #7:\n",
            "==================================================\n",
            "Direction 1: [('image', 215.858), ('feature', 55.647), ('neuron', 48.494), ('pixel', 35.095), ('object', 33.585), ('state', 32.544), ('distribution', 29.977), ('face', 29.256), ('estimate', 27.555)]\n",
            "--------------------------------------------------\n",
            "Direction 2: [('unit', -341.829), ('pattern', -90.771), ('layer', -65.337), ('hidden_unit', -61.12), ('net', -60.035), ('training', -56.742), ('activation', -54.268), ('rule', -53.377), ('word', -38.903), ('connection', -34.618), ('architecture', -28.439)]\n",
            "--------------------------------------------------\n",
            "\n",
            "Topic #8:\n",
            "==================================================\n",
            "Direction 1: [('image', 229.287), ('feature', 121.397), ('unit', 79.44), ('object', 76.204), ('training', 75.152), ('classifier', 59.872), ('class', 52.527), ('classification', 46.696), ('layer', 45.149), ('recognition', 44.192), ('representation', 40.179), ('pattern', 39.252)]\n",
            "--------------------------------------------------\n",
            "Direction 2: [('state', -364.388), ('neuron', -127.022), ('action', -109.245), ('control', -75.369), ('policy', -63.103), ('step', -47.226), ('dynamic', -46.907), ('reinforcement_learning', -42.747)]\n",
            "--------------------------------------------------\n",
            "\n",
            "Topic #9:\n",
            "==================================================\n",
            "Direction 1: [('neuron', 306.151), ('cell', 249.243), ('response', 119.758), ('stimulus', 106.762), ('activity', 73.499), ('spike', 62.039), ('pattern', 60.957), ('circuit', 60.602), ('synaptic', 60.282), ('signal', 56.665), ('firing', 56.597), ('visual', 55.571), ('cortical', 48.867)]\n",
            "--------------------------------------------------\n",
            "Direction 2: [('state', -161.465), ('training', -117.32), ('class', -68.732), ('vector', -59.558), ('classifier', -52.589), ('action', -52.113), ('word', -49.239)]\n",
            "--------------------------------------------------\n",
            "\n",
            "Topic #10:\n",
            "==================================================\n",
            "Direction 1: []\n",
            "--------------------------------------------------\n",
            "Direction 2: [('unit', -260.793), ('state', -258.146), ('training', -227.312), ('neuron', -215.681), ('pattern', -197.232), ('image', -175.735), ('vector', -170.154), ('feature', -151.547), ('cell', -148.138), ('layer', -133.593), ('task', -122.389), ('class', -117.849), ('probability', -110.526), ('signal', -108.232), ('step', -105.202), ('response', -104.465), ('representation', -103.255), ('noise', -100.573), ('rule', -99.611), ('distribution', -98.973)]\n",
            "--------------------------------------------------\n",
            "\n"
          ],
          "name": "stdout"
        }
      ]
    },
    {
      "cell_type": "code",
      "metadata": {
        "id": "B_dR3PFV68Cr",
        "colab_type": "code",
        "colab": {},
        "outputId": "82c00304-88fe-478a-e45c-d7bb9370a092"
      },
      "source": [
        "import pandas as pd\n",
        "\n",
        "document_topics = pd.DataFrame(np.round(topic_document.T, 3), \n",
        "                               columns=['T'+str(i) for i in range(1, TOTAL_TOPICS+1)])\n",
        "document_topics.head(15)"
      ],
      "execution_count": null,
      "outputs": [
        {
          "output_type": "execute_result",
          "data": {
            "text/html": [
              "<div>\n",
              "<style scoped>\n",
              "    .dataframe tbody tr th:only-of-type {\n",
              "        vertical-align: middle;\n",
              "    }\n",
              "\n",
              "    .dataframe tbody tr th {\n",
              "        vertical-align: top;\n",
              "    }\n",
              "\n",
              "    .dataframe thead th {\n",
              "        text-align: right;\n",
              "    }\n",
              "</style>\n",
              "<table border=\"1\" class=\"dataframe\">\n",
              "  <thead>\n",
              "    <tr style=\"text-align: right;\">\n",
              "      <th></th>\n",
              "      <th>T1</th>\n",
              "      <th>T2</th>\n",
              "      <th>T3</th>\n",
              "      <th>T4</th>\n",
              "      <th>T5</th>\n",
              "      <th>T6</th>\n",
              "      <th>T7</th>\n",
              "      <th>T8</th>\n",
              "      <th>T9</th>\n",
              "      <th>T10</th>\n",
              "    </tr>\n",
              "  </thead>\n",
              "  <tbody>\n",
              "    <tr>\n",
              "      <th>0</th>\n",
              "      <td>-0.005</td>\n",
              "      <td>0.000</td>\n",
              "      <td>0.072</td>\n",
              "      <td>0.030</td>\n",
              "      <td>0.018</td>\n",
              "      <td>0.010</td>\n",
              "      <td>-0.077</td>\n",
              "      <td>0.009</td>\n",
              "      <td>-0.002</td>\n",
              "      <td>-0.038</td>\n",
              "    </tr>\n",
              "    <tr>\n",
              "      <th>1</th>\n",
              "      <td>-0.007</td>\n",
              "      <td>0.001</td>\n",
              "      <td>0.017</td>\n",
              "      <td>0.013</td>\n",
              "      <td>0.016</td>\n",
              "      <td>-0.011</td>\n",
              "      <td>0.008</td>\n",
              "      <td>-0.022</td>\n",
              "      <td>-0.000</td>\n",
              "      <td>-0.022</td>\n",
              "    </tr>\n",
              "    <tr>\n",
              "      <th>2</th>\n",
              "      <td>0.014</td>\n",
              "      <td>0.008</td>\n",
              "      <td>-0.009</td>\n",
              "      <td>-0.008</td>\n",
              "      <td>-0.000</td>\n",
              "      <td>0.003</td>\n",
              "      <td>0.003</td>\n",
              "      <td>-0.004</td>\n",
              "      <td>0.028</td>\n",
              "      <td>-0.021</td>\n",
              "    </tr>\n",
              "    <tr>\n",
              "      <th>3</th>\n",
              "      <td>-0.016</td>\n",
              "      <td>-0.003</td>\n",
              "      <td>0.011</td>\n",
              "      <td>-0.002</td>\n",
              "      <td>-0.044</td>\n",
              "      <td>0.023</td>\n",
              "      <td>0.003</td>\n",
              "      <td>0.011</td>\n",
              "      <td>0.048</td>\n",
              "      <td>-0.024</td>\n",
              "    </tr>\n",
              "    <tr>\n",
              "      <th>4</th>\n",
              "      <td>-0.036</td>\n",
              "      <td>-0.061</td>\n",
              "      <td>0.050</td>\n",
              "      <td>-0.006</td>\n",
              "      <td>-0.058</td>\n",
              "      <td>0.003</td>\n",
              "      <td>0.013</td>\n",
              "      <td>-0.013</td>\n",
              "      <td>0.020</td>\n",
              "      <td>-0.032</td>\n",
              "    </tr>\n",
              "    <tr>\n",
              "      <th>5</th>\n",
              "      <td>-0.020</td>\n",
              "      <td>-0.040</td>\n",
              "      <td>0.137</td>\n",
              "      <td>-0.087</td>\n",
              "      <td>-0.307</td>\n",
              "      <td>0.019</td>\n",
              "      <td>-0.022</td>\n",
              "      <td>-0.003</td>\n",
              "      <td>0.183</td>\n",
              "      <td>-0.085</td>\n",
              "    </tr>\n",
              "    <tr>\n",
              "      <th>6</th>\n",
              "      <td>0.012</td>\n",
              "      <td>-0.002</td>\n",
              "      <td>0.014</td>\n",
              "      <td>-0.012</td>\n",
              "      <td>0.042</td>\n",
              "      <td>-0.017</td>\n",
              "      <td>0.003</td>\n",
              "      <td>-0.019</td>\n",
              "      <td>0.034</td>\n",
              "      <td>-0.020</td>\n",
              "    </tr>\n",
              "    <tr>\n",
              "      <th>7</th>\n",
              "      <td>0.013</td>\n",
              "      <td>-0.003</td>\n",
              "      <td>-0.005</td>\n",
              "      <td>-0.004</td>\n",
              "      <td>0.001</td>\n",
              "      <td>-0.008</td>\n",
              "      <td>-0.018</td>\n",
              "      <td>0.007</td>\n",
              "      <td>-0.006</td>\n",
              "      <td>-0.012</td>\n",
              "    </tr>\n",
              "    <tr>\n",
              "      <th>8</th>\n",
              "      <td>0.011</td>\n",
              "      <td>0.011</td>\n",
              "      <td>0.019</td>\n",
              "      <td>-0.020</td>\n",
              "      <td>-0.009</td>\n",
              "      <td>-0.018</td>\n",
              "      <td>0.003</td>\n",
              "      <td>-0.017</td>\n",
              "      <td>0.071</td>\n",
              "      <td>-0.033</td>\n",
              "    </tr>\n",
              "    <tr>\n",
              "      <th>9</th>\n",
              "      <td>-0.006</td>\n",
              "      <td>-0.005</td>\n",
              "      <td>-0.006</td>\n",
              "      <td>0.036</td>\n",
              "      <td>0.008</td>\n",
              "      <td>0.016</td>\n",
              "      <td>0.041</td>\n",
              "      <td>0.027</td>\n",
              "      <td>-0.007</td>\n",
              "      <td>-0.027</td>\n",
              "    </tr>\n",
              "    <tr>\n",
              "      <th>10</th>\n",
              "      <td>-0.023</td>\n",
              "      <td>0.015</td>\n",
              "      <td>0.060</td>\n",
              "      <td>0.009</td>\n",
              "      <td>0.031</td>\n",
              "      <td>-0.029</td>\n",
              "      <td>-0.033</td>\n",
              "      <td>-0.012</td>\n",
              "      <td>0.011</td>\n",
              "      <td>-0.046</td>\n",
              "    </tr>\n",
              "    <tr>\n",
              "      <th>11</th>\n",
              "      <td>-0.021</td>\n",
              "      <td>-0.046</td>\n",
              "      <td>-0.021</td>\n",
              "      <td>0.028</td>\n",
              "      <td>0.004</td>\n",
              "      <td>0.016</td>\n",
              "      <td>0.031</td>\n",
              "      <td>0.006</td>\n",
              "      <td>0.003</td>\n",
              "      <td>-0.023</td>\n",
              "    </tr>\n",
              "    <tr>\n",
              "      <th>12</th>\n",
              "      <td>-0.021</td>\n",
              "      <td>-0.056</td>\n",
              "      <td>0.024</td>\n",
              "      <td>-0.002</td>\n",
              "      <td>0.059</td>\n",
              "      <td>-0.023</td>\n",
              "      <td>-0.002</td>\n",
              "      <td>-0.017</td>\n",
              "      <td>0.034</td>\n",
              "      <td>-0.034</td>\n",
              "    </tr>\n",
              "    <tr>\n",
              "      <th>13</th>\n",
              "      <td>0.011</td>\n",
              "      <td>-0.018</td>\n",
              "      <td>-0.009</td>\n",
              "      <td>0.018</td>\n",
              "      <td>0.056</td>\n",
              "      <td>-0.019</td>\n",
              "      <td>-0.021</td>\n",
              "      <td>-0.019</td>\n",
              "      <td>0.030</td>\n",
              "      <td>-0.041</td>\n",
              "    </tr>\n",
              "    <tr>\n",
              "      <th>14</th>\n",
              "      <td>-0.010</td>\n",
              "      <td>0.005</td>\n",
              "      <td>0.013</td>\n",
              "      <td>0.020</td>\n",
              "      <td>0.003</td>\n",
              "      <td>0.003</td>\n",
              "      <td>-0.023</td>\n",
              "      <td>-0.000</td>\n",
              "      <td>-0.004</td>\n",
              "      <td>-0.015</td>\n",
              "    </tr>\n",
              "  </tbody>\n",
              "</table>\n",
              "</div>"
            ],
            "text/plain": [
              "       T1     T2     T3     T4     T5     T6     T7     T8     T9    T10\n",
              "0  -0.005  0.000  0.072  0.030  0.018  0.010 -0.077  0.009 -0.002 -0.038\n",
              "1  -0.007  0.001  0.017  0.013  0.016 -0.011  0.008 -0.022 -0.000 -0.022\n",
              "2   0.014  0.008 -0.009 -0.008 -0.000  0.003  0.003 -0.004  0.028 -0.021\n",
              "3  -0.016 -0.003  0.011 -0.002 -0.044  0.023  0.003  0.011  0.048 -0.024\n",
              "4  -0.036 -0.061  0.050 -0.006 -0.058  0.003  0.013 -0.013  0.020 -0.032\n",
              "5  -0.020 -0.040  0.137 -0.087 -0.307  0.019 -0.022 -0.003  0.183 -0.085\n",
              "6   0.012 -0.002  0.014 -0.012  0.042 -0.017  0.003 -0.019  0.034 -0.020\n",
              "7   0.013 -0.003 -0.005 -0.004  0.001 -0.008 -0.018  0.007 -0.006 -0.012\n",
              "8   0.011  0.011  0.019 -0.020 -0.009 -0.018  0.003 -0.017  0.071 -0.033\n",
              "9  -0.006 -0.005 -0.006  0.036  0.008  0.016  0.041  0.027 -0.007 -0.027\n",
              "10 -0.023  0.015  0.060  0.009  0.031 -0.029 -0.033 -0.012  0.011 -0.046\n",
              "11 -0.021 -0.046 -0.021  0.028  0.004  0.016  0.031  0.006  0.003 -0.023\n",
              "12 -0.021 -0.056  0.024 -0.002  0.059 -0.023 -0.002 -0.017  0.034 -0.034\n",
              "13  0.011 -0.018 -0.009  0.018  0.056 -0.019 -0.021 -0.019  0.030 -0.041\n",
              "14 -0.010  0.005  0.013  0.020  0.003  0.003 -0.023 -0.000 -0.004 -0.015"
            ]
          },
          "metadata": {
            "tags": []
          },
          "execution_count": 26
        }
      ]
    },
    {
      "cell_type": "code",
      "metadata": {
        "id": "a7nbFHJo68Cz",
        "colab_type": "code",
        "colab": {},
        "outputId": "bd6d4b68-ca8d-434a-8330-8647bbcbad34"
      },
      "source": [
        "document_numbers = [13, 250, 500]\n",
        "\n",
        "for document_number in document_numbers:\n",
        "    top_topics = list(document_topics.columns[np.argsort(-np.absolute(document_topics.iloc[document_number].values))[:3]])\n",
        "    print('Document #'+str(document_number)+':')\n",
        "    print('Dominant Topics (top 3):', top_topics)\n",
        "    print('Paper Summary:')\n",
        "    print(papers[document_number][:500])\n",
        "    print()"
      ],
      "execution_count": null,
      "outputs": [
        {
          "output_type": "stream",
          "text": [
            "Document #13:\n",
            "Dominant Topics (top 3): ['T5', 'T10', 'T9']\n",
            "Paper Summary:\n",
            "9 \n",
            "Stochastic Learning Networks and their Electronic Implementation \n",
            "Joshua Alspector*, Robert B. Allen, Victor Hut, and Srinagesh Satyanarayana \n",
            "Bell Communications Research, Morristown, NJ 07960 \n",
            "ABSTRACT\n",
            "We describe a family of learning algorithms that operate on a recurrent, symmetrically \n",
            "connected, neuromorphic network that, like the Boltzmann machine, settles in the \n",
            "presence of noise. These networks learn by modifying synaptic connection strengths on \n",
            "the basis of correlations seen loca\n",
            "\n",
            "Document #250:\n",
            "Dominant Topics (top 3): ['T6', 'T8', 'T3']\n",
            "Paper Summary:\n",
            "266 Zemel, Mozer and Hinton \n",
            "TRAFFIC: Recognizing Objects Using \n",
            "Hierarchical Reference Frame Transformations \n",
            "Richard S. Zemel \n",
            "Computer Science Dept. \n",
            "University of Toronto \n",
            "Toronto, ONT M5S 1A4 \n",
            "Michael C. Mozer \n",
            "Computer Science Dept. \n",
            "University of Colorado \n",
            "Boulder, CO 80309-0430 \n",
            "Geoffrey E. Hinton \n",
            "Computer Science Dept. \n",
            "University of Toronto \n",
            "Toronto, ONT M5S 1A4 \n",
            "ABSTRACT \n",
            "We describe a model that can recognize two-dimensional shapes in \n",
            "an unsegmented image, independent of their orie\n",
            "\n",
            "Document #500:\n",
            "Dominant Topics (top 3): ['T2', 'T3', 'T1']\n",
            "Paper Summary:\n",
            "Constrained Optimization Applied to the \n",
            "Parameter Setting Problem for Analog Circuits \n",
            "David Kirk, Kurt Fleischer, Lloyd Watts Alan Bart \n",
            "Computer Graphics 350-74 \n",
            "California Institute of Technology \n",
            "Pasadena, CA 91125 \n",
            "Abstract \n",
            "We use constrained optimization to select operating parameters for two \n",
            "circuits: a simple 3-transistor square root circuit, and an analog VLSI \n",
            "artificial cochlea. This automated method uses computer controlled mea- \n",
            "surement and test equipment to choose chip paramet\n",
            "\n"
          ],
          "name": "stdout"
        }
      ]
    },
    {
      "cell_type": "markdown",
      "metadata": {
        "id": "rLuX_pwJ68C2",
        "colab_type": "text"
      },
      "source": [
        "# Topic Models with Latent Dirichlet Allocation (LDA)"
      ]
    },
    {
      "cell_type": "code",
      "metadata": {
        "id": "jTLxbnqF68C2",
        "colab_type": "code",
        "colab": {},
        "outputId": "fbbc89a6-f43b-4bd9-9de9-425e5a4a31b1"
      },
      "source": [
        "%%time\n",
        "lda_model = gensim.models.LdaModel(corpus=bow_corpus, id2word=dictionary, chunksize=1740, \n",
        "                                   alpha='auto', eta='auto', random_state=42,\n",
        "                                   iterations=500, num_topics=TOTAL_TOPICS, \n",
        "                                   passes=20, eval_every=None)"
      ],
      "execution_count": null,
      "outputs": [
        {
          "output_type": "stream",
          "text": [
            "CPU times: user 5min 32s, sys: 10.7 s, total: 5min 43s\n",
            "Wall time: 2min 31s\n"
          ],
          "name": "stdout"
        }
      ]
    },
    {
      "cell_type": "code",
      "metadata": {
        "id": "Vbfw3AuP68C5",
        "colab_type": "code",
        "colab": {},
        "outputId": "9507c3c0-698d-47ee-c1ed-d17a898b8554"
      },
      "source": [
        "for topic_id, topic in lda_model.print_topics(num_topics=10, num_words=20):\n",
        "    print('Topic #'+str(topic_id+1)+':')\n",
        "    print(topic)\n",
        "    print()"
      ],
      "execution_count": null,
      "outputs": [
        {
          "output_type": "stream",
          "text": [
            "Topic #1:\n",
            "0.016*\"training\" + 0.012*\"classifier\" + 0.007*\"pattern\" + 0.007*\"classification\" + 0.006*\"class\" + 0.006*\"task\" + 0.006*\"vector\" + 0.005*\"training_set\" + 0.005*\"feature\" + 0.004*\"control\" + 0.004*\"size\" + 0.003*\"trained\" + 0.003*\"teacher\" + 0.003*\"rate\" + 0.003*\"student\" + 0.003*\"average\" + 0.003*\"robot\" + 0.003*\"random\" + 0.003*\"rule\" + 0.003*\"search\"\n",
            "\n",
            "Topic #2:\n",
            "0.008*\"vector\" + 0.006*\"equation\" + 0.006*\"matrix\" + 0.006*\"neuron\" + 0.005*\"state\" + 0.005*\"dynamic\" + 0.005*\"solution\" + 0.005*\"unit\" + 0.004*\"node\" + 0.004*\"pattern\" + 0.004*\"linear\" + 0.004*\"let\" + 0.003*\"layer\" + 0.003*\"convergence\" + 0.003*\"rule\" + 0.003*\"size\" + 0.003*\"theorem\" + 0.003*\"threshold\" + 0.003*\"memory\" + 0.003*\"theory\"\n",
            "\n",
            "Topic #3:\n",
            "0.017*\"training\" + 0.011*\"word\" + 0.008*\"recognition\" + 0.007*\"trained\" + 0.006*\"net\" + 0.006*\"unit\" + 0.006*\"feature\" + 0.006*\"speech\" + 0.006*\"task\" + 0.005*\"architecture\" + 0.005*\"class\" + 0.005*\"character\" + 0.004*\"layer\" + 0.004*\"classification\" + 0.004*\"context\" + 0.004*\"test\" + 0.004*\"sequence\" + 0.004*\"hidden_unit\" + 0.004*\"experiment\" + 0.004*\"vector\"\n",
            "\n",
            "Topic #4:\n",
            "0.017*\"motion\" + 0.009*\"rule\" + 0.008*\"direction\" + 0.007*\"stimulus\" + 0.006*\"velocity\" + 0.006*\"task\" + 0.006*\"human\" + 0.006*\"unit\" + 0.005*\"location\" + 0.005*\"target\" + 0.005*\"subject\" + 0.005*\"memory\" + 0.005*\"prediction\" + 0.005*\"position\" + 0.004*\"concept\" + 0.004*\"field\" + 0.004*\"response\" + 0.004*\"cue\" + 0.004*\"layer\" + 0.004*\"hand\"\n",
            "\n",
            "Topic #5:\n",
            "0.008*\"distribution\" + 0.005*\"estimate\" + 0.005*\"sample\" + 0.005*\"training\" + 0.005*\"class\" + 0.005*\"probability\" + 0.005*\"approximation\" + 0.004*\"variable\" + 0.004*\"gaussian\" + 0.004*\"linear\" + 0.004*\"vector\" + 0.004*\"prior\" + 0.004*\"noise\" + 0.004*\"density\" + 0.004*\"prediction\" + 0.003*\"kernel\" + 0.003*\"variance\" + 0.003*\"mixture\" + 0.003*\"bound\" + 0.003*\"regression\"\n",
            "\n",
            "Topic #6:\n",
            "0.037*\"state\" + 0.011*\"action\" + 0.008*\"step\" + 0.008*\"control\" + 0.007*\"policy\" + 0.006*\"sequence\" + 0.006*\"reinforcement_learning\" + 0.005*\"probability\" + 0.005*\"optimal\" + 0.004*\"task\" + 0.004*\"transition\" + 0.004*\"environment\" + 0.003*\"variable\" + 0.003*\"reward\" + 0.003*\"stochastic\" + 0.003*\"goal\" + 0.003*\"machine\" + 0.003*\"current\" + 0.003*\"controller\" + 0.003*\"agent\"\n",
            "\n",
            "Topic #7:\n",
            "0.012*\"circuit\" + 0.011*\"signal\" + 0.011*\"chip\" + 0.009*\"neuron\" + 0.008*\"current\" + 0.007*\"voltage\" + 0.006*\"analog\" + 0.006*\"control\" + 0.005*\"channel\" + 0.004*\"noise\" + 0.004*\"neural\" + 0.004*\"bit\" + 0.004*\"implementation\" + 0.004*\"source\" + 0.003*\"design\" + 0.003*\"gain\" + 0.003*\"processor\" + 0.003*\"synapse\" + 0.003*\"device\" + 0.003*\"array\"\n",
            "\n",
            "Topic #8:\n",
            "0.021*\"neuron\" + 0.019*\"cell\" + 0.009*\"response\" + 0.007*\"activity\" + 0.007*\"stimulus\" + 0.007*\"pattern\" + 0.006*\"spike\" + 0.005*\"synaptic\" + 0.004*\"cortical\" + 0.004*\"neural\" + 0.004*\"signal\" + 0.004*\"firing\" + 0.004*\"connection\" + 0.004*\"effect\" + 0.004*\"layer\" + 0.004*\"et_al\" + 0.004*\"cortex\" + 0.003*\"visual\" + 0.003*\"simulation\" + 0.003*\"synapsis\"\n",
            "\n",
            "Topic #9:\n",
            "0.032*\"image\" + 0.012*\"object\" + 0.012*\"feature\" + 0.006*\"pixel\" + 0.006*\"visual\" + 0.005*\"representation\" + 0.005*\"face\" + 0.005*\"vector\" + 0.004*\"view\" + 0.004*\"recognition\" + 0.004*\"transformation\" + 0.004*\"local\" + 0.003*\"map\" + 0.003*\"structure\" + 0.003*\"region\" + 0.003*\"filter\" + 0.003*\"position\" + 0.003*\"distance\" + 0.003*\"part\" + 0.003*\"location\"\n",
            "\n",
            "Topic #10:\n",
            "0.030*\"unit\" + 0.009*\"pattern\" + 0.007*\"representation\" + 0.007*\"activation\" + 0.006*\"hidden_unit\" + 0.006*\"node\" + 0.006*\"structure\" + 0.006*\"layer\" + 0.005*\"activity\" + 0.004*\"connection\" + 0.004*\"task\" + 0.004*\"component\" + 0.004*\"map\" + 0.004*\"rule\" + 0.004*\"architecture\" + 0.004*\"signal\" + 0.004*\"level\" + 0.003*\"response\" + 0.003*\"connectionist\" + 0.003*\"training\"\n",
            "\n"
          ],
          "name": "stdout"
        }
      ]
    },
    {
      "cell_type": "code",
      "metadata": {
        "id": "b4pVc6ZM68C8",
        "colab_type": "code",
        "colab": {},
        "outputId": "a31dea08-31bf-42e4-c561-335e372cf242"
      },
      "source": [
        "topics_coherences = lda_model.top_topics(bow_corpus, topn=20)\n",
        "avg_coherence_score = np.mean([item[1] for item in topics_coherences])\n",
        "print('Avg. Coherence Score:', avg_coherence_score)"
      ],
      "execution_count": null,
      "outputs": [
        {
          "output_type": "stream",
          "text": [
            "Avg. Coherence Score: -1.0433305600965899\n"
          ],
          "name": "stdout"
        }
      ]
    },
    {
      "cell_type": "code",
      "metadata": {
        "id": "F8sTjPkP68C-",
        "colab_type": "code",
        "colab": {},
        "outputId": "42ae20f9-380e-456d-f732-c6bbaff1647e"
      },
      "source": [
        "topics_with_wts = [item[0] for item in topics_coherences]\n",
        "print('LDA Topics with Weights')\n",
        "print('='*50)\n",
        "for idx, topic in enumerate(topics_with_wts):\n",
        "    print('Topic #'+str(idx+1)+':')\n",
        "    print([(term, round(wt, 3)) for wt, term in topic])\n",
        "    print()"
      ],
      "execution_count": null,
      "outputs": [
        {
          "output_type": "stream",
          "text": [
            "LDA Topics with Weights\n",
            "==================================================\n",
            "Topic #1:\n",
            "[('training', 0.017), ('word', 0.011), ('recognition', 0.008), ('trained', 0.007), ('net', 0.006), ('unit', 0.006), ('feature', 0.006), ('speech', 0.006), ('task', 0.006), ('architecture', 0.005), ('class', 0.005), ('character', 0.005), ('layer', 0.004), ('classification', 0.004), ('context', 0.004), ('test', 0.004), ('sequence', 0.004), ('hidden_unit', 0.004), ('experiment', 0.004), ('vector', 0.004)]\n",
            "\n",
            "Topic #2:\n",
            "[('unit', 0.03), ('pattern', 0.009), ('representation', 0.007), ('activation', 0.007), ('hidden_unit', 0.006), ('node', 0.006), ('structure', 0.006), ('layer', 0.006), ('activity', 0.005), ('connection', 0.004), ('task', 0.004), ('component', 0.004), ('map', 0.004), ('rule', 0.004), ('architecture', 0.004), ('signal', 0.004), ('level', 0.004), ('response', 0.003), ('connectionist', 0.003), ('training', 0.003)]\n",
            "\n",
            "Topic #3:\n",
            "[('neuron', 0.021), ('cell', 0.019), ('response', 0.009), ('activity', 0.007), ('stimulus', 0.007), ('pattern', 0.007), ('spike', 0.006), ('synaptic', 0.005), ('cortical', 0.004), ('neural', 0.004), ('signal', 0.004), ('firing', 0.004), ('connection', 0.004), ('effect', 0.004), ('layer', 0.004), ('et_al', 0.004), ('cortex', 0.004), ('visual', 0.003), ('simulation', 0.003), ('synapsis', 0.003)]\n",
            "\n",
            "Topic #4:\n",
            "[('image', 0.032), ('object', 0.012), ('feature', 0.012), ('pixel', 0.006), ('visual', 0.006), ('representation', 0.005), ('face', 0.005), ('vector', 0.005), ('view', 0.004), ('recognition', 0.004), ('transformation', 0.004), ('local', 0.004), ('map', 0.003), ('structure', 0.003), ('region', 0.003), ('filter', 0.003), ('position', 0.003), ('distance', 0.003), ('part', 0.003), ('location', 0.003)]\n",
            "\n",
            "Topic #5:\n",
            "[('vector', 0.008), ('equation', 0.006), ('matrix', 0.006), ('neuron', 0.006), ('state', 0.005), ('dynamic', 0.005), ('solution', 0.005), ('unit', 0.005), ('node', 0.004), ('pattern', 0.004), ('linear', 0.004), ('let', 0.004), ('layer', 0.003), ('convergence', 0.003), ('rule', 0.003), ('size', 0.003), ('theorem', 0.003), ('threshold', 0.003), ('memory', 0.003), ('theory', 0.003)]\n",
            "\n",
            "Topic #6:\n",
            "[('distribution', 0.008), ('estimate', 0.005), ('sample', 0.005), ('training', 0.005), ('class', 0.005), ('probability', 0.005), ('approximation', 0.005), ('variable', 0.004), ('gaussian', 0.004), ('linear', 0.004), ('vector', 0.004), ('prior', 0.004), ('noise', 0.004), ('density', 0.004), ('prediction', 0.004), ('kernel', 0.003), ('variance', 0.003), ('mixture', 0.003), ('bound', 0.003), ('regression', 0.003)]\n",
            "\n",
            "Topic #7:\n",
            "[('training', 0.016), ('classifier', 0.012), ('pattern', 0.007), ('classification', 0.007), ('class', 0.006), ('task', 0.006), ('vector', 0.006), ('training_set', 0.005), ('feature', 0.005), ('control', 0.004), ('size', 0.004), ('trained', 0.003), ('teacher', 0.003), ('rate', 0.003), ('student', 0.003), ('average', 0.003), ('robot', 0.003), ('random', 0.003), ('rule', 0.003), ('search', 0.003)]\n",
            "\n",
            "Topic #8:\n",
            "[('state', 0.037), ('action', 0.011), ('step', 0.008), ('control', 0.008), ('policy', 0.007), ('sequence', 0.006), ('reinforcement_learning', 0.006), ('probability', 0.005), ('optimal', 0.005), ('task', 0.004), ('transition', 0.004), ('environment', 0.004), ('variable', 0.003), ('reward', 0.003), ('stochastic', 0.003), ('goal', 0.003), ('machine', 0.003), ('current', 0.003), ('controller', 0.003), ('agent', 0.003)]\n",
            "\n",
            "Topic #9:\n",
            "[('motion', 0.017), ('rule', 0.009), ('direction', 0.008), ('stimulus', 0.007), ('velocity', 0.006), ('task', 0.006), ('human', 0.006), ('unit', 0.006), ('location', 0.005), ('target', 0.005), ('subject', 0.005), ('memory', 0.005), ('prediction', 0.005), ('position', 0.005), ('concept', 0.004), ('field', 0.004), ('response', 0.004), ('cue', 0.004), ('layer', 0.004), ('hand', 0.004)]\n",
            "\n",
            "Topic #10:\n",
            "[('circuit', 0.012), ('signal', 0.011), ('chip', 0.011), ('neuron', 0.009), ('current', 0.008), ('voltage', 0.007), ('analog', 0.006), ('control', 0.006), ('channel', 0.005), ('noise', 0.004), ('neural', 0.004), ('bit', 0.004), ('implementation', 0.004), ('source', 0.004), ('design', 0.003), ('gain', 0.003), ('processor', 0.003), ('synapse', 0.003), ('device', 0.003), ('array', 0.003)]\n",
            "\n"
          ],
          "name": "stdout"
        }
      ]
    },
    {
      "cell_type": "code",
      "metadata": {
        "id": "Ol_o5nph68DE",
        "colab_type": "code",
        "colab": {},
        "outputId": "bf0e4fa5-fc7f-4222-87c7-ca1ecd4c148b"
      },
      "source": [
        "print('LDA Topics without Weights')\n",
        "print('='*50)\n",
        "for idx, topic in enumerate(topics_with_wts):\n",
        "    print('Topic #'+str(idx+1)+':')\n",
        "    print([term for wt, term in topic])\n",
        "    print()"
      ],
      "execution_count": null,
      "outputs": [
        {
          "output_type": "stream",
          "text": [
            "LDA Topics without Weights\n",
            "==================================================\n",
            "Topic #1:\n",
            "['training', 'word', 'recognition', 'trained', 'net', 'unit', 'feature', 'speech', 'task', 'architecture', 'class', 'character', 'layer', 'classification', 'context', 'test', 'sequence', 'hidden_unit', 'experiment', 'vector']\n",
            "\n",
            "Topic #2:\n",
            "['unit', 'pattern', 'representation', 'activation', 'hidden_unit', 'node', 'structure', 'layer', 'activity', 'connection', 'task', 'component', 'map', 'rule', 'architecture', 'signal', 'level', 'response', 'connectionist', 'training']\n",
            "\n",
            "Topic #3:\n",
            "['neuron', 'cell', 'response', 'activity', 'stimulus', 'pattern', 'spike', 'synaptic', 'cortical', 'neural', 'signal', 'firing', 'connection', 'effect', 'layer', 'et_al', 'cortex', 'visual', 'simulation', 'synapsis']\n",
            "\n",
            "Topic #4:\n",
            "['image', 'object', 'feature', 'pixel', 'visual', 'representation', 'face', 'vector', 'view', 'recognition', 'transformation', 'local', 'map', 'structure', 'region', 'filter', 'position', 'distance', 'part', 'location']\n",
            "\n",
            "Topic #5:\n",
            "['vector', 'equation', 'matrix', 'neuron', 'state', 'dynamic', 'solution', 'unit', 'node', 'pattern', 'linear', 'let', 'layer', 'convergence', 'rule', 'size', 'theorem', 'threshold', 'memory', 'theory']\n",
            "\n",
            "Topic #6:\n",
            "['distribution', 'estimate', 'sample', 'training', 'class', 'probability', 'approximation', 'variable', 'gaussian', 'linear', 'vector', 'prior', 'noise', 'density', 'prediction', 'kernel', 'variance', 'mixture', 'bound', 'regression']\n",
            "\n",
            "Topic #7:\n",
            "['training', 'classifier', 'pattern', 'classification', 'class', 'task', 'vector', 'training_set', 'feature', 'control', 'size', 'trained', 'teacher', 'rate', 'student', 'average', 'robot', 'random', 'rule', 'search']\n",
            "\n",
            "Topic #8:\n",
            "['state', 'action', 'step', 'control', 'policy', 'sequence', 'reinforcement_learning', 'probability', 'optimal', 'task', 'transition', 'environment', 'variable', 'reward', 'stochastic', 'goal', 'machine', 'current', 'controller', 'agent']\n",
            "\n",
            "Topic #9:\n",
            "['motion', 'rule', 'direction', 'stimulus', 'velocity', 'task', 'human', 'unit', 'location', 'target', 'subject', 'memory', 'prediction', 'position', 'concept', 'field', 'response', 'cue', 'layer', 'hand']\n",
            "\n",
            "Topic #10:\n",
            "['circuit', 'signal', 'chip', 'neuron', 'current', 'voltage', 'analog', 'control', 'channel', 'noise', 'neural', 'bit', 'implementation', 'source', 'design', 'gain', 'processor', 'synapse', 'device', 'array']\n",
            "\n"
          ],
          "name": "stdout"
        }
      ]
    },
    {
      "cell_type": "code",
      "metadata": {
        "id": "Zght8CY-68DH",
        "colab_type": "code",
        "colab": {},
        "outputId": "11e50626-0934-4693-c9f9-0fac3cc8c76c"
      },
      "source": [
        "cv_coherence_model_lda = gensim.models.CoherenceModel(model=lda_model, corpus=bow_corpus, \n",
        "                                                      texts=norm_corpus_bigrams,\n",
        "                                                      dictionary=dictionary, \n",
        "                                                      coherence='c_v')\n",
        "avg_coherence_cv = cv_coherence_model_lda.get_coherence()\n",
        "\n",
        "umass_coherence_model_lda = gensim.models.CoherenceModel(model=lda_model, corpus=bow_corpus, \n",
        "                                                         texts=norm_corpus_bigrams,\n",
        "                                                         dictionary=dictionary, \n",
        "                                                         coherence='u_mass')\n",
        "avg_coherence_umass = umass_coherence_model_lda.get_coherence()\n",
        "\n",
        "perplexity = lda_model.log_perplexity(bow_corpus)\n",
        "\n",
        "print('Avg. Coherence Score (Cv):', avg_coherence_cv)\n",
        "print('Avg. Coherence Score (UMass):', avg_coherence_umass)\n",
        "print('Model Perplexity:', perplexity)"
      ],
      "execution_count": null,
      "outputs": [
        {
          "output_type": "stream",
          "text": [
            "Avg. Coherence Score (Cv): 0.47028476052247825\n",
            "Avg. Coherence Score (UMass): -1.0433305600965896\n",
            "Model Perplexity: -7.792233498252204\n"
          ],
          "name": "stdout"
        }
      ]
    },
    {
      "cell_type": "markdown",
      "metadata": {
        "id": "26t9q3dw68DJ",
        "colab_type": "text"
      },
      "source": [
        "# LDA Models with MALLET"
      ]
    },
    {
      "cell_type": "code",
      "metadata": {
        "id": "MQwaCKVs68DJ",
        "colab_type": "code",
        "colab": {},
        "outputId": "31481149-da76-47d5-87fe-a379b4819f1d"
      },
      "source": [
        "!wget http://mallet.cs.umass.edu/dist/mallet-2.0.8.zip"
      ],
      "execution_count": null,
      "outputs": [
        {
          "output_type": "stream",
          "text": [
            "--2018-11-08 20:06:13--  http://mallet.cs.umass.edu/dist/mallet-2.0.8.zip\n",
            "Resolving mallet.cs.umass.edu (mallet.cs.umass.edu)... 128.119.246.70\n",
            "Connecting to mallet.cs.umass.edu (mallet.cs.umass.edu)|128.119.246.70|:80... connected.\n",
            "HTTP request sent, awaiting response... 200 OK\n",
            "Length: 16184794 (15M) [application/zip]\n",
            "Saving to: ‘mallet-2.0.8.zip’\n",
            "\n",
            "mallet-2.0.8.zip    100%[===================>]  15.43M  1.35MB/s    in 12s     \n",
            "\n",
            "2018-11-08 20:06:25 (1.28 MB/s) - ‘mallet-2.0.8.zip’ saved [16184794/16184794]\n",
            "\n"
          ],
          "name": "stdout"
        }
      ]
    },
    {
      "cell_type": "code",
      "metadata": {
        "id": "MzA-8udh68DO",
        "colab_type": "code",
        "colab": {}
      },
      "source": [
        "!unzip -q mallet-2.0.8.zip"
      ],
      "execution_count": null,
      "outputs": []
    },
    {
      "cell_type": "code",
      "metadata": {
        "id": "1JYCvdCf68DQ",
        "colab_type": "code",
        "colab": {}
      },
      "source": [
        "MALLET_PATH = 'mallet-2.0.8/bin/mallet'\n",
        "lda_mallet = gensim.models.wrappers.LdaMallet(mallet_path=MALLET_PATH, corpus=bow_corpus, \n",
        "                                              num_topics=TOTAL_TOPICS, id2word=dictionary,\n",
        "                                              iterations=500, workers=16)"
      ],
      "execution_count": null,
      "outputs": []
    },
    {
      "cell_type": "code",
      "metadata": {
        "id": "yAAIMVXj68DZ",
        "colab_type": "code",
        "colab": {},
        "outputId": "cda3955f-4338-4d57-b6a5-cedb737670d6"
      },
      "source": [
        "topics = [[(term, round(wt, 3)) \n",
        "               for term, wt in lda_mallet.show_topic(n, topn=20)] \n",
        "                   for n in range(0, TOTAL_TOPICS)]\n",
        "\n",
        "for idx, topic in enumerate(topics):\n",
        "    print('Topic #'+str(idx+1)+':')\n",
        "    print([term for term, wt in topic])\n",
        "    print()"
      ],
      "execution_count": null,
      "outputs": [
        {
          "output_type": "stream",
          "text": [
            "Topic #1:\n",
            "['neuron', 'cell', 'response', 'stimulus', 'activity', 'pattern', 'signal', 'spike', 'effect', 'synaptic', 'frequency', 'neural', 'unit', 'connection', 'layer', 'cortical', 'firing', 'et_al', 'brain', 'temporal']\n",
            "\n",
            "Topic #2:\n",
            "['prediction', 'control', 'trajectory', 'target', 'task', 'expert', 'training', 'nonlinear', 'dynamic', 'linear', 'local', 'change', 'adaptive', 'mapping', 'hand', 'movement', 'controller', 'position', 'motor', 'architecture']\n",
            "\n",
            "Topic #3:\n",
            "['vector', 'equation', 'linear', 'bound', 'solution', 'theory', 'matrix', 'convergence', 'theorem', 'defined', 'size', 'constant', 'optimal', 'class', 'eq', 'property', 'approximation', 'condition', 'rate', 'probability']\n",
            "\n",
            "Topic #4:\n",
            "['state', 'action', 'step', 'policy', 'environment', 'recurrent', 'transition', 'optimal', 'task', 'reinforcement_learning', 'control', 'path', 'goal', 'stochastic', 'sequence', 'current', 'cost', 'iteration', 'machine', 'update']\n",
            "\n",
            "Topic #5:\n",
            "['image', 'object', 'feature', 'motion', 'visual', 'map', 'direction', 'location', 'pixel', 'field', 'region', 'position', 'filter', 'local', 'view', 'representation', 'face', 'distance', 'surface', 'edge']\n",
            "\n",
            "Topic #6:\n",
            "['distribution', 'estimate', 'gaussian', 'variable', 'probability', 'prior', 'sample', 'approximation', 'variance', 'mixture', 'density', 'noise', 'kernel', 'component', 'estimation', 'bayesian', 'vector', 'matrix', 'log', 'linear']\n",
            "\n",
            "Topic #7:\n",
            "['rule', 'node', 'unit', 'structure', 'representation', 'tree', 'level', 'pattern', 'graph', 'cluster', 'activation', 'sequence', 'connectionist', 'symbol', 'similarity', 'instance', 'represented', 'string', 'memory', 'clustering']\n",
            "\n",
            "Topic #8:\n",
            "['neuron', 'circuit', 'chip', 'current', 'memory', 'signal', 'analog', 'bit', 'voltage', 'neural', 'code', 'implementation', 'noise', 'connection', 'parallel', 'attractor', 'design', 'element', 'operation', 'processor']\n",
            "\n",
            "Topic #9:\n",
            "['training', 'unit', 'pattern', 'hidden_unit', 'layer', 'net', 'classifier', 'class', 'training_set', 'classification', 'trained', 'test', 'task', 'back_propagation', 'hidden_layer', 'table', 'generalization', 'feature', 'size', 'architecture']\n",
            "\n",
            "Topic #10:\n",
            "['word', 'recognition', 'speech', 'sequence', 'feature', 'context', 'training', 'character', 'hmm', 'module', 'signal', 'letter', 'frame', 'trained', 'experiment', 'classification', 'architecture', 'speaker', 'window', 'class']\n",
            "\n"
          ],
          "name": "stdout"
        }
      ]
    },
    {
      "cell_type": "code",
      "metadata": {
        "id": "mSkyDsgw68Dc",
        "colab_type": "code",
        "colab": {},
        "outputId": "4650f85a-ecd7-4a58-af2f-c9e846649c46"
      },
      "source": [
        "cv_coherence_model_lda_mallet = gensim.models.CoherenceModel(model=lda_mallet, corpus=bow_corpus, \n",
        "                                                             texts=norm_corpus_bigrams,\n",
        "                                                             dictionary=dictionary, \n",
        "                                                             coherence='c_v')\n",
        "avg_coherence_cv = cv_coherence_model_lda_mallet.get_coherence()\n",
        "\n",
        "umass_coherence_model_lda_mallet = gensim.models.CoherenceModel(model=lda_mallet, corpus=bow_corpus, \n",
        "                                                                texts=norm_corpus_bigrams,\n",
        "                                                                dictionary=dictionary,  \n",
        "                                                                coherence='u_mass')\n",
        "avg_coherence_umass = umass_coherence_model_lda_mallet.get_coherence()\n",
        "\n",
        "# from STDOUT: <500> LL/token: -8.53533\n",
        "perplexity = -8.53533\n",
        "print('Avg. Coherence Score (Cv):', avg_coherence_cv)\n",
        "print('Avg. Coherence Score (UMass):', avg_coherence_umass)\n",
        "print('Model Perplexity:', perplexity)"
      ],
      "execution_count": null,
      "outputs": [
        {
          "output_type": "stream",
          "text": [
            "Avg. Coherence Score (Cv): 0.5008326905758488\n",
            "Avg. Coherence Score (UMass): -1.0635635291342118\n",
            "Model Perplexity: -8.53533\n"
          ],
          "name": "stdout"
        }
      ]
    },
    {
      "cell_type": "markdown",
      "metadata": {
        "id": "tlwGjaFW68De",
        "colab_type": "text"
      },
      "source": [
        "# LDA Tuning - Finding Optimal Number of Topics"
      ]
    },
    {
      "cell_type": "code",
      "metadata": {
        "id": "kAYfIFBY68Df",
        "colab_type": "code",
        "colab": {}
      },
      "source": [
        "from tqdm import tqdm\n",
        "\n",
        "def topic_model_coherence_generator(corpus, texts, dictionary, \n",
        "                                    start_topic_count=2, end_topic_count=10, step=1,\n",
        "                                    cpus=1):\n",
        "    \n",
        "    models = []\n",
        "    coherence_scores = []\n",
        "    for topic_nums in tqdm(range(start_topic_count, end_topic_count+1, step)):\n",
        "        mallet_lda_model = gensim.models.wrappers.LdaMallet(mallet_path=MALLET_PATH, corpus=corpus,\n",
        "                                                            num_topics=topic_nums, id2word=dictionary,\n",
        "                                                            iterations=500, workers=cpus)\n",
        "        cv_coherence_model_mallet_lda = gensim.models.CoherenceModel(model=mallet_lda_model, corpus=corpus, \n",
        "                                                                     texts=texts, dictionary=dictionary, \n",
        "                                                                     coherence='c_v')\n",
        "        coherence_score = cv_coherence_model_mallet_lda.get_coherence()\n",
        "        coherence_scores.append(coherence_score)\n",
        "        models.append(mallet_lda_model)\n",
        "    \n",
        "    return models, coherence_scores"
      ],
      "execution_count": null,
      "outputs": []
    },
    {
      "cell_type": "code",
      "metadata": {
        "id": "uajTMXdI68Dq",
        "colab_type": "code",
        "colab": {},
        "outputId": "647d998f-bd2a-4174-9e6a-d2dc08c911b7"
      },
      "source": [
        "lda_models, coherence_scores = topic_model_coherence_generator(corpus=bow_corpus, texts=norm_corpus_bigrams,\n",
        "                                                               dictionary=dictionary, start_topic_count=2,\n",
        "                                                               end_topic_count=30, step=1, cpus=16)"
      ],
      "execution_count": null,
      "outputs": [
        {
          "output_type": "stream",
          "text": [
            "100%|██████████| 29/29 [37:48<00:00, 92.53s/it]\n"
          ],
          "name": "stderr"
        }
      ]
    },
    {
      "cell_type": "code",
      "metadata": {
        "id": "q5U9n7oh68Dt",
        "colab_type": "code",
        "colab": {},
        "outputId": "3b0bf70c-dde0-47b4-b852-b185ce693ce2"
      },
      "source": [
        "coherence_df = pd.DataFrame({'Number of Topics': range(2, 31, 1),\n",
        "                             'Coherence Score': np.round(coherence_scores, 4)})\n",
        "coherence_df.sort_values(by=['Coherence Score'], ascending=False).head(10)"
      ],
      "execution_count": null,
      "outputs": [
        {
          "output_type": "execute_result",
          "data": {
            "text/html": [
              "<div>\n",
              "<style scoped>\n",
              "    .dataframe tbody tr th:only-of-type {\n",
              "        vertical-align: middle;\n",
              "    }\n",
              "\n",
              "    .dataframe tbody tr th {\n",
              "        vertical-align: top;\n",
              "    }\n",
              "\n",
              "    .dataframe thead th {\n",
              "        text-align: right;\n",
              "    }\n",
              "</style>\n",
              "<table border=\"1\" class=\"dataframe\">\n",
              "  <thead>\n",
              "    <tr style=\"text-align: right;\">\n",
              "      <th></th>\n",
              "      <th>Number of Topics</th>\n",
              "      <th>Coherence Score</th>\n",
              "    </tr>\n",
              "  </thead>\n",
              "  <tbody>\n",
              "    <tr>\n",
              "      <th>24</th>\n",
              "      <td>26</td>\n",
              "      <td>0.5461</td>\n",
              "    </tr>\n",
              "    <tr>\n",
              "      <th>23</th>\n",
              "      <td>25</td>\n",
              "      <td>0.5427</td>\n",
              "    </tr>\n",
              "    <tr>\n",
              "      <th>17</th>\n",
              "      <td>19</td>\n",
              "      <td>0.5419</td>\n",
              "    </tr>\n",
              "    <tr>\n",
              "      <th>16</th>\n",
              "      <td>18</td>\n",
              "      <td>0.5412</td>\n",
              "    </tr>\n",
              "    <tr>\n",
              "      <th>22</th>\n",
              "      <td>24</td>\n",
              "      <td>0.5405</td>\n",
              "    </tr>\n",
              "    <tr>\n",
              "      <th>18</th>\n",
              "      <td>20</td>\n",
              "      <td>0.5401</td>\n",
              "    </tr>\n",
              "    <tr>\n",
              "      <th>21</th>\n",
              "      <td>23</td>\n",
              "      <td>0.5375</td>\n",
              "    </tr>\n",
              "    <tr>\n",
              "      <th>20</th>\n",
              "      <td>22</td>\n",
              "      <td>0.5369</td>\n",
              "    </tr>\n",
              "    <tr>\n",
              "      <th>19</th>\n",
              "      <td>21</td>\n",
              "      <td>0.5369</td>\n",
              "    </tr>\n",
              "    <tr>\n",
              "      <th>27</th>\n",
              "      <td>29</td>\n",
              "      <td>0.5363</td>\n",
              "    </tr>\n",
              "  </tbody>\n",
              "</table>\n",
              "</div>"
            ],
            "text/plain": [
              "    Number of Topics  Coherence Score\n",
              "24                26           0.5461\n",
              "23                25           0.5427\n",
              "17                19           0.5419\n",
              "16                18           0.5412\n",
              "22                24           0.5405\n",
              "18                20           0.5401\n",
              "21                23           0.5375\n",
              "20                22           0.5369\n",
              "19                21           0.5369\n",
              "27                29           0.5363"
            ]
          },
          "metadata": {
            "tags": []
          },
          "execution_count": 42
        }
      ]
    },
    {
      "cell_type": "code",
      "metadata": {
        "id": "kfmjqKR268Dx",
        "colab_type": "code",
        "colab": {},
        "outputId": "288baf9c-8c8b-4ca2-edaa-47c249e83c9f"
      },
      "source": [
        "import matplotlib.pyplot as plt\n",
        "plt.style.use('fivethirtyeight')\n",
        "%matplotlib inline\n",
        "\n",
        "x_ax = range(2, 31, 1)\n",
        "y_ax = coherence_scores\n",
        "plt.figure(figsize=(12, 6))\n",
        "plt.plot(x_ax, y_ax, c='r')\n",
        "plt.axhline(y=0.535, c='k', linestyle='--', linewidth=2)\n",
        "plt.rcParams['figure.facecolor'] = 'white'\n",
        "xl = plt.xlabel('Number of Topics')\n",
        "yl = plt.ylabel('Coherence Score')"
      ],
      "execution_count": null,
      "outputs": [
        {
          "output_type": "display_data",
          "data": {
            "image/png": "[encoded data removed]",
            "text/plain": [
              "<Figure size 864x432 with 1 Axes>"
            ]
          },
          "metadata": {
            "tags": []
          }
        }
      ]
    },
    {
      "cell_type": "code",
      "metadata": {
        "id": "s-6kFGDX68D4",
        "colab_type": "code",
        "colab": {},
        "outputId": "e0932ae8-3216-4382-a98c-2432bb5f34ea"
      },
      "source": [
        "best_model_idx = coherence_df[coherence_df['Number of Topics'] == 20].index[0]\n",
        "best_lda_model = lda_models[best_model_idx]\n",
        "best_lda_model.num_topics"
      ],
      "execution_count": null,
      "outputs": [
        {
          "output_type": "execute_result",
          "data": {
            "text/plain": [
              "20"
            ]
          },
          "metadata": {
            "tags": []
          },
          "execution_count": 44
        }
      ]
    },
    {
      "cell_type": "code",
      "metadata": {
        "id": "uE9wm0lz68D7",
        "colab_type": "code",
        "colab": {},
        "outputId": "d18d4cef-453b-4aef-d96c-963dbbdfbd99"
      },
      "source": [
        "topics = [[(term, round(wt, 3)) \n",
        "               for term, wt in best_lda_model.show_topic(n, topn=20)] \n",
        "                   for n in range(0, best_lda_model.num_topics)]\n",
        "\n",
        "for idx, topic in enumerate(topics):\n",
        "    print('Topic #'+str(idx+1)+':')\n",
        "    print([term for term, wt in topic])\n",
        "    print()"
      ],
      "execution_count": null,
      "outputs": [
        {
          "output_type": "stream",
          "text": [
            "Topic #1:\n",
            "['class', 'classification', 'classifier', 'training', 'pattern', 'feature', 'kernel', 'machine', 'training_set', 'test', 'sample', 'vector', 'database', 'error_rate', 'margin', 'experiment', 'support_vector', 'nearest_neighbor', 'decision', 'size']\n",
            "\n",
            "Topic #2:\n",
            "['neuron', 'memory', 'pattern', 'dynamic', 'connection', 'phase', 'attractor', 'capacity', 'state', 'hopfield', 'neural', 'fixed_point', 'oscillator', 'delay', 'stable', 'fig', 'oscillation', 'associative_memory', 'behavior', 'stored']\n",
            "\n",
            "Topic #3:\n",
            "['word', 'recognition', 'training', 'speech', 'character', 'context', 'hmm', 'letter', 'mlp', 'speaker', 'feature', 'frame', 'trained', 'speech_recognition', 'phoneme', 'experiment', 'hybrid', 'segmentation', 'vowel', 'level']\n",
            "\n",
            "Topic #4:\n",
            "['noise', 'rate', 'equation', 'curve', 'average', 'correlation', 'rule', 'distribution', 'theory', 'limit', 'solution', 'optimal', 'eq', 'teacher', 'effect', 'size', 'temperature', 'student', 'line', 'random']\n",
            "\n",
            "Topic #5:\n",
            "['bound', 'theorem', 'class', 'probability', 'size', 'threshold', 'proof', 'polynomial', 'theory', 'complexity', 'loss', 'approximation', 'linear', 'assume', 'definition', 'defined', 'hypothesis', 'constant', 'define', 'bounded']\n",
            "\n",
            "Topic #6:\n",
            "['vector', 'matrix', 'linear', 'equation', 'solution', 'gradient', 'constraint', 'convergence', 'optimization', 'nonlinear', 'optimal', 'eq', 'minimum', 'operator', 'gradient_descent', 'condition', 'constant', 'derivative', 'quadratic', 'energy']\n",
            "\n",
            "Topic #7:\n",
            "['search', 'task', 'experiment', 'table', 'instance', 'test', 'domain', 'target', 'query', 'feature', 'user', 'random', 'technique', 'run', 'accuracy', 'block', 'application', 'evaluation', 'strategy', 'important']\n",
            "\n",
            "Topic #8:\n",
            "['distribution', 'probability', 'prior', 'gaussian', 'variable', 'mixture', 'density', 'bayesian', 'estimate', 'approximation', 'log', 'likelihood', 'sample', 'component', 'expert', 'em', 'posterior', 'probabilistic', 'estimation', 'entropy']\n",
            "\n",
            "Topic #9:\n",
            "['visual', 'motion', 'cell', 'response', 'stimulus', 'direction', 'receptive_field', 'map', 'spatial', 'orientation', 'unit', 'eye', 'field', 'activity', 'location', 'velocity', 'center', 'contrast', 'cortical', 'pattern']\n",
            "\n",
            "Topic #10:\n",
            "['neuron', 'cell', 'spike', 'synaptic', 'activity', 'response', 'stimulus', 'firing', 'synapsis', 'et_al', 'effect', 'neural', 'neuronal', 'current', 'pattern', 'inhibitory', 'connection', 'brain', 'simulation', 'firing_rate']\n",
            "\n",
            "Topic #11:\n",
            "['state', 'sequence', 'step', 'recurrent', 'transition', 'stochastic', 'iteration', 'update', 'dynamic', 'probability', 'convergence', 'trajectory', 'xt', 'length', 'observation', 'continuous', 'rate', 'machine', 'current', 'string']\n",
            "\n",
            "Topic #12:\n",
            "['node', 'tree', 'structure', 'graph', 'code', 'level', 'bit', 'path', 'local', 'size', 'variable', 'stage', 'length', 'solution', 'edge', 'link', 'component', 'match', 'binary', 'coding']\n",
            "\n",
            "Topic #13:\n",
            "['image', 'object', 'feature', 'pixel', 'face', 'view', 'recognition', 'representation', 'shape', 'scale', 'part', 'visual', 'region', 'position', 'scene', 'surface', 'vision', 'frame', 'texture', 'location']\n",
            "\n",
            "Topic #14:\n",
            "['control', 'action', 'state', 'policy', 'environment', 'controller', 'reinforcement_learning', 'task', 'optimal', 'robot', 'goal', 'step', 'reward', 'td', 'agent', 'adaptive', 'cost', 'reinforcement', 'trial', 'exploration']\n",
            "\n",
            "Topic #15:\n",
            "['unit', 'layer', 'training', 'hidden_unit', 'net', 'architecture', 'pattern', 'activation', 'trained', 'task', 'back_propagation', 'hidden_layer', 'connection', 'hidden', 'backpropagation', 'learn', 'training_set', 'epoch', 'simulation', 'generalization']\n",
            "\n",
            "Topic #16:\n",
            "['circuit', 'chip', 'current', 'analog', 'voltage', 'implementation', 'processor', 'bit', 'design', 'device', 'computation', 'parallel', 'digital', 'operation', 'array', 'neural', 'synapse', 'element', 'hardware', 'transistor']\n",
            "\n",
            "Topic #17:\n",
            "['rule', 'representation', 'module', 'structure', 'human', 'movement', 'motor', 'target', 'language', 'subject', 'connectionist', 'position', 'task', 'context', 'trajectory', 'hand', 'role', 'symbol', 'learned', 'theory']\n",
            "\n",
            "Topic #18:\n",
            "['vector', 'map', 'distance', 'cluster', 'local', 'dimension', 'clustering', 'mapping', 'dimensional', 'region', 'structure', 'center', 'rbf', 'pca', 'basis_function', 'linear', 'representation', 'global', 'principal_component', 'projection']\n",
            "\n",
            "Topic #19:\n",
            "['signal', 'filter', 'frequency', 'source', 'channel', 'noise', 'component', 'response', 'temporal', 'sound', 'auditory', 'detection', 'phase', 'ica', 'adaptation', 'amplitude', 'subject', 'eeg', 'change', 'correlation']\n",
            "\n",
            "Topic #20:\n",
            "['prediction', 'training', 'estimate', 'regression', 'test', 'noise', 'selection', 'variance', 'training_set', 'sample', 'ensemble', 'estimation', 'average', 'nonlinear', 'linear', 'estimator', 'cross_validation', 'pruning', 'bias', 'risk']\n",
            "\n"
          ],
          "name": "stdout"
        }
      ]
    },
    {
      "cell_type": "code",
      "metadata": {
        "id": "CTvW-6ZV68D_",
        "colab_type": "code",
        "colab": {},
        "outputId": "d73211d5-73b9-4bb6-a5f4-7964419f4cf9"
      },
      "source": [
        "topics_df = pd.DataFrame([[term for term, wt in topic] \n",
        "                              for topic in topics], \n",
        "                         columns = ['Term'+str(i) for i in range(1, 21)],\n",
        "                         index=['Topic '+str(t) for t in range(1, best_lda_model.num_topics+1)]).T\n",
        "topics_df"
      ],
      "execution_count": null,
      "outputs": [
        {
          "output_type": "execute_result",
          "data": {
            "text/html": [
              "<div>\n",
              "<style scoped>\n",
              "    .dataframe tbody tr th:only-of-type {\n",
              "        vertical-align: middle;\n",
              "    }\n",
              "\n",
              "    .dataframe tbody tr th {\n",
              "        vertical-align: top;\n",
              "    }\n",
              "\n",
              "    .dataframe thead th {\n",
              "        text-align: right;\n",
              "    }\n",
              "</style>\n",
              "<table border=\"1\" class=\"dataframe\">\n",
              "  <thead>\n",
              "    <tr style=\"text-align: right;\">\n",
              "      <th></th>\n",
              "      <th>Topic 1</th>\n",
              "      <th>Topic 2</th>\n",
              "      <th>Topic 3</th>\n",
              "      <th>Topic 4</th>\n",
              "      <th>Topic 5</th>\n",
              "      <th>Topic 6</th>\n",
              "      <th>Topic 7</th>\n",
              "      <th>Topic 8</th>\n",
              "      <th>Topic 9</th>\n",
              "      <th>Topic 10</th>\n",
              "      <th>Topic 11</th>\n",
              "      <th>Topic 12</th>\n",
              "      <th>Topic 13</th>\n",
              "      <th>Topic 14</th>\n",
              "      <th>Topic 15</th>\n",
              "      <th>Topic 16</th>\n",
              "      <th>Topic 17</th>\n",
              "      <th>Topic 18</th>\n",
              "      <th>Topic 19</th>\n",
              "      <th>Topic 20</th>\n",
              "    </tr>\n",
              "  </thead>\n",
              "  <tbody>\n",
              "    <tr>\n",
              "      <th>Term1</th>\n",
              "      <td>class</td>\n",
              "      <td>neuron</td>\n",
              "      <td>word</td>\n",
              "      <td>noise</td>\n",
              "      <td>bound</td>\n",
              "      <td>vector</td>\n",
              "      <td>search</td>\n",
              "      <td>distribution</td>\n",
              "      <td>visual</td>\n",
              "      <td>neuron</td>\n",
              "      <td>state</td>\n",
              "      <td>node</td>\n",
              "      <td>image</td>\n",
              "      <td>control</td>\n",
              "      <td>unit</td>\n",
              "      <td>circuit</td>\n",
              "      <td>rule</td>\n",
              "      <td>vector</td>\n",
              "      <td>signal</td>\n",
              "      <td>prediction</td>\n",
              "    </tr>\n",
              "    <tr>\n",
              "      <th>Term2</th>\n",
              "      <td>classification</td>\n",
              "      <td>memory</td>\n",
              "      <td>recognition</td>\n",
              "      <td>rate</td>\n",
              "      <td>theorem</td>\n",
              "      <td>matrix</td>\n",
              "      <td>task</td>\n",
              "      <td>probability</td>\n",
              "      <td>motion</td>\n",
              "      <td>cell</td>\n",
              "      <td>sequence</td>\n",
              "      <td>tree</td>\n",
              "      <td>object</td>\n",
              "      <td>action</td>\n",
              "      <td>layer</td>\n",
              "      <td>chip</td>\n",
              "      <td>representation</td>\n",
              "      <td>map</td>\n",
              "      <td>filter</td>\n",
              "      <td>training</td>\n",
              "    </tr>\n",
              "    <tr>\n",
              "      <th>Term3</th>\n",
              "      <td>classifier</td>\n",
              "      <td>pattern</td>\n",
              "      <td>training</td>\n",
              "      <td>equation</td>\n",
              "      <td>class</td>\n",
              "      <td>linear</td>\n",
              "      <td>experiment</td>\n",
              "      <td>prior</td>\n",
              "      <td>cell</td>\n",
              "      <td>spike</td>\n",
              "      <td>step</td>\n",
              "      <td>structure</td>\n",
              "      <td>feature</td>\n",
              "      <td>state</td>\n",
              "      <td>training</td>\n",
              "      <td>current</td>\n",
              "      <td>module</td>\n",
              "      <td>distance</td>\n",
              "      <td>frequency</td>\n",
              "      <td>estimate</td>\n",
              "    </tr>\n",
              "    <tr>\n",
              "      <th>Term4</th>\n",
              "      <td>training</td>\n",
              "      <td>dynamic</td>\n",
              "      <td>speech</td>\n",
              "      <td>curve</td>\n",
              "      <td>probability</td>\n",
              "      <td>equation</td>\n",
              "      <td>table</td>\n",
              "      <td>gaussian</td>\n",
              "      <td>response</td>\n",
              "      <td>synaptic</td>\n",
              "      <td>recurrent</td>\n",
              "      <td>graph</td>\n",
              "      <td>pixel</td>\n",
              "      <td>policy</td>\n",
              "      <td>hidden_unit</td>\n",
              "      <td>analog</td>\n",
              "      <td>structure</td>\n",
              "      <td>cluster</td>\n",
              "      <td>source</td>\n",
              "      <td>regression</td>\n",
              "    </tr>\n",
              "    <tr>\n",
              "      <th>Term5</th>\n",
              "      <td>pattern</td>\n",
              "      <td>connection</td>\n",
              "      <td>character</td>\n",
              "      <td>average</td>\n",
              "      <td>size</td>\n",
              "      <td>solution</td>\n",
              "      <td>instance</td>\n",
              "      <td>variable</td>\n",
              "      <td>stimulus</td>\n",
              "      <td>activity</td>\n",
              "      <td>transition</td>\n",
              "      <td>code</td>\n",
              "      <td>face</td>\n",
              "      <td>environment</td>\n",
              "      <td>net</td>\n",
              "      <td>voltage</td>\n",
              "      <td>human</td>\n",
              "      <td>local</td>\n",
              "      <td>channel</td>\n",
              "      <td>test</td>\n",
              "    </tr>\n",
              "    <tr>\n",
              "      <th>Term6</th>\n",
              "      <td>feature</td>\n",
              "      <td>phase</td>\n",
              "      <td>context</td>\n",
              "      <td>correlation</td>\n",
              "      <td>threshold</td>\n",
              "      <td>gradient</td>\n",
              "      <td>test</td>\n",
              "      <td>mixture</td>\n",
              "      <td>direction</td>\n",
              "      <td>response</td>\n",
              "      <td>stochastic</td>\n",
              "      <td>level</td>\n",
              "      <td>view</td>\n",
              "      <td>controller</td>\n",
              "      <td>architecture</td>\n",
              "      <td>implementation</td>\n",
              "      <td>movement</td>\n",
              "      <td>dimension</td>\n",
              "      <td>noise</td>\n",
              "      <td>noise</td>\n",
              "    </tr>\n",
              "    <tr>\n",
              "      <th>Term7</th>\n",
              "      <td>kernel</td>\n",
              "      <td>attractor</td>\n",
              "      <td>hmm</td>\n",
              "      <td>rule</td>\n",
              "      <td>proof</td>\n",
              "      <td>constraint</td>\n",
              "      <td>domain</td>\n",
              "      <td>density</td>\n",
              "      <td>receptive_field</td>\n",
              "      <td>stimulus</td>\n",
              "      <td>iteration</td>\n",
              "      <td>bit</td>\n",
              "      <td>recognition</td>\n",
              "      <td>reinforcement_learning</td>\n",
              "      <td>pattern</td>\n",
              "      <td>processor</td>\n",
              "      <td>motor</td>\n",
              "      <td>clustering</td>\n",
              "      <td>component</td>\n",
              "      <td>selection</td>\n",
              "    </tr>\n",
              "    <tr>\n",
              "      <th>Term8</th>\n",
              "      <td>machine</td>\n",
              "      <td>capacity</td>\n",
              "      <td>letter</td>\n",
              "      <td>distribution</td>\n",
              "      <td>polynomial</td>\n",
              "      <td>convergence</td>\n",
              "      <td>target</td>\n",
              "      <td>bayesian</td>\n",
              "      <td>map</td>\n",
              "      <td>firing</td>\n",
              "      <td>update</td>\n",
              "      <td>path</td>\n",
              "      <td>representation</td>\n",
              "      <td>task</td>\n",
              "      <td>activation</td>\n",
              "      <td>bit</td>\n",
              "      <td>target</td>\n",
              "      <td>mapping</td>\n",
              "      <td>response</td>\n",
              "      <td>variance</td>\n",
              "    </tr>\n",
              "    <tr>\n",
              "      <th>Term9</th>\n",
              "      <td>training_set</td>\n",
              "      <td>state</td>\n",
              "      <td>mlp</td>\n",
              "      <td>theory</td>\n",
              "      <td>theory</td>\n",
              "      <td>optimization</td>\n",
              "      <td>query</td>\n",
              "      <td>estimate</td>\n",
              "      <td>spatial</td>\n",
              "      <td>synapsis</td>\n",
              "      <td>dynamic</td>\n",
              "      <td>local</td>\n",
              "      <td>shape</td>\n",
              "      <td>optimal</td>\n",
              "      <td>trained</td>\n",
              "      <td>design</td>\n",
              "      <td>language</td>\n",
              "      <td>dimensional</td>\n",
              "      <td>temporal</td>\n",
              "      <td>training_set</td>\n",
              "    </tr>\n",
              "    <tr>\n",
              "      <th>Term10</th>\n",
              "      <td>test</td>\n",
              "      <td>hopfield</td>\n",
              "      <td>speaker</td>\n",
              "      <td>limit</td>\n",
              "      <td>complexity</td>\n",
              "      <td>nonlinear</td>\n",
              "      <td>feature</td>\n",
              "      <td>approximation</td>\n",
              "      <td>orientation</td>\n",
              "      <td>et_al</td>\n",
              "      <td>probability</td>\n",
              "      <td>size</td>\n",
              "      <td>scale</td>\n",
              "      <td>robot</td>\n",
              "      <td>task</td>\n",
              "      <td>device</td>\n",
              "      <td>subject</td>\n",
              "      <td>region</td>\n",
              "      <td>sound</td>\n",
              "      <td>sample</td>\n",
              "    </tr>\n",
              "    <tr>\n",
              "      <th>Term11</th>\n",
              "      <td>sample</td>\n",
              "      <td>neural</td>\n",
              "      <td>feature</td>\n",
              "      <td>solution</td>\n",
              "      <td>loss</td>\n",
              "      <td>optimal</td>\n",
              "      <td>user</td>\n",
              "      <td>log</td>\n",
              "      <td>unit</td>\n",
              "      <td>effect</td>\n",
              "      <td>convergence</td>\n",
              "      <td>variable</td>\n",
              "      <td>part</td>\n",
              "      <td>goal</td>\n",
              "      <td>back_propagation</td>\n",
              "      <td>computation</td>\n",
              "      <td>connectionist</td>\n",
              "      <td>structure</td>\n",
              "      <td>auditory</td>\n",
              "      <td>ensemble</td>\n",
              "    </tr>\n",
              "    <tr>\n",
              "      <th>Term12</th>\n",
              "      <td>vector</td>\n",
              "      <td>fixed_point</td>\n",
              "      <td>frame</td>\n",
              "      <td>optimal</td>\n",
              "      <td>approximation</td>\n",
              "      <td>eq</td>\n",
              "      <td>random</td>\n",
              "      <td>likelihood</td>\n",
              "      <td>eye</td>\n",
              "      <td>neural</td>\n",
              "      <td>trajectory</td>\n",
              "      <td>stage</td>\n",
              "      <td>visual</td>\n",
              "      <td>step</td>\n",
              "      <td>hidden_layer</td>\n",
              "      <td>parallel</td>\n",
              "      <td>position</td>\n",
              "      <td>center</td>\n",
              "      <td>detection</td>\n",
              "      <td>estimation</td>\n",
              "    </tr>\n",
              "    <tr>\n",
              "      <th>Term13</th>\n",
              "      <td>database</td>\n",
              "      <td>oscillator</td>\n",
              "      <td>trained</td>\n",
              "      <td>eq</td>\n",
              "      <td>linear</td>\n",
              "      <td>minimum</td>\n",
              "      <td>technique</td>\n",
              "      <td>sample</td>\n",
              "      <td>field</td>\n",
              "      <td>neuronal</td>\n",
              "      <td>xt</td>\n",
              "      <td>length</td>\n",
              "      <td>region</td>\n",
              "      <td>reward</td>\n",
              "      <td>connection</td>\n",
              "      <td>digital</td>\n",
              "      <td>task</td>\n",
              "      <td>rbf</td>\n",
              "      <td>phase</td>\n",
              "      <td>average</td>\n",
              "    </tr>\n",
              "    <tr>\n",
              "      <th>Term14</th>\n",
              "      <td>error_rate</td>\n",
              "      <td>delay</td>\n",
              "      <td>speech_recognition</td>\n",
              "      <td>teacher</td>\n",
              "      <td>assume</td>\n",
              "      <td>operator</td>\n",
              "      <td>run</td>\n",
              "      <td>component</td>\n",
              "      <td>activity</td>\n",
              "      <td>current</td>\n",
              "      <td>length</td>\n",
              "      <td>solution</td>\n",
              "      <td>position</td>\n",
              "      <td>td</td>\n",
              "      <td>hidden</td>\n",
              "      <td>operation</td>\n",
              "      <td>context</td>\n",
              "      <td>pca</td>\n",
              "      <td>ica</td>\n",
              "      <td>nonlinear</td>\n",
              "    </tr>\n",
              "    <tr>\n",
              "      <th>Term15</th>\n",
              "      <td>margin</td>\n",
              "      <td>stable</td>\n",
              "      <td>phoneme</td>\n",
              "      <td>effect</td>\n",
              "      <td>definition</td>\n",
              "      <td>gradient_descent</td>\n",
              "      <td>accuracy</td>\n",
              "      <td>expert</td>\n",
              "      <td>location</td>\n",
              "      <td>pattern</td>\n",
              "      <td>observation</td>\n",
              "      <td>edge</td>\n",
              "      <td>scene</td>\n",
              "      <td>agent</td>\n",
              "      <td>backpropagation</td>\n",
              "      <td>array</td>\n",
              "      <td>trajectory</td>\n",
              "      <td>basis_function</td>\n",
              "      <td>adaptation</td>\n",
              "      <td>linear</td>\n",
              "    </tr>\n",
              "    <tr>\n",
              "      <th>Term16</th>\n",
              "      <td>experiment</td>\n",
              "      <td>fig</td>\n",
              "      <td>experiment</td>\n",
              "      <td>size</td>\n",
              "      <td>defined</td>\n",
              "      <td>condition</td>\n",
              "      <td>block</td>\n",
              "      <td>em</td>\n",
              "      <td>velocity</td>\n",
              "      <td>inhibitory</td>\n",
              "      <td>continuous</td>\n",
              "      <td>link</td>\n",
              "      <td>surface</td>\n",
              "      <td>adaptive</td>\n",
              "      <td>learn</td>\n",
              "      <td>neural</td>\n",
              "      <td>hand</td>\n",
              "      <td>linear</td>\n",
              "      <td>amplitude</td>\n",
              "      <td>estimator</td>\n",
              "    </tr>\n",
              "    <tr>\n",
              "      <th>Term17</th>\n",
              "      <td>support_vector</td>\n",
              "      <td>oscillation</td>\n",
              "      <td>hybrid</td>\n",
              "      <td>temperature</td>\n",
              "      <td>hypothesis</td>\n",
              "      <td>constant</td>\n",
              "      <td>application</td>\n",
              "      <td>posterior</td>\n",
              "      <td>center</td>\n",
              "      <td>connection</td>\n",
              "      <td>rate</td>\n",
              "      <td>component</td>\n",
              "      <td>vision</td>\n",
              "      <td>cost</td>\n",
              "      <td>training_set</td>\n",
              "      <td>synapse</td>\n",
              "      <td>role</td>\n",
              "      <td>representation</td>\n",
              "      <td>subject</td>\n",
              "      <td>cross_validation</td>\n",
              "    </tr>\n",
              "    <tr>\n",
              "      <th>Term18</th>\n",
              "      <td>nearest_neighbor</td>\n",
              "      <td>associative_memory</td>\n",
              "      <td>segmentation</td>\n",
              "      <td>student</td>\n",
              "      <td>constant</td>\n",
              "      <td>derivative</td>\n",
              "      <td>evaluation</td>\n",
              "      <td>probabilistic</td>\n",
              "      <td>contrast</td>\n",
              "      <td>brain</td>\n",
              "      <td>machine</td>\n",
              "      <td>match</td>\n",
              "      <td>frame</td>\n",
              "      <td>reinforcement</td>\n",
              "      <td>epoch</td>\n",
              "      <td>element</td>\n",
              "      <td>symbol</td>\n",
              "      <td>global</td>\n",
              "      <td>eeg</td>\n",
              "      <td>pruning</td>\n",
              "    </tr>\n",
              "    <tr>\n",
              "      <th>Term19</th>\n",
              "      <td>decision</td>\n",
              "      <td>behavior</td>\n",
              "      <td>vowel</td>\n",
              "      <td>line</td>\n",
              "      <td>define</td>\n",
              "      <td>quadratic</td>\n",
              "      <td>strategy</td>\n",
              "      <td>estimation</td>\n",
              "      <td>cortical</td>\n",
              "      <td>simulation</td>\n",
              "      <td>current</td>\n",
              "      <td>binary</td>\n",
              "      <td>texture</td>\n",
              "      <td>trial</td>\n",
              "      <td>simulation</td>\n",
              "      <td>hardware</td>\n",
              "      <td>learned</td>\n",
              "      <td>principal_component</td>\n",
              "      <td>change</td>\n",
              "      <td>bias</td>\n",
              "    </tr>\n",
              "    <tr>\n",
              "      <th>Term20</th>\n",
              "      <td>size</td>\n",
              "      <td>stored</td>\n",
              "      <td>level</td>\n",
              "      <td>random</td>\n",
              "      <td>bounded</td>\n",
              "      <td>energy</td>\n",
              "      <td>important</td>\n",
              "      <td>entropy</td>\n",
              "      <td>pattern</td>\n",
              "      <td>firing_rate</td>\n",
              "      <td>string</td>\n",
              "      <td>coding</td>\n",
              "      <td>location</td>\n",
              "      <td>exploration</td>\n",
              "      <td>generalization</td>\n",
              "      <td>transistor</td>\n",
              "      <td>theory</td>\n",
              "      <td>projection</td>\n",
              "      <td>correlation</td>\n",
              "      <td>risk</td>\n",
              "    </tr>\n",
              "  </tbody>\n",
              "</table>\n",
              "</div>"
            ],
            "text/plain": [
              "                 Topic 1             Topic 2             Topic 3  \\\n",
              "Term1              class              neuron                word   \n",
              "Term2     classification              memory         recognition   \n",
              "Term3         classifier             pattern            training   \n",
              "Term4           training             dynamic              speech   \n",
              "Term5            pattern          connection           character   \n",
              "Term6            feature               phase             context   \n",
              "Term7             kernel           attractor                 hmm   \n",
              "Term8            machine            capacity              letter   \n",
              "Term9       training_set               state                 mlp   \n",
              "Term10              test            hopfield             speaker   \n",
              "Term11            sample              neural             feature   \n",
              "Term12            vector         fixed_point               frame   \n",
              "Term13          database          oscillator             trained   \n",
              "Term14        error_rate               delay  speech_recognition   \n",
              "Term15            margin              stable             phoneme   \n",
              "Term16        experiment                 fig          experiment   \n",
              "Term17    support_vector         oscillation              hybrid   \n",
              "Term18  nearest_neighbor  associative_memory        segmentation   \n",
              "Term19          decision            behavior               vowel   \n",
              "Term20              size              stored               level   \n",
              "\n",
              "             Topic 4        Topic 5           Topic 6      Topic 7  \\\n",
              "Term1          noise          bound            vector       search   \n",
              "Term2           rate        theorem            matrix         task   \n",
              "Term3       equation          class            linear   experiment   \n",
              "Term4          curve    probability          equation        table   \n",
              "Term5        average           size          solution     instance   \n",
              "Term6    correlation      threshold          gradient         test   \n",
              "Term7           rule          proof        constraint       domain   \n",
              "Term8   distribution     polynomial       convergence       target   \n",
              "Term9         theory         theory      optimization        query   \n",
              "Term10         limit     complexity         nonlinear      feature   \n",
              "Term11      solution           loss           optimal         user   \n",
              "Term12       optimal  approximation                eq       random   \n",
              "Term13            eq         linear           minimum    technique   \n",
              "Term14       teacher         assume          operator          run   \n",
              "Term15        effect     definition  gradient_descent     accuracy   \n",
              "Term16          size        defined         condition        block   \n",
              "Term17   temperature     hypothesis          constant  application   \n",
              "Term18       student       constant        derivative   evaluation   \n",
              "Term19          line         define         quadratic     strategy   \n",
              "Term20        random        bounded            energy    important   \n",
              "\n",
              "              Topic 8          Topic 9     Topic 10     Topic 11   Topic 12  \\\n",
              "Term1    distribution           visual       neuron        state       node   \n",
              "Term2     probability           motion         cell     sequence       tree   \n",
              "Term3           prior             cell        spike         step  structure   \n",
              "Term4        gaussian         response     synaptic    recurrent      graph   \n",
              "Term5        variable         stimulus     activity   transition       code   \n",
              "Term6         mixture        direction     response   stochastic      level   \n",
              "Term7         density  receptive_field     stimulus    iteration        bit   \n",
              "Term8        bayesian              map       firing       update       path   \n",
              "Term9        estimate          spatial     synapsis      dynamic      local   \n",
              "Term10  approximation      orientation        et_al  probability       size   \n",
              "Term11            log             unit       effect  convergence   variable   \n",
              "Term12     likelihood              eye       neural   trajectory      stage   \n",
              "Term13         sample            field     neuronal           xt     length   \n",
              "Term14      component         activity      current       length   solution   \n",
              "Term15         expert         location      pattern  observation       edge   \n",
              "Term16             em         velocity   inhibitory   continuous       link   \n",
              "Term17      posterior           center   connection         rate  component   \n",
              "Term18  probabilistic         contrast        brain      machine      match   \n",
              "Term19     estimation         cortical   simulation      current     binary   \n",
              "Term20        entropy          pattern  firing_rate       string     coding   \n",
              "\n",
              "              Topic 13                Topic 14          Topic 15  \\\n",
              "Term1            image                 control              unit   \n",
              "Term2           object                  action             layer   \n",
              "Term3          feature                   state          training   \n",
              "Term4            pixel                  policy       hidden_unit   \n",
              "Term5             face             environment               net   \n",
              "Term6             view              controller      architecture   \n",
              "Term7      recognition  reinforcement_learning           pattern   \n",
              "Term8   representation                    task        activation   \n",
              "Term9            shape                 optimal           trained   \n",
              "Term10           scale                   robot              task   \n",
              "Term11            part                    goal  back_propagation   \n",
              "Term12          visual                    step      hidden_layer   \n",
              "Term13          region                  reward        connection   \n",
              "Term14        position                      td            hidden   \n",
              "Term15           scene                   agent   backpropagation   \n",
              "Term16         surface                adaptive             learn   \n",
              "Term17          vision                    cost      training_set   \n",
              "Term18           frame           reinforcement             epoch   \n",
              "Term19         texture                   trial        simulation   \n",
              "Term20        location             exploration    generalization   \n",
              "\n",
              "              Topic 16        Topic 17             Topic 18     Topic 19  \\\n",
              "Term1          circuit            rule               vector       signal   \n",
              "Term2             chip  representation                  map       filter   \n",
              "Term3          current          module             distance    frequency   \n",
              "Term4           analog       structure              cluster       source   \n",
              "Term5          voltage           human                local      channel   \n",
              "Term6   implementation        movement            dimension        noise   \n",
              "Term7        processor           motor           clustering    component   \n",
              "Term8              bit          target              mapping     response   \n",
              "Term9           design        language          dimensional     temporal   \n",
              "Term10          device         subject               region        sound   \n",
              "Term11     computation   connectionist            structure     auditory   \n",
              "Term12        parallel        position               center    detection   \n",
              "Term13         digital            task                  rbf        phase   \n",
              "Term14       operation         context                  pca          ica   \n",
              "Term15           array      trajectory       basis_function   adaptation   \n",
              "Term16          neural            hand               linear    amplitude   \n",
              "Term17         synapse            role       representation      subject   \n",
              "Term18         element          symbol               global          eeg   \n",
              "Term19        hardware         learned  principal_component       change   \n",
              "Term20      transistor          theory           projection  correlation   \n",
              "\n",
              "                Topic 20  \n",
              "Term1         prediction  \n",
              "Term2           training  \n",
              "Term3           estimate  \n",
              "Term4         regression  \n",
              "Term5               test  \n",
              "Term6              noise  \n",
              "Term7          selection  \n",
              "Term8           variance  \n",
              "Term9       training_set  \n",
              "Term10            sample  \n",
              "Term11          ensemble  \n",
              "Term12        estimation  \n",
              "Term13           average  \n",
              "Term14         nonlinear  \n",
              "Term15            linear  \n",
              "Term16         estimator  \n",
              "Term17  cross_validation  \n",
              "Term18           pruning  \n",
              "Term19              bias  \n",
              "Term20              risk  "
            ]
          },
          "metadata": {
            "tags": []
          },
          "execution_count": 46
        }
      ]
    },
    {
      "cell_type": "code",
      "metadata": {
        "scrolled": false,
        "id": "xnj5_71968EC",
        "colab_type": "code",
        "colab": {},
        "outputId": "8f42bb52-bf82-4ce4-bbd3-536b2488b7fe"
      },
      "source": [
        "pd.set_option('display.max_colwidth', -1)\n",
        "topics_df = pd.DataFrame([', '.join([term for term, wt in topic])  \n",
        "                              for topic in topics],\n",
        "                         columns = ['Terms per Topic'],\n",
        "                         index=['Topic'+str(t) for t in range(1, best_lda_model.num_topics+1)]\n",
        "                         )\n",
        "topics_df"
      ],
      "execution_count": null,
      "outputs": [
        {
          "output_type": "execute_result",
          "data": {
            "text/html": [
              "<div>\n",
              "<style scoped>\n",
              "    .dataframe tbody tr th:only-of-type {\n",
              "        vertical-align: middle;\n",
              "    }\n",
              "\n",
              "    .dataframe tbody tr th {\n",
              "        vertical-align: top;\n",
              "    }\n",
              "\n",
              "    .dataframe thead th {\n",
              "        text-align: right;\n",
              "    }\n",
              "</style>\n",
              "<table border=\"1\" class=\"dataframe\">\n",
              "  <thead>\n",
              "    <tr style=\"text-align: right;\">\n",
              "      <th></th>\n",
              "      <th>Terms per Topic</th>\n",
              "    </tr>\n",
              "  </thead>\n",
              "  <tbody>\n",
              "    <tr>\n",
              "      <th>Topic1</th>\n",
              "      <td>class, classification, classifier, training, pattern, feature, kernel, machine, training_set, test, sample, vector, database, error_rate, margin, experiment, support_vector, nearest_neighbor, decision, size</td>\n",
              "    </tr>\n",
              "    <tr>\n",
              "      <th>Topic2</th>\n",
              "      <td>neuron, memory, pattern, dynamic, connection, phase, attractor, capacity, state, hopfield, neural, fixed_point, oscillator, delay, stable, fig, oscillation, associative_memory, behavior, stored</td>\n",
              "    </tr>\n",
              "    <tr>\n",
              "      <th>Topic3</th>\n",
              "      <td>word, recognition, training, speech, character, context, hmm, letter, mlp, speaker, feature, frame, trained, speech_recognition, phoneme, experiment, hybrid, segmentation, vowel, level</td>\n",
              "    </tr>\n",
              "    <tr>\n",
              "      <th>Topic4</th>\n",
              "      <td>noise, rate, equation, curve, average, correlation, rule, distribution, theory, limit, solution, optimal, eq, teacher, effect, size, temperature, student, line, random</td>\n",
              "    </tr>\n",
              "    <tr>\n",
              "      <th>Topic5</th>\n",
              "      <td>bound, theorem, class, probability, size, threshold, proof, polynomial, theory, complexity, loss, approximation, linear, assume, definition, defined, hypothesis, constant, define, bounded</td>\n",
              "    </tr>\n",
              "    <tr>\n",
              "      <th>Topic6</th>\n",
              "      <td>vector, matrix, linear, equation, solution, gradient, constraint, convergence, optimization, nonlinear, optimal, eq, minimum, operator, gradient_descent, condition, constant, derivative, quadratic, energy</td>\n",
              "    </tr>\n",
              "    <tr>\n",
              "      <th>Topic7</th>\n",
              "      <td>search, task, experiment, table, instance, test, domain, target, query, feature, user, random, technique, run, accuracy, block, application, evaluation, strategy, important</td>\n",
              "    </tr>\n",
              "    <tr>\n",
              "      <th>Topic8</th>\n",
              "      <td>distribution, probability, prior, gaussian, variable, mixture, density, bayesian, estimate, approximation, log, likelihood, sample, component, expert, em, posterior, probabilistic, estimation, entropy</td>\n",
              "    </tr>\n",
              "    <tr>\n",
              "      <th>Topic9</th>\n",
              "      <td>visual, motion, cell, response, stimulus, direction, receptive_field, map, spatial, orientation, unit, eye, field, activity, location, velocity, center, contrast, cortical, pattern</td>\n",
              "    </tr>\n",
              "    <tr>\n",
              "      <th>Topic10</th>\n",
              "      <td>neuron, cell, spike, synaptic, activity, response, stimulus, firing, synapsis, et_al, effect, neural, neuronal, current, pattern, inhibitory, connection, brain, simulation, firing_rate</td>\n",
              "    </tr>\n",
              "    <tr>\n",
              "      <th>Topic11</th>\n",
              "      <td>state, sequence, step, recurrent, transition, stochastic, iteration, update, dynamic, probability, convergence, trajectory, xt, length, observation, continuous, rate, machine, current, string</td>\n",
              "    </tr>\n",
              "    <tr>\n",
              "      <th>Topic12</th>\n",
              "      <td>node, tree, structure, graph, code, level, bit, path, local, size, variable, stage, length, solution, edge, link, component, match, binary, coding</td>\n",
              "    </tr>\n",
              "    <tr>\n",
              "      <th>Topic13</th>\n",
              "      <td>image, object, feature, pixel, face, view, recognition, representation, shape, scale, part, visual, region, position, scene, surface, vision, frame, texture, location</td>\n",
              "    </tr>\n",
              "    <tr>\n",
              "      <th>Topic14</th>\n",
              "      <td>control, action, state, policy, environment, controller, reinforcement_learning, task, optimal, robot, goal, step, reward, td, agent, adaptive, cost, reinforcement, trial, exploration</td>\n",
              "    </tr>\n",
              "    <tr>\n",
              "      <th>Topic15</th>\n",
              "      <td>unit, layer, training, hidden_unit, net, architecture, pattern, activation, trained, task, back_propagation, hidden_layer, connection, hidden, backpropagation, learn, training_set, epoch, simulation, generalization</td>\n",
              "    </tr>\n",
              "    <tr>\n",
              "      <th>Topic16</th>\n",
              "      <td>circuit, chip, current, analog, voltage, implementation, processor, bit, design, device, computation, parallel, digital, operation, array, neural, synapse, element, hardware, transistor</td>\n",
              "    </tr>\n",
              "    <tr>\n",
              "      <th>Topic17</th>\n",
              "      <td>rule, representation, module, structure, human, movement, motor, target, language, subject, connectionist, position, task, context, trajectory, hand, role, symbol, learned, theory</td>\n",
              "    </tr>\n",
              "    <tr>\n",
              "      <th>Topic18</th>\n",
              "      <td>vector, map, distance, cluster, local, dimension, clustering, mapping, dimensional, region, structure, center, rbf, pca, basis_function, linear, representation, global, principal_component, projection</td>\n",
              "    </tr>\n",
              "    <tr>\n",
              "      <th>Topic19</th>\n",
              "      <td>signal, filter, frequency, source, channel, noise, component, response, temporal, sound, auditory, detection, phase, ica, adaptation, amplitude, subject, eeg, change, correlation</td>\n",
              "    </tr>\n",
              "    <tr>\n",
              "      <th>Topic20</th>\n",
              "      <td>prediction, training, estimate, regression, test, noise, selection, variance, training_set, sample, ensemble, estimation, average, nonlinear, linear, estimator, cross_validation, pruning, bias, risk</td>\n",
              "    </tr>\n",
              "  </tbody>\n",
              "</table>\n",
              "</div>"
            ],
            "text/plain": [
              "                                                                                                                                                                                                                Terms per Topic\n",
              "Topic1   class, classification, classifier, training, pattern, feature, kernel, machine, training_set, test, sample, vector, database, error_rate, margin, experiment, support_vector, nearest_neighbor, decision, size        \n",
              "Topic2   neuron, memory, pattern, dynamic, connection, phase, attractor, capacity, state, hopfield, neural, fixed_point, oscillator, delay, stable, fig, oscillation, associative_memory, behavior, stored                     \n",
              "Topic3   word, recognition, training, speech, character, context, hmm, letter, mlp, speaker, feature, frame, trained, speech_recognition, phoneme, experiment, hybrid, segmentation, vowel, level                              \n",
              "Topic4   noise, rate, equation, curve, average, correlation, rule, distribution, theory, limit, solution, optimal, eq, teacher, effect, size, temperature, student, line, random                                               \n",
              "Topic5   bound, theorem, class, probability, size, threshold, proof, polynomial, theory, complexity, loss, approximation, linear, assume, definition, defined, hypothesis, constant, define, bounded                           \n",
              "Topic6   vector, matrix, linear, equation, solution, gradient, constraint, convergence, optimization, nonlinear, optimal, eq, minimum, operator, gradient_descent, condition, constant, derivative, quadratic, energy          \n",
              "Topic7   search, task, experiment, table, instance, test, domain, target, query, feature, user, random, technique, run, accuracy, block, application, evaluation, strategy, important                                          \n",
              "Topic8   distribution, probability, prior, gaussian, variable, mixture, density, bayesian, estimate, approximation, log, likelihood, sample, component, expert, em, posterior, probabilistic, estimation, entropy              \n",
              "Topic9   visual, motion, cell, response, stimulus, direction, receptive_field, map, spatial, orientation, unit, eye, field, activity, location, velocity, center, contrast, cortical, pattern                                  \n",
              "Topic10  neuron, cell, spike, synaptic, activity, response, stimulus, firing, synapsis, et_al, effect, neural, neuronal, current, pattern, inhibitory, connection, brain, simulation, firing_rate                              \n",
              "Topic11  state, sequence, step, recurrent, transition, stochastic, iteration, update, dynamic, probability, convergence, trajectory, xt, length, observation, continuous, rate, machine, current, string                       \n",
              "Topic12  node, tree, structure, graph, code, level, bit, path, local, size, variable, stage, length, solution, edge, link, component, match, binary, coding                                                                    \n",
              "Topic13  image, object, feature, pixel, face, view, recognition, representation, shape, scale, part, visual, region, position, scene, surface, vision, frame, texture, location                                                \n",
              "Topic14  control, action, state, policy, environment, controller, reinforcement_learning, task, optimal, robot, goal, step, reward, td, agent, adaptive, cost, reinforcement, trial, exploration                               \n",
              "Topic15  unit, layer, training, hidden_unit, net, architecture, pattern, activation, trained, task, back_propagation, hidden_layer, connection, hidden, backpropagation, learn, training_set, epoch, simulation, generalization\n",
              "Topic16  circuit, chip, current, analog, voltage, implementation, processor, bit, design, device, computation, parallel, digital, operation, array, neural, synapse, element, hardware, transistor                             \n",
              "Topic17  rule, representation, module, structure, human, movement, motor, target, language, subject, connectionist, position, task, context, trajectory, hand, role, symbol, learned, theory                                   \n",
              "Topic18  vector, map, distance, cluster, local, dimension, clustering, mapping, dimensional, region, structure, center, rbf, pca, basis_function, linear, representation, global, principal_component, projection              \n",
              "Topic19  signal, filter, frequency, source, channel, noise, component, response, temporal, sound, auditory, detection, phase, ica, adaptation, amplitude, subject, eeg, change, correlation                                    \n",
              "Topic20  prediction, training, estimate, regression, test, noise, selection, variance, training_set, sample, ensemble, estimation, average, nonlinear, linear, estimator, cross_validation, pruning, bias, risk                "
            ]
          },
          "metadata": {
            "tags": []
          },
          "execution_count": 47
        }
      ]
    },
    {
      "cell_type": "markdown",
      "metadata": {
        "id": "tTUEhupO68EH",
        "colab_type": "text"
      },
      "source": [
        "# Interpreting Topic Model Results"
      ]
    },
    {
      "cell_type": "code",
      "metadata": {
        "id": "ICd3wxFG68EH",
        "colab_type": "code",
        "colab": {}
      },
      "source": [
        "tm_results = best_lda_model[bow_corpus]"
      ],
      "execution_count": null,
      "outputs": []
    },
    {
      "cell_type": "code",
      "metadata": {
        "id": "obf694BH68EJ",
        "colab_type": "code",
        "colab": {},
        "outputId": "6ce36362-9d50-4fce-b59c-283f1101327e"
      },
      "source": [
        "corpus_topics = [sorted(topics, key=lambda record: -record[1])[0] \n",
        "                     for topics in tm_results]\n",
        "corpus_topics[:5]"
      ],
      "execution_count": null,
      "outputs": [
        {
          "output_type": "execute_result",
          "data": {
            "text/plain": [
              "[(16, 0.2115988756613756),\n",
              " (5, 0.29989652050187554),\n",
              " (9, 0.3307915758896151),\n",
              " (8, 0.5447463768115942),\n",
              " (9, 0.18093823158652983)]"
            ]
          },
          "metadata": {
            "tags": []
          },
          "execution_count": 49
        }
      ]
    },
    {
      "cell_type": "code",
      "metadata": {
        "id": "nWBNLc6i68Ee",
        "colab_type": "code",
        "colab": {}
      },
      "source": [
        "corpus_topic_df = pd.DataFrame()\n",
        "corpus_topic_df['Document'] = range(0, len(papers))\n",
        "corpus_topic_df['Dominant Topic'] = [item[0]+1 for item in corpus_topics]\n",
        "corpus_topic_df['Contribution %'] = [round(item[1]*100, 2) for item in corpus_topics]\n",
        "corpus_topic_df['Topic Desc'] = [topics_df.iloc[t[0]]['Terms per Topic'] for t in corpus_topics]\n",
        "corpus_topic_df['Paper'] = papers"
      ],
      "execution_count": null,
      "outputs": []
    },
    {
      "cell_type": "markdown",
      "metadata": {
        "id": "Tsj0FlSS68Eg",
        "colab_type": "text"
      },
      "source": [
        "## Dominant Topics Distribution across Corpus"
      ]
    },
    {
      "cell_type": "code",
      "metadata": {
        "id": "-CWkEwj068Eg",
        "colab_type": "code",
        "colab": {},
        "outputId": "c1f8a248-2b50-4783-af6f-39baa85ef5b9"
      },
      "source": [
        "pd.set_option('display.max_colwidth', 200)\n",
        "topic_stats_df = corpus_topic_df.groupby('Dominant Topic').agg({\n",
        "                                                'Dominant Topic': {\n",
        "                                                    'Doc Count': np.size,\n",
        "                                                    '% Total Docs': np.size }\n",
        "                                              })\n",
        "topic_stats_df = topic_stats_df['Dominant Topic'].reset_index()\n",
        "topic_stats_df['% Total Docs'] = topic_stats_df['% Total Docs'].apply(lambda row: round((row*100) / len(papers), 2))\n",
        "topic_stats_df['Topic Desc'] = [topics_df.iloc[t]['Terms per Topic'] for t in range(len(topic_stats_df))]\n",
        "topic_stats_df"
      ],
      "execution_count": null,
      "outputs": [
        {
          "output_type": "stream",
          "text": [
            "/home/paperspace/anaconda3/lib/python3.6/site-packages/pandas/core/groupby/groupby.py:4656: FutureWarning: using a dict with renaming is deprecated and will be removed in a future version\n",
            "  return super(DataFrameGroupBy, self).aggregate(arg, *args, **kwargs)\n"
          ],
          "name": "stderr"
        },
        {
          "output_type": "execute_result",
          "data": {
            "text/html": [
              "<div>\n",
              "<style scoped>\n",
              "    .dataframe tbody tr th:only-of-type {\n",
              "        vertical-align: middle;\n",
              "    }\n",
              "\n",
              "    .dataframe tbody tr th {\n",
              "        vertical-align: top;\n",
              "    }\n",
              "\n",
              "    .dataframe thead th {\n",
              "        text-align: right;\n",
              "    }\n",
              "</style>\n",
              "<table border=\"1\" class=\"dataframe\">\n",
              "  <thead>\n",
              "    <tr style=\"text-align: right;\">\n",
              "      <th></th>\n",
              "      <th>Dominant Topic</th>\n",
              "      <th>Doc Count</th>\n",
              "      <th>% Total Docs</th>\n",
              "      <th>Topic Desc</th>\n",
              "    </tr>\n",
              "  </thead>\n",
              "  <tbody>\n",
              "    <tr>\n",
              "      <th>0</th>\n",
              "      <td>1</td>\n",
              "      <td>75</td>\n",
              "      <td>4.31</td>\n",
              "      <td>class, classification, classifier, training, pattern, feature, kernel, machine, training_set, test, sample, vector, database, error_rate, margin, experiment, support_vector, nearest_neighbor, deci...</td>\n",
              "    </tr>\n",
              "    <tr>\n",
              "      <th>1</th>\n",
              "      <td>2</td>\n",
              "      <td>69</td>\n",
              "      <td>3.97</td>\n",
              "      <td>neuron, memory, pattern, dynamic, connection, phase, attractor, capacity, state, hopfield, neural, fixed_point, oscillator, delay, stable, fig, oscillation, associative_memory, behavior, stored</td>\n",
              "    </tr>\n",
              "    <tr>\n",
              "      <th>2</th>\n",
              "      <td>3</td>\n",
              "      <td>78</td>\n",
              "      <td>4.48</td>\n",
              "      <td>word, recognition, training, speech, character, context, hmm, letter, mlp, speaker, feature, frame, trained, speech_recognition, phoneme, experiment, hybrid, segmentation, vowel, level</td>\n",
              "    </tr>\n",
              "    <tr>\n",
              "      <th>3</th>\n",
              "      <td>4</td>\n",
              "      <td>68</td>\n",
              "      <td>3.91</td>\n",
              "      <td>noise, rate, equation, curve, average, correlation, rule, distribution, theory, limit, solution, optimal, eq, teacher, effect, size, temperature, student, line, random</td>\n",
              "    </tr>\n",
              "    <tr>\n",
              "      <th>4</th>\n",
              "      <td>5</td>\n",
              "      <td>105</td>\n",
              "      <td>6.03</td>\n",
              "      <td>bound, theorem, class, probability, size, threshold, proof, polynomial, theory, complexity, loss, approximation, linear, assume, definition, defined, hypothesis, constant, define, bounded</td>\n",
              "    </tr>\n",
              "    <tr>\n",
              "      <th>5</th>\n",
              "      <td>6</td>\n",
              "      <td>80</td>\n",
              "      <td>4.60</td>\n",
              "      <td>vector, matrix, linear, equation, solution, gradient, constraint, convergence, optimization, nonlinear, optimal, eq, minimum, operator, gradient_descent, condition, constant, derivative, quadratic...</td>\n",
              "    </tr>\n",
              "    <tr>\n",
              "      <th>6</th>\n",
              "      <td>7</td>\n",
              "      <td>66</td>\n",
              "      <td>3.79</td>\n",
              "      <td>search, task, experiment, table, instance, test, domain, target, query, feature, user, random, technique, run, accuracy, block, application, evaluation, strategy, important</td>\n",
              "    </tr>\n",
              "    <tr>\n",
              "      <th>7</th>\n",
              "      <td>8</td>\n",
              "      <td>148</td>\n",
              "      <td>8.51</td>\n",
              "      <td>distribution, probability, prior, gaussian, variable, mixture, density, bayesian, estimate, approximation, log, likelihood, sample, component, expert, em, posterior, probabilistic, estimation, ent...</td>\n",
              "    </tr>\n",
              "    <tr>\n",
              "      <th>8</th>\n",
              "      <td>9</td>\n",
              "      <td>117</td>\n",
              "      <td>6.72</td>\n",
              "      <td>visual, motion, cell, response, stimulus, direction, receptive_field, map, spatial, orientation, unit, eye, field, activity, location, velocity, center, contrast, cortical, pattern</td>\n",
              "    </tr>\n",
              "    <tr>\n",
              "      <th>9</th>\n",
              "      <td>10</td>\n",
              "      <td>141</td>\n",
              "      <td>8.10</td>\n",
              "      <td>neuron, cell, spike, synaptic, activity, response, stimulus, firing, synapsis, et_al, effect, neural, neuronal, current, pattern, inhibitory, connection, brain, simulation, firing_rate</td>\n",
              "    </tr>\n",
              "    <tr>\n",
              "      <th>10</th>\n",
              "      <td>11</td>\n",
              "      <td>41</td>\n",
              "      <td>2.36</td>\n",
              "      <td>state, sequence, step, recurrent, transition, stochastic, iteration, update, dynamic, probability, convergence, trajectory, xt, length, observation, continuous, rate, machine, current, string</td>\n",
              "    </tr>\n",
              "    <tr>\n",
              "      <th>11</th>\n",
              "      <td>12</td>\n",
              "      <td>41</td>\n",
              "      <td>2.36</td>\n",
              "      <td>node, tree, structure, graph, code, level, bit, path, local, size, variable, stage, length, solution, edge, link, component, match, binary, coding</td>\n",
              "    </tr>\n",
              "    <tr>\n",
              "      <th>12</th>\n",
              "      <td>13</td>\n",
              "      <td>113</td>\n",
              "      <td>6.49</td>\n",
              "      <td>image, object, feature, pixel, face, view, recognition, representation, shape, scale, part, visual, region, position, scene, surface, vision, frame, texture, location</td>\n",
              "    </tr>\n",
              "    <tr>\n",
              "      <th>13</th>\n",
              "      <td>14</td>\n",
              "      <td>110</td>\n",
              "      <td>6.32</td>\n",
              "      <td>control, action, state, policy, environment, controller, reinforcement_learning, task, optimal, robot, goal, step, reward, td, agent, adaptive, cost, reinforcement, trial, exploration</td>\n",
              "    </tr>\n",
              "    <tr>\n",
              "      <th>14</th>\n",
              "      <td>15</td>\n",
              "      <td>84</td>\n",
              "      <td>4.83</td>\n",
              "      <td>unit, layer, training, hidden_unit, net, architecture, pattern, activation, trained, task, back_propagation, hidden_layer, connection, hidden, backpropagation, learn, training_set, epoch, simulati...</td>\n",
              "    </tr>\n",
              "    <tr>\n",
              "      <th>15</th>\n",
              "      <td>16</td>\n",
              "      <td>104</td>\n",
              "      <td>5.98</td>\n",
              "      <td>circuit, chip, current, analog, voltage, implementation, processor, bit, design, device, computation, parallel, digital, operation, array, neural, synapse, element, hardware, transistor</td>\n",
              "    </tr>\n",
              "    <tr>\n",
              "      <th>16</th>\n",
              "      <td>17</td>\n",
              "      <td>76</td>\n",
              "      <td>4.37</td>\n",
              "      <td>rule, representation, module, structure, human, movement, motor, target, language, subject, connectionist, position, task, context, trajectory, hand, role, symbol, learned, theory</td>\n",
              "    </tr>\n",
              "    <tr>\n",
              "      <th>17</th>\n",
              "      <td>18</td>\n",
              "      <td>63</td>\n",
              "      <td>3.62</td>\n",
              "      <td>vector, map, distance, cluster, local, dimension, clustering, mapping, dimensional, region, structure, center, rbf, pca, basis_function, linear, representation, global, principal_component, projec...</td>\n",
              "    </tr>\n",
              "    <tr>\n",
              "      <th>18</th>\n",
              "      <td>19</td>\n",
              "      <td>69</td>\n",
              "      <td>3.97</td>\n",
              "      <td>signal, filter, frequency, source, channel, noise, component, response, temporal, sound, auditory, detection, phase, ica, adaptation, amplitude, subject, eeg, change, correlation</td>\n",
              "    </tr>\n",
              "    <tr>\n",
              "      <th>19</th>\n",
              "      <td>20</td>\n",
              "      <td>92</td>\n",
              "      <td>5.29</td>\n",
              "      <td>prediction, training, estimate, regression, test, noise, selection, variance, training_set, sample, ensemble, estimation, average, nonlinear, linear, estimator, cross_validation, pruning, bias, risk</td>\n",
              "    </tr>\n",
              "  </tbody>\n",
              "</table>\n",
              "</div>"
            ],
            "text/plain": [
              "    Dominant Topic  Doc Count  % Total Docs  \\\n",
              "0                1         75          4.31   \n",
              "1                2         69          3.97   \n",
              "2                3         78          4.48   \n",
              "3                4         68          3.91   \n",
              "4                5        105          6.03   \n",
              "5                6         80          4.60   \n",
              "6                7         66          3.79   \n",
              "7                8        148          8.51   \n",
              "8                9        117          6.72   \n",
              "9               10        141          8.10   \n",
              "10              11         41          2.36   \n",
              "11              12         41          2.36   \n",
              "12              13        113          6.49   \n",
              "13              14        110          6.32   \n",
              "14              15         84          4.83   \n",
              "15              16        104          5.98   \n",
              "16              17         76          4.37   \n",
              "17              18         63          3.62   \n",
              "18              19         69          3.97   \n",
              "19              20         92          5.29   \n",
              "\n",
              "                                                                                                                                                                                                 Topic Desc  \n",
              "0   class, classification, classifier, training, pattern, feature, kernel, machine, training_set, test, sample, vector, database, error_rate, margin, experiment, support_vector, nearest_neighbor, deci...  \n",
              "1         neuron, memory, pattern, dynamic, connection, phase, attractor, capacity, state, hopfield, neural, fixed_point, oscillator, delay, stable, fig, oscillation, associative_memory, behavior, stored  \n",
              "2                  word, recognition, training, speech, character, context, hmm, letter, mlp, speaker, feature, frame, trained, speech_recognition, phoneme, experiment, hybrid, segmentation, vowel, level  \n",
              "3                                   noise, rate, equation, curve, average, correlation, rule, distribution, theory, limit, solution, optimal, eq, teacher, effect, size, temperature, student, line, random  \n",
              "4               bound, theorem, class, probability, size, threshold, proof, polynomial, theory, complexity, loss, approximation, linear, assume, definition, defined, hypothesis, constant, define, bounded  \n",
              "5   vector, matrix, linear, equation, solution, gradient, constraint, convergence, optimization, nonlinear, optimal, eq, minimum, operator, gradient_descent, condition, constant, derivative, quadratic...  \n",
              "6                              search, task, experiment, table, instance, test, domain, target, query, feature, user, random, technique, run, accuracy, block, application, evaluation, strategy, important  \n",
              "7   distribution, probability, prior, gaussian, variable, mixture, density, bayesian, estimate, approximation, log, likelihood, sample, component, expert, em, posterior, probabilistic, estimation, ent...  \n",
              "8                      visual, motion, cell, response, stimulus, direction, receptive_field, map, spatial, orientation, unit, eye, field, activity, location, velocity, center, contrast, cortical, pattern  \n",
              "9                  neuron, cell, spike, synaptic, activity, response, stimulus, firing, synapsis, et_al, effect, neural, neuronal, current, pattern, inhibitory, connection, brain, simulation, firing_rate  \n",
              "10          state, sequence, step, recurrent, transition, stochastic, iteration, update, dynamic, probability, convergence, trajectory, xt, length, observation, continuous, rate, machine, current, string  \n",
              "11                                                       node, tree, structure, graph, code, level, bit, path, local, size, variable, stage, length, solution, edge, link, component, match, binary, coding  \n",
              "12                                   image, object, feature, pixel, face, view, recognition, representation, shape, scale, part, visual, region, position, scene, surface, vision, frame, texture, location  \n",
              "13                  control, action, state, policy, environment, controller, reinforcement_learning, task, optimal, robot, goal, step, reward, td, agent, adaptive, cost, reinforcement, trial, exploration  \n",
              "14  unit, layer, training, hidden_unit, net, architecture, pattern, activation, trained, task, back_propagation, hidden_layer, connection, hidden, backpropagation, learn, training_set, epoch, simulati...  \n",
              "15                circuit, chip, current, analog, voltage, implementation, processor, bit, design, device, computation, parallel, digital, operation, array, neural, synapse, element, hardware, transistor  \n",
              "16                      rule, representation, module, structure, human, movement, motor, target, language, subject, connectionist, position, task, context, trajectory, hand, role, symbol, learned, theory  \n",
              "17  vector, map, distance, cluster, local, dimension, clustering, mapping, dimensional, region, structure, center, rbf, pca, basis_function, linear, representation, global, principal_component, projec...  \n",
              "18                       signal, filter, frequency, source, channel, noise, component, response, temporal, sound, auditory, detection, phase, ica, adaptation, amplitude, subject, eeg, change, correlation  \n",
              "19   prediction, training, estimate, regression, test, noise, selection, variance, training_set, sample, ensemble, estimation, average, nonlinear, linear, estimator, cross_validation, pruning, bias, risk  "
            ]
          },
          "metadata": {
            "tags": []
          },
          "execution_count": 51
        }
      ]
    },
    {
      "cell_type": "markdown",
      "metadata": {
        "id": "I8LJ4FrS68Ev",
        "colab_type": "text"
      },
      "source": [
        "## Dominant Topics in Specific Research Papers"
      ]
    },
    {
      "cell_type": "code",
      "metadata": {
        "id": "MpFxEq5568Ew",
        "colab_type": "code",
        "colab": {},
        "outputId": "f4c2d338-99f5-48b4-a2ef-272efa6d1b0f"
      },
      "source": [
        "pd.set_option('display.max_colwidth', 200)\n",
        "(corpus_topic_df[corpus_topic_df['Document']\n",
        "                 .isin([681, 9, 392, 1622, 17, \n",
        "                        906, 996, 503, 13, 733])])"
      ],
      "execution_count": null,
      "outputs": [
        {
          "output_type": "execute_result",
          "data": {
            "text/html": [
              "<div>\n",
              "<style scoped>\n",
              "    .dataframe tbody tr th:only-of-type {\n",
              "        vertical-align: middle;\n",
              "    }\n",
              "\n",
              "    .dataframe tbody tr th {\n",
              "        vertical-align: top;\n",
              "    }\n",
              "\n",
              "    .dataframe thead th {\n",
              "        text-align: right;\n",
              "    }\n",
              "</style>\n",
              "<table border=\"1\" class=\"dataframe\">\n",
              "  <thead>\n",
              "    <tr style=\"text-align: right;\">\n",
              "      <th></th>\n",
              "      <th>Document</th>\n",
              "      <th>Dominant Topic</th>\n",
              "      <th>Contribution %</th>\n",
              "      <th>Topic Desc</th>\n",
              "      <th>Paper</th>\n",
              "    </tr>\n",
              "  </thead>\n",
              "  <tbody>\n",
              "    <tr>\n",
              "      <th>9</th>\n",
              "      <td>9</td>\n",
              "      <td>13</td>\n",
              "      <td>29.10</td>\n",
              "      <td>image, object, feature, pixel, face, view, recognition, representation, shape, scale, part, visual, region, position, scene, surface, vision, frame, texture, location</td>\n",
              "      <td>622 \\nLEARNING A COLOR ALGORITHM FROM EXAMPLES \\nAnya C. Hurlbert and Tomaso A. Poggio \\nArtificial Intelligence Laboratory and Department of Brain and Cognitive Sciences, \\nMassachusetts Institut...</td>\n",
              "    </tr>\n",
              "    <tr>\n",
              "      <th>13</th>\n",
              "      <td>13</td>\n",
              "      <td>16</td>\n",
              "      <td>27.12</td>\n",
              "      <td>circuit, chip, current, analog, voltage, implementation, processor, bit, design, device, computation, parallel, digital, operation, array, neural, synapse, element, hardware, transistor</td>\n",
              "      <td>9 \\nStochastic Learning Networks and their Electronic Implementation \\nJoshua Alspector*, Robert B. Allen, Victor Hut, and Srinagesh Satyanarayana \\nBell Communications Research, Morristown, NJ 0...</td>\n",
              "    </tr>\n",
              "    <tr>\n",
              "      <th>17</th>\n",
              "      <td>17</td>\n",
              "      <td>5</td>\n",
              "      <td>23.00</td>\n",
              "      <td>bound, theorem, class, probability, size, threshold, proof, polynomial, theory, complexity, loss, approximation, linear, assume, definition, defined, hypothesis, constant, define, bounded</td>\n",
              "      <td>338 \\nThe Connectivity Analysis of Simple Association \\nHow Many Connections Do You Need? \\nDan Hammerstrom * \\nOregon Graduate Center, Beaverton, OR 97006 \\nABSTRACT \\nThe efficient realization, ...</td>\n",
              "    </tr>\n",
              "    <tr>\n",
              "      <th>392</th>\n",
              "      <td>392</td>\n",
              "      <td>14</td>\n",
              "      <td>67.03</td>\n",
              "      <td>control, action, state, policy, environment, controller, reinforcement_learning, task, optimal, robot, goal, step, reward, td, agent, adaptive, cost, reinforcement, trial, exploration</td>\n",
              "      <td>Integrated Modeling and Control \\nBased on Reinforcement Learning \\nand Dynamic Programming \\nRichard S. Sutton \\nGTE Laboratories Incorporated \\nWaltham, MA 02254 \\nAbstract \\nThis is a summary o...</td>\n",
              "    </tr>\n",
              "    <tr>\n",
              "      <th>503</th>\n",
              "      <td>503</td>\n",
              "      <td>3</td>\n",
              "      <td>60.76</td>\n",
              "      <td>word, recognition, training, speech, character, context, hmm, letter, mlp, speaker, feature, frame, trained, speech_recognition, phoneme, experiment, hybrid, segmentation, vowel, level</td>\n",
              "      <td>Multi-State Time Delay Neural Networks \\nfor Continuous Speech Recognition \\nPatrick Haffner \\nCNET Lannion A TSS/RCP \\n22301 LANNION, FRANCE \\nhaffnerlannion.cnet. fr \\nAlex Waibel \\nCarnegie Me...</td>\n",
              "    </tr>\n",
              "    <tr>\n",
              "      <th>681</th>\n",
              "      <td>681</td>\n",
              "      <td>3</td>\n",
              "      <td>67.58</td>\n",
              "      <td>word, recognition, training, speech, character, context, hmm, letter, mlp, speaker, feature, frame, trained, speech_recognition, phoneme, experiment, hybrid, segmentation, vowel, level</td>\n",
              "      <td>Connected Letter Recognition with a \\nMulti-State Time Delay Neural Network \\nHermann Hild and Alex Waibel \\nSchool of Computer Science \\nCarnegie Mellon University \\nPittsburgh, PA 15213-3891, US...</td>\n",
              "    </tr>\n",
              "    <tr>\n",
              "      <th>733</th>\n",
              "      <td>733</td>\n",
              "      <td>16</td>\n",
              "      <td>45.55</td>\n",
              "      <td>circuit, chip, current, analog, voltage, implementation, processor, bit, design, device, computation, parallel, digital, operation, array, neural, synapse, element, hardware, transistor</td>\n",
              "      <td>High Performance Neural Net Simulation \\non a Multiprocessor System with \\n\"Intelligent\" Communication \\nUrs A. Miiller, Michael Kocheisen, and Anton Gunzinger \\nElectronics Laboratory, Swiss Fede...</td>\n",
              "    </tr>\n",
              "    <tr>\n",
              "      <th>906</th>\n",
              "      <td>906</td>\n",
              "      <td>10</td>\n",
              "      <td>56.44</td>\n",
              "      <td>neuron, cell, spike, synaptic, activity, response, stimulus, firing, synapsis, et_al, effect, neural, neuronal, current, pattern, inhibitory, connection, brain, simulation, firing_rate</td>\n",
              "      <td>A model of the hippocampus combining self- \\norganization and associative memory function. \\nMichael E. Hasselmo, Eric Schnell \\nJoshua Berke and Edi Barkai \\nDept. of Psychology, Harvard Universi...</td>\n",
              "    </tr>\n",
              "    <tr>\n",
              "      <th>996</th>\n",
              "      <td>996</td>\n",
              "      <td>19</td>\n",
              "      <td>65.69</td>\n",
              "      <td>signal, filter, frequency, source, channel, noise, component, response, temporal, sound, auditory, detection, phase, ica, adaptation, amplitude, subject, eeg, change, correlation</td>\n",
              "      <td>Using Feedforward Neural Networks to \\nMonitor Alertness from Changes in EEG \\nCorrelation and Coherence \\nScott Makeig \\nNaval Health Research Center, P.O. Box 85122 \\nSan Diego, CA 92186-5122 \\n...</td>\n",
              "    </tr>\n",
              "    <tr>\n",
              "      <th>1622</th>\n",
              "      <td>1622</td>\n",
              "      <td>8</td>\n",
              "      <td>56.70</td>\n",
              "      <td>distribution, probability, prior, gaussian, variable, mixture, density, bayesian, estimate, approximation, log, likelihood, sample, component, expert, em, posterior, probabilistic, estimation, ent...</td>\n",
              "      <td>The Infinite Gaussian Mixture Model \\nCarl Edward Rasmussen \\nDepartment of Mathematical Modelling \\nTechnical University of Denmark \\nBuilding 321, DK-2800 Kongens Lyngby, Denmark \\ncarl@imm.dtu....</td>\n",
              "    </tr>\n",
              "  </tbody>\n",
              "</table>\n",
              "</div>"
            ],
            "text/plain": [
              "      Document  Dominant Topic  Contribution %  \\\n",
              "9            9              13           29.10   \n",
              "13          13              16           27.12   \n",
              "17          17               5           23.00   \n",
              "392        392              14           67.03   \n",
              "503        503               3           60.76   \n",
              "681        681               3           67.58   \n",
              "733        733              16           45.55   \n",
              "906        906              10           56.44   \n",
              "996        996              19           65.69   \n",
              "1622      1622               8           56.70   \n",
              "\n",
              "                                                                                                                                                                                                   Topic Desc  \\\n",
              "9                                      image, object, feature, pixel, face, view, recognition, representation, shape, scale, part, visual, region, position, scene, surface, vision, frame, texture, location   \n",
              "13                  circuit, chip, current, analog, voltage, implementation, processor, bit, design, device, computation, parallel, digital, operation, array, neural, synapse, element, hardware, transistor   \n",
              "17                bound, theorem, class, probability, size, threshold, proof, polynomial, theory, complexity, loss, approximation, linear, assume, definition, defined, hypothesis, constant, define, bounded   \n",
              "392                   control, action, state, policy, environment, controller, reinforcement_learning, task, optimal, robot, goal, step, reward, td, agent, adaptive, cost, reinforcement, trial, exploration   \n",
              "503                  word, recognition, training, speech, character, context, hmm, letter, mlp, speaker, feature, frame, trained, speech_recognition, phoneme, experiment, hybrid, segmentation, vowel, level   \n",
              "681                  word, recognition, training, speech, character, context, hmm, letter, mlp, speaker, feature, frame, trained, speech_recognition, phoneme, experiment, hybrid, segmentation, vowel, level   \n",
              "733                 circuit, chip, current, analog, voltage, implementation, processor, bit, design, device, computation, parallel, digital, operation, array, neural, synapse, element, hardware, transistor   \n",
              "906                  neuron, cell, spike, synaptic, activity, response, stimulus, firing, synapsis, et_al, effect, neural, neuronal, current, pattern, inhibitory, connection, brain, simulation, firing_rate   \n",
              "996                        signal, filter, frequency, source, channel, noise, component, response, temporal, sound, auditory, detection, phase, ica, adaptation, amplitude, subject, eeg, change, correlation   \n",
              "1622  distribution, probability, prior, gaussian, variable, mixture, density, bayesian, estimate, approximation, log, likelihood, sample, component, expert, em, posterior, probabilistic, estimation, ent...   \n",
              "\n",
              "                                                                                                                                                                                                        Paper  \n",
              "9     622 \\nLEARNING A COLOR ALGORITHM FROM EXAMPLES \\nAnya C. Hurlbert and Tomaso A. Poggio \\nArtificial Intelligence Laboratory and Department of Brain and Cognitive Sciences, \\nMassachusetts Institut...  \n",
              "13    9 \\nStochastic Learning Networks and their Electronic Implementation \\nJoshua Alspector*, Robert B. Allen, Victor Hut, and Srinagesh Satyanarayana \\nBell Communications Research, Morristown, NJ 0...  \n",
              "17    338 \\nThe Connectivity Analysis of Simple Association \\nHow Many Connections Do You Need? \\nDan Hammerstrom * \\nOregon Graduate Center, Beaverton, OR 97006 \\nABSTRACT \\nThe efficient realization, ...  \n",
              "392   Integrated Modeling and Control \\nBased on Reinforcement Learning \\nand Dynamic Programming \\nRichard S. Sutton \\nGTE Laboratories Incorporated \\nWaltham, MA 02254 \\nAbstract \\nThis is a summary o...  \n",
              "503   Multi-State Time Delay Neural Networks \\nfor Continuous Speech Recognition \\nPatrick Haffner \\nCNET Lannion A TSS/RCP \\n22301 LANNION, FRANCE \\nhaffnerlannion.cnet. fr \\nAlex Waibel \\nCarnegie Me...  \n",
              "681   Connected Letter Recognition with a \\nMulti-State Time Delay Neural Network \\nHermann Hild and Alex Waibel \\nSchool of Computer Science \\nCarnegie Mellon University \\nPittsburgh, PA 15213-3891, US...  \n",
              "733   High Performance Neural Net Simulation \\non a Multiprocessor System with \\n\"Intelligent\" Communication \\nUrs A. Miiller, Michael Kocheisen, and Anton Gunzinger \\nElectronics Laboratory, Swiss Fede...  \n",
              "906   A model of the hippocampus combining self- \\norganization and associative memory function. \\nMichael E. Hasselmo, Eric Schnell \\nJoshua Berke and Edi Barkai \\nDept. of Psychology, Harvard Universi...  \n",
              "996   Using Feedforward Neural Networks to \\nMonitor Alertness from Changes in EEG \\nCorrelation and Coherence \\nScott Makeig \\nNaval Health Research Center, P.O. Box 85122 \\nSan Diego, CA 92186-5122 \\n...  \n",
              "1622  The Infinite Gaussian Mixture Model \\nCarl Edward Rasmussen \\nDepartment of Mathematical Modelling \\nTechnical University of Denmark \\nBuilding 321, DK-2800 Kongens Lyngby, Denmark \\ncarl@imm.dtu....  "
            ]
          },
          "metadata": {
            "tags": []
          },
          "execution_count": 52
        }
      ]
    },
    {
      "cell_type": "markdown",
      "metadata": {
        "id": "ZV1-qDkl68Ey",
        "colab_type": "text"
      },
      "source": [
        "## Relevant Research Papers per Topic based on Dominance"
      ]
    },
    {
      "cell_type": "code",
      "metadata": {
        "id": "GSRTZO2s68Ez",
        "colab_type": "code",
        "colab": {},
        "outputId": "dbfd4be6-6d04-48db-9557-dccc37fece30"
      },
      "source": [
        "corpus_topic_df.groupby('Dominant Topic').apply(lambda topic_set: (topic_set.sort_values(by=['Contribution %'], \n",
        "                                                                                         ascending=False)\n",
        "                                                                             .iloc[0]))"
      ],
      "execution_count": null,
      "outputs": [
        {
          "output_type": "execute_result",
          "data": {
            "text/html": [
              "<div>\n",
              "<style scoped>\n",
              "    .dataframe tbody tr th:only-of-type {\n",
              "        vertical-align: middle;\n",
              "    }\n",
              "\n",
              "    .dataframe tbody tr th {\n",
              "        vertical-align: top;\n",
              "    }\n",
              "\n",
              "    .dataframe thead th {\n",
              "        text-align: right;\n",
              "    }\n",
              "</style>\n",
              "<table border=\"1\" class=\"dataframe\">\n",
              "  <thead>\n",
              "    <tr style=\"text-align: right;\">\n",
              "      <th></th>\n",
              "      <th>Document</th>\n",
              "      <th>Dominant Topic</th>\n",
              "      <th>Contribution %</th>\n",
              "      <th>Topic Desc</th>\n",
              "      <th>Paper</th>\n",
              "    </tr>\n",
              "    <tr>\n",
              "      <th>Dominant Topic</th>\n",
              "      <th></th>\n",
              "      <th></th>\n",
              "      <th></th>\n",
              "      <th></th>\n",
              "      <th></th>\n",
              "    </tr>\n",
              "  </thead>\n",
              "  <tbody>\n",
              "    <tr>\n",
              "      <th>1</th>\n",
              "      <td>1138</td>\n",
              "      <td>1</td>\n",
              "      <td>61.01</td>\n",
              "      <td>class, classification, classifier, training, pattern, feature, kernel, machine, training_set, test, sample, vector, database, error_rate, margin, experiment, support_vector, nearest_neighbor, deci...</td>\n",
              "      <td>Improving the Accuracy and Speed of \\nSupport Vector Machines \\nChris J.C. Burges \\nBell Laboratories \\nLucent Technologies, Room 3G429 \\n101 Crawford's Corner Road \\nHolmdel, NJ 07733-3030 \\nburg...</td>\n",
              "    </tr>\n",
              "    <tr>\n",
              "      <th>2</th>\n",
              "      <td>131</td>\n",
              "      <td>2</td>\n",
              "      <td>56.71</td>\n",
              "      <td>neuron, memory, pattern, dynamic, connection, phase, attractor, capacity, state, hopfield, neural, fixed_point, oscillator, delay, stable, fig, oscillation, associative_memory, behavior, stored</td>\n",
              "      <td>568 \\nDYNAMICS OF ANALOG NEURAL \\nNETWORKS WITH TIME DELAY \\nC.M. Marcus and R.M. Westervelt \\nDivision of Applied Sciences and Department of Physics \\nHarvard University, Cambridge Massachusetts ...</td>\n",
              "    </tr>\n",
              "    <tr>\n",
              "      <th>3</th>\n",
              "      <td>681</td>\n",
              "      <td>3</td>\n",
              "      <td>67.58</td>\n",
              "      <td>word, recognition, training, speech, character, context, hmm, letter, mlp, speaker, feature, frame, trained, speech_recognition, phoneme, experiment, hybrid, segmentation, vowel, level</td>\n",
              "      <td>Connected Letter Recognition with a \\nMulti-State Time Delay Neural Network \\nHermann Hild and Alex Waibel \\nSchool of Computer Science \\nCarnegie Mellon University \\nPittsburgh, PA 15213-3891, US...</td>\n",
              "    </tr>\n",
              "    <tr>\n",
              "      <th>4</th>\n",
              "      <td>1570</td>\n",
              "      <td>4</td>\n",
              "      <td>73.69</td>\n",
              "      <td>noise, rate, equation, curve, average, correlation, rule, distribution, theory, limit, solution, optimal, eq, teacher, effect, size, temperature, student, line, random</td>\n",
              "      <td>Dynamics of Supervised Learning with \\nRestricted Training Sets \\nA.C.C. Coolen \\nDept of Mathematics \\nKing's College London \\nStrand, London WC2R 2LS, UK \\ntcoolen @mth.kcl.ac.uk \\nD. Saad \\nNeu...</td>\n",
              "    </tr>\n",
              "    <tr>\n",
              "      <th>5</th>\n",
              "      <td>431</td>\n",
              "      <td>5</td>\n",
              "      <td>81.06</td>\n",
              "      <td>bound, theorem, class, probability, size, threshold, proof, polynomial, theory, complexity, loss, approximation, linear, assume, definition, defined, hypothesis, constant, define, bounded</td>\n",
              "      <td>Polynomial Uniform Convergence of \\nRelative Frequencies to Probabilities \\nAlberto Bertoni, Paola Campadelll;' Anna Morpurgo, Sandra Panlzza \\nDipartimento di Scienze dell'Informazione \\nUniversi...</td>\n",
              "    </tr>\n",
              "    <tr>\n",
              "      <th>6</th>\n",
              "      <td>82</td>\n",
              "      <td>6</td>\n",
              "      <td>57.12</td>\n",
              "      <td>vector, matrix, linear, equation, solution, gradient, constraint, convergence, optimization, nonlinear, optimal, eq, minimum, operator, gradient_descent, condition, constant, derivative, quadratic...</td>\n",
              "      <td>612 \\nConstrained Differential Optimization \\nJohn C. Platt \\nAlan H. Ban' \\nCalifornia Institute of Technology, Pasadena, CA 91125 \\nAbstract \\nMany optimization models of neural networks need co...</td>\n",
              "    </tr>\n",
              "    <tr>\n",
              "      <th>7</th>\n",
              "      <td>741</td>\n",
              "      <td>7</td>\n",
              "      <td>62.82</td>\n",
              "      <td>search, task, experiment, table, instance, test, domain, target, query, feature, user, random, technique, run, accuracy, block, application, evaluation, strategy, important</td>\n",
              "      <td>When Will a Genetic Algorithm \\nOutperform Hill Climbing? \\nMelanie Mitchell \\nSanta Fe Institute \\n1660 Old Pecos Trail, Suite A \\nSanta Fe, NM 87501 \\nJohn H. Holland \\nDept. of Psychology \\nUni...</td>\n",
              "    </tr>\n",
              "    <tr>\n",
              "      <th>8</th>\n",
              "      <td>1375</td>\n",
              "      <td>8</td>\n",
              "      <td>61.11</td>\n",
              "      <td>distribution, probability, prior, gaussian, variable, mixture, density, bayesian, estimate, approximation, log, likelihood, sample, component, expert, em, posterior, probabilistic, estimation, ent...</td>\n",
              "      <td>Approximating Posterior Distributions \\nin Belief Networks using Mixtures \\nChristopher M. Bishop \\nNeil Lawrence \\nNeural Computing Research Group \\nDept. Computer Science &amp; Applied Mathematics \\...</td>\n",
              "    </tr>\n",
              "    <tr>\n",
              "      <th>9</th>\n",
              "      <td>808</td>\n",
              "      <td>9</td>\n",
              "      <td>66.59</td>\n",
              "      <td>visual, motion, cell, response, stimulus, direction, receptive_field, map, spatial, orientation, unit, eye, field, activity, location, velocity, center, contrast, cortical, pattern</td>\n",
              "      <td>Development of Orientation and Ocular \\nDominance Columns in Infant Macaques \\nKlaus Obermayer \\nHoward Hughes Medical Institute \\nSMk-Institute \\nLa Jolla, CA 92037 \\nLynne Kiorpes \\nCenter for N...</td>\n",
              "    </tr>\n",
              "    <tr>\n",
              "      <th>10</th>\n",
              "      <td>28</td>\n",
              "      <td>10</td>\n",
              "      <td>74.86</td>\n",
              "      <td>neuron, cell, spike, synaptic, activity, response, stimulus, firing, synapsis, et_al, effect, neural, neuronal, current, pattern, inhibitory, connection, brain, simulation, firing_rate</td>\n",
              "      <td>82 \\nSIMULATIONS SUGGEST \\nINFORMATION PROCESSING ROLES \\nFOR THE DIVERSE CURRENTS IN \\nHIPPOCAMPAL NEURONS \\nLyle J. Borg-Graham \\nHarvard-MIT Division of Health Sciences and Technology and \\nCen...</td>\n",
              "    </tr>\n",
              "    <tr>\n",
              "      <th>11</th>\n",
              "      <td>1128</td>\n",
              "      <td>11</td>\n",
              "      <td>49.68</td>\n",
              "      <td>state, sequence, step, recurrent, transition, stochastic, iteration, update, dynamic, probability, convergence, trajectory, xt, length, observation, continuous, rate, machine, current, string</td>\n",
              "      <td>Finite State Automata that Recurrent \\nCascade-Correlation Cannot Represent \\nStefan C. Kremer \\nDepartment of Computing Science \\nUniversity of Alberta \\nEdmonton, Alberta, CANADA T6H 5B5 \\nAbstr...</td>\n",
              "    </tr>\n",
              "    <tr>\n",
              "      <th>12</th>\n",
              "      <td>1034</td>\n",
              "      <td>12</td>\n",
              "      <td>45.28</td>\n",
              "      <td>node, tree, structure, graph, code, level, bit, path, local, size, variable, stage, length, solution, edge, link, component, match, binary, coding</td>\n",
              "      <td>Prediction of Beta Sheets in Proteins \\nAnders Krogh \\nThe Sanger Centre \\nHinxton, Carnbs CB10 1RQ, UK. \\nEmail: krogh@sanger. ac.uk \\nSoren Kamaric Riis \\nElectronics Institute, Building 349 \\nT...</td>\n",
              "    </tr>\n",
              "    <tr>\n",
              "      <th>13</th>\n",
              "      <td>250</td>\n",
              "      <td>13</td>\n",
              "      <td>56.75</td>\n",
              "      <td>image, object, feature, pixel, face, view, recognition, representation, shape, scale, part, visual, region, position, scene, surface, vision, frame, texture, location</td>\n",
              "      <td>266 Zemel, Mozer and Hinton \\nTRAFFIC: Recognizing Objects Using \\nHierarchical Reference Frame Transformations \\nRichard S. Zemel \\nComputer Science Dept. \\nUniversity of Toronto \\nToronto, ONT M...</td>\n",
              "    </tr>\n",
              "    <tr>\n",
              "      <th>14</th>\n",
              "      <td>392</td>\n",
              "      <td>14</td>\n",
              "      <td>67.03</td>\n",
              "      <td>control, action, state, policy, environment, controller, reinforcement_learning, task, optimal, robot, goal, step, reward, td, agent, adaptive, cost, reinforcement, trial, exploration</td>\n",
              "      <td>Integrated Modeling and Control \\nBased on Reinforcement Learning \\nand Dynamic Programming \\nRichard S. Sutton \\nGTE Laboratories Incorporated \\nWaltham, MA 02254 \\nAbstract \\nThis is a summary o...</td>\n",
              "    </tr>\n",
              "    <tr>\n",
              "      <th>15</th>\n",
              "      <td>277</td>\n",
              "      <td>15</td>\n",
              "      <td>62.31</td>\n",
              "      <td>unit, layer, training, hidden_unit, net, architecture, pattern, activation, trained, task, back_propagation, hidden_layer, connection, hidden, backpropagation, learn, training_set, epoch, simulati...</td>\n",
              "      <td>524 Fahlman and Lebiere \\nThe Cascade-Correlation Learning Architecture \\nScott E. Fahlman and Christian Lebiere \\nSchool of Computer Science \\nCarnegie-Mellon University \\nPittsburgh, PA 15213 \\n...</td>\n",
              "    </tr>\n",
              "    <tr>\n",
              "      <th>16</th>\n",
              "      <td>895</td>\n",
              "      <td>16</td>\n",
              "      <td>70.96</td>\n",
              "      <td>circuit, chip, current, analog, voltage, implementation, processor, bit, design, device, computation, parallel, digital, operation, array, neural, synapse, element, hardware, transistor</td>\n",
              "      <td>Single Transistor Learning Synapses \\nPaul Hasler, Chris Diorio, Bradley A. Minch, Carver Mead \\nCalifornia Institute of Technology \\nPasadena, CA 91125 \\n(SlS) 95- 2S12 \\npaul@hobiecat.pcmp.calt...</td>\n",
              "    </tr>\n",
              "    <tr>\n",
              "      <th>17</th>\n",
              "      <td>518</td>\n",
              "      <td>17</td>\n",
              "      <td>58.33</td>\n",
              "      <td>rule, representation, module, structure, human, movement, motor, target, language, subject, connectionist, position, task, context, trajectory, hand, role, symbol, learned, theory</td>\n",
              "      <td>A Connectionist Learning Approach to Analyzing \\nLinguistic Stress \\nPrahlad Gupta \\nDepartment of Psychology \\nCarnegie Mellon University \\nPittsburgh, PA 15213 \\nDavid S. Touretzky \\nSchool of C...</td>\n",
              "    </tr>\n",
              "    <tr>\n",
              "      <th>18</th>\n",
              "      <td>1362</td>\n",
              "      <td>18</td>\n",
              "      <td>55.02</td>\n",
              "      <td>vector, map, distance, cluster, local, dimension, clustering, mapping, dimensional, region, structure, center, rbf, pca, basis_function, linear, representation, global, principal_component, projec...</td>\n",
              "      <td>Mapping a manifold of perceptual observations \\nJoshua B. Tenenbaum \\nDepartment of Brain and Cognitive Sciences \\nMassachusetts Institute of Technology, Cambridge, MA 02139 \\nj bt @psyche. mi t. ...</td>\n",
              "    </tr>\n",
              "    <tr>\n",
              "      <th>19</th>\n",
              "      <td>996</td>\n",
              "      <td>19</td>\n",
              "      <td>65.69</td>\n",
              "      <td>signal, filter, frequency, source, channel, noise, component, response, temporal, sound, auditory, detection, phase, ica, adaptation, amplitude, subject, eeg, change, correlation</td>\n",
              "      <td>Using Feedforward Neural Networks to \\nMonitor Alertness from Changes in EEG \\nCorrelation and Coherence \\nScott Makeig \\nNaval Health Research Center, P.O. Box 85122 \\nSan Diego, CA 92186-5122 \\n...</td>\n",
              "    </tr>\n",
              "    <tr>\n",
              "      <th>20</th>\n",
              "      <td>1249</td>\n",
              "      <td>20</td>\n",
              "      <td>64.87</td>\n",
              "      <td>prediction, training, estimate, regression, test, noise, selection, variance, training_set, sample, ensemble, estimation, average, nonlinear, linear, estimator, cross_validation, pruning, bias, risk</td>\n",
              "      <td>Balancing between bagging and bumping \\nTom Heskes \\nRWCP Novel Functions SNN Laboratory,* University of Nijmegen \\nGeert Grooteplein 21, 6525 EZ Nijmegen, The Netherlands \\ntom@mbfys.kun.nl \\nAbs...</td>\n",
              "    </tr>\n",
              "  </tbody>\n",
              "</table>\n",
              "</div>"
            ],
            "text/plain": [
              "                Document  Dominant Topic  Contribution %  \\\n",
              "Dominant Topic                                             \n",
              "1                   1138               1           61.01   \n",
              "2                    131               2           56.71   \n",
              "3                    681               3           67.58   \n",
              "4                   1570               4           73.69   \n",
              "5                    431               5           81.06   \n",
              "6                     82               6           57.12   \n",
              "7                    741               7           62.82   \n",
              "8                   1375               8           61.11   \n",
              "9                    808               9           66.59   \n",
              "10                    28              10           74.86   \n",
              "11                  1128              11           49.68   \n",
              "12                  1034              12           45.28   \n",
              "13                   250              13           56.75   \n",
              "14                   392              14           67.03   \n",
              "15                   277              15           62.31   \n",
              "16                   895              16           70.96   \n",
              "17                   518              17           58.33   \n",
              "18                  1362              18           55.02   \n",
              "19                   996              19           65.69   \n",
              "20                  1249              20           64.87   \n",
              "\n",
              "                                                                                                                                                                                                             Topic Desc  \\\n",
              "Dominant Topic                                                                                                                                                                                                            \n",
              "1               class, classification, classifier, training, pattern, feature, kernel, machine, training_set, test, sample, vector, database, error_rate, margin, experiment, support_vector, nearest_neighbor, deci...   \n",
              "2                     neuron, memory, pattern, dynamic, connection, phase, attractor, capacity, state, hopfield, neural, fixed_point, oscillator, delay, stable, fig, oscillation, associative_memory, behavior, stored   \n",
              "3                              word, recognition, training, speech, character, context, hmm, letter, mlp, speaker, feature, frame, trained, speech_recognition, phoneme, experiment, hybrid, segmentation, vowel, level   \n",
              "4                                               noise, rate, equation, curve, average, correlation, rule, distribution, theory, limit, solution, optimal, eq, teacher, effect, size, temperature, student, line, random   \n",
              "5                           bound, theorem, class, probability, size, threshold, proof, polynomial, theory, complexity, loss, approximation, linear, assume, definition, defined, hypothesis, constant, define, bounded   \n",
              "6               vector, matrix, linear, equation, solution, gradient, constraint, convergence, optimization, nonlinear, optimal, eq, minimum, operator, gradient_descent, condition, constant, derivative, quadratic...   \n",
              "7                                          search, task, experiment, table, instance, test, domain, target, query, feature, user, random, technique, run, accuracy, block, application, evaluation, strategy, important   \n",
              "8               distribution, probability, prior, gaussian, variable, mixture, density, bayesian, estimate, approximation, log, likelihood, sample, component, expert, em, posterior, probabilistic, estimation, ent...   \n",
              "9                                  visual, motion, cell, response, stimulus, direction, receptive_field, map, spatial, orientation, unit, eye, field, activity, location, velocity, center, contrast, cortical, pattern   \n",
              "10                             neuron, cell, spike, synaptic, activity, response, stimulus, firing, synapsis, et_al, effect, neural, neuronal, current, pattern, inhibitory, connection, brain, simulation, firing_rate   \n",
              "11                      state, sequence, step, recurrent, transition, stochastic, iteration, update, dynamic, probability, convergence, trajectory, xt, length, observation, continuous, rate, machine, current, string   \n",
              "12                                                                   node, tree, structure, graph, code, level, bit, path, local, size, variable, stage, length, solution, edge, link, component, match, binary, coding   \n",
              "13                                               image, object, feature, pixel, face, view, recognition, representation, shape, scale, part, visual, region, position, scene, surface, vision, frame, texture, location   \n",
              "14                              control, action, state, policy, environment, controller, reinforcement_learning, task, optimal, robot, goal, step, reward, td, agent, adaptive, cost, reinforcement, trial, exploration   \n",
              "15              unit, layer, training, hidden_unit, net, architecture, pattern, activation, trained, task, back_propagation, hidden_layer, connection, hidden, backpropagation, learn, training_set, epoch, simulati...   \n",
              "16                            circuit, chip, current, analog, voltage, implementation, processor, bit, design, device, computation, parallel, digital, operation, array, neural, synapse, element, hardware, transistor   \n",
              "17                                  rule, representation, module, structure, human, movement, motor, target, language, subject, connectionist, position, task, context, trajectory, hand, role, symbol, learned, theory   \n",
              "18              vector, map, distance, cluster, local, dimension, clustering, mapping, dimensional, region, structure, center, rbf, pca, basis_function, linear, representation, global, principal_component, projec...   \n",
              "19                                   signal, filter, frequency, source, channel, noise, component, response, temporal, sound, auditory, detection, phase, ica, adaptation, amplitude, subject, eeg, change, correlation   \n",
              "20               prediction, training, estimate, regression, test, noise, selection, variance, training_set, sample, ensemble, estimation, average, nonlinear, linear, estimator, cross_validation, pruning, bias, risk   \n",
              "\n",
              "                                                                                                                                                                                                                  Paper  \n",
              "Dominant Topic                                                                                                                                                                                                           \n",
              "1               Improving the Accuracy and Speed of \\nSupport Vector Machines \\nChris J.C. Burges \\nBell Laboratories \\nLucent Technologies, Room 3G429 \\n101 Crawford's Corner Road \\nHolmdel, NJ 07733-3030 \\nburg...  \n",
              "2               568 \\nDYNAMICS OF ANALOG NEURAL \\nNETWORKS WITH TIME DELAY \\nC.M. Marcus and R.M. Westervelt \\nDivision of Applied Sciences and Department of Physics \\nHarvard University, Cambridge Massachusetts ...  \n",
              "3               Connected Letter Recognition with a \\nMulti-State Time Delay Neural Network \\nHermann Hild and Alex Waibel \\nSchool of Computer Science \\nCarnegie Mellon University \\nPittsburgh, PA 15213-3891, US...  \n",
              "4               Dynamics of Supervised Learning with \\nRestricted Training Sets \\nA.C.C. Coolen \\nDept of Mathematics \\nKing's College London \\nStrand, London WC2R 2LS, UK \\ntcoolen @mth.kcl.ac.uk \\nD. Saad \\nNeu...  \n",
              "5               Polynomial Uniform Convergence of \\nRelative Frequencies to Probabilities \\nAlberto Bertoni, Paola Campadelll;' Anna Morpurgo, Sandra Panlzza \\nDipartimento di Scienze dell'Informazione \\nUniversi...  \n",
              "6               612 \\nConstrained Differential Optimization \\nJohn C. Platt \\nAlan H. Ban' \\nCalifornia Institute of Technology, Pasadena, CA 91125 \\nAbstract \\nMany optimization models of neural networks need co...  \n",
              "7               When Will a Genetic Algorithm \\nOutperform Hill Climbing? \\nMelanie Mitchell \\nSanta Fe Institute \\n1660 Old Pecos Trail, Suite A \\nSanta Fe, NM 87501 \\nJohn H. Holland \\nDept. of Psychology \\nUni...  \n",
              "8               Approximating Posterior Distributions \\nin Belief Networks using Mixtures \\nChristopher M. Bishop \\nNeil Lawrence \\nNeural Computing Research Group \\nDept. Computer Science & Applied Mathematics \\...  \n",
              "9               Development of Orientation and Ocular \\nDominance Columns in Infant Macaques \\nKlaus Obermayer \\nHoward Hughes Medical Institute \\nSMk-Institute \\nLa Jolla, CA 92037 \\nLynne Kiorpes \\nCenter for N...  \n",
              "10              82 \\nSIMULATIONS SUGGEST \\nINFORMATION PROCESSING ROLES \\nFOR THE DIVERSE CURRENTS IN \\nHIPPOCAMPAL NEURONS \\nLyle J. Borg-Graham \\nHarvard-MIT Division of Health Sciences and Technology and \\nCen...  \n",
              "11              Finite State Automata that Recurrent \\nCascade-Correlation Cannot Represent \\nStefan C. Kremer \\nDepartment of Computing Science \\nUniversity of Alberta \\nEdmonton, Alberta, CANADA T6H 5B5 \\nAbstr...  \n",
              "12              Prediction of Beta Sheets in Proteins \\nAnders Krogh \\nThe Sanger Centre \\nHinxton, Carnbs CB10 1RQ, UK. \\nEmail: krogh@sanger. ac.uk \\nSoren Kamaric Riis \\nElectronics Institute, Building 349 \\nT...  \n",
              "13              266 Zemel, Mozer and Hinton \\nTRAFFIC: Recognizing Objects Using \\nHierarchical Reference Frame Transformations \\nRichard S. Zemel \\nComputer Science Dept. \\nUniversity of Toronto \\nToronto, ONT M...  \n",
              "14              Integrated Modeling and Control \\nBased on Reinforcement Learning \\nand Dynamic Programming \\nRichard S. Sutton \\nGTE Laboratories Incorporated \\nWaltham, MA 02254 \\nAbstract \\nThis is a summary o...  \n",
              "15              524 Fahlman and Lebiere \\nThe Cascade-Correlation Learning Architecture \\nScott E. Fahlman and Christian Lebiere \\nSchool of Computer Science \\nCarnegie-Mellon University \\nPittsburgh, PA 15213 \\n...  \n",
              "16              Single Transistor Learning Synapses \\nPaul Hasler, Chris Diorio, Bradley A. Minch, Carver Mead \\nCalifornia Institute of Technology \\nPasadena, CA 91125 \\n(SlS) 95- 2S12 \\npaul@hobiecat.pcmp.calt...  \n",
              "17              A Connectionist Learning Approach to Analyzing \\nLinguistic Stress \\nPrahlad Gupta \\nDepartment of Psychology \\nCarnegie Mellon University \\nPittsburgh, PA 15213 \\nDavid S. Touretzky \\nSchool of C...  \n",
              "18              Mapping a manifold of perceptual observations \\nJoshua B. Tenenbaum \\nDepartment of Brain and Cognitive Sciences \\nMassachusetts Institute of Technology, Cambridge, MA 02139 \\nj bt @psyche. mi t. ...  \n",
              "19              Using Feedforward Neural Networks to \\nMonitor Alertness from Changes in EEG \\nCorrelation and Coherence \\nScott Makeig \\nNaval Health Research Center, P.O. Box 85122 \\nSan Diego, CA 92186-5122 \\n...  \n",
              "20              Balancing between bagging and bumping \\nTom Heskes \\nRWCP Novel Functions SNN Laboratory,* University of Nijmegen \\nGeert Grooteplein 21, 6525 EZ Nijmegen, The Netherlands \\ntom@mbfys.kun.nl \\nAbs...  "
            ]
          },
          "metadata": {
            "tags": []
          },
          "execution_count": 53
        }
      ]
    },
    {
      "cell_type": "markdown",
      "metadata": {
        "id": "wo3nlzs068E7",
        "colab_type": "text"
      },
      "source": [
        "# Predicting Topics for New Research Papers"
      ]
    },
    {
      "cell_type": "code",
      "metadata": {
        "id": "IDFn__GL68E8",
        "colab_type": "code",
        "colab": {},
        "outputId": "2511f399-a0ed-4d8b-f9e7-52334b19c314"
      },
      "source": [
        "import glob\n",
        "# papers manually downloaded from NIPS 16\n",
        "# https://papers.nips.cc/book/advances-in-neural-information-processing-systems-29-2016\n",
        "\n",
        "new_paper_files = glob.glob('nips16*.txt')\n",
        "new_papers = []\n",
        "for fn in new_paper_files:\n",
        "    with open(fn, encoding='utf-8', errors='ignore', mode='r+') as f:\n",
        "        data = f.read()\n",
        "        new_papers.append(data)\n",
        "              \n",
        "print('Total New Papers:', len(new_papers))"
      ],
      "execution_count": null,
      "outputs": [
        {
          "output_type": "stream",
          "text": [
            "Total New Papers: 4\n"
          ],
          "name": "stdout"
        }
      ]
    },
    {
      "cell_type": "code",
      "metadata": {
        "id": "sltosanT68E-",
        "colab_type": "code",
        "colab": {}
      },
      "source": [
        "def text_preprocessing_pipeline(documents, normalizer_fn, bigram_model):\n",
        "    norm_docs = normalizer_fn(documents)\n",
        "    norm_docs_bigrams = bigram_model[norm_docs]\n",
        "    return norm_docs_bigrams\n",
        "\n",
        "def bow_features_pipeline(tokenized_docs, dictionary):\n",
        "    paper_bow_features = [dictionary.doc2bow(text) \n",
        "                              for text in tokenized_docs]\n",
        "    return paper_bow_features\n",
        "\n",
        "norm_new_papers = text_preprocessing_pipeline(documents=new_papers, normalizer_fn=normalize_corpus, \n",
        "                                              bigram_model=bigram_model)\n",
        "norm_bow_features = bow_features_pipeline(tokenized_docs=norm_new_papers, dictionary=dictionary)"
      ],
      "execution_count": null,
      "outputs": []
    },
    {
      "cell_type": "code",
      "metadata": {
        "id": "-ZFkTuU168FB",
        "colab_type": "code",
        "colab": {},
        "outputId": "1e3a5877-9634-4fcf-aa6d-91ac5fa86f48"
      },
      "source": [
        "print(norm_new_papers[0][:30])"
      ],
      "execution_count": null,
      "outputs": [
        {
          "output_type": "stream",
          "text": [
            "['cooperative', 'graphical_model', 'josip', 'djolonga', 'dept_computer', 'science', 'eth', 'zurich', 'josipd', 'inf', 'ethz', 'ch', 'stefanie', 'jegelka', 'csail', 'mit', 'stefje', 'mit_edu', 'sebastian', 'tschiatschek', 'dept_computer', 'science', 'eth', 'zurich', 'stschia', 'inf', 'ethz', 'ch', 'andreas', 'krause']\n"
          ],
          "name": "stdout"
        }
      ]
    },
    {
      "cell_type": "code",
      "metadata": {
        "id": "OcEs8nEl68FC",
        "colab_type": "code",
        "colab": {},
        "outputId": "923ef67b-144a-4087-af21-e885111ed5c6"
      },
      "source": [
        "print(norm_bow_features[0][:30])"
      ],
      "execution_count": null,
      "outputs": [
        {
          "output_type": "stream",
          "text": [
            "[(0, 1), (1, 1), (6, 1), (17, 1), (18, 1), (19, 1), (25, 1), (31, 2), (36, 2), (38, 1), (39, 17), (41, 3), (43, 1), (45, 1), (49, 2), (50, 4), (51, 1), (52, 2), (54, 1), (60, 1), (65, 1), (66, 3), (68, 7), (71, 8), (76, 4), (77, 2), (87, 1), (88, 3), (105, 1), (106, 1)]\n"
          ],
          "name": "stdout"
        }
      ]
    },
    {
      "cell_type": "code",
      "metadata": {
        "id": "V6lXox2r68FH",
        "colab_type": "code",
        "colab": {}
      },
      "source": [
        "def get_topic_predictions(topic_model, corpus, topn=3):\n",
        "    topic_predictions = topic_model[corpus]\n",
        "    best_topics = [[(topic, round(wt, 3)) \n",
        "                        for topic, wt in sorted(topic_predictions[i], \n",
        "                                                key=lambda row: -row[1])[:topn]] \n",
        "                            for i in range(len(topic_predictions))]\n",
        "    return best_topics"
      ],
      "execution_count": null,
      "outputs": []
    },
    {
      "cell_type": "code",
      "metadata": {
        "id": "MzL7jwZ468FL",
        "colab_type": "code",
        "colab": {},
        "outputId": "fbc09f9d-b61d-407f-dab6-9e29896bd850"
      },
      "source": [
        "topic_preds = get_topic_predictions(topic_model=best_lda_model, \n",
        "                                    corpus=norm_bow_features, topn=2)\n",
        "topic_preds"
      ],
      "execution_count": null,
      "outputs": [
        {
          "output_type": "execute_result",
          "data": {
            "text/plain": [
              "[[(7, 0.241), (4, 0.199)],\n",
              " [(13, 0.293), (4, 0.248)],\n",
              " [(12, 0.238), (9, 0.113)],\n",
              " [(2, 0.263), (12, 0.145)]]"
            ]
          },
          "metadata": {
            "tags": []
          },
          "execution_count": 71
        }
      ]
    },
    {
      "cell_type": "code",
      "metadata": {
        "id": "q5_8FjfP68FM",
        "colab_type": "code",
        "colab": {}
      },
      "source": [
        "results_df = pd.DataFrame()\n",
        "results_df['Papers'] = range(1, len(new_papers)+1)\n",
        "results_df['Dominant Topics'] = [[topic_num+1 for topic_num, wt in item] for item in topic_preds]\n",
        "res = results_df.set_index(['Papers'])['Dominant Topics'].apply(pd.Series).stack().reset_index(level=1, drop=True)\n",
        "results_df = pd.DataFrame({'Dominant Topics': res.values}, index=res.index)\n",
        "results_df['Contribution %'] = [topic_wt for topic_list in \n",
        "                                        [[round(wt*100, 2) \n",
        "                                              for topic_num, wt in item] \n",
        "                                                 for item in topic_preds] \n",
        "                                    for topic_wt in topic_list]\n",
        "\n",
        "results_df['Topic Desc'] = [topics_df.iloc[t-1]['Terms per Topic'] for t in results_df['Dominant Topics'].values]\n",
        "results_df['Paper Desc'] = [new_papers[i-1][:200] for i in results_df.index.values]"
      ],
      "execution_count": null,
      "outputs": []
    },
    {
      "cell_type": "code",
      "metadata": {
        "id": "AAFZNJrF68FO",
        "colab_type": "code",
        "colab": {},
        "outputId": "4bc70acc-b732-493a-811b-09e4cbc190a0"
      },
      "source": [
        "pd.set_option('display.max_colwidth', 300)\n",
        "results_df"
      ],
      "execution_count": null,
      "outputs": [
        {
          "output_type": "execute_result",
          "data": {
            "text/html": [
              "<div>\n",
              "<style scoped>\n",
              "    .dataframe tbody tr th:only-of-type {\n",
              "        vertical-align: middle;\n",
              "    }\n",
              "\n",
              "    .dataframe tbody tr th {\n",
              "        vertical-align: top;\n",
              "    }\n",
              "\n",
              "    .dataframe thead th {\n",
              "        text-align: right;\n",
              "    }\n",
              "</style>\n",
              "<table border=\"1\" class=\"dataframe\">\n",
              "  <thead>\n",
              "    <tr style=\"text-align: right;\">\n",
              "      <th></th>\n",
              "      <th>Dominant Topics</th>\n",
              "      <th>Contribution %</th>\n",
              "      <th>Topic Desc</th>\n",
              "      <th>Paper Desc</th>\n",
              "    </tr>\n",
              "    <tr>\n",
              "      <th>Papers</th>\n",
              "      <th></th>\n",
              "      <th></th>\n",
              "      <th></th>\n",
              "      <th></th>\n",
              "    </tr>\n",
              "  </thead>\n",
              "  <tbody>\n",
              "    <tr>\n",
              "      <th>1</th>\n",
              "      <td>8</td>\n",
              "      <td>24.1</td>\n",
              "      <td>distribution, probability, prior, gaussian, variable, mixture, density, bayesian, estimate, approximation, log, likelihood, sample, component, expert, em, posterior, probabilistic, estimation, entropy</td>\n",
              "      <td>Cooperative Graphical Models\\nJosip Djolonga\\nDept. of Computer Science, ETH Zurich ¨\\njosipd@inf.ethz.ch\\nStefanie Jegelka\\nCSAIL, MIT\\nstefje@mit.edu\\nSebastian Tschiatschek\\nDept. of Computer Science, ETH</td>\n",
              "    </tr>\n",
              "    <tr>\n",
              "      <th>1</th>\n",
              "      <td>5</td>\n",
              "      <td>19.9</td>\n",
              "      <td>bound, theorem, class, probability, size, threshold, proof, polynomial, theory, complexity, loss, approximation, linear, assume, definition, defined, hypothesis, constant, define, bounded</td>\n",
              "      <td>Cooperative Graphical Models\\nJosip Djolonga\\nDept. of Computer Science, ETH Zurich ¨\\njosipd@inf.ethz.ch\\nStefanie Jegelka\\nCSAIL, MIT\\nstefje@mit.edu\\nSebastian Tschiatschek\\nDept. of Computer Science, ETH</td>\n",
              "    </tr>\n",
              "    <tr>\n",
              "      <th>2</th>\n",
              "      <td>14</td>\n",
              "      <td>29.3</td>\n",
              "      <td>control, action, state, policy, environment, controller, reinforcement_learning, task, optimal, robot, goal, step, reward, td, agent, adaptive, cost, reinforcement, trial, exploration</td>\n",
              "      <td>PAC Reinforcement Learning with Rich Observations\\nAkshay Krishnamurthy\\nUniversity of Massachusetts, Amherst\\nAmherst, MA, 01003\\nakshay@cs.umass.edu\\nAlekh Agarwal\\nMicrosoft Research\\nNew York, NY 10011\\na</td>\n",
              "    </tr>\n",
              "    <tr>\n",
              "      <th>2</th>\n",
              "      <td>5</td>\n",
              "      <td>24.8</td>\n",
              "      <td>bound, theorem, class, probability, size, threshold, proof, polynomial, theory, complexity, loss, approximation, linear, assume, definition, defined, hypothesis, constant, define, bounded</td>\n",
              "      <td>PAC Reinforcement Learning with Rich Observations\\nAkshay Krishnamurthy\\nUniversity of Massachusetts, Amherst\\nAmherst, MA, 01003\\nakshay@cs.umass.edu\\nAlekh Agarwal\\nMicrosoft Research\\nNew York, NY 10011\\na</td>\n",
              "    </tr>\n",
              "    <tr>\n",
              "      <th>3</th>\n",
              "      <td>13</td>\n",
              "      <td>23.8</td>\n",
              "      <td>image, object, feature, pixel, face, view, recognition, representation, shape, scale, part, visual, region, position, scene, surface, vision, frame, texture, location</td>\n",
              "      <td>Automated scalable segmentation of neurons from\\nmultispectral images\\nUygar Sümbül\\nGrossman Center for the Statistics of Mind\\nand Dept. of Statistics, Columbia University\\nDouglas Roossien Jr.\\nUniversit</td>\n",
              "    </tr>\n",
              "    <tr>\n",
              "      <th>3</th>\n",
              "      <td>10</td>\n",
              "      <td>11.3</td>\n",
              "      <td>neuron, cell, spike, synaptic, activity, response, stimulus, firing, synapsis, et_al, effect, neural, neuronal, current, pattern, inhibitory, connection, brain, simulation, firing_rate</td>\n",
              "      <td>Automated scalable segmentation of neurons from\\nmultispectral images\\nUygar Sümbül\\nGrossman Center for the Statistics of Mind\\nand Dept. of Statistics, Columbia University\\nDouglas Roossien Jr.\\nUniversit</td>\n",
              "    </tr>\n",
              "    <tr>\n",
              "      <th>4</th>\n",
              "      <td>3</td>\n",
              "      <td>26.3</td>\n",
              "      <td>word, recognition, training, speech, character, context, hmm, letter, mlp, speaker, feature, frame, trained, speech_recognition, phoneme, experiment, hybrid, segmentation, vowel, level</td>\n",
              "      <td>Unsupervised Learning of Spoken Language with\\nVisual Context\\nDavid Harwath, Antonio Torralba, and James R. Glass\\nComputer Science and Artificial Intelligence Laboratory\\nMassachusetts Institute of Tech</td>\n",
              "    </tr>\n",
              "    <tr>\n",
              "      <th>4</th>\n",
              "      <td>13</td>\n",
              "      <td>14.5</td>\n",
              "      <td>image, object, feature, pixel, face, view, recognition, representation, shape, scale, part, visual, region, position, scene, surface, vision, frame, texture, location</td>\n",
              "      <td>Unsupervised Learning of Spoken Language with\\nVisual Context\\nDavid Harwath, Antonio Torralba, and James R. Glass\\nComputer Science and Artificial Intelligence Laboratory\\nMassachusetts Institute of Tech</td>\n",
              "    </tr>\n",
              "  </tbody>\n",
              "</table>\n",
              "</div>"
            ],
            "text/plain": [
              "        Dominant Topics  Contribution %  \\\n",
              "Papers                                    \n",
              "1                     8            24.1   \n",
              "1                     5            19.9   \n",
              "2                    14            29.3   \n",
              "2                     5            24.8   \n",
              "3                    13            23.8   \n",
              "3                    10            11.3   \n",
              "4                     3            26.3   \n",
              "4                    13            14.5   \n",
              "\n",
              "                                                                                                                                                                                                      Topic Desc  \\\n",
              "Papers                                                                                                                                                                                                             \n",
              "1       distribution, probability, prior, gaussian, variable, mixture, density, bayesian, estimate, approximation, log, likelihood, sample, component, expert, em, posterior, probabilistic, estimation, entropy   \n",
              "1                    bound, theorem, class, probability, size, threshold, proof, polynomial, theory, complexity, loss, approximation, linear, assume, definition, defined, hypothesis, constant, define, bounded   \n",
              "2                        control, action, state, policy, environment, controller, reinforcement_learning, task, optimal, robot, goal, step, reward, td, agent, adaptive, cost, reinforcement, trial, exploration   \n",
              "2                    bound, theorem, class, probability, size, threshold, proof, polynomial, theory, complexity, loss, approximation, linear, assume, definition, defined, hypothesis, constant, define, bounded   \n",
              "3                                         image, object, feature, pixel, face, view, recognition, representation, shape, scale, part, visual, region, position, scene, surface, vision, frame, texture, location   \n",
              "3                       neuron, cell, spike, synaptic, activity, response, stimulus, firing, synapsis, et_al, effect, neural, neuronal, current, pattern, inhibitory, connection, brain, simulation, firing_rate   \n",
              "4                       word, recognition, training, speech, character, context, hmm, letter, mlp, speaker, feature, frame, trained, speech_recognition, phoneme, experiment, hybrid, segmentation, vowel, level   \n",
              "4                                         image, object, feature, pixel, face, view, recognition, representation, shape, scale, part, visual, region, position, scene, surface, vision, frame, texture, location   \n",
              "\n",
              "                                                                                                                                                                                                              Paper Desc  \n",
              "Papers                                                                                                                                                                                                                    \n",
              "1       Cooperative Graphical Models\\nJosip Djolonga\\nDept. of Computer Science, ETH Zurich ¨\\njosipd@inf.ethz.ch\\nStefanie Jegelka\\nCSAIL, MIT\\nstefje@mit.edu\\nSebastian Tschiatschek\\nDept. of Computer Science, ETH   \n",
              "1       Cooperative Graphical Models\\nJosip Djolonga\\nDept. of Computer Science, ETH Zurich ¨\\njosipd@inf.ethz.ch\\nStefanie Jegelka\\nCSAIL, MIT\\nstefje@mit.edu\\nSebastian Tschiatschek\\nDept. of Computer Science, ETH   \n",
              "2       PAC Reinforcement Learning with Rich Observations\\nAkshay Krishnamurthy\\nUniversity of Massachusetts, Amherst\\nAmherst, MA, 01003\\nakshay@cs.umass.edu\\nAlekh Agarwal\\nMicrosoft Research\\nNew York, NY 10011\\na  \n",
              "2       PAC Reinforcement Learning with Rich Observations\\nAkshay Krishnamurthy\\nUniversity of Massachusetts, Amherst\\nAmherst, MA, 01003\\nakshay@cs.umass.edu\\nAlekh Agarwal\\nMicrosoft Research\\nNew York, NY 10011\\na  \n",
              "3         Automated scalable segmentation of neurons from\\nmultispectral images\\nUygar Sümbül\\nGrossman Center for the Statistics of Mind\\nand Dept. of Statistics, Columbia University\\nDouglas Roossien Jr.\\nUniversit  \n",
              "3         Automated scalable segmentation of neurons from\\nmultispectral images\\nUygar Sümbül\\nGrossman Center for the Statistics of Mind\\nand Dept. of Statistics, Columbia University\\nDouglas Roossien Jr.\\nUniversit  \n",
              "4           Unsupervised Learning of Spoken Language with\\nVisual Context\\nDavid Harwath, Antonio Torralba, and James R. Glass\\nComputer Science and Artificial Intelligence Laboratory\\nMassachusetts Institute of Tech  \n",
              "4           Unsupervised Learning of Spoken Language with\\nVisual Context\\nDavid Harwath, Antonio Torralba, and James R. Glass\\nComputer Science and Artificial Intelligence Laboratory\\nMassachusetts Institute of Tech  "
            ]
          },
          "metadata": {
            "tags": []
          },
          "execution_count": 73
        }
      ]
    }
  ]
}