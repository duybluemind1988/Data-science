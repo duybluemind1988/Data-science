{
  "nbformat": 4,
  "nbformat_minor": 0,
  "metadata": {
    "kernelspec": {
      "display_name": "Python 3",
      "language": "python",
      "name": "python3"
    },
    "language_info": {
      "codemirror_mode": {
        "name": "ipython",
        "version": 3
      },
      "file_extension": ".py",
      "mimetype": "text/x-python",
      "name": "python",
      "nbconvert_exporter": "python",
      "pygments_lexer": "ipython3",
      "version": "3.6.5"
    },
    "colab": {
      "name": "Ch08a - Exploring WordNet.ipynb",
      "provenance": []
    }
  },
  "cells": [
    {
      "cell_type": "code",
      "metadata": {
        "id": "zkV667NU18mJ",
        "colab_type": "code",
        "colab": {
          "base_uri": "https://localhost:8080/",
          "height": 51
        },
        "outputId": "2eb34f81-9663-447a-b503-c32823783b82"
      },
      "source": [
        "from nltk.corpus import wordnet as wn\n",
        "import nltk\n",
        "nltk.download('wordnet')\n",
        "import pandas as pd"
      ],
      "execution_count": 4,
      "outputs": [
        {
          "output_type": "stream",
          "text": [
            "[nltk_data] Downloading package wordnet to /root/nltk_data...\n",
            "[nltk_data]   Unzipping corpora/wordnet.zip.\n"
          ],
          "name": "stdout"
        }
      ]
    },
    {
      "cell_type": "markdown",
      "metadata": {
        "id": "MdxQQss918mN",
        "colab_type": "text"
      },
      "source": [
        "# WordNet Synsets"
      ]
    },
    {
      "cell_type": "code",
      "metadata": {
        "id": "0EuqXdV418mO",
        "colab_type": "code",
        "colab": {
          "base_uri": "https://localhost:8080/",
          "height": 34
        },
        "outputId": "58508cb0-0d77-4fe2-ff51-745fac1c0f24"
      },
      "source": [
        "term = 'fruit'\n",
        "synsets = wn.synsets(term)\n",
        "print('Total Synsets:', len(synsets))"
      ],
      "execution_count": 5,
      "outputs": [
        {
          "output_type": "stream",
          "text": [
            "Total Synsets: 5\n"
          ],
          "name": "stdout"
        }
      ]
    },
    {
      "cell_type": "code",
      "metadata": {
        "id": "nXS9CJBu18mR",
        "colab_type": "code",
        "colab": {
          "base_uri": "https://localhost:8080/",
          "height": 272
        },
        "outputId": "64936b3f-7b18-42e5-a046-ba95c4d75a7e"
      },
      "source": [
        "pd.options.display.max_colwidth = 200\n",
        "fruit_df = pd.DataFrame([{'Synset': synset,\n",
        "                         'Part of Speech': synset.lexname(),\n",
        "                         'Definition': synset.definition(),\n",
        "                         'Lemmas': synset.lemma_names(),\n",
        "                         'Examples': synset.examples()}\n",
        "                             for synset in synsets])\n",
        "fruit_df = fruit_df[['Synset', 'Part of Speech', 'Definition', 'Lemmas', 'Examples']]\n",
        "fruit_df"
      ],
      "execution_count": 6,
      "outputs": [
        {
          "output_type": "execute_result",
          "data": {
            "text/html": [
              "<div>\n",
              "<style scoped>\n",
              "    .dataframe tbody tr th:only-of-type {\n",
              "        vertical-align: middle;\n",
              "    }\n",
              "\n",
              "    .dataframe tbody tr th {\n",
              "        vertical-align: top;\n",
              "    }\n",
              "\n",
              "    .dataframe thead th {\n",
              "        text-align: right;\n",
              "    }\n",
              "</style>\n",
              "<table border=\"1\" class=\"dataframe\">\n",
              "  <thead>\n",
              "    <tr style=\"text-align: right;\">\n",
              "      <th></th>\n",
              "      <th>Synset</th>\n",
              "      <th>Part of Speech</th>\n",
              "      <th>Definition</th>\n",
              "      <th>Lemmas</th>\n",
              "      <th>Examples</th>\n",
              "    </tr>\n",
              "  </thead>\n",
              "  <tbody>\n",
              "    <tr>\n",
              "      <th>0</th>\n",
              "      <td>Synset('fruit.n.01')</td>\n",
              "      <td>noun.plant</td>\n",
              "      <td>the ripened reproductive body of a seed plant</td>\n",
              "      <td>[fruit]</td>\n",
              "      <td>[]</td>\n",
              "    </tr>\n",
              "    <tr>\n",
              "      <th>1</th>\n",
              "      <td>Synset('yield.n.03')</td>\n",
              "      <td>noun.artifact</td>\n",
              "      <td>an amount of a product</td>\n",
              "      <td>[yield, fruit]</td>\n",
              "      <td>[]</td>\n",
              "    </tr>\n",
              "    <tr>\n",
              "      <th>2</th>\n",
              "      <td>Synset('fruit.n.03')</td>\n",
              "      <td>noun.event</td>\n",
              "      <td>the consequence of some effort or action</td>\n",
              "      <td>[fruit]</td>\n",
              "      <td>[he lived long enough to see the fruit of his policies]</td>\n",
              "    </tr>\n",
              "    <tr>\n",
              "      <th>3</th>\n",
              "      <td>Synset('fruit.v.01')</td>\n",
              "      <td>verb.creation</td>\n",
              "      <td>cause to bear fruit</td>\n",
              "      <td>[fruit]</td>\n",
              "      <td>[]</td>\n",
              "    </tr>\n",
              "    <tr>\n",
              "      <th>4</th>\n",
              "      <td>Synset('fruit.v.02')</td>\n",
              "      <td>verb.creation</td>\n",
              "      <td>bear fruit</td>\n",
              "      <td>[fruit]</td>\n",
              "      <td>[the trees fruited early this year]</td>\n",
              "    </tr>\n",
              "  </tbody>\n",
              "</table>\n",
              "</div>"
            ],
            "text/plain": [
              "                 Synset  ...                                                 Examples\n",
              "0  Synset('fruit.n.01')  ...                                                       []\n",
              "1  Synset('yield.n.03')  ...                                                       []\n",
              "2  Synset('fruit.n.03')  ...  [he lived long enough to see the fruit of his policies]\n",
              "3  Synset('fruit.v.01')  ...                                                       []\n",
              "4  Synset('fruit.v.02')  ...                      [the trees fruited early this year]\n",
              "\n",
              "[5 rows x 5 columns]"
            ]
          },
          "metadata": {
            "tags": []
          },
          "execution_count": 6
        }
      ]
    },
    {
      "cell_type": "markdown",
      "metadata": {
        "id": "4jpbUEik18mU",
        "colab_type": "text"
      },
      "source": [
        "# Entailments"
      ]
    },
    {
      "cell_type": "code",
      "metadata": {
        "id": "O-DtjHzX18mV",
        "colab_type": "code",
        "colab": {
          "base_uri": "https://localhost:8080/",
          "height": 68
        },
        "outputId": "750d67d7-643f-4158-f25f-4bef87463a20"
      },
      "source": [
        "for action in ['walk', 'eat', 'digest']:\n",
        "    action_syn = wn.synsets(action, pos='v')[0]\n",
        "    print(action_syn, '-- entails -->', action_syn.entailments())"
      ],
      "execution_count": 7,
      "outputs": [
        {
          "output_type": "stream",
          "text": [
            "Synset('walk.v.01') -- entails --> [Synset('step.v.01')]\n",
            "Synset('eat.v.01') -- entails --> [Synset('chew.v.01'), Synset('swallow.v.01')]\n",
            "Synset('digest.v.01') -- entails --> [Synset('consume.v.02')]\n"
          ],
          "name": "stdout"
        }
      ]
    },
    {
      "cell_type": "markdown",
      "metadata": {
        "id": "Qbsgl7Ql18mY",
        "colab_type": "text"
      },
      "source": [
        "# Homonyms \\ Homographs  "
      ]
    },
    {
      "cell_type": "code",
      "metadata": {
        "id": "Uad603lc18mY",
        "colab_type": "code",
        "colab": {
          "base_uri": "https://localhost:8080/",
          "height": 343
        },
        "outputId": "98a20277-09b8-4b0d-ccc0-d22364e6c2bc"
      },
      "source": [
        "for synset in wn.synsets('bank'):\n",
        "    print(synset.name(),'-',synset.definition())"
      ],
      "execution_count": 8,
      "outputs": [
        {
          "output_type": "stream",
          "text": [
            "bank.n.01 - sloping land (especially the slope beside a body of water)\n",
            "depository_financial_institution.n.01 - a financial institution that accepts deposits and channels the money into lending activities\n",
            "bank.n.03 - a long ridge or pile\n",
            "bank.n.04 - an arrangement of similar objects in a row or in tiers\n",
            "bank.n.05 - a supply or stock held in reserve for future use (especially in emergencies)\n",
            "bank.n.06 - the funds held by a gambling house or the dealer in some gambling games\n",
            "bank.n.07 - a slope in the turn of a road or track; the outside is higher than the inside in order to reduce the effects of centrifugal force\n",
            "savings_bank.n.02 - a container (usually with a slot in the top) for keeping money at home\n",
            "bank.n.09 - a building in which the business of banking transacted\n",
            "bank.n.10 - a flight maneuver; aircraft tips laterally about its longitudinal axis (especially in turning)\n",
            "bank.v.01 - tip laterally\n",
            "bank.v.02 - enclose with a bank\n",
            "bank.v.03 - do business with a bank or keep an account at a bank\n",
            "bank.v.04 - act as the banker in a game or in gambling\n",
            "bank.v.05 - be in the banking business\n",
            "deposit.v.02 - put into a bank account\n",
            "bank.v.07 - cover with ashes so to control the rate of burning\n",
            "trust.v.01 - have confidence or faith in\n"
          ],
          "name": "stdout"
        }
      ]
    },
    {
      "cell_type": "markdown",
      "metadata": {
        "id": "eWiNYnVu18mb",
        "colab_type": "text"
      },
      "source": [
        "# Synonyms & Antonyms"
      ]
    },
    {
      "cell_type": "code",
      "metadata": {
        "id": "wRULa5Qn18mb",
        "colab_type": "code",
        "colab": {
          "base_uri": "https://localhost:8080/",
          "height": 102
        },
        "outputId": "134b456b-8116-4163-81a0-7d370539c7d3"
      },
      "source": [
        "term = 'large'\n",
        "synsets = wn.synsets(term)\n",
        "adj_large = synsets[1]\n",
        "adj_large = adj_large.lemmas()[0]\n",
        "adj_large_synonym = adj_large.synset()\n",
        "adj_large_antonym = adj_large.antonyms()[0].synset()\n",
        "\n",
        "print('Synonym:', adj_large_synonym.name())\n",
        "print('Definition:', adj_large_synonym.definition())\n",
        "print('Antonym:', adj_large_antonym.name())\n",
        "print('Definition:', adj_large_antonym.definition())\n",
        "print()"
      ],
      "execution_count": 9,
      "outputs": [
        {
          "output_type": "stream",
          "text": [
            "Synonym: large.a.01\n",
            "Definition: above average in size or number or quantity or magnitude or extent\n",
            "Antonym: small.a.01\n",
            "Definition: limited or below average in number or quantity or magnitude or extent\n",
            "\n"
          ],
          "name": "stdout"
        }
      ]
    },
    {
      "cell_type": "code",
      "metadata": {
        "id": "y8HdmReU18mf",
        "colab_type": "code",
        "colab": {},
        "outputId": "8bb848ad-3c22-48ec-b93e-62f423cdcb65"
      },
      "source": [
        "term = 'rich'\n",
        "synsets = wn.synsets(term)[:3]\n",
        "\n",
        "for synset in synsets:\n",
        "    rich = synset.lemmas()[0]\n",
        "    rich_synonym = rich.synset()\n",
        "    rich_antonym = rich.antonyms()[0].synset()\n",
        "    \n",
        "    print('Synonym:', rich_synonym.name())\n",
        "    print('Definition:', rich_synonym.definition())\n",
        "    print('Antonym:', rich_antonym.name())\n",
        "    print('Definition:', rich_antonym.definition())\n",
        "    print()"
      ],
      "execution_count": null,
      "outputs": [
        {
          "output_type": "stream",
          "text": [
            "Synonym: rich_people.n.01\n",
            "Definition: people who have possessions and wealth (considered as a group)\n",
            "Antonym: poor_people.n.01\n",
            "Definition: people without possessions or wealth (considered as a group)\n",
            "\n",
            "Synonym: rich.a.01\n",
            "Definition: possessing material wealth\n",
            "Antonym: poor.a.02\n",
            "Definition: having little money or few possessions\n",
            "\n",
            "Synonym: rich.a.02\n",
            "Definition: having an abundant supply of desirable qualities or substances (especially natural resources)\n",
            "Antonym: poor.a.04\n",
            "Definition: lacking in specific resources, qualities or substances\n",
            "\n"
          ],
          "name": "stdout"
        }
      ]
    },
    {
      "cell_type": "markdown",
      "metadata": {
        "id": "aAwsilbv18mi",
        "colab_type": "text"
      },
      "source": [
        "# Hyponyms & Hypernyms"
      ]
    },
    {
      "cell_type": "code",
      "metadata": {
        "id": "r28t9Msw18mi",
        "colab_type": "code",
        "colab": {
          "base_uri": "https://localhost:8080/",
          "height": 71
        },
        "outputId": "d3b2337d-14c1-405b-8341-1ed0c8125589"
      },
      "source": [
        "term = 'tree'\n",
        "synsets = wn.synsets(term)\n",
        "tree = synsets[0]\n",
        "\n",
        "print('Name:', tree.name())\n",
        "print('Definition:', tree.definition())"
      ],
      "execution_count": 13,
      "outputs": [
        {
          "output_type": "stream",
          "text": [
            "Name: tree.n.01\n",
            "Definition: a tall perennial woody plant having a main trunk and branches forming a distinct elevated crown; includes both gymnosperms and angiosperms\n"
          ],
          "name": "stdout"
        }
      ]
    },
    {
      "cell_type": "code",
      "metadata": {
        "id": "ZlTIya_I18ml",
        "colab_type": "code",
        "colab": {
          "base_uri": "https://localhost:8080/",
          "height": 411
        },
        "outputId": "05020129-298f-4cc1-e5a3-78fedc113172"
      },
      "source": [
        "hyponyms = tree.hyponyms()\n",
        "print('Total Hyponyms:', len(hyponyms))\n",
        "print('Sample Hyponyms')\n",
        "for hyponym in hyponyms[:10]:\n",
        "    print(hyponym.name(), '-', hyponym.definition())\n",
        "    print()"
      ],
      "execution_count": 14,
      "outputs": [
        {
          "output_type": "stream",
          "text": [
            "Total Hyponyms: 180\n",
            "Sample Hyponyms\n",
            "aalii.n.01 - a small Hawaiian tree with hard dark wood\n",
            "\n",
            "acacia.n.01 - any of various spiny trees or shrubs of the genus Acacia\n",
            "\n",
            "african_walnut.n.01 - tropical African timber tree with wood that resembles mahogany\n",
            "\n",
            "albizzia.n.01 - any of numerous trees of the genus Albizia\n",
            "\n",
            "alder.n.02 - north temperate shrubs or trees having toothed leaves and conelike fruit; bark is used in tanning and dyeing and the wood is rot-resistant\n",
            "\n",
            "angelim.n.01 - any of several tropical American trees of the genus Andira\n",
            "\n",
            "angiospermous_tree.n.01 - any tree having seeds and ovules contained in the ovary\n",
            "\n",
            "anise_tree.n.01 - any of several evergreen shrubs and small trees of the genus Illicium\n",
            "\n",
            "arbor.n.01 - tree (as opposed to shrub)\n",
            "\n",
            "aroeira_blanca.n.01 - small resinous tree or shrub of Brazil\n",
            "\n"
          ],
          "name": "stdout"
        }
      ]
    },
    {
      "cell_type": "code",
      "metadata": {
        "id": "Pfdp8nOf18mo",
        "colab_type": "code",
        "colab": {
          "base_uri": "https://localhost:8080/",
          "height": 34
        },
        "outputId": "de7ebf97-f374-4d3e-a856-bee820601b5e"
      },
      "source": [
        "hypernyms = tree.hypernyms()\n",
        "print(hypernyms)"
      ],
      "execution_count": 15,
      "outputs": [
        {
          "output_type": "stream",
          "text": [
            "[Synset('woody_plant.n.01')]\n"
          ],
          "name": "stdout"
        }
      ]
    },
    {
      "cell_type": "code",
      "metadata": {
        "id": "TWHgzA1818mq",
        "colab_type": "code",
        "colab": {
          "base_uri": "https://localhost:8080/",
          "height": 34
        },
        "outputId": "ad4aeaf0-1578-46f3-eebb-f931b54d2a79"
      },
      "source": [
        "# get total hierarchy pathways for 'tree'\n",
        "hypernym_paths = tree.hypernym_paths()\n",
        "print('Total Hypernym paths:', len(hypernym_paths))"
      ],
      "execution_count": 16,
      "outputs": [
        {
          "output_type": "stream",
          "text": [
            "Total Hypernym paths: 1\n"
          ],
          "name": "stdout"
        }
      ]
    },
    {
      "cell_type": "code",
      "metadata": {
        "id": "8W5v40o418mt",
        "colab_type": "code",
        "colab": {
          "base_uri": "https://localhost:8080/",
          "height": 71
        },
        "outputId": "a1997598-7131-483c-d13e-7e78b6d477b4"
      },
      "source": [
        "# print the entire hypernym hierarchy\n",
        "print('Hypernym Hierarchy')\n",
        "print(' -> '.join(synset.name() for synset in hypernym_paths[0]))"
      ],
      "execution_count": 17,
      "outputs": [
        {
          "output_type": "stream",
          "text": [
            "Hypernym Hierarchy\n",
            "entity.n.01 -> physical_entity.n.01 -> object.n.01 -> whole.n.02 -> living_thing.n.01 -> organism.n.01 -> plant.n.02 -> vascular_plant.n.01 -> woody_plant.n.01 -> tree.n.01\n"
          ],
          "name": "stdout"
        }
      ]
    },
    {
      "cell_type": "markdown",
      "metadata": {
        "id": "wB2MGuRL18mw",
        "colab_type": "text"
      },
      "source": [
        "# Holonyms & Meronyms"
      ]
    },
    {
      "cell_type": "markdown",
      "metadata": {
        "id": "cjqWrvJA18mw",
        "colab_type": "text"
      },
      "source": [
        "### Member Holonyms"
      ]
    },
    {
      "cell_type": "code",
      "metadata": {
        "id": "mLe4_YEY18mx",
        "colab_type": "code",
        "colab": {
          "base_uri": "https://localhost:8080/",
          "height": 85
        },
        "outputId": "8fd22b24-98ea-44e2-e1fc-4b9c9d084616"
      },
      "source": [
        "member_holonyms = tree.member_holonyms()    \n",
        "print('Total Member Holonyms:', len(member_holonyms))\n",
        "print('Member Holonyms for [tree]:-')\n",
        "for holonym in member_holonyms:\n",
        "    print(holonym.name(), '-', holonym.definition())\n",
        "    print()"
      ],
      "execution_count": 18,
      "outputs": [
        {
          "output_type": "stream",
          "text": [
            "Total Member Holonyms: 1\n",
            "Member Holonyms for [tree]:-\n",
            "forest.n.01 - the trees and other plants in a large densely wooded area\n",
            "\n"
          ],
          "name": "stdout"
        }
      ]
    },
    {
      "cell_type": "markdown",
      "metadata": {
        "id": "ft4KcyFq18m1",
        "colab_type": "text"
      },
      "source": [
        "### Part Meronyms"
      ]
    },
    {
      "cell_type": "code",
      "metadata": {
        "id": "TN76YKLM18m2",
        "colab_type": "code",
        "colab": {
          "base_uri": "https://localhost:8080/",
          "height": 241
        },
        "outputId": "0f92d1ce-5806-4d12-ea4b-e6433e1897a5"
      },
      "source": [
        "part_meronyms = tree.part_meronyms()\n",
        "print('Total Part Meronyms:', len(part_meronyms))\n",
        "print('Part Meronyms for [tree]:-')\n",
        "for meronym in part_meronyms:\n",
        "    print(meronym.name(), '-', meronym.definition())\n",
        "    print()"
      ],
      "execution_count": 19,
      "outputs": [
        {
          "output_type": "stream",
          "text": [
            "Total Part Meronyms: 5\n",
            "Part Meronyms for [tree]:-\n",
            "burl.n.02 - a large rounded outgrowth on the trunk or branch of a tree\n",
            "\n",
            "crown.n.07 - the upper branches and leaves of a tree or other plant\n",
            "\n",
            "limb.n.02 - any of the main branches arising from the trunk or a bough of a tree\n",
            "\n",
            "stump.n.01 - the base part of a tree that remains standing after the tree has been felled\n",
            "\n",
            "trunk.n.01 - the main stem of a tree; usually covered with bark; the bole is usually the part that is commercially useful for lumber\n",
            "\n"
          ],
          "name": "stdout"
        }
      ]
    },
    {
      "cell_type": "markdown",
      "metadata": {
        "id": "bRFwyCoX18m4",
        "colab_type": "text"
      },
      "source": [
        "### Substance Meronyms"
      ]
    },
    {
      "cell_type": "code",
      "metadata": {
        "id": "n9PeTz4A18m5",
        "colab_type": "code",
        "colab": {
          "base_uri": "https://localhost:8080/",
          "height": 139
        },
        "outputId": "b2e0f9dd-b3c4-4d7a-9162-3d06103eebcc"
      },
      "source": [
        "substance_meronyms = tree.substance_meronyms()    \n",
        "print('Total Substance Meronyms:', len(substance_meronyms))\n",
        "print('Substance Meronyms for [tree]:-')\n",
        "for meronym in substance_meronyms:\n",
        "    print(meronym.name(), '-', meronym.definition())\n",
        "    print()"
      ],
      "execution_count": 20,
      "outputs": [
        {
          "output_type": "stream",
          "text": [
            "Total Substance Meronyms: 2\n",
            "Substance Meronyms for [tree]:-\n",
            "heartwood.n.01 - the older inactive central wood of a tree or woody plant; usually darker and denser than the surrounding sapwood\n",
            "\n",
            "sapwood.n.01 - newly formed outer wood lying between the cambium and the heartwood of a tree or woody plant; usually light colored; active in water conduction\n",
            "\n"
          ],
          "name": "stdout"
        }
      ]
    },
    {
      "cell_type": "markdown",
      "metadata": {
        "id": "UsTgAfhb18m8",
        "colab_type": "text"
      },
      "source": [
        "# Semantic Relationships & Similarities"
      ]
    },
    {
      "cell_type": "code",
      "metadata": {
        "id": "Z1tV8FgX18m8",
        "colab_type": "code",
        "colab": {
          "base_uri": "https://localhost:8080/",
          "height": 207
        },
        "outputId": "844d8cd7-29ae-4dd5-cb1c-536ba86c2856"
      },
      "source": [
        "tree = wn.synset('tree.n.01')\n",
        "lion = wn.synset('lion.n.01')\n",
        "tiger = wn.synset('tiger.n.02')\n",
        "cat = wn.synset('cat.n.01')\n",
        "dog = wn.synset('dog.n.01')\n",
        "\n",
        "# create entities and extract names and definitions\n",
        "entities = [tree, lion, tiger, cat, dog]\n",
        "entity_names = [entity.name().split('.')[0] for entity in entities]\n",
        "entity_definitions = [entity.definition() for entity in entities]\n",
        "\n",
        "# print entities and their definitions\n",
        "for entity, definition in zip(entity_names, entity_definitions):\n",
        "    print(entity, '-', definition)\n",
        "    print()"
      ],
      "execution_count": 21,
      "outputs": [
        {
          "output_type": "stream",
          "text": [
            "tree - a tall perennial woody plant having a main trunk and branches forming a distinct elevated crown; includes both gymnosperms and angiosperms\n",
            "\n",
            "lion - large gregarious predatory feline of Africa and India having a tawny coat with a shaggy mane in the male\n",
            "\n",
            "tiger - large feline of forests in most of Asia having a tawny coat with black stripes; endangered\n",
            "\n",
            "cat - feline mammal usually having thick soft fur and no ability to roar: domestic cats; wildcats\n",
            "\n",
            "dog - a member of the genus Canis (probably descended from the common wolf) that has been domesticated by man since prehistoric times; occurs in many breeds\n",
            "\n"
          ],
          "name": "stdout"
        }
      ]
    },
    {
      "cell_type": "code",
      "metadata": {
        "id": "hT6JQjj-18m_",
        "colab_type": "code",
        "colab": {}
      },
      "source": [
        "common_hypernyms = []\n",
        "for entity in entities:\n",
        "    # get pairwise lowest common hypernyms\n",
        "    common_hypernyms.append([entity.lowest_common_hypernyms(compared_entity)[0]\n",
        "                                            .name().split('.')[0]\n",
        "                             for compared_entity in entities])"
      ],
      "execution_count": 22,
      "outputs": []
    },
    {
      "cell_type": "code",
      "metadata": {
        "id": "9hVgfx0218nC",
        "colab_type": "code",
        "colab": {
          "base_uri": "https://localhost:8080/",
          "height": 204
        },
        "outputId": "1de6a33b-2d24-4f3e-9138-e7daaedff69c"
      },
      "source": [
        "# build pairwise lower common hypernym matrix\n",
        "common_hypernym_frame = pd.DataFrame(common_hypernyms,\n",
        "                                     index=entity_names, \n",
        "                                     columns=entity_names)\n",
        "common_hypernym_frame"
      ],
      "execution_count": 23,
      "outputs": [
        {
          "output_type": "execute_result",
          "data": {
            "text/html": [
              "<div>\n",
              "<style scoped>\n",
              "    .dataframe tbody tr th:only-of-type {\n",
              "        vertical-align: middle;\n",
              "    }\n",
              "\n",
              "    .dataframe tbody tr th {\n",
              "        vertical-align: top;\n",
              "    }\n",
              "\n",
              "    .dataframe thead th {\n",
              "        text-align: right;\n",
              "    }\n",
              "</style>\n",
              "<table border=\"1\" class=\"dataframe\">\n",
              "  <thead>\n",
              "    <tr style=\"text-align: right;\">\n",
              "      <th></th>\n",
              "      <th>tree</th>\n",
              "      <th>lion</th>\n",
              "      <th>tiger</th>\n",
              "      <th>cat</th>\n",
              "      <th>dog</th>\n",
              "    </tr>\n",
              "  </thead>\n",
              "  <tbody>\n",
              "    <tr>\n",
              "      <th>tree</th>\n",
              "      <td>tree</td>\n",
              "      <td>organism</td>\n",
              "      <td>organism</td>\n",
              "      <td>organism</td>\n",
              "      <td>organism</td>\n",
              "    </tr>\n",
              "    <tr>\n",
              "      <th>lion</th>\n",
              "      <td>organism</td>\n",
              "      <td>lion</td>\n",
              "      <td>big_cat</td>\n",
              "      <td>feline</td>\n",
              "      <td>carnivore</td>\n",
              "    </tr>\n",
              "    <tr>\n",
              "      <th>tiger</th>\n",
              "      <td>organism</td>\n",
              "      <td>big_cat</td>\n",
              "      <td>tiger</td>\n",
              "      <td>feline</td>\n",
              "      <td>carnivore</td>\n",
              "    </tr>\n",
              "    <tr>\n",
              "      <th>cat</th>\n",
              "      <td>organism</td>\n",
              "      <td>feline</td>\n",
              "      <td>feline</td>\n",
              "      <td>cat</td>\n",
              "      <td>carnivore</td>\n",
              "    </tr>\n",
              "    <tr>\n",
              "      <th>dog</th>\n",
              "      <td>organism</td>\n",
              "      <td>carnivore</td>\n",
              "      <td>carnivore</td>\n",
              "      <td>carnivore</td>\n",
              "      <td>dog</td>\n",
              "    </tr>\n",
              "  </tbody>\n",
              "</table>\n",
              "</div>"
            ],
            "text/plain": [
              "           tree       lion      tiger        cat        dog\n",
              "tree       tree   organism   organism   organism   organism\n",
              "lion   organism       lion    big_cat     feline  carnivore\n",
              "tiger  organism    big_cat      tiger     feline  carnivore\n",
              "cat    organism     feline     feline        cat  carnivore\n",
              "dog    organism  carnivore  carnivore  carnivore        dog"
            ]
          },
          "metadata": {
            "tags": []
          },
          "execution_count": 23
        }
      ]
    },
    {
      "cell_type": "code",
      "metadata": {
        "id": "ovEdaUTz18nE",
        "colab_type": "code",
        "colab": {}
      },
      "source": [
        "similarities = []\n",
        "for entity in entities:\n",
        "    # get pairwise similarities\n",
        "    similarities.append([round(entity.path_similarity(compared_entity), 2)\n",
        "                         for compared_entity in entities])"
      ],
      "execution_count": 24,
      "outputs": []
    },
    {
      "cell_type": "code",
      "metadata": {
        "id": "U5DJ9aiu18nI",
        "colab_type": "code",
        "colab": {
          "base_uri": "https://localhost:8080/",
          "height": 204
        },
        "outputId": "38b660d9-b090-47dc-b08f-794f10178e32"
      },
      "source": [
        "# build pairwise similarity matrix                             \n",
        "similarity_frame = pd.DataFrame(similarities,\n",
        "                                index=entity_names, \n",
        "                                columns=entity_names)\n",
        "similarity_frame"
      ],
      "execution_count": 25,
      "outputs": [
        {
          "output_type": "execute_result",
          "data": {
            "text/html": [
              "<div>\n",
              "<style scoped>\n",
              "    .dataframe tbody tr th:only-of-type {\n",
              "        vertical-align: middle;\n",
              "    }\n",
              "\n",
              "    .dataframe tbody tr th {\n",
              "        vertical-align: top;\n",
              "    }\n",
              "\n",
              "    .dataframe thead th {\n",
              "        text-align: right;\n",
              "    }\n",
              "</style>\n",
              "<table border=\"1\" class=\"dataframe\">\n",
              "  <thead>\n",
              "    <tr style=\"text-align: right;\">\n",
              "      <th></th>\n",
              "      <th>tree</th>\n",
              "      <th>lion</th>\n",
              "      <th>tiger</th>\n",
              "      <th>cat</th>\n",
              "      <th>dog</th>\n",
              "    </tr>\n",
              "  </thead>\n",
              "  <tbody>\n",
              "    <tr>\n",
              "      <th>tree</th>\n",
              "      <td>1.00</td>\n",
              "      <td>0.07</td>\n",
              "      <td>0.07</td>\n",
              "      <td>0.08</td>\n",
              "      <td>0.12</td>\n",
              "    </tr>\n",
              "    <tr>\n",
              "      <th>lion</th>\n",
              "      <td>0.07</td>\n",
              "      <td>1.00</td>\n",
              "      <td>0.33</td>\n",
              "      <td>0.25</td>\n",
              "      <td>0.17</td>\n",
              "    </tr>\n",
              "    <tr>\n",
              "      <th>tiger</th>\n",
              "      <td>0.07</td>\n",
              "      <td>0.33</td>\n",
              "      <td>1.00</td>\n",
              "      <td>0.25</td>\n",
              "      <td>0.17</td>\n",
              "    </tr>\n",
              "    <tr>\n",
              "      <th>cat</th>\n",
              "      <td>0.08</td>\n",
              "      <td>0.25</td>\n",
              "      <td>0.25</td>\n",
              "      <td>1.00</td>\n",
              "      <td>0.20</td>\n",
              "    </tr>\n",
              "    <tr>\n",
              "      <th>dog</th>\n",
              "      <td>0.12</td>\n",
              "      <td>0.17</td>\n",
              "      <td>0.17</td>\n",
              "      <td>0.20</td>\n",
              "      <td>1.00</td>\n",
              "    </tr>\n",
              "  </tbody>\n",
              "</table>\n",
              "</div>"
            ],
            "text/plain": [
              "       tree  lion  tiger   cat   dog\n",
              "tree   1.00  0.07   0.07  0.08  0.12\n",
              "lion   0.07  1.00   0.33  0.25  0.17\n",
              "tiger  0.07  0.33   1.00  0.25  0.17\n",
              "cat    0.08  0.25   0.25  1.00  0.20\n",
              "dog    0.12  0.17   0.17  0.20  1.00"
            ]
          },
          "metadata": {
            "tags": []
          },
          "execution_count": 25
        }
      ]
    },
    {
      "cell_type": "markdown",
      "metadata": {
        "id": "bVcPRQdb18nK",
        "colab_type": "text"
      },
      "source": [
        "# Word Sense Disambiguation"
      ]
    },
    {
      "cell_type": "code",
      "metadata": {
        "id": "hOdkEFQg18nL",
        "colab_type": "code",
        "colab": {
          "base_uri": "https://localhost:8080/",
          "height": 187
        },
        "outputId": "cca42b7f-2bde-4791-ad90-6a5293277adf"
      },
      "source": [
        "from nltk.wsd import lesk\n",
        "from nltk import word_tokenize\n",
        "nltk.download('punkt')\n",
        "\n",
        "# sample text and word to disambiguate\n",
        "samples = [('The fruits on that plant have ripened', 'n'),\n",
        "           ('He finally reaped the fruit of his hard work as he won the race', 'n')]\n",
        "\n",
        "# perform word sense disambiguation\n",
        "word = 'fruit'\n",
        "for sentence, pos_tag in samples:\n",
        "    word_syn = lesk(word_tokenize(sentence.lower()), word, pos_tag)\n",
        "    print('Sentence:', sentence)\n",
        "    print('Word synset:', word_syn)\n",
        "    print('Corresponding defition:', word_syn.definition())\n",
        "    print()"
      ],
      "execution_count": 27,
      "outputs": [
        {
          "output_type": "stream",
          "text": [
            "[nltk_data] Downloading package punkt to /root/nltk_data...\n",
            "[nltk_data]   Unzipping tokenizers/punkt.zip.\n",
            "Sentence: The fruits on that plant have ripened\n",
            "Word synset: Synset('fruit.n.01')\n",
            "Corresponding defition: the ripened reproductive body of a seed plant\n",
            "\n",
            "Sentence: He finally reaped the fruit of his hard work as he won the race\n",
            "Word synset: Synset('fruit.n.03')\n",
            "Corresponding defition: the consequence of some effort or action\n",
            "\n"
          ],
          "name": "stdout"
        }
      ]
    },
    {
      "cell_type": "code",
      "metadata": {
        "id": "zATqT8cV18nN",
        "colab_type": "code",
        "colab": {
          "base_uri": "https://localhost:8080/",
          "height": 241
        },
        "outputId": "dc7889ea-9c7f-4dd1-ef9e-b5a6ce445c32"
      },
      "source": [
        "# sample text and word to disambiguate\n",
        "samples = [('Lead is a very soft, malleable metal', 'n'),\n",
        "           ('John is the actor who plays the lead in that movie', 'n'),\n",
        "           ('This road leads to nowhere', 'v')]\n",
        "\n",
        "word = 'lead'\n",
        "\n",
        "# perform word sense disambiguation\n",
        "for sentence, pos_tag in samples:\n",
        "    word_syn = lesk(word_tokenize(sentence.lower()), word, pos_tag)\n",
        "    print('Sentence:', sentence)\n",
        "    print('Word synset:', word_syn)\n",
        "    print('Corresponding defition:', word_syn.definition())\n",
        "    print()"
      ],
      "execution_count": 29,
      "outputs": [
        {
          "output_type": "stream",
          "text": [
            "Sentence: Lead is a very soft, malleable metal\n",
            "Word synset: Synset('lead.n.02')\n",
            "Corresponding defition: a soft heavy toxic malleable metallic element; bluish white when freshly cut but tarnishes readily to dull grey\n",
            "\n",
            "Sentence: John is the actor who plays the lead in that movie\n",
            "Word synset: Synset('star.n.04')\n",
            "Corresponding defition: an actor who plays a principal role\n",
            "\n",
            "Sentence: This road leads to nowhere\n",
            "Word synset: Synset('run.v.23')\n",
            "Corresponding defition: cause something to pass or lead somewhere\n",
            "\n"
          ],
          "name": "stdout"
        }
      ]
    },
    {
      "cell_type": "code",
      "metadata": {
        "id": "5cVv82LnHzry",
        "colab_type": "code",
        "colab": {
          "base_uri": "https://localhost:8080/",
          "height": 173
        },
        "outputId": "f3cc738c-96e4-47a4-b78f-2709b435adc7"
      },
      "source": [
        "# sample text and word to disambiguate\n",
        "samples = [('Oranges are good food for my health', 'n'),\n",
        "           ('I like to eat oranges', 'n')\n",
        "           ]\n",
        "\n",
        "word = 'orange'\n",
        "\n",
        "# perform word sense disambiguation\n",
        "for sentence, pos_tag in samples:\n",
        "    word_syn = lesk(word_tokenize(sentence.lower()), word, pos_tag)\n",
        "    print('Sentence:', sentence)\n",
        "    print('Word synset:', word_syn)\n",
        "    print('Corresponding defition:', word_syn.definition())\n",
        "    print()"
      ],
      "execution_count": 33,
      "outputs": [
        {
          "output_type": "stream",
          "text": [
            "Sentence: Oranges are good food for my health\n",
            "Word synset: Synset('orange.n.03')\n",
            "Corresponding defition: any citrus tree bearing oranges\n",
            "\n",
            "Sentence: I like to eat oranges\n",
            "Word synset: Synset('orange.n.05')\n",
            "Corresponding defition: a river in South Africa that flows generally westward to the Atlantic Ocean\n",
            "\n"
          ],
          "name": "stdout"
        }
      ]
    },
    {
      "cell_type": "code",
      "metadata": {
        "id": "oLXR8oeMOVdf",
        "colab_type": "code",
        "colab": {}
      },
      "source": [
        ""
      ],
      "execution_count": null,
      "outputs": []
    }
  ]
}