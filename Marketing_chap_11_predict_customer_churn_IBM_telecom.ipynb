{
  "nbformat": 4,
  "nbformat_minor": 0,
  "metadata": {
    "colab": {
      "name": "Marketing chap 11 predict customer churn IBM telecom.ipynb",
      "provenance": [],
      "collapsed_sections": [],
      "authorship_tag": "ABX9TyMfQiQTSCeKPs9V7wpQ5zB9",
      "include_colab_link": true
    },
    "kernelspec": {
      "name": "python3",
      "display_name": "Python 3"
    }
  },
  "cells": [
    {
      "cell_type": "markdown",
      "metadata": {
        "id": "view-in-github",
        "colab_type": "text"
      },
      "source": [
        "<a href=\"https://colab.research.google.com/github/duybluemind1988/Data-science/blob/master/Marketing_chap_11_predict_customer_churn_IBM_telecom.ipynb\" target=\"_parent\"><img src=\"https://colab.research.google.com/assets/colab-badge.svg\" alt=\"Open In Colab\"/></a>"
      ]
    },
    {
      "cell_type": "code",
      "metadata": {
        "id": "juilYtTPgBpA",
        "colab_type": "code",
        "colab": {}
      },
      "source": [
        "# Load basic library\n",
        "import numpy as np\n",
        "import matplotlib.pyplot as plt\n",
        "import pandas as pd\n",
        "from tensorflow import random\n",
        "import tensorflow as tf\n",
        "from tensorflow import keras\n",
        "\n",
        "# Load Keras\n",
        "from keras.datasets import imdb\n",
        "from keras.preprocessing.text import Tokenizer\n",
        "from keras import models\n",
        "from keras import layers\n",
        "from keras.models import Sequential\n",
        "from keras.layers import Dense\n",
        "from keras import regularizers\n",
        "from keras.callbacks import EarlyStopping, ModelCheckpoint\n",
        "from keras.wrappers.scikit_learn import KerasClassifier\n",
        "from keras.regularizers import l1\n",
        "from keras.regularizers import l2\n",
        "from keras.regularizers import l1_l2\n",
        "from keras.layers import Dropout\n",
        "\n",
        "#Load sklearn\n",
        "from sklearn.preprocessing import StandardScaler\n",
        "from sklearn.preprocessing import OneHotEncoder\n",
        "from sklearn.model_selection import train_test_split\n",
        "from sklearn.model_selection import KFold\n",
        "from sklearn.model_selection import StratifiedKFold\n",
        "from sklearn.model_selection import cross_val_score\n",
        "from sklearn.model_selection import cross_validate\n",
        "from sklearn.model_selection import RandomizedSearchCV\n",
        "from sklearn.model_selection import GridSearchCV\n",
        "from sklearn.pipeline import Pipeline\n",
        "from sklearn.compose import ColumnTransformer\n",
        "from sklearn.utils import shuffle\n",
        "\n",
        "from sklearn.metrics import log_loss \n",
        "from sklearn.metrics import classification_report\n",
        "from sklearn.metrics import confusion_matrix\n",
        "from sklearn.metrics import accuracy_score\n",
        "from sklearn.metrics import recall_score, precision_score\n",
        "from sklearn.metrics import make_scorer\n",
        "from sklearn.metrics import roc_curve, auc\n",
        "from sklearn.metrics import precision_recall_curve\n",
        "from sklearn.metrics import f1_score,balanced_accuracy_score\n",
        "from sklearn.metrics import average_precision_score \n",
        "\n",
        "from sklearn.pipeline import Pipeline\n",
        "from sklearn.decomposition import PCA, NMF\n",
        "\n",
        "#ML normal ML\n",
        "from sklearn.linear_model import LogisticRegression\n",
        "from sklearn.tree import DecisionTreeClassifier\n",
        "from sklearn.neighbors import KNeighborsClassifier\n",
        "from sklearn.discriminant_analysis import LinearDiscriminantAnalysis\n",
        "from sklearn.naive_bayes import GaussianNB\n",
        "from sklearn.svm import SVC\n",
        "\n",
        "#ML ensembles\n",
        "from sklearn.ensemble import AdaBoostClassifier\n",
        "from sklearn.ensemble import GradientBoostingClassifier\n",
        "from sklearn.ensemble import RandomForestClassifier\n",
        "from sklearn.ensemble import ExtraTreesClassifier\n",
        "from sklearn.ensemble import BaggingClassifier\n",
        "from sklearn.ensemble import VotingClassifier\n",
        "from sklearn.ensemble import StackingClassifier\n",
        "\n",
        "#Special\n",
        "import xgboost as xgb\n",
        "from xgboost import XGBClassifier\n",
        "import lightgbm as lgb\n",
        "from lightgbm import LGBMClassifier\n",
        "\n",
        "#Load visual neural:\n",
        "from IPython.display import SVG\n",
        "from keras.utils.vis_utils import model_to_dot\n",
        "from keras.utils import plot_model\n",
        "# import require packages for plotting\n",
        "import matplotlib.pyplot as plt \n",
        "import seaborn as sns\n",
        "sns.set()\n",
        "%matplotlib inline \n"
      ],
      "execution_count": null,
      "outputs": []
    },
    {
      "cell_type": "markdown",
      "metadata": {
        "id": "P6XC8gmthGCG",
        "colab_type": "text"
      },
      "source": [
        "As customers have more options for similar content to consume or similar products and\n",
        "services to shop for, it has become more difficult for many businesses to retain their\n",
        "customers and not lose them to other competitors. As the cost of acquiring new customers\n",
        "is typically higher than that of retaining and keeping existing customers, customer churn is\n",
        "becoming more and more of a concern than ever before. In order to retain existing\n",
        "customers and not lose them to competitors, businesses should not only try to understand\n",
        "their customers and their customers' needs and interests, but they should also be able to\n",
        "identify which customers are highly likely to churn and how to retain these customers at\n",
        "churn risk.\n",
        "\n",
        "In this chapter, we are going to dive deeper into customer churn and how it hurts\n",
        "businesses, as well as how to retain existing customers. We will discuss some of the\n",
        "common reasons for customers leaving businesses and look at how data science can help\n",
        "reduce the risk of losing customers. As a way of predicting customer churn, we will learn\n",
        "about what an artificial neural network model is and its applications in different areas, as\n",
        "well as how we can build one using Python and "
      ]
    },
    {
      "cell_type": "code",
      "metadata": {
        "id": "UlkJp69Cg0Zs",
        "colab_type": "code",
        "colab": {
          "base_uri": "https://localhost:8080/",
          "height": 309
        },
        "outputId": "4a69ffdf-2018-4d0f-ba22-e071c6a2597f"
      },
      "source": [
        "path='https://raw.githubusercontent.com/rstudio/keras-customer-churn/master/data/WA_Fn-UseC_-Telco-Customer-Churn.csv'\n",
        "df=pd.read_csv(path)\n",
        "df.head()"
      ],
      "execution_count": null,
      "outputs": [
        {
          "output_type": "execute_result",
          "data": {
            "text/html": [
              "<div>\n",
              "<style scoped>\n",
              "    .dataframe tbody tr th:only-of-type {\n",
              "        vertical-align: middle;\n",
              "    }\n",
              "\n",
              "    .dataframe tbody tr th {\n",
              "        vertical-align: top;\n",
              "    }\n",
              "\n",
              "    .dataframe thead th {\n",
              "        text-align: right;\n",
              "    }\n",
              "</style>\n",
              "<table border=\"1\" class=\"dataframe\">\n",
              "  <thead>\n",
              "    <tr style=\"text-align: right;\">\n",
              "      <th></th>\n",
              "      <th>customerID</th>\n",
              "      <th>gender</th>\n",
              "      <th>SeniorCitizen</th>\n",
              "      <th>Partner</th>\n",
              "      <th>Dependents</th>\n",
              "      <th>tenure</th>\n",
              "      <th>PhoneService</th>\n",
              "      <th>MultipleLines</th>\n",
              "      <th>InternetService</th>\n",
              "      <th>OnlineSecurity</th>\n",
              "      <th>OnlineBackup</th>\n",
              "      <th>DeviceProtection</th>\n",
              "      <th>TechSupport</th>\n",
              "      <th>StreamingTV</th>\n",
              "      <th>StreamingMovies</th>\n",
              "      <th>Contract</th>\n",
              "      <th>PaperlessBilling</th>\n",
              "      <th>PaymentMethod</th>\n",
              "      <th>MonthlyCharges</th>\n",
              "      <th>TotalCharges</th>\n",
              "      <th>Churn</th>\n",
              "    </tr>\n",
              "  </thead>\n",
              "  <tbody>\n",
              "    <tr>\n",
              "      <th>0</th>\n",
              "      <td>7590-VHVEG</td>\n",
              "      <td>Female</td>\n",
              "      <td>0</td>\n",
              "      <td>Yes</td>\n",
              "      <td>No</td>\n",
              "      <td>1</td>\n",
              "      <td>No</td>\n",
              "      <td>No phone service</td>\n",
              "      <td>DSL</td>\n",
              "      <td>No</td>\n",
              "      <td>Yes</td>\n",
              "      <td>No</td>\n",
              "      <td>No</td>\n",
              "      <td>No</td>\n",
              "      <td>No</td>\n",
              "      <td>Month-to-month</td>\n",
              "      <td>Yes</td>\n",
              "      <td>Electronic check</td>\n",
              "      <td>29.85</td>\n",
              "      <td>29.85</td>\n",
              "      <td>No</td>\n",
              "    </tr>\n",
              "    <tr>\n",
              "      <th>1</th>\n",
              "      <td>5575-GNVDE</td>\n",
              "      <td>Male</td>\n",
              "      <td>0</td>\n",
              "      <td>No</td>\n",
              "      <td>No</td>\n",
              "      <td>34</td>\n",
              "      <td>Yes</td>\n",
              "      <td>No</td>\n",
              "      <td>DSL</td>\n",
              "      <td>Yes</td>\n",
              "      <td>No</td>\n",
              "      <td>Yes</td>\n",
              "      <td>No</td>\n",
              "      <td>No</td>\n",
              "      <td>No</td>\n",
              "      <td>One year</td>\n",
              "      <td>No</td>\n",
              "      <td>Mailed check</td>\n",
              "      <td>56.95</td>\n",
              "      <td>1889.5</td>\n",
              "      <td>No</td>\n",
              "    </tr>\n",
              "    <tr>\n",
              "      <th>2</th>\n",
              "      <td>3668-QPYBK</td>\n",
              "      <td>Male</td>\n",
              "      <td>0</td>\n",
              "      <td>No</td>\n",
              "      <td>No</td>\n",
              "      <td>2</td>\n",
              "      <td>Yes</td>\n",
              "      <td>No</td>\n",
              "      <td>DSL</td>\n",
              "      <td>Yes</td>\n",
              "      <td>Yes</td>\n",
              "      <td>No</td>\n",
              "      <td>No</td>\n",
              "      <td>No</td>\n",
              "      <td>No</td>\n",
              "      <td>Month-to-month</td>\n",
              "      <td>Yes</td>\n",
              "      <td>Mailed check</td>\n",
              "      <td>53.85</td>\n",
              "      <td>108.15</td>\n",
              "      <td>Yes</td>\n",
              "    </tr>\n",
              "    <tr>\n",
              "      <th>3</th>\n",
              "      <td>7795-CFOCW</td>\n",
              "      <td>Male</td>\n",
              "      <td>0</td>\n",
              "      <td>No</td>\n",
              "      <td>No</td>\n",
              "      <td>45</td>\n",
              "      <td>No</td>\n",
              "      <td>No phone service</td>\n",
              "      <td>DSL</td>\n",
              "      <td>Yes</td>\n",
              "      <td>No</td>\n",
              "      <td>Yes</td>\n",
              "      <td>Yes</td>\n",
              "      <td>No</td>\n",
              "      <td>No</td>\n",
              "      <td>One year</td>\n",
              "      <td>No</td>\n",
              "      <td>Bank transfer (automatic)</td>\n",
              "      <td>42.30</td>\n",
              "      <td>1840.75</td>\n",
              "      <td>No</td>\n",
              "    </tr>\n",
              "    <tr>\n",
              "      <th>4</th>\n",
              "      <td>9237-HQITU</td>\n",
              "      <td>Female</td>\n",
              "      <td>0</td>\n",
              "      <td>No</td>\n",
              "      <td>No</td>\n",
              "      <td>2</td>\n",
              "      <td>Yes</td>\n",
              "      <td>No</td>\n",
              "      <td>Fiber optic</td>\n",
              "      <td>No</td>\n",
              "      <td>No</td>\n",
              "      <td>No</td>\n",
              "      <td>No</td>\n",
              "      <td>No</td>\n",
              "      <td>No</td>\n",
              "      <td>Month-to-month</td>\n",
              "      <td>Yes</td>\n",
              "      <td>Electronic check</td>\n",
              "      <td>70.70</td>\n",
              "      <td>151.65</td>\n",
              "      <td>Yes</td>\n",
              "    </tr>\n",
              "  </tbody>\n",
              "</table>\n",
              "</div>"
            ],
            "text/plain": [
              "   customerID  gender  SeniorCitizen  ... MonthlyCharges TotalCharges  Churn\n",
              "0  7590-VHVEG  Female              0  ...          29.85        29.85     No\n",
              "1  5575-GNVDE    Male              0  ...          56.95       1889.5     No\n",
              "2  3668-QPYBK    Male              0  ...          53.85       108.15    Yes\n",
              "3  7795-CFOCW    Male              0  ...          42.30      1840.75     No\n",
              "4  9237-HQITU  Female              0  ...          70.70       151.65    Yes\n",
              "\n",
              "[5 rows x 21 columns]"
            ]
          },
          "metadata": {
            "tags": []
          },
          "execution_count": 3
        }
      ]
    },
    {
      "cell_type": "code",
      "metadata": {
        "id": "DJQpAwJo27b3",
        "colab_type": "code",
        "colab": {
          "base_uri": "https://localhost:8080/",
          "height": 34
        },
        "outputId": "0988da73-6d86-4b45-b833-14cd39410a2e"
      },
      "source": [
        "df.shape"
      ],
      "execution_count": null,
      "outputs": [
        {
          "output_type": "execute_result",
          "data": {
            "text/plain": [
              "(7043, 21)"
            ]
          },
          "metadata": {
            "tags": []
          },
          "execution_count": 4
        }
      ]
    },
    {
      "cell_type": "markdown",
      "metadata": {
        "id": "eQj14fiq3HRI",
        "colab_type": "text"
      },
      "source": [
        "# Data analysis"
      ]
    },
    {
      "cell_type": "code",
      "metadata": {
        "id": "_nGKYqR138K6",
        "colab_type": "code",
        "colab": {
          "base_uri": "https://localhost:8080/",
          "height": 391
        },
        "outputId": "83c2b75a-4ff8-4f26-bf3d-cf8a0b61e2c2"
      },
      "source": [
        "df.dtypes"
      ],
      "execution_count": null,
      "outputs": [
        {
          "output_type": "execute_result",
          "data": {
            "text/plain": [
              "customerID           object\n",
              "gender               object\n",
              "SeniorCitizen         int64\n",
              "Partner              object\n",
              "Dependents           object\n",
              "tenure                int64\n",
              "PhoneService         object\n",
              "MultipleLines        object\n",
              "InternetService      object\n",
              "OnlineSecurity       object\n",
              "OnlineBackup         object\n",
              "DeviceProtection     object\n",
              "TechSupport          object\n",
              "StreamingTV          object\n",
              "StreamingMovies      object\n",
              "Contract             object\n",
              "PaperlessBilling     object\n",
              "PaymentMethod        object\n",
              "MonthlyCharges      float64\n",
              "TotalCharges         object\n",
              "Churn                object\n",
              "dtype: object"
            ]
          },
          "metadata": {
            "tags": []
          },
          "execution_count": 5
        }
      ]
    },
    {
      "cell_type": "code",
      "metadata": {
        "id": "953fhYma4CHZ",
        "colab_type": "code",
        "colab": {
          "base_uri": "https://localhost:8080/",
          "height": 391
        },
        "outputId": "77dd3872-e67e-40d4-84e6-2df7e819d736"
      },
      "source": [
        "df.isnull().sum()"
      ],
      "execution_count": null,
      "outputs": [
        {
          "output_type": "execute_result",
          "data": {
            "text/plain": [
              "customerID          0\n",
              "gender              0\n",
              "SeniorCitizen       0\n",
              "Partner             0\n",
              "Dependents          0\n",
              "tenure              0\n",
              "PhoneService        0\n",
              "MultipleLines       0\n",
              "InternetService     0\n",
              "OnlineSecurity      0\n",
              "OnlineBackup        0\n",
              "DeviceProtection    0\n",
              "TechSupport         0\n",
              "StreamingTV         0\n",
              "StreamingMovies     0\n",
              "Contract            0\n",
              "PaperlessBilling    0\n",
              "PaymentMethod       0\n",
              "MonthlyCharges      0\n",
              "TotalCharges        0\n",
              "Churn               0\n",
              "dtype: int64"
            ]
          },
          "metadata": {
            "tags": []
          },
          "execution_count": 6
        }
      ]
    },
    {
      "cell_type": "code",
      "metadata": {
        "id": "6ASQkzS33IOZ",
        "colab_type": "code",
        "colab": {
          "base_uri": "https://localhost:8080/",
          "height": 34
        },
        "outputId": "055f97ec-f738-4a24-cddb-1377e1743d1d"
      },
      "source": [
        "df['Churn'] = df['Churn'].apply(lambda x: 1 if x == 'Yes' else 0)\n",
        "df['Churn'].mean()"
      ],
      "execution_count": null,
      "outputs": [
        {
          "output_type": "execute_result",
          "data": {
            "text/plain": [
              "0.2653698707936959"
            ]
          },
          "metadata": {
            "tags": []
          },
          "execution_count": 7
        }
      ]
    },
    {
      "cell_type": "code",
      "metadata": {
        "id": "frrsZamOEMg2",
        "colab_type": "code",
        "colab": {
          "base_uri": "https://localhost:8080/",
          "height": 68
        },
        "outputId": "5ee5f18c-ea16-4544-e78b-9968bc823892"
      },
      "source": [
        "df['Churn'].value_counts(normalize=True)"
      ],
      "execution_count": null,
      "outputs": [
        {
          "output_type": "execute_result",
          "data": {
            "text/plain": [
              "0    0.73463\n",
              "1    0.26537\n",
              "Name: Churn, dtype: float64"
            ]
          },
          "metadata": {
            "tags": []
          },
          "execution_count": 8
        }
      ]
    },
    {
      "cell_type": "code",
      "metadata": {
        "id": "YEC4hRR13s7A",
        "colab_type": "code",
        "colab": {}
      },
      "source": [
        "df['TotalCharges'] = df['TotalCharges'].replace(' ', np.nan).astype(float)"
      ],
      "execution_count": null,
      "outputs": []
    },
    {
      "cell_type": "code",
      "metadata": {
        "id": "n-Pez9UT77gv",
        "colab_type": "code",
        "colab": {}
      },
      "source": [
        "df = df.dropna()"
      ],
      "execution_count": null,
      "outputs": []
    },
    {
      "cell_type": "markdown",
      "metadata": {
        "id": "GXavhO7G9BCJ",
        "colab_type": "text"
      },
      "source": [
        "# Standard scaler"
      ]
    },
    {
      "cell_type": "code",
      "metadata": {
        "id": "yWFP-kRZ7-fb",
        "colab_type": "code",
        "colab": {
          "base_uri": "https://localhost:8080/",
          "height": 297
        },
        "outputId": "6f77e55e-8375-4374-f305-46e077674a85"
      },
      "source": [
        "df[['tenure', 'MonthlyCharges', 'TotalCharges']].describe()"
      ],
      "execution_count": null,
      "outputs": [
        {
          "output_type": "execute_result",
          "data": {
            "text/html": [
              "<div>\n",
              "<style scoped>\n",
              "    .dataframe tbody tr th:only-of-type {\n",
              "        vertical-align: middle;\n",
              "    }\n",
              "\n",
              "    .dataframe tbody tr th {\n",
              "        vertical-align: top;\n",
              "    }\n",
              "\n",
              "    .dataframe thead th {\n",
              "        text-align: right;\n",
              "    }\n",
              "</style>\n",
              "<table border=\"1\" class=\"dataframe\">\n",
              "  <thead>\n",
              "    <tr style=\"text-align: right;\">\n",
              "      <th></th>\n",
              "      <th>tenure</th>\n",
              "      <th>MonthlyCharges</th>\n",
              "      <th>TotalCharges</th>\n",
              "    </tr>\n",
              "  </thead>\n",
              "  <tbody>\n",
              "    <tr>\n",
              "      <th>count</th>\n",
              "      <td>7032.000000</td>\n",
              "      <td>7032.000000</td>\n",
              "      <td>7032.000000</td>\n",
              "    </tr>\n",
              "    <tr>\n",
              "      <th>mean</th>\n",
              "      <td>32.421786</td>\n",
              "      <td>64.798208</td>\n",
              "      <td>2283.300441</td>\n",
              "    </tr>\n",
              "    <tr>\n",
              "      <th>std</th>\n",
              "      <td>24.545260</td>\n",
              "      <td>30.085974</td>\n",
              "      <td>2266.771362</td>\n",
              "    </tr>\n",
              "    <tr>\n",
              "      <th>min</th>\n",
              "      <td>1.000000</td>\n",
              "      <td>18.250000</td>\n",
              "      <td>18.800000</td>\n",
              "    </tr>\n",
              "    <tr>\n",
              "      <th>25%</th>\n",
              "      <td>9.000000</td>\n",
              "      <td>35.587500</td>\n",
              "      <td>401.450000</td>\n",
              "    </tr>\n",
              "    <tr>\n",
              "      <th>50%</th>\n",
              "      <td>29.000000</td>\n",
              "      <td>70.350000</td>\n",
              "      <td>1397.475000</td>\n",
              "    </tr>\n",
              "    <tr>\n",
              "      <th>75%</th>\n",
              "      <td>55.000000</td>\n",
              "      <td>89.862500</td>\n",
              "      <td>3794.737500</td>\n",
              "    </tr>\n",
              "    <tr>\n",
              "      <th>max</th>\n",
              "      <td>72.000000</td>\n",
              "      <td>118.750000</td>\n",
              "      <td>8684.800000</td>\n",
              "    </tr>\n",
              "  </tbody>\n",
              "</table>\n",
              "</div>"
            ],
            "text/plain": [
              "            tenure  MonthlyCharges  TotalCharges\n",
              "count  7032.000000     7032.000000   7032.000000\n",
              "mean     32.421786       64.798208   2283.300441\n",
              "std      24.545260       30.085974   2266.771362\n",
              "min       1.000000       18.250000     18.800000\n",
              "25%       9.000000       35.587500    401.450000\n",
              "50%      29.000000       70.350000   1397.475000\n",
              "75%      55.000000       89.862500   3794.737500\n",
              "max      72.000000      118.750000   8684.800000"
            ]
          },
          "metadata": {
            "tags": []
          },
          "execution_count": 11
        }
      ]
    },
    {
      "cell_type": "markdown",
      "metadata": {
        "id": "sZ06FoM18r76",
        "colab_type": "text"
      },
      "source": [
        "As you can see from the summary statistics, the three tenure, MonthlyCharges,\n",
        "and TotalCharges continuous variables all have different scales. The\n",
        "tenure variable, ranges from 1 to 72, while the TotalCharges variable , ranges\n",
        "from 18.8 to 8684.8. ANN models typically perform better with scaled or\n",
        "normalized features. Take a look at the following code for normalizing these three\n",
        "features:"
      ]
    },
    {
      "cell_type": "code",
      "metadata": {
        "id": "skmqV7Jq8JBZ",
        "colab_type": "code",
        "colab": {}
      },
      "source": [
        "df['MonthlyCharges'] = np.log(df['MonthlyCharges'])\n",
        "df['MonthlyCharges'] = (df['MonthlyCharges'] - df['MonthlyCharges'].mean())/df['MonthlyCharges'].std()\n",
        "\n",
        "df['TotalCharges'] = np.log(df['TotalCharges'])\n",
        "df['TotalCharges'] = (df['TotalCharges'] - df['TotalCharges'].mean())/df['TotalCharges'].std()\n",
        "\n",
        "df['tenure'] = (df['tenure'] - df['tenure'].mean())/df['tenure'].std()"
      ],
      "execution_count": null,
      "outputs": []
    },
    {
      "cell_type": "markdown",
      "metadata": {
        "id": "jTOnjK0X8pJU",
        "colab_type": "text"
      },
      "source": [
        "As you can see from this code, we apply log-transform first and then normalize\n",
        "the continuous variables by subtracting by the mean and dividing the values by\n",
        "standard deviations. The results look like the following:"
      ]
    },
    {
      "cell_type": "code",
      "metadata": {
        "id": "0hdyfTJe8PZt",
        "colab_type": "code",
        "colab": {
          "base_uri": "https://localhost:8080/",
          "height": 297
        },
        "outputId": "223e0aa5-2346-426b-9680-03c01b51493a"
      },
      "source": [
        "df[['tenure', 'MonthlyCharges', 'TotalCharges']].describe()"
      ],
      "execution_count": null,
      "outputs": [
        {
          "output_type": "execute_result",
          "data": {
            "text/html": [
              "<div>\n",
              "<style scoped>\n",
              "    .dataframe tbody tr th:only-of-type {\n",
              "        vertical-align: middle;\n",
              "    }\n",
              "\n",
              "    .dataframe tbody tr th {\n",
              "        vertical-align: top;\n",
              "    }\n",
              "\n",
              "    .dataframe thead th {\n",
              "        text-align: right;\n",
              "    }\n",
              "</style>\n",
              "<table border=\"1\" class=\"dataframe\">\n",
              "  <thead>\n",
              "    <tr style=\"text-align: right;\">\n",
              "      <th></th>\n",
              "      <th>tenure</th>\n",
              "      <th>MonthlyCharges</th>\n",
              "      <th>TotalCharges</th>\n",
              "    </tr>\n",
              "  </thead>\n",
              "  <tbody>\n",
              "    <tr>\n",
              "      <th>count</th>\n",
              "      <td>7.032000e+03</td>\n",
              "      <td>7.032000e+03</td>\n",
              "      <td>7.032000e+03</td>\n",
              "    </tr>\n",
              "    <tr>\n",
              "      <th>mean</th>\n",
              "      <td>-1.028756e-16</td>\n",
              "      <td>4.688495e-14</td>\n",
              "      <td>7.150708e-15</td>\n",
              "    </tr>\n",
              "    <tr>\n",
              "      <th>std</th>\n",
              "      <td>1.000000e+00</td>\n",
              "      <td>1.000000e+00</td>\n",
              "      <td>1.000000e+00</td>\n",
              "    </tr>\n",
              "    <tr>\n",
              "      <th>min</th>\n",
              "      <td>-1.280157e+00</td>\n",
              "      <td>-1.882268e+00</td>\n",
              "      <td>-2.579056e+00</td>\n",
              "    </tr>\n",
              "    <tr>\n",
              "      <th>25%</th>\n",
              "      <td>-9.542285e-01</td>\n",
              "      <td>-7.583727e-01</td>\n",
              "      <td>-6.080585e-01</td>\n",
              "    </tr>\n",
              "    <tr>\n",
              "      <th>50%</th>\n",
              "      <td>-1.394072e-01</td>\n",
              "      <td>3.885103e-01</td>\n",
              "      <td>1.950521e-01</td>\n",
              "    </tr>\n",
              "    <tr>\n",
              "      <th>75%</th>\n",
              "      <td>9.198605e-01</td>\n",
              "      <td>8.004829e-01</td>\n",
              "      <td>8.382338e-01</td>\n",
              "    </tr>\n",
              "    <tr>\n",
              "      <th>max</th>\n",
              "      <td>1.612459e+00</td>\n",
              "      <td>1.269576e+00</td>\n",
              "      <td>1.371323e+00</td>\n",
              "    </tr>\n",
              "  </tbody>\n",
              "</table>\n",
              "</div>"
            ],
            "text/plain": [
              "             tenure  MonthlyCharges  TotalCharges\n",
              "count  7.032000e+03    7.032000e+03  7.032000e+03\n",
              "mean  -1.028756e-16    4.688495e-14  7.150708e-15\n",
              "std    1.000000e+00    1.000000e+00  1.000000e+00\n",
              "min   -1.280157e+00   -1.882268e+00 -2.579056e+00\n",
              "25%   -9.542285e-01   -7.583727e-01 -6.080585e-01\n",
              "50%   -1.394072e-01    3.885103e-01  1.950521e-01\n",
              "75%    9.198605e-01    8.004829e-01  8.382338e-01\n",
              "max    1.612459e+00    1.269576e+00  1.371323e+00"
            ]
          },
          "metadata": {
            "tags": []
          },
          "execution_count": 13
        }
      ]
    },
    {
      "cell_type": "code",
      "metadata": {
        "id": "ITLuNlnO8Q0_",
        "colab_type": "code",
        "colab": {
          "base_uri": "https://localhost:8080/",
          "height": 309
        },
        "outputId": "e8382676-422f-4598-d2ed-defaa31a30cc"
      },
      "source": [
        "df.head()"
      ],
      "execution_count": null,
      "outputs": [
        {
          "output_type": "execute_result",
          "data": {
            "text/html": [
              "<div>\n",
              "<style scoped>\n",
              "    .dataframe tbody tr th:only-of-type {\n",
              "        vertical-align: middle;\n",
              "    }\n",
              "\n",
              "    .dataframe tbody tr th {\n",
              "        vertical-align: top;\n",
              "    }\n",
              "\n",
              "    .dataframe thead th {\n",
              "        text-align: right;\n",
              "    }\n",
              "</style>\n",
              "<table border=\"1\" class=\"dataframe\">\n",
              "  <thead>\n",
              "    <tr style=\"text-align: right;\">\n",
              "      <th></th>\n",
              "      <th>customerID</th>\n",
              "      <th>gender</th>\n",
              "      <th>SeniorCitizen</th>\n",
              "      <th>Partner</th>\n",
              "      <th>Dependents</th>\n",
              "      <th>tenure</th>\n",
              "      <th>PhoneService</th>\n",
              "      <th>MultipleLines</th>\n",
              "      <th>InternetService</th>\n",
              "      <th>OnlineSecurity</th>\n",
              "      <th>OnlineBackup</th>\n",
              "      <th>DeviceProtection</th>\n",
              "      <th>TechSupport</th>\n",
              "      <th>StreamingTV</th>\n",
              "      <th>StreamingMovies</th>\n",
              "      <th>Contract</th>\n",
              "      <th>PaperlessBilling</th>\n",
              "      <th>PaymentMethod</th>\n",
              "      <th>MonthlyCharges</th>\n",
              "      <th>TotalCharges</th>\n",
              "      <th>Churn</th>\n",
              "    </tr>\n",
              "  </thead>\n",
              "  <tbody>\n",
              "    <tr>\n",
              "      <th>0</th>\n",
              "      <td>7590-VHVEG</td>\n",
              "      <td>Female</td>\n",
              "      <td>0</td>\n",
              "      <td>Yes</td>\n",
              "      <td>No</td>\n",
              "      <td>-1.280157</td>\n",
              "      <td>No</td>\n",
              "      <td>No phone service</td>\n",
              "      <td>DSL</td>\n",
              "      <td>No</td>\n",
              "      <td>Yes</td>\n",
              "      <td>No</td>\n",
              "      <td>No</td>\n",
              "      <td>No</td>\n",
              "      <td>No</td>\n",
              "      <td>Month-to-month</td>\n",
              "      <td>Yes</td>\n",
              "      <td>Electronic check</td>\n",
              "      <td>-1.054244</td>\n",
              "      <td>-2.281382</td>\n",
              "      <td>0</td>\n",
              "    </tr>\n",
              "    <tr>\n",
              "      <th>1</th>\n",
              "      <td>5575-GNVDE</td>\n",
              "      <td>Male</td>\n",
              "      <td>0</td>\n",
              "      <td>No</td>\n",
              "      <td>No</td>\n",
              "      <td>0.064298</td>\n",
              "      <td>Yes</td>\n",
              "      <td>No</td>\n",
              "      <td>DSL</td>\n",
              "      <td>Yes</td>\n",
              "      <td>No</td>\n",
              "      <td>Yes</td>\n",
              "      <td>No</td>\n",
              "      <td>No</td>\n",
              "      <td>No</td>\n",
              "      <td>One year</td>\n",
              "      <td>No</td>\n",
              "      <td>Mailed check</td>\n",
              "      <td>0.032896</td>\n",
              "      <td>0.389269</td>\n",
              "      <td>0</td>\n",
              "    </tr>\n",
              "    <tr>\n",
              "      <th>2</th>\n",
              "      <td>3668-QPYBK</td>\n",
              "      <td>Male</td>\n",
              "      <td>0</td>\n",
              "      <td>No</td>\n",
              "      <td>No</td>\n",
              "      <td>-1.239416</td>\n",
              "      <td>Yes</td>\n",
              "      <td>No</td>\n",
              "      <td>DSL</td>\n",
              "      <td>Yes</td>\n",
              "      <td>Yes</td>\n",
              "      <td>No</td>\n",
              "      <td>No</td>\n",
              "      <td>No</td>\n",
              "      <td>No</td>\n",
              "      <td>Month-to-month</td>\n",
              "      <td>Yes</td>\n",
              "      <td>Mailed check</td>\n",
              "      <td>-0.061298</td>\n",
              "      <td>-1.452520</td>\n",
              "      <td>1</td>\n",
              "    </tr>\n",
              "    <tr>\n",
              "      <th>3</th>\n",
              "      <td>7795-CFOCW</td>\n",
              "      <td>Male</td>\n",
              "      <td>0</td>\n",
              "      <td>No</td>\n",
              "      <td>No</td>\n",
              "      <td>0.512450</td>\n",
              "      <td>No</td>\n",
              "      <td>No phone service</td>\n",
              "      <td>DSL</td>\n",
              "      <td>Yes</td>\n",
              "      <td>No</td>\n",
              "      <td>Yes</td>\n",
              "      <td>Yes</td>\n",
              "      <td>No</td>\n",
              "      <td>No</td>\n",
              "      <td>One year</td>\n",
              "      <td>No</td>\n",
              "      <td>Bank transfer (automatic)</td>\n",
              "      <td>-0.467578</td>\n",
              "      <td>0.372439</td>\n",
              "      <td>0</td>\n",
              "    </tr>\n",
              "    <tr>\n",
              "      <th>4</th>\n",
              "      <td>9237-HQITU</td>\n",
              "      <td>Female</td>\n",
              "      <td>0</td>\n",
              "      <td>No</td>\n",
              "      <td>No</td>\n",
              "      <td>-1.239416</td>\n",
              "      <td>Yes</td>\n",
              "      <td>No</td>\n",
              "      <td>Fiber optic</td>\n",
              "      <td>No</td>\n",
              "      <td>No</td>\n",
              "      <td>No</td>\n",
              "      <td>No</td>\n",
              "      <td>No</td>\n",
              "      <td>No</td>\n",
              "      <td>Month-to-month</td>\n",
              "      <td>Yes</td>\n",
              "      <td>Electronic check</td>\n",
              "      <td>0.396862</td>\n",
              "      <td>-1.234860</td>\n",
              "      <td>1</td>\n",
              "    </tr>\n",
              "  </tbody>\n",
              "</table>\n",
              "</div>"
            ],
            "text/plain": [
              "   customerID  gender  SeniorCitizen  ... MonthlyCharges TotalCharges  Churn\n",
              "0  7590-VHVEG  Female              0  ...      -1.054244    -2.281382      0\n",
              "1  5575-GNVDE    Male              0  ...       0.032896     0.389269      0\n",
              "2  3668-QPYBK    Male              0  ...      -0.061298    -1.452520      1\n",
              "3  7795-CFOCW    Male              0  ...      -0.467578     0.372439      0\n",
              "4  9237-HQITU  Female              0  ...       0.396862    -1.234860      1\n",
              "\n",
              "[5 rows x 21 columns]"
            ]
          },
          "metadata": {
            "tags": []
          },
          "execution_count": 14
        }
      ]
    },
    {
      "cell_type": "markdown",
      "metadata": {
        "id": "nkTsKzlX88XZ",
        "colab_type": "text"
      },
      "source": [
        "As you see from this output, all the variables now have a mean of 0 and a\n",
        "standard deviation of 1. We are going to use these normalized variables for future\n",
        "model building."
      ]
    },
    {
      "cell_type": "markdown",
      "metadata": {
        "id": "Es6QBS-r9Ek6",
        "colab_type": "text"
      },
      "source": [
        "# One hot encoding"
      ]
    },
    {
      "cell_type": "code",
      "metadata": {
        "id": "V-I4Uxdv-SSx",
        "colab_type": "code",
        "colab": {
          "base_uri": "https://localhost:8080/",
          "height": 391
        },
        "outputId": "f315baea-1022-4489-af3c-a34f4a4f16b7"
      },
      "source": [
        "df.dtypes"
      ],
      "execution_count": null,
      "outputs": [
        {
          "output_type": "execute_result",
          "data": {
            "text/plain": [
              "customerID           object\n",
              "gender               object\n",
              "SeniorCitizen         int64\n",
              "Partner              object\n",
              "Dependents           object\n",
              "tenure              float64\n",
              "PhoneService         object\n",
              "MultipleLines        object\n",
              "InternetService      object\n",
              "OnlineSecurity       object\n",
              "OnlineBackup         object\n",
              "DeviceProtection     object\n",
              "TechSupport          object\n",
              "StreamingTV          object\n",
              "StreamingMovies      object\n",
              "Contract             object\n",
              "PaperlessBilling     object\n",
              "PaymentMethod        object\n",
              "MonthlyCharges      float64\n",
              "TotalCharges        float64\n",
              "Churn                 int64\n",
              "dtype: object"
            ]
          },
          "metadata": {
            "tags": []
          },
          "execution_count": 15
        }
      ]
    },
    {
      "cell_type": "code",
      "metadata": {
        "id": "zkTfDiC28Wuw",
        "colab_type": "code",
        "colab": {
          "base_uri": "https://localhost:8080/",
          "height": 408
        },
        "outputId": "fb8ff0ef-4e11-4e45-bdb3-ae625310f56d"
      },
      "source": [
        "print(df.shape)\n",
        "df.nunique()"
      ],
      "execution_count": null,
      "outputs": [
        {
          "output_type": "stream",
          "text": [
            "(7032, 21)\n"
          ],
          "name": "stdout"
        },
        {
          "output_type": "execute_result",
          "data": {
            "text/plain": [
              "customerID          7032\n",
              "gender                 2\n",
              "SeniorCitizen          2\n",
              "Partner                2\n",
              "Dependents             2\n",
              "tenure                72\n",
              "PhoneService           2\n",
              "MultipleLines          3\n",
              "InternetService        3\n",
              "OnlineSecurity         3\n",
              "OnlineBackup           3\n",
              "DeviceProtection       3\n",
              "TechSupport            3\n",
              "StreamingTV            3\n",
              "StreamingMovies        3\n",
              "Contract               3\n",
              "PaperlessBilling       2\n",
              "PaymentMethod          4\n",
              "MonthlyCharges      1584\n",
              "TotalCharges        6530\n",
              "Churn                  2\n",
              "dtype: int64"
            ]
          },
          "metadata": {
            "tags": []
          },
          "execution_count": 16
        }
      ]
    },
    {
      "cell_type": "markdown",
      "metadata": {
        "id": "PN-7tAv89dYa",
        "colab_type": "text"
      },
      "source": [
        "As this output suggests, there are 7032 unique customer IDs, 2 unique genders, 3 unique\n",
        "values for MultipleLines, and 6530 unique values for TotalCharges. We have handled\n",
        "the tenure, MonthlyCharges, and TotalCharges variables, in the previous step, so we\n",
        "are going to focus on those variables with 2 to 4 unique values"
      ]
    },
    {
      "cell_type": "code",
      "metadata": {
        "id": "AOpz4ct09J8z",
        "colab_type": "code",
        "colab": {
          "base_uri": "https://localhost:8080/",
          "height": 1000
        },
        "outputId": "776109ca-9683-45cb-be9b-db9b26177218"
      },
      "source": [
        "df.groupby('gender').count()['customerID'].plot(\n",
        "    kind='bar', color='skyblue', grid=True, figsize=(8,6), title='Gender'\n",
        ")\n",
        "plt.show()\n",
        "\n",
        "df.groupby('InternetService').count()['customerID'].plot(\n",
        "    kind='bar', color='skyblue', grid=True, figsize=(8,6), title='Internet Service'\n",
        ")\n",
        "plt.show()\n",
        "\n",
        "df.groupby('PaymentMethod').count()['customerID'].plot(\n",
        "    kind='bar', color='skyblue', grid=True, figsize=(8,6), title='Payment Method'\n",
        ")\n",
        "plt.show()"
      ],
      "execution_count": null,
      "outputs": [
        {
          "output_type": "display_data",
          "data": {
            "image/png": "[encoded data removed]",
            "text/plain": [
              "<Figure size 576x432 with 1 Axes>"
            ]
          },
          "metadata": {
            "tags": [],
            "needs_background": "light"
          }
        },
        {
          "output_type": "display_data",
          "data": {
            "image/png": "[encoded data removed]",
            "text/plain": [
              "<Figure size 576x432 with 1 Axes>"
            ]
          },
          "metadata": {
            "tags": [],
            "needs_background": "light"
          }
        },
        {
          "output_type": "display_data",
          "data": {
            "image/png": "[encoded data removed]",
            "text/plain": [
              "<Figure size 576x432 with 1 Axes>"
            ]
          },
          "metadata": {
            "tags": [],
            "needs_background": "light"
          }
        }
      ]
    },
    {
      "cell_type": "code",
      "metadata": {
        "id": "t8tEq72C9U1J",
        "colab_type": "code",
        "colab": {
          "base_uri": "https://localhost:8080/",
          "height": 413
        },
        "outputId": "5a36693e-2b12-4139-e0f5-0969111db9cb"
      },
      "source": [
        "dummy_cols = []\n",
        "\n",
        "sample_set = df[['tenure', 'MonthlyCharges', 'TotalCharges', 'Churn']].copy(deep=True)\n",
        "\n",
        "for col in list(df.columns):\n",
        "    if col not in ['tenure', 'MonthlyCharges', 'TotalCharges', 'Churn'] and df[col].nunique() < 5:\n",
        "        dummy_vars = pd.get_dummies(df[col])\n",
        "        dummy_vars.columns = [col+str(x) for x in dummy_vars.columns]        \n",
        "        sample_set = pd.concat([sample_set, dummy_vars], axis=1)\n",
        "sample_set.head(10)"
      ],
      "execution_count": null,
      "outputs": [
        {
          "output_type": "execute_result",
          "data": {
            "text/html": [
              "<div>\n",
              "<style scoped>\n",
              "    .dataframe tbody tr th:only-of-type {\n",
              "        vertical-align: middle;\n",
              "    }\n",
              "\n",
              "    .dataframe tbody tr th {\n",
              "        vertical-align: top;\n",
              "    }\n",
              "\n",
              "    .dataframe thead th {\n",
              "        text-align: right;\n",
              "    }\n",
              "</style>\n",
              "<table border=\"1\" class=\"dataframe\">\n",
              "  <thead>\n",
              "    <tr style=\"text-align: right;\">\n",
              "      <th></th>\n",
              "      <th>tenure</th>\n",
              "      <th>MonthlyCharges</th>\n",
              "      <th>TotalCharges</th>\n",
              "      <th>Churn</th>\n",
              "      <th>genderFemale</th>\n",
              "      <th>genderMale</th>\n",
              "      <th>SeniorCitizen0</th>\n",
              "      <th>SeniorCitizen1</th>\n",
              "      <th>PartnerNo</th>\n",
              "      <th>PartnerYes</th>\n",
              "      <th>DependentsNo</th>\n",
              "      <th>DependentsYes</th>\n",
              "      <th>PhoneServiceNo</th>\n",
              "      <th>PhoneServiceYes</th>\n",
              "      <th>MultipleLinesNo</th>\n",
              "      <th>MultipleLinesNo phone service</th>\n",
              "      <th>MultipleLinesYes</th>\n",
              "      <th>InternetServiceDSL</th>\n",
              "      <th>InternetServiceFiber optic</th>\n",
              "      <th>InternetServiceNo</th>\n",
              "      <th>OnlineSecurityNo</th>\n",
              "      <th>OnlineSecurityNo internet service</th>\n",
              "      <th>OnlineSecurityYes</th>\n",
              "      <th>OnlineBackupNo</th>\n",
              "      <th>OnlineBackupNo internet service</th>\n",
              "      <th>OnlineBackupYes</th>\n",
              "      <th>DeviceProtectionNo</th>\n",
              "      <th>DeviceProtectionNo internet service</th>\n",
              "      <th>DeviceProtectionYes</th>\n",
              "      <th>TechSupportNo</th>\n",
              "      <th>TechSupportNo internet service</th>\n",
              "      <th>TechSupportYes</th>\n",
              "      <th>StreamingTVNo</th>\n",
              "      <th>StreamingTVNo internet service</th>\n",
              "      <th>StreamingTVYes</th>\n",
              "      <th>StreamingMoviesNo</th>\n",
              "      <th>StreamingMoviesNo internet service</th>\n",
              "      <th>StreamingMoviesYes</th>\n",
              "      <th>ContractMonth-to-month</th>\n",
              "      <th>ContractOne year</th>\n",
              "      <th>ContractTwo year</th>\n",
              "      <th>PaperlessBillingNo</th>\n",
              "      <th>PaperlessBillingYes</th>\n",
              "      <th>PaymentMethodBank transfer (automatic)</th>\n",
              "      <th>PaymentMethodCredit card (automatic)</th>\n",
              "      <th>PaymentMethodElectronic check</th>\n",
              "      <th>PaymentMethodMailed check</th>\n",
              "    </tr>\n",
              "  </thead>\n",
              "  <tbody>\n",
              "    <tr>\n",
              "      <th>0</th>\n",
              "      <td>-1.280157</td>\n",
              "      <td>-1.054244</td>\n",
              "      <td>-2.281382</td>\n",
              "      <td>0</td>\n",
              "      <td>1</td>\n",
              "      <td>0</td>\n",
              "      <td>1</td>\n",
              "      <td>0</td>\n",
              "      <td>0</td>\n",
              "      <td>1</td>\n",
              "      <td>1</td>\n",
              "      <td>0</td>\n",
              "      <td>1</td>\n",
              "      <td>0</td>\n",
              "      <td>0</td>\n",
              "      <td>1</td>\n",
              "      <td>0</td>\n",
              "      <td>1</td>\n",
              "      <td>0</td>\n",
              "      <td>0</td>\n",
              "      <td>1</td>\n",
              "      <td>0</td>\n",
              "      <td>0</td>\n",
              "      <td>0</td>\n",
              "      <td>0</td>\n",
              "      <td>1</td>\n",
              "      <td>1</td>\n",
              "      <td>0</td>\n",
              "      <td>0</td>\n",
              "      <td>1</td>\n",
              "      <td>0</td>\n",
              "      <td>0</td>\n",
              "      <td>1</td>\n",
              "      <td>0</td>\n",
              "      <td>0</td>\n",
              "      <td>1</td>\n",
              "      <td>0</td>\n",
              "      <td>0</td>\n",
              "      <td>1</td>\n",
              "      <td>0</td>\n",
              "      <td>0</td>\n",
              "      <td>0</td>\n",
              "      <td>1</td>\n",
              "      <td>0</td>\n",
              "      <td>0</td>\n",
              "      <td>1</td>\n",
              "      <td>0</td>\n",
              "    </tr>\n",
              "    <tr>\n",
              "      <th>1</th>\n",
              "      <td>0.064298</td>\n",
              "      <td>0.032896</td>\n",
              "      <td>0.389269</td>\n",
              "      <td>0</td>\n",
              "      <td>0</td>\n",
              "      <td>1</td>\n",
              "      <td>1</td>\n",
              "      <td>0</td>\n",
              "      <td>1</td>\n",
              "      <td>0</td>\n",
              "      <td>1</td>\n",
              "      <td>0</td>\n",
              "      <td>0</td>\n",
              "      <td>1</td>\n",
              "      <td>1</td>\n",
              "      <td>0</td>\n",
              "      <td>0</td>\n",
              "      <td>1</td>\n",
              "      <td>0</td>\n",
              "      <td>0</td>\n",
              "      <td>0</td>\n",
              "      <td>0</td>\n",
              "      <td>1</td>\n",
              "      <td>1</td>\n",
              "      <td>0</td>\n",
              "      <td>0</td>\n",
              "      <td>0</td>\n",
              "      <td>0</td>\n",
              "      <td>1</td>\n",
              "      <td>1</td>\n",
              "      <td>0</td>\n",
              "      <td>0</td>\n",
              "      <td>1</td>\n",
              "      <td>0</td>\n",
              "      <td>0</td>\n",
              "      <td>1</td>\n",
              "      <td>0</td>\n",
              "      <td>0</td>\n",
              "      <td>0</td>\n",
              "      <td>1</td>\n",
              "      <td>0</td>\n",
              "      <td>1</td>\n",
              "      <td>0</td>\n",
              "      <td>0</td>\n",
              "      <td>0</td>\n",
              "      <td>0</td>\n",
              "      <td>1</td>\n",
              "    </tr>\n",
              "    <tr>\n",
              "      <th>2</th>\n",
              "      <td>-1.239416</td>\n",
              "      <td>-0.061298</td>\n",
              "      <td>-1.452520</td>\n",
              "      <td>1</td>\n",
              "      <td>0</td>\n",
              "      <td>1</td>\n",
              "      <td>1</td>\n",
              "      <td>0</td>\n",
              "      <td>1</td>\n",
              "      <td>0</td>\n",
              "      <td>1</td>\n",
              "      <td>0</td>\n",
              "      <td>0</td>\n",
              "      <td>1</td>\n",
              "      <td>1</td>\n",
              "      <td>0</td>\n",
              "      <td>0</td>\n",
              "      <td>1</td>\n",
              "      <td>0</td>\n",
              "      <td>0</td>\n",
              "      <td>0</td>\n",
              "      <td>0</td>\n",
              "      <td>1</td>\n",
              "      <td>0</td>\n",
              "      <td>0</td>\n",
              "      <td>1</td>\n",
              "      <td>1</td>\n",
              "      <td>0</td>\n",
              "      <td>0</td>\n",
              "      <td>1</td>\n",
              "      <td>0</td>\n",
              "      <td>0</td>\n",
              "      <td>1</td>\n",
              "      <td>0</td>\n",
              "      <td>0</td>\n",
              "      <td>1</td>\n",
              "      <td>0</td>\n",
              "      <td>0</td>\n",
              "      <td>1</td>\n",
              "      <td>0</td>\n",
              "      <td>0</td>\n",
              "      <td>0</td>\n",
              "      <td>1</td>\n",
              "      <td>0</td>\n",
              "      <td>0</td>\n",
              "      <td>0</td>\n",
              "      <td>1</td>\n",
              "    </tr>\n",
              "    <tr>\n",
              "      <th>3</th>\n",
              "      <td>0.512450</td>\n",
              "      <td>-0.467578</td>\n",
              "      <td>0.372439</td>\n",
              "      <td>0</td>\n",
              "      <td>0</td>\n",
              "      <td>1</td>\n",
              "      <td>1</td>\n",
              "      <td>0</td>\n",
              "      <td>1</td>\n",
              "      <td>0</td>\n",
              "      <td>1</td>\n",
              "      <td>0</td>\n",
              "      <td>1</td>\n",
              "      <td>0</td>\n",
              "      <td>0</td>\n",
              "      <td>1</td>\n",
              "      <td>0</td>\n",
              "      <td>1</td>\n",
              "      <td>0</td>\n",
              "      <td>0</td>\n",
              "      <td>0</td>\n",
              "      <td>0</td>\n",
              "      <td>1</td>\n",
              "      <td>1</td>\n",
              "      <td>0</td>\n",
              "      <td>0</td>\n",
              "      <td>0</td>\n",
              "      <td>0</td>\n",
              "      <td>1</td>\n",
              "      <td>0</td>\n",
              "      <td>0</td>\n",
              "      <td>1</td>\n",
              "      <td>1</td>\n",
              "      <td>0</td>\n",
              "      <td>0</td>\n",
              "      <td>1</td>\n",
              "      <td>0</td>\n",
              "      <td>0</td>\n",
              "      <td>0</td>\n",
              "      <td>1</td>\n",
              "      <td>0</td>\n",
              "      <td>1</td>\n",
              "      <td>0</td>\n",
              "      <td>1</td>\n",
              "      <td>0</td>\n",
              "      <td>0</td>\n",
              "      <td>0</td>\n",
              "    </tr>\n",
              "    <tr>\n",
              "      <th>4</th>\n",
              "      <td>-1.239416</td>\n",
              "      <td>0.396862</td>\n",
              "      <td>-1.234860</td>\n",
              "      <td>1</td>\n",
              "      <td>1</td>\n",
              "      <td>0</td>\n",
              "      <td>1</td>\n",
              "      <td>0</td>\n",
              "      <td>1</td>\n",
              "      <td>0</td>\n",
              "      <td>1</td>\n",
              "      <td>0</td>\n",
              "      <td>0</td>\n",
              "      <td>1</td>\n",
              "      <td>1</td>\n",
              "      <td>0</td>\n",
              "      <td>0</td>\n",
              "      <td>0</td>\n",
              "      <td>1</td>\n",
              "      <td>0</td>\n",
              "      <td>1</td>\n",
              "      <td>0</td>\n",
              "      <td>0</td>\n",
              "      <td>1</td>\n",
              "      <td>0</td>\n",
              "      <td>0</td>\n",
              "      <td>1</td>\n",
              "      <td>0</td>\n",
              "      <td>0</td>\n",
              "      <td>1</td>\n",
              "      <td>0</td>\n",
              "      <td>0</td>\n",
              "      <td>1</td>\n",
              "      <td>0</td>\n",
              "      <td>0</td>\n",
              "      <td>1</td>\n",
              "      <td>0</td>\n",
              "      <td>0</td>\n",
              "      <td>1</td>\n",
              "      <td>0</td>\n",
              "      <td>0</td>\n",
              "      <td>0</td>\n",
              "      <td>1</td>\n",
              "      <td>0</td>\n",
              "      <td>0</td>\n",
              "      <td>1</td>\n",
              "      <td>0</td>\n",
              "    </tr>\n",
              "    <tr>\n",
              "      <th>5</th>\n",
              "      <td>-0.994970</td>\n",
              "      <td>0.974468</td>\n",
              "      <td>-0.147808</td>\n",
              "      <td>1</td>\n",
              "      <td>1</td>\n",
              "      <td>0</td>\n",
              "      <td>1</td>\n",
              "      <td>0</td>\n",
              "      <td>1</td>\n",
              "      <td>0</td>\n",
              "      <td>1</td>\n",
              "      <td>0</td>\n",
              "      <td>0</td>\n",
              "      <td>1</td>\n",
              "      <td>0</td>\n",
              "      <td>0</td>\n",
              "      <td>1</td>\n",
              "      <td>0</td>\n",
              "      <td>1</td>\n",
              "      <td>0</td>\n",
              "      <td>1</td>\n",
              "      <td>0</td>\n",
              "      <td>0</td>\n",
              "      <td>1</td>\n",
              "      <td>0</td>\n",
              "      <td>0</td>\n",
              "      <td>0</td>\n",
              "      <td>0</td>\n",
              "      <td>1</td>\n",
              "      <td>1</td>\n",
              "      <td>0</td>\n",
              "      <td>0</td>\n",
              "      <td>0</td>\n",
              "      <td>0</td>\n",
              "      <td>1</td>\n",
              "      <td>0</td>\n",
              "      <td>0</td>\n",
              "      <td>1</td>\n",
              "      <td>1</td>\n",
              "      <td>0</td>\n",
              "      <td>0</td>\n",
              "      <td>0</td>\n",
              "      <td>1</td>\n",
              "      <td>0</td>\n",
              "      <td>0</td>\n",
              "      <td>1</td>\n",
              "      <td>0</td>\n",
              "    </tr>\n",
              "    <tr>\n",
              "      <th>6</th>\n",
              "      <td>-0.424595</td>\n",
              "      <td>0.786142</td>\n",
              "      <td>0.409363</td>\n",
              "      <td>0</td>\n",
              "      <td>0</td>\n",
              "      <td>1</td>\n",
              "      <td>1</td>\n",
              "      <td>0</td>\n",
              "      <td>1</td>\n",
              "      <td>0</td>\n",
              "      <td>0</td>\n",
              "      <td>1</td>\n",
              "      <td>0</td>\n",
              "      <td>1</td>\n",
              "      <td>0</td>\n",
              "      <td>0</td>\n",
              "      <td>1</td>\n",
              "      <td>0</td>\n",
              "      <td>1</td>\n",
              "      <td>0</td>\n",
              "      <td>1</td>\n",
              "      <td>0</td>\n",
              "      <td>0</td>\n",
              "      <td>0</td>\n",
              "      <td>0</td>\n",
              "      <td>1</td>\n",
              "      <td>1</td>\n",
              "      <td>0</td>\n",
              "      <td>0</td>\n",
              "      <td>1</td>\n",
              "      <td>0</td>\n",
              "      <td>0</td>\n",
              "      <td>0</td>\n",
              "      <td>0</td>\n",
              "      <td>1</td>\n",
              "      <td>1</td>\n",
              "      <td>0</td>\n",
              "      <td>0</td>\n",
              "      <td>1</td>\n",
              "      <td>0</td>\n",
              "      <td>0</td>\n",
              "      <td>0</td>\n",
              "      <td>1</td>\n",
              "      <td>0</td>\n",
              "      <td>1</td>\n",
              "      <td>0</td>\n",
              "      <td>0</td>\n",
              "    </tr>\n",
              "    <tr>\n",
              "      <th>7</th>\n",
              "      <td>-0.913487</td>\n",
              "      <td>-1.059891</td>\n",
              "      <td>-0.791550</td>\n",
              "      <td>0</td>\n",
              "      <td>1</td>\n",
              "      <td>0</td>\n",
              "      <td>1</td>\n",
              "      <td>0</td>\n",
              "      <td>1</td>\n",
              "      <td>0</td>\n",
              "      <td>1</td>\n",
              "      <td>0</td>\n",
              "      <td>1</td>\n",
              "      <td>0</td>\n",
              "      <td>0</td>\n",
              "      <td>1</td>\n",
              "      <td>0</td>\n",
              "      <td>1</td>\n",
              "      <td>0</td>\n",
              "      <td>0</td>\n",
              "      <td>0</td>\n",
              "      <td>0</td>\n",
              "      <td>1</td>\n",
              "      <td>1</td>\n",
              "      <td>0</td>\n",
              "      <td>0</td>\n",
              "      <td>1</td>\n",
              "      <td>0</td>\n",
              "      <td>0</td>\n",
              "      <td>1</td>\n",
              "      <td>0</td>\n",
              "      <td>0</td>\n",
              "      <td>1</td>\n",
              "      <td>0</td>\n",
              "      <td>0</td>\n",
              "      <td>1</td>\n",
              "      <td>0</td>\n",
              "      <td>0</td>\n",
              "      <td>1</td>\n",
              "      <td>0</td>\n",
              "      <td>0</td>\n",
              "      <td>1</td>\n",
              "      <td>0</td>\n",
              "      <td>0</td>\n",
              "      <td>0</td>\n",
              "      <td>0</td>\n",
              "      <td>1</td>\n",
              "    </tr>\n",
              "    <tr>\n",
              "      <th>8</th>\n",
              "      <td>-0.180148</td>\n",
              "      <td>1.059269</td>\n",
              "      <td>0.696733</td>\n",
              "      <td>1</td>\n",
              "      <td>1</td>\n",
              "      <td>0</td>\n",
              "      <td>1</td>\n",
              "      <td>0</td>\n",
              "      <td>0</td>\n",
              "      <td>1</td>\n",
              "      <td>1</td>\n",
              "      <td>0</td>\n",
              "      <td>0</td>\n",
              "      <td>1</td>\n",
              "      <td>0</td>\n",
              "      <td>0</td>\n",
              "      <td>1</td>\n",
              "      <td>0</td>\n",
              "      <td>1</td>\n",
              "      <td>0</td>\n",
              "      <td>1</td>\n",
              "      <td>0</td>\n",
              "      <td>0</td>\n",
              "      <td>1</td>\n",
              "      <td>0</td>\n",
              "      <td>0</td>\n",
              "      <td>0</td>\n",
              "      <td>0</td>\n",
              "      <td>1</td>\n",
              "      <td>0</td>\n",
              "      <td>0</td>\n",
              "      <td>1</td>\n",
              "      <td>0</td>\n",
              "      <td>0</td>\n",
              "      <td>1</td>\n",
              "      <td>0</td>\n",
              "      <td>0</td>\n",
              "      <td>1</td>\n",
              "      <td>1</td>\n",
              "      <td>0</td>\n",
              "      <td>0</td>\n",
              "      <td>0</td>\n",
              "      <td>1</td>\n",
              "      <td>0</td>\n",
              "      <td>0</td>\n",
              "      <td>1</td>\n",
              "      <td>0</td>\n",
              "    </tr>\n",
              "    <tr>\n",
              "      <th>9</th>\n",
              "      <td>1.205048</td>\n",
              "      <td>0.009088</td>\n",
              "      <td>0.783956</td>\n",
              "      <td>0</td>\n",
              "      <td>0</td>\n",
              "      <td>1</td>\n",
              "      <td>1</td>\n",
              "      <td>0</td>\n",
              "      <td>1</td>\n",
              "      <td>0</td>\n",
              "      <td>0</td>\n",
              "      <td>1</td>\n",
              "      <td>0</td>\n",
              "      <td>1</td>\n",
              "      <td>1</td>\n",
              "      <td>0</td>\n",
              "      <td>0</td>\n",
              "      <td>1</td>\n",
              "      <td>0</td>\n",
              "      <td>0</td>\n",
              "      <td>0</td>\n",
              "      <td>0</td>\n",
              "      <td>1</td>\n",
              "      <td>0</td>\n",
              "      <td>0</td>\n",
              "      <td>1</td>\n",
              "      <td>1</td>\n",
              "      <td>0</td>\n",
              "      <td>0</td>\n",
              "      <td>1</td>\n",
              "      <td>0</td>\n",
              "      <td>0</td>\n",
              "      <td>1</td>\n",
              "      <td>0</td>\n",
              "      <td>0</td>\n",
              "      <td>1</td>\n",
              "      <td>0</td>\n",
              "      <td>0</td>\n",
              "      <td>0</td>\n",
              "      <td>1</td>\n",
              "      <td>0</td>\n",
              "      <td>1</td>\n",
              "      <td>0</td>\n",
              "      <td>1</td>\n",
              "      <td>0</td>\n",
              "      <td>0</td>\n",
              "      <td>0</td>\n",
              "    </tr>\n",
              "  </tbody>\n",
              "</table>\n",
              "</div>"
            ],
            "text/plain": [
              "     tenure  ...  PaymentMethodMailed check\n",
              "0 -1.280157  ...                          0\n",
              "1  0.064298  ...                          1\n",
              "2 -1.239416  ...                          1\n",
              "3  0.512450  ...                          0\n",
              "4 -1.239416  ...                          0\n",
              "5 -0.994970  ...                          0\n",
              "6 -0.424595  ...                          0\n",
              "7 -0.913487  ...                          1\n",
              "8 -0.180148  ...                          0\n",
              "9  1.205048  ...                          0\n",
              "\n",
              "[10 rows x 47 columns]"
            ]
          },
          "metadata": {
            "tags": []
          },
          "execution_count": 18
        }
      ]
    },
    {
      "cell_type": "code",
      "metadata": {
        "id": "IBfS1Tf--pAt",
        "colab_type": "code",
        "colab": {
          "base_uri": "https://localhost:8080/",
          "height": 34
        },
        "outputId": "124e26d2-6693-4457-8cde-2747b52771c8"
      },
      "source": [
        "sample_set.shape"
      ],
      "execution_count": null,
      "outputs": [
        {
          "output_type": "execute_result",
          "data": {
            "text/plain": [
              "(7032, 47)"
            ]
          },
          "metadata": {
            "tags": []
          },
          "execution_count": 19
        }
      ]
    },
    {
      "cell_type": "code",
      "metadata": {
        "id": "AFK7QSgs-ugM",
        "colab_type": "code",
        "colab": {
          "base_uri": "https://localhost:8080/",
          "height": 816
        },
        "outputId": "cc5fae7e-5dd9-4b36-9a34-0130f11c2c05"
      },
      "source": [
        "list(sample_set.columns)"
      ],
      "execution_count": null,
      "outputs": [
        {
          "output_type": "execute_result",
          "data": {
            "text/plain": [
              "['tenure',\n",
              " 'MonthlyCharges',\n",
              " 'TotalCharges',\n",
              " 'Churn',\n",
              " 'genderFemale',\n",
              " 'genderMale',\n",
              " 'SeniorCitizen0',\n",
              " 'SeniorCitizen1',\n",
              " 'PartnerNo',\n",
              " 'PartnerYes',\n",
              " 'DependentsNo',\n",
              " 'DependentsYes',\n",
              " 'PhoneServiceNo',\n",
              " 'PhoneServiceYes',\n",
              " 'MultipleLinesNo',\n",
              " 'MultipleLinesNo phone service',\n",
              " 'MultipleLinesYes',\n",
              " 'InternetServiceDSL',\n",
              " 'InternetServiceFiber optic',\n",
              " 'InternetServiceNo',\n",
              " 'OnlineSecurityNo',\n",
              " 'OnlineSecurityNo internet service',\n",
              " 'OnlineSecurityYes',\n",
              " 'OnlineBackupNo',\n",
              " 'OnlineBackupNo internet service',\n",
              " 'OnlineBackupYes',\n",
              " 'DeviceProtectionNo',\n",
              " 'DeviceProtectionNo internet service',\n",
              " 'DeviceProtectionYes',\n",
              " 'TechSupportNo',\n",
              " 'TechSupportNo internet service',\n",
              " 'TechSupportYes',\n",
              " 'StreamingTVNo',\n",
              " 'StreamingTVNo internet service',\n",
              " 'StreamingTVYes',\n",
              " 'StreamingMoviesNo',\n",
              " 'StreamingMoviesNo internet service',\n",
              " 'StreamingMoviesYes',\n",
              " 'ContractMonth-to-month',\n",
              " 'ContractOne year',\n",
              " 'ContractTwo year',\n",
              " 'PaperlessBillingNo',\n",
              " 'PaperlessBillingYes',\n",
              " 'PaymentMethodBank transfer (automatic)',\n",
              " 'PaymentMethodCredit card (automatic)',\n",
              " 'PaymentMethodElectronic check',\n",
              " 'PaymentMethodMailed check']"
            ]
          },
          "metadata": {
            "tags": []
          },
          "execution_count": 20
        }
      ]
    },
    {
      "cell_type": "markdown",
      "metadata": {
        "id": "Uva9PJBvAOJM",
        "colab_type": "text"
      },
      "source": [
        "# Train & Test Sets"
      ]
    },
    {
      "cell_type": "code",
      "metadata": {
        "id": "3mnGNSl--0wl",
        "colab_type": "code",
        "colab": {
          "base_uri": "https://localhost:8080/",
          "height": 51
        },
        "outputId": "8a1e6fbd-1f38-4daf-e256-c5414a1bc27e"
      },
      "source": [
        "X = sample_set.drop(columns='Churn')\n",
        "y= sample_set['Churn']\n",
        "print(X.shape)\n",
        "print(y.shape)"
      ],
      "execution_count": null,
      "outputs": [
        {
          "output_type": "stream",
          "text": [
            "(7032, 46)\n",
            "(7032,)\n"
          ],
          "name": "stdout"
        }
      ]
    },
    {
      "cell_type": "code",
      "metadata": {
        "id": "P-sRvG26EsZG",
        "colab_type": "code",
        "colab": {}
      },
      "source": [
        "X_train_a, X_test, y_train_a, y_test = train_test_split(X,y, test_size=0.2, \n",
        "                                    random_state=2018, stratify=y)\n",
        "\n",
        "X_train, X_val, y_train, y_val = train_test_split(X_train_a, y_train_a,test_size=0.2, \n",
        "                                    random_state=2018, stratify=y_train_a)"
      ],
      "execution_count": null,
      "outputs": []
    },
    {
      "cell_type": "markdown",
      "metadata": {
        "id": "PLvMb13OcE7D",
        "colab_type": "text"
      },
      "source": [
        "# Try different model"
      ]
    },
    {
      "cell_type": "code",
      "metadata": {
        "id": "tRptaoCikMaU",
        "colab_type": "code",
        "colab": {}
      },
      "source": [
        "# Creating a list of the classifiers\n",
        "classifiers = {\n",
        "    'KNN':KNeighborsClassifier(),     \n",
        "    'LR':LogisticRegression(),\n",
        "    'LDA':LinearDiscriminantAnalysis(), \n",
        "    'CART':DecisionTreeClassifier(), #Boosting is more suitable\n",
        "    'NB':GaussianNB(),\n",
        "    'SVC':SVC(), #only 0.5 not suitable for imbalanced data set before tunning\n",
        "    #Ensemble:\n",
        "    'RF':RandomForestClassifier(), #Bagging (very long)\n",
        "    'AB':AdaBoostClassifier(),  #Boosting\n",
        "    'GBM':GradientBoostingClassifier(), #Boosting\n",
        "    'ET':ExtraTreesClassifier(), #Bagging (very long)\n",
        "    #New from Matt cookbook\n",
        "    'XGB':XGBClassifier(), #New Boosting\n",
        "    'LGBM':LGBMClassifier(), #New Boosting\n",
        "    \n",
        "}\n"
      ],
      "execution_count": null,
      "outputs": []
    },
    {
      "cell_type": "code",
      "metadata": {
        "id": "L9QoWOeekMng",
        "colab_type": "code",
        "colab": {
          "base_uri": "https://localhost:8080/",
          "height": 853
        },
        "outputId": "944e9e15-1167-457c-ee9c-9edb57c64a5b"
      },
      "source": [
        "#Cross validate\n",
        "import time\n",
        "num_folds = 5\n",
        "seed = 7\n",
        "\n",
        "scoring = {'accuracy' : make_scorer(balanced_accuracy_score), \n",
        "           'precision' : make_scorer(precision_score,average='macro'),\n",
        "           'recall' : make_scorer(recall_score,average='macro'), \n",
        "           'f1' : make_scorer(f1_score,average='macro')}\n",
        "\n",
        "names = []\n",
        "train_acc=[]\n",
        "train_rec_macro=[]\n",
        "train_prec_macro=[]\n",
        "train_f1_macro=[]\n",
        "test_acc=[]\n",
        "test_rec_macro=[]\n",
        "test_prec_macro=[]\n",
        "test_f1_macro=[]\n",
        "fit_time=[]\n",
        "time_=[]\n",
        "\n",
        "for name, model in classifiers.items():\n",
        "  print(name)\n",
        "  start=time.time()\n",
        "  estimator = model\n",
        "  \n",
        "  kfold = StratifiedKFold(n_splits=num_folds, random_state=seed,shuffle=True)\n",
        "  cv_results = cross_validate(estimator, X_train, y_train, cv=kfold, scoring=scoring,\n",
        "                              return_train_score=True,\n",
        "                              return_estimator=True\n",
        "                              )\n",
        "\n",
        "  # Time :\n",
        "  time_cal=time.time() - start\n",
        "  print('time : %0.3f' % (time_cal),'\\n')\n",
        "  \n",
        "  #results.append(cv_results) # array of values\n",
        "  names.append(name)\n",
        "  train_acc.append(cv_results['train_accuracy'].mean())\n",
        "  train_rec_macro.append(cv_results['train_recall'].mean())\n",
        "  train_prec_macro.append(cv_results['train_precision'].mean())\n",
        "  train_f1_macro.append(cv_results['train_f1'].mean())\n",
        "\n",
        "  test_acc.append( cv_results['test_accuracy'].mean())\n",
        "  test_rec_macro.append(cv_results['test_recall'].mean())\n",
        "  test_prec_macro.append(cv_results['test_precision'].mean())\n",
        "  test_f1_macro.append(cv_results['test_f1'].mean())\n",
        "\n",
        "  fit_time.append(cv_results['fit_time'].mean())\n",
        "  time_.append(time_cal)\n",
        "\n",
        "  #print(cv_results.keys())\n",
        "  print(\"%s: train_acc: %0.2f train_rec_macro: %0.2f train_prec_macro: %0.2f \\\n",
        "  test_acc: %0.2f test_rec_macro: %0.2f test_prec_macro: %0.2f \\\n",
        "  fit_time: %0.2f\" % \n",
        "       (name, cv_results['train_accuracy'].mean(),cv_results['train_recall'].mean(),cv_results['train_precision'].mean(),\n",
        "       cv_results['test_accuracy'].mean(),cv_results['test_recall'].mean(),cv_results['test_precision'].mean(),\n",
        "       cv_results['fit_time'].mean()))\n",
        " # print(name, cv_results['train_acc'].mean(),cv_results['train_rec_micro'],cv_results['train_prec_macro'],\n",
        "  #      cv_results['test_acc'],cv_results['test_rec_micro'],cv_results['test_prec_macro'],\n",
        "   #      cv_results['score_time'],cv_results['fit_time']) \n"
      ],
      "execution_count": null,
      "outputs": [
        {
          "output_type": "stream",
          "text": [
            "KNN\n",
            "time : 3.856 \n",
            "\n",
            "KNN: train_acc: 0.78 train_rec_macro: 0.78 train_prec_macro: 0.80   test_acc: 0.69 test_rec_macro: 0.69 test_prec_macro: 0.70   fit_time: 0.02\n",
            "LR\n",
            "time : 0.586 \n",
            "\n",
            "LR: train_acc: 0.72 train_rec_macro: 0.72 train_prec_macro: 0.76   test_acc: 0.72 test_rec_macro: 0.72 test_prec_macro: 0.76   fit_time: 0.09\n",
            "LDA\n",
            "time : 0.393 \n",
            "\n",
            "LDA: train_acc: 0.72 train_rec_macro: 0.72 train_prec_macro: 0.76   test_acc: 0.72 test_rec_macro: 0.72 test_prec_macro: 0.76   fit_time: 0.05\n",
            "CART\n",
            "time : 0.263 \n",
            "\n",
            "CART: train_acc: 1.00 train_rec_macro: 1.00 train_prec_macro: 1.00   test_acc: 0.66 test_rec_macro: 0.66 test_prec_macro: 0.66   fit_time: 0.03\n",
            "NB\n",
            "time : 0.130 \n",
            "\n",
            "NB: train_acc: 0.75 train_rec_macro: 0.75 train_prec_macro: 0.69   test_acc: 0.75 test_rec_macro: 0.75 test_prec_macro: 0.69   fit_time: 0.01\n",
            "SVC\n",
            "time : 7.140 \n",
            "\n",
            "SVC: train_acc: 0.74 train_rec_macro: 0.74 train_prec_macro: 0.79   test_acc: 0.71 test_rec_macro: 0.71 test_prec_macro: 0.75   fit_time: 0.74\n",
            "RF\n",
            "time : 2.842 \n",
            "\n",
            "RF: train_acc: 1.00 train_rec_macro: 1.00 train_prec_macro: 1.00   test_acc: 0.68 test_rec_macro: 0.68 test_prec_macro: 0.72   fit_time: 0.46\n",
            "AB\n",
            "time : 1.783 \n",
            "\n",
            "AB: train_acc: 0.73 train_rec_macro: 0.73 train_prec_macro: 0.76   test_acc: 0.72 test_rec_macro: 0.72 test_prec_macro: 0.75   fit_time: 0.28\n",
            "GBM\n",
            "time : 4.285 \n",
            "\n",
            "GBM: train_acc: 0.77 train_rec_macro: 0.77 train_prec_macro: 0.81   test_acc: 0.72 test_rec_macro: 0.72 test_prec_macro: 0.75   fit_time: 0.83\n",
            "ET\n",
            "time : 2.940 \n",
            "\n",
            "ET: train_acc: 1.00 train_rec_macro: 1.00 train_prec_macro: 1.00   test_acc: 0.66 test_rec_macro: 0.66 test_prec_macro: 0.69   fit_time: 0.46\n",
            "XGB\n",
            "time : 2.542 \n",
            "\n",
            "XGB: train_acc: 0.75 train_rec_macro: 0.75 train_prec_macro: 0.79   test_acc: 0.72 test_rec_macro: 0.72 test_prec_macro: 0.75   fit_time: 0.47\n",
            "LGBM\n",
            "time : 1.048 \n",
            "\n",
            "LGBM: train_acc: 0.88 train_rec_macro: 0.88 train_prec_macro: 0.90   test_acc: 0.70 test_rec_macro: 0.70 test_prec_macro: 0.73   fit_time: 0.15\n"
          ],
          "name": "stdout"
        }
      ]
    },
    {
      "cell_type": "code",
      "metadata": {
        "id": "YFE0JeqGkdxl",
        "colab_type": "code",
        "colab": {
          "base_uri": "https://localhost:8080/",
          "height": 441
        },
        "outputId": "12000d3a-1932-4ed4-cdbc-aae9c644cef1"
      },
      "source": [
        "df_results_val=pd.DataFrame(list(zip(names,test_acc,test_rec_macro,test_prec_macro,test_f1_macro,\n",
        "                                     train_acc,train_rec_macro,train_prec_macro,train_f1_macro,\n",
        "                                     fit_time,time_)),\n",
        "                  columns=['Names','test_acc','test_rec_macro','test_prec_macro','test_f1_macro',\n",
        "                           'train_acc','train_rec_macro','train_prec_macro','train_f1_macro',\n",
        "                           'fit_time','time'])\n",
        "df_results_val=df_results_val.sort_values(by='test_f1_macro',ascending=False)\n",
        "df_results_val"
      ],
      "execution_count": null,
      "outputs": [
        {
          "output_type": "execute_result",
          "data": {
            "text/html": [
              "<div>\n",
              "<style scoped>\n",
              "    .dataframe tbody tr th:only-of-type {\n",
              "        vertical-align: middle;\n",
              "    }\n",
              "\n",
              "    .dataframe tbody tr th {\n",
              "        vertical-align: top;\n",
              "    }\n",
              "\n",
              "    .dataframe thead th {\n",
              "        text-align: right;\n",
              "    }\n",
              "</style>\n",
              "<table border=\"1\" class=\"dataframe\">\n",
              "  <thead>\n",
              "    <tr style=\"text-align: right;\">\n",
              "      <th></th>\n",
              "      <th>Names</th>\n",
              "      <th>test_acc</th>\n",
              "      <th>test_rec_macro</th>\n",
              "      <th>test_prec_macro</th>\n",
              "      <th>test_f1_macro</th>\n",
              "      <th>train_acc</th>\n",
              "      <th>train_rec_macro</th>\n",
              "      <th>train_prec_macro</th>\n",
              "      <th>train_f1_macro</th>\n",
              "      <th>fit_time</th>\n",
              "      <th>time</th>\n",
              "    </tr>\n",
              "  </thead>\n",
              "  <tbody>\n",
              "    <tr>\n",
              "      <th>1</th>\n",
              "      <td>LR</td>\n",
              "      <td>0.723029</td>\n",
              "      <td>0.723029</td>\n",
              "      <td>0.760516</td>\n",
              "      <td>0.737065</td>\n",
              "      <td>0.723531</td>\n",
              "      <td>0.723531</td>\n",
              "      <td>0.761932</td>\n",
              "      <td>0.738131</td>\n",
              "      <td>0.090791</td>\n",
              "      <td>0.585585</td>\n",
              "    </tr>\n",
              "    <tr>\n",
              "      <th>2</th>\n",
              "      <td>LDA</td>\n",
              "      <td>0.724188</td>\n",
              "      <td>0.724188</td>\n",
              "      <td>0.756228</td>\n",
              "      <td>0.736716</td>\n",
              "      <td>0.724539</td>\n",
              "      <td>0.724539</td>\n",
              "      <td>0.758694</td>\n",
              "      <td>0.737874</td>\n",
              "      <td>0.052589</td>\n",
              "      <td>0.393398</td>\n",
              "    </tr>\n",
              "    <tr>\n",
              "      <th>7</th>\n",
              "      <td>AB</td>\n",
              "      <td>0.722097</td>\n",
              "      <td>0.722097</td>\n",
              "      <td>0.752299</td>\n",
              "      <td>0.734022</td>\n",
              "      <td>0.732681</td>\n",
              "      <td>0.732681</td>\n",
              "      <td>0.764799</td>\n",
              "      <td>0.745453</td>\n",
              "      <td>0.276740</td>\n",
              "      <td>1.782554</td>\n",
              "    </tr>\n",
              "    <tr>\n",
              "      <th>8</th>\n",
              "      <td>GBM</td>\n",
              "      <td>0.720165</td>\n",
              "      <td>0.720165</td>\n",
              "      <td>0.753806</td>\n",
              "      <td>0.733087</td>\n",
              "      <td>0.768259</td>\n",
              "      <td>0.768259</td>\n",
              "      <td>0.808703</td>\n",
              "      <td>0.784436</td>\n",
              "      <td>0.829189</td>\n",
              "      <td>4.285435</td>\n",
              "    </tr>\n",
              "    <tr>\n",
              "      <th>10</th>\n",
              "      <td>XGB</td>\n",
              "      <td>0.716862</td>\n",
              "      <td>0.716862</td>\n",
              "      <td>0.749388</td>\n",
              "      <td>0.729445</td>\n",
              "      <td>0.754279</td>\n",
              "      <td>0.754279</td>\n",
              "      <td>0.792835</td>\n",
              "      <td>0.769577</td>\n",
              "      <td>0.470081</td>\n",
              "      <td>2.541536</td>\n",
              "    </tr>\n",
              "    <tr>\n",
              "      <th>5</th>\n",
              "      <td>SVC</td>\n",
              "      <td>0.706234</td>\n",
              "      <td>0.706234</td>\n",
              "      <td>0.750305</td>\n",
              "      <td>0.721675</td>\n",
              "      <td>0.740276</td>\n",
              "      <td>0.740276</td>\n",
              "      <td>0.791326</td>\n",
              "      <td>0.758843</td>\n",
              "      <td>0.740925</td>\n",
              "      <td>7.140214</td>\n",
              "    </tr>\n",
              "    <tr>\n",
              "      <th>11</th>\n",
              "      <td>LGBM</td>\n",
              "      <td>0.702356</td>\n",
              "      <td>0.702356</td>\n",
              "      <td>0.733361</td>\n",
              "      <td>0.714208</td>\n",
              "      <td>0.877746</td>\n",
              "      <td>0.877746</td>\n",
              "      <td>0.896677</td>\n",
              "      <td>0.886512</td>\n",
              "      <td>0.151478</td>\n",
              "      <td>1.047636</td>\n",
              "    </tr>\n",
              "    <tr>\n",
              "      <th>6</th>\n",
              "      <td>RF</td>\n",
              "      <td>0.684271</td>\n",
              "      <td>0.684271</td>\n",
              "      <td>0.719965</td>\n",
              "      <td>0.697026</td>\n",
              "      <td>0.997086</td>\n",
              "      <td>0.997086</td>\n",
              "      <td>0.997220</td>\n",
              "      <td>0.997153</td>\n",
              "      <td>0.456404</td>\n",
              "      <td>2.842230</td>\n",
              "    </tr>\n",
              "    <tr>\n",
              "      <th>0</th>\n",
              "      <td>KNN</td>\n",
              "      <td>0.689204</td>\n",
              "      <td>0.689204</td>\n",
              "      <td>0.701583</td>\n",
              "      <td>0.694595</td>\n",
              "      <td>0.780175</td>\n",
              "      <td>0.780175</td>\n",
              "      <td>0.800183</td>\n",
              "      <td>0.789088</td>\n",
              "      <td>0.019398</td>\n",
              "      <td>3.856181</td>\n",
              "    </tr>\n",
              "    <tr>\n",
              "      <th>4</th>\n",
              "      <td>NB</td>\n",
              "      <td>0.747195</td>\n",
              "      <td>0.747195</td>\n",
              "      <td>0.693491</td>\n",
              "      <td>0.679375</td>\n",
              "      <td>0.747320</td>\n",
              "      <td>0.747320</td>\n",
              "      <td>0.693229</td>\n",
              "      <td>0.680111</td>\n",
              "      <td>0.005824</td>\n",
              "      <td>0.129984</td>\n",
              "    </tr>\n",
              "    <tr>\n",
              "      <th>9</th>\n",
              "      <td>ET</td>\n",
              "      <td>0.664469</td>\n",
              "      <td>0.664469</td>\n",
              "      <td>0.691449</td>\n",
              "      <td>0.674333</td>\n",
              "      <td>0.995953</td>\n",
              "      <td>0.995953</td>\n",
              "      <td>0.998356</td>\n",
              "      <td>0.997146</td>\n",
              "      <td>0.458603</td>\n",
              "      <td>2.939679</td>\n",
              "    </tr>\n",
              "    <tr>\n",
              "      <th>3</th>\n",
              "      <td>CART</td>\n",
              "      <td>0.658058</td>\n",
              "      <td>0.658058</td>\n",
              "      <td>0.656124</td>\n",
              "      <td>0.656458</td>\n",
              "      <td>0.995953</td>\n",
              "      <td>0.995953</td>\n",
              "      <td>0.998356</td>\n",
              "      <td>0.997146</td>\n",
              "      <td>0.031682</td>\n",
              "      <td>0.263476</td>\n",
              "    </tr>\n",
              "  </tbody>\n",
              "</table>\n",
              "</div>"
            ],
            "text/plain": [
              "   Names  test_acc  test_rec_macro  ...  train_f1_macro  fit_time      time\n",
              "1     LR  0.723029        0.723029  ...        0.738131  0.090791  0.585585\n",
              "2    LDA  0.724188        0.724188  ...        0.737874  0.052589  0.393398\n",
              "7     AB  0.722097        0.722097  ...        0.745453  0.276740  1.782554\n",
              "8    GBM  0.720165        0.720165  ...        0.784436  0.829189  4.285435\n",
              "10   XGB  0.716862        0.716862  ...        0.769577  0.470081  2.541536\n",
              "5    SVC  0.706234        0.706234  ...        0.758843  0.740925  7.140214\n",
              "11  LGBM  0.702356        0.702356  ...        0.886512  0.151478  1.047636\n",
              "6     RF  0.684271        0.684271  ...        0.997153  0.456404  2.842230\n",
              "0    KNN  0.689204        0.689204  ...        0.789088  0.019398  3.856181\n",
              "4     NB  0.747195        0.747195  ...        0.680111  0.005824  0.129984\n",
              "9     ET  0.664469        0.664469  ...        0.997146  0.458603  2.939679\n",
              "3   CART  0.658058        0.658058  ...        0.997146  0.031682  0.263476\n",
              "\n",
              "[12 rows x 11 columns]"
            ]
          },
          "metadata": {
            "tags": []
          },
          "execution_count": 42
        }
      ]
    },
    {
      "cell_type": "code",
      "metadata": {
        "id": "vAMmBEQ7kfky",
        "colab_type": "code",
        "colab": {
          "base_uri": "https://localhost:8080/",
          "height": 406
        },
        "outputId": "392e5a8a-80bf-40bf-bbb3-83a2a1708c51"
      },
      "source": [
        "# Define name:\n",
        "name=df_results_val['Names']\n",
        "test_acc=df_results_val['test_acc']\n",
        "test_rec_micro=df_results_val['test_rec_macro']\n",
        "test_prec_macro=df_results_val['test_prec_macro']\n",
        "test_f1_macro=df_results_val['test_f1_macro']\n",
        "time = df_results_val['time']\n",
        "# Plot:\n",
        "x = np.arange(len(name))\n",
        "fig, ax = plt.subplots(figsize=(10,6))\n",
        "rects1 = ax.bar(x, test_acc, color = 'b', width = 0.25,label='test_acc')\n",
        "rects2 = ax.plot(x, test_rec_micro, color = 'g',marker='o',label='test_rec_macro')\n",
        "rects3 = ax.plot(x, test_prec_macro, color = 'r',marker='o',label='test_prec_macro')\n",
        "rects4 = ax.plot(x, test_prec_macro, color = 'y',marker='o',label='test_f1_macro')\n",
        "\n",
        "ax2 = ax.twinx()\n",
        "ax2.plot(x,time,color ='c',marker='o',lw=2,label='time (s)')\n",
        "ax2.secondary_yaxis('right')\n",
        "\n",
        "ax.set_xticks(x)\n",
        "ax.set_xticklabels(name,fontsize=15)\n",
        "ax.set_ylabel('Percentage',fontsize=15)\n",
        "ax2.set_ylabel('Time',fontsize=15)\n",
        "#plt.gca().legend(loc ='center',bbox_to_anchor=(0.5, -0.2))\n",
        "legend1=ax.legend(loc='center',bbox_to_anchor=(0.5, -0.2),shadow=True, fontsize='medium')\n",
        "legend2=ax2.legend(loc='center',bbox_to_anchor=(0.9, -0.2),shadow=True, fontsize='medium')\n",
        "\n",
        "plt.axis('off')\n",
        "fig.tight_layout()\n",
        "plt.show()"
      ],
      "execution_count": null,
      "outputs": [
        {
          "output_type": "display_data",
          "data": {
            "image/png": "[encoded data removed]",
            "text/plain": [
              "<Figure size 720x432 with 2 Axes>"
            ]
          },
          "metadata": {
            "tags": [],
            "needs_background": "light"
          }
        }
      ]
    },
    {
      "cell_type": "code",
      "metadata": {
        "id": "WcQmQWjgl_Bt",
        "colab_type": "code",
        "colab": {
          "base_uri": "https://localhost:8080/",
          "height": 170
        },
        "outputId": "2edd4e4e-c9f4-4d9f-d6e6-4dd03af5c6d1"
      },
      "source": [
        "model=LogisticRegression(C=1,max_iter=100000)\n",
        "model.fit(X_train,y_train)\n",
        "predictions=model.predict(X_test)\n",
        "#y_test_labels = np.argmax(y_test.values, axis =1)\n",
        "print(classification_report(y_test,predictions))"
      ],
      "execution_count": null,
      "outputs": [
        {
          "output_type": "stream",
          "text": [
            "              precision    recall  f1-score   support\n",
            "\n",
            "           0       0.84      0.91      0.87      1033\n",
            "           1       0.66      0.51      0.58       374\n",
            "\n",
            "    accuracy                           0.80      1407\n",
            "   macro avg       0.75      0.71      0.72      1407\n",
            "weighted avg       0.79      0.80      0.79      1407\n",
            "\n"
          ],
          "name": "stdout"
        }
      ]
    },
    {
      "cell_type": "code",
      "metadata": {
        "id": "YEJzhsvRoD4J",
        "colab_type": "code",
        "colab": {
          "base_uri": "https://localhost:8080/",
          "height": 221
        },
        "outputId": "0f3a8897-88d4-4b88-a8dc-68d90a81c162"
      },
      "source": [
        "rfc = RandomForestClassifier(n_estimators=500)\n",
        "rfc.fit(X_train, y_train)\n",
        "rfc_pred = rfc.predict(X_test)\n",
        "\n",
        "print(confusion_matrix(y_test,rfc_pred))\n",
        "print('Accuracy score:',accuracy_score(y_test,rfc_pred))\n",
        "print(classification_report(y_test,rfc_pred))"
      ],
      "execution_count": null,
      "outputs": [
        {
          "output_type": "stream",
          "text": [
            "[[923 110]\n",
            " [196 178]]\n",
            "Accuracy score: 0.7825159914712153\n",
            "              precision    recall  f1-score   support\n",
            "\n",
            "           0       0.82      0.89      0.86      1033\n",
            "           1       0.62      0.48      0.54       374\n",
            "\n",
            "    accuracy                           0.78      1407\n",
            "   macro avg       0.72      0.68      0.70      1407\n",
            "weighted avg       0.77      0.78      0.77      1407\n",
            "\n"
          ],
          "name": "stdout"
        }
      ]
    },
    {
      "cell_type": "code",
      "metadata": {
        "id": "mV9MFuLxnnhI",
        "colab_type": "code",
        "colab": {
          "base_uri": "https://localhost:8080/",
          "height": 170
        },
        "outputId": "5d0f33e9-b361-48bf-c788-beffe69bfbe5"
      },
      "source": [
        "model=LGBMClassifier()\n",
        "model.fit(X_train,y_train)\n",
        "predictions=model.predict(X_test)\n",
        "#y_test_labels = np.argmax(y_test.values, axis =1)\n",
        "print(classification_report(y_test,predictions))"
      ],
      "execution_count": null,
      "outputs": [
        {
          "output_type": "stream",
          "text": [
            "              precision    recall  f1-score   support\n",
            "\n",
            "           0       0.83      0.89      0.86      1033\n",
            "           1       0.62      0.50      0.55       374\n",
            "\n",
            "    accuracy                           0.78      1407\n",
            "   macro avg       0.72      0.69      0.70      1407\n",
            "weighted avg       0.77      0.78      0.78      1407\n",
            "\n"
          ],
          "name": "stdout"
        }
      ]
    },
    {
      "cell_type": "code",
      "metadata": {
        "id": "A8YB5TuCoVX0",
        "colab_type": "code",
        "colab": {
          "base_uri": "https://localhost:8080/",
          "height": 221
        },
        "outputId": "0040b03c-c8df-45c4-d594-4b5f79fbb69a"
      },
      "source": [
        "svc = SVC(gamma=0.001)\n",
        "svc.fit(X_train, y_train)\n",
        "svc_pred = svc.predict(X_test)\n",
        "\n",
        "print(confusion_matrix(y_test,svc_pred))\n",
        "print('accuracy_score:',accuracy_score(y_test, svc_pred))\n",
        "print(classification_report(y_test, svc_pred))"
      ],
      "execution_count": null,
      "outputs": [
        {
          "output_type": "stream",
          "text": [
            "[[959  74]\n",
            " [217 157]]\n",
            "accuracy_score: 0.7931769722814499\n",
            "              precision    recall  f1-score   support\n",
            "\n",
            "           0       0.82      0.93      0.87      1033\n",
            "           1       0.68      0.42      0.52       374\n",
            "\n",
            "    accuracy                           0.79      1407\n",
            "   macro avg       0.75      0.67      0.69      1407\n",
            "weighted avg       0.78      0.79      0.78      1407\n",
            "\n"
          ],
          "name": "stdout"
        }
      ]
    },
    {
      "cell_type": "markdown",
      "metadata": {
        "id": "1QS0UgneAeQE",
        "colab_type": "text"
      },
      "source": [
        "# Aritificial Neural Network (ANN) with Keras"
      ]
    },
    {
      "cell_type": "code",
      "metadata": {
        "id": "ozxVIHuHkT2j",
        "colab_type": "code",
        "colab": {}
      },
      "source": [
        "def plot_loss(history, label):\n",
        "  # Use a log scale to show the wide range of values.\n",
        "  plt.semilogy(history.epoch,  history.history['loss'],\n",
        "               #color=colors[n], \n",
        "               label='Train '+label)\n",
        "  plt.semilogy(history.epoch,  history.history['val_loss'],\n",
        "          #color=colors[n], \n",
        "          label='Val '+label,\n",
        "          linestyle=\"--\")\n",
        "  plt.xlabel('Epoch')\n",
        "  plt.ylabel('Loss')\n",
        "  \n",
        "  plt.legend()\n",
        "\n",
        "def plot_cm(labels, predictions, p=0.5):\n",
        "  cm = confusion_matrix(labels, predictions > p)\n",
        "  plt.figure(figsize=(5,5))\n",
        "  sns.heatmap(cm, annot=True, fmt=\"d\")\n",
        "  plt.title('Confusion matrix @{:.2f}'.format(p))\n",
        "  plt.ylabel('Actual label')\n",
        "  plt.xlabel('Predicted label')\n",
        "\n",
        "  print('Legitimate Transactions Detected (True Negatives): ', cm[0][0])\n",
        "  print('Legitimate Transactions Incorrectly Detected (False Positives): ', cm[0][1])\n",
        "  print('Fraudulent Transactions Missed (False Negatives): ', cm[1][0])\n",
        "  print('Fraudulent Transactions Detected (True Positives): ', cm[1][1])\n",
        "  print('Total Fraudulent Transactions: ', np.sum(cm[1]))"
      ],
      "execution_count": null,
      "outputs": []
    },
    {
      "cell_type": "markdown",
      "metadata": {
        "id": "ZZEpZnura9aL",
        "colab_type": "text"
      },
      "source": [
        "## Base model"
      ]
    },
    {
      "cell_type": "code",
      "metadata": {
        "id": "x88wXDMSAbtz",
        "colab_type": "code",
        "colab": {
          "base_uri": "https://localhost:8080/",
          "height": 255
        },
        "outputId": "1227eade-3c8b-4489-8e9c-dfabbd954ce9"
      },
      "source": [
        "tf.random.set_seed(42)\n",
        "np.random.seed(42)\n",
        "\n",
        "model = Sequential()\n",
        "model.add(Dense(16, input_dim=X_train.shape[1], activation='relu'))\n",
        "model.add(Dense(8, activation='relu'))\n",
        "model.add(Dense(1, activation='sigmoid'))\n",
        "model.summary()\n",
        "model.compile(loss='binary_crossentropy', optimizer='adam', metrics=['accuracy'])"
      ],
      "execution_count": null,
      "outputs": [
        {
          "output_type": "stream",
          "text": [
            "Model: \"sequential_1\"\n",
            "_________________________________________________________________\n",
            "Layer (type)                 Output Shape              Param #   \n",
            "=================================================================\n",
            "dense_1 (Dense)              (None, 16)                752       \n",
            "_________________________________________________________________\n",
            "dense_2 (Dense)              (None, 8)                 136       \n",
            "_________________________________________________________________\n",
            "dense_3 (Dense)              (None, 1)                 9         \n",
            "=================================================================\n",
            "Total params: 897\n",
            "Trainable params: 897\n",
            "Non-trainable params: 0\n",
            "_________________________________________________________________\n"
          ],
          "name": "stdout"
        }
      ]
    },
    {
      "cell_type": "code",
      "metadata": {
        "id": "npqKm9PnXJEJ",
        "colab_type": "code",
        "colab": {
          "base_uri": "https://localhost:8080/",
          "height": 34
        },
        "outputId": "896a7de2-7828-4c39-87fb-b03c48b96721"
      },
      "source": [
        "X_train.shape"
      ],
      "execution_count": null,
      "outputs": [
        {
          "output_type": "execute_result",
          "data": {
            "text/plain": [
              "(4500, 46)"
            ]
          },
          "metadata": {
            "tags": []
          },
          "execution_count": 27
        }
      ]
    },
    {
      "cell_type": "code",
      "metadata": {
        "id": "1t3QlUq_Axb9",
        "colab_type": "code",
        "colab": {
          "base_uri": "https://localhost:8080/",
          "height": 374
        },
        "outputId": "ef49264b-b2a6-4bdc-df64-f9090c6d5bc5"
      },
      "source": [
        "# network and training\n",
        "EPOCHS = 200\n",
        "BATCH_SIZE = 100 #10 as normal\n",
        "\n",
        "# Set callback functions to early stop training and save the best model so far\n",
        "callbacks = [EarlyStopping(monitor=\"val_accuracy\", patience=3, # patient =3\n",
        "                           #mode='max',restore_best_weights=True #Not include as normal\n",
        "                           ),\n",
        "            #ModelCheckpoint(filepath=\"best_model.h5\",\n",
        "            #                monitor=\"val_auc\",\n",
        "            #                save_best_only=True)\n",
        "            ]\n",
        "#training the moodel\n",
        "result=model.fit(X_train, y_train,\n",
        "                batch_size=BATCH_SIZE, epochs=EPOCHS,\n",
        "                callbacks=callbacks,\n",
        "                validation_data=(X_val, y_val),\n",
        "                verbose=2)"
      ],
      "execution_count": null,
      "outputs": [
        {
          "output_type": "stream",
          "text": [
            "Train on 4500 samples, validate on 1125 samples\n",
            "Epoch 1/200\n",
            " - 0s - loss: 0.7282 - accuracy: 0.4851 - val_loss: 0.6356 - val_accuracy: 0.7342\n",
            "Epoch 2/200\n",
            " - 0s - loss: 0.5751 - accuracy: 0.7451 - val_loss: 0.5257 - val_accuracy: 0.7627\n",
            "Epoch 3/200\n",
            " - 0s - loss: 0.4748 - accuracy: 0.7891 - val_loss: 0.4525 - val_accuracy: 0.7929\n",
            "Epoch 4/200\n",
            " - 0s - loss: 0.4278 - accuracy: 0.8020 - val_loss: 0.4328 - val_accuracy: 0.8027\n",
            "Epoch 5/200\n",
            " - 0s - loss: 0.4168 - accuracy: 0.8040 - val_loss: 0.4277 - val_accuracy: 0.8009\n",
            "Epoch 6/200\n",
            " - 0s - loss: 0.4128 - accuracy: 0.8064 - val_loss: 0.4254 - val_accuracy: 0.8036\n",
            "Epoch 7/200\n",
            " - 0s - loss: 0.4104 - accuracy: 0.8080 - val_loss: 0.4234 - val_accuracy: 0.8053\n",
            "Epoch 8/200\n",
            " - 0s - loss: 0.4084 - accuracy: 0.8082 - val_loss: 0.4232 - val_accuracy: 0.8027\n",
            "Epoch 9/200\n",
            " - 0s - loss: 0.4071 - accuracy: 0.8080 - val_loss: 0.4209 - val_accuracy: 0.8027\n",
            "Epoch 10/200\n",
            " - 0s - loss: 0.4058 - accuracy: 0.8096 - val_loss: 0.4204 - val_accuracy: 0.8018\n"
          ],
          "name": "stdout"
        }
      ]
    },
    {
      "cell_type": "code",
      "metadata": {
        "id": "OcKxdaTxXuLy",
        "colab_type": "code",
        "colab": {
          "base_uri": "https://localhost:8080/",
          "height": 285
        },
        "outputId": "59a698f4-8a8b-4ede-891d-15defd3462e0"
      },
      "source": [
        "plot_loss(result,'base')"
      ],
      "execution_count": null,
      "outputs": [
        {
          "output_type": "display_data",
          "data": {
            "image/png": "[encoded data removed]",
            "text/plain": [
              "<Figure size 432x288 with 1 Axes>"
            ]
          },
          "metadata": {
            "tags": [],
            "needs_background": "light"
          }
        }
      ]
    },
    {
      "cell_type": "code",
      "metadata": {
        "id": "VfNkTlKvXw1f",
        "colab_type": "code",
        "colab": {
          "base_uri": "https://localhost:8080/",
          "height": 170
        },
        "outputId": "0b083735-28f2-437a-8c57-3ba12f28f8ed"
      },
      "source": [
        "predictions=model.predict_classes(X_test)\n",
        "#y_test_labels = np.argmax(y_test.values, axis =1)\n",
        "print(classification_report(y_test,predictions))"
      ],
      "execution_count": null,
      "outputs": [
        {
          "output_type": "stream",
          "text": [
            "              precision    recall  f1-score   support\n",
            "\n",
            "           0       0.84      0.90      0.87      1033\n",
            "           1       0.65      0.52      0.58       374\n",
            "\n",
            "    accuracy                           0.80      1407\n",
            "   macro avg       0.74      0.71      0.72      1407\n",
            "weighted avg       0.79      0.80      0.79      1407\n",
            "\n"
          ],
          "name": "stdout"
        }
      ]
    },
    {
      "cell_type": "markdown",
      "metadata": {
        "id": "jRLUmSPfa_BT",
        "colab_type": "text"
      },
      "source": [
        "## Turning different model"
      ]
    },
    {
      "cell_type": "code",
      "metadata": {
        "id": "5-onozlvabok",
        "colab_type": "code",
        "colab": {}
      },
      "source": [
        "METRICS = [\n",
        "      keras.metrics.TruePositives(name='tp'),\n",
        "      keras.metrics.FalsePositives(name='fp'),\n",
        "      keras.metrics.TrueNegatives(name='tn'),\n",
        "      keras.metrics.FalseNegatives(name='fn'), \n",
        "      keras.metrics.BinaryAccuracy(name='accuracy'),\n",
        "      keras.metrics.Precision(name='precision'),\n",
        "      keras.metrics.Recall(name='recall'),\n",
        "      keras.metrics.AUC(name='auc'),\n",
        "]"
      ],
      "execution_count": null,
      "outputs": []
    },
    {
      "cell_type": "code",
      "metadata": {
        "id": "IfmkR0eQbCuK",
        "colab_type": "code",
        "colab": {
          "base_uri": "https://localhost:8080/",
          "height": 391
        },
        "outputId": "c8a9a6d4-cc9c-4fdd-a870-0f6fe23993eb"
      },
      "source": [
        "tf.random.set_seed(42)\n",
        "np.random.seed(42)\n",
        "\n",
        "DROPOUT = 0.3\n",
        "numlabel=1\n",
        "#output_bias=0.5\n",
        "#build the model\n",
        "#----input-------#\n",
        "model3 =Sequential()\n",
        "model3.add(Dense(30,input_dim=X_train.shape[1],activation='relu'))\n",
        "model3.add(Dropout(DROPOUT))\n",
        "#----hiden layer-------#\n",
        "model3.add(Dense(20,activation='relu'))\n",
        "model3.add(Dropout(DROPOUT))\n",
        "model3.add(Dense(10,activation='relu'))\n",
        "model3.add(Dropout(DROPOUT))\n",
        "#----output-------#\n",
        "model3.add(Dense(numlabel,activation='sigmoid',  #binary: sigmoid. multi: softmax\n",
        "                #bias_initializer=output_bias\n",
        "                )) \n",
        "model3.summary()\n",
        "# compiling the model\n",
        "model3.compile(optimizer='Adam', \n",
        "              #optimizer=keras.optimizers.SGD(lr=1e-3),\n",
        "              loss='binary_crossentropy',\n",
        "              metrics=METRICS)"
      ],
      "execution_count": null,
      "outputs": [
        {
          "output_type": "stream",
          "text": [
            "Model: \"sequential_2\"\n",
            "_________________________________________________________________\n",
            "Layer (type)                 Output Shape              Param #   \n",
            "=================================================================\n",
            "dense_4 (Dense)              (None, 30)                1410      \n",
            "_________________________________________________________________\n",
            "dropout_1 (Dropout)          (None, 30)                0         \n",
            "_________________________________________________________________\n",
            "dense_5 (Dense)              (None, 20)                620       \n",
            "_________________________________________________________________\n",
            "dropout_2 (Dropout)          (None, 20)                0         \n",
            "_________________________________________________________________\n",
            "dense_6 (Dense)              (None, 10)                210       \n",
            "_________________________________________________________________\n",
            "dropout_3 (Dropout)          (None, 10)                0         \n",
            "_________________________________________________________________\n",
            "dense_7 (Dense)              (None, 1)                 11        \n",
            "=================================================================\n",
            "Total params: 2,251\n",
            "Trainable params: 2,251\n",
            "Non-trainable params: 0\n",
            "_________________________________________________________________\n"
          ],
          "name": "stdout"
        }
      ]
    },
    {
      "cell_type": "code",
      "metadata": {
        "id": "R57KZGMsbdli",
        "colab_type": "code",
        "colab": {
          "base_uri": "https://localhost:8080/",
          "height": 190
        },
        "outputId": "304a9884-2b0e-47c8-a244-2cdb73d504e3"
      },
      "source": [
        "# network and training\n",
        "EPOCHS = 200\n",
        "BATCH_SIZE = 100 #10 as normal\n",
        "\n",
        "# Set callback functions to early stop training and save the best model so far\n",
        "callbacks = [EarlyStopping(monitor=\"val_recall\", patience=3, # patient =3\n",
        "                           #mode='max',restore_best_weights=True #Not include as normal\n",
        "                           ),\n",
        "            #ModelCheckpoint(filepath=\"best_model.h5\",\n",
        "            #                monitor=\"val_auc\",\n",
        "            #                save_best_only=True)\n",
        "            ]\n",
        "#training the moodel\n",
        "result=model3.fit(X_train, y_train,\n",
        "                batch_size=BATCH_SIZE, epochs=EPOCHS,\n",
        "                callbacks=callbacks,\n",
        "                validation_data=(X_val, y_val),\n",
        "                verbose=2)"
      ],
      "execution_count": null,
      "outputs": [
        {
          "output_type": "stream",
          "text": [
            "Train on 4500 samples, validate on 1125 samples\n",
            "Epoch 1/200\n",
            " - 0s - loss: 0.3733 - tp: 165173.9375 - fp: 76240.5781 - tn: 751434.8750 - fn: 134450.6875 - accuracy: 0.8131 - precision: 0.6842 - recall: 0.5513 - auc: 0.8578 - val_loss: 0.4535 - val_tp: 165611.0781 - val_fp: 76447.4141 - val_tn: 753334.6875 - val_fn: 134750.5781 - val_accuracy: 0.8131 - val_precision: 0.6842 - val_recall: 0.5514 - val_auc: 0.8578\n",
            "Epoch 2/200\n",
            " - 0s - loss: 0.3718 - tp: 166054.5625 - fp: 76632.4453 - tn: 755171.7500 - fn: 135066.4062 - accuracy: 0.8131 - precision: 0.6842 - recall: 0.5515 - auc: 0.8579 - val_loss: 0.4556 - val_tp: 166488.0781 - val_fp: 76835.0000 - val_tn: 757077.0625 - val_fn: 135368.5781 - val_accuracy: 0.8132 - val_precision: 0.6842 - val_recall: 0.5515 - val_auc: 0.8579\n",
            "Epoch 3/200\n",
            " - 0s - loss: 0.3726 - tp: 166938.0938 - fp: 77018.2891 - tn: 758927.4375 - fn: 135666.1406 - accuracy: 0.8132 - precision: 0.6843 - recall: 0.5517 - auc: 0.8579 - val_loss: 0.4549 - val_tp: 167390.2500 - val_fp: 77229.0000 - val_tn: 760813.0625 - val_fn: 135961.4219 - val_accuracy: 0.8132 - val_precision: 0.6843 - val_recall: 0.5518 - val_auc: 0.8580\n",
            "Epoch 4/200\n",
            " - 0s - loss: 0.3658 - tp: 167848.4688 - fp: 77419.0234 - tn: 762647.0000 - fn: 136260.4062 - accuracy: 0.8132 - precision: 0.6843 - recall: 0.5519 - auc: 0.8580 - val_loss: 0.4536 - val_tp: 168291.9219 - val_fp: 77623.8359 - val_tn: 764548.2500 - val_fn: 136554.7500 - val_accuracy: 0.8133 - val_precision: 0.6843 - val_recall: 0.5521 - val_auc: 0.8580\n"
          ],
          "name": "stdout"
        }
      ]
    },
    {
      "cell_type": "code",
      "metadata": {
        "id": "zK5tYsMibkCk",
        "colab_type": "code",
        "colab": {
          "base_uri": "https://localhost:8080/",
          "height": 290
        },
        "outputId": "c96bd692-e8a8-4f5f-ebd7-a6b87b0d0d65"
      },
      "source": [
        "plot_loss(result,'base')"
      ],
      "execution_count": null,
      "outputs": [
        {
          "output_type": "display_data",
          "data": {
            "image/png": "[encoded data removed]",
            "text/plain": [
              "<Figure size 432x288 with 1 Axes>"
            ]
          },
          "metadata": {
            "tags": [],
            "needs_background": "light"
          }
        }
      ]
    },
    {
      "cell_type": "code",
      "metadata": {
        "id": "kwjYlsVxbr2r",
        "colab_type": "code",
        "colab": {
          "base_uri": "https://localhost:8080/",
          "height": 170
        },
        "outputId": "65127030-22de-4c42-d2c0-10ba5e098be3"
      },
      "source": [
        "predictions=model3.predict_classes(X_test)\n",
        "#y_test_labels = np.argmax(y_test.values, axis =1)\n",
        "print(classification_report(y_test,predictions))"
      ],
      "execution_count": null,
      "outputs": [
        {
          "output_type": "stream",
          "text": [
            "              precision    recall  f1-score   support\n",
            "\n",
            "           0       0.84      0.87      0.86      1033\n",
            "           1       0.61      0.55      0.58       374\n",
            "\n",
            "    accuracy                           0.79      1407\n",
            "   macro avg       0.73      0.71      0.72      1407\n",
            "weighted avg       0.78      0.79      0.78      1407\n",
            "\n"
          ],
          "name": "stdout"
        }
      ]
    },
    {
      "cell_type": "markdown",
      "metadata": {
        "id": "tWi2Csn3o6A9",
        "colab_type": "text"
      },
      "source": [
        "## Under sampling"
      ]
    },
    {
      "cell_type": "code",
      "metadata": {
        "id": "ra2q2fXVb08b",
        "colab_type": "code",
        "colab": {
          "base_uri": "https://localhost:8080/",
          "height": 139
        },
        "outputId": "a51a40c4-a1d9-4111-f81c-163a67559aa1"
      },
      "source": [
        "#imblearn library\n",
        "from imblearn.pipeline import make_pipeline as imbalanced_make_pipeline\n",
        "from imblearn.over_sampling import SMOTE\n",
        "from imblearn.under_sampling import NearMiss\n",
        "from imblearn.metrics import classification_report_imbalanced\n",
        "from collections import Counter"
      ],
      "execution_count": null,
      "outputs": [
        {
          "output_type": "stream",
          "text": [
            "/usr/local/lib/python3.6/dist-packages/sklearn/externals/six.py:31: FutureWarning: The module is deprecated in version 0.21 and will be removed in version 0.23 since we've dropped support for Python 2.7. Please rely on the official version of six (https://pypi.org/project/six/).\n",
            "  \"(https://pypi.org/project/six/).\", FutureWarning)\n",
            "/usr/local/lib/python3.6/dist-packages/sklearn/utils/deprecation.py:144: FutureWarning: The sklearn.neighbors.base module is  deprecated in version 0.22 and will be removed in version 0.24. The corresponding classes / functions should instead be imported from sklearn.neighbors. Anything that cannot be imported from sklearn.neighbors is now part of the private API.\n",
            "  warnings.warn(message, FutureWarning)\n",
            "/usr/local/lib/python3.6/dist-packages/sklearn/utils/deprecation.py:144: FutureWarning: The sklearn.metrics.classification module is  deprecated in version 0.22 and will be removed in version 0.24. The corresponding classes / functions should instead be imported from sklearn.metrics. Anything that cannot be imported from sklearn.metrics is now part of the private API.\n",
            "  warnings.warn(message, FutureWarning)\n"
          ],
          "name": "stderr"
        }
      ]
    },
    {
      "cell_type": "code",
      "metadata": {
        "id": "wCMBV5F6pAA6",
        "colab_type": "code",
        "colab": {
          "base_uri": "https://localhost:8080/",
          "height": 173
        },
        "outputId": "48b6df41-dd66-4033-9f86-211caeeebaec"
      },
      "source": [
        "nr = NearMiss()\n",
        "X_train_under, y_train_under = nr.fit_sample(X_train, y_train)\n",
        "print(X_train_under.shape)\n",
        "Counter(y_train_under)"
      ],
      "execution_count": null,
      "outputs": [
        {
          "output_type": "stream",
          "text": [
            "/usr/local/lib/python3.6/dist-packages/sklearn/utils/deprecation.py:87: FutureWarning: Function safe_indexing is deprecated; safe_indexing is deprecated in version 0.22 and will be removed in version 0.24.\n",
            "  warnings.warn(msg, category=FutureWarning)\n",
            "/usr/local/lib/python3.6/dist-packages/sklearn/utils/deprecation.py:87: FutureWarning: Function safe_indexing is deprecated; safe_indexing is deprecated in version 0.22 and will be removed in version 0.24.\n",
            "  warnings.warn(msg, category=FutureWarning)\n",
            "/usr/local/lib/python3.6/dist-packages/sklearn/utils/deprecation.py:87: FutureWarning: Function safe_indexing is deprecated; safe_indexing is deprecated in version 0.22 and will be removed in version 0.24.\n",
            "  warnings.warn(msg, category=FutureWarning)\n"
          ],
          "name": "stderr"
        },
        {
          "output_type": "stream",
          "text": [
            "(2392, 46)\n"
          ],
          "name": "stdout"
        },
        {
          "output_type": "execute_result",
          "data": {
            "text/plain": [
              "Counter({0: 1196, 1: 1196})"
            ]
          },
          "metadata": {
            "tags": []
          },
          "execution_count": 56
        }
      ]
    },
    {
      "cell_type": "code",
      "metadata": {
        "id": "qwtR2LHspDpz",
        "colab_type": "code",
        "colab": {
          "base_uri": "https://localhost:8080/",
          "height": 343
        },
        "outputId": "fedc1d68-0f98-4f4e-987a-f8f791980550"
      },
      "source": [
        "tf.random.set_seed(42)\n",
        "np.random.seed(42)\n",
        "\n",
        "DROPOUT = 0.3\n",
        "numlabel=1\n",
        "#output_bias=0.5\n",
        "#build the model\n",
        "#----input-------#\n",
        "model3 =Sequential()\n",
        "model3.add(Dense(30,input_dim=X_train.shape[1],activation='relu'))\n",
        "model3.add(Dropout(DROPOUT))\n",
        "#----hiden layer-------#\n",
        "model3.add(Dense(20,activation='relu'))\n",
        "model3.add(Dropout(DROPOUT))\n",
        "model3.add(Dense(10,activation='relu'))\n",
        "model3.add(Dropout(DROPOUT))\n",
        "#----output-------#\n",
        "model3.add(Dense(numlabel,activation='sigmoid',  #binary: sigmoid. multi: softmax\n",
        "                #bias_initializer=output_bias\n",
        "                )) \n",
        "# model3.summary()\n",
        "# compiling the model\n",
        "model3.compile(optimizer='Adam', \n",
        "              #optimizer=keras.optimizers.SGD(lr=1e-3),\n",
        "              loss='binary_crossentropy',\n",
        "              metrics=METRICS)\n",
        "# network and training\n",
        "EPOCHS = 200\n",
        "BATCH_SIZE = 100 #10 as normal\n",
        "\n",
        "# Set callback functions to early stop training and save the best model so far\n",
        "callbacks = [EarlyStopping(monitor=\"val_recall\", patience=3, # patient =3\n",
        "                           #mode='max',restore_best_weights=True #Not include as normal\n",
        "                           ),\n",
        "            ]\n",
        "#training the moodel\n",
        "result=model3.fit(X_train_under, y_train_under,\n",
        "                batch_size=BATCH_SIZE, epochs=EPOCHS,\n",
        "                callbacks=callbacks,\n",
        "                validation_data=(X_val, y_val),\n",
        "                verbose=2)\n",
        "predictions=model3.predict_classes(X_test)\n",
        "#y_test_labels = np.argmax(y_test.values, axis =1)\n",
        "print(classification_report(y_test,predictions))"
      ],
      "execution_count": null,
      "outputs": [
        {
          "output_type": "stream",
          "text": [
            "Train on 2392 samples, validate on 1125 samples\n",
            "Epoch 1/200\n",
            " - 0s - loss: 0.6905 - tp: 207167.0000 - fp: 97281.5859 - tn: 968886.8125 - fn: 179164.2500 - accuracy: 0.8097 - precision: 0.6805 - recall: 0.5362 - auc: 0.8530 - val_loss: 0.6628 - val_tp: 207621.6719 - val_fp: 97717.3359 - val_tn: 969496.7500 - val_fn: 179450.0000 - val_accuracy: 0.8094 - val_precision: 0.6800 - val_recall: 0.5364 - val_auc: 0.8528\n",
            "Epoch 2/200\n",
            " - 0s - loss: 0.6774 - tp: 208074.2969 - fp: 98165.6250 - tn: 970036.0000 - fn: 179740.8281 - accuracy: 0.8091 - precision: 0.6794 - recall: 0.5365 - auc: 0.8527 - val_loss: 0.6524 - val_tp: 208527.8281 - val_fp: 98554.3359 - val_tn: 970681.7500 - val_fn: 180038.8281 - val_accuracy: 0.8089 - val_precision: 0.6791 - val_recall: 0.5367 - val_auc: 0.8525\n",
            "Epoch 3/200\n",
            " - 0s - loss: 0.6727 - tp: 208978.7969 - fp: 98928.9141 - tn: 971284.5625 - fn: 180341.2500 - accuracy: 0.8087 - precision: 0.6787 - recall: 0.5368 - auc: 0.8523 - val_loss: 0.6441 - val_tp: 209446.5781 - val_fp: 99335.5000 - val_tn: 971922.5625 - val_fn: 180615.0781 - val_accuracy: 0.8084 - val_precision: 0.6783 - val_recall: 0.5370 - val_auc: 0.8522\n",
            "Epoch 4/200\n",
            " - 0s - loss: 0.6670 - tp: 209937.2500 - fp: 99737.8359 - tn: 972503.1875 - fn: 180872.5000 - accuracy: 0.8082 - precision: 0.6779 - recall: 0.5372 - auc: 0.8520 - val_loss: 0.6317 - val_tp: 210412.5781 - val_fp: 100123.0859 - val_tn: 973157.0000 - val_fn: 181144.0781 - val_accuracy: 0.8080 - val_precision: 0.6776 - val_recall: 0.5374 - val_auc: 0.8519\n",
            "              precision    recall  f1-score   support\n",
            "\n",
            "           0       0.89      0.71      0.79      1033\n",
            "           1       0.49      0.75      0.59       374\n",
            "\n",
            "    accuracy                           0.72      1407\n",
            "   macro avg       0.69      0.73      0.69      1407\n",
            "weighted avg       0.78      0.72      0.74      1407\n",
            "\n"
          ],
          "name": "stdout"
        }
      ]
    },
    {
      "cell_type": "markdown",
      "metadata": {
        "id": "tgRxW6LSp3qW",
        "colab_type": "text"
      },
      "source": [
        "## SMOTE"
      ]
    },
    {
      "cell_type": "code",
      "metadata": {
        "id": "Rj6zDkrqpXM3",
        "colab_type": "code",
        "colab": {
          "base_uri": "https://localhost:8080/",
          "height": 105
        },
        "outputId": "e42b1cf3-a2f1-4fe2-f083-67547d398e64"
      },
      "source": [
        "smt = SMOTE()\n",
        "X_train_smote, y_train_smote = smt.fit_sample(X_train, y_train)\n",
        "print(X_train_smote.shape)\n",
        "Counter(y_train_smote)"
      ],
      "execution_count": null,
      "outputs": [
        {
          "output_type": "stream",
          "text": [
            "(6608, 46)\n"
          ],
          "name": "stdout"
        },
        {
          "output_type": "stream",
          "text": [
            "/usr/local/lib/python3.6/dist-packages/sklearn/utils/deprecation.py:87: FutureWarning: Function safe_indexing is deprecated; safe_indexing is deprecated in version 0.22 and will be removed in version 0.24.\n",
            "  warnings.warn(msg, category=FutureWarning)\n"
          ],
          "name": "stderr"
        },
        {
          "output_type": "execute_result",
          "data": {
            "text/plain": [
              "Counter({0: 3304, 1: 3304})"
            ]
          },
          "metadata": {
            "tags": []
          },
          "execution_count": 59
        }
      ]
    },
    {
      "cell_type": "code",
      "metadata": {
        "id": "bIohNXpup6Mr",
        "colab_type": "code",
        "colab": {
          "base_uri": "https://localhost:8080/",
          "height": 343
        },
        "outputId": "48bbcbbb-d962-4a2a-d118-2495b1d6b469"
      },
      "source": [
        "tf.random.set_seed(42)\n",
        "np.random.seed(42)\n",
        "\n",
        "DROPOUT = 0.3\n",
        "numlabel=1\n",
        "#output_bias=0.5\n",
        "#build the model\n",
        "#----input-------#\n",
        "model3 =Sequential()\n",
        "model3.add(Dense(30,input_dim=X_train.shape[1],activation='relu'))\n",
        "model3.add(Dropout(DROPOUT))\n",
        "#----hiden layer-------#\n",
        "model3.add(Dense(20,activation='relu'))\n",
        "model3.add(Dropout(DROPOUT))\n",
        "model3.add(Dense(10,activation='relu'))\n",
        "model3.add(Dropout(DROPOUT))\n",
        "#----output-------#\n",
        "model3.add(Dense(numlabel,activation='sigmoid',  #binary: sigmoid. multi: softmax\n",
        "                #bias_initializer=output_bias\n",
        "                )) \n",
        "# model3.summary()\n",
        "# compiling the model\n",
        "model3.compile(optimizer='Adam', \n",
        "              #optimizer=keras.optimizers.SGD(lr=1e-3),\n",
        "              loss='binary_crossentropy',\n",
        "              metrics=METRICS)\n",
        "# network and training\n",
        "EPOCHS = 200\n",
        "BATCH_SIZE = 100 #10 as normal\n",
        "\n",
        "# Set callback functions to early stop training and save the best model so far\n",
        "callbacks = [EarlyStopping(monitor=\"val_recall\", patience=3, # patient =3\n",
        "                           #mode='max',restore_best_weights=True #Not include as normal\n",
        "                           ),\n",
        "            ]\n",
        "#training the moodel\n",
        "result=model3.fit(X_train_smote, y_train_smote,\n",
        "                batch_size=BATCH_SIZE, epochs=EPOCHS,\n",
        "                callbacks=callbacks,\n",
        "                validation_data=(X_val, y_val),\n",
        "                verbose=2)\n",
        "predictions=model3.predict_classes(X_test)\n",
        "#y_test_labels = np.argmax(y_test.values, axis =1)\n",
        "print(classification_report(y_test,predictions))"
      ],
      "execution_count": null,
      "outputs": [
        {
          "output_type": "stream",
          "text": [
            "Train on 6608 samples, validate on 1125 samples\n",
            "Epoch 1/200\n",
            " - 1s - loss: 0.6548 - tp: 211574.6250 - fp: 101021.9219 - tn: 974310.8750 - fn: 181809.3750 - accuracy: 0.8074 - precision: 0.6768 - recall: 0.5378 - auc: 0.8516 - val_loss: 0.6059 - val_tp: 212787.1719 - val_fp: 101849.5859 - val_tn: 975560.5000 - val_fn: 182372.5000 - val_accuracy: 0.8070 - val_precision: 0.6763 - val_recall: 0.5385 - val_auc: 0.8513\n",
            "Epoch 2/200\n",
            " - 0s - loss: 0.5966 - tp: 214014.3594 - fp: 102457.6094 - tn: 977013.6250 - fn: 182964.1094 - accuracy: 0.8067 - precision: 0.6763 - recall: 0.5391 - auc: 0.8512 - val_loss: 0.5264 - val_tp: 215245.5000 - val_fp: 103032.3359 - val_tn: 978507.7500 - val_fn: 183517.1719 - val_accuracy: 0.8064 - val_precision: 0.6763 - val_recall: 0.5398 - val_auc: 0.8511\n",
            "Epoch 3/200\n",
            " - 0s - loss: 0.5409 - tp: 216543.9375 - fp: 103530.1016 - tn: 980081.1875 - fn: 184027.2656 - accuracy: 0.8063 - precision: 0.6765 - recall: 0.5406 - auc: 0.8511 - val_loss: 0.5018 - val_tp: 217858.4219 - val_fp: 104031.4141 - val_tn: 981638.6875 - val_fn: 184507.2500 - val_accuracy: 0.8061 - val_precision: 0.6768 - val_recall: 0.5414 - val_auc: 0.8511\n",
            "Epoch 4/200\n",
            " - 0s - loss: 0.5237 - tp: 219280.3125 - fp: 104572.3906 - tn: 983142.5000 - fn: 184920.2656 - accuracy: 0.8060 - precision: 0.6771 - recall: 0.5425 - auc: 0.8512 - val_loss: 0.4706 - val_tp: 220655.7500 - val_fp: 105118.4141 - val_tn: 984681.6875 - val_fn: 185312.9219 - val_accuracy: 0.8058 - val_precision: 0.6773 - val_recall: 0.5435 - val_auc: 0.8512\n",
            "              precision    recall  f1-score   support\n",
            "\n",
            "           0       0.91      0.74      0.81      1033\n",
            "           1       0.52      0.79      0.63       374\n",
            "\n",
            "    accuracy                           0.75      1407\n",
            "   macro avg       0.71      0.76      0.72      1407\n",
            "weighted avg       0.80      0.75      0.77      1407\n",
            "\n"
          ],
          "name": "stdout"
        }
      ]
    },
    {
      "cell_type": "markdown",
      "metadata": {
        "id": "otbKw120qENs",
        "colab_type": "text"
      },
      "source": [
        "## MSMOTE"
      ]
    },
    {
      "cell_type": "code",
      "metadata": {
        "id": "7cnve2gPp_dC",
        "colab_type": "code",
        "colab": {
          "base_uri": "https://localhost:8080/",
          "height": 1000
        },
        "outputId": "431c0c0e-90b2-41e7-bc9f-97c31c2a9d20"
      },
      "source": [
        "!pip install smote_variants"
      ],
      "execution_count": null,
      "outputs": [
        {
          "output_type": "stream",
          "text": [
            "Collecting smote_variants\n",
            "\u001b[?25l  Downloading https://files.pythonhosted.org/packages/c2/a9/ce76c71804f935c00e7a4f4222ea83744f88ae140b080e4428535fc88ddc/smote_variants-0.3.13-py3-none-any.whl (131kB)\n",
            "\r\u001b[K     |██▌                             | 10kB 15.5MB/s eta 0:00:01\r\u001b[K     |█████                           | 20kB 2.8MB/s eta 0:00:01\r\u001b[K     |███████▌                        | 30kB 3.6MB/s eta 0:00:01\r\u001b[K     |██████████                      | 40kB 4.1MB/s eta 0:00:01\r\u001b[K     |████████████▍                   | 51kB 3.2MB/s eta 0:00:01\r\u001b[K     |███████████████                 | 61kB 3.6MB/s eta 0:00:01\r\u001b[K     |█████████████████▍              | 71kB 3.8MB/s eta 0:00:01\r\u001b[K     |████████████████████            | 81kB 4.2MB/s eta 0:00:01\r\u001b[K     |██████████████████████▍         | 92kB 4.4MB/s eta 0:00:01\r\u001b[K     |████████████████████████▉       | 102kB 4.3MB/s eta 0:00:01\r\u001b[K     |███████████████████████████▍    | 112kB 4.3MB/s eta 0:00:01\r\u001b[K     |█████████████████████████████▉  | 122kB 4.3MB/s eta 0:00:01\r\u001b[K     |████████████████████████████████| 133kB 4.3MB/s \n",
            "\u001b[?25hRequirement already satisfied: scipy in /usr/local/lib/python3.6/dist-packages (from smote_variants) (1.4.1)\n",
            "Requirement already satisfied: tensorflow in /usr/local/lib/python3.6/dist-packages (from smote_variants) (2.2.0)\n",
            "Requirement already satisfied: mkl in /usr/local/lib/python3.6/dist-packages (from smote_variants) (2019.0)\n",
            "Requirement already satisfied: keras in /usr/local/lib/python3.6/dist-packages (from smote_variants) (2.3.1)\n",
            "Requirement already satisfied: scikit-learn in /usr/local/lib/python3.6/dist-packages (from smote_variants) (0.22.2.post1)\n",
            "Collecting statistics\n",
            "  Downloading https://files.pythonhosted.org/packages/bb/3a/ae99a15e65636559d936dd2159d75af1619491e8cb770859fbc8aa62cef6/statistics-1.0.3.5.tar.gz\n",
            "Collecting minisom\n",
            "  Downloading https://files.pythonhosted.org/packages/9d/10/a1c1621000d5ca00c41695689551c1a4d6d245d7bbf099d81e067da3e8f2/MiniSom-2.2.6.tar.gz\n",
            "Requirement already satisfied: numpy>=1.13.0 in /usr/local/lib/python3.6/dist-packages (from smote_variants) (1.18.5)\n",
            "Requirement already satisfied: joblib in /usr/local/lib/python3.6/dist-packages (from smote_variants) (0.15.1)\n",
            "Requirement already satisfied: pandas in /usr/local/lib/python3.6/dist-packages (from smote_variants) (1.0.5)\n",
            "Requirement already satisfied: tensorboard<2.3.0,>=2.2.0 in /usr/local/lib/python3.6/dist-packages (from tensorflow->smote_variants) (2.2.2)\n",
            "Requirement already satisfied: absl-py>=0.7.0 in /usr/local/lib/python3.6/dist-packages (from tensorflow->smote_variants) (0.9.0)\n",
            "Requirement already satisfied: termcolor>=1.1.0 in /usr/local/lib/python3.6/dist-packages (from tensorflow->smote_variants) (1.1.0)\n",
            "Requirement already satisfied: grpcio>=1.8.6 in /usr/local/lib/python3.6/dist-packages (from tensorflow->smote_variants) (1.30.0)\n",
            "Requirement already satisfied: protobuf>=3.8.0 in /usr/local/lib/python3.6/dist-packages (from tensorflow->smote_variants) (3.10.0)\n",
            "Requirement already satisfied: astunparse==1.6.3 in /usr/local/lib/python3.6/dist-packages (from tensorflow->smote_variants) (1.6.3)\n",
            "Requirement already satisfied: h5py<2.11.0,>=2.10.0 in /usr/local/lib/python3.6/dist-packages (from tensorflow->smote_variants) (2.10.0)\n",
            "Requirement already satisfied: wrapt>=1.11.1 in /usr/local/lib/python3.6/dist-packages (from tensorflow->smote_variants) (1.12.1)\n",
            "Requirement already satisfied: six>=1.12.0 in /usr/local/lib/python3.6/dist-packages (from tensorflow->smote_variants) (1.12.0)\n",
            "Requirement already satisfied: tensorflow-estimator<2.3.0,>=2.2.0 in /usr/local/lib/python3.6/dist-packages (from tensorflow->smote_variants) (2.2.0)\n",
            "Requirement already satisfied: wheel>=0.26; python_version >= \"3\" in /usr/local/lib/python3.6/dist-packages (from tensorflow->smote_variants) (0.34.2)\n",
            "Requirement already satisfied: keras-preprocessing>=1.1.0 in /usr/local/lib/python3.6/dist-packages (from tensorflow->smote_variants) (1.1.2)\n",
            "Requirement already satisfied: opt-einsum>=2.3.2 in /usr/local/lib/python3.6/dist-packages (from tensorflow->smote_variants) (3.2.1)\n",
            "Requirement already satisfied: google-pasta>=0.1.8 in /usr/local/lib/python3.6/dist-packages (from tensorflow->smote_variants) (0.2.0)\n",
            "Requirement already satisfied: gast==0.3.3 in /usr/local/lib/python3.6/dist-packages (from tensorflow->smote_variants) (0.3.3)\n",
            "Requirement already satisfied: intel-openmp in /usr/local/lib/python3.6/dist-packages (from mkl->smote_variants) (2020.0.133)\n",
            "Requirement already satisfied: keras-applications>=1.0.6 in /usr/local/lib/python3.6/dist-packages (from keras->smote_variants) (1.0.8)\n",
            "Requirement already satisfied: pyyaml in /usr/local/lib/python3.6/dist-packages (from keras->smote_variants) (3.13)\n",
            "Requirement already satisfied: docutils>=0.3 in /usr/local/lib/python3.6/dist-packages (from statistics->smote_variants) (0.15.2)\n",
            "Requirement already satisfied: pytz>=2017.2 in /usr/local/lib/python3.6/dist-packages (from pandas->smote_variants) (2018.9)\n",
            "Requirement already satisfied: python-dateutil>=2.6.1 in /usr/local/lib/python3.6/dist-packages (from pandas->smote_variants) (2.8.1)\n",
            "Requirement already satisfied: setuptools>=41.0.0 in /usr/local/lib/python3.6/dist-packages (from tensorboard<2.3.0,>=2.2.0->tensorflow->smote_variants) (47.3.1)\n",
            "Requirement already satisfied: google-auth-oauthlib<0.5,>=0.4.1 in /usr/local/lib/python3.6/dist-packages (from tensorboard<2.3.0,>=2.2.0->tensorflow->smote_variants) (0.4.1)\n",
            "Requirement already satisfied: werkzeug>=0.11.15 in /usr/local/lib/python3.6/dist-packages (from tensorboard<2.3.0,>=2.2.0->tensorflow->smote_variants) (1.0.1)\n",
            "Requirement already satisfied: markdown>=2.6.8 in /usr/local/lib/python3.6/dist-packages (from tensorboard<2.3.0,>=2.2.0->tensorflow->smote_variants) (3.2.2)\n",
            "Requirement already satisfied: tensorboard-plugin-wit>=1.6.0 in /usr/local/lib/python3.6/dist-packages (from tensorboard<2.3.0,>=2.2.0->tensorflow->smote_variants) (1.6.0.post3)\n",
            "Requirement already satisfied: google-auth<2,>=1.6.3 in /usr/local/lib/python3.6/dist-packages (from tensorboard<2.3.0,>=2.2.0->tensorflow->smote_variants) (1.17.2)\n",
            "Requirement already satisfied: requests<3,>=2.21.0 in /usr/local/lib/python3.6/dist-packages (from tensorboard<2.3.0,>=2.2.0->tensorflow->smote_variants) (2.23.0)\n",
            "Requirement already satisfied: requests-oauthlib>=0.7.0 in /usr/local/lib/python3.6/dist-packages (from google-auth-oauthlib<0.5,>=0.4.1->tensorboard<2.3.0,>=2.2.0->tensorflow->smote_variants) (1.3.0)\n",
            "Requirement already satisfied: importlib-metadata; python_version < \"3.8\" in /usr/local/lib/python3.6/dist-packages (from markdown>=2.6.8->tensorboard<2.3.0,>=2.2.0->tensorflow->smote_variants) (1.6.1)\n",
            "Requirement already satisfied: cachetools<5.0,>=2.0.0 in /usr/local/lib/python3.6/dist-packages (from google-auth<2,>=1.6.3->tensorboard<2.3.0,>=2.2.0->tensorflow->smote_variants) (4.1.0)\n",
            "Requirement already satisfied: rsa<5,>=3.1.4; python_version >= \"3\" in /usr/local/lib/python3.6/dist-packages (from google-auth<2,>=1.6.3->tensorboard<2.3.0,>=2.2.0->tensorflow->smote_variants) (4.6)\n",
            "Requirement already satisfied: pyasn1-modules>=0.2.1 in /usr/local/lib/python3.6/dist-packages (from google-auth<2,>=1.6.3->tensorboard<2.3.0,>=2.2.0->tensorflow->smote_variants) (0.2.8)\n",
            "Requirement already satisfied: idna<3,>=2.5 in /usr/local/lib/python3.6/dist-packages (from requests<3,>=2.21.0->tensorboard<2.3.0,>=2.2.0->tensorflow->smote_variants) (2.9)\n",
            "Requirement already satisfied: certifi>=2017.4.17 in /usr/local/lib/python3.6/dist-packages (from requests<3,>=2.21.0->tensorboard<2.3.0,>=2.2.0->tensorflow->smote_variants) (2020.6.20)\n",
            "Requirement already satisfied: chardet<4,>=3.0.2 in /usr/local/lib/python3.6/dist-packages (from requests<3,>=2.21.0->tensorboard<2.3.0,>=2.2.0->tensorflow->smote_variants) (3.0.4)\n",
            "Requirement already satisfied: urllib3!=1.25.0,!=1.25.1,<1.26,>=1.21.1 in /usr/local/lib/python3.6/dist-packages (from requests<3,>=2.21.0->tensorboard<2.3.0,>=2.2.0->tensorflow->smote_variants) (1.24.3)\n",
            "Requirement already satisfied: oauthlib>=3.0.0 in /usr/local/lib/python3.6/dist-packages (from requests-oauthlib>=0.7.0->google-auth-oauthlib<0.5,>=0.4.1->tensorboard<2.3.0,>=2.2.0->tensorflow->smote_variants) (3.1.0)\n",
            "Requirement already satisfied: zipp>=0.5 in /usr/local/lib/python3.6/dist-packages (from importlib-metadata; python_version < \"3.8\"->markdown>=2.6.8->tensorboard<2.3.0,>=2.2.0->tensorflow->smote_variants) (3.1.0)\n",
            "Requirement already satisfied: pyasn1>=0.1.3 in /usr/local/lib/python3.6/dist-packages (from rsa<5,>=3.1.4; python_version >= \"3\"->google-auth<2,>=1.6.3->tensorboard<2.3.0,>=2.2.0->tensorflow->smote_variants) (0.4.8)\n",
            "Building wheels for collected packages: statistics, minisom\n",
            "  Building wheel for statistics (setup.py) ... \u001b[?25l\u001b[?25hdone\n",
            "  Created wheel for statistics: filename=statistics-1.0.3.5-cp36-none-any.whl size=7453 sha256=72120887d227ad19210b8141257c7fcb10859e2aa8e2394f7d0299aa1a51fc72\n",
            "  Stored in directory: /root/.cache/pip/wheels/75/55/90/73aa7662bfb4565b567618547a275f01372a678ca92ecd64f3\n",
            "  Building wheel for minisom (setup.py) ... \u001b[?25l\u001b[?25hdone\n",
            "  Created wheel for minisom: filename=MiniSom-2.2.6-cp36-none-any.whl size=8525 sha256=ceae57b0d1f91cf1708acb5f74e4ab5ac228d0b88b95110fff8f7432c7942777\n",
            "  Stored in directory: /root/.cache/pip/wheels/b8/c6/01/330066e36e1f7c826c96f656f9185822cfcdef0591315949ea\n",
            "Successfully built statistics minisom\n",
            "Installing collected packages: statistics, minisom, smote-variants\n",
            "Successfully installed minisom-2.2.6 smote-variants-0.3.13 statistics-1.0.3.5\n"
          ],
          "name": "stdout"
        }
      ]
    },
    {
      "cell_type": "code",
      "metadata": {
        "id": "IdE176p6qGUF",
        "colab_type": "code",
        "colab": {
          "base_uri": "https://localhost:8080/",
          "height": 88
        },
        "outputId": "3b9c9b1d-9fe9-49b8-b4d2-fb3f676adc0e"
      },
      "source": [
        "import smote_variants as sv\n",
        "# Instantiating the MSMOTE class\n",
        "oversampler= sv.MSMOTE()\n",
        "X_train_msmote, y_train_msmote = oversampler.sample(np.array(X_train), np.array(y_train))\n",
        "print(X_train_msmote.shape)\n",
        "Counter(y_train_msmote)"
      ],
      "execution_count": null,
      "outputs": [
        {
          "output_type": "stream",
          "text": [
            "2020-06-29 10:39:00,344:INFO:MSMOTE: Running sampling via ('MSMOTE', \"{'proportion': 1.0, 'n_neighbors': 5, 'n_jobs': 1, 'random_state': None}\")\n"
          ],
          "name": "stderr"
        },
        {
          "output_type": "stream",
          "text": [
            "(6608, 46)\n"
          ],
          "name": "stdout"
        },
        {
          "output_type": "execute_result",
          "data": {
            "text/plain": [
              "Counter({0: 3304, 1: 3304})"
            ]
          },
          "metadata": {
            "tags": []
          },
          "execution_count": 62
        }
      ]
    },
    {
      "cell_type": "code",
      "metadata": {
        "id": "cXhK1o8OqJ02",
        "colab_type": "code",
        "colab": {
          "base_uri": "https://localhost:8080/",
          "height": 343
        },
        "outputId": "d56cf1f6-8f3d-4e14-b3a1-65a4233b2155"
      },
      "source": [
        "tf.random.set_seed(42)\n",
        "np.random.seed(42)\n",
        "\n",
        "DROPOUT = 0.3\n",
        "numlabel=1\n",
        "#output_bias=0.5\n",
        "#build the model\n",
        "#----input-------#\n",
        "model3 =Sequential()\n",
        "model3.add(Dense(30,input_dim=X_train.shape[1],activation='relu'))\n",
        "model3.add(Dropout(DROPOUT))\n",
        "#----hiden layer-------#\n",
        "model3.add(Dense(20,activation='relu'))\n",
        "model3.add(Dropout(DROPOUT))\n",
        "model3.add(Dense(10,activation='relu'))\n",
        "model3.add(Dropout(DROPOUT))\n",
        "#----output-------#\n",
        "model3.add(Dense(numlabel,activation='sigmoid',  #binary: sigmoid. multi: softmax\n",
        "                #bias_initializer=output_bias\n",
        "                )) \n",
        "# model3.summary()\n",
        "# compiling the model\n",
        "model3.compile(optimizer='Adam', \n",
        "              #optimizer=keras.optimizers.SGD(lr=1e-3),\n",
        "              loss='binary_crossentropy',\n",
        "              metrics=METRICS)\n",
        "# network and training\n",
        "EPOCHS = 200\n",
        "BATCH_SIZE = 100 #10 as normal\n",
        "\n",
        "# Set callback functions to early stop training and save the best model so far\n",
        "callbacks = [EarlyStopping(monitor=\"val_recall\", patience=3, # patient =3\n",
        "                           #mode='max',restore_best_weights=True #Not include as normal\n",
        "                           ),\n",
        "            ]\n",
        "#training the moodel\n",
        "result=model3.fit(X_train_msmote, y_train_msmote,\n",
        "                batch_size=BATCH_SIZE, epochs=EPOCHS,\n",
        "                callbacks=callbacks,\n",
        "                validation_data=(X_val, y_val),\n",
        "                verbose=2)\n",
        "predictions=model3.predict_classes(X_test)\n",
        "#y_test_labels = np.argmax(y_test.values, axis =1)\n",
        "print(classification_report(y_test,predictions))"
      ],
      "execution_count": null,
      "outputs": [
        {
          "output_type": "stream",
          "text": [
            "Train on 6608 samples, validate on 1125 samples\n",
            "Epoch 1/200\n",
            " - 1s - loss: 0.6524 - tp: 221838.7188 - fp: 106011.3906 - tn: 985841.3125 - fn: 185957.2812 - accuracy: 0.8053 - precision: 0.6766 - recall: 0.5440 - auc: 0.8510 - val_loss: 0.5988 - val_tp: 223062.0781 - val_fp: 106817.4141 - val_tn: 987112.6875 - val_fn: 186509.5781 - val_accuracy: 0.8049 - val_precision: 0.6762 - val_recall: 0.5446 - val_auc: 0.8508\n",
            "Epoch 2/200\n",
            " - 0s - loss: 0.5866 - tp: 224290.2656 - fp: 107385.4141 - tn: 988605.8125 - fn: 187100.1875 - accuracy: 0.8046 - precision: 0.6762 - recall: 0.5452 - auc: 0.8507 - val_loss: 0.5216 - val_tp: 225537.6719 - val_fp: 107932.0859 - val_tn: 990128.0000 - val_fn: 187637.0000 - val_accuracy: 0.8044 - val_precision: 0.6763 - val_recall: 0.5459 - val_auc: 0.8506\n",
            "Epoch 3/200\n",
            " - 0s - loss: 0.5259 - tp: 226850.7656 - fp: 108420.8516 - tn: 991710.3125 - fn: 188132.4531 - accuracy: 0.8043 - precision: 0.6766 - recall: 0.5466 - auc: 0.8506 - val_loss: 0.4853 - val_tp: 228201.9219 - val_fp: 108917.9141 - val_tn: 993272.1875 - val_fn: 188575.7500 - val_accuracy: 0.8041 - val_precision: 0.6769 - val_recall: 0.5475 - val_auc: 0.8507\n",
            "Epoch 4/200\n",
            " - 0s - loss: 0.5006 - tp: 229653.2656 - fp: 109437.8516 - tn: 994797.1875 - fn: 188959.3125 - accuracy: 0.8041 - precision: 0.6773 - recall: 0.5486 - auc: 0.8508 - val_loss: 0.4597 - val_tp: 231043.5781 - val_fp: 109961.2500 - val_tn: 996358.8125 - val_fn: 189337.0781 - val_accuracy: 0.8040 - val_precision: 0.6775 - val_recall: 0.5496 - val_auc: 0.8509\n",
            "              precision    recall  f1-score   support\n",
            "\n",
            "           0       0.90      0.74      0.81      1033\n",
            "           1       0.52      0.78      0.63       374\n",
            "\n",
            "    accuracy                           0.75      1407\n",
            "   macro avg       0.71      0.76      0.72      1407\n",
            "weighted avg       0.80      0.75      0.76      1407\n",
            "\n"
          ],
          "name": "stdout"
        }
      ]
    },
    {
      "cell_type": "markdown",
      "metadata": {
        "id": "ieHkidLoqVm0",
        "colab_type": "text"
      },
      "source": [
        "## Try all method imbalanced"
      ]
    },
    {
      "cell_type": "code",
      "metadata": {
        "id": "ZkiEPhcCqUKs",
        "colab_type": "code",
        "colab": {}
      },
      "source": [
        "from imblearn.under_sampling import RandomUnderSampler,NearMiss,RepeatedEditedNearestNeighbours\n",
        "from imblearn.under_sampling import AllKNN,CondensedNearestNeighbour,OneSidedSelection,NeighbourhoodCleaningRule\n",
        "from imblearn.over_sampling import ADASYN,SMOTE, BorderlineSMOTE, SVMSMOTE\n",
        "from imblearn.over_sampling import RandomOverSampler"
      ],
      "execution_count": null,
      "outputs": []
    },
    {
      "cell_type": "code",
      "metadata": {
        "id": "Kv0_IgUAqQbH",
        "colab_type": "code",
        "colab": {}
      },
      "source": [
        "list_method={\n",
        "# Under sampling\n",
        "'NearMiss':NearMiss(),\n",
        "#'RandomUnderSampler':RandomUnderSampler(random_state=0),\n",
        "#'RepeatedEditedNearestNeighbours':RepeatedEditedNearestNeighbours(random_state=0), # Very long\n",
        "#'AllKNN':AllKNN(random_state=0),\n",
        "#'CondensedNearestNeighbour':CondensedNearestNeighbour(random_state=0),\n",
        "#'OneSidedSelection':OneSidedSelection(random_state=0),\n",
        "#'NeighbourhoodCleaningRule':NeighbourhoodCleaningRule(random_state=0),\n",
        "\n",
        "# Over sampling\n",
        "'RandomOverSampler':RandomOverSampler(random_state=0),\n",
        "'SMOTE':SMOTE(random_state=0),\n",
        "'ADASYN':ADASYN(random_state=0),\n",
        "'BorderlineSMOTE-1':BorderlineSMOTE(random_state=0, kind='borderline-1'),\n",
        "'BorderlineSMOTE-2':BorderlineSMOTE(random_state=0, kind='borderline-2'),\n",
        "'SVMSMOTE':SVMSMOTE(random_state=0),\n",
        "}"
      ],
      "execution_count": null,
      "outputs": []
    },
    {
      "cell_type": "code",
      "metadata": {
        "id": "ANb4NQa5qcEl",
        "colab_type": "code",
        "colab": {}
      },
      "source": [
        "def make_model():\n",
        "  METRICS = [\n",
        "      keras.metrics.TruePositives(name='tp'),\n",
        "      keras.metrics.FalsePositives(name='fp'),\n",
        "      keras.metrics.TrueNegatives(name='tn'),\n",
        "      keras.metrics.FalseNegatives(name='fn'), \n",
        "      keras.metrics.BinaryAccuracy(name='accuracy'),\n",
        "      keras.metrics.Precision(name='precision'),\n",
        "      keras.metrics.Recall(name='recall'),\n",
        "      keras.metrics.AUC(name='auc'),\n",
        "  ]\n",
        "  tf.random.set_seed(42)\n",
        "  np.random.seed(42)\n",
        "\n",
        "  DROPOUT = 0.3\n",
        "  numlabel=1\n",
        "  #output_bias=0.5\n",
        "  #build the model\n",
        "  #----input-------#\n",
        "  model3 =Sequential()\n",
        "  model3.add(Dense(30,input_dim=X_train.shape[1],activation='relu'))\n",
        "  model3.add(Dropout(DROPOUT))\n",
        "  #----hiden layer-------#\n",
        "  model3.add(Dense(20,activation='relu'))\n",
        "  model3.add(Dropout(DROPOUT))\n",
        "  model3.add(Dense(10,activation='relu'))\n",
        "  model3.add(Dropout(DROPOUT))\n",
        "  #----output-------#\n",
        "  model3.add(Dense(numlabel,activation='sigmoid',  #binary: sigmoid. multi: softmax\n",
        "                  #bias_initializer=output_bias\n",
        "                  )) \n",
        "  # model3.summary()\n",
        "  # compiling the model\n",
        "  model3.compile(optimizer='Adam', \n",
        "                #optimizer=keras.optimizers.SGD(lr=1e-3),\n",
        "                loss='binary_crossentropy',\n",
        "                metrics=METRICS)\n",
        "  return model3"
      ],
      "execution_count": null,
      "outputs": []
    },
    {
      "cell_type": "code",
      "metadata": {
        "id": "Pf88CKxuq02N",
        "colab_type": "code",
        "colab": {
          "base_uri": "https://localhost:8080/",
          "height": 1000
        },
        "outputId": "c592f348-4244-4bd8-d3a5-c4fe832090f5"
      },
      "source": [
        "import time\n",
        "# network and training\n",
        "EPOCHS = 200\n",
        "BATCH_SIZE = 100 #10 as normal\n",
        "callbacks = [EarlyStopping(monitor=\"val_recall\", patience=3)]\n",
        "#training the moodel\n",
        "for name,method in list_method.items():\n",
        "  \n",
        "  t0=time.time()\n",
        "  print(name)\n",
        "  X_train_transform, y_train_transform= method.fit_sample(X_train, y_train)\n",
        "  model=make_model()\n",
        "  result=model.fit(X_train_transform, y_train_transform,\n",
        "                batch_size=BATCH_SIZE, epochs=EPOCHS,\n",
        "                callbacks=callbacks,\n",
        "                validation_data=(X_val, y_val),\n",
        "                verbose=0)\n",
        "  predictions=model.predict_classes(X_test)\n",
        "  #y_test_labels = np.argmax(y_test.values, axis =1)\n",
        "  t1=time.time()\n",
        "  print('time',t1-t0)\n",
        "  print(classification_report(y_test,predictions))\n",
        "  "
      ],
      "execution_count": null,
      "outputs": [
        {
          "output_type": "stream",
          "text": [
            "NearMiss\n"
          ],
          "name": "stdout"
        },
        {
          "output_type": "stream",
          "text": [
            "/usr/local/lib/python3.6/dist-packages/sklearn/utils/deprecation.py:87: FutureWarning: Function safe_indexing is deprecated; safe_indexing is deprecated in version 0.22 and will be removed in version 0.24.\n",
            "  warnings.warn(msg, category=FutureWarning)\n",
            "/usr/local/lib/python3.6/dist-packages/sklearn/utils/deprecation.py:87: FutureWarning: Function safe_indexing is deprecated; safe_indexing is deprecated in version 0.22 and will be removed in version 0.24.\n",
            "  warnings.warn(msg, category=FutureWarning)\n",
            "/usr/local/lib/python3.6/dist-packages/sklearn/utils/deprecation.py:87: FutureWarning: Function safe_indexing is deprecated; safe_indexing is deprecated in version 0.22 and will be removed in version 0.24.\n",
            "  warnings.warn(msg, category=FutureWarning)\n"
          ],
          "name": "stderr"
        },
        {
          "output_type": "stream",
          "text": [
            "time 2.5713160037994385\n",
            "              precision    recall  f1-score   support\n",
            "\n",
            "           0       0.89      0.71      0.79      1033\n",
            "           1       0.49      0.75      0.59       374\n",
            "\n",
            "    accuracy                           0.72      1407\n",
            "   macro avg       0.69      0.73      0.69      1407\n",
            "weighted avg       0.78      0.72      0.74      1407\n",
            "\n",
            "RandomOverSampler\n"
          ],
          "name": "stdout"
        },
        {
          "output_type": "stream",
          "text": [
            "/usr/local/lib/python3.6/dist-packages/sklearn/utils/deprecation.py:87: FutureWarning: Function safe_indexing is deprecated; safe_indexing is deprecated in version 0.22 and will be removed in version 0.24.\n",
            "  warnings.warn(msg, category=FutureWarning)\n"
          ],
          "name": "stderr"
        },
        {
          "output_type": "stream",
          "text": [
            "time 2.9513885974884033\n",
            "              precision    recall  f1-score   support\n",
            "\n",
            "           0       0.90      0.74      0.81      1033\n",
            "           1       0.52      0.77      0.62       374\n",
            "\n",
            "    accuracy                           0.75      1407\n",
            "   macro avg       0.71      0.76      0.72      1407\n",
            "weighted avg       0.80      0.75      0.76      1407\n",
            "\n",
            "SMOTE\n"
          ],
          "name": "stdout"
        },
        {
          "output_type": "stream",
          "text": [
            "/usr/local/lib/python3.6/dist-packages/sklearn/utils/deprecation.py:87: FutureWarning: Function safe_indexing is deprecated; safe_indexing is deprecated in version 0.22 and will be removed in version 0.24.\n",
            "  warnings.warn(msg, category=FutureWarning)\n"
          ],
          "name": "stderr"
        },
        {
          "output_type": "stream",
          "text": [
            "time 2.793410539627075\n",
            "              precision    recall  f1-score   support\n",
            "\n",
            "           0       0.90      0.75      0.82      1033\n",
            "           1       0.53      0.77      0.63       374\n",
            "\n",
            "    accuracy                           0.76      1407\n",
            "   macro avg       0.72      0.76      0.72      1407\n",
            "weighted avg       0.80      0.76      0.77      1407\n",
            "\n",
            "ADASYN\n"
          ],
          "name": "stdout"
        },
        {
          "output_type": "stream",
          "text": [
            "/usr/local/lib/python3.6/dist-packages/sklearn/utils/deprecation.py:87: FutureWarning: Function safe_indexing is deprecated; safe_indexing is deprecated in version 0.22 and will be removed in version 0.24.\n",
            "  warnings.warn(msg, category=FutureWarning)\n"
          ],
          "name": "stderr"
        },
        {
          "output_type": "stream",
          "text": [
            "time 3.1103885173797607\n",
            "              precision    recall  f1-score   support\n",
            "\n",
            "           0       0.91      0.68      0.78      1033\n",
            "           1       0.48      0.81      0.60       374\n",
            "\n",
            "    accuracy                           0.72      1407\n",
            "   macro avg       0.70      0.75      0.69      1407\n",
            "weighted avg       0.80      0.72      0.73      1407\n",
            "\n",
            "BorderlineSMOTE-1\n"
          ],
          "name": "stdout"
        },
        {
          "output_type": "stream",
          "text": [
            "/usr/local/lib/python3.6/dist-packages/sklearn/utils/deprecation.py:87: FutureWarning: Function safe_indexing is deprecated; safe_indexing is deprecated in version 0.22 and will be removed in version 0.24.\n",
            "  warnings.warn(msg, category=FutureWarning)\n",
            "/usr/local/lib/python3.6/dist-packages/sklearn/utils/deprecation.py:87: FutureWarning: Function safe_indexing is deprecated; safe_indexing is deprecated in version 0.22 and will be removed in version 0.24.\n",
            "  warnings.warn(msg, category=FutureWarning)\n",
            "/usr/local/lib/python3.6/dist-packages/sklearn/utils/deprecation.py:87: FutureWarning: Function safe_indexing is deprecated; safe_indexing is deprecated in version 0.22 and will be removed in version 0.24.\n",
            "  warnings.warn(msg, category=FutureWarning)\n"
          ],
          "name": "stderr"
        },
        {
          "output_type": "stream",
          "text": [
            "time 3.304109811782837\n",
            "              precision    recall  f1-score   support\n",
            "\n",
            "           0       0.91      0.68      0.78      1033\n",
            "           1       0.48      0.81      0.60       374\n",
            "\n",
            "    accuracy                           0.72      1407\n",
            "   macro avg       0.69      0.75      0.69      1407\n",
            "weighted avg       0.80      0.72      0.73      1407\n",
            "\n",
            "BorderlineSMOTE-2\n"
          ],
          "name": "stdout"
        },
        {
          "output_type": "stream",
          "text": [
            "/usr/local/lib/python3.6/dist-packages/sklearn/utils/deprecation.py:87: FutureWarning: Function safe_indexing is deprecated; safe_indexing is deprecated in version 0.22 and will be removed in version 0.24.\n",
            "  warnings.warn(msg, category=FutureWarning)\n",
            "/usr/local/lib/python3.6/dist-packages/sklearn/utils/deprecation.py:87: FutureWarning: Function safe_indexing is deprecated; safe_indexing is deprecated in version 0.22 and will be removed in version 0.24.\n",
            "  warnings.warn(msg, category=FutureWarning)\n",
            "/usr/local/lib/python3.6/dist-packages/sklearn/utils/deprecation.py:87: FutureWarning: Function safe_indexing is deprecated; safe_indexing is deprecated in version 0.22 and will be removed in version 0.24.\n",
            "  warnings.warn(msg, category=FutureWarning)\n"
          ],
          "name": "stderr"
        },
        {
          "output_type": "stream",
          "text": [
            "time 3.008932113647461\n",
            "              precision    recall  f1-score   support\n",
            "\n",
            "           0       0.91      0.67      0.77      1033\n",
            "           1       0.47      0.82      0.60       374\n",
            "\n",
            "    accuracy                           0.71      1407\n",
            "   macro avg       0.69      0.74      0.68      1407\n",
            "weighted avg       0.79      0.71      0.72      1407\n",
            "\n",
            "SVMSMOTE\n"
          ],
          "name": "stdout"
        },
        {
          "output_type": "stream",
          "text": [
            "/usr/local/lib/python3.6/dist-packages/sklearn/utils/deprecation.py:87: FutureWarning: Function safe_indexing is deprecated; safe_indexing is deprecated in version 0.22 and will be removed in version 0.24.\n",
            "  warnings.warn(msg, category=FutureWarning)\n",
            "/usr/local/lib/python3.6/dist-packages/sklearn/utils/deprecation.py:87: FutureWarning: Function safe_indexing is deprecated; safe_indexing is deprecated in version 0.22 and will be removed in version 0.24.\n",
            "  warnings.warn(msg, category=FutureWarning)\n",
            "/usr/local/lib/python3.6/dist-packages/sklearn/utils/deprecation.py:87: FutureWarning: Function safe_indexing is deprecated; safe_indexing is deprecated in version 0.22 and will be removed in version 0.24.\n",
            "  warnings.warn(msg, category=FutureWarning)\n",
            "/usr/local/lib/python3.6/dist-packages/sklearn/utils/deprecation.py:87: FutureWarning: Function safe_indexing is deprecated; safe_indexing is deprecated in version 0.22 and will be removed in version 0.24.\n",
            "  warnings.warn(msg, category=FutureWarning)\n",
            "/usr/local/lib/python3.6/dist-packages/sklearn/utils/deprecation.py:87: FutureWarning: Function safe_indexing is deprecated; safe_indexing is deprecated in version 0.22 and will be removed in version 0.24.\n",
            "  warnings.warn(msg, category=FutureWarning)\n",
            "/usr/local/lib/python3.6/dist-packages/sklearn/utils/deprecation.py:87: FutureWarning: Function safe_indexing is deprecated; safe_indexing is deprecated in version 0.22 and will be removed in version 0.24.\n",
            "  warnings.warn(msg, category=FutureWarning)\n"
          ],
          "name": "stderr"
        },
        {
          "output_type": "stream",
          "text": [
            "time 4.361293077468872\n",
            "              precision    recall  f1-score   support\n",
            "\n",
            "           0       0.91      0.71      0.79      1033\n",
            "           1       0.50      0.80      0.61       374\n",
            "\n",
            "    accuracy                           0.73      1407\n",
            "   macro avg       0.70      0.75      0.70      1407\n",
            "weighted avg       0.80      0.73      0.75      1407\n",
            "\n"
          ],
          "name": "stdout"
        }
      ]
    },
    {
      "cell_type": "code",
      "metadata": {
        "id": "tM1iltDAq8yH",
        "colab_type": "code",
        "colab": {}
      },
      "source": [
        ""
      ],
      "execution_count": null,
      "outputs": []
    }
  ]
}