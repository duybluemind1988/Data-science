{
  "nbformat": 4,
  "nbformat_minor": 0,
  "metadata": {
    "kernelspec": {
      "display_name": "Python 3",
      "language": "python",
      "name": "python3"
    },
    "language_info": {
      "codemirror_mode": {
        "name": "ipython",
        "version": 3
      },
      "file_extension": ".py",
      "mimetype": "text/x-python",
      "name": "python",
      "nbconvert_exporter": "python",
      "pygments_lexer": "ipython3",
      "version": "3.6.4"
    },
    "colab": {
      "name": "Time Series LSTM VIX.ipynb",
      "provenance": []
    }
  },
  "cells": [
    {
      "cell_type": "code",
      "metadata": {
        "id": "VxNm1XwKwK35",
        "colab_type": "code",
        "colab": {}
      },
      "source": [
        "from pandas import read_csv\n",
        "import matplotlib.pyplot as plt\n",
        "from sklearn.preprocessing import MinMaxScaler"
      ],
      "execution_count": 2,
      "outputs": []
    },
    {
      "cell_type": "code",
      "metadata": {
        "id": "qxN4VrsEwK39",
        "colab_type": "code",
        "colab": {}
      },
      "source": [
        "series = read_csv('https://gist.githubusercontent.com/kcbighuge/251bcb007b2d7c512c73c5f58fb54a63/raw/e9b7ba7a71e602279dea062b7829180bcfbcb63e/vix_2011_2019.csv', header=0, parse_dates=[0], index_col=0,      \n",
        "                   squeeze=True)"
      ],
      "execution_count": 3,
      "outputs": []
    },
    {
      "cell_type": "code",
      "metadata": {
        "id": "Ok3Ey1BQwK4G",
        "colab_type": "code",
        "colab": {
          "base_uri": "https://localhost:8080/",
          "height": 221
        },
        "outputId": "3983956f-d4a7-4001-c0ea-7d1d781d3dcb"
      },
      "source": [
        "print(series.head(10))"
      ],
      "execution_count": 12,
      "outputs": [
        {
          "output_type": "stream",
          "text": [
            "            Adj Close\n",
            "Date                 \n",
            "2011-01-03  17.610001\n",
            "2011-01-04  17.379999\n",
            "2011-01-05  17.020000\n",
            "2011-01-06  17.400000\n",
            "2011-01-07  17.139999\n",
            "2011-01-10  17.540001\n",
            "2011-01-11  16.889999\n",
            "2011-01-12  16.240000\n",
            "2011-01-13  16.389999\n",
            "2011-01-14  15.460000\n"
          ],
          "name": "stdout"
        }
      ]
    },
    {
      "cell_type": "code",
      "metadata": {
        "id": "6fuugwZLwK4K",
        "colab_type": "code",
        "colab": {}
      },
      "source": [
        "series.drop(['Open', 'High', 'Low', 'Close', 'Volume'], axis=1, inplace=True)"
      ],
      "execution_count": 5,
      "outputs": []
    },
    {
      "cell_type": "code",
      "metadata": {
        "id": "izw97GgUwK4N",
        "colab_type": "code",
        "colab": {
          "base_uri": "https://localhost:8080/",
          "height": 269
        },
        "outputId": "4fee1d48-c837-455d-dcb7-b6586dc29115"
      },
      "source": [
        "series.plot()\n",
        "plt.show();"
      ],
      "execution_count": 6,
      "outputs": [
        {
          "output_type": "display_data",
          "data": {
            "image/png": "[encoded data removed]",
            "text/plain": [
              "<Figure size 432x288 with 1 Axes>"
            ]
          },
          "metadata": {
            "tags": [],
            "needs_background": "light"
          }
        }
      ]
    },
    {
      "cell_type": "code",
      "metadata": {
        "id": "Zu0zkqTs3GBG",
        "colab_type": "code",
        "colab": {
          "base_uri": "https://localhost:8080/",
          "height": 34
        },
        "outputId": "9b5116c4-18ee-42d7-9cb1-1e013723b750"
      },
      "source": [
        "series.shape"
      ],
      "execution_count": 7,
      "outputs": [
        {
          "output_type": "execute_result",
          "data": {
            "text/plain": [
              "(2068, 1)"
            ]
          },
          "metadata": {
            "tags": []
          },
          "execution_count": 7
        }
      ]
    },
    {
      "cell_type": "markdown",
      "metadata": {
        "id": "M1KQZiYwwK4S",
        "colab_type": "text"
      },
      "source": [
        "the adj close are quite erratic."
      ]
    },
    {
      "cell_type": "code",
      "metadata": {
        "id": "6GcX0CC7wK4S",
        "colab_type": "code",
        "colab": {}
      },
      "source": [
        "import matplotlib.pyplot as plt\n",
        "import numpy as np\n",
        "import time\n",
        "from keras.layers.core import Dense, Activation, Dropout\n",
        "from keras.layers.recurrent import LSTM\n",
        "from keras.models import Sequential"
      ],
      "execution_count": 8,
      "outputs": []
    },
    {
      "cell_type": "code",
      "metadata": {
        "id": "BJ9EB4zbwK4W",
        "colab_type": "code",
        "colab": {}
      },
      "source": [
        "def convertSeriesToMatrix(vectorSeries, sequence_length):\n",
        "    matrix=[]\n",
        "    for i in range(len(vectorSeries)-sequence_length+1):\n",
        "        matrix.append(vectorSeries[i:i+sequence_length])\n",
        "    return matrix"
      ],
      "execution_count": 9,
      "outputs": []
    },
    {
      "cell_type": "code",
      "metadata": {
        "id": "AMxQt2h8wK4b",
        "colab_type": "code",
        "colab": {}
      },
      "source": [
        "np.random.seed(2019)"
      ],
      "execution_count": 10,
      "outputs": []
    },
    {
      "cell_type": "code",
      "metadata": {
        "id": "OBbb0tqxwK4e",
        "colab_type": "code",
        "colab": {}
      },
      "source": [
        "path_to_dataset = '/content/drive/My Drive/Data/Time_series/vix_2011_2019.csv'\n",
        "sequence_length = 20"
      ],
      "execution_count": 17,
      "outputs": []
    },
    {
      "cell_type": "code",
      "metadata": {
        "id": "Iiq2CKEiwK4k",
        "colab_type": "code",
        "colab": {}
      },
      "source": [
        "# vector to store the time series\n",
        "vector_vix = []\n",
        "with open(path_to_dataset) as f:\n",
        "    next(f) # skip the header row\n",
        "    for line in f:\n",
        "        fields = line.split(',')\n",
        "        vector_vix.append(float(fields[6]))"
      ],
      "execution_count": 18,
      "outputs": []
    },
    {
      "cell_type": "code",
      "metadata": {
        "id": "drqGN72QwK4n",
        "colab_type": "code",
        "colab": {
          "base_uri": "https://localhost:8080/",
          "height": 34
        },
        "outputId": "7f5bfdd6-a57b-43d5-a1d5-0a4b8118edbb"
      },
      "source": [
        "# convert the vector to a 2D matrix\n",
        "matrix_vix = convertSeriesToMatrix(vector_vix, sequence_length)\n",
        "\n",
        "# shift all data by mean\n",
        "matrix_vix = np.array(matrix_vix)\n",
        "shifted_value = matrix_vix.mean()\n",
        "matrix_vix -= shifted_value\n",
        "print(\"Data shape: \", matrix_vix.shape)"
      ],
      "execution_count": 20,
      "outputs": [
        {
          "output_type": "stream",
          "text": [
            "Data shape:  (2049, 20)\n"
          ],
          "name": "stdout"
        }
      ]
    },
    {
      "cell_type": "code",
      "metadata": {
        "id": "CFzFfMI84QkZ",
        "colab_type": "code",
        "colab": {
          "base_uri": "https://localhost:8080/",
          "height": 136
        },
        "outputId": "2fef5fd9-f95f-45a7-fe3c-f34c74e1595e"
      },
      "source": [
        "matrix_vix"
      ],
      "execution_count": 21,
      "outputs": [
        {
          "output_type": "execute_result",
          "data": {
            "text/plain": [
              "array([[0., 0., 0., ..., 0., 0., 0.],\n",
              "       [0., 0., 0., ..., 0., 0., 0.],\n",
              "       [0., 0., 0., ..., 0., 0., 0.],\n",
              "       ...,\n",
              "       [0., 0., 0., ..., 0., 0., 0.],\n",
              "       [0., 0., 0., ..., 0., 0., 0.],\n",
              "       [0., 0., 0., ..., 0., 0., 0.]])"
            ]
          },
          "metadata": {
            "tags": []
          },
          "execution_count": 21
        }
      ]
    },
    {
      "cell_type": "code",
      "metadata": {
        "id": "uiC6OScMwK4q",
        "colab_type": "code",
        "colab": {}
      },
      "source": [
        "# split dataset: 90% for training and 10% for testing\n",
        "train_row = int(round(0.9 * matrix_vix.shape[0]))\n",
        "train_set = matrix_vix[:train_row, :]\n",
        "\n",
        "# shuffle the training set (but do not shuffle the test set)\n",
        "np.random.shuffle(train_set)"
      ],
      "execution_count": null,
      "outputs": []
    },
    {
      "cell_type": "code",
      "metadata": {
        "id": "eYPUhD5rwK4t",
        "colab_type": "code",
        "colab": {}
      },
      "source": [
        "# the training set\n",
        "X_train = train_set[:, :-1]\n",
        "# the last column is the true value to compute the mean-squared-error loss\n",
        "y_train = train_set[:, -1] \n",
        "# the test set\n",
        "X_test = matrix_vix[train_row:, :-1]\n",
        "y_test = matrix_vix[train_row:, -1]"
      ],
      "execution_count": null,
      "outputs": []
    },
    {
      "cell_type": "code",
      "metadata": {
        "id": "WHaAidsawK4x",
        "colab_type": "code",
        "colab": {}
      },
      "source": [
        "# the input to LSTM layer needs to have the shape of (number of samples, the dimension of each element)\n",
        "X_train = np.reshape(X_train, (X_train.shape[0], X_train.shape[1], 1))\n",
        "X_test = np.reshape(X_test, (X_test.shape[0], X_test.shape[1], 1))"
      ],
      "execution_count": null,
      "outputs": []
    },
    {
      "cell_type": "code",
      "metadata": {
        "id": "HECoT271wK40",
        "colab_type": "code",
        "colab": {},
        "outputId": "697f2341-3e9c-43fc-b469-0393976084b7"
      },
      "source": [
        "print(X_train.shape)\n",
        "print(X_test.shape)"
      ],
      "execution_count": null,
      "outputs": [
        {
          "output_type": "stream",
          "text": [
            "(1793, 19, 1)\n",
            "(199, 19, 1)\n"
          ],
          "name": "stdout"
        }
      ]
    },
    {
      "cell_type": "code",
      "metadata": {
        "id": "2wJdvQ6zwK43",
        "colab_type": "code",
        "colab": {},
        "outputId": "0dd8b565-7970-4706-d13d-0db62946b905"
      },
      "source": [
        "model = Sequential()\n",
        "# layer 1: LSTM\n",
        "model.add(LSTM( input_dim=1, output_dim=50, return_sequences=True))\n",
        "model.add(Dropout(0.2))\n",
        "# layer 2: LSTM\n",
        "model.add(LSTM(output_dim=100, return_sequences=False))\n",
        "model.add(Dropout(0.2))\n",
        "# layer 3: dense\n",
        "# linear activation: a(x) = x\n",
        "model.add(Dense(output_dim=1, activation='linear'))\n",
        "# compile the model\n",
        "model.compile(loss=\"mse\", optimizer=\"rmsprop\")"
      ],
      "execution_count": null,
      "outputs": [
        {
          "output_type": "stream",
          "text": [
            "C:\\Users\\SusanLi\\AppData\\Local\\Continuum\\anaconda3\\lib\\site-packages\\ipykernel_launcher.py:3: UserWarning: The `input_dim` and `input_length` arguments in recurrent layers are deprecated. Use `input_shape` instead.\n",
            "  This is separate from the ipykernel package so we can avoid doing imports until\n",
            "C:\\Users\\SusanLi\\AppData\\Local\\Continuum\\anaconda3\\lib\\site-packages\\ipykernel_launcher.py:3: UserWarning: Update your `LSTM` call to the Keras 2 API: `LSTM(return_sequences=True, input_shape=(None, 1), units=50)`\n",
            "  This is separate from the ipykernel package so we can avoid doing imports until\n",
            "C:\\Users\\SusanLi\\AppData\\Local\\Continuum\\anaconda3\\lib\\site-packages\\ipykernel_launcher.py:6: UserWarning: Update your `LSTM` call to the Keras 2 API: `LSTM(return_sequences=False, units=100)`\n",
            "  \n",
            "C:\\Users\\SusanLi\\AppData\\Local\\Continuum\\anaconda3\\lib\\site-packages\\ipykernel_launcher.py:10: UserWarning: Update your `Dense` call to the Keras 2 API: `Dense(activation=\"linear\", units=1)`\n",
            "  # Remove the CWD from sys.path while we load stuff.\n"
          ],
          "name": "stderr"
        }
      ]
    },
    {
      "cell_type": "code",
      "metadata": {
        "scrolled": false,
        "id": "4kdJs7UBwK46",
        "colab_type": "code",
        "colab": {},
        "outputId": "278169f1-7393-416e-fe87-30088a96d78b"
      },
      "source": [
        "model.fit(X_train, y_train, batch_size=512, epochs=50, validation_split=0.05, verbose=1)\n",
        "\n",
        "# evaluate the result\n",
        "test_mse = model.evaluate(X_test, y_test, verbose=1)\n",
        "print('The mean squared error (MSE) on the test data set is %.3f over %d test samples.' % (test_mse, len(y_test)))"
      ],
      "execution_count": null,
      "outputs": [
        {
          "output_type": "stream",
          "text": [
            "Train on 1703 samples, validate on 90 samples\n",
            "Epoch 1/50\n",
            "1703/1703 [==============================] - 689s 404ms/step - loss: 26.8567 - val_loss: 23.8590\n",
            "Epoch 2/50\n",
            "1703/1703 [==============================] - 690s 405ms/step - loss: 16.9654 - val_loss: 17.0576\n",
            "Epoch 3/50\n",
            "1703/1703 [==============================] - 702s 412ms/step - loss: 13.0254 - val_loss: 13.1334\n",
            "Epoch 4/50\n",
            "1703/1703 [==============================] - 690s 405ms/step - loss: 10.7345 - val_loss: 10.5180\n",
            "Epoch 5/50\n",
            "1703/1703 [==============================] - 707s 415ms/step - loss: 9.2058 - val_loss: 9.2851\n",
            "Epoch 6/50\n",
            "1703/1703 [==============================] - 693s 407ms/step - loss: 8.2236 - val_loss: 8.6320\n",
            "Epoch 7/50\n",
            "1703/1703 [==============================] - 719s 422ms/step - loss: 7.6380 - val_loss: 8.0869\n",
            "Epoch 8/50\n",
            "1703/1703 [==============================] - 685s 402ms/step - loss: 7.5873 - val_loss: 7.5897\n",
            "Epoch 9/50\n",
            "1703/1703 [==============================] - 686s 403ms/step - loss: 6.5518 - val_loss: 7.3524\n",
            "Epoch 10/50\n",
            "1703/1703 [==============================] - 714s 419ms/step - loss: 6.2440 - val_loss: 6.6180\n",
            "Epoch 11/50\n",
            "1703/1703 [==============================] - 702s 413ms/step - loss: 6.0529 - val_loss: 6.6016\n",
            "Epoch 12/50\n",
            "1703/1703 [==============================] - 669s 393ms/step - loss: 5.8623 - val_loss: 6.3057\n",
            "Epoch 13/50\n",
            "1703/1703 [==============================] - 666s 391ms/step - loss: 5.3311 - val_loss: 5.7438\n",
            "Epoch 14/50\n",
            "1703/1703 [==============================] - 666s 391ms/step - loss: 5.1699 - val_loss: 5.5621\n",
            "Epoch 15/50\n",
            "1703/1703 [==============================] - 662s 389ms/step - loss: 4.9119 - val_loss: 5.1656\n",
            "Epoch 16/50\n",
            "1703/1703 [==============================] - 660s 388ms/step - loss: 4.6700 - val_loss: 5.1196\n",
            "Epoch 17/50\n",
            "1703/1703 [==============================] - 656s 385ms/step - loss: 4.6749 - val_loss: 4.3935\n",
            "Epoch 18/50\n",
            "1703/1703 [==============================] - 656s 385ms/step - loss: 4.3944 - val_loss: 4.9205\n",
            "Epoch 19/50\n",
            "1703/1703 [==============================] - 684s 402ms/step - loss: 4.2390 - val_loss: 4.0033\n",
            "Epoch 20/50\n",
            "1703/1703 [==============================] - 661s 388ms/step - loss: 3.9649 - val_loss: 3.9222\n",
            "Epoch 21/50\n",
            "1703/1703 [==============================] - 662s 389ms/step - loss: 3.7970 - val_loss: 3.4275\n",
            "Epoch 22/50\n",
            "1703/1703 [==============================] - 663s 389ms/step - loss: 4.3960 - val_loss: 3.6216\n",
            "Epoch 23/50\n",
            "1703/1703 [==============================] - 655s 385ms/step - loss: 3.6498 - val_loss: 3.2641\n",
            "Epoch 24/50\n",
            "1703/1703 [==============================] - 657s 386ms/step - loss: 3.6326 - val_loss: 3.1720\n",
            "Epoch 25/50\n",
            "1703/1703 [==============================] - 656s 385ms/step - loss: 3.4461 - val_loss: 3.2509\n",
            "Epoch 26/50\n",
            "1703/1703 [==============================] - 657s 386ms/step - loss: 3.6101 - val_loss: 3.5102\n",
            "Epoch 27/50\n",
            "1703/1703 [==============================] - 657s 386ms/step - loss: 3.4969 - val_loss: 3.5689\n",
            "Epoch 28/50\n",
            "1703/1703 [==============================] - 661s 388ms/step - loss: 3.2519 - val_loss: 3.1597\n",
            "Epoch 29/50\n",
            "1703/1703 [==============================] - 657s 386ms/step - loss: 3.3395 - val_loss: 3.1351\n",
            "Epoch 30/50\n",
            "1703/1703 [==============================] - 659s 387ms/step - loss: 3.3243 - val_loss: 3.1952\n",
            "Epoch 31/50\n",
            "1703/1703 [==============================] - 657s 386ms/step - loss: 3.0864 - val_loss: 2.8559\n",
            "Epoch 32/50\n",
            "1703/1703 [==============================] - 660s 387ms/step - loss: 3.1891 - val_loss: 3.9224\n",
            "Epoch 33/50\n",
            "1703/1703 [==============================] - 661s 388ms/step - loss: 3.3144 - val_loss: 2.7105\n",
            "Epoch 34/50\n",
            "1703/1703 [==============================] - 657s 386ms/step - loss: 3.0602 - val_loss: 2.7887\n",
            "Epoch 35/50\n",
            "1703/1703 [==============================] - 661s 388ms/step - loss: 3.1249 - val_loss: 3.1618\n",
            "Epoch 36/50\n",
            "1703/1703 [==============================] - 660s 387ms/step - loss: 3.2398 - val_loss: 2.7229\n",
            "Epoch 37/50\n",
            "1703/1703 [==============================] - 661s 388ms/step - loss: 3.0913 - val_loss: 2.7335\n",
            "Epoch 38/50\n",
            "1703/1703 [==============================] - 660s 388ms/step - loss: 3.0286 - val_loss: 2.7678\n",
            "Epoch 39/50\n",
            "1703/1703 [==============================] - 658s 386ms/step - loss: 2.9997 - val_loss: 3.1088\n",
            "Epoch 40/50\n",
            "1703/1703 [==============================] - 658s 386ms/step - loss: 3.0303 - val_loss: 2.6195\n",
            "Epoch 41/50\n",
            "1703/1703 [==============================] - 662s 389ms/step - loss: 2.9207 - val_loss: 2.7272\n",
            "Epoch 42/50\n",
            "1703/1703 [==============================] - 676s 397ms/step - loss: 3.0041 - val_loss: 2.6322\n",
            "Epoch 43/50\n",
            "1703/1703 [==============================] - 728s 427ms/step - loss: 2.7933 - val_loss: 2.3006\n",
            "Epoch 44/50\n",
            "1703/1703 [==============================] - 802s 471ms/step - loss: 2.9509 - val_loss: 2.4902\n",
            "Epoch 45/50\n",
            "1703/1703 [==============================] - 793s 465ms/step - loss: 2.8972 - val_loss: 2.5689\n",
            "Epoch 46/50\n",
            "1703/1703 [==============================] - 750s 440ms/step - loss: 2.8182 - val_loss: 2.4934\n",
            "Epoch 47/50\n",
            "1703/1703 [==============================] - 699s 410ms/step - loss: 2.7576 - val_loss: 2.4171\n",
            "Epoch 48/50\n",
            "1703/1703 [==============================] - 741s 435ms/step - loss: 2.6816 - val_loss: 2.3632\n",
            "Epoch 49/50\n",
            "1703/1703 [==============================] - 721s 423ms/step - loss: 2.7530 - val_loss: 2.7498\n",
            "Epoch 50/50\n",
            "1703/1703 [==============================] - 742s 436ms/step - loss: 2.7686 - val_loss: 2.2385\n",
            "199/199 [==============================] - 33s 168ms/step\n",
            "The mean squared error (MSE) on the test data set is 2.484 over 199 test samples.\n"
          ],
          "name": "stdout"
        }
      ]
    },
    {
      "cell_type": "code",
      "metadata": {
        "id": "0t4K7iTXwK49",
        "colab_type": "code",
        "colab": {},
        "outputId": "10bec642-0e69-4f15-abd3-9e12c34481c9"
      },
      "source": [
        "# get the predicted values\n",
        "predicted_values = model.predict(X_test)\n",
        "num_test_samples = len(predicted_values)\n",
        "predicted_values = np.reshape(predicted_values, (num_test_samples,1))\n",
        "\n",
        "# plot the results\n",
        "fig = plt.figure(figsize=(10,6))\n",
        "plt.plot(y_test + shifted_value)\n",
        "plt.plot(predicted_values + shifted_value)\n",
        "plt.xlabel('Date')\n",
        "plt.ylabel('VIX')\n",
        "plt.show();"
      ],
      "execution_count": null,
      "outputs": [
        {
          "output_type": "display_data",
          "data": {
            "image/png": "[encoded data removed]",
            "text/plain": [
              "<Figure size 720x432 with 1 Axes>"
            ]
          },
          "metadata": {
            "tags": []
          }
        }
      ]
    },
    {
      "cell_type": "code",
      "metadata": {
        "id": "YoCx7RAMwK4_",
        "colab_type": "code",
        "colab": {}
      },
      "source": [
        ""
      ],
      "execution_count": null,
      "outputs": []
    }
  ]
}