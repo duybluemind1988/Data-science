{
  "nbformat": 4,
  "nbformat_minor": 0,
  "metadata": {
    "colab": {
      "name": "Time_series_all_method_2(multy).ipynb",
      "provenance": [],
      "authorship_tag": "ABX9TyOQERxZ16XJd8I28kz4i/SS",
      "include_colab_link": true
    },
    "kernelspec": {
      "name": "python3",
      "display_name": "Python 3"
    }
  },
  "cells": [
    {
      "cell_type": "markdown",
      "metadata": {
        "id": "view-in-github",
        "colab_type": "text"
      },
      "source": [
        "<a href=\"https://colab.research.google.com/github/duybluemind1988/Data-science/blob/master/Time_series/Time_series_all_method_2(multy).ipynb\" target=\"_parent\"><img src=\"https://colab.research.google.com/assets/colab-badge.svg\" alt=\"Open In Colab\"/></a>"
      ]
    },
    {
      "cell_type": "markdown",
      "metadata": {
        "id": "8MiUMBGQonzo",
        "colab_type": "text"
      },
      "source": [
        "# Mutlity stock tradings"
      ]
    },
    {
      "cell_type": "code",
      "metadata": {
        "id": "Tg8FJvEqiRco",
        "colab_type": "code",
        "colab": {}
      },
      "source": [
        "import pandas as pd \n",
        "import numpy as np\n",
        "import matplotlib.pyplot as plt\n",
        "import seaborn as sns; sns.set()\n",
        "from sklearn.metrics import mean_squared_error\n",
        "#import yfinance as yf\n",
        "import cufflinks as cf\n",
        "from plotly.offline import iplot, init_notebook_mode"
      ],
      "execution_count": 53,
      "outputs": []
    },
    {
      "cell_type": "code",
      "metadata": {
        "id": "I8jL7iA5iuMZ",
        "colab_type": "code",
        "colab": {
          "base_uri": "https://localhost:8080/",
          "height": 105
        },
        "outputId": "5a5e044c-2688-419d-9074-80ecabbe43f9"
      },
      "source": [
        "!pip install yahoo_fin"
      ],
      "execution_count": 3,
      "outputs": [
        {
          "output_type": "stream",
          "text": [
            "Collecting yahoo_fin\n",
            "  Downloading https://files.pythonhosted.org/packages/d3/5c/6bf0c0147cc94d643e2a2413d0a9b27967e964ee99f88f26db93a0b963b8/yahoo_fin-0.8.6-py3-none-any.whl\n",
            "Installing collected packages: yahoo-fin\n",
            "Successfully installed yahoo-fin-0.8.6\n"
          ],
          "name": "stdout"
        }
      ]
    },
    {
      "cell_type": "code",
      "metadata": {
        "id": "zOXQf-VJiltF",
        "colab_type": "code",
        "colab": {
          "base_uri": "https://localhost:8080/",
          "height": 221
        },
        "outputId": "9b4185ed-96b1-4d75-de21-4c2e0717a6e0"
      },
      "source": [
        "from yahoo_fin.stock_info import get_data\n",
        "\n",
        "stock_code={'Apple':'AAPL', 'Microsoft':'MSFT','Facebook':'Fb','Amazon':'AMZN',\n",
        "            'Twitter':'TWTR','SP500':'^GSPC'}\n",
        "\n",
        "df= get_data(stock_code['SP500'],  start_date = '2016-01-01',\n",
        "                          end_date='2020-09-05',\n",
        "                      index_as_date = True, interval=\"1d\")\n",
        "df_sp500=df['adjclose']\n",
        "df_sp500"
      ],
      "execution_count": 38,
      "outputs": [
        {
          "output_type": "execute_result",
          "data": {
            "text/plain": [
              "2016-01-04    2012.660034\n",
              "2016-01-05    2016.709961\n",
              "2016-01-06    1990.260010\n",
              "2016-01-07    1943.089966\n",
              "2016-01-08    1922.030029\n",
              "                 ...     \n",
              "2020-08-31    3500.310059\n",
              "2020-09-01    3526.649902\n",
              "2020-09-02    3580.840088\n",
              "2020-09-03    3455.060059\n",
              "2020-09-04    3426.959961\n",
              "Name: adjclose, Length: 1178, dtype: float64"
            ]
          },
          "metadata": {
            "tags": []
          },
          "execution_count": 38
        }
      ]
    },
    {
      "cell_type": "code",
      "metadata": {
        "id": "kcy3Cqn9ipo9",
        "colab_type": "code",
        "colab": {}
      },
      "source": [
        "df_gld= get_data(\"GLD\",start_date = '2016-01-01',end_date='2020-09-05',\n",
        "                      index_as_date = True, interval=\"1d\") # Gold price\n",
        "df_dxy= get_data(\"UUP\",start_date = '2016-01-01',end_date='2020-09-05',\n",
        "                      index_as_date = True, interval=\"1d\") # Invesco DB US Dollar \n",
        "df_ief= get_data(\"IEF\",start_date = '2016-01-01',end_date='2020-09-05',\n",
        "                      index_as_date = True, interval=\"1d\") # 10 Year Treasury Bond \n",
        "df_gush= get_data(\"GUSH\",start_date = '2016-01-01',end_date='2020-09-05',\n",
        "                      index_as_date = True, interval=\"1d\") # Direxion Daily S&P Oil & Gas Exp. & Prod. Bull 2X Shares"
      ],
      "execution_count": 39,
      "outputs": []
    },
    {
      "cell_type": "code",
      "metadata": {
        "id": "2DwpfAoAirWh",
        "colab_type": "code",
        "colab": {
          "base_uri": "https://localhost:8080/",
          "height": 419
        },
        "outputId": "328396fb-1839-41f4-cff6-63a6fe564524"
      },
      "source": [
        "df_assets = pd.DataFrame({\n",
        "    'GUSH':df_gush['adjclose'],\n",
        "    'GLD': df_gld['adjclose'],\n",
        "    'UUP': df_dxy['adjclose'],\n",
        "    'IEF': df_ief['adjclose'],\n",
        "})\n",
        "df_assets"
      ],
      "execution_count": 40,
      "outputs": [
        {
          "output_type": "execute_result",
          "data": {
            "text/html": [
              "<div>\n",
              "<style scoped>\n",
              "    .dataframe tbody tr th:only-of-type {\n",
              "        vertical-align: middle;\n",
              "    }\n",
              "\n",
              "    .dataframe tbody tr th {\n",
              "        vertical-align: top;\n",
              "    }\n",
              "\n",
              "    .dataframe thead th {\n",
              "        text-align: right;\n",
              "    }\n",
              "</style>\n",
              "<table border=\"1\" class=\"dataframe\">\n",
              "  <thead>\n",
              "    <tr style=\"text-align: right;\">\n",
              "      <th></th>\n",
              "      <th>GUSH</th>\n",
              "      <th>GLD</th>\n",
              "      <th>UUP</th>\n",
              "      <th>IEF</th>\n",
              "    </tr>\n",
              "  </thead>\n",
              "  <tbody>\n",
              "    <tr>\n",
              "      <th>2016-01-04</th>\n",
              "      <td>13072.905273</td>\n",
              "      <td>102.889999</td>\n",
              "      <td>24.894354</td>\n",
              "      <td>97.151749</td>\n",
              "    </tr>\n",
              "    <tr>\n",
              "      <th>2016-01-05</th>\n",
              "      <td>12937.333984</td>\n",
              "      <td>103.180000</td>\n",
              "      <td>25.039707</td>\n",
              "      <td>97.124275</td>\n",
              "    </tr>\n",
              "    <tr>\n",
              "      <th>2016-01-06</th>\n",
              "      <td>10225.916992</td>\n",
              "      <td>104.669998</td>\n",
              "      <td>24.971874</td>\n",
              "      <td>97.710609</td>\n",
              "    </tr>\n",
              "    <tr>\n",
              "      <th>2016-01-07</th>\n",
              "      <td>9538.379883</td>\n",
              "      <td>106.150002</td>\n",
              "      <td>24.719925</td>\n",
              "      <td>97.921371</td>\n",
              "    </tr>\n",
              "    <tr>\n",
              "      <th>2016-01-08</th>\n",
              "      <td>9571.303711</td>\n",
              "      <td>105.680000</td>\n",
              "      <td>24.768377</td>\n",
              "      <td>98.168747</td>\n",
              "    </tr>\n",
              "    <tr>\n",
              "      <th>...</th>\n",
              "      <td>...</td>\n",
              "      <td>...</td>\n",
              "      <td>...</td>\n",
              "      <td>...</td>\n",
              "    </tr>\n",
              "    <tr>\n",
              "      <th>2020-08-31</th>\n",
              "      <td>32.180000</td>\n",
              "      <td>184.830002</td>\n",
              "      <td>24.900000</td>\n",
              "      <td>121.422005</td>\n",
              "    </tr>\n",
              "    <tr>\n",
              "      <th>2020-09-01</th>\n",
              "      <td>31.930000</td>\n",
              "      <td>185.050003</td>\n",
              "      <td>24.950001</td>\n",
              "      <td>121.820000</td>\n",
              "    </tr>\n",
              "    <tr>\n",
              "      <th>2020-09-02</th>\n",
              "      <td>30.260000</td>\n",
              "      <td>182.619995</td>\n",
              "      <td>25.040001</td>\n",
              "      <td>121.989998</td>\n",
              "    </tr>\n",
              "    <tr>\n",
              "      <th>2020-09-03</th>\n",
              "      <td>29.690001</td>\n",
              "      <td>181.139999</td>\n",
              "      <td>25.049999</td>\n",
              "      <td>122.150002</td>\n",
              "    </tr>\n",
              "    <tr>\n",
              "      <th>2020-09-04</th>\n",
              "      <td>29.780001</td>\n",
              "      <td>181.639999</td>\n",
              "      <td>25.090000</td>\n",
              "      <td>121.470001</td>\n",
              "    </tr>\n",
              "  </tbody>\n",
              "</table>\n",
              "<p>1178 rows × 4 columns</p>\n",
              "</div>"
            ],
            "text/plain": [
              "                    GUSH         GLD        UUP         IEF\n",
              "2016-01-04  13072.905273  102.889999  24.894354   97.151749\n",
              "2016-01-05  12937.333984  103.180000  25.039707   97.124275\n",
              "2016-01-06  10225.916992  104.669998  24.971874   97.710609\n",
              "2016-01-07   9538.379883  106.150002  24.719925   97.921371\n",
              "2016-01-08   9571.303711  105.680000  24.768377   98.168747\n",
              "...                  ...         ...        ...         ...\n",
              "2020-08-31     32.180000  184.830002  24.900000  121.422005\n",
              "2020-09-01     31.930000  185.050003  24.950001  121.820000\n",
              "2020-09-02     30.260000  182.619995  25.040001  121.989998\n",
              "2020-09-03     29.690001  181.139999  25.049999  122.150002\n",
              "2020-09-04     29.780001  181.639999  25.090000  121.470001\n",
              "\n",
              "[1178 rows x 4 columns]"
            ]
          },
          "metadata": {
            "tags": []
          },
          "execution_count": 40
        }
      ]
    },
    {
      "cell_type": "code",
      "metadata": {
        "id": "gXICEJCRjPCy",
        "colab_type": "code",
        "colab": {
          "base_uri": "https://localhost:8080/",
          "height": 259
        },
        "outputId": "5f77b944-fba8-4029-ad81-61bbe6381de8"
      },
      "source": [
        "df_assets.plot(subplots=True)\n",
        "plt.show()"
      ],
      "execution_count": 41,
      "outputs": [
        {
          "output_type": "display_data",
          "data": {
            "image/png": "[encoded data removed]",
            "text/plain": [
              "<Figure size 432x288 with 4 Axes>"
            ]
          },
          "metadata": {
            "tags": []
          }
        }
      ]
    },
    {
      "cell_type": "code",
      "metadata": {
        "id": "eCfwCc8niwtS",
        "colab_type": "code",
        "colab": {
          "base_uri": "https://localhost:8080/",
          "height": 609
        },
        "outputId": "e4a28b55-f171-4c62-d5f6-93a97562469e"
      },
      "source": [
        "df_assets_1m = df_assets.pct_change(periods=20)\n",
        "df_assets_1m.columns = ['%s_1m'%col for col in df_assets.columns]\n",
        "df_assets_3m = df_assets.pct_change(periods=60)\n",
        "df_assets_3m.columns = ['%s_3m'%col for col in df_assets.columns]\n",
        "df_assets_6m = df_assets.pct_change(periods=120)\n",
        "df_assets_6m.columns = ['%s_6m'%col for col in df_assets.columns]\n",
        "df_lagged = df_assets_1m.join(df_assets_3m)\\\n",
        "    .join(df_assets_6m)\\\n",
        "    .dropna()\n",
        "df_lagged"
      ],
      "execution_count": 42,
      "outputs": [
        {
          "output_type": "execute_result",
          "data": {
            "text/html": [
              "<div>\n",
              "<style scoped>\n",
              "    .dataframe tbody tr th:only-of-type {\n",
              "        vertical-align: middle;\n",
              "    }\n",
              "\n",
              "    .dataframe tbody tr th {\n",
              "        vertical-align: top;\n",
              "    }\n",
              "\n",
              "    .dataframe thead th {\n",
              "        text-align: right;\n",
              "    }\n",
              "</style>\n",
              "<table border=\"1\" class=\"dataframe\">\n",
              "  <thead>\n",
              "    <tr style=\"text-align: right;\">\n",
              "      <th></th>\n",
              "      <th>GUSH_1m</th>\n",
              "      <th>GLD_1m</th>\n",
              "      <th>UUP_1m</th>\n",
              "      <th>IEF_1m</th>\n",
              "      <th>GUSH_3m</th>\n",
              "      <th>GLD_3m</th>\n",
              "      <th>UUP_3m</th>\n",
              "      <th>IEF_3m</th>\n",
              "      <th>GUSH_6m</th>\n",
              "      <th>GLD_6m</th>\n",
              "      <th>UUP_6m</th>\n",
              "      <th>IEF_6m</th>\n",
              "    </tr>\n",
              "  </thead>\n",
              "  <tbody>\n",
              "    <tr>\n",
              "      <th>2016-06-24</th>\n",
              "      <td>-0.089693</td>\n",
              "      <td>0.080803</td>\n",
              "      <td>0.005274</td>\n",
              "      <td>0.023376</td>\n",
              "      <td>0.362538</td>\n",
              "      <td>0.071064</td>\n",
              "      <td>0.009780</td>\n",
              "      <td>0.021509</td>\n",
              "      <td>0.069037</td>\n",
              "      <td>0.224609</td>\n",
              "      <td>-0.035422</td>\n",
              "      <td>0.065996</td>\n",
              "    </tr>\n",
              "    <tr>\n",
              "      <th>2016-06-27</th>\n",
              "      <td>-0.221128</td>\n",
              "      <td>0.095658</td>\n",
              "      <td>0.008068</td>\n",
              "      <td>0.034201</td>\n",
              "      <td>0.208813</td>\n",
              "      <td>0.083383</td>\n",
              "      <td>0.018752</td>\n",
              "      <td>0.030639</td>\n",
              "      <td>-0.088323</td>\n",
              "      <td>0.227757</td>\n",
              "      <td>-0.032895</td>\n",
              "      <td>0.075516</td>\n",
              "    </tr>\n",
              "    <tr>\n",
              "      <th>2016-06-28</th>\n",
              "      <td>-0.131674</td>\n",
              "      <td>0.079786</td>\n",
              "      <td>0.001208</td>\n",
              "      <td>0.032793</td>\n",
              "      <td>0.429689</td>\n",
              "      <td>0.078950</td>\n",
              "      <td>0.014688</td>\n",
              "      <td>0.029242</td>\n",
              "      <td>0.315152</td>\n",
              "      <td>0.197287</td>\n",
              "      <td>-0.034924</td>\n",
              "      <td>0.068873</td>\n",
              "    </tr>\n",
              "    <tr>\n",
              "      <th>2016-06-29</th>\n",
              "      <td>-0.102122</td>\n",
              "      <td>0.085389</td>\n",
              "      <td>0.003644</td>\n",
              "      <td>0.028942</td>\n",
              "      <td>0.561814</td>\n",
              "      <td>0.069522</td>\n",
              "      <td>0.010599</td>\n",
              "      <td>0.020984</td>\n",
              "      <td>0.503147</td>\n",
              "      <td>0.185492</td>\n",
              "      <td>-0.028224</td>\n",
              "      <td>0.062237</td>\n",
              "    </tr>\n",
              "    <tr>\n",
              "      <th>2016-06-30</th>\n",
              "      <td>-0.134927</td>\n",
              "      <td>0.093369</td>\n",
              "      <td>0.004448</td>\n",
              "      <td>0.028033</td>\n",
              "      <td>0.381693</td>\n",
              "      <td>0.081495</td>\n",
              "      <td>0.014706</td>\n",
              "      <td>0.025472</td>\n",
              "      <td>0.456900</td>\n",
              "      <td>0.196726</td>\n",
              "      <td>-0.028169</td>\n",
              "      <td>0.061910</td>\n",
              "    </tr>\n",
              "    <tr>\n",
              "      <th>...</th>\n",
              "      <td>...</td>\n",
              "      <td>...</td>\n",
              "      <td>...</td>\n",
              "      <td>...</td>\n",
              "      <td>...</td>\n",
              "      <td>...</td>\n",
              "      <td>...</td>\n",
              "      <td>...</td>\n",
              "      <td>...</td>\n",
              "      <td>...</td>\n",
              "      <td>...</td>\n",
              "      <td>...</td>\n",
              "    </tr>\n",
              "    <tr>\n",
              "      <th>2020-08-31</th>\n",
              "      <td>-0.027501</td>\n",
              "      <td>-0.004363</td>\n",
              "      <td>-0.015032</td>\n",
              "      <td>-0.009214</td>\n",
              "      <td>-0.395541</td>\n",
              "      <td>0.169736</td>\n",
              "      <td>-0.049981</td>\n",
              "      <td>0.016272</td>\n",
              "      <td>0.109911</td>\n",
              "      <td>0.200741</td>\n",
              "      <td>-0.048165</td>\n",
              "      <td>0.034337</td>\n",
              "    </tr>\n",
              "    <tr>\n",
              "      <th>2020-09-01</th>\n",
              "      <td>-0.070992</td>\n",
              "      <td>-0.023946</td>\n",
              "      <td>-0.009528</td>\n",
              "      <td>-0.009359</td>\n",
              "      <td>-0.523891</td>\n",
              "      <td>0.158590</td>\n",
              "      <td>-0.045524</td>\n",
              "      <td>0.018498</td>\n",
              "      <td>0.478582</td>\n",
              "      <td>0.252115</td>\n",
              "      <td>-0.056354</td>\n",
              "      <td>0.037200</td>\n",
              "    </tr>\n",
              "    <tr>\n",
              "      <th>2020-09-02</th>\n",
              "      <td>-0.157338</td>\n",
              "      <td>-0.045623</td>\n",
              "      <td>-0.001595</td>\n",
              "      <td>-0.004660</td>\n",
              "      <td>-0.470394</td>\n",
              "      <td>0.132457</td>\n",
              "      <td>-0.039140</td>\n",
              "      <td>0.016274</td>\n",
              "      <td>-0.022384</td>\n",
              "      <td>0.274567</td>\n",
              "      <td>-0.087464</td>\n",
              "      <td>0.045463</td>\n",
              "    </tr>\n",
              "    <tr>\n",
              "      <th>2020-09-03</th>\n",
              "      <td>-0.143393</td>\n",
              "      <td>-0.065759</td>\n",
              "      <td>-0.001196</td>\n",
              "      <td>-0.004491</td>\n",
              "      <td>-0.390834</td>\n",
              "      <td>0.107416</td>\n",
              "      <td>-0.033938</td>\n",
              "      <td>0.010052</td>\n",
              "      <td>0.217084</td>\n",
              "      <td>0.278876</td>\n",
              "      <td>-0.056852</td>\n",
              "      <td>0.019892</td>\n",
              "    </tr>\n",
              "    <tr>\n",
              "      <th>2020-09-04</th>\n",
              "      <td>-0.171627</td>\n",
              "      <td>-0.048058</td>\n",
              "      <td>-0.005549</td>\n",
              "      <td>-0.007932</td>\n",
              "      <td>-0.246855</td>\n",
              "      <td>0.118542</td>\n",
              "      <td>-0.042001</td>\n",
              "      <td>0.000880</td>\n",
              "      <td>0.405041</td>\n",
              "      <td>0.265255</td>\n",
              "      <td>-0.071772</td>\n",
              "      <td>0.040297</td>\n",
              "    </tr>\n",
              "  </tbody>\n",
              "</table>\n",
              "<p>1058 rows × 12 columns</p>\n",
              "</div>"
            ],
            "text/plain": [
              "             GUSH_1m    GLD_1m    UUP_1m  ...    GLD_6m    UUP_6m    IEF_6m\n",
              "2016-06-24 -0.089693  0.080803  0.005274  ...  0.224609 -0.035422  0.065996\n",
              "2016-06-27 -0.221128  0.095658  0.008068  ...  0.227757 -0.032895  0.075516\n",
              "2016-06-28 -0.131674  0.079786  0.001208  ...  0.197287 -0.034924  0.068873\n",
              "2016-06-29 -0.102122  0.085389  0.003644  ...  0.185492 -0.028224  0.062237\n",
              "2016-06-30 -0.134927  0.093369  0.004448  ...  0.196726 -0.028169  0.061910\n",
              "...              ...       ...       ...  ...       ...       ...       ...\n",
              "2020-08-31 -0.027501 -0.004363 -0.015032  ...  0.200741 -0.048165  0.034337\n",
              "2020-09-01 -0.070992 -0.023946 -0.009528  ...  0.252115 -0.056354  0.037200\n",
              "2020-09-02 -0.157338 -0.045623 -0.001595  ...  0.274567 -0.087464  0.045463\n",
              "2020-09-03 -0.143393 -0.065759 -0.001196  ...  0.278876 -0.056852  0.019892\n",
              "2020-09-04 -0.171627 -0.048058 -0.005549  ...  0.265255 -0.071772  0.040297\n",
              "\n",
              "[1058 rows x 12 columns]"
            ]
          },
          "metadata": {
            "tags": []
          },
          "execution_count": 42
        }
      ]
    },
    {
      "cell_type": "markdown",
      "metadata": {
        "id": "S7KTaHeOol4Z",
        "colab_type": "text"
      },
      "source": [
        "# Model"
      ]
    },
    {
      "cell_type": "markdown",
      "metadata": {
        "id": "EeWkiaoE7owZ",
        "colab_type": "text"
      },
      "source": [
        "## Linger Regression"
      ]
    },
    {
      "cell_type": "markdown",
      "metadata": {
        "id": "xmffiElSx7ls",
        "colab_type": "text"
      },
      "source": [
        "Tóm tắt:\n",
        "Viết chương trình để xác định giá trị cổ phiếu SP500 dựa trên giá trị cổ phiếu gold, oil.... (pair trading). Lấy 20 giá trị trước hiện tại của GS train với 20 giá trị trước hiện tại của jpm, sau đó lấy model này predict giá trị hiện tại jpm dựa trên giá trị hiện tại của GS. model liner sẽ train và predict từng cặp 20 giá trị này cho tới hết data set.\n",
        "\n",
        "Training set:\n",
        "\n",
        "x.shape (20, 1)\n",
        "\n",
        "y.ravel().shape (20,)\n",
        "\n",
        "X: 20 sample, 1 feature; Y: 20 samples\n",
        "\n",
        "Khi lấy model này predict bao nhiêu giá trị x thì sẽ có tương ứng bấy nhiêu giá trị y. Ở đây train x và y theo 1-1, tức là chúng ta có linear model của 20 giá trị x theo 20 giá trị y, dùng model này để predict giá trị current\n",
        "\n",
        "Đây là model sống, nghĩa là model parameter sẽ thay đổi theo mỗi 20 giá trị tiếp theo, sau đó predict giá trị current. Cách train này khá hay , giống với ARIMA\n",
        "\n",
        "ML thông thường: X (2658,60); Y (2658,) tức là X có 60 features tượng trưng 60 timesteps, 2658 phần tử. Y cũng có 2658 giá trị tương ứng với 2658 giá trị X. Sau khi train hết rồi thì được model, model này sẽ dùng để predict X test (300,60). Đây là model chết do chỉ dùng parameter cũ để predict y theo X, mặc dù X ở đây là giá trị gần với y (30 or 60 ngày gần nhất)"
      ]
    },
    {
      "cell_type": "code",
      "metadata": {
        "id": "okOmnssJlU3h",
        "colab_type": "code",
        "colab": {}
      },
      "source": [
        "from sklearn.linear_model import LinearRegression\n",
        "\n",
        "class LinearRegressionModel(object):\n",
        "    def __init__(self):\n",
        "        self.df_result = pd.DataFrame(columns=['Actual', 'Predicted'])\n",
        "\n",
        "    def get_model(self):\n",
        "        return LinearRegression(fit_intercept=False)\n",
        "\n",
        "    def learn(self, df, ys, start_date, end_date, lookback_period=20):\n",
        "        model = self.get_model()\n",
        "        #print('++def learn')\n",
        "        #print('start_date',start_date)\n",
        "        #print('end_date',start_date)\n",
        "        #print('lookback_period',lookback_period)\n",
        "        for date in df[start_date:end_date].index:\n",
        "            # Fit the model\n",
        "            x = self.get_prices_since(df, date, lookback_period)\n",
        "            y = self.get_prices_since(ys, date, lookback_period)\n",
        "            #print('----date',date)\n",
        "            #print('x',x)\n",
        "            #print('y',y)\n",
        "            #print('y.ravel()',y.ravel())\n",
        "            #print('x.shape',x.shape)\n",
        "            #print('y.ravel().shape',y.ravel().shape)\n",
        "            model.fit(x, y.ravel())\n",
        "            #print('model.predict(x)',model.predict(x))\n",
        "            # Predict the current period\n",
        "            #print('Predict the current period')\n",
        "            #print('date ',date)\n",
        "            x_current = df.loc[date].values\n",
        "            [y_pred] = model.predict([x_current])\n",
        "            #print('x_current',x_current)\n",
        "            #print('[y_pred]',[y_pred])\n",
        "\n",
        "            # Store predictions\n",
        "            new_index = pd.to_datetime(date, format='%Y-%m-%d')\n",
        "            y_actual = ys.loc[date]\n",
        "            #print('y_actual',y_actual)\n",
        "            self.df_result.loc[new_index] = [y_actual, y_pred]\n",
        "\n",
        "    def get_prices_since(self, df, date_since, lookback):\n",
        "\n",
        "        index = df.index.get_loc(date_since) # current date\n",
        "        #print('++def get_prices_since')\n",
        "        #print('date_since',date_since)\n",
        "        #print('index',index)\n",
        "        #print('index-lookback:index',index-lookback,index) \n",
        "        return df.iloc[index-lookback:index] #current date - 20 : current date\n"
      ],
      "execution_count": 57,
      "outputs": []
    },
    {
      "cell_type": "code",
      "metadata": {
        "id": "sKhaAwE9r68A",
        "colab_type": "code",
        "colab": {
          "base_uri": "https://localhost:8080/",
          "height": 221
        },
        "outputId": "534f9b81-ec77-4cf3-bc8b-c6a749010102"
      },
      "source": [
        "df_sp500"
      ],
      "execution_count": 44,
      "outputs": [
        {
          "output_type": "execute_result",
          "data": {
            "text/plain": [
              "2016-01-04    2012.660034\n",
              "2016-01-05    2016.709961\n",
              "2016-01-06    1990.260010\n",
              "2016-01-07    1943.089966\n",
              "2016-01-08    1922.030029\n",
              "                 ...     \n",
              "2020-08-31    3500.310059\n",
              "2020-09-01    3526.649902\n",
              "2020-09-02    3580.840088\n",
              "2020-09-03    3455.060059\n",
              "2020-09-04    3426.959961\n",
              "Name: adjclose, Length: 1178, dtype: float64"
            ]
          },
          "metadata": {
            "tags": []
          },
          "execution_count": 44
        }
      ]
    },
    {
      "cell_type": "code",
      "metadata": {
        "id": "fLYFDB58s1P3",
        "colab_type": "code",
        "colab": {
          "base_uri": "https://localhost:8080/",
          "height": 419
        },
        "outputId": "61400d74-3d50-4a68-8065-153a8b4dcb09"
      },
      "source": [
        "df_assets"
      ],
      "execution_count": 45,
      "outputs": [
        {
          "output_type": "execute_result",
          "data": {
            "text/html": [
              "<div>\n",
              "<style scoped>\n",
              "    .dataframe tbody tr th:only-of-type {\n",
              "        vertical-align: middle;\n",
              "    }\n",
              "\n",
              "    .dataframe tbody tr th {\n",
              "        vertical-align: top;\n",
              "    }\n",
              "\n",
              "    .dataframe thead th {\n",
              "        text-align: right;\n",
              "    }\n",
              "</style>\n",
              "<table border=\"1\" class=\"dataframe\">\n",
              "  <thead>\n",
              "    <tr style=\"text-align: right;\">\n",
              "      <th></th>\n",
              "      <th>GUSH</th>\n",
              "      <th>GLD</th>\n",
              "      <th>UUP</th>\n",
              "      <th>IEF</th>\n",
              "    </tr>\n",
              "  </thead>\n",
              "  <tbody>\n",
              "    <tr>\n",
              "      <th>2016-01-04</th>\n",
              "      <td>13072.905273</td>\n",
              "      <td>102.889999</td>\n",
              "      <td>24.894354</td>\n",
              "      <td>97.151749</td>\n",
              "    </tr>\n",
              "    <tr>\n",
              "      <th>2016-01-05</th>\n",
              "      <td>12937.333984</td>\n",
              "      <td>103.180000</td>\n",
              "      <td>25.039707</td>\n",
              "      <td>97.124275</td>\n",
              "    </tr>\n",
              "    <tr>\n",
              "      <th>2016-01-06</th>\n",
              "      <td>10225.916992</td>\n",
              "      <td>104.669998</td>\n",
              "      <td>24.971874</td>\n",
              "      <td>97.710609</td>\n",
              "    </tr>\n",
              "    <tr>\n",
              "      <th>2016-01-07</th>\n",
              "      <td>9538.379883</td>\n",
              "      <td>106.150002</td>\n",
              "      <td>24.719925</td>\n",
              "      <td>97.921371</td>\n",
              "    </tr>\n",
              "    <tr>\n",
              "      <th>2016-01-08</th>\n",
              "      <td>9571.303711</td>\n",
              "      <td>105.680000</td>\n",
              "      <td>24.768377</td>\n",
              "      <td>98.168747</td>\n",
              "    </tr>\n",
              "    <tr>\n",
              "      <th>...</th>\n",
              "      <td>...</td>\n",
              "      <td>...</td>\n",
              "      <td>...</td>\n",
              "      <td>...</td>\n",
              "    </tr>\n",
              "    <tr>\n",
              "      <th>2020-08-31</th>\n",
              "      <td>32.180000</td>\n",
              "      <td>184.830002</td>\n",
              "      <td>24.900000</td>\n",
              "      <td>121.422005</td>\n",
              "    </tr>\n",
              "    <tr>\n",
              "      <th>2020-09-01</th>\n",
              "      <td>31.930000</td>\n",
              "      <td>185.050003</td>\n",
              "      <td>24.950001</td>\n",
              "      <td>121.820000</td>\n",
              "    </tr>\n",
              "    <tr>\n",
              "      <th>2020-09-02</th>\n",
              "      <td>30.260000</td>\n",
              "      <td>182.619995</td>\n",
              "      <td>25.040001</td>\n",
              "      <td>121.989998</td>\n",
              "    </tr>\n",
              "    <tr>\n",
              "      <th>2020-09-03</th>\n",
              "      <td>29.690001</td>\n",
              "      <td>181.139999</td>\n",
              "      <td>25.049999</td>\n",
              "      <td>122.150002</td>\n",
              "    </tr>\n",
              "    <tr>\n",
              "      <th>2020-09-04</th>\n",
              "      <td>29.780001</td>\n",
              "      <td>181.639999</td>\n",
              "      <td>25.090000</td>\n",
              "      <td>121.470001</td>\n",
              "    </tr>\n",
              "  </tbody>\n",
              "</table>\n",
              "<p>1178 rows × 4 columns</p>\n",
              "</div>"
            ],
            "text/plain": [
              "                    GUSH         GLD        UUP         IEF\n",
              "2016-01-04  13072.905273  102.889999  24.894354   97.151749\n",
              "2016-01-05  12937.333984  103.180000  25.039707   97.124275\n",
              "2016-01-06  10225.916992  104.669998  24.971874   97.710609\n",
              "2016-01-07   9538.379883  106.150002  24.719925   97.921371\n",
              "2016-01-08   9571.303711  105.680000  24.768377   98.168747\n",
              "...                  ...         ...        ...         ...\n",
              "2020-08-31     32.180000  184.830002  24.900000  121.422005\n",
              "2020-09-01     31.930000  185.050003  24.950001  121.820000\n",
              "2020-09-02     30.260000  182.619995  25.040001  121.989998\n",
              "2020-09-03     29.690001  181.139999  25.049999  122.150002\n",
              "2020-09-04     29.780001  181.639999  25.090000  121.470001\n",
              "\n",
              "[1178 rows x 4 columns]"
            ]
          },
          "metadata": {
            "tags": []
          },
          "execution_count": 45
        }
      ]
    },
    {
      "cell_type": "code",
      "metadata": {
        "id": "BiMJ6vfHrY1h",
        "colab_type": "code",
        "colab": {}
      },
      "source": [
        "linear_reg_model = LinearRegressionModel()\n",
        "linear_reg_model.learn(df_assets, df_sp500, start_date='2017', \n",
        "                       end_date='2020', lookback_period=10)"
      ],
      "execution_count": 58,
      "outputs": []
    },
    {
      "cell_type": "code",
      "metadata": {
        "id": "H_duEhM4uR_j",
        "colab_type": "code",
        "colab": {
          "base_uri": "https://localhost:8080/",
          "height": 480
        },
        "outputId": "7c4750f7-130f-4060-a680-c4a5406ff766"
      },
      "source": [
        "linear_reg_model.df_result.plot(\n",
        "    title='JPM prediction by OLS', \n",
        "    style=['-', '--'], figsize=(12,8));"
      ],
      "execution_count": 48,
      "outputs": [
        {
          "output_type": "display_data",
          "data": {
            "image/png": "[encoded data removed]",
            "text/plain": [
              "<Figure size 864x576 with 1 Axes>"
            ]
          },
          "metadata": {
            "tags": []
          }
        }
      ]
    },
    {
      "cell_type": "code",
      "metadata": {
        "id": "6doeBho3tHLr",
        "colab_type": "code",
        "colab": {
          "base_uri": "https://localhost:8080/",
          "height": 419
        },
        "outputId": "e8010c8e-f5a9-49dd-f01b-464d20137319"
      },
      "source": [
        "linear_reg_model.df_result"
      ],
      "execution_count": 47,
      "outputs": [
        {
          "output_type": "execute_result",
          "data": {
            "text/html": [
              "<div>\n",
              "<style scoped>\n",
              "    .dataframe tbody tr th:only-of-type {\n",
              "        vertical-align: middle;\n",
              "    }\n",
              "\n",
              "    .dataframe tbody tr th {\n",
              "        vertical-align: top;\n",
              "    }\n",
              "\n",
              "    .dataframe thead th {\n",
              "        text-align: right;\n",
              "    }\n",
              "</style>\n",
              "<table border=\"1\" class=\"dataframe\">\n",
              "  <thead>\n",
              "    <tr style=\"text-align: right;\">\n",
              "      <th></th>\n",
              "      <th>Actual</th>\n",
              "      <th>Predicted</th>\n",
              "    </tr>\n",
              "  </thead>\n",
              "  <tbody>\n",
              "    <tr>\n",
              "      <th>2017-01-03</th>\n",
              "      <td>2257.830078</td>\n",
              "      <td>2264.084740</td>\n",
              "    </tr>\n",
              "    <tr>\n",
              "      <th>2017-01-04</th>\n",
              "      <td>2270.750000</td>\n",
              "      <td>2251.630106</td>\n",
              "    </tr>\n",
              "    <tr>\n",
              "      <th>2017-01-05</th>\n",
              "      <td>2269.000000</td>\n",
              "      <td>2254.861399</td>\n",
              "    </tr>\n",
              "    <tr>\n",
              "      <th>2017-01-06</th>\n",
              "      <td>2276.979980</td>\n",
              "      <td>2250.920645</td>\n",
              "    </tr>\n",
              "    <tr>\n",
              "      <th>2017-01-09</th>\n",
              "      <td>2268.899902</td>\n",
              "      <td>2226.464370</td>\n",
              "    </tr>\n",
              "    <tr>\n",
              "      <th>...</th>\n",
              "      <td>...</td>\n",
              "      <td>...</td>\n",
              "    </tr>\n",
              "    <tr>\n",
              "      <th>2020-08-31</th>\n",
              "      <td>3500.310059</td>\n",
              "      <td>3450.913382</td>\n",
              "    </tr>\n",
              "    <tr>\n",
              "      <th>2020-09-01</th>\n",
              "      <td>3526.649902</td>\n",
              "      <td>3461.757692</td>\n",
              "    </tr>\n",
              "    <tr>\n",
              "      <th>2020-09-02</th>\n",
              "      <td>3580.840088</td>\n",
              "      <td>3431.633567</td>\n",
              "    </tr>\n",
              "    <tr>\n",
              "      <th>2020-09-03</th>\n",
              "      <td>3455.060059</td>\n",
              "      <td>3497.122739</td>\n",
              "    </tr>\n",
              "    <tr>\n",
              "      <th>2020-09-04</th>\n",
              "      <td>3426.959961</td>\n",
              "      <td>3504.504691</td>\n",
              "    </tr>\n",
              "  </tbody>\n",
              "</table>\n",
              "<p>926 rows × 2 columns</p>\n",
              "</div>"
            ],
            "text/plain": [
              "                 Actual    Predicted\n",
              "2017-01-03  2257.830078  2264.084740\n",
              "2017-01-04  2270.750000  2251.630106\n",
              "2017-01-05  2269.000000  2254.861399\n",
              "2017-01-06  2276.979980  2250.920645\n",
              "2017-01-09  2268.899902  2226.464370\n",
              "...                 ...          ...\n",
              "2020-08-31  3500.310059  3450.913382\n",
              "2020-09-01  3526.649902  3461.757692\n",
              "2020-09-02  3580.840088  3431.633567\n",
              "2020-09-03  3455.060059  3497.122739\n",
              "2020-09-04  3426.959961  3504.504691\n",
              "\n",
              "[926 rows x 2 columns]"
            ]
          },
          "metadata": {
            "tags": []
          },
          "execution_count": 47
        }
      ]
    },
    {
      "cell_type": "code",
      "metadata": {
        "id": "wCg7vAXx5vB-",
        "colab_type": "code",
        "colab": {}
      },
      "source": [
        "y_test=linear_reg_model.df_result.Actual[-186:]\n",
        "y_test_pred=linear_reg_model.df_result.Predicted[-186:]"
      ],
      "execution_count": 51,
      "outputs": []
    },
    {
      "cell_type": "code",
      "metadata": {
        "id": "3tTyAwfEuS0g",
        "colab_type": "code",
        "colab": {
          "base_uri": "https://localhost:8080/",
          "height": 34
        },
        "outputId": "5d1907ee-81a3-4cdf-d7a2-fd829952b2fc"
      },
      "source": [
        "print('test rmse:', np.sqrt(mean_squared_error(y_test, y_test_pred)))"
      ],
      "execution_count": 54,
      "outputs": [
        {
          "output_type": "stream",
          "text": [
            "test rmse: 63.54540410583514\n"
          ],
          "name": "stdout"
        }
      ]
    },
    {
      "cell_type": "code",
      "metadata": {
        "id": "kxxfpjux619M",
        "colab_type": "code",
        "colab": {}
      },
      "source": [
        "def profit(true,predict):\n",
        "  buy=0\n",
        "  win=0\n",
        "  lose=0\n",
        "  revenue=[]\n",
        "  for i in range(len(predict)-1):\n",
        "    if predict.values[i+1] > true.values[i]:\n",
        "      buy+=1\n",
        "      result=true.values[i+1]-true.values[i]\n",
        "      revenue.append(result)\n",
        "      if result >0:\n",
        "        win+=1\n",
        "      else:\n",
        "        lose+=1\n",
        "  print('total buy',buy)      \n",
        "  print('ratio buy/all test set:',buy/len(predict))      \n",
        "  print('win num',win)\n",
        "  print('lose num',lose)\n",
        "  print('revenue',sum(revenue))"
      ],
      "execution_count": 55,
      "outputs": []
    },
    {
      "cell_type": "code",
      "metadata": {
        "id": "N62RDMNA7Cg9",
        "colab_type": "code",
        "colab": {
          "base_uri": "https://localhost:8080/",
          "height": 102
        },
        "outputId": "da0e95e2-111d-4b57-fe3d-22634d6c7c3d"
      },
      "source": [
        "profit(y_test,y_test_pred)"
      ],
      "execution_count": 56,
      "outputs": [
        {
          "output_type": "stream",
          "text": [
            "total buy 98\n",
            "ratio buy/all test set: 0.5268817204301075\n",
            "win num 72\n",
            "lose num 26\n",
            "revenue 2027.949462890625\n"
          ],
          "name": "stdout"
        }
      ]
    },
    {
      "cell_type": "markdown",
      "metadata": {
        "id": "HSRKdj8g7rNE",
        "colab_type": "text"
      },
      "source": [
        "## Ridge regression"
      ]
    },
    {
      "cell_type": "code",
      "metadata": {
        "id": "L1k_2IW-7Fqp",
        "colab_type": "code",
        "colab": {}
      },
      "source": [
        "from sklearn.linear_model import LinearRegression\n",
        "\n",
        "class LinearRegressionModel(object):\n",
        "    def __init__(self):\n",
        "        self.df_result = pd.DataFrame(columns=['Actual', 'Predicted'])\n",
        "\n",
        "    def get_model(self):\n",
        "        return LinearRegression(fit_intercept=False)\n",
        "\n",
        "    def learn(self, df, ys, start_date, end_date, lookback_period=20):\n",
        "        model = self.get_model()\n",
        "\n",
        "        for date in df[start_date:end_date].index:\n",
        "            # Fit the model\n",
        "            x = self.get_prices_since(df, date, lookback_period)\n",
        "            y = self.get_prices_since(ys, date, lookback_period)\n",
        "            model.fit(x, y.ravel())\n",
        "            # Predict the current period\n",
        "            x_current = df.loc[date].values\n",
        "            [y_pred] = model.predict([x_current])\n",
        "            # Store predictions\n",
        "            new_index = pd.to_datetime(date, format='%Y-%m-%d')\n",
        "            y_actual = ys.loc[date]\n",
        "            self.df_result.loc[new_index] = [y_actual, y_pred]\n",
        "\n",
        "    def get_prices_since(self, df, date_since, lookback):\n",
        "\n",
        "        index = df.index.get_loc(date_since) # current date\n",
        "        return df.iloc[index-lookback:index] #current date - 20 : current date\n"
      ],
      "execution_count": 59,
      "outputs": []
    },
    {
      "cell_type": "code",
      "metadata": {
        "id": "YqqzTeDh7t9V",
        "colab_type": "code",
        "colab": {}
      },
      "source": [
        "from sklearn.linear_model import Ridge\n",
        "# class Ridge kế thừa tất cả thuộc tính của class Linear, chỉ thay đổi get_model method\n",
        "class RidgeRegressionModel(LinearRegressionModel):        \n",
        "    def get_model(self):\n",
        "        return Ridge(alpha=.5)"
      ],
      "execution_count": 60,
      "outputs": []
    },
    {
      "cell_type": "code",
      "metadata": {
        "id": "6WU8zGXu7vBO",
        "colab_type": "code",
        "colab": {}
      },
      "source": [
        "ridge_reg_model = RidgeRegressionModel()\n",
        "ridge_reg_model.learn(df_assets, df_sp500, start_date='2017', \n",
        "                       end_date='2020', lookback_period=10)"
      ],
      "execution_count": 61,
      "outputs": []
    },
    {
      "cell_type": "code",
      "metadata": {
        "id": "1N2sTKfc726Q",
        "colab_type": "code",
        "colab": {
          "base_uri": "https://localhost:8080/",
          "height": 464
        },
        "outputId": "95aaf6c3-f6b8-4f3b-ee70-8a96b377398c"
      },
      "source": [
        "ridge_reg_model.df_result.plot(\n",
        "    #title='JPM prediction by OLS', \n",
        "    style=['-', '--'], figsize=(12,8));"
      ],
      "execution_count": 63,
      "outputs": [
        {
          "output_type": "display_data",
          "data": {
            "image/png": "[encoded data removed]",
            "text/plain": [
              "<Figure size 864x576 with 1 Axes>"
            ]
          },
          "metadata": {
            "tags": []
          }
        }
      ]
    },
    {
      "cell_type": "code",
      "metadata": {
        "id": "A2zkRzMw75RM",
        "colab_type": "code",
        "colab": {}
      },
      "source": [
        ""
      ],
      "execution_count": null,
      "outputs": []
    }
  ]
}