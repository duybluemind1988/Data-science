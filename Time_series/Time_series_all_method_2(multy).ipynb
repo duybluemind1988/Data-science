{
  "nbformat": 4,
  "nbformat_minor": 0,
  "metadata": {
    "colab": {
      "name": "Time_series_all_method_2(multy).ipynb",
      "provenance": [],
      "authorship_tag": "ABX9TyNG7pEsCEJrRbfJAu6ppFkg",
      "include_colab_link": true
    },
    "kernelspec": {
      "name": "python3",
      "display_name": "Python 3"
    }
  },
  "cells": [
    {
      "cell_type": "markdown",
      "metadata": {
        "id": "view-in-github",
        "colab_type": "text"
      },
      "source": [
        "<a href=\"https://colab.research.google.com/github/duybluemind1988/Data-science/blob/master/Time_series/Time_series_all_method_2(multy).ipynb\" target=\"_parent\"><img src=\"https://colab.research.google.com/assets/colab-badge.svg\" alt=\"Open In Colab\"/></a>"
      ]
    },
    {
      "cell_type": "markdown",
      "metadata": {
        "id": "8MiUMBGQonzo",
        "colab_type": "text"
      },
      "source": [
        "# 1.Mutlity stock tradings"
      ]
    },
    {
      "cell_type": "code",
      "metadata": {
        "id": "Tg8FJvEqiRco",
        "colab_type": "code",
        "colab": {}
      },
      "source": [
        "import pandas as pd \n",
        "import numpy as np\n",
        "import matplotlib.pyplot as plt\n",
        "import seaborn as sns; sns.set()\n",
        "from sklearn.metrics import mean_squared_error\n",
        "#import yfinance as yf\n",
        "import cufflinks as cf\n",
        "from plotly.offline import iplot, init_notebook_mode"
      ],
      "execution_count": 53,
      "outputs": []
    },
    {
      "cell_type": "code",
      "metadata": {
        "id": "I8jL7iA5iuMZ",
        "colab_type": "code",
        "colab": {
          "base_uri": "https://localhost:8080/",
          "height": 105
        },
        "outputId": "5a5e044c-2688-419d-9074-80ecabbe43f9"
      },
      "source": [
        "!pip install yahoo_fin"
      ],
      "execution_count": 3,
      "outputs": [
        {
          "output_type": "stream",
          "text": [
            "Collecting yahoo_fin\n",
            "  Downloading https://files.pythonhosted.org/packages/d3/5c/6bf0c0147cc94d643e2a2413d0a9b27967e964ee99f88f26db93a0b963b8/yahoo_fin-0.8.6-py3-none-any.whl\n",
            "Installing collected packages: yahoo-fin\n",
            "Successfully installed yahoo-fin-0.8.6\n"
          ],
          "name": "stdout"
        }
      ]
    },
    {
      "cell_type": "code",
      "metadata": {
        "id": "zOXQf-VJiltF",
        "colab_type": "code",
        "colab": {
          "base_uri": "https://localhost:8080/",
          "height": 221
        },
        "outputId": "9b4185ed-96b1-4d75-de21-4c2e0717a6e0"
      },
      "source": [
        "from yahoo_fin.stock_info import get_data\n",
        "\n",
        "stock_code={'Apple':'AAPL', 'Microsoft':'MSFT','Facebook':'Fb','Amazon':'AMZN',\n",
        "            'Twitter':'TWTR','SP500':'^GSPC'}\n",
        "\n",
        "df= get_data(stock_code['SP500'],  start_date = '2016-01-01',\n",
        "                          end_date='2020-09-05',\n",
        "                      index_as_date = True, interval=\"1d\")\n",
        "df_sp500=df['adjclose']\n",
        "df_sp500"
      ],
      "execution_count": 38,
      "outputs": [
        {
          "output_type": "execute_result",
          "data": {
            "text/plain": [
              "2016-01-04    2012.660034\n",
              "2016-01-05    2016.709961\n",
              "2016-01-06    1990.260010\n",
              "2016-01-07    1943.089966\n",
              "2016-01-08    1922.030029\n",
              "                 ...     \n",
              "2020-08-31    3500.310059\n",
              "2020-09-01    3526.649902\n",
              "2020-09-02    3580.840088\n",
              "2020-09-03    3455.060059\n",
              "2020-09-04    3426.959961\n",
              "Name: adjclose, Length: 1178, dtype: float64"
            ]
          },
          "metadata": {
            "tags": []
          },
          "execution_count": 38
        }
      ]
    },
    {
      "cell_type": "code",
      "metadata": {
        "id": "kcy3Cqn9ipo9",
        "colab_type": "code",
        "colab": {}
      },
      "source": [
        "df_gld= get_data(\"GLD\",start_date = '2016-01-01',end_date='2020-09-05',\n",
        "                      index_as_date = True, interval=\"1d\") # Gold price\n",
        "df_dxy= get_data(\"UUP\",start_date = '2016-01-01',end_date='2020-09-05',\n",
        "                      index_as_date = True, interval=\"1d\") # Invesco DB US Dollar \n",
        "df_ief= get_data(\"IEF\",start_date = '2016-01-01',end_date='2020-09-05',\n",
        "                      index_as_date = True, interval=\"1d\") # 10 Year Treasury Bond \n",
        "df_gush= get_data(\"GUSH\",start_date = '2016-01-01',end_date='2020-09-05',\n",
        "                      index_as_date = True, interval=\"1d\") # Direxion Daily S&P Oil & Gas Exp. & Prod. Bull 2X Shares"
      ],
      "execution_count": 39,
      "outputs": []
    },
    {
      "cell_type": "code",
      "metadata": {
        "id": "2DwpfAoAirWh",
        "colab_type": "code",
        "colab": {
          "base_uri": "https://localhost:8080/",
          "height": 419
        },
        "outputId": "328396fb-1839-41f4-cff6-63a6fe564524"
      },
      "source": [
        "df_assets = pd.DataFrame({\n",
        "    'GUSH':df_gush['adjclose'],\n",
        "    'GLD': df_gld['adjclose'],\n",
        "    'UUP': df_dxy['adjclose'],\n",
        "    'IEF': df_ief['adjclose'],\n",
        "})\n",
        "df_assets"
      ],
      "execution_count": 40,
      "outputs": [
        {
          "output_type": "execute_result",
          "data": {
            "text/html": [
              "<div>\n",
              "<style scoped>\n",
              "    .dataframe tbody tr th:only-of-type {\n",
              "        vertical-align: middle;\n",
              "    }\n",
              "\n",
              "    .dataframe tbody tr th {\n",
              "        vertical-align: top;\n",
              "    }\n",
              "\n",
              "    .dataframe thead th {\n",
              "        text-align: right;\n",
              "    }\n",
              "</style>\n",
              "<table border=\"1\" class=\"dataframe\">\n",
              "  <thead>\n",
              "    <tr style=\"text-align: right;\">\n",
              "      <th></th>\n",
              "      <th>GUSH</th>\n",
              "      <th>GLD</th>\n",
              "      <th>UUP</th>\n",
              "      <th>IEF</th>\n",
              "    </tr>\n",
              "  </thead>\n",
              "  <tbody>\n",
              "    <tr>\n",
              "      <th>2016-01-04</th>\n",
              "      <td>13072.905273</td>\n",
              "      <td>102.889999</td>\n",
              "      <td>24.894354</td>\n",
              "      <td>97.151749</td>\n",
              "    </tr>\n",
              "    <tr>\n",
              "      <th>2016-01-05</th>\n",
              "      <td>12937.333984</td>\n",
              "      <td>103.180000</td>\n",
              "      <td>25.039707</td>\n",
              "      <td>97.124275</td>\n",
              "    </tr>\n",
              "    <tr>\n",
              "      <th>2016-01-06</th>\n",
              "      <td>10225.916992</td>\n",
              "      <td>104.669998</td>\n",
              "      <td>24.971874</td>\n",
              "      <td>97.710609</td>\n",
              "    </tr>\n",
              "    <tr>\n",
              "      <th>2016-01-07</th>\n",
              "      <td>9538.379883</td>\n",
              "      <td>106.150002</td>\n",
              "      <td>24.719925</td>\n",
              "      <td>97.921371</td>\n",
              "    </tr>\n",
              "    <tr>\n",
              "      <th>2016-01-08</th>\n",
              "      <td>9571.303711</td>\n",
              "      <td>105.680000</td>\n",
              "      <td>24.768377</td>\n",
              "      <td>98.168747</td>\n",
              "    </tr>\n",
              "    <tr>\n",
              "      <th>...</th>\n",
              "      <td>...</td>\n",
              "      <td>...</td>\n",
              "      <td>...</td>\n",
              "      <td>...</td>\n",
              "    </tr>\n",
              "    <tr>\n",
              "      <th>2020-08-31</th>\n",
              "      <td>32.180000</td>\n",
              "      <td>184.830002</td>\n",
              "      <td>24.900000</td>\n",
              "      <td>121.422005</td>\n",
              "    </tr>\n",
              "    <tr>\n",
              "      <th>2020-09-01</th>\n",
              "      <td>31.930000</td>\n",
              "      <td>185.050003</td>\n",
              "      <td>24.950001</td>\n",
              "      <td>121.820000</td>\n",
              "    </tr>\n",
              "    <tr>\n",
              "      <th>2020-09-02</th>\n",
              "      <td>30.260000</td>\n",
              "      <td>182.619995</td>\n",
              "      <td>25.040001</td>\n",
              "      <td>121.989998</td>\n",
              "    </tr>\n",
              "    <tr>\n",
              "      <th>2020-09-03</th>\n",
              "      <td>29.690001</td>\n",
              "      <td>181.139999</td>\n",
              "      <td>25.049999</td>\n",
              "      <td>122.150002</td>\n",
              "    </tr>\n",
              "    <tr>\n",
              "      <th>2020-09-04</th>\n",
              "      <td>29.780001</td>\n",
              "      <td>181.639999</td>\n",
              "      <td>25.090000</td>\n",
              "      <td>121.470001</td>\n",
              "    </tr>\n",
              "  </tbody>\n",
              "</table>\n",
              "<p>1178 rows × 4 columns</p>\n",
              "</div>"
            ],
            "text/plain": [
              "                    GUSH         GLD        UUP         IEF\n",
              "2016-01-04  13072.905273  102.889999  24.894354   97.151749\n",
              "2016-01-05  12937.333984  103.180000  25.039707   97.124275\n",
              "2016-01-06  10225.916992  104.669998  24.971874   97.710609\n",
              "2016-01-07   9538.379883  106.150002  24.719925   97.921371\n",
              "2016-01-08   9571.303711  105.680000  24.768377   98.168747\n",
              "...                  ...         ...        ...         ...\n",
              "2020-08-31     32.180000  184.830002  24.900000  121.422005\n",
              "2020-09-01     31.930000  185.050003  24.950001  121.820000\n",
              "2020-09-02     30.260000  182.619995  25.040001  121.989998\n",
              "2020-09-03     29.690001  181.139999  25.049999  122.150002\n",
              "2020-09-04     29.780001  181.639999  25.090000  121.470001\n",
              "\n",
              "[1178 rows x 4 columns]"
            ]
          },
          "metadata": {
            "tags": []
          },
          "execution_count": 40
        }
      ]
    },
    {
      "cell_type": "code",
      "metadata": {
        "id": "gXICEJCRjPCy",
        "colab_type": "code",
        "colab": {
          "base_uri": "https://localhost:8080/",
          "height": 259
        },
        "outputId": "5f77b944-fba8-4029-ad81-61bbe6381de8"
      },
      "source": [
        "df_assets.plot(subplots=True)\n",
        "plt.show()"
      ],
      "execution_count": 41,
      "outputs": [
        {
          "output_type": "display_data",
          "data": {
            "image/png": "[encoded data removed]",
            "text/plain": [
              "<Figure size 432x288 with 4 Axes>"
            ]
          },
          "metadata": {
            "tags": []
          }
        }
      ]
    },
    {
      "cell_type": "code",
      "metadata": {
        "id": "eCfwCc8niwtS",
        "colab_type": "code",
        "colab": {
          "base_uri": "https://localhost:8080/",
          "height": 609
        },
        "outputId": "e4a28b55-f171-4c62-d5f6-93a97562469e"
      },
      "source": [
        "# Not used\n",
        "df_assets_1m = df_assets.pct_change(periods=20)\n",
        "df_assets_1m.columns = ['%s_1m'%col for col in df_assets.columns]\n",
        "df_assets_3m = df_assets.pct_change(periods=60)\n",
        "df_assets_3m.columns = ['%s_3m'%col for col in df_assets.columns]\n",
        "df_assets_6m = df_assets.pct_change(periods=120)\n",
        "df_assets_6m.columns = ['%s_6m'%col for col in df_assets.columns]\n",
        "df_lagged = df_assets_1m.join(df_assets_3m)\\\n",
        "    .join(df_assets_6m)\\\n",
        "    .dropna()\n",
        "df_lagged"
      ],
      "execution_count": 42,
      "outputs": [
        {
          "output_type": "execute_result",
          "data": {
            "text/html": [
              "<div>\n",
              "<style scoped>\n",
              "    .dataframe tbody tr th:only-of-type {\n",
              "        vertical-align: middle;\n",
              "    }\n",
              "\n",
              "    .dataframe tbody tr th {\n",
              "        vertical-align: top;\n",
              "    }\n",
              "\n",
              "    .dataframe thead th {\n",
              "        text-align: right;\n",
              "    }\n",
              "</style>\n",
              "<table border=\"1\" class=\"dataframe\">\n",
              "  <thead>\n",
              "    <tr style=\"text-align: right;\">\n",
              "      <th></th>\n",
              "      <th>GUSH_1m</th>\n",
              "      <th>GLD_1m</th>\n",
              "      <th>UUP_1m</th>\n",
              "      <th>IEF_1m</th>\n",
              "      <th>GUSH_3m</th>\n",
              "      <th>GLD_3m</th>\n",
              "      <th>UUP_3m</th>\n",
              "      <th>IEF_3m</th>\n",
              "      <th>GUSH_6m</th>\n",
              "      <th>GLD_6m</th>\n",
              "      <th>UUP_6m</th>\n",
              "      <th>IEF_6m</th>\n",
              "    </tr>\n",
              "  </thead>\n",
              "  <tbody>\n",
              "    <tr>\n",
              "      <th>2016-06-24</th>\n",
              "      <td>-0.089693</td>\n",
              "      <td>0.080803</td>\n",
              "      <td>0.005274</td>\n",
              "      <td>0.023376</td>\n",
              "      <td>0.362538</td>\n",
              "      <td>0.071064</td>\n",
              "      <td>0.009780</td>\n",
              "      <td>0.021509</td>\n",
              "      <td>0.069037</td>\n",
              "      <td>0.224609</td>\n",
              "      <td>-0.035422</td>\n",
              "      <td>0.065996</td>\n",
              "    </tr>\n",
              "    <tr>\n",
              "      <th>2016-06-27</th>\n",
              "      <td>-0.221128</td>\n",
              "      <td>0.095658</td>\n",
              "      <td>0.008068</td>\n",
              "      <td>0.034201</td>\n",
              "      <td>0.208813</td>\n",
              "      <td>0.083383</td>\n",
              "      <td>0.018752</td>\n",
              "      <td>0.030639</td>\n",
              "      <td>-0.088323</td>\n",
              "      <td>0.227757</td>\n",
              "      <td>-0.032895</td>\n",
              "      <td>0.075516</td>\n",
              "    </tr>\n",
              "    <tr>\n",
              "      <th>2016-06-28</th>\n",
              "      <td>-0.131674</td>\n",
              "      <td>0.079786</td>\n",
              "      <td>0.001208</td>\n",
              "      <td>0.032793</td>\n",
              "      <td>0.429689</td>\n",
              "      <td>0.078950</td>\n",
              "      <td>0.014688</td>\n",
              "      <td>0.029242</td>\n",
              "      <td>0.315152</td>\n",
              "      <td>0.197287</td>\n",
              "      <td>-0.034924</td>\n",
              "      <td>0.068873</td>\n",
              "    </tr>\n",
              "    <tr>\n",
              "      <th>2016-06-29</th>\n",
              "      <td>-0.102122</td>\n",
              "      <td>0.085389</td>\n",
              "      <td>0.003644</td>\n",
              "      <td>0.028942</td>\n",
              "      <td>0.561814</td>\n",
              "      <td>0.069522</td>\n",
              "      <td>0.010599</td>\n",
              "      <td>0.020984</td>\n",
              "      <td>0.503147</td>\n",
              "      <td>0.185492</td>\n",
              "      <td>-0.028224</td>\n",
              "      <td>0.062237</td>\n",
              "    </tr>\n",
              "    <tr>\n",
              "      <th>2016-06-30</th>\n",
              "      <td>-0.134927</td>\n",
              "      <td>0.093369</td>\n",
              "      <td>0.004448</td>\n",
              "      <td>0.028033</td>\n",
              "      <td>0.381693</td>\n",
              "      <td>0.081495</td>\n",
              "      <td>0.014706</td>\n",
              "      <td>0.025472</td>\n",
              "      <td>0.456900</td>\n",
              "      <td>0.196726</td>\n",
              "      <td>-0.028169</td>\n",
              "      <td>0.061910</td>\n",
              "    </tr>\n",
              "    <tr>\n",
              "      <th>...</th>\n",
              "      <td>...</td>\n",
              "      <td>...</td>\n",
              "      <td>...</td>\n",
              "      <td>...</td>\n",
              "      <td>...</td>\n",
              "      <td>...</td>\n",
              "      <td>...</td>\n",
              "      <td>...</td>\n",
              "      <td>...</td>\n",
              "      <td>...</td>\n",
              "      <td>...</td>\n",
              "      <td>...</td>\n",
              "    </tr>\n",
              "    <tr>\n",
              "      <th>2020-08-31</th>\n",
              "      <td>-0.027501</td>\n",
              "      <td>-0.004363</td>\n",
              "      <td>-0.015032</td>\n",
              "      <td>-0.009214</td>\n",
              "      <td>-0.395541</td>\n",
              "      <td>0.169736</td>\n",
              "      <td>-0.049981</td>\n",
              "      <td>0.016272</td>\n",
              "      <td>0.109911</td>\n",
              "      <td>0.200741</td>\n",
              "      <td>-0.048165</td>\n",
              "      <td>0.034337</td>\n",
              "    </tr>\n",
              "    <tr>\n",
              "      <th>2020-09-01</th>\n",
              "      <td>-0.070992</td>\n",
              "      <td>-0.023946</td>\n",
              "      <td>-0.009528</td>\n",
              "      <td>-0.009359</td>\n",
              "      <td>-0.523891</td>\n",
              "      <td>0.158590</td>\n",
              "      <td>-0.045524</td>\n",
              "      <td>0.018498</td>\n",
              "      <td>0.478582</td>\n",
              "      <td>0.252115</td>\n",
              "      <td>-0.056354</td>\n",
              "      <td>0.037200</td>\n",
              "    </tr>\n",
              "    <tr>\n",
              "      <th>2020-09-02</th>\n",
              "      <td>-0.157338</td>\n",
              "      <td>-0.045623</td>\n",
              "      <td>-0.001595</td>\n",
              "      <td>-0.004660</td>\n",
              "      <td>-0.470394</td>\n",
              "      <td>0.132457</td>\n",
              "      <td>-0.039140</td>\n",
              "      <td>0.016274</td>\n",
              "      <td>-0.022384</td>\n",
              "      <td>0.274567</td>\n",
              "      <td>-0.087464</td>\n",
              "      <td>0.045463</td>\n",
              "    </tr>\n",
              "    <tr>\n",
              "      <th>2020-09-03</th>\n",
              "      <td>-0.143393</td>\n",
              "      <td>-0.065759</td>\n",
              "      <td>-0.001196</td>\n",
              "      <td>-0.004491</td>\n",
              "      <td>-0.390834</td>\n",
              "      <td>0.107416</td>\n",
              "      <td>-0.033938</td>\n",
              "      <td>0.010052</td>\n",
              "      <td>0.217084</td>\n",
              "      <td>0.278876</td>\n",
              "      <td>-0.056852</td>\n",
              "      <td>0.019892</td>\n",
              "    </tr>\n",
              "    <tr>\n",
              "      <th>2020-09-04</th>\n",
              "      <td>-0.171627</td>\n",
              "      <td>-0.048058</td>\n",
              "      <td>-0.005549</td>\n",
              "      <td>-0.007932</td>\n",
              "      <td>-0.246855</td>\n",
              "      <td>0.118542</td>\n",
              "      <td>-0.042001</td>\n",
              "      <td>0.000880</td>\n",
              "      <td>0.405041</td>\n",
              "      <td>0.265255</td>\n",
              "      <td>-0.071772</td>\n",
              "      <td>0.040297</td>\n",
              "    </tr>\n",
              "  </tbody>\n",
              "</table>\n",
              "<p>1058 rows × 12 columns</p>\n",
              "</div>"
            ],
            "text/plain": [
              "             GUSH_1m    GLD_1m    UUP_1m  ...    GLD_6m    UUP_6m    IEF_6m\n",
              "2016-06-24 -0.089693  0.080803  0.005274  ...  0.224609 -0.035422  0.065996\n",
              "2016-06-27 -0.221128  0.095658  0.008068  ...  0.227757 -0.032895  0.075516\n",
              "2016-06-28 -0.131674  0.079786  0.001208  ...  0.197287 -0.034924  0.068873\n",
              "2016-06-29 -0.102122  0.085389  0.003644  ...  0.185492 -0.028224  0.062237\n",
              "2016-06-30 -0.134927  0.093369  0.004448  ...  0.196726 -0.028169  0.061910\n",
              "...              ...       ...       ...  ...       ...       ...       ...\n",
              "2020-08-31 -0.027501 -0.004363 -0.015032  ...  0.200741 -0.048165  0.034337\n",
              "2020-09-01 -0.070992 -0.023946 -0.009528  ...  0.252115 -0.056354  0.037200\n",
              "2020-09-02 -0.157338 -0.045623 -0.001595  ...  0.274567 -0.087464  0.045463\n",
              "2020-09-03 -0.143393 -0.065759 -0.001196  ...  0.278876 -0.056852  0.019892\n",
              "2020-09-04 -0.171627 -0.048058 -0.005549  ...  0.265255 -0.071772  0.040297\n",
              "\n",
              "[1058 rows x 12 columns]"
            ]
          },
          "metadata": {
            "tags": []
          },
          "execution_count": 42
        }
      ]
    },
    {
      "cell_type": "markdown",
      "metadata": {
        "id": "S7KTaHeOol4Z",
        "colab_type": "text"
      },
      "source": [
        "# Model"
      ]
    },
    {
      "cell_type": "markdown",
      "metadata": {
        "id": "EeWkiaoE7owZ",
        "colab_type": "text"
      },
      "source": [
        "## Linger Regression (dynamic model)"
      ]
    },
    {
      "cell_type": "markdown",
      "metadata": {
        "id": "xmffiElSx7ls",
        "colab_type": "text"
      },
      "source": [
        "Tóm tắt:\n",
        "Viết chương trình để xác định giá trị cổ phiếu SP500 dựa trên giá trị cổ phiếu gold, oil.... (pair trading). Lấy 20 giá trị trước hiện tại của GS train với 20 giá trị trước hiện tại của jpm, sau đó lấy model này predict giá trị hiện tại jpm dựa trên giá trị hiện tại của GS. model liner sẽ train và predict từng cặp 20 giá trị này cho tới hết data set.\n",
        "\n",
        "Training set:\n",
        "\n",
        "x.shape (20, 1)\n",
        "\n",
        "y.ravel().shape (20,)\n",
        "\n",
        "X: 20 sample, 1 feature; Y: 20 samples\n",
        "\n",
        "Khi lấy model này predict bao nhiêu giá trị x thì sẽ có tương ứng bấy nhiêu giá trị y. Ở đây train x và y theo 1-1, tức là chúng ta có linear model của 20 giá trị x theo 20 giá trị y, dùng model này để predict giá trị current\n",
        "\n",
        "Đây là model sống, nghĩa là model parameter sẽ thay đổi theo mỗi 20 giá trị tiếp theo, sau đó predict giá trị current. Cách train này khá hay , giống với ARIMA\n",
        "\n",
        "ML thông thường: X (2658,60); Y (2658,) tức là X có 60 features tượng trưng 60 timesteps, 2658 phần tử. Y cũng có 2658 giá trị tương ứng với 2658 giá trị X. Sau khi train hết rồi thì được model, model này sẽ dùng để predict X test (300,60). Đây là model chết do chỉ dùng parameter cũ để predict y theo X, mặc dù X ở đây là giá trị gần với y (30 or 60 ngày gần nhất)"
      ]
    },
    {
      "cell_type": "code",
      "metadata": {
        "id": "okOmnssJlU3h",
        "colab_type": "code",
        "colab": {}
      },
      "source": [
        "from sklearn.linear_model import LinearRegression\n",
        "\n",
        "class LinearRegressionModel(object):\n",
        "    def __init__(self):\n",
        "        self.df_result = pd.DataFrame(columns=['Actual', 'Predicted'])\n",
        "\n",
        "    def get_model(self):\n",
        "        return LinearRegression(fit_intercept=False)\n",
        "\n",
        "    def learn(self, df, ys, start_date, end_date, lookback_period=20):\n",
        "        model = self.get_model()\n",
        "        #print('++def learn')\n",
        "        #print('start_date',start_date)\n",
        "        #print('end_date',start_date)\n",
        "        #print('lookback_period',lookback_period)\n",
        "        for date in df[start_date:end_date].index:\n",
        "            # Fit the model\n",
        "            x = self.get_prices_since(df, date, lookback_period)\n",
        "            y = self.get_prices_since(ys, date, lookback_period)\n",
        "            #print('----date',date)\n",
        "            #print('x',x)\n",
        "            #print('y',y)\n",
        "            #print('y.ravel()',y.ravel())\n",
        "            #print('x.shape',x.shape)\n",
        "            #print('y.ravel().shape',y.ravel().shape)\n",
        "            model.fit(x, y.ravel())\n",
        "            #print('model.predict(x)',model.predict(x))\n",
        "            # Predict the current period\n",
        "            #print('Predict the current period')\n",
        "            #print('date ',date)\n",
        "            x_current = df.loc[date].values\n",
        "            [y_pred] = model.predict([x_current])\n",
        "            #print('x_current',x_current)\n",
        "            #print('[y_pred]',[y_pred])\n",
        "\n",
        "            # Store predictions\n",
        "            new_index = pd.to_datetime(date, format='%Y-%m-%d')\n",
        "            y_actual = ys.loc[date]\n",
        "            #print('y_actual',y_actual)\n",
        "            self.df_result.loc[new_index] = [y_actual, y_pred]\n",
        "\n",
        "    def get_prices_since(self, df, date_since, lookback):\n",
        "\n",
        "        index = df.index.get_loc(date_since) # current date\n",
        "        #print('++def get_prices_since')\n",
        "        #print('date_since',date_since)\n",
        "        #print('index',index)\n",
        "        #print('index-lookback:index',index-lookback,index) \n",
        "        return df.iloc[index-lookback:index] #current date - 20 : current date\n"
      ],
      "execution_count": 57,
      "outputs": []
    },
    {
      "cell_type": "code",
      "metadata": {
        "id": "sKhaAwE9r68A",
        "colab_type": "code",
        "colab": {
          "base_uri": "https://localhost:8080/",
          "height": 221
        },
        "outputId": "534f9b81-ec77-4cf3-bc8b-c6a749010102"
      },
      "source": [
        "df_sp500"
      ],
      "execution_count": 44,
      "outputs": [
        {
          "output_type": "execute_result",
          "data": {
            "text/plain": [
              "2016-01-04    2012.660034\n",
              "2016-01-05    2016.709961\n",
              "2016-01-06    1990.260010\n",
              "2016-01-07    1943.089966\n",
              "2016-01-08    1922.030029\n",
              "                 ...     \n",
              "2020-08-31    3500.310059\n",
              "2020-09-01    3526.649902\n",
              "2020-09-02    3580.840088\n",
              "2020-09-03    3455.060059\n",
              "2020-09-04    3426.959961\n",
              "Name: adjclose, Length: 1178, dtype: float64"
            ]
          },
          "metadata": {
            "tags": []
          },
          "execution_count": 44
        }
      ]
    },
    {
      "cell_type": "code",
      "metadata": {
        "id": "fLYFDB58s1P3",
        "colab_type": "code",
        "colab": {
          "base_uri": "https://localhost:8080/",
          "height": 419
        },
        "outputId": "61400d74-3d50-4a68-8065-153a8b4dcb09"
      },
      "source": [
        "df_assets"
      ],
      "execution_count": 45,
      "outputs": [
        {
          "output_type": "execute_result",
          "data": {
            "text/html": [
              "<div>\n",
              "<style scoped>\n",
              "    .dataframe tbody tr th:only-of-type {\n",
              "        vertical-align: middle;\n",
              "    }\n",
              "\n",
              "    .dataframe tbody tr th {\n",
              "        vertical-align: top;\n",
              "    }\n",
              "\n",
              "    .dataframe thead th {\n",
              "        text-align: right;\n",
              "    }\n",
              "</style>\n",
              "<table border=\"1\" class=\"dataframe\">\n",
              "  <thead>\n",
              "    <tr style=\"text-align: right;\">\n",
              "      <th></th>\n",
              "      <th>GUSH</th>\n",
              "      <th>GLD</th>\n",
              "      <th>UUP</th>\n",
              "      <th>IEF</th>\n",
              "    </tr>\n",
              "  </thead>\n",
              "  <tbody>\n",
              "    <tr>\n",
              "      <th>2016-01-04</th>\n",
              "      <td>13072.905273</td>\n",
              "      <td>102.889999</td>\n",
              "      <td>24.894354</td>\n",
              "      <td>97.151749</td>\n",
              "    </tr>\n",
              "    <tr>\n",
              "      <th>2016-01-05</th>\n",
              "      <td>12937.333984</td>\n",
              "      <td>103.180000</td>\n",
              "      <td>25.039707</td>\n",
              "      <td>97.124275</td>\n",
              "    </tr>\n",
              "    <tr>\n",
              "      <th>2016-01-06</th>\n",
              "      <td>10225.916992</td>\n",
              "      <td>104.669998</td>\n",
              "      <td>24.971874</td>\n",
              "      <td>97.710609</td>\n",
              "    </tr>\n",
              "    <tr>\n",
              "      <th>2016-01-07</th>\n",
              "      <td>9538.379883</td>\n",
              "      <td>106.150002</td>\n",
              "      <td>24.719925</td>\n",
              "      <td>97.921371</td>\n",
              "    </tr>\n",
              "    <tr>\n",
              "      <th>2016-01-08</th>\n",
              "      <td>9571.303711</td>\n",
              "      <td>105.680000</td>\n",
              "      <td>24.768377</td>\n",
              "      <td>98.168747</td>\n",
              "    </tr>\n",
              "    <tr>\n",
              "      <th>...</th>\n",
              "      <td>...</td>\n",
              "      <td>...</td>\n",
              "      <td>...</td>\n",
              "      <td>...</td>\n",
              "    </tr>\n",
              "    <tr>\n",
              "      <th>2020-08-31</th>\n",
              "      <td>32.180000</td>\n",
              "      <td>184.830002</td>\n",
              "      <td>24.900000</td>\n",
              "      <td>121.422005</td>\n",
              "    </tr>\n",
              "    <tr>\n",
              "      <th>2020-09-01</th>\n",
              "      <td>31.930000</td>\n",
              "      <td>185.050003</td>\n",
              "      <td>24.950001</td>\n",
              "      <td>121.820000</td>\n",
              "    </tr>\n",
              "    <tr>\n",
              "      <th>2020-09-02</th>\n",
              "      <td>30.260000</td>\n",
              "      <td>182.619995</td>\n",
              "      <td>25.040001</td>\n",
              "      <td>121.989998</td>\n",
              "    </tr>\n",
              "    <tr>\n",
              "      <th>2020-09-03</th>\n",
              "      <td>29.690001</td>\n",
              "      <td>181.139999</td>\n",
              "      <td>25.049999</td>\n",
              "      <td>122.150002</td>\n",
              "    </tr>\n",
              "    <tr>\n",
              "      <th>2020-09-04</th>\n",
              "      <td>29.780001</td>\n",
              "      <td>181.639999</td>\n",
              "      <td>25.090000</td>\n",
              "      <td>121.470001</td>\n",
              "    </tr>\n",
              "  </tbody>\n",
              "</table>\n",
              "<p>1178 rows × 4 columns</p>\n",
              "</div>"
            ],
            "text/plain": [
              "                    GUSH         GLD        UUP         IEF\n",
              "2016-01-04  13072.905273  102.889999  24.894354   97.151749\n",
              "2016-01-05  12937.333984  103.180000  25.039707   97.124275\n",
              "2016-01-06  10225.916992  104.669998  24.971874   97.710609\n",
              "2016-01-07   9538.379883  106.150002  24.719925   97.921371\n",
              "2016-01-08   9571.303711  105.680000  24.768377   98.168747\n",
              "...                  ...         ...        ...         ...\n",
              "2020-08-31     32.180000  184.830002  24.900000  121.422005\n",
              "2020-09-01     31.930000  185.050003  24.950001  121.820000\n",
              "2020-09-02     30.260000  182.619995  25.040001  121.989998\n",
              "2020-09-03     29.690001  181.139999  25.049999  122.150002\n",
              "2020-09-04     29.780001  181.639999  25.090000  121.470001\n",
              "\n",
              "[1178 rows x 4 columns]"
            ]
          },
          "metadata": {
            "tags": []
          },
          "execution_count": 45
        }
      ]
    },
    {
      "cell_type": "code",
      "metadata": {
        "id": "BiMJ6vfHrY1h",
        "colab_type": "code",
        "colab": {}
      },
      "source": [
        "linear_reg_model = LinearRegressionModel()\n",
        "linear_reg_model.learn(df_assets, df_sp500, start_date='2017', \n",
        "                       end_date='2020', lookback_period=10)"
      ],
      "execution_count": 58,
      "outputs": []
    },
    {
      "cell_type": "code",
      "metadata": {
        "id": "H_duEhM4uR_j",
        "colab_type": "code",
        "colab": {
          "base_uri": "https://localhost:8080/",
          "height": 480
        },
        "outputId": "7c4750f7-130f-4060-a680-c4a5406ff766"
      },
      "source": [
        "linear_reg_model.df_result.plot(\n",
        "    title='JPM prediction by OLS', \n",
        "    style=['-', '--'], figsize=(12,8));"
      ],
      "execution_count": 48,
      "outputs": [
        {
          "output_type": "display_data",
          "data": {
            "image/png": "[encoded data removed]",
            "text/plain": [
              "<Figure size 864x576 with 1 Axes>"
            ]
          },
          "metadata": {
            "tags": []
          }
        }
      ]
    },
    {
      "cell_type": "code",
      "metadata": {
        "id": "6doeBho3tHLr",
        "colab_type": "code",
        "colab": {
          "base_uri": "https://localhost:8080/",
          "height": 419
        },
        "outputId": "e8010c8e-f5a9-49dd-f01b-464d20137319"
      },
      "source": [
        "linear_reg_model.df_result"
      ],
      "execution_count": 47,
      "outputs": [
        {
          "output_type": "execute_result",
          "data": {
            "text/html": [
              "<div>\n",
              "<style scoped>\n",
              "    .dataframe tbody tr th:only-of-type {\n",
              "        vertical-align: middle;\n",
              "    }\n",
              "\n",
              "    .dataframe tbody tr th {\n",
              "        vertical-align: top;\n",
              "    }\n",
              "\n",
              "    .dataframe thead th {\n",
              "        text-align: right;\n",
              "    }\n",
              "</style>\n",
              "<table border=\"1\" class=\"dataframe\">\n",
              "  <thead>\n",
              "    <tr style=\"text-align: right;\">\n",
              "      <th></th>\n",
              "      <th>Actual</th>\n",
              "      <th>Predicted</th>\n",
              "    </tr>\n",
              "  </thead>\n",
              "  <tbody>\n",
              "    <tr>\n",
              "      <th>2017-01-03</th>\n",
              "      <td>2257.830078</td>\n",
              "      <td>2264.084740</td>\n",
              "    </tr>\n",
              "    <tr>\n",
              "      <th>2017-01-04</th>\n",
              "      <td>2270.750000</td>\n",
              "      <td>2251.630106</td>\n",
              "    </tr>\n",
              "    <tr>\n",
              "      <th>2017-01-05</th>\n",
              "      <td>2269.000000</td>\n",
              "      <td>2254.861399</td>\n",
              "    </tr>\n",
              "    <tr>\n",
              "      <th>2017-01-06</th>\n",
              "      <td>2276.979980</td>\n",
              "      <td>2250.920645</td>\n",
              "    </tr>\n",
              "    <tr>\n",
              "      <th>2017-01-09</th>\n",
              "      <td>2268.899902</td>\n",
              "      <td>2226.464370</td>\n",
              "    </tr>\n",
              "    <tr>\n",
              "      <th>...</th>\n",
              "      <td>...</td>\n",
              "      <td>...</td>\n",
              "    </tr>\n",
              "    <tr>\n",
              "      <th>2020-08-31</th>\n",
              "      <td>3500.310059</td>\n",
              "      <td>3450.913382</td>\n",
              "    </tr>\n",
              "    <tr>\n",
              "      <th>2020-09-01</th>\n",
              "      <td>3526.649902</td>\n",
              "      <td>3461.757692</td>\n",
              "    </tr>\n",
              "    <tr>\n",
              "      <th>2020-09-02</th>\n",
              "      <td>3580.840088</td>\n",
              "      <td>3431.633567</td>\n",
              "    </tr>\n",
              "    <tr>\n",
              "      <th>2020-09-03</th>\n",
              "      <td>3455.060059</td>\n",
              "      <td>3497.122739</td>\n",
              "    </tr>\n",
              "    <tr>\n",
              "      <th>2020-09-04</th>\n",
              "      <td>3426.959961</td>\n",
              "      <td>3504.504691</td>\n",
              "    </tr>\n",
              "  </tbody>\n",
              "</table>\n",
              "<p>926 rows × 2 columns</p>\n",
              "</div>"
            ],
            "text/plain": [
              "                 Actual    Predicted\n",
              "2017-01-03  2257.830078  2264.084740\n",
              "2017-01-04  2270.750000  2251.630106\n",
              "2017-01-05  2269.000000  2254.861399\n",
              "2017-01-06  2276.979980  2250.920645\n",
              "2017-01-09  2268.899902  2226.464370\n",
              "...                 ...          ...\n",
              "2020-08-31  3500.310059  3450.913382\n",
              "2020-09-01  3526.649902  3461.757692\n",
              "2020-09-02  3580.840088  3431.633567\n",
              "2020-09-03  3455.060059  3497.122739\n",
              "2020-09-04  3426.959961  3504.504691\n",
              "\n",
              "[926 rows x 2 columns]"
            ]
          },
          "metadata": {
            "tags": []
          },
          "execution_count": 47
        }
      ]
    },
    {
      "cell_type": "code",
      "metadata": {
        "id": "wCg7vAXx5vB-",
        "colab_type": "code",
        "colab": {}
      },
      "source": [
        "y_test=linear_reg_model.df_result.Actual[-186:]\n",
        "y_test_pred=linear_reg_model.df_result.Predicted[-186:]"
      ],
      "execution_count": 51,
      "outputs": []
    },
    {
      "cell_type": "code",
      "metadata": {
        "id": "3tTyAwfEuS0g",
        "colab_type": "code",
        "colab": {
          "base_uri": "https://localhost:8080/",
          "height": 34
        },
        "outputId": "5d1907ee-81a3-4cdf-d7a2-fd829952b2fc"
      },
      "source": [
        "print('test rmse:', np.sqrt(mean_squared_error(y_test, y_test_pred)))"
      ],
      "execution_count": 54,
      "outputs": [
        {
          "output_type": "stream",
          "text": [
            "test rmse: 63.54540410583514\n"
          ],
          "name": "stdout"
        }
      ]
    },
    {
      "cell_type": "code",
      "metadata": {
        "id": "kxxfpjux619M",
        "colab_type": "code",
        "colab": {}
      },
      "source": [
        "def profit(true,predict):\n",
        "  buy=0\n",
        "  win=0\n",
        "  lose=0\n",
        "  revenue=[]\n",
        "  for i in range(len(predict)-1):\n",
        "    if predict.values[i+1] > true.values[i]:\n",
        "      buy+=1\n",
        "      result=true.values[i+1]-true.values[i]\n",
        "      revenue.append(result)\n",
        "      if result >0:\n",
        "        win+=1\n",
        "      else:\n",
        "        lose+=1\n",
        "  print('total buy',buy)      \n",
        "  print('ratio buy/all test set:',buy/len(predict))      \n",
        "  print('win num',win)\n",
        "  print('lose num',lose)\n",
        "  print('revenue',sum(revenue))"
      ],
      "execution_count": 55,
      "outputs": []
    },
    {
      "cell_type": "code",
      "metadata": {
        "id": "N62RDMNA7Cg9",
        "colab_type": "code",
        "colab": {
          "base_uri": "https://localhost:8080/",
          "height": 102
        },
        "outputId": "da0e95e2-111d-4b57-fe3d-22634d6c7c3d"
      },
      "source": [
        "profit(y_test,y_test_pred)"
      ],
      "execution_count": 56,
      "outputs": [
        {
          "output_type": "stream",
          "text": [
            "total buy 98\n",
            "ratio buy/all test set: 0.5268817204301075\n",
            "win num 72\n",
            "lose num 26\n",
            "revenue 2027.949462890625\n"
          ],
          "name": "stdout"
        }
      ]
    },
    {
      "cell_type": "markdown",
      "metadata": {
        "id": "HSRKdj8g7rNE",
        "colab_type": "text"
      },
      "source": [
        "## Other ML Methods (dynamic model)"
      ]
    },
    {
      "cell_type": "code",
      "metadata": {
        "id": "dnS6RVIZ8pwa",
        "colab_type": "code",
        "colab": {}
      },
      "source": [
        "from sklearn.pipeline import Pipeline\n",
        "#ML normal ML\n",
        "from sklearn.linear_model import LinearRegression\n",
        "from sklearn.linear_model import Lasso\n",
        "from sklearn.linear_model import Ridge\n",
        "from sklearn.linear_model import ElasticNet\n",
        "from sklearn.tree import DecisionTreeRegressor\n",
        "from sklearn.neighbors import KNeighborsRegressor\n",
        "from sklearn.svm import SVR\n",
        "from sklearn.linear_model import TheilSenRegressor, HuberRegressor\n",
        "from sklearn.linear_model import RANSACRegressor\n",
        "from sklearn.preprocessing import PolynomialFeatures\n",
        "#ML ensembles\n",
        "from sklearn.ensemble import RandomForestRegressor\n",
        "from sklearn.ensemble import GradientBoostingRegressor\n",
        "from sklearn.ensemble import ExtraTreesRegressor\n",
        "from sklearn.ensemble import AdaBoostRegressor\n",
        "#Special\n",
        "import xgboost as xgb\n",
        "from xgboost import XGBRegressor\n",
        "import lightgbm as lgb\n",
        "from lightgbm import LGBMRegressor"
      ],
      "execution_count": 67,
      "outputs": []
    },
    {
      "cell_type": "code",
      "metadata": {
        "id": "L1k_2IW-7Fqp",
        "colab_type": "code",
        "colab": {}
      },
      "source": [
        "from sklearn.linear_model import LinearRegression\n",
        "\n",
        "class LinearRegressionModel(object):\n",
        "    def __init__(self):\n",
        "        self.df_result = pd.DataFrame(columns=['Actual', 'Predicted'])\n",
        "\n",
        "    def get_model(self):\n",
        "        return LinearRegression(fit_intercept=False)\n",
        "\n",
        "    def learn(self, df, ys, start_date, end_date, lookback_period=20):\n",
        "        model = self.get_model()\n",
        "\n",
        "        for date in df[start_date:end_date].index:\n",
        "            # Fit the model\n",
        "            x = self.get_prices_since(df, date, lookback_period)\n",
        "            y = self.get_prices_since(ys, date, lookback_period)\n",
        "            model.fit(x, y.ravel())\n",
        "            # Predict the current period\n",
        "            x_current = df.loc[date].values\n",
        "            [y_pred] = model.predict([x_current])\n",
        "            # Store predictions\n",
        "            new_index = pd.to_datetime(date, format='%Y-%m-%d')\n",
        "            y_actual = ys.loc[date]\n",
        "            self.df_result.loc[new_index] = [y_actual, y_pred]\n",
        "\n",
        "    def get_prices_since(self, df, date_since, lookback):\n",
        "\n",
        "        index = df.index.get_loc(date_since) # current date\n",
        "        return df.iloc[index-lookback:index] #current date - 20 : current date\n"
      ],
      "execution_count": 59,
      "outputs": []
    },
    {
      "cell_type": "code",
      "metadata": {
        "id": "YqqzTeDh7t9V",
        "colab_type": "code",
        "colab": {}
      },
      "source": [
        "from sklearn.linear_model import Ridge\n",
        "# class Ridge kế thừa tất cả thuộc tính của class Linear, chỉ thay đổi get_model method\n",
        "class RidgeRegressionModel(LinearRegressionModel):        \n",
        "    def get_model(self):\n",
        "        return Ridge(alpha=.5)\n",
        "ridge_reg_model = RidgeRegressionModel()\n",
        "ridge_reg_model.learn(df_assets, df_sp500, start_date='2017', \n",
        "                       end_date='2020', lookback_period=10)"
      ],
      "execution_count": 71,
      "outputs": []
    },
    {
      "cell_type": "code",
      "metadata": {
        "id": "1N2sTKfc726Q",
        "colab_type": "code",
        "colab": {
          "base_uri": "https://localhost:8080/",
          "height": 380
        },
        "outputId": "8f3e42da-fa48-4deb-ea4a-583c9e65c9fc"
      },
      "source": [
        "ridge_reg_model.df_result.plot(\n",
        "    #title='JPM prediction by OLS', \n",
        "    style=['-', '--'], figsize=(12,5));\n",
        "\n",
        "y_test=linear_reg_model.df_result.Actual[-186:]\n",
        "y_test_pred=linear_reg_model.df_result.Predicted[-186:]\n",
        "print('test rmse:', np.sqrt(mean_squared_error(y_test, y_test_pred)))\n",
        "profit(y_test,y_test_pred)"
      ],
      "execution_count": 72,
      "outputs": [
        {
          "output_type": "stream",
          "text": [
            "test rmse: 63.54540410583514\n",
            "total buy 98\n",
            "ratio buy/all test set: 0.5268817204301075\n",
            "win num 72\n",
            "lose num 26\n",
            "revenue 2027.949462890625\n"
          ],
          "name": "stdout"
        },
        {
          "output_type": "display_data",
          "data": {
            "image/png": "[encoded data removed]",
            "text/plain": [
              "<Figure size 864x360 with 1 Axes>"
            ]
          },
          "metadata": {
            "tags": []
          }
        }
      ]
    },
    {
      "cell_type": "code",
      "metadata": {
        "id": "ACu9vQHv8NBd",
        "colab_type": "code",
        "colab": {}
      },
      "source": [
        "class DecisionTreeRegressor_model(LinearRegressionModel):        \n",
        "    def get_model(self):\n",
        "        return DecisionTreeRegressor()\n",
        "model = DecisionTreeRegressor_model()\n",
        "model.learn(df_assets, df_sp500, start_date='2017', \n",
        "                       end_date='2020', lookback_period=10)"
      ],
      "execution_count": 68,
      "outputs": []
    },
    {
      "cell_type": "code",
      "metadata": {
        "id": "mCgGHJWD8iku",
        "colab_type": "code",
        "colab": {
          "base_uri": "https://localhost:8080/",
          "height": 419
        },
        "outputId": "7aabbd6b-ab1b-4ac1-c732-52e5e6cc0c4e"
      },
      "source": [
        "model.df_result.plot(\n",
        "    #title='JPM prediction by OLS', \n",
        "    style=['-', '--'], figsize=(12,5));\n",
        "\n",
        "y_test=model.df_result.Actual[-186:]\n",
        "y_test_pred=model.df_result.Predicted[-186:]\n",
        "print('test rmse:', np.sqrt(mean_squared_error(y_test, y_test_pred)))\n",
        "profit(y_test,y_test_pred)"
      ],
      "execution_count": 70,
      "outputs": [
        {
          "output_type": "stream",
          "text": [
            "test rmse: 75.67640664944723\n",
            "total buy 30\n",
            "ratio buy/all test set: 0.16129032258064516\n",
            "win num 24\n",
            "lose num 6\n",
            "revenue 813.0703125\n"
          ],
          "name": "stdout"
        },
        {
          "output_type": "display_data",
          "data": {
            "image/png": "[encoded data removed]",
            "text/plain": [
              "<Figure size 864x360 with 1 Axes>"
            ]
          },
          "metadata": {
            "tags": []
          }
        }
      ]
    },
    {
      "cell_type": "code",
      "metadata": {
        "id": "RiMgF_0X8yGO",
        "colab_type": "code",
        "colab": {
          "base_uri": "https://localhost:8080/",
          "height": 419
        },
        "outputId": "c86eee40-cadf-4e04-d001-5c4646bf056e"
      },
      "source": [
        "class GradientBoostingRegressor_model(LinearRegressionModel):        \n",
        "    def get_model(self):\n",
        "        return GradientBoostingRegressor()\n",
        "model = GradientBoostingRegressor_model()\n",
        "model.learn(df_assets, df_sp500, start_date='2017', \n",
        "                       end_date='2020', lookback_period=10)\n",
        "\n",
        "model.df_result.plot(\n",
        "    #title='JPM prediction by OLS', \n",
        "    style=['-', '--'], figsize=(12,5));\n",
        "\n",
        "y_test=model.df_result.Actual[-186:]\n",
        "y_test_pred=model.df_result.Predicted[-186:]\n",
        "print('test rmse:', np.sqrt(mean_squared_error(y_test, y_test_pred)))\n",
        "profit(y_test,y_test_pred)"
      ],
      "execution_count": 74,
      "outputs": [
        {
          "output_type": "stream",
          "text": [
            "test rmse: 68.06999290023091\n",
            "total buy 62\n",
            "ratio buy/all test set: 0.3333333333333333\n",
            "win num 42\n",
            "lose num 20\n",
            "revenue 704.919921875\n"
          ],
          "name": "stdout"
        },
        {
          "output_type": "display_data",
          "data": {
            "image/png": "[encoded data removed]",
            "text/plain": [
              "<Figure size 864x360 with 1 Axes>"
            ]
          },
          "metadata": {
            "tags": []
          }
        }
      ]
    },
    {
      "cell_type": "markdown",
      "metadata": {
        "id": "Aa6XUdnzA1cC",
        "colab_type": "text"
      },
      "source": [
        "## LSTM predict multy feature"
      ]
    },
    {
      "cell_type": "code",
      "metadata": {
        "id": "uCrdAv-e9GR0",
        "colab_type": "code",
        "colab": {}
      },
      "source": [
        "import pandas as pd \n",
        "import numpy as np\n",
        "import matplotlib.pyplot as plt\n",
        "import seaborn as sns; sns.set()\n",
        "from sklearn.metrics import mean_squared_error\n",
        "# univariate mlp example\n",
        "import warnings\n",
        "from numpy import array\n",
        "import matplotlib.pyplot as plt\n",
        "from keras import optimizers\n",
        "from keras import backend\n",
        "from keras.utils import plot_model\n",
        "from keras.models import Sequential, Model\n",
        "from keras.layers.convolutional import Conv1D, MaxPooling1D\n",
        "from keras.layers import Dense, LSTM,GRU, RepeatVector, TimeDistributed, Flatten,Bidirectional\n",
        "from keras.optimizers import Adam\n",
        "from keras import regularizers\n",
        "from keras.callbacks import EarlyStopping, ModelCheckpoint\n",
        "from keras.wrappers.scikit_learn import KerasClassifier\n",
        "from keras.regularizers import l1\n",
        "from keras.regularizers import l2\n",
        "from keras.regularizers import l1_l2\n",
        "from keras.layers import Dropout\n",
        "from keras.layers import Activation\n",
        "from keras.layers import Dense\n",
        "from keras.metrics import categorical_crossentropy\n",
        "\n",
        "from sklearn.metrics import mean_squared_error,mean_absolute_error\n",
        "from sklearn.model_selection import train_test_split\n",
        "from sklearn.preprocessing import MinMaxScaler,StandardScaler"
      ],
      "execution_count": 112,
      "outputs": []
    },
    {
      "cell_type": "code",
      "metadata": {
        "id": "ps2A0uLaBXIs",
        "colab_type": "code",
        "colab": {
          "base_uri": "https://localhost:8080/",
          "height": 419
        },
        "outputId": "81b7d74f-7bac-4b32-fbd8-cd2222a7efaa"
      },
      "source": [
        "from yahoo_fin.stock_info import get_data\n",
        "\n",
        "stock_code={'Apple':'AAPL', 'Microsoft':'MSFT','Facebook':'Fb','Amazon':'AMZN',\n",
        "            'Twitter':'TWTR','SP500':'^GSPC'}\n",
        "\n",
        "df= get_data(stock_code['SP500'],  start_date = '2017-01-01',\n",
        "                          end_date='2020-09-05',\n",
        "                      index_as_date = True, interval=\"1d\")\n",
        "df_sp500=df['adjclose']\n",
        "\n",
        "df_gld= get_data(\"GLD\",start_date = '2017-01-01',end_date='2020-09-05',\n",
        "                      index_as_date = True, interval=\"1d\") # Gold price\n",
        "df_dxy= get_data(\"UUP\",start_date = '2017-01-01',end_date='2020-09-05',\n",
        "                      index_as_date = True, interval=\"1d\") # Invesco DB US Dollar \n",
        "df_ief= get_data(\"IEF\",start_date = '2017-01-01',end_date='2020-09-05',\n",
        "                      index_as_date = True, interval=\"1d\") # 10 Year Treasury Bond \n",
        "df_gush= get_data(\"GUSH\",start_date = '2017-01-01',end_date='2020-09-05',\n",
        "                      index_as_date = True, interval=\"1d\") # Direxion Daily S&P Oil & Gas Exp. & Prod. Bull 2X Shares\n",
        "df_assets = pd.DataFrame({\n",
        "    'GUSH':df_gush['adjclose'],\n",
        "    'GLD': df_gld['adjclose'],\n",
        "    'UUP': df_dxy['adjclose'],\n",
        "    'IEF': df_ief['adjclose'],\n",
        "})\n",
        "df_assets"
      ],
      "execution_count": 77,
      "outputs": [
        {
          "output_type": "execute_result",
          "data": {
            "text/html": [
              "<div>\n",
              "<style scoped>\n",
              "    .dataframe tbody tr th:only-of-type {\n",
              "        vertical-align: middle;\n",
              "    }\n",
              "\n",
              "    .dataframe tbody tr th {\n",
              "        vertical-align: top;\n",
              "    }\n",
              "\n",
              "    .dataframe thead th {\n",
              "        text-align: right;\n",
              "    }\n",
              "</style>\n",
              "<table border=\"1\" class=\"dataframe\">\n",
              "  <thead>\n",
              "    <tr style=\"text-align: right;\">\n",
              "      <th></th>\n",
              "      <th>GUSH</th>\n",
              "      <th>GLD</th>\n",
              "      <th>UUP</th>\n",
              "      <th>IEF</th>\n",
              "    </tr>\n",
              "  </thead>\n",
              "  <tbody>\n",
              "    <tr>\n",
              "      <th>2017-01-03</th>\n",
              "      <td>21088.333984</td>\n",
              "      <td>110.470001</td>\n",
              "      <td>25.873072</td>\n",
              "      <td>97.661842</td>\n",
              "    </tr>\n",
              "    <tr>\n",
              "      <th>2017-01-04</th>\n",
              "      <td>21383.804688</td>\n",
              "      <td>110.860001</td>\n",
              "      <td>25.679264</td>\n",
              "      <td>97.773666</td>\n",
              "    </tr>\n",
              "    <tr>\n",
              "      <th>2017-01-05</th>\n",
              "      <td>21168.191406</td>\n",
              "      <td>112.580002</td>\n",
              "      <td>25.407936</td>\n",
              "      <td>98.407555</td>\n",
              "    </tr>\n",
              "    <tr>\n",
              "      <th>2017-01-06</th>\n",
              "      <td>20679.062500</td>\n",
              "      <td>111.750000</td>\n",
              "      <td>25.592051</td>\n",
              "      <td>97.960114</td>\n",
              "    </tr>\n",
              "    <tr>\n",
              "      <th>2017-01-09</th>\n",
              "      <td>19006.050781</td>\n",
              "      <td>112.669998</td>\n",
              "      <td>25.524220</td>\n",
              "      <td>98.332977</td>\n",
              "    </tr>\n",
              "    <tr>\n",
              "      <th>...</th>\n",
              "      <td>...</td>\n",
              "      <td>...</td>\n",
              "      <td>...</td>\n",
              "      <td>...</td>\n",
              "    </tr>\n",
              "    <tr>\n",
              "      <th>2020-08-31</th>\n",
              "      <td>32.180000</td>\n",
              "      <td>184.830002</td>\n",
              "      <td>24.900000</td>\n",
              "      <td>121.422005</td>\n",
              "    </tr>\n",
              "    <tr>\n",
              "      <th>2020-09-01</th>\n",
              "      <td>31.930000</td>\n",
              "      <td>185.050003</td>\n",
              "      <td>24.950001</td>\n",
              "      <td>121.820000</td>\n",
              "    </tr>\n",
              "    <tr>\n",
              "      <th>2020-09-02</th>\n",
              "      <td>30.260000</td>\n",
              "      <td>182.619995</td>\n",
              "      <td>25.040001</td>\n",
              "      <td>121.989998</td>\n",
              "    </tr>\n",
              "    <tr>\n",
              "      <th>2020-09-03</th>\n",
              "      <td>29.690001</td>\n",
              "      <td>181.139999</td>\n",
              "      <td>25.049999</td>\n",
              "      <td>122.150002</td>\n",
              "    </tr>\n",
              "    <tr>\n",
              "      <th>2020-09-04</th>\n",
              "      <td>29.780001</td>\n",
              "      <td>181.639999</td>\n",
              "      <td>25.090000</td>\n",
              "      <td>121.470001</td>\n",
              "    </tr>\n",
              "  </tbody>\n",
              "</table>\n",
              "<p>926 rows × 4 columns</p>\n",
              "</div>"
            ],
            "text/plain": [
              "                    GUSH         GLD        UUP         IEF\n",
              "2017-01-03  21088.333984  110.470001  25.873072   97.661842\n",
              "2017-01-04  21383.804688  110.860001  25.679264   97.773666\n",
              "2017-01-05  21168.191406  112.580002  25.407936   98.407555\n",
              "2017-01-06  20679.062500  111.750000  25.592051   97.960114\n",
              "2017-01-09  19006.050781  112.669998  25.524220   98.332977\n",
              "...                  ...         ...        ...         ...\n",
              "2020-08-31     32.180000  184.830002  24.900000  121.422005\n",
              "2020-09-01     31.930000  185.050003  24.950001  121.820000\n",
              "2020-09-02     30.260000  182.619995  25.040001  121.989998\n",
              "2020-09-03     29.690001  181.139999  25.049999  122.150002\n",
              "2020-09-04     29.780001  181.639999  25.090000  121.470001\n",
              "\n",
              "[926 rows x 4 columns]"
            ]
          },
          "metadata": {
            "tags": []
          },
          "execution_count": 77
        }
      ]
    },
    {
      "cell_type": "code",
      "metadata": {
        "id": "yxDoA0mRBxdt",
        "colab_type": "code",
        "colab": {
          "base_uri": "https://localhost:8080/",
          "height": 419
        },
        "outputId": "1d30f45c-1fa9-4069-d1d4-5bdac5fa19fa"
      },
      "source": [
        "df=df_assets.merge(df_sp500,left_index=True,right_index=True)\n",
        "df"
      ],
      "execution_count": 80,
      "outputs": [
        {
          "output_type": "execute_result",
          "data": {
            "text/html": [
              "<div>\n",
              "<style scoped>\n",
              "    .dataframe tbody tr th:only-of-type {\n",
              "        vertical-align: middle;\n",
              "    }\n",
              "\n",
              "    .dataframe tbody tr th {\n",
              "        vertical-align: top;\n",
              "    }\n",
              "\n",
              "    .dataframe thead th {\n",
              "        text-align: right;\n",
              "    }\n",
              "</style>\n",
              "<table border=\"1\" class=\"dataframe\">\n",
              "  <thead>\n",
              "    <tr style=\"text-align: right;\">\n",
              "      <th></th>\n",
              "      <th>GUSH</th>\n",
              "      <th>GLD</th>\n",
              "      <th>UUP</th>\n",
              "      <th>IEF</th>\n",
              "      <th>adjclose</th>\n",
              "    </tr>\n",
              "  </thead>\n",
              "  <tbody>\n",
              "    <tr>\n",
              "      <th>2017-01-03</th>\n",
              "      <td>21088.333984</td>\n",
              "      <td>110.470001</td>\n",
              "      <td>25.873072</td>\n",
              "      <td>97.661842</td>\n",
              "      <td>2257.830078</td>\n",
              "    </tr>\n",
              "    <tr>\n",
              "      <th>2017-01-04</th>\n",
              "      <td>21383.804688</td>\n",
              "      <td>110.860001</td>\n",
              "      <td>25.679264</td>\n",
              "      <td>97.773666</td>\n",
              "      <td>2270.750000</td>\n",
              "    </tr>\n",
              "    <tr>\n",
              "      <th>2017-01-05</th>\n",
              "      <td>21168.191406</td>\n",
              "      <td>112.580002</td>\n",
              "      <td>25.407936</td>\n",
              "      <td>98.407555</td>\n",
              "      <td>2269.000000</td>\n",
              "    </tr>\n",
              "    <tr>\n",
              "      <th>2017-01-06</th>\n",
              "      <td>20679.062500</td>\n",
              "      <td>111.750000</td>\n",
              "      <td>25.592051</td>\n",
              "      <td>97.960114</td>\n",
              "      <td>2276.979980</td>\n",
              "    </tr>\n",
              "    <tr>\n",
              "      <th>2017-01-09</th>\n",
              "      <td>19006.050781</td>\n",
              "      <td>112.669998</td>\n",
              "      <td>25.524220</td>\n",
              "      <td>98.332977</td>\n",
              "      <td>2268.899902</td>\n",
              "    </tr>\n",
              "    <tr>\n",
              "      <th>...</th>\n",
              "      <td>...</td>\n",
              "      <td>...</td>\n",
              "      <td>...</td>\n",
              "      <td>...</td>\n",
              "      <td>...</td>\n",
              "    </tr>\n",
              "    <tr>\n",
              "      <th>2020-08-31</th>\n",
              "      <td>32.180000</td>\n",
              "      <td>184.830002</td>\n",
              "      <td>24.900000</td>\n",
              "      <td>121.422005</td>\n",
              "      <td>3500.310059</td>\n",
              "    </tr>\n",
              "    <tr>\n",
              "      <th>2020-09-01</th>\n",
              "      <td>31.930000</td>\n",
              "      <td>185.050003</td>\n",
              "      <td>24.950001</td>\n",
              "      <td>121.820000</td>\n",
              "      <td>3526.649902</td>\n",
              "    </tr>\n",
              "    <tr>\n",
              "      <th>2020-09-02</th>\n",
              "      <td>30.260000</td>\n",
              "      <td>182.619995</td>\n",
              "      <td>25.040001</td>\n",
              "      <td>121.989998</td>\n",
              "      <td>3580.840088</td>\n",
              "    </tr>\n",
              "    <tr>\n",
              "      <th>2020-09-03</th>\n",
              "      <td>29.690001</td>\n",
              "      <td>181.139999</td>\n",
              "      <td>25.049999</td>\n",
              "      <td>122.150002</td>\n",
              "      <td>3455.060059</td>\n",
              "    </tr>\n",
              "    <tr>\n",
              "      <th>2020-09-04</th>\n",
              "      <td>29.780001</td>\n",
              "      <td>181.639999</td>\n",
              "      <td>25.090000</td>\n",
              "      <td>121.470001</td>\n",
              "      <td>3426.959961</td>\n",
              "    </tr>\n",
              "  </tbody>\n",
              "</table>\n",
              "<p>926 rows × 5 columns</p>\n",
              "</div>"
            ],
            "text/plain": [
              "                    GUSH         GLD        UUP         IEF     adjclose\n",
              "2017-01-03  21088.333984  110.470001  25.873072   97.661842  2257.830078\n",
              "2017-01-04  21383.804688  110.860001  25.679264   97.773666  2270.750000\n",
              "2017-01-05  21168.191406  112.580002  25.407936   98.407555  2269.000000\n",
              "2017-01-06  20679.062500  111.750000  25.592051   97.960114  2276.979980\n",
              "2017-01-09  19006.050781  112.669998  25.524220   98.332977  2268.899902\n",
              "...                  ...         ...        ...         ...          ...\n",
              "2020-08-31     32.180000  184.830002  24.900000  121.422005  3500.310059\n",
              "2020-09-01     31.930000  185.050003  24.950001  121.820000  3526.649902\n",
              "2020-09-02     30.260000  182.619995  25.040001  121.989998  3580.840088\n",
              "2020-09-03     29.690001  181.139999  25.049999  122.150002  3455.060059\n",
              "2020-09-04     29.780001  181.639999  25.090000  121.470001  3426.959961\n",
              "\n",
              "[926 rows x 5 columns]"
            ]
          },
          "metadata": {
            "tags": []
          },
          "execution_count": 80
        }
      ]
    },
    {
      "cell_type": "code",
      "metadata": {
        "id": "80Nq5hfBBfji",
        "colab_type": "code",
        "colab": {
          "base_uri": "https://localhost:8080/",
          "height": 34
        },
        "outputId": "52304969-befd-4a0c-ea45-b3df81b69242"
      },
      "source": [
        "split_number=0.80\n",
        "split=int(len(df) * split_number)\n",
        "train_set=df[:split]\n",
        "test_set=df[split:]\n",
        "predict_future=len(test_set)\n",
        "print(train_set.shape,test_set.shape)"
      ],
      "execution_count": 81,
      "outputs": [
        {
          "output_type": "stream",
          "text": [
            "(740, 5) (186, 5)\n"
          ],
          "name": "stdout"
        }
      ]
    },
    {
      "cell_type": "code",
      "metadata": {
        "id": "LrbSv2EyBnii",
        "colab_type": "code",
        "colab": {}
      },
      "source": [
        "# split a univariate sequence into samples\n",
        "def split_sequence(X,y,n_steps_in, n_steps_out):\n",
        "  X_prepare, y_prepare = list(), list()\n",
        "  for i in range(len(X)):\n",
        "    #if i==5: \n",
        "    #  break\n",
        "    # find the end of this pattern\n",
        "    end_ix = i + n_steps_in\n",
        "    out_end_ix = end_ix + n_steps_out\n",
        "    # check if we are beyond the sequence\n",
        "    if out_end_ix > len(X):\n",
        "      break\n",
        "    # gather input and output parts of the pattern\n",
        "    seq_x, seq_y = X[i:end_ix], y[end_ix:out_end_ix]\n",
        "    X_prepare.append(seq_x)\n",
        "    y_prepare.append(seq_y)\n",
        "  #return X_prepare,y_prepare\n",
        "  return np.array([np.array(X) for X in X_prepare]), np.array([np.array(y) for y in y_prepare])"
      ],
      "execution_count": 92,
      "outputs": []
    },
    {
      "cell_type": "code",
      "metadata": {
        "id": "2iSJzapOClaR",
        "colab_type": "code",
        "colab": {
          "base_uri": "https://localhost:8080/",
          "height": 419
        },
        "outputId": "548c9d37-61ee-4e0a-cb04-a9849dc47497"
      },
      "source": [
        "train_set"
      ],
      "execution_count": 84,
      "outputs": [
        {
          "output_type": "execute_result",
          "data": {
            "text/html": [
              "<div>\n",
              "<style scoped>\n",
              "    .dataframe tbody tr th:only-of-type {\n",
              "        vertical-align: middle;\n",
              "    }\n",
              "\n",
              "    .dataframe tbody tr th {\n",
              "        vertical-align: top;\n",
              "    }\n",
              "\n",
              "    .dataframe thead th {\n",
              "        text-align: right;\n",
              "    }\n",
              "</style>\n",
              "<table border=\"1\" class=\"dataframe\">\n",
              "  <thead>\n",
              "    <tr style=\"text-align: right;\">\n",
              "      <th></th>\n",
              "      <th>GUSH</th>\n",
              "      <th>GLD</th>\n",
              "      <th>UUP</th>\n",
              "      <th>IEF</th>\n",
              "      <th>adjclose</th>\n",
              "    </tr>\n",
              "  </thead>\n",
              "  <tbody>\n",
              "    <tr>\n",
              "      <th>2017-01-03</th>\n",
              "      <td>21088.333984</td>\n",
              "      <td>110.470001</td>\n",
              "      <td>25.873072</td>\n",
              "      <td>97.661842</td>\n",
              "      <td>2257.830078</td>\n",
              "    </tr>\n",
              "    <tr>\n",
              "      <th>2017-01-04</th>\n",
              "      <td>21383.804688</td>\n",
              "      <td>110.860001</td>\n",
              "      <td>25.679264</td>\n",
              "      <td>97.773666</td>\n",
              "      <td>2270.750000</td>\n",
              "    </tr>\n",
              "    <tr>\n",
              "      <th>2017-01-05</th>\n",
              "      <td>21168.191406</td>\n",
              "      <td>112.580002</td>\n",
              "      <td>25.407936</td>\n",
              "      <td>98.407555</td>\n",
              "      <td>2269.000000</td>\n",
              "    </tr>\n",
              "    <tr>\n",
              "      <th>2017-01-06</th>\n",
              "      <td>20679.062500</td>\n",
              "      <td>111.750000</td>\n",
              "      <td>25.592051</td>\n",
              "      <td>97.960114</td>\n",
              "      <td>2276.979980</td>\n",
              "    </tr>\n",
              "    <tr>\n",
              "      <th>2017-01-09</th>\n",
              "      <td>19006.050781</td>\n",
              "      <td>112.669998</td>\n",
              "      <td>25.524220</td>\n",
              "      <td>98.332977</td>\n",
              "      <td>2268.899902</td>\n",
              "    </tr>\n",
              "    <tr>\n",
              "      <th>...</th>\n",
              "      <td>...</td>\n",
              "      <td>...</td>\n",
              "      <td>...</td>\n",
              "      <td>...</td>\n",
              "      <td>...</td>\n",
              "    </tr>\n",
              "    <tr>\n",
              "      <th>2019-12-04</th>\n",
              "      <td>977.722351</td>\n",
              "      <td>138.919998</td>\n",
              "      <td>26.215178</td>\n",
              "      <td>110.500336</td>\n",
              "      <td>3112.760010</td>\n",
              "    </tr>\n",
              "    <tr>\n",
              "      <th>2019-12-05</th>\n",
              "      <td>951.729736</td>\n",
              "      <td>139.000000</td>\n",
              "      <td>26.156355</td>\n",
              "      <td>110.242836</td>\n",
              "      <td>3117.429932</td>\n",
              "    </tr>\n",
              "    <tr>\n",
              "      <th>2019-12-06</th>\n",
              "      <td>1053.300903</td>\n",
              "      <td>137.619995</td>\n",
              "      <td>26.254393</td>\n",
              "      <td>109.906105</td>\n",
              "      <td>3145.909912</td>\n",
              "    </tr>\n",
              "    <tr>\n",
              "      <th>2019-12-09</th>\n",
              "      <td>1076.494385</td>\n",
              "      <td>137.580002</td>\n",
              "      <td>26.224981</td>\n",
              "      <td>109.995224</td>\n",
              "      <td>3135.959961</td>\n",
              "    </tr>\n",
              "    <tr>\n",
              "      <th>2019-12-10</th>\n",
              "      <td>1099.687744</td>\n",
              "      <td>137.970001</td>\n",
              "      <td>26.195570</td>\n",
              "      <td>109.866486</td>\n",
              "      <td>3132.520020</td>\n",
              "    </tr>\n",
              "  </tbody>\n",
              "</table>\n",
              "<p>740 rows × 5 columns</p>\n",
              "</div>"
            ],
            "text/plain": [
              "                    GUSH         GLD        UUP         IEF     adjclose\n",
              "2017-01-03  21088.333984  110.470001  25.873072   97.661842  2257.830078\n",
              "2017-01-04  21383.804688  110.860001  25.679264   97.773666  2270.750000\n",
              "2017-01-05  21168.191406  112.580002  25.407936   98.407555  2269.000000\n",
              "2017-01-06  20679.062500  111.750000  25.592051   97.960114  2276.979980\n",
              "2017-01-09  19006.050781  112.669998  25.524220   98.332977  2268.899902\n",
              "...                  ...         ...        ...         ...          ...\n",
              "2019-12-04    977.722351  138.919998  26.215178  110.500336  3112.760010\n",
              "2019-12-05    951.729736  139.000000  26.156355  110.242836  3117.429932\n",
              "2019-12-06   1053.300903  137.619995  26.254393  109.906105  3145.909912\n",
              "2019-12-09   1076.494385  137.580002  26.224981  109.995224  3135.959961\n",
              "2019-12-10   1099.687744  137.970001  26.195570  109.866486  3132.520020\n",
              "\n",
              "[740 rows x 5 columns]"
            ]
          },
          "metadata": {
            "tags": []
          },
          "execution_count": 84
        }
      ]
    },
    {
      "cell_type": "code",
      "metadata": {
        "id": "Ppq7NNKGCaoM",
        "colab_type": "code",
        "colab": {}
      },
      "source": [
        "X=train_set.drop(['adjclose'],axis=1)\n",
        "y=train_set['adjclose']"
      ],
      "execution_count": 87,
      "outputs": []
    },
    {
      "cell_type": "code",
      "metadata": {
        "id": "dcSTVTzKCvJm",
        "colab_type": "code",
        "colab": {
          "base_uri": "https://localhost:8080/",
          "height": 85
        },
        "outputId": "796dd383-00f2-46d5-f24f-70cea7a1e15f"
      },
      "source": [
        "n_steps_in  = 7\n",
        "n_steps_out = 1\n",
        "X_train, y_train = split_sequence(X,y, n_steps_in, n_steps_out)\n",
        "print(X_train.shape)\n",
        "print(y_train.shape)\n",
        "#prepare test set\n",
        "inputs=df[len(df)-len(test_set) - n_steps_in:]\n",
        "X=inputs.drop(['adjclose'],axis=1)\n",
        "y=inputs['adjclose']\n",
        "X_test, y_test = split_sequence(X,y, n_steps_in, n_steps_out)\n",
        "print(X_test.shape)\n",
        "print(y_test.shape)"
      ],
      "execution_count": 103,
      "outputs": [
        {
          "output_type": "stream",
          "text": [
            "(186, 7, 4)\n",
            "(186, 1)\n",
            "(186, 7, 4)\n",
            "(186, 1)\n"
          ],
          "name": "stdout"
        }
      ]
    },
    {
      "cell_type": "code",
      "metadata": {
        "id": "So_WbFWiDIw0",
        "colab_type": "code",
        "colab": {
          "base_uri": "https://localhost:8080/",
          "height": 255
        },
        "outputId": "1ddc9a03-733f-49f6-e968-1d2a2a7710d3"
      },
      "source": [
        "model = Sequential()\n",
        "model.add(LSTM(50, activation='relu', input_shape=(None, X_train.shape[2]))) # 7 timesteps, 4 feature\n",
        "model.add(Dense(10,activation='relu'))\n",
        "model.add(Dense(1)) # one timestep\n",
        "model.compile(optimizer='adam', loss='mse')\n",
        "model.summary()"
      ],
      "execution_count": 110,
      "outputs": [
        {
          "output_type": "stream",
          "text": [
            "Model: \"sequential_5\"\n",
            "_________________________________________________________________\n",
            "Layer (type)                 Output Shape              Param #   \n",
            "=================================================================\n",
            "lstm_5 (LSTM)                (None, 50)                11000     \n",
            "_________________________________________________________________\n",
            "dense_10 (Dense)             (None, 10)                510       \n",
            "_________________________________________________________________\n",
            "dense_11 (Dense)             (None, 1)                 11        \n",
            "=================================================================\n",
            "Total params: 11,521\n",
            "Trainable params: 11,521\n",
            "Non-trainable params: 0\n",
            "_________________________________________________________________\n"
          ],
          "name": "stdout"
        }
      ]
    },
    {
      "cell_type": "code",
      "metadata": {
        "id": "9GcJWM_POqN6",
        "colab_type": "code",
        "colab": {
          "base_uri": "https://localhost:8080/",
          "height": 1000
        },
        "outputId": "f140e61b-afd2-4a88-aa2e-c273a14cda81"
      },
      "source": [
        "callbacks = [EarlyStopping(monitor=\"val_loss\", patience=10, #2 or 1 thoi\n",
        "                           mode='min',restore_best_weights=True),\n",
        "            ]\n",
        "history = model.fit(X_train, y_train, epochs=200, \n",
        "                    validation_split=0.2, verbose=1,callbacks=callbacks)"
      ],
      "execution_count": 106,
      "outputs": [
        {
          "output_type": "stream",
          "text": [
            "Epoch 1/200\n",
            "5/5 [==============================] - 0s 44ms/step - loss: 9467127.0000 - val_loss: 11263341.0000\n",
            "Epoch 2/200\n",
            "5/5 [==============================] - 0s 7ms/step - loss: 9380682.0000 - val_loss: 11248771.0000\n",
            "Epoch 3/200\n",
            "5/5 [==============================] - 0s 7ms/step - loss: 9316980.0000 - val_loss: 11249731.0000\n",
            "Epoch 4/200\n",
            "5/5 [==============================] - 0s 7ms/step - loss: 9276207.0000 - val_loss: 11248860.0000\n",
            "Epoch 5/200\n",
            "5/5 [==============================] - 0s 7ms/step - loss: 9249486.0000 - val_loss: 11246221.0000\n",
            "Epoch 6/200\n",
            "5/5 [==============================] - 0s 9ms/step - loss: 9230137.0000 - val_loss: 11243131.0000\n",
            "Epoch 7/200\n",
            "5/5 [==============================] - 0s 7ms/step - loss: 9217017.0000 - val_loss: 11241839.0000\n",
            "Epoch 8/200\n",
            "5/5 [==============================] - 0s 7ms/step - loss: 9207657.0000 - val_loss: 11240045.0000\n",
            "Epoch 9/200\n",
            "5/5 [==============================] - 0s 7ms/step - loss: 9228944.0000 - val_loss: 11236283.0000\n",
            "Epoch 10/200\n",
            "5/5 [==============================] - 0s 7ms/step - loss: 9188111.0000 - val_loss: 11233519.0000\n",
            "Epoch 11/200\n",
            "5/5 [==============================] - 0s 7ms/step - loss: 9176582.0000 - val_loss: 11230831.0000\n",
            "Epoch 12/200\n",
            "5/5 [==============================] - 0s 7ms/step - loss: 9164475.0000 - val_loss: 11227869.0000\n",
            "Epoch 13/200\n",
            "5/5 [==============================] - 0s 8ms/step - loss: 9150740.0000 - val_loss: 11224083.0000\n",
            "Epoch 14/200\n",
            "5/5 [==============================] - 0s 7ms/step - loss: 9133861.0000 - val_loss: 11218239.0000\n",
            "Epoch 15/200\n",
            "5/5 [==============================] - 0s 7ms/step - loss: 9103649.0000 - val_loss: 11205585.0000\n",
            "Epoch 16/200\n",
            "5/5 [==============================] - 0s 7ms/step - loss: 9031203.0000 - val_loss: 11163746.0000\n",
            "Epoch 17/200\n",
            "5/5 [==============================] - 0s 7ms/step - loss: 8903735.0000 - val_loss: 11125103.0000\n",
            "Epoch 18/200\n",
            "5/5 [==============================] - 0s 7ms/step - loss: 8710462.0000 - val_loss: 11010717.0000\n",
            "Epoch 19/200\n",
            "5/5 [==============================] - 0s 8ms/step - loss: 8462221.0000 - val_loss: 10795089.0000\n",
            "Epoch 20/200\n",
            "5/5 [==============================] - 0s 8ms/step - loss: 7975348.0000 - val_loss: 10208072.0000\n",
            "Epoch 21/200\n",
            "5/5 [==============================] - 0s 8ms/step - loss: 6875392.0000 - val_loss: 8771825.0000\n",
            "Epoch 22/200\n",
            "5/5 [==============================] - 0s 7ms/step - loss: 4784614.5000 - val_loss: 5752125.5000\n",
            "Epoch 23/200\n",
            "5/5 [==============================] - 0s 7ms/step - loss: 2039909.0000 - val_loss: 1333375.7500\n",
            "Epoch 24/200\n",
            "5/5 [==============================] - 0s 8ms/step - loss: 902324.6250 - val_loss: 139724.3594\n",
            "Epoch 25/200\n",
            "5/5 [==============================] - 0s 7ms/step - loss: 833649.8750 - val_loss: 203697.6562\n",
            "Epoch 26/200\n",
            "5/5 [==============================] - 0s 8ms/step - loss: 398717.6562 - val_loss: 379490.7500\n",
            "Epoch 27/200\n",
            "5/5 [==============================] - 0s 8ms/step - loss: 291121.3125 - val_loss: 146138.6562\n",
            "Epoch 28/200\n",
            "5/5 [==============================] - 0s 8ms/step - loss: 218459.1094 - val_loss: 9826.8018\n",
            "Epoch 29/200\n",
            "5/5 [==============================] - 0s 7ms/step - loss: 206210.3438 - val_loss: 191209.8594\n",
            "Epoch 30/200\n",
            "5/5 [==============================] - 0s 7ms/step - loss: 184013.6719 - val_loss: 129527.0234\n",
            "Epoch 31/200\n",
            "5/5 [==============================] - 0s 7ms/step - loss: 193293.0312 - val_loss: 9223.8564\n",
            "Epoch 32/200\n",
            "5/5 [==============================] - 0s 7ms/step - loss: 178640.0625 - val_loss: 31818.7363\n",
            "Epoch 33/200\n",
            "5/5 [==============================] - 0s 7ms/step - loss: 144187.0781 - val_loss: 102850.9453\n",
            "Epoch 34/200\n",
            "5/5 [==============================] - 0s 7ms/step - loss: 123895.5234 - val_loss: 101418.4141\n",
            "Epoch 35/200\n",
            "5/5 [==============================] - 0s 7ms/step - loss: 102940.6484 - val_loss: 78757.8672\n",
            "Epoch 36/200\n",
            "5/5 [==============================] - 0s 7ms/step - loss: 81992.3281 - val_loss: 72790.3203\n",
            "Epoch 37/200\n",
            "5/5 [==============================] - 0s 7ms/step - loss: 84011.7656 - val_loss: 48100.5117\n",
            "Epoch 38/200\n",
            "5/5 [==============================] - 0s 7ms/step - loss: 69564.2266 - val_loss: 61828.1758\n",
            "Epoch 39/200\n",
            "5/5 [==============================] - 0s 7ms/step - loss: 53692.8242 - val_loss: 80418.9375\n",
            "Epoch 40/200\n",
            "5/5 [==============================] - 0s 7ms/step - loss: 55507.4883 - val_loss: 88533.4531\n",
            "Epoch 41/200\n",
            "5/5 [==============================] - 0s 8ms/step - loss: 50310.1602 - val_loss: 73135.6094\n"
          ],
          "name": "stdout"
        }
      ]
    },
    {
      "cell_type": "code",
      "metadata": {
        "id": "3ceRaeHIDTQU",
        "colab_type": "code",
        "colab": {
          "base_uri": "https://localhost:8080/",
          "height": 262
        },
        "outputId": "f5300427-724b-4a24-d342-d3f3a4e51dd1"
      },
      "source": [
        "y_train_pred=model.predict(X_train)\n",
        "y_test_pred=model.predict(X_test)\n",
        "print('train rmse:', np.sqrt(mean_squared_error(y_train, y_train_pred)))\n",
        "print('test rmse:', np.sqrt(mean_squared_error(y_test, y_test_pred)))\n",
        "plt.figure(figsize=(20,5))\n",
        "plt.plot(y_test,label='real')\n",
        "plt.plot(y_test_pred,label='predict')\n",
        "plt.legend()\n",
        "plt.show()"
      ],
      "execution_count": 109,
      "outputs": [
        {
          "output_type": "stream",
          "text": [
            "train rmse: 401.9741872910782\n",
            "test rmse: 401.9741872910782\n"
          ],
          "name": "stdout"
        },
        {
          "output_type": "display_data",
          "data": {
            "image/png": "[encoded data removed]",
            "text/plain": [
              "<Figure size 1440x360 with 1 Axes>"
            ]
          },
          "metadata": {
            "tags": []
          }
        }
      ]
    },
    {
      "cell_type": "code",
      "metadata": {
        "id": "FkrOQ0moOxVa",
        "colab_type": "code",
        "colab": {
          "base_uri": "https://localhost:8080/",
          "height": 102
        },
        "outputId": "7cee5610-181b-46e6-baea-664ce07d31a6"
      },
      "source": [
        "profit(pd.Series(y_test.flatten()),pd.Series(y_test_pred.flatten()))"
      ],
      "execution_count": 108,
      "outputs": [
        {
          "output_type": "stream",
          "text": [
            "total buy 149\n",
            "ratio buy/all test set: 0.8010752688172043\n",
            "win num 95\n",
            "lose num 54\n",
            "revenue 1119.0\n"
          ],
          "name": "stdout"
        }
      ]
    },
    {
      "cell_type": "code",
      "metadata": {
        "id": "HOr758i9RYHS",
        "colab_type": "code",
        "colab": {
          "base_uri": "https://localhost:8080/",
          "height": 34
        },
        "outputId": "32885873-38a1-4f0f-8803-9f24f6ecbef8"
      },
      "source": [
        "X_train.shape"
      ],
      "execution_count": 114,
      "outputs": [
        {
          "output_type": "execute_result",
          "data": {
            "text/plain": [
              "(186, 7, 4)"
            ]
          },
          "metadata": {
            "tags": []
          },
          "execution_count": 114
        }
      ]
    },
    {
      "cell_type": "code",
      "metadata": {
        "id": "GIIH8eIHO2sq",
        "colab_type": "code",
        "colab": {
          "base_uri": "https://localhost:8080/",
          "height": 289
        },
        "outputId": "e4b022f6-8713-4222-ddd6-36a63fed40da"
      },
      "source": [
        "# The GRU architecture\n",
        "model = Sequential()\n",
        "# First GRU layer with Dropout regularisation\n",
        "model.add(GRU(units=50,activation='relu', return_sequences=True, input_shape=(X_train.shape[1],X_train.shape[2])))\n",
        "model.add(GRU(units=50, activation='relu'))\n",
        "model.add(Dense(10,activation='relu'))\n",
        "model.add(Dense(1))\n",
        "# Compiling the RNN\n",
        "model.compile(optimizer='adam', loss='mse')\n",
        "model.summary()"
      ],
      "execution_count": 117,
      "outputs": [
        {
          "output_type": "stream",
          "text": [
            "Model: \"sequential_9\"\n",
            "_________________________________________________________________\n",
            "Layer (type)                 Output Shape              Param #   \n",
            "=================================================================\n",
            "gru_4 (GRU)                  (None, 7, 50)             8400      \n",
            "_________________________________________________________________\n",
            "gru_5 (GRU)                  (None, 50)                15300     \n",
            "_________________________________________________________________\n",
            "dense_16 (Dense)             (None, 10)                510       \n",
            "_________________________________________________________________\n",
            "dense_17 (Dense)             (None, 1)                 11        \n",
            "=================================================================\n",
            "Total params: 24,221\n",
            "Trainable params: 24,221\n",
            "Non-trainable params: 0\n",
            "_________________________________________________________________\n"
          ],
          "name": "stdout"
        }
      ]
    },
    {
      "cell_type": "code",
      "metadata": {
        "id": "Sy9UiilMP2_S",
        "colab_type": "code",
        "colab": {
          "base_uri": "https://localhost:8080/",
          "height": 989
        },
        "outputId": "c7210384-b61b-4f9a-c17e-90b413d5be26"
      },
      "source": [
        "callbacks = [EarlyStopping(monitor=\"val_loss\", patience=10, #2 or 1 thoi\n",
        "                           mode='min',restore_best_weights=True),\n",
        "            ]\n",
        "history = model.fit(X_train, y_train, epochs=200, \n",
        "                    validation_split=0.2, verbose=1,callbacks=callbacks)"
      ],
      "execution_count": 118,
      "outputs": [
        {
          "output_type": "stream",
          "text": [
            "Epoch 1/200\n",
            "5/5 [==============================] - 0s 70ms/step - loss: 9149590.0000 - val_loss: 11193482.0000\n",
            "Epoch 2/200\n",
            "5/5 [==============================] - 0s 11ms/step - loss: 9037584.0000 - val_loss: 11166090.0000\n",
            "Epoch 3/200\n",
            "5/5 [==============================] - 0s 10ms/step - loss: 8919076.0000 - val_loss: 11140183.0000\n",
            "Epoch 4/200\n",
            "5/5 [==============================] - 0s 10ms/step - loss: 8778515.0000 - val_loss: 11103704.0000\n",
            "Epoch 5/200\n",
            "5/5 [==============================] - 0s 11ms/step - loss: 8541043.0000 - val_loss: 11032704.0000\n",
            "Epoch 6/200\n",
            "5/5 [==============================] - 0s 11ms/step - loss: 8192505.0000 - val_loss: 10908166.0000\n",
            "Epoch 7/200\n",
            "5/5 [==============================] - 0s 11ms/step - loss: 7747425.5000 - val_loss: 10737509.0000\n",
            "Epoch 8/200\n",
            "5/5 [==============================] - 0s 10ms/step - loss: 7088471.5000 - val_loss: 10393280.0000\n",
            "Epoch 9/200\n",
            "5/5 [==============================] - 0s 10ms/step - loss: 6055491.5000 - val_loss: 9759896.0000\n",
            "Epoch 10/200\n",
            "5/5 [==============================] - 0s 12ms/step - loss: 4747553.0000 - val_loss: 8584676.0000\n",
            "Epoch 11/200\n",
            "5/5 [==============================] - 0s 10ms/step - loss: 3802825.5000 - val_loss: 6827832.5000\n",
            "Epoch 12/200\n",
            "5/5 [==============================] - 0s 10ms/step - loss: 3151096.0000 - val_loss: 4948034.5000\n",
            "Epoch 13/200\n",
            "5/5 [==============================] - 0s 11ms/step - loss: 1899209.7500 - val_loss: 2547850.5000\n",
            "Epoch 14/200\n",
            "5/5 [==============================] - 0s 10ms/step - loss: 700629.0000 - val_loss: 287050.5938\n",
            "Epoch 15/200\n",
            "5/5 [==============================] - 0s 10ms/step - loss: 176003.0469 - val_loss: 20353.6406\n",
            "Epoch 16/200\n",
            "5/5 [==============================] - 0s 10ms/step - loss: 95659.4609 - val_loss: 108422.9609\n",
            "Epoch 17/200\n",
            "5/5 [==============================] - 0s 10ms/step - loss: 94083.3203 - val_loss: 22574.2715\n",
            "Epoch 18/200\n",
            "5/5 [==============================] - 0s 11ms/step - loss: 72469.5234 - val_loss: 10579.6016\n",
            "Epoch 19/200\n",
            "5/5 [==============================] - 0s 11ms/step - loss: 44570.2617 - val_loss: 123558.1328\n",
            "Epoch 20/200\n",
            "5/5 [==============================] - 0s 11ms/step - loss: 41089.4570 - val_loss: 69205.8984\n",
            "Epoch 21/200\n",
            "5/5 [==============================] - 0s 10ms/step - loss: 33590.9219 - val_loss: 21553.4570\n",
            "Epoch 22/200\n",
            "5/5 [==============================] - 0s 10ms/step - loss: 41057.8281 - val_loss: 36288.5742\n",
            "Epoch 23/200\n",
            "5/5 [==============================] - 0s 12ms/step - loss: 59698.6680 - val_loss: 38182.8047\n",
            "Epoch 24/200\n",
            "5/5 [==============================] - 0s 10ms/step - loss: 69492.4922 - val_loss: 59321.8555\n",
            "Epoch 25/200\n",
            "5/5 [==============================] - 0s 10ms/step - loss: 80739.9922 - val_loss: 61455.1172\n",
            "Epoch 26/200\n",
            "5/5 [==============================] - 0s 10ms/step - loss: 49810.2617 - val_loss: 21371.4258\n",
            "Epoch 27/200\n",
            "5/5 [==============================] - 0s 10ms/step - loss: 53591.7891 - val_loss: 19042.7148\n",
            "Epoch 28/200\n",
            "5/5 [==============================] - 0s 10ms/step - loss: 46716.9844 - val_loss: 42826.7031\n"
          ],
          "name": "stdout"
        }
      ]
    },
    {
      "cell_type": "code",
      "metadata": {
        "id": "at6ZfRL0SLPw",
        "colab_type": "code",
        "colab": {
          "base_uri": "https://localhost:8080/",
          "height": 347
        },
        "outputId": "1bf671ca-bc78-4de5-c3e1-811a99bc1340"
      },
      "source": [
        "y_train_pred=model.predict(X_train)\n",
        "y_test_pred=model.predict(X_test)\n",
        "print('train rmse:', np.sqrt(mean_squared_error(y_train, y_train_pred)))\n",
        "print('test rmse:', np.sqrt(mean_squared_error(y_test, y_test_pred)))\n",
        "plt.figure(figsize=(20,5))\n",
        "plt.plot(y_test,label='real')\n",
        "plt.plot(y_test_pred,label='predict')\n",
        "plt.legend()\n",
        "plt.show()\n",
        "profit(pd.Series(y_test.flatten()),pd.Series(y_test_pred.flatten()))"
      ],
      "execution_count": 119,
      "outputs": [
        {
          "output_type": "stream",
          "text": [
            "train rmse: 202.93705887897448\n",
            "test rmse: 202.93705887897448\n"
          ],
          "name": "stdout"
        },
        {
          "output_type": "display_data",
          "data": {
            "image/png": "[encoded data removed]",
            "text/plain": [
              "<Figure size 1440x360 with 1 Axes>"
            ]
          },
          "metadata": {
            "tags": []
          }
        },
        {
          "output_type": "stream",
          "text": [
            "total buy 120\n",
            "ratio buy/all test set: 0.6451612903225806\n",
            "win num 74\n",
            "lose num 46\n",
            "revenue 794.710205078125\n"
          ],
          "name": "stdout"
        }
      ]
    },
    {
      "cell_type": "markdown",
      "metadata": {
        "id": "CW2oD2kbzU0r",
        "colab_type": "text"
      },
      "source": [
        "## Try classical ML method (not dynamic model)"
      ]
    },
    {
      "cell_type": "code",
      "metadata": {
        "id": "CFshuWFoSRD5",
        "colab_type": "code",
        "colab": {}
      },
      "source": [
        "from sklearn.model_selection import train_test_split\n",
        "from sklearn.preprocessing import StandardScaler,RobustScaler\n",
        "from sklearn.model_selection import KFold\n",
        "from sklearn.model_selection import cross_val_score\n",
        "from sklearn.model_selection import cross_validate,cross_val_predict\n",
        "from sklearn.model_selection import GridSearchCV\n",
        "from sklearn.model_selection import RandomizedSearchCV\n",
        "from sklearn.model_selection import StratifiedKFold\n",
        "from sklearn.pipeline import Pipeline\n",
        "from sklearn.compose import ColumnTransformer\n",
        "from sklearn.utils import shuffle\n",
        "\n",
        "# Score:\n",
        "from sklearn.metrics import mean_squared_error\n",
        "from sklearn.metrics import r2_score\n",
        "from sklearn.metrics import make_scorer\n",
        "#ML normal ML\n",
        "from sklearn.linear_model import LinearRegression\n",
        "from sklearn.linear_model import Lasso\n",
        "from sklearn.linear_model import Ridge\n",
        "from sklearn.linear_model import ElasticNet\n",
        "from sklearn.tree import DecisionTreeRegressor\n",
        "from sklearn.neighbors import KNeighborsRegressor\n",
        "from sklearn.svm import SVR\n",
        "\n",
        "from sklearn.linear_model import TheilSenRegressor, HuberRegressor\n",
        "from sklearn.linear_model import RANSACRegressor\n",
        "from sklearn.preprocessing import PolynomialFeatures\n",
        "\n",
        "#ML ensembles\n",
        "from sklearn.ensemble import RandomForestRegressor\n",
        "from sklearn.ensemble import GradientBoostingRegressor\n",
        "from sklearn.ensemble import ExtraTreesRegressor\n",
        "from sklearn.ensemble import AdaBoostRegressor\n",
        "\n",
        "#Special\n",
        "import xgboost as xgb\n",
        "from xgboost import XGBRegressor\n",
        "import lightgbm as lgb\n",
        "from lightgbm import LGBMRegressor"
      ],
      "execution_count": 120,
      "outputs": []
    },
    {
      "cell_type": "code",
      "metadata": {
        "id": "kRgsyO5Uzbo1",
        "colab_type": "code",
        "colab": {
          "base_uri": "https://localhost:8080/",
          "height": 419
        },
        "outputId": "a2e59ab9-9ade-4d6d-eb4d-b51e8974a6fa"
      },
      "source": [
        "from yahoo_fin.stock_info import get_data\n",
        "\n",
        "stock_code={'Apple':'AAPL', 'Microsoft':'MSFT','Facebook':'Fb','Amazon':'AMZN',\n",
        "            'Twitter':'TWTR','SP500':'^GSPC'}\n",
        "\n",
        "df= get_data(stock_code['SP500'],  start_date = '2017-01-01',\n",
        "                          end_date='2020-09-05',\n",
        "                      index_as_date = True, interval=\"1d\")\n",
        "df_sp500=df['adjclose']# Y\n",
        "\n",
        "df_gld= get_data(\"GLD\",start_date = '2017-01-01',end_date='2020-09-05',\n",
        "                      index_as_date = True, interval=\"1d\") # Gold price\n",
        "df_dxy= get_data(\"UUP\",start_date = '2017-01-01',end_date='2020-09-05',\n",
        "                      index_as_date = True, interval=\"1d\") # Invesco DB US Dollar \n",
        "df_ief= get_data(\"IEF\",start_date = '2017-01-01',end_date='2020-09-05',\n",
        "                      index_as_date = True, interval=\"1d\") # 10 Year Treasury Bond \n",
        "df_gush= get_data(\"GUSH\",start_date = '2017-01-01',end_date='2020-09-05',\n",
        "                      index_as_date = True, interval=\"1d\") # Direxion Daily S&P Oil & Gas Exp. & Prod. Bull 2X Shares\n",
        "df_assets = pd.DataFrame({\n",
        "    'GUSH':df_gush['adjclose'],\n",
        "    'GLD': df_gld['adjclose'],\n",
        "    'UUP': df_dxy['adjclose'],\n",
        "    'IEF': df_ief['adjclose'],\n",
        "})\n",
        "df_assets              #X"
      ],
      "execution_count": 139,
      "outputs": [
        {
          "output_type": "execute_result",
          "data": {
            "text/html": [
              "<div>\n",
              "<style scoped>\n",
              "    .dataframe tbody tr th:only-of-type {\n",
              "        vertical-align: middle;\n",
              "    }\n",
              "\n",
              "    .dataframe tbody tr th {\n",
              "        vertical-align: top;\n",
              "    }\n",
              "\n",
              "    .dataframe thead th {\n",
              "        text-align: right;\n",
              "    }\n",
              "</style>\n",
              "<table border=\"1\" class=\"dataframe\">\n",
              "  <thead>\n",
              "    <tr style=\"text-align: right;\">\n",
              "      <th></th>\n",
              "      <th>GUSH</th>\n",
              "      <th>GLD</th>\n",
              "      <th>UUP</th>\n",
              "      <th>IEF</th>\n",
              "    </tr>\n",
              "  </thead>\n",
              "  <tbody>\n",
              "    <tr>\n",
              "      <th>2017-01-03</th>\n",
              "      <td>21088.333984</td>\n",
              "      <td>110.470001</td>\n",
              "      <td>25.873072</td>\n",
              "      <td>97.661842</td>\n",
              "    </tr>\n",
              "    <tr>\n",
              "      <th>2017-01-04</th>\n",
              "      <td>21383.804688</td>\n",
              "      <td>110.860001</td>\n",
              "      <td>25.679264</td>\n",
              "      <td>97.773666</td>\n",
              "    </tr>\n",
              "    <tr>\n",
              "      <th>2017-01-05</th>\n",
              "      <td>21168.191406</td>\n",
              "      <td>112.580002</td>\n",
              "      <td>25.407936</td>\n",
              "      <td>98.407555</td>\n",
              "    </tr>\n",
              "    <tr>\n",
              "      <th>2017-01-06</th>\n",
              "      <td>20679.062500</td>\n",
              "      <td>111.750000</td>\n",
              "      <td>25.592051</td>\n",
              "      <td>97.960114</td>\n",
              "    </tr>\n",
              "    <tr>\n",
              "      <th>2017-01-09</th>\n",
              "      <td>19006.050781</td>\n",
              "      <td>112.669998</td>\n",
              "      <td>25.524220</td>\n",
              "      <td>98.332977</td>\n",
              "    </tr>\n",
              "    <tr>\n",
              "      <th>...</th>\n",
              "      <td>...</td>\n",
              "      <td>...</td>\n",
              "      <td>...</td>\n",
              "      <td>...</td>\n",
              "    </tr>\n",
              "    <tr>\n",
              "      <th>2020-08-31</th>\n",
              "      <td>32.180000</td>\n",
              "      <td>184.830002</td>\n",
              "      <td>24.900000</td>\n",
              "      <td>121.422005</td>\n",
              "    </tr>\n",
              "    <tr>\n",
              "      <th>2020-09-01</th>\n",
              "      <td>31.930000</td>\n",
              "      <td>185.050003</td>\n",
              "      <td>24.950001</td>\n",
              "      <td>121.820000</td>\n",
              "    </tr>\n",
              "    <tr>\n",
              "      <th>2020-09-02</th>\n",
              "      <td>30.260000</td>\n",
              "      <td>182.619995</td>\n",
              "      <td>25.040001</td>\n",
              "      <td>121.989998</td>\n",
              "    </tr>\n",
              "    <tr>\n",
              "      <th>2020-09-03</th>\n",
              "      <td>29.690001</td>\n",
              "      <td>181.139999</td>\n",
              "      <td>25.049999</td>\n",
              "      <td>122.150002</td>\n",
              "    </tr>\n",
              "    <tr>\n",
              "      <th>2020-09-04</th>\n",
              "      <td>29.780001</td>\n",
              "      <td>181.639999</td>\n",
              "      <td>25.090000</td>\n",
              "      <td>121.470001</td>\n",
              "    </tr>\n",
              "  </tbody>\n",
              "</table>\n",
              "<p>926 rows × 4 columns</p>\n",
              "</div>"
            ],
            "text/plain": [
              "                    GUSH         GLD        UUP         IEF\n",
              "2017-01-03  21088.333984  110.470001  25.873072   97.661842\n",
              "2017-01-04  21383.804688  110.860001  25.679264   97.773666\n",
              "2017-01-05  21168.191406  112.580002  25.407936   98.407555\n",
              "2017-01-06  20679.062500  111.750000  25.592051   97.960114\n",
              "2017-01-09  19006.050781  112.669998  25.524220   98.332977\n",
              "...                  ...         ...        ...         ...\n",
              "2020-08-31     32.180000  184.830002  24.900000  121.422005\n",
              "2020-09-01     31.930000  185.050003  24.950001  121.820000\n",
              "2020-09-02     30.260000  182.619995  25.040001  121.989998\n",
              "2020-09-03     29.690001  181.139999  25.049999  122.150002\n",
              "2020-09-04     29.780001  181.639999  25.090000  121.470001\n",
              "\n",
              "[926 rows x 4 columns]"
            ]
          },
          "metadata": {
            "tags": []
          },
          "execution_count": 139
        }
      ]
    },
    {
      "cell_type": "code",
      "metadata": {
        "id": "6kSkvXri2qN7",
        "colab_type": "code",
        "colab": {
          "base_uri": "https://localhost:8080/",
          "height": 221
        },
        "outputId": "49a955cc-1603-4079-ca15-85a2c8472306"
      },
      "source": [
        "df_sp500"
      ],
      "execution_count": 140,
      "outputs": [
        {
          "output_type": "execute_result",
          "data": {
            "text/plain": [
              "2017-01-03    2257.830078\n",
              "2017-01-04    2270.750000\n",
              "2017-01-05    2269.000000\n",
              "2017-01-06    2276.979980\n",
              "2017-01-09    2268.899902\n",
              "                 ...     \n",
              "2020-08-31    3500.310059\n",
              "2020-09-01    3526.649902\n",
              "2020-09-02    3580.840088\n",
              "2020-09-03    3455.060059\n",
              "2020-09-04    3426.959961\n",
              "Name: adjclose, Length: 926, dtype: float64"
            ]
          },
          "metadata": {
            "tags": []
          },
          "execution_count": 140
        }
      ]
    },
    {
      "cell_type": "code",
      "metadata": {
        "id": "chRpVAN_zzum",
        "colab_type": "code",
        "colab": {
          "base_uri": "https://localhost:8080/",
          "height": 419
        },
        "outputId": "c657a9b6-9107-4fd0-c89b-33ec58f5e096"
      },
      "source": [
        "df=df_assets.merge(df_sp500,left_index=True,right_index=True)\n",
        "df #normal"
      ],
      "execution_count": 141,
      "outputs": [
        {
          "output_type": "execute_result",
          "data": {
            "text/html": [
              "<div>\n",
              "<style scoped>\n",
              "    .dataframe tbody tr th:only-of-type {\n",
              "        vertical-align: middle;\n",
              "    }\n",
              "\n",
              "    .dataframe tbody tr th {\n",
              "        vertical-align: top;\n",
              "    }\n",
              "\n",
              "    .dataframe thead th {\n",
              "        text-align: right;\n",
              "    }\n",
              "</style>\n",
              "<table border=\"1\" class=\"dataframe\">\n",
              "  <thead>\n",
              "    <tr style=\"text-align: right;\">\n",
              "      <th></th>\n",
              "      <th>GUSH</th>\n",
              "      <th>GLD</th>\n",
              "      <th>UUP</th>\n",
              "      <th>IEF</th>\n",
              "      <th>adjclose</th>\n",
              "    </tr>\n",
              "  </thead>\n",
              "  <tbody>\n",
              "    <tr>\n",
              "      <th>2017-01-03</th>\n",
              "      <td>21088.333984</td>\n",
              "      <td>110.470001</td>\n",
              "      <td>25.873072</td>\n",
              "      <td>97.661842</td>\n",
              "      <td>2257.830078</td>\n",
              "    </tr>\n",
              "    <tr>\n",
              "      <th>2017-01-04</th>\n",
              "      <td>21383.804688</td>\n",
              "      <td>110.860001</td>\n",
              "      <td>25.679264</td>\n",
              "      <td>97.773666</td>\n",
              "      <td>2270.750000</td>\n",
              "    </tr>\n",
              "    <tr>\n",
              "      <th>2017-01-05</th>\n",
              "      <td>21168.191406</td>\n",
              "      <td>112.580002</td>\n",
              "      <td>25.407936</td>\n",
              "      <td>98.407555</td>\n",
              "      <td>2269.000000</td>\n",
              "    </tr>\n",
              "    <tr>\n",
              "      <th>2017-01-06</th>\n",
              "      <td>20679.062500</td>\n",
              "      <td>111.750000</td>\n",
              "      <td>25.592051</td>\n",
              "      <td>97.960114</td>\n",
              "      <td>2276.979980</td>\n",
              "    </tr>\n",
              "    <tr>\n",
              "      <th>2017-01-09</th>\n",
              "      <td>19006.050781</td>\n",
              "      <td>112.669998</td>\n",
              "      <td>25.524220</td>\n",
              "      <td>98.332977</td>\n",
              "      <td>2268.899902</td>\n",
              "    </tr>\n",
              "    <tr>\n",
              "      <th>...</th>\n",
              "      <td>...</td>\n",
              "      <td>...</td>\n",
              "      <td>...</td>\n",
              "      <td>...</td>\n",
              "      <td>...</td>\n",
              "    </tr>\n",
              "    <tr>\n",
              "      <th>2020-08-31</th>\n",
              "      <td>32.180000</td>\n",
              "      <td>184.830002</td>\n",
              "      <td>24.900000</td>\n",
              "      <td>121.422005</td>\n",
              "      <td>3500.310059</td>\n",
              "    </tr>\n",
              "    <tr>\n",
              "      <th>2020-09-01</th>\n",
              "      <td>31.930000</td>\n",
              "      <td>185.050003</td>\n",
              "      <td>24.950001</td>\n",
              "      <td>121.820000</td>\n",
              "      <td>3526.649902</td>\n",
              "    </tr>\n",
              "    <tr>\n",
              "      <th>2020-09-02</th>\n",
              "      <td>30.260000</td>\n",
              "      <td>182.619995</td>\n",
              "      <td>25.040001</td>\n",
              "      <td>121.989998</td>\n",
              "      <td>3580.840088</td>\n",
              "    </tr>\n",
              "    <tr>\n",
              "      <th>2020-09-03</th>\n",
              "      <td>29.690001</td>\n",
              "      <td>181.139999</td>\n",
              "      <td>25.049999</td>\n",
              "      <td>122.150002</td>\n",
              "      <td>3455.060059</td>\n",
              "    </tr>\n",
              "    <tr>\n",
              "      <th>2020-09-04</th>\n",
              "      <td>29.780001</td>\n",
              "      <td>181.639999</td>\n",
              "      <td>25.090000</td>\n",
              "      <td>121.470001</td>\n",
              "      <td>3426.959961</td>\n",
              "    </tr>\n",
              "  </tbody>\n",
              "</table>\n",
              "<p>926 rows × 5 columns</p>\n",
              "</div>"
            ],
            "text/plain": [
              "                    GUSH         GLD        UUP         IEF     adjclose\n",
              "2017-01-03  21088.333984  110.470001  25.873072   97.661842  2257.830078\n",
              "2017-01-04  21383.804688  110.860001  25.679264   97.773666  2270.750000\n",
              "2017-01-05  21168.191406  112.580002  25.407936   98.407555  2269.000000\n",
              "2017-01-06  20679.062500  111.750000  25.592051   97.960114  2276.979980\n",
              "2017-01-09  19006.050781  112.669998  25.524220   98.332977  2268.899902\n",
              "...                  ...         ...        ...         ...          ...\n",
              "2020-08-31     32.180000  184.830002  24.900000  121.422005  3500.310059\n",
              "2020-09-01     31.930000  185.050003  24.950001  121.820000  3526.649902\n",
              "2020-09-02     30.260000  182.619995  25.040001  121.989998  3580.840088\n",
              "2020-09-03     29.690001  181.139999  25.049999  122.150002  3455.060059\n",
              "2020-09-04     29.780001  181.639999  25.090000  121.470001  3426.959961\n",
              "\n",
              "[926 rows x 5 columns]"
            ]
          },
          "metadata": {
            "tags": []
          },
          "execution_count": 141
        }
      ]
    },
    {
      "cell_type": "markdown",
      "metadata": {
        "id": "icqjz3zz2ZM8",
        "colab_type": "text"
      },
      "source": [
        "Phai adjust y value xuong 1 ngay de X co the du doan duoc tuong lai"
      ]
    },
    {
      "cell_type": "code",
      "metadata": {
        "id": "oiesEpF21tyn",
        "colab_type": "code",
        "colab": {
          "base_uri": "https://localhost:8080/",
          "height": 419
        },
        "outputId": "b209b4e6-f7a2-4eab-ddca-e768e09526fc"
      },
      "source": [
        "df_assets_shift=df_assets.shift(1)\n",
        "df_assets_shift"
      ],
      "execution_count": 152,
      "outputs": [
        {
          "output_type": "execute_result",
          "data": {
            "text/html": [
              "<div>\n",
              "<style scoped>\n",
              "    .dataframe tbody tr th:only-of-type {\n",
              "        vertical-align: middle;\n",
              "    }\n",
              "\n",
              "    .dataframe tbody tr th {\n",
              "        vertical-align: top;\n",
              "    }\n",
              "\n",
              "    .dataframe thead th {\n",
              "        text-align: right;\n",
              "    }\n",
              "</style>\n",
              "<table border=\"1\" class=\"dataframe\">\n",
              "  <thead>\n",
              "    <tr style=\"text-align: right;\">\n",
              "      <th></th>\n",
              "      <th>GUSH</th>\n",
              "      <th>GLD</th>\n",
              "      <th>UUP</th>\n",
              "      <th>IEF</th>\n",
              "    </tr>\n",
              "  </thead>\n",
              "  <tbody>\n",
              "    <tr>\n",
              "      <th>2017-01-03</th>\n",
              "      <td>NaN</td>\n",
              "      <td>NaN</td>\n",
              "      <td>NaN</td>\n",
              "      <td>NaN</td>\n",
              "    </tr>\n",
              "    <tr>\n",
              "      <th>2017-01-04</th>\n",
              "      <td>21088.333984</td>\n",
              "      <td>110.470001</td>\n",
              "      <td>25.873072</td>\n",
              "      <td>97.661842</td>\n",
              "    </tr>\n",
              "    <tr>\n",
              "      <th>2017-01-05</th>\n",
              "      <td>21383.804688</td>\n",
              "      <td>110.860001</td>\n",
              "      <td>25.679264</td>\n",
              "      <td>97.773666</td>\n",
              "    </tr>\n",
              "    <tr>\n",
              "      <th>2017-01-06</th>\n",
              "      <td>21168.191406</td>\n",
              "      <td>112.580002</td>\n",
              "      <td>25.407936</td>\n",
              "      <td>98.407555</td>\n",
              "    </tr>\n",
              "    <tr>\n",
              "      <th>2017-01-09</th>\n",
              "      <td>20679.062500</td>\n",
              "      <td>111.750000</td>\n",
              "      <td>25.592051</td>\n",
              "      <td>97.960114</td>\n",
              "    </tr>\n",
              "    <tr>\n",
              "      <th>...</th>\n",
              "      <td>...</td>\n",
              "      <td>...</td>\n",
              "      <td>...</td>\n",
              "      <td>...</td>\n",
              "    </tr>\n",
              "    <tr>\n",
              "      <th>2020-08-31</th>\n",
              "      <td>34.250000</td>\n",
              "      <td>184.389999</td>\n",
              "      <td>24.930000</td>\n",
              "      <td>121.292091</td>\n",
              "    </tr>\n",
              "    <tr>\n",
              "      <th>2020-09-01</th>\n",
              "      <td>32.180000</td>\n",
              "      <td>184.830002</td>\n",
              "      <td>24.900000</td>\n",
              "      <td>121.422005</td>\n",
              "    </tr>\n",
              "    <tr>\n",
              "      <th>2020-09-02</th>\n",
              "      <td>31.930000</td>\n",
              "      <td>185.050003</td>\n",
              "      <td>24.950001</td>\n",
              "      <td>121.820000</td>\n",
              "    </tr>\n",
              "    <tr>\n",
              "      <th>2020-09-03</th>\n",
              "      <td>30.260000</td>\n",
              "      <td>182.619995</td>\n",
              "      <td>25.040001</td>\n",
              "      <td>121.989998</td>\n",
              "    </tr>\n",
              "    <tr>\n",
              "      <th>2020-09-04</th>\n",
              "      <td>29.690001</td>\n",
              "      <td>181.139999</td>\n",
              "      <td>25.049999</td>\n",
              "      <td>122.150002</td>\n",
              "    </tr>\n",
              "  </tbody>\n",
              "</table>\n",
              "<p>926 rows × 4 columns</p>\n",
              "</div>"
            ],
            "text/plain": [
              "                    GUSH         GLD        UUP         IEF\n",
              "2017-01-03           NaN         NaN        NaN         NaN\n",
              "2017-01-04  21088.333984  110.470001  25.873072   97.661842\n",
              "2017-01-05  21383.804688  110.860001  25.679264   97.773666\n",
              "2017-01-06  21168.191406  112.580002  25.407936   98.407555\n",
              "2017-01-09  20679.062500  111.750000  25.592051   97.960114\n",
              "...                  ...         ...        ...         ...\n",
              "2020-08-31     34.250000  184.389999  24.930000  121.292091\n",
              "2020-09-01     32.180000  184.830002  24.900000  121.422005\n",
              "2020-09-02     31.930000  185.050003  24.950001  121.820000\n",
              "2020-09-03     30.260000  182.619995  25.040001  121.989998\n",
              "2020-09-04     29.690001  181.139999  25.049999  122.150002\n",
              "\n",
              "[926 rows x 4 columns]"
            ]
          },
          "metadata": {
            "tags": []
          },
          "execution_count": 152
        }
      ]
    },
    {
      "cell_type": "code",
      "metadata": {
        "id": "UshV3l721t36",
        "colab_type": "code",
        "colab": {
          "base_uri": "https://localhost:8080/",
          "height": 419
        },
        "outputId": "9fae26fd-298f-45bb-9a94-b57bfa330451"
      },
      "source": [
        "new_df=pd.concat([df_assets_shift,df_sp500],axis=1).dropna()\n",
        "new_df"
      ],
      "execution_count": 155,
      "outputs": [
        {
          "output_type": "execute_result",
          "data": {
            "text/html": [
              "<div>\n",
              "<style scoped>\n",
              "    .dataframe tbody tr th:only-of-type {\n",
              "        vertical-align: middle;\n",
              "    }\n",
              "\n",
              "    .dataframe tbody tr th {\n",
              "        vertical-align: top;\n",
              "    }\n",
              "\n",
              "    .dataframe thead th {\n",
              "        text-align: right;\n",
              "    }\n",
              "</style>\n",
              "<table border=\"1\" class=\"dataframe\">\n",
              "  <thead>\n",
              "    <tr style=\"text-align: right;\">\n",
              "      <th></th>\n",
              "      <th>GUSH</th>\n",
              "      <th>GLD</th>\n",
              "      <th>UUP</th>\n",
              "      <th>IEF</th>\n",
              "      <th>adjclose</th>\n",
              "    </tr>\n",
              "  </thead>\n",
              "  <tbody>\n",
              "    <tr>\n",
              "      <th>2017-01-04</th>\n",
              "      <td>21088.333984</td>\n",
              "      <td>110.470001</td>\n",
              "      <td>25.873072</td>\n",
              "      <td>97.661842</td>\n",
              "      <td>2270.750000</td>\n",
              "    </tr>\n",
              "    <tr>\n",
              "      <th>2017-01-05</th>\n",
              "      <td>21383.804688</td>\n",
              "      <td>110.860001</td>\n",
              "      <td>25.679264</td>\n",
              "      <td>97.773666</td>\n",
              "      <td>2269.000000</td>\n",
              "    </tr>\n",
              "    <tr>\n",
              "      <th>2017-01-06</th>\n",
              "      <td>21168.191406</td>\n",
              "      <td>112.580002</td>\n",
              "      <td>25.407936</td>\n",
              "      <td>98.407555</td>\n",
              "      <td>2276.979980</td>\n",
              "    </tr>\n",
              "    <tr>\n",
              "      <th>2017-01-09</th>\n",
              "      <td>20679.062500</td>\n",
              "      <td>111.750000</td>\n",
              "      <td>25.592051</td>\n",
              "      <td>97.960114</td>\n",
              "      <td>2268.899902</td>\n",
              "    </tr>\n",
              "    <tr>\n",
              "      <th>2017-01-10</th>\n",
              "      <td>19006.050781</td>\n",
              "      <td>112.669998</td>\n",
              "      <td>25.524220</td>\n",
              "      <td>98.332977</td>\n",
              "      <td>2268.899902</td>\n",
              "    </tr>\n",
              "    <tr>\n",
              "      <th>...</th>\n",
              "      <td>...</td>\n",
              "      <td>...</td>\n",
              "      <td>...</td>\n",
              "      <td>...</td>\n",
              "      <td>...</td>\n",
              "    </tr>\n",
              "    <tr>\n",
              "      <th>2020-08-31</th>\n",
              "      <td>34.250000</td>\n",
              "      <td>184.389999</td>\n",
              "      <td>24.930000</td>\n",
              "      <td>121.292091</td>\n",
              "      <td>3500.310059</td>\n",
              "    </tr>\n",
              "    <tr>\n",
              "      <th>2020-09-01</th>\n",
              "      <td>32.180000</td>\n",
              "      <td>184.830002</td>\n",
              "      <td>24.900000</td>\n",
              "      <td>121.422005</td>\n",
              "      <td>3526.649902</td>\n",
              "    </tr>\n",
              "    <tr>\n",
              "      <th>2020-09-02</th>\n",
              "      <td>31.930000</td>\n",
              "      <td>185.050003</td>\n",
              "      <td>24.950001</td>\n",
              "      <td>121.820000</td>\n",
              "      <td>3580.840088</td>\n",
              "    </tr>\n",
              "    <tr>\n",
              "      <th>2020-09-03</th>\n",
              "      <td>30.260000</td>\n",
              "      <td>182.619995</td>\n",
              "      <td>25.040001</td>\n",
              "      <td>121.989998</td>\n",
              "      <td>3455.060059</td>\n",
              "    </tr>\n",
              "    <tr>\n",
              "      <th>2020-09-04</th>\n",
              "      <td>29.690001</td>\n",
              "      <td>181.139999</td>\n",
              "      <td>25.049999</td>\n",
              "      <td>122.150002</td>\n",
              "      <td>3426.959961</td>\n",
              "    </tr>\n",
              "  </tbody>\n",
              "</table>\n",
              "<p>925 rows × 5 columns</p>\n",
              "</div>"
            ],
            "text/plain": [
              "                    GUSH         GLD        UUP         IEF     adjclose\n",
              "2017-01-04  21088.333984  110.470001  25.873072   97.661842  2270.750000\n",
              "2017-01-05  21383.804688  110.860001  25.679264   97.773666  2269.000000\n",
              "2017-01-06  21168.191406  112.580002  25.407936   98.407555  2276.979980\n",
              "2017-01-09  20679.062500  111.750000  25.592051   97.960114  2268.899902\n",
              "2017-01-10  19006.050781  112.669998  25.524220   98.332977  2268.899902\n",
              "...                  ...         ...        ...         ...          ...\n",
              "2020-08-31     34.250000  184.389999  24.930000  121.292091  3500.310059\n",
              "2020-09-01     32.180000  184.830002  24.900000  121.422005  3526.649902\n",
              "2020-09-02     31.930000  185.050003  24.950001  121.820000  3580.840088\n",
              "2020-09-03     30.260000  182.619995  25.040001  121.989998  3455.060059\n",
              "2020-09-04     29.690001  181.139999  25.049999  122.150002  3426.959961\n",
              "\n",
              "[925 rows x 5 columns]"
            ]
          },
          "metadata": {
            "tags": []
          },
          "execution_count": 155
        }
      ]
    },
    {
      "cell_type": "code",
      "metadata": {
        "id": "3DdK6FQr5aBM",
        "colab_type": "code",
        "colab": {
          "base_uri": "https://localhost:8080/",
          "height": 51
        },
        "outputId": "47e5ef37-1618-4cfd-8dba-2f271794d8b5"
      },
      "source": [
        "split=int(len(new_df)*0.8)\n",
        "train=new_df[:split]\n",
        "test=new_df[split:]\n",
        "print(train.shape)\n",
        "print(test.shape)"
      ],
      "execution_count": 159,
      "outputs": [
        {
          "output_type": "stream",
          "text": [
            "(740, 5)\n",
            "(185, 5)\n"
          ],
          "name": "stdout"
        }
      ]
    },
    {
      "cell_type": "code",
      "metadata": {
        "id": "3StT4uEh1t1U",
        "colab_type": "code",
        "colab": {
          "base_uri": "https://localhost:8080/",
          "height": 85
        },
        "outputId": "6e5a6df5-1153-4496-fecc-8ba47b33a7b1"
      },
      "source": [
        "X_train=train.drop(['adjclose'],axis=1)\n",
        "y_train=train['adjclose']\n",
        "X_test=test.drop(['adjclose'],axis=1)\n",
        "y_test=test['adjclose']\n",
        "print(X_train.shape)\n",
        "print(y_train.shape)\n",
        "print(X_test.shape)\n",
        "print(y_test.shape)"
      ],
      "execution_count": 160,
      "outputs": [
        {
          "output_type": "stream",
          "text": [
            "(740, 4)\n",
            "(740,)\n",
            "(185, 4)\n",
            "(185,)\n"
          ],
          "name": "stdout"
        }
      ]
    },
    {
      "cell_type": "code",
      "metadata": {
        "id": "5V1qBF635zQL",
        "colab_type": "code",
        "colab": {}
      },
      "source": [
        "#transform=StandardScaler()\n",
        "transform=RobustScaler()\n",
        "\n",
        "X_train_trans = transform.fit_transform(X_train)\n",
        "X_test_trans = transform.fit_transform(X_test)"
      ],
      "execution_count": 161,
      "outputs": []
    },
    {
      "cell_type": "code",
      "metadata": {
        "id": "911bkmfl54mF",
        "colab_type": "code",
        "colab": {}
      },
      "source": [
        "# Creating a list of the classifiers\n",
        "regression = {\n",
        "\n",
        "    'LR':LinearRegression(),\n",
        "    'LASSO':Lasso(), \n",
        "    'Ridge':Ridge(), \n",
        "    'EN':ElasticNet(),\n",
        "    #'KNN':KNeighborsRegressor(), # kha lau\n",
        "    #'CART':DecisionTreeRegressor(), \n",
        "    #'SVR':SVR(),\n",
        "    # New , Theil, Huber Regressor:\n",
        "    'RANSAC':RANSACRegressor(),\n",
        "    #'TheilSen':TheilSenRegressor(),\n",
        "    'Huber':HuberRegressor(),\n",
        "    #New: Poly nominal\n",
        "    #'Poly2':Pipeline([('Poly2', PolynomialFeatures(degree=2)),\n",
        "    #                 ('linear', LinearRegression(fit_intercept=False))]),\n",
        "    \n",
        "    #Ensemble:\n",
        "    #'AB':AdaBoostRegressor(), #Bagging (very long)\n",
        "    #'GBM':GradientBoostingRegressor(),  #Boosting\n",
        "    #'RF':RandomForestRegressor(), #Boosting\n",
        "    #'ET':ExtraTreesRegressor(), #Bagging (very long)\n",
        "    #New from Matt cookbook\n",
        "    #'XGB':XGBRegressor(), #New Boosting\n",
        "    'LGBM':LGBMRegressor(), #New Boosting   \n",
        "}"
      ],
      "execution_count": 162,
      "outputs": []
    },
    {
      "cell_type": "code",
      "metadata": {
        "id": "ettU2gRL55vn",
        "colab_type": "code",
        "colab": {
          "base_uri": "https://localhost:8080/",
          "height": 513
        },
        "outputId": "f751a99e-aeb3-487e-e85c-e4a34d87c324"
      },
      "source": [
        "#Cross validate\n",
        "import time\n",
        "num_folds = 3\n",
        "seed = 7\n",
        "\n",
        "scoring = {'mse' : make_scorer(mean_squared_error), \n",
        "           'r2' : make_scorer(r2_score),\n",
        "           }\n",
        "\n",
        "names = []\n",
        "train_rmse=[]\n",
        "train_r2=[]\n",
        "test_rmse=[]\n",
        "test_r2=[]\n",
        "fit_time=[]\n",
        "time_=[]\n",
        "\n",
        "for name, model in regression.items():\n",
        "  print(name)\n",
        "  start=time.time()\n",
        "  estimator = model\n",
        "  cv_results = cross_validate(estimator, X_train, y_train, cv=3, scoring=scoring,\n",
        "                              return_train_score=True,\n",
        "                              return_estimator=True\n",
        "                              )\n",
        "\n",
        "  # Time :\n",
        "  time_cal=time.time() - start\n",
        "  print('time : %0.3f' % (time_cal),'\\n')\n",
        "  \n",
        "  #results.append(cv_results) # array of values\n",
        "  names.append(name)\n",
        "  train_rmse.append(np.sqrt(cv_results['train_mse'].mean()))\n",
        "  train_r2.append(cv_results['train_r2'].mean())\n",
        "  \n",
        "\n",
        "  test_rmse.append(np.sqrt(cv_results['test_mse'].mean()))\n",
        "  test_r2.append(cv_results['test_r2'].mean())\n",
        "  \n",
        "\n",
        "  fit_time.append(cv_results['fit_time'].mean())\n",
        "  time_.append(time_cal)\n",
        "\n",
        "  #print(cv_results.keys())\n",
        "  print(\"%s: train_mse: %0.2f train_r2: %0.2f \\\n",
        "  test_mse: %0.2f test_r2: %0.2f fit_time: %0.2f\" % \n",
        "       (name, cv_results['train_mse'].mean(),cv_results['train_r2'].mean(),\n",
        "       cv_results['test_mse'].mean(),cv_results['test_r2'].mean(),\n",
        "       cv_results['fit_time'].mean()))\n"
      ],
      "execution_count": 163,
      "outputs": [
        {
          "output_type": "stream",
          "text": [
            "LR\n",
            "time : 0.021 \n",
            "\n",
            "LR: train_mse: 10990.53 train_r2: 0.67   test_mse: 884608.75 test_r2: -43.92 fit_time: 0.00\n",
            "LASSO\n",
            "time : 0.017 \n",
            "\n",
            "LASSO: train_mse: 10994.16 train_r2: 0.67   test_mse: 860927.20 test_r2: -42.87 fit_time: 0.00\n",
            "Ridge\n",
            "time : 0.016 \n",
            "\n",
            "Ridge: train_mse: 10990.80 train_r2: 0.67   test_mse: 877137.73 test_r2: -43.61 fit_time: 0.00\n",
            "EN\n",
            "time : 0.015 \n",
            "\n",
            "EN: train_mse: 12744.55 train_r2: 0.62   test_mse: 373966.65 test_r2: -21.82 fit_time: 0.00\n",
            "RANSAC\n",
            "time : 0.054 \n",
            "\n",
            "RANSAC: train_mse: 14995.68 train_r2: 0.54   test_mse: 1272668.11 test_r2: -59.84 fit_time: 0.01\n",
            "Huber\n",
            "time : 0.065 \n",
            "\n",
            "Huber: train_mse: 18690.67 train_r2: 0.43   test_mse: 123924.30 test_r2: -11.46 fit_time: 0.02\n",
            "LGBM\n",
            "time : 0.178 \n",
            "\n",
            "LGBM: train_mse: 382.26 train_r2: 0.99   test_mse: 100829.62 test_r2: -7.77 fit_time: 0.05\n"
          ],
          "name": "stdout"
        }
      ]
    },
    {
      "cell_type": "code",
      "metadata": {
        "id": "bqRgerdQ573G",
        "colab_type": "code",
        "colab": {
          "base_uri": "https://localhost:8080/",
          "height": 266
        },
        "outputId": "0eeb5eec-760f-464c-f2d0-51e5a4a92487"
      },
      "source": [
        "df_results_val=pd.DataFrame(list(zip(names,test_rmse,test_r2,\n",
        "                                     train_rmse,train_r2,\n",
        "                                     fit_time,time_)),\n",
        "                  columns=['Names','test_rmse','test_r2',\n",
        "                           'train_rmse','train_r2',\n",
        "                           'fit_time','time'])\n",
        "df_results_val=df_results_val.sort_values(by='test_rmse',ascending=True)\n",
        "df_results_val"
      ],
      "execution_count": 164,
      "outputs": [
        {
          "output_type": "execute_result",
          "data": {
            "text/html": [
              "<div>\n",
              "<style scoped>\n",
              "    .dataframe tbody tr th:only-of-type {\n",
              "        vertical-align: middle;\n",
              "    }\n",
              "\n",
              "    .dataframe tbody tr th {\n",
              "        vertical-align: top;\n",
              "    }\n",
              "\n",
              "    .dataframe thead th {\n",
              "        text-align: right;\n",
              "    }\n",
              "</style>\n",
              "<table border=\"1\" class=\"dataframe\">\n",
              "  <thead>\n",
              "    <tr style=\"text-align: right;\">\n",
              "      <th></th>\n",
              "      <th>Names</th>\n",
              "      <th>test_rmse</th>\n",
              "      <th>test_r2</th>\n",
              "      <th>train_rmse</th>\n",
              "      <th>train_r2</th>\n",
              "      <th>fit_time</th>\n",
              "      <th>time</th>\n",
              "    </tr>\n",
              "  </thead>\n",
              "  <tbody>\n",
              "    <tr>\n",
              "      <th>6</th>\n",
              "      <td>LGBM</td>\n",
              "      <td>317.536799</td>\n",
              "      <td>-7.768033</td>\n",
              "      <td>19.551524</td>\n",
              "      <td>0.987347</td>\n",
              "      <td>0.048600</td>\n",
              "      <td>0.178248</td>\n",
              "    </tr>\n",
              "    <tr>\n",
              "      <th>5</th>\n",
              "      <td>Huber</td>\n",
              "      <td>352.028830</td>\n",
              "      <td>-11.462547</td>\n",
              "      <td>136.713825</td>\n",
              "      <td>0.434514</td>\n",
              "      <td>0.018487</td>\n",
              "      <td>0.065358</td>\n",
              "    </tr>\n",
              "    <tr>\n",
              "      <th>3</th>\n",
              "      <td>EN</td>\n",
              "      <td>611.528130</td>\n",
              "      <td>-21.821234</td>\n",
              "      <td>112.891768</td>\n",
              "      <td>0.618727</td>\n",
              "      <td>0.002113</td>\n",
              "      <td>0.015181</td>\n",
              "    </tr>\n",
              "    <tr>\n",
              "      <th>1</th>\n",
              "      <td>LASSO</td>\n",
              "      <td>927.861626</td>\n",
              "      <td>-42.868060</td>\n",
              "      <td>104.853063</td>\n",
              "      <td>0.670809</td>\n",
              "      <td>0.002622</td>\n",
              "      <td>0.017186</td>\n",
              "    </tr>\n",
              "    <tr>\n",
              "      <th>2</th>\n",
              "      <td>Ridge</td>\n",
              "      <td>936.556316</td>\n",
              "      <td>-43.606689</td>\n",
              "      <td>104.837011</td>\n",
              "      <td>0.670917</td>\n",
              "      <td>0.002101</td>\n",
              "      <td>0.015949</td>\n",
              "    </tr>\n",
              "    <tr>\n",
              "      <th>0</th>\n",
              "      <td>LR</td>\n",
              "      <td>940.536418</td>\n",
              "      <td>-43.924328</td>\n",
              "      <td>104.835750</td>\n",
              "      <td>0.670925</td>\n",
              "      <td>0.002406</td>\n",
              "      <td>0.021353</td>\n",
              "    </tr>\n",
              "    <tr>\n",
              "      <th>4</th>\n",
              "      <td>RANSAC</td>\n",
              "      <td>1128.125929</td>\n",
              "      <td>-59.837748</td>\n",
              "      <td>122.456854</td>\n",
              "      <td>0.535780</td>\n",
              "      <td>0.014690</td>\n",
              "      <td>0.054034</td>\n",
              "    </tr>\n",
              "  </tbody>\n",
              "</table>\n",
              "</div>"
            ],
            "text/plain": [
              "    Names    test_rmse    test_r2  train_rmse  train_r2  fit_time      time\n",
              "6    LGBM   317.536799  -7.768033   19.551524  0.987347  0.048600  0.178248\n",
              "5   Huber   352.028830 -11.462547  136.713825  0.434514  0.018487  0.065358\n",
              "3      EN   611.528130 -21.821234  112.891768  0.618727  0.002113  0.015181\n",
              "1   LASSO   927.861626 -42.868060  104.853063  0.670809  0.002622  0.017186\n",
              "2   Ridge   936.556316 -43.606689  104.837011  0.670917  0.002101  0.015949\n",
              "0      LR   940.536418 -43.924328  104.835750  0.670925  0.002406  0.021353\n",
              "4  RANSAC  1128.125929 -59.837748  122.456854  0.535780  0.014690  0.054034"
            ]
          },
          "metadata": {
            "tags": []
          },
          "execution_count": 164
        }
      ]
    },
    {
      "cell_type": "code",
      "metadata": {
        "id": "toLuPDti6Cdh",
        "colab_type": "code",
        "colab": {
          "base_uri": "https://localhost:8080/",
          "height": 437
        },
        "outputId": "5d83f92b-aaa5-4b8a-de62-629825556099"
      },
      "source": [
        "# Define name:\n",
        "name=df_results_val['Names']\n",
        "test_rmse=df_results_val['test_rmse']\n",
        "test_r2=df_results_val['test_r2']\n",
        "#time = df_results_val['time']\n",
        "# Plot:\n",
        "x = np.arange(len(name))\n",
        "fig, ax = plt.subplots(figsize=(10,6))\n",
        "rects1 = ax.bar(x, test_rmse, color = 'b', width = 0.25,label='test_rmse')\n",
        "#rects2 = ax.plot(x, test_r2, color = 'g',marker='o',label='test_r2')\n",
        "\n",
        "ax2 = ax.twinx()\n",
        "ax2.plot(x,test_r2,color ='c',marker='o',lw=2,label='R2 ')\n",
        "ax2.secondary_yaxis('right')\n",
        "\n",
        "ax.set_xticks(x)\n",
        "ax.set_xticklabels(name,fontsize=15,rotation=90)\n",
        "ax.set_ylabel('RMSE',fontsize=15)\n",
        "ax2.set_ylabel('R2',fontsize=15)\n",
        "#plt.gca().legend(loc ='center',bbox_to_anchor=(0.5, -0.2))\n",
        "legend1=ax.legend(loc='center',bbox_to_anchor=(1.2, 0.8),shadow=True, fontsize='medium')\n",
        "legend2=ax2.legend(loc='center',bbox_to_anchor=(1.2,1),shadow=True, fontsize='medium')\n",
        "\n",
        "plt.axis('off')\n",
        "fig.tight_layout()\n",
        "plt.show()"
      ],
      "execution_count": 165,
      "outputs": [
        {
          "output_type": "display_data",
          "data": {
            "image/png": "[encoded data removed]",
            "text/plain": [
              "<Figure size 720x432 with 2 Axes>"
            ]
          },
          "metadata": {
            "tags": []
          }
        }
      ]
    },
    {
      "cell_type": "code",
      "metadata": {
        "id": "sum2havu6Dkx",
        "colab_type": "code",
        "colab": {
          "base_uri": "https://localhost:8080/",
          "height": 513
        },
        "outputId": "d4a4274c-584e-4526-fe72-945dccf6ff36"
      },
      "source": [
        "#Cross validate\n",
        "import time\n",
        "num_folds = 3\n",
        "seed = 7\n",
        "\n",
        "scoring = {'mse' : make_scorer(mean_squared_error), \n",
        "           'r2' : make_scorer(r2_score),\n",
        "           }\n",
        "\n",
        "names = []\n",
        "train_rmse=[]\n",
        "train_r2=[]\n",
        "test_rmse=[]\n",
        "test_r2=[]\n",
        "fit_time=[]\n",
        "time_=[]\n",
        "\n",
        "for name, model in regression.items():\n",
        "  print(name)\n",
        "  start=time.time()\n",
        "  estimator = model\n",
        "  cv_results = cross_validate(estimator, X_train_trans, y_train, cv=3, scoring=scoring,\n",
        "                              return_train_score=True,\n",
        "                              return_estimator=True\n",
        "                              )\n",
        "\n",
        "  # Time :\n",
        "  time_cal=time.time() - start\n",
        "  print('time : %0.3f' % (time_cal),'\\n')\n",
        "  \n",
        "  #results.append(cv_results) # array of values\n",
        "  names.append(name)\n",
        "  train_rmse.append(np.sqrt(cv_results['train_mse'].mean()))\n",
        "  train_r2.append(cv_results['train_r2'].mean())\n",
        "  \n",
        "\n",
        "  test_rmse.append(np.sqrt(cv_results['test_mse'].mean()))\n",
        "  test_r2.append(cv_results['test_r2'].mean())\n",
        "  \n",
        "\n",
        "  fit_time.append(cv_results['fit_time'].mean())\n",
        "  time_.append(time_cal)\n",
        "\n",
        "  #print(cv_results.keys())\n",
        "  print(\"%s: train_mse: %0.2f train_r2: %0.2f \\\n",
        "  test_mse: %0.2f test_r2: %0.2f fit_time: %0.2f\" % \n",
        "       (name, cv_results['train_mse'].mean(),cv_results['train_r2'].mean(),\n",
        "       cv_results['test_mse'].mean(),cv_results['test_r2'].mean(),\n",
        "       cv_results['fit_time'].mean()))\n"
      ],
      "execution_count": 166,
      "outputs": [
        {
          "output_type": "stream",
          "text": [
            "LR\n",
            "time : 0.017 \n",
            "\n",
            "LR: train_mse: 10990.53 train_r2: 0.67   test_mse: 884608.75 test_r2: -43.92 fit_time: 0.00\n",
            "LASSO\n",
            "time : 0.012 \n",
            "\n",
            "LASSO: train_mse: 11035.99 train_r2: 0.67   test_mse: 813984.85 test_r2: -40.58 fit_time: 0.00\n",
            "Ridge\n",
            "time : 0.009 \n",
            "\n",
            "Ridge: train_mse: 10997.76 train_r2: 0.67   test_mse: 844303.53 test_r2: -42.15 fit_time: 0.00\n",
            "EN\n",
            "time : 0.012 \n",
            "\n",
            "EN: train_mse: 18214.27 train_r2: 0.46   test_mse: 141059.71 test_r2: -9.56 fit_time: 0.00\n",
            "RANSAC\n",
            "time : 0.057 \n",
            "\n",
            "RANSAC: train_mse: 17802.48 train_r2: 0.46   test_mse: 1247737.37 test_r2: -59.33 fit_time: 0.02\n",
            "Huber\n",
            "time : 0.027 \n",
            "\n",
            "Huber: train_mse: 11445.34 train_r2: 0.66   test_mse: 961630.59 test_r2: -47.38 fit_time: 0.01\n",
            "LGBM\n",
            "time : 0.140 \n",
            "\n",
            "LGBM: train_mse: 390.32 train_r2: 0.99   test_mse: 101099.25 test_r2: -7.84 fit_time: 0.04\n"
          ],
          "name": "stdout"
        }
      ]
    },
    {
      "cell_type": "code",
      "metadata": {
        "id": "T-ZWAsW76PaT",
        "colab_type": "code",
        "colab": {
          "base_uri": "https://localhost:8080/",
          "height": 266
        },
        "outputId": "c1f9a477-84a9-4eb8-9e87-b0bb3d338121"
      },
      "source": [
        "df_results_val=pd.DataFrame(list(zip(names,test_rmse,test_r2,\n",
        "                                     train_rmse,train_r2,\n",
        "                                     fit_time,time_)),\n",
        "                  columns=['Names','test_rmse','test_r2',\n",
        "                           'train_rmse','train_r2',\n",
        "                           'fit_time','time'])\n",
        "df_results_val=df_results_val.sort_values(by='test_rmse',ascending=True)\n",
        "df_results_val"
      ],
      "execution_count": 167,
      "outputs": [
        {
          "output_type": "execute_result",
          "data": {
            "text/html": [
              "<div>\n",
              "<style scoped>\n",
              "    .dataframe tbody tr th:only-of-type {\n",
              "        vertical-align: middle;\n",
              "    }\n",
              "\n",
              "    .dataframe tbody tr th {\n",
              "        vertical-align: top;\n",
              "    }\n",
              "\n",
              "    .dataframe thead th {\n",
              "        text-align: right;\n",
              "    }\n",
              "</style>\n",
              "<table border=\"1\" class=\"dataframe\">\n",
              "  <thead>\n",
              "    <tr style=\"text-align: right;\">\n",
              "      <th></th>\n",
              "      <th>Names</th>\n",
              "      <th>test_rmse</th>\n",
              "      <th>test_r2</th>\n",
              "      <th>train_rmse</th>\n",
              "      <th>train_r2</th>\n",
              "      <th>fit_time</th>\n",
              "      <th>time</th>\n",
              "    </tr>\n",
              "  </thead>\n",
              "  <tbody>\n",
              "    <tr>\n",
              "      <th>6</th>\n",
              "      <td>LGBM</td>\n",
              "      <td>317.961078</td>\n",
              "      <td>-7.838281</td>\n",
              "      <td>19.756503</td>\n",
              "      <td>0.987074</td>\n",
              "      <td>0.040440</td>\n",
              "      <td>0.139568</td>\n",
              "    </tr>\n",
              "    <tr>\n",
              "      <th>3</th>\n",
              "      <td>EN</td>\n",
              "      <td>375.579162</td>\n",
              "      <td>-9.562000</td>\n",
              "      <td>134.960264</td>\n",
              "      <td>0.456175</td>\n",
              "      <td>0.001488</td>\n",
              "      <td>0.011692</td>\n",
              "    </tr>\n",
              "    <tr>\n",
              "      <th>1</th>\n",
              "      <td>LASSO</td>\n",
              "      <td>902.211089</td>\n",
              "      <td>-40.577699</td>\n",
              "      <td>105.052297</td>\n",
              "      <td>0.669537</td>\n",
              "      <td>0.001484</td>\n",
              "      <td>0.012203</td>\n",
              "    </tr>\n",
              "    <tr>\n",
              "      <th>2</th>\n",
              "      <td>Ridge</td>\n",
              "      <td>918.859906</td>\n",
              "      <td>-42.146496</td>\n",
              "      <td>104.870217</td>\n",
              "      <td>0.670695</td>\n",
              "      <td>0.000992</td>\n",
              "      <td>0.009272</td>\n",
              "    </tr>\n",
              "    <tr>\n",
              "      <th>0</th>\n",
              "      <td>LR</td>\n",
              "      <td>940.536418</td>\n",
              "      <td>-43.924328</td>\n",
              "      <td>104.835750</td>\n",
              "      <td>0.670925</td>\n",
              "      <td>0.002101</td>\n",
              "      <td>0.016741</td>\n",
              "    </tr>\n",
              "    <tr>\n",
              "      <th>5</th>\n",
              "      <td>Huber</td>\n",
              "      <td>980.627653</td>\n",
              "      <td>-47.382758</td>\n",
              "      <td>106.982898</td>\n",
              "      <td>0.657197</td>\n",
              "      <td>0.007158</td>\n",
              "      <td>0.027492</td>\n",
              "    </tr>\n",
              "    <tr>\n",
              "      <th>4</th>\n",
              "      <td>RANSAC</td>\n",
              "      <td>1117.021651</td>\n",
              "      <td>-59.326058</td>\n",
              "      <td>133.425919</td>\n",
              "      <td>0.460582</td>\n",
              "      <td>0.016340</td>\n",
              "      <td>0.056961</td>\n",
              "    </tr>\n",
              "  </tbody>\n",
              "</table>\n",
              "</div>"
            ],
            "text/plain": [
              "    Names    test_rmse    test_r2  train_rmse  train_r2  fit_time      time\n",
              "6    LGBM   317.961078  -7.838281   19.756503  0.987074  0.040440  0.139568\n",
              "3      EN   375.579162  -9.562000  134.960264  0.456175  0.001488  0.011692\n",
              "1   LASSO   902.211089 -40.577699  105.052297  0.669537  0.001484  0.012203\n",
              "2   Ridge   918.859906 -42.146496  104.870217  0.670695  0.000992  0.009272\n",
              "0      LR   940.536418 -43.924328  104.835750  0.670925  0.002101  0.016741\n",
              "5   Huber   980.627653 -47.382758  106.982898  0.657197  0.007158  0.027492\n",
              "4  RANSAC  1117.021651 -59.326058  133.425919  0.460582  0.016340  0.056961"
            ]
          },
          "metadata": {
            "tags": []
          },
          "execution_count": 167
        }
      ]
    },
    {
      "cell_type": "code",
      "metadata": {
        "id": "o8RvAxjR6Roh",
        "colab_type": "code",
        "colab": {
          "base_uri": "https://localhost:8080/",
          "height": 437
        },
        "outputId": "a3606e9f-cc4f-4795-8d2c-edb411f5e345"
      },
      "source": [
        "# Define name:\n",
        "name=df_results_val['Names']\n",
        "test_rmse=df_results_val['test_rmse']\n",
        "test_r2=df_results_val['test_r2']\n",
        "#time = df_results_val['time']\n",
        "# Plot:\n",
        "x = np.arange(len(name))\n",
        "fig, ax = plt.subplots(figsize=(10,6))\n",
        "rects1 = ax.bar(x, test_rmse, color = 'b', width = 0.25,label='test_rmse')\n",
        "#rects2 = ax.plot(x, test_r2, color = 'g',marker='o',label='test_r2')\n",
        "\n",
        "ax2 = ax.twinx()\n",
        "ax2.plot(x,test_r2,color ='c',marker='o',lw=2,label='R2 ')\n",
        "ax2.secondary_yaxis('right')\n",
        "\n",
        "ax.set_xticks(x)\n",
        "ax.set_xticklabels(name,fontsize=15,rotation=90)\n",
        "ax.set_ylabel('RMSE',fontsize=15)\n",
        "ax2.set_ylabel('R2',fontsize=15)\n",
        "#plt.gca().legend(loc ='center',bbox_to_anchor=(0.5, -0.2))\n",
        "legend1=ax.legend(loc='center',bbox_to_anchor=(1.2, 0.8),shadow=True, fontsize='medium')\n",
        "legend2=ax2.legend(loc='center',bbox_to_anchor=(1.2,1),shadow=True, fontsize='medium')\n",
        "\n",
        "plt.axis('off')\n",
        "fig.tight_layout()\n",
        "plt.show()"
      ],
      "execution_count": 168,
      "outputs": [
        {
          "output_type": "display_data",
          "data": {
            "image/png": "[encoded data removed]",
            "text/plain": [
              "<Figure size 720x432 with 2 Axes>"
            ]
          },
          "metadata": {
            "tags": []
          }
        }
      ]
    },
    {
      "cell_type": "code",
      "metadata": {
        "id": "ERX24o7z6arQ",
        "colab_type": "code",
        "colab": {
          "base_uri": "https://localhost:8080/",
          "height": 262
        },
        "outputId": "cdd86d04-ac4b-4f0c-8a82-0d49f008540a"
      },
      "source": [
        "model=LGBMRegressor()\n",
        "model.fit(X_train,y_train)\n",
        "y_train_pred=model.predict(X_train)\n",
        "y_test_pred=model.predict(X_test)\n",
        "y_test_pred=pd.Series(y_test_pred)\n",
        "y_test_pred.index=y_test.index\n",
        "print('train rmse:', np.sqrt(mean_squared_error(y_train, y_train_pred)))\n",
        "print('test rmse:', np.sqrt(mean_squared_error(y_test, y_test_pred)))\n",
        "plt.figure(figsize=(20,5))\n",
        "plt.plot(y_test,label='real')\n",
        "plt.plot(y_test_pred,label='predict')\n",
        "plt.legend()\n",
        "plt.show()"
      ],
      "execution_count": 184,
      "outputs": [
        {
          "output_type": "stream",
          "text": [
            "train rmse: 20.078821395435554\n",
            "test rmse: 320.2154088135086\n"
          ],
          "name": "stdout"
        },
        {
          "output_type": "display_data",
          "data": {
            "image/png": "[encoded data removed]",
            "text/plain": [
              "<Figure size 1440x360 with 1 Axes>"
            ]
          },
          "metadata": {
            "tags": []
          }
        }
      ]
    },
    {
      "cell_type": "code",
      "metadata": {
        "id": "CdHlLf236k5b",
        "colab_type": "code",
        "colab": {
          "base_uri": "https://localhost:8080/",
          "height": 102
        },
        "outputId": "c0f60ed1-e701-48d0-a03e-6e97e587397b"
      },
      "source": [
        "profit(y_test,\n",
        "       y_test_pred)"
      ],
      "execution_count": 186,
      "outputs": [
        {
          "output_type": "stream",
          "text": [
            "total buy 50\n",
            "ratio buy/all test set: 0.2702702702702703\n",
            "win num 28\n",
            "lose num 22\n",
            "revenue 256.02001953125\n"
          ],
          "name": "stdout"
        }
      ]
    },
    {
      "cell_type": "code",
      "metadata": {
        "id": "Iw0Qwpdj7f_8",
        "colab_type": "code",
        "colab": {}
      },
      "source": [
        ""
      ],
      "execution_count": null,
      "outputs": []
    }
  ]
}