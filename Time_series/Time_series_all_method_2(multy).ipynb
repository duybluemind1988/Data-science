{
  "nbformat": 4,
  "nbformat_minor": 0,
  "metadata": {
    "colab": {
      "name": "Time_series_all_method_2(multy).ipynb",
      "provenance": [],
      "authorship_tag": "ABX9TyPFUrlnob6dygy0od8uzNEQ",
      "include_colab_link": true
    },
    "kernelspec": {
      "name": "python3",
      "display_name": "Python 3"
    }
  },
  "cells": [
    {
      "cell_type": "markdown",
      "metadata": {
        "id": "view-in-github",
        "colab_type": "text"
      },
      "source": [
        "<a href=\"https://colab.research.google.com/github/duybluemind1988/Data-science/blob/master/Time_series/Time_series_all_method_2(multy).ipynb\" target=\"_parent\"><img src=\"https://colab.research.google.com/assets/colab-badge.svg\" alt=\"Open In Colab\"/></a>"
      ]
    },
    {
      "cell_type": "code",
      "metadata": {
        "id": "Tg8FJvEqiRco",
        "colab_type": "code",
        "colab": {}
      },
      "source": [
        "import pandas as pd \n",
        "import numpy as np\n",
        "import matplotlib.pyplot as plt\n",
        "import seaborn as sns; sns.set()\n",
        "#import yfinance as yf\n",
        "import cufflinks as cf\n",
        "from plotly.offline import iplot, init_notebook_mode"
      ],
      "execution_count": 11,
      "outputs": []
    },
    {
      "cell_type": "code",
      "metadata": {
        "id": "I8jL7iA5iuMZ",
        "colab_type": "code",
        "colab": {
          "base_uri": "https://localhost:8080/",
          "height": 105
        },
        "outputId": "5a5e044c-2688-419d-9074-80ecabbe43f9"
      },
      "source": [
        "!pip install yahoo_fin"
      ],
      "execution_count": 3,
      "outputs": [
        {
          "output_type": "stream",
          "text": [
            "Collecting yahoo_fin\n",
            "  Downloading https://files.pythonhosted.org/packages/d3/5c/6bf0c0147cc94d643e2a2413d0a9b27967e964ee99f88f26db93a0b963b8/yahoo_fin-0.8.6-py3-none-any.whl\n",
            "Installing collected packages: yahoo-fin\n",
            "Successfully installed yahoo-fin-0.8.6\n"
          ],
          "name": "stdout"
        }
      ]
    },
    {
      "cell_type": "code",
      "metadata": {
        "id": "zOXQf-VJiltF",
        "colab_type": "code",
        "colab": {
          "base_uri": "https://localhost:8080/",
          "height": 221
        },
        "outputId": "41c17e3e-5af2-4b54-b085-004686b0cb66"
      },
      "source": [
        "from yahoo_fin.stock_info import get_data\n",
        "\n",
        "stock_code={'Apple':'AAPL', 'Microsoft':'MSFT','Facebook':'Fb','Amazon':'AMZN',\n",
        "            'Twitter':'TWTR','SP500':'^GSPC'}\n",
        "\n",
        "df= get_data(stock_code['SP500'],  start_date = '2017-01-01',\n",
        "                          end_date='2020-09-05',\n",
        "                      index_as_date = True, interval=\"1d\")\n",
        "df_sp500=df['adjclose']\n",
        "df_sp500"
      ],
      "execution_count": 19,
      "outputs": [
        {
          "output_type": "execute_result",
          "data": {
            "text/plain": [
              "2017-01-03    2257.830078\n",
              "2017-01-04    2270.750000\n",
              "2017-01-05    2269.000000\n",
              "2017-01-06    2276.979980\n",
              "2017-01-09    2268.899902\n",
              "                 ...     \n",
              "2020-08-31    3500.310059\n",
              "2020-09-01    3526.649902\n",
              "2020-09-02    3580.840088\n",
              "2020-09-03    3455.060059\n",
              "2020-09-04    3426.959961\n",
              "Name: adjclose, Length: 926, dtype: float64"
            ]
          },
          "metadata": {
            "tags": []
          },
          "execution_count": 19
        }
      ]
    },
    {
      "cell_type": "code",
      "metadata": {
        "id": "kcy3Cqn9ipo9",
        "colab_type": "code",
        "colab": {}
      },
      "source": [
        "df_gld= get_data(\"GLD\",start_date = '2017-01-01',end_date='2020-09-05',\n",
        "                      index_as_date = True, interval=\"1d\") # Gold price\n",
        "df_dxy= get_data(\"UUP\",start_date = '2017-01-01',end_date='2020-09-05',\n",
        "                      index_as_date = True, interval=\"1d\") # Invesco DB US Dollar \n",
        "df_ief= get_data(\"IEF\",start_date = '2017-01-01',end_date='2020-09-05',\n",
        "                      index_as_date = True, interval=\"1d\") # 10 Year Treasury Bond \n",
        "df_gush= get_data(\"GUSH\",start_date = '2017-01-01',end_date='2020-09-05',\n",
        "                      index_as_date = True, interval=\"1d\") # Direxion Daily S&P Oil & Gas Exp. & Prod. Bull 2X Shares"
      ],
      "execution_count": 5,
      "outputs": []
    },
    {
      "cell_type": "code",
      "metadata": {
        "id": "2DwpfAoAirWh",
        "colab_type": "code",
        "colab": {
          "base_uri": "https://localhost:8080/",
          "height": 419
        },
        "outputId": "ffbc031a-184b-48f1-c199-2ea0af0afaaa"
      },
      "source": [
        "df_assets = pd.DataFrame({\n",
        "    'GUSH':df_gush['adjclose'],\n",
        "    'GLD': df_gld['adjclose'],\n",
        "    'UUP': df_dxy['adjclose'],\n",
        "    'IEF': df_ief['adjclose'],\n",
        "})\n",
        "df_assets"
      ],
      "execution_count": 6,
      "outputs": [
        {
          "output_type": "execute_result",
          "data": {
            "text/html": [
              "<div>\n",
              "<style scoped>\n",
              "    .dataframe tbody tr th:only-of-type {\n",
              "        vertical-align: middle;\n",
              "    }\n",
              "\n",
              "    .dataframe tbody tr th {\n",
              "        vertical-align: top;\n",
              "    }\n",
              "\n",
              "    .dataframe thead th {\n",
              "        text-align: right;\n",
              "    }\n",
              "</style>\n",
              "<table border=\"1\" class=\"dataframe\">\n",
              "  <thead>\n",
              "    <tr style=\"text-align: right;\">\n",
              "      <th></th>\n",
              "      <th>GUSH</th>\n",
              "      <th>GLD</th>\n",
              "      <th>UUP</th>\n",
              "      <th>IEF</th>\n",
              "    </tr>\n",
              "  </thead>\n",
              "  <tbody>\n",
              "    <tr>\n",
              "      <th>2017-01-03</th>\n",
              "      <td>21088.333984</td>\n",
              "      <td>110.470001</td>\n",
              "      <td>25.873072</td>\n",
              "      <td>97.661842</td>\n",
              "    </tr>\n",
              "    <tr>\n",
              "      <th>2017-01-04</th>\n",
              "      <td>21383.804688</td>\n",
              "      <td>110.860001</td>\n",
              "      <td>25.679264</td>\n",
              "      <td>97.773666</td>\n",
              "    </tr>\n",
              "    <tr>\n",
              "      <th>2017-01-05</th>\n",
              "      <td>21168.191406</td>\n",
              "      <td>112.580002</td>\n",
              "      <td>25.407936</td>\n",
              "      <td>98.407555</td>\n",
              "    </tr>\n",
              "    <tr>\n",
              "      <th>2017-01-06</th>\n",
              "      <td>20679.062500</td>\n",
              "      <td>111.750000</td>\n",
              "      <td>25.592051</td>\n",
              "      <td>97.960114</td>\n",
              "    </tr>\n",
              "    <tr>\n",
              "      <th>2017-01-09</th>\n",
              "      <td>19006.050781</td>\n",
              "      <td>112.669998</td>\n",
              "      <td>25.524220</td>\n",
              "      <td>98.332977</td>\n",
              "    </tr>\n",
              "    <tr>\n",
              "      <th>...</th>\n",
              "      <td>...</td>\n",
              "      <td>...</td>\n",
              "      <td>...</td>\n",
              "      <td>...</td>\n",
              "    </tr>\n",
              "    <tr>\n",
              "      <th>2020-08-31</th>\n",
              "      <td>32.180000</td>\n",
              "      <td>184.830002</td>\n",
              "      <td>24.900000</td>\n",
              "      <td>121.422005</td>\n",
              "    </tr>\n",
              "    <tr>\n",
              "      <th>2020-09-01</th>\n",
              "      <td>31.930000</td>\n",
              "      <td>185.050003</td>\n",
              "      <td>24.950001</td>\n",
              "      <td>121.820000</td>\n",
              "    </tr>\n",
              "    <tr>\n",
              "      <th>2020-09-02</th>\n",
              "      <td>30.260000</td>\n",
              "      <td>182.619995</td>\n",
              "      <td>25.040001</td>\n",
              "      <td>121.989998</td>\n",
              "    </tr>\n",
              "    <tr>\n",
              "      <th>2020-09-03</th>\n",
              "      <td>29.690001</td>\n",
              "      <td>181.139999</td>\n",
              "      <td>25.049999</td>\n",
              "      <td>122.150002</td>\n",
              "    </tr>\n",
              "    <tr>\n",
              "      <th>2020-09-04</th>\n",
              "      <td>29.780001</td>\n",
              "      <td>181.639999</td>\n",
              "      <td>25.090000</td>\n",
              "      <td>121.470001</td>\n",
              "    </tr>\n",
              "  </tbody>\n",
              "</table>\n",
              "<p>926 rows × 4 columns</p>\n",
              "</div>"
            ],
            "text/plain": [
              "                    GUSH         GLD        UUP         IEF\n",
              "2017-01-03  21088.333984  110.470001  25.873072   97.661842\n",
              "2017-01-04  21383.804688  110.860001  25.679264   97.773666\n",
              "2017-01-05  21168.191406  112.580002  25.407936   98.407555\n",
              "2017-01-06  20679.062500  111.750000  25.592051   97.960114\n",
              "2017-01-09  19006.050781  112.669998  25.524220   98.332977\n",
              "...                  ...         ...        ...         ...\n",
              "2020-08-31     32.180000  184.830002  24.900000  121.422005\n",
              "2020-09-01     31.930000  185.050003  24.950001  121.820000\n",
              "2020-09-02     30.260000  182.619995  25.040001  121.989998\n",
              "2020-09-03     29.690001  181.139999  25.049999  122.150002\n",
              "2020-09-04     29.780001  181.639999  25.090000  121.470001\n",
              "\n",
              "[926 rows x 4 columns]"
            ]
          },
          "metadata": {
            "tags": []
          },
          "execution_count": 6
        }
      ]
    },
    {
      "cell_type": "code",
      "metadata": {
        "id": "gXICEJCRjPCy",
        "colab_type": "code",
        "colab": {
          "base_uri": "https://localhost:8080/",
          "height": 268
        },
        "outputId": "f2f7dea2-113d-4d26-f2ee-4dea8f2d0771"
      },
      "source": [
        "df_assets.plot(subplots=True)\n",
        "plt.show()"
      ],
      "execution_count": 17,
      "outputs": [
        {
          "output_type": "display_data",
          "data": {
            "image/png": "[encoded data removed]",
            "text/plain": [
              "<Figure size 432x288 with 4 Axes>"
            ]
          },
          "metadata": {
            "tags": []
          }
        }
      ]
    },
    {
      "cell_type": "code",
      "metadata": {
        "id": "eCfwCc8niwtS",
        "colab_type": "code",
        "colab": {
          "base_uri": "https://localhost:8080/",
          "height": 419
        },
        "outputId": "c5dbb825-a42b-4ea0-9182-689690e8d07c"
      },
      "source": [
        "df_assets_1m = df_assets.pct_change(periods=20)\n",
        "df_assets_1m.columns = ['%s_1m'%col for col in df_assets.columns]\n",
        "df_assets_1m"
      ],
      "execution_count": 7,
      "outputs": [
        {
          "output_type": "execute_result",
          "data": {
            "text/html": [
              "<div>\n",
              "<style scoped>\n",
              "    .dataframe tbody tr th:only-of-type {\n",
              "        vertical-align: middle;\n",
              "    }\n",
              "\n",
              "    .dataframe tbody tr th {\n",
              "        vertical-align: top;\n",
              "    }\n",
              "\n",
              "    .dataframe thead th {\n",
              "        text-align: right;\n",
              "    }\n",
              "</style>\n",
              "<table border=\"1\" class=\"dataframe\">\n",
              "  <thead>\n",
              "    <tr style=\"text-align: right;\">\n",
              "      <th></th>\n",
              "      <th>GUSH_1m</th>\n",
              "      <th>GLD_1m</th>\n",
              "      <th>UUP_1m</th>\n",
              "      <th>IEF_1m</th>\n",
              "    </tr>\n",
              "  </thead>\n",
              "  <tbody>\n",
              "    <tr>\n",
              "      <th>2017-01-03</th>\n",
              "      <td>NaN</td>\n",
              "      <td>NaN</td>\n",
              "      <td>NaN</td>\n",
              "      <td>NaN</td>\n",
              "    </tr>\n",
              "    <tr>\n",
              "      <th>2017-01-04</th>\n",
              "      <td>NaN</td>\n",
              "      <td>NaN</td>\n",
              "      <td>NaN</td>\n",
              "      <td>NaN</td>\n",
              "    </tr>\n",
              "    <tr>\n",
              "      <th>2017-01-05</th>\n",
              "      <td>NaN</td>\n",
              "      <td>NaN</td>\n",
              "      <td>NaN</td>\n",
              "      <td>NaN</td>\n",
              "    </tr>\n",
              "    <tr>\n",
              "      <th>2017-01-06</th>\n",
              "      <td>NaN</td>\n",
              "      <td>NaN</td>\n",
              "      <td>NaN</td>\n",
              "      <td>NaN</td>\n",
              "    </tr>\n",
              "    <tr>\n",
              "      <th>2017-01-09</th>\n",
              "      <td>NaN</td>\n",
              "      <td>NaN</td>\n",
              "      <td>NaN</td>\n",
              "      <td>NaN</td>\n",
              "    </tr>\n",
              "    <tr>\n",
              "      <th>...</th>\n",
              "      <td>...</td>\n",
              "      <td>...</td>\n",
              "      <td>...</td>\n",
              "      <td>...</td>\n",
              "    </tr>\n",
              "    <tr>\n",
              "      <th>2020-08-31</th>\n",
              "      <td>-0.027501</td>\n",
              "      <td>-0.004363</td>\n",
              "      <td>-0.015032</td>\n",
              "      <td>-0.009214</td>\n",
              "    </tr>\n",
              "    <tr>\n",
              "      <th>2020-09-01</th>\n",
              "      <td>-0.070992</td>\n",
              "      <td>-0.023946</td>\n",
              "      <td>-0.009528</td>\n",
              "      <td>-0.009359</td>\n",
              "    </tr>\n",
              "    <tr>\n",
              "      <th>2020-09-02</th>\n",
              "      <td>-0.157338</td>\n",
              "      <td>-0.045623</td>\n",
              "      <td>-0.001595</td>\n",
              "      <td>-0.004660</td>\n",
              "    </tr>\n",
              "    <tr>\n",
              "      <th>2020-09-03</th>\n",
              "      <td>-0.143393</td>\n",
              "      <td>-0.065759</td>\n",
              "      <td>-0.001196</td>\n",
              "      <td>-0.004491</td>\n",
              "    </tr>\n",
              "    <tr>\n",
              "      <th>2020-09-04</th>\n",
              "      <td>-0.171627</td>\n",
              "      <td>-0.048058</td>\n",
              "      <td>-0.005549</td>\n",
              "      <td>-0.007932</td>\n",
              "    </tr>\n",
              "  </tbody>\n",
              "</table>\n",
              "<p>926 rows × 4 columns</p>\n",
              "</div>"
            ],
            "text/plain": [
              "             GUSH_1m    GLD_1m    UUP_1m    IEF_1m\n",
              "2017-01-03       NaN       NaN       NaN       NaN\n",
              "2017-01-04       NaN       NaN       NaN       NaN\n",
              "2017-01-05       NaN       NaN       NaN       NaN\n",
              "2017-01-06       NaN       NaN       NaN       NaN\n",
              "2017-01-09       NaN       NaN       NaN       NaN\n",
              "...              ...       ...       ...       ...\n",
              "2020-08-31 -0.027501 -0.004363 -0.015032 -0.009214\n",
              "2020-09-01 -0.070992 -0.023946 -0.009528 -0.009359\n",
              "2020-09-02 -0.157338 -0.045623 -0.001595 -0.004660\n",
              "2020-09-03 -0.143393 -0.065759 -0.001196 -0.004491\n",
              "2020-09-04 -0.171627 -0.048058 -0.005549 -0.007932\n",
              "\n",
              "[926 rows x 4 columns]"
            ]
          },
          "metadata": {
            "tags": []
          },
          "execution_count": 7
        }
      ]
    },
    {
      "cell_type": "code",
      "metadata": {
        "id": "k54asLtdjA1_",
        "colab_type": "code",
        "colab": {}
      },
      "source": [
        "df_assets_3m = df_assets.pct_change(periods=60)\n",
        "df_assets_3m.columns = ['%s_3m'%col for col in df_assets.columns]\n",
        "\n",
        "df_assets_6m = df_assets.pct_change(periods=120)\n",
        "df_assets_6m.columns = ['%s_6m'%col for col in df_assets.columns]"
      ],
      "execution_count": 8,
      "outputs": []
    },
    {
      "cell_type": "code",
      "metadata": {
        "id": "DQl-RdMYjFdd",
        "colab_type": "code",
        "colab": {
          "base_uri": "https://localhost:8080/",
          "height": 609
        },
        "outputId": "5bba3ad4-94f2-44a5-e240-669cd5765672"
      },
      "source": [
        "df_lagged = df_assets_1m.join(df_assets_3m)\\\n",
        "    .join(df_assets_6m)\\\n",
        "    .dropna()\n",
        "df_lagged"
      ],
      "execution_count": 9,
      "outputs": [
        {
          "output_type": "execute_result",
          "data": {
            "text/html": [
              "<div>\n",
              "<style scoped>\n",
              "    .dataframe tbody tr th:only-of-type {\n",
              "        vertical-align: middle;\n",
              "    }\n",
              "\n",
              "    .dataframe tbody tr th {\n",
              "        vertical-align: top;\n",
              "    }\n",
              "\n",
              "    .dataframe thead th {\n",
              "        text-align: right;\n",
              "    }\n",
              "</style>\n",
              "<table border=\"1\" class=\"dataframe\">\n",
              "  <thead>\n",
              "    <tr style=\"text-align: right;\">\n",
              "      <th></th>\n",
              "      <th>GUSH_1m</th>\n",
              "      <th>GLD_1m</th>\n",
              "      <th>UUP_1m</th>\n",
              "      <th>IEF_1m</th>\n",
              "      <th>GUSH_3m</th>\n",
              "      <th>GLD_3m</th>\n",
              "      <th>UUP_3m</th>\n",
              "      <th>IEF_3m</th>\n",
              "      <th>GUSH_6m</th>\n",
              "      <th>GLD_6m</th>\n",
              "      <th>UUP_6m</th>\n",
              "      <th>IEF_6m</th>\n",
              "    </tr>\n",
              "  </thead>\n",
              "  <tbody>\n",
              "    <tr>\n",
              "      <th>2017-06-26</th>\n",
              "      <td>-0.252611</td>\n",
              "      <td>-0.018085</td>\n",
              "      <td>0.000795</td>\n",
              "      <td>0.009861</td>\n",
              "      <td>-0.439513</td>\n",
              "      <td>-0.000929</td>\n",
              "      <td>-0.029661</td>\n",
              "      <td>0.028476</td>\n",
              "      <td>-0.634195</td>\n",
              "      <td>0.071422</td>\n",
              "      <td>-0.056554</td>\n",
              "      <td>0.037455</td>\n",
              "    </tr>\n",
              "    <tr>\n",
              "      <th>2017-06-27</th>\n",
              "      <td>-0.179704</td>\n",
              "      <td>-0.011070</td>\n",
              "      <td>-0.009149</td>\n",
              "      <td>0.002371</td>\n",
              "      <td>-0.457343</td>\n",
              "      <td>0.000758</td>\n",
              "      <td>-0.040077</td>\n",
              "      <td>0.021388</td>\n",
              "      <td>-0.637756</td>\n",
              "      <td>0.071712</td>\n",
              "      <td>-0.060000</td>\n",
              "      <td>0.031178</td>\n",
              "    </tr>\n",
              "    <tr>\n",
              "      <th>2017-06-28</th>\n",
              "      <td>-0.138596</td>\n",
              "      <td>-0.014260</td>\n",
              "      <td>-0.009968</td>\n",
              "      <td>0.000971</td>\n",
              "      <td>-0.443311</td>\n",
              "      <td>-0.003770</td>\n",
              "      <td>-0.043160</td>\n",
              "      <td>0.015438</td>\n",
              "      <td>-0.629539</td>\n",
              "      <td>0.056138</td>\n",
              "      <td>-0.053013</td>\n",
              "      <td>0.023582</td>\n",
              "    </tr>\n",
              "    <tr>\n",
              "      <th>2017-06-29</th>\n",
              "      <td>-0.131835</td>\n",
              "      <td>-0.019881</td>\n",
              "      <td>-0.015930</td>\n",
              "      <td>-0.002241</td>\n",
              "      <td>-0.444986</td>\n",
              "      <td>-0.010868</td>\n",
              "      <td>-0.048884</td>\n",
              "      <td>0.013085</td>\n",
              "      <td>-0.604557</td>\n",
              "      <td>0.058792</td>\n",
              "      <td>-0.064370</td>\n",
              "      <td>0.024422</td>\n",
              "    </tr>\n",
              "    <tr>\n",
              "      <th>2017-06-30</th>\n",
              "      <td>-0.060866</td>\n",
              "      <td>-0.029521</td>\n",
              "      <td>-0.009604</td>\n",
              "      <td>-0.008924</td>\n",
              "      <td>-0.392623</td>\n",
              "      <td>-0.013376</td>\n",
              "      <td>-0.046977</td>\n",
              "      <td>0.008808</td>\n",
              "      <td>-0.562395</td>\n",
              "      <td>0.047484</td>\n",
              "      <td>-0.060364</td>\n",
              "      <td>0.018150</td>\n",
              "    </tr>\n",
              "    <tr>\n",
              "      <th>...</th>\n",
              "      <td>...</td>\n",
              "      <td>...</td>\n",
              "      <td>...</td>\n",
              "      <td>...</td>\n",
              "      <td>...</td>\n",
              "      <td>...</td>\n",
              "      <td>...</td>\n",
              "      <td>...</td>\n",
              "      <td>...</td>\n",
              "      <td>...</td>\n",
              "      <td>...</td>\n",
              "      <td>...</td>\n",
              "    </tr>\n",
              "    <tr>\n",
              "      <th>2020-08-31</th>\n",
              "      <td>-0.027501</td>\n",
              "      <td>-0.004363</td>\n",
              "      <td>-0.015032</td>\n",
              "      <td>-0.009214</td>\n",
              "      <td>-0.395541</td>\n",
              "      <td>0.169736</td>\n",
              "      <td>-0.049981</td>\n",
              "      <td>0.016272</td>\n",
              "      <td>0.109911</td>\n",
              "      <td>0.200741</td>\n",
              "      <td>-0.048165</td>\n",
              "      <td>0.034337</td>\n",
              "    </tr>\n",
              "    <tr>\n",
              "      <th>2020-09-01</th>\n",
              "      <td>-0.070992</td>\n",
              "      <td>-0.023946</td>\n",
              "      <td>-0.009528</td>\n",
              "      <td>-0.009359</td>\n",
              "      <td>-0.523891</td>\n",
              "      <td>0.158590</td>\n",
              "      <td>-0.045524</td>\n",
              "      <td>0.018498</td>\n",
              "      <td>0.478582</td>\n",
              "      <td>0.252115</td>\n",
              "      <td>-0.056354</td>\n",
              "      <td>0.037200</td>\n",
              "    </tr>\n",
              "    <tr>\n",
              "      <th>2020-09-02</th>\n",
              "      <td>-0.157338</td>\n",
              "      <td>-0.045623</td>\n",
              "      <td>-0.001595</td>\n",
              "      <td>-0.004660</td>\n",
              "      <td>-0.470394</td>\n",
              "      <td>0.132457</td>\n",
              "      <td>-0.039140</td>\n",
              "      <td>0.016274</td>\n",
              "      <td>-0.022384</td>\n",
              "      <td>0.274567</td>\n",
              "      <td>-0.087464</td>\n",
              "      <td>0.045463</td>\n",
              "    </tr>\n",
              "    <tr>\n",
              "      <th>2020-09-03</th>\n",
              "      <td>-0.143393</td>\n",
              "      <td>-0.065759</td>\n",
              "      <td>-0.001196</td>\n",
              "      <td>-0.004491</td>\n",
              "      <td>-0.390834</td>\n",
              "      <td>0.107416</td>\n",
              "      <td>-0.033938</td>\n",
              "      <td>0.010052</td>\n",
              "      <td>0.217084</td>\n",
              "      <td>0.278876</td>\n",
              "      <td>-0.056852</td>\n",
              "      <td>0.019892</td>\n",
              "    </tr>\n",
              "    <tr>\n",
              "      <th>2020-09-04</th>\n",
              "      <td>-0.171627</td>\n",
              "      <td>-0.048058</td>\n",
              "      <td>-0.005549</td>\n",
              "      <td>-0.007932</td>\n",
              "      <td>-0.246855</td>\n",
              "      <td>0.118542</td>\n",
              "      <td>-0.042001</td>\n",
              "      <td>0.000880</td>\n",
              "      <td>0.405041</td>\n",
              "      <td>0.265255</td>\n",
              "      <td>-0.071772</td>\n",
              "      <td>0.040297</td>\n",
              "    </tr>\n",
              "  </tbody>\n",
              "</table>\n",
              "<p>806 rows × 12 columns</p>\n",
              "</div>"
            ],
            "text/plain": [
              "             GUSH_1m    GLD_1m    UUP_1m  ...    GLD_6m    UUP_6m    IEF_6m\n",
              "2017-06-26 -0.252611 -0.018085  0.000795  ...  0.071422 -0.056554  0.037455\n",
              "2017-06-27 -0.179704 -0.011070 -0.009149  ...  0.071712 -0.060000  0.031178\n",
              "2017-06-28 -0.138596 -0.014260 -0.009968  ...  0.056138 -0.053013  0.023582\n",
              "2017-06-29 -0.131835 -0.019881 -0.015930  ...  0.058792 -0.064370  0.024422\n",
              "2017-06-30 -0.060866 -0.029521 -0.009604  ...  0.047484 -0.060364  0.018150\n",
              "...              ...       ...       ...  ...       ...       ...       ...\n",
              "2020-08-31 -0.027501 -0.004363 -0.015032  ...  0.200741 -0.048165  0.034337\n",
              "2020-09-01 -0.070992 -0.023946 -0.009528  ...  0.252115 -0.056354  0.037200\n",
              "2020-09-02 -0.157338 -0.045623 -0.001595  ...  0.274567 -0.087464  0.045463\n",
              "2020-09-03 -0.143393 -0.065759 -0.001196  ...  0.278876 -0.056852  0.019892\n",
              "2020-09-04 -0.171627 -0.048058 -0.005549  ...  0.265255 -0.071772  0.040297\n",
              "\n",
              "[806 rows x 12 columns]"
            ]
          },
          "metadata": {
            "tags": []
          },
          "execution_count": 9
        }
      ]
    },
    {
      "cell_type": "code",
      "metadata": {
        "id": "uFu_PUb_jHyw",
        "colab_type": "code",
        "colab": {
          "base_uri": "https://localhost:8080/",
          "height": 34
        },
        "outputId": "3b44df62-9be4-4d3e-f46c-252d80fd092c"
      },
      "source": [
        "df_lagged.shape"
      ],
      "execution_count": 18,
      "outputs": [
        {
          "output_type": "execute_result",
          "data": {
            "text/plain": [
              "(806, 12)"
            ]
          },
          "metadata": {
            "tags": []
          },
          "execution_count": 18
        }
      ]
    },
    {
      "cell_type": "code",
      "metadata": {
        "id": "okOmnssJlU3h",
        "colab_type": "code",
        "colab": {}
      },
      "source": [
        ""
      ],
      "execution_count": null,
      "outputs": []
    }
  ]
}